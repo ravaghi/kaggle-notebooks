{
 "cells": [
  {
   "cell_type": "code",
   "execution_count": 1,
   "id": "8a4c27ea",
   "metadata": {
    "_cell_guid": "b1076dfc-b9ad-4769-8c92-a6c4dae69d19",
    "_uuid": "8f2839f25d086af736a60e9eeb907d3b93b6e0e5",
    "execution": {
     "iopub.execute_input": "2024-12-23T16:27:32.530778Z",
     "iopub.status.busy": "2024-12-23T16:27:32.530401Z",
     "iopub.status.idle": "2024-12-23T16:27:34.753425Z",
     "shell.execute_reply": "2024-12-23T16:27:34.752271Z"
    },
    "papermill": {
     "duration": 2.228407,
     "end_time": "2024-12-23T16:27:34.755352",
     "exception": false,
     "start_time": "2024-12-23T16:27:32.526945",
     "status": "completed"
    },
    "tags": []
   },
   "outputs": [],
   "source": [
    "from sklearn.utils.class_weight import compute_class_weight \n",
    "from sklearn.ensemble import RandomForestClassifier\n",
    "from sklearn.model_selection import StratifiedKFold\n",
    "from sklearn.metrics import cohen_kappa_score \n",
    "from sklearn.base import clone\n",
    "import pandas as pd\n",
    "import numpy as np"
   ]
  },
  {
   "cell_type": "code",
   "execution_count": 2,
   "id": "d80a62ad",
   "metadata": {
    "execution": {
     "iopub.execute_input": "2024-12-23T16:27:34.760942Z",
     "iopub.status.busy": "2024-12-23T16:27:34.760538Z",
     "iopub.status.idle": "2024-12-23T16:27:34.868674Z",
     "shell.execute_reply": "2024-12-23T16:27:34.867838Z"
    },
    "papermill": {
     "duration": 0.112405,
     "end_time": "2024-12-23T16:27:34.870319",
     "exception": false,
     "start_time": "2024-12-23T16:27:34.757914",
     "status": "completed"
    },
    "tags": []
   },
   "outputs": [],
   "source": [
    "train = pd.read_csv('/kaggle/input/ai-competition-africa/train.csv', index_col='id')\n",
    "test = pd.read_csv('/kaggle/input/ai-competition-africa/test.csv', index_col='id')\n",
    "\n",
    "train['quality'] = train['quality'].astype(int)\n",
    "train['quality'] = train['quality'].astype(int).apply(lambda x: x - 3)\n",
    "\n",
    "X, y = train.drop('quality', axis=1), train['quality']"
   ]
  },
  {
   "cell_type": "code",
   "execution_count": 3,
   "id": "4f3051a1",
   "metadata": {
    "execution": {
     "iopub.execute_input": "2024-12-23T16:27:34.875284Z",
     "iopub.status.busy": "2024-12-23T16:27:34.874994Z",
     "iopub.status.idle": "2024-12-23T16:27:34.885548Z",
     "shell.execute_reply": "2024-12-23T16:27:34.884838Z"
    },
    "papermill": {
     "duration": 0.014587,
     "end_time": "2024-12-23T16:27:34.887036",
     "exception": false,
     "start_time": "2024-12-23T16:27:34.872449",
     "status": "completed"
    },
    "tags": []
   },
   "outputs": [],
   "source": [
    "class_weights = compute_class_weight(class_weight='balanced', classes=np.unique(y), y=y)\n",
    "class_weights = {i: class_weights[i] for i in range(5)}"
   ]
  },
  {
   "cell_type": "code",
   "execution_count": 4,
   "id": "982f6692",
   "metadata": {
    "execution": {
     "iopub.execute_input": "2024-12-23T16:27:34.892002Z",
     "iopub.status.busy": "2024-12-23T16:27:34.891737Z",
     "iopub.status.idle": "2024-12-23T16:27:34.895324Z",
     "shell.execute_reply": "2024-12-23T16:27:34.894609Z"
    },
    "papermill": {
     "duration": 0.007574,
     "end_time": "2024-12-23T16:27:34.896718",
     "exception": false,
     "start_time": "2024-12-23T16:27:34.889144",
     "status": "completed"
    },
    "tags": []
   },
   "outputs": [],
   "source": [
    "model = RandomForestClassifier(min_samples_leaf=4, min_samples_split=9, n_estimators=1320, n_jobs=-1, random_state=42, class_weight=class_weights)"
   ]
  },
  {
   "cell_type": "code",
   "execution_count": 5,
   "id": "3c6a474e",
   "metadata": {
    "execution": {
     "iopub.execute_input": "2024-12-23T16:27:34.901550Z",
     "iopub.status.busy": "2024-12-23T16:27:34.901214Z",
     "iopub.status.idle": "2024-12-23T16:30:06.988046Z",
     "shell.execute_reply": "2024-12-23T16:30:06.986913Z"
    },
    "papermill": {
     "duration": 152.092496,
     "end_time": "2024-12-23T16:30:06.991222",
     "exception": false,
     "start_time": "2024-12-23T16:27:34.898726",
     "status": "completed"
    },
    "tags": []
   },
   "outputs": [
    {
     "name": "stdout",
     "output_type": "stream",
     "text": [
      "Fold 1 - QWK: 0.4434\n",
      "Fold 2 - QWK: 0.4114\n",
      "Fold 3 - QWK: 0.4030\n",
      "Fold 4 - QWK: 0.4441\n",
      "Fold 5 - QWK: 0.4345\n",
      "Fold 6 - QWK: 0.4124\n",
      "Fold 7 - QWK: 0.4163\n",
      "Fold 8 - QWK: 0.4149\n",
      "Fold 9 - QWK: 0.3780\n",
      "Fold 10 - QWK: 0.4085\n",
      "\n",
      "QWK: 0.416662 ± 0.018930\n"
     ]
    }
   ],
   "source": [
    "scores = []\n",
    "test_pred_probs = np.zeros((test.shape[0], len(np.unique(train['quality']))))\n",
    "skf = StratifiedKFold(n_splits=10, random_state=42, shuffle=True)\n",
    "for fold_idx, (train_index, val_index) in enumerate(skf.split(X, y)):\n",
    "    X_train, X_val = X.iloc[train_index], X.iloc[val_index]\n",
    "    y_train, y_val = y.iloc[train_index], y.iloc[val_index]\n",
    "    \n",
    "    model = clone(model).fit(X_train, y_train)\n",
    "    \n",
    "    y_pred_probs = model.predict_proba(X_val)\n",
    "    test_pred_probs += model.predict_proba(test) / 10\n",
    "    \n",
    "    score = cohen_kappa_score(y_val, np.argmax(y_pred_probs, axis=1), weights='quadratic')\n",
    "    scores.append(score)\n",
    "    \n",
    "    print(f'Fold {fold_idx + 1} - QWK: {score:.4f}')\n",
    "\n",
    "print(f'\\nQWK: {np.mean(scores):.6f} ± {np.std(scores):.6f}')"
   ]
  },
  {
   "cell_type": "code",
   "execution_count": 6,
   "id": "034cd685",
   "metadata": {
    "execution": {
     "iopub.execute_input": "2024-12-23T16:30:06.997594Z",
     "iopub.status.busy": "2024-12-23T16:30:06.997214Z",
     "iopub.status.idle": "2024-12-23T16:30:07.037243Z",
     "shell.execute_reply": "2024-12-23T16:30:07.036207Z"
    },
    "papermill": {
     "duration": 0.044944,
     "end_time": "2024-12-23T16:30:07.038966",
     "exception": false,
     "start_time": "2024-12-23T16:30:06.994022",
     "status": "completed"
    },
    "tags": []
   },
   "outputs": [
    {
     "data": {
      "text/html": [
       "<div>\n",
       "<style scoped>\n",
       "    .dataframe tbody tr th:only-of-type {\n",
       "        vertical-align: middle;\n",
       "    }\n",
       "\n",
       "    .dataframe tbody tr th {\n",
       "        vertical-align: top;\n",
       "    }\n",
       "\n",
       "    .dataframe thead th {\n",
       "        text-align: right;\n",
       "    }\n",
       "</style>\n",
       "<table border=\"1\" class=\"dataframe\">\n",
       "  <thead>\n",
       "    <tr style=\"text-align: right;\">\n",
       "      <th></th>\n",
       "      <th>quality</th>\n",
       "    </tr>\n",
       "    <tr>\n",
       "      <th>id</th>\n",
       "      <th></th>\n",
       "    </tr>\n",
       "  </thead>\n",
       "  <tbody>\n",
       "    <tr>\n",
       "      <th>15000</th>\n",
       "      <td>5</td>\n",
       "    </tr>\n",
       "    <tr>\n",
       "      <th>15001</th>\n",
       "      <td>5</td>\n",
       "    </tr>\n",
       "    <tr>\n",
       "      <th>15002</th>\n",
       "      <td>6</td>\n",
       "    </tr>\n",
       "    <tr>\n",
       "      <th>15003</th>\n",
       "      <td>6</td>\n",
       "    </tr>\n",
       "    <tr>\n",
       "      <th>15004</th>\n",
       "      <td>5</td>\n",
       "    </tr>\n",
       "  </tbody>\n",
       "</table>\n",
       "</div>"
      ],
      "text/plain": [
       "       quality\n",
       "id            \n",
       "15000        5\n",
       "15001        5\n",
       "15002        6\n",
       "15003        6\n",
       "15004        5"
      ]
     },
     "execution_count": 6,
     "metadata": {},
     "output_type": "execute_result"
    }
   ],
   "source": [
    "sub = pd.read_csv('/kaggle/input/ai-competition-africa/sample_submission.csv', index_col='id')\n",
    "sub['quality'] = np.argmax(test_pred_probs, axis=1) + 3\n",
    "sub.to_csv(f'sub_rf_{np.mean(scores):.4f}.csv')\n",
    "sub.head()"
   ]
  }
 ],
 "metadata": {
  "kaggle": {
   "accelerator": "none",
   "dataSources": [
    {
     "databundleVersionId": 9801937,
     "sourceId": 86445,
     "sourceType": "competition"
    }
   ],
   "dockerImageVersionId": 30823,
   "isGpuEnabled": false,
   "isInternetEnabled": true,
   "language": "python",
   "sourceType": "notebook"
  },
  "kernelspec": {
   "display_name": "Python 3",
   "language": "python",
   "name": "python3"
  },
  "language_info": {
   "codemirror_mode": {
    "name": "ipython",
    "version": 3
   },
   "file_extension": ".py",
   "mimetype": "text/x-python",
   "name": "python",
   "nbconvert_exporter": "python",
   "pygments_lexer": "ipython3",
   "version": "3.10.12"
  },
  "papermill": {
   "default_parameters": {},
   "duration": 157.463859,
   "end_time": "2024-12-23T16:30:07.862741",
   "environment_variables": {},
   "exception": null,
   "input_path": "__notebook__.ipynb",
   "output_path": "__notebook__.ipynb",
   "parameters": {},
   "start_time": "2024-12-23T16:27:30.398882",
   "version": "2.6.0"
  }
 },
 "nbformat": 4,
 "nbformat_minor": 5
}
