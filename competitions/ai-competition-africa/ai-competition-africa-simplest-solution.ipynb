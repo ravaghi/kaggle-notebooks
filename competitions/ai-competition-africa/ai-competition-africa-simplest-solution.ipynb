{
 "cells": [
  {
   "cell_type": "code",
   "execution_count": 1,
   "id": "36ba4ccd",
   "metadata": {
    "_cell_guid": "b1076dfc-b9ad-4769-8c92-a6c4dae69d19",
    "_uuid": "8f2839f25d086af736a60e9eeb907d3b93b6e0e5",
    "execution": {
     "iopub.execute_input": "2024-12-23T16:08:10.689098Z",
     "iopub.status.busy": "2024-12-23T16:08:10.688709Z",
     "iopub.status.idle": "2024-12-23T16:08:12.849253Z",
     "shell.execute_reply": "2024-12-23T16:08:12.848090Z"
    },
    "papermill": {
     "duration": 2.166775,
     "end_time": "2024-12-23T16:08:12.851048",
     "exception": false,
     "start_time": "2024-12-23T16:08:10.684273",
     "status": "completed"
    },
    "tags": []
   },
   "outputs": [],
   "source": [
    "from sklearn.utils.class_weight import compute_class_weight \n",
    "from sklearn.ensemble import RandomForestClassifier\n",
    "from sklearn.model_selection import RepeatedStratifiedKFold\n",
    "from sklearn.metrics import cohen_kappa_score \n",
    "from sklearn.base import clone\n",
    "import pandas as pd\n",
    "import numpy as np"
   ]
  },
  {
   "cell_type": "code",
   "execution_count": 2,
   "id": "cb7471f3",
   "metadata": {
    "execution": {
     "iopub.execute_input": "2024-12-23T16:08:12.856868Z",
     "iopub.status.busy": "2024-12-23T16:08:12.856455Z",
     "iopub.status.idle": "2024-12-23T16:08:12.955326Z",
     "shell.execute_reply": "2024-12-23T16:08:12.954635Z"
    },
    "papermill": {
     "duration": 0.10322,
     "end_time": "2024-12-23T16:08:12.956986",
     "exception": false,
     "start_time": "2024-12-23T16:08:12.853766",
     "status": "completed"
    },
    "tags": []
   },
   "outputs": [],
   "source": [
    "train = pd.read_csv('/kaggle/input/ai-competition-africa/train.csv', index_col='id')\n",
    "test = pd.read_csv('/kaggle/input/ai-competition-africa/test.csv', index_col='id')\n",
    "\n",
    "train['quality'] = train['quality'].astype(int)\n",
    "train['quality'] = train['quality'].astype(int).apply(lambda x: x - 3)\n",
    "\n",
    "X, y = train.drop('quality', axis=1), train['quality']"
   ]
  },
  {
   "cell_type": "code",
   "execution_count": 3,
   "id": "bca73a27",
   "metadata": {
    "execution": {
     "iopub.execute_input": "2024-12-23T16:08:12.962191Z",
     "iopub.status.busy": "2024-12-23T16:08:12.961892Z",
     "iopub.status.idle": "2024-12-23T16:08:12.971839Z",
     "shell.execute_reply": "2024-12-23T16:08:12.970926Z"
    },
    "papermill": {
     "duration": 0.014056,
     "end_time": "2024-12-23T16:08:12.973289",
     "exception": false,
     "start_time": "2024-12-23T16:08:12.959233",
     "status": "completed"
    },
    "tags": []
   },
   "outputs": [],
   "source": [
    "class_weights = compute_class_weight(class_weight='balanced', classes=np.unique(y), y=y)\n",
    "class_weights = {i: class_weights[i] for i in range(5)}"
   ]
  },
  {
   "cell_type": "code",
   "execution_count": 4,
   "id": "1d3dd5f5",
   "metadata": {
    "execution": {
     "iopub.execute_input": "2024-12-23T16:08:12.978266Z",
     "iopub.status.busy": "2024-12-23T16:08:12.977958Z",
     "iopub.status.idle": "2024-12-23T16:08:12.982420Z",
     "shell.execute_reply": "2024-12-23T16:08:12.981474Z"
    },
    "papermill": {
     "duration": 0.008818,
     "end_time": "2024-12-23T16:08:12.984189",
     "exception": false,
     "start_time": "2024-12-23T16:08:12.975371",
     "status": "completed"
    },
    "tags": []
   },
   "outputs": [],
   "source": [
    "model = RandomForestClassifier(min_samples_leaf=4, min_samples_split=9, n_estimators=1320, n_jobs=-1, random_state=1807, class_weight=class_weights)"
   ]
  },
  {
   "cell_type": "code",
   "execution_count": 5,
   "id": "4d1e2603",
   "metadata": {
    "execution": {
     "iopub.execute_input": "2024-12-23T16:08:12.989291Z",
     "iopub.status.busy": "2024-12-23T16:08:12.989041Z",
     "iopub.status.idle": "2024-12-23T16:15:26.879976Z",
     "shell.execute_reply": "2024-12-23T16:15:26.878972Z"
    },
    "papermill": {
     "duration": 433.897082,
     "end_time": "2024-12-23T16:15:26.883431",
     "exception": false,
     "start_time": "2024-12-23T16:08:12.986349",
     "status": "completed"
    },
    "tags": []
   },
   "outputs": [
    {
     "name": "stdout",
     "output_type": "stream",
     "text": [
      "QWK: 0.417567 ± 0.021855\n"
     ]
    }
   ],
   "source": [
    "scores = []\n",
    "test_pred_probs = np.zeros((test.shape[0], len(np.unique(train['quality']))))\n",
    "skf = RepeatedStratifiedKFold(n_splits=10, n_repeats=3, random_state=1807)\n",
    "for train_index, val_index in skf.split(X, y):\n",
    "    X_train, X_val = X.iloc[train_index], X.iloc[val_index]\n",
    "    y_train, y_val = y.iloc[train_index], y.iloc[val_index]\n",
    "    \n",
    "    model = clone(model).fit(X_train, y_train)\n",
    "    \n",
    "    y_pred_probs = model.predict_proba(X_val)\n",
    "    test_pred_probs += model.predict_proba(test) / 30\n",
    "    \n",
    "    score = cohen_kappa_score(y_val, np.argmax(y_pred_probs, axis=1), weights='quadratic')\n",
    "    scores.append(score)\n",
    "\n",
    "print(f'QWK: {np.mean(scores):.6f} ± {np.std(scores):.6f}')"
   ]
  },
  {
   "cell_type": "code",
   "execution_count": 6,
   "id": "91b9dc0b",
   "metadata": {
    "execution": {
     "iopub.execute_input": "2024-12-23T16:15:26.888727Z",
     "iopub.status.busy": "2024-12-23T16:15:26.888429Z",
     "iopub.status.idle": "2024-12-23T16:15:26.932260Z",
     "shell.execute_reply": "2024-12-23T16:15:26.931217Z"
    },
    "papermill": {
     "duration": 0.048039,
     "end_time": "2024-12-23T16:15:26.933734",
     "exception": false,
     "start_time": "2024-12-23T16:15:26.885695",
     "status": "completed"
    },
    "tags": []
   },
   "outputs": [
    {
     "data": {
      "text/html": [
       "<div>\n",
       "<style scoped>\n",
       "    .dataframe tbody tr th:only-of-type {\n",
       "        vertical-align: middle;\n",
       "    }\n",
       "\n",
       "    .dataframe tbody tr th {\n",
       "        vertical-align: top;\n",
       "    }\n",
       "\n",
       "    .dataframe thead th {\n",
       "        text-align: right;\n",
       "    }\n",
       "</style>\n",
       "<table border=\"1\" class=\"dataframe\">\n",
       "  <thead>\n",
       "    <tr style=\"text-align: right;\">\n",
       "      <th></th>\n",
       "      <th>quality</th>\n",
       "    </tr>\n",
       "    <tr>\n",
       "      <th>id</th>\n",
       "      <th></th>\n",
       "    </tr>\n",
       "  </thead>\n",
       "  <tbody>\n",
       "    <tr>\n",
       "      <th>15000</th>\n",
       "      <td>5</td>\n",
       "    </tr>\n",
       "    <tr>\n",
       "      <th>15001</th>\n",
       "      <td>5</td>\n",
       "    </tr>\n",
       "    <tr>\n",
       "      <th>15002</th>\n",
       "      <td>6</td>\n",
       "    </tr>\n",
       "    <tr>\n",
       "      <th>15003</th>\n",
       "      <td>6</td>\n",
       "    </tr>\n",
       "    <tr>\n",
       "      <th>15004</th>\n",
       "      <td>5</td>\n",
       "    </tr>\n",
       "  </tbody>\n",
       "</table>\n",
       "</div>"
      ],
      "text/plain": [
       "       quality\n",
       "id            \n",
       "15000        5\n",
       "15001        5\n",
       "15002        6\n",
       "15003        6\n",
       "15004        5"
      ]
     },
     "execution_count": 6,
     "metadata": {},
     "output_type": "execute_result"
    }
   ],
   "source": [
    "sub = pd.read_csv('/kaggle/input/ai-competition-africa/sample_submission.csv', index_col='id')\n",
    "sub['quality'] = np.argmax(test_pred_probs, axis=1) + 3\n",
    "sub.to_csv(f'sub_rf_{np.mean(scores):.4f}.csv')\n",
    "sub.head()"
   ]
  }
 ],
 "metadata": {
  "kaggle": {
   "accelerator": "none",
   "dataSources": [
    {
     "databundleVersionId": 9801937,
     "sourceId": 86445,
     "sourceType": "competition"
    }
   ],
   "dockerImageVersionId": 30823,
   "isGpuEnabled": false,
   "isInternetEnabled": true,
   "language": "python",
   "sourceType": "notebook"
  },
  "kernelspec": {
   "display_name": "Python 3",
   "language": "python",
   "name": "python3"
  },
  "language_info": {
   "codemirror_mode": {
    "name": "ipython",
    "version": 3
   },
   "file_extension": ".py",
   "mimetype": "text/x-python",
   "name": "python",
   "nbconvert_exporter": "python",
   "pygments_lexer": "ipython3",
   "version": "3.10.12"
  },
  "papermill": {
   "default_parameters": {},
   "duration": 439.166442,
   "end_time": "2024-12-23T16:15:27.654932",
   "environment_variables": {},
   "exception": null,
   "input_path": "__notebook__.ipynb",
   "output_path": "__notebook__.ipynb",
   "parameters": {},
   "start_time": "2024-12-23T16:08:08.488490",
   "version": "2.6.0"
  }
 },
 "nbformat": 4,
 "nbformat_minor": 5
}
