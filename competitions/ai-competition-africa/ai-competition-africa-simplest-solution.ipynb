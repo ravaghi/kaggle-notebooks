{
 "cells": [
  {
   "cell_type": "code",
   "execution_count": 1,
   "id": "bbec1e9e",
   "metadata": {
    "_cell_guid": "b1076dfc-b9ad-4769-8c92-a6c4dae69d19",
    "_uuid": "8f2839f25d086af736a60e9eeb907d3b93b6e0e5",
    "execution": {
     "iopub.execute_input": "2024-12-23T11:28:43.844303Z",
     "iopub.status.busy": "2024-12-23T11:28:43.843956Z",
     "iopub.status.idle": "2024-12-23T11:28:45.706975Z",
     "shell.execute_reply": "2024-12-23T11:28:45.706192Z"
    },
    "papermill": {
     "duration": 1.867872,
     "end_time": "2024-12-23T11:28:45.708452",
     "exception": false,
     "start_time": "2024-12-23T11:28:43.840580",
     "status": "completed"
    },
    "tags": []
   },
   "outputs": [],
   "source": [
    "from sklearn.utils.class_weight import compute_class_weight \n",
    "from sklearn.ensemble import RandomForestClassifier\n",
    "from sklearn.model_selection import StratifiedKFold\n",
    "from sklearn.metrics import cohen_kappa_score \n",
    "from sklearn.base import clone\n",
    "import pandas as pd\n",
    "import numpy as np"
   ]
  },
  {
   "cell_type": "code",
   "execution_count": 2,
   "id": "3b7de610",
   "metadata": {
    "execution": {
     "iopub.execute_input": "2024-12-23T11:28:45.712912Z",
     "iopub.status.busy": "2024-12-23T11:28:45.712580Z",
     "iopub.status.idle": "2024-12-23T11:28:45.795386Z",
     "shell.execute_reply": "2024-12-23T11:28:45.794537Z"
    },
    "papermill": {
     "duration": 0.086102,
     "end_time": "2024-12-23T11:28:45.796673",
     "exception": false,
     "start_time": "2024-12-23T11:28:45.710571",
     "status": "completed"
    },
    "tags": []
   },
   "outputs": [],
   "source": [
    "train = pd.read_csv('/kaggle/input/ai-competition-africa/train.csv', index_col='id')\n",
    "test = pd.read_csv('/kaggle/input/ai-competition-africa/test.csv', index_col='id')\n",
    "\n",
    "train['quality'] = train['quality'].astype(int)\n",
    "train['quality'] = train['quality'].astype(int).apply(lambda x: x - 3)\n",
    "\n",
    "X, y = train.drop('quality', axis=1), train['quality']"
   ]
  },
  {
   "cell_type": "code",
   "execution_count": 3,
   "id": "2ae918f4",
   "metadata": {
    "execution": {
     "iopub.execute_input": "2024-12-23T11:28:45.800646Z",
     "iopub.status.busy": "2024-12-23T11:28:45.800397Z",
     "iopub.status.idle": "2024-12-23T11:28:45.809842Z",
     "shell.execute_reply": "2024-12-23T11:28:45.809189Z"
    },
    "papermill": {
     "duration": 0.012706,
     "end_time": "2024-12-23T11:28:45.811026",
     "exception": false,
     "start_time": "2024-12-23T11:28:45.798320",
     "status": "completed"
    },
    "tags": []
   },
   "outputs": [],
   "source": [
    "classes = np.unique(y)\n",
    "class_weights = compute_class_weight(class_weight='balanced', classes=classes, y=y)\n",
    "class_weight_dict = dict(zip(classes, class_weights))"
   ]
  },
  {
   "cell_type": "code",
   "execution_count": 4,
   "id": "de85769f",
   "metadata": {
    "execution": {
     "iopub.execute_input": "2024-12-23T11:28:45.815247Z",
     "iopub.status.busy": "2024-12-23T11:28:45.815016Z",
     "iopub.status.idle": "2024-12-23T11:28:45.818319Z",
     "shell.execute_reply": "2024-12-23T11:28:45.817721Z"
    },
    "papermill": {
     "duration": 0.006784,
     "end_time": "2024-12-23T11:28:45.819497",
     "exception": false,
     "start_time": "2024-12-23T11:28:45.812713",
     "status": "completed"
    },
    "tags": []
   },
   "outputs": [],
   "source": [
    "model = RandomForestClassifier(min_samples_leaf=4, min_samples_split=9, n_estimators=1320, n_jobs=-1, random_state=1807, class_weight=class_weight_dict)"
   ]
  },
  {
   "cell_type": "code",
   "execution_count": 5,
   "id": "6c561d8f",
   "metadata": {
    "execution": {
     "iopub.execute_input": "2024-12-23T11:28:45.823372Z",
     "iopub.status.busy": "2024-12-23T11:28:45.823170Z",
     "iopub.status.idle": "2024-12-23T11:30:51.158769Z",
     "shell.execute_reply": "2024-12-23T11:30:51.157695Z"
    },
    "papermill": {
     "duration": 125.339057,
     "end_time": "2024-12-23T11:30:51.160160",
     "exception": false,
     "start_time": "2024-12-23T11:28:45.821103",
     "status": "completed"
    },
    "tags": []
   },
   "outputs": [
    {
     "name": "stdout",
     "output_type": "stream",
     "text": [
      "Fold 1 - QWK: 0.4081\n",
      "Fold 2 - QWK: 0.4017\n",
      "Fold 3 - QWK: 0.3979\n",
      "Fold 4 - QWK: 0.4302\n",
      "Fold 5 - QWK: 0.4358\n",
      "Fold 6 - QWK: 0.4229\n",
      "Fold 7 - QWK: 0.4523\n",
      "Fold 8 - QWK: 0.4251\n",
      "Fold 9 - QWK: 0.4304\n",
      "Fold 10 - QWK: 0.4210\n",
      "\n",
      "QWK: 0.422525 ± 0.015634\n"
     ]
    }
   ],
   "source": [
    "scores = []\n",
    "test_pred_probs = np.zeros((test.shape[0], len(np.unique(train['quality']))))\n",
    "skf = StratifiedKFold(n_splits=10, random_state=1807, shuffle=True)\n",
    "for fold_idx, (train_index, val_index) in enumerate(skf.split(X, y)):\n",
    "    X_train, X_val = X.iloc[train_index], X.iloc[val_index]\n",
    "    y_train, y_val = y.iloc[train_index], y.iloc[val_index]\n",
    "    \n",
    "    model = clone(model).fit(X_train, y_train)\n",
    "    \n",
    "    y_pred_probs = model.predict_proba(X_val)\n",
    "    test_pred_probs += model.predict_proba(test) / 10\n",
    "    \n",
    "    score = cohen_kappa_score(y_val, np.argmax(y_pred_probs, axis=1), weights='quadratic')\n",
    "    scores.append(score)\n",
    "    \n",
    "    print(f'Fold {fold_idx + 1} - QWK: {score:.4f}')\n",
    "\n",
    "print(f'\\nQWK: {np.mean(scores):.6f} ± {np.std(scores):.6f}')"
   ]
  },
  {
   "cell_type": "code",
   "execution_count": 6,
   "id": "0670bfaf",
   "metadata": {
    "execution": {
     "iopub.execute_input": "2024-12-23T11:30:51.165404Z",
     "iopub.status.busy": "2024-12-23T11:30:51.165150Z",
     "iopub.status.idle": "2024-12-23T11:30:51.194643Z",
     "shell.execute_reply": "2024-12-23T11:30:51.193856Z"
    },
    "papermill": {
     "duration": 0.033542,
     "end_time": "2024-12-23T11:30:51.196070",
     "exception": false,
     "start_time": "2024-12-23T11:30:51.162528",
     "status": "completed"
    },
    "tags": []
   },
   "outputs": [
    {
     "data": {
      "text/html": [
       "<div>\n",
       "<style scoped>\n",
       "    .dataframe tbody tr th:only-of-type {\n",
       "        vertical-align: middle;\n",
       "    }\n",
       "\n",
       "    .dataframe tbody tr th {\n",
       "        vertical-align: top;\n",
       "    }\n",
       "\n",
       "    .dataframe thead th {\n",
       "        text-align: right;\n",
       "    }\n",
       "</style>\n",
       "<table border=\"1\" class=\"dataframe\">\n",
       "  <thead>\n",
       "    <tr style=\"text-align: right;\">\n",
       "      <th></th>\n",
       "      <th>quality</th>\n",
       "    </tr>\n",
       "    <tr>\n",
       "      <th>id</th>\n",
       "      <th></th>\n",
       "    </tr>\n",
       "  </thead>\n",
       "  <tbody>\n",
       "    <tr>\n",
       "      <th>15000</th>\n",
       "      <td>5</td>\n",
       "    </tr>\n",
       "    <tr>\n",
       "      <th>15001</th>\n",
       "      <td>5</td>\n",
       "    </tr>\n",
       "    <tr>\n",
       "      <th>15002</th>\n",
       "      <td>6</td>\n",
       "    </tr>\n",
       "    <tr>\n",
       "      <th>15003</th>\n",
       "      <td>6</td>\n",
       "    </tr>\n",
       "    <tr>\n",
       "      <th>15004</th>\n",
       "      <td>5</td>\n",
       "    </tr>\n",
       "  </tbody>\n",
       "</table>\n",
       "</div>"
      ],
      "text/plain": [
       "       quality\n",
       "id            \n",
       "15000        5\n",
       "15001        5\n",
       "15002        6\n",
       "15003        6\n",
       "15004        5"
      ]
     },
     "execution_count": 6,
     "metadata": {},
     "output_type": "execute_result"
    }
   ],
   "source": [
    "sub = pd.read_csv('/kaggle/input/ai-competition-africa/sample_submission.csv', index_col='id')\n",
    "sub['quality'] = np.argmax(test_pred_probs, axis=1) + 3\n",
    "sub.to_csv(f'sub_rf_{np.mean(scores):.4f}.csv')\n",
    "sub.head()"
   ]
  }
 ],
 "metadata": {
  "kaggle": {
   "accelerator": "gpu",
   "dataSources": [
    {
     "databundleVersionId": 9801937,
     "sourceId": 86445,
     "sourceType": "competition"
    }
   ],
   "dockerImageVersionId": 30823,
   "isGpuEnabled": true,
   "isInternetEnabled": true,
   "language": "python",
   "sourceType": "notebook"
  },
  "kernelspec": {
   "display_name": "Python 3",
   "language": "python",
   "name": "python3"
  },
  "language_info": {
   "codemirror_mode": {
    "name": "ipython",
    "version": 3
   },
   "file_extension": ".py",
   "mimetype": "text/x-python",
   "name": "python",
   "nbconvert_exporter": "python",
   "pygments_lexer": "ipython3",
   "version": "3.10.12"
  },
  "papermill": {
   "default_parameters": {},
   "duration": 130.107672,
   "end_time": "2024-12-23T11:30:51.815816",
   "environment_variables": {},
   "exception": null,
   "input_path": "__notebook__.ipynb",
   "output_path": "__notebook__.ipynb",
   "parameters": {},
   "start_time": "2024-12-23T11:28:41.708144",
   "version": "2.6.0"
  }
 },
 "nbformat": 4,
 "nbformat_minor": 5
}
