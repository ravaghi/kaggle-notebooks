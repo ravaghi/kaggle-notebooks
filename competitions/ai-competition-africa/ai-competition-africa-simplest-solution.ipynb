{
 "cells": [
  {
   "cell_type": "code",
   "execution_count": 1,
   "id": "6d9c9407",
   "metadata": {
    "_cell_guid": "b1076dfc-b9ad-4769-8c92-a6c4dae69d19",
    "_uuid": "8f2839f25d086af736a60e9eeb907d3b93b6e0e5",
    "execution": {
     "iopub.execute_input": "2024-12-23T11:37:27.715778Z",
     "iopub.status.busy": "2024-12-23T11:37:27.715434Z",
     "iopub.status.idle": "2024-12-23T11:37:29.666060Z",
     "shell.execute_reply": "2024-12-23T11:37:29.665375Z"
    },
    "papermill": {
     "duration": 1.955743,
     "end_time": "2024-12-23T11:37:29.667585",
     "exception": false,
     "start_time": "2024-12-23T11:37:27.711842",
     "status": "completed"
    },
    "tags": []
   },
   "outputs": [],
   "source": [
    "from sklearn.utils.class_weight import compute_class_weight \n",
    "from sklearn.ensemble import RandomForestClassifier\n",
    "from sklearn.model_selection import StratifiedKFold\n",
    "from sklearn.metrics import cohen_kappa_score \n",
    "from sklearn.base import clone\n",
    "import pandas as pd\n",
    "import numpy as np"
   ]
  },
  {
   "cell_type": "code",
   "execution_count": 2,
   "id": "5e405e06",
   "metadata": {
    "execution": {
     "iopub.execute_input": "2024-12-23T11:37:29.672122Z",
     "iopub.status.busy": "2024-12-23T11:37:29.671830Z",
     "iopub.status.idle": "2024-12-23T11:37:29.756049Z",
     "shell.execute_reply": "2024-12-23T11:37:29.755433Z"
    },
    "papermill": {
     "duration": 0.087652,
     "end_time": "2024-12-23T11:37:29.757372",
     "exception": false,
     "start_time": "2024-12-23T11:37:29.669720",
     "status": "completed"
    },
    "tags": []
   },
   "outputs": [],
   "source": [
    "train = pd.read_csv('/kaggle/input/ai-competition-africa/train.csv', index_col='id')\n",
    "test = pd.read_csv('/kaggle/input/ai-competition-africa/test.csv', index_col='id')\n",
    "\n",
    "train['quality'] = train['quality'].astype(int)\n",
    "train['quality'] = train['quality'].astype(int).apply(lambda x: x - 3)\n",
    "\n",
    "X, y = train.drop('quality', axis=1), train['quality']"
   ]
  },
  {
   "cell_type": "code",
   "execution_count": 3,
   "id": "03f24b54",
   "metadata": {
    "execution": {
     "iopub.execute_input": "2024-12-23T11:37:29.761301Z",
     "iopub.status.busy": "2024-12-23T11:37:29.761087Z",
     "iopub.status.idle": "2024-12-23T11:37:29.770678Z",
     "shell.execute_reply": "2024-12-23T11:37:29.770078Z"
    },
    "papermill": {
     "duration": 0.012692,
     "end_time": "2024-12-23T11:37:29.771771",
     "exception": false,
     "start_time": "2024-12-23T11:37:29.759079",
     "status": "completed"
    },
    "tags": []
   },
   "outputs": [],
   "source": [
    "class_weights = compute_class_weight(class_weight='balanced', classes=np.unique(y), y=y)\n",
    "class_weights = {i: class_weights[i] for i in range(5)}"
   ]
  },
  {
   "cell_type": "code",
   "execution_count": 4,
   "id": "2e56e106",
   "metadata": {
    "execution": {
     "iopub.execute_input": "2024-12-23T11:37:29.775380Z",
     "iopub.status.busy": "2024-12-23T11:37:29.775178Z",
     "iopub.status.idle": "2024-12-23T11:37:29.778277Z",
     "shell.execute_reply": "2024-12-23T11:37:29.777688Z"
    },
    "papermill": {
     "duration": 0.006187,
     "end_time": "2024-12-23T11:37:29.779447",
     "exception": false,
     "start_time": "2024-12-23T11:37:29.773260",
     "status": "completed"
    },
    "tags": []
   },
   "outputs": [],
   "source": [
    "model = RandomForestClassifier(min_samples_leaf=6, min_samples_split=3, n_estimators=710, n_jobs=-1, random_state=1807, class_weight=class_weights)"
   ]
  },
  {
   "cell_type": "code",
   "execution_count": 5,
   "id": "2174b200",
   "metadata": {
    "execution": {
     "iopub.execute_input": "2024-12-23T11:37:29.783235Z",
     "iopub.status.busy": "2024-12-23T11:37:29.783038Z",
     "iopub.status.idle": "2024-12-23T11:38:33.108259Z",
     "shell.execute_reply": "2024-12-23T11:38:33.107318Z"
    },
    "papermill": {
     "duration": 63.330123,
     "end_time": "2024-12-23T11:38:33.111104",
     "exception": false,
     "start_time": "2024-12-23T11:37:29.780981",
     "status": "completed"
    },
    "tags": []
   },
   "outputs": [
    {
     "name": "stdout",
     "output_type": "stream",
     "text": [
      "Fold 1 - QWK: 0.4071\n",
      "Fold 2 - QWK: 0.3983\n",
      "Fold 3 - QWK: 0.3982\n",
      "Fold 4 - QWK: 0.4329\n",
      "Fold 5 - QWK: 0.4391\n",
      "Fold 6 - QWK: 0.4240\n",
      "Fold 7 - QWK: 0.4521\n",
      "Fold 8 - QWK: 0.4262\n",
      "Fold 9 - QWK: 0.4291\n",
      "Fold 10 - QWK: 0.4223\n",
      "\n",
      "QWK: 0.422929 ± 0.016511\n"
     ]
    }
   ],
   "source": [
    "scores = []\n",
    "test_pred_probs = np.zeros((test.shape[0], len(np.unique(train['quality']))))\n",
    "skf = StratifiedKFold(n_splits=10, random_state=1807, shuffle=True)\n",
    "for fold_idx, (train_index, val_index) in enumerate(skf.split(X, y)):\n",
    "    X_train, X_val = X.iloc[train_index], X.iloc[val_index]\n",
    "    y_train, y_val = y.iloc[train_index], y.iloc[val_index]\n",
    "    \n",
    "    model = clone(model).fit(X_train, y_train)\n",
    "    \n",
    "    y_pred_probs = model.predict_proba(X_val)\n",
    "    test_pred_probs += model.predict_proba(test) / 10\n",
    "    \n",
    "    score = cohen_kappa_score(y_val, np.argmax(y_pred_probs, axis=1), weights='quadratic')\n",
    "    scores.append(score)\n",
    "    \n",
    "    print(f'Fold {fold_idx + 1} - QWK: {score:.4f}')\n",
    "\n",
    "print(f'\\nQWK: {np.mean(scores):.6f} ± {np.std(scores):.6f}')"
   ]
  },
  {
   "cell_type": "code",
   "execution_count": 6,
   "id": "1b4aa038",
   "metadata": {
    "execution": {
     "iopub.execute_input": "2024-12-23T11:38:33.116050Z",
     "iopub.status.busy": "2024-12-23T11:38:33.115827Z",
     "iopub.status.idle": "2024-12-23T11:38:33.143006Z",
     "shell.execute_reply": "2024-12-23T11:38:33.142226Z"
    },
    "papermill": {
     "duration": 0.030953,
     "end_time": "2024-12-23T11:38:33.144203",
     "exception": false,
     "start_time": "2024-12-23T11:38:33.113250",
     "status": "completed"
    },
    "tags": []
   },
   "outputs": [
    {
     "data": {
      "text/html": [
       "<div>\n",
       "<style scoped>\n",
       "    .dataframe tbody tr th:only-of-type {\n",
       "        vertical-align: middle;\n",
       "    }\n",
       "\n",
       "    .dataframe tbody tr th {\n",
       "        vertical-align: top;\n",
       "    }\n",
       "\n",
       "    .dataframe thead th {\n",
       "        text-align: right;\n",
       "    }\n",
       "</style>\n",
       "<table border=\"1\" class=\"dataframe\">\n",
       "  <thead>\n",
       "    <tr style=\"text-align: right;\">\n",
       "      <th></th>\n",
       "      <th>quality</th>\n",
       "    </tr>\n",
       "    <tr>\n",
       "      <th>id</th>\n",
       "      <th></th>\n",
       "    </tr>\n",
       "  </thead>\n",
       "  <tbody>\n",
       "    <tr>\n",
       "      <th>15000</th>\n",
       "      <td>5</td>\n",
       "    </tr>\n",
       "    <tr>\n",
       "      <th>15001</th>\n",
       "      <td>5</td>\n",
       "    </tr>\n",
       "    <tr>\n",
       "      <th>15002</th>\n",
       "      <td>6</td>\n",
       "    </tr>\n",
       "    <tr>\n",
       "      <th>15003</th>\n",
       "      <td>6</td>\n",
       "    </tr>\n",
       "    <tr>\n",
       "      <th>15004</th>\n",
       "      <td>5</td>\n",
       "    </tr>\n",
       "  </tbody>\n",
       "</table>\n",
       "</div>"
      ],
      "text/plain": [
       "       quality\n",
       "id            \n",
       "15000        5\n",
       "15001        5\n",
       "15002        6\n",
       "15003        6\n",
       "15004        5"
      ]
     },
     "execution_count": 6,
     "metadata": {},
     "output_type": "execute_result"
    }
   ],
   "source": [
    "sub = pd.read_csv('/kaggle/input/ai-competition-africa/sample_submission.csv', index_col='id')\n",
    "sub['quality'] = np.argmax(test_pred_probs, axis=1) + 3\n",
    "sub.to_csv(f'sub_rf_{np.mean(scores):.4f}.csv')\n",
    "sub.head()"
   ]
  }
 ],
 "metadata": {
  "kaggle": {
   "accelerator": "gpu",
   "dataSources": [
    {
     "databundleVersionId": 9801937,
     "sourceId": 86445,
     "sourceType": "competition"
    }
   ],
   "dockerImageVersionId": 30823,
   "isGpuEnabled": true,
   "isInternetEnabled": true,
   "language": "python",
   "sourceType": "notebook"
  },
  "kernelspec": {
   "display_name": "Python 3",
   "language": "python",
   "name": "python3"
  },
  "language_info": {
   "codemirror_mode": {
    "name": "ipython",
    "version": 3
   },
   "file_extension": ".py",
   "mimetype": "text/x-python",
   "name": "python",
   "nbconvert_exporter": "python",
   "pygments_lexer": "ipython3",
   "version": "3.10.12"
  },
  "papermill": {
   "default_parameters": {},
   "duration": 68.042241,
   "end_time": "2024-12-23T11:38:33.663808",
   "environment_variables": {},
   "exception": null,
   "input_path": "__notebook__.ipynb",
   "output_path": "__notebook__.ipynb",
   "parameters": {},
   "start_time": "2024-12-23T11:37:25.621567",
   "version": "2.6.0"
  }
 },
 "nbformat": 4,
 "nbformat_minor": 5
}
