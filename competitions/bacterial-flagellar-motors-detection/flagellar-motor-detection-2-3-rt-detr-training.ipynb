{
 "cells": [
  {
   "cell_type": "code",
   "execution_count": 1,
   "id": "2688ea08",
   "metadata": {
    "_kg_hide-output": true,
    "execution": {
     "iopub.execute_input": "2025-06-07T02:54:47.353232Z",
     "iopub.status.busy": "2025-06-07T02:54:47.352910Z",
     "iopub.status.idle": "2025-06-07T02:55:03.713246Z",
     "shell.execute_reply": "2025-06-07T02:55:03.712401Z"
    },
    "papermill": {
     "duration": 16.368615,
     "end_time": "2025-06-07T02:55:03.714863",
     "exception": false,
     "start_time": "2025-06-07T02:54:47.346248",
     "status": "completed"
    },
    "scrolled": true,
    "tags": []
   },
   "outputs": [
    {
     "name": "stdout",
     "output_type": "stream",
     "text": [
      "Collecting ultralytics\r\n",
      "  Downloading ultralytics-8.3.151-py3-none-any.whl.metadata (37 kB)\r\n",
      "Requirement already satisfied: albumentations in /usr/local/lib/python3.10/dist-packages (1.4.20)\r\n",
      "Collecting albumentations\r\n",
      "  Downloading albumentations-2.0.8-py3-none-any.whl.metadata (43 kB)\r\n",
      "\u001b[2K     \u001b[90m━━━━━━━━━━━━━━━━━━━━━━━━━━━━━━━━━━━━━━━━\u001b[0m \u001b[32m43.1/43.1 kB\u001b[0m \u001b[31m1.2 MB/s\u001b[0m eta \u001b[36m0:00:00\u001b[0m\r\n",
      "\u001b[?25hCollecting onnxslim\r\n",
      "  Downloading onnxslim-0.1.56-py3-none-any.whl.metadata (5.5 kB)\r\n",
      "Collecting onnxruntime-gpu\r\n",
      "  Downloading onnxruntime_gpu-1.22.0-cp310-cp310-manylinux_2_27_x86_64.manylinux_2_28_x86_64.whl.metadata (4.9 kB)\r\n",
      "Requirement already satisfied: numpy>=1.23.0 in /usr/local/lib/python3.10/dist-packages (from ultralytics) (1.26.4)\r\n",
      "Requirement already satisfied: matplotlib>=3.3.0 in /usr/local/lib/python3.10/dist-packages (from ultralytics) (3.7.5)\r\n",
      "Requirement already satisfied: opencv-python>=4.6.0 in /usr/local/lib/python3.10/dist-packages (from ultralytics) (4.10.0.84)\r\n",
      "Requirement already satisfied: pillow>=7.1.2 in /usr/local/lib/python3.10/dist-packages (from ultralytics) (11.0.0)\r\n",
      "Requirement already satisfied: pyyaml>=5.3.1 in /usr/local/lib/python3.10/dist-packages (from ultralytics) (6.0.2)\r\n",
      "Requirement already satisfied: requests>=2.23.0 in /usr/local/lib/python3.10/dist-packages (from ultralytics) (2.32.3)\r\n",
      "Requirement already satisfied: scipy>=1.4.1 in /usr/local/lib/python3.10/dist-packages (from ultralytics) (1.13.1)\r\n",
      "Requirement already satisfied: torch>=1.8.0 in /usr/local/lib/python3.10/dist-packages (from ultralytics) (2.5.1+cu121)\r\n",
      "Requirement already satisfied: torchvision>=0.9.0 in /usr/local/lib/python3.10/dist-packages (from ultralytics) (0.20.1+cu121)\r\n",
      "Requirement already satisfied: tqdm>=4.64.0 in /usr/local/lib/python3.10/dist-packages (from ultralytics) (4.67.1)\r\n",
      "Requirement already satisfied: psutil in /usr/local/lib/python3.10/dist-packages (from ultralytics) (5.9.5)\r\n",
      "Requirement already satisfied: py-cpuinfo in /usr/local/lib/python3.10/dist-packages (from ultralytics) (9.0.0)\r\n",
      "Requirement already satisfied: pandas>=1.1.4 in /usr/local/lib/python3.10/dist-packages (from ultralytics) (2.2.3)\r\n",
      "Collecting ultralytics-thop>=2.0.0 (from ultralytics)\r\n",
      "  Downloading ultralytics_thop-2.0.14-py3-none-any.whl.metadata (9.4 kB)\r\n",
      "Requirement already satisfied: pydantic>=2.9.2 in /usr/local/lib/python3.10/dist-packages (from albumentations) (2.11.0a2)\r\n",
      "Collecting albucore==0.0.24 (from albumentations)\r\n",
      "  Downloading albucore-0.0.24-py3-none-any.whl.metadata (5.3 kB)\r\n",
      "Requirement already satisfied: opencv-python-headless>=4.9.0.80 in /usr/local/lib/python3.10/dist-packages (from albumentations) (4.10.0.84)\r\n",
      "Requirement already satisfied: stringzilla>=3.10.4 in /usr/local/lib/python3.10/dist-packages (from albucore==0.0.24->albumentations) (3.11.1)\r\n",
      "Collecting simsimd>=5.9.2 (from albucore==0.0.24->albumentations)\r\n",
      "  Downloading simsimd-6.4.8-cp310-cp310-manylinux_2_28_x86_64.whl.metadata (66 kB)\r\n",
      "\u001b[2K     \u001b[90m━━━━━━━━━━━━━━━━━━━━━━━━━━━━━━━━━━━━━━━━\u001b[0m \u001b[32m66.5/66.5 kB\u001b[0m \u001b[31m4.0 MB/s\u001b[0m eta \u001b[36m0:00:00\u001b[0m\r\n",
      "\u001b[?25hRequirement already satisfied: onnx in /usr/local/lib/python3.10/dist-packages (from onnxslim) (1.17.0)\r\n",
      "Requirement already satisfied: sympy in /usr/local/lib/python3.10/dist-packages (from onnxslim) (1.13.1)\r\n",
      "Requirement already satisfied: packaging in /usr/local/lib/python3.10/dist-packages (from onnxslim) (24.2)\r\n",
      "Collecting coloredlogs (from onnxruntime-gpu)\r\n",
      "  Downloading coloredlogs-15.0.1-py2.py3-none-any.whl.metadata (12 kB)\r\n",
      "Requirement already satisfied: flatbuffers in /usr/local/lib/python3.10/dist-packages (from onnxruntime-gpu) (24.3.25)\r\n",
      "Requirement already satisfied: protobuf in /usr/local/lib/python3.10/dist-packages (from onnxruntime-gpu) (3.20.3)\r\n",
      "Requirement already satisfied: contourpy>=1.0.1 in /usr/local/lib/python3.10/dist-packages (from matplotlib>=3.3.0->ultralytics) (1.3.1)\r\n",
      "Requirement already satisfied: cycler>=0.10 in /usr/local/lib/python3.10/dist-packages (from matplotlib>=3.3.0->ultralytics) (0.12.1)\r\n",
      "Requirement already satisfied: fonttools>=4.22.0 in /usr/local/lib/python3.10/dist-packages (from matplotlib>=3.3.0->ultralytics) (4.55.3)\r\n",
      "Requirement already satisfied: kiwisolver>=1.0.1 in /usr/local/lib/python3.10/dist-packages (from matplotlib>=3.3.0->ultralytics) (1.4.7)\r\n",
      "Requirement already satisfied: pyparsing>=2.3.1 in /usr/local/lib/python3.10/dist-packages (from matplotlib>=3.3.0->ultralytics) (3.2.0)\r\n",
      "Requirement already satisfied: python-dateutil>=2.7 in /usr/local/lib/python3.10/dist-packages (from matplotlib>=3.3.0->ultralytics) (2.9.0.post0)\r\n",
      "Requirement already satisfied: mkl_fft in /usr/local/lib/python3.10/dist-packages (from numpy>=1.23.0->ultralytics) (1.3.8)\r\n",
      "Requirement already satisfied: mkl_random in /usr/local/lib/python3.10/dist-packages (from numpy>=1.23.0->ultralytics) (1.2.4)\r\n",
      "Requirement already satisfied: mkl_umath in /usr/local/lib/python3.10/dist-packages (from numpy>=1.23.0->ultralytics) (0.1.1)\r\n",
      "Requirement already satisfied: mkl in /usr/local/lib/python3.10/dist-packages (from numpy>=1.23.0->ultralytics) (2025.0.1)\r\n",
      "Requirement already satisfied: tbb4py in /usr/local/lib/python3.10/dist-packages (from numpy>=1.23.0->ultralytics) (2022.0.0)\r\n",
      "Requirement already satisfied: mkl-service in /usr/local/lib/python3.10/dist-packages (from numpy>=1.23.0->ultralytics) (2.4.1)\r\n",
      "Requirement already satisfied: pytz>=2020.1 in /usr/local/lib/python3.10/dist-packages (from pandas>=1.1.4->ultralytics) (2025.1)\r\n",
      "Requirement already satisfied: tzdata>=2022.7 in /usr/local/lib/python3.10/dist-packages (from pandas>=1.1.4->ultralytics) (2025.1)\r\n",
      "Requirement already satisfied: annotated-types>=0.6.0 in /usr/local/lib/python3.10/dist-packages (from pydantic>=2.9.2->albumentations) (0.7.0)\r\n",
      "Requirement already satisfied: pydantic-core==2.29.0 in /usr/local/lib/python3.10/dist-packages (from pydantic>=2.9.2->albumentations) (2.29.0)\r\n",
      "Requirement already satisfied: typing-extensions>=4.12.2 in /usr/local/lib/python3.10/dist-packages (from pydantic>=2.9.2->albumentations) (4.12.2)\r\n",
      "Requirement already satisfied: charset-normalizer<4,>=2 in /usr/local/lib/python3.10/dist-packages (from requests>=2.23.0->ultralytics) (3.4.1)\r\n",
      "Requirement already satisfied: idna<4,>=2.5 in /usr/local/lib/python3.10/dist-packages (from requests>=2.23.0->ultralytics) (3.10)\r\n",
      "Requirement already satisfied: urllib3<3,>=1.21.1 in /usr/local/lib/python3.10/dist-packages (from requests>=2.23.0->ultralytics) (2.3.0)\r\n",
      "Requirement already satisfied: certifi>=2017.4.17 in /usr/local/lib/python3.10/dist-packages (from requests>=2.23.0->ultralytics) (2025.1.31)\r\n",
      "Requirement already satisfied: filelock in /usr/local/lib/python3.10/dist-packages (from torch>=1.8.0->ultralytics) (3.17.0)\r\n",
      "Requirement already satisfied: networkx in /usr/local/lib/python3.10/dist-packages (from torch>=1.8.0->ultralytics) (3.4.2)\r\n",
      "Requirement already satisfied: jinja2 in /usr/local/lib/python3.10/dist-packages (from torch>=1.8.0->ultralytics) (3.1.4)\r\n",
      "Requirement already satisfied: fsspec in /usr/local/lib/python3.10/dist-packages (from torch>=1.8.0->ultralytics) (2024.12.0)\r\n",
      "Requirement already satisfied: mpmath<1.4,>=1.1.0 in /usr/local/lib/python3.10/dist-packages (from sympy->onnxslim) (1.3.0)\r\n",
      "Collecting humanfriendly>=9.1 (from coloredlogs->onnxruntime-gpu)\r\n",
      "  Downloading humanfriendly-10.0-py2.py3-none-any.whl.metadata (9.2 kB)\r\n",
      "Requirement already satisfied: six>=1.5 in /usr/local/lib/python3.10/dist-packages (from python-dateutil>=2.7->matplotlib>=3.3.0->ultralytics) (1.17.0)\r\n",
      "Requirement already satisfied: MarkupSafe>=2.0 in /usr/local/lib/python3.10/dist-packages (from jinja2->torch>=1.8.0->ultralytics) (3.0.2)\r\n",
      "Requirement already satisfied: intel-openmp>=2024 in /usr/local/lib/python3.10/dist-packages (from mkl->numpy>=1.23.0->ultralytics) (2024.2.0)\r\n",
      "Requirement already satisfied: tbb==2022.* in /usr/local/lib/python3.10/dist-packages (from mkl->numpy>=1.23.0->ultralytics) (2022.0.0)\r\n",
      "Requirement already satisfied: tcmlib==1.* in /usr/local/lib/python3.10/dist-packages (from tbb==2022.*->mkl->numpy>=1.23.0->ultralytics) (1.2.0)\r\n",
      "Requirement already satisfied: intel-cmplr-lib-rt in /usr/local/lib/python3.10/dist-packages (from mkl_umath->numpy>=1.23.0->ultralytics) (2024.2.0)\r\n",
      "Requirement already satisfied: intel-cmplr-lib-ur==2024.2.0 in /usr/local/lib/python3.10/dist-packages (from intel-openmp>=2024->mkl->numpy>=1.23.0->ultralytics) (2024.2.0)\r\n",
      "Downloading ultralytics-8.3.151-py3-none-any.whl (1.0 MB)\r\n",
      "\u001b[2K   \u001b[90m━━━━━━━━━━━━━━━━━━━━━━━━━━━━━━━━━━━━━━━━\u001b[0m \u001b[32m1.0/1.0 MB\u001b[0m \u001b[31m19.0 MB/s\u001b[0m eta \u001b[36m0:00:00\u001b[0m\r\n",
      "\u001b[?25hDownloading albumentations-2.0.8-py3-none-any.whl (369 kB)\r\n",
      "\u001b[2K   \u001b[90m━━━━━━━━━━━━━━━━━━━━━━━━━━━━━━━━━━━━━━━━\u001b[0m \u001b[32m369.4/369.4 kB\u001b[0m \u001b[31m17.1 MB/s\u001b[0m eta \u001b[36m0:00:00\u001b[0m\r\n",
      "\u001b[?25hDownloading albucore-0.0.24-py3-none-any.whl (15 kB)\r\n",
      "Downloading onnxslim-0.1.56-py3-none-any.whl (146 kB)\r\n",
      "\u001b[2K   \u001b[90m━━━━━━━━━━━━━━━━━━━━━━━━━━━━━━━━━━━━━━━━\u001b[0m \u001b[32m146.2/146.2 kB\u001b[0m \u001b[31m9.9 MB/s\u001b[0m eta \u001b[36m0:00:00\u001b[0m\r\n",
      "\u001b[?25hDownloading onnxruntime_gpu-1.22.0-cp310-cp310-manylinux_2_27_x86_64.manylinux_2_28_x86_64.whl (283.2 MB)\r\n",
      "\u001b[2K   \u001b[90m━━━━━━━━━━━━━━━━━━━━━━━━━━━━━━━━━━━━━━━━\u001b[0m \u001b[32m283.2/283.2 MB\u001b[0m \u001b[31m6.0 MB/s\u001b[0m eta \u001b[36m0:00:00\u001b[0m\r\n",
      "\u001b[?25hDownloading ultralytics_thop-2.0.14-py3-none-any.whl (26 kB)\r\n",
      "Downloading coloredlogs-15.0.1-py2.py3-none-any.whl (46 kB)\r\n",
      "\u001b[2K   \u001b[90m━━━━━━━━━━━━━━━━━━━━━━━━━━━━━━━━━━━━━━━━\u001b[0m \u001b[32m46.0/46.0 kB\u001b[0m \u001b[31m2.8 MB/s\u001b[0m eta \u001b[36m0:00:00\u001b[0m\r\n",
      "\u001b[?25hDownloading humanfriendly-10.0-py2.py3-none-any.whl (86 kB)\r\n",
      "\u001b[2K   \u001b[90m━━━━━━━━━━━━━━━━━━━━━━━━━━━━━━━━━━━━━━━━\u001b[0m \u001b[32m86.8/86.8 kB\u001b[0m \u001b[31m6.0 MB/s\u001b[0m eta \u001b[36m0:00:00\u001b[0m\r\n",
      "\u001b[?25hDownloading simsimd-6.4.8-cp310-cp310-manylinux_2_28_x86_64.whl (1.1 MB)\r\n",
      "\u001b[2K   \u001b[90m━━━━━━━━━━━━━━━━━━━━━━━━━━━━━━━━━━━━━━━━\u001b[0m \u001b[32m1.1/1.1 MB\u001b[0m \u001b[31m55.9 MB/s\u001b[0m eta \u001b[36m0:00:00\u001b[0m\r\n",
      "\u001b[?25hInstalling collected packages: simsimd, humanfriendly, coloredlogs, ultralytics-thop, albucore, ultralytics, onnxslim, onnxruntime-gpu, albumentations\r\n",
      "  Attempting uninstall: albucore\r\n",
      "    Found existing installation: albucore 0.0.19\r\n",
      "    Uninstalling albucore-0.0.19:\r\n",
      "      Successfully uninstalled albucore-0.0.19\r\n",
      "  Attempting uninstall: albumentations\r\n",
      "    Found existing installation: albumentations 1.4.20\r\n",
      "    Uninstalling albumentations-1.4.20:\r\n",
      "      Successfully uninstalled albumentations-1.4.20\r\n",
      "Successfully installed albucore-0.0.24 albumentations-2.0.8 coloredlogs-15.0.1 humanfriendly-10.0 onnxruntime-gpu-1.22.0 onnxslim-0.1.56 simsimd-6.4.8 ultralytics-8.3.151 ultralytics-thop-2.0.14\r\n"
     ]
    }
   ],
   "source": [
    "!pip install -U ultralytics albumentations onnxslim onnxruntime-gpu"
   ]
  },
  {
   "cell_type": "markdown",
   "id": "2d7817e8",
   "metadata": {
    "papermill": {
     "duration": 0.006752,
     "end_time": "2025-06-07T02:55:03.729300",
     "exception": false,
     "start_time": "2025-06-07T02:55:03.722548",
     "status": "completed"
    },
    "tags": []
   },
   "source": [
    "# Imports and configs"
   ]
  },
  {
   "cell_type": "code",
   "execution_count": 2,
   "id": "093ea501",
   "metadata": {
    "_cell_guid": "b1076dfc-b9ad-4769-8c92-a6c4dae69d19",
    "_kg_hide-output": true,
    "_uuid": "8f2839f25d086af736a60e9eeb907d3b93b6e0e5",
    "execution": {
     "iopub.execute_input": "2025-06-07T02:55:03.743884Z",
     "iopub.status.busy": "2025-06-07T02:55:03.743616Z",
     "iopub.status.idle": "2025-06-07T02:55:08.894680Z",
     "shell.execute_reply": "2025-06-07T02:55:08.893551Z"
    },
    "papermill": {
     "duration": 5.160163,
     "end_time": "2025-06-07T02:55:08.896401",
     "exception": false,
     "start_time": "2025-06-07T02:55:03.736238",
     "status": "completed"
    },
    "tags": []
   },
   "outputs": [
    {
     "name": "stdout",
     "output_type": "stream",
     "text": [
      "Creating new Ultralytics Settings v0.0.6 file ✅ \n",
      "View Ultralytics Settings with 'yolo settings' or at '/root/.config/Ultralytics/settings.json'\n",
      "Update Settings with 'yolo settings key=value', i.e. 'yolo settings runs_dir=path/to/dir'. For help see https://docs.ultralytics.com/quickstart/#ultralytics-settings.\n"
     ]
    }
   ],
   "source": [
    "from ultralytics.data.augment import Albumentations\n",
    "from ultralytics.utils import LOGGER, colorstr\n",
    "from ultralytics.utils.metrics import Metric\n",
    "from ultralytics import RTDETR, settings\n",
    "from functools import partial\n",
    "import albumentations as A\n",
    "import numpy as np\n",
    "import warnings\n",
    "import random\n",
    "import shutil\n",
    "import torch\n",
    "import yaml\n",
    "import json\n",
    "import os\n",
    "\n",
    "warnings.filterwarnings(\"ignore\")"
   ]
  },
  {
   "cell_type": "code",
   "execution_count": 3,
   "id": "feb1f733",
   "metadata": {
    "execution": {
     "iopub.execute_input": "2025-06-07T02:55:08.912545Z",
     "iopub.status.busy": "2025-06-07T02:55:08.912189Z",
     "iopub.status.idle": "2025-06-07T02:55:08.916656Z",
     "shell.execute_reply": "2025-06-07T02:55:08.916040Z"
    },
    "papermill": {
     "duration": 0.013826,
     "end_time": "2025-06-07T02:55:08.917910",
     "exception": false,
     "start_time": "2025-06-07T02:55:08.904084",
     "status": "completed"
    },
    "tags": []
   },
   "outputs": [],
   "source": [
    "class CFG:\n",
    "    dataset_path = \"/kaggle/input/byu-locating-bacterial-flagellar-motors-2025/\"\n",
    "    train_image_path = os.path.join(dataset_path, \"train\")\n",
    "    train_label_path = os.path.join(dataset_path, \"train_labels.csv\")\n",
    "\n",
    "    debug = False\n",
    "\n",
    "    seed = 42\n",
    "    n_fold = 5\n",
    "    current_fold = 0\n",
    "    \n",
    "    epochs = 1 if debug else 10\n",
    "    image_size = 640\n",
    "    es_patience = 7\n",
    "    device = \"0\"\n",
    "\n",
    "    yolo_dataset_path = f\"/temp/dataset/fold_{current_fold}\"\n",
    "    yolo_yaml_path = f\"/temp/dataset/fold_{current_fold}/dataset.yaml\"\n",
    "    yolo_model_name = \"rtdetr-l.pt\"\n",
    "\n",
    "    use_wandb = False\n",
    "    project = \"byu-locating-bacterial-flagellar-motors\"\n",
    "    name = yolo_model_name.split(\".\")[0] + f\"_fold_{current_fold}\""
   ]
  },
  {
   "cell_type": "code",
   "execution_count": 4,
   "id": "72aaccc4",
   "metadata": {
    "execution": {
     "iopub.execute_input": "2025-06-07T02:55:08.932973Z",
     "iopub.status.busy": "2025-06-07T02:55:08.932698Z",
     "iopub.status.idle": "2025-06-07T02:55:08.939359Z",
     "shell.execute_reply": "2025-06-07T02:55:08.938797Z"
    },
    "papermill": {
     "duration": 0.015365,
     "end_time": "2025-06-07T02:55:08.940468",
     "exception": false,
     "start_time": "2025-06-07T02:55:08.925103",
     "status": "completed"
    },
    "tags": []
   },
   "outputs": [],
   "source": [
    "torch.manual_seed(CFG.seed)\n",
    "np.random.seed(CFG.seed)\n",
    "random.seed(CFG.seed)"
   ]
  },
  {
   "cell_type": "code",
   "execution_count": 5,
   "id": "041715b0",
   "metadata": {
    "execution": {
     "iopub.execute_input": "2025-06-07T02:55:08.955007Z",
     "iopub.status.busy": "2025-06-07T02:55:08.954797Z",
     "iopub.status.idle": "2025-06-07T02:55:08.958631Z",
     "shell.execute_reply": "2025-06-07T02:55:08.958058Z"
    },
    "papermill": {
     "duration": 0.012374,
     "end_time": "2025-06-07T02:55:08.959826",
     "exception": false,
     "start_time": "2025-06-07T02:55:08.947452",
     "status": "completed"
    },
    "tags": []
   },
   "outputs": [],
   "source": [
    "settings.update({\n",
    "    \"runs_dir\": \"/temp/logs\", \n",
    "    \"tensorboard\": False\n",
    "})\n",
    "\n",
    "if CFG.use_wandb:\n",
    "    from kaggle_secrets import UserSecretsClient\n",
    "    import wandb\n",
    "    os.environ[\"WANDB_API_KEY\"] = UserSecretsClient().get_secret(\"WANDB_API_KEY\")\n",
    "    settings.update({\"wandb\": True})"
   ]
  },
  {
   "cell_type": "markdown",
   "id": "bccfe6eb",
   "metadata": {
    "papermill": {
     "duration": 0.006723,
     "end_time": "2025-06-07T02:55:08.973518",
     "exception": false,
     "start_time": "2025-06-07T02:55:08.966795",
     "status": "completed"
    },
    "tags": []
   },
   "source": [
    "# Data preprocessing"
   ]
  },
  {
   "cell_type": "code",
   "execution_count": 6,
   "id": "1762edf0",
   "metadata": {
    "execution": {
     "iopub.execute_input": "2025-06-07T02:55:08.988005Z",
     "iopub.status.busy": "2025-06-07T02:55:08.987768Z",
     "iopub.status.idle": "2025-06-07T02:56:50.698380Z",
     "shell.execute_reply": "2025-06-07T02:56:50.697392Z"
    },
    "papermill": {
     "duration": 101.719893,
     "end_time": "2025-06-07T02:56:50.700367",
     "exception": false,
     "start_time": "2025-06-07T02:55:08.980474",
     "status": "completed"
    },
    "tags": []
   },
   "outputs": [],
   "source": [
    "if os.path.exists(CFG.yolo_dataset_path):\n",
    "    shutil.rmtree(CFG.yolo_dataset_path)\n",
    "\n",
    "shutil.copytree(f\"/kaggle/input/byu-flagellar-motor-detection-1-preprocessing/dataset/fold_{CFG.current_fold}\", CFG.yolo_dataset_path)\n",
    "os.makedirs(CFG.project, exist_ok=True)"
   ]
  },
  {
   "cell_type": "code",
   "execution_count": 7,
   "id": "03967b04",
   "metadata": {
    "execution": {
     "iopub.execute_input": "2025-06-07T02:56:50.716123Z",
     "iopub.status.busy": "2025-06-07T02:56:50.715860Z",
     "iopub.status.idle": "2025-06-07T02:56:50.721187Z",
     "shell.execute_reply": "2025-06-07T02:56:50.720355Z"
    },
    "papermill": {
     "duration": 0.014185,
     "end_time": "2025-06-07T02:56:50.722366",
     "exception": false,
     "start_time": "2025-06-07T02:56:50.708181",
     "status": "completed"
    },
    "tags": []
   },
   "outputs": [],
   "source": [
    "yaml_data = {\n",
    "    \"path\": CFG.yolo_yaml_path,\n",
    "    \"train\": os.path.join(CFG.yolo_dataset_path, \"images\", \"train\"),\n",
    "    \"val\": os.path.join(CFG.yolo_dataset_path, \"images\", \"val\"),\n",
    "    \"names\": {0: \"motor\"}\n",
    "}\n",
    "\n",
    "with open(CFG.yolo_yaml_path, \"w\") as f:\n",
    "    yaml.dump(yaml_data, f)"
   ]
  },
  {
   "cell_type": "markdown",
   "id": "9874c8d5",
   "metadata": {
    "papermill": {
     "duration": 0.006921,
     "end_time": "2025-06-07T02:56:50.737744",
     "exception": false,
     "start_time": "2025-06-07T02:56:50.730823",
     "status": "completed"
    },
    "tags": []
   },
   "source": [
    "# Training"
   ]
  },
  {
   "cell_type": "code",
   "execution_count": 8,
   "id": "7cd75cc6",
   "metadata": {
    "_kg_hide-input": true,
    "execution": {
     "iopub.execute_input": "2025-06-07T02:56:50.752571Z",
     "iopub.status.busy": "2025-06-07T02:56:50.752337Z",
     "iopub.status.idle": "2025-06-07T02:56:50.758684Z",
     "shell.execute_reply": "2025-06-07T02:56:50.757940Z"
    },
    "papermill": {
     "duration": 0.015184,
     "end_time": "2025-06-07T02:56:50.759903",
     "exception": false,
     "start_time": "2025-06-07T02:56:50.744719",
     "status": "completed"
    },
    "tags": []
   },
   "outputs": [],
   "source": [
    "def __init__(self, p=1.0):\n",
    "    self.p = p\n",
    "    self.transform = None\n",
    "    prefix = colorstr(\"albumentations: \")\n",
    "\n",
    "    try:\n",
    "        spatial_transforms = {\n",
    "            \"Affine\",\n",
    "            \"BBoxSafeRandomCrop\",\n",
    "            \"CenterCrop\",\n",
    "            \"CoarseDropout\",\n",
    "            \"Crop\",\n",
    "            \"CropAndPad\",\n",
    "            \"CropNonEmptyMaskIfExists\",\n",
    "            \"D4\",\n",
    "            \"ElasticTransform\",\n",
    "            \"Flip\",\n",
    "            \"GridDistortion\",\n",
    "            \"GridDropout\",\n",
    "            \"HorizontalFlip\",\n",
    "            \"Lambda\",\n",
    "            \"LongestMaxSize\",\n",
    "            \"MaskDropout\",\n",
    "            \"MixUp\",\n",
    "            \"Morphological\",\n",
    "            \"NoOp\",\n",
    "            \"OpticalDistortion\",\n",
    "            \"PadIfNeeded\",\n",
    "            \"Perspective\",\n",
    "            \"PiecewiseAffine\",\n",
    "            \"PixelDropout\",\n",
    "            \"RandomCrop\",\n",
    "            \"RandomCropFromBorders\",\n",
    "            \"RandomGridShuffle\",\n",
    "            \"RandomResizedCrop\",\n",
    "            \"RandomRotate90\",\n",
    "            \"RandomScale\",\n",
    "            \"RandomSizedBBoxSafeCrop\",\n",
    "            \"RandomSizedCrop\",\n",
    "            \"Resize\",\n",
    "            \"Rotate\",\n",
    "            \"SafeRotate\",\n",
    "            \"ShiftScaleRotate\",\n",
    "            \"SmallestMaxSize\",\n",
    "            \"Transpose\",\n",
    "            \"VerticalFlip\",\n",
    "            \"XYMasking\",\n",
    "        } \n",
    "        \n",
    "        T = [\n",
    "            A.HorizontalFlip(p=0.5),\n",
    "            A.RandomRotate90(p=0.5),\n",
    "            A.VerticalFlip(p=0.5)\n",
    "        ]\n",
    "\n",
    "        self.contains_spatial = any(transform.__class__.__name__ in spatial_transforms for transform in T)\n",
    "        \n",
    "        self.transform = (\n",
    "            A.Compose(T, bbox_params=A.BboxParams(format=\"yolo\", label_fields=[\"class_labels\"], check_each_transform=True))\n",
    "            if self.contains_spatial\n",
    "            else A.Compose(T)\n",
    "        )\n",
    "        \n",
    "        if hasattr(self.transform, \"set_random_seed\"):\n",
    "            self.transform.set_random_seed(torch.initial_seed())\n",
    "        \n",
    "        LOGGER.info(prefix + \", \".join(f\"{x}\".replace(\"always_apply=False, \", \"\") for x in T if x.p))\n",
    "        \n",
    "    except Exception as e:\n",
    "        LOGGER.info(f\"{prefix}{e}\")\n",
    "\n",
    "Albumentations.__init__ = __init__"
   ]
  },
  {
   "cell_type": "code",
   "execution_count": 9,
   "id": "5b58189e",
   "metadata": {
    "execution": {
     "iopub.execute_input": "2025-06-07T02:56:50.774825Z",
     "iopub.status.busy": "2025-06-07T02:56:50.774548Z",
     "iopub.status.idle": "2025-06-07T02:56:50.777993Z",
     "shell.execute_reply": "2025-06-07T02:56:50.777223Z"
    },
    "papermill": {
     "duration": 0.012144,
     "end_time": "2025-06-07T02:56:50.779250",
     "exception": false,
     "start_time": "2025-06-07T02:56:50.767106",
     "status": "completed"
    },
    "tags": []
   },
   "outputs": [],
   "source": [
    "def fitness(self):\n",
    "    return (5 * self.mp * self.mr) / (4 * self.mp + self.mr)\n",
    "\n",
    "Metric.fitness = fitness"
   ]
  },
  {
   "cell_type": "code",
   "execution_count": 10,
   "id": "062ebf74",
   "metadata": {
    "_kg_hide-output": true,
    "execution": {
     "iopub.execute_input": "2025-06-07T02:56:50.793991Z",
     "iopub.status.busy": "2025-06-07T02:56:50.793632Z",
     "iopub.status.idle": "2025-06-07T05:16:16.585886Z",
     "shell.execute_reply": "2025-06-07T05:16:16.584783Z"
    },
    "papermill": {
     "duration": 8365.801399,
     "end_time": "2025-06-07T05:16:16.587675",
     "exception": false,
     "start_time": "2025-06-07T02:56:50.786276",
     "status": "completed"
    },
    "scrolled": true,
    "tags": []
   },
   "outputs": [
    {
     "name": "stdout",
     "output_type": "stream",
     "text": [
      "Downloading https://github.com/ultralytics/assets/releases/download/v8.3.0/rtdetr-l.pt to 'rtdetr-l.pt'...\n"
     ]
    },
    {
     "name": "stderr",
     "output_type": "stream",
     "text": [
      "100%|██████████| 63.4M/63.4M [00:00<00:00, 99.4MB/s]\n"
     ]
    },
    {
     "name": "stdout",
     "output_type": "stream",
     "text": [
      "Ultralytics 8.3.151 🚀 Python-3.10.12 torch-2.5.1+cu121 CUDA:0 (Tesla P100-PCIE-16GB, 16269MiB)\n",
      "\u001b[34m\u001b[1mengine/trainer: \u001b[0magnostic_nms=False, amp=True, augment=False, auto_augment=randaugment, batch=6, bgr=0.0, box=7.5, cache=False, cfg=None, classes=None, close_mosaic=10, cls=0.5, conf=None, copy_paste=0.0, copy_paste_mode=flip, cos_lr=False, cutmix=0.0, data=/temp/dataset/fold_0/dataset.yaml, degrees=0.0, deterministic=True, device=0, dfl=1.5, dnn=False, dropout=0.1, dynamic=False, embed=None, epochs=10, erasing=0.4, exist_ok=True, fliplr=0.5, flipud=0.0, format=torchscript, fraction=1.0, freeze=None, half=False, hsv_h=0.015, hsv_s=0.7, hsv_v=0.4, imgsz=640, int8=False, iou=0.7, keras=False, kobj=1.0, line_width=None, lr0=0.0001, lrf=0.1, mask_ratio=4, max_det=300, mixup=0.0, mode=train, model=rtdetr-l.pt, momentum=0.937, mosaic=1.0, multi_scale=False, name=rtdetr-l_fold_0, nbs=64, nms=False, opset=None, optimize=False, optimizer=AdamW, overlap_mask=True, patience=7, perspective=0.0, plots=True, pose=12.0, pretrained=True, profile=False, project=byu-locating-bacterial-flagellar-motors, rect=False, resume=False, retina_masks=False, save=True, save_conf=False, save_crop=False, save_dir=byu-locating-bacterial-flagellar-motors/rtdetr-l_fold_0, save_frames=False, save_json=False, save_period=-1, save_txt=False, scale=0.5, seed=42, shear=0.0, show=False, show_boxes=True, show_conf=True, show_labels=True, simplify=True, single_cls=False, source=None, split=val, stream_buffer=False, task=detect, time=None, tracker=botsort.yaml, translate=0.1, val=True, verbose=True, vid_stride=1, visualize=False, warmup_bias_lr=0.1, warmup_epochs=0, warmup_momentum=0.8, weight_decay=0.0005, workers=8, workspace=None\n",
      "Downloading https://ultralytics.com/assets/Arial.ttf to '/root/.config/Ultralytics/Arial.ttf'...\n"
     ]
    },
    {
     "name": "stderr",
     "output_type": "stream",
     "text": [
      "100%|██████████| 755k/755k [00:00<00:00, 17.9MB/s]\n"
     ]
    },
    {
     "name": "stdout",
     "output_type": "stream",
     "text": [
      "Overriding model.yaml nc=80 with nc=1\n",
      "WARNING ⚠️ no model scale passed. Assuming scale='l'.\n",
      "\n",
      "                   from  n    params  module                                       arguments                     \n",
      "  0                  -1  1     25248  ultralytics.nn.modules.block.HGStem          [3, 32, 48]                   \n",
      "  1                  -1  6    155072  ultralytics.nn.modules.block.HGBlock         [48, 48, 128, 3, 6]           \n",
      "  2                  -1  1      1408  ultralytics.nn.modules.conv.DWConv           [128, 128, 3, 2, 1, False]    \n",
      "  3                  -1  6    839296  ultralytics.nn.modules.block.HGBlock         [128, 96, 512, 3, 6]          \n",
      "  4                  -1  1      5632  ultralytics.nn.modules.conv.DWConv           [512, 512, 3, 2, 1, False]    \n",
      "  5                  -1  6   1695360  ultralytics.nn.modules.block.HGBlock         [512, 192, 1024, 5, 6, True, False]\n",
      "  6                  -1  6   2055808  ultralytics.nn.modules.block.HGBlock         [1024, 192, 1024, 5, 6, True, True]\n",
      "  7                  -1  6   2055808  ultralytics.nn.modules.block.HGBlock         [1024, 192, 1024, 5, 6, True, True]\n",
      "  8                  -1  1     11264  ultralytics.nn.modules.conv.DWConv           [1024, 1024, 3, 2, 1, False]  \n",
      "  9                  -1  6   6708480  ultralytics.nn.modules.block.HGBlock         [1024, 384, 2048, 5, 6, True, False]\n",
      " 10                  -1  1    524800  ultralytics.nn.modules.conv.Conv             [2048, 256, 1, 1, None, 1, 1, False]\n",
      " 11                  -1  1    789760  ultralytics.nn.modules.transformer.AIFI      [256, 1024, 8]                \n",
      " 12                  -1  1     66048  ultralytics.nn.modules.conv.Conv             [256, 256, 1, 1]              \n",
      " 13                  -1  1         0  torch.nn.modules.upsampling.Upsample         [None, 2, 'nearest']          \n",
      " 14                   7  1    262656  ultralytics.nn.modules.conv.Conv             [1024, 256, 1, 1, None, 1, 1, False]\n",
      " 15            [-2, -1]  1         0  ultralytics.nn.modules.conv.Concat           [1]                           \n",
      " 16                  -1  3   2232320  ultralytics.nn.modules.block.RepC3           [512, 256, 3]                 \n",
      " 17                  -1  1     66048  ultralytics.nn.modules.conv.Conv             [256, 256, 1, 1]              \n",
      " 18                  -1  1         0  torch.nn.modules.upsampling.Upsample         [None, 2, 'nearest']          \n",
      " 19                   3  1    131584  ultralytics.nn.modules.conv.Conv             [512, 256, 1, 1, None, 1, 1, False]\n",
      " 20            [-2, -1]  1         0  ultralytics.nn.modules.conv.Concat           [1]                           \n",
      " 21                  -1  3   2232320  ultralytics.nn.modules.block.RepC3           [512, 256, 3]                 \n",
      " 22                  -1  1    590336  ultralytics.nn.modules.conv.Conv             [256, 256, 3, 2]              \n",
      " 23            [-1, 17]  1         0  ultralytics.nn.modules.conv.Concat           [1]                           \n",
      " 24                  -1  3   2232320  ultralytics.nn.modules.block.RepC3           [512, 256, 3]                 \n",
      " 25                  -1  1    590336  ultralytics.nn.modules.conv.Conv             [256, 256, 3, 2]              \n",
      " 26            [-1, 12]  1         0  ultralytics.nn.modules.conv.Concat           [1]                           \n",
      " 27                  -1  3   2232320  ultralytics.nn.modules.block.RepC3           [512, 256, 3]                 \n",
      " 28        [21, 24, 27]  1   7303907  ultralytics.nn.modules.head.RTDETRDecoder    [1, [256, 256, 256]]          \n",
      "rt-detr-l summary: 457 layers, 32,808,131 parameters, 32,808,131 gradients, 108.0 GFLOPs\n",
      "\n",
      "Transferred 926/941 items from pretrained weights\n",
      "\u001b[34m\u001b[1mAMP: \u001b[0mrunning Automatic Mixed Precision (AMP) checks...\n",
      "Downloading https://github.com/ultralytics/assets/releases/download/v8.3.0/yolo11n.pt to 'yolo11n.pt'...\n"
     ]
    },
    {
     "name": "stderr",
     "output_type": "stream",
     "text": [
      "100%|██████████| 5.35M/5.35M [00:00<00:00, 75.1MB/s]\n"
     ]
    },
    {
     "name": "stdout",
     "output_type": "stream",
     "text": [
      "\u001b[34m\u001b[1mAMP: \u001b[0mchecks passed ✅\n",
      "\u001b[34m\u001b[1mtrain: \u001b[0mFast image access ✅ (ping: 0.0±0.0 ms, read: 1945.2±1095.9 MB/s, size: 447.8 KB)\n"
     ]
    },
    {
     "name": "stderr",
     "output_type": "stream",
     "text": [
      "\u001b[34m\u001b[1mtrain: \u001b[0mScanning /temp/dataset/fold_0/labels/train... 8265 images, 2285 backgrounds, 0 corrupt: 100%|██████████| 8265/8265 [00:06<00:00, 1331.21it/s]\n"
     ]
    },
    {
     "name": "stdout",
     "output_type": "stream",
     "text": [
      "\u001b[34m\u001b[1mtrain: \u001b[0mNew cache created: /temp/dataset/fold_0/labels/train.cache\n",
      "\u001b[34m\u001b[1malbumentations: \u001b[0mHorizontalFlip(p=0.5), RandomRotate90(p=0.5), VerticalFlip(p=0.5)\n",
      "\u001b[34m\u001b[1mval: \u001b[0mFast image access ✅ (ping: 0.0±0.0 ms, read: 731.4±665.2 MB/s, size: 137.4 KB)\n"
     ]
    },
    {
     "name": "stderr",
     "output_type": "stream",
     "text": [
      "\u001b[34m\u001b[1mval: \u001b[0mScanning /temp/dataset/fold_0/labels/val... 2065 images, 535 backgrounds, 0 corrupt: 100%|██████████| 2065/2065 [00:01<00:00, 1089.31it/s]"
     ]
    },
    {
     "name": "stdout",
     "output_type": "stream",
     "text": [
      "\u001b[34m\u001b[1mval: \u001b[0mNew cache created: /temp/dataset/fold_0/labels/val.cache\n"
     ]
    },
    {
     "name": "stderr",
     "output_type": "stream",
     "text": [
      "\n"
     ]
    },
    {
     "name": "stdout",
     "output_type": "stream",
     "text": [
      "Plotting labels to byu-locating-bacterial-flagellar-motors/rtdetr-l_fold_0/labels.jpg... \n",
      "\u001b[34m\u001b[1moptimizer:\u001b[0m AdamW(lr=0.0001, momentum=0.937) with parameter groups 143 weight(decay=0.0), 206 weight(decay=0.000515625), 226 bias(decay=0.0)\n",
      "Image sizes 640 train, 640 val\n",
      "Using 4 dataloader workers\n",
      "Logging results to \u001b[1mbyu-locating-bacterial-flagellar-motors/rtdetr-l_fold_0\u001b[0m\n",
      "Starting training for 10 epochs...\n",
      "Closing dataloader mosaic\n",
      "\u001b[34m\u001b[1malbumentations: \u001b[0mHorizontalFlip(p=0.5), RandomRotate90(p=0.5), VerticalFlip(p=0.5)\n",
      "\n",
      "      Epoch    GPU_mem  giou_loss   cls_loss    l1_loss  Instances       Size\n"
     ]
    },
    {
     "name": "stderr",
     "output_type": "stream",
     "text": [
      "       1/10      5.21G      1.454      4.069     0.8775          2        640: 100%|██████████| 1378/1378 [12:56<00:00,  1.77it/s]\n",
      "                 Class     Images  Instances      Box(P          R      mAP50  mAP50-95): 100%|██████████| 173/173 [00:47<00:00,  3.64it/s]\n"
     ]
    },
    {
     "name": "stdout",
     "output_type": "stream",
     "text": [
      "                   all       2065       1530      0.778      0.765      0.794      0.339\n",
      "\n",
      "      Epoch    GPU_mem  giou_loss   cls_loss    l1_loss  Instances       Size\n"
     ]
    },
    {
     "name": "stderr",
     "output_type": "stream",
     "text": [
      "       2/10      5.97G     0.5525     0.4861     0.2023          2        640: 100%|██████████| 1378/1378 [13:00<00:00,  1.76it/s]\n",
      "                 Class     Images  Instances      Box(P          R      mAP50  mAP50-95): 100%|██████████| 173/173 [00:46<00:00,  3.73it/s]\n"
     ]
    },
    {
     "name": "stdout",
     "output_type": "stream",
     "text": [
      "                   all       2065       1530       0.93      0.919      0.949      0.529\n",
      "\n",
      "      Epoch    GPU_mem  giou_loss   cls_loss    l1_loss  Instances       Size\n"
     ]
    },
    {
     "name": "stderr",
     "output_type": "stream",
     "text": [
      "       3/10      5.97G     0.4377     0.4312     0.1588          1        640: 100%|██████████| 1378/1378 [13:01<00:00,  1.76it/s]\n",
      "                 Class     Images  Instances      Box(P          R      mAP50  mAP50-95): 100%|██████████| 173/173 [00:46<00:00,  3.73it/s]\n"
     ]
    },
    {
     "name": "stdout",
     "output_type": "stream",
     "text": [
      "                   all       2065       1530      0.902      0.889      0.903      0.533\n",
      "\n",
      "      Epoch    GPU_mem  giou_loss   cls_loss    l1_loss  Instances       Size\n"
     ]
    },
    {
     "name": "stderr",
     "output_type": "stream",
     "text": [
      "       4/10      5.97G     0.4018     0.4148     0.1423          2        640: 100%|██████████| 1378/1378 [13:00<00:00,  1.76it/s]\n",
      "                 Class     Images  Instances      Box(P          R      mAP50  mAP50-95): 100%|██████████| 173/173 [00:46<00:00,  3.73it/s]\n"
     ]
    },
    {
     "name": "stdout",
     "output_type": "stream",
     "text": [
      "                   all       2065       1530      0.921      0.933      0.939       0.59\n",
      "\n",
      "      Epoch    GPU_mem  giou_loss   cls_loss    l1_loss  Instances       Size\n"
     ]
    },
    {
     "name": "stderr",
     "output_type": "stream",
     "text": [
      "       5/10      5.97G     0.3685     0.3933     0.1301          3        640: 100%|██████████| 1378/1378 [13:01<00:00,  1.76it/s]\n",
      "                 Class     Images  Instances      Box(P          R      mAP50  mAP50-95): 100%|██████████| 173/173 [00:46<00:00,  3.73it/s]\n"
     ]
    },
    {
     "name": "stdout",
     "output_type": "stream",
     "text": [
      "                   all       2065       1530      0.965      0.943      0.975      0.611\n",
      "\n",
      "      Epoch    GPU_mem  giou_loss   cls_loss    l1_loss  Instances       Size\n"
     ]
    },
    {
     "name": "stderr",
     "output_type": "stream",
     "text": [
      "       6/10      5.98G     0.3528     0.3828     0.1225          2        640: 100%|██████████| 1378/1378 [13:00<00:00,  1.77it/s]\n",
      "                 Class     Images  Instances      Box(P          R      mAP50  mAP50-95): 100%|██████████| 173/173 [00:46<00:00,  3.73it/s]\n"
     ]
    },
    {
     "name": "stdout",
     "output_type": "stream",
     "text": [
      "                   all       2065       1530      0.957      0.972      0.984      0.629\n",
      "\n",
      "      Epoch    GPU_mem  giou_loss   cls_loss    l1_loss  Instances       Size\n"
     ]
    },
    {
     "name": "stderr",
     "output_type": "stream",
     "text": [
      "       7/10      5.98G      0.334      0.371      0.114          1        640: 100%|██████████| 1378/1378 [13:01<00:00,  1.76it/s]\n",
      "                 Class     Images  Instances      Box(P          R      mAP50  mAP50-95): 100%|██████████| 173/173 [00:46<00:00,  3.73it/s]\n"
     ]
    },
    {
     "name": "stdout",
     "output_type": "stream",
     "text": [
      "                   all       2065       1530      0.962      0.965      0.973      0.608\n",
      "\n",
      "      Epoch    GPU_mem  giou_loss   cls_loss    l1_loss  Instances       Size\n"
     ]
    },
    {
     "name": "stderr",
     "output_type": "stream",
     "text": [
      "       8/10      5.98G     0.3161     0.3619     0.1069          2        640: 100%|██████████| 1378/1378 [13:00<00:00,  1.77it/s]\n",
      "                 Class     Images  Instances      Box(P          R      mAP50  mAP50-95): 100%|██████████| 173/173 [00:46<00:00,  3.74it/s]\n"
     ]
    },
    {
     "name": "stdout",
     "output_type": "stream",
     "text": [
      "                   all       2065       1530      0.959      0.969      0.972      0.619\n",
      "\n",
      "      Epoch    GPU_mem  giou_loss   cls_loss    l1_loss  Instances       Size\n"
     ]
    },
    {
     "name": "stderr",
     "output_type": "stream",
     "text": [
      "       9/10      5.98G     0.3001     0.3533     0.1029          2        640: 100%|██████████| 1378/1378 [13:00<00:00,  1.77it/s]\n",
      "                 Class     Images  Instances      Box(P          R      mAP50  mAP50-95): 100%|██████████| 173/173 [00:46<00:00,  3.73it/s]\n"
     ]
    },
    {
     "name": "stdout",
     "output_type": "stream",
     "text": [
      "                   all       2065       1530       0.96      0.963      0.978      0.639\n",
      "\n",
      "      Epoch    GPU_mem  giou_loss   cls_loss    l1_loss  Instances       Size\n"
     ]
    },
    {
     "name": "stderr",
     "output_type": "stream",
     "text": [
      "      10/10      5.98G     0.2877     0.3471    0.09735          3        640: 100%|██████████| 1378/1378 [13:00<00:00,  1.76it/s]\n",
      "                 Class     Images  Instances      Box(P          R      mAP50  mAP50-95): 100%|██████████| 173/173 [00:46<00:00,  3.74it/s]\n"
     ]
    },
    {
     "name": "stdout",
     "output_type": "stream",
     "text": [
      "                   all       2065       1530      0.963      0.971      0.983       0.63\n",
      "\n",
      "10 epochs completed in 2.302 hours.\n",
      "Optimizer stripped from byu-locating-bacterial-flagellar-motors/rtdetr-l_fold_0/weights/last.pt, 66.1MB\n",
      "Optimizer stripped from byu-locating-bacterial-flagellar-motors/rtdetr-l_fold_0/weights/best.pt, 66.1MB\n",
      "\n",
      "Validating byu-locating-bacterial-flagellar-motors/rtdetr-l_fold_0/weights/best.pt...\n",
      "Ultralytics 8.3.151 🚀 Python-3.10.12 torch-2.5.1+cu121 CUDA:0 (Tesla P100-PCIE-16GB, 16269MiB)\n",
      "rt-detr-l summary: 302 layers, 31,985,795 parameters, 0 gradients, 103.4 GFLOPs\n"
     ]
    },
    {
     "name": "stderr",
     "output_type": "stream",
     "text": [
      "                 Class     Images  Instances      Box(P          R      mAP50  mAP50-95): 100%|██████████| 173/173 [00:44<00:00,  3.86it/s]\n"
     ]
    },
    {
     "name": "stdout",
     "output_type": "stream",
     "text": [
      "                   all       2065       1530      0.963      0.971      0.983       0.63\n",
      "Speed: 0.2ms preprocess, 18.5ms inference, 0.0ms loss, 0.4ms postprocess per image\n",
      "Results saved to \u001b[1mbyu-locating-bacterial-flagellar-motors/rtdetr-l_fold_0\u001b[0m\n"
     ]
    }
   ],
   "source": [
    "model = RTDETR(CFG.yolo_model_name)\n",
    "\n",
    "results = model.train(\n",
    "    data=CFG.yolo_yaml_path,\n",
    "    epochs=CFG.epochs,\n",
    "    batch=6,\n",
    "    device=CFG.device,\n",
    "    imgsz=CFG.image_size,\n",
    "    optimizer='AdamW',\n",
    "    lr0=1e-4,\n",
    "    lrf=0.1,\n",
    "    warmup_epochs=0,\n",
    "    dropout=0.1,\n",
    "    project=CFG.project,\n",
    "    name=CFG.name,\n",
    "    exist_ok=True,\n",
    "    patience=CFG.es_patience,\n",
    "    save=True,\n",
    "    seed=CFG.seed,\n",
    "    val=True,\n",
    "    verbose=True\n",
    ")"
   ]
  },
  {
   "cell_type": "code",
   "execution_count": 11,
   "id": "15f4c310",
   "metadata": {
    "_kg_hide-output": true,
    "execution": {
     "iopub.execute_input": "2025-06-07T05:16:19.464590Z",
     "iopub.status.busy": "2025-06-07T05:16:19.464249Z",
     "iopub.status.idle": "2025-06-07T05:17:23.833619Z",
     "shell.execute_reply": "2025-06-07T05:17:23.832636Z"
    },
    "papermill": {
     "duration": 67.069096,
     "end_time": "2025-06-07T05:17:25.099800",
     "exception": false,
     "start_time": "2025-06-07T05:16:18.030704",
     "status": "completed"
    },
    "tags": []
   },
   "outputs": [
    {
     "name": "stdout",
     "output_type": "stream",
     "text": [
      "Ultralytics 8.3.151 🚀 Python-3.10.12 torch-2.5.1+cu121 CUDA:0 (Tesla P100-PCIE-16GB, 16269MiB)\n",
      "rt-detr-l summary: 302 layers, 31,985,795 parameters, 0 gradients, 103.4 GFLOPs\n",
      "\u001b[34m\u001b[1mval: \u001b[0mFast image access ✅ (ping: 0.0±0.0 ms, read: 2585.1±1423.6 MB/s, size: 395.2 KB)\n"
     ]
    },
    {
     "name": "stderr",
     "output_type": "stream",
     "text": [
      "\u001b[34m\u001b[1mval: \u001b[0mScanning /temp/dataset/fold_0/labels/val.cache... 2065 images, 535 backgrounds, 0 corrupt: 100%|██████████| 2065/2065 [00:00<?, ?it/s]\n",
      "                 Class     Images  Instances      Box(P          R      mAP50  mAP50-95): 100%|██████████| 345/345 [00:52<00:00,  6.62it/s]\n"
     ]
    },
    {
     "name": "stdout",
     "output_type": "stream",
     "text": [
      "                   all       2065       1530      0.964      0.972      0.984      0.631\n",
      "Speed: 0.2ms preprocess, 20.0ms inference, 0.0ms loss, 0.3ms postprocess per image\n",
      "Saving byu-locating-bacterial-flagellar-motors/rtdetr-l_fold_0/predictions.json...\n",
      "Results saved to \u001b[1mbyu-locating-bacterial-flagellar-motors/rtdetr-l_fold_0\u001b[0m\n",
      "{\n",
      "    \"ap\": 0.6306843751942807,\n",
      "    \"ap50\": 0.9837468011412751,\n",
      "    \"f1\": 0.9678594870468475,\n",
      "    \"map\": 0.6306843751942807,\n",
      "    \"map50\": 0.9837468011412751,\n",
      "    \"map75\": 0.7339922881644698,\n",
      "    \"maps\": 0.6306843751942807,\n",
      "    \"mp\": 0.9638569302805277,\n",
      "    \"mr\": 0.9718954248366013,\n",
      "    \"p\": 0.9638569302805277,\n",
      "    \"r\": 0.9718954248366013,\n",
      "    \"f2\": 0.9702770173164496\n",
      "}\n"
     ]
    }
   ],
   "source": [
    "results = model.val(verbose=False, save_json=True)\n",
    "\n",
    "print(json.dumps({\n",
    "    \"ap\": float(results.box.ap[0]),\n",
    "    \"ap50\": float(results.box.ap50[0]),\n",
    "    \"f1\": float(results.box.f1[0]),\n",
    "    \"map\": float(results.box.map),\n",
    "    \"map50\": float(results.box.map50),\n",
    "    \"map75\": float(results.box.map75),\n",
    "    \"maps\": float(results.box.maps[0]),\n",
    "    \"mp\": float(results.box.mp),\n",
    "    \"mr\": float(results.box.mr),\n",
    "    \"p\": float(results.box.p[0]),\n",
    "    \"r\": float(results.box.r[0]),\n",
    "    \"f2\": (5 * float(results.box.mp) * float(results.box.mr)) / (4 * float(results.box.mp) + float(results.box.mr))\n",
    "}, indent=4))"
   ]
  },
  {
   "cell_type": "code",
   "execution_count": 12,
   "id": "337b1302",
   "metadata": {
    "_kg_hide-output": true,
    "execution": {
     "iopub.execute_input": "2025-06-07T05:17:28.001605Z",
     "iopub.status.busy": "2025-06-07T05:17:28.001300Z",
     "iopub.status.idle": "2025-06-07T05:18:39.123987Z",
     "shell.execute_reply": "2025-06-07T05:18:39.123118Z"
    },
    "papermill": {
     "duration": 74.140049,
     "end_time": "2025-06-07T05:18:40.697520",
     "exception": false,
     "start_time": "2025-06-07T05:17:26.557471",
     "status": "completed"
    },
    "tags": []
   },
   "outputs": [
    {
     "name": "stdout",
     "output_type": "stream",
     "text": [
      "Ultralytics 8.3.151 🚀 Python-3.10.12 torch-2.5.1+cu121 CPU (Intel Xeon 2.00GHz)\n",
      "💡 ProTip: Export to OpenVINO format for best performance on Intel CPUs. Learn more at https://docs.ultralytics.com/integrations/openvino/\n",
      "rt-detr-l summary: 302 layers, 31,985,795 parameters, 0 gradients, 103.4 GFLOPs\n",
      "\n",
      "\u001b[34m\u001b[1mPyTorch:\u001b[0m starting from 'byu-locating-bacterial-flagellar-motors/rtdetr-l_fold_0/weights/best.pt' with input shape (8, 3, 640, 640) BCHW and output shape(s) (8, 300, 5) (63.1 MB)\n",
      "\n",
      "\u001b[34m\u001b[1mTorchScript:\u001b[0m starting export with torch 2.5.1+cu121...\n",
      "\u001b[34m\u001b[1mTorchScript:\u001b[0m export success ✅ 50.5s, saved as 'byu-locating-bacterial-flagellar-motors/rtdetr-l_fold_0/weights/best.torchscript' (123.0 MB)\n",
      "\n",
      "Export complete (71.1s)\n",
      "Results saved to \u001b[1m/kaggle/working/byu-locating-bacterial-flagellar-motors/rtdetr-l_fold_0/weights\u001b[0m\n",
      "Predict:         yolo predict task=detect model=byu-locating-bacterial-flagellar-motors/rtdetr-l_fold_0/weights/best.torchscript imgsz=640  \n",
      "Validate:        yolo val task=detect model=byu-locating-bacterial-flagellar-motors/rtdetr-l_fold_0/weights/best.torchscript imgsz=640 data=/temp/dataset/fold_0/dataset.yaml  \n",
      "Visualize:       https://netron.app\n"
     ]
    },
    {
     "data": {
      "text/plain": [
       "'byu-locating-bacterial-flagellar-motors/rtdetr-l_fold_0/weights/best.torchscript'"
      ]
     },
     "execution_count": 12,
     "metadata": {},
     "output_type": "execute_result"
    }
   ],
   "source": [
    "model.export(format='torchscript', imgsz=CFG.image_size, optimize=False, batch=8)"
   ]
  },
  {
   "cell_type": "markdown",
   "id": "40392827",
   "metadata": {
    "papermill": {
     "duration": 1.45689,
     "end_time": "2025-06-07T05:18:43.537182",
     "exception": false,
     "start_time": "2025-06-07T05:18:42.080292",
     "status": "completed"
    },
    "tags": []
   },
   "source": [
    "# Cleanup"
   ]
  },
  {
   "cell_type": "code",
   "execution_count": 13,
   "id": "0ac8722f",
   "metadata": {
    "execution": {
     "iopub.execute_input": "2025-06-07T05:18:46.475994Z",
     "iopub.status.busy": "2025-06-07T05:18:46.475633Z",
     "iopub.status.idle": "2025-06-07T05:18:46.493651Z",
     "shell.execute_reply": "2025-06-07T05:18:46.493005Z"
    },
    "papermill": {
     "duration": 1.483008,
     "end_time": "2025-06-07T05:18:46.494875",
     "exception": false,
     "start_time": "2025-06-07T05:18:45.011867",
     "status": "completed"
    },
    "tags": []
   },
   "outputs": [],
   "source": [
    "shutil.rmtree(\"wandb\", ignore_errors=True)\n",
    "try:\n",
    "    os.remove(\"yolo11n.pt\")\n",
    "    os.remove(CFG.yolo_model_name)\n",
    "except:\n",
    "    pass"
   ]
  }
 ],
 "metadata": {
  "kaggle": {
   "accelerator": "gpu",
   "dataSources": [
    {
     "databundleVersionId": 11294684,
     "sourceId": 91249,
     "sourceType": "competition"
    },
    {
     "sourceId": 241170270,
     "sourceType": "kernelVersion"
    }
   ],
   "dockerImageVersionId": 30919,
   "isGpuEnabled": true,
   "isInternetEnabled": true,
   "language": "python",
   "sourceType": "notebook"
  },
  "kernelspec": {
   "display_name": "Python 3",
   "language": "python",
   "name": "python3"
  },
  "language_info": {
   "codemirror_mode": {
    "name": "ipython",
    "version": 3
   },
   "file_extension": ".py",
   "mimetype": "text/x-python",
   "name": "python",
   "nbconvert_exporter": "python",
   "pygments_lexer": "ipython3",
   "version": "3.10.12"
  },
  "papermill": {
   "default_parameters": {},
   "duration": 8646.591141,
   "end_time": "2025-06-07T05:18:51.279783",
   "environment_variables": {},
   "exception": null,
   "input_path": "__notebook__.ipynb",
   "output_path": "__notebook__.ipynb",
   "parameters": {},
   "start_time": "2025-06-07T02:54:44.688642",
   "version": "2.6.0"
  }
 },
 "nbformat": 4,
 "nbformat_minor": 5
}
