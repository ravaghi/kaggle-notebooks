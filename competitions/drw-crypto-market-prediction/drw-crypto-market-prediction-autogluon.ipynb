{
 "cells": [
  {
   "cell_type": "markdown",
   "id": "727807a2",
   "metadata": {
    "papermill": {
     "duration": 0.004433,
     "end_time": "2025-05-25T18:16:05.686510",
     "exception": false,
     "start_time": "2025-05-25T18:16:05.682077",
     "status": "completed"
    },
    "tags": []
   },
   "source": [
    "# Imports and configs"
   ]
  },
  {
   "cell_type": "code",
   "execution_count": 1,
   "id": "a9a7b2d7",
   "metadata": {
    "_cell_guid": "b1076dfc-b9ad-4769-8c92-a6c4dae69d19",
    "_kg_hide-output": true,
    "_uuid": "8f2839f25d086af736a60e9eeb907d3b93b6e0e5",
    "execution": {
     "iopub.execute_input": "2025-05-25T18:16:05.694953Z",
     "iopub.status.busy": "2025-05-25T18:16:05.694643Z",
     "iopub.status.idle": "2025-05-25T18:16:19.687619Z",
     "shell.execute_reply": "2025-05-25T18:16:19.686419Z"
    },
    "papermill": {
     "duration": 13.999165,
     "end_time": "2025-05-25T18:16:19.689304",
     "exception": false,
     "start_time": "2025-05-25T18:16:05.690139",
     "status": "completed"
    },
    "tags": []
   },
   "outputs": [
    {
     "name": "stdout",
     "output_type": "stream",
     "text": [
      "\u001b[2K   \u001b[90m━━━━━━━━━━━━━━━━━━━━━━━━━━━━━━━━━━━━━━━━\u001b[0m \u001b[32m13.3/13.3 MB\u001b[0m \u001b[31m83.1 MB/s\u001b[0m eta \u001b[36m0:00:00\u001b[0m\r\n",
      "\u001b[2K   \u001b[90m━━━━━━━━━━━━━━━━━━━━━━━━━━━━━━━━━━━━━━━━\u001b[0m \u001b[32m382.4/382.4 kB\u001b[0m \u001b[31m21.1 MB/s\u001b[0m eta \u001b[36m0:00:00\u001b[0m\r\n",
      "\u001b[2K   \u001b[90m━━━━━━━━━━━━━━━━━━━━━━━━━━━━━━━━━━━━━━━━\u001b[0m \u001b[32m222.7/222.7 kB\u001b[0m \u001b[31m12.2 MB/s\u001b[0m eta \u001b[36m0:00:00\u001b[0m\r\n",
      "\u001b[2K   \u001b[90m━━━━━━━━━━━━━━━━━━━━━━━━━━━━━━━━━━━━━━━━\u001b[0m \u001b[32m64.2/64.2 kB\u001b[0m \u001b[31m3.5 MB/s\u001b[0m eta \u001b[36m0:00:00\u001b[0m\r\n",
      "\u001b[2K   \u001b[90m━━━━━━━━━━━━━━━━━━━━━━━━━━━━━━━━━━━━━━━━\u001b[0m \u001b[32m69.1/69.1 kB\u001b[0m \u001b[31m3.5 MB/s\u001b[0m eta \u001b[36m0:00:00\u001b[0m\r\n",
      "\u001b[?25h\u001b[31mERROR: pip's dependency resolver does not currently take into account all the packages that are installed. This behaviour is the source of the following dependency conflicts.\r\n",
      "cesium 0.12.4 requires numpy<3.0,>=2.0, but you have numpy 1.26.4 which is incompatible.\u001b[0m\u001b[31m\r\n",
      "\u001b[0m"
     ]
    }
   ],
   "source": [
    "!pip install -q scikit-learn==1.5.2 autogluon.tabular ray"
   ]
  },
  {
   "cell_type": "code",
   "execution_count": 2,
   "id": "8ab29c8c",
   "metadata": {
    "execution": {
     "iopub.execute_input": "2025-05-25T18:16:19.699371Z",
     "iopub.status.busy": "2025-05-25T18:16:19.699022Z",
     "iopub.status.idle": "2025-05-25T18:16:24.499908Z",
     "shell.execute_reply": "2025-05-25T18:16:24.499106Z"
    },
    "papermill": {
     "duration": 4.807744,
     "end_time": "2025-05-25T18:16:24.501540",
     "exception": false,
     "start_time": "2025-05-25T18:16:19.693796",
     "status": "completed"
    },
    "tags": []
   },
   "outputs": [],
   "source": [
    "from autogluon.tabular import TabularPredictor\n",
    "from autogluon.core.metrics import make_scorer\n",
    "from sklearn.model_selection import KFold\n",
    "from scipy.stats import pearsonr\n",
    "import matplotlib.pyplot as plt\n",
    "import seaborn as sns\n",
    "import pandas as pd\n",
    "import numpy as np\n",
    "import warnings\n",
    "import joblib\n",
    "import os\n",
    "\n",
    "warnings.filterwarnings(\"ignore\")"
   ]
  },
  {
   "cell_type": "code",
   "execution_count": 3,
   "id": "594124d9",
   "metadata": {
    "execution": {
     "iopub.execute_input": "2025-05-25T18:16:24.511779Z",
     "iopub.status.busy": "2025-05-25T18:16:24.510869Z",
     "iopub.status.idle": "2025-05-25T18:16:24.515972Z",
     "shell.execute_reply": "2025-05-25T18:16:24.514998Z"
    },
    "papermill": {
     "duration": 0.011541,
     "end_time": "2025-05-25T18:16:24.517311",
     "exception": false,
     "start_time": "2025-05-25T18:16:24.505770",
     "status": "completed"
    },
    "tags": []
   },
   "outputs": [],
   "source": [
    "class CFG:\n",
    "    train_path = \"/kaggle/input/drw-crypto-market-prediction/train.parquet\"\n",
    "    test_path = \"/kaggle/input/drw-crypto-market-prediction/test.parquet\"\n",
    "    sample_sub_path = \"/kaggle/input/drw-crypto-market-prediction/sample_submission.csv\"\n",
    "    \n",
    "    target = \"label\"\n",
    "    n_folds = 5\n",
    "    seed = 42\n",
    "    time_limit = 3600 * 11"
   ]
  },
  {
   "cell_type": "markdown",
   "id": "037b6e56",
   "metadata": {
    "papermill": {
     "duration": 0.003794,
     "end_time": "2025-05-25T18:16:24.525298",
     "exception": false,
     "start_time": "2025-05-25T18:16:24.521504",
     "status": "completed"
    },
    "tags": []
   },
   "source": [
    "# Loading data and predefining folds"
   ]
  },
  {
   "cell_type": "code",
   "execution_count": 4,
   "id": "a632474b",
   "metadata": {
    "_kg_hide-input": true,
    "execution": {
     "iopub.execute_input": "2025-05-25T18:16:24.536218Z",
     "iopub.status.busy": "2025-05-25T18:16:24.534983Z",
     "iopub.status.idle": "2025-05-25T18:16:24.545450Z",
     "shell.execute_reply": "2025-05-25T18:16:24.544479Z"
    },
    "papermill": {
     "duration": 0.017538,
     "end_time": "2025-05-25T18:16:24.547081",
     "exception": false,
     "start_time": "2025-05-25T18:16:24.529543",
     "status": "completed"
    },
    "tags": []
   },
   "outputs": [],
   "source": [
    "def reduce_mem_usage(dataframe, dataset):    \n",
    "    print('Reducing memory usage for:', dataset)\n",
    "    initial_mem_usage = dataframe.memory_usage().sum() / 1024**2\n",
    "    \n",
    "    for col in dataframe.columns:\n",
    "        col_type = dataframe[col].dtype\n",
    "        \n",
    "        c_min = dataframe[col].min()\n",
    "        c_max = dataframe[col].max()\n",
    "        if str(col_type)[:3] == 'int':\n",
    "            if c_min > np.iinfo(np.int8).min and c_max < np.iinfo(np.int8).max:\n",
    "                dataframe[col] = dataframe[col].astype(np.int8)\n",
    "            elif c_min > np.iinfo(np.int16).min and c_max < np.iinfo(np.int16).max:\n",
    "                dataframe[col] = dataframe[col].astype(np.int16)\n",
    "            elif c_min > np.iinfo(np.int32).min and c_max < np.iinfo(np.int32).max:\n",
    "                dataframe[col] = dataframe[col].astype(np.int32)\n",
    "            elif c_min > np.iinfo(np.int64).min and c_max < np.iinfo(np.int64).max:\n",
    "                dataframe[col] = dataframe[col].astype(np.int64)\n",
    "        else:\n",
    "            if c_min > np.finfo(np.float16).min and c_max < np.finfo(np.float16).max:\n",
    "                dataframe[col] = dataframe[col].astype(np.float16)\n",
    "            elif c_min > np.finfo(np.float32).min and c_max < np.finfo(np.float32).max:\n",
    "                dataframe[col] = dataframe[col].astype(np.float32)\n",
    "            else:\n",
    "                dataframe[col] = dataframe[col].astype(np.float64)\n",
    "\n",
    "    final_mem_usage = dataframe.memory_usage().sum() / 1024**2\n",
    "    print('--- Memory usage before: {:.2f} MB'.format(initial_mem_usage))\n",
    "    print('--- Memory usage after: {:.2f} MB'.format(final_mem_usage))\n",
    "    print('--- Decreased memory usage by {:.1f}%\\n'.format(100 * (initial_mem_usage - final_mem_usage) / initial_mem_usage))\n",
    "\n",
    "    return dataframe"
   ]
  },
  {
   "cell_type": "code",
   "execution_count": 5,
   "id": "3c8200b8",
   "metadata": {
    "execution": {
     "iopub.execute_input": "2025-05-25T18:16:24.557199Z",
     "iopub.status.busy": "2025-05-25T18:16:24.556411Z",
     "iopub.status.idle": "2025-05-25T18:16:24.563105Z",
     "shell.execute_reply": "2025-05-25T18:16:24.562366Z"
    },
    "papermill": {
     "duration": 0.013112,
     "end_time": "2025-05-25T18:16:24.564526",
     "exception": false,
     "start_time": "2025-05-25T18:16:24.551414",
     "status": "completed"
    },
    "tags": []
   },
   "outputs": [],
   "source": [
    "cols_to_drop = [\n",
    "    'X306', 'X515', 'X244', 'X522', 'X176', 'X387', 'X246', 'X585', 'X519', 'X591', \n",
    "    'X481', 'X703', 'X711', 'X648', 'X627', 'X775', 'X624', 'X869', 'X242', 'X357',\n",
    "    'X394', 'X582', 'X158', 'X143', 'X717', 'X550', 'X739', 'X621', 'X128', 'X815',\n",
    "    'X850', 'X706', 'X114', 'X146', 'X578', 'X710', 'X102', 'X429', 'X633', 'X529',\n",
    "    'X707', 'X110', 'X542', 'X116', 'X811', 'X590', 'X411', 'X521', 'X392', 'X618', \n",
    "    'X712', 'X576', 'X375', 'X864', 'X541', 'X327', 'X486', 'X266', 'X100', 'X701', \n",
    "    'X807', 'X240', 'X399', 'X528', 'X501', 'X405', 'X597', 'X698', 'X309', 'X871', \n",
    "    'X423', 'X492', 'X569', 'X670', 'X61', 'X699', 'X393', 'X697', 'X544', 'X348',\n",
    "    'X867', 'X570', 'X164', 'X716', 'X628', 'X702', 'X715', 'X237', 'X417', 'X872', \n",
    "    'X622', 'X101', 'X543', 'X630', 'X571', 'X704', 'X508', 'X536', 'X870', 'X533',\n",
    "    'X534', 'X68', 'X484', 'X767', 'X363', 'X122', 'X615', 'X705', 'X708', 'X134', \n",
    "    'X563', 'X152', 'X848', 'X381', 'X749', 'X577', 'X625', 'X369', 'X351', 'X62', \n",
    "    'X535', 'X740', 'X170', 'X700', 'X182', 'X714', 'X616', 'X80', 'X140', 'X308', \n",
    "    'X709', 'X642', 'X104', 'X713', 'X74', 'X593'\n",
    "]"
   ]
  },
  {
   "cell_type": "code",
   "execution_count": 6,
   "id": "31e9e08f",
   "metadata": {
    "execution": {
     "iopub.execute_input": "2025-05-25T18:16:24.573786Z",
     "iopub.status.busy": "2025-05-25T18:16:24.573502Z",
     "iopub.status.idle": "2025-05-25T18:17:26.874048Z",
     "shell.execute_reply": "2025-05-25T18:17:26.872962Z"
    },
    "papermill": {
     "duration": 62.307133,
     "end_time": "2025-05-25T18:17:26.875808",
     "exception": false,
     "start_time": "2025-05-25T18:16:24.568675",
     "status": "completed"
    },
    "tags": []
   },
   "outputs": [
    {
     "name": "stdout",
     "output_type": "stream",
     "text": [
      "Reducing memory usage for: train\n",
      "--- Memory usage before: 3049.27 MB\n",
      "--- Memory usage after: 762.32 MB\n",
      "--- Decreased memory usage by 75.0%\n",
      "\n",
      "Reducing memory usage for: test\n",
      "--- Memory usage before: 3116.27 MB\n",
      "--- Memory usage after: 779.07 MB\n",
      "--- Decreased memory usage by 75.0%\n",
      "\n"
     ]
    }
   ],
   "source": [
    "train = pd.read_parquet(CFG.train_path).reset_index(drop=True)\n",
    "test = pd.read_parquet(CFG.test_path).reset_index(drop=True)\n",
    "\n",
    "train = train.drop(columns=cols_to_drop)\n",
    "test = test.drop(columns=[\"label\"] + cols_to_drop)\n",
    "\n",
    "train = reduce_mem_usage(train, \"train\")\n",
    "test = reduce_mem_usage(test, \"test\")"
   ]
  },
  {
   "cell_type": "code",
   "execution_count": 7,
   "id": "e5183ca9",
   "metadata": {
    "execution": {
     "iopub.execute_input": "2025-05-25T18:17:26.887755Z",
     "iopub.status.busy": "2025-05-25T18:17:26.887311Z",
     "iopub.status.idle": "2025-05-25T18:17:26.966179Z",
     "shell.execute_reply": "2025-05-25T18:17:26.965341Z"
    },
    "papermill": {
     "duration": 0.086545,
     "end_time": "2025-05-25T18:17:26.967764",
     "exception": false,
     "start_time": "2025-05-25T18:17:26.881219",
     "status": "completed"
    },
    "tags": []
   },
   "outputs": [],
   "source": [
    "kf = KFold(n_splits=CFG.n_folds, shuffle=False)\n",
    "split = kf.split(train, train[CFG.target])\n",
    "for i, (_, val_index) in enumerate(split):\n",
    "    train.loc[val_index, \"fold\"] = i"
   ]
  },
  {
   "cell_type": "markdown",
   "id": "b3adbbf2",
   "metadata": {
    "papermill": {
     "duration": 0.004028,
     "end_time": "2025-05-25T18:17:26.976214",
     "exception": false,
     "start_time": "2025-05-25T18:17:26.972186",
     "status": "completed"
    },
    "tags": []
   },
   "source": [
    "# Fitting the predictor"
   ]
  },
  {
   "cell_type": "code",
   "execution_count": 8,
   "id": "fb800824",
   "metadata": {
    "execution": {
     "iopub.execute_input": "2025-05-25T18:17:26.985971Z",
     "iopub.status.busy": "2025-05-25T18:17:26.985662Z",
     "iopub.status.idle": "2025-05-25T18:17:26.990744Z",
     "shell.execute_reply": "2025-05-25T18:17:26.989816Z"
    },
    "papermill": {
     "duration": 0.011676,
     "end_time": "2025-05-25T18:17:26.992187",
     "exception": false,
     "start_time": "2025-05-25T18:17:26.980511",
     "status": "completed"
    },
    "tags": []
   },
   "outputs": [],
   "source": [
    "def _pearsonr(y_true, y_pred):\n",
    "    return pearsonr(y_true.astype(np.float32), y_pred.astype(np.float32))[0]\n",
    "\n",
    "eval_metric = make_scorer(\n",
    "    name='pearsonr',\n",
    "    score_func=_pearsonr,\n",
    "    optimum=1,\n",
    "    greater_is_better=True\n",
    ")"
   ]
  },
  {
   "cell_type": "code",
   "execution_count": 9,
   "id": "06dd346a",
   "metadata": {
    "_kg_hide-output": true,
    "execution": {
     "iopub.execute_input": "2025-05-25T18:17:27.002898Z",
     "iopub.status.busy": "2025-05-25T18:17:27.002208Z",
     "iopub.status.idle": "2025-05-25T18:17:27.007359Z",
     "shell.execute_reply": "2025-05-25T18:17:27.006612Z"
    },
    "papermill": {
     "duration": 0.012196,
     "end_time": "2025-05-25T18:17:27.009013",
     "exception": false,
     "start_time": "2025-05-25T18:17:26.996817",
     "status": "completed"
    },
    "tags": []
   },
   "outputs": [],
   "source": [
    "predictor = TabularPredictor(\n",
    "    path=\"/logs\",\n",
    "    problem_type=\"regression\",\n",
    "    eval_metric=eval_metric,\n",
    "    label=CFG.target,\n",
    "    groups=\"fold\",\n",
    "    verbosity=2\n",
    ")"
   ]
  },
  {
   "cell_type": "code",
   "execution_count": 10,
   "id": "e7680935",
   "metadata": {
    "_kg_hide-output": true,
    "execution": {
     "iopub.execute_input": "2025-05-25T18:17:27.019727Z",
     "iopub.status.busy": "2025-05-25T18:17:27.019437Z",
     "iopub.status.idle": "2025-05-26T05:17:40.057274Z",
     "shell.execute_reply": "2025-05-26T05:17:40.056498Z"
    },
    "papermill": {
     "duration": 39613.045129,
     "end_time": "2025-05-26T05:17:40.059367",
     "exception": false,
     "start_time": "2025-05-25T18:17:27.014238",
     "status": "completed"
    },
    "scrolled": true,
    "tags": []
   },
   "outputs": [
    {
     "name": "stderr",
     "output_type": "stream",
     "text": [
      "Verbosity: 2 (Standard Logging)\n",
      "=================== System Info ===================\n",
      "AutoGluon Version:  1.3.1\n",
      "Python Version:     3.11.11\n",
      "Operating System:   Linux\n",
      "Platform Machine:   x86_64\n",
      "Platform Version:   #1 SMP PREEMPT_DYNAMIC Sun Nov 10 10:07:59 UTC 2024\n",
      "CPU Count:          4\n",
      "Memory Avail:       22.71 GB / 31.35 GB (72.4%)\n",
      "Disk Space Avail:   1704.25 GB / 8062.39 GB (21.1%)\n",
      "===================================================\n",
      "Presets specified: ['best_quality']\n",
      "Setting dynamic_stacking from 'auto' to True. Reason: Enable dynamic_stacking when use_bag_holdout is disabled. (use_bag_holdout=False)\n",
      "Stack configuration (auto_stack=True): num_stack_levels=1, num_bag_folds=8, num_bag_sets=1\n",
      "DyStack is enabled (dynamic_stacking=True). AutoGluon will try to determine whether the input data is affected by stacked overfitting and enable or disable stacking as a consequence.\n",
      "\tThis is used to identify the optimal `num_stack_levels` value. Copies of AutoGluon will be fit on subsets of the data. Then holdout validation data is used to detect stacked overfitting.\n",
      "\tRunning DyStack for up to 9900s of the 39600s of remaining time (25%).\n",
      "\t\tContext path: \"/logs/ds_sub_fit/sub_fit_ho\"\n",
      "Running DyStack sub-fit ...\n",
      "Values in column 'fold' used as split folds instead of being automatically set. Bagged models will have 5 splits.\n",
      "Beginning AutoGluon training ... Time limit = 9899s\n",
      "AutoGluon will save models to \"/logs/ds_sub_fit/sub_fit_ho\"\n",
      "Train Data Rows:    467455\n",
      "Train Data Columns: 760\n",
      "Label Column:       label\n",
      "Problem Type:       regression\n",
      "Preprocessing data ...\n",
      "Using Feature Generators to preprocess the data ...\n",
      "Fitting AutoMLPipelineFeatureGenerator...\n",
      "\tAvailable Memory:                    22376.75 MB\n",
      "\tTrain Data (Original)  Memory Usage: 676.72 MB (3.0% of available memory)\n",
      "\tInferring data type of each feature based on column values. Set feature_metadata_in to manually specify special dtypes of the features.\n",
      "\tStage 1 Generators:\n",
      "\t\tFitting AsTypeFeatureGenerator...\n",
      "\tStage 2 Generators:\n",
      "\t\tFitting FillNaFeatureGenerator...\n",
      "\tStage 3 Generators:\n",
      "\t\tFitting IdentityFeatureGenerator...\n",
      "\tStage 4 Generators:\n",
      "\t\tFitting DropUniqueFeatureGenerator...\n",
      "\tStage 5 Generators:\n",
      "\t\tFitting DropDuplicatesFeatureGenerator...\n",
      "\tTypes of features in original data (raw dtype, special dtypes):\n",
      "\t\t('float', []) : 759 | ['bid_qty', 'ask_qty', 'buy_qty', 'sell_qty', 'volume', ...]\n",
      "\tTypes of features in processed data (raw dtype, special dtypes):\n",
      "\t\t('float', []) : 759 | ['bid_qty', 'ask_qty', 'buy_qty', 'sell_qty', 'volume', ...]\n",
      "\t35.7s = Fit runtime\n",
      "\t759 features in original data used to generate 759 features in processed data.\n",
      "\tTrain Data (Processed) Memory Usage: 676.72 MB (3.0% of available memory)\n",
      "Data preprocessing and feature engineering runtime = 38.64s ...\n",
      "AutoGluon will gauge predictive performance using evaluation metric: 'pearsonr'\n",
      "\tTo change this, specify the eval_metric parameter of Predictor()\n",
      "Large model count detected (112 configs) ... Only displaying the first 3 models of each family. To see all, set `verbosity=3`.\n",
      "User-specified model hyperparameters to be fit:\n",
      "{\n",
      "\t'NN_TORCH': [{}, {'activation': 'elu', 'dropout_prob': 0.10077639529843717, 'hidden_size': 108, 'learning_rate': 0.002735937344002146, 'num_layers': 4, 'use_batchnorm': True, 'weight_decay': 1.356433327634438e-12, 'ag_args': {'name_suffix': '_r79', 'priority': -2}}, {'activation': 'elu', 'dropout_prob': 0.11897478034205347, 'hidden_size': 213, 'learning_rate': 0.0010474382260641949, 'num_layers': 4, 'use_batchnorm': False, 'weight_decay': 5.594471067786272e-10, 'ag_args': {'name_suffix': '_r22', 'priority': -7}}],\n",
      "\t'GBM': [{'extra_trees': True, 'ag_args': {'name_suffix': 'XT'}}, {}, {'learning_rate': 0.03, 'num_leaves': 128, 'feature_fraction': 0.9, 'min_data_in_leaf': 3, 'ag_args': {'name_suffix': 'Large', 'priority': 0, 'hyperparameter_tune_kwargs': None}}],\n",
      "\t'CAT': [{}, {'depth': 6, 'grow_policy': 'SymmetricTree', 'l2_leaf_reg': 2.1542798306067823, 'learning_rate': 0.06864209415792857, 'max_ctr_complexity': 4, 'one_hot_max_size': 10, 'ag_args': {'name_suffix': '_r177', 'priority': -1}}, {'depth': 8, 'grow_policy': 'Depthwise', 'l2_leaf_reg': 2.7997999596449104, 'learning_rate': 0.031375015734637225, 'max_ctr_complexity': 2, 'one_hot_max_size': 3, 'ag_args': {'name_suffix': '_r9', 'priority': -5}}],\n",
      "\t'XGB': [{}, {'colsample_bytree': 0.6917311125174739, 'enable_categorical': False, 'learning_rate': 0.018063876087523967, 'max_depth': 10, 'min_child_weight': 0.6028633586934382, 'ag_args': {'name_suffix': '_r33', 'priority': -8}}, {'colsample_bytree': 0.6628423832084077, 'enable_categorical': False, 'learning_rate': 0.08775715546881824, 'max_depth': 5, 'min_child_weight': 0.6294123374222513, 'ag_args': {'name_suffix': '_r89', 'priority': -16}}],\n",
      "\t'FASTAI': [{}, {'bs': 256, 'emb_drop': 0.5411770367537934, 'epochs': 43, 'layers': [800, 400], 'lr': 0.01519848858318159, 'ps': 0.23782946566604385, 'ag_args': {'name_suffix': '_r191', 'priority': -4}}, {'bs': 2048, 'emb_drop': 0.05070411322605811, 'epochs': 29, 'layers': [200, 100], 'lr': 0.08974235041576624, 'ps': 0.10393466140748028, 'ag_args': {'name_suffix': '_r102', 'priority': -11}}],\n",
      "\t'RF': [{'criterion': 'gini', 'ag_args': {'name_suffix': 'Gini', 'problem_types': ['binary', 'multiclass']}}, {'criterion': 'entropy', 'ag_args': {'name_suffix': 'Entr', 'problem_types': ['binary', 'multiclass']}}, {'criterion': 'squared_error', 'ag_args': {'name_suffix': 'MSE', 'problem_types': ['regression', 'quantile']}}],\n",
      "\t'XT': [{'criterion': 'gini', 'ag_args': {'name_suffix': 'Gini', 'problem_types': ['binary', 'multiclass']}}, {'criterion': 'entropy', 'ag_args': {'name_suffix': 'Entr', 'problem_types': ['binary', 'multiclass']}}, {'criterion': 'squared_error', 'ag_args': {'name_suffix': 'MSE', 'problem_types': ['regression', 'quantile']}}],\n",
      "\t'KNN': [{'weights': 'uniform', 'ag_args': {'name_suffix': 'Unif'}}, {'weights': 'distance', 'ag_args': {'name_suffix': 'Dist'}}],\n",
      "}\n",
      "AutoGluon will fit 2 stack levels (L1 to L2) ...\n",
      "Excluded models: ['RF', 'KNN', 'XGB', 'FASTAI', 'NN_TORCH'] (Specified by `excluded_model_types`)\n",
      "Fitting 44 L1 models, fit_strategy=\"sequential\" ...\n",
      "Fitting model: LightGBMXT_BAG_L1 ... Training model for up to 6571.74s of the 9860.07s of remaining time.\n",
      "Will use sequential fold fitting strategy because import of ray failed. Reason: ray==2.46.0 detected. 2.10.0 <= ray < 2.45.0 is required. You can use pip to install certain version of ray `pip install \"ray>=2.10.0,<2.45.0\"`\n",
      "\tFitting 5 child models (S1F1 - S1F5) | Fitting with SequentialLocalFoldFittingStrategy\n",
      "\t0.0962\t = Validation score   (pearsonr)\n",
      "\t576.47s\t = Training   runtime\n",
      "\t4.39s\t = Validation runtime\n",
      "Fitting model: LightGBM_BAG_L1 ... Training model for up to 5967.04s of the 9255.37s of remaining time.\n",
      "\tFitting 5 child models (S1F1 - S1F5) | Fitting with SequentialLocalFoldFittingStrategy\n",
      "\t0.1027\t = Validation score   (pearsonr)\n",
      "\t748.07s\t = Training   runtime\n",
      "\t5.34s\t = Validation runtime\n",
      "Fitting model: CatBoost_BAG_L1 ... Training model for up to 5195.90s of the 8484.23s of remaining time.\n",
      "\tFitting 5 child models (S1F1 - S1F5) | Fitting with SequentialLocalFoldFittingStrategy\n",
      "\t0.0663\t = Validation score   (pearsonr)\n",
      "\t851.07s\t = Training   runtime\n",
      "\t118.35s\t = Validation runtime\n",
      "Fitting model: ExtraTreesMSE_BAG_L1 ... Training model for up to 4208.20s of the 7496.53s of remaining time.\n",
      "\tForcing `use_child_oof=False` because `groups` is specified\n",
      "\tFitting 5 child models (S1F1 - S1F5) | Fitting with SequentialLocalFoldFittingStrategy\n",
      "\tWarning: Model is expected to require 12860.1s to train, which exceeds the maximum time limit of 664.0s, skipping model...\n",
      "\tTime limit exceeded... Skipping ExtraTreesMSE_BAG_L1.\n",
      "Fitting model: LightGBMLarge_BAG_L1 ... Training model for up to 4008.28s of the 7296.61s of remaining time.\n",
      "\tFitting 5 child models (S1F1 - S1F5) | Fitting with SequentialLocalFoldFittingStrategy\n",
      "\t0.0824\t = Validation score   (pearsonr)\n",
      "\t1182.63s\t = Training   runtime\n",
      "\t6.49s\t = Validation runtime\n",
      "Fitting model: CatBoost_r177_BAG_L1 ... Training model for up to 2800.68s of the 6089.01s of remaining time.\n",
      "\tFitting 5 child models (S1F1 - S1F5) | Fitting with SequentialLocalFoldFittingStrategy\n",
      "\t0.0303\t = Validation score   (pearsonr)\n",
      "\t798.91s\t = Training   runtime\n",
      "\t118.14s\t = Validation runtime\n",
      "Fitting model: LightGBM_r131_BAG_L1 ... Training model for up to 1866.56s of the 5154.89s of remaining time.\n",
      "\tFitting 5 child models (S1F1 - S1F5) | Fitting with SequentialLocalFoldFittingStrategy\n",
      "\t0.0758\t = Validation score   (pearsonr)\n",
      "\t1113.07s\t = Training   runtime\n",
      "\t8.93s\t = Validation runtime\n",
      "Fitting model: CatBoost_r9_BAG_L1 ... Training model for up to 727.22s of the 4015.55s of remaining time.\n",
      "\tFitting 5 child models (S1F1 - S1F5) | Fitting with SequentialLocalFoldFittingStrategy\n",
      "\tTime limit exceeded... Skipping CatBoost_r9_BAG_L1.\n",
      "Fitting model: LightGBM_r96_BAG_L1 ... Training model for up to 585.07s of the 3873.40s of remaining time.\n",
      "\tFitting 5 child models (S1F1 - S1F5) | Fitting with SequentialLocalFoldFittingStrategy\n",
      "\tRan out of time, early stopping on iteration 158. Best iteration is:\n",
      "\t[148]\tvalid_set's l2: 0.982279\tvalid_set's pearsonr: 0.205365\n",
      "\tRan out of time, early stopping on iteration 175. Best iteration is:\n",
      "\t[165]\tvalid_set's l2: 0.90089\tvalid_set's pearsonr: 0.0468156\n",
      "\t0.0796\t = Validation score   (pearsonr)\n",
      "\t376.54s\t = Training   runtime\n",
      "\t3.86s\t = Validation runtime\n",
      "Fitting model: ExtraTrees_r42_BAG_L1 ... Training model for up to 187.55s of the 3475.88s of remaining time.\n",
      "\tForcing `use_child_oof=False` because `groups` is specified\n",
      "\tFitting 5 child models (S1F1 - S1F5) | Fitting with SequentialLocalFoldFittingStrategy\n",
      "\tWarning: Model is expected to require 10258.5s to train, which exceeds the maximum time limit of 21.0s, skipping model...\n",
      "\tTime limit exceeded... Skipping ExtraTrees_r42_BAG_L1.\n",
      "Fitting model: CatBoost_r137_BAG_L1 ... Training model for up to 23.94s of the 3312.27s of remaining time.\n",
      "\tFitting 5 child models (S1F1 - S1F5) | Fitting with SequentialLocalFoldFittingStrategy\n",
      "\tWarning: Model has no time left to train, skipping model... (Time Left = -5.4s)\n",
      "\tTime limit exceeded... Skipping CatBoost_r137_BAG_L1.\n",
      "Fitting model: WeightedEnsemble_L2 ... Training model for up to 657.17s of the 3286.81s of remaining time.\n",
      "\tEnsemble Weights: {'LightGBM_r96_BAG_L1': 0.368, 'CatBoost_BAG_L1': 0.263, 'LightGBMXT_BAG_L1': 0.158, 'LightGBM_BAG_L1': 0.158, 'LightGBM_r131_BAG_L1': 0.053}\n",
      "\t0.1199\t = Validation score   (pearsonr)\n",
      "\t1.81s\t = Training   runtime\n",
      "\t0.02s\t = Validation runtime\n",
      "Excluded models: ['RF', 'KNN', 'XGB', 'FASTAI', 'NN_TORCH'] (Specified by `excluded_model_types`)\n",
      "Fitting 44 L2 models, fit_strategy=\"sequential\" ...\n",
      "Fitting model: LightGBMXT_BAG_L2 ... Training model for up to 3284.91s of the 3284.72s of remaining time.\n",
      "\tFitting 5 child models (S1F1 - S1F5) | Fitting with SequentialLocalFoldFittingStrategy\n",
      "\t0.0876\t = Validation score   (pearsonr)\n",
      "\t535.34s\t = Training   runtime\n",
      "\t4.07s\t = Validation runtime\n",
      "Fitting model: LightGBM_BAG_L2 ... Training model for up to 2727.92s of the 2727.73s of remaining time.\n",
      "\tFitting 5 child models (S1F1 - S1F5) | Fitting with SequentialLocalFoldFittingStrategy\n",
      "\t0.0621\t = Validation score   (pearsonr)\n",
      "\t408.99s\t = Training   runtime\n",
      "\t3.58s\t = Validation runtime\n",
      "Fitting model: CatBoost_BAG_L2 ... Training model for up to 2298.07s of the 2297.88s of remaining time.\n",
      "\tFitting 5 child models (S1F1 - S1F5) | Fitting with SequentialLocalFoldFittingStrategy\n",
      "\t0.0695\t = Validation score   (pearsonr)\n",
      "\t831.01s\t = Training   runtime\n",
      "\t118.99s\t = Validation runtime\n",
      "Fitting model: ExtraTreesMSE_BAG_L2 ... Training model for up to 1330.64s of the 1330.45s of remaining time.\n",
      "\tForcing `use_child_oof=False` because `groups` is specified\n",
      "\tFitting 5 child models (S1F1 - S1F5) | Fitting with SequentialLocalFoldFittingStrategy\n",
      "\tWarning: Model is expected to require 12943.8s to train, which exceeds the maximum time limit of 203.8s, skipping model...\n",
      "\tTime limit exceeded... Skipping ExtraTreesMSE_BAG_L2.\n",
      "Fitting model: LightGBMLarge_BAG_L2 ... Training model for up to 1130.93s of the 1130.73s of remaining time.\n",
      "\tFitting 5 child models (S1F1 - S1F5) | Fitting with SequentialLocalFoldFittingStrategy\n",
      "\tRan out of time, early stopping on iteration 121. Best iteration is:\n",
      "\t[92]\tvalid_set's l2: 1.01142\tvalid_set's pearsonr: 0.128198\n",
      "\t0.0783\t = Validation score   (pearsonr)\n",
      "\t791.19s\t = Training   runtime\n",
      "\t5.62s\t = Validation runtime\n",
      "Fitting model: CatBoost_r177_BAG_L2 ... Training model for up to 314.41s of the 314.21s of remaining time.\n",
      "\tFitting 5 child models (S1F1 - S1F5) | Fitting with SequentialLocalFoldFittingStrategy\n",
      "\tTime limit exceeded... Skipping CatBoost_r177_BAG_L2.\n",
      "Fitting model: LightGBM_r131_BAG_L2 ... Training model for up to 172.50s of the 172.31s of remaining time.\n",
      "\tFitting 5 child models (S1F1 - S1F5) | Fitting with SequentialLocalFoldFittingStrategy\n",
      "\tRan out of time, early stopping on iteration 1. Best iteration is:\n",
      "\t[1]\tvalid_set's l2: 1.00938\tvalid_set's pearsonr: 0.0262668\n",
      "\tTime limit exceeded... Skipping LightGBM_r131_BAG_L2.\n",
      "Fitting model: CatBoost_r9_BAG_L2 ... Training model for up to 103.22s of the 103.03s of remaining time.\n",
      "\tFitting 5 child models (S1F1 - S1F5) | Fitting with SequentialLocalFoldFittingStrategy\n",
      "\tTime limit exceeded... Skipping CatBoost_r9_BAG_L2.\n",
      "Fitting model: WeightedEnsemble_L3 ... Training model for up to 360.00s of the -41.80s of remaining time.\n",
      "\tEnsemble Weights: {'LightGBM_r96_BAG_L1': 0.36, 'CatBoost_BAG_L1': 0.2, 'LightGBM_BAG_L1': 0.16, 'LightGBMXT_BAG_L1': 0.12, 'CatBoost_BAG_L2': 0.12, 'LightGBM_r131_BAG_L1': 0.04}\n",
      "\t0.1203\t = Validation score   (pearsonr)\n",
      "\t2.77s\t = Training   runtime\n",
      "\t0.01s\t = Validation runtime\n",
      "AutoGluon training complete, total runtime = 9944.18s ... Best model: WeightedEnsemble_L3 | Estimated inference throughput: 243.2 rows/s (93491 batch size)\n",
      "TabularPredictor saved. To load, use: predictor = TabularPredictor.load(\"/logs/ds_sub_fit/sub_fit_ho\")\n",
      "Deleting DyStack predictor artifacts (clean_up_fits=True) ...\n",
      "Leaderboard on holdout data (DyStack):\n",
      "                   model  score_holdout  score_val eval_metric  pred_time_test  pred_time_val     fit_time  pred_time_test_marginal  pred_time_val_marginal  fit_time_marginal  stack_level  can_infer  fit_order\n",
      "0   LightGBMLarge_BAG_L1       0.864726   0.082405    pearsonr        4.112247       6.487351  1182.625015                 4.112247                6.487351        1182.625015            1       True          4\n",
      "1   LightGBMLarge_BAG_L2       0.808911   0.078338    pearsonr      170.825856     271.126007  6437.950836                 3.646751                5.624217         791.187193            2       True         12\n",
      "2        LightGBM_BAG_L1       0.800344   0.102661    pearsonr        3.315565       5.340950   748.071486                 3.315565                5.340950         748.071486            1       True          2\n",
      "3   LightGBM_r131_BAG_L1       0.790181   0.075772    pearsonr        5.647459       8.934010  1113.073575                 5.647459                8.934010        1113.073575            1       True          6\n",
      "4    WeightedEnsemble_L2       0.718129   0.119870    pearsonr       89.182847     140.894817  3667.042643                 0.005617                0.016045           1.812822            2       True          8\n",
      "5    WeightedEnsemble_L3       0.717748   0.120252    pearsonr      241.226375     384.502040  6480.538172                 0.005583                0.013140           2.767712            3       True         13\n",
      "6      LightGBMXT_BAG_L1       0.717168   0.096188    pearsonr        2.576475       4.393533   576.471249                 2.576475                4.393533         576.471249            1       True          1\n",
      "7      LightGBMXT_BAG_L2       0.712528   0.087636    pearsonr      169.689166     269.571155  6182.100045                 2.510060                4.069365         535.336402            2       True          9\n",
      "8        LightGBM_BAG_L2       0.686861   0.062059    pearsonr      169.375355     269.081213  6055.758420                 2.196249                3.579422         408.994777            2       True         10\n",
      "9        CatBoost_BAG_L2       0.563453   0.069509    pearsonr      241.220792     384.488899  6477.770460                74.041686              118.987108         831.006817            2       True         11\n",
      "10   LightGBM_r96_BAG_L1       0.487806   0.079575    pearsonr        2.382809       3.860782   376.539849                 2.382809                3.860782         376.539849            1       True          7\n",
      "11       CatBoost_BAG_L1       0.443211   0.066269    pearsonr       75.254922     118.349499   851.073663                75.254922              118.349499         851.073663            1       True          3\n",
      "12  CatBoost_r177_BAG_L1       0.411654   0.030282    pearsonr       73.889628     118.135667   798.908807                73.889628              118.135667         798.908807            1       True          5\n",
      "\t0\t = Optimal   num_stack_levels (Stacked Overfitting Occurred: True)\n",
      "\t10200s\t = DyStack   runtime |\t29400s\t = Remaining runtime\n",
      "Starting main fit with num_stack_levels=0.\n",
      "\tFor future fit calls on this dataset, you can skip DyStack to save time: `predictor.fit(..., dynamic_stacking=False, num_stack_levels=0)`\n",
      "Values in column 'fold' used as split folds instead of being automatically set. Bagged models will have 5 splits.\n",
      "Beginning AutoGluon training ... Time limit = 29400s\n",
      "AutoGluon will save models to \"/logs\"\n",
      "Train Data Rows:    525887\n",
      "Train Data Columns: 760\n",
      "Label Column:       label\n",
      "Problem Type:       regression\n",
      "Preprocessing data ...\n",
      "Using Feature Generators to preprocess the data ...\n",
      "Fitting AutoMLPipelineFeatureGenerator...\n",
      "\tAvailable Memory:                    12907.97 MB\n",
      "\tTrain Data (Original)  Memory Usage: 761.31 MB (5.9% of available memory)\n",
      "\tWarning: Data size prior to feature transformation consumes 5.9% of available memory. Consider increasing memory or subsampling the data to avoid instability.\n",
      "\tInferring data type of each feature based on column values. Set feature_metadata_in to manually specify special dtypes of the features.\n",
      "\tStage 1 Generators:\n",
      "\t\tFitting AsTypeFeatureGenerator...\n",
      "\tStage 2 Generators:\n",
      "\t\tFitting FillNaFeatureGenerator...\n",
      "\tStage 3 Generators:\n",
      "\t\tFitting IdentityFeatureGenerator...\n",
      "\tStage 4 Generators:\n",
      "\t\tFitting DropUniqueFeatureGenerator...\n",
      "\tStage 5 Generators:\n",
      "\t\tFitting DropDuplicatesFeatureGenerator...\n",
      "\tTypes of features in original data (raw dtype, special dtypes):\n",
      "\t\t('float', []) : 759 | ['bid_qty', 'ask_qty', 'buy_qty', 'sell_qty', 'volume', ...]\n",
      "\tTypes of features in processed data (raw dtype, special dtypes):\n",
      "\t\t('float', []) : 759 | ['bid_qty', 'ask_qty', 'buy_qty', 'sell_qty', 'volume', ...]\n",
      "\t45.1s = Fit runtime\n",
      "\t759 features in original data used to generate 759 features in processed data.\n",
      "\tTrain Data (Processed) Memory Usage: 761.31 MB (5.9% of available memory)\n",
      "Data preprocessing and feature engineering runtime = 49.82s ...\n",
      "AutoGluon will gauge predictive performance using evaluation metric: 'pearsonr'\n",
      "\tTo change this, specify the eval_metric parameter of Predictor()\n",
      "Large model count detected (112 configs) ... Only displaying the first 3 models of each family. To see all, set `verbosity=3`.\n",
      "User-specified model hyperparameters to be fit:\n",
      "{\n",
      "\t'NN_TORCH': [{}, {'activation': 'elu', 'dropout_prob': 0.10077639529843717, 'hidden_size': 108, 'learning_rate': 0.002735937344002146, 'num_layers': 4, 'use_batchnorm': True, 'weight_decay': 1.356433327634438e-12, 'ag_args': {'name_suffix': '_r79', 'priority': -2}}, {'activation': 'elu', 'dropout_prob': 0.11897478034205347, 'hidden_size': 213, 'learning_rate': 0.0010474382260641949, 'num_layers': 4, 'use_batchnorm': False, 'weight_decay': 5.594471067786272e-10, 'ag_args': {'name_suffix': '_r22', 'priority': -7}}],\n",
      "\t'GBM': [{'extra_trees': True, 'ag_args': {'name_suffix': 'XT'}}, {}, {'learning_rate': 0.03, 'num_leaves': 128, 'feature_fraction': 0.9, 'min_data_in_leaf': 3, 'ag_args': {'name_suffix': 'Large', 'priority': 0, 'hyperparameter_tune_kwargs': None}}],\n",
      "\t'CAT': [{}, {'depth': 6, 'grow_policy': 'SymmetricTree', 'l2_leaf_reg': 2.1542798306067823, 'learning_rate': 0.06864209415792857, 'max_ctr_complexity': 4, 'one_hot_max_size': 10, 'ag_args': {'name_suffix': '_r177', 'priority': -1}}, {'depth': 8, 'grow_policy': 'Depthwise', 'l2_leaf_reg': 2.7997999596449104, 'learning_rate': 0.031375015734637225, 'max_ctr_complexity': 2, 'one_hot_max_size': 3, 'ag_args': {'name_suffix': '_r9', 'priority': -5}}],\n",
      "\t'XGB': [{}, {'colsample_bytree': 0.6917311125174739, 'enable_categorical': False, 'learning_rate': 0.018063876087523967, 'max_depth': 10, 'min_child_weight': 0.6028633586934382, 'ag_args': {'name_suffix': '_r33', 'priority': -8}}, {'colsample_bytree': 0.6628423832084077, 'enable_categorical': False, 'learning_rate': 0.08775715546881824, 'max_depth': 5, 'min_child_weight': 0.6294123374222513, 'ag_args': {'name_suffix': '_r89', 'priority': -16}}],\n",
      "\t'FASTAI': [{}, {'bs': 256, 'emb_drop': 0.5411770367537934, 'epochs': 43, 'layers': [800, 400], 'lr': 0.01519848858318159, 'ps': 0.23782946566604385, 'ag_args': {'name_suffix': '_r191', 'priority': -4}}, {'bs': 2048, 'emb_drop': 0.05070411322605811, 'epochs': 29, 'layers': [200, 100], 'lr': 0.08974235041576624, 'ps': 0.10393466140748028, 'ag_args': {'name_suffix': '_r102', 'priority': -11}}],\n",
      "\t'RF': [{'criterion': 'gini', 'ag_args': {'name_suffix': 'Gini', 'problem_types': ['binary', 'multiclass']}}, {'criterion': 'entropy', 'ag_args': {'name_suffix': 'Entr', 'problem_types': ['binary', 'multiclass']}}, {'criterion': 'squared_error', 'ag_args': {'name_suffix': 'MSE', 'problem_types': ['regression', 'quantile']}}],\n",
      "\t'XT': [{'criterion': 'gini', 'ag_args': {'name_suffix': 'Gini', 'problem_types': ['binary', 'multiclass']}}, {'criterion': 'entropy', 'ag_args': {'name_suffix': 'Entr', 'problem_types': ['binary', 'multiclass']}}, {'criterion': 'squared_error', 'ag_args': {'name_suffix': 'MSE', 'problem_types': ['regression', 'quantile']}}],\n",
      "\t'KNN': [{'weights': 'uniform', 'ag_args': {'name_suffix': 'Unif'}}, {'weights': 'distance', 'ag_args': {'name_suffix': 'Dist'}}],\n",
      "}\n",
      "Excluded models: ['RF', 'KNN', 'XGB', 'FASTAI', 'NN_TORCH'] (Specified by `excluded_model_types`)\n",
      "Fitting 44 L1 models, fit_strategy=\"sequential\" ...\n",
      "Fitting model: LightGBMXT_BAG_L1 ... Training model for up to 29350.04s of the 29350.04s of remaining time.\n",
      "\tFitting 5 child models (S1F1 - S1F5) | Fitting with SequentialLocalFoldFittingStrategy\n",
      "\t0.0613\t = Validation score   (pearsonr)\n",
      "\t433.11s\t = Training   runtime\n",
      "\t3.36s\t = Validation runtime\n",
      "Fitting model: LightGBM_BAG_L1 ... Training model for up to 28892.91s of the 28892.91s of remaining time.\n",
      "\tFitting 5 child models (S1F1 - S1F5) | Fitting with SequentialLocalFoldFittingStrategy\n"
     ]
    },
    {
     "name": "stdout",
     "output_type": "stream",
     "text": [
      "[1000]\tvalid_set's l2: 1.13901\tvalid_set's pearsonr: 0.130517\n"
     ]
    },
    {
     "name": "stderr",
     "output_type": "stream",
     "text": [
      "\t0.0886\t = Validation score   (pearsonr)\n",
      "\t1046.9s\t = Training   runtime\n",
      "\t7.69s\t = Validation runtime\n",
      "Fitting model: CatBoost_BAG_L1 ... Training model for up to 27818.00s of the 27817.99s of remaining time.\n",
      "\tFitting 5 child models (S1F1 - S1F5) | Fitting with SequentialLocalFoldFittingStrategy\n",
      "\t0.05\t = Validation score   (pearsonr)\n",
      "\t886.8s\t = Training   runtime\n",
      "\t132.09s\t = Validation runtime\n",
      "Fitting model: ExtraTreesMSE_BAG_L1 ... Training model for up to 26776.64s of the 26776.64s of remaining time.\n",
      "\tForcing `use_child_oof=False` because `groups` is specified\n",
      "\tFitting 5 child models (S1F1 - S1F5) | Fitting with SequentialLocalFoldFittingStrategy\n",
      "\tWarning: Reducing model 'n_estimators' from 300 -> 132 due to low time. Expected time usage reduced from 9687.9s -> 4273.7s...\n",
      "\tWarning: Reducing model 'n_estimators' from 300 -> 164 due to low time. Expected time usage reduced from 8213.3s -> 4511.9s...\n",
      "\tWarning: Reducing model 'n_estimators' from 300 -> 166 due to low time. Expected time usage reduced from 8612.8s -> 4769.4s...\n",
      "\tWarning: Reducing model 'n_estimators' from 300 -> 182 due to low time. Expected time usage reduced from 8699.7s -> 5285.5s...\n",
      "\tWarning: Reducing model 'n_estimators' from 300 -> 213 due to low time. Expected time usage reduced from 8616.7s -> 6145.4s...\n",
      "\t0.0511\t = Validation score   (pearsonr)\n",
      "\t25323.78s\t = Training   runtime\n",
      "\t14.74s\t = Validation runtime\n",
      "Fitting model: LightGBMLarge_BAG_L1 ... Training model for up to 1406.42s of the 1406.42s of remaining time.\n",
      "\tFitting 5 child models (S1F1 - S1F5) | Fitting with SequentialLocalFoldFittingStrategy\n",
      "\tRan out of time, early stopping on iteration 155. Best iteration is:\n",
      "\t[153]\tvalid_set's l2: 1.05836\tvalid_set's pearsonr: 0.0993783\n",
      "\t0.0761\t = Validation score   (pearsonr)\n",
      "\t951.23s\t = Training   runtime\n",
      "\t6.03s\t = Validation runtime\n",
      "Fitting model: CatBoost_r177_BAG_L1 ... Training model for up to 425.29s of the 425.29s of remaining time.\n",
      "\tFitting 5 child models (S1F1 - S1F5) | Fitting with SequentialLocalFoldFittingStrategy\n",
      "\tTime limit exceeded... Skipping CatBoost_r177_BAG_L1.\n",
      "Fitting model: LightGBM_r131_BAG_L1 ... Training model for up to 256.98s of the 256.98s of remaining time.\n",
      "\tFitting 5 child models (S1F1 - S1F5) | Fitting with SequentialLocalFoldFittingStrategy\n",
      "\tRan out of time, early stopping on iteration 1. Best iteration is:\n",
      "\t[1]\tvalid_set's l2: 1.01902\tvalid_set's pearsonr: 0.00402885\n",
      "\tTime limit exceeded... Skipping LightGBM_r131_BAG_L1.\n",
      "Fitting model: CatBoost_r9_BAG_L1 ... Training model for up to 173.47s of the 173.46s of remaining time.\n",
      "\tFitting 5 child models (S1F1 - S1F5) | Fitting with SequentialLocalFoldFittingStrategy\n",
      "\tTime limit exceeded... Skipping CatBoost_r9_BAG_L1.\n",
      "Fitting model: LightGBM_r96_BAG_L1 ... Training model for up to 11.74s of the 11.73s of remaining time.\n",
      "\tFitting 5 child models (S1F1 - S1F5) | Fitting with SequentialLocalFoldFittingStrategy\n",
      "\tTime limit exceeded... Skipping LightGBM_r96_BAG_L1.\n",
      "Fitting model: WeightedEnsemble_L2 ... Training model for up to 2935.00s of the -9.70s of remaining time.\n",
      "\tEnsemble Weights: {'CatBoost_BAG_L1': 0.5, 'LightGBMXT_BAG_L1': 0.273, 'LightGBM_BAG_L1': 0.136, 'LightGBMLarge_BAG_L1': 0.091}\n",
      "\t0.1045\t = Validation score   (pearsonr)\n",
      "\t1.57s\t = Training   runtime\n",
      "\t0.02s\t = Validation runtime\n",
      "AutoGluon training complete, total runtime = 29412.84s ... Best model: WeightedEnsemble_L2 | Estimated inference throughput: 705.1 rows/s (105178 batch size)\n",
      "TabularPredictor saved. To load, use: predictor = TabularPredictor.load(\"/logs\")\n"
     ]
    },
    {
     "data": {
      "text/plain": [
       "<autogluon.tabular.predictor.predictor.TabularPredictor at 0x7bff4bee5e10>"
      ]
     },
     "execution_count": 10,
     "metadata": {},
     "output_type": "execute_result"
    }
   ],
   "source": [
    "predictor.fit(\n",
    "    train_data=train,\n",
    "    time_limit=CFG.time_limit,\n",
    "    presets=\"best_quality\",\n",
    "    excluded_model_types=[\"NN_TORCH\", \"KNN\", \"RF\", \"FASTAI\", \"XGB\"]\n",
    ")"
   ]
  },
  {
   "cell_type": "code",
   "execution_count": 11,
   "id": "e58b1ce4",
   "metadata": {
    "execution": {
     "iopub.execute_input": "2025-05-26T05:17:40.094810Z",
     "iopub.status.busy": "2025-05-26T05:17:40.094065Z",
     "iopub.status.idle": "2025-05-26T05:17:40.193361Z",
     "shell.execute_reply": "2025-05-26T05:17:40.192569Z"
    },
    "papermill": {
     "duration": 0.118338,
     "end_time": "2025-05-26T05:17:40.194890",
     "exception": false,
     "start_time": "2025-05-26T05:17:40.076552",
     "status": "completed"
    },
    "tags": []
   },
   "outputs": [
    {
     "data": {
      "text/html": [
       "<style type=\"text/css\">\n",
       "#T_a6faf_row0_col1 {\n",
       "  background-color: #006837;\n",
       "  color: #f1f1f1;\n",
       "}\n",
       "#T_a6faf_row1_col1 {\n",
       "  background-color: #a0d669;\n",
       "  color: #000000;\n",
       "}\n",
       "#T_a6faf_row2_col1 {\n",
       "  background-color: #fff8b4;\n",
       "  color: #000000;\n",
       "}\n",
       "#T_a6faf_row3_col1 {\n",
       "  background-color: #f47044;\n",
       "  color: #f1f1f1;\n",
       "}\n",
       "#T_a6faf_row4_col1 {\n",
       "  background-color: #ad0826;\n",
       "  color: #f1f1f1;\n",
       "}\n",
       "#T_a6faf_row5_col1 {\n",
       "  background-color: #a50026;\n",
       "  color: #f1f1f1;\n",
       "}\n",
       "</style>\n",
       "<table id=\"T_a6faf\">\n",
       "  <thead>\n",
       "    <tr>\n",
       "      <th class=\"blank level0\" >&nbsp;</th>\n",
       "      <th id=\"T_a6faf_level0_col0\" class=\"col_heading level0 col0\" >model</th>\n",
       "      <th id=\"T_a6faf_level0_col1\" class=\"col_heading level0 col1\" >score_val</th>\n",
       "      <th id=\"T_a6faf_level0_col2\" class=\"col_heading level0 col2\" >eval_metric</th>\n",
       "      <th id=\"T_a6faf_level0_col3\" class=\"col_heading level0 col3\" >pred_time_val</th>\n",
       "      <th id=\"T_a6faf_level0_col4\" class=\"col_heading level0 col4\" >fit_time</th>\n",
       "      <th id=\"T_a6faf_level0_col5\" class=\"col_heading level0 col5\" >pred_time_val_marginal</th>\n",
       "      <th id=\"T_a6faf_level0_col6\" class=\"col_heading level0 col6\" >fit_time_marginal</th>\n",
       "      <th id=\"T_a6faf_level0_col7\" class=\"col_heading level0 col7\" >stack_level</th>\n",
       "      <th id=\"T_a6faf_level0_col8\" class=\"col_heading level0 col8\" >can_infer</th>\n",
       "      <th id=\"T_a6faf_level0_col9\" class=\"col_heading level0 col9\" >fit_order</th>\n",
       "    </tr>\n",
       "  </thead>\n",
       "  <tbody>\n",
       "    <tr>\n",
       "      <th id=\"T_a6faf_level0_row0\" class=\"row_heading level0 row0\" >0</th>\n",
       "      <td id=\"T_a6faf_row0_col0\" class=\"data row0 col0\" >WeightedEnsemble_L2</td>\n",
       "      <td id=\"T_a6faf_row0_col1\" class=\"data row0 col1\" >0.104494</td>\n",
       "      <td id=\"T_a6faf_row0_col2\" class=\"data row0 col2\" >pearsonr</td>\n",
       "      <td id=\"T_a6faf_row0_col3\" class=\"data row0 col3\" >149.188084</td>\n",
       "      <td id=\"T_a6faf_row0_col4\" class=\"data row0 col4\" >3319.614155</td>\n",
       "      <td id=\"T_a6faf_row0_col5\" class=\"data row0 col5\" >0.018105</td>\n",
       "      <td id=\"T_a6faf_row0_col6\" class=\"data row0 col6\" >1.569365</td>\n",
       "      <td id=\"T_a6faf_row0_col7\" class=\"data row0 col7\" >2</td>\n",
       "      <td id=\"T_a6faf_row0_col8\" class=\"data row0 col8\" >True</td>\n",
       "      <td id=\"T_a6faf_row0_col9\" class=\"data row0 col9\" >6</td>\n",
       "    </tr>\n",
       "    <tr>\n",
       "      <th id=\"T_a6faf_level0_row1\" class=\"row_heading level0 row1\" >1</th>\n",
       "      <td id=\"T_a6faf_row1_col0\" class=\"data row1 col0\" >LightGBM_BAG_L1</td>\n",
       "      <td id=\"T_a6faf_row1_col1\" class=\"data row1 col1\" >0.088630</td>\n",
       "      <td id=\"T_a6faf_row1_col2\" class=\"data row1 col2\" >pearsonr</td>\n",
       "      <td id=\"T_a6faf_row1_col3\" class=\"data row1 col3\" >7.688069</td>\n",
       "      <td id=\"T_a6faf_row1_col4\" class=\"data row1 col4\" >1046.904166</td>\n",
       "      <td id=\"T_a6faf_row1_col5\" class=\"data row1 col5\" >7.688069</td>\n",
       "      <td id=\"T_a6faf_row1_col6\" class=\"data row1 col6\" >1046.904166</td>\n",
       "      <td id=\"T_a6faf_row1_col7\" class=\"data row1 col7\" >1</td>\n",
       "      <td id=\"T_a6faf_row1_col8\" class=\"data row1 col8\" >True</td>\n",
       "      <td id=\"T_a6faf_row1_col9\" class=\"data row1 col9\" >2</td>\n",
       "    </tr>\n",
       "    <tr>\n",
       "      <th id=\"T_a6faf_level0_row2\" class=\"row_heading level0 row2\" >2</th>\n",
       "      <td id=\"T_a6faf_row2_col0\" class=\"data row2 col0\" >LightGBMLarge_BAG_L1</td>\n",
       "      <td id=\"T_a6faf_row2_col1\" class=\"data row2 col1\" >0.076071</td>\n",
       "      <td id=\"T_a6faf_row2_col2\" class=\"data row2 col2\" >pearsonr</td>\n",
       "      <td id=\"T_a6faf_row2_col3\" class=\"data row2 col3\" >6.028456</td>\n",
       "      <td id=\"T_a6faf_row2_col4\" class=\"data row2 col4\" >951.227213</td>\n",
       "      <td id=\"T_a6faf_row2_col5\" class=\"data row2 col5\" >6.028456</td>\n",
       "      <td id=\"T_a6faf_row2_col6\" class=\"data row2 col6\" >951.227213</td>\n",
       "      <td id=\"T_a6faf_row2_col7\" class=\"data row2 col7\" >1</td>\n",
       "      <td id=\"T_a6faf_row2_col8\" class=\"data row2 col8\" >True</td>\n",
       "      <td id=\"T_a6faf_row2_col9\" class=\"data row2 col9\" >5</td>\n",
       "    </tr>\n",
       "    <tr>\n",
       "      <th id=\"T_a6faf_level0_row3\" class=\"row_heading level0 row3\" >3</th>\n",
       "      <td id=\"T_a6faf_row3_col0\" class=\"data row3 col0\" >LightGBMXT_BAG_L1</td>\n",
       "      <td id=\"T_a6faf_row3_col1\" class=\"data row3 col1\" >0.061273</td>\n",
       "      <td id=\"T_a6faf_row3_col2\" class=\"data row3 col2\" >pearsonr</td>\n",
       "      <td id=\"T_a6faf_row3_col3\" class=\"data row3 col3\" >3.364045</td>\n",
       "      <td id=\"T_a6faf_row3_col4\" class=\"data row3 col4\" >433.108540</td>\n",
       "      <td id=\"T_a6faf_row3_col5\" class=\"data row3 col5\" >3.364045</td>\n",
       "      <td id=\"T_a6faf_row3_col6\" class=\"data row3 col6\" >433.108540</td>\n",
       "      <td id=\"T_a6faf_row3_col7\" class=\"data row3 col7\" >1</td>\n",
       "      <td id=\"T_a6faf_row3_col8\" class=\"data row3 col8\" >True</td>\n",
       "      <td id=\"T_a6faf_row3_col9\" class=\"data row3 col9\" >1</td>\n",
       "    </tr>\n",
       "    <tr>\n",
       "      <th id=\"T_a6faf_level0_row4\" class=\"row_heading level0 row4\" >4</th>\n",
       "      <td id=\"T_a6faf_row4_col0\" class=\"data row4 col0\" >ExtraTreesMSE_BAG_L1</td>\n",
       "      <td id=\"T_a6faf_row4_col1\" class=\"data row4 col1\" >0.051063</td>\n",
       "      <td id=\"T_a6faf_row4_col2\" class=\"data row4 col2\" >pearsonr</td>\n",
       "      <td id=\"T_a6faf_row4_col3\" class=\"data row4 col3\" >14.743438</td>\n",
       "      <td id=\"T_a6faf_row4_col4\" class=\"data row4 col4\" >25323.784234</td>\n",
       "      <td id=\"T_a6faf_row4_col5\" class=\"data row4 col5\" >14.743438</td>\n",
       "      <td id=\"T_a6faf_row4_col6\" class=\"data row4 col6\" >25323.784234</td>\n",
       "      <td id=\"T_a6faf_row4_col7\" class=\"data row4 col7\" >1</td>\n",
       "      <td id=\"T_a6faf_row4_col8\" class=\"data row4 col8\" >True</td>\n",
       "      <td id=\"T_a6faf_row4_col9\" class=\"data row4 col9\" >4</td>\n",
       "    </tr>\n",
       "    <tr>\n",
       "      <th id=\"T_a6faf_level0_row5\" class=\"row_heading level0 row5\" >5</th>\n",
       "      <td id=\"T_a6faf_row5_col0\" class=\"data row5 col0\" >CatBoost_BAG_L1</td>\n",
       "      <td id=\"T_a6faf_row5_col1\" class=\"data row5 col1\" >0.050019</td>\n",
       "      <td id=\"T_a6faf_row5_col2\" class=\"data row5 col2\" >pearsonr</td>\n",
       "      <td id=\"T_a6faf_row5_col3\" class=\"data row5 col3\" >132.089409</td>\n",
       "      <td id=\"T_a6faf_row5_col4\" class=\"data row5 col4\" >886.804871</td>\n",
       "      <td id=\"T_a6faf_row5_col5\" class=\"data row5 col5\" >132.089409</td>\n",
       "      <td id=\"T_a6faf_row5_col6\" class=\"data row5 col6\" >886.804871</td>\n",
       "      <td id=\"T_a6faf_row5_col7\" class=\"data row5 col7\" >1</td>\n",
       "      <td id=\"T_a6faf_row5_col8\" class=\"data row5 col8\" >True</td>\n",
       "      <td id=\"T_a6faf_row5_col9\" class=\"data row5 col9\" >3</td>\n",
       "    </tr>\n",
       "  </tbody>\n",
       "</table>\n"
      ],
      "text/plain": [
       "<pandas.io.formats.style.Styler at 0x7bff4beeff90>"
      ]
     },
     "execution_count": 11,
     "metadata": {},
     "output_type": "execute_result"
    }
   ],
   "source": [
    "predictor.leaderboard(silent=True).style.background_gradient(subset=[\"score_val\"], cmap=\"RdYlGn\")"
   ]
  },
  {
   "cell_type": "markdown",
   "id": "3e751bcc",
   "metadata": {
    "papermill": {
     "duration": 0.016195,
     "end_time": "2025-05-26T05:17:40.228194",
     "exception": false,
     "start_time": "2025-05-26T05:17:40.211999",
     "status": "completed"
    },
    "tags": []
   },
   "source": [
    "# Visualizing the ensemble weights"
   ]
  },
  {
   "cell_type": "code",
   "execution_count": 12,
   "id": "4b67f224",
   "metadata": {
    "execution": {
     "iopub.execute_input": "2025-05-26T05:17:40.263143Z",
     "iopub.status.busy": "2025-05-26T05:17:40.262347Z",
     "iopub.status.idle": "2025-05-26T05:17:40.268120Z",
     "shell.execute_reply": "2025-05-26T05:17:40.267303Z"
    },
    "papermill": {
     "duration": 0.025082,
     "end_time": "2025-05-26T05:17:40.269570",
     "exception": false,
     "start_time": "2025-05-26T05:17:40.244488",
     "status": "completed"
    },
    "tags": []
   },
   "outputs": [],
   "source": [
    "def get_ensemble_weights(predictor):\n",
    "    info = predictor.info()\n",
    "    ensemble_weights = {}\n",
    "    for model_name, values in info[\"model_info\"].items():\n",
    "        if \"Ensemble\" in model_name:\n",
    "            children_info = values[\"children_info\"]\n",
    "            ensemble_weights[model_name] = values[\"children_info\"][list(children_info.keys())[0]][\"model_weights\"]\n",
    "    return ensemble_weights"
   ]
  },
  {
   "cell_type": "code",
   "execution_count": 13,
   "id": "b160f875",
   "metadata": {
    "execution": {
     "iopub.execute_input": "2025-05-26T05:17:40.303750Z",
     "iopub.status.busy": "2025-05-26T05:17:40.303077Z",
     "iopub.status.idle": "2025-05-26T05:17:57.667372Z",
     "shell.execute_reply": "2025-05-26T05:17:57.666361Z"
    },
    "papermill": {
     "duration": 17.383039,
     "end_time": "2025-05-26T05:17:57.669013",
     "exception": false,
     "start_time": "2025-05-26T05:17:40.285974",
     "status": "completed"
    },
    "tags": []
   },
   "outputs": [
    {
     "data": {
      "image/png": "[encoded data removed]",
      "text/plain": [
       "<Figure size 600x600 with 1 Axes>"
      ]
     },
     "metadata": {},
     "output_type": "display_data"
    }
   ],
   "source": [
    "ensemble_weights = get_ensemble_weights(predictor)\n",
    "\n",
    "for key, value in ensemble_weights.items():\n",
    "    plt.figure(figsize=(6, 6))\n",
    "    plt.pie(value.values(), labels=value.keys(), autopct=\"%1.1f%%\", colors=sns.color_palette(\"Set2\", len(value)))\n",
    "    plt.title(key)\n",
    "    plt.tight_layout()\n",
    "    plt.show()"
   ]
  },
  {
   "cell_type": "markdown",
   "id": "331ff928",
   "metadata": {
    "papermill": {
     "duration": 0.017156,
     "end_time": "2025-05-26T05:17:57.703824",
     "exception": false,
     "start_time": "2025-05-26T05:17:57.686668",
     "status": "completed"
    },
    "tags": []
   },
   "source": [
    "# Collecting and saving OOF files"
   ]
  },
  {
   "cell_type": "code",
   "execution_count": 14,
   "id": "5ac7cbe4",
   "metadata": {
    "execution": {
     "iopub.execute_input": "2025-05-26T05:17:57.740595Z",
     "iopub.status.busy": "2025-05-26T05:17:57.740228Z",
     "iopub.status.idle": "2025-05-26T05:17:57.746680Z",
     "shell.execute_reply": "2025-05-26T05:17:57.745961Z"
    },
    "papermill": {
     "duration": 0.026968,
     "end_time": "2025-05-26T05:17:57.748044",
     "exception": false,
     "start_time": "2025-05-26T05:17:57.721076",
     "status": "completed"
    },
    "tags": []
   },
   "outputs": [],
   "source": [
    "def save_preds(preds, cv_score, name, type, is_ensemble):\n",
    "    base_path = \"oof_preds\" if type == \"oof\" else \"test_preds\"\n",
    "    base_path = \".\" if is_ensemble else base_path\n",
    "    joblib.dump(preds, f\"{base_path}/{name}_{type}_preds_{cv_score:.6f}.pkl\")\n",
    "\n",
    "def save_submission(test_preds, score):\n",
    "    sub = pd.read_csv(CFG.sample_sub_path)\n",
    "    sub[\"prediction\"] = test_preds\n",
    "    sub.to_csv(f\"sub_autogluon_{score:.6f}.csv\", index=False)\n",
    "    \n",
    "os.makedirs(\"oof_preds\", exist_ok=True)\n",
    "os.makedirs(\"test_preds\", exist_ok=True)"
   ]
  },
  {
   "cell_type": "code",
   "execution_count": 15,
   "id": "7ce10408",
   "metadata": {
    "execution": {
     "iopub.execute_input": "2025-05-26T05:17:57.784550Z",
     "iopub.status.busy": "2025-05-26T05:17:57.783665Z",
     "iopub.status.idle": "2025-05-26T05:17:57.788163Z",
     "shell.execute_reply": "2025-05-26T05:17:57.787163Z"
    },
    "papermill": {
     "duration": 0.024367,
     "end_time": "2025-05-26T05:17:57.789691",
     "exception": false,
     "start_time": "2025-05-26T05:17:57.765324",
     "status": "completed"
    },
    "tags": []
   },
   "outputs": [],
   "source": [
    "oof_preds = {}\n",
    "test_preds = {}"
   ]
  },
  {
   "cell_type": "code",
   "execution_count": 16,
   "id": "a895c857",
   "metadata": {
    "_kg_hide-output": true,
    "execution": {
     "iopub.execute_input": "2025-05-26T05:17:57.826626Z",
     "iopub.status.busy": "2025-05-26T05:17:57.825575Z",
     "iopub.status.idle": "2025-05-26T05:33:50.864413Z",
     "shell.execute_reply": "2025-05-26T05:33:50.863562Z"
    },
    "papermill": {
     "duration": 953.059122,
     "end_time": "2025-05-26T05:33:50.866470",
     "exception": false,
     "start_time": "2025-05-26T05:17:57.807348",
     "status": "completed"
    },
    "tags": []
   },
   "outputs": [],
   "source": [
    "best_model = predictor.model_best\n",
    "_test_preds = predictor.predict_multi(test)\n",
    "for model in predictor.model_names():\n",
    "    model_oof_preds = predictor.predict_oof(model).values\n",
    "    model_test_preds = _test_preds[model].values\n",
    "    \n",
    "    cv_score = pearsonr(train[CFG.target], model_oof_preds)[0]\n",
    "    if model != best_model:\n",
    "        save_preds(model_oof_preds, cv_score, model, \"oof\", False)\n",
    "        save_preds(model_test_preds, cv_score, model, \"test\", False)\n",
    "    else:\n",
    "        save_preds(model_oof_preds, cv_score, model, \"oof\", True)\n",
    "        save_preds(model_test_preds, cv_score, model, \"test\", True)\n",
    "        save_submission(model_test_preds, cv_score)\n",
    "        \n",
    "    oof_preds[model] = model_oof_preds\n",
    "    test_preds[model] = model_test_preds"
   ]
  },
  {
   "cell_type": "markdown",
   "id": "f611aa8a",
   "metadata": {
    "papermill": {
     "duration": 0.017962,
     "end_time": "2025-05-26T05:33:50.902996",
     "exception": false,
     "start_time": "2025-05-26T05:33:50.885034",
     "status": "completed"
    },
    "tags": []
   },
   "source": [
    "# Visualizing the results"
   ]
  },
  {
   "cell_type": "code",
   "execution_count": 17,
   "id": "43cfa4f3",
   "metadata": {
    "execution": {
     "iopub.execute_input": "2025-05-26T05:33:50.939477Z",
     "iopub.status.busy": "2025-05-26T05:33:50.939135Z",
     "iopub.status.idle": "2025-05-26T05:33:51.216352Z",
     "shell.execute_reply": "2025-05-26T05:33:51.215414Z"
    },
    "papermill": {
     "duration": 0.297915,
     "end_time": "2025-05-26T05:33:51.218051",
     "exception": false,
     "start_time": "2025-05-26T05:33:50.920136",
     "status": "completed"
    },
    "tags": []
   },
   "outputs": [],
   "source": [
    "scores = {}\n",
    "split = KFold(n_splits=CFG.n_folds, shuffle=False).split(train, train[CFG.target])\n",
    "for fold_idx, (train_index, val_index) in enumerate(split):\n",
    "    for model in predictor.model_names():\n",
    "        fold_score = pearsonr(train.loc[val_index, CFG.target], oof_preds[model][val_index])[0]\n",
    "        if model not in scores:\n",
    "            scores[model] = []\n",
    "        scores[model].append(fold_score)"
   ]
  },
  {
   "cell_type": "code",
   "execution_count": 18,
   "id": "343a0935",
   "metadata": {
    "execution": {
     "iopub.execute_input": "2025-05-26T05:33:51.255037Z",
     "iopub.status.busy": "2025-05-26T05:33:51.254727Z",
     "iopub.status.idle": "2025-05-26T05:33:51.651737Z",
     "shell.execute_reply": "2025-05-26T05:33:51.650882Z"
    },
    "papermill": {
     "duration": 0.417704,
     "end_time": "2025-05-26T05:33:51.653713",
     "exception": false,
     "start_time": "2025-05-26T05:33:51.236009",
     "status": "completed"
    },
    "tags": []
   },
   "outputs": [
    {
     "data": {
      "image/png": "[encoded data removed]",
      "text/plain": [
       "<Figure size 1200x240 with 2 Axes>"
      ]
     },
     "metadata": {},
     "output_type": "display_data"
    }
   ],
   "source": [
    "scores = pd.DataFrame(scores)\n",
    "mean_scores = scores.mean().sort_values(ascending=False)\n",
    "order = scores.mean().sort_values(ascending=False).index.tolist()\n",
    "\n",
    "min_score = mean_scores.min()\n",
    "max_score = mean_scores.max()\n",
    "padding = (max_score - min_score) * 0.5\n",
    "lower_limit = min_score - padding\n",
    "upper_limit = max_score + padding\n",
    "\n",
    "fig, axs = plt.subplots(1, 2, figsize=(12, scores.shape[1] * 0.4))\n",
    "\n",
    "sns.boxplot(data=scores, order=order, ax=axs[0], orient=\"h\", palette=\"RdYlGn_r\")\n",
    "axs[0].set_title(\"Fold Score\")\n",
    "axs[0].set_xlabel(\"\")\n",
    "axs[0].set_ylabel(\"\")\n",
    "\n",
    "barplot = sns.barplot(x=mean_scores.values, y=mean_scores.index, ax=axs[1], palette=\"RdYlGn_r\")\n",
    "axs[1].set_title(\"Average Score\")\n",
    "axs[1].set_xlabel(\"\")\n",
    "axs[1].set_xlim(left=lower_limit, right=upper_limit)\n",
    "axs[1].set_ylabel(\"\")\n",
    "\n",
    "for i, score in enumerate(mean_scores.values):\n",
    "    barplot.text(score, i, round(score, 6), va=\"center\")\n",
    "\n",
    "plt.tight_layout()\n",
    "plt.show()"
   ]
  }
 ],
 "metadata": {
  "kaggle": {
   "accelerator": "none",
   "dataSources": [
    {
     "databundleVersionId": 11418275,
     "sourceId": 96164,
     "sourceType": "competition"
    }
   ],
   "dockerImageVersionId": 31040,
   "isGpuEnabled": false,
   "isInternetEnabled": true,
   "language": "python",
   "sourceType": "notebook"
  },
  "kernelspec": {
   "display_name": "Python 3",
   "language": "python",
   "name": "python3"
  },
  "language_info": {
   "codemirror_mode": {
    "name": "ipython",
    "version": 3
   },
   "file_extension": ".py",
   "mimetype": "text/x-python",
   "name": "python",
   "nbconvert_exporter": "python",
   "pygments_lexer": "ipython3",
   "version": "3.11.11"
  },
  "papermill": {
   "default_parameters": {},
   "duration": 40676.839143,
   "end_time": "2025-05-26T05:33:57.794577",
   "environment_variables": {},
   "exception": null,
   "input_path": "__notebook__.ipynb",
   "output_path": "__notebook__.ipynb",
   "parameters": {},
   "start_time": "2025-05-25T18:16:00.955434",
   "version": "2.6.0"
  }
 },
 "nbformat": 4,
 "nbformat_minor": 5
}
