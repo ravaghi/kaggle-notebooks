{
 "cells": [
  {
   "cell_type": "markdown",
   "id": "06130ffa",
   "metadata": {
    "papermill": {
     "duration": 0.005971,
     "end_time": "2025-07-13T20:03:21.848942",
     "exception": false,
     "start_time": "2025-07-13T20:03:21.842971",
     "status": "completed"
    },
    "tags": []
   },
   "source": [
    "# Imports and configs"
   ]
  },
  {
   "cell_type": "code",
   "execution_count": 1,
   "id": "7a3b239c",
   "metadata": {
    "_cell_guid": "b1076dfc-b9ad-4769-8c92-a6c4dae69d19",
    "_kg_hide-output": true,
    "_uuid": "8f2839f25d086af736a60e9eeb907d3b93b6e0e5",
    "execution": {
     "iopub.execute_input": "2025-07-13T20:03:21.860298Z",
     "iopub.status.busy": "2025-07-13T20:03:21.859929Z",
     "iopub.status.idle": "2025-07-13T20:03:47.597530Z",
     "shell.execute_reply": "2025-07-13T20:03:47.595135Z"
    },
    "papermill": {
     "duration": 25.747429,
     "end_time": "2025-07-13T20:03:47.601805",
     "exception": false,
     "start_time": "2025-07-13T20:03:21.854376",
     "status": "completed"
    },
    "tags": []
   },
   "outputs": [],
   "source": [
    "!uv pip install -q --system autogluon scikit-learn==1.5.2"
   ]
  },
  {
   "cell_type": "code",
   "execution_count": 2,
   "id": "c769e176",
   "metadata": {
    "execution": {
     "iopub.execute_input": "2025-07-13T20:03:47.616935Z",
     "iopub.status.busy": "2025-07-13T20:03:47.616547Z",
     "iopub.status.idle": "2025-07-13T20:03:56.406115Z",
     "shell.execute_reply": "2025-07-13T20:03:56.404889Z"
    },
    "papermill": {
     "duration": 8.798733,
     "end_time": "2025-07-13T20:03:56.408199",
     "exception": false,
     "start_time": "2025-07-13T20:03:47.609466",
     "status": "completed"
    },
    "tags": []
   },
   "outputs": [],
   "source": [
    "from autogluon.tabular import TabularPredictor\n",
    "from autogluon.core.metrics import make_scorer\n",
    "from sklearn.model_selection import KFold\n",
    "from scipy.stats import pearsonr as pr\n",
    "import matplotlib.pyplot as plt\n",
    "import seaborn as sns\n",
    "import pandas as pd\n",
    "import numpy as np\n",
    "import warnings\n",
    "import joblib\n",
    "import os\n",
    "\n",
    "warnings.filterwarnings(\"ignore\")"
   ]
  },
  {
   "cell_type": "code",
   "execution_count": 3,
   "id": "f14ff3db",
   "metadata": {
    "execution": {
     "iopub.execute_input": "2025-07-13T20:03:56.421703Z",
     "iopub.status.busy": "2025-07-13T20:03:56.421154Z",
     "iopub.status.idle": "2025-07-13T20:03:56.427105Z",
     "shell.execute_reply": "2025-07-13T20:03:56.426062Z"
    },
    "papermill": {
     "duration": 0.015077,
     "end_time": "2025-07-13T20:03:56.428929",
     "exception": false,
     "start_time": "2025-07-13T20:03:56.413852",
     "status": "completed"
    },
    "tags": []
   },
   "outputs": [],
   "source": [
    "class CFG:\n",
    "    train_path = \"/kaggle/input/drw-crypto-market-prediction/train.parquet\"\n",
    "    test_path = \"/kaggle/input/drw-crypto-market-prediction/test.parquet\"\n",
    "    sample_sub_path = \"/kaggle/input/drw-crypto-market-prediction/sample_submission.csv\"\n",
    "    \n",
    "    target = \"label\"\n",
    "    n_folds = 5\n",
    "    seed = 42\n",
    "    time_limit = 3600 * 11"
   ]
  },
  {
   "cell_type": "markdown",
   "id": "23670313",
   "metadata": {
    "papermill": {
     "duration": 0.004208,
     "end_time": "2025-07-13T20:03:56.437676",
     "exception": false,
     "start_time": "2025-07-13T20:03:56.433468",
     "status": "completed"
    },
    "tags": []
   },
   "source": [
    "# Loading data and predefining folds"
   ]
  },
  {
   "cell_type": "code",
   "execution_count": 4,
   "id": "be7ee8bd",
   "metadata": {
    "_kg_hide-input": true,
    "execution": {
     "iopub.execute_input": "2025-07-13T20:03:56.448792Z",
     "iopub.status.busy": "2025-07-13T20:03:56.448436Z",
     "iopub.status.idle": "2025-07-13T20:03:56.462202Z",
     "shell.execute_reply": "2025-07-13T20:03:56.461041Z"
    },
    "papermill": {
     "duration": 0.021453,
     "end_time": "2025-07-13T20:03:56.464061",
     "exception": false,
     "start_time": "2025-07-13T20:03:56.442608",
     "status": "completed"
    },
    "tags": []
   },
   "outputs": [],
   "source": [
    "def reduce_mem_usage(dataframe, dataset):    \n",
    "    print('Reducing memory usage for:', dataset)\n",
    "    initial_mem_usage = dataframe.memory_usage().sum() / 1024**2\n",
    "    \n",
    "    for col in dataframe.columns:\n",
    "        col_type = dataframe[col].dtype\n",
    "\n",
    "        c_min = dataframe[col].min()\n",
    "        c_max = dataframe[col].max()\n",
    "        if str(col_type)[:3] == 'int':\n",
    "            if c_min > np.iinfo(np.int8).min and c_max < np.iinfo(np.int8).max:\n",
    "                dataframe[col] = dataframe[col].astype(np.int8)\n",
    "            elif c_min > np.iinfo(np.int16).min and c_max < np.iinfo(np.int16).max:\n",
    "                dataframe[col] = dataframe[col].astype(np.int32)\n",
    "            elif c_min > np.iinfo(np.int32).min and c_max < np.iinfo(np.int32).max:\n",
    "                dataframe[col] = dataframe[col].astype(np.int32)\n",
    "            elif c_min > np.iinfo(np.int64).min and c_max < np.iinfo(np.int64).max:\n",
    "                dataframe[col] = dataframe[col].astype(np.int64)\n",
    "        else:\n",
    "            if c_min > np.finfo(np.float16).min and c_max < np.finfo(np.float16).max:\n",
    "                dataframe[col] = dataframe[col].astype(np.float32)\n",
    "            elif c_min > np.finfo(np.float32).min and c_max < np.finfo(np.float32).max:\n",
    "                dataframe[col] = dataframe[col].astype(np.float32)\n",
    "            else:\n",
    "                dataframe[col] = dataframe[col].astype(np.float64)\n",
    "\n",
    "    final_mem_usage = dataframe.memory_usage().sum() / 1024**2\n",
    "    print('--- Memory usage before: {:.2f} MB'.format(initial_mem_usage))\n",
    "    print('--- Memory usage after: {:.2f} MB'.format(final_mem_usage))\n",
    "    print('--- Decreased memory usage by {:.1f}%\\n'.format(100 * (initial_mem_usage - final_mem_usage) / initial_mem_usage))\n",
    "\n",
    "    return dataframe"
   ]
  },
  {
   "cell_type": "code",
   "execution_count": 5,
   "id": "90f2fa1b",
   "metadata": {
    "execution": {
     "iopub.execute_input": "2025-07-13T20:03:56.478092Z",
     "iopub.status.busy": "2025-07-13T20:03:56.477337Z",
     "iopub.status.idle": "2025-07-13T20:04:57.477722Z",
     "shell.execute_reply": "2025-07-13T20:04:57.475730Z"
    },
    "papermill": {
     "duration": 61.014235,
     "end_time": "2025-07-13T20:04:57.483796",
     "exception": false,
     "start_time": "2025-07-13T20:03:56.469561",
     "status": "completed"
    },
    "tags": []
   },
   "outputs": [],
   "source": [
    "train = pd.read_parquet(CFG.train_path).reset_index(drop=True)\n",
    "test = pd.read_parquet(CFG.test_path).reset_index(drop=True)"
   ]
  },
  {
   "cell_type": "code",
   "execution_count": 6,
   "id": "7d8c7294",
   "metadata": {
    "execution": {
     "iopub.execute_input": "2025-07-13T20:04:57.501614Z",
     "iopub.status.busy": "2025-07-13T20:04:57.500773Z",
     "iopub.status.idle": "2025-07-13T20:05:05.378403Z",
     "shell.execute_reply": "2025-07-13T20:05:05.376894Z"
    },
    "papermill": {
     "duration": 7.88868,
     "end_time": "2025-07-13T20:05:05.380700",
     "exception": false,
     "start_time": "2025-07-13T20:04:57.492020",
     "status": "completed"
    },
    "tags": []
   },
   "outputs": [
    {
     "name": "stdout",
     "output_type": "stream",
     "text": [
      "Reducing memory usage for: train\n",
      "--- Memory usage before: 3153.58 MB\n",
      "--- Memory usage after: 1576.79 MB\n",
      "--- Decreased memory usage by 50.0%\n",
      "\n",
      "Reducing memory usage for: test\n",
      "--- Memory usage before: 3227.13 MB\n",
      "--- Memory usage after: 1612.02 MB\n",
      "--- Decreased memory usage by 50.0%\n",
      "\n"
     ]
    }
   ],
   "source": [
    "train = reduce_mem_usage(train, \"train\")\n",
    "test = reduce_mem_usage(test, \"test\")"
   ]
  },
  {
   "cell_type": "code",
   "execution_count": 7,
   "id": "794e0d82",
   "metadata": {
    "execution": {
     "iopub.execute_input": "2025-07-13T20:05:05.394613Z",
     "iopub.status.busy": "2025-07-13T20:05:05.394266Z",
     "iopub.status.idle": "2025-07-13T20:05:05.478234Z",
     "shell.execute_reply": "2025-07-13T20:05:05.477236Z"
    },
    "papermill": {
     "duration": 0.092929,
     "end_time": "2025-07-13T20:05:05.480301",
     "exception": false,
     "start_time": "2025-07-13T20:05:05.387372",
     "status": "completed"
    },
    "tags": []
   },
   "outputs": [],
   "source": [
    "kf = KFold(n_splits=CFG.n_folds, shuffle=False)\n",
    "split = kf.split(train, train[CFG.target])\n",
    "for i, (_, val_index) in enumerate(split):\n",
    "    train.loc[val_index, \"fold\"] = i"
   ]
  },
  {
   "cell_type": "markdown",
   "id": "79dff492",
   "metadata": {
    "papermill": {
     "duration": 0.005419,
     "end_time": "2025-07-13T20:05:05.491246",
     "exception": false,
     "start_time": "2025-07-13T20:05:05.485827",
     "status": "completed"
    },
    "tags": []
   },
   "source": [
    "# Fitting the predictor"
   ]
  },
  {
   "cell_type": "code",
   "execution_count": 8,
   "id": "beaf9662",
   "metadata": {
    "execution": {
     "iopub.execute_input": "2025-07-13T20:05:05.502990Z",
     "iopub.status.busy": "2025-07-13T20:05:05.502615Z",
     "iopub.status.idle": "2025-07-13T20:05:05.512998Z",
     "shell.execute_reply": "2025-07-13T20:05:05.511616Z"
    },
    "papermill": {
     "duration": 0.018684,
     "end_time": "2025-07-13T20:05:05.515266",
     "exception": false,
     "start_time": "2025-07-13T20:05:05.496582",
     "status": "completed"
    },
    "tags": []
   },
   "outputs": [
    {
     "name": "stdout",
     "output_type": "stream",
     "text": [
      "Writing custom_metric.py\n"
     ]
    }
   ],
   "source": [
    "%%writefile custom_metric.py\n",
    "\n",
    "from autogluon.core.metrics import make_scorer\n",
    "from scipy.stats import pearsonr as pr\n",
    "\n",
    "def pearsonr(y_true, y_pred):\n",
    "    return pr(y_true, y_pred)[0]\n",
    "\n",
    "ag_pearsonr = make_scorer(\n",
    "    name='pearsonr',\n",
    "    score_func=pearsonr,\n",
    "    optimum=1,\n",
    "    greater_is_better=True\n",
    ")"
   ]
  },
  {
   "cell_type": "code",
   "execution_count": 9,
   "id": "4ce8490e",
   "metadata": {
    "_kg_hide-output": true,
    "execution": {
     "iopub.execute_input": "2025-07-13T20:05:05.527907Z",
     "iopub.status.busy": "2025-07-13T20:05:05.527135Z",
     "iopub.status.idle": "2025-07-13T20:05:05.535695Z",
     "shell.execute_reply": "2025-07-13T20:05:05.534703Z"
    },
    "papermill": {
     "duration": 0.017087,
     "end_time": "2025-07-13T20:05:05.537709",
     "exception": false,
     "start_time": "2025-07-13T20:05:05.520622",
     "status": "completed"
    },
    "tags": []
   },
   "outputs": [],
   "source": [
    "from custom_metric import ag_pearsonr\n",
    "\n",
    "predictor = TabularPredictor(\n",
    "    path=\"/logs\",\n",
    "    problem_type=\"regression\",\n",
    "    eval_metric=ag_pearsonr,\n",
    "    label=CFG.target,\n",
    "    groups=\"fold\",\n",
    "    verbosity=2\n",
    ")"
   ]
  },
  {
   "cell_type": "code",
   "execution_count": 10,
   "id": "07270a79",
   "metadata": {
    "_kg_hide-output": true,
    "execution": {
     "iopub.execute_input": "2025-07-13T20:05:05.553395Z",
     "iopub.status.busy": "2025-07-13T20:05:05.552853Z",
     "iopub.status.idle": "2025-07-14T07:08:00.624471Z",
     "shell.execute_reply": "2025-07-14T07:08:00.623160Z"
    },
    "papermill": {
     "duration": 39775.081154,
     "end_time": "2025-07-14T07:08:00.627642",
     "exception": false,
     "start_time": "2025-07-13T20:05:05.546488",
     "status": "completed"
    },
    "scrolled": true,
    "tags": []
   },
   "outputs": [
    {
     "name": "stderr",
     "output_type": "stream",
     "text": [
      "Verbosity: 2 (Standard Logging)\n",
      "=================== System Info ===================\n",
      "AutoGluon Version:  1.3.1\n",
      "Python Version:     3.11.11\n",
      "Operating System:   Linux\n",
      "Platform Machine:   x86_64\n",
      "Platform Version:   #1 SMP PREEMPT_DYNAMIC Sun Nov 10 10:07:59 UTC 2024\n",
      "CPU Count:          4\n",
      "Memory Avail:       21.51 GB / 31.35 GB (68.6%)\n",
      "Disk Space Avail:   1652.28 GB / 8062.39 GB (20.5%)\n",
      "===================================================\n",
      "Presets specified: ['best_quality']\n",
      "Setting dynamic_stacking from 'auto' to True. Reason: Enable dynamic_stacking when use_bag_holdout is disabled. (use_bag_holdout=False)\n",
      "Stack configuration (auto_stack=True): num_stack_levels=1, num_bag_folds=8, num_bag_sets=1\n",
      "DyStack is enabled (dynamic_stacking=True). AutoGluon will try to determine whether the input data is affected by stacked overfitting and enable or disable stacking as a consequence.\n",
      "\tThis is used to identify the optimal `num_stack_levels` value. Copies of AutoGluon will be fit on subsets of the data. Then holdout validation data is used to detect stacked overfitting.\n",
      "\tRunning DyStack for up to 9900s of the 39600s of remaining time (25%).\n",
      "\tRunning DyStack sub-fit in a ray process to avoid memory leakage. Enabling ray logging (enable_ray_logging=True). Specify `ds_args={'enable_ray_logging': False}` if you experience logging issues.\n",
      "2025-07-13 20:05:12,858\tINFO worker.py:1843 -- Started a local Ray instance. View the dashboard at \u001b[1m\u001b[32mhttp://127.0.0.1:8265 \u001b[39m\u001b[22m\n",
      "\t\tContext path: \"/logs/ds_sub_fit/sub_fit_ho\"\n",
      "\u001b[36m(_dystack pid=290)\u001b[0m /usr/local/lib/python3.11/dist-packages/autogluon/core/utils/utils.py:490: PerformanceWarning: DataFrame is highly fragmented.  This is usually the result of calling `frame.insert` many times, which has poor performance.  Consider joining all columns at once using pd.concat(axis=1) instead. To get a de-fragmented frame, use `newframe = frame.copy()`\n",
      "\u001b[36m(_dystack pid=290)\u001b[0m   train_data[label] = y_train\n",
      "\u001b[36m(_dystack pid=290)\u001b[0m /usr/local/lib/python3.11/dist-packages/autogluon/core/utils/utils.py:491: PerformanceWarning: DataFrame is highly fragmented.  This is usually the result of calling `frame.insert` many times, which has poor performance.  Consider joining all columns at once using pd.concat(axis=1) instead. To get a de-fragmented frame, use `newframe = frame.copy()`\n",
      "\u001b[36m(_dystack pid=290)\u001b[0m   test_data[label] = y_test\n",
      "\u001b[36m(_dystack pid=290)\u001b[0m Running DyStack sub-fit ...\n",
      "\u001b[36m(_dystack pid=290)\u001b[0m Values in column 'fold' used as split folds instead of being automatically set. Bagged models will have 5 splits.\n",
      "\u001b[36m(_dystack pid=290)\u001b[0m Beginning AutoGluon training ... Time limit = 9890s\n",
      "\u001b[36m(_dystack pid=290)\u001b[0m AutoGluon will save models to \"/logs/ds_sub_fit/sub_fit_ho\"\n",
      "\u001b[36m(_dystack pid=290)\u001b[0m Train Data Rows:    467454\n",
      "\u001b[36m(_dystack pid=290)\u001b[0m Train Data Columns: 786\n",
      "\u001b[36m(_dystack pid=290)\u001b[0m Label Column:       label\n",
      "\u001b[36m(_dystack pid=290)\u001b[0m Problem Type:       regression\n",
      "\u001b[36m(_dystack pid=290)\u001b[0m Preprocessing data ...\n",
      "\u001b[36m(_dystack pid=290)\u001b[0m Using Feature Generators to preprocess the data ...\n",
      "\u001b[36m(_dystack pid=290)\u001b[0m Fitting AutoMLPipelineFeatureGenerator...\n",
      "\u001b[36m(_dystack pid=290)\u001b[0m \tAvailable Memory:                    17032.51 MB\n",
      "\u001b[36m(_dystack pid=290)\u001b[0m \tTrain Data (Original)  Memory Usage: 1399.81 MB (8.2% of available memory)\n",
      "\u001b[36m(_dystack pid=290)\u001b[0m \tWarning: Data size prior to feature transformation consumes 8.2% of available memory. Consider increasing memory or subsampling the data to avoid instability.\n",
      "\u001b[36m(_dystack pid=290)\u001b[0m \tInferring data type of each feature based on column values. Set feature_metadata_in to manually specify special dtypes of the features.\n",
      "\u001b[36m(_dystack pid=290)\u001b[0m \tStage 1 Generators:\n",
      "\u001b[36m(_dystack pid=290)\u001b[0m \t\tFitting AsTypeFeatureGenerator...\n",
      "\u001b[36m(_dystack pid=290)\u001b[0m \tStage 2 Generators:\n",
      "\u001b[36m(_dystack pid=290)\u001b[0m \t\tFitting FillNaFeatureGenerator...\n",
      "\u001b[36m(_dystack pid=290)\u001b[0m \tStage 3 Generators:\n",
      "\u001b[36m(_dystack pid=290)\u001b[0m \t\tFitting IdentityFeatureGenerator...\n",
      "\u001b[36m(_dystack pid=290)\u001b[0m \tStage 4 Generators:\n",
      "\u001b[36m(_dystack pid=290)\u001b[0m \t\tFitting DropUniqueFeatureGenerator...\n",
      "\u001b[36m(_dystack pid=290)\u001b[0m \tStage 5 Generators:\n",
      "\u001b[36m(_dystack pid=290)\u001b[0m \t\tFitting DropDuplicatesFeatureGenerator...\n",
      "\u001b[36m(_dystack pid=290)\u001b[0m \tUnused Original Features (Count: 28): ['X104', 'X110', 'X116', 'X122', 'X128', 'X134', 'X140', 'X146', 'X152', 'X158', 'X164', 'X170', 'X176', 'X182', 'X351', 'X357', 'X363', 'X369', 'X375', 'X381', 'X387', 'X393', 'X399', 'X405', 'X411', 'X417', 'X423', 'X429']\n",
      "\u001b[36m(_dystack pid=290)\u001b[0m \t\tThese features were not used to generate any of the output features. Add a feature generator compatible with these features to utilize them.\n",
      "\u001b[36m(_dystack pid=290)\u001b[0m \t\tFeatures can also be unused if they carry very little information, such as being categorical but having almost entirely unique values or being duplicates of other features.\n",
      "\u001b[36m(_dystack pid=290)\u001b[0m \t\tThese features do not need to be present at inference time.\n",
      "\u001b[36m(_dystack pid=290)\u001b[0m \t\t('float', []) : 28 | ['X104', 'X110', 'X116', 'X122', 'X128', ...]\n",
      "\u001b[36m(_dystack pid=290)\u001b[0m \tTypes of features in original data (raw dtype, special dtypes):\n",
      "\u001b[36m(_dystack pid=290)\u001b[0m \t\t('float', []) : 757 | ['bid_qty', 'ask_qty', 'buy_qty', 'sell_qty', 'volume', ...]\n",
      "\u001b[36m(_dystack pid=290)\u001b[0m \tTypes of features in processed data (raw dtype, special dtypes):\n",
      "\u001b[36m(_dystack pid=290)\u001b[0m \t\t('float', []) : 757 | ['bid_qty', 'ask_qty', 'buy_qty', 'sell_qty', 'volume', ...]\n",
      "\u001b[36m(_dystack pid=290)\u001b[0m \t56.2s = Fit runtime\n",
      "\u001b[36m(_dystack pid=290)\u001b[0m \t757 features in original data used to generate 757 features in processed data.\n",
      "\u001b[36m(_dystack pid=290)\u001b[0m \tTrain Data (Processed) Memory Usage: 1349.88 MB (7.9% of available memory)\n",
      "\u001b[36m(_dystack pid=290)\u001b[0m Data preprocessing and feature engineering runtime = 60.99s ...\n",
      "\u001b[36m(_dystack pid=290)\u001b[0m AutoGluon will gauge predictive performance using evaluation metric: 'pearsonr'\n",
      "\u001b[36m(_dystack pid=290)\u001b[0m \tTo change this, specify the eval_metric parameter of Predictor()\n",
      "\u001b[36m(_dystack pid=290)\u001b[0m Large model count detected (112 configs) ... Only displaying the first 3 models of each family. To see all, set `verbosity=3`.\n",
      "\u001b[36m(_dystack pid=290)\u001b[0m User-specified model hyperparameters to be fit:\n",
      "\u001b[36m(_dystack pid=290)\u001b[0m {\n",
      "\u001b[36m(_dystack pid=290)\u001b[0m \t'NN_TORCH': [{}, {'activation': 'elu', 'dropout_prob': 0.10077639529843717, 'hidden_size': 108, 'learning_rate': 0.002735937344002146, 'num_layers': 4, 'use_batchnorm': True, 'weight_decay': 1.356433327634438e-12, 'ag_args': {'name_suffix': '_r79', 'priority': -2}}, {'activation': 'elu', 'dropout_prob': 0.11897478034205347, 'hidden_size': 213, 'learning_rate': 0.0010474382260641949, 'num_layers': 4, 'use_batchnorm': False, 'weight_decay': 5.594471067786272e-10, 'ag_args': {'name_suffix': '_r22', 'priority': -7}}],\n",
      "\u001b[36m(_dystack pid=290)\u001b[0m \t'GBM': [{'extra_trees': True, 'ag_args': {'name_suffix': 'XT'}}, {}, {'learning_rate': 0.03, 'num_leaves': 128, 'feature_fraction': 0.9, 'min_data_in_leaf': 3, 'ag_args': {'name_suffix': 'Large', 'priority': 0, 'hyperparameter_tune_kwargs': None}}],\n",
      "\u001b[36m(_dystack pid=290)\u001b[0m \t'CAT': [{}, {'depth': 6, 'grow_policy': 'SymmetricTree', 'l2_leaf_reg': 2.1542798306067823, 'learning_rate': 0.06864209415792857, 'max_ctr_complexity': 4, 'one_hot_max_size': 10, 'ag_args': {'name_suffix': '_r177', 'priority': -1}}, {'depth': 8, 'grow_policy': 'Depthwise', 'l2_leaf_reg': 2.7997999596449104, 'learning_rate': 0.031375015734637225, 'max_ctr_complexity': 2, 'one_hot_max_size': 3, 'ag_args': {'name_suffix': '_r9', 'priority': -5}}],\n",
      "\u001b[36m(_dystack pid=290)\u001b[0m \t'XGB': [{}, {'colsample_bytree': 0.6917311125174739, 'enable_categorical': False, 'learning_rate': 0.018063876087523967, 'max_depth': 10, 'min_child_weight': 0.6028633586934382, 'ag_args': {'name_suffix': '_r33', 'priority': -8}}, {'colsample_bytree': 0.6628423832084077, 'enable_categorical': False, 'learning_rate': 0.08775715546881824, 'max_depth': 5, 'min_child_weight': 0.6294123374222513, 'ag_args': {'name_suffix': '_r89', 'priority': -16}}],\n",
      "\u001b[36m(_dystack pid=290)\u001b[0m \t'FASTAI': [{}, {'bs': 256, 'emb_drop': 0.5411770367537934, 'epochs': 43, 'layers': [800, 400], 'lr': 0.01519848858318159, 'ps': 0.23782946566604385, 'ag_args': {'name_suffix': '_r191', 'priority': -4}}, {'bs': 2048, 'emb_drop': 0.05070411322605811, 'epochs': 29, 'layers': [200, 100], 'lr': 0.08974235041576624, 'ps': 0.10393466140748028, 'ag_args': {'name_suffix': '_r102', 'priority': -11}}],\n",
      "\u001b[36m(_dystack pid=290)\u001b[0m \t'RF': [{'criterion': 'gini', 'ag_args': {'name_suffix': 'Gini', 'problem_types': ['binary', 'multiclass']}}, {'criterion': 'entropy', 'ag_args': {'name_suffix': 'Entr', 'problem_types': ['binary', 'multiclass']}}, {'criterion': 'squared_error', 'ag_args': {'name_suffix': 'MSE', 'problem_types': ['regression', 'quantile']}}],\n",
      "\u001b[36m(_dystack pid=290)\u001b[0m \t'XT': [{'criterion': 'gini', 'ag_args': {'name_suffix': 'Gini', 'problem_types': ['binary', 'multiclass']}}, {'criterion': 'entropy', 'ag_args': {'name_suffix': 'Entr', 'problem_types': ['binary', 'multiclass']}}, {'criterion': 'squared_error', 'ag_args': {'name_suffix': 'MSE', 'problem_types': ['regression', 'quantile']}}],\n",
      "\u001b[36m(_dystack pid=290)\u001b[0m \t'KNN': [{'weights': 'uniform', 'ag_args': {'name_suffix': 'Unif'}}, {'weights': 'distance', 'ag_args': {'name_suffix': 'Dist'}}],\n",
      "\u001b[36m(_dystack pid=290)\u001b[0m }\n",
      "\u001b[36m(_dystack pid=290)\u001b[0m AutoGluon will fit 2 stack levels (L1 to L2) ...\n",
      "\u001b[36m(_dystack pid=290)\u001b[0m Excluded models: ['KNN', 'RF'] (Specified by `excluded_model_types`)\n",
      "\u001b[36m(_dystack pid=290)\u001b[0m Fitting 98 L1 models, fit_strategy=\"sequential\" ...\n",
      "\u001b[36m(_dystack pid=290)\u001b[0m Fitting model: LightGBMXT_BAG_L1 ... Training model for up to 6551.33s of the 9829.45s of remaining time.\n",
      "\u001b[36m(_dystack pid=290)\u001b[0m \tMemory not enough to fit 5 folds in parallel. Will train 1 folds in parallel instead (Estimated 55.34% memory usage per fold, 55.34%/80.00% total).\n",
      "\u001b[36m(_dystack pid=290)\u001b[0m \tFitting 5 child models (S1F1 - S1F5) | Fitting with ParallelLocalFoldFittingStrategy (1 workers, per: cpus=2, gpus=0, memory=55.34%)\n",
      "\u001b[36m(_dystack pid=290)\u001b[0m \t\tSwitching to pseudo sequential ParallelFoldFittingStrategy to avoid Python memory leakage.\n",
      "\u001b[36m(_dystack pid=290)\u001b[0m \t\tOverrule this behavior by setting fold_fitting_strategy to 'sequential_local' in ag_args_ensemble when when calling `predictor.fit`\n",
      "\u001b[36m(_dystack pid=290)\u001b[0m \t0.0963\t = Validation score   (pearsonr)\n",
      "\u001b[36m(_dystack pid=290)\u001b[0m \t806.44s\t = Training   runtime\n",
      "\u001b[36m(_dystack pid=290)\u001b[0m \t3.17s\t = Validation runtime\n",
      "\u001b[36m(_dystack pid=290)\u001b[0m Fitting model: LightGBM_BAG_L1 ... Training model for up to 5703.22s of the 8981.33s of remaining time.\n",
      "\u001b[36m(_dystack pid=290)\u001b[0m \tMemory not enough to fit 5 folds in parallel. Will train 1 folds in parallel instead (Estimated 60.76% memory usage per fold, 60.76%/80.00% total).\n",
      "\u001b[36m(_dystack pid=290)\u001b[0m \tFitting 5 child models (S1F1 - S1F5) | Fitting with ParallelLocalFoldFittingStrategy (1 workers, per: cpus=2, gpus=0, memory=60.76%)\n",
      "\u001b[36m(_dystack pid=290)\u001b[0m \t\tSwitching to pseudo sequential ParallelFoldFittingStrategy to avoid Python memory leakage.\n",
      "\u001b[36m(_dystack pid=290)\u001b[0m \t\tOverrule this behavior by setting fold_fitting_strategy to 'sequential_local' in ag_args_ensemble when when calling `predictor.fit`\n",
      "\u001b[36m(_dystack pid=290)\u001b[0m \t0.0891\t = Validation score   (pearsonr)\n",
      "\u001b[36m(_dystack pid=290)\u001b[0m \t696.92s\t = Training   runtime\n",
      "\u001b[36m(_dystack pid=290)\u001b[0m \t3.0s\t = Validation runtime\n",
      "\u001b[36m(_dystack pid=290)\u001b[0m Fitting model: CatBoost_BAG_L1 ... Training model for up to 4970.38s of the 8248.49s of remaining time.\n",
      "\u001b[36m(_dystack pid=290)\u001b[0m \tMemory not enough to fit 5 folds in parallel. Will train 1 folds in parallel instead (Estimated 67.15% memory usage per fold, 67.15%/80.00% total).\n",
      "\u001b[36m(_dystack pid=290)\u001b[0m \tFitting 5 child models (S1F1 - S1F5) | Fitting with ParallelLocalFoldFittingStrategy (1 workers, per: cpus=2, gpus=0, memory=67.15%)\n",
      "\u001b[36m(_dystack pid=290)\u001b[0m \t\tSwitching to pseudo sequential ParallelFoldFittingStrategy to avoid Python memory leakage.\n",
      "\u001b[36m(_dystack pid=290)\u001b[0m \t\tOverrule this behavior by setting fold_fitting_strategy to 'sequential_local' in ag_args_ensemble when when calling `predictor.fit`\n",
      "\u001b[36m(_dystack pid=290)\u001b[0m \t0.0774\t = Validation score   (pearsonr)\n",
      "\u001b[36m(_dystack pid=290)\u001b[0m \t464.27s\t = Training   runtime\n",
      "\u001b[36m(_dystack pid=290)\u001b[0m \t0.3s\t = Validation runtime\n",
      "\u001b[36m(_dystack pid=290)\u001b[0m Fitting model: ExtraTreesMSE_BAG_L1 ... Training model for up to 4472.17s of the 7750.28s of remaining time.\n",
      "\u001b[36m(_dystack pid=290)\u001b[0m \tForcing `use_child_oof=False` because `groups` is specified\n",
      "\u001b[36m(_dystack pid=290)\u001b[0m \tFitting 5 child models (S1F1 - S1F5) | Fitting with ParallelLocalFoldFittingStrategy (4 workers, per: cpus=1, gpus=0, memory=11.67%)\n",
      "\u001b[36m(_ray_fit pid=6989)\u001b[0m \tWarning: Reducing model 'n_estimators' from 300 -> 253 due to low memory. Expected memory usage reduced from 17.76% -> 15.0% of available memory...\n",
      "\u001b[36m(_ray_fit pid=6989)\u001b[0m \tWarning: Model is expected to require 52273.2s to train, which exceeds the maximum time limit of 1742.8s, skipping model...\n",
      "\u001b[36m(_dystack pid=290)\u001b[0m \tTime limit exceeded... Skipping ExtraTreesMSE_BAG_L1.\n",
      "\u001b[36m(_dystack pid=290)\u001b[0m Fitting model: NeuralNetFastAI_BAG_L1 ... Training model for up to 3566.39s of the 6844.50s of remaining time.\n",
      "\u001b[36m(_dystack pid=290)\u001b[0m \tWarning: Not enough memory to safely train model. Estimated to require 15.617 GB out of 14.852 GB available memory (105.151%)... (90.000% of avail memory is the max safe size)\n",
      "\u001b[36m(_dystack pid=290)\u001b[0m \tTo force training the model, specify the model hyperparameter \"ag.max_memory_usage_ratio\" to a larger value (currently 1.0, set to >=1.22 to avoid the error)\n",
      "\u001b[36m(_dystack pid=290)\u001b[0m \t\tTo set the same value for all models, do the following when calling predictor.fit: `predictor.fit(..., ag_args_fit={\"ag.max_memory_usage_ratio\": VALUE})`\n",
      "\u001b[36m(_dystack pid=290)\u001b[0m \t\tSetting \"ag.max_memory_usage_ratio\" to values above 1 may result in out-of-memory errors. You may consider using a machine with more memory as a safer alternative.\n",
      "\u001b[36m(_dystack pid=290)\u001b[0m \tNot enough memory to train NeuralNetFastAI_BAG_L1... Skipping this model.\n",
      "\u001b[36m(_dystack pid=290)\u001b[0m Unhandled error (suppress with 'RAY_IGNORE_UNHANDLED_ERRORS=1'): The worker died unexpectedly while executing this task. Check python-core-worker-*.log files for more information.\n",
      "\u001b[36m(_dystack pid=290)\u001b[0m Unhandled error (suppress with 'RAY_IGNORE_UNHANDLED_ERRORS=1'): The worker died unexpectedly while executing this task. Check python-core-worker-*.log files for more information.\n",
      "\u001b[36m(_dystack pid=290)\u001b[0m Unhandled error (suppress with 'RAY_IGNORE_UNHANDLED_ERRORS=1'): The worker died unexpectedly while executing this task. Check python-core-worker-*.log files for more information.\n",
      "\u001b[36m(_dystack pid=290)\u001b[0m Fitting model: XGBoost_BAG_L1 ... Training model for up to 3534.89s of the 6813.01s of remaining time.\n",
      "\u001b[36m(_dystack pid=290)\u001b[0m \tWarning: Potentially not enough memory to safely train model. Estimated to require 12.015 GB out of 14.859 GB available memory (80.855%)... (100.000% of avail memory is the max safe size)\n",
      "\u001b[36m(_dystack pid=290)\u001b[0m \tTo avoid this warning, specify the model hyperparameter \"ag.max_memory_usage_ratio\" to a larger value (currently 1.0, set to >=1.13 to avoid the warning)\n",
      "\u001b[36m(_dystack pid=290)\u001b[0m \t\tTo set the same value for all models, do the following when calling predictor.fit: `predictor.fit(..., ag_args_fit={\"ag.max_memory_usage_ratio\": VALUE})`\n",
      "\u001b[36m(_dystack pid=290)\u001b[0m \t\tSetting \"ag.max_memory_usage_ratio\" to values above 1 may result in out-of-memory errors. You may consider using a machine with more memory as a safer alternative.\n",
      "\u001b[36m(_dystack pid=290)\u001b[0m \tMemory not enough to fit 5 folds in parallel. Will train 1 folds in parallel instead (Estimated 80.85% memory usage per fold, 80.85%/80.00% total).\n",
      "\u001b[36m(_dystack pid=290)\u001b[0m \tFitting 5 child models (S1F1 - S1F5) | Fitting with ParallelLocalFoldFittingStrategy (1 workers, per: cpus=2, gpus=0, memory=80.85%)\n",
      "\u001b[36m(_dystack pid=290)\u001b[0m \t\tSwitching to pseudo sequential ParallelFoldFittingStrategy to avoid Python memory leakage.\n",
      "\u001b[36m(_dystack pid=290)\u001b[0m \t\tOverrule this behavior by setting fold_fitting_strategy to 'sequential_local' in ag_args_ensemble when when calling `predictor.fit`\n",
      "\u001b[36m(_dystack pid=290)\u001b[0m \t0.0849\t = Validation score   (pearsonr)\n",
      "\u001b[36m(_dystack pid=290)\u001b[0m \t1141.71s\t = Training   runtime\n",
      "\u001b[36m(_dystack pid=290)\u001b[0m \t22.52s\t = Validation runtime\n",
      "\u001b[36m(_dystack pid=290)\u001b[0m Fitting model: NeuralNetTorch_BAG_L1 ... Training model for up to 2354.60s of the 5632.71s of remaining time.\n",
      "\u001b[36m(_dystack pid=290)\u001b[0m \tMemory not enough to fit 5 folds in parallel. Will train 1 folds in parallel instead (Estimated 57.28% memory usage per fold, 57.28%/80.00% total).\n",
      "\u001b[36m(_dystack pid=290)\u001b[0m \tFitting 5 child models (S1F1 - S1F5) | Fitting with ParallelLocalFoldFittingStrategy (1 workers, per: cpus=2, gpus=0, memory=57.28%)\n",
      "\u001b[36m(_dystack pid=290)\u001b[0m \t\tSwitching to pseudo sequential ParallelFoldFittingStrategy to avoid Python memory leakage.\n",
      "\u001b[36m(_dystack pid=290)\u001b[0m \t\tOverrule this behavior by setting fold_fitting_strategy to 'sequential_local' in ag_args_ensemble when when calling `predictor.fit`\n",
      "\u001b[36m(_ray_fit pid=8116)\u001b[0m \tRan out of time, stopping training early. (Stopping on epoch 8)\n",
      "\u001b[36m(_ray_fit pid=8266)\u001b[0m \tRan out of time, stopping training early. (Stopping on epoch 8)\n",
      "\u001b[36m(_ray_fit pid=8417)\u001b[0m \tRan out of time, stopping training early. (Stopping on epoch 9)\n",
      "\u001b[36m(_ray_fit pid=8571)\u001b[0m \tRan out of time, stopping training early. (Stopping on epoch 9)\n",
      "\u001b[36m(_ray_fit pid=8725)\u001b[0m \tRan out of time, stopping training early. (Stopping on epoch 9)\n",
      "\u001b[36m(_dystack pid=290)\u001b[0m \t0.08\t = Validation score   (pearsonr)\n",
      "\u001b[36m(_dystack pid=290)\u001b[0m \t1852.94s\t = Training   runtime\n",
      "\u001b[36m(_dystack pid=290)\u001b[0m \t40.63s\t = Validation runtime\n",
      "\u001b[36m(_dystack pid=290)\u001b[0m Fitting model: LightGBMLarge_BAG_L1 ... Training model for up to 444.97s of the 3723.08s of remaining time.\n",
      "\u001b[36m(_dystack pid=290)\u001b[0m \tMemory not enough to fit 5 folds in parallel. Will train 1 folds in parallel instead (Estimated 63.71% memory usage per fold, 63.71%/80.00% total).\n",
      "\u001b[36m(_dystack pid=290)\u001b[0m \tFitting 5 child models (S1F1 - S1F5) | Fitting with ParallelLocalFoldFittingStrategy (1 workers, per: cpus=2, gpus=0, memory=63.71%)\n",
      "\u001b[36m(_dystack pid=290)\u001b[0m \t\tSwitching to pseudo sequential ParallelFoldFittingStrategy to avoid Python memory leakage.\n",
      "\u001b[36m(_dystack pid=290)\u001b[0m \t\tOverrule this behavior by setting fold_fitting_strategy to 'sequential_local' in ag_args_ensemble when when calling `predictor.fit`\n",
      "\u001b[36m(_ray_fit pid=8912)\u001b[0m \tRan out of time, early stopping on iteration 1. Best iteration is:\n",
      "\u001b[36m(_ray_fit pid=8912)\u001b[0m \t[1]\tvalid_set's l2: 1.00807\tvalid_set's pearsonr: 0.0480664\n",
      "\u001b[36m(_ray_fit pid=9010)\u001b[0m \tRan out of time, early stopping on iteration 1. Best iteration is:\n",
      "\u001b[36m(_ray_fit pid=9010)\u001b[0m \t[1]\tvalid_set's l2: 0.900547\tvalid_set's pearsonr: 0.016231\n",
      "\u001b[36m(_ray_fit pid=9104)\u001b[0m \tRan out of time, early stopping on iteration 1. Best iteration is:\n",
      "\u001b[36m(_ray_fit pid=9104)\u001b[0m \t[1]\tvalid_set's l2: 1.06011\tvalid_set's pearsonr: 0.019959\n",
      "\u001b[36m(_ray_fit pid=9199)\u001b[0m \tRan out of time, early stopping on iteration 1. Best iteration is:\n",
      "\u001b[36m(_ray_fit pid=9199)\u001b[0m \t[1]\tvalid_set's l2: 1.05758\tvalid_set's pearsonr: 0.00100717\n",
      "\u001b[36m(_ray_fit pid=9298)\u001b[0m \tRan out of time, early stopping on iteration 1. Best iteration is:\n",
      "\u001b[36m(_ray_fit pid=9298)\u001b[0m \t[1]\tvalid_set's l2: 1.08604\tvalid_set's pearsonr: 0.0329094\n",
      "\u001b[36m(_dystack pid=290)\u001b[0m \t0.009\t = Validation score   (pearsonr)\n",
      "\u001b[36m(_dystack pid=290)\u001b[0m \t483.05s\t = Training   runtime\n",
      "\u001b[36m(_dystack pid=290)\u001b[0m \t1.88s\t = Validation runtime\n",
      "\u001b[36m(_dystack pid=290)\u001b[0m Insufficient time to train even a single feature pruning model (remaining: 0, needed: 806.4353070259094). Skipping feature pruning.\n",
      "\u001b[36m(_dystack pid=290)\u001b[0m Fitting model: WeightedEnsemble_L2 ... Training model for up to 655.13s of the 3199.70s of remaining time.\n",
      "\u001b[36m(_dystack pid=290)\u001b[0m \tEnsemble Weights: {'CatBoost_BAG_L1': 0.4, 'LightGBMXT_BAG_L1': 0.24, 'LightGBM_BAG_L1': 0.2, 'XGBoost_BAG_L1': 0.08, 'NeuralNetTorch_BAG_L1': 0.08}\n",
      "\u001b[36m(_dystack pid=290)\u001b[0m \t0.1262\t = Validation score   (pearsonr)\n",
      "\u001b[36m(_dystack pid=290)\u001b[0m \t2.28s\t = Training   runtime\n",
      "\u001b[36m(_dystack pid=290)\u001b[0m \t0.02s\t = Validation runtime\n",
      "\u001b[36m(_dystack pid=290)\u001b[0m Excluded models: ['KNN', 'RF'] (Specified by `excluded_model_types`)\n",
      "\u001b[36m(_dystack pid=290)\u001b[0m Fitting 98 L2 models, fit_strategy=\"sequential\" ...\n",
      "\u001b[36m(_dystack pid=290)\u001b[0m Fitting model: LightGBMXT_BAG_L2 ... Training model for up to 3197.33s of the 3196.89s of remaining time.\n",
      "\u001b[36m(_dystack pid=290)\u001b[0m \tMemory not enough to fit 5 folds in parallel. Will train 1 folds in parallel instead (Estimated 67.83% memory usage per fold, 67.83%/80.00% total).\n",
      "\u001b[36m(_dystack pid=290)\u001b[0m \tFitting 5 child models (S1F1 - S1F5) | Fitting with ParallelLocalFoldFittingStrategy (1 workers, per: cpus=2, gpus=0, memory=67.83%)\n",
      "\u001b[36m(_dystack pid=290)\u001b[0m \t\tSwitching to pseudo sequential ParallelFoldFittingStrategy to avoid Python memory leakage.\n",
      "\u001b[36m(_dystack pid=290)\u001b[0m \t\tOverrule this behavior by setting fold_fitting_strategy to 'sequential_local' in ag_args_ensemble when when calling `predictor.fit`\n",
      "\u001b[36m(_dystack pid=290)\u001b[0m \t0.0793\t = Validation score   (pearsonr)\n",
      "\u001b[36m(_dystack pid=290)\u001b[0m \t742.94s\t = Training   runtime\n",
      "\u001b[36m(_dystack pid=290)\u001b[0m \t3.24s\t = Validation runtime\n",
      "\u001b[36m(_dystack pid=290)\u001b[0m Fitting model: LightGBM_BAG_L2 ... Training model for up to 2419.54s of the 2419.10s of remaining time.\n",
      "\u001b[36m(_dystack pid=290)\u001b[0m \tMemory not enough to fit 5 folds in parallel. Will train 1 folds in parallel instead (Estimated 67.61% memory usage per fold, 67.61%/80.00% total).\n",
      "\u001b[36m(_dystack pid=290)\u001b[0m \tFitting 5 child models (S1F1 - S1F5) | Fitting with ParallelLocalFoldFittingStrategy (1 workers, per: cpus=2, gpus=0, memory=67.61%)\n",
      "\u001b[36m(_dystack pid=290)\u001b[0m \t\tSwitching to pseudo sequential ParallelFoldFittingStrategy to avoid Python memory leakage.\n",
      "\u001b[36m(_dystack pid=290)\u001b[0m \t\tOverrule this behavior by setting fold_fitting_strategy to 'sequential_local' in ag_args_ensemble when when calling `predictor.fit`\n",
      "\u001b[36m(_dystack pid=290)\u001b[0m \t0.0573\t = Validation score   (pearsonr)\n",
      "\u001b[36m(_dystack pid=290)\u001b[0m \t689.81s\t = Training   runtime\n",
      "\u001b[36m(_dystack pid=290)\u001b[0m \t3.36s\t = Validation runtime\n",
      "\u001b[36m(_dystack pid=290)\u001b[0m Fitting model: CatBoost_BAG_L2 ... Training model for up to 1692.57s of the 1692.13s of remaining time.\n",
      "\u001b[36m(_dystack pid=290)\u001b[0m \tMemory not enough to fit 5 folds in parallel. Will train 1 folds in parallel instead (Estimated 74.97% memory usage per fold, 74.97%/80.00% total).\n",
      "\u001b[36m(_dystack pid=290)\u001b[0m \tFitting 5 child models (S1F1 - S1F5) | Fitting with ParallelLocalFoldFittingStrategy (1 workers, per: cpus=2, gpus=0, memory=74.97%)\n",
      "\u001b[36m(_dystack pid=290)\u001b[0m \t\tSwitching to pseudo sequential ParallelFoldFittingStrategy to avoid Python memory leakage.\n",
      "\u001b[36m(_dystack pid=290)\u001b[0m \t\tOverrule this behavior by setting fold_fitting_strategy to 'sequential_local' in ag_args_ensemble when when calling `predictor.fit`\n",
      "\u001b[36m(_dystack pid=290)\u001b[0m \t0.0968\t = Validation score   (pearsonr)\n",
      "\u001b[36m(_dystack pid=290)\u001b[0m \t502.77s\t = Training   runtime\n",
      "\u001b[36m(_dystack pid=290)\u001b[0m \t0.33s\t = Validation runtime\n",
      "\u001b[36m(_dystack pid=290)\u001b[0m Fitting model: ExtraTreesMSE_BAG_L2 ... Training model for up to 1152.50s of the 1152.06s of remaining time.\n",
      "\u001b[36m(_dystack pid=290)\u001b[0m \tForcing `use_child_oof=False` because `groups` is specified\n",
      "\u001b[36m(_dystack pid=290)\u001b[0m \tFitting 5 child models (S1F1 - S1F5) | Fitting with ParallelLocalFoldFittingStrategy (4 workers, per: cpus=1, gpus=0, memory=13.03%)\n",
      "\u001b[33m(raylet)\u001b[0m [2025-07-13 22:33:13,268 E 222 222] (raylet) node_manager.cc:3313: 2 Workers (tasks / actors) killed due to memory pressure (OOM), 0 Workers crashed due to other reasons at node (ID: 4e6d43ae563ba67a2b10a89dfd39104e1462255d3313d5cfd538e58a, IP: 172.19.2.2) over the last time period. To see more information about the Workers killed on this node, use `ray logs raylet.out -ip 172.19.2.2`\n",
      "\u001b[33m(raylet)\u001b[0m \n",
      "\u001b[33m(raylet)\u001b[0m Refer to the documentation on how to address the out of memory issue: https://docs.ray.io/en/latest/ray-core/scheduling/ray-oom-prevention.html. Consider provisioning more memory on this node or reducing task parallelism by requesting more CPUs per task. To adjust the kill threshold, set the environment variable `RAY_memory_usage_threshold` when starting Ray. To disable worker killing, set the environment variable `RAY_memory_monitor_refresh_ms` to zero.\n",
      "\u001b[33m(raylet)\u001b[0m \n",
      "\u001b[33m(raylet)\u001b[0m [2025-07-13 22:34:13,272 E 222 222] (raylet) node_manager.cc:3313: 2 Workers (tasks / actors) killed due to memory pressure (OOM), 0 Workers crashed due to other reasons at node (ID: 4e6d43ae563ba67a2b10a89dfd39104e1462255d3313d5cfd538e58a, IP: 172.19.2.2) over the last time period. To see more information about the Workers killed on this node, use `ray logs raylet.out -ip 172.19.2.2`\n",
      "\u001b[33m(raylet)\u001b[0m Refer to the documentation on how to address the out of memory issue: https://docs.ray.io/en/latest/ray-core/scheduling/ray-oom-prevention.html. Consider provisioning more memory on this node or reducing task parallelism by requesting more CPUs per task. To adjust the kill threshold, set the environment variable `RAY_memory_usage_threshold` when starting Ray. To disable worker killing, set the environment variable `RAY_memory_monitor_refresh_ms` to zero.\n",
      "\u001b[33m(raylet)\u001b[0m [2025-07-13 22:35:13,278 E 222 222] (raylet) node_manager.cc:3313: 3 Workers (tasks / actors) killed due to memory pressure (OOM), 0 Workers crashed due to other reasons at node (ID: 4e6d43ae563ba67a2b10a89dfd39104e1462255d3313d5cfd538e58a, IP: 172.19.2.2) over the last time period. To see more information about the Workers killed on this node, use `ray logs raylet.out -ip 172.19.2.2`\n",
      "\u001b[33m(raylet)\u001b[0m \n",
      "\u001b[33m(raylet)\u001b[0m Refer to the documentation on how to address the out of memory issue: https://docs.ray.io/en/latest/ray-core/scheduling/ray-oom-prevention.html. Consider provisioning more memory on this node or reducing task parallelism by requesting more CPUs per task. To adjust the kill threshold, set the environment variable `RAY_memory_usage_threshold` when starting Ray. To disable worker killing, set the environment variable `RAY_memory_monitor_refresh_ms` to zero.\n",
      "\u001b[33m(raylet)\u001b[0m \n",
      "\u001b[33m(raylet)\u001b[0m [2025-07-13 22:36:13,280 E 222 222] (raylet) node_manager.cc:3313: 2 Workers (tasks / actors) killed due to memory pressure (OOM), 0 Workers crashed due to other reasons at node (ID: 4e6d43ae563ba67a2b10a89dfd39104e1462255d3313d5cfd538e58a, IP: 172.19.2.2) over the last time period. To see more information about the Workers killed on this node, use `ray logs raylet.out -ip 172.19.2.2`\n",
      "\u001b[33m(raylet)\u001b[0m Refer to the documentation on how to address the out of memory issue: https://docs.ray.io/en/latest/ray-core/scheduling/ray-oom-prevention.html. Consider provisioning more memory on this node or reducing task parallelism by requesting more CPUs per task. To adjust the kill threshold, set the environment variable `RAY_memory_usage_threshold` when starting Ray. To disable worker killing, set the environment variable `RAY_memory_monitor_refresh_ms` to zero.\n",
      "\u001b[33m(raylet)\u001b[0m [2025-07-13 22:37:13,283 E 222 222] (raylet) node_manager.cc:3313: 3 Workers (tasks / actors) killed due to memory pressure (OOM), 0 Workers crashed due to other reasons at node (ID: 4e6d43ae563ba67a2b10a89dfd39104e1462255d3313d5cfd538e58a, IP: 172.19.2.2) over the last time period. To see more information about the Workers killed on this node, use `ray logs raylet.out -ip 172.19.2.2`\n",
      "\u001b[33m(raylet)\u001b[0m \n",
      "\u001b[33m(raylet)\u001b[0m Refer to the documentation on how to address the out of memory issue: https://docs.ray.io/en/latest/ray-core/scheduling/ray-oom-prevention.html. Consider provisioning more memory on this node or reducing task parallelism by requesting more CPUs per task. To adjust the kill threshold, set the environment variable `RAY_memory_usage_threshold` when starting Ray. To disable worker killing, set the environment variable `RAY_memory_monitor_refresh_ms` to zero.\n",
      "\u001b[33m(raylet)\u001b[0m \n",
      "\u001b[33m(raylet)\u001b[0m [2025-07-13 22:38:13,286 E 222 222] (raylet) node_manager.cc:3313: 2 Workers (tasks / actors) killed due to memory pressure (OOM), 0 Workers crashed due to other reasons at node (ID: 4e6d43ae563ba67a2b10a89dfd39104e1462255d3313d5cfd538e58a, IP: 172.19.2.2) over the last time period. To see more information about the Workers killed on this node, use `ray logs raylet.out -ip 172.19.2.2`\n",
      "\u001b[33m(raylet)\u001b[0m Refer to the documentation on how to address the out of memory issue: https://docs.ray.io/en/latest/ray-core/scheduling/ray-oom-prevention.html. Consider provisioning more memory on this node or reducing task parallelism by requesting more CPUs per task. To adjust the kill threshold, set the environment variable `RAY_memory_usage_threshold` when starting Ray. To disable worker killing, set the environment variable `RAY_memory_monitor_refresh_ms` to zero.\n",
      "\u001b[33m(raylet)\u001b[0m [2025-07-13 22:40:13,292 E 222 222] (raylet) node_manager.cc:3313: 2 Workers (tasks / actors) killed due to memory pressure (OOM), 0 Workers crashed due to other reasons at node (ID: 4e6d43ae563ba67a2b10a89dfd39104e1462255d3313d5cfd538e58a, IP: 172.19.2.2) over the last time period. To see more information about the Workers killed on this node, use `ray logs raylet.out -ip 172.19.2.2`\n",
      "\u001b[33m(raylet)\u001b[0m \n",
      "\u001b[33m(raylet)\u001b[0m Refer to the documentation on how to address the out of memory issue: https://docs.ray.io/en/latest/ray-core/scheduling/ray-oom-prevention.html. Consider provisioning more memory on this node or reducing task parallelism by requesting more CPUs per task. To adjust the kill threshold, set the environment variable `RAY_memory_usage_threshold` when starting Ray. To disable worker killing, set the environment variable `RAY_memory_monitor_refresh_ms` to zero.\n",
      "\u001b[33m(raylet)\u001b[0m \n",
      "\u001b[33m(raylet)\u001b[0m [2025-07-13 22:41:13,295 E 222 222] (raylet) node_manager.cc:3313: 2 Workers (tasks / actors) killed due to memory pressure (OOM), 0 Workers crashed due to other reasons at node (ID: 4e6d43ae563ba67a2b10a89dfd39104e1462255d3313d5cfd538e58a, IP: 172.19.2.2) over the last time period. To see more information about the Workers killed on this node, use `ray logs raylet.out -ip 172.19.2.2`\n",
      "\u001b[33m(raylet)\u001b[0m Refer to the documentation on how to address the out of memory issue: https://docs.ray.io/en/latest/ray-core/scheduling/ray-oom-prevention.html. Consider provisioning more memory on this node or reducing task parallelism by requesting more CPUs per task. To adjust the kill threshold, set the environment variable `RAY_memory_usage_threshold` when starting Ray. To disable worker killing, set the environment variable `RAY_memory_monitor_refresh_ms` to zero.\n",
      "\u001b[33m(raylet)\u001b[0m [2025-07-13 22:42:13,297 E 222 222] (raylet) node_manager.cc:3313: 1 Workers (tasks / actors) killed due to memory pressure (OOM), 0 Workers crashed due to other reasons at node (ID: 4e6d43ae563ba67a2b10a89dfd39104e1462255d3313d5cfd538e58a, IP: 172.19.2.2) over the last time period. To see more information about the Workers killed on this node, use `ray logs raylet.out -ip 172.19.2.2`\n",
      "\u001b[33m(raylet)\u001b[0m \n",
      "\u001b[33m(raylet)\u001b[0m Refer to the documentation on how to address the out of memory issue: https://docs.ray.io/en/latest/ray-core/scheduling/ray-oom-prevention.html. Consider provisioning more memory on this node or reducing task parallelism by requesting more CPUs per task. To adjust the kill threshold, set the environment variable `RAY_memory_usage_threshold` when starting Ray. To disable worker killing, set the environment variable `RAY_memory_monitor_refresh_ms` to zero.\n",
      "\u001b[33m(raylet)\u001b[0m \n",
      "\u001b[33m(raylet)\u001b[0m [2025-07-13 22:43:13,300 E 222 222] (raylet) node_manager.cc:3313: 1 Workers (tasks / actors) killed due to memory pressure (OOM), 0 Workers crashed due to other reasons at node (ID: 4e6d43ae563ba67a2b10a89dfd39104e1462255d3313d5cfd538e58a, IP: 172.19.2.2) over the last time period. To see more information about the Workers killed on this node, use `ray logs raylet.out -ip 172.19.2.2`\n",
      "\u001b[33m(raylet)\u001b[0m Refer to the documentation on how to address the out of memory issue: https://docs.ray.io/en/latest/ray-core/scheduling/ray-oom-prevention.html. Consider provisioning more memory on this node or reducing task parallelism by requesting more CPUs per task. To adjust the kill threshold, set the environment variable `RAY_memory_usage_threshold` when starting Ray. To disable worker killing, set the environment variable `RAY_memory_monitor_refresh_ms` to zero.\n",
      "\u001b[36m(_ray_fit pid=11174)\u001b[0m \tWarning: Model is expected to require 48578.7s to train, which exceeds the maximum time limit of 414.4s, skipping model...\n",
      "\u001b[36m(_dystack pid=290)\u001b[0m \tTime limit exceeded... Skipping ExtraTreesMSE_BAG_L2.\n",
      "\u001b[36m(_dystack pid=290)\u001b[0m Fitting model: NeuralNetFastAI_BAG_L2 ... Training model for up to 423.44s of the 423.00s of remaining time.\n",
      "\u001b[36m(_dystack pid=290)\u001b[0m \tWarning: Not enough memory to safely train model. Estimated to require 15.740 GB out of 13.450 GB available memory (117.027%)... (90.000% of avail memory is the max safe size)\n",
      "\u001b[36m(_dystack pid=290)\u001b[0m \tTo force training the model, specify the model hyperparameter \"ag.max_memory_usage_ratio\" to a larger value (currently 1.0, set to >=1.35 to avoid the error)\n",
      "\u001b[36m(_dystack pid=290)\u001b[0m \t\tTo set the same value for all models, do the following when calling predictor.fit: `predictor.fit(..., ag_args_fit={\"ag.max_memory_usage_ratio\": VALUE})`\n",
      "\u001b[36m(_dystack pid=290)\u001b[0m \t\tSetting \"ag.max_memory_usage_ratio\" to values above 1 may result in out-of-memory errors. You may consider using a machine with more memory as a safer alternative.\n",
      "\u001b[36m(_dystack pid=290)\u001b[0m \tNot enough memory to train NeuralNetFastAI_BAG_L2... Skipping this model.\n",
      "\u001b[36m(_dystack pid=290)\u001b[0m Unhandled error (suppress with 'RAY_IGNORE_UNHANDLED_ERRORS=1'): The worker died unexpectedly while executing this task. Check python-core-worker-*.log files for more information.\n",
      "\u001b[36m(_dystack pid=290)\u001b[0m Unhandled error (suppress with 'RAY_IGNORE_UNHANDLED_ERRORS=1'): The worker died unexpectedly while executing this task. Check python-core-worker-*.log files for more information.\n",
      "\u001b[36m(_dystack pid=290)\u001b[0m Unhandled error (suppress with 'RAY_IGNORE_UNHANDLED_ERRORS=1'): The worker died unexpectedly while executing this task. Check python-core-worker-*.log files for more information.\n",
      "\u001b[36m(_dystack pid=290)\u001b[0m Fitting model: XGBoost_BAG_L2 ... Training model for up to 390.32s of the 389.88s of remaining time.\n",
      "\u001b[36m(_dystack pid=290)\u001b[0m \tWarning: Potentially not enough memory to safely train model. Estimated to require 12.110 GB out of 13.419 GB available memory (90.241%)... (100.000% of avail memory is the max safe size)\n",
      "\u001b[36m(_dystack pid=290)\u001b[0m \tTo avoid this warning, specify the model hyperparameter \"ag.max_memory_usage_ratio\" to a larger value (currently 1.0, set to >=1.25 to avoid the warning)\n",
      "\u001b[36m(_dystack pid=290)\u001b[0m \t\tTo set the same value for all models, do the following when calling predictor.fit: `predictor.fit(..., ag_args_fit={\"ag.max_memory_usage_ratio\": VALUE})`\n",
      "\u001b[36m(_dystack pid=290)\u001b[0m \t\tSetting \"ag.max_memory_usage_ratio\" to values above 1 may result in out-of-memory errors. You may consider using a machine with more memory as a safer alternative.\n",
      "\u001b[36m(_dystack pid=290)\u001b[0m \tMemory not enough to fit 5 folds in parallel. Will train 1 folds in parallel instead (Estimated 90.24% memory usage per fold, 90.24%/80.00% total).\n",
      "\u001b[36m(_dystack pid=290)\u001b[0m \tFitting 5 child models (S1F1 - S1F5) | Fitting with ParallelLocalFoldFittingStrategy (1 workers, per: cpus=2, gpus=0, memory=90.24%)\n",
      "\u001b[36m(_dystack pid=290)\u001b[0m \t\tSwitching to pseudo sequential ParallelFoldFittingStrategy to avoid Python memory leakage.\n",
      "\u001b[36m(_dystack pid=290)\u001b[0m \t\tOverrule this behavior by setting fold_fitting_strategy to 'sequential_local' in ag_args_ensemble when when calling `predictor.fit`\n",
      "\u001b[36m(_dystack pid=290)\u001b[0m \tWarning: Exception caused XGBoost_BAG_L2 to fail during training... Skipping this model.\n",
      "\u001b[36m(_dystack pid=290)\u001b[0m \t\tTask was killed due to the node running low on memory.\n",
      "\u001b[36m(_dystack pid=290)\u001b[0m Memory on the node (IP: 172.19.2.2, ID: 4e6d43ae563ba67a2b10a89dfd39104e1462255d3313d5cfd538e58a) where the task (task ID: ce82fa32d4e2cb76195a78cd290c7732e07e4a3effffffff, name=_ray_fit, pid=12353, memory used=10.41GB) was running was 28.52GB / 30.00GB (0.95079), which exceeds the memory usage threshold of 0.95. Ray killed this worker (ID: 4eccdb43a35e51c93f150cbe5a09a6d2044c69bea7d2335d1d6bde48) because it was the most recently scheduled task; to see more information about memory usage on this node, use `ray logs raylet.out -ip 172.19.2.2`. To see the logs of the worker, use `ray logs worker-4eccdb43a35e51c93f150cbe5a09a6d2044c69bea7d2335d1d6bde48*out -ip 172.19.2.2. Top 10 memory users:\n",
      "\u001b[36m(_dystack pid=290)\u001b[0m PID\tMEM(GB)\tCOMMAND\n",
      "\u001b[36m(_dystack pid=290)\u001b[0m 12353\t10.41\tray::_ray_fit\n",
      "\u001b[36m(_dystack pid=290)\u001b[0m 13\t8.77\t/usr/bin/python3 -m colab_kernel_launcher -f /tmp/tmpbpopwsep.json --HistoryManager.hist_file=:memor...\n",
      "\u001b[36m(_dystack pid=290)\u001b[0m 290\t5.91\tray::_dystack\n",
      "\u001b[36m(_dystack pid=290)\u001b[0m 9\t0.10\tpython3 -c import sys;import papermill as pm;pm.execute_notebook(\"__notebook__.ipynb\",\"__notebook__....\n",
      "\u001b[36m(_dystack pid=290)\u001b[0m 144\t0.09\t/usr/bin/python3 /usr/local/lib/python3.11/dist-packages/ray/dashboard/dashboard.py --host=127.0.0.1...\n",
      "\u001b[36m(_dystack pid=290)\u001b[0m 259\t0.08\t/usr/bin/python3 -u /usr/local/lib/python3.11/dist-packages/ray/dashboard/agent.py --node-ip-address...\n",
      "\u001b[36m(_dystack pid=290)\u001b[0m 143\t0.06\t/usr/bin/python3 -u /usr/local/lib/python3.11/dist-packages/ray/autoscaler/_private/monitor.py --log...\n",
      "\u001b[36m(_dystack pid=290)\u001b[0m 242\t0.06\t/usr/bin/python3 -u /usr/local/lib/python3.11/dist-packages/ray/_private/log_monitor.py --session-di...\n",
      "\u001b[36m(_dystack pid=290)\u001b[0m 261\t0.05\t/usr/bin/python3 -u /usr/local/lib/python3.11/dist-packages/ray/_private/runtime_env/agent/main.py -...\n",
      "\u001b[36m(_dystack pid=290)\u001b[0m 111\t0.03\t/usr/local/lib/python3.11/dist-packages/ray/core/src/ray/gcs/gcs_server --log_dir=/tmp/ray/session_2...\n",
      "\u001b[36m(_dystack pid=290)\u001b[0m Refer to the documentation on how to address the out of memory issue: https://docs.ray.io/en/latest/ray-core/scheduling/ray-oom-prevention.html. Consider provisioning more memory on this node or reducing task parallelism by requesting more CPUs per task. To adjust the kill threshold, set the environment variable `RAY_memory_usage_threshold` when starting Ray. To disable worker killing, set the environment variable `RAY_memory_monitor_refresh_ms` to zero.\n",
      "\u001b[36m(_dystack pid=290)\u001b[0m Detailed Traceback:\n",
      "\u001b[36m(_dystack pid=290)\u001b[0m Traceback (most recent call last):\n",
      "\u001b[36m(_dystack pid=290)\u001b[0m   File \"/usr/local/lib/python3.11/dist-packages/autogluon/tabular/trainer/abstract_trainer.py\", line 2169, in _train_and_save\n",
      "\u001b[36m(_dystack pid=290)\u001b[0m     model = self._train_single(**model_fit_kwargs)\n",
      "\u001b[36m(_dystack pid=290)\u001b[0m             ^^^^^^^^^^^^^^^^^^^^^^^^^^^^^^^^^^^^^^\n",
      "\u001b[36m(_dystack pid=290)\u001b[0m   File \"/usr/local/lib/python3.11/dist-packages/autogluon/tabular/trainer/abstract_trainer.py\", line 2055, in _train_single\n",
      "\u001b[36m(_dystack pid=290)\u001b[0m     model = model.fit(X=X, y=y, X_val=X_val, y_val=y_val, X_test=X_test, y_test=y_test, total_resources=total_resources, **model_fit_kwargs)\n",
      "\u001b[36m(_dystack pid=290)\u001b[0m             ^^^^^^^^^^^^^^^^^^^^^^^^^^^^^^^^^^^^^^^^^^^^^^^^^^^^^^^^^^^^^^^^^^^^^^^^^^^^^^^^^^^^^^^^^^^^^^^^^^^^^^^^^^^^^^^^^^^^^^^^^^^^^^^^\n",
      "\u001b[36m(_dystack pid=290)\u001b[0m   File \"/usr/local/lib/python3.11/dist-packages/autogluon/core/models/abstract/abstract_model.py\", line 1051, in fit\n",
      "\u001b[36m(_dystack pid=290)\u001b[0m     out = self._fit(**kwargs)\n",
      "\u001b[36m(_dystack pid=290)\u001b[0m           ^^^^^^^^^^^^^^^^^^^\n",
      "\u001b[36m(_dystack pid=290)\u001b[0m   File \"/usr/local/lib/python3.11/dist-packages/autogluon/core/models/ensemble/stacker_ensemble_model.py\", line 270, in _fit\n",
      "\u001b[36m(_dystack pid=290)\u001b[0m     return super()._fit(X=X, y=y, time_limit=time_limit, **kwargs)\n",
      "\u001b[36m(_dystack pid=290)\u001b[0m            ^^^^^^^^^^^^^^^^^^^^^^^^^^^^^^^^^^^^^^^^^^^^^^^^^^^^^^^\n",
      "\u001b[36m(_dystack pid=290)\u001b[0m   File \"/usr/local/lib/python3.11/dist-packages/autogluon/core/models/ensemble/bagged_ensemble_model.py\", line 390, in _fit\n",
      "\u001b[36m(_dystack pid=290)\u001b[0m     self._fit_folds(\n",
      "\u001b[36m(_dystack pid=290)\u001b[0m   File \"/usr/local/lib/python3.11/dist-packages/autogluon/core/models/ensemble/bagged_ensemble_model.py\", line 848, in _fit_folds\n",
      "\u001b[36m(_dystack pid=290)\u001b[0m     fold_fitting_strategy.after_all_folds_scheduled()\n",
      "\u001b[36m(_dystack pid=290)\u001b[0m   File \"/usr/local/lib/python3.11/dist-packages/autogluon/core/models/ensemble/fold_fitting_strategy.py\", line 688, in after_all_folds_scheduled\n",
      "\u001b[36m(_dystack pid=290)\u001b[0m     self._run_pseudo_sequential(X, y, X_pseudo, y_pseudo, model_base_ref, time_limit_fold, head_node_id)\n",
      "\u001b[36m(_dystack pid=290)\u001b[0m   File \"/usr/local/lib/python3.11/dist-packages/autogluon/core/models/ensemble/fold_fitting_strategy.py\", line 666, in _run_pseudo_sequential\n",
      "\u001b[36m(_dystack pid=290)\u001b[0m     self._process_fold_results(finished[0], unfinished, fold_ctx)\n",
      "\u001b[36m(_dystack pid=290)\u001b[0m   File \"/usr/local/lib/python3.11/dist-packages/autogluon/core/models/ensemble/fold_fitting_strategy.py\", line 587, in _process_fold_results\n",
      "\u001b[36m(_dystack pid=290)\u001b[0m     raise processed_exception\n",
      "\u001b[36m(_dystack pid=290)\u001b[0m   File \"/usr/local/lib/python3.11/dist-packages/autogluon/core/models/ensemble/fold_fitting_strategy.py\", line 550, in _process_fold_results\n",
      "\u001b[36m(_dystack pid=290)\u001b[0m     fold_model, pred_proba, time_start_fit, time_end_fit, predict_time, predict_1_time, predict_n_size, fit_num_cpus, fit_num_gpus = self.ray.get(finished)\n",
      "\u001b[36m(_dystack pid=290)\u001b[0m                                                                                                                                      ^^^^^^^^^^^^^^^^^^^^^^\n",
      "\u001b[36m(_dystack pid=290)\u001b[0m   File \"/usr/local/lib/python3.11/dist-packages/ray/_private/auto_init_hook.py\", line 21, in auto_init_wrapper\n",
      "\u001b[36m(_dystack pid=290)\u001b[0m     return fn(*args, **kwargs)\n",
      "\u001b[36m(_dystack pid=290)\u001b[0m            ^^^^^^^^^^^^^^^^^^^\n",
      "\u001b[36m(_dystack pid=290)\u001b[0m   File \"/usr/local/lib/python3.11/dist-packages/ray/_private/client_mode_hook.py\", line 103, in wrapper\n",
      "\u001b[36m(_dystack pid=290)\u001b[0m     return func(*args, **kwargs)\n",
      "\u001b[36m(_dystack pid=290)\u001b[0m            ^^^^^^^^^^^^^^^^^^^^^\n",
      "\u001b[36m(_dystack pid=290)\u001b[0m   File \"/usr/local/lib/python3.11/dist-packages/ray/_private/worker.py\", line 2782, in get\n",
      "\u001b[36m(_dystack pid=290)\u001b[0m     values, debugger_breakpoint = worker.get_objects(object_refs, timeout=timeout)\n",
      "\u001b[36m(_dystack pid=290)\u001b[0m                                   ^^^^^^^^^^^^^^^^^^^^^^^^^^^^^^^^^^^^^^^^^^^^^^^^\n",
      "\u001b[36m(_dystack pid=290)\u001b[0m   File \"/usr/local/lib/python3.11/dist-packages/ray/_private/worker.py\", line 931, in get_objects\n",
      "\u001b[36m(_dystack pid=290)\u001b[0m     raise value\n",
      "\u001b[36m(_dystack pid=290)\u001b[0m ray.exceptions.OutOfMemoryError: Task was killed due to the node running low on memory.\n",
      "\u001b[36m(_dystack pid=290)\u001b[0m Memory on the node (IP: 172.19.2.2, ID: 4e6d43ae563ba67a2b10a89dfd39104e1462255d3313d5cfd538e58a) where the task (task ID: ce82fa32d4e2cb76195a78cd290c7732e07e4a3effffffff, name=_ray_fit, pid=12353, memory used=10.41GB) was running was 28.52GB / 30.00GB (0.95079), which exceeds the memory usage threshold of 0.95. Ray killed this worker (ID: 4eccdb43a35e51c93f150cbe5a09a6d2044c69bea7d2335d1d6bde48) because it was the most recently scheduled task; to see more information about memory usage on this node, use `ray logs raylet.out -ip 172.19.2.2`. To see the logs of the worker, use `ray logs worker-4eccdb43a35e51c93f150cbe5a09a6d2044c69bea7d2335d1d6bde48*out -ip 172.19.2.2. Top 10 memory users:\n",
      "\u001b[36m(_dystack pid=290)\u001b[0m PID\tMEM(GB)\tCOMMAND\n",
      "\u001b[36m(_dystack pid=290)\u001b[0m 12353\t10.41\tray::_ray_fit\n",
      "\u001b[36m(_dystack pid=290)\u001b[0m 13\t8.77\t/usr/bin/python3 -m colab_kernel_launcher -f /tmp/tmpbpopwsep.json --HistoryManager.hist_file=:memor...\n",
      "\u001b[36m(_dystack pid=290)\u001b[0m 290\t5.91\tray::_dystack\n",
      "\u001b[36m(_dystack pid=290)\u001b[0m 9\t0.10\tpython3 -c import sys;import papermill as pm;pm.execute_notebook(\"__notebook__.ipynb\",\"__notebook__....\n",
      "\u001b[36m(_dystack pid=290)\u001b[0m 144\t0.09\t/usr/bin/python3 /usr/local/lib/python3.11/dist-packages/ray/dashboard/dashboard.py --host=127.0.0.1...\n",
      "\u001b[36m(_dystack pid=290)\u001b[0m 259\t0.08\t/usr/bin/python3 -u /usr/local/lib/python3.11/dist-packages/ray/dashboard/agent.py --node-ip-address...\n",
      "\u001b[36m(_dystack pid=290)\u001b[0m 143\t0.06\t/usr/bin/python3 -u /usr/local/lib/python3.11/dist-packages/ray/autoscaler/_private/monitor.py --log...\n",
      "\u001b[36m(_dystack pid=290)\u001b[0m 242\t0.06\t/usr/bin/python3 -u /usr/local/lib/python3.11/dist-packages/ray/_private/log_monitor.py --session-di...\n",
      "\u001b[36m(_dystack pid=290)\u001b[0m 261\t0.05\t/usr/bin/python3 -u /usr/local/lib/python3.11/dist-packages/ray/_private/runtime_env/agent/main.py -...\n",
      "\u001b[36m(_dystack pid=290)\u001b[0m 111\t0.03\t/usr/local/lib/python3.11/dist-packages/ray/core/src/ray/gcs/gcs_server --log_dir=/tmp/ray/session_2...\n",
      "\u001b[36m(_dystack pid=290)\u001b[0m Refer to the documentation on how to address the out of memory issue: https://docs.ray.io/en/latest/ray-core/scheduling/ray-oom-prevention.html. Consider provisioning more memory on this node or reducing task parallelism by requesting more CPUs per task. To adjust the kill threshold, set the environment variable `RAY_memory_usage_threshold` when starting Ray. To disable worker killing, set the environment variable `RAY_memory_monitor_refresh_ms` to zero.\n",
      "\u001b[36m(_dystack pid=290)\u001b[0m Fitting model: NeuralNetTorch_BAG_L2 ... Training model for up to 317.71s of the 317.27s of remaining time.\n",
      "\u001b[33m(raylet)\u001b[0m [2025-07-13 22:45:13,304 E 222 222] (raylet) node_manager.cc:3313: 1 Workers (tasks / actors) killed due to memory pressure (OOM), 0 Workers crashed due to other reasons at node (ID: 4e6d43ae563ba67a2b10a89dfd39104e1462255d3313d5cfd538e58a, IP: 172.19.2.2) over the last time period. To see more information about the Workers killed on this node, use `ray logs raylet.out -ip 172.19.2.2`\n",
      "\u001b[33m(raylet)\u001b[0m \n",
      "\u001b[33m(raylet)\u001b[0m Refer to the documentation on how to address the out of memory issue: https://docs.ray.io/en/latest/ray-core/scheduling/ray-oom-prevention.html. Consider provisioning more memory on this node or reducing task parallelism by requesting more CPUs per task. To adjust the kill threshold, set the environment variable `RAY_memory_usage_threshold` when starting Ray. To disable worker killing, set the environment variable `RAY_memory_monitor_refresh_ms` to zero.\n",
      "\u001b[36m(_dystack pid=290)\u001b[0m \tMemory not enough to fit 5 folds in parallel. Will train 1 folds in parallel instead (Estimated 64.08% memory usage per fold, 64.08%/80.00% total).\n",
      "\u001b[36m(_dystack pid=290)\u001b[0m \tFitting 5 child models (S1F1 - S1F5) | Fitting with ParallelLocalFoldFittingStrategy (1 workers, per: cpus=2, gpus=0, memory=64.08%)\n",
      "\u001b[36m(_dystack pid=290)\u001b[0m \t\tSwitching to pseudo sequential ParallelFoldFittingStrategy to avoid Python memory leakage.\n",
      "\u001b[36m(_dystack pid=290)\u001b[0m \t\tOverrule this behavior by setting fold_fitting_strategy to 'sequential_local' in ag_args_ensemble when when calling `predictor.fit`\n",
      "\u001b[36m(_dystack pid=290)\u001b[0m \tTime limit exceeded... Skipping NeuralNetTorch_BAG_L2.\n",
      "\u001b[36m(_dystack pid=290)\u001b[0m Fitting model: LightGBMLarge_BAG_L2 ... Training model for up to 116.20s of the 115.76s of remaining time.\n",
      "\u001b[36m(_dystack pid=290)\u001b[0m \tWarning: Potentially not enough memory to safely train model. Estimated to require 9.556 GB out of 11.992 GB available memory (79.685%)... (90.000% of avail memory is the max safe size)\n",
      "\u001b[36m(_dystack pid=290)\u001b[0m \tTo avoid this warning, specify the model hyperparameter \"ag.max_memory_usage_ratio\" to a larger value (currently 1.0, set to >=1.11 to avoid the warning)\n",
      "\u001b[36m(_dystack pid=290)\u001b[0m \t\tTo set the same value for all models, do the following when calling predictor.fit: `predictor.fit(..., ag_args_fit={\"ag.max_memory_usage_ratio\": VALUE})`\n",
      "\u001b[36m(_dystack pid=290)\u001b[0m \t\tSetting \"ag.max_memory_usage_ratio\" to values above 1 may result in out-of-memory errors. You may consider using a machine with more memory as a safer alternative.\n",
      "\u001b[36m(_dystack pid=290)\u001b[0m \tMemory not enough to fit 5 folds in parallel. Will train 1 folds in parallel instead (Estimated 79.68% memory usage per fold, 79.68%/80.00% total).\n",
      "\u001b[36m(_dystack pid=290)\u001b[0m \tFitting 5 child models (S1F1 - S1F5) | Fitting with ParallelLocalFoldFittingStrategy (1 workers, per: cpus=2, gpus=0, memory=79.68%)\n",
      "\u001b[36m(_dystack pid=290)\u001b[0m \t\tSwitching to pseudo sequential ParallelFoldFittingStrategy to avoid Python memory leakage.\n",
      "\u001b[36m(_dystack pid=290)\u001b[0m \t\tOverrule this behavior by setting fold_fitting_strategy to 'sequential_local' in ag_args_ensemble when when calling `predictor.fit`\n",
      "\u001b[36m(_dystack pid=290)\u001b[0m \tTime limit exceeded... Skipping LightGBMLarge_BAG_L2.\n",
      "\u001b[36m(_ray_fit pid=12631)\u001b[0m \tWarning: Model has no time left to train, skipping model... (Time Left = -5.3s)\n",
      "\u001b[36m(_dystack pid=290)\u001b[0m Fitting model: CatBoost_r177_BAG_L2 ... Training model for up to 58.65s of the 58.21s of remaining time.\n",
      "\u001b[36m(_dystack pid=290)\u001b[0m \tWarning: Potentially not enough memory to safely train model. Estimated to require 10.060 GB out of 11.974 GB available memory (84.017%)... (100.000% of avail memory is the max safe size)\n",
      "\u001b[36m(_dystack pid=290)\u001b[0m \tTo avoid this warning, specify the model hyperparameter \"ag.max_memory_usage_ratio\" to a larger value (currently 1.0, set to >=1.17 to avoid the warning)\n",
      "\u001b[36m(_dystack pid=290)\u001b[0m \t\tTo set the same value for all models, do the following when calling predictor.fit: `predictor.fit(..., ag_args_fit={\"ag.max_memory_usage_ratio\": VALUE})`\n",
      "\u001b[36m(_dystack pid=290)\u001b[0m \t\tSetting \"ag.max_memory_usage_ratio\" to values above 1 may result in out-of-memory errors. You may consider using a machine with more memory as a safer alternative.\n",
      "\u001b[36m(_dystack pid=290)\u001b[0m \tMemory not enough to fit 5 folds in parallel. Will train 1 folds in parallel instead (Estimated 84.02% memory usage per fold, 84.02%/80.00% total).\n",
      "\u001b[36m(_dystack pid=290)\u001b[0m \tFitting 5 child models (S1F1 - S1F5) | Fitting with ParallelLocalFoldFittingStrategy (1 workers, per: cpus=2, gpus=0, memory=84.02%)\n",
      "\u001b[36m(_dystack pid=290)\u001b[0m \t\tSwitching to pseudo sequential ParallelFoldFittingStrategy to avoid Python memory leakage.\n",
      "\u001b[36m(_dystack pid=290)\u001b[0m \t\tOverrule this behavior by setting fold_fitting_strategy to 'sequential_local' in ag_args_ensemble when when calling `predictor.fit`\n",
      "\u001b[36m(_dystack pid=290)\u001b[0m \tTime limit exceeded... Skipping CatBoost_r177_BAG_L2.\n",
      "\u001b[36m(_ray_fit pid=12756)\u001b[0m \tWarning: Model has no time left to train, skipping model... (Time Left = -17.4s)\n",
      "\u001b[36m(_dystack pid=290)\u001b[0m Insufficient time to train even a single feature pruning model (remaining: 0, needed: 742.9362349510193). Skipping feature pruning.\n",
      "\u001b[36m(_dystack pid=290)\u001b[0m Fitting model: WeightedEnsemble_L3 ... Training model for up to 360.00s of the -19.95s of remaining time.\n",
      "\u001b[36m(_dystack pid=290)\u001b[0m \tEnsemble Weights: {'CatBoost_BAG_L1': 0.25, 'CatBoost_BAG_L2': 0.25, 'LightGBMXT_BAG_L1': 0.188, 'LightGBM_BAG_L1': 0.125, 'XGBoost_BAG_L1': 0.062, 'NeuralNetTorch_BAG_L1': 0.062, 'LightGBMXT_BAG_L2': 0.062}\n",
      "\u001b[36m(_dystack pid=290)\u001b[0m \t0.1289\t = Validation score   (pearsonr)\n",
      "\u001b[36m(_dystack pid=290)\u001b[0m \t3.36s\t = Training   runtime\n",
      "\u001b[36m(_dystack pid=290)\u001b[0m \t0.02s\t = Validation runtime\n",
      "\u001b[36m(_dystack pid=290)\u001b[0m AutoGluon training complete, total runtime = 9916.54s ... Best model: WeightedEnsemble_L3 | Estimated inference throughput: 1245.1 rows/s (93491 batch size)\n",
      "\u001b[36m(_dystack pid=290)\u001b[0m TabularPredictor saved. To load, use: predictor = TabularPredictor.load(\"/logs/ds_sub_fit/sub_fit_ho\")\n",
      "\u001b[36m(_dystack pid=290)\u001b[0m Deleting DyStack predictor artifacts (clean_up_fits=True) ...\n",
      "Leaderboard on holdout data (DyStack):\n",
      "                    model  score_holdout  score_val eval_metric  pred_time_test  pred_time_val     fit_time  pred_time_test_marginal  pred_time_val_marginal  fit_time_marginal  stack_level  can_infer  fit_order\n",
      "0   NeuralNetTorch_BAG_L1       0.888173   0.079967    pearsonr       24.850169      40.634719  1852.937459                24.850169               40.634719        1852.937459            1       True          5\n",
      "1     WeightedEnsemble_L2       0.763852   0.126163    pearsonr       50.477425      69.640114  4964.549673                 0.009056                0.016439           2.282209            2       True          7\n",
      "2     WeightedEnsemble_L3       0.750936   0.128868    pearsonr       54.804027      75.101121  6694.387935                 0.006582                0.021044           3.360566            3       True         11\n",
      "3          XGBoost_BAG_L1       0.748824   0.084920    pearsonr       13.085670      22.521714  1141.705431                13.085670               22.521714        1141.705431            1       True          4\n",
      "4       LightGBMXT_BAG_L2       0.715858   0.079278    pearsonr       54.386688      74.749862  6188.257266                 2.375132                3.243164         742.936235            2       True          8\n",
      "5         LightGBM_BAG_L1       0.699970   0.089133    pearsonr        1.924267       2.996772   696.916325                 1.924267                2.996772         696.916325            1       True          2\n",
      "6         LightGBM_BAG_L2       0.697368   0.057280    pearsonr       53.933998      74.862276  6135.134618                 1.922442                3.355578         689.813587            2       True          9\n",
      "7       LightGBMXT_BAG_L1       0.656351   0.096258    pearsonr        9.058887       3.174094   806.435307                 9.058887                3.174094         806.435307            1       True          1\n",
      "8         CatBoost_BAG_L2       0.612255   0.096796    pearsonr       52.422313      71.836913  5948.091134                 0.410757                0.330215         502.770102            2       True         10\n",
      "9    LightGBMLarge_BAG_L1       0.558435   0.008976    pearsonr        1.543188       1.883023   483.053567                 1.543188                1.883023         483.053567            1       True          6\n",
      "10        CatBoost_BAG_L1       0.525442   0.077371    pearsonr        1.549375       0.296376   464.272942                 1.549375                0.296376         464.272942            1       True          3\n",
      "\t0\t = Optimal   num_stack_levels (Stacked Overfitting Occurred: True)\n",
      "\t9998s\t = DyStack   runtime |\t29602s\t = Remaining runtime\n",
      "Starting main fit with num_stack_levels=0.\n",
      "\tFor future fit calls on this dataset, you can skip DyStack to save time: `predictor.fit(..., dynamic_stacking=False, num_stack_levels=0)`\n",
      "Values in column 'fold' used as split folds instead of being automatically set. Bagged models will have 5 splits.\n",
      "Beginning AutoGluon training ... Time limit = 29602s\n",
      "AutoGluon will save models to \"/logs\"\n",
      "Train Data Rows:    525886\n",
      "Train Data Columns: 786\n",
      "Label Column:       label\n",
      "Problem Type:       regression\n",
      "Preprocessing data ...\n",
      "Using Feature Generators to preprocess the data ...\n",
      "Fitting AutoMLPipelineFeatureGenerator...\n",
      "\tAvailable Memory:                    17364.99 MB\n",
      "\tTrain Data (Original)  Memory Usage: 1574.79 MB (9.1% of available memory)\n",
      "\tWarning: Data size prior to feature transformation consumes 9.1% of available memory. Consider increasing memory or subsampling the data to avoid instability.\n",
      "\tInferring data type of each feature based on column values. Set feature_metadata_in to manually specify special dtypes of the features.\n",
      "\tStage 1 Generators:\n",
      "\t\tFitting AsTypeFeatureGenerator...\n",
      "\tStage 2 Generators:\n",
      "\t\tFitting FillNaFeatureGenerator...\n",
      "\tStage 3 Generators:\n",
      "\t\tFitting IdentityFeatureGenerator...\n",
      "\tStage 4 Generators:\n",
      "\t\tFitting DropUniqueFeatureGenerator...\n",
      "\tStage 5 Generators:\n",
      "\t\tFitting DropDuplicatesFeatureGenerator...\n",
      "\tUnused Original Features (Count: 28): ['X104', 'X110', 'X116', 'X122', 'X128', 'X134', 'X140', 'X146', 'X152', 'X158', 'X164', 'X170', 'X176', 'X182', 'X351', 'X357', 'X363', 'X369', 'X375', 'X381', 'X387', 'X393', 'X399', 'X405', 'X411', 'X417', 'X423', 'X429']\n",
      "\t\tThese features were not used to generate any of the output features. Add a feature generator compatible with these features to utilize them.\n",
      "\t\tFeatures can also be unused if they carry very little information, such as being categorical but having almost entirely unique values or being duplicates of other features.\n",
      "\t\tThese features do not need to be present at inference time.\n",
      "\t\t('float', []) : 28 | ['X104', 'X110', 'X116', 'X122', 'X128', ...]\n",
      "\tTypes of features in original data (raw dtype, special dtypes):\n",
      "\t\t('float', []) : 757 | ['bid_qty', 'ask_qty', 'buy_qty', 'sell_qty', 'volume', ...]\n",
      "\tTypes of features in processed data (raw dtype, special dtypes):\n",
      "\t\t('float', []) : 757 | ['bid_qty', 'ask_qty', 'buy_qty', 'sell_qty', 'volume', ...]\n",
      "\t56.1s = Fit runtime\n",
      "\t757 features in original data used to generate 757 features in processed data.\n",
      "\tTrain Data (Processed) Memory Usage: 1518.61 MB (8.9% of available memory)\n",
      "Data preprocessing and feature engineering runtime = 64.93s ...\n",
      "AutoGluon will gauge predictive performance using evaluation metric: 'pearsonr'\n",
      "\tTo change this, specify the eval_metric parameter of Predictor()\n",
      "Large model count detected (112 configs) ... Only displaying the first 3 models of each family. To see all, set `verbosity=3`.\n",
      "User-specified model hyperparameters to be fit:\n",
      "{\n",
      "\t'NN_TORCH': [{}, {'activation': 'elu', 'dropout_prob': 0.10077639529843717, 'hidden_size': 108, 'learning_rate': 0.002735937344002146, 'num_layers': 4, 'use_batchnorm': True, 'weight_decay': 1.356433327634438e-12, 'ag_args': {'name_suffix': '_r79', 'priority': -2}}, {'activation': 'elu', 'dropout_prob': 0.11897478034205347, 'hidden_size': 213, 'learning_rate': 0.0010474382260641949, 'num_layers': 4, 'use_batchnorm': False, 'weight_decay': 5.594471067786272e-10, 'ag_args': {'name_suffix': '_r22', 'priority': -7}}],\n",
      "\t'GBM': [{'extra_trees': True, 'ag_args': {'name_suffix': 'XT'}}, {}, {'learning_rate': 0.03, 'num_leaves': 128, 'feature_fraction': 0.9, 'min_data_in_leaf': 3, 'ag_args': {'name_suffix': 'Large', 'priority': 0, 'hyperparameter_tune_kwargs': None}}],\n",
      "\t'CAT': [{}, {'depth': 6, 'grow_policy': 'SymmetricTree', 'l2_leaf_reg': 2.1542798306067823, 'learning_rate': 0.06864209415792857, 'max_ctr_complexity': 4, 'one_hot_max_size': 10, 'ag_args': {'name_suffix': '_r177', 'priority': -1}}, {'depth': 8, 'grow_policy': 'Depthwise', 'l2_leaf_reg': 2.7997999596449104, 'learning_rate': 0.031375015734637225, 'max_ctr_complexity': 2, 'one_hot_max_size': 3, 'ag_args': {'name_suffix': '_r9', 'priority': -5}}],\n",
      "\t'XGB': [{}, {'colsample_bytree': 0.6917311125174739, 'enable_categorical': False, 'learning_rate': 0.018063876087523967, 'max_depth': 10, 'min_child_weight': 0.6028633586934382, 'ag_args': {'name_suffix': '_r33', 'priority': -8}}, {'colsample_bytree': 0.6628423832084077, 'enable_categorical': False, 'learning_rate': 0.08775715546881824, 'max_depth': 5, 'min_child_weight': 0.6294123374222513, 'ag_args': {'name_suffix': '_r89', 'priority': -16}}],\n",
      "\t'FASTAI': [{}, {'bs': 256, 'emb_drop': 0.5411770367537934, 'epochs': 43, 'layers': [800, 400], 'lr': 0.01519848858318159, 'ps': 0.23782946566604385, 'ag_args': {'name_suffix': '_r191', 'priority': -4}}, {'bs': 2048, 'emb_drop': 0.05070411322605811, 'epochs': 29, 'layers': [200, 100], 'lr': 0.08974235041576624, 'ps': 0.10393466140748028, 'ag_args': {'name_suffix': '_r102', 'priority': -11}}],\n",
      "\t'RF': [{'criterion': 'gini', 'ag_args': {'name_suffix': 'Gini', 'problem_types': ['binary', 'multiclass']}}, {'criterion': 'entropy', 'ag_args': {'name_suffix': 'Entr', 'problem_types': ['binary', 'multiclass']}}, {'criterion': 'squared_error', 'ag_args': {'name_suffix': 'MSE', 'problem_types': ['regression', 'quantile']}}],\n",
      "\t'XT': [{'criterion': 'gini', 'ag_args': {'name_suffix': 'Gini', 'problem_types': ['binary', 'multiclass']}}, {'criterion': 'entropy', 'ag_args': {'name_suffix': 'Entr', 'problem_types': ['binary', 'multiclass']}}, {'criterion': 'squared_error', 'ag_args': {'name_suffix': 'MSE', 'problem_types': ['regression', 'quantile']}}],\n",
      "\t'KNN': [{'weights': 'uniform', 'ag_args': {'name_suffix': 'Unif'}}, {'weights': 'distance', 'ag_args': {'name_suffix': 'Dist'}}],\n",
      "}\n",
      "Excluded models: ['KNN', 'RF'] (Specified by `excluded_model_types`)\n",
      "Fitting 98 L1 models, fit_strategy=\"sequential\" ...\n",
      "Fitting model: LightGBMXT_BAG_L1 ... Training model for up to 29536.73s of the 29536.71s of remaining time.\n",
      "\tMemory not enough to fit 5 folds in parallel. Will train 1 folds in parallel instead (Estimated 63.47% memory usage per fold, 63.47%/80.00% total).\n",
      "\tFitting 5 child models (S1F1 - S1F5) | Fitting with ParallelLocalFoldFittingStrategy (1 workers, per: cpus=2, gpus=0, memory=63.47%)\n",
      "\t\tSwitching to pseudo sequential ParallelFoldFittingStrategy to avoid Python memory leakage.\n",
      "\t\tOverrule this behavior by setting fold_fitting_strategy to 'sequential_local' in ag_args_ensemble when when calling `predictor.fit`\n",
      "\t0.0889\t = Validation score   (pearsonr)\n",
      "\t693.34s\t = Training   runtime\n",
      "\t2.62s\t = Validation runtime\n",
      "Fitting model: LightGBM_BAG_L1 ... Training model for up to 28794.77s of the 28794.75s of remaining time.\n",
      "\tMemory not enough to fit 5 folds in parallel. Will train 1 folds in parallel instead (Estimated 64.02% memory usage per fold, 64.02%/80.00% total).\n",
      "\tFitting 5 child models (S1F1 - S1F5) | Fitting with ParallelLocalFoldFittingStrategy (1 workers, per: cpus=2, gpus=0, memory=64.02%)\n",
      "\t\tSwitching to pseudo sequential ParallelFoldFittingStrategy to avoid Python memory leakage.\n",
      "\t\tOverrule this behavior by setting fold_fitting_strategy to 'sequential_local' in ag_args_ensemble when when calling `predictor.fit`\n",
      "\t0.0685\t = Validation score   (pearsonr)\n",
      "\t768.7s\t = Training   runtime\n",
      "\t2.89s\t = Validation runtime\n",
      "Fitting model: CatBoost_BAG_L1 ... Training model for up to 27984.91s of the 27984.90s of remaining time.\n",
      "\tMemory not enough to fit 5 folds in parallel. Will train 1 folds in parallel instead (Estimated 70.30% memory usage per fold, 70.30%/80.00% total).\n",
      "\tFitting 5 child models (S1F1 - S1F5) | Fitting with ParallelLocalFoldFittingStrategy (1 workers, per: cpus=2, gpus=0, memory=70.30%)\n",
      "\t\tSwitching to pseudo sequential ParallelFoldFittingStrategy to avoid Python memory leakage.\n",
      "\t\tOverrule this behavior by setting fold_fitting_strategy to 'sequential_local' in ag_args_ensemble when when calling `predictor.fit`\n",
      "\t0.0852\t = Validation score   (pearsonr)\n",
      "\t502.55s\t = Training   runtime\n",
      "\t0.36s\t = Validation runtime\n",
      "Fitting model: ExtraTreesMSE_BAG_L1 ... Training model for up to 27440.48s of the 27440.46s of remaining time.\n",
      "\tForcing `use_child_oof=False` because `groups` is specified\n",
      "\tFitting 5 child models (S1F1 - S1F5) | Fitting with ParallelLocalFoldFittingStrategy (4 workers, per: cpus=1, gpus=0, memory=12.38%)\n",
      "\t0.063\t = Validation score   (pearsonr)\n",
      "\t19128.89s\t = Training   runtime\n",
      "\t19.86s\t = Validation runtime\n",
      "Fitting model: NeuralNetFastAI_BAG_L1 ... Training model for up to 8260.35s of the 8260.34s of remaining time.\n",
      "\tWarning: Not enough memory to safely train model. Estimated to require 17.518 GB out of 15.684 GB available memory (111.693%)... (90.000% of avail memory is the max safe size)\n",
      "\tTo force training the model, specify the model hyperparameter \"ag.max_memory_usage_ratio\" to a larger value (currently 1.0, set to >=1.29 to avoid the error)\n",
      "\t\tTo set the same value for all models, do the following when calling predictor.fit: `predictor.fit(..., ag_args_fit={\"ag.max_memory_usage_ratio\": VALUE})`\n",
      "\t\tSetting \"ag.max_memory_usage_ratio\" to values above 1 may result in out-of-memory errors. You may consider using a machine with more memory as a safer alternative.\n",
      "\tNot enough memory to train NeuralNetFastAI_BAG_L1... Skipping this model.\n",
      "Fitting model: XGBoost_BAG_L1 ... Training model for up to 8218.31s of the 8218.30s of remaining time.\n",
      "\tWarning: Potentially not enough memory to safely train model. Estimated to require 13.440 GB out of 15.660 GB available memory (85.825%)... (100.000% of avail memory is the max safe size)\n",
      "\tTo avoid this warning, specify the model hyperparameter \"ag.max_memory_usage_ratio\" to a larger value (currently 1.0, set to >=1.19 to avoid the warning)\n",
      "\t\tTo set the same value for all models, do the following when calling predictor.fit: `predictor.fit(..., ag_args_fit={\"ag.max_memory_usage_ratio\": VALUE})`\n",
      "\t\tSetting \"ag.max_memory_usage_ratio\" to values above 1 may result in out-of-memory errors. You may consider using a machine with more memory as a safer alternative.\n",
      "\tMemory not enough to fit 5 folds in parallel. Will train 1 folds in parallel instead (Estimated 85.82% memory usage per fold, 85.82%/80.00% total).\n",
      "\tFitting 5 child models (S1F1 - S1F5) | Fitting with ParallelLocalFoldFittingStrategy (1 workers, per: cpus=2, gpus=0, memory=85.82%)\n",
      "\t\tSwitching to pseudo sequential ParallelFoldFittingStrategy to avoid Python memory leakage.\n",
      "\t\tOverrule this behavior by setting fold_fitting_strategy to 'sequential_local' in ag_args_ensemble when when calling `predictor.fit`\n",
      "\t0.1035\t = Validation score   (pearsonr)\n",
      "\t1286.31s\t = Training   runtime\n",
      "\t32.56s\t = Validation runtime\n",
      "Fitting model: NeuralNetTorch_BAG_L1 ... Training model for up to 6884.24s of the 6884.22s of remaining time.\n",
      "\tMemory not enough to fit 5 folds in parallel. Will train 1 folds in parallel instead (Estimated 61.04% memory usage per fold, 61.04%/80.00% total).\n",
      "\tFitting 5 child models (S1F1 - S1F5) | Fitting with ParallelLocalFoldFittingStrategy (1 workers, per: cpus=2, gpus=0, memory=61.04%)\n",
      "\t\tSwitching to pseudo sequential ParallelFoldFittingStrategy to avoid Python memory leakage.\n",
      "\t\tOverrule this behavior by setting fold_fitting_strategy to 'sequential_local' in ag_args_ensemble when when calling `predictor.fit`\n",
      "\t0.0877\t = Validation score   (pearsonr)\n",
      "\t4448.59s\t = Training   runtime\n",
      "\t37.13s\t = Validation runtime\n",
      "Fitting model: LightGBMLarge_BAG_L1 ... Training model for up to 2387.94s of the 2387.93s of remaining time.\n",
      "\tMemory not enough to fit 5 folds in parallel. Will train 1 folds in parallel instead (Estimated 67.57% memory usage per fold, 67.57%/80.00% total).\n",
      "\tFitting 5 child models (S1F1 - S1F5) | Fitting with ParallelLocalFoldFittingStrategy (1 workers, per: cpus=2, gpus=0, memory=67.57%)\n",
      "\t\tSwitching to pseudo sequential ParallelFoldFittingStrategy to avoid Python memory leakage.\n",
      "\t\tOverrule this behavior by setting fold_fitting_strategy to 'sequential_local' in ag_args_ensemble when when calling `predictor.fit`\n",
      "\t0.0866\t = Validation score   (pearsonr)\n",
      "\t1370.82s\t = Training   runtime\n",
      "\t4.66s\t = Validation runtime\n",
      "Fitting model: CatBoost_r177_BAG_L1 ... Training model for up to 972.81s of the 972.79s of remaining time.\n",
      "\tMemory not enough to fit 5 folds in parallel. Will train 1 folds in parallel instead (Estimated 70.73% memory usage per fold, 70.73%/80.00% total).\n",
      "\tFitting 5 child models (S1F1 - S1F5) | Fitting with ParallelLocalFoldFittingStrategy (1 workers, per: cpus=2, gpus=0, memory=70.73%)\n",
      "\t\tSwitching to pseudo sequential ParallelFoldFittingStrategy to avoid Python memory leakage.\n",
      "\t\tOverrule this behavior by setting fold_fitting_strategy to 'sequential_local' in ag_args_ensemble when when calling `predictor.fit`\n",
      "\t0.0583\t = Validation score   (pearsonr)\n",
      "\t366.24s\t = Training   runtime\n",
      "\t0.21s\t = Validation runtime\n",
      "Fitting model: NeuralNetTorch_r79_BAG_L1 ... Training model for up to 563.46s of the 563.44s of remaining time.\n",
      "\tMemory not enough to fit 5 folds in parallel. Will train 1 folds in parallel instead (Estimated 61.26% memory usage per fold, 61.26%/80.00% total).\n",
      "\tFitting 5 child models (S1F1 - S1F5) | Fitting with ParallelLocalFoldFittingStrategy (1 workers, per: cpus=2, gpus=0, memory=61.26%)\n",
      "\t\tSwitching to pseudo sequential ParallelFoldFittingStrategy to avoid Python memory leakage.\n",
      "\t\tOverrule this behavior by setting fold_fitting_strategy to 'sequential_local' in ag_args_ensemble when when calling `predictor.fit`\n",
      "\tTime limit exceeded... Skipping NeuralNetTorch_r79_BAG_L1.\n",
      "Fitting model: LightGBM_r131_BAG_L1 ... Training model for up to 352.51s of the 352.49s of remaining time.\n",
      "\tMemory not enough to fit 5 folds in parallel. Will train 1 folds in parallel instead (Estimated 65.49% memory usage per fold, 65.49%/80.00% total).\n",
      "\tFitting 5 child models (S1F1 - S1F5) | Fitting with ParallelLocalFoldFittingStrategy (1 workers, per: cpus=2, gpus=0, memory=65.49%)\n",
      "\t\tSwitching to pseudo sequential ParallelFoldFittingStrategy to avoid Python memory leakage.\n",
      "\t\tOverrule this behavior by setting fold_fitting_strategy to 'sequential_local' in ag_args_ensemble when when calling `predictor.fit`\n",
      "\t-0.0291\t = Validation score   (pearsonr)\n",
      "\t470.93s\t = Training   runtime\n",
      "\t3.63s\t = Validation runtime\n",
      "Insufficient time to train even a single feature pruning model (remaining: 0, needed: 693.3395037651062). Skipping feature pruning.\n",
      "Fitting model: WeightedEnsemble_L2 ... Training model for up to 2953.67s of the -167.41s of remaining time.\n",
      "\tEnsemble Weights: {'CatBoost_BAG_L1': 0.391, 'LightGBMXT_BAG_L1': 0.304, 'XGBoost_BAG_L1': 0.174, 'NeuralNetTorch_BAG_L1': 0.087, 'CatBoost_r177_BAG_L1': 0.043}\n",
      "\t0.1358\t = Validation score   (pearsonr)\n",
      "\t4.24s\t = Training   runtime\n",
      "\t0.02s\t = Validation runtime\n",
      "AutoGluon training complete, total runtime = 29776.63s ... Best model: WeightedEnsemble_L2 | Estimated inference throughput: 1442.9 rows/s (105178 batch size)\n",
      "TabularPredictor saved. To load, use: predictor = TabularPredictor.load(\"/logs\")\n"
     ]
    },
    {
     "data": {
      "text/plain": [
       "<autogluon.tabular.predictor.predictor.TabularPredictor at 0x7b183371d750>"
      ]
     },
     "execution_count": 10,
     "metadata": {},
     "output_type": "execute_result"
    }
   ],
   "source": [
    "predictor.fit(\n",
    "    train_data=train,\n",
    "    time_limit=CFG.time_limit,\n",
    "    presets=\"best_quality\",\n",
    "    excluded_model_types=[\"KNN\", \"RF\"],\n",
    "    feature_prune_kwargs={'force_prune': True}\n",
    ")"
   ]
  },
  {
   "cell_type": "code",
   "execution_count": 11,
   "id": "02460fcb",
   "metadata": {
    "execution": {
     "iopub.execute_input": "2025-07-14T07:08:00.682836Z",
     "iopub.status.busy": "2025-07-14T07:08:00.680726Z",
     "iopub.status.idle": "2025-07-14T07:08:00.861969Z",
     "shell.execute_reply": "2025-07-14T07:08:00.860791Z"
    },
    "papermill": {
     "duration": 0.208316,
     "end_time": "2025-07-14T07:08:00.866688",
     "exception": false,
     "start_time": "2025-07-14T07:08:00.658372",
     "status": "completed"
    },
    "tags": []
   },
   "outputs": [
    {
     "data": {
      "text/html": [
       "<style type=\"text/css\">\n",
       "#T_44305_row0_col1 {\n",
       "  background-color: #006837;\n",
       "  color: #f1f1f1;\n",
       "}\n",
       "#T_44305_row1_col1 {\n",
       "  background-color: #63bc62;\n",
       "  color: #f1f1f1;\n",
       "}\n",
       "#T_44305_row2_col1 {\n",
       "  background-color: #9bd469;\n",
       "  color: #000000;\n",
       "}\n",
       "#T_44305_row3_col1 {\n",
       "  background-color: #a0d669;\n",
       "  color: #000000;\n",
       "}\n",
       "#T_44305_row4_col1 {\n",
       "  background-color: #a5d86a;\n",
       "  color: #000000;\n",
       "}\n",
       "#T_44305_row5_col1 {\n",
       "  background-color: #a9da6c;\n",
       "  color: #000000;\n",
       "}\n",
       "#T_44305_row6_col1 {\n",
       "  background-color: #dcf08f;\n",
       "  color: #000000;\n",
       "}\n",
       "#T_44305_row7_col1 {\n",
       "  background-color: #e9f6a1;\n",
       "  color: #000000;\n",
       "}\n",
       "#T_44305_row8_col1 {\n",
       "  background-color: #f4fab0;\n",
       "  color: #000000;\n",
       "}\n",
       "#T_44305_row9_col1 {\n",
       "  background-color: #a50026;\n",
       "  color: #f1f1f1;\n",
       "}\n",
       "</style>\n",
       "<table id=\"T_44305\">\n",
       "  <thead>\n",
       "    <tr>\n",
       "      <th class=\"blank level0\" >&nbsp;</th>\n",
       "      <th id=\"T_44305_level0_col0\" class=\"col_heading level0 col0\" >model</th>\n",
       "      <th id=\"T_44305_level0_col1\" class=\"col_heading level0 col1\" >score_val</th>\n",
       "      <th id=\"T_44305_level0_col2\" class=\"col_heading level0 col2\" >eval_metric</th>\n",
       "      <th id=\"T_44305_level0_col3\" class=\"col_heading level0 col3\" >pred_time_val</th>\n",
       "      <th id=\"T_44305_level0_col4\" class=\"col_heading level0 col4\" >fit_time</th>\n",
       "      <th id=\"T_44305_level0_col5\" class=\"col_heading level0 col5\" >pred_time_val_marginal</th>\n",
       "      <th id=\"T_44305_level0_col6\" class=\"col_heading level0 col6\" >fit_time_marginal</th>\n",
       "      <th id=\"T_44305_level0_col7\" class=\"col_heading level0 col7\" >stack_level</th>\n",
       "      <th id=\"T_44305_level0_col8\" class=\"col_heading level0 col8\" >can_infer</th>\n",
       "      <th id=\"T_44305_level0_col9\" class=\"col_heading level0 col9\" >fit_order</th>\n",
       "    </tr>\n",
       "  </thead>\n",
       "  <tbody>\n",
       "    <tr>\n",
       "      <th id=\"T_44305_level0_row0\" class=\"row_heading level0 row0\" >0</th>\n",
       "      <td id=\"T_44305_row0_col0\" class=\"data row0 col0\" >WeightedEnsemble_L2</td>\n",
       "      <td id=\"T_44305_row0_col1\" class=\"data row0 col1\" >0.135818</td>\n",
       "      <td id=\"T_44305_row0_col2\" class=\"data row0 col2\" >pearsonr</td>\n",
       "      <td id=\"T_44305_row0_col3\" class=\"data row0 col3\" >72.909000</td>\n",
       "      <td id=\"T_44305_row0_col4\" class=\"data row0 col4\" >7301.270567</td>\n",
       "      <td id=\"T_44305_row0_col5\" class=\"data row0 col5\" >0.020853</td>\n",
       "      <td id=\"T_44305_row0_col6\" class=\"data row0 col6\" >4.241747</td>\n",
       "      <td id=\"T_44305_row0_col7\" class=\"data row0 col7\" >2</td>\n",
       "      <td id=\"T_44305_row0_col8\" class=\"data row0 col8\" >True</td>\n",
       "      <td id=\"T_44305_row0_col9\" class=\"data row0 col9\" >10</td>\n",
       "    </tr>\n",
       "    <tr>\n",
       "      <th id=\"T_44305_level0_row1\" class=\"row_heading level0 row1\" >1</th>\n",
       "      <td id=\"T_44305_row1_col0\" class=\"data row1 col0\" >XGBoost_BAG_L1</td>\n",
       "      <td id=\"T_44305_row1_col1\" class=\"data row1 col1\" >0.103543</td>\n",
       "      <td id=\"T_44305_row1_col2\" class=\"data row1 col2\" >pearsonr</td>\n",
       "      <td id=\"T_44305_row1_col3\" class=\"data row1 col3\" >32.563472</td>\n",
       "      <td id=\"T_44305_row1_col4\" class=\"data row1 col4\" >1286.305964</td>\n",
       "      <td id=\"T_44305_row1_col5\" class=\"data row1 col5\" >32.563472</td>\n",
       "      <td id=\"T_44305_row1_col6\" class=\"data row1 col6\" >1286.305964</td>\n",
       "      <td id=\"T_44305_row1_col7\" class=\"data row1 col7\" >1</td>\n",
       "      <td id=\"T_44305_row1_col8\" class=\"data row1 col8\" >True</td>\n",
       "      <td id=\"T_44305_row1_col9\" class=\"data row1 col9\" >5</td>\n",
       "    </tr>\n",
       "    <tr>\n",
       "      <th id=\"T_44305_level0_row2\" class=\"row_heading level0 row2\" >2</th>\n",
       "      <td id=\"T_44305_row2_col0\" class=\"data row2 col0\" >LightGBMXT_BAG_L1</td>\n",
       "      <td id=\"T_44305_row2_col1\" class=\"data row2 col1\" >0.088918</td>\n",
       "      <td id=\"T_44305_row2_col2\" class=\"data row2 col2\" >pearsonr</td>\n",
       "      <td id=\"T_44305_row2_col3\" class=\"data row2 col3\" >2.616881</td>\n",
       "      <td id=\"T_44305_row2_col4\" class=\"data row2 col4\" >693.339504</td>\n",
       "      <td id=\"T_44305_row2_col5\" class=\"data row2 col5\" >2.616881</td>\n",
       "      <td id=\"T_44305_row2_col6\" class=\"data row2 col6\" >693.339504</td>\n",
       "      <td id=\"T_44305_row2_col7\" class=\"data row2 col7\" >1</td>\n",
       "      <td id=\"T_44305_row2_col8\" class=\"data row2 col8\" >True</td>\n",
       "      <td id=\"T_44305_row2_col9\" class=\"data row2 col9\" >1</td>\n",
       "    </tr>\n",
       "    <tr>\n",
       "      <th id=\"T_44305_level0_row3\" class=\"row_heading level0 row3\" >3</th>\n",
       "      <td id=\"T_44305_row3_col0\" class=\"data row3 col0\" >NeuralNetTorch_BAG_L1</td>\n",
       "      <td id=\"T_44305_row3_col1\" class=\"data row3 col1\" >0.087691</td>\n",
       "      <td id=\"T_44305_row3_col2\" class=\"data row3 col2\" >pearsonr</td>\n",
       "      <td id=\"T_44305_row3_col3\" class=\"data row3 col3\" >37.134863</td>\n",
       "      <td id=\"T_44305_row3_col4\" class=\"data row3 col4\" >4448.591662</td>\n",
       "      <td id=\"T_44305_row3_col5\" class=\"data row3 col5\" >37.134863</td>\n",
       "      <td id=\"T_44305_row3_col6\" class=\"data row3 col6\" >4448.591662</td>\n",
       "      <td id=\"T_44305_row3_col7\" class=\"data row3 col7\" >1</td>\n",
       "      <td id=\"T_44305_row3_col8\" class=\"data row3 col8\" >True</td>\n",
       "      <td id=\"T_44305_row3_col9\" class=\"data row3 col9\" >6</td>\n",
       "    </tr>\n",
       "    <tr>\n",
       "      <th id=\"T_44305_level0_row4\" class=\"row_heading level0 row4\" >4</th>\n",
       "      <td id=\"T_44305_row4_col0\" class=\"data row4 col0\" >LightGBMLarge_BAG_L1</td>\n",
       "      <td id=\"T_44305_row4_col1\" class=\"data row4 col1\" >0.086576</td>\n",
       "      <td id=\"T_44305_row4_col2\" class=\"data row4 col2\" >pearsonr</td>\n",
       "      <td id=\"T_44305_row4_col3\" class=\"data row4 col3\" >4.659554</td>\n",
       "      <td id=\"T_44305_row4_col4\" class=\"data row4 col4\" >1370.824654</td>\n",
       "      <td id=\"T_44305_row4_col5\" class=\"data row4 col5\" >4.659554</td>\n",
       "      <td id=\"T_44305_row4_col6\" class=\"data row4 col6\" >1370.824654</td>\n",
       "      <td id=\"T_44305_row4_col7\" class=\"data row4 col7\" >1</td>\n",
       "      <td id=\"T_44305_row4_col8\" class=\"data row4 col8\" >True</td>\n",
       "      <td id=\"T_44305_row4_col9\" class=\"data row4 col9\" >7</td>\n",
       "    </tr>\n",
       "    <tr>\n",
       "      <th id=\"T_44305_level0_row5\" class=\"row_heading level0 row5\" >5</th>\n",
       "      <td id=\"T_44305_row5_col0\" class=\"data row5 col0\" >CatBoost_BAG_L1</td>\n",
       "      <td id=\"T_44305_row5_col1\" class=\"data row5 col1\" >0.085212</td>\n",
       "      <td id=\"T_44305_row5_col2\" class=\"data row5 col2\" >pearsonr</td>\n",
       "      <td id=\"T_44305_row5_col3\" class=\"data row5 col3\" >0.362786</td>\n",
       "      <td id=\"T_44305_row5_col4\" class=\"data row5 col4\" >502.549127</td>\n",
       "      <td id=\"T_44305_row5_col5\" class=\"data row5 col5\" >0.362786</td>\n",
       "      <td id=\"T_44305_row5_col6\" class=\"data row5 col6\" >502.549127</td>\n",
       "      <td id=\"T_44305_row5_col7\" class=\"data row5 col7\" >1</td>\n",
       "      <td id=\"T_44305_row5_col8\" class=\"data row5 col8\" >True</td>\n",
       "      <td id=\"T_44305_row5_col9\" class=\"data row5 col9\" >3</td>\n",
       "    </tr>\n",
       "    <tr>\n",
       "      <th id=\"T_44305_level0_row6\" class=\"row_heading level0 row6\" >6</th>\n",
       "      <td id=\"T_44305_row6_col0\" class=\"data row6 col0\" >LightGBM_BAG_L1</td>\n",
       "      <td id=\"T_44305_row6_col1\" class=\"data row6 col1\" >0.068538</td>\n",
       "      <td id=\"T_44305_row6_col2\" class=\"data row6 col2\" >pearsonr</td>\n",
       "      <td id=\"T_44305_row6_col3\" class=\"data row6 col3\" >2.893613</td>\n",
       "      <td id=\"T_44305_row6_col4\" class=\"data row6 col4\" >768.696085</td>\n",
       "      <td id=\"T_44305_row6_col5\" class=\"data row6 col5\" >2.893613</td>\n",
       "      <td id=\"T_44305_row6_col6\" class=\"data row6 col6\" >768.696085</td>\n",
       "      <td id=\"T_44305_row6_col7\" class=\"data row6 col7\" >1</td>\n",
       "      <td id=\"T_44305_row6_col8\" class=\"data row6 col8\" >True</td>\n",
       "      <td id=\"T_44305_row6_col9\" class=\"data row6 col9\" >2</td>\n",
       "    </tr>\n",
       "    <tr>\n",
       "      <th id=\"T_44305_level0_row7\" class=\"row_heading level0 row7\" >7</th>\n",
       "      <td id=\"T_44305_row7_col0\" class=\"data row7 col0\" >ExtraTreesMSE_BAG_L1</td>\n",
       "      <td id=\"T_44305_row7_col1\" class=\"data row7 col1\" >0.062995</td>\n",
       "      <td id=\"T_44305_row7_col2\" class=\"data row7 col2\" >pearsonr</td>\n",
       "      <td id=\"T_44305_row7_col3\" class=\"data row7 col3\" >19.861407</td>\n",
       "      <td id=\"T_44305_row7_col4\" class=\"data row7 col4\" >19128.889669</td>\n",
       "      <td id=\"T_44305_row7_col5\" class=\"data row7 col5\" >19.861407</td>\n",
       "      <td id=\"T_44305_row7_col6\" class=\"data row7 col6\" >19128.889669</td>\n",
       "      <td id=\"T_44305_row7_col7\" class=\"data row7 col7\" >1</td>\n",
       "      <td id=\"T_44305_row7_col8\" class=\"data row7 col8\" >True</td>\n",
       "      <td id=\"T_44305_row7_col9\" class=\"data row7 col9\" >4</td>\n",
       "    </tr>\n",
       "    <tr>\n",
       "      <th id=\"T_44305_level0_row8\" class=\"row_heading level0 row8\" >8</th>\n",
       "      <td id=\"T_44305_row8_col0\" class=\"data row8 col0\" >CatBoost_r177_BAG_L1</td>\n",
       "      <td id=\"T_44305_row8_col1\" class=\"data row8 col1\" >0.058273</td>\n",
       "      <td id=\"T_44305_row8_col2\" class=\"data row8 col2\" >pearsonr</td>\n",
       "      <td id=\"T_44305_row8_col3\" class=\"data row8 col3\" >0.210145</td>\n",
       "      <td id=\"T_44305_row8_col4\" class=\"data row8 col4\" >366.242563</td>\n",
       "      <td id=\"T_44305_row8_col5\" class=\"data row8 col5\" >0.210145</td>\n",
       "      <td id=\"T_44305_row8_col6\" class=\"data row8 col6\" >366.242563</td>\n",
       "      <td id=\"T_44305_row8_col7\" class=\"data row8 col7\" >1</td>\n",
       "      <td id=\"T_44305_row8_col8\" class=\"data row8 col8\" >True</td>\n",
       "      <td id=\"T_44305_row8_col9\" class=\"data row8 col9\" >8</td>\n",
       "    </tr>\n",
       "    <tr>\n",
       "      <th id=\"T_44305_level0_row9\" class=\"row_heading level0 row9\" >9</th>\n",
       "      <td id=\"T_44305_row9_col0\" class=\"data row9 col0\" >LightGBM_r131_BAG_L1</td>\n",
       "      <td id=\"T_44305_row9_col1\" class=\"data row9 col1\" >-0.029148</td>\n",
       "      <td id=\"T_44305_row9_col2\" class=\"data row9 col2\" >pearsonr</td>\n",
       "      <td id=\"T_44305_row9_col3\" class=\"data row9 col3\" >3.634547</td>\n",
       "      <td id=\"T_44305_row9_col4\" class=\"data row9 col4\" >470.927657</td>\n",
       "      <td id=\"T_44305_row9_col5\" class=\"data row9 col5\" >3.634547</td>\n",
       "      <td id=\"T_44305_row9_col6\" class=\"data row9 col6\" >470.927657</td>\n",
       "      <td id=\"T_44305_row9_col7\" class=\"data row9 col7\" >1</td>\n",
       "      <td id=\"T_44305_row9_col8\" class=\"data row9 col8\" >True</td>\n",
       "      <td id=\"T_44305_row9_col9\" class=\"data row9 col9\" >9</td>\n",
       "    </tr>\n",
       "  </tbody>\n",
       "</table>\n"
      ],
      "text/plain": [
       "<pandas.io.formats.style.Styler at 0x7b174d13b410>"
      ]
     },
     "execution_count": 11,
     "metadata": {},
     "output_type": "execute_result"
    }
   ],
   "source": [
    "predictor.leaderboard(silent=True).style.background_gradient(subset=[\"score_val\"], cmap=\"RdYlGn\")"
   ]
  },
  {
   "cell_type": "markdown",
   "id": "6dfe644b",
   "metadata": {
    "papermill": {
     "duration": 0.021534,
     "end_time": "2025-07-14T07:08:00.916380",
     "exception": false,
     "start_time": "2025-07-14T07:08:00.894846",
     "status": "completed"
    },
    "tags": []
   },
   "source": [
    "# Visualizing the ensemble weights"
   ]
  },
  {
   "cell_type": "code",
   "execution_count": 12,
   "id": "259a960b",
   "metadata": {
    "execution": {
     "iopub.execute_input": "2025-07-14T07:08:00.961681Z",
     "iopub.status.busy": "2025-07-14T07:08:00.960772Z",
     "iopub.status.idle": "2025-07-14T07:08:00.968863Z",
     "shell.execute_reply": "2025-07-14T07:08:00.967675Z"
    },
    "papermill": {
     "duration": 0.033794,
     "end_time": "2025-07-14T07:08:00.970656",
     "exception": false,
     "start_time": "2025-07-14T07:08:00.936862",
     "status": "completed"
    },
    "tags": []
   },
   "outputs": [],
   "source": [
    "def get_ensemble_weights(predictor):\n",
    "    info = predictor.info()\n",
    "    ensemble_weights = {}\n",
    "    for model_name, values in info[\"model_info\"].items():\n",
    "        if \"Ensemble\" in model_name:\n",
    "            children_info = values[\"children_info\"]\n",
    "            ensemble_weights[model_name] = values[\"children_info\"][list(children_info.keys())[0]][\"model_weights\"]\n",
    "    return ensemble_weights"
   ]
  },
  {
   "cell_type": "code",
   "execution_count": 13,
   "id": "758057c4",
   "metadata": {
    "execution": {
     "iopub.execute_input": "2025-07-14T07:08:01.018102Z",
     "iopub.status.busy": "2025-07-14T07:08:01.017006Z",
     "iopub.status.idle": "2025-07-14T07:08:32.311125Z",
     "shell.execute_reply": "2025-07-14T07:08:32.309990Z"
    },
    "papermill": {
     "duration": 31.340463,
     "end_time": "2025-07-14T07:08:32.333811",
     "exception": false,
     "start_time": "2025-07-14T07:08:00.993348",
     "status": "completed"
    },
    "tags": []
   },
   "outputs": [
    {
     "data": {
      "image/png": "[encoded data removed]",
      "text/plain": [
       "<Figure size 600x600 with 1 Axes>"
      ]
     },
     "metadata": {},
     "output_type": "display_data"
    }
   ],
   "source": [
    "ensemble_weights = get_ensemble_weights(predictor)\n",
    "\n",
    "for key, value in ensemble_weights.items():\n",
    "    plt.figure(figsize=(6, 6))\n",
    "    plt.pie(value.values(), labels=value.keys(), autopct=\"%1.1f%%\", colors=sns.color_palette(\"Set2\", len(value)))\n",
    "    plt.title(key)\n",
    "    plt.tight_layout()\n",
    "    plt.show()"
   ]
  },
  {
   "cell_type": "markdown",
   "id": "3b987dd3",
   "metadata": {
    "papermill": {
     "duration": 0.020132,
     "end_time": "2025-07-14T07:08:32.373871",
     "exception": false,
     "start_time": "2025-07-14T07:08:32.353739",
     "status": "completed"
    },
    "tags": []
   },
   "source": [
    "# Collecting and saving OOF files"
   ]
  },
  {
   "cell_type": "code",
   "execution_count": 14,
   "id": "6710571b",
   "metadata": {
    "execution": {
     "iopub.execute_input": "2025-07-14T07:08:32.432304Z",
     "iopub.status.busy": "2025-07-14T07:08:32.430696Z",
     "iopub.status.idle": "2025-07-14T07:08:51.517324Z",
     "shell.execute_reply": "2025-07-14T07:08:51.515318Z"
    },
    "papermill": {
     "duration": 19.12088,
     "end_time": "2025-07-14T07:08:51.519970",
     "exception": false,
     "start_time": "2025-07-14T07:08:32.399090",
     "status": "completed"
    },
    "tags": []
   },
   "outputs": [
    {
     "data": {
      "text/plain": [
       "['features.pkl']"
      ]
     },
     "execution_count": 14,
     "metadata": {},
     "output_type": "execute_result"
    }
   ],
   "source": [
    "joblib.dump(predictor.info()[\"features\"], \"features.pkl\")"
   ]
  },
  {
   "cell_type": "code",
   "execution_count": 15,
   "id": "084c2198",
   "metadata": {
    "execution": {
     "iopub.execute_input": "2025-07-14T07:08:51.565551Z",
     "iopub.status.busy": "2025-07-14T07:08:51.565129Z",
     "iopub.status.idle": "2025-07-14T07:08:51.574163Z",
     "shell.execute_reply": "2025-07-14T07:08:51.572809Z"
    },
    "papermill": {
     "duration": 0.033975,
     "end_time": "2025-07-14T07:08:51.576473",
     "exception": false,
     "start_time": "2025-07-14T07:08:51.542498",
     "status": "completed"
    },
    "tags": []
   },
   "outputs": [],
   "source": [
    "def save_preds(preds, cv_score, name, type, is_ensemble):\n",
    "    base_path = \"oof_preds\" if type == \"oof\" else \"test_preds\"\n",
    "    base_path = \".\" if is_ensemble else base_path\n",
    "    joblib.dump(preds, f\"{base_path}/{name}_{type}_preds_{cv_score:.6f}.pkl\")\n",
    "\n",
    "def save_submission(test_preds, score):\n",
    "    sub = pd.read_csv(CFG.sample_sub_path)\n",
    "    sub[\"prediction\"] = test_preds\n",
    "    sub.to_csv(f\"sub_autogluon_{score:.6f}.csv\", index=False)\n",
    "    \n",
    "os.makedirs(\"oof_preds\", exist_ok=True)\n",
    "os.makedirs(\"test_preds\", exist_ok=True)"
   ]
  },
  {
   "cell_type": "code",
   "execution_count": 16,
   "id": "d4890f4f",
   "metadata": {
    "execution": {
     "iopub.execute_input": "2025-07-14T07:08:51.621633Z",
     "iopub.status.busy": "2025-07-14T07:08:51.621034Z",
     "iopub.status.idle": "2025-07-14T07:08:51.626625Z",
     "shell.execute_reply": "2025-07-14T07:08:51.625347Z"
    },
    "papermill": {
     "duration": 0.032853,
     "end_time": "2025-07-14T07:08:51.629362",
     "exception": false,
     "start_time": "2025-07-14T07:08:51.596509",
     "status": "completed"
    },
    "tags": []
   },
   "outputs": [],
   "source": [
    "oof_preds = {}\n",
    "test_preds = {}\n",
    "\n",
    "overall_scores = {}"
   ]
  },
  {
   "cell_type": "code",
   "execution_count": 17,
   "id": "4dcf164a",
   "metadata": {
    "execution": {
     "iopub.execute_input": "2025-07-14T07:08:51.676917Z",
     "iopub.status.busy": "2025-07-14T07:08:51.676558Z",
     "iopub.status.idle": "2025-07-14T07:08:51.681577Z",
     "shell.execute_reply": "2025-07-14T07:08:51.680452Z"
    },
    "papermill": {
     "duration": 0.031719,
     "end_time": "2025-07-14T07:08:51.683575",
     "exception": false,
     "start_time": "2025-07-14T07:08:51.651856",
     "status": "completed"
    },
    "tags": []
   },
   "outputs": [],
   "source": [
    "def pearsonr(y_true, y_pred):\n",
    "    return pr(y_true, y_pred)[0]"
   ]
  },
  {
   "cell_type": "code",
   "execution_count": 18,
   "id": "f9bd0831",
   "metadata": {
    "_kg_hide-output": true,
    "execution": {
     "iopub.execute_input": "2025-07-14T07:08:51.727523Z",
     "iopub.status.busy": "2025-07-14T07:08:51.727121Z",
     "iopub.status.idle": "2025-07-14T07:18:50.333098Z",
     "shell.execute_reply": "2025-07-14T07:18:50.331796Z"
    },
    "papermill": {
     "duration": 598.630097,
     "end_time": "2025-07-14T07:18:50.335810",
     "exception": false,
     "start_time": "2025-07-14T07:08:51.705713",
     "status": "completed"
    },
    "tags": []
   },
   "outputs": [],
   "source": [
    "best_model = predictor.model_best\n",
    "_test_preds = predictor.predict_multi(test)\n",
    "for model in predictor.model_names():\n",
    "    model_oof_preds = predictor.predict_oof(model).values\n",
    "    model_test_preds = _test_preds[model].values\n",
    "    \n",
    "    cv_score = pr(train[CFG.target], model_oof_preds)[0]\n",
    "    if model != best_model:\n",
    "        save_preds(model_oof_preds, cv_score, model, \"oof\", False)\n",
    "        save_preds(model_test_preds, cv_score, model, \"test\", False)\n",
    "    else:\n",
    "        save_preds(model_oof_preds, cv_score, model, \"oof\", True)\n",
    "        save_preds(model_test_preds, cv_score, model, \"test\", True)\n",
    "        save_submission(model_test_preds, cv_score)\n",
    "        \n",
    "    oof_preds[model] = model_oof_preds\n",
    "    test_preds[model] = model_test_preds\n",
    "\n",
    "    overall_scores[model] = [pr(model_oof_preds, train[CFG.target])[0]]"
   ]
  },
  {
   "cell_type": "markdown",
   "id": "0c3929e9",
   "metadata": {
    "papermill": {
     "duration": 0.021448,
     "end_time": "2025-07-14T07:18:50.382151",
     "exception": false,
     "start_time": "2025-07-14T07:18:50.360703",
     "status": "completed"
    },
    "tags": []
   },
   "source": [
    "# Visualizing the results"
   ]
  },
  {
   "cell_type": "code",
   "execution_count": 19,
   "id": "dc7cc1c3",
   "metadata": {
    "execution": {
     "iopub.execute_input": "2025-07-14T07:18:50.426000Z",
     "iopub.status.busy": "2025-07-14T07:18:50.425622Z",
     "iopub.status.idle": "2025-07-14T07:18:50.816864Z",
     "shell.execute_reply": "2025-07-14T07:18:50.815499Z"
    },
    "papermill": {
     "duration": 0.416118,
     "end_time": "2025-07-14T07:18:50.819019",
     "exception": false,
     "start_time": "2025-07-14T07:18:50.402901",
     "status": "completed"
    },
    "tags": []
   },
   "outputs": [],
   "source": [
    "fold_scores = {}\n",
    "split = KFold(n_splits=CFG.n_folds, shuffle=False).split(train, train[CFG.target])\n",
    "for fold_idx, (train_index, val_index) in enumerate(split):\n",
    "    for model in predictor.model_names():\n",
    "        fold_score = pr(train.loc[val_index, CFG.target], oof_preds[model][val_index])[0]\n",
    "        if model not in fold_scores:\n",
    "            fold_scores[model] = []\n",
    "        fold_scores[model].append(fold_score)"
   ]
  },
  {
   "cell_type": "code",
   "execution_count": 20,
   "id": "9697a6c5",
   "metadata": {
    "execution": {
     "iopub.execute_input": "2025-07-14T07:18:50.861868Z",
     "iopub.status.busy": "2025-07-14T07:18:50.861530Z",
     "iopub.status.idle": "2025-07-14T07:18:51.564532Z",
     "shell.execute_reply": "2025-07-14T07:18:51.563125Z"
    },
    "papermill": {
     "duration": 0.727501,
     "end_time": "2025-07-14T07:18:51.566893",
     "exception": false,
     "start_time": "2025-07-14T07:18:50.839392",
     "status": "completed"
    },
    "tags": []
   },
   "outputs": [
    {
     "data": {
      "image/png": "[encoded data removed]",
      "text/plain": [
       "<Figure size 1500x300 with 2 Axes>"
      ]
     },
     "metadata": {},
     "output_type": "display_data"
    }
   ],
   "source": [
    "fold_scores = pd.DataFrame(fold_scores)\n",
    "overall_scores = pd.DataFrame(overall_scores).transpose().sort_values(by=0, ascending=False)\n",
    "order = overall_scores.index.tolist()\n",
    "\n",
    "min_score = overall_scores.values.flatten().min()\n",
    "max_score = overall_scores.values.flatten().max()\n",
    "padding = (max_score - min_score) * 0.5\n",
    "lower_limit = min_score - padding\n",
    "upper_limit = max_score + padding\n",
    "\n",
    "fig, axs = plt.subplots(1, 2, figsize=(15, fold_scores.shape[1] * 0.3))\n",
    "\n",
    "boxplot = sns.boxplot(data=fold_scores, order=order, ax=axs[0], orient=\"h\", palette=\"RdYlGn_r\")\n",
    "axs[0].set_title(f\"Fold Score\")\n",
    "axs[0].set_xlabel(\"\")\n",
    "axs[0].set_ylabel(\"\")\n",
    "\n",
    "barplot = sns.barplot(x=overall_scores.values.flatten(), y=overall_scores.index, ax=axs[1], palette=\"RdYlGn_r\")\n",
    "axs[1].set_title(f\"Overall Score\")\n",
    "axs[1].set_xlabel(\"\")\n",
    "axs[1].set_xlim(left=lower_limit, right=upper_limit)\n",
    "axs[1].set_ylabel(\"\")\n",
    "\n",
    "for i, (score, model) in enumerate(zip(overall_scores.values.flatten(), overall_scores.index)):\n",
    "    barplot.text(score, i, round(score, 6), va=\"center\")\n",
    "\n",
    "plt.tight_layout()\n",
    "plt.show()"
   ]
  }
 ],
 "metadata": {
  "kaggle": {
   "accelerator": "none",
   "dataSources": [
    {
     "databundleVersionId": 11418275,
     "sourceId": 96164,
     "sourceType": "competition"
    }
   ],
   "dockerImageVersionId": 31040,
   "isGpuEnabled": false,
   "isInternetEnabled": true,
   "language": "python",
   "sourceType": "notebook"
  },
  "kernelspec": {
   "display_name": "Python 3",
   "language": "python",
   "name": "python3"
  },
  "language_info": {
   "codemirror_mode": {
    "name": "ipython",
    "version": 3
   },
   "file_extension": ".py",
   "mimetype": "text/x-python",
   "name": "python",
   "nbconvert_exporter": "python",
   "pygments_lexer": "ipython3",
   "version": "3.11.11"
  },
  "papermill": {
   "default_parameters": {},
   "duration": 40542.486989,
   "end_time": "2025-07-14T07:18:57.586638",
   "environment_variables": {},
   "exception": null,
   "input_path": "__notebook__.ipynb",
   "output_path": "__notebook__.ipynb",
   "parameters": {},
   "start_time": "2025-07-13T20:03:15.099649",
   "version": "2.6.0"
  }
 },
 "nbformat": 4,
 "nbformat_minor": 5
}
