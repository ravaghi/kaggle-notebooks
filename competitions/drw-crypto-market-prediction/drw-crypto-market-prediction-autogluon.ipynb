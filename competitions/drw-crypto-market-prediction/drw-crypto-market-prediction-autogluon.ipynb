{
 "cells": [
  {
   "cell_type": "markdown",
   "id": "a764299c",
   "metadata": {
    "papermill": {
     "duration": 0.004356,
     "end_time": "2025-05-24T19:36:29.226618",
     "exception": false,
     "start_time": "2025-05-24T19:36:29.222262",
     "status": "completed"
    },
    "tags": []
   },
   "source": [
    "# Imports and configs"
   ]
  },
  {
   "cell_type": "code",
   "execution_count": 1,
   "id": "8c61e586",
   "metadata": {
    "_cell_guid": "b1076dfc-b9ad-4769-8c92-a6c4dae69d19",
    "_kg_hide-output": true,
    "_uuid": "8f2839f25d086af736a60e9eeb907d3b93b6e0e5",
    "execution": {
     "iopub.execute_input": "2025-05-24T19:36:29.235480Z",
     "iopub.status.busy": "2025-05-24T19:36:29.235129Z",
     "iopub.status.idle": "2025-05-24T19:36:43.723063Z",
     "shell.execute_reply": "2025-05-24T19:36:43.722118Z"
    },
    "papermill": {
     "duration": 14.494284,
     "end_time": "2025-05-24T19:36:43.724800",
     "exception": false,
     "start_time": "2025-05-24T19:36:29.230516",
     "status": "completed"
    },
    "tags": []
   },
   "outputs": [
    {
     "name": "stdout",
     "output_type": "stream",
     "text": [
      "\u001b[2K   \u001b[90m━━━━━━━━━━━━━━━━━━━━━━━━━━━━━━━━━━━━━━━━\u001b[0m \u001b[32m13.3/13.3 MB\u001b[0m \u001b[31m81.6 MB/s\u001b[0m eta \u001b[36m0:00:00\u001b[0m\r\n",
      "\u001b[2K   \u001b[90m━━━━━━━━━━━━━━━━━━━━━━━━━━━━━━━━━━━━━━━━\u001b[0m \u001b[32m382.4/382.4 kB\u001b[0m \u001b[31m17.6 MB/s\u001b[0m eta \u001b[36m0:00:00\u001b[0m\r\n",
      "\u001b[2K   \u001b[90m━━━━━━━━━━━━━━━━━━━━━━━━━━━━━━━━━━━━━━━━\u001b[0m \u001b[32m222.7/222.7 kB\u001b[0m \u001b[31m11.4 MB/s\u001b[0m eta \u001b[36m0:00:00\u001b[0m\r\n",
      "\u001b[2K   \u001b[90m━━━━━━━━━━━━━━━━━━━━━━━━━━━━━━━━━━━━━━━━\u001b[0m \u001b[32m64.2/64.2 kB\u001b[0m \u001b[31m3.5 MB/s\u001b[0m eta \u001b[36m0:00:00\u001b[0m\r\n",
      "\u001b[2K   \u001b[90m━━━━━━━━━━━━━━━━━━━━━━━━━━━━━━━━━━━━━━━━\u001b[0m \u001b[32m69.1/69.1 kB\u001b[0m \u001b[31m3.2 MB/s\u001b[0m eta \u001b[36m0:00:00\u001b[0m\r\n",
      "\u001b[?25h\u001b[31mERROR: pip's dependency resolver does not currently take into account all the packages that are installed. This behaviour is the source of the following dependency conflicts.\r\n",
      "cesium 0.12.4 requires numpy<3.0,>=2.0, but you have numpy 1.26.4 which is incompatible.\u001b[0m\u001b[31m\r\n",
      "\u001b[0m"
     ]
    }
   ],
   "source": [
    "!pip install -q scikit-learn==1.5.2 autogluon.tabular ray"
   ]
  },
  {
   "cell_type": "code",
   "execution_count": 2,
   "id": "acef1b0e",
   "metadata": {
    "execution": {
     "iopub.execute_input": "2025-05-24T19:36:43.735422Z",
     "iopub.status.busy": "2025-05-24T19:36:43.734589Z",
     "iopub.status.idle": "2025-05-24T19:36:48.786543Z",
     "shell.execute_reply": "2025-05-24T19:36:48.785596Z"
    },
    "papermill": {
     "duration": 5.05876,
     "end_time": "2025-05-24T19:36:48.788159",
     "exception": false,
     "start_time": "2025-05-24T19:36:43.729399",
     "status": "completed"
    },
    "tags": []
   },
   "outputs": [],
   "source": [
    "from autogluon.tabular import TabularPredictor\n",
    "from autogluon.core.metrics import make_scorer\n",
    "from sklearn.model_selection import KFold\n",
    "from scipy.stats import pearsonr\n",
    "import matplotlib.pyplot as plt\n",
    "import seaborn as sns\n",
    "import pandas as pd\n",
    "import numpy as np\n",
    "import warnings\n",
    "import joblib\n",
    "import os\n",
    "\n",
    "warnings.filterwarnings(\"ignore\")"
   ]
  },
  {
   "cell_type": "code",
   "execution_count": 3,
   "id": "57782e14",
   "metadata": {
    "execution": {
     "iopub.execute_input": "2025-05-24T19:36:48.798657Z",
     "iopub.status.busy": "2025-05-24T19:36:48.797824Z",
     "iopub.status.idle": "2025-05-24T19:36:48.803066Z",
     "shell.execute_reply": "2025-05-24T19:36:48.801956Z"
    },
    "papermill": {
     "duration": 0.01187,
     "end_time": "2025-05-24T19:36:48.804537",
     "exception": false,
     "start_time": "2025-05-24T19:36:48.792667",
     "status": "completed"
    },
    "tags": []
   },
   "outputs": [],
   "source": [
    "class CFG:\n",
    "    train_path = \"/kaggle/input/drw-crypto-market-prediction/train.parquet\"\n",
    "    test_path = \"/kaggle/input/drw-crypto-market-prediction/test.parquet\"\n",
    "    sample_sub_path = \"/kaggle/input/drw-crypto-market-prediction/sample_submission.csv\"\n",
    "    \n",
    "    target = \"label\"\n",
    "    n_folds = 5\n",
    "    seed = 42\n",
    "    time_limit = 3600 * 10"
   ]
  },
  {
   "cell_type": "markdown",
   "id": "8155f746",
   "metadata": {
    "papermill": {
     "duration": 0.003795,
     "end_time": "2025-05-24T19:36:48.812519",
     "exception": false,
     "start_time": "2025-05-24T19:36:48.808724",
     "status": "completed"
    },
    "tags": []
   },
   "source": [
    "# Loading data and predefining folds"
   ]
  },
  {
   "cell_type": "code",
   "execution_count": 4,
   "id": "81416af8",
   "metadata": {
    "_kg_hide-input": true,
    "execution": {
     "iopub.execute_input": "2025-05-24T19:36:48.822297Z",
     "iopub.status.busy": "2025-05-24T19:36:48.821616Z",
     "iopub.status.idle": "2025-05-24T19:36:48.831076Z",
     "shell.execute_reply": "2025-05-24T19:36:48.830230Z"
    },
    "papermill": {
     "duration": 0.015822,
     "end_time": "2025-05-24T19:36:48.832493",
     "exception": false,
     "start_time": "2025-05-24T19:36:48.816671",
     "status": "completed"
    },
    "tags": []
   },
   "outputs": [],
   "source": [
    "def reduce_mem_usage(dataframe, dataset):    \n",
    "    print('Reducing memory usage for:', dataset)\n",
    "    initial_mem_usage = dataframe.memory_usage().sum() / 1024**2\n",
    "    \n",
    "    for col in dataframe.columns:\n",
    "        col_type = dataframe[col].dtype\n",
    "        \n",
    "        c_min = dataframe[col].min()\n",
    "        c_max = dataframe[col].max()\n",
    "        if str(col_type)[:3] == 'int':\n",
    "            if c_min > np.iinfo(np.int8).min and c_max < np.iinfo(np.int8).max:\n",
    "                dataframe[col] = dataframe[col].astype(np.int8)\n",
    "            elif c_min > np.iinfo(np.int16).min and c_max < np.iinfo(np.int16).max:\n",
    "                dataframe[col] = dataframe[col].astype(np.int16)\n",
    "            elif c_min > np.iinfo(np.int32).min and c_max < np.iinfo(np.int32).max:\n",
    "                dataframe[col] = dataframe[col].astype(np.int32)\n",
    "            elif c_min > np.iinfo(np.int64).min and c_max < np.iinfo(np.int64).max:\n",
    "                dataframe[col] = dataframe[col].astype(np.int64)\n",
    "        else:\n",
    "            if c_min > np.finfo(np.float16).min and c_max < np.finfo(np.float16).max:\n",
    "                dataframe[col] = dataframe[col].astype(np.float16)\n",
    "            elif c_min > np.finfo(np.float32).min and c_max < np.finfo(np.float32).max:\n",
    "                dataframe[col] = dataframe[col].astype(np.float32)\n",
    "            else:\n",
    "                dataframe[col] = dataframe[col].astype(np.float64)\n",
    "\n",
    "    final_mem_usage = dataframe.memory_usage().sum() / 1024**2\n",
    "    print('--- Memory usage before: {:.2f} MB'.format(initial_mem_usage))\n",
    "    print('--- Memory usage after: {:.2f} MB'.format(final_mem_usage))\n",
    "    print('--- Decreased memory usage by {:.1f}%\\n'.format(100 * (initial_mem_usage - final_mem_usage) / initial_mem_usage))\n",
    "\n",
    "    return dataframe"
   ]
  },
  {
   "cell_type": "code",
   "execution_count": 5,
   "id": "17b28ce9",
   "metadata": {
    "execution": {
     "iopub.execute_input": "2025-05-24T19:36:48.843117Z",
     "iopub.status.busy": "2025-05-24T19:36:48.842210Z",
     "iopub.status.idle": "2025-05-24T19:36:48.847922Z",
     "shell.execute_reply": "2025-05-24T19:36:48.847035Z"
    },
    "papermill": {
     "duration": 0.012418,
     "end_time": "2025-05-24T19:36:48.849457",
     "exception": false,
     "start_time": "2025-05-24T19:36:48.837039",
     "status": "completed"
    },
    "tags": []
   },
   "outputs": [],
   "source": [
    "cols_to_drop = [\n",
    "    'X697', 'X698', 'X699', 'X700', 'X701', 'X702', 'X703', 'X704', 'X705', 'X706', \n",
    "    'X707', 'X708', 'X709', 'X710', 'X711', 'X712', 'X713', 'X714', 'X715', 'X716',\n",
    "    'X717', 'X864', 'X867', 'X869', 'X870', 'X871', 'X872', 'X104', 'X110', 'X116',\n",
    "    'X122', 'X128', 'X134', 'X140', 'X146', 'X152', 'X158', 'X164', 'X170', 'X176',\n",
    "    'X182', 'X351', 'X357', 'X363', 'X369', 'X375', 'X381', 'X387', 'X393', 'X399',\n",
    "    'X405', 'X411', 'X417', 'X423', 'X429'\n",
    "]"
   ]
  },
  {
   "cell_type": "code",
   "execution_count": 6,
   "id": "5f08639f",
   "metadata": {
    "execution": {
     "iopub.execute_input": "2025-05-24T19:36:48.859233Z",
     "iopub.status.busy": "2025-05-24T19:36:48.858911Z",
     "iopub.status.idle": "2025-05-24T19:37:55.325267Z",
     "shell.execute_reply": "2025-05-24T19:37:55.324184Z"
    },
    "papermill": {
     "duration": 66.473286,
     "end_time": "2025-05-24T19:37:55.327130",
     "exception": false,
     "start_time": "2025-05-24T19:36:48.853844",
     "status": "completed"
    },
    "tags": []
   },
   "outputs": [
    {
     "name": "stdout",
     "output_type": "stream",
     "text": [
      "Reducing memory usage for: train\n",
      "--- Memory usage before: 3374.26 MB\n",
      "--- Memory usage after: 843.57 MB\n",
      "--- Decreased memory usage by 75.0%\n",
      "\n",
      "Reducing memory usage for: test\n",
      "--- Memory usage before: 3448.84 MB\n",
      "--- Memory usage after: 862.21 MB\n",
      "--- Decreased memory usage by 75.0%\n",
      "\n"
     ]
    }
   ],
   "source": [
    "train = pd.read_parquet(CFG.train_path).reset_index(drop=True)\n",
    "test = pd.read_parquet(CFG.test_path).reset_index(drop=True)\n",
    "\n",
    "train = train.drop(columns=cols_to_drop)\n",
    "test = test.drop(columns=[\"label\"] + cols_to_drop)\n",
    "\n",
    "train = reduce_mem_usage(train, \"train\")\n",
    "test = reduce_mem_usage(test, \"test\")"
   ]
  },
  {
   "cell_type": "code",
   "execution_count": 7,
   "id": "42b4b509",
   "metadata": {
    "execution": {
     "iopub.execute_input": "2025-05-24T19:37:55.337825Z",
     "iopub.status.busy": "2025-05-24T19:37:55.337529Z",
     "iopub.status.idle": "2025-05-24T19:37:55.418779Z",
     "shell.execute_reply": "2025-05-24T19:37:55.417917Z"
    },
    "papermill": {
     "duration": 0.088643,
     "end_time": "2025-05-24T19:37:55.420711",
     "exception": false,
     "start_time": "2025-05-24T19:37:55.332068",
     "status": "completed"
    },
    "tags": []
   },
   "outputs": [],
   "source": [
    "kf = KFold(n_splits=CFG.n_folds, shuffle=False)\n",
    "split = kf.split(train, train[CFG.target])\n",
    "for i, (_, val_index) in enumerate(split):\n",
    "    train.loc[val_index, \"fold\"] = i"
   ]
  },
  {
   "cell_type": "markdown",
   "id": "0a9ea2d3",
   "metadata": {
    "papermill": {
     "duration": 0.004208,
     "end_time": "2025-05-24T19:37:55.430078",
     "exception": false,
     "start_time": "2025-05-24T19:37:55.425870",
     "status": "completed"
    },
    "tags": []
   },
   "source": [
    "# Fitting the predictor"
   ]
  },
  {
   "cell_type": "code",
   "execution_count": 8,
   "id": "d10269d3",
   "metadata": {
    "execution": {
     "iopub.execute_input": "2025-05-24T19:37:55.440672Z",
     "iopub.status.busy": "2025-05-24T19:37:55.439935Z",
     "iopub.status.idle": "2025-05-24T19:37:55.444779Z",
     "shell.execute_reply": "2025-05-24T19:37:55.444001Z"
    },
    "papermill": {
     "duration": 0.011464,
     "end_time": "2025-05-24T19:37:55.446128",
     "exception": false,
     "start_time": "2025-05-24T19:37:55.434664",
     "status": "completed"
    },
    "tags": []
   },
   "outputs": [],
   "source": [
    "def _pearsonr(y_true, y_pred):\n",
    "    return pearsonr(y_true, y_pred)[0]\n",
    "\n",
    "eval_metric = make_scorer(\n",
    "    name='pearsonr',\n",
    "    score_func=_pearsonr,\n",
    "    optimum=1,\n",
    "    greater_is_better=True\n",
    ")"
   ]
  },
  {
   "cell_type": "code",
   "execution_count": 9,
   "id": "b8b97a9b",
   "metadata": {
    "_kg_hide-output": true,
    "execution": {
     "iopub.execute_input": "2025-05-24T19:37:55.456644Z",
     "iopub.status.busy": "2025-05-24T19:37:55.456298Z",
     "iopub.status.idle": "2025-05-24T19:37:55.461875Z",
     "shell.execute_reply": "2025-05-24T19:37:55.460799Z"
    },
    "papermill": {
     "duration": 0.012619,
     "end_time": "2025-05-24T19:37:55.463468",
     "exception": false,
     "start_time": "2025-05-24T19:37:55.450849",
     "status": "completed"
    },
    "tags": []
   },
   "outputs": [],
   "source": [
    "predictor = TabularPredictor(\n",
    "    path=\"/logs\",\n",
    "    problem_type=\"regression\",\n",
    "    eval_metric=eval_metric,\n",
    "    label=CFG.target,\n",
    "    groups=\"fold\",\n",
    "    verbosity=2\n",
    ")"
   ]
  },
  {
   "cell_type": "code",
   "execution_count": 10,
   "id": "8b110811",
   "metadata": {
    "_kg_hide-output": true,
    "execution": {
     "iopub.execute_input": "2025-05-24T19:37:55.474740Z",
     "iopub.status.busy": "2025-05-24T19:37:55.474443Z",
     "iopub.status.idle": "2025-05-25T05:38:01.930076Z",
     "shell.execute_reply": "2025-05-25T05:38:01.929074Z"
    },
    "papermill": {
     "duration": 36006.465929,
     "end_time": "2025-05-25T05:38:01.934886",
     "exception": false,
     "start_time": "2025-05-24T19:37:55.468957",
     "status": "completed"
    },
    "scrolled": true,
    "tags": []
   },
   "outputs": [
    {
     "name": "stderr",
     "output_type": "stream",
     "text": [
      "Verbosity: 2 (Standard Logging)\n",
      "=================== System Info ===================\n",
      "AutoGluon Version:  1.3.1\n",
      "Python Version:     3.11.11\n",
      "Operating System:   Linux\n",
      "Platform Machine:   x86_64\n",
      "Platform Version:   #1 SMP PREEMPT_DYNAMIC Sun Nov 10 10:07:59 UTC 2024\n",
      "CPU Count:          4\n",
      "Memory Avail:       22.33 GB / 31.35 GB (71.2%)\n",
      "Disk Space Avail:   1704.25 GB / 8062.39 GB (21.1%)\n",
      "===================================================\n",
      "Presets specified: ['best_quality']\n",
      "Setting dynamic_stacking from 'auto' to True. Reason: Enable dynamic_stacking when use_bag_holdout is disabled. (use_bag_holdout=False)\n",
      "Stack configuration (auto_stack=True): num_stack_levels=1, num_bag_folds=8, num_bag_sets=1\n",
      "DyStack is enabled (dynamic_stacking=True). AutoGluon will try to determine whether the input data is affected by stacked overfitting and enable or disable stacking as a consequence.\n",
      "\tThis is used to identify the optimal `num_stack_levels` value. Copies of AutoGluon will be fit on subsets of the data. Then holdout validation data is used to detect stacked overfitting.\n",
      "\tRunning DyStack for up to 9000s of the 36000s of remaining time (25%).\n",
      "\t\tContext path: \"/logs/ds_sub_fit/sub_fit_ho\"\n",
      "Running DyStack sub-fit ...\n",
      "Values in column 'fold' used as split folds instead of being automatically set. Bagged models will have 5 splits.\n",
      "Beginning AutoGluon training ... Time limit = 8999s\n",
      "AutoGluon will save models to \"/logs/ds_sub_fit/sub_fit_ho\"\n",
      "Train Data Rows:    467455\n",
      "Train Data Columns: 841\n",
      "Label Column:       label\n",
      "Problem Type:       regression\n",
      "Preprocessing data ...\n",
      "Using Feature Generators to preprocess the data ...\n",
      "Fitting AutoMLPipelineFeatureGenerator...\n",
      "\tAvailable Memory:                    21880.98 MB\n",
      "\tTrain Data (Original)  Memory Usage: 748.94 MB (3.4% of available memory)\n",
      "\tInferring data type of each feature based on column values. Set feature_metadata_in to manually specify special dtypes of the features.\n",
      "\tStage 1 Generators:\n",
      "\t\tFitting AsTypeFeatureGenerator...\n",
      "\tStage 2 Generators:\n",
      "\t\tFitting FillNaFeatureGenerator...\n",
      "\tStage 3 Generators:\n",
      "\t\tFitting IdentityFeatureGenerator...\n",
      "\tStage 4 Generators:\n",
      "\t\tFitting DropUniqueFeatureGenerator...\n",
      "\tStage 5 Generators:\n",
      "\t\tFitting DropDuplicatesFeatureGenerator...\n",
      "\tTypes of features in original data (raw dtype, special dtypes):\n",
      "\t\t('float', []) : 840 | ['bid_qty', 'ask_qty', 'buy_qty', 'sell_qty', 'volume', ...]\n",
      "\tTypes of features in processed data (raw dtype, special dtypes):\n",
      "\t\t('float', []) : 840 | ['bid_qty', 'ask_qty', 'buy_qty', 'sell_qty', 'volume', ...]\n",
      "\t39.2s = Fit runtime\n",
      "\t840 features in original data used to generate 840 features in processed data.\n",
      "\tTrain Data (Processed) Memory Usage: 748.94 MB (3.4% of available memory)\n",
      "Data preprocessing and feature engineering runtime = 42.39s ...\n",
      "AutoGluon will gauge predictive performance using evaluation metric: 'pearsonr'\n",
      "\tTo change this, specify the eval_metric parameter of Predictor()\n",
      "Large model count detected (112 configs) ... Only displaying the first 3 models of each family. To see all, set `verbosity=3`.\n",
      "User-specified model hyperparameters to be fit:\n",
      "{\n",
      "\t'NN_TORCH': [{}, {'activation': 'elu', 'dropout_prob': 0.10077639529843717, 'hidden_size': 108, 'learning_rate': 0.002735937344002146, 'num_layers': 4, 'use_batchnorm': True, 'weight_decay': 1.356433327634438e-12, 'ag_args': {'name_suffix': '_r79', 'priority': -2}}, {'activation': 'elu', 'dropout_prob': 0.11897478034205347, 'hidden_size': 213, 'learning_rate': 0.0010474382260641949, 'num_layers': 4, 'use_batchnorm': False, 'weight_decay': 5.594471067786272e-10, 'ag_args': {'name_suffix': '_r22', 'priority': -7}}],\n",
      "\t'GBM': [{'extra_trees': True, 'ag_args': {'name_suffix': 'XT'}}, {}, {'learning_rate': 0.03, 'num_leaves': 128, 'feature_fraction': 0.9, 'min_data_in_leaf': 3, 'ag_args': {'name_suffix': 'Large', 'priority': 0, 'hyperparameter_tune_kwargs': None}}],\n",
      "\t'CAT': [{}, {'depth': 6, 'grow_policy': 'SymmetricTree', 'l2_leaf_reg': 2.1542798306067823, 'learning_rate': 0.06864209415792857, 'max_ctr_complexity': 4, 'one_hot_max_size': 10, 'ag_args': {'name_suffix': '_r177', 'priority': -1}}, {'depth': 8, 'grow_policy': 'Depthwise', 'l2_leaf_reg': 2.7997999596449104, 'learning_rate': 0.031375015734637225, 'max_ctr_complexity': 2, 'one_hot_max_size': 3, 'ag_args': {'name_suffix': '_r9', 'priority': -5}}],\n",
      "\t'XGB': [{}, {'colsample_bytree': 0.6917311125174739, 'enable_categorical': False, 'learning_rate': 0.018063876087523967, 'max_depth': 10, 'min_child_weight': 0.6028633586934382, 'ag_args': {'name_suffix': '_r33', 'priority': -8}}, {'colsample_bytree': 0.6628423832084077, 'enable_categorical': False, 'learning_rate': 0.08775715546881824, 'max_depth': 5, 'min_child_weight': 0.6294123374222513, 'ag_args': {'name_suffix': '_r89', 'priority': -16}}],\n",
      "\t'FASTAI': [{}, {'bs': 256, 'emb_drop': 0.5411770367537934, 'epochs': 43, 'layers': [800, 400], 'lr': 0.01519848858318159, 'ps': 0.23782946566604385, 'ag_args': {'name_suffix': '_r191', 'priority': -4}}, {'bs': 2048, 'emb_drop': 0.05070411322605811, 'epochs': 29, 'layers': [200, 100], 'lr': 0.08974235041576624, 'ps': 0.10393466140748028, 'ag_args': {'name_suffix': '_r102', 'priority': -11}}],\n",
      "\t'RF': [{'criterion': 'gini', 'ag_args': {'name_suffix': 'Gini', 'problem_types': ['binary', 'multiclass']}}, {'criterion': 'entropy', 'ag_args': {'name_suffix': 'Entr', 'problem_types': ['binary', 'multiclass']}}, {'criterion': 'squared_error', 'ag_args': {'name_suffix': 'MSE', 'problem_types': ['regression', 'quantile']}}],\n",
      "\t'XT': [{'criterion': 'gini', 'ag_args': {'name_suffix': 'Gini', 'problem_types': ['binary', 'multiclass']}}, {'criterion': 'entropy', 'ag_args': {'name_suffix': 'Entr', 'problem_types': ['binary', 'multiclass']}}, {'criterion': 'squared_error', 'ag_args': {'name_suffix': 'MSE', 'problem_types': ['regression', 'quantile']}}],\n",
      "\t'KNN': [{'weights': 'uniform', 'ag_args': {'name_suffix': 'Unif'}}, {'weights': 'distance', 'ag_args': {'name_suffix': 'Dist'}}],\n",
      "}\n",
      "AutoGluon will fit 2 stack levels (L1 to L2) ...\n",
      "Excluded models: ['FASTAI', 'RF', 'NN_TORCH', 'KNN'] (Specified by `excluded_model_types`)\n",
      "Fitting 54 L1 models, fit_strategy=\"sequential\" ...\n",
      "Fitting model: LightGBMXT_BAG_L1 ... Training model for up to 5969.40s of the 8956.34s of remaining time.\n",
      "Will use sequential fold fitting strategy because import of ray failed. Reason: ray==2.46.0 detected. 2.10.0 <= ray < 2.45.0 is required. You can use pip to install certain version of ray `pip install \"ray>=2.10.0,<2.45.0\"`\n",
      "\tFitting 5 child models (S1F1 - S1F5) | Fitting with SequentialLocalFoldFittingStrategy\n",
      "\t0.1102\t = Validation score   (pearsonr)\n",
      "\t518.01s\t = Training   runtime\n",
      "\t4.15s\t = Validation runtime\n",
      "Fitting model: LightGBM_BAG_L1 ... Training model for up to 5420.01s of the 8406.95s of remaining time.\n",
      "\tFitting 5 child models (S1F1 - S1F5) | Fitting with SequentialLocalFoldFittingStrategy\n",
      "\t0.1019\t = Validation score   (pearsonr)\n",
      "\t712.31s\t = Training   runtime\n",
      "\t5.45s\t = Validation runtime\n",
      "Fitting model: CatBoost_BAG_L1 ... Training model for up to 4681.31s of the 7668.24s of remaining time.\n",
      "\tFitting 5 child models (S1F1 - S1F5) | Fitting with SequentialLocalFoldFittingStrategy\n",
      "\t0.0468\t = Validation score   (pearsonr)\n",
      "\t945.33s\t = Training   runtime\n",
      "\t131.32s\t = Validation runtime\n",
      "Fitting model: ExtraTreesMSE_BAG_L1 ... Training model for up to 3582.87s of the 6569.81s of remaining time.\n",
      "\tForcing `use_child_oof=False` because `groups` is specified\n",
      "\tFitting 5 child models (S1F1 - S1F5) | Fitting with SequentialLocalFoldFittingStrategy\n",
      "\tWarning: Model is expected to require 20274.7s to train, which exceeds the maximum time limit of 562.4s, skipping model...\n",
      "\tTime limit exceeded... Skipping ExtraTreesMSE_BAG_L1.\n",
      "Fitting model: XGBoost_BAG_L1 ... Training model for up to 3279.08s of the 6266.01s of remaining time.\n",
      "\tFitting 5 child models (S1F1 - S1F5) | Fitting with SequentialLocalFoldFittingStrategy\n",
      "\tWarning: Exception caused XGBoost_BAG_L1 to fail during training... Skipping this model.\n",
      "\t\tscipy.sparse does not support dtype float16. The only supported types are: bool_, int8, uint8, int16, uint16, int32, uint32, int64, uint64, longlong, ulonglong, float32, float64, longdouble, complex64, complex128, clongdouble.\n",
      "Detailed Traceback:\n",
      "Traceback (most recent call last):\n",
      "  File \"/usr/local/lib/python3.11/dist-packages/autogluon/tabular/trainer/abstract_trainer.py\", line 2169, in _train_and_save\n",
      "    model = self._train_single(**model_fit_kwargs)\n",
      "            ^^^^^^^^^^^^^^^^^^^^^^^^^^^^^^^^^^^^^^\n",
      "  File \"/usr/local/lib/python3.11/dist-packages/autogluon/tabular/trainer/abstract_trainer.py\", line 2055, in _train_single\n",
      "    model = model.fit(X=X, y=y, X_val=X_val, y_val=y_val, X_test=X_test, y_test=y_test, total_resources=total_resources, **model_fit_kwargs)\n",
      "            ^^^^^^^^^^^^^^^^^^^^^^^^^^^^^^^^^^^^^^^^^^^^^^^^^^^^^^^^^^^^^^^^^^^^^^^^^^^^^^^^^^^^^^^^^^^^^^^^^^^^^^^^^^^^^^^^^^^^^^^^^^^^^^^^\n",
      "  File \"/usr/local/lib/python3.11/dist-packages/autogluon/core/models/abstract/abstract_model.py\", line 1051, in fit\n",
      "    out = self._fit(**kwargs)\n",
      "          ^^^^^^^^^^^^^^^^^^^\n",
      "  File \"/usr/local/lib/python3.11/dist-packages/autogluon/core/models/ensemble/stacker_ensemble_model.py\", line 270, in _fit\n",
      "    return super()._fit(X=X, y=y, time_limit=time_limit, **kwargs)\n",
      "           ^^^^^^^^^^^^^^^^^^^^^^^^^^^^^^^^^^^^^^^^^^^^^^^^^^^^^^^\n",
      "  File \"/usr/local/lib/python3.11/dist-packages/autogluon/core/models/ensemble/bagged_ensemble_model.py\", line 390, in _fit\n",
      "    self._fit_folds(\n",
      "  File \"/usr/local/lib/python3.11/dist-packages/autogluon/core/models/ensemble/bagged_ensemble_model.py\", line 848, in _fit_folds\n",
      "    fold_fitting_strategy.after_all_folds_scheduled()\n",
      "  File \"/usr/local/lib/python3.11/dist-packages/autogluon/core/models/ensemble/fold_fitting_strategy.py\", line 317, in after_all_folds_scheduled\n",
      "    self._fit_fold_model(job)\n",
      "  File \"/usr/local/lib/python3.11/dist-packages/autogluon/core/models/ensemble/fold_fitting_strategy.py\", line 322, in _fit_fold_model\n",
      "    fold_model = self._fit(self.model_base, time_start_fold, time_limit_fold, fold_ctx, self.model_base_kwargs)\n",
      "                 ^^^^^^^^^^^^^^^^^^^^^^^^^^^^^^^^^^^^^^^^^^^^^^^^^^^^^^^^^^^^^^^^^^^^^^^^^^^^^^^^^^^^^^^^^^^^^^\n",
      "  File \"/usr/local/lib/python3.11/dist-packages/autogluon/core/models/ensemble/fold_fitting_strategy.py\", line 358, in _fit\n",
      "    fold_model.fit(X=X_fold, y=y_fold, X_val=X_val_fold, y_val=y_val_fold, time_limit=time_limit_fold, num_cpus=num_cpus, num_gpus=num_gpus, **kwargs_fold)\n",
      "  File \"/usr/local/lib/python3.11/dist-packages/autogluon/core/models/abstract/abstract_model.py\", line 1051, in fit\n",
      "    out = self._fit(**kwargs)\n",
      "          ^^^^^^^^^^^^^^^^^^^\n",
      "  File \"/usr/local/lib/python3.11/dist-packages/autogluon/tabular/models/xgboost/xgboost_model.py\", line 114, in _fit\n",
      "    X = self.preprocess(X, is_train=True, max_category_levels=max_category_levels)\n",
      "        ^^^^^^^^^^^^^^^^^^^^^^^^^^^^^^^^^^^^^^^^^^^^^^^^^^^^^^^^^^^^^^^^^^^^^^^^^^\n",
      "  File \"/usr/local/lib/python3.11/dist-packages/autogluon/core/models/abstract/abstract_model.py\", line 546, in preprocess\n",
      "    X = self._preprocess(X, **kwargs)\n",
      "        ^^^^^^^^^^^^^^^^^^^^^^^^^^^^^\n",
      "  File \"/usr/local/lib/python3.11/dist-packages/autogluon/tabular/models/xgboost/xgboost_model.py\", line 74, in _preprocess\n",
      "    X = self._ohe_generator.transform(X)\n",
      "        ^^^^^^^^^^^^^^^^^^^^^^^^^^^^^^^^\n",
      "  File \"/usr/local/lib/python3.11/dist-packages/sklearn/utils/_set_output.py\", line 316, in wrapped\n",
      "    data_to_wrap = f(self, X, *args, **kwargs)\n",
      "                   ^^^^^^^^^^^^^^^^^^^^^^^^^^^\n",
      "  File \"/usr/local/lib/python3.11/dist-packages/autogluon/tabular/models/xgboost/xgboost_utils.py\", line 157, in transform\n",
      "    X_list.append(csr_matrix(X[self.other_cols]))\n",
      "                  ^^^^^^^^^^^^^^^^^^^^^^^^^^^^^^\n",
      "  File \"/usr/local/lib/python3.11/dist-packages/scipy/sparse/_compressed.py\", line 94, in __init__\n",
      "    coo = self._coo_container(arg1, dtype=dtype)\n",
      "          ^^^^^^^^^^^^^^^^^^^^^^^^^^^^^^^^^^^^^^\n",
      "  File \"/usr/local/lib/python3.11/dist-packages/scipy/sparse/_coo.py\", line 95, in __init__\n",
      "    self.data = getdata(M[coords], copy=copy, dtype=dtype)\n",
      "                ^^^^^^^^^^^^^^^^^^^^^^^^^^^^^^^^^^^^^^^^^^\n",
      "  File \"/usr/local/lib/python3.11/dist-packages/scipy/sparse/_sputils.py\", line 150, in getdata\n",
      "    getdtype(data.dtype)\n",
      "  File \"/usr/local/lib/python3.11/dist-packages/scipy/sparse/_sputils.py\", line 137, in getdtype\n",
      "    raise ValueError(f\"scipy.sparse does not support dtype {newdtype.name}. \"\n",
      "ValueError: scipy.sparse does not support dtype float16. The only supported types are: bool_, int8, uint8, int16, uint16, int32, uint32, int64, uint64, longlong, ulonglong, float32, float64, longdouble, complex64, complex128, clongdouble.\n",
      "Fitting model: LightGBMLarge_BAG_L1 ... Training model for up to 3221.64s of the 6208.58s of remaining time.\n",
      "\tFitting 5 child models (S1F1 - S1F5) | Fitting with SequentialLocalFoldFittingStrategy\n",
      "\t0.0718\t = Validation score   (pearsonr)\n",
      "\t1158.53s\t = Training   runtime\n",
      "\t6.74s\t = Validation runtime\n",
      "Fitting model: CatBoost_r177_BAG_L1 ... Training model for up to 2033.49s of the 5020.43s of remaining time.\n",
      "\tFitting 5 child models (S1F1 - S1F5) | Fitting with SequentialLocalFoldFittingStrategy\n",
      "\t0.0628\t = Validation score   (pearsonr)\n",
      "\t943.82s\t = Training   runtime\n",
      "\t131.11s\t = Validation runtime\n",
      "Fitting model: LightGBM_r131_BAG_L1 ... Training model for up to 932.76s of the 3919.69s of remaining time.\n",
      "\tFitting 5 child models (S1F1 - S1F5) | Fitting with SequentialLocalFoldFittingStrategy\n",
      "\t0.0152\t = Validation score   (pearsonr)\n",
      "\t389.04s\t = Training   runtime\n",
      "\t3.71s\t = Validation runtime\n",
      "Fitting model: CatBoost_r9_BAG_L1 ... Training model for up to 519.06s of the 3505.99s of remaining time.\n",
      "\tFitting 5 child models (S1F1 - S1F5) | Fitting with SequentialLocalFoldFittingStrategy\n",
      "\tTime limit exceeded... Skipping CatBoost_r9_BAG_L1.\n",
      "Fitting model: LightGBM_r96_BAG_L1 ... Training model for up to 359.19s of the 3346.13s of remaining time.\n",
      "\tFitting 5 child models (S1F1 - S1F5) | Fitting with SequentialLocalFoldFittingStrategy\n",
      "\tRan out of time, early stopping on iteration 1. Best iteration is:\n",
      "\t[1]\tvalid_set's l2: 1.00944\tvalid_set's pearsonr: 0.0333962\n",
      "\tTime limit exceeded... Skipping LightGBM_r96_BAG_L1.\n",
      "Fitting model: XGBoost_r33_BAG_L1 ... Training model for up to 274.02s of the 3260.96s of remaining time.\n",
      "\tFitting 5 child models (S1F1 - S1F5) | Fitting with SequentialLocalFoldFittingStrategy\n",
      "\tWarning: Exception caused XGBoost_r33_BAG_L1 to fail during training... Skipping this model.\n",
      "\t\tscipy.sparse does not support dtype float16. The only supported types are: bool_, int8, uint8, int16, uint16, int32, uint32, int64, uint64, longlong, ulonglong, float32, float64, longdouble, complex64, complex128, clongdouble.\n",
      "Detailed Traceback:\n",
      "Traceback (most recent call last):\n",
      "  File \"/usr/local/lib/python3.11/dist-packages/autogluon/tabular/trainer/abstract_trainer.py\", line 2169, in _train_and_save\n",
      "    model = self._train_single(**model_fit_kwargs)\n",
      "            ^^^^^^^^^^^^^^^^^^^^^^^^^^^^^^^^^^^^^^\n",
      "  File \"/usr/local/lib/python3.11/dist-packages/autogluon/tabular/trainer/abstract_trainer.py\", line 2055, in _train_single\n",
      "    model = model.fit(X=X, y=y, X_val=X_val, y_val=y_val, X_test=X_test, y_test=y_test, total_resources=total_resources, **model_fit_kwargs)\n",
      "            ^^^^^^^^^^^^^^^^^^^^^^^^^^^^^^^^^^^^^^^^^^^^^^^^^^^^^^^^^^^^^^^^^^^^^^^^^^^^^^^^^^^^^^^^^^^^^^^^^^^^^^^^^^^^^^^^^^^^^^^^^^^^^^^^\n",
      "  File \"/usr/local/lib/python3.11/dist-packages/autogluon/core/models/abstract/abstract_model.py\", line 1051, in fit\n",
      "    out = self._fit(**kwargs)\n",
      "          ^^^^^^^^^^^^^^^^^^^\n",
      "  File \"/usr/local/lib/python3.11/dist-packages/autogluon/core/models/ensemble/stacker_ensemble_model.py\", line 270, in _fit\n",
      "    return super()._fit(X=X, y=y, time_limit=time_limit, **kwargs)\n",
      "           ^^^^^^^^^^^^^^^^^^^^^^^^^^^^^^^^^^^^^^^^^^^^^^^^^^^^^^^\n",
      "  File \"/usr/local/lib/python3.11/dist-packages/autogluon/core/models/ensemble/bagged_ensemble_model.py\", line 390, in _fit\n",
      "    self._fit_folds(\n",
      "  File \"/usr/local/lib/python3.11/dist-packages/autogluon/core/models/ensemble/bagged_ensemble_model.py\", line 848, in _fit_folds\n",
      "    fold_fitting_strategy.after_all_folds_scheduled()\n",
      "  File \"/usr/local/lib/python3.11/dist-packages/autogluon/core/models/ensemble/fold_fitting_strategy.py\", line 317, in after_all_folds_scheduled\n",
      "    self._fit_fold_model(job)\n",
      "  File \"/usr/local/lib/python3.11/dist-packages/autogluon/core/models/ensemble/fold_fitting_strategy.py\", line 322, in _fit_fold_model\n",
      "    fold_model = self._fit(self.model_base, time_start_fold, time_limit_fold, fold_ctx, self.model_base_kwargs)\n",
      "                 ^^^^^^^^^^^^^^^^^^^^^^^^^^^^^^^^^^^^^^^^^^^^^^^^^^^^^^^^^^^^^^^^^^^^^^^^^^^^^^^^^^^^^^^^^^^^^^\n",
      "  File \"/usr/local/lib/python3.11/dist-packages/autogluon/core/models/ensemble/fold_fitting_strategy.py\", line 358, in _fit\n",
      "    fold_model.fit(X=X_fold, y=y_fold, X_val=X_val_fold, y_val=y_val_fold, time_limit=time_limit_fold, num_cpus=num_cpus, num_gpus=num_gpus, **kwargs_fold)\n",
      "  File \"/usr/local/lib/python3.11/dist-packages/autogluon/core/models/abstract/abstract_model.py\", line 1051, in fit\n",
      "    out = self._fit(**kwargs)\n",
      "          ^^^^^^^^^^^^^^^^^^^\n",
      "  File \"/usr/local/lib/python3.11/dist-packages/autogluon/tabular/models/xgboost/xgboost_model.py\", line 114, in _fit\n",
      "    X = self.preprocess(X, is_train=True, max_category_levels=max_category_levels)\n",
      "        ^^^^^^^^^^^^^^^^^^^^^^^^^^^^^^^^^^^^^^^^^^^^^^^^^^^^^^^^^^^^^^^^^^^^^^^^^^\n",
      "  File \"/usr/local/lib/python3.11/dist-packages/autogluon/core/models/abstract/abstract_model.py\", line 546, in preprocess\n",
      "    X = self._preprocess(X, **kwargs)\n",
      "        ^^^^^^^^^^^^^^^^^^^^^^^^^^^^^\n",
      "  File \"/usr/local/lib/python3.11/dist-packages/autogluon/tabular/models/xgboost/xgboost_model.py\", line 74, in _preprocess\n",
      "    X = self._ohe_generator.transform(X)\n",
      "        ^^^^^^^^^^^^^^^^^^^^^^^^^^^^^^^^\n",
      "  File \"/usr/local/lib/python3.11/dist-packages/sklearn/utils/_set_output.py\", line 316, in wrapped\n",
      "    data_to_wrap = f(self, X, *args, **kwargs)\n",
      "                   ^^^^^^^^^^^^^^^^^^^^^^^^^^^\n",
      "  File \"/usr/local/lib/python3.11/dist-packages/autogluon/tabular/models/xgboost/xgboost_utils.py\", line 157, in transform\n",
      "    X_list.append(csr_matrix(X[self.other_cols]))\n",
      "                  ^^^^^^^^^^^^^^^^^^^^^^^^^^^^^^\n",
      "  File \"/usr/local/lib/python3.11/dist-packages/scipy/sparse/_compressed.py\", line 94, in __init__\n",
      "    coo = self._coo_container(arg1, dtype=dtype)\n",
      "          ^^^^^^^^^^^^^^^^^^^^^^^^^^^^^^^^^^^^^^\n",
      "  File \"/usr/local/lib/python3.11/dist-packages/scipy/sparse/_coo.py\", line 95, in __init__\n",
      "    self.data = getdata(M[coords], copy=copy, dtype=dtype)\n",
      "                ^^^^^^^^^^^^^^^^^^^^^^^^^^^^^^^^^^^^^^^^^^\n",
      "  File \"/usr/local/lib/python3.11/dist-packages/scipy/sparse/_sputils.py\", line 150, in getdata\n",
      "    getdtype(data.dtype)\n",
      "  File \"/usr/local/lib/python3.11/dist-packages/scipy/sparse/_sputils.py\", line 137, in getdtype\n",
      "    raise ValueError(f\"scipy.sparse does not support dtype {newdtype.name}. \"\n",
      "ValueError: scipy.sparse does not support dtype float16. The only supported types are: bool_, int8, uint8, int16, uint16, int32, uint32, int64, uint64, longlong, ulonglong, float32, float64, longdouble, complex64, complex128, clongdouble.\n",
      "Fitting model: ExtraTrees_r42_BAG_L1 ... Training model for up to 230.50s of the 3217.44s of remaining time.\n",
      "\tForcing `use_child_oof=False` because `groups` is specified\n",
      "\tFitting 5 child models (S1F1 - S1F5) | Fitting with SequentialLocalFoldFittingStrategy\n",
      "\tWarning: Model is expected to require 12088.6s to train, which exceeds the maximum time limit of 23.7s, skipping model...\n",
      "\tTime limit exceeded... Skipping ExtraTrees_r42_BAG_L1.\n",
      "Fitting model: CatBoost_r137_BAG_L1 ... Training model for up to 30.70s of the 3017.64s of remaining time.\n",
      "\tFitting 5 child models (S1F1 - S1F5) | Fitting with SequentialLocalFoldFittingStrategy\n",
      "\tWarning: Model has no time left to train, skipping model... (Time Left = -6.0s)\n",
      "\tTime limit exceeded... Skipping CatBoost_r137_BAG_L1.\n",
      "Fitting model: CatBoost_r13_BAG_L1 ... Training model for up to 0.94s of the 2987.88s of remaining time.\n",
      "\tWarning: Model has no time left to train, skipping model... (Time Left = -9.0s)\n",
      "\tTime limit exceeded... Skipping CatBoost_r13_BAG_L1.\n",
      "Fitting model: WeightedEnsemble_L2 ... Training model for up to 596.94s of the 2976.33s of remaining time.\n",
      "\tEnsemble Weights: {'LightGBMXT_BAG_L1': 0.625, 'LightGBM_BAG_L1': 0.25, 'CatBoost_r177_BAG_L1': 0.125}\n",
      "\t0.124\t = Validation score   (pearsonr)\n",
      "\t2.06s\t = Training   runtime\n",
      "\t0.01s\t = Validation runtime\n",
      "Excluded models: ['FASTAI', 'RF', 'NN_TORCH', 'KNN'] (Specified by `excluded_model_types`)\n",
      "Fitting 54 L2 models, fit_strategy=\"sequential\" ...\n",
      "Fitting model: LightGBMXT_BAG_L2 ... Training model for up to 2974.19s of the 2973.99s of remaining time.\n",
      "\tFitting 5 child models (S1F1 - S1F5) | Fitting with SequentialLocalFoldFittingStrategy\n",
      "\t0.0823\t = Validation score   (pearsonr)\n",
      "\t475.89s\t = Training   runtime\n",
      "\t3.91s\t = Validation runtime\n",
      "Fitting model: LightGBM_BAG_L2 ... Training model for up to 2473.27s of the 2473.07s of remaining time.\n",
      "\tFitting 5 child models (S1F1 - S1F5) | Fitting with SequentialLocalFoldFittingStrategy\n",
      "\t0.0757\t = Validation score   (pearsonr)\n",
      "\t578.05s\t = Training   runtime\n",
      "\t4.35s\t = Validation runtime\n",
      "Fitting model: CatBoost_BAG_L2 ... Training model for up to 1869.53s of the 1869.33s of remaining time.\n",
      "\tFitting 5 child models (S1F1 - S1F5) | Fitting with SequentialLocalFoldFittingStrategy\n",
      "\t0.0858\t = Validation score   (pearsonr)\n",
      "\t913.33s\t = Training   runtime\n",
      "\t131.69s\t = Validation runtime\n",
      "Fitting model: ExtraTreesMSE_BAG_L2 ... Training model for up to 803.04s of the 802.84s of remaining time.\n",
      "\tForcing `use_child_oof=False` because `groups` is specified\n",
      "\tFitting 5 child models (S1F1 - S1F5) | Fitting with SequentialLocalFoldFittingStrategy\n",
      "\tWarning: Model is expected to require 16371.7s to train, which exceeds the maximum time limit of 117.6s, skipping model...\n",
      "\tTime limit exceeded... Skipping ExtraTreesMSE_BAG_L2.\n",
      "Fitting model: XGBoost_BAG_L2 ... Training model for up to 551.77s of the 551.57s of remaining time.\n",
      "\tFitting 5 child models (S1F1 - S1F5) | Fitting with SequentialLocalFoldFittingStrategy\n",
      "\t0.0077\t = Validation score   (pearsonr)\n",
      "\t490.0s\t = Training   runtime\n",
      "\t23.07s\t = Validation runtime\n",
      "Fitting model: LightGBMLarge_BAG_L2 ... Training model for up to 17.43s of the 17.23s of remaining time.\n",
      "\tFitting 5 child models (S1F1 - S1F5) | Fitting with SequentialLocalFoldFittingStrategy\n",
      "\tTime limit exceeded... Skipping LightGBMLarge_BAG_L2.\n",
      "Fitting model: WeightedEnsemble_L3 ... Training model for up to 360.00s of the -4.45s of remaining time.\n",
      "\tEnsemble Weights: {'LightGBMXT_BAG_L1': 0.55, 'LightGBM_BAG_L1': 0.2, 'CatBoost_BAG_L2': 0.1, 'CatBoost_r177_BAG_L1': 0.05, 'LightGBMXT_BAG_L2': 0.05, 'LightGBM_BAG_L2': 0.05}\n",
      "\t0.1248\t = Validation score   (pearsonr)\n",
      "\t3.4s\t = Training   runtime\n",
      "\t0.02s\t = Validation runtime\n",
      "AutoGluon training complete, total runtime = 9009.37s ... Best model: WeightedEnsemble_L3 | Estimated inference throughput: 221.3 rows/s (93491 batch size)\n",
      "TabularPredictor saved. To load, use: predictor = TabularPredictor.load(\"/logs/ds_sub_fit/sub_fit_ho\")\n",
      "Deleting DyStack predictor artifacts (clean_up_fits=True) ...\n",
      "Leaderboard on holdout data (DyStack):\n",
      "                   model  score_holdout  score_val eval_metric  pred_time_test  pred_time_val     fit_time  pred_time_test_marginal  pred_time_val_marginal  fit_time_marginal  stack_level  can_infer  fit_order\n",
      "0   LightGBMLarge_BAG_L1       0.858472   0.071758    pearsonr        4.186322       6.744056  1158.529819                 4.186322                6.744056        1158.529819            1       True          4\n",
      "1        LightGBM_BAG_L1       0.765936   0.101905    pearsonr        3.250926       5.454225   712.307670                 3.250926                5.454225         712.307670            1       True          2\n",
      "2        LightGBM_BAG_L2       0.718969   0.075729    pearsonr      181.697072     286.837915  5245.084053                 2.758233                4.347033         578.048755            2       True          9\n",
      "3    WeightedEnsemble_L2       0.714575   0.124038    pearsonr       88.481879     140.729683  2176.198169                 0.013979                0.014564           2.061179            2       True          7\n",
      "4    WeightedEnsemble_L3       0.713836   0.124763    pearsonr      267.038186     422.454704  6637.702460                 0.005945                0.016057           3.398219            3       True         12\n",
      "5      LightGBMXT_BAG_L1       0.647344   0.110196    pearsonr        2.480805       4.149046   518.011953                 2.480805                4.149046         518.011953            1       True          1\n",
      "6      LightGBMXT_BAG_L2       0.617457   0.082273    pearsonr      181.377455     286.401876  5142.920949                 2.438616                3.910995         475.885651            2       True          8\n",
      "7        CatBoost_BAG_L2       0.543873   0.085796    pearsonr      261.835392     414.180619  5580.369834                82.896553              131.689738         913.334537            2       True         10\n",
      "8   LightGBM_r131_BAG_L1       0.537099   0.015162    pearsonr        2.204008       3.707782   389.035779                 2.204008                3.707782         389.035779            1       True          6\n",
      "9         XGBoost_BAG_L2       0.507469   0.007714    pearsonr      190.543670     305.562226  5157.030801                11.604831               23.071344         489.995503            2       True         11\n",
      "10  CatBoost_r177_BAG_L1       0.497430   0.062838    pearsonr       82.736168     131.111848   943.817366                82.736168              131.111848         943.817366            1       True          5\n",
      "11       CatBoost_BAG_L1       0.460194   0.046762    pearsonr       84.080609     131.323925   945.332710                84.080609              131.323925         945.332710            1       True          3\n",
      "\t0\t = Optimal   num_stack_levels (Stacked Overfitting Occurred: True)\n",
      "\t9295s\t = DyStack   runtime |\t26705s\t = Remaining runtime\n",
      "Starting main fit with num_stack_levels=0.\n",
      "\tFor future fit calls on this dataset, you can skip DyStack to save time: `predictor.fit(..., dynamic_stacking=False, num_stack_levels=0)`\n",
      "Values in column 'fold' used as split folds instead of being automatically set. Bagged models will have 5 splits.\n",
      "Beginning AutoGluon training ... Time limit = 26705s\n",
      "AutoGluon will save models to \"/logs\"\n",
      "Train Data Rows:    525887\n",
      "Train Data Columns: 841\n",
      "Label Column:       label\n",
      "Problem Type:       regression\n",
      "Preprocessing data ...\n",
      "Using Feature Generators to preprocess the data ...\n",
      "Fitting AutoMLPipelineFeatureGenerator...\n",
      "\tAvailable Memory:                    13039.39 MB\n",
      "\tTrain Data (Original)  Memory Usage: 842.56 MB (6.5% of available memory)\n",
      "\tWarning: Data size prior to feature transformation consumes 6.5% of available memory. Consider increasing memory or subsampling the data to avoid instability.\n",
      "\tInferring data type of each feature based on column values. Set feature_metadata_in to manually specify special dtypes of the features.\n",
      "\tStage 1 Generators:\n",
      "\t\tFitting AsTypeFeatureGenerator...\n",
      "\tStage 2 Generators:\n",
      "\t\tFitting FillNaFeatureGenerator...\n",
      "\tStage 3 Generators:\n",
      "\t\tFitting IdentityFeatureGenerator...\n",
      "\tStage 4 Generators:\n",
      "\t\tFitting DropUniqueFeatureGenerator...\n",
      "\tStage 5 Generators:\n",
      "\t\tFitting DropDuplicatesFeatureGenerator...\n",
      "\tTypes of features in original data (raw dtype, special dtypes):\n",
      "\t\t('float', []) : 840 | ['bid_qty', 'ask_qty', 'buy_qty', 'sell_qty', 'volume', ...]\n",
      "\tTypes of features in processed data (raw dtype, special dtypes):\n",
      "\t\t('float', []) : 840 | ['bid_qty', 'ask_qty', 'buy_qty', 'sell_qty', 'volume', ...]\n",
      "\t41.1s = Fit runtime\n",
      "\t840 features in original data used to generate 840 features in processed data.\n",
      "\tTrain Data (Processed) Memory Usage: 842.56 MB (6.5% of available memory)\n",
      "Data preprocessing and feature engineering runtime = 43.42s ...\n",
      "AutoGluon will gauge predictive performance using evaluation metric: 'pearsonr'\n",
      "\tTo change this, specify the eval_metric parameter of Predictor()\n",
      "Large model count detected (112 configs) ... Only displaying the first 3 models of each family. To see all, set `verbosity=3`.\n",
      "User-specified model hyperparameters to be fit:\n",
      "{\n",
      "\t'NN_TORCH': [{}, {'activation': 'elu', 'dropout_prob': 0.10077639529843717, 'hidden_size': 108, 'learning_rate': 0.002735937344002146, 'num_layers': 4, 'use_batchnorm': True, 'weight_decay': 1.356433327634438e-12, 'ag_args': {'name_suffix': '_r79', 'priority': -2}}, {'activation': 'elu', 'dropout_prob': 0.11897478034205347, 'hidden_size': 213, 'learning_rate': 0.0010474382260641949, 'num_layers': 4, 'use_batchnorm': False, 'weight_decay': 5.594471067786272e-10, 'ag_args': {'name_suffix': '_r22', 'priority': -7}}],\n",
      "\t'GBM': [{'extra_trees': True, 'ag_args': {'name_suffix': 'XT'}}, {}, {'learning_rate': 0.03, 'num_leaves': 128, 'feature_fraction': 0.9, 'min_data_in_leaf': 3, 'ag_args': {'name_suffix': 'Large', 'priority': 0, 'hyperparameter_tune_kwargs': None}}],\n",
      "\t'CAT': [{}, {'depth': 6, 'grow_policy': 'SymmetricTree', 'l2_leaf_reg': 2.1542798306067823, 'learning_rate': 0.06864209415792857, 'max_ctr_complexity': 4, 'one_hot_max_size': 10, 'ag_args': {'name_suffix': '_r177', 'priority': -1}}, {'depth': 8, 'grow_policy': 'Depthwise', 'l2_leaf_reg': 2.7997999596449104, 'learning_rate': 0.031375015734637225, 'max_ctr_complexity': 2, 'one_hot_max_size': 3, 'ag_args': {'name_suffix': '_r9', 'priority': -5}}],\n",
      "\t'XGB': [{}, {'colsample_bytree': 0.6917311125174739, 'enable_categorical': False, 'learning_rate': 0.018063876087523967, 'max_depth': 10, 'min_child_weight': 0.6028633586934382, 'ag_args': {'name_suffix': '_r33', 'priority': -8}}, {'colsample_bytree': 0.6628423832084077, 'enable_categorical': False, 'learning_rate': 0.08775715546881824, 'max_depth': 5, 'min_child_weight': 0.6294123374222513, 'ag_args': {'name_suffix': '_r89', 'priority': -16}}],\n",
      "\t'FASTAI': [{}, {'bs': 256, 'emb_drop': 0.5411770367537934, 'epochs': 43, 'layers': [800, 400], 'lr': 0.01519848858318159, 'ps': 0.23782946566604385, 'ag_args': {'name_suffix': '_r191', 'priority': -4}}, {'bs': 2048, 'emb_drop': 0.05070411322605811, 'epochs': 29, 'layers': [200, 100], 'lr': 0.08974235041576624, 'ps': 0.10393466140748028, 'ag_args': {'name_suffix': '_r102', 'priority': -11}}],\n",
      "\t'RF': [{'criterion': 'gini', 'ag_args': {'name_suffix': 'Gini', 'problem_types': ['binary', 'multiclass']}}, {'criterion': 'entropy', 'ag_args': {'name_suffix': 'Entr', 'problem_types': ['binary', 'multiclass']}}, {'criterion': 'squared_error', 'ag_args': {'name_suffix': 'MSE', 'problem_types': ['regression', 'quantile']}}],\n",
      "\t'XT': [{'criterion': 'gini', 'ag_args': {'name_suffix': 'Gini', 'problem_types': ['binary', 'multiclass']}}, {'criterion': 'entropy', 'ag_args': {'name_suffix': 'Entr', 'problem_types': ['binary', 'multiclass']}}, {'criterion': 'squared_error', 'ag_args': {'name_suffix': 'MSE', 'problem_types': ['regression', 'quantile']}}],\n",
      "\t'KNN': [{'weights': 'uniform', 'ag_args': {'name_suffix': 'Unif'}}, {'weights': 'distance', 'ag_args': {'name_suffix': 'Dist'}}],\n",
      "}\n",
      "Excluded models: ['FASTAI', 'RF', 'NN_TORCH', 'KNN'] (Specified by `excluded_model_types`)\n",
      "Fitting 54 L1 models, fit_strategy=\"sequential\" ...\n",
      "Fitting model: LightGBMXT_BAG_L1 ... Training model for up to 26661.65s of the 26661.64s of remaining time.\n",
      "\tFitting 5 child models (S1F1 - S1F5) | Fitting with SequentialLocalFoldFittingStrategy\n",
      "\t0.0722\t = Validation score   (pearsonr)\n",
      "\t586.88s\t = Training   runtime\n",
      "\t4.13s\t = Validation runtime\n",
      "Fitting model: LightGBM_BAG_L1 ... Training model for up to 26048.76s of the 26048.75s of remaining time.\n",
      "\tFitting 5 child models (S1F1 - S1F5) | Fitting with SequentialLocalFoldFittingStrategy\n",
      "\t0.0868\t = Validation score   (pearsonr)\n",
      "\t717.31s\t = Training   runtime\n",
      "\t4.75s\t = Validation runtime\n",
      "Fitting model: CatBoost_BAG_L1 ... Training model for up to 25305.16s of the 25305.16s of remaining time.\n",
      "\tFitting 5 child models (S1F1 - S1F5) | Fitting with SequentialLocalFoldFittingStrategy\n",
      "\t0.0287\t = Validation score   (pearsonr)\n",
      "\t978.89s\t = Training   runtime\n",
      "\t147.04s\t = Validation runtime\n",
      "Fitting model: ExtraTreesMSE_BAG_L1 ... Training model for up to 24157.56s of the 24157.55s of remaining time.\n",
      "\tForcing `use_child_oof=False` because `groups` is specified\n",
      "\tFitting 5 child models (S1F1 - S1F5) | Fitting with SequentialLocalFoldFittingStrategy\n",
      "\tWarning: Reducing model 'n_estimators' from 300 -> 98 due to low time. Expected time usage reduced from 11750.7s -> 3853.8s...\n",
      "\tWarning: Reducing model 'n_estimators' from 300 -> 124 due to low time. Expected time usage reduced from 9890.2s -> 4091.7s...\n",
      "\tWarning: Reducing model 'n_estimators' from 300 -> 124 due to low time. Expected time usage reduced from 10530.7s -> 4378.1s...\n",
      "\tWarning: Reducing model 'n_estimators' from 300 -> 133 due to low time. Expected time usage reduced from 11192.1s -> 4972.6s...\n",
      "\tWarning: Reducing model 'n_estimators' from 300 -> 176 due to low time. Expected time usage reduced from 10513.3s -> 6177.4s...\n",
      "\t0.0554\t = Validation score   (pearsonr)\n",
      "\t22439.53s\t = Training   runtime\n",
      "\t13.89s\t = Validation runtime\n",
      "Fitting model: XGBoost_BAG_L1 ... Training model for up to 1671.43s of the 1671.42s of remaining time.\n",
      "\tFitting 5 child models (S1F1 - S1F5) | Fitting with SequentialLocalFoldFittingStrategy\n",
      "\tWarning: Exception caused XGBoost_BAG_L1 to fail during training... Skipping this model.\n",
      "\t\tscipy.sparse does not support dtype float16. The only supported types are: bool_, int8, uint8, int16, uint16, int32, uint32, int64, uint64, longlong, ulonglong, float32, float64, longdouble, complex64, complex128, clongdouble.\n",
      "Detailed Traceback:\n",
      "Traceback (most recent call last):\n",
      "  File \"/usr/local/lib/python3.11/dist-packages/autogluon/tabular/trainer/abstract_trainer.py\", line 2169, in _train_and_save\n",
      "    model = self._train_single(**model_fit_kwargs)\n",
      "            ^^^^^^^^^^^^^^^^^^^^^^^^^^^^^^^^^^^^^^\n",
      "  File \"/usr/local/lib/python3.11/dist-packages/autogluon/tabular/trainer/abstract_trainer.py\", line 2055, in _train_single\n",
      "    model = model.fit(X=X, y=y, X_val=X_val, y_val=y_val, X_test=X_test, y_test=y_test, total_resources=total_resources, **model_fit_kwargs)\n",
      "            ^^^^^^^^^^^^^^^^^^^^^^^^^^^^^^^^^^^^^^^^^^^^^^^^^^^^^^^^^^^^^^^^^^^^^^^^^^^^^^^^^^^^^^^^^^^^^^^^^^^^^^^^^^^^^^^^^^^^^^^^^^^^^^^^\n",
      "  File \"/usr/local/lib/python3.11/dist-packages/autogluon/core/models/abstract/abstract_model.py\", line 1051, in fit\n",
      "    out = self._fit(**kwargs)\n",
      "          ^^^^^^^^^^^^^^^^^^^\n",
      "  File \"/usr/local/lib/python3.11/dist-packages/autogluon/core/models/ensemble/stacker_ensemble_model.py\", line 270, in _fit\n",
      "    return super()._fit(X=X, y=y, time_limit=time_limit, **kwargs)\n",
      "           ^^^^^^^^^^^^^^^^^^^^^^^^^^^^^^^^^^^^^^^^^^^^^^^^^^^^^^^\n",
      "  File \"/usr/local/lib/python3.11/dist-packages/autogluon/core/models/ensemble/bagged_ensemble_model.py\", line 390, in _fit\n",
      "    self._fit_folds(\n",
      "  File \"/usr/local/lib/python3.11/dist-packages/autogluon/core/models/ensemble/bagged_ensemble_model.py\", line 848, in _fit_folds\n",
      "    fold_fitting_strategy.after_all_folds_scheduled()\n",
      "  File \"/usr/local/lib/python3.11/dist-packages/autogluon/core/models/ensemble/fold_fitting_strategy.py\", line 317, in after_all_folds_scheduled\n",
      "    self._fit_fold_model(job)\n",
      "  File \"/usr/local/lib/python3.11/dist-packages/autogluon/core/models/ensemble/fold_fitting_strategy.py\", line 322, in _fit_fold_model\n",
      "    fold_model = self._fit(self.model_base, time_start_fold, time_limit_fold, fold_ctx, self.model_base_kwargs)\n",
      "                 ^^^^^^^^^^^^^^^^^^^^^^^^^^^^^^^^^^^^^^^^^^^^^^^^^^^^^^^^^^^^^^^^^^^^^^^^^^^^^^^^^^^^^^^^^^^^^^\n",
      "  File \"/usr/local/lib/python3.11/dist-packages/autogluon/core/models/ensemble/fold_fitting_strategy.py\", line 358, in _fit\n",
      "    fold_model.fit(X=X_fold, y=y_fold, X_val=X_val_fold, y_val=y_val_fold, time_limit=time_limit_fold, num_cpus=num_cpus, num_gpus=num_gpus, **kwargs_fold)\n",
      "  File \"/usr/local/lib/python3.11/dist-packages/autogluon/core/models/abstract/abstract_model.py\", line 1051, in fit\n",
      "    out = self._fit(**kwargs)\n",
      "          ^^^^^^^^^^^^^^^^^^^\n",
      "  File \"/usr/local/lib/python3.11/dist-packages/autogluon/tabular/models/xgboost/xgboost_model.py\", line 114, in _fit\n",
      "    X = self.preprocess(X, is_train=True, max_category_levels=max_category_levels)\n",
      "        ^^^^^^^^^^^^^^^^^^^^^^^^^^^^^^^^^^^^^^^^^^^^^^^^^^^^^^^^^^^^^^^^^^^^^^^^^^\n",
      "  File \"/usr/local/lib/python3.11/dist-packages/autogluon/core/models/abstract/abstract_model.py\", line 546, in preprocess\n",
      "    X = self._preprocess(X, **kwargs)\n",
      "        ^^^^^^^^^^^^^^^^^^^^^^^^^^^^^\n",
      "  File \"/usr/local/lib/python3.11/dist-packages/autogluon/tabular/models/xgboost/xgboost_model.py\", line 74, in _preprocess\n",
      "    X = self._ohe_generator.transform(X)\n",
      "        ^^^^^^^^^^^^^^^^^^^^^^^^^^^^^^^^\n",
      "  File \"/usr/local/lib/python3.11/dist-packages/sklearn/utils/_set_output.py\", line 316, in wrapped\n",
      "    data_to_wrap = f(self, X, *args, **kwargs)\n",
      "                   ^^^^^^^^^^^^^^^^^^^^^^^^^^^\n",
      "  File \"/usr/local/lib/python3.11/dist-packages/autogluon/tabular/models/xgboost/xgboost_utils.py\", line 157, in transform\n",
      "    X_list.append(csr_matrix(X[self.other_cols]))\n",
      "                  ^^^^^^^^^^^^^^^^^^^^^^^^^^^^^^\n",
      "  File \"/usr/local/lib/python3.11/dist-packages/scipy/sparse/_compressed.py\", line 94, in __init__\n",
      "    coo = self._coo_container(arg1, dtype=dtype)\n",
      "          ^^^^^^^^^^^^^^^^^^^^^^^^^^^^^^^^^^^^^^\n",
      "  File \"/usr/local/lib/python3.11/dist-packages/scipy/sparse/_coo.py\", line 95, in __init__\n",
      "    self.data = getdata(M[coords], copy=copy, dtype=dtype)\n",
      "                ^^^^^^^^^^^^^^^^^^^^^^^^^^^^^^^^^^^^^^^^^^\n",
      "  File \"/usr/local/lib/python3.11/dist-packages/scipy/sparse/_sputils.py\", line 150, in getdata\n",
      "    getdtype(data.dtype)\n",
      "  File \"/usr/local/lib/python3.11/dist-packages/scipy/sparse/_sputils.py\", line 137, in getdtype\n",
      "    raise ValueError(f\"scipy.sparse does not support dtype {newdtype.name}. \"\n",
      "ValueError: scipy.sparse does not support dtype float16. The only supported types are: bool_, int8, uint8, int16, uint16, int32, uint32, int64, uint64, longlong, ulonglong, float32, float64, longdouble, complex64, complex128, clongdouble.\n",
      "Fitting model: LightGBMLarge_BAG_L1 ... Training model for up to 1619.78s of the 1619.78s of remaining time.\n",
      "\tFitting 5 child models (S1F1 - S1F5) | Fitting with SequentialLocalFoldFittingStrategy\n",
      "\tRan out of time, early stopping on iteration 230. Best iteration is:\n",
      "\t[224]\tvalid_set's l2: 1.12054\tvalid_set's pearsonr: 0.0364438\n",
      "\t0.0851\t = Validation score   (pearsonr)\n",
      "\t1121.61s\t = Training   runtime\n",
      "\t7.0s\t = Validation runtime\n",
      "Fitting model: CatBoost_r177_BAG_L1 ... Training model for up to 463.70s of the 463.69s of remaining time.\n",
      "\tFitting 5 child models (S1F1 - S1F5) | Fitting with SequentialLocalFoldFittingStrategy\n",
      "\tTime limit exceeded... Skipping CatBoost_r177_BAG_L1.\n",
      "Fitting model: LightGBM_r131_BAG_L1 ... Training model for up to 284.02s of the 284.01s of remaining time.\n",
      "\tFitting 5 child models (S1F1 - S1F5) | Fitting with SequentialLocalFoldFittingStrategy\n",
      "\tRan out of time, early stopping on iteration 1. Best iteration is:\n",
      "\t[1]\tvalid_set's l2: 1.0188\tvalid_set's pearsonr: 0.0141197\n",
      "\tTime limit exceeded... Skipping LightGBM_r131_BAG_L1.\n",
      "Fitting model: CatBoost_r9_BAG_L1 ... Training model for up to 194.71s of the 194.70s of remaining time.\n",
      "\tFitting 5 child models (S1F1 - S1F5) | Fitting with SequentialLocalFoldFittingStrategy\n",
      "\tTime limit exceeded... Skipping CatBoost_r9_BAG_L1.\n",
      "Fitting model: LightGBM_r96_BAG_L1 ... Training model for up to 17.93s of the 17.92s of remaining time.\n",
      "\tFitting 5 child models (S1F1 - S1F5) | Fitting with SequentialLocalFoldFittingStrategy\n",
      "\tTime limit exceeded... Skipping LightGBM_r96_BAG_L1.\n",
      "Fitting model: WeightedEnsemble_L2 ... Training model for up to 2666.16s of the -3.48s of remaining time.\n",
      "\tEnsemble Weights: {'LightGBMXT_BAG_L1': 0.429, 'LightGBM_BAG_L1': 0.286, 'LightGBMLarge_BAG_L1': 0.238, 'CatBoost_BAG_L1': 0.048}\n",
      "\t0.103\t = Validation score   (pearsonr)\n",
      "\t1.95s\t = Training   runtime\n",
      "\t0.01s\t = Validation runtime\n",
      "AutoGluon training complete, total runtime = 26711.46s ... Best model: WeightedEnsemble_L2 | Estimated inference throughput: 645.6 rows/s (105178 batch size)\n",
      "TabularPredictor saved. To load, use: predictor = TabularPredictor.load(\"/logs\")\n"
     ]
    },
    {
     "data": {
      "text/plain": [
       "<autogluon.tabular.predictor.predictor.TabularPredictor at 0x796ee067de90>"
      ]
     },
     "execution_count": 10,
     "metadata": {},
     "output_type": "execute_result"
    }
   ],
   "source": [
    "predictor.fit(\n",
    "    train_data=train,\n",
    "    time_limit=CFG.time_limit,\n",
    "    presets=\"best_quality\",\n",
    "    excluded_model_types=[\"NN_TORCH\", \"KNN\", \"RF\", \"FASTAI\"]\n",
    ")"
   ]
  },
  {
   "cell_type": "code",
   "execution_count": 11,
   "id": "2976d3ad",
   "metadata": {
    "execution": {
     "iopub.execute_input": "2025-05-25T05:38:01.987738Z",
     "iopub.status.busy": "2025-05-25T05:38:01.987404Z",
     "iopub.status.idle": "2025-05-25T05:38:02.092910Z",
     "shell.execute_reply": "2025-05-25T05:38:02.091830Z"
    },
    "papermill": {
     "duration": 0.129752,
     "end_time": "2025-05-25T05:38:02.094649",
     "exception": false,
     "start_time": "2025-05-25T05:38:01.964897",
     "status": "completed"
    },
    "tags": []
   },
   "outputs": [
    {
     "data": {
      "text/html": [
       "<style type=\"text/css\">\n",
       "#T_fdb40_row0_col1 {\n",
       "  background-color: #006837;\n",
       "  color: #f1f1f1;\n",
       "}\n",
       "#T_fdb40_row1_col1 {\n",
       "  background-color: #70c164;\n",
       "  color: #000000;\n",
       "}\n",
       "#T_fdb40_row2_col1 {\n",
       "  background-color: #7fc866;\n",
       "  color: #000000;\n",
       "}\n",
       "#T_fdb40_row3_col1 {\n",
       "  background-color: #ddf191;\n",
       "  color: #000000;\n",
       "}\n",
       "#T_fdb40_row4_col1 {\n",
       "  background-color: #fecc7b;\n",
       "  color: #000000;\n",
       "}\n",
       "#T_fdb40_row5_col1 {\n",
       "  background-color: #a50026;\n",
       "  color: #f1f1f1;\n",
       "}\n",
       "</style>\n",
       "<table id=\"T_fdb40\">\n",
       "  <thead>\n",
       "    <tr>\n",
       "      <th class=\"blank level0\" >&nbsp;</th>\n",
       "      <th id=\"T_fdb40_level0_col0\" class=\"col_heading level0 col0\" >model</th>\n",
       "      <th id=\"T_fdb40_level0_col1\" class=\"col_heading level0 col1\" >score_val</th>\n",
       "      <th id=\"T_fdb40_level0_col2\" class=\"col_heading level0 col2\" >eval_metric</th>\n",
       "      <th id=\"T_fdb40_level0_col3\" class=\"col_heading level0 col3\" >pred_time_val</th>\n",
       "      <th id=\"T_fdb40_level0_col4\" class=\"col_heading level0 col4\" >fit_time</th>\n",
       "      <th id=\"T_fdb40_level0_col5\" class=\"col_heading level0 col5\" >pred_time_val_marginal</th>\n",
       "      <th id=\"T_fdb40_level0_col6\" class=\"col_heading level0 col6\" >fit_time_marginal</th>\n",
       "      <th id=\"T_fdb40_level0_col7\" class=\"col_heading level0 col7\" >stack_level</th>\n",
       "      <th id=\"T_fdb40_level0_col8\" class=\"col_heading level0 col8\" >can_infer</th>\n",
       "      <th id=\"T_fdb40_level0_col9\" class=\"col_heading level0 col9\" >fit_order</th>\n",
       "    </tr>\n",
       "  </thead>\n",
       "  <tbody>\n",
       "    <tr>\n",
       "      <th id=\"T_fdb40_level0_row0\" class=\"row_heading level0 row0\" >0</th>\n",
       "      <td id=\"T_fdb40_row0_col0\" class=\"data row0 col0\" >WeightedEnsemble_L2</td>\n",
       "      <td id=\"T_fdb40_row0_col1\" class=\"data row0 col1\" >0.102961</td>\n",
       "      <td id=\"T_fdb40_row0_col2\" class=\"data row0 col2\" >pearsonr</td>\n",
       "      <td id=\"T_fdb40_row0_col3\" class=\"data row0 col3\" >162.932730</td>\n",
       "      <td id=\"T_fdb40_row0_col4\" class=\"data row0 col4\" >3406.635838</td>\n",
       "      <td id=\"T_fdb40_row0_col5\" class=\"data row0 col5\" >0.013575</td>\n",
       "      <td id=\"T_fdb40_row0_col6\" class=\"data row0 col6\" >1.947756</td>\n",
       "      <td id=\"T_fdb40_row0_col7\" class=\"data row0 col7\" >2</td>\n",
       "      <td id=\"T_fdb40_row0_col8\" class=\"data row0 col8\" >True</td>\n",
       "      <td id=\"T_fdb40_row0_col9\" class=\"data row0 col9\" >6</td>\n",
       "    </tr>\n",
       "    <tr>\n",
       "      <th id=\"T_fdb40_level0_row1\" class=\"row_heading level0 row1\" >1</th>\n",
       "      <td id=\"T_fdb40_row1_col0\" class=\"data row1 col0\" >LightGBM_BAG_L1</td>\n",
       "      <td id=\"T_fdb40_row1_col1\" class=\"data row1 col1\" >0.086754</td>\n",
       "      <td id=\"T_fdb40_row1_col2\" class=\"data row1 col2\" >pearsonr</td>\n",
       "      <td id=\"T_fdb40_row1_col3\" class=\"data row1 col3\" >4.745201</td>\n",
       "      <td id=\"T_fdb40_row1_col4\" class=\"data row1 col4\" >717.307378</td>\n",
       "      <td id=\"T_fdb40_row1_col5\" class=\"data row1 col5\" >4.745201</td>\n",
       "      <td id=\"T_fdb40_row1_col6\" class=\"data row1 col6\" >717.307378</td>\n",
       "      <td id=\"T_fdb40_row1_col7\" class=\"data row1 col7\" >1</td>\n",
       "      <td id=\"T_fdb40_row1_col8\" class=\"data row1 col8\" >True</td>\n",
       "      <td id=\"T_fdb40_row1_col9\" class=\"data row1 col9\" >2</td>\n",
       "    </tr>\n",
       "    <tr>\n",
       "      <th id=\"T_fdb40_level0_row2\" class=\"row_heading level0 row2\" >2</th>\n",
       "      <td id=\"T_fdb40_row2_col0\" class=\"data row2 col0\" >LightGBMLarge_BAG_L1</td>\n",
       "      <td id=\"T_fdb40_row2_col1\" class=\"data row2 col1\" >0.085142</td>\n",
       "      <td id=\"T_fdb40_row2_col2\" class=\"data row2 col2\" >pearsonr</td>\n",
       "      <td id=\"T_fdb40_row2_col3\" class=\"data row2 col3\" >6.995415</td>\n",
       "      <td id=\"T_fdb40_row2_col4\" class=\"data row2 col4\" >1121.613872</td>\n",
       "      <td id=\"T_fdb40_row2_col5\" class=\"data row2 col5\" >6.995415</td>\n",
       "      <td id=\"T_fdb40_row2_col6\" class=\"data row2 col6\" >1121.613872</td>\n",
       "      <td id=\"T_fdb40_row2_col7\" class=\"data row2 col7\" >1</td>\n",
       "      <td id=\"T_fdb40_row2_col8\" class=\"data row2 col8\" >True</td>\n",
       "      <td id=\"T_fdb40_row2_col9\" class=\"data row2 col9\" >5</td>\n",
       "    </tr>\n",
       "    <tr>\n",
       "      <th id=\"T_fdb40_level0_row3\" class=\"row_heading level0 row3\" >3</th>\n",
       "      <td id=\"T_fdb40_row3_col0\" class=\"data row3 col0\" >LightGBMXT_BAG_L1</td>\n",
       "      <td id=\"T_fdb40_row3_col1\" class=\"data row3 col1\" >0.072219</td>\n",
       "      <td id=\"T_fdb40_row3_col2\" class=\"data row3 col2\" >pearsonr</td>\n",
       "      <td id=\"T_fdb40_row3_col3\" class=\"data row3 col3\" >4.134359</td>\n",
       "      <td id=\"T_fdb40_row3_col4\" class=\"data row3 col4\" >586.879215</td>\n",
       "      <td id=\"T_fdb40_row3_col5\" class=\"data row3 col5\" >4.134359</td>\n",
       "      <td id=\"T_fdb40_row3_col6\" class=\"data row3 col6\" >586.879215</td>\n",
       "      <td id=\"T_fdb40_row3_col7\" class=\"data row3 col7\" >1</td>\n",
       "      <td id=\"T_fdb40_row3_col8\" class=\"data row3 col8\" >True</td>\n",
       "      <td id=\"T_fdb40_row3_col9\" class=\"data row3 col9\" >1</td>\n",
       "    </tr>\n",
       "    <tr>\n",
       "      <th id=\"T_fdb40_level0_row4\" class=\"row_heading level0 row4\" >4</th>\n",
       "      <td id=\"T_fdb40_row4_col0\" class=\"data row4 col0\" >ExtraTreesMSE_BAG_L1</td>\n",
       "      <td id=\"T_fdb40_row4_col1\" class=\"data row4 col1\" >0.055399</td>\n",
       "      <td id=\"T_fdb40_row4_col2\" class=\"data row4 col2\" >pearsonr</td>\n",
       "      <td id=\"T_fdb40_row4_col3\" class=\"data row4 col3\" >13.889879</td>\n",
       "      <td id=\"T_fdb40_row4_col4\" class=\"data row4 col4\" >22439.531391</td>\n",
       "      <td id=\"T_fdb40_row4_col5\" class=\"data row4 col5\" >13.889879</td>\n",
       "      <td id=\"T_fdb40_row4_col6\" class=\"data row4 col6\" >22439.531391</td>\n",
       "      <td id=\"T_fdb40_row4_col7\" class=\"data row4 col7\" >1</td>\n",
       "      <td id=\"T_fdb40_row4_col8\" class=\"data row4 col8\" >True</td>\n",
       "      <td id=\"T_fdb40_row4_col9\" class=\"data row4 col9\" >4</td>\n",
       "    </tr>\n",
       "    <tr>\n",
       "      <th id=\"T_fdb40_level0_row5\" class=\"row_heading level0 row5\" >5</th>\n",
       "      <td id=\"T_fdb40_row5_col0\" class=\"data row5 col0\" >CatBoost_BAG_L1</td>\n",
       "      <td id=\"T_fdb40_row5_col1\" class=\"data row5 col1\" >0.028652</td>\n",
       "      <td id=\"T_fdb40_row5_col2\" class=\"data row5 col2\" >pearsonr</td>\n",
       "      <td id=\"T_fdb40_row5_col3\" class=\"data row5 col3\" >147.044179</td>\n",
       "      <td id=\"T_fdb40_row5_col4\" class=\"data row5 col4\" >978.887617</td>\n",
       "      <td id=\"T_fdb40_row5_col5\" class=\"data row5 col5\" >147.044179</td>\n",
       "      <td id=\"T_fdb40_row5_col6\" class=\"data row5 col6\" >978.887617</td>\n",
       "      <td id=\"T_fdb40_row5_col7\" class=\"data row5 col7\" >1</td>\n",
       "      <td id=\"T_fdb40_row5_col8\" class=\"data row5 col8\" >True</td>\n",
       "      <td id=\"T_fdb40_row5_col9\" class=\"data row5 col9\" >3</td>\n",
       "    </tr>\n",
       "  </tbody>\n",
       "</table>\n"
      ],
      "text/plain": [
       "<pandas.io.formats.style.Styler at 0x796ee3e2a810>"
      ]
     },
     "execution_count": 11,
     "metadata": {},
     "output_type": "execute_result"
    }
   ],
   "source": [
    "predictor.leaderboard(silent=True).style.background_gradient(subset=[\"score_val\"], cmap=\"RdYlGn\")"
   ]
  },
  {
   "cell_type": "markdown",
   "id": "064e77de",
   "metadata": {
    "papermill": {
     "duration": 0.017233,
     "end_time": "2025-05-25T05:38:02.129643",
     "exception": false,
     "start_time": "2025-05-25T05:38:02.112410",
     "status": "completed"
    },
    "tags": []
   },
   "source": [
    "# Visualizing the ensemble weights"
   ]
  },
  {
   "cell_type": "code",
   "execution_count": 12,
   "id": "871f27dd",
   "metadata": {
    "execution": {
     "iopub.execute_input": "2025-05-25T05:38:02.166344Z",
     "iopub.status.busy": "2025-05-25T05:38:02.165947Z",
     "iopub.status.idle": "2025-05-25T05:38:02.171286Z",
     "shell.execute_reply": "2025-05-25T05:38:02.170461Z"
    },
    "papermill": {
     "duration": 0.025066,
     "end_time": "2025-05-25T05:38:02.172842",
     "exception": false,
     "start_time": "2025-05-25T05:38:02.147776",
     "status": "completed"
    },
    "tags": []
   },
   "outputs": [],
   "source": [
    "def get_ensemble_weights(predictor):\n",
    "    info = predictor.info()\n",
    "    ensemble_weights = {}\n",
    "    for model_name, values in info[\"model_info\"].items():\n",
    "        if \"Ensemble\" in model_name:\n",
    "            children_info = values[\"children_info\"]\n",
    "            ensemble_weights[model_name] = values[\"children_info\"][list(children_info.keys())[0]][\"model_weights\"]\n",
    "    return ensemble_weights"
   ]
  },
  {
   "cell_type": "code",
   "execution_count": 13,
   "id": "27307df8",
   "metadata": {
    "execution": {
     "iopub.execute_input": "2025-05-25T05:38:02.209897Z",
     "iopub.status.busy": "2025-05-25T05:38:02.209565Z",
     "iopub.status.idle": "2025-05-25T05:38:17.766631Z",
     "shell.execute_reply": "2025-05-25T05:38:17.765515Z"
    },
    "papermill": {
     "duration": 15.57731,
     "end_time": "2025-05-25T05:38:17.768593",
     "exception": false,
     "start_time": "2025-05-25T05:38:02.191283",
     "status": "completed"
    },
    "tags": []
   },
   "outputs": [
    {
     "data": {
      "image/png": "[encoded data removed]",
      "text/plain": [
       "<Figure size 600x600 with 1 Axes>"
      ]
     },
     "metadata": {},
     "output_type": "display_data"
    }
   ],
   "source": [
    "ensemble_weights = get_ensemble_weights(predictor)\n",
    "\n",
    "for key, value in ensemble_weights.items():\n",
    "    plt.figure(figsize=(6, 6))\n",
    "    plt.pie(value.values(), labels=value.keys(), autopct=\"%1.1f%%\", colors=sns.color_palette(\"Set2\", len(value)))\n",
    "    plt.title(key)\n",
    "    plt.tight_layout()\n",
    "    plt.show()"
   ]
  },
  {
   "cell_type": "markdown",
   "id": "83367e89",
   "metadata": {
    "papermill": {
     "duration": 0.017783,
     "end_time": "2025-05-25T05:38:17.805209",
     "exception": false,
     "start_time": "2025-05-25T05:38:17.787426",
     "status": "completed"
    },
    "tags": []
   },
   "source": [
    "# Collecting and saving OOF files"
   ]
  },
  {
   "cell_type": "code",
   "execution_count": 14,
   "id": "16203f44",
   "metadata": {
    "execution": {
     "iopub.execute_input": "2025-05-25T05:38:17.843270Z",
     "iopub.status.busy": "2025-05-25T05:38:17.842918Z",
     "iopub.status.idle": "2025-05-25T05:38:17.849796Z",
     "shell.execute_reply": "2025-05-25T05:38:17.848862Z"
    },
    "papermill": {
     "duration": 0.028295,
     "end_time": "2025-05-25T05:38:17.851791",
     "exception": false,
     "start_time": "2025-05-25T05:38:17.823496",
     "status": "completed"
    },
    "tags": []
   },
   "outputs": [],
   "source": [
    "def save_preds(preds, cv_score, name, type, is_ensemble):\n",
    "    base_path = \"oof_preds\" if type == \"oof\" else \"test_preds\"\n",
    "    base_path = \".\" if is_ensemble else base_path\n",
    "    joblib.dump(preds, f\"{base_path}/{name}_{type}_preds_{cv_score:.6f}.pkl\")\n",
    "\n",
    "def save_submission(test_preds, score):\n",
    "    sub = pd.read_csv(CFG.sample_sub_path)\n",
    "    sub[\"prediction\"] = test_preds\n",
    "    sub.to_csv(f\"sub_autogluon_{score:.6f}.csv\", index=False)\n",
    "    \n",
    "os.makedirs(\"oof_preds\", exist_ok=True)\n",
    "os.makedirs(\"test_preds\", exist_ok=True)"
   ]
  },
  {
   "cell_type": "code",
   "execution_count": 15,
   "id": "b1e7a1b5",
   "metadata": {
    "execution": {
     "iopub.execute_input": "2025-05-25T05:38:17.891296Z",
     "iopub.status.busy": "2025-05-25T05:38:17.890273Z",
     "iopub.status.idle": "2025-05-25T05:38:17.897182Z",
     "shell.execute_reply": "2025-05-25T05:38:17.896398Z"
    },
    "papermill": {
     "duration": 0.028929,
     "end_time": "2025-05-25T05:38:17.899412",
     "exception": false,
     "start_time": "2025-05-25T05:38:17.870483",
     "status": "completed"
    },
    "tags": []
   },
   "outputs": [],
   "source": [
    "oof_preds = {}\n",
    "test_preds = {}"
   ]
  },
  {
   "cell_type": "code",
   "execution_count": 16,
   "id": "2a2af0e8",
   "metadata": {
    "_kg_hide-output": true,
    "execution": {
     "iopub.execute_input": "2025-05-25T05:38:17.941495Z",
     "iopub.status.busy": "2025-05-25T05:38:17.941138Z",
     "iopub.status.idle": "2025-05-25T05:55:11.816087Z",
     "shell.execute_reply": "2025-05-25T05:55:11.814811Z"
    },
    "papermill": {
     "duration": 1013.897562,
     "end_time": "2025-05-25T05:55:11.819003",
     "exception": false,
     "start_time": "2025-05-25T05:38:17.921441",
     "status": "completed"
    },
    "tags": []
   },
   "outputs": [],
   "source": [
    "best_model = predictor.model_best\n",
    "_test_preds = predictor.predict_multi(test)\n",
    "for model in predictor.model_names():\n",
    "    model_oof_preds = predictor.predict_oof(model).values\n",
    "    model_test_preds = _test_preds[model].values\n",
    "    \n",
    "    cv_score = pearsonr(train[CFG.target], model_oof_preds)[0]\n",
    "    if model != best_model:\n",
    "        save_preds(model_oof_preds, cv_score, model, \"oof\", False)\n",
    "        save_preds(model_test_preds, cv_score, model, \"test\", False)\n",
    "    else:\n",
    "        save_preds(model_oof_preds, cv_score, model, \"oof\", True)\n",
    "        save_preds(model_test_preds, cv_score, model, \"test\", True)\n",
    "        save_submission(model_test_preds, cv_score)\n",
    "        \n",
    "    oof_preds[model] = model_oof_preds\n",
    "    test_preds[model] = model_test_preds"
   ]
  },
  {
   "cell_type": "markdown",
   "id": "19e7ecea",
   "metadata": {
    "papermill": {
     "duration": 0.018557,
     "end_time": "2025-05-25T05:55:11.858184",
     "exception": false,
     "start_time": "2025-05-25T05:55:11.839627",
     "status": "completed"
    },
    "tags": []
   },
   "source": [
    "# Visualizing the results"
   ]
  },
  {
   "cell_type": "code",
   "execution_count": 17,
   "id": "3be0c663",
   "metadata": {
    "execution": {
     "iopub.execute_input": "2025-05-25T05:55:11.897014Z",
     "iopub.status.busy": "2025-05-25T05:55:11.896443Z",
     "iopub.status.idle": "2025-05-25T05:55:12.183601Z",
     "shell.execute_reply": "2025-05-25T05:55:12.182562Z"
    },
    "papermill": {
     "duration": 0.30868,
     "end_time": "2025-05-25T05:55:12.185532",
     "exception": false,
     "start_time": "2025-05-25T05:55:11.876852",
     "status": "completed"
    },
    "tags": []
   },
   "outputs": [],
   "source": [
    "scores = {}\n",
    "split = KFold(n_splits=CFG.n_folds, shuffle=False).split(train, train[CFG.target])\n",
    "for fold_idx, (train_index, val_index) in enumerate(split):\n",
    "    for model in predictor.model_names():\n",
    "        fold_score = pearsonr(train.loc[val_index, CFG.target], oof_preds[model][val_index])[0]\n",
    "        if model not in scores:\n",
    "            scores[model] = []\n",
    "        scores[model].append(fold_score)"
   ]
  },
  {
   "cell_type": "code",
   "execution_count": 18,
   "id": "a85a875b",
   "metadata": {
    "execution": {
     "iopub.execute_input": "2025-05-25T05:55:12.224918Z",
     "iopub.status.busy": "2025-05-25T05:55:12.224532Z",
     "iopub.status.idle": "2025-05-25T05:55:12.651976Z",
     "shell.execute_reply": "2025-05-25T05:55:12.651031Z"
    },
    "papermill": {
     "duration": 0.448817,
     "end_time": "2025-05-25T05:55:12.653549",
     "exception": false,
     "start_time": "2025-05-25T05:55:12.204732",
     "status": "completed"
    },
    "tags": []
   },
   "outputs": [
    {
     "data": {
      "image/png": "[encoded data removed]",
      "text/plain": [
       "<Figure size 1200x240 with 2 Axes>"
      ]
     },
     "metadata": {},
     "output_type": "display_data"
    }
   ],
   "source": [
    "scores = pd.DataFrame(scores)\n",
    "mean_scores = scores.mean().sort_values(ascending=False)\n",
    "order = scores.mean().sort_values(ascending=False).index.tolist()\n",
    "\n",
    "min_score = mean_scores.min()\n",
    "max_score = mean_scores.max()\n",
    "padding = (max_score - min_score) * 0.5\n",
    "lower_limit = min_score - padding\n",
    "upper_limit = max_score + padding\n",
    "\n",
    "fig, axs = plt.subplots(1, 2, figsize=(12, scores.shape[1] * 0.4))\n",
    "\n",
    "sns.boxplot(data=scores, order=order, ax=axs[0], orient=\"h\", palette=\"RdYlGn_r\")\n",
    "axs[0].set_title(\"Fold Score\")\n",
    "axs[0].set_xlabel(\"\")\n",
    "axs[0].set_ylabel(\"\")\n",
    "\n",
    "barplot = sns.barplot(x=mean_scores.values, y=mean_scores.index, ax=axs[1], palette=\"RdYlGn_r\")\n",
    "axs[1].set_title(\"Average Score\")\n",
    "axs[1].set_xlabel(\"\")\n",
    "axs[1].set_xlim(left=lower_limit, right=upper_limit)\n",
    "axs[1].set_ylabel(\"\")\n",
    "\n",
    "for i, score in enumerate(mean_scores.values):\n",
    "    barplot.text(score, i, round(score, 6), va=\"center\")\n",
    "\n",
    "plt.tight_layout()\n",
    "plt.show()"
   ]
  }
 ],
 "metadata": {
  "kaggle": {
   "accelerator": "none",
   "dataSources": [
    {
     "databundleVersionId": 11418275,
     "sourceId": 96164,
     "sourceType": "competition"
    }
   ],
   "dockerImageVersionId": 31040,
   "isGpuEnabled": false,
   "isInternetEnabled": true,
   "language": "python",
   "sourceType": "notebook"
  },
  "kernelspec": {
   "display_name": ".venv",
   "language": "python",
   "name": "python3"
  },
  "language_info": {
   "codemirror_mode": {
    "name": "ipython",
    "version": 3
   },
   "file_extension": ".py",
   "mimetype": "text/x-python",
   "name": "python",
   "nbconvert_exporter": "python",
   "pygments_lexer": "ipython3",
   "version": "3.11.11"
  },
  "papermill": {
   "default_parameters": {},
   "duration": 37132.340391,
   "end_time": "2025-05-25T05:55:16.731065",
   "environment_variables": {},
   "exception": null,
   "input_path": "__notebook__.ipynb",
   "output_path": "__notebook__.ipynb",
   "parameters": {},
   "start_time": "2025-05-24T19:36:24.390674",
   "version": "2.6.0"
  }
 },
 "nbformat": 4,
 "nbformat_minor": 5
}
