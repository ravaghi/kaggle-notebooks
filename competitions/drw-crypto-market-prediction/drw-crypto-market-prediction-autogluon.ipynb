{
 "cells": [
  {
   "cell_type": "markdown",
   "id": "eabd1c6a",
   "metadata": {
    "papermill": {
     "duration": 0.004884,
     "end_time": "2025-05-28T09:31:09.316484",
     "exception": false,
     "start_time": "2025-05-28T09:31:09.311600",
     "status": "completed"
    },
    "tags": []
   },
   "source": [
    "# Imports and configs"
   ]
  },
  {
   "cell_type": "code",
   "execution_count": 1,
   "id": "e9d9094b",
   "metadata": {
    "_cell_guid": "b1076dfc-b9ad-4769-8c92-a6c4dae69d19",
    "_kg_hide-output": true,
    "_uuid": "8f2839f25d086af736a60e9eeb907d3b93b6e0e5",
    "execution": {
     "iopub.execute_input": "2025-05-28T09:31:09.326203Z",
     "iopub.status.busy": "2025-05-28T09:31:09.325762Z",
     "iopub.status.idle": "2025-05-28T09:31:23.936210Z",
     "shell.execute_reply": "2025-05-28T09:31:23.934918Z"
    },
    "papermill": {
     "duration": 14.61724,
     "end_time": "2025-05-28T09:31:23.937966",
     "exception": false,
     "start_time": "2025-05-28T09:31:09.320726",
     "status": "completed"
    },
    "tags": []
   },
   "outputs": [
    {
     "name": "stdout",
     "output_type": "stream",
     "text": [
      "\u001b[2K   \u001b[90m━━━━━━━━━━━━━━━━━━━━━━━━━━━━━━━━━━━━━━━━\u001b[0m \u001b[32m13.3/13.3 MB\u001b[0m \u001b[31m60.3 MB/s\u001b[0m eta \u001b[36m0:00:00\u001b[0m\r\n",
      "\u001b[2K   \u001b[90m━━━━━━━━━━━━━━━━━━━━━━━━━━━━━━━━━━━━━━━━\u001b[0m \u001b[32m382.4/382.4 kB\u001b[0m \u001b[31m20.0 MB/s\u001b[0m eta \u001b[36m0:00:00\u001b[0m\r\n",
      "\u001b[2K   \u001b[90m━━━━━━━━━━━━━━━━━━━━━━━━━━━━━━━━━━━━━━━━\u001b[0m \u001b[32m222.7/222.7 kB\u001b[0m \u001b[31m13.3 MB/s\u001b[0m eta \u001b[36m0:00:00\u001b[0m\r\n",
      "\u001b[2K   \u001b[90m━━━━━━━━━━━━━━━━━━━━━━━━━━━━━━━━━━━━━━━━\u001b[0m \u001b[32m64.2/64.2 kB\u001b[0m \u001b[31m3.2 MB/s\u001b[0m eta \u001b[36m0:00:00\u001b[0m\r\n",
      "\u001b[2K   \u001b[90m━━━━━━━━━━━━━━━━━━━━━━━━━━━━━━━━━━━━━━━━\u001b[0m \u001b[32m69.1/69.1 kB\u001b[0m \u001b[31m4.3 MB/s\u001b[0m eta \u001b[36m0:00:00\u001b[0m\r\n",
      "\u001b[?25h\u001b[31mERROR: pip's dependency resolver does not currently take into account all the packages that are installed. This behaviour is the source of the following dependency conflicts.\r\n",
      "cesium 0.12.4 requires numpy<3.0,>=2.0, but you have numpy 1.26.4 which is incompatible.\u001b[0m\u001b[31m\r\n",
      "\u001b[0m"
     ]
    }
   ],
   "source": [
    "!pip install -q scikit-learn==1.5.2 autogluon.tabular ray"
   ]
  },
  {
   "cell_type": "code",
   "execution_count": 2,
   "id": "e9b56fbe",
   "metadata": {
    "execution": {
     "iopub.execute_input": "2025-05-28T09:31:23.948697Z",
     "iopub.status.busy": "2025-05-28T09:31:23.948339Z",
     "iopub.status.idle": "2025-05-28T09:31:29.295092Z",
     "shell.execute_reply": "2025-05-28T09:31:29.294259Z"
    },
    "papermill": {
     "duration": 5.354043,
     "end_time": "2025-05-28T09:31:29.296773",
     "exception": false,
     "start_time": "2025-05-28T09:31:23.942730",
     "status": "completed"
    },
    "tags": []
   },
   "outputs": [],
   "source": [
    "from autogluon.tabular import TabularPredictor\n",
    "from autogluon.core.metrics import make_scorer\n",
    "from sklearn.model_selection import KFold\n",
    "from scipy.stats import pearsonr\n",
    "import matplotlib.pyplot as plt\n",
    "import seaborn as sns\n",
    "import pandas as pd\n",
    "import numpy as np\n",
    "import warnings\n",
    "import joblib\n",
    "import os\n",
    "\n",
    "warnings.filterwarnings(\"ignore\")"
   ]
  },
  {
   "cell_type": "code",
   "execution_count": 3,
   "id": "9ec3b128",
   "metadata": {
    "execution": {
     "iopub.execute_input": "2025-05-28T09:31:29.307488Z",
     "iopub.status.busy": "2025-05-28T09:31:29.306960Z",
     "iopub.status.idle": "2025-05-28T09:31:29.311932Z",
     "shell.execute_reply": "2025-05-28T09:31:29.310891Z"
    },
    "papermill": {
     "duration": 0.011871,
     "end_time": "2025-05-28T09:31:29.313388",
     "exception": false,
     "start_time": "2025-05-28T09:31:29.301517",
     "status": "completed"
    },
    "tags": []
   },
   "outputs": [],
   "source": [
    "class CFG:\n",
    "    train_path = \"/kaggle/input/drw-crypto-market-prediction/train.parquet\"\n",
    "    test_path = \"/kaggle/input/drw-crypto-market-prediction/test.parquet\"\n",
    "    sample_sub_path = \"/kaggle/input/drw-crypto-market-prediction/sample_submission.csv\"\n",
    "    \n",
    "    target = \"label\"\n",
    "    n_folds = 5\n",
    "    seed = 42\n",
    "    time_limit = 3600 * 11"
   ]
  },
  {
   "cell_type": "markdown",
   "id": "7a5a1133",
   "metadata": {
    "papermill": {
     "duration": 0.003982,
     "end_time": "2025-05-28T09:31:29.321811",
     "exception": false,
     "start_time": "2025-05-28T09:31:29.317829",
     "status": "completed"
    },
    "tags": []
   },
   "source": [
    "# Loading data and predefining folds"
   ]
  },
  {
   "cell_type": "code",
   "execution_count": 4,
   "id": "14bb18cd",
   "metadata": {
    "_kg_hide-input": true,
    "execution": {
     "iopub.execute_input": "2025-05-28T09:31:29.332513Z",
     "iopub.status.busy": "2025-05-28T09:31:29.331664Z",
     "iopub.status.idle": "2025-05-28T09:31:29.341290Z",
     "shell.execute_reply": "2025-05-28T09:31:29.340500Z"
    },
    "papermill": {
     "duration": 0.016349,
     "end_time": "2025-05-28T09:31:29.342762",
     "exception": false,
     "start_time": "2025-05-28T09:31:29.326413",
     "status": "completed"
    },
    "tags": []
   },
   "outputs": [],
   "source": [
    "def reduce_mem_usage(dataframe, dataset):    \n",
    "    print('Reducing memory usage for:', dataset)\n",
    "    initial_mem_usage = dataframe.memory_usage().sum() / 1024**2\n",
    "    \n",
    "    for col in dataframe.columns:\n",
    "        col_type = dataframe[col].dtype\n",
    "        \n",
    "        c_min = dataframe[col].min()\n",
    "        c_max = dataframe[col].max()\n",
    "        if str(col_type)[:3] == 'int':\n",
    "            if c_min > np.iinfo(np.int8).min and c_max < np.iinfo(np.int8).max:\n",
    "                dataframe[col] = dataframe[col].astype(np.int8)\n",
    "            elif c_min > np.iinfo(np.int16).min and c_max < np.iinfo(np.int16).max:\n",
    "                dataframe[col] = dataframe[col].astype(np.int16)\n",
    "            elif c_min > np.iinfo(np.int32).min and c_max < np.iinfo(np.int32).max:\n",
    "                dataframe[col] = dataframe[col].astype(np.int32)\n",
    "            elif c_min > np.iinfo(np.int64).min and c_max < np.iinfo(np.int64).max:\n",
    "                dataframe[col] = dataframe[col].astype(np.int64)\n",
    "        else:\n",
    "            if c_min > np.finfo(np.float16).min and c_max < np.finfo(np.float16).max:\n",
    "                dataframe[col] = dataframe[col].astype(np.float16)\n",
    "            elif c_min > np.finfo(np.float32).min and c_max < np.finfo(np.float32).max:\n",
    "                dataframe[col] = dataframe[col].astype(np.float32)\n",
    "            else:\n",
    "                dataframe[col] = dataframe[col].astype(np.float64)\n",
    "\n",
    "    final_mem_usage = dataframe.memory_usage().sum() / 1024**2\n",
    "    print('--- Memory usage before: {:.2f} MB'.format(initial_mem_usage))\n",
    "    print('--- Memory usage after: {:.2f} MB'.format(final_mem_usage))\n",
    "    print('--- Decreased memory usage by {:.1f}%\\n'.format(100 * (initial_mem_usage - final_mem_usage) / initial_mem_usage))\n",
    "\n",
    "    return dataframe"
   ]
  },
  {
   "cell_type": "code",
   "execution_count": 5,
   "id": "7567cf28",
   "metadata": {
    "execution": {
     "iopub.execute_input": "2025-05-28T09:31:29.353135Z",
     "iopub.status.busy": "2025-05-28T09:31:29.352498Z",
     "iopub.status.idle": "2025-05-28T09:31:29.359229Z",
     "shell.execute_reply": "2025-05-28T09:31:29.358282Z"
    },
    "papermill": {
     "duration": 0.01343,
     "end_time": "2025-05-28T09:31:29.360603",
     "exception": false,
     "start_time": "2025-05-28T09:31:29.347173",
     "status": "completed"
    },
    "tags": []
   },
   "outputs": [],
   "source": [
    "def add_features(df):\n",
    "    data = df.copy()\n",
    "    features_df = pd.DataFrame(index=data.index)\n",
    "    \n",
    "    features_df['total_liquidity'] = data['bid_qty'] + data['ask_qty']\n",
    "    features_df['trade_imbalance'] = data['buy_qty'] - data['sell_qty']\n",
    "    features_df['total_trades'] = data['buy_qty'] + data['sell_qty']\n",
    "    features_df['volume_per_trade'] = data['volume'] / (data['buy_qty'] + data['sell_qty'] + 1e-8)\n",
    "    features_df['order_imbalance'] = (data['bid_qty'] - data['ask_qty']) / (data['bid_qty'] + data['ask_qty'] + 1e-8)\n",
    "    features_df['ask_liquidity_ratio'] = data['ask_qty'] / (data['volume'] + 1e-8)\n",
    "    features_df['market_depth'] = data['bid_qty'] + data['ask_qty']\n",
    "    features_df['liquidity_competition'] = (data['bid_qty'] * data['ask_qty']) / ((data['bid_qty'] + data['ask_qty']) + 1e-8)\n",
    "    total_activity = data['buy_qty'] + data['sell_qty'] + data['bid_qty'] + data['ask_qty']\n",
    "    \n",
    "    features_df = features_df.replace([np.inf, -np.inf], np.nan)\n",
    "    \n",
    "    return features_df"
   ]
  },
  {
   "cell_type": "code",
   "execution_count": 6,
   "id": "76e9fab4",
   "metadata": {
    "execution": {
     "iopub.execute_input": "2025-05-28T09:31:29.370319Z",
     "iopub.status.busy": "2025-05-28T09:31:29.370013Z",
     "iopub.status.idle": "2025-05-28T09:31:29.375494Z",
     "shell.execute_reply": "2025-05-28T09:31:29.374721Z"
    },
    "papermill": {
     "duration": 0.012006,
     "end_time": "2025-05-28T09:31:29.376952",
     "exception": false,
     "start_time": "2025-05-28T09:31:29.364946",
     "status": "completed"
    },
    "tags": []
   },
   "outputs": [],
   "source": [
    "cols_to_drop = [\n",
    "    'X697', 'X698', 'X699', 'X700', 'X701', 'X702', 'X703', 'X704', 'X705', 'X706', \n",
    "    'X707', 'X708', 'X709', 'X710', 'X711', 'X712', 'X713', 'X714', 'X715', 'X716',\n",
    "    'X717', 'X864', 'X867', 'X869', 'X870', 'X871', 'X872', 'X104', 'X110', 'X116',\n",
    "    'X122', 'X128', 'X134', 'X140', 'X146', 'X152', 'X158', 'X164', 'X170', 'X176',\n",
    "    'X182', 'X351', 'X357', 'X363', 'X369', 'X375', 'X381', 'X387', 'X393', 'X399',\n",
    "    'X405', 'X411', 'X417', 'X423', 'X429'\n",
    "]"
   ]
  },
  {
   "cell_type": "code",
   "execution_count": 7,
   "id": "f5148c8e",
   "metadata": {
    "execution": {
     "iopub.execute_input": "2025-05-28T09:31:29.387326Z",
     "iopub.status.busy": "2025-05-28T09:31:29.387021Z",
     "iopub.status.idle": "2025-05-28T09:32:43.982834Z",
     "shell.execute_reply": "2025-05-28T09:32:43.981801Z"
    },
    "papermill": {
     "duration": 74.603156,
     "end_time": "2025-05-28T09:32:43.984797",
     "exception": false,
     "start_time": "2025-05-28T09:31:29.381641",
     "status": "completed"
    },
    "tags": []
   },
   "outputs": [
    {
     "name": "stdout",
     "output_type": "stream",
     "text": [
      "Reducing memory usage for: train\n",
      "--- Memory usage before: 3374.26 MB\n",
      "--- Memory usage after: 843.57 MB\n",
      "--- Decreased memory usage by 75.0%\n",
      "\n",
      "Reducing memory usage for: test\n",
      "--- Memory usage before: 3448.84 MB\n",
      "--- Memory usage after: 862.21 MB\n",
      "--- Decreased memory usage by 75.0%\n",
      "\n"
     ]
    }
   ],
   "source": [
    "train = pd.read_parquet(CFG.train_path).reset_index(drop=True)\n",
    "test = pd.read_parquet(CFG.test_path).reset_index(drop=True)\n",
    "\n",
    "train = train.drop(columns=cols_to_drop)\n",
    "test = test.drop(columns=[\"label\"] + cols_to_drop)\n",
    "\n",
    "train = reduce_mem_usage(train, \"train\")\n",
    "test = reduce_mem_usage(test, \"test\")\n",
    "\n",
    "train = pd.concat([add_features(train), train], axis=1)\n",
    "test = pd.concat([add_features(test), test], axis=1)"
   ]
  },
  {
   "cell_type": "code",
   "execution_count": 8,
   "id": "202ffae0",
   "metadata": {
    "execution": {
     "iopub.execute_input": "2025-05-28T09:32:43.995447Z",
     "iopub.status.busy": "2025-05-28T09:32:43.995084Z",
     "iopub.status.idle": "2025-05-28T09:32:44.055141Z",
     "shell.execute_reply": "2025-05-28T09:32:44.054268Z"
    },
    "papermill": {
     "duration": 0.067061,
     "end_time": "2025-05-28T09:32:44.056719",
     "exception": false,
     "start_time": "2025-05-28T09:32:43.989658",
     "status": "completed"
    },
    "tags": []
   },
   "outputs": [],
   "source": [
    "kf = KFold(n_splits=CFG.n_folds, shuffle=False)\n",
    "split = kf.split(train, train[CFG.target])\n",
    "for i, (_, val_index) in enumerate(split):\n",
    "    train.loc[val_index, \"fold\"] = i"
   ]
  },
  {
   "cell_type": "markdown",
   "id": "f959aaba",
   "metadata": {
    "papermill": {
     "duration": 0.004162,
     "end_time": "2025-05-28T09:32:44.065539",
     "exception": false,
     "start_time": "2025-05-28T09:32:44.061377",
     "status": "completed"
    },
    "tags": []
   },
   "source": [
    "# Fitting the predictor"
   ]
  },
  {
   "cell_type": "code",
   "execution_count": 9,
   "id": "2c511d54",
   "metadata": {
    "execution": {
     "iopub.execute_input": "2025-05-28T09:32:44.075703Z",
     "iopub.status.busy": "2025-05-28T09:32:44.075076Z",
     "iopub.status.idle": "2025-05-28T09:32:44.079884Z",
     "shell.execute_reply": "2025-05-28T09:32:44.078936Z"
    },
    "papermill": {
     "duration": 0.011664,
     "end_time": "2025-05-28T09:32:44.081468",
     "exception": false,
     "start_time": "2025-05-28T09:32:44.069804",
     "status": "completed"
    },
    "tags": []
   },
   "outputs": [],
   "source": [
    "def _pearsonr(y_true, y_pred):\n",
    "    return pearsonr(y_true.astype(np.float32), y_pred.astype(np.float32))[0]\n",
    "\n",
    "eval_metric = make_scorer(\n",
    "    name='pearsonr',\n",
    "    score_func=_pearsonr,\n",
    "    optimum=1,\n",
    "    greater_is_better=True\n",
    ")"
   ]
  },
  {
   "cell_type": "code",
   "execution_count": 10,
   "id": "aa2f634d",
   "metadata": {
    "_kg_hide-output": true,
    "execution": {
     "iopub.execute_input": "2025-05-28T09:32:44.092735Z",
     "iopub.status.busy": "2025-05-28T09:32:44.092439Z",
     "iopub.status.idle": "2025-05-28T09:32:44.097430Z",
     "shell.execute_reply": "2025-05-28T09:32:44.096461Z"
    },
    "papermill": {
     "duration": 0.012003,
     "end_time": "2025-05-28T09:32:44.098822",
     "exception": false,
     "start_time": "2025-05-28T09:32:44.086819",
     "status": "completed"
    },
    "tags": []
   },
   "outputs": [],
   "source": [
    "predictor = TabularPredictor(\n",
    "    path=\"/logs\",\n",
    "    problem_type=\"regression\",\n",
    "    eval_metric=eval_metric,\n",
    "    label=CFG.target,\n",
    "    groups=\"fold\",\n",
    "    verbosity=2\n",
    ")"
   ]
  },
  {
   "cell_type": "code",
   "execution_count": 11,
   "id": "cdf48512",
   "metadata": {
    "_kg_hide-output": true,
    "execution": {
     "iopub.execute_input": "2025-05-28T09:32:44.109915Z",
     "iopub.status.busy": "2025-05-28T09:32:44.109209Z",
     "iopub.status.idle": "2025-05-28T20:32:48.115960Z",
     "shell.execute_reply": "2025-05-28T20:32:48.114936Z"
    },
    "papermill": {
     "duration": 39604.014757,
     "end_time": "2025-05-28T20:32:48.118291",
     "exception": false,
     "start_time": "2025-05-28T09:32:44.103534",
     "status": "completed"
    },
    "scrolled": true,
    "tags": []
   },
   "outputs": [
    {
     "name": "stderr",
     "output_type": "stream",
     "text": [
      "Verbosity: 2 (Standard Logging)\n",
      "=================== System Info ===================\n",
      "AutoGluon Version:  1.3.1\n",
      "Python Version:     3.11.11\n",
      "Operating System:   Linux\n",
      "Platform Machine:   x86_64\n",
      "Platform Version:   #1 SMP PREEMPT_DYNAMIC Sun Nov 10 10:07:59 UTC 2024\n",
      "CPU Count:          4\n",
      "Memory Avail:       19.66 GB / 31.35 GB (62.7%)\n",
      "Disk Space Avail:   1704.25 GB / 8062.39 GB (21.1%)\n",
      "===================================================\n",
      "Presets specified: ['best_quality']\n",
      "Setting dynamic_stacking from 'auto' to True. Reason: Enable dynamic_stacking when use_bag_holdout is disabled. (use_bag_holdout=False)\n",
      "Stack configuration (auto_stack=True): num_stack_levels=1, num_bag_folds=8, num_bag_sets=1\n",
      "DyStack is enabled (dynamic_stacking=True). AutoGluon will try to determine whether the input data is affected by stacked overfitting and enable or disable stacking as a consequence.\n",
      "\tThis is used to identify the optimal `num_stack_levels` value. Copies of AutoGluon will be fit on subsets of the data. Then holdout validation data is used to detect stacked overfitting.\n",
      "\tRunning DyStack for up to 9900s of the 39600s of remaining time (25%).\n",
      "\t\tContext path: \"/logs/ds_sub_fit/sub_fit_ho\"\n",
      "Running DyStack sub-fit ...\n",
      "Values in column 'fold' used as split folds instead of being automatically set. Bagged models will have 5 splits.\n",
      "Beginning AutoGluon training ... Time limit = 9899s\n",
      "AutoGluon will save models to \"/logs/ds_sub_fit/sub_fit_ho\"\n",
      "Train Data Rows:    467455\n",
      "Train Data Columns: 849\n",
      "Label Column:       label\n",
      "Problem Type:       regression\n",
      "Preprocessing data ...\n",
      "Using Feature Generators to preprocess the data ...\n",
      "Fitting AutoMLPipelineFeatureGenerator...\n",
      "\tAvailable Memory:                    20012.96 MB\n",
      "\tTrain Data (Original)  Memory Usage: 756.08 MB (3.8% of available memory)\n",
      "\tInferring data type of each feature based on column values. Set feature_metadata_in to manually specify special dtypes of the features.\n",
      "\tStage 1 Generators:\n",
      "\t\tFitting AsTypeFeatureGenerator...\n",
      "\tStage 2 Generators:\n",
      "\t\tFitting FillNaFeatureGenerator...\n",
      "\tStage 3 Generators:\n",
      "\t\tFitting IdentityFeatureGenerator...\n",
      "\tStage 4 Generators:\n",
      "\t\tFitting DropUniqueFeatureGenerator...\n",
      "\tStage 5 Generators:\n",
      "\t\tFitting DropDuplicatesFeatureGenerator...\n",
      "\tUnused Original Features (Count: 1): ['market_depth']\n",
      "\t\tThese features were not used to generate any of the output features. Add a feature generator compatible with these features to utilize them.\n",
      "\t\tFeatures can also be unused if they carry very little information, such as being categorical but having almost entirely unique values or being duplicates of other features.\n",
      "\t\tThese features do not need to be present at inference time.\n",
      "\t\t('float', []) : 1 | ['market_depth']\n",
      "\tTypes of features in original data (raw dtype, special dtypes):\n",
      "\t\t('float', []) : 847 | ['total_liquidity', 'trade_imbalance', 'total_trades', 'volume_per_trade', 'order_imbalance', ...]\n",
      "\tTypes of features in processed data (raw dtype, special dtypes):\n",
      "\t\t('float', []) : 847 | ['total_liquidity', 'trade_imbalance', 'total_trades', 'volume_per_trade', 'order_imbalance', ...]\n",
      "\t41.8s = Fit runtime\n",
      "\t847 features in original data used to generate 847 features in processed data.\n",
      "\tTrain Data (Processed) Memory Usage: 755.19 MB (3.8% of available memory)\n",
      "Data preprocessing and feature engineering runtime = 44.93s ...\n",
      "AutoGluon will gauge predictive performance using evaluation metric: 'pearsonr'\n",
      "\tTo change this, specify the eval_metric parameter of Predictor()\n",
      "Large model count detected (112 configs) ... Only displaying the first 3 models of each family. To see all, set `verbosity=3`.\n",
      "User-specified model hyperparameters to be fit:\n",
      "{\n",
      "\t'NN_TORCH': [{}, {'activation': 'elu', 'dropout_prob': 0.10077639529843717, 'hidden_size': 108, 'learning_rate': 0.002735937344002146, 'num_layers': 4, 'use_batchnorm': True, 'weight_decay': 1.356433327634438e-12, 'ag_args': {'name_suffix': '_r79', 'priority': -2}}, {'activation': 'elu', 'dropout_prob': 0.11897478034205347, 'hidden_size': 213, 'learning_rate': 0.0010474382260641949, 'num_layers': 4, 'use_batchnorm': False, 'weight_decay': 5.594471067786272e-10, 'ag_args': {'name_suffix': '_r22', 'priority': -7}}],\n",
      "\t'GBM': [{'extra_trees': True, 'ag_args': {'name_suffix': 'XT'}}, {}, {'learning_rate': 0.03, 'num_leaves': 128, 'feature_fraction': 0.9, 'min_data_in_leaf': 3, 'ag_args': {'name_suffix': 'Large', 'priority': 0, 'hyperparameter_tune_kwargs': None}}],\n",
      "\t'CAT': [{}, {'depth': 6, 'grow_policy': 'SymmetricTree', 'l2_leaf_reg': 2.1542798306067823, 'learning_rate': 0.06864209415792857, 'max_ctr_complexity': 4, 'one_hot_max_size': 10, 'ag_args': {'name_suffix': '_r177', 'priority': -1}}, {'depth': 8, 'grow_policy': 'Depthwise', 'l2_leaf_reg': 2.7997999596449104, 'learning_rate': 0.031375015734637225, 'max_ctr_complexity': 2, 'one_hot_max_size': 3, 'ag_args': {'name_suffix': '_r9', 'priority': -5}}],\n",
      "\t'XGB': [{}, {'colsample_bytree': 0.6917311125174739, 'enable_categorical': False, 'learning_rate': 0.018063876087523967, 'max_depth': 10, 'min_child_weight': 0.6028633586934382, 'ag_args': {'name_suffix': '_r33', 'priority': -8}}, {'colsample_bytree': 0.6628423832084077, 'enable_categorical': False, 'learning_rate': 0.08775715546881824, 'max_depth': 5, 'min_child_weight': 0.6294123374222513, 'ag_args': {'name_suffix': '_r89', 'priority': -16}}],\n",
      "\t'FASTAI': [{}, {'bs': 256, 'emb_drop': 0.5411770367537934, 'epochs': 43, 'layers': [800, 400], 'lr': 0.01519848858318159, 'ps': 0.23782946566604385, 'ag_args': {'name_suffix': '_r191', 'priority': -4}}, {'bs': 2048, 'emb_drop': 0.05070411322605811, 'epochs': 29, 'layers': [200, 100], 'lr': 0.08974235041576624, 'ps': 0.10393466140748028, 'ag_args': {'name_suffix': '_r102', 'priority': -11}}],\n",
      "\t'RF': [{'criterion': 'gini', 'ag_args': {'name_suffix': 'Gini', 'problem_types': ['binary', 'multiclass']}}, {'criterion': 'entropy', 'ag_args': {'name_suffix': 'Entr', 'problem_types': ['binary', 'multiclass']}}, {'criterion': 'squared_error', 'ag_args': {'name_suffix': 'MSE', 'problem_types': ['regression', 'quantile']}}],\n",
      "\t'XT': [{'criterion': 'gini', 'ag_args': {'name_suffix': 'Gini', 'problem_types': ['binary', 'multiclass']}}, {'criterion': 'entropy', 'ag_args': {'name_suffix': 'Entr', 'problem_types': ['binary', 'multiclass']}}, {'criterion': 'squared_error', 'ag_args': {'name_suffix': 'MSE', 'problem_types': ['regression', 'quantile']}}],\n",
      "\t'KNN': [{'weights': 'uniform', 'ag_args': {'name_suffix': 'Unif'}}, {'weights': 'distance', 'ag_args': {'name_suffix': 'Dist'}}],\n",
      "}\n",
      "AutoGluon will fit 2 stack levels (L1 to L2) ...\n",
      "Excluded models: ['NN_TORCH', 'RF', 'XGB', 'KNN', 'FASTAI'] (Specified by `excluded_model_types`)\n",
      "Fitting 44 L1 models, fit_strategy=\"sequential\" ...\n",
      "Fitting model: LightGBMXT_BAG_L1 ... Training model for up to 6567.56s of the 9853.80s of remaining time.\n",
      "Will use sequential fold fitting strategy because import of ray failed. Reason: ray==2.46.0 detected. 2.10.0 <= ray < 2.45.0 is required. You can use pip to install certain version of ray `pip install \"ray>=2.10.0,<2.45.0\"`\n",
      "\tFitting 5 child models (S1F1 - S1F5) | Fitting with SequentialLocalFoldFittingStrategy\n",
      "\t0.0756\t = Validation score   (pearsonr)\n",
      "\t717.91s\t = Training   runtime\n",
      "\t5.05s\t = Validation runtime\n",
      "Fitting model: LightGBM_BAG_L1 ... Training model for up to 5814.76s of the 9101.00s of remaining time.\n",
      "\tFitting 5 child models (S1F1 - S1F5) | Fitting with SequentialLocalFoldFittingStrategy\n",
      "\t0.1019\t = Validation score   (pearsonr)\n",
      "\t747.91s\t = Training   runtime\n",
      "\t5.4s\t = Validation runtime\n",
      "Fitting model: CatBoost_BAG_L1 ... Training model for up to 5039.07s of the 8325.31s of remaining time.\n",
      "\tFitting 5 child models (S1F1 - S1F5) | Fitting with SequentialLocalFoldFittingStrategy\n",
      "\t0.0497\t = Validation score   (pearsonr)\n",
      "\t955.15s\t = Training   runtime\n",
      "\t132.12s\t = Validation runtime\n",
      "Fitting model: ExtraTreesMSE_BAG_L1 ... Training model for up to 3930.53s of the 7216.77s of remaining time.\n",
      "\tForcing `use_child_oof=False` because `groups` is specified\n",
      "\tFitting 5 child models (S1F1 - S1F5) | Fitting with SequentialLocalFoldFittingStrategy\n",
      "\tWarning: Model is expected to require 15135.2s to train, which exceeds the maximum time limit of 618.0s, skipping model...\n",
      "\tTime limit exceeded... Skipping ExtraTreesMSE_BAG_L1.\n",
      "Fitting model: LightGBMLarge_BAG_L1 ... Training model for up to 3694.73s of the 6980.97s of remaining time.\n",
      "\tFitting 5 child models (S1F1 - S1F5) | Fitting with SequentialLocalFoldFittingStrategy\n",
      "\t0.0865\t = Validation score   (pearsonr)\n",
      "\t947.12s\t = Training   runtime\n",
      "\t5.98s\t = Validation runtime\n",
      "Fitting model: CatBoost_r177_BAG_L1 ... Training model for up to 2719.43s of the 6005.67s of remaining time.\n",
      "\tFitting 5 child models (S1F1 - S1F5) | Fitting with SequentialLocalFoldFittingStrategy\n",
      "\t0.0284\t = Validation score   (pearsonr)\n",
      "\t896.21s\t = Training   runtime\n",
      "\t131.96s\t = Validation runtime\n",
      "Fitting model: LightGBM_r131_BAG_L1 ... Training model for up to 1670.53s of the 4956.77s of remaining time.\n",
      "\tFitting 5 child models (S1F1 - S1F5) | Fitting with SequentialLocalFoldFittingStrategy\n",
      "\tRan out of time, early stopping on iteration 320. Best iteration is:\n",
      "\t[280]\tvalid_set's l2: 1.00103\tvalid_set's pearsonr: 0.134214\n",
      "\t0.0856\t = Validation score   (pearsonr)\n",
      "\t890.55s\t = Training   runtime\n",
      "\t7.35s\t = Validation runtime\n",
      "Fitting model: CatBoost_r9_BAG_L1 ... Training model for up to 750.56s of the 4036.80s of remaining time.\n",
      "\tFitting 5 child models (S1F1 - S1F5) | Fitting with SequentialLocalFoldFittingStrategy\n",
      "\tTime limit exceeded... Skipping CatBoost_r9_BAG_L1.\n",
      "Fitting model: LightGBM_r96_BAG_L1 ... Training model for up to 588.62s of the 3874.86s of remaining time.\n",
      "\tFitting 5 child models (S1F1 - S1F5) | Fitting with SequentialLocalFoldFittingStrategy\n",
      "\tRan out of time, early stopping on iteration 117. Best iteration is:\n",
      "\t[105]\tvalid_set's l2: 0.899211\tvalid_set's pearsonr: 0.0491066\n",
      "\t0.0626\t = Validation score   (pearsonr)\n",
      "\t416.99s\t = Training   runtime\n",
      "\t4.1s\t = Validation runtime\n",
      "Fitting model: ExtraTrees_r42_BAG_L1 ... Training model for up to 146.33s of the 3432.56s of remaining time.\n",
      "\tForcing `use_child_oof=False` because `groups` is specified\n",
      "\tFitting 5 child models (S1F1 - S1F5) | Fitting with SequentialLocalFoldFittingStrategy\n",
      "\tWarning: Model is expected to require 12206.2s to train, which exceeds the maximum time limit of 12.5s, skipping model...\n",
      "\tTime limit exceeded... Skipping ExtraTrees_r42_BAG_L1.\n",
      "Fitting model: WeightedEnsemble_L2 ... Training model for up to 656.76s of the 3235.03s of remaining time.\n",
      "\tEnsemble Weights: {'LightGBM_r96_BAG_L1': 0.438, 'LightGBM_BAG_L1': 0.188, 'LightGBMXT_BAG_L1': 0.125, 'LightGBM_r131_BAG_L1': 0.125, 'LightGBMLarge_BAG_L1': 0.062, 'CatBoost_r177_BAG_L1': 0.062}\n",
      "\t0.1142\t = Validation score   (pearsonr)\n",
      "\t1.83s\t = Training   runtime\n",
      "\t0.02s\t = Validation runtime\n",
      "Excluded models: ['NN_TORCH', 'RF', 'XGB', 'KNN', 'FASTAI'] (Specified by `excluded_model_types`)\n",
      "Fitting 44 L2 models, fit_strategy=\"sequential\" ...\n",
      "Fitting model: LightGBMXT_BAG_L2 ... Training model for up to 3233.11s of the 3232.83s of remaining time.\n",
      "\tFitting 5 child models (S1F1 - S1F5) | Fitting with SequentialLocalFoldFittingStrategy\n",
      "\t0.0821\t = Validation score   (pearsonr)\n",
      "\t557.26s\t = Training   runtime\n",
      "\t4.32s\t = Validation runtime\n",
      "Fitting model: LightGBM_BAG_L2 ... Training model for up to 2648.88s of the 2648.59s of remaining time.\n",
      "\tFitting 5 child models (S1F1 - S1F5) | Fitting with SequentialLocalFoldFittingStrategy\n",
      "\t0.0868\t = Validation score   (pearsonr)\n",
      "\t625.15s\t = Training   runtime\n",
      "\t4.81s\t = Validation runtime\n",
      "Fitting model: CatBoost_BAG_L2 ... Training model for up to 1996.73s of the 1996.45s of remaining time.\n",
      "\tFitting 5 child models (S1F1 - S1F5) | Fitting with SequentialLocalFoldFittingStrategy\n",
      "\t0.0597\t = Validation score   (pearsonr)\n",
      "\t958.46s\t = Training   runtime\n",
      "\t132.11s\t = Validation runtime\n",
      "Fitting model: ExtraTreesMSE_BAG_L2 ... Training model for up to 884.16s of the 883.87s of remaining time.\n",
      "\tForcing `use_child_oof=False` because `groups` is specified\n",
      "\tFitting 5 child models (S1F1 - S1F5) | Fitting with SequentialLocalFoldFittingStrategy\n",
      "\tWarning: Model is expected to require 15344.0s to train, which exceeds the maximum time limit of 130.6s, skipping model...\n",
      "\tTime limit exceeded... Skipping ExtraTreesMSE_BAG_L2.\n",
      "Fitting model: LightGBMLarge_BAG_L2 ... Training model for up to 644.52s of the 644.23s of remaining time.\n",
      "\tFitting 5 child models (S1F1 - S1F5) | Fitting with SequentialLocalFoldFittingStrategy\n",
      "\tRan out of time, early stopping on iteration 31. Best iteration is:\n",
      "\t[31]\tvalid_set's l2: 1.00471\tvalid_set's pearsonr: 0.103809\n",
      "\tRan out of time, early stopping on iteration 37. Best iteration is:\n",
      "\t[35]\tvalid_set's l2: 0.898314\tvalid_set's pearsonr: 0.0902242\n",
      "\tRan out of time, early stopping on iteration 50. Best iteration is:\n",
      "\t[50]\tvalid_set's l2: 1.03994\tvalid_set's pearsonr: 0.112364\n",
      "\tRan out of time, early stopping on iteration 57. Best iteration is:\n",
      "\t[57]\tvalid_set's l2: 1.19779\tvalid_set's pearsonr: 0.0398342\n",
      "\t0.0614\t = Validation score   (pearsonr)\n",
      "\t585.1s\t = Training   runtime\n",
      "\t4.97s\t = Validation runtime\n",
      "Fitting model: CatBoost_r177_BAG_L2 ... Training model for up to 32.27s of the 31.99s of remaining time.\n",
      "\tFitting 5 child models (S1F1 - S1F5) | Fitting with SequentialLocalFoldFittingStrategy\n",
      "\tWarning: Model has no time left to train, skipping model... (Time Left = -5.9s)\n",
      "\tTime limit exceeded... Skipping CatBoost_r177_BAG_L2.\n",
      "Fitting model: WeightedEnsemble_L3 ... Training model for up to 360.00s of the -0.07s of remaining time.\n",
      "\tEnsemble Weights: {'LightGBM_r96_BAG_L1': 0.409, 'LightGBM_BAG_L1': 0.182, 'LightGBMXT_BAG_L1': 0.136, 'LightGBM_r131_BAG_L1': 0.091, 'LightGBMLarge_BAG_L1': 0.045, 'CatBoost_r177_BAG_L1': 0.045, 'LightGBMXT_BAG_L2': 0.045, 'LightGBM_BAG_L2': 0.045}\n",
      "\t0.1149\t = Validation score   (pearsonr)\n",
      "\t4.69s\t = Training   runtime\n",
      "\t0.01s\t = Validation runtime\n",
      "AutoGluon training complete, total runtime = 9904.92s ... Best model: WeightedEnsemble_L3 | Estimated inference throughput: 310.5 rows/s (93491 batch size)\n",
      "TabularPredictor saved. To load, use: predictor = TabularPredictor.load(\"/logs/ds_sub_fit/sub_fit_ho\")\n",
      "Deleting DyStack predictor artifacts (clean_up_fits=True) ...\n",
      "Leaderboard on holdout data (DyStack):\n",
      "                   model  score_holdout  score_val eval_metric  pred_time_test  pred_time_val     fit_time  pred_time_test_marginal  pred_time_val_marginal  fit_time_marginal  stack_level  can_infer  fit_order\n",
      "0   LightGBMLarge_BAG_L1       0.826446   0.086467    pearsonr        3.574634       5.983299   947.118349                 3.574634                5.983299         947.118349            1       True          4\n",
      "1        LightGBM_BAG_L1       0.765936   0.101905    pearsonr        3.240388       5.402036   747.911459                 3.240388                5.402036         747.911459            1       True          2\n",
      "2   LightGBM_r131_BAG_L1       0.758831   0.085573    pearsonr        4.710339       7.354771   890.549495                 4.710339                7.354771         890.549495            1       True          6\n",
      "3        LightGBM_BAG_L2       0.744741   0.086797    pearsonr      185.792259     296.776157  6196.988577                 2.826516                4.811565         625.153578            2       True         10\n",
      "4    WeightedEnsemble_L2       0.743498   0.114243    pearsonr      100.043812     159.860167  4618.510914                 0.006404                0.015112           1.827547            2       True          8\n",
      "5    WeightedEnsemble_L3       0.739998   0.114859    pearsonr      188.353654     301.110592  6758.931269                 0.007041                0.012548           4.686929            3       True         13\n",
      "6   LightGBMLarge_BAG_L2       0.733098   0.061411    pearsonr      185.991601     296.935704  6156.930413                 3.025858                4.971112         585.095414            2       True         12\n",
      "7      LightGBMXT_BAG_L1       0.696949   0.075633    pearsonr        2.973571       5.045777   717.907253                 2.973571                5.045777         717.907253            1       True          1\n",
      "8      LightGBMXT_BAG_L2       0.660246   0.082094    pearsonr      185.520097     296.286479  6129.090762                 2.554353                4.321887         557.255763            2       True          9\n",
      "9        CatBoost_BAG_L2       0.557363   0.059661    pearsonr      266.117102     424.071939  6530.295255                83.151359              132.107346         958.460256            2       True         11\n",
      "10       CatBoost_BAG_L1       0.501090   0.049727    pearsonr       82.928335     132.119537   955.151632                82.928335              132.119537         955.151632            1       True          3\n",
      "11   LightGBM_r96_BAG_L1       0.443789   0.062586    pearsonr        2.430840       4.100173   416.985512                 2.430840                4.100173         416.985512            1       True          7\n",
      "12  CatBoost_r177_BAG_L1       0.349806   0.028449    pearsonr       83.107636     131.959000   896.211300                83.107636              131.959000         896.211300            1       True          5\n",
      "\t0\t = Optimal   num_stack_levels (Stacked Overfitting Occurred: True)\n",
      "\t10184s\t = DyStack   runtime |\t29416s\t = Remaining runtime\n",
      "Starting main fit with num_stack_levels=0.\n",
      "\tFor future fit calls on this dataset, you can skip DyStack to save time: `predictor.fit(..., dynamic_stacking=False, num_stack_levels=0)`\n",
      "Values in column 'fold' used as split folds instead of being automatically set. Bagged models will have 5 splits.\n",
      "Beginning AutoGluon training ... Time limit = 29416s\n",
      "AutoGluon will save models to \"/logs\"\n",
      "Train Data Rows:    525887\n",
      "Train Data Columns: 849\n",
      "Label Column:       label\n",
      "Problem Type:       regression\n",
      "Preprocessing data ...\n",
      "Using Feature Generators to preprocess the data ...\n",
      "Fitting AutoMLPipelineFeatureGenerator...\n",
      "\tAvailable Memory:                    12832.61 MB\n",
      "\tTrain Data (Original)  Memory Usage: 850.59 MB (6.6% of available memory)\n",
      "\tWarning: Data size prior to feature transformation consumes 6.6% of available memory. Consider increasing memory or subsampling the data to avoid instability.\n",
      "\tInferring data type of each feature based on column values. Set feature_metadata_in to manually specify special dtypes of the features.\n",
      "\tStage 1 Generators:\n",
      "\t\tFitting AsTypeFeatureGenerator...\n",
      "\tStage 2 Generators:\n",
      "\t\tFitting FillNaFeatureGenerator...\n",
      "\tStage 3 Generators:\n",
      "\t\tFitting IdentityFeatureGenerator...\n",
      "\tStage 4 Generators:\n",
      "\t\tFitting DropUniqueFeatureGenerator...\n",
      "\tStage 5 Generators:\n",
      "\t\tFitting DropDuplicatesFeatureGenerator...\n",
      "\tUnused Original Features (Count: 1): ['market_depth']\n",
      "\t\tThese features were not used to generate any of the output features. Add a feature generator compatible with these features to utilize them.\n",
      "\t\tFeatures can also be unused if they carry very little information, such as being categorical but having almost entirely unique values or being duplicates of other features.\n",
      "\t\tThese features do not need to be present at inference time.\n",
      "\t\t('float', []) : 1 | ['market_depth']\n",
      "\tTypes of features in original data (raw dtype, special dtypes):\n",
      "\t\t('float', []) : 847 | ['total_liquidity', 'trade_imbalance', 'total_trades', 'volume_per_trade', 'order_imbalance', ...]\n",
      "\tTypes of features in processed data (raw dtype, special dtypes):\n",
      "\t\t('float', []) : 847 | ['total_liquidity', 'trade_imbalance', 'total_trades', 'volume_per_trade', 'order_imbalance', ...]\n",
      "\t49.6s = Fit runtime\n",
      "\t847 features in original data used to generate 847 features in processed data.\n",
      "\tTrain Data (Processed) Memory Usage: 849.58 MB (6.6% of available memory)\n",
      "Data preprocessing and feature engineering runtime = 54.86s ...\n",
      "AutoGluon will gauge predictive performance using evaluation metric: 'pearsonr'\n",
      "\tTo change this, specify the eval_metric parameter of Predictor()\n",
      "Large model count detected (112 configs) ... Only displaying the first 3 models of each family. To see all, set `verbosity=3`.\n",
      "User-specified model hyperparameters to be fit:\n",
      "{\n",
      "\t'NN_TORCH': [{}, {'activation': 'elu', 'dropout_prob': 0.10077639529843717, 'hidden_size': 108, 'learning_rate': 0.002735937344002146, 'num_layers': 4, 'use_batchnorm': True, 'weight_decay': 1.356433327634438e-12, 'ag_args': {'name_suffix': '_r79', 'priority': -2}}, {'activation': 'elu', 'dropout_prob': 0.11897478034205347, 'hidden_size': 213, 'learning_rate': 0.0010474382260641949, 'num_layers': 4, 'use_batchnorm': False, 'weight_decay': 5.594471067786272e-10, 'ag_args': {'name_suffix': '_r22', 'priority': -7}}],\n",
      "\t'GBM': [{'extra_trees': True, 'ag_args': {'name_suffix': 'XT'}}, {}, {'learning_rate': 0.03, 'num_leaves': 128, 'feature_fraction': 0.9, 'min_data_in_leaf': 3, 'ag_args': {'name_suffix': 'Large', 'priority': 0, 'hyperparameter_tune_kwargs': None}}],\n",
      "\t'CAT': [{}, {'depth': 6, 'grow_policy': 'SymmetricTree', 'l2_leaf_reg': 2.1542798306067823, 'learning_rate': 0.06864209415792857, 'max_ctr_complexity': 4, 'one_hot_max_size': 10, 'ag_args': {'name_suffix': '_r177', 'priority': -1}}, {'depth': 8, 'grow_policy': 'Depthwise', 'l2_leaf_reg': 2.7997999596449104, 'learning_rate': 0.031375015734637225, 'max_ctr_complexity': 2, 'one_hot_max_size': 3, 'ag_args': {'name_suffix': '_r9', 'priority': -5}}],\n",
      "\t'XGB': [{}, {'colsample_bytree': 0.6917311125174739, 'enable_categorical': False, 'learning_rate': 0.018063876087523967, 'max_depth': 10, 'min_child_weight': 0.6028633586934382, 'ag_args': {'name_suffix': '_r33', 'priority': -8}}, {'colsample_bytree': 0.6628423832084077, 'enable_categorical': False, 'learning_rate': 0.08775715546881824, 'max_depth': 5, 'min_child_weight': 0.6294123374222513, 'ag_args': {'name_suffix': '_r89', 'priority': -16}}],\n",
      "\t'FASTAI': [{}, {'bs': 256, 'emb_drop': 0.5411770367537934, 'epochs': 43, 'layers': [800, 400], 'lr': 0.01519848858318159, 'ps': 0.23782946566604385, 'ag_args': {'name_suffix': '_r191', 'priority': -4}}, {'bs': 2048, 'emb_drop': 0.05070411322605811, 'epochs': 29, 'layers': [200, 100], 'lr': 0.08974235041576624, 'ps': 0.10393466140748028, 'ag_args': {'name_suffix': '_r102', 'priority': -11}}],\n",
      "\t'RF': [{'criterion': 'gini', 'ag_args': {'name_suffix': 'Gini', 'problem_types': ['binary', 'multiclass']}}, {'criterion': 'entropy', 'ag_args': {'name_suffix': 'Entr', 'problem_types': ['binary', 'multiclass']}}, {'criterion': 'squared_error', 'ag_args': {'name_suffix': 'MSE', 'problem_types': ['regression', 'quantile']}}],\n",
      "\t'XT': [{'criterion': 'gini', 'ag_args': {'name_suffix': 'Gini', 'problem_types': ['binary', 'multiclass']}}, {'criterion': 'entropy', 'ag_args': {'name_suffix': 'Entr', 'problem_types': ['binary', 'multiclass']}}, {'criterion': 'squared_error', 'ag_args': {'name_suffix': 'MSE', 'problem_types': ['regression', 'quantile']}}],\n",
      "\t'KNN': [{'weights': 'uniform', 'ag_args': {'name_suffix': 'Unif'}}, {'weights': 'distance', 'ag_args': {'name_suffix': 'Dist'}}],\n",
      "}\n",
      "Excluded models: ['NN_TORCH', 'RF', 'XGB', 'KNN', 'FASTAI'] (Specified by `excluded_model_types`)\n",
      "Fitting 44 L1 models, fit_strategy=\"sequential\" ...\n",
      "Fitting model: LightGBMXT_BAG_L1 ... Training model for up to 29360.71s of the 29360.70s of remaining time.\n",
      "\tFitting 5 child models (S1F1 - S1F5) | Fitting with SequentialLocalFoldFittingStrategy\n",
      "\t0.1004\t = Validation score   (pearsonr)\n",
      "\t646.62s\t = Training   runtime\n",
      "\t4.39s\t = Validation runtime\n",
      "Fitting model: LightGBM_BAG_L1 ... Training model for up to 28687.39s of the 28687.38s of remaining time.\n",
      "\tFitting 5 child models (S1F1 - S1F5) | Fitting with SequentialLocalFoldFittingStrategy\n",
      "\t0.0868\t = Validation score   (pearsonr)\n",
      "\t725.55s\t = Training   runtime\n",
      "\t4.69s\t = Validation runtime\n",
      "Fitting model: CatBoost_BAG_L1 ... Training model for up to 27934.78s of the 27934.77s of remaining time.\n",
      "\tFitting 5 child models (S1F1 - S1F5) | Fitting with SequentialLocalFoldFittingStrategy\n",
      "\t0.0681\t = Validation score   (pearsonr)\n",
      "\t1081.05s\t = Training   runtime\n",
      "\t147.83s\t = Validation runtime\n",
      "Fitting model: ExtraTreesMSE_BAG_L1 ... Training model for up to 26681.11s of the 26681.10s of remaining time.\n",
      "\tForcing `use_child_oof=False` because `groups` is specified\n",
      "\tFitting 5 child models (S1F1 - S1F5) | Fitting with SequentialLocalFoldFittingStrategy\n",
      "\tWarning: Reducing model 'n_estimators' from 300 -> 119 due to low time. Expected time usage reduced from 10638.8s -> 4256.5s...\n",
      "\tWarning: Reducing model 'n_estimators' from 300 -> 128 due to low time. Expected time usage reduced from 10353.1s -> 4444.6s...\n",
      "\tWarning: Reducing model 'n_estimators' from 300 -> 148 due to low time. Expected time usage reduced from 9682.6s -> 4803.9s...\n",
      "\tWarning: Reducing model 'n_estimators' from 300 -> 156 due to low time. Expected time usage reduced from 10208.3s -> 5345.2s...\n",
      "\tWarning: Reducing model 'n_estimators' from 300 -> 189 due to low time. Expected time usage reduced from 10098.2s -> 6370.9s...\n",
      "\t0.051\t = Validation score   (pearsonr)\n",
      "\t24864.8s\t = Training   runtime\n",
      "\t20.36s\t = Validation runtime\n",
      "Fitting model: LightGBMLarge_BAG_L1 ... Training model for up to 1759.76s of the 1759.76s of remaining time.\n",
      "\tFitting 5 child models (S1F1 - S1F5) | Fitting with SequentialLocalFoldFittingStrategy\n",
      "\tRan out of time, early stopping on iteration 190. Best iteration is:\n",
      "\t[185]\tvalid_set's l2: 1.04961\tvalid_set's pearsonr: 0.122038\n",
      "\t0.0657\t = Validation score   (pearsonr)\n",
      "\t1094.01s\t = Training   runtime\n",
      "\t6.51s\t = Validation runtime\n",
      "Fitting model: CatBoost_r177_BAG_L1 ... Training model for up to 633.39s of the 633.38s of remaining time.\n",
      "\tFitting 5 child models (S1F1 - S1F5) | Fitting with SequentialLocalFoldFittingStrategy\n",
      "\tTime limit exceeded... Skipping CatBoost_r177_BAG_L1.\n",
      "Fitting model: LightGBM_r131_BAG_L1 ... Training model for up to 451.85s of the 451.85s of remaining time.\n",
      "\tFitting 5 child models (S1F1 - S1F5) | Fitting with SequentialLocalFoldFittingStrategy\n",
      "\tRan out of time, early stopping on iteration 1. Best iteration is:\n",
      "\t[1]\tvalid_set's l2: 1.01922\tvalid_set's pearsonr: -0.0119608\n",
      "\tRan out of time, early stopping on iteration 2. Best iteration is:\n",
      "\t[2]\tvalid_set's l2: 0.900465\tvalid_set's pearsonr: 0.0377207\n",
      "\tRan out of time, early stopping on iteration 16. Best iteration is:\n",
      "\t[1]\tvalid_set's l2: 1.04747\tvalid_set's pearsonr: 0.00984342\n",
      "\tRan out of time, early stopping on iteration 24. Best iteration is:\n",
      "\t[22]\tvalid_set's l2: 1.0529\tvalid_set's pearsonr: 0.0291721\n",
      "\tRan out of time, early stopping on iteration 56. Best iteration is:\n",
      "\t[56]\tvalid_set's l2: 1.09135\tvalid_set's pearsonr: 0.0554788\n",
      "\t0.023\t = Validation score   (pearsonr)\n",
      "\t397.84s\t = Training   runtime\n",
      "\t3.81s\t = Validation runtime\n",
      "Fitting model: CatBoost_r9_BAG_L1 ... Training model for up to 20.98s of the 20.97s of remaining time.\n",
      "\tFitting 5 child models (S1F1 - S1F5) | Fitting with SequentialLocalFoldFittingStrategy\n",
      "\tTime limit exceeded... Skipping CatBoost_r9_BAG_L1.\n",
      "Fitting model: WeightedEnsemble_L2 ... Training model for up to 2936.07s of the -1.25s of remaining time.\n",
      "\tEnsemble Weights: {'LightGBMXT_BAG_L1': 0.5, 'CatBoost_BAG_L1': 0.3, 'LightGBM_BAG_L1': 0.2}\n",
      "\t0.1088\t = Validation score   (pearsonr)\n",
      "\t1.71s\t = Training   runtime\n",
      "\t0.02s\t = Validation runtime\n",
      "AutoGluon training complete, total runtime = 29419.49s ... Best model: WeightedEnsemble_L2 | Estimated inference throughput: 670.3 rows/s (105178 batch size)\n",
      "TabularPredictor saved. To load, use: predictor = TabularPredictor.load(\"/logs\")\n"
     ]
    },
    {
     "data": {
      "text/plain": [
       "<autogluon.tabular.predictor.predictor.TabularPredictor at 0x7f91d265df50>"
      ]
     },
     "execution_count": 11,
     "metadata": {},
     "output_type": "execute_result"
    }
   ],
   "source": [
    "predictor.fit(\n",
    "    train_data=train,\n",
    "    time_limit=CFG.time_limit,\n",
    "    presets=\"best_quality\",\n",
    "    excluded_model_types=[\"NN_TORCH\", \"KNN\", \"RF\", \"FASTAI\", \"XGB\"]\n",
    ")"
   ]
  },
  {
   "cell_type": "code",
   "execution_count": 12,
   "id": "27881136",
   "metadata": {
    "execution": {
     "iopub.execute_input": "2025-05-28T20:32:48.164813Z",
     "iopub.status.busy": "2025-05-28T20:32:48.163570Z",
     "iopub.status.idle": "2025-05-28T20:32:48.269135Z",
     "shell.execute_reply": "2025-05-28T20:32:48.268141Z"
    },
    "papermill": {
     "duration": 0.125026,
     "end_time": "2025-05-28T20:32:48.270542",
     "exception": false,
     "start_time": "2025-05-28T20:32:48.145516",
     "status": "completed"
    },
    "tags": []
   },
   "outputs": [
    {
     "data": {
      "text/html": [
       "<style type=\"text/css\">\n",
       "#T_5614f_row0_col1 {\n",
       "  background-color: #006837;\n",
       "  color: #f1f1f1;\n",
       "}\n",
       "#T_5614f_row1_col1 {\n",
       "  background-color: #18954f;\n",
       "  color: #f1f1f1;\n",
       "}\n",
       "#T_5614f_row2_col1 {\n",
       "  background-color: #89cc67;\n",
       "  color: #000000;\n",
       "}\n",
       "#T_5614f_row3_col1 {\n",
       "  background-color: #f5fbb2;\n",
       "  color: #000000;\n",
       "}\n",
       "#T_5614f_row4_col1 {\n",
       "  background-color: #fffebe;\n",
       "  color: #000000;\n",
       "}\n",
       "#T_5614f_row5_col1 {\n",
       "  background-color: #fdbb6c;\n",
       "  color: #000000;\n",
       "}\n",
       "#T_5614f_row6_col1 {\n",
       "  background-color: #a50026;\n",
       "  color: #f1f1f1;\n",
       "}\n",
       "</style>\n",
       "<table id=\"T_5614f\">\n",
       "  <thead>\n",
       "    <tr>\n",
       "      <th class=\"blank level0\" >&nbsp;</th>\n",
       "      <th id=\"T_5614f_level0_col0\" class=\"col_heading level0 col0\" >model</th>\n",
       "      <th id=\"T_5614f_level0_col1\" class=\"col_heading level0 col1\" >score_val</th>\n",
       "      <th id=\"T_5614f_level0_col2\" class=\"col_heading level0 col2\" >eval_metric</th>\n",
       "      <th id=\"T_5614f_level0_col3\" class=\"col_heading level0 col3\" >pred_time_val</th>\n",
       "      <th id=\"T_5614f_level0_col4\" class=\"col_heading level0 col4\" >fit_time</th>\n",
       "      <th id=\"T_5614f_level0_col5\" class=\"col_heading level0 col5\" >pred_time_val_marginal</th>\n",
       "      <th id=\"T_5614f_level0_col6\" class=\"col_heading level0 col6\" >fit_time_marginal</th>\n",
       "      <th id=\"T_5614f_level0_col7\" class=\"col_heading level0 col7\" >stack_level</th>\n",
       "      <th id=\"T_5614f_level0_col8\" class=\"col_heading level0 col8\" >can_infer</th>\n",
       "      <th id=\"T_5614f_level0_col9\" class=\"col_heading level0 col9\" >fit_order</th>\n",
       "    </tr>\n",
       "  </thead>\n",
       "  <tbody>\n",
       "    <tr>\n",
       "      <th id=\"T_5614f_level0_row0\" class=\"row_heading level0 row0\" >0</th>\n",
       "      <td id=\"T_5614f_row0_col0\" class=\"data row0 col0\" >WeightedEnsemble_L2</td>\n",
       "      <td id=\"T_5614f_row0_col1\" class=\"data row0 col1\" >0.108770</td>\n",
       "      <td id=\"T_5614f_row0_col2\" class=\"data row0 col2\" >pearsonr</td>\n",
       "      <td id=\"T_5614f_row0_col3\" class=\"data row0 col3\" >156.925931</td>\n",
       "      <td id=\"T_5614f_row0_col4\" class=\"data row0 col4\" >2454.921923</td>\n",
       "      <td id=\"T_5614f_row0_col5\" class=\"data row0 col5\" >0.015361</td>\n",
       "      <td id=\"T_5614f_row0_col6\" class=\"data row0 col6\" >1.707634</td>\n",
       "      <td id=\"T_5614f_row0_col7\" class=\"data row0 col7\" >2</td>\n",
       "      <td id=\"T_5614f_row0_col8\" class=\"data row0 col8\" >True</td>\n",
       "      <td id=\"T_5614f_row0_col9\" class=\"data row0 col9\" >7</td>\n",
       "    </tr>\n",
       "    <tr>\n",
       "      <th id=\"T_5614f_level0_row1\" class=\"row_heading level0 row1\" >1</th>\n",
       "      <td id=\"T_5614f_row1_col0\" class=\"data row1 col0\" >LightGBMXT_BAG_L1</td>\n",
       "      <td id=\"T_5614f_row1_col1\" class=\"data row1 col1\" >0.100414</td>\n",
       "      <td id=\"T_5614f_row1_col2\" class=\"data row1 col2\" >pearsonr</td>\n",
       "      <td id=\"T_5614f_row1_col3\" class=\"data row1 col3\" >4.386510</td>\n",
       "      <td id=\"T_5614f_row1_col4\" class=\"data row1 col4\" >646.616326</td>\n",
       "      <td id=\"T_5614f_row1_col5\" class=\"data row1 col5\" >4.386510</td>\n",
       "      <td id=\"T_5614f_row1_col6\" class=\"data row1 col6\" >646.616326</td>\n",
       "      <td id=\"T_5614f_row1_col7\" class=\"data row1 col7\" >1</td>\n",
       "      <td id=\"T_5614f_row1_col8\" class=\"data row1 col8\" >True</td>\n",
       "      <td id=\"T_5614f_row1_col9\" class=\"data row1 col9\" >1</td>\n",
       "    </tr>\n",
       "    <tr>\n",
       "      <th id=\"T_5614f_level0_row2\" class=\"row_heading level0 row2\" >2</th>\n",
       "      <td id=\"T_5614f_row2_col0\" class=\"data row2 col0\" >LightGBM_BAG_L1</td>\n",
       "      <td id=\"T_5614f_row2_col1\" class=\"data row2 col1\" >0.086754</td>\n",
       "      <td id=\"T_5614f_row2_col2\" class=\"data row2 col2\" >pearsonr</td>\n",
       "      <td id=\"T_5614f_row2_col3\" class=\"data row2 col3\" >4.692271</td>\n",
       "      <td id=\"T_5614f_row2_col4\" class=\"data row2 col4\" >725.545797</td>\n",
       "      <td id=\"T_5614f_row2_col5\" class=\"data row2 col5\" >4.692271</td>\n",
       "      <td id=\"T_5614f_row2_col6\" class=\"data row2 col6\" >725.545797</td>\n",
       "      <td id=\"T_5614f_row2_col7\" class=\"data row2 col7\" >1</td>\n",
       "      <td id=\"T_5614f_row2_col8\" class=\"data row2 col8\" >True</td>\n",
       "      <td id=\"T_5614f_row2_col9\" class=\"data row2 col9\" >2</td>\n",
       "    </tr>\n",
       "    <tr>\n",
       "      <th id=\"T_5614f_level0_row3\" class=\"row_heading level0 row3\" >3</th>\n",
       "      <td id=\"T_5614f_row3_col0\" class=\"data row3 col0\" >CatBoost_BAG_L1</td>\n",
       "      <td id=\"T_5614f_row3_col1\" class=\"data row3 col1\" >0.068093</td>\n",
       "      <td id=\"T_5614f_row3_col2\" class=\"data row3 col2\" >pearsonr</td>\n",
       "      <td id=\"T_5614f_row3_col3\" class=\"data row3 col3\" >147.831789</td>\n",
       "      <td id=\"T_5614f_row3_col4\" class=\"data row3 col4\" >1081.052166</td>\n",
       "      <td id=\"T_5614f_row3_col5\" class=\"data row3 col5\" >147.831789</td>\n",
       "      <td id=\"T_5614f_row3_col6\" class=\"data row3 col6\" >1081.052166</td>\n",
       "      <td id=\"T_5614f_row3_col7\" class=\"data row3 col7\" >1</td>\n",
       "      <td id=\"T_5614f_row3_col8\" class=\"data row3 col8\" >True</td>\n",
       "      <td id=\"T_5614f_row3_col9\" class=\"data row3 col9\" >3</td>\n",
       "    </tr>\n",
       "    <tr>\n",
       "      <th id=\"T_5614f_level0_row4\" class=\"row_heading level0 row4\" >4</th>\n",
       "      <td id=\"T_5614f_row4_col0\" class=\"data row4 col0\" >LightGBMLarge_BAG_L1</td>\n",
       "      <td id=\"T_5614f_row4_col1\" class=\"data row4 col1\" >0.065656</td>\n",
       "      <td id=\"T_5614f_row4_col2\" class=\"data row4 col2\" >pearsonr</td>\n",
       "      <td id=\"T_5614f_row4_col3\" class=\"data row4 col3\" >6.513288</td>\n",
       "      <td id=\"T_5614f_row4_col4\" class=\"data row4 col4\" >1094.012488</td>\n",
       "      <td id=\"T_5614f_row4_col5\" class=\"data row4 col5\" >6.513288</td>\n",
       "      <td id=\"T_5614f_row4_col6\" class=\"data row4 col6\" >1094.012488</td>\n",
       "      <td id=\"T_5614f_row4_col7\" class=\"data row4 col7\" >1</td>\n",
       "      <td id=\"T_5614f_row4_col8\" class=\"data row4 col8\" >True</td>\n",
       "      <td id=\"T_5614f_row4_col9\" class=\"data row4 col9\" >5</td>\n",
       "    </tr>\n",
       "    <tr>\n",
       "      <th id=\"T_5614f_level0_row5\" class=\"row_heading level0 row5\" >5</th>\n",
       "      <td id=\"T_5614f_row5_col0\" class=\"data row5 col0\" >ExtraTreesMSE_BAG_L1</td>\n",
       "      <td id=\"T_5614f_row5_col1\" class=\"data row5 col1\" >0.050986</td>\n",
       "      <td id=\"T_5614f_row5_col2\" class=\"data row5 col2\" >pearsonr</td>\n",
       "      <td id=\"T_5614f_row5_col3\" class=\"data row5 col3\" >20.358732</td>\n",
       "      <td id=\"T_5614f_row5_col4\" class=\"data row5 col4\" >24864.803575</td>\n",
       "      <td id=\"T_5614f_row5_col5\" class=\"data row5 col5\" >20.358732</td>\n",
       "      <td id=\"T_5614f_row5_col6\" class=\"data row5 col6\" >24864.803575</td>\n",
       "      <td id=\"T_5614f_row5_col7\" class=\"data row5 col7\" >1</td>\n",
       "      <td id=\"T_5614f_row5_col8\" class=\"data row5 col8\" >True</td>\n",
       "      <td id=\"T_5614f_row5_col9\" class=\"data row5 col9\" >4</td>\n",
       "    </tr>\n",
       "    <tr>\n",
       "      <th id=\"T_5614f_level0_row6\" class=\"row_heading level0 row6\" >6</th>\n",
       "      <td id=\"T_5614f_row6_col0\" class=\"data row6 col0\" >LightGBM_r131_BAG_L1</td>\n",
       "      <td id=\"T_5614f_row6_col1\" class=\"data row6 col1\" >0.022968</td>\n",
       "      <td id=\"T_5614f_row6_col2\" class=\"data row6 col2\" >pearsonr</td>\n",
       "      <td id=\"T_5614f_row6_col3\" class=\"data row6 col3\" >3.814927</td>\n",
       "      <td id=\"T_5614f_row6_col4\" class=\"data row6 col4\" >397.838890</td>\n",
       "      <td id=\"T_5614f_row6_col5\" class=\"data row6 col5\" >3.814927</td>\n",
       "      <td id=\"T_5614f_row6_col6\" class=\"data row6 col6\" >397.838890</td>\n",
       "      <td id=\"T_5614f_row6_col7\" class=\"data row6 col7\" >1</td>\n",
       "      <td id=\"T_5614f_row6_col8\" class=\"data row6 col8\" >True</td>\n",
       "      <td id=\"T_5614f_row6_col9\" class=\"data row6 col9\" >6</td>\n",
       "    </tr>\n",
       "  </tbody>\n",
       "</table>\n"
      ],
      "text/plain": [
       "<pandas.io.formats.style.Styler at 0x7f8f45b1d9d0>"
      ]
     },
     "execution_count": 12,
     "metadata": {},
     "output_type": "execute_result"
    }
   ],
   "source": [
    "predictor.leaderboard(silent=True).style.background_gradient(subset=[\"score_val\"], cmap=\"RdYlGn\")"
   ]
  },
  {
   "cell_type": "markdown",
   "id": "7e1227a5",
   "metadata": {
    "papermill": {
     "duration": 0.016533,
     "end_time": "2025-05-28T20:32:48.307974",
     "exception": false,
     "start_time": "2025-05-28T20:32:48.291441",
     "status": "completed"
    },
    "tags": []
   },
   "source": [
    "# Visualizing the ensemble weights"
   ]
  },
  {
   "cell_type": "code",
   "execution_count": 13,
   "id": "193051f1",
   "metadata": {
    "execution": {
     "iopub.execute_input": "2025-05-28T20:32:48.343013Z",
     "iopub.status.busy": "2025-05-28T20:32:48.342263Z",
     "iopub.status.idle": "2025-05-28T20:32:48.348705Z",
     "shell.execute_reply": "2025-05-28T20:32:48.347840Z"
    },
    "papermill": {
     "duration": 0.02573,
     "end_time": "2025-05-28T20:32:48.350367",
     "exception": false,
     "start_time": "2025-05-28T20:32:48.324637",
     "status": "completed"
    },
    "tags": []
   },
   "outputs": [],
   "source": [
    "def get_ensemble_weights(predictor):\n",
    "    info = predictor.info()\n",
    "    ensemble_weights = {}\n",
    "    for model_name, values in info[\"model_info\"].items():\n",
    "        if \"Ensemble\" in model_name:\n",
    "            children_info = values[\"children_info\"]\n",
    "            ensemble_weights[model_name] = values[\"children_info\"][list(children_info.keys())[0]][\"model_weights\"]\n",
    "    return ensemble_weights"
   ]
  },
  {
   "cell_type": "code",
   "execution_count": 14,
   "id": "57df2940",
   "metadata": {
    "execution": {
     "iopub.execute_input": "2025-05-28T20:32:48.391551Z",
     "iopub.status.busy": "2025-05-28T20:32:48.390602Z",
     "iopub.status.idle": "2025-05-28T20:33:05.912393Z",
     "shell.execute_reply": "2025-05-28T20:33:05.911406Z"
    },
    "papermill": {
     "duration": 17.541316,
     "end_time": "2025-05-28T20:33:05.913980",
     "exception": false,
     "start_time": "2025-05-28T20:32:48.372664",
     "status": "completed"
    },
    "tags": []
   },
   "outputs": [
    {
     "data": {
      "image/png": "[encoded data removed]",
      "text/plain": [
       "<Figure size 600x600 with 1 Axes>"
      ]
     },
     "metadata": {},
     "output_type": "display_data"
    }
   ],
   "source": [
    "ensemble_weights = get_ensemble_weights(predictor)\n",
    "\n",
    "for key, value in ensemble_weights.items():\n",
    "    plt.figure(figsize=(6, 6))\n",
    "    plt.pie(value.values(), labels=value.keys(), autopct=\"%1.1f%%\", colors=sns.color_palette(\"Set2\", len(value)))\n",
    "    plt.title(key)\n",
    "    plt.tight_layout()\n",
    "    plt.show()"
   ]
  },
  {
   "cell_type": "markdown",
   "id": "95265b92",
   "metadata": {
    "papermill": {
     "duration": 0.016776,
     "end_time": "2025-05-28T20:33:05.948465",
     "exception": false,
     "start_time": "2025-05-28T20:33:05.931689",
     "status": "completed"
    },
    "tags": []
   },
   "source": [
    "# Collecting and saving OOF files"
   ]
  },
  {
   "cell_type": "code",
   "execution_count": 15,
   "id": "39e1afc9",
   "metadata": {
    "execution": {
     "iopub.execute_input": "2025-05-28T20:33:05.983608Z",
     "iopub.status.busy": "2025-05-28T20:33:05.983290Z",
     "iopub.status.idle": "2025-05-28T20:33:05.989390Z",
     "shell.execute_reply": "2025-05-28T20:33:05.988722Z"
    },
    "papermill": {
     "duration": 0.025215,
     "end_time": "2025-05-28T20:33:05.990563",
     "exception": false,
     "start_time": "2025-05-28T20:33:05.965348",
     "status": "completed"
    },
    "tags": []
   },
   "outputs": [],
   "source": [
    "def save_preds(preds, cv_score, name, type, is_ensemble):\n",
    "    base_path = \"oof_preds\" if type == \"oof\" else \"test_preds\"\n",
    "    base_path = \".\" if is_ensemble else base_path\n",
    "    joblib.dump(preds, f\"{base_path}/{name}_{type}_preds_{cv_score:.6f}.pkl\")\n",
    "\n",
    "def save_submission(test_preds, score):\n",
    "    sub = pd.read_csv(CFG.sample_sub_path)\n",
    "    sub[\"prediction\"] = test_preds\n",
    "    sub.to_csv(f\"sub_autogluon_{score:.6f}.csv\", index=False)\n",
    "    \n",
    "os.makedirs(\"oof_preds\", exist_ok=True)\n",
    "os.makedirs(\"test_preds\", exist_ok=True)"
   ]
  },
  {
   "cell_type": "code",
   "execution_count": 16,
   "id": "6b582362",
   "metadata": {
    "execution": {
     "iopub.execute_input": "2025-05-28T20:33:06.025664Z",
     "iopub.status.busy": "2025-05-28T20:33:06.025359Z",
     "iopub.status.idle": "2025-05-28T20:33:06.029320Z",
     "shell.execute_reply": "2025-05-28T20:33:06.028619Z"
    },
    "papermill": {
     "duration": 0.022894,
     "end_time": "2025-05-28T20:33:06.030555",
     "exception": false,
     "start_time": "2025-05-28T20:33:06.007661",
     "status": "completed"
    },
    "tags": []
   },
   "outputs": [],
   "source": [
    "oof_preds = {}\n",
    "test_preds = {}"
   ]
  },
  {
   "cell_type": "code",
   "execution_count": 17,
   "id": "65685319",
   "metadata": {
    "_kg_hide-output": true,
    "execution": {
     "iopub.execute_input": "2025-05-28T20:33:06.066403Z",
     "iopub.status.busy": "2025-05-28T20:33:06.065601Z",
     "iopub.status.idle": "2025-05-28T20:50:43.568264Z",
     "shell.execute_reply": "2025-05-28T20:50:43.566177Z"
    },
    "papermill": {
     "duration": 1057.522857,
     "end_time": "2025-05-28T20:50:43.570449",
     "exception": false,
     "start_time": "2025-05-28T20:33:06.047592",
     "status": "completed"
    },
    "tags": []
   },
   "outputs": [],
   "source": [
    "best_model = predictor.model_best\n",
    "_test_preds = predictor.predict_multi(test)\n",
    "for model in predictor.model_names():\n",
    "    model_oof_preds = predictor.predict_oof(model).values\n",
    "    model_test_preds = _test_preds[model].values\n",
    "    \n",
    "    cv_score = pearsonr(train[CFG.target], model_oof_preds)[0]\n",
    "    if model != best_model:\n",
    "        save_preds(model_oof_preds, cv_score, model, \"oof\", False)\n",
    "        save_preds(model_test_preds, cv_score, model, \"test\", False)\n",
    "    else:\n",
    "        save_preds(model_oof_preds, cv_score, model, \"oof\", True)\n",
    "        save_preds(model_test_preds, cv_score, model, \"test\", True)\n",
    "        save_submission(model_test_preds, cv_score)\n",
    "        \n",
    "    oof_preds[model] = model_oof_preds\n",
    "    test_preds[model] = model_test_preds"
   ]
  },
  {
   "cell_type": "markdown",
   "id": "2fc7059d",
   "metadata": {
    "papermill": {
     "duration": 0.01787,
     "end_time": "2025-05-28T20:50:43.618776",
     "exception": false,
     "start_time": "2025-05-28T20:50:43.600906",
     "status": "completed"
    },
    "tags": []
   },
   "source": [
    "# Visualizing the results"
   ]
  },
  {
   "cell_type": "code",
   "execution_count": 18,
   "id": "f25bc6be",
   "metadata": {
    "execution": {
     "iopub.execute_input": "2025-05-28T20:50:43.655130Z",
     "iopub.status.busy": "2025-05-28T20:50:43.654474Z",
     "iopub.status.idle": "2025-05-28T20:50:43.950303Z",
     "shell.execute_reply": "2025-05-28T20:50:43.949401Z"
    },
    "papermill": {
     "duration": 0.315784,
     "end_time": "2025-05-28T20:50:43.952027",
     "exception": false,
     "start_time": "2025-05-28T20:50:43.636243",
     "status": "completed"
    },
    "tags": []
   },
   "outputs": [],
   "source": [
    "scores = {}\n",
    "split = KFold(n_splits=CFG.n_folds, shuffle=False).split(train, train[CFG.target])\n",
    "for fold_idx, (train_index, val_index) in enumerate(split):\n",
    "    for model in predictor.model_names():\n",
    "        fold_score = pearsonr(train.loc[val_index, CFG.target], oof_preds[model][val_index])[0]\n",
    "        if model not in scores:\n",
    "            scores[model] = []\n",
    "        scores[model].append(fold_score)"
   ]
  },
  {
   "cell_type": "code",
   "execution_count": 19,
   "id": "46e917df",
   "metadata": {
    "execution": {
     "iopub.execute_input": "2025-05-28T20:50:43.988398Z",
     "iopub.status.busy": "2025-05-28T20:50:43.987615Z",
     "iopub.status.idle": "2025-05-28T20:50:44.431450Z",
     "shell.execute_reply": "2025-05-28T20:50:44.430559Z"
    },
    "papermill": {
     "duration": 0.46331,
     "end_time": "2025-05-28T20:50:44.432943",
     "exception": false,
     "start_time": "2025-05-28T20:50:43.969633",
     "status": "completed"
    },
    "tags": []
   },
   "outputs": [
    {
     "data": {
      "image/png": "[encoded data removed]",
      "text/plain": [
       "<Figure size 1200x280 with 2 Axes>"
      ]
     },
     "metadata": {},
     "output_type": "display_data"
    }
   ],
   "source": [
    "scores = pd.DataFrame(scores)\n",
    "mean_scores = scores.mean().sort_values(ascending=False)\n",
    "order = scores.mean().sort_values(ascending=False).index.tolist()\n",
    "\n",
    "min_score = mean_scores.min()\n",
    "max_score = mean_scores.max()\n",
    "padding = (max_score - min_score) * 0.5\n",
    "lower_limit = min_score - padding\n",
    "upper_limit = max_score + padding\n",
    "\n",
    "fig, axs = plt.subplots(1, 2, figsize=(12, scores.shape[1] * 0.4))\n",
    "\n",
    "sns.boxplot(data=scores, order=order, ax=axs[0], orient=\"h\", palette=\"RdYlGn_r\")\n",
    "axs[0].set_title(\"Fold Score\")\n",
    "axs[0].set_xlabel(\"\")\n",
    "axs[0].set_ylabel(\"\")\n",
    "\n",
    "barplot = sns.barplot(x=mean_scores.values, y=mean_scores.index, ax=axs[1], palette=\"RdYlGn_r\")\n",
    "axs[1].set_title(\"Average Score\")\n",
    "axs[1].set_xlabel(\"\")\n",
    "axs[1].set_xlim(left=lower_limit, right=upper_limit)\n",
    "axs[1].set_ylabel(\"\")\n",
    "\n",
    "for i, score in enumerate(mean_scores.values):\n",
    "    barplot.text(score, i, round(score, 6), va=\"center\")\n",
    "\n",
    "plt.tight_layout()\n",
    "plt.show()"
   ]
  }
 ],
 "metadata": {
  "kaggle": {
   "accelerator": "none",
   "dataSources": [
    {
     "databundleVersionId": 11418275,
     "sourceId": 96164,
     "sourceType": "competition"
    }
   ],
   "dockerImageVersionId": 31040,
   "isGpuEnabled": false,
   "isInternetEnabled": true,
   "language": "python",
   "sourceType": "notebook"
  },
  "kernelspec": {
   "display_name": "Python 3",
   "language": "python",
   "name": "python3"
  },
  "language_info": {
   "codemirror_mode": {
    "name": "ipython",
    "version": 3
   },
   "file_extension": ".py",
   "mimetype": "text/x-python",
   "name": "python",
   "nbconvert_exporter": "python",
   "pygments_lexer": "ipython3",
   "version": "3.11.11"
  },
  "papermill": {
   "default_parameters": {},
   "duration": 40783.654575,
   "end_time": "2025-05-28T20:50:48.056289",
   "environment_variables": {},
   "exception": null,
   "input_path": "__notebook__.ipynb",
   "output_path": "__notebook__.ipynb",
   "parameters": {},
   "start_time": "2025-05-28T09:31:04.401714",
   "version": "2.6.0"
  }
 },
 "nbformat": 4,
 "nbformat_minor": 5
}
