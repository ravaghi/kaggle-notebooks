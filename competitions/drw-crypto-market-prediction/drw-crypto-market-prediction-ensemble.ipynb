{
 "cells": [
  {
   "cell_type": "code",
   "execution_count": 1,
   "id": "ed2b69a2",
   "metadata": {
    "_kg_hide-output": true,
    "execution": {
     "iopub.execute_input": "2025-05-30T06:38:21.339943Z",
     "iopub.status.busy": "2025-05-30T06:38:21.339128Z",
     "iopub.status.idle": "2025-05-30T06:38:30.626772Z",
     "shell.execute_reply": "2025-05-30T06:38:30.625738Z"
    },
    "papermill": {
     "duration": 9.295653,
     "end_time": "2025-05-30T06:38:30.628641",
     "exception": false,
     "start_time": "2025-05-30T06:38:21.332988",
     "status": "completed"
    },
    "scrolled": true,
    "tags": []
   },
   "outputs": [
    {
     "name": "stdout",
     "output_type": "stream",
     "text": [
      "Collecting koolbox\r\n",
      "  Downloading koolbox-0.1.3-py3-none-any.whl.metadata (3.4 kB)\r\n",
      "Collecting scikit-learn==1.5.2\r\n",
      "  Downloading scikit_learn-1.5.2-cp311-cp311-manylinux_2_17_x86_64.manylinux2014_x86_64.whl.metadata (13 kB)\r\n",
      "Requirement already satisfied: numpy>=1.19.5 in /usr/local/lib/python3.11/dist-packages (from scikit-learn==1.5.2) (1.26.4)\r\n",
      "Requirement already satisfied: scipy>=1.6.0 in /usr/local/lib/python3.11/dist-packages (from scikit-learn==1.5.2) (1.15.2)\r\n",
      "Requirement already satisfied: joblib>=1.2.0 in /usr/local/lib/python3.11/dist-packages (from scikit-learn==1.5.2) (1.5.0)\r\n",
      "Requirement already satisfied: threadpoolctl>=3.1.0 in /usr/local/lib/python3.11/dist-packages (from scikit-learn==1.5.2) (3.6.0)\r\n",
      "Requirement already satisfied: optuna>=4.2.1 in /usr/local/lib/python3.11/dist-packages (from koolbox) (4.3.0)\r\n",
      "Requirement already satisfied: pandas>=2.2.3 in /usr/local/lib/python3.11/dist-packages (from koolbox) (2.2.3)\r\n",
      "Requirement already satisfied: mkl_fft in /usr/local/lib/python3.11/dist-packages (from numpy>=1.19.5->scikit-learn==1.5.2) (1.3.8)\r\n",
      "Requirement already satisfied: mkl_random in /usr/local/lib/python3.11/dist-packages (from numpy>=1.19.5->scikit-learn==1.5.2) (1.2.4)\r\n",
      "Requirement already satisfied: mkl_umath in /usr/local/lib/python3.11/dist-packages (from numpy>=1.19.5->scikit-learn==1.5.2) (0.1.1)\r\n",
      "Requirement already satisfied: mkl in /usr/local/lib/python3.11/dist-packages (from numpy>=1.19.5->scikit-learn==1.5.2) (2025.1.0)\r\n",
      "Requirement already satisfied: tbb4py in /usr/local/lib/python3.11/dist-packages (from numpy>=1.19.5->scikit-learn==1.5.2) (2022.1.0)\r\n",
      "Requirement already satisfied: mkl-service in /usr/local/lib/python3.11/dist-packages (from numpy>=1.19.5->scikit-learn==1.5.2) (2.4.1)\r\n",
      "Requirement already satisfied: alembic>=1.5.0 in /usr/local/lib/python3.11/dist-packages (from optuna>=4.2.1->koolbox) (1.15.2)\r\n",
      "Requirement already satisfied: colorlog in /usr/local/lib/python3.11/dist-packages (from optuna>=4.2.1->koolbox) (6.9.0)\r\n",
      "Requirement already satisfied: packaging>=20.0 in /usr/local/lib/python3.11/dist-packages (from optuna>=4.2.1->koolbox) (25.0)\r\n",
      "Requirement already satisfied: sqlalchemy>=1.4.2 in /usr/local/lib/python3.11/dist-packages (from optuna>=4.2.1->koolbox) (2.0.40)\r\n",
      "Requirement already satisfied: tqdm in /usr/local/lib/python3.11/dist-packages (from optuna>=4.2.1->koolbox) (4.67.1)\r\n",
      "Requirement already satisfied: PyYAML in /usr/local/lib/python3.11/dist-packages (from optuna>=4.2.1->koolbox) (6.0.2)\r\n",
      "Requirement already satisfied: python-dateutil>=2.8.2 in /usr/local/lib/python3.11/dist-packages (from pandas>=2.2.3->koolbox) (2.9.0.post0)\r\n",
      "Requirement already satisfied: pytz>=2020.1 in /usr/local/lib/python3.11/dist-packages (from pandas>=2.2.3->koolbox) (2025.2)\r\n",
      "Requirement already satisfied: tzdata>=2022.7 in /usr/local/lib/python3.11/dist-packages (from pandas>=2.2.3->koolbox) (2025.2)\r\n",
      "Requirement already satisfied: Mako in /usr/local/lib/python3.11/dist-packages (from alembic>=1.5.0->optuna>=4.2.1->koolbox) (1.3.10)\r\n",
      "Requirement already satisfied: typing-extensions>=4.12 in /usr/local/lib/python3.11/dist-packages (from alembic>=1.5.0->optuna>=4.2.1->koolbox) (4.13.2)\r\n",
      "Requirement already satisfied: six>=1.5 in /usr/local/lib/python3.11/dist-packages (from python-dateutil>=2.8.2->pandas>=2.2.3->koolbox) (1.17.0)\r\n",
      "Requirement already satisfied: greenlet>=1 in /usr/local/lib/python3.11/dist-packages (from sqlalchemy>=1.4.2->optuna>=4.2.1->koolbox) (3.1.1)\r\n",
      "Requirement already satisfied: intel-openmp<2026,>=2024 in /usr/local/lib/python3.11/dist-packages (from mkl->numpy>=1.19.5->scikit-learn==1.5.2) (2024.2.0)\r\n",
      "Requirement already satisfied: tbb==2022.* in /usr/local/lib/python3.11/dist-packages (from mkl->numpy>=1.19.5->scikit-learn==1.5.2) (2022.1.0)\r\n",
      "Requirement already satisfied: tcmlib==1.* in /usr/local/lib/python3.11/dist-packages (from tbb==2022.*->mkl->numpy>=1.19.5->scikit-learn==1.5.2) (1.3.0)\r\n",
      "Requirement already satisfied: intel-cmplr-lib-rt in /usr/local/lib/python3.11/dist-packages (from mkl_umath->numpy>=1.19.5->scikit-learn==1.5.2) (2024.2.0)\r\n",
      "Requirement already satisfied: intel-cmplr-lib-ur==2024.2.0 in /usr/local/lib/python3.11/dist-packages (from intel-openmp<2026,>=2024->mkl->numpy>=1.19.5->scikit-learn==1.5.2) (2024.2.0)\r\n",
      "Requirement already satisfied: MarkupSafe>=0.9.2 in /usr/local/lib/python3.11/dist-packages (from Mako->alembic>=1.5.0->optuna>=4.2.1->koolbox) (3.0.2)\r\n",
      "Downloading scikit_learn-1.5.2-cp311-cp311-manylinux_2_17_x86_64.manylinux2014_x86_64.whl (13.3 MB)\r\n",
      "\u001b[2K   \u001b[90m━━━━━━━━━━━━━━━━━━━━━━━━━━━━━━━━━━━━━━━━\u001b[0m \u001b[32m13.3/13.3 MB\u001b[0m \u001b[31m98.5 MB/s\u001b[0m eta \u001b[36m0:00:00\u001b[0m\r\n",
      "\u001b[?25hDownloading koolbox-0.1.3-py3-none-any.whl (18 kB)\r\n",
      "Installing collected packages: scikit-learn, koolbox\r\n",
      "  Attempting uninstall: scikit-learn\r\n",
      "    Found existing installation: scikit-learn 1.2.2\r\n",
      "    Uninstalling scikit-learn-1.2.2:\r\n",
      "      Successfully uninstalled scikit-learn-1.2.2\r\n",
      "\u001b[31mERROR: pip's dependency resolver does not currently take into account all the packages that are installed. This behaviour is the source of the following dependency conflicts.\r\n",
      "cesium 0.12.4 requires numpy<3.0,>=2.0, but you have numpy 1.26.4 which is incompatible.\u001b[0m\u001b[31m\r\n",
      "\u001b[0mSuccessfully installed koolbox-0.1.3 scikit-learn-1.5.2\r\n"
     ]
    }
   ],
   "source": [
    "!pip install koolbox scikit-learn==1.5.2"
   ]
  },
  {
   "cell_type": "markdown",
   "id": "e9cf6eaf",
   "metadata": {
    "papermill": {
     "duration": 0.004841,
     "end_time": "2025-05-30T06:38:30.639152",
     "exception": false,
     "start_time": "2025-05-30T06:38:30.634311",
     "status": "completed"
    },
    "tags": []
   },
   "source": [
    "# Imports and configs"
   ]
  },
  {
   "cell_type": "code",
   "execution_count": 2,
   "id": "3637db20",
   "metadata": {
    "_kg_hide-output": true,
    "execution": {
     "iopub.execute_input": "2025-05-30T06:38:30.650692Z",
     "iopub.status.busy": "2025-05-30T06:38:30.650400Z",
     "iopub.status.idle": "2025-05-30T06:38:39.872146Z",
     "shell.execute_reply": "2025-05-30T06:38:39.871256Z"
    },
    "papermill": {
     "duration": 9.229483,
     "end_time": "2025-05-30T06:38:39.873721",
     "exception": false,
     "start_time": "2025-05-30T06:38:30.644238",
     "status": "completed"
    },
    "tags": []
   },
   "outputs": [],
   "source": [
    "from sklearn.model_selection import KFold\n",
    "from sklearn.linear_model import Ridge\n",
    "from lightgbm import LGBMRegressor\n",
    "from scipy.stats import pearsonr\n",
    "from xgboost import XGBRegressor\n",
    "from sklearn.base import clone\n",
    "from koolbox import Trainer\n",
    "import matplotlib.pyplot as plt\n",
    "import seaborn as sns\n",
    "import pandas as pd\n",
    "import numpy as np\n",
    "import warnings\n",
    "import optuna\n",
    "import joblib\n",
    "import gc\n",
    "\n",
    "warnings.filterwarnings(\"ignore\")"
   ]
  },
  {
   "cell_type": "code",
   "execution_count": 3,
   "id": "4001cb00",
   "metadata": {
    "execution": {
     "iopub.execute_input": "2025-05-30T06:38:39.885739Z",
     "iopub.status.busy": "2025-05-30T06:38:39.884782Z",
     "iopub.status.idle": "2025-05-30T06:38:39.889647Z",
     "shell.execute_reply": "2025-05-30T06:38:39.888955Z"
    },
    "papermill": {
     "duration": 0.011975,
     "end_time": "2025-05-30T06:38:39.891047",
     "exception": false,
     "start_time": "2025-05-30T06:38:39.879072",
     "status": "completed"
    },
    "tags": []
   },
   "outputs": [],
   "source": [
    "class CFG:\n",
    "    train_path = \"/kaggle/input/drw-crypto-market-prediction/train.parquet\"\n",
    "    test_path = \"/kaggle/input/drw-crypto-market-prediction/test.parquet\"\n",
    "    sample_sub_path = \"/kaggle/input/drw-crypto-market-prediction/sample_submission.csv\"\n",
    "\n",
    "    target = \"label\"\n",
    "    n_folds = 5\n",
    "    seed = 42\n",
    "\n",
    "    run_optuna = True\n",
    "    n_optuna_trials = 250"
   ]
  },
  {
   "cell_type": "markdown",
   "id": "c1eec7c2",
   "metadata": {
    "papermill": {
     "duration": 0.004722,
     "end_time": "2025-05-30T06:38:39.900981",
     "exception": false,
     "start_time": "2025-05-30T06:38:39.896259",
     "status": "completed"
    },
    "tags": []
   },
   "source": [
    "# Data loading and preprocessing"
   ]
  },
  {
   "cell_type": "code",
   "execution_count": 4,
   "id": "e87ec562",
   "metadata": {
    "_kg_hide-input": true,
    "execution": {
     "iopub.execute_input": "2025-05-30T06:38:39.912811Z",
     "iopub.status.busy": "2025-05-30T06:38:39.911892Z",
     "iopub.status.idle": "2025-05-30T06:38:39.921700Z",
     "shell.execute_reply": "2025-05-30T06:38:39.920549Z"
    },
    "papermill": {
     "duration": 0.017359,
     "end_time": "2025-05-30T06:38:39.923418",
     "exception": false,
     "start_time": "2025-05-30T06:38:39.906059",
     "status": "completed"
    },
    "tags": []
   },
   "outputs": [],
   "source": [
    "def reduce_mem_usage(dataframe, dataset):    \n",
    "    print('Reducing memory usage for:', dataset)\n",
    "    initial_mem_usage = dataframe.memory_usage().sum() / 1024**2\n",
    "    \n",
    "    for col in dataframe.columns:\n",
    "        col_type = dataframe[col].dtype\n",
    "\n",
    "        c_min = dataframe[col].min()\n",
    "        c_max = dataframe[col].max()\n",
    "        if str(col_type)[:3] == 'int':\n",
    "            if c_min > np.iinfo(np.int8).min and c_max < np.iinfo(np.int8).max:\n",
    "                dataframe[col] = dataframe[col].astype(np.int8)\n",
    "            elif c_min > np.iinfo(np.int16).min and c_max < np.iinfo(np.int16).max:\n",
    "                dataframe[col] = dataframe[col].astype(np.int16)\n",
    "            elif c_min > np.iinfo(np.int32).min and c_max < np.iinfo(np.int32).max:\n",
    "                dataframe[col] = dataframe[col].astype(np.int32)\n",
    "            elif c_min > np.iinfo(np.int64).min and c_max < np.iinfo(np.int64).max:\n",
    "                dataframe[col] = dataframe[col].astype(np.int64)\n",
    "        else:\n",
    "            if c_min > np.finfo(np.float16).min and c_max < np.finfo(np.float16).max:\n",
    "                dataframe[col] = dataframe[col].astype(np.float16)\n",
    "            elif c_min > np.finfo(np.float32).min and c_max < np.finfo(np.float32).max:\n",
    "                dataframe[col] = dataframe[col].astype(np.float32)\n",
    "            else:\n",
    "                dataframe[col] = dataframe[col].astype(np.float64)\n",
    "\n",
    "    final_mem_usage = dataframe.memory_usage().sum() / 1024**2\n",
    "    print('--- Memory usage before: {:.2f} MB'.format(initial_mem_usage))\n",
    "    print('--- Memory usage after: {:.2f} MB'.format(final_mem_usage))\n",
    "    print('--- Decreased memory usage by {:.1f}%\\n'.format(100 * (initial_mem_usage - final_mem_usage) / initial_mem_usage))\n",
    "\n",
    "    return dataframe"
   ]
  },
  {
   "cell_type": "code",
   "execution_count": 5,
   "id": "6fb21b20",
   "metadata": {
    "execution": {
     "iopub.execute_input": "2025-05-30T06:38:39.935098Z",
     "iopub.status.busy": "2025-05-30T06:38:39.934752Z",
     "iopub.status.idle": "2025-05-30T06:38:39.941341Z",
     "shell.execute_reply": "2025-05-30T06:38:39.940485Z"
    },
    "papermill": {
     "duration": 0.013998,
     "end_time": "2025-05-30T06:38:39.942852",
     "exception": false,
     "start_time": "2025-05-30T06:38:39.928854",
     "status": "completed"
    },
    "tags": []
   },
   "outputs": [],
   "source": [
    "def add_features(df):\n",
    "    data = df.copy()\n",
    "    features_df = pd.DataFrame(index=data.index)\n",
    "    \n",
    "    features_df['total_liquidity'] = data['bid_qty'] + data['ask_qty']\n",
    "    features_df['trade_imbalance'] = data['buy_qty'] - data['sell_qty']\n",
    "    features_df['total_trades'] = data['buy_qty'] + data['sell_qty']\n",
    "    features_df['volume_per_trade'] = data['volume'] / (data['buy_qty'] + data['sell_qty'] + 1e-8)\n",
    "    features_df['order_imbalance'] = (data['bid_qty'] - data['ask_qty']) / (data['bid_qty'] + data['ask_qty'] + 1e-8)\n",
    "    features_df['ask_liquidity_ratio'] = data['ask_qty'] / (data['volume'] + 1e-8)\n",
    "    features_df['liquidity_competition'] = (data['bid_qty'] * data['ask_qty']) / ((data['bid_qty'] + data['ask_qty']) + 1e-8)\n",
    "    total_activity = data['buy_qty'] + data['sell_qty'] + data['bid_qty'] + data['ask_qty']\n",
    "    \n",
    "    features_df = features_df.replace([np.inf, -np.inf], np.nan)\n",
    "    \n",
    "    return features_df"
   ]
  },
  {
   "cell_type": "code",
   "execution_count": 6,
   "id": "10b8bad1",
   "metadata": {
    "execution": {
     "iopub.execute_input": "2025-05-30T06:38:39.954476Z",
     "iopub.status.busy": "2025-05-30T06:38:39.954099Z",
     "iopub.status.idle": "2025-05-30T06:38:39.959429Z",
     "shell.execute_reply": "2025-05-30T06:38:39.958584Z"
    },
    "papermill": {
     "duration": 0.012448,
     "end_time": "2025-05-30T06:38:39.960707",
     "exception": false,
     "start_time": "2025-05-30T06:38:39.948259",
     "status": "completed"
    },
    "tags": []
   },
   "outputs": [],
   "source": [
    "cols_to_drop = [\n",
    "    'X697', 'X698', 'X699', 'X700', 'X701', 'X702', 'X703', 'X704', 'X705', 'X706', \n",
    "    'X707', 'X708', 'X709', 'X710', 'X711', 'X712', 'X713', 'X714', 'X715', 'X716',\n",
    "    'X717', 'X864', 'X867', 'X869', 'X870', 'X871', 'X872', 'X104', 'X110', 'X116',\n",
    "    'X122', 'X128', 'X134', 'X140', 'X146', 'X152', 'X158', 'X164', 'X170', 'X176',\n",
    "    'X182', 'X351', 'X357', 'X363', 'X369', 'X375', 'X381', 'X387', 'X393', 'X399',\n",
    "    'X405', 'X411', 'X417', 'X423', 'X429'\n",
    "]"
   ]
  },
  {
   "cell_type": "code",
   "execution_count": 7,
   "id": "2ae53cfc",
   "metadata": {
    "execution": {
     "iopub.execute_input": "2025-05-30T06:38:39.972387Z",
     "iopub.status.busy": "2025-05-30T06:38:39.972089Z",
     "iopub.status.idle": "2025-05-30T06:39:45.733252Z",
     "shell.execute_reply": "2025-05-30T06:39:45.732297Z"
    },
    "papermill": {
     "duration": 65.768515,
     "end_time": "2025-05-30T06:39:45.734869",
     "exception": false,
     "start_time": "2025-05-30T06:38:39.966354",
     "status": "completed"
    },
    "tags": []
   },
   "outputs": [
    {
     "name": "stdout",
     "output_type": "stream",
     "text": [
      "Reducing memory usage for: train\n",
      "--- Memory usage before: 3374.26 MB\n",
      "--- Memory usage after: 843.57 MB\n",
      "--- Decreased memory usage by 75.0%\n",
      "\n",
      "Reducing memory usage for: test\n",
      "--- Memory usage before: 3448.84 MB\n",
      "--- Memory usage after: 862.21 MB\n",
      "--- Decreased memory usage by 75.0%\n",
      "\n"
     ]
    }
   ],
   "source": [
    "train = pd.read_parquet(CFG.train_path).reset_index(drop=True)\n",
    "test = pd.read_parquet(CFG.test_path).reset_index(drop=True)\n",
    "\n",
    "train = train.drop(columns=cols_to_drop)\n",
    "test = test.drop(columns=[\"label\"] + cols_to_drop)\n",
    "\n",
    "train = reduce_mem_usage(train, \"train\")\n",
    "test = reduce_mem_usage(test, \"test\")\n",
    "\n",
    "X = train.drop(CFG.target, axis=1)\n",
    "y = train[CFG.target]\n",
    "X_test = test"
   ]
  },
  {
   "cell_type": "code",
   "execution_count": 8,
   "id": "6990614b",
   "metadata": {
    "execution": {
     "iopub.execute_input": "2025-05-30T06:39:45.746854Z",
     "iopub.status.busy": "2025-05-30T06:39:45.746542Z",
     "iopub.status.idle": "2025-05-30T06:39:50.243833Z",
     "shell.execute_reply": "2025-05-30T06:39:50.242952Z"
    },
    "papermill": {
     "duration": 4.50519,
     "end_time": "2025-05-30T06:39:50.245517",
     "exception": false,
     "start_time": "2025-05-30T06:39:45.740327",
     "status": "completed"
    },
    "tags": []
   },
   "outputs": [],
   "source": [
    "X = pd.concat([add_features(X), X], axis=1)\n",
    "X_test = pd.concat([add_features(X_test), X_test], axis=1)"
   ]
  },
  {
   "cell_type": "markdown",
   "id": "fbce7dac",
   "metadata": {
    "papermill": {
     "duration": 0.005098,
     "end_time": "2025-05-30T06:39:50.256278",
     "exception": false,
     "start_time": "2025-05-30T06:39:50.251180",
     "status": "completed"
    },
    "tags": []
   },
   "source": [
    "# Training base models"
   ]
  },
  {
   "cell_type": "code",
   "execution_count": 9,
   "id": "fb01fb89",
   "metadata": {
    "execution": {
     "iopub.execute_input": "2025-05-30T06:39:50.268295Z",
     "iopub.status.busy": "2025-05-30T06:39:50.267935Z",
     "iopub.status.idle": "2025-05-30T06:39:50.272042Z",
     "shell.execute_reply": "2025-05-30T06:39:50.271327Z"
    },
    "papermill": {
     "duration": 0.011718,
     "end_time": "2025-05-30T06:39:50.273286",
     "exception": false,
     "start_time": "2025-05-30T06:39:50.261568",
     "status": "completed"
    },
    "tags": []
   },
   "outputs": [],
   "source": [
    "def _pearsonr(y_true, y_pred):\n",
    "    return pearsonr(y_true, y_pred)[0]"
   ]
  },
  {
   "cell_type": "code",
   "execution_count": 10,
   "id": "b58f64ad",
   "metadata": {
    "_kg_hide-input": true,
    "_kg_hide-output": true,
    "execution": {
     "iopub.execute_input": "2025-05-30T06:39:50.285341Z",
     "iopub.status.busy": "2025-05-30T06:39:50.284734Z",
     "iopub.status.idle": "2025-05-30T06:39:50.291190Z",
     "shell.execute_reply": "2025-05-30T06:39:50.290444Z"
    },
    "papermill": {
     "duration": 0.013873,
     "end_time": "2025-05-30T06:39:50.292472",
     "exception": false,
     "start_time": "2025-05-30T06:39:50.278599",
     "status": "completed"
    },
    "tags": []
   },
   "outputs": [],
   "source": [
    "lgbm_params = {\n",
    "    \"boosting_type\": \"gbdt\",\n",
    "    \"colsample_bytree\": 0.5625888953382505,\n",
    "    \"learning_rate\": 0.029312951475451557,\n",
    "    \"min_child_samples\": 63,\n",
    "    \"min_child_weight\": 0.11456572852335424,\n",
    "    \"n_estimators\": 126,\n",
    "    \"n_jobs\": -1,\n",
    "    \"num_leaves\": 37,\n",
    "    \"random_state\": 42,\n",
    "    \"reg_alpha\": 85.2476527854083,\n",
    "    \"reg_lambda\": 99.38305361388907,\n",
    "    \"subsample\": 0.450669817684892,\n",
    "    \"verbose\": -1\n",
    "}\n",
    "\n",
    "lgbm_goss_params = {\n",
    "    \"boosting_type\": \"goss\",\n",
    "    \"colsample_bytree\": 0.34695458228489784,\n",
    "    \"learning_rate\": 0.031023014900595287,\n",
    "    \"min_child_samples\": 30,\n",
    "    \"min_child_weight\": 0.4727729225033618,\n",
    "    \"n_estimators\": 220,\n",
    "    \"n_jobs\": -1,\n",
    "    \"num_leaves\": 58,\n",
    "    \"random_state\": 42,\n",
    "    \"reg_alpha\": 38.665994901468224,\n",
    "    \"reg_lambda\": 92.76991677464294,\n",
    "    \"subsample\": 0.4810891284493255,\n",
    "    \"verbose\": -1\n",
    "}\n",
    "\n",
    "xgb_params = {\n",
    "    \"colsample_bylevel\": 0.4778015829774066,\n",
    "    \"colsample_bynode\": 0.362764358742407,\n",
    "    \"colsample_bytree\": 0.7107423488010493,\n",
    "    \"gamma\": 1.7094857725240398,\n",
    "    \"learning_rate\": 0.02213323588455387,\n",
    "    \"max_depth\": 20,\n",
    "    \"max_leaves\": 12,\n",
    "    \"min_child_weight\": 16,\n",
    "    \"n_estimators\": 1667,\n",
    "    \"n_jobs\": -1,\n",
    "    \"random_state\": 42,\n",
    "    \"reg_alpha\": 39.352415706891264,\n",
    "    \"reg_lambda\": 75.44843704068275,\n",
    "    \"subsample\": 0.06566669853471274,\n",
    "    \"verbosity\": 0\n",
    "}"
   ]
  },
  {
   "cell_type": "code",
   "execution_count": 11,
   "id": "9cbd7242",
   "metadata": {
    "execution": {
     "iopub.execute_input": "2025-05-30T06:39:50.304674Z",
     "iopub.status.busy": "2025-05-30T06:39:50.304366Z",
     "iopub.status.idle": "2025-05-30T06:39:50.308567Z",
     "shell.execute_reply": "2025-05-30T06:39:50.307710Z"
    },
    "papermill": {
     "duration": 0.011973,
     "end_time": "2025-05-30T06:39:50.310051",
     "exception": false,
     "start_time": "2025-05-30T06:39:50.298078",
     "status": "completed"
    },
    "tags": []
   },
   "outputs": [],
   "source": [
    "scores = {}\n",
    "oof_preds = {}\n",
    "test_preds = {}"
   ]
  },
  {
   "cell_type": "markdown",
   "id": "2c8e4dbd",
   "metadata": {
    "papermill": {
     "duration": 0.005292,
     "end_time": "2025-05-30T06:39:50.320949",
     "exception": false,
     "start_time": "2025-05-30T06:39:50.315657",
     "status": "completed"
    },
    "tags": []
   },
   "source": [
    "## LightGBM (gbdt)"
   ]
  },
  {
   "cell_type": "code",
   "execution_count": 12,
   "id": "5be99828",
   "metadata": {
    "execution": {
     "iopub.execute_input": "2025-05-30T06:39:50.333657Z",
     "iopub.status.busy": "2025-05-30T06:39:50.332761Z",
     "iopub.status.idle": "2025-05-30T06:48:06.752026Z",
     "shell.execute_reply": "2025-05-30T06:48:06.751076Z"
    },
    "papermill": {
     "duration": 496.427616,
     "end_time": "2025-05-30T06:48:06.753893",
     "exception": false,
     "start_time": "2025-05-30T06:39:50.326277",
     "status": "completed"
    },
    "tags": []
   },
   "outputs": [
    {
     "name": "stdout",
     "output_type": "stream",
     "text": [
      "Training LGBMRegressor\n",
      "\n",
      "--- Fold 0 - _pearsonr: 0.146185 - Time: 89.22 s\n",
      "--- Fold 1 - _pearsonr: 0.102150 - Time: 91.24 s\n",
      "--- Fold 2 - _pearsonr: 0.043532 - Time: 96.44 s\n",
      "--- Fold 3 - _pearsonr: 0.161589 - Time: 93.01 s\n",
      "--- Fold 4 - _pearsonr: 0.065915 - Time: 93.29 s\n",
      "\n",
      "------ Overall _pearsonr: 0.091634 - Mean _pearsonr: 0.103874 ± 0.045180 - Time: 463.96 s\n"
     ]
    }
   ],
   "source": [
    "lgbm_trainer = Trainer(\n",
    "    LGBMRegressor(**lgbm_params),\n",
    "    cv=KFold(n_splits=5, shuffle=False),\n",
    "    metric=_pearsonr,\n",
    "    task=\"regression\",\n",
    "    metric_precision=6\n",
    ")\n",
    "\n",
    "lgbm_trainer.fit(X, y)\n",
    "\n",
    "scores[\"LightGBM (gbdt)\"] = lgbm_trainer.fold_scores\n",
    "oof_preds[\"LightGBM (gbdt)\"] = lgbm_trainer.oof_preds\n",
    "test_preds[\"LightGBM (gbdt)\"] = lgbm_trainer.predict(X_test)"
   ]
  },
  {
   "cell_type": "markdown",
   "id": "8dbb9c7b",
   "metadata": {
    "papermill": {
     "duration": 0.005373,
     "end_time": "2025-05-30T06:48:06.765471",
     "exception": false,
     "start_time": "2025-05-30T06:48:06.760098",
     "status": "completed"
    },
    "tags": []
   },
   "source": [
    "## LightGBM (goss)"
   ]
  },
  {
   "cell_type": "code",
   "execution_count": 13,
   "id": "a04503f3",
   "metadata": {
    "execution": {
     "iopub.execute_input": "2025-05-30T06:48:06.778406Z",
     "iopub.status.busy": "2025-05-30T06:48:06.778081Z",
     "iopub.status.idle": "2025-05-30T06:57:07.515068Z",
     "shell.execute_reply": "2025-05-30T06:57:07.514144Z"
    },
    "papermill": {
     "duration": 540.74568,
     "end_time": "2025-05-30T06:57:07.517058",
     "exception": false,
     "start_time": "2025-05-30T06:48:06.771378",
     "status": "completed"
    },
    "tags": []
   },
   "outputs": [
    {
     "name": "stdout",
     "output_type": "stream",
     "text": [
      "Training LGBMRegressor\n",
      "\n",
      "--- Fold 0 - _pearsonr: 0.157647 - Time: 97.02 s\n",
      "--- Fold 1 - _pearsonr: 0.094265 - Time: 96.67 s\n",
      "--- Fold 2 - _pearsonr: 0.047413 - Time: 97.37 s\n",
      "--- Fold 3 - _pearsonr: 0.128916 - Time: 100.72 s\n",
      "--- Fold 4 - _pearsonr: 0.061159 - Time: 98.50 s\n",
      "\n",
      "------ Overall _pearsonr: 0.090150 - Mean _pearsonr: 0.097880 ± 0.041094 - Time: 491.03 s\n"
     ]
    }
   ],
   "source": [
    "lgbm_goss_trainer = Trainer(\n",
    "    LGBMRegressor(**lgbm_goss_params),\n",
    "    cv=KFold(n_splits=5, shuffle=False),\n",
    "    metric=_pearsonr,\n",
    "    task=\"regression\",\n",
    "    metric_precision=6\n",
    ")\n",
    "\n",
    "lgbm_goss_trainer.fit(X, y)\n",
    "\n",
    "scores[\"LightGBM (goss)\"] = lgbm_goss_trainer.fold_scores\n",
    "oof_preds[\"LightGBM (goss)\"] = lgbm_goss_trainer.oof_preds\n",
    "test_preds[\"LightGBM (goss)\"] = lgbm_goss_trainer.predict(X_test)"
   ]
  },
  {
   "cell_type": "markdown",
   "id": "2fe9d73a",
   "metadata": {
    "papermill": {
     "duration": 0.006014,
     "end_time": "2025-05-30T06:57:07.529890",
     "exception": false,
     "start_time": "2025-05-30T06:57:07.523876",
     "status": "completed"
    },
    "tags": []
   },
   "source": [
    "## XGBoost"
   ]
  },
  {
   "cell_type": "code",
   "execution_count": 14,
   "id": "a179cc8a",
   "metadata": {
    "execution": {
     "iopub.execute_input": "2025-05-30T06:57:07.543608Z",
     "iopub.status.busy": "2025-05-30T06:57:07.543287Z",
     "iopub.status.idle": "2025-05-30T08:48:56.620073Z",
     "shell.execute_reply": "2025-05-30T08:48:56.618847Z"
    },
    "papermill": {
     "duration": 6709.086804,
     "end_time": "2025-05-30T08:48:56.622897",
     "exception": false,
     "start_time": "2025-05-30T06:57:07.536093",
     "status": "completed"
    },
    "tags": []
   },
   "outputs": [
    {
     "name": "stdout",
     "output_type": "stream",
     "text": [
      "Training XGBRegressor\n",
      "\n",
      "--- Fold 0 - _pearsonr: 0.187670 - Time: 1354.42 s\n",
      "--- Fold 1 - _pearsonr: 0.110148 - Time: 1322.58 s\n",
      "--- Fold 2 - _pearsonr: 0.065435 - Time: 1334.06 s\n",
      "--- Fold 3 - _pearsonr: 0.123689 - Time: 1313.19 s\n",
      "--- Fold 4 - _pearsonr: 0.061580 - Time: 1318.25 s\n",
      "\n",
      "------ Overall _pearsonr: 0.101202 - Mean _pearsonr: 0.109704 ± 0.045935 - Time: 6643.36 s\n"
     ]
    }
   ],
   "source": [
    "xgb_trainer = Trainer(\n",
    "    XGBRegressor(**xgb_params),\n",
    "    cv=KFold(n_splits=5, shuffle=False),\n",
    "    metric=_pearsonr,\n",
    "    task=\"regression\",\n",
    "    metric_precision=6\n",
    ")\n",
    "\n",
    "xgb_trainer.fit(X, y)\n",
    "\n",
    "scores[\"XGBoost\"] = xgb_trainer.fold_scores\n",
    "oof_preds[\"XGBoost\"] = xgb_trainer.oof_preds\n",
    "test_preds[\"XGBoost\"] = xgb_trainer.predict(X_test)"
   ]
  },
  {
   "cell_type": "markdown",
   "id": "6f3ea400",
   "metadata": {
    "papermill": {
     "duration": 0.006272,
     "end_time": "2025-05-30T08:48:56.637166",
     "exception": false,
     "start_time": "2025-05-30T08:48:56.630894",
     "status": "completed"
    },
    "tags": []
   },
   "source": [
    "# Ensembling with Ridge"
   ]
  },
  {
   "cell_type": "code",
   "execution_count": 15,
   "id": "411eb669",
   "metadata": {
    "_kg_hide-input": true,
    "execution": {
     "iopub.execute_input": "2025-05-30T08:48:56.651859Z",
     "iopub.status.busy": "2025-05-30T08:48:56.651455Z",
     "iopub.status.idle": "2025-05-30T08:48:56.659509Z",
     "shell.execute_reply": "2025-05-30T08:48:56.658754Z"
    },
    "papermill": {
     "duration": 0.017643,
     "end_time": "2025-05-30T08:48:56.661161",
     "exception": false,
     "start_time": "2025-05-30T08:48:56.643518",
     "status": "completed"
    },
    "tags": []
   },
   "outputs": [],
   "source": [
    "def plot_weights(weights, title):\n",
    "    sorted_indices = np.argsort(weights[0])[::-1]\n",
    "    sorted_coeffs = np.array(weights[0])[sorted_indices]\n",
    "    sorted_model_names = np.array(list(oof_preds.keys()))[sorted_indices]\n",
    "\n",
    "    plt.figure(figsize=(10, weights.shape[1] * 0.5))\n",
    "    ax = sns.barplot(x=sorted_coeffs, y=sorted_model_names, palette=\"RdYlGn_r\")\n",
    "\n",
    "    for i, (value, name) in enumerate(zip(sorted_coeffs, sorted_model_names)):\n",
    "        if value >= 0:\n",
    "            ax.text(value, i, f\"{value:.3f}\", va=\"center\", ha=\"left\", color=\"black\")\n",
    "        else:\n",
    "            ax.text(value, i, f\"{value:.3f}\", va=\"center\", ha=\"right\", color=\"black\")\n",
    "\n",
    "    xlim = ax.get_xlim()\n",
    "    ax.set_xlim(xlim[0] - 0.1 * abs(xlim[0]), xlim[1] + 0.1 * abs(xlim[1]))\n",
    "\n",
    "    plt.title(title)\n",
    "    plt.xlabel(\"\")\n",
    "    plt.ylabel(\"\")\n",
    "    plt.tight_layout()\n",
    "    plt.show()"
   ]
  },
  {
   "cell_type": "code",
   "execution_count": 16,
   "id": "f77849f5",
   "metadata": {
    "execution": {
     "iopub.execute_input": "2025-05-30T08:48:56.675809Z",
     "iopub.status.busy": "2025-05-30T08:48:56.675279Z",
     "iopub.status.idle": "2025-05-30T08:48:56.695252Z",
     "shell.execute_reply": "2025-05-30T08:48:56.694250Z"
    },
    "papermill": {
     "duration": 0.028929,
     "end_time": "2025-05-30T08:48:56.696880",
     "exception": false,
     "start_time": "2025-05-30T08:48:56.667951",
     "status": "completed"
    },
    "tags": []
   },
   "outputs": [],
   "source": [
    "X = pd.DataFrame(oof_preds)\n",
    "X_test = pd.DataFrame(test_preds)"
   ]
  },
  {
   "cell_type": "code",
   "execution_count": 17,
   "id": "08626eb3",
   "metadata": {
    "execution": {
     "iopub.execute_input": "2025-05-30T08:48:56.711865Z",
     "iopub.status.busy": "2025-05-30T08:48:56.711587Z",
     "iopub.status.idle": "2025-05-30T08:48:56.758964Z",
     "shell.execute_reply": "2025-05-30T08:48:56.758055Z"
    },
    "papermill": {
     "duration": 0.05634,
     "end_time": "2025-05-30T08:48:56.760496",
     "exception": false,
     "start_time": "2025-05-30T08:48:56.704156",
     "status": "completed"
    },
    "tags": []
   },
   "outputs": [
    {
     "data": {
      "text/plain": [
       "['test_preds.pkl']"
      ]
     },
     "execution_count": 17,
     "metadata": {},
     "output_type": "execute_result"
    }
   ],
   "source": [
    "joblib.dump(X, \"oof_preds.pkl\")\n",
    "joblib.dump(X_test, \"test_preds.pkl\")"
   ]
  },
  {
   "cell_type": "code",
   "execution_count": 18,
   "id": "2e37b818",
   "metadata": {
    "_kg_hide-output": true,
    "execution": {
     "iopub.execute_input": "2025-05-30T08:48:56.775592Z",
     "iopub.status.busy": "2025-05-30T08:48:56.775295Z",
     "iopub.status.idle": "2025-05-30T08:52:42.657948Z",
     "shell.execute_reply": "2025-05-30T08:52:42.657028Z"
    },
    "papermill": {
     "duration": 225.891855,
     "end_time": "2025-05-30T08:52:42.659596",
     "exception": false,
     "start_time": "2025-05-30T08:48:56.767741",
     "status": "completed"
    },
    "scrolled": true,
    "tags": []
   },
   "outputs": [
    {
     "name": "stderr",
     "output_type": "stream",
     "text": [
      "[I 2025-05-30 08:48:56,781] A new study created in memory with name: no-name-9bed6b5e-ab99-4f8f-a1e6-4f116c1ae484\n",
      "[I 2025-05-30 08:48:59,746] Trial 1 finished with value: 0.11118076536921406 and parameters: {'alpha': 598.4240824723807, 'tol': 0.008461929998077407, 'fit_intercept': False, 'positive': True}. Best is trial 1 with value: 0.11118076536921406.\n",
      "[I 2025-05-30 08:48:59,762] Trial 0 finished with value: 0.10981852741548889 and parameters: {'alpha': 763.7953561724531, 'tol': 0.0060802214056463865, 'fit_intercept': True, 'positive': False}. Best is trial 1 with value: 0.11118076536921406.\n",
      "[I 2025-05-30 08:49:00,790] Trial 3 finished with value: 0.11131249544474604 and parameters: {'alpha': 138.12535553856463, 'tol': 0.004063403364314372, 'fit_intercept': False, 'positive': True}. Best is trial 3 with value: 0.11131249544474604.\n",
      "[I 2025-05-30 08:49:00,801] Trial 2 finished with value: 0.11102384392447173 and parameters: {'alpha': 478.2769731449744, 'tol': 0.007872713499444642, 'fit_intercept': True, 'positive': True}. Best is trial 3 with value: 0.11131249544474604.\n",
      "[I 2025-05-30 08:49:02,872] Trial 4 finished with value: 0.10985082728644584 and parameters: {'alpha': 819.6017884647255, 'tol': 0.0029232420764666914, 'fit_intercept': True, 'positive': False}. Best is trial 3 with value: 0.11131249544474604.\n",
      "[I 2025-05-30 08:49:02,884] Trial 5 finished with value: 0.10969482062887755 and parameters: {'alpha': 502.836835100796, 'tol': 0.0087511036932385, 'fit_intercept': False, 'positive': False}. Best is trial 3 with value: 0.11131249544474604.\n",
      "[I 2025-05-30 08:49:04,570] Trial 7 finished with value: 0.11131415585702906 and parameters: {'alpha': 397.71474597907877, 'tol': 0.002542118878175056, 'fit_intercept': False, 'positive': True}. Best is trial 7 with value: 0.11131415585702906.\n",
      "[I 2025-05-30 08:49:04,581] Trial 6 finished with value: 0.1119177520841185 and parameters: {'alpha': 335.8933086677483, 'tol': 0.008749419297240536, 'fit_intercept': True, 'positive': True}. Best is trial 6 with value: 0.1119177520841185.\n",
      "[I 2025-05-30 08:49:06,638] Trial 8 finished with value: 0.11131633616077448 and parameters: {'alpha': 742.217997060498, 'tol': 0.002394072762402374, 'fit_intercept': False, 'positive': True}. Best is trial 6 with value: 0.1119177520841185.\n",
      "[I 2025-05-30 08:49:06,655] Trial 9 finished with value: 0.11118326914699406 and parameters: {'alpha': 958.720876219665, 'tol': 0.007964564271996237, 'fit_intercept': False, 'positive': True}. Best is trial 6 with value: 0.1119177520841185.\n",
      "[I 2025-05-30 08:49:07,730] Trial 10 finished with value: 0.10956206990811719 and parameters: {'alpha': 340.3004849937563, 'tol': 0.003931494918421917, 'fit_intercept': False, 'positive': False}. Best is trial 6 with value: 0.1119177520841185.\n",
      "[I 2025-05-30 08:49:07,760] Trial 11 finished with value: 0.10950166968412192 and parameters: {'alpha': 296.745072334797, 'tol': 0.0024894095077814004, 'fit_intercept': True, 'positive': False}. Best is trial 6 with value: 0.1119177520841185.\n",
      "[I 2025-05-30 08:49:10,208] Trial 12 finished with value: 0.11131784923206174 and parameters: {'alpha': 983.7594193659935, 'tol': 0.0024485416773490703, 'fit_intercept': False, 'positive': True}. Best is trial 6 with value: 0.1119177520841185.\n",
      "[I 2025-05-30 08:49:10,444] Trial 13 finished with value: 0.11191830386323816 and parameters: {'alpha': 158.74755044241988, 'tol': 0.009250015879334803, 'fit_intercept': True, 'positive': True}. Best is trial 13 with value: 0.11191830386323816.\n",
      "[I 2025-05-30 08:49:11,590] Trial 15 finished with value: 0.11005863259040698 and parameters: {'alpha': 917.1933843074895, 'tol': 8.982160773083996e-05, 'fit_intercept': False, 'positive': True}. Best is trial 13 with value: 0.11191830386323816.\n",
      "[I 2025-05-30 08:49:11,595] Trial 14 finished with value: 0.11191854152898151 and parameters: {'alpha': 82.57012703655317, 'tol': 0.009887803566293903, 'fit_intercept': True, 'positive': True}. Best is trial 14 with value: 0.11191854152898151.\n",
      "[I 2025-05-30 08:49:13,793] Trial 16 finished with value: 0.11123067402707591 and parameters: {'alpha': 111.12048444878133, 'tol': 0.006674164500419243, 'fit_intercept': True, 'positive': True}. Best is trial 14 with value: 0.11191854152898151.\n",
      "[I 2025-05-30 08:49:14,371] Trial 17 finished with value: 0.11191872289157441 and parameters: {'alpha': 24.4891551456613, 'tol': 0.009760458354032856, 'fit_intercept': True, 'positive': True}. Best is trial 17 with value: 0.11191872289157441.\n",
      "[I 2025-05-30 08:49:14,934] Trial 19 finished with value: 0.10939601058053736 and parameters: {'alpha': 167.28718708260152, 'tol': 0.008502996059361789, 'fit_intercept': True, 'positive': False}. Best is trial 17 with value: 0.11191872289157441.\n",
      "[I 2025-05-30 08:49:15,522] Trial 18 finished with value: 0.1119187798643219 and parameters: {'alpha': 6.252669134827954, 'tol': 0.009676835739391326, 'fit_intercept': True, 'positive': True}. Best is trial 18 with value: 0.1119187798643219.\n",
      "[I 2025-05-30 08:49:17,665] Trial 20 finished with value: 0.1119187976605815 and parameters: {'alpha': 0.5571119171529375, 'tol': 0.009891111149010859, 'fit_intercept': True, 'positive': True}. Best is trial 20 with value: 0.1119187976605815.\n",
      "[I 2025-05-30 08:49:18,086] Trial 21 finished with value: 0.11191879407135785 and parameters: {'alpha': 1.705782159657609, 'tol': 0.009676305132043681, 'fit_intercept': True, 'positive': True}. Best is trial 20 with value: 0.1119187976605815.\n",
      "[I 2025-05-30 08:49:18,553] Trial 22 finished with value: 0.1111767063115997 and parameters: {'alpha': 22.618951494926975, 'tol': 0.00757421465518359, 'fit_intercept': False, 'positive': True}. Best is trial 20 with value: 0.1119187976605815.\n",
      "[I 2025-05-30 08:49:19,138] Trial 23 finished with value: 0.11191076483206977 and parameters: {'alpha': 45.386794412413416, 'tol': 0.009152172462802085, 'fit_intercept': False, 'positive': True}. Best is trial 20 with value: 0.1119187976605815.\n",
      "[I 2025-05-30 08:49:21,208] Trial 24 finished with value: 0.11131166020761367 and parameters: {'alpha': 8.435728791643776, 'tol': 0.006994798196641929, 'fit_intercept': False, 'positive': True}. Best is trial 20 with value: 0.1119187976605815.\n",
      "[I 2025-05-30 08:49:21,772] Trial 26 finished with value: 0.10925736108930115 and parameters: {'alpha': 12.95396513036421, 'tol': 0.009979146002956352, 'fit_intercept': True, 'positive': False}. Best is trial 20 with value: 0.1119187976605815.\n",
      "[I 2025-05-30 08:49:21,800] Trial 25 finished with value: 0.11131191557845102 and parameters: {'alpha': 48.02497263798382, 'tol': 0.006888240596436397, 'fit_intercept': False, 'positive': True}. Best is trial 20 with value: 0.1119187976605815.\n",
      "[I 2025-05-30 08:49:22,837] Trial 27 finished with value: 0.1119187980389803 and parameters: {'alpha': 0.43601276744783557, 'tol': 0.009106837263164342, 'fit_intercept': True, 'positive': True}. Best is trial 27 with value: 0.1119187980389803.\n",
      "[I 2025-05-30 08:49:24,307] Trial 28 finished with value: 0.10928747624354673 and parameters: {'alpha': 45.10286584720254, 'tol': 0.009419138743141944, 'fit_intercept': True, 'positive': False}. Best is trial 27 with value: 0.1119187980389803.\n",
      "[I 2025-05-30 08:49:25,419] Trial 29 finished with value: 0.11191875222208454 and parameters: {'alpha': 15.100179757450933, 'tol': 0.00917385573401012, 'fit_intercept': True, 'positive': True}. Best is trial 27 with value: 0.1119187980389803.\n",
      "[I 2025-05-30 08:49:25,906] Trial 30 finished with value: 0.11122990518297908 and parameters: {'alpha': 0.1693675353713502, 'tol': 0.0011681879431780277, 'fit_intercept': True, 'positive': True}. Best is trial 27 with value: 0.1119187980389803.\n",
      "[I 2025-05-30 08:49:26,492] Trial 31 finished with value: 0.11101982465319274 and parameters: {'alpha': 13.695226463835642, 'tol': 0.0076073837788591045, 'fit_intercept': True, 'positive': True}. Best is trial 27 with value: 0.1119187980389803.\n",
      "[I 2025-05-30 08:49:27,530] Trial 32 finished with value: 0.10988916920527587 and parameters: {'alpha': 888.2188211965885, 'tol': 0.0070182251713801404, 'fit_intercept': True, 'positive': False}. Best is trial 27 with value: 0.1119187980389803.\n",
      "[I 2025-05-30 08:49:29,180] Trial 33 finished with value: 0.11122993144623443 and parameters: {'alpha': 3.9525499024571102, 'tol': 0.00631584383725792, 'fit_intercept': True, 'positive': True}. Best is trial 27 with value: 0.1119187980389803.\n",
      "[I 2025-05-30 08:49:29,710] Trial 34 finished with value: 0.11101980050800626 and parameters: {'alpha': 10.923396712412305, 'tol': 0.008195116135773206, 'fit_intercept': True, 'positive': True}. Best is trial 27 with value: 0.1119187980389803.\n",
      "[I 2025-05-30 08:49:30,270] Trial 35 finished with value: 0.11123327790456047 and parameters: {'alpha': 489.99198021881983, 'tol': 0.00041450421328272785, 'fit_intercept': True, 'positive': True}. Best is trial 27 with value: 0.1119187980389803.\n",
      "[I 2025-05-30 08:49:30,823] Trial 36 finished with value: 0.11191864953155668 and parameters: {'alpha': 47.977337069660855, 'tol': 0.009969008222196329, 'fit_intercept': True, 'positive': True}. Best is trial 27 with value: 0.1119187980389803.\n",
      "[I 2025-05-30 08:49:32,951] Trial 37 finished with value: 0.1119187247109987 and parameters: {'alpha': 23.906707287482657, 'tol': 0.009711103612451354, 'fit_intercept': True, 'positive': True}. Best is trial 27 with value: 0.1119187980389803.\n",
      "[I 2025-05-30 08:49:33,486] Trial 38 finished with value: 0.11191877960780175 and parameters: {'alpha': 6.334769484067168, 'tol': 0.009764922002662922, 'fit_intercept': True, 'positive': True}. Best is trial 27 with value: 0.1119187980389803.\n",
      "[I 2025-05-30 08:49:34,024] Trial 40 finished with value: 0.10924021661906869 and parameters: {'alpha': 8.654356245131481, 'tol': 0.009752002720595303, 'fit_intercept': False, 'positive': False}. Best is trial 27 with value: 0.1119187980389803.\n",
      "[I 2025-05-30 08:49:34,028] Trial 39 finished with value: 0.1119187961875668 and parameters: {'alpha': 1.0285232829991666, 'tol': 0.009889233641286925, 'fit_intercept': True, 'positive': True}. Best is trial 27 with value: 0.1119187980389803.\n",
      "[I 2025-05-30 08:49:36,021] Trial 41 finished with value: 0.10969484658229944 and parameters: {'alpha': 502.8703849907516, 'tol': 0.0007375278885755308, 'fit_intercept': False, 'positive': False}. Best is trial 27 with value: 0.1119187980389803.\n",
      "[I 2025-05-30 08:49:37,231] Trial 42 finished with value: 0.10927566247703269 and parameters: {'alpha': 32.40477984012256, 'tol': 0.005221087360210259, 'fit_intercept': True, 'positive': False}. Best is trial 27 with value: 0.1119187980389803.\n",
      "[I 2025-05-30 08:49:37,646] Trial 44 finished with value: 0.11123521211177982 and parameters: {'alpha': 774.5761774348548, 'tol': 0.004953361435588751, 'fit_intercept': True, 'positive': True}. Best is trial 27 with value: 0.1119187980389803.\n",
      "[I 2025-05-30 08:49:38,003] Trial 43 finished with value: 0.11191784530757376 and parameters: {'alpha': 305.9360986349198, 'tol': 0.009884289048934134, 'fit_intercept': True, 'positive': True}. Best is trial 27 with value: 0.1119187980389803.\n",
      "[I 2025-05-30 08:49:39,615] Trial 45 finished with value: 0.11191781047874669 and parameters: {'alpha': 317.1269372155418, 'tol': 0.009173395297479046, 'fit_intercept': True, 'positive': True}. Best is trial 27 with value: 0.1119187980389803.\n",
      "[I 2025-05-30 08:49:40,714] Trial 46 finished with value: 0.1112356846961691 and parameters: {'alpha': 844.5225096722957, 'tol': 0.005084701395624347, 'fit_intercept': True, 'positive': True}. Best is trial 27 with value: 0.1119187980389803.\n",
      "[I 2025-05-30 08:49:41,214] Trial 47 finished with value: 0.11191796777481804 and parameters: {'alpha': 266.59896460376626, 'tol': 0.009359462775838847, 'fit_intercept': True, 'positive': True}. Best is trial 27 with value: 0.1119187980389803.\n",
      "[I 2025-05-30 08:49:41,770] Trial 48 finished with value: 0.1119185812303046 and parameters: {'alpha': 69.85217144602332, 'tol': 0.009932986383565812, 'fit_intercept': True, 'positive': True}. Best is trial 27 with value: 0.1119187980389803.\n",
      "[I 2025-05-30 08:49:43,191] Trial 49 finished with value: 0.11101981782795742 and parameters: {'alpha': 12.91167715605306, 'tol': 0.008520605128075178, 'fit_intercept': True, 'positive': True}. Best is trial 27 with value: 0.1119187980389803.\n",
      "[I 2025-05-30 08:49:44,582] Trial 50 finished with value: 0.11191874917284783 and parameters: {'alpha': 16.076216896167487, 'tol': 0.009789078014079322, 'fit_intercept': True, 'positive': True}. Best is trial 27 with value: 0.1119187980389803.\n",
      "[I 2025-05-30 08:49:44,913] Trial 51 finished with value: 0.11191868773391493 and parameters: {'alpha': 35.744943638135304, 'tol': 0.009732747459955254, 'fit_intercept': True, 'positive': True}. Best is trial 27 with value: 0.1119187980389803.\n",
      "[I 2025-05-30 08:49:44,932] Trial 52 finished with value: 0.10995848287512336 and parameters: {'alpha': 886.8306009309642, 'tol': 0.004753451466646324, 'fit_intercept': False, 'positive': False}. Best is trial 27 with value: 0.1119187980389803.\n",
      "[I 2025-05-30 08:49:46,554] Trial 53 finished with value: 0.10982549870414463 and parameters: {'alpha': 681.6746977071277, 'tol': 0.006184778520121284, 'fit_intercept': False, 'positive': False}. Best is trial 27 with value: 0.1119187980389803.\n",
      "[I 2025-05-30 08:49:47,987] Trial 55 finished with value: 0.109273049966369 and parameters: {'alpha': 39.08484491344291, 'tol': 0.001556234424139311, 'fit_intercept': False, 'positive': False}. Best is trial 27 with value: 0.1119187980389803.\n",
      "[I 2025-05-30 08:49:48,555] Trial 56 finished with value: 0.11191017085626095 and parameters: {'alpha': 265.8203094944352, 'tol': 0.009187850416823675, 'fit_intercept': False, 'positive': True}. Best is trial 27 with value: 0.1119187980389803.\n",
      "[I 2025-05-30 08:49:48,883] Trial 54 finished with value: 0.11191876353567362 and parameters: {'alpha': 11.478893758153147, 'tol': 0.009905014289454332, 'fit_intercept': True, 'positive': True}. Best is trial 27 with value: 0.1119187980389803.\n",
      "[I 2025-05-30 08:49:50,325] Trial 57 finished with value: 0.11101990189787303 and parameters: {'alpha': 22.56431493258583, 'tol': 0.008119906802156398, 'fit_intercept': True, 'positive': True}. Best is trial 27 with value: 0.1119187980389803.\n",
      "[I 2025-05-30 08:49:51,226] Trial 58 finished with value: 0.11191077183426527 and parameters: {'alpha': 42.791499546667936, 'tol': 0.009676664371576897, 'fit_intercept': False, 'positive': True}. Best is trial 27 with value: 0.1119187980389803.\n",
      "[I 2025-05-30 08:49:52,304] Trial 59 finished with value: 0.11191874897162428 and parameters: {'alpha': 16.140627434412412, 'tol': 0.009386598370697913, 'fit_intercept': True, 'positive': True}. Best is trial 27 with value: 0.1119187980389803.\n",
      "[I 2025-05-30 08:49:52,344] Trial 60 finished with value: 0.11101986867869773 and parameters: {'alpha': 18.749868085911476, 'tol': 0.008549663633485227, 'fit_intercept': True, 'positive': True}. Best is trial 27 with value: 0.1119187980389803.\n",
      "[I 2025-05-30 08:49:54,105] Trial 61 finished with value: 0.1100360798168194 and parameters: {'alpha': 880.710215620429, 'tol': 0.00022765800033922902, 'fit_intercept': True, 'positive': True}. Best is trial 27 with value: 0.1119187980389803.\n",
      "[I 2025-05-30 08:49:54,292] Trial 62 finished with value: 0.10965477081226627 and parameters: {'alpha': 505.8716147437467, 'tol': 0.006100696077382997, 'fit_intercept': True, 'positive': False}. Best is trial 27 with value: 0.1119187980389803.\n",
      "[I 2025-05-30 08:49:56,118] Trial 63 finished with value: 0.11191877402485602 and parameters: {'alpha': 8.121636139225059, 'tol': 0.009443628917156322, 'fit_intercept': True, 'positive': True}. Best is trial 27 with value: 0.1119187980389803.\n",
      "[I 2025-05-30 08:49:56,162] Trial 64 finished with value: 0.1119187655008588 and parameters: {'alpha': 10.849888769509917, 'tol': 0.009902332068761609, 'fit_intercept': True, 'positive': True}. Best is trial 27 with value: 0.1119187980389803.\n",
      "[I 2025-05-30 08:49:57,893] Trial 66 finished with value: 0.11191860847801335 and parameters: {'alpha': 61.12481603770901, 'tol': 0.009879052217492277, 'fit_intercept': True, 'positive': True}. Best is trial 27 with value: 0.1119187980389803.\n",
      "[I 2025-05-30 08:49:57,908] Trial 65 finished with value: 0.11191868697085228 and parameters: {'alpha': 35.98925752191077, 'tol': 0.00972975570876726, 'fit_intercept': True, 'positive': True}. Best is trial 27 with value: 0.1119187980389803.\n",
      "[I 2025-05-30 08:49:59,516] Trial 67 finished with value: 0.11191859725587124 and parameters: {'alpha': 64.71911470604772, 'tol': 0.009380280777859814, 'fit_intercept': True, 'positive': True}. Best is trial 27 with value: 0.1119187980389803.\n",
      "[I 2025-05-30 08:49:59,877] Trial 68 finished with value: 0.11102146744292138 and parameters: {'alpha': 202.81775919164085, 'tol': 0.007953927680472582, 'fit_intercept': True, 'positive': True}. Best is trial 27 with value: 0.1119187980389803.\n",
      "[I 2025-05-30 08:50:01,292] Trial 69 finished with value: 0.11102122355130672 and parameters: {'alpha': 174.67372227490756, 'tol': 0.00810027744065179, 'fit_intercept': True, 'positive': True}. Best is trial 27 with value: 0.1119187980389803.\n",
      "[I 2025-05-30 08:50:01,652] Trial 70 finished with value: 0.11123240397829201 and parameters: {'alpha': 362.2945180131856, 'tol': 0.006000983277606488, 'fit_intercept': True, 'positive': True}. Best is trial 27 with value: 0.1119187980389803.\n",
      "[I 2025-05-30 08:50:02,856] Trial 71 finished with value: 0.1097118988476028 and parameters: {'alpha': 591.4240632917995, 'tol': 0.0007812251147215933, 'fit_intercept': True, 'positive': False}. Best is trial 27 with value: 0.1119187980389803.\n",
      "[I 2025-05-30 08:50:03,219] Trial 72 finished with value: 0.10928251560979256 and parameters: {'alpha': 39.75716664160963, 'tol': 0.007836207632081066, 'fit_intercept': True, 'positive': False}. Best is trial 27 with value: 0.1119187980389803.\n",
      "[I 2025-05-30 08:50:04,975] Trial 73 finished with value: 0.11191879835865978 and parameters: {'alpha': 0.33370574102841455, 'tol': 0.009520357204691273, 'fit_intercept': True, 'positive': True}. Best is trial 73 with value: 0.11191879835865978.\n",
      "[I 2025-05-30 08:50:05,521] Trial 74 finished with value: 0.11101976740209799 and parameters: {'alpha': 7.123257748000855, 'tol': 0.008080822614549739, 'fit_intercept': True, 'positive': True}. Best is trial 73 with value: 0.11191879835865978.\n",
      "[I 2025-05-30 08:50:06,063] Trial 75 finished with value: 0.10952661027151642 and parameters: {'alpha': 328.97458610799436, 'tol': 0.009876353853609842, 'fit_intercept': True, 'positive': False}. Best is trial 73 with value: 0.11191879835865978.\n",
      "[I 2025-05-30 08:50:06,814] Trial 76 finished with value: 0.11191876577307076 and parameters: {'alpha': 10.762761158113934, 'tol': 0.009394637487715771, 'fit_intercept': True, 'positive': True}. Best is trial 73 with value: 0.11191879835865978.\n",
      "[I 2025-05-30 08:50:08,536] Trial 77 finished with value: 0.11131438891416827 and parameters: {'alpha': 434.34131975376494, 'tol': 0.0054340164807214425, 'fit_intercept': False, 'positive': True}. Best is trial 73 with value: 0.11191879835865978.\n",
      "[I 2025-05-30 08:50:09,254] Trial 78 finished with value: 0.11191615401338502 and parameters: {'alpha': 851.2375795492574, 'tol': 0.009301684889243813, 'fit_intercept': True, 'positive': True}. Best is trial 73 with value: 0.11191879835865978.\n",
      "[I 2025-05-30 08:50:09,825] Trial 79 finished with value: 0.11191862282487355 and parameters: {'alpha': 56.52995386642979, 'tol': 0.009766504148349781, 'fit_intercept': True, 'positive': True}. Best is trial 73 with value: 0.11191879835865978.\n",
      "[I 2025-05-30 08:50:10,406] Trial 80 finished with value: 0.11191873778746615 and parameters: {'alpha': 19.720697453423078, 'tol': 0.00991682613818111, 'fit_intercept': True, 'positive': True}. Best is trial 73 with value: 0.11191879835865978.\n",
      "[I 2025-05-30 08:50:11,811] Trial 81 finished with value: 0.11191867111995894 and parameters: {'alpha': 41.06449619322817, 'tol': 0.00982157542852275, 'fit_intercept': True, 'positive': True}. Best is trial 73 with value: 0.11191879835865978.\n",
      "[I 2025-05-30 08:50:12,864] Trial 82 finished with value: 0.11191864276190186 and parameters: {'alpha': 50.14518008911254, 'tol': 0.009521905887242043, 'fit_intercept': True, 'positive': True}. Best is trial 73 with value: 0.11191879835865978.\n",
      "[I 2025-05-30 08:50:13,585] Trial 83 finished with value: 0.11191874665730597 and parameters: {'alpha': 16.881431605104964, 'tol': 0.009042547420375914, 'fit_intercept': True, 'positive': True}. Best is trial 73 with value: 0.11191879835865978.\n",
      "[I 2025-05-30 08:50:13,760] Trial 84 finished with value: 0.10996529095387149 and parameters: {'alpha': 898.0519193207821, 'tol': 0.009094063763209481, 'fit_intercept': False, 'positive': False}. Best is trial 73 with value: 0.11191879835865978.\n",
      "[I 2025-05-30 08:50:15,400] Trial 85 finished with value: 0.11101974866424946 and parameters: {'alpha': 4.972578484196719, 'tol': 0.007675413710817597, 'fit_intercept': True, 'positive': True}. Best is trial 73 with value: 0.11191879835865978.\n",
      "[I 2025-05-30 08:50:16,461] Trial 86 finished with value: 0.11191878309115984 and parameters: {'alpha': 5.219913441901527, 'tol': 0.009021071582475296, 'fit_intercept': True, 'positive': True}. Best is trial 73 with value: 0.11191879835865978.\n",
      "[I 2025-05-30 08:50:17,033] Trial 87 finished with value: 0.11101974013774256 and parameters: {'alpha': 3.9939743070389087, 'tol': 0.008209474681919906, 'fit_intercept': True, 'positive': True}. Best is trial 73 with value: 0.11191879835865978.\n",
      "[I 2025-05-30 08:50:17,396] Trial 88 finished with value: 0.1119187596431784 and parameters: {'alpha': 12.724795840818885, 'tol': 0.009810556359402514, 'fit_intercept': True, 'positive': True}. Best is trial 73 with value: 0.11191879835865978.\n",
      "[I 2025-05-30 08:50:19,049] Trial 89 finished with value: 0.1119187985533864 and parameters: {'alpha': 0.2713874419708821, 'tol': 0.0098035418517797, 'fit_intercept': True, 'positive': True}. Best is trial 89 with value: 0.1119187985533864.\n",
      "[I 2025-05-30 08:50:20,431] Trial 90 finished with value: 0.11102109754244012 and parameters: {'alpha': 160.1419574557014, 'tol': 0.007931316587051675, 'fit_intercept': True, 'positive': True}. Best is trial 89 with value: 0.1119187985533864.\n",
      "[I 2025-05-30 08:50:20,983] Trial 92 finished with value: 0.10928506673480545 and parameters: {'alpha': 42.50382769501133, 'tol': 0.009383876847418588, 'fit_intercept': True, 'positive': False}. Best is trial 89 with value: 0.1119187985533864.\n",
      "[I 2025-05-30 08:50:21,155] Trial 91 finished with value: 0.11191879721078153 and parameters: {'alpha': 0.701061850194546, 'tol': 0.009173485773555074, 'fit_intercept': True, 'positive': True}. Best is trial 89 with value: 0.1119187985533864.\n",
      "[I 2025-05-30 08:50:22,072] Trial 93 finished with value: 0.10926928493695924 and parameters: {'alpha': 25.596485854515688, 'tol': 0.009228562362371408, 'fit_intercept': True, 'positive': False}. Best is trial 89 with value: 0.1119187985533864.\n",
      "[I 2025-05-30 08:50:23,481] Trial 94 finished with value: 0.10926125337968906 and parameters: {'alpha': 17.068502427865667, 'tol': 0.009493733163646129, 'fit_intercept': True, 'positive': False}. Best is trial 89 with value: 0.1119187985533864.\n",
      "[I 2025-05-30 08:50:24,535] Trial 96 finished with value: 0.11191069997175482 and parameters: {'alpha': 69.43030655317379, 'tol': 0.009993014662035917, 'fit_intercept': False, 'positive': True}. Best is trial 89 with value: 0.1119187985533864.\n",
      "[I 2025-05-30 08:50:24,733] Trial 95 finished with value: 0.11191793053696115 and parameters: {'alpha': 278.5578598853474, 'tol': 0.009710456260691374, 'fit_intercept': True, 'positive': True}. Best is trial 89 with value: 0.1119187985533864.\n",
      "[I 2025-05-30 08:50:25,777] Trial 97 finished with value: 0.11191792920181758 and parameters: {'alpha': 278.98667383587616, 'tol': 0.00960051962607801, 'fit_intercept': True, 'positive': True}. Best is trial 89 with value: 0.1119187985533864.\n",
      "[I 2025-05-30 08:50:27,067] Trial 98 finished with value: 0.1119181758513486 and parameters: {'alpha': 199.80920834390375, 'tol': 0.009801646376892183, 'fit_intercept': True, 'positive': True}. Best is trial 89 with value: 0.1119187985533864.\n",
      "[I 2025-05-30 08:50:28,087] Trial 99 finished with value: 0.11191807399181557 and parameters: {'alpha': 232.4975864326633, 'tol': 0.009804698541463734, 'fit_intercept': True, 'positive': True}. Best is trial 89 with value: 0.1119187985533864.\n",
      "[I 2025-05-30 08:50:28,336] Trial 100 finished with value: 0.1119181233959509 and parameters: {'alpha': 216.64128418697064, 'tol': 0.009958318930277297, 'fit_intercept': True, 'positive': True}. Best is trial 89 with value: 0.1119187985533864.\n",
      "[I 2025-05-30 08:50:29,358] Trial 101 finished with value: 0.11191875366098876 and parameters: {'alpha': 14.63960185743869, 'tol': 0.00881936937125983, 'fit_intercept': True, 'positive': True}. Best is trial 89 with value: 0.1119187985533864.\n",
      "[I 2025-05-30 08:50:30,634] Trial 102 finished with value: 0.1110197633800917 and parameters: {'alpha': 6.66161132942254, 'tol': 0.007791440713753713, 'fit_intercept': True, 'positive': True}. Best is trial 89 with value: 0.1119187985533864.\n",
      "[I 2025-05-30 08:50:31,693] Trial 103 finished with value: 0.1119187223192685 and parameters: {'alpha': 24.672366942766853, 'tol': 0.009669137868251054, 'fit_intercept': True, 'positive': True}. Best is trial 89 with value: 0.1119187985533864.\n",
      "[I 2025-05-30 08:50:32,059] Trial 104 finished with value: 0.11191878425944082 and parameters: {'alpha': 4.846006230605504, 'tol': 0.009943068730905268, 'fit_intercept': True, 'positive': True}. Best is trial 89 with value: 0.1119187985533864.\n",
      "[I 2025-05-30 08:50:32,609] Trial 105 finished with value: 0.11191875047401104 and parameters: {'alpha': 15.65972311150731, 'tol': 0.009798504080232404, 'fit_intercept': True, 'positive': True}. Best is trial 89 with value: 0.1119187985533864.\n",
      "[I 2025-05-30 08:50:34,522] Trial 106 finished with value: 0.11191873743627079 and parameters: {'alpha': 19.833118405148948, 'tol': 0.009626585329105911, 'fit_intercept': True, 'positive': True}. Best is trial 89 with value: 0.1119187985533864.\n",
      "[I 2025-05-30 08:50:35,417] Trial 107 finished with value: 0.11191869927021587 and parameters: {'alpha': 32.05139717296289, 'tol': 0.009389131080618724, 'fit_intercept': True, 'positive': True}. Best is trial 89 with value: 0.1119187985533864.\n",
      "[I 2025-05-30 08:50:35,761] Trial 109 finished with value: 0.10938289584555609 and parameters: {'alpha': 146.1142620925879, 'tol': 0.005949928379680327, 'fit_intercept': False, 'positive': False}. Best is trial 89 with value: 0.1119187985533864.\n",
      "[I 2025-05-30 08:50:35,792] Trial 108 finished with value: 0.11191877940755605 and parameters: {'alpha': 6.398859026561658, 'tol': 0.009382115917411024, 'fit_intercept': True, 'positive': True}. Best is trial 89 with value: 0.1119187985533864.\n",
      "[I 2025-05-30 08:50:38,077] Trial 110 finished with value: 0.11191866648570462 and parameters: {'alpha': 42.54838318859827, 'tol': 0.009815465102395074, 'fit_intercept': True, 'positive': True}. Best is trial 89 with value: 0.1119187985533864.\n",
      "[I 2025-05-30 08:50:38,989] Trial 111 finished with value: 0.11131194575158894 and parameters: {'alpha': 52.70626215478194, 'tol': 0.0029168460800515694, 'fit_intercept': False, 'positive': True}. Best is trial 89 with value: 0.1119187985533864.\n",
      "[I 2025-05-30 08:50:39,328] Trial 112 finished with value: 0.11191865347304171 and parameters: {'alpha': 46.715185079581126, 'tol': 0.009834625722611682, 'fit_intercept': True, 'positive': True}. Best is trial 89 with value: 0.1119187985533864.\n",
      "[I 2025-05-30 08:50:39,374] Trial 113 finished with value: 0.11191872512520054 and parameters: {'alpha': 23.774110474613106, 'tol': 0.009848261551160236, 'fit_intercept': True, 'positive': True}. Best is trial 89 with value: 0.1119187985533864.\n",
      "[I 2025-05-30 08:50:41,682] Trial 114 finished with value: 0.111019727796286 and parameters: {'alpha': 2.577570707203661, 'tol': 0.00832411326252143, 'fit_intercept': True, 'positive': True}. Best is trial 89 with value: 0.1119187985533864.\n",
      "[I 2025-05-30 08:50:42,610] Trial 115 finished with value: 0.11131648566842112 and parameters: {'alpha': 765.9942805105218, 'tol': 0.0064303370925709105, 'fit_intercept': False, 'positive': True}. Best is trial 89 with value: 0.1119187985533864.\n",
      "[I 2025-05-30 08:50:42,953] Trial 116 finished with value: 0.11191875772853943 and parameters: {'alpha': 13.337636945055362, 'tol': 0.009999577315472165, 'fit_intercept': True, 'positive': True}. Best is trial 89 with value: 0.1119187985533864.\n",
      "[I 2025-05-30 08:50:42,997] Trial 117 finished with value: 0.11101975678051176 and parameters: {'alpha': 5.904124264455754, 'tol': 0.007791819582034905, 'fit_intercept': True, 'positive': True}. Best is trial 89 with value: 0.1119187985533864.\n",
      "[I 2025-05-30 08:50:45,321] Trial 118 finished with value: 0.11191879666493296 and parameters: {'alpha': 0.8757506724781896, 'tol': 0.009520671580153114, 'fit_intercept': True, 'positive': True}. Best is trial 89 with value: 0.1119187985533864.\n",
      "[I 2025-05-30 08:50:46,243] Trial 119 finished with value: 0.11191878166402895 and parameters: {'alpha': 5.6766677522152005, 'tol': 0.008612659104939142, 'fit_intercept': True, 'positive': True}. Best is trial 89 with value: 0.1119187985533864.\n",
      "[I 2025-05-30 08:50:46,430] Trial 120 finished with value: 0.11101993114626925 and parameters: {'alpha': 25.923165119953243, 'tol': 0.008105407961077728, 'fit_intercept': True, 'positive': True}. Best is trial 89 with value: 0.1119187985533864.\n",
      "[I 2025-05-30 08:50:46,790] Trial 121 finished with value: 0.11101976559174187 and parameters: {'alpha': 6.915464052633762, 'tol': 0.008514526029062728, 'fit_intercept': True, 'positive': True}. Best is trial 89 with value: 0.1119187985533864.\n",
      "[I 2025-05-30 08:50:48,763] Trial 122 finished with value: 0.11191087926486432 and parameters: {'alpha': 2.9830882470896327, 'tol': 0.009642317301989514, 'fit_intercept': False, 'positive': True}. Best is trial 89 with value: 0.1119187985533864.\n",
      "[I 2025-05-30 08:50:50,071] Trial 123 finished with value: 0.11122992340579367 and parameters: {'alpha': 2.794285229444804, 'tol': 0.006865263188874076, 'fit_intercept': True, 'positive': True}. Best is trial 89 with value: 0.1119187985533864.\n",
      "[I 2025-05-30 08:50:50,103] Trial 124 finished with value: 0.11102110480922338 and parameters: {'alpha': 160.97981866098044, 'tol': 0.007531637697842073, 'fit_intercept': True, 'positive': True}. Best is trial 89 with value: 0.1119187985533864.\n",
      "[I 2025-05-30 08:50:50,692] Trial 125 finished with value: 0.11191878099492154 and parameters: {'alpha': 5.890817000248993, 'tol': 0.00979738292901946, 'fit_intercept': True, 'positive': True}. Best is trial 89 with value: 0.1119187985533864.\n",
      "[I 2025-05-30 08:50:52,449] Trial 126 finished with value: 0.11102142805446218 and parameters: {'alpha': 198.27092563302102, 'tol': 0.007372527720382747, 'fit_intercept': True, 'positive': True}. Best is trial 89 with value: 0.1119187985533864.\n",
      "[I 2025-05-30 08:50:53,701] Trial 127 finished with value: 0.11191866312947678 and parameters: {'alpha': 43.623064042557566, 'tol': 0.009982117283305999, 'fit_intercept': True, 'positive': True}. Best is trial 89 with value: 0.1119187985533864.\n",
      "[I 2025-05-30 08:50:53,706] Trial 128 finished with value: 0.11191874073267413 and parameters: {'alpha': 18.777914932174454, 'tol': 0.009234632846428786, 'fit_intercept': True, 'positive': True}. Best is trial 89 with value: 0.1119187985533864.\n",
      "[I 2025-05-30 08:50:54,173] Trial 129 finished with value: 0.11101970884586017 and parameters: {'alpha': 0.4027842827299517, 'tol': 0.0076920692241230935, 'fit_intercept': True, 'positive': True}. Best is trial 89 with value: 0.1119187985533864.\n",
      "[I 2025-05-30 08:50:56,072] Trial 130 finished with value: 0.11191866239799744 and parameters: {'alpha': 43.85728932873206, 'tol': 0.009939790874869008, 'fit_intercept': True, 'positive': True}. Best is trial 89 with value: 0.1119187985533864.\n",
      "[I 2025-05-30 08:50:57,021] Trial 132 finished with value: 0.11191878220908227 and parameters: {'alpha': 5.502222709701457, 'tol': 0.009714417609804033, 'fit_intercept': True, 'positive': True}. Best is trial 89 with value: 0.1119187985533864.\n",
      "[I 2025-05-30 08:50:57,502] Trial 131 finished with value: 0.11191879519688767 and parameters: {'alpha': 1.3455735853639001, 'tol': 0.009554536287935138, 'fit_intercept': True, 'positive': True}. Best is trial 89 with value: 0.1119187985533864.\n",
      "[I 2025-05-30 08:50:58,087] Trial 133 finished with value: 0.11191866703488289 and parameters: {'alpha': 42.37253497600489, 'tol': 0.009846438945100709, 'fit_intercept': True, 'positive': True}. Best is trial 89 with value: 0.1119187985533864.\n",
      "[I 2025-05-30 08:50:59,338] Trial 134 finished with value: 0.11191876597614211 and parameters: {'alpha': 10.697763623540123, 'tol': 0.009892621413190118, 'fit_intercept': True, 'positive': True}. Best is trial 89 with value: 0.1119187985533864.\n",
      "[I 2025-05-30 08:51:00,580] Trial 135 finished with value: 0.11191879356624686 and parameters: {'alpha': 1.867435741582855, 'tol': 0.009489633124127882, 'fit_intercept': True, 'positive': True}. Best is trial 89 with value: 0.1119187985533864.\n",
      "[I 2025-05-30 08:51:01,113] Trial 136 finished with value: 0.11191874713773624 and parameters: {'alpha': 16.72764719067303, 'tol': 0.009335685323474533, 'fit_intercept': True, 'positive': True}. Best is trial 89 with value: 0.1119187985533864.\n",
      "[I 2025-05-30 08:51:01,857] Trial 137 finished with value: 0.11101973688945747 and parameters: {'alpha': 3.6211695811727185, 'tol': 0.008257115224324922, 'fit_intercept': True, 'positive': True}. Best is trial 89 with value: 0.1119187985533864.\n",
      "[I 2025-05-30 08:51:02,972] Trial 138 finished with value: 0.11101975877119183 and parameters: {'alpha': 6.13260890641341, 'tol': 0.008330869920424429, 'fit_intercept': True, 'positive': True}. Best is trial 89 with value: 0.1119187985533864.\n",
      "[I 2025-05-30 08:51:03,697] Trial 139 finished with value: 0.10988654675565945 and parameters: {'alpha': 883.4406962427136, 'tol': 0.004432667794067939, 'fit_intercept': True, 'positive': False}. Best is trial 89 with value: 0.1119187985533864.\n",
      "[I 2025-05-30 08:51:04,916] Trial 140 finished with value: 0.11101975226962257 and parameters: {'alpha': 5.386382815578361, 'tol': 0.007718792701020539, 'fit_intercept': True, 'positive': True}. Best is trial 89 with value: 0.1119187985533864.\n",
      "[I 2025-05-30 08:51:05,639] Trial 141 finished with value: 0.11102129535636149 and parameters: {'alpha': 182.95729809392148, 'tol': 0.008383328498656922, 'fit_intercept': True, 'positive': True}. Best is trial 89 with value: 0.1119187985533864.\n",
      "[I 2025-05-30 08:51:06,742] Trial 142 finished with value: 0.11102132556539883 and parameters: {'alpha': 186.4428761071951, 'tol': 0.008053954788814734, 'fit_intercept': True, 'positive': True}. Best is trial 89 with value: 0.1119187985533864.\n",
      "[I 2025-05-30 08:51:07,283] Trial 143 finished with value: 0.11191830041503656 and parameters: {'alpha': 159.85332736729612, 'tol': 0.008813066229279737, 'fit_intercept': True, 'positive': True}. Best is trial 89 with value: 0.1119187985533864.\n",
      "[I 2025-05-30 08:51:08,533] Trial 144 finished with value: 0.11191878494997007 and parameters: {'alpha': 4.625003848381059, 'tol': 0.009856589588166874, 'fit_intercept': True, 'positive': True}. Best is trial 89 with value: 0.1119187985533864.\n",
      "[I 2025-05-30 08:51:09,264] Trial 145 finished with value: 0.11191867873786746 and parameters: {'alpha': 38.62530519187946, 'tol': 0.009862639534569376, 'fit_intercept': True, 'positive': True}. Best is trial 89 with value: 0.1119187985533864.\n",
      "[I 2025-05-30 08:51:10,307] Trial 146 finished with value: 0.11191878686978518 and parameters: {'alpha': 4.010574472375716, 'tol': 0.008967047867690052, 'fit_intercept': True, 'positive': True}. Best is trial 89 with value: 0.1119187985533864.\n",
      "[I 2025-05-30 08:51:10,551] Trial 147 finished with value: 0.11131451273204407 and parameters: {'alpha': 453.81935110801317, 'tol': 0.0004914473041332506, 'fit_intercept': False, 'positive': True}. Best is trial 89 with value: 0.1119187985533864.\n",
      "[I 2025-05-30 08:51:12,303] Trial 148 finished with value: 0.11191876806580167 and parameters: {'alpha': 10.028924450292566, 'tol': 0.009768321127278901, 'fit_intercept': True, 'positive': True}. Best is trial 89 with value: 0.1119187985533864.\n",
      "[I 2025-05-30 08:51:12,880] Trial 149 finished with value: 0.11101990157088282 and parameters: {'alpha': 22.526765653887615, 'tol': 0.008456651686243922, 'fit_intercept': True, 'positive': True}. Best is trial 89 with value: 0.1119187985533864.\n",
      "[I 2025-05-30 08:51:13,918] Trial 150 finished with value: 0.1119187386934275 and parameters: {'alpha': 19.430691413367867, 'tol': 0.009940496096159334, 'fit_intercept': True, 'positive': True}. Best is trial 89 with value: 0.1119187985533864.\n",
      "[I 2025-05-30 08:51:14,130] Trial 151 finished with value: 0.11191876438999471 and parameters: {'alpha': 11.2054470305745, 'tol': 0.0098807385877502, 'fit_intercept': True, 'positive': True}. Best is trial 89 with value: 0.1119187985533864.\n",
      "[I 2025-05-30 08:51:15,915] Trial 152 finished with value: 0.11191876581638631 and parameters: {'alpha': 10.748897037874142, 'tol': 0.009326511155277521, 'fit_intercept': True, 'positive': True}. Best is trial 89 with value: 0.1119187985533864.\n",
      "[I 2025-05-30 08:51:16,506] Trial 153 finished with value: 0.1119187645793617 and parameters: {'alpha': 11.14483554558913, 'tol': 0.00998228937510474, 'fit_intercept': True, 'positive': True}. Best is trial 89 with value: 0.1119187985533864.\n",
      "[I 2025-05-30 08:51:17,541] Trial 154 finished with value: 0.11101971837310301 and parameters: {'alpha': 1.4961311435097344, 'tol': 0.008357902303893881, 'fit_intercept': True, 'positive': True}. Best is trial 89 with value: 0.1119187985533864.\n",
      "[I 2025-05-30 08:51:17,744] Trial 155 finished with value: 0.11191875293544558 and parameters: {'alpha': 14.87184015252788, 'tol': 0.009926146377780833, 'fit_intercept': True, 'positive': True}. Best is trial 89 with value: 0.1119187985533864.\n",
      "[I 2025-05-30 08:51:19,669] Trial 156 finished with value: 0.11191814274638416 and parameters: {'alpha': 210.4316245522889, 'tol': 0.009451583288504843, 'fit_intercept': True, 'positive': True}. Best is trial 89 with value: 0.1119187985533864.\n",
      "[I 2025-05-30 08:51:20,229] Trial 157 finished with value: 0.11191820337828631 and parameters: {'alpha': 190.97772053206896, 'tol': 0.009981776551183487, 'fit_intercept': True, 'positive': True}. Best is trial 89 with value: 0.1119187985533864.\n",
      "[I 2025-05-30 08:51:20,742] Trial 159 finished with value: 0.1099085554698507 and parameters: {'alpha': 806.7681013389008, 'tol': 0.0010615054545428304, 'fit_intercept': False, 'positive': False}. Best is trial 89 with value: 0.1119187985533864.\n",
      "[I 2025-05-30 08:51:21,358] Trial 158 finished with value: 0.1119181455770201 and parameters: {'alpha': 209.52329954494547, 'tol': 0.009556287182230581, 'fit_intercept': True, 'positive': True}. Best is trial 89 with value: 0.1119187985533864.\n",
      "[I 2025-05-30 08:51:23,321] Trial 160 finished with value: 0.11191879694185417 and parameters: {'alpha': 0.7871270681518008, 'tol': 0.009897228200241753, 'fit_intercept': True, 'positive': True}. Best is trial 89 with value: 0.1119187985533864.\n",
      "[I 2025-05-30 08:51:24,080] Trial 161 finished with value: 0.11101970642995636 and parameters: {'alpha': 0.12554063797636594, 'tol': 0.008052669226910397, 'fit_intercept': True, 'positive': True}. Best is trial 89 with value: 0.1119187985533864.\n",
      "[I 2025-05-30 08:51:24,420] Trial 162 finished with value: 0.11102081208029975 and parameters: {'alpha': 127.24444489993132, 'tol': 0.008103220714573093, 'fit_intercept': True, 'positive': True}. Best is trial 89 with value: 0.1119187985533864.\n",
      "[I 2025-05-30 08:51:24,985] Trial 163 finished with value: 0.11191878544964387 and parameters: {'alpha': 4.465084725439514, 'tol': 0.008974600079704076, 'fit_intercept': True, 'positive': True}. Best is trial 89 with value: 0.1119187985533864.\n",
      "[I 2025-05-30 08:51:26,963] Trial 164 finished with value: 0.11191872371714631 and parameters: {'alpha': 24.224866301604674, 'tol': 0.008765914746440976, 'fit_intercept': True, 'positive': True}. Best is trial 89 with value: 0.1119187985533864.\n",
      "[I 2025-05-30 08:51:27,686] Trial 165 finished with value: 0.11191877601521756 and parameters: {'alpha': 7.484600238075016, 'tol': 0.00988946511554398, 'fit_intercept': True, 'positive': True}. Best is trial 89 with value: 0.1119187985533864.\n",
      "[I 2025-05-30 08:51:27,999] Trial 166 finished with value: 0.11117664801963371 and parameters: {'alpha': 14.4234580051265, 'tol': 0.008054467844495773, 'fit_intercept': False, 'positive': True}. Best is trial 89 with value: 0.1119187985533864.\n",
      "[I 2025-05-30 08:51:28,722] Trial 167 finished with value: 0.11191875699097933 and parameters: {'alpha': 13.57371779441997, 'tol': 0.009848410340799472, 'fit_intercept': True, 'positive': True}. Best is trial 89 with value: 0.1119187985533864.\n",
      "[I 2025-05-30 08:51:30,703] Trial 168 finished with value: 0.11191878765881816 and parameters: {'alpha': 3.758048930602383, 'tol': 0.009600383807994326, 'fit_intercept': True, 'positive': True}. Best is trial 89 with value: 0.1119187985533864.\n",
      "[I 2025-05-30 08:51:31,582] Trial 170 finished with value: 0.11191865593366138 and parameters: {'alpha': 45.92724978282642, 'tol': 0.009882651382311279, 'fit_intercept': True, 'positive': True}. Best is trial 89 with value: 0.1119187985533864.\n",
      "[I 2025-05-30 08:51:31,602] Trial 169 finished with value: 0.11191878339499695 and parameters: {'alpha': 5.122670491436209, 'tol': 0.009134270043540038, 'fit_intercept': True, 'positive': True}. Best is trial 89 with value: 0.1119187985533864.\n",
      "[I 2025-05-30 08:51:32,186] Trial 171 finished with value: 0.1119187646548073 and parameters: {'alpha': 11.120687374886884, 'tol': 0.009804763030629588, 'fit_intercept': True, 'positive': True}. Best is trial 89 with value: 0.1119187985533864.\n",
      "[I 2025-05-30 08:51:34,007] Trial 172 finished with value: 0.11118043627509652 and parameters: {'alpha': 551.35996869233, 'tol': 0.008579707143081029, 'fit_intercept': False, 'positive': True}. Best is trial 89 with value: 0.1119187985533864.\n",
      "[I 2025-05-30 08:51:35,063] Trial 173 finished with value: 0.11101974881419022 and parameters: {'alpha': 4.989787734251154, 'tol': 0.008387919944783696, 'fit_intercept': True, 'positive': True}. Best is trial 89 with value: 0.1119187985533864.\n",
      "[I 2025-05-30 08:51:35,255] Trial 174 finished with value: 0.1119187850719096 and parameters: {'alpha': 4.585977432989769, 'tol': 0.009183710089823532, 'fit_intercept': True, 'positive': True}. Best is trial 89 with value: 0.1119187985533864.\n",
      "[I 2025-05-30 08:51:35,812] Trial 175 finished with value: 0.1110198392155504 and parameters: {'alpha': 15.367071773217058, 'tol': 0.008329622296673911, 'fit_intercept': True, 'positive': True}. Best is trial 89 with value: 0.1119187985533864.\n",
      "[I 2025-05-30 08:51:37,934] Trial 176 finished with value: 0.11102093972523035 and parameters: {'alpha': 141.9506972812532, 'tol': 0.00820403319761909, 'fit_intercept': True, 'positive': True}. Best is trial 89 with value: 0.1119187985533864.\n",
      "[I 2025-05-30 08:51:38,512] Trial 177 finished with value: 0.1110212746611124 and parameters: {'alpha': 180.56964564346, 'tol': 0.008248002287977303, 'fit_intercept': True, 'positive': True}. Best is trial 89 with value: 0.1119187985533864.\n",
      "[I 2025-05-30 08:51:38,882] Trial 178 finished with value: 0.11101982146637228 and parameters: {'alpha': 13.32937148462372, 'tol': 0.008533309205456387, 'fit_intercept': True, 'positive': True}. Best is trial 89 with value: 0.1119187985533864.\n",
      "[I 2025-05-30 08:51:39,091] Trial 179 finished with value: 0.11191819519742201 and parameters: {'alpha': 193.60228876668327, 'tol': 0.00939849072625889, 'fit_intercept': True, 'positive': True}. Best is trial 89 with value: 0.1119187985533864.\n",
      "[I 2025-05-30 08:51:41,558] Trial 180 finished with value: 0.11191828037073444 and parameters: {'alpha': 166.28148912368118, 'tol': 0.009742352809798497, 'fit_intercept': True, 'positive': True}. Best is trial 89 with value: 0.1119187985533864.\n",
      "[I 2025-05-30 08:51:42,114] Trial 181 finished with value: 0.11191879241357269 and parameters: {'alpha': 2.2363339247449248, 'tol': 0.00878727629872298, 'fit_intercept': True, 'positive': True}. Best is trial 89 with value: 0.1119187985533864.\n",
      "[I 2025-05-30 08:51:42,503] Trial 182 finished with value: 0.11191875742551353 and parameters: {'alpha': 13.434630456994066, 'tol': 0.009777496021103055, 'fit_intercept': True, 'positive': True}. Best is trial 89 with value: 0.1119187985533864.\n",
      "[I 2025-05-30 08:51:42,697] Trial 183 finished with value: 0.11191869887104158 and parameters: {'alpha': 32.17919682144377, 'tol': 0.009973976779513987, 'fit_intercept': True, 'positive': True}. Best is trial 89 with value: 0.1119187985533864.\n",
      "[I 2025-05-30 08:51:45,192] Trial 184 finished with value: 0.11101973326738963 and parameters: {'alpha': 3.205470738834937, 'tol': 0.008407037350721527, 'fit_intercept': True, 'positive': True}. Best is trial 89 with value: 0.1119187985533864.\n",
      "[I 2025-05-30 08:51:45,746] Trial 185 finished with value: 0.1119186960153152 and parameters: {'alpha': 33.09349228371253, 'tol': 0.0099852851932059, 'fit_intercept': True, 'positive': True}. Best is trial 89 with value: 0.1119187985533864.\n",
      "[I 2025-05-30 08:51:46,136] Trial 186 finished with value: 0.11101972949056557 and parameters: {'alpha': 2.7720161973276705, 'tol': 0.008006450464300716, 'fit_intercept': True, 'positive': True}. Best is trial 89 with value: 0.1119187985533864.\n",
      "[I 2025-05-30 08:51:46,339] Trial 187 finished with value: 0.11191876620046615 and parameters: {'alpha': 10.625963750309035, 'tol': 0.009948034646902434, 'fit_intercept': True, 'positive': True}. Best is trial 89 with value: 0.1119187985533864.\n",
      "[I 2025-05-30 08:51:48,832] Trial 188 finished with value: 0.11123237991075352 and parameters: {'alpha': 358.7855237422026, 'tol': 0.0024258783959237844, 'fit_intercept': True, 'positive': True}. Best is trial 89 with value: 0.1119187985533864.\n",
      "[I 2025-05-30 08:51:49,546] Trial 189 finished with value: 0.11101984754093255 and parameters: {'alpha': 16.322912149528296, 'tol': 0.007859379482602, 'fit_intercept': True, 'positive': True}. Best is trial 89 with value: 0.1119187985533864.\n",
      "[I 2025-05-30 08:51:49,766] Trial 190 finished with value: 0.11191876238451351 and parameters: {'alpha': 11.847352720619726, 'tol': 0.009714312094570831, 'fit_intercept': True, 'positive': True}. Best is trial 89 with value: 0.1119187985533864.\n",
      "[I 2025-05-30 08:51:50,110] Trial 191 finished with value: 0.11191878711720782 and parameters: {'alpha': 3.931388175956313, 'tol': 0.008910024038967549, 'fit_intercept': True, 'positive': True}. Best is trial 89 with value: 0.1119187985533864.\n",
      "[I 2025-05-30 08:51:52,031] Trial 192 finished with value: 0.10925520953752973 and parameters: {'alpha': 10.684669875831375, 'tol': 0.008002905775986351, 'fit_intercept': True, 'positive': False}. Best is trial 89 with value: 0.1119187985533864.\n",
      "[I 2025-05-30 08:51:53,186] Trial 193 finished with value: 0.11191878568267513 and parameters: {'alpha': 4.390503870047213, 'tol': 0.00862487176320198, 'fit_intercept': True, 'positive': True}. Best is trial 89 with value: 0.1119187985533864.\n",
      "[I 2025-05-30 08:51:53,394] Trial 195 finished with value: 0.10927340821445117 and parameters: {'alpha': 29.994543317147244, 'tol': 0.007567303555379227, 'fit_intercept': True, 'positive': False}. Best is trial 89 with value: 0.1119187985533864.\n",
      "[I 2025-05-30 08:51:53,601] Trial 194 finished with value: 0.11101981368349045 and parameters: {'alpha': 12.435893711317101, 'tol': 0.00854169047479283, 'fit_intercept': True, 'positive': True}. Best is trial 89 with value: 0.1119187985533864.\n",
      "[I 2025-05-30 08:51:56,150] Trial 196 finished with value: 0.11102094637710724 and parameters: {'alpha': 142.71724891896548, 'tol': 0.008259619631105266, 'fit_intercept': True, 'positive': True}. Best is trial 89 with value: 0.1119187985533864.\n",
      "[I 2025-05-30 08:51:56,740] Trial 197 finished with value: 0.11101985018180342 and parameters: {'alpha': 16.626117187054284, 'tol': 0.007999612123703573, 'fit_intercept': True, 'positive': True}. Best is trial 89 with value: 0.1119187985533864.\n",
      "[I 2025-05-30 08:51:57,077] Trial 198 finished with value: 0.11191877895145101 and parameters: {'alpha': 6.544837704771622, 'tol': 0.009062080664124804, 'fit_intercept': True, 'positive': True}. Best is trial 89 with value: 0.1119187985533864.\n",
      "[I 2025-05-30 08:51:57,312] Trial 199 finished with value: 0.11191879394886037 and parameters: {'alpha': 1.7449857017012782, 'tol': 0.008645493326564821, 'fit_intercept': True, 'positive': True}. Best is trial 89 with value: 0.1119187985533864.\n",
      "[I 2025-05-30 08:51:59,938] Trial 200 finished with value: 0.11101988565251322 and parameters: {'alpha': 20.698861056825148, 'tol': 0.008543274242597855, 'fit_intercept': True, 'positive': True}. Best is trial 89 with value: 0.1119187985533864.\n",
      "[I 2025-05-30 08:52:00,116] Trial 201 finished with value: 0.10944766542036363 and parameters: {'alpha': 229.1934252898106, 'tol': 0.000556479619154073, 'fit_intercept': True, 'positive': False}. Best is trial 89 with value: 0.1119187985533864.\n",
      "[I 2025-05-30 08:52:00,846] Trial 202 finished with value: 0.11101971950889596 and parameters: {'alpha': 1.6264771486073408, 'tol': 0.008201489153406814, 'fit_intercept': True, 'positive': True}. Best is trial 89 with value: 0.1119187985533864.\n",
      "[I 2025-05-30 08:52:01,112] Trial 203 finished with value: 0.1110213270678417 and parameters: {'alpha': 186.61624022765096, 'tol': 0.008514087538102068, 'fit_intercept': True, 'positive': True}. Best is trial 89 with value: 0.1119187985533864.\n",
      "[I 2025-05-30 08:52:03,616] Trial 205 finished with value: 0.11191879882882219 and parameters: {'alpha': 0.18323990194467543, 'tol': 0.008960306351220592, 'fit_intercept': True, 'positive': True}. Best is trial 205 with value: 0.11191879882882219.\n",
      "[I 2025-05-30 08:52:03,635] Trial 204 finished with value: 0.11191830218699524 and parameters: {'alpha': 159.2850897827665, 'tol': 0.00998136808222287, 'fit_intercept': True, 'positive': True}. Best is trial 205 with value: 0.11191879882882219.\n",
      "[I 2025-05-30 08:52:04,586] Trial 206 finished with value: 0.111019724024529 and parameters: {'alpha': 2.144705699310263, 'tol': 0.00842513737542119, 'fit_intercept': True, 'positive': True}. Best is trial 205 with value: 0.11191879882882219.\n",
      "[I 2025-05-30 08:52:04,806] Trial 207 finished with value: 0.11191877670109689 and parameters: {'alpha': 7.2650786452387965, 'tol': 0.009254796985174644, 'fit_intercept': True, 'positive': True}. Best is trial 205 with value: 0.11191879882882219.\n",
      "[I 2025-05-30 08:52:07,461] Trial 208 finished with value: 0.11101971071796743 and parameters: {'alpha': 0.6176246262949099, 'tol': 0.008444131443726103, 'fit_intercept': True, 'positive': True}. Best is trial 205 with value: 0.11191879882882219.\n",
      "[I 2025-05-30 08:52:07,490] Trial 209 finished with value: 0.1110197596034177 and parameters: {'alpha': 6.228129899879965, 'tol': 0.00815534440203412, 'fit_intercept': True, 'positive': True}. Best is trial 205 with value: 0.11191879882882219.\n",
      "[I 2025-05-30 08:52:07,886] Trial 210 finished with value: 0.1094072879774886 and parameters: {'alpha': 180.5857551285189, 'tol': 0.009859961775762495, 'fit_intercept': True, 'positive': False}. Best is trial 205 with value: 0.11191879882882219.\n",
      "[I 2025-05-30 08:52:08,802] Trial 211 finished with value: 0.11123064615807728 and parameters: {'alpha': 107.09147935904616, 'tol': 0.005152451212380789, 'fit_intercept': True, 'positive': True}. Best is trial 205 with value: 0.11191879882882219.\n",
      "[I 2025-05-30 08:52:10,795] Trial 212 finished with value: 0.11122996950048195 and parameters: {'alpha': 9.435063922026131, 'tol': 0.006119347747811821, 'fit_intercept': True, 'positive': True}. Best is trial 205 with value: 0.11191879882882219.\n",
      "[I 2025-05-30 08:52:11,150] Trial 213 finished with value: 0.11191055412186579 and parameters: {'alpha': 123.52065309186466, 'tol': 0.00898288443254408, 'fit_intercept': False, 'positive': True}. Best is trial 205 with value: 0.11191879882882219.\n",
      "[I 2025-05-30 08:52:11,373] Trial 214 finished with value: 0.11191873722015325 and parameters: {'alpha': 19.9022997444565, 'tol': 0.009072144515247134, 'fit_intercept': True, 'positive': True}. Best is trial 205 with value: 0.11191879882882219.\n",
      "[I 2025-05-30 08:52:12,468] Trial 215 finished with value: 0.11191879333257253 and parameters: {'alpha': 1.9422199980559207, 'tol': 0.00961513720659424, 'fit_intercept': True, 'positive': True}. Best is trial 205 with value: 0.11191879882882219.\n",
      "[I 2025-05-30 08:52:14,606] Trial 216 finished with value: 0.11131305871132868 and parameters: {'alpha': 225.92115976634352, 'tol': 0.007335902492509778, 'fit_intercept': False, 'positive': True}. Best is trial 205 with value: 0.11191879882882219.\n",
      "[I 2025-05-30 08:52:14,645] Trial 218 finished with value: 0.1096870118971724 and parameters: {'alpha': 492.77578632822497, 'tol': 0.004338195500418969, 'fit_intercept': False, 'positive': False}. Best is trial 205 with value: 0.11191879882882219.\n",
      "[I 2025-05-30 08:52:14,994] Trial 217 finished with value: 0.11191875173869863 and parameters: {'alpha': 15.25490704412361, 'tol': 0.008914653780780732, 'fit_intercept': True, 'positive': True}. Best is trial 205 with value: 0.11191879882882219.\n",
      "[I 2025-05-30 08:52:16,313] Trial 219 finished with value: 0.11191879756646561 and parameters: {'alpha': 0.5872318898979103, 'tol': 0.009334580973845711, 'fit_intercept': True, 'positive': True}. Best is trial 205 with value: 0.11191879882882219.\n",
      "[I 2025-05-30 08:52:18,072] Trial 220 finished with value: 0.1113162346904009 and parameters: {'alpha': 726.0923681675649, 'tol': 0.0035773861757730603, 'fit_intercept': False, 'positive': True}. Best is trial 205 with value: 0.11191879882882219.\n",
      "[I 2025-05-30 08:52:18,281] Trial 221 finished with value: 0.11191879141732919 and parameters: {'alpha': 2.555169958443859, 'tol': 0.009666648418372783, 'fit_intercept': True, 'positive': True}. Best is trial 205 with value: 0.11191879882882219.\n",
      "[I 2025-05-30 08:52:18,809] Trial 222 finished with value: 0.11191876013061848 and parameters: {'alpha': 12.56877590494606, 'tol': 0.009881603145576743, 'fit_intercept': True, 'positive': True}. Best is trial 205 with value: 0.11191879882882219.\n",
      "[I 2025-05-30 08:52:20,092] Trial 223 finished with value: 0.11191819913173787 and parameters: {'alpha': 192.3400785295143, 'tol': 0.008786616107416084, 'fit_intercept': True, 'positive': True}. Best is trial 205 with value: 0.11191879882882219.\n",
      "[I 2025-05-30 08:52:21,346] Trial 224 finished with value: 0.1119182712619049 and parameters: {'alpha': 169.2028450506923, 'tol': 0.009968669762389375, 'fit_intercept': True, 'positive': True}. Best is trial 205 with value: 0.11191879882882219.\n",
      "[I 2025-05-30 08:52:21,865] Trial 225 finished with value: 0.11101972319552492 and parameters: {'alpha': 2.0495659333035565, 'tol': 0.008181695982434237, 'fit_intercept': True, 'positive': True}. Best is trial 205 with value: 0.11191879882882219.\n",
      "[I 2025-05-30 08:52:22,454] Trial 226 finished with value: 0.11191879883470542 and parameters: {'alpha': 0.18135709542265843, 'tol': 0.008668867937344798, 'fit_intercept': True, 'positive': True}. Best is trial 226 with value: 0.11191879883470542.\n",
      "[I 2025-05-30 08:52:23,757] Trial 227 finished with value: 0.11191877655959159 and parameters: {'alpha': 7.310368589174804, 'tol': 0.008679029857255275, 'fit_intercept': True, 'positive': True}. Best is trial 226 with value: 0.11191879883470542.\n",
      "[I 2025-05-30 08:52:24,910] Trial 228 finished with value: 0.11191879897934982 and parameters: {'alpha': 0.13506668634948893, 'tol': 0.009851141398894212, 'fit_intercept': True, 'positive': True}. Best is trial 228 with value: 0.11191879897934982.\n",
      "[I 2025-05-30 08:52:25,827] Trial 229 finished with value: 0.11191879925190609 and parameters: {'alpha': 0.04784082025976688, 'tol': 0.009181976354179638, 'fit_intercept': True, 'positive': True}. Best is trial 229 with value: 0.11191879925190609.\n",
      "[I 2025-05-30 08:52:26,112] Trial 230 finished with value: 0.11102077549926656 and parameters: {'alpha': 123.03103577356543, 'tol': 0.00784513371467429, 'fit_intercept': True, 'positive': True}. Best is trial 229 with value: 0.11191879925190609.\n",
      "[I 2025-05-30 08:52:28,026] Trial 231 finished with value: 0.1110210560819116 and parameters: {'alpha': 155.36194688593287, 'tol': 0.008358424891530816, 'fit_intercept': True, 'positive': True}. Best is trial 229 with value: 0.11191879925190609.\n",
      "[I 2025-05-30 08:52:28,571] Trial 232 finished with value: 0.11191878371474018 and parameters: {'alpha': 5.020336932984783, 'tol': 0.009296158621613324, 'fit_intercept': True, 'positive': True}. Best is trial 229 with value: 0.11191879925190609.\n",
      "[I 2025-05-30 08:52:29,148] Trial 233 finished with value: 0.11191879632652194 and parameters: {'alpha': 0.9840531190132168, 'tol': 0.00959948054315636, 'fit_intercept': True, 'positive': True}. Best is trial 229 with value: 0.11191879925190609.\n",
      "[I 2025-05-30 08:52:29,720] Trial 234 finished with value: 0.11191873589361671 and parameters: {'alpha': 20.32693845185916, 'tol': 0.009955112384434136, 'fit_intercept': True, 'positive': True}. Best is trial 229 with value: 0.11191879925190609.\n",
      "[I 2025-05-30 08:52:31,661] Trial 235 finished with value: 0.11191879750262779 and parameters: {'alpha': 0.6076619693705267, 'tol': 0.00962852785903607, 'fit_intercept': True, 'positive': True}. Best is trial 229 with value: 0.11191879925190609.\n",
      "[I 2025-05-30 08:52:32,221] Trial 236 finished with value: 0.11101971731778015 and parameters: {'alpha': 1.3750205052972646, 'tol': 0.008572902429789506, 'fit_intercept': True, 'positive': True}. Best is trial 229 with value: 0.11191879925190609.\n",
      "[I 2025-05-30 08:52:32,791] Trial 237 finished with value: 0.11191872252744654 and parameters: {'alpha': 24.605723039601113, 'tol': 0.009745523754651392, 'fit_intercept': True, 'positive': True}. Best is trial 229 with value: 0.11191879925190609.\n",
      "[I 2025-05-30 08:52:33,692] Trial 238 finished with value: 0.11191830470738232 and parameters: {'alpha': 158.47685082376964, 'tol': 0.009671795670483558, 'fit_intercept': True, 'positive': True}. Best is trial 229 with value: 0.11191879925190609.\n",
      "[I 2025-05-30 08:52:35,455] Trial 240 finished with value: 0.10988343930763263 and parameters: {'alpha': 877.7953292512888, 'tol': 0.0004180526055805583, 'fit_intercept': True, 'positive': False}. Best is trial 229 with value: 0.11191879925190609.\n",
      "[I 2025-05-30 08:52:35,486] Trial 239 finished with value: 0.11191830173138481 and parameters: {'alpha': 159.4311960452842, 'tol': 0.009742386627799318, 'fit_intercept': True, 'positive': True}. Best is trial 229 with value: 0.11191879925190609.\n",
      "[I 2025-05-30 08:52:36,408] Trial 241 finished with value: 0.11191879660251944 and parameters: {'alpha': 0.8957249999883445, 'tol': 0.009905494788696819, 'fit_intercept': True, 'positive': True}. Best is trial 229 with value: 0.11191879925190609.\n",
      "[I 2025-05-30 08:52:37,473] Trial 242 finished with value: 0.11191866632616554 and parameters: {'alpha': 42.59946805331707, 'tol': 0.009960617147476593, 'fit_intercept': True, 'positive': True}. Best is trial 229 with value: 0.11191879925190609.\n",
      "[I 2025-05-30 08:52:38,726] Trial 243 finished with value: 0.11191859894349976 and parameters: {'alpha': 64.17857978960281, 'tol': 0.009916694314137189, 'fit_intercept': True, 'positive': True}. Best is trial 229 with value: 0.11191879925190609.\n",
      "[I 2025-05-30 08:52:39,107] Trial 244 finished with value: 0.11191876536141128 and parameters: {'alpha': 10.894522151435256, 'tol': 0.009592944539802223, 'fit_intercept': True, 'positive': True}. Best is trial 229 with value: 0.11191879925190609.\n",
      "[I 2025-05-30 08:52:40,151] Trial 245 finished with value: 0.11191834009758797 and parameters: {'alpha': 147.12878706802917, 'tol': 0.009948828357435628, 'fit_intercept': True, 'positive': True}. Best is trial 229 with value: 0.11191879925190609.\n",
      "[I 2025-05-30 08:52:41,244] Trial 246 finished with value: 0.11191879443607569 and parameters: {'alpha': 1.5890596232136254, 'tol': 0.009606461411413931, 'fit_intercept': True, 'positive': True}. Best is trial 229 with value: 0.11191879925190609.\n",
      "[I 2025-05-30 08:52:41,727] Trial 247 finished with value: 0.10980370710144738 and parameters: {'alpha': 650.4022848225834, 'tol': 0.009810819115325125, 'fit_intercept': False, 'positive': False}. Best is trial 229 with value: 0.11191879925190609.\n",
      "[I 2025-05-30 08:52:42,471] Trial 248 finished with value: 0.11191873868095152 and parameters: {'alpha': 19.434685073925127, 'tol': 0.00961669545022018, 'fit_intercept': True, 'positive': True}. Best is trial 229 with value: 0.11191879925190609.\n",
      "[I 2025-05-30 08:52:42,653] Trial 249 finished with value: 0.1097620518114305 and parameters: {'alpha': 670.3317844393754, 'tol': 0.009933320184478449, 'fit_intercept': True, 'positive': False}. Best is trial 229 with value: 0.11191879925190609.\n"
     ]
    }
   ],
   "source": [
    "def objective(trial):    \n",
    "    params = {\n",
    "        \"random_state\": CFG.seed,\n",
    "        \"alpha\": trial.suggest_float(\"alpha\", 0, 1000),\n",
    "        \"tol\": trial.suggest_float(\"tol\", 1e-6, 1e-2),\n",
    "        \"fit_intercept\": trial.suggest_categorical(\"fit_intercept\", [True, False]),\n",
    "        \"positive\": trial.suggest_categorical(\"positive\", [True, False])\n",
    "    }\n",
    "\n",
    "    trainer = Trainer(\n",
    "        Ridge(**params),\n",
    "        cv=KFold(n_splits=5, shuffle=False),\n",
    "        metric=_pearsonr,\n",
    "        task=\"regression\",\n",
    "        verbose=False\n",
    "    )\n",
    "    trainer.fit(X, y)\n",
    "    \n",
    "    return np.mean(trainer.fold_scores)\n",
    "\n",
    "if CFG.run_optuna:\n",
    "    sampler = optuna.samplers.TPESampler(seed=CFG.seed, multivariate=True)\n",
    "    study = optuna.create_study(direction=\"maximize\", sampler=sampler)\n",
    "    study.optimize(objective, n_trials=CFG.n_optuna_trials, n_jobs=-1, catch=(ValueError,))\n",
    "    best_params = study.best_params\n",
    "\n",
    "    ridge_params = {\n",
    "        \"random_state\": CFG.seed,\n",
    "        \"alpha\": best_params[\"alpha\"],\n",
    "        \"tol\": best_params[\"tol\"],\n",
    "        \"fit_intercept\": best_params[\"fit_intercept\"],\n",
    "        \"positive\": best_params[\"positive\"]\n",
    "    }\n",
    "else:\n",
    "    ridge_params = {\n",
    "        \"random_state\": CFG.seed\n",
    "    }"
   ]
  },
  {
   "cell_type": "code",
   "execution_count": 19,
   "id": "f081c963",
   "metadata": {
    "execution": {
     "iopub.execute_input": "2025-05-30T08:52:42.697932Z",
     "iopub.status.busy": "2025-05-30T08:52:42.697573Z",
     "iopub.status.idle": "2025-05-30T08:52:43.788682Z",
     "shell.execute_reply": "2025-05-30T08:52:43.787816Z"
    },
    "papermill": {
     "duration": 1.111906,
     "end_time": "2025-05-30T08:52:43.790284",
     "exception": false,
     "start_time": "2025-05-30T08:52:42.678378",
     "status": "completed"
    },
    "tags": []
   },
   "outputs": [
    {
     "name": "stdout",
     "output_type": "stream",
     "text": [
      "Training Ridge\n",
      "\n",
      "--- Fold 0 - _pearsonr: 0.182079 - Time: 0.06 s\n",
      "--- Fold 1 - _pearsonr: 0.112480 - Time: 0.07 s\n",
      "--- Fold 2 - _pearsonr: 0.059400 - Time: 0.06 s\n",
      "--- Fold 3 - _pearsonr: 0.140099 - Time: 0.06 s\n",
      "--- Fold 4 - _pearsonr: 0.065537 - Time: 0.06 s\n",
      "\n",
      "------ Overall _pearsonr: 0.082830 - Mean _pearsonr: 0.111919 ± 0.046100 - Time: 1.05 s\n"
     ]
    }
   ],
   "source": [
    "ridge_trainer = Trainer(\n",
    "    Ridge(**ridge_params),\n",
    "    cv=KFold(n_splits=5, shuffle=False),\n",
    "    metric=_pearsonr,\n",
    "    task=\"regression\",\n",
    "    metric_precision=6\n",
    ")\n",
    "\n",
    "ridge_trainer.fit(X, y)\n",
    "\n",
    "scores[\"Ridge (ensemble)\"] = ridge_trainer.fold_scores\n",
    "ridge_test_preds = ridge_trainer.predict(X_test)"
   ]
  },
  {
   "cell_type": "code",
   "execution_count": 20,
   "id": "fee2ed46",
   "metadata": {
    "execution": {
     "iopub.execute_input": "2025-05-30T08:52:43.828069Z",
     "iopub.status.busy": "2025-05-30T08:52:43.827745Z",
     "iopub.status.idle": "2025-05-30T08:52:44.130097Z",
     "shell.execute_reply": "2025-05-30T08:52:44.129165Z"
    },
    "papermill": {
     "duration": 0.322922,
     "end_time": "2025-05-30T08:52:44.131619",
     "exception": false,
     "start_time": "2025-05-30T08:52:43.808697",
     "status": "completed"
    },
    "tags": []
   },
   "outputs": [
    {
     "data": {
      "image/png": "[encoded data removed]",
      "text/plain": [
       "<Figure size 1000x150 with 1 Axes>"
      ]
     },
     "metadata": {},
     "output_type": "display_data"
    }
   ],
   "source": [
    "ridge_coeffs = np.zeros((1, X.shape[1]))\n",
    "for m in ridge_trainer.estimators:\n",
    "    ridge_coeffs += m.coef_\n",
    "ridge_coeffs = ridge_coeffs / len(ridge_trainer.estimators)\n",
    "\n",
    "plot_weights(ridge_coeffs, \"Ridge Coefficients\")"
   ]
  },
  {
   "cell_type": "markdown",
   "id": "5f19d72c",
   "metadata": {
    "papermill": {
     "duration": 0.018221,
     "end_time": "2025-05-30T08:52:44.168747",
     "exception": false,
     "start_time": "2025-05-30T08:52:44.150526",
     "status": "completed"
    },
    "tags": []
   },
   "source": [
    "# Submission"
   ]
  },
  {
   "cell_type": "code",
   "execution_count": 21,
   "id": "98c2a1bc",
   "metadata": {
    "execution": {
     "iopub.execute_input": "2025-05-30T08:52:44.207248Z",
     "iopub.status.busy": "2025-05-30T08:52:44.206485Z",
     "iopub.status.idle": "2025-05-30T08:52:45.825180Z",
     "shell.execute_reply": "2025-05-30T08:52:45.824299Z"
    },
    "papermill": {
     "duration": 1.639437,
     "end_time": "2025-05-30T08:52:45.826768",
     "exception": false,
     "start_time": "2025-05-30T08:52:44.187331",
     "status": "completed"
    },
    "tags": []
   },
   "outputs": [
    {
     "data": {
      "text/html": [
       "<div>\n",
       "<style scoped>\n",
       "    .dataframe tbody tr th:only-of-type {\n",
       "        vertical-align: middle;\n",
       "    }\n",
       "\n",
       "    .dataframe tbody tr th {\n",
       "        vertical-align: top;\n",
       "    }\n",
       "\n",
       "    .dataframe thead th {\n",
       "        text-align: right;\n",
       "    }\n",
       "</style>\n",
       "<table border=\"1\" class=\"dataframe\">\n",
       "  <thead>\n",
       "    <tr style=\"text-align: right;\">\n",
       "      <th></th>\n",
       "      <th>ID</th>\n",
       "      <th>prediction</th>\n",
       "    </tr>\n",
       "  </thead>\n",
       "  <tbody>\n",
       "    <tr>\n",
       "      <th>0</th>\n",
       "      <td>1</td>\n",
       "      <td>0.092177</td>\n",
       "    </tr>\n",
       "    <tr>\n",
       "      <th>1</th>\n",
       "      <td>2</td>\n",
       "      <td>0.063322</td>\n",
       "    </tr>\n",
       "    <tr>\n",
       "      <th>2</th>\n",
       "      <td>3</td>\n",
       "      <td>0.039379</td>\n",
       "    </tr>\n",
       "    <tr>\n",
       "      <th>3</th>\n",
       "      <td>4</td>\n",
       "      <td>0.007631</td>\n",
       "    </tr>\n",
       "    <tr>\n",
       "      <th>4</th>\n",
       "      <td>5</td>\n",
       "      <td>0.150166</td>\n",
       "    </tr>\n",
       "  </tbody>\n",
       "</table>\n",
       "</div>"
      ],
      "text/plain": [
       "   ID  prediction\n",
       "0   1    0.092177\n",
       "1   2    0.063322\n",
       "2   3    0.039379\n",
       "3   4    0.007631\n",
       "4   5    0.150166"
      ]
     },
     "execution_count": 21,
     "metadata": {},
     "output_type": "execute_result"
    }
   ],
   "source": [
    "sub = pd.read_csv(CFG.sample_sub_path)\n",
    "sub[\"prediction\"] = ridge_test_preds\n",
    "sub.to_csv(f\"sub_ridge_{np.mean(scores['Ridge (ensemble)']):.6f}.csv\", index=False)\n",
    "sub.head()"
   ]
  },
  {
   "cell_type": "markdown",
   "id": "3e10fb4a",
   "metadata": {
    "papermill": {
     "duration": 0.019514,
     "end_time": "2025-05-30T08:52:45.865347",
     "exception": false,
     "start_time": "2025-05-30T08:52:45.845833",
     "status": "completed"
    },
    "tags": []
   },
   "source": [
    "# Results"
   ]
  },
  {
   "cell_type": "code",
   "execution_count": 22,
   "id": "fa450f1c",
   "metadata": {
    "execution": {
     "iopub.execute_input": "2025-05-30T08:52:45.904578Z",
     "iopub.status.busy": "2025-05-30T08:52:45.904253Z",
     "iopub.status.idle": "2025-05-30T08:52:46.215195Z",
     "shell.execute_reply": "2025-05-30T08:52:46.214384Z"
    },
    "papermill": {
     "duration": 0.33275,
     "end_time": "2025-05-30T08:52:46.216771",
     "exception": false,
     "start_time": "2025-05-30T08:52:45.884021",
     "status": "completed"
    },
    "tags": []
   },
   "outputs": [
    {
     "data": {
      "image/png": "[encoded data removed]",
      "text/plain": [
       "<Figure size 1500x200 with 2 Axes>"
      ]
     },
     "metadata": {},
     "output_type": "display_data"
    }
   ],
   "source": [
    "scores = pd.DataFrame(scores)\n",
    "mean_scores = scores.mean().sort_values(ascending=False)\n",
    "order = scores.mean().sort_values(ascending=False).index.tolist()\n",
    "\n",
    "min_score = mean_scores.min()\n",
    "max_score = mean_scores.max()\n",
    "padding = (max_score - min_score) * 0.5\n",
    "lower_limit = min_score - padding\n",
    "upper_limit = max_score + padding\n",
    "\n",
    "fig, axs = plt.subplots(1, 2, figsize=(15, scores.shape[1] * 0.5))\n",
    "\n",
    "boxplot = sns.boxplot(data=scores, order=order, ax=axs[0], orient=\"h\", color=\"grey\")\n",
    "axs[0].set_title(f\"Fold Score\")\n",
    "axs[0].set_xlabel(\"\")\n",
    "axs[0].set_ylabel(\"\")\n",
    "\n",
    "barplot = sns.barplot(x=mean_scores.values, y=mean_scores.index, ax=axs[1], color=\"grey\")\n",
    "axs[1].set_title(f\"Average Score\")\n",
    "axs[1].set_xlabel(\"\")\n",
    "axs[1].set_xlim(left=lower_limit, right=upper_limit)\n",
    "axs[1].set_ylabel(\"\")\n",
    "\n",
    "for i, (score, model) in enumerate(zip(mean_scores.values, mean_scores.index)):\n",
    "    color = \"cyan\" if \"ensemble\" in model.lower() else \"grey\"\n",
    "    barplot.patches[i].set_facecolor(color)\n",
    "    boxplot.patches[i].set_facecolor(color)\n",
    "    barplot.text(score, i, round(score, 6), va=\"center\")\n",
    "\n",
    "plt.tight_layout()\n",
    "plt.show()"
   ]
  }
 ],
 "metadata": {
  "kaggle": {
   "accelerator": "none",
   "dataSources": [
    {
     "databundleVersionId": 11418275,
     "sourceId": 96164,
     "sourceType": "competition"
    }
   ],
   "dockerImageVersionId": 31040,
   "isGpuEnabled": false,
   "isInternetEnabled": true,
   "language": "python",
   "sourceType": "notebook"
  },
  "kernelspec": {
   "display_name": "Python 3",
   "language": "python",
   "name": "python3"
  },
  "language_info": {
   "codemirror_mode": {
    "name": "ipython",
    "version": 3
   },
   "file_extension": ".py",
   "mimetype": "text/x-python",
   "name": "python",
   "nbconvert_exporter": "python",
   "pygments_lexer": "ipython3",
   "version": "3.11.11"
  },
  "papermill": {
   "default_parameters": {},
   "duration": 8071.979469,
   "end_time": "2025-05-30T08:52:48.601205",
   "environment_variables": {},
   "exception": null,
   "input_path": "__notebook__.ipynb",
   "output_path": "__notebook__.ipynb",
   "parameters": {},
   "start_time": "2025-05-30T06:38:16.621736",
   "version": "2.6.0"
  }
 },
 "nbformat": 4,
 "nbformat_minor": 5
}
