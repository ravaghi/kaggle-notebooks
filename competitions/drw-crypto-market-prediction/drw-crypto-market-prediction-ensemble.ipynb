{
 "cells": [
  {
   "cell_type": "code",
   "execution_count": 1,
   "id": "67d87818",
   "metadata": {
    "_kg_hide-output": true,
    "execution": {
     "iopub.execute_input": "2025-05-25T08:29:08.102765Z",
     "iopub.status.busy": "2025-05-25T08:29:08.102445Z",
     "iopub.status.idle": "2025-05-25T08:29:17.623246Z",
     "shell.execute_reply": "2025-05-25T08:29:17.621891Z"
    },
    "papermill": {
     "duration": 9.529179,
     "end_time": "2025-05-25T08:29:17.625159",
     "exception": false,
     "start_time": "2025-05-25T08:29:08.095980",
     "status": "completed"
    },
    "scrolled": true,
    "tags": []
   },
   "outputs": [
    {
     "name": "stdout",
     "output_type": "stream",
     "text": [
      "Collecting scikit-learn==1.5.2\r\n",
      "  Downloading scikit_learn-1.5.2-cp311-cp311-manylinux_2_17_x86_64.manylinux2014_x86_64.whl.metadata (13 kB)\r\n",
      "Requirement already satisfied: numpy>=1.19.5 in /usr/local/lib/python3.11/dist-packages (from scikit-learn==1.5.2) (1.26.4)\r\n",
      "Requirement already satisfied: scipy>=1.6.0 in /usr/local/lib/python3.11/dist-packages (from scikit-learn==1.5.2) (1.15.2)\r\n",
      "Requirement already satisfied: joblib>=1.2.0 in /usr/local/lib/python3.11/dist-packages (from scikit-learn==1.5.2) (1.5.0)\r\n",
      "Requirement already satisfied: threadpoolctl>=3.1.0 in /usr/local/lib/python3.11/dist-packages (from scikit-learn==1.5.2) (3.6.0)\r\n",
      "Requirement already satisfied: mkl_fft in /usr/local/lib/python3.11/dist-packages (from numpy>=1.19.5->scikit-learn==1.5.2) (1.3.8)\r\n",
      "Requirement already satisfied: mkl_random in /usr/local/lib/python3.11/dist-packages (from numpy>=1.19.5->scikit-learn==1.5.2) (1.2.4)\r\n",
      "Requirement already satisfied: mkl_umath in /usr/local/lib/python3.11/dist-packages (from numpy>=1.19.5->scikit-learn==1.5.2) (0.1.1)\r\n",
      "Requirement already satisfied: mkl in /usr/local/lib/python3.11/dist-packages (from numpy>=1.19.5->scikit-learn==1.5.2) (2025.1.0)\r\n",
      "Requirement already satisfied: tbb4py in /usr/local/lib/python3.11/dist-packages (from numpy>=1.19.5->scikit-learn==1.5.2) (2022.1.0)\r\n",
      "Requirement already satisfied: mkl-service in /usr/local/lib/python3.11/dist-packages (from numpy>=1.19.5->scikit-learn==1.5.2) (2.4.1)\r\n",
      "Requirement already satisfied: intel-openmp<2026,>=2024 in /usr/local/lib/python3.11/dist-packages (from mkl->numpy>=1.19.5->scikit-learn==1.5.2) (2024.2.0)\r\n",
      "Requirement already satisfied: tbb==2022.* in /usr/local/lib/python3.11/dist-packages (from mkl->numpy>=1.19.5->scikit-learn==1.5.2) (2022.1.0)\r\n",
      "Requirement already satisfied: tcmlib==1.* in /usr/local/lib/python3.11/dist-packages (from tbb==2022.*->mkl->numpy>=1.19.5->scikit-learn==1.5.2) (1.3.0)\r\n",
      "Requirement already satisfied: intel-cmplr-lib-rt in /usr/local/lib/python3.11/dist-packages (from mkl_umath->numpy>=1.19.5->scikit-learn==1.5.2) (2024.2.0)\r\n",
      "Requirement already satisfied: intel-cmplr-lib-ur==2024.2.0 in /usr/local/lib/python3.11/dist-packages (from intel-openmp<2026,>=2024->mkl->numpy>=1.19.5->scikit-learn==1.5.2) (2024.2.0)\r\n",
      "Downloading scikit_learn-1.5.2-cp311-cp311-manylinux_2_17_x86_64.manylinux2014_x86_64.whl (13.3 MB)\r\n",
      "\u001b[2K   \u001b[90m━━━━━━━━━━━━━━━━━━━━━━━━━━━━━━━━━━━━━━━━\u001b[0m \u001b[32m13.3/13.3 MB\u001b[0m \u001b[31m84.0 MB/s\u001b[0m eta \u001b[36m0:00:00\u001b[0m\r\n",
      "\u001b[?25hInstalling collected packages: scikit-learn\r\n",
      "  Attempting uninstall: scikit-learn\r\n",
      "    Found existing installation: scikit-learn 1.2.2\r\n",
      "    Uninstalling scikit-learn-1.2.2:\r\n",
      "      Successfully uninstalled scikit-learn-1.2.2\r\n",
      "\u001b[31mERROR: pip's dependency resolver does not currently take into account all the packages that are installed. This behaviour is the source of the following dependency conflicts.\r\n",
      "cesium 0.12.4 requires numpy<3.0,>=2.0, but you have numpy 1.26.4 which is incompatible.\u001b[0m\u001b[31m\r\n",
      "\u001b[0mSuccessfully installed scikit-learn-1.5.2\r\n"
     ]
    }
   ],
   "source": [
    "!pip install scikit-learn==1.5.2"
   ]
  },
  {
   "cell_type": "markdown",
   "id": "aeccb751",
   "metadata": {
    "papermill": {
     "duration": 0.004915,
     "end_time": "2025-05-25T08:29:17.635742",
     "exception": false,
     "start_time": "2025-05-25T08:29:17.630827",
     "status": "completed"
    },
    "tags": []
   },
   "source": [
    "# Imports and configs"
   ]
  },
  {
   "cell_type": "code",
   "execution_count": 2,
   "id": "58b86c67",
   "metadata": {
    "_kg_hide-output": true,
    "execution": {
     "iopub.execute_input": "2025-05-25T08:29:17.647809Z",
     "iopub.status.busy": "2025-05-25T08:29:17.646788Z",
     "iopub.status.idle": "2025-05-25T08:29:26.723682Z",
     "shell.execute_reply": "2025-05-25T08:29:26.722669Z"
    },
    "papermill": {
     "duration": 9.084861,
     "end_time": "2025-05-25T08:29:26.725477",
     "exception": false,
     "start_time": "2025-05-25T08:29:17.640616",
     "status": "completed"
    },
    "tags": []
   },
   "outputs": [],
   "source": [
    "from sklearn.model_selection import KFold\n",
    "from sklearn.linear_model import Ridge\n",
    "from lightgbm import LGBMRegressor\n",
    "from scipy.stats import pearsonr\n",
    "from xgboost import XGBRegressor\n",
    "from sklearn.base import clone\n",
    "import matplotlib.pyplot as plt\n",
    "import seaborn as sns\n",
    "import pandas as pd\n",
    "import numpy as np\n",
    "import warnings\n",
    "import optuna\n",
    "import gc\n",
    "\n",
    "warnings.filterwarnings(\"ignore\")"
   ]
  },
  {
   "cell_type": "code",
   "execution_count": 3,
   "id": "e46ddb74",
   "metadata": {
    "execution": {
     "iopub.execute_input": "2025-05-25T08:29:26.738288Z",
     "iopub.status.busy": "2025-05-25T08:29:26.737158Z",
     "iopub.status.idle": "2025-05-25T08:29:26.743442Z",
     "shell.execute_reply": "2025-05-25T08:29:26.742429Z"
    },
    "papermill": {
     "duration": 0.014308,
     "end_time": "2025-05-25T08:29:26.745045",
     "exception": false,
     "start_time": "2025-05-25T08:29:26.730737",
     "status": "completed"
    },
    "tags": []
   },
   "outputs": [],
   "source": [
    "class CFG:\n",
    "    train_path = \"/kaggle/input/drw-crypto-market-prediction/train.parquet\"\n",
    "    test_path = \"/kaggle/input/drw-crypto-market-prediction/test.parquet\"\n",
    "    sample_sub_path = \"/kaggle/input/drw-crypto-market-prediction/sample_submission.csv\"\n",
    "\n",
    "    target = \"label\"\n",
    "    n_folds = 5\n",
    "    seed = 42\n",
    "\n",
    "    run_optuna = True\n",
    "    n_optuna_trials = 250"
   ]
  },
  {
   "cell_type": "markdown",
   "id": "1995acd9",
   "metadata": {
    "papermill": {
     "duration": 0.004999,
     "end_time": "2025-05-25T08:29:26.755450",
     "exception": false,
     "start_time": "2025-05-25T08:29:26.750451",
     "status": "completed"
    },
    "tags": []
   },
   "source": [
    "# Data loading and preprocessing"
   ]
  },
  {
   "cell_type": "code",
   "execution_count": 4,
   "id": "919e8dd8",
   "metadata": {
    "_kg_hide-input": true,
    "execution": {
     "iopub.execute_input": "2025-05-25T08:29:26.766898Z",
     "iopub.status.busy": "2025-05-25T08:29:26.766552Z",
     "iopub.status.idle": "2025-05-25T08:29:26.777366Z",
     "shell.execute_reply": "2025-05-25T08:29:26.776310Z"
    },
    "papermill": {
     "duration": 0.018605,
     "end_time": "2025-05-25T08:29:26.779050",
     "exception": false,
     "start_time": "2025-05-25T08:29:26.760445",
     "status": "completed"
    },
    "tags": []
   },
   "outputs": [],
   "source": [
    "def reduce_mem_usage(dataframe, dataset):    \n",
    "    print('Reducing memory usage for:', dataset)\n",
    "    initial_mem_usage = dataframe.memory_usage().sum() / 1024**2\n",
    "    \n",
    "    for col in dataframe.columns:\n",
    "        col_type = dataframe[col].dtype\n",
    "\n",
    "        c_min = dataframe[col].min()\n",
    "        c_max = dataframe[col].max()\n",
    "        if str(col_type)[:3] == 'int':\n",
    "            if c_min > np.iinfo(np.int8).min and c_max < np.iinfo(np.int8).max:\n",
    "                dataframe[col] = dataframe[col].astype(np.int8)\n",
    "            elif c_min > np.iinfo(np.int16).min and c_max < np.iinfo(np.int16).max:\n",
    "                dataframe[col] = dataframe[col].astype(np.int16)\n",
    "            elif c_min > np.iinfo(np.int32).min and c_max < np.iinfo(np.int32).max:\n",
    "                dataframe[col] = dataframe[col].astype(np.int32)\n",
    "            elif c_min > np.iinfo(np.int64).min and c_max < np.iinfo(np.int64).max:\n",
    "                dataframe[col] = dataframe[col].astype(np.int64)\n",
    "        else:\n",
    "            if c_min > np.finfo(np.float16).min and c_max < np.finfo(np.float16).max:\n",
    "                dataframe[col] = dataframe[col].astype(np.float16)\n",
    "            elif c_min > np.finfo(np.float32).min and c_max < np.finfo(np.float32).max:\n",
    "                dataframe[col] = dataframe[col].astype(np.float32)\n",
    "            else:\n",
    "                dataframe[col] = dataframe[col].astype(np.float64)\n",
    "\n",
    "    final_mem_usage = dataframe.memory_usage().sum() / 1024**2\n",
    "    print('--- Memory usage before: {:.2f} MB'.format(initial_mem_usage))\n",
    "    print('--- Memory usage after: {:.2f} MB'.format(final_mem_usage))\n",
    "    print('--- Decreased memory usage by {:.1f}%\\n'.format(100 * (initial_mem_usage - final_mem_usage) / initial_mem_usage))\n",
    "\n",
    "    return dataframe"
   ]
  },
  {
   "cell_type": "code",
   "execution_count": 5,
   "id": "9e3b50f3",
   "metadata": {
    "execution": {
     "iopub.execute_input": "2025-05-25T08:29:26.791146Z",
     "iopub.status.busy": "2025-05-25T08:29:26.790738Z",
     "iopub.status.idle": "2025-05-25T08:29:26.801429Z",
     "shell.execute_reply": "2025-05-25T08:29:26.800542Z"
    },
    "papermill": {
     "duration": 0.018222,
     "end_time": "2025-05-25T08:29:26.802861",
     "exception": false,
     "start_time": "2025-05-25T08:29:26.784639",
     "status": "completed"
    },
    "tags": []
   },
   "outputs": [],
   "source": [
    "cols_to_drop = [\n",
    "    'X100', 'X101', 'X102', 'X104', 'X110', 'X114', 'X116', 'X122', 'X128', 'X134',\n",
    "    'X140', 'X143', 'X146', 'X152', 'X158', 'X164', 'X170', 'X176', 'X182', 'X237',\n",
    "    'X240', 'X242', 'X244', 'X246', 'X266', 'X306', 'X308', 'X309', 'X327', 'X348',\n",
    "    'X351', 'X357', 'X363', 'X369', 'X375', 'X381', 'X387', 'X392', 'X393', 'X394',\n",
    "    'X399', 'X405', 'X411', 'X417', 'X423', 'X429', 'X481', 'X484', 'X486', 'X492',\n",
    "    'X501', 'X508', 'X515', 'X519', 'X521', 'X522', 'X528', 'X529', 'X533', 'X534', \n",
    "    'X535', 'X536', 'X541', 'X542', 'X543', 'X544', 'X550', 'X563', 'X569', 'X570', \n",
    "    'X571', 'X576', 'X577', 'X578', 'X582', 'X585', 'X590', 'X591', 'X593', 'X597', \n",
    "    'X61', 'X615', 'X616', 'X618', 'X62', 'X621', 'X622', 'X624', 'X625', 'X627', \n",
    "    'X628', 'X630', 'X633', 'X642', 'X648', 'X670', 'X68', 'X697', 'X698', 'X699',\n",
    "    'X700', 'X701', 'X702', 'X703', 'X704', 'X705', 'X706', 'X707', 'X708', 'X709',\n",
    "    'X710', 'X711', 'X712', 'X713', 'X714', 'X715', 'X716', 'X717', 'X739', 'X74',\n",
    "    'X740', 'X749', 'X767', 'X775', 'X80', 'X807', 'X811', 'X815', 'X848', 'X850',\n",
    "    'X864', 'X867', 'X869', 'X870', 'X871', 'X872'\n",
    "]"
   ]
  },
  {
   "cell_type": "code",
   "execution_count": 6,
   "id": "9f8ab0e1",
   "metadata": {
    "execution": {
     "iopub.execute_input": "2025-05-25T08:29:26.815724Z",
     "iopub.status.busy": "2025-05-25T08:29:26.814475Z",
     "iopub.status.idle": "2025-05-25T08:30:28.991779Z",
     "shell.execute_reply": "2025-05-25T08:30:28.990896Z"
    },
    "papermill": {
     "duration": 62.185223,
     "end_time": "2025-05-25T08:30:28.993613",
     "exception": false,
     "start_time": "2025-05-25T08:29:26.808390",
     "status": "completed"
    },
    "tags": []
   },
   "outputs": [
    {
     "name": "stdout",
     "output_type": "stream",
     "text": [
      "Reducing memory usage for: train\n",
      "--- Memory usage before: 3049.27 MB\n",
      "--- Memory usage after: 762.32 MB\n",
      "--- Decreased memory usage by 75.0%\n",
      "\n",
      "Reducing memory usage for: test\n",
      "--- Memory usage before: 3116.27 MB\n",
      "--- Memory usage after: 779.07 MB\n",
      "--- Decreased memory usage by 75.0%\n",
      "\n"
     ]
    }
   ],
   "source": [
    "train = pd.read_parquet(CFG.train_path).reset_index(drop=True)\n",
    "test = pd.read_parquet(CFG.test_path).reset_index(drop=True)\n",
    "\n",
    "train = train.drop(columns=cols_to_drop)\n",
    "test = test.drop(columns=[\"label\"] + cols_to_drop)\n",
    "\n",
    "train = reduce_mem_usage(train, \"train\")\n",
    "test = reduce_mem_usage(test, \"test\")\n",
    "\n",
    "X = train.drop(CFG.target, axis=1)\n",
    "y = train[CFG.target]\n",
    "X_test = test"
   ]
  },
  {
   "cell_type": "markdown",
   "id": "c7bd89ce",
   "metadata": {
    "papermill": {
     "duration": 0.005007,
     "end_time": "2025-05-25T08:30:29.004276",
     "exception": false,
     "start_time": "2025-05-25T08:30:28.999269",
     "status": "completed"
    },
    "tags": []
   },
   "source": [
    "# Training base models"
   ]
  },
  {
   "cell_type": "code",
   "execution_count": 7,
   "id": "0e557d65",
   "metadata": {
    "_kg_hide-input": true,
    "execution": {
     "iopub.execute_input": "2025-05-25T08:30:29.016650Z",
     "iopub.status.busy": "2025-05-25T08:30:29.015716Z",
     "iopub.status.idle": "2025-05-25T08:30:29.027592Z",
     "shell.execute_reply": "2025-05-25T08:30:29.026667Z"
    },
    "papermill": {
     "duration": 0.019627,
     "end_time": "2025-05-25T08:30:29.029130",
     "exception": false,
     "start_time": "2025-05-25T08:30:29.009503",
     "status": "completed"
    },
    "tags": []
   },
   "outputs": [],
   "source": [
    "class Trainer:\n",
    "    def __init__(self, model):\n",
    "        self.model = model\n",
    "\n",
    "    def fit_predict(self, X, y, X_test):\n",
    "        print(f\"Training {self.model.__class__.__name__}\\n\")\n",
    "\n",
    "        fold_scores = []\n",
    "        oof_preds = np.zeros(X.shape[0])\n",
    "        test_preds = np.zeros(X_test.shape[0])\n",
    "\n",
    "        split = KFold(n_splits=CFG.n_folds, shuffle=False).split(X, y)\n",
    "        for fold_idx, (train_idx, val_idx) in enumerate(split):\n",
    "\n",
    "            X_train, X_val = X.iloc[train_idx], X.iloc[val_idx]\n",
    "            y_train, y_val = y[train_idx], y[val_idx]\n",
    "\n",
    "            model = clone(self.model)\n",
    "            model.fit(X_train, y_train)\n",
    "\n",
    "            y_preds = model.predict(X_val)\n",
    "            oof_preds[val_idx] = y_preds\n",
    "            \n",
    "            temp_test_preds = model.predict(X_test)\n",
    "            test_preds += temp_test_preds / CFG.n_folds\n",
    "\n",
    "            fold_score = pearsonr(y_val, y_preds)[0]\n",
    "            fold_scores.append(fold_score)\n",
    "\n",
    "            print(f\"--- Fold {fold_idx} - Score: {fold_score:.6f}\")\n",
    "\n",
    "            del X_train, y_train, X_val, y_val, y_preds, model, temp_test_preds\n",
    "            gc.collect()\n",
    "\n",
    "        overall_score = pearsonr(y, oof_preds)[0]\n",
    "        mean_score = np.mean(fold_scores)\n",
    "        std_score = np.std(fold_scores)\n",
    "        \n",
    "        print(f\"\\n------ Overall Score: {overall_score:.6f} - Mean Score: {mean_score:.6f} ± {std_score:.6f}\")\n",
    "        \n",
    "        return oof_preds, test_preds, fold_scores\n",
    "    \n",
    "    def tune(self, X, y):\n",
    "        fold_scores = []\n",
    "        \n",
    "        split = KFold(n_splits=CFG.n_folds, shuffle=False).split(X, y)\n",
    "        for train_idx, val_idx in split:\n",
    "            X_train, X_val = X.iloc[train_idx], X.iloc[val_idx]\n",
    "            y_train, y_val = y[train_idx], y[val_idx]\n",
    "\n",
    "            model = clone(self.model)\n",
    "            model.fit(X_train, y_train)\n",
    "\n",
    "            y_preds = model.predict(X_val)\n",
    "            fold_score = pearsonr(y_val, y_preds)[0]\n",
    "            fold_scores.append(fold_score)\n",
    "\n",
    "            del X_train, y_train, X_val, y_val, y_preds, model\n",
    "            gc.collect()\n",
    "\n",
    "        return np.mean(fold_scores)"
   ]
  },
  {
   "cell_type": "code",
   "execution_count": 8,
   "id": "5d080818",
   "metadata": {
    "_kg_hide-input": true,
    "_kg_hide-output": true,
    "execution": {
     "iopub.execute_input": "2025-05-25T08:30:29.041952Z",
     "iopub.status.busy": "2025-05-25T08:30:29.041095Z",
     "iopub.status.idle": "2025-05-25T08:30:29.048177Z",
     "shell.execute_reply": "2025-05-25T08:30:29.047430Z"
    },
    "papermill": {
     "duration": 0.015232,
     "end_time": "2025-05-25T08:30:29.049960",
     "exception": false,
     "start_time": "2025-05-25T08:30:29.034728",
     "status": "completed"
    },
    "tags": []
   },
   "outputs": [],
   "source": [
    "lgbm_params = {\n",
    "    \"boosting_type\": \"gbdt\",\n",
    "    \"colsample_bytree\": 0.5242042724303907,\n",
    "    \"learning_rate\": 0.014470794293130388,\n",
    "    \"min_child_samples\": 47,\n",
    "    \"min_child_weight\": 0.1936457311991661,\n",
    "    \"n_estimators\": 441,\n",
    "    \"n_jobs\": -1,\n",
    "    \"num_leaves\": 65,\n",
    "    \"random_state\": 42,\n",
    "    \"reg_alpha\": 76.69015407123774,\n",
    "    \"reg_lambda\": 78.57981723239948,\n",
    "    \"subsample\": 0.35497610282716086,\n",
    "    \"verbose\": -1\n",
    "}\n",
    "\n",
    "lgbm_goss_params = {\n",
    "    \"boosting_type\": \"goss\",\n",
    "    \"colsample_bytree\": 0.32266516869045214,\n",
    "    \"learning_rate\": 0.013684657681610528,\n",
    "    \"min_child_samples\": 47,\n",
    "    \"min_child_weight\": 0.652800548618323,\n",
    "    \"n_estimators\": 268,\n",
    "    \"n_jobs\": -1,\n",
    "    \"num_leaves\": 25,\n",
    "    \"random_state\": 42,\n",
    "    \"reg_alpha\": 24.43093150663448,\n",
    "    \"reg_lambda\": 39.81794248056326,\n",
    "    \"subsample\": 0.21026644887863555,\n",
    "    \"verbose\": -1\n",
    "}\n",
    "\n",
    "xgb_params = {\n",
    "    \"colsample_bylevel\": 0.4634967322919854,\n",
    "    \"colsample_bynode\": 0.6046331585629835,\n",
    "    \"colsample_bytree\": 0.11495541333509408,\n",
    "    \"gamma\": 1.0397769239502863,\n",
    "    \"learning_rate\": 0.09622196913585954,\n",
    "    \"max_depth\": 40,\n",
    "    \"max_leaves\": 19,\n",
    "    \"min_child_weight\": 76,\n",
    "    \"n_estimators\": 679,\n",
    "    \"n_jobs\": -1,\n",
    "    \"random_state\": 42,\n",
    "    \"reg_alpha\": 65.41659225037377,\n",
    "    \"reg_lambda\": 19.907991015311545,\n",
    "    \"subsample\": 0.014465324175810368,\n",
    "    \"verbosity\": 0\n",
    "}"
   ]
  },
  {
   "cell_type": "code",
   "execution_count": 9,
   "id": "0d3b984c",
   "metadata": {
    "execution": {
     "iopub.execute_input": "2025-05-25T08:30:29.062484Z",
     "iopub.status.busy": "2025-05-25T08:30:29.062164Z",
     "iopub.status.idle": "2025-05-25T08:30:29.066456Z",
     "shell.execute_reply": "2025-05-25T08:30:29.065650Z"
    },
    "papermill": {
     "duration": 0.011767,
     "end_time": "2025-05-25T08:30:29.067842",
     "exception": false,
     "start_time": "2025-05-25T08:30:29.056075",
     "status": "completed"
    },
    "tags": []
   },
   "outputs": [],
   "source": [
    "scores = {}\n",
    "oof_preds = {}\n",
    "test_preds = {}"
   ]
  },
  {
   "cell_type": "markdown",
   "id": "6f2f4606",
   "metadata": {
    "papermill": {
     "duration": 0.005115,
     "end_time": "2025-05-25T08:30:29.078481",
     "exception": false,
     "start_time": "2025-05-25T08:30:29.073366",
     "status": "completed"
    },
    "tags": []
   },
   "source": [
    "## LightGBM (gbdt)"
   ]
  },
  {
   "cell_type": "code",
   "execution_count": 10,
   "id": "dfc71662",
   "metadata": {
    "execution": {
     "iopub.execute_input": "2025-05-25T08:30:29.091140Z",
     "iopub.status.busy": "2025-05-25T08:30:29.090232Z",
     "iopub.status.idle": "2025-05-25T08:54:46.378788Z",
     "shell.execute_reply": "2025-05-25T08:54:46.377551Z"
    },
    "papermill": {
     "duration": 1457.297565,
     "end_time": "2025-05-25T08:54:46.381511",
     "exception": false,
     "start_time": "2025-05-25T08:30:29.083946",
     "status": "completed"
    },
    "tags": []
   },
   "outputs": [
    {
     "name": "stdout",
     "output_type": "stream",
     "text": [
      "Training LGBMRegressor\n",
      "\n",
      "--- Fold 0 - Score: 0.172488\n",
      "--- Fold 1 - Score: 0.109681\n",
      "--- Fold 2 - Score: 0.050589\n",
      "--- Fold 3 - Score: 0.130357\n",
      "--- Fold 4 - Score: 0.058332\n",
      "\n",
      "------ Overall Score: 0.093186 - Mean Score: 0.104289 ± 0.045509\n"
     ]
    }
   ],
   "source": [
    "lgbm_trainer = Trainer(\n",
    "    LGBMRegressor(**lgbm_params)\n",
    ")\n",
    "\n",
    "oof_preds[\"LightGBM (gbdt)\"], test_preds[\"LightGBM (gbdt)\"], scores[\"LightGBM (gbdt)\"] = lgbm_trainer.fit_predict(X, y, X_test)"
   ]
  },
  {
   "cell_type": "markdown",
   "id": "cec82212",
   "metadata": {
    "papermill": {
     "duration": 0.005871,
     "end_time": "2025-05-25T08:54:46.394203",
     "exception": false,
     "start_time": "2025-05-25T08:54:46.388332",
     "status": "completed"
    },
    "tags": []
   },
   "source": [
    "## LightGBM (goss)"
   ]
  },
  {
   "cell_type": "code",
   "execution_count": 11,
   "id": "fd4911cc",
   "metadata": {
    "execution": {
     "iopub.execute_input": "2025-05-25T08:54:46.407767Z",
     "iopub.status.busy": "2025-05-25T08:54:46.407433Z",
     "iopub.status.idle": "2025-05-25T09:03:25.100023Z",
     "shell.execute_reply": "2025-05-25T09:03:25.098940Z"
    },
    "papermill": {
     "duration": 518.701996,
     "end_time": "2025-05-25T09:03:25.102077",
     "exception": false,
     "start_time": "2025-05-25T08:54:46.400081",
     "status": "completed"
    },
    "tags": []
   },
   "outputs": [
    {
     "name": "stdout",
     "output_type": "stream",
     "text": [
      "Training LGBMRegressor\n",
      "\n",
      "--- Fold 0 - Score: 0.146376\n",
      "--- Fold 1 - Score: 0.119751\n",
      "--- Fold 2 - Score: 0.031450\n",
      "--- Fold 3 - Score: 0.168844\n",
      "--- Fold 4 - Score: 0.092273\n",
      "\n",
      "------ Overall Score: 0.099619 - Mean Score: 0.111739 ± 0.047645\n"
     ]
    }
   ],
   "source": [
    "lgbm_goss_trainer = Trainer(LGBMRegressor(**lgbm_goss_params))\n",
    "\n",
    "oof_preds[\"LightGBM (goss)\"], test_preds[\"LightGBM (goss)\"], scores[\"LightGBM (goss)\"] = lgbm_goss_trainer.fit_predict(X, y, X_test)"
   ]
  },
  {
   "cell_type": "markdown",
   "id": "e8afd610",
   "metadata": {
    "papermill": {
     "duration": 0.006119,
     "end_time": "2025-05-25T09:03:25.114997",
     "exception": false,
     "start_time": "2025-05-25T09:03:25.108878",
     "status": "completed"
    },
    "tags": []
   },
   "source": [
    "## XGBoost"
   ]
  },
  {
   "cell_type": "code",
   "execution_count": 12,
   "id": "1cf06272",
   "metadata": {
    "execution": {
     "iopub.execute_input": "2025-05-25T09:03:25.129489Z",
     "iopub.status.busy": "2025-05-25T09:03:25.129155Z",
     "iopub.status.idle": "2025-05-25T09:47:12.143127Z",
     "shell.execute_reply": "2025-05-25T09:47:12.142145Z"
    },
    "papermill": {
     "duration": 2627.031557,
     "end_time": "2025-05-25T09:47:12.152595",
     "exception": false,
     "start_time": "2025-05-25T09:03:25.121038",
     "status": "completed"
    },
    "tags": []
   },
   "outputs": [
    {
     "name": "stdout",
     "output_type": "stream",
     "text": [
      "Training XGBRegressor\n",
      "\n",
      "--- Fold 0 - Score: 0.160088\n",
      "--- Fold 1 - Score: 0.099577\n",
      "--- Fold 2 - Score: 0.062908\n",
      "--- Fold 3 - Score: 0.114334\n",
      "--- Fold 4 - Score: 0.067314\n",
      "\n",
      "------ Overall Score: 0.101674 - Mean Score: 0.100844 ± 0.035375\n"
     ]
    }
   ],
   "source": [
    "xgb_trainer = Trainer(XGBRegressor(**xgb_params))\n",
    "\n",
    "oof_preds[\"XGBoost\"], test_preds[\"XGBoost\"], scores[\"XGBoost\"] = xgb_trainer.fit_predict(X, y, X_test)"
   ]
  },
  {
   "cell_type": "markdown",
   "id": "9eebcdf8",
   "metadata": {
    "papermill": {
     "duration": 0.00655,
     "end_time": "2025-05-25T09:47:12.166039",
     "exception": false,
     "start_time": "2025-05-25T09:47:12.159489",
     "status": "completed"
    },
    "tags": []
   },
   "source": [
    "# Ensembling with Ridge"
   ]
  },
  {
   "cell_type": "code",
   "execution_count": 13,
   "id": "f9738600",
   "metadata": {
    "execution": {
     "iopub.execute_input": "2025-05-25T09:47:12.181059Z",
     "iopub.status.busy": "2025-05-25T09:47:12.180698Z",
     "iopub.status.idle": "2025-05-25T09:47:12.200923Z",
     "shell.execute_reply": "2025-05-25T09:47:12.200020Z"
    },
    "papermill": {
     "duration": 0.030096,
     "end_time": "2025-05-25T09:47:12.202750",
     "exception": false,
     "start_time": "2025-05-25T09:47:12.172654",
     "status": "completed"
    },
    "tags": []
   },
   "outputs": [],
   "source": [
    "X = pd.DataFrame(oof_preds)\n",
    "X_test = pd.DataFrame(test_preds)"
   ]
  },
  {
   "cell_type": "code",
   "execution_count": 14,
   "id": "e477b95c",
   "metadata": {
    "_kg_hide-output": true,
    "execution": {
     "iopub.execute_input": "2025-05-25T09:47:12.218229Z",
     "iopub.status.busy": "2025-05-25T09:47:12.217876Z",
     "iopub.status.idle": "2025-05-25T09:51:01.692489Z",
     "shell.execute_reply": "2025-05-25T09:51:01.691564Z"
    },
    "papermill": {
     "duration": 229.484721,
     "end_time": "2025-05-25T09:51:01.694484",
     "exception": false,
     "start_time": "2025-05-25T09:47:12.209763",
     "status": "completed"
    },
    "scrolled": true,
    "tags": []
   },
   "outputs": [
    {
     "name": "stderr",
     "output_type": "stream",
     "text": [
      "[I 2025-05-25 09:47:12,224] A new study created in memory with name: no-name-6f6e08af-6cdd-406f-959d-63ab0d078bb8\n",
      "[I 2025-05-25 09:47:15,398] Trial 0 finished with value: 0.11656197547150256 and parameters: {'alpha': 23.71369563967962, 'tol': 0.006121056445453266, 'fit_intercept': True, 'positive': False}. Best is trial 0 with value: 0.11656197547150256.\n",
      "[I 2025-05-25 09:47:15,685] Trial 2 finished with value: 0.11942823198808272 and parameters: {'alpha': 932.9933800044328, 'tol': 0.005386692160450691, 'fit_intercept': False, 'positive': True}. Best is trial 2 with value: 0.11942823198808272.\n",
      "[I 2025-05-25 09:47:15,826] Trial 3 finished with value: 0.11942437271660156 and parameters: {'alpha': 185.86331866797212, 'tol': 0.004061120448567382, 'fit_intercept': False, 'positive': True}. Best is trial 2 with value: 0.11942823198808272.\n",
      "[I 2025-05-25 09:47:15,962] Trial 1 finished with value: 0.11938843346996326 and parameters: {'alpha': 793.1684546621376, 'tol': 0.0017170007154403172, 'fit_intercept': True, 'positive': True}. Best is trial 2 with value: 0.11942823198808272.\n",
      "[I 2025-05-25 09:47:18,819] Trial 4 finished with value: 0.11942689751386833 and parameters: {'alpha': 672.2821700628442, 'tol': 0.0019179883603905852, 'fit_intercept': False, 'positive': True}. Best is trial 2 with value: 0.11942823198808272.\n",
      "[I 2025-05-25 09:47:19,178] Trial 6 finished with value: 0.11632008060756045 and parameters: {'alpha': 214.32163768601075, 'tol': 0.009833633478493671, 'fit_intercept': False, 'positive': False}. Best is trial 2 with value: 0.11942823198808272.\n",
      "[I 2025-05-25 09:47:19,352] Trial 5 finished with value: 0.11667083577970913 and parameters: {'alpha': 91.47249428014126, 'tol': 0.004265575245599828, 'fit_intercept': True, 'positive': False}. Best is trial 2 with value: 0.11942823198808272.\n",
      "[I 2025-05-25 09:47:19,840] Trial 7 finished with value: 0.11938919547002544 and parameters: {'alpha': 947.796024412184, 'tol': 0.0077890383612395815, 'fit_intercept': True, 'positive': True}. Best is trial 2 with value: 0.11942823198808272.\n",
      "[I 2025-05-25 09:47:21,895] Trial 8 finished with value: 0.11679988130893112 and parameters: {'alpha': 546.3486813587571, 'tol': 0.006654766337976609, 'fit_intercept': False, 'positive': False}. Best is trial 2 with value: 0.11942823198808272.\n",
      "[I 2025-05-25 09:47:22,190] Trial 9 finished with value: 0.11691840118114445 and parameters: {'alpha': 645.4114924723932, 'tol': 0.009506023904194428, 'fit_intercept': False, 'positive': False}. Best is trial 2 with value: 0.11942823198808272.\n",
      "[I 2025-05-25 09:47:23,196] Trial 10 finished with value: 0.11938867650346366 and parameters: {'alpha': 842.3899930806755, 'tol': 0.0058085015733384555, 'fit_intercept': True, 'positive': True}. Best is trial 2 with value: 0.11942823198808272.\n",
      "[I 2025-05-25 09:47:23,541] Trial 11 finished with value: 0.11950175249434156 and parameters: {'alpha': 929.0851089244233, 'tol': 0.008735586494268886, 'fit_intercept': True, 'positive': True}. Best is trial 11 with value: 0.11950175249434156.\n",
      "[I 2025-05-25 09:47:26,026] Trial 13 finished with value: 0.11942846971161689 and parameters: {'alpha': 979.7030750167143, 'tol': 0.005221330324670424, 'fit_intercept': False, 'positive': True}. Best is trial 11 with value: 0.11950175249434156.\n",
      "[I 2025-05-25 09:47:26,211] Trial 12 finished with value: 0.11938452245347882 and parameters: {'alpha': 13.16632521007477, 'tol': 0.0072250715021936725, 'fit_intercept': True, 'positive': True}. Best is trial 11 with value: 0.11950175249434156.\n",
      "[I 2025-05-25 09:47:27,222] Trial 14 finished with value: 0.11942680200488295 and parameters: {'alpha': 653.7197193706203, 'tol': 0.0028510142108413824, 'fit_intercept': False, 'positive': True}. Best is trial 11 with value: 0.11950175249434156.\n",
      "[I 2025-05-25 09:47:27,472] Trial 15 finished with value: 0.11942822718785431 and parameters: {'alpha': 932.0510297585886, 'tol': 0.006234676551211298, 'fit_intercept': False, 'positive': True}. Best is trial 11 with value: 0.11950175249434156.\n",
      "[I 2025-05-25 09:47:30,106] Trial 17 finished with value: 0.11950056395816788 and parameters: {'alpha': 481.8393542754189, 'tol': 0.008812701711195846, 'fit_intercept': True, 'positive': True}. Best is trial 11 with value: 0.11950175249434156.\n",
      "[I 2025-05-25 09:47:30,257] Trial 16 finished with value: 0.1195012181511117 and parameters: {'alpha': 727.1337210010606, 'tol': 0.009240978564127368, 'fit_intercept': True, 'positive': True}. Best is trial 11 with value: 0.11950175249434156.\n",
      "[I 2025-05-25 09:47:30,687] Trial 18 finished with value: 0.11942844327130071 and parameters: {'alpha': 974.503876631959, 'tol': 0.008781325055478349, 'fit_intercept': False, 'positive': True}. Best is trial 11 with value: 0.11950175249434156.\n",
      "[I 2025-05-25 09:47:31,231] Trial 19 finished with value: 0.11755323175882486 and parameters: {'alpha': 901.3790995371482, 'tol': 0.0096161560195406, 'fit_intercept': True, 'positive': False}. Best is trial 11 with value: 0.11950175249434156.\n",
      "[I 2025-05-25 09:47:33,477] Trial 21 finished with value: 0.11748225514856206 and parameters: {'alpha': 810.3795329079279, 'tol': 0.009755921979988766, 'fit_intercept': True, 'positive': False}. Best is trial 11 with value: 0.11950175249434156.\n",
      "[I 2025-05-25 09:47:34,005] Trial 20 finished with value: 0.11938733269019616 and parameters: {'alpha': 571.3410372538216, 'tol': 0.00783845728339718, 'fit_intercept': True, 'positive': True}. Best is trial 11 with value: 0.11950175249434156.\n",
      "[I 2025-05-25 09:47:34,181] Trial 22 finished with value: 0.11746632599090934 and parameters: {'alpha': 790.8522336613071, 'tol': 0.008568751984858392, 'fit_intercept': True, 'positive': False}. Best is trial 11 with value: 0.11950175249434156.\n",
      "[I 2025-05-25 09:47:34,534] Trial 23 finished with value: 0.11950112942167372 and parameters: {'alpha': 693.7384822339416, 'tol': 0.009122843388568086, 'fit_intercept': True, 'positive': True}. Best is trial 11 with value: 0.11950175249434156.\n",
      "[I 2025-05-25 09:47:37,351] Trial 24 finished with value: 0.11950030401229475 and parameters: {'alpha': 384.9616844182646, 'tol': 0.009976021674454248, 'fit_intercept': True, 'positive': True}. Best is trial 11 with value: 0.11950175249434156.\n",
      "[I 2025-05-25 09:47:37,776] Trial 25 finished with value: 0.11950037489320772 and parameters: {'alpha': 411.34474004320464, 'tol': 0.00955803653383106, 'fit_intercept': True, 'positive': True}. Best is trial 11 with value: 0.11950175249434156.\n",
      "[I 2025-05-25 09:47:37,904] Trial 26 finished with value: 0.11950045862272725 and parameters: {'alpha': 442.54223794122515, 'tol': 0.009710390707711024, 'fit_intercept': True, 'positive': True}. Best is trial 11 with value: 0.11950175249434156.\n",
      "[I 2025-05-25 09:47:38,339] Trial 27 finished with value: 0.11950124467491949 and parameters: {'alpha': 737.1242114758122, 'tol': 0.008973982627154327, 'fit_intercept': True, 'positive': True}. Best is trial 11 with value: 0.11950175249434156.\n",
      "[I 2025-05-25 09:47:40,673] Trial 28 finished with value: 0.11950168891731276 and parameters: {'alpha': 904.9808093753536, 'tol': 0.009259373396859219, 'fit_intercept': True, 'positive': True}. Best is trial 11 with value: 0.11950175249434156.\n",
      "[I 2025-05-25 09:47:41,503] Trial 31 finished with value: 0.11658831040402254 and parameters: {'alpha': 39.68506495653048, 'tol': 9.045397563098127e-05, 'fit_intercept': True, 'positive': False}. Best is trial 11 with value: 0.11950175249434156.\n",
      "[I 2025-05-25 09:47:41,641] Trial 29 finished with value: 0.11950146140906052 and parameters: {'alpha': 818.8923815769973, 'tol': 0.009863777922944903, 'fit_intercept': True, 'positive': True}. Best is trial 11 with value: 0.11950175249434156.\n",
      "[I 2025-05-25 09:47:41,818] Trial 30 finished with value: 0.1195011903087743 and parameters: {'alpha': 716.6503974812742, 'tol': 0.00957189605055855, 'fit_intercept': True, 'positive': True}. Best is trial 11 with value: 0.11950175249434156.\n",
      "[I 2025-05-25 09:47:44,341] Trial 32 finished with value: 0.11760184587492925 and parameters: {'alpha': 967.7789086115913, 'tol': 0.005208508862866009, 'fit_intercept': True, 'positive': False}. Best is trial 11 with value: 0.11950175249434156.\n",
      "[I 2025-05-25 09:47:44,939] Trial 33 finished with value: 0.11726687256217802 and parameters: {'alpha': 570.1332208252467, 'tol': 0.005313422555801799, 'fit_intercept': True, 'positive': False}. Best is trial 11 with value: 0.11950175249434156.\n",
      "[I 2025-05-25 09:47:45,342] Trial 34 finished with value: 0.11950193666861056 and parameters: {'alpha': 999.0282282441271, 'tol': 0.00990797384377624, 'fit_intercept': True, 'positive': True}. Best is trial 34 with value: 0.11950193666861056.\n",
      "[I 2025-05-25 09:47:45,572] Trial 35 finished with value: 0.11950171550553672 and parameters: {'alpha': 915.0588458586276, 'tol': 0.009751340387133326, 'fit_intercept': True, 'positive': True}. Best is trial 34 with value: 0.11950193666861056.\n",
      "[I 2025-05-25 09:47:48,180] Trial 36 finished with value: 0.1195017381107026 and parameters: {'alpha': 923.6299643286144, 'tol': 0.00999509618588776, 'fit_intercept': True, 'positive': True}. Best is trial 34 with value: 0.11950193666861056.\n",
      "[I 2025-05-25 09:47:48,557] Trial 37 finished with value: 0.11950175598085562 and parameters: {'alpha': 930.4075640521975, 'tol': 0.009770713045408457, 'fit_intercept': True, 'positive': True}. Best is trial 34 with value: 0.11950193666861056.\n",
      "[I 2025-05-25 09:47:49,104] Trial 38 finished with value: 0.11938907318052035 and parameters: {'alpha': 922.9212319873409, 'tol': 0.008253512156948738, 'fit_intercept': True, 'positive': True}. Best is trial 34 with value: 0.11950193666861056.\n",
      "[I 2025-05-25 09:47:49,305] Trial 39 finished with value: 0.11950180067791742 and parameters: {'alpha': 947.3668996173224, 'tol': 0.009097239049607036, 'fit_intercept': True, 'positive': True}. Best is trial 34 with value: 0.11950193666861056.\n",
      "[I 2025-05-25 09:47:52,013] Trial 40 finished with value: 0.11950188528685049 and parameters: {'alpha': 979.4977931156888, 'tol': 0.009303869413495501, 'fit_intercept': True, 'positive': True}. Best is trial 34 with value: 0.11950193666861056.\n",
      "[I 2025-05-25 09:47:52,424] Trial 41 finished with value: 0.1195018631936042 and parameters: {'alpha': 971.1041929946995, 'tol': 0.008818803871038493, 'fit_intercept': True, 'positive': True}. Best is trial 34 with value: 0.11950193666861056.\n",
      "[I 2025-05-25 09:47:53,017] Trial 42 finished with value: 0.11950193369584838 and parameters: {'alpha': 997.8979008592032, 'tol': 0.00872570167667736, 'fit_intercept': True, 'positive': True}. Best is trial 34 with value: 0.11950193666861056.\n",
      "[I 2025-05-25 09:47:53,363] Trial 43 finished with value: 0.11938945058609111 and parameters: {'alpha': 999.7623436510218, 'tol': 0.008020751790679927, 'fit_intercept': True, 'positive': True}. Best is trial 34 with value: 0.11950193666861056.\n",
      "[I 2025-05-25 09:47:55,927] Trial 45 finished with value: 0.11942414062180448 and parameters: {'alpha': 141.59103656146408, 'tol': 0.0005396576324574109, 'fit_intercept': False, 'positive': True}. Best is trial 34 with value: 0.11950193666861056.\n",
      "[I 2025-05-25 09:47:56,091] Trial 44 finished with value: 0.1193894095328247 and parameters: {'alpha': 991.3932173002622, 'tol': 0.008081192020409265, 'fit_intercept': True, 'positive': True}. Best is trial 34 with value: 0.11950193666861056.\n",
      "[I 2025-05-25 09:47:56,517] Trial 47 finished with value: 0.11657763463782381 and parameters: {'alpha': 380.42962422012704, 'tol': 0.0014394262051119328, 'fit_intercept': False, 'positive': False}. Best is trial 34 with value: 0.11950193666861056.\n",
      "[I 2025-05-25 09:47:57,112] Trial 46 finished with value: 0.11938940151973462 and parameters: {'alpha': 989.7599676815956, 'tol': 0.006699177084689658, 'fit_intercept': True, 'positive': True}. Best is trial 34 with value: 0.11950193666861056.\n",
      "[I 2025-05-25 09:47:59,257] Trial 48 finished with value: 0.11650364750492737 and parameters: {'alpha': 330.1240363721198, 'tol': 0.002911500727517273, 'fit_intercept': False, 'positive': False}. Best is trial 34 with value: 0.11950193666861056.\n",
      "[I 2025-05-25 09:48:00,272] Trial 49 finished with value: 0.11950192118043182 and parameters: {'alpha': 993.1396840468639, 'tol': 0.00892870947285297, 'fit_intercept': True, 'positive': True}. Best is trial 34 with value: 0.11950193666861056.\n",
      "[I 2025-05-25 09:48:00,473] Trial 51 finished with value: 0.11749449748936665 and parameters: {'alpha': 825.6028680994204, 'tol': 0.00048472873403204893, 'fit_intercept': True, 'positive': False}. Best is trial 34 with value: 0.11950193666861056.\n",
      "[I 2025-05-25 09:48:00,785] Trial 50 finished with value: 0.11950182944434684 and parameters: {'alpha': 958.2870798045855, 'tol': 0.00992927629029367, 'fit_intercept': True, 'positive': True}. Best is trial 34 with value: 0.11950193666861056.\n",
      "[I 2025-05-25 09:48:02,560] Trial 52 finished with value: 0.1195615783243015 and parameters: {'alpha': 791.9452859058125, 'tol': 0.00972104365291541, 'fit_intercept': False, 'positive': True}. Best is trial 52 with value: 0.1195615783243015.\n",
      "[I 2025-05-25 09:48:03,326] Trial 53 finished with value: 0.11942412949776167 and parameters: {'alpha': 139.47096654387394, 'tol': 0.006871561211810544, 'fit_intercept': False, 'positive': True}. Best is trial 52 with value: 0.1195615783243015.\n",
      "[I 2025-05-25 09:48:04,425] Trial 54 finished with value: 0.11950178997461444 and parameters: {'alpha': 943.3048363751484, 'tol': 0.009688424988194597, 'fit_intercept': True, 'positive': True}. Best is trial 52 with value: 0.1195615783243015.\n",
      "[I 2025-05-25 09:48:04,606] Trial 55 finished with value: 0.11956197529511736 and parameters: {'alpha': 955.4378241905667, 'tol': 0.00996264939871692, 'fit_intercept': False, 'positive': True}. Best is trial 55 with value: 0.11956197529511736.\n",
      "[I 2025-05-25 09:48:06,404] Trial 56 finished with value: 0.11942695007576425 and parameters: {'alpha': 682.5032164000392, 'tol': 0.009347021510212772, 'fit_intercept': False, 'positive': True}. Best is trial 55 with value: 0.11956197529511736.\n",
      "[I 2025-05-25 09:48:07,017] Trial 57 finished with value: 0.11942755902881419 and parameters: {'alpha': 801.2034856594706, 'tol': 0.009246006607391206, 'fit_intercept': False, 'positive': True}. Best is trial 55 with value: 0.11956197529511736.\n",
      "[I 2025-05-25 09:48:08,014] Trial 58 finished with value: 0.11942663279430821 and parameters: {'alpha': 620.8646971047147, 'tol': 0.008981121944234808, 'fit_intercept': False, 'positive': True}. Best is trial 55 with value: 0.11956197529511736.\n",
      "[I 2025-05-25 09:48:08,203] Trial 59 finished with value: 0.11942685764613672 and parameters: {'alpha': 664.5321961205465, 'tol': 0.008104292052838675, 'fit_intercept': False, 'positive': True}. Best is trial 55 with value: 0.11956197529511736.\n",
      "[I 2025-05-25 09:48:10,201] Trial 60 finished with value: 0.11956191486359655 and parameters: {'alpha': 930.4861767485344, 'tol': 0.009902339509222799, 'fit_intercept': False, 'positive': True}. Best is trial 55 with value: 0.11956197529511736.\n",
      "[I 2025-05-25 09:48:10,510] Trial 61 finished with value: 0.1171833517085186 and parameters: {'alpha': 900.7346029485209, 'tol': 0.008735796565453476, 'fit_intercept': False, 'positive': False}. Best is trial 55 with value: 0.11956197529511736.\n",
      "[I 2025-05-25 09:48:11,514] Trial 62 finished with value: 0.1195618170209098 and parameters: {'alpha': 890.1357784976773, 'tol': 0.009736074125497355, 'fit_intercept': False, 'positive': True}. Best is trial 55 with value: 0.11956197529511736.\n",
      "[I 2025-05-25 09:48:11,658] Trial 63 finished with value: 0.11956186421416115 and parameters: {'alpha': 909.5909098274557, 'tol': 0.00944497048335975, 'fit_intercept': False, 'positive': True}. Best is trial 55 with value: 0.11956197529511736.\n",
      "[I 2025-05-25 09:48:13,935] Trial 64 finished with value: 0.1195618653768475 and parameters: {'alpha': 910.0703942303053, 'tol': 0.009825509043329255, 'fit_intercept': False, 'positive': True}. Best is trial 55 with value: 0.11956197529511736.\n",
      "[I 2025-05-25 09:48:14,078] Trial 65 finished with value: 0.1195618259078303 and parameters: {'alpha': 893.7983041687446, 'tol': 0.009897149606336048, 'fit_intercept': False, 'positive': True}. Best is trial 55 with value: 0.11956197529511736.\n",
      "[I 2025-05-25 09:48:15,092] Trial 66 finished with value: 0.11942851465321566 and parameters: {'alpha': 988.5426517423938, 'tol': 0.008484008787856866, 'fit_intercept': False, 'positive': True}. Best is trial 55 with value: 0.11956197529511736.\n",
      "[I 2025-05-25 09:48:15,414] Trial 67 finished with value: 0.11942832573484974 and parameters: {'alpha': 951.4037662349178, 'tol': 0.009142594686778187, 'fit_intercept': False, 'positive': True}. Best is trial 55 with value: 0.11956197529511736.\n",
      "[I 2025-05-25 09:48:17,333] Trial 69 finished with value: 0.11956188135225328 and parameters: {'alpha': 916.6593971465475, 'tol': 0.009978962808025934, 'fit_intercept': False, 'positive': True}. Best is trial 55 with value: 0.11956197529511736.\n",
      "[I 2025-05-25 09:48:17,712] Trial 68 finished with value: 0.11956186649914706 and parameters: {'alpha': 910.533231330328, 'tol': 0.009664604412982312, 'fit_intercept': False, 'positive': True}. Best is trial 55 with value: 0.11956197529511736.\n",
      "[I 2025-05-25 09:48:18,673] Trial 70 finished with value: 0.11956193961009794 and parameters: {'alpha': 940.7010516958356, 'tol': 0.0097724283258064, 'fit_intercept': False, 'positive': True}. Best is trial 55 with value: 0.11956197529511736.\n",
      "[I 2025-05-25 09:48:18,816] Trial 71 finished with value: 0.11956201700735965 and parameters: {'alpha': 972.6736703257293, 'tol': 0.009838192114349957, 'fit_intercept': False, 'positive': True}. Best is trial 71 with value: 0.11956201700735965.\n",
      "[I 2025-05-25 09:48:20,820] Trial 73 finished with value: 0.11956203919421618 and parameters: {'alpha': 981.8458694281808, 'tol': 0.009937191813310488, 'fit_intercept': False, 'positive': True}. Best is trial 73 with value: 0.11956203919421618.\n",
      "[I 2025-05-25 09:48:21,370] Trial 72 finished with value: 0.1195619315832432 and parameters: {'alpha': 937.3873058339195, 'tol': 0.009772211332088108, 'fit_intercept': False, 'positive': True}. Best is trial 73 with value: 0.11956203919421618.\n",
      "[I 2025-05-25 09:48:22,375] Trial 74 finished with value: 0.1195617342819244 and parameters: {'alpha': 856.0603738781335, 'tol': 0.009699247020791122, 'fit_intercept': False, 'positive': True}. Best is trial 73 with value: 0.11956203919421618.\n",
      "[I 2025-05-25 09:48:22,507] Trial 75 finished with value: 0.11956204987511765 and parameters: {'alpha': 986.2625190067181, 'tol': 0.009584800142843084, 'fit_intercept': False, 'positive': True}. Best is trial 75 with value: 0.11956204987511765.\n",
      "[I 2025-05-25 09:48:24,705] Trial 76 finished with value: 0.11942844105055035 and parameters: {'alpha': 974.0672361158878, 'tol': 0.008988195893653904, 'fit_intercept': False, 'positive': True}. Best is trial 75 with value: 0.11956204987511765.\n",
      "[I 2025-05-25 09:48:24,851] Trial 77 finished with value: 0.1195620131040966 and parameters: {'alpha': 971.0603510507262, 'tol': 0.00954024587142163, 'fit_intercept': False, 'positive': True}. Best is trial 75 with value: 0.11956204987511765.\n",
      "[I 2025-05-25 09:48:25,919] Trial 78 finished with value: 0.11956206640144511 and parameters: {'alpha': 993.0977036875552, 'tol': 0.009372887743098801, 'fit_intercept': False, 'positive': True}. Best is trial 78 with value: 0.11956206640144511.\n",
      "[I 2025-05-25 09:48:26,239] Trial 79 finished with value: 0.11956206885839574 and parameters: {'alpha': 994.114028061218, 'tol': 0.009863964857851727, 'fit_intercept': False, 'positive': True}. Best is trial 79 with value: 0.11956206885839574.\n",
      "[I 2025-05-25 09:48:28,118] Trial 80 finished with value: 0.11942857063601084 and parameters: {'alpha': 999.5579844242432, 'tol': 0.009099559855071713, 'fit_intercept': False, 'positive': True}. Best is trial 79 with value: 0.11956206885839574.\n",
      "[I 2025-05-25 09:48:28,241] Trial 81 finished with value: 0.1194284441448811 and parameters: {'alpha': 974.6756406061369, 'tol': 0.009131574849140726, 'fit_intercept': False, 'positive': True}. Best is trial 79 with value: 0.11956206885839574.\n",
      "[I 2025-05-25 09:48:29,903] Trial 83 finished with value: 0.11942845955105666 and parameters: {'alpha': 977.7049934344773, 'tol': 0.007014287978334642, 'fit_intercept': False, 'positive': True}. Best is trial 79 with value: 0.11956206885839574.\n",
      "[I 2025-05-25 09:48:30,097] Trial 82 finished with value: 0.11938611346288705 and parameters: {'alpha': 327.752039592343, 'tol': 0.003984771682994742, 'fit_intercept': True, 'positive': True}. Best is trial 79 with value: 0.11956206885839574.\n",
      "[I 2025-05-25 09:48:31,394] Trial 85 finished with value: 0.11727083297276959 and parameters: {'alpha': 997.6062374004357, 'tol': 0.003085691415458101, 'fit_intercept': False, 'positive': False}. Best is trial 79 with value: 0.11956206885839574.\n",
      "[I 2025-05-25 09:48:31,933] Trial 84 finished with value: 0.1170324912144296 and parameters: {'alpha': 749.0526867301553, 'tol': 0.0034677036851737276, 'fit_intercept': False, 'positive': False}. Best is trial 79 with value: 0.11956206885839574.\n",
      "[I 2025-05-25 09:48:33,725] Trial 86 finished with value: 0.11725043282175499 and parameters: {'alpha': 974.3709837868207, 'tol': 0.009983860330909785, 'fit_intercept': False, 'positive': False}. Best is trial 79 with value: 0.11956206885839574.\n",
      "[I 2025-05-25 09:48:33,852] Trial 87 finished with value: 0.11725526351538389 and parameters: {'alpha': 979.83634216008, 'tol': 0.009972474476958218, 'fit_intercept': False, 'positive': False}. Best is trial 79 with value: 0.11956206885839574.\n",
      "[I 2025-05-25 09:48:34,996] Trial 88 finished with value: 0.1172681385671254 and parameters: {'alpha': 994.5139690562828, 'tol': 0.009517345000296365, 'fit_intercept': False, 'positive': False}. Best is trial 79 with value: 0.11956206885839574.\n",
      "[I 2025-05-25 09:48:35,217] Trial 89 finished with value: 0.117263896871123 and parameters: {'alpha': 989.6604627565912, 'tol': 0.008184502074004714, 'fit_intercept': False, 'positive': False}. Best is trial 79 with value: 0.11956206885839574.\n",
      "[I 2025-05-25 09:48:37,561] Trial 91 finished with value: 0.11942854494543179 and parameters: {'alpha': 994.5024742919852, 'tol': 0.007854396763792557, 'fit_intercept': False, 'positive': True}. Best is trial 79 with value: 0.11956206885839574.\n",
      "[I 2025-05-25 09:48:37,705] Trial 90 finished with value: 0.11956200325698543 and parameters: {'alpha': 966.9907067835607, 'tol': 0.009926933340809362, 'fit_intercept': False, 'positive': True}. Best is trial 79 with value: 0.11956206885839574.\n",
      "[I 2025-05-25 09:48:38,699] Trial 93 finished with value: 0.11956193156905917 and parameters: {'alpha': 937.3814505576595, 'tol': 0.009940299866272645, 'fit_intercept': False, 'positive': True}. Best is trial 79 with value: 0.11956206885839574.\n",
      "[I 2025-05-25 09:48:38,900] Trial 92 finished with value: 0.11956202453837772 and parameters: {'alpha': 975.7867019116028, 'tol': 0.009404451407130537, 'fit_intercept': False, 'positive': True}. Best is trial 79 with value: 0.11956206885839574.\n",
      "[I 2025-05-25 09:48:41,315] Trial 94 finished with value: 0.11942848118800889 and parameters: {'alpha': 981.9600941862216, 'tol': 0.009308409894060498, 'fit_intercept': False, 'positive': True}. Best is trial 79 with value: 0.11956206885839574.\n",
      "[I 2025-05-25 09:48:41,446] Trial 95 finished with value: 0.11956204909918211 and parameters: {'alpha': 985.941638721439, 'tol': 0.009948019232389882, 'fit_intercept': False, 'positive': True}. Best is trial 79 with value: 0.11956206885839574.\n",
      "[I 2025-05-25 09:48:42,434] Trial 97 finished with value: 0.11942855842549249 and parameters: {'alpha': 997.1550242258756, 'tol': 0.008449227755616419, 'fit_intercept': False, 'positive': True}. Best is trial 79 with value: 0.11956206885839574.\n",
      "[I 2025-05-25 09:48:42,620] Trial 96 finished with value: 0.11956207745208372 and parameters: {'alpha': 997.6691261573759, 'tol': 0.009731162562586276, 'fit_intercept': False, 'positive': True}. Best is trial 96 with value: 0.11956207745208372.\n",
      "[I 2025-05-25 09:48:44,647] Trial 98 finished with value: 0.1195620756359421 and parameters: {'alpha': 996.9177734390198, 'tol': 0.009964886482063702, 'fit_intercept': False, 'positive': True}. Best is trial 96 with value: 0.11956207745208372.\n",
      "[I 2025-05-25 09:48:45,125] Trial 99 finished with value: 0.11938931732251631 and parameters: {'alpha': 972.6045920625397, 'tol': 0.0013283803101806152, 'fit_intercept': True, 'positive': True}. Best is trial 96 with value: 0.11956207745208372.\n",
      "[I 2025-05-25 09:48:46,281] Trial 100 finished with value: 0.11956198786789421 and parameters: {'alpha': 960.6318624788977, 'tol': 0.009913581913269886, 'fit_intercept': False, 'positive': True}. Best is trial 96 with value: 0.11956207745208372.\n",
      "[I 2025-05-25 09:48:46,461] Trial 101 finished with value: 0.11938892558067224 and parameters: {'alpha': 892.9283933005211, 'tol': 0.0027893564078777574, 'fit_intercept': True, 'positive': True}. Best is trial 96 with value: 0.11956207745208372.\n",
      "[I 2025-05-25 09:48:48,312] Trial 102 finished with value: 0.11956205129060475 and parameters: {'alpha': 986.8478890026103, 'tol': 0.009647608934720383, 'fit_intercept': False, 'positive': True}. Best is trial 96 with value: 0.11956207745208372.\n",
      "[I 2025-05-25 09:48:48,854] Trial 103 finished with value: 0.11956203572482793 and parameters: {'alpha': 980.4113986005311, 'tol': 0.009807108464634258, 'fit_intercept': False, 'positive': True}. Best is trial 96 with value: 0.11956207745208372.\n",
      "[I 2025-05-25 09:48:50,017] Trial 104 finished with value: 0.11956203421861825 and parameters: {'alpha': 979.788656799791, 'tol': 0.009704013518851893, 'fit_intercept': False, 'positive': True}. Best is trial 96 with value: 0.11956207745208372.\n",
      "[I 2025-05-25 09:48:50,232] Trial 105 finished with value: 0.11942853944797927 and parameters: {'alpha': 993.4207835824309, 'tol': 0.008979750804256439, 'fit_intercept': False, 'positive': True}. Best is trial 96 with value: 0.11956207745208372.\n",
      "[I 2025-05-25 09:48:52,028] Trial 106 finished with value: 0.11709003569948417 and parameters: {'alpha': 404.65676169335757, 'tol': 0.002492677314241879, 'fit_intercept': True, 'positive': False}. Best is trial 96 with value: 0.11956207745208372.\n",
      "[I 2025-05-25 09:48:52,457] Trial 107 finished with value: 0.11942726284486849 and parameters: {'alpha': 743.4041793242171, 'tol': 0.006325915625608928, 'fit_intercept': False, 'positive': True}. Best is trial 96 with value: 0.11956207745208372.\n",
      "[I 2025-05-25 09:48:53,736] Trial 108 finished with value: 0.11942758770442241 and parameters: {'alpha': 806.8060478954515, 'tol': 0.00670798224593667, 'fit_intercept': False, 'positive': True}. Best is trial 96 with value: 0.11956207745208372.\n",
      "[I 2025-05-25 09:48:54,302] Trial 109 finished with value: 0.11942750495228213 and parameters: {'alpha': 790.6413398584206, 'tol': 0.00713176017785597, 'fit_intercept': False, 'positive': True}. Best is trial 96 with value: 0.11956207745208372.\n",
      "[I 2025-05-25 09:48:55,745] Trial 110 finished with value: 0.11942740496435526 and parameters: {'alpha': 771.122788781073, 'tol': 0.007464085551562529, 'fit_intercept': False, 'positive': True}. Best is trial 96 with value: 0.11956207745208372.\n",
      "[I 2025-05-25 09:48:56,343] Trial 111 finished with value: 0.11956202089128991 and parameters: {'alpha': 974.2790928578506, 'tol': 0.009544666243003137, 'fit_intercept': False, 'positive': True}. Best is trial 96 with value: 0.11956207745208372.\n",
      "[I 2025-05-25 09:48:57,420] Trial 113 finished with value: 0.11710232294632125 and parameters: {'alpha': 415.3898274305325, 'tol': 0.008781861815040542, 'fit_intercept': True, 'positive': False}. Best is trial 96 with value: 0.11956207745208372.\n",
      "[I 2025-05-25 09:48:57,590] Trial 112 finished with value: 0.11942854361265046 and parameters: {'alpha': 994.240229354989, 'tol': 0.00905075696407804, 'fit_intercept': False, 'positive': True}. Best is trial 96 with value: 0.11956207745208372.\n",
      "[I 2025-05-25 09:48:59,247] Trial 114 finished with value: 0.11956203763026318 and parameters: {'alpha': 981.1992202395809, 'tol': 0.009495204675888403, 'fit_intercept': False, 'positive': True}. Best is trial 96 with value: 0.11956207745208372.\n",
      "[I 2025-05-25 09:49:00,178] Trial 115 finished with value: 0.1194285149410925 and parameters: {'alpha': 988.5992836774576, 'tol': 0.00934745617711524, 'fit_intercept': False, 'positive': True}. Best is trial 96 with value: 0.11956207745208372.\n",
      "[I 2025-05-25 09:49:01,108] Trial 117 finished with value: 0.11956201700912317 and parameters: {'alpha': 972.6743992627073, 'tol': 0.00968525302027551, 'fit_intercept': False, 'positive': True}. Best is trial 96 with value: 0.11956207745208372.\n",
      "[I 2025-05-25 09:49:01,293] Trial 116 finished with value: 0.11956207204828902 and parameters: {'alpha': 995.4335922059462, 'tol': 0.009820808042956373, 'fit_intercept': False, 'positive': True}. Best is trial 96 with value: 0.11956207745208372.\n",
      "[I 2025-05-25 09:49:02,750] Trial 118 finished with value: 0.11956204440641474 and parameters: {'alpha': 984.0010721502993, 'tol': 0.009674921934259327, 'fit_intercept': False, 'positive': True}. Best is trial 96 with value: 0.11956207745208372.\n",
      "[I 2025-05-25 09:49:03,807] Trial 119 finished with value: 0.11956169160586169 and parameters: {'alpha': 838.5010968904448, 'tol': 0.009948510590644775, 'fit_intercept': False, 'positive': True}. Best is trial 96 with value: 0.11956207745208372.\n",
      "[I 2025-05-25 09:49:04,801] Trial 120 finished with value: 0.11956203360322515 and parameters: {'alpha': 979.5342268420361, 'tol': 0.009353183507022604, 'fit_intercept': False, 'positive': True}. Best is trial 96 with value: 0.11956207745208372.\n",
      "[I 2025-05-25 09:49:04,983] Trial 121 finished with value: 0.11942854428782808 and parameters: {'alpha': 994.3730804692898, 'tol': 0.00884918123212034, 'fit_intercept': False, 'positive': True}. Best is trial 96 with value: 0.11956207745208372.\n",
      "[I 2025-05-25 09:49:06,550] Trial 122 finished with value: 0.11956207703656707 and parameters: {'alpha': 997.4972216899214, 'tol': 0.009846994993307653, 'fit_intercept': False, 'positive': True}. Best is trial 96 with value: 0.11956207745208372.\n",
      "[I 2025-05-25 09:49:07,650] Trial 123 finished with value: 0.11956194464620754 and parameters: {'alpha': 942.7803250647551, 'tol': 0.00993681175756104, 'fit_intercept': False, 'positive': True}. Best is trial 96 with value: 0.11956207745208372.\n",
      "[I 2025-05-25 09:49:08,668] Trial 124 finished with value: 0.119562050907202 and parameters: {'alpha': 986.6893328333528, 'tol': 0.009394489124605308, 'fit_intercept': False, 'positive': True}. Best is trial 96 with value: 0.11956207745208372.\n",
      "[I 2025-05-25 09:49:08,824] Trial 125 finished with value: 0.11956200888793064 and parameters: {'alpha': 969.3178073175907, 'tol': 0.009966334025418622, 'fit_intercept': False, 'positive': True}. Best is trial 96 with value: 0.11956207745208372.\n",
      "[I 2025-05-25 09:49:10,205] Trial 126 finished with value: 0.11956206830140534 and parameters: {'alpha': 993.8836241583554, 'tol': 0.009844405741970364, 'fit_intercept': False, 'positive': True}. Best is trial 96 with value: 0.11956207745208372.\n",
      "[I 2025-05-25 09:49:11,106] Trial 127 finished with value: 0.11942852091549787 and parameters: {'alpha': 989.7746122891758, 'tol': 0.0074815304374886375, 'fit_intercept': False, 'positive': True}. Best is trial 96 with value: 0.11956207745208372.\n",
      "[I 2025-05-25 09:49:12,365] Trial 128 finished with value: 0.11942856902101959 and parameters: {'alpha': 999.2401510792189, 'tol': 0.007409948357045514, 'fit_intercept': False, 'positive': True}. Best is trial 96 with value: 0.11956207745208372.\n",
      "[I 2025-05-25 09:49:12,694] Trial 129 finished with value: 0.11942843473043921 and parameters: {'alpha': 972.8246243259484, 'tol': 0.008136580872349107, 'fit_intercept': False, 'positive': True}. Best is trial 96 with value: 0.11956207745208372.\n",
      "[I 2025-05-25 09:49:13,442] Trial 130 finished with value: 0.1165772870769626 and parameters: {'alpha': 380.1879987912187, 'tol': 0.007398898774746005, 'fit_intercept': False, 'positive': False}. Best is trial 96 with value: 0.11956207745208372.\n",
      "[I 2025-05-25 09:49:14,653] Trial 131 finished with value: 0.11956141170077872 and parameters: {'alpha': 723.6106629523497, 'tol': 0.009655659879629722, 'fit_intercept': False, 'positive': True}. Best is trial 96 with value: 0.11956207745208372.\n",
      "[I 2025-05-25 09:49:15,976] Trial 132 finished with value: 0.11956133359389602 and parameters: {'alpha': 691.636536168359, 'tol': 0.009884626232498604, 'fit_intercept': False, 'positive': True}. Best is trial 96 with value: 0.11956207745208372.\n",
      "[I 2025-05-25 09:49:16,480] Trial 133 finished with value: 0.11942737455723278 and parameters: {'alpha': 765.1898558210206, 'tol': 0.00886565140197579, 'fit_intercept': False, 'positive': True}. Best is trial 96 with value: 0.11956207745208372.\n",
      "[I 2025-05-25 09:49:16,779] Trial 134 finished with value: 0.11956197383378805 and parameters: {'alpha': 954.8341866876136, 'tol': 0.009933292035768187, 'fit_intercept': False, 'positive': True}. Best is trial 96 with value: 0.11956207745208372.\n",
      "[I 2025-05-25 09:49:18,642] Trial 135 finished with value: 0.11956207623125945 and parameters: {'alpha': 997.164058861787, 'tol': 0.00941732612959257, 'fit_intercept': False, 'positive': True}. Best is trial 96 with value: 0.11956207745208372.\n",
      "[I 2025-05-25 09:49:19,576] Trial 136 finished with value: 0.11956206642886036 and parameters: {'alpha': 993.1090438803079, 'tol': 0.009397805194131399, 'fit_intercept': False, 'positive': True}. Best is trial 96 with value: 0.11956207745208372.\n",
      "[I 2025-05-25 09:49:19,964] Trial 137 finished with value: 0.11956203007927886 and parameters: {'alpha': 978.0773212676562, 'tol': 0.009837029169589638, 'fit_intercept': False, 'positive': True}. Best is trial 96 with value: 0.11956207745208372.\n",
      "[I 2025-05-25 09:49:20,353] Trial 138 finished with value: 0.11956207030483024 and parameters: {'alpha': 994.7123672212908, 'tol': 0.009862866896043904, 'fit_intercept': False, 'positive': True}. Best is trial 96 with value: 0.11956207745208372.\n",
      "[I 2025-05-25 09:49:22,042] Trial 139 finished with value: 0.11942845350576617 and parameters: {'alpha': 976.5162530070284, 'tol': 0.008958389498603156, 'fit_intercept': False, 'positive': True}. Best is trial 96 with value: 0.11956207745208372.\n",
      "[I 2025-05-25 09:49:23,453] Trial 140 finished with value: 0.11956203594689677 and parameters: {'alpha': 980.503214057902, 'tol': 0.009707003443475547, 'fit_intercept': False, 'positive': True}. Best is trial 96 with value: 0.11956207745208372.\n",
      "[I 2025-05-25 09:49:23,803] Trial 141 finished with value: 0.11938622937253954 and parameters: {'alpha': 350.81510788972093, 'tol': 0.000254491486012599, 'fit_intercept': True, 'positive': True}. Best is trial 96 with value: 0.11956207745208372.\n",
      "[I 2025-05-25 09:49:24,018] Trial 142 finished with value: 0.11942855310159162 and parameters: {'alpha': 996.1073780785117, 'tol': 0.00798368522266468, 'fit_intercept': False, 'positive': True}. Best is trial 96 with value: 0.11956207745208372.\n",
      "[I 2025-05-25 09:49:25,684] Trial 143 finished with value: 0.11956207996235886 and parameters: {'alpha': 998.7076814143087, 'tol': 0.009376652820047375, 'fit_intercept': False, 'positive': True}. Best is trial 143 with value: 0.11956207996235886.\n",
      "[I 2025-05-25 09:49:26,958] Trial 144 finished with value: 0.11956203011255914 and parameters: {'alpha': 978.0910799726039, 'tol': 0.009922953022719677, 'fit_intercept': False, 'positive': True}. Best is trial 143 with value: 0.11956207996235886.\n",
      "[I 2025-05-25 09:49:27,290] Trial 145 finished with value: 0.11956207586258663 and parameters: {'alpha': 997.0115370267445, 'tol': 0.009854742031707978, 'fit_intercept': False, 'positive': True}. Best is trial 143 with value: 0.11956207996235886.\n",
      "[I 2025-05-25 09:49:27,561] Trial 146 finished with value: 0.1194285456695483 and parameters: {'alpha': 994.6449562699717, 'tol': 0.008915704256844391, 'fit_intercept': False, 'positive': True}. Best is trial 143 with value: 0.11956207996235886.\n",
      "[I 2025-05-25 09:49:29,102] Trial 147 finished with value: 0.1195620340714745 and parameters: {'alpha': 979.7278210452904, 'tol': 0.009830038135012027, 'fit_intercept': False, 'positive': True}. Best is trial 143 with value: 0.11956207996235886.\n",
      "[I 2025-05-25 09:49:30,650] Trial 149 finished with value: 0.11942745829159551 and parameters: {'alpha': 781.5309840386637, 'tol': 0.008331561949232699, 'fit_intercept': False, 'positive': True}. Best is trial 143 with value: 0.11956207996235886.\n",
      "[I 2025-05-25 09:49:30,855] Trial 148 finished with value: 0.11942855900466547 and parameters: {'alpha': 997.2689973083375, 'tol': 0.008653452357299071, 'fit_intercept': False, 'positive': True}. Best is trial 143 with value: 0.11956207996235886.\n",
      "[I 2025-05-25 09:49:31,424] Trial 150 finished with value: 0.11956206830555557 and parameters: {'alpha': 993.8853409395019, 'tol': 0.009790915421390881, 'fit_intercept': False, 'positive': True}. Best is trial 143 with value: 0.11956207996235886.\n",
      "[I 2025-05-25 09:49:32,631] Trial 151 finished with value: 0.11678666168628701 and parameters: {'alpha': 168.98643137882033, 'tol': 0.005701094523269932, 'fit_intercept': True, 'positive': False}. Best is trial 143 with value: 0.11956207996235886.\n",
      "[I 2025-05-25 09:49:34,110] Trial 153 finished with value: 0.11956207266618957 and parameters: {'alpha': 995.6892066535659, 'tol': 0.009872780516689572, 'fit_intercept': False, 'positive': True}. Best is trial 143 with value: 0.11956207996235886.\n",
      "[I 2025-05-25 09:49:34,415] Trial 152 finished with value: 0.11942850094478383 and parameters: {'alpha': 985.8460285608049, 'tol': 0.007953806699842792, 'fit_intercept': False, 'positive': True}. Best is trial 143 with value: 0.11956207996235886.\n",
      "[I 2025-05-25 09:49:34,934] Trial 154 finished with value: 0.11956204368705067 and parameters: {'alpha': 983.703610772765, 'tol': 0.009539122224805527, 'fit_intercept': False, 'positive': True}. Best is trial 143 with value: 0.11956207996235886.\n",
      "[I 2025-05-25 09:49:36,587] Trial 155 finished with value: 0.11956207992934101 and parameters: {'alpha': 998.6940209584026, 'tol': 0.009721919939645803, 'fit_intercept': False, 'positive': True}. Best is trial 143 with value: 0.11956207996235886.\n",
      "[I 2025-05-25 09:49:37,956] Trial 157 finished with value: 0.11942769151881205 and parameters: {'alpha': 827.0988010035863, 'tol': 0.0005481020678833473, 'fit_intercept': False, 'positive': True}. Best is trial 143 with value: 0.11956207996235886.\n",
      "[I 2025-05-25 09:49:38,090] Trial 156 finished with value: 0.11956164215028264 and parameters: {'alpha': 818.1664036272148, 'tol': 0.009732671927370401, 'fit_intercept': False, 'positive': True}. Best is trial 143 with value: 0.11956207996235886.\n",
      "[I 2025-05-25 09:49:38,890] Trial 158 finished with value: 0.11956150310065963 and parameters: {'alpha': 761.0739217580475, 'tol': 0.009797871982637056, 'fit_intercept': False, 'positive': True}. Best is trial 143 with value: 0.11956207996235886.\n",
      "[I 2025-05-25 09:49:40,266] Trial 159 finished with value: 0.1194252123229375 and parameters: {'alpha': 346.6369780831066, 'tol': 0.0032179989765048103, 'fit_intercept': False, 'positive': True}. Best is trial 143 with value: 0.11956207996235886.\n",
      "[I 2025-05-25 09:49:41,522] Trial 161 finished with value: 0.1195620711980903 and parameters: {'alpha': 995.0818840605259, 'tol': 0.009397826683042362, 'fit_intercept': False, 'positive': True}. Best is trial 143 with value: 0.11956207996235886.\n",
      "[I 2025-05-25 09:49:41,784] Trial 160 finished with value: 0.1195614612626772 and parameters: {'alpha': 743.9188848080704, 'tol': 0.009833278783751905, 'fit_intercept': False, 'positive': True}. Best is trial 143 with value: 0.11956207996235886.\n",
      "[I 2025-05-25 09:49:42,484] Trial 162 finished with value: 0.11938756796367786 and parameters: {'alpha': 618.6003824450707, 'tol': 0.004695345389358189, 'fit_intercept': True, 'positive': True}. Best is trial 143 with value: 0.11956207996235886.\n",
      "[I 2025-05-25 09:49:43,684] Trial 163 finished with value: 0.11956198459925067 and parameters: {'alpha': 959.2814331309181, 'tol': 0.009896339302299682, 'fit_intercept': False, 'positive': True}. Best is trial 143 with value: 0.11956207996235886.\n",
      "[I 2025-05-25 09:49:45,365] Trial 164 finished with value: 0.11956204514823834 and parameters: {'alpha': 984.3078240426175, 'tol': 0.009869320742991208, 'fit_intercept': False, 'positive': True}. Best is trial 143 with value: 0.11956207996235886.\n",
      "[I 2025-05-25 09:49:45,500] Trial 165 finished with value: 0.11942847867700324 and parameters: {'alpha': 981.4662479115465, 'tol': 0.009327188616987647, 'fit_intercept': False, 'positive': True}. Best is trial 143 with value: 0.11956207996235886.\n",
      "[I 2025-05-25 09:49:45,878] Trial 166 finished with value: 0.11956207466750353 and parameters: {'alpha': 996.5171308350095, 'tol': 0.009763470796863022, 'fit_intercept': False, 'positive': True}. Best is trial 143 with value: 0.11956207996235886.\n",
      "[I 2025-05-25 09:49:47,538] Trial 167 finished with value: 0.11956207752954032 and parameters: {'alpha': 997.7011710503282, 'tol': 0.009633782045468976, 'fit_intercept': False, 'positive': True}. Best is trial 143 with value: 0.11956207996235886.\n",
      "[I 2025-05-25 09:49:48,948] Trial 168 finished with value: 0.11956198436847336 and parameters: {'alpha': 959.1860907424992, 'tol': 0.009984654288171396, 'fit_intercept': False, 'positive': True}. Best is trial 143 with value: 0.11956207996235886.\n",
      "[I 2025-05-25 09:49:49,269] Trial 169 finished with value: 0.11956203719402698 and parameters: {'alpha': 981.0188519380574, 'tol': 0.009808718307703737, 'fit_intercept': False, 'positive': True}. Best is trial 143 with value: 0.11956207996235886.\n",
      "[I 2025-05-25 09:49:49,829] Trial 170 finished with value: 0.11956207058284014 and parameters: {'alpha': 994.8273716395995, 'tol': 0.009995772535023664, 'fit_intercept': False, 'positive': True}. Best is trial 143 with value: 0.11956207996235886.\n",
      "[I 2025-05-25 09:49:50,880] Trial 171 finished with value: 0.11702580940251481 and parameters: {'alpha': 742.7375510785657, 'tol': 0.007529994743870339, 'fit_intercept': False, 'positive': False}. Best is trial 143 with value: 0.11956207996235886.\n",
      "[I 2025-05-25 09:49:52,454] Trial 172 finished with value: 0.11709961654066461 and parameters: {'alpha': 814.3216672632155, 'tol': 0.00041949501059203743, 'fit_intercept': False, 'positive': False}. Best is trial 143 with value: 0.11956207996235886.\n",
      "[I 2025-05-25 09:49:52,879] Trial 173 finished with value: 0.11942857258503874 and parameters: {'alpha': 999.9415618088204, 'tol': 0.008926463013961203, 'fit_intercept': False, 'positive': True}. Best is trial 143 with value: 0.11956207996235886.\n",
      "[I 2025-05-25 09:49:53,622] Trial 174 finished with value: 0.11956192940751875 and parameters: {'alpha': 936.4891650956419, 'tol': 0.009990969787038222, 'fit_intercept': False, 'positive': True}. Best is trial 143 with value: 0.11956207996235886.\n",
      "[I 2025-05-25 09:49:54,490] Trial 175 finished with value: 0.1195620566695607 and parameters: {'alpha': 989.0724520604914, 'tol': 0.009979039340239321, 'fit_intercept': False, 'positive': True}. Best is trial 143 with value: 0.11956207996235886.\n",
      "[I 2025-05-25 09:49:55,968] Trial 176 finished with value: 0.11956206308712083 and parameters: {'alpha': 991.7267838769552, 'tol': 0.009719737287700368, 'fit_intercept': False, 'positive': True}. Best is trial 143 with value: 0.11956207996235886.\n",
      "[I 2025-05-25 09:49:57,022] Trial 177 finished with value: 0.11956207592964138 and parameters: {'alpha': 997.0392778580414, 'tol': 0.009592526955521223, 'fit_intercept': False, 'positive': True}. Best is trial 143 with value: 0.11956207996235886.\n",
      "[I 2025-05-25 09:49:57,647] Trial 178 finished with value: 0.11942769210333495 and parameters: {'alpha': 827.213101974687, 'tol': 0.007895195805930389, 'fit_intercept': False, 'positive': True}. Best is trial 143 with value: 0.11956207996235886.\n",
      "[I 2025-05-25 09:49:58,218] Trial 179 finished with value: 0.11942855066590974 and parameters: {'alpha': 995.628094093649, 'tol': 0.007938648198691096, 'fit_intercept': False, 'positive': True}. Best is trial 143 with value: 0.11956207996235886.\n",
      "[I 2025-05-25 09:49:59,384] Trial 180 finished with value: 0.11595420551190332 and parameters: {'alpha': 15.075355655366877, 'tol': 0.00941997442434556, 'fit_intercept': False, 'positive': False}. Best is trial 143 with value: 0.11956207996235886.\n",
      "[I 2025-05-25 09:50:00,469] Trial 181 finished with value: 0.11942842139537277 and parameters: {'alpha': 970.202973981511, 'tol': 0.007882271248030526, 'fit_intercept': False, 'positive': True}. Best is trial 143 with value: 0.11956207996235886.\n",
      "[I 2025-05-25 09:50:01,366] Trial 182 finished with value: 0.11956198777027682 and parameters: {'alpha': 960.5915312221689, 'tol': 0.009912702972201513, 'fit_intercept': False, 'positive': True}. Best is trial 143 with value: 0.11956207996235886.\n",
      "[I 2025-05-25 09:50:01,951] Trial 183 finished with value: 0.1195620297760928 and parameters: {'alpha': 977.9519786153684, 'tol': 0.00986359437782575, 'fit_intercept': False, 'positive': True}. Best is trial 143 with value: 0.11956207996235886.\n",
      "[I 2025-05-25 09:50:03,106] Trial 184 finished with value: 0.11956207539566951 and parameters: {'alpha': 996.8183722378967, 'tol': 0.009665657766194883, 'fit_intercept': False, 'positive': True}. Best is trial 143 with value: 0.11956207996235886.\n",
      "[I 2025-05-25 09:50:04,321] Trial 185 finished with value: 0.11956204625811091 and parameters: {'alpha': 984.7667744818846, 'tol': 0.009981062878866596, 'fit_intercept': False, 'positive': True}. Best is trial 143 with value: 0.11956207996235886.\n",
      "[I 2025-05-25 09:50:04,831] Trial 186 finished with value: 0.1195620635092773 and parameters: {'alpha': 991.9013986799173, 'tol': 0.009646708398003221, 'fit_intercept': False, 'positive': True}. Best is trial 143 with value: 0.11956207996235886.\n",
      "[I 2025-05-25 09:50:05,782] Trial 187 finished with value: 0.11942853159756597 and parameters: {'alpha': 991.8761944969724, 'tol': 0.007900083561172588, 'fit_intercept': False, 'positive': True}. Best is trial 143 with value: 0.11956207996235886.\n",
      "[I 2025-05-25 09:50:06,802] Trial 188 finished with value: 0.11956205152575913 and parameters: {'alpha': 986.945137522025, 'tol': 0.009811957474510961, 'fit_intercept': False, 'positive': True}. Best is trial 143 with value: 0.11956207996235886.\n",
      "[I 2025-05-25 09:50:08,146] Trial 189 finished with value: 0.11942777812001515 and parameters: {'alpha': 844.0386025826813, 'tol': 0.00846114677208264, 'fit_intercept': False, 'positive': True}. Best is trial 143 with value: 0.11956207996235886.\n",
      "[I 2025-05-25 09:50:09,174] Trial 190 finished with value: 0.1193845012169571 and parameters: {'alpha': 8.992143476499791, 'tol': 0.002381218580698801, 'fit_intercept': True, 'positive': True}. Best is trial 143 with value: 0.11956207996235886.\n",
      "[I 2025-05-25 09:50:09,425] Trial 191 finished with value: 0.11956207246062585 and parameters: {'alpha': 995.604168329374, 'tol': 0.009856969657598061, 'fit_intercept': False, 'positive': True}. Best is trial 143 with value: 0.11956207996235886.\n",
      "[I 2025-05-25 09:50:10,225] Trial 192 finished with value: 0.11956163894827618 and parameters: {'alpha': 816.8503513576507, 'tol': 0.009819181576958732, 'fit_intercept': False, 'positive': True}. Best is trial 143 with value: 0.11956207996235886.\n",
      "[I 2025-05-25 09:50:11,685] Trial 193 finished with value: 0.11942756144562094 and parameters: {'alpha': 801.675629675401, 'tol': 0.008613559363809436, 'fit_intercept': False, 'positive': True}. Best is trial 143 with value: 0.11956207996235886.\n",
      "[I 2025-05-25 09:50:12,800] Trial 194 finished with value: 0.1195620258107551 and parameters: {'alpha': 976.3126883222884, 'tol': 0.009949481879289637, 'fit_intercept': False, 'positive': True}. Best is trial 143 with value: 0.11956207996235886.\n",
      "[I 2025-05-25 09:50:13,521] Trial 195 finished with value: 0.11956206991326183 and parameters: {'alpha': 994.5503878380019, 'tol': 0.009725720285130735, 'fit_intercept': False, 'positive': True}. Best is trial 143 with value: 0.11956207996235886.\n",
      "[I 2025-05-25 09:50:13,935] Trial 196 finished with value: 0.1195616545886714 and parameters: {'alpha': 823.2792879150222, 'tol': 0.009996135673903993, 'fit_intercept': False, 'positive': True}. Best is trial 143 with value: 0.11956207996235886.\n",
      "[I 2025-05-25 09:50:15,374] Trial 197 finished with value: 0.11942853096830881 and parameters: {'alpha': 991.7523903644183, 'tol': 0.0085736505148832, 'fit_intercept': False, 'positive': True}. Best is trial 143 with value: 0.11956207996235886.\n",
      "[I 2025-05-25 09:50:16,289] Trial 198 finished with value: 0.1195617474191526 and parameters: {'alpha': 861.4680140911526, 'tol': 0.009937816602865957, 'fit_intercept': False, 'positive': True}. Best is trial 143 with value: 0.11956207996235886.\n",
      "[I 2025-05-25 09:50:16,889] Trial 199 finished with value: 0.11942796439067838 and parameters: {'alpha': 880.5106734393569, 'tol': 0.008241650130047703, 'fit_intercept': False, 'positive': True}. Best is trial 143 with value: 0.11956207996235886.\n",
      "[I 2025-05-25 09:50:17,861] Trial 200 finished with value: 0.11942420748290639 and parameters: {'alpha': 154.3372899626503, 'tol': 0.009430077206787006, 'fit_intercept': False, 'positive': True}. Best is trial 143 with value: 0.11956207996235886.\n",
      "[I 2025-05-25 09:50:19,405] Trial 201 finished with value: 0.11956204097007916 and parameters: {'alpha': 982.5801556949544, 'tol': 0.009781962574681429, 'fit_intercept': False, 'positive': True}. Best is trial 143 with value: 0.11956207996235886.\n",
      "[I 2025-05-25 09:50:20,086] Trial 202 finished with value: 0.11942855925573181 and parameters: {'alpha': 997.3184037821023, 'tol': 0.008481541341253607, 'fit_intercept': False, 'positive': True}. Best is trial 143 with value: 0.11956207996235886.\n",
      "[I 2025-05-25 09:50:20,457] Trial 203 finished with value: 0.11956198790796883 and parameters: {'alpha': 960.6484195893751, 'tol': 0.009960659343761417, 'fit_intercept': False, 'positive': True}. Best is trial 143 with value: 0.11956207996235886.\n",
      "[I 2025-05-25 09:50:21,603] Trial 204 finished with value: 0.11956202951176167 and parameters: {'alpha': 977.8426997774225, 'tol': 0.009795347475867746, 'fit_intercept': False, 'positive': True}. Best is trial 143 with value: 0.11956207996235886.\n",
      "[I 2025-05-25 09:50:22,931] Trial 205 finished with value: 0.11956203802664342 and parameters: {'alpha': 981.3631105315854, 'tol': 0.009738159277894884, 'fit_intercept': False, 'positive': True}. Best is trial 143 with value: 0.11956207996235886.\n",
      "[I 2025-05-25 09:50:23,529] Trial 206 finished with value: 0.1195620252358919 and parameters: {'alpha': 976.0750451324553, 'tol': 0.009552257475455192, 'fit_intercept': False, 'positive': True}. Best is trial 143 with value: 0.11956207996235886.\n",
      "[I 2025-05-25 09:50:24,093] Trial 207 finished with value: 0.11620999342286123 and parameters: {'alpha': 150.34248152030858, 'tol': 0.004237450404216354, 'fit_intercept': False, 'positive': False}. Best is trial 143 with value: 0.11956207996235886.\n",
      "[I 2025-05-25 09:50:25,075] Trial 208 finished with value: 0.11956201186678397 and parameters: {'alpha': 970.5489575992381, 'tol': 0.009907574670486197, 'fit_intercept': False, 'positive': True}. Best is trial 143 with value: 0.11956207996235886.\n",
      "[I 2025-05-25 09:50:26,626] Trial 209 finished with value: 0.11956201860713973 and parameters: {'alpha': 973.3349280439329, 'tol': 0.009654811286800001, 'fit_intercept': False, 'positive': True}. Best is trial 143 with value: 0.11956207996235886.\n",
      "[I 2025-05-25 09:50:27,181] Trial 210 finished with value: 0.11942848226129137 and parameters: {'alpha': 982.1711823190026, 'tol': 0.008658186983564098, 'fit_intercept': False, 'positive': True}. Best is trial 143 with value: 0.11956207996235886.\n",
      "[I 2025-05-25 09:50:27,709] Trial 211 finished with value: 0.1194285556127195 and parameters: {'alpha': 996.6015169570919, 'tol': 0.007872277636228098, 'fit_intercept': False, 'positive': True}. Best is trial 143 with value: 0.11956207996235886.\n",
      "[I 2025-05-25 09:50:28,957] Trial 212 finished with value: 0.11956207129535386 and parameters: {'alpha': 995.1221195740591, 'tol': 0.009856893161420957, 'fit_intercept': False, 'positive': True}. Best is trial 143 with value: 0.11956207996235886.\n",
      "[I 2025-05-25 09:50:29,817] Trial 213 finished with value: 0.11715005188554728 and parameters: {'alpha': 865.6709131933258, 'tol': 0.009234226773901181, 'fit_intercept': False, 'positive': False}. Best is trial 143 with value: 0.11956207996235886.\n",
      "[I 2025-05-25 09:50:30,960] Trial 214 finished with value: 0.11942855891311761 and parameters: {'alpha': 997.2509819472033, 'tol': 0.008708741075350863, 'fit_intercept': False, 'positive': True}. Best is trial 143 with value: 0.11956207996235886.\n",
      "[I 2025-05-25 09:50:31,517] Trial 215 finished with value: 0.11942851401172878 and parameters: {'alpha': 988.4164570790003, 'tol': 0.009035423952145063, 'fit_intercept': False, 'positive': True}. Best is trial 143 with value: 0.11956207996235886.\n",
      "[I 2025-05-25 09:50:32,425] Trial 216 finished with value: 0.11956206677957268 and parameters: {'alpha': 993.254114753061, 'tol': 0.00945664194091071, 'fit_intercept': False, 'positive': True}. Best is trial 143 with value: 0.11956207996235886.\n",
      "[I 2025-05-25 09:50:33,527] Trial 217 finished with value: 0.11956207812762616 and parameters: {'alpha': 997.9486088619727, 'tol': 0.009994011155529158, 'fit_intercept': False, 'positive': True}. Best is trial 143 with value: 0.11956207996235886.\n",
      "[I 2025-05-25 09:50:34,611] Trial 218 finished with value: 0.11956200436721458 and parameters: {'alpha': 967.4495155518987, 'tol': 0.009850867495038598, 'fit_intercept': False, 'positive': True}. Best is trial 143 with value: 0.11956207996235886.\n",
      "[I 2025-05-25 09:50:34,929] Trial 219 finished with value: 0.1195616091101653 and parameters: {'alpha': 804.5896659179521, 'tol': 0.00999325625719167, 'fit_intercept': False, 'positive': True}. Best is trial 143 with value: 0.11956207996235886.\n",
      "[I 2025-05-25 09:50:36,075] Trial 220 finished with value: 0.11956203224798725 and parameters: {'alpha': 978.9739215194176, 'tol': 0.009624180548490773, 'fit_intercept': False, 'positive': True}. Best is trial 143 with value: 0.11956207996235886.\n",
      "[I 2025-05-25 09:50:37,329] Trial 221 finished with value: 0.11956163695243535 and parameters: {'alpha': 816.0300755175487, 'tol': 0.009922013829785727, 'fit_intercept': False, 'positive': True}. Best is trial 143 with value: 0.11956207996235886.\n",
      "[I 2025-05-25 09:50:38,365] Trial 223 finished with value: 0.11942856811002145 and parameters: {'alpha': 999.0608665616936, 'tol': 0.007922991221023641, 'fit_intercept': False, 'positive': True}. Best is trial 143 with value: 0.11956207996235886.\n",
      "[I 2025-05-25 09:50:38,546] Trial 222 finished with value: 0.11956160725491358 and parameters: {'alpha': 803.8275111723948, 'tol': 0.009915749171186072, 'fit_intercept': False, 'positive': True}. Best is trial 143 with value: 0.11956207996235886.\n",
      "[I 2025-05-25 09:50:40,491] Trial 224 finished with value: 0.1195620745063863 and parameters: {'alpha': 996.4504772751283, 'tol': 0.00981153814477531, 'fit_intercept': False, 'positive': True}. Best is trial 143 with value: 0.11956207996235886.\n",
      "[I 2025-05-25 09:50:40,966] Trial 225 finished with value: 0.11956207518709845 and parameters: {'alpha': 996.7320863042954, 'tol': 0.009937279368028634, 'fit_intercept': False, 'positive': True}. Best is trial 143 with value: 0.11956207996235886.\n",
      "[I 2025-05-25 09:50:42,028] Trial 226 finished with value: 0.11956203582718143 and parameters: {'alpha': 980.4537171214512, 'tol': 0.009953876874424322, 'fit_intercept': False, 'positive': True}. Best is trial 143 with value: 0.11956207996235886.\n",
      "[I 2025-05-25 09:50:42,264] Trial 227 finished with value: 0.11956204046380592 and parameters: {'alpha': 982.3708191363406, 'tol': 0.009921056879096437, 'fit_intercept': False, 'positive': True}. Best is trial 143 with value: 0.11956207996235886.\n",
      "[I 2025-05-25 09:50:44,076] Trial 228 finished with value: 0.11942857166147562 and parameters: {'alpha': 999.7597997857814, 'tol': 0.008718659833480785, 'fit_intercept': False, 'positive': True}. Best is trial 143 with value: 0.11956207996235886.\n",
      "[I 2025-05-25 09:50:44,692] Trial 229 finished with value: 0.1194285109112796 and parameters: {'alpha': 987.8065384508442, 'tol': 0.008865718872002222, 'fit_intercept': False, 'positive': True}. Best is trial 143 with value: 0.11956207996235886.\n",
      "[I 2025-05-25 09:50:45,567] Trial 230 finished with value: 0.1194276876070131 and parameters: {'alpha': 826.3338778202639, 'tol': 0.008291858945361736, 'fit_intercept': False, 'positive': True}. Best is trial 143 with value: 0.11956207996235886.\n",
      "[I 2025-05-25 09:50:46,003] Trial 231 finished with value: 0.11942852905747292 and parameters: {'alpha': 991.3764435959056, 'tol': 0.009188385523508586, 'fit_intercept': False, 'positive': True}. Best is trial 143 with value: 0.11956207996235886.\n",
      "[I 2025-05-25 09:50:47,689] Trial 232 finished with value: 0.11956207039611555 and parameters: {'alpha': 994.7501291843228, 'tol': 0.009685524026659863, 'fit_intercept': False, 'positive': True}. Best is trial 143 with value: 0.11956207996235886.\n",
      "[I 2025-05-25 09:50:48,028] Trial 233 finished with value: 0.11956202306995607 and parameters: {'alpha': 975.1796855346763, 'tol': 0.009879987472747532, 'fit_intercept': False, 'positive': True}. Best is trial 143 with value: 0.11956207996235886.\n",
      "[I 2025-05-25 09:50:49,123] Trial 234 finished with value: 0.11956176213350904 and parameters: {'alpha': 867.5261085794497, 'tol': 0.009983238517000052, 'fit_intercept': False, 'positive': True}. Best is trial 143 with value: 0.11956207996235886.\n",
      "[I 2025-05-25 09:50:49,552] Trial 235 finished with value: 0.11956204752036259 and parameters: {'alpha': 985.288745468476, 'tol': 0.009628553963120082, 'fit_intercept': False, 'positive': True}. Best is trial 143 with value: 0.11956207996235886.\n",
      "[I 2025-05-25 09:50:51,439] Trial 236 finished with value: 0.11956206893975208 and parameters: {'alpha': 994.1476819732218, 'tol': 0.009706464042718611, 'fit_intercept': False, 'positive': True}. Best is trial 143 with value: 0.11956207996235886.\n",
      "[I 2025-05-25 09:50:51,673] Trial 237 finished with value: 0.11956204006530705 and parameters: {'alpha': 982.2060468330702, 'tol': 0.00988044333537223, 'fit_intercept': False, 'positive': True}. Best is trial 143 with value: 0.11956207996235886.\n",
      "[I 2025-05-25 09:50:52,901] Trial 238 finished with value: 0.11956205726755957 and parameters: {'alpha': 989.3197762742926, 'tol': 0.00953890261717585, 'fit_intercept': False, 'positive': True}. Best is trial 143 with value: 0.11956207996235886.\n",
      "[I 2025-05-25 09:50:53,109] Trial 239 finished with value: 0.11956191240862024 and parameters: {'alpha': 929.4730172676288, 'tol': 0.009963005539067094, 'fit_intercept': False, 'positive': True}. Best is trial 143 with value: 0.11956207996235886.\n",
      "[I 2025-05-25 09:50:55,044] Trial 240 finished with value: 0.11956207981100238 and parameters: {'alpha': 998.6450608466815, 'tol': 0.009846930331598313, 'fit_intercept': False, 'positive': True}. Best is trial 143 with value: 0.11956207996235886.\n",
      "[I 2025-05-25 09:50:55,440] Trial 241 finished with value: 0.1195619774729996 and parameters: {'alpha': 956.33747588182, 'tol': 0.009974819328864123, 'fit_intercept': False, 'positive': True}. Best is trial 143 with value: 0.11956207996235886.\n",
      "[I 2025-05-25 09:50:56,169] Trial 242 finished with value: 0.1172184467109784 and parameters: {'alpha': 938.7427298636318, 'tol': 0.009884900073062466, 'fit_intercept': False, 'positive': False}. Best is trial 143 with value: 0.11956207996235886.\n",
      "[I 2025-05-25 09:50:56,980] Trial 243 finished with value: 0.11956205183342468 and parameters: {'alpha': 987.0723736879345, 'tol': 0.009747599465257738, 'fit_intercept': False, 'positive': True}. Best is trial 143 with value: 0.11956207996235886.\n",
      "[I 2025-05-25 09:50:58,479] Trial 244 finished with value: 0.11956205504341084 and parameters: {'alpha': 988.3999098403555, 'tol': 0.009880834169708579, 'fit_intercept': False, 'positive': True}. Best is trial 143 with value: 0.11956207996235886.\n",
      "[I 2025-05-25 09:50:58,811] Trial 245 finished with value: 0.1172643037092597 and parameters: {'alpha': 990.125214013344, 'tol': 0.009641986709521166, 'fit_intercept': False, 'positive': False}. Best is trial 143 with value: 0.11956207996235886.\n",
      "[I 2025-05-25 09:50:59,813] Trial 246 finished with value: 0.11956202459106353 and parameters: {'alpha': 975.8084814392372, 'tol': 0.009846915347310272, 'fit_intercept': False, 'positive': True}. Best is trial 143 with value: 0.11956207996235886.\n",
      "[I 2025-05-25 09:51:00,438] Trial 247 finished with value: 0.11942761691110851 and parameters: {'alpha': 812.5135724416068, 'tol': 0.00845599417045852, 'fit_intercept': False, 'positive': True}. Best is trial 143 with value: 0.11956207996235886.\n",
      "[I 2025-05-25 09:51:01,496] Trial 248 finished with value: 0.11942852406447044 and parameters: {'alpha': 990.3941217913389, 'tol': 0.007697699011891525, 'fit_intercept': False, 'positive': True}. Best is trial 143 with value: 0.11956207996235886.\n",
      "[I 2025-05-25 09:51:01,687] Trial 249 finished with value: 0.11956207667691872 and parameters: {'alpha': 997.348431512766, 'tol': 0.00973176811823704, 'fit_intercept': False, 'positive': True}. Best is trial 143 with value: 0.11956207996235886.\n"
     ]
    }
   ],
   "source": [
    "def objective(trial):    \n",
    "    params = {\n",
    "        \"random_state\": CFG.seed,\n",
    "        \"alpha\": trial.suggest_float(\"alpha\", 0, 1000),\n",
    "        \"tol\": trial.suggest_float(\"tol\", 1e-6, 1e-2),\n",
    "        \"fit_intercept\": trial.suggest_categorical(\"fit_intercept\", [True, False]),\n",
    "        \"positive\": trial.suggest_categorical(\"positive\", [True, False])\n",
    "    }\n",
    "    \n",
    "    trainer = Trainer(Ridge(**params))\n",
    "    return trainer.tune(X, y)\n",
    "\n",
    "if CFG.run_optuna:\n",
    "    sampler = optuna.samplers.TPESampler(seed=CFG.seed, multivariate=True)\n",
    "    study = optuna.create_study(direction=\"maximize\", sampler=sampler)\n",
    "    study.optimize(objective, n_trials=CFG.n_optuna_trials, n_jobs=-1, catch=(ValueError,))\n",
    "    best_params = study.best_params\n",
    "\n",
    "    ridge_params = {\n",
    "        \"random_state\": CFG.seed,\n",
    "        \"alpha\": best_params[\"alpha\"],\n",
    "        \"tol\": best_params[\"tol\"],\n",
    "        \"fit_intercept\": best_params[\"fit_intercept\"],\n",
    "        \"positive\": best_params[\"positive\"]\n",
    "    }\n",
    "else:\n",
    "    ridge_params = {\n",
    "        \"random_state\": CFG.seed\n",
    "    }"
   ]
  },
  {
   "cell_type": "code",
   "execution_count": 15,
   "id": "ebfca8fb",
   "metadata": {
    "execution": {
     "iopub.execute_input": "2025-05-25T09:51:01.737785Z",
     "iopub.status.busy": "2025-05-25T09:51:01.737437Z",
     "iopub.status.idle": "2025-05-25T09:51:02.646184Z",
     "shell.execute_reply": "2025-05-25T09:51:02.645256Z"
    },
    "papermill": {
     "duration": 0.932092,
     "end_time": "2025-05-25T09:51:02.647881",
     "exception": false,
     "start_time": "2025-05-25T09:51:01.715789",
     "status": "completed"
    },
    "tags": []
   },
   "outputs": [
    {
     "name": "stdout",
     "output_type": "stream",
     "text": [
      "Training Ridge\n",
      "\n",
      "--- Fold 0 - Score: 0.191853\n",
      "--- Fold 1 - Score: 0.123223\n",
      "--- Fold 2 - Score: 0.059543\n",
      "--- Fold 3 - Score: 0.148057\n",
      "--- Fold 4 - Score: 0.075135\n",
      "\n",
      "------ Overall Score: 0.101931 - Mean Score: 0.119562 ± 0.048223\n"
     ]
    }
   ],
   "source": [
    "ridge_trainer = Trainer(Ridge(**ridge_params))\n",
    "\n",
    "_, ridge_test_preds, scores[\"Ridge (ensemble)\"] = ridge_trainer.fit_predict(X, y, X_test)"
   ]
  },
  {
   "cell_type": "markdown",
   "id": "1f9cbf81",
   "metadata": {
    "papermill": {
     "duration": 0.020115,
     "end_time": "2025-05-25T09:51:02.688969",
     "exception": false,
     "start_time": "2025-05-25T09:51:02.668854",
     "status": "completed"
    },
    "tags": []
   },
   "source": [
    "# Submission"
   ]
  },
  {
   "cell_type": "code",
   "execution_count": 16,
   "id": "145c53a1",
   "metadata": {
    "execution": {
     "iopub.execute_input": "2025-05-25T09:51:02.731877Z",
     "iopub.status.busy": "2025-05-25T09:51:02.730912Z",
     "iopub.status.idle": "2025-05-25T09:51:04.316462Z",
     "shell.execute_reply": "2025-05-25T09:51:04.315594Z"
    },
    "papermill": {
     "duration": 1.608603,
     "end_time": "2025-05-25T09:51:04.318015",
     "exception": false,
     "start_time": "2025-05-25T09:51:02.709412",
     "status": "completed"
    },
    "tags": []
   },
   "outputs": [
    {
     "data": {
      "text/html": [
       "<div>\n",
       "<style scoped>\n",
       "    .dataframe tbody tr th:only-of-type {\n",
       "        vertical-align: middle;\n",
       "    }\n",
       "\n",
       "    .dataframe tbody tr th {\n",
       "        vertical-align: top;\n",
       "    }\n",
       "\n",
       "    .dataframe thead th {\n",
       "        text-align: right;\n",
       "    }\n",
       "</style>\n",
       "<table border=\"1\" class=\"dataframe\">\n",
       "  <thead>\n",
       "    <tr style=\"text-align: right;\">\n",
       "      <th></th>\n",
       "      <th>ID</th>\n",
       "      <th>prediction</th>\n",
       "    </tr>\n",
       "  </thead>\n",
       "  <tbody>\n",
       "    <tr>\n",
       "      <th>0</th>\n",
       "      <td>1</td>\n",
       "      <td>0.083148</td>\n",
       "    </tr>\n",
       "    <tr>\n",
       "      <th>1</th>\n",
       "      <td>2</td>\n",
       "      <td>0.012085</td>\n",
       "    </tr>\n",
       "    <tr>\n",
       "      <th>2</th>\n",
       "      <td>3</td>\n",
       "      <td>0.047164</td>\n",
       "    </tr>\n",
       "    <tr>\n",
       "      <th>3</th>\n",
       "      <td>4</td>\n",
       "      <td>-0.051744</td>\n",
       "    </tr>\n",
       "    <tr>\n",
       "      <th>4</th>\n",
       "      <td>5</td>\n",
       "      <td>0.165294</td>\n",
       "    </tr>\n",
       "  </tbody>\n",
       "</table>\n",
       "</div>"
      ],
      "text/plain": [
       "   ID  prediction\n",
       "0   1    0.083148\n",
       "1   2    0.012085\n",
       "2   3    0.047164\n",
       "3   4   -0.051744\n",
       "4   5    0.165294"
      ]
     },
     "execution_count": 16,
     "metadata": {},
     "output_type": "execute_result"
    }
   ],
   "source": [
    "sub = pd.read_csv(CFG.sample_sub_path)\n",
    "sub[\"prediction\"] = ridge_test_preds\n",
    "sub.to_csv(f\"sub_ridge_{np.mean(scores['Ridge (ensemble)']):.6f}.csv\", index=False)\n",
    "sub.head()"
   ]
  },
  {
   "cell_type": "markdown",
   "id": "38308dec",
   "metadata": {
    "papermill": {
     "duration": 0.020304,
     "end_time": "2025-05-25T09:51:04.359738",
     "exception": false,
     "start_time": "2025-05-25T09:51:04.339434",
     "status": "completed"
    },
    "tags": []
   },
   "source": [
    "# Results"
   ]
  },
  {
   "cell_type": "code",
   "execution_count": 17,
   "id": "b6c0aee8",
   "metadata": {
    "execution": {
     "iopub.execute_input": "2025-05-25T09:51:04.402709Z",
     "iopub.status.busy": "2025-05-25T09:51:04.401767Z",
     "iopub.status.idle": "2025-05-25T09:51:04.888051Z",
     "shell.execute_reply": "2025-05-25T09:51:04.887130Z"
    },
    "papermill": {
     "duration": 0.50943,
     "end_time": "2025-05-25T09:51:04.889675",
     "exception": false,
     "start_time": "2025-05-25T09:51:04.380245",
     "status": "completed"
    },
    "tags": []
   },
   "outputs": [
    {
     "data": {
      "image/png": "[encoded data removed]",
      "text/plain": [
       "<Figure size 1500x200 with 2 Axes>"
      ]
     },
     "metadata": {},
     "output_type": "display_data"
    }
   ],
   "source": [
    "scores = pd.DataFrame(scores)\n",
    "mean_scores = scores.mean().sort_values(ascending=False)\n",
    "order = scores.mean().sort_values(ascending=False).index.tolist()\n",
    "\n",
    "min_score = mean_scores.min()\n",
    "max_score = mean_scores.max()\n",
    "padding = (max_score - min_score) * 0.5\n",
    "lower_limit = min_score - padding\n",
    "upper_limit = max_score + padding\n",
    "\n",
    "fig, axs = plt.subplots(1, 2, figsize=(15, scores.shape[1] * 0.5))\n",
    "\n",
    "boxplot = sns.boxplot(data=scores, order=order, ax=axs[0], orient=\"h\", color=\"grey\")\n",
    "axs[0].set_title(f\"Fold Score\")\n",
    "axs[0].set_xlabel(\"\")\n",
    "axs[0].set_ylabel(\"\")\n",
    "\n",
    "barplot = sns.barplot(x=mean_scores.values, y=mean_scores.index, ax=axs[1], color=\"grey\")\n",
    "axs[1].set_title(f\"Average Score\")\n",
    "axs[1].set_xlabel(\"\")\n",
    "axs[1].set_xlim(left=lower_limit, right=upper_limit)\n",
    "axs[1].set_ylabel(\"\")\n",
    "\n",
    "for i, (score, model) in enumerate(zip(mean_scores.values, mean_scores.index)):\n",
    "    color = \"cyan\" if \"ensemble\" in model.lower() else \"grey\"\n",
    "    barplot.patches[i].set_facecolor(color)\n",
    "    boxplot.patches[i].set_facecolor(color)\n",
    "    barplot.text(score, i, round(score, 6), va=\"center\")\n",
    "\n",
    "plt.tight_layout()\n",
    "plt.show()"
   ]
  }
 ],
 "metadata": {
  "kaggle": {
   "accelerator": "none",
   "dataSources": [
    {
     "databundleVersionId": 11418275,
     "sourceId": 96164,
     "sourceType": "competition"
    }
   ],
   "dockerImageVersionId": 31040,
   "isGpuEnabled": false,
   "isInternetEnabled": true,
   "language": "python",
   "sourceType": "notebook"
  },
  "kernelspec": {
   "display_name": "Python 3",
   "language": "python",
   "name": "python3"
  },
  "language_info": {
   "codemirror_mode": {
    "name": "ipython",
    "version": 3
   },
   "file_extension": ".py",
   "mimetype": "text/x-python",
   "name": "python",
   "nbconvert_exporter": "python",
   "pygments_lexer": "ipython3",
   "version": "3.11.11"
  },
  "papermill": {
   "default_parameters": {},
   "duration": 4924.040338,
   "end_time": "2025-05-25T09:51:07.341153",
   "environment_variables": {},
   "exception": null,
   "input_path": "__notebook__.ipynb",
   "output_path": "__notebook__.ipynb",
   "parameters": {},
   "start_time": "2025-05-25T08:29:03.300815",
   "version": "2.6.0"
  }
 },
 "nbformat": 4,
 "nbformat_minor": 5
}
