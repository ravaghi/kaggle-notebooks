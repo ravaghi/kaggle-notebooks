{
 "cells": [
  {
   "cell_type": "code",
   "execution_count": 1,
   "id": "aff91842",
   "metadata": {
    "_kg_hide-output": true,
    "execution": {
     "iopub.execute_input": "2025-05-24T15:33:23.745227Z",
     "iopub.status.busy": "2025-05-24T15:33:23.744800Z",
     "iopub.status.idle": "2025-05-24T15:33:34.399945Z",
     "shell.execute_reply": "2025-05-24T15:33:34.398732Z"
    },
    "papermill": {
     "duration": 10.664275,
     "end_time": "2025-05-24T15:33:34.402186",
     "exception": false,
     "start_time": "2025-05-24T15:33:23.737911",
     "status": "completed"
    },
    "scrolled": true,
    "tags": []
   },
   "outputs": [
    {
     "name": "stdout",
     "output_type": "stream",
     "text": [
      "Collecting scikit-learn==1.5.2\r\n",
      "  Downloading scikit_learn-1.5.2-cp311-cp311-manylinux_2_17_x86_64.manylinux2014_x86_64.whl.metadata (13 kB)\r\n",
      "Requirement already satisfied: numpy>=1.19.5 in /usr/local/lib/python3.11/dist-packages (from scikit-learn==1.5.2) (1.26.4)\r\n",
      "Requirement already satisfied: scipy>=1.6.0 in /usr/local/lib/python3.11/dist-packages (from scikit-learn==1.5.2) (1.15.2)\r\n",
      "Requirement already satisfied: joblib>=1.2.0 in /usr/local/lib/python3.11/dist-packages (from scikit-learn==1.5.2) (1.5.0)\r\n",
      "Requirement already satisfied: threadpoolctl>=3.1.0 in /usr/local/lib/python3.11/dist-packages (from scikit-learn==1.5.2) (3.6.0)\r\n",
      "Requirement already satisfied: mkl_fft in /usr/local/lib/python3.11/dist-packages (from numpy>=1.19.5->scikit-learn==1.5.2) (1.3.8)\r\n",
      "Requirement already satisfied: mkl_random in /usr/local/lib/python3.11/dist-packages (from numpy>=1.19.5->scikit-learn==1.5.2) (1.2.4)\r\n",
      "Requirement already satisfied: mkl_umath in /usr/local/lib/python3.11/dist-packages (from numpy>=1.19.5->scikit-learn==1.5.2) (0.1.1)\r\n",
      "Requirement already satisfied: mkl in /usr/local/lib/python3.11/dist-packages (from numpy>=1.19.5->scikit-learn==1.5.2) (2025.1.0)\r\n",
      "Requirement already satisfied: tbb4py in /usr/local/lib/python3.11/dist-packages (from numpy>=1.19.5->scikit-learn==1.5.2) (2022.1.0)\r\n",
      "Requirement already satisfied: mkl-service in /usr/local/lib/python3.11/dist-packages (from numpy>=1.19.5->scikit-learn==1.5.2) (2.4.1)\r\n",
      "Requirement already satisfied: intel-openmp<2026,>=2024 in /usr/local/lib/python3.11/dist-packages (from mkl->numpy>=1.19.5->scikit-learn==1.5.2) (2024.2.0)\r\n",
      "Requirement already satisfied: tbb==2022.* in /usr/local/lib/python3.11/dist-packages (from mkl->numpy>=1.19.5->scikit-learn==1.5.2) (2022.1.0)\r\n",
      "Requirement already satisfied: tcmlib==1.* in /usr/local/lib/python3.11/dist-packages (from tbb==2022.*->mkl->numpy>=1.19.5->scikit-learn==1.5.2) (1.3.0)\r\n",
      "Requirement already satisfied: intel-cmplr-lib-rt in /usr/local/lib/python3.11/dist-packages (from mkl_umath->numpy>=1.19.5->scikit-learn==1.5.2) (2024.2.0)\r\n",
      "Requirement already satisfied: intel-cmplr-lib-ur==2024.2.0 in /usr/local/lib/python3.11/dist-packages (from intel-openmp<2026,>=2024->mkl->numpy>=1.19.5->scikit-learn==1.5.2) (2024.2.0)\r\n",
      "Downloading scikit_learn-1.5.2-cp311-cp311-manylinux_2_17_x86_64.manylinux2014_x86_64.whl (13.3 MB)\r\n",
      "\u001b[2K   \u001b[90m━━━━━━━━━━━━━━━━━━━━━━━━━━━━━━━━━━━━━━━━\u001b[0m \u001b[32m13.3/13.3 MB\u001b[0m \u001b[31m78.7 MB/s\u001b[0m eta \u001b[36m0:00:00\u001b[0m\r\n",
      "\u001b[?25hInstalling collected packages: scikit-learn\r\n",
      "  Attempting uninstall: scikit-learn\r\n",
      "    Found existing installation: scikit-learn 1.2.2\r\n",
      "    Uninstalling scikit-learn-1.2.2:\r\n",
      "      Successfully uninstalled scikit-learn-1.2.2\r\n",
      "\u001b[31mERROR: pip's dependency resolver does not currently take into account all the packages that are installed. This behaviour is the source of the following dependency conflicts.\r\n",
      "cesium 0.12.4 requires numpy<3.0,>=2.0, but you have numpy 1.26.4 which is incompatible.\u001b[0m\u001b[31m\r\n",
      "\u001b[0mSuccessfully installed scikit-learn-1.5.2\r\n"
     ]
    }
   ],
   "source": [
    "!pip install scikit-learn==1.5.2"
   ]
  },
  {
   "cell_type": "markdown",
   "id": "1e1f0b87",
   "metadata": {
    "papermill": {
     "duration": 0.004859,
     "end_time": "2025-05-24T15:33:34.412562",
     "exception": false,
     "start_time": "2025-05-24T15:33:34.407703",
     "status": "completed"
    },
    "tags": []
   },
   "source": [
    "# Imports and configs"
   ]
  },
  {
   "cell_type": "code",
   "execution_count": 2,
   "id": "9f9e2054",
   "metadata": {
    "_kg_hide-output": true,
    "execution": {
     "iopub.execute_input": "2025-05-24T15:33:34.424764Z",
     "iopub.status.busy": "2025-05-24T15:33:34.424362Z",
     "iopub.status.idle": "2025-05-24T15:33:44.856629Z",
     "shell.execute_reply": "2025-05-24T15:33:44.855656Z"
    },
    "papermill": {
     "duration": 10.44087,
     "end_time": "2025-05-24T15:33:44.858474",
     "exception": false,
     "start_time": "2025-05-24T15:33:34.417604",
     "status": "completed"
    },
    "tags": []
   },
   "outputs": [],
   "source": [
    "from sklearn.model_selection import KFold\n",
    "from sklearn.linear_model import Ridge\n",
    "from lightgbm import LGBMRegressor\n",
    "from scipy.stats import pearsonr\n",
    "from xgboost import XGBRegressor\n",
    "from sklearn.base import clone\n",
    "import matplotlib.pyplot as plt\n",
    "import seaborn as sns\n",
    "import pandas as pd\n",
    "import numpy as np\n",
    "import warnings\n",
    "import optuna\n",
    "import gc\n",
    "\n",
    "warnings.filterwarnings(\"ignore\")"
   ]
  },
  {
   "cell_type": "code",
   "execution_count": 3,
   "id": "7a11b289",
   "metadata": {
    "execution": {
     "iopub.execute_input": "2025-05-24T15:33:44.870560Z",
     "iopub.status.busy": "2025-05-24T15:33:44.869491Z",
     "iopub.status.idle": "2025-05-24T15:33:44.874982Z",
     "shell.execute_reply": "2025-05-24T15:33:44.874185Z"
    },
    "papermill": {
     "duration": 0.012894,
     "end_time": "2025-05-24T15:33:44.876520",
     "exception": false,
     "start_time": "2025-05-24T15:33:44.863626",
     "status": "completed"
    },
    "tags": []
   },
   "outputs": [],
   "source": [
    "class CFG:\n",
    "    train_path = \"/kaggle/input/drw-crypto-market-prediction/train.parquet\"\n",
    "    test_path = \"/kaggle/input/drw-crypto-market-prediction/test.parquet\"\n",
    "    sample_sub_path = \"/kaggle/input/drw-crypto-market-prediction/sample_submission.csv\"\n",
    "\n",
    "    target = \"label\"\n",
    "    n_folds = 5\n",
    "    seed = 42\n",
    "\n",
    "    run_optuna = True\n",
    "    n_optuna_trials = 250"
   ]
  },
  {
   "cell_type": "markdown",
   "id": "bf10d7e0",
   "metadata": {
    "papermill": {
     "duration": 0.004512,
     "end_time": "2025-05-24T15:33:44.885857",
     "exception": false,
     "start_time": "2025-05-24T15:33:44.881345",
     "status": "completed"
    },
    "tags": []
   },
   "source": [
    "# Data loading and preprocessing"
   ]
  },
  {
   "cell_type": "code",
   "execution_count": 4,
   "id": "0684277f",
   "metadata": {
    "_kg_hide-input": true,
    "execution": {
     "iopub.execute_input": "2025-05-24T15:33:44.896575Z",
     "iopub.status.busy": "2025-05-24T15:33:44.896234Z",
     "iopub.status.idle": "2025-05-24T15:33:44.906966Z",
     "shell.execute_reply": "2025-05-24T15:33:44.905897Z"
    },
    "papermill": {
     "duration": 0.018294,
     "end_time": "2025-05-24T15:33:44.908817",
     "exception": false,
     "start_time": "2025-05-24T15:33:44.890523",
     "status": "completed"
    },
    "tags": []
   },
   "outputs": [],
   "source": [
    "def reduce_mem_usage(dataframe, dataset):    \n",
    "    print('Reducing memory usage for:', dataset)\n",
    "    initial_mem_usage = dataframe.memory_usage().sum() / 1024**2\n",
    "    \n",
    "    for col in dataframe.columns:\n",
    "        col_type = dataframe[col].dtype\n",
    "\n",
    "        c_min = dataframe[col].min()\n",
    "        c_max = dataframe[col].max()\n",
    "        if str(col_type)[:3] == 'int':\n",
    "            if c_min > np.iinfo(np.int8).min and c_max < np.iinfo(np.int8).max:\n",
    "                dataframe[col] = dataframe[col].astype(np.int8)\n",
    "            elif c_min > np.iinfo(np.int16).min and c_max < np.iinfo(np.int16).max:\n",
    "                dataframe[col] = dataframe[col].astype(np.int16)\n",
    "            elif c_min > np.iinfo(np.int32).min and c_max < np.iinfo(np.int32).max:\n",
    "                dataframe[col] = dataframe[col].astype(np.int32)\n",
    "            elif c_min > np.iinfo(np.int64).min and c_max < np.iinfo(np.int64).max:\n",
    "                dataframe[col] = dataframe[col].astype(np.int64)\n",
    "        else:\n",
    "            if c_min > np.finfo(np.float16).min and c_max < np.finfo(np.float16).max:\n",
    "                dataframe[col] = dataframe[col].astype(np.float16)\n",
    "            elif c_min > np.finfo(np.float32).min and c_max < np.finfo(np.float32).max:\n",
    "                dataframe[col] = dataframe[col].astype(np.float32)\n",
    "            else:\n",
    "                dataframe[col] = dataframe[col].astype(np.float64)\n",
    "\n",
    "    final_mem_usage = dataframe.memory_usage().sum() / 1024**2\n",
    "    print('--- Memory usage before: {:.2f} MB'.format(initial_mem_usage))\n",
    "    print('--- Memory usage after: {:.2f} MB'.format(final_mem_usage))\n",
    "    print('--- Decreased memory usage by {:.1f}%\\n'.format(100 * (initial_mem_usage - final_mem_usage) / initial_mem_usage))\n",
    "\n",
    "    return dataframe"
   ]
  },
  {
   "cell_type": "code",
   "execution_count": 5,
   "id": "bd54e740",
   "metadata": {
    "execution": {
     "iopub.execute_input": "2025-05-24T15:33:44.920233Z",
     "iopub.status.busy": "2025-05-24T15:33:44.919870Z",
     "iopub.status.idle": "2025-05-24T15:33:44.925407Z",
     "shell.execute_reply": "2025-05-24T15:33:44.924445Z"
    },
    "papermill": {
     "duration": 0.013397,
     "end_time": "2025-05-24T15:33:44.927415",
     "exception": false,
     "start_time": "2025-05-24T15:33:44.914018",
     "status": "completed"
    },
    "tags": []
   },
   "outputs": [],
   "source": [
    "cols_to_drop = [\n",
    "    'X697', 'X698', 'X699', 'X700', 'X701', 'X702', 'X703', 'X704', 'X705', 'X706', \n",
    "    'X707', 'X708', 'X709', 'X710', 'X711', 'X712', 'X713', 'X714', 'X715', 'X716',\n",
    "    'X717', 'X864', 'X867', 'X869', 'X870', 'X871', 'X872', 'X104', 'X110', 'X116',\n",
    "    'X122', 'X128', 'X134', 'X140', 'X146', 'X152', 'X158', 'X164', 'X170', 'X176',\n",
    "    'X182', 'X351', 'X357', 'X363', 'X369', 'X375', 'X381', 'X387', 'X393', 'X399',\n",
    "    'X405', 'X411', 'X417', 'X423', 'X429'\n",
    "]"
   ]
  },
  {
   "cell_type": "code",
   "execution_count": 6,
   "id": "e1e8aaa0",
   "metadata": {
    "execution": {
     "iopub.execute_input": "2025-05-24T15:33:44.939646Z",
     "iopub.status.busy": "2025-05-24T15:33:44.939279Z",
     "iopub.status.idle": "2025-05-24T15:35:04.827570Z",
     "shell.execute_reply": "2025-05-24T15:35:04.825959Z"
    },
    "papermill": {
     "duration": 79.897569,
     "end_time": "2025-05-24T15:35:04.830440",
     "exception": false,
     "start_time": "2025-05-24T15:33:44.932871",
     "status": "completed"
    },
    "tags": []
   },
   "outputs": [
    {
     "name": "stdout",
     "output_type": "stream",
     "text": [
      "Reducing memory usage for: train\n",
      "--- Memory usage before: 3374.26 MB\n",
      "--- Memory usage after: 843.57 MB\n",
      "--- Decreased memory usage by 75.0%\n",
      "\n",
      "Reducing memory usage for: test\n",
      "--- Memory usage before: 3448.84 MB\n",
      "--- Memory usage after: 862.21 MB\n",
      "--- Decreased memory usage by 75.0%\n",
      "\n"
     ]
    }
   ],
   "source": [
    "train = pd.read_parquet(CFG.train_path).reset_index(drop=True)\n",
    "test = pd.read_parquet(CFG.test_path).reset_index(drop=True)\n",
    "\n",
    "train = train.drop(columns=cols_to_drop)\n",
    "test = test.drop(columns=[\"label\"] + cols_to_drop)\n",
    "\n",
    "train = reduce_mem_usage(train, \"train\")\n",
    "test = reduce_mem_usage(test, \"test\")\n",
    "\n",
    "X = train.drop(CFG.target, axis=1)\n",
    "y = train[CFG.target]\n",
    "X_test = test"
   ]
  },
  {
   "cell_type": "markdown",
   "id": "214ba0e2",
   "metadata": {
    "papermill": {
     "duration": 0.005262,
     "end_time": "2025-05-24T15:35:04.843594",
     "exception": false,
     "start_time": "2025-05-24T15:35:04.838332",
     "status": "completed"
    },
    "tags": []
   },
   "source": [
    "# Training base models"
   ]
  },
  {
   "cell_type": "code",
   "execution_count": 7,
   "id": "18eae784",
   "metadata": {
    "_kg_hide-input": true,
    "execution": {
     "iopub.execute_input": "2025-05-24T15:35:04.857001Z",
     "iopub.status.busy": "2025-05-24T15:35:04.856533Z",
     "iopub.status.idle": "2025-05-24T15:35:04.870697Z",
     "shell.execute_reply": "2025-05-24T15:35:04.869456Z"
    },
    "papermill": {
     "duration": 0.0237,
     "end_time": "2025-05-24T15:35:04.872670",
     "exception": false,
     "start_time": "2025-05-24T15:35:04.848970",
     "status": "completed"
    },
    "tags": []
   },
   "outputs": [],
   "source": [
    "class Trainer:\n",
    "    def __init__(self, model):\n",
    "        self.model = model\n",
    "\n",
    "    def fit_predict(self, X, y, X_test):\n",
    "        print(f\"Training {self.model.__class__.__name__}\\n\")\n",
    "\n",
    "        fold_scores = []\n",
    "        oof_preds = np.zeros(X.shape[0])\n",
    "        test_preds = np.zeros(X_test.shape[0])\n",
    "\n",
    "        split = KFold(n_splits=CFG.n_folds, shuffle=False).split(X, y)\n",
    "        for fold_idx, (train_idx, val_idx) in enumerate(split):\n",
    "\n",
    "            X_train, X_val = X.iloc[train_idx], X.iloc[val_idx]\n",
    "            y_train, y_val = y[train_idx], y[val_idx]\n",
    "\n",
    "            model = clone(self.model)\n",
    "            model.fit(X_train, y_train)\n",
    "\n",
    "            y_preds = model.predict(X_val)\n",
    "            oof_preds[val_idx] = y_preds\n",
    "            \n",
    "            temp_test_preds = model.predict(X_test)\n",
    "            test_preds += temp_test_preds / CFG.n_folds\n",
    "\n",
    "            fold_score = pearsonr(y_val, y_preds)[0]\n",
    "            fold_scores.append(fold_score)\n",
    "\n",
    "            print(f\"--- Fold {fold_idx} - Score: {fold_score:.6f}\")\n",
    "\n",
    "            del X_train, y_train, X_val, y_val, y_preds, model, temp_test_preds\n",
    "            gc.collect()\n",
    "\n",
    "        overall_score = pearsonr(y, oof_preds)[0]\n",
    "        mean_score = np.mean(fold_scores)\n",
    "        std_score = np.std(fold_scores)\n",
    "        \n",
    "        print(f\"\\n------ Overall Score: {overall_score:.6f} - Mean Score: {mean_score:.6f} ± {std_score:.6f}\")\n",
    "        \n",
    "        return oof_preds, test_preds, fold_scores\n",
    "    \n",
    "    def tune(self, X, y):\n",
    "        oof_preds = np.zeros(X.shape[0])\n",
    "        \n",
    "        split = KFold(n_splits=CFG.n_folds, shuffle=False).split(X, y)\n",
    "        for train_idx, val_idx in split:\n",
    "            X_train, X_val = X.iloc[train_idx], X.iloc[val_idx]\n",
    "            y_train, y_val = y[train_idx], y[val_idx]\n",
    "\n",
    "            model = clone(self.model)\n",
    "            model.fit(X_train, y_train)\n",
    "\n",
    "            y_preds = model.predict(X_val)\n",
    "            oof_preds[val_idx] = y_preds\n",
    "\n",
    "            del X_train, y_train, X_val, y_val, y_preds, model\n",
    "            gc.collect()\n",
    "\n",
    "        return pearsonr(y, oof_preds)[0]"
   ]
  },
  {
   "cell_type": "code",
   "execution_count": 8,
   "id": "f6f01be5",
   "metadata": {
    "_kg_hide-input": true,
    "_kg_hide-output": true,
    "execution": {
     "iopub.execute_input": "2025-05-24T15:35:04.887439Z",
     "iopub.status.busy": "2025-05-24T15:35:04.887034Z",
     "iopub.status.idle": "2025-05-24T15:35:04.895664Z",
     "shell.execute_reply": "2025-05-24T15:35:04.894353Z"
    },
    "papermill": {
     "duration": 0.016764,
     "end_time": "2025-05-24T15:35:04.897359",
     "exception": false,
     "start_time": "2025-05-24T15:35:04.880595",
     "status": "completed"
    },
    "tags": []
   },
   "outputs": [],
   "source": [
    "lgbm_params = {\n",
    "    \"boosting_type\": \"gbdt\",\n",
    "    \"colsample_bytree\": 0.5242042724303907,\n",
    "    \"learning_rate\": 0.014470794293130388,\n",
    "    \"min_child_samples\": 47,\n",
    "    \"min_child_weight\": 0.1936457311991661,\n",
    "    \"n_estimators\": 441,\n",
    "    \"n_jobs\": -1,\n",
    "    \"num_leaves\": 65,\n",
    "    \"random_state\": 42,\n",
    "    \"reg_alpha\": 76.69015407123774,\n",
    "    \"reg_lambda\": 78.57981723239948,\n",
    "    \"subsample\": 0.35497610282716086,\n",
    "    \"verbose\": -1\n",
    "}\n",
    "\n",
    "lgbm_goss_params = {\n",
    "    \"boosting_type\": \"goss\",\n",
    "    \"colsample_bytree\": 0.32266516869045214,\n",
    "    \"learning_rate\": 0.013684657681610528,\n",
    "    \"min_child_samples\": 47,\n",
    "    \"min_child_weight\": 0.652800548618323,\n",
    "    \"n_estimators\": 268,\n",
    "    \"n_jobs\": -1,\n",
    "    \"num_leaves\": 25,\n",
    "    \"random_state\": 42,\n",
    "    \"reg_alpha\": 24.43093150663448,\n",
    "    \"reg_lambda\": 39.81794248056326,\n",
    "    \"subsample\": 0.21026644887863555,\n",
    "    \"verbose\": -1\n",
    "}\n",
    "\n",
    "xgb_params = {\n",
    "    \"colsample_bylevel\": 0.4634967322919854,\n",
    "    \"colsample_bynode\": 0.6046331585629835,\n",
    "    \"colsample_bytree\": 0.11495541333509408,\n",
    "    \"gamma\": 1.0397769239502863,\n",
    "    \"learning_rate\": 0.09622196913585954,\n",
    "    \"max_depth\": 40,\n",
    "    \"max_leaves\": 19,\n",
    "    \"min_child_weight\": 76,\n",
    "    \"n_estimators\": 679,\n",
    "    \"n_jobs\": -1,\n",
    "    \"random_state\": 42,\n",
    "    \"reg_alpha\": 65.41659225037377,\n",
    "    \"reg_lambda\": 19.907991015311545,\n",
    "    \"subsample\": 0.014465324175810368,\n",
    "    \"verbosity\": 0\n",
    "}"
   ]
  },
  {
   "cell_type": "code",
   "execution_count": 9,
   "id": "3d4a5e21",
   "metadata": {
    "execution": {
     "iopub.execute_input": "2025-05-24T15:35:04.910212Z",
     "iopub.status.busy": "2025-05-24T15:35:04.909822Z",
     "iopub.status.idle": "2025-05-24T15:35:04.915316Z",
     "shell.execute_reply": "2025-05-24T15:35:04.914285Z"
    },
    "papermill": {
     "duration": 0.013836,
     "end_time": "2025-05-24T15:35:04.917244",
     "exception": false,
     "start_time": "2025-05-24T15:35:04.903408",
     "status": "completed"
    },
    "tags": []
   },
   "outputs": [],
   "source": [
    "scores = {}\n",
    "oof_preds = {}\n",
    "test_preds = {}"
   ]
  },
  {
   "cell_type": "markdown",
   "id": "52bfc3e3",
   "metadata": {
    "papermill": {
     "duration": 0.004866,
     "end_time": "2025-05-24T15:35:04.927497",
     "exception": false,
     "start_time": "2025-05-24T15:35:04.922631",
     "status": "completed"
    },
    "tags": []
   },
   "source": [
    "## LightGBM (gbdt)"
   ]
  },
  {
   "cell_type": "code",
   "execution_count": 10,
   "id": "894c82bc",
   "metadata": {
    "execution": {
     "iopub.execute_input": "2025-05-24T15:35:04.940321Z",
     "iopub.status.busy": "2025-05-24T15:35:04.938984Z",
     "iopub.status.idle": "2025-05-24T15:58:53.764937Z",
     "shell.execute_reply": "2025-05-24T15:58:53.763857Z"
    },
    "papermill": {
     "duration": 1428.834977,
     "end_time": "2025-05-24T15:58:53.767618",
     "exception": false,
     "start_time": "2025-05-24T15:35:04.932641",
     "status": "completed"
    },
    "tags": []
   },
   "outputs": [
    {
     "name": "stdout",
     "output_type": "stream",
     "text": [
      "Training LGBMRegressor\n",
      "\n",
      "--- Fold 0 - Score: 0.172176\n",
      "--- Fold 1 - Score: 0.108129\n",
      "--- Fold 2 - Score: 0.047617\n",
      "--- Fold 3 - Score: 0.131234\n",
      "--- Fold 4 - Score: 0.065890\n",
      "\n",
      "------ Overall Score: 0.094881 - Mean Score: 0.105009 ± 0.044795\n"
     ]
    }
   ],
   "source": [
    "lgbm_trainer = Trainer(\n",
    "    LGBMRegressor(**lgbm_params)\n",
    ")\n",
    "\n",
    "oof_preds[\"LightGBM (gbdt)\"], test_preds[\"LightGBM (gbdt)\"], scores[\"LightGBM (gbdt)\"] = lgbm_trainer.fit_predict(X, y, X_test)"
   ]
  },
  {
   "cell_type": "markdown",
   "id": "68617283",
   "metadata": {
    "papermill": {
     "duration": 0.009965,
     "end_time": "2025-05-24T15:58:53.788395",
     "exception": false,
     "start_time": "2025-05-24T15:58:53.778430",
     "status": "completed"
    },
    "tags": []
   },
   "source": [
    "## LightGBM (goss)"
   ]
  },
  {
   "cell_type": "code",
   "execution_count": 11,
   "id": "932d9a91",
   "metadata": {
    "execution": {
     "iopub.execute_input": "2025-05-24T15:58:53.803060Z",
     "iopub.status.busy": "2025-05-24T15:58:53.802084Z",
     "iopub.status.idle": "2025-05-24T16:08:09.139855Z",
     "shell.execute_reply": "2025-05-24T16:08:09.138697Z"
    },
    "papermill": {
     "duration": 555.347367,
     "end_time": "2025-05-24T16:08:09.142159",
     "exception": false,
     "start_time": "2025-05-24T15:58:53.794792",
     "status": "completed"
    },
    "tags": []
   },
   "outputs": [
    {
     "name": "stdout",
     "output_type": "stream",
     "text": [
      "Training LGBMRegressor\n",
      "\n",
      "--- Fold 0 - Score: 0.139381\n",
      "--- Fold 1 - Score: 0.107386\n",
      "--- Fold 2 - Score: 0.060590\n",
      "--- Fold 3 - Score: 0.159686\n",
      "--- Fold 4 - Score: 0.078235\n",
      "\n",
      "------ Overall Score: 0.098311 - Mean Score: 0.109056 ± 0.036837\n"
     ]
    }
   ],
   "source": [
    "lgbm_goss_trainer = Trainer(LGBMRegressor(**lgbm_goss_params))\n",
    "\n",
    "oof_preds[\"LightGBM (goss)\"], test_preds[\"LightGBM (goss)\"], scores[\"LightGBM (goss)\"] = lgbm_goss_trainer.fit_predict(X, y, X_test)"
   ]
  },
  {
   "cell_type": "markdown",
   "id": "00f70af0",
   "metadata": {
    "papermill": {
     "duration": 0.005874,
     "end_time": "2025-05-24T16:08:09.156780",
     "exception": false,
     "start_time": "2025-05-24T16:08:09.150906",
     "status": "completed"
    },
    "tags": []
   },
   "source": [
    "## XGBoost"
   ]
  },
  {
   "cell_type": "code",
   "execution_count": 12,
   "id": "0a2a389d",
   "metadata": {
    "execution": {
     "iopub.execute_input": "2025-05-24T16:08:09.171541Z",
     "iopub.status.busy": "2025-05-24T16:08:09.171179Z",
     "iopub.status.idle": "2025-05-24T17:02:48.306337Z",
     "shell.execute_reply": "2025-05-24T17:02:48.302089Z"
    },
    "papermill": {
     "duration": 3279.147303,
     "end_time": "2025-05-24T17:02:48.310240",
     "exception": false,
     "start_time": "2025-05-24T16:08:09.162937",
     "status": "completed"
    },
    "tags": []
   },
   "outputs": [
    {
     "name": "stdout",
     "output_type": "stream",
     "text": [
      "Training XGBRegressor\n",
      "\n",
      "--- Fold 0 - Score: 0.176297\n",
      "--- Fold 1 - Score: 0.099319\n",
      "--- Fold 2 - Score: 0.083288\n",
      "--- Fold 3 - Score: 0.118652\n",
      "--- Fold 4 - Score: 0.056673\n",
      "\n",
      "------ Overall Score: 0.106179 - Mean Score: 0.106846 ± 0.040229\n"
     ]
    }
   ],
   "source": [
    "xgb_trainer = Trainer(XGBRegressor(**xgb_params))\n",
    "\n",
    "oof_preds[\"XGBoost\"], test_preds[\"XGBoost\"], scores[\"XGBoost\"] = xgb_trainer.fit_predict(X, y, X_test)"
   ]
  },
  {
   "cell_type": "markdown",
   "id": "2c973317",
   "metadata": {
    "papermill": {
     "duration": 0.026026,
     "end_time": "2025-05-24T17:02:48.365426",
     "exception": false,
     "start_time": "2025-05-24T17:02:48.339400",
     "status": "completed"
    },
    "tags": []
   },
   "source": [
    "# Ensembling with Ridge"
   ]
  },
  {
   "cell_type": "code",
   "execution_count": 13,
   "id": "cab03001",
   "metadata": {
    "execution": {
     "iopub.execute_input": "2025-05-24T17:02:48.411039Z",
     "iopub.status.busy": "2025-05-24T17:02:48.410698Z",
     "iopub.status.idle": "2025-05-24T17:02:48.444433Z",
     "shell.execute_reply": "2025-05-24T17:02:48.440867Z"
    },
    "papermill": {
     "duration": 0.057706,
     "end_time": "2025-05-24T17:02:48.449744",
     "exception": false,
     "start_time": "2025-05-24T17:02:48.392038",
     "status": "completed"
    },
    "tags": []
   },
   "outputs": [],
   "source": [
    "X = pd.DataFrame(oof_preds)\n",
    "X_test = pd.DataFrame(test_preds)"
   ]
  },
  {
   "cell_type": "code",
   "execution_count": 14,
   "id": "28a9261e",
   "metadata": {
    "_kg_hide-output": true,
    "execution": {
     "iopub.execute_input": "2025-05-24T17:02:48.499023Z",
     "iopub.status.busy": "2025-05-24T17:02:48.498381Z",
     "iopub.status.idle": "2025-05-24T17:06:53.801861Z",
     "shell.execute_reply": "2025-05-24T17:06:53.800611Z"
    },
    "papermill": {
     "duration": 245.332212,
     "end_time": "2025-05-24T17:06:53.804130",
     "exception": false,
     "start_time": "2025-05-24T17:02:48.471918",
     "status": "completed"
    },
    "scrolled": true,
    "tags": []
   },
   "outputs": [
    {
     "name": "stderr",
     "output_type": "stream",
     "text": [
      "[I 2025-05-24 17:02:48,520] A new study created in memory with name: no-name-5c8e54dd-8d0a-4a52-895e-a378f64b0d5c\n",
      "[I 2025-05-24 17:02:52,348] Trial 1 finished with value: 0.10003640378083146 and parameters: {'alpha': 58.29871778985631, 'tol': 0.0050173339253353055}. Best is trial 1 with value: 0.10003640378083146.\n",
      "[I 2025-05-24 17:02:52,365] Trial 0 finished with value: 0.10002585155691374 and parameters: {'alpha': 17.93062753030248, 'tol': 0.0057263153107753794}. Best is trial 1 with value: 0.10003640378083146.\n",
      "[I 2025-05-24 17:02:52,830] Trial 2 finished with value: 0.10004003333381059 and parameters: {'alpha': 73.03298107052288, 'tol': 0.004626970935454212}. Best is trial 2 with value: 0.10004003333381059.\n",
      "[I 2025-05-24 17:02:52,838] Trial 3 finished with value: 0.10004214071717112 and parameters: {'alpha': 81.80831895403257, 'tol': 0.0013820310930821333}. Best is trial 3 with value: 0.10004214071717112.\n",
      "[I 2025-05-24 17:02:56,250] Trial 5 finished with value: 0.10003224040027292 and parameters: {'alpha': 41.95308918062287, 'tol': 0.005767081011979757}. Best is trial 3 with value: 0.10004214071717112.\n",
      "[I 2025-05-24 17:02:56,262] Trial 4 finished with value: 0.10003948058590462 and parameters: {'alpha': 70.7586182186291, 'tol': 0.0015894907316698049}. Best is trial 3 with value: 0.10004214071717112.\n",
      "[I 2025-05-24 17:02:56,666] Trial 6 finished with value: 0.10002232851135738 and parameters: {'alpha': 5.190217620721227, 'tol': 0.003024145764682029}. Best is trial 3 with value: 0.10004214071717112.\n",
      "[I 2025-05-24 17:02:56,860] Trial 7 finished with value: 0.10004393718940348 and parameters: {'alpha': 89.42322875862669, 'tol': 0.0022232497987691043}. Best is trial 7 with value: 0.10004393718940348.\n",
      "[I 2025-05-24 17:02:59,725] Trial 8 finished with value: 0.10003289876336867 and parameters: {'alpha': 44.500034454234324, 'tol': 2.669319701110674e-05}. Best is trial 7 with value: 0.10004393718940348.\n",
      "[I 2025-05-24 17:03:00,114] Trial 9 finished with value: 0.10004000987933935 and parameters: {'alpha': 72.93624662370809, 'tol': 0.0016351180784637553}. Best is trial 7 with value: 0.10004393718940348.\n",
      "[I 2025-05-24 17:03:00,398] Trial 10 finished with value: 0.10003527684486685 and parameters: {'alpha': 53.81741860806974, 'tol': 0.0009880148442561938}. Best is trial 7 with value: 0.10004393718940348.\n",
      "[I 2025-05-24 17:03:00,787] Trial 11 finished with value: 0.10003019335498489 and parameters: {'alpha': 34.121333116029106, 'tol': 0.008816615791019734}. Best is trial 7 with value: 0.10004393718940348.\n",
      "[I 2025-05-24 17:03:03,669] Trial 12 finished with value: 0.10003116598389247 and parameters: {'alpha': 37.8261646772281, 'tol': 0.008653632946526425}. Best is trial 7 with value: 0.10004393718940348.\n",
      "[I 2025-05-24 17:03:04,075] Trial 13 finished with value: 0.10004399214413728 and parameters: {'alpha': 89.65817083169968, 'tol': 0.009302948235378115}. Best is trial 13 with value: 0.10004399214413728.\n",
      "[I 2025-05-24 17:03:04,302] Trial 14 finished with value: 0.10004589079527798 and parameters: {'alpha': 97.85002946332293, 'tol': 0.0044509654997541715}. Best is trial 14 with value: 0.10004589079527798.\n",
      "[I 2025-05-24 17:03:04,684] Trial 15 finished with value: 0.10004632792002978 and parameters: {'alpha': 99.75695292022522, 'tol': 0.0022439490502893797}. Best is trial 15 with value: 0.10004632792002978.\n",
      "[I 2025-05-24 17:03:07,576] Trial 16 finished with value: 0.10004617065206614 and parameters: {'alpha': 99.06996803519948, 'tol': 0.0010437642624331854}. Best is trial 15 with value: 0.10004632792002978.\n",
      "[I 2025-05-24 17:03:07,958] Trial 17 finished with value: 0.10004449294999274 and parameters: {'alpha': 91.8047685969114, 'tol': 0.009323073538763051}. Best is trial 15 with value: 0.10004632792002978.\n",
      "[I 2025-05-24 17:03:08,378] Trial 18 finished with value: 0.10004620145930111 and parameters: {'alpha': 99.2044603623507, 'tol': 0.009644703727266694}. Best is trial 15 with value: 0.10004632792002978.\n",
      "[I 2025-05-24 17:03:08,782] Trial 19 finished with value: 0.10004581245267395 and parameters: {'alpha': 97.50910361073582, 'tol': 0.004677243387318908}. Best is trial 15 with value: 0.10004632792002978.\n",
      "[I 2025-05-24 17:03:11,943] Trial 20 finished with value: 0.10004526810847814 and parameters: {'alpha': 95.14724533306277, 'tol': 0.00010397256585239763}. Best is trial 15 with value: 0.10004632792002978.\n",
      "[I 2025-05-24 17:03:11,949] Trial 21 finished with value: 0.10004573314360854 and parameters: {'alpha': 97.16423030490205, 'tol': 0.0011217671656973947}. Best is trial 15 with value: 0.10004632792002978.\n",
      "[I 2025-05-24 17:03:12,405] Trial 22 finished with value: 0.10004493214040548 and parameters: {'alpha': 93.69556232146532, 'tol': 0.006628775898272174}. Best is trial 15 with value: 0.10004632792002978.\n",
      "[I 2025-05-24 17:03:12,611] Trial 23 finished with value: 0.10003788605903668 and parameters: {'alpha': 64.25961732888855, 'tol': 0.00948124946299203}. Best is trial 15 with value: 0.10004632792002978.\n",
      "[I 2025-05-24 17:03:15,885] Trial 24 finished with value: 0.10004625613104912 and parameters: {'alpha': 99.44323316602329, 'tol': 0.0025550101274904734}. Best is trial 15 with value: 0.10004632792002978.\n",
      "[I 2025-05-24 17:03:15,909] Trial 25 finished with value: 0.10003878840092 and parameters: {'alpha': 67.92619348027773, 'tol': 0.008119838860662901}. Best is trial 15 with value: 0.10004632792002978.\n",
      "[I 2025-05-24 17:03:16,350] Trial 26 finished with value: 0.1000380219912177 and parameters: {'alpha': 64.81011249043328, 'tol': 0.007927262220170955}. Best is trial 15 with value: 0.10004632792002978.\n",
      "[I 2025-05-24 17:03:16,702] Trial 27 finished with value: 0.10004604092074602 and parameters: {'alpha': 98.50404510490809, 'tol': 0.009356235256052737}. Best is trial 15 with value: 0.10004632792002978.\n",
      "[I 2025-05-24 17:03:19,384] Trial 28 finished with value: 0.10004637589814801 and parameters: {'alpha': 99.96673855630092, 'tol': 0.007781218603661431}. Best is trial 28 with value: 0.10004637589814801.\n",
      "[I 2025-05-24 17:03:19,755] Trial 29 finished with value: 0.10004535301176092 and parameters: {'alpha': 95.51483231869952, 'tol': 0.009975632827043975}. Best is trial 28 with value: 0.10004637589814801.\n",
      "[I 2025-05-24 17:03:20,366] Trial 30 finished with value: 0.10004550334141551 and parameters: {'alpha': 96.16640543944888, 'tol': 0.003585201252711543}. Best is trial 28 with value: 0.10004637589814801.\n",
      "[I 2025-05-24 17:03:20,554] Trial 31 finished with value: 0.1000462296007468 and parameters: {'alpha': 99.32734944930526, 'tol': 0.002757657418260386}. Best is trial 28 with value: 0.10004637589814801.\n",
      "[I 2025-05-24 17:03:23,123] Trial 32 finished with value: 0.10004182681166351 and parameters: {'alpha': 80.49056211172255, 'tol': 0.0031180917029769236}. Best is trial 28 with value: 0.10004637589814801.\n",
      "[I 2025-05-24 17:03:23,674] Trial 33 finished with value: 0.10002144426926815 and parameters: {'alpha': 2.045739997922027, 'tol': 0.006165547713767084}. Best is trial 28 with value: 0.10004637589814801.\n",
      "[I 2025-05-24 17:03:24,283] Trial 35 finished with value: 0.1000461903250425 and parameters: {'alpha': 99.155847987132, 'tol': 0.002341388854665322}. Best is trial 28 with value: 0.10004637589814801.\n",
      "[I 2025-05-24 17:03:24,286] Trial 34 finished with value: 0.10002271569154257 and parameters: {'alpha': 6.573687327368404, 'tol': 0.006375443476144948}. Best is trial 28 with value: 0.10004637589814801.\n",
      "[I 2025-05-24 17:03:26,994] Trial 36 finished with value: 0.1000448989333703 and parameters: {'alpha': 93.55232742359124, 'tol': 0.002471439978023017}. Best is trial 28 with value: 0.10004637589814801.\n",
      "[I 2025-05-24 17:03:27,541] Trial 37 finished with value: 0.1000452014292874 and parameters: {'alpha': 94.8587656859164, 'tol': 0.0022165180844959964}. Best is trial 28 with value: 0.10004637589814801.\n",
      "[I 2025-05-24 17:03:28,159] Trial 38 finished with value: 0.10004623361016546 and parameters: {'alpha': 99.34486061028807, 'tol': 0.006198726718824063}. Best is trial 28 with value: 0.10004637589814801.\n",
      "[I 2025-05-24 17:03:28,321] Trial 39 finished with value: 0.10004542755727273 and parameters: {'alpha': 95.83781878805817, 'tol': 0.0031249866029350554}. Best is trial 28 with value: 0.10004637589814801.\n",
      "[I 2025-05-24 17:03:30,895] Trial 40 finished with value: 0.10002326684744715 and parameters: {'alpha': 8.550084261378508, 'tol': 0.0005605613575650056}. Best is trial 28 with value: 0.10004637589814801.\n",
      "[I 2025-05-24 17:03:31,444] Trial 41 finished with value: 0.1000398696332549 and parameters: {'alpha': 72.35824459432676, 'tol': 0.004384759608105072}. Best is trial 28 with value: 0.10004637589814801.\n",
      "[I 2025-05-24 17:03:32,052] Trial 43 finished with value: 0.10004581695161961 and parameters: {'alpha': 97.52867493936387, 'tol': 0.006413411175849995}. Best is trial 28 with value: 0.10004637589814801.\n",
      "[I 2025-05-24 17:03:32,236] Trial 42 finished with value: 0.1000441473531636 and parameters: {'alpha': 90.32236897005716, 'tol': 0.006735098109125102}. Best is trial 28 with value: 0.10004637589814801.\n",
      "[I 2025-05-24 17:03:34,812] Trial 44 finished with value: 0.10004278231397445 and parameters: {'alpha': 84.5134860347787, 'tol': 0.007581899137076666}. Best is trial 28 with value: 0.10004637589814801.\n",
      "[I 2025-05-24 17:03:35,363] Trial 45 finished with value: 0.10004265534344549 and parameters: {'alpha': 83.97687703870528, 'tol': 0.006032700283420614}. Best is trial 28 with value: 0.10004637589814801.\n",
      "[I 2025-05-24 17:03:35,970] Trial 46 finished with value: 0.10004546162503963 and parameters: {'alpha': 95.98550145353919, 'tol': 0.006176085261485041}. Best is trial 28 with value: 0.10004637589814801.\n",
      "[I 2025-05-24 17:03:36,154] Trial 47 finished with value: 0.10004619370608496 and parameters: {'alpha': 99.1706091338632, 'tol': 0.006469907170837024}. Best is trial 28 with value: 0.10004637589814801.\n",
      "[I 2025-05-24 17:03:38,715] Trial 48 finished with value: 0.10004562820186111 and parameters: {'alpha': 96.70829274352403, 'tol': 0.006434197292125873}. Best is trial 28 with value: 0.10004637589814801.\n",
      "[I 2025-05-24 17:03:39,275] Trial 49 finished with value: 0.10004633147184805 and parameters: {'alpha': 99.77248004635604, 'tol': 0.0025483960455224934}. Best is trial 28 with value: 0.10004637589814801.\n",
      "[I 2025-05-24 17:03:39,893] Trial 50 finished with value: 0.1000459055258851 and parameters: {'alpha': 97.91416144713226, 'tol': 0.00264344602581499}. Best is trial 28 with value: 0.10004637589814801.\n",
      "[I 2025-05-24 17:03:39,903] Trial 51 finished with value: 0.10004627101797729 and parameters: {'alpha': 99.50827176285259, 'tol': 0.0031866026676555586}. Best is trial 28 with value: 0.10004637589814801.\n",
      "[I 2025-05-24 17:03:42,901] Trial 53 finished with value: 0.1000459283588096 and parameters: {'alpha': 98.0135858823848, 'tol': 0.0019522710568868158}. Best is trial 28 with value: 0.10004637589814801.\n",
      "[I 2025-05-24 17:03:42,907] Trial 52 finished with value: 0.10004540217226454 and parameters: {'alpha': 95.72780653605172, 'tol': 0.0025517894765268055}. Best is trial 28 with value: 0.10004637589814801.\n",
      "[I 2025-05-24 17:03:43,897] Trial 55 finished with value: 0.1000406337454463 and parameters: {'alpha': 75.51620637984105, 'tol': 0.0025207841361737596}. Best is trial 28 with value: 0.10004637589814801.\n",
      "[I 2025-05-24 17:03:44,101] Trial 54 finished with value: 0.10004621962334145 and parameters: {'alpha': 99.28377597712515, 'tol': 0.003705512895153847}. Best is trial 28 with value: 0.10004637589814801.\n",
      "[I 2025-05-24 17:03:46,760] Trial 57 finished with value: 0.10004018376422909 and parameters: {'alpha': 73.65389042293347, 'tol': 0.00219628142521368}. Best is trial 28 with value: 0.10004637589814801.\n",
      "[I 2025-05-24 17:03:46,794] Trial 56 finished with value: 0.10004633251824964 and parameters: {'alpha': 99.7770545953123, 'tol': 0.003949152945262198}. Best is trial 28 with value: 0.10004637589814801.\n",
      "[I 2025-05-24 17:03:47,942] Trial 58 finished with value: 0.10004610256251062 and parameters: {'alpha': 98.77285582456972, 'tol': 0.004507346789889214}. Best is trial 28 with value: 0.10004637589814801.\n",
      "[I 2025-05-24 17:03:47,972] Trial 59 finished with value: 0.10004615813428473 and parameters: {'alpha': 99.01533159267564, 'tol': 0.0048453519366410975}. Best is trial 28 with value: 0.10004637589814801.\n",
      "[I 2025-05-24 17:03:50,664] Trial 60 finished with value: 0.1000451820801997 and parameters: {'alpha': 94.77508811267462, 'tol': 0.004115062564579227}. Best is trial 28 with value: 0.10004637589814801.\n",
      "[I 2025-05-24 17:03:50,873] Trial 61 finished with value: 0.10002250532537792 and parameters: {'alpha': 5.821506204215275, 'tol': 0.009326460131894126}. Best is trial 28 with value: 0.10004637589814801.\n",
      "[I 2025-05-24 17:03:51,658] Trial 62 finished with value: 0.10004443128682439 and parameters: {'alpha': 91.53992015084465, 'tol': 0.003958618297659061}. Best is trial 28 with value: 0.10004637589814801.\n",
      "[I 2025-05-24 17:03:51,870] Trial 63 finished with value: 0.10003209468536038 and parameters: {'alpha': 41.39124699988412, 'tol': 0.004825040970483706}. Best is trial 28 with value: 0.10004637589814801.\n",
      "[I 2025-05-24 17:03:54,383] Trial 64 finished with value: 0.10004619079951228 and parameters: {'alpha': 99.15791942544027, 'tol': 0.0017199102775235424}. Best is trial 28 with value: 0.10004637589814801.\n",
      "[I 2025-05-24 17:03:54,765] Trial 65 finished with value: 0.10004587427604793 and parameters: {'alpha': 97.77812111507673, 'tol': 0.0033389108389212064}. Best is trial 28 with value: 0.10004637589814801.\n",
      "[I 2025-05-24 17:03:55,383] Trial 66 finished with value: 0.10004624098912308 and parameters: {'alpha': 99.3770900055507, 'tol': 0.0011988393043503756}. Best is trial 28 with value: 0.10004637589814801.\n",
      "[I 2025-05-24 17:03:55,765] Trial 67 finished with value: 0.1000459830131851 and parameters: {'alpha': 98.25166241743284, 'tol': 0.0076919245539735}. Best is trial 28 with value: 0.10004637589814801.\n",
      "[I 2025-05-24 17:03:58,255] Trial 68 finished with value: 0.10004609260760014 and parameters: {'alpha': 98.72943322618049, 'tol': 0.003859440865017621}. Best is trial 28 with value: 0.10004637589814801.\n",
      "[I 2025-05-24 17:03:58,649] Trial 69 finished with value: 0.10004107146125146 and parameters: {'alpha': 77.3349926263693, 'tol': 0.001227719710647771}. Best is trial 28 with value: 0.10004637589814801.\n",
      "[I 2025-05-24 17:03:59,241] Trial 70 finished with value: 0.1000459032509547 and parameters: {'alpha': 97.90425659808847, 'tol': 0.00029239092148987313}. Best is trial 28 with value: 0.10004637589814801.\n",
      "[I 2025-05-24 17:03:59,629] Trial 71 finished with value: 0.1000402831034453 and parameters: {'alpha': 74.06437588470058, 'tol': 0.00042144545931544636}. Best is trial 28 with value: 0.10004637589814801.\n",
      "[I 2025-05-24 17:04:02,180] Trial 72 finished with value: 0.10004319685848076 and parameters: {'alpha': 86.2698225943788, 'tol': 0.00020158075851047777}. Best is trial 28 with value: 0.10004637589814801.\n",
      "[I 2025-05-24 17:04:02,580] Trial 73 finished with value: 0.10004103945495965 and parameters: {'alpha': 77.20175779218374, 'tol': 1.953390533547929e-05}. Best is trial 28 with value: 0.10004637589814801.\n",
      "[I 2025-05-24 17:04:03,205] Trial 74 finished with value: 0.10004574830119058 and parameters: {'alpha': 97.23012256632245, 'tol': 0.0012576913309512209}. Best is trial 28 with value: 0.10004637589814801.\n",
      "[I 2025-05-24 17:04:03,595] Trial 75 finished with value: 0.10004615891405816 and parameters: {'alpha': 99.01873488424188, 'tol': 0.002285801439182502}. Best is trial 28 with value: 0.10004637589814801.\n",
      "[I 2025-05-24 17:04:06,105] Trial 76 finished with value: 0.10004554192474881 and parameters: {'alpha': 96.33378651879019, 'tol': 0.001970703671149786}. Best is trial 28 with value: 0.10004637589814801.\n",
      "[I 2025-05-24 17:04:06,496] Trial 77 finished with value: 0.10003148144495054 and parameters: {'alpha': 39.03410698577507, 'tol': 0.0021328565566672455}. Best is trial 28 with value: 0.10004637589814801.\n",
      "[I 2025-05-24 17:04:07,105] Trial 78 finished with value: 0.10004352991219896 and parameters: {'alpha': 87.68577398575398, 'tol': 0.0026036223816324642}. Best is trial 28 with value: 0.10004637589814801.\n",
      "[I 2025-05-24 17:04:07,496] Trial 79 finished with value: 0.10004127105776683 and parameters: {'alpha': 78.16673590975506, 'tol': 0.0032961733899741366}. Best is trial 28 with value: 0.10004637589814801.\n",
      "[I 2025-05-24 17:04:09,984] Trial 80 finished with value: 0.10004193544497397 and parameters: {'alpha': 80.94617220806916, 'tol': 0.004701329253798799}. Best is trial 28 with value: 0.10004637589814801.\n",
      "[I 2025-05-24 17:04:10,381] Trial 81 finished with value: 0.10004236860647003 and parameters: {'alpha': 82.76735111649883, 'tol': 0.0027459112679584933}. Best is trial 28 with value: 0.10004637589814801.\n",
      "[I 2025-05-24 17:04:10,994] Trial 82 finished with value: 0.10004039072747738 and parameters: {'alpha': 74.50950736177248, 'tol': 0.004303300473294733}. Best is trial 28 with value: 0.10004637589814801.\n",
      "[I 2025-05-24 17:04:11,376] Trial 83 finished with value: 0.10004625588715313 and parameters: {'alpha': 99.4421677003442, 'tol': 0.008099687287086918}. Best is trial 28 with value: 0.10004637589814801.\n",
      "[I 2025-05-24 17:04:14,181] Trial 84 finished with value: 0.10004636282517422 and parameters: {'alpha': 99.90956708503433, 'tol': 0.0025598401523266546}. Best is trial 28 with value: 0.10004637589814801.\n",
      "[I 2025-05-24 17:04:14,213] Trial 85 finished with value: 0.10004619516724109 and parameters: {'alpha': 99.17698847934417, 'tol': 0.0020068313836678984}. Best is trial 28 with value: 0.10004637589814801.\n",
      "[I 2025-05-24 17:04:15,207] Trial 86 finished with value: 0.10004611358645162 and parameters: {'alpha': 98.82094626386628, 'tol': 0.0030072256996070117}. Best is trial 28 with value: 0.10004637589814801.\n",
      "[I 2025-05-24 17:04:15,593] Trial 87 finished with value: 0.10004466613991542 and parameters: {'alpha': 92.54945219526738, 'tol': 0.008544777856233417}. Best is trial 28 with value: 0.10004637589814801.\n",
      "[I 2025-05-24 17:04:17,717] Trial 88 finished with value: 0.10004399354702201 and parameters: {'alpha': 89.66417000722922, 'tol': 0.00848774008724751}. Best is trial 28 with value: 0.10004637589814801.\n",
      "[I 2025-05-24 17:04:18,111] Trial 89 finished with value: 0.10004403596531053 and parameters: {'alpha': 89.84560093073269, 'tol': 0.008325585558961816}. Best is trial 28 with value: 0.10004637589814801.\n",
      "[I 2025-05-24 17:04:19,092] Trial 90 finished with value: 0.10004331916176185 and parameters: {'alpha': 86.78927890134801, 'tol': 0.009159031896114951}. Best is trial 28 with value: 0.10004637589814801.\n",
      "[I 2025-05-24 17:04:19,474] Trial 91 finished with value: 0.10004335657337511 and parameters: {'alpha': 86.94829375380196, 'tol': 0.008413030342401855}. Best is trial 28 with value: 0.10004637589814801.\n",
      "[I 2025-05-24 17:04:21,760] Trial 92 finished with value: 0.10004612382140311 and parameters: {'alpha': 98.86559936768717, 'tol': 0.008261257545719942}. Best is trial 28 with value: 0.10004637589814801.\n",
      "[I 2025-05-24 17:04:21,978] Trial 93 finished with value: 0.10004602591831506 and parameters: {'alpha': 98.43864557547322, 'tol': 0.000720493501753277}. Best is trial 28 with value: 0.10004637589814801.\n",
      "[I 2025-05-24 17:04:22,997] Trial 94 finished with value: 0.10004531513139951 and parameters: {'alpha': 95.35079366411566, 'tol': 0.007603683668917325}. Best is trial 28 with value: 0.10004637589814801.\n",
      "[I 2025-05-24 17:04:23,393] Trial 95 finished with value: 0.10004622183499767 and parameters: {'alpha': 99.29343439692042, 'tol': 0.002341873949865971}. Best is trial 28 with value: 0.10004637589814801.\n",
      "[I 2025-05-24 17:04:25,517] Trial 96 finished with value: 0.10004624395349158 and parameters: {'alpha': 99.3900382464894, 'tol': 0.006216738892356449}. Best is trial 28 with value: 0.10004637589814801.\n",
      "[I 2025-05-24 17:04:25,907] Trial 97 finished with value: 0.10004621444597861 and parameters: {'alpha': 99.26116695679976, 'tol': 0.007574077771908896}. Best is trial 28 with value: 0.10004637589814801.\n",
      "[I 2025-05-24 17:04:26,877] Trial 98 finished with value: 0.10004626559869965 and parameters: {'alpha': 99.48459473970962, 'tol': 0.0027984002270848157}. Best is trial 28 with value: 0.10004637589814801.\n",
      "[I 2025-05-24 17:04:27,271] Trial 99 finished with value: 0.1000459292020918 and parameters: {'alpha': 98.01725831163397, 'tol': 0.004912147318226092}. Best is trial 28 with value: 0.10004637589814801.\n",
      "[I 2025-05-24 17:04:29,365] Trial 100 finished with value: 0.10004555389354657 and parameters: {'alpha': 96.38572163303945, 'tol': 0.002948624917005152}. Best is trial 28 with value: 0.10004637589814801.\n",
      "[I 2025-05-24 17:04:29,766] Trial 101 finished with value: 0.10004530614865292 and parameters: {'alpha': 95.31190302359944, 'tol': 0.0035334639485532283}. Best is trial 28 with value: 0.10004637589814801.\n",
      "[I 2025-05-24 17:04:30,729] Trial 102 finished with value: 0.10004635177264797 and parameters: {'alpha': 99.8612371227055, 'tol': 0.004936124663944746}. Best is trial 28 with value: 0.10004637589814801.\n",
      "[I 2025-05-24 17:04:31,118] Trial 103 finished with value: 0.10004635892542353 and parameters: {'alpha': 99.89251385737265, 'tol': 0.0027192075720927603}. Best is trial 28 with value: 0.10004637589814801.\n",
      "[I 2025-05-24 17:04:33,233] Trial 104 finished with value: 0.10004611465311264 and parameters: {'alpha': 98.82559969507146, 'tol': 0.002850601897604924}. Best is trial 28 with value: 0.10004637589814801.\n",
      "[I 2025-05-24 17:04:33,624] Trial 105 finished with value: 0.10004635156133959 and parameters: {'alpha': 99.86031317329645, 'tol': 0.002870285631901663}. Best is trial 28 with value: 0.10004637589814801.\n",
      "[I 2025-05-24 17:04:34,786] Trial 106 finished with value: 0.10004631115109958 and parameters: {'alpha': 99.68365299320227, 'tol': 0.0045913863256847745}. Best is trial 28 with value: 0.10004637589814801.\n",
      "[I 2025-05-24 17:04:35,007] Trial 107 finished with value: 0.10004598217438686 and parameters: {'alpha': 98.2480076448008, 'tol': 0.0032450272473032787}. Best is trial 28 with value: 0.10004637589814801.\n",
      "[I 2025-05-24 17:04:37,145] Trial 108 finished with value: 0.10004512626383097 and parameters: {'alpha': 94.5337887142751, 'tol': 0.0042614328459718446}. Best is trial 28 with value: 0.10004637589814801.\n",
      "[I 2025-05-24 17:04:37,536] Trial 109 finished with value: 0.10004635226875304 and parameters: {'alpha': 99.86340635790374, 'tol': 0.0042780209258636605}. Best is trial 28 with value: 0.10004637589814801.\n",
      "[I 2025-05-24 17:04:38,533] Trial 110 finished with value: 0.10004633778271825 and parameters: {'alpha': 99.80006994175186, 'tol': 0.0043525799290086865}. Best is trial 28 with value: 0.10004637589814801.\n",
      "[I 2025-05-24 17:04:38,928] Trial 111 finished with value: 0.10004613692222518 and parameters: {'alpha': 98.9227620656868, 'tol': 0.0037101753180662964}. Best is trial 28 with value: 0.10004637589814801.\n",
      "[I 2025-05-24 17:04:41,065] Trial 112 finished with value: 0.10004635528596686 and parameters: {'alpha': 99.87659944359635, 'tol': 0.00488773382093831}. Best is trial 28 with value: 0.10004637589814801.\n",
      "[I 2025-05-24 17:04:41,454] Trial 113 finished with value: 0.10004594592452536 and parameters: {'alpha': 98.09008930769097, 'tol': 0.004704439202022232}. Best is trial 28 with value: 0.10004637589814801.\n",
      "[I 2025-05-24 17:04:42,440] Trial 114 finished with value: 0.1000458881748739 and parameters: {'alpha': 97.83862206869452, 'tol': 0.004963502534790661}. Best is trial 28 with value: 0.10004637589814801.\n",
      "[I 2025-05-24 17:04:42,863] Trial 115 finished with value: 0.10004297439593415 and parameters: {'alpha': 85.32646294986326, 'tol': 0.004980916612661829}. Best is trial 28 with value: 0.10004637589814801.\n",
      "[I 2025-05-24 17:04:45,018] Trial 116 finished with value: 0.10004564538676101 and parameters: {'alpha': 96.78292444597356, 'tol': 0.005520446097416266}. Best is trial 28 with value: 0.10004637589814801.\n",
      "[I 2025-05-24 17:04:45,440] Trial 117 finished with value: 0.10004355295068842 and parameters: {'alpha': 87.78388171035832, 'tol': 0.004983295174740584}. Best is trial 28 with value: 0.10004637589814801.\n",
      "[I 2025-05-24 17:04:46,433] Trial 118 finished with value: 0.1000421901422821 and parameters: {'alpha': 82.01614641406462, 'tol': 0.004853445726115815}. Best is trial 28 with value: 0.10004637589814801.\n",
      "[I 2025-05-24 17:04:46,835] Trial 119 finished with value: 0.10004613900526203 and parameters: {'alpha': 98.93185161905885, 'tol': 0.004458543196841739}. Best is trial 28 with value: 0.10004637589814801.\n",
      "[I 2025-05-24 17:04:48,943] Trial 120 finished with value: 0.10004272270370737 and parameters: {'alpha': 84.26148034514598, 'tol': 0.004084989333325734}. Best is trial 28 with value: 0.10004637589814801.\n",
      "[I 2025-05-24 17:04:49,348] Trial 121 finished with value: 0.10004625767342722 and parameters: {'alpha': 99.44997113846844, 'tol': 0.004513947109781514}. Best is trial 28 with value: 0.10004637589814801.\n",
      "[I 2025-05-24 17:04:50,345] Trial 122 finished with value: 0.10004583624837289 and parameters: {'alpha': 97.61262922899199, 'tol': 0.004594179397446771}. Best is trial 28 with value: 0.10004637589814801.\n",
      "[I 2025-05-24 17:04:50,738] Trial 123 finished with value: 0.10004599288435263 and parameters: {'alpha': 98.29467480051945, 'tol': 0.004949699359079891}. Best is trial 28 with value: 0.10004637589814801.\n",
      "[I 2025-05-24 17:04:52,863] Trial 124 finished with value: 0.1000461067890526 and parameters: {'alpha': 98.79129294040546, 'tol': 0.004385742565855723}. Best is trial 28 with value: 0.10004637589814801.\n",
      "[I 2025-05-24 17:04:53,250] Trial 125 finished with value: 0.10004634166386173 and parameters: {'alpha': 99.81703837169522, 'tol': 0.0038814206806009224}. Best is trial 28 with value: 0.10004637589814801.\n",
      "[I 2025-05-24 17:04:54,247] Trial 126 finished with value: 0.10004581483520805 and parameters: {'alpha': 97.51946801454939, 'tol': 0.003360454654660798}. Best is trial 28 with value: 0.10004637589814801.\n",
      "[I 2025-05-24 17:04:54,631] Trial 127 finished with value: 0.10004620570602661 and parameters: {'alpha': 99.2230030034135, 'tol': 0.004348737707079555}. Best is trial 28 with value: 0.10004637589814801.\n",
      "[I 2025-05-24 17:04:56,738] Trial 128 finished with value: 0.10004163752113712 and parameters: {'alpha': 79.69774830166749, 'tol': 0.0029542479251028573}. Best is trial 28 with value: 0.10004637589814801.\n",
      "[I 2025-05-24 17:04:57,133] Trial 129 finished with value: 0.10004260449540132 and parameters: {'alpha': 83.76215583304014, 'tol': 0.0033306436373385594}. Best is trial 28 with value: 0.10004637589814801.\n",
      "[I 2025-05-24 17:04:58,116] Trial 130 finished with value: 0.10004627299411059 and parameters: {'alpha': 99.51690586673392, 'tol': 0.0033963020782353907}. Best is trial 28 with value: 0.10004637589814801.\n",
      "[I 2025-05-24 17:04:58,510] Trial 131 finished with value: 0.10004244775767523 and parameters: {'alpha': 83.10091276978892, 'tol': 0.0028427608047128005}. Best is trial 28 with value: 0.10004637589814801.\n",
      "[I 2025-05-24 17:05:00,648] Trial 132 finished with value: 0.10004251710599575 and parameters: {'alpha': 83.39336145405534, 'tol': 0.003776396437679328}. Best is trial 28 with value: 0.10004637589814801.\n",
      "[I 2025-05-24 17:05:01,036] Trial 133 finished with value: 0.10003756524361149 and parameters: {'alpha': 62.96297043756677, 'tol': 0.006359554579380238}. Best is trial 28 with value: 0.10004637589814801.\n",
      "[I 2025-05-24 17:05:02,040] Trial 134 finished with value: 0.10003707471250192 and parameters: {'alpha': 60.987357523339185, 'tol': 0.006159899905641204}. Best is trial 28 with value: 0.10004637589814801.\n",
      "[I 2025-05-24 17:05:02,441] Trial 135 finished with value: 0.10004635442944437 and parameters: {'alpha': 99.87285416985895, 'tol': 0.0030877922144667514}. Best is trial 28 with value: 0.10004637589814801.\n",
      "[I 2025-05-24 17:05:04,594] Trial 136 finished with value: 0.10004623118221492 and parameters: {'alpha': 99.3342564412813, 'tol': 0.003334240076823686}. Best is trial 28 with value: 0.10004637589814801.\n",
      "[I 2025-05-24 17:05:05,005] Trial 137 finished with value: 0.10004555081999003 and parameters: {'alpha': 96.3723842671586, 'tol': 0.002741409633561741}. Best is trial 28 with value: 0.10004637589814801.\n",
      "[I 2025-05-24 17:05:06,149] Trial 138 finished with value: 0.1000452117563805 and parameters: {'alpha': 94.90343275622915, 'tol': 0.00392189145881431}. Best is trial 28 with value: 0.10004637589814801.\n",
      "[I 2025-05-24 17:05:06,393] Trial 139 finished with value: 0.10002730190135684 and parameters: {'alpha': 23.27722092951141, 'tol': 0.004237203553244881}. Best is trial 28 with value: 0.10004637589814801.\n",
      "[I 2025-05-24 17:05:08,541] Trial 140 finished with value: 0.10003035696730202 and parameters: {'alpha': 34.74250118357989, 'tol': 0.007411434482119115}. Best is trial 28 with value: 0.10004637589814801.\n",
      "[I 2025-05-24 17:05:08,953] Trial 141 finished with value: 0.10004605576338525 and parameters: {'alpha': 98.56875725603638, 'tol': 0.003997074841314232}. Best is trial 28 with value: 0.10004637589814801.\n",
      "[I 2025-05-24 17:05:10,148] Trial 142 finished with value: 0.10004606067772397 and parameters: {'alpha': 98.59018520785551, 'tol': 0.0030330112833143155}. Best is trial 28 with value: 0.10004637589814801.\n",
      "[I 2025-05-24 17:05:10,597] Trial 143 finished with value: 0.10004615902669337 and parameters: {'alpha': 99.01922647851372, 'tol': 0.003747673149678301}. Best is trial 28 with value: 0.10004637589814801.\n",
      "[I 2025-05-24 17:05:12,522] Trial 144 finished with value: 0.10004636348871208 and parameters: {'alpha': 99.91246873432678, 'tol': 0.003279208654150522}. Best is trial 28 with value: 0.10004637589814801.\n",
      "[I 2025-05-24 17:05:12,954] Trial 145 finished with value: 0.10004620195615507 and parameters: {'alpha': 99.20662975610313, 'tol': 0.0020537332185711675}. Best is trial 28 with value: 0.10004637589814801.\n",
      "[I 2025-05-24 17:05:14,135] Trial 146 finished with value: 0.10004627170368909 and parameters: {'alpha': 99.5112677501105, 'tol': 0.0034167656758630495}. Best is trial 28 with value: 0.10004637589814801.\n",
      "[I 2025-05-24 17:05:14,521] Trial 147 finished with value: 0.10004599200578661 and parameters: {'alpha': 98.29084639487604, 'tol': 0.0023873434456153195}. Best is trial 28 with value: 0.10004637589814801.\n",
      "[I 2025-05-24 17:05:16,467] Trial 148 finished with value: 0.10004411869503242 and parameters: {'alpha': 90.1996576665015, 'tol': 0.0019056492976040954}. Best is trial 28 with value: 0.10004637589814801.\n",
      "[I 2025-05-24 17:05:16,882] Trial 149 finished with value: 0.10004632523100103 and parameters: {'alpha': 99.74519791456096, 'tol': 0.005677205396620837}. Best is trial 28 with value: 0.10004637589814801.\n",
      "[I 2025-05-24 17:05:18,079] Trial 150 finished with value: 0.10004225883847155 and parameters: {'alpha': 82.30516253379383, 'tol': 0.001762970713786164}. Best is trial 28 with value: 0.10004637589814801.\n",
      "[I 2025-05-24 17:05:18,292] Trial 151 finished with value: 0.10004627170413183 and parameters: {'alpha': 99.51126968459617, 'tol': 0.0049366973140567575}. Best is trial 28 with value: 0.10004637589814801.\n",
      "[I 2025-05-24 17:05:20,383] Trial 152 finished with value: 0.10004611212197995 and parameters: {'alpha': 98.81455741491263, 'tol': 0.005202159647798981}. Best is trial 28 with value: 0.10004637589814801.\n",
      "[I 2025-05-24 17:05:20,791] Trial 153 finished with value: 0.10004577197445298 and parameters: {'alpha': 97.33305272424971, 'tol': 0.006188408164512439}. Best is trial 28 with value: 0.10004637589814801.\n",
      "[I 2025-05-24 17:05:21,935] Trial 154 finished with value: 0.10004247821363253 and parameters: {'alpha': 83.22932566703133, 'tol': 0.0061465209235277585}. Best is trial 28 with value: 0.10004637589814801.\n",
      "[I 2025-05-24 17:05:22,162] Trial 155 finished with value: 0.10004248676945333 and parameters: {'alpha': 83.26540642278692, 'tol': 0.006673665495055564}. Best is trial 28 with value: 0.10004637589814801.\n",
      "[I 2025-05-24 17:05:24,110] Trial 156 finished with value: 0.10004199399831272 and parameters: {'alpha': 81.19193287932374, 'tol': 0.006006502274142292}. Best is trial 28 with value: 0.10004637589814801.\n",
      "[I 2025-05-24 17:05:24,715] Trial 157 finished with value: 0.10004271358953781 and parameters: {'alpha': 84.22296184662216, 'tol': 0.006052666585053209}. Best is trial 28 with value: 0.10004637589814801.\n",
      "[I 2025-05-24 17:05:25,885] Trial 158 finished with value: 0.10004212513222466 and parameters: {'alpha': 81.74280530559012, 'tol': 0.005506556870169705}. Best is trial 28 with value: 0.10004637589814801.\n",
      "[I 2025-05-24 17:05:26,108] Trial 159 finished with value: 0.10004332747345504 and parameters: {'alpha': 86.82460229021386, 'tol': 0.0042502781839826665}. Best is trial 28 with value: 0.10004637589814801.\n",
      "[I 2025-05-24 17:05:28,022] Trial 160 finished with value: 0.10004610815035957 and parameters: {'alpha': 98.79723142207187, 'tol': 0.00601066469367386}. Best is trial 28 with value: 0.10004637589814801.\n",
      "[I 2025-05-24 17:05:28,634] Trial 161 finished with value: 0.10003443717464808 and parameters: {'alpha': 50.50626419229728, 'tol': 0.00996408259643352}. Best is trial 28 with value: 0.10004637589814801.\n",
      "[I 2025-05-24 17:05:29,781] Trial 162 finished with value: 0.1000463118889486 and parameters: {'alpha': 99.68687801342463, 'tol': 0.006150352984817229}. Best is trial 28 with value: 0.10004637589814801.\n",
      "[I 2025-05-24 17:05:30,042] Trial 163 finished with value: 0.10004588579426808 and parameters: {'alpha': 97.82825883308803, 'tol': 0.004072096806703668}. Best is trial 28 with value: 0.10004637589814801.\n",
      "[I 2025-05-24 17:05:32,092] Trial 164 finished with value: 0.10004631981847067 and parameters: {'alpha': 99.72153812192543, 'tol': 0.001895643195030825}. Best is trial 28 with value: 0.10004637589814801.\n",
      "[I 2025-05-24 17:05:32,893] Trial 165 finished with value: 0.10004619789714028 and parameters: {'alpha': 99.188907341644, 'tol': 0.0032554016201120205}. Best is trial 28 with value: 0.10004637589814801.\n",
      "[I 2025-05-24 17:05:33,677] Trial 166 finished with value: 0.10004533769261346 and parameters: {'alpha': 95.44848659027652, 'tol': 0.006336107709891365}. Best is trial 28 with value: 0.10004637589814801.\n",
      "[I 2025-05-24 17:05:34,301] Trial 167 finished with value: 0.10004495681811487 and parameters: {'alpha': 93.8020358891132, 'tol': 0.005645910717523327}. Best is trial 28 with value: 0.10004637589814801.\n",
      "[I 2025-05-24 17:05:35,679] Trial 168 finished with value: 0.10004609080849675 and parameters: {'alpha': 98.72158610691508, 'tol': 0.002118470515352383}. Best is trial 28 with value: 0.10004637589814801.\n",
      "[I 2025-05-24 17:05:36,303] Trial 169 finished with value: 0.10004609637084833 and parameters: {'alpha': 98.74584775797555, 'tol': 0.001182529060192123}. Best is trial 28 with value: 0.10004637589814801.\n",
      "[I 2025-05-24 17:05:37,591] Trial 170 finished with value: 0.10004605300949089 and parameters: {'alpha': 98.55674991116133, 'tol': 0.0014217276771490987}. Best is trial 28 with value: 0.10004637589814801.\n",
      "[I 2025-05-24 17:05:38,201] Trial 171 finished with value: 0.10004513625732549 and parameters: {'alpha': 94.57698219675565, 'tol': 0.0019206116049719437}. Best is trial 28 with value: 0.10004637589814801.\n",
      "[I 2025-05-24 17:05:39,558] Trial 172 finished with value: 0.10004614074740546 and parameters: {'alpha': 98.93945378660133, 'tol': 0.0016042967190354627}. Best is trial 28 with value: 0.10004637589814801.\n",
      "[I 2025-05-24 17:05:40,175] Trial 173 finished with value: 0.1000435262546441 and parameters: {'alpha': 87.67020048107759, 'tol': 0.0022264333051504404}. Best is trial 28 with value: 0.10004637589814801.\n",
      "[I 2025-05-24 17:05:41,525] Trial 174 finished with value: 0.10004605585087314 and parameters: {'alpha': 98.56913872010843, 'tol': 0.00505933246071865}. Best is trial 28 with value: 0.10004637589814801.\n",
      "[I 2025-05-24 17:05:42,123] Trial 175 finished with value: 0.10004631840800711 and parameters: {'alpha': 99.71537276402415, 'tol': 0.005644150570187049}. Best is trial 28 with value: 0.10004637589814801.\n",
      "[I 2025-05-24 17:05:43,510] Trial 176 finished with value: 0.10004631692094779 and parameters: {'alpha': 99.70887268396059, 'tol': 0.006583238671856969}. Best is trial 28 with value: 0.10004637589814801.\n",
      "[I 2025-05-24 17:05:44,131] Trial 177 finished with value: 0.1000463737472307 and parameters: {'alpha': 99.9573315515755, 'tol': 0.00391195648373683}. Best is trial 28 with value: 0.10004637589814801.\n",
      "[I 2025-05-24 17:05:45,428] Trial 178 finished with value: 0.10004632453976377 and parameters: {'alpha': 99.74217624104192, 'tol': 0.004657162760211333}. Best is trial 28 with value: 0.10004637589814801.\n",
      "[I 2025-05-24 17:05:46,043] Trial 179 finished with value: 0.10004637473750816 and parameters: {'alpha': 99.96166249124634, 'tol': 0.00526823447190992}. Best is trial 28 with value: 0.10004637589814801.\n",
      "[I 2025-05-24 17:05:47,380] Trial 180 finished with value: 0.10004625892430363 and parameters: {'alpha': 99.4554357414589, 'tol': 0.002786611937022647}. Best is trial 28 with value: 0.10004637589814801.\n",
      "[I 2025-05-24 17:05:47,979] Trial 181 finished with value: 0.10004619564281958 and parameters: {'alpha': 99.17906485414444, 'tol': 0.0028608976186228017}. Best is trial 28 with value: 0.10004637589814801.\n",
      "[I 2025-05-24 17:05:49,217] Trial 182 finished with value: 0.10004316062158869 and parameters: {'alpha': 86.11602694135819, 'tol': 0.0035323715686590065}. Best is trial 28 with value: 0.10004637589814801.\n",
      "[I 2025-05-24 17:05:50,174] Trial 183 finished with value: 0.10004187389152348 and parameters: {'alpha': 80.68796062535667, 'tol': 0.003946935899137239}. Best is trial 28 with value: 0.10004637589814801.\n",
      "[I 2025-05-24 17:05:51,322] Trial 184 finished with value: 0.10004314456913363 and parameters: {'alpha': 86.04791396853054, 'tol': 0.003790550909917776}. Best is trial 28 with value: 0.10004637589814801.\n",
      "[I 2025-05-24 17:05:52,109] Trial 185 finished with value: 0.10004634682954314 and parameters: {'alpha': 99.8396238005135, 'tol': 0.0043795628749919045}. Best is trial 28 with value: 0.10004637589814801.\n",
      "[I 2025-05-24 17:05:53,116] Trial 186 finished with value: 0.10004301750131245 and parameters: {'alpha': 85.50910169329987, 'tol': 0.0037371130436830344}. Best is trial 28 with value: 0.10004637589814801.\n",
      "[I 2025-05-24 17:05:54,102] Trial 187 finished with value: 0.10004593851315721 and parameters: {'alpha': 98.0578092434454, 'tol': 0.0037966899124077893}. Best is trial 28 with value: 0.10004637589814801.\n",
      "[I 2025-05-24 17:05:55,255] Trial 188 finished with value: 0.10004606812156638 and parameters: {'alpha': 98.62264444430049, 'tol': 0.004927261104312201}. Best is trial 28 with value: 0.10004637589814801.\n",
      "[I 2025-05-24 17:05:55,873] Trial 189 finished with value: 0.10004351856812652 and parameters: {'alpha': 87.63747377260248, 'tol': 0.004058300830342983}. Best is trial 28 with value: 0.10004637589814801.\n",
      "[I 2025-05-24 17:05:57,008] Trial 190 finished with value: 0.10004624606427517 and parameters: {'alpha': 99.39925828633172, 'tol': 0.004550175936265647}. Best is trial 28 with value: 0.10004637589814801.\n",
      "[I 2025-05-24 17:05:57,997] Trial 191 finished with value: 0.10004372287252725 and parameters: {'alpha': 88.50812888311502, 'tol': 0.0047630807028725365}. Best is trial 28 with value: 0.10004637589814801.\n",
      "[I 2025-05-24 17:05:59,151] Trial 192 finished with value: 0.10002779051291381 and parameters: {'alpha': 25.092221855084617, 'tol': 1.520165389146469e-05}. Best is trial 28 with value: 0.10004637589814801.\n",
      "[I 2025-05-24 17:05:59,748] Trial 193 finished with value: 0.10004628584616966 and parameters: {'alpha': 99.57306294342906, 'tol': 0.003899375543797099}. Best is trial 28 with value: 0.10004637589814801.\n",
      "[I 2025-05-24 17:06:00,905] Trial 194 finished with value: 0.10004615199104065 and parameters: {'alpha': 98.98852052059266, 'tol': 0.0042408353249913325}. Best is trial 28 with value: 0.10004637589814801.\n",
      "[I 2025-05-24 17:06:01,882] Trial 195 finished with value: 0.10004629762683677 and parameters: {'alpha': 99.62454462764481, 'tol': 0.002744295287087344}. Best is trial 28 with value: 0.10004637589814801.\n",
      "[I 2025-05-24 17:06:03,050] Trial 196 finished with value: 0.10004627669718757 and parameters: {'alpha': 99.53308575617233, 'tol': 0.0030944594292218854}. Best is trial 28 with value: 0.10004637589814801.\n",
      "[I 2025-05-24 17:06:03,654] Trial 197 finished with value: 0.1000459249905208 and parameters: {'alpha': 97.99891753774249, 'tol': 0.0024079605757535375}. Best is trial 28 with value: 0.10004637589814801.\n",
      "[I 2025-05-24 17:06:04,789] Trial 198 finished with value: 0.10004299471379402 and parameters: {'alpha': 85.41254128272764, 'tol': 0.002736800281593268}. Best is trial 28 with value: 0.10004637589814801.\n",
      "[I 2025-05-24 17:06:05,794] Trial 199 finished with value: 0.10002342587148214 and parameters: {'alpha': 9.1218705225822, 'tol': 0.0022337759584785647}. Best is trial 28 with value: 0.10004637589814801.\n",
      "[I 2025-05-24 17:06:07,108] Trial 200 finished with value: 0.10004612104586835 and parameters: {'alpha': 98.8534898184938, 'tol': 0.0040801798846371445}. Best is trial 28 with value: 0.10004637589814801.\n",
      "[I 2025-05-24 17:06:07,717] Trial 201 finished with value: 0.10004625606311542 and parameters: {'alpha': 99.44293639523784, 'tol': 0.003731718823282431}. Best is trial 28 with value: 0.10004637589814801.\n",
      "[I 2025-05-24 17:06:08,328] Trial 202 finished with value: 0.1000458596774062 and parameters: {'alpha': 97.71458250205885, 'tol': 0.004371013914167793}. Best is trial 28 with value: 0.10004637589814801.\n",
      "[I 2025-05-24 17:06:09,708] Trial 203 finished with value: 0.10004619927658871 and parameters: {'alpha': 99.19493019322465, 'tol': 0.005377412514637782}. Best is trial 28 with value: 0.10004637589814801.\n",
      "[I 2025-05-24 17:06:11,054] Trial 204 finished with value: 0.10004616741855002 and parameters: {'alpha': 99.05585406144831, 'tol': 0.006145678538548207}. Best is trial 28 with value: 0.10004637589814801.\n",
      "[I 2025-05-24 17:06:11,666] Trial 205 finished with value: 0.10004619885887443 and parameters: {'alpha': 99.19310638994577, 'tol': 0.005372149874454556}. Best is trial 28 with value: 0.10004637589814801.\n",
      "[I 2025-05-24 17:06:12,298] Trial 206 finished with value: 0.10004604783690353 and parameters: {'alpha': 98.53419759521695, 'tol': 0.004718663252899126}. Best is trial 28 with value: 0.10004637589814801.\n",
      "[I 2025-05-24 17:06:13,692] Trial 207 finished with value: 0.10004594095853434 and parameters: {'alpha': 98.0684597825959, 'tol': 0.005412977982737542}. Best is trial 28 with value: 0.10004637589814801.\n",
      "[I 2025-05-24 17:06:14,993] Trial 208 finished with value: 0.10004587497848537 and parameters: {'alpha': 97.7811786016392, 'tol': 0.00503122395536087}. Best is trial 28 with value: 0.10004637589814801.\n",
      "[I 2025-05-24 17:06:15,597] Trial 209 finished with value: 0.10004338457277624 and parameters: {'alpha': 87.06733878901102, 'tol': 0.004914413844816307}. Best is trial 28 with value: 0.10004637589814801.\n",
      "[I 2025-05-24 17:06:16,211] Trial 210 finished with value: 0.10004406566949682 and parameters: {'alpha': 89.97269394202449, 'tol': 0.005108122477449412}. Best is trial 28 with value: 0.10004637589814801.\n",
      "[I 2025-05-24 17:06:17,571] Trial 211 finished with value: 0.10004634324407205 and parameters: {'alpha': 99.82394725984656, 'tol': 0.002667309263419599}. Best is trial 28 with value: 0.10004637589814801.\n",
      "[I 2025-05-24 17:06:18,878] Trial 212 finished with value: 0.10004290663926807 and parameters: {'alpha': 85.03952241849568, 'tol': 0.002960860630345785}. Best is trial 28 with value: 0.10004637589814801.\n",
      "[I 2025-05-24 17:06:19,486] Trial 213 finished with value: 0.10004313741973433 and parameters: {'alpha': 86.01758124107656, 'tol': 0.0023875663358809206}. Best is trial 28 with value: 0.10004637589814801.\n",
      "[I 2025-05-24 17:06:20,119] Trial 214 finished with value: 0.10004570164683395 and parameters: {'alpha': 97.0273394525612, 'tol': 0.008095873726495558}. Best is trial 28 with value: 0.10004637589814801.\n",
      "[I 2025-05-24 17:06:21,753] Trial 215 finished with value: 0.10004210429057526 and parameters: {'alpha': 81.65520887471718, 'tol': 0.0015303397852664915}. Best is trial 28 with value: 0.10004637589814801.\n",
      "[I 2025-05-24 17:06:22,954] Trial 216 finished with value: 0.10004630034300478 and parameters: {'alpha': 99.63641514278756, 'tol': 0.002195003860195379}. Best is trial 28 with value: 0.10004637589814801.\n",
      "[I 2025-05-24 17:06:23,518] Trial 217 finished with value: 0.10004593423775052 and parameters: {'alpha': 98.03918883103046, 'tol': 0.0024872530244201456}. Best is trial 28 with value: 0.10004637589814801.\n",
      "[I 2025-05-24 17:06:23,946] Trial 218 finished with value: 0.1000463003864195 and parameters: {'alpha': 99.63660488114193, 'tol': 0.002302673772816422}. Best is trial 28 with value: 0.10004637589814801.\n",
      "[I 2025-05-24 17:06:25,858] Trial 219 finished with value: 0.1000463367810309 and parameters: {'alpha': 99.79569064892517, 'tol': 0.0035862693519624683}. Best is trial 28 with value: 0.10004637589814801.\n",
      "[I 2025-05-24 17:06:26,859] Trial 220 finished with value: 0.10004620596596024 and parameters: {'alpha': 99.22413798591347, 'tol': 0.003504116795716951}. Best is trial 28 with value: 0.10004637589814801.\n",
      "[I 2025-05-24 17:06:27,243] Trial 221 finished with value: 0.10004629199560382 and parameters: {'alpha': 99.59993533652258, 'tol': 0.003511336867762975}. Best is trial 28 with value: 0.10004637589814801.\n",
      "[I 2025-05-24 17:06:27,866] Trial 222 finished with value: 0.10004618904509104 and parameters: {'alpha': 99.15026002658712, 'tol': 0.0037642690884463225}. Best is trial 28 with value: 0.10004637589814801.\n",
      "[I 2025-05-24 17:06:29,770] Trial 223 finished with value: 0.10004632816091588 and parameters: {'alpha': 99.7580059610095, 'tol': 0.003067599573655385}. Best is trial 28 with value: 0.10004637589814801.\n",
      "[I 2025-05-24 17:06:30,769] Trial 224 finished with value: 0.10004628072208882 and parameters: {'alpha': 99.55067244437176, 'tol': 0.004343916107192606}. Best is trial 28 with value: 0.10004637589814801.\n",
      "[I 2025-05-24 17:06:31,165] Trial 225 finished with value: 0.10004606614025652 and parameters: {'alpha': 98.6140046212737, 'tol': 0.004087035249040172}. Best is trial 28 with value: 0.10004637589814801.\n",
      "[I 2025-05-24 17:06:31,772] Trial 226 finished with value: 0.10004635874569648 and parameters: {'alpha': 99.89172794402555, 'tol': 0.004659314153875879}. Best is trial 28 with value: 0.10004637589814801.\n",
      "[I 2025-05-24 17:06:33,725] Trial 227 finished with value: 0.10004585129472858 and parameters: {'alpha': 97.67810201617269, 'tol': 0.0026248114728858168}. Best is trial 28 with value: 0.10004637589814801.\n",
      "[I 2025-05-24 17:06:34,702] Trial 228 finished with value: 0.10004597419276322 and parameters: {'alpha': 98.21323194622731, 'tol': 0.00239394236607396}. Best is trial 28 with value: 0.10004637589814801.\n",
      "[I 2025-05-24 17:06:34,926] Trial 229 finished with value: 0.1000430341955633 and parameters: {'alpha': 85.57985519893751, 'tol': 0.002376643342586234}. Best is trial 28 with value: 0.10004637589814801.\n",
      "[I 2025-05-24 17:06:36,062] Trial 230 finished with value: 0.10004261119732724 and parameters: {'alpha': 83.79045100880887, 'tol': 0.0037065508269765353}. Best is trial 28 with value: 0.10004637589814801.\n",
      "[I 2025-05-24 17:06:37,620] Trial 231 finished with value: 0.10004287736396794 and parameters: {'alpha': 84.91560071484145, 'tol': 0.0032148063473960795}. Best is trial 28 with value: 0.10004637589814801.\n",
      "[I 2025-05-24 17:06:38,776] Trial 232 finished with value: 0.10004339123701204 and parameters: {'alpha': 87.09567765655571, 'tol': 0.0033328161649443517}. Best is trial 28 with value: 0.10004637589814801.\n",
      "[I 2025-05-24 17:06:38,804] Trial 233 finished with value: 0.10004636387753468 and parameters: {'alpha': 99.91416906329783, 'tol': 0.0041401069524570665}. Best is trial 28 with value: 0.10004637589814801.\n",
      "[I 2025-05-24 17:06:39,957] Trial 234 finished with value: 0.1000462251079255 and parameters: {'alpha': 99.30772782027641, 'tol': 0.004265436365921709}. Best is trial 28 with value: 0.10004637589814801.\n",
      "[I 2025-05-24 17:06:41,355] Trial 235 finished with value: 0.10004635319724908 and parameters: {'alpha': 99.86746626419773, 'tol': 0.003937627294441877}. Best is trial 28 with value: 0.10004637589814801.\n",
      "[I 2025-05-24 17:06:42,502] Trial 236 finished with value: 0.10004621655077253 and parameters: {'alpha': 99.27035824439866, 'tol': 0.003949561132940622}. Best is trial 28 with value: 0.10004637589814801.\n",
      "[I 2025-05-24 17:06:42,744] Trial 237 finished with value: 0.10004607539475832 and parameters: {'alpha': 98.65436177456328, 'tol': 0.004778911995777111}. Best is trial 28 with value: 0.10004637589814801.\n",
      "[I 2025-05-24 17:06:43,910] Trial 238 finished with value: 0.10004623667765848 and parameters: {'alpha': 99.3582583579308, 'tol': 0.0034671580239552515}. Best is trial 28 with value: 0.10004637589814801.\n",
      "[I 2025-05-24 17:06:45,291] Trial 239 finished with value: 0.1000432575911067 and parameters: {'alpha': 86.52769774955374, 'tol': 0.004324886452926043}. Best is trial 28 with value: 0.10004637589814801.\n",
      "[I 2025-05-24 17:06:46,437] Trial 240 finished with value: 0.1000459261410191 and parameters: {'alpha': 98.00392771607528, 'tol': 0.0032678883962283557}. Best is trial 28 with value: 0.10004637589814801.\n",
      "[I 2025-05-24 17:06:46,664] Trial 241 finished with value: 0.10004578358281997 and parameters: {'alpha': 97.38353377561083, 'tol': 0.003537514132850155}. Best is trial 28 with value: 0.10004637589814801.\n",
      "[I 2025-05-24 17:06:47,806] Trial 242 finished with value: 0.10004311204397322 and parameters: {'alpha': 85.909935746064, 'tol': 0.0036783958784978054}. Best is trial 28 with value: 0.10004637589814801.\n",
      "[I 2025-05-24 17:06:49,362] Trial 243 finished with value: 0.10004578370992977 and parameters: {'alpha': 97.38408656583158, 'tol': 0.0036314957831362236}. Best is trial 28 with value: 0.10004637589814801.\n",
      "[I 2025-05-24 17:06:50,345] Trial 244 finished with value: 0.1000461947803842 and parameters: {'alpha': 99.17529947001294, 'tol': 0.00450452516623419}. Best is trial 28 with value: 0.10004637589814801.\n",
      "[I 2025-05-24 17:06:50,570] Trial 245 finished with value: 0.10004607469315781 and parameters: {'alpha': 98.65130210116729, 'tol': 0.004319391943849223}. Best is trial 28 with value: 0.10004637589814801.\n",
      "[I 2025-05-24 17:06:51,712] Trial 246 finished with value: 0.10004622001730037 and parameters: {'alpha': 99.2854964018617, 'tol': 0.0038923396353234886}. Best is trial 28 with value: 0.10004637589814801.\n",
      "[I 2025-05-24 17:06:52,958] Trial 247 finished with value: 0.1000435266999842 and parameters: {'alpha': 87.67209666678144, 'tol': 0.0048001181282401875}. Best is trial 28 with value: 0.10004637589814801.\n",
      "[I 2025-05-24 17:06:53,594] Trial 248 finished with value: 0.10004636485676033 and parameters: {'alpha': 99.91845126399211, 'tol': 0.004435987577398385}. Best is trial 28 with value: 0.10004637589814801.\n",
      "[I 2025-05-24 17:06:53,796] Trial 249 finished with value: 0.1000428455912016 and parameters: {'alpha': 84.7811450364405, 'tol': 0.004476665067528063}. Best is trial 28 with value: 0.10004637589814801.\n"
     ]
    }
   ],
   "source": [
    "def objective(trial):    \n",
    "    params = {\n",
    "        \"random_state\": CFG.seed,\n",
    "        \"alpha\": trial.suggest_float(\"alpha\", 0, 100),\n",
    "        \"tol\": trial.suggest_float(\"tol\", 1e-6, 1e-2)\n",
    "    }\n",
    "    \n",
    "    trainer = Trainer(Ridge(**params))\n",
    "    return trainer.tune(X, y)\n",
    "\n",
    "if CFG.run_optuna:\n",
    "    sampler = optuna.samplers.TPESampler(seed=CFG.seed, multivariate=True)\n",
    "    study = optuna.create_study(direction=\"maximize\", sampler=sampler)\n",
    "    study.optimize(objective, n_trials=CFG.n_optuna_trials, n_jobs=-1, catch=(ValueError,))\n",
    "    best_params = study.best_params\n",
    "\n",
    "    ridge_params = {\n",
    "        \"random_state\": CFG.seed,\n",
    "        \"alpha\": best_params[\"alpha\"],\n",
    "        \"tol\": best_params[\"tol\"]\n",
    "    }\n",
    "else:\n",
    "    ridge_params = {\n",
    "        \"random_state\": CFG.seed\n",
    "    }"
   ]
  },
  {
   "cell_type": "code",
   "execution_count": 15,
   "id": "7defd519",
   "metadata": {
    "execution": {
     "iopub.execute_input": "2025-05-24T17:06:53.843216Z",
     "iopub.status.busy": "2025-05-24T17:06:53.842836Z",
     "iopub.status.idle": "2025-05-24T17:06:55.034565Z",
     "shell.execute_reply": "2025-05-24T17:06:55.033308Z"
    },
    "papermill": {
     "duration": 1.212975,
     "end_time": "2025-05-24T17:06:55.036338",
     "exception": false,
     "start_time": "2025-05-24T17:06:53.823363",
     "status": "completed"
    },
    "tags": []
   },
   "outputs": [
    {
     "name": "stdout",
     "output_type": "stream",
     "text": [
      "Training Ridge\n",
      "\n",
      "--- Fold 0 - Score: 0.177879\n",
      "--- Fold 1 - Score: 0.117279\n",
      "--- Fold 2 - Score: 0.081248\n",
      "--- Fold 3 - Score: 0.149459\n",
      "--- Fold 4 - Score: 0.075135\n",
      "\n",
      "------ Overall Score: 0.100046 - Mean Score: 0.120200 ± 0.039344\n"
     ]
    }
   ],
   "source": [
    "ridge_trainer = Trainer(Ridge(**ridge_params))\n",
    "\n",
    "_, ridge_test_preds, scores[\"Ridge (ensemble)\"] = ridge_trainer.fit_predict(X, y, X_test)"
   ]
  },
  {
   "cell_type": "markdown",
   "id": "b3dc06a7",
   "metadata": {
    "papermill": {
     "duration": 0.01832,
     "end_time": "2025-05-24T17:06:55.075887",
     "exception": false,
     "start_time": "2025-05-24T17:06:55.057567",
     "status": "completed"
    },
    "tags": []
   },
   "source": [
    "# Submission"
   ]
  },
  {
   "cell_type": "code",
   "execution_count": 16,
   "id": "306fff6c",
   "metadata": {
    "execution": {
     "iopub.execute_input": "2025-05-24T17:06:55.117059Z",
     "iopub.status.busy": "2025-05-24T17:06:55.116278Z",
     "iopub.status.idle": "2025-05-24T17:06:56.900394Z",
     "shell.execute_reply": "2025-05-24T17:06:56.899301Z"
    },
    "papermill": {
     "duration": 1.80587,
     "end_time": "2025-05-24T17:06:56.902069",
     "exception": false,
     "start_time": "2025-05-24T17:06:55.096199",
     "status": "completed"
    },
    "tags": []
   },
   "outputs": [
    {
     "data": {
      "text/html": [
       "<div>\n",
       "<style scoped>\n",
       "    .dataframe tbody tr th:only-of-type {\n",
       "        vertical-align: middle;\n",
       "    }\n",
       "\n",
       "    .dataframe tbody tr th {\n",
       "        vertical-align: top;\n",
       "    }\n",
       "\n",
       "    .dataframe thead th {\n",
       "        text-align: right;\n",
       "    }\n",
       "</style>\n",
       "<table border=\"1\" class=\"dataframe\">\n",
       "  <thead>\n",
       "    <tr style=\"text-align: right;\">\n",
       "      <th></th>\n",
       "      <th>ID</th>\n",
       "      <th>prediction</th>\n",
       "    </tr>\n",
       "  </thead>\n",
       "  <tbody>\n",
       "    <tr>\n",
       "      <th>0</th>\n",
       "      <td>1</td>\n",
       "      <td>0.081320</td>\n",
       "    </tr>\n",
       "    <tr>\n",
       "      <th>1</th>\n",
       "      <td>2</td>\n",
       "      <td>0.069961</td>\n",
       "    </tr>\n",
       "    <tr>\n",
       "      <th>2</th>\n",
       "      <td>3</td>\n",
       "      <td>0.038606</td>\n",
       "    </tr>\n",
       "    <tr>\n",
       "      <th>3</th>\n",
       "      <td>4</td>\n",
       "      <td>-0.031901</td>\n",
       "    </tr>\n",
       "    <tr>\n",
       "      <th>4</th>\n",
       "      <td>5</td>\n",
       "      <td>0.178168</td>\n",
       "    </tr>\n",
       "  </tbody>\n",
       "</table>\n",
       "</div>"
      ],
      "text/plain": [
       "   ID  prediction\n",
       "0   1    0.081320\n",
       "1   2    0.069961\n",
       "2   3    0.038606\n",
       "3   4   -0.031901\n",
       "4   5    0.178168"
      ]
     },
     "execution_count": 16,
     "metadata": {},
     "output_type": "execute_result"
    }
   ],
   "source": [
    "sub = pd.read_csv(CFG.sample_sub_path)\n",
    "sub[\"prediction\"] = ridge_test_preds\n",
    "sub.to_csv(f\"sub_ridge_{np.mean(scores['Ridge (ensemble)']):.6f}.csv\", index=False)\n",
    "sub.head()"
   ]
  },
  {
   "cell_type": "markdown",
   "id": "cd33773f",
   "metadata": {
    "papermill": {
     "duration": 0.018417,
     "end_time": "2025-05-24T17:06:56.939433",
     "exception": false,
     "start_time": "2025-05-24T17:06:56.921016",
     "status": "completed"
    },
    "tags": []
   },
   "source": [
    "# Results"
   ]
  },
  {
   "cell_type": "code",
   "execution_count": 17,
   "id": "6d97aac4",
   "metadata": {
    "execution": {
     "iopub.execute_input": "2025-05-24T17:06:56.979221Z",
     "iopub.status.busy": "2025-05-24T17:06:56.978865Z",
     "iopub.status.idle": "2025-05-24T17:06:57.462783Z",
     "shell.execute_reply": "2025-05-24T17:06:57.461677Z"
    },
    "papermill": {
     "duration": 0.506432,
     "end_time": "2025-05-24T17:06:57.464423",
     "exception": false,
     "start_time": "2025-05-24T17:06:56.957991",
     "status": "completed"
    },
    "tags": []
   },
   "outputs": [
    {
     "data": {
      "image/png": "[encoded data removed]",
      "text/plain": [
       "<Figure size 1500x200 with 2 Axes>"
      ]
     },
     "metadata": {},
     "output_type": "display_data"
    }
   ],
   "source": [
    "scores = pd.DataFrame(scores)\n",
    "mean_scores = scores.mean().sort_values(ascending=False)\n",
    "order = scores.mean().sort_values(ascending=False).index.tolist()\n",
    "\n",
    "min_score = mean_scores.min()\n",
    "max_score = mean_scores.max()\n",
    "padding = (max_score - min_score) * 0.5\n",
    "lower_limit = min_score - padding\n",
    "upper_limit = max_score + padding\n",
    "\n",
    "fig, axs = plt.subplots(1, 2, figsize=(15, scores.shape[1] * 0.5))\n",
    "\n",
    "boxplot = sns.boxplot(data=scores, order=order, ax=axs[0], orient=\"h\", color=\"grey\")\n",
    "axs[0].set_title(f\"Fold Score\")\n",
    "axs[0].set_xlabel(\"\")\n",
    "axs[0].set_ylabel(\"\")\n",
    "\n",
    "barplot = sns.barplot(x=mean_scores.values, y=mean_scores.index, ax=axs[1], color=\"grey\")\n",
    "axs[1].set_title(f\"Average Score\")\n",
    "axs[1].set_xlabel(\"\")\n",
    "axs[1].set_xlim(left=lower_limit, right=upper_limit)\n",
    "axs[1].set_ylabel(\"\")\n",
    "\n",
    "for i, (score, model) in enumerate(zip(mean_scores.values, mean_scores.index)):\n",
    "    color = \"cyan\" if \"ensemble\" in model.lower() else \"grey\"\n",
    "    barplot.patches[i].set_facecolor(color)\n",
    "    boxplot.patches[i].set_facecolor(color)\n",
    "    barplot.text(score, i, round(score, 6), va=\"center\")\n",
    "\n",
    "plt.tight_layout()\n",
    "plt.show()"
   ]
  }
 ],
 "metadata": {
  "kaggle": {
   "accelerator": "none",
   "dataSources": [
    {
     "databundleVersionId": 11418275,
     "sourceId": 96164,
     "sourceType": "competition"
    }
   ],
   "dockerImageVersionId": 31040,
   "isGpuEnabled": false,
   "isInternetEnabled": true,
   "language": "python",
   "sourceType": "notebook"
  },
  "kernelspec": {
   "display_name": "Python 3",
   "language": "python",
   "name": "python3"
  },
  "language_info": {
   "codemirror_mode": {
    "name": "ipython",
    "version": 3
   },
   "file_extension": ".py",
   "mimetype": "text/x-python",
   "name": "python",
   "nbconvert_exporter": "python",
   "pygments_lexer": "ipython3",
   "version": "3.11.11"
  },
  "papermill": {
   "default_parameters": {},
   "duration": 5624.061268,
   "end_time": "2025-05-24T17:07:01.197934",
   "environment_variables": {},
   "exception": null,
   "input_path": "__notebook__.ipynb",
   "output_path": "__notebook__.ipynb",
   "parameters": {},
   "start_time": "2025-05-24T15:33:17.136666",
   "version": "2.6.0"
  }
 },
 "nbformat": 4,
 "nbformat_minor": 5
}
