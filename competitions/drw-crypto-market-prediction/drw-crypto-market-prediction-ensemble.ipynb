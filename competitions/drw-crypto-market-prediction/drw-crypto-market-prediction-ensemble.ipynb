{
 "cells": [
  {
   "cell_type": "code",
   "execution_count": 1,
   "id": "b29a041f",
   "metadata": {
    "_kg_hide-output": true,
    "execution": {
     "iopub.execute_input": "2025-05-26T07:20:58.501361Z",
     "iopub.status.busy": "2025-05-26T07:20:58.500990Z",
     "iopub.status.idle": "2025-05-26T07:21:08.160105Z",
     "shell.execute_reply": "2025-05-26T07:21:08.159144Z"
    },
    "papermill": {
     "duration": 9.667811,
     "end_time": "2025-05-26T07:21:08.161980",
     "exception": false,
     "start_time": "2025-05-26T07:20:58.494169",
     "status": "completed"
    },
    "scrolled": true,
    "tags": []
   },
   "outputs": [
    {
     "name": "stdout",
     "output_type": "stream",
     "text": [
      "Collecting koolbox\r\n",
      "  Downloading koolbox-0.1.3-py3-none-any.whl.metadata (3.4 kB)\r\n",
      "Collecting scikit-learn==1.5.2\r\n",
      "  Downloading scikit_learn-1.5.2-cp311-cp311-manylinux_2_17_x86_64.manylinux2014_x86_64.whl.metadata (13 kB)\r\n",
      "Requirement already satisfied: numpy>=1.19.5 in /usr/local/lib/python3.11/dist-packages (from scikit-learn==1.5.2) (1.26.4)\r\n",
      "Requirement already satisfied: scipy>=1.6.0 in /usr/local/lib/python3.11/dist-packages (from scikit-learn==1.5.2) (1.15.2)\r\n",
      "Requirement already satisfied: joblib>=1.2.0 in /usr/local/lib/python3.11/dist-packages (from scikit-learn==1.5.2) (1.5.0)\r\n",
      "Requirement already satisfied: threadpoolctl>=3.1.0 in /usr/local/lib/python3.11/dist-packages (from scikit-learn==1.5.2) (3.6.0)\r\n",
      "Requirement already satisfied: optuna>=4.2.1 in /usr/local/lib/python3.11/dist-packages (from koolbox) (4.3.0)\r\n",
      "Requirement already satisfied: pandas>=2.2.3 in /usr/local/lib/python3.11/dist-packages (from koolbox) (2.2.3)\r\n",
      "Requirement already satisfied: mkl_fft in /usr/local/lib/python3.11/dist-packages (from numpy>=1.19.5->scikit-learn==1.5.2) (1.3.8)\r\n",
      "Requirement already satisfied: mkl_random in /usr/local/lib/python3.11/dist-packages (from numpy>=1.19.5->scikit-learn==1.5.2) (1.2.4)\r\n",
      "Requirement already satisfied: mkl_umath in /usr/local/lib/python3.11/dist-packages (from numpy>=1.19.5->scikit-learn==1.5.2) (0.1.1)\r\n",
      "Requirement already satisfied: mkl in /usr/local/lib/python3.11/dist-packages (from numpy>=1.19.5->scikit-learn==1.5.2) (2025.1.0)\r\n",
      "Requirement already satisfied: tbb4py in /usr/local/lib/python3.11/dist-packages (from numpy>=1.19.5->scikit-learn==1.5.2) (2022.1.0)\r\n",
      "Requirement already satisfied: mkl-service in /usr/local/lib/python3.11/dist-packages (from numpy>=1.19.5->scikit-learn==1.5.2) (2.4.1)\r\n",
      "Requirement already satisfied: alembic>=1.5.0 in /usr/local/lib/python3.11/dist-packages (from optuna>=4.2.1->koolbox) (1.15.2)\r\n",
      "Requirement already satisfied: colorlog in /usr/local/lib/python3.11/dist-packages (from optuna>=4.2.1->koolbox) (6.9.0)\r\n",
      "Requirement already satisfied: packaging>=20.0 in /usr/local/lib/python3.11/dist-packages (from optuna>=4.2.1->koolbox) (25.0)\r\n",
      "Requirement already satisfied: sqlalchemy>=1.4.2 in /usr/local/lib/python3.11/dist-packages (from optuna>=4.2.1->koolbox) (2.0.40)\r\n",
      "Requirement already satisfied: tqdm in /usr/local/lib/python3.11/dist-packages (from optuna>=4.2.1->koolbox) (4.67.1)\r\n",
      "Requirement already satisfied: PyYAML in /usr/local/lib/python3.11/dist-packages (from optuna>=4.2.1->koolbox) (6.0.2)\r\n",
      "Requirement already satisfied: python-dateutil>=2.8.2 in /usr/local/lib/python3.11/dist-packages (from pandas>=2.2.3->koolbox) (2.9.0.post0)\r\n",
      "Requirement already satisfied: pytz>=2020.1 in /usr/local/lib/python3.11/dist-packages (from pandas>=2.2.3->koolbox) (2025.2)\r\n",
      "Requirement already satisfied: tzdata>=2022.7 in /usr/local/lib/python3.11/dist-packages (from pandas>=2.2.3->koolbox) (2025.2)\r\n",
      "Requirement already satisfied: Mako in /usr/local/lib/python3.11/dist-packages (from alembic>=1.5.0->optuna>=4.2.1->koolbox) (1.3.10)\r\n",
      "Requirement already satisfied: typing-extensions>=4.12 in /usr/local/lib/python3.11/dist-packages (from alembic>=1.5.0->optuna>=4.2.1->koolbox) (4.13.2)\r\n",
      "Requirement already satisfied: six>=1.5 in /usr/local/lib/python3.11/dist-packages (from python-dateutil>=2.8.2->pandas>=2.2.3->koolbox) (1.17.0)\r\n",
      "Requirement already satisfied: greenlet>=1 in /usr/local/lib/python3.11/dist-packages (from sqlalchemy>=1.4.2->optuna>=4.2.1->koolbox) (3.1.1)\r\n",
      "Requirement already satisfied: intel-openmp<2026,>=2024 in /usr/local/lib/python3.11/dist-packages (from mkl->numpy>=1.19.5->scikit-learn==1.5.2) (2024.2.0)\r\n",
      "Requirement already satisfied: tbb==2022.* in /usr/local/lib/python3.11/dist-packages (from mkl->numpy>=1.19.5->scikit-learn==1.5.2) (2022.1.0)\r\n",
      "Requirement already satisfied: tcmlib==1.* in /usr/local/lib/python3.11/dist-packages (from tbb==2022.*->mkl->numpy>=1.19.5->scikit-learn==1.5.2) (1.3.0)\r\n",
      "Requirement already satisfied: intel-cmplr-lib-rt in /usr/local/lib/python3.11/dist-packages (from mkl_umath->numpy>=1.19.5->scikit-learn==1.5.2) (2024.2.0)\r\n",
      "Requirement already satisfied: intel-cmplr-lib-ur==2024.2.0 in /usr/local/lib/python3.11/dist-packages (from intel-openmp<2026,>=2024->mkl->numpy>=1.19.5->scikit-learn==1.5.2) (2024.2.0)\r\n",
      "Requirement already satisfied: MarkupSafe>=0.9.2 in /usr/local/lib/python3.11/dist-packages (from Mako->alembic>=1.5.0->optuna>=4.2.1->koolbox) (3.0.2)\r\n",
      "Downloading scikit_learn-1.5.2-cp311-cp311-manylinux_2_17_x86_64.manylinux2014_x86_64.whl (13.3 MB)\r\n",
      "\u001b[2K   \u001b[90m━━━━━━━━━━━━━━━━━━━━━━━━━━━━━━━━━━━━━━━━\u001b[0m \u001b[32m13.3/13.3 MB\u001b[0m \u001b[31m75.1 MB/s\u001b[0m eta \u001b[36m0:00:00\u001b[0m\r\n",
      "\u001b[?25hDownloading koolbox-0.1.3-py3-none-any.whl (18 kB)\r\n",
      "Installing collected packages: scikit-learn, koolbox\r\n",
      "  Attempting uninstall: scikit-learn\r\n",
      "    Found existing installation: scikit-learn 1.2.2\r\n",
      "    Uninstalling scikit-learn-1.2.2:\r\n",
      "      Successfully uninstalled scikit-learn-1.2.2\r\n",
      "\u001b[31mERROR: pip's dependency resolver does not currently take into account all the packages that are installed. This behaviour is the source of the following dependency conflicts.\r\n",
      "cesium 0.12.4 requires numpy<3.0,>=2.0, but you have numpy 1.26.4 which is incompatible.\u001b[0m\u001b[31m\r\n",
      "\u001b[0mSuccessfully installed koolbox-0.1.3 scikit-learn-1.5.2\r\n"
     ]
    }
   ],
   "source": [
    "!pip install koolbox scikit-learn==1.5.2"
   ]
  },
  {
   "cell_type": "markdown",
   "id": "df16623c",
   "metadata": {
    "papermill": {
     "duration": 0.004834,
     "end_time": "2025-05-26T07:21:08.172410",
     "exception": false,
     "start_time": "2025-05-26T07:21:08.167576",
     "status": "completed"
    },
    "tags": []
   },
   "source": [
    "# Imports and configs"
   ]
  },
  {
   "cell_type": "code",
   "execution_count": 2,
   "id": "c3a2878e",
   "metadata": {
    "_kg_hide-output": true,
    "execution": {
     "iopub.execute_input": "2025-05-26T07:21:08.183806Z",
     "iopub.status.busy": "2025-05-26T07:21:08.183458Z",
     "iopub.status.idle": "2025-05-26T07:21:17.663036Z",
     "shell.execute_reply": "2025-05-26T07:21:17.662055Z"
    },
    "papermill": {
     "duration": 9.487331,
     "end_time": "2025-05-26T07:21:17.664624",
     "exception": false,
     "start_time": "2025-05-26T07:21:08.177293",
     "status": "completed"
    },
    "tags": []
   },
   "outputs": [],
   "source": [
    "from sklearn.model_selection import KFold\n",
    "from sklearn.linear_model import Ridge\n",
    "from lightgbm import LGBMRegressor\n",
    "from scipy.stats import pearsonr\n",
    "from xgboost import XGBRegressor\n",
    "from sklearn.base import clone\n",
    "from koolbox import Trainer\n",
    "import matplotlib.pyplot as plt\n",
    "import seaborn as sns\n",
    "import pandas as pd\n",
    "import numpy as np\n",
    "import warnings\n",
    "import optuna\n",
    "import joblib\n",
    "import gc\n",
    "\n",
    "warnings.filterwarnings(\"ignore\")"
   ]
  },
  {
   "cell_type": "code",
   "execution_count": 3,
   "id": "b12a8b91",
   "metadata": {
    "execution": {
     "iopub.execute_input": "2025-05-26T07:21:17.676928Z",
     "iopub.status.busy": "2025-05-26T07:21:17.676284Z",
     "iopub.status.idle": "2025-05-26T07:21:17.681867Z",
     "shell.execute_reply": "2025-05-26T07:21:17.680856Z"
    },
    "papermill": {
     "duration": 0.013364,
     "end_time": "2025-05-26T07:21:17.683456",
     "exception": false,
     "start_time": "2025-05-26T07:21:17.670092",
     "status": "completed"
    },
    "tags": []
   },
   "outputs": [],
   "source": [
    "class CFG:\n",
    "    train_path = \"/kaggle/input/drw-crypto-market-prediction/train.parquet\"\n",
    "    test_path = \"/kaggle/input/drw-crypto-market-prediction/test.parquet\"\n",
    "    sample_sub_path = \"/kaggle/input/drw-crypto-market-prediction/sample_submission.csv\"\n",
    "\n",
    "    target = \"label\"\n",
    "    n_folds = 5\n",
    "    seed = 42\n",
    "\n",
    "    run_optuna = True\n",
    "    n_optuna_trials = 250"
   ]
  },
  {
   "cell_type": "markdown",
   "id": "3f27faf2",
   "metadata": {
    "papermill": {
     "duration": 0.004734,
     "end_time": "2025-05-26T07:21:17.693514",
     "exception": false,
     "start_time": "2025-05-26T07:21:17.688780",
     "status": "completed"
    },
    "tags": []
   },
   "source": [
    "# Data loading and preprocessing"
   ]
  },
  {
   "cell_type": "code",
   "execution_count": 4,
   "id": "aeb07132",
   "metadata": {
    "_kg_hide-input": true,
    "execution": {
     "iopub.execute_input": "2025-05-26T07:21:17.705229Z",
     "iopub.status.busy": "2025-05-26T07:21:17.704915Z",
     "iopub.status.idle": "2025-05-26T07:21:17.714314Z",
     "shell.execute_reply": "2025-05-26T07:21:17.713601Z"
    },
    "papermill": {
     "duration": 0.017272,
     "end_time": "2025-05-26T07:21:17.715757",
     "exception": false,
     "start_time": "2025-05-26T07:21:17.698485",
     "status": "completed"
    },
    "tags": []
   },
   "outputs": [],
   "source": [
    "def reduce_mem_usage(dataframe, dataset):    \n",
    "    print('Reducing memory usage for:', dataset)\n",
    "    initial_mem_usage = dataframe.memory_usage().sum() / 1024**2\n",
    "    \n",
    "    for col in dataframe.columns:\n",
    "        col_type = dataframe[col].dtype\n",
    "\n",
    "        c_min = dataframe[col].min()\n",
    "        c_max = dataframe[col].max()\n",
    "        if str(col_type)[:3] == 'int':\n",
    "            if c_min > np.iinfo(np.int8).min and c_max < np.iinfo(np.int8).max:\n",
    "                dataframe[col] = dataframe[col].astype(np.int8)\n",
    "            elif c_min > np.iinfo(np.int16).min and c_max < np.iinfo(np.int16).max:\n",
    "                dataframe[col] = dataframe[col].astype(np.int16)\n",
    "            elif c_min > np.iinfo(np.int32).min and c_max < np.iinfo(np.int32).max:\n",
    "                dataframe[col] = dataframe[col].astype(np.int32)\n",
    "            elif c_min > np.iinfo(np.int64).min and c_max < np.iinfo(np.int64).max:\n",
    "                dataframe[col] = dataframe[col].astype(np.int64)\n",
    "        else:\n",
    "            if c_min > np.finfo(np.float16).min and c_max < np.finfo(np.float16).max:\n",
    "                dataframe[col] = dataframe[col].astype(np.float16)\n",
    "            elif c_min > np.finfo(np.float32).min and c_max < np.finfo(np.float32).max:\n",
    "                dataframe[col] = dataframe[col].astype(np.float32)\n",
    "            else:\n",
    "                dataframe[col] = dataframe[col].astype(np.float64)\n",
    "\n",
    "    final_mem_usage = dataframe.memory_usage().sum() / 1024**2\n",
    "    print('--- Memory usage before: {:.2f} MB'.format(initial_mem_usage))\n",
    "    print('--- Memory usage after: {:.2f} MB'.format(final_mem_usage))\n",
    "    print('--- Decreased memory usage by {:.1f}%\\n'.format(100 * (initial_mem_usage - final_mem_usage) / initial_mem_usage))\n",
    "\n",
    "    return dataframe"
   ]
  },
  {
   "cell_type": "code",
   "execution_count": 5,
   "id": "476bded4",
   "metadata": {
    "execution": {
     "iopub.execute_input": "2025-05-26T07:21:17.727592Z",
     "iopub.status.busy": "2025-05-26T07:21:17.727214Z",
     "iopub.status.idle": "2025-05-26T07:21:17.732396Z",
     "shell.execute_reply": "2025-05-26T07:21:17.731730Z"
    },
    "papermill": {
     "duration": 0.012596,
     "end_time": "2025-05-26T07:21:17.733714",
     "exception": false,
     "start_time": "2025-05-26T07:21:17.721118",
     "status": "completed"
    },
    "tags": []
   },
   "outputs": [],
   "source": [
    "cols_to_drop = [\n",
    "    'X697', 'X698', 'X699', 'X700', 'X701', 'X702', 'X703', 'X704', 'X705', 'X706', \n",
    "    'X707', 'X708', 'X709', 'X710', 'X711', 'X712', 'X713', 'X714', 'X715', 'X716',\n",
    "    'X717', 'X864', 'X867', 'X869', 'X870', 'X871', 'X872', 'X104', 'X110', 'X116',\n",
    "    'X122', 'X128', 'X134', 'X140', 'X146', 'X152', 'X158', 'X164', 'X170', 'X176',\n",
    "    'X182', 'X351', 'X357', 'X363', 'X369', 'X375', 'X381', 'X387', 'X393', 'X399',\n",
    "    'X405', 'X411', 'X417', 'X423', 'X429'\n",
    "]"
   ]
  },
  {
   "cell_type": "code",
   "execution_count": 6,
   "id": "7ac1b2c2",
   "metadata": {
    "execution": {
     "iopub.execute_input": "2025-05-26T07:21:17.745326Z",
     "iopub.status.busy": "2025-05-26T07:21:17.745028Z",
     "iopub.status.idle": "2025-05-26T07:22:31.454372Z",
     "shell.execute_reply": "2025-05-26T07:22:31.453235Z"
    },
    "papermill": {
     "duration": 73.717248,
     "end_time": "2025-05-26T07:22:31.456246",
     "exception": false,
     "start_time": "2025-05-26T07:21:17.738998",
     "status": "completed"
    },
    "tags": []
   },
   "outputs": [
    {
     "name": "stdout",
     "output_type": "stream",
     "text": [
      "Reducing memory usage for: train\n",
      "--- Memory usage before: 3374.26 MB\n",
      "--- Memory usage after: 843.57 MB\n",
      "--- Decreased memory usage by 75.0%\n",
      "\n",
      "Reducing memory usage for: test\n",
      "--- Memory usage before: 3448.84 MB\n",
      "--- Memory usage after: 862.21 MB\n",
      "--- Decreased memory usage by 75.0%\n",
      "\n"
     ]
    }
   ],
   "source": [
    "train = pd.read_parquet(CFG.train_path).reset_index(drop=True)\n",
    "test = pd.read_parquet(CFG.test_path).reset_index(drop=True)\n",
    "\n",
    "train = train.drop(columns=cols_to_drop)\n",
    "test = test.drop(columns=[\"label\"] + cols_to_drop)\n",
    "\n",
    "train = reduce_mem_usage(train, \"train\")\n",
    "test = reduce_mem_usage(test, \"test\")\n",
    "\n",
    "X = train.drop(CFG.target, axis=1)\n",
    "y = train[CFG.target]\n",
    "X_test = test"
   ]
  },
  {
   "cell_type": "markdown",
   "id": "1c0e3e8a",
   "metadata": {
    "papermill": {
     "duration": 0.00523,
     "end_time": "2025-05-26T07:22:31.467432",
     "exception": false,
     "start_time": "2025-05-26T07:22:31.462202",
     "status": "completed"
    },
    "tags": []
   },
   "source": [
    "# Training base models"
   ]
  },
  {
   "cell_type": "code",
   "execution_count": 7,
   "id": "39c3cfba",
   "metadata": {
    "execution": {
     "iopub.execute_input": "2025-05-26T07:22:31.479429Z",
     "iopub.status.busy": "2025-05-26T07:22:31.479103Z",
     "iopub.status.idle": "2025-05-26T07:22:31.483549Z",
     "shell.execute_reply": "2025-05-26T07:22:31.482749Z"
    },
    "papermill": {
     "duration": 0.012419,
     "end_time": "2025-05-26T07:22:31.485185",
     "exception": false,
     "start_time": "2025-05-26T07:22:31.472766",
     "status": "completed"
    },
    "tags": []
   },
   "outputs": [],
   "source": [
    "def _pearsonr(y_true, y_pred):\n",
    "    return pearsonr(y_true, y_pred)[0]"
   ]
  },
  {
   "cell_type": "code",
   "execution_count": 8,
   "id": "6a2c99c6",
   "metadata": {
    "_kg_hide-input": true,
    "_kg_hide-output": true,
    "execution": {
     "iopub.execute_input": "2025-05-26T07:22:31.498443Z",
     "iopub.status.busy": "2025-05-26T07:22:31.498088Z",
     "iopub.status.idle": "2025-05-26T07:22:31.505333Z",
     "shell.execute_reply": "2025-05-26T07:22:31.504533Z"
    },
    "papermill": {
     "duration": 0.015898,
     "end_time": "2025-05-26T07:22:31.506759",
     "exception": false,
     "start_time": "2025-05-26T07:22:31.490861",
     "status": "completed"
    },
    "tags": []
   },
   "outputs": [],
   "source": [
    "lgbm_params = {\n",
    "    \"boosting_type\": \"gbdt\",\n",
    "    \"colsample_bytree\": 0.5625888953382505,\n",
    "    \"learning_rate\": 0.029312951475451557,\n",
    "    \"min_child_samples\": 63,\n",
    "    \"min_child_weight\": 0.11456572852335424,\n",
    "    \"n_estimators\": 126,\n",
    "    \"n_jobs\": -1,\n",
    "    \"num_leaves\": 37,\n",
    "    \"random_state\": 42,\n",
    "    \"reg_alpha\": 85.2476527854083,\n",
    "    \"reg_lambda\": 99.38305361388907,\n",
    "    \"subsample\": 0.450669817684892,\n",
    "    \"verbose\": -1\n",
    "}\n",
    "\n",
    "lgbm_goss_params = {\n",
    "    \"boosting_type\": \"goss\",\n",
    "    \"colsample_bytree\": 0.34695458228489784,\n",
    "    \"learning_rate\": 0.031023014900595287,\n",
    "    \"min_child_samples\": 30,\n",
    "    \"min_child_weight\": 0.4727729225033618,\n",
    "    \"n_estimators\": 220,\n",
    "    \"n_jobs\": -1,\n",
    "    \"num_leaves\": 58,\n",
    "    \"random_state\": 42,\n",
    "    \"reg_alpha\": 38.665994901468224,\n",
    "    \"reg_lambda\": 92.76991677464294,\n",
    "    \"subsample\": 0.4810891284493255,\n",
    "    \"verbose\": -1\n",
    "}\n",
    "\n",
    "xgb_params = {\n",
    "    \"colsample_bylevel\": 0.4778015829774066,\n",
    "    \"colsample_bynode\": 0.362764358742407,\n",
    "    \"colsample_bytree\": 0.7107423488010493,\n",
    "    \"gamma\": 1.7094857725240398,\n",
    "    \"learning_rate\": 0.02213323588455387,\n",
    "    \"max_depth\": 20,\n",
    "    \"max_leaves\": 12,\n",
    "    \"min_child_weight\": 16,\n",
    "    \"n_estimators\": 1667,\n",
    "    \"n_jobs\": -1,\n",
    "    \"random_state\": 42,\n",
    "    \"reg_alpha\": 39.352415706891264,\n",
    "    \"reg_lambda\": 75.44843704068275,\n",
    "    \"subsample\": 0.06566669853471274,\n",
    "    \"verbosity\": 0\n",
    "}"
   ]
  },
  {
   "cell_type": "code",
   "execution_count": 9,
   "id": "c468e317",
   "metadata": {
    "execution": {
     "iopub.execute_input": "2025-05-26T07:22:31.518707Z",
     "iopub.status.busy": "2025-05-26T07:22:31.518303Z",
     "iopub.status.idle": "2025-05-26T07:22:31.522834Z",
     "shell.execute_reply": "2025-05-26T07:22:31.521897Z"
    },
    "papermill": {
     "duration": 0.01218,
     "end_time": "2025-05-26T07:22:31.524322",
     "exception": false,
     "start_time": "2025-05-26T07:22:31.512142",
     "status": "completed"
    },
    "tags": []
   },
   "outputs": [],
   "source": [
    "scores = {}\n",
    "oof_preds = {}\n",
    "test_preds = {}"
   ]
  },
  {
   "cell_type": "markdown",
   "id": "9aae29d7",
   "metadata": {
    "papermill": {
     "duration": 0.005291,
     "end_time": "2025-05-26T07:22:31.535373",
     "exception": false,
     "start_time": "2025-05-26T07:22:31.530082",
     "status": "completed"
    },
    "tags": []
   },
   "source": [
    "## LightGBM (gbdt)"
   ]
  },
  {
   "cell_type": "code",
   "execution_count": 10,
   "id": "ed8a8e8b",
   "metadata": {
    "execution": {
     "iopub.execute_input": "2025-05-26T07:22:31.548037Z",
     "iopub.status.busy": "2025-05-26T07:22:31.547094Z",
     "iopub.status.idle": "2025-05-26T07:30:57.001323Z",
     "shell.execute_reply": "2025-05-26T07:30:57.000020Z"
    },
    "papermill": {
     "duration": 505.462789,
     "end_time": "2025-05-26T07:30:57.003453",
     "exception": false,
     "start_time": "2025-05-26T07:22:31.540664",
     "status": "completed"
    },
    "tags": []
   },
   "outputs": [
    {
     "name": "stdout",
     "output_type": "stream",
     "text": [
      "Training LGBMRegressor\n",
      "\n",
      "--- Fold 0 - _pearsonr: 0.150007 - Time: 92.59 s\n",
      "--- Fold 1 - _pearsonr: 0.106218 - Time: 91.53 s\n",
      "--- Fold 2 - _pearsonr: 0.051978 - Time: 98.46 s\n",
      "--- Fold 3 - _pearsonr: 0.149599 - Time: 94.83 s\n",
      "--- Fold 4 - _pearsonr: 0.084418 - Time: 95.00 s\n",
      "\n",
      "------ Overall _pearsonr: 0.097663 - Mean _pearsonr: 0.108444 ± 0.037926 - Time: 473.24 s\n"
     ]
    }
   ],
   "source": [
    "lgbm_trainer = Trainer(\n",
    "    LGBMRegressor(**lgbm_params),\n",
    "    cv=KFold(n_splits=5, shuffle=False),\n",
    "    metric=_pearsonr,\n",
    "    task=\"regression\",\n",
    "    metric_precision=6\n",
    ")\n",
    "\n",
    "lgbm_trainer.fit(X, y)\n",
    "\n",
    "scores[\"LightGBM (gbdt)\"] = lgbm_trainer.fold_scores\n",
    "oof_preds[\"LightGBM (gbdt)\"] = lgbm_trainer.oof_preds\n",
    "test_preds[\"LightGBM (gbdt)\"] = lgbm_trainer.predict(X_test)"
   ]
  },
  {
   "cell_type": "markdown",
   "id": "e6cd25cd",
   "metadata": {
    "papermill": {
     "duration": 0.0054,
     "end_time": "2025-05-26T07:30:57.015440",
     "exception": false,
     "start_time": "2025-05-26T07:30:57.010040",
     "status": "completed"
    },
    "tags": []
   },
   "source": [
    "## LightGBM (goss)"
   ]
  },
  {
   "cell_type": "code",
   "execution_count": 11,
   "id": "67a886da",
   "metadata": {
    "execution": {
     "iopub.execute_input": "2025-05-26T07:30:57.028318Z",
     "iopub.status.busy": "2025-05-26T07:30:57.028008Z",
     "iopub.status.idle": "2025-05-26T07:39:59.719962Z",
     "shell.execute_reply": "2025-05-26T07:39:59.719104Z"
    },
    "papermill": {
     "duration": 542.700974,
     "end_time": "2025-05-26T07:39:59.722129",
     "exception": false,
     "start_time": "2025-05-26T07:30:57.021155",
     "status": "completed"
    },
    "tags": []
   },
   "outputs": [
    {
     "name": "stdout",
     "output_type": "stream",
     "text": [
      "Training LGBMRegressor\n",
      "\n",
      "--- Fold 0 - _pearsonr: 0.191813 - Time: 97.76 s\n",
      "--- Fold 1 - _pearsonr: 0.095524 - Time: 98.86 s\n",
      "--- Fold 2 - _pearsonr: 0.046717 - Time: 100.44 s\n",
      "--- Fold 3 - _pearsonr: 0.119309 - Time: 103.04 s\n",
      "--- Fold 4 - _pearsonr: 0.084316 - Time: 97.62 s\n",
      "\n",
      "------ Overall _pearsonr: 0.099838 - Mean _pearsonr: 0.107536 ± 0.048215 - Time: 498.53 s\n"
     ]
    }
   ],
   "source": [
    "lgbm_goss_trainer = Trainer(\n",
    "    LGBMRegressor(**lgbm_goss_params),\n",
    "    cv=KFold(n_splits=5, shuffle=False),\n",
    "    metric=_pearsonr,\n",
    "    task=\"regression\",\n",
    "    metric_precision=6\n",
    ")\n",
    "\n",
    "lgbm_goss_trainer.fit(X, y)\n",
    "\n",
    "scores[\"LightGBM (goss)\"] = lgbm_goss_trainer.fold_scores\n",
    "oof_preds[\"LightGBM (goss)\"] = lgbm_goss_trainer.oof_preds\n",
    "test_preds[\"LightGBM (goss)\"] = lgbm_goss_trainer.predict(X_test)"
   ]
  },
  {
   "cell_type": "markdown",
   "id": "9c8f013b",
   "metadata": {
    "papermill": {
     "duration": 0.005737,
     "end_time": "2025-05-26T07:39:59.734382",
     "exception": false,
     "start_time": "2025-05-26T07:39:59.728645",
     "status": "completed"
    },
    "tags": []
   },
   "source": [
    "## XGBoost"
   ]
  },
  {
   "cell_type": "code",
   "execution_count": 12,
   "id": "8b555607",
   "metadata": {
    "execution": {
     "iopub.execute_input": "2025-05-26T07:39:59.747506Z",
     "iopub.status.busy": "2025-05-26T07:39:59.747105Z",
     "iopub.status.idle": "2025-05-26T09:17:06.101097Z",
     "shell.execute_reply": "2025-05-26T09:17:06.100089Z"
    },
    "papermill": {
     "duration": 5826.36439,
     "end_time": "2025-05-26T09:17:06.104714",
     "exception": false,
     "start_time": "2025-05-26T07:39:59.740324",
     "status": "completed"
    },
    "tags": []
   },
   "outputs": [
    {
     "name": "stdout",
     "output_type": "stream",
     "text": [
      "Training XGBRegressor\n",
      "\n",
      "--- Fold 0 - _pearsonr: 0.194696 - Time: 1115.36 s\n",
      "--- Fold 1 - _pearsonr: 0.111372 - Time: 1131.58 s\n",
      "--- Fold 2 - _pearsonr: 0.068547 - Time: 1196.15 s\n",
      "--- Fold 3 - _pearsonr: 0.141544 - Time: 1178.06 s\n",
      "--- Fold 4 - _pearsonr: 0.062769 - Time: 1142.59 s\n",
      "\n",
      "------ Overall _pearsonr: 0.106427 - Mean _pearsonr: 0.115786 ± 0.048892 - Time: 5764.70 s\n"
     ]
    }
   ],
   "source": [
    "xgb_trainer = Trainer(\n",
    "    XGBRegressor(**xgb_params),\n",
    "    cv=KFold(n_splits=5, shuffle=False),\n",
    "    metric=_pearsonr,\n",
    "    task=\"regression\",\n",
    "    metric_precision=6\n",
    ")\n",
    "\n",
    "xgb_trainer.fit(X, y)\n",
    "\n",
    "scores[\"XGBoost\"] = xgb_trainer.fold_scores\n",
    "oof_preds[\"XGBoost\"] = xgb_trainer.oof_preds\n",
    "test_preds[\"XGBoost\"] = xgb_trainer.predict(X_test)"
   ]
  },
  {
   "cell_type": "markdown",
   "id": "097201df",
   "metadata": {
    "papermill": {
     "duration": 0.006868,
     "end_time": "2025-05-26T09:17:06.124965",
     "exception": false,
     "start_time": "2025-05-26T09:17:06.118097",
     "status": "completed"
    },
    "tags": []
   },
   "source": [
    "# Ensembling with Ridge"
   ]
  },
  {
   "cell_type": "code",
   "execution_count": 13,
   "id": "e9cb0b03",
   "metadata": {
    "_kg_hide-input": true,
    "execution": {
     "iopub.execute_input": "2025-05-26T09:17:06.140625Z",
     "iopub.status.busy": "2025-05-26T09:17:06.140237Z",
     "iopub.status.idle": "2025-05-26T09:17:06.151046Z",
     "shell.execute_reply": "2025-05-26T09:17:06.150116Z"
    },
    "papermill": {
     "duration": 0.021156,
     "end_time": "2025-05-26T09:17:06.152569",
     "exception": false,
     "start_time": "2025-05-26T09:17:06.131413",
     "status": "completed"
    },
    "tags": []
   },
   "outputs": [],
   "source": [
    "def plot_weights(weights, title):\n",
    "    sorted_indices = np.argsort(weights[0])[::-1]\n",
    "    sorted_coeffs = np.array(weights[0])[sorted_indices]\n",
    "    sorted_model_names = np.array(list(oof_preds.keys()))[sorted_indices]\n",
    "\n",
    "    plt.figure(figsize=(10, weights.shape[1] * 0.5))\n",
    "    ax = sns.barplot(x=sorted_coeffs, y=sorted_model_names, palette=\"RdYlGn_r\")\n",
    "\n",
    "    for i, (value, name) in enumerate(zip(sorted_coeffs, sorted_model_names)):\n",
    "        if value >= 0:\n",
    "            ax.text(value, i, f\"{value:.3f}\", va=\"center\", ha=\"left\", color=\"black\")\n",
    "        else:\n",
    "            ax.text(value, i, f\"{value:.3f}\", va=\"center\", ha=\"right\", color=\"black\")\n",
    "\n",
    "    xlim = ax.get_xlim()\n",
    "    ax.set_xlim(xlim[0] - 0.1 * abs(xlim[0]), xlim[1] + 0.1 * abs(xlim[1]))\n",
    "\n",
    "    plt.title(title)\n",
    "    plt.xlabel(\"\")\n",
    "    plt.ylabel(\"\")\n",
    "    plt.tight_layout()\n",
    "    plt.show()"
   ]
  },
  {
   "cell_type": "code",
   "execution_count": 14,
   "id": "e64d90c6",
   "metadata": {
    "execution": {
     "iopub.execute_input": "2025-05-26T09:17:06.167723Z",
     "iopub.status.busy": "2025-05-26T09:17:06.166902Z",
     "iopub.status.idle": "2025-05-26T09:17:06.187275Z",
     "shell.execute_reply": "2025-05-26T09:17:06.186179Z"
    },
    "papermill": {
     "duration": 0.030046,
     "end_time": "2025-05-26T09:17:06.189250",
     "exception": false,
     "start_time": "2025-05-26T09:17:06.159204",
     "status": "completed"
    },
    "tags": []
   },
   "outputs": [],
   "source": [
    "X = pd.DataFrame(oof_preds)\n",
    "X_test = pd.DataFrame(test_preds)"
   ]
  },
  {
   "cell_type": "code",
   "execution_count": 15,
   "id": "d0a0b502",
   "metadata": {
    "execution": {
     "iopub.execute_input": "2025-05-26T09:17:06.210870Z",
     "iopub.status.busy": "2025-05-26T09:17:06.210216Z",
     "iopub.status.idle": "2025-05-26T09:17:06.246186Z",
     "shell.execute_reply": "2025-05-26T09:17:06.245083Z"
    },
    "papermill": {
     "duration": 0.046743,
     "end_time": "2025-05-26T09:17:06.248004",
     "exception": false,
     "start_time": "2025-05-26T09:17:06.201261",
     "status": "completed"
    },
    "tags": []
   },
   "outputs": [
    {
     "data": {
      "text/plain": [
       "['test_preds.pkl']"
      ]
     },
     "execution_count": 15,
     "metadata": {},
     "output_type": "execute_result"
    }
   ],
   "source": [
    "joblib.dump(X, \"oof_preds.pkl\")\n",
    "joblib.dump(X_test, \"test_preds.pkl\")"
   ]
  },
  {
   "cell_type": "code",
   "execution_count": 16,
   "id": "07b636c4",
   "metadata": {
    "_kg_hide-output": true,
    "execution": {
     "iopub.execute_input": "2025-05-26T09:17:06.262926Z",
     "iopub.status.busy": "2025-05-26T09:17:06.262494Z",
     "iopub.status.idle": "2025-05-26T09:21:00.460977Z",
     "shell.execute_reply": "2025-05-26T09:21:00.459812Z"
    },
    "papermill": {
     "duration": 234.207657,
     "end_time": "2025-05-26T09:21:00.462658",
     "exception": false,
     "start_time": "2025-05-26T09:17:06.255001",
     "status": "completed"
    },
    "scrolled": true,
    "tags": []
   },
   "outputs": [
    {
     "name": "stderr",
     "output_type": "stream",
     "text": [
      "[I 2025-05-26 09:17:06,268] A new study created in memory with name: no-name-46410b46-18ca-478f-99d8-cfe9f09bb498\n",
      "[I 2025-05-26 09:17:09,601] Trial 0 finished with value: 0.11553802979826307 and parameters: {'alpha': 824.5668266018881, 'tol': 0.007438545940772527, 'fit_intercept': False, 'positive': False}. Best is trial 0 with value: 0.11553802979826307.\n",
      "[I 2025-05-26 09:17:09,618] Trial 3 finished with value: 0.11520945073881239 and parameters: {'alpha': 532.7918111849315, 'tol': 0.004333532709875303, 'fit_intercept': False, 'positive': False}. Best is trial 0 with value: 0.11553802979826307.\n",
      "[I 2025-05-26 09:17:10,031] Trial 1 finished with value: 0.1157785011420589 and parameters: {'alpha': 594.4581356909031, 'tol': 7.115073107039086e-05, 'fit_intercept': False, 'positive': True}. Best is trial 1 with value: 0.1157785011420589.\n",
      "[I 2025-05-26 09:17:10,204] Trial 2 finished with value: 0.11829742015764486 and parameters: {'alpha': 76.06056354005031, 'tol': 0.0021667188776925824, 'fit_intercept': False, 'positive': True}. Best is trial 2 with value: 0.11829742015764486.\n",
      "[I 2025-05-26 09:17:12,905] Trial 4 finished with value: 0.11491129179783269 and parameters: {'alpha': 385.2511169566003, 'tol': 0.005401341117348617, 'fit_intercept': True, 'positive': False}. Best is trial 2 with value: 0.11829742015764486.\n",
      "[I 2025-05-26 09:17:13,469] Trial 5 finished with value: 0.1183054473148439 and parameters: {'alpha': 654.9772975148283, 'tol': 0.00587248571622137, 'fit_intercept': False, 'positive': True}. Best is trial 5 with value: 0.1183054473148439.\n",
      "[I 2025-05-26 09:17:13,646] Trial 7 finished with value: 0.11447060182549385 and parameters: {'alpha': 13.226306051851711, 'tol': 0.0034983513223007545, 'fit_intercept': False, 'positive': False}. Best is trial 5 with value: 0.1183054473148439.\n",
      "[I 2025-05-26 09:17:13,862] Trial 6 finished with value: 0.11817440438500826 and parameters: {'alpha': 455.0199326300829, 'tol': 0.005654893351167664, 'fit_intercept': True, 'positive': True}. Best is trial 5 with value: 0.1183054473148439.\n",
      "[I 2025-05-26 09:17:16,110] Trial 8 finished with value: 0.11553220056123296 and parameters: {'alpha': 945.124709683487, 'tol': 0.005421373928945281, 'fit_intercept': True, 'positive': False}. Best is trial 5 with value: 0.1183054473148439.\n",
      "[I 2025-05-26 09:17:16,835] Trial 10 finished with value: 0.1151470017433969 and parameters: {'alpha': 482.2443473960255, 'tol': 0.0032953623116302906, 'fit_intercept': False, 'positive': False}. Best is trial 5 with value: 0.1183054473148439.\n",
      "[I 2025-05-26 09:17:17,333] Trial 9 finished with value: 0.11935002318983139 and parameters: {'alpha': 970.8512763879097, 'tol': 0.008653545424426968, 'fit_intercept': False, 'positive': True}. Best is trial 9 with value: 0.11935002318983139.\n",
      "[I 2025-05-26 09:17:17,352] Trial 11 finished with value: 0.11545708192241495 and parameters: {'alpha': 748.3365147917158, 'tol': 0.009077933638618241, 'fit_intercept': False, 'positive': False}. Best is trial 9 with value: 0.11935002318983139.\n",
      "[I 2025-05-26 09:17:19,980] Trial 12 finished with value: 0.11867575745792436 and parameters: {'alpha': 919.0467378807955, 'tol': 0.005139363124094085, 'fit_intercept': False, 'positive': True}. Best is trial 9 with value: 0.11935002318983139.\n",
      "[I 2025-05-26 09:17:20,573] Trial 13 finished with value: 0.11898231918835031 and parameters: {'alpha': 674.8214312073928, 'tol': 0.008233012235979338, 'fit_intercept': False, 'positive': True}. Best is trial 9 with value: 0.11935002318983139.\n",
      "[I 2025-05-26 09:17:21,087] Trial 15 finished with value: 0.11935002117789836 and parameters: {'alpha': 972.249964444331, 'tol': 0.008469660383131863, 'fit_intercept': False, 'positive': True}. Best is trial 9 with value: 0.11935002318983139.\n",
      "[I 2025-05-26 09:17:21,101] Trial 14 finished with value: 0.11898190761739506 and parameters: {'alpha': 582.6430110724175, 'tol': 0.009972467233440177, 'fit_intercept': False, 'positive': True}. Best is trial 9 with value: 0.11935002318983139.\n",
      "[I 2025-05-26 09:17:23,756] Trial 16 finished with value: 0.1186761640474528 and parameters: {'alpha': 971.3447846673051, 'tol': 0.0017983202601499952, 'fit_intercept': False, 'positive': True}. Best is trial 9 with value: 0.11935002318983139.\n",
      "[I 2025-05-26 09:17:24,681] Trial 17 finished with value: 0.11916663936771059 and parameters: {'alpha': 945.543398553208, 'tol': 0.009278383331048638, 'fit_intercept': True, 'positive': True}. Best is trial 9 with value: 0.11935002318983139.\n",
      "[I 2025-05-26 09:17:24,736] Trial 18 finished with value: 0.11935002447398446 and parameters: {'alpha': 969.9585496339797, 'tol': 0.008536757423563213, 'fit_intercept': False, 'positive': True}. Best is trial 18 with value: 0.11935002447398446.\n",
      "[I 2025-05-26 09:17:24,927] Trial 19 finished with value: 0.11916661875498842 and parameters: {'alpha': 780.0805481817495, 'tol': 0.009914272616168169, 'fit_intercept': True, 'positive': True}. Best is trial 18 with value: 0.11935002447398446.\n",
      "[I 2025-05-26 09:17:27,616] Trial 20 finished with value: 0.11916663233757482 and parameters: {'alpha': 888.5996712879146, 'tol': 0.009219698186966257, 'fit_intercept': True, 'positive': True}. Best is trial 18 with value: 0.11935002447398446.\n",
      "[I 2025-05-26 09:17:28,021] Trial 22 finished with value: 0.11441270511951118 and parameters: {'alpha': 35.93998731873813, 'tol': 0.007635527048569015, 'fit_intercept': True, 'positive': False}. Best is trial 18 with value: 0.11935002447398446.\n",
      "[I 2025-05-26 09:17:28,524] Trial 21 finished with value: 0.11934999905710528 and parameters: {'alpha': 987.6297063763066, 'tol': 0.009915397195014452, 'fit_intercept': False, 'positive': True}. Best is trial 18 with value: 0.11935002447398446.\n",
      "[I 2025-05-26 09:17:28,538] Trial 23 finished with value: 0.11485590130872617 and parameters: {'alpha': 342.71347413033027, 'tol': 0.0008839916331483009, 'fit_intercept': True, 'positive': False}. Best is trial 18 with value: 0.11935002447398446.\n",
      "[I 2025-05-26 09:17:31,167] Trial 24 finished with value: 0.11867627957837956 and parameters: {'alpha': 986.2196075909527, 'tol': 0.007725995633921987, 'fit_intercept': False, 'positive': True}. Best is trial 18 with value: 0.11935002447398446.\n",
      "[I 2025-05-26 09:17:31,711] Trial 25 finished with value: 0.11935001588821481 and parameters: {'alpha': 975.9274370628822, 'tol': 0.009542263833217839, 'fit_intercept': False, 'positive': True}. Best is trial 18 with value: 0.11935002447398446.\n",
      "[I 2025-05-26 09:17:32,313] Trial 26 finished with value: 0.1186762112629312 and parameters: {'alpha': 977.4230884757119, 'tol': 0.006752113366380792, 'fit_intercept': False, 'positive': True}. Best is trial 18 with value: 0.11935002447398446.\n",
      "[I 2025-05-26 09:17:32,346] Trial 27 finished with value: 0.1186762679273324 and parameters: {'alpha': 984.7192217584874, 'tol': 0.00737053998984681, 'fit_intercept': False, 'positive': True}. Best is trial 18 with value: 0.11935002447398446.\n",
      "[I 2025-05-26 09:17:34,995] Trial 28 finished with value: 0.11867614673891111 and parameters: {'alpha': 969.116831597083, 'tol': 0.007758975090075915, 'fit_intercept': False, 'positive': True}. Best is trial 18 with value: 0.11935002447398446.\n",
      "[I 2025-05-26 09:17:35,362] Trial 29 finished with value: 0.11855789633712213 and parameters: {'alpha': 962.9261975041165, 'tol': 0.006158048376854169, 'fit_intercept': True, 'positive': True}. Best is trial 18 with value: 0.11935002447398446.\n",
      "[I 2025-05-26 09:17:35,873] Trial 30 finished with value: 0.11542458910429317 and parameters: {'alpha': 835.5392181187358, 'tol': 0.0013027184112603838, 'fit_intercept': True, 'positive': False}. Best is trial 18 with value: 0.11935002447398446.\n",
      "[I 2025-05-26 09:17:35,900] Trial 31 finished with value: 0.11511513188954536 and parameters: {'alpha': 551.185530583292, 'tol': 0.008387116011846635, 'fit_intercept': True, 'positive': False}. Best is trial 18 with value: 0.11935002447398446.\n",
      "[I 2025-05-26 09:17:38,460] Trial 32 finished with value: 0.11566965955268631 and parameters: {'alpha': 955.3597865123079, 'tol': 0.0055693055805695465, 'fit_intercept': False, 'positive': False}. Best is trial 18 with value: 0.11935002447398446.\n",
      "[I 2025-05-26 09:17:39,400] Trial 33 finished with value: 0.11829692250657049 and parameters: {'alpha': 40.50326913361624, 'tol': 0.008077513604500148, 'fit_intercept': False, 'positive': True}. Best is trial 18 with value: 0.11935002447398446.\n",
      "[I 2025-05-26 09:17:39,429] Trial 34 finished with value: 0.11561641446867996 and parameters: {'alpha': 901.3899978537623, 'tol': 0.00769699276819591, 'fit_intercept': False, 'positive': False}. Best is trial 18 with value: 0.11935002447398446.\n",
      "[I 2025-05-26 09:17:39,847] Trial 35 finished with value: 0.11898303227667376 and parameters: {'alpha': 835.3023740119348, 'tol': 0.00978608850711589, 'fit_intercept': False, 'positive': True}. Best is trial 18 with value: 0.11935002447398446.\n",
      "[I 2025-05-26 09:17:41,801] Trial 36 finished with value: 0.11567178015735455 and parameters: {'alpha': 957.5402592268064, 'tol': 0.00967294775256872, 'fit_intercept': False, 'positive': False}. Best is trial 18 with value: 0.11935002447398446.\n",
      "[I 2025-05-26 09:17:42,744] Trial 37 finished with value: 0.1157037922522784 and parameters: {'alpha': 990.7516279968814, 'tol': 0.008193766463105821, 'fit_intercept': False, 'positive': False}. Best is trial 18 with value: 0.11935002447398446.\n",
      "[I 2025-05-26 09:17:43,357] Trial 38 finished with value: 0.11935004867040329 and parameters: {'alpha': 953.1391855151561, 'tol': 0.009687874724213882, 'fit_intercept': False, 'positive': True}. Best is trial 38 with value: 0.11935004867040329.\n",
      "[I 2025-05-26 09:17:43,779] Trial 39 finished with value: 0.11935010763035865 and parameters: {'alpha': 912.1683815009635, 'tol': 0.009541341925337492, 'fit_intercept': False, 'positive': True}. Best is trial 39 with value: 0.11935010763035865.\n",
      "[I 2025-05-26 09:17:45,262] Trial 40 finished with value: 0.11935001986834284 and parameters: {'alpha': 973.1603742162339, 'tol': 0.009958146600889266, 'fit_intercept': False, 'positive': True}. Best is trial 39 with value: 0.11935010763035865.\n",
      "[I 2025-05-26 09:17:46,526] Trial 41 finished with value: 0.11934998762950702 and parameters: {'alpha': 995.575921785854, 'tol': 0.008934261675566367, 'fit_intercept': False, 'positive': True}. Best is trial 39 with value: 0.11935010763035865.\n",
      "[I 2025-05-26 09:17:47,152] Trial 42 finished with value: 0.11898303038775677 and parameters: {'alpha': 834.875971304581, 'tol': 0.008890736033092497, 'fit_intercept': False, 'positive': True}. Best is trial 39 with value: 0.11935010763035865.\n",
      "[I 2025-05-26 09:17:47,728] Trial 43 finished with value: 0.11898286503120004 and parameters: {'alpha': 797.5753536300851, 'tol': 0.009337344423848716, 'fit_intercept': False, 'positive': True}. Best is trial 39 with value: 0.11935010763035865.\n",
      "[I 2025-05-26 09:17:49,021] Trial 44 finished with value: 0.11830704234267435 and parameters: {'alpha': 771.2295697024852, 'tol': 0.00790968037766267, 'fit_intercept': False, 'positive': True}. Best is trial 39 with value: 0.11935010763035865.\n",
      "[I 2025-05-26 09:17:50,328] Trial 45 finished with value: 0.11830681418949521 and parameters: {'alpha': 754.5757770470567, 'tol': 0.00811161691890516, 'fit_intercept': False, 'positive': True}. Best is trial 39 with value: 0.11935010763035865.\n",
      "[I 2025-05-26 09:17:51,092] Trial 46 finished with value: 0.11898306272533858 and parameters: {'alpha': 842.1767895626768, 'tol': 0.008902998963216753, 'fit_intercept': False, 'positive': True}. Best is trial 39 with value: 0.11935010763035865.\n",
      "[I 2025-05-26 09:17:51,513] Trial 47 finished with value: 0.1183073834246892 and parameters: {'alpha': 796.1421025149953, 'tol': 0.007974681660755486, 'fit_intercept': False, 'positive': True}. Best is trial 39 with value: 0.11935010763035865.\n",
      "[I 2025-05-26 09:17:52,826] Trial 48 finished with value: 0.11934999020813594 and parameters: {'alpha': 993.7828021636207, 'tol': 0.008450242341879006, 'fit_intercept': False, 'positive': True}. Best is trial 39 with value: 0.11935010763035865.\n",
      "[I 2025-05-26 09:17:54,115] Trial 49 finished with value: 0.11935006168517856 and parameters: {'alpha': 944.0936981149489, 'tol': 0.008384270813759373, 'fit_intercept': False, 'positive': True}. Best is trial 39 with value: 0.11935010763035865.\n",
      "[I 2025-05-26 09:17:54,896] Trial 50 finished with value: 0.11935001201132298 and parameters: {'alpha': 978.6228109587728, 'tol': 0.009333311137958343, 'fit_intercept': False, 'positive': True}. Best is trial 39 with value: 0.11935010763035865.\n",
      "[I 2025-05-26 09:17:55,485] Trial 51 finished with value: 0.11878607781452517 and parameters: {'alpha': 256.40893624984574, 'tol': 0.009116747343233953, 'fit_intercept': True, 'positive': True}. Best is trial 39 with value: 0.11935010763035865.\n",
      "[I 2025-05-26 09:17:56,569] Trial 52 finished with value: 0.11935003124211115 and parameters: {'alpha': 965.2535829244471, 'tol': 0.008586719901337627, 'fit_intercept': False, 'positive': True}. Best is trial 39 with value: 0.11935010763035865.\n",
      "[I 2025-05-26 09:17:57,577] Trial 53 finished with value: 0.11898279452921079 and parameters: {'alpha': 781.6878591365727, 'tol': 0.009921250711861123, 'fit_intercept': False, 'positive': True}. Best is trial 39 with value: 0.11935010763035865.\n",
      "[I 2025-05-26 09:17:58,840] Trial 54 finished with value: 0.11935001787236181 and parameters: {'alpha': 974.5480084963267, 'tol': 0.008328141886230519, 'fit_intercept': False, 'positive': True}. Best is trial 39 with value: 0.11935010763035865.\n",
      "[I 2025-05-26 09:17:59,631] Trial 55 finished with value: 0.11816921450028484 and parameters: {'alpha': 106.37787631538242, 'tol': 0.0016425865806320946, 'fit_intercept': True, 'positive': True}. Best is trial 39 with value: 0.11935010763035865.\n",
      "[I 2025-05-26 09:18:00,257] Trial 56 finished with value: 0.1181688569958081 and parameters: {'alpha': 82.49748133129043, 'tol': 0.005908621390534366, 'fit_intercept': True, 'positive': True}. Best is trial 39 with value: 0.11935010763035865.\n",
      "[I 2025-05-26 09:18:01,320] Trial 57 finished with value: 0.11867632265297752 and parameters: {'alpha': 991.7671894781583, 'tol': 0.007712052374692848, 'fit_intercept': False, 'positive': True}. Best is trial 39 with value: 0.11935010763035865.\n",
      "[I 2025-05-26 09:18:02,353] Trial 58 finished with value: 0.11934998244481707 and parameters: {'alpha': 999.181346211233, 'tol': 0.009463463813880656, 'fit_intercept': False, 'positive': True}. Best is trial 39 with value: 0.11935010763035865.\n",
      "[I 2025-05-26 09:18:03,499] Trial 59 finished with value: 0.11829950533976652 and parameters: {'alpha': 225.46749765652163, 'tol': 0.004019456332694373, 'fit_intercept': False, 'positive': True}. Best is trial 39 with value: 0.11935010763035865.\n",
      "[I 2025-05-26 09:18:04,100] Trial 60 finished with value: 0.11855605277698089 and parameters: {'alpha': 743.2248359350046, 'tol': 0.002367625020680148, 'fit_intercept': True, 'positive': True}. Best is trial 39 with value: 0.11935010763035865.\n",
      "[I 2025-05-26 09:18:05,304] Trial 61 finished with value: 0.11817624914202982 and parameters: {'alpha': 579.8408245106555, 'tol': 0.003499120322589696, 'fit_intercept': True, 'positive': True}. Best is trial 39 with value: 0.11935010763035865.\n",
      "[I 2025-05-26 09:18:05,843] Trial 62 finished with value: 0.115426033920211 and parameters: {'alpha': 836.9709662650386, 'tol': 0.008082394769292515, 'fit_intercept': True, 'positive': False}. Best is trial 39 with value: 0.11935010763035865.\n",
      "[I 2025-05-26 09:18:07,087] Trial 63 finished with value: 0.11469037974930918 and parameters: {'alpha': 151.61065415758065, 'tol': 0.009933334610150212, 'fit_intercept': False, 'positive': False}. Best is trial 39 with value: 0.11935010763035865.\n",
      "[I 2025-05-26 09:18:07,645] Trial 64 finished with value: 0.11465129871163655 and parameters: {'alpha': 126.12051511685218, 'tol': 2.4809413237161272e-05, 'fit_intercept': False, 'positive': False}. Best is trial 39 with value: 0.11935010763035865.\n",
      "[I 2025-05-26 09:18:09,108] Trial 65 finished with value: 0.1186756014316824 and parameters: {'alpha': 898.9987911410343, 'tol': 0.006646317477238801, 'fit_intercept': False, 'positive': True}. Best is trial 39 with value: 0.11935010763035865.\n",
      "[I 2025-05-26 09:18:09,778] Trial 66 finished with value: 0.1191666455155936 and parameters: {'alpha': 995.7882313501536, 'tol': 0.008644961979284863, 'fit_intercept': True, 'positive': True}. Best is trial 39 with value: 0.11935010763035865.\n",
      "[I 2025-05-26 09:18:10,301] Trial 67 finished with value: 0.11506541183084455 and parameters: {'alpha': 418.30453965328337, 'tol': 0.006347494834590932, 'fit_intercept': False, 'positive': False}. Best is trial 39 with value: 0.11935010763035865.\n",
      "[I 2025-05-26 09:18:11,650] Trial 68 finished with value: 0.11817708767135784 and parameters: {'alpha': 636.7343195346994, 'tol': 0.007264701093661565, 'fit_intercept': True, 'positive': True}. Best is trial 39 with value: 0.11935010763035865.\n",
      "[I 2025-05-26 09:18:12,992] Trial 69 finished with value: 0.11867599564452633 and parameters: {'alpha': 949.6741113872318, 'tol': 0.007644886384226648, 'fit_intercept': False, 'positive': True}. Best is trial 39 with value: 0.11935010763035865.\n",
      "[I 2025-05-26 09:18:13,609] Trial 70 finished with value: 0.11867638618843539 and parameters: {'alpha': 999.9515610811774, 'tol': 0.007723261687529652, 'fit_intercept': False, 'positive': True}. Best is trial 39 with value: 0.11935010763035865.\n",
      "[I 2025-05-26 09:18:14,118] Trial 71 finished with value: 0.11934999135604571 and parameters: {'alpha': 992.9845835776803, 'tol': 0.008508897586818717, 'fit_intercept': False, 'positive': True}. Best is trial 39 with value: 0.11935010763035865.\n",
      "[I 2025-05-26 09:18:15,442] Trial 72 finished with value: 0.11867627051770273 and parameters: {'alpha': 985.0527959807304, 'tol': 0.007307071510840304, 'fit_intercept': False, 'positive': True}. Best is trial 39 with value: 0.11935010763035865.\n",
      "[I 2025-05-26 09:18:16,756] Trial 73 finished with value: 0.11935010526813164 and parameters: {'alpha': 913.8095114129343, 'tol': 0.009832594971884108, 'fit_intercept': False, 'positive': True}. Best is trial 39 with value: 0.11935010763035865.\n",
      "[I 2025-05-26 09:18:17,400] Trial 74 finished with value: 0.11935010619718991 and parameters: {'alpha': 913.1640553041161, 'tol': 0.009536073184088192, 'fit_intercept': False, 'positive': True}. Best is trial 39 with value: 0.11935010763035865.\n",
      "[I 2025-05-26 09:18:17,912] Trial 75 finished with value: 0.11935004450153155 and parameters: {'alpha': 956.0368160063144, 'tol': 0.009654118407852415, 'fit_intercept': False, 'positive': True}. Best is trial 39 with value: 0.11935010763035865.\n",
      "[I 2025-05-26 09:18:19,262] Trial 76 finished with value: 0.11935011679881495 and parameters: {'alpha': 905.7989891837908, 'tol': 0.009958294783135176, 'fit_intercept': False, 'positive': True}. Best is trial 76 with value: 0.11935011679881495.\n",
      "[I 2025-05-26 09:18:20,632] Trial 77 finished with value: 0.11935008386246734 and parameters: {'alpha': 928.6822295545628, 'tol': 0.009905512394562048, 'fit_intercept': False, 'positive': True}. Best is trial 76 with value: 0.11935011679881495.\n",
      "[I 2025-05-26 09:18:21,220] Trial 78 finished with value: 0.11898300269074065 and parameters: {'alpha': 828.6244636718413, 'tol': 0.009653475926733912, 'fit_intercept': False, 'positive': True}. Best is trial 76 with value: 0.11935011679881495.\n",
      "[I 2025-05-26 09:18:21,782] Trial 79 finished with value: 0.1189828685050867 and parameters: {'alpha': 798.3584366645098, 'tol': 0.009590350203326457, 'fit_intercept': False, 'positive': True}. Best is trial 76 with value: 0.11935011679881495.\n",
      "[I 2025-05-26 09:18:23,320] Trial 80 finished with value: 0.1189829961394194 and parameters: {'alpha': 827.1459795283619, 'tol': 0.009822620138709548, 'fit_intercept': False, 'positive': True}. Best is trial 76 with value: 0.11935011679881495.\n",
      "[I 2025-05-26 09:18:24,654] Trial 81 finished with value: 0.11898301535522415 and parameters: {'alpha': 831.4827857825412, 'tol': 0.009999580726817116, 'fit_intercept': False, 'positive': True}. Best is trial 76 with value: 0.11935011679881495.\n",
      "[I 2025-05-26 09:18:25,066] Trial 83 finished with value: 0.11521913246783826 and parameters: {'alpha': 540.7578690668074, 'tol': 0.009968044316654774, 'fit_intercept': False, 'positive': False}. Best is trial 76 with value: 0.11935011679881495.\n",
      "[I 2025-05-26 09:18:25,582] Trial 82 finished with value: 0.11898291244812091 and parameters: {'alpha': 808.2660891630966, 'tol': 0.009583509964974587, 'fit_intercept': False, 'positive': True}. Best is trial 76 with value: 0.11935011679881495.\n",
      "[I 2025-05-26 09:18:27,099] Trial 84 finished with value: 0.11935010642994404 and parameters: {'alpha': 913.0023518898408, 'tol': 0.009898260477080055, 'fit_intercept': False, 'positive': True}. Best is trial 76 with value: 0.11935011679881495.\n",
      "[I 2025-05-26 09:18:28,281] Trial 85 finished with value: 0.11898302743586638 and parameters: {'alpha': 834.209627661725, 'tol': 0.009999922019608764, 'fit_intercept': False, 'positive': True}. Best is trial 76 with value: 0.11935011679881495.\n",
      "[I 2025-05-26 09:18:28,931] Trial 86 finished with value: 0.11934999165872287 and parameters: {'alpha': 992.7741130952941, 'tol': 0.009732248656838537, 'fit_intercept': False, 'positive': True}. Best is trial 76 with value: 0.11935011679881495.\n",
      "[I 2025-05-26 09:18:29,417] Trial 87 finished with value: 0.11898318191662804 and parameters: {'alpha': 869.1040305899463, 'tol': 0.009949393355733247, 'fit_intercept': False, 'positive': True}. Best is trial 76 with value: 0.11935011679881495.\n",
      "[I 2025-05-26 09:18:30,740] Trial 88 finished with value: 0.1193501431466137 and parameters: {'alpha': 887.4975215495404, 'tol': 0.009750200242956635, 'fit_intercept': False, 'positive': True}. Best is trial 88 with value: 0.1193501431466137.\n",
      "[I 2025-05-26 09:18:32,116] Trial 89 finished with value: 0.11935003998237033 and parameters: {'alpha': 959.1780266145922, 'tol': 0.009889771905846076, 'fit_intercept': False, 'positive': True}. Best is trial 88 with value: 0.1193501431466137.\n",
      "[I 2025-05-26 09:18:32,732] Trial 90 finished with value: 0.11935004356050391 and parameters: {'alpha': 956.6909030190083, 'tol': 0.009712787368753813, 'fit_intercept': False, 'positive': True}. Best is trial 88 with value: 0.1193501431466137.\n",
      "[I 2025-05-26 09:18:33,237] Trial 91 finished with value: 0.11935004804370605 and parameters: {'alpha': 953.5747738363888, 'tol': 0.00982851292463812, 'fit_intercept': False, 'positive': True}. Best is trial 88 with value: 0.1193501431466137.\n",
      "[I 2025-05-26 09:18:34,666] Trial 92 finished with value: 0.11916664403752272 and parameters: {'alpha': 983.6697643590387, 'tol': 0.009954185522089034, 'fit_intercept': True, 'positive': True}. Best is trial 88 with value: 0.1193501431466137.\n",
      "[I 2025-05-26 09:18:35,692] Trial 93 finished with value: 0.11569505599242251 and parameters: {'alpha': 981.6326982886834, 'tol': 0.009755376496583947, 'fit_intercept': False, 'positive': False}. Best is trial 88 with value: 0.1193501431466137.\n",
      "[I 2025-05-26 09:18:36,249] Trial 94 finished with value: 0.11553266850017896 and parameters: {'alpha': 819.4225740319735, 'tol': 0.009936568572932415, 'fit_intercept': False, 'positive': False}. Best is trial 88 with value: 0.1193501431466137.\n",
      "[I 2025-05-26 09:18:36,608] Trial 95 finished with value: 0.11545934905083358 and parameters: {'alpha': 750.4303170111451, 'tol': 0.009922390687562625, 'fit_intercept': False, 'positive': False}. Best is trial 88 with value: 0.1193501431466137.\n",
      "[I 2025-05-26 09:18:38,792] Trial 96 finished with value: 0.11898313268252989 and parameters: {'alpha': 857.9779003527308, 'tol': 0.009944568238585114, 'fit_intercept': False, 'positive': True}. Best is trial 88 with value: 0.1193501431466137.\n",
      "[I 2025-05-26 09:18:39,211] Trial 97 finished with value: 0.11898304265370667 and parameters: {'alpha': 837.6450013117898, 'tol': 0.009946555945200625, 'fit_intercept': False, 'positive': True}. Best is trial 88 with value: 0.1193501431466137.\n",
      "[I 2025-05-26 09:18:40,105] Trial 98 finished with value: 0.11898192966817031 and parameters: {'alpha': 587.573431919472, 'tol': 0.009733054659585526, 'fit_intercept': False, 'positive': True}. Best is trial 88 with value: 0.1193501431466137.\n",
      "[I 2025-05-26 09:18:40,272] Trial 99 finished with value: 0.11458415868635592 and parameters: {'alpha': 148.03181595121464, 'tol': 0.00462732869823186, 'fit_intercept': True, 'positive': False}. Best is trial 88 with value: 0.1193501431466137.\n",
      "[I 2025-05-26 09:18:42,013] Trial 100 finished with value: 0.11544099755117439 and parameters: {'alpha': 733.5482990602643, 'tol': 0.0011983342273567785, 'fit_intercept': False, 'positive': False}. Best is trial 88 with value: 0.1193501431466137.\n",
      "[I 2025-05-26 09:18:43,011] Trial 101 finished with value: 0.11935009258484357 and parameters: {'alpha': 922.6215968561505, 'tol': 0.009700711097772772, 'fit_intercept': False, 'positive': True}. Best is trial 88 with value: 0.1193501431466137.\n",
      "[I 2025-05-26 09:18:44,159] Trial 103 finished with value: 0.11935005978357602 and parameters: {'alpha': 945.4152864148316, 'tol': 0.009518024527933485, 'fit_intercept': False, 'positive': True}. Best is trial 88 with value: 0.1193501431466137.\n",
      "[I 2025-05-26 09:18:44,167] Trial 102 finished with value: 0.11935005279574287 and parameters: {'alpha': 950.2719056013289, 'tol': 0.00961093094102469, 'fit_intercept': False, 'positive': True}. Best is trial 88 with value: 0.1193501431466137.\n",
      "[I 2025-05-26 09:18:45,988] Trial 104 finished with value: 0.1193500555455741 and parameters: {'alpha': 948.3607116792328, 'tol': 0.009798361197910156, 'fit_intercept': False, 'positive': True}. Best is trial 88 with value: 0.1193501431466137.\n",
      "[I 2025-05-26 09:18:46,606] Trial 105 finished with value: 0.1189831802742534 and parameters: {'alpha': 868.7328037234589, 'tol': 0.009872526423138633, 'fit_intercept': False, 'positive': True}. Best is trial 88 with value: 0.1193501431466137.\n",
      "[I 2025-05-26 09:18:48,100] Trial 107 finished with value: 0.11878838523037408 and parameters: {'alpha': 613.6891200889692, 'tol': 0.009740640332926733, 'fit_intercept': True, 'positive': True}. Best is trial 88 with value: 0.1193501431466137.\n",
      "[I 2025-05-26 09:18:48,120] Trial 106 finished with value: 0.11830603543491343 and parameters: {'alpha': 697.7944343175008, 'tol': 0.007816872963087754, 'fit_intercept': False, 'positive': True}. Best is trial 88 with value: 0.1193501431466137.\n",
      "[I 2025-05-26 09:18:49,340] Trial 108 finished with value: 0.11898240630816889 and parameters: {'alpha': 694.375144820483, 'tol': 0.008281538406370064, 'fit_intercept': False, 'positive': True}. Best is trial 88 with value: 0.1193501431466137.\n",
      "[I 2025-05-26 09:18:50,562] Trial 109 finished with value: 0.11830666059273023 and parameters: {'alpha': 743.3688628557243, 'tol': 0.007612195971818898, 'fit_intercept': False, 'positive': True}. Best is trial 88 with value: 0.1193501431466137.\n",
      "[I 2025-05-26 09:18:51,896] Trial 111 finished with value: 0.11898295259130012 and parameters: {'alpha': 817.3202781540703, 'tol': 0.008455187654273263, 'fit_intercept': False, 'positive': True}. Best is trial 88 with value: 0.1193501431466137.\n",
      "[I 2025-05-26 09:18:51,903] Trial 110 finished with value: 0.11830671859703387 and parameters: {'alpha': 747.6005978505466, 'tol': 0.007556491364494449, 'fit_intercept': False, 'positive': True}. Best is trial 88 with value: 0.1193501431466137.\n",
      "[I 2025-05-26 09:18:53,029] Trial 112 finished with value: 0.11898293418413579 and parameters: {'alpha': 813.168202237352, 'tol': 0.008243580336087302, 'fit_intercept': False, 'positive': True}. Best is trial 88 with value: 0.1193501431466137.\n",
      "[I 2025-05-26 09:18:54,286] Trial 113 finished with value: 0.11935004688137703 and parameters: {'alpha': 954.3826607721413, 'tol': 0.009889393172633758, 'fit_intercept': False, 'positive': True}. Best is trial 88 with value: 0.1193501431466137.\n",
      "[I 2025-05-26 09:18:55,634] Trial 114 finished with value: 0.11934999479836002 and parameters: {'alpha': 990.5909548374178, 'tol': 0.00974252122261525, 'fit_intercept': False, 'positive': True}. Best is trial 88 with value: 0.1193501431466137.\n",
      "[I 2025-05-26 09:18:55,649] Trial 115 finished with value: 0.1193500426472824 and parameters: {'alpha': 957.3256672183355, 'tol': 0.00983106090648096, 'fit_intercept': False, 'positive': True}. Best is trial 88 with value: 0.1193501431466137.\n",
      "[I 2025-05-26 09:18:56,709] Trial 116 finished with value: 0.11934999381779679 and parameters: {'alpha': 991.2727873159371, 'tol': 0.009905262488152718, 'fit_intercept': False, 'positive': True}. Best is trial 88 with value: 0.1193501431466137.\n",
      "[I 2025-05-26 09:18:57,993] Trial 117 finished with value: 0.11935005610244806 and parameters: {'alpha': 947.9736768701707, 'tol': 0.009755210257956651, 'fit_intercept': False, 'positive': True}. Best is trial 88 with value: 0.1193501431466137.\n",
      "[I 2025-05-26 09:18:59,331] Trial 119 finished with value: 0.1193500196009358 and parameters: {'alpha': 973.3462781190497, 'tol': 0.00989670776241293, 'fit_intercept': False, 'positive': True}. Best is trial 88 with value: 0.1193501431466137.\n",
      "[I 2025-05-26 09:18:59,347] Trial 118 finished with value: 0.11898322799856706 and parameters: {'alpha': 879.5220989619999, 'tol': 0.009861290485478062, 'fit_intercept': False, 'positive': True}. Best is trial 88 with value: 0.1193501431466137.\n",
      "[I 2025-05-26 09:19:00,410] Trial 120 finished with value: 0.11898280130880864 and parameters: {'alpha': 783.2152106457747, 'tol': 0.00941153178266106, 'fit_intercept': False, 'positive': True}. Best is trial 88 with value: 0.1193501431466137.\n",
      "[I 2025-05-26 09:19:01,759] Trial 121 finished with value: 0.11898320617896416 and parameters: {'alpha': 874.5886721160751, 'tol': 0.009954524013212052, 'fit_intercept': False, 'positive': True}. Best is trial 88 with value: 0.1193501431466137.\n",
      "[I 2025-05-26 09:19:03,108] Trial 122 finished with value: 0.118982877685837 and parameters: {'alpha': 800.4280726779509, 'tol': 0.008995109840187811, 'fit_intercept': False, 'positive': True}. Best is trial 88 with value: 0.1193501431466137.\n",
      "[I 2025-05-26 09:19:03,123] Trial 123 finished with value: 0.11830571624510063 and parameters: {'alpha': 674.5494572820637, 'tol': 0.004067063064111245, 'fit_intercept': False, 'positive': True}. Best is trial 88 with value: 0.1193501431466137.\n",
      "[I 2025-05-26 09:19:04,183] Trial 124 finished with value: 0.11898294320048888 and parameters: {'alpha': 815.2019250575992, 'tol': 0.009999369300310918, 'fit_intercept': False, 'positive': True}. Best is trial 88 with value: 0.1193501431466137.\n",
      "[I 2025-05-26 09:19:05,540] Trial 125 finished with value: 0.11898322680189985 and parameters: {'alpha': 879.2515076591972, 'tol': 0.008470920403331292, 'fit_intercept': False, 'positive': True}. Best is trial 88 with value: 0.1193501431466137.\n",
      "[I 2025-05-26 09:19:06,863] Trial 127 finished with value: 0.1193501074641111 and parameters: {'alpha': 912.2838790777229, 'tol': 0.008433414953636609, 'fit_intercept': False, 'positive': True}. Best is trial 88 with value: 0.1193501431466137.\n",
      "[I 2025-05-26 09:19:06,896] Trial 126 finished with value: 0.11830532101298001 and parameters: {'alpha': 645.7893173803731, 'tol': 0.003858166590901998, 'fit_intercept': False, 'positive': True}. Best is trial 88 with value: 0.1193501431466137.\n",
      "[I 2025-05-26 09:19:07,980] Trial 128 finished with value: 0.11830850589145929 and parameters: {'alpha': 878.2591966232602, 'tol': 0.007995726246341402, 'fit_intercept': False, 'positive': True}. Best is trial 88 with value: 0.1193501431466137.\n",
      "[I 2025-05-26 09:19:09,306] Trial 129 finished with value: 0.11935003874610998 and parameters: {'alpha': 960.0373545747602, 'tol': 0.009932143305662207, 'fit_intercept': False, 'positive': True}. Best is trial 88 with value: 0.1193501431466137.\n",
      "[I 2025-05-26 09:19:10,939] Trial 131 finished with value: 0.11830053040304744 and parameters: {'alpha': 299.16479836847344, 'tol': 0.007192715782388833, 'fit_intercept': False, 'positive': True}. Best is trial 88 with value: 0.1193501431466137.\n",
      "[I 2025-05-26 09:19:10,960] Trial 130 finished with value: 0.11830812000362727 and parameters: {'alpha': 850.0055845666437, 'tol': 0.007934680384107247, 'fit_intercept': False, 'positive': True}. Best is trial 88 with value: 0.1193501431466137.\n",
      "[I 2025-05-26 09:19:11,383] Trial 132 finished with value: 0.11935012932429953 and parameters: {'alpha': 897.0981820604428, 'tol': 0.008218980619684468, 'fit_intercept': False, 'positive': True}. Best is trial 88 with value: 0.1193501431466137.\n",
      "[I 2025-05-26 09:19:12,718] Trial 133 finished with value: 0.11867633790412362 and parameters: {'alpha': 993.7316006417705, 'tol': 0.007704113379230211, 'fit_intercept': False, 'positive': True}. Best is trial 88 with value: 0.1193501431466137.\n",
      "[I 2025-05-26 09:19:14,750] Trial 134 finished with value: 0.1193501220399225 and parameters: {'alpha': 902.1581590014335, 'tol': 0.008204496739995248, 'fit_intercept': False, 'positive': True}. Best is trial 88 with value: 0.1193501431466137.\n",
      "[I 2025-05-26 09:19:14,955] Trial 135 finished with value: 0.11916661973767437 and parameters: {'alpha': 787.86695592871, 'tol': 0.009961499953455372, 'fit_intercept': True, 'positive': True}. Best is trial 88 with value: 0.1193501431466137.\n",
      "[I 2025-05-26 09:19:15,337] Trial 136 finished with value: 0.11867598130117041 and parameters: {'alpha': 947.8289896085981, 'tol': 0.007911909077644205, 'fit_intercept': False, 'positive': True}. Best is trial 88 with value: 0.1193501431466137.\n",
      "[I 2025-05-26 09:19:16,669] Trial 137 finished with value: 0.11916662152963312 and parameters: {'alpha': 802.0914366568777, 'tol': 0.009216592956358391, 'fit_intercept': True, 'positive': True}. Best is trial 88 with value: 0.1193501431466137.\n",
      "[I 2025-05-26 09:19:18,471] Trial 138 finished with value: 0.11867579471491915 and parameters: {'alpha': 923.8356517121193, 'tol': 0.0075700833351855495, 'fit_intercept': False, 'positive': True}. Best is trial 88 with value: 0.1193501431466137.\n",
      "[I 2025-05-26 09:19:18,703] Trial 139 finished with value: 0.11867566262931255 and parameters: {'alpha': 906.8607334515083, 'tol': 0.007535250577141506, 'fit_intercept': False, 'positive': True}. Best is trial 88 with value: 0.1193501431466137.\n",
      "[I 2025-05-26 09:19:19,063] Trial 140 finished with value: 0.11830837912133814 and parameters: {'alpha': 868.9747935691892, 'tol': 0.007703792795123945, 'fit_intercept': False, 'positive': True}. Best is trial 88 with value: 0.1193501431466137.\n",
      "[I 2025-05-26 09:19:20,451] Trial 141 finished with value: 0.11830793382704108 and parameters: {'alpha': 836.3828656314727, 'tol': 0.007666653468237427, 'fit_intercept': False, 'positive': True}. Best is trial 88 with value: 0.1193501431466137.\n",
      "[I 2025-05-26 09:19:21,835] Trial 142 finished with value: 0.11543904579764752 and parameters: {'alpha': 731.7617136289211, 'tol': 0.006479490618042231, 'fit_intercept': False, 'positive': False}. Best is trial 88 with value: 0.1193501431466137.\n",
      "[I 2025-05-26 09:19:22,197] Trial 143 finished with value: 0.11542573218693215 and parameters: {'alpha': 719.6199405177597, 'tol': 0.0075155122767914875, 'fit_intercept': False, 'positive': False}. Best is trial 88 with value: 0.1193501431466137.\n",
      "[I 2025-05-26 09:19:22,441] Trial 144 finished with value: 0.11441958512922734 and parameters: {'alpha': 40.292315651218246, 'tol': 0.0001142533429004007, 'fit_intercept': True, 'positive': False}. Best is trial 88 with value: 0.1193501431466137.\n",
      "[I 2025-05-26 09:19:24,255] Trial 145 finished with value: 0.11898277449160957 and parameters: {'alpha': 777.1741794474841, 'tol': 0.009838941597253577, 'fit_intercept': False, 'positive': True}. Best is trial 88 with value: 0.1193501431466137.\n",
      "[I 2025-05-26 09:19:25,569] Trial 146 finished with value: 0.11898280453995311 and parameters: {'alpha': 783.9431750357985, 'tol': 0.009990258607474446, 'fit_intercept': False, 'positive': True}. Best is trial 88 with value: 0.1193501431466137.\n",
      "[I 2025-05-26 09:19:26,087] Trial 147 finished with value: 0.11898322748489258 and parameters: {'alpha': 879.4059461519225, 'tol': 0.008512579749051235, 'fit_intercept': False, 'positive': True}. Best is trial 88 with value: 0.1193501431466137.\n",
      "[I 2025-05-26 09:19:26,122] Trial 148 finished with value: 0.11556738735207231 and parameters: {'alpha': 982.3033031683932, 'tol': 0.00939517093045131, 'fit_intercept': True, 'positive': False}. Best is trial 88 with value: 0.1193501431466137.\n",
      "[I 2025-05-26 09:19:27,995] Trial 149 finished with value: 0.11935003098588719 and parameters: {'alpha': 965.4316963778143, 'tol': 0.00993310828254883, 'fit_intercept': False, 'positive': True}. Best is trial 88 with value: 0.1193501431466137.\n",
      "[I 2025-05-26 09:19:29,337] Trial 150 finished with value: 0.11867609463202197 and parameters: {'alpha': 962.4105113609164, 'tol': 0.008109311502535146, 'fit_intercept': False, 'positive': True}. Best is trial 88 with value: 0.1193501431466137.\n",
      "[I 2025-05-26 09:19:29,844] Trial 152 finished with value: 0.11934998825785595 and parameters: {'alpha': 995.1389789620097, 'tol': 0.009814014815245528, 'fit_intercept': False, 'positive': True}. Best is trial 88 with value: 0.1193501431466137.\n",
      "[I 2025-05-26 09:19:29,867] Trial 151 finished with value: 0.11935001403104314 and parameters: {'alpha': 977.2186086223559, 'tol': 0.008503116893880143, 'fit_intercept': False, 'positive': True}. Best is trial 88 with value: 0.1193501431466137.\n",
      "[I 2025-05-26 09:19:31,738] Trial 153 finished with value: 0.11935003272992228 and parameters: {'alpha': 964.2193416616074, 'tol': 0.008784715207399327, 'fit_intercept': False, 'positive': True}. Best is trial 88 with value: 0.1193501431466137.\n",
      "[I 2025-05-26 09:19:33,087] Trial 154 finished with value: 0.11934999994603912 and parameters: {'alpha': 987.0116133125957, 'tol': 0.009103247199923439, 'fit_intercept': False, 'positive': True}. Best is trial 88 with value: 0.1193501431466137.\n",
      "[I 2025-05-26 09:19:33,600] Trial 155 finished with value: 0.11934998272677458 and parameters: {'alpha': 998.9852696870928, 'tol': 0.009660992022415256, 'fit_intercept': False, 'positive': True}. Best is trial 88 with value: 0.1193501431466137.\n",
      "[I 2025-05-26 09:19:33,607] Trial 156 finished with value: 0.11934998397367103 and parameters: {'alpha': 998.1181685975613, 'tol': 0.009966487364427536, 'fit_intercept': False, 'positive': True}. Best is trial 88 with value: 0.1193501431466137.\n",
      "[I 2025-05-26 09:19:35,285] Trial 157 finished with value: 0.11898307564212504 and parameters: {'alpha': 845.0935655466515, 'tol': 0.009901592190896077, 'fit_intercept': False, 'positive': True}. Best is trial 88 with value: 0.1193501431466137.\n",
      "[I 2025-05-26 09:19:37,282] Trial 159 finished with value: 0.11898302291435062 and parameters: {'alpha': 833.1889981757671, 'tol': 0.009727344889408211, 'fit_intercept': False, 'positive': True}. Best is trial 88 with value: 0.1193501431466137.\n",
      "[I 2025-05-26 09:19:37,307] Trial 160 finished with value: 0.11898259429165611 and parameters: {'alpha': 736.6171550062107, 'tol': 0.009675142237670721, 'fit_intercept': False, 'positive': True}. Best is trial 88 with value: 0.1193501431466137.\n",
      "[I 2025-05-26 09:19:37,310] Trial 158 finished with value: 0.11855722155216286 and parameters: {'alpha': 882.3516104127583, 'tol': 0.006898685695012748, 'fit_intercept': True, 'positive': True}. Best is trial 88 with value: 0.1193501431466137.\n",
      "[I 2025-05-26 09:19:38,981] Trial 161 finished with value: 0.11898291366630276 and parameters: {'alpha': 808.540800883283, 'tol': 0.00985347122540099, 'fit_intercept': False, 'positive': True}. Best is trial 88 with value: 0.1193501431466137.\n",
      "[I 2025-05-26 09:19:40,672] Trial 162 finished with value: 0.11898306429116172 and parameters: {'alpha': 842.5303552354677, 'tol': 0.008622020277685789, 'fit_intercept': False, 'positive': True}. Best is trial 88 with value: 0.1193501431466137.\n",
      "[I 2025-05-26 09:19:41,088] Trial 163 finished with value: 0.11898314567445059 and parameters: {'alpha': 860.91341142723, 'tol': 0.008179021030721809, 'fit_intercept': False, 'positive': True}. Best is trial 88 with value: 0.1193501431466137.\n",
      "[I 2025-05-26 09:19:41,093] Trial 164 finished with value: 0.11898305293761594 and parameters: {'alpha': 839.9668123141113, 'tol': 0.008991657805408589, 'fit_intercept': False, 'positive': True}. Best is trial 88 with value: 0.1193501431466137.\n",
      "[I 2025-05-26 09:19:42,622] Trial 165 finished with value: 0.11830806543747227 and parameters: {'alpha': 846.0123470416867, 'tol': 0.008118713989218419, 'fit_intercept': False, 'positive': True}. Best is trial 88 with value: 0.1193501431466137.\n",
      "[I 2025-05-26 09:19:44,404] Trial 166 finished with value: 0.11935014017656025 and parameters: {'alpha': 889.5603648193439, 'tol': 0.008643291001905385, 'fit_intercept': False, 'positive': True}. Best is trial 88 with value: 0.1193501431466137.\n",
      "[I 2025-05-26 09:19:45,040] Trial 167 finished with value: 0.11934999827635887 and parameters: {'alpha': 988.1725781549557, 'tol': 0.009971531056173018, 'fit_intercept': False, 'positive': True}. Best is trial 88 with value: 0.1193501431466137.\n",
      "[I 2025-05-26 09:19:45,239] Trial 168 finished with value: 0.11817622084494177 and parameters: {'alpha': 577.9226006629132, 'tol': 0.0003737265871477805, 'fit_intercept': True, 'positive': True}. Best is trial 88 with value: 0.1193501431466137.\n",
      "[I 2025-05-26 09:19:46,251] Trial 169 finished with value: 0.11934998733312452 and parameters: {'alpha': 995.7820217094128, 'tol': 0.009176202116490903, 'fit_intercept': False, 'positive': True}. Best is trial 88 with value: 0.1193501431466137.\n",
      "[I 2025-05-26 09:19:48,084] Trial 170 finished with value: 0.11935013190441182 and parameters: {'alpha': 895.3060170014345, 'tol': 0.008685939086513527, 'fit_intercept': False, 'positive': True}. Best is trial 88 with value: 0.1193501431466137.\n",
      "[I 2025-05-26 09:19:48,706] Trial 171 finished with value: 0.11898313392553479 and parameters: {'alpha': 858.2587418171765, 'tol': 0.008461512995393095, 'fit_intercept': False, 'positive': True}. Best is trial 88 with value: 0.1193501431466137.\n",
      "[I 2025-05-26 09:19:49,090] Trial 172 finished with value: 0.11898315152084186 and parameters: {'alpha': 862.2345046768777, 'tol': 0.008637854776121898, 'fit_intercept': False, 'positive': True}. Best is trial 88 with value: 0.1193501431466137.\n",
      "[I 2025-05-26 09:19:50,034] Trial 173 finished with value: 0.1186754827804903 and parameters: {'alpha': 883.7610232579492, 'tol': 0.008140303086592639, 'fit_intercept': False, 'positive': True}. Best is trial 88 with value: 0.1193501431466137.\n",
      "[I 2025-05-26 09:19:51,885] Trial 174 finished with value: 0.11830809352058166 and parameters: {'alpha': 848.0674533524833, 'tol': 0.008096225660437259, 'fit_intercept': False, 'positive': True}. Best is trial 88 with value: 0.1193501431466137.\n",
      "[I 2025-05-26 09:19:52,560] Trial 175 finished with value: 0.11830796468737112 and parameters: {'alpha': 838.6405586066257, 'tol': 0.00815805114534569, 'fit_intercept': False, 'positive': True}. Best is trial 88 with value: 0.1193501431466137.\n",
      "[I 2025-05-26 09:19:52,904] Trial 176 finished with value: 0.11898316899378432 and parameters: {'alpha': 866.1832148449657, 'tol': 0.008441011435258154, 'fit_intercept': False, 'positive': True}. Best is trial 88 with value: 0.1193501431466137.\n",
      "[I 2025-05-26 09:19:53,840] Trial 177 finished with value: 0.11898318022011692 and parameters: {'alpha': 868.7205673098705, 'tol': 0.009525995026442576, 'fit_intercept': False, 'positive': True}. Best is trial 88 with value: 0.1193501431466137.\n",
      "[I 2025-05-26 09:19:55,680] Trial 178 finished with value: 0.11898311238220631 and parameters: {'alpha': 853.3917207300956, 'tol': 0.008568008843499515, 'fit_intercept': False, 'positive': True}. Best is trial 88 with value: 0.1193501431466137.\n",
      "[I 2025-05-26 09:19:56,446] Trial 179 finished with value: 0.11898294154271367 and parameters: {'alpha': 814.8279865015966, 'tol': 0.009878710743009474, 'fit_intercept': False, 'positive': True}. Best is trial 88 with value: 0.1193501431466137.\n",
      "[I 2025-05-26 09:19:56,649] Trial 180 finished with value: 0.11935009925979345 and parameters: {'alpha': 917.9838713546178, 'tol': 0.00985290087637415, 'fit_intercept': False, 'positive': True}. Best is trial 88 with value: 0.1193501431466137.\n",
      "[I 2025-05-26 09:19:57,718] Trial 181 finished with value: 0.11830781857453235 and parameters: {'alpha': 827.9525330960954, 'tol': 0.005547338775677238, 'fit_intercept': False, 'positive': True}. Best is trial 88 with value: 0.1193501431466137.\n",
      "[I 2025-05-26 09:19:58,799] Trial 182 finished with value: 0.11557479843506195 and parameters: {'alpha': 860.2230628763527, 'tol': 0.008719396817075816, 'fit_intercept': False, 'positive': False}. Best is trial 88 with value: 0.1193501431466137.\n",
      "[I 2025-05-26 09:20:00,059] Trial 183 finished with value: 0.11493113055554671 and parameters: {'alpha': 400.74048050598765, 'tol': 0.0031409213931338064, 'fit_intercept': True, 'positive': False}. Best is trial 88 with value: 0.1193501431466137.\n",
      "[I 2025-05-26 09:20:00,612] Trial 184 finished with value: 0.11935010834428088 and parameters: {'alpha': 911.67239824474, 'tol': 0.009878899239704749, 'fit_intercept': False, 'positive': True}. Best is trial 88 with value: 0.1193501431466137.\n",
      "[I 2025-05-26 09:20:00,990] Trial 185 finished with value: 0.11530582723223563 and parameters: {'alpha': 721.3218289352692, 'tol': 0.005618946486957499, 'fit_intercept': True, 'positive': False}. Best is trial 88 with value: 0.1193501431466137.\n",
      "[I 2025-05-26 09:20:02,676] Trial 186 finished with value: 0.11898306974261155 and parameters: {'alpha': 843.7613395253873, 'tol': 0.00995168349340501, 'fit_intercept': False, 'positive': True}. Best is trial 88 with value: 0.1193501431466137.\n",
      "[I 2025-05-26 09:20:03,974] Trial 187 finished with value: 0.1193501043094829 and parameters: {'alpha': 914.4755301806474, 'tol': 0.009968430483632789, 'fit_intercept': False, 'positive': True}. Best is trial 88 with value: 0.1193501431466137.\n",
      "[I 2025-05-26 09:20:04,319] Trial 188 finished with value: 0.11469222432861301 and parameters: {'alpha': 222.7990968875019, 'tol': 0.009269964642058787, 'fit_intercept': True, 'positive': False}. Best is trial 88 with value: 0.1193501431466137.\n",
      "[I 2025-05-26 09:20:04,556] Trial 189 finished with value: 0.11898320993547987 and parameters: {'alpha': 875.4379567466613, 'tol': 0.009796335995041058, 'fit_intercept': False, 'positive': True}. Best is trial 88 with value: 0.1193501431466137.\n",
      "[I 2025-05-26 09:20:06,454] Trial 190 finished with value: 0.11935002795132377 and parameters: {'alpha': 967.5411929521711, 'tol': 0.008790381324933903, 'fit_intercept': False, 'positive': True}. Best is trial 88 with value: 0.1193501431466137.\n",
      "[I 2025-05-26 09:20:07,862] Trial 191 finished with value: 0.11830158250599576 and parameters: {'alpha': 374.9781109982222, 'tol': 0.0006251361429774468, 'fit_intercept': False, 'positive': True}. Best is trial 88 with value: 0.1193501431466137.\n",
      "[I 2025-05-26 09:20:08,238] Trial 192 finished with value: 0.11898303518228318 and parameters: {'alpha': 835.958297638939, 'tol': 0.009991082726141468, 'fit_intercept': False, 'positive': True}. Best is trial 88 with value: 0.1193501431466137.\n",
      "[I 2025-05-26 09:20:08,462] Trial 193 finished with value: 0.11935013091559599 and parameters: {'alpha': 895.9928515008936, 'tol': 0.009952331147649762, 'fit_intercept': False, 'positive': True}. Best is trial 88 with value: 0.1193501431466137.\n",
      "[I 2025-05-26 09:20:10,319] Trial 194 finished with value: 0.11898316994171117 and parameters: {'alpha': 866.39745382577, 'tol': 0.00970669514533366, 'fit_intercept': False, 'positive': True}. Best is trial 88 with value: 0.1193501431466137.\n",
      "[I 2025-05-26 09:20:11,880] Trial 195 finished with value: 0.1193501126300948 and parameters: {'alpha': 908.694972432416, 'tol': 0.009950865584725169, 'fit_intercept': False, 'positive': True}. Best is trial 88 with value: 0.1193501431466137.\n",
      "[I 2025-05-26 09:20:12,247] Trial 196 finished with value: 0.11898318514013155 and parameters: {'alpha': 869.8326561787826, 'tol': 0.009896550287602843, 'fit_intercept': False, 'positive': True}. Best is trial 88 with value: 0.1193501431466137.\n",
      "[I 2025-05-26 09:20:12,273] Trial 197 finished with value: 0.11935011357968872 and parameters: {'alpha': 908.0352873154695, 'tol': 0.009815562776810718, 'fit_intercept': False, 'positive': True}. Best is trial 88 with value: 0.1193501431466137.\n",
      "[I 2025-05-26 09:20:14,007] Trial 198 finished with value: 0.1193500190986064 and parameters: {'alpha': 973.6955033353726, 'tol': 0.009971728566084349, 'fit_intercept': False, 'positive': True}. Best is trial 88 with value: 0.1193501431466137.\n",
      "[I 2025-05-26 09:20:15,675] Trial 199 finished with value: 0.11898279862150615 and parameters: {'alpha': 782.6097871698663, 'tol': 0.00961622864334757, 'fit_intercept': False, 'positive': True}. Best is trial 88 with value: 0.1193501431466137.\n",
      "[I 2025-05-26 09:20:16,054] Trial 201 finished with value: 0.1189825052734442 and parameters: {'alpha': 716.6052629469124, 'tol': 0.009851827394593993, 'fit_intercept': False, 'positive': True}. Best is trial 88 with value: 0.1193501431466137.\n",
      "[I 2025-05-26 09:20:16,055] Trial 200 finished with value: 0.1189827104030701 and parameters: {'alpha': 762.7427823956243, 'tol': 0.009999001205766555, 'fit_intercept': False, 'positive': True}. Best is trial 88 with value: 0.1193501431466137.\n",
      "[I 2025-05-26 09:20:17,832] Trial 202 finished with value: 0.11898234783760411 and parameters: {'alpha': 681.2500356669657, 'tol': 0.009599609183497875, 'fit_intercept': False, 'positive': True}. Best is trial 88 with value: 0.1193501431466137.\n",
      "[I 2025-05-26 09:20:19,870] Trial 205 finished with value: 0.11935007842471564 and parameters: {'alpha': 932.4607914587631, 'tol': 0.008219595731656096, 'fit_intercept': False, 'positive': True}. Best is trial 88 with value: 0.1193501431466137.\n",
      "[I 2025-05-26 09:20:19,907] Trial 204 finished with value: 0.11935012548711095 and parameters: {'alpha': 899.7635883571995, 'tol': 0.00993647434749444, 'fit_intercept': False, 'positive': True}. Best is trial 88 with value: 0.1193501431466137.\n",
      "[I 2025-05-26 09:20:19,915] Trial 203 finished with value: 0.11817255717939683 and parameters: {'alpha': 330.50546510634797, 'tol': 0.0054072393843911945, 'fit_intercept': True, 'positive': True}. Best is trial 88 with value: 0.1193501431466137.\n",
      "[I 2025-05-26 09:20:21,557] Trial 206 finished with value: 0.11934999922683767 and parameters: {'alpha': 987.5116878213323, 'tol': 0.008953774478581377, 'fit_intercept': False, 'positive': True}. Best is trial 88 with value: 0.1193501431466137.\n",
      "[I 2025-05-26 09:20:23,626] Trial 207 finished with value: 0.11867633491388677 and parameters: {'alpha': 993.3464368306337, 'tol': 0.007368810184809473, 'fit_intercept': False, 'positive': True}. Best is trial 88 with value: 0.1193501431466137.\n",
      "[I 2025-05-26 09:20:23,659] Trial 208 finished with value: 0.11898299713587727 and parameters: {'alpha': 827.370852027974, 'tol': 0.009917487039453613, 'fit_intercept': False, 'positive': True}. Best is trial 88 with value: 0.1193501431466137.\n",
      "[I 2025-05-26 09:20:23,670] Trial 209 finished with value: 0.11898312115283857 and parameters: {'alpha': 855.3730535893138, 'tol': 0.009644968742228284, 'fit_intercept': False, 'positive': True}. Best is trial 88 with value: 0.1193501431466137.\n",
      "[I 2025-05-26 09:20:25,307] Trial 210 finished with value: 0.11898299765488515 and parameters: {'alpha': 827.4879782501027, 'tol': 0.009975469791488502, 'fit_intercept': False, 'positive': True}. Best is trial 88 with value: 0.1193501431466137.\n",
      "[I 2025-05-26 09:20:27,003] Trial 211 finished with value: 0.11935009485910016 and parameters: {'alpha': 921.0414263218692, 'tol': 0.009981152771800368, 'fit_intercept': False, 'positive': True}. Best is trial 88 with value: 0.1193501431466137.\n",
      "[I 2025-05-26 09:20:27,396] Trial 213 finished with value: 0.11935013329101438 and parameters: {'alpha': 894.3428874831083, 'tol': 0.009701886670319524, 'fit_intercept': False, 'positive': True}. Best is trial 88 with value: 0.1193501431466137.\n",
      "[I 2025-05-26 09:20:27,398] Trial 212 finished with value: 0.11935008989683812 and parameters: {'alpha': 924.4892794038709, 'tol': 0.009950579982889753, 'fit_intercept': False, 'positive': True}. Best is trial 88 with value: 0.1193501431466137.\n",
      "[I 2025-05-26 09:20:29,069] Trial 214 finished with value: 0.11867598627664247 and parameters: {'alpha': 948.4690205061949, 'tol': 0.007955590777186928, 'fit_intercept': False, 'positive': True}. Best is trial 88 with value: 0.1193501431466137.\n",
      "[I 2025-05-26 09:20:30,748] Trial 215 finished with value: 0.11935011038222658 and parameters: {'alpha': 910.2565912522864, 'tol': 0.0098166989873098, 'fit_intercept': False, 'positive': True}. Best is trial 88 with value: 0.1193501431466137.\n",
      "[I 2025-05-26 09:20:31,148] Trial 217 finished with value: 0.11935009503570293 and parameters: {'alpha': 920.9187226006106, 'tol': 0.009892531591102802, 'fit_intercept': False, 'positive': True}. Best is trial 88 with value: 0.1193501431466137.\n",
      "[I 2025-05-26 09:20:31,161] Trial 216 finished with value: 0.11898313586125783 and parameters: {'alpha': 858.6961003039752, 'tol': 0.009944079552558443, 'fit_intercept': False, 'positive': True}. Best is trial 88 with value: 0.1193501431466137.\n",
      "[I 2025-05-26 09:20:32,826] Trial 218 finished with value: 0.11898311480368236 and parameters: {'alpha': 853.9387301946572, 'tol': 0.009910780461311355, 'fit_intercept': False, 'positive': True}. Best is trial 88 with value: 0.1193501431466137.\n",
      "[I 2025-05-26 09:20:34,456] Trial 219 finished with value: 0.11935013372038886 and parameters: {'alpha': 894.0446475436372, 'tol': 0.009528914490867207, 'fit_intercept': False, 'positive': True}. Best is trial 88 with value: 0.1193501431466137.\n",
      "[I 2025-05-26 09:20:34,863] Trial 221 finished with value: 0.11898320539846088 and parameters: {'alpha': 874.412216983914, 'tol': 0.009897122112141875, 'fit_intercept': False, 'positive': True}. Best is trial 88 with value: 0.1193501431466137.\n",
      "[I 2025-05-26 09:20:34,876] Trial 220 finished with value: 0.11898291353397775 and parameters: {'alpha': 808.5109601858926, 'tol': 0.009892758382168803, 'fit_intercept': False, 'positive': True}. Best is trial 88 with value: 0.1193501431466137.\n",
      "[I 2025-05-26 09:20:36,515] Trial 222 finished with value: 0.11898316148344032 and parameters: {'alpha': 864.4858794265982, 'tol': 0.009721273022637792, 'fit_intercept': False, 'positive': True}. Best is trial 88 with value: 0.1193501431466137.\n",
      "[I 2025-05-26 09:20:38,157] Trial 223 finished with value: 0.11935013299637835 and parameters: {'alpha': 894.5475398134942, 'tol': 0.009915021180752754, 'fit_intercept': False, 'positive': True}. Best is trial 88 with value: 0.1193501431466137.\n",
      "[I 2025-05-26 09:20:38,398] Trial 225 finished with value: 0.11935007671053408 and parameters: {'alpha': 933.6519679914959, 'tol': 0.009993977259762622, 'fit_intercept': False, 'positive': True}. Best is trial 88 with value: 0.1193501431466137.\n",
      "[I 2025-05-26 09:20:38,739] Trial 224 finished with value: 0.11935001960080775 and parameters: {'alpha': 973.3463671521746, 'tol': 0.00996225694626737, 'fit_intercept': False, 'positive': True}. Best is trial 88 with value: 0.1193501431466137.\n",
      "[I 2025-05-26 09:20:40,202] Trial 226 finished with value: 0.11935007278868981 and parameters: {'alpha': 936.377298696824, 'tol': 0.009938008379938584, 'fit_intercept': False, 'positive': True}. Best is trial 88 with value: 0.1193501431466137.\n",
      "[I 2025-05-26 09:20:41,295] Trial 227 finished with value: 0.1156059221234694 and parameters: {'alpha': 890.9283165003429, 'tol': 0.009605674923301104, 'fit_intercept': False, 'positive': False}. Best is trial 88 with value: 0.1193501431466137.\n",
      "[I 2025-05-26 09:20:42,253] Trial 228 finished with value: 0.11898310424020049 and parameters: {'alpha': 851.5525319087374, 'tol': 0.008606276490804773, 'fit_intercept': False, 'positive': True}. Best is trial 88 with value: 0.1193501431466137.\n",
      "[I 2025-05-26 09:20:42,637] Trial 229 finished with value: 0.11898260011618651 and parameters: {'alpha': 737.9270817716204, 'tol': 0.008381255822093519, 'fit_intercept': False, 'positive': True}. Best is trial 88 with value: 0.1193501431466137.\n",
      "[I 2025-05-26 09:20:44,097] Trial 230 finished with value: 0.11916664050099897 and parameters: {'alpha': 954.7737549234988, 'tol': 0.009872739449878005, 'fit_intercept': True, 'positive': True}. Best is trial 88 with value: 0.1193501431466137.\n",
      "[I 2025-05-26 09:20:44,854] Trial 231 finished with value: 0.11830597556284865 and parameters: {'alpha': 693.4330108303978, 'tol': 0.008144533306751628, 'fit_intercept': False, 'positive': True}. Best is trial 88 with value: 0.1193501431466137.\n",
      "[I 2025-05-26 09:20:46,004] Trial 232 finished with value: 0.1189827365095522 and parameters: {'alpha': 768.6204560461204, 'tol': 0.00825550588783038, 'fit_intercept': False, 'positive': True}. Best is trial 88 with value: 0.1193501431466137.\n",
      "[I 2025-05-26 09:20:46,502] Trial 233 finished with value: 0.11867551495148972 and parameters: {'alpha': 887.8919129607444, 'tol': 0.008043867761579844, 'fit_intercept': False, 'positive': True}. Best is trial 88 with value: 0.1193501431466137.\n",
      "[I 2025-05-26 09:20:47,795] Trial 234 finished with value: 0.1189830553178565 and parameters: {'alpha': 840.5042314791699, 'tol': 0.00841038071886769, 'fit_intercept': False, 'positive': True}. Best is trial 88 with value: 0.1193501431466137.\n",
      "[I 2025-05-26 09:20:48,391] Trial 235 finished with value: 0.11898304536179719 and parameters: {'alpha': 838.2563903403092, 'tol': 0.00864424181210837, 'fit_intercept': False, 'positive': True}. Best is trial 88 with value: 0.1193501431466137.\n",
      "[I 2025-05-26 09:20:49,808] Trial 236 finished with value: 0.11898315820083502 and parameters: {'alpha': 863.7440461210034, 'tol': 0.009873138663021154, 'fit_intercept': False, 'positive': True}. Best is trial 88 with value: 0.1193501431466137.\n",
      "[I 2025-05-26 09:20:50,294] Trial 237 finished with value: 0.11934999894179647 and parameters: {'alpha': 987.7098831547834, 'tol': 0.008783346514018244, 'fit_intercept': False, 'positive': True}. Best is trial 88 with value: 0.1193501431466137.\n",
      "[I 2025-05-26 09:20:51,613] Trial 238 finished with value: 0.1189832118668854 and parameters: {'alpha': 875.8746255500714, 'tol': 0.009956239048703738, 'fit_intercept': False, 'positive': True}. Best is trial 88 with value: 0.1193501431466137.\n",
      "[I 2025-05-26 09:20:52,207] Trial 239 finished with value: 0.1193501047038353 and parameters: {'alpha': 914.2015542764681, 'tol': 0.009992593559803732, 'fit_intercept': False, 'positive': True}. Best is trial 88 with value: 0.1193501431466137.\n",
      "[I 2025-05-26 09:20:53,532] Trial 240 finished with value: 0.11934999121403292 and parameters: {'alpha': 993.0833342276269, 'tol': 0.009761242855006892, 'fit_intercept': False, 'positive': True}. Best is trial 88 with value: 0.1193501431466137.\n",
      "[I 2025-05-26 09:20:54,045] Trial 241 finished with value: 0.11898322916507717 and parameters: {'alpha': 879.7858737961757, 'tol': 0.009884559864389417, 'fit_intercept': False, 'positive': True}. Best is trial 88 with value: 0.1193501431466137.\n",
      "[I 2025-05-26 09:20:55,351] Trial 242 finished with value: 0.1185577977188121 and parameters: {'alpha': 951.1389199595155, 'tol': 0.0007473072429963921, 'fit_intercept': True, 'positive': True}. Best is trial 88 with value: 0.1193501431466137.\n",
      "[I 2025-05-26 09:20:55,917] Trial 243 finished with value: 0.11935007586420883 and parameters: {'alpha': 934.2400812234447, 'tol': 0.009983746879791094, 'fit_intercept': False, 'positive': True}. Best is trial 88 with value: 0.1193501431466137.\n",
      "[I 2025-05-26 09:20:57,228] Trial 244 finished with value: 0.11898304861813251 and parameters: {'alpha': 838.9915721311969, 'tol': 0.00984415896849326, 'fit_intercept': False, 'positive': True}. Best is trial 88 with value: 0.1193501431466137.\n",
      "[I 2025-05-26 09:20:57,725] Trial 245 finished with value: 0.11935006823161513 and parameters: {'alpha': 939.5441626087369, 'tol': 0.00997911678065235, 'fit_intercept': False, 'positive': True}. Best is trial 88 with value: 0.1193501431466137.\n",
      "[I 2025-05-26 09:20:59,002] Trial 246 finished with value: 0.11935009878257448 and parameters: {'alpha': 918.3154329497991, 'tol': 0.00985771041497687, 'fit_intercept': False, 'positive': True}. Best is trial 88 with value: 0.1193501431466137.\n",
      "[I 2025-05-26 09:20:59,697] Trial 247 finished with value: 0.11935008484550644 and parameters: {'alpha': 927.9991566441721, 'tol': 0.008655740117864266, 'fit_intercept': False, 'positive': True}. Best is trial 88 with value: 0.1193501431466137.\n",
      "[I 2025-05-26 09:21:00,450] Trial 248 finished with value: 0.11898287715858422 and parameters: {'alpha': 800.3092085456204, 'tol': 0.009985681546480876, 'fit_intercept': False, 'positive': True}. Best is trial 88 with value: 0.1193501431466137.\n",
      "[I 2025-05-26 09:21:00,456] Trial 249 finished with value: 0.11898307574014688 and parameters: {'alpha': 845.1157013736096, 'tol': 0.009929679293713915, 'fit_intercept': False, 'positive': True}. Best is trial 88 with value: 0.1193501431466137.\n"
     ]
    }
   ],
   "source": [
    "def objective(trial):    \n",
    "    params = {\n",
    "        \"random_state\": CFG.seed,\n",
    "        \"alpha\": trial.suggest_float(\"alpha\", 0, 1000),\n",
    "        \"tol\": trial.suggest_float(\"tol\", 1e-6, 1e-2),\n",
    "        \"fit_intercept\": trial.suggest_categorical(\"fit_intercept\", [True, False]),\n",
    "        \"positive\": trial.suggest_categorical(\"positive\", [True, False])\n",
    "    }\n",
    "\n",
    "    trainer = Trainer(\n",
    "        Ridge(**params),\n",
    "        cv=KFold(n_splits=5, shuffle=False),\n",
    "        metric=_pearsonr,\n",
    "        task=\"regression\",\n",
    "        verbose=False\n",
    "    )\n",
    "    trainer.fit(X, y)\n",
    "    \n",
    "    return np.mean(trainer.fold_scores)\n",
    "\n",
    "if CFG.run_optuna:\n",
    "    sampler = optuna.samplers.TPESampler(seed=CFG.seed, multivariate=True)\n",
    "    study = optuna.create_study(direction=\"maximize\", sampler=sampler)\n",
    "    study.optimize(objective, n_trials=CFG.n_optuna_trials, n_jobs=-1, catch=(ValueError,))\n",
    "    best_params = study.best_params\n",
    "\n",
    "    ridge_params = {\n",
    "        \"random_state\": CFG.seed,\n",
    "        \"alpha\": best_params[\"alpha\"],\n",
    "        \"tol\": best_params[\"tol\"],\n",
    "        \"fit_intercept\": best_params[\"fit_intercept\"],\n",
    "        \"positive\": best_params[\"positive\"]\n",
    "    }\n",
    "else:\n",
    "    ridge_params = {\n",
    "        \"random_state\": CFG.seed\n",
    "    }"
   ]
  },
  {
   "cell_type": "code",
   "execution_count": 17,
   "id": "5e82eb8f",
   "metadata": {
    "execution": {
     "iopub.execute_input": "2025-05-26T09:21:00.501623Z",
     "iopub.status.busy": "2025-05-26T09:21:00.501326Z",
     "iopub.status.idle": "2025-05-26T09:21:01.577757Z",
     "shell.execute_reply": "2025-05-26T09:21:01.576776Z"
    },
    "papermill": {
     "duration": 1.097405,
     "end_time": "2025-05-26T09:21:01.579254",
     "exception": false,
     "start_time": "2025-05-26T09:21:00.481849",
     "status": "completed"
    },
    "tags": []
   },
   "outputs": [
    {
     "name": "stdout",
     "output_type": "stream",
     "text": [
      "Training Ridge\n",
      "\n",
      "--- Fold 0 - _pearsonr: 0.198364 - Time: 0.07 s\n",
      "--- Fold 1 - _pearsonr: 0.114144 - Time: 0.06 s\n",
      "--- Fold 2 - _pearsonr: 0.062556 - Time: 0.06 s\n",
      "--- Fold 3 - _pearsonr: 0.144366 - Time: 0.06 s\n",
      "--- Fold 4 - _pearsonr: 0.077320 - Time: 0.06 s\n",
      "\n",
      "------ Overall _pearsonr: 0.095752 - Mean _pearsonr: 0.119350 ± 0.048761 - Time: 1.04 s\n"
     ]
    }
   ],
   "source": [
    "ridge_trainer = Trainer(\n",
    "    Ridge(**ridge_params),\n",
    "    cv=KFold(n_splits=5, shuffle=False),\n",
    "    metric=_pearsonr,\n",
    "    task=\"regression\",\n",
    "    metric_precision=6\n",
    ")\n",
    "\n",
    "ridge_trainer.fit(X, y)\n",
    "\n",
    "scores[\"Ridge (ensemble)\"] = ridge_trainer.fold_scores\n",
    "ridge_test_preds = ridge_trainer.predict(X_test)"
   ]
  },
  {
   "cell_type": "code",
   "execution_count": 18,
   "id": "aff82eb9",
   "metadata": {
    "execution": {
     "iopub.execute_input": "2025-05-26T09:21:01.618090Z",
     "iopub.status.busy": "2025-05-26T09:21:01.617797Z",
     "iopub.status.idle": "2025-05-26T09:21:01.870420Z",
     "shell.execute_reply": "2025-05-26T09:21:01.869508Z"
    },
    "papermill": {
     "duration": 0.273721,
     "end_time": "2025-05-26T09:21:01.871838",
     "exception": false,
     "start_time": "2025-05-26T09:21:01.598117",
     "status": "completed"
    },
    "tags": []
   },
   "outputs": [
    {
     "data": {
      "image/png": "[encoded data removed]",
      "text/plain": [
       "<Figure size 1000x150 with 1 Axes>"
      ]
     },
     "metadata": {},
     "output_type": "display_data"
    }
   ],
   "source": [
    "ridge_coeffs = np.zeros((1, X.shape[1]))\n",
    "for m in ridge_trainer.estimators:\n",
    "    ridge_coeffs += m.coef_\n",
    "ridge_coeffs = ridge_coeffs / len(ridge_trainer.estimators)\n",
    "\n",
    "plot_weights(ridge_coeffs, \"Ridge Coefficients\")"
   ]
  },
  {
   "cell_type": "markdown",
   "id": "26b676ec",
   "metadata": {
    "papermill": {
     "duration": 0.018993,
     "end_time": "2025-05-26T09:21:01.910208",
     "exception": false,
     "start_time": "2025-05-26T09:21:01.891215",
     "status": "completed"
    },
    "tags": []
   },
   "source": [
    "# Submission"
   ]
  },
  {
   "cell_type": "code",
   "execution_count": 19,
   "id": "4aa22c3d",
   "metadata": {
    "execution": {
     "iopub.execute_input": "2025-05-26T09:21:01.950225Z",
     "iopub.status.busy": "2025-05-26T09:21:01.949917Z",
     "iopub.status.idle": "2025-05-26T09:21:03.619725Z",
     "shell.execute_reply": "2025-05-26T09:21:03.618809Z"
    },
    "papermill": {
     "duration": 1.692074,
     "end_time": "2025-05-26T09:21:03.621306",
     "exception": false,
     "start_time": "2025-05-26T09:21:01.929232",
     "status": "completed"
    },
    "tags": []
   },
   "outputs": [
    {
     "data": {
      "text/html": [
       "<div>\n",
       "<style scoped>\n",
       "    .dataframe tbody tr th:only-of-type {\n",
       "        vertical-align: middle;\n",
       "    }\n",
       "\n",
       "    .dataframe tbody tr th {\n",
       "        vertical-align: top;\n",
       "    }\n",
       "\n",
       "    .dataframe thead th {\n",
       "        text-align: right;\n",
       "    }\n",
       "</style>\n",
       "<table border=\"1\" class=\"dataframe\">\n",
       "  <thead>\n",
       "    <tr style=\"text-align: right;\">\n",
       "      <th></th>\n",
       "      <th>ID</th>\n",
       "      <th>prediction</th>\n",
       "    </tr>\n",
       "  </thead>\n",
       "  <tbody>\n",
       "    <tr>\n",
       "      <th>0</th>\n",
       "      <td>1</td>\n",
       "      <td>0.086673</td>\n",
       "    </tr>\n",
       "    <tr>\n",
       "      <th>1</th>\n",
       "      <td>2</td>\n",
       "      <td>0.037852</td>\n",
       "    </tr>\n",
       "    <tr>\n",
       "      <th>2</th>\n",
       "      <td>3</td>\n",
       "      <td>0.011487</td>\n",
       "    </tr>\n",
       "    <tr>\n",
       "      <th>3</th>\n",
       "      <td>4</td>\n",
       "      <td>-0.017612</td>\n",
       "    </tr>\n",
       "    <tr>\n",
       "      <th>4</th>\n",
       "      <td>5</td>\n",
       "      <td>0.134630</td>\n",
       "    </tr>\n",
       "  </tbody>\n",
       "</table>\n",
       "</div>"
      ],
      "text/plain": [
       "   ID  prediction\n",
       "0   1    0.086673\n",
       "1   2    0.037852\n",
       "2   3    0.011487\n",
       "3   4   -0.017612\n",
       "4   5    0.134630"
      ]
     },
     "execution_count": 19,
     "metadata": {},
     "output_type": "execute_result"
    }
   ],
   "source": [
    "sub = pd.read_csv(CFG.sample_sub_path)\n",
    "sub[\"prediction\"] = ridge_test_preds\n",
    "sub.to_csv(f\"sub_ridge_{np.mean(scores['Ridge (ensemble)']):.6f}.csv\", index=False)\n",
    "sub.head()"
   ]
  },
  {
   "cell_type": "markdown",
   "id": "65f4d40d",
   "metadata": {
    "papermill": {
     "duration": 0.019199,
     "end_time": "2025-05-26T09:21:03.660304",
     "exception": false,
     "start_time": "2025-05-26T09:21:03.641105",
     "status": "completed"
    },
    "tags": []
   },
   "source": [
    "# Results"
   ]
  },
  {
   "cell_type": "code",
   "execution_count": 20,
   "id": "c28d0bfb",
   "metadata": {
    "execution": {
     "iopub.execute_input": "2025-05-26T09:21:03.700269Z",
     "iopub.status.busy": "2025-05-26T09:21:03.699948Z",
     "iopub.status.idle": "2025-05-26T09:21:04.030104Z",
     "shell.execute_reply": "2025-05-26T09:21:04.029038Z"
    },
    "papermill": {
     "duration": 0.352348,
     "end_time": "2025-05-26T09:21:04.031805",
     "exception": false,
     "start_time": "2025-05-26T09:21:03.679457",
     "status": "completed"
    },
    "tags": []
   },
   "outputs": [
    {
     "data": {
      "image/png": "[encoded data removed]",
      "text/plain": [
       "<Figure size 1500x200 with 2 Axes>"
      ]
     },
     "metadata": {},
     "output_type": "display_data"
    }
   ],
   "source": [
    "scores = pd.DataFrame(scores)\n",
    "mean_scores = scores.mean().sort_values(ascending=False)\n",
    "order = scores.mean().sort_values(ascending=False).index.tolist()\n",
    "\n",
    "min_score = mean_scores.min()\n",
    "max_score = mean_scores.max()\n",
    "padding = (max_score - min_score) * 0.5\n",
    "lower_limit = min_score - padding\n",
    "upper_limit = max_score + padding\n",
    "\n",
    "fig, axs = plt.subplots(1, 2, figsize=(15, scores.shape[1] * 0.5))\n",
    "\n",
    "boxplot = sns.boxplot(data=scores, order=order, ax=axs[0], orient=\"h\", color=\"grey\")\n",
    "axs[0].set_title(f\"Fold Score\")\n",
    "axs[0].set_xlabel(\"\")\n",
    "axs[0].set_ylabel(\"\")\n",
    "\n",
    "barplot = sns.barplot(x=mean_scores.values, y=mean_scores.index, ax=axs[1], color=\"grey\")\n",
    "axs[1].set_title(f\"Average Score\")\n",
    "axs[1].set_xlabel(\"\")\n",
    "axs[1].set_xlim(left=lower_limit, right=upper_limit)\n",
    "axs[1].set_ylabel(\"\")\n",
    "\n",
    "for i, (score, model) in enumerate(zip(mean_scores.values, mean_scores.index)):\n",
    "    color = \"cyan\" if \"ensemble\" in model.lower() else \"grey\"\n",
    "    barplot.patches[i].set_facecolor(color)\n",
    "    boxplot.patches[i].set_facecolor(color)\n",
    "    barplot.text(score, i, round(score, 6), va=\"center\")\n",
    "\n",
    "plt.tight_layout()\n",
    "plt.show()"
   ]
  }
 ],
 "metadata": {
  "kaggle": {
   "accelerator": "none",
   "dataSources": [
    {
     "databundleVersionId": 11418275,
     "sourceId": 96164,
     "sourceType": "competition"
    }
   ],
   "dockerImageVersionId": 31040,
   "isGpuEnabled": false,
   "isInternetEnabled": true,
   "language": "python",
   "sourceType": "notebook"
  },
  "kernelspec": {
   "display_name": "Python 3",
   "language": "python",
   "name": "python3"
  },
  "language_info": {
   "codemirror_mode": {
    "name": "ipython",
    "version": 3
   },
   "file_extension": ".py",
   "mimetype": "text/x-python",
   "name": "python",
   "nbconvert_exporter": "python",
   "pygments_lexer": "ipython3",
   "version": "3.11.11"
  },
  "papermill": {
   "default_parameters": {},
   "duration": 7214.220665,
   "end_time": "2025-05-26T09:21:07.999064",
   "environment_variables": {},
   "exception": null,
   "input_path": "__notebook__.ipynb",
   "output_path": "__notebook__.ipynb",
   "parameters": {},
   "start_time": "2025-05-26T07:20:53.778399",
   "version": "2.6.0"
  }
 },
 "nbformat": 4,
 "nbformat_minor": 5
}
