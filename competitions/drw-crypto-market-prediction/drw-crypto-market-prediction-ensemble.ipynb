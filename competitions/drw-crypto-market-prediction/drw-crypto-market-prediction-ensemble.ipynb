{
 "cells": [
  {
   "cell_type": "code",
   "execution_count": 1,
   "id": "e2bb07e0",
   "metadata": {
    "_kg_hide-output": true,
    "execution": {
     "iopub.execute_input": "2025-05-24T07:41:20.438843Z",
     "iopub.status.busy": "2025-05-24T07:41:20.438538Z",
     "iopub.status.idle": "2025-05-24T07:41:30.059528Z",
     "shell.execute_reply": "2025-05-24T07:41:30.058307Z"
    },
    "papermill": {
     "duration": 9.628757,
     "end_time": "2025-05-24T07:41:30.061314",
     "exception": false,
     "start_time": "2025-05-24T07:41:20.432557",
     "status": "completed"
    },
    "scrolled": true,
    "tags": []
   },
   "outputs": [
    {
     "name": "stdout",
     "output_type": "stream",
     "text": [
      "Collecting scikit-learn==1.5.2\r\n",
      "  Downloading scikit_learn-1.5.2-cp311-cp311-manylinux_2_17_x86_64.manylinux2014_x86_64.whl.metadata (13 kB)\r\n",
      "Requirement already satisfied: numpy>=1.19.5 in /usr/local/lib/python3.11/dist-packages (from scikit-learn==1.5.2) (1.26.4)\r\n",
      "Requirement already satisfied: scipy>=1.6.0 in /usr/local/lib/python3.11/dist-packages (from scikit-learn==1.5.2) (1.15.2)\r\n",
      "Requirement already satisfied: joblib>=1.2.0 in /usr/local/lib/python3.11/dist-packages (from scikit-learn==1.5.2) (1.5.0)\r\n",
      "Requirement already satisfied: threadpoolctl>=3.1.0 in /usr/local/lib/python3.11/dist-packages (from scikit-learn==1.5.2) (3.6.0)\r\n",
      "Requirement already satisfied: mkl_fft in /usr/local/lib/python3.11/dist-packages (from numpy>=1.19.5->scikit-learn==1.5.2) (1.3.8)\r\n",
      "Requirement already satisfied: mkl_random in /usr/local/lib/python3.11/dist-packages (from numpy>=1.19.5->scikit-learn==1.5.2) (1.2.4)\r\n",
      "Requirement already satisfied: mkl_umath in /usr/local/lib/python3.11/dist-packages (from numpy>=1.19.5->scikit-learn==1.5.2) (0.1.1)\r\n",
      "Requirement already satisfied: mkl in /usr/local/lib/python3.11/dist-packages (from numpy>=1.19.5->scikit-learn==1.5.2) (2025.1.0)\r\n",
      "Requirement already satisfied: tbb4py in /usr/local/lib/python3.11/dist-packages (from numpy>=1.19.5->scikit-learn==1.5.2) (2022.1.0)\r\n",
      "Requirement already satisfied: mkl-service in /usr/local/lib/python3.11/dist-packages (from numpy>=1.19.5->scikit-learn==1.5.2) (2.4.1)\r\n",
      "Requirement already satisfied: intel-openmp<2026,>=2024 in /usr/local/lib/python3.11/dist-packages (from mkl->numpy>=1.19.5->scikit-learn==1.5.2) (2024.2.0)\r\n",
      "Requirement already satisfied: tbb==2022.* in /usr/local/lib/python3.11/dist-packages (from mkl->numpy>=1.19.5->scikit-learn==1.5.2) (2022.1.0)\r\n",
      "Requirement already satisfied: tcmlib==1.* in /usr/local/lib/python3.11/dist-packages (from tbb==2022.*->mkl->numpy>=1.19.5->scikit-learn==1.5.2) (1.3.0)\r\n",
      "Requirement already satisfied: intel-cmplr-lib-rt in /usr/local/lib/python3.11/dist-packages (from mkl_umath->numpy>=1.19.5->scikit-learn==1.5.2) (2024.2.0)\r\n",
      "Requirement already satisfied: intel-cmplr-lib-ur==2024.2.0 in /usr/local/lib/python3.11/dist-packages (from intel-openmp<2026,>=2024->mkl->numpy>=1.19.5->scikit-learn==1.5.2) (2024.2.0)\r\n",
      "Downloading scikit_learn-1.5.2-cp311-cp311-manylinux_2_17_x86_64.manylinux2014_x86_64.whl (13.3 MB)\r\n",
      "\u001b[2K   \u001b[90m━━━━━━━━━━━━━━━━━━━━━━━━━━━━━━━━━━━━━━━━\u001b[0m \u001b[32m13.3/13.3 MB\u001b[0m \u001b[31m93.7 MB/s\u001b[0m eta \u001b[36m0:00:00\u001b[0m\r\n",
      "\u001b[?25hInstalling collected packages: scikit-learn\r\n",
      "  Attempting uninstall: scikit-learn\r\n",
      "    Found existing installation: scikit-learn 1.2.2\r\n",
      "    Uninstalling scikit-learn-1.2.2:\r\n",
      "      Successfully uninstalled scikit-learn-1.2.2\r\n",
      "\u001b[31mERROR: pip's dependency resolver does not currently take into account all the packages that are installed. This behaviour is the source of the following dependency conflicts.\r\n",
      "cesium 0.12.4 requires numpy<3.0,>=2.0, but you have numpy 1.26.4 which is incompatible.\u001b[0m\u001b[31m\r\n",
      "\u001b[0mSuccessfully installed scikit-learn-1.5.2\r\n"
     ]
    }
   ],
   "source": [
    "!pip install scikit-learn==1.5.2"
   ]
  },
  {
   "cell_type": "markdown",
   "id": "e0d61802",
   "metadata": {
    "papermill": {
     "duration": 0.00456,
     "end_time": "2025-05-24T07:41:30.071204",
     "exception": false,
     "start_time": "2025-05-24T07:41:30.066644",
     "status": "completed"
    },
    "tags": []
   },
   "source": [
    "# Imports and configs"
   ]
  },
  {
   "cell_type": "code",
   "execution_count": 2,
   "id": "0bb635c2",
   "metadata": {
    "_kg_hide-output": true,
    "execution": {
     "iopub.execute_input": "2025-05-24T07:41:30.082393Z",
     "iopub.status.busy": "2025-05-24T07:41:30.082003Z",
     "iopub.status.idle": "2025-05-24T07:41:39.375209Z",
     "shell.execute_reply": "2025-05-24T07:41:39.373803Z"
    },
    "papermill": {
     "duration": 9.301024,
     "end_time": "2025-05-24T07:41:39.377016",
     "exception": false,
     "start_time": "2025-05-24T07:41:30.075992",
     "status": "completed"
    },
    "tags": []
   },
   "outputs": [],
   "source": [
    "from sklearn.model_selection import KFold\n",
    "from sklearn.linear_model import Ridge\n",
    "from lightgbm import LGBMRegressor\n",
    "from scipy.stats import pearsonr\n",
    "from xgboost import XGBRegressor\n",
    "from sklearn.base import clone\n",
    "import matplotlib.pyplot as plt\n",
    "import seaborn as sns\n",
    "import pandas as pd\n",
    "import numpy as np\n",
    "import warnings\n",
    "import joblib\n",
    "import optuna\n",
    "import gc\n",
    "\n",
    "warnings.filterwarnings(\"ignore\")"
   ]
  },
  {
   "cell_type": "code",
   "execution_count": 3,
   "id": "126954f8",
   "metadata": {
    "execution": {
     "iopub.execute_input": "2025-05-24T07:41:39.388488Z",
     "iopub.status.busy": "2025-05-24T07:41:39.387921Z",
     "iopub.status.idle": "2025-05-24T07:41:39.392945Z",
     "shell.execute_reply": "2025-05-24T07:41:39.391999Z"
    },
    "papermill": {
     "duration": 0.012489,
     "end_time": "2025-05-24T07:41:39.394490",
     "exception": false,
     "start_time": "2025-05-24T07:41:39.382001",
     "status": "completed"
    },
    "tags": []
   },
   "outputs": [],
   "source": [
    "class CFG:\n",
    "    train_path = \"/kaggle/input/drw-crypto-market-prediction/train.parquet\"\n",
    "    test_path = \"/kaggle/input/drw-crypto-market-prediction/test.parquet\"\n",
    "    sample_sub_path = \"/kaggle/input/drw-crypto-market-prediction/sample_submission.csv\"\n",
    "\n",
    "    target = \"label\"\n",
    "    n_folds = 5\n",
    "    seed = 42\n",
    "\n",
    "    run_optuna = True\n",
    "    n_optuna_trials = 250"
   ]
  },
  {
   "cell_type": "markdown",
   "id": "201b5d06",
   "metadata": {
    "papermill": {
     "duration": 0.004545,
     "end_time": "2025-05-24T07:41:39.403855",
     "exception": false,
     "start_time": "2025-05-24T07:41:39.399310",
     "status": "completed"
    },
    "tags": []
   },
   "source": [
    "# Data loading and preprocessing"
   ]
  },
  {
   "cell_type": "code",
   "execution_count": 4,
   "id": "e97a8c83",
   "metadata": {
    "_kg_hide-input": true,
    "execution": {
     "iopub.execute_input": "2025-05-24T07:41:39.414922Z",
     "iopub.status.busy": "2025-05-24T07:41:39.414306Z",
     "iopub.status.idle": "2025-05-24T07:41:39.423595Z",
     "shell.execute_reply": "2025-05-24T07:41:39.422703Z"
    },
    "papermill": {
     "duration": 0.016739,
     "end_time": "2025-05-24T07:41:39.425344",
     "exception": false,
     "start_time": "2025-05-24T07:41:39.408605",
     "status": "completed"
    },
    "tags": []
   },
   "outputs": [],
   "source": [
    "def reduce_mem_usage(dataframe, dataset):    \n",
    "    print('Reducing memory usage for:', dataset)\n",
    "    initial_mem_usage = dataframe.memory_usage().sum() / 1024**2\n",
    "    \n",
    "    for col in dataframe.columns:\n",
    "        col_type = dataframe[col].dtype\n",
    "\n",
    "        c_min = dataframe[col].min()\n",
    "        c_max = dataframe[col].max()\n",
    "        if str(col_type)[:3] == 'int':\n",
    "            if c_min > np.iinfo(np.int8).min and c_max < np.iinfo(np.int8).max:\n",
    "                dataframe[col] = dataframe[col].astype(np.int8)\n",
    "            elif c_min > np.iinfo(np.int16).min and c_max < np.iinfo(np.int16).max:\n",
    "                dataframe[col] = dataframe[col].astype(np.int16)\n",
    "            elif c_min > np.iinfo(np.int32).min and c_max < np.iinfo(np.int32).max:\n",
    "                dataframe[col] = dataframe[col].astype(np.int32)\n",
    "            elif c_min > np.iinfo(np.int64).min and c_max < np.iinfo(np.int64).max:\n",
    "                dataframe[col] = dataframe[col].astype(np.int64)\n",
    "        else:\n",
    "            if c_min > np.finfo(np.float16).min and c_max < np.finfo(np.float16).max:\n",
    "                dataframe[col] = dataframe[col].astype(np.float16)\n",
    "            elif c_min > np.finfo(np.float32).min and c_max < np.finfo(np.float32).max:\n",
    "                dataframe[col] = dataframe[col].astype(np.float32)\n",
    "            else:\n",
    "                dataframe[col] = dataframe[col].astype(np.float64)\n",
    "\n",
    "    final_mem_usage = dataframe.memory_usage().sum() / 1024**2\n",
    "    print('--- Memory usage before: {:.2f} MB'.format(initial_mem_usage))\n",
    "    print('--- Memory usage after: {:.2f} MB'.format(final_mem_usage))\n",
    "    print('--- Decreased memory usage by {:.1f}%\\n'.format(100 * (initial_mem_usage - final_mem_usage) / initial_mem_usage))\n",
    "\n",
    "    return dataframe"
   ]
  },
  {
   "cell_type": "code",
   "execution_count": 5,
   "id": "7aae76d2",
   "metadata": {
    "execution": {
     "iopub.execute_input": "2025-05-24T07:41:39.436367Z",
     "iopub.status.busy": "2025-05-24T07:41:39.435960Z",
     "iopub.status.idle": "2025-05-24T07:41:39.441272Z",
     "shell.execute_reply": "2025-05-24T07:41:39.440435Z"
    },
    "papermill": {
     "duration": 0.012429,
     "end_time": "2025-05-24T07:41:39.442753",
     "exception": false,
     "start_time": "2025-05-24T07:41:39.430324",
     "status": "completed"
    },
    "tags": []
   },
   "outputs": [],
   "source": [
    "cols_to_drop = [\n",
    "    'X697', 'X698', 'X699', 'X700', 'X701', 'X702', 'X703', 'X704', 'X705', 'X706', \n",
    "    'X707', 'X708', 'X709', 'X710', 'X711', 'X712', 'X713', 'X714', 'X715', 'X716',\n",
    "    'X717', 'X864', 'X867', 'X869', 'X870', 'X871', 'X872', 'X104', 'X110', 'X116',\n",
    "    'X122', 'X128', 'X134', 'X140', 'X146', 'X152', 'X158', 'X164', 'X170', 'X176',\n",
    "    'X182', 'X351', 'X357', 'X363', 'X369', 'X375', 'X381', 'X387', 'X393', 'X399',\n",
    "    'X405', 'X411', 'X417', 'X423', 'X429'\n",
    "]"
   ]
  },
  {
   "cell_type": "code",
   "execution_count": 6,
   "id": "9a297ac1",
   "metadata": {
    "execution": {
     "iopub.execute_input": "2025-05-24T07:41:39.454373Z",
     "iopub.status.busy": "2025-05-24T07:41:39.454084Z",
     "iopub.status.idle": "2025-05-24T07:42:49.449700Z",
     "shell.execute_reply": "2025-05-24T07:42:49.448731Z"
    },
    "papermill": {
     "duration": 70.003755,
     "end_time": "2025-05-24T07:42:49.451558",
     "exception": false,
     "start_time": "2025-05-24T07:41:39.447803",
     "status": "completed"
    },
    "tags": []
   },
   "outputs": [
    {
     "name": "stdout",
     "output_type": "stream",
     "text": [
      "Reducing memory usage for: train\n",
      "--- Memory usage before: 3374.26 MB\n",
      "--- Memory usage after: 843.57 MB\n",
      "--- Decreased memory usage by 75.0%\n",
      "\n",
      "Reducing memory usage for: test\n",
      "--- Memory usage before: 3448.84 MB\n",
      "--- Memory usage after: 862.21 MB\n",
      "--- Decreased memory usage by 75.0%\n",
      "\n"
     ]
    }
   ],
   "source": [
    "train = pd.read_parquet(CFG.train_path).reset_index(drop=True)\n",
    "test = pd.read_parquet(CFG.test_path).reset_index(drop=True)\n",
    "\n",
    "train = train.drop(columns=cols_to_drop)\n",
    "test = test.drop(columns=[\"label\"] + cols_to_drop)\n",
    "\n",
    "train = reduce_mem_usage(train, \"train\")\n",
    "test = reduce_mem_usage(test, \"test\")\n",
    "\n",
    "X = train.drop(CFG.target, axis=1)\n",
    "y = train[CFG.target]\n",
    "X_test = test"
   ]
  },
  {
   "cell_type": "markdown",
   "id": "38fd3411",
   "metadata": {
    "papermill": {
     "duration": 0.004678,
     "end_time": "2025-05-24T07:42:49.461524",
     "exception": false,
     "start_time": "2025-05-24T07:42:49.456846",
     "status": "completed"
    },
    "tags": []
   },
   "source": [
    "# Training base models"
   ]
  },
  {
   "cell_type": "code",
   "execution_count": 7,
   "id": "cf738e33",
   "metadata": {
    "_kg_hide-input": true,
    "execution": {
     "iopub.execute_input": "2025-05-24T07:42:49.473094Z",
     "iopub.status.busy": "2025-05-24T07:42:49.472325Z",
     "iopub.status.idle": "2025-05-24T07:42:49.483623Z",
     "shell.execute_reply": "2025-05-24T07:42:49.482829Z"
    },
    "papermill": {
     "duration": 0.01854,
     "end_time": "2025-05-24T07:42:49.485140",
     "exception": false,
     "start_time": "2025-05-24T07:42:49.466600",
     "status": "completed"
    },
    "tags": []
   },
   "outputs": [],
   "source": [
    "class Trainer:\n",
    "    def __init__(self, model):\n",
    "        self.model = model\n",
    "\n",
    "    def fit_predict(self, X, y, X_test):\n",
    "        print(f\"Training {self.model.__class__.__name__}\\n\")\n",
    "\n",
    "        fold_scores = []\n",
    "        oof_preds = np.zeros(X.shape[0])\n",
    "        test_preds = np.zeros(X_test.shape[0])\n",
    "\n",
    "        split = KFold(n_splits=CFG.n_folds, shuffle=False).split(X, y)\n",
    "        for fold_idx, (train_idx, val_idx) in enumerate(split):\n",
    "\n",
    "            X_train, X_val = X.iloc[train_idx], X.iloc[val_idx]\n",
    "            y_train, y_val = y[train_idx], y[val_idx]\n",
    "\n",
    "            model = clone(self.model)\n",
    "            model.fit(X_train, y_train)\n",
    "\n",
    "            y_preds = model.predict(X_val)\n",
    "            oof_preds[val_idx] = y_preds\n",
    "            \n",
    "            temp_test_preds = model.predict(X_test)\n",
    "            test_preds += temp_test_preds / CFG.n_folds\n",
    "\n",
    "            fold_score = pearsonr(y_val, y_preds)[0]\n",
    "            fold_scores.append(fold_score)\n",
    "\n",
    "            print(f\"--- Fold {fold_idx} - Score: {fold_score:.6f}\")\n",
    "\n",
    "            del X_train, y_train, X_val, y_val, y_preds, model, temp_test_preds\n",
    "            gc.collect()\n",
    "\n",
    "        overall_score = pearsonr(y, oof_preds)[0]\n",
    "        mean_score = np.mean(fold_scores)\n",
    "        std_score = np.std(fold_scores)\n",
    "        \n",
    "        print(f\"\\n------ Overall Score: {overall_score:.6f} - Mean Score: {mean_score:.6f} ± {std_score:.6f}\")\n",
    "        \n",
    "        return oof_preds, test_preds, fold_scores\n",
    "    \n",
    "    def tune(self, X, y):\n",
    "        fold_scores = []\n",
    "        \n",
    "        split = KFold(n_splits=CFG.n_folds, shuffle=False).split(X, y)\n",
    "        for train_idx, val_idx in split:\n",
    "            X_train, X_val = X.iloc[train_idx], X.iloc[val_idx]\n",
    "            y_train, y_val = y[train_idx], y[val_idx]\n",
    "\n",
    "            model = clone(self.model)\n",
    "            model.fit(X_train, y_train)\n",
    "\n",
    "            y_preds = model.predict(X_val)\n",
    "            fold_score = pearsonr(y_val, y_preds)[0]\n",
    "            fold_scores.append(fold_score)\n",
    "\n",
    "            del X_train, y_train, X_val, y_val, y_preds, model\n",
    "            gc.collect()\n",
    "\n",
    "        return np.mean(fold_scores)"
   ]
  },
  {
   "cell_type": "code",
   "execution_count": 8,
   "id": "bdc4b2dc",
   "metadata": {
    "_kg_hide-input": true,
    "_kg_hide-output": true,
    "execution": {
     "iopub.execute_input": "2025-05-24T07:42:49.496540Z",
     "iopub.status.busy": "2025-05-24T07:42:49.496191Z",
     "iopub.status.idle": "2025-05-24T07:42:49.503091Z",
     "shell.execute_reply": "2025-05-24T07:42:49.502252Z"
    },
    "papermill": {
     "duration": 0.014309,
     "end_time": "2025-05-24T07:42:49.504601",
     "exception": false,
     "start_time": "2025-05-24T07:42:49.490292",
     "status": "completed"
    },
    "tags": []
   },
   "outputs": [],
   "source": [
    "lgbm_params = {\n",
    "    \"boosting_type\": \"gbdt\",\n",
    "    \"colsample_bytree\": 0.5242042724303907,\n",
    "    \"learning_rate\": 0.014470794293130388,\n",
    "    \"min_child_samples\": 47,\n",
    "    \"min_child_weight\": 0.1936457311991661,\n",
    "    \"n_estimators\": 441,\n",
    "    \"n_jobs\": -1,\n",
    "    \"num_leaves\": 65,\n",
    "    \"random_state\": 42,\n",
    "    \"reg_alpha\": 76.69015407123774,\n",
    "    \"reg_lambda\": 78.57981723239948,\n",
    "    \"subsample\": 0.35497610282716086,\n",
    "    \"verbose\": -1\n",
    "}\n",
    "\n",
    "lgbm_goss_params = {\n",
    "    \"boosting_type\": \"goss\",\n",
    "    \"colsample_bytree\": 0.32266516869045214,\n",
    "    \"learning_rate\": 0.013684657681610528,\n",
    "    \"min_child_samples\": 47,\n",
    "    \"min_child_weight\": 0.652800548618323,\n",
    "    \"n_estimators\": 268,\n",
    "    \"n_jobs\": -1,\n",
    "    \"num_leaves\": 25,\n",
    "    \"random_state\": 42,\n",
    "    \"reg_alpha\": 24.43093150663448,\n",
    "    \"reg_lambda\": 39.81794248056326,\n",
    "    \"subsample\": 0.21026644887863555,\n",
    "    \"verbose\": -1\n",
    "}\n",
    "\n",
    "xgb_params = {\n",
    "    \"colsample_bylevel\": 0.4634967322919854,\n",
    "    \"colsample_bynode\": 0.6046331585629835,\n",
    "    \"colsample_bytree\": 0.11495541333509408,\n",
    "    \"gamma\": 1.0397769239502863,\n",
    "    \"learning_rate\": 0.09622196913585954,\n",
    "    \"max_depth\": 40,\n",
    "    \"max_leaves\": 19,\n",
    "    \"min_child_weight\": 76,\n",
    "    \"n_estimators\": 679,\n",
    "    \"n_jobs\": -1,\n",
    "    \"random_state\": 42,\n",
    "    \"reg_alpha\": 65.41659225037377,\n",
    "    \"reg_lambda\": 19.907991015311545,\n",
    "    \"subsample\": 0.014465324175810368,\n",
    "    \"verbosity\": 0\n",
    "}"
   ]
  },
  {
   "cell_type": "code",
   "execution_count": 9,
   "id": "edd6c240",
   "metadata": {
    "execution": {
     "iopub.execute_input": "2025-05-24T07:42:49.516825Z",
     "iopub.status.busy": "2025-05-24T07:42:49.516515Z",
     "iopub.status.idle": "2025-05-24T07:42:49.520606Z",
     "shell.execute_reply": "2025-05-24T07:42:49.519795Z"
    },
    "papermill": {
     "duration": 0.011678,
     "end_time": "2025-05-24T07:42:49.522135",
     "exception": false,
     "start_time": "2025-05-24T07:42:49.510457",
     "status": "completed"
    },
    "tags": []
   },
   "outputs": [],
   "source": [
    "scores = {}\n",
    "oof_preds = {}\n",
    "test_preds = {}"
   ]
  },
  {
   "cell_type": "markdown",
   "id": "42d7fab0",
   "metadata": {
    "papermill": {
     "duration": 0.004854,
     "end_time": "2025-05-24T07:42:49.532040",
     "exception": false,
     "start_time": "2025-05-24T07:42:49.527186",
     "status": "completed"
    },
    "tags": []
   },
   "source": [
    "## LightGBM (gbdt)"
   ]
  },
  {
   "cell_type": "code",
   "execution_count": 10,
   "id": "59012c52",
   "metadata": {
    "execution": {
     "iopub.execute_input": "2025-05-24T07:42:49.543210Z",
     "iopub.status.busy": "2025-05-24T07:42:49.542898Z",
     "iopub.status.idle": "2025-05-24T08:05:54.972959Z",
     "shell.execute_reply": "2025-05-24T08:05:54.971810Z"
    },
    "papermill": {
     "duration": 1385.438157,
     "end_time": "2025-05-24T08:05:54.975281",
     "exception": false,
     "start_time": "2025-05-24T07:42:49.537124",
     "status": "completed"
    },
    "tags": []
   },
   "outputs": [
    {
     "name": "stdout",
     "output_type": "stream",
     "text": [
      "Training LGBMRegressor\n",
      "\n",
      "--- Fold 0 - Score: 0.172176\n",
      "--- Fold 1 - Score: 0.108129\n",
      "--- Fold 2 - Score: 0.047617\n",
      "--- Fold 3 - Score: 0.131234\n",
      "--- Fold 4 - Score: 0.065890\n",
      "\n",
      "------ Overall Score: 0.094881 - Mean Score: 0.105009 ± 0.044795\n"
     ]
    }
   ],
   "source": [
    "lgbm_trainer = Trainer(\n",
    "    LGBMRegressor(**lgbm_params)\n",
    ")\n",
    "\n",
    "oof_preds[\"LightGBM (gbdt)\"], test_preds[\"LightGBM (gbdt)\"], scores[\"LightGBM (gbdt)\"] = lgbm_trainer.fit_predict(X, y, X_test)"
   ]
  },
  {
   "cell_type": "markdown",
   "id": "7b9facdc",
   "metadata": {
    "papermill": {
     "duration": 0.005525,
     "end_time": "2025-05-24T08:05:54.987132",
     "exception": false,
     "start_time": "2025-05-24T08:05:54.981607",
     "status": "completed"
    },
    "tags": []
   },
   "source": [
    "## LightGBM (goss)"
   ]
  },
  {
   "cell_type": "code",
   "execution_count": 11,
   "id": "f11ee1b9",
   "metadata": {
    "execution": {
     "iopub.execute_input": "2025-05-24T08:05:55.001480Z",
     "iopub.status.busy": "2025-05-24T08:05:55.001108Z",
     "iopub.status.idle": "2025-05-24T08:14:41.127194Z",
     "shell.execute_reply": "2025-05-24T08:14:41.126291Z"
    },
    "papermill": {
     "duration": 526.135798,
     "end_time": "2025-05-24T08:14:41.128797",
     "exception": false,
     "start_time": "2025-05-24T08:05:54.992999",
     "status": "completed"
    },
    "tags": []
   },
   "outputs": [
    {
     "name": "stdout",
     "output_type": "stream",
     "text": [
      "Training LGBMRegressor\n",
      "\n",
      "--- Fold 0 - Score: 0.139381\n",
      "--- Fold 1 - Score: 0.107386\n",
      "--- Fold 2 - Score: 0.060590\n",
      "--- Fold 3 - Score: 0.159686\n",
      "--- Fold 4 - Score: 0.078235\n",
      "\n",
      "------ Overall Score: 0.098311 - Mean Score: 0.109056 ± 0.036837\n"
     ]
    }
   ],
   "source": [
    "lgbm_goss_trainer = Trainer(LGBMRegressor(**lgbm_goss_params))\n",
    "\n",
    "oof_preds[\"LightGBM (goss)\"], test_preds[\"LightGBM (goss)\"], scores[\"LightGBM (goss)\"] = lgbm_goss_trainer.fit_predict(X, y, X_test)"
   ]
  },
  {
   "cell_type": "markdown",
   "id": "5f64d95d",
   "metadata": {
    "papermill": {
     "duration": 0.005604,
     "end_time": "2025-05-24T08:14:41.140613",
     "exception": false,
     "start_time": "2025-05-24T08:14:41.135009",
     "status": "completed"
    },
    "tags": []
   },
   "source": [
    "## XGBoost"
   ]
  },
  {
   "cell_type": "code",
   "execution_count": 12,
   "id": "49f97654",
   "metadata": {
    "execution": {
     "iopub.execute_input": "2025-05-24T08:14:41.153908Z",
     "iopub.status.busy": "2025-05-24T08:14:41.153618Z",
     "iopub.status.idle": "2025-05-24T09:04:08.375592Z",
     "shell.execute_reply": "2025-05-24T09:04:08.372400Z"
    },
    "papermill": {
     "duration": 2967.233334,
     "end_time": "2025-05-24T09:04:08.379994",
     "exception": false,
     "start_time": "2025-05-24T08:14:41.146660",
     "status": "completed"
    },
    "tags": []
   },
   "outputs": [
    {
     "name": "stdout",
     "output_type": "stream",
     "text": [
      "Training XGBRegressor\n",
      "\n",
      "--- Fold 0 - Score: 0.176297\n",
      "--- Fold 1 - Score: 0.099319\n",
      "--- Fold 2 - Score: 0.083288\n",
      "--- Fold 3 - Score: 0.118652\n",
      "--- Fold 4 - Score: 0.056673\n",
      "\n",
      "------ Overall Score: 0.106179 - Mean Score: 0.106846 ± 0.040229\n"
     ]
    }
   ],
   "source": [
    "xgb_trainer = Trainer(XGBRegressor(**xgb_params))\n",
    "\n",
    "oof_preds[\"XGBoost\"], test_preds[\"XGBoost\"], scores[\"XGBoost\"] = xgb_trainer.fit_predict(X, y, X_test)"
   ]
  },
  {
   "cell_type": "markdown",
   "id": "cbfcbee3",
   "metadata": {
    "papermill": {
     "duration": 0.023753,
     "end_time": "2025-05-24T09:04:08.435664",
     "exception": false,
     "start_time": "2025-05-24T09:04:08.411911",
     "status": "completed"
    },
    "tags": []
   },
   "source": [
    "# Ensembling with Ridge"
   ]
  },
  {
   "cell_type": "code",
   "execution_count": 13,
   "id": "c743eb93",
   "metadata": {
    "execution": {
     "iopub.execute_input": "2025-05-24T09:04:08.486998Z",
     "iopub.status.busy": "2025-05-24T09:04:08.486427Z",
     "iopub.status.idle": "2025-05-24T09:04:08.525735Z",
     "shell.execute_reply": "2025-05-24T09:04:08.521996Z"
    },
    "papermill": {
     "duration": 0.06697,
     "end_time": "2025-05-24T09:04:08.530330",
     "exception": false,
     "start_time": "2025-05-24T09:04:08.463360",
     "status": "completed"
    },
    "tags": []
   },
   "outputs": [],
   "source": [
    "X = pd.DataFrame(oof_preds)\n",
    "X_test = pd.DataFrame(test_preds)"
   ]
  },
  {
   "cell_type": "code",
   "execution_count": 14,
   "id": "2543692b",
   "metadata": {
    "execution": {
     "iopub.execute_input": "2025-05-24T09:04:08.580544Z",
     "iopub.status.busy": "2025-05-24T09:04:08.579795Z",
     "iopub.status.idle": "2025-05-24T09:04:08.692460Z",
     "shell.execute_reply": "2025-05-24T09:04:08.687955Z"
    },
    "papermill": {
     "duration": 0.147405,
     "end_time": "2025-05-24T09:04:08.700077",
     "exception": false,
     "start_time": "2025-05-24T09:04:08.552672",
     "status": "completed"
    },
    "tags": []
   },
   "outputs": [
    {
     "data": {
      "text/plain": [
       "['test_preds.pkl']"
      ]
     },
     "execution_count": 14,
     "metadata": {},
     "output_type": "execute_result"
    }
   ],
   "source": [
    "joblib.dump(X, \"oof_preds.pkl\")\n",
    "joblib.dump(X_test, \"test_preds.pkl\")"
   ]
  },
  {
   "cell_type": "code",
   "execution_count": 15,
   "id": "6dfe9bb2",
   "metadata": {
    "_kg_hide-output": true,
    "execution": {
     "iopub.execute_input": "2025-05-24T09:04:08.768315Z",
     "iopub.status.busy": "2025-05-24T09:04:08.768019Z",
     "iopub.status.idle": "2025-05-24T09:07:47.685899Z",
     "shell.execute_reply": "2025-05-24T09:07:47.684916Z"
    },
    "papermill": {
     "duration": 218.956706,
     "end_time": "2025-05-24T09:07:47.687488",
     "exception": false,
     "start_time": "2025-05-24T09:04:08.730782",
     "status": "completed"
    },
    "scrolled": true,
    "tags": []
   },
   "outputs": [
    {
     "name": "stderr",
     "output_type": "stream",
     "text": [
      "[I 2025-05-24 09:04:08,788] A new study created in memory with name: no-name-b01c6f5f-8f1d-4e0a-8a94-1bb8c39f567d\n",
      "[I 2025-05-24 09:04:13,524] Trial 1 finished with value: 0.12007837826478687 and parameters: {'alpha': 17.35006230899482, 'tol': 0.0019411656907741808}. Best is trial 1 with value: 0.12007837826478687.\n",
      "[I 2025-05-24 09:04:13,696] Trial 0 finished with value: 0.1200706052328051 and parameters: {'alpha': 12.281796168741167, 'tol': 0.007545813943359073}. Best is trial 1 with value: 0.12007837826478687.\n",
      "[I 2025-05-24 09:04:13,916] Trial 2 finished with value: 0.12011983228499686 and parameters: {'alpha': 44.800601882213, 'tol': 0.0005267501081120395}. Best is trial 2 with value: 0.12011983228499686.\n",
      "[I 2025-05-24 09:04:14,061] Trial 3 finished with value: 0.12011773056843267 and parameters: {'alpha': 43.391505163998936, 'tol': 0.0023935882792507314}. Best is trial 2 with value: 0.12011983228499686.\n",
      "[I 2025-05-24 09:04:17,223] Trial 4 finished with value: 0.12012853109331009 and parameters: {'alpha': 50.652789037322954, 'tol': 0.008116385094494694}. Best is trial 4 with value: 0.12012853109331009.\n",
      "[I 2025-05-24 09:04:17,408] Trial 5 finished with value: 0.1201383894271677 and parameters: {'alpha': 57.32441991081431, 'tol': 0.0018279987226643179}. Best is trial 5 with value: 0.1201383894271677.\n",
      "[I 2025-05-24 09:04:17,591] Trial 7 finished with value: 0.12006453042459894 and parameters: {'alpha': 8.337855418860041, 'tol': 0.005950226593522375}. Best is trial 5 with value: 0.1201383894271677.\n",
      "[I 2025-05-24 09:04:17,765] Trial 6 finished with value: 0.12015086827167712 and parameters: {'alpha': 65.83012948713606, 'tol': 0.004453122998545456}. Best is trial 6 with value: 0.12015086827167712.\n",
      "[I 2025-05-24 09:04:20,882] Trial 9 finished with value: 0.12007631416716291 and parameters: {'alpha': 16.001809258572596, 'tol': 0.005793581921167445}. Best is trial 6 with value: 0.12015086827167712.\n",
      "[I 2025-05-24 09:04:21,090] Trial 8 finished with value: 0.12018281157911148 and parameters: {'alpha': 87.91785558528909, 'tol': 0.009450273238928221}. Best is trial 8 with value: 0.12018281157911148.\n",
      "[I 2025-05-24 09:04:21,332] Trial 10 finished with value: 0.12012724727231953 and parameters: {'alpha': 49.78704882571851, 'tol': 0.002355296619730342}. Best is trial 8 with value: 0.12018281157911148.\n",
      "[I 2025-05-24 09:04:21,504] Trial 11 finished with value: 0.12007279678377965 and parameters: {'alpha': 13.708274411666599, 'tol': 0.009866442794584833}. Best is trial 8 with value: 0.12018281157911148.\n",
      "[I 2025-05-24 09:04:24,357] Trial 12 finished with value: 0.12011589981769925 and parameters: {'alpha': 42.16560845424397, 'tol': 0.008860670745767112}. Best is trial 8 with value: 0.12018281157911148.\n",
      "[I 2025-05-24 09:04:24,715] Trial 13 finished with value: 0.12019844878823156 and parameters: {'alpha': 98.89917550932735, 'tol': 0.008780644496305409}. Best is trial 13 with value: 0.12019844878823156.\n",
      "[I 2025-05-24 09:04:24,875] Trial 14 finished with value: 0.12018960923665789 and parameters: {'alpha': 92.67773114296008, 'tol': 0.009486059487149305}. Best is trial 13 with value: 0.12019844878823156.\n",
      "[I 2025-05-24 09:04:25,227] Trial 15 finished with value: 0.12018389066280628 and parameters: {'alpha': 88.6720431490481, 'tol': 0.009609145121324165}. Best is trial 13 with value: 0.12019844878823156.\n",
      "[I 2025-05-24 09:04:27,642] Trial 16 finished with value: 0.12019422175216661 and parameters: {'alpha': 95.919604666682, 'tol': 0.009431262465916902}. Best is trial 13 with value: 0.12019844878823156.\n",
      "[I 2025-05-24 09:04:28,126] Trial 17 finished with value: 0.12019724885996297 and parameters: {'alpha': 98.05252389018655, 'tol': 0.009899660084946431}. Best is trial 13 with value: 0.12019844878823156.\n",
      "[I 2025-05-24 09:04:28,488] Trial 18 finished with value: 0.12018080889696256 and parameters: {'alpha': 86.51955865075593, 'tol': 0.0065839066300312}. Best is trial 13 with value: 0.12019844878823156.\n",
      "[I 2025-05-24 09:04:28,656] Trial 19 finished with value: 0.12019979919766936 and parameters: {'alpha': 99.8528036060174, 'tol': 0.006021760253935837}. Best is trial 19 with value: 0.12019979919766936.\n",
      "[I 2025-05-24 09:04:31,079] Trial 20 finished with value: 0.12019601221727258 and parameters: {'alpha': 97.18066536367586, 'tol': 0.006579230772689104}. Best is trial 19 with value: 0.12019979919766936.\n",
      "[I 2025-05-24 09:04:31,559] Trial 21 finished with value: 0.12018853767526409 and parameters: {'alpha': 91.92599335302596, 'tol': 0.006359047791519233}. Best is trial 19 with value: 0.12019979919766936.\n",
      "[I 2025-05-24 09:04:31,770] Trial 22 finished with value: 0.12019440234613588 and parameters: {'alpha': 96.0467334454151, 'tol': 0.004402742264876819}. Best is trial 19 with value: 0.12019979919766936.\n",
      "[I 2025-05-24 09:04:32,084] Trial 23 finished with value: 0.12017432236129674 and parameters: {'alpha': 82.00309293844518, 'tol': 0.005238854900218682}. Best is trial 19 with value: 0.12019979919766936.\n",
      "[I 2025-05-24 09:04:34,825] Trial 24 finished with value: 0.12018589135030477 and parameters: {'alpha': 90.07176080349059, 'tol': 0.003290444834227248}. Best is trial 19 with value: 0.12019979919766936.\n",
      "[I 2025-05-24 09:04:35,028] Trial 25 finished with value: 0.12018742263227092 and parameters: {'alpha': 91.14431131336029, 'tol': 0.003713637591818628}. Best is trial 19 with value: 0.12019979919766936.\n",
      "[I 2025-05-24 09:04:35,243] Trial 26 finished with value: 0.1201592779544314 and parameters: {'alpha': 71.60090075558037, 'tol': 0.007067228520907324}. Best is trial 19 with value: 0.12019979919766936.\n",
      "[I 2025-05-24 09:04:35,396] Trial 27 finished with value: 0.1201990072268384 and parameters: {'alpha': 99.29342931804206, 'tol': 0.0006786237330233206}. Best is trial 19 with value: 0.12019979919766936.\n",
      "[I 2025-05-24 09:04:37,960] Trial 28 finished with value: 0.12015842840344566 and parameters: {'alpha': 71.01651098373068, 'tol': 0.009467502582529158}. Best is trial 19 with value: 0.12019979919766936.\n",
      "[I 2025-05-24 09:04:38,440] Trial 29 finished with value: 0.12015404335461696 and parameters: {'alpha': 68.00521223910482, 'tol': 0.008100510263219812}. Best is trial 19 with value: 0.12019979919766936.\n",
      "[I 2025-05-24 09:04:38,657] Trial 30 finished with value: 0.1201582060587056 and parameters: {'alpha': 70.8636172654194, 'tol': 0.009777026530512656}. Best is trial 19 with value: 0.12019979919766936.\n",
      "[I 2025-05-24 09:04:38,957] Trial 31 finished with value: 0.12018358597377561 and parameters: {'alpha': 88.45903762204325, 'tol': 0.0006633239504698261}. Best is trial 19 with value: 0.12019979919766936.\n",
      "[I 2025-05-24 09:04:41,550] Trial 32 finished with value: 0.12018814432855807 and parameters: {'alpha': 91.65017917331147, 'tol': 0.0003828057934399604}. Best is trial 19 with value: 0.12019979919766936.\n",
      "[I 2025-05-24 09:04:41,905] Trial 33 finished with value: 0.12017031971761656 and parameters: {'alpha': 79.22561593731767, 'tol': 0.0003509316127205027}. Best is trial 19 with value: 0.12019979919766936.\n",
      "[I 2025-05-24 09:04:42,266] Trial 34 finished with value: 0.12018935650065132 and parameters: {'alpha': 92.50038046369616, 'tol': 0.00038463202419262917}. Best is trial 19 with value: 0.12019979919766936.\n",
      "[I 2025-05-24 09:04:42,426] Trial 35 finished with value: 0.1201954060790256 and parameters: {'alpha': 96.75358398551772, 'tol': 0.00011492313915119324}. Best is trial 19 with value: 0.12019979919766936.\n",
      "[I 2025-05-24 09:04:44,892] Trial 36 finished with value: 0.12019819547474639 and parameters: {'alpha': 98.7203856535285, 'tol': 0.008681716119515777}. Best is trial 19 with value: 0.12019979919766936.\n",
      "[I 2025-05-24 09:04:45,387] Trial 37 finished with value: 0.12019830052329547 and parameters: {'alpha': 98.79452580278193, 'tol': 0.0009912228228518725}. Best is trial 19 with value: 0.12019979919766936.\n",
      "[I 2025-05-24 09:04:45,612] Trial 39 finished with value: 0.12019977832907862 and parameters: {'alpha': 99.8380602425859, 'tol': 0.007336831696689192}. Best is trial 19 with value: 0.12019979919766936.\n",
      "[I 2025-05-24 09:04:45,922] Trial 38 finished with value: 0.12019848913966005 and parameters: {'alpha': 98.9276584877938, 'tol': 0.007968684441283054}. Best is trial 19 with value: 0.12019979919766936.\n",
      "[I 2025-05-24 09:04:48,439] Trial 40 finished with value: 0.12019883697573679 and parameters: {'alpha': 99.17321787259986, 'tol': 0.008356602055115875}. Best is trial 19 with value: 0.12019979919766936.\n",
      "[I 2025-05-24 09:04:48,961] Trial 41 finished with value: 0.12007718877732756 and parameters: {'alpha': 16.572886095537932, 'tol': 0.00041844795083471626}. Best is trial 19 with value: 0.12019979919766936.\n",
      "[I 2025-05-24 09:04:49,317] Trial 42 finished with value: 0.12019655581742343 and parameters: {'alpha': 97.5638274070501, 'tol': 0.006676657719809396}. Best is trial 19 with value: 0.12019979919766936.\n",
      "[I 2025-05-24 09:04:49,490] Trial 43 finished with value: 0.12019805891290021 and parameters: {'alpha': 98.62401200808115, 'tol': 0.0067233319702947394}. Best is trial 19 with value: 0.12019979919766936.\n",
      "[I 2025-05-24 09:04:51,889] Trial 44 finished with value: 0.12019967919875538 and parameters: {'alpha': 99.76802883914334, 'tol': 0.00631131327380342}. Best is trial 19 with value: 0.12019979919766936.\n",
      "[I 2025-05-24 09:04:52,400] Trial 45 finished with value: 0.12019665261207062 and parameters: {'alpha': 97.63206844053057, 'tol': 0.0070999508121394024}. Best is trial 19 with value: 0.12019979919766936.\n",
      "[I 2025-05-24 09:04:52,756] Trial 46 finished with value: 0.12019847752106971 and parameters: {'alpha': 98.91945716267473, 'tol': 0.007798052070914573}. Best is trial 19 with value: 0.12019979919766936.\n",
      "[I 2025-05-24 09:04:53,132] Trial 47 finished with value: 0.12019535336483045 and parameters: {'alpha': 96.71644991304103, 'tol': 0.006396696806059747}. Best is trial 19 with value: 0.12019979919766936.\n",
      "[I 2025-05-24 09:04:55,363] Trial 48 finished with value: 0.12019609225475576 and parameters: {'alpha': 97.23707200194843, 'tol': 0.006270449982014697}. Best is trial 19 with value: 0.12019979919766936.\n",
      "[I 2025-05-24 09:04:55,716] Trial 49 finished with value: 0.12019259855975754 and parameters: {'alpha': 94.77763735919379, 'tol': 0.005882235255458553}. Best is trial 19 with value: 0.12019979919766936.\n",
      "[I 2025-05-24 09:04:56,225] Trial 50 finished with value: 0.12019740836026097 and parameters: {'alpha': 98.16502646355184, 'tol': 0.0043887793652358405}. Best is trial 19 with value: 0.12019979919766936.\n",
      "[I 2025-05-24 09:04:56,432] Trial 51 finished with value: 0.12019027375971807 and parameters: {'alpha': 93.14418237717483, 'tol': 0.005247042506257495}. Best is trial 19 with value: 0.12019979919766936.\n",
      "[I 2025-05-24 09:04:58,805] Trial 52 finished with value: 0.12011884122379564 and parameters: {'alpha': 44.13591019933244, 'tol': 0.006024174192259747}. Best is trial 19 with value: 0.12019979919766936.\n",
      "[I 2025-05-24 09:04:59,153] Trial 53 finished with value: 0.1201990915762496 and parameters: {'alpha': 99.35299200766754, 'tol': 0.0061852520956934805}. Best is trial 19 with value: 0.12019979919766936.\n",
      "[I 2025-05-24 09:04:59,650] Trial 54 finished with value: 0.12019790785340967 and parameters: {'alpha': 98.51741724525102, 'tol': 0.008233476250397949}. Best is trial 19 with value: 0.12019979919766936.\n",
      "[I 2025-05-24 09:05:00,002] Trial 55 finished with value: 0.12017592164104622 and parameters: {'alpha': 83.11487300789173, 'tol': 0.007542765093398988}. Best is trial 19 with value: 0.12019979919766936.\n",
      "[I 2025-05-24 09:05:02,226] Trial 56 finished with value: 0.12017686570280754 and parameters: {'alpha': 83.77170502270124, 'tol': 0.0078096811925567194}. Best is trial 19 with value: 0.12019979919766936.\n",
      "[I 2025-05-24 09:05:02,723] Trial 57 finished with value: 0.1201694261287456 and parameters: {'alpha': 78.6065306668564, 'tol': 0.007182926308854705}. Best is trial 19 with value: 0.12019979919766936.\n",
      "[I 2025-05-24 09:05:02,940] Trial 58 finished with value: 0.12006285992606298 and parameters: {'alpha': 7.255924610733814, 'tol': 0.0036988881386217087}. Best is trial 19 with value: 0.12019979919766936.\n",
      "[I 2025-05-24 09:05:03,447] Trial 59 finished with value: 0.12019930029918471 and parameters: {'alpha': 99.50039431199005, 'tol': 0.005398963933881962}. Best is trial 19 with value: 0.12019979919766936.\n",
      "[I 2025-05-24 09:05:05,753] Trial 60 finished with value: 0.12016304603305797 and parameters: {'alpha': 74.1967618861873, 'tol': 0.005590299422876109}. Best is trial 19 with value: 0.12019979919766936.\n",
      "[I 2025-05-24 09:05:06,260] Trial 61 finished with value: 0.12019939885993877 and parameters: {'alpha': 99.570005973962, 'tol': 0.005498443135570627}. Best is trial 19 with value: 0.12019979919766936.\n",
      "[I 2025-05-24 09:05:06,470] Trial 62 finished with value: 0.1201977990475093 and parameters: {'alpha': 98.44064518286321, 'tol': 0.0069341891688538}. Best is trial 19 with value: 0.12019979919766936.\n",
      "[I 2025-05-24 09:05:06,833] Trial 63 finished with value: 0.12019780250055931 and parameters: {'alpha': 98.44308152679406, 'tol': 0.005239596265020837}. Best is trial 19 with value: 0.12019979919766936.\n",
      "[I 2025-05-24 09:05:09,277] Trial 64 finished with value: 0.12019301118003138 and parameters: {'alpha': 95.0678135518455, 'tol': 0.005395652246456541}. Best is trial 19 with value: 0.12019979919766936.\n",
      "[I 2025-05-24 09:05:09,773] Trial 65 finished with value: 0.12019918294234373 and parameters: {'alpha': 99.41751320208182, 'tol': 0.00569882066745032}. Best is trial 19 with value: 0.12019979919766936.\n",
      "[I 2025-05-24 09:05:09,976] Trial 66 finished with value: 0.12018740124155355 and parameters: {'alpha': 91.12932128757919, 'tol': 0.005047547065716904}. Best is trial 19 with value: 0.12019979919766936.\n",
      "[I 2025-05-24 09:05:10,327] Trial 67 finished with value: 0.12019383636766394 and parameters: {'alpha': 95.64836435813474, 'tol': 0.005558616342681457}. Best is trial 19 with value: 0.12019979919766936.\n",
      "[I 2025-05-24 09:05:12,720] Trial 68 finished with value: 0.12019835195985067 and parameters: {'alpha': 98.83083006469153, 'tol': 0.005354408004752047}. Best is trial 19 with value: 0.12019979919766936.\n",
      "[I 2025-05-24 09:05:13,229] Trial 69 finished with value: 0.12017246797923604 and parameters: {'alpha': 80.71541916761208, 'tol': 0.005048119641311394}. Best is trial 19 with value: 0.12019979919766936.\n",
      "[I 2025-05-24 09:05:13,589] Trial 70 finished with value: 0.12019981684778876 and parameters: {'alpha': 99.86527332309072, 'tol': 0.004975622658521847}. Best is trial 70 with value: 0.12019981684778876.\n",
      "[I 2025-05-24 09:05:13,794] Trial 71 finished with value: 0.1201993995420475 and parameters: {'alpha': 99.57048775061446, 'tol': 0.004827059912255023}. Best is trial 70 with value: 0.12019981684778876.\n",
      "[I 2025-05-24 09:05:16,156] Trial 72 finished with value: 0.1201633167930332 and parameters: {'alpha': 74.38353452238778, 'tol': 0.004514483709150624}. Best is trial 70 with value: 0.12019981684778876.\n",
      "[I 2025-05-24 09:05:16,504] Trial 73 finished with value: 0.12019984236274366 and parameters: {'alpha': 99.88329976125299, 'tol': 0.005505874599965254}. Best is trial 73 with value: 0.12019984236274366.\n",
      "[I 2025-05-24 09:05:16,857] Trial 74 finished with value: 0.12019816452690527 and parameters: {'alpha': 98.69854456183526, 'tol': 0.004944959293527134}. Best is trial 73 with value: 0.12019984236274366.\n",
      "[I 2025-05-24 09:05:17,200] Trial 75 finished with value: 0.1201997379408174 and parameters: {'alpha': 99.80952708368352, 'tol': 0.003625339965514282}. Best is trial 73 with value: 0.12019984236274366.\n",
      "[I 2025-05-24 09:05:19,771] Trial 76 finished with value: 0.12019322809340634 and parameters: {'alpha': 95.22038989546847, 'tol': 0.0040007334424125894}. Best is trial 73 with value: 0.12019984236274366.\n",
      "[I 2025-05-24 09:05:19,983] Trial 77 finished with value: 0.1201915800359418 and parameters: {'alpha': 94.06169404479458, 'tol': 0.004050052645239355}. Best is trial 73 with value: 0.12019984236274366.\n",
      "[I 2025-05-24 09:05:20,367] Trial 78 finished with value: 0.12019699892406824 and parameters: {'alpha': 97.87625682718115, 'tol': 0.003921945456106669}. Best is trial 73 with value: 0.12019984236274366.\n",
      "[I 2025-05-24 09:05:20,723] Trial 79 finished with value: 0.12019678582968454 and parameters: {'alpha': 97.72599506547944, 'tol': 0.003209848747958626}. Best is trial 73 with value: 0.12019984236274366.\n",
      "[I 2025-05-24 09:05:23,122] Trial 80 finished with value: 0.12019991869429184 and parameters: {'alpha': 99.93723017331428, 'tol': 0.0025043989722294746}. Best is trial 80 with value: 0.12019991869429184.\n",
      "[I 2025-05-24 09:05:23,473] Trial 81 finished with value: 0.12019632654879961 and parameters: {'alpha': 97.40220842476951, 'tol': 0.0033977123761734654}. Best is trial 80 with value: 0.12019991869429184.\n",
      "[I 2025-05-24 09:05:23,985] Trial 82 finished with value: 0.12019905030113087 and parameters: {'alpha': 99.32384548640616, 'tol': 0.0033421576490993256}. Best is trial 80 with value: 0.12019991869429184.\n",
      "[I 2025-05-24 09:05:24,324] Trial 83 finished with value: 0.1201644929581885 and parameters: {'alpha': 75.19524382994705, 'tol': 0.003443735657911422}. Best is trial 80 with value: 0.12019991869429184.\n",
      "[I 2025-05-24 09:05:26,556] Trial 84 finished with value: 0.12019562600191869 and parameters: {'alpha': 96.9085206896601, 'tol': 0.0026422082019837098}. Best is trial 80 with value: 0.12019991869429184.\n",
      "[I 2025-05-24 09:05:26,910] Trial 85 finished with value: 0.12019947127505377 and parameters: {'alpha': 99.6211543241139, 'tol': 0.002558080237282325}. Best is trial 80 with value: 0.12019991869429184.\n",
      "[I 2025-05-24 09:05:27,404] Trial 86 finished with value: 0.120162445122592 and parameters: {'alpha': 73.78236542196913, 'tol': 0.0031109307680606134}. Best is trial 80 with value: 0.12019991869429184.\n",
      "[I 2025-05-24 09:05:27,617] Trial 87 finished with value: 0.12015924322781606 and parameters: {'alpha': 71.57700669645683, 'tol': 0.002382125287495978}. Best is trial 80 with value: 0.12019991869429184.\n",
      "[I 2025-05-24 09:05:30,129] Trial 88 finished with value: 0.12019693675923981 and parameters: {'alpha': 97.83241963344977, 'tol': 0.00515073050155305}. Best is trial 80 with value: 0.12019991869429184.\n",
      "[I 2025-05-24 09:05:30,333] Trial 89 finished with value: 0.12018023221008453 and parameters: {'alpha': 86.11724760341139, 'tol': 0.0020482058825544566}. Best is trial 80 with value: 0.12019991869429184.\n",
      "[I 2025-05-24 09:05:30,686] Trial 90 finished with value: 0.12018194817032504 and parameters: {'alpha': 87.31478898300868, 'tol': 0.0019177230527294032}. Best is trial 80 with value: 0.12019991869429184.\n",
      "[I 2025-05-24 09:05:31,173] Trial 91 finished with value: 0.1201946363696432 and parameters: {'alpha': 96.2114962604905, 'tol': 0.002007366559302609}. Best is trial 80 with value: 0.12019991869429184.\n",
      "[I 2025-05-24 09:05:33,425] Trial 92 finished with value: 0.12019883801462605 and parameters: {'alpha': 99.17395137406096, 'tol': 0.002023015821988435}. Best is trial 80 with value: 0.12019991869429184.\n",
      "[I 2025-05-24 09:05:33,771] Trial 93 finished with value: 0.12019182667473904 and parameters: {'alpha': 94.23501814359847, 'tol': 0.0026668303403356544}. Best is trial 80 with value: 0.12019991869429184.\n",
      "[I 2025-05-24 09:05:34,123] Trial 94 finished with value: 0.12019558841564978 and parameters: {'alpha': 96.88203940269811, 'tol': 0.0019762256194141353}. Best is trial 80 with value: 0.12019991869429184.\n",
      "[I 2025-05-24 09:05:34,625] Trial 95 finished with value: 0.12019967966888376 and parameters: {'alpha': 99.76836095428601, 'tol': 0.004170639874498446}. Best is trial 80 with value: 0.12019991869429184.\n",
      "[I 2025-05-24 09:05:36,848] Trial 96 finished with value: 0.12019818672233709 and parameters: {'alpha': 98.71420869377363, 'tol': 0.0034401288351808413}. Best is trial 80 with value: 0.12019991869429184.\n",
      "[I 2025-05-24 09:05:37,200] Trial 97 finished with value: 0.12019795885061009 and parameters: {'alpha': 98.55340211246867, 'tol': 0.004496224410867078}. Best is trial 80 with value: 0.12019991869429184.\n",
      "[I 2025-05-24 09:05:37,695] Trial 98 finished with value: 0.1200899677089137 and parameters: {'alpha': 24.952582083205865, 'tol': 0.008484320439579932}. Best is trial 80 with value: 0.12019991869429184.\n",
      "[I 2025-05-24 09:05:38,041] Trial 99 finished with value: 0.12005331926612743 and parameters: {'alpha': 1.0981378655425829, 'tol': 0.007936411767224493}. Best is trial 80 with value: 0.12019991869429184.\n",
      "[I 2025-05-24 09:05:40,394] Trial 100 finished with value: 0.12005684001045702 and parameters: {'alpha': 3.3662861035650096, 'tol': 0.007765113274562528}. Best is trial 80 with value: 0.12019991869429184.\n",
      "[I 2025-05-24 09:05:40,750] Trial 101 finished with value: 0.12019911102560325 and parameters: {'alpha': 99.3667264883295, 'tol': 0.004314934291027992}. Best is trial 80 with value: 0.12019991869429184.\n",
      "[I 2025-05-24 09:05:40,953] Trial 102 finished with value: 0.12017700495855344 and parameters: {'alpha': 83.86862653843403, 'tol': 0.0043971098262175585}. Best is trial 80 with value: 0.12019991869429184.\n",
      "[I 2025-05-24 09:05:41,308] Trial 103 finished with value: 0.120172435060302 and parameters: {'alpha': 80.69257444287634, 'tol': 0.005508212328252079}. Best is trial 80 with value: 0.12019991869429184.\n",
      "[I 2025-05-24 09:05:43,689] Trial 104 finished with value: 0.12017697709905584 and parameters: {'alpha': 83.849235721475, 'tol': 0.0063657274085573805}. Best is trial 80 with value: 0.12019991869429184.\n",
      "[I 2025-05-24 09:05:44,039] Trial 105 finished with value: 0.12010933966450385 and parameters: {'alpha': 37.784497965245116, 'tol': 1.7426809755173578e-05}. Best is trial 80 with value: 0.12019991869429184.\n",
      "[I 2025-05-24 09:05:44,541] Trial 106 finished with value: 0.12019983238559559 and parameters: {'alpha': 99.87625082221422, 'tol': 0.006884354295592622}. Best is trial 80 with value: 0.12019991869429184.\n",
      "[I 2025-05-24 09:05:44,897] Trial 107 finished with value: 0.12019834796163327 and parameters: {'alpha': 98.82800805232525, 'tol': 0.006376487217630591}. Best is trial 80 with value: 0.12019991869429184.\n",
      "[I 2025-05-24 09:05:47,133] Trial 108 finished with value: 0.12019799705712167 and parameters: {'alpha': 98.58036234839774, 'tol': 0.007231203417123571}. Best is trial 80 with value: 0.12019991869429184.\n",
      "[I 2025-05-24 09:05:47,475] Trial 109 finished with value: 0.12019848739795405 and parameters: {'alpha': 98.92642904919174, 'tol': 0.0070412969645014525}. Best is trial 80 with value: 0.12019991869429184.\n",
      "[I 2025-05-24 09:05:47,830] Trial 110 finished with value: 0.12019813163898238 and parameters: {'alpha': 98.67533476619047, 'tol': 0.0068848740400038674}. Best is trial 80 with value: 0.12019991869429184.\n",
      "[I 2025-05-24 09:05:48,327] Trial 111 finished with value: 0.12017377541315248 and parameters: {'alpha': 81.62313337954943, 'tol': 0.0060538295097462055}. Best is trial 80 with value: 0.12019991869429184.\n",
      "[I 2025-05-24 09:05:50,708] Trial 112 finished with value: 0.12019510629636505 and parameters: {'alpha': 96.54242173233753, 'tol': 0.007035458391400988}. Best is trial 80 with value: 0.12019991869429184.\n",
      "[I 2025-05-24 09:05:50,873] Trial 113 finished with value: 0.12018018321994092 and parameters: {'alpha': 86.08307783913354, 'tol': 0.00716779092217378}. Best is trial 80 with value: 0.12019991869429184.\n",
      "[I 2025-05-24 09:05:51,474] Trial 114 finished with value: 0.12019460699817916 and parameters: {'alpha': 96.19081607255734, 'tol': 0.004856838153330785}. Best is trial 80 with value: 0.12019991869429184.\n",
      "[I 2025-05-24 09:05:51,827] Trial 115 finished with value: 0.12019528657083682 and parameters: {'alpha': 96.66939929056281, 'tol': 0.004768309116240285}. Best is trial 80 with value: 0.12019991869429184.\n",
      "[I 2025-05-24 09:05:54,292] Trial 117 finished with value: 0.12019343770174215 and parameters: {'alpha': 95.36784851841246, 'tol': 0.004876531929206492}. Best is trial 80 with value: 0.12019991869429184.\n",
      "[I 2025-05-24 09:05:54,294] Trial 116 finished with value: 0.12019130800252793 and parameters: {'alpha': 93.87055650797764, 'tol': 0.0053499909815591965}. Best is trial 80 with value: 0.12019991869429184.\n",
      "[I 2025-05-24 09:05:55,000] Trial 118 finished with value: 0.12019982014143264 and parameters: {'alpha': 99.86760028129679, 'tol': 0.0047785299996038946}. Best is trial 80 with value: 0.12019991869429184.\n",
      "[I 2025-05-24 09:05:55,342] Trial 119 finished with value: 0.12019843520437205 and parameters: {'alpha': 98.88958720150215, 'tol': 0.005948526391136582}. Best is trial 80 with value: 0.12019991869429184.\n",
      "[I 2025-05-24 09:05:57,577] Trial 120 finished with value: 0.12019591109634835 and parameters: {'alpha': 97.10940435116731, 'tol': 0.005777441530125605}. Best is trial 80 with value: 0.12019991869429184.\n",
      "[I 2025-05-24 09:05:57,877] Trial 121 finished with value: 0.12019906186381646 and parameters: {'alpha': 99.33201042403574, 'tol': 0.005244754640124492}. Best is trial 80 with value: 0.12019991869429184.\n",
      "[I 2025-05-24 09:05:58,284] Trial 122 finished with value: 0.12019609915181695 and parameters: {'alpha': 97.24193286372822, 'tol': 0.0037689842957430207}. Best is trial 80 with value: 0.12019991869429184.\n",
      "[I 2025-05-24 09:05:58,774] Trial 123 finished with value: 0.12019302218270804 and parameters: {'alpha': 95.07555228538938, 'tol': 0.0037669029358534784}. Best is trial 80 with value: 0.12019991869429184.\n",
      "[I 2025-05-24 09:06:01,009] Trial 125 finished with value: 0.12019659349441221 and parameters: {'alpha': 97.59038948256415, 'tol': 0.0034084999557664297}. Best is trial 80 with value: 0.12019991869429184.\n",
      "[I 2025-05-24 09:06:01,168] Trial 124 finished with value: 0.12019440719321532 and parameters: {'alpha': 96.05014574534745, 'tol': 0.0036940792327798027}. Best is trial 80 with value: 0.12019991869429184.\n",
      "[I 2025-05-24 09:06:02,009] Trial 126 finished with value: 0.12009106832635566 and parameters: {'alpha': 25.677445370218095, 'tol': 0.002713967623564271}. Best is trial 80 with value: 0.12019991869429184.\n",
      "[I 2025-05-24 09:06:02,202] Trial 127 finished with value: 0.12019839002960878 and parameters: {'alpha': 98.85770074314355, 'tol': 0.004223826664133731}. Best is trial 80 with value: 0.12019991869429184.\n",
      "[I 2025-05-24 09:06:04,453] Trial 129 finished with value: 0.12019968741551072 and parameters: {'alpha': 99.77383345756493, 'tol': 0.005077526654354109}. Best is trial 80 with value: 0.12019991869429184.\n",
      "[I 2025-05-24 09:06:04,621] Trial 128 finished with value: 0.12019867623411509 and parameters: {'alpha': 99.05973326222627, 'tol': 0.0057397935623620085}. Best is trial 80 with value: 0.12019991869429184.\n",
      "[I 2025-05-24 09:06:05,441] Trial 130 finished with value: 0.12017321695875724 and parameters: {'alpha': 81.23531996090792, 'tol': 0.005431386414589054}. Best is trial 80 with value: 0.12019991869429184.\n",
      "[I 2025-05-24 09:06:05,637] Trial 131 finished with value: 0.12019995169127454 and parameters: {'alpha': 99.9605443194869, 'tol': 0.004721411910174605}. Best is trial 131 with value: 0.12019995169127454.\n",
      "[I 2025-05-24 09:06:07,852] Trial 132 finished with value: 0.12019969434008863 and parameters: {'alpha': 99.77872525865953, 'tol': 0.006564536689216711}. Best is trial 131 with value: 0.12019995169127454.\n",
      "[I 2025-05-24 09:06:08,171] Trial 133 finished with value: 0.12017327944133219 and parameters: {'alpha': 81.27870340288912, 'tol': 0.0053973193127011005}. Best is trial 131 with value: 0.12019995169127454.\n",
      "[I 2025-05-24 09:06:08,866] Trial 134 finished with value: 0.12019617486722264 and parameters: {'alpha': 97.29529647696367, 'tol': 0.005807257074040198}. Best is trial 131 with value: 0.12019995169127454.\n",
      "[I 2025-05-24 09:06:09,065] Trial 135 finished with value: 0.12019772379401084 and parameters: {'alpha': 98.38755048120844, 'tol': 0.004312679905583726}. Best is trial 131 with value: 0.12019995169127454.\n",
      "[I 2025-05-24 09:06:11,473] Trial 136 finished with value: 0.12019974735507695 and parameters: {'alpha': 99.81617792277316, 'tol': 0.007487074632198698}. Best is trial 131 with value: 0.12019995169127454.\n",
      "[I 2025-05-24 09:06:11,621] Trial 137 finished with value: 0.12019343440736766 and parameters: {'alpha': 95.36553078231921, 'tol': 0.00761805334415668}. Best is trial 131 with value: 0.12019995169127454.\n",
      "[I 2025-05-24 09:06:12,037] Trial 138 finished with value: 0.1201877891889088 and parameters: {'alpha': 91.4012167168264, 'tol': 0.007679567869914391}. Best is trial 131 with value: 0.12019995169127454.\n",
      "[I 2025-05-24 09:06:12,521] Trial 139 finished with value: 0.12017944824942117 and parameters: {'alpha': 85.57057983004155, 'tol': 0.008093838142912693}. Best is trial 131 with value: 0.12019995169127454.\n",
      "[I 2025-05-24 09:06:14,747] Trial 141 finished with value: 0.12019680371895572 and parameters: {'alpha': 97.73860872982382, 'tol': 0.008255979250203301}. Best is trial 131 with value: 0.12019995169127454.\n",
      "[I 2025-05-24 09:06:15,076] Trial 140 finished with value: 0.12019547343853114 and parameters: {'alpha': 96.8010366945398, 'tol': 0.00805816375874496}. Best is trial 131 with value: 0.12019995169127454.\n",
      "[I 2025-05-24 09:06:15,621] Trial 142 finished with value: 0.12019782202088714 and parameters: {'alpha': 98.45685444946683, 'tol': 0.00803400102171296}. Best is trial 131 with value: 0.12019995169127454.\n",
      "[I 2025-05-24 09:06:15,962] Trial 143 finished with value: 0.12019322091616273 and parameters: {'alpha': 95.21534109239953, 'tol': 0.00805496101523836}. Best is trial 131 with value: 0.12019995169127454.\n",
      "[I 2025-05-24 09:06:18,181] Trial 144 finished with value: 0.1201991567277982 and parameters: {'alpha': 99.39900053564114, 'tol': 0.007424718699114732}. Best is trial 131 with value: 0.12019995169127454.\n",
      "[I 2025-05-24 09:06:18,391] Trial 145 finished with value: 0.12019969820526966 and parameters: {'alpha': 99.78145578809685, 'tol': 0.006124975761095069}. Best is trial 131 with value: 0.12019995169127454.\n",
      "[I 2025-05-24 09:06:19,228] Trial 146 finished with value: 0.12019845434478738 and parameters: {'alpha': 98.90309768643748, 'tol': 0.0063135065936630545}. Best is trial 131 with value: 0.12019995169127454.\n",
      "[I 2025-05-24 09:06:19,580] Trial 147 finished with value: 0.12018669765648413 and parameters: {'alpha': 90.63638514484299, 'tol': 0.006402341141794562}. Best is trial 131 with value: 0.12019995169127454.\n",
      "[I 2025-05-24 09:06:21,471] Trial 148 finished with value: 0.12019719056979775 and parameters: {'alpha': 98.01141221562641, 'tol': 0.006133367775317287}. Best is trial 131 with value: 0.12019995169127454.\n",
      "[I 2025-05-24 09:06:21,828] Trial 149 finished with value: 0.12018270827234376 and parameters: {'alpha': 87.84568082746976, 'tol': 0.006508310890678579}. Best is trial 131 with value: 0.12019995169127454.\n",
      "[I 2025-05-24 09:06:22,672] Trial 150 finished with value: 0.12017951667373714 and parameters: {'alpha': 85.61828202335238, 'tol': 0.006616368801629756}. Best is trial 131 with value: 0.12019995169127454.\n",
      "[I 2025-05-24 09:06:22,911] Trial 151 finished with value: 0.1201984759361101 and parameters: {'alpha': 98.91833837699967, 'tol': 0.006203539203018143}. Best is trial 131 with value: 0.12019995169127454.\n",
      "[I 2025-05-24 09:06:25,056] Trial 152 finished with value: 0.12019981796345758 and parameters: {'alpha': 99.86606154213949, 'tol': 0.00699740121654649}. Best is trial 131 with value: 0.12019995169127454.\n",
      "[I 2025-05-24 09:06:25,230] Trial 153 finished with value: 0.12019930815450723 and parameters: {'alpha': 99.50594221744058, 'tol': 0.006317667055381673}. Best is trial 131 with value: 0.12019995169127454.\n",
      "[I 2025-05-24 09:06:26,119] Trial 154 finished with value: 0.12019791726187146 and parameters: {'alpha': 98.52405599440912, 'tol': 0.002683745989248497}. Best is trial 131 with value: 0.12019995169127454.\n",
      "[I 2025-05-24 09:06:26,816] Trial 155 finished with value: 0.12018104777256103 and parameters: {'alpha': 86.6862485173312, 'tol': 0.0025243036669237644}. Best is trial 131 with value: 0.12019995169127454.\n",
      "[I 2025-05-24 09:06:28,536] Trial 156 finished with value: 0.1201957409210201 and parameters: {'alpha': 96.98949063353571, 'tol': 0.006422404374193845}. Best is trial 131 with value: 0.12019995169127454.\n",
      "[I 2025-05-24 09:06:28,699] Trial 157 finished with value: 0.12019940228117092 and parameters: {'alpha': 99.57242240883267, 'tol': 0.005670931931098638}. Best is trial 131 with value: 0.12019995169127454.\n",
      "[I 2025-05-24 09:06:29,719] Trial 158 finished with value: 0.12019913880871076 and parameters: {'alpha': 99.38634629091091, 'tol': 0.006658210948433788}. Best is trial 131 with value: 0.12019995169127454.\n",
      "[I 2025-05-24 09:06:30,267] Trial 159 finished with value: 0.1201983682979404 and parameters: {'alpha': 98.84236185374951, 'tol': 0.006353958905357013}. Best is trial 131 with value: 0.12019995169127454.\n",
      "[I 2025-05-24 09:06:31,971] Trial 161 finished with value: 0.12017583300635329 and parameters: {'alpha': 83.0532260498789, 'tol': 0.004233660656528251}. Best is trial 131 with value: 0.12019995169127454.\n",
      "[I 2025-05-24 09:06:32,126] Trial 160 finished with value: 0.12019727337280348 and parameters: {'alpha': 98.06981310757453, 'tol': 0.005498796752091817}. Best is trial 131 with value: 0.12019995169127454.\n",
      "[I 2025-05-24 09:06:33,167] Trial 162 finished with value: 0.12017269544989022 and parameters: {'alpha': 80.87329014386219, 'tol': 0.004106608207948972}. Best is trial 131 with value: 0.12019995169127454.\n",
      "[I 2025-05-24 09:06:33,706] Trial 163 finished with value: 0.12017826844803106 and parameters: {'alpha': 84.7484126937542, 'tol': 0.004144422398307334}. Best is trial 131 with value: 0.12019995169127454.\n",
      "[I 2025-05-24 09:06:35,413] Trial 165 finished with value: 0.12019996875303449 and parameters: {'alpha': 99.97259957071799, 'tol': 0.004042847430171583}. Best is trial 165 with value: 0.12019996875303449.\n",
      "[I 2025-05-24 09:06:35,557] Trial 164 finished with value: 0.12019837090086546 and parameters: {'alpha': 98.84419906789891, 'tol': 0.0034369656090751577}. Best is trial 165 with value: 0.12019996875303449.\n",
      "[I 2025-05-24 09:06:36,451] Trial 166 finished with value: 0.12010820471400194 and parameters: {'alpha': 37.02838042440638, 'tol': 0.009997876110746946}. Best is trial 165 with value: 0.12019996875303449.\n",
      "[I 2025-05-24 09:06:37,142] Trial 167 finished with value: 0.12019829035946498 and parameters: {'alpha': 98.787352249019, 'tol': 0.0015090945205115437}. Best is trial 165 with value: 0.12019996875303449.\n",
      "[I 2025-05-24 09:06:38,839] Trial 168 finished with value: 0.1200898011105245 and parameters: {'alpha': 24.84290449375789, 'tol': 0.004710035522340857}. Best is trial 165 with value: 0.12019996875303449.\n",
      "[I 2025-05-24 09:06:39,003] Trial 169 finished with value: 0.12019717424016411 and parameters: {'alpha': 97.99989531353026, 'tol': 0.005242571885161511}. Best is trial 165 with value: 0.12019996875303449.\n",
      "[I 2025-05-24 09:06:39,884] Trial 170 finished with value: 0.12019696334979701 and parameters: {'alpha': 97.8511704579112, 'tol': 0.004331975484903204}. Best is trial 165 with value: 0.12019996875303449.\n",
      "[I 2025-05-24 09:06:40,731] Trial 171 finished with value: 0.12019962783761547 and parameters: {'alpha': 99.7317461502804, 'tol': 0.004372041377317735}. Best is trial 165 with value: 0.12019996875303449.\n",
      "[I 2025-05-24 09:06:42,280] Trial 172 finished with value: 0.12019931686717848 and parameters: {'alpha': 99.51209566810806, 'tol': 0.005113377477545923}. Best is trial 165 with value: 0.12019996875303449.\n",
      "[I 2025-05-24 09:06:42,445] Trial 173 finished with value: 0.12019989648146179 and parameters: {'alpha': 99.92153589706129, 'tol': 0.004049936198333608}. Best is trial 165 with value: 0.12019996875303449.\n",
      "[I 2025-05-24 09:06:43,483] Trial 174 finished with value: 0.12019485449029402 and parameters: {'alpha': 96.36508555529076, 'tol': 0.004413395278765102}. Best is trial 165 with value: 0.12019996875303449.\n",
      "[I 2025-05-24 09:06:44,167] Trial 175 finished with value: 0.12020000043200137 and parameters: {'alpha': 99.99498319515101, 'tol': 0.004925863203805418}. Best is trial 175 with value: 0.12020000043200137.\n",
      "[I 2025-05-24 09:06:45,728] Trial 176 finished with value: 0.12018514803389276 and parameters: {'alpha': 89.55150932843577, 'tol': 0.004197182801523492}. Best is trial 175 with value: 0.12020000043200137.\n",
      "[I 2025-05-24 09:06:45,885] Trial 177 finished with value: 0.12019776659151989 and parameters: {'alpha': 98.41774571179553, 'tol': 0.0045590292780357195}. Best is trial 175 with value: 0.12020000043200137.\n",
      "[I 2025-05-24 09:06:46,768] Trial 178 finished with value: 0.1201668480416312 and parameters: {'alpha': 76.82242265411479, 'tol': 0.007375034785038524}. Best is trial 175 with value: 0.12020000043200137.\n",
      "[I 2025-05-24 09:06:47,601] Trial 179 finished with value: 0.12018212672204998 and parameters: {'alpha': 87.43947443397995, 'tol': 0.0037910647421740486}. Best is trial 175 with value: 0.12020000043200137.\n",
      "[I 2025-05-24 09:06:49,138] Trial 180 finished with value: 0.12019987467994142 and parameters: {'alpha': 99.90613245100378, 'tol': 0.00423818718686941}. Best is trial 175 with value: 0.12020000043200137.\n",
      "[I 2025-05-24 09:06:49,284] Trial 181 finished with value: 0.12019739816228407 and parameters: {'alpha': 98.15783302919134, 'tol': 0.003920121013905931}. Best is trial 175 with value: 0.12020000043200137.\n",
      "[I 2025-05-24 09:06:50,315] Trial 182 finished with value: 0.12019909501715267 and parameters: {'alpha': 99.35542184512798, 'tol': 0.0044594100061850035}. Best is trial 175 with value: 0.12020000043200137.\n",
      "[I 2025-05-24 09:06:50,848] Trial 183 finished with value: 0.12019746228900338 and parameters: {'alpha': 98.20306744445988, 'tol': 0.004827930834572164}. Best is trial 175 with value: 0.12020000043200137.\n",
      "[I 2025-05-24 09:06:52,566] Trial 184 finished with value: 0.12018174015992722 and parameters: {'alpha': 87.16955040489506, 'tol': 0.00480980091817437}. Best is trial 175 with value: 0.12020000043200137.\n",
      "[I 2025-05-24 09:06:52,731] Trial 185 finished with value: 0.12019383556758863 and parameters: {'alpha': 95.64780132256672, 'tol': 0.003756768156159642}. Best is trial 175 with value: 0.12020000043200137.\n",
      "[I 2025-05-24 09:06:53,781] Trial 186 finished with value: 0.12019849778923375 and parameters: {'alpha': 98.93376408553668, 'tol': 0.004191863811802056}. Best is trial 175 with value: 0.12020000043200137.\n",
      "[I 2025-05-24 09:06:54,325] Trial 187 finished with value: 0.12019942359841045 and parameters: {'alpha': 99.58747901355494, 'tol': 0.004104388182056709}. Best is trial 175 with value: 0.12020000043200137.\n",
      "[I 2025-05-24 09:06:56,126] Trial 189 finished with value: 0.1201992720140006 and parameters: {'alpha': 99.48041783593119, 'tol': 0.0029269076921141822}. Best is trial 175 with value: 0.12020000043200137.\n",
      "[I 2025-05-24 09:06:56,303] Trial 188 finished with value: 0.12019768788589238 and parameters: {'alpha': 98.36221662658286, 'tol': 0.0031229158539409466}. Best is trial 175 with value: 0.12020000043200137.\n",
      "[I 2025-05-24 09:06:57,336] Trial 190 finished with value: 0.12017645058586693 and parameters: {'alpha': 83.48283721820937, 'tol': 0.004943703033049099}. Best is trial 175 with value: 0.12020000043200137.\n",
      "[I 2025-05-24 09:06:57,882] Trial 191 finished with value: 0.12019890988971287 and parameters: {'alpha': 99.22469955964723, 'tol': 0.007162498801057146}. Best is trial 175 with value: 0.12020000043200137.\n",
      "[I 2025-05-24 09:06:59,597] Trial 192 finished with value: 0.12012867310248213 and parameters: {'alpha': 50.748595959987014, 'tol': 0.003251790974256574}. Best is trial 175 with value: 0.12020000043200137.\n",
      "[I 2025-05-24 09:06:59,766] Trial 193 finished with value: 0.12018074930800896 and parameters: {'alpha': 86.47798090979313, 'tol': 0.006497883263769676}. Best is trial 175 with value: 0.12020000043200137.\n",
      "[I 2025-05-24 09:07:00,659] Trial 194 finished with value: 0.12019895216971595 and parameters: {'alpha': 99.25455293548944, 'tol': 0.007091341242534214}. Best is trial 175 with value: 0.12020000043200137.\n",
      "[I 2025-05-24 09:07:01,502] Trial 195 finished with value: 0.12018358937565772 and parameters: {'alpha': 88.46141561507139, 'tol': 0.006046757644711667}. Best is trial 175 with value: 0.12020000043200137.\n",
      "[I 2025-05-24 09:07:03,092] Trial 196 finished with value: 0.12017721474688323 and parameters: {'alpha': 84.01465508456901, 'tol': 0.00650029381327519}. Best is trial 175 with value: 0.12020000043200137.\n",
      "[I 2025-05-24 09:07:03,252] Trial 197 finished with value: 0.12019930097346672 and parameters: {'alpha': 99.50087052973693, 'tol': 0.006243813900399759}. Best is trial 175 with value: 0.12020000043200137.\n",
      "[I 2025-05-24 09:07:04,146] Trial 198 finished with value: 0.12017779385843134 and parameters: {'alpha': 84.41786411084347, 'tol': 0.006107095037768748}. Best is trial 175 with value: 0.12020000043200137.\n",
      "[I 2025-05-24 09:07:04,999] Trial 199 finished with value: 0.12017729872657426 and parameters: {'alpha': 84.07311689436656, 'tol': 0.005924857221999007}. Best is trial 175 with value: 0.12020000043200137.\n",
      "[I 2025-05-24 09:07:06,560] Trial 200 finished with value: 0.12019568502031057 and parameters: {'alpha': 96.95010323000092, 'tol': 0.006204394160420318}. Best is trial 175 with value: 0.12020000043200137.\n",
      "[I 2025-05-24 09:07:06,718] Trial 201 finished with value: 0.12019694562124192 and parameters: {'alpha': 97.83866880215402, 'tol': 0.005755122875843027}. Best is trial 175 with value: 0.12020000043200137.\n",
      "[I 2025-05-24 09:07:07,620] Trial 202 finished with value: 0.12019998319092887 and parameters: {'alpha': 99.98280099467142, 'tol': 0.006636641984927939}. Best is trial 175 with value: 0.12020000043200137.\n",
      "[I 2025-05-24 09:07:08,316] Trial 203 finished with value: 0.12019920793647179 and parameters: {'alpha': 99.43516430907619, 'tol': 0.005407633262361412}. Best is trial 175 with value: 0.12020000043200137.\n",
      "[I 2025-05-24 09:07:10,048] Trial 205 finished with value: 0.12019952884428756 and parameters: {'alpha': 99.66181844802044, 'tol': 0.004301058010862298}. Best is trial 175 with value: 0.12020000043200137.\n",
      "[I 2025-05-24 09:07:10,205] Trial 204 finished with value: 0.12019296679999329 and parameters: {'alpha': 95.03659941522149, 'tol': 0.004415824769676484}. Best is trial 175 with value: 0.12020000043200137.\n",
      "[I 2025-05-24 09:07:11,095] Trial 206 finished with value: 0.12019324972763798 and parameters: {'alpha': 95.23560855229194, 'tol': 0.0072402531226746425}. Best is trial 175 with value: 0.12020000043200137.\n",
      "[I 2025-05-24 09:07:11,943] Trial 207 finished with value: 0.12019957821149674 and parameters: {'alpha': 99.696690284666, 'tol': 0.008038079820467826}. Best is trial 175 with value: 0.12020000043200137.\n",
      "[I 2025-05-24 09:07:13,510] Trial 208 finished with value: 0.1201944425923446 and parameters: {'alpha': 96.07506674006505, 'tol': 0.007350135191079171}. Best is trial 175 with value: 0.12020000043200137.\n",
      "[I 2025-05-24 09:07:13,683] Trial 209 finished with value: 0.1201995759581467 and parameters: {'alpha': 99.69509854646753, 'tol': 0.006377122614672766}. Best is trial 175 with value: 0.12020000043200137.\n",
      "[I 2025-05-24 09:07:14,580] Trial 210 finished with value: 0.12019564824600706 and parameters: {'alpha': 96.92419299966956, 'tol': 0.007745134778457512}. Best is trial 175 with value: 0.12020000043200137.\n",
      "[I 2025-05-24 09:07:15,277] Trial 211 finished with value: 0.12019886935224429 and parameters: {'alpha': 99.19607734481629, 'tol': 0.006920455508913348}. Best is trial 175 with value: 0.12020000043200137.\n",
      "[I 2025-05-24 09:07:16,989] Trial 213 finished with value: 0.12019974046301818 and parameters: {'alpha': 99.8113089246536, 'tol': 0.005982922844658697}. Best is trial 175 with value: 0.12020000043200137.\n",
      "[I 2025-05-24 09:07:17,146] Trial 212 finished with value: 0.1201995584082238 and parameters: {'alpha': 99.68270158194957, 'tol': 0.006280211353877013}. Best is trial 175 with value: 0.12020000043200137.\n",
      "[I 2025-05-24 09:07:18,034] Trial 214 finished with value: 0.12019999050166616 and parameters: {'alpha': 99.98796660006037, 'tol': 0.005762576887991343}. Best is trial 175 with value: 0.12020000043200137.\n",
      "[I 2025-05-24 09:07:18,724] Trial 215 finished with value: 0.12019974196103607 and parameters: {'alpha': 99.8123672199539, 'tol': 0.004694803726810725}. Best is trial 175 with value: 0.12020000043200137.\n",
      "[I 2025-05-24 09:07:20,427] Trial 216 finished with value: 0.12019874280820467 and parameters: {'alpha': 99.10673353898565, 'tol': 0.005776527290793819}. Best is trial 175 with value: 0.12020000043200137.\n",
      "[I 2025-05-24 09:07:20,585] Trial 217 finished with value: 0.12019998396793696 and parameters: {'alpha': 99.98335001026922, 'tol': 0.004976572776792637}. Best is trial 175 with value: 0.12020000043200137.\n",
      "[I 2025-05-24 09:07:21,476] Trial 218 finished with value: 0.1201439514225959 and parameters: {'alpha': 61.10711683928625, 'tol': 7.840810917876528e-05}. Best is trial 175 with value: 0.12020000043200137.\n",
      "[I 2025-05-24 09:07:22,179] Trial 219 finished with value: 0.12019943342572233 and parameters: {'alpha': 99.59442022493195, 'tol': 0.0048646908242696305}. Best is trial 175 with value: 0.12020000043200137.\n",
      "[I 2025-05-24 09:07:23,913] Trial 221 finished with value: 0.12019860091085541 and parameters: {'alpha': 99.00655868747077, 'tol': 0.005453098233728163}. Best is trial 175 with value: 0.12020000043200137.\n",
      "[I 2025-05-24 09:07:24,080] Trial 220 finished with value: 0.12019854936343466 and parameters: {'alpha': 98.97017022174362, 'tol': 0.005440751800208006}. Best is trial 175 with value: 0.12020000043200137.\n",
      "[I 2025-05-24 09:07:25,122] Trial 222 finished with value: 0.12018016525547855 and parameters: {'alpha': 86.07054821586779, 'tol': 0.004964064144762546}. Best is trial 175 with value: 0.12020000043200137.\n",
      "[I 2025-05-24 09:07:25,672] Trial 223 finished with value: 0.12019857366372558 and parameters: {'alpha': 98.9873241815252, 'tol': 0.005618728721867144}. Best is trial 175 with value: 0.12020000043200137.\n",
      "[I 2025-05-24 09:07:27,479] Trial 225 finished with value: 0.12017639776124692 and parameters: {'alpha': 83.44608370146116, 'tol': 0.005185700307164246}. Best is trial 175 with value: 0.12020000043200137.\n",
      "[I 2025-05-24 09:07:27,630] Trial 224 finished with value: 0.12019797541700968 and parameters: {'alpha': 98.5650920272402, 'tol': 0.004692838677533104}. Best is trial 175 with value: 0.12020000043200137.\n",
      "[I 2025-05-24 09:07:28,699] Trial 226 finished with value: 0.12019970299495328 and parameters: {'alpha': 99.78483943539871, 'tol': 0.00549024675339516}. Best is trial 175 with value: 0.12020000043200137.\n",
      "[I 2025-05-24 09:07:29,250] Trial 227 finished with value: 0.1201991356539922 and parameters: {'alpha': 99.3841184819386, 'tol': 0.004398199490314168}. Best is trial 175 with value: 0.12020000043200137.\n",
      "[I 2025-05-24 09:07:30,980] Trial 228 finished with value: 0.12017938571410776 and parameters: {'alpha': 85.52698503157333, 'tol': 0.0053985987657641735}. Best is trial 175 with value: 0.12020000043200137.\n",
      "[I 2025-05-24 09:07:31,132] Trial 229 finished with value: 0.12019961883042404 and parameters: {'alpha': 99.72538338975056, 'tol': 0.005624917635241581}. Best is trial 175 with value: 0.12020000043200137.\n",
      "[I 2025-05-24 09:07:32,180] Trial 230 finished with value: 0.12019981050986395 and parameters: {'alpha': 99.86079559569284, 'tol': 0.007611755317809099}. Best is trial 175 with value: 0.12020000043200137.\n",
      "[I 2025-05-24 09:07:32,726] Trial 231 finished with value: 0.12019858297362873 and parameters: {'alpha': 98.99389626205067, 'tol': 0.0062417581523046325}. Best is trial 175 with value: 0.12020000043200137.\n",
      "[I 2025-05-24 09:07:34,463] Trial 233 finished with value: 0.12017512226411728 and parameters: {'alpha': 82.55902113996616, 'tol': 0.007258551382736798}. Best is trial 175 with value: 0.12020000043200137.\n",
      "[I 2025-05-24 09:07:34,625] Trial 232 finished with value: 0.1201979381806281 and parameters: {'alpha': 98.53881672414587, 'tol': 0.006865255730032723}. Best is trial 175 with value: 0.12020000043200137.\n",
      "[I 2025-05-24 09:07:35,525] Trial 234 finished with value: 0.12019951838805772 and parameters: {'alpha': 99.65443255828272, 'tol': 0.0077109727444039785}. Best is trial 175 with value: 0.12020000043200137.\n",
      "[I 2025-05-24 09:07:36,219] Trial 235 finished with value: 0.12017537437715695 and parameters: {'alpha': 82.73429833810235, 'tol': 0.007738189723625527}. Best is trial 175 with value: 0.12020000043200137.\n",
      "[I 2025-05-24 09:07:37,938] Trial 237 finished with value: 0.12018978490231724 and parameters: {'alpha': 92.80101707671125, 'tol': 0.009770006290390366}. Best is trial 175 with value: 0.12020000043200137.\n",
      "[I 2025-05-24 09:07:38,100] Trial 236 finished with value: 0.1201833520616163 and parameters: {'alpha': 88.29554036902348, 'tol': 0.00835130871778551}. Best is trial 175 with value: 0.12020000043200137.\n",
      "[I 2025-05-24 09:07:38,983] Trial 238 finished with value: 0.12019501098282459 and parameters: {'alpha': 96.47529306054196, 'tol': 0.009941981357628419}. Best is trial 175 with value: 0.12020000043200137.\n",
      "[I 2025-05-24 09:07:39,694] Trial 239 finished with value: 0.12017541519708916 and parameters: {'alpha': 82.76268038985151, 'tol': 0.0034758753300441394}. Best is trial 175 with value: 0.12020000043200137.\n",
      "[I 2025-05-24 09:07:41,409] Trial 241 finished with value: 0.12018240722143303 and parameters: {'alpha': 87.63538087161197, 'tol': 0.00303445132090671}. Best is trial 175 with value: 0.12020000043200137.\n",
      "[I 2025-05-24 09:07:41,577] Trial 240 finished with value: 0.12019806378722828 and parameters: {'alpha': 98.6274517421408, 'tol': 0.007316937119537049}. Best is trial 175 with value: 0.12020000043200137.\n",
      "[I 2025-05-24 09:07:42,464] Trial 242 finished with value: 0.12017415214792486 and parameters: {'alpha': 81.88483287605249, 'tol': 0.0031506906128862377}. Best is trial 175 with value: 0.12020000043200137.\n",
      "[I 2025-05-24 09:07:43,190] Trial 243 finished with value: 0.12019841225594681 and parameters: {'alpha': 98.87338901253864, 'tol': 0.005924386899042772}. Best is trial 175 with value: 0.12020000043200137.\n",
      "[I 2025-05-24 09:07:44,902] Trial 244 finished with value: 0.12019950922387332 and parameters: {'alpha': 99.64795936285765, 'tol': 0.005605948303119648}. Best is trial 175 with value: 0.12020000043200137.\n",
      "[I 2025-05-24 09:07:45,057] Trial 245 finished with value: 0.12019909759661881 and parameters: {'alpha': 99.35724337155644, 'tol': 0.004514477670535142}. Best is trial 175 with value: 0.12020000043200137.\n",
      "[I 2025-05-24 09:07:45,970] Trial 246 finished with value: 0.12018428439886161 and parameters: {'alpha': 88.94736349872596, 'tol': 0.004992544684875184}. Best is trial 175 with value: 0.12020000043200137.\n",
      "[I 2025-05-24 09:07:46,653] Trial 247 finished with value: 0.12009363064664566 and parameters: {'alpha': 27.36692267591402, 'tol': 0.0067761337771448885}. Best is trial 175 with value: 0.12020000043200137.\n",
      "[I 2025-05-24 09:07:47,538] Trial 249 finished with value: 0.12005718519367406 and parameters: {'alpha': 3.5889272774448315, 'tol': 0.0020223173587745713}. Best is trial 175 with value: 0.12020000043200137.\n",
      "[I 2025-05-24 09:07:47,682] Trial 248 finished with value: 0.12019881387599778 and parameters: {'alpha': 99.15690857147584, 'tol': 0.00493746874822049}. Best is trial 175 with value: 0.12020000043200137.\n"
     ]
    }
   ],
   "source": [
    "def objective(trial):    \n",
    "    params = {\n",
    "        \"random_state\": CFG.seed,\n",
    "        \"alpha\": trial.suggest_float(\"alpha\", 0, 100),\n",
    "        \"tol\": trial.suggest_float(\"tol\", 1e-6, 1e-2)\n",
    "    }\n",
    "    \n",
    "    trainer = Trainer(Ridge(**params))\n",
    "    return trainer.tune(X, y)\n",
    "\n",
    "if CFG.run_optuna:\n",
    "    sampler = optuna.samplers.TPESampler(seed=CFG.seed, multivariate=True)\n",
    "    study = optuna.create_study(direction=\"maximize\", sampler=sampler)\n",
    "    study.optimize(objective, n_trials=CFG.n_optuna_trials, n_jobs=-1, catch=(ValueError,))\n",
    "    best_params = study.best_params\n",
    "\n",
    "    ridge_params = {\n",
    "        \"random_state\": CFG.seed,\n",
    "        \"alpha\": best_params[\"alpha\"],\n",
    "        \"tol\": best_params[\"tol\"]\n",
    "    }\n",
    "else:\n",
    "    ridge_params = {\n",
    "        \"random_state\": CFG.seed\n",
    "    }"
   ]
  },
  {
   "cell_type": "code",
   "execution_count": 16,
   "id": "265e9525",
   "metadata": {
    "execution": {
     "iopub.execute_input": "2025-05-24T09:07:47.725048Z",
     "iopub.status.busy": "2025-05-24T09:07:47.724760Z",
     "iopub.status.idle": "2025-05-24T09:07:48.786212Z",
     "shell.execute_reply": "2025-05-24T09:07:48.785240Z"
    },
    "papermill": {
     "duration": 1.082157,
     "end_time": "2025-05-24T09:07:48.787899",
     "exception": false,
     "start_time": "2025-05-24T09:07:47.705742",
     "status": "completed"
    },
    "tags": []
   },
   "outputs": [
    {
     "name": "stdout",
     "output_type": "stream",
     "text": [
      "Training Ridge\n",
      "\n",
      "--- Fold 0 - Score: 0.177879\n",
      "--- Fold 1 - Score: 0.117279\n",
      "--- Fold 2 - Score: 0.081248\n",
      "--- Fold 3 - Score: 0.149459\n",
      "--- Fold 4 - Score: 0.075135\n",
      "\n",
      "------ Overall Score: 0.100046 - Mean Score: 0.120200 ± 0.039344\n"
     ]
    }
   ],
   "source": [
    "ridge_trainer = Trainer(Ridge(**ridge_params))\n",
    "\n",
    "_, ridge_test_preds, scores[\"Ridge (ensemble)\"] = ridge_trainer.fit_predict(X, y, X_test)"
   ]
  },
  {
   "cell_type": "markdown",
   "id": "71db4f03",
   "metadata": {
    "papermill": {
     "duration": 0.017783,
     "end_time": "2025-05-24T09:07:48.824125",
     "exception": false,
     "start_time": "2025-05-24T09:07:48.806342",
     "status": "completed"
    },
    "tags": []
   },
   "source": [
    "# Submission"
   ]
  },
  {
   "cell_type": "code",
   "execution_count": 17,
   "id": "8eaa172d",
   "metadata": {
    "execution": {
     "iopub.execute_input": "2025-05-24T09:07:48.862338Z",
     "iopub.status.busy": "2025-05-24T09:07:48.861614Z",
     "iopub.status.idle": "2025-05-24T09:07:51.537313Z",
     "shell.execute_reply": "2025-05-24T09:07:51.536128Z"
    },
    "papermill": {
     "duration": 2.696738,
     "end_time": "2025-05-24T09:07:51.539002",
     "exception": false,
     "start_time": "2025-05-24T09:07:48.842264",
     "status": "completed"
    },
    "tags": []
   },
   "outputs": [
    {
     "data": {
      "text/html": [
       "<div>\n",
       "<style scoped>\n",
       "    .dataframe tbody tr th:only-of-type {\n",
       "        vertical-align: middle;\n",
       "    }\n",
       "\n",
       "    .dataframe tbody tr th {\n",
       "        vertical-align: top;\n",
       "    }\n",
       "\n",
       "    .dataframe thead th {\n",
       "        text-align: right;\n",
       "    }\n",
       "</style>\n",
       "<table border=\"1\" class=\"dataframe\">\n",
       "  <thead>\n",
       "    <tr style=\"text-align: right;\">\n",
       "      <th></th>\n",
       "      <th>ID</th>\n",
       "      <th>prediction</th>\n",
       "      <th>label</th>\n",
       "    </tr>\n",
       "  </thead>\n",
       "  <tbody>\n",
       "    <tr>\n",
       "      <th>0</th>\n",
       "      <td>1</td>\n",
       "      <td>-0.280233</td>\n",
       "      <td>0.081319</td>\n",
       "    </tr>\n",
       "    <tr>\n",
       "      <th>1</th>\n",
       "      <td>2</td>\n",
       "      <td>1.371969</td>\n",
       "      <td>0.069961</td>\n",
       "    </tr>\n",
       "    <tr>\n",
       "      <th>2</th>\n",
       "      <td>3</td>\n",
       "      <td>-2.045252</td>\n",
       "      <td>0.038606</td>\n",
       "    </tr>\n",
       "    <tr>\n",
       "      <th>3</th>\n",
       "      <td>4</td>\n",
       "      <td>-1.447555</td>\n",
       "      <td>-0.031901</td>\n",
       "    </tr>\n",
       "    <tr>\n",
       "      <th>4</th>\n",
       "      <td>5</td>\n",
       "      <td>-1.303901</td>\n",
       "      <td>0.178168</td>\n",
       "    </tr>\n",
       "  </tbody>\n",
       "</table>\n",
       "</div>"
      ],
      "text/plain": [
       "   ID  prediction     label\n",
       "0   1   -0.280233  0.081319\n",
       "1   2    1.371969  0.069961\n",
       "2   3   -2.045252  0.038606\n",
       "3   4   -1.447555 -0.031901\n",
       "4   5   -1.303901  0.178168"
      ]
     },
     "execution_count": 17,
     "metadata": {},
     "output_type": "execute_result"
    }
   ],
   "source": [
    "sub = pd.read_csv(CFG.sample_sub_path)\n",
    "sub[CFG.target] = ridge_test_preds\n",
    "sub.to_csv(f\"sub_ridge_{np.mean(scores['Ridge (ensemble)']):.6f}.csv\", index=False)\n",
    "sub.head()"
   ]
  },
  {
   "cell_type": "markdown",
   "id": "27f9952e",
   "metadata": {
    "papermill": {
     "duration": 0.018239,
     "end_time": "2025-05-24T09:07:51.576626",
     "exception": false,
     "start_time": "2025-05-24T09:07:51.558387",
     "status": "completed"
    },
    "tags": []
   },
   "source": [
    "# Results"
   ]
  },
  {
   "cell_type": "code",
   "execution_count": 18,
   "id": "a7235320",
   "metadata": {
    "execution": {
     "iopub.execute_input": "2025-05-24T09:07:51.615511Z",
     "iopub.status.busy": "2025-05-24T09:07:51.615168Z",
     "iopub.status.idle": "2025-05-24T09:07:52.093465Z",
     "shell.execute_reply": "2025-05-24T09:07:52.092508Z"
    },
    "papermill": {
     "duration": 0.500274,
     "end_time": "2025-05-24T09:07:52.095218",
     "exception": false,
     "start_time": "2025-05-24T09:07:51.594944",
     "status": "completed"
    },
    "tags": []
   },
   "outputs": [
    {
     "data": {
      "image/png": "[encoded data removed]",
      "text/plain": [
       "<Figure size 1500x200 with 2 Axes>"
      ]
     },
     "metadata": {},
     "output_type": "display_data"
    }
   ],
   "source": [
    "scores = pd.DataFrame(scores)\n",
    "mean_scores = scores.mean().sort_values(ascending=False)\n",
    "order = scores.mean().sort_values(ascending=False).index.tolist()\n",
    "\n",
    "min_score = mean_scores.min()\n",
    "max_score = mean_scores.max()\n",
    "padding = (max_score - min_score) * 0.5\n",
    "lower_limit = min_score - padding\n",
    "upper_limit = max_score + padding\n",
    "\n",
    "fig, axs = plt.subplots(1, 2, figsize=(15, scores.shape[1] * 0.5))\n",
    "\n",
    "boxplot = sns.boxplot(data=scores, order=order, ax=axs[0], orient=\"h\", color=\"grey\")\n",
    "axs[0].set_title(f\"Fold Score\")\n",
    "axs[0].set_xlabel(\"\")\n",
    "axs[0].set_ylabel(\"\")\n",
    "\n",
    "barplot = sns.barplot(x=mean_scores.values, y=mean_scores.index, ax=axs[1], color=\"grey\")\n",
    "axs[1].set_title(f\"Average Score\")\n",
    "axs[1].set_xlabel(\"\")\n",
    "axs[1].set_xlim(left=lower_limit, right=upper_limit)\n",
    "axs[1].set_ylabel(\"\")\n",
    "\n",
    "for i, (score, model) in enumerate(zip(mean_scores.values, mean_scores.index)):\n",
    "    color = \"cyan\" if \"ensemble\" in model.lower() else \"grey\"\n",
    "    barplot.patches[i].set_facecolor(color)\n",
    "    boxplot.patches[i].set_facecolor(color)\n",
    "    barplot.text(score, i, round(score, 6), va=\"center\")\n",
    "\n",
    "plt.tight_layout()\n",
    "plt.show()"
   ]
  }
 ],
 "metadata": {
  "kaggle": {
   "accelerator": "none",
   "dataSources": [
    {
     "databundleVersionId": 11418275,
     "sourceId": 96164,
     "sourceType": "competition"
    }
   ],
   "dockerImageVersionId": 31040,
   "isGpuEnabled": false,
   "isInternetEnabled": true,
   "language": "python",
   "sourceType": "notebook"
  },
  "kernelspec": {
   "display_name": "Python 3",
   "language": "python",
   "name": "python3"
  },
  "language_info": {
   "codemirror_mode": {
    "name": "ipython",
    "version": 3
   },
   "file_extension": ".py",
   "mimetype": "text/x-python",
   "name": "python",
   "nbconvert_exporter": "python",
   "pygments_lexer": "ipython3",
   "version": "3.11.11"
  },
  "papermill": {
   "default_parameters": {},
   "duration": 5199.755421,
   "end_time": "2025-05-24T09:07:55.229339",
   "environment_variables": {},
   "exception": null,
   "input_path": "__notebook__.ipynb",
   "output_path": "__notebook__.ipynb",
   "parameters": {},
   "start_time": "2025-05-24T07:41:15.473918",
   "version": "2.6.0"
  }
 },
 "nbformat": 4,
 "nbformat_minor": 5
}
