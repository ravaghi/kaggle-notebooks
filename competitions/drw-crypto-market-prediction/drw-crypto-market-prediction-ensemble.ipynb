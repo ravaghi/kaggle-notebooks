{
 "cells": [
  {
   "cell_type": "code",
   "execution_count": 1,
   "id": "262efb84",
   "metadata": {
    "_kg_hide-output": true,
    "execution": {
     "iopub.execute_input": "2025-06-02T07:46:37.315630Z",
     "iopub.status.busy": "2025-06-02T07:46:37.314980Z",
     "iopub.status.idle": "2025-06-02T07:46:48.703742Z",
     "shell.execute_reply": "2025-06-02T07:46:48.702685Z"
    },
    "papermill": {
     "duration": 11.397596,
     "end_time": "2025-06-02T07:46:48.705503",
     "exception": false,
     "start_time": "2025-06-02T07:46:37.307907",
     "status": "completed"
    },
    "scrolled": true,
    "tags": []
   },
   "outputs": [
    {
     "name": "stdout",
     "output_type": "stream",
     "text": [
      "Collecting koolbox\r\n",
      "  Downloading koolbox-0.1.3-py3-none-any.whl.metadata (3.4 kB)\r\n",
      "Collecting scikit-learn==1.5.2\r\n",
      "  Downloading scikit_learn-1.5.2-cp311-cp311-manylinux_2_17_x86_64.manylinux2014_x86_64.whl.metadata (13 kB)\r\n",
      "Requirement already satisfied: numpy>=1.19.5 in /usr/local/lib/python3.11/dist-packages (from scikit-learn==1.5.2) (1.26.4)\r\n",
      "Requirement already satisfied: scipy>=1.6.0 in /usr/local/lib/python3.11/dist-packages (from scikit-learn==1.5.2) (1.15.2)\r\n",
      "Requirement already satisfied: joblib>=1.2.0 in /usr/local/lib/python3.11/dist-packages (from scikit-learn==1.5.2) (1.5.0)\r\n",
      "Requirement already satisfied: threadpoolctl>=3.1.0 in /usr/local/lib/python3.11/dist-packages (from scikit-learn==1.5.2) (3.6.0)\r\n",
      "Requirement already satisfied: optuna>=4.2.1 in /usr/local/lib/python3.11/dist-packages (from koolbox) (4.3.0)\r\n",
      "Requirement already satisfied: pandas>=2.2.3 in /usr/local/lib/python3.11/dist-packages (from koolbox) (2.2.3)\r\n",
      "Requirement already satisfied: mkl_fft in /usr/local/lib/python3.11/dist-packages (from numpy>=1.19.5->scikit-learn==1.5.2) (1.3.8)\r\n",
      "Requirement already satisfied: mkl_random in /usr/local/lib/python3.11/dist-packages (from numpy>=1.19.5->scikit-learn==1.5.2) (1.2.4)\r\n",
      "Requirement already satisfied: mkl_umath in /usr/local/lib/python3.11/dist-packages (from numpy>=1.19.5->scikit-learn==1.5.2) (0.1.1)\r\n",
      "Requirement already satisfied: mkl in /usr/local/lib/python3.11/dist-packages (from numpy>=1.19.5->scikit-learn==1.5.2) (2025.1.0)\r\n",
      "Requirement already satisfied: tbb4py in /usr/local/lib/python3.11/dist-packages (from numpy>=1.19.5->scikit-learn==1.5.2) (2022.1.0)\r\n",
      "Requirement already satisfied: mkl-service in /usr/local/lib/python3.11/dist-packages (from numpy>=1.19.5->scikit-learn==1.5.2) (2.4.1)\r\n",
      "Requirement already satisfied: alembic>=1.5.0 in /usr/local/lib/python3.11/dist-packages (from optuna>=4.2.1->koolbox) (1.15.2)\r\n",
      "Requirement already satisfied: colorlog in /usr/local/lib/python3.11/dist-packages (from optuna>=4.2.1->koolbox) (6.9.0)\r\n",
      "Requirement already satisfied: packaging>=20.0 in /usr/local/lib/python3.11/dist-packages (from optuna>=4.2.1->koolbox) (25.0)\r\n",
      "Requirement already satisfied: sqlalchemy>=1.4.2 in /usr/local/lib/python3.11/dist-packages (from optuna>=4.2.1->koolbox) (2.0.40)\r\n",
      "Requirement already satisfied: tqdm in /usr/local/lib/python3.11/dist-packages (from optuna>=4.2.1->koolbox) (4.67.1)\r\n",
      "Requirement already satisfied: PyYAML in /usr/local/lib/python3.11/dist-packages (from optuna>=4.2.1->koolbox) (6.0.2)\r\n",
      "Requirement already satisfied: python-dateutil>=2.8.2 in /usr/local/lib/python3.11/dist-packages (from pandas>=2.2.3->koolbox) (2.9.0.post0)\r\n",
      "Requirement already satisfied: pytz>=2020.1 in /usr/local/lib/python3.11/dist-packages (from pandas>=2.2.3->koolbox) (2025.2)\r\n",
      "Requirement already satisfied: tzdata>=2022.7 in /usr/local/lib/python3.11/dist-packages (from pandas>=2.2.3->koolbox) (2025.2)\r\n",
      "Requirement already satisfied: Mako in /usr/local/lib/python3.11/dist-packages (from alembic>=1.5.0->optuna>=4.2.1->koolbox) (1.3.10)\r\n",
      "Requirement already satisfied: typing-extensions>=4.12 in /usr/local/lib/python3.11/dist-packages (from alembic>=1.5.0->optuna>=4.2.1->koolbox) (4.13.2)\r\n",
      "Requirement already satisfied: six>=1.5 in /usr/local/lib/python3.11/dist-packages (from python-dateutil>=2.8.2->pandas>=2.2.3->koolbox) (1.17.0)\r\n",
      "Requirement already satisfied: greenlet>=1 in /usr/local/lib/python3.11/dist-packages (from sqlalchemy>=1.4.2->optuna>=4.2.1->koolbox) (3.1.1)\r\n",
      "Requirement already satisfied: intel-openmp<2026,>=2024 in /usr/local/lib/python3.11/dist-packages (from mkl->numpy>=1.19.5->scikit-learn==1.5.2) (2024.2.0)\r\n",
      "Requirement already satisfied: tbb==2022.* in /usr/local/lib/python3.11/dist-packages (from mkl->numpy>=1.19.5->scikit-learn==1.5.2) (2022.1.0)\r\n",
      "Requirement already satisfied: tcmlib==1.* in /usr/local/lib/python3.11/dist-packages (from tbb==2022.*->mkl->numpy>=1.19.5->scikit-learn==1.5.2) (1.3.0)\r\n",
      "Requirement already satisfied: intel-cmplr-lib-rt in /usr/local/lib/python3.11/dist-packages (from mkl_umath->numpy>=1.19.5->scikit-learn==1.5.2) (2024.2.0)\r\n",
      "Requirement already satisfied: intel-cmplr-lib-ur==2024.2.0 in /usr/local/lib/python3.11/dist-packages (from intel-openmp<2026,>=2024->mkl->numpy>=1.19.5->scikit-learn==1.5.2) (2024.2.0)\r\n",
      "Requirement already satisfied: MarkupSafe>=0.9.2 in /usr/local/lib/python3.11/dist-packages (from Mako->alembic>=1.5.0->optuna>=4.2.1->koolbox) (3.0.2)\r\n",
      "Downloading scikit_learn-1.5.2-cp311-cp311-manylinux_2_17_x86_64.manylinux2014_x86_64.whl (13.3 MB)\r\n",
      "\u001b[2K   \u001b[90m━━━━━━━━━━━━━━━━━━━━━━━━━━━━━━━━━━━━━━━━\u001b[0m \u001b[32m13.3/13.3 MB\u001b[0m \u001b[31m71.5 MB/s\u001b[0m eta \u001b[36m0:00:00\u001b[0m\r\n",
      "\u001b[?25hDownloading koolbox-0.1.3-py3-none-any.whl (18 kB)\r\n",
      "Installing collected packages: scikit-learn, koolbox\r\n",
      "  Attempting uninstall: scikit-learn\r\n",
      "    Found existing installation: scikit-learn 1.2.2\r\n",
      "    Uninstalling scikit-learn-1.2.2:\r\n",
      "      Successfully uninstalled scikit-learn-1.2.2\r\n",
      "\u001b[31mERROR: pip's dependency resolver does not currently take into account all the packages that are installed. This behaviour is the source of the following dependency conflicts.\r\n",
      "cesium 0.12.4 requires numpy<3.0,>=2.0, but you have numpy 1.26.4 which is incompatible.\u001b[0m\u001b[31m\r\n",
      "\u001b[0mSuccessfully installed koolbox-0.1.3 scikit-learn-1.5.2\r\n"
     ]
    }
   ],
   "source": [
    "!pip install koolbox scikit-learn==1.5.2"
   ]
  },
  {
   "cell_type": "markdown",
   "id": "7aa104a7",
   "metadata": {
    "papermill": {
     "duration": 0.00525,
     "end_time": "2025-06-02T07:46:48.716931",
     "exception": false,
     "start_time": "2025-06-02T07:46:48.711681",
     "status": "completed"
    },
    "tags": []
   },
   "source": [
    "# Imports and configs"
   ]
  },
  {
   "cell_type": "code",
   "execution_count": 2,
   "id": "728db4e7",
   "metadata": {
    "_kg_hide-output": true,
    "execution": {
     "iopub.execute_input": "2025-06-02T07:46:48.729324Z",
     "iopub.status.busy": "2025-06-02T07:46:48.728935Z",
     "iopub.status.idle": "2025-06-02T07:46:58.969146Z",
     "shell.execute_reply": "2025-06-02T07:46:58.968087Z"
    },
    "papermill": {
     "duration": 10.248561,
     "end_time": "2025-06-02T07:46:58.970960",
     "exception": false,
     "start_time": "2025-06-02T07:46:48.722399",
     "status": "completed"
    },
    "tags": []
   },
   "outputs": [],
   "source": [
    "from sklearn.model_selection import KFold\n",
    "from sklearn.linear_model import Ridge\n",
    "from lightgbm import LGBMRegressor\n",
    "from scipy.stats import pearsonr as pr\n",
    "from xgboost import XGBRegressor\n",
    "from sklearn.base import clone\n",
    "from koolbox import Trainer\n",
    "import matplotlib.pyplot as plt\n",
    "import seaborn as sns\n",
    "import pandas as pd\n",
    "import numpy as np\n",
    "import warnings\n",
    "import optuna\n",
    "import joblib\n",
    "import glob\n",
    "import gc\n",
    "\n",
    "warnings.filterwarnings(\"ignore\")"
   ]
  },
  {
   "cell_type": "code",
   "execution_count": 3,
   "id": "2da54b81",
   "metadata": {
    "execution": {
     "iopub.execute_input": "2025-06-02T07:46:58.983703Z",
     "iopub.status.busy": "2025-06-02T07:46:58.983147Z",
     "iopub.status.idle": "2025-06-02T07:46:58.988212Z",
     "shell.execute_reply": "2025-06-02T07:46:58.987514Z"
    },
    "papermill": {
     "duration": 0.012901,
     "end_time": "2025-06-02T07:46:58.989577",
     "exception": false,
     "start_time": "2025-06-02T07:46:58.976676",
     "status": "completed"
    },
    "tags": []
   },
   "outputs": [],
   "source": [
    "class CFG:\n",
    "    train_path = \"/kaggle/input/drw-crypto-market-prediction/train.parquet\"\n",
    "    test_path = \"/kaggle/input/drw-crypto-market-prediction/test.parquet\"\n",
    "    sample_sub_path = \"/kaggle/input/drw-crypto-market-prediction/sample_submission.csv\"\n",
    "\n",
    "    target = \"label\"\n",
    "    n_folds = 5\n",
    "    seed = 42\n",
    "\n",
    "    run_optuna = True\n",
    "    n_optuna_trials = 500"
   ]
  },
  {
   "cell_type": "markdown",
   "id": "fecb3e73",
   "metadata": {
    "papermill": {
     "duration": 0.005117,
     "end_time": "2025-06-02T07:46:59.000707",
     "exception": false,
     "start_time": "2025-06-02T07:46:58.995590",
     "status": "completed"
    },
    "tags": []
   },
   "source": [
    "# Data loading and preprocessing"
   ]
  },
  {
   "cell_type": "code",
   "execution_count": 4,
   "id": "407d9caf",
   "metadata": {
    "_kg_hide-input": true,
    "execution": {
     "iopub.execute_input": "2025-06-02T07:46:59.012898Z",
     "iopub.status.busy": "2025-06-02T07:46:59.012548Z",
     "iopub.status.idle": "2025-06-02T07:46:59.022283Z",
     "shell.execute_reply": "2025-06-02T07:46:59.021085Z"
    },
    "papermill": {
     "duration": 0.017724,
     "end_time": "2025-06-02T07:46:59.023841",
     "exception": false,
     "start_time": "2025-06-02T07:46:59.006117",
     "status": "completed"
    },
    "tags": []
   },
   "outputs": [],
   "source": [
    "def reduce_mem_usage(dataframe, dataset):    \n",
    "    print('Reducing memory usage for:', dataset)\n",
    "    initial_mem_usage = dataframe.memory_usage().sum() / 1024**2\n",
    "    \n",
    "    for col in dataframe.columns:\n",
    "        col_type = dataframe[col].dtype\n",
    "\n",
    "        c_min = dataframe[col].min()\n",
    "        c_max = dataframe[col].max()\n",
    "        if str(col_type)[:3] == 'int':\n",
    "            if c_min > np.iinfo(np.int8).min and c_max < np.iinfo(np.int8).max:\n",
    "                dataframe[col] = dataframe[col].astype(np.int8)\n",
    "            elif c_min > np.iinfo(np.int16).min and c_max < np.iinfo(np.int16).max:\n",
    "                dataframe[col] = dataframe[col].astype(np.int16)\n",
    "            elif c_min > np.iinfo(np.int32).min and c_max < np.iinfo(np.int32).max:\n",
    "                dataframe[col] = dataframe[col].astype(np.int32)\n",
    "            elif c_min > np.iinfo(np.int64).min and c_max < np.iinfo(np.int64).max:\n",
    "                dataframe[col] = dataframe[col].astype(np.int64)\n",
    "        else:\n",
    "            if c_min > np.finfo(np.float16).min and c_max < np.finfo(np.float16).max:\n",
    "                dataframe[col] = dataframe[col].astype(np.float16)\n",
    "            elif c_min > np.finfo(np.float32).min and c_max < np.finfo(np.float32).max:\n",
    "                dataframe[col] = dataframe[col].astype(np.float32)\n",
    "            else:\n",
    "                dataframe[col] = dataframe[col].astype(np.float64)\n",
    "\n",
    "    final_mem_usage = dataframe.memory_usage().sum() / 1024**2\n",
    "    print('--- Memory usage before: {:.2f} MB'.format(initial_mem_usage))\n",
    "    print('--- Memory usage after: {:.2f} MB'.format(final_mem_usage))\n",
    "    print('--- Decreased memory usage by {:.1f}%\\n'.format(100 * (initial_mem_usage - final_mem_usage) / initial_mem_usage))\n",
    "\n",
    "    return dataframe"
   ]
  },
  {
   "cell_type": "code",
   "execution_count": 5,
   "id": "4202fd7f",
   "metadata": {
    "execution": {
     "iopub.execute_input": "2025-06-02T07:46:59.036533Z",
     "iopub.status.busy": "2025-06-02T07:46:59.035965Z",
     "iopub.status.idle": "2025-06-02T07:46:59.047291Z",
     "shell.execute_reply": "2025-06-02T07:46:59.046431Z"
    },
    "papermill": {
     "duration": 0.019181,
     "end_time": "2025-06-02T07:46:59.048817",
     "exception": false,
     "start_time": "2025-06-02T07:46:59.029636",
     "status": "completed"
    },
    "tags": []
   },
   "outputs": [],
   "source": [
    "def add_features(df):\n",
    "    data = df.copy()\n",
    "    features_df = pd.DataFrame(index=data.index)\n",
    "    \n",
    "    features_df['bid_ask_spread_proxy'] = data['ask_qty'] - data['bid_qty']\n",
    "    features_df['total_liquidity'] = data['bid_qty'] + data['ask_qty']\n",
    "    features_df['trade_imbalance'] = data['buy_qty'] - data['sell_qty']\n",
    "    features_df['total_trades'] = data['buy_qty'] + data['sell_qty']\n",
    "    \n",
    "    features_df['volume_per_trade'] = data['volume'] / (data['buy_qty'] + data['sell_qty'] + 1e-8)\n",
    "    features_df['buy_volume_ratio'] = data['buy_qty'] / (data['volume'] + 1e-8)\n",
    "    features_df['sell_volume_ratio'] = data['sell_qty'] / (data['volume'] + 1e-8)\n",
    "    \n",
    "    features_df['buying_pressure'] = data['buy_qty'] / (data['buy_qty'] + data['sell_qty'] + 1e-8)\n",
    "    features_df['selling_pressure'] = data['sell_qty'] / (data['buy_qty'] + data['sell_qty'] + 1e-8)\n",
    "    \n",
    "    features_df['order_imbalance'] = (data['bid_qty'] - data['ask_qty']) / (data['bid_qty'] + data['ask_qty'] + 1e-8)\n",
    "    features_df['order_imbalance_abs'] = np.abs(features_df['order_imbalance'])\n",
    "    features_df['bid_liquidity_ratio'] = data['bid_qty'] / (data['volume'] + 1e-8)\n",
    "    features_df['ask_liquidity_ratio'] = data['ask_qty'] / (data['volume'] + 1e-8)\n",
    "    features_df['market_depth'] = data['bid_qty'] + data['ask_qty']\n",
    "    features_df['depth_imbalance'] = features_df['market_depth'] - data['volume']\n",
    "    \n",
    "    features_df['buy_sell_ratio'] = data['buy_qty'] / (data['sell_qty'] + 1e-8)\n",
    "    features_df['bid_ask_ratio'] = data['bid_qty'] / (data['ask_qty'] + 1e-8)\n",
    "    features_df['volume_liquidity_ratio'] = data['volume'] / (data['bid_qty'] + data['ask_qty'] + 1e-8)\n",
    "\n",
    "    features_df['buy_volume_product'] = data['buy_qty'] * data['volume']\n",
    "    features_df['sell_volume_product'] = data['sell_qty'] * data['volume']\n",
    "    features_df['bid_ask_product'] = data['bid_qty'] * data['ask_qty']\n",
    "    \n",
    "    features_df['market_competition'] = (data['buy_qty'] * data['sell_qty']) / ((data['buy_qty'] + data['sell_qty']) + 1e-8)\n",
    "    features_df['liquidity_competition'] = (data['bid_qty'] * data['ask_qty']) / ((data['bid_qty'] + data['ask_qty']) + 1e-8)\n",
    "    \n",
    "    total_activity = data['buy_qty'] + data['sell_qty'] + data['bid_qty'] + data['ask_qty']\n",
    "    features_df['market_activity'] = total_activity\n",
    "    features_df['activity_concentration'] = data['volume'] / (total_activity + 1e-8)\n",
    "    \n",
    "    features_df['info_arrival_rate'] = (data['buy_qty'] + data['sell_qty']) / (data['volume'] + 1e-8)\n",
    "    features_df['market_making_intensity'] = (data['bid_qty'] + data['ask_qty']) / (data['buy_qty'] + data['sell_qty'] + 1e-8)\n",
    "    features_df['effective_spread_proxy'] = np.abs(data['buy_qty'] - data['sell_qty']) / (data['volume'] + 1e-8)\n",
    "    \n",
    "    lambda_decay = 0.95\n",
    "    ofi = data['buy_qty'] - data['sell_qty']\n",
    "    features_df['order_flow_imbalance_ewm'] = ofi.ewm(alpha=1-lambda_decay).mean()\n",
    "\n",
    "    features_df = features_df.replace([np.inf, -np.inf], np.nan)\n",
    "    \n",
    "    return features_df"
   ]
  },
  {
   "cell_type": "code",
   "execution_count": 6,
   "id": "94c5a537",
   "metadata": {
    "execution": {
     "iopub.execute_input": "2025-06-02T07:46:59.061969Z",
     "iopub.status.busy": "2025-06-02T07:46:59.061626Z",
     "iopub.status.idle": "2025-06-02T07:46:59.066736Z",
     "shell.execute_reply": "2025-06-02T07:46:59.065881Z"
    },
    "papermill": {
     "duration": 0.012988,
     "end_time": "2025-06-02T07:46:59.068252",
     "exception": false,
     "start_time": "2025-06-02T07:46:59.055264",
     "status": "completed"
    },
    "tags": []
   },
   "outputs": [],
   "source": [
    "cols_to_drop = [\n",
    "    'X697', 'X698', 'X699', 'X700', 'X701', 'X702', 'X703', 'X704', 'X705', 'X706', \n",
    "    'X707', 'X708', 'X709', 'X710', 'X711', 'X712', 'X713', 'X714', 'X715', 'X716',\n",
    "    'X717', 'X864', 'X867', 'X869', 'X870', 'X871', 'X872', 'X104', 'X110', 'X116',\n",
    "    'X122', 'X128', 'X134', 'X140', 'X146', 'X152', 'X158', 'X164', 'X170', 'X176',\n",
    "    'X182', 'X351', 'X357', 'X363', 'X369', 'X375', 'X381', 'X387', 'X393', 'X399',\n",
    "    'X405', 'X411', 'X417', 'X423', 'X429'\n",
    "]"
   ]
  },
  {
   "cell_type": "code",
   "execution_count": 7,
   "id": "cf9e71e3",
   "metadata": {
    "execution": {
     "iopub.execute_input": "2025-06-02T07:46:59.081124Z",
     "iopub.status.busy": "2025-06-02T07:46:59.080379Z",
     "iopub.status.idle": "2025-06-02T07:48:16.286876Z",
     "shell.execute_reply": "2025-06-02T07:48:16.285847Z"
    },
    "papermill": {
     "duration": 77.214884,
     "end_time": "2025-06-02T07:48:16.288872",
     "exception": false,
     "start_time": "2025-06-02T07:46:59.073988",
     "status": "completed"
    },
    "tags": []
   },
   "outputs": [
    {
     "name": "stdout",
     "output_type": "stream",
     "text": [
      "Reducing memory usage for: train\n",
      "--- Memory usage before: 3374.26 MB\n",
      "--- Memory usage after: 843.57 MB\n",
      "--- Decreased memory usage by 75.0%\n",
      "\n",
      "Reducing memory usage for: test\n",
      "--- Memory usage before: 3448.84 MB\n",
      "--- Memory usage after: 862.21 MB\n",
      "--- Decreased memory usage by 75.0%\n",
      "\n"
     ]
    }
   ],
   "source": [
    "train = pd.read_parquet(CFG.train_path).reset_index(drop=True)\n",
    "test = pd.read_parquet(CFG.test_path).reset_index(drop=True)\n",
    "\n",
    "train = train.drop(columns=cols_to_drop)\n",
    "test = test.drop(columns=[\"label\"] + cols_to_drop)\n",
    "\n",
    "train = reduce_mem_usage(train, \"train\")\n",
    "test = reduce_mem_usage(test, \"test\")\n",
    "\n",
    "X = train.drop(CFG.target, axis=1)\n",
    "y = train[CFG.target]\n",
    "X_test = test"
   ]
  },
  {
   "cell_type": "code",
   "execution_count": 8,
   "id": "3f155027",
   "metadata": {
    "execution": {
     "iopub.execute_input": "2025-06-02T07:48:16.303161Z",
     "iopub.status.busy": "2025-06-02T07:48:16.302764Z",
     "iopub.status.idle": "2025-06-02T07:48:22.622134Z",
     "shell.execute_reply": "2025-06-02T07:48:22.621180Z"
    },
    "papermill": {
     "duration": 6.328681,
     "end_time": "2025-06-02T07:48:22.623991",
     "exception": false,
     "start_time": "2025-06-02T07:48:16.295310",
     "status": "completed"
    },
    "tags": []
   },
   "outputs": [],
   "source": [
    "X = pd.concat([add_features(X), X], axis=1)\n",
    "X_test = pd.concat([add_features(X_test), X_test], axis=1)"
   ]
  },
  {
   "cell_type": "markdown",
   "id": "b9bec9fb",
   "metadata": {
    "papermill": {
     "duration": 0.005636,
     "end_time": "2025-06-02T07:48:22.635793",
     "exception": false,
     "start_time": "2025-06-02T07:48:22.630157",
     "status": "completed"
    },
    "tags": []
   },
   "source": [
    "# Training base models"
   ]
  },
  {
   "cell_type": "code",
   "execution_count": 9,
   "id": "dff56e11",
   "metadata": {
    "execution": {
     "iopub.execute_input": "2025-06-02T07:48:22.648608Z",
     "iopub.status.busy": "2025-06-02T07:48:22.648311Z",
     "iopub.status.idle": "2025-06-02T07:48:22.652406Z",
     "shell.execute_reply": "2025-06-02T07:48:22.651711Z"
    },
    "papermill": {
     "duration": 0.012223,
     "end_time": "2025-06-02T07:48:22.653704",
     "exception": false,
     "start_time": "2025-06-02T07:48:22.641481",
     "status": "completed"
    },
    "tags": []
   },
   "outputs": [],
   "source": [
    "def pearsonr(y_true, y_pred):\n",
    "    return pr(y_true, y_pred)[0]"
   ]
  },
  {
   "cell_type": "code",
   "execution_count": 10,
   "id": "7c2614f6",
   "metadata": {
    "_kg_hide-input": true,
    "_kg_hide-output": true,
    "execution": {
     "iopub.execute_input": "2025-06-02T07:48:22.666623Z",
     "iopub.status.busy": "2025-06-02T07:48:22.666316Z",
     "iopub.status.idle": "2025-06-02T07:48:22.673279Z",
     "shell.execute_reply": "2025-06-02T07:48:22.672416Z"
    },
    "papermill": {
     "duration": 0.015154,
     "end_time": "2025-06-02T07:48:22.674630",
     "exception": false,
     "start_time": "2025-06-02T07:48:22.659476",
     "status": "completed"
    },
    "tags": []
   },
   "outputs": [],
   "source": [
    "lgbm_params = {\n",
    "    \"boosting_type\": \"gbdt\",\n",
    "    \"colsample_bytree\": 0.5625888953382505,\n",
    "    \"learning_rate\": 0.029312951475451557,\n",
    "    \"min_child_samples\": 63,\n",
    "    \"min_child_weight\": 0.11456572852335424,\n",
    "    \"n_estimators\": 126,\n",
    "    \"n_jobs\": -1,\n",
    "    \"num_leaves\": 37,\n",
    "    \"random_state\": 42,\n",
    "    \"reg_alpha\": 85.2476527854083,\n",
    "    \"reg_lambda\": 99.38305361388907,\n",
    "    \"subsample\": 0.450669817684892,\n",
    "    \"verbose\": -1\n",
    "}\n",
    "\n",
    "lgbm_goss_params = {\n",
    "    \"boosting_type\": \"goss\",\n",
    "    \"colsample_bytree\": 0.34695458228489784,\n",
    "    \"learning_rate\": 0.031023014900595287,\n",
    "    \"min_child_samples\": 30,\n",
    "    \"min_child_weight\": 0.4727729225033618,\n",
    "    \"n_estimators\": 220,\n",
    "    \"n_jobs\": -1,\n",
    "    \"num_leaves\": 58,\n",
    "    \"random_state\": 42,\n",
    "    \"reg_alpha\": 38.665994901468224,\n",
    "    \"reg_lambda\": 92.76991677464294,\n",
    "    \"subsample\": 0.4810891284493255,\n",
    "    \"verbose\": -1\n",
    "}\n",
    "\n",
    "xgb_params = {\n",
    "    \"colsample_bylevel\": 0.4778015829774066,\n",
    "    \"colsample_bynode\": 0.362764358742407,\n",
    "    \"colsample_bytree\": 0.7107423488010493,\n",
    "    \"gamma\": 1.7094857725240398,\n",
    "    \"learning_rate\": 0.02213323588455387,\n",
    "    \"max_depth\": 20,\n",
    "    \"max_leaves\": 12,\n",
    "    \"min_child_weight\": 16,\n",
    "    \"n_estimators\": 1667,\n",
    "    \"n_jobs\": -1,\n",
    "    \"random_state\": 42,\n",
    "    \"reg_alpha\": 39.352415706891264,\n",
    "    \"reg_lambda\": 75.44843704068275,\n",
    "    \"subsample\": 0.06566669853471274,\n",
    "    \"verbosity\": 0\n",
    "}"
   ]
  },
  {
   "cell_type": "code",
   "execution_count": 11,
   "id": "121784a0",
   "metadata": {
    "execution": {
     "iopub.execute_input": "2025-06-02T07:48:22.687818Z",
     "iopub.status.busy": "2025-06-02T07:48:22.687485Z",
     "iopub.status.idle": "2025-06-02T07:48:22.691978Z",
     "shell.execute_reply": "2025-06-02T07:48:22.691100Z"
    },
    "papermill": {
     "duration": 0.012537,
     "end_time": "2025-06-02T07:48:22.693278",
     "exception": false,
     "start_time": "2025-06-02T07:48:22.680741",
     "status": "completed"
    },
    "tags": []
   },
   "outputs": [],
   "source": [
    "fold_scores = {}\n",
    "overall_scores = {}\n",
    "\n",
    "oof_preds = {}\n",
    "test_preds = {}"
   ]
  },
  {
   "cell_type": "markdown",
   "id": "343b4022",
   "metadata": {
    "papermill": {
     "duration": 0.005874,
     "end_time": "2025-06-02T07:48:22.705141",
     "exception": false,
     "start_time": "2025-06-02T07:48:22.699267",
     "status": "completed"
    },
    "tags": []
   },
   "source": [
    "## LightGBM (gbdt)"
   ]
  },
  {
   "cell_type": "code",
   "execution_count": 12,
   "id": "66031ea7",
   "metadata": {
    "execution": {
     "iopub.execute_input": "2025-06-02T07:48:22.718479Z",
     "iopub.status.busy": "2025-06-02T07:48:22.717846Z",
     "iopub.status.idle": "2025-06-02T07:58:05.302162Z",
     "shell.execute_reply": "2025-06-02T07:58:05.301012Z"
    },
    "papermill": {
     "duration": 582.593577,
     "end_time": "2025-06-02T07:58:05.304609",
     "exception": false,
     "start_time": "2025-06-02T07:48:22.711032",
     "status": "completed"
    },
    "tags": []
   },
   "outputs": [
    {
     "name": "stdout",
     "output_type": "stream",
     "text": [
      "Training LGBMRegressor\n",
      "\n",
      "--- Fold 0 - pearsonr: 0.141448 - Time: 102.95 s\n",
      "--- Fold 1 - pearsonr: 0.110486 - Time: 109.20 s\n",
      "--- Fold 2 - pearsonr: 0.065194 - Time: 107.03 s\n",
      "--- Fold 3 - pearsonr: 0.148460 - Time: 106.28 s\n",
      "--- Fold 4 - pearsonr: 0.057057 - Time: 107.44 s\n",
      "\n",
      "------ Overall pearsonr: 0.091073 - Mean pearsonr: 0.104529 ± 0.037760 - Time: 533.80 s\n"
     ]
    }
   ],
   "source": [
    "lgbm_trainer = Trainer(\n",
    "    LGBMRegressor(**lgbm_params),\n",
    "    cv=KFold(n_splits=5, shuffle=False),\n",
    "    metric=pearsonr,\n",
    "    task=\"regression\",\n",
    "    metric_precision=6\n",
    ")\n",
    "\n",
    "lgbm_trainer.fit(X, y)\n",
    "\n",
    "fold_scores[\"LightGBM (gbdt)\"] = lgbm_trainer.fold_scores\n",
    "overall_scores[\"LightGBM (gbdt)\"] = [pearsonr(lgbm_trainer.oof_preds, y)]\n",
    "oof_preds[\"LightGBM (gbdt)\"] = lgbm_trainer.oof_preds\n",
    "test_preds[\"LightGBM (gbdt)\"] = lgbm_trainer.predict(X_test)"
   ]
  },
  {
   "cell_type": "markdown",
   "id": "80ec0d1a",
   "metadata": {
    "papermill": {
     "duration": 0.006396,
     "end_time": "2025-06-02T07:58:05.320379",
     "exception": false,
     "start_time": "2025-06-02T07:58:05.313983",
     "status": "completed"
    },
    "tags": []
   },
   "source": [
    "## LightGBM (goss)"
   ]
  },
  {
   "cell_type": "code",
   "execution_count": 13,
   "id": "095989b1",
   "metadata": {
    "execution": {
     "iopub.execute_input": "2025-06-02T07:58:05.334375Z",
     "iopub.status.busy": "2025-06-02T07:58:05.333778Z",
     "iopub.status.idle": "2025-06-02T08:08:24.741816Z",
     "shell.execute_reply": "2025-06-02T08:08:24.740694Z"
    },
    "papermill": {
     "duration": 619.417375,
     "end_time": "2025-06-02T08:08:24.743905",
     "exception": false,
     "start_time": "2025-06-02T07:58:05.326530",
     "status": "completed"
    },
    "tags": []
   },
   "outputs": [
    {
     "name": "stdout",
     "output_type": "stream",
     "text": [
      "Training LGBMRegressor\n",
      "\n",
      "--- Fold 0 - pearsonr: 0.160002 - Time: 111.86 s\n",
      "--- Fold 1 - pearsonr: 0.079149 - Time: 111.91 s\n",
      "--- Fold 2 - pearsonr: 0.042983 - Time: 113.12 s\n",
      "--- Fold 3 - pearsonr: 0.121185 - Time: 112.65 s\n",
      "--- Fold 4 - pearsonr: 0.047085 - Time: 111.88 s\n",
      "\n",
      "------ Overall pearsonr: 0.078983 - Mean pearsonr: 0.090081 ± 0.044817 - Time: 562.29 s\n"
     ]
    }
   ],
   "source": [
    "lgbm_goss_trainer = Trainer(\n",
    "    LGBMRegressor(**lgbm_goss_params),\n",
    "    cv=KFold(n_splits=5, shuffle=False),\n",
    "    metric=pearsonr,\n",
    "    task=\"regression\",\n",
    "    metric_precision=6\n",
    ")\n",
    "\n",
    "lgbm_goss_trainer.fit(X, y)\n",
    "\n",
    "fold_scores[\"LightGBM (goss)\"] = lgbm_goss_trainer.fold_scores\n",
    "overall_scores[\"LightGBM (goss)\"] = [pearsonr(lgbm_goss_trainer.oof_preds, y)]\n",
    "oof_preds[\"LightGBM (goss)\"] = lgbm_goss_trainer.oof_preds\n",
    "test_preds[\"LightGBM (goss)\"] = lgbm_goss_trainer.predict(X_test)"
   ]
  },
  {
   "cell_type": "markdown",
   "id": "7b3015a0",
   "metadata": {
    "papermill": {
     "duration": 0.007169,
     "end_time": "2025-06-02T08:08:24.760317",
     "exception": false,
     "start_time": "2025-06-02T08:08:24.753148",
     "status": "completed"
    },
    "tags": []
   },
   "source": [
    "## XGBoost"
   ]
  },
  {
   "cell_type": "code",
   "execution_count": 14,
   "id": "40f00bec",
   "metadata": {
    "execution": {
     "iopub.execute_input": "2025-06-02T08:08:24.776017Z",
     "iopub.status.busy": "2025-06-02T08:08:24.774986Z",
     "iopub.status.idle": "2025-06-02T10:14:04.458348Z",
     "shell.execute_reply": "2025-06-02T10:14:04.457406Z"
    },
    "papermill": {
     "duration": 7539.695028,
     "end_time": "2025-06-02T10:14:04.462424",
     "exception": false,
     "start_time": "2025-06-02T08:08:24.767396",
     "status": "completed"
    },
    "tags": []
   },
   "outputs": [
    {
     "name": "stdout",
     "output_type": "stream",
     "text": [
      "Training XGBRegressor\n",
      "\n",
      "--- Fold 0 - pearsonr: 0.197688 - Time: 1439.26 s\n",
      "--- Fold 1 - pearsonr: 0.102426 - Time: 1474.38 s\n",
      "--- Fold 2 - pearsonr: 0.071148 - Time: 1506.28 s\n",
      "--- Fold 3 - pearsonr: 0.124983 - Time: 1521.67 s\n",
      "--- Fold 4 - pearsonr: 0.069779 - Time: 1524.13 s\n",
      "\n",
      "------ Overall pearsonr: 0.106221 - Mean pearsonr: 0.113205 ± 0.047004 - Time: 7466.64 s\n"
     ]
    }
   ],
   "source": [
    "xgb_trainer = Trainer(\n",
    "    XGBRegressor(**xgb_params),\n",
    "    cv=KFold(n_splits=5, shuffle=False),\n",
    "    metric=pearsonr,\n",
    "    task=\"regression\",\n",
    "    metric_precision=6\n",
    ")\n",
    "\n",
    "xgb_trainer.fit(X, y)\n",
    "\n",
    "fold_scores[\"XGBoost\"] = xgb_trainer.fold_scores\n",
    "overall_scores[\"XGBoost\"] = [pearsonr(xgb_trainer.oof_preds, y)]\n",
    "oof_preds[\"XGBoost\"] = xgb_trainer.oof_preds\n",
    "test_preds[\"XGBoost\"] = xgb_trainer.predict(X_test)"
   ]
  },
  {
   "cell_type": "markdown",
   "id": "7db6ec3f",
   "metadata": {
    "papermill": {
     "duration": 0.007498,
     "end_time": "2025-06-02T10:14:04.482706",
     "exception": false,
     "start_time": "2025-06-02T10:14:04.475208",
     "status": "completed"
    },
    "tags": []
   },
   "source": [
    "## AutoGluon"
   ]
  },
  {
   "cell_type": "code",
   "execution_count": 15,
   "id": "0c20ea7d",
   "metadata": {
    "execution": {
     "iopub.execute_input": "2025-06-02T10:14:04.500778Z",
     "iopub.status.busy": "2025-06-02T10:14:04.500018Z",
     "iopub.status.idle": "2025-06-02T10:14:04.664580Z",
     "shell.execute_reply": "2025-06-02T10:14:04.663727Z"
    },
    "papermill": {
     "duration": 0.176206,
     "end_time": "2025-06-02T10:14:04.666331",
     "exception": false,
     "start_time": "2025-06-02T10:14:04.490125",
     "status": "completed"
    },
    "tags": []
   },
   "outputs": [],
   "source": [
    "oof_preds_files = glob.glob(f'/kaggle/input/drw-crypto-market-prediction-autogluon/*_oof_preds_*.pkl')\n",
    "test_preds_files = glob.glob(f'/kaggle/input/drw-crypto-market-prediction-autogluon/*_test_preds_*.pkl')\n",
    "\n",
    "ag_oof_preds = joblib.load(oof_preds_files[0])\n",
    "ag_test_preds = joblib.load(test_preds_files[0])\n",
    "\n",
    "ag_score = [pearsonr(ag_oof_preds, y)]\n",
    "\n",
    "ag_scores = []\n",
    "split = KFold(n_splits=CFG.n_folds).split(X, y)\n",
    "for _, val_idx in split:\n",
    "    y_val = y[val_idx]\n",
    "    y_preds = ag_oof_preds[val_idx]   \n",
    "    score = pearsonr(y_preds, y_val)\n",
    "    ag_scores.append(score)\n",
    "    \n",
    "oof_preds[\"AutoGluon\"], test_preds[\"AutoGluon\"], overall_scores[\"AutoGluon\"], fold_scores[\"AutoGluon\"] = ag_oof_preds, ag_test_preds, ag_score, ag_scores"
   ]
  },
  {
   "cell_type": "markdown",
   "id": "ac4805bf",
   "metadata": {
    "papermill": {
     "duration": 0.006948,
     "end_time": "2025-06-02T10:14:04.680735",
     "exception": false,
     "start_time": "2025-06-02T10:14:04.673787",
     "status": "completed"
    },
    "tags": []
   },
   "source": [
    "# Ensembling with Ridge"
   ]
  },
  {
   "cell_type": "code",
   "execution_count": 16,
   "id": "ea751fab",
   "metadata": {
    "_kg_hide-input": true,
    "execution": {
     "iopub.execute_input": "2025-06-02T10:14:04.697093Z",
     "iopub.status.busy": "2025-06-02T10:14:04.696203Z",
     "iopub.status.idle": "2025-06-02T10:14:04.706089Z",
     "shell.execute_reply": "2025-06-02T10:14:04.705353Z"
    },
    "papermill": {
     "duration": 0.019835,
     "end_time": "2025-06-02T10:14:04.707873",
     "exception": false,
     "start_time": "2025-06-02T10:14:04.688038",
     "status": "completed"
    },
    "tags": []
   },
   "outputs": [],
   "source": [
    "def plot_weights(weights, title):\n",
    "    sorted_indices = np.argsort(weights[0])[::-1]\n",
    "    sorted_coeffs = np.array(weights[0])[sorted_indices]\n",
    "    sorted_model_names = np.array(list(oof_preds.keys()))[sorted_indices]\n",
    "\n",
    "    plt.figure(figsize=(10, weights.shape[1] * 0.5))\n",
    "    ax = sns.barplot(x=sorted_coeffs, y=sorted_model_names, palette=\"RdYlGn_r\")\n",
    "\n",
    "    for i, (value, name) in enumerate(zip(sorted_coeffs, sorted_model_names)):\n",
    "        if value >= 0:\n",
    "            ax.text(value, i, f\"{value:.3f}\", va=\"center\", ha=\"left\", color=\"black\")\n",
    "        else:\n",
    "            ax.text(value, i, f\"{value:.3f}\", va=\"center\", ha=\"right\", color=\"black\")\n",
    "\n",
    "    xlim = ax.get_xlim()\n",
    "    ax.set_xlim(xlim[0] - 0.1 * abs(xlim[0]), xlim[1] + 0.1 * abs(xlim[1]))\n",
    "\n",
    "    plt.title(title)\n",
    "    plt.xlabel(\"\")\n",
    "    plt.ylabel(\"\")\n",
    "    plt.tight_layout()\n",
    "    plt.show()"
   ]
  },
  {
   "cell_type": "code",
   "execution_count": 17,
   "id": "444725bf",
   "metadata": {
    "execution": {
     "iopub.execute_input": "2025-06-02T10:14:04.723991Z",
     "iopub.status.busy": "2025-06-02T10:14:04.723646Z",
     "iopub.status.idle": "2025-06-02T10:14:04.755670Z",
     "shell.execute_reply": "2025-06-02T10:14:04.754687Z"
    },
    "papermill": {
     "duration": 0.042208,
     "end_time": "2025-06-02T10:14:04.757445",
     "exception": false,
     "start_time": "2025-06-02T10:14:04.715237",
     "status": "completed"
    },
    "tags": []
   },
   "outputs": [],
   "source": [
    "X = pd.DataFrame(oof_preds)\n",
    "X_test = pd.DataFrame(test_preds)"
   ]
  },
  {
   "cell_type": "code",
   "execution_count": 18,
   "id": "f725559a",
   "metadata": {
    "execution": {
     "iopub.execute_input": "2025-06-02T10:14:04.773952Z",
     "iopub.status.busy": "2025-06-02T10:14:04.773583Z",
     "iopub.status.idle": "2025-06-02T10:14:04.823401Z",
     "shell.execute_reply": "2025-06-02T10:14:04.822474Z"
    },
    "papermill": {
     "duration": 0.059966,
     "end_time": "2025-06-02T10:14:04.825154",
     "exception": false,
     "start_time": "2025-06-02T10:14:04.765188",
     "status": "completed"
    },
    "tags": []
   },
   "outputs": [
    {
     "data": {
      "text/plain": [
       "['test_preds.pkl']"
      ]
     },
     "execution_count": 18,
     "metadata": {},
     "output_type": "execute_result"
    }
   ],
   "source": [
    "joblib.dump(X, \"oof_preds.pkl\")\n",
    "joblib.dump(X_test, \"test_preds.pkl\")"
   ]
  },
  {
   "cell_type": "code",
   "execution_count": 19,
   "id": "52efc92b",
   "metadata": {
    "_kg_hide-output": true,
    "execution": {
     "iopub.execute_input": "2025-06-02T10:14:04.842218Z",
     "iopub.status.busy": "2025-06-02T10:14:04.841697Z",
     "iopub.status.idle": "2025-06-02T10:22:19.965712Z",
     "shell.execute_reply": "2025-06-02T10:22:19.964610Z"
    },
    "papermill": {
     "duration": 495.13416,
     "end_time": "2025-06-02T10:22:19.967542",
     "exception": false,
     "start_time": "2025-06-02T10:14:04.833382",
     "status": "completed"
    },
    "scrolled": true,
    "tags": []
   },
   "outputs": [
    {
     "name": "stderr",
     "output_type": "stream",
     "text": [
      "[I 2025-06-02 10:14:04,851] A new study created in memory with name: no-name-dc0c3bb2-f39b-4539-b7a0-b6f4b1b2cee4\n",
      "[I 2025-06-02 10:14:08,768] Trial 1 finished with value: 0.12519169098980212 and parameters: {'alpha': 12.080790628912796, 'tol': 0.0006550802366250411, 'fit_intercept': True, 'positive': False}. Best is trial 1 with value: 0.12519169098980212.\n",
      "[I 2025-06-02 10:14:09,434] Trial 0 finished with value: 0.12284610326718487 and parameters: {'alpha': 53.02973629605504, 'tol': 0.0020650617444101524, 'fit_intercept': True, 'positive': True}. Best is trial 1 with value: 0.12519169098980212.\n",
      "[I 2025-06-02 10:14:09,631] Trial 2 finished with value: 0.11176459069082967 and parameters: {'alpha': 72.17005976828924, 'tol': 0.0047647320717647285, 'fit_intercept': True, 'positive': True}. Best is trial 1 with value: 0.12519169098980212.\n",
      "[I 2025-06-02 10:14:09,648] Trial 3 finished with value: 0.10306714074701324 and parameters: {'alpha': 56.55672530002924, 'tol': 0.00865790135541712, 'fit_intercept': True, 'positive': True}. Best is trial 1 with value: 0.12519169098980212.\n",
      "[I 2025-06-02 10:14:12,091] Trial 4 finished with value: 0.1314018228950298 and parameters: {'alpha': 75.43318877337771, 'tol': 0.008536380896837224, 'fit_intercept': False, 'positive': False}. Best is trial 4 with value: 0.1314018228950298.\n",
      "[I 2025-06-02 10:14:13,304] Trial 5 finished with value: 0.1191496913701341 and parameters: {'alpha': 60.453323303936834, 'tol': 0.00469626763860395, 'fit_intercept': False, 'positive': True}. Best is trial 4 with value: 0.1314018228950298.\n",
      "[I 2025-06-02 10:14:13,692] Trial 6 finished with value: 0.12516486357443926 and parameters: {'alpha': 28.999908354333893, 'tol': 0.0024105335044143153, 'fit_intercept': True, 'positive': False}. Best is trial 4 with value: 0.1314018228950298.\n",
      "[I 2025-06-02 10:14:14,269] Trial 7 finished with value: 0.11847317919582946 and parameters: {'alpha': 8.460751060530935, 'tol': 0.005254010516921978, 'fit_intercept': False, 'positive': True}. Best is trial 4 with value: 0.1314018228950298.\n",
      "[I 2025-06-02 10:14:15,662] Trial 8 finished with value: 0.13140859537822558 and parameters: {'alpha': 69.11045921119006, 'tol': 0.006558444085385285, 'fit_intercept': False, 'positive': False}. Best is trial 8 with value: 0.13140859537822558.\n",
      "[I 2025-06-02 10:14:17,099] Trial 9 finished with value: 0.12514186665573937 and parameters: {'alpha': 43.39460184567104, 'tol': 0.004370859951724052, 'fit_intercept': True, 'positive': False}. Best is trial 8 with value: 0.13140859537822558.\n",
      "[I 2025-06-02 10:14:17,989] Trial 10 finished with value: 0.12515541252382548 and parameters: {'alpha': 34.92760802406687, 'tol': 0.005594318417076291, 'fit_intercept': True, 'positive': False}. Best is trial 8 with value: 0.13140859537822558.\n",
      "[I 2025-06-02 10:14:19,019] Trial 11 finished with value: 0.11473314498767177 and parameters: {'alpha': 49.892850082848426, 'tol': 0.006900994641202886, 'fit_intercept': False, 'positive': True}. Best is trial 8 with value: 0.13140859537822558.\n",
      "[I 2025-06-02 10:14:19,494] Trial 12 finished with value: 0.1251031168295726 and parameters: {'alpha': 67.43307012994023, 'tol': 0.004152907034122257, 'fit_intercept': True, 'positive': False}. Best is trial 8 with value: 0.13140859537822558.\n",
      "[I 2025-06-02 10:14:21,463] Trial 13 finished with value: 0.1294835831365823 and parameters: {'alpha': 97.38859317421773, 'tol': 0.0022786430283584258, 'fit_intercept': False, 'positive': True}. Best is trial 8 with value: 0.13140859537822558.\n",
      "[I 2025-06-02 10:14:22,054] Trial 14 finished with value: 0.12518880458294296 and parameters: {'alpha': 13.907866526582168, 'tol': 0.000109179967234589, 'fit_intercept': True, 'positive': False}. Best is trial 8 with value: 0.13140859537822558.\n",
      "[I 2025-06-02 10:14:22,987] Trial 15 finished with value: 0.13147843489687008 and parameters: {'alpha': 2.011322171917429, 'tol': 0.004454791411570603, 'fit_intercept': False, 'positive': False}. Best is trial 15 with value: 0.13147843489687008.\n",
      "[I 2025-06-02 10:14:23,191] Trial 16 finished with value: 0.13138662373619853 and parameters: {'alpha': 89.51530535947172, 'tol': 0.0013638412510742733, 'fit_intercept': False, 'positive': False}. Best is trial 15 with value: 0.13147843489687008.\n",
      "[I 2025-06-02 10:14:24,998] Trial 17 finished with value: 0.13145961809161064 and parameters: {'alpha': 20.45159855744104, 'tol': 0.007936994390435262, 'fit_intercept': False, 'positive': False}. Best is trial 15 with value: 0.13147843489687008.\n",
      "[I 2025-06-02 10:14:26,818] Trial 18 finished with value: 0.10306662050957613 and parameters: {'alpha': 18.161831705539566, 'tol': 0.009331586422789159, 'fit_intercept': True, 'positive': True}. Best is trial 15 with value: 0.13147843489687008.\n",
      "[I 2025-06-02 10:14:26,881] Trial 19 finished with value: 0.12511417262544103 and parameters: {'alpha': 60.60159970508126, 'tol': 0.009011218434634682, 'fit_intercept': True, 'positive': False}. Best is trial 15 with value: 0.13147843489687008.\n",
      "[I 2025-06-02 10:14:27,118] Trial 20 finished with value: 0.11019059304603354 and parameters: {'alpha': 52.96550647759414, 'tol': 0.005415373573155327, 'fit_intercept': True, 'positive': True}. Best is trial 15 with value: 0.13147843489687008.\n",
      "[I 2025-06-02 10:14:29,062] Trial 21 finished with value: 0.12950258050641777 and parameters: {'alpha': 82.48903176840395, 'tol': 0.002714600933774648, 'fit_intercept': False, 'positive': True}. Best is trial 15 with value: 0.13147843489687008.\n",
      "[I 2025-06-02 10:14:31,089] Trial 24 finished with value: 0.12519750634599472 and parameters: {'alpha': 8.394701667423021, 'tol': 0.0015692675885542887, 'fit_intercept': True, 'positive': False}. Best is trial 15 with value: 0.13147843489687008.\n",
      "[I 2025-06-02 10:14:31,101] Trial 22 finished with value: 0.11914890801243364 and parameters: {'alpha': 91.91186668641048, 'tol': 0.004930039475274473, 'fit_intercept': False, 'positive': True}. Best is trial 15 with value: 0.13147843489687008.\n",
      "[I 2025-06-02 10:14:31,552] Trial 23 finished with value: 0.12246508373700442 and parameters: {'alpha': 50.21837989538752, 'tol': 0.00243487998735661, 'fit_intercept': True, 'positive': True}. Best is trial 15 with value: 0.13147843489687008.\n",
      "[I 2025-06-02 10:14:32,944] Trial 25 finished with value: 0.12383323809532162 and parameters: {'alpha': 33.18488946311559, 'tol': 0.004193710258451653, 'fit_intercept': False, 'positive': True}. Best is trial 15 with value: 0.13147843489687008.\n",
      "[I 2025-06-02 10:14:35,160] Trial 27 finished with value: 0.12505519818989114 and parameters: {'alpha': 96.80392008781925, 'tol': 0.00800124055834354, 'fit_intercept': True, 'positive': False}. Best is trial 15 with value: 0.13147843489687008.\n",
      "[I 2025-06-02 10:14:35,200] Trial 26 finished with value: 0.10680532234021797 and parameters: {'alpha': 4.334879113851531, 'tol': 0.0063582849412702, 'fit_intercept': True, 'positive': True}. Best is trial 15 with value: 0.13147843489687008.\n",
      "[I 2025-06-02 10:14:36,047] Trial 28 finished with value: 0.11550285805813469 and parameters: {'alpha': 92.503938773385, 'tol': 0.0057245026214458586, 'fit_intercept': False, 'positive': True}. Best is trial 15 with value: 0.13147843489687008.\n",
      "[I 2025-06-02 10:14:37,514] Trial 29 finished with value: 0.12998227659785883 and parameters: {'alpha': 21.103082522341378, 'tol': 0.00015184441803190753, 'fit_intercept': False, 'positive': True}. Best is trial 15 with value: 0.13147843489687008.\n",
      "[I 2025-06-02 10:14:39,010] Trial 30 finished with value: 0.12517179235563622 and parameters: {'alpha': 24.643451360864354, 'tol': 0.008082539122053665, 'fit_intercept': True, 'positive': False}. Best is trial 15 with value: 0.13147843489687008.\n",
      "[I 2025-06-02 10:14:39,053] Trial 31 finished with value: 0.1030675680002266 and parameters: {'alpha': 88.74347159517136, 'tol': 0.008660061579242657, 'fit_intercept': True, 'positive': True}. Best is trial 15 with value: 0.13147843489687008.\n",
      "[I 2025-06-02 10:14:40,481] Trial 32 finished with value: 0.11550284610422074 and parameters: {'alpha': 94.12730674443807, 'tol': 0.005347552909654601, 'fit_intercept': False, 'positive': True}. Best is trial 15 with value: 0.13147843489687008.\n",
      "[I 2025-06-02 10:14:41,884] Trial 33 finished with value: 0.12234175359821917 and parameters: {'alpha': 80.36665999929247, 'tol': 0.003031981828678608, 'fit_intercept': True, 'positive': True}. Best is trial 15 with value: 0.13147843489687008.\n",
      "[I 2025-06-02 10:14:42,853] Trial 34 finished with value: 0.131447006360941 and parameters: {'alpha': 32.6554040799308, 'tol': 0.007602302121789351, 'fit_intercept': False, 'positive': False}. Best is trial 15 with value: 0.13147843489687008.\n",
      "[I 2025-06-02 10:14:42,864] Trial 35 finished with value: 0.12509853996288908 and parameters: {'alpha': 70.25498502744256, 'tol': 0.001014285899055424, 'fit_intercept': True, 'positive': False}. Best is trial 15 with value: 0.13147843489687008.\n",
      "[I 2025-06-02 10:14:45,026] Trial 36 finished with value: 0.11473367876129222 and parameters: {'alpha': 76.7051043492752, 'tol': 0.007811525056189614, 'fit_intercept': False, 'positive': True}. Best is trial 15 with value: 0.13147843489687008.\n",
      "[I 2025-06-02 10:14:45,872] Trial 37 finished with value: 0.11473326280634008 and parameters: {'alpha': 55.79746979097118, 'tol': 0.008198902306994316, 'fit_intercept': False, 'positive': True}. Best is trial 15 with value: 0.13147843489687008.\n",
      "[I 2025-06-02 10:14:46,460] Trial 39 finished with value: 0.12509318913073433 and parameters: {'alpha': 73.54956392733646, 'tol': 0.0015326223711160534, 'fit_intercept': True, 'positive': False}. Best is trial 15 with value: 0.13147843489687008.\n",
      "[I 2025-06-02 10:14:46,860] Trial 38 finished with value: 0.12506509738310487 and parameters: {'alpha': 90.76738130541379, 'tol': 0.0017504913057266405, 'fit_intercept': True, 'positive': False}. Best is trial 15 with value: 0.13147843489687008.\n",
      "[I 2025-06-02 10:14:49,151] Trial 40 finished with value: 0.1251125937593468 and parameters: {'alpha': 61.578494073064775, 'tol': 0.0022811727782547577, 'fit_intercept': True, 'positive': False}. Best is trial 15 with value: 0.13147843489687008.\n",
      "[I 2025-06-02 10:14:49,847] Trial 41 finished with value: 0.11124322825103884 and parameters: {'alpha': 2.011333559541706, 'tol': 0.009192155297581467, 'fit_intercept': False, 'positive': True}. Best is trial 15 with value: 0.13147843489687008.\n",
      "[I 2025-06-02 10:14:50,241] Trial 42 finished with value: 0.12511412648089443 and parameters: {'alpha': 60.63015697229377, 'tol': 0.0006903183045764864, 'fit_intercept': True, 'positive': False}. Best is trial 15 with value: 0.13147843489687008.\n",
      "[I 2025-06-02 10:14:51,438] Trial 43 finished with value: 0.1147336708826702 and parameters: {'alpha': 76.30819578123416, 'tol': 0.007310300750350325, 'fit_intercept': False, 'positive': True}. Best is trial 15 with value: 0.13147843489687008.\n",
      "[I 2025-06-02 10:14:53,506] Trial 45 finished with value: 0.1314435637979989 and parameters: {'alpha': 35.96574575237287, 'tol': 0.0015719059062334468, 'fit_intercept': False, 'positive': False}. Best is trial 15 with value: 0.13147843489687008.\n",
      "[I 2025-06-02 10:14:53,710] Trial 44 finished with value: 0.10306680852185235 and parameters: {'alpha': 31.939809893353612, 'tol': 0.007989771034034282, 'fit_intercept': True, 'positive': True}. Best is trial 15 with value: 0.13147843489687008.\n",
      "[I 2025-06-02 10:14:53,734] Trial 46 finished with value: 0.13140643907521296 and parameters: {'alpha': 71.12683714587791, 'tol': 0.00870699390090281, 'fit_intercept': False, 'positive': False}. Best is trial 15 with value: 0.13147843489687008.\n",
      "[I 2025-06-02 10:14:55,834] Trial 47 finished with value: 0.12511554199481736 and parameters: {'alpha': 59.75397470923794, 'tol': 0.0052297724809181705, 'fit_intercept': True, 'positive': False}. Best is trial 15 with value: 0.13147843489687008.\n",
      "[I 2025-06-02 10:14:57,265] Trial 50 finished with value: 0.1314393263568339 and parameters: {'alpha': 40.0284124592927, 'tol': 0.0005092918768121134, 'fit_intercept': False, 'positive': False}. Best is trial 15 with value: 0.13147843489687008.\n",
      "[I 2025-06-02 10:14:57,290] Trial 48 finished with value: 0.1147323526323764 and parameters: {'alpha': 10.380490811075383, 'tol': 0.006901006915355643, 'fit_intercept': False, 'positive': True}. Best is trial 15 with value: 0.13147843489687008.\n",
      "[I 2025-06-02 10:14:58,186] Trial 49 finished with value: 0.12385347846348095 and parameters: {'alpha': 10.07593254714807, 'tol': 0.004054433023795913, 'fit_intercept': False, 'positive': True}. Best is trial 15 with value: 0.13147843489687008.\n",
      "[I 2025-06-02 10:15:00,310] Trial 51 finished with value: 0.1068031837055473 and parameters: {'alpha': 75.80058534460632, 'tol': 0.006058168732370207, 'fit_intercept': True, 'positive': True}. Best is trial 15 with value: 0.13147843489687008.\n",
      "[I 2025-06-02 10:15:00,885] Trial 53 finished with value: 0.13144045580443828 and parameters: {'alpha': 38.946837126733605, 'tol': 0.0015712898736852713, 'fit_intercept': False, 'positive': False}. Best is trial 15 with value: 0.13147843489687008.\n",
      "[I 2025-06-02 10:15:00,932] Trial 52 finished with value: 0.12514078428565237 and parameters: {'alpha': 44.06969498319946, 'tol': 0.0025489297552185584, 'fit_intercept': True, 'positive': False}. Best is trial 15 with value: 0.13147843489687008.\n",
      "[I 2025-06-02 10:15:02,258] Trial 54 finished with value: 0.13145620033454347 and parameters: {'alpha': 23.77083917271753, 'tol': 0.0077433132290249005, 'fit_intercept': False, 'positive': False}. Best is trial 15 with value: 0.13147843489687008.\n",
      "[I 2025-06-02 10:15:04,377] Trial 55 finished with value: 0.13145363416257147 and parameters: {'alpha': 26.25711987417639, 'tol': 0.0077394626727258125, 'fit_intercept': False, 'positive': False}. Best is trial 15 with value: 0.13147843489687008.\n",
      "[I 2025-06-02 10:15:04,409] Trial 56 finished with value: 0.13144454764670788 and parameters: {'alpha': 35.02058323763947, 'tol': 0.0014311820395345248, 'fit_intercept': False, 'positive': False}. Best is trial 15 with value: 0.13147843489687008.\n",
      "[I 2025-06-02 10:15:04,798] Trial 57 finished with value: 0.13144266021732773 and parameters: {'alpha': 36.83316579395365, 'tol': 0.0004026823251842616, 'fit_intercept': False, 'positive': False}. Best is trial 15 with value: 0.13147843489687008.\n",
      "[I 2025-06-02 10:15:06,328] Trial 58 finished with value: 0.13145662224664809 and parameters: {'alpha': 23.361577664428864, 'tol': 0.008543926351774636, 'fit_intercept': False, 'positive': False}. Best is trial 15 with value: 0.13147843489687008.\n",
      "[I 2025-06-02 10:15:08,070] Trial 60 finished with value: 0.13145837921203093 and parameters: {'alpha': 21.655813967449944, 'tol': 0.008032468257916198, 'fit_intercept': False, 'positive': False}. Best is trial 15 with value: 0.13147843489687008.\n",
      "[I 2025-06-02 10:15:08,470] Trial 61 finished with value: 0.13145534329123765 and parameters: {'alpha': 24.601762829175023, 'tol': 0.008953146750282756, 'fit_intercept': False, 'positive': False}. Best is trial 15 with value: 0.13147843489687008.\n",
      "[I 2025-06-02 10:15:08,499] Trial 59 finished with value: 0.13145386888048208 and parameters: {'alpha': 26.029919015307694, 'tol': 0.007279769281864953, 'fit_intercept': False, 'positive': False}. Best is trial 15 with value: 0.13147843489687008.\n",
      "[I 2025-06-02 10:15:10,393] Trial 62 finished with value: 0.13145330390672655 and parameters: {'alpha': 26.576727704270485, 'tol': 0.0085670770858676, 'fit_intercept': False, 'positive': False}. Best is trial 15 with value: 0.13147843489687008.\n",
      "[I 2025-06-02 10:15:11,763] Trial 63 finished with value: 0.13147501822087063 and parameters: {'alpha': 5.3809332809787165, 'tol': 0.00875861050524427, 'fit_intercept': False, 'positive': False}. Best is trial 15 with value: 0.13147843489687008.\n",
      "[I 2025-06-02 10:15:12,161] Trial 64 finished with value: 0.13147855889922108 and parameters: {'alpha': 1.888846351550523, 'tol': 0.009120858903223103, 'fit_intercept': False, 'positive': False}. Best is trial 64 with value: 0.13147855889922108.\n",
      "[I 2025-06-02 10:15:12,725] Trial 65 finished with value: 0.1314765185026428 and parameters: {'alpha': 3.902504453358897, 'tol': 0.006442566847291934, 'fit_intercept': False, 'positive': False}. Best is trial 64 with value: 0.13147855889922108.\n",
      "[I 2025-06-02 10:15:14,449] Trial 66 finished with value: 0.13147685114126245 and parameters: {'alpha': 3.574459862266586, 'tol': 0.006528001515392969, 'fit_intercept': False, 'positive': False}. Best is trial 64 with value: 0.13147855889922108.\n",
      "[I 2025-06-02 10:15:15,604] Trial 67 finished with value: 0.131476795805991 and parameters: {'alpha': 3.629037239143634, 'tol': 0.004329768175805461, 'fit_intercept': False, 'positive': False}. Best is trial 64 with value: 0.13147855889922108.\n",
      "[I 2025-06-02 10:15:15,825] Trial 68 finished with value: 0.1314774234961948 and parameters: {'alpha': 3.009795694902459, 'tol': 0.003341888495999909, 'fit_intercept': False, 'positive': False}. Best is trial 64 with value: 0.13147855889922108.\n",
      "[I 2025-06-02 10:15:16,791] Trial 69 finished with value: 0.13147373643820992 and parameters: {'alpha': 6.642581919692979, 'tol': 0.004438059888632116, 'fit_intercept': False, 'positive': False}. Best is trial 64 with value: 0.13147855889922108.\n",
      "[I 2025-06-02 10:15:18,543] Trial 70 finished with value: 0.13147804434020768 and parameters: {'alpha': 2.3969874729635574, 'tol': 0.005987328072099372, 'fit_intercept': False, 'positive': False}. Best is trial 64 with value: 0.13147855889922108.\n",
      "[I 2025-06-02 10:15:19,299] Trial 71 finished with value: 0.131480289671478 and parameters: {'alpha': 0.17804485854430085, 'tol': 0.004031786488228639, 'fit_intercept': False, 'positive': False}. Best is trial 71 with value: 0.131480289671478.\n",
      "[I 2025-06-02 10:15:19,514] Trial 72 finished with value: 0.13147676593584695 and parameters: {'alpha': 3.6584972187757234, 'tol': 0.0031319853408740064, 'fit_intercept': False, 'positive': False}. Best is trial 71 with value: 0.131480289671478.\n",
      "[I 2025-06-02 10:15:20,590] Trial 73 finished with value: 0.131474585521555 and parameters: {'alpha': 5.806986301247854, 'tol': 0.005090231831439717, 'fit_intercept': False, 'positive': False}. Best is trial 71 with value: 0.131480289671478.\n",
      "[I 2025-06-02 10:15:22,676] Trial 74 finished with value: 0.13147838248035204 and parameters: {'alpha': 2.0630895768508695, 'tol': 0.00219774936956194, 'fit_intercept': False, 'positive': False}. Best is trial 71 with value: 0.131480289671478.\n",
      "[I 2025-06-02 10:15:23,078] Trial 75 finished with value: 0.1251969253471093 and parameters: {'alpha': 8.763272657377488, 'tol': 0.00483764177490421, 'fit_intercept': True, 'positive': False}. Best is trial 71 with value: 0.131480289671478.\n",
      "[I 2025-06-02 10:15:23,289] Trial 76 finished with value: 0.1314803740473565 and parameters: {'alpha': 0.09457868637926925, 'tol': 0.0016293754802311875, 'fit_intercept': False, 'positive': False}. Best is trial 76 with value: 0.1314803740473565.\n",
      "[I 2025-06-02 10:15:24,831] Trial 77 finished with value: 0.13147973016688605 and parameters: {'alpha': 0.731366644399801, 'tol': 0.0034287322405687094, 'fit_intercept': False, 'positive': False}. Best is trial 76 with value: 0.1314803740473565.\n",
      "[I 2025-06-02 10:15:26,868] Trial 79 finished with value: 0.13147878688522366 and parameters: {'alpha': 1.6636336326864989, 'tol': 0.002024897693191536, 'fit_intercept': False, 'positive': False}. Best is trial 76 with value: 0.1314803740473565.\n",
      "[I 2025-06-02 10:15:26,919] Trial 78 finished with value: 0.12520009347307723 and parameters: {'alpha': 6.752675218037093, 'tol': 0.005127028146418941, 'fit_intercept': True, 'positive': False}. Best is trial 76 with value: 0.1314803740473565.\n",
      "[I 2025-06-02 10:15:26,935] Trial 80 finished with value: 0.13146183587143856 and parameters: {'alpha': 18.292882540873826, 'tol': 0.0019952635390430486, 'fit_intercept': False, 'positive': False}. Best is trial 76 with value: 0.1314803740473565.\n",
      "[I 2025-06-02 10:15:28,920] Trial 81 finished with value: 0.1314710915695575 and parameters: {'alpha': 9.241668797279083, 'tol': 0.002642977925216994, 'fit_intercept': False, 'positive': False}. Best is trial 76 with value: 0.1314803740473565.\n",
      "[I 2025-06-02 10:15:30,411] Trial 82 finished with value: 0.13146967535870485 and parameters: {'alpha': 10.631033493595172, 'tol': 0.0002967513385066028, 'fit_intercept': False, 'positive': False}. Best is trial 76 with value: 0.1314803740473565.\n",
      "[I 2025-06-02 10:15:30,789] Trial 84 finished with value: 0.13147741486802755 and parameters: {'alpha': 3.0183099359968666, 'tol': 0.001385571998973246, 'fit_intercept': False, 'positive': False}. Best is trial 76 with value: 0.1314803740473565.\n",
      "[I 2025-06-02 10:15:30,822] Trial 83 finished with value: 0.13147022931582336 and parameters: {'alpha': 10.087770276431975, 'tol': 0.0005576499597958616, 'fit_intercept': False, 'positive': False}. Best is trial 76 with value: 0.1314803740473565.\n",
      "[I 2025-06-02 10:15:33,001] Trial 85 finished with value: 0.13147634958380797 and parameters: {'alpha': 4.069055419753594, 'tol': 0.000912571586490437, 'fit_intercept': False, 'positive': False}. Best is trial 76 with value: 0.1314803740473565.\n",
      "[I 2025-06-02 10:15:34,197] Trial 86 finished with value: 0.13147693787900963 and parameters: {'alpha': 3.4889050218920508, 'tol': 0.002072081222477686, 'fit_intercept': False, 'positive': False}. Best is trial 76 with value: 0.1314803740473565.\n",
      "[I 2025-06-02 10:15:34,253] Trial 87 finished with value: 0.13147652596130277 and parameters: {'alpha': 3.8951498047589466, 'tol': 0.002226919972083162, 'fit_intercept': False, 'positive': False}. Best is trial 76 with value: 0.1314803740473565.\n",
      "[I 2025-06-02 10:15:35,608] Trial 88 finished with value: 0.12293728503723335 and parameters: {'alpha': 1.7064375143582544, 'tol': 0.0005439062999010702, 'fit_intercept': True, 'positive': True}. Best is trial 76 with value: 0.1314803740473565.\n",
      "[I 2025-06-02 10:15:36,940] Trial 89 finished with value: 0.13147913423029112 and parameters: {'alpha': 1.3204306804354056, 'tol': 0.00373793078013451, 'fit_intercept': False, 'positive': False}. Best is trial 76 with value: 0.1314803740473565.\n",
      "[I 2025-06-02 10:15:38,210] Trial 91 finished with value: 0.13147658941609797 and parameters: {'alpha': 3.8325780336136113, 'tol': 0.004387305256563619, 'fit_intercept': False, 'positive': False}. Best is trial 76 with value: 0.1314803740473565.\n",
      "[I 2025-06-02 10:15:38,522] Trial 90 finished with value: 0.12246986928938264 and parameters: {'alpha': 1.6628385838114994, 'tol': 0.002863597247298078, 'fit_intercept': True, 'positive': True}. Best is trial 76 with value: 0.1314803740473565.\n",
      "[I 2025-06-02 10:15:39,909] Trial 92 finished with value: 0.13147365730283372 and parameters: {'alpha': 6.720430189341911, 'tol': 0.0038086930513623507, 'fit_intercept': False, 'positive': False}. Best is trial 76 with value: 0.1314803740473565.\n",
      "[I 2025-06-02 10:15:42,128] Trial 93 finished with value: 0.13000853691021477 and parameters: {'alpha': 2.283293595904283, 'tol': 0.0013117180354456676, 'fit_intercept': False, 'positive': True}. Best is trial 76 with value: 0.1314803740473565.\n",
      "[I 2025-06-02 10:15:42,150] Trial 94 finished with value: 0.13144990125990402 and parameters: {'alpha': 29.864836245805236, 'tol': 0.004100344938115225, 'fit_intercept': False, 'positive': False}. Best is trial 76 with value: 0.1314803740473565.\n",
      "[I 2025-06-02 10:15:42,784] Trial 95 finished with value: 0.1252104135122596 and parameters: {'alpha': 0.18923791418773606, 'tol': 0.00844709665665762, 'fit_intercept': True, 'positive': False}. Best is trial 76 with value: 0.1314803740473565.\n",
      "[I 2025-06-02 10:15:43,744] Trial 96 finished with value: 0.1314678445002328 and parameters: {'alpha': 12.424791079811692, 'tol': 0.004209498675130669, 'fit_intercept': False, 'positive': False}. Best is trial 76 with value: 0.1314803740473565.\n",
      "[I 2025-06-02 10:15:45,701] Trial 98 finished with value: 0.13147921815506397 and parameters: {'alpha': 1.2374916571173555, 'tol': 0.009223283468360492, 'fit_intercept': False, 'positive': False}. Best is trial 76 with value: 0.1314803740473565.\n",
      "[I 2025-06-02 10:15:46,103] Trial 97 finished with value: 0.13145160006225695 and parameters: {'alpha': 28.22431665811173, 'tol': 0.004470877992876468, 'fit_intercept': False, 'positive': False}. Best is trial 76 with value: 0.1314803740473565.\n",
      "[I 2025-06-02 10:15:46,514] Trial 99 finished with value: 0.1314782028618431 and parameters: {'alpha': 2.240466435696532, 'tol': 0.0031046473198236553, 'fit_intercept': False, 'positive': False}. Best is trial 76 with value: 0.1314803740473565.\n",
      "[I 2025-06-02 10:15:47,855] Trial 100 finished with value: 0.13147953989045671 and parameters: {'alpha': 0.919480898920491, 'tol': 0.0037769141412167377, 'fit_intercept': False, 'positive': False}. Best is trial 76 with value: 0.1314803740473565.\n",
      "[I 2025-06-02 10:15:49,420] Trial 101 finished with value: 0.13147890434433762 and parameters: {'alpha': 1.5475864581247143, 'tol': 0.008683608684326117, 'fit_intercept': False, 'positive': False}. Best is trial 76 with value: 0.1314803740473565.\n",
      "[I 2025-06-02 10:15:50,358] Trial 102 finished with value: 0.1314801616697206 and parameters: {'alpha': 0.3046551940439035, 'tol': 0.0047126241110986835, 'fit_intercept': False, 'positive': False}. Best is trial 76 with value: 0.1314803740473565.\n",
      "[I 2025-06-02 10:15:50,399] Trial 103 finished with value: 0.13146390918546802 and parameters: {'alpha': 16.271293325558673, 'tol': 0.009876398487368552, 'fit_intercept': False, 'positive': False}. Best is trial 76 with value: 0.1314803740473565.\n",
      "[I 2025-06-02 10:15:51,784] Trial 104 finished with value: 0.1314706053531099 and parameters: {'alpha': 9.718851065516061, 'tol': 0.009369613898433877, 'fit_intercept': False, 'positive': False}. Best is trial 76 with value: 0.1314803740473565.\n",
      "[I 2025-06-02 10:15:53,182] Trial 105 finished with value: 0.13147901487157626 and parameters: {'alpha': 1.4383773535295339, 'tol': 0.00829886810850561, 'fit_intercept': False, 'positive': False}. Best is trial 76 with value: 0.1314803740473565.\n",
      "[I 2025-06-02 10:15:54,316] Trial 107 finished with value: 0.13148020569513227 and parameters: {'alpha': 0.2611098977797339, 'tol': 0.008850760499305537, 'fit_intercept': False, 'positive': False}. Best is trial 76 with value: 0.1314803740473565.\n",
      "[I 2025-06-02 10:15:54,376] Trial 106 finished with value: 0.13147700185857264 and parameters: {'alpha': 3.4257940125015462, 'tol': 0.009496140336036143, 'fit_intercept': False, 'positive': False}. Best is trial 76 with value: 0.1314803740473565.\n",
      "[I 2025-06-02 10:15:55,924] Trial 108 finished with value: 0.13147785041803867 and parameters: {'alpha': 2.5884339386414847, 'tol': 0.008212259370705095, 'fit_intercept': False, 'positive': False}. Best is trial 76 with value: 0.1314803740473565.\n",
      "[I 2025-06-02 10:15:57,044] Trial 109 finished with value: 0.13147853044771246 and parameters: {'alpha': 1.91694873691844, 'tol': 0.00801954999347556, 'fit_intercept': False, 'positive': False}. Best is trial 76 with value: 0.1314803740473565.\n",
      "[I 2025-06-02 10:15:57,853] Trial 110 finished with value: 0.1314799182735119 and parameters: {'alpha': 0.5453678527399347, 'tol': 0.007920629336879837, 'fit_intercept': False, 'positive': False}. Best is trial 76 with value: 0.1314803740473565.\n",
      "[I 2025-06-02 10:15:58,683] Trial 111 finished with value: 0.13147366842064537 and parameters: {'alpha': 6.709493513553802, 'tol': 0.007691065165784098, 'fit_intercept': False, 'positive': False}. Best is trial 76 with value: 0.1314803740473565.\n",
      "[I 2025-06-02 10:16:00,039] Trial 112 finished with value: 0.13147566571888084 and parameters: {'alpha': 4.7430938044678115, 'tol': 0.008403625447564997, 'fit_intercept': False, 'positive': False}. Best is trial 76 with value: 0.1314803740473565.\n",
      "[I 2025-06-02 10:16:00,610] Trial 113 finished with value: 0.13148000223144515 and parameters: {'alpha': 0.46234118102823796, 'tol': 0.008627478590896551, 'fit_intercept': False, 'positive': False}. Best is trial 76 with value: 0.1314803740473565.\n",
      "[I 2025-06-02 10:16:01,450] Trial 114 finished with value: 0.1314762225402991 and parameters: {'alpha': 4.194302559002572, 'tol': 0.00750182702404378, 'fit_intercept': False, 'positive': False}. Best is trial 76 with value: 0.1314803740473565.\n",
      "[I 2025-06-02 10:16:02,822] Trial 115 finished with value: 0.13147895066859686 and parameters: {'alpha': 1.501815893272937, 'tol': 0.0077312528395112904, 'fit_intercept': False, 'positive': False}. Best is trial 76 with value: 0.1314803740473565.\n",
      "[I 2025-06-02 10:16:04,352] Trial 116 finished with value: 0.13147841221716136 and parameters: {'alpha': 2.0337213007757984, 'tol': 0.003961201212032678, 'fit_intercept': False, 'positive': False}. Best is trial 76 with value: 0.1314803740473565.\n",
      "[I 2025-06-02 10:16:04,377] Trial 117 finished with value: 0.13147985583420976 and parameters: {'alpha': 0.6071107631512119, 'tol': 0.008895948508863665, 'fit_intercept': False, 'positive': False}. Best is trial 76 with value: 0.1314803740473565.\n",
      "[I 2025-06-02 10:16:05,320] Trial 118 finished with value: 0.13148025967408916 and parameters: {'alpha': 0.20771739395415723, 'tol': 0.008741630978965263, 'fit_intercept': False, 'positive': False}. Best is trial 76 with value: 0.1314803740473565.\n",
      "[I 2025-06-02 10:16:06,906] Trial 119 finished with value: 0.13147976995729296 and parameters: {'alpha': 0.6920245719718495, 'tol': 0.008774536122849572, 'fit_intercept': False, 'positive': False}. Best is trial 76 with value: 0.1314803740473565.\n",
      "[I 2025-06-02 10:16:08,099] Trial 121 finished with value: 0.13147998204415587 and parameters: {'alpha': 0.4823050902437961, 'tol': 0.009993530104220386, 'fit_intercept': False, 'positive': False}. Best is trial 76 with value: 0.1314803740473565.\n",
      "[I 2025-06-02 10:16:08,319] Trial 120 finished with value: 0.13147617420477456 and parameters: {'alpha': 4.241951135577651, 'tol': 0.00898418355629654, 'fit_intercept': False, 'positive': False}. Best is trial 76 with value: 0.1314803740473565.\n",
      "[I 2025-06-02 10:16:09,306] Trial 122 finished with value: 0.11124482538578333 and parameters: {'alpha': 25.735081035282338, 'tol': 0.00864239472714433, 'fit_intercept': False, 'positive': True}. Best is trial 76 with value: 0.1314803740473565.\n",
      "[I 2025-06-02 10:16:11,044] Trial 123 finished with value: 0.13147779743106178 and parameters: {'alpha': 2.640739036320199, 'tol': 0.009714912613916219, 'fit_intercept': False, 'positive': False}. Best is trial 76 with value: 0.1314803740473565.\n",
      "[I 2025-06-02 10:16:11,834] Trial 124 finished with value: 0.13147378515073566 and parameters: {'alpha': 6.594659140162105, 'tol': 0.009612410336738845, 'fit_intercept': False, 'positive': False}. Best is trial 76 with value: 0.1314803740473565.\n",
      "[I 2025-06-02 10:16:12,248] Trial 125 finished with value: 0.1314744711896469 and parameters: {'alpha': 5.9195364258133, 'tol': 0.00939009689998439, 'fit_intercept': False, 'positive': False}. Best is trial 76 with value: 0.1314803740473565.\n",
      "[I 2025-06-02 10:16:12,866] Trial 126 finished with value: 0.13147977381244821 and parameters: {'alpha': 0.6882127841389967, 'tol': 0.009536107395843624, 'fit_intercept': False, 'positive': False}. Best is trial 76 with value: 0.1314803740473565.\n",
      "[I 2025-06-02 10:16:14,917] Trial 127 finished with value: 0.13147281276067066 and parameters: {'alpha': 7.550917842928069, 'tol': 0.009750409099923127, 'fit_intercept': False, 'positive': False}. Best is trial 76 with value: 0.1314803740473565.\n",
      "[I 2025-06-02 10:16:15,485] Trial 128 finished with value: 0.1314798087298376 and parameters: {'alpha': 0.653687622654407, 'tol': 0.00989210056068875, 'fit_intercept': False, 'positive': False}. Best is trial 76 with value: 0.1314803740473565.\n",
      "[I 2025-06-02 10:16:16,457] Trial 129 finished with value: 0.13147680621396338 and parameters: {'alpha': 3.6187720117428093, 'tol': 0.009810442987924783, 'fit_intercept': False, 'positive': False}. Best is trial 76 with value: 0.1314803740473565.\n",
      "[I 2025-06-02 10:16:16,690] Trial 130 finished with value: 0.13147681001317343 and parameters: {'alpha': 3.6150248853880598, 'tol': 0.009999018544792446, 'fit_intercept': False, 'positive': False}. Best is trial 76 with value: 0.1314803740473565.\n",
      "[I 2025-06-02 10:16:18,886] Trial 131 finished with value: 0.13147839197987524 and parameters: {'alpha': 2.0537078626196705, 'tol': 0.008444509163166938, 'fit_intercept': False, 'positive': False}. Best is trial 76 with value: 0.1314803740473565.\n",
      "[I 2025-06-02 10:16:19,311] Trial 132 finished with value: 0.11124332613204573 and parameters: {'alpha': 3.4639047018133717, 'tol': 0.009924292103030283, 'fit_intercept': False, 'positive': True}. Best is trial 76 with value: 0.1314803740473565.\n",
      "[I 2025-06-02 10:16:20,345] Trial 134 finished with value: 0.1252087424621157 and parameters: {'alpha': 1.2534713895181029, 'tol': 0.00966201551076891, 'fit_intercept': True, 'positive': False}. Best is trial 76 with value: 0.1314803740473565.\n",
      "[I 2025-06-02 10:16:20,892] Trial 133 finished with value: 0.11124343442957445 and parameters: {'alpha': 5.07126364844181, 'tol': 0.009173233871981636, 'fit_intercept': False, 'positive': True}. Best is trial 76 with value: 0.1314803740473565.\n",
      "[I 2025-06-02 10:16:23,224] Trial 136 finished with value: 0.13147972508678193 and parameters: {'alpha': 0.7363894139240335, 'tol': 0.00971976383511402, 'fit_intercept': False, 'positive': False}. Best is trial 76 with value: 0.1314803740473565.\n",
      "[I 2025-06-02 10:16:23,457] Trial 135 finished with value: 0.11473218986914609 and parameters: {'alpha': 2.30610910067867, 'tol': 0.008031386570431861, 'fit_intercept': False, 'positive': True}. Best is trial 76 with value: 0.1314803740473565.\n",
      "[I 2025-06-02 10:16:24,136] Trial 137 finished with value: 0.13147732737841294 and parameters: {'alpha': 3.1046408618845303, 'tol': 0.00618676697989806, 'fit_intercept': False, 'positive': False}. Best is trial 76 with value: 0.1314803740473565.\n",
      "[I 2025-06-02 10:16:24,839] Trial 138 finished with value: 0.13147995842655993 and parameters: {'alpha': 0.5056609165261279, 'tol': 0.009878975559768166, 'fit_intercept': False, 'positive': False}. Best is trial 76 with value: 0.1314803740473565.\n",
      "[I 2025-06-02 10:16:26,894] Trial 139 finished with value: 0.1314790800759291 and parameters: {'alpha': 1.373945852936438, 'tol': 0.00997564486556262, 'fit_intercept': False, 'positive': False}. Best is trial 76 with value: 0.1314803740473565.\n",
      "[I 2025-06-02 10:16:27,828] Trial 140 finished with value: 0.13148010516853395 and parameters: {'alpha': 0.3605378394303679, 'tol': 0.009262268364431066, 'fit_intercept': False, 'positive': False}. Best is trial 76 with value: 0.1314803740473565.\n",
      "[I 2025-06-02 10:16:27,881] Trial 141 finished with value: 0.13147521684351712 and parameters: {'alpha': 5.1853100506829755, 'tol': 0.00997460674919021, 'fit_intercept': False, 'positive': False}. Best is trial 76 with value: 0.1314803740473565.\n",
      "[I 2025-06-02 10:16:29,065] Trial 142 finished with value: 0.13147953911740867 and parameters: {'alpha': 0.9202451009021653, 'tol': 0.008636833058688903, 'fit_intercept': False, 'positive': False}. Best is trial 76 with value: 0.1314803740473565.\n",
      "[I 2025-06-02 10:16:30,602] Trial 143 finished with value: 0.13147822194446118 and parameters: {'alpha': 2.221623241142938, 'tol': 0.0084003810231514, 'fit_intercept': False, 'positive': False}. Best is trial 76 with value: 0.1314803740473565.\n",
      "[I 2025-06-02 10:16:31,726] Trial 145 finished with value: 0.13147747094487772 and parameters: {'alpha': 2.962972421647926, 'tol': 0.008796994306379617, 'fit_intercept': False, 'positive': False}. Best is trial 76 with value: 0.1314803740473565.\n",
      "[I 2025-06-02 10:16:31,757] Trial 144 finished with value: 0.13148016360656145 and parameters: {'alpha': 0.30273950925765925, 'tol': 0.008188417600319804, 'fit_intercept': False, 'positive': False}. Best is trial 76 with value: 0.1314803740473565.\n",
      "[I 2025-06-02 10:16:33,124] Trial 146 finished with value: 0.13147934014083812 and parameters: {'alpha': 1.1169282252190724, 'tol': 0.00836420830586055, 'fit_intercept': False, 'positive': False}. Best is trial 76 with value: 0.1314803740473565.\n",
      "[I 2025-06-02 10:16:34,458] Trial 147 finished with value: 0.13138306543394032 and parameters: {'alpha': 92.79110411669485, 'tol': 0.004392199439524135, 'fit_intercept': False, 'positive': False}. Best is trial 76 with value: 0.1314803740473565.\n",
      "[I 2025-06-02 10:16:35,397] Trial 148 finished with value: 0.13145159259541989 and parameters: {'alpha': 28.23153210561879, 'tol': 0.009716177452457155, 'fit_intercept': False, 'positive': False}. Best is trial 76 with value: 0.1314803740473565.\n",
      "[I 2025-06-02 10:16:35,624] Trial 149 finished with value: 0.1314783363463385 and parameters: {'alpha': 2.1086503908056624, 'tol': 0.007112636860815242, 'fit_intercept': False, 'positive': False}. Best is trial 76 with value: 0.1314803740473565.\n",
      "[I 2025-06-02 10:16:37,522] Trial 150 finished with value: 0.12516215338467757 and parameters: {'alpha': 30.701457149575084, 'tol': 0.009997964550874837, 'fit_intercept': True, 'positive': False}. Best is trial 76 with value: 0.1314803740473565.\n",
      "[I 2025-06-02 10:16:38,127] Trial 151 finished with value: 0.13144671175776204 and parameters: {'alpha': 32.939037555957746, 'tol': 0.00999175187051778, 'fit_intercept': False, 'positive': False}. Best is trial 76 with value: 0.1314803740473565.\n",
      "[I 2025-06-02 10:16:39,120] Trial 152 finished with value: 0.13147992986241824 and parameters: {'alpha': 0.5339078406977726, 'tol': 0.007685619616393191, 'fit_intercept': False, 'positive': False}. Best is trial 76 with value: 0.1314803740473565.\n",
      "[I 2025-06-02 10:16:39,566] Trial 153 finished with value: 0.1314801931477289 and parameters: {'alpha': 0.2735206315145597, 'tol': 0.007822787848022272, 'fit_intercept': False, 'positive': False}. Best is trial 76 with value: 0.1314803740473565.\n",
      "[I 2025-06-02 10:16:41,467] Trial 154 finished with value: 0.1314791489959035 and parameters: {'alpha': 1.3058389244945585, 'tol': 0.007210729951540347, 'fit_intercept': False, 'positive': False}. Best is trial 76 with value: 0.1314803740473565.\n",
      "[I 2025-06-02 10:16:41,852] Trial 155 finished with value: 0.13147846289023496 and parameters: {'alpha': 1.98367453530328, 'tol': 0.009846608939726827, 'fit_intercept': False, 'positive': False}. Best is trial 76 with value: 0.1314803740473565.\n",
      "[I 2025-06-02 10:16:42,804] Trial 156 finished with value: 0.13147983789343407 and parameters: {'alpha': 0.6248508418162169, 'tol': 0.008129286679191843, 'fit_intercept': False, 'positive': False}. Best is trial 76 with value: 0.1314803740473565.\n",
      "[I 2025-06-02 10:16:43,635] Trial 157 finished with value: 0.13146312915756575 and parameters: {'alpha': 17.03225862900346, 'tol': 0.006371504193791932, 'fit_intercept': False, 'positive': False}. Best is trial 76 with value: 0.1314803740473565.\n",
      "[I 2025-06-02 10:16:45,699] Trial 158 finished with value: 0.13147733779882292 and parameters: {'alpha': 3.094358789152537, 'tol': 0.007185197325031752, 'fit_intercept': False, 'positive': False}. Best is trial 76 with value: 0.1314803740473565.\n",
      "[I 2025-06-02 10:16:45,732] Trial 159 finished with value: 0.13147565883862536 and parameters: {'alpha': 4.749873240587053, 'tol': 0.007491711234084703, 'fit_intercept': False, 'positive': False}. Best is trial 76 with value: 0.1314803740473565.\n",
      "[I 2025-06-02 10:16:46,179] Trial 160 finished with value: 0.1314796718996485 and parameters: {'alpha': 0.7889749788604175, 'tol': 0.0071019040780940425, 'fit_intercept': False, 'positive': False}. Best is trial 76 with value: 0.1314803740473565.\n",
      "[I 2025-06-02 10:16:47,540] Trial 161 finished with value: 0.13147831869216905 and parameters: {'alpha': 2.126084745664819, 'tol': 0.007096596164229463, 'fit_intercept': False, 'positive': False}. Best is trial 76 with value: 0.1314803740473565.\n",
      "[I 2025-06-02 10:16:49,454] Trial 163 finished with value: 0.13148025341657868 and parameters: {'alpha': 0.21390704463053722, 'tol': 0.006414560646830174, 'fit_intercept': False, 'positive': False}. Best is trial 76 with value: 0.1314803740473565.\n",
      "[I 2025-06-02 10:16:50,031] Trial 162 finished with value: 0.13147988103347893 and parameters: {'alpha': 0.5821929355666494, 'tol': 0.007012289906096, 'fit_intercept': False, 'positive': False}. Best is trial 76 with value: 0.1314803740473565.\n",
      "[I 2025-06-02 10:16:50,076] Trial 164 finished with value: 0.13147957496856583 and parameters: {'alpha': 0.8848036637244014, 'tol': 0.009974887091980805, 'fit_intercept': False, 'positive': False}. Best is trial 76 with value: 0.1314803740473565.\n",
      "[I 2025-06-02 10:16:51,648] Trial 165 finished with value: 0.13148026207057037 and parameters: {'alpha': 0.20534689279762797, 'tol': 0.008647133594865752, 'fit_intercept': False, 'positive': False}. Best is trial 76 with value: 0.1314803740473565.\n",
      "[I 2025-06-02 10:16:53,029] Trial 166 finished with value: 0.13147517413050017 and parameters: {'alpha': 5.227380788773165, 'tol': 0.006824417484724387, 'fit_intercept': False, 'positive': False}. Best is trial 76 with value: 0.1314803740473565.\n",
      "[I 2025-06-02 10:16:53,643] Trial 168 finished with value: 0.13147406888972132 and parameters: {'alpha': 6.315481683227415, 'tol': 0.005778605061908066, 'fit_intercept': False, 'positive': False}. Best is trial 76 with value: 0.1314803740473565.\n",
      "[I 2025-06-02 10:16:54,802] Trial 167 finished with value: 0.11550318810364571 and parameters: {'alpha': 0.3929128797193898, 'tol': 0.0059454529261307575, 'fit_intercept': False, 'positive': True}. Best is trial 76 with value: 0.1314803740473565.\n",
      "[I 2025-06-02 10:16:55,687] Trial 169 finished with value: 0.13145715391240478 and parameters: {'alpha': 22.84565773456162, 'tol': 0.007082541288422526, 'fit_intercept': False, 'positive': False}. Best is trial 76 with value: 0.1314803740473565.\n",
      "[I 2025-06-02 10:16:56,900] Trial 170 finished with value: 0.13147976169214276 and parameters: {'alpha': 0.7001967040959429, 'tol': 0.006407357954640258, 'fit_intercept': False, 'positive': False}. Best is trial 76 with value: 0.1314803740473565.\n",
      "[I 2025-06-02 10:16:57,539] Trial 171 finished with value: 0.13145673367129143 and parameters: {'alpha': 23.253471054211257, 'tol': 0.0067114882621279615, 'fit_intercept': False, 'positive': False}. Best is trial 76 with value: 0.1314803740473565.\n",
      "[I 2025-06-02 10:16:59,286] Trial 172 finished with value: 0.12520824059496766 and parameters: {'alpha': 1.5729821641503978, 'tol': 0.007155937456650756, 'fit_intercept': True, 'positive': False}. Best is trial 76 with value: 0.1314803740473565.\n",
      "[I 2025-06-02 10:16:59,915] Trial 173 finished with value: 0.12520804153175377 and parameters: {'alpha': 1.6997004222105794, 'tol': 0.006575023049708057, 'fit_intercept': True, 'positive': False}. Best is trial 76 with value: 0.1314803740473565.\n",
      "[I 2025-06-02 10:17:00,484] Trial 174 finished with value: 0.13146036978583592 and parameters: {'alpha': 19.720354228828715, 'tol': 0.008065511760965273, 'fit_intercept': False, 'positive': False}. Best is trial 76 with value: 0.1314803740473565.\n",
      "[I 2025-06-02 10:17:01,138] Trial 175 finished with value: 0.13147956860052587 and parameters: {'alpha': 0.891099005626085, 'tol': 0.0072630440780308905, 'fit_intercept': False, 'positive': False}. Best is trial 76 with value: 0.1314803740473565.\n",
      "[I 2025-06-02 10:17:03,116] Trial 176 finished with value: 0.13148018869279943 and parameters: {'alpha': 0.2779270049936522, 'tol': 0.007436689288025383, 'fit_intercept': False, 'positive': False}. Best is trial 76 with value: 0.1314803740473565.\n",
      "[I 2025-06-02 10:17:04,286] Trial 178 finished with value: 0.1314795489790103 and parameters: {'alpha': 0.9104963081256079, 'tol': 0.007803235333135651, 'fit_intercept': False, 'positive': False}. Best is trial 76 with value: 0.1314803740473565.\n",
      "[I 2025-06-02 10:17:05,101] Trial 179 finished with value: 0.13147880700501247 and parameters: {'alpha': 1.6437565117906394, 'tol': 0.007543489317471135, 'fit_intercept': False, 'positive': False}. Best is trial 76 with value: 0.1314803740473565.\n",
      "[I 2025-06-02 10:17:05,138] Trial 177 finished with value: 0.12994849544736448 and parameters: {'alpha': 45.13544018733241, 'tol': 0.0014027188469949324, 'fit_intercept': False, 'positive': True}. Best is trial 76 with value: 0.1314803740473565.\n",
      "[I 2025-06-02 10:17:07,073] Trial 180 finished with value: 0.13147834605415804 and parameters: {'alpha': 2.099063334381011, 'tol': 0.007871988951099376, 'fit_intercept': False, 'positive': False}. Best is trial 76 with value: 0.1314803740473565.\n",
      "[I 2025-06-02 10:17:07,868] Trial 181 finished with value: 0.1314800198872172 and parameters: {'alpha': 0.44488049803435964, 'tol': 0.007770152383082396, 'fit_intercept': False, 'positive': False}. Best is trial 76 with value: 0.1314803740473565.\n",
      "[I 2025-06-02 10:17:08,862] Trial 182 finished with value: 0.1314792490570472 and parameters: {'alpha': 1.2069511601074314, 'tol': 0.005704540192427086, 'fit_intercept': False, 'positive': False}. Best is trial 76 with value: 0.1314803740473565.\n",
      "[I 2025-06-02 10:17:09,139] Trial 183 finished with value: 0.13147966172220255 and parameters: {'alpha': 0.7990370447879215, 'tol': 0.005825259848196449, 'fit_intercept': False, 'positive': False}. Best is trial 76 with value: 0.1314803740473565.\n",
      "[I 2025-06-02 10:17:11,373] Trial 184 finished with value: 0.131478875721147 and parameters: {'alpha': 1.5758666355625337, 'tol': 0.006968590071655149, 'fit_intercept': False, 'positive': False}. Best is trial 76 with value: 0.1314803740473565.\n",
      "[I 2025-06-02 10:17:11,603] Trial 185 finished with value: 0.13147934555171886 and parameters: {'alpha': 1.1115801479344842, 'tol': 0.0070017277436303866, 'fit_intercept': False, 'positive': False}. Best is trial 76 with value: 0.1314803740473565.\n",
      "[I 2025-06-02 10:17:12,580] Trial 186 finished with value: 0.13146283878866466 and parameters: {'alpha': 17.31540880050028, 'tol': 0.007972910790355768, 'fit_intercept': False, 'positive': False}. Best is trial 76 with value: 0.1314803740473565.\n",
      "[I 2025-06-02 10:17:13,143] Trial 187 finished with value: 0.13146169843763525 and parameters: {'alpha': 18.426768145220407, 'tol': 0.008183597409323212, 'fit_intercept': False, 'positive': False}. Best is trial 76 with value: 0.1314803740473565.\n",
      "[I 2025-06-02 10:17:15,394] Trial 189 finished with value: 0.13146047677411712 and parameters: {'alpha': 19.616240712471768, 'tol': 0.008204771843769105, 'fit_intercept': False, 'positive': False}. Best is trial 76 with value: 0.1314803740473565.\n",
      "[I 2025-06-02 10:17:15,587] Trial 188 finished with value: 0.13147964078858893 and parameters: {'alpha': 0.8197330658004228, 'tol': 0.008455709396742339, 'fit_intercept': False, 'positive': False}. Best is trial 76 with value: 0.1314803740473565.\n",
      "[I 2025-06-02 10:17:16,206] Trial 190 finished with value: 0.13147187340183975 and parameters: {'alpha': 8.473961842887045, 'tol': 0.008112874705923898, 'fit_intercept': False, 'positive': False}. Best is trial 76 with value: 0.1314803740473565.\n",
      "[I 2025-06-02 10:17:17,170] Trial 191 finished with value: 0.13147915947917602 and parameters: {'alpha': 1.295478976268793, 'tol': 0.007805868389339876, 'fit_intercept': False, 'positive': False}. Best is trial 76 with value: 0.1314803740473565.\n",
      "[I 2025-06-02 10:17:19,056] Trial 192 finished with value: 0.13147817211908022 and parameters: {'alpha': 2.270822843758594, 'tol': 0.008417846868965299, 'fit_intercept': False, 'positive': False}. Best is trial 76 with value: 0.1314803740473565.\n",
      "[I 2025-06-02 10:17:19,297] Trial 193 finished with value: 0.1314801567768976 and parameters: {'alpha': 0.3094945587732794, 'tol': 0.008050479136209257, 'fit_intercept': False, 'positive': False}. Best is trial 76 with value: 0.1314803740473565.\n",
      "[I 2025-06-02 10:17:19,864] Trial 194 finished with value: 0.13146743178265688 and parameters: {'alpha': 12.828773831651604, 'tol': 0.007633048683450721, 'fit_intercept': False, 'positive': False}. Best is trial 76 with value: 0.1314803740473565.\n",
      "[I 2025-06-02 10:17:21,225] Trial 195 finished with value: 0.13148041225652862 and parameters: {'alpha': 0.056779512431634926, 'tol': 0.008278408951337364, 'fit_intercept': False, 'positive': False}. Best is trial 195 with value: 0.13148041225652862.\n",
      "[I 2025-06-02 10:17:22,581] Trial 196 finished with value: 0.13147823127983255 and parameters: {'alpha': 2.2124048876186904, 'tol': 0.00806207177416647, 'fit_intercept': False, 'positive': False}. Best is trial 195 with value: 0.13148041225652862.\n",
      "[I 2025-06-02 10:17:23,698] Trial 197 finished with value: 0.1314786737541348 and parameters: {'alpha': 1.7753939635611902, 'tol': 0.007649911055023088, 'fit_intercept': False, 'positive': False}. Best is trial 195 with value: 0.13148041225652862.\n",
      "[I 2025-06-02 10:17:23,730] Trial 198 finished with value: 0.13148014596664354 and parameters: {'alpha': 0.3201866308211718, 'tol': 0.009154529586808248, 'fit_intercept': False, 'positive': False}. Best is trial 195 with value: 0.13148041225652862.\n",
      "[I 2025-06-02 10:17:25,272] Trial 199 finished with value: 0.1314778993579657 and parameters: {'alpha': 2.540121743123309, 'tol': 0.007174573711760918, 'fit_intercept': False, 'positive': False}. Best is trial 195 with value: 0.13148041225652862.\n",
      "[I 2025-06-02 10:17:26,411] Trial 200 finished with value: 0.13147960984973464 and parameters: {'alpha': 0.8503201009088849, 'tol': 0.008220921211142686, 'fit_intercept': False, 'positive': False}. Best is trial 195 with value: 0.13148041225652862.\n",
      "[I 2025-06-02 10:17:27,416] Trial 202 finished with value: 0.13147867012820036 and parameters: {'alpha': 1.7789757882718935, 'tol': 0.00871905609352407, 'fit_intercept': False, 'positive': False}. Best is trial 195 with value: 0.13148041225652862.\n",
      "[I 2025-06-02 10:17:27,480] Trial 201 finished with value: 0.1314790686234445 and parameters: {'alpha': 1.385262850040108, 'tol': 0.007830116032675253, 'fit_intercept': False, 'positive': False}. Best is trial 195 with value: 0.13148041225652862.\n",
      "[I 2025-06-02 10:17:29,657] Trial 203 finished with value: 0.1314799969353184 and parameters: {'alpha': 0.467578737064726, 'tol': 0.009576757482241249, 'fit_intercept': False, 'positive': False}. Best is trial 195 with value: 0.13148041225652862.\n",
      "[I 2025-06-02 10:17:30,265] Trial 204 finished with value: 0.13148001204105483 and parameters: {'alpha': 0.4526399956611485, 'tol': 0.008423255246053921, 'fit_intercept': False, 'positive': False}. Best is trial 195 with value: 0.13148041225652862.\n",
      "[I 2025-06-02 10:17:31,055] Trial 205 finished with value: 0.13147923252054505 and parameters: {'alpha': 1.2232943198394408, 'tol': 0.008807565613137168, 'fit_intercept': False, 'positive': False}. Best is trial 195 with value: 0.13148041225652862.\n",
      "[I 2025-06-02 10:17:31,451] Trial 206 finished with value: 0.13145952337225553 and parameters: {'alpha': 20.54370980505136, 'tol': 0.009120625462517223, 'fit_intercept': False, 'positive': False}. Best is trial 195 with value: 0.13148041225652862.\n",
      "[I 2025-06-02 10:17:33,769] Trial 207 finished with value: 0.13148024752746149 and parameters: {'alpha': 0.2197322670761836, 'tol': 0.009345301278317768, 'fit_intercept': False, 'positive': False}. Best is trial 195 with value: 0.13148041225652862.\n",
      "[I 2025-06-02 10:17:33,975] Trial 208 finished with value: 0.1314795472641092 and parameters: {'alpha': 0.9121915978954405, 'tol': 0.009490510205920382, 'fit_intercept': False, 'positive': False}. Best is trial 195 with value: 0.13148041225652862.\n",
      "[I 2025-06-02 10:17:34,922] Trial 209 finished with value: 0.1314803828315518 and parameters: {'alpha': 0.08588885670058427, 'tol': 0.00996799698702907, 'fit_intercept': False, 'positive': False}. Best is trial 195 with value: 0.13148041225652862.\n",
      "[I 2025-06-02 10:17:35,525] Trial 210 finished with value: 0.13147213530100865 and parameters: {'alpha': 8.21668348236593, 'tol': 0.00998048122576517, 'fit_intercept': False, 'positive': False}. Best is trial 195 with value: 0.13148041225652862.\n",
      "[I 2025-06-02 10:17:37,800] Trial 212 finished with value: 0.13148035537497318 and parameters: {'alpha': 0.11305026447171282, 'tol': 0.009797212795641896, 'fit_intercept': False, 'positive': False}. Best is trial 195 with value: 0.13148041225652862.\n",
      "[I 2025-06-02 10:17:37,834] Trial 211 finished with value: 0.13147736789787118 and parameters: {'alpha': 3.064658819745881, 'tol': 0.00976813874597446, 'fit_intercept': False, 'positive': False}. Best is trial 195 with value: 0.13148041225652862.\n",
      "[I 2025-06-02 10:17:38,657] Trial 213 finished with value: 0.13147644234070754 and parameters: {'alpha': 3.977601679817523, 'tol': 0.009445772709322175, 'fit_intercept': False, 'positive': False}. Best is trial 195 with value: 0.13148041225652862.\n",
      "[I 2025-06-02 10:17:39,623] Trial 214 finished with value: 0.13147781553141127 and parameters: {'alpha': 2.622871878438903, 'tol': 0.00956408236446861, 'fit_intercept': False, 'positive': False}. Best is trial 195 with value: 0.13148041225652862.\n",
      "[I 2025-06-02 10:17:41,344] Trial 215 finished with value: 0.13146240722885852 and parameters: {'alpha': 17.736117113743422, 'tol': 0.009709800433864544, 'fit_intercept': False, 'positive': False}. Best is trial 195 with value: 0.13148041225652862.\n",
      "[I 2025-06-02 10:17:41,741] Trial 216 finished with value: 0.1314614861155414 and parameters: {'alpha': 18.63357947784457, 'tol': 0.009644372529409044, 'fit_intercept': False, 'positive': False}. Best is trial 195 with value: 0.13148041225652862.\n",
      "[I 2025-06-02 10:17:42,319] Trial 217 finished with value: 0.13147520917115837 and parameters: {'alpha': 5.1928671500252195, 'tol': 0.009769912078593958, 'fit_intercept': False, 'positive': False}. Best is trial 195 with value: 0.13148041225652862.\n",
      "[I 2025-06-02 10:17:43,637] Trial 218 finished with value: 0.13146418526171366 and parameters: {'alpha': 16.001848756028686, 'tol': 0.00989722617909913, 'fit_intercept': False, 'positive': False}. Best is trial 195 with value: 0.13148041225652862.\n",
      "[I 2025-06-02 10:17:45,213] Trial 219 finished with value: 0.13148002337268294 and parameters: {'alpha': 0.44143351447493173, 'tol': 0.00856159622257667, 'fit_intercept': False, 'positive': False}. Best is trial 195 with value: 0.13148041225652862.\n",
      "[I 2025-06-02 10:17:45,617] Trial 220 finished with value: 0.1314790709717046 and parameters: {'alpha': 1.3829423796103413, 'tol': 0.009705624832815549, 'fit_intercept': False, 'positive': False}. Best is trial 195 with value: 0.13148041225652862.\n",
      "[I 2025-06-02 10:17:46,188] Trial 221 finished with value: 0.13148000233593288 and parameters: {'alpha': 0.4622378486132529, 'tol': 0.009489351394186737, 'fit_intercept': False, 'positive': False}. Best is trial 195 with value: 0.13148041225652862.\n",
      "[I 2025-06-02 10:17:47,724] Trial 222 finished with value: 0.1314793276116204 and parameters: {'alpha': 1.1293119246220096, 'tol': 0.009777552587564062, 'fit_intercept': False, 'positive': False}. Best is trial 195 with value: 0.13148041225652862.\n",
      "[I 2025-06-02 10:17:49,050] Trial 223 finished with value: 0.13147882910931258 and parameters: {'alpha': 1.621918427192063, 'tol': 0.009374796397503037, 'fit_intercept': False, 'positive': False}. Best is trial 195 with value: 0.13148041225652862.\n",
      "[I 2025-06-02 10:17:49,830] Trial 224 finished with value: 0.1314803386429778 and parameters: {'alpha': 0.12960207408699248, 'tol': 0.009709200037149522, 'fit_intercept': False, 'positive': False}. Best is trial 195 with value: 0.13148041225652862.\n",
      "[I 2025-06-02 10:17:49,878] Trial 225 finished with value: 0.13147621283499542 and parameters: {'alpha': 4.203870084649129, 'tol': 0.008522402629453654, 'fit_intercept': False, 'positive': False}. Best is trial 195 with value: 0.13148041225652862.\n",
      "[I 2025-06-02 10:17:51,869] Trial 226 finished with value: 0.13147924134668632 and parameters: {'alpha': 1.2145714008942714, 'tol': 0.008657001266631655, 'fit_intercept': False, 'positive': False}. Best is trial 195 with value: 0.13148041225652862.\n",
      "[I 2025-06-02 10:17:52,520] Trial 227 finished with value: 0.1314793008151697 and parameters: {'alpha': 1.1557967138534888, 'tol': 0.008658420279734657, 'fit_intercept': False, 'positive': False}. Best is trial 195 with value: 0.13148041225652862.\n",
      "[I 2025-06-02 10:17:53,696] Trial 228 finished with value: 0.12518469108547756 and parameters: {'alpha': 16.508852558687046, 'tol': 0.009087386644219415, 'fit_intercept': True, 'positive': False}. Best is trial 195 with value: 0.13148041225652862.\n",
      "[I 2025-06-02 10:17:54,310] Trial 229 finished with value: 0.1224228574147262 and parameters: {'alpha': 30.708650912916912, 'tol': 0.002667487910317374, 'fit_intercept': True, 'positive': True}. Best is trial 195 with value: 0.13148041225652862.\n",
      "[I 2025-06-02 10:17:56,045] Trial 230 finished with value: 0.12519315708354814 and parameters: {'alpha': 11.152133240120017, 'tol': 0.009713980472554276, 'fit_intercept': True, 'positive': False}. Best is trial 195 with value: 0.13148041225652862.\n",
      "[I 2025-06-02 10:17:56,695] Trial 231 finished with value: 0.10306646667358836 and parameters: {'alpha': 6.968514994282648, 'tol': 0.008956302920254936, 'fit_intercept': True, 'positive': True}. Best is trial 195 with value: 0.13148041225652862.\n",
      "[I 2025-06-02 10:17:57,481] Trial 232 finished with value: 0.13148012562706454 and parameters: {'alpha': 0.34030358459215254, 'tol': 0.007542681366659245, 'fit_intercept': False, 'positive': False}. Best is trial 195 with value: 0.13148041225652862.\n",
      "[I 2025-06-02 10:17:57,914] Trial 233 finished with value: 0.13146791512732864 and parameters: {'alpha': 12.355645081293, 'tol': 0.008085400001831831, 'fit_intercept': False, 'positive': False}. Best is trial 195 with value: 0.13148041225652862.\n",
      "[I 2025-06-02 10:18:00,049] Trial 234 finished with value: 0.13147844075469306 and parameters: {'alpha': 2.005536749065661, 'tol': 0.009710219509505008, 'fit_intercept': False, 'positive': False}. Best is trial 195 with value: 0.13148041225652862.\n",
      "[I 2025-06-02 10:18:01,309] Trial 235 finished with value: 0.1227951782905831 and parameters: {'alpha': 81.46860305079872, 'tol': 0.00043028747733630905, 'fit_intercept': True, 'positive': True}. Best is trial 195 with value: 0.13148041225652862.\n",
      "[I 2025-06-02 10:18:01,893] Trial 236 finished with value: 0.13141915536604445 and parameters: {'alpha': 59.190794883770664, 'tol': 0.004188876977531516, 'fit_intercept': False, 'positive': False}. Best is trial 195 with value: 0.13148041225652862.\n",
      "[I 2025-06-02 10:18:01,903] Trial 237 finished with value: 0.1314779774466163 and parameters: {'alpha': 2.463030591002014, 'tol': 0.0051270712596365306, 'fit_intercept': False, 'positive': False}. Best is trial 195 with value: 0.13148041225652862.\n",
      "[I 2025-06-02 10:18:04,008] Trial 238 finished with value: 0.13147902976781692 and parameters: {'alpha': 1.4236579863806635, 'tol': 0.004335547200598759, 'fit_intercept': False, 'positive': False}. Best is trial 195 with value: 0.13148041225652862.\n",
      "[I 2025-06-02 10:18:05,320] Trial 239 finished with value: 0.13147988019681264 and parameters: {'alpha': 0.5830202659221169, 'tol': 0.007380744304937559, 'fit_intercept': False, 'positive': False}. Best is trial 195 with value: 0.13148041225652862.\n",
      "[I 2025-06-02 10:18:05,534] Trial 241 finished with value: 0.1314796704175715 and parameters: {'alpha': 0.7904402591589728, 'tol': 0.008706481127466538, 'fit_intercept': False, 'positive': False}. Best is trial 195 with value: 0.13148041225652862.\n",
      "[I 2025-06-02 10:18:05,732] Trial 240 finished with value: 0.131480340898341 and parameters: {'alpha': 0.12737101243680538, 'tol': 0.008138418696146286, 'fit_intercept': False, 'positive': False}. Best is trial 195 with value: 0.13148041225652862.\n",
      "[I 2025-06-02 10:18:08,213] Trial 242 finished with value: 0.1314785818709952 and parameters: {'alpha': 1.8661559690499594, 'tol': 0.007715620540944515, 'fit_intercept': False, 'positive': False}. Best is trial 195 with value: 0.13148041225652862.\n",
      "[I 2025-06-02 10:18:09,035] Trial 243 finished with value: 0.13147686884555704 and parameters: {'alpha': 3.556997518997215, 'tol': 0.00817346018817954, 'fit_intercept': False, 'positive': False}. Best is trial 195 with value: 0.13148041225652862.\n",
      "[I 2025-06-02 10:18:09,259] Trial 244 finished with value: 0.1314780412062463 and parameters: {'alpha': 2.4000816726286742, 'tol': 0.008056011205667672, 'fit_intercept': False, 'positive': False}. Best is trial 195 with value: 0.13148041225652862.\n",
      "[I 2025-06-02 10:18:09,667] Trial 245 finished with value: 0.13147871616117265 and parameters: {'alpha': 1.7335019990580967, 'tol': 0.008009034883263202, 'fit_intercept': False, 'positive': False}. Best is trial 195 with value: 0.13148041225652862.\n",
      "[I 2025-06-02 10:18:12,302] Trial 246 finished with value: 0.13147955788294333 and parameters: {'alpha': 0.9016941592423889, 'tol': 0.008389775521813072, 'fit_intercept': False, 'positive': False}. Best is trial 195 with value: 0.13148041225652862.\n",
      "[I 2025-06-02 10:18:12,709] Trial 247 finished with value: 0.1314759185267981 and parameters: {'alpha': 4.49396338232365, 'tol': 0.007773346384592685, 'fit_intercept': False, 'positive': False}. Best is trial 195 with value: 0.13148041225652862.\n",
      "[I 2025-06-02 10:18:12,927] Trial 248 finished with value: 0.13137583947771297 and parameters: {'alpha': 99.41947154951309, 'tol': 0.009925630836635939, 'fit_intercept': False, 'positive': False}. Best is trial 195 with value: 0.13148041225652862.\n",
      "[I 2025-06-02 10:18:13,695] Trial 249 finished with value: 0.1314787818511579 and parameters: {'alpha': 1.6686069290974788, 'tol': 0.008808314706629709, 'fit_intercept': False, 'positive': False}. Best is trial 195 with value: 0.13148041225652862.\n",
      "[I 2025-06-02 10:18:16,339] Trial 250 finished with value: 0.13147947108725183 and parameters: {'alpha': 0.9874948394610088, 'tol': 0.008111744618953478, 'fit_intercept': False, 'positive': False}. Best is trial 195 with value: 0.13148041225652862.\n",
      "[I 2025-06-02 10:18:16,540] Trial 251 finished with value: 0.13148035010943238 and parameters: {'alpha': 0.11825912617283885, 'tol': 0.007649194666432987, 'fit_intercept': False, 'positive': False}. Best is trial 195 with value: 0.13148041225652862.\n",
      "[I 2025-06-02 10:18:16,761] Trial 252 finished with value: 0.13148031754517728 and parameters: {'alpha': 0.1504723403100766, 'tol': 0.007884265772125266, 'fit_intercept': False, 'positive': False}. Best is trial 195 with value: 0.13148041225652862.\n",
      "[I 2025-06-02 10:18:17,553] Trial 253 finished with value: 0.13147905220117537 and parameters: {'alpha': 1.4014906466314172, 'tol': 0.00022597519803220067, 'fit_intercept': False, 'positive': False}. Best is trial 195 with value: 0.13148041225652862.\n",
      "[I 2025-06-02 10:18:20,433] Trial 255 finished with value: 0.1314626248518526 and parameters: {'alpha': 17.523984532877733, 'tol': 0.005500838910205787, 'fit_intercept': False, 'positive': False}. Best is trial 195 with value: 0.13148041225652862.\n",
      "[I 2025-06-02 10:18:20,437] Trial 254 finished with value: 0.13146128966250514 and parameters: {'alpha': 18.82490214494658, 'tol': 0.005320655796451238, 'fit_intercept': False, 'positive': False}. Best is trial 195 with value: 0.13148041225652862.\n",
      "[I 2025-06-02 10:18:20,482] Trial 256 finished with value: 0.13146249334132026 and parameters: {'alpha': 17.652181639377027, 'tol': 0.006171383107956511, 'fit_intercept': False, 'positive': False}. Best is trial 195 with value: 0.13148041225652862.\n",
      "[I 2025-06-02 10:18:21,685] Trial 257 finished with value: 0.1314575030151623 and parameters: {'alpha': 22.506775203741164, 'tol': 0.005849253948719905, 'fit_intercept': False, 'positive': False}. Best is trial 195 with value: 0.13148041225652862.\n",
      "[I 2025-06-02 10:18:23,989] Trial 258 finished with value: 0.13146032910245603 and parameters: {'alpha': 19.759942103446363, 'tol': 0.0068728645460731, 'fit_intercept': False, 'positive': False}. Best is trial 195 with value: 0.13148041225652862.\n",
      "[I 2025-06-02 10:18:24,194] Trial 260 finished with value: 0.13147694337670376 and parameters: {'alpha': 3.4834820944087657, 'tol': 0.0071567304668591, 'fit_intercept': False, 'positive': False}. Best is trial 195 with value: 0.13148041225652862.\n",
      "[I 2025-06-02 10:18:24,494] Trial 259 finished with value: 0.1147321892345742 and parameters: {'alpha': 2.2746570013344964, 'tol': 0.007509528335291648, 'fit_intercept': False, 'positive': True}. Best is trial 195 with value: 0.13148041225652862.\n",
      "[I 2025-06-02 10:18:25,767] Trial 261 finished with value: 0.13147879406846533 and parameters: {'alpha': 1.6565370678801035, 'tol': 0.007277837071429294, 'fit_intercept': False, 'positive': False}. Best is trial 195 with value: 0.13148041225652862.\n",
      "[I 2025-06-02 10:18:27,851] Trial 263 finished with value: 0.1314795872423322 and parameters: {'alpha': 0.8726699200842478, 'tol': 0.006068713022475496, 'fit_intercept': False, 'positive': False}. Best is trial 195 with value: 0.13148041225652862.\n",
      "[I 2025-06-02 10:18:27,888] Trial 262 finished with value: 0.12518582399110065 and parameters: {'alpha': 15.792841197780593, 'tol': 0.00270178373905204, 'fit_intercept': True, 'positive': False}. Best is trial 195 with value: 0.13148041225652862.\n",
      "[I 2025-06-02 10:18:28,842] Trial 264 finished with value: 0.13147815811656258 and parameters: {'alpha': 2.2846491268411584, 'tol': 0.005945215497822157, 'fit_intercept': False, 'positive': False}. Best is trial 195 with value: 0.13148041225652862.\n",
      "[I 2025-06-02 10:18:29,666] Trial 265 finished with value: 0.13148042820220718 and parameters: {'alpha': 0.04100457567310717, 'tol': 0.007344502716046175, 'fit_intercept': False, 'positive': False}. Best is trial 265 with value: 0.13148042820220718.\n",
      "[I 2025-06-02 10:18:31,506] Trial 267 finished with value: 0.1314596995260668 and parameters: {'alpha': 20.372400818465216, 'tol': 0.00810623733973737, 'fit_intercept': False, 'positive': False}. Best is trial 265 with value: 0.13148042820220718.\n",
      "[I 2025-06-02 10:18:31,507] Trial 266 finished with value: 0.13146107739624907 and parameters: {'alpha': 19.03159107861774, 'tol': 0.008129903152618174, 'fit_intercept': False, 'positive': False}. Best is trial 265 with value: 0.13148042820220718.\n",
      "[I 2025-06-02 10:18:32,748] Trial 268 finished with value: 0.13146089271452038 and parameters: {'alpha': 19.211391568530615, 'tol': 0.008127508278030214, 'fit_intercept': False, 'positive': False}. Best is trial 265 with value: 0.13148042820220718.\n",
      "[I 2025-06-02 10:18:34,688] Trial 269 finished with value: 0.10306703384516924 and parameters: {'alpha': 48.59724616050163, 'tol': 0.009314047029042007, 'fit_intercept': True, 'positive': True}. Best is trial 265 with value: 0.13148042820220718.\n",
      "[I 2025-06-02 10:18:35,289] Trial 271 finished with value: 0.13146202358994621 and parameters: {'alpha': 18.1099864989161, 'tol': 0.008539467311480817, 'fit_intercept': False, 'positive': False}. Best is trial 265 with value: 0.13148042820220718.\n",
      "[I 2025-06-02 10:18:35,311] Trial 270 finished with value: 0.13148024569771466 and parameters: {'alpha': 0.22154215603459257, 'tol': 0.008162597572829527, 'fit_intercept': False, 'positive': False}. Best is trial 265 with value: 0.13148042820220718.\n",
      "[I 2025-06-02 10:18:36,456] Trial 272 finished with value: 0.13148031762306872 and parameters: {'alpha': 0.1503952895084229, 'tol': 0.007675631127450268, 'fit_intercept': False, 'positive': False}. Best is trial 265 with value: 0.13148042820220718.\n",
      "[I 2025-06-02 10:18:38,554] Trial 273 finished with value: 0.1314798873936526 and parameters: {'alpha': 0.5759037125800008, 'tol': 0.008091221664730891, 'fit_intercept': False, 'positive': False}. Best is trial 265 with value: 0.13148042820220718.\n",
      "[I 2025-06-02 10:18:39,114] Trial 274 finished with value: 0.13147859217653785 and parameters: {'alpha': 1.8559765212474626, 'tol': 0.007574120172196907, 'fit_intercept': False, 'positive': False}. Best is trial 265 with value: 0.13148042820220718.\n",
      "[I 2025-06-02 10:18:39,143] Trial 275 finished with value: 0.13147396218961077 and parameters: {'alpha': 6.420474153025652, 'tol': 0.007229149294927316, 'fit_intercept': False, 'positive': False}. Best is trial 265 with value: 0.13148042820220718.\n",
      "[I 2025-06-02 10:18:40,658] Trial 276 finished with value: 0.13147955833877015 and parameters: {'alpha': 0.9012435413645252, 'tol': 0.006865723609196582, 'fit_intercept': False, 'positive': False}. Best is trial 265 with value: 0.13148042820220718.\n",
      "[I 2025-06-02 10:18:42,764] Trial 278 finished with value: 0.13147803158374982 and parameters: {'alpha': 2.4095820338358034, 'tol': 0.0017813775970212807, 'fit_intercept': False, 'positive': False}. Best is trial 265 with value: 0.13148042820220718.\n",
      "[I 2025-06-02 10:18:42,791] Trial 279 finished with value: 0.13148017512719914 and parameters: {'alpha': 0.2913446467254893, 'tol': 0.0026804119051924685, 'fit_intercept': False, 'positive': False}. Best is trial 265 with value: 0.13148042820220718.\n",
      "[I 2025-06-02 10:18:42,792] Trial 277 finished with value: 0.13148036260880216 and parameters: {'alpha': 0.10589426367685545, 'tol': 0.006259262550440291, 'fit_intercept': False, 'positive': False}. Best is trial 265 with value: 0.13148042820220718.\n",
      "[I 2025-06-02 10:18:44,759] Trial 280 finished with value: 0.13148013871250042 and parameters: {'alpha': 0.32736141392706775, 'tol': 0.00793027143966049, 'fit_intercept': False, 'positive': False}. Best is trial 265 with value: 0.13148042820220718.\n",
      "[I 2025-06-02 10:18:46,300] Trial 281 finished with value: 0.13147880073219212 and parameters: {'alpha': 1.6499537108588562, 'tol': 0.006663905505301396, 'fit_intercept': False, 'positive': False}. Best is trial 265 with value: 0.13148042820220718.\n",
      "[I 2025-06-02 10:18:46,696] Trial 283 finished with value: 0.13146745358895118 and parameters: {'alpha': 12.807432460247211, 'tol': 0.0023868468470403187, 'fit_intercept': False, 'positive': False}. Best is trial 265 with value: 0.13148042820220718.\n",
      "[I 2025-06-02 10:18:46,732] Trial 282 finished with value: 0.13146409840904097 and parameters: {'alpha': 16.086621624389362, 'tol': 0.0032017756423640725, 'fit_intercept': False, 'positive': False}. Best is trial 265 with value: 0.13148042820220718.\n",
      "[I 2025-06-02 10:18:49,219] Trial 284 finished with value: 0.12506862248989897 and parameters: {'alpha': 88.613937290848, 'tol': 0.0062636816121072695, 'fit_intercept': True, 'positive': False}. Best is trial 265 with value: 0.13148042820220718.\n",
      "[I 2025-06-02 10:18:50,014] Trial 285 finished with value: 0.13147907897393526 and parameters: {'alpha': 1.3750348144555369, 'tol': 0.004020543980737247, 'fit_intercept': False, 'positive': False}. Best is trial 265 with value: 0.13148042820220718.\n",
      "[I 2025-06-02 10:18:50,243] Trial 286 finished with value: 0.1314789090934474 and parameters: {'alpha': 1.5428941945975305, 'tol': 0.0021664627681006817, 'fit_intercept': False, 'positive': False}. Best is trial 265 with value: 0.13148042820220718.\n",
      "[I 2025-06-02 10:18:50,655] Trial 287 finished with value: 0.13147163634911974 and parameters: {'alpha': 8.706784111484762, 'tol': 0.003495587775249212, 'fit_intercept': False, 'positive': False}. Best is trial 265 with value: 0.13148042820220718.\n",
      "[I 2025-06-02 10:18:53,272] Trial 288 finished with value: 0.131477694796665 and parameters: {'alpha': 2.7420460342197877, 'tol': 0.0019849118786871753, 'fit_intercept': False, 'positive': False}. Best is trial 265 with value: 0.13148042820220718.\n",
      "[I 2025-06-02 10:18:53,534] Trial 289 finished with value: 0.1314789947095538 and parameters: {'alpha': 1.4582996841500644, 'tol': 0.001350765699117805, 'fit_intercept': False, 'positive': False}. Best is trial 265 with value: 0.13148042820220718.\n",
      "[I 2025-06-02 10:18:53,932] Trial 290 finished with value: 0.1314804398259257 and parameters: {'alpha': 0.029505186622384882, 'tol': 0.005859733143142827, 'fit_intercept': False, 'positive': False}. Best is trial 290 with value: 0.1314804398259257.\n",
      "[I 2025-06-02 10:18:54,717] Trial 291 finished with value: 0.13147316275638865 and parameters: {'alpha': 7.2068171960080285, 'tol': 0.006157026143178867, 'fit_intercept': False, 'positive': False}. Best is trial 290 with value: 0.1314804398259257.\n",
      "[I 2025-06-02 10:18:57,383] Trial 292 finished with value: 0.1314768394097878 and parameters: {'alpha': 3.586030869106396, 'tol': 0.00512437561503281, 'fit_intercept': False, 'positive': False}. Best is trial 290 with value: 0.1314804398259257.\n",
      "[I 2025-06-02 10:18:57,563] Trial 293 finished with value: 0.1314799891649674 and parameters: {'alpha': 0.4752631120279905, 'tol': 0.005031723424547167, 'fit_intercept': False, 'positive': False}. Best is trial 290 with value: 0.1314804398259257.\n",
      "[I 2025-06-02 10:18:57,626] Trial 294 finished with value: 0.13147481531970587 and parameters: {'alpha': 5.5807369877009565, 'tol': 0.005558141430033607, 'fit_intercept': False, 'positive': False}. Best is trial 290 with value: 0.1314804398259257.\n",
      "[I 2025-06-02 10:18:59,024] Trial 295 finished with value: 0.13146955949419292 and parameters: {'alpha': 10.74463000186481, 'tol': 0.0057599234907554754, 'fit_intercept': False, 'positive': False}. Best is trial 290 with value: 0.1314804398259257.\n",
      "[I 2025-06-02 10:19:01,171] Trial 297 finished with value: 0.13147417649893764 and parameters: {'alpha': 6.209585224190917, 'tol': 0.005896803965632124, 'fit_intercept': False, 'positive': False}. Best is trial 290 with value: 0.1314804398259257.\n",
      "[I 2025-06-02 10:19:01,383] Trial 296 finished with value: 0.13147824249299989 and parameters: {'alpha': 2.201332180457472, 'tol': 0.005793799292777457, 'fit_intercept': False, 'positive': False}. Best is trial 290 with value: 0.1314804398259257.\n",
      "[I 2025-06-02 10:19:02,067] Trial 298 finished with value: 0.11915007945264497 and parameters: {'alpha': 0.07709234862236744, 'tol': 0.0043919997475841115, 'fit_intercept': False, 'positive': True}. Best is trial 290 with value: 0.1314804398259257.\n",
      "[I 2025-06-02 10:19:02,741] Trial 299 finished with value: 0.1314784453956326 and parameters: {'alpha': 2.0009531491431063, 'tol': 0.005940757632667946, 'fit_intercept': False, 'positive': False}. Best is trial 290 with value: 0.1314804398259257.\n",
      "[I 2025-06-02 10:19:04,788] Trial 300 finished with value: 0.1314787570248821 and parameters: {'alpha': 1.6931332035438014, 'tol': 0.0069997211394737646, 'fit_intercept': False, 'positive': False}. Best is trial 290 with value: 0.1314804398259257.\n",
      "[I 2025-06-02 10:19:06,171] Trial 302 finished with value: 0.13148033268654832 and parameters: {'alpha': 0.13549430278861394, 'tol': 0.007502274374098585, 'fit_intercept': False, 'positive': False}. Best is trial 290 with value: 0.1314804398259257.\n",
      "[I 2025-06-02 10:19:06,219] Trial 301 finished with value: 0.11915009566979429 and parameters: {'alpha': 3.046437574141433, 'tol': 0.004624836456144336, 'fit_intercept': False, 'positive': True}. Best is trial 290 with value: 0.1314804398259257.\n",
      "[I 2025-06-02 10:19:07,030] Trial 303 finished with value: 0.13148005133647742 and parameters: {'alpha': 0.41377809436112034, 'tol': 0.004228571373312171, 'fit_intercept': False, 'positive': False}. Best is trial 290 with value: 0.1314804398259257.\n",
      "[I 2025-06-02 10:19:08,779] Trial 304 finished with value: 0.1314796752321555 and parameters: {'alpha': 0.7856802331811477, 'tol': 0.007872421167736465, 'fit_intercept': False, 'positive': False}. Best is trial 290 with value: 0.1314804398259257.\n",
      "[I 2025-06-02 10:19:09,760] Trial 305 finished with value: 0.13147906314239047 and parameters: {'alpha': 1.3906790222478211, 'tol': 0.003852648452101702, 'fit_intercept': False, 'positive': False}. Best is trial 290 with value: 0.1314804398259257.\n",
      "[I 2025-06-02 10:19:10,346] Trial 306 finished with value: 0.13147953357244666 and parameters: {'alpha': 0.9257265975089589, 'tol': 0.004677287752672416, 'fit_intercept': False, 'positive': False}. Best is trial 290 with value: 0.1314804398259257.\n",
      "[I 2025-06-02 10:19:10,942] Trial 307 finished with value: 0.1314803874004286 and parameters: {'alpha': 0.08136903636220993, 'tol': 0.0070836408121662565, 'fit_intercept': False, 'positive': False}. Best is trial 290 with value: 0.1314804398259257.\n",
      "[I 2025-06-02 10:19:12,304] Trial 308 finished with value: 0.13148025790461282 and parameters: {'alpha': 0.20946768446475186, 'tol': 0.005025311620772648, 'fit_intercept': False, 'positive': False}. Best is trial 290 with value: 0.1314804398259257.\n",
      "[I 2025-06-02 10:19:13,628] Trial 309 finished with value: 0.1251902132362135 and parameters: {'alpha': 13.016403789243011, 'tol': 0.007184230085356719, 'fit_intercept': True, 'positive': False}. Best is trial 290 with value: 0.1314804398259257.\n",
      "[I 2025-06-02 10:19:14,232] Trial 310 finished with value: 0.1314796636552703 and parameters: {'alpha': 0.7971258985323117, 'tol': 0.006024556380402115, 'fit_intercept': False, 'positive': False}. Best is trial 290 with value: 0.1314804398259257.\n",
      "[I 2025-06-02 10:19:15,003] Trial 311 finished with value: 0.13148027635975704 and parameters: {'alpha': 0.1912125144702956, 'tol': 0.006341757689458853, 'fit_intercept': False, 'positive': False}. Best is trial 290 with value: 0.1314804398259257.\n",
      "[I 2025-06-02 10:19:16,349] Trial 312 finished with value: 0.12518843186891682 and parameters: {'alpha': 14.143672344334707, 'tol': 0.006425917390490658, 'fit_intercept': True, 'positive': False}. Best is trial 290 with value: 0.1314804398259257.\n",
      "[I 2025-06-02 10:19:16,987] Trial 313 finished with value: 0.13146008357831498 and parameters: {'alpha': 19.998827432575336, 'tol': 0.007855131713124375, 'fit_intercept': False, 'positive': False}. Best is trial 290 with value: 0.1314804398259257.\n",
      "[I 2025-06-02 10:19:18,354] Trial 314 finished with value: 0.13145864029301538 and parameters: {'alpha': 21.40213732158088, 'tol': 0.007444905761042486, 'fit_intercept': False, 'positive': False}. Best is trial 290 with value: 0.1314804398259257.\n",
      "[I 2025-06-02 10:19:18,964] Trial 315 finished with value: 0.13146288882395477 and parameters: {'alpha': 17.266622152683265, 'tol': 0.006582584984862202, 'fit_intercept': False, 'positive': False}. Best is trial 290 with value: 0.1314804398259257.\n",
      "[I 2025-06-02 10:19:20,290] Trial 316 finished with value: 0.13146269076113917 and parameters: {'alpha': 17.45973071935796, 'tol': 0.00645543556222117, 'fit_intercept': False, 'positive': False}. Best is trial 290 with value: 0.1314804398259257.\n",
      "[I 2025-06-02 10:19:21,101] Trial 317 finished with value: 0.1250938336934025 and parameters: {'alpha': 73.15295569066573, 'tol': 0.009970412427686861, 'fit_intercept': True, 'positive': False}. Best is trial 290 with value: 0.1314804398259257.\n",
      "[I 2025-06-02 10:19:22,259] Trial 318 finished with value: 0.1314776291859183 and parameters: {'alpha': 2.8068036473482616, 'tol': 0.005870187337830835, 'fit_intercept': False, 'positive': False}. Best is trial 290 with value: 0.1314804398259257.\n",
      "[I 2025-06-02 10:19:23,024] Trial 319 finished with value: 0.13148013302973338 and parameters: {'alpha': 0.33298198099682097, 'tol': 0.0063883355055964625, 'fit_intercept': False, 'positive': False}. Best is trial 290 with value: 0.1314804398259257.\n",
      "[I 2025-06-02 10:19:24,124] Trial 320 finished with value: 0.13141048017354198 and parameters: {'alpha': 67.34544447811656, 'tol': 0.000267436045909163, 'fit_intercept': False, 'positive': False}. Best is trial 290 with value: 0.1314804398259257.\n",
      "[I 2025-06-02 10:19:24,922] Trial 321 finished with value: 0.131471755681011 and parameters: {'alpha': 8.589587522493007, 'tol': 0.006140797563315516, 'fit_intercept': False, 'positive': False}. Best is trial 290 with value: 0.1314804398259257.\n",
      "[I 2025-06-02 10:19:26,445] Trial 322 finished with value: 0.13147764655594898 and parameters: {'alpha': 2.789659825398713, 'tol': 0.006802237462015867, 'fit_intercept': False, 'positive': False}. Best is trial 290 with value: 0.1314804398259257.\n",
      "[I 2025-06-02 10:19:27,041] Trial 323 finished with value: 0.1314782558072918 and parameters: {'alpha': 2.18818453263618, 'tol': 0.006750277187341006, 'fit_intercept': False, 'positive': False}. Best is trial 290 with value: 0.1314804398259257.\n",
      "[I 2025-06-02 10:19:27,639] Trial 324 finished with value: 0.1314792105328614 and parameters: {'alpha': 1.2450245741211892, 'tol': 0.0061831960275632245, 'fit_intercept': False, 'positive': False}. Best is trial 290 with value: 0.1314804398259257.\n",
      "[I 2025-06-02 10:19:28,629] Trial 325 finished with value: 0.13147910078429162 and parameters: {'alpha': 1.353482201591842, 'tol': 0.006449440433416762, 'fit_intercept': False, 'positive': False}. Best is trial 290 with value: 0.1314804398259257.\n",
      "[I 2025-06-02 10:19:30,988] Trial 327 finished with value: 0.131479350095599 and parameters: {'alpha': 1.1070889890796298, 'tol': 0.007486050890770795, 'fit_intercept': False, 'positive': False}. Best is trial 290 with value: 0.1314804398259257.\n",
      "[I 2025-06-02 10:19:31,012] Trial 326 finished with value: 0.11473241315982782 and parameters: {'alpha': 13.38678231295328, 'tol': 0.007751567548365309, 'fit_intercept': False, 'positive': True}. Best is trial 290 with value: 0.1314804398259257.\n",
      "[I 2025-06-02 10:19:31,414] Trial 328 finished with value: 0.1314795046106515 and parameters: {'alpha': 0.9543564906495332, 'tol': 0.0067254962638358265, 'fit_intercept': False, 'positive': False}. Best is trial 290 with value: 0.1314804398259257.\n",
      "[I 2025-06-02 10:19:32,233] Trial 329 finished with value: 0.13146286549966119 and parameters: {'alpha': 17.28936462852479, 'tol': 0.008291636085629082, 'fit_intercept': False, 'positive': False}. Best is trial 290 with value: 0.1314804398259257.\n",
      "[I 2025-06-02 10:19:35,120] Trial 330 finished with value: 0.1314795891610944 and parameters: {'alpha': 0.8707730363819143, 'tol': 0.006966648682993157, 'fit_intercept': False, 'positive': False}. Best is trial 290 with value: 0.1314804398259257.\n",
      "[I 2025-06-02 10:19:35,161] Trial 331 finished with value: 0.1314638174202681 and parameters: {'alpha': 16.360840873449703, 'tol': 0.008003640601534053, 'fit_intercept': False, 'positive': False}. Best is trial 290 with value: 0.1314804398259257.\n",
      "[I 2025-06-02 10:19:35,363] Trial 332 finished with value: 0.13146094769363767 and parameters: {'alpha': 19.157868370282234, 'tol': 0.007791338894942747, 'fit_intercept': False, 'positive': False}. Best is trial 290 with value: 0.1314804398259257.\n",
      "[I 2025-06-02 10:19:35,876] Trial 333 finished with value: 0.13147967213426842 and parameters: {'alpha': 0.7887430177600632, 'tol': 0.0075659930355042255, 'fit_intercept': False, 'positive': False}. Best is trial 290 with value: 0.1314804398259257.\n",
      "[I 2025-06-02 10:19:39,222] Trial 336 finished with value: 0.13148023756311075 and parameters: {'alpha': 0.22958844251853894, 'tol': 0.008575467948461434, 'fit_intercept': False, 'positive': False}. Best is trial 290 with value: 0.1314804398259257.\n",
      "[I 2025-06-02 10:19:39,233] Trial 334 finished with value: 0.13146007832130094 and parameters: {'alpha': 20.003941785742317, 'tol': 0.009746278711445669, 'fit_intercept': False, 'positive': False}. Best is trial 290 with value: 0.1314804398259257.\n",
      "[I 2025-06-02 10:19:39,515] Trial 337 finished with value: 0.13148042725210266 and parameters: {'alpha': 0.04194451271173691, 'tol': 0.008592771833668605, 'fit_intercept': False, 'positive': False}. Best is trial 290 with value: 0.1314804398259257.\n",
      "[I 2025-06-02 10:19:40,152] Trial 335 finished with value: 0.12285675667888384 and parameters: {'alpha': 47.06067259394797, 'tol': 0.00022554882714128158, 'fit_intercept': True, 'positive': True}. Best is trial 290 with value: 0.1314804398259257.\n",
      "[I 2025-06-02 10:19:42,521] Trial 338 finished with value: 0.13147937496677814 and parameters: {'alpha': 1.082506078104567, 'tol': 0.008300143989373693, 'fit_intercept': False, 'positive': False}. Best is trial 290 with value: 0.1314804398259257.\n",
      "[I 2025-06-02 10:19:43,171] Trial 339 finished with value: 0.1252077430750719 and parameters: {'alpha': 1.8896748035137199, 'tol': 0.0077922734053125445, 'fit_intercept': True, 'positive': False}. Best is trial 290 with value: 0.1314804398259257.\n",
      "[I 2025-06-02 10:19:43,962] Trial 340 finished with value: 0.10680419526439346 and parameters: {'alpha': 42.14416092800199, 'tol': 0.005722226662705641, 'fit_intercept': True, 'positive': True}. Best is trial 290 with value: 0.1314804398259257.\n",
      "[I 2025-06-02 10:19:44,779] Trial 341 finished with value: 0.11914990978055959 and parameters: {'alpha': 46.768259306231364, 'tol': 0.004305877845761413, 'fit_intercept': False, 'positive': True}. Best is trial 290 with value: 0.1314804398259257.\n",
      "[I 2025-06-02 10:19:46,284] Trial 342 finished with value: 0.1252104535371882 and parameters: {'alpha': 0.16374046282658822, 'tol': 0.0076208318405188375, 'fit_intercept': True, 'positive': False}. Best is trial 290 with value: 0.1314804398259257.\n",
      "[I 2025-06-02 10:19:47,258] Trial 343 finished with value: 0.13147951719885803 and parameters: {'alpha': 0.9419126308075467, 'tol': 0.009114724027267923, 'fit_intercept': False, 'positive': False}. Best is trial 290 with value: 0.1314804398259257.\n",
      "[I 2025-06-02 10:19:47,677] Trial 344 finished with value: 0.13147908978826442 and parameters: {'alpha': 1.3643483329116117, 'tol': 0.009330434378491828, 'fit_intercept': False, 'positive': False}. Best is trial 290 with value: 0.1314804398259257.\n",
      "[I 2025-06-02 10:19:48,834] Trial 345 finished with value: 0.13147919112013579 and parameters: {'alpha': 1.2642096831224345, 'tol': 0.009018325951624231, 'fit_intercept': False, 'positive': False}. Best is trial 290 with value: 0.1314804398259257.\n",
      "[I 2025-06-02 10:19:49,957] Trial 346 finished with value: 0.13147896479745821 and parameters: {'alpha': 1.4878555530325817, 'tol': 0.009564248089617153, 'fit_intercept': False, 'positive': False}. Best is trial 290 with value: 0.1314804398259257.\n",
      "[I 2025-06-02 10:19:51,483] Trial 348 finished with value: 0.1314643823949029 and parameters: {'alpha': 15.809414037161476, 'tol': 0.009011330093919202, 'fit_intercept': False, 'positive': False}. Best is trial 290 with value: 0.1314804398259257.\n",
      "[I 2025-06-02 10:19:51,502] Trial 347 finished with value: 0.13146265448240668 and parameters: {'alpha': 17.49509864577978, 'tol': 0.009614922997593527, 'fit_intercept': False, 'positive': False}. Best is trial 290 with value: 0.1314804398259257.\n",
      "[I 2025-06-02 10:19:52,716] Trial 349 finished with value: 0.13148006729731 and parameters: {'alpha': 0.39799297925851473, 'tol': 0.009143273459935368, 'fit_intercept': False, 'positive': False}. Best is trial 290 with value: 0.1314804398259257.\n",
      "[I 2025-06-02 10:19:53,513] Trial 350 finished with value: 0.13146562383981245 and parameters: {'alpha': 14.596849908594548, 'tol': 0.00988922109542741, 'fit_intercept': False, 'positive': False}. Best is trial 290 with value: 0.1314804398259257.\n",
      "[I 2025-06-02 10:19:55,056] Trial 351 finished with value: 0.13147929434194283 and parameters: {'alpha': 1.1621945628498738, 'tol': 0.009934192973589048, 'fit_intercept': False, 'positive': False}. Best is trial 290 with value: 0.1314804398259257.\n",
      "[I 2025-06-02 10:19:55,439] Trial 352 finished with value: 0.13147900338195825 and parameters: {'alpha': 1.449730421160131, 'tol': 0.008694196395875837, 'fit_intercept': False, 'positive': False}. Best is trial 290 with value: 0.1314804398259257.\n",
      "[I 2025-06-02 10:19:56,777] Trial 353 finished with value: 0.13147861158347177 and parameters: {'alpha': 1.8368068038886654, 'tol': 0.009046696459187948, 'fit_intercept': False, 'positive': False}. Best is trial 290 with value: 0.1314804398259257.\n",
      "[I 2025-06-02 10:19:57,193] Trial 354 finished with value: 0.1314796502069938 and parameters: {'alpha': 0.8104216033113046, 'tol': 0.007961059211257445, 'fit_intercept': False, 'positive': False}. Best is trial 290 with value: 0.1314804398259257.\n",
      "[I 2025-06-02 10:19:58,976] Trial 355 finished with value: 0.12514624372305916 and parameters: {'alpha': 40.66236426547548, 'tol': 0.0069379157198583554, 'fit_intercept': True, 'positive': False}. Best is trial 290 with value: 0.1314804398259257.\n",
      "[I 2025-06-02 10:19:59,528] Trial 356 finished with value: 0.131478463678357 and parameters: {'alpha': 1.9828961374727379, 'tol': 0.008231635758980716, 'fit_intercept': False, 'positive': False}. Best is trial 290 with value: 0.1314804398259257.\n",
      "[I 2025-06-02 10:20:00,921] Trial 358 finished with value: 0.1314803348325244 and parameters: {'alpha': 0.13337146030450045, 'tol': 0.006106358808204004, 'fit_intercept': False, 'positive': False}. Best is trial 290 with value: 0.1314804398259257.\n",
      "[I 2025-06-02 10:20:01,285] Trial 357 finished with value: 0.11124420860493421 and parameters: {'alpha': 16.56789648673118, 'tol': 0.009983652042772576, 'fit_intercept': False, 'positive': True}. Best is trial 290 with value: 0.1314804398259257.\n",
      "[I 2025-06-02 10:20:02,854] Trial 359 finished with value: 0.13147875120682273 and parameters: {'alpha': 1.6988808832236115, 'tol': 0.006285118129339947, 'fit_intercept': False, 'positive': False}. Best is trial 290 with value: 0.1314804398259257.\n",
      "[I 2025-06-02 10:20:03,480] Trial 360 finished with value: 0.1313999165427031 and parameters: {'alpha': 77.20753743051753, 'tol': 0.0064331916306824815, 'fit_intercept': False, 'positive': False}. Best is trial 290 with value: 0.1314804398259257.\n",
      "[I 2025-06-02 10:20:05,212] Trial 362 finished with value: 0.13147774801556936 and parameters: {'alpha': 2.6895165139512014, 'tol': 0.005264424922289803, 'fit_intercept': False, 'positive': False}. Best is trial 290 with value: 0.1314804398259257.\n",
      "[I 2025-06-02 10:20:05,245] Trial 361 finished with value: 0.11473214661278308 and parameters: {'alpha': 0.16263333450711637, 'tol': 0.007662829545722929, 'fit_intercept': False, 'positive': True}. Best is trial 290 with value: 0.1314804398259257.\n",
      "[I 2025-06-02 10:20:06,510] Trial 363 finished with value: 0.13147968390776102 and parameters: {'alpha': 0.7771028892293231, 'tol': 0.005714927729998123, 'fit_intercept': False, 'positive': False}. Best is trial 290 with value: 0.1314804398259257.\n",
      "[I 2025-06-02 10:20:07,488] Trial 364 finished with value: 0.13147988364931817 and parameters: {'alpha': 0.5796062812623726, 'tol': 0.005722011887275301, 'fit_intercept': False, 'positive': False}. Best is trial 290 with value: 0.1314804398259257.\n",
      "[I 2025-06-02 10:20:08,717] Trial 366 finished with value: 0.13145774296982968 and parameters: {'alpha': 22.273790692827337, 'tol': 0.004763317076338371, 'fit_intercept': False, 'positive': False}. Best is trial 290 with value: 0.1314804398259257.\n",
      "[I 2025-06-02 10:20:09,097] Trial 365 finished with value: 0.1314542895971867 and parameters: {'alpha': 25.622570691437133, 'tol': 0.004695948511259316, 'fit_intercept': False, 'positive': False}. Best is trial 290 with value: 0.1314804398259257.\n",
      "[I 2025-06-02 10:20:10,500] Trial 367 finished with value: 0.13148032793001443 and parameters: {'alpha': 0.1401995474596913, 'tol': 0.004894080906924129, 'fit_intercept': False, 'positive': False}. Best is trial 290 with value: 0.1314804398259257.\n",
      "[I 2025-06-02 10:20:12,499] Trial 368 finished with value: 0.1156369269425157 and parameters: {'alpha': 59.5910744721167, 'tol': 0.0033025826852526212, 'fit_intercept': True, 'positive': True}. Best is trial 290 with value: 0.1314804398259257.\n",
      "[I 2025-06-02 10:20:12,691] Trial 369 finished with value: 0.13145958500913454 and parameters: {'alpha': 20.48377089850196, 'tol': 0.0064721237424389, 'fit_intercept': False, 'positive': False}. Best is trial 290 with value: 0.1314804398259257.\n",
      "[I 2025-06-02 10:20:12,950] Trial 370 finished with value: 0.13148013170785905 and parameters: {'alpha': 0.3342893830978098, 'tol': 0.007206695680082446, 'fit_intercept': False, 'positive': False}. Best is trial 290 with value: 0.1314804398259257.\n",
      "[I 2025-06-02 10:20:14,246] Trial 371 finished with value: 0.1314793196785599 and parameters: {'alpha': 1.1371527804089854, 'tol': 0.005643122062001474, 'fit_intercept': False, 'positive': False}. Best is trial 290 with value: 0.1314804398259257.\n",
      "[I 2025-06-02 10:20:16,564] Trial 373 finished with value: 0.13146903167708568 and parameters: {'alpha': 11.261978499287133, 'tol': 0.004514174146027225, 'fit_intercept': False, 'positive': False}. Best is trial 290 with value: 0.1314804398259257.\n",
      "[I 2025-06-02 10:20:16,596] Trial 372 finished with value: 0.13147702464206965 and parameters: {'alpha': 3.403318995796389, 'tol': 0.005079725627640277, 'fit_intercept': False, 'positive': False}. Best is trial 290 with value: 0.1314804398259257.\n",
      "[I 2025-06-02 10:20:17,052] Trial 374 finished with value: 0.1314796435317732 and parameters: {'alpha': 0.8170210369800687, 'tol': 0.005190309143733031, 'fit_intercept': False, 'positive': False}. Best is trial 290 with value: 0.1314804398259257.\n",
      "[I 2025-06-02 10:20:17,683] Trial 375 finished with value: 0.13146547109991455 and parameters: {'alpha': 14.74610248839407, 'tol': 0.004502925244260509, 'fit_intercept': False, 'positive': False}. Best is trial 290 with value: 0.1314804398259257.\n",
      "[I 2025-06-02 10:20:20,508] Trial 376 finished with value: 0.12520629153458035 and parameters: {'alpha': 2.813355396128315, 'tol': 0.0029440257568699997, 'fit_intercept': True, 'positive': False}. Best is trial 290 with value: 0.1314804398259257.\n",
      "[I 2025-06-02 10:20:20,532] Trial 377 finished with value: 0.1314633483658881 and parameters: {'alpha': 16.81845591411185, 'tol': 0.0065330709496643855, 'fit_intercept': False, 'positive': False}. Best is trial 290 with value: 0.1314804398259257.\n",
      "[I 2025-06-02 10:20:20,987] Trial 378 finished with value: 0.1314655679300046 and parameters: {'alpha': 14.651485349576069, 'tol': 0.006552064780019539, 'fit_intercept': False, 'positive': False}. Best is trial 290 with value: 0.1314804398259257.\n",
      "[I 2025-06-02 10:20:21,566] Trial 379 finished with value: 0.13146636029982375 and parameters: {'alpha': 13.876944077346293, 'tol': 0.006552186338688077, 'fit_intercept': False, 'positive': False}. Best is trial 290 with value: 0.1314804398259257.\n",
      "[I 2025-06-02 10:20:24,212] Trial 380 finished with value: 0.13146402784046346 and parameters: {'alpha': 16.155495948473085, 'tol': 0.007169908264570765, 'fit_intercept': False, 'positive': False}. Best is trial 290 with value: 0.1314804398259257.\n",
      "[I 2025-06-02 10:20:24,244] Trial 381 finished with value: 0.13146280492264817 and parameters: {'alpha': 17.34842856356563, 'tol': 0.007542343381587899, 'fit_intercept': False, 'positive': False}. Best is trial 290 with value: 0.1314804398259257.\n",
      "[I 2025-06-02 10:20:25,370] Trial 382 finished with value: 0.13148041322077597 and parameters: {'alpha': 0.0558255959397341, 'tol': 0.007072743964386712, 'fit_intercept': False, 'positive': False}. Best is trial 290 with value: 0.1314804398259257.\n",
      "[I 2025-06-02 10:20:25,416] Trial 383 finished with value: 0.13147994790405026 and parameters: {'alpha': 0.5160666482572405, 'tol': 0.007586616851578519, 'fit_intercept': False, 'positive': False}. Best is trial 290 with value: 0.1314804398259257.\n",
      "[I 2025-06-02 10:20:28,060] Trial 384 finished with value: 0.13147934896046537 and parameters: {'alpha': 1.1082109535866844, 'tol': 0.005586865771725606, 'fit_intercept': False, 'positive': False}. Best is trial 290 with value: 0.1314804398259257.\n",
      "[I 2025-06-02 10:20:28,119] Trial 385 finished with value: 0.13147962027306498 and parameters: {'alpha': 0.8400153879322685, 'tol': 0.0049847753029089205, 'fit_intercept': False, 'positive': False}. Best is trial 290 with value: 0.1314804398259257.\n",
      "[I 2025-06-02 10:20:29,277] Trial 387 finished with value: 0.13147777782723677 and parameters: {'alpha': 2.6600899940311034, 'tol': 0.005990897852008926, 'fit_intercept': False, 'positive': False}. Best is trial 290 with value: 0.1314804398259257.\n",
      "[I 2025-06-02 10:20:29,479] Trial 386 finished with value: 0.1314802480000526 and parameters: {'alpha': 0.2192648046233885, 'tol': 0.004745446335714521, 'fit_intercept': False, 'positive': False}. Best is trial 290 with value: 0.1314804398259257.\n",
      "[I 2025-06-02 10:20:31,587] Trial 388 finished with value: 0.1314804174544378 and parameters: {'alpha': 0.05163728429143369, 'tol': 0.003705104673630031, 'fit_intercept': False, 'positive': False}. Best is trial 290 with value: 0.1314804398259257.\n",
      "[I 2025-06-02 10:20:32,190] Trial 389 finished with value: 0.13147831548319244 and parameters: {'alpha': 2.129253739132738, 'tol': 0.004330208446266806, 'fit_intercept': False, 'positive': False}. Best is trial 290 with value: 0.1314804398259257.\n",
      "[I 2025-06-02 10:20:32,806] Trial 390 finished with value: 0.13147877252540321 and parameters: {'alpha': 1.6778200512670778, 'tol': 0.007347902813978444, 'fit_intercept': False, 'positive': False}. Best is trial 290 with value: 0.1314804398259257.\n",
      "[I 2025-06-02 10:20:33,356] Trial 391 finished with value: 0.13147727283041863 and parameters: {'alpha': 3.1584632325397983, 'tol': 0.004427471044071143, 'fit_intercept': False, 'positive': False}. Best is trial 290 with value: 0.1314804398259257.\n",
      "[I 2025-06-02 10:20:35,419] Trial 392 finished with value: 0.13147819034945754 and parameters: {'alpha': 2.252821668483687, 'tol': 0.003486678618570513, 'fit_intercept': False, 'positive': False}. Best is trial 290 with value: 0.1314804398259257.\n",
      "[I 2025-06-02 10:20:36,192] Trial 393 finished with value: 0.13146051477758552 and parameters: {'alpha': 19.57925624067398, 'tol': 0.0030961944073783585, 'fit_intercept': False, 'positive': False}. Best is trial 290 with value: 0.1314804398259257.\n",
      "[I 2025-06-02 10:20:36,627] Trial 394 finished with value: 0.13147537101189588 and parameters: {'alpha': 5.033447447488697, 'tol': 0.002776052869320572, 'fit_intercept': False, 'positive': False}. Best is trial 290 with value: 0.1314804398259257.\n",
      "[I 2025-06-02 10:20:37,570] Trial 395 finished with value: 0.13147924594531468 and parameters: {'alpha': 1.2100265280094455, 'tol': 0.00311146700706414, 'fit_intercept': False, 'positive': False}. Best is trial 290 with value: 0.1314804398259257.\n",
      "[I 2025-06-02 10:20:39,300] Trial 396 finished with value: 0.13146006794231682 and parameters: {'alpha': 20.01403904970806, 'tol': 0.0034660303690518127, 'fit_intercept': False, 'positive': False}. Best is trial 290 with value: 0.1314804398259257.\n",
      "[I 2025-06-02 10:20:40,460] Trial 397 finished with value: 0.13147810041360808 and parameters: {'alpha': 2.341624120971714, 'tol': 0.0070105032096515, 'fit_intercept': False, 'positive': False}. Best is trial 290 with value: 0.1314804398259257.\n",
      "[I 2025-06-02 10:20:40,542] Trial 398 finished with value: 0.13148030947700026 and parameters: {'alpha': 0.15845340575438913, 'tol': 0.006154144223388861, 'fit_intercept': False, 'positive': False}. Best is trial 290 with value: 0.1314804398259257.\n",
      "[I 2025-06-02 10:20:41,712] Trial 399 finished with value: 0.131479654525932 and parameters: {'alpha': 0.8061516802705158, 'tol': 0.0066571643533168525, 'fit_intercept': False, 'positive': False}. Best is trial 290 with value: 0.1314804398259257.\n",
      "[I 2025-06-02 10:20:43,039] Trial 400 finished with value: 0.1314797947826872 and parameters: {'alpha': 0.6674782263562462, 'tol': 0.006398827855065311, 'fit_intercept': False, 'positive': False}. Best is trial 290 with value: 0.1314804398259257.\n",
      "[I 2025-06-02 10:20:44,431] Trial 401 finished with value: 0.131477791316895 and parameters: {'alpha': 2.6467743713957073, 'tol': 0.006719074335614903, 'fit_intercept': False, 'positive': False}. Best is trial 290 with value: 0.1314804398259257.\n",
      "[I 2025-06-02 10:20:44,465] Trial 402 finished with value: 0.1314785991636861 and parameters: {'alpha': 1.8490748149897993, 'tol': 0.004029607376011435, 'fit_intercept': False, 'positive': False}. Best is trial 290 with value: 0.1314804398259257.\n",
      "[I 2025-06-02 10:20:45,754] Trial 403 finished with value: 0.13147710451318037 and parameters: {'alpha': 3.3245259230294137, 'tol': 0.0057581846831858945, 'fit_intercept': False, 'positive': False}. Best is trial 290 with value: 0.1314804398259257.\n",
      "[I 2025-06-02 10:20:47,690] Trial 404 finished with value: 0.12959179318379982 and parameters: {'alpha': 11.34527860711841, 'tol': 0.0022750887878315207, 'fit_intercept': False, 'positive': True}. Best is trial 290 with value: 0.1314804398259257.\n",
      "[I 2025-06-02 10:20:48,334] Trial 406 finished with value: 0.13146139281241634 and parameters: {'alpha': 18.72444976469439, 'tol': 0.005226109942256678, 'fit_intercept': False, 'positive': False}. Best is trial 290 with value: 0.1314804398259257.\n",
      "[I 2025-06-02 10:20:48,522] Trial 405 finished with value: 0.13147929174775483 and parameters: {'alpha': 1.1647585329471584, 'tol': 0.005870932506180816, 'fit_intercept': False, 'positive': False}. Best is trial 290 with value: 0.1314804398259257.\n",
      "[I 2025-06-02 10:20:50,064] Trial 407 finished with value: 0.1314795582995292 and parameters: {'alpha': 0.9012823338036166, 'tol': 0.0061576103586959184, 'fit_intercept': False, 'positive': False}. Best is trial 290 with value: 0.1314804398259257.\n",
      "[I 2025-06-02 10:20:51,464] Trial 408 finished with value: 0.13146283143672738 and parameters: {'alpha': 17.322577102303626, 'tol': 0.007113145827159207, 'fit_intercept': False, 'positive': False}. Best is trial 290 with value: 0.1314804398259257.\n",
      "[I 2025-06-02 10:20:51,874] Trial 409 finished with value: 0.13147995147394848 and parameters: {'alpha': 0.5125363788404025, 'tol': 0.005496960157257527, 'fit_intercept': False, 'positive': False}. Best is trial 290 with value: 0.1314804398259257.\n",
      "[I 2025-06-02 10:20:52,442] Trial 410 finished with value: 0.13146645165166798 and parameters: {'alpha': 13.787615530331951, 'tol': 0.007072439360644105, 'fit_intercept': False, 'positive': False}. Best is trial 290 with value: 0.1314804398259257.\n",
      "[I 2025-06-02 10:20:54,067] Trial 411 finished with value: 0.13147996228244252 and parameters: {'alpha': 0.501847803095313, 'tol': 0.003587897679291889, 'fit_intercept': False, 'positive': False}. Best is trial 290 with value: 0.1314804398259257.\n",
      "[I 2025-06-02 10:20:55,219] Trial 412 finished with value: 0.13147971400676925 and parameters: {'alpha': 0.7473443016709658, 'tol': 0.00555900560169058, 'fit_intercept': False, 'positive': False}. Best is trial 290 with value: 0.1314804398259257.\n",
      "[I 2025-06-02 10:20:56,031] Trial 413 finished with value: 0.11473223981902093 and parameters: {'alpha': 4.782515755822478, 'tol': 0.006237023880589739, 'fit_intercept': False, 'positive': True}. Best is trial 290 with value: 0.1314804398259257.\n",
      "[I 2025-06-02 10:20:56,424] Trial 414 finished with value: 0.12520841010688818 and parameters: {'alpha': 1.4650691168845058, 'tol': 0.00988363002045603, 'fit_intercept': True, 'positive': False}. Best is trial 290 with value: 0.1314804398259257.\n",
      "[I 2025-06-02 10:20:57,983] Trial 415 finished with value: 0.13146234116698158 and parameters: {'alpha': 17.80050494346224, 'tol': 0.00829106483689919, 'fit_intercept': False, 'positive': False}. Best is trial 290 with value: 0.1314804398259257.\n",
      "[I 2025-06-02 10:20:58,936] Trial 416 finished with value: 0.13145948005000332 and parameters: {'alpha': 20.585836844984698, 'tol': 0.0006349827646232175, 'fit_intercept': False, 'positive': False}. Best is trial 290 with value: 0.1314804398259257.\n",
      "[I 2025-06-02 10:20:59,906] Trial 417 finished with value: 0.13146694647586118 and parameters: {'alpha': 13.303635228578697, 'tol': 0.008512373481005722, 'fit_intercept': False, 'positive': False}. Best is trial 290 with value: 0.1314804398259257.\n",
      "[I 2025-06-02 10:21:00,540] Trial 418 finished with value: 0.13146787546867664 and parameters: {'alpha': 12.394472556846608, 'tol': 0.007393947991270472, 'fit_intercept': False, 'positive': False}. Best is trial 290 with value: 0.1314804398259257.\n",
      "[I 2025-06-02 10:21:01,967] Trial 419 finished with value: 0.13147950591569244 and parameters: {'alpha': 0.953066420556801, 'tol': 0.007526612973436434, 'fit_intercept': False, 'positive': False}. Best is trial 290 with value: 0.1314804398259257.\n",
      "[I 2025-06-02 10:21:03,117] Trial 420 finished with value: 0.11473287030161247 and parameters: {'alpha': 36.15630332727666, 'tol': 0.006393122213244681, 'fit_intercept': False, 'positive': True}. Best is trial 290 with value: 0.1314804398259257.\n",
      "[I 2025-06-02 10:21:03,920] Trial 421 finished with value: 0.12520541671182076 and parameters: {'alpha': 3.369838488764414, 'tol': 0.005834415259568893, 'fit_intercept': True, 'positive': False}. Best is trial 290 with value: 0.1314804398259257.\n",
      "[I 2025-06-02 10:21:04,553] Trial 422 finished with value: 0.1314803093574826 and parameters: {'alpha': 0.15857163261402124, 'tol': 0.008356976578684814, 'fit_intercept': False, 'positive': False}. Best is trial 290 with value: 0.1314804398259257.\n",
      "[I 2025-06-02 10:21:06,075] Trial 423 finished with value: 0.13147914073778783 and parameters: {'alpha': 1.3139998280384293, 'tol': 0.008001882999731947, 'fit_intercept': False, 'positive': False}. Best is trial 290 with value: 0.1314804398259257.\n",
      "[I 2025-06-02 10:21:06,707] Trial 424 finished with value: 0.12518632321691522 and parameters: {'alpha': 15.477244153126462, 'tol': 0.004594253810145757, 'fit_intercept': True, 'positive': False}. Best is trial 290 with value: 0.1314804398259257.\n",
      "[I 2025-06-02 10:21:07,312] Trial 425 finished with value: 0.13147995091539666 and parameters: {'alpha': 0.5130887309980063, 'tol': 0.0066782578361265985, 'fit_intercept': False, 'positive': False}. Best is trial 290 with value: 0.1314804398259257.\n",
      "[I 2025-06-02 10:21:08,681] Trial 426 finished with value: 0.13148024292131877 and parameters: {'alpha': 0.22428841486383663, 'tol': 0.00832428636862739, 'fit_intercept': False, 'positive': False}. Best is trial 290 with value: 0.1314804398259257.\n",
      "[I 2025-06-02 10:21:10,167] Trial 427 finished with value: 0.13148034491538105 and parameters: {'alpha': 0.1233972453111533, 'tol': 0.008162316512339065, 'fit_intercept': False, 'positive': False}. Best is trial 290 with value: 0.1314804398259257.\n",
      "[I 2025-06-02 10:21:11,408] Trial 429 finished with value: 0.1314798970984212 and parameters: {'alpha': 0.5663071401670546, 'tol': 0.007375072556864316, 'fit_intercept': False, 'positive': False}. Best is trial 290 with value: 0.1314804398259257.\n",
      "[I 2025-06-02 10:21:11,452] Trial 428 finished with value: 0.12379296129472982 and parameters: {'alpha': 78.63041440785219, 'tol': 0.004046333714463639, 'fit_intercept': False, 'positive': True}. Best is trial 290 with value: 0.1314804398259257.\n",
      "[I 2025-06-02 10:21:12,675] Trial 430 finished with value: 0.1314633619249551 and parameters: {'alpha': 16.805229964593156, 'tol': 0.009852798066664671, 'fit_intercept': False, 'positive': False}. Best is trial 290 with value: 0.1314804398259257.\n",
      "[I 2025-06-02 10:21:14,114] Trial 431 finished with value: 0.13148012563894232 and parameters: {'alpha': 0.34029183688600745, 'tol': 0.007165410008865304, 'fit_intercept': False, 'positive': False}. Best is trial 290 with value: 0.1314804398259257.\n",
      "[I 2025-06-02 10:21:15,348] Trial 433 finished with value: 0.12519641144307259 and parameters: {'alpha': 9.089224296658202, 'tol': 0.00019031992145550195, 'fit_intercept': True, 'positive': False}. Best is trial 290 with value: 0.1314804398259257.\n",
      "[I 2025-06-02 10:21:15,967] Trial 432 finished with value: 0.1299073798890824 and parameters: {'alpha': 74.1309394311204, 'tol': 0.00031448871621109036, 'fit_intercept': False, 'positive': True}. Best is trial 290 with value: 0.1314804398259257.\n",
      "[I 2025-06-02 10:21:16,793] Trial 434 finished with value: 0.131479758039514 and parameters: {'alpha': 0.7038082070891392, 'tol': 0.007400703263574035, 'fit_intercept': False, 'positive': False}. Best is trial 290 with value: 0.1314804398259257.\n",
      "[I 2025-06-02 10:21:18,217] Trial 435 finished with value: 0.13146476113672137 and parameters: {'alpha': 15.439612788654909, 'tol': 0.0072484609176467, 'fit_intercept': False, 'positive': False}. Best is trial 290 with value: 0.1314804398259257.\n",
      "[I 2025-06-02 10:21:19,459] Trial 437 finished with value: 0.13146526695809663 and parameters: {'alpha': 14.945554448639472, 'tol': 0.0077240413948678425, 'fit_intercept': False, 'positive': False}. Best is trial 290 with value: 0.1314804398259257.\n",
      "[I 2025-06-02 10:21:20,031] Trial 436 finished with value: 0.115612984383573 and parameters: {'alpha': 96.25842370818714, 'tol': 0.0033504858537655967, 'fit_intercept': True, 'positive': True}. Best is trial 290 with value: 0.1314804398259257.\n",
      "[I 2025-06-02 10:21:20,656] Trial 438 finished with value: 0.13146148437448293 and parameters: {'alpha': 18.635275201474126, 'tol': 0.008106632757433422, 'fit_intercept': False, 'positive': False}. Best is trial 290 with value: 0.1314804398259257.\n",
      "[I 2025-06-02 10:21:22,549] Trial 439 finished with value: 0.1314802844155473 and parameters: {'alpha': 0.18324392503739956, 'tol': 0.008275456900906926, 'fit_intercept': False, 'positive': False}. Best is trial 290 with value: 0.1314804398259257.\n",
      "[I 2025-06-02 10:21:23,355] Trial 440 finished with value: 0.1314800902504891 and parameters: {'alpha': 0.37529212545914237, 'tol': 0.009743889860899631, 'fit_intercept': False, 'positive': False}. Best is trial 290 with value: 0.1314804398259257.\n",
      "[I 2025-06-02 10:21:23,983] Trial 441 finished with value: 0.11124719773278421 and parameters: {'alpha': 61.060564527557716, 'tol': 0.009784071585215695, 'fit_intercept': False, 'positive': True}. Best is trial 290 with value: 0.1314804398259257.\n",
      "[I 2025-06-02 10:21:24,436] Trial 442 finished with value: 0.1314778306019051 and parameters: {'alpha': 2.6079953345419016, 'tol': 0.008233313064600494, 'fit_intercept': False, 'positive': False}. Best is trial 290 with value: 0.1314804398259257.\n",
      "[I 2025-06-02 10:21:26,345] Trial 443 finished with value: 0.13147952406828234 and parameters: {'alpha': 0.9351219212662706, 'tol': 0.0083105148238682, 'fit_intercept': False, 'positive': False}. Best is trial 290 with value: 0.1314804398259257.\n",
      "[I 2025-06-02 10:21:26,970] Trial 444 finished with value: 0.13148037738281226 and parameters: {'alpha': 0.09127906986281097, 'tol': 0.006614975007900512, 'fit_intercept': False, 'positive': False}. Best is trial 290 with value: 0.1314804398259257.\n",
      "[I 2025-06-02 10:21:27,599] Trial 445 finished with value: 0.13148029883973247 and parameters: {'alpha': 0.168975740548013, 'tol': 0.0006514633141776528, 'fit_intercept': False, 'positive': False}. Best is trial 290 with value: 0.1314804398259257.\n",
      "[I 2025-06-02 10:21:29,539] Trial 446 finished with value: 0.10680538613258206 and parameters: {'alpha': 2.1849410091857537, 'tol': 0.005749498960553115, 'fit_intercept': True, 'positive': True}. Best is trial 290 with value: 0.1314804398259257.\n",
      "[I 2025-06-02 10:21:30,344] Trial 447 finished with value: 0.13148026062940993 and parameters: {'alpha': 0.20677243035317638, 'tol': 0.0086648067629807, 'fit_intercept': False, 'positive': False}. Best is trial 290 with value: 0.1314804398259257.\n",
      "[I 2025-06-02 10:21:30,737] Trial 448 finished with value: 0.13146125188355898 and parameters: {'alpha': 18.86169102665091, 'tol': 0.00797442528335112, 'fit_intercept': False, 'positive': False}. Best is trial 290 with value: 0.1314804398259257.\n",
      "[I 2025-06-02 10:21:31,357] Trial 449 finished with value: 0.13146440104996712 and parameters: {'alpha': 15.791202004336451, 'tol': 0.006758397844736807, 'fit_intercept': False, 'positive': False}. Best is trial 290 with value: 0.1314804398259257.\n",
      "[I 2025-06-02 10:21:33,445] Trial 450 finished with value: 0.13147239108895545 and parameters: {'alpha': 7.965354713469, 'tol': 0.0025533707818825965, 'fit_intercept': False, 'positive': False}. Best is trial 290 with value: 0.1314804398259257.\n",
      "[I 2025-06-02 10:21:34,416] Trial 451 finished with value: 0.13147665783214846 and parameters: {'alpha': 3.765110324672764, 'tol': 0.00048732569976480035, 'fit_intercept': False, 'positive': False}. Best is trial 290 with value: 0.1314804398259257.\n",
      "[I 2025-06-02 10:21:34,445] Trial 452 finished with value: 0.13147683938265584 and parameters: {'alpha': 3.5860576297419167, 'tol': 0.0007983013944406577, 'fit_intercept': False, 'positive': False}. Best is trial 290 with value: 0.1314804398259257.\n",
      "[I 2025-06-02 10:21:35,449] Trial 453 finished with value: 0.11124919897243025 and parameters: {'alpha': 90.94114704358032, 'tol': 0.00946945860953592, 'fit_intercept': False, 'positive': True}. Best is trial 290 with value: 0.1314804398259257.\n",
      "[I 2025-06-02 10:21:37,363] Trial 454 finished with value: 0.13147417498810718 and parameters: {'alpha': 6.211072073179747, 'tol': 0.0017858894444381824, 'fit_intercept': False, 'positive': False}. Best is trial 290 with value: 0.1314804398259257.\n",
      "[I 2025-06-02 10:21:37,988] Trial 456 finished with value: 0.13147944133438966 and parameters: {'alpha': 1.0169051747791125, 'tol': 0.001368171746537816, 'fit_intercept': False, 'positive': False}. Best is trial 290 with value: 0.1314804398259257.\n",
      "[I 2025-06-02 10:21:38,576] Trial 455 finished with value: 0.13147592119147858 and parameters: {'alpha': 4.49133718376442, 'tol': 0.0026992295667016596, 'fit_intercept': False, 'positive': False}. Best is trial 290 with value: 0.1314804398259257.\n",
      "[I 2025-06-02 10:21:39,195] Trial 457 finished with value: 0.1314764013013708 and parameters: {'alpha': 4.018065322075077, 'tol': 0.001451857960861276, 'fit_intercept': False, 'positive': False}. Best is trial 290 with value: 0.1314804398259257.\n",
      "[I 2025-06-02 10:21:41,683] Trial 458 finished with value: 0.13141661168623006 and parameters: {'alpha': 61.58712658359067, 'tol': 0.009894973860915268, 'fit_intercept': False, 'positive': False}. Best is trial 290 with value: 0.1314804398259257.\n",
      "[I 2025-06-02 10:21:41,940] Trial 459 finished with value: 0.1314702130485098 and parameters: {'alpha': 10.103727085613222, 'tol': 0.006909596016593099, 'fit_intercept': False, 'positive': False}. Best is trial 290 with value: 0.1314804398259257.\n",
      "[I 2025-06-02 10:21:42,571] Trial 460 finished with value: 0.13146614367598577 and parameters: {'alpha': 14.088743461697126, 'tol': 0.0002739030557926356, 'fit_intercept': False, 'positive': False}. Best is trial 290 with value: 0.1314804398259257.\n",
      "[I 2025-06-02 10:21:42,970] Trial 461 finished with value: 0.13147869336636214 and parameters: {'alpha': 1.7560201309617167, 'tol': 0.0069863931010187945, 'fit_intercept': False, 'positive': False}. Best is trial 290 with value: 0.1314804398259257.\n",
      "[I 2025-06-02 10:21:45,643] Trial 463 finished with value: 0.131477193435867 and parameters: {'alpha': 3.236797241978497, 'tol': 0.0012243174006061862, 'fit_intercept': False, 'positive': False}. Best is trial 290 with value: 0.1314804398259257.\n",
      "[I 2025-06-02 10:21:45,664] Trial 462 finished with value: 0.13146669045785087 and parameters: {'alpha': 13.55406708891876, 'tol': 0.0008703016621350008, 'fit_intercept': False, 'positive': False}. Best is trial 290 with value: 0.1314804398259257.\n",
      "[I 2025-06-02 10:21:46,707] Trial 464 finished with value: 0.13147916928412495 and parameters: {'alpha': 1.2857892890940388, 'tol': 0.0066553406187589495, 'fit_intercept': False, 'positive': False}. Best is trial 290 with value: 0.1314804398259257.\n",
      "[I 2025-06-02 10:21:47,281] Trial 465 finished with value: 0.1112431246674281 and parameters: {'alpha': 0.4743261438089779, 'tol': 0.009643232019350016, 'fit_intercept': False, 'positive': True}. Best is trial 290 with value: 0.1314804398259257.\n",
      "[I 2025-06-02 10:21:49,236] Trial 466 finished with value: 0.131479750383283 and parameters: {'alpha': 0.7113781987461832, 'tol': 0.005674737182265868, 'fit_intercept': False, 'positive': False}. Best is trial 290 with value: 0.1314804398259257.\n",
      "[I 2025-06-02 10:21:49,645] Trial 467 finished with value: 0.13148011130899015 and parameters: {'alpha': 0.35446473438455095, 'tol': 0.007063972171988843, 'fit_intercept': False, 'positive': False}. Best is trial 290 with value: 0.1314804398259257.\n",
      "[I 2025-06-02 10:21:50,970] Trial 468 finished with value: 0.13146022522779477 and parameters: {'alpha': 19.861013806162376, 'tol': 0.006033211886029452, 'fit_intercept': False, 'positive': False}. Best is trial 290 with value: 0.1314804398259257.\n",
      "[I 2025-06-02 10:21:51,005] Trial 469 finished with value: 0.13147946629310167 and parameters: {'alpha': 0.9922338471976997, 'tol': 0.007780578681490732, 'fit_intercept': False, 'positive': False}. Best is trial 290 with value: 0.1314804398259257.\n",
      "[I 2025-06-02 10:21:52,778] Trial 470 finished with value: 0.13147933387896077 and parameters: {'alpha': 1.123117391504042, 'tol': 0.007334120296074222, 'fit_intercept': False, 'positive': False}. Best is trial 290 with value: 0.1314804398259257.\n",
      "[I 2025-06-02 10:21:54,081] Trial 471 finished with value: 0.12513614055737235 and parameters: {'alpha': 46.963651783356994, 'tol': 0.004094788346438392, 'fit_intercept': True, 'positive': False}. Best is trial 290 with value: 0.1314804398259257.\n",
      "[I 2025-06-02 10:21:54,680] Trial 473 finished with value: 0.13148029366889685 and parameters: {'alpha': 0.17409067245838375, 'tol': 0.00734340001686944, 'fit_intercept': False, 'positive': False}. Best is trial 290 with value: 0.1314804398259257.\n",
      "[I 2025-06-02 10:21:54,913] Trial 472 finished with value: 0.12505282434522236 and parameters: {'alpha': 98.24915336298417, 'tol': 0.0034175186290521264, 'fit_intercept': True, 'positive': False}. Best is trial 290 with value: 0.1314804398259257.\n",
      "[I 2025-06-02 10:21:56,785] Trial 474 finished with value: 0.13147944376407855 and parameters: {'alpha': 1.0145034851195187, 'tol': 0.0009496282198571127, 'fit_intercept': False, 'positive': False}. Best is trial 290 with value: 0.1314804398259257.\n",
      "[I 2025-06-02 10:21:58,341] Trial 476 finished with value: 0.1314640485742784 and parameters: {'alpha': 16.13526033222663, 'tol': 0.008261078650130857, 'fit_intercept': False, 'positive': False}. Best is trial 290 with value: 0.1314804398259257.\n",
      "[I 2025-06-02 10:21:58,350] Trial 475 finished with value: 0.12515282838179867 and parameters: {'alpha': 36.54547254322131, 'tol': 0.0005108613210201068, 'fit_intercept': True, 'positive': False}. Best is trial 290 with value: 0.1314804398259257.\n",
      "[I 2025-06-02 10:21:58,821] Trial 477 finished with value: 0.1314799355015925 and parameters: {'alpha': 0.5283313459171477, 'tol': 0.007326912333286625, 'fit_intercept': False, 'positive': False}. Best is trial 290 with value: 0.1314804398259257.\n",
      "[I 2025-06-02 10:22:00,364] Trial 478 finished with value: 0.13146102161183698 and parameters: {'alpha': 19.08590389280155, 'tol': 0.008517691083958138, 'fit_intercept': False, 'positive': False}. Best is trial 290 with value: 0.1314804398259257.\n",
      "[I 2025-06-02 10:22:02,261] Trial 479 finished with value: 0.13146524211254781 and parameters: {'alpha': 14.969826948298845, 'tol': 0.00889724565799319, 'fit_intercept': False, 'positive': False}. Best is trial 290 with value: 0.1314804398259257.\n",
      "[I 2025-06-02 10:22:02,334] Trial 480 finished with value: 0.13146405576156533 and parameters: {'alpha': 16.128245664319273, 'tol': 0.009648721040761737, 'fit_intercept': False, 'positive': False}. Best is trial 290 with value: 0.1314804398259257.\n",
      "[I 2025-06-02 10:22:02,966] Trial 481 finished with value: 0.13146903246513783 and parameters: {'alpha': 11.261206244235625, 'tol': 0.008324645661795757, 'fit_intercept': False, 'positive': False}. Best is trial 290 with value: 0.1314804398259257.\n",
      "[I 2025-06-02 10:22:04,284] Trial 482 finished with value: 0.13147960103394798 and parameters: {'alpha': 0.8590354933521976, 'tol': 0.007515246240966825, 'fit_intercept': False, 'positive': False}. Best is trial 290 with value: 0.1314804398259257.\n",
      "[I 2025-06-02 10:22:05,814] Trial 483 finished with value: 0.13146868138290738 and parameters: {'alpha': 11.605201310142167, 'tol': 0.009987609999991702, 'fit_intercept': False, 'positive': False}. Best is trial 290 with value: 0.1314804398259257.\n",
      "[I 2025-06-02 10:22:06,221] Trial 484 finished with value: 0.1314799246163797 and parameters: {'alpha': 0.5390955454785973, 'tol': 0.009986093551648773, 'fit_intercept': False, 'positive': False}. Best is trial 290 with value: 0.1314804398259257.\n",
      "[I 2025-06-02 10:22:07,362] Trial 485 finished with value: 0.13147993681450565 and parameters: {'alpha': 0.5270330219906665, 'tol': 0.008177966538904232, 'fit_intercept': False, 'positive': False}. Best is trial 290 with value: 0.1314804398259257.\n",
      "[I 2025-06-02 10:22:07,961] Trial 486 finished with value: 0.13147971005799203 and parameters: {'alpha': 0.7512484612312067, 'tol': 0.007449219781667486, 'fit_intercept': False, 'positive': False}. Best is trial 290 with value: 0.1314804398259257.\n",
      "[I 2025-06-02 10:22:09,545] Trial 487 finished with value: 0.13146423986771127 and parameters: {'alpha': 15.948547317079953, 'tol': 0.00731875821377113, 'fit_intercept': False, 'positive': False}. Best is trial 290 with value: 0.1314804398259257.\n",
      "[I 2025-06-02 10:22:10,169] Trial 488 finished with value: 0.13146496035440358 and parameters: {'alpha': 15.24505220575779, 'tol': 0.006425345050857605, 'fit_intercept': False, 'positive': False}. Best is trial 290 with value: 0.1314804398259257.\n",
      "[I 2025-06-02 10:22:11,337] Trial 489 finished with value: 0.1314800093513127 and parameters: {'alpha': 0.4553000163724789, 'tol': 0.006723686532315344, 'fit_intercept': False, 'positive': False}. Best is trial 290 with value: 0.1314804398259257.\n",
      "[I 2025-06-02 10:22:11,725] Trial 490 finished with value: 0.13146102164278106 and parameters: {'alpha': 19.085873765681868, 'tol': 0.005627661567457606, 'fit_intercept': False, 'positive': False}. Best is trial 290 with value: 0.1314804398259257.\n",
      "[I 2025-06-02 10:22:13,310] Trial 491 finished with value: 0.1314637677164994 and parameters: {'alpha': 16.40934069304229, 'tol': 0.007036436377338982, 'fit_intercept': False, 'positive': False}. Best is trial 290 with value: 0.1314804398259257.\n",
      "[I 2025-06-02 10:22:14,550] Trial 492 finished with value: 0.13148041553425538 and parameters: {'alpha': 0.05353689995649728, 'tol': 0.006924814874653514, 'fit_intercept': False, 'positive': False}. Best is trial 290 with value: 0.1314804398259257.\n",
      "[I 2025-06-02 10:22:15,716] Trial 493 finished with value: 0.1314803240340785 and parameters: {'alpha': 0.14405345975692155, 'tol': 0.007701493716975598, 'fit_intercept': False, 'positive': False}. Best is trial 290 with value: 0.1314804398259257.\n",
      "[I 2025-06-02 10:22:15,718] Trial 494 finished with value: 0.13148031943106905 and parameters: {'alpha': 0.14860680251802158, 'tol': 0.00732697397751009, 'fit_intercept': False, 'positive': False}. Best is trial 290 with value: 0.1314804398259257.\n",
      "[I 2025-06-02 10:22:17,128] Trial 495 finished with value: 0.13148038659274783 and parameters: {'alpha': 0.08216804620729629, 'tol': 0.009187062081694411, 'fit_intercept': False, 'positive': False}. Best is trial 290 with value: 0.1314804398259257.\n",
      "[I 2025-06-02 10:22:18,503] Trial 496 finished with value: 0.13148003936105895 and parameters: {'alpha': 0.4256215321986061, 'tol': 0.005512772727409436, 'fit_intercept': False, 'positive': False}. Best is trial 290 with value: 0.1314804398259257.\n",
      "[I 2025-06-02 10:22:19,105] Trial 498 finished with value: 0.13148008329664518 and parameters: {'alpha': 0.3821695719461347, 'tol': 0.005773577942074497, 'fit_intercept': False, 'positive': False}. Best is trial 290 with value: 0.1314804398259257.\n",
      "[I 2025-06-02 10:22:19,543] Trial 497 finished with value: 0.10680341307521156 and parameters: {'alpha': 68.1916906786181, 'tol': 0.006772907625151979, 'fit_intercept': True, 'positive': True}. Best is trial 290 with value: 0.1314804398259257.\n",
      "[I 2025-06-02 10:22:19,960] Trial 499 finished with value: 0.11550317727913098 and parameters: {'alpha': 19.47002991371421, 'tol': 0.005494649650792893, 'fit_intercept': False, 'positive': True}. Best is trial 290 with value: 0.1314804398259257.\n"
     ]
    }
   ],
   "source": [
    "def objective(trial):    \n",
    "    params = {\n",
    "        \"random_state\": CFG.seed,\n",
    "        \"alpha\": trial.suggest_float(\"alpha\", 0, 100),\n",
    "        \"tol\": trial.suggest_float(\"tol\", 1e-6, 1e-2),\n",
    "        \"fit_intercept\": trial.suggest_categorical(\"fit_intercept\", [True, False]),\n",
    "        \"positive\": trial.suggest_categorical(\"positive\", [True, False])\n",
    "    }\n",
    "\n",
    "    trainer = Trainer(\n",
    "        Ridge(**params),\n",
    "        cv=KFold(n_splits=5, shuffle=False),\n",
    "        metric=pearsonr,\n",
    "        task=\"regression\",\n",
    "        verbose=False\n",
    "    )\n",
    "    trainer.fit(X, y)\n",
    "    \n",
    "    return pearsonr(trainer.oof_preds, y)\n",
    "\n",
    "if CFG.run_optuna:\n",
    "    sampler = optuna.samplers.TPESampler(seed=CFG.seed, multivariate=True, n_startup_trials=CFG.n_optuna_trials // 10)\n",
    "    study = optuna.create_study(direction=\"maximize\", sampler=sampler)\n",
    "    study.optimize(objective, n_trials=CFG.n_optuna_trials, n_jobs=-1, catch=(ValueError,))\n",
    "    best_params = study.best_params\n",
    "\n",
    "    ridge_params = {\n",
    "        \"random_state\": CFG.seed,\n",
    "        \"alpha\": best_params[\"alpha\"],\n",
    "        \"tol\": best_params[\"tol\"],\n",
    "        \"fit_intercept\": best_params[\"fit_intercept\"],\n",
    "        \"positive\": best_params[\"positive\"]\n",
    "    }\n",
    "else:\n",
    "    ridge_params = {\n",
    "        \"random_state\": CFG.seed\n",
    "    }"
   ]
  },
  {
   "cell_type": "code",
   "execution_count": 20,
   "id": "1a148029",
   "metadata": {
    "execution": {
     "iopub.execute_input": "2025-06-02T10:22:20.034122Z",
     "iopub.status.busy": "2025-06-02T10:22:20.033780Z",
     "iopub.status.idle": "2025-06-02T10:22:21.262601Z",
     "shell.execute_reply": "2025-06-02T10:22:21.261398Z"
    },
    "papermill": {
     "duration": 1.264555,
     "end_time": "2025-06-02T10:22:21.264429",
     "exception": false,
     "start_time": "2025-06-02T10:22:19.999874",
     "status": "completed"
    },
    "tags": []
   },
   "outputs": [
    {
     "name": "stdout",
     "output_type": "stream",
     "text": [
      "Training Ridge\n",
      "\n",
      "--- Fold 0 - pearsonr: 0.199727 - Time: 0.07 s\n",
      "--- Fold 1 - pearsonr: 0.134877 - Time: 0.07 s\n",
      "--- Fold 2 - pearsonr: 0.110455 - Time: 0.07 s\n",
      "--- Fold 3 - pearsonr: 0.168252 - Time: 0.06 s\n",
      "--- Fold 4 - pearsonr: 0.092315 - Time: 0.07 s\n",
      "\n",
      "------ Overall pearsonr: 0.131480 - Mean pearsonr: 0.141125 ± 0.038813 - Time: 1.13 s\n"
     ]
    }
   ],
   "source": [
    "ridge_trainer = Trainer(\n",
    "    Ridge(**ridge_params),\n",
    "    cv=KFold(n_splits=5, shuffle=False),\n",
    "    metric=pearsonr,\n",
    "    task=\"regression\",\n",
    "    metric_precision=6\n",
    ")\n",
    "\n",
    "ridge_trainer.fit(X, y)\n",
    "\n",
    "fold_scores[\"Ridge (ensemble)\"] = ridge_trainer.fold_scores\n",
    "overall_scores[\"Ridge (ensemble)\"] = [pearsonr(ridge_trainer.oof_preds, y)]\n",
    "ridge_test_preds = ridge_trainer.predict(X_test)"
   ]
  },
  {
   "cell_type": "code",
   "execution_count": 21,
   "id": "aedecaab",
   "metadata": {
    "execution": {
     "iopub.execute_input": "2025-06-02T10:22:21.331265Z",
     "iopub.status.busy": "2025-06-02T10:22:21.330928Z",
     "iopub.status.idle": "2025-06-02T10:22:21.690308Z",
     "shell.execute_reply": "2025-06-02T10:22:21.689339Z"
    },
    "papermill": {
     "duration": 0.395121,
     "end_time": "2025-06-02T10:22:21.691981",
     "exception": false,
     "start_time": "2025-06-02T10:22:21.296860",
     "status": "completed"
    },
    "tags": []
   },
   "outputs": [
    {
     "data": {
      "image/png": "[encoded data removed]",
      "text/plain": [
       "<Figure size 1000x200 with 1 Axes>"
      ]
     },
     "metadata": {},
     "output_type": "display_data"
    }
   ],
   "source": [
    "ridge_coeffs = np.zeros((1, X.shape[1]))\n",
    "for m in ridge_trainer.estimators:\n",
    "    ridge_coeffs += m.coef_\n",
    "ridge_coeffs = ridge_coeffs / len(ridge_trainer.estimators)\n",
    "\n",
    "plot_weights(ridge_coeffs, \"Ridge Coefficients\")"
   ]
  },
  {
   "cell_type": "markdown",
   "id": "5ebb58f2",
   "metadata": {
    "papermill": {
     "duration": 0.032807,
     "end_time": "2025-06-02T10:22:21.758206",
     "exception": false,
     "start_time": "2025-06-02T10:22:21.725399",
     "status": "completed"
    },
    "tags": []
   },
   "source": [
    "# Submission"
   ]
  },
  {
   "cell_type": "code",
   "execution_count": 22,
   "id": "2365c82d",
   "metadata": {
    "execution": {
     "iopub.execute_input": "2025-06-02T10:22:22.149447Z",
     "iopub.status.busy": "2025-06-02T10:22:22.149092Z",
     "iopub.status.idle": "2025-06-02T10:22:23.790223Z",
     "shell.execute_reply": "2025-06-02T10:22:23.789360Z"
    },
    "papermill": {
     "duration": 1.675935,
     "end_time": "2025-06-02T10:22:23.791886",
     "exception": false,
     "start_time": "2025-06-02T10:22:22.115951",
     "status": "completed"
    },
    "tags": []
   },
   "outputs": [
    {
     "data": {
      "text/html": [
       "<div>\n",
       "<style scoped>\n",
       "    .dataframe tbody tr th:only-of-type {\n",
       "        vertical-align: middle;\n",
       "    }\n",
       "\n",
       "    .dataframe tbody tr th {\n",
       "        vertical-align: top;\n",
       "    }\n",
       "\n",
       "    .dataframe thead th {\n",
       "        text-align: right;\n",
       "    }\n",
       "</style>\n",
       "<table border=\"1\" class=\"dataframe\">\n",
       "  <thead>\n",
       "    <tr style=\"text-align: right;\">\n",
       "      <th></th>\n",
       "      <th>ID</th>\n",
       "      <th>prediction</th>\n",
       "    </tr>\n",
       "  </thead>\n",
       "  <tbody>\n",
       "    <tr>\n",
       "      <th>0</th>\n",
       "      <td>1</td>\n",
       "      <td>0.063711</td>\n",
       "    </tr>\n",
       "    <tr>\n",
       "      <th>1</th>\n",
       "      <td>2</td>\n",
       "      <td>0.043029</td>\n",
       "    </tr>\n",
       "    <tr>\n",
       "      <th>2</th>\n",
       "      <td>3</td>\n",
       "      <td>0.047002</td>\n",
       "    </tr>\n",
       "    <tr>\n",
       "      <th>3</th>\n",
       "      <td>4</td>\n",
       "      <td>-0.070476</td>\n",
       "    </tr>\n",
       "    <tr>\n",
       "      <th>4</th>\n",
       "      <td>5</td>\n",
       "      <td>0.150446</td>\n",
       "    </tr>\n",
       "  </tbody>\n",
       "</table>\n",
       "</div>"
      ],
      "text/plain": [
       "   ID  prediction\n",
       "0   1    0.063711\n",
       "1   2    0.043029\n",
       "2   3    0.047002\n",
       "3   4   -0.070476\n",
       "4   5    0.150446"
      ]
     },
     "execution_count": 22,
     "metadata": {},
     "output_type": "execute_result"
    }
   ],
   "source": [
    "sub = pd.read_csv(CFG.sample_sub_path)\n",
    "sub[\"prediction\"] = ridge_test_preds\n",
    "sub.to_csv(f\"sub_ridge_{overall_scores['Ridge (ensemble)'][0]:.6f}.csv\", index=False)\n",
    "sub.head()"
   ]
  },
  {
   "cell_type": "markdown",
   "id": "40076196",
   "metadata": {
    "papermill": {
     "duration": 0.031999,
     "end_time": "2025-06-02T10:22:23.856838",
     "exception": false,
     "start_time": "2025-06-02T10:22:23.824839",
     "status": "completed"
    },
    "tags": []
   },
   "source": [
    "# Results"
   ]
  },
  {
   "cell_type": "code",
   "execution_count": 23,
   "id": "ad350196",
   "metadata": {
    "execution": {
     "iopub.execute_input": "2025-06-02T10:22:23.924984Z",
     "iopub.status.busy": "2025-06-02T10:22:23.924611Z",
     "iopub.status.idle": "2025-06-02T10:22:24.321695Z",
     "shell.execute_reply": "2025-06-02T10:22:24.320362Z"
    },
    "papermill": {
     "duration": 0.432779,
     "end_time": "2025-06-02T10:22:24.323630",
     "exception": false,
     "start_time": "2025-06-02T10:22:23.890851",
     "status": "completed"
    },
    "tags": []
   },
   "outputs": [
    {
     "data": {
      "image/png": "[encoded data removed]",
      "text/plain": [
       "<Figure size 1500x250 with 2 Axes>"
      ]
     },
     "metadata": {},
     "output_type": "display_data"
    }
   ],
   "source": [
    "fold_scores = pd.DataFrame(fold_scores)\n",
    "overall_scores = pd.DataFrame(overall_scores).transpose().sort_values(by=0, ascending=False)\n",
    "order = overall_scores.index.tolist()\n",
    "\n",
    "min_score = overall_scores.values.flatten().min()\n",
    "max_score = overall_scores.values.flatten().max()\n",
    "padding = (max_score - min_score) * 0.5\n",
    "lower_limit = min_score - padding\n",
    "upper_limit = max_score + padding\n",
    "\n",
    "fig, axs = plt.subplots(1, 2, figsize=(15, fold_scores.shape[1] * 0.5))\n",
    "\n",
    "boxplot = sns.boxplot(data=fold_scores, order=order, ax=axs[0], orient=\"h\", color=\"grey\")\n",
    "axs[0].set_title(f\"Fold Score\")\n",
    "axs[0].set_xlabel(\"\")\n",
    "axs[0].set_ylabel(\"\")\n",
    "\n",
    "barplot = sns.barplot(x=overall_scores.values.flatten(), y=overall_scores.index, ax=axs[1], color=\"grey\")\n",
    "axs[1].set_title(f\"Overall Score\")\n",
    "axs[1].set_xlabel(\"\")\n",
    "axs[1].set_xlim(left=lower_limit, right=upper_limit)\n",
    "axs[1].set_ylabel(\"\")\n",
    "\n",
    "for i, (score, model) in enumerate(zip(overall_scores.values.flatten(), overall_scores.index)):\n",
    "    color = \"cyan\" if \"ensemble\" in model.lower() else \"grey\"\n",
    "    barplot.patches[i].set_facecolor(color)\n",
    "    boxplot.patches[i].set_facecolor(color)\n",
    "    barplot.text(score, i, round(score, 6), va=\"center\")\n",
    "\n",
    "plt.tight_layout()\n",
    "plt.show()"
   ]
  }
 ],
 "metadata": {
  "kaggle": {
   "accelerator": "none",
   "dataSources": [
    {
     "databundleVersionId": 11418275,
     "sourceId": 96164,
     "sourceType": "competition"
    },
    {
     "sourceId": 242789450,
     "sourceType": "kernelVersion"
    }
   ],
   "dockerImageVersionId": 31040,
   "isGpuEnabled": false,
   "isInternetEnabled": true,
   "language": "python",
   "sourceType": "notebook"
  },
  "kernelspec": {
   "display_name": "Python 3",
   "language": "python",
   "name": "python3"
  },
  "language_info": {
   "codemirror_mode": {
    "name": "ipython",
    "version": 3
   },
   "file_extension": ".py",
   "mimetype": "text/x-python",
   "name": "python",
   "nbconvert_exporter": "python",
   "pygments_lexer": "ipython3",
   "version": "3.11.11"
  },
  "papermill": {
   "default_parameters": {},
   "duration": 9356.353405,
   "end_time": "2025-06-02T10:22:28.112495",
   "environment_variables": {},
   "exception": null,
   "input_path": "__notebook__.ipynb",
   "output_path": "__notebook__.ipynb",
   "parameters": {},
   "start_time": "2025-06-02T07:46:31.759090",
   "version": "2.6.0"
  }
 },
 "nbformat": 4,
 "nbformat_minor": 5
}
