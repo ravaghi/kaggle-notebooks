{
 "cells": [
  {
   "cell_type": "code",
   "execution_count": 1,
   "id": "e1648bf0",
   "metadata": {
    "_kg_hide-output": true,
    "execution": {
     "iopub.execute_input": "2025-05-24T17:52:50.086304Z",
     "iopub.status.busy": "2025-05-24T17:52:50.086001Z",
     "iopub.status.idle": "2025-05-24T17:52:58.891024Z",
     "shell.execute_reply": "2025-05-24T17:52:58.889859Z"
    },
    "papermill": {
     "duration": 8.81363,
     "end_time": "2025-05-24T17:52:58.892878",
     "exception": false,
     "start_time": "2025-05-24T17:52:50.079248",
     "status": "completed"
    },
    "scrolled": true,
    "tags": []
   },
   "outputs": [
    {
     "name": "stdout",
     "output_type": "stream",
     "text": [
      "Collecting scikit-learn==1.5.2\r\n",
      "  Downloading scikit_learn-1.5.2-cp311-cp311-manylinux_2_17_x86_64.manylinux2014_x86_64.whl.metadata (13 kB)\r\n",
      "Requirement already satisfied: numpy>=1.19.5 in /usr/local/lib/python3.11/dist-packages (from scikit-learn==1.5.2) (1.26.4)\r\n",
      "Requirement already satisfied: scipy>=1.6.0 in /usr/local/lib/python3.11/dist-packages (from scikit-learn==1.5.2) (1.15.2)\r\n",
      "Requirement already satisfied: joblib>=1.2.0 in /usr/local/lib/python3.11/dist-packages (from scikit-learn==1.5.2) (1.5.0)\r\n",
      "Requirement already satisfied: threadpoolctl>=3.1.0 in /usr/local/lib/python3.11/dist-packages (from scikit-learn==1.5.2) (3.6.0)\r\n",
      "Requirement already satisfied: mkl_fft in /usr/local/lib/python3.11/dist-packages (from numpy>=1.19.5->scikit-learn==1.5.2) (1.3.8)\r\n",
      "Requirement already satisfied: mkl_random in /usr/local/lib/python3.11/dist-packages (from numpy>=1.19.5->scikit-learn==1.5.2) (1.2.4)\r\n",
      "Requirement already satisfied: mkl_umath in /usr/local/lib/python3.11/dist-packages (from numpy>=1.19.5->scikit-learn==1.5.2) (0.1.1)\r\n",
      "Requirement already satisfied: mkl in /usr/local/lib/python3.11/dist-packages (from numpy>=1.19.5->scikit-learn==1.5.2) (2025.1.0)\r\n",
      "Requirement already satisfied: tbb4py in /usr/local/lib/python3.11/dist-packages (from numpy>=1.19.5->scikit-learn==1.5.2) (2022.1.0)\r\n",
      "Requirement already satisfied: mkl-service in /usr/local/lib/python3.11/dist-packages (from numpy>=1.19.5->scikit-learn==1.5.2) (2.4.1)\r\n",
      "Requirement already satisfied: intel-openmp<2026,>=2024 in /usr/local/lib/python3.11/dist-packages (from mkl->numpy>=1.19.5->scikit-learn==1.5.2) (2024.2.0)\r\n",
      "Requirement already satisfied: tbb==2022.* in /usr/local/lib/python3.11/dist-packages (from mkl->numpy>=1.19.5->scikit-learn==1.5.2) (2022.1.0)\r\n",
      "Requirement already satisfied: tcmlib==1.* in /usr/local/lib/python3.11/dist-packages (from tbb==2022.*->mkl->numpy>=1.19.5->scikit-learn==1.5.2) (1.3.0)\r\n",
      "Requirement already satisfied: intel-cmplr-lib-rt in /usr/local/lib/python3.11/dist-packages (from mkl_umath->numpy>=1.19.5->scikit-learn==1.5.2) (2024.2.0)\r\n",
      "Requirement already satisfied: intel-cmplr-lib-ur==2024.2.0 in /usr/local/lib/python3.11/dist-packages (from intel-openmp<2026,>=2024->mkl->numpy>=1.19.5->scikit-learn==1.5.2) (2024.2.0)\r\n",
      "Downloading scikit_learn-1.5.2-cp311-cp311-manylinux_2_17_x86_64.manylinux2014_x86_64.whl (13.3 MB)\r\n",
      "\u001b[2K   \u001b[90m━━━━━━━━━━━━━━━━━━━━━━━━━━━━━━━━━━━━━━━━\u001b[0m \u001b[32m13.3/13.3 MB\u001b[0m \u001b[31m86.2 MB/s\u001b[0m eta \u001b[36m0:00:00\u001b[0m\r\n",
      "\u001b[?25hInstalling collected packages: scikit-learn\r\n",
      "  Attempting uninstall: scikit-learn\r\n",
      "    Found existing installation: scikit-learn 1.2.2\r\n",
      "    Uninstalling scikit-learn-1.2.2:\r\n",
      "      Successfully uninstalled scikit-learn-1.2.2\r\n",
      "\u001b[31mERROR: pip's dependency resolver does not currently take into account all the packages that are installed. This behaviour is the source of the following dependency conflicts.\r\n",
      "cesium 0.12.4 requires numpy<3.0,>=2.0, but you have numpy 1.26.4 which is incompatible.\u001b[0m\u001b[31m\r\n",
      "\u001b[0mSuccessfully installed scikit-learn-1.5.2\r\n"
     ]
    }
   ],
   "source": [
    "!pip install scikit-learn==1.5.2"
   ]
  },
  {
   "cell_type": "markdown",
   "id": "446b9023",
   "metadata": {
    "papermill": {
     "duration": 0.004636,
     "end_time": "2025-05-24T17:52:58.902621",
     "exception": false,
     "start_time": "2025-05-24T17:52:58.897985",
     "status": "completed"
    },
    "tags": []
   },
   "source": [
    "# Imports and configs"
   ]
  },
  {
   "cell_type": "code",
   "execution_count": 2,
   "id": "2a56272c",
   "metadata": {
    "_kg_hide-output": true,
    "execution": {
     "iopub.execute_input": "2025-05-24T17:52:58.912943Z",
     "iopub.status.busy": "2025-05-24T17:52:58.912286Z",
     "iopub.status.idle": "2025-05-24T17:53:07.532761Z",
     "shell.execute_reply": "2025-05-24T17:53:07.531985Z"
    },
    "papermill": {
     "duration": 8.627497,
     "end_time": "2025-05-24T17:53:07.534438",
     "exception": false,
     "start_time": "2025-05-24T17:52:58.906941",
     "status": "completed"
    },
    "tags": []
   },
   "outputs": [],
   "source": [
    "from sklearn.model_selection import KFold\n",
    "from sklearn.linear_model import Ridge\n",
    "from lightgbm import LGBMRegressor\n",
    "from scipy.stats import pearsonr\n",
    "from xgboost import XGBRegressor\n",
    "from sklearn.base import clone\n",
    "import matplotlib.pyplot as plt\n",
    "import seaborn as sns\n",
    "import pandas as pd\n",
    "import numpy as np\n",
    "import warnings\n",
    "import optuna\n",
    "import gc\n",
    "\n",
    "warnings.filterwarnings(\"ignore\")"
   ]
  },
  {
   "cell_type": "code",
   "execution_count": 3,
   "id": "281e4f11",
   "metadata": {
    "execution": {
     "iopub.execute_input": "2025-05-24T17:53:07.545652Z",
     "iopub.status.busy": "2025-05-24T17:53:07.545079Z",
     "iopub.status.idle": "2025-05-24T17:53:07.550347Z",
     "shell.execute_reply": "2025-05-24T17:53:07.549482Z"
    },
    "papermill": {
     "duration": 0.012401,
     "end_time": "2025-05-24T17:53:07.551709",
     "exception": false,
     "start_time": "2025-05-24T17:53:07.539308",
     "status": "completed"
    },
    "tags": []
   },
   "outputs": [],
   "source": [
    "class CFG:\n",
    "    train_path = \"/kaggle/input/drw-crypto-market-prediction/train.parquet\"\n",
    "    test_path = \"/kaggle/input/drw-crypto-market-prediction/test.parquet\"\n",
    "    sample_sub_path = \"/kaggle/input/drw-crypto-market-prediction/sample_submission.csv\"\n",
    "\n",
    "    target = \"label\"\n",
    "    n_folds = 5\n",
    "    seed = 42\n",
    "\n",
    "    run_optuna = True\n",
    "    n_optuna_trials = 250"
   ]
  },
  {
   "cell_type": "markdown",
   "id": "179e6545",
   "metadata": {
    "papermill": {
     "duration": 0.004134,
     "end_time": "2025-05-24T17:53:07.560321",
     "exception": false,
     "start_time": "2025-05-24T17:53:07.556187",
     "status": "completed"
    },
    "tags": []
   },
   "source": [
    "# Data loading and preprocessing"
   ]
  },
  {
   "cell_type": "code",
   "execution_count": 4,
   "id": "67dec131",
   "metadata": {
    "_kg_hide-input": true,
    "execution": {
     "iopub.execute_input": "2025-05-24T17:53:07.570064Z",
     "iopub.status.busy": "2025-05-24T17:53:07.569733Z",
     "iopub.status.idle": "2025-05-24T17:53:07.579310Z",
     "shell.execute_reply": "2025-05-24T17:53:07.578407Z"
    },
    "papermill": {
     "duration": 0.016171,
     "end_time": "2025-05-24T17:53:07.580726",
     "exception": false,
     "start_time": "2025-05-24T17:53:07.564555",
     "status": "completed"
    },
    "tags": []
   },
   "outputs": [],
   "source": [
    "def reduce_mem_usage(dataframe, dataset):    \n",
    "    print('Reducing memory usage for:', dataset)\n",
    "    initial_mem_usage = dataframe.memory_usage().sum() / 1024**2\n",
    "    \n",
    "    for col in dataframe.columns:\n",
    "        col_type = dataframe[col].dtype\n",
    "\n",
    "        c_min = dataframe[col].min()\n",
    "        c_max = dataframe[col].max()\n",
    "        if str(col_type)[:3] == 'int':\n",
    "            if c_min > np.iinfo(np.int8).min and c_max < np.iinfo(np.int8).max:\n",
    "                dataframe[col] = dataframe[col].astype(np.int8)\n",
    "            elif c_min > np.iinfo(np.int16).min and c_max < np.iinfo(np.int16).max:\n",
    "                dataframe[col] = dataframe[col].astype(np.int16)\n",
    "            elif c_min > np.iinfo(np.int32).min and c_max < np.iinfo(np.int32).max:\n",
    "                dataframe[col] = dataframe[col].astype(np.int32)\n",
    "            elif c_min > np.iinfo(np.int64).min and c_max < np.iinfo(np.int64).max:\n",
    "                dataframe[col] = dataframe[col].astype(np.int64)\n",
    "        else:\n",
    "            if c_min > np.finfo(np.float16).min and c_max < np.finfo(np.float16).max:\n",
    "                dataframe[col] = dataframe[col].astype(np.float16)\n",
    "            elif c_min > np.finfo(np.float32).min and c_max < np.finfo(np.float32).max:\n",
    "                dataframe[col] = dataframe[col].astype(np.float32)\n",
    "            else:\n",
    "                dataframe[col] = dataframe[col].astype(np.float64)\n",
    "\n",
    "    final_mem_usage = dataframe.memory_usage().sum() / 1024**2\n",
    "    print('--- Memory usage before: {:.2f} MB'.format(initial_mem_usage))\n",
    "    print('--- Memory usage after: {:.2f} MB'.format(final_mem_usage))\n",
    "    print('--- Decreased memory usage by {:.1f}%\\n'.format(100 * (initial_mem_usage - final_mem_usage) / initial_mem_usage))\n",
    "\n",
    "    return dataframe"
   ]
  },
  {
   "cell_type": "code",
   "execution_count": 5,
   "id": "3d03ae78",
   "metadata": {
    "execution": {
     "iopub.execute_input": "2025-05-24T17:53:07.590661Z",
     "iopub.status.busy": "2025-05-24T17:53:07.590371Z",
     "iopub.status.idle": "2025-05-24T17:53:07.595533Z",
     "shell.execute_reply": "2025-05-24T17:53:07.594685Z"
    },
    "papermill": {
     "duration": 0.011645,
     "end_time": "2025-05-24T17:53:07.596933",
     "exception": false,
     "start_time": "2025-05-24T17:53:07.585288",
     "status": "completed"
    },
    "tags": []
   },
   "outputs": [],
   "source": [
    "cols_to_drop = [\n",
    "    'X697', 'X698', 'X699', 'X700', 'X701', 'X702', 'X703', 'X704', 'X705', 'X706', \n",
    "    'X707', 'X708', 'X709', 'X710', 'X711', 'X712', 'X713', 'X714', 'X715', 'X716',\n",
    "    'X717', 'X864', 'X867', 'X869', 'X870', 'X871', 'X872', 'X104', 'X110', 'X116',\n",
    "    'X122', 'X128', 'X134', 'X140', 'X146', 'X152', 'X158', 'X164', 'X170', 'X176',\n",
    "    'X182', 'X351', 'X357', 'X363', 'X369', 'X375', 'X381', 'X387', 'X393', 'X399',\n",
    "    'X405', 'X411', 'X417', 'X423', 'X429'\n",
    "]"
   ]
  },
  {
   "cell_type": "code",
   "execution_count": 6,
   "id": "092c80b0",
   "metadata": {
    "execution": {
     "iopub.execute_input": "2025-05-24T17:53:07.607194Z",
     "iopub.status.busy": "2025-05-24T17:53:07.606605Z",
     "iopub.status.idle": "2025-05-24T17:54:24.518708Z",
     "shell.execute_reply": "2025-05-24T17:54:24.517658Z"
    },
    "papermill": {
     "duration": 76.919341,
     "end_time": "2025-05-24T17:54:24.520803",
     "exception": false,
     "start_time": "2025-05-24T17:53:07.601462",
     "status": "completed"
    },
    "tags": []
   },
   "outputs": [
    {
     "name": "stdout",
     "output_type": "stream",
     "text": [
      "Reducing memory usage for: train\n",
      "--- Memory usage before: 3374.26 MB\n",
      "--- Memory usage after: 843.57 MB\n",
      "--- Decreased memory usage by 75.0%\n",
      "\n",
      "Reducing memory usage for: test\n",
      "--- Memory usage before: 3448.84 MB\n",
      "--- Memory usage after: 862.21 MB\n",
      "--- Decreased memory usage by 75.0%\n",
      "\n"
     ]
    }
   ],
   "source": [
    "train = pd.read_parquet(CFG.train_path).reset_index(drop=True)\n",
    "test = pd.read_parquet(CFG.test_path).reset_index(drop=True)\n",
    "\n",
    "train = train.drop(columns=cols_to_drop)\n",
    "test = test.drop(columns=[\"label\"] + cols_to_drop)\n",
    "\n",
    "train = reduce_mem_usage(train, \"train\")\n",
    "test = reduce_mem_usage(test, \"test\")\n",
    "\n",
    "X = train.drop(CFG.target, axis=1)\n",
    "y = train[CFG.target]\n",
    "X_test = test"
   ]
  },
  {
   "cell_type": "markdown",
   "id": "b74518a8",
   "metadata": {
    "papermill": {
     "duration": 0.004576,
     "end_time": "2025-05-24T17:54:24.530846",
     "exception": false,
     "start_time": "2025-05-24T17:54:24.526270",
     "status": "completed"
    },
    "tags": []
   },
   "source": [
    "# Training base models"
   ]
  },
  {
   "cell_type": "code",
   "execution_count": 7,
   "id": "3c55f9c6",
   "metadata": {
    "_kg_hide-input": true,
    "execution": {
     "iopub.execute_input": "2025-05-24T17:54:24.542210Z",
     "iopub.status.busy": "2025-05-24T17:54:24.541859Z",
     "iopub.status.idle": "2025-05-24T17:54:24.552686Z",
     "shell.execute_reply": "2025-05-24T17:54:24.551938Z"
    },
    "papermill": {
     "duration": 0.018126,
     "end_time": "2025-05-24T17:54:24.553974",
     "exception": false,
     "start_time": "2025-05-24T17:54:24.535848",
     "status": "completed"
    },
    "tags": []
   },
   "outputs": [],
   "source": [
    "class Trainer:\n",
    "    def __init__(self, model):\n",
    "        self.model = model\n",
    "\n",
    "    def fit_predict(self, X, y, X_test):\n",
    "        print(f\"Training {self.model.__class__.__name__}\\n\")\n",
    "\n",
    "        fold_scores = []\n",
    "        oof_preds = np.zeros(X.shape[0])\n",
    "        test_preds = np.zeros(X_test.shape[0])\n",
    "\n",
    "        split = KFold(n_splits=CFG.n_folds, shuffle=False).split(X, y)\n",
    "        for fold_idx, (train_idx, val_idx) in enumerate(split):\n",
    "\n",
    "            X_train, X_val = X.iloc[train_idx], X.iloc[val_idx]\n",
    "            y_train, y_val = y[train_idx], y[val_idx]\n",
    "\n",
    "            model = clone(self.model)\n",
    "            model.fit(X_train, y_train)\n",
    "\n",
    "            y_preds = model.predict(X_val)\n",
    "            oof_preds[val_idx] = y_preds\n",
    "            \n",
    "            temp_test_preds = model.predict(X_test)\n",
    "            test_preds += temp_test_preds / CFG.n_folds\n",
    "\n",
    "            fold_score = pearsonr(y_val, y_preds)[0]\n",
    "            fold_scores.append(fold_score)\n",
    "\n",
    "            print(f\"--- Fold {fold_idx} - Score: {fold_score:.6f}\")\n",
    "\n",
    "            del X_train, y_train, X_val, y_val, y_preds, model, temp_test_preds\n",
    "            gc.collect()\n",
    "\n",
    "        overall_score = pearsonr(y, oof_preds)[0]\n",
    "        mean_score = np.mean(fold_scores)\n",
    "        std_score = np.std(fold_scores)\n",
    "        \n",
    "        print(f\"\\n------ Overall Score: {overall_score:.6f} - Mean Score: {mean_score:.6f} ± {std_score:.6f}\")\n",
    "        \n",
    "        return oof_preds, test_preds, fold_scores\n",
    "    \n",
    "    def tune(self, X, y):\n",
    "        fold_scores = []\n",
    "        \n",
    "        split = KFold(n_splits=CFG.n_folds, shuffle=False).split(X, y)\n",
    "        for train_idx, val_idx in split:\n",
    "            X_train, X_val = X.iloc[train_idx], X.iloc[val_idx]\n",
    "            y_train, y_val = y[train_idx], y[val_idx]\n",
    "\n",
    "            model = clone(self.model)\n",
    "            model.fit(X_train, y_train)\n",
    "\n",
    "            y_preds = model.predict(X_val)\n",
    "            fold_score = pearsonr(y_val, y_preds)[0]\n",
    "            fold_scores.append(fold_score)\n",
    "\n",
    "            del X_train, y_train, X_val, y_val, y_preds, model\n",
    "            gc.collect()\n",
    "\n",
    "        return np.mean(fold_scores)"
   ]
  },
  {
   "cell_type": "code",
   "execution_count": 8,
   "id": "d2f7188e",
   "metadata": {
    "_kg_hide-input": true,
    "_kg_hide-output": true,
    "execution": {
     "iopub.execute_input": "2025-05-24T17:54:24.566671Z",
     "iopub.status.busy": "2025-05-24T17:54:24.566348Z",
     "iopub.status.idle": "2025-05-24T17:54:24.573173Z",
     "shell.execute_reply": "2025-05-24T17:54:24.572352Z"
    },
    "papermill": {
     "duration": 0.015676,
     "end_time": "2025-05-24T17:54:24.574516",
     "exception": false,
     "start_time": "2025-05-24T17:54:24.558840",
     "status": "completed"
    },
    "tags": []
   },
   "outputs": [],
   "source": [
    "lgbm_params = {\n",
    "    \"boosting_type\": \"gbdt\",\n",
    "    \"colsample_bytree\": 0.5242042724303907,\n",
    "    \"learning_rate\": 0.014470794293130388,\n",
    "    \"min_child_samples\": 47,\n",
    "    \"min_child_weight\": 0.1936457311991661,\n",
    "    \"n_estimators\": 441,\n",
    "    \"n_jobs\": -1,\n",
    "    \"num_leaves\": 65,\n",
    "    \"random_state\": 42,\n",
    "    \"reg_alpha\": 76.69015407123774,\n",
    "    \"reg_lambda\": 78.57981723239948,\n",
    "    \"subsample\": 0.35497610282716086,\n",
    "    \"verbose\": -1\n",
    "}\n",
    "\n",
    "lgbm_goss_params = {\n",
    "    \"boosting_type\": \"goss\",\n",
    "    \"colsample_bytree\": 0.32266516869045214,\n",
    "    \"learning_rate\": 0.013684657681610528,\n",
    "    \"min_child_samples\": 47,\n",
    "    \"min_child_weight\": 0.652800548618323,\n",
    "    \"n_estimators\": 268,\n",
    "    \"n_jobs\": -1,\n",
    "    \"num_leaves\": 25,\n",
    "    \"random_state\": 42,\n",
    "    \"reg_alpha\": 24.43093150663448,\n",
    "    \"reg_lambda\": 39.81794248056326,\n",
    "    \"subsample\": 0.21026644887863555,\n",
    "    \"verbose\": -1\n",
    "}\n",
    "\n",
    "xgb_params = {\n",
    "    \"colsample_bylevel\": 0.4634967322919854,\n",
    "    \"colsample_bynode\": 0.6046331585629835,\n",
    "    \"colsample_bytree\": 0.11495541333509408,\n",
    "    \"gamma\": 1.0397769239502863,\n",
    "    \"learning_rate\": 0.09622196913585954,\n",
    "    \"max_depth\": 40,\n",
    "    \"max_leaves\": 19,\n",
    "    \"min_child_weight\": 76,\n",
    "    \"n_estimators\": 679,\n",
    "    \"n_jobs\": -1,\n",
    "    \"random_state\": 42,\n",
    "    \"reg_alpha\": 65.41659225037377,\n",
    "    \"reg_lambda\": 19.907991015311545,\n",
    "    \"subsample\": 0.014465324175810368,\n",
    "    \"verbosity\": 0\n",
    "}"
   ]
  },
  {
   "cell_type": "code",
   "execution_count": 9,
   "id": "06eefdea",
   "metadata": {
    "execution": {
     "iopub.execute_input": "2025-05-24T17:54:24.585687Z",
     "iopub.status.busy": "2025-05-24T17:54:24.584912Z",
     "iopub.status.idle": "2025-05-24T17:54:24.588758Z",
     "shell.execute_reply": "2025-05-24T17:54:24.588107Z"
    },
    "papermill": {
     "duration": 0.010707,
     "end_time": "2025-05-24T17:54:24.590175",
     "exception": false,
     "start_time": "2025-05-24T17:54:24.579468",
     "status": "completed"
    },
    "tags": []
   },
   "outputs": [],
   "source": [
    "scores = {}\n",
    "oof_preds = {}\n",
    "test_preds = {}"
   ]
  },
  {
   "cell_type": "markdown",
   "id": "df533cb6",
   "metadata": {
    "papermill": {
     "duration": 0.004503,
     "end_time": "2025-05-24T17:54:24.599524",
     "exception": false,
     "start_time": "2025-05-24T17:54:24.595021",
     "status": "completed"
    },
    "tags": []
   },
   "source": [
    "## LightGBM (gbdt)"
   ]
  },
  {
   "cell_type": "code",
   "execution_count": 10,
   "id": "b3ad8aa0",
   "metadata": {
    "execution": {
     "iopub.execute_input": "2025-05-24T17:54:24.609944Z",
     "iopub.status.busy": "2025-05-24T17:54:24.609583Z",
     "iopub.status.idle": "2025-05-24T18:17:15.668147Z",
     "shell.execute_reply": "2025-05-24T18:17:15.667137Z"
    },
    "papermill": {
     "duration": 1371.065582,
     "end_time": "2025-05-24T18:17:15.669714",
     "exception": false,
     "start_time": "2025-05-24T17:54:24.604132",
     "status": "completed"
    },
    "tags": []
   },
   "outputs": [
    {
     "name": "stdout",
     "output_type": "stream",
     "text": [
      "Training LGBMRegressor\n",
      "\n",
      "--- Fold 0 - Score: 0.172176\n",
      "--- Fold 1 - Score: 0.108129\n",
      "--- Fold 2 - Score: 0.047617\n",
      "--- Fold 3 - Score: 0.131234\n",
      "--- Fold 4 - Score: 0.065895\n",
      "\n",
      "------ Overall Score: 0.094882 - Mean Score: 0.105010 ± 0.044794\n"
     ]
    }
   ],
   "source": [
    "lgbm_trainer = Trainer(\n",
    "    LGBMRegressor(**lgbm_params)\n",
    ")\n",
    "\n",
    "oof_preds[\"LightGBM (gbdt)\"], test_preds[\"LightGBM (gbdt)\"], scores[\"LightGBM (gbdt)\"] = lgbm_trainer.fit_predict(X, y, X_test)"
   ]
  },
  {
   "cell_type": "markdown",
   "id": "97c49983",
   "metadata": {
    "papermill": {
     "duration": 0.005192,
     "end_time": "2025-05-24T18:17:15.680500",
     "exception": false,
     "start_time": "2025-05-24T18:17:15.675308",
     "status": "completed"
    },
    "tags": []
   },
   "source": [
    "## LightGBM (goss)"
   ]
  },
  {
   "cell_type": "code",
   "execution_count": 11,
   "id": "b0395c6e",
   "metadata": {
    "execution": {
     "iopub.execute_input": "2025-05-24T18:17:15.692533Z",
     "iopub.status.busy": "2025-05-24T18:17:15.692184Z",
     "iopub.status.idle": "2025-05-24T18:25:57.821982Z",
     "shell.execute_reply": "2025-05-24T18:25:57.820851Z"
    },
    "papermill": {
     "duration": 522.138011,
     "end_time": "2025-05-24T18:25:57.823828",
     "exception": false,
     "start_time": "2025-05-24T18:17:15.685817",
     "status": "completed"
    },
    "tags": []
   },
   "outputs": [
    {
     "name": "stdout",
     "output_type": "stream",
     "text": [
      "Training LGBMRegressor\n",
      "\n",
      "--- Fold 0 - Score: 0.139381\n",
      "--- Fold 1 - Score: 0.107386\n",
      "--- Fold 2 - Score: 0.060590\n",
      "--- Fold 3 - Score: 0.159686\n",
      "--- Fold 4 - Score: 0.078235\n",
      "\n",
      "------ Overall Score: 0.098311 - Mean Score: 0.109056 ± 0.036837\n"
     ]
    }
   ],
   "source": [
    "lgbm_goss_trainer = Trainer(LGBMRegressor(**lgbm_goss_params))\n",
    "\n",
    "oof_preds[\"LightGBM (goss)\"], test_preds[\"LightGBM (goss)\"], scores[\"LightGBM (goss)\"] = lgbm_goss_trainer.fit_predict(X, y, X_test)"
   ]
  },
  {
   "cell_type": "markdown",
   "id": "1e8f1a7b",
   "metadata": {
    "papermill": {
     "duration": 0.00904,
     "end_time": "2025-05-24T18:25:57.840397",
     "exception": false,
     "start_time": "2025-05-24T18:25:57.831357",
     "status": "completed"
    },
    "tags": []
   },
   "source": [
    "## XGBoost"
   ]
  },
  {
   "cell_type": "code",
   "execution_count": 12,
   "id": "9ceb5a49",
   "metadata": {
    "execution": {
     "iopub.execute_input": "2025-05-24T18:25:57.855625Z",
     "iopub.status.busy": "2025-05-24T18:25:57.855248Z",
     "iopub.status.idle": "2025-05-24T19:12:04.444286Z",
     "shell.execute_reply": "2025-05-24T19:12:04.443290Z"
    },
    "papermill": {
     "duration": 2766.606029,
     "end_time": "2025-05-24T19:12:04.452720",
     "exception": false,
     "start_time": "2025-05-24T18:25:57.846691",
     "status": "completed"
    },
    "tags": []
   },
   "outputs": [
    {
     "name": "stdout",
     "output_type": "stream",
     "text": [
      "Training XGBRegressor\n",
      "\n",
      "--- Fold 0 - Score: 0.176297\n",
      "--- Fold 1 - Score: 0.099319\n",
      "--- Fold 2 - Score: 0.083288\n",
      "--- Fold 3 - Score: 0.118652\n",
      "--- Fold 4 - Score: 0.056673\n",
      "\n",
      "------ Overall Score: 0.106179 - Mean Score: 0.106846 ± 0.040229\n"
     ]
    }
   ],
   "source": [
    "xgb_trainer = Trainer(XGBRegressor(**xgb_params))\n",
    "\n",
    "oof_preds[\"XGBoost\"], test_preds[\"XGBoost\"], scores[\"XGBoost\"] = xgb_trainer.fit_predict(X, y, X_test)"
   ]
  },
  {
   "cell_type": "markdown",
   "id": "0e06b852",
   "metadata": {
    "papermill": {
     "duration": 0.005755,
     "end_time": "2025-05-24T19:12:04.464782",
     "exception": false,
     "start_time": "2025-05-24T19:12:04.459027",
     "status": "completed"
    },
    "tags": []
   },
   "source": [
    "# Ensembling with Ridge"
   ]
  },
  {
   "cell_type": "code",
   "execution_count": 13,
   "id": "c6d50a1c",
   "metadata": {
    "execution": {
     "iopub.execute_input": "2025-05-24T19:12:04.477922Z",
     "iopub.status.busy": "2025-05-24T19:12:04.477585Z",
     "iopub.status.idle": "2025-05-24T19:12:04.491767Z",
     "shell.execute_reply": "2025-05-24T19:12:04.491100Z"
    },
    "papermill": {
     "duration": 0.022877,
     "end_time": "2025-05-24T19:12:04.493367",
     "exception": false,
     "start_time": "2025-05-24T19:12:04.470490",
     "status": "completed"
    },
    "tags": []
   },
   "outputs": [],
   "source": [
    "X = pd.DataFrame(oof_preds)\n",
    "X_test = pd.DataFrame(test_preds)"
   ]
  },
  {
   "cell_type": "code",
   "execution_count": 14,
   "id": "de134e2d",
   "metadata": {
    "_kg_hide-output": true,
    "execution": {
     "iopub.execute_input": "2025-05-24T19:12:04.507290Z",
     "iopub.status.busy": "2025-05-24T19:12:04.507001Z",
     "iopub.status.idle": "2025-05-24T19:15:59.118774Z",
     "shell.execute_reply": "2025-05-24T19:15:59.118043Z"
    },
    "papermill": {
     "duration": 234.620769,
     "end_time": "2025-05-24T19:15:59.120287",
     "exception": false,
     "start_time": "2025-05-24T19:12:04.499518",
     "status": "completed"
    },
    "scrolled": true,
    "tags": []
   },
   "outputs": [
    {
     "name": "stderr",
     "output_type": "stream",
     "text": [
      "[I 2025-05-24 19:12:04,513] A new study created in memory with name: no-name-a133a765-a6f2-44ff-a2e0-3077aec50907\n",
      "[I 2025-05-24 19:12:07,498] Trial 0 finished with value: 0.12297537048325421 and parameters: {'alpha': 843.6116948343266, 'tol': 0.0040131555306970445, 'fit_intercept': False, 'positive': True}. Best is trial 0 with value: 0.12297537048325421.\n",
      "[I 2025-05-24 19:12:07,834] Trial 1 finished with value: 0.1228982623077682 and parameters: {'alpha': 673.8683817273492, 'tol': 0.004071173290143001, 'fit_intercept': True, 'positive': True}. Best is trial 0 with value: 0.12297537048325421.\n",
      "[I 2025-05-24 19:12:08,038] Trial 3 finished with value: 0.12297535924112293 and parameters: {'alpha': 978.081595440892, 'tol': 0.008979419576593638, 'fit_intercept': False, 'positive': True}. Best is trial 0 with value: 0.12297537048325421.\n",
      "[I 2025-05-24 19:12:08,429] Trial 2 finished with value: 0.12289854578699573 and parameters: {'alpha': 4.239606260071693, 'tol': 0.0039314826123453064, 'fit_intercept': True, 'positive': True}. Best is trial 0 with value: 0.12297537048325421.\n",
      "[I 2025-05-24 19:12:10,760] Trial 4 finished with value: 0.12054850845609813 and parameters: {'alpha': 378.0657890654726, 'tol': 0.007550779203255078, 'fit_intercept': True, 'positive': False}. Best is trial 0 with value: 0.12297537048325421.\n",
      "[I 2025-05-24 19:12:11,638] Trial 5 finished with value: 0.12289846371610477 and parameters: {'alpha': 198.34334434182176, 'tol': 0.005776721669066015, 'fit_intercept': True, 'positive': True}. Best is trial 0 with value: 0.12297537048325421.\n",
      "[I 2025-05-24 19:12:12,011] Trial 6 finished with value: 0.122898296119401 and parameters: {'alpha': 594.1161393817096, 'tol': 0.007349825208336141, 'fit_intercept': True, 'positive': True}. Best is trial 0 with value: 0.12297537048325421.\n",
      "[I 2025-05-24 19:12:12,012] Trial 7 finished with value: 0.12297536546257662 and parameters: {'alpha': 904.235262147796, 'tol': 0.009389434538792504, 'fit_intercept': False, 'positive': True}. Best is trial 0 with value: 0.12297537048325421.\n",
      "[I 2025-05-24 19:12:14,316] Trial 8 finished with value: 0.12075357281539603 and parameters: {'alpha': 580.1020149089036, 'tol': 0.009121219681946572, 'fit_intercept': True, 'positive': False}. Best is trial 0 with value: 0.12297537048325421.\n",
      "[I 2025-05-24 19:12:14,847] Trial 9 finished with value: 0.12047549335957072 and parameters: {'alpha': 632.669595510978, 'tol': 0.002938161771330787, 'fit_intercept': False, 'positive': False}. Best is trial 0 with value: 0.12297537048325421.\n",
      "[I 2025-05-24 19:12:15,409] Trial 11 finished with value: 0.12038113603376902 and parameters: {'alpha': 549.2664381837491, 'tol': 0.0035279707405070173, 'fit_intercept': False, 'positive': False}. Best is trial 0 with value: 0.12297537048325421.\n",
      "[I 2025-05-24 19:12:15,837] Trial 10 finished with value: 0.12297535753855 and parameters: {'alpha': 998.0548466954245, 'tol': 0.006522702161889343, 'fit_intercept': False, 'positive': True}. Best is trial 0 with value: 0.12297537048325421.\n",
      "[I 2025-05-24 19:12:18,244] Trial 12 finished with value: 0.12297538380117393 and parameters: {'alpha': 677.9377869393795, 'tol': 0.0004737732770724302, 'fit_intercept': False, 'positive': True}. Best is trial 12 with value: 0.12297538380117393.\n",
      "[I 2025-05-24 19:12:18,833] Trial 13 finished with value: 0.12148702292238711 and parameters: {'alpha': 758.5502241363487, 'tol': 0.00011881113631377139, 'fit_intercept': False, 'positive': True}. Best is trial 12 with value: 0.12297538380117393.\n",
      "[I 2025-05-24 19:12:19,180] Trial 14 finished with value: 0.12297535752738908 and parameters: {'alpha': 998.1854527830417, 'tol': 0.003999243330692149, 'fit_intercept': False, 'positive': True}. Best is trial 12 with value: 0.12297538380117393.\n",
      "[I 2025-05-24 19:12:19,739] Trial 15 finished with value: 0.12297536970546022 and parameters: {'alpha': 853.0657999303833, 'tol': 0.0029006247881834934, 'fit_intercept': False, 'positive': True}. Best is trial 12 with value: 0.12297538380117393.\n",
      "[I 2025-05-24 19:12:21,779] Trial 16 finished with value: 0.12297536644319532 and parameters: {'alpha': 892.4685923219475, 'tol': 0.0002494941950874665, 'fit_intercept': False, 'positive': True}. Best is trial 12 with value: 0.12297538380117393.\n",
      "[I 2025-05-24 19:12:22,371] Trial 17 finished with value: 0.12297540975578594 and parameters: {'alpha': 330.8656575840038, 'tol': 0.0009312103036214492, 'fit_intercept': False, 'positive': True}. Best is trial 17 with value: 0.12297540975578594.\n",
      "[I 2025-05-24 19:12:22,864] Trial 18 finished with value: 0.12297540603266577 and parameters: {'alpha': 382.92875371384537, 'tol': 0.002346892597100495, 'fit_intercept': False, 'positive': True}. Best is trial 17 with value: 0.12297540975578594.\n",
      "[I 2025-05-24 19:12:23,424] Trial 19 finished with value: 0.12297541387528979 and parameters: {'alpha': 272.24147261964754, 'tol': 0.001878479891198167, 'fit_intercept': False, 'positive': True}. Best is trial 19 with value: 0.12297541387528979.\n",
      "[I 2025-05-24 19:12:25,457] Trial 20 finished with value: 0.12297539828389185 and parameters: {'alpha': 488.68377086533474, 'tol': 0.0027606350314748045, 'fit_intercept': False, 'positive': True}. Best is trial 19 with value: 0.12297541387528979.\n",
      "[I 2025-05-24 19:12:26,340] Trial 21 finished with value: 0.12297541148517473 and parameters: {'alpha': 306.3886992315976, 'tol': 0.0019561219406989965, 'fit_intercept': False, 'positive': True}. Best is trial 19 with value: 0.12297541387528979.\n",
      "[I 2025-05-24 19:12:26,534] Trial 22 finished with value: 0.12297541798791474 and parameters: {'alpha': 212.58254907327256, 'tol': 0.0008754488866496365, 'fit_intercept': False, 'positive': True}. Best is trial 22 with value: 0.12297541798791474.\n",
      "[I 2025-05-24 19:12:26,711] Trial 23 finished with value: 0.11969104611759807 and parameters: {'alpha': 65.60236151044634, 'tol': 0.0034423190985785035, 'fit_intercept': False, 'positive': False}. Best is trial 22 with value: 0.12297541798791474.\n",
      "[I 2025-05-24 19:12:29,068] Trial 24 finished with value: 0.12297543142862939 and parameters: {'alpha': 8.73302032438147, 'tol': 0.0006164603180542157, 'fit_intercept': False, 'positive': True}. Best is trial 24 with value: 0.12297543142862939.\n",
      "[I 2025-05-24 19:12:29,667] Trial 26 finished with value: 0.11961509304946694 and parameters: {'alpha': 22.6455138348054, 'tol': 0.001937533920437363, 'fit_intercept': False, 'positive': False}. Best is trial 24 with value: 0.12297543142862939.\n",
      "[I 2025-05-24 19:12:30,206] Trial 25 finished with value: 0.12297542473076191 and parameters: {'alpha': 112.11948312534128, 'tol': 0.0006682359756404455, 'fit_intercept': False, 'positive': True}. Best is trial 24 with value: 0.12297543142862939.\n",
      "[I 2025-05-24 19:12:30,480] Trial 27 finished with value: 0.12297542830152634 and parameters: {'alpha': 57.474845015203954, 'tol': 0.002199335801400362, 'fit_intercept': False, 'positive': True}. Best is trial 24 with value: 0.12297543142862939.\n",
      "[I 2025-05-24 19:12:33,356] Trial 28 finished with value: 0.12175740684629148 and parameters: {'alpha': 40.83864056957651, 'tol': 0.00011593099656841696, 'fit_intercept': False, 'positive': True}. Best is trial 24 with value: 0.12297543142862939.\n",
      "[I 2025-05-24 19:12:33,750] Trial 29 finished with value: 0.12297543138954041 and parameters: {'alpha': 9.347612478644852, 'tol': 0.0014803927025438348, 'fit_intercept': False, 'positive': True}. Best is trial 24 with value: 0.12297543142862939.\n",
      "[I 2025-05-24 19:12:34,327] Trial 30 finished with value: 0.11945261475432531 and parameters: {'alpha': 126.736241180132, 'tol': 0.00016792094183533385, 'fit_intercept': False, 'positive': True}. Best is trial 24 with value: 0.12297543142862939.\n",
      "[I 2025-05-24 19:12:34,692] Trial 31 finished with value: 0.12297543109448547 and parameters: {'alpha': 13.982323617023624, 'tol': 0.000525980441625925, 'fit_intercept': False, 'positive': True}. Best is trial 24 with value: 0.12297543142862939.\n",
      "[I 2025-05-24 19:12:37,233] Trial 32 finished with value: 0.12289852850032787 and parameters: {'alpha': 45.14090161280675, 'tol': 0.0007378774328565809, 'fit_intercept': True, 'positive': True}. Best is trial 24 with value: 0.12297543142862939.\n",
      "[I 2025-05-24 19:12:37,625] Trial 33 finished with value: 0.12289849007061815 and parameters: {'alpha': 136.03513364095735, 'tol': 0.0005214284416887245, 'fit_intercept': True, 'positive': True}. Best is trial 24 with value: 0.12297543142862939.\n",
      "[I 2025-05-24 19:12:37,824] Trial 34 finished with value: 0.12297543155640303 and parameters: {'alpha': 6.7230862241164715, 'tol': 0.004247250382919242, 'fit_intercept': False, 'positive': True}. Best is trial 34 with value: 0.12297543155640303.\n",
      "[I 2025-05-24 19:12:38,202] Trial 35 finished with value: 0.12297543175313883 and parameters: {'alpha': 3.625472511432071, 'tol': 0.003382255680629832, 'fit_intercept': False, 'positive': True}. Best is trial 35 with value: 0.12297543175313883.\n",
      "[I 2025-05-24 19:12:40,890] Trial 36 finished with value: 0.12297542436280848 and parameters: {'alpha': 117.69155542471569, 'tol': 0.0036644477074340605, 'fit_intercept': False, 'positive': True}. Best is trial 35 with value: 0.12297543175313883.\n",
      "[I 2025-05-24 19:12:41,266] Trial 37 finished with value: 0.12297543000010291 and parameters: {'alpha': 31.10529884155675, 'tol': 0.005641579803566292, 'fit_intercept': False, 'positive': True}. Best is trial 35 with value: 0.12297543175313883.\n",
      "[I 2025-05-24 19:12:41,467] Trial 38 finished with value: 0.12297542894572018 and parameters: {'alpha': 47.50328414853355, 'tol': 0.005421072011647145, 'fit_intercept': False, 'positive': True}. Best is trial 35 with value: 0.12297543175313883.\n",
      "[I 2025-05-24 19:12:41,875] Trial 39 finished with value: 0.12297542801333783 and parameters: {'alpha': 61.92432859094761, 'tol': 0.005984959869148234, 'fit_intercept': False, 'positive': True}. Best is trial 35 with value: 0.12297543175313883.\n",
      "[I 2025-05-24 19:12:44,560] Trial 40 finished with value: 0.12297543138230167 and parameters: {'alpha': 9.461412015702496, 'tol': 0.006085066083621956, 'fit_intercept': False, 'positive': True}. Best is trial 35 with value: 0.12297543175313883.\n",
      "[I 2025-05-24 19:12:44,774] Trial 42 finished with value: 0.11995288967823795 and parameters: {'alpha': 227.24284787896755, 'tol': 0.009207725946234068, 'fit_intercept': False, 'positive': False}. Best is trial 35 with value: 0.12297543175313883.\n",
      "[I 2025-05-24 19:12:44,959] Trial 41 finished with value: 0.12297543083003382 and parameters: {'alpha': 18.12971352230166, 'tol': 0.003814722123466785, 'fit_intercept': False, 'positive': True}. Best is trial 35 with value: 0.12297543175313883.\n",
      "[I 2025-05-24 19:12:45,554] Trial 43 finished with value: 0.12297543072556442 and parameters: {'alpha': 19.76639094078405, 'tol': 0.0026307883651044755, 'fit_intercept': False, 'positive': True}. Best is trial 35 with value: 0.12297543175313883.\n",
      "[I 2025-05-24 19:12:47,890] Trial 44 finished with value: 0.12025231733465418 and parameters: {'alpha': 137.11331154141052, 'tol': 0.004914375436270251, 'fit_intercept': True, 'positive': False}. Best is trial 35 with value: 0.12297543175313883.\n",
      "[I 2025-05-24 19:12:48,791] Trial 46 finished with value: 0.12297543058732816 and parameters: {'alpha': 21.930592657777616, 'tol': 0.0026920515035042877, 'fit_intercept': False, 'positive': True}. Best is trial 35 with value: 0.12297543175313883.\n",
      "[I 2025-05-24 19:12:48,955] Trial 45 finished with value: 0.12289852073546222 and parameters: {'alpha': 63.510043840389926, 'tol': 0.008616713935292421, 'fit_intercept': True, 'positive': True}. Best is trial 35 with value: 0.12297543175313883.\n",
      "[I 2025-05-24 19:12:49,147] Trial 47 finished with value: 0.12066409457322966 and parameters: {'alpha': 487.73938019730224, 'tol': 0.0005926407337954491, 'fit_intercept': True, 'positive': False}. Best is trial 35 with value: 0.12297543175313883.\n",
      "[I 2025-05-24 19:12:51,458] Trial 48 finished with value: 0.12013696917809857 and parameters: {'alpha': 55.89092028530763, 'tol': 0.009153730258203586, 'fit_intercept': True, 'positive': False}. Best is trial 35 with value: 0.12297543175313883.\n",
      "[I 2025-05-24 19:12:52,364] Trial 50 finished with value: 0.12089523403856535 and parameters: {'alpha': 742.0109110636815, 'tol': 0.004471396946786833, 'fit_intercept': True, 'positive': False}. Best is trial 35 with value: 0.12297543175313883.\n",
      "[I 2025-05-24 19:12:52,547] Trial 51 finished with value: 0.12077934945653275 and parameters: {'alpha': 942.6828755014965, 'tol': 0.007381189802348823, 'fit_intercept': False, 'positive': False}. Best is trial 35 with value: 0.12297543175313883.\n",
      "[I 2025-05-24 19:12:52,751] Trial 49 finished with value: 0.12289854601319168 and parameters: {'alpha': 3.704351731394203, 'tol': 0.007798904148567182, 'fit_intercept': True, 'positive': True}. Best is trial 35 with value: 0.12297543175313883.\n",
      "[I 2025-05-24 19:12:55,466] Trial 52 finished with value: 0.12289852207055778 and parameters: {'alpha': 60.35177444309602, 'tol': 0.00425966687683515, 'fit_intercept': True, 'positive': True}. Best is trial 35 with value: 0.12297543175313883.\n",
      "[I 2025-05-24 19:12:55,904] Trial 54 finished with value: 0.12297542283109433 and parameters: {'alpha': 140.77246058856483, 'tol': 0.00966674423939184, 'fit_intercept': False, 'positive': True}. Best is trial 35 with value: 0.12297543175313883.\n",
      "[I 2025-05-24 19:12:56,055] Trial 53 finished with value: 0.12297542007483861 and parameters: {'alpha': 181.8525203248819, 'tol': 0.008219921177547794, 'fit_intercept': False, 'positive': True}. Best is trial 35 with value: 0.12297543175313883.\n",
      "[I 2025-05-24 19:12:56,431] Trial 55 finished with value: 0.12297540501768231 and parameters: {'alpha': 396.9768283509833, 'tol': 0.007234296101136304, 'fit_intercept': False, 'positive': True}. Best is trial 35 with value: 0.12297543175313883.\n",
      "[I 2025-05-24 19:12:58,965] Trial 56 finished with value: 0.12297542291508876 and parameters: {'alpha': 139.5115113482373, 'tol': 0.00830184543822188, 'fit_intercept': False, 'positive': True}. Best is trial 35 with value: 0.12297543175313883.\n",
      "[I 2025-05-24 19:12:59,894] Trial 58 finished with value: 0.12297543149162274 and parameters: {'alpha': 7.742290783598997, 'tol': 0.0008840293019565257, 'fit_intercept': False, 'positive': True}. Best is trial 35 with value: 0.12297543175313883.\n",
      "[I 2025-05-24 19:13:00,149] Trial 59 finished with value: 0.12297543114741141 and parameters: {'alpha': 13.151538339375286, 'tol': 0.0014862624899034426, 'fit_intercept': False, 'positive': True}. Best is trial 35 with value: 0.12297543175313883.\n",
      "[I 2025-05-24 19:13:00,322] Trial 57 finished with value: 0.12252371904612791 and parameters: {'alpha': 39.42938478888041, 'tol': 6.872709852817936e-05, 'fit_intercept': False, 'positive': True}. Best is trial 35 with value: 0.12297543175313883.\n",
      "[I 2025-05-24 19:13:02,765] Trial 60 finished with value: 0.12297543189390248 and parameters: {'alpha': 1.406996939373851, 'tol': 0.0009947160394611757, 'fit_intercept': False, 'positive': True}. Best is trial 60 with value: 0.12297543189390248.\n",
      "[I 2025-05-24 19:13:03,530] Trial 62 finished with value: 0.1200044547758935 and parameters: {'alpha': 261.85215039761675, 'tol': 0.0059760555646422315, 'fit_intercept': False, 'positive': False}. Best is trial 60 with value: 0.12297543189390248.\n",
      "[I 2025-05-24 19:13:03,694] Trial 63 finished with value: 0.11967188912124353 and parameters: {'alpha': 54.61426363388528, 'tol': 0.0006888401068980595, 'fit_intercept': False, 'positive': False}. Best is trial 60 with value: 0.12297543189390248.\n",
      "[I 2025-05-24 19:13:04,049] Trial 61 finished with value: 0.1229754312415936 and parameters: {'alpha': 11.67252946816742, 'tol': 0.0017078342117605645, 'fit_intercept': False, 'positive': True}. Best is trial 60 with value: 0.12297543189390248.\n",
      "[I 2025-05-24 19:13:06,371] Trial 64 finished with value: 0.11991995188245279 and parameters: {'alpha': 205.64759661408578, 'tol': 0.005805812269351167, 'fit_intercept': False, 'positive': False}. Best is trial 60 with value: 0.12297543189390248.\n",
      "[I 2025-05-24 19:13:07,115] Trial 65 finished with value: 0.1199507191794372 and parameters: {'alpha': 225.80771181465738, 'tol': 5.971769752837527e-05, 'fit_intercept': False, 'positive': False}. Best is trial 60 with value: 0.12297543189390248.\n",
      "[I 2025-05-24 19:13:07,492] Trial 66 finished with value: 0.12024768864862796 and parameters: {'alpha': 133.73325870082607, 'tol': 0.0007284749569830889, 'fit_intercept': True, 'positive': False}. Best is trial 60 with value: 0.12297543189390248.\n",
      "[I 2025-05-24 19:13:07,660] Trial 67 finished with value: 0.12297543140297687 and parameters: {'alpha': 9.13636803130481, 'tol': 0.004283530089236689, 'fit_intercept': False, 'positive': True}. Best is trial 60 with value: 0.12297543189390248.\n",
      "[I 2025-05-24 19:13:10,197] Trial 68 finished with value: 0.12297543013345288 and parameters: {'alpha': 29.024521178562612, 'tol': 0.003994630694970369, 'fit_intercept': False, 'positive': True}. Best is trial 60 with value: 0.12297543189390248.\n",
      "[I 2025-05-24 19:13:10,934] Trial 69 finished with value: 0.12297543196149537 and parameters: {'alpha': 0.34107604654565904, 'tol': 0.003873301614830773, 'fit_intercept': False, 'positive': True}. Best is trial 69 with value: 0.12297543196149537.\n",
      "[I 2025-05-24 19:13:11,159] Trial 71 finished with value: 0.12297543067875619 and parameters: {'alpha': 20.499401820132533, 'tol': 0.004084584843351574, 'fit_intercept': False, 'positive': True}. Best is trial 69 with value: 0.12297543196149537.\n",
      "[I 2025-05-24 19:13:11,325] Trial 70 finished with value: 0.1229754158021636 and parameters: {'alpha': 244.4349761802037, 'tol': 0.004531434669117257, 'fit_intercept': False, 'positive': True}. Best is trial 69 with value: 0.12297543196149537.\n",
      "[I 2025-05-24 19:13:13,336] Trial 72 finished with value: 0.12108032868830958 and parameters: {'alpha': 989.4157021771222, 'tol': 0.0016379794284844987, 'fit_intercept': True, 'positive': False}. Best is trial 69 with value: 0.12297543196149537.\n",
      "[I 2025-05-24 19:13:14,614] Trial 73 finished with value: 0.12297540836567258 and parameters: {'alpha': 350.4041000448486, 'tol': 0.004701199980164314, 'fit_intercept': False, 'positive': True}. Best is trial 69 with value: 0.12297543196149537.\n",
      "[I 2025-05-24 19:13:15,162] Trial 75 finished with value: 0.12297543017963612 and parameters: {'alpha': 28.303519698836762, 'tol': 0.001531418191150014, 'fit_intercept': False, 'positive': True}. Best is trial 69 with value: 0.12297543196149537.\n",
      "[I 2025-05-24 19:13:15,168] Trial 74 finished with value: 0.1228983618990461 and parameters: {'alpha': 438.8732697939312, 'tol': 0.0034735149952818513, 'fit_intercept': True, 'positive': True}. Best is trial 69 with value: 0.12297543196149537.\n",
      "[I 2025-05-24 19:13:17,225] Trial 76 finished with value: 0.1229754302324467 and parameters: {'alpha': 27.47882469262184, 'tol': 0.0021458237836527406, 'fit_intercept': False, 'positive': True}. Best is trial 69 with value: 0.12297543196149537.\n",
      "[I 2025-05-24 19:13:18,292] Trial 77 finished with value: 0.12297543026936301 and parameters: {'alpha': 26.902190353520663, 'tol': 0.0019095030141180376, 'fit_intercept': False, 'positive': True}. Best is trial 69 with value: 0.12297543196149537.\n",
      "[I 2025-05-24 19:13:18,475] Trial 79 finished with value: 0.1210273808832856 and parameters: {'alpha': 913.8623592130976, 'tol': 0.00917407671978305, 'fit_intercept': True, 'positive': False}. Best is trial 69 with value: 0.12297543196149537.\n",
      "[I 2025-05-24 19:13:18,863] Trial 78 finished with value: 0.1229754218121086 and parameters: {'alpha': 156.02663012547816, 'tol': 0.0027631655008985645, 'fit_intercept': False, 'positive': True}. Best is trial 69 with value: 0.12297543196149537.\n",
      "[I 2025-05-24 19:13:21,037] Trial 80 finished with value: 0.12297543149481123 and parameters: {'alpha': 7.69213446566906, 'tol': 0.004113291377310785, 'fit_intercept': False, 'positive': True}. Best is trial 69 with value: 0.12297543196149537.\n",
      "[I 2025-05-24 19:13:21,983] Trial 82 finished with value: 0.12297542883273196 and parameters: {'alpha': 49.254808093857875, 'tol': 0.003885158531308471, 'fit_intercept': False, 'positive': True}. Best is trial 69 with value: 0.12297543196149537.\n",
      "[I 2025-05-24 19:13:22,160] Trial 81 finished with value: 0.12289815339925551 and parameters: {'alpha': 930.556728034739, 'tol': 0.005039953889927727, 'fit_intercept': True, 'positive': True}. Best is trial 69 with value: 0.12297543196149537.\n",
      "[I 2025-05-24 19:13:22,535] Trial 83 finished with value: 0.12297543187912523 and parameters: {'alpha': 1.6399744319728198, 'tol': 0.0013326728544834346, 'fit_intercept': False, 'positive': True}. Best is trial 69 with value: 0.12297543196149537.\n",
      "[I 2025-05-24 19:13:24,597] Trial 84 finished with value: 0.12297543175502965 and parameters: {'alpha': 3.595684077306871, 'tol': 0.003496281744440553, 'fit_intercept': False, 'positive': True}. Best is trial 69 with value: 0.12297543196149537.\n",
      "[I 2025-05-24 19:13:25,855] Trial 86 finished with value: 0.12297542996718402 and parameters: {'alpha': 31.618721101702626, 'tol': 0.00442163261388341, 'fit_intercept': False, 'positive': True}. Best is trial 69 with value: 0.12297543196149537.\n",
      "[I 2025-05-24 19:13:25,856] Trial 85 finished with value: 0.12297542713932749 and parameters: {'alpha': 75.37587677797127, 'tol': 0.004181649506058319, 'fit_intercept': False, 'positive': True}. Best is trial 69 with value: 0.12297543196149537.\n",
      "[I 2025-05-24 19:13:26,252] Trial 87 finished with value: 0.12297543009549299 and parameters: {'alpha': 29.617001085203718, 'tol': 0.004220032433693474, 'fit_intercept': False, 'positive': True}. Best is trial 69 with value: 0.12297543196149537.\n",
      "[I 2025-05-24 19:13:28,548] Trial 88 finished with value: 0.12297543155403623 and parameters: {'alpha': 6.760330161610252, 'tol': 0.00041878966328439315, 'fit_intercept': False, 'positive': True}. Best is trial 69 with value: 0.12297543196149537.\n",
      "[I 2025-05-24 19:13:30,687] Trial 90 finished with value: 0.12297542930642358 and parameters: {'alpha': 41.904378736050596, 'tol': 0.0003141140713293331, 'fit_intercept': False, 'positive': True}. Best is trial 69 with value: 0.12297543196149537.\n",
      "[I 2025-05-24 19:13:30,978] Trial 89 finished with value: 0.12289854548127091 and parameters: {'alpha': 4.963049954066646, 'tol': 0.0017382923048710733, 'fit_intercept': True, 'positive': True}. Best is trial 69 with value: 0.12297543196149537.\n",
      "[I 2025-05-24 19:13:31,473] Trial 91 finished with value: 0.12297542829118442 and parameters: {'alpha': 57.6346403809897, 'tol': 0.000452986559441105, 'fit_intercept': False, 'positive': True}. Best is trial 69 with value: 0.12297543196149537.\n",
      "[I 2025-05-24 19:13:34,529] Trial 92 finished with value: 0.12289853666417443 and parameters: {'alpha': 25.825900993733697, 'tol': 0.003414243911739035, 'fit_intercept': True, 'positive': True}. Best is trial 69 with value: 0.12297543196149537.\n",
      "[I 2025-05-24 19:13:34,766] Trial 93 finished with value: 0.11959039653267431 and parameters: {'alpha': 9.020621157189522, 'tol': 0.005071246476315298, 'fit_intercept': False, 'positive': False}. Best is trial 69 with value: 0.12297543196149537.\n",
      "[I 2025-05-24 19:13:35,850] Trial 94 finished with value: 0.12256940868388537 and parameters: {'alpha': 1.3590712162661926, 'tol': 7.632565576319778e-05, 'fit_intercept': False, 'positive': True}. Best is trial 69 with value: 0.12297543196149537.\n",
      "[I 2025-05-24 19:13:36,044] Trial 95 finished with value: 0.12297543110699023 and parameters: {'alpha': 13.786057220194294, 'tol': 0.001091762999942357, 'fit_intercept': False, 'positive': True}. Best is trial 69 with value: 0.12297543196149537.\n",
      "[I 2025-05-24 19:13:38,251] Trial 96 finished with value: 0.12235628281711763 and parameters: {'alpha': 14.258564137640345, 'tol': 0.00022652030210525349, 'fit_intercept': False, 'positive': True}. Best is trial 69 with value: 0.12297543196149537.\n",
      "[I 2025-05-24 19:13:38,620] Trial 97 finished with value: 0.12297541473286082 and parameters: {'alpha': 259.8970656708224, 'tol': 0.0002455948301790259, 'fit_intercept': False, 'positive': True}. Best is trial 69 with value: 0.12297543196149537.\n",
      "[I 2025-05-24 19:13:39,569] Trial 98 finished with value: 0.12297542966315951 and parameters: {'alpha': 36.356000536046885, 'tol': 0.002287818966434238, 'fit_intercept': False, 'positive': True}. Best is trial 69 with value: 0.12297543196149537.\n",
      "[I 2025-05-24 19:13:39,900] Trial 99 finished with value: 0.12293153820764666 and parameters: {'alpha': 797.4697567422911, 'tol': 0.009664086095913613, 'fit_intercept': True, 'positive': True}. Best is trial 69 with value: 0.12297543196149537.\n",
      "[I 2025-05-24 19:13:42,071] Trial 100 finished with value: 0.1229754197572065 and parameters: {'alpha': 186.5501192248, 'tol': 0.002454879041239196, 'fit_intercept': False, 'positive': True}. Best is trial 69 with value: 0.12297543196149537.\n",
      "[I 2025-05-24 19:13:42,281] Trial 101 finished with value: 0.1229754210521798 and parameters: {'alpha': 167.3513662673486, 'tol': 0.0028588232448603125, 'fit_intercept': False, 'positive': True}. Best is trial 69 with value: 0.12297543196149537.\n",
      "[I 2025-05-24 19:13:43,247] Trial 102 finished with value: 0.12297543009514367 and parameters: {'alpha': 29.622453332967456, 'tol': 0.0027816588534876545, 'fit_intercept': False, 'positive': True}. Best is trial 69 with value: 0.12297543196149537.\n",
      "[I 2025-05-24 19:13:43,397] Trial 103 finished with value: 0.1229754316877772 and parameters: {'alpha': 4.654981204374472, 'tol': 0.0029409240656801837, 'fit_intercept': False, 'positive': True}. Best is trial 69 with value: 0.12297543196149537.\n",
      "[I 2025-05-24 19:13:45,462] Trial 104 finished with value: 0.12297542961607857 and parameters: {'alpha': 37.08889150395671, 'tol': 0.003998474353459465, 'fit_intercept': False, 'positive': True}. Best is trial 69 with value: 0.12297543196149537.\n",
      "[I 2025-05-24 19:13:45,988] Trial 105 finished with value: 0.12297542969637032 and parameters: {'alpha': 35.838905315191845, 'tol': 0.00394803943908655, 'fit_intercept': False, 'positive': True}. Best is trial 69 with value: 0.12297543196149537.\n",
      "[I 2025-05-24 19:13:47,111] Trial 106 finished with value: 0.12297543034046488 and parameters: {'alpha': 25.791238689520597, 'tol': 0.004000766514828005, 'fit_intercept': False, 'positive': True}. Best is trial 69 with value: 0.12297543196149537.\n",
      "[I 2025-05-24 19:13:47,281] Trial 107 finished with value: 0.12297543082403221 and parameters: {'alpha': 18.223763891414947, 'tol': 0.002900269568999165, 'fit_intercept': False, 'positive': True}. Best is trial 69 with value: 0.12297543196149537.\n",
      "[I 2025-05-24 19:13:48,905] Trial 108 finished with value: 0.11975056848047308 and parameters: {'alpha': 100.42955213649799, 'tol': 0.002738392248174693, 'fit_intercept': False, 'positive': False}. Best is trial 69 with value: 0.12297543196149537.\n",
      "[I 2025-05-24 19:13:49,823] Trial 109 finished with value: 0.12297543184379382 and parameters: {'alpha': 2.196929281976572, 'tol': 0.0016977230321488775, 'fit_intercept': False, 'positive': True}. Best is trial 69 with value: 0.12297543196149537.\n",
      "[I 2025-05-24 19:13:50,791] Trial 111 finished with value: 0.12297543183246377 and parameters: {'alpha': 2.3755093402637004, 'tol': 0.0017852779746921456, 'fit_intercept': False, 'positive': True}. Best is trial 69 with value: 0.12297543196149537.\n",
      "[I 2025-05-24 19:13:50,963] Trial 110 finished with value: 0.1229754301903502 and parameters: {'alpha': 28.136227243555815, 'tol': 0.0027156868604286616, 'fit_intercept': False, 'positive': True}. Best is trial 69 with value: 0.12297543196149537.\n",
      "[I 2025-05-24 19:13:52,265] Trial 112 finished with value: 0.12297543013960269 and parameters: {'alpha': 28.92852250877591, 'tol': 0.002045516629333839, 'fit_intercept': False, 'positive': True}. Best is trial 69 with value: 0.12297543196149537.\n",
      "[I 2025-05-24 19:13:53,486] Trial 113 finished with value: 0.12297542721451624 and parameters: {'alpha': 74.22118657197085, 'tol': 0.0026712828066624726, 'fit_intercept': False, 'positive': True}. Best is trial 69 with value: 0.12297543196149537.\n",
      "[I 2025-05-24 19:13:54,625] Trial 115 finished with value: 0.12297543102654802 and parameters: {'alpha': 15.048379355372283, 'tol': 0.0020079921161420405, 'fit_intercept': False, 'positive': True}. Best is trial 69 with value: 0.12297543196149537.\n",
      "[I 2025-05-24 19:13:54,794] Trial 114 finished with value: 0.12297543014676149 and parameters: {'alpha': 28.81676934328211, 'tol': 0.0025224330283270145, 'fit_intercept': False, 'positive': True}. Best is trial 69 with value: 0.12297543196149537.\n",
      "[I 2025-05-24 19:13:55,912] Trial 116 finished with value: 0.12297542933227232 and parameters: {'alpha': 41.502719127675704, 'tol': 0.001656000608851813, 'fit_intercept': False, 'positive': True}. Best is trial 69 with value: 0.12297543196149537.\n",
      "[I 2025-05-24 19:13:57,162] Trial 117 finished with value: 0.1229754300709043 and parameters: {'alpha': 30.00071587184896, 'tol': 0.0015560263194427152, 'fit_intercept': False, 'positive': True}. Best is trial 69 with value: 0.12297543196149537.\n",
      "[I 2025-05-24 19:13:58,263] Trial 118 finished with value: 0.12297543179678798 and parameters: {'alpha': 2.937740691080834, 'tol': 0.0013318762262630045, 'fit_intercept': False, 'positive': True}. Best is trial 69 with value: 0.12297543196149537.\n",
      "[I 2025-05-24 19:13:58,626] Trial 119 finished with value: 0.12297541834429244 and parameters: {'alpha': 207.3571515150712, 'tol': 0.00220280405915974, 'fit_intercept': False, 'positive': True}. Best is trial 69 with value: 0.12297543196149537.\n",
      "[I 2025-05-24 19:13:59,184] Trial 120 finished with value: 0.12042339302475003 and parameters: {'alpha': 585.964693670724, 'tol': 0.007897738422880864, 'fit_intercept': False, 'positive': False}. Best is trial 69 with value: 0.12297543196149537.\n",
      "[I 2025-05-24 19:14:00,990] Trial 121 finished with value: 0.12297543068402099 and parameters: {'alpha': 20.416965171946256, 'tol': 0.004919575516294074, 'fit_intercept': False, 'positive': True}. Best is trial 69 with value: 0.12297543196149537.\n",
      "[I 2025-05-24 19:14:02,106] Trial 122 finished with value: 0.12297541876400948 and parameters: {'alpha': 201.1913559891141, 'tol': 0.004911150627980882, 'fit_intercept': False, 'positive': True}. Best is trial 69 with value: 0.12297543196149537.\n",
      "[I 2025-05-24 19:14:02,492] Trial 123 finished with value: 0.12297543196182865 and parameters: {'alpha': 0.3358188999580906, 'tol': 0.0055390602534400295, 'fit_intercept': False, 'positive': True}. Best is trial 123 with value: 0.12297543196182865.\n",
      "[I 2025-05-24 19:14:02,693] Trial 124 finished with value: 0.12297543136438523 and parameters: {'alpha': 9.743053960023166, 'tol': 0.0017054985537052823, 'fit_intercept': False, 'positive': True}. Best is trial 123 with value: 0.12297543196182865.\n",
      "[I 2025-05-24 19:14:04,564] Trial 125 finished with value: 0.12297543192100388 and parameters: {'alpha': 0.9796647226162845, 'tol': 0.0023185739380926114, 'fit_intercept': False, 'positive': True}. Best is trial 123 with value: 0.12297543196182865.\n",
      "[I 2025-05-24 19:14:05,819] Trial 126 finished with value: 0.12297543053258089 and parameters: {'alpha': 22.78723884172794, 'tol': 0.0011183206278039745, 'fit_intercept': False, 'positive': True}. Best is trial 123 with value: 0.12297543196182865.\n",
      "[I 2025-05-24 19:14:06,212] Trial 127 finished with value: 0.12297543180754253 and parameters: {'alpha': 2.768266654945572, 'tol': 0.006442677580124453, 'fit_intercept': False, 'positive': True}. Best is trial 123 with value: 0.12297543196182865.\n",
      "[I 2025-05-24 19:14:06,430] Trial 128 finished with value: 0.12297542835425306 and parameters: {'alpha': 56.66000946154516, 'tol': 0.006601238103586871, 'fit_intercept': False, 'positive': True}. Best is trial 123 with value: 0.12297543196182865.\n",
      "[I 2025-05-24 19:14:08,503] Trial 129 finished with value: 0.1229754299983415 and parameters: {'alpha': 31.13277304573442, 'tol': 0.00677470208789712, 'fit_intercept': False, 'positive': True}. Best is trial 123 with value: 0.12297543196182865.\n",
      "[I 2025-05-24 19:14:09,614] Trial 130 finished with value: 0.12297542741396394 and parameters: {'alpha': 71.15594295215482, 'tol': 0.005991925326068145, 'fit_intercept': False, 'positive': True}. Best is trial 123 with value: 0.12297543196182865.\n",
      "[I 2025-05-24 19:14:09,830] Trial 131 finished with value: 0.12297542940154513 and parameters: {'alpha': 40.426014217766806, 'tol': 0.007982797953664385, 'fit_intercept': False, 'positive': True}. Best is trial 123 with value: 0.12297543196182865.\n",
      "[I 2025-05-24 19:14:10,177] Trial 132 finished with value: 0.12297543156369635 and parameters: {'alpha': 6.60831449767055, 'tol': 0.006402602853639389, 'fit_intercept': False, 'positive': True}. Best is trial 123 with value: 0.12297543196182865.\n",
      "[I 2025-05-24 19:14:12,204] Trial 133 finished with value: 0.12289817784663506 and parameters: {'alpha': 872.961661586169, 'tol': 0.0013021452150393988, 'fit_intercept': True, 'positive': True}. Best is trial 123 with value: 0.12297543196182865.\n",
      "[I 2025-05-24 19:14:13,272] Trial 135 finished with value: 0.11960570378597375 and parameters: {'alpha': 17.44617246298775, 'tol': 0.0083124586845254, 'fit_intercept': False, 'positive': False}. Best is trial 123 with value: 0.12297543196182865.\n",
      "[I 2025-05-24 19:14:13,456] Trial 134 finished with value: 0.12297538300489293 and parameters: {'alpha': 688.0551559336383, 'tol': 0.0067870087766820795, 'fit_intercept': False, 'positive': True}. Best is trial 123 with value: 0.12297543196182865.\n",
      "[I 2025-05-24 19:14:13,854] Trial 136 finished with value: 0.1228983967337606 and parameters: {'alpha': 356.6138239461791, 'tol': 0.00610053589776594, 'fit_intercept': True, 'positive': True}. Best is trial 123 with value: 0.12297543196182865.\n",
      "[I 2025-05-24 19:14:15,897] Trial 137 finished with value: 0.12297543134558579 and parameters: {'alpha': 10.03854416243103, 'tol': 0.0064487291338775395, 'fit_intercept': False, 'positive': True}. Best is trial 123 with value: 0.12297543196182865.\n",
      "[I 2025-05-24 19:14:17,012] Trial 139 finished with value: 0.12297542573884349 and parameters: {'alpha': 96.79819297312635, 'tol': 0.0057580319263060694, 'fit_intercept': False, 'positive': True}. Best is trial 123 with value: 0.12297543196182865.\n",
      "[I 2025-05-24 19:14:17,179] Trial 138 finished with value: 0.1229754295071583 and parameters: {'alpha': 38.78367297372624, 'tol': 0.006544556418899045, 'fit_intercept': False, 'positive': True}. Best is trial 123 with value: 0.12297543196182865.\n",
      "[I 2025-05-24 19:14:17,400] Trial 140 finished with value: 0.12297543184741015 and parameters: {'alpha': 2.1399277889015353, 'tol': 0.007422444896190959, 'fit_intercept': False, 'positive': True}. Best is trial 123 with value: 0.12297543196182865.\n",
      "[I 2025-05-24 19:14:19,739] Trial 141 finished with value: 0.1229754295407189 and parameters: {'alpha': 38.261585404131, 'tol': 0.006719498266382712, 'fit_intercept': False, 'positive': True}. Best is trial 123 with value: 0.12297543196182865.\n",
      "[I 2025-05-24 19:14:20,692] Trial 142 finished with value: 0.12297543075889586 and parameters: {'alpha': 19.244306655290316, 'tol': 0.004688655805497966, 'fit_intercept': False, 'positive': True}. Best is trial 123 with value: 0.12297543196182865.\n",
      "[I 2025-05-24 19:14:20,848] Trial 143 finished with value: 0.12297543084081022 and parameters: {'alpha': 17.960828448548924, 'tol': 0.005576976601807801, 'fit_intercept': False, 'positive': True}. Best is trial 123 with value: 0.12297543196182865.\n",
      "[I 2025-05-24 19:14:21,228] Trial 144 finished with value: 0.1229754283126639 and parameters: {'alpha': 57.30274524045906, 'tol': 0.008768523472286861, 'fit_intercept': False, 'positive': True}. Best is trial 123 with value: 0.12297543196182865.\n",
      "[I 2025-05-24 19:14:23,244] Trial 145 finished with value: 0.12070909697403662 and parameters: {'alpha': 533.3175834856874, 'tol': 0.0064662268004903375, 'fit_intercept': True, 'positive': False}. Best is trial 123 with value: 0.12297543196182865.\n",
      "[I 2025-05-24 19:14:24,371] Trial 146 finished with value: 0.12297542866709762 and parameters: {'alpha': 51.820466833677095, 'tol': 0.008382974860505397, 'fit_intercept': False, 'positive': True}. Best is trial 123 with value: 0.12297543196182865.\n",
      "[I 2025-05-24 19:14:24,545] Trial 147 finished with value: 0.12297543040903418 and parameters: {'alpha': 24.719435853527962, 'tol': 0.00644254818014099, 'fit_intercept': False, 'positive': True}. Best is trial 123 with value: 0.12297543196182865.\n",
      "[I 2025-05-24 19:14:24,757] Trial 148 finished with value: 0.12297543184848454 and parameters: {'alpha': 2.1229922917394166, 'tol': 0.00662278026985893, 'fit_intercept': False, 'positive': True}. Best is trial 123 with value: 0.12297543196182865.\n",
      "[I 2025-05-24 19:14:27,099] Trial 149 finished with value: 0.1229754312473379 and parameters: {'alpha': 11.582296948907999, 'tol': 0.007672413385581522, 'fit_intercept': False, 'positive': True}. Best is trial 123 with value: 0.12297543196182865.\n",
      "[I 2025-05-24 19:14:27,667] Trial 150 finished with value: 0.11957959011452453 and parameters: {'alpha': 3.11008599547319, 'tol': 0.0020223617291567067, 'fit_intercept': False, 'positive': False}. Best is trial 123 with value: 0.12297543196182865.\n",
      "[I 2025-05-24 19:14:28,206] Trial 151 finished with value: 0.12297543194099461 and parameters: {'alpha': 0.6644108754982425, 'tol': 0.002259011444758605, 'fit_intercept': False, 'positive': True}. Best is trial 123 with value: 0.12297543196182865.\n",
      "[I 2025-05-24 19:14:28,745] Trial 152 finished with value: 0.12289854442777381 and parameters: {'alpha': 7.455942199395847, 'tol': 0.006693108991646524, 'fit_intercept': True, 'positive': True}. Best is trial 123 with value: 0.12297543196182865.\n",
      "[I 2025-05-24 19:14:30,770] Trial 153 finished with value: 0.12297543146325889 and parameters: {'alpha': 8.188427669192432, 'tol': 0.003089269920058382, 'fit_intercept': False, 'positive': True}. Best is trial 123 with value: 0.12297543196182865.\n",
      "[I 2025-05-24 19:14:31,364] Trial 154 finished with value: 0.12297543064508003 and parameters: {'alpha': 21.026645905226786, 'tol': 0.003578097425460347, 'fit_intercept': False, 'positive': True}. Best is trial 123 with value: 0.12297543196182865.\n",
      "[I 2025-05-24 19:14:31,885] Trial 155 finished with value: 0.12297543128963087 and parameters: {'alpha': 10.917861051292386, 'tol': 0.0028919218720364903, 'fit_intercept': False, 'positive': True}. Best is trial 123 with value: 0.12297543196182865.\n",
      "[I 2025-05-24 19:14:32,434] Trial 156 finished with value: 0.12297542069579961 and parameters: {'alpha': 172.64733504303302, 'tol': 0.0018814570114843948, 'fit_intercept': False, 'positive': True}. Best is trial 123 with value: 0.12297543196182865.\n",
      "[I 2025-05-24 19:14:34,653] Trial 157 finished with value: 0.12297543174715053 and parameters: {'alpha': 3.7198099912332894, 'tol': 0.0024545159214658186, 'fit_intercept': False, 'positive': True}. Best is trial 123 with value: 0.12297543196182865.\n",
      "[I 2025-05-24 19:14:35,082] Trial 158 finished with value: 0.12297541843064548 and parameters: {'alpha': 206.08962929442842, 'tol': 0.0014236771222453262, 'fit_intercept': False, 'positive': True}. Best is trial 123 with value: 0.12297543196182865.\n",
      "[I 2025-05-24 19:14:35,622] Trial 159 finished with value: 0.12297543173526271 and parameters: {'alpha': 3.907076781636284, 'tol': 0.0022859943391389187, 'fit_intercept': False, 'positive': True}. Best is trial 123 with value: 0.12297543196182865.\n",
      "[I 2025-05-24 19:14:35,837] Trial 160 finished with value: 0.1229754163639725 and parameters: {'alpha': 236.27975149986605, 'tol': 0.006703988883212155, 'fit_intercept': False, 'positive': True}. Best is trial 123 with value: 0.12297543196182865.\n",
      "[I 2025-05-24 19:14:37,984] Trial 161 finished with value: 0.122975431721972 and parameters: {'alpha': 4.116428419090084, 'tol': 0.002799611521493263, 'fit_intercept': False, 'positive': True}. Best is trial 123 with value: 0.12297543196182865.\n",
      "[I 2025-05-24 19:14:39,143] Trial 162 finished with value: 0.12297543197564245 and parameters: {'alpha': 0.11792761946142583, 'tol': 0.002387566635383191, 'fit_intercept': False, 'positive': True}. Best is trial 162 with value: 0.12297543197564245.\n",
      "[I 2025-05-24 19:14:39,407] Trial 164 finished with value: 0.12297542927965384 and parameters: {'alpha': 42.320288847024365, 'tol': 0.0028043740810982046, 'fit_intercept': False, 'positive': True}. Best is trial 162 with value: 0.12297543197564245.\n",
      "[I 2025-05-24 19:14:39,560] Trial 163 finished with value: 0.122975431916921 and parameters: {'alpha': 1.0440474403266884, 'tol': 0.001726938049663903, 'fit_intercept': False, 'positive': True}. Best is trial 162 with value: 0.12297543197564245.\n",
      "[I 2025-05-24 19:14:41,920] Trial 165 finished with value: 0.12297543170696638 and parameters: {'alpha': 4.352772974037304, 'tol': 0.002158003679797629, 'fit_intercept': False, 'positive': True}. Best is trial 162 with value: 0.12297543197564245.\n",
      "[I 2025-05-24 19:14:42,858] Trial 166 finished with value: 0.12297542999448371 and parameters: {'alpha': 31.19294559534481, 'tol': 0.0021378946522633206, 'fit_intercept': False, 'positive': True}. Best is trial 162 with value: 0.12297543197564245.\n",
      "[I 2025-05-24 19:14:43,095] Trial 167 finished with value: 0.12297542701424442 and parameters: {'alpha': 77.2957648472187, 'tol': 0.0010953709353865922, 'fit_intercept': False, 'positive': True}. Best is trial 162 with value: 0.12297543197564245.\n",
      "[I 2025-05-24 19:14:43,426] Trial 168 finished with value: 0.12297543091997483 and parameters: {'alpha': 16.71986901292252, 'tol': 0.0023764366289759807, 'fit_intercept': False, 'positive': True}. Best is trial 162 with value: 0.12297543197564245.\n",
      "[I 2025-05-24 19:14:45,492] Trial 169 finished with value: 0.12297542996380498 and parameters: {'alpha': 31.671417837555502, 'tol': 0.0011515601309182513, 'fit_intercept': False, 'positive': True}. Best is trial 162 with value: 0.12297543197564245.\n",
      "[I 2025-05-24 19:14:46,606] Trial 170 finished with value: 0.12297543184192257 and parameters: {'alpha': 2.226424105808431, 'tol': 0.0014421504688859651, 'fit_intercept': False, 'positive': True}. Best is trial 162 with value: 0.12297543197564245.\n",
      "[I 2025-05-24 19:14:46,838] Trial 171 finished with value: 0.12297543070117208 and parameters: {'alpha': 20.14839619552692, 'tol': 0.0016403441818705167, 'fit_intercept': False, 'positive': True}. Best is trial 162 with value: 0.12297543197564245.\n",
      "[I 2025-05-24 19:14:47,175] Trial 172 finished with value: 0.1229754303191837 and parameters: {'alpha': 26.12379921249835, 'tol': 0.0011711195514222735, 'fit_intercept': False, 'positive': True}. Best is trial 162 with value: 0.12297543197564245.\n",
      "[I 2025-05-24 19:14:49,218] Trial 173 finished with value: 0.12297541468063453 and parameters: {'alpha': 260.65026157748036, 'tol': 0.002271740993032897, 'fit_intercept': False, 'positive': True}. Best is trial 162 with value: 0.12297543197564245.\n",
      "[I 2025-05-24 19:14:50,326] Trial 174 finished with value: 0.12289842965952028 and parameters: {'alpha': 278.8307555778652, 'tol': 0.0022857057364841626, 'fit_intercept': True, 'positive': True}. Best is trial 162 with value: 0.12297543197564245.\n",
      "[I 2025-05-24 19:14:50,529] Trial 175 finished with value: 0.12297543196575773 and parameters: {'alpha': 0.27384549721772267, 'tol': 0.0030048440210511305, 'fit_intercept': False, 'positive': True}. Best is trial 162 with value: 0.12297543197564245.\n",
      "[I 2025-05-24 19:14:50,893] Trial 176 finished with value: 0.12289847191306905 and parameters: {'alpha': 178.96602203790366, 'tol': 0.00274562102981442, 'fit_intercept': True, 'positive': True}. Best is trial 162 with value: 0.12297543197564245.\n",
      "[I 2025-05-24 19:14:53,055] Trial 177 finished with value: 0.1228985324215675 and parameters: {'alpha': 35.863822226817256, 'tol': 0.002087375103179502, 'fit_intercept': True, 'positive': True}. Best is trial 162 with value: 0.12297543197564245.\n",
      "[I 2025-05-24 19:14:54,013] Trial 178 finished with value: 0.12297543137507665 and parameters: {'alpha': 9.57499091950272, 'tol': 0.0019031099009257943, 'fit_intercept': False, 'positive': True}. Best is trial 162 with value: 0.12297543197564245.\n",
      "[I 2025-05-24 19:14:54,164] Trial 180 finished with value: 0.12061096600936658 and parameters: {'alpha': 762.3484941481111, 'tol': 0.0024548482765624833, 'fit_intercept': False, 'positive': False}. Best is trial 162 with value: 0.12297543197564245.\n",
      "[I 2025-05-24 19:14:54,380] Trial 179 finished with value: 0.12297543096376004 and parameters: {'alpha': 16.03326615457136, 'tol': 0.0010861110590773928, 'fit_intercept': False, 'positive': True}. Best is trial 162 with value: 0.12297543197564245.\n",
      "[I 2025-05-24 19:14:56,596] Trial 181 finished with value: 0.12297543190180531 and parameters: {'alpha': 1.2823926520320919, 'tol': 0.001981445272236547, 'fit_intercept': False, 'positive': True}. Best is trial 162 with value: 0.12297543197564245.\n",
      "[I 2025-05-24 19:14:57,706] Trial 182 finished with value: 0.12297543181079362 and parameters: {'alpha': 2.7170331489418773, 'tol': 0.0004695153858035264, 'fit_intercept': False, 'positive': True}. Best is trial 162 with value: 0.12297543197564245.\n",
      "[I 2025-05-24 19:14:57,863] Trial 183 finished with value: 0.1229754165932008 and parameters: {'alpha': 232.9459803541226, 'tol': 0.0030333198376757695, 'fit_intercept': False, 'positive': True}. Best is trial 162 with value: 0.12297543197564245.\n",
      "[I 2025-05-24 19:14:58,243] Trial 184 finished with value: 0.12297543178721748 and parameters: {'alpha': 3.0885474332989595, 'tol': 0.0032295267816179647, 'fit_intercept': False, 'positive': True}. Best is trial 162 with value: 0.12297543197564245.\n",
      "[I 2025-05-24 19:15:00,265] Trial 185 finished with value: 0.1229754319588416 and parameters: {'alpha': 0.382932532330594, 'tol': 0.0016651784073290112, 'fit_intercept': False, 'positive': True}. Best is trial 162 with value: 0.12297543197564245.\n",
      "[I 2025-05-24 19:15:01,561] Trial 187 finished with value: 0.1229754302291824 and parameters: {'alpha': 27.529807201759954, 'tol': 0.0004972470037930664, 'fit_intercept': False, 'positive': True}. Best is trial 162 with value: 0.12297543197564245.\n",
      "[I 2025-05-24 19:15:01,799] Trial 188 finished with value: 0.1229754216778465 and parameters: {'alpha': 158.03062456751329, 'tol': 0.0006048395068974354, 'fit_intercept': False, 'positive': True}. Best is trial 162 with value: 0.12297543197564245.\n",
      "[I 2025-05-24 19:15:02,157] Trial 186 finished with value: 0.12255850315918637 and parameters: {'alpha': 10.379710773514205, 'tol': 7.618387397283406e-05, 'fit_intercept': False, 'positive': True}. Best is trial 162 with value: 0.12297543197564245.\n",
      "[I 2025-05-24 19:15:04,262] Trial 189 finished with value: 0.1229754189765329 and parameters: {'alpha': 198.06446533626055, 'tol': 0.0002504701746507616, 'fit_intercept': False, 'positive': True}. Best is trial 162 with value: 0.12297543197564245.\n",
      "[I 2025-05-24 19:15:05,663] Trial 191 finished with value: 0.12297542252158274 and parameters: {'alpha': 145.41424611673398, 'tol': 0.0008335568122070572, 'fit_intercept': False, 'positive': True}. Best is trial 162 with value: 0.12297543197564245.\n",
      "[I 2025-05-24 19:15:06,028] Trial 190 finished with value: 0.12242299433990422 and parameters: {'alpha': 217.1563716525759, 'tol': 7.338758901496729e-06, 'fit_intercept': False, 'positive': True}. Best is trial 162 with value: 0.12297543197564245.\n",
      "[I 2025-05-24 19:15:06,204] Trial 192 finished with value: 0.12297543084429766 and parameters: {'alpha': 17.906172437073696, 'tol': 0.0009303766470930869, 'fit_intercept': False, 'positive': True}. Best is trial 162 with value: 0.12297543197564245.\n",
      "[I 2025-05-24 19:15:08,063] Trial 193 finished with value: 0.12297542994438171 and parameters: {'alpha': 31.974304693330943, 'tol': 0.0010276027343619908, 'fit_intercept': False, 'positive': True}. Best is trial 162 with value: 0.12297543197564245.\n",
      "[I 2025-05-24 19:15:09,366] Trial 194 finished with value: 0.1229754312247694 and parameters: {'alpha': 11.93679002608285, 'tol': 0.0016371599837371712, 'fit_intercept': False, 'positive': True}. Best is trial 162 with value: 0.12297543197564245.\n",
      "[I 2025-05-24 19:15:09,756] Trial 196 finished with value: 0.12297543043374622 and parameters: {'alpha': 24.33306210161925, 'tol': 0.001566687873180175, 'fit_intercept': False, 'positive': True}. Best is trial 162 with value: 0.12297543197564245.\n",
      "[I 2025-05-24 19:15:09,916] Trial 195 finished with value: 0.1229754309065435 and parameters: {'alpha': 16.930453441281994, 'tol': 0.0005649295084732202, 'fit_intercept': False, 'positive': True}. Best is trial 162 with value: 0.12297543197564245.\n",
      "[I 2025-05-24 19:15:11,901] Trial 197 finished with value: 0.12297543149567955 and parameters: {'alpha': 7.678475411913272, 'tol': 0.0024077877089039275, 'fit_intercept': False, 'positive': True}. Best is trial 162 with value: 0.12297543197564245.\n",
      "[I 2025-05-24 19:15:13,173] Trial 198 finished with value: 0.12297543129289071 and parameters: {'alpha': 10.866641369987889, 'tol': 0.00211030945410407, 'fit_intercept': False, 'positive': True}. Best is trial 162 with value: 0.12297543197564245.\n",
      "[I 2025-05-24 19:15:13,427] Trial 199 finished with value: 0.12297542993526009 and parameters: {'alpha': 32.11653560204866, 'tol': 0.0023600632876072756, 'fit_intercept': False, 'positive': True}. Best is trial 162 with value: 0.12297543197564245.\n",
      "[I 2025-05-24 19:15:13,746] Trial 200 finished with value: 0.12297543133609903 and parameters: {'alpha': 10.187646550914303, 'tol': 0.00185885584412079, 'fit_intercept': False, 'positive': True}. Best is trial 162 with value: 0.12297543197564245.\n",
      "[I 2025-05-24 19:15:15,849] Trial 201 finished with value: 0.12289853571777729 and parameters: {'alpha': 28.06510545128137, 'tol': 0.00029101120975425973, 'fit_intercept': True, 'positive': True}. Best is trial 162 with value: 0.12297543197564245.\n",
      "[I 2025-05-24 19:15:16,754] Trial 202 finished with value: 0.1229754316542691 and parameters: {'alpha': 5.1826170129844265, 'tol': 0.002046047888328686, 'fit_intercept': False, 'positive': True}. Best is trial 162 with value: 0.12297543197564245.\n",
      "[I 2025-05-24 19:15:17,156] Trial 203 finished with value: 0.12297543182558443 and parameters: {'alpha': 2.483932726843556, 'tol': 0.002400277271684495, 'fit_intercept': False, 'positive': True}. Best is trial 162 with value: 0.12297543197564245.\n",
      "[I 2025-05-24 19:15:17,678] Trial 204 finished with value: 0.12297542029474093 and parameters: {'alpha': 178.59593452697283, 'tol': 0.0031167205965778816, 'fit_intercept': False, 'positive': True}. Best is trial 162 with value: 0.12297543197564245.\n",
      "[I 2025-05-24 19:15:19,545] Trial 205 finished with value: 0.12297541882461653 and parameters: {'alpha': 200.299967647665, 'tol': 0.003708755502212332, 'fit_intercept': False, 'positive': True}. Best is trial 162 with value: 0.12297543197564245.\n",
      "[I 2025-05-24 19:15:20,291] Trial 206 finished with value: 0.12297543071906333 and parameters: {'alpha': 19.868208098062304, 'tol': 0.004427057652349404, 'fit_intercept': False, 'positive': True}. Best is trial 162 with value: 0.12297543197564245.\n",
      "[I 2025-05-24 19:15:20,774] Trial 207 finished with value: 0.12005790152562475 and parameters: {'alpha': 298.802212796408, 'tol': 0.00302301932398088, 'fit_intercept': False, 'positive': False}. Best is trial 162 with value: 0.12297543197564245.\n",
      "[I 2025-05-24 19:15:21,060] Trial 208 finished with value: 0.1229754314772252 and parameters: {'alpha': 7.968760161282223, 'tol': 0.002506873978510749, 'fit_intercept': False, 'positive': True}. Best is trial 162 with value: 0.12297543197564245.\n",
      "[I 2025-05-24 19:15:23,712] Trial 209 finished with value: 0.12293201624647612 and parameters: {'alpha': 452.00255919885467, 'tol': 0.009743755485483962, 'fit_intercept': True, 'positive': True}. Best is trial 162 with value: 0.12297543197564245.\n",
      "[I 2025-05-24 19:15:23,912] Trial 211 finished with value: 0.11957814553843446 and parameters: {'alpha': 2.3223218208050485, 'tol': 1.6765248091753704e-05, 'fit_intercept': False, 'positive': False}. Best is trial 162 with value: 0.12297543197564245.\n",
      "[I 2025-05-24 19:15:24,187] Trial 210 finished with value: 0.1229754306288178 and parameters: {'alpha': 21.281215931322052, 'tol': 0.00310247914128648, 'fit_intercept': False, 'positive': True}. Best is trial 162 with value: 0.12297543197564245.\n",
      "[I 2025-05-24 19:15:25,238] Trial 212 finished with value: 0.12297543158210919 and parameters: {'alpha': 6.318539185192805, 'tol': 0.0035245036029068026, 'fit_intercept': False, 'positive': True}. Best is trial 162 with value: 0.12297543197564245.\n",
      "[I 2025-05-24 19:15:26,882] Trial 213 finished with value: 0.11958561150104388 and parameters: {'alpha': 6.399643013101502, 'tol': 0.0012614080031681165, 'fit_intercept': False, 'positive': False}. Best is trial 162 with value: 0.12297543197564245.\n",
      "[I 2025-05-24 19:15:27,800] Trial 214 finished with value: 0.12297543027099238 and parameters: {'alpha': 26.876736229074677, 'tol': 0.0033914138895208192, 'fit_intercept': False, 'positive': True}. Best is trial 162 with value: 0.12297543197564245.\n",
      "[I 2025-05-24 19:15:28,190] Trial 215 finished with value: 0.12297543099693661 and parameters: {'alpha': 15.512905276596236, 'tol': 0.007828231733413493, 'fit_intercept': False, 'positive': True}. Best is trial 162 with value: 0.12297543197564245.\n",
      "[I 2025-05-24 19:15:28,799] Trial 216 finished with value: 0.12297543101006451 and parameters: {'alpha': 15.306972422615605, 'tol': 0.002359169863799688, 'fit_intercept': False, 'positive': True}. Best is trial 162 with value: 0.12297543197564245.\n",
      "[I 2025-05-24 19:15:30,577] Trial 217 finished with value: 0.12297543152895843 and parameters: {'alpha': 7.15492501162729, 'tol': 0.0027824768790949855, 'fit_intercept': False, 'positive': True}. Best is trial 162 with value: 0.12297543197564245.\n",
      "[I 2025-05-24 19:15:31,515] Trial 218 finished with value: 0.12297543171468812 and parameters: {'alpha': 4.231155019474437, 'tol': 0.0011517174940823618, 'fit_intercept': False, 'positive': True}. Best is trial 162 with value: 0.12297543197564245.\n",
      "[I 2025-05-24 19:15:31,755] Trial 219 finished with value: 0.12297543172100114 and parameters: {'alpha': 4.131720509079369, 'tol': 0.001305510464658605, 'fit_intercept': False, 'positive': True}. Best is trial 162 with value: 0.12297543197564245.\n",
      "[I 2025-05-24 19:15:32,519] Trial 220 finished with value: 0.1229754205559634 and parameters: {'alpha': 174.72277633667292, 'tol': 0.0022819973320623507, 'fit_intercept': False, 'positive': True}. Best is trial 162 with value: 0.12297543197564245.\n",
      "[I 2025-05-24 19:15:34,308] Trial 221 finished with value: 0.12289831096414013 and parameters: {'alpha': 559.092049739835, 'tol': 0.0007238709553124287, 'fit_intercept': True, 'positive': True}. Best is trial 162 with value: 0.12297543197564245.\n",
      "[I 2025-05-24 19:15:35,246] Trial 222 finished with value: 0.12297543179227707 and parameters: {'alpha': 3.0088220451897274, 'tol': 0.0014988549537113117, 'fit_intercept': False, 'positive': True}. Best is trial 162 with value: 0.12297543197564245.\n",
      "[I 2025-05-24 19:15:35,471] Trial 223 finished with value: 0.1229754306179884 and parameters: {'alpha': 21.450727679984936, 'tol': 0.006838402398316859, 'fit_intercept': False, 'positive': True}. Best is trial 162 with value: 0.12297543197564245.\n",
      "[I 2025-05-24 19:15:36,386] Trial 224 finished with value: 0.12297541943019046 and parameters: {'alpha': 191.37876813798172, 'tol': 0.004214853036204572, 'fit_intercept': False, 'positive': True}. Best is trial 162 with value: 0.12297543197564245.\n",
      "[I 2025-05-24 19:15:38,015] Trial 225 finished with value: 0.1229754311742364 and parameters: {'alpha': 12.730367678197354, 'tol': 0.005898283059480059, 'fit_intercept': False, 'positive': True}. Best is trial 162 with value: 0.12297543197564245.\n",
      "[I 2025-05-24 19:15:38,959] Trial 226 finished with value: 0.12297543165460911 and parameters: {'alpha': 5.177263186815308, 'tol': 0.0012275136476003836, 'fit_intercept': False, 'positive': True}. Best is trial 162 with value: 0.12297543197564245.\n",
      "[I 2025-05-24 19:15:39,196] Trial 227 finished with value: 0.12297543178885409 and parameters: {'alpha': 3.062759119782063, 'tol': 0.0022959468209906627, 'fit_intercept': False, 'positive': True}. Best is trial 162 with value: 0.12297543197564245.\n",
      "[I 2025-05-24 19:15:39,953] Trial 228 finished with value: 0.12297543193321007 and parameters: {'alpha': 0.787177169453231, 'tol': 0.0006806464810665892, 'fit_intercept': False, 'positive': True}. Best is trial 162 with value: 0.12297543197564245.\n",
      "[I 2025-05-24 19:15:41,588] Trial 229 finished with value: 0.12297543161586033 and parameters: {'alpha': 5.787296387824664, 'tol': 0.0027108858616980633, 'fit_intercept': False, 'positive': True}. Best is trial 162 with value: 0.12297543197564245.\n",
      "[I 2025-05-24 19:15:42,715] Trial 230 finished with value: 0.12297543180415409 and parameters: {'alpha': 2.82166415745671, 'tol': 0.0009967517686204229, 'fit_intercept': False, 'positive': True}. Best is trial 162 with value: 0.12297543197564245.\n",
      "[I 2025-05-24 19:15:43,304] Trial 231 finished with value: 0.122975418992416 and parameters: {'alpha': 197.83064293105534, 'tol': 0.0017406554037402314, 'fit_intercept': False, 'positive': True}. Best is trial 162 with value: 0.12297543197564245.\n",
      "[I 2025-05-24 19:15:43,919] Trial 232 finished with value: 0.12297543118415992 and parameters: {'alpha': 12.574545210923922, 'tol': 0.0009282219537037113, 'fit_intercept': False, 'positive': True}. Best is trial 162 with value: 0.12297543197564245.\n",
      "[I 2025-05-24 19:15:45,189] Trial 233 finished with value: 0.12297543127263573 and parameters: {'alpha': 11.184879329756669, 'tol': 0.0009445009628554713, 'fit_intercept': False, 'positive': True}. Best is trial 162 with value: 0.12297543197564245.\n",
      "[I 2025-05-24 19:15:46,873] Trial 234 finished with value: 0.12297543056219148 and parameters: {'alpha': 22.32394628804224, 'tol': 0.0008110162021571093, 'fit_intercept': False, 'positive': True}. Best is trial 162 with value: 0.12297543197564245.\n",
      "[I 2025-05-24 19:15:47,270] Trial 235 finished with value: 0.11986206297048083 and parameters: {'alpha': 7.845944446232048, 'tol': 0.00014103135315315864, 'fit_intercept': False, 'positive': True}. Best is trial 162 with value: 0.12297543197564245.\n",
      "[I 2025-05-24 19:15:47,833] Trial 236 finished with value: 0.12297543085533033 and parameters: {'alpha': 17.733257592849995, 'tol': 0.0011386768166946112, 'fit_intercept': False, 'positive': True}. Best is trial 162 with value: 0.12297543197564245.\n",
      "[I 2025-05-24 19:15:48,952] Trial 237 finished with value: 0.12297543092941261 and parameters: {'alpha': 16.5718878740301, 'tol': 0.0009403089266921032, 'fit_intercept': False, 'positive': True}. Best is trial 162 with value: 0.12297543197564245.\n",
      "[I 2025-05-24 19:15:50,574] Trial 238 finished with value: 0.12297542939401251 and parameters: {'alpha': 40.543113643131605, 'tol': 0.0011992167009500221, 'fit_intercept': False, 'positive': True}. Best is trial 162 with value: 0.12297543197564245.\n",
      "[I 2025-05-24 19:15:51,151] Trial 239 finished with value: 0.12297543118920942 and parameters: {'alpha': 12.495252608582671, 'tol': 0.0007222558973087314, 'fit_intercept': False, 'positive': True}. Best is trial 162 with value: 0.12297543197564245.\n",
      "[I 2025-05-24 19:15:51,543] Trial 240 finished with value: 0.12297543115335319 and parameters: {'alpha': 13.058253878302793, 'tol': 0.0008919020326202136, 'fit_intercept': False, 'positive': True}. Best is trial 162 with value: 0.12297543197564245.\n",
      "[I 2025-05-24 19:15:52,664] Trial 241 finished with value: 0.1229754203518871 and parameters: {'alpha': 177.74905716619622, 'tol': 0.001386828745979543, 'fit_intercept': False, 'positive': True}. Best is trial 162 with value: 0.12297543197564245.\n",
      "[I 2025-05-24 19:15:54,306] Trial 242 finished with value: 0.1229754202373019 and parameters: {'alpha': 179.44690735142265, 'tol': 0.0020045409213868505, 'fit_intercept': False, 'positive': True}. Best is trial 162 with value: 0.12297543197564245.\n",
      "[I 2025-05-24 19:15:54,738] Trial 243 finished with value: 0.12297542266805586 and parameters: {'alpha': 143.21848878359805, 'tol': 0.0016503626564224054, 'fit_intercept': False, 'positive': True}. Best is trial 162 with value: 0.12297543197564245.\n",
      "[I 2025-05-24 19:15:55,265] Trial 244 finished with value: 0.12297541961975726 and parameters: {'alpha': 188.580618379342, 'tol': 0.0025775785125645044, 'fit_intercept': False, 'positive': True}. Best is trial 162 with value: 0.12297543197564245.\n",
      "[I 2025-05-24 19:15:56,232] Trial 245 finished with value: 0.12297541785544916 and parameters: {'alpha': 214.52251727016352, 'tol': 0.001975014674171386, 'fit_intercept': False, 'positive': True}. Best is trial 162 with value: 0.12297543197564245.\n",
      "[I 2025-05-24 19:15:58,004] Trial 246 finished with value: 0.12297542978900586 and parameters: {'alpha': 34.39605282311896, 'tol': 0.003122957272352767, 'fit_intercept': False, 'positive': True}. Best is trial 162 with value: 0.12297543197564245.\n",
      "[I 2025-05-24 19:15:58,549] Trial 247 finished with value: 0.12297542778512574 and parameters: {'alpha': 65.44283083853111, 'tol': 0.0024142515679766823, 'fit_intercept': False, 'positive': True}. Best is trial 162 with value: 0.12297543197564245.\n",
      "[I 2025-05-24 19:15:58,732] Trial 248 finished with value: 0.12016554519009111 and parameters: {'alpha': 75.44582661251928, 'tol': 0.0028665275061447136, 'fit_intercept': True, 'positive': False}. Best is trial 162 with value: 0.12297543197564245.\n",
      "[I 2025-05-24 19:15:59,114] Trial 249 finished with value: 0.12297542982099527 and parameters: {'alpha': 33.89762595968096, 'tol': 0.002678374468339609, 'fit_intercept': False, 'positive': True}. Best is trial 162 with value: 0.12297543197564245.\n"
     ]
    }
   ],
   "source": [
    "def objective(trial):    \n",
    "    params = {\n",
    "        \"random_state\": CFG.seed,\n",
    "        \"alpha\": trial.suggest_float(\"alpha\", 0, 1000),\n",
    "        \"tol\": trial.suggest_float(\"tol\", 1e-6, 1e-2),\n",
    "        \"fit_intercept\": trial.suggest_categorical(\"fit_intercept\", [True, False]),\n",
    "        \"positive\": trial.suggest_categorical(\"positive\", [True, False])\n",
    "    }\n",
    "    \n",
    "    trainer = Trainer(Ridge(**params))\n",
    "    return trainer.tune(X, y)\n",
    "\n",
    "if CFG.run_optuna:\n",
    "    sampler = optuna.samplers.TPESampler(seed=CFG.seed, multivariate=True)\n",
    "    study = optuna.create_study(direction=\"maximize\", sampler=sampler)\n",
    "    study.optimize(objective, n_trials=CFG.n_optuna_trials, n_jobs=-1, catch=(ValueError,))\n",
    "    best_params = study.best_params\n",
    "\n",
    "    ridge_params = {\n",
    "        \"random_state\": CFG.seed,\n",
    "        \"alpha\": best_params[\"alpha\"],\n",
    "        \"tol\": best_params[\"tol\"],\n",
    "        \"fit_intercept\": best_params[\"fit_intercept\"],\n",
    "        \"positive\": best_params[\"positive\"]\n",
    "    }\n",
    "else:\n",
    "    ridge_params = {\n",
    "        \"random_state\": CFG.seed\n",
    "    }"
   ]
  },
  {
   "cell_type": "code",
   "execution_count": 15,
   "id": "56abd143",
   "metadata": {
    "execution": {
     "iopub.execute_input": "2025-05-24T19:15:59.157290Z",
     "iopub.status.busy": "2025-05-24T19:15:59.156972Z",
     "iopub.status.idle": "2025-05-24T19:16:00.264632Z",
     "shell.execute_reply": "2025-05-24T19:16:00.263802Z"
    },
    "papermill": {
     "duration": 1.127821,
     "end_time": "2025-05-24T19:16:00.266112",
     "exception": false,
     "start_time": "2025-05-24T19:15:59.138291",
     "status": "completed"
    },
    "tags": []
   },
   "outputs": [
    {
     "name": "stdout",
     "output_type": "stream",
     "text": [
      "Training Ridge\n",
      "\n",
      "--- Fold 0 - Score: 0.199138\n",
      "--- Fold 1 - Score: 0.119112\n",
      "--- Fold 2 - Score: 0.075518\n",
      "--- Fold 3 - Score: 0.148842\n",
      "--- Fold 4 - Score: 0.072269\n",
      "\n",
      "------ Overall Score: 0.106077 - Mean Score: 0.122975 ± 0.047556\n"
     ]
    }
   ],
   "source": [
    "ridge_trainer = Trainer(Ridge(**ridge_params))\n",
    "\n",
    "_, ridge_test_preds, scores[\"Ridge (ensemble)\"] = ridge_trainer.fit_predict(X, y, X_test)"
   ]
  },
  {
   "cell_type": "markdown",
   "id": "63f00af2",
   "metadata": {
    "papermill": {
     "duration": 0.017414,
     "end_time": "2025-05-24T19:16:00.301646",
     "exception": false,
     "start_time": "2025-05-24T19:16:00.284232",
     "status": "completed"
    },
    "tags": []
   },
   "source": [
    "# Submission"
   ]
  },
  {
   "cell_type": "code",
   "execution_count": 16,
   "id": "276d03d0",
   "metadata": {
    "execution": {
     "iopub.execute_input": "2025-05-24T19:16:00.338052Z",
     "iopub.status.busy": "2025-05-24T19:16:00.337714Z",
     "iopub.status.idle": "2025-05-24T19:16:02.022121Z",
     "shell.execute_reply": "2025-05-24T19:16:02.021183Z"
    },
    "papermill": {
     "duration": 1.704308,
     "end_time": "2025-05-24T19:16:02.023566",
     "exception": false,
     "start_time": "2025-05-24T19:16:00.319258",
     "status": "completed"
    },
    "tags": []
   },
   "outputs": [
    {
     "data": {
      "text/html": [
       "<div>\n",
       "<style scoped>\n",
       "    .dataframe tbody tr th:only-of-type {\n",
       "        vertical-align: middle;\n",
       "    }\n",
       "\n",
       "    .dataframe tbody tr th {\n",
       "        vertical-align: top;\n",
       "    }\n",
       "\n",
       "    .dataframe thead th {\n",
       "        text-align: right;\n",
       "    }\n",
       "</style>\n",
       "<table border=\"1\" class=\"dataframe\">\n",
       "  <thead>\n",
       "    <tr style=\"text-align: right;\">\n",
       "      <th></th>\n",
       "      <th>ID</th>\n",
       "      <th>prediction</th>\n",
       "    </tr>\n",
       "  </thead>\n",
       "  <tbody>\n",
       "    <tr>\n",
       "      <th>0</th>\n",
       "      <td>1</td>\n",
       "      <td>0.061084</td>\n",
       "    </tr>\n",
       "    <tr>\n",
       "      <th>1</th>\n",
       "      <td>2</td>\n",
       "      <td>0.047526</td>\n",
       "    </tr>\n",
       "    <tr>\n",
       "      <th>2</th>\n",
       "      <td>3</td>\n",
       "      <td>0.011978</td>\n",
       "    </tr>\n",
       "    <tr>\n",
       "      <th>3</th>\n",
       "      <td>4</td>\n",
       "      <td>-0.038088</td>\n",
       "    </tr>\n",
       "    <tr>\n",
       "      <th>4</th>\n",
       "      <td>5</td>\n",
       "      <td>0.153882</td>\n",
       "    </tr>\n",
       "  </tbody>\n",
       "</table>\n",
       "</div>"
      ],
      "text/plain": [
       "   ID  prediction\n",
       "0   1    0.061084\n",
       "1   2    0.047526\n",
       "2   3    0.011978\n",
       "3   4   -0.038088\n",
       "4   5    0.153882"
      ]
     },
     "execution_count": 16,
     "metadata": {},
     "output_type": "execute_result"
    }
   ],
   "source": [
    "sub = pd.read_csv(CFG.sample_sub_path)\n",
    "sub[\"prediction\"] = ridge_test_preds\n",
    "sub.to_csv(f\"sub_ridge_{np.mean(scores['Ridge (ensemble)']):.6f}.csv\", index=False)\n",
    "sub.head()"
   ]
  },
  {
   "cell_type": "markdown",
   "id": "576d3ed0",
   "metadata": {
    "papermill": {
     "duration": 0.017883,
     "end_time": "2025-05-24T19:16:02.059692",
     "exception": false,
     "start_time": "2025-05-24T19:16:02.041809",
     "status": "completed"
    },
    "tags": []
   },
   "source": [
    "# Results"
   ]
  },
  {
   "cell_type": "code",
   "execution_count": 17,
   "id": "25933d74",
   "metadata": {
    "execution": {
     "iopub.execute_input": "2025-05-24T19:16:02.097309Z",
     "iopub.status.busy": "2025-05-24T19:16:02.097001Z",
     "iopub.status.idle": "2025-05-24T19:16:02.508218Z",
     "shell.execute_reply": "2025-05-24T19:16:02.507334Z"
    },
    "papermill": {
     "duration": 0.431879,
     "end_time": "2025-05-24T19:16:02.509557",
     "exception": false,
     "start_time": "2025-05-24T19:16:02.077678",
     "status": "completed"
    },
    "tags": []
   },
   "outputs": [
    {
     "data": {
      "image/png": "[encoded data removed]",
      "text/plain": [
       "<Figure size 1500x200 with 2 Axes>"
      ]
     },
     "metadata": {},
     "output_type": "display_data"
    }
   ],
   "source": [
    "scores = pd.DataFrame(scores)\n",
    "mean_scores = scores.mean().sort_values(ascending=False)\n",
    "order = scores.mean().sort_values(ascending=False).index.tolist()\n",
    "\n",
    "min_score = mean_scores.min()\n",
    "max_score = mean_scores.max()\n",
    "padding = (max_score - min_score) * 0.5\n",
    "lower_limit = min_score - padding\n",
    "upper_limit = max_score + padding\n",
    "\n",
    "fig, axs = plt.subplots(1, 2, figsize=(15, scores.shape[1] * 0.5))\n",
    "\n",
    "boxplot = sns.boxplot(data=scores, order=order, ax=axs[0], orient=\"h\", color=\"grey\")\n",
    "axs[0].set_title(f\"Fold Score\")\n",
    "axs[0].set_xlabel(\"\")\n",
    "axs[0].set_ylabel(\"\")\n",
    "\n",
    "barplot = sns.barplot(x=mean_scores.values, y=mean_scores.index, ax=axs[1], color=\"grey\")\n",
    "axs[1].set_title(f\"Average Score\")\n",
    "axs[1].set_xlabel(\"\")\n",
    "axs[1].set_xlim(left=lower_limit, right=upper_limit)\n",
    "axs[1].set_ylabel(\"\")\n",
    "\n",
    "for i, (score, model) in enumerate(zip(mean_scores.values, mean_scores.index)):\n",
    "    color = \"cyan\" if \"ensemble\" in model.lower() else \"grey\"\n",
    "    barplot.patches[i].set_facecolor(color)\n",
    "    boxplot.patches[i].set_facecolor(color)\n",
    "    barplot.text(score, i, round(score, 6), va=\"center\")\n",
    "\n",
    "plt.tight_layout()\n",
    "plt.show()"
   ]
  }
 ],
 "metadata": {
  "kaggle": {
   "accelerator": "none",
   "dataSources": [
    {
     "databundleVersionId": 11418275,
     "sourceId": 96164,
     "sourceType": "competition"
    }
   ],
   "dockerImageVersionId": 31040,
   "isGpuEnabled": false,
   "isInternetEnabled": true,
   "language": "python",
   "sourceType": "notebook"
  },
  "kernelspec": {
   "display_name": "Python 3",
   "language": "python",
   "name": "python3"
  },
  "language_info": {
   "codemirror_mode": {
    "name": "ipython",
    "version": 3
   },
   "file_extension": ".py",
   "mimetype": "text/x-python",
   "name": "python",
   "nbconvert_exporter": "python",
   "pygments_lexer": "ipython3",
   "version": "3.11.11"
  },
  "papermill": {
   "default_parameters": {},
   "duration": 5000.315434,
   "end_time": "2025-05-24T19:16:05.790728",
   "environment_variables": {},
   "exception": null,
   "input_path": "__notebook__.ipynb",
   "output_path": "__notebook__.ipynb",
   "parameters": {},
   "start_time": "2025-05-24T17:52:45.475294",
   "version": "2.6.0"
  }
 },
 "nbformat": 4,
 "nbformat_minor": 5
}
