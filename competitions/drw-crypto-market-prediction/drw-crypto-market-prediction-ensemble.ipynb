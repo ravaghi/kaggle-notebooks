{
 "cells": [
  {
   "cell_type": "code",
   "execution_count": 1,
   "id": "6c8efed3",
   "metadata": {
    "_kg_hide-output": true,
    "execution": {
     "iopub.execute_input": "2025-06-01T09:53:43.458640Z",
     "iopub.status.busy": "2025-06-01T09:53:43.458295Z",
     "iopub.status.idle": "2025-06-01T09:53:53.381712Z",
     "shell.execute_reply": "2025-06-01T09:53:53.380728Z"
    },
    "papermill": {
     "duration": 9.931667,
     "end_time": "2025-06-01T09:53:53.383492",
     "exception": false,
     "start_time": "2025-06-01T09:53:43.451825",
     "status": "completed"
    },
    "scrolled": true,
    "tags": []
   },
   "outputs": [
    {
     "name": "stdout",
     "output_type": "stream",
     "text": [
      "Collecting koolbox\r\n",
      "  Downloading koolbox-0.1.3-py3-none-any.whl.metadata (3.4 kB)\r\n",
      "Collecting scikit-learn==1.5.2\r\n",
      "  Downloading scikit_learn-1.5.2-cp311-cp311-manylinux_2_17_x86_64.manylinux2014_x86_64.whl.metadata (13 kB)\r\n",
      "Requirement already satisfied: numpy>=1.19.5 in /usr/local/lib/python3.11/dist-packages (from scikit-learn==1.5.2) (1.26.4)\r\n",
      "Requirement already satisfied: scipy>=1.6.0 in /usr/local/lib/python3.11/dist-packages (from scikit-learn==1.5.2) (1.15.2)\r\n",
      "Requirement already satisfied: joblib>=1.2.0 in /usr/local/lib/python3.11/dist-packages (from scikit-learn==1.5.2) (1.5.0)\r\n",
      "Requirement already satisfied: threadpoolctl>=3.1.0 in /usr/local/lib/python3.11/dist-packages (from scikit-learn==1.5.2) (3.6.0)\r\n",
      "Requirement already satisfied: optuna>=4.2.1 in /usr/local/lib/python3.11/dist-packages (from koolbox) (4.3.0)\r\n",
      "Requirement already satisfied: pandas>=2.2.3 in /usr/local/lib/python3.11/dist-packages (from koolbox) (2.2.3)\r\n",
      "Requirement already satisfied: mkl_fft in /usr/local/lib/python3.11/dist-packages (from numpy>=1.19.5->scikit-learn==1.5.2) (1.3.8)\r\n",
      "Requirement already satisfied: mkl_random in /usr/local/lib/python3.11/dist-packages (from numpy>=1.19.5->scikit-learn==1.5.2) (1.2.4)\r\n",
      "Requirement already satisfied: mkl_umath in /usr/local/lib/python3.11/dist-packages (from numpy>=1.19.5->scikit-learn==1.5.2) (0.1.1)\r\n",
      "Requirement already satisfied: mkl in /usr/local/lib/python3.11/dist-packages (from numpy>=1.19.5->scikit-learn==1.5.2) (2025.1.0)\r\n",
      "Requirement already satisfied: tbb4py in /usr/local/lib/python3.11/dist-packages (from numpy>=1.19.5->scikit-learn==1.5.2) (2022.1.0)\r\n",
      "Requirement already satisfied: mkl-service in /usr/local/lib/python3.11/dist-packages (from numpy>=1.19.5->scikit-learn==1.5.2) (2.4.1)\r\n",
      "Requirement already satisfied: alembic>=1.5.0 in /usr/local/lib/python3.11/dist-packages (from optuna>=4.2.1->koolbox) (1.15.2)\r\n",
      "Requirement already satisfied: colorlog in /usr/local/lib/python3.11/dist-packages (from optuna>=4.2.1->koolbox) (6.9.0)\r\n",
      "Requirement already satisfied: packaging>=20.0 in /usr/local/lib/python3.11/dist-packages (from optuna>=4.2.1->koolbox) (25.0)\r\n",
      "Requirement already satisfied: sqlalchemy>=1.4.2 in /usr/local/lib/python3.11/dist-packages (from optuna>=4.2.1->koolbox) (2.0.40)\r\n",
      "Requirement already satisfied: tqdm in /usr/local/lib/python3.11/dist-packages (from optuna>=4.2.1->koolbox) (4.67.1)\r\n",
      "Requirement already satisfied: PyYAML in /usr/local/lib/python3.11/dist-packages (from optuna>=4.2.1->koolbox) (6.0.2)\r\n",
      "Requirement already satisfied: python-dateutil>=2.8.2 in /usr/local/lib/python3.11/dist-packages (from pandas>=2.2.3->koolbox) (2.9.0.post0)\r\n",
      "Requirement already satisfied: pytz>=2020.1 in /usr/local/lib/python3.11/dist-packages (from pandas>=2.2.3->koolbox) (2025.2)\r\n",
      "Requirement already satisfied: tzdata>=2022.7 in /usr/local/lib/python3.11/dist-packages (from pandas>=2.2.3->koolbox) (2025.2)\r\n",
      "Requirement already satisfied: Mako in /usr/local/lib/python3.11/dist-packages (from alembic>=1.5.0->optuna>=4.2.1->koolbox) (1.3.10)\r\n",
      "Requirement already satisfied: typing-extensions>=4.12 in /usr/local/lib/python3.11/dist-packages (from alembic>=1.5.0->optuna>=4.2.1->koolbox) (4.13.2)\r\n",
      "Requirement already satisfied: six>=1.5 in /usr/local/lib/python3.11/dist-packages (from python-dateutil>=2.8.2->pandas>=2.2.3->koolbox) (1.17.0)\r\n",
      "Requirement already satisfied: greenlet>=1 in /usr/local/lib/python3.11/dist-packages (from sqlalchemy>=1.4.2->optuna>=4.2.1->koolbox) (3.1.1)\r\n",
      "Requirement already satisfied: intel-openmp<2026,>=2024 in /usr/local/lib/python3.11/dist-packages (from mkl->numpy>=1.19.5->scikit-learn==1.5.2) (2024.2.0)\r\n",
      "Requirement already satisfied: tbb==2022.* in /usr/local/lib/python3.11/dist-packages (from mkl->numpy>=1.19.5->scikit-learn==1.5.2) (2022.1.0)\r\n",
      "Requirement already satisfied: tcmlib==1.* in /usr/local/lib/python3.11/dist-packages (from tbb==2022.*->mkl->numpy>=1.19.5->scikit-learn==1.5.2) (1.3.0)\r\n",
      "Requirement already satisfied: intel-cmplr-lib-rt in /usr/local/lib/python3.11/dist-packages (from mkl_umath->numpy>=1.19.5->scikit-learn==1.5.2) (2024.2.0)\r\n",
      "Requirement already satisfied: intel-cmplr-lib-ur==2024.2.0 in /usr/local/lib/python3.11/dist-packages (from intel-openmp<2026,>=2024->mkl->numpy>=1.19.5->scikit-learn==1.5.2) (2024.2.0)\r\n",
      "Requirement already satisfied: MarkupSafe>=0.9.2 in /usr/local/lib/python3.11/dist-packages (from Mako->alembic>=1.5.0->optuna>=4.2.1->koolbox) (3.0.2)\r\n",
      "Downloading scikit_learn-1.5.2-cp311-cp311-manylinux_2_17_x86_64.manylinux2014_x86_64.whl (13.3 MB)\r\n",
      "\u001b[2K   \u001b[90m━━━━━━━━━━━━━━━━━━━━━━━━━━━━━━━━━━━━━━━━\u001b[0m \u001b[32m13.3/13.3 MB\u001b[0m \u001b[31m79.6 MB/s\u001b[0m eta \u001b[36m0:00:00\u001b[0m\r\n",
      "\u001b[?25hDownloading koolbox-0.1.3-py3-none-any.whl (18 kB)\r\n",
      "Installing collected packages: scikit-learn, koolbox\r\n",
      "  Attempting uninstall: scikit-learn\r\n",
      "    Found existing installation: scikit-learn 1.2.2\r\n",
      "    Uninstalling scikit-learn-1.2.2:\r\n",
      "      Successfully uninstalled scikit-learn-1.2.2\r\n",
      "\u001b[31mERROR: pip's dependency resolver does not currently take into account all the packages that are installed. This behaviour is the source of the following dependency conflicts.\r\n",
      "cesium 0.12.4 requires numpy<3.0,>=2.0, but you have numpy 1.26.4 which is incompatible.\u001b[0m\u001b[31m\r\n",
      "\u001b[0mSuccessfully installed koolbox-0.1.3 scikit-learn-1.5.2\r\n"
     ]
    }
   ],
   "source": [
    "!pip install koolbox scikit-learn==1.5.2"
   ]
  },
  {
   "cell_type": "markdown",
   "id": "2f7d606a",
   "metadata": {
    "papermill": {
     "duration": 0.005117,
     "end_time": "2025-06-01T09:53:53.394551",
     "exception": false,
     "start_time": "2025-06-01T09:53:53.389434",
     "status": "completed"
    },
    "tags": []
   },
   "source": [
    "# Imports and configs"
   ]
  },
  {
   "cell_type": "code",
   "execution_count": 2,
   "id": "df2d3ac7",
   "metadata": {
    "_kg_hide-output": true,
    "execution": {
     "iopub.execute_input": "2025-06-01T09:53:53.406789Z",
     "iopub.status.busy": "2025-06-01T09:53:53.406414Z",
     "iopub.status.idle": "2025-06-01T09:54:02.521955Z",
     "shell.execute_reply": "2025-06-01T09:54:02.521090Z"
    },
    "papermill": {
     "duration": 9.123677,
     "end_time": "2025-06-01T09:54:02.523609",
     "exception": false,
     "start_time": "2025-06-01T09:53:53.399932",
     "status": "completed"
    },
    "tags": []
   },
   "outputs": [],
   "source": [
    "from sklearn.model_selection import KFold\n",
    "from sklearn.linear_model import Ridge\n",
    "from lightgbm import LGBMRegressor\n",
    "from scipy.stats import pearsonr as pr\n",
    "from xgboost import XGBRegressor\n",
    "from sklearn.base import clone\n",
    "from koolbox import Trainer\n",
    "import matplotlib.pyplot as plt\n",
    "import seaborn as sns\n",
    "import pandas as pd\n",
    "import numpy as np\n",
    "import warnings\n",
    "import optuna\n",
    "import joblib\n",
    "import gc\n",
    "\n",
    "warnings.filterwarnings(\"ignore\")"
   ]
  },
  {
   "cell_type": "code",
   "execution_count": 3,
   "id": "00106c44",
   "metadata": {
    "execution": {
     "iopub.execute_input": "2025-06-01T09:54:02.535960Z",
     "iopub.status.busy": "2025-06-01T09:54:02.535360Z",
     "iopub.status.idle": "2025-06-01T09:54:02.540715Z",
     "shell.execute_reply": "2025-06-01T09:54:02.539809Z"
    },
    "papermill": {
     "duration": 0.012877,
     "end_time": "2025-06-01T09:54:02.542134",
     "exception": false,
     "start_time": "2025-06-01T09:54:02.529257",
     "status": "completed"
    },
    "tags": []
   },
   "outputs": [],
   "source": [
    "class CFG:\n",
    "    train_path = \"/kaggle/input/drw-crypto-market-prediction/train.parquet\"\n",
    "    test_path = \"/kaggle/input/drw-crypto-market-prediction/test.parquet\"\n",
    "    sample_sub_path = \"/kaggle/input/drw-crypto-market-prediction/sample_submission.csv\"\n",
    "\n",
    "    target = \"label\"\n",
    "    n_folds = 5\n",
    "    seed = 42\n",
    "\n",
    "    run_optuna = True\n",
    "    n_optuna_trials = 250"
   ]
  },
  {
   "cell_type": "markdown",
   "id": "38441d79",
   "metadata": {
    "papermill": {
     "duration": 0.005138,
     "end_time": "2025-06-01T09:54:02.552843",
     "exception": false,
     "start_time": "2025-06-01T09:54:02.547705",
     "status": "completed"
    },
    "tags": []
   },
   "source": [
    "# Data loading and preprocessing"
   ]
  },
  {
   "cell_type": "code",
   "execution_count": 4,
   "id": "92b2307f",
   "metadata": {
    "_kg_hide-input": true,
    "execution": {
     "iopub.execute_input": "2025-06-01T09:54:02.564871Z",
     "iopub.status.busy": "2025-06-01T09:54:02.564511Z",
     "iopub.status.idle": "2025-06-01T09:54:02.573849Z",
     "shell.execute_reply": "2025-06-01T09:54:02.573078Z"
    },
    "papermill": {
     "duration": 0.017014,
     "end_time": "2025-06-01T09:54:02.575121",
     "exception": false,
     "start_time": "2025-06-01T09:54:02.558107",
     "status": "completed"
    },
    "tags": []
   },
   "outputs": [],
   "source": [
    "def reduce_mem_usage(dataframe, dataset):    \n",
    "    print('Reducing memory usage for:', dataset)\n",
    "    initial_mem_usage = dataframe.memory_usage().sum() / 1024**2\n",
    "    \n",
    "    for col in dataframe.columns:\n",
    "        col_type = dataframe[col].dtype\n",
    "\n",
    "        c_min = dataframe[col].min()\n",
    "        c_max = dataframe[col].max()\n",
    "        if str(col_type)[:3] == 'int':\n",
    "            if c_min > np.iinfo(np.int8).min and c_max < np.iinfo(np.int8).max:\n",
    "                dataframe[col] = dataframe[col].astype(np.int8)\n",
    "            elif c_min > np.iinfo(np.int16).min and c_max < np.iinfo(np.int16).max:\n",
    "                dataframe[col] = dataframe[col].astype(np.int16)\n",
    "            elif c_min > np.iinfo(np.int32).min and c_max < np.iinfo(np.int32).max:\n",
    "                dataframe[col] = dataframe[col].astype(np.int32)\n",
    "            elif c_min > np.iinfo(np.int64).min and c_max < np.iinfo(np.int64).max:\n",
    "                dataframe[col] = dataframe[col].astype(np.int64)\n",
    "        else:\n",
    "            if c_min > np.finfo(np.float16).min and c_max < np.finfo(np.float16).max:\n",
    "                dataframe[col] = dataframe[col].astype(np.float16)\n",
    "            elif c_min > np.finfo(np.float32).min and c_max < np.finfo(np.float32).max:\n",
    "                dataframe[col] = dataframe[col].astype(np.float32)\n",
    "            else:\n",
    "                dataframe[col] = dataframe[col].astype(np.float64)\n",
    "\n",
    "    final_mem_usage = dataframe.memory_usage().sum() / 1024**2\n",
    "    print('--- Memory usage before: {:.2f} MB'.format(initial_mem_usage))\n",
    "    print('--- Memory usage after: {:.2f} MB'.format(final_mem_usage))\n",
    "    print('--- Decreased memory usage by {:.1f}%\\n'.format(100 * (initial_mem_usage - final_mem_usage) / initial_mem_usage))\n",
    "\n",
    "    return dataframe"
   ]
  },
  {
   "cell_type": "code",
   "execution_count": 5,
   "id": "d00f291d",
   "metadata": {
    "execution": {
     "iopub.execute_input": "2025-06-01T09:54:02.587603Z",
     "iopub.status.busy": "2025-06-01T09:54:02.587324Z",
     "iopub.status.idle": "2025-06-01T09:54:02.598311Z",
     "shell.execute_reply": "2025-06-01T09:54:02.597499Z"
    },
    "papermill": {
     "duration": 0.019176,
     "end_time": "2025-06-01T09:54:02.599788",
     "exception": false,
     "start_time": "2025-06-01T09:54:02.580612",
     "status": "completed"
    },
    "tags": []
   },
   "outputs": [],
   "source": [
    "def add_features(df):\n",
    "    data = df.copy()\n",
    "    features_df = pd.DataFrame(index=data.index)\n",
    "    \n",
    "    features_df['bid_ask_spread_proxy'] = data['ask_qty'] - data['bid_qty']\n",
    "    features_df['total_liquidity'] = data['bid_qty'] + data['ask_qty']\n",
    "    features_df['trade_imbalance'] = data['buy_qty'] - data['sell_qty']\n",
    "    features_df['total_trades'] = data['buy_qty'] + data['sell_qty']\n",
    "    \n",
    "    features_df['volume_per_trade'] = data['volume'] / (data['buy_qty'] + data['sell_qty'] + 1e-8)\n",
    "    features_df['buy_volume_ratio'] = data['buy_qty'] / (data['volume'] + 1e-8)\n",
    "    features_df['sell_volume_ratio'] = data['sell_qty'] / (data['volume'] + 1e-8)\n",
    "    \n",
    "    features_df['buying_pressure'] = data['buy_qty'] / (data['buy_qty'] + data['sell_qty'] + 1e-8)\n",
    "    features_df['selling_pressure'] = data['sell_qty'] / (data['buy_qty'] + data['sell_qty'] + 1e-8)\n",
    "    \n",
    "    features_df['order_imbalance'] = (data['bid_qty'] - data['ask_qty']) / (data['bid_qty'] + data['ask_qty'] + 1e-8)\n",
    "    features_df['order_imbalance_abs'] = np.abs(features_df['order_imbalance'])\n",
    "    features_df['bid_liquidity_ratio'] = data['bid_qty'] / (data['volume'] + 1e-8)\n",
    "    features_df['ask_liquidity_ratio'] = data['ask_qty'] / (data['volume'] + 1e-8)\n",
    "    features_df['depth_imbalance'] = features_df['total_trades'] - data['volume']\n",
    "    \n",
    "    features_df['buy_sell_ratio'] = data['buy_qty'] / (data['sell_qty'] + 1e-8)\n",
    "    features_df['bid_ask_ratio'] = data['bid_qty'] / (data['ask_qty'] + 1e-8)\n",
    "    features_df['volume_liquidity_ratio'] = data['volume'] / (data['bid_qty'] + data['ask_qty'] + 1e-8)\n",
    "\n",
    "    features_df['buy_volume_product'] = data['buy_qty'] * data['volume']\n",
    "    features_df['sell_volume_product'] = data['sell_qty'] * data['volume']\n",
    "    features_df['bid_ask_product'] = data['bid_qty'] * data['ask_qty']\n",
    "    \n",
    "    features_df['market_competition'] = (data['buy_qty'] * data['sell_qty']) / ((data['buy_qty'] + data['sell_qty']) + 1e-8)\n",
    "    features_df['liquidity_competition'] = (data['bid_qty'] * data['ask_qty']) / ((data['bid_qty'] + data['ask_qty']) + 1e-8)\n",
    "    \n",
    "    total_activity = data['buy_qty'] + data['sell_qty'] + data['bid_qty'] + data['ask_qty']\n",
    "    features_df['market_activity'] = total_activity\n",
    "    features_df['activity_concentration'] = data['volume'] / (total_activity + 1e-8)\n",
    "    \n",
    "    features_df['info_arrival_rate'] = (data['buy_qty'] + data['sell_qty']) / (data['volume'] + 1e-8)\n",
    "    features_df['market_making_intensity'] = (data['bid_qty'] + data['ask_qty']) / (data['buy_qty'] + data['sell_qty'] + 1e-8)\n",
    "    features_df['effective_spread_proxy'] = np.abs(data['buy_qty'] - data['sell_qty']) / (data['volume'] + 1e-8)\n",
    "    \n",
    "    lambda_decay = 0.95\n",
    "    ofi = data['buy_qty'] - data['sell_qty']\n",
    "    features_df['order_flow_imbalance_ewm'] = ofi.ewm(alpha=1-lambda_decay).mean()\n",
    "\n",
    "    features_df = features_df.replace([np.inf, -np.inf], np.nan)\n",
    "    \n",
    "    return features_df"
   ]
  },
  {
   "cell_type": "code",
   "execution_count": 6,
   "id": "9cbae4dc",
   "metadata": {
    "execution": {
     "iopub.execute_input": "2025-06-01T09:54:02.611979Z",
     "iopub.status.busy": "2025-06-01T09:54:02.611618Z",
     "iopub.status.idle": "2025-06-01T09:54:02.617259Z",
     "shell.execute_reply": "2025-06-01T09:54:02.616592Z"
    },
    "papermill": {
     "duration": 0.013192,
     "end_time": "2025-06-01T09:54:02.618559",
     "exception": false,
     "start_time": "2025-06-01T09:54:02.605367",
     "status": "completed"
    },
    "tags": []
   },
   "outputs": [],
   "source": [
    "cols_to_drop = [\n",
    "    'X697', 'X698', 'X699', 'X700', 'X701', 'X702', 'X703', 'X704', 'X705', 'X706', \n",
    "    'X707', 'X708', 'X709', 'X710', 'X711', 'X712', 'X713', 'X714', 'X715', 'X716',\n",
    "    'X717', 'X864', 'X867', 'X869', 'X870', 'X871', 'X872', 'X104', 'X110', 'X116',\n",
    "    'X122', 'X128', 'X134', 'X140', 'X146', 'X152', 'X158', 'X164', 'X170', 'X176',\n",
    "    'X182', 'X351', 'X357', 'X363', 'X369', 'X375', 'X381', 'X387', 'X393', 'X399',\n",
    "    'X405', 'X411', 'X417', 'X423', 'X429'\n",
    "]"
   ]
  },
  {
   "cell_type": "code",
   "execution_count": 7,
   "id": "fc712e10",
   "metadata": {
    "execution": {
     "iopub.execute_input": "2025-06-01T09:54:02.631137Z",
     "iopub.status.busy": "2025-06-01T09:54:02.630808Z",
     "iopub.status.idle": "2025-06-01T09:55:27.037412Z",
     "shell.execute_reply": "2025-06-01T09:55:27.036410Z"
    },
    "papermill": {
     "duration": 84.414772,
     "end_time": "2025-06-01T09:55:27.039541",
     "exception": false,
     "start_time": "2025-06-01T09:54:02.624769",
     "status": "completed"
    },
    "tags": []
   },
   "outputs": [
    {
     "name": "stdout",
     "output_type": "stream",
     "text": [
      "Reducing memory usage for: train\n",
      "--- Memory usage before: 3594.93 MB\n",
      "--- Memory usage after: 961.92 MB\n",
      "--- Decreased memory usage by 73.2%\n",
      "\n",
      "Reducing memory usage for: test\n",
      "--- Memory usage before: 3678.76 MB\n",
      "--- Memory usage after: 984.36 MB\n",
      "--- Decreased memory usage by 73.2%\n",
      "\n"
     ]
    }
   ],
   "source": [
    "train = pd.read_parquet(CFG.train_path).reset_index(drop=True)\n",
    "test = pd.read_parquet(CFG.test_path).reset_index(drop=True)\n",
    "\n",
    "train = reduce_mem_usage(train, \"train\")\n",
    "test = reduce_mem_usage(test, \"test\")\n",
    "\n",
    "X = train.drop([CFG.target] + cols_to_drop, axis=1)\n",
    "y = train[CFG.target]\n",
    "X_test = test.drop([CFG.target] + cols_to_drop, axis=1)"
   ]
  },
  {
   "cell_type": "code",
   "execution_count": 8,
   "id": "d0cf9ade",
   "metadata": {
    "execution": {
     "iopub.execute_input": "2025-06-01T09:55:27.053174Z",
     "iopub.status.busy": "2025-06-01T09:55:27.052833Z",
     "iopub.status.idle": "2025-06-01T09:55:33.534313Z",
     "shell.execute_reply": "2025-06-01T09:55:33.533307Z"
    },
    "papermill": {
     "duration": 6.490419,
     "end_time": "2025-06-01T09:55:33.536060",
     "exception": false,
     "start_time": "2025-06-01T09:55:27.045641",
     "status": "completed"
    },
    "tags": []
   },
   "outputs": [],
   "source": [
    "X = pd.concat([add_features(X), X], axis=1)\n",
    "X_test = pd.concat([add_features(X_test), X_test], axis=1)"
   ]
  },
  {
   "cell_type": "markdown",
   "id": "a1665516",
   "metadata": {
    "papermill": {
     "duration": 0.005515,
     "end_time": "2025-06-01T09:55:33.547625",
     "exception": false,
     "start_time": "2025-06-01T09:55:33.542110",
     "status": "completed"
    },
    "tags": []
   },
   "source": [
    "# Training base models"
   ]
  },
  {
   "cell_type": "code",
   "execution_count": 9,
   "id": "9fc53817",
   "metadata": {
    "execution": {
     "iopub.execute_input": "2025-06-01T09:55:33.560325Z",
     "iopub.status.busy": "2025-06-01T09:55:33.560010Z",
     "iopub.status.idle": "2025-06-01T09:55:33.564777Z",
     "shell.execute_reply": "2025-06-01T09:55:33.563783Z"
    },
    "papermill": {
     "duration": 0.012977,
     "end_time": "2025-06-01T09:55:33.566253",
     "exception": false,
     "start_time": "2025-06-01T09:55:33.553276",
     "status": "completed"
    },
    "tags": []
   },
   "outputs": [],
   "source": [
    "def pearsonr(y_true, y_pred):\n",
    "    return pr(y_true, y_pred)[0]"
   ]
  },
  {
   "cell_type": "code",
   "execution_count": 10,
   "id": "58ff6682",
   "metadata": {
    "_kg_hide-input": true,
    "_kg_hide-output": true,
    "execution": {
     "iopub.execute_input": "2025-06-01T09:55:33.579173Z",
     "iopub.status.busy": "2025-06-01T09:55:33.578550Z",
     "iopub.status.idle": "2025-06-01T09:55:33.585939Z",
     "shell.execute_reply": "2025-06-01T09:55:33.585002Z"
    },
    "papermill": {
     "duration": 0.015402,
     "end_time": "2025-06-01T09:55:33.587419",
     "exception": false,
     "start_time": "2025-06-01T09:55:33.572017",
     "status": "completed"
    },
    "tags": []
   },
   "outputs": [],
   "source": [
    "lgbm_params = {\n",
    "    \"boosting_type\": \"gbdt\",\n",
    "    \"colsample_bytree\": 0.6668813654729736,\n",
    "    \"learning_rate\": 0.03388752361020876,\n",
    "    \"min_child_samples\": 27,\n",
    "    \"min_child_weight\": 0.8201187421311484,\n",
    "    \"n_estimators\": 1877,\n",
    "    \"n_jobs\": -1,\n",
    "    \"num_leaves\": 9,\n",
    "    \"random_state\": 42,\n",
    "    \"reg_alpha\": 79.84499181826652,\n",
    "    \"reg_lambda\": 49.39626011777799,\n",
    "    \"subsample\": 0.2032810514888036,\n",
    "    \"verbose\": -1\n",
    "}\n",
    "\n",
    "lgbm_goss_params = {\n",
    "    \"boosting_type\": \"goss\",\n",
    "    \"colsample_bytree\": 0.36556085663487903,\n",
    "    \"learning_rate\": 0.008503127215485715,\n",
    "    \"min_child_samples\": 23,\n",
    "    \"min_child_weight\": 0.8163027430655353,\n",
    "    \"n_estimators\": 601,\n",
    "    \"n_jobs\": -1,\n",
    "    \"num_leaves\": 68,\n",
    "    \"random_state\": 42,\n",
    "    \"reg_alpha\": 86.71523829378131,\n",
    "    \"reg_lambda\": 9.227695570414218,\n",
    "    \"subsample\": 0.4082026328069309,\n",
    "    \"verbose\": -1\n",
    "}\n",
    "\n",
    "xgb_params = {\n",
    "    \"colsample_bylevel\": 0.8640697224146584,\n",
    "    \"colsample_bynode\": 0.11087134395654064,\n",
    "    \"colsample_bytree\": 0.4727045319253941,\n",
    "    \"gamma\": 5.886793336088316,\n",
    "    \"learning_rate\": 0.014617031725894066,\n",
    "    \"max_depth\": 17,\n",
    "    \"max_leaves\": 21,\n",
    "    \"min_child_weight\": 95,\n",
    "    \"n_estimators\": 761,\n",
    "    \"n_jobs\": -1,\n",
    "    \"random_state\": 42,\n",
    "    \"reg_alpha\": 58.33499071146719,\n",
    "    \"reg_lambda\": 59.29921844166945,\n",
    "    \"subsample\": 0.05819005276822031,\n",
    "    \"verbosity\": 0\n",
    "}"
   ]
  },
  {
   "cell_type": "code",
   "execution_count": 11,
   "id": "4c8d81c3",
   "metadata": {
    "execution": {
     "iopub.execute_input": "2025-06-01T09:55:33.600258Z",
     "iopub.status.busy": "2025-06-01T09:55:33.599688Z",
     "iopub.status.idle": "2025-06-01T09:55:33.604207Z",
     "shell.execute_reply": "2025-06-01T09:55:33.603314Z"
    },
    "papermill": {
     "duration": 0.012513,
     "end_time": "2025-06-01T09:55:33.605735",
     "exception": false,
     "start_time": "2025-06-01T09:55:33.593222",
     "status": "completed"
    },
    "tags": []
   },
   "outputs": [],
   "source": [
    "fold_scores = {}\n",
    "overall_scores = {}\n",
    "\n",
    "oof_preds = {}\n",
    "test_preds = {}"
   ]
  },
  {
   "cell_type": "markdown",
   "id": "785a9ac9",
   "metadata": {
    "papermill": {
     "duration": 0.005476,
     "end_time": "2025-06-01T09:55:33.617160",
     "exception": false,
     "start_time": "2025-06-01T09:55:33.611684",
     "status": "completed"
    },
    "tags": []
   },
   "source": [
    "## LightGBM (gbdt)"
   ]
  },
  {
   "cell_type": "code",
   "execution_count": 12,
   "id": "e6d53744",
   "metadata": {
    "execution": {
     "iopub.execute_input": "2025-06-01T09:55:33.629530Z",
     "iopub.status.busy": "2025-06-01T09:55:33.629176Z",
     "iopub.status.idle": "2025-06-01T10:42:02.262501Z",
     "shell.execute_reply": "2025-06-01T10:42:02.261536Z"
    },
    "papermill": {
     "duration": 2788.641828,
     "end_time": "2025-06-01T10:42:02.264529",
     "exception": false,
     "start_time": "2025-06-01T09:55:33.622701",
     "status": "completed"
    },
    "tags": []
   },
   "outputs": [
    {
     "name": "stdout",
     "output_type": "stream",
     "text": [
      "Training LGBMRegressor\n",
      "\n",
      "--- Fold 0 - pearsonr: 0.153221 - Time: 521.46 s\n",
      "--- Fold 1 - pearsonr: 0.094904 - Time: 526.87 s\n",
      "--- Fold 2 - pearsonr: 0.061089 - Time: 545.04 s\n",
      "--- Fold 3 - pearsonr: 0.123551 - Time: 532.58 s\n",
      "--- Fold 4 - pearsonr: 0.090125 - Time: 520.33 s\n",
      "\n",
      "------ Overall pearsonr: 0.097046 - Mean pearsonr: 0.104578 ± 0.031368 - Time: 2647.10 s\n"
     ]
    }
   ],
   "source": [
    "lgbm_trainer = Trainer(\n",
    "    LGBMRegressor(**lgbm_params),\n",
    "    cv=KFold(n_splits=5, shuffle=False),\n",
    "    metric=pearsonr,\n",
    "    task=\"regression\",\n",
    "    metric_precision=6\n",
    ")\n",
    "\n",
    "lgbm_trainer.fit(X, y)\n",
    "\n",
    "fold_scores[\"LightGBM (gbdt)\"] = lgbm_trainer.fold_scores\n",
    "overall_scores[\"LightGBM (gbdt)\"] = [pearsonr(lgbm_trainer.oof_preds, y)]\n",
    "oof_preds[\"LightGBM (gbdt)\"] = lgbm_trainer.oof_preds\n",
    "test_preds[\"LightGBM (gbdt)\"] = lgbm_trainer.predict(X_test)"
   ]
  },
  {
   "cell_type": "markdown",
   "id": "1b455811",
   "metadata": {
    "papermill": {
     "duration": 0.006846,
     "end_time": "2025-06-01T10:42:02.280016",
     "exception": false,
     "start_time": "2025-06-01T10:42:02.273170",
     "status": "completed"
    },
    "tags": []
   },
   "source": [
    "## LightGBM (goss)"
   ]
  },
  {
   "cell_type": "code",
   "execution_count": 13,
   "id": "49ea2c13",
   "metadata": {
    "execution": {
     "iopub.execute_input": "2025-06-01T10:42:02.293475Z",
     "iopub.status.busy": "2025-06-01T10:42:02.293141Z",
     "iopub.status.idle": "2025-06-01T11:02:55.723002Z",
     "shell.execute_reply": "2025-06-01T11:02:55.722080Z"
    },
    "papermill": {
     "duration": 1253.439189,
     "end_time": "2025-06-01T11:02:55.725241",
     "exception": false,
     "start_time": "2025-06-01T10:42:02.286052",
     "status": "completed"
    },
    "tags": []
   },
   "outputs": [
    {
     "name": "stdout",
     "output_type": "stream",
     "text": [
      "Training LGBMRegressor\n",
      "\n",
      "--- Fold 0 - pearsonr: 0.173872 - Time: 219.43 s\n",
      "--- Fold 1 - pearsonr: 0.110042 - Time: 229.65 s\n",
      "--- Fold 2 - pearsonr: 0.055019 - Time: 225.88 s\n",
      "--- Fold 3 - pearsonr: 0.147619 - Time: 226.87 s\n",
      "--- Fold 4 - pearsonr: 0.072931 - Time: 230.30 s\n",
      "\n",
      "------ Overall pearsonr: 0.100297 - Mean pearsonr: 0.111897 ± 0.044439 - Time: 1133.04 s\n"
     ]
    }
   ],
   "source": [
    "lgbm_goss_trainer = Trainer(\n",
    "    LGBMRegressor(**lgbm_goss_params),\n",
    "    cv=KFold(n_splits=5, shuffle=False),\n",
    "    metric=pearsonr,\n",
    "    task=\"regression\",\n",
    "    metric_precision=6\n",
    ")\n",
    "\n",
    "lgbm_goss_trainer.fit(X, y)\n",
    "\n",
    "fold_scores[\"LightGBM (goss)\"] = lgbm_goss_trainer.fold_scores\n",
    "overall_scores[\"LightGBM (goss)\"] = [pearsonr(lgbm_goss_trainer.oof_preds, y)]\n",
    "oof_preds[\"LightGBM (goss)\"] = lgbm_goss_trainer.oof_preds\n",
    "test_preds[\"LightGBM (goss)\"] = lgbm_goss_trainer.predict(X_test)"
   ]
  },
  {
   "cell_type": "markdown",
   "id": "a6166907",
   "metadata": {
    "papermill": {
     "duration": 0.006851,
     "end_time": "2025-06-01T11:02:55.739366",
     "exception": false,
     "start_time": "2025-06-01T11:02:55.732515",
     "status": "completed"
    },
    "tags": []
   },
   "source": [
    "## XGBoost"
   ]
  },
  {
   "cell_type": "code",
   "execution_count": 14,
   "id": "57b16884",
   "metadata": {
    "execution": {
     "iopub.execute_input": "2025-06-01T11:02:55.754708Z",
     "iopub.status.busy": "2025-06-01T11:02:55.754387Z",
     "iopub.status.idle": "2025-06-01T12:15:56.575637Z",
     "shell.execute_reply": "2025-06-01T12:15:56.574728Z"
    },
    "papermill": {
     "duration": 4380.831042,
     "end_time": "2025-06-01T12:15:56.577667",
     "exception": false,
     "start_time": "2025-06-01T11:02:55.746625",
     "status": "completed"
    },
    "tags": []
   },
   "outputs": [
    {
     "name": "stdout",
     "output_type": "stream",
     "text": [
      "Training XGBRegressor\n",
      "\n",
      "--- Fold 0 - pearsonr: 0.217279 - Time: 860.34 s\n",
      "--- Fold 1 - pearsonr: 0.111936 - Time: 858.26 s\n",
      "--- Fold 2 - pearsonr: 0.059364 - Time: 870.50 s\n",
      "--- Fold 3 - pearsonr: 0.153424 - Time: 865.29 s\n",
      "--- Fold 4 - pearsonr: 0.066872 - Time: 862.90 s\n",
      "\n",
      "------ Overall pearsonr: 0.111821 - Mean pearsonr: 0.121775 ± 0.058530 - Time: 4318.15 s\n"
     ]
    }
   ],
   "source": [
    "xgb_trainer = Trainer(\n",
    "    XGBRegressor(**xgb_params),\n",
    "    cv=KFold(n_splits=5, shuffle=False),\n",
    "    metric=pearsonr,\n",
    "    task=\"regression\",\n",
    "    metric_precision=6\n",
    ")\n",
    "\n",
    "xgb_trainer.fit(X, y)\n",
    "\n",
    "fold_scores[\"XGBoost\"] = xgb_trainer.fold_scores\n",
    "overall_scores[\"XGBoost\"] = [pearsonr(xgb_trainer.oof_preds, y)]\n",
    "oof_preds[\"XGBoost\"] = xgb_trainer.oof_preds\n",
    "test_preds[\"XGBoost\"] = xgb_trainer.predict(X_test)"
   ]
  },
  {
   "cell_type": "markdown",
   "id": "ba48527d",
   "metadata": {
    "papermill": {
     "duration": 0.007267,
     "end_time": "2025-06-01T12:15:56.594298",
     "exception": false,
     "start_time": "2025-06-01T12:15:56.587031",
     "status": "completed"
    },
    "tags": []
   },
   "source": [
    "# Ensembling with Ridge"
   ]
  },
  {
   "cell_type": "code",
   "execution_count": 15,
   "id": "a7f90ca4",
   "metadata": {
    "_kg_hide-input": true,
    "execution": {
     "iopub.execute_input": "2025-06-01T12:15:56.609471Z",
     "iopub.status.busy": "2025-06-01T12:15:56.608720Z",
     "iopub.status.idle": "2025-06-01T12:15:56.616776Z",
     "shell.execute_reply": "2025-06-01T12:15:56.615923Z"
    },
    "papermill": {
     "duration": 0.017165,
     "end_time": "2025-06-01T12:15:56.618170",
     "exception": false,
     "start_time": "2025-06-01T12:15:56.601005",
     "status": "completed"
    },
    "tags": []
   },
   "outputs": [],
   "source": [
    "def plot_weights(weights, title):\n",
    "    sorted_indices = np.argsort(weights[0])[::-1]\n",
    "    sorted_coeffs = np.array(weights[0])[sorted_indices]\n",
    "    sorted_model_names = np.array(list(oof_preds.keys()))[sorted_indices]\n",
    "\n",
    "    plt.figure(figsize=(10, weights.shape[1] * 0.5))\n",
    "    ax = sns.barplot(x=sorted_coeffs, y=sorted_model_names, palette=\"RdYlGn_r\")\n",
    "\n",
    "    for i, (value, name) in enumerate(zip(sorted_coeffs, sorted_model_names)):\n",
    "        if value >= 0:\n",
    "            ax.text(value, i, f\"{value:.3f}\", va=\"center\", ha=\"left\", color=\"black\")\n",
    "        else:\n",
    "            ax.text(value, i, f\"{value:.3f}\", va=\"center\", ha=\"right\", color=\"black\")\n",
    "\n",
    "    xlim = ax.get_xlim()\n",
    "    ax.set_xlim(xlim[0] - 0.1 * abs(xlim[0]), xlim[1] + 0.1 * abs(xlim[1]))\n",
    "\n",
    "    plt.title(title)\n",
    "    plt.xlabel(\"\")\n",
    "    plt.ylabel(\"\")\n",
    "    plt.tight_layout()\n",
    "    plt.show()"
   ]
  },
  {
   "cell_type": "code",
   "execution_count": 16,
   "id": "70eef4df",
   "metadata": {
    "execution": {
     "iopub.execute_input": "2025-06-01T12:15:56.634527Z",
     "iopub.status.busy": "2025-06-01T12:15:56.633619Z",
     "iopub.status.idle": "2025-06-01T12:15:56.718029Z",
     "shell.execute_reply": "2025-06-01T12:15:56.717139Z"
    },
    "papermill": {
     "duration": 0.093953,
     "end_time": "2025-06-01T12:15:56.719677",
     "exception": false,
     "start_time": "2025-06-01T12:15:56.625724",
     "status": "completed"
    },
    "tags": []
   },
   "outputs": [],
   "source": [
    "X = pd.DataFrame(oof_preds)\n",
    "X_test = pd.DataFrame(test_preds)"
   ]
  },
  {
   "cell_type": "code",
   "execution_count": 17,
   "id": "0f5177c4",
   "metadata": {
    "execution": {
     "iopub.execute_input": "2025-06-01T12:15:56.735455Z",
     "iopub.status.busy": "2025-06-01T12:15:56.734659Z",
     "iopub.status.idle": "2025-06-01T12:15:56.775262Z",
     "shell.execute_reply": "2025-06-01T12:15:56.774113Z"
    },
    "papermill": {
     "duration": 0.050007,
     "end_time": "2025-06-01T12:15:56.776914",
     "exception": false,
     "start_time": "2025-06-01T12:15:56.726907",
     "status": "completed"
    },
    "tags": []
   },
   "outputs": [
    {
     "data": {
      "text/plain": [
       "['test_preds.pkl']"
      ]
     },
     "execution_count": 17,
     "metadata": {},
     "output_type": "execute_result"
    }
   ],
   "source": [
    "joblib.dump(X, \"oof_preds.pkl\")\n",
    "joblib.dump(X_test, \"test_preds.pkl\")"
   ]
  },
  {
   "cell_type": "code",
   "execution_count": 18,
   "id": "d84d04f4",
   "metadata": {
    "_kg_hide-output": true,
    "execution": {
     "iopub.execute_input": "2025-06-01T12:15:56.792635Z",
     "iopub.status.busy": "2025-06-01T12:15:56.792305Z",
     "iopub.status.idle": "2025-06-01T12:19:52.156932Z",
     "shell.execute_reply": "2025-06-01T12:19:52.156112Z"
    },
    "papermill": {
     "duration": 235.374304,
     "end_time": "2025-06-01T12:19:52.158511",
     "exception": false,
     "start_time": "2025-06-01T12:15:56.784207",
     "status": "completed"
    },
    "scrolled": true,
    "tags": []
   },
   "outputs": [
    {
     "name": "stderr",
     "output_type": "stream",
     "text": [
      "[I 2025-06-01 12:15:56,798] A new study created in memory with name: no-name-206e8396-52ad-4bdd-b611-6b2b855a2d5e\n",
      "[I 2025-06-01 12:15:59,906] Trial 1 finished with value: 0.09901522964461705 and parameters: {'alpha': 75.18071794189068, 'tol': 0.00842440118272587, 'fit_intercept': False, 'positive': False}. Best is trial 1 with value: 0.09901522964461705.\n",
      "[I 2025-06-01 12:16:00,449] Trial 3 finished with value: 0.09901264748152426 and parameters: {'alpha': 60.22182058096157, 'tol': 0.005966810623869405, 'fit_intercept': False, 'positive': False}. Best is trial 1 with value: 0.09901522964461705.\n",
      "[I 2025-06-01 12:16:00,470] Trial 0 finished with value: 0.09671602200055106 and parameters: {'alpha': 96.48938325978295, 'tol': 0.0061505975531365616, 'fit_intercept': False, 'positive': True}. Best is trial 1 with value: 0.09901522964461705.\n",
      "[I 2025-06-01 12:16:00,883] Trial 2 finished with value: 0.09272406367021832 and parameters: {'alpha': 86.32029757288954, 'tol': 0.0019747380559122537, 'fit_intercept': False, 'positive': True}. Best is trial 1 with value: 0.09901522964461705.\n",
      "[I 2025-06-01 12:16:03,908] Trial 4 finished with value: 0.09671620769220565 and parameters: {'alpha': 98.25317097251681, 'tol': 0.007886397703352862, 'fit_intercept': False, 'positive': True}. Best is trial 1 with value: 0.09901522964461705.\n",
      "[I 2025-06-01 12:16:04,486] Trial 7 finished with value: 0.09900392332611357 and parameters: {'alpha': 12.147881501402836, 'tol': 0.00991765631083474, 'fit_intercept': False, 'positive': False}. Best is trial 1 with value: 0.09901522964461705.\n",
      "[I 2025-06-01 12:16:04,519] Trial 6 finished with value: 0.09670699131755639 and parameters: {'alpha': 10.842679298499347, 'tol': 0.003107733656754877, 'fit_intercept': False, 'positive': True}. Best is trial 1 with value: 0.09901522964461705.\n",
      "[I 2025-06-01 12:16:04,700] Trial 5 finished with value: 0.08727357523107751 and parameters: {'alpha': 69.14019999784394, 'tol': 0.008423794383909762, 'fit_intercept': True, 'positive': True}. Best is trial 1 with value: 0.09901522964461705.\n",
      "[I 2025-06-01 12:16:08,016] Trial 8 finished with value: 0.08878321658617032 and parameters: {'alpha': 8.277786237748918, 'tol': 0.005902041385703734, 'fit_intercept': True, 'positive': True}. Best is trial 1 with value: 0.09901522964461705.\n",
      "[I 2025-06-01 12:16:08,184] Trial 9 finished with value: 0.09140098989634501 and parameters: {'alpha': 5.188470777714837, 'tol': 0.006466270319779053, 'fit_intercept': True, 'positive': False}. Best is trial 1 with value: 0.09901522964461705.\n",
      "[I 2025-06-01 12:16:08,203] Trial 10 finished with value: 0.09900812211248494 and parameters: {'alpha': 34.83084619304956, 'tol': 0.00774726382447622, 'fit_intercept': False, 'positive': False}. Best is trial 1 with value: 0.09901522964461705.\n",
      "[I 2025-06-01 12:16:08,261] Trial 11 finished with value: 0.09900350136758214 and parameters: {'alpha': 9.912423400195536, 'tol': 0.009301568792217252, 'fit_intercept': False, 'positive': False}. Best is trial 1 with value: 0.09901522964461705.\n",
      "[I 2025-06-01 12:16:11,524] Trial 12 finished with value: 0.09140056979107071 and parameters: {'alpha': 37.38312619794601, 'tol': 0.009444416257436434, 'fit_intercept': True, 'positive': False}. Best is trial 1 with value: 0.09901522964461705.\n",
      "[I 2025-06-01 12:16:11,884] Trial 14 finished with value: 0.09901381471183074 and parameters: {'alpha': 66.93983406878377, 'tol': 0.004493159684426723, 'fit_intercept': False, 'positive': False}. Best is trial 1 with value: 0.09901522964461705.\n",
      "[I 2025-06-01 12:16:11,935] Trial 15 finished with value: 0.09901109512995278 and parameters: {'alpha': 51.396584555679546, 'tol': 0.0036867275133557675, 'fit_intercept': False, 'positive': False}. Best is trial 1 with value: 0.09901522964461705.\n",
      "[I 2025-06-01 12:16:11,936] Trial 13 finished with value: 0.09139943714787407 and parameters: {'alpha': 96.42025519866417, 'tol': 0.00614282813252081, 'fit_intercept': True, 'positive': False}. Best is trial 1 with value: 0.09901522964461705.\n",
      "[I 2025-06-01 12:16:15,077] Trial 16 finished with value: 0.09901301532553042 and parameters: {'alpha': 62.331241774407175, 'tol': 0.0045939535856856836, 'fit_intercept': False, 'positive': False}. Best is trial 1 with value: 0.09901522964461705.\n",
      "[I 2025-06-01 12:16:15,606] Trial 17 finished with value: 0.09139944096402684 and parameters: {'alpha': 96.25401971851193, 'tol': 0.005449487116373719, 'fit_intercept': True, 'positive': False}. Best is trial 1 with value: 0.09901522964461705.\n",
      "[I 2025-06-01 12:16:15,671] Trial 19 finished with value: 0.09901450907365131 and parameters: {'alpha': 70.97047559054408, 'tol': 0.00918310309754327, 'fit_intercept': False, 'positive': False}. Best is trial 1 with value: 0.09901522964461705.\n",
      "[I 2025-06-01 12:16:15,683] Trial 18 finished with value: 0.09901823001905642 and parameters: {'alpha': 93.02143966363033, 'tol': 0.009451512965048339, 'fit_intercept': False, 'positive': False}. Best is trial 18 with value: 0.09901823001905642.\n",
      "[I 2025-06-01 12:16:18,950] Trial 20 finished with value: 0.09901510914454022 and parameters: {'alpha': 74.47468061985246, 'tol': 0.009475558115059755, 'fit_intercept': False, 'positive': False}. Best is trial 18 with value: 0.09901823001905642.\n",
      "[I 2025-06-01 12:16:19,165] Trial 21 finished with value: 0.09901876332410897 and parameters: {'alpha': 96.24637990906862, 'tol': 0.009565153620030506, 'fit_intercept': False, 'positive': False}. Best is trial 21 with value: 0.09901876332410897.\n",
      "[I 2025-06-01 12:16:19,371] Trial 22 finished with value: 0.09901562310272134 and parameters: {'alpha': 77.49161290041056, 'tol': 0.008906480550288651, 'fit_intercept': False, 'positive': False}. Best is trial 21 with value: 0.09901876332410897.\n",
      "[I 2025-06-01 12:16:19,404] Trial 23 finished with value: 0.09901855767261665 and parameters: {'alpha': 95.00081942747454, 'tol': 0.009371467359040476, 'fit_intercept': False, 'positive': False}. Best is trial 21 with value: 0.09901876332410897.\n",
      "[I 2025-06-01 12:16:22,439] Trial 24 finished with value: 0.09901857257433519 and parameters: {'alpha': 95.09099077333124, 'tol': 0.008855077226761866, 'fit_intercept': False, 'positive': False}. Best is trial 21 with value: 0.09901876332410897.\n",
      "[I 2025-06-01 12:16:22,806] Trial 25 finished with value: 0.09901925140791346 and parameters: {'alpha': 99.21249953372846, 'tol': 0.00878784621218323, 'fit_intercept': False, 'positive': False}. Best is trial 25 with value: 0.09901925140791346.\n",
      "[I 2025-06-01 12:16:23,022] Trial 26 finished with value: 0.09901889634984476 and parameters: {'alpha': 97.0533935434317, 'tol': 0.008807076015135912, 'fit_intercept': False, 'positive': False}. Best is trial 25 with value: 0.09901925140791346.\n",
      "[I 2025-06-01 12:16:23,235] Trial 27 finished with value: 0.09901924531814889 and parameters: {'alpha': 99.17540481866392, 'tol': 0.009210509309709156, 'fit_intercept': False, 'positive': False}. Best is trial 25 with value: 0.09901925140791346.\n",
      "[I 2025-06-01 12:16:26,116] Trial 28 finished with value: 0.09139944581320034 and parameters: {'alpha': 96.04256882461152, 'tol': 0.009318116686573931, 'fit_intercept': True, 'positive': False}. Best is trial 25 with value: 0.09901925140791346.\n",
      "[I 2025-06-01 12:16:26,490] Trial 29 finished with value: 0.09139943439610075 and parameters: {'alpha': 96.54003260368717, 'tol': 0.009856885690906383, 'fit_intercept': True, 'positive': False}. Best is trial 25 with value: 0.09901925140791346.\n",
      "[I 2025-06-01 12:16:27,046] Trial 30 finished with value: 0.09139956780275606 and parameters: {'alpha': 90.64080952278655, 'tol': 0.009048584673480834, 'fit_intercept': True, 'positive': False}. Best is trial 25 with value: 0.09901925140791346.\n",
      "[I 2025-06-01 12:16:27,080] Trial 31 finished with value: 0.09139948455838914 and parameters: {'alpha': 94.34427335235759, 'tol': 0.009202290246455209, 'fit_intercept': True, 'positive': False}. Best is trial 25 with value: 0.09901925140791346.\n",
      "[I 2025-06-01 12:16:30,139] Trial 32 finished with value: 0.09140082954487887 and parameters: {'alpha': 18.836804600823697, 'tol': 0.000637941539434265, 'fit_intercept': True, 'positive': False}. Best is trial 25 with value: 0.09901925140791346.\n",
      "[I 2025-06-01 12:16:30,191] Trial 33 finished with value: 0.09901864191800311 and parameters: {'alpha': 95.51076512377558, 'tol': 0.005463465294766255, 'fit_intercept': False, 'positive': False}. Best is trial 25 with value: 0.09901925140791346.\n",
      "[I 2025-06-01 12:16:30,764] Trial 34 finished with value: 0.09901862978069867 and parameters: {'alpha': 95.4372711935563, 'tol': 0.006611156151633296, 'fit_intercept': False, 'positive': False}. Best is trial 25 with value: 0.09901925140791346.\n",
      "[I 2025-06-01 12:16:30,764] Trial 35 finished with value: 0.09901890510155335 and parameters: {'alpha': 97.10652314852611, 'tol': 0.006493270072952394, 'fit_intercept': False, 'positive': False}. Best is trial 25 with value: 0.09901925140791346.\n",
      "[I 2025-06-01 12:16:33,518] Trial 36 finished with value: 0.09901928749963394 and parameters: {'alpha': 99.4323909951429, 'tol': 0.007531577296255819, 'fit_intercept': False, 'positive': False}. Best is trial 36 with value: 0.09901928749963394.\n",
      "[I 2025-06-01 12:16:33,890] Trial 37 finished with value: 0.09901902105793084 and parameters: {'alpha': 97.81089384075426, 'tol': 0.007661917192790708, 'fit_intercept': False, 'positive': False}. Best is trial 36 with value: 0.09901928749963394.\n",
      "[I 2025-06-01 12:16:34,490] Trial 39 finished with value: 0.09139968540564115 and parameters: {'alpha': 85.27295786667612, 'tol': 0.0011738681230594114, 'fit_intercept': True, 'positive': False}. Best is trial 36 with value: 0.09901928749963394.\n",
      "[I 2025-06-01 12:16:34,526] Trial 38 finished with value: 0.0913998753646891 and parameters: {'alpha': 76.22572132559064, 'tol': 5.163745215576183e-05, 'fit_intercept': True, 'positive': False}. Best is trial 36 with value: 0.09901928749963394.\n",
      "[I 2025-06-01 12:16:37,379] Trial 40 finished with value: 0.09671530091906899 and parameters: {'alpha': 89.64123903932189, 'tol': 0.004814665097876375, 'fit_intercept': False, 'positive': True}. Best is trial 36 with value: 0.09901928749963394.\n",
      "[I 2025-06-01 12:16:37,935] Trial 41 finished with value: 0.08878662136143621 and parameters: {'alpha': 50.54789805204956, 'tol': 0.0034330207673743535, 'fit_intercept': True, 'positive': True}. Best is trial 36 with value: 0.09901928749963394.\n",
      "[I 2025-06-01 12:16:38,574] Trial 43 finished with value: 0.09671270664241918 and parameters: {'alpha': 65.01682521874294, 'tol': 0.00691618498033953, 'fit_intercept': False, 'positive': True}. Best is trial 36 with value: 0.09901928749963394.\n",
      "[I 2025-06-01 12:16:38,916] Trial 42 finished with value: 0.08642817389094871 and parameters: {'alpha': 41.322343036618186, 'tol': 0.00209180383248454, 'fit_intercept': True, 'positive': True}. Best is trial 36 with value: 0.09901928749963394.\n",
      "[I 2025-06-01 12:16:40,964] Trial 44 finished with value: 0.09901875786781068 and parameters: {'alpha': 96.21330095198414, 'tol': 0.007009488512893545, 'fit_intercept': False, 'positive': False}. Best is trial 36 with value: 0.09901928749963394.\n",
      "[I 2025-06-01 12:16:42,053] Trial 45 finished with value: 0.09334919545480477 and parameters: {'alpha': 97.98839837522422, 'tol': 0.00988746394041816, 'fit_intercept': False, 'positive': True}. Best is trial 36 with value: 0.09901928749963394.\n",
      "[I 2025-06-01 12:16:42,263] Trial 46 finished with value: 0.09901872639496942 and parameters: {'alpha': 96.02253011629, 'tol': 0.0072352427238077015, 'fit_intercept': False, 'positive': False}. Best is trial 36 with value: 0.09901928749963394.\n",
      "[I 2025-06-01 12:16:42,495] Trial 47 finished with value: 0.09901909665057863 and parameters: {'alpha': 98.27050467483011, 'tol': 0.006091243171570941, 'fit_intercept': False, 'positive': False}. Best is trial 36 with value: 0.09901928749963394.\n",
      "[I 2025-06-01 12:16:45,101] Trial 48 finished with value: 0.09482440799295629 and parameters: {'alpha': 93.05751534836523, 'tol': 0.008741102093923434, 'fit_intercept': False, 'positive': True}. Best is trial 36 with value: 0.09901928749963394.\n",
      "[I 2025-06-01 12:16:45,681] Trial 49 finished with value: 0.09901866059376278 and parameters: {'alpha': 95.62386763244295, 'tol': 0.007088046350989948, 'fit_intercept': False, 'positive': False}. Best is trial 36 with value: 0.09901928749963394.\n",
      "[I 2025-06-01 12:16:45,889] Trial 50 finished with value: 0.0990029586692663 and parameters: {'alpha': 7.048784936683539, 'tol': 0.003559507710591972, 'fit_intercept': False, 'positive': False}. Best is trial 36 with value: 0.09901928749963394.\n",
      "[I 2025-06-01 12:16:46,686] Trial 51 finished with value: 0.09333875703229465 and parameters: {'alpha': 22.313870382409572, 'tol': 0.009648077625993928, 'fit_intercept': False, 'positive': True}. Best is trial 36 with value: 0.09901928749963394.\n",
      "[I 2025-06-01 12:16:48,677] Trial 52 finished with value: 0.09901929495195136 and parameters: {'alpha': 99.47780442054231, 'tol': 0.0079595598855773, 'fit_intercept': False, 'positive': False}. Best is trial 52 with value: 0.09901929495195136.\n",
      "[I 2025-06-01 12:16:49,248] Trial 53 finished with value: 0.09901936666002915 and parameters: {'alpha': 99.91495250439006, 'tol': 0.007654189012610137, 'fit_intercept': False, 'positive': False}. Best is trial 53 with value: 0.09901936666002915.\n",
      "[I 2025-06-01 12:16:49,616] Trial 54 finished with value: 0.09901930532238791 and parameters: {'alpha': 99.54100596289982, 'tol': 0.0033763092276597917, 'fit_intercept': False, 'positive': False}. Best is trial 53 with value: 0.09901936666002915.\n",
      "[I 2025-06-01 12:16:50,381] Trial 55 finished with value: 0.09901912231819422 and parameters: {'alpha': 98.42664317467309, 'tol': 0.005186375702646793, 'fit_intercept': False, 'positive': False}. Best is trial 53 with value: 0.09901936666002915.\n",
      "[I 2025-06-01 12:16:52,254] Trial 56 finished with value: 0.09901866809359802 and parameters: {'alpha': 95.66929323346322, 'tol': 0.007794143196398118, 'fit_intercept': False, 'positive': False}. Best is trial 53 with value: 0.09901936666002915.\n",
      "[I 2025-06-01 12:16:53,033] Trial 58 finished with value: 0.0990190339869733 and parameters: {'alpha': 97.88947977123073, 'tol': 0.0022610757070519495, 'fit_intercept': False, 'positive': False}. Best is trial 53 with value: 0.09901936666002915.\n",
      "[I 2025-06-01 12:16:53,413] Trial 57 finished with value: 0.09266336506904738 and parameters: {'alpha': 59.188232665643746, 'tol': 0.0013423717963724881, 'fit_intercept': False, 'positive': True}. Best is trial 53 with value: 0.09901936666002915.\n",
      "[I 2025-06-01 12:16:54,010] Trial 59 finished with value: 0.0990174750394643 and parameters: {'alpha': 88.48422015881137, 'tol': 0.0021174835742171823, 'fit_intercept': False, 'positive': False}. Best is trial 53 with value: 0.09901936666002915.\n",
      "[I 2025-06-01 12:16:55,908] Trial 60 finished with value: 0.0990178969323253 and parameters: {'alpha': 91.01562935682317, 'tol': 0.0022755354219640856, 'fit_intercept': False, 'positive': False}. Best is trial 53 with value: 0.09901936666002915.\n",
      "[I 2025-06-01 12:16:57,190] Trial 62 finished with value: 0.09901671246929551 and parameters: {'alpha': 83.93447142119203, 'tol': 0.0025956159214239093, 'fit_intercept': False, 'positive': False}. Best is trial 53 with value: 0.09901936666002915.\n",
      "[I 2025-06-01 12:16:57,775] Trial 61 finished with value: 0.08532189092619194 and parameters: {'alpha': 92.57095427963866, 'tol': 0.0008937001243625709, 'fit_intercept': True, 'positive': True}. Best is trial 53 with value: 0.09901936666002915.\n",
      "[I 2025-06-01 12:16:57,807] Trial 63 finished with value: 0.09901921689818766 and parameters: {'alpha': 99.00231878189737, 'tol': 0.008059254998788599, 'fit_intercept': False, 'positive': False}. Best is trial 53 with value: 0.09901936666002915.\n",
      "[I 2025-06-01 12:16:59,663] Trial 64 finished with value: 0.09901931037884185 and parameters: {'alpha': 99.57182430975898, 'tol': 0.0036281601141564977, 'fit_intercept': False, 'positive': False}. Best is trial 53 with value: 0.09901936666002915.\n",
      "[I 2025-06-01 12:17:01,337] Trial 66 finished with value: 0.09901917101385377 and parameters: {'alpha': 98.72297057941414, 'tol': 0.004863568222254112, 'fit_intercept': False, 'positive': False}. Best is trial 53 with value: 0.09901936666002915.\n",
      "[I 2025-06-01 12:17:01,697] Trial 67 finished with value: 0.0990191565341182 and parameters: {'alpha': 98.63484246308, 'tol': 0.009615722728455811, 'fit_intercept': False, 'positive': False}. Best is trial 53 with value: 0.09901936666002915.\n",
      "[I 2025-06-01 12:17:01,730] Trial 65 finished with value: 0.08879024674331344 and parameters: {'alpha': 95.666959742664, 'tol': 0.006345559247259422, 'fit_intercept': True, 'positive': True}. Best is trial 53 with value: 0.09901936666002915.\n",
      "[I 2025-06-01 12:17:03,040] Trial 68 finished with value: 0.09901905588188846 and parameters: {'alpha': 98.02258502237143, 'tol': 0.003682982187403232, 'fit_intercept': False, 'positive': False}. Best is trial 53 with value: 0.09901936666002915.\n",
      "[I 2025-06-01 12:17:05,064] Trial 69 finished with value: 0.09901921741275702 and parameters: {'alpha': 99.00545223676127, 'tol': 0.003073663199246992, 'fit_intercept': False, 'positive': False}. Best is trial 53 with value: 0.09901936666002915.\n",
      "[I 2025-06-01 12:17:05,116] Trial 70 finished with value: 0.09901421899273029 and parameters: {'alpha': 69.28347198415518, 'tol': 0.006457534976292958, 'fit_intercept': False, 'positive': False}. Best is trial 53 with value: 0.09901936666002915.\n",
      "[I 2025-06-01 12:17:05,695] Trial 71 finished with value: 0.09272936253743626 and parameters: {'alpha': 90.44671672810003, 'tol': 0.0019360201191297155, 'fit_intercept': False, 'positive': True}. Best is trial 53 with value: 0.09901936666002915.\n",
      "[I 2025-06-01 12:17:07,364] Trial 72 finished with value: 0.08727068030672011 and parameters: {'alpha': 38.12927306976388, 'tol': 0.008117463221617424, 'fit_intercept': True, 'positive': True}. Best is trial 53 with value: 0.09901936666002915.\n",
      "[I 2025-06-01 12:17:08,851] Trial 74 finished with value: 0.09139953904078613 and parameters: {'alpha': 91.92905009238339, 'tol': 0.0036484643552157888, 'fit_intercept': True, 'positive': False}. Best is trial 53 with value: 0.09901936666002915.\n",
      "[I 2025-06-01 12:17:08,854] Trial 73 finished with value: 0.09140018245971798 and parameters: {'alpha': 60.392950217773404, 'tol': 0.007125514558598706, 'fit_intercept': True, 'positive': False}. Best is trial 53 with value: 0.09901936666002915.\n",
      "[I 2025-06-01 12:17:09,266] Trial 75 finished with value: 0.09901813173667073 and parameters: {'alpha': 92.42892611841488, 'tol': 0.0029129399628621366, 'fit_intercept': False, 'positive': False}. Best is trial 53 with value: 0.09901936666002915.\n",
      "[I 2025-06-01 12:17:10,635] Trial 76 finished with value: 0.0990179815698734 and parameters: {'alpha': 91.52469875438547, 'tol': 0.0037804166472965874, 'fit_intercept': False, 'positive': False}. Best is trial 53 with value: 0.09901936666002915.\n",
      "[I 2025-06-01 12:17:12,537] Trial 77 finished with value: 0.09901875417125723 and parameters: {'alpha': 96.19089148936955, 'tol': 0.003914865572586572, 'fit_intercept': False, 'positive': False}. Best is trial 53 with value: 0.09901936666002915.\n",
      "[I 2025-06-01 12:17:12,545] Trial 78 finished with value: 0.0990183900298612 and parameters: {'alpha': 93.98729524865031, 'tol': 0.00307877342915969, 'fit_intercept': False, 'positive': False}. Best is trial 53 with value: 0.09901936666002915.\n",
      "[I 2025-06-01 12:17:14,113] Trial 79 finished with value: 0.09885248310866798 and parameters: {'alpha': 5.0740385519567255, 'tol': 0.000110344766650213, 'fit_intercept': False, 'positive': True}. Best is trial 53 with value: 0.09901936666002915.\n",
      "[I 2025-06-01 12:17:15,232] Trial 80 finished with value: 0.09670823082277151 and parameters: {'alpha': 22.58292639224633, 'tol': 0.00535068618525931, 'fit_intercept': False, 'positive': True}. Best is trial 53 with value: 0.09901936666002915.\n",
      "[I 2025-06-01 12:17:16,185] Trial 81 finished with value: 0.09901924356086557 and parameters: {'alpha': 99.16470104939515, 'tol': 0.008772323532921565, 'fit_intercept': False, 'positive': False}. Best is trial 53 with value: 0.09901936666002915.\n",
      "[I 2025-06-01 12:17:16,187] Trial 82 finished with value: 0.09901919737547342 and parameters: {'alpha': 98.88344738299091, 'tol': 0.008523338197127002, 'fit_intercept': False, 'positive': False}. Best is trial 53 with value: 0.09901936666002915.\n",
      "[I 2025-06-01 12:17:17,677] Trial 83 finished with value: 0.09901904409698335 and parameters: {'alpha': 97.95093780106039, 'tol': 0.008817993431879542, 'fit_intercept': False, 'positive': False}. Best is trial 53 with value: 0.09901936666002915.\n",
      "[I 2025-06-01 12:17:18,806] Trial 84 finished with value: 0.09901827810719539 and parameters: {'alpha': 93.31155225837134, 'tol': 0.008487453545219934, 'fit_intercept': False, 'positive': False}. Best is trial 53 with value: 0.09901936666002915.\n",
      "[I 2025-06-01 12:17:19,900] Trial 86 finished with value: 0.09901628342509537 and parameters: {'alpha': 81.38907479384804, 'tol': 0.008621042372640659, 'fit_intercept': False, 'positive': False}. Best is trial 53 with value: 0.09901936666002915.\n",
      "[I 2025-06-01 12:17:19,901] Trial 85 finished with value: 0.09901829209424427 and parameters: {'alpha': 93.39596044429916, 'tol': 0.009536188256632272, 'fit_intercept': False, 'positive': False}. Best is trial 53 with value: 0.09901936666002915.\n",
      "[I 2025-06-01 12:17:21,553] Trial 87 finished with value: 0.09901556308679202 and parameters: {'alpha': 77.13857236350037, 'tol': 0.008201136964799464, 'fit_intercept': False, 'positive': False}. Best is trial 53 with value: 0.09901936666002915.\n",
      "[I 2025-06-01 12:17:22,313] Trial 88 finished with value: 0.09901925274809836 and parameters: {'alpha': 99.22066332649997, 'tol': 0.009163657812633962, 'fit_intercept': False, 'positive': False}. Best is trial 53 with value: 0.09901936666002915.\n",
      "[I 2025-06-01 12:17:23,582] Trial 89 finished with value: 0.09901587788661957 and parameters: {'alpha': 78.99257713064719, 'tol': 0.007710460637827148, 'fit_intercept': False, 'positive': False}. Best is trial 53 with value: 0.09901936666002915.\n",
      "[I 2025-06-01 12:17:23,617] Trial 90 finished with value: 0.09901934105593449 and parameters: {'alpha': 99.7588292728605, 'tol': 0.008048911399475516, 'fit_intercept': False, 'positive': False}. Best is trial 53 with value: 0.09901936666002915.\n",
      "[I 2025-06-01 12:17:25,223] Trial 91 finished with value: 0.0990190215110927 and parameters: {'alpha': 97.81364810365694, 'tol': 0.00832245999992661, 'fit_intercept': False, 'positive': False}. Best is trial 53 with value: 0.09901936666002915.\n",
      "[I 2025-06-01 12:17:26,014] Trial 92 finished with value: 0.09901926281329432 and parameters: {'alpha': 99.28197929907759, 'tol': 0.008141313174323202, 'fit_intercept': False, 'positive': False}. Best is trial 53 with value: 0.09901936666002915.\n",
      "[I 2025-06-01 12:17:27,154] Trial 93 finished with value: 0.09901848103147533 and parameters: {'alpha': 94.53726356734953, 'tol': 0.009957128184552013, 'fit_intercept': False, 'positive': False}. Best is trial 53 with value: 0.09901936666002915.\n",
      "[I 2025-06-01 12:17:27,160] Trial 94 finished with value: 0.09901929863448584 and parameters: {'alpha': 99.5002465107262, 'tol': 0.007286014412376629, 'fit_intercept': False, 'positive': False}. Best is trial 53 with value: 0.09901936666002915.\n",
      "[I 2025-06-01 12:17:29,465] Trial 95 finished with value: 0.0967161368399106 and parameters: {'alpha': 97.58016932204711, 'tol': 0.0074660076396288, 'fit_intercept': False, 'positive': True}. Best is trial 53 with value: 0.09901936666002915.\n",
      "[I 2025-06-01 12:17:29,670] Trial 96 finished with value: 0.09901925339198532 and parameters: {'alpha': 99.22458562938874, 'tol': 0.00894995388865047, 'fit_intercept': False, 'positive': False}. Best is trial 53 with value: 0.09901936666002915.\n",
      "[I 2025-06-01 12:17:31,157] Trial 97 finished with value: 0.09901890982482976 and parameters: {'alpha': 97.13519894541548, 'tol': 0.006869245686013958, 'fit_intercept': False, 'positive': False}. Best is trial 53 with value: 0.09901936666002915.\n",
      "[I 2025-06-01 12:17:31,162] Trial 98 finished with value: 0.09139960137959807 and parameters: {'alpha': 89.12498630823868, 'tol': 0.006547405228212863, 'fit_intercept': True, 'positive': False}. Best is trial 53 with value: 0.09901936666002915.\n",
      "[I 2025-06-01 12:17:33,349] Trial 100 finished with value: 0.0990188641104396 and parameters: {'alpha': 96.85771445984878, 'tol': 0.007136155392038837, 'fit_intercept': False, 'positive': False}. Best is trial 53 with value: 0.09901936666002915.\n",
      "[I 2025-06-01 12:17:33,350] Trial 99 finished with value: 0.09901931207572785 and parameters: {'alpha': 99.58216692238005, 'tol': 0.00647907547624761, 'fit_intercept': False, 'positive': False}. Best is trial 53 with value: 0.09901936666002915.\n",
      "[I 2025-06-01 12:17:34,843] Trial 101 finished with value: 0.0990193201750316 and parameters: {'alpha': 99.63153497616263, 'tol': 0.007568078567854681, 'fit_intercept': False, 'positive': False}. Best is trial 53 with value: 0.09901936666002915.\n",
      "[I 2025-06-01 12:17:34,862] Trial 102 finished with value: 0.09901937019650116 and parameters: {'alpha': 99.9365195197142, 'tol': 0.00778263305128487, 'fit_intercept': False, 'positive': False}. Best is trial 102 with value: 0.09901937019650116.\n",
      "[I 2025-06-01 12:17:37,071] Trial 103 finished with value: 0.09901915280728896 and parameters: {'alpha': 98.61216184553177, 'tol': 0.006492003237687893, 'fit_intercept': False, 'positive': False}. Best is trial 102 with value: 0.09901937019650116.\n",
      "[I 2025-06-01 12:17:37,073] Trial 104 finished with value: 0.09901889084222647 and parameters: {'alpha': 97.01996037559906, 'tol': 0.00636941314699139, 'fit_intercept': False, 'positive': False}. Best is trial 102 with value: 0.09901937019650116.\n",
      "[I 2025-06-01 12:17:38,427] Trial 105 finished with value: 0.09901934763545421 and parameters: {'alpha': 99.79894475486613, 'tol': 0.0063384108668723075, 'fit_intercept': False, 'positive': False}. Best is trial 102 with value: 0.09901937019650116.\n",
      "[I 2025-06-01 12:17:38,429] Trial 106 finished with value: 0.09901914375068045 and parameters: {'alpha': 98.55704885632292, 'tol': 0.006761367831097802, 'fit_intercept': False, 'positive': False}. Best is trial 102 with value: 0.09901937019650116.\n",
      "[I 2025-06-01 12:17:40,614] Trial 107 finished with value: 0.09139938464385855 and parameters: {'alpha': 98.69242001843371, 'tol': 0.007467312508934615, 'fit_intercept': True, 'positive': False}. Best is trial 102 with value: 0.09901937019650116.\n",
      "[I 2025-06-01 12:17:41,184] Trial 108 finished with value: 0.087267309093132 and parameters: {'alpha': 2.0766314757988624, 'tol': 0.008499632535708124, 'fit_intercept': True, 'positive': True}. Best is trial 102 with value: 0.09901937019650116.\n",
      "[I 2025-06-01 12:17:42,095] Trial 109 finished with value: 0.09901582044691666 and parameters: {'alpha': 78.65387948877725, 'tol': 0.006194823747763308, 'fit_intercept': False, 'positive': False}. Best is trial 102 with value: 0.09901937019650116.\n",
      "[I 2025-06-01 12:17:42,128] Trial 110 finished with value: 0.0990173459605797 and parameters: {'alpha': 87.71176852002975, 'tol': 0.006082899701309005, 'fit_intercept': False, 'positive': False}. Best is trial 102 with value: 0.09901937019650116.\n",
      "[I 2025-06-01 12:17:44,285] Trial 111 finished with value: 0.0990158109471497 and parameters: {'alpha': 78.59788096498158, 'tol': 0.005419716284501723, 'fit_intercept': False, 'positive': False}. Best is trial 102 with value: 0.09901937019650116.\n",
      "[I 2025-06-01 12:17:44,869] Trial 112 finished with value: 0.09901651214346543 and parameters: {'alpha': 82.74471125085445, 'tol': 0.005578616482422109, 'fit_intercept': False, 'positive': False}. Best is trial 102 with value: 0.09901937019650116.\n",
      "[I 2025-06-01 12:17:45,785] Trial 113 finished with value: 0.09901922529055612 and parameters: {'alpha': 99.05342582288017, 'tol': 0.005719784804015909, 'fit_intercept': False, 'positive': False}. Best is trial 102 with value: 0.09901937019650116.\n",
      "[I 2025-06-01 12:17:45,814] Trial 114 finished with value: 0.09901937124470146 and parameters: {'alpha': 99.94291206511646, 'tol': 0.006450057803530791, 'fit_intercept': False, 'positive': False}. Best is trial 114 with value: 0.09901937124470146.\n",
      "[I 2025-06-01 12:17:47,873] Trial 115 finished with value: 0.09901911468359699 and parameters: {'alpha': 98.38019713459025, 'tol': 0.00558642492119538, 'fit_intercept': False, 'positive': False}. Best is trial 114 with value: 0.09901937124470146.\n",
      "[I 2025-06-01 12:17:48,449] Trial 116 finished with value: 0.09900960897922863 and parameters: {'alpha': 43.061561421621285, 'tol': 0.0005693867176836597, 'fit_intercept': False, 'positive': False}. Best is trial 114 with value: 0.09901937124470146.\n",
      "[I 2025-06-01 12:17:49,386] Trial 118 finished with value: 0.09901930931892199 and parameters: {'alpha': 99.56536412733182, 'tol': 0.007200404044765323, 'fit_intercept': False, 'positive': False}. Best is trial 114 with value: 0.09901937124470146.\n",
      "[I 2025-06-01 12:17:49,964] Trial 117 finished with value: 0.09671632608599007 and parameters: {'alpha': 99.3777882531543, 'tol': 0.005216801205562528, 'fit_intercept': False, 'positive': True}. Best is trial 114 with value: 0.09901937124470146.\n",
      "[I 2025-06-01 12:17:51,592] Trial 119 finished with value: 0.09901902598083208 and parameters: {'alpha': 97.84081529272451, 'tol': 0.007216481302767352, 'fit_intercept': False, 'positive': False}. Best is trial 114 with value: 0.09901937124470146.\n",
      "[I 2025-06-01 12:17:52,165] Trial 120 finished with value: 0.09901926020263443 and parameters: {'alpha': 99.26607489294466, 'tol': 0.006897944751372299, 'fit_intercept': False, 'positive': False}. Best is trial 114 with value: 0.09901937124470146.\n",
      "[I 2025-06-01 12:17:53,083] Trial 121 finished with value: 0.09901915327163142 and parameters: {'alpha': 98.61498768106736, 'tol': 0.0068787098196834715, 'fit_intercept': False, 'positive': False}. Best is trial 114 with value: 0.09901937124470146.\n",
      "[I 2025-06-01 12:17:53,656] Trial 122 finished with value: 0.09901653665906328 and parameters: {'alpha': 82.8901914355539, 'tol': 0.007153011276380729, 'fit_intercept': False, 'positive': False}. Best is trial 114 with value: 0.09901937124470146.\n",
      "[I 2025-06-01 12:17:55,295] Trial 123 finished with value: 0.09140033419090947 and parameters: {'alpha': 51.86948866963377, 'tol': 0.002367100776443496, 'fit_intercept': True, 'positive': False}. Best is trial 114 with value: 0.09901937124470146.\n",
      "[I 2025-06-01 12:17:55,699] Trial 124 finished with value: 0.09901697518668806 and parameters: {'alpha': 85.49820873490899, 'tol': 0.006879517589538057, 'fit_intercept': False, 'positive': False}. Best is trial 114 with value: 0.09901937124470146.\n",
      "[I 2025-06-01 12:17:56,999] Trial 125 finished with value: 0.09901641417964059 and parameters: {'alpha': 82.16371163474497, 'tol': 0.007049209884163436, 'fit_intercept': False, 'positive': False}. Best is trial 114 with value: 0.09901937124470146.\n",
      "[I 2025-06-01 12:17:57,215] Trial 126 finished with value: 0.0990190481490279 and parameters: {'alpha': 97.97557158651725, 'tol': 0.006813438058910539, 'fit_intercept': False, 'positive': False}. Best is trial 114 with value: 0.09901937124470146.\n",
      "[I 2025-06-01 12:17:59,171] Trial 127 finished with value: 0.09901930872134833 and parameters: {'alpha': 99.56172196193661, 'tol': 0.007225921330314498, 'fit_intercept': False, 'positive': False}. Best is trial 114 with value: 0.09901937124470146.\n",
      "[I 2025-06-01 12:17:59,383] Trial 128 finished with value: 0.09901890371140061 and parameters: {'alpha': 97.09808355034639, 'tol': 0.00750766010122476, 'fit_intercept': False, 'positive': False}. Best is trial 114 with value: 0.09901937124470146.\n",
      "[I 2025-06-01 12:18:00,557] Trial 129 finished with value: 0.0990193631506116 and parameters: {'alpha': 99.893551214624, 'tol': 0.007019614574594024, 'fit_intercept': False, 'positive': False}. Best is trial 114 with value: 0.09901937124470146.\n",
      "[I 2025-06-01 12:18:00,982] Trial 130 finished with value: 0.09901896875004396 and parameters: {'alpha': 97.4930542462498, 'tol': 0.0063039756290024125, 'fit_intercept': False, 'positive': False}. Best is trial 114 with value: 0.09901937124470146.\n",
      "[I 2025-06-01 12:18:03,183] Trial 132 finished with value: 0.09901923961890866 and parameters: {'alpha': 99.14069090553986, 'tol': 0.007663537118015255, 'fit_intercept': False, 'positive': False}. Best is trial 114 with value: 0.09901937124470146.\n",
      "[I 2025-06-01 12:18:03,206] Trial 131 finished with value: 0.09140072090954976 and parameters: {'alpha': 27.012694300453404, 'tol': 0.00569779882927852, 'fit_intercept': True, 'positive': False}. Best is trial 114 with value: 0.09901937124470146.\n",
      "[I 2025-06-01 12:18:04,328] Trial 133 finished with value: 0.0990190909348202 and parameters: {'alpha': 98.23574048882982, 'tol': 0.0056996787670958084, 'fit_intercept': False, 'positive': False}. Best is trial 114 with value: 0.09901937124470146.\n",
      "[I 2025-06-01 12:18:04,699] Trial 134 finished with value: 0.09901838799969553 and parameters: {'alpha': 93.97503144782296, 'tol': 0.006254374177027427, 'fit_intercept': False, 'positive': False}. Best is trial 114 with value: 0.09901937124470146.\n",
      "[I 2025-06-01 12:18:06,728] Trial 135 finished with value: 0.09901925918020076 and parameters: {'alpha': 99.25984623286351, 'tol': 0.00691926977863364, 'fit_intercept': False, 'positive': False}. Best is trial 114 with value: 0.09901937124470146.\n",
      "[I 2025-06-01 12:18:06,938] Trial 136 finished with value: 0.09901920328583555 and parameters: {'alpha': 98.91943246421192, 'tol': 0.006910981712878307, 'fit_intercept': False, 'positive': False}. Best is trial 114 with value: 0.09901937124470146.\n",
      "[I 2025-06-01 12:18:08,228] Trial 137 finished with value: 0.09901930117332802 and parameters: {'alpha': 99.51571918385639, 'tol': 0.007124749947624981, 'fit_intercept': False, 'positive': False}. Best is trial 114 with value: 0.09901937124470146.\n",
      "[I 2025-06-01 12:18:08,443] Trial 138 finished with value: 0.09901906479252665 and parameters: {'alpha': 98.07676336916101, 'tol': 0.006572004389482844, 'fit_intercept': False, 'positive': False}. Best is trial 114 with value: 0.09901937124470146.\n",
      "[I 2025-06-01 12:18:10,437] Trial 139 finished with value: 0.0990193766245467 and parameters: {'alpha': 99.97572257142545, 'tol': 0.0077199578141362215, 'fit_intercept': False, 'positive': False}. Best is trial 139 with value: 0.0990193766245467.\n",
      "[I 2025-06-01 12:18:10,491] Trial 140 finished with value: 0.09901891683446884 and parameters: {'alpha': 97.17775805321806, 'tol': 0.006734511495637948, 'fit_intercept': False, 'positive': False}. Best is trial 139 with value: 0.0990193766245467.\n",
      "[I 2025-06-01 12:18:11,783] Trial 141 finished with value: 0.0990191106066897 and parameters: {'alpha': 98.3553961651277, 'tol': 0.006749655864454941, 'fit_intercept': False, 'positive': False}. Best is trial 139 with value: 0.0990193766245467.\n",
      "[I 2025-06-01 12:18:12,903] Trial 142 finished with value: 0.08612213676954697 and parameters: {'alpha': 75.28823280921664, 'tol': 0.009334093024281457, 'fit_intercept': True, 'positive': True}. Best is trial 139 with value: 0.0990193766245467.\n",
      "[I 2025-06-01 12:18:13,996] Trial 143 finished with value: 0.09901859014727205 and parameters: {'alpha': 95.19734254139131, 'tol': 0.00416711725654612, 'fit_intercept': False, 'positive': False}. Best is trial 139 with value: 0.0990193766245467.\n",
      "[I 2025-06-01 12:18:14,057] Trial 144 finished with value: 0.09901872065429543 and parameters: {'alpha': 95.98773961778896, 'tol': 0.00719999796154902, 'fit_intercept': False, 'positive': False}. Best is trial 139 with value: 0.0990193766245467.\n",
      "[I 2025-06-01 12:18:15,374] Trial 145 finished with value: 0.09901932481546856 and parameters: {'alpha': 99.65982179842004, 'tol': 0.004006065132213904, 'fit_intercept': False, 'positive': False}. Best is trial 139 with value: 0.0990193766245467.\n",
      "[I 2025-06-01 12:18:16,639] Trial 146 finished with value: 0.09901919642276527 and parameters: {'alpha': 98.87764703884585, 'tol': 0.007800945461294219, 'fit_intercept': False, 'positive': False}. Best is trial 139 with value: 0.0990193766245467.\n",
      "[I 2025-06-01 12:18:17,735] Trial 147 finished with value: 0.0990192134848337 and parameters: {'alpha': 98.98153366022112, 'tol': 0.007589807969713979, 'fit_intercept': False, 'positive': False}. Best is trial 139 with value: 0.0990193766245467.\n",
      "[I 2025-06-01 12:18:17,770] Trial 148 finished with value: 0.09901516710105149 and parameters: {'alpha': 74.81416207915824, 'tol': 0.00784533868008282, 'fit_intercept': False, 'positive': False}. Best is trial 139 with value: 0.0990193766245467.\n",
      "[I 2025-06-01 12:18:19,242] Trial 149 finished with value: 0.09901904829499233 and parameters: {'alpha': 97.97645897323271, 'tol': 0.004620675483926856, 'fit_intercept': False, 'positive': False}. Best is trial 139 with value: 0.0990193766245467.\n",
      "[I 2025-06-01 12:18:20,534] Trial 150 finished with value: 0.09901916630975074 and parameters: {'alpha': 98.69433860230825, 'tol': 0.003993103610038803, 'fit_intercept': False, 'positive': False}. Best is trial 139 with value: 0.0990193766245467.\n",
      "[I 2025-06-01 12:18:21,452] Trial 151 finished with value: 0.0990188663944997 and parameters: {'alpha': 96.87157569104019, 'tol': 0.003542641210848557, 'fit_intercept': False, 'positive': False}. Best is trial 139 with value: 0.0990193766245467.\n",
      "[I 2025-06-01 12:18:21,479] Trial 152 finished with value: 0.09901598498244947 and parameters: {'alpha': 79.62456382198175, 'tol': 0.003593691953724567, 'fit_intercept': False, 'positive': False}. Best is trial 139 with value: 0.0990193766245467.\n",
      "[I 2025-06-01 12:18:22,948] Trial 153 finished with value: 0.09901886660107279 and parameters: {'alpha': 96.87282933224924, 'tol': 0.0030987417986205997, 'fit_intercept': False, 'positive': False}. Best is trial 139 with value: 0.0990193766245467.\n",
      "[I 2025-06-01 12:18:24,258] Trial 154 finished with value: 0.09901926369804459 and parameters: {'alpha': 99.28736937953789, 'tol': 0.002593867897304284, 'fit_intercept': False, 'positive': False}. Best is trial 139 with value: 0.0990193766245467.\n",
      "[I 2025-06-01 12:18:25,047] Trial 155 finished with value: 0.09901907650735034 and parameters: {'alpha': 98.14799882939928, 'tol': 0.007513395208350882, 'fit_intercept': False, 'positive': False}. Best is trial 139 with value: 0.0990193766245467.\n",
      "[I 2025-06-01 12:18:25,082] Trial 156 finished with value: 0.09901930083499703 and parameters: {'alpha': 99.51365724390882, 'tol': 0.004574123812211118, 'fit_intercept': False, 'positive': False}. Best is trial 139 with value: 0.0990193766245467.\n",
      "[I 2025-06-01 12:18:27,185] Trial 157 finished with value: 0.0967144709672831 and parameters: {'alpha': 81.76117740143788, 'tol': 0.006579564587293253, 'fit_intercept': False, 'positive': True}. Best is trial 139 with value: 0.0990193766245467.\n",
      "[I 2025-06-01 12:18:27,767] Trial 158 finished with value: 0.09901934187200478 and parameters: {'alpha': 99.76380473243267, 'tol': 0.006807573774834258, 'fit_intercept': False, 'positive': False}. Best is trial 139 with value: 0.0990193766245467.\n",
      "[I 2025-06-01 12:18:28,696] Trial 159 finished with value: 0.0990193584729777 and parameters: {'alpha': 99.86502699419978, 'tol': 0.004908942454151952, 'fit_intercept': False, 'positive': False}. Best is trial 139 with value: 0.0990193766245467.\n",
      "[I 2025-06-01 12:18:29,456] Trial 160 finished with value: 0.08878354748734618 and parameters: {'alpha': 12.38152721375976, 'tol': 0.0043624768617068, 'fit_intercept': True, 'positive': True}. Best is trial 139 with value: 0.0990193766245467.\n",
      "[I 2025-06-01 12:18:30,559] Trial 161 finished with value: 0.09901904334918753 and parameters: {'alpha': 97.94639179715313, 'tol': 0.004526481232149701, 'fit_intercept': False, 'positive': False}. Best is trial 139 with value: 0.0990193766245467.\n",
      "[I 2025-06-01 12:18:31,488] Trial 162 finished with value: 0.0990193099456979 and parameters: {'alpha': 99.5691843016759, 'tol': 0.006770304096122669, 'fit_intercept': False, 'positive': False}. Best is trial 139 with value: 0.0990193766245467.\n",
      "[I 2025-06-01 12:18:32,082] Trial 163 finished with value: 0.09901718082184112 and parameters: {'alpha': 86.72490774353693, 'tol': 0.005307877929746197, 'fit_intercept': False, 'positive': False}. Best is trial 139 with value: 0.0990193766245467.\n",
      "[I 2025-06-01 12:18:33,231] Trial 164 finished with value: 0.09901906599658944 and parameters: {'alpha': 98.08408465551837, 'tol': 0.00502366861219836, 'fit_intercept': False, 'positive': False}. Best is trial 139 with value: 0.0990193766245467.\n",
      "[I 2025-06-01 12:18:34,203] Trial 165 finished with value: 0.0990189374377506 and parameters: {'alpha': 97.30286788836673, 'tol': 0.00496089772030762, 'fit_intercept': False, 'positive': False}. Best is trial 139 with value: 0.0990193766245467.\n",
      "[I 2025-06-01 12:18:35,464] Trial 166 finished with value: 0.09900296348665691 and parameters: {'alpha': 7.074148217005295, 'tol': 0.006586974436992834, 'fit_intercept': False, 'positive': False}. Best is trial 139 with value: 0.0990193766245467.\n",
      "[I 2025-06-01 12:18:36,017] Trial 167 finished with value: 0.09901909707476357 and parameters: {'alpha': 98.27308471462177, 'tol': 0.005614551520413602, 'fit_intercept': False, 'positive': False}. Best is trial 139 with value: 0.0990193766245467.\n",
      "[I 2025-06-01 12:18:37,138] Trial 168 finished with value: 0.09901933762165936 and parameters: {'alpha': 99.73789144179088, 'tol': 0.006245805718276688, 'fit_intercept': False, 'positive': False}. Best is trial 139 with value: 0.0990193766245467.\n",
      "[I 2025-06-01 12:18:37,937] Trial 169 finished with value: 0.09901914755202398 and parameters: {'alpha': 98.58018092046318, 'tol': 0.005914625259556453, 'fit_intercept': False, 'positive': False}. Best is trial 139 with value: 0.0990193766245467.\n",
      "[I 2025-06-01 12:18:39,188] Trial 170 finished with value: 0.09901926654471825 and parameters: {'alpha': 99.30471221608516, 'tol': 0.006568662477702488, 'fit_intercept': False, 'positive': False}. Best is trial 139 with value: 0.0990193766245467.\n",
      "[I 2025-06-01 12:18:39,767] Trial 171 finished with value: 0.09139944898744223 and parameters: {'alpha': 95.90402293772006, 'tol': 0.006895494299620785, 'fit_intercept': True, 'positive': False}. Best is trial 139 with value: 0.0990193766245467.\n",
      "[I 2025-06-01 12:18:40,862] Trial 172 finished with value: 0.09139938302812878 and parameters: {'alpha': 98.76190637733092, 'tol': 0.006901484802185961, 'fit_intercept': True, 'positive': False}. Best is trial 139 with value: 0.0990193766245467.\n",
      "[I 2025-06-01 12:18:41,800] Trial 173 finished with value: 0.0990155700123659 and parameters: {'alpha': 77.1793015696512, 'tol': 0.007089208917038302, 'fit_intercept': False, 'positive': False}. Best is trial 139 with value: 0.0990193766245467.\n",
      "[I 2025-06-01 12:18:42,886] Trial 174 finished with value: 0.0990190159308162 and parameters: {'alpha': 97.77973269858585, 'tol': 0.007605475704856302, 'fit_intercept': False, 'positive': False}. Best is trial 139 with value: 0.0990193766245467.\n",
      "[I 2025-06-01 12:18:43,291] Trial 175 finished with value: 0.0990164998504873 and parameters: {'alpha': 82.67177508487634, 'tol': 0.007786922552095756, 'fit_intercept': False, 'positive': False}. Best is trial 139 with value: 0.0990193766245467.\n",
      "[I 2025-06-01 12:18:44,371] Trial 176 finished with value: 0.09901604801956174 and parameters: {'alpha': 79.99685156192214, 'tol': 0.00737105970073724, 'fit_intercept': False, 'positive': False}. Best is trial 139 with value: 0.0990193766245467.\n",
      "[I 2025-06-01 12:18:45,649] Trial 177 finished with value: 0.09901936177244407 and parameters: {'alpha': 99.88514701148019, 'tol': 0.007397914386860315, 'fit_intercept': False, 'positive': False}. Best is trial 139 with value: 0.0990193766245467.\n",
      "[I 2025-06-01 12:18:46,615] Trial 178 finished with value: 0.09901631089815507 and parameters: {'alpha': 81.55175579241153, 'tol': 0.007786151723175988, 'fit_intercept': False, 'positive': False}. Best is trial 139 with value: 0.0990193766245467.\n",
      "[I 2025-06-01 12:18:47,056] Trial 179 finished with value: 0.09901873203047924 and parameters: {'alpha': 96.05668516442176, 'tol': 0.0073499779696489685, 'fit_intercept': False, 'positive': False}. Best is trial 139 with value: 0.0990193766245467.\n",
      "[I 2025-06-01 12:18:48,007] Trial 180 finished with value: 0.09901914952519601 and parameters: {'alpha': 98.59218847091466, 'tol': 0.00777623143195955, 'fit_intercept': False, 'positive': False}. Best is trial 139 with value: 0.0990193766245467.\n",
      "[I 2025-06-01 12:18:49,895] Trial 181 finished with value: 0.09671636174568181 and parameters: {'alpha': 99.71652674102319, 'tol': 0.006306319494557365, 'fit_intercept': False, 'positive': True}. Best is trial 139 with value: 0.0990193766245467.\n",
      "[I 2025-06-01 12:18:50,097] Trial 182 finished with value: 0.09901933948338804 and parameters: {'alpha': 99.7492418025006, 'tol': 0.007832776024391239, 'fit_intercept': False, 'positive': False}. Best is trial 139 with value: 0.0990193766245467.\n",
      "[I 2025-06-01 12:18:51,226] Trial 183 finished with value: 0.09671562673284333 and parameters: {'alpha': 92.73530452107941, 'tol': 0.007571976884729486, 'fit_intercept': False, 'positive': True}. Best is trial 139 with value: 0.0990193766245467.\n",
      "[I 2025-06-01 12:18:51,601] Trial 184 finished with value: 0.09901926159912258 and parameters: {'alpha': 99.27458239091146, 'tol': 0.006642984437304707, 'fit_intercept': False, 'positive': False}. Best is trial 139 with value: 0.0990193766245467.\n",
      "[I 2025-06-01 12:18:53,777] Trial 186 finished with value: 0.09901932258954167 and parameters: {'alpha': 99.6462530031077, 'tol': 0.006440063376124869, 'fit_intercept': False, 'positive': False}. Best is trial 139 with value: 0.0990193766245467.\n",
      "[I 2025-06-01 12:18:53,783] Trial 185 finished with value: 0.09901920886557646 and parameters: {'alpha': 98.95340646702762, 'tol': 0.006798667243150634, 'fit_intercept': False, 'positive': False}. Best is trial 139 with value: 0.0990193766245467.\n",
      "[I 2025-06-01 12:18:54,947] Trial 187 finished with value: 0.09901901343845489 and parameters: {'alpha': 97.76458539722574, 'tol': 0.008386889874879247, 'fit_intercept': False, 'positive': False}. Best is trial 139 with value: 0.0990193766245467.\n",
      "[I 2025-06-01 12:18:55,292] Trial 188 finished with value: 0.09901906258836941 and parameters: {'alpha': 98.06336124400737, 'tol': 0.007186430983885684, 'fit_intercept': False, 'positive': False}. Best is trial 139 with value: 0.0990193766245467.\n",
      "[I 2025-06-01 12:18:57,349] Trial 190 finished with value: 0.09901933828320446 and parameters: {'alpha': 99.74192464571769, 'tol': 0.007782960858676064, 'fit_intercept': False, 'positive': False}. Best is trial 139 with value: 0.0990193766245467.\n",
      "[I 2025-06-01 12:18:57,544] Trial 189 finished with value: 0.09901932686142771 and parameters: {'alpha': 99.67229380739946, 'tol': 0.008620675976193431, 'fit_intercept': False, 'positive': False}. Best is trial 139 with value: 0.0990193766245467.\n",
      "[I 2025-06-01 12:18:58,828] Trial 191 finished with value: 0.09901933961060705 and parameters: {'alpha': 99.75001742379266, 'tol': 0.0060084487305760515, 'fit_intercept': False, 'positive': False}. Best is trial 139 with value: 0.0990193766245467.\n",
      "[I 2025-06-01 12:18:59,041] Trial 192 finished with value: 0.09901928686814039 and parameters: {'alpha': 99.42854290970061, 'tol': 0.005995325145176519, 'fit_intercept': False, 'positive': False}. Best is trial 139 with value: 0.0990193766245467.\n",
      "[I 2025-06-01 12:19:01,037] Trial 193 finished with value: 0.0990193279554227 and parameters: {'alpha': 99.67896281835584, 'tol': 0.005309727627745831, 'fit_intercept': False, 'positive': False}. Best is trial 139 with value: 0.0990193766245467.\n",
      "[I 2025-06-01 12:19:01,253] Trial 194 finished with value: 0.09901723696192902 and parameters: {'alpha': 87.06022390464705, 'tol': 0.00867362536704978, 'fit_intercept': False, 'positive': False}. Best is trial 139 with value: 0.0990193766245467.\n",
      "[I 2025-06-01 12:19:02,542] Trial 195 finished with value: 0.0990173749291756 and parameters: {'alpha': 87.88504359091627, 'tol': 0.008926528363195086, 'fit_intercept': False, 'positive': False}. Best is trial 139 with value: 0.0990193766245467.\n",
      "[I 2025-06-01 12:19:02,594] Trial 196 finished with value: 0.09901936760466125 and parameters: {'alpha': 99.92071322794509, 'tol': 0.00905231927000901, 'fit_intercept': False, 'positive': False}. Best is trial 139 with value: 0.0990193766245467.\n",
      "[I 2025-06-01 12:19:04,683] Trial 197 finished with value: 0.09901920730214125 and parameters: {'alpha': 98.94388681492947, 'tol': 0.009423177480715146, 'fit_intercept': False, 'positive': False}. Best is trial 139 with value: 0.0990193766245467.\n",
      "[I 2025-06-01 12:19:05,844] Trial 198 finished with value: 0.096705938632959 and parameters: {'alpha': 0.8757307623662314, 'tol': 0.007800219628541164, 'fit_intercept': False, 'positive': True}. Best is trial 139 with value: 0.0990193766245467.\n",
      "[I 2025-06-01 12:19:06,071] Trial 199 finished with value: 0.09901926616546784 and parameters: {'alpha': 99.3024016745843, 'tol': 0.008981544167412344, 'fit_intercept': False, 'positive': False}. Best is trial 139 with value: 0.0990193766245467.\n",
      "[I 2025-06-01 12:19:06,300] Trial 200 finished with value: 0.09901936069816487 and parameters: {'alpha': 99.8785960275821, 'tol': 0.009216223142762256, 'fit_intercept': False, 'positive': False}. Best is trial 139 with value: 0.0990193766245467.\n",
      "[I 2025-06-01 12:19:08,646] Trial 201 finished with value: 0.0990189510763905 and parameters: {'alpha': 97.38569991468131, 'tol': 0.008489893822512494, 'fit_intercept': False, 'positive': False}. Best is trial 139 with value: 0.0990193766245467.\n",
      "[I 2025-06-01 12:19:09,588] Trial 202 finished with value: 0.09901910978211821 and parameters: {'alpha': 98.35038018539476, 'tol': 0.008922238047385239, 'fit_intercept': False, 'positive': False}. Best is trial 139 with value: 0.0990193766245467.\n",
      "[I 2025-06-01 12:19:09,805] Trial 203 finished with value: 0.09901930560135686 and parameters: {'alpha': 99.54270619820798, 'tol': 0.008565929884444021, 'fit_intercept': False, 'positive': False}. Best is trial 139 with value: 0.0990193766245467.\n",
      "[I 2025-06-01 12:19:10,011] Trial 204 finished with value: 0.09901892145190015 and parameters: {'alpha': 97.2057944240646, 'tol': 0.00889792764503912, 'fit_intercept': False, 'positive': False}. Best is trial 139 with value: 0.0990193766245467.\n",
      "[I 2025-06-01 12:19:12,234] Trial 205 finished with value: 0.09901868750675016 and parameters: {'alpha': 95.78689167877423, 'tol': 0.009099648642077622, 'fit_intercept': False, 'positive': False}. Best is trial 139 with value: 0.0990193766245467.\n",
      "[I 2025-06-01 12:19:13,170] Trial 206 finished with value: 0.09901840946738912 and parameters: {'alpha': 94.10472539708041, 'tol': 0.009827954559669035, 'fit_intercept': False, 'positive': False}. Best is trial 139 with value: 0.0990193766245467.\n",
      "[I 2025-06-01 12:19:13,761] Trial 208 finished with value: 0.0990188857914436 and parameters: {'alpha': 96.98930192840865, 'tol': 0.009768633342727406, 'fit_intercept': False, 'positive': False}. Best is trial 139 with value: 0.0990193766245467.\n",
      "[I 2025-06-01 12:19:13,983] Trial 207 finished with value: 0.09671186338888593 and parameters: {'alpha': 57.01737594312202, 'tol': 0.0038976045950214833, 'fit_intercept': False, 'positive': True}. Best is trial 139 with value: 0.0990193766245467.\n",
      "[I 2025-06-01 12:19:15,821] Trial 209 finished with value: 0.09901589561040973 and parameters: {'alpha': 79.09712368888432, 'tol': 0.005662933480024048, 'fit_intercept': False, 'positive': False}. Best is trial 139 with value: 0.0990193766245467.\n",
      "[I 2025-06-01 12:19:16,789] Trial 210 finished with value: 0.09901931419755598 and parameters: {'alpha': 99.59509982080098, 'tol': 0.007878305038374663, 'fit_intercept': False, 'positive': False}. Best is trial 139 with value: 0.0990193766245467.\n",
      "[I 2025-06-01 12:19:17,370] Trial 211 finished with value: 0.09901600510626107 and parameters: {'alpha': 79.74338807155678, 'tol': 0.006398333865848527, 'fit_intercept': False, 'positive': False}. Best is trial 139 with value: 0.0990193766245467.\n",
      "[I 2025-06-01 12:19:17,949] Trial 212 finished with value: 0.09334553304734247 and parameters: {'alpha': 71.41734927713222, 'tol': 0.009306467444779866, 'fit_intercept': False, 'positive': True}. Best is trial 139 with value: 0.0990193766245467.\n",
      "[I 2025-06-01 12:19:19,599] Trial 213 finished with value: 0.09900174514650062 and parameters: {'alpha': 0.6915631428942106, 'tol': 0.000633389654829189, 'fit_intercept': False, 'positive': False}. Best is trial 139 with value: 0.0990193766245467.\n",
      "[I 2025-06-01 12:19:20,208] Trial 214 finished with value: 0.09901905342503897 and parameters: {'alpha': 98.00764774324067, 'tol': 0.007565655187761623, 'fit_intercept': False, 'positive': False}. Best is trial 139 with value: 0.0990193766245467.\n",
      "[I 2025-06-01 12:19:21,121] Trial 215 finished with value: 0.09901925097440652 and parameters: {'alpha': 99.20985883069096, 'tol': 0.007918902735038844, 'fit_intercept': False, 'positive': False}. Best is trial 139 with value: 0.0990193766245467.\n",
      "[I 2025-06-01 12:19:22,416] Trial 216 finished with value: 0.08878969003420205 and parameters: {'alpha': 88.7311269934102, 'tol': 0.004016856839452555, 'fit_intercept': True, 'positive': True}. Best is trial 139 with value: 0.0990193766245467.\n",
      "[I 2025-06-01 12:19:22,995] Trial 217 finished with value: 0.09901925545378143 and parameters: {'alpha': 99.23714543436974, 'tol': 0.0077854785924583916, 'fit_intercept': False, 'positive': False}. Best is trial 139 with value: 0.0990193766245467.\n",
      "[I 2025-06-01 12:19:24,070] Trial 218 finished with value: 0.09901935724890135 and parameters: {'alpha': 99.85756278924383, 'tol': 0.00605955804433751, 'fit_intercept': False, 'positive': False}. Best is trial 139 with value: 0.0990193766245467.\n",
      "[I 2025-06-01 12:19:24,847] Trial 219 finished with value: 0.0913993756623321 and parameters: {'alpha': 99.07835636972047, 'tol': 0.0048717904924179215, 'fit_intercept': True, 'positive': False}. Best is trial 139 with value: 0.0990193766245467.\n",
      "[I 2025-06-01 12:19:26,141] Trial 220 finished with value: 0.09901934199448284 and parameters: {'alpha': 99.76455146652552, 'tol': 0.008076252433542846, 'fit_intercept': False, 'positive': False}. Best is trial 139 with value: 0.0990193766245467.\n",
      "[I 2025-06-01 12:19:26,718] Trial 221 finished with value: 0.09901895529100756 and parameters: {'alpha': 97.41129891335035, 'tol': 0.006266897358683712, 'fit_intercept': False, 'positive': False}. Best is trial 139 with value: 0.0990193766245467.\n",
      "[I 2025-06-01 12:19:27,467] Trial 222 finished with value: 0.09901876459173149 and parameters: {'alpha': 96.25406515585077, 'tol': 0.005463594775124968, 'fit_intercept': False, 'positive': False}. Best is trial 139 with value: 0.0990193766245467.\n",
      "[I 2025-06-01 12:19:28,961] Trial 223 finished with value: 0.09901708800406316 and parameters: {'alpha': 86.17091418893212, 'tol': 0.005350943316807801, 'fit_intercept': False, 'positive': False}. Best is trial 139 with value: 0.0990193766245467.\n",
      "[I 2025-06-01 12:19:30,067] Trial 224 finished with value: 0.09901665513638579 and parameters: {'alpha': 83.59373372395923, 'tol': 0.0051270940175242325, 'fit_intercept': False, 'positive': False}. Best is trial 139 with value: 0.0990193766245467.\n",
      "[I 2025-06-01 12:19:30,829] Trial 225 finished with value: 0.09901814867858713 and parameters: {'alpha': 92.53102362299973, 'tol': 0.005294716463758382, 'fit_intercept': False, 'positive': False}. Best is trial 139 with value: 0.0990193766245467.\n",
      "[I 2025-06-01 12:19:32,462] Trial 226 finished with value: 0.0887865630163344 and parameters: {'alpha': 49.822704477850095, 'tol': 0.005572391171959132, 'fit_intercept': True, 'positive': True}. Best is trial 139 with value: 0.0990193766245467.\n",
      "[I 2025-06-01 12:19:32,680] Trial 227 finished with value: 0.09901918122211198 and parameters: {'alpha': 98.78510863760778, 'tol': 0.007003082447342457, 'fit_intercept': False, 'positive': False}. Best is trial 139 with value: 0.0990193766245467.\n",
      "[I 2025-06-01 12:19:33,786] Trial 228 finished with value: 0.09140087038762108 and parameters: {'alpha': 15.565424362450273, 'tol': 0.008939785954143607, 'fit_intercept': True, 'positive': False}. Best is trial 139 with value: 0.0990193766245467.\n",
      "[I 2025-06-01 12:19:34,708] Trial 229 finished with value: 0.0990191879742213 and parameters: {'alpha': 98.82621237838616, 'tol': 0.008153069782019158, 'fit_intercept': False, 'positive': False}. Best is trial 139 with value: 0.0990193766245467.\n",
      "[I 2025-06-01 12:19:36,024] Trial 230 finished with value: 0.09901931262994218 and parameters: {'alpha': 99.58554492568904, 'tol': 0.007515659986248938, 'fit_intercept': False, 'positive': False}. Best is trial 139 with value: 0.0990193766245467.\n",
      "[I 2025-06-01 12:19:36,275] Trial 231 finished with value: 0.09901936838287985 and parameters: {'alpha': 99.92545913899933, 'tol': 0.006485480624987262, 'fit_intercept': False, 'positive': False}. Best is trial 139 with value: 0.0990193766245467.\n",
      "[I 2025-06-01 12:19:37,251] Trial 232 finished with value: 0.09900938960707702 and parameters: {'alpha': 41.84046137922122, 'tol': 0.005805325206912744, 'fit_intercept': False, 'positive': False}. Best is trial 139 with value: 0.0990193766245467.\n",
      "[I 2025-06-01 12:19:38,515] Trial 233 finished with value: 0.0990193023160872 and parameters: {'alpha': 99.52268371936378, 'tol': 0.006648505525724619, 'fit_intercept': False, 'positive': False}. Best is trial 139 with value: 0.0990193766245467.\n",
      "[I 2025-06-01 12:19:40,138] Trial 235 finished with value: 0.09901912524849735 and parameters: {'alpha': 98.44447096090992, 'tol': 0.0063852817335637415, 'fit_intercept': False, 'positive': False}. Best is trial 139 with value: 0.0990193766245467.\n",
      "[I 2025-06-01 12:19:40,161] Trial 234 finished with value: 0.09901915514471153 and parameters: {'alpha': 98.62638676065463, 'tol': 0.008004120423015345, 'fit_intercept': False, 'positive': False}. Best is trial 139 with value: 0.0990193766245467.\n",
      "[I 2025-06-01 12:19:40,921] Trial 236 finished with value: 0.0990191187608841 and parameters: {'alpha': 98.40500139843888, 'tol': 0.005098535709219174, 'fit_intercept': False, 'positive': False}. Best is trial 139 with value: 0.0990193766245467.\n",
      "[I 2025-06-01 12:19:42,207] Trial 237 finished with value: 0.09901883429918888 and parameters: {'alpha': 96.67682765107524, 'tol': 0.0050100504181820535, 'fit_intercept': False, 'positive': False}. Best is trial 139 with value: 0.0990193766245467.\n",
      "[I 2025-06-01 12:19:43,846] Trial 238 finished with value: 0.09901899288481925 and parameters: {'alpha': 97.6396848609206, 'tol': 0.006209334360819308, 'fit_intercept': False, 'positive': False}. Best is trial 139 with value: 0.0990193766245467.\n",
      "[I 2025-06-01 12:19:43,852] Trial 239 finished with value: 0.09901934743442495 and parameters: {'alpha': 99.79771903674224, 'tol': 0.005903181368064289, 'fit_intercept': False, 'positive': False}. Best is trial 139 with value: 0.0990193766245467.\n",
      "[I 2025-06-01 12:19:44,632] Trial 240 finished with value: 0.09901489984768534 and parameters: {'alpha': 73.25024285424082, 'tol': 0.009948611320134413, 'fit_intercept': False, 'positive': False}. Best is trial 139 with value: 0.0990193766245467.\n",
      "[I 2025-06-01 12:19:45,927] Trial 241 finished with value: 0.09901931082843372 and parameters: {'alpha': 99.5745645800375, 'tol': 0.005962530098423006, 'fit_intercept': False, 'positive': False}. Best is trial 139 with value: 0.0990193766245467.\n",
      "[I 2025-06-01 12:19:47,578] Trial 243 finished with value: 0.09901852642647042 and parameters: {'alpha': 94.81178896150013, 'tol': 0.005775644019327051, 'fit_intercept': False, 'positive': False}. Best is trial 139 with value: 0.0990193766245467.\n",
      "[I 2025-06-01 12:19:47,597] Trial 242 finished with value: 0.09901460123885124 and parameters: {'alpha': 71.50742186619182, 'tol': 0.009269015065652825, 'fit_intercept': False, 'positive': False}. Best is trial 139 with value: 0.0990193766245467.\n",
      "[I 2025-06-01 12:19:48,369] Trial 244 finished with value: 0.09901936546970184 and parameters: {'alpha': 99.90769351431811, 'tol': 0.006727484910608369, 'fit_intercept': False, 'positive': False}. Best is trial 139 with value: 0.0990193766245467.\n",
      "[I 2025-06-01 12:19:49,350] Trial 245 finished with value: 0.09901935825913818 and parameters: {'alpha': 99.86372303151079, 'tol': 0.006942425984052768, 'fit_intercept': False, 'positive': False}. Best is trial 139 with value: 0.0990193766245467.\n",
      "[I 2025-06-01 12:19:51,327] Trial 246 finished with value: 0.09901920202031907 and parameters: {'alpha': 98.91172722696582, 'tol': 0.005661028999878708, 'fit_intercept': False, 'positive': False}. Best is trial 139 with value: 0.0990193766245467.\n",
      "[I 2025-06-01 12:19:51,328] Trial 247 finished with value: 0.09901647803100273 and parameters: {'alpha': 82.54233752289632, 'tol': 0.007245352361593273, 'fit_intercept': False, 'positive': False}. Best is trial 139 with value: 0.0990193766245467.\n",
      "[I 2025-06-01 12:19:51,725] Trial 248 finished with value: 0.09901909792507284 and parameters: {'alpha': 98.27825662260409, 'tol': 0.005120295162193283, 'fit_intercept': False, 'positive': False}. Best is trial 139 with value: 0.0990193766245467.\n",
      "[I 2025-06-01 12:19:52,152] Trial 249 finished with value: 0.09901591351509358 and parameters: {'alpha': 79.20275493858365, 'tol': 0.007346761521366432, 'fit_intercept': False, 'positive': False}. Best is trial 139 with value: 0.0990193766245467.\n"
     ]
    }
   ],
   "source": [
    "def objective(trial):    \n",
    "    params = {\n",
    "        \"random_state\": CFG.seed,\n",
    "        \"alpha\": trial.suggest_float(\"alpha\", 0, 100),\n",
    "        \"tol\": trial.suggest_float(\"tol\", 1e-6, 1e-2),\n",
    "        \"fit_intercept\": trial.suggest_categorical(\"fit_intercept\", [True, False]),\n",
    "        \"positive\": trial.suggest_categorical(\"positive\", [True, False])\n",
    "    }\n",
    "\n",
    "    trainer = Trainer(\n",
    "        Ridge(**params),\n",
    "        cv=KFold(n_splits=5, shuffle=False),\n",
    "        metric=pearsonr,\n",
    "        task=\"regression\",\n",
    "        verbose=False\n",
    "    )\n",
    "    trainer.fit(X, y)\n",
    "    \n",
    "    return pearsonr(trainer.oof_preds, y)\n",
    "\n",
    "if CFG.run_optuna:\n",
    "    sampler = optuna.samplers.TPESampler(seed=CFG.seed, multivariate=True)\n",
    "    study = optuna.create_study(direction=\"maximize\", sampler=sampler)\n",
    "    study.optimize(objective, n_trials=CFG.n_optuna_trials, n_jobs=-1, catch=(ValueError,))\n",
    "    best_params = study.best_params\n",
    "\n",
    "    ridge_params = {\n",
    "        \"random_state\": CFG.seed,\n",
    "        \"alpha\": best_params[\"alpha\"],\n",
    "        \"tol\": best_params[\"tol\"],\n",
    "        \"fit_intercept\": best_params[\"fit_intercept\"],\n",
    "        \"positive\": best_params[\"positive\"]\n",
    "    }\n",
    "else:\n",
    "    ridge_params = {\n",
    "        \"random_state\": CFG.seed\n",
    "    }"
   ]
  },
  {
   "cell_type": "code",
   "execution_count": 19,
   "id": "3272963a",
   "metadata": {
    "execution": {
     "iopub.execute_input": "2025-06-01T12:19:52.198503Z",
     "iopub.status.busy": "2025-06-01T12:19:52.198137Z",
     "iopub.status.idle": "2025-06-01T12:19:53.331168Z",
     "shell.execute_reply": "2025-06-01T12:19:53.330128Z"
    },
    "papermill": {
     "duration": 1.154489,
     "end_time": "2025-06-01T12:19:53.332709",
     "exception": false,
     "start_time": "2025-06-01T12:19:52.178220",
     "status": "completed"
    },
    "tags": []
   },
   "outputs": [
    {
     "name": "stdout",
     "output_type": "stream",
     "text": [
      "Training Ridge\n",
      "\n",
      "--- Fold 0 - pearsonr: 0.210033 - Time: 0.06 s\n",
      "--- Fold 1 - pearsonr: 0.114943 - Time: 0.06 s\n",
      "--- Fold 2 - pearsonr: 0.061399 - Time: 0.06 s\n",
      "--- Fold 3 - pearsonr: 0.154639 - Time: 0.06 s\n",
      "--- Fold 4 - pearsonr: 0.076348 - Time: 0.06 s\n",
      "\n",
      "------ Overall pearsonr: 0.099019 - Mean pearsonr: 0.123472 ± 0.054057 - Time: 1.07 s\n"
     ]
    }
   ],
   "source": [
    "ridge_trainer = Trainer(\n",
    "    Ridge(**ridge_params),\n",
    "    cv=KFold(n_splits=5, shuffle=False),\n",
    "    metric=pearsonr,\n",
    "    task=\"regression\",\n",
    "    metric_precision=6\n",
    ")\n",
    "\n",
    "ridge_trainer.fit(X, y)\n",
    "\n",
    "fold_scores[\"Ridge (ensemble)\"] = ridge_trainer.fold_scores\n",
    "overall_scores[\"Ridge (ensemble)\"] = [pearsonr(ridge_trainer.oof_preds, y)]\n",
    "ridge_test_preds = ridge_trainer.predict(X_test)"
   ]
  },
  {
   "cell_type": "code",
   "execution_count": 20,
   "id": "b50d59a3",
   "metadata": {
    "execution": {
     "iopub.execute_input": "2025-06-01T12:19:53.374821Z",
     "iopub.status.busy": "2025-06-01T12:19:53.374445Z",
     "iopub.status.idle": "2025-06-01T12:19:53.674277Z",
     "shell.execute_reply": "2025-06-01T12:19:53.673086Z"
    },
    "papermill": {
     "duration": 0.321706,
     "end_time": "2025-06-01T12:19:53.675848",
     "exception": false,
     "start_time": "2025-06-01T12:19:53.354142",
     "status": "completed"
    },
    "tags": []
   },
   "outputs": [
    {
     "data": {
      "image/png": "[encoded data removed]",
      "text/plain": [
       "<Figure size 1000x150 with 1 Axes>"
      ]
     },
     "metadata": {},
     "output_type": "display_data"
    }
   ],
   "source": [
    "ridge_coeffs = np.zeros((1, X.shape[1]))\n",
    "for m in ridge_trainer.estimators:\n",
    "    ridge_coeffs += m.coef_\n",
    "ridge_coeffs = ridge_coeffs / len(ridge_trainer.estimators)\n",
    "\n",
    "plot_weights(ridge_coeffs, \"Ridge Coefficients\")"
   ]
  },
  {
   "cell_type": "markdown",
   "id": "5d67540d",
   "metadata": {
    "papermill": {
     "duration": 0.018763,
     "end_time": "2025-06-01T12:19:53.714292",
     "exception": false,
     "start_time": "2025-06-01T12:19:53.695529",
     "status": "completed"
    },
    "tags": []
   },
   "source": [
    "# Submission"
   ]
  },
  {
   "cell_type": "code",
   "execution_count": 21,
   "id": "02f36b80",
   "metadata": {
    "execution": {
     "iopub.execute_input": "2025-06-01T12:19:53.754523Z",
     "iopub.status.busy": "2025-06-01T12:19:53.754175Z",
     "iopub.status.idle": "2025-06-01T12:19:55.484592Z",
     "shell.execute_reply": "2025-06-01T12:19:55.483657Z"
    },
    "papermill": {
     "duration": 1.752771,
     "end_time": "2025-06-01T12:19:55.486247",
     "exception": false,
     "start_time": "2025-06-01T12:19:53.733476",
     "status": "completed"
    },
    "tags": []
   },
   "outputs": [
    {
     "data": {
      "text/html": [
       "<div>\n",
       "<style scoped>\n",
       "    .dataframe tbody tr th:only-of-type {\n",
       "        vertical-align: middle;\n",
       "    }\n",
       "\n",
       "    .dataframe tbody tr th {\n",
       "        vertical-align: top;\n",
       "    }\n",
       "\n",
       "    .dataframe thead th {\n",
       "        text-align: right;\n",
       "    }\n",
       "</style>\n",
       "<table border=\"1\" class=\"dataframe\">\n",
       "  <thead>\n",
       "    <tr style=\"text-align: right;\">\n",
       "      <th></th>\n",
       "      <th>ID</th>\n",
       "      <th>prediction</th>\n",
       "    </tr>\n",
       "  </thead>\n",
       "  <tbody>\n",
       "    <tr>\n",
       "      <th>0</th>\n",
       "      <td>1</td>\n",
       "      <td>0.055167</td>\n",
       "    </tr>\n",
       "    <tr>\n",
       "      <th>1</th>\n",
       "      <td>2</td>\n",
       "      <td>0.010930</td>\n",
       "    </tr>\n",
       "    <tr>\n",
       "      <th>2</th>\n",
       "      <td>3</td>\n",
       "      <td>-0.007627</td>\n",
       "    </tr>\n",
       "    <tr>\n",
       "      <th>3</th>\n",
       "      <td>4</td>\n",
       "      <td>-0.051338</td>\n",
       "    </tr>\n",
       "    <tr>\n",
       "      <th>4</th>\n",
       "      <td>5</td>\n",
       "      <td>0.150929</td>\n",
       "    </tr>\n",
       "  </tbody>\n",
       "</table>\n",
       "</div>"
      ],
      "text/plain": [
       "   ID  prediction\n",
       "0   1    0.055167\n",
       "1   2    0.010930\n",
       "2   3   -0.007627\n",
       "3   4   -0.051338\n",
       "4   5    0.150929"
      ]
     },
     "execution_count": 21,
     "metadata": {},
     "output_type": "execute_result"
    }
   ],
   "source": [
    "sub = pd.read_csv(CFG.sample_sub_path)\n",
    "sub[\"prediction\"] = ridge_test_preds\n",
    "sub.to_csv(f\"sub_ridge_{overall_scores['Ridge (ensemble)'][0]:.6f}.csv\", index=False)\n",
    "sub.head()"
   ]
  },
  {
   "cell_type": "markdown",
   "id": "ff6d40a7",
   "metadata": {
    "papermill": {
     "duration": 0.019178,
     "end_time": "2025-06-01T12:19:55.525452",
     "exception": false,
     "start_time": "2025-06-01T12:19:55.506274",
     "status": "completed"
    },
    "tags": []
   },
   "source": [
    "# Results"
   ]
  },
  {
   "cell_type": "code",
   "execution_count": 22,
   "id": "6e677ba3",
   "metadata": {
    "execution": {
     "iopub.execute_input": "2025-06-01T12:19:55.566179Z",
     "iopub.status.busy": "2025-06-01T12:19:55.565853Z",
     "iopub.status.idle": "2025-06-01T12:19:55.890844Z",
     "shell.execute_reply": "2025-06-01T12:19:55.889918Z"
    },
    "papermill": {
     "duration": 0.347554,
     "end_time": "2025-06-01T12:19:55.892463",
     "exception": false,
     "start_time": "2025-06-01T12:19:55.544909",
     "status": "completed"
    },
    "tags": []
   },
   "outputs": [
    {
     "data": {
      "image/png": "[encoded data removed]",
      "text/plain": [
       "<Figure size 1500x200 with 2 Axes>"
      ]
     },
     "metadata": {},
     "output_type": "display_data"
    }
   ],
   "source": [
    "fold_scores = pd.DataFrame(fold_scores)\n",
    "overall_scores = pd.DataFrame(overall_scores).transpose().sort_values(by=0, ascending=False)\n",
    "order = overall_scores.index.tolist()\n",
    "\n",
    "min_score = overall_scores.values.flatten().min()\n",
    "max_score = overall_scores.values.flatten().max()\n",
    "padding = (max_score - min_score) * 0.5\n",
    "lower_limit = min_score - padding\n",
    "upper_limit = max_score + padding\n",
    "\n",
    "fig, axs = plt.subplots(1, 2, figsize=(15, fold_scores.shape[1] * 0.5))\n",
    "\n",
    "boxplot = sns.boxplot(data=fold_scores, order=order, ax=axs[0], orient=\"h\", color=\"grey\")\n",
    "axs[0].set_title(f\"Fold Score\")\n",
    "axs[0].set_xlabel(\"\")\n",
    "axs[0].set_ylabel(\"\")\n",
    "\n",
    "barplot = sns.barplot(x=overall_scores.values.flatten(), y=overall_scores.index, ax=axs[1], color=\"grey\")\n",
    "axs[1].set_title(f\"Overall Score\")\n",
    "axs[1].set_xlabel(\"\")\n",
    "axs[1].set_xlim(left=lower_limit, right=upper_limit)\n",
    "axs[1].set_ylabel(\"\")\n",
    "\n",
    "for i, (score, model) in enumerate(zip(overall_scores.values.flatten(), overall_scores.index)):\n",
    "    color = \"cyan\" if \"ensemble\" in model.lower() else \"grey\"\n",
    "    barplot.patches[i].set_facecolor(color)\n",
    "    boxplot.patches[i].set_facecolor(color)\n",
    "    barplot.text(score, i, round(score, 6), va=\"center\")\n",
    "\n",
    "plt.tight_layout()\n",
    "plt.show()"
   ]
  }
 ],
 "metadata": {
  "kaggle": {
   "accelerator": "none",
   "dataSources": [
    {
     "databundleVersionId": 11418275,
     "sourceId": 96164,
     "sourceType": "competition"
    }
   ],
   "dockerImageVersionId": 31040,
   "isGpuEnabled": false,
   "isInternetEnabled": true,
   "language": "python",
   "sourceType": "notebook"
  },
  "kernelspec": {
   "display_name": "Python 3",
   "language": "python",
   "name": "python3"
  },
  "language_info": {
   "codemirror_mode": {
    "name": "ipython",
    "version": 3
   },
   "file_extension": ".py",
   "mimetype": "text/x-python",
   "name": "python",
   "nbconvert_exporter": "python",
   "pygments_lexer": "ipython3",
   "version": "3.11.11"
  },
  "papermill": {
   "default_parameters": {},
   "duration": 8780.550414,
   "end_time": "2025-06-01T12:19:59.038332",
   "environment_variables": {},
   "exception": null,
   "input_path": "__notebook__.ipynb",
   "output_path": "__notebook__.ipynb",
   "parameters": {},
   "start_time": "2025-06-01T09:53:38.487918",
   "version": "2.6.0"
  }
 },
 "nbformat": 4,
 "nbformat_minor": 5
}
