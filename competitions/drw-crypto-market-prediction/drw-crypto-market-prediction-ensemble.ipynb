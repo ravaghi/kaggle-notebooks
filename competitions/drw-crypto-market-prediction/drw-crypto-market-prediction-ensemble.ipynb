{
 "cells": [
  {
   "cell_type": "code",
   "execution_count": 1,
   "id": "8715c599",
   "metadata": {
    "_kg_hide-output": true,
    "execution": {
     "iopub.execute_input": "2025-06-07T07:36:17.596063Z",
     "iopub.status.busy": "2025-06-07T07:36:17.595662Z",
     "iopub.status.idle": "2025-06-07T07:36:27.732221Z",
     "shell.execute_reply": "2025-06-07T07:36:27.731103Z"
    },
    "papermill": {
     "duration": 10.145051,
     "end_time": "2025-06-07T07:36:27.734233",
     "exception": false,
     "start_time": "2025-06-07T07:36:17.589182",
     "status": "completed"
    },
    "scrolled": true,
    "tags": []
   },
   "outputs": [
    {
     "name": "stdout",
     "output_type": "stream",
     "text": [
      "Collecting koolbox\r\n",
      "  Downloading koolbox-0.1.3-py3-none-any.whl.metadata (3.4 kB)\r\n",
      "Collecting scikit-learn==1.5.2\r\n",
      "  Downloading scikit_learn-1.5.2-cp311-cp311-manylinux_2_17_x86_64.manylinux2014_x86_64.whl.metadata (13 kB)\r\n",
      "Requirement already satisfied: numpy>=1.19.5 in /usr/local/lib/python3.11/dist-packages (from scikit-learn==1.5.2) (1.26.4)\r\n",
      "Requirement already satisfied: scipy>=1.6.0 in /usr/local/lib/python3.11/dist-packages (from scikit-learn==1.5.2) (1.15.2)\r\n",
      "Requirement already satisfied: joblib>=1.2.0 in /usr/local/lib/python3.11/dist-packages (from scikit-learn==1.5.2) (1.5.0)\r\n",
      "Requirement already satisfied: threadpoolctl>=3.1.0 in /usr/local/lib/python3.11/dist-packages (from scikit-learn==1.5.2) (3.6.0)\r\n",
      "Requirement already satisfied: optuna>=4.2.1 in /usr/local/lib/python3.11/dist-packages (from koolbox) (4.3.0)\r\n",
      "Requirement already satisfied: pandas>=2.2.3 in /usr/local/lib/python3.11/dist-packages (from koolbox) (2.2.3)\r\n",
      "Requirement already satisfied: mkl_fft in /usr/local/lib/python3.11/dist-packages (from numpy>=1.19.5->scikit-learn==1.5.2) (1.3.8)\r\n",
      "Requirement already satisfied: mkl_random in /usr/local/lib/python3.11/dist-packages (from numpy>=1.19.5->scikit-learn==1.5.2) (1.2.4)\r\n",
      "Requirement already satisfied: mkl_umath in /usr/local/lib/python3.11/dist-packages (from numpy>=1.19.5->scikit-learn==1.5.2) (0.1.1)\r\n",
      "Requirement already satisfied: mkl in /usr/local/lib/python3.11/dist-packages (from numpy>=1.19.5->scikit-learn==1.5.2) (2025.1.0)\r\n",
      "Requirement already satisfied: tbb4py in /usr/local/lib/python3.11/dist-packages (from numpy>=1.19.5->scikit-learn==1.5.2) (2022.1.0)\r\n",
      "Requirement already satisfied: mkl-service in /usr/local/lib/python3.11/dist-packages (from numpy>=1.19.5->scikit-learn==1.5.2) (2.4.1)\r\n",
      "Requirement already satisfied: alembic>=1.5.0 in /usr/local/lib/python3.11/dist-packages (from optuna>=4.2.1->koolbox) (1.15.2)\r\n",
      "Requirement already satisfied: colorlog in /usr/local/lib/python3.11/dist-packages (from optuna>=4.2.1->koolbox) (6.9.0)\r\n",
      "Requirement already satisfied: packaging>=20.0 in /usr/local/lib/python3.11/dist-packages (from optuna>=4.2.1->koolbox) (25.0)\r\n",
      "Requirement already satisfied: sqlalchemy>=1.4.2 in /usr/local/lib/python3.11/dist-packages (from optuna>=4.2.1->koolbox) (2.0.40)\r\n",
      "Requirement already satisfied: tqdm in /usr/local/lib/python3.11/dist-packages (from optuna>=4.2.1->koolbox) (4.67.1)\r\n",
      "Requirement already satisfied: PyYAML in /usr/local/lib/python3.11/dist-packages (from optuna>=4.2.1->koolbox) (6.0.2)\r\n",
      "Requirement already satisfied: python-dateutil>=2.8.2 in /usr/local/lib/python3.11/dist-packages (from pandas>=2.2.3->koolbox) (2.9.0.post0)\r\n",
      "Requirement already satisfied: pytz>=2020.1 in /usr/local/lib/python3.11/dist-packages (from pandas>=2.2.3->koolbox) (2025.2)\r\n",
      "Requirement already satisfied: tzdata>=2022.7 in /usr/local/lib/python3.11/dist-packages (from pandas>=2.2.3->koolbox) (2025.2)\r\n",
      "Requirement already satisfied: Mako in /usr/local/lib/python3.11/dist-packages (from alembic>=1.5.0->optuna>=4.2.1->koolbox) (1.3.10)\r\n",
      "Requirement already satisfied: typing-extensions>=4.12 in /usr/local/lib/python3.11/dist-packages (from alembic>=1.5.0->optuna>=4.2.1->koolbox) (4.13.2)\r\n",
      "Requirement already satisfied: six>=1.5 in /usr/local/lib/python3.11/dist-packages (from python-dateutil>=2.8.2->pandas>=2.2.3->koolbox) (1.17.0)\r\n",
      "Requirement already satisfied: greenlet>=1 in /usr/local/lib/python3.11/dist-packages (from sqlalchemy>=1.4.2->optuna>=4.2.1->koolbox) (3.1.1)\r\n",
      "Requirement already satisfied: intel-openmp<2026,>=2024 in /usr/local/lib/python3.11/dist-packages (from mkl->numpy>=1.19.5->scikit-learn==1.5.2) (2024.2.0)\r\n",
      "Requirement already satisfied: tbb==2022.* in /usr/local/lib/python3.11/dist-packages (from mkl->numpy>=1.19.5->scikit-learn==1.5.2) (2022.1.0)\r\n",
      "Requirement already satisfied: tcmlib==1.* in /usr/local/lib/python3.11/dist-packages (from tbb==2022.*->mkl->numpy>=1.19.5->scikit-learn==1.5.2) (1.3.0)\r\n",
      "Requirement already satisfied: intel-cmplr-lib-rt in /usr/local/lib/python3.11/dist-packages (from mkl_umath->numpy>=1.19.5->scikit-learn==1.5.2) (2024.2.0)\r\n",
      "Requirement already satisfied: intel-cmplr-lib-ur==2024.2.0 in /usr/local/lib/python3.11/dist-packages (from intel-openmp<2026,>=2024->mkl->numpy>=1.19.5->scikit-learn==1.5.2) (2024.2.0)\r\n",
      "Requirement already satisfied: MarkupSafe>=0.9.2 in /usr/local/lib/python3.11/dist-packages (from Mako->alembic>=1.5.0->optuna>=4.2.1->koolbox) (3.0.2)\r\n",
      "Downloading scikit_learn-1.5.2-cp311-cp311-manylinux_2_17_x86_64.manylinux2014_x86_64.whl (13.3 MB)\r\n",
      "\u001b[2K   \u001b[90m━━━━━━━━━━━━━━━━━━━━━━━━━━━━━━━━━━━━━━━━\u001b[0m \u001b[32m13.3/13.3 MB\u001b[0m \u001b[31m74.7 MB/s\u001b[0m eta \u001b[36m0:00:00\u001b[0m\r\n",
      "\u001b[?25hDownloading koolbox-0.1.3-py3-none-any.whl (18 kB)\r\n",
      "Installing collected packages: scikit-learn, koolbox\r\n",
      "  Attempting uninstall: scikit-learn\r\n",
      "    Found existing installation: scikit-learn 1.2.2\r\n",
      "    Uninstalling scikit-learn-1.2.2:\r\n",
      "      Successfully uninstalled scikit-learn-1.2.2\r\n",
      "\u001b[31mERROR: pip's dependency resolver does not currently take into account all the packages that are installed. This behaviour is the source of the following dependency conflicts.\r\n",
      "cesium 0.12.4 requires numpy<3.0,>=2.0, but you have numpy 1.26.4 which is incompatible.\u001b[0m\u001b[31m\r\n",
      "\u001b[0mSuccessfully installed koolbox-0.1.3 scikit-learn-1.5.2\r\n"
     ]
    }
   ],
   "source": [
    "!pip install koolbox scikit-learn==1.5.2"
   ]
  },
  {
   "cell_type": "markdown",
   "id": "44ff001e",
   "metadata": {
    "papermill": {
     "duration": 0.005526,
     "end_time": "2025-06-07T07:36:27.745983",
     "exception": false,
     "start_time": "2025-06-07T07:36:27.740457",
     "status": "completed"
    },
    "tags": []
   },
   "source": [
    "# Imports and configs"
   ]
  },
  {
   "cell_type": "code",
   "execution_count": 2,
   "id": "8c818c14",
   "metadata": {
    "_kg_hide-output": true,
    "execution": {
     "iopub.execute_input": "2025-06-07T07:36:27.758549Z",
     "iopub.status.busy": "2025-06-07T07:36:27.758163Z",
     "iopub.status.idle": "2025-06-07T07:36:37.388460Z",
     "shell.execute_reply": "2025-06-07T07:36:37.387384Z"
    },
    "papermill": {
     "duration": 9.638784,
     "end_time": "2025-06-07T07:36:37.390213",
     "exception": false,
     "start_time": "2025-06-07T07:36:27.751429",
     "status": "completed"
    },
    "tags": []
   },
   "outputs": [],
   "source": [
    "from sklearn.model_selection import KFold\n",
    "from sklearn.linear_model import Ridge\n",
    "from lightgbm import LGBMRegressor\n",
    "from scipy.stats import pearsonr as pr\n",
    "from xgboost import XGBRegressor\n",
    "from sklearn.base import clone\n",
    "from koolbox import Trainer\n",
    "import matplotlib.pyplot as plt\n",
    "import seaborn as sns\n",
    "import pandas as pd\n",
    "import numpy as np\n",
    "import warnings\n",
    "import optuna\n",
    "import joblib\n",
    "import glob\n",
    "import gc\n",
    "\n",
    "warnings.filterwarnings(\"ignore\")"
   ]
  },
  {
   "cell_type": "code",
   "execution_count": 3,
   "id": "bbd2d09c",
   "metadata": {
    "execution": {
     "iopub.execute_input": "2025-06-07T07:36:37.402765Z",
     "iopub.status.busy": "2025-06-07T07:36:37.402206Z",
     "iopub.status.idle": "2025-06-07T07:36:37.407354Z",
     "shell.execute_reply": "2025-06-07T07:36:37.406532Z"
    },
    "papermill": {
     "duration": 0.012989,
     "end_time": "2025-06-07T07:36:37.408816",
     "exception": false,
     "start_time": "2025-06-07T07:36:37.395827",
     "status": "completed"
    },
    "tags": []
   },
   "outputs": [],
   "source": [
    "class CFG:\n",
    "    train_path = \"/kaggle/input/drw-crypto-market-prediction/train.parquet\"\n",
    "    test_path = \"/kaggle/input/drw-crypto-market-prediction/test.parquet\"\n",
    "    sample_sub_path = \"/kaggle/input/drw-crypto-market-prediction/sample_submission.csv\"\n",
    "\n",
    "    target = \"label\"\n",
    "    n_folds = 5\n",
    "    seed = 42\n",
    "\n",
    "    run_optuna = True\n",
    "    n_optuna_trials = 500"
   ]
  },
  {
   "cell_type": "markdown",
   "id": "9f0add61",
   "metadata": {
    "papermill": {
     "duration": 0.005136,
     "end_time": "2025-06-07T07:36:37.419419",
     "exception": false,
     "start_time": "2025-06-07T07:36:37.414283",
     "status": "completed"
    },
    "tags": []
   },
   "source": [
    "# Data loading and preprocessing"
   ]
  },
  {
   "cell_type": "code",
   "execution_count": 4,
   "id": "51ebd47c",
   "metadata": {
    "_kg_hide-input": true,
    "execution": {
     "iopub.execute_input": "2025-06-07T07:36:37.431981Z",
     "iopub.status.busy": "2025-06-07T07:36:37.430973Z",
     "iopub.status.idle": "2025-06-07T07:36:37.441103Z",
     "shell.execute_reply": "2025-06-07T07:36:37.440167Z"
    },
    "papermill": {
     "duration": 0.018005,
     "end_time": "2025-06-07T07:36:37.442718",
     "exception": false,
     "start_time": "2025-06-07T07:36:37.424713",
     "status": "completed"
    },
    "tags": []
   },
   "outputs": [],
   "source": [
    "def reduce_mem_usage(dataframe, dataset):    \n",
    "    print('Reducing memory usage for:', dataset)\n",
    "    initial_mem_usage = dataframe.memory_usage().sum() / 1024**2\n",
    "    \n",
    "    for col in dataframe.columns:\n",
    "        col_type = dataframe[col].dtype\n",
    "\n",
    "        c_min = dataframe[col].min()\n",
    "        c_max = dataframe[col].max()\n",
    "        if str(col_type)[:3] == 'int':\n",
    "            if c_min > np.iinfo(np.int8).min and c_max < np.iinfo(np.int8).max:\n",
    "                dataframe[col] = dataframe[col].astype(np.int8)\n",
    "            elif c_min > np.iinfo(np.int16).min and c_max < np.iinfo(np.int16).max:\n",
    "                dataframe[col] = dataframe[col].astype(np.int16)\n",
    "            elif c_min > np.iinfo(np.int32).min and c_max < np.iinfo(np.int32).max:\n",
    "                dataframe[col] = dataframe[col].astype(np.int32)\n",
    "            elif c_min > np.iinfo(np.int64).min and c_max < np.iinfo(np.int64).max:\n",
    "                dataframe[col] = dataframe[col].astype(np.int64)\n",
    "        else:\n",
    "            if c_min > np.finfo(np.float16).min and c_max < np.finfo(np.float16).max:\n",
    "                dataframe[col] = dataframe[col].astype(np.float16)\n",
    "            elif c_min > np.finfo(np.float32).min and c_max < np.finfo(np.float32).max:\n",
    "                dataframe[col] = dataframe[col].astype(np.float32)\n",
    "            else:\n",
    "                dataframe[col] = dataframe[col].astype(np.float64)\n",
    "\n",
    "    final_mem_usage = dataframe.memory_usage().sum() / 1024**2\n",
    "    print('--- Memory usage before: {:.2f} MB'.format(initial_mem_usage))\n",
    "    print('--- Memory usage after: {:.2f} MB'.format(final_mem_usage))\n",
    "    print('--- Decreased memory usage by {:.1f}%\\n'.format(100 * (initial_mem_usage - final_mem_usage) / initial_mem_usage))\n",
    "\n",
    "    return dataframe"
   ]
  },
  {
   "cell_type": "code",
   "execution_count": 5,
   "id": "1f4411e7",
   "metadata": {
    "execution": {
     "iopub.execute_input": "2025-06-07T07:36:37.455287Z",
     "iopub.status.busy": "2025-06-07T07:36:37.454936Z",
     "iopub.status.idle": "2025-06-07T07:38:13.483164Z",
     "shell.execute_reply": "2025-06-07T07:38:13.481964Z"
    },
    "papermill": {
     "duration": 96.036599,
     "end_time": "2025-06-07T07:38:13.485329",
     "exception": false,
     "start_time": "2025-06-07T07:36:37.448730",
     "status": "completed"
    },
    "tags": []
   },
   "outputs": [
    {
     "name": "stdout",
     "output_type": "stream",
     "text": [
      "Reducing memory usage for: train\n",
      "--- Memory usage before: 3594.93 MB\n",
      "--- Memory usage after: 961.92 MB\n",
      "--- Decreased memory usage by 73.2%\n",
      "\n",
      "Reducing memory usage for: test\n",
      "--- Memory usage before: 3678.76 MB\n",
      "--- Memory usage after: 984.36 MB\n",
      "--- Decreased memory usage by 73.2%\n",
      "\n"
     ]
    }
   ],
   "source": [
    "train = pd.read_parquet(CFG.train_path).reset_index(drop=True)\n",
    "test = pd.read_parquet(CFG.test_path).reset_index(drop=True)\n",
    "\n",
    "train = reduce_mem_usage(train, \"train\")\n",
    "test = reduce_mem_usage(test, \"test\")\n",
    "\n",
    "X = train.drop(CFG.target, axis=1)\n",
    "y = train[CFG.target]\n",
    "X_test = test.drop(CFG.target, axis=1)"
   ]
  },
  {
   "cell_type": "code",
   "execution_count": 6,
   "id": "759847c7",
   "metadata": {
    "execution": {
     "iopub.execute_input": "2025-06-07T07:38:13.500859Z",
     "iopub.status.busy": "2025-06-07T07:38:13.500475Z",
     "iopub.status.idle": "2025-06-07T07:38:13.637713Z",
     "shell.execute_reply": "2025-06-07T07:38:13.636772Z"
    },
    "papermill": {
     "duration": 0.146278,
     "end_time": "2025-06-07T07:38:13.639556",
     "exception": false,
     "start_time": "2025-06-07T07:38:13.493278",
     "status": "completed"
    },
    "tags": []
   },
   "outputs": [],
   "source": [
    "features = [\n",
    "    # https://www.kaggle.com/code/sadettinamilverdil/yat-r-m-tavsiyesi-de-ildir\n",
    "    \"X863\", \"X856\", \"X344\", \"X598\", \"X862\", \"X385\", \"X852\", \"X603\", \"X860\", \"X674\",\n",
    "    \"X415\", \"X345\", \"X137\", \"X855\", \"X174\", \"X302\", \"X178\", \"X532\", \"X168\", \"X612\",\n",
    "    \"bid_qty\", \"ask_qty\", \"buy_qty\", \"sell_qty\", \"volume\"\n",
    "]\n",
    "\n",
    "X = X[features]\n",
    "X_test = X_test[features]"
   ]
  },
  {
   "cell_type": "markdown",
   "id": "70c84a01",
   "metadata": {
    "papermill": {
     "duration": 0.005251,
     "end_time": "2025-06-07T07:38:13.650742",
     "exception": false,
     "start_time": "2025-06-07T07:38:13.645491",
     "status": "completed"
    },
    "tags": []
   },
   "source": [
    "# Training base models"
   ]
  },
  {
   "cell_type": "code",
   "execution_count": 7,
   "id": "d0b6f5dc",
   "metadata": {
    "execution": {
     "iopub.execute_input": "2025-06-07T07:38:13.663521Z",
     "iopub.status.busy": "2025-06-07T07:38:13.662626Z",
     "iopub.status.idle": "2025-06-07T07:38:13.666950Z",
     "shell.execute_reply": "2025-06-07T07:38:13.666269Z"
    },
    "papermill": {
     "duration": 0.012009,
     "end_time": "2025-06-07T07:38:13.668271",
     "exception": false,
     "start_time": "2025-06-07T07:38:13.656262",
     "status": "completed"
    },
    "tags": []
   },
   "outputs": [],
   "source": [
    "def pearsonr(y_true, y_pred):\n",
    "    return pr(y_true, y_pred)[0]"
   ]
  },
  {
   "cell_type": "code",
   "execution_count": 8,
   "id": "28bbb864",
   "metadata": {
    "_kg_hide-input": true,
    "_kg_hide-output": true,
    "execution": {
     "iopub.execute_input": "2025-06-07T07:38:13.680911Z",
     "iopub.status.busy": "2025-06-07T07:38:13.680567Z",
     "iopub.status.idle": "2025-06-07T07:38:13.687608Z",
     "shell.execute_reply": "2025-06-07T07:38:13.686896Z"
    },
    "papermill": {
     "duration": 0.015056,
     "end_time": "2025-06-07T07:38:13.689083",
     "exception": false,
     "start_time": "2025-06-07T07:38:13.674027",
     "status": "completed"
    },
    "tags": []
   },
   "outputs": [],
   "source": [
    "lgbm_params = {\n",
    "    \"boosting_type\": \"gbdt\",\n",
    "    \"colsample_bytree\": 0.5625888953382505,\n",
    "    \"learning_rate\": 0.029312951475451557,\n",
    "    \"min_child_samples\": 63,\n",
    "    \"min_child_weight\": 0.11456572852335424,\n",
    "    \"n_estimators\": 126,\n",
    "    \"n_jobs\": -1,\n",
    "    \"num_leaves\": 37,\n",
    "    \"random_state\": 42,\n",
    "    \"reg_alpha\": 85.2476527854083,\n",
    "    \"reg_lambda\": 99.38305361388907,\n",
    "    \"subsample\": 0.450669817684892,\n",
    "    \"verbose\": -1\n",
    "}\n",
    "\n",
    "lgbm_goss_params = {\n",
    "    \"boosting_type\": \"goss\",\n",
    "    \"colsample_bytree\": 0.34695458228489784,\n",
    "    \"learning_rate\": 0.031023014900595287,\n",
    "    \"min_child_samples\": 30,\n",
    "    \"min_child_weight\": 0.4727729225033618,\n",
    "    \"n_estimators\": 220,\n",
    "    \"n_jobs\": -1,\n",
    "    \"num_leaves\": 58,\n",
    "    \"random_state\": 42,\n",
    "    \"reg_alpha\": 38.665994901468224,\n",
    "    \"reg_lambda\": 92.76991677464294,\n",
    "    \"subsample\": 0.4810891284493255,\n",
    "    \"verbose\": -1\n",
    "}\n",
    "\n",
    "xgb_params = {\n",
    "    \"colsample_bylevel\": 0.4778015829774066,\n",
    "    \"colsample_bynode\": 0.362764358742407,\n",
    "    \"colsample_bytree\": 0.7107423488010493,\n",
    "    \"gamma\": 1.7094857725240398,\n",
    "    \"learning_rate\": 0.02213323588455387,\n",
    "    \"max_depth\": 20,\n",
    "    \"max_leaves\": 12,\n",
    "    \"min_child_weight\": 16,\n",
    "    \"n_estimators\": 1667,\n",
    "    \"n_jobs\": -1,\n",
    "    \"random_state\": 42,\n",
    "    \"reg_alpha\": 39.352415706891264,\n",
    "    \"reg_lambda\": 75.44843704068275,\n",
    "    \"subsample\": 0.06566669853471274,\n",
    "    \"verbosity\": 0\n",
    "}"
   ]
  },
  {
   "cell_type": "code",
   "execution_count": 9,
   "id": "b653c22a",
   "metadata": {
    "execution": {
     "iopub.execute_input": "2025-06-07T07:38:13.702079Z",
     "iopub.status.busy": "2025-06-07T07:38:13.701779Z",
     "iopub.status.idle": "2025-06-07T07:38:13.706369Z",
     "shell.execute_reply": "2025-06-07T07:38:13.705409Z"
    },
    "papermill": {
     "duration": 0.012702,
     "end_time": "2025-06-07T07:38:13.707818",
     "exception": false,
     "start_time": "2025-06-07T07:38:13.695116",
     "status": "completed"
    },
    "tags": []
   },
   "outputs": [],
   "source": [
    "fold_scores = {}\n",
    "overall_scores = {}\n",
    "\n",
    "oof_preds = {}\n",
    "test_preds = {}"
   ]
  },
  {
   "cell_type": "markdown",
   "id": "b1ac8504",
   "metadata": {
    "papermill": {
     "duration": 0.005666,
     "end_time": "2025-06-07T07:38:13.719491",
     "exception": false,
     "start_time": "2025-06-07T07:38:13.713825",
     "status": "completed"
    },
    "tags": []
   },
   "source": [
    "## LightGBM (gbdt)"
   ]
  },
  {
   "cell_type": "code",
   "execution_count": 10,
   "id": "265a902b",
   "metadata": {
    "execution": {
     "iopub.execute_input": "2025-06-07T07:38:13.732331Z",
     "iopub.status.busy": "2025-06-07T07:38:13.731755Z",
     "iopub.status.idle": "2025-06-07T07:38:43.608330Z",
     "shell.execute_reply": "2025-06-07T07:38:43.607338Z"
    },
    "papermill": {
     "duration": 29.885382,
     "end_time": "2025-06-07T07:38:43.610484",
     "exception": false,
     "start_time": "2025-06-07T07:38:13.725102",
     "status": "completed"
    },
    "tags": []
   },
   "outputs": [
    {
     "name": "stdout",
     "output_type": "stream",
     "text": [
      "Training LGBMRegressor\n",
      "\n",
      "--- Fold 0 - pearsonr: 0.119944 - Time: 3.77 s\n",
      "--- Fold 1 - pearsonr: 0.101273 - Time: 3.87 s\n",
      "--- Fold 2 - pearsonr: 0.023888 - Time: 3.84 s\n",
      "--- Fold 3 - pearsonr: 0.159401 - Time: 3.74 s\n",
      "--- Fold 4 - pearsonr: 0.086810 - Time: 3.76 s\n",
      "\n",
      "------ Overall pearsonr: 0.088687 - Mean pearsonr: 0.098263 ± 0.044452 - Time: 19.85 s\n"
     ]
    }
   ],
   "source": [
    "lgbm_trainer = Trainer(\n",
    "    LGBMRegressor(**lgbm_params),\n",
    "    cv=KFold(n_splits=5, shuffle=False),\n",
    "    metric=pearsonr,\n",
    "    task=\"regression\",\n",
    "    metric_precision=6\n",
    ")\n",
    "\n",
    "lgbm_trainer.fit(X, y)\n",
    "\n",
    "fold_scores[\"LightGBM (gbdt)\"] = lgbm_trainer.fold_scores\n",
    "overall_scores[\"LightGBM (gbdt)\"] = [pearsonr(lgbm_trainer.oof_preds, y)]\n",
    "oof_preds[\"LightGBM (gbdt)\"] = lgbm_trainer.oof_preds\n",
    "test_preds[\"LightGBM (gbdt)\"] = lgbm_trainer.predict(X_test)"
   ]
  },
  {
   "cell_type": "markdown",
   "id": "833823d6",
   "metadata": {
    "papermill": {
     "duration": 0.010672,
     "end_time": "2025-06-07T07:38:43.632987",
     "exception": false,
     "start_time": "2025-06-07T07:38:43.622315",
     "status": "completed"
    },
    "tags": []
   },
   "source": [
    "## LightGBM (goss)"
   ]
  },
  {
   "cell_type": "code",
   "execution_count": 11,
   "id": "573f849b",
   "metadata": {
    "execution": {
     "iopub.execute_input": "2025-06-07T07:38:43.649279Z",
     "iopub.status.busy": "2025-06-07T07:38:43.648903Z",
     "iopub.status.idle": "2025-06-07T07:39:40.526531Z",
     "shell.execute_reply": "2025-06-07T07:39:40.525611Z"
    },
    "papermill": {
     "duration": 56.886674,
     "end_time": "2025-06-07T07:39:40.528610",
     "exception": false,
     "start_time": "2025-06-07T07:38:43.641936",
     "status": "completed"
    },
    "tags": []
   },
   "outputs": [
    {
     "name": "stdout",
     "output_type": "stream",
     "text": [
      "Training LGBMRegressor\n",
      "\n",
      "--- Fold 0 - pearsonr: 0.125020 - Time: 7.39 s\n",
      "--- Fold 1 - pearsonr: 0.101415 - Time: 7.17 s\n",
      "--- Fold 2 - pearsonr: 0.034181 - Time: 7.27 s\n",
      "--- Fold 3 - pearsonr: 0.156489 - Time: 7.21 s\n",
      "--- Fold 4 - pearsonr: 0.093788 - Time: 8.64 s\n",
      "\n",
      "------ Overall pearsonr: 0.096503 - Mean pearsonr: 0.102178 ± 0.040413 - Time: 38.46 s\n"
     ]
    }
   ],
   "source": [
    "lgbm_goss_trainer = Trainer(\n",
    "    LGBMRegressor(**lgbm_goss_params),\n",
    "    cv=KFold(n_splits=5, shuffle=False),\n",
    "    metric=pearsonr,\n",
    "    task=\"regression\",\n",
    "    metric_precision=6\n",
    ")\n",
    "\n",
    "lgbm_goss_trainer.fit(X, y)\n",
    "\n",
    "fold_scores[\"LightGBM (goss)\"] = lgbm_goss_trainer.fold_scores\n",
    "overall_scores[\"LightGBM (goss)\"] = [pearsonr(lgbm_goss_trainer.oof_preds, y)]\n",
    "oof_preds[\"LightGBM (goss)\"] = lgbm_goss_trainer.oof_preds\n",
    "test_preds[\"LightGBM (goss)\"] = lgbm_goss_trainer.predict(X_test)"
   ]
  },
  {
   "cell_type": "markdown",
   "id": "7d8a30de",
   "metadata": {
    "papermill": {
     "duration": 0.006197,
     "end_time": "2025-06-07T07:39:40.541569",
     "exception": false,
     "start_time": "2025-06-07T07:39:40.535372",
     "status": "completed"
    },
    "tags": []
   },
   "source": [
    "## XGBoost"
   ]
  },
  {
   "cell_type": "code",
   "execution_count": 12,
   "id": "baabc0d3",
   "metadata": {
    "execution": {
     "iopub.execute_input": "2025-06-07T07:39:40.556500Z",
     "iopub.status.busy": "2025-06-07T07:39:40.556175Z",
     "iopub.status.idle": "2025-06-07T07:42:26.167491Z",
     "shell.execute_reply": "2025-06-07T07:42:26.166593Z"
    },
    "papermill": {
     "duration": 165.621088,
     "end_time": "2025-06-07T07:42:26.169611",
     "exception": false,
     "start_time": "2025-06-07T07:39:40.548523",
     "status": "completed"
    },
    "tags": []
   },
   "outputs": [
    {
     "name": "stdout",
     "output_type": "stream",
     "text": [
      "Training XGBRegressor\n",
      "\n",
      "--- Fold 0 - pearsonr: 0.186980 - Time: 26.08 s\n",
      "--- Fold 1 - pearsonr: 0.126919 - Time: 26.02 s\n",
      "--- Fold 2 - pearsonr: 0.085247 - Time: 26.08 s\n",
      "--- Fold 3 - pearsonr: 0.162445 - Time: 26.26 s\n",
      "--- Fold 4 - pearsonr: 0.137543 - Time: 24.32 s\n",
      "\n",
      "------ Overall pearsonr: 0.137687 - Mean pearsonr: 0.139827 ± 0.034310 - Time: 129.54 s\n"
     ]
    }
   ],
   "source": [
    "xgb_trainer = Trainer(\n",
    "    XGBRegressor(**xgb_params),\n",
    "    cv=KFold(n_splits=5, shuffle=False),\n",
    "    metric=pearsonr,\n",
    "    task=\"regression\",\n",
    "    metric_precision=6\n",
    ")\n",
    "\n",
    "xgb_trainer.fit(X, y)\n",
    "\n",
    "fold_scores[\"XGBoost\"] = xgb_trainer.fold_scores\n",
    "overall_scores[\"XGBoost\"] = [pearsonr(xgb_trainer.oof_preds, y)]\n",
    "oof_preds[\"XGBoost\"] = xgb_trainer.oof_preds\n",
    "test_preds[\"XGBoost\"] = xgb_trainer.predict(X_test)"
   ]
  },
  {
   "cell_type": "markdown",
   "id": "b254e328",
   "metadata": {
    "papermill": {
     "duration": 0.00641,
     "end_time": "2025-06-07T07:42:26.183912",
     "exception": false,
     "start_time": "2025-06-07T07:42:26.177502",
     "status": "completed"
    },
    "tags": []
   },
   "source": [
    "## AutoGluon"
   ]
  },
  {
   "cell_type": "code",
   "execution_count": 13,
   "id": "5135dfe0",
   "metadata": {
    "execution": {
     "iopub.execute_input": "2025-06-07T07:42:26.198746Z",
     "iopub.status.busy": "2025-06-07T07:42:26.198403Z",
     "iopub.status.idle": "2025-06-07T07:42:26.353477Z",
     "shell.execute_reply": "2025-06-07T07:42:26.352477Z"
    },
    "papermill": {
     "duration": 0.164674,
     "end_time": "2025-06-07T07:42:26.355241",
     "exception": false,
     "start_time": "2025-06-07T07:42:26.190567",
     "status": "completed"
    },
    "tags": []
   },
   "outputs": [],
   "source": [
    "oof_preds_files = glob.glob(f'/kaggle/input/drw-crypto-market-prediction-autogluon/*_oof_preds_*.pkl')\n",
    "test_preds_files = glob.glob(f'/kaggle/input/drw-crypto-market-prediction-autogluon/*_test_preds_*.pkl')\n",
    "\n",
    "ag_oof_preds = joblib.load(oof_preds_files[0])\n",
    "ag_test_preds = joblib.load(test_preds_files[0])\n",
    "\n",
    "ag_score = [pearsonr(ag_oof_preds, y)]\n",
    "\n",
    "ag_scores = []\n",
    "split = KFold(n_splits=CFG.n_folds).split(X, y)\n",
    "for _, val_idx in split:\n",
    "    y_val = y[val_idx]\n",
    "    y_preds = ag_oof_preds[val_idx]   \n",
    "    score = pearsonr(y_preds, y_val)\n",
    "    ag_scores.append(score)\n",
    "    \n",
    "oof_preds[\"AutoGluon\"], test_preds[\"AutoGluon\"], overall_scores[\"AutoGluon\"], fold_scores[\"AutoGluon\"] = ag_oof_preds, ag_test_preds, ag_score, ag_scores"
   ]
  },
  {
   "cell_type": "markdown",
   "id": "160b153c",
   "metadata": {
    "papermill": {
     "duration": 0.00675,
     "end_time": "2025-06-07T07:42:26.369749",
     "exception": false,
     "start_time": "2025-06-07T07:42:26.362999",
     "status": "completed"
    },
    "tags": []
   },
   "source": [
    "# Ensembling with Ridge"
   ]
  },
  {
   "cell_type": "code",
   "execution_count": 14,
   "id": "162745b8",
   "metadata": {
    "_kg_hide-input": true,
    "execution": {
     "iopub.execute_input": "2025-06-07T07:42:26.384628Z",
     "iopub.status.busy": "2025-06-07T07:42:26.384289Z",
     "iopub.status.idle": "2025-06-07T07:42:26.392272Z",
     "shell.execute_reply": "2025-06-07T07:42:26.391340Z"
    },
    "papermill": {
     "duration": 0.017301,
     "end_time": "2025-06-07T07:42:26.393837",
     "exception": false,
     "start_time": "2025-06-07T07:42:26.376536",
     "status": "completed"
    },
    "tags": []
   },
   "outputs": [],
   "source": [
    "def plot_weights(weights, title):\n",
    "    sorted_indices = np.argsort(weights[0])[::-1]\n",
    "    sorted_coeffs = np.array(weights[0])[sorted_indices]\n",
    "    sorted_model_names = np.array(list(oof_preds.keys()))[sorted_indices]\n",
    "\n",
    "    plt.figure(figsize=(10, weights.shape[1] * 0.5))\n",
    "    ax = sns.barplot(x=sorted_coeffs, y=sorted_model_names, palette=\"RdYlGn_r\")\n",
    "\n",
    "    for i, (value, name) in enumerate(zip(sorted_coeffs, sorted_model_names)):\n",
    "        if value >= 0:\n",
    "            ax.text(value, i, f\"{value:.3f}\", va=\"center\", ha=\"left\", color=\"black\")\n",
    "        else:\n",
    "            ax.text(value, i, f\"{value:.3f}\", va=\"center\", ha=\"right\", color=\"black\")\n",
    "\n",
    "    xlim = ax.get_xlim()\n",
    "    ax.set_xlim(xlim[0] - 0.1 * abs(xlim[0]), xlim[1] + 0.1 * abs(xlim[1]))\n",
    "\n",
    "    plt.title(title)\n",
    "    plt.xlabel(\"\")\n",
    "    plt.ylabel(\"\")\n",
    "    plt.tight_layout()\n",
    "    plt.show()"
   ]
  },
  {
   "cell_type": "code",
   "execution_count": 15,
   "id": "85c94ad9",
   "metadata": {
    "execution": {
     "iopub.execute_input": "2025-06-07T07:42:26.410556Z",
     "iopub.status.busy": "2025-06-07T07:42:26.410217Z",
     "iopub.status.idle": "2025-06-07T07:42:26.597521Z",
     "shell.execute_reply": "2025-06-07T07:42:26.596427Z"
    },
    "papermill": {
     "duration": 0.197895,
     "end_time": "2025-06-07T07:42:26.599437",
     "exception": false,
     "start_time": "2025-06-07T07:42:26.401542",
     "status": "completed"
    },
    "tags": []
   },
   "outputs": [],
   "source": [
    "X = pd.DataFrame(oof_preds)\n",
    "X_test = pd.DataFrame(test_preds)"
   ]
  },
  {
   "cell_type": "code",
   "execution_count": 16,
   "id": "0409c79a",
   "metadata": {
    "execution": {
     "iopub.execute_input": "2025-06-07T07:42:26.614504Z",
     "iopub.status.busy": "2025-06-07T07:42:26.614184Z",
     "iopub.status.idle": "2025-06-07T07:42:26.657818Z",
     "shell.execute_reply": "2025-06-07T07:42:26.656921Z"
    },
    "papermill": {
     "duration": 0.052903,
     "end_time": "2025-06-07T07:42:26.659336",
     "exception": false,
     "start_time": "2025-06-07T07:42:26.606433",
     "status": "completed"
    },
    "tags": []
   },
   "outputs": [
    {
     "data": {
      "text/plain": [
       "['test_preds.pkl']"
      ]
     },
     "execution_count": 16,
     "metadata": {},
     "output_type": "execute_result"
    }
   ],
   "source": [
    "joblib.dump(X, \"oof_preds.pkl\")\n",
    "joblib.dump(X_test, \"test_preds.pkl\")"
   ]
  },
  {
   "cell_type": "code",
   "execution_count": 17,
   "id": "656a3289",
   "metadata": {
    "_kg_hide-output": true,
    "execution": {
     "iopub.execute_input": "2025-06-07T07:42:26.674781Z",
     "iopub.status.busy": "2025-06-07T07:42:26.674484Z",
     "iopub.status.idle": "2025-06-07T07:50:35.677160Z",
     "shell.execute_reply": "2025-06-07T07:50:35.676185Z"
    },
    "papermill": {
     "duration": 489.012189,
     "end_time": "2025-06-07T07:50:35.678930",
     "exception": false,
     "start_time": "2025-06-07T07:42:26.666741",
     "status": "completed"
    },
    "scrolled": true,
    "tags": []
   },
   "outputs": [
    {
     "name": "stderr",
     "output_type": "stream",
     "text": [
      "[I 2025-06-07 07:42:26,681] A new study created in memory with name: no-name-f4a454f9-ec17-4ad2-b7ec-d043eabd2a09\n",
      "[I 2025-06-07 07:42:30,212] Trial 1 finished with value: 0.16667471533106842 and parameters: {'alpha': 0.1280202307392594, 'tol': 0.009837939342694226, 'fit_intercept': False, 'positive': False}. Best is trial 1 with value: 0.16667471533106842.\n",
      "[I 2025-06-07 07:42:30,238] Trial 2 finished with value: 0.16667473274797592 and parameters: {'alpha': 0.9995800607948799, 'tol': 0.009113920304608353, 'fit_intercept': False, 'positive': False}. Best is trial 2 with value: 0.16667473274797592.\n",
      "[I 2025-06-07 07:42:31,228] Trial 3 finished with value: 0.1490859651858971 and parameters: {'alpha': 0.7003450439776443, 'tol': 0.005364024204481064, 'fit_intercept': False, 'positive': True}. Best is trial 2 with value: 0.16667473274797592.\n",
      "[I 2025-06-07 07:42:31,247] Trial 0 finished with value: 0.13627005968071845 and parameters: {'alpha': 0.6094618007155697, 'tol': 0.008502266756235766, 'fit_intercept': True, 'positive': True}. Best is trial 2 with value: 0.16667473274797592.\n",
      "[I 2025-06-07 07:42:34,343] Trial 5 finished with value: 0.13627012280685444 and parameters: {'alpha': 0.0594363847128877, 'tol': 0.008555137785615502, 'fit_intercept': True, 'positive': True}. Best is trial 2 with value: 0.16667473274797592.\n",
      "[I 2025-06-07 07:42:34,344] Trial 4 finished with value: 0.1473593289185602 and parameters: {'alpha': 0.017106942338542597, 'tol': 0.003655782288310644, 'fit_intercept': True, 'positive': True}. Best is trial 2 with value: 0.16667473274797592.\n",
      "[I 2025-06-07 07:42:34,752] Trial 7 finished with value: 0.1636085559523463 and parameters: {'alpha': 0.5974767848814679, 'tol': 0.004022463908214078, 'fit_intercept': True, 'positive': False}. Best is trial 2 with value: 0.16667473274797592.\n",
      "[I 2025-06-07 07:42:34,791] Trial 6 finished with value: 0.1636084899681155 and parameters: {'alpha': 0.689765946561392, 'tol': 0.005392629548541113, 'fit_intercept': True, 'positive': False}. Best is trial 2 with value: 0.16667473274797592.\n",
      "[I 2025-06-07 07:42:38,325] Trial 8 finished with value: 0.13627009826845468 and parameters: {'alpha': 0.2732434534189061, 'tol': 0.006894534808607007, 'fit_intercept': True, 'positive': True}. Best is trial 2 with value: 0.16667473274797592.\n",
      "[I 2025-06-07 07:42:38,356] Trial 9 finished with value: 0.13627012864435487 and parameters: {'alpha': 0.00857308534677903, 'tol': 0.008205137641023827, 'fit_intercept': True, 'positive': True}. Best is trial 2 with value: 0.16667473274797592.\n",
      "[I 2025-06-07 07:42:38,588] Trial 10 finished with value: 0.13605059108129708 and parameters: {'alpha': 0.34539360677225406, 'tol': 0.005695475309930393, 'fit_intercept': True, 'positive': True}. Best is trial 2 with value: 0.16667473274797592.\n",
      "[I 2025-06-07 07:42:38,987] Trial 11 finished with value: 0.1377759239011043 and parameters: {'alpha': 0.6823411169899063, 'tol': 0.005471628237011379, 'fit_intercept': True, 'positive': True}. Best is trial 2 with value: 0.16667473274797592.\n",
      "[I 2025-06-07 07:42:41,712] Trial 12 finished with value: 0.16667471364576278 and parameters: {'alpha': 0.05684491527309832, 'tol': 0.008321180054177714, 'fit_intercept': False, 'positive': False}. Best is trial 2 with value: 0.16667473274797592.\n",
      "[I 2025-06-07 07:42:42,953] Trial 13 finished with value: 0.15798567897441787 and parameters: {'alpha': 0.7757084413387044, 'tol': 0.0012411139745406314, 'fit_intercept': False, 'positive': True}. Best is trial 2 with value: 0.16667473274797592.\n",
      "[I 2025-06-07 07:42:43,333] Trial 15 finished with value: 0.16667472502131775 and parameters: {'alpha': 0.5757282964777929, 'tol': 0.0005305008428070206, 'fit_intercept': False, 'positive': False}. Best is trial 2 with value: 0.16667473274797592.\n",
      "[I 2025-06-07 07:42:43,373] Trial 14 finished with value: 0.1584799326593134 and parameters: {'alpha': 0.10914730820332863, 'tol': 0.000983324875012307, 'fit_intercept': False, 'positive': True}. Best is trial 2 with value: 0.16667473274797592.\n",
      "[I 2025-06-07 07:42:45,372] Trial 16 finished with value: 0.16360865284644763 and parameters: {'alpha': 0.46173572774687077, 'tol': 0.006305699945573382, 'fit_intercept': True, 'positive': False}. Best is trial 2 with value: 0.16667473274797592.\n",
      "[I 2025-06-07 07:42:46,863] Trial 17 finished with value: 0.15379862650730725 and parameters: {'alpha': 0.5374732302535921, 'tol': 0.004618134586563342, 'fit_intercept': False, 'positive': True}. Best is trial 2 with value: 0.16667473274797592.\n",
      "[I 2025-06-07 07:42:47,470] Trial 19 finished with value: 0.14908626154424606 and parameters: {'alpha': 0.016002365168340527, 'tol': 0.005173715302070355, 'fit_intercept': False, 'positive': True}. Best is trial 2 with value: 0.16667473274797592.\n",
      "[I 2025-06-07 07:42:47,480] Trial 18 finished with value: 0.14198068106038467 and parameters: {'alpha': 0.5264635638277454, 'tol': 0.009413197223736828, 'fit_intercept': False, 'positive': True}. Best is trial 2 with value: 0.16667473274797592.\n",
      "[I 2025-06-07 07:42:50,244] Trial 20 finished with value: 0.15453452697723322 and parameters: {'alpha': 0.36022643867699944, 'tol': 0.001068871346144707, 'fit_intercept': True, 'positive': True}. Best is trial 2 with value: 0.16667473274797592.\n",
      "[I 2025-06-07 07:42:51,059] Trial 21 finished with value: 0.14198065233663043 and parameters: {'alpha': 0.7489449674093281, 'tol': 0.009306539896586852, 'fit_intercept': False, 'positive': True}. Best is trial 2 with value: 0.16667473274797592.\n",
      "[I 2025-06-07 07:42:51,318] Trial 23 finished with value: 0.16360885613401885 and parameters: {'alpha': 0.1760898164296415, 'tol': 0.007801877728504867, 'fit_intercept': True, 'positive': False}. Best is trial 2 with value: 0.16667473274797592.\n",
      "[I 2025-06-07 07:42:51,867] Trial 22 finished with value: 0.1579861298379671 and parameters: {'alpha': 0.3237847681339786, 'tol': 0.0015722370584772296, 'fit_intercept': False, 'positive': True}. Best is trial 2 with value: 0.16667473274797592.\n",
      "[I 2025-06-07 07:42:54,013] Trial 24 finished with value: 0.1419806938655357 and parameters: {'alpha': 0.42728036657679924, 'tol': 0.009650730861143953, 'fit_intercept': False, 'positive': True}. Best is trial 2 with value: 0.16667473274797592.\n",
      "[I 2025-06-07 07:42:55,157] Trial 25 finished with value: 0.1362701126217575 and parameters: {'alpha': 0.14818096318728402, 'tol': 0.006748207398347742, 'fit_intercept': True, 'positive': True}. Best is trial 2 with value: 0.16667473274797592.\n",
      "[I 2025-06-07 07:42:55,175] Trial 27 finished with value: 0.16667472428455213 and parameters: {'alpha': 0.5389520334719501, 'tol': 0.004016578256410357, 'fit_intercept': False, 'positive': False}. Best is trial 2 with value: 0.16667473274797592.\n",
      "[I 2025-06-07 07:42:55,582] Trial 26 finished with value: 0.1463718636251558 and parameters: {'alpha': 0.6320311549848152, 'tol': 0.005577992841499005, 'fit_intercept': False, 'positive': True}. Best is trial 2 with value: 0.16667473274797592.\n",
      "[I 2025-06-07 07:42:58,183] Trial 28 finished with value: 0.1362700874273142 and parameters: {'alpha': 0.36770361960998177, 'tol': 0.006615278243664512, 'fit_intercept': True, 'positive': True}. Best is trial 2 with value: 0.16667473274797592.\n",
      "[I 2025-06-07 07:42:58,790] Trial 29 finished with value: 0.16360871027262144 and parameters: {'alpha': 0.3811622326980387, 'tol': 0.00962022063701216, 'fit_intercept': True, 'positive': False}. Best is trial 2 with value: 0.16667473274797592.\n",
      "[I 2025-06-07 07:42:58,967] Trial 30 finished with value: 0.16360843536812752 and parameters: {'alpha': 0.7660412639033662, 'tol': 0.006267944988318742, 'fit_intercept': True, 'positive': False}. Best is trial 2 with value: 0.16667473274797592.\n",
      "[I 2025-06-07 07:42:59,191] Trial 31 finished with value: 0.16667472443811251 and parameters: {'alpha': 0.5465736650182252, 'tol': 0.009941815659136268, 'fit_intercept': False, 'positive': False}. Best is trial 2 with value: 0.16667473274797592.\n",
      "[I 2025-06-07 07:43:02,372] Trial 33 finished with value: 0.16667472193636307 and parameters: {'alpha': 0.4250945111685396, 'tol': 0.00943397579092383, 'fit_intercept': False, 'positive': False}. Best is trial 2 with value: 0.16667473274797592.\n",
      "[I 2025-06-07 07:43:02,950] Trial 32 finished with value: 0.14811052668106447 and parameters: {'alpha': 0.31330701895853086, 'tol': 0.0043183410418769184, 'fit_intercept': True, 'positive': True}. Best is trial 2 with value: 0.16667473274797592.\n",
      "[I 2025-06-07 07:43:03,008] Trial 34 finished with value: 0.1419806752636556 and parameters: {'alpha': 0.571362496024596, 'tol': 0.006791033023787967, 'fit_intercept': False, 'positive': True}. Best is trial 2 with value: 0.16667473274797592.\n",
      "[I 2025-06-07 07:43:03,011] Trial 35 finished with value: 0.1636088480533435 and parameters: {'alpha': 0.1874664957483021, 'tol': 0.0035989758016566954, 'fit_intercept': True, 'positive': False}. Best is trial 2 with value: 0.16667473274797592.\n",
      "[I 2025-06-07 07:43:06,709] Trial 37 finished with value: 0.1636089750019418 and parameters: {'alpha': 0.008522756949880694, 'tol': 0.005014994255638076, 'fit_intercept': True, 'positive': False}. Best is trial 2 with value: 0.16667473274797592.\n",
      "[I 2025-06-07 07:43:06,716] Trial 36 finished with value: 0.1540300888392931 and parameters: {'alpha': 0.7435573191984531, 'tol': 0.00445000049008549, 'fit_intercept': False, 'positive': True}. Best is trial 2 with value: 0.16667473274797592.\n",
      "[I 2025-06-07 07:43:06,760] Trial 39 finished with value: 0.16667472049075382 and parameters: {'alpha': 0.3573388127267564, 'tol': 0.006865250545521061, 'fit_intercept': False, 'positive': False}. Best is trial 2 with value: 0.16667473274797592.\n",
      "[I 2025-06-07 07:43:07,407] Trial 38 finished with value: 0.15033257244672293 and parameters: {'alpha': 0.9387255800374676, 'tol': 0.0032638733363269893, 'fit_intercept': True, 'positive': True}. Best is trial 2 with value: 0.16667473274797592.\n",
      "[I 2025-06-07 07:43:09,974] Trial 40 finished with value: 0.16667471654284013 and parameters: {'alpha': 0.18026464962265643, 'tol': 8.11613239899987e-05, 'fit_intercept': False, 'positive': False}. Best is trial 2 with value: 0.16667473274797592.\n",
      "[I 2025-06-07 07:43:11,139] Trial 41 finished with value: 0.15320928300870493 and parameters: {'alpha': 0.7342335506151841, 'tol': 0.001881117424377496, 'fit_intercept': True, 'positive': True}. Best is trial 2 with value: 0.16667473274797592.\n",
      "[I 2025-06-07 07:43:11,163] Trial 43 finished with value: 0.1636083540982405 and parameters: {'alpha': 0.8794216663601612, 'tol': 0.0074298021810671275, 'fit_intercept': True, 'positive': False}. Best is trial 2 with value: 0.16667473274797592.\n",
      "[I 2025-06-07 07:43:11,168] Trial 42 finished with value: 0.13627011384844032 and parameters: {'alpha': 0.13749266877076893, 'tol': 0.008312747125682056, 'fit_intercept': True, 'positive': True}. Best is trial 2 with value: 0.16667473274797592.\n",
      "[I 2025-06-07 07:43:14,177] Trial 44 finished with value: 0.1362700942013231 and parameters: {'alpha': 0.30868089278283894, 'tol': 0.007526851967351926, 'fit_intercept': True, 'positive': True}. Best is trial 2 with value: 0.16667473274797592.\n",
      "[I 2025-06-07 07:43:14,433] Trial 47 finished with value: 0.1666747306026006 and parameters: {'alpha': 0.8738422256391418, 'tol': 0.002028818599986149, 'fit_intercept': False, 'positive': False}. Best is trial 2 with value: 0.16667473274797592.\n",
      "[I 2025-06-07 07:43:15,029] Trial 45 finished with value: 0.13627008609840777 and parameters: {'alpha': 0.37928252331843937, 'tol': 0.009557127516049431, 'fit_intercept': True, 'positive': True}. Best is trial 2 with value: 0.16667473274797592.\n",
      "[I 2025-06-07 07:43:15,627] Trial 46 finished with value: 0.15320917148436816 and parameters: {'alpha': 0.8322970217875872, 'tol': 0.0019065165371874514, 'fit_intercept': True, 'positive': True}. Best is trial 2 with value: 0.16667473274797592.\n",
      "[I 2025-06-07 07:43:17,658] Trial 48 finished with value: 0.16667472859353533 and parameters: {'alpha': 0.7621765073894687, 'tol': 0.0020456415640125944, 'fit_intercept': False, 'positive': False}. Best is trial 2 with value: 0.16667473274797592.\n",
      "[I 2025-06-07 07:43:18,520] Trial 49 finished with value: 0.1419806455345489 and parameters: {'alpha': 0.8016307686599567, 'tol': 0.00997537779056994, 'fit_intercept': False, 'positive': True}. Best is trial 2 with value: 0.16667473274797592.\n",
      "[I 2025-06-07 07:43:19,742] Trial 50 finished with value: 0.15320922034238854 and parameters: {'alpha': 0.7893406494539225, 'tol': 0.0017278670781489618, 'fit_intercept': True, 'positive': True}. Best is trial 2 with value: 0.16667473274797592.\n",
      "[I 2025-06-07 07:43:20,176] Trial 51 finished with value: 0.15402986698579837 and parameters: {'alpha': 0.19929603799093976, 'tol': 0.003877179285099239, 'fit_intercept': False, 'positive': True}. Best is trial 2 with value: 0.16667473274797592.\n",
      "[I 2025-06-07 07:43:21,435] Trial 52 finished with value: 0.16667471296422012 and parameters: {'alpha': 0.028528011323204594, 'tol': 0.009955015635609531, 'fit_intercept': False, 'positive': False}. Best is trial 2 with value: 0.16667473274797592.\n",
      "[I 2025-06-07 07:43:22,215] Trial 53 finished with value: 0.16667473117306647 and parameters: {'alpha': 0.9065779889517186, 'tol': 0.0017268047053003838, 'fit_intercept': False, 'positive': False}. Best is trial 2 with value: 0.16667473274797592.\n",
      "[I 2025-06-07 07:43:23,532] Trial 54 finished with value: 0.166674727085672 and parameters: {'alpha': 0.6817318241777413, 'tol': 0.0005530057526420952, 'fit_intercept': False, 'positive': False}. Best is trial 2 with value: 0.16667473274797592.\n",
      "[I 2025-06-07 07:43:24,082] Trial 55 finished with value: 0.16667472732841776 and parameters: {'alpha': 0.6945017606481146, 'tol': 0.0002544100019644018, 'fit_intercept': False, 'positive': False}. Best is trial 2 with value: 0.16667473274797592.\n",
      "[I 2025-06-07 07:43:24,871] Trial 56 finished with value: 0.16667472617366835 and parameters: {'alpha': 0.6343421839479162, 'tol': 0.001312756887043255, 'fit_intercept': False, 'positive': False}. Best is trial 2 with value: 0.16667473274797592.\n",
      "[I 2025-06-07 07:43:25,971] Trial 57 finished with value: 0.16667473012404002 and parameters: {'alpha': 0.8467446538847482, 'tol': 0.0011323677851612839, 'fit_intercept': False, 'positive': False}. Best is trial 2 with value: 0.16667473274797592.\n",
      "[I 2025-06-07 07:43:27,275] Trial 58 finished with value: 0.16667473131925656 and parameters: {'alpha': 0.9150453854189785, 'tol': 0.002178646993446826, 'fit_intercept': False, 'positive': False}. Best is trial 2 with value: 0.16667473274797592.\n",
      "[I 2025-06-07 07:43:27,839] Trial 59 finished with value: 0.16667473189350052 and parameters: {'alpha': 0.9486260099716965, 'tol': 0.0013526418520694921, 'fit_intercept': False, 'positive': False}. Best is trial 2 with value: 0.16667473274797592.\n",
      "[I 2025-06-07 07:43:28,449] Trial 60 finished with value: 0.1666747327408275 and parameters: {'alpha': 0.9991486944400152, 'tol': 0.0021039977808597083, 'fit_intercept': False, 'positive': False}. Best is trial 2 with value: 0.16667473274797592.\n",
      "[I 2025-06-07 07:43:29,725] Trial 61 finished with value: 0.1666747326183781 and parameters: {'alpha': 0.9917732586895719, 'tol': 0.0033572690923893353, 'fit_intercept': False, 'positive': False}. Best is trial 2 with value: 0.16667473274797592.\n",
      "[I 2025-06-07 07:43:31,300] Trial 62 finished with value: 0.1666747327147225 and parameters: {'alpha': 0.9975741710700745, 'tol': 0.009668383512227844, 'fit_intercept': False, 'positive': False}. Best is trial 2 with value: 0.16667473274797592.\n",
      "[I 2025-06-07 07:43:31,889] Trial 63 finished with value: 0.16667473253080453 and parameters: {'alpha': 0.9865141418578985, 'tol': 0.007876631993160535, 'fit_intercept': False, 'positive': False}. Best is trial 2 with value: 0.16667473274797592.\n",
      "[I 2025-06-07 07:43:32,497] Trial 64 finished with value: 0.16667473252461032 and parameters: {'alpha': 0.9861426498853519, 'tol': 0.0034920459086810957, 'fit_intercept': False, 'positive': False}. Best is trial 2 with value: 0.16667473274797592.\n",
      "[I 2025-06-07 07:43:33,608] Trial 65 finished with value: 0.16667473247499998 and parameters: {'alpha': 0.983169641272809, 'tol': 0.007675517082323205, 'fit_intercept': False, 'positive': False}. Best is trial 2 with value: 0.16667473274797592.\n",
      "[I 2025-06-07 07:43:35,100] Trial 66 finished with value: 0.1666747325876013 and parameters: {'alpha': 0.9899235134123698, 'tol': 0.0093942802100077, 'fit_intercept': False, 'positive': False}. Best is trial 2 with value: 0.16667473274797592.\n",
      "[I 2025-06-07 07:43:35,710] Trial 67 finished with value: 0.16667473164668542 and parameters: {'alpha': 0.9341294216780144, 'tol': 0.008786403173042214, 'fit_intercept': False, 'positive': False}. Best is trial 2 with value: 0.16667473274797592.\n",
      "[I 2025-06-07 07:43:36,248] Trial 68 finished with value: 0.16667473188624402 and parameters: {'alpha': 0.9481984207665123, 'tol': 0.007845153244180121, 'fit_intercept': False, 'positive': False}. Best is trial 2 with value: 0.16667473274797592.\n",
      "[I 2025-06-07 07:43:37,191] Trial 69 finished with value: 0.16667473205532898 and parameters: {'alpha': 0.9581838040357916, 'tol': 0.009019477089433639, 'fit_intercept': False, 'positive': False}. Best is trial 2 with value: 0.16667473274797592.\n",
      "[I 2025-06-07 07:43:38,865] Trial 70 finished with value: 0.16667473137095934 and parameters: {'alpha': 0.9180478389979186, 'tol': 0.009838619221854698, 'fit_intercept': False, 'positive': False}. Best is trial 2 with value: 0.16667473274797592.\n",
      "[I 2025-06-07 07:43:39,785] Trial 71 finished with value: 0.16667473216556047 and parameters: {'alpha': 0.9647185316146691, 'tol': 0.009705408293142488, 'fit_intercept': False, 'positive': False}. Best is trial 2 with value: 0.16667473274797592.\n",
      "[I 2025-06-07 07:43:40,016] Trial 72 finished with value: 0.16667473274586442 and parameters: {'alpha': 0.9994526392211587, 'tol': 0.004246551164453342, 'fit_intercept': False, 'positive': False}. Best is trial 2 with value: 0.16667473274797592.\n",
      "[I 2025-06-07 07:43:40,788] Trial 73 finished with value: 0.1666747310330088 and parameters: {'alpha': 0.8984961222834176, 'tol': 0.004950901858171563, 'fit_intercept': False, 'positive': False}. Best is trial 2 with value: 0.16667473274797592.\n",
      "[I 2025-06-07 07:43:42,459] Trial 74 finished with value: 0.16667473212563416 and parameters: {'alpha': 0.9623493325919428, 'tol': 0.004798844181784906, 'fit_intercept': False, 'positive': False}. Best is trial 2 with value: 0.16667473274797592.\n",
      "[I 2025-06-07 07:43:43,773] Trial 76 finished with value: 0.16667473158956625 and parameters: {'alpha': 0.9307882549438741, 'tol': 0.005069977529779302, 'fit_intercept': False, 'positive': False}. Best is trial 2 with value: 0.16667473274797592.\n",
      "[I 2025-06-07 07:43:43,778] Trial 75 finished with value: 0.16667473056350995 and parameters: {'alpha': 0.8716165212634008, 'tol': 0.005989022877648012, 'fit_intercept': False, 'positive': False}. Best is trial 2 with value: 0.16667473274797592.\n",
      "[I 2025-06-07 07:43:44,431] Trial 77 finished with value: 0.1666747327295858 and parameters: {'alpha': 0.9984705125038618, 'tol': 0.004773536138606897, 'fit_intercept': False, 'positive': False}. Best is trial 2 with value: 0.16667473274797592.\n",
      "[I 2025-06-07 07:43:46,958] Trial 78 finished with value: 0.15403019281271013 and parameters: {'alpha': 0.9994794630455339, 'tol': 0.004325647810495587, 'fit_intercept': False, 'positive': True}. Best is trial 2 with value: 0.16667473274797592.\n",
      "[I 2025-06-07 07:43:47,219] Trial 79 finished with value: 0.16360836315213595 and parameters: {'alpha': 0.8667994863565344, 'tol': 0.0030073680536296683, 'fit_intercept': True, 'positive': False}. Best is trial 2 with value: 0.16667473274797592.\n",
      "[I 2025-06-07 07:43:47,746] Trial 80 finished with value: 0.1636082908131699 and parameters: {'alpha': 0.9675855904624603, 'tol': 0.00235618695881039, 'fit_intercept': True, 'positive': False}. Best is trial 2 with value: 0.16667473274797592.\n",
      "[I 2025-06-07 07:43:48,370] Trial 81 finished with value: 0.14198063222364363 and parameters: {'alpha': 0.9047308290464211, 'tol': 0.007198051456708544, 'fit_intercept': False, 'positive': True}. Best is trial 2 with value: 0.16667473274797592.\n",
      "[I 2025-06-07 07:43:50,472] Trial 82 finished with value: 0.16667473260178794 and parameters: {'alpha': 0.990775963064079, 'tol': 0.008217222524121277, 'fit_intercept': False, 'positive': False}. Best is trial 2 with value: 0.16667473274797592.\n",
      "[I 2025-06-07 07:43:51,424] Trial 83 finished with value: 0.1419806269868695 and parameters: {'alpha': 0.9452924012050554, 'tol': 0.008380490376453621, 'fit_intercept': False, 'positive': True}. Best is trial 2 with value: 0.16667473274797592.\n",
      "[I 2025-06-07 07:43:51,642] Trial 84 finished with value: 0.16360829065463028 and parameters: {'alpha': 0.9678063179985805, 'tol': 0.009953457972059435, 'fit_intercept': True, 'positive': False}. Best is trial 2 with value: 0.16667473274797592.\n",
      "[I 2025-06-07 07:43:52,203] Trial 85 finished with value: 0.16360829058180074 and parameters: {'alpha': 0.9679077151249985, 'tol': 0.009175159901720045, 'fit_intercept': True, 'positive': False}. Best is trial 2 with value: 0.16667473274797592.\n",
      "[I 2025-06-07 07:43:54,452] Trial 86 finished with value: 0.16360839848656045 and parameters: {'alpha': 0.8175176364878263, 'tol': 0.009171370043754694, 'fit_intercept': True, 'positive': False}. Best is trial 2 with value: 0.16667473274797592.\n",
      "[I 2025-06-07 07:43:55,004] Trial 87 finished with value: 0.1666747321736492 and parameters: {'alpha': 0.9651988244281154, 'tol': 0.007483510227979311, 'fit_intercept': False, 'positive': False}. Best is trial 2 with value: 0.16667473274797592.\n",
      "[I 2025-06-07 07:43:55,606] Trial 88 finished with value: 0.1666747280650808 and parameters: {'alpha': 0.733674059008723, 'tol': 0.008861273021709477, 'fit_intercept': False, 'positive': False}. Best is trial 2 with value: 0.16667473274797592.\n",
      "[I 2025-06-07 07:43:55,815] Trial 89 finished with value: 0.1666747270255432 and parameters: {'alpha': 0.6785790156131761, 'tol': 0.007852086025647109, 'fit_intercept': False, 'positive': False}. Best is trial 2 with value: 0.16667473274797592.\n",
      "[I 2025-06-07 07:43:58,212] Trial 90 finished with value: 0.16667473260506102 and parameters: {'alpha': 0.990972681970687, 'tol': 0.006790009191277388, 'fit_intercept': False, 'positive': False}. Best is trial 2 with value: 0.16667473274797592.\n",
      "[I 2025-06-07 07:43:58,432] Trial 91 finished with value: 0.166674732740093 and parameters: {'alpha': 0.999104385149873, 'tol': 0.009929747175669542, 'fit_intercept': False, 'positive': False}. Best is trial 2 with value: 0.16667473274797592.\n",
      "[I 2025-06-07 07:43:59,697] Trial 92 finished with value: 0.1666747326922985 and parameters: {'alpha': 0.9962225972925715, 'tol': 0.0031329008799342284, 'fit_intercept': False, 'positive': False}. Best is trial 2 with value: 0.16667473274797592.\n",
      "[I 2025-06-07 07:43:59,699] Trial 93 finished with value: 0.16667473235660382 and parameters: {'alpha': 0.9760911781418281, 'tol': 0.0037009753644031886, 'fit_intercept': False, 'positive': False}. Best is trial 2 with value: 0.16667473274797592.\n",
      "[I 2025-06-07 07:44:01,917] Trial 94 finished with value: 0.16667473245589906 and parameters: {'alpha': 0.9820260857900365, 'tol': 0.009286636142723986, 'fit_intercept': False, 'positive': False}. Best is trial 2 with value: 0.16667473274797592.\n",
      "[I 2025-06-07 07:44:02,140] Trial 95 finished with value: 0.16667473204753136 and parameters: {'alpha': 0.9577222937874201, 'tol': 0.009752744337439268, 'fit_intercept': False, 'positive': False}. Best is trial 2 with value: 0.16667473274797592.\n",
      "[I 2025-06-07 07:44:03,927] Trial 97 finished with value: 0.16667473231479946 and parameters: {'alpha': 0.9735974395719051, 'tol': 0.0035057524289162016, 'fit_intercept': False, 'positive': False}. Best is trial 2 with value: 0.16667473274797592.\n",
      "[I 2025-06-07 07:44:04,957] Trial 96 finished with value: 0.1586193016045191 and parameters: {'alpha': 0.9474407101666825, 'tol': 0.0005009142570611518, 'fit_intercept': False, 'positive': True}. Best is trial 2 with value: 0.16667473274797592.\n",
      "[I 2025-06-07 07:44:05,882] Trial 98 finished with value: 0.1666747322462286 and parameters: {'alpha': 0.9695132860224046, 'tol': 0.004784867425422903, 'fit_intercept': False, 'positive': False}. Best is trial 2 with value: 0.16667473274797592.\n",
      "[I 2025-06-07 07:44:05,953] Trial 99 finished with value: 0.16667473128634727 and parameters: {'alpha': 0.9131364227197986, 'tol': 0.003998413577710323, 'fit_intercept': False, 'positive': False}. Best is trial 2 with value: 0.16667473274797592.\n",
      "[I 2025-06-07 07:44:07,970] Trial 100 finished with value: 0.16667473269099403 and parameters: {'alpha': 0.9961440059576055, 'tol': 0.0034111193336707002, 'fit_intercept': False, 'positive': False}. Best is trial 2 with value: 0.16667473274797592.\n",
      "[I 2025-06-07 07:44:08,577] Trial 101 finished with value: 0.1666747284649316 and parameters: {'alpha': 0.7552085078344597, 'tol': 0.004116592842814078, 'fit_intercept': False, 'positive': False}. Best is trial 2 with value: 0.16667473274797592.\n",
      "[I 2025-06-07 07:44:09,173] Trial 102 finished with value: 0.16667473242004563 and parameters: {'alpha': 0.9798812123795761, 'tol': 0.0027544549970243107, 'fit_intercept': False, 'positive': False}. Best is trial 2 with value: 0.16667473274797592.\n",
      "[I 2025-06-07 07:44:09,714] Trial 103 finished with value: 0.16667473209948247 and parameters: {'alpha': 0.9607989286958902, 'tol': 0.0063760027989963304, 'fit_intercept': False, 'positive': False}. Best is trial 2 with value: 0.16667473274797592.\n",
      "[I 2025-06-07 07:44:11,984] Trial 104 finished with value: 0.16667473275165642 and parameters: {'alpha': 0.999802191097982, 'tol': 0.0031669606342114116, 'fit_intercept': False, 'positive': False}. Best is trial 104 with value: 0.16667473275165642.\n",
      "[I 2025-06-07 07:44:12,209] Trial 105 finished with value: 0.16667473256894916 and parameters: {'alpha': 0.9888032679140215, 'tol': 0.002602828312436525, 'fit_intercept': False, 'positive': False}. Best is trial 104 with value: 0.16667473275165642.\n",
      "[I 2025-06-07 07:44:13,366] Trial 107 finished with value: 0.16667473269570823 and parameters: {'alpha': 0.9964280648955977, 'tol': 0.003261137115442736, 'fit_intercept': False, 'positive': False}. Best is trial 104 with value: 0.16667473275165642.\n",
      "[I 2025-06-07 07:44:13,752] Trial 106 finished with value: 0.13627001868519623 and parameters: {'alpha': 0.9666555501872596, 'tol': 0.009225056407885249, 'fit_intercept': True, 'positive': True}. Best is trial 104 with value: 0.16667473275165642.\n",
      "[I 2025-06-07 07:44:15,775] Trial 108 finished with value: 0.16667473233304556 and parameters: {'alpha': 0.974685511440398, 'tol': 0.0038877675693867195, 'fit_intercept': False, 'positive': False}. Best is trial 104 with value: 0.16667473275165642.\n",
      "[I 2025-06-07 07:44:15,959] Trial 109 finished with value: 0.1666747327260511 and parameters: {'alpha': 0.9982573098565463, 'tol': 0.004579565451562673, 'fit_intercept': False, 'positive': False}. Best is trial 104 with value: 0.16667473275165642.\n",
      "[I 2025-06-07 07:44:17,118] Trial 110 finished with value: 0.166674730732559 and parameters: {'alpha': 0.881257610326098, 'tol': 0.0026987873682342393, 'fit_intercept': False, 'positive': False}. Best is trial 104 with value: 0.16667473275165642.\n",
      "[I 2025-06-07 07:44:17,478] Trial 111 finished with value: 0.16667473266725574 and parameters: {'alpha': 0.9947142092710183, 'tol': 0.0031106399696642995, 'fit_intercept': False, 'positive': False}. Best is trial 104 with value: 0.16667473275165642.\n",
      "[I 2025-06-07 07:44:19,707] Trial 113 finished with value: 0.1666747323598099 and parameters: {'alpha': 0.976282553428486, 'tol': 0.002859217375207576, 'fit_intercept': False, 'positive': False}. Best is trial 104 with value: 0.16667473275165642.\n",
      "[I 2025-06-07 07:44:19,729] Trial 112 finished with value: 0.16667473255888068 and parameters: {'alpha': 0.9881988060984418, 'tol': 0.0028419831038252576, 'fit_intercept': False, 'positive': False}. Best is trial 104 with value: 0.16667473275165642.\n",
      "[I 2025-06-07 07:44:20,894] Trial 114 finished with value: 0.1666747325305623 and parameters: {'alpha': 0.9864996161044535, 'tol': 0.004461632536159073, 'fit_intercept': False, 'positive': False}. Best is trial 104 with value: 0.16667473275165642.\n",
      "[I 2025-06-07 07:44:21,113] Trial 115 finished with value: 0.16667473262078009 and parameters: {'alpha': 0.9919176871808949, 'tol': 0.0038805619713949977, 'fit_intercept': False, 'positive': False}. Best is trial 104 with value: 0.16667473275165642.\n",
      "[I 2025-06-07 07:44:23,338] Trial 116 finished with value: 0.16667473254128165 and parameters: {'alpha': 0.9871426551581071, 'tol': 0.003900162088630636, 'fit_intercept': False, 'positive': False}. Best is trial 104 with value: 0.16667473275165642.\n",
      "[I 2025-06-07 07:44:23,736] Trial 117 finished with value: 0.16667473241533567 and parameters: {'alpha': 0.9795996067385544, 'tol': 0.003828864284276283, 'fit_intercept': False, 'positive': False}. Best is trial 104 with value: 0.16667473275165642.\n",
      "[I 2025-06-07 07:44:24,492] Trial 118 finished with value: 0.16667473271645414 and parameters: {'alpha': 0.9976785807495744, 'tol': 0.0026106822874567967, 'fit_intercept': False, 'positive': False}. Best is trial 104 with value: 0.16667473275165642.\n",
      "[I 2025-06-07 07:44:24,708] Trial 119 finished with value: 0.16667473233831798 and parameters: {'alpha': 0.9750000310130373, 'tol': 0.0014490361619972749, 'fit_intercept': False, 'positive': False}. Best is trial 104 with value: 0.16667473275165642.\n",
      "[I 2025-06-07 07:44:27,146] Trial 120 finished with value: 0.1636083600356413 and parameters: {'alpha': 0.8711444953502211, 'tol': 0.004648191656471686, 'fit_intercept': True, 'positive': False}. Best is trial 104 with value: 0.16667473275165642.\n",
      "[I 2025-06-07 07:44:27,683] Trial 121 finished with value: 0.16667473219647747 and parameters: {'alpha': 0.9665549113735, 'tol': 0.00040120900184025866, 'fit_intercept': False, 'positive': False}. Best is trial 104 with value: 0.16667473275165642.\n",
      "[I 2025-06-07 07:44:28,281] Trial 122 finished with value: 0.16360829681824912 and parameters: {'alpha': 0.9592244854232033, 'tol': 0.0040685614850172105, 'fit_intercept': True, 'positive': False}. Best is trial 104 with value: 0.16667473275165642.\n",
      "[I 2025-06-07 07:44:28,499] Trial 123 finished with value: 0.16667473206013997 and parameters: {'alpha': 0.958468596187245, 'tol': 0.00017442929971666493, 'fit_intercept': False, 'positive': False}. Best is trial 104 with value: 0.16667473275165642.\n",
      "[I 2025-06-07 07:44:31,047] Trial 124 finished with value: 0.16667473249137693 and parameters: {'alpha': 0.984150612949068, 'tol': 0.0023323899906255046, 'fit_intercept': False, 'positive': False}. Best is trial 104 with value: 0.16667473275165642.\n",
      "[I 2025-06-07 07:44:31,512] Trial 125 finished with value: 0.16667472766392807 and parameters: {'alpha': 0.7122634362725249, 'tol': 0.003885525355957259, 'fit_intercept': False, 'positive': False}. Best is trial 104 with value: 0.16667473275165642.\n",
      "[I 2025-06-07 07:44:32,308] Trial 127 finished with value: 0.16360895235492287 and parameters: {'alpha': 0.040479093869368876, 'tol': 0.0008462105187150085, 'fit_intercept': True, 'positive': False}. Best is trial 104 with value: 0.16667473275165642.\n",
      "[I 2025-06-07 07:44:32,902] Trial 126 finished with value: 0.15798549034781809 and parameters: {'alpha': 0.9645852063738142, 'tol': 0.0022927651267881243, 'fit_intercept': False, 'positive': True}. Best is trial 104 with value: 0.16667473275165642.\n",
      "[I 2025-06-07 07:44:34,313] Trial 128 finished with value: 0.1666747323822012 and parameters: {'alpha': 0.9776195665719387, 'tol': 0.00979197489875024, 'fit_intercept': False, 'positive': False}. Best is trial 104 with value: 0.16667473275165642.\n",
      "[I 2025-06-07 07:44:36,379] Trial 130 finished with value: 0.16667473274547884 and parameters: {'alpha': 0.9994293694401454, 'tol': 0.00965759106746936, 'fit_intercept': False, 'positive': False}. Best is trial 104 with value: 0.16667473275165642.\n",
      "[I 2025-06-07 07:44:36,574] Trial 131 finished with value: 0.16667473264282026 and parameters: {'alpha': 0.9932434238722415, 'tol': 0.00510907446452567, 'fit_intercept': False, 'positive': False}. Best is trial 104 with value: 0.16667473275165642.\n",
      "[I 2025-06-07 07:44:36,775] Trial 129 finished with value: 0.15798550106907808 and parameters: {'alpha': 0.9538527772164668, 'tol': 0.0031756915136244212, 'fit_intercept': False, 'positive': True}. Best is trial 104 with value: 0.16667473275165642.\n",
      "[I 2025-06-07 07:44:38,282] Trial 132 finished with value: 0.16667473231553467 and parameters: {'alpha': 0.9736412716033428, 'tol': 0.004618747081805496, 'fit_intercept': False, 'positive': False}. Best is trial 104 with value: 0.16667473275165642.\n",
      "[I 2025-06-07 07:44:40,159] Trial 134 finished with value: 0.16667473113680578 and parameters: {'alpha': 0.9044827751428614, 'tol': 0.00990726513556646, 'fit_intercept': False, 'positive': False}. Best is trial 104 with value: 0.16667473275165642.\n",
      "[I 2025-06-07 07:44:40,170] Trial 133 finished with value: 0.1666747313948117 and parameters: {'alpha': 0.9194343663265511, 'tol': 0.009634066427979157, 'fit_intercept': False, 'positive': False}. Best is trial 104 with value: 0.16667473275165642.\n",
      "[I 2025-06-07 07:44:40,579] Trial 135 finished with value: 0.16667472920608814 and parameters: {'alpha': 0.7956530855143731, 'tol': 0.009788798089901317, 'fit_intercept': False, 'positive': False}. Best is trial 104 with value: 0.16667473275165642.\n",
      "[I 2025-06-07 07:44:41,883] Trial 136 finished with value: 0.16667473272445532 and parameters: {'alpha': 0.9981610697905763, 'tol': 0.00935611497923033, 'fit_intercept': False, 'positive': False}. Best is trial 104 with value: 0.16667473275165642.\n",
      "[I 2025-06-07 07:44:43,914] Trial 138 finished with value: 0.16667473263223798 and parameters: {'alpha': 0.9926067917603721, 'tol': 0.0019499197618948977, 'fit_intercept': False, 'positive': False}. Best is trial 104 with value: 0.16667473275165642.\n",
      "[I 2025-06-07 07:44:43,916] Trial 137 finished with value: 0.16667473232754446 and parameters: {'alpha': 0.9743574037426885, 'tol': 0.009627737596093706, 'fit_intercept': False, 'positive': False}. Best is trial 104 with value: 0.16667473275165642.\n",
      "[I 2025-06-07 07:44:44,533] Trial 139 finished with value: 0.16667473255893375 and parameters: {'alpha': 0.9882019919310226, 'tol': 0.002819076492596848, 'fit_intercept': False, 'positive': False}. Best is trial 104 with value: 0.16667473275165642.\n",
      "[I 2025-06-07 07:44:45,629] Trial 140 finished with value: 0.16667473256661153 and parameters: {'alpha': 0.9886629119612192, 'tol': 0.008249601459681895, 'fit_intercept': False, 'positive': False}. Best is trial 104 with value: 0.16667473275165642.\n",
      "[I 2025-06-07 07:44:47,822] Trial 142 finished with value: 0.16667473223675822 and parameters: {'alpha': 0.968949826079672, 'tol': 0.008509847609002408, 'fit_intercept': False, 'positive': False}. Best is trial 104 with value: 0.16667473275165642.\n",
      "[I 2025-06-07 07:44:47,824] Trial 141 finished with value: 0.1666747313016373 and parameters: {'alpha': 0.9140231413554971, 'tol': 0.009996160252012129, 'fit_intercept': False, 'positive': False}. Best is trial 104 with value: 0.16667473275165642.\n",
      "[I 2025-06-07 07:44:48,287] Trial 143 finished with value: 0.16667473206887623 and parameters: {'alpha': 0.95898584205806, 'tol': 0.00994388053770234, 'fit_intercept': False, 'positive': False}. Best is trial 104 with value: 0.16667473275165642.\n",
      "[I 2025-06-07 07:44:49,204] Trial 144 finished with value: 0.16667472922792692 and parameters: {'alpha': 0.7968555169127947, 'tol': 0.0031254675965253355, 'fit_intercept': False, 'positive': False}. Best is trial 104 with value: 0.16667473275165642.\n",
      "[I 2025-06-07 07:44:51,616] Trial 146 finished with value: 0.16667472858089408 and parameters: {'alpha': 0.7614906705076198, 'tol': 0.0032384373702722294, 'fit_intercept': False, 'positive': False}. Best is trial 104 with value: 0.16667473275165642.\n",
      "[I 2025-06-07 07:44:51,621] Trial 145 finished with value: 0.16667473259586782 and parameters: {'alpha': 0.9904201932238113, 'tol': 0.0041553401624476825, 'fit_intercept': False, 'positive': False}. Best is trial 104 with value: 0.16667473275165642.\n",
      "[I 2025-06-07 07:44:52,073] Trial 147 finished with value: 0.16667472859780028 and parameters: {'alpha': 0.7624079433469606, 'tol': 0.004252731663364618, 'fit_intercept': False, 'positive': False}. Best is trial 104 with value: 0.16667473275165642.\n",
      "[I 2025-06-07 07:44:53,059] Trial 148 finished with value: 0.16667473250269102 and parameters: {'alpha': 0.9848285731032342, 'tol': 0.0034827103763364338, 'fit_intercept': False, 'positive': False}. Best is trial 104 with value: 0.16667473275165642.\n",
      "[I 2025-06-07 07:44:55,274] Trial 149 finished with value: 0.1666747326195372 and parameters: {'alpha': 0.9918429540653443, 'tol': 0.0030582487453257846, 'fit_intercept': False, 'positive': False}. Best is trial 104 with value: 0.16667473275165642.\n",
      "[I 2025-06-07 07:44:56,279] Trial 151 finished with value: 0.16667473265023489 and parameters: {'alpha': 0.9936896025111651, 'tol': 0.009390598467371178, 'fit_intercept': False, 'positive': False}. Best is trial 104 with value: 0.16667473275165642.\n",
      "[I 2025-06-07 07:44:56,311] Trial 150 finished with value: 0.1545348375412177 and parameters: {'alpha': 0.06702318519938466, 'tol': 0.0009604991277301989, 'fit_intercept': True, 'positive': True}. Best is trial 104 with value: 0.16667473275165642.\n",
      "[I 2025-06-07 07:44:56,685] Trial 152 finished with value: 0.166674732336171 and parameters: {'alpha': 0.9748719468233661, 'tol': 0.009513297374455386, 'fit_intercept': False, 'positive': False}. Best is trial 104 with value: 0.16667473275165642.\n",
      "[I 2025-06-07 07:44:58,868] Trial 153 finished with value: 0.16667473271117877 and parameters: {'alpha': 0.9973605270634557, 'tol': 0.0017946600281865451, 'fit_intercept': False, 'positive': False}. Best is trial 104 with value: 0.16667473275165642.\n",
      "[I 2025-06-07 07:44:59,843] Trial 155 finished with value: 0.16667473256778922 and parameters: {'alpha': 0.9887336267013462, 'tol': 0.00948992469313529, 'fit_intercept': False, 'positive': False}. Best is trial 104 with value: 0.16667473275165642.\n",
      "[I 2025-06-07 07:45:00,229] Trial 154 finished with value: 0.16667473130267596 and parameters: {'alpha': 0.9140833885602623, 'tol': 0.009971126408652494, 'fit_intercept': False, 'positive': False}. Best is trial 104 with value: 0.16667473275165642.\n",
      "[I 2025-06-07 07:45:00,410] Trial 156 finished with value: 0.16667473250908313 and parameters: {'alpha': 0.9852117055021317, 'tol': 0.002823990527203204, 'fit_intercept': False, 'positive': False}. Best is trial 104 with value: 0.16667473275165642.\n",
      "[I 2025-06-07 07:45:02,640] Trial 157 finished with value: 0.16667473272928662 and parameters: {'alpha': 0.9984524617205347, 'tol': 0.0033873303750829955, 'fit_intercept': False, 'positive': False}. Best is trial 104 with value: 0.16667473275165642.\n",
      "[I 2025-06-07 07:45:04,173] Trial 160 finished with value: 0.16667473155193957 and parameters: {'alpha': 0.9285900861595522, 'tol': 0.001799724406568587, 'fit_intercept': False, 'positive': False}. Best is trial 104 with value: 0.16667473275165642.\n",
      "[I 2025-06-07 07:45:04,180] Trial 159 finished with value: 0.16667473188553547 and parameters: {'alpha': 0.948156677402666, 'tol': 0.002236269004168111, 'fit_intercept': False, 'positive': False}. Best is trial 104 with value: 0.16667473275165642.\n",
      "[I 2025-06-07 07:45:04,237] Trial 158 finished with value: 0.1360508418697625 and parameters: {'alpha': 0.9924202417994591, 'tol': 0.005790879794083223, 'fit_intercept': True, 'positive': True}. Best is trial 104 with value: 0.16667473275165642.\n",
      "[I 2025-06-07 07:45:05,933] Trial 161 finished with value: 0.16667473213951658 and parameters: {'alpha': 0.9631728070467307, 'tol': 0.0017189320331657547, 'fit_intercept': False, 'positive': False}. Best is trial 104 with value: 0.16667473275165642.\n",
      "[I 2025-06-07 07:45:07,880] Trial 162 finished with value: 0.16667473265533111 and parameters: {'alpha': 0.993996333229244, 'tol': 0.0021162752715515112, 'fit_intercept': False, 'positive': False}. Best is trial 104 with value: 0.16667473275165642.\n",
      "[I 2025-06-07 07:45:08,110] Trial 163 finished with value: 0.16667473266316543 and parameters: {'alpha': 0.9944679381517023, 'tol': 0.0032348636095326584, 'fit_intercept': False, 'positive': False}. Best is trial 104 with value: 0.16667473275165642.\n",
      "[I 2025-06-07 07:45:08,371] Trial 164 finished with value: 0.14198062148758717 and parameters: {'alpha': 0.9878872144149943, 'tol': 0.009857850610977135, 'fit_intercept': False, 'positive': True}. Best is trial 104 with value: 0.16667473275165642.\n",
      "[I 2025-06-07 07:45:09,491] Trial 165 finished with value: 0.16667473259406498 and parameters: {'alpha': 0.9903118633616191, 'tol': 0.004823121735391875, 'fit_intercept': False, 'positive': False}. Best is trial 104 with value: 0.16667473275165642.\n",
      "[I 2025-06-07 07:45:11,558] Trial 166 finished with value: 0.16667473268782856 and parameters: {'alpha': 0.9959532895126921, 'tol': 0.004034249926199835, 'fit_intercept': False, 'positive': False}. Best is trial 104 with value: 0.16667473275165642.\n",
      "[I 2025-06-07 07:45:12,108] Trial 167 finished with value: 0.16667473251567683 and parameters: {'alpha': 0.9856069878365878, 'tol': 0.003411725781294203, 'fit_intercept': False, 'positive': False}. Best is trial 104 with value: 0.16667473275165642.\n",
      "[I 2025-06-07 07:45:12,161] Trial 168 finished with value: 0.1666747324017746 and parameters: {'alpha': 0.9787890099707846, 'tol': 0.004992841596974321, 'fit_intercept': False, 'positive': False}. Best is trial 104 with value: 0.16667473275165642.\n",
      "[I 2025-06-07 07:45:13,262] Trial 169 finished with value: 0.166674732628457 and parameters: {'alpha': 0.992379372511019, 'tol': 0.004902611787973924, 'fit_intercept': False, 'positive': False}. Best is trial 104 with value: 0.16667473275165642.\n",
      "[I 2025-06-07 07:45:15,320] Trial 170 finished with value: 0.16360838458028776 and parameters: {'alpha': 0.8369171799607356, 'tol': 0.0001992708902506888, 'fit_intercept': True, 'positive': False}. Best is trial 104 with value: 0.16667473275165642.\n",
      "[I 2025-06-07 07:45:15,870] Trial 171 finished with value: 0.16667471692388172 and parameters: {'alpha': 0.1968864064684409, 'tol': 0.005047576165758902, 'fit_intercept': False, 'positive': False}. Best is trial 104 with value: 0.16667473275165642.\n",
      "[I 2025-06-07 07:45:15,912] Trial 172 finished with value: 0.16667472912634063 and parameters: {'alpha': 0.7912675071059627, 'tol': 0.005040966725675717, 'fit_intercept': False, 'positive': False}. Best is trial 104 with value: 0.16667473275165642.\n",
      "[I 2025-06-07 07:45:17,021] Trial 173 finished with value: 0.16360837341465861 and parameters: {'alpha': 0.8524896154073, 'tol': 0.0007198989788679252, 'fit_intercept': True, 'positive': False}. Best is trial 104 with value: 0.16667473275165642.\n",
      "[I 2025-06-07 07:45:19,063] Trial 174 finished with value: 0.16667473264850316 and parameters: {'alpha': 0.9935853870971831, 'tol': 0.0031462965483275256, 'fit_intercept': False, 'positive': False}. Best is trial 104 with value: 0.16667473275165642.\n",
      "[I 2025-06-07 07:45:19,638] Trial 176 finished with value: 0.1666747326648843 and parameters: {'alpha': 0.9945714224074247, 'tol': 0.0025612864010004367, 'fit_intercept': False, 'positive': False}. Best is trial 104 with value: 0.16667473275165642.\n",
      "[I 2025-06-07 07:45:20,007] Trial 175 finished with value: 0.16667472932981195 and parameters: {'alpha': 0.8024735264640013, 'tol': 0.0038162109702407215, 'fit_intercept': False, 'positive': False}. Best is trial 104 with value: 0.16667473275165642.\n",
      "[I 2025-06-07 07:45:20,790] Trial 177 finished with value: 0.16667473268772295 and parameters: {'alpha': 0.9959469263671601, 'tol': 0.003442584262937031, 'fit_intercept': False, 'positive': False}. Best is trial 104 with value: 0.16667473275165642.\n",
      "[I 2025-06-07 07:45:22,676] Trial 178 finished with value: 0.16667473270147717 and parameters: {'alpha': 0.9967757320416207, 'tol': 0.004509190029466594, 'fit_intercept': False, 'positive': False}. Best is trial 104 with value: 0.16667473275165642.\n",
      "[I 2025-06-07 07:45:23,280] Trial 179 finished with value: 0.16667473008641528 and parameters: {'alpha': 0.8446279308530156, 'tol': 0.003836023027605226, 'fit_intercept': False, 'positive': False}. Best is trial 104 with value: 0.16667473275165642.\n",
      "[I 2025-06-07 07:45:23,822] Trial 180 finished with value: 0.16667473259172122 and parameters: {'alpha': 0.9901710385471892, 'tol': 0.004941308705565477, 'fit_intercept': False, 'positive': False}. Best is trial 104 with value: 0.16667473275165642.\n",
      "[I 2025-06-07 07:45:24,406] Trial 181 finished with value: 0.16360858729890979 and parameters: {'alpha': 0.5535913574146055, 'tol': 0.0024132310000704997, 'fit_intercept': True, 'positive': False}. Best is trial 104 with value: 0.16667473275165642.\n",
      "[I 2025-06-07 07:45:26,606] Trial 182 finished with value: 0.16667473267183738 and parameters: {'alpha': 0.9949900952849863, 'tol': 0.004490905655436529, 'fit_intercept': False, 'positive': False}. Best is trial 104 with value: 0.16667473275165642.\n",
      "[I 2025-06-07 07:45:27,181] Trial 183 finished with value: 0.16667473235116412 and parameters: {'alpha': 0.9757665241249975, 'tol': 0.004304084824557329, 'fit_intercept': False, 'positive': False}. Best is trial 104 with value: 0.16667473275165642.\n",
      "[I 2025-06-07 07:45:27,581] Trial 184 finished with value: 0.1666747320418988 and parameters: {'alpha': 0.9573889869427006, 'tol': 0.004345143704284432, 'fit_intercept': False, 'positive': False}. Best is trial 104 with value: 0.16667473275165642.\n",
      "[I 2025-06-07 07:45:28,135] Trial 185 finished with value: 0.16667473133640956 and parameters: {'alpha': 0.9160410298171404, 'tol': 0.004373288499610134, 'fit_intercept': False, 'positive': False}. Best is trial 104 with value: 0.16667473275165642.\n",
      "[I 2025-06-07 07:45:30,360] Trial 186 finished with value: 0.16667473258478557 and parameters: {'alpha': 0.9897543693330778, 'tol': 0.00436829183743976, 'fit_intercept': False, 'positive': False}. Best is trial 104 with value: 0.16667473275165642.\n",
      "[I 2025-06-07 07:45:30,947] Trial 187 finished with value: 0.1666747320793293 and parameters: {'alpha': 0.9596049004024596, 'tol': 0.004354166051464442, 'fit_intercept': False, 'positive': False}. Best is trial 104 with value: 0.16667473275165642.\n",
      "[I 2025-06-07 07:45:31,865] Trial 188 finished with value: 0.16667472993190213 and parameters: {'alpha': 0.8359558346414444, 'tol': 0.002747998553064827, 'fit_intercept': False, 'positive': False}. Best is trial 104 with value: 0.16667473275165642.\n",
      "[I 2025-06-07 07:45:31,897] Trial 189 finished with value: 0.16667473272343802 and parameters: {'alpha': 0.998099722491983, 'tol': 0.0028900707505342604, 'fit_intercept': False, 'positive': False}. Best is trial 104 with value: 0.16667473275165642.\n",
      "[I 2025-06-07 07:45:33,948] Trial 190 finished with value: 0.16667473238308525 and parameters: {'alpha': 0.9776723744107594, 'tol': 0.0024800745103062214, 'fit_intercept': False, 'positive': False}. Best is trial 104 with value: 0.16667473275165642.\n",
      "[I 2025-06-07 07:45:34,542] Trial 191 finished with value: 0.166674732752748 and parameters: {'alpha': 0.9998680765805236, 'tol': 0.003417136783434321, 'fit_intercept': False, 'positive': False}. Best is trial 191 with value: 0.166674732752748.\n",
      "[I 2025-06-07 07:45:35,330] Trial 193 finished with value: 0.16667472953672688 and parameters: {'alpha': 0.8139251560953309, 'tol': 0.007443580764660256, 'fit_intercept': False, 'positive': False}. Best is trial 191 with value: 0.166674732752748.\n",
      "[I 2025-06-07 07:45:35,702] Trial 192 finished with value: 0.16667472912005654 and parameters: {'alpha': 0.7909222714166045, 'tol': 0.008017109024990369, 'fit_intercept': False, 'positive': False}. Best is trial 191 with value: 0.166674732752748.\n",
      "[I 2025-06-07 07:45:37,607] Trial 194 finished with value: 0.16667473275483016 and parameters: {'alpha': 0.9999937497346454, 'tol': 0.0026143836496981122, 'fit_intercept': False, 'positive': False}. Best is trial 194 with value: 0.16667473275483016.\n",
      "[I 2025-06-07 07:45:38,951] Trial 195 finished with value: 0.1419807408419809 and parameters: {'alpha': 0.06341994760106195, 'tol': 0.007203628313102166, 'fit_intercept': False, 'positive': True}. Best is trial 194 with value: 0.16667473275483016.\n",
      "[I 2025-06-07 07:45:38,983] Trial 196 finished with value: 0.16667472960918434 and parameters: {'alpha': 0.8179487752180457, 'tol': 0.0024696262491932888, 'fit_intercept': False, 'positive': False}. Best is trial 194 with value: 0.16667473275483016.\n",
      "[I 2025-06-07 07:45:39,634] Trial 197 finished with value: 0.16667473261717325 and parameters: {'alpha': 0.9917008173270093, 'tol': 0.002793406124099995, 'fit_intercept': False, 'positive': False}. Best is trial 194 with value: 0.16667473275483016.\n",
      "[I 2025-06-07 07:45:41,498] Trial 198 finished with value: 0.16667473188235715 and parameters: {'alpha': 0.9479694243384995, 'tol': 0.0013382905010751516, 'fit_intercept': False, 'positive': False}. Best is trial 194 with value: 0.16667473275483016.\n",
      "[I 2025-06-07 07:45:42,643] Trial 199 finished with value: 0.16667473204572028 and parameters: {'alpha': 0.9576151157019915, 'tol': 0.0013953872067908302, 'fit_intercept': False, 'positive': False}. Best is trial 194 with value: 0.16667473275483016.\n",
      "[I 2025-06-07 07:45:42,866] Trial 200 finished with value: 0.16667473242696915 and parameters: {'alpha': 0.9802952322034117, 'tol': 0.0024641547007414723, 'fit_intercept': False, 'positive': False}. Best is trial 194 with value: 0.16667473275483016.\n",
      "[I 2025-06-07 07:45:43,653] Trial 201 finished with value: 0.16667473257909263 and parameters: {'alpha': 0.9894124170115681, 'tol': 0.0013955186906679665, 'fit_intercept': False, 'positive': False}. Best is trial 194 with value: 0.16667473275483016.\n",
      "[I 2025-06-07 07:45:45,722] Trial 202 finished with value: 0.1362700557253049 and parameters: {'alpha': 0.6439254689847024, 'tol': 0.008892321469874278, 'fit_intercept': True, 'positive': True}. Best is trial 194 with value: 0.16667473275483016.\n",
      "[I 2025-06-07 07:45:46,278] Trial 203 finished with value: 0.1666747326430421 and parameters: {'alpha': 0.9932567750469854, 'tol': 0.009008916794720979, 'fit_intercept': False, 'positive': False}. Best is trial 194 with value: 0.16667473275483016.\n",
      "[I 2025-06-07 07:45:46,341] Trial 204 finished with value: 0.16667473272727695 and parameters: {'alpha': 0.9983312516384973, 'tol': 0.002356325018855236, 'fit_intercept': False, 'positive': False}. Best is trial 194 with value: 0.16667473275483016.\n",
      "[I 2025-06-07 07:45:47,622] Trial 205 finished with value: 0.16667473274682593 and parameters: {'alpha': 0.9995106559164002, 'tol': 0.0035005681325560316, 'fit_intercept': False, 'positive': False}. Best is trial 194 with value: 0.16667473275483016.\n",
      "[I 2025-06-07 07:45:49,493] Trial 206 finished with value: 0.16667473244051326 and parameters: {'alpha': 0.981105391502797, 'tol': 0.009170487460445164, 'fit_intercept': False, 'positive': False}. Best is trial 194 with value: 0.16667473275483016.\n",
      "[I 2025-06-07 07:45:49,903] Trial 207 finished with value: 0.16667473228815916 and parameters: {'alpha': 0.9720097908874932, 'tol': 0.0035578997645848895, 'fit_intercept': False, 'positive': False}. Best is trial 194 with value: 0.16667473275483016.\n",
      "[I 2025-06-07 07:45:50,123] Trial 208 finished with value: 0.16667473250449438 and parameters: {'alpha': 0.984936666032662, 'tol': 0.00976018573819506, 'fit_intercept': False, 'positive': False}. Best is trial 194 with value: 0.16667473275483016.\n",
      "[I 2025-06-07 07:45:51,793] Trial 209 finished with value: 0.1666747326571817 and parameters: {'alpha': 0.9941077218637149, 'tol': 0.0026927223549269744, 'fit_intercept': False, 'positive': False}. Best is trial 194 with value: 0.16667473275483016.\n",
      "[I 2025-06-07 07:45:53,114] Trial 210 finished with value: 0.16667473273354616 and parameters: {'alpha': 0.9987094100366763, 'tol': 0.0025172141974014453, 'fit_intercept': False, 'positive': False}. Best is trial 194 with value: 0.16667473275483016.\n",
      "[I 2025-06-07 07:45:53,514] Trial 211 finished with value: 0.1666747327332513 and parameters: {'alpha': 0.9986916205337428, 'tol': 0.001240373593794464, 'fit_intercept': False, 'positive': False}. Best is trial 194 with value: 0.16667473275483016.\n",
      "[I 2025-06-07 07:45:53,736] Trial 212 finished with value: 0.16667473267316602 and parameters: {'alpha': 0.9950701055913759, 'tol': 0.0022544018681558177, 'fit_intercept': False, 'positive': False}. Best is trial 194 with value: 0.16667473275483016.\n",
      "[I 2025-06-07 07:45:55,597] Trial 213 finished with value: 0.1666747323026362 and parameters: {'alpha': 0.9728724186777195, 'tol': 0.0016714206265819702, 'fit_intercept': False, 'positive': False}. Best is trial 194 with value: 0.16667473275483016.\n",
      "[I 2025-06-07 07:45:56,894] Trial 214 finished with value: 0.16667472986624401 and parameters: {'alpha': 0.8322807239403769, 'tol': 0.002272801586332124, 'fit_intercept': False, 'positive': False}. Best is trial 194 with value: 0.16667473275483016.\n",
      "[I 2025-06-07 07:45:57,448] Trial 215 finished with value: 0.16360827282484977 and parameters: {'alpha': 0.9926255252394184, 'tol': 0.006697610052315009, 'fit_intercept': True, 'positive': False}. Best is trial 194 with value: 0.16667473275483016.\n",
      "[I 2025-06-07 07:45:57,504] Trial 216 finished with value: 0.16667473112061662 and parameters: {'alpha': 0.9035479709583298, 'tol': 0.0008192933377629249, 'fit_intercept': False, 'positive': False}. Best is trial 194 with value: 0.16667473275483016.\n",
      "[I 2025-06-07 07:45:59,527] Trial 217 finished with value: 0.16667473273820632 and parameters: {'alpha': 0.9989905506712096, 'tol': 0.0013655842345582597, 'fit_intercept': False, 'positive': False}. Best is trial 194 with value: 0.16667473275483016.\n",
      "[I 2025-06-07 07:46:00,836] Trial 218 finished with value: 0.16667473022453516 and parameters: {'alpha': 0.8524080822856378, 'tol': 0.0006087932549486141, 'fit_intercept': False, 'positive': False}. Best is trial 194 with value: 0.16667473275483016.\n",
      "[I 2025-06-07 07:46:00,901] Trial 219 finished with value: 0.16667472888273063 and parameters: {'alpha': 0.777921546557153, 'tol': 0.0012749016425731463, 'fit_intercept': False, 'positive': False}. Best is trial 194 with value: 0.16667473275483016.\n",
      "[I 2025-06-07 07:46:01,286] Trial 220 finished with value: 0.1666747325943978 and parameters: {'alpha': 0.9903318595372406, 'tol': 0.002056742153245128, 'fit_intercept': False, 'positive': False}. Best is trial 194 with value: 0.16667473275483016.\n",
      "[I 2025-06-07 07:46:03,684] Trial 221 finished with value: 0.1666747325179753 and parameters: {'alpha': 0.9857447967478723, 'tol': 8.173285388276652e-05, 'fit_intercept': False, 'positive': False}. Best is trial 194 with value: 0.16667473275483016.\n",
      "[I 2025-06-07 07:46:04,456] Trial 222 finished with value: 0.16667473222011706 and parameters: {'alpha': 0.9679600957742956, 'tol': 0.001282005685663404, 'fit_intercept': False, 'positive': False}. Best is trial 194 with value: 0.16667473275483016.\n",
      "[I 2025-06-07 07:46:04,680] Trial 223 finished with value: 0.16667473193914545 and parameters: {'alpha': 0.9513175844318565, 'tol': 0.0008044712101532519, 'fit_intercept': False, 'positive': False}. Best is trial 194 with value: 0.16667473275483016.\n",
      "[I 2025-06-07 07:46:04,915] Trial 224 finished with value: 0.16667473233921884 and parameters: {'alpha': 0.9750537654523249, 'tol': 0.002433596454423038, 'fit_intercept': False, 'positive': False}. Best is trial 194 with value: 0.16667473275483016.\n",
      "[I 2025-06-07 07:46:07,661] Trial 225 finished with value: 0.16667473270164698 and parameters: {'alpha': 0.9967859641748602, 'tol': 0.0032229062686413576, 'fit_intercept': False, 'positive': False}. Best is trial 194 with value: 0.16667473275483016.\n",
      "[I 2025-06-07 07:46:08,065] Trial 226 finished with value: 0.16667473260948534 and parameters: {'alpha': 0.9912386231330975, 'tol': 0.001607311856617413, 'fit_intercept': False, 'positive': False}. Best is trial 194 with value: 0.16667473275483016.\n",
      "[I 2025-06-07 07:46:08,608] Trial 227 finished with value: 0.16667473206802963 and parameters: {'alpha': 0.9589357098861561, 'tol': 0.002139656734973348, 'fit_intercept': False, 'positive': False}. Best is trial 194 with value: 0.16667473275483016.\n",
      "[I 2025-06-07 07:46:08,666] Trial 228 finished with value: 0.16667473266862765 and parameters: {'alpha': 0.994796812984128, 'tol': 0.0035161135146661235, 'fit_intercept': False, 'positive': False}. Best is trial 194 with value: 0.16667473275483016.\n",
      "[I 2025-06-07 07:46:11,725] Trial 229 finished with value: 0.16667473258349325 and parameters: {'alpha': 0.9896767383420396, 'tol': 0.001761581562385062, 'fit_intercept': False, 'positive': False}. Best is trial 194 with value: 0.16667473275483016.\n",
      "[I 2025-06-07 07:46:11,932] Trial 230 finished with value: 0.16667473266173238 and parameters: {'alpha': 0.9943816671432693, 'tol': 0.0025900342001566904, 'fit_intercept': False, 'positive': False}. Best is trial 194 with value: 0.16667473275483016.\n",
      "[I 2025-06-07 07:46:12,371] Trial 231 finished with value: 0.1666747298825313 and parameters: {'alpha': 0.8331918231775939, 'tol': 0.002934654506686828, 'fit_intercept': False, 'positive': False}. Best is trial 194 with value: 0.16667473275483016.\n",
      "[I 2025-06-07 07:46:12,713] Trial 232 finished with value: 0.16667472940182645 and parameters: {'alpha': 0.8064526917953789, 'tol': 0.0027142229791298177, 'fit_intercept': False, 'positive': False}. Best is trial 194 with value: 0.16667473275483016.\n",
      "[I 2025-06-07 07:46:15,691] Trial 234 finished with value: 0.16667473274041467 and parameters: {'alpha': 0.9991237896174939, 'tol': 0.008652961846549415, 'fit_intercept': False, 'positive': False}. Best is trial 194 with value: 0.16667473275483016.\n",
      "[I 2025-06-07 07:46:15,714] Trial 233 finished with value: 0.16667473256232263 and parameters: {'alpha': 0.9884054253118892, 'tol': 0.008652648508633532, 'fit_intercept': False, 'positive': False}. Best is trial 194 with value: 0.16667473275483016.\n",
      "[I 2025-06-07 07:46:16,106] Trial 235 finished with value: 0.16667473261527074 and parameters: {'alpha': 0.9915864312388669, 'tol': 0.009773199003507788, 'fit_intercept': False, 'positive': False}. Best is trial 194 with value: 0.16667473275483016.\n",
      "[I 2025-06-07 07:46:16,170] Trial 236 finished with value: 0.16667473026456983 and parameters: {'alpha': 0.8546682006174353, 'tol': 0.0035424284670681786, 'fit_intercept': False, 'positive': False}. Best is trial 194 with value: 0.16667473275483016.\n",
      "[I 2025-06-07 07:46:19,612] Trial 237 finished with value: 0.16667473275139072 and parameters: {'alpha': 0.9997861536106247, 'tol': 0.007993143192240142, 'fit_intercept': False, 'positive': False}. Best is trial 194 with value: 0.16667473275483016.\n",
      "[I 2025-06-07 07:46:19,669] Trial 239 finished with value: 0.16667473082217268 and parameters: {'alpha': 0.8863853069591358, 'tol': 0.007884797522211039, 'fit_intercept': False, 'positive': False}. Best is trial 194 with value: 0.16667473275483016.\n",
      "[I 2025-06-07 07:46:19,916] Trial 240 finished with value: 0.16667473098010158 and parameters: {'alpha': 0.8954508232310797, 'tol': 0.008095232250789732, 'fit_intercept': False, 'positive': False}. Best is trial 194 with value: 0.16667473275483016.\n",
      "[I 2025-06-07 07:46:20,488] Trial 238 finished with value: 0.15798578584104894 and parameters: {'alpha': 0.6686495296466693, 'tol': 0.0016682607217210531, 'fit_intercept': False, 'positive': True}. Best is trial 194 with value: 0.16667473275483016.\n",
      "[I 2025-06-07 07:46:23,246] Trial 241 finished with value: 0.16667473072444036 and parameters: {'alpha': 0.8807936389478446, 'tol': 0.007313356408911712, 'fit_intercept': False, 'positive': False}. Best is trial 194 with value: 0.16667473275483016.\n",
      "[I 2025-06-07 07:46:23,298] Trial 242 finished with value: 0.1666747323106828 and parameters: {'alpha': 0.9733520282573751, 'tol': 0.007927421049407284, 'fit_intercept': False, 'positive': False}. Best is trial 194 with value: 0.16667473275483016.\n",
      "[I 2025-06-07 07:46:23,691] Trial 243 finished with value: 0.16667473272649852 and parameters: {'alpha': 0.9982843013577603, 'tol': 0.006922027833839524, 'fit_intercept': False, 'positive': False}. Best is trial 194 with value: 0.16667473275483016.\n",
      "[I 2025-06-07 07:46:24,606] Trial 244 finished with value: 0.16667473262102467 and parameters: {'alpha': 0.9919323997539411, 'tol': 0.006522546607527208, 'fit_intercept': False, 'positive': False}. Best is trial 194 with value: 0.16667473275483016.\n",
      "[I 2025-06-07 07:46:26,865] Trial 245 finished with value: 0.1666747319902392 and parameters: {'alpha': 0.9543344376349348, 'tol': 0.007279259540682172, 'fit_intercept': False, 'positive': False}. Best is trial 194 with value: 0.16667473275483016.\n",
      "[I 2025-06-07 07:46:27,060] Trial 246 finished with value: 0.1666747322368433 and parameters: {'alpha': 0.9689548884203742, 'tol': 0.008594459967652334, 'fit_intercept': False, 'positive': False}. Best is trial 194 with value: 0.16667473275483016.\n",
      "[I 2025-06-07 07:46:27,304] Trial 247 finished with value: 0.16667473199690794 and parameters: {'alpha': 0.954728508284694, 'tol': 0.007839106295306339, 'fit_intercept': False, 'positive': False}. Best is trial 194 with value: 0.16667473275483016.\n",
      "[I 2025-06-07 07:46:28,590] Trial 248 finished with value: 0.1666747318094037 and parameters: {'alpha': 0.9436757527701012, 'tol': 0.007109061759345857, 'fit_intercept': False, 'positive': False}. Best is trial 194 with value: 0.16667473275483016.\n",
      "[I 2025-06-07 07:46:30,651] Trial 249 finished with value: 0.16667473216748455 and parameters: {'alpha': 0.9648327603042679, 'tol': 0.007906867262767785, 'fit_intercept': False, 'positive': False}. Best is trial 194 with value: 0.16667473275483016.\n",
      "[I 2025-06-07 07:46:30,718] Trial 250 finished with value: 0.166674728660742 and parameters: {'alpha': 0.7658261197214391, 'tol': 0.009470818992632817, 'fit_intercept': False, 'positive': False}. Best is trial 194 with value: 0.16667473275483016.\n",
      "[I 2025-06-07 07:46:31,100] Trial 251 finished with value: 0.16667473250072007 and parameters: {'alpha': 0.984710459693869, 'tol': 0.008738476294273684, 'fit_intercept': False, 'positive': False}. Best is trial 194 with value: 0.16667473275483016.\n",
      "[I 2025-06-07 07:46:32,597] Trial 252 finished with value: 0.16667473207935252 and parameters: {'alpha': 0.9596062747983141, 'tol': 0.007879261631820768, 'fit_intercept': False, 'positive': False}. Best is trial 194 with value: 0.16667473275483016.\n",
      "[I 2025-06-07 07:46:34,318] Trial 253 finished with value: 0.16667472872702468 and parameters: {'alpha': 0.7694311125290073, 'tol': 0.009877562976675486, 'fit_intercept': False, 'positive': False}. Best is trial 194 with value: 0.16667473275483016.\n",
      "[I 2025-06-07 07:46:34,693] Trial 254 finished with value: 0.16667473223220058 and parameters: {'alpha': 0.9686787147879231, 'tol': 0.00966138534500841, 'fit_intercept': False, 'positive': False}. Best is trial 194 with value: 0.16667473275483016.\n",
      "[I 2025-06-07 07:46:34,742] Trial 255 finished with value: 0.16667473236512148 and parameters: {'alpha': 0.9765996391426063, 'tol': 0.009133993429213961, 'fit_intercept': False, 'positive': False}. Best is trial 194 with value: 0.16667473275483016.\n",
      "[I 2025-06-07 07:46:37,421] Trial 256 finished with value: 0.14908587674253504 and parameters: {'alpha': 0.9045254903782246, 'tol': 0.005208466777763179, 'fit_intercept': False, 'positive': True}. Best is trial 194 with value: 0.16667473275483016.\n",
      "[I 2025-06-07 07:46:38,066] Trial 258 finished with value: 0.16667473236711253 and parameters: {'alpha': 0.976718512239203, 'tol': 0.009753439558466317, 'fit_intercept': False, 'positive': False}. Best is trial 194 with value: 0.16667473275483016.\n",
      "[I 2025-06-07 07:46:38,607] Trial 259 finished with value: 0.16667473252619153 and parameters: {'alpha': 0.9862374808878708, 'tol': 0.003189775618942416, 'fit_intercept': False, 'positive': False}. Best is trial 194 with value: 0.16667473275483016.\n",
      "[I 2025-06-07 07:46:38,632] Trial 257 finished with value: 0.1540301726785887 and parameters: {'alpha': 0.9498783701838236, 'tol': 0.003866760377442477, 'fit_intercept': False, 'positive': True}. Best is trial 194 with value: 0.16667473275483016.\n",
      "[I 2025-06-07 07:46:41,617] Trial 260 finished with value: 0.1666747324941601 and parameters: {'alpha': 0.9843173629071005, 'tol': 0.0030247239768812877, 'fit_intercept': False, 'positive': False}. Best is trial 194 with value: 0.16667473275483016.\n",
      "[I 2025-06-07 07:46:42,015] Trial 261 finished with value: 0.16667473262463878 and parameters: {'alpha': 0.9921497376493986, 'tol': 0.002206131020265867, 'fit_intercept': False, 'positive': False}. Best is trial 194 with value: 0.16667473275483016.\n",
      "[I 2025-06-07 07:46:42,258] Trial 263 finished with value: 0.16667473268931943 and parameters: {'alpha': 0.9960431115279258, 'tol': 0.0014450110394321307, 'fit_intercept': False, 'positive': False}. Best is trial 194 with value: 0.16667473275483016.\n",
      "[I 2025-06-07 07:46:42,523] Trial 262 finished with value: 0.16360828646370698 and parameters: {'alpha': 0.97364090062605, 'tol': 0.0030586515968414, 'fit_intercept': True, 'positive': False}. Best is trial 194 with value: 0.16667473275483016.\n",
      "[I 2025-06-07 07:46:45,754] Trial 264 finished with value: 0.16667473266375862 and parameters: {'alpha': 0.9945036513376342, 'tol': 0.0058619095095700825, 'fit_intercept': False, 'positive': False}. Best is trial 194 with value: 0.16667473275483016.\n",
      "[I 2025-06-07 07:46:45,962] Trial 265 finished with value: 0.16667473274734634 and parameters: {'alpha': 0.9995420666461843, 'tol': 0.001749814711982321, 'fit_intercept': False, 'positive': False}. Best is trial 194 with value: 0.16667473275483016.\n",
      "[I 2025-06-07 07:46:46,021] Trial 266 finished with value: 0.16667473272750252 and parameters: {'alpha': 0.9983448562611017, 'tol': 0.006981329519591259, 'fit_intercept': False, 'positive': False}. Best is trial 194 with value: 0.16667473275483016.\n",
      "[I 2025-06-07 07:46:46,420] Trial 267 finished with value: 0.16667473253056722 and parameters: {'alpha': 0.9864999108029651, 'tol': 0.006481573434221206, 'fit_intercept': False, 'positive': False}. Best is trial 194 with value: 0.16667473275483016.\n",
      "[I 2025-06-07 07:46:49,714] Trial 268 finished with value: 0.16667472953476378 and parameters: {'alpha': 0.8138162352564601, 'tol': 0.0058802146927555005, 'fit_intercept': False, 'positive': False}. Best is trial 194 with value: 0.16667473275483016.\n",
      "[I 2025-06-07 07:46:49,955] Trial 270 finished with value: 0.1666747324324161 and parameters: {'alpha': 0.9806210106449581, 'tol': 0.006302525824705857, 'fit_intercept': False, 'positive': False}. Best is trial 194 with value: 0.16667473275483016.\n",
      "[I 2025-06-07 07:46:49,959] Trial 269 finished with value: 0.16360876464691348 and parameters: {'alpha': 0.3047853922059749, 'tol': 0.00558255750444489, 'fit_intercept': True, 'positive': False}. Best is trial 194 with value: 0.16667473275483016.\n",
      "[I 2025-06-07 07:46:50,009] Trial 271 finished with value: 0.166674732705523 and parameters: {'alpha': 0.9970195845740681, 'tol': 0.006381389580304652, 'fit_intercept': False, 'positive': False}. Best is trial 194 with value: 0.16667473275483016.\n",
      "[I 2025-06-07 07:46:53,578] Trial 273 finished with value: 0.1666747325912973 and parameters: {'alpha': 0.9901455659223382, 'tol': 0.007751168038147722, 'fit_intercept': False, 'positive': False}. Best is trial 194 with value: 0.16667473275483016.\n",
      "[I 2025-06-07 07:46:53,623] Trial 274 finished with value: 0.16667473274236982 and parameters: {'alpha': 0.9992417647397065, 'tol': 0.009492970017329795, 'fit_intercept': False, 'positive': False}. Best is trial 194 with value: 0.16667473275483016.\n",
      "[I 2025-06-07 07:46:53,663] Trial 275 finished with value: 0.16667473265977134 and parameters: {'alpha': 0.9942636111782484, 'tol': 0.008001097595476804, 'fit_intercept': False, 'positive': False}. Best is trial 194 with value: 0.16667473275483016.\n",
      "[I 2025-06-07 07:46:53,879] Trial 272 finished with value: 0.1419806218310566 and parameters: {'alpha': 0.9852268646449974, 'tol': 0.00727876880946753, 'fit_intercept': False, 'positive': True}. Best is trial 194 with value: 0.16667473275483016.\n",
      "[I 2025-06-07 07:46:57,175] Trial 276 finished with value: 0.16667473274728856 and parameters: {'alpha': 0.9995385746768216, 'tol': 0.009801780698917385, 'fit_intercept': False, 'positive': False}. Best is trial 194 with value: 0.16667473275483016.\n",
      "[I 2025-06-07 07:46:57,381] Trial 277 finished with value: 0.16667473271445848 and parameters: {'alpha': 0.9975582538439006, 'tol': 0.0010564798118506654, 'fit_intercept': False, 'positive': False}. Best is trial 194 with value: 0.16667473275483016.\n",
      "[I 2025-06-07 07:46:57,411] Trial 278 finished with value: 0.1666747326775657 and parameters: {'alpha': 0.9953350731075815, 'tol': 0.002002560430319135, 'fit_intercept': False, 'positive': False}. Best is trial 194 with value: 0.16667473275483016.\n",
      "[I 2025-06-07 07:46:57,841] Trial 279 finished with value: 0.16667472921187415 and parameters: {'alpha': 0.7959715976210342, 'tol': 0.0025857052564791792, 'fit_intercept': False, 'positive': False}. Best is trial 194 with value: 0.16667473275483016.\n",
      "[I 2025-06-07 07:47:00,937] Trial 280 finished with value: 0.16667473246677464 and parameters: {'alpha': 0.9826771206262792, 'tol': 0.009423080295365286, 'fit_intercept': False, 'positive': False}. Best is trial 194 with value: 0.16667473275483016.\n",
      "[I 2025-06-07 07:47:01,150] Trial 282 finished with value: 0.1666747324444766 and parameters: {'alpha': 0.9813425125016475, 'tol': 0.009750882577407234, 'fit_intercept': False, 'positive': False}. Best is trial 194 with value: 0.16667473275483016.\n",
      "[I 2025-06-07 07:47:01,168] Trial 281 finished with value: 0.16667473067870148 and parameters: {'alpha': 0.8781815351256109, 'tol': 0.009890469262513435, 'fit_intercept': False, 'positive': False}. Best is trial 194 with value: 0.16667473275483016.\n",
      "[I 2025-06-07 07:47:01,939] Trial 283 finished with value: 0.16667472938358344 and parameters: {'alpha': 0.8054440241651002, 'tol': 0.009592082334015484, 'fit_intercept': False, 'positive': False}. Best is trial 194 with value: 0.16667473275483016.\n",
      "[I 2025-06-07 07:47:04,394] Trial 284 finished with value: 0.16667473096981653 and parameters: {'alpha': 0.8948593051215372, 'tol': 0.00928803925697115, 'fit_intercept': False, 'positive': False}. Best is trial 194 with value: 0.16667473275483016.\n",
      "[I 2025-06-07 07:47:04,926] Trial 286 finished with value: 0.16667472909365108 and parameters: {'alpha': 0.7894721869035286, 'tol': 0.00851889967542093, 'fit_intercept': False, 'positive': False}. Best is trial 194 with value: 0.16667473275483016.\n",
      "[I 2025-06-07 07:47:04,952] Trial 285 finished with value: 0.16667472951491386 and parameters: {'alpha': 0.8127152320442357, 'tol': 0.009529507199840411, 'fit_intercept': False, 'positive': False}. Best is trial 194 with value: 0.16667473275483016.\n",
      "[I 2025-06-07 07:47:05,561] Trial 287 finished with value: 0.166674731808887 and parameters: {'alpha': 0.9436453752610633, 'tol': 0.009607496562928424, 'fit_intercept': False, 'positive': False}. Best is trial 194 with value: 0.16667473275483016.\n",
      "[I 2025-06-07 07:47:08,162] Trial 288 finished with value: 0.16667473215737677 and parameters: {'alpha': 0.9642326969885318, 'tol': 0.009446130548380923, 'fit_intercept': False, 'positive': False}. Best is trial 194 with value: 0.16667473275483016.\n",
      "[I 2025-06-07 07:47:08,553] Trial 289 finished with value: 0.1666747319802278 and parameters: {'alpha': 0.9537429815132561, 'tol': 0.009312457095486518, 'fit_intercept': False, 'positive': False}. Best is trial 194 with value: 0.16667473275483016.\n",
      "[I 2025-06-07 07:47:08,565] Trial 290 finished with value: 0.16667473263940094 and parameters: {'alpha': 0.9930376950939391, 'tol': 0.008187709559169693, 'fit_intercept': False, 'positive': False}. Best is trial 194 with value: 0.16667473275483016.\n",
      "[I 2025-06-07 07:47:09,688] Trial 291 finished with value: 0.16667473241936112 and parameters: {'alpha': 0.979840282307097, 'tol': 0.008435596837541047, 'fit_intercept': False, 'positive': False}. Best is trial 194 with value: 0.16667473275483016.\n",
      "[I 2025-06-07 07:47:11,781] Trial 292 finished with value: 0.16667472997941177 and parameters: {'alpha': 0.8386188104477349, 'tol': 0.005245591143013325, 'fit_intercept': False, 'positive': False}. Best is trial 194 with value: 0.16667473275483016.\n",
      "[I 2025-06-07 07:47:12,329] Trial 294 finished with value: 0.1666747304918136 and parameters: {'alpha': 0.86754006912679, 'tol': 0.005154914043920526, 'fit_intercept': False, 'positive': False}. Best is trial 194 with value: 0.16667473275483016.\n",
      "[I 2025-06-07 07:47:12,349] Trial 293 finished with value: 0.16667473249280687 and parameters: {'alpha': 0.9842362855759722, 'tol': 0.007964006072937938, 'fit_intercept': False, 'positive': False}. Best is trial 194 with value: 0.16667473275483016.\n",
      "[I 2025-06-07 07:47:13,513] Trial 295 finished with value: 0.16667473257333054 and parameters: {'alpha': 0.9890663659178605, 'tol': 0.004736884194162565, 'fit_intercept': False, 'positive': False}. Best is trial 194 with value: 0.16667473275483016.\n",
      "[I 2025-06-07 07:47:15,647] Trial 296 finished with value: 0.16667473255494145 and parameters: {'alpha': 0.987962352787162, 'tol': 0.005896553352425703, 'fit_intercept': False, 'positive': False}. Best is trial 194 with value: 0.16667473275483016.\n",
      "[I 2025-06-07 07:47:16,195] Trial 298 finished with value: 0.16667473061700044 and parameters: {'alpha': 0.8746626639483175, 'tol': 0.0035678668293641987, 'fit_intercept': False, 'positive': False}. Best is trial 194 with value: 0.16667473275483016.\n",
      "[I 2025-06-07 07:47:16,268] Trial 297 finished with value: 0.16360827901987854 and parameters: {'alpha': 0.984002977411084, 'tol': 0.0008929698106061458, 'fit_intercept': True, 'positive': False}. Best is trial 194 with value: 0.16667473275483016.\n",
      "[I 2025-06-07 07:47:17,544] Trial 299 finished with value: 0.1636083116671723 and parameters: {'alpha': 0.9385455138960066, 'tol': 0.008172462879724122, 'fit_intercept': True, 'positive': False}. Best is trial 194 with value: 0.16667473275483016.\n",
      "[I 2025-06-07 07:47:19,576] Trial 300 finished with value: 0.1666747296699618 and parameters: {'alpha': 0.8213292519645478, 'tol': 0.002346350568300632, 'fit_intercept': False, 'positive': False}. Best is trial 194 with value: 0.16667473275483016.\n",
      "[I 2025-06-07 07:47:19,797] Trial 301 finished with value: 0.1666747324262142 and parameters: {'alpha': 0.9802500816740272, 'tol': 0.0032499257026550894, 'fit_intercept': False, 'positive': False}. Best is trial 194 with value: 0.16667473275483016.\n",
      "[I 2025-06-07 07:47:20,041] Trial 302 finished with value: 0.1666747327423337 and parameters: {'alpha': 0.9992395817351142, 'tol': 0.009684059011896, 'fit_intercept': False, 'positive': False}. Best is trial 194 with value: 0.16667473275483016.\n",
      "[I 2025-06-07 07:47:21,798] Trial 303 finished with value: 0.16667472949895573 and parameters: {'alpha': 0.8118304732630979, 'tol': 0.0018851631834663717, 'fit_intercept': False, 'positive': False}. Best is trial 194 with value: 0.16667473275483016.\n",
      "[I 2025-06-07 07:47:23,391] Trial 304 finished with value: 0.16667473268764224 and parameters: {'alpha': 0.9959420605180662, 'tol': 0.0032196942118783867, 'fit_intercept': False, 'positive': False}. Best is trial 194 with value: 0.16667473275483016.\n",
      "[I 2025-06-07 07:47:23,634] Trial 306 finished with value: 0.16667473191214655 and parameters: {'alpha': 0.9497251220366274, 'tol': 0.008247490736085435, 'fit_intercept': False, 'positive': False}. Best is trial 194 with value: 0.16667473275483016.\n",
      "[I 2025-06-07 07:47:24,291] Trial 305 finished with value: 0.15798545550886012 and parameters: {'alpha': 0.9994579235424412, 'tol': 0.0015969927329091058, 'fit_intercept': False, 'positive': True}. Best is trial 194 with value: 0.16667473275483016.\n",
      "[I 2025-06-07 07:47:25,563] Trial 307 finished with value: 0.1666747323608602 and parameters: {'alpha': 0.9763452517968689, 'tol': 0.009338724248078745, 'fit_intercept': False, 'positive': False}. Best is trial 194 with value: 0.16667473275483016.\n",
      "[I 2025-06-07 07:47:27,235] Trial 308 finished with value: 0.1666747325404231 and parameters: {'alpha': 0.987091137614845, 'tol': 0.008770930934851323, 'fit_intercept': False, 'positive': False}. Best is trial 194 with value: 0.16667473275483016.\n",
      "[I 2025-06-07 07:47:27,453] Trial 309 finished with value: 0.16667473270857092 and parameters: {'alpha': 0.9972033128378274, 'tol': 0.009676643738429688, 'fit_intercept': False, 'positive': False}. Best is trial 194 with value: 0.16667473275483016.\n",
      "[I 2025-06-07 07:47:28,152] Trial 310 finished with value: 0.16667473214201223 and parameters: {'alpha': 0.9633208759789649, 'tol': 0.009875695107239534, 'fit_intercept': False, 'positive': False}. Best is trial 194 with value: 0.16667473275483016.\n",
      "[I 2025-06-07 07:47:32,284] Trial 311 finished with value: 0.16667473176589095 and parameters: {'alpha': 0.9411188529749864, 'tol': 0.009525262937252707, 'fit_intercept': False, 'positive': False}. Best is trial 194 with value: 0.16667473275483016.\n",
      "[I 2025-06-07 07:47:33,899] Trial 312 finished with value: 0.1666747316080317 and parameters: {'alpha': 0.9318678349402271, 'tol': 0.009811624109047913, 'fit_intercept': False, 'positive': False}. Best is trial 194 with value: 0.16667473275483016.\n",
      "[I 2025-06-07 07:47:34,160] Trial 313 finished with value: 0.16667471276942367 and parameters: {'alpha': 0.02048223194468135, 'tol': 0.003656100616669409, 'fit_intercept': False, 'positive': False}. Best is trial 194 with value: 0.16667473275483016.\n",
      "[I 2025-06-07 07:47:34,734] Trial 314 finished with value: 0.1666747292556556 and parameters: {'alpha': 0.7983831440049746, 'tol': 0.007016359944516902, 'fit_intercept': False, 'positive': False}. Best is trial 194 with value: 0.16667473275483016.\n",
      "[I 2025-06-07 07:47:37,117] Trial 315 finished with value: 0.16667473260625645 and parameters: {'alpha': 0.9910445347074177, 'tol': 0.008310537178710503, 'fit_intercept': False, 'positive': False}. Best is trial 194 with value: 0.16667473275483016.\n",
      "[I 2025-06-07 07:47:37,910] Trial 316 finished with value: 0.16667473269542207 and parameters: {'alpha': 0.9964108159202639, 'tol': 0.008204103225058289, 'fit_intercept': False, 'positive': False}. Best is trial 194 with value: 0.16667473275483016.\n",
      "[I 2025-06-07 07:47:38,147] Trial 317 finished with value: 0.16667473226202842 and parameters: {'alpha': 0.9704536527478487, 'tol': 0.009787137675402213, 'fit_intercept': False, 'positive': False}. Best is trial 194 with value: 0.16667473275483016.\n",
      "[I 2025-06-07 07:47:38,395] Trial 318 finished with value: 0.16667473250028075 and parameters: {'alpha': 0.9846841368683609, 'tol': 0.00029318196792727305, 'fit_intercept': False, 'positive': False}. Best is trial 194 with value: 0.16667473275483016.\n",
      "[I 2025-06-07 07:47:41,462] Trial 319 finished with value: 0.16667473252267748 and parameters: {'alpha': 0.9860267504756836, 'tol': 0.0005970313078862514, 'fit_intercept': False, 'positive': False}. Best is trial 194 with value: 0.16667473275483016.\n",
      "[I 2025-06-07 07:47:42,322] Trial 321 finished with value: 0.16360832800162226 and parameters: {'alpha': 0.9157907843994998, 'tol': 0.009916273974565074, 'fit_intercept': True, 'positive': False}. Best is trial 194 with value: 0.16667473275483016.\n",
      "[I 2025-06-07 07:47:42,354] Trial 320 finished with value: 0.14198063687042123 and parameters: {'alpha': 0.8687390731761944, 'tol': 0.0096932520493929, 'fit_intercept': False, 'positive': True}. Best is trial 194 with value: 0.16667473275483016.\n",
      "[I 2025-06-07 07:47:42,385] Trial 322 finished with value: 0.16667473265092334 and parameters: {'alpha': 0.9937310414582018, 'tol': 0.0036208862456741987, 'fit_intercept': False, 'positive': False}. Best is trial 194 with value: 0.16667473275483016.\n",
      "[I 2025-06-07 07:47:45,659] Trial 323 finished with value: 0.16667473251582463 and parameters: {'alpha': 0.9856158493846059, 'tol': 0.005318665005902839, 'fit_intercept': False, 'positive': False}. Best is trial 194 with value: 0.16667473275483016.\n",
      "[I 2025-06-07 07:47:46,256] Trial 324 finished with value: 0.1666747323861568 and parameters: {'alpha': 0.9778558482623647, 'tol': 0.007066386846357362, 'fit_intercept': False, 'positive': False}. Best is trial 194 with value: 0.16667473275483016.\n",
      "[I 2025-06-07 07:47:46,290] Trial 326 finished with value: 0.16667473257468168 and parameters: {'alpha': 0.9891475026418722, 'tol': 0.009662150851858405, 'fit_intercept': False, 'positive': False}. Best is trial 194 with value: 0.16667473275483016.\n",
      "[I 2025-06-07 07:47:46,323] Trial 325 finished with value: 0.1666747299683359 and parameters: {'alpha': 0.8379977186441483, 'tol': 0.0037992410501409167, 'fit_intercept': False, 'positive': False}. Best is trial 194 with value: 0.16667473275483016.\n",
      "[I 2025-06-07 07:47:49,964] Trial 327 finished with value: 0.16667472995484772 and parameters: {'alpha': 0.8372415815414715, 'tol': 0.0030991682674189752, 'fit_intercept': False, 'positive': False}. Best is trial 194 with value: 0.16667473275483016.\n",
      "[I 2025-06-07 07:47:50,019] Trial 329 finished with value: 0.16667473257331508 and parameters: {'alpha': 0.9890654341747355, 'tol': 0.0029161400312456938, 'fit_intercept': False, 'positive': False}. Best is trial 194 with value: 0.16667473275483016.\n",
      "[I 2025-06-07 07:47:50,047] Trial 328 finished with value: 0.1666747327231591 and parameters: {'alpha': 0.9980829068375378, 'tol': 0.0020538833607450053, 'fit_intercept': False, 'positive': False}. Best is trial 194 with value: 0.16667473275483016.\n",
      "[I 2025-06-07 07:47:50,281] Trial 330 finished with value: 0.1636085796351599 and parameters: {'alpha': 0.5643231930899686, 'tol': 0.008237213934722676, 'fit_intercept': True, 'positive': False}. Best is trial 194 with value: 0.16667473275483016.\n",
      "[I 2025-06-07 07:47:53,983] Trial 333 finished with value: 0.1666747326309251 and parameters: {'alpha': 0.9925278227136217, 'tol': 0.009905074148764847, 'fit_intercept': False, 'positive': False}. Best is trial 194 with value: 0.16667473275483016.\n",
      "[I 2025-06-07 07:47:53,985] Trial 332 finished with value: 0.16667473269951297 and parameters: {'alpha': 0.9966573551802687, 'tol': 0.0021798869611313783, 'fit_intercept': False, 'positive': False}. Best is trial 194 with value: 0.16667473275483016.\n",
      "[I 2025-06-07 07:47:53,998] Trial 331 finished with value: 0.1666747323396092 and parameters: {'alpha': 0.9750770581868827, 'tol': 0.0020494378625931717, 'fit_intercept': False, 'positive': False}. Best is trial 194 with value: 0.16667473275483016.\n",
      "[I 2025-06-07 07:47:54,087] Trial 334 finished with value: 0.1666747326512286 and parameters: {'alpha': 0.9937494125914864, 'tol': 0.008075976556298005, 'fit_intercept': False, 'positive': False}. Best is trial 194 with value: 0.16667473275483016.\n",
      "[I 2025-06-07 07:47:57,798] Trial 335 finished with value: 0.1666747289876715 and parameters: {'alpha': 0.7836612738012223, 'tol': 0.006799560605368467, 'fit_intercept': False, 'positive': False}. Best is trial 194 with value: 0.16667473275483016.\n",
      "[I 2025-06-07 07:47:57,839] Trial 336 finished with value: 0.16667473214359504 and parameters: {'alpha': 0.9634147922168207, 'tol': 0.0060967921172050445, 'fit_intercept': False, 'positive': False}. Best is trial 194 with value: 0.16667473275483016.\n",
      "[I 2025-06-07 07:47:57,841] Trial 337 finished with value: 0.16667473244160472 and parameters: {'alpha': 0.9811706903099252, 'tol': 0.0055604698833230225, 'fit_intercept': False, 'positive': False}. Best is trial 194 with value: 0.16667473275483016.\n",
      "[I 2025-06-07 07:47:57,879] Trial 338 finished with value: 0.1666747326534719 and parameters: {'alpha': 0.9938844262205744, 'tol': 0.00627509191581939, 'fit_intercept': False, 'positive': False}. Best is trial 194 with value: 0.16667473275483016.\n",
      "[I 2025-06-07 07:48:01,041] Trial 339 finished with value: 0.1666747325836164 and parameters: {'alpha': 0.9896841336623309, 'tol': 0.004430701975034255, 'fit_intercept': False, 'positive': False}. Best is trial 194 with value: 0.16667473275483016.\n",
      "[I 2025-06-07 07:48:01,606] Trial 342 finished with value: 0.16667473270184624 and parameters: {'alpha': 0.9967979716858516, 'tol': 0.00901474317675994, 'fit_intercept': False, 'positive': False}. Best is trial 194 with value: 0.16667473275483016.\n",
      "[I 2025-06-07 07:48:01,664] Trial 341 finished with value: 0.16667473272379654 and parameters: {'alpha': 0.9981213437232026, 'tol': 0.008333319039173163, 'fit_intercept': False, 'positive': False}. Best is trial 194 with value: 0.16667473275483016.\n",
      "[I 2025-06-07 07:48:02,118] Trial 340 finished with value: 0.14837270695831223 and parameters: {'alpha': 0.10587126030165617, 'tol': 0.003578570588080653, 'fit_intercept': True, 'positive': True}. Best is trial 194 with value: 0.16667473275483016.\n",
      "[I 2025-06-07 07:48:04,692] Trial 343 finished with value: 0.16667473256504534 and parameters: {'alpha': 0.9885688815152698, 'tol': 0.00851801062033164, 'fit_intercept': False, 'positive': False}. Best is trial 194 with value: 0.16667473275483016.\n",
      "[I 2025-06-07 07:48:05,307] Trial 344 finished with value: 0.1666747327000481 and parameters: {'alpha': 0.9966896051332912, 'tol': 0.0015663939469237034, 'fit_intercept': False, 'positive': False}. Best is trial 194 with value: 0.16667473275483016.\n",
      "[I 2025-06-07 07:48:05,862] Trial 345 finished with value: 0.16667472927433136 and parameters: {'alpha': 0.799412596654166, 'tol': 0.0017297175459743967, 'fit_intercept': False, 'positive': False}. Best is trial 194 with value: 0.16667473275483016.\n",
      "[I 2025-06-07 07:48:06,086] Trial 346 finished with value: 0.16667472916938786 and parameters: {'alpha': 0.7936337824173866, 'tol': 0.0014299540714245184, 'fit_intercept': False, 'positive': False}. Best is trial 194 with value: 0.16667473275483016.\n",
      "[I 2025-06-07 07:48:08,532] Trial 347 finished with value: 0.16667473018704537 and parameters: {'alpha': 0.8502936795301395, 'tol': 0.0016092217550379806, 'fit_intercept': False, 'positive': False}. Best is trial 194 with value: 0.16667473275483016.\n",
      "[I 2025-06-07 07:48:09,148] Trial 348 finished with value: 0.1666747294189047 and parameters: {'alpha': 0.8073973613697125, 'tol': 0.003915218639567509, 'fit_intercept': False, 'positive': False}. Best is trial 194 with value: 0.16667473275483016.\n",
      "[I 2025-06-07 07:48:09,749] Trial 350 finished with value: 0.1666747301097356 and parameters: {'alpha': 0.8459396718102301, 'tol': 0.0041439876094289604, 'fit_intercept': False, 'positive': False}. Best is trial 194 with value: 0.16667473275483016.\n",
      "[I 2025-06-07 07:48:09,965] Trial 349 finished with value: 0.16667473257792015 and parameters: {'alpha': 0.9893419979723771, 'tol': 0.004061567769514409, 'fit_intercept': False, 'positive': False}. Best is trial 194 with value: 0.16667473275483016.\n",
      "[I 2025-06-07 07:48:12,160] Trial 351 finished with value: 0.16667472953512183 and parameters: {'alpha': 0.8138361074756484, 'tol': 0.004327268047277591, 'fit_intercept': False, 'positive': False}. Best is trial 194 with value: 0.16667473275483016.\n",
      "[I 2025-06-07 07:48:12,983] Trial 352 finished with value: 0.1666747313593103 and parameters: {'alpha': 0.9173710005215178, 'tol': 0.00427629425360068, 'fit_intercept': False, 'positive': False}. Best is trial 194 with value: 0.16667473275483016.\n",
      "[I 2025-06-07 07:48:14,221] Trial 354 finished with value: 0.1636089422130193 and parameters: {'alpha': 0.05478519892557232, 'tol': 0.007985747718768978, 'fit_intercept': True, 'positive': False}. Best is trial 194 with value: 0.16667473275483016.\n",
      "[I 2025-06-07 07:48:14,602] Trial 353 finished with value: 0.15320898489285775 and parameters: {'alpha': 0.9962847666105923, 'tol': 0.0015188821465140418, 'fit_intercept': True, 'positive': True}. Best is trial 194 with value: 0.16667473275483016.\n",
      "[I 2025-06-07 07:48:15,916] Trial 355 finished with value: 0.16667472954131296 and parameters: {'alpha': 0.8141796106402253, 'tol': 0.008620055439786382, 'fit_intercept': False, 'positive': False}. Best is trial 194 with value: 0.16667473275483016.\n",
      "[I 2025-06-07 07:48:16,706] Trial 356 finished with value: 0.1666747282191563 and parameters: {'alpha': 0.7419488380291615, 'tol': 0.007710431385260239, 'fit_intercept': False, 'positive': False}. Best is trial 194 with value: 0.16667473275483016.\n",
      "[I 2025-06-07 07:48:18,282] Trial 358 finished with value: 0.16667473272215363 and parameters: {'alpha': 0.9980222657513991, 'tol': 0.003807742634886468, 'fit_intercept': False, 'positive': False}. Best is trial 194 with value: 0.16667473275483016.\n",
      "[I 2025-06-07 07:48:18,287] Trial 357 finished with value: 0.1666747297773816 and parameters: {'alpha': 0.8273161932205373, 'tol': 0.00807764691313381, 'fit_intercept': False, 'positive': False}. Best is trial 194 with value: 0.16667473275483016.\n",
      "[I 2025-06-07 07:48:20,301] Trial 359 finished with value: 0.13627012488926812 and parameters: {'alpha': 0.04129191032467061, 'tol': 0.009727390907833089, 'fit_intercept': True, 'positive': True}. Best is trial 194 with value: 0.16667473275483016.\n",
      "[I 2025-06-07 07:48:20,511] Trial 360 finished with value: 0.16667473267249167 and parameters: {'alpha': 0.9950294943434863, 'tol': 0.0038627298498099217, 'fit_intercept': False, 'positive': False}. Best is trial 194 with value: 0.16667473275483016.\n",
      "[I 2025-06-07 07:48:22,120] Trial 361 finished with value: 0.16667473144702288 and parameters: {'alpha': 0.9224724285025674, 'tol': 0.009935407282767733, 'fit_intercept': False, 'positive': False}. Best is trial 194 with value: 0.16667473275483016.\n",
      "[I 2025-06-07 07:48:22,170] Trial 362 finished with value: 0.16667473182532258 and parameters: {'alpha': 0.9446119321718801, 'tol': 0.009857137774753826, 'fit_intercept': False, 'positive': False}. Best is trial 194 with value: 0.16667473275483016.\n",
      "[I 2025-06-07 07:48:23,984] Trial 363 finished with value: 0.16667473267660718 and parameters: {'alpha': 0.9952773488285548, 'tol': 0.009446365111184279, 'fit_intercept': False, 'positive': False}. Best is trial 194 with value: 0.16667473275483016.\n",
      "[I 2025-06-07 07:48:25,863] Trial 364 finished with value: 0.1544198410392152 and parameters: {'alpha': 0.6335031557860383, 'tol': 4.162318987708906e-06, 'fit_intercept': True, 'positive': True}. Best is trial 194 with value: 0.16667473275483016.\n",
      "[I 2025-06-07 07:48:25,901] Trial 365 finished with value: 0.16667473226886384 and parameters: {'alpha': 0.9708606021526992, 'tol': 0.0012439933697842194, 'fit_intercept': False, 'positive': False}. Best is trial 194 with value: 0.16667473275483016.\n",
      "[I 2025-06-07 07:48:26,291] Trial 366 finished with value: 0.16667473251232243 and parameters: {'alpha': 0.9854058879657124, 'tol': 0.0015195546016464555, 'fit_intercept': False, 'positive': False}. Best is trial 194 with value: 0.16667473275483016.\n",
      "[I 2025-06-07 07:48:27,669] Trial 367 finished with value: 0.1666747326577757 and parameters: {'alpha': 0.9941434767230414, 'tol': 0.0014133978302023824, 'fit_intercept': False, 'positive': False}. Best is trial 194 with value: 0.16667473275483016.\n",
      "[I 2025-06-07 07:48:30,225] Trial 368 finished with value: 0.14198062189396232 and parameters: {'alpha': 0.9847396262257331, 'tol': 0.00886843417437315, 'fit_intercept': False, 'positive': True}. Best is trial 194 with value: 0.16667473275483016.\n",
      "[I 2025-06-07 07:48:30,237] Trial 369 finished with value: 0.13605068465986034 and parameters: {'alpha': 0.5867850037162314, 'tol': 0.005812915032428022, 'fit_intercept': True, 'positive': True}. Best is trial 194 with value: 0.16667473275483016.\n",
      "[I 2025-06-07 07:48:30,271] Trial 370 finished with value: 0.16667473257103013 and parameters: {'alpha': 0.9889282198821141, 'tol': 0.008063672706815576, 'fit_intercept': False, 'positive': False}. Best is trial 194 with value: 0.16667473275483016.\n",
      "[I 2025-06-07 07:48:31,827] Trial 371 finished with value: 0.14198069986156683 and parameters: {'alpha': 0.38083764457564506, 'tol': 0.0065555076083842045, 'fit_intercept': False, 'positive': True}. Best is trial 194 with value: 0.16667473275483016.\n",
      "[I 2025-06-07 07:48:34,093] Trial 373 finished with value: 0.16667473267955163 and parameters: {'alpha': 0.9954546915315994, 'tol': 0.007036373657305223, 'fit_intercept': False, 'positive': False}. Best is trial 194 with value: 0.16667473275483016.\n",
      "[I 2025-06-07 07:48:34,105] Trial 372 finished with value: 0.16360830007057464 and parameters: {'alpha': 0.9546957340783372, 'tol': 0.004560361989310464, 'fit_intercept': True, 'positive': False}. Best is trial 194 with value: 0.16667473275483016.\n",
      "[I 2025-06-07 07:48:34,123] Trial 374 finished with value: 0.16667473269572897 and parameters: {'alpha': 0.9964293075767388, 'tol': 0.007891581128179854, 'fit_intercept': False, 'positive': False}. Best is trial 194 with value: 0.16667473275483016.\n",
      "[I 2025-06-07 07:48:35,342] Trial 375 finished with value: 0.16667473266548646 and parameters: {'alpha': 0.9946076851392199, 'tol': 0.006615574205748817, 'fit_intercept': False, 'positive': False}. Best is trial 194 with value: 0.16667473275483016.\n",
      "[I 2025-06-07 07:48:37,578] Trial 377 finished with value: 0.16667473274371533 and parameters: {'alpha': 0.9993229528028942, 'tol': 0.008947159115981557, 'fit_intercept': False, 'positive': False}. Best is trial 194 with value: 0.16667473275483016.\n",
      "[I 2025-06-07 07:48:37,943] Trial 376 finished with value: 0.16667473249754683 and parameters: {'alpha': 0.9845203023003899, 'tol': 0.0025208504967951495, 'fit_intercept': False, 'positive': False}. Best is trial 194 with value: 0.16667473275483016.\n",
      "[I 2025-06-07 07:48:37,996] Trial 378 finished with value: 0.1666747326978839 and parameters: {'alpha': 0.9965591748629627, 'tol': 0.0040424881802521, 'fit_intercept': False, 'positive': False}. Best is trial 194 with value: 0.16667473275483016.\n",
      "[I 2025-06-07 07:48:39,312] Trial 379 finished with value: 0.1666747325493728 and parameters: {'alpha': 0.9876281545296794, 'tol': 0.0035419084873075154, 'fit_intercept': False, 'positive': False}. Best is trial 194 with value: 0.16667473275483016.\n",
      "[I 2025-06-07 07:48:41,422] Trial 380 finished with value: 0.1666747326742091 and parameters: {'alpha': 0.9951329192024453, 'tol': 0.003112378847546299, 'fit_intercept': False, 'positive': False}. Best is trial 194 with value: 0.16667473275483016.\n",
      "[I 2025-06-07 07:48:41,632] Trial 381 finished with value: 0.16667473273541344 and parameters: {'alpha': 0.9988220519746156, 'tol': 0.0026038842362814817, 'fit_intercept': False, 'positive': False}. Best is trial 194 with value: 0.16667473275483016.\n",
      "[I 2025-06-07 07:48:41,884] Trial 382 finished with value: 0.1666747327449542 and parameters: {'alpha': 0.9993977073505131, 'tol': 0.003493737095496912, 'fit_intercept': False, 'positive': False}. Best is trial 194 with value: 0.16667473275483016.\n",
      "[I 2025-06-07 07:48:43,154] Trial 383 finished with value: 0.16667472859301946 and parameters: {'alpha': 0.7621485165806138, 'tol': 9.914381777982595e-05, 'fit_intercept': False, 'positive': False}. Best is trial 194 with value: 0.16667473275483016.\n",
      "[I 2025-06-07 07:48:45,384] Trial 384 finished with value: 0.16360846034761978 and parameters: {'alpha': 0.7311555400080544, 'tol': 0.0030705070719224234, 'fit_intercept': True, 'positive': False}. Best is trial 194 with value: 0.16667473275483016.\n",
      "[I 2025-06-07 07:48:45,409] Trial 385 finished with value: 0.1666747324955282 and parameters: {'alpha': 0.9843993386814656, 'tol': 0.002324112133580271, 'fit_intercept': False, 'positive': False}. Best is trial 194 with value: 0.16667473275483016.\n",
      "[I 2025-06-07 07:48:46,025] Trial 386 finished with value: 0.16667472999976432 and parameters: {'alpha': 0.8397605552001539, 'tol': 0.0023622079418853356, 'fit_intercept': False, 'positive': False}. Best is trial 194 with value: 0.16667473275483016.\n",
      "[I 2025-06-07 07:48:46,636] Trial 387 finished with value: 0.1666747213374914 and parameters: {'alpha': 0.3968203489478993, 'tol': 0.0014949695331723605, 'fit_intercept': False, 'positive': False}. Best is trial 194 with value: 0.16667473275483016.\n",
      "[I 2025-06-07 07:48:48,902] Trial 388 finished with value: 0.1666747304737875 and parameters: {'alpha': 0.866516316673376, 'tol': 0.0027800735145690663, 'fit_intercept': False, 'positive': False}. Best is trial 194 with value: 0.16667473275483016.\n",
      "[I 2025-06-07 07:48:49,528] Trial 389 finished with value: 0.14198072457470515 and parameters: {'alpha': 0.18941983225776338, 'tol': 0.009964739578759929, 'fit_intercept': False, 'positive': True}. Best is trial 194 with value: 0.16667473275483016.\n",
      "[I 2025-06-07 07:48:50,168] Trial 390 finished with value: 0.16667472946862746 and parameters: {'alpha': 0.8101499319579, 'tol': 0.0023755427261372476, 'fit_intercept': False, 'positive': False}. Best is trial 194 with value: 0.16667473275483016.\n",
      "[I 2025-06-07 07:48:50,233] Trial 391 finished with value: 0.1666747302535664 and parameters: {'alpha': 0.8540467909795267, 'tol': 0.0030207666560908225, 'fit_intercept': False, 'positive': False}. Best is trial 194 with value: 0.16667473275483016.\n",
      "[I 2025-06-07 07:48:52,908] Trial 392 finished with value: 0.16667473253003404 and parameters: {'alpha': 0.9864679322775901, 'tol': 0.0020555761423971582, 'fit_intercept': False, 'positive': False}. Best is trial 194 with value: 0.16667473275483016.\n",
      "[I 2025-06-07 07:48:53,339] Trial 393 finished with value: 0.16667473273106564 and parameters: {'alpha': 0.9985597716947046, 'tol': 0.00042300378943392874, 'fit_intercept': False, 'positive': False}. Best is trial 194 with value: 0.16667473275483016.\n",
      "[I 2025-06-07 07:48:54,329] Trial 394 finished with value: 0.1666747326397521 and parameters: {'alpha': 0.9930588247851181, 'tol': 0.0018281334145589757, 'fit_intercept': False, 'positive': False}. Best is trial 194 with value: 0.16667473275483016.\n",
      "[I 2025-06-07 07:48:54,566] Trial 395 finished with value: 0.16667473266216343 and parameters: {'alpha': 0.9944076154057417, 'tol': 0.002962113395810833, 'fit_intercept': False, 'positive': False}. Best is trial 194 with value: 0.16667473275483016.\n",
      "[I 2025-06-07 07:48:57,088] Trial 396 finished with value: 0.15403011094980976 and parameters: {'alpha': 0.7979349559013763, 'tol': 0.003562974463667298, 'fit_intercept': False, 'positive': True}. Best is trial 194 with value: 0.16667473275483016.\n",
      "[I 2025-06-07 07:48:57,298] Trial 397 finished with value: 0.16667473135920716 and parameters: {'alpha': 0.9173650119781603, 'tol': 0.000927051884225994, 'fit_intercept': False, 'positive': False}. Best is trial 194 with value: 0.16667473275483016.\n",
      "[I 2025-06-07 07:48:58,242] Trial 399 finished with value: 0.16667473141230016 and parameters: {'alpha': 0.9204515142273739, 'tol': 0.0004370466978702247, 'fit_intercept': False, 'positive': False}. Best is trial 194 with value: 0.16667473275483016.\n",
      "[I 2025-06-07 07:48:58,467] Trial 398 finished with value: 0.16667473019318904 and parameters: {'alpha': 0.8506400454440672, 'tol': 0.00023378922176791955, 'fit_intercept': False, 'positive': False}. Best is trial 194 with value: 0.16667473275483016.\n",
      "[I 2025-06-07 07:49:00,755] Trial 400 finished with value: 0.1666747295005199 and parameters: {'alpha': 0.81191718018423, 'tol': 0.009925876239959977, 'fit_intercept': False, 'positive': False}. Best is trial 194 with value: 0.16667473275483016.\n",
      "[I 2025-06-07 07:49:01,129] Trial 401 finished with value: 0.16667472918497697 and parameters: {'alpha': 0.7944913044181986, 'tol': 0.009338917568055093, 'fit_intercept': False, 'positive': False}. Best is trial 194 with value: 0.16667473275483016.\n",
      "[I 2025-06-07 07:49:01,919] Trial 402 finished with value: 0.16667473266656502 and parameters: {'alpha': 0.9946726215921378, 'tol': 0.009858920033119214, 'fit_intercept': False, 'positive': False}. Best is trial 194 with value: 0.16667473275483016.\n",
      "[I 2025-06-07 07:49:02,322] Trial 403 finished with value: 0.16667472953437304 and parameters: {'alpha': 0.8137945571004028, 'tol': 0.009503999136714885, 'fit_intercept': False, 'positive': False}. Best is trial 194 with value: 0.16667473275483016.\n",
      "[I 2025-06-07 07:49:04,530] Trial 404 finished with value: 0.16667473180126954 and parameters: {'alpha': 0.9431975434538165, 'tol': 0.00023230954358060478, 'fit_intercept': False, 'positive': False}. Best is trial 194 with value: 0.16667473275483016.\n",
      "[I 2025-06-07 07:49:04,603] Trial 405 finished with value: 0.16667473259417034 and parameters: {'alpha': 0.9903181938752009, 'tol': 0.009761629058119801, 'fit_intercept': False, 'positive': False}. Best is trial 194 with value: 0.16667473275483016.\n",
      "[I 2025-06-07 07:49:05,707] Trial 406 finished with value: 0.1666747310802393 and parameters: {'alpha': 0.9012182082857424, 'tol': 0.00020992535107120495, 'fit_intercept': False, 'positive': False}. Best is trial 194 with value: 0.16667473275483016.\n",
      "[I 2025-06-07 07:49:06,479] Trial 407 finished with value: 0.1666747326403587 and parameters: {'alpha': 0.9930953233745469, 'tol': 0.0008279945599579205, 'fit_intercept': False, 'positive': False}. Best is trial 194 with value: 0.16667473275483016.\n",
      "[I 2025-06-07 07:49:08,301] Trial 408 finished with value: 0.16667473222741488 and parameters: {'alpha': 0.9683940722154443, 'tol': 0.00020750045954391855, 'fit_intercept': False, 'positive': False}. Best is trial 194 with value: 0.16667473275483016.\n",
      "[I 2025-06-07 07:49:08,370] Trial 409 finished with value: 0.16667473274880698 and parameters: {'alpha': 0.9996302135046973, 'tol': 0.0031166480626499213, 'fit_intercept': False, 'positive': False}. Best is trial 194 with value: 0.16667473275483016.\n",
      "[I 2025-06-07 07:49:09,379] Trial 410 finished with value: 0.16667473245146358 and parameters: {'alpha': 0.9817606240399126, 'tol': 0.00015911426444937355, 'fit_intercept': False, 'positive': False}. Best is trial 194 with value: 0.16667473275483016.\n",
      "[I 2025-06-07 07:49:10,609] Trial 411 finished with value: 0.16360826907985196 and parameters: {'alpha': 0.9978374899945677, 'tol': 0.0021962122724477166, 'fit_intercept': True, 'positive': False}. Best is trial 194 with value: 0.16667473275483016.\n",
      "[I 2025-06-07 07:49:12,106] Trial 413 finished with value: 0.16667473266071928 and parameters: {'alpha': 0.9943206796972106, 'tol': 0.0032801639779209877, 'fit_intercept': False, 'positive': False}. Best is trial 194 with value: 0.16667473275483016.\n",
      "[I 2025-06-07 07:49:13,286] Trial 412 finished with value: 0.1586060539239672 and parameters: {'alpha': 0.9030608808511331, 'tol': 0.00021512623612435222, 'fit_intercept': False, 'positive': True}. Best is trial 194 with value: 0.16667473275483016.\n",
      "[I 2025-06-07 07:49:13,314] Trial 414 finished with value: 0.1666747324692343 and parameters: {'alpha': 0.9828243910879247, 'tol': 0.003310293822445955, 'fit_intercept': False, 'positive': False}. Best is trial 194 with value: 0.16667473275483016.\n",
      "[I 2025-06-07 07:49:14,811] Trial 415 finished with value: 0.16667473265231264 and parameters: {'alpha': 0.9938146529496029, 'tol': 0.002879610002188783, 'fit_intercept': False, 'positive': False}. Best is trial 194 with value: 0.16667473275483016.\n",
      "[I 2025-06-07 07:49:16,141] Trial 416 finished with value: 0.16667473271069896 and parameters: {'alpha': 0.9973315997245328, 'tol': 0.0028076379222574115, 'fit_intercept': False, 'positive': False}. Best is trial 194 with value: 0.16667473275483016.\n",
      "[I 2025-06-07 07:49:17,099] Trial 418 finished with value: 0.16667473274617142 and parameters: {'alpha': 0.9994711589561287, 'tol': 0.0028589515873635434, 'fit_intercept': False, 'positive': False}. Best is trial 194 with value: 0.16667473275483016.\n",
      "[I 2025-06-07 07:49:17,101] Trial 417 finished with value: 0.16667473264869423 and parameters: {'alpha': 0.9935968841121317, 'tol': 0.003432678213690895, 'fit_intercept': False, 'positive': False}. Best is trial 194 with value: 0.16667473275483016.\n",
      "[I 2025-06-07 07:49:18,678] Trial 419 finished with value: 0.1666747298131296 and parameters: {'alpha': 0.8293120531924121, 'tol': 0.0027338457742201484, 'fit_intercept': False, 'positive': False}. Best is trial 194 with value: 0.16667473275483016.\n",
      "[I 2025-06-07 07:49:19,651] Trial 420 finished with value: 0.16667472234395575 and parameters: {'alpha': 0.44450923586121893, 'tol': 0.006132012118596433, 'fit_intercept': False, 'positive': False}. Best is trial 194 with value: 0.16667473275483016.\n",
      "[I 2025-06-07 07:49:20,777] Trial 421 finished with value: 0.16667473273970404 and parameters: {'alpha': 0.9990809145096587, 'tol': 0.0013313138771459307, 'fit_intercept': False, 'positive': False}. Best is trial 194 with value: 0.16667473275483016.\n",
      "[I 2025-06-07 07:49:20,779] Trial 422 finished with value: 0.16667472980493572 and parameters: {'alpha': 0.8288544213537499, 'tol': 0.003691309577934733, 'fit_intercept': False, 'positive': False}. Best is trial 194 with value: 0.16667473275483016.\n",
      "[I 2025-06-07 07:49:22,955] Trial 423 finished with value: 0.16667473018531664 and parameters: {'alpha': 0.8501962255848023, 'tol': 0.0029258353291079097, 'fit_intercept': False, 'positive': False}. Best is trial 194 with value: 0.16667473275483016.\n",
      "[I 2025-06-07 07:49:23,576] Trial 424 finished with value: 0.16667473006051556 and parameters: {'alpha': 0.8431719952844443, 'tol': 0.002871250061988285, 'fit_intercept': False, 'positive': False}. Best is trial 194 with value: 0.16667473275483016.\n",
      "[I 2025-06-07 07:49:24,496] Trial 425 finished with value: 0.16667473260754045 and parameters: {'alpha': 0.991121714335166, 'tol': 0.00976375506493604, 'fit_intercept': False, 'positive': False}. Best is trial 194 with value: 0.16667473275483016.\n",
      "[I 2025-06-07 07:49:24,713] Trial 426 finished with value: 0.16667473230991464 and parameters: {'alpha': 0.9733062406130583, 'tol': 0.0009630199456558278, 'fit_intercept': False, 'positive': False}. Best is trial 194 with value: 0.16667473275483016.\n",
      "[I 2025-06-07 07:49:27,143] Trial 427 finished with value: 0.1666747324240278 and parameters: {'alpha': 0.9801193360354878, 'tol': 0.0013468680042062501, 'fit_intercept': False, 'positive': False}. Best is trial 194 with value: 0.16667473275483016.\n",
      "[I 2025-06-07 07:49:27,367] Trial 428 finished with value: 0.16667473270041325 and parameters: {'alpha': 0.9967116095844658, 'tol': 0.002181782173766661, 'fit_intercept': False, 'positive': False}. Best is trial 194 with value: 0.16667473275483016.\n",
      "[I 2025-06-07 07:49:28,173] Trial 429 finished with value: 0.16667473268165625 and parameters: {'alpha': 0.9955814588975451, 'tol': 0.001694708627869751, 'fit_intercept': False, 'positive': False}. Best is trial 194 with value: 0.16667473275483016.\n",
      "[I 2025-06-07 07:49:28,396] Trial 430 finished with value: 0.16667473124795862 and parameters: {'alpha': 0.910911722666529, 'tol': 0.0022696922903833274, 'fit_intercept': False, 'positive': False}. Best is trial 194 with value: 0.16667473275483016.\n",
      "[I 2025-06-07 07:49:30,996] Trial 431 finished with value: 0.16667473263206545 and parameters: {'alpha': 0.9925964150187285, 'tol': 0.009910776740580869, 'fit_intercept': False, 'positive': False}. Best is trial 194 with value: 0.16667473275483016.\n",
      "[I 2025-06-07 07:49:32,145] Trial 432 finished with value: 0.1579855271432027 and parameters: {'alpha': 0.927749955869303, 'tol': 0.0029928388982367066, 'fit_intercept': False, 'positive': True}. Best is trial 194 with value: 0.16667473275483016.\n",
      "[I 2025-06-07 07:49:32,179] Trial 434 finished with value: 0.16667473260075913 and parameters: {'alpha': 0.990714132498946, 'tol': 0.00013093510349288401, 'fit_intercept': False, 'positive': False}. Best is trial 194 with value: 0.16667473275483016.\n",
      "[I 2025-06-07 07:49:32,183] Trial 433 finished with value: 0.16667473249759482 and parameters: {'alpha': 0.9845231730906292, 'tol': 0.0020431830713318706, 'fit_intercept': False, 'positive': False}. Best is trial 194 with value: 0.16667473275483016.\n",
      "[I 2025-06-07 07:49:35,220] Trial 435 finished with value: 0.16667473238835662 and parameters: {'alpha': 0.9779872622707504, 'tol': 0.0013750270273283018, 'fit_intercept': False, 'positive': False}. Best is trial 194 with value: 0.16667473275483016.\n",
      "[I 2025-06-07 07:49:35,811] Trial 436 finished with value: 0.16667472975779926 and parameters: {'alpha': 0.8262236203433431, 'tol': 0.0015043633475803574, 'fit_intercept': False, 'positive': False}. Best is trial 194 with value: 0.16667473275483016.\n",
      "[I 2025-06-07 07:49:35,879] Trial 438 finished with value: 0.16667473258665907 and parameters: {'alpha': 0.9898669180831341, 'tol': 0.0015785455901308062, 'fit_intercept': False, 'positive': False}. Best is trial 194 with value: 0.16667473275483016.\n",
      "[I 2025-06-07 07:49:35,904] Trial 437 finished with value: 0.16667473265255667 and parameters: {'alpha': 0.993829345753266, 'tol': 0.0019492050860694735, 'fit_intercept': False, 'positive': False}. Best is trial 194 with value: 0.16667473275483016.\n",
      "[I 2025-06-07 07:49:39,144] Trial 439 finished with value: 0.16667473261227211 and parameters: {'alpha': 0.991406149958779, 'tol': 0.0017850852036351086, 'fit_intercept': False, 'positive': False}. Best is trial 194 with value: 0.16667473275483016.\n",
      "[I 2025-06-07 07:49:39,347] Trial 440 finished with value: 0.16667473267600552 and parameters: {'alpha': 0.9952411073146181, 'tol': 0.001999730019199986, 'fit_intercept': False, 'positive': False}. Best is trial 194 with value: 0.16667473275483016.\n",
      "[I 2025-06-07 07:49:39,592] Trial 441 finished with value: 0.1666747298627992 and parameters: {'alpha': 0.8320880702757484, 'tol': 0.009077132342532459, 'fit_intercept': False, 'positive': False}. Best is trial 194 with value: 0.16667473275483016.\n",
      "[I 2025-06-07 07:49:40,202] Trial 442 finished with value: 0.1419806526752013 and parameters: {'alpha': 0.7463225525159417, 'tol': 0.008074922260292427, 'fit_intercept': False, 'positive': True}. Best is trial 194 with value: 0.16667473275483016.\n",
      "[I 2025-06-07 07:49:43,002] Trial 443 finished with value: 0.16667473269259886 and parameters: {'alpha': 0.9962407071108762, 'tol': 0.009738222651984369, 'fit_intercept': False, 'positive': False}. Best is trial 194 with value: 0.16667473275483016.\n",
      "[I 2025-06-07 07:49:43,059] Trial 444 finished with value: 0.16667473236061173 and parameters: {'alpha': 0.9763304163659684, 'tol': 0.009810600666260012, 'fit_intercept': False, 'positive': False}. Best is trial 194 with value: 0.16667473275483016.\n",
      "[I 2025-06-07 07:49:44,303] Trial 446 finished with value: 0.16667473241636074 and parameters: {'alpha': 0.9796608953764461, 'tol': 0.008340039739694887, 'fit_intercept': False, 'positive': False}. Best is trial 194 with value: 0.16667473275483016.\n",
      "[I 2025-06-07 07:49:44,528] Trial 445 finished with value: 0.15861986586734997 and parameters: {'alpha': 0.3259513603236526, 'tol': 0.0005616538005803456, 'fit_intercept': False, 'positive': True}. Best is trial 194 with value: 0.16667473275483016.\n",
      "[I 2025-06-07 07:49:46,808] Trial 448 finished with value: 0.16667473271941247 and parameters: {'alpha': 0.9978569660547864, 'tol': 0.008866433817519696, 'fit_intercept': False, 'positive': False}. Best is trial 194 with value: 0.16667473275483016.\n",
      "[I 2025-06-07 07:49:47,019] Trial 447 finished with value: 0.1666747326695794 and parameters: {'alpha': 0.9948541291976127, 'tol': 0.00886611488535061, 'fit_intercept': False, 'positive': False}. Best is trial 194 with value: 0.16667473275483016.\n",
      "[I 2025-06-07 07:49:47,995] Trial 449 finished with value: 0.16667473011620756 and parameters: {'alpha': 0.8463038439400065, 'tol': 0.0025230658675467034, 'fit_intercept': False, 'positive': False}. Best is trial 194 with value: 0.16667473275483016.\n",
      "[I 2025-06-07 07:49:48,990] Trial 450 finished with value: 0.14811043889285222 and parameters: {'alpha': 0.3848831190605942, 'tol': 0.003774644155056452, 'fit_intercept': True, 'positive': True}. Best is trial 194 with value: 0.16667473275483016.\n",
      "[I 2025-06-07 07:49:50,536] Trial 451 finished with value: 0.16667472950788229 and parameters: {'alpha': 0.8123253431385935, 'tol': 0.00221979854975024, 'fit_intercept': False, 'positive': False}. Best is trial 194 with value: 0.16667473275483016.\n",
      "[I 2025-06-07 07:49:50,919] Trial 452 finished with value: 0.1666747326083671 and parameters: {'alpha': 0.9911714018088258, 'tol': 0.0030886692515898705, 'fit_intercept': False, 'positive': False}. Best is trial 194 with value: 0.16667473275483016.\n",
      "[I 2025-06-07 07:49:51,876] Trial 453 finished with value: 0.1666747326302962 and parameters: {'alpha': 0.9924899895085327, 'tol': 0.00292120781399368, 'fit_intercept': False, 'positive': False}. Best is trial 194 with value: 0.16667473275483016.\n",
      "[I 2025-06-07 07:49:52,673] Trial 454 finished with value: 0.16667473027008817 and parameters: {'alpha': 0.8549799117713874, 'tol': 0.003692615385167885, 'fit_intercept': False, 'positive': False}. Best is trial 194 with value: 0.16667473275483016.\n",
      "[I 2025-06-07 07:49:54,452] Trial 455 finished with value: 0.16360827684786133 and parameters: {'alpha': 0.9870262179834557, 'tol': 0.009445170817585877, 'fit_intercept': True, 'positive': False}. Best is trial 194 with value: 0.16667473275483016.\n",
      "[I 2025-06-07 07:49:55,017] Trial 456 finished with value: 0.16667473268301358 and parameters: {'alpha': 0.9956632241929205, 'tol': 0.0002886050970000089, 'fit_intercept': False, 'positive': False}. Best is trial 194 with value: 0.16667473275483016.\n",
      "[I 2025-06-07 07:49:55,658] Trial 457 finished with value: 0.16360827569237044 and parameters: {'alpha': 0.9886344984834038, 'tol': 0.00917467733172279, 'fit_intercept': True, 'positive': False}. Best is trial 194 with value: 0.16667473275483016.\n",
      "[I 2025-06-07 07:49:56,264] Trial 458 finished with value: 0.1666747324962091 and parameters: {'alpha': 0.9844401403863419, 'tol': 0.003448824415045003, 'fit_intercept': False, 'positive': False}. Best is trial 194 with value: 0.16667473275483016.\n",
      "[I 2025-06-07 07:49:58,306] Trial 459 finished with value: 0.166674729828077 and parameters: {'alpha': 0.8301470996595264, 'tol': 0.008783324487308748, 'fit_intercept': False, 'positive': False}. Best is trial 194 with value: 0.16667473275483016.\n",
      "[I 2025-06-07 07:49:58,926] Trial 460 finished with value: 0.16667473255609122 and parameters: {'alpha': 0.9880313697786902, 'tol': 0.00992736313759461, 'fit_intercept': False, 'positive': False}. Best is trial 194 with value: 0.16667473275483016.\n",
      "[I 2025-06-07 07:49:59,466] Trial 461 finished with value: 0.1666747287782532 and parameters: {'alpha': 0.772221133691849, 'tol': 0.008721801402080726, 'fit_intercept': False, 'positive': False}. Best is trial 194 with value: 0.16667473275483016.\n",
      "[I 2025-06-07 07:50:00,105] Trial 462 finished with value: 0.16667472972377878 and parameters: {'alpha': 0.8243267338439497, 'tol': 0.008655914907375658, 'fit_intercept': False, 'positive': False}. Best is trial 194 with value: 0.16667473275483016.\n",
      "[I 2025-06-07 07:50:02,165] Trial 463 finished with value: 0.1666747327463634 and parameters: {'alpha': 0.9994827455159503, 'tol': 0.002552140673453468, 'fit_intercept': False, 'positive': False}. Best is trial 194 with value: 0.16667473275483016.\n",
      "[I 2025-06-07 07:50:03,290] Trial 464 finished with value: 0.16667473274005012 and parameters: {'alpha': 0.9991017970722319, 'tol': 0.00861505296722811, 'fit_intercept': False, 'positive': False}. Best is trial 194 with value: 0.16667473275483016.\n",
      "[I 2025-06-07 07:50:03,320] Trial 465 finished with value: 0.16667472977031722 and parameters: {'alpha': 0.8269219838705357, 'tol': 0.001939350760801227, 'fit_intercept': False, 'positive': False}. Best is trial 194 with value: 0.16667473275483016.\n",
      "[I 2025-06-07 07:50:04,118] Trial 466 finished with value: 0.16667473270891608 and parameters: {'alpha': 0.9972241225039372, 'tol': 0.0016471215937301905, 'fit_intercept': False, 'positive': False}. Best is trial 194 with value: 0.16667473275483016.\n",
      "[I 2025-06-07 07:50:05,828] Trial 467 finished with value: 0.16667473218136708 and parameters: {'alpha': 0.9656571953123462, 'tol': 0.002841769893903197, 'fit_intercept': False, 'positive': False}. Best is trial 194 with value: 0.16667473275483016.\n",
      "[I 2025-06-07 07:50:07,112] Trial 469 finished with value: 0.16667473024942703 and parameters: {'alpha': 0.8538130640635007, 'tol': 0.008999720392857636, 'fit_intercept': False, 'positive': False}. Best is trial 194 with value: 0.16667473275483016.\n",
      "[I 2025-06-07 07:50:07,143] Trial 468 finished with value: 0.16667473253956522 and parameters: {'alpha': 0.987039674954468, 'tol': 0.008830281491308808, 'fit_intercept': False, 'positive': False}. Best is trial 194 with value: 0.16667473275483016.\n",
      "[I 2025-06-07 07:50:08,089] Trial 470 finished with value: 0.1666747306911081 and parameters: {'alpha': 0.8788897678776677, 'tol': 0.008068832380338706, 'fit_intercept': False, 'positive': False}. Best is trial 194 with value: 0.16667473275483016.\n",
      "[I 2025-06-07 07:50:09,628] Trial 471 finished with value: 0.16667473176690936 and parameters: {'alpha': 0.9411786590251014, 'tol': 0.008290688143391137, 'fit_intercept': False, 'positive': False}. Best is trial 194 with value: 0.16667473275483016.\n",
      "[I 2025-06-07 07:50:10,638] Trial 472 finished with value: 0.16667473047283154 and parameters: {'alpha': 0.8664620368167556, 'tol': 0.008305829627079032, 'fit_intercept': False, 'positive': False}. Best is trial 194 with value: 0.16667473275483016.\n",
      "[I 2025-06-07 07:50:11,189] Trial 473 finished with value: 0.16667473047841042 and parameters: {'alpha': 0.8667788199411388, 'tol': 0.007936865513037718, 'fit_intercept': False, 'positive': False}. Best is trial 194 with value: 0.16667473275483016.\n",
      "[I 2025-06-07 07:50:11,791] Trial 474 finished with value: 0.1666747327373213 and parameters: {'alpha': 0.9989371523951096, 'tol': 0.008391780611382094, 'fit_intercept': False, 'positive': False}. Best is trial 194 with value: 0.16667473275483016.\n",
      "[I 2025-06-07 07:50:13,490] Trial 475 finished with value: 0.16667473265357505 and parameters: {'alpha': 0.9938906341068229, 'tol': 0.00444125578280745, 'fit_intercept': False, 'positive': False}. Best is trial 194 with value: 0.16667473275483016.\n",
      "[I 2025-06-07 07:50:14,460] Trial 476 finished with value: 0.166674732669267 and parameters: {'alpha': 0.9948353136699968, 'tol': 0.0035570361367745044, 'fit_intercept': False, 'positive': False}. Best is trial 194 with value: 0.16667473275483016.\n",
      "[I 2025-06-07 07:50:15,057] Trial 477 finished with value: 0.16667473138352648 and parameters: {'alpha': 0.9187782520790423, 'tol': 0.0033855610484766104, 'fit_intercept': False, 'positive': False}. Best is trial 194 with value: 0.16667473275483016.\n",
      "[I 2025-06-07 07:50:15,630] Trial 478 finished with value: 0.16667473249892084 and parameters: {'alpha': 0.9846026327545097, 'tol': 0.00754206452540776, 'fit_intercept': False, 'positive': False}. Best is trial 194 with value: 0.16667473275483016.\n",
      "[I 2025-06-07 07:50:17,170] Trial 479 finished with value: 0.1666747322502487 and parameters: {'alpha': 0.9697525139995848, 'tol': 0.008076877719608197, 'fit_intercept': False, 'positive': False}. Best is trial 194 with value: 0.16667473275483016.\n",
      "[I 2025-06-07 07:50:18,300] Trial 480 finished with value: 0.1666747323204207 and parameters: {'alpha': 0.9739325998719824, 'tol': 0.008378787140663245, 'fit_intercept': False, 'positive': False}. Best is trial 194 with value: 0.16667473275483016.\n",
      "[I 2025-06-07 07:50:19,257] Trial 481 finished with value: 0.16667473266583677 and parameters: {'alpha': 0.9946287705820558, 'tol': 0.009647637727322876, 'fit_intercept': False, 'positive': False}. Best is trial 194 with value: 0.16667473275483016.\n",
      "[I 2025-06-07 07:50:19,302] Trial 482 finished with value: 0.16667473128216212 and parameters: {'alpha': 0.9128937831700614, 'tol': 0.008655727685782134, 'fit_intercept': False, 'positive': False}. Best is trial 194 with value: 0.16667473275483016.\n",
      "[I 2025-06-07 07:50:21,212] Trial 483 finished with value: 0.1666747325859722 and parameters: {'alpha': 0.9898256484322352, 'tol': 0.009335499752099309, 'fit_intercept': False, 'positive': False}. Best is trial 194 with value: 0.16667473275483016.\n",
      "[I 2025-06-07 07:50:22,029] Trial 484 finished with value: 0.1666747324355957 and parameters: {'alpha': 0.980811204357802, 'tol': 0.008802857933711258, 'fit_intercept': False, 'positive': False}. Best is trial 194 with value: 0.16667473275483016.\n",
      "[I 2025-06-07 07:50:23,187] Trial 486 finished with value: 0.16667473226458115 and parameters: {'alpha': 0.9706056219654989, 'tol': 0.009981876630641116, 'fit_intercept': False, 'positive': False}. Best is trial 194 with value: 0.16667473275483016.\n",
      "[I 2025-06-07 07:50:23,223] Trial 485 finished with value: 0.1666747325470111 and parameters: {'alpha': 0.9874864281041867, 'tol': 0.009405845570028123, 'fit_intercept': False, 'positive': False}. Best is trial 194 with value: 0.16667473275483016.\n",
      "[I 2025-06-07 07:50:25,341] Trial 487 finished with value: 0.14198062014978352 and parameters: {'alpha': 0.9982491979569001, 'tol': 0.009548589319807241, 'fit_intercept': False, 'positive': True}. Best is trial 194 with value: 0.16667473275483016.\n",
      "[I 2025-06-07 07:50:25,990] Trial 488 finished with value: 0.16667473245472816 and parameters: {'alpha': 0.9819560028208224, 'tol': 0.008349664247430237, 'fit_intercept': False, 'positive': False}. Best is trial 194 with value: 0.16667473275483016.\n",
      "[I 2025-06-07 07:50:27,145] Trial 489 finished with value: 0.16667472943054648 and parameters: {'alpha': 0.8080415431740142, 'tol': 0.009726968088812259, 'fit_intercept': False, 'positive': False}. Best is trial 194 with value: 0.16667473275483016.\n",
      "[I 2025-06-07 07:50:27,212] Trial 490 finished with value: 0.1666747299508812 and parameters: {'alpha': 0.837019263413149, 'tol': 0.009721830435678338, 'fit_intercept': False, 'positive': False}. Best is trial 194 with value: 0.16667473275483016.\n",
      "[I 2025-06-07 07:50:29,091] Trial 491 finished with value: 0.16667473268468855 and parameters: {'alpha': 0.995764124233491, 'tol': 0.008643156013088354, 'fit_intercept': False, 'positive': False}. Best is trial 194 with value: 0.16667473275483016.\n",
      "[I 2025-06-07 07:50:29,708] Trial 492 finished with value: 0.16667473271191308 and parameters: {'alpha': 0.9974047914080119, 'tol': 0.008610314362585483, 'fit_intercept': False, 'positive': False}. Best is trial 194 with value: 0.16667473275483016.\n",
      "[I 2025-06-07 07:50:30,796] Trial 493 finished with value: 0.16360870750621306 and parameters: {'alpha': 0.385045845208162, 'tol': 0.0009339348174224561, 'fit_intercept': True, 'positive': False}. Best is trial 194 with value: 0.16667473275483016.\n",
      "[I 2025-06-07 07:50:31,362] Trial 494 finished with value: 0.1666747326820501 and parameters: {'alpha': 0.9956051857021616, 'tol': 0.0035844331709650465, 'fit_intercept': False, 'positive': False}. Best is trial 194 with value: 0.16667473275483016.\n",
      "[I 2025-06-07 07:50:33,429] Trial 496 finished with value: 0.16667473264239238 and parameters: {'alpha': 0.993217680878502, 'tol': 0.0030206369451410394, 'fit_intercept': False, 'positive': False}. Best is trial 194 with value: 0.16667473275483016.\n",
      "[I 2025-06-07 07:50:34,093] Trial 495 finished with value: 0.15453454108462125 and parameters: {'alpha': 0.346918698644194, 'tol': 0.0009633182123666541, 'fit_intercept': True, 'positive': True}. Best is trial 194 with value: 0.16667473275483016.\n",
      "[I 2025-06-07 07:50:34,818] Trial 497 finished with value: 0.16360841156486208 and parameters: {'alpha': 0.7992682698464623, 'tol': 0.0077364970891528944, 'fit_intercept': True, 'positive': False}. Best is trial 194 with value: 0.16667473275483016.\n",
      "[I 2025-06-07 07:50:35,026] Trial 498 finished with value: 0.16667472981392017 and parameters: {'alpha': 0.8293562140756205, 'tol': 0.0036063221556644548, 'fit_intercept': False, 'positive': False}. Best is trial 194 with value: 0.16667473275483016.\n",
      "[I 2025-06-07 07:50:35,670] Trial 499 finished with value: 0.16360878832700093 and parameters: {'alpha': 0.2714971273388401, 'tol': 0.009969897064905297, 'fit_intercept': True, 'positive': False}. Best is trial 194 with value: 0.16667473275483016.\n"
     ]
    }
   ],
   "source": [
    "def objective(trial):    \n",
    "    params = {\n",
    "        \"random_state\": CFG.seed,\n",
    "        \"alpha\": trial.suggest_float(\"alpha\", 0, 1),\n",
    "        \"tol\": trial.suggest_float(\"tol\", 1e-6, 1e-2),\n",
    "        \"fit_intercept\": trial.suggest_categorical(\"fit_intercept\", [True, False]),\n",
    "        \"positive\": trial.suggest_categorical(\"positive\", [True, False])\n",
    "    }\n",
    "\n",
    "    trainer = Trainer(\n",
    "        Ridge(**params),\n",
    "        cv=KFold(n_splits=5, shuffle=False),\n",
    "        metric=pearsonr,\n",
    "        task=\"regression\",\n",
    "        verbose=False\n",
    "    )\n",
    "    trainer.fit(X, y)\n",
    "    \n",
    "    return pearsonr(trainer.oof_preds, y)\n",
    "\n",
    "if CFG.run_optuna:\n",
    "    sampler = optuna.samplers.TPESampler(seed=CFG.seed, multivariate=True, n_startup_trials=CFG.n_optuna_trials // 10)\n",
    "    study = optuna.create_study(direction=\"maximize\", sampler=sampler)\n",
    "    study.optimize(objective, n_trials=CFG.n_optuna_trials, n_jobs=-1, catch=(ValueError,))\n",
    "    best_params = study.best_params\n",
    "\n",
    "    ridge_params = {\n",
    "        \"random_state\": CFG.seed,\n",
    "        \"alpha\": best_params[\"alpha\"],\n",
    "        \"tol\": best_params[\"tol\"],\n",
    "        \"fit_intercept\": best_params[\"fit_intercept\"],\n",
    "        \"positive\": best_params[\"positive\"]\n",
    "    }\n",
    "else:\n",
    "    ridge_params = {\n",
    "        \"random_state\": CFG.seed\n",
    "    }"
   ]
  },
  {
   "cell_type": "code",
   "execution_count": 18,
   "id": "d536d39e",
   "metadata": {
    "execution": {
     "iopub.execute_input": "2025-06-07T07:50:35.742897Z",
     "iopub.status.busy": "2025-06-07T07:50:35.742542Z",
     "iopub.status.idle": "2025-06-07T07:50:36.923064Z",
     "shell.execute_reply": "2025-06-07T07:50:36.921953Z"
    },
    "papermill": {
     "duration": 1.213904,
     "end_time": "2025-06-07T07:50:36.924703",
     "exception": false,
     "start_time": "2025-06-07T07:50:35.710799",
     "status": "completed"
    },
    "tags": []
   },
   "outputs": [
    {
     "name": "stdout",
     "output_type": "stream",
     "text": [
      "Training Ridge\n",
      "\n",
      "--- Fold 0 - pearsonr: 0.212629 - Time: 0.06 s\n",
      "--- Fold 1 - pearsonr: 0.153474 - Time: 0.06 s\n",
      "--- Fold 2 - pearsonr: 0.138601 - Time: 0.06 s\n",
      "--- Fold 3 - pearsonr: 0.182492 - Time: 0.06 s\n",
      "--- Fold 4 - pearsonr: 0.155366 - Time: 0.06 s\n",
      "\n",
      "------ Overall pearsonr: 0.166675 - Mean pearsonr: 0.168512 ± 0.026212 - Time: 1.11 s\n"
     ]
    }
   ],
   "source": [
    "ridge_trainer = Trainer(\n",
    "    Ridge(**ridge_params),\n",
    "    cv=KFold(n_splits=5, shuffle=False),\n",
    "    metric=pearsonr,\n",
    "    task=\"regression\",\n",
    "    metric_precision=6\n",
    ")\n",
    "\n",
    "ridge_trainer.fit(X, y)\n",
    "\n",
    "fold_scores[\"Ridge (ensemble)\"] = ridge_trainer.fold_scores\n",
    "overall_scores[\"Ridge (ensemble)\"] = [pearsonr(ridge_trainer.oof_preds, y)]\n",
    "ridge_test_preds = ridge_trainer.predict(X_test)"
   ]
  },
  {
   "cell_type": "code",
   "execution_count": 19,
   "id": "ce74181f",
   "metadata": {
    "execution": {
     "iopub.execute_input": "2025-06-07T07:50:36.990304Z",
     "iopub.status.busy": "2025-06-07T07:50:36.989952Z",
     "iopub.status.idle": "2025-06-07T07:50:37.264659Z",
     "shell.execute_reply": "2025-06-07T07:50:37.263724Z"
    },
    "papermill": {
     "duration": 0.309941,
     "end_time": "2025-06-07T07:50:37.266438",
     "exception": false,
     "start_time": "2025-06-07T07:50:36.956497",
     "status": "completed"
    },
    "tags": []
   },
   "outputs": [
    {
     "data": {
      "image/png": "[encoded data removed]",
      "text/plain": [
       "<Figure size 1000x200 with 1 Axes>"
      ]
     },
     "metadata": {},
     "output_type": "display_data"
    }
   ],
   "source": [
    "ridge_coeffs = np.zeros((1, X.shape[1]))\n",
    "for m in ridge_trainer.estimators:\n",
    "    ridge_coeffs += m.coef_\n",
    "ridge_coeffs = ridge_coeffs / len(ridge_trainer.estimators)\n",
    "\n",
    "plot_weights(ridge_coeffs, \"Ridge Coefficients\")"
   ]
  },
  {
   "cell_type": "markdown",
   "id": "df3f4ac2",
   "metadata": {
    "papermill": {
     "duration": 0.03276,
     "end_time": "2025-06-07T07:50:37.331748",
     "exception": false,
     "start_time": "2025-06-07T07:50:37.298988",
     "status": "completed"
    },
    "tags": []
   },
   "source": [
    "# Submission"
   ]
  },
  {
   "cell_type": "code",
   "execution_count": 20,
   "id": "50a34c2a",
   "metadata": {
    "execution": {
     "iopub.execute_input": "2025-06-07T07:50:37.397769Z",
     "iopub.status.busy": "2025-06-07T07:50:37.397088Z",
     "iopub.status.idle": "2025-06-07T07:50:39.090997Z",
     "shell.execute_reply": "2025-06-07T07:50:39.089966Z"
    },
    "papermill": {
     "duration": 1.729222,
     "end_time": "2025-06-07T07:50:39.092730",
     "exception": false,
     "start_time": "2025-06-07T07:50:37.363508",
     "status": "completed"
    },
    "tags": []
   },
   "outputs": [
    {
     "data": {
      "text/html": [
       "<div>\n",
       "<style scoped>\n",
       "    .dataframe tbody tr th:only-of-type {\n",
       "        vertical-align: middle;\n",
       "    }\n",
       "\n",
       "    .dataframe tbody tr th {\n",
       "        vertical-align: top;\n",
       "    }\n",
       "\n",
       "    .dataframe thead th {\n",
       "        text-align: right;\n",
       "    }\n",
       "</style>\n",
       "<table border=\"1\" class=\"dataframe\">\n",
       "  <thead>\n",
       "    <tr style=\"text-align: right;\">\n",
       "      <th></th>\n",
       "      <th>ID</th>\n",
       "      <th>prediction</th>\n",
       "    </tr>\n",
       "  </thead>\n",
       "  <tbody>\n",
       "    <tr>\n",
       "      <th>0</th>\n",
       "      <td>1</td>\n",
       "      <td>0.149817</td>\n",
       "    </tr>\n",
       "    <tr>\n",
       "      <th>1</th>\n",
       "      <td>2</td>\n",
       "      <td>-0.060334</td>\n",
       "    </tr>\n",
       "    <tr>\n",
       "      <th>2</th>\n",
       "      <td>3</td>\n",
       "      <td>0.211361</td>\n",
       "    </tr>\n",
       "    <tr>\n",
       "      <th>3</th>\n",
       "      <td>4</td>\n",
       "      <td>0.017236</td>\n",
       "    </tr>\n",
       "    <tr>\n",
       "      <th>4</th>\n",
       "      <td>5</td>\n",
       "      <td>0.216955</td>\n",
       "    </tr>\n",
       "  </tbody>\n",
       "</table>\n",
       "</div>"
      ],
      "text/plain": [
       "   ID  prediction\n",
       "0   1    0.149817\n",
       "1   2   -0.060334\n",
       "2   3    0.211361\n",
       "3   4    0.017236\n",
       "4   5    0.216955"
      ]
     },
     "execution_count": 20,
     "metadata": {},
     "output_type": "execute_result"
    }
   ],
   "source": [
    "sub = pd.read_csv(CFG.sample_sub_path)\n",
    "sub[\"prediction\"] = ridge_test_preds\n",
    "sub.to_csv(f\"sub_ridge_{overall_scores['Ridge (ensemble)'][0]:.6f}.csv\", index=False)\n",
    "sub.head()"
   ]
  },
  {
   "cell_type": "markdown",
   "id": "dbf56a66",
   "metadata": {
    "papermill": {
     "duration": 0.032369,
     "end_time": "2025-06-07T07:50:39.157456",
     "exception": false,
     "start_time": "2025-06-07T07:50:39.125087",
     "status": "completed"
    },
    "tags": []
   },
   "source": [
    "# Results"
   ]
  },
  {
   "cell_type": "code",
   "execution_count": 21,
   "id": "cac41824",
   "metadata": {
    "execution": {
     "iopub.execute_input": "2025-06-07T07:50:39.223913Z",
     "iopub.status.busy": "2025-06-07T07:50:39.223555Z",
     "iopub.status.idle": "2025-06-07T07:50:39.633486Z",
     "shell.execute_reply": "2025-06-07T07:50:39.632405Z"
    },
    "papermill": {
     "duration": 0.44555,
     "end_time": "2025-06-07T07:50:39.635306",
     "exception": false,
     "start_time": "2025-06-07T07:50:39.189756",
     "status": "completed"
    },
    "tags": []
   },
   "outputs": [
    {
     "data": {
      "image/png": "[encoded data removed]",
      "text/plain": [
       "<Figure size 1500x250 with 2 Axes>"
      ]
     },
     "metadata": {},
     "output_type": "display_data"
    }
   ],
   "source": [
    "fold_scores = pd.DataFrame(fold_scores)\n",
    "overall_scores = pd.DataFrame(overall_scores).transpose().sort_values(by=0, ascending=False)\n",
    "order = overall_scores.index.tolist()\n",
    "\n",
    "min_score = overall_scores.values.flatten().min()\n",
    "max_score = overall_scores.values.flatten().max()\n",
    "padding = (max_score - min_score) * 0.5\n",
    "lower_limit = min_score - padding\n",
    "upper_limit = max_score + padding\n",
    "\n",
    "fig, axs = plt.subplots(1, 2, figsize=(15, fold_scores.shape[1] * 0.5))\n",
    "\n",
    "boxplot = sns.boxplot(data=fold_scores, order=order, ax=axs[0], orient=\"h\", color=\"grey\")\n",
    "axs[0].set_title(f\"Fold Score\")\n",
    "axs[0].set_xlabel(\"\")\n",
    "axs[0].set_ylabel(\"\")\n",
    "\n",
    "barplot = sns.barplot(x=overall_scores.values.flatten(), y=overall_scores.index, ax=axs[1], color=\"grey\")\n",
    "axs[1].set_title(f\"Overall Score\")\n",
    "axs[1].set_xlabel(\"\")\n",
    "axs[1].set_xlim(left=lower_limit, right=upper_limit)\n",
    "axs[1].set_ylabel(\"\")\n",
    "\n",
    "for i, (score, model) in enumerate(zip(overall_scores.values.flatten(), overall_scores.index)):\n",
    "    color = \"cyan\" if \"ensemble\" in model.lower() else \"grey\"\n",
    "    barplot.patches[i].set_facecolor(color)\n",
    "    boxplot.patches[i].set_facecolor(color)\n",
    "    barplot.text(score, i, round(score, 6), va=\"center\")\n",
    "\n",
    "plt.tight_layout()\n",
    "plt.show()"
   ]
  }
 ],
 "metadata": {
  "kaggle": {
   "accelerator": "none",
   "dataSources": [
    {
     "databundleVersionId": 11418275,
     "sourceId": 96164,
     "sourceType": "competition"
    },
    {
     "sourceId": 243952999,
     "sourceType": "kernelVersion"
    }
   ],
   "dockerImageVersionId": 31040,
   "isGpuEnabled": false,
   "isInternetEnabled": true,
   "language": "python",
   "sourceType": "notebook"
  },
  "kernelspec": {
   "display_name": "Python 3",
   "language": "python",
   "name": "python3"
  },
  "language_info": {
   "codemirror_mode": {
    "name": "ipython",
    "version": 3
   },
   "file_extension": ".py",
   "mimetype": "text/x-python",
   "name": "python",
   "nbconvert_exporter": "python",
   "pygments_lexer": "ipython3",
   "version": "3.11.11"
  },
  "papermill": {
   "default_parameters": {},
   "duration": 869.871471,
   "end_time": "2025-06-07T07:50:42.476950",
   "environment_variables": {},
   "exception": null,
   "input_path": "__notebook__.ipynb",
   "output_path": "__notebook__.ipynb",
   "parameters": {},
   "start_time": "2025-06-07T07:36:12.605479",
   "version": "2.6.0"
  }
 },
 "nbformat": 4,
 "nbformat_minor": 5
}
