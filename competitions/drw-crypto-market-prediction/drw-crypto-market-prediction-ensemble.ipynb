{
 "cells": [
  {
   "cell_type": "code",
   "execution_count": 1,
   "id": "0671e0bd",
   "metadata": {
    "_kg_hide-output": true,
    "execution": {
     "iopub.execute_input": "2025-05-28T06:51:55.347555Z",
     "iopub.status.busy": "2025-05-28T06:51:55.347197Z",
     "iopub.status.idle": "2025-05-28T06:52:05.219365Z",
     "shell.execute_reply": "2025-05-28T06:52:05.218247Z"
    },
    "papermill": {
     "duration": 9.880461,
     "end_time": "2025-05-28T06:52:05.221127",
     "exception": false,
     "start_time": "2025-05-28T06:51:55.340666",
     "status": "completed"
    },
    "scrolled": true,
    "tags": []
   },
   "outputs": [
    {
     "name": "stdout",
     "output_type": "stream",
     "text": [
      "Collecting koolbox\r\n",
      "  Downloading koolbox-0.1.3-py3-none-any.whl.metadata (3.4 kB)\r\n",
      "Collecting scikit-learn==1.5.2\r\n",
      "  Downloading scikit_learn-1.5.2-cp311-cp311-manylinux_2_17_x86_64.manylinux2014_x86_64.whl.metadata (13 kB)\r\n",
      "Requirement already satisfied: numpy>=1.19.5 in /usr/local/lib/python3.11/dist-packages (from scikit-learn==1.5.2) (1.26.4)\r\n",
      "Requirement already satisfied: scipy>=1.6.0 in /usr/local/lib/python3.11/dist-packages (from scikit-learn==1.5.2) (1.15.2)\r\n",
      "Requirement already satisfied: joblib>=1.2.0 in /usr/local/lib/python3.11/dist-packages (from scikit-learn==1.5.2) (1.5.0)\r\n",
      "Requirement already satisfied: threadpoolctl>=3.1.0 in /usr/local/lib/python3.11/dist-packages (from scikit-learn==1.5.2) (3.6.0)\r\n",
      "Requirement already satisfied: optuna>=4.2.1 in /usr/local/lib/python3.11/dist-packages (from koolbox) (4.3.0)\r\n",
      "Requirement already satisfied: pandas>=2.2.3 in /usr/local/lib/python3.11/dist-packages (from koolbox) (2.2.3)\r\n",
      "Requirement already satisfied: mkl_fft in /usr/local/lib/python3.11/dist-packages (from numpy>=1.19.5->scikit-learn==1.5.2) (1.3.8)\r\n",
      "Requirement already satisfied: mkl_random in /usr/local/lib/python3.11/dist-packages (from numpy>=1.19.5->scikit-learn==1.5.2) (1.2.4)\r\n",
      "Requirement already satisfied: mkl_umath in /usr/local/lib/python3.11/dist-packages (from numpy>=1.19.5->scikit-learn==1.5.2) (0.1.1)\r\n",
      "Requirement already satisfied: mkl in /usr/local/lib/python3.11/dist-packages (from numpy>=1.19.5->scikit-learn==1.5.2) (2025.1.0)\r\n",
      "Requirement already satisfied: tbb4py in /usr/local/lib/python3.11/dist-packages (from numpy>=1.19.5->scikit-learn==1.5.2) (2022.1.0)\r\n",
      "Requirement already satisfied: mkl-service in /usr/local/lib/python3.11/dist-packages (from numpy>=1.19.5->scikit-learn==1.5.2) (2.4.1)\r\n",
      "Requirement already satisfied: alembic>=1.5.0 in /usr/local/lib/python3.11/dist-packages (from optuna>=4.2.1->koolbox) (1.15.2)\r\n",
      "Requirement already satisfied: colorlog in /usr/local/lib/python3.11/dist-packages (from optuna>=4.2.1->koolbox) (6.9.0)\r\n",
      "Requirement already satisfied: packaging>=20.0 in /usr/local/lib/python3.11/dist-packages (from optuna>=4.2.1->koolbox) (25.0)\r\n",
      "Requirement already satisfied: sqlalchemy>=1.4.2 in /usr/local/lib/python3.11/dist-packages (from optuna>=4.2.1->koolbox) (2.0.40)\r\n",
      "Requirement already satisfied: tqdm in /usr/local/lib/python3.11/dist-packages (from optuna>=4.2.1->koolbox) (4.67.1)\r\n",
      "Requirement already satisfied: PyYAML in /usr/local/lib/python3.11/dist-packages (from optuna>=4.2.1->koolbox) (6.0.2)\r\n",
      "Requirement already satisfied: python-dateutil>=2.8.2 in /usr/local/lib/python3.11/dist-packages (from pandas>=2.2.3->koolbox) (2.9.0.post0)\r\n",
      "Requirement already satisfied: pytz>=2020.1 in /usr/local/lib/python3.11/dist-packages (from pandas>=2.2.3->koolbox) (2025.2)\r\n",
      "Requirement already satisfied: tzdata>=2022.7 in /usr/local/lib/python3.11/dist-packages (from pandas>=2.2.3->koolbox) (2025.2)\r\n",
      "Requirement already satisfied: Mako in /usr/local/lib/python3.11/dist-packages (from alembic>=1.5.0->optuna>=4.2.1->koolbox) (1.3.10)\r\n",
      "Requirement already satisfied: typing-extensions>=4.12 in /usr/local/lib/python3.11/dist-packages (from alembic>=1.5.0->optuna>=4.2.1->koolbox) (4.13.2)\r\n",
      "Requirement already satisfied: six>=1.5 in /usr/local/lib/python3.11/dist-packages (from python-dateutil>=2.8.2->pandas>=2.2.3->koolbox) (1.17.0)\r\n",
      "Requirement already satisfied: greenlet>=1 in /usr/local/lib/python3.11/dist-packages (from sqlalchemy>=1.4.2->optuna>=4.2.1->koolbox) (3.1.1)\r\n",
      "Requirement already satisfied: intel-openmp<2026,>=2024 in /usr/local/lib/python3.11/dist-packages (from mkl->numpy>=1.19.5->scikit-learn==1.5.2) (2024.2.0)\r\n",
      "Requirement already satisfied: tbb==2022.* in /usr/local/lib/python3.11/dist-packages (from mkl->numpy>=1.19.5->scikit-learn==1.5.2) (2022.1.0)\r\n",
      "Requirement already satisfied: tcmlib==1.* in /usr/local/lib/python3.11/dist-packages (from tbb==2022.*->mkl->numpy>=1.19.5->scikit-learn==1.5.2) (1.3.0)\r\n",
      "Requirement already satisfied: intel-cmplr-lib-rt in /usr/local/lib/python3.11/dist-packages (from mkl_umath->numpy>=1.19.5->scikit-learn==1.5.2) (2024.2.0)\r\n",
      "Requirement already satisfied: intel-cmplr-lib-ur==2024.2.0 in /usr/local/lib/python3.11/dist-packages (from intel-openmp<2026,>=2024->mkl->numpy>=1.19.5->scikit-learn==1.5.2) (2024.2.0)\r\n",
      "Requirement already satisfied: MarkupSafe>=0.9.2 in /usr/local/lib/python3.11/dist-packages (from Mako->alembic>=1.5.0->optuna>=4.2.1->koolbox) (3.0.2)\r\n",
      "Downloading scikit_learn-1.5.2-cp311-cp311-manylinux_2_17_x86_64.manylinux2014_x86_64.whl (13.3 MB)\r\n",
      "\u001b[2K   \u001b[90m━━━━━━━━━━━━━━━━━━━━━━━━━━━━━━━━━━━━━━━━\u001b[0m \u001b[32m13.3/13.3 MB\u001b[0m \u001b[31m78.7 MB/s\u001b[0m eta \u001b[36m0:00:00\u001b[0m\r\n",
      "\u001b[?25hDownloading koolbox-0.1.3-py3-none-any.whl (18 kB)\r\n",
      "Installing collected packages: scikit-learn, koolbox\r\n",
      "  Attempting uninstall: scikit-learn\r\n",
      "    Found existing installation: scikit-learn 1.2.2\r\n",
      "    Uninstalling scikit-learn-1.2.2:\r\n",
      "      Successfully uninstalled scikit-learn-1.2.2\r\n",
      "\u001b[31mERROR: pip's dependency resolver does not currently take into account all the packages that are installed. This behaviour is the source of the following dependency conflicts.\r\n",
      "cesium 0.12.4 requires numpy<3.0,>=2.0, but you have numpy 1.26.4 which is incompatible.\u001b[0m\u001b[31m\r\n",
      "\u001b[0mSuccessfully installed koolbox-0.1.3 scikit-learn-1.5.2\r\n"
     ]
    }
   ],
   "source": [
    "!pip install koolbox scikit-learn==1.5.2"
   ]
  },
  {
   "cell_type": "markdown",
   "id": "061cd5aa",
   "metadata": {
    "papermill": {
     "duration": 0.004954,
     "end_time": "2025-05-28T06:52:05.231905",
     "exception": false,
     "start_time": "2025-05-28T06:52:05.226951",
     "status": "completed"
    },
    "tags": []
   },
   "source": [
    "# Imports and configs"
   ]
  },
  {
   "cell_type": "code",
   "execution_count": 2,
   "id": "9f1f4b19",
   "metadata": {
    "_kg_hide-output": true,
    "execution": {
     "iopub.execute_input": "2025-05-28T06:52:05.243869Z",
     "iopub.status.busy": "2025-05-28T06:52:05.242962Z",
     "iopub.status.idle": "2025-05-28T06:52:14.585105Z",
     "shell.execute_reply": "2025-05-28T06:52:14.584188Z"
    },
    "papermill": {
     "duration": 9.349738,
     "end_time": "2025-05-28T06:52:14.586711",
     "exception": false,
     "start_time": "2025-05-28T06:52:05.236973",
     "status": "completed"
    },
    "tags": []
   },
   "outputs": [],
   "source": [
    "from sklearn.model_selection import KFold\n",
    "from sklearn.linear_model import Ridge\n",
    "from lightgbm import LGBMRegressor\n",
    "from scipy.stats import pearsonr\n",
    "from xgboost import XGBRegressor\n",
    "from sklearn.base import clone\n",
    "from koolbox import Trainer\n",
    "import matplotlib.pyplot as plt\n",
    "import seaborn as sns\n",
    "import pandas as pd\n",
    "import numpy as np\n",
    "import warnings\n",
    "import optuna\n",
    "import joblib\n",
    "import gc\n",
    "\n",
    "warnings.filterwarnings(\"ignore\")"
   ]
  },
  {
   "cell_type": "code",
   "execution_count": 3,
   "id": "1b1af0d2",
   "metadata": {
    "execution": {
     "iopub.execute_input": "2025-05-28T06:52:14.598628Z",
     "iopub.status.busy": "2025-05-28T06:52:14.598069Z",
     "iopub.status.idle": "2025-05-28T06:52:14.603074Z",
     "shell.execute_reply": "2025-05-28T06:52:14.602309Z"
    },
    "papermill": {
     "duration": 0.012421,
     "end_time": "2025-05-28T06:52:14.604593",
     "exception": false,
     "start_time": "2025-05-28T06:52:14.592172",
     "status": "completed"
    },
    "tags": []
   },
   "outputs": [],
   "source": [
    "class CFG:\n",
    "    train_path = \"/kaggle/input/drw-crypto-market-prediction/train.parquet\"\n",
    "    test_path = \"/kaggle/input/drw-crypto-market-prediction/test.parquet\"\n",
    "    sample_sub_path = \"/kaggle/input/drw-crypto-market-prediction/sample_submission.csv\"\n",
    "\n",
    "    target = \"label\"\n",
    "    n_folds = 5\n",
    "    seed = 42\n",
    "\n",
    "    run_optuna = True\n",
    "    n_optuna_trials = 250"
   ]
  },
  {
   "cell_type": "markdown",
   "id": "46b1df58",
   "metadata": {
    "papermill": {
     "duration": 0.004888,
     "end_time": "2025-05-28T06:52:14.614896",
     "exception": false,
     "start_time": "2025-05-28T06:52:14.610008",
     "status": "completed"
    },
    "tags": []
   },
   "source": [
    "# Data loading and preprocessing"
   ]
  },
  {
   "cell_type": "code",
   "execution_count": 4,
   "id": "30a70752",
   "metadata": {
    "_kg_hide-input": true,
    "execution": {
     "iopub.execute_input": "2025-05-28T06:52:14.626415Z",
     "iopub.status.busy": "2025-05-28T06:52:14.626073Z",
     "iopub.status.idle": "2025-05-28T06:52:14.634952Z",
     "shell.execute_reply": "2025-05-28T06:52:14.634237Z"
    },
    "papermill": {
     "duration": 0.016341,
     "end_time": "2025-05-28T06:52:14.636335",
     "exception": false,
     "start_time": "2025-05-28T06:52:14.619994",
     "status": "completed"
    },
    "tags": []
   },
   "outputs": [],
   "source": [
    "def reduce_mem_usage(dataframe, dataset):    \n",
    "    print('Reducing memory usage for:', dataset)\n",
    "    initial_mem_usage = dataframe.memory_usage().sum() / 1024**2\n",
    "    \n",
    "    for col in dataframe.columns:\n",
    "        col_type = dataframe[col].dtype\n",
    "\n",
    "        c_min = dataframe[col].min()\n",
    "        c_max = dataframe[col].max()\n",
    "        if str(col_type)[:3] == 'int':\n",
    "            if c_min > np.iinfo(np.int8).min and c_max < np.iinfo(np.int8).max:\n",
    "                dataframe[col] = dataframe[col].astype(np.int8)\n",
    "            elif c_min > np.iinfo(np.int16).min and c_max < np.iinfo(np.int16).max:\n",
    "                dataframe[col] = dataframe[col].astype(np.int16)\n",
    "            elif c_min > np.iinfo(np.int32).min and c_max < np.iinfo(np.int32).max:\n",
    "                dataframe[col] = dataframe[col].astype(np.int32)\n",
    "            elif c_min > np.iinfo(np.int64).min and c_max < np.iinfo(np.int64).max:\n",
    "                dataframe[col] = dataframe[col].astype(np.int64)\n",
    "        else:\n",
    "            if c_min > np.finfo(np.float16).min and c_max < np.finfo(np.float16).max:\n",
    "                dataframe[col] = dataframe[col].astype(np.float16)\n",
    "            elif c_min > np.finfo(np.float32).min and c_max < np.finfo(np.float32).max:\n",
    "                dataframe[col] = dataframe[col].astype(np.float32)\n",
    "            else:\n",
    "                dataframe[col] = dataframe[col].astype(np.float64)\n",
    "\n",
    "    final_mem_usage = dataframe.memory_usage().sum() / 1024**2\n",
    "    print('--- Memory usage before: {:.2f} MB'.format(initial_mem_usage))\n",
    "    print('--- Memory usage after: {:.2f} MB'.format(final_mem_usage))\n",
    "    print('--- Decreased memory usage by {:.1f}%\\n'.format(100 * (initial_mem_usage - final_mem_usage) / initial_mem_usage))\n",
    "\n",
    "    return dataframe"
   ]
  },
  {
   "cell_type": "code",
   "execution_count": 5,
   "id": "de9aa273",
   "metadata": {
    "execution": {
     "iopub.execute_input": "2025-05-28T06:52:14.648674Z",
     "iopub.status.busy": "2025-05-28T06:52:14.648362Z",
     "iopub.status.idle": "2025-05-28T06:52:14.659367Z",
     "shell.execute_reply": "2025-05-28T06:52:14.658554Z"
    },
    "papermill": {
     "duration": 0.018954,
     "end_time": "2025-05-28T06:52:14.660863",
     "exception": false,
     "start_time": "2025-05-28T06:52:14.641909",
     "status": "completed"
    },
    "tags": []
   },
   "outputs": [],
   "source": [
    "def add_features(df):\n",
    "    data = df.copy()\n",
    "    features_df = pd.DataFrame(index=data.index)\n",
    "    \n",
    "    features_df['bid_ask_spread_proxy'] = data['ask_qty'] - data['bid_qty']\n",
    "    features_df['total_liquidity'] = data['bid_qty'] + data['ask_qty']\n",
    "    features_df['trade_imbalance'] = data['buy_qty'] - data['sell_qty']\n",
    "    features_df['total_trades'] = data['buy_qty'] + data['sell_qty']\n",
    "    \n",
    "    features_df['volume_per_trade'] = data['volume'] / (data['buy_qty'] + data['sell_qty'] + 1e-8)\n",
    "    features_df['buy_volume_ratio'] = data['buy_qty'] / (data['volume'] + 1e-8)\n",
    "    features_df['sell_volume_ratio'] = data['sell_qty'] / (data['volume'] + 1e-8)\n",
    "    \n",
    "    features_df['buying_pressure'] = data['buy_qty'] / (data['buy_qty'] + data['sell_qty'] + 1e-8)\n",
    "    features_df['selling_pressure'] = data['sell_qty'] / (data['buy_qty'] + data['sell_qty'] + 1e-8)\n",
    "    \n",
    "    features_df['order_imbalance'] = (data['bid_qty'] - data['ask_qty']) / (data['bid_qty'] + data['ask_qty'] + 1e-8)\n",
    "    features_df['order_imbalance_abs'] = np.abs(features_df['order_imbalance'])\n",
    "    features_df['bid_liquidity_ratio'] = data['bid_qty'] / (data['volume'] + 1e-8)\n",
    "    features_df['ask_liquidity_ratio'] = data['ask_qty'] / (data['volume'] + 1e-8)\n",
    "    features_df['market_depth'] = data['bid_qty'] + data['ask_qty']\n",
    "    features_df['depth_imbalance'] = features_df['market_depth'] - data['volume']\n",
    "    \n",
    "    features_df['buy_sell_ratio'] = data['buy_qty'] / (data['sell_qty'] + 1e-8)\n",
    "    features_df['bid_ask_ratio'] = data['bid_qty'] / (data['ask_qty'] + 1e-8)\n",
    "    features_df['volume_liquidity_ratio'] = data['volume'] / (data['bid_qty'] + data['ask_qty'] + 1e-8)\n",
    "\n",
    "    features_df['buy_volume_product'] = data['buy_qty'] * data['volume']\n",
    "    features_df['sell_volume_product'] = data['sell_qty'] * data['volume']\n",
    "    features_df['bid_ask_product'] = data['bid_qty'] * data['ask_qty']\n",
    "    \n",
    "    features_df['market_competition'] = (data['buy_qty'] * data['sell_qty']) / ((data['buy_qty'] + data['sell_qty']) + 1e-8)\n",
    "    features_df['liquidity_competition'] = (data['bid_qty'] * data['ask_qty']) / ((data['bid_qty'] + data['ask_qty']) + 1e-8)\n",
    "    \n",
    "    total_activity = data['buy_qty'] + data['sell_qty'] + data['bid_qty'] + data['ask_qty']\n",
    "    features_df['market_activity'] = total_activity\n",
    "    features_df['activity_concentration'] = data['volume'] / (total_activity + 1e-8)\n",
    "    \n",
    "    features_df['info_arrival_rate'] = (data['buy_qty'] + data['sell_qty']) / (data['volume'] + 1e-8)\n",
    "    features_df['market_making_intensity'] = (data['bid_qty'] + data['ask_qty']) / (data['buy_qty'] + data['sell_qty'] + 1e-8)\n",
    "    features_df['effective_spread_proxy'] = np.abs(data['buy_qty'] - data['sell_qty']) / (data['volume'] + 1e-8)\n",
    "    \n",
    "    lambda_decay = 0.95\n",
    "    ofi = data['buy_qty'] - data['sell_qty']\n",
    "    features_df['order_flow_imbalance_ewm'] = ofi.ewm(alpha=1-lambda_decay).mean()\n",
    "\n",
    "    features_df = features_df.replace([np.inf, -np.inf], np.nan)\n",
    "    \n",
    "    return features_df"
   ]
  },
  {
   "cell_type": "code",
   "execution_count": 6,
   "id": "b79b437e",
   "metadata": {
    "execution": {
     "iopub.execute_input": "2025-05-28T06:52:14.672837Z",
     "iopub.status.busy": "2025-05-28T06:52:14.672530Z",
     "iopub.status.idle": "2025-05-28T06:52:14.677881Z",
     "shell.execute_reply": "2025-05-28T06:52:14.677086Z"
    },
    "papermill": {
     "duration": 0.012943,
     "end_time": "2025-05-28T06:52:14.679287",
     "exception": false,
     "start_time": "2025-05-28T06:52:14.666344",
     "status": "completed"
    },
    "tags": []
   },
   "outputs": [],
   "source": [
    "cols_to_drop = [\n",
    "    'X697', 'X698', 'X699', 'X700', 'X701', 'X702', 'X703', 'X704', 'X705', 'X706', \n",
    "    'X707', 'X708', 'X709', 'X710', 'X711', 'X712', 'X713', 'X714', 'X715', 'X716',\n",
    "    'X717', 'X864', 'X867', 'X869', 'X870', 'X871', 'X872', 'X104', 'X110', 'X116',\n",
    "    'X122', 'X128', 'X134', 'X140', 'X146', 'X152', 'X158', 'X164', 'X170', 'X176',\n",
    "    'X182', 'X351', 'X357', 'X363', 'X369', 'X375', 'X381', 'X387', 'X393', 'X399',\n",
    "    'X405', 'X411', 'X417', 'X423', 'X429'\n",
    "]"
   ]
  },
  {
   "cell_type": "code",
   "execution_count": 7,
   "id": "6092805b",
   "metadata": {
    "execution": {
     "iopub.execute_input": "2025-05-28T06:52:14.691996Z",
     "iopub.status.busy": "2025-05-28T06:52:14.691721Z",
     "iopub.status.idle": "2025-05-28T06:53:24.864648Z",
     "shell.execute_reply": "2025-05-28T06:53:24.863696Z"
    },
    "papermill": {
     "duration": 70.181095,
     "end_time": "2025-05-28T06:53:24.866518",
     "exception": false,
     "start_time": "2025-05-28T06:52:14.685423",
     "status": "completed"
    },
    "tags": []
   },
   "outputs": [
    {
     "name": "stdout",
     "output_type": "stream",
     "text": [
      "Reducing memory usage for: train\n",
      "--- Memory usage before: 3374.26 MB\n",
      "--- Memory usage after: 843.57 MB\n",
      "--- Decreased memory usage by 75.0%\n",
      "\n",
      "Reducing memory usage for: test\n",
      "--- Memory usage before: 3448.84 MB\n",
      "--- Memory usage after: 862.21 MB\n",
      "--- Decreased memory usage by 75.0%\n",
      "\n"
     ]
    }
   ],
   "source": [
    "train = pd.read_parquet(CFG.train_path).reset_index(drop=True)\n",
    "test = pd.read_parquet(CFG.test_path).reset_index(drop=True)\n",
    "\n",
    "train = train.drop(columns=cols_to_drop)\n",
    "test = test.drop(columns=[\"label\"] + cols_to_drop)\n",
    "\n",
    "train = reduce_mem_usage(train, \"train\")\n",
    "test = reduce_mem_usage(test, \"test\")\n",
    "\n",
    "X = train.drop(CFG.target, axis=1)\n",
    "y = train[CFG.target]\n",
    "X_test = test"
   ]
  },
  {
   "cell_type": "code",
   "execution_count": 8,
   "id": "c09d4ed2",
   "metadata": {
    "execution": {
     "iopub.execute_input": "2025-05-28T06:53:24.880324Z",
     "iopub.status.busy": "2025-05-28T06:53:24.879910Z",
     "iopub.status.idle": "2025-05-28T06:53:31.093948Z",
     "shell.execute_reply": "2025-05-28T06:53:31.093091Z"
    },
    "papermill": {
     "duration": 6.222914,
     "end_time": "2025-05-28T06:53:31.095710",
     "exception": false,
     "start_time": "2025-05-28T06:53:24.872796",
     "status": "completed"
    },
    "tags": []
   },
   "outputs": [],
   "source": [
    "X = pd.concat([add_features(X), X], axis=1)\n",
    "X_test = pd.concat([add_features(X_test), X_test], axis=1)"
   ]
  },
  {
   "cell_type": "markdown",
   "id": "3b3bfdf7",
   "metadata": {
    "papermill": {
     "duration": 0.005181,
     "end_time": "2025-05-28T06:53:31.106911",
     "exception": false,
     "start_time": "2025-05-28T06:53:31.101730",
     "status": "completed"
    },
    "tags": []
   },
   "source": [
    "# Training base models"
   ]
  },
  {
   "cell_type": "code",
   "execution_count": 9,
   "id": "b2122868",
   "metadata": {
    "execution": {
     "iopub.execute_input": "2025-05-28T06:53:31.119057Z",
     "iopub.status.busy": "2025-05-28T06:53:31.118757Z",
     "iopub.status.idle": "2025-05-28T06:53:31.123043Z",
     "shell.execute_reply": "2025-05-28T06:53:31.122319Z"
    },
    "papermill": {
     "duration": 0.012196,
     "end_time": "2025-05-28T06:53:31.124498",
     "exception": false,
     "start_time": "2025-05-28T06:53:31.112302",
     "status": "completed"
    },
    "tags": []
   },
   "outputs": [],
   "source": [
    "def _pearsonr(y_true, y_pred):\n",
    "    return pearsonr(y_true, y_pred)[0]"
   ]
  },
  {
   "cell_type": "code",
   "execution_count": 10,
   "id": "c28e541f",
   "metadata": {
    "_kg_hide-input": true,
    "_kg_hide-output": true,
    "execution": {
     "iopub.execute_input": "2025-05-28T06:53:31.136772Z",
     "iopub.status.busy": "2025-05-28T06:53:31.136486Z",
     "iopub.status.idle": "2025-05-28T06:53:31.144561Z",
     "shell.execute_reply": "2025-05-28T06:53:31.143600Z"
    },
    "papermill": {
     "duration": 0.016101,
     "end_time": "2025-05-28T06:53:31.146099",
     "exception": false,
     "start_time": "2025-05-28T06:53:31.129998",
     "status": "completed"
    },
    "tags": []
   },
   "outputs": [],
   "source": [
    "lgbm_params = {\n",
    "    \"boosting_type\": \"gbdt\",\n",
    "    \"colsample_bytree\": 0.5625888953382505,\n",
    "    \"learning_rate\": 0.029312951475451557,\n",
    "    \"min_child_samples\": 63,\n",
    "    \"min_child_weight\": 0.11456572852335424,\n",
    "    \"n_estimators\": 126,\n",
    "    \"n_jobs\": -1,\n",
    "    \"num_leaves\": 37,\n",
    "    \"random_state\": 42,\n",
    "    \"reg_alpha\": 85.2476527854083,\n",
    "    \"reg_lambda\": 99.38305361388907,\n",
    "    \"subsample\": 0.450669817684892,\n",
    "    \"verbose\": -1\n",
    "}\n",
    "\n",
    "lgbm_goss_params = {\n",
    "    \"boosting_type\": \"goss\",\n",
    "    \"colsample_bytree\": 0.34695458228489784,\n",
    "    \"learning_rate\": 0.031023014900595287,\n",
    "    \"min_child_samples\": 30,\n",
    "    \"min_child_weight\": 0.4727729225033618,\n",
    "    \"n_estimators\": 220,\n",
    "    \"n_jobs\": -1,\n",
    "    \"num_leaves\": 58,\n",
    "    \"random_state\": 42,\n",
    "    \"reg_alpha\": 38.665994901468224,\n",
    "    \"reg_lambda\": 92.76991677464294,\n",
    "    \"subsample\": 0.4810891284493255,\n",
    "    \"verbose\": -1\n",
    "}\n",
    "\n",
    "xgb_params = {\n",
    "    \"colsample_bylevel\": 0.4778015829774066,\n",
    "    \"colsample_bynode\": 0.362764358742407,\n",
    "    \"colsample_bytree\": 0.7107423488010493,\n",
    "    \"gamma\": 1.7094857725240398,\n",
    "    \"learning_rate\": 0.02213323588455387,\n",
    "    \"max_depth\": 20,\n",
    "    \"max_leaves\": 12,\n",
    "    \"min_child_weight\": 16,\n",
    "    \"n_estimators\": 1667,\n",
    "    \"n_jobs\": -1,\n",
    "    \"random_state\": 42,\n",
    "    \"reg_alpha\": 39.352415706891264,\n",
    "    \"reg_lambda\": 75.44843704068275,\n",
    "    \"subsample\": 0.06566669853471274,\n",
    "    \"verbosity\": 0\n",
    "}"
   ]
  },
  {
   "cell_type": "code",
   "execution_count": 11,
   "id": "4b63e305",
   "metadata": {
    "execution": {
     "iopub.execute_input": "2025-05-28T06:53:31.158332Z",
     "iopub.status.busy": "2025-05-28T06:53:31.158025Z",
     "iopub.status.idle": "2025-05-28T06:53:31.162140Z",
     "shell.execute_reply": "2025-05-28T06:53:31.161335Z"
    },
    "papermill": {
     "duration": 0.011971,
     "end_time": "2025-05-28T06:53:31.163714",
     "exception": false,
     "start_time": "2025-05-28T06:53:31.151743",
     "status": "completed"
    },
    "tags": []
   },
   "outputs": [],
   "source": [
    "scores = {}\n",
    "oof_preds = {}\n",
    "test_preds = {}"
   ]
  },
  {
   "cell_type": "markdown",
   "id": "c5bee4cc",
   "metadata": {
    "papermill": {
     "duration": 0.005429,
     "end_time": "2025-05-28T06:53:31.175035",
     "exception": false,
     "start_time": "2025-05-28T06:53:31.169606",
     "status": "completed"
    },
    "tags": []
   },
   "source": [
    "## LightGBM (gbdt)"
   ]
  },
  {
   "cell_type": "code",
   "execution_count": 12,
   "id": "be22529b",
   "metadata": {
    "execution": {
     "iopub.execute_input": "2025-05-28T06:53:31.187912Z",
     "iopub.status.busy": "2025-05-28T06:53:31.186842Z",
     "iopub.status.idle": "2025-05-28T07:02:38.017985Z",
     "shell.execute_reply": "2025-05-28T07:02:38.016683Z"
    },
    "papermill": {
     "duration": 546.840654,
     "end_time": "2025-05-28T07:02:38.021118",
     "exception": false,
     "start_time": "2025-05-28T06:53:31.180464",
     "status": "completed"
    },
    "tags": []
   },
   "outputs": [
    {
     "name": "stdout",
     "output_type": "stream",
     "text": [
      "Training LGBMRegressor\n",
      "\n",
      "--- Fold 0 - _pearsonr: 0.141448 - Time: 94.16 s\n",
      "--- Fold 1 - _pearsonr: 0.110486 - Time: 96.88 s\n",
      "--- Fold 2 - _pearsonr: 0.065194 - Time: 98.82 s\n",
      "--- Fold 3 - _pearsonr: 0.148460 - Time: 101.40 s\n",
      "--- Fold 4 - _pearsonr: 0.057057 - Time: 105.22 s\n",
      "\n",
      "------ Overall _pearsonr: 0.091073 - Mean _pearsonr: 0.104529 ± 0.037760 - Time: 497.24 s\n"
     ]
    }
   ],
   "source": [
    "lgbm_trainer = Trainer(\n",
    "    LGBMRegressor(**lgbm_params),\n",
    "    cv=KFold(n_splits=5, shuffle=False),\n",
    "    metric=_pearsonr,\n",
    "    task=\"regression\",\n",
    "    metric_precision=6\n",
    ")\n",
    "\n",
    "lgbm_trainer.fit(X, y)\n",
    "\n",
    "scores[\"LightGBM (gbdt)\"] = lgbm_trainer.fold_scores\n",
    "oof_preds[\"LightGBM (gbdt)\"] = lgbm_trainer.oof_preds\n",
    "test_preds[\"LightGBM (gbdt)\"] = lgbm_trainer.predict(X_test)"
   ]
  },
  {
   "cell_type": "markdown",
   "id": "f8f05593",
   "metadata": {
    "papermill": {
     "duration": 0.005909,
     "end_time": "2025-05-28T07:02:38.035090",
     "exception": false,
     "start_time": "2025-05-28T07:02:38.029181",
     "status": "completed"
    },
    "tags": []
   },
   "source": [
    "## LightGBM (goss)"
   ]
  },
  {
   "cell_type": "code",
   "execution_count": 13,
   "id": "8e34d69d",
   "metadata": {
    "execution": {
     "iopub.execute_input": "2025-05-28T07:02:38.049874Z",
     "iopub.status.busy": "2025-05-28T07:02:38.048776Z",
     "iopub.status.idle": "2025-05-28T07:12:39.909677Z",
     "shell.execute_reply": "2025-05-28T07:12:39.908588Z"
    },
    "papermill": {
     "duration": 601.870551,
     "end_time": "2025-05-28T07:12:39.911607",
     "exception": false,
     "start_time": "2025-05-28T07:02:38.041056",
     "status": "completed"
    },
    "tags": []
   },
   "outputs": [
    {
     "name": "stdout",
     "output_type": "stream",
     "text": [
      "Training LGBMRegressor\n",
      "\n",
      "--- Fold 0 - _pearsonr: 0.160002 - Time: 107.91 s\n",
      "--- Fold 1 - _pearsonr: 0.079149 - Time: 108.95 s\n",
      "--- Fold 2 - _pearsonr: 0.042983 - Time: 108.64 s\n",
      "--- Fold 3 - _pearsonr: 0.121185 - Time: 110.41 s\n",
      "--- Fold 4 - _pearsonr: 0.047085 - Time: 111.25 s\n",
      "\n",
      "------ Overall _pearsonr: 0.078983 - Mean _pearsonr: 0.090081 ± 0.044817 - Time: 548.02 s\n"
     ]
    }
   ],
   "source": [
    "lgbm_goss_trainer = Trainer(\n",
    "    LGBMRegressor(**lgbm_goss_params),\n",
    "    cv=KFold(n_splits=5, shuffle=False),\n",
    "    metric=_pearsonr,\n",
    "    task=\"regression\",\n",
    "    metric_precision=6\n",
    ")\n",
    "\n",
    "lgbm_goss_trainer.fit(X, y)\n",
    "\n",
    "scores[\"LightGBM (goss)\"] = lgbm_goss_trainer.fold_scores\n",
    "oof_preds[\"LightGBM (goss)\"] = lgbm_goss_trainer.oof_preds\n",
    "test_preds[\"LightGBM (goss)\"] = lgbm_goss_trainer.predict(X_test)"
   ]
  },
  {
   "cell_type": "markdown",
   "id": "66edc2eb",
   "metadata": {
    "papermill": {
     "duration": 0.006095,
     "end_time": "2025-05-28T07:12:39.924720",
     "exception": false,
     "start_time": "2025-05-28T07:12:39.918625",
     "status": "completed"
    },
    "tags": []
   },
   "source": [
    "## XGBoost"
   ]
  },
  {
   "cell_type": "code",
   "execution_count": 14,
   "id": "826fb1b0",
   "metadata": {
    "execution": {
     "iopub.execute_input": "2025-05-28T07:12:39.939035Z",
     "iopub.status.busy": "2025-05-28T07:12:39.938195Z",
     "iopub.status.idle": "2025-05-28T09:23:11.859000Z",
     "shell.execute_reply": "2025-05-28T09:23:11.857810Z"
    },
    "papermill": {
     "duration": 7831.931128,
     "end_time": "2025-05-28T09:23:11.862150",
     "exception": false,
     "start_time": "2025-05-28T07:12:39.931022",
     "status": "completed"
    },
    "tags": []
   },
   "outputs": [
    {
     "name": "stdout",
     "output_type": "stream",
     "text": [
      "Training XGBRegressor\n",
      "\n",
      "--- Fold 0 - _pearsonr: 0.197688 - Time: 1413.00 s\n",
      "--- Fold 1 - _pearsonr: 0.102426 - Time: 1480.71 s\n",
      "--- Fold 2 - _pearsonr: 0.071148 - Time: 1716.45 s\n",
      "--- Fold 3 - _pearsonr: 0.124983 - Time: 1593.00 s\n",
      "--- Fold 4 - _pearsonr: 0.069779 - Time: 1553.68 s\n",
      "\n",
      "------ Overall _pearsonr: 0.106221 - Mean _pearsonr: 0.113205 ± 0.047004 - Time: 7758.04 s\n"
     ]
    }
   ],
   "source": [
    "xgb_trainer = Trainer(\n",
    "    XGBRegressor(**xgb_params),\n",
    "    cv=KFold(n_splits=5, shuffle=False),\n",
    "    metric=_pearsonr,\n",
    "    task=\"regression\",\n",
    "    metric_precision=6\n",
    ")\n",
    "\n",
    "xgb_trainer.fit(X, y)\n",
    "\n",
    "scores[\"XGBoost\"] = xgb_trainer.fold_scores\n",
    "oof_preds[\"XGBoost\"] = xgb_trainer.oof_preds\n",
    "test_preds[\"XGBoost\"] = xgb_trainer.predict(X_test)"
   ]
  },
  {
   "cell_type": "markdown",
   "id": "86672108",
   "metadata": {
    "papermill": {
     "duration": 0.006948,
     "end_time": "2025-05-28T09:23:11.877930",
     "exception": false,
     "start_time": "2025-05-28T09:23:11.870982",
     "status": "completed"
    },
    "tags": []
   },
   "source": [
    "# Ensembling with Ridge"
   ]
  },
  {
   "cell_type": "code",
   "execution_count": 15,
   "id": "74629701",
   "metadata": {
    "_kg_hide-input": true,
    "execution": {
     "iopub.execute_input": "2025-05-28T09:23:11.894313Z",
     "iopub.status.busy": "2025-05-28T09:23:11.893959Z",
     "iopub.status.idle": "2025-05-28T09:23:11.902785Z",
     "shell.execute_reply": "2025-05-28T09:23:11.901873Z"
    },
    "papermill": {
     "duration": 0.019582,
     "end_time": "2025-05-28T09:23:11.904119",
     "exception": false,
     "start_time": "2025-05-28T09:23:11.884537",
     "status": "completed"
    },
    "tags": []
   },
   "outputs": [],
   "source": [
    "def plot_weights(weights, title):\n",
    "    sorted_indices = np.argsort(weights[0])[::-1]\n",
    "    sorted_coeffs = np.array(weights[0])[sorted_indices]\n",
    "    sorted_model_names = np.array(list(oof_preds.keys()))[sorted_indices]\n",
    "\n",
    "    plt.figure(figsize=(10, weights.shape[1] * 0.5))\n",
    "    ax = sns.barplot(x=sorted_coeffs, y=sorted_model_names, palette=\"RdYlGn_r\")\n",
    "\n",
    "    for i, (value, name) in enumerate(zip(sorted_coeffs, sorted_model_names)):\n",
    "        if value >= 0:\n",
    "            ax.text(value, i, f\"{value:.3f}\", va=\"center\", ha=\"left\", color=\"black\")\n",
    "        else:\n",
    "            ax.text(value, i, f\"{value:.3f}\", va=\"center\", ha=\"right\", color=\"black\")\n",
    "\n",
    "    xlim = ax.get_xlim()\n",
    "    ax.set_xlim(xlim[0] - 0.1 * abs(xlim[0]), xlim[1] + 0.1 * abs(xlim[1]))\n",
    "\n",
    "    plt.title(title)\n",
    "    plt.xlabel(\"\")\n",
    "    plt.ylabel(\"\")\n",
    "    plt.tight_layout()\n",
    "    plt.show()"
   ]
  },
  {
   "cell_type": "code",
   "execution_count": 16,
   "id": "c2350b73",
   "metadata": {
    "execution": {
     "iopub.execute_input": "2025-05-28T09:23:11.919212Z",
     "iopub.status.busy": "2025-05-28T09:23:11.918920Z",
     "iopub.status.idle": "2025-05-28T09:23:12.025201Z",
     "shell.execute_reply": "2025-05-28T09:23:12.024340Z"
    },
    "papermill": {
     "duration": 0.115877,
     "end_time": "2025-05-28T09:23:12.026966",
     "exception": false,
     "start_time": "2025-05-28T09:23:11.911089",
     "status": "completed"
    },
    "tags": []
   },
   "outputs": [],
   "source": [
    "X = pd.DataFrame(oof_preds)\n",
    "X_test = pd.DataFrame(test_preds)"
   ]
  },
  {
   "cell_type": "code",
   "execution_count": 17,
   "id": "652eecd8",
   "metadata": {
    "execution": {
     "iopub.execute_input": "2025-05-28T09:23:12.042333Z",
     "iopub.status.busy": "2025-05-28T09:23:12.042016Z",
     "iopub.status.idle": "2025-05-28T09:23:12.163882Z",
     "shell.execute_reply": "2025-05-28T09:23:12.162942Z"
    },
    "papermill": {
     "duration": 0.13148,
     "end_time": "2025-05-28T09:23:12.165729",
     "exception": false,
     "start_time": "2025-05-28T09:23:12.034249",
     "status": "completed"
    },
    "tags": []
   },
   "outputs": [
    {
     "data": {
      "text/plain": [
       "['test_preds.pkl']"
      ]
     },
     "execution_count": 17,
     "metadata": {},
     "output_type": "execute_result"
    }
   ],
   "source": [
    "joblib.dump(X, \"oof_preds.pkl\")\n",
    "joblib.dump(X_test, \"test_preds.pkl\")"
   ]
  },
  {
   "cell_type": "code",
   "execution_count": 18,
   "id": "0831ac71",
   "metadata": {
    "_kg_hide-output": true,
    "execution": {
     "iopub.execute_input": "2025-05-28T09:23:12.180910Z",
     "iopub.status.busy": "2025-05-28T09:23:12.180645Z",
     "iopub.status.idle": "2025-05-28T09:27:01.529463Z",
     "shell.execute_reply": "2025-05-28T09:27:01.528551Z"
    },
    "papermill": {
     "duration": 229.358176,
     "end_time": "2025-05-28T09:27:01.531060",
     "exception": false,
     "start_time": "2025-05-28T09:23:12.172884",
     "status": "completed"
    },
    "scrolled": true,
    "tags": []
   },
   "outputs": [
    {
     "name": "stderr",
     "output_type": "stream",
     "text": [
      "[I 2025-05-28 09:23:12,186] A new study created in memory with name: no-name-e157adb4-049c-4756-b55b-d555168f2c9a\n",
      "[I 2025-05-28 09:23:15,186] Trial 1 finished with value: 0.11263076766566374 and parameters: {'alpha': 376.4816208007235, 'tol': 0.00224779705690448, 'fit_intercept': False, 'positive': False}. Best is trial 1 with value: 0.11263076766566374.\n",
      "[I 2025-05-28 09:23:15,394] Trial 0 finished with value: 0.11419641179482162 and parameters: {'alpha': 857.1183208262933, 'tol': 0.009277052512802543, 'fit_intercept': False, 'positive': True}. Best is trial 0 with value: 0.11419641179482162.\n",
      "[I 2025-05-28 09:23:15,891] Trial 3 finished with value: 0.11190746546784218 and parameters: {'alpha': 38.44393458576789, 'tol': 0.005365690532537741, 'fit_intercept': True, 'positive': False}. Best is trial 0 with value: 0.11419641179482162.\n",
      "[I 2025-05-28 09:23:16,427] Trial 2 finished with value: 0.11358956802022124 and parameters: {'alpha': 883.880122740308, 'tol': 0.0013695876319325506, 'fit_intercept': True, 'positive': True}. Best is trial 0 with value: 0.11419641179482162.\n",
      "[I 2025-05-28 09:23:18,228] Trial 4 finished with value: 0.11314998807834047 and parameters: {'alpha': 717.5481523683729, 'tol': 0.006380834281993016, 'fit_intercept': False, 'positive': False}. Best is trial 0 with value: 0.11419641179482162.\n",
      "[I 2025-05-28 09:23:19,297] Trial 5 finished with value: 0.11391108728778794 and parameters: {'alpha': 183.16399279282902, 'tol': 0.001339046032963153, 'fit_intercept': False, 'positive': True}. Best is trial 0 with value: 0.11419641179482162.\n",
      "[I 2025-05-28 09:23:19,817] Trial 7 finished with value: 0.11251440058417786 and parameters: {'alpha': 310.42886173153374, 'tol': 0.0008730858722464404, 'fit_intercept': False, 'positive': False}. Best is trial 0 with value: 0.11419641179482162.\n",
      "[I 2025-05-28 09:23:19,840] Trial 6 finished with value: 0.11420996041657083 and parameters: {'alpha': 214.50841764868255, 'tol': 0.002990964357571349, 'fit_intercept': True, 'positive': True}. Best is trial 6 with value: 0.11420996041657083.\n",
      "[I 2025-05-28 09:23:21,789] Trial 8 finished with value: 0.11444307154579691 and parameters: {'alpha': 907.7134511658328, 'tol': 0.0037643506711244603, 'fit_intercept': False, 'positive': True}. Best is trial 8 with value: 0.11444307154579691.\n",
      "[I 2025-05-28 09:23:22,860] Trial 9 finished with value: 0.11444735729060293 and parameters: {'alpha': 752.1721817148367, 'tol': 0.0035536305424514734, 'fit_intercept': False, 'positive': True}. Best is trial 9 with value: 0.11444735729060293.\n",
      "[I 2025-05-28 09:23:23,091] Trial 10 finished with value: 0.11322474891289358 and parameters: {'alpha': 909.6633247341723, 'tol': 0.008728313440760223, 'fit_intercept': True, 'positive': False}. Best is trial 9 with value: 0.11444735729060293.\n",
      "[I 2025-05-28 09:23:23,484] Trial 11 finished with value: 0.11327424312189609 and parameters: {'alpha': 23.483894109714633, 'tol': 0.0008640932827343566, 'fit_intercept': False, 'positive': True}. Best is trial 9 with value: 0.11444735729060293.\n",
      "[I 2025-05-28 09:23:25,474] Trial 12 finished with value: 0.11421303831782277 and parameters: {'alpha': 101.10916039087647, 'tol': 0.00601282853436962, 'fit_intercept': True, 'positive': True}. Best is trial 9 with value: 0.11444735729060293.\n",
      "[I 2025-05-28 09:23:26,513] Trial 13 finished with value: 0.11445319872108625 and parameters: {'alpha': 540.835582353766, 'tol': 0.004715728887943306, 'fit_intercept': False, 'positive': True}. Best is trial 13 with value: 0.11445319872108625.\n",
      "[I 2025-05-28 09:23:26,731] Trial 14 finished with value: 0.11444740799248501 and parameters: {'alpha': 750.3345487547685, 'tol': 0.0033230481170453004, 'fit_intercept': False, 'positive': True}. Best is trial 13 with value: 0.11445319872108625.\n",
      "[I 2025-05-28 09:23:27,243] Trial 15 finished with value: 0.11444601186302919 and parameters: {'alpha': 800.9568251327865, 'tol': 0.0033069386278083437, 'fit_intercept': False, 'positive': True}. Best is trial 13 with value: 0.11445319872108625.\n",
      "[I 2025-05-28 09:23:29,245] Trial 16 finished with value: 0.1144437852376627 and parameters: {'alpha': 881.7829041261476, 'tol': 0.004041189703793098, 'fit_intercept': False, 'positive': True}. Best is trial 13 with value: 0.11445319872108625.\n",
      "[I 2025-05-28 09:23:29,857] Trial 17 finished with value: 0.11445393024700226 and parameters: {'alpha': 514.4235948095677, 'tol': 0.005315036608236707, 'fit_intercept': False, 'positive': True}. Best is trial 17 with value: 0.11445393024700226.\n",
      "[I 2025-05-28 09:23:30,382] Trial 18 finished with value: 0.11445576079889733 and parameters: {'alpha': 448.38325453981923, 'tol': 0.006310356784208515, 'fit_intercept': False, 'positive': True}. Best is trial 18 with value: 0.11445576079889733.\n",
      "[I 2025-05-28 09:23:31,010] Trial 19 finished with value: 0.11371100087439545 and parameters: {'alpha': 237.4173654330022, 'tol': 0.007641297573987505, 'fit_intercept': False, 'positive': True}. Best is trial 18 with value: 0.11445576079889733.\n",
      "[I 2025-05-28 09:23:32,959] Trial 20 finished with value: 0.11445606520228599 and parameters: {'alpha': 437.4086198567535, 'tol': 0.004928988789138747, 'fit_intercept': False, 'positive': True}. Best is trial 20 with value: 0.11445606520228599.\n",
      "[I 2025-05-28 09:23:33,500] Trial 21 finished with value: 0.11370609936004553 and parameters: {'alpha': 413.776095255584, 'tol': 0.007593004986991256, 'fit_intercept': False, 'positive': True}. Best is trial 20 with value: 0.11445606520228599.\n",
      "[I 2025-05-28 09:23:34,003] Trial 22 finished with value: 0.11445931768376691 and parameters: {'alpha': 320.2758805526993, 'tol': 0.006766461526442399, 'fit_intercept': False, 'positive': True}. Best is trial 22 with value: 0.11445931768376691.\n",
      "[I 2025-05-28 09:23:34,539] Trial 23 finished with value: 0.11263871840867483 and parameters: {'alpha': 452.0709591562126, 'tol': 0.008217121574657609, 'fit_intercept': True, 'positive': False}. Best is trial 22 with value: 0.11445931768376691.\n",
      "[I 2025-05-28 09:23:36,655] Trial 24 finished with value: 0.11445458650531368 and parameters: {'alpha': 490.7393386368791, 'tol': 0.006790244408596046, 'fit_intercept': False, 'positive': True}. Best is trial 22 with value: 0.11445931768376691.\n",
      "[I 2025-05-28 09:23:37,027] Trial 25 finished with value: 0.11446053841863675 and parameters: {'alpha': 276.37380755677094, 'tol': 0.004729380721556985, 'fit_intercept': False, 'positive': True}. Best is trial 25 with value: 0.11446053841863675.\n",
      "[I 2025-05-28 09:23:37,207] Trial 26 finished with value: 0.1123888571334428 and parameters: {'alpha': 242.6045669634406, 'tol': 0.006670727344307947, 'fit_intercept': False, 'positive': False}. Best is trial 25 with value: 0.11446053841863675.\n",
      "[I 2025-05-28 09:23:38,445] Trial 27 finished with value: 0.11446390382480746 and parameters: {'alpha': 155.51256864255413, 'tol': 0.0050281543555377945, 'fit_intercept': False, 'positive': True}. Best is trial 27 with value: 0.11446390382480746.\n",
      "[I 2025-05-28 09:23:40,265] Trial 29 finished with value: 0.11263167383332265 and parameters: {'alpha': 377.0087880914892, 'tol': 0.00524113424957051, 'fit_intercept': False, 'positive': False}. Best is trial 27 with value: 0.11446390382480746.\n",
      "[I 2025-05-28 09:23:40,444] Trial 28 finished with value: 0.11446427273967737 and parameters: {'alpha': 142.27903347855013, 'tol': 0.004951236925584383, 'fit_intercept': False, 'positive': True}. Best is trial 28 with value: 0.11446427273967737.\n",
      "[I 2025-05-28 09:23:40,994] Trial 30 finished with value: 0.11446566937458653 and parameters: {'alpha': 92.20685252991416, 'tol': 0.0053815104710196095, 'fit_intercept': False, 'positive': True}. Best is trial 30 with value: 0.11446566937458653.\n",
      "[I 2025-05-28 09:23:42,050] Trial 31 finished with value: 0.11446640340625125 and parameters: {'alpha': 65.90759065903819, 'tol': 0.005614399834564872, 'fit_intercept': False, 'positive': True}. Best is trial 31 with value: 0.11446640340625125.\n",
      "[I 2025-05-28 09:23:43,709] Trial 32 finished with value: 0.11446607957391808 and parameters: {'alpha': 77.50855645847204, 'tol': 0.00451772486066865, 'fit_intercept': False, 'positive': True}. Best is trial 31 with value: 0.11446640340625125.\n",
      "[I 2025-05-28 09:23:44,057] Trial 33 finished with value: 0.11446273666242561 and parameters: {'alpha': 197.40026862038422, 'tol': 0.003909421548113808, 'fit_intercept': False, 'positive': True}. Best is trial 31 with value: 0.11446640340625125.\n",
      "[I 2025-05-28 09:23:44,664] Trial 34 finished with value: 0.1144659760739335 and parameters: {'alpha': 81.21682633610907, 'tol': 0.004714676338902029, 'fit_intercept': False, 'positive': True}. Best is trial 31 with value: 0.11446640340625125.\n",
      "[I 2025-05-28 09:23:45,753] Trial 35 finished with value: 0.11446772610382867 and parameters: {'alpha': 18.5472837290952, 'tol': 0.004330577719660899, 'fit_intercept': False, 'positive': True}. Best is trial 35 with value: 0.11446772610382867.\n",
      "[I 2025-05-28 09:23:47,368] Trial 36 finished with value: 0.11446810774401459 and parameters: {'alpha': 4.889495315534646, 'tol': 0.004727402867662217, 'fit_intercept': False, 'positive': True}. Best is trial 36 with value: 0.11446810774401459.\n",
      "[I 2025-05-28 09:23:47,739] Trial 37 finished with value: 0.1144665054286991 and parameters: {'alpha': 62.25321855865949, 'tol': 0.003993538258257139, 'fit_intercept': False, 'positive': True}. Best is trial 36 with value: 0.11446810774401459.\n",
      "[I 2025-05-28 09:23:48,291] Trial 38 finished with value: 0.1144678570635003 and parameters: {'alpha': 13.860258015212011, 'tol': 0.005075969052375387, 'fit_intercept': False, 'positive': True}. Best is trial 36 with value: 0.11446810774401459.\n",
      "[I 2025-05-28 09:23:49,504] Trial 39 finished with value: 0.11446722863664152 and parameters: {'alpha': 36.3549962410571, 'tol': 0.0038003730179667246, 'fit_intercept': False, 'positive': True}. Best is trial 36 with value: 0.11446810774401459.\n",
      "[I 2025-05-28 09:23:50,726] Trial 40 finished with value: 0.112845051852919 and parameters: {'alpha': 596.3460834847464, 'tol': 0.0016513612556968002, 'fit_intercept': True, 'positive': False}. Best is trial 36 with value: 0.11446810774401459.\n",
      "[I 2025-05-28 09:23:51,615] Trial 41 finished with value: 0.11421571069856347 and parameters: {'alpha': 2.8350201626166704, 'tol': 0.002232045028840933, 'fit_intercept': True, 'positive': True}. Best is trial 36 with value: 0.11446810774401459.\n",
      "[I 2025-05-28 09:23:52,200] Trial 42 finished with value: 0.11446746897606339 and parameters: {'alpha': 27.75094374019451, 'tol': 0.002752619872833647, 'fit_intercept': False, 'positive': True}. Best is trial 36 with value: 0.11446810774401459.\n",
      "[I 2025-05-28 09:23:52,548] Trial 43 finished with value: 0.11211589723746802 and parameters: {'alpha': 105.98743811374158, 'tol': 0.0054168218284164505, 'fit_intercept': False, 'positive': False}. Best is trial 36 with value: 0.11446810774401459.\n",
      "[I 2025-05-28 09:23:54,120] Trial 44 finished with value: 0.11402202008037002 and parameters: {'alpha': 15.145700795904588, 'tol': 0.009722077578235983, 'fit_intercept': True, 'positive': True}. Best is trial 36 with value: 0.11446810774401459.\n",
      "[I 2025-05-28 09:23:55,178] Trial 45 finished with value: 0.11446821153437625 and parameters: {'alpha': 1.1756955809981804, 'tol': 0.0030464717755038406, 'fit_intercept': False, 'positive': True}. Best is trial 45 with value: 0.11446821153437625.\n",
      "[I 2025-05-28 09:23:55,743] Trial 46 finished with value: 0.11446817764989012 and parameters: {'alpha': 2.388115392571688, 'tol': 0.002678843821929564, 'fit_intercept': False, 'positive': True}. Best is trial 45 with value: 0.11446821153437625.\n",
      "[I 2025-05-28 09:23:56,208] Trial 47 finished with value: 0.11189103162632434 and parameters: {'alpha': 30.492131879164674, 'tol': 0.001153818371777542, 'fit_intercept': True, 'positive': False}. Best is trial 45 with value: 0.11446821153437625.\n",
      "[I 2025-05-28 09:23:57,276] Trial 48 finished with value: 0.11189563367289654 and parameters: {'alpha': 5.135903629882893, 'tol': 0.002418032923843948, 'fit_intercept': False, 'positive': False}. Best is trial 45 with value: 0.11446821153437625.\n",
      "[I 2025-05-28 09:23:58,986] Trial 49 finished with value: 0.11446672753872829 and parameters: {'alpha': 54.29818740584187, 'tol': 0.002433171265782467, 'fit_intercept': False, 'positive': True}. Best is trial 45 with value: 0.11446821153437625.\n",
      "[I 2025-05-28 09:23:59,185] Trial 50 finished with value: 0.11200087499407381 and parameters: {'alpha': 84.58982956447059, 'tol': 0.003502415285110417, 'fit_intercept': True, 'positive': False}. Best is trial 45 with value: 0.11446821153437625.\n",
      "[I 2025-05-28 09:23:59,515] Trial 51 finished with value: 0.1119439147801506 and parameters: {'alpha': 26.592908121202072, 'tol': 0.003934399569169396, 'fit_intercept': False, 'positive': False}. Best is trial 45 with value: 0.11446821153437625.\n",
      "[I 2025-05-28 09:24:00,599] Trial 52 finished with value: 0.11327905838680934 and parameters: {'alpha': 817.1698441605256, 'tol': 0.00034202665018838105, 'fit_intercept': False, 'positive': False}. Best is trial 45 with value: 0.11446821153437625.\n",
      "[I 2025-05-28 09:24:02,816] Trial 53 finished with value: 0.11446745312712232 and parameters: {'alpha': 28.31829013998803, 'tol': 0.0026658923072232785, 'fit_intercept': False, 'positive': True}. Best is trial 45 with value: 0.11446821153437625.\n",
      "[I 2025-05-28 09:24:03,034] Trial 54 finished with value: 0.11446746924359244 and parameters: {'alpha': 27.741367019455314, 'tol': 0.0015730536253297613, 'fit_intercept': False, 'positive': True}. Best is trial 45 with value: 0.11446821153437625.\n",
      "[I 2025-05-28 09:24:03,238] Trial 55 finished with value: 0.1144664224615896 and parameters: {'alpha': 65.22502445918802, 'tol': 0.001967577418778443, 'fit_intercept': False, 'positive': True}. Best is trial 45 with value: 0.11446821153437625.\n",
      "[I 2025-05-28 09:24:04,176] Trial 56 finished with value: 0.114467832683575 and parameters: {'alpha': 14.732783047197508, 'tol': 0.0018781347675833693, 'fit_intercept': False, 'positive': True}. Best is trial 45 with value: 0.11446821153437625.\n",
      "[I 2025-05-28 09:24:06,376] Trial 58 finished with value: 0.11317084899744922 and parameters: {'alpha': 860.6094486953739, 'tol': 0.004863604846754182, 'fit_intercept': True, 'positive': False}. Best is trial 45 with value: 0.11446821153437625.\n",
      "[I 2025-05-28 09:24:06,710] Trial 57 finished with value: 0.11421464727223422 and parameters: {'alpha': 41.92095563234524, 'tol': 0.0046347965859962915, 'fit_intercept': True, 'positive': True}. Best is trial 45 with value: 0.11446821153437625.\n",
      "[I 2025-05-28 09:24:06,969] Trial 59 finished with value: 0.1133666729562168 and parameters: {'alpha': 257.9124593644562, 'tol': 0.0008654265405677169, 'fit_intercept': False, 'positive': True}. Best is trial 45 with value: 0.11446821153437625.\n",
      "[I 2025-05-28 09:24:08,211] Trial 60 finished with value: 0.11341425161018578 and parameters: {'alpha': 819.7725660344203, 'tol': 0.007572194808235096, 'fit_intercept': True, 'positive': True}. Best is trial 45 with value: 0.11446821153437625.\n",
      "[I 2025-05-28 09:24:10,289] Trial 61 finished with value: 0.11445825713705982 and parameters: {'alpha': 358.4438656054909, 'tol': 0.001655129117480616, 'fit_intercept': False, 'positive': True}. Best is trial 45 with value: 0.11446821153437625.\n",
      "[I 2025-05-28 09:24:10,290] Trial 62 finished with value: 0.1140062310907044 and parameters: {'alpha': 598.3934569078284, 'tol': 0.00873207143063914, 'fit_intercept': True, 'positive': True}. Best is trial 45 with value: 0.11446821153437625.\n",
      "[I 2025-05-28 09:24:11,222] Trial 63 finished with value: 0.11420167405833537 and parameters: {'alpha': 520.9395098823737, 'tol': 0.00395375003825692, 'fit_intercept': True, 'positive': True}. Best is trial 45 with value: 0.11446821153437625.\n",
      "[I 2025-05-28 09:24:11,824] Trial 64 finished with value: 0.1132676814235037 and parameters: {'alpha': 7.251171361903765, 'tol': 0.000828183708060202, 'fit_intercept': False, 'positive': True}. Best is trial 45 with value: 0.11446821153437625.\n",
      "[I 2025-05-28 09:24:13,865] Trial 66 finished with value: 0.11387251606900532 and parameters: {'alpha': 7.129773838598871, 'tol': 0.0013392529903419842, 'fit_intercept': False, 'positive': True}. Best is trial 45 with value: 0.11446821153437625.\n",
      "[I 2025-05-28 09:24:14,178] Trial 65 finished with value: 0.11328652468071906 and parameters: {'alpha': 54.007469364249545, 'tol': 0.0007768724149954823, 'fit_intercept': False, 'positive': True}. Best is trial 45 with value: 0.11446821153437625.\n",
      "[I 2025-05-28 09:24:14,923] Trial 67 finished with value: 0.11446766911862986 and parameters: {'alpha': 20.586892764053285, 'tol': 0.0017483688316196338, 'fit_intercept': False, 'positive': True}. Best is trial 45 with value: 0.11446821153437625.\n",
      "[I 2025-05-28 09:24:15,340] Trial 68 finished with value: 0.11446792286128663 and parameters: {'alpha': 11.505508241437255, 'tol': 0.0019408737288539074, 'fit_intercept': False, 'positive': True}. Best is trial 45 with value: 0.11446821153437625.\n",
      "[I 2025-05-28 09:24:17,313] Trial 69 finished with value: 0.11446793657973686 and parameters: {'alpha': 11.014568811545464, 'tol': 0.0038158140120122864, 'fit_intercept': False, 'positive': True}. Best is trial 45 with value: 0.11446821153437625.\n",
      "[I 2025-05-28 09:24:17,813] Trial 70 finished with value: 0.11371706725197066 and parameters: {'alpha': 19.883025710456796, 'tol': 0.007222522521289146, 'fit_intercept': False, 'positive': True}. Best is trial 45 with value: 0.11446821153437625.\n",
      "[I 2025-05-28 09:24:18,369] Trial 71 finished with value: 0.11446776950841908 and parameters: {'alpha': 16.993798548182575, 'tol': 0.004701671576593612, 'fit_intercept': False, 'positive': True}. Best is trial 45 with value: 0.11446821153437625.\n",
      "[I 2025-05-28 09:24:18,928] Trial 72 finished with value: 0.11371665850302226 and parameters: {'alpha': 34.5148495137563, 'tol': 0.007323417345254569, 'fit_intercept': False, 'positive': True}. Best is trial 45 with value: 0.11446821153437625.\n",
      "[I 2025-05-28 09:24:20,813] Trial 73 finished with value: 0.11190575495864577 and parameters: {'alpha': 9.605115393574394, 'tol': 0.00017774186174835272, 'fit_intercept': False, 'positive': False}. Best is trial 45 with value: 0.11446821153437625.\n",
      "[I 2025-05-28 09:24:21,348] Trial 74 finished with value: 0.1144672823208808 and parameters: {'alpha': 34.43301220570662, 'tol': 0.003738766517794663, 'fit_intercept': False, 'positive': True}. Best is trial 45 with value: 0.11446821153437625.\n",
      "[I 2025-05-28 09:24:21,915] Trial 75 finished with value: 0.11446742369515203 and parameters: {'alpha': 29.371884499877297, 'tol': 0.004500561538534758, 'fit_intercept': False, 'positive': True}. Best is trial 45 with value: 0.11446821153437625.\n",
      "[I 2025-05-28 09:24:22,477] Trial 76 finished with value: 0.11446732372742727 and parameters: {'alpha': 32.950633116854235, 'tol': 0.005269236942562986, 'fit_intercept': False, 'positive': True}. Best is trial 45 with value: 0.11446821153437625.\n",
      "[I 2025-05-28 09:24:23,890] Trial 77 finished with value: 0.11219276682200308 and parameters: {'alpha': 143.069684902282, 'tol': 0.009958884469669083, 'fit_intercept': False, 'positive': False}. Best is trial 45 with value: 0.11446821153437625.\n",
      "[I 2025-05-28 09:24:25,103] Trial 78 finished with value: 0.1144674903215546 and parameters: {'alpha': 26.986845434897404, 'tol': 0.004355854166941824, 'fit_intercept': False, 'positive': True}. Best is trial 45 with value: 0.11446821153437625.\n",
      "[I 2025-05-28 09:24:25,680] Trial 79 finished with value: 0.11446710236572702 and parameters: {'alpha': 40.87595284234033, 'tol': 0.0029201115731092536, 'fit_intercept': False, 'positive': True}. Best is trial 45 with value: 0.11446821153437625.\n",
      "[I 2025-05-28 09:24:26,270] Trial 80 finished with value: 0.11446806347517775 and parameters: {'alpha': 6.473583437685411, 'tol': 0.002884685852711324, 'fit_intercept': False, 'positive': True}. Best is trial 45 with value: 0.11446821153437625.\n",
      "[I 2025-05-28 09:24:27,574] Trial 81 finished with value: 0.11446819793861289 and parameters: {'alpha': 1.662162159883696, 'tol': 0.005436577208632263, 'fit_intercept': False, 'positive': True}. Best is trial 45 with value: 0.11446821153437625.\n",
      "[I 2025-05-28 09:24:28,799] Trial 82 finished with value: 0.1144679079458163 and parameters: {'alpha': 12.03928988930433, 'tol': 0.0033438643569265953, 'fit_intercept': False, 'positive': True}. Best is trial 45 with value: 0.11446821153437625.\n",
      "[I 2025-05-28 09:24:29,414] Trial 83 finished with value: 0.11369246347283815 and parameters: {'alpha': 907.2243389127234, 'tol': 0.008112875182928296, 'fit_intercept': False, 'positive': True}. Best is trial 45 with value: 0.11446821153437625.\n",
      "[I 2025-05-28 09:24:29,991] Trial 84 finished with value: 0.11446808636444608 and parameters: {'alpha': 5.6545229199151095, 'tol': 0.004216463076773279, 'fit_intercept': False, 'positive': True}. Best is trial 45 with value: 0.11446821153437625.\n",
      "[I 2025-05-28 09:24:31,478] Trial 85 finished with value: 0.11350783323001098 and parameters: {'alpha': 248.6514267132094, 'tol': 0.0013701645238702069, 'fit_intercept': True, 'positive': True}. Best is trial 45 with value: 0.11446821153437625.\n",
      "[I 2025-05-28 09:24:32,055] Trial 86 finished with value: 0.11446775417255065 and parameters: {'alpha': 17.542676869242197, 'tol': 0.0035556491480795175, 'fit_intercept': False, 'positive': True}. Best is trial 45 with value: 0.11446821153437625.\n",
      "[I 2025-05-28 09:24:33,269] Trial 87 finished with value: 0.11420838638177253 and parameters: {'alpha': 272.5888041561346, 'tol': 0.0025833784645498143, 'fit_intercept': True, 'positive': True}. Best is trial 45 with value: 0.11446821153437625.\n",
      "[I 2025-05-28 09:24:33,856] Trial 88 finished with value: 0.11315606851851731 and parameters: {'alpha': 444.7490345398378, 'tol': 0.000365542861021426, 'fit_intercept': True, 'positive': True}. Best is trial 45 with value: 0.11446821153437625.\n",
      "[I 2025-05-28 09:24:35,369] Trial 89 finished with value: 0.11446743366425052 and parameters: {'alpha': 29.015012407375217, 'tol': 0.0038564497909720384, 'fit_intercept': False, 'positive': True}. Best is trial 45 with value: 0.11446821153437625.\n",
      "[I 2025-05-28 09:24:35,771] Trial 90 finished with value: 0.11446823139877664 and parameters: {'alpha': 0.46493979534373575, 'tol': 0.003436388893542459, 'fit_intercept': False, 'positive': True}. Best is trial 90 with value: 0.11446823139877664.\n",
      "[I 2025-05-28 09:24:36,986] Trial 91 finished with value: 0.11446126988823038 and parameters: {'alpha': 250.08333414831247, 'tol': 0.0037767680771861735, 'fit_intercept': False, 'positive': True}. Best is trial 90 with value: 0.11446823139877664.\n",
      "[I 2025-05-28 09:24:37,386] Trial 92 finished with value: 0.11446078981174099 and parameters: {'alpha': 267.3369010345985, 'tol': 0.002892222443106742, 'fit_intercept': False, 'positive': True}. Best is trial 90 with value: 0.11446823139877664.\n",
      "[I 2025-05-28 09:24:39,014] Trial 93 finished with value: 0.11446175228565654 and parameters: {'alpha': 232.75149941083063, 'tol': 0.00313111465175762, 'fit_intercept': False, 'positive': True}. Best is trial 90 with value: 0.11446823139877664.\n",
      "[I 2025-05-28 09:24:39,565] Trial 94 finished with value: 0.114468074256169 and parameters: {'alpha': 6.0877992779502605, 'tol': 0.004081964111128307, 'fit_intercept': False, 'positive': True}. Best is trial 90 with value: 0.11446823139877664.\n",
      "[I 2025-05-28 09:24:40,627] Trial 95 finished with value: 0.11446611856429004 and parameters: {'alpha': 76.11164338263153, 'tol': 0.0031788080137015212, 'fit_intercept': False, 'positive': True}. Best is trial 90 with value: 0.11446823139877664.\n",
      "[I 2025-05-28 09:24:40,825] Trial 96 finished with value: 0.1144676520266426 and parameters: {'alpha': 21.19866155106236, 'tol': 0.003322018096465638, 'fit_intercept': False, 'positive': True}. Best is trial 90 with value: 0.11446823139877664.\n",
      "[I 2025-05-28 09:24:42,600] Trial 97 finished with value: 0.11446780821612786 and parameters: {'alpha': 15.608453522070935, 'tol': 0.0037618919328293843, 'fit_intercept': False, 'positive': True}. Best is trial 90 with value: 0.11446823139877664.\n",
      "[I 2025-05-28 09:24:43,173] Trial 98 finished with value: 0.11446767676919936 and parameters: {'alpha': 20.31306012491982, 'tol': 0.0030135148182828574, 'fit_intercept': False, 'positive': True}. Best is trial 90 with value: 0.11446823139877664.\n",
      "[I 2025-05-28 09:24:44,193] Trial 99 finished with value: 0.11446819528636427 and parameters: {'alpha': 1.7570620712914873, 'tol': 0.005532831290656151, 'fit_intercept': False, 'positive': True}. Best is trial 90 with value: 0.11446823139877664.\n",
      "[I 2025-05-28 09:24:44,558] Trial 100 finished with value: 0.11446815307697229 and parameters: {'alpha': 3.267374053829539, 'tol': 0.00488827453354225, 'fit_intercept': False, 'positive': True}. Best is trial 90 with value: 0.11446823139877664.\n",
      "[I 2025-05-28 09:24:45,952] Trial 101 finished with value: 0.11305145843581102 and parameters: {'alpha': 646.0198180123026, 'tol': 0.003443587803711028, 'fit_intercept': False, 'positive': False}. Best is trial 90 with value: 0.11446823139877664.\n",
      "[I 2025-05-28 09:24:46,473] Trial 102 finished with value: 0.11243698282901204 and parameters: {'alpha': 268.20314581941045, 'tol': 0.002970409061734045, 'fit_intercept': False, 'positive': False}. Best is trial 90 with value: 0.11446823139877664.\n",
      "[I 2025-05-28 09:24:47,387] Trial 103 finished with value: 0.11341683671413635 and parameters: {'alpha': 931.9634504075011, 'tol': 0.003923746378018405, 'fit_intercept': False, 'positive': False}. Best is trial 90 with value: 0.11446823139877664.\n",
      "[I 2025-05-28 09:24:48,446] Trial 104 finished with value: 0.114467456309997 and parameters: {'alpha': 28.20435195901097, 'tol': 0.005839295761890054, 'fit_intercept': False, 'positive': True}. Best is trial 90 with value: 0.11446823139877664.\n",
      "[I 2025-05-28 09:24:49,867] Trial 105 finished with value: 0.11446648367088455 and parameters: {'alpha': 63.032548875999154, 'tol': 0.005104616302312754, 'fit_intercept': False, 'positive': True}. Best is trial 90 with value: 0.11446823139877664.\n",
      "[I 2025-05-28 09:24:50,121] Trial 106 finished with value: 0.11446485701617766 and parameters: {'alpha': 121.32630197650496, 'tol': 0.005933802386890996, 'fit_intercept': False, 'positive': True}. Best is trial 90 with value: 0.11446823139877664.\n",
      "[I 2025-05-28 09:24:51,309] Trial 107 finished with value: 0.11446592334640016 and parameters: {'alpha': 83.10607613279689, 'tol': 0.0057612448171832035, 'fit_intercept': False, 'positive': True}. Best is trial 90 with value: 0.11446823139877664.\n",
      "[I 2025-05-28 09:24:51,535] Trial 108 finished with value: 0.11297967231791113 and parameters: {'alpha': 596.1332773777701, 'tol': 0.008276078082032533, 'fit_intercept': False, 'positive': False}. Best is trial 90 with value: 0.11446823139877664.\n",
      "[I 2025-05-28 09:24:53,320] Trial 109 finished with value: 0.114467705765196 and parameters: {'alpha': 19.275234008298803, 'tol': 0.006157377617577411, 'fit_intercept': False, 'positive': True}. Best is trial 90 with value: 0.11446823139877664.\n",
      "[I 2025-05-28 09:24:53,903] Trial 110 finished with value: 0.11421465285013817 and parameters: {'alpha': 41.71587065766913, 'tol': 0.0038125176153637366, 'fit_intercept': True, 'positive': True}. Best is trial 90 with value: 0.11446823139877664.\n",
      "[I 2025-05-28 09:24:54,968] Trial 111 finished with value: 0.11446771697852134 and parameters: {'alpha': 18.8738910882306, 'tol': 0.005263681066961468, 'fit_intercept': False, 'positive': True}. Best is trial 90 with value: 0.11446823139877664.\n",
      "[I 2025-05-28 09:24:55,153] Trial 112 finished with value: 0.1144680890540852 and parameters: {'alpha': 5.558278694924886, 'tol': 0.005947852332958264, 'fit_intercept': False, 'positive': True}. Best is trial 90 with value: 0.11446823139877664.\n",
      "[I 2025-05-28 09:24:57,128] Trial 113 finished with value: 0.11446822226120139 and parameters: {'alpha': 0.7918846265316126, 'tol': 0.005287683060866472, 'fit_intercept': False, 'positive': True}. Best is trial 90 with value: 0.11446823139877664.\n",
      "[I 2025-05-28 09:24:57,664] Trial 114 finished with value: 0.1144681921919541 and parameters: {'alpha': 1.867783130375652, 'tol': 0.004473427499963074, 'fit_intercept': False, 'positive': True}. Best is trial 90 with value: 0.11446823139877664.\n",
      "[I 2025-05-28 09:24:58,372] Trial 116 finished with value: 0.1120238656262619 and parameters: {'alpha': 62.910345604305405, 'tol': 0.006405144870953592, 'fit_intercept': False, 'positive': False}. Best is trial 90 with value: 0.11446823139877664.\n",
      "[I 2025-05-28 09:24:58,750] Trial 115 finished with value: 0.11446738268891354 and parameters: {'alpha': 30.839841866205987, 'tol': 0.0031137328752552313, 'fit_intercept': False, 'positive': True}. Best is trial 90 with value: 0.11446823139877664.\n",
      "[I 2025-05-28 09:25:00,688] Trial 118 finished with value: 0.11189607447434957 and parameters: {'alpha': 5.330230580336149, 'tol': 0.005173321487907181, 'fit_intercept': False, 'positive': False}. Best is trial 90 with value: 0.11446823139877664.\n",
      "[I 2025-05-28 09:25:01,027] Trial 117 finished with value: 0.11343572931975794 and parameters: {'alpha': 24.763440330461272, 'tol': 0.006714708569287876, 'fit_intercept': True, 'positive': True}. Best is trial 90 with value: 0.11446823139877664.\n",
      "[I 2025-05-28 09:25:01,936] Trial 119 finished with value: 0.11446807529309791 and parameters: {'alpha': 6.0506942208565455, 'tol': 0.0063563028307698395, 'fit_intercept': False, 'positive': True}. Best is trial 90 with value: 0.11446823139877664.\n",
      "[I 2025-05-28 09:25:02,496] Trial 120 finished with value: 0.11446810532756875 and parameters: {'alpha': 4.975962775466435, 'tol': 0.005000106072021451, 'fit_intercept': False, 'positive': True}. Best is trial 90 with value: 0.11446823139877664.\n",
      "[I 2025-05-28 09:25:04,489] Trial 122 finished with value: 0.11446720148056264 and parameters: {'alpha': 37.32725269043461, 'tol': 0.006411567031770027, 'fit_intercept': False, 'positive': True}. Best is trial 90 with value: 0.11446823139877664.\n",
      "[I 2025-05-28 09:25:04,495] Trial 121 finished with value: 0.11446790540732979 and parameters: {'alpha': 12.13013548615188, 'tol': 0.006112098383392921, 'fit_intercept': False, 'positive': True}. Best is trial 90 with value: 0.11446823139877664.\n",
      "[I 2025-05-28 09:25:05,556] Trial 123 finished with value: 0.11371722302009937 and parameters: {'alpha': 14.308023853472736, 'tol': 0.008614298773986333, 'fit_intercept': False, 'positive': True}. Best is trial 90 with value: 0.11446823139877664.\n",
      "[I 2025-05-28 09:25:06,183] Trial 124 finished with value: 0.11421947391009497 and parameters: {'alpha': 25.691970587094854, 'tol': 0.009933903756350082, 'fit_intercept': False, 'positive': True}. Best is trial 90 with value: 0.11446823139877664.\n",
      "[I 2025-05-28 09:25:08,394] Trial 125 finished with value: 0.11446809662348742 and parameters: {'alpha': 5.287421186190015, 'tol': 0.005658918049479436, 'fit_intercept': False, 'positive': True}. Best is trial 90 with value: 0.11446823139877664.\n",
      "[I 2025-05-28 09:25:08,417] Trial 126 finished with value: 0.11446800653080103 and parameters: {'alpha': 8.511308497847835, 'tol': 0.006046680530284298, 'fit_intercept': False, 'positive': True}. Best is trial 90 with value: 0.11446823139877664.\n",
      "[I 2025-05-28 09:25:08,844] Trial 127 finished with value: 0.11446823745251625 and parameters: {'alpha': 0.24833642061164696, 'tol': 0.006031688192454512, 'fit_intercept': False, 'positive': True}. Best is trial 127 with value: 0.11446823745251625.\n",
      "[I 2025-05-28 09:25:10,077] Trial 128 finished with value: 0.11446106329228409 and parameters: {'alpha': 257.50760179189103, 'tol': 0.006303330418499779, 'fit_intercept': False, 'positive': True}. Best is trial 127 with value: 0.11446823745251625.\n",
      "[I 2025-05-28 09:25:12,020] Trial 129 finished with value: 0.11446788137467623 and parameters: {'alpha': 12.990206459434798, 'tol': 0.005450662167482649, 'fit_intercept': False, 'positive': True}. Best is trial 127 with value: 0.11446823745251625.\n",
      "[I 2025-05-28 09:25:12,024] Trial 130 finished with value: 0.11446101488768286 and parameters: {'alpha': 259.2472147049325, 'tol': 0.0053510817816582994, 'fit_intercept': False, 'positive': True}. Best is trial 127 with value: 0.11446823745251625.\n",
      "[I 2025-05-28 09:25:12,466] Trial 131 finished with value: 0.11446824412702698 and parameters: {'alpha': 0.009522729209936576, 'tol': 0.006324849577158511, 'fit_intercept': False, 'positive': True}. Best is trial 131 with value: 0.11446824412702698.\n",
      "[I 2025-05-28 09:25:13,687] Trial 132 finished with value: 0.11446760713035793 and parameters: {'alpha': 22.805652518530728, 'tol': 0.005941460060208075, 'fit_intercept': False, 'positive': True}. Best is trial 131 with value: 0.11446824412702698.\n",
      "[I 2025-05-28 09:25:15,691] Trial 134 finished with value: 0.11446823228430181 and parameters: {'alpha': 0.4332555697983471, 'tol': 0.005033276199658413, 'fit_intercept': False, 'positive': True}. Best is trial 131 with value: 0.11446824412702698.\n",
      "[I 2025-05-28 09:25:15,713] Trial 133 finished with value: 0.11446804295934285 and parameters: {'alpha': 7.20772375194503, 'tol': 0.005303338811312425, 'fit_intercept': False, 'positive': True}. Best is trial 131 with value: 0.11446824412702698.\n",
      "[I 2025-05-28 09:25:16,109] Trial 135 finished with value: 0.11446648395255461 and parameters: {'alpha': 63.022459836366224, 'tol': 0.006768129087661709, 'fit_intercept': False, 'positive': True}. Best is trial 131 with value: 0.11446824412702698.\n",
      "[I 2025-05-28 09:25:17,331] Trial 136 finished with value: 0.11446788888017378 and parameters: {'alpha': 12.721601356006222, 'tol': 0.00589830629152905, 'fit_intercept': False, 'positive': True}. Best is trial 131 with value: 0.11446824412702698.\n",
      "[I 2025-05-28 09:25:18,793] Trial 137 finished with value: 0.11211027237468707 and parameters: {'alpha': 140.79427109798652, 'tol': 0.006148513649058174, 'fit_intercept': True, 'positive': False}. Best is trial 131 with value: 0.11446824412702698.\n",
      "[I 2025-05-28 09:25:19,340] Trial 138 finished with value: 0.11446781197017782 and parameters: {'alpha': 15.474098203274862, 'tol': 0.005299051040014218, 'fit_intercept': False, 'positive': True}. Best is trial 131 with value: 0.11446824412702698.\n",
      "[I 2025-05-28 09:25:19,858] Trial 139 finished with value: 0.11446309712275222 and parameters: {'alpha': 184.46067487858815, 'tol': 0.005128342780310818, 'fit_intercept': False, 'positive': True}. Best is trial 131 with value: 0.11446824412702698.\n",
      "[I 2025-05-28 09:25:21,154] Trial 140 finished with value: 0.11446598280325267 and parameters: {'alpha': 80.97571639919937, 'tol': 0.004973366764211147, 'fit_intercept': False, 'positive': True}. Best is trial 131 with value: 0.11446824412702698.\n",
      "[I 2025-05-28 09:25:22,441] Trial 141 finished with value: 0.1144672823164482 and parameters: {'alpha': 34.43317089672319, 'tol': 0.00512780296560948, 'fit_intercept': False, 'positive': True}. Best is trial 131 with value: 0.11446824412702698.\n",
      "[I 2025-05-28 09:25:23,009] Trial 142 finished with value: 0.11446795661791723 and parameters: {'alpha': 10.297473907827126, 'tol': 0.0050158660059044435, 'fit_intercept': False, 'positive': True}. Best is trial 131 with value: 0.11446824412702698.\n",
      "[I 2025-05-28 09:25:23,507] Trial 143 finished with value: 0.11446734590824459 and parameters: {'alpha': 32.15656214489081, 'tol': 0.004235833698333277, 'fit_intercept': False, 'positive': True}. Best is trial 131 with value: 0.11446824412702698.\n",
      "[I 2025-05-28 09:25:24,803] Trial 144 finished with value: 0.11446767696311744 and parameters: {'alpha': 20.30611933838164, 'tol': 0.0065618986658633315, 'fit_intercept': False, 'positive': True}. Best is trial 131 with value: 0.11446824412702698.\n",
      "[I 2025-05-28 09:25:26,078] Trial 145 finished with value: 0.11446210688603102 and parameters: {'alpha': 220.01451330950746, 'tol': 0.0069230540806895155, 'fit_intercept': False, 'positive': True}. Best is trial 131 with value: 0.11446824412702698.\n",
      "[I 2025-05-28 09:25:26,652] Trial 146 finished with value: 0.11446815660700475 and parameters: {'alpha': 3.1410629788657696, 'tol': 0.005076624619576084, 'fit_intercept': False, 'positive': True}. Best is trial 131 with value: 0.11446824412702698.\n",
      "[I 2025-05-28 09:25:27,136] Trial 147 finished with value: 0.11446820834052371 and parameters: {'alpha': 1.2899736471383774, 'tol': 0.005887487519426576, 'fit_intercept': False, 'positive': True}. Best is trial 131 with value: 0.11446824412702698.\n",
      "[I 2025-05-28 09:25:28,430] Trial 148 finished with value: 0.1144631613244362 and parameters: {'alpha': 182.1563019868486, 'tol': 0.00691037462514493, 'fit_intercept': False, 'positive': True}. Best is trial 131 with value: 0.11446824412702698.\n",
      "[I 2025-05-28 09:25:29,738] Trial 149 finished with value: 0.11446783159394232 and parameters: {'alpha': 14.771779854328852, 'tol': 0.006735745874218141, 'fit_intercept': False, 'positive': True}. Best is trial 131 with value: 0.11446824412702698.\n",
      "[I 2025-05-28 09:25:30,301] Trial 150 finished with value: 0.11446803052746776 and parameters: {'alpha': 7.652591493781838, 'tol': 0.004033074473437297, 'fit_intercept': False, 'positive': True}. Best is trial 131 with value: 0.11446824412702698.\n",
      "[I 2025-05-28 09:25:30,823] Trial 151 finished with value: 0.11446808147638148 and parameters: {'alpha': 5.829434520266022, 'tol': 0.004508025009491553, 'fit_intercept': False, 'positive': True}. Best is trial 131 with value: 0.11446824412702698.\n",
      "[I 2025-05-28 09:25:32,119] Trial 152 finished with value: 0.11421533668997852 and parameters: {'alpha': 16.57851236318181, 'tol': 0.0047678471032597215, 'fit_intercept': True, 'positive': True}. Best is trial 131 with value: 0.11446824412702698.\n",
      "[I 2025-05-28 09:25:33,391] Trial 153 finished with value: 0.11446741031722371 and parameters: {'alpha': 29.85078874172069, 'tol': 0.004077850270289291, 'fit_intercept': False, 'positive': True}. Best is trial 131 with value: 0.11446824412702698.\n",
      "[I 2025-05-28 09:25:34,108] Trial 154 finished with value: 0.11446284087978054 and parameters: {'alpha': 193.65883962162954, 'tol': 0.0049362841100436825, 'fit_intercept': False, 'positive': True}. Best is trial 131 with value: 0.11446824412702698.\n",
      "[I 2025-05-28 09:25:34,163] Trial 155 finished with value: 0.11446262666135279 and parameters: {'alpha': 201.3495952476465, 'tol': 0.004554224062594755, 'fit_intercept': False, 'positive': True}. Best is trial 131 with value: 0.11446824412702698.\n",
      "[I 2025-05-28 09:25:35,907] Trial 156 finished with value: 0.11420747339224466 and parameters: {'alpha': 306.3046393416166, 'tol': 0.0056914358945019845, 'fit_intercept': True, 'positive': True}. Best is trial 131 with value: 0.11446824412702698.\n",
      "[I 2025-05-28 09:25:37,194] Trial 157 finished with value: 0.11446760082635074 and parameters: {'alpha': 23.03129796348394, 'tol': 0.004695238612364602, 'fit_intercept': False, 'positive': True}. Best is trial 131 with value: 0.11446824412702698.\n",
      "[I 2025-05-28 09:25:37,797] Trial 159 finished with value: 0.11342735800497758 and parameters: {'alpha': 333.30372961799713, 'tol': 0.007588336694244662, 'fit_intercept': True, 'positive': True}. Best is trial 131 with value: 0.11446824412702698.\n",
      "[I 2025-05-28 09:25:38,011] Trial 158 finished with value: 0.11446722905718938 and parameters: {'alpha': 36.339939688748764, 'tol': 0.0046015079013936805, 'fit_intercept': False, 'positive': True}. Best is trial 131 with value: 0.11446824412702698.\n",
      "[I 2025-05-28 09:25:39,727] Trial 160 finished with value: 0.11446765033130642 and parameters: {'alpha': 21.25934260016548, 'tol': 0.006562643952043176, 'fit_intercept': False, 'positive': True}. Best is trial 131 with value: 0.11446824412702698.\n",
      "[I 2025-05-28 09:25:40,988] Trial 161 finished with value: 0.1144678760988371 and parameters: {'alpha': 13.179017778419372, 'tol': 0.006024532145510788, 'fit_intercept': False, 'positive': True}. Best is trial 131 with value: 0.11446824412702698.\n",
      "[I 2025-05-28 09:25:41,359] Trial 162 finished with value: 0.11446757374030876 and parameters: {'alpha': 24.00082489537973, 'tol': 0.0057204678106774366, 'fit_intercept': False, 'positive': True}. Best is trial 131 with value: 0.11446824412702698.\n",
      "[I 2025-05-28 09:25:41,603] Trial 163 finished with value: 0.11446808673203865 and parameters: {'alpha': 5.641369225366772, 'tol': 0.006578815893652488, 'fit_intercept': False, 'positive': True}. Best is trial 131 with value: 0.11446824412702698.\n",
      "[I 2025-05-28 09:25:43,358] Trial 164 finished with value: 0.1144681688538883 and parameters: {'alpha': 2.702849009011473, 'tol': 0.006538970469321547, 'fit_intercept': False, 'positive': True}. Best is trial 131 with value: 0.11446824412702698.\n",
      "[I 2025-05-28 09:25:44,832] Trial 165 finished with value: 0.11446617918007287 and parameters: {'alpha': 73.94002049348491, 'tol': 0.006214643977364736, 'fit_intercept': False, 'positive': True}. Best is trial 131 with value: 0.11446824412702698.\n",
      "[I 2025-05-28 09:25:45,326] Trial 166 finished with value: 0.11446746275569483 and parameters: {'alpha': 27.973614342883337, 'tol': 0.004776784153291317, 'fit_intercept': False, 'positive': True}. Best is trial 131 with value: 0.11446824412702698.\n",
      "[I 2025-05-28 09:25:45,558] Trial 167 finished with value: 0.11446751175201204 and parameters: {'alpha': 26.21971570651689, 'tol': 0.00489462310701982, 'fit_intercept': False, 'positive': True}. Best is trial 131 with value: 0.11446824412702698.\n",
      "[I 2025-05-28 09:25:47,352] Trial 168 finished with value: 0.11446254621340243 and parameters: {'alpha': 204.23805690414838, 'tol': 0.005315535105197629, 'fit_intercept': False, 'positive': True}. Best is trial 131 with value: 0.11446824412702698.\n",
      "[I 2025-05-28 09:25:48,653] Trial 169 finished with value: 0.11446762207028134 and parameters: {'alpha': 22.27089683988462, 'tol': 0.004953012287159964, 'fit_intercept': False, 'positive': True}. Best is trial 131 with value: 0.11446824412702698.\n",
      "[I 2025-05-28 09:25:48,998] Trial 170 finished with value: 0.11446729322634727 and parameters: {'alpha': 34.04258633037964, 'tol': 0.00501782613524879, 'fit_intercept': False, 'positive': True}. Best is trial 131 with value: 0.11446824412702698.\n",
      "[I 2025-05-28 09:25:49,234] Trial 171 finished with value: 0.1137175515968695 and parameters: {'alpha': 2.5498849196106486, 'tol': 0.008106340329912129, 'fit_intercept': False, 'positive': True}. Best is trial 131 with value: 0.11446824412702698.\n",
      "[I 2025-05-28 09:25:50,983] Trial 172 finished with value: 0.11446738421613353 and parameters: {'alpha': 30.78516918271202, 'tol': 0.005517973049592087, 'fit_intercept': False, 'positive': True}. Best is trial 131 with value: 0.11446824412702698.\n",
      "[I 2025-05-28 09:25:52,620] Trial 173 finished with value: 0.11371725109745041 and parameters: {'alpha': 13.303181360152285, 'tol': 0.008055727895400027, 'fit_intercept': False, 'positive': True}. Best is trial 131 with value: 0.11446824412702698.\n",
      "[I 2025-05-28 09:25:52,986] Trial 174 finished with value: 0.11371739509850695 and parameters: {'alpha': 8.149891648618059, 'tol': 0.007064994931124352, 'fit_intercept': False, 'positive': True}. Best is trial 131 with value: 0.11446824412702698.\n",
      "[I 2025-05-28 09:25:53,224] Trial 175 finished with value: 0.11446820581824654 and parameters: {'alpha': 1.3802224803039425, 'tol': 0.006197782123102921, 'fit_intercept': False, 'positive': True}. Best is trial 131 with value: 0.11446824412702698.\n",
      "[I 2025-05-28 09:25:55,017] Trial 176 finished with value: 0.11371757645415119 and parameters: {'alpha': 1.6604623045499676, 'tol': 0.007373070294735377, 'fit_intercept': False, 'positive': True}. Best is trial 131 with value: 0.11446824412702698.\n",
      "[I 2025-05-28 09:25:56,286] Trial 177 finished with value: 0.11446705814363037 and parameters: {'alpha': 42.45934729158275, 'tol': 0.006407104817887951, 'fit_intercept': False, 'positive': True}. Best is trial 131 with value: 0.11446824412702698.\n",
      "[I 2025-05-28 09:25:56,647] Trial 178 finished with value: 0.11446782720088547 and parameters: {'alpha': 14.929002998898643, 'tol': 0.005224736234295406, 'fit_intercept': False, 'positive': True}. Best is trial 131 with value: 0.11446824412702698.\n",
      "[I 2025-05-28 09:25:57,035] Trial 179 finished with value: 0.11446805558504543 and parameters: {'alpha': 6.755923481858816, 'tol': 0.0059574380105583535, 'fit_intercept': False, 'positive': True}. Best is trial 131 with value: 0.11446824412702698.\n",
      "[I 2025-05-28 09:25:58,299] Trial 180 finished with value: 0.11284242350353668 and parameters: {'alpha': 505.49384049275426, 'tol': 0.0007018064278506726, 'fit_intercept': False, 'positive': False}. Best is trial 131 with value: 0.11446824412702698.\n",
      "[I 2025-05-28 09:26:00,230] Trial 181 finished with value: 0.11446822563427303 and parameters: {'alpha': 0.6711950271661257, 'tol': 0.003550972166735834, 'fit_intercept': False, 'positive': True}. Best is trial 131 with value: 0.11446824412702698.\n",
      "[I 2025-05-28 09:26:00,456] Trial 182 finished with value: 0.11446820189620988 and parameters: {'alpha': 1.520555960900699, 'tol': 0.005394333883921819, 'fit_intercept': False, 'positive': True}. Best is trial 131 with value: 0.11446824412702698.\n",
      "[I 2025-05-28 09:26:00,882] Trial 183 finished with value: 0.11446814481003642 and parameters: {'alpha': 3.563181350391376, 'tol': 0.004368110756709122, 'fit_intercept': False, 'positive': True}. Best is trial 131 with value: 0.11446824412702698.\n",
      "[I 2025-05-28 09:26:02,300] Trial 184 finished with value: 0.11446749371683147 and parameters: {'alpha': 26.86530662534945, 'tol': 0.005878896694728882, 'fit_intercept': False, 'positive': True}. Best is trial 131 with value: 0.11446824412702698.\n",
      "[I 2025-05-28 09:26:03,561] Trial 185 finished with value: 0.1124781171167398 and parameters: {'alpha': 349.55795618678485, 'tol': 0.009790665752441299, 'fit_intercept': True, 'positive': False}. Best is trial 131 with value: 0.11446824412702698.\n",
      "[I 2025-05-28 09:26:04,134] Trial 186 finished with value: 0.11418958364558507 and parameters: {'alpha': 971.0437710817637, 'tol': 0.0043988966117446725, 'fit_intercept': True, 'positive': True}. Best is trial 131 with value: 0.11446824412702698.\n",
      "[I 2025-05-28 09:26:04,677] Trial 187 finished with value: 0.11446795519990458 and parameters: {'alpha': 10.348219225601824, 'tol': 0.0034630794958170415, 'fit_intercept': False, 'positive': True}. Best is trial 131 with value: 0.11446824412702698.\n",
      "[I 2025-05-28 09:26:05,968] Trial 188 finished with value: 0.11446159270845191 and parameters: {'alpha': 238.48430456416068, 'tol': 0.0026185416876405468, 'fit_intercept': False, 'positive': True}. Best is trial 131 with value: 0.11446824412702698.\n",
      "[I 2025-05-28 09:26:07,256] Trial 189 finished with value: 0.11446246275814902 and parameters: {'alpha': 207.2346463226883, 'tol': 0.002478902533765388, 'fit_intercept': False, 'positive': True}. Best is trial 131 with value: 0.11446824412702698.\n",
      "[I 2025-05-28 09:26:07,860] Trial 190 finished with value: 0.11446613216487352 and parameters: {'alpha': 75.62438141299087, 'tol': 0.0037173889466841138, 'fit_intercept': False, 'positive': True}. Best is trial 131 with value: 0.11446824412702698.\n",
      "[I 2025-05-28 09:26:08,407] Trial 191 finished with value: 0.11446718009294651 and parameters: {'alpha': 38.09299498850089, 'tol': 0.0030132538898762482, 'fit_intercept': False, 'positive': True}. Best is trial 131 with value: 0.11446824412702698.\n",
      "[I 2025-05-28 09:26:09,733] Trial 192 finished with value: 0.11446621012797475 and parameters: {'alpha': 72.83131125586937, 'tol': 0.0029853006204270914, 'fit_intercept': False, 'positive': True}. Best is trial 131 with value: 0.11446824412702698.\n",
      "[I 2025-05-28 09:26:11,061] Trial 194 finished with value: 0.1120620011879633 and parameters: {'alpha': 80.59095828291105, 'tol': 0.0037330098075229056, 'fit_intercept': False, 'positive': False}. Best is trial 131 with value: 0.11446824412702698.\n",
      "[I 2025-05-28 09:26:11,561] Trial 193 finished with value: 0.11446708100069561 and parameters: {'alpha': 41.64093317767188, 'tol': 0.00249698614665748, 'fit_intercept': False, 'positive': True}. Best is trial 131 with value: 0.11446824412702698.\n",
      "[I 2025-05-28 09:26:12,298] Trial 195 finished with value: 0.11446814486808725 and parameters: {'alpha': 3.5611041711892875, 'tol': 0.0037615614843575593, 'fit_intercept': False, 'positive': True}. Best is trial 131 with value: 0.11446824412702698.\n",
      "[I 2025-05-28 09:26:13,215] Trial 196 finished with value: 0.11328486061532103 and parameters: {'alpha': 966.4978840919152, 'tol': 0.002055700545117292, 'fit_intercept': True, 'positive': False}. Best is trial 131 with value: 0.11446824412702698.\n",
      "[I 2025-05-28 09:26:14,848] Trial 197 finished with value: 0.11446823183767123 and parameters: {'alpha': 0.44923607684223343, 'tol': 0.003019666394347689, 'fit_intercept': False, 'positive': True}. Best is trial 131 with value: 0.11446824412702698.\n",
      "[I 2025-05-28 09:26:15,221] Trial 198 finished with value: 0.11446800625661613 and parameters: {'alpha': 8.521120234812471, 'tol': 0.003865306677831394, 'fit_intercept': False, 'positive': True}. Best is trial 131 with value: 0.11446824412702698.\n",
      "[I 2025-05-28 09:26:15,802] Trial 199 finished with value: 0.11446810577450779 and parameters: {'alpha': 4.959969986269466, 'tol': 0.0031553431647797503, 'fit_intercept': False, 'positive': True}. Best is trial 131 with value: 0.11446824412702698.\n",
      "[I 2025-05-28 09:26:16,901] Trial 200 finished with value: 0.11446777126624333 and parameters: {'alpha': 16.930885480162203, 'tol': 0.0035833765266124057, 'fit_intercept': False, 'positive': True}. Best is trial 131 with value: 0.11446824412702698.\n",
      "[I 2025-05-28 09:26:18,686] Trial 201 finished with value: 0.11446671063283706 and parameters: {'alpha': 54.90364588588046, 'tol': 0.0022356810806681334, 'fit_intercept': False, 'positive': True}. Best is trial 131 with value: 0.11446824412702698.\n",
      "[I 2025-05-28 09:26:18,900] Trial 202 finished with value: 0.11446787845325104 and parameters: {'alpha': 13.094758121551733, 'tol': 0.003318008979069681, 'fit_intercept': False, 'positive': True}. Best is trial 131 with value: 0.11446824412702698.\n",
      "[I 2025-05-28 09:26:19,255] Trial 203 finished with value: 0.11333164125487685 and parameters: {'alpha': 859.8804799949083, 'tol': 0.007701461876265469, 'fit_intercept': False, 'positive': False}. Best is trial 131 with value: 0.11446824412702698.\n",
      "[I 2025-05-28 09:26:20,549] Trial 204 finished with value: 0.11446778563061719 and parameters: {'alpha': 16.416782682522435, 'tol': 0.003030455110091609, 'fit_intercept': False, 'positive': True}. Best is trial 131 with value: 0.11446824412702698.\n",
      "[I 2025-05-28 09:26:22,289] Trial 205 finished with value: 0.11446817674110292 and parameters: {'alpha': 2.420633029449201, 'tol': 0.0036792718657682327, 'fit_intercept': False, 'positive': True}. Best is trial 131 with value: 0.11446824412702698.\n",
      "[I 2025-05-28 09:26:22,495] Trial 206 finished with value: 0.1144612910969871 and parameters: {'alpha': 249.32122614011442, 'tol': 0.0045184395695440785, 'fit_intercept': False, 'positive': True}. Best is trial 131 with value: 0.11446824412702698.\n",
      "[I 2025-05-28 09:26:22,885] Trial 207 finished with value: 0.11446359729892075 and parameters: {'alpha': 166.51040434171756, 'tol': 0.0048079460917587365, 'fit_intercept': False, 'positive': True}. Best is trial 131 with value: 0.11446824412702698.\n",
      "[I 2025-05-28 09:26:24,152] Trial 208 finished with value: 0.1144681193401911 and parameters: {'alpha': 4.474552180718918, 'tol': 0.003816462455704746, 'fit_intercept': False, 'positive': True}. Best is trial 131 with value: 0.11446824412702698.\n",
      "[I 2025-05-28 09:26:25,954] Trial 209 finished with value: 0.11446803334253505 and parameters: {'alpha': 7.551855577219268, 'tol': 0.004100999321097067, 'fit_intercept': False, 'positive': True}. Best is trial 131 with value: 0.11446824412702698.\n",
      "[I 2025-05-28 09:26:26,161] Trial 210 finished with value: 0.11446812727425926 and parameters: {'alpha': 4.190651073840548, 'tol': 0.003966418769390241, 'fit_intercept': False, 'positive': True}. Best is trial 131 with value: 0.11446824412702698.\n",
      "[I 2025-05-28 09:26:26,559] Trial 211 finished with value: 0.11446704445241511 and parameters: {'alpha': 42.94957688432489, 'tol': 0.004690407971654866, 'fit_intercept': False, 'positive': True}. Best is trial 131 with value: 0.11446824412702698.\n",
      "[I 2025-05-28 09:26:27,884] Trial 212 finished with value: 0.11446768707755968 and parameters: {'alpha': 19.944100672854297, 'tol': 0.004538659806004434, 'fit_intercept': False, 'positive': True}. Best is trial 131 with value: 0.11446824412702698.\n",
      "[I 2025-05-28 09:26:29,513] Trial 213 finished with value: 0.11446819960652595 and parameters: {'alpha': 1.6024827636588281, 'tol': 0.0051652444094672295, 'fit_intercept': False, 'positive': True}. Best is trial 131 with value: 0.11446824412702698.\n",
      "[I 2025-05-28 09:26:29,908] Trial 214 finished with value: 0.11446699008877448 and parameters: {'alpha': 44.896169853669164, 'tol': 0.004243523471320617, 'fit_intercept': False, 'positive': True}. Best is trial 131 with value: 0.11446824412702698.\n",
      "[I 2025-05-28 09:26:30,438] Trial 215 finished with value: 0.11446753446455624 and parameters: {'alpha': 25.406703139028846, 'tol': 0.003187701167518356, 'fit_intercept': False, 'positive': True}. Best is trial 131 with value: 0.11446824412702698.\n",
      "[I 2025-05-28 09:26:31,735] Trial 216 finished with value: 0.11446791339226574 and parameters: {'alpha': 11.844376611276944, 'tol': 0.0015306369392019722, 'fit_intercept': False, 'positive': True}. Best is trial 131 with value: 0.11446824412702698.\n",
      "[I 2025-05-28 09:26:33,032] Trial 217 finished with value: 0.11446799697053625 and parameters: {'alpha': 8.853424621458418, 'tol': 0.005668288032716829, 'fit_intercept': False, 'positive': True}. Best is trial 131 with value: 0.11446824412702698.\n",
      "[I 2025-05-28 09:26:33,617] Trial 218 finished with value: 0.11446777140203208 and parameters: {'alpha': 16.92602556049854, 'tol': 0.005716538939551397, 'fit_intercept': False, 'positive': True}. Best is trial 131 with value: 0.11446824412702698.\n",
      "[I 2025-05-28 09:26:34,117] Trial 219 finished with value: 0.11446695857625407 and parameters: {'alpha': 46.02456505468707, 'tol': 0.005608032159233618, 'fit_intercept': False, 'positive': True}. Best is trial 131 with value: 0.11446824412702698.\n",
      "[I 2025-05-28 09:26:35,388] Trial 220 finished with value: 0.11446781619051846 and parameters: {'alpha': 15.32305497522942, 'tol': 0.0060153577616486415, 'fit_intercept': False, 'positive': True}. Best is trial 131 with value: 0.11446824412702698.\n",
      "[I 2025-05-28 09:26:36,629] Trial 221 finished with value: 0.11371144042762464 and parameters: {'alpha': 221.62808403063602, 'tol': 0.0072660414487445936, 'fit_intercept': False, 'positive': True}. Best is trial 131 with value: 0.11446824412702698.\n",
      "[I 2025-05-28 09:26:37,148] Trial 222 finished with value: 0.11192196741236922 and parameters: {'alpha': 16.795746110590308, 'tol': 0.005799954857387562, 'fit_intercept': False, 'positive': False}. Best is trial 131 with value: 0.11446824412702698.\n",
      "[I 2025-05-28 09:26:37,756] Trial 223 finished with value: 0.11371305174205107 and parameters: {'alpha': 163.78430178717383, 'tol': 0.00695866044418518, 'fit_intercept': False, 'positive': True}. Best is trial 131 with value: 0.11446824412702698.\n",
      "[I 2025-05-28 09:26:39,043] Trial 224 finished with value: 0.11446808676286406 and parameters: {'alpha': 5.640266189586654, 'tol': 0.0038788288499707817, 'fit_intercept': False, 'positive': True}. Best is trial 131 with value: 0.11446824412702698.\n",
      "[I 2025-05-28 09:26:40,284] Trial 225 finished with value: 0.11446328670445013 and parameters: {'alpha': 177.656335456654, 'tol': 0.004068987790347046, 'fit_intercept': False, 'positive': True}. Best is trial 131 with value: 0.11446824412702698.\n",
      "[I 2025-05-28 09:26:40,795] Trial 226 finished with value: 0.11446806885434857 and parameters: {'alpha': 6.281096282012104, 'tol': 0.004578839828899476, 'fit_intercept': False, 'positive': True}. Best is trial 131 with value: 0.11446824412702698.\n",
      "[I 2025-05-28 09:26:41,381] Trial 227 finished with value: 0.11446814303835148 and parameters: {'alpha': 3.626575930668147, 'tol': 0.003648105851920355, 'fit_intercept': False, 'positive': True}. Best is trial 131 with value: 0.11446824412702698.\n",
      "[I 2025-05-28 09:26:42,750] Trial 228 finished with value: 0.11446807258966465 and parameters: {'alpha': 6.147432864837215, 'tol': 0.004876714416644717, 'fit_intercept': False, 'positive': True}. Best is trial 131 with value: 0.11446824412702698.\n",
      "[I 2025-05-28 09:26:44,044] Trial 229 finished with value: 0.11446775878286793 and parameters: {'alpha': 17.37767078859345, 'tol': 0.0038601165284847384, 'fit_intercept': False, 'positive': True}. Best is trial 131 with value: 0.11446824412702698.\n",
      "[I 2025-05-28 09:26:44,594] Trial 230 finished with value: 0.1144680519843649 and parameters: {'alpha': 6.884770484753337, 'tol': 0.003849788701838601, 'fit_intercept': False, 'positive': True}. Best is trial 131 with value: 0.11446824412702698.\n",
      "[I 2025-05-28 09:26:45,129] Trial 231 finished with value: 0.11446804786479725 and parameters: {'alpha': 7.032185728771222, 'tol': 0.0026220662706037184, 'fit_intercept': False, 'positive': True}. Best is trial 131 with value: 0.11446824412702698.\n",
      "[I 2025-05-28 09:26:46,410] Trial 232 finished with value: 0.11446793518350262 and parameters: {'alpha': 11.064535377978398, 'tol': 0.0021861230755132735, 'fit_intercept': False, 'positive': True}. Best is trial 131 with value: 0.11446824412702698.\n",
      "[I 2025-05-28 09:26:47,696] Trial 233 finished with value: 0.11446810948329614 and parameters: {'alpha': 4.827258841874674, 'tol': 0.002739152381645083, 'fit_intercept': False, 'positive': True}. Best is trial 131 with value: 0.11446824412702698.\n",
      "[I 2025-05-28 09:26:48,450] Trial 234 finished with value: 0.11446802822694915 and parameters: {'alpha': 7.734914646752958, 'tol': 0.00332473822964619, 'fit_intercept': False, 'positive': True}. Best is trial 131 with value: 0.11446824412702698.\n",
      "[I 2025-05-28 09:26:48,807] Trial 235 finished with value: 0.1144680628545611 and parameters: {'alpha': 6.495791498061487, 'tol': 0.005063064260540737, 'fit_intercept': False, 'positive': True}. Best is trial 131 with value: 0.11446824412702698.\n",
      "[I 2025-05-28 09:26:50,280] Trial 236 finished with value: 0.11446808749650521 and parameters: {'alpha': 5.614014063265445, 'tol': 0.004476151013951272, 'fit_intercept': False, 'positive': True}. Best is trial 131 with value: 0.11446824412702698.\n",
      "[I 2025-05-28 09:26:51,747] Trial 237 finished with value: 0.11446819753713806 and parameters: {'alpha': 1.6765272904319681, 'tol': 0.005365863356093613, 'fit_intercept': False, 'positive': True}. Best is trial 131 with value: 0.11446824412702698.\n",
      "[I 2025-05-28 09:26:52,354] Trial 238 finished with value: 0.11446792622776 and parameters: {'alpha': 11.385032549001544, 'tol': 0.004993401564457762, 'fit_intercept': False, 'positive': True}. Best is trial 131 with value: 0.11446824412702698.\n",
      "[I 2025-05-28 09:26:52,872] Trial 239 finished with value: 0.11421334835485093 and parameters: {'alpha': 89.69907436429995, 'tol': 0.0032647699182121424, 'fit_intercept': True, 'positive': True}. Best is trial 131 with value: 0.11446824412702698.\n",
      "[I 2025-05-28 09:26:54,292] Trial 240 finished with value: 0.11446290480931698 and parameters: {'alpha': 191.36387226110722, 'tol': 0.004558316500356779, 'fit_intercept': False, 'positive': True}. Best is trial 131 with value: 0.11446824412702698.\n",
      "[I 2025-05-28 09:26:55,565] Trial 241 finished with value: 0.1144630678710544 and parameters: {'alpha': 185.5106280333939, 'tol': 0.006765824312510494, 'fit_intercept': False, 'positive': True}. Best is trial 131 with value: 0.11446824412702698.\n",
      "[I 2025-05-28 09:26:56,642] Trial 242 finished with value: 0.11446274502417861 and parameters: {'alpha': 197.1000707372185, 'tol': 0.005870960221145222, 'fit_intercept': False, 'positive': True}. Best is trial 131 with value: 0.11446824412702698.\n",
      "[I 2025-05-28 09:26:56,849] Trial 243 finished with value: 0.11446783570767231 and parameters: {'alpha': 14.62455392317939, 'tol': 0.00551105819528523, 'fit_intercept': False, 'positive': True}. Best is trial 131 with value: 0.11446824412702698.\n",
      "[I 2025-05-28 09:26:57,967] Trial 244 finished with value: 0.11282440871243105 and parameters: {'alpha': 581.2017910783643, 'tol': 0.00664582571120057, 'fit_intercept': True, 'positive': False}. Best is trial 131 with value: 0.11446824412702698.\n",
      "[I 2025-05-28 09:26:59,204] Trial 245 finished with value: 0.11446787714608864 and parameters: {'alpha': 13.141538772578059, 'tol': 0.006767681515336707, 'fit_intercept': False, 'positive': True}. Best is trial 131 with value: 0.11446824412702698.\n",
      "[I 2025-05-28 09:27:00,286] Trial 246 finished with value: 0.11446280881282508 and parameters: {'alpha': 194.81002571313132, 'tol': 0.0036646512237038, 'fit_intercept': False, 'positive': True}. Best is trial 131 with value: 0.11446824412702698.\n",
      "[I 2025-05-28 09:27:00,616] Trial 247 finished with value: 0.11446348822986066 and parameters: {'alpha': 170.42419183431468, 'tol': 0.0043025498734541555, 'fit_intercept': False, 'positive': True}. Best is trial 131 with value: 0.11446824412702698.\n",
      "[I 2025-05-28 09:27:01,162] Trial 248 finished with value: 0.11446818588524947 and parameters: {'alpha': 2.09344391607173, 'tol': 0.005930035253451912, 'fit_intercept': False, 'positive': True}. Best is trial 131 with value: 0.11446824412702698.\n",
      "[I 2025-05-28 09:27:01,524] Trial 249 finished with value: 0.11244171794170835 and parameters: {'alpha': 327.37477490324153, 'tol': 0.0026241904007122873, 'fit_intercept': True, 'positive': False}. Best is trial 131 with value: 0.11446824412702698.\n"
     ]
    }
   ],
   "source": [
    "def objective(trial):    \n",
    "    params = {\n",
    "        \"random_state\": CFG.seed,\n",
    "        \"alpha\": trial.suggest_float(\"alpha\", 0, 1000),\n",
    "        \"tol\": trial.suggest_float(\"tol\", 1e-6, 1e-2),\n",
    "        \"fit_intercept\": trial.suggest_categorical(\"fit_intercept\", [True, False]),\n",
    "        \"positive\": trial.suggest_categorical(\"positive\", [True, False])\n",
    "    }\n",
    "\n",
    "    trainer = Trainer(\n",
    "        Ridge(**params),\n",
    "        cv=KFold(n_splits=5, shuffle=False),\n",
    "        metric=_pearsonr,\n",
    "        task=\"regression\",\n",
    "        verbose=False\n",
    "    )\n",
    "    trainer.fit(X, y)\n",
    "    \n",
    "    return np.mean(trainer.fold_scores)\n",
    "\n",
    "if CFG.run_optuna:\n",
    "    sampler = optuna.samplers.TPESampler(seed=CFG.seed, multivariate=True)\n",
    "    study = optuna.create_study(direction=\"maximize\", sampler=sampler)\n",
    "    study.optimize(objective, n_trials=CFG.n_optuna_trials, n_jobs=-1, catch=(ValueError,))\n",
    "    best_params = study.best_params\n",
    "\n",
    "    ridge_params = {\n",
    "        \"random_state\": CFG.seed,\n",
    "        \"alpha\": best_params[\"alpha\"],\n",
    "        \"tol\": best_params[\"tol\"],\n",
    "        \"fit_intercept\": best_params[\"fit_intercept\"],\n",
    "        \"positive\": best_params[\"positive\"]\n",
    "    }\n",
    "else:\n",
    "    ridge_params = {\n",
    "        \"random_state\": CFG.seed\n",
    "    }"
   ]
  },
  {
   "cell_type": "code",
   "execution_count": 19,
   "id": "0ae4c447",
   "metadata": {
    "execution": {
     "iopub.execute_input": "2025-05-28T09:27:01.571598Z",
     "iopub.status.busy": "2025-05-28T09:27:01.571224Z",
     "iopub.status.idle": "2025-05-28T09:27:02.665463Z",
     "shell.execute_reply": "2025-05-28T09:27:02.664312Z"
    },
    "papermill": {
     "duration": 1.116192,
     "end_time": "2025-05-28T09:27:02.667165",
     "exception": false,
     "start_time": "2025-05-28T09:27:01.550973",
     "status": "completed"
    },
    "tags": []
   },
   "outputs": [
    {
     "name": "stdout",
     "output_type": "stream",
     "text": [
      "Training Ridge\n",
      "\n",
      "--- Fold 0 - _pearsonr: 0.191561 - Time: 0.07 s\n",
      "--- Fold 1 - _pearsonr: 0.108725 - Time: 0.06 s\n",
      "--- Fold 2 - _pearsonr: 0.071855 - Time: 0.06 s\n",
      "--- Fold 3 - _pearsonr: 0.133227 - Time: 0.06 s\n",
      "--- Fold 4 - _pearsonr: 0.066973 - Time: 0.06 s\n",
      "\n",
      "------ Overall _pearsonr: 0.091594 - Mean _pearsonr: 0.114468 ± 0.045607 - Time: 1.05 s\n"
     ]
    }
   ],
   "source": [
    "ridge_trainer = Trainer(\n",
    "    Ridge(**ridge_params),\n",
    "    cv=KFold(n_splits=5, shuffle=False),\n",
    "    metric=_pearsonr,\n",
    "    task=\"regression\",\n",
    "    metric_precision=6\n",
    ")\n",
    "\n",
    "ridge_trainer.fit(X, y)\n",
    "\n",
    "scores[\"Ridge (ensemble)\"] = ridge_trainer.fold_scores\n",
    "ridge_test_preds = ridge_trainer.predict(X_test)"
   ]
  },
  {
   "cell_type": "code",
   "execution_count": 20,
   "id": "296af606",
   "metadata": {
    "execution": {
     "iopub.execute_input": "2025-05-28T09:27:02.706371Z",
     "iopub.status.busy": "2025-05-28T09:27:02.706003Z",
     "iopub.status.idle": "2025-05-28T09:27:03.066170Z",
     "shell.execute_reply": "2025-05-28T09:27:03.065239Z"
    },
    "papermill": {
     "duration": 0.381603,
     "end_time": "2025-05-28T09:27:03.067767",
     "exception": false,
     "start_time": "2025-05-28T09:27:02.686164",
     "status": "completed"
    },
    "tags": []
   },
   "outputs": [
    {
     "data": {
      "image/png": "[encoded data removed]",
      "text/plain": [
       "<Figure size 1000x150 with 1 Axes>"
      ]
     },
     "metadata": {},
     "output_type": "display_data"
    }
   ],
   "source": [
    "ridge_coeffs = np.zeros((1, X.shape[1]))\n",
    "for m in ridge_trainer.estimators:\n",
    "    ridge_coeffs += m.coef_\n",
    "ridge_coeffs = ridge_coeffs / len(ridge_trainer.estimators)\n",
    "\n",
    "plot_weights(ridge_coeffs, \"Ridge Coefficients\")"
   ]
  },
  {
   "cell_type": "markdown",
   "id": "b4e87db6",
   "metadata": {
    "papermill": {
     "duration": 0.019284,
     "end_time": "2025-05-28T09:27:03.107042",
     "exception": false,
     "start_time": "2025-05-28T09:27:03.087758",
     "status": "completed"
    },
    "tags": []
   },
   "source": [
    "# Submission"
   ]
  },
  {
   "cell_type": "code",
   "execution_count": 21,
   "id": "93cc05be",
   "metadata": {
    "execution": {
     "iopub.execute_input": "2025-05-28T09:27:03.148865Z",
     "iopub.status.busy": "2025-05-28T09:27:03.148540Z",
     "iopub.status.idle": "2025-05-28T09:27:05.036982Z",
     "shell.execute_reply": "2025-05-28T09:27:05.035894Z"
    },
    "papermill": {
     "duration": 1.91128,
     "end_time": "2025-05-28T09:27:05.038651",
     "exception": false,
     "start_time": "2025-05-28T09:27:03.127371",
     "status": "completed"
    },
    "tags": []
   },
   "outputs": [
    {
     "data": {
      "text/html": [
       "<div>\n",
       "<style scoped>\n",
       "    .dataframe tbody tr th:only-of-type {\n",
       "        vertical-align: middle;\n",
       "    }\n",
       "\n",
       "    .dataframe tbody tr th {\n",
       "        vertical-align: top;\n",
       "    }\n",
       "\n",
       "    .dataframe thead th {\n",
       "        text-align: right;\n",
       "    }\n",
       "</style>\n",
       "<table border=\"1\" class=\"dataframe\">\n",
       "  <thead>\n",
       "    <tr style=\"text-align: right;\">\n",
       "      <th></th>\n",
       "      <th>ID</th>\n",
       "      <th>prediction</th>\n",
       "    </tr>\n",
       "  </thead>\n",
       "  <tbody>\n",
       "    <tr>\n",
       "      <th>0</th>\n",
       "      <td>1</td>\n",
       "      <td>0.066455</td>\n",
       "    </tr>\n",
       "    <tr>\n",
       "      <th>1</th>\n",
       "      <td>2</td>\n",
       "      <td>0.025737</td>\n",
       "    </tr>\n",
       "    <tr>\n",
       "      <th>2</th>\n",
       "      <td>3</td>\n",
       "      <td>0.005595</td>\n",
       "    </tr>\n",
       "    <tr>\n",
       "      <th>3</th>\n",
       "      <td>4</td>\n",
       "      <td>-0.013394</td>\n",
       "    </tr>\n",
       "    <tr>\n",
       "      <th>4</th>\n",
       "      <td>5</td>\n",
       "      <td>0.125835</td>\n",
       "    </tr>\n",
       "  </tbody>\n",
       "</table>\n",
       "</div>"
      ],
      "text/plain": [
       "   ID  prediction\n",
       "0   1    0.066455\n",
       "1   2    0.025737\n",
       "2   3    0.005595\n",
       "3   4   -0.013394\n",
       "4   5    0.125835"
      ]
     },
     "execution_count": 21,
     "metadata": {},
     "output_type": "execute_result"
    }
   ],
   "source": [
    "sub = pd.read_csv(CFG.sample_sub_path)\n",
    "sub[\"prediction\"] = ridge_test_preds\n",
    "sub.to_csv(f\"sub_ridge_{np.mean(scores['Ridge (ensemble)']):.6f}.csv\", index=False)\n",
    "sub.head()"
   ]
  },
  {
   "cell_type": "markdown",
   "id": "80e2911f",
   "metadata": {
    "papermill": {
     "duration": 0.020011,
     "end_time": "2025-05-28T09:27:05.079631",
     "exception": false,
     "start_time": "2025-05-28T09:27:05.059620",
     "status": "completed"
    },
    "tags": []
   },
   "source": [
    "# Results"
   ]
  },
  {
   "cell_type": "code",
   "execution_count": 22,
   "id": "fa48c0a9",
   "metadata": {
    "execution": {
     "iopub.execute_input": "2025-05-28T09:27:05.124920Z",
     "iopub.status.busy": "2025-05-28T09:27:05.124582Z",
     "iopub.status.idle": "2025-05-28T09:27:05.455561Z",
     "shell.execute_reply": "2025-05-28T09:27:05.454641Z"
    },
    "papermill": {
     "duration": 0.356656,
     "end_time": "2025-05-28T09:27:05.456995",
     "exception": false,
     "start_time": "2025-05-28T09:27:05.100339",
     "status": "completed"
    },
    "tags": []
   },
   "outputs": [
    {
     "data": {
      "image/png": "[encoded data removed]",
      "text/plain": [
       "<Figure size 1500x200 with 2 Axes>"
      ]
     },
     "metadata": {},
     "output_type": "display_data"
    }
   ],
   "source": [
    "scores = pd.DataFrame(scores)\n",
    "mean_scores = scores.mean().sort_values(ascending=False)\n",
    "order = scores.mean().sort_values(ascending=False).index.tolist()\n",
    "\n",
    "min_score = mean_scores.min()\n",
    "max_score = mean_scores.max()\n",
    "padding = (max_score - min_score) * 0.5\n",
    "lower_limit = min_score - padding\n",
    "upper_limit = max_score + padding\n",
    "\n",
    "fig, axs = plt.subplots(1, 2, figsize=(15, scores.shape[1] * 0.5))\n",
    "\n",
    "boxplot = sns.boxplot(data=scores, order=order, ax=axs[0], orient=\"h\", color=\"grey\")\n",
    "axs[0].set_title(f\"Fold Score\")\n",
    "axs[0].set_xlabel(\"\")\n",
    "axs[0].set_ylabel(\"\")\n",
    "\n",
    "barplot = sns.barplot(x=mean_scores.values, y=mean_scores.index, ax=axs[1], color=\"grey\")\n",
    "axs[1].set_title(f\"Average Score\")\n",
    "axs[1].set_xlabel(\"\")\n",
    "axs[1].set_xlim(left=lower_limit, right=upper_limit)\n",
    "axs[1].set_ylabel(\"\")\n",
    "\n",
    "for i, (score, model) in enumerate(zip(mean_scores.values, mean_scores.index)):\n",
    "    color = \"cyan\" if \"ensemble\" in model.lower() else \"grey\"\n",
    "    barplot.patches[i].set_facecolor(color)\n",
    "    boxplot.patches[i].set_facecolor(color)\n",
    "    barplot.text(score, i, round(score, 6), va=\"center\")\n",
    "\n",
    "plt.tight_layout()\n",
    "plt.show()"
   ]
  }
 ],
 "metadata": {
  "kaggle": {
   "accelerator": "none",
   "dataSources": [
    {
     "databundleVersionId": 11418275,
     "sourceId": 96164,
     "sourceType": "competition"
    }
   ],
   "dockerImageVersionId": 31040,
   "isGpuEnabled": false,
   "isInternetEnabled": true,
   "language": "python",
   "sourceType": "notebook"
  },
  "kernelspec": {
   "display_name": "Python 3",
   "language": "python",
   "name": "python3"
  },
  "language_info": {
   "codemirror_mode": {
    "name": "ipython",
    "version": 3
   },
   "file_extension": ".py",
   "mimetype": "text/x-python",
   "name": "python",
   "nbconvert_exporter": "python",
   "pygments_lexer": "ipython3",
   "version": "3.11.11"
  },
  "papermill": {
   "default_parameters": {},
   "duration": 9319.126687,
   "end_time": "2025-05-28T09:27:09.132450",
   "environment_variables": {},
   "exception": null,
   "input_path": "__notebook__.ipynb",
   "output_path": "__notebook__.ipynb",
   "parameters": {},
   "start_time": "2025-05-28T06:51:50.005763",
   "version": "2.6.0"
  }
 },
 "nbformat": 4,
 "nbformat_minor": 5
}
