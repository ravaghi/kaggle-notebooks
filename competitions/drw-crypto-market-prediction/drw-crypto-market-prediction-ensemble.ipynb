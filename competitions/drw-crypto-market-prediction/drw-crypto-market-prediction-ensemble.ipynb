{
 "cells": [
  {
   "cell_type": "code",
   "execution_count": 1,
   "id": "b5ebf4bf",
   "metadata": {
    "_kg_hide-output": true,
    "execution": {
     "iopub.execute_input": "2025-06-06T12:59:46.113141Z",
     "iopub.status.busy": "2025-06-06T12:59:46.112710Z",
     "iopub.status.idle": "2025-06-06T12:59:57.044038Z",
     "shell.execute_reply": "2025-06-06T12:59:57.042797Z"
    },
    "papermill": {
     "duration": 10.940347,
     "end_time": "2025-06-06T12:59:57.045927",
     "exception": false,
     "start_time": "2025-06-06T12:59:46.105580",
     "status": "completed"
    },
    "scrolled": true,
    "tags": []
   },
   "outputs": [
    {
     "name": "stdout",
     "output_type": "stream",
     "text": [
      "Collecting koolbox\r\n",
      "  Downloading koolbox-0.1.3-py3-none-any.whl.metadata (3.4 kB)\r\n",
      "Collecting scikit-learn==1.5.2\r\n",
      "  Downloading scikit_learn-1.5.2-cp311-cp311-manylinux_2_17_x86_64.manylinux2014_x86_64.whl.metadata (13 kB)\r\n",
      "Requirement already satisfied: numpy>=1.19.5 in /usr/local/lib/python3.11/dist-packages (from scikit-learn==1.5.2) (1.26.4)\r\n",
      "Requirement already satisfied: scipy>=1.6.0 in /usr/local/lib/python3.11/dist-packages (from scikit-learn==1.5.2) (1.15.2)\r\n",
      "Requirement already satisfied: joblib>=1.2.0 in /usr/local/lib/python3.11/dist-packages (from scikit-learn==1.5.2) (1.5.0)\r\n",
      "Requirement already satisfied: threadpoolctl>=3.1.0 in /usr/local/lib/python3.11/dist-packages (from scikit-learn==1.5.2) (3.6.0)\r\n",
      "Requirement already satisfied: optuna>=4.2.1 in /usr/local/lib/python3.11/dist-packages (from koolbox) (4.3.0)\r\n",
      "Requirement already satisfied: pandas>=2.2.3 in /usr/local/lib/python3.11/dist-packages (from koolbox) (2.2.3)\r\n",
      "Requirement already satisfied: mkl_fft in /usr/local/lib/python3.11/dist-packages (from numpy>=1.19.5->scikit-learn==1.5.2) (1.3.8)\r\n",
      "Requirement already satisfied: mkl_random in /usr/local/lib/python3.11/dist-packages (from numpy>=1.19.5->scikit-learn==1.5.2) (1.2.4)\r\n",
      "Requirement already satisfied: mkl_umath in /usr/local/lib/python3.11/dist-packages (from numpy>=1.19.5->scikit-learn==1.5.2) (0.1.1)\r\n",
      "Requirement already satisfied: mkl in /usr/local/lib/python3.11/dist-packages (from numpy>=1.19.5->scikit-learn==1.5.2) (2025.1.0)\r\n",
      "Requirement already satisfied: tbb4py in /usr/local/lib/python3.11/dist-packages (from numpy>=1.19.5->scikit-learn==1.5.2) (2022.1.0)\r\n",
      "Requirement already satisfied: mkl-service in /usr/local/lib/python3.11/dist-packages (from numpy>=1.19.5->scikit-learn==1.5.2) (2.4.1)\r\n",
      "Requirement already satisfied: alembic>=1.5.0 in /usr/local/lib/python3.11/dist-packages (from optuna>=4.2.1->koolbox) (1.15.2)\r\n",
      "Requirement already satisfied: colorlog in /usr/local/lib/python3.11/dist-packages (from optuna>=4.2.1->koolbox) (6.9.0)\r\n",
      "Requirement already satisfied: packaging>=20.0 in /usr/local/lib/python3.11/dist-packages (from optuna>=4.2.1->koolbox) (25.0)\r\n",
      "Requirement already satisfied: sqlalchemy>=1.4.2 in /usr/local/lib/python3.11/dist-packages (from optuna>=4.2.1->koolbox) (2.0.40)\r\n",
      "Requirement already satisfied: tqdm in /usr/local/lib/python3.11/dist-packages (from optuna>=4.2.1->koolbox) (4.67.1)\r\n",
      "Requirement already satisfied: PyYAML in /usr/local/lib/python3.11/dist-packages (from optuna>=4.2.1->koolbox) (6.0.2)\r\n",
      "Requirement already satisfied: python-dateutil>=2.8.2 in /usr/local/lib/python3.11/dist-packages (from pandas>=2.2.3->koolbox) (2.9.0.post0)\r\n",
      "Requirement already satisfied: pytz>=2020.1 in /usr/local/lib/python3.11/dist-packages (from pandas>=2.2.3->koolbox) (2025.2)\r\n",
      "Requirement already satisfied: tzdata>=2022.7 in /usr/local/lib/python3.11/dist-packages (from pandas>=2.2.3->koolbox) (2025.2)\r\n",
      "Requirement already satisfied: Mako in /usr/local/lib/python3.11/dist-packages (from alembic>=1.5.0->optuna>=4.2.1->koolbox) (1.3.10)\r\n",
      "Requirement already satisfied: typing-extensions>=4.12 in /usr/local/lib/python3.11/dist-packages (from alembic>=1.5.0->optuna>=4.2.1->koolbox) (4.13.2)\r\n",
      "Requirement already satisfied: six>=1.5 in /usr/local/lib/python3.11/dist-packages (from python-dateutil>=2.8.2->pandas>=2.2.3->koolbox) (1.17.0)\r\n",
      "Requirement already satisfied: greenlet>=1 in /usr/local/lib/python3.11/dist-packages (from sqlalchemy>=1.4.2->optuna>=4.2.1->koolbox) (3.1.1)\r\n",
      "Requirement already satisfied: intel-openmp<2026,>=2024 in /usr/local/lib/python3.11/dist-packages (from mkl->numpy>=1.19.5->scikit-learn==1.5.2) (2024.2.0)\r\n",
      "Requirement already satisfied: tbb==2022.* in /usr/local/lib/python3.11/dist-packages (from mkl->numpy>=1.19.5->scikit-learn==1.5.2) (2022.1.0)\r\n",
      "Requirement already satisfied: tcmlib==1.* in /usr/local/lib/python3.11/dist-packages (from tbb==2022.*->mkl->numpy>=1.19.5->scikit-learn==1.5.2) (1.3.0)\r\n",
      "Requirement already satisfied: intel-cmplr-lib-rt in /usr/local/lib/python3.11/dist-packages (from mkl_umath->numpy>=1.19.5->scikit-learn==1.5.2) (2024.2.0)\r\n",
      "Requirement already satisfied: intel-cmplr-lib-ur==2024.2.0 in /usr/local/lib/python3.11/dist-packages (from intel-openmp<2026,>=2024->mkl->numpy>=1.19.5->scikit-learn==1.5.2) (2024.2.0)\r\n",
      "Requirement already satisfied: MarkupSafe>=0.9.2 in /usr/local/lib/python3.11/dist-packages (from Mako->alembic>=1.5.0->optuna>=4.2.1->koolbox) (3.0.2)\r\n",
      "Downloading scikit_learn-1.5.2-cp311-cp311-manylinux_2_17_x86_64.manylinux2014_x86_64.whl (13.3 MB)\r\n",
      "\u001b[2K   \u001b[90m━━━━━━━━━━━━━━━━━━━━━━━━━━━━━━━━━━━━━━━━\u001b[0m \u001b[32m13.3/13.3 MB\u001b[0m \u001b[31m76.7 MB/s\u001b[0m eta \u001b[36m0:00:00\u001b[0m\r\n",
      "\u001b[?25hDownloading koolbox-0.1.3-py3-none-any.whl (18 kB)\r\n",
      "Installing collected packages: scikit-learn, koolbox\r\n",
      "  Attempting uninstall: scikit-learn\r\n",
      "    Found existing installation: scikit-learn 1.2.2\r\n",
      "    Uninstalling scikit-learn-1.2.2:\r\n",
      "      Successfully uninstalled scikit-learn-1.2.2\r\n",
      "\u001b[31mERROR: pip's dependency resolver does not currently take into account all the packages that are installed. This behaviour is the source of the following dependency conflicts.\r\n",
      "cesium 0.12.4 requires numpy<3.0,>=2.0, but you have numpy 1.26.4 which is incompatible.\u001b[0m\u001b[31m\r\n",
      "\u001b[0mSuccessfully installed koolbox-0.1.3 scikit-learn-1.5.2\r\n"
     ]
    }
   ],
   "source": [
    "!pip install koolbox scikit-learn==1.5.2"
   ]
  },
  {
   "cell_type": "markdown",
   "id": "a3ed1244",
   "metadata": {
    "papermill": {
     "duration": 0.005091,
     "end_time": "2025-06-06T12:59:57.057055",
     "exception": false,
     "start_time": "2025-06-06T12:59:57.051964",
     "status": "completed"
    },
    "tags": []
   },
   "source": [
    "# Imports and configs"
   ]
  },
  {
   "cell_type": "code",
   "execution_count": 2,
   "id": "bc212435",
   "metadata": {
    "_kg_hide-output": true,
    "execution": {
     "iopub.execute_input": "2025-06-06T12:59:57.069261Z",
     "iopub.status.busy": "2025-06-06T12:59:57.068837Z",
     "iopub.status.idle": "2025-06-06T13:00:07.754627Z",
     "shell.execute_reply": "2025-06-06T13:00:07.753313Z"
    },
    "papermill": {
     "duration": 10.694293,
     "end_time": "2025-06-06T13:00:07.756593",
     "exception": false,
     "start_time": "2025-06-06T12:59:57.062300",
     "status": "completed"
    },
    "tags": []
   },
   "outputs": [],
   "source": [
    "from sklearn.model_selection import KFold\n",
    "from sklearn.linear_model import Ridge\n",
    "from lightgbm import LGBMRegressor\n",
    "from scipy.stats import pearsonr as pr\n",
    "from xgboost import XGBRegressor\n",
    "from sklearn.base import clone\n",
    "from koolbox import Trainer\n",
    "import matplotlib.pyplot as plt\n",
    "import seaborn as sns\n",
    "import pandas as pd\n",
    "import numpy as np\n",
    "import warnings\n",
    "import optuna\n",
    "import joblib\n",
    "import glob\n",
    "import gc\n",
    "\n",
    "warnings.filterwarnings(\"ignore\")"
   ]
  },
  {
   "cell_type": "code",
   "execution_count": 3,
   "id": "ffe69381",
   "metadata": {
    "execution": {
     "iopub.execute_input": "2025-06-06T13:00:07.770646Z",
     "iopub.status.busy": "2025-06-06T13:00:07.770014Z",
     "iopub.status.idle": "2025-06-06T13:00:07.776048Z",
     "shell.execute_reply": "2025-06-06T13:00:07.774867Z"
    },
    "papermill": {
     "duration": 0.014893,
     "end_time": "2025-06-06T13:00:07.778035",
     "exception": false,
     "start_time": "2025-06-06T13:00:07.763142",
     "status": "completed"
    },
    "tags": []
   },
   "outputs": [],
   "source": [
    "class CFG:\n",
    "    train_path = \"/kaggle/input/drw-crypto-market-prediction/train.parquet\"\n",
    "    test_path = \"/kaggle/input/drw-crypto-market-prediction/test.parquet\"\n",
    "    sample_sub_path = \"/kaggle/input/drw-crypto-market-prediction/sample_submission.csv\"\n",
    "\n",
    "    target = \"label\"\n",
    "    n_folds = 5\n",
    "    seed = 42\n",
    "\n",
    "    run_optuna = True\n",
    "    n_optuna_trials = 500"
   ]
  },
  {
   "cell_type": "markdown",
   "id": "7a8d94ac",
   "metadata": {
    "papermill": {
     "duration": 0.005953,
     "end_time": "2025-06-06T13:00:07.789867",
     "exception": false,
     "start_time": "2025-06-06T13:00:07.783914",
     "status": "completed"
    },
    "tags": []
   },
   "source": [
    "# Data loading and preprocessing"
   ]
  },
  {
   "cell_type": "code",
   "execution_count": 4,
   "id": "552e689d",
   "metadata": {
    "_kg_hide-input": true,
    "execution": {
     "iopub.execute_input": "2025-06-06T13:00:07.803843Z",
     "iopub.status.busy": "2025-06-06T13:00:07.803457Z",
     "iopub.status.idle": "2025-06-06T13:00:07.814078Z",
     "shell.execute_reply": "2025-06-06T13:00:07.813136Z"
    },
    "papermill": {
     "duration": 0.019814,
     "end_time": "2025-06-06T13:00:07.816124",
     "exception": false,
     "start_time": "2025-06-06T13:00:07.796310",
     "status": "completed"
    },
    "tags": []
   },
   "outputs": [],
   "source": [
    "def reduce_mem_usage(dataframe, dataset):    \n",
    "    print('Reducing memory usage for:', dataset)\n",
    "    initial_mem_usage = dataframe.memory_usage().sum() / 1024**2\n",
    "    \n",
    "    for col in dataframe.columns:\n",
    "        col_type = dataframe[col].dtype\n",
    "\n",
    "        c_min = dataframe[col].min()\n",
    "        c_max = dataframe[col].max()\n",
    "        if str(col_type)[:3] == 'int':\n",
    "            if c_min > np.iinfo(np.int8).min and c_max < np.iinfo(np.int8).max:\n",
    "                dataframe[col] = dataframe[col].astype(np.int8)\n",
    "            elif c_min > np.iinfo(np.int16).min and c_max < np.iinfo(np.int16).max:\n",
    "                dataframe[col] = dataframe[col].astype(np.int16)\n",
    "            elif c_min > np.iinfo(np.int32).min and c_max < np.iinfo(np.int32).max:\n",
    "                dataframe[col] = dataframe[col].astype(np.int32)\n",
    "            elif c_min > np.iinfo(np.int64).min and c_max < np.iinfo(np.int64).max:\n",
    "                dataframe[col] = dataframe[col].astype(np.int64)\n",
    "        else:\n",
    "            if c_min > np.finfo(np.float16).min and c_max < np.finfo(np.float16).max:\n",
    "                dataframe[col] = dataframe[col].astype(np.float16)\n",
    "            elif c_min > np.finfo(np.float32).min and c_max < np.finfo(np.float32).max:\n",
    "                dataframe[col] = dataframe[col].astype(np.float32)\n",
    "            else:\n",
    "                dataframe[col] = dataframe[col].astype(np.float64)\n",
    "\n",
    "    final_mem_usage = dataframe.memory_usage().sum() / 1024**2\n",
    "    print('--- Memory usage before: {:.2f} MB'.format(initial_mem_usage))\n",
    "    print('--- Memory usage after: {:.2f} MB'.format(final_mem_usage))\n",
    "    print('--- Decreased memory usage by {:.1f}%\\n'.format(100 * (initial_mem_usage - final_mem_usage) / initial_mem_usage))\n",
    "\n",
    "    return dataframe"
   ]
  },
  {
   "cell_type": "code",
   "execution_count": 5,
   "id": "3aa4de7c",
   "metadata": {
    "execution": {
     "iopub.execute_input": "2025-06-06T13:00:07.829814Z",
     "iopub.status.busy": "2025-06-06T13:00:07.829302Z",
     "iopub.status.idle": "2025-06-06T13:01:23.832894Z",
     "shell.execute_reply": "2025-06-06T13:01:23.831919Z"
    },
    "papermill": {
     "duration": 76.012698,
     "end_time": "2025-06-06T13:01:23.834680",
     "exception": false,
     "start_time": "2025-06-06T13:00:07.821982",
     "status": "completed"
    },
    "tags": []
   },
   "outputs": [
    {
     "name": "stdout",
     "output_type": "stream",
     "text": [
      "Reducing memory usage for: train\n",
      "--- Memory usage before: 3594.93 MB\n",
      "--- Memory usage after: 961.92 MB\n",
      "--- Decreased memory usage by 73.2%\n",
      "\n",
      "Reducing memory usage for: test\n",
      "--- Memory usage before: 3678.76 MB\n",
      "--- Memory usage after: 984.36 MB\n",
      "--- Decreased memory usage by 73.2%\n",
      "\n"
     ]
    }
   ],
   "source": [
    "train = pd.read_parquet(CFG.train_path).reset_index(drop=True)\n",
    "test = pd.read_parquet(CFG.test_path).reset_index(drop=True)\n",
    "\n",
    "train = reduce_mem_usage(train, \"train\")\n",
    "test = reduce_mem_usage(test, \"test\")\n",
    "\n",
    "X = train.drop(CFG.target, axis=1)\n",
    "y = train[CFG.target]\n",
    "X_test = test.drop(CFG.target, axis=1)"
   ]
  },
  {
   "cell_type": "code",
   "execution_count": 6,
   "id": "944b7a19",
   "metadata": {
    "execution": {
     "iopub.execute_input": "2025-06-06T13:01:23.848473Z",
     "iopub.status.busy": "2025-06-06T13:01:23.848160Z",
     "iopub.status.idle": "2025-06-06T13:01:23.957138Z",
     "shell.execute_reply": "2025-06-06T13:01:23.956150Z"
    },
    "papermill": {
     "duration": 0.118613,
     "end_time": "2025-06-06T13:01:23.959109",
     "exception": false,
     "start_time": "2025-06-06T13:01:23.840496",
     "status": "completed"
    },
    "tags": []
   },
   "outputs": [],
   "source": [
    "features = [\n",
    "    # https://www.kaggle.com/code/sadettinamilverdil/yat-r-m-tavsiyesi-de-ildir\n",
    "    \"X863\", \"X856\", \"X344\", \"X598\", \"X862\", \"X385\", \"X852\", \"X603\", \"X860\", \"X674\",\n",
    "    \"X415\", \"X345\", \"X137\", \"X855\", \"X174\", \"X302\", \"X178\", \"X532\", \"X168\", \"X612\",\n",
    "    \"bid_qty\", \"ask_qty\", \"buy_qty\", \"sell_qty\", \"volume\"\n",
    "]\n",
    "\n",
    "X = X[features]\n",
    "X_test = X_test[features]"
   ]
  },
  {
   "cell_type": "markdown",
   "id": "44fef161",
   "metadata": {
    "papermill": {
     "duration": 0.005489,
     "end_time": "2025-06-06T13:01:23.970619",
     "exception": false,
     "start_time": "2025-06-06T13:01:23.965130",
     "status": "completed"
    },
    "tags": []
   },
   "source": [
    "# Training base models"
   ]
  },
  {
   "cell_type": "code",
   "execution_count": 7,
   "id": "d7aa53c8",
   "metadata": {
    "execution": {
     "iopub.execute_input": "2025-06-06T13:01:23.983106Z",
     "iopub.status.busy": "2025-06-06T13:01:23.982765Z",
     "iopub.status.idle": "2025-06-06T13:01:23.987373Z",
     "shell.execute_reply": "2025-06-06T13:01:23.986412Z"
    },
    "papermill": {
     "duration": 0.012631,
     "end_time": "2025-06-06T13:01:23.988891",
     "exception": false,
     "start_time": "2025-06-06T13:01:23.976260",
     "status": "completed"
    },
    "tags": []
   },
   "outputs": [],
   "source": [
    "def pearsonr(y_true, y_pred):\n",
    "    return pr(y_true, y_pred)[0]"
   ]
  },
  {
   "cell_type": "code",
   "execution_count": 8,
   "id": "199b7b2d",
   "metadata": {
    "_kg_hide-input": true,
    "_kg_hide-output": true,
    "execution": {
     "iopub.execute_input": "2025-06-06T13:01:24.002229Z",
     "iopub.status.busy": "2025-06-06T13:01:24.001894Z",
     "iopub.status.idle": "2025-06-06T13:01:24.009265Z",
     "shell.execute_reply": "2025-06-06T13:01:24.008178Z"
    },
    "papermill": {
     "duration": 0.016128,
     "end_time": "2025-06-06T13:01:24.011010",
     "exception": false,
     "start_time": "2025-06-06T13:01:23.994882",
     "status": "completed"
    },
    "tags": []
   },
   "outputs": [],
   "source": [
    "lgbm_params = {\n",
    "    \"boosting_type\": \"gbdt\",\n",
    "    \"colsample_bytree\": 0.5625888953382505,\n",
    "    \"learning_rate\": 0.029312951475451557,\n",
    "    \"min_child_samples\": 63,\n",
    "    \"min_child_weight\": 0.11456572852335424,\n",
    "    \"n_estimators\": 126,\n",
    "    \"n_jobs\": -1,\n",
    "    \"num_leaves\": 37,\n",
    "    \"random_state\": 42,\n",
    "    \"reg_alpha\": 85.2476527854083,\n",
    "    \"reg_lambda\": 99.38305361388907,\n",
    "    \"subsample\": 0.450669817684892,\n",
    "    \"verbose\": -1\n",
    "}\n",
    "\n",
    "lgbm_goss_params = {\n",
    "    \"boosting_type\": \"goss\",\n",
    "    \"colsample_bytree\": 0.34695458228489784,\n",
    "    \"learning_rate\": 0.031023014900595287,\n",
    "    \"min_child_samples\": 30,\n",
    "    \"min_child_weight\": 0.4727729225033618,\n",
    "    \"n_estimators\": 220,\n",
    "    \"n_jobs\": -1,\n",
    "    \"num_leaves\": 58,\n",
    "    \"random_state\": 42,\n",
    "    \"reg_alpha\": 38.665994901468224,\n",
    "    \"reg_lambda\": 92.76991677464294,\n",
    "    \"subsample\": 0.4810891284493255,\n",
    "    \"verbose\": -1\n",
    "}\n",
    "\n",
    "xgb_params = {\n",
    "    \"colsample_bylevel\": 0.4778015829774066,\n",
    "    \"colsample_bynode\": 0.362764358742407,\n",
    "    \"colsample_bytree\": 0.7107423488010493,\n",
    "    \"gamma\": 1.7094857725240398,\n",
    "    \"learning_rate\": 0.02213323588455387,\n",
    "    \"max_depth\": 20,\n",
    "    \"max_leaves\": 12,\n",
    "    \"min_child_weight\": 16,\n",
    "    \"n_estimators\": 1667,\n",
    "    \"n_jobs\": -1,\n",
    "    \"random_state\": 42,\n",
    "    \"reg_alpha\": 39.352415706891264,\n",
    "    \"reg_lambda\": 75.44843704068275,\n",
    "    \"subsample\": 0.06566669853471274,\n",
    "    \"verbosity\": 0\n",
    "}"
   ]
  },
  {
   "cell_type": "code",
   "execution_count": 9,
   "id": "410d4457",
   "metadata": {
    "execution": {
     "iopub.execute_input": "2025-06-06T13:01:24.024338Z",
     "iopub.status.busy": "2025-06-06T13:01:24.024020Z",
     "iopub.status.idle": "2025-06-06T13:01:24.028719Z",
     "shell.execute_reply": "2025-06-06T13:01:24.027940Z"
    },
    "papermill": {
     "duration": 0.012826,
     "end_time": "2025-06-06T13:01:24.030209",
     "exception": false,
     "start_time": "2025-06-06T13:01:24.017383",
     "status": "completed"
    },
    "tags": []
   },
   "outputs": [],
   "source": [
    "fold_scores = {}\n",
    "overall_scores = {}\n",
    "\n",
    "oof_preds = {}\n",
    "test_preds = {}"
   ]
  },
  {
   "cell_type": "markdown",
   "id": "844379ed",
   "metadata": {
    "papermill": {
     "duration": 0.005508,
     "end_time": "2025-06-06T13:01:24.041786",
     "exception": false,
     "start_time": "2025-06-06T13:01:24.036278",
     "status": "completed"
    },
    "tags": []
   },
   "source": [
    "## LightGBM (gbdt)"
   ]
  },
  {
   "cell_type": "code",
   "execution_count": 10,
   "id": "92bf0e25",
   "metadata": {
    "execution": {
     "iopub.execute_input": "2025-06-06T13:01:24.055015Z",
     "iopub.status.busy": "2025-06-06T13:01:24.054693Z",
     "iopub.status.idle": "2025-06-06T13:01:54.666753Z",
     "shell.execute_reply": "2025-06-06T13:01:54.665815Z"
    },
    "papermill": {
     "duration": 30.621544,
     "end_time": "2025-06-06T13:01:54.669147",
     "exception": false,
     "start_time": "2025-06-06T13:01:24.047603",
     "status": "completed"
    },
    "tags": []
   },
   "outputs": [
    {
     "name": "stdout",
     "output_type": "stream",
     "text": [
      "Training LGBMRegressor\n",
      "\n",
      "--- Fold 0 - pearsonr: 0.119934 - Time: 4.02 s\n",
      "--- Fold 1 - pearsonr: 0.101273 - Time: 3.83 s\n",
      "--- Fold 2 - pearsonr: 0.023888 - Time: 3.91 s\n",
      "--- Fold 3 - pearsonr: 0.159401 - Time: 3.98 s\n",
      "--- Fold 4 - pearsonr: 0.086810 - Time: 3.81 s\n",
      "\n",
      "------ Overall pearsonr: 0.088686 - Mean pearsonr: 0.098261 ± 0.044451 - Time: 20.34 s\n"
     ]
    }
   ],
   "source": [
    "lgbm_trainer = Trainer(\n",
    "    LGBMRegressor(**lgbm_params),\n",
    "    cv=KFold(n_splits=5, shuffle=False),\n",
    "    metric=pearsonr,\n",
    "    task=\"regression\",\n",
    "    metric_precision=6\n",
    ")\n",
    "\n",
    "lgbm_trainer.fit(X, y)\n",
    "\n",
    "fold_scores[\"LightGBM (gbdt)\"] = lgbm_trainer.fold_scores\n",
    "overall_scores[\"LightGBM (gbdt)\"] = [pearsonr(lgbm_trainer.oof_preds, y)]\n",
    "oof_preds[\"LightGBM (gbdt)\"] = lgbm_trainer.oof_preds\n",
    "test_preds[\"LightGBM (gbdt)\"] = lgbm_trainer.predict(X_test)"
   ]
  },
  {
   "cell_type": "markdown",
   "id": "746cc9d0",
   "metadata": {
    "papermill": {
     "duration": 0.006001,
     "end_time": "2025-06-06T13:01:54.681728",
     "exception": false,
     "start_time": "2025-06-06T13:01:54.675727",
     "status": "completed"
    },
    "tags": []
   },
   "source": [
    "## LightGBM (goss)"
   ]
  },
  {
   "cell_type": "code",
   "execution_count": 11,
   "id": "489c6db2",
   "metadata": {
    "execution": {
     "iopub.execute_input": "2025-06-06T13:01:54.695337Z",
     "iopub.status.busy": "2025-06-06T13:01:54.695020Z",
     "iopub.status.idle": "2025-06-06T13:02:53.118263Z",
     "shell.execute_reply": "2025-06-06T13:02:53.117201Z"
    },
    "papermill": {
     "duration": 58.432487,
     "end_time": "2025-06-06T13:02:53.120225",
     "exception": false,
     "start_time": "2025-06-06T13:01:54.687738",
     "status": "completed"
    },
    "tags": []
   },
   "outputs": [
    {
     "name": "stdout",
     "output_type": "stream",
     "text": [
      "Training LGBMRegressor\n",
      "\n",
      "--- Fold 0 - pearsonr: 0.125020 - Time: 7.49 s\n",
      "--- Fold 1 - pearsonr: 0.101415 - Time: 7.33 s\n",
      "--- Fold 2 - pearsonr: 0.034181 - Time: 7.23 s\n",
      "--- Fold 3 - pearsonr: 0.156489 - Time: 8.78 s\n",
      "--- Fold 4 - pearsonr: 0.093786 - Time: 7.31 s\n",
      "\n",
      "------ Overall pearsonr: 0.096503 - Mean pearsonr: 0.102178 ± 0.040413 - Time: 38.94 s\n"
     ]
    }
   ],
   "source": [
    "lgbm_goss_trainer = Trainer(\n",
    "    LGBMRegressor(**lgbm_goss_params),\n",
    "    cv=KFold(n_splits=5, shuffle=False),\n",
    "    metric=pearsonr,\n",
    "    task=\"regression\",\n",
    "    metric_precision=6\n",
    ")\n",
    "\n",
    "lgbm_goss_trainer.fit(X, y)\n",
    "\n",
    "fold_scores[\"LightGBM (goss)\"] = lgbm_goss_trainer.fold_scores\n",
    "overall_scores[\"LightGBM (goss)\"] = [pearsonr(lgbm_goss_trainer.oof_preds, y)]\n",
    "oof_preds[\"LightGBM (goss)\"] = lgbm_goss_trainer.oof_preds\n",
    "test_preds[\"LightGBM (goss)\"] = lgbm_goss_trainer.predict(X_test)"
   ]
  },
  {
   "cell_type": "markdown",
   "id": "d7efe2dc",
   "metadata": {
    "papermill": {
     "duration": 0.007176,
     "end_time": "2025-06-06T13:02:53.136117",
     "exception": false,
     "start_time": "2025-06-06T13:02:53.128941",
     "status": "completed"
    },
    "tags": []
   },
   "source": [
    "## XGBoost"
   ]
  },
  {
   "cell_type": "code",
   "execution_count": 12,
   "id": "afafe38f",
   "metadata": {
    "execution": {
     "iopub.execute_input": "2025-06-06T13:02:53.150310Z",
     "iopub.status.busy": "2025-06-06T13:02:53.150029Z",
     "iopub.status.idle": "2025-06-06T13:05:47.169441Z",
     "shell.execute_reply": "2025-06-06T13:05:47.167982Z"
    },
    "papermill": {
     "duration": 174.029578,
     "end_time": "2025-06-06T13:05:47.171882",
     "exception": false,
     "start_time": "2025-06-06T13:02:53.142304",
     "status": "completed"
    },
    "tags": []
   },
   "outputs": [
    {
     "name": "stdout",
     "output_type": "stream",
     "text": [
      "Training XGBRegressor\n",
      "\n",
      "--- Fold 0 - pearsonr: 0.186980 - Time: 25.08 s\n",
      "--- Fold 1 - pearsonr: 0.126919 - Time: 31.80 s\n",
      "--- Fold 2 - pearsonr: 0.085247 - Time: 27.20 s\n",
      "--- Fold 3 - pearsonr: 0.162445 - Time: 26.30 s\n",
      "--- Fold 4 - pearsonr: 0.137543 - Time: 26.02 s\n",
      "\n",
      "------ Overall pearsonr: 0.137687 - Mean pearsonr: 0.139827 ± 0.034310 - Time: 137.32 s\n"
     ]
    }
   ],
   "source": [
    "xgb_trainer = Trainer(\n",
    "    XGBRegressor(**xgb_params),\n",
    "    cv=KFold(n_splits=5, shuffle=False),\n",
    "    metric=pearsonr,\n",
    "    task=\"regression\",\n",
    "    metric_precision=6\n",
    ")\n",
    "\n",
    "xgb_trainer.fit(X, y)\n",
    "\n",
    "fold_scores[\"XGBoost\"] = xgb_trainer.fold_scores\n",
    "overall_scores[\"XGBoost\"] = [pearsonr(xgb_trainer.oof_preds, y)]\n",
    "oof_preds[\"XGBoost\"] = xgb_trainer.oof_preds\n",
    "test_preds[\"XGBoost\"] = xgb_trainer.predict(X_test)"
   ]
  },
  {
   "cell_type": "markdown",
   "id": "644ebc3f",
   "metadata": {
    "papermill": {
     "duration": 0.007009,
     "end_time": "2025-06-06T13:05:47.186998",
     "exception": false,
     "start_time": "2025-06-06T13:05:47.179989",
     "status": "completed"
    },
    "tags": []
   },
   "source": [
    "## AutoGluon"
   ]
  },
  {
   "cell_type": "code",
   "execution_count": 13,
   "id": "1915c0ba",
   "metadata": {
    "execution": {
     "iopub.execute_input": "2025-06-06T13:05:47.203147Z",
     "iopub.status.busy": "2025-06-06T13:05:47.202738Z",
     "iopub.status.idle": "2025-06-06T13:05:47.421330Z",
     "shell.execute_reply": "2025-06-06T13:05:47.420137Z"
    },
    "papermill": {
     "duration": 0.22985,
     "end_time": "2025-06-06T13:05:47.423782",
     "exception": false,
     "start_time": "2025-06-06T13:05:47.193932",
     "status": "completed"
    },
    "tags": []
   },
   "outputs": [],
   "source": [
    "oof_preds_files = glob.glob(f'/kaggle/input/drw-crypto-market-prediction-autogluon/*_oof_preds_*.pkl')\n",
    "test_preds_files = glob.glob(f'/kaggle/input/drw-crypto-market-prediction-autogluon/*_test_preds_*.pkl')\n",
    "\n",
    "ag_oof_preds = joblib.load(oof_preds_files[0])\n",
    "ag_test_preds = joblib.load(test_preds_files[0])\n",
    "\n",
    "ag_score = [pearsonr(ag_oof_preds, y)]\n",
    "\n",
    "ag_scores = []\n",
    "split = KFold(n_splits=CFG.n_folds).split(X, y)\n",
    "for _, val_idx in split:\n",
    "    y_val = y[val_idx]\n",
    "    y_preds = ag_oof_preds[val_idx]   \n",
    "    score = pearsonr(y_preds, y_val)\n",
    "    ag_scores.append(score)\n",
    "    \n",
    "oof_preds[\"AutoGluon\"], test_preds[\"AutoGluon\"], overall_scores[\"AutoGluon\"], fold_scores[\"AutoGluon\"] = ag_oof_preds, ag_test_preds, ag_score, ag_scores"
   ]
  },
  {
   "cell_type": "markdown",
   "id": "8f489804",
   "metadata": {
    "papermill": {
     "duration": 0.006594,
     "end_time": "2025-06-06T13:05:47.440359",
     "exception": false,
     "start_time": "2025-06-06T13:05:47.433765",
     "status": "completed"
    },
    "tags": []
   },
   "source": [
    "# Ensembling with Ridge"
   ]
  },
  {
   "cell_type": "code",
   "execution_count": 14,
   "id": "e0fd4a5a",
   "metadata": {
    "_kg_hide-input": true,
    "execution": {
     "iopub.execute_input": "2025-06-06T13:05:47.455991Z",
     "iopub.status.busy": "2025-06-06T13:05:47.455616Z",
     "iopub.status.idle": "2025-06-06T13:05:47.464173Z",
     "shell.execute_reply": "2025-06-06T13:05:47.463189Z"
    },
    "papermill": {
     "duration": 0.018721,
     "end_time": "2025-06-06T13:05:47.466097",
     "exception": false,
     "start_time": "2025-06-06T13:05:47.447376",
     "status": "completed"
    },
    "tags": []
   },
   "outputs": [],
   "source": [
    "def plot_weights(weights, title):\n",
    "    sorted_indices = np.argsort(weights[0])[::-1]\n",
    "    sorted_coeffs = np.array(weights[0])[sorted_indices]\n",
    "    sorted_model_names = np.array(list(oof_preds.keys()))[sorted_indices]\n",
    "\n",
    "    plt.figure(figsize=(10, weights.shape[1] * 0.5))\n",
    "    ax = sns.barplot(x=sorted_coeffs, y=sorted_model_names, palette=\"RdYlGn_r\")\n",
    "\n",
    "    for i, (value, name) in enumerate(zip(sorted_coeffs, sorted_model_names)):\n",
    "        if value >= 0:\n",
    "            ax.text(value, i, f\"{value:.3f}\", va=\"center\", ha=\"left\", color=\"black\")\n",
    "        else:\n",
    "            ax.text(value, i, f\"{value:.3f}\", va=\"center\", ha=\"right\", color=\"black\")\n",
    "\n",
    "    xlim = ax.get_xlim()\n",
    "    ax.set_xlim(xlim[0] - 0.1 * abs(xlim[0]), xlim[1] + 0.1 * abs(xlim[1]))\n",
    "\n",
    "    plt.title(title)\n",
    "    plt.xlabel(\"\")\n",
    "    plt.ylabel(\"\")\n",
    "    plt.tight_layout()\n",
    "    plt.show()"
   ]
  },
  {
   "cell_type": "code",
   "execution_count": 15,
   "id": "4181c859",
   "metadata": {
    "execution": {
     "iopub.execute_input": "2025-06-06T13:05:47.482261Z",
     "iopub.status.busy": "2025-06-06T13:05:47.481941Z",
     "iopub.status.idle": "2025-06-06T13:05:47.778273Z",
     "shell.execute_reply": "2025-06-06T13:05:47.777006Z"
    },
    "papermill": {
     "duration": 0.307228,
     "end_time": "2025-06-06T13:05:47.780560",
     "exception": false,
     "start_time": "2025-06-06T13:05:47.473332",
     "status": "completed"
    },
    "tags": []
   },
   "outputs": [],
   "source": [
    "X = pd.DataFrame(oof_preds)\n",
    "X_test = pd.DataFrame(test_preds)"
   ]
  },
  {
   "cell_type": "code",
   "execution_count": 16,
   "id": "d36fc9a2",
   "metadata": {
    "execution": {
     "iopub.execute_input": "2025-06-06T13:05:47.801405Z",
     "iopub.status.busy": "2025-06-06T13:05:47.801067Z",
     "iopub.status.idle": "2025-06-06T13:05:47.847442Z",
     "shell.execute_reply": "2025-06-06T13:05:47.846385Z"
    },
    "papermill": {
     "duration": 0.057017,
     "end_time": "2025-06-06T13:05:47.849081",
     "exception": false,
     "start_time": "2025-06-06T13:05:47.792064",
     "status": "completed"
    },
    "tags": []
   },
   "outputs": [
    {
     "data": {
      "text/plain": [
       "['test_preds.pkl']"
      ]
     },
     "execution_count": 16,
     "metadata": {},
     "output_type": "execute_result"
    }
   ],
   "source": [
    "joblib.dump(X, \"oof_preds.pkl\")\n",
    "joblib.dump(X_test, \"test_preds.pkl\")"
   ]
  },
  {
   "cell_type": "code",
   "execution_count": 17,
   "id": "863310f3",
   "metadata": {
    "_kg_hide-output": true,
    "execution": {
     "iopub.execute_input": "2025-06-06T13:05:47.866782Z",
     "iopub.status.busy": "2025-06-06T13:05:47.866411Z",
     "iopub.status.idle": "2025-06-06T13:14:19.804313Z",
     "shell.execute_reply": "2025-06-06T13:14:19.803268Z"
    },
    "papermill": {
     "duration": 511.948597,
     "end_time": "2025-06-06T13:14:19.806218",
     "exception": false,
     "start_time": "2025-06-06T13:05:47.857621",
     "status": "completed"
    },
    "scrolled": true,
    "tags": []
   },
   "outputs": [
    {
     "name": "stderr",
     "output_type": "stream",
     "text": [
      "[I 2025-06-06 13:05:47,872] A new study created in memory with name: no-name-cd7fcc88-3832-4878-aee6-d14b6a5ccc82\n",
      "[I 2025-06-06 13:05:51,885] Trial 3 finished with value: 0.17703863084854343 and parameters: {'alpha': 57.73237483356524, 'tol': 0.002666027990406581, 'fit_intercept': True, 'positive': False}. Best is trial 3 with value: 0.17703863084854343.\n",
      "[I 2025-06-06 13:05:51,895] Trial 1 finished with value: 0.17698502379406972 and parameters: {'alpha': 97.62740469734887, 'tol': 0.00919434726023061, 'fit_intercept': True, 'positive': False}. Best is trial 3 with value: 0.17703863084854343.\n",
      "[I 2025-06-06 13:05:52,526] Trial 0 finished with value: 0.17014954935978926 and parameters: {'alpha': 13.750629616658017, 'tol': 0.008048506488112298, 'fit_intercept': False, 'positive': True}. Best is trial 3 with value: 0.17703863084854343.\n",
      "[I 2025-06-06 13:05:52,592] Trial 2 finished with value: 0.16737533621878248 and parameters: {'alpha': 57.715104970052664, 'tol': 0.006587947620454476, 'fit_intercept': True, 'positive': True}. Best is trial 3 with value: 0.17703863084854343.\n",
      "[I 2025-06-06 13:05:55,296] Trial 4 finished with value: 0.18200636829816066 and parameters: {'alpha': 78.47752714067549, 'tol': 0.009945048532105578, 'fit_intercept': False, 'positive': False}. Best is trial 4 with value: 0.18200636829816066.\n",
      "[I 2025-06-06 13:05:56,383] Trial 5 finished with value: 0.151960804401926 and parameters: {'alpha': 32.29338040987979, 'tol': 0.00788579406544771, 'fit_intercept': True, 'positive': True}. Best is trial 4 with value: 0.18200636829816066.\n",
      "[I 2025-06-06 13:05:56,662] Trial 7 finished with value: 0.17699822971772408 and parameters: {'alpha': 87.9413298862865, 'tol': 0.0051717307886660615, 'fit_intercept': True, 'positive': False}. Best is trial 4 with value: 0.18200636829816066.\n",
      "[I 2025-06-06 13:05:57,287] Trial 6 finished with value: 0.17750112336089732 and parameters: {'alpha': 50.52671003637743, 'tol': 0.00012173369229775085, 'fit_intercept': False, 'positive': True}. Best is trial 4 with value: 0.18200636829816066.\n",
      "[I 2025-06-06 13:05:59,779] Trial 8 finished with value: 0.1554347287202957 and parameters: {'alpha': 7.858803158754757, 'tol': 0.008873370336942537, 'fit_intercept': False, 'positive': True}. Best is trial 4 with value: 0.18200636829816066.\n",
      "[I 2025-06-06 13:06:00,024] Trial 9 finished with value: 0.18200401037492142 and parameters: {'alpha': 82.72220957522313, 'tol': 0.005713145769692028, 'fit_intercept': False, 'positive': False}. Best is trial 4 with value: 0.18200636829816066.\n",
      "[I 2025-06-06 13:06:01,344] Trial 11 finished with value: 0.17707412590240273 and parameters: {'alpha': 30.408553225517444, 'tol': 0.006077564662171062, 'fit_intercept': True, 'positive': False}. Best is trial 4 with value: 0.18200636829816066.\n",
      "[I 2025-06-06 13:06:02,024] Trial 10 finished with value: 0.17175864742735145 and parameters: {'alpha': 58.53782499175414, 'tol': 0.0022662475873890153, 'fit_intercept': True, 'positive': True}. Best is trial 4 with value: 0.18200636829816066.\n",
      "[I 2025-06-06 13:06:03,668] Trial 12 finished with value: 0.1770149574591234 and parameters: {'alpha': 75.54197449456147, 'tol': 0.0025878381297270996, 'fit_intercept': True, 'positive': False}. Best is trial 4 with value: 0.18200636829816066.\n",
      "[I 2025-06-06 13:06:04,417] Trial 13 finished with value: 0.17751860060432834 and parameters: {'alpha': 7.973756884043038, 'tol': 0.0023193530175630154, 'fit_intercept': False, 'positive': True}. Best is trial 4 with value: 0.18200636829816066.\n",
      "[I 2025-06-06 13:06:05,492] Trial 14 finished with value: 0.17698303614650718 and parameters: {'alpha': 99.07765629614507, 'tol': 0.00021157887550211492, 'fit_intercept': True, 'positive': False}. Best is trial 4 with value: 0.18200636829816066.\n",
      "[I 2025-06-06 13:06:07,160] Trial 15 finished with value: 0.15195893052432907 and parameters: {'alpha': 14.819702071116037, 'tol': 0.00816942683372583, 'fit_intercept': True, 'positive': True}. Best is trial 4 with value: 0.18200636829816066.\n",
      "[I 2025-06-06 13:06:07,859] Trial 16 finished with value: 0.15550440872519852 and parameters: {'alpha': 95.57139048896249, 'tol': 0.00866234768270618, 'fit_intercept': False, 'positive': True}. Best is trial 4 with value: 0.18200636829816066.\n",
      "[I 2025-06-06 13:06:08,495] Trial 17 finished with value: 0.17699178350754827 and parameters: {'alpha': 92.6804757380366, 'tol': 0.0036589280507214584, 'fit_intercept': True, 'positive': False}. Best is trial 4 with value: 0.18200636829816066.\n",
      "[I 2025-06-06 13:06:09,312] Trial 18 finished with value: 0.17701372106281285 and parameters: {'alpha': 76.46356311750907, 'tol': 0.004203289752901777, 'fit_intercept': True, 'positive': False}. Best is trial 4 with value: 0.18200636829816066.\n",
      "[I 2025-06-06 13:06:11,445] Trial 20 finished with value: 0.18203346599602035 and parameters: {'alpha': 25.099915638922266, 'tol': 0.0009729602251057202, 'fit_intercept': False, 'positive': False}. Best is trial 20 with value: 0.18203346599602035.\n",
      "[I 2025-06-06 13:06:11,911] Trial 19 finished with value: 0.16732605422794516 and parameters: {'alpha': 85.7429475402958, 'tol': 0.007239117127796047, 'fit_intercept': True, 'positive': True}. Best is trial 20 with value: 0.18203346599602035.\n",
      "[I 2025-06-06 13:06:13,109] Trial 21 finished with value: 0.17025524746205767 and parameters: {'alpha': 93.49904291032237, 'tol': 0.005634003905163867, 'fit_intercept': False, 'positive': True}. Best is trial 20 with value: 0.18203346599602035.\n",
      "[I 2025-06-06 13:06:13,970] Trial 22 finished with value: 0.1674890240812182 and parameters: {'alpha': 23.94488993664352, 'tol': 0.004611811968436313, 'fit_intercept': True, 'positive': True}. Best is trial 20 with value: 0.18203346599602035.\n",
      "[I 2025-06-06 13:06:15,242] Trial 23 finished with value: 0.1770319897291057 and parameters: {'alpha': 62.760524009148845, 'tol': 0.006306399366953249, 'fit_intercept': True, 'positive': False}. Best is trial 20 with value: 0.18203346599602035.\n",
      "[I 2025-06-06 13:06:16,720] Trial 24 finished with value: 0.1703087579623153 and parameters: {'alpha': 31.728764231403606, 'tol': 0.00523320085853649, 'fit_intercept': False, 'positive': True}. Best is trial 20 with value: 0.18203346599602035.\n",
      "[I 2025-06-06 13:06:16,743] Trial 25 finished with value: 0.18203881445212547 and parameters: {'alpha': 13.27465661307775, 'tol': 0.006004605911566253, 'fit_intercept': False, 'positive': False}. Best is trial 25 with value: 0.18203881445212547.\n",
      "[I 2025-06-06 13:06:18,478] Trial 26 finished with value: 0.1775097178139313 and parameters: {'alpha': 30.077764290254905, 'tol': 0.0022971881457720914, 'fit_intercept': False, 'positive': True}. Best is trial 25 with value: 0.18203881445212547.\n",
      "[I 2025-06-06 13:06:20,062] Trial 27 finished with value: 0.16760459080441342 and parameters: {'alpha': 54.504826587142006, 'tol': 0.0037865057126195444, 'fit_intercept': True, 'positive': True}. Best is trial 25 with value: 0.18203881445212547.\n",
      "[I 2025-06-06 13:06:20,677] Trial 29 finished with value: 0.1770743286089778 and parameters: {'alpha': 30.250236695751642, 'tol': 0.0012628884612332577, 'fit_intercept': True, 'positive': False}. Best is trial 25 with value: 0.18203881445212547.\n",
      "[I 2025-06-06 13:06:20,898] Trial 28 finished with value: 0.17709018949194935 and parameters: {'alpha': 17.778010987687065, 'tol': 0.0029098932093583195, 'fit_intercept': True, 'positive': False}. Best is trial 25 with value: 0.18203881445212547.\n",
      "[I 2025-06-06 13:06:22,171] Trial 30 finished with value: 0.1820243817753069 and parameters: {'alpha': 44.07521583023251, 'tol': 0.007746704801651957, 'fit_intercept': False, 'positive': False}. Best is trial 25 with value: 0.18203881445212547.\n",
      "[I 2025-06-06 13:06:23,988] Trial 31 finished with value: 0.1770784686779679 and parameters: {'alpha': 27.010890578958, 'tol': 0.006408612680187228, 'fit_intercept': True, 'positive': False}. Best is trial 25 with value: 0.18203881445212547.\n",
      "[I 2025-06-06 13:06:24,699] Trial 33 finished with value: 0.18203041181720925 and parameters: {'alpha': 31.624379072111985, 'tol': 0.0010511140065634138, 'fit_intercept': False, 'positive': False}. Best is trial 25 with value: 0.18203881445212547.\n",
      "[I 2025-06-06 13:06:25,356] Trial 32 finished with value: 0.16765858447198678 and parameters: {'alpha': 17.436376162403622, 'tol': 0.0040849307102660826, 'fit_intercept': True, 'positive': True}. Best is trial 25 with value: 0.18203881445212547.\n",
      "[I 2025-06-06 13:06:26,069] Trial 34 finished with value: 0.1770789583850248 and parameters: {'alpha': 26.6269776976226, 'tol': 0.006307624986314713, 'fit_intercept': True, 'positive': False}. Best is trial 25 with value: 0.18203881445212547.\n",
      "[I 2025-06-06 13:06:28,570] Trial 35 finished with value: 0.17178207487452052 and parameters: {'alpha': 28.839473022337124, 'tol': 0.0014923324023980835, 'fit_intercept': True, 'positive': True}. Best is trial 25 with value: 0.18203881445212547.\n",
      "[I 2025-06-06 13:06:29,670] Trial 36 finished with value: 0.17748267368805945 and parameters: {'alpha': 91.86059977934164, 'tol': 0.0013048088799228526, 'fit_intercept': False, 'positive': True}. Best is trial 25 with value: 0.18203881445212547.\n",
      "[I 2025-06-06 13:06:29,672] Trial 37 finished with value: 0.17708985207749056 and parameters: {'alpha': 18.045108575442235, 'tol': 0.006866095486212165, 'fit_intercept': True, 'positive': False}. Best is trial 25 with value: 0.18203881445212547.\n",
      "[I 2025-06-06 13:06:30,796] Trial 38 finished with value: 0.17748283952602226 and parameters: {'alpha': 91.5026664446083, 'tol': 0.0007320216954689155, 'fit_intercept': False, 'positive': True}. Best is trial 25 with value: 0.18203881445212547.\n",
      "[I 2025-06-06 13:06:33,229] Trial 39 finished with value: 0.17748201860777282 and parameters: {'alpha': 93.27227760558608, 'tol': 0.001107895309161193, 'fit_intercept': False, 'positive': True}. Best is trial 25 with value: 0.18203881445212547.\n",
      "[I 2025-06-06 13:06:33,793] Trial 40 finished with value: 0.1770533067034795 and parameters: {'alpha': 46.52892307797326, 'tol': 0.005342913288979269, 'fit_intercept': True, 'positive': False}. Best is trial 25 with value: 0.18203881445212547.\n",
      "[I 2025-06-06 13:06:33,796] Trial 41 finished with value: 0.17701742588635117 and parameters: {'alpha': 73.69956284498464, 'tol': 0.0022794250496932754, 'fit_intercept': True, 'positive': False}. Best is trial 25 with value: 0.18203881445212547.\n",
      "[I 2025-06-06 13:06:34,643] Trial 42 finished with value: 0.18203087839649773 and parameters: {'alpha': 30.637660146466995, 'tol': 0.00603267866220292, 'fit_intercept': False, 'positive': False}. Best is trial 25 with value: 0.18203881445212547.\n",
      "[I 2025-06-06 13:06:37,650] Trial 45 finished with value: 0.17701529778888478 and parameters: {'alpha': 75.28815281927395, 'tol': 0.0020063837516040624, 'fit_intercept': True, 'positive': False}. Best is trial 25 with value: 0.18203881445212547.\n",
      "[I 2025-06-06 13:06:37,935] Trial 43 finished with value: 0.16738122099252872 and parameters: {'alpha': 95.05810868069776, 'tol': 0.00533703124167601, 'fit_intercept': True, 'positive': True}. Best is trial 25 with value: 0.18203881445212547.\n",
      "[I 2025-06-06 13:06:38,582] Trial 44 finished with value: 0.1700774605552844 and parameters: {'alpha': 89.91080305266334, 'tol': 0.00789790705720416, 'fit_intercept': False, 'positive': True}. Best is trial 25 with value: 0.18203881445212547.\n",
      "[I 2025-06-06 13:06:39,031] Trial 46 finished with value: 0.17032284785636 and parameters: {'alpha': 14.930577560543867, 'tol': 0.005951691494456449, 'fit_intercept': False, 'positive': True}. Best is trial 25 with value: 0.18203881445212547.\n",
      "[I 2025-06-06 13:06:41,891] Trial 48 finished with value: 0.1769965786565941 and parameters: {'alpha': 89.15719739162886, 'tol': 0.0039816084340604605, 'fit_intercept': True, 'positive': False}. Best is trial 25 with value: 0.18203881445212547.\n",
      "[I 2025-06-06 13:06:42,247] Trial 47 finished with value: 0.15196503061181382 and parameters: {'alpha': 76.03477901112349, 'tol': 0.009608085259665581, 'fit_intercept': True, 'positive': True}. Best is trial 25 with value: 0.18203881445212547.\n",
      "[I 2025-06-06 13:06:42,896] Trial 50 finished with value: 0.18202580243012575 and parameters: {'alpha': 41.19022887415446, 'tol': 0.005620291683461227, 'fit_intercept': False, 'positive': False}. Best is trial 25 with value: 0.18203881445212547.\n",
      "[I 2025-06-06 13:06:43,111] Trial 49 finished with value: 0.17007453144876775 and parameters: {'alpha': 92.92967202073955, 'tol': 0.006097521286367876, 'fit_intercept': False, 'positive': True}. Best is trial 25 with value: 0.18203881445212547.\n",
      "[I 2025-06-06 13:06:45,934] Trial 52 finished with value: 0.18200680432441105 and parameters: {'alpha': 77.686751512259, 'tol': 0.006520235543441467, 'fit_intercept': False, 'positive': False}. Best is trial 25 with value: 0.18203881445212547.\n",
      "[I 2025-06-06 13:06:46,346] Trial 51 finished with value: 0.1702551769547878 and parameters: {'alpha': 93.57849840488542, 'tol': 0.0051311509989387175, 'fit_intercept': False, 'positive': True}. Best is trial 25 with value: 0.18203881445212547.\n",
      "[I 2025-06-06 13:06:46,921] Trial 53 finished with value: 0.18203207967707463 and parameters: {'alpha': 28.080788861324933, 'tol': 0.0009064740103075142, 'fit_intercept': False, 'positive': False}. Best is trial 25 with value: 0.18203881445212547.\n",
      "[I 2025-06-06 13:06:47,151] Trial 54 finished with value: 0.18202455633805614 and parameters: {'alpha': 43.72225837277779, 'tol': 0.006866889615548698, 'fit_intercept': False, 'positive': False}. Best is trial 25 with value: 0.18203881445212547.\n",
      "[I 2025-06-06 13:06:50,010] Trial 55 finished with value: 0.18202759712797825 and parameters: {'alpha': 37.50396929063164, 'tol': 0.0002414293588285536, 'fit_intercept': False, 'positive': False}. Best is trial 25 with value: 0.18203881445212547.\n",
      "[I 2025-06-06 13:06:50,072] Trial 56 finished with value: 0.18203867550455685 and parameters: {'alpha': 13.588799383826998, 'tol': 0.00028794035622300843, 'fit_intercept': False, 'positive': False}. Best is trial 25 with value: 0.18203881445212547.\n",
      "[I 2025-06-06 13:06:50,704] Trial 57 finished with value: 0.182030049062429 and parameters: {'alpha': 32.38910806108634, 'tol': 0.000242484361689062, 'fit_intercept': False, 'positive': False}. Best is trial 25 with value: 0.18203881445212547.\n",
      "[I 2025-06-06 13:06:51,259] Trial 58 finished with value: 0.182033129400912 and parameters: {'alpha': 25.826693045578217, 'tol': 0.00041916610415970485, 'fit_intercept': False, 'positive': False}. Best is trial 25 with value: 0.18203881445212547.\n",
      "[I 2025-06-06 13:06:53,594] Trial 59 finished with value: 0.18203244647065125 and parameters: {'alpha': 27.295292593123808, 'tol': 0.0007043170041500994, 'fit_intercept': False, 'positive': False}. Best is trial 25 with value: 0.18203881445212547.\n",
      "[I 2025-06-06 13:06:53,985] Trial 60 finished with value: 0.18204195768648085 and parameters: {'alpha': 6.061054242917006, 'tol': 0.0010286184153727842, 'fit_intercept': False, 'positive': False}. Best is trial 60 with value: 0.18204195768648085.\n",
      "[I 2025-06-06 13:06:54,615] Trial 61 finished with value: 0.18204141160932408 and parameters: {'alpha': 7.32941533307302, 'tol': 0.005360531434162423, 'fit_intercept': False, 'positive': False}. Best is trial 60 with value: 0.18204195768648085.\n",
      "[I 2025-06-06 13:06:55,585] Trial 62 finished with value: 0.18203694886462848 and parameters: {'alpha': 17.460651551337193, 'tol': 0.0035676808767931517, 'fit_intercept': False, 'positive': False}. Best is trial 60 with value: 0.18204195768648085.\n",
      "[I 2025-06-06 13:06:57,554] Trial 63 finished with value: 0.18204273697933882 and parameters: {'alpha': 4.239541315136407, 'tol': 0.00026568944909267597, 'fit_intercept': False, 'positive': False}. Best is trial 63 with value: 0.18204273697933882.\n",
      "[I 2025-06-06 13:06:57,808] Trial 64 finished with value: 0.18204276987361653 and parameters: {'alpha': 4.162353692096838, 'tol': 0.0006841884005853882, 'fit_intercept': False, 'positive': False}. Best is trial 64 with value: 0.18204276987361653.\n",
      "[I 2025-06-06 13:06:58,623] Trial 65 finished with value: 0.1820409940371867 and parameters: {'alpha': 8.294912362765944, 'tol': 0.00043286231420340397, 'fit_intercept': False, 'positive': False}. Best is trial 64 with value: 0.18204276987361653.\n",
      "[I 2025-06-06 13:06:59,795] Trial 66 finished with value: 0.18204444876025394 and parameters: {'alpha': 0.18956801141505508, 'tol': 0.001391063424046189, 'fit_intercept': False, 'positive': False}. Best is trial 66 with value: 0.18204444876025394.\n",
      "[I 2025-06-06 13:07:01,560] Trial 67 finished with value: 0.1820433942042967 and parameters: {'alpha': 2.6926492980334213, 'tol': 0.003946751354592033, 'fit_intercept': False, 'positive': False}. Best is trial 66 with value: 0.18204444876025394.\n",
      "[I 2025-06-06 13:07:01,758] Trial 68 finished with value: 0.18204411482033184 and parameters: {'alpha': 0.9850448576227704, 'tol': 0.006234325443873361, 'fit_intercept': False, 'positive': False}. Best is trial 66 with value: 0.18204444876025394.\n",
      "[I 2025-06-06 13:07:02,582] Trial 69 finished with value: 0.18204405212470648 and parameters: {'alpha': 1.1340961732460224, 'tol': 0.0012590695511318587, 'fit_intercept': False, 'positive': False}. Best is trial 66 with value: 0.18204444876025394.\n",
      "[I 2025-06-06 13:07:03,919] Trial 70 finished with value: 0.1820418240776646 and parameters: {'alpha': 6.371990529076471, 'tol': 0.0059802293521614355, 'fit_intercept': False, 'positive': False}. Best is trial 66 with value: 0.18204444876025394.\n",
      "[I 2025-06-06 13:07:05,333] Trial 72 finished with value: 0.18204321370719082 and parameters: {'alpha': 3.1184683444410015, 'tol': 0.0028774460724781048, 'fit_intercept': False, 'positive': False}. Best is trial 66 with value: 0.18204444876025394.\n",
      "[I 2025-06-06 13:07:05,337] Trial 71 finished with value: 0.18204285699063613 and parameters: {'alpha': 3.9578116078322445, 'tol': 0.0023959805283257462, 'fit_intercept': False, 'positive': False}. Best is trial 66 with value: 0.18204444876025394.\n",
      "[I 2025-06-06 13:07:06,509] Trial 73 finished with value: 0.18204372022739085 and parameters: {'alpha': 1.9215971881817757, 'tol': 0.0022562876541162443, 'fit_intercept': False, 'positive': False}. Best is trial 66 with value: 0.18204444876025394.\n",
      "[I 2025-06-06 13:07:08,139] Trial 74 finished with value: 0.18204405225839326 and parameters: {'alpha': 1.1337784478667228, 'tol': 0.009282408633250867, 'fit_intercept': False, 'positive': False}. Best is trial 66 with value: 0.18204444876025394.\n",
      "[I 2025-06-06 13:07:09,368] Trial 75 finished with value: 0.1820432968917919 and parameters: {'alpha': 2.9223172153368706, 'tol': 0.0033199498936454684, 'fit_intercept': False, 'positive': False}. Best is trial 66 with value: 0.18204444876025394.\n",
      "[I 2025-06-06 13:07:09,447] Trial 76 finished with value: 0.1820432469798012 and parameters: {'alpha': 3.0400299453387665, 'tol': 0.002993089191625455, 'fit_intercept': False, 'positive': False}. Best is trial 66 with value: 0.18204444876025394.\n",
      "[I 2025-06-06 13:07:10,769] Trial 77 finished with value: 0.18204432202825602 and parameters: {'alpha': 0.4917688861635354, 'tol': 0.0029694108208264372, 'fit_intercept': False, 'positive': False}. Best is trial 66 with value: 0.18204444876025394.\n",
      "[I 2025-06-06 13:07:12,332] Trial 78 finished with value: 0.18204411597321413 and parameters: {'alpha': 0.9823031466982362, 'tol': 0.00980421369421177, 'fit_intercept': False, 'positive': False}. Best is trial 66 with value: 0.18204444876025394.\n",
      "[I 2025-06-06 13:07:12,933] Trial 79 finished with value: 0.18203801914107995 and parameters: {'alpha': 15.067537812785776, 'tol': 0.008502932782003737, 'fit_intercept': False, 'positive': False}. Best is trial 66 with value: 0.18204444876025394.\n",
      "[I 2025-06-06 13:07:13,535] Trial 80 finished with value: 0.18203737596749564 and parameters: {'alpha': 16.508322736614, 'tol': 0.009846898686256626, 'fit_intercept': False, 'positive': False}. Best is trial 66 with value: 0.18204444876025394.\n",
      "[I 2025-06-06 13:07:14,681] Trial 81 finished with value: 0.1820360037284463 and parameters: {'alpha': 19.55572003102786, 'tol': 0.009539197786392865, 'fit_intercept': False, 'positive': False}. Best is trial 66 with value: 0.18204444876025394.\n",
      "[I 2025-06-06 13:07:16,271] Trial 82 finished with value: 0.1820389252300999 and parameters: {'alpha': 13.023922878038306, 'tol': 0.00990502992943161, 'fit_intercept': False, 'positive': False}. Best is trial 66 with value: 0.18204444876025394.\n",
      "[I 2025-06-06 13:07:16,677] Trial 83 finished with value: 0.18204294024096085 and parameters: {'alpha': 3.762186606041223, 'tol': 0.009242323994555674, 'fit_intercept': False, 'positive': False}. Best is trial 66 with value: 0.18204444876025394.\n",
      "[I 2025-06-06 13:07:17,467] Trial 84 finished with value: 0.18204350449748202 and parameters: {'alpha': 2.432080294755597, 'tol': 0.008612198045277051, 'fit_intercept': False, 'positive': False}. Best is trial 66 with value: 0.18204444876025394.\n",
      "[I 2025-06-06 13:07:18,490] Trial 85 finished with value: 0.1820445047937957 and parameters: {'alpha': 0.0558296734650896, 'tol': 0.00884879284354886, 'fit_intercept': False, 'positive': False}. Best is trial 85 with value: 0.1820445047937957.\n",
      "[I 2025-06-06 13:07:20,432] Trial 86 finished with value: 0.18204271642522993 and parameters: {'alpha': 4.287759814841778, 'tol': 0.007575885577827945, 'fit_intercept': False, 'positive': False}. Best is trial 85 with value: 0.1820445047937957.\n",
      "[I 2025-06-06 13:07:20,848] Trial 87 finished with value: 0.1770840771043182 and parameters: {'alpha': 22.604515225916856, 'tol': 0.009708649589286656, 'fit_intercept': True, 'positive': False}. Best is trial 85 with value: 0.1820445047937957.\n",
      "[I 2025-06-06 13:07:21,096] Trial 88 finished with value: 0.18204441944100969 and parameters: {'alpha': 0.259515867237025, 'tol': 0.007788659662258335, 'fit_intercept': False, 'positive': False}. Best is trial 85 with value: 0.1820445047937957.\n",
      "[I 2025-06-06 13:07:22,431] Trial 89 finished with value: 0.18204386031062364 and parameters: {'alpha': 1.5895343353760099, 'tol': 0.007277801944348665, 'fit_intercept': False, 'positive': False}. Best is trial 85 with value: 0.1820445047937957.\n",
      "[I 2025-06-06 13:07:24,765] Trial 91 finished with value: 0.18204297869583622 and parameters: {'alpha': 3.6717703557626744, 'tol': 0.008856387275066702, 'fit_intercept': False, 'positive': False}. Best is trial 85 with value: 0.1820445047937957.\n",
      "[I 2025-06-06 13:07:24,966] Trial 90 finished with value: 0.1771118775029702 and parameters: {'alpha': 0.44116405232546974, 'tol': 0.009433897604001366, 'fit_intercept': True, 'positive': False}. Best is trial 85 with value: 0.1820445047937957.\n",
      "[I 2025-06-06 13:07:24,999] Trial 92 finished with value: 0.1820432046778539 and parameters: {'alpha': 3.139750122762326, 'tol': 0.009670775106175773, 'fit_intercept': False, 'positive': False}. Best is trial 85 with value: 0.1820445047937957.\n",
      "[I 2025-06-06 13:07:26,175] Trial 93 finished with value: 0.17711162563071842 and parameters: {'alpha': 0.6444587195229539, 'tol': 0.00567712346385133, 'fit_intercept': True, 'positive': False}. Best is trial 85 with value: 0.1820445047937957.\n",
      "[I 2025-06-06 13:07:29,524] Trial 94 finished with value: 0.17752010568427623 and parameters: {'alpha': 4.119142954019659, 'tol': 0.0001899737921261626, 'fit_intercept': False, 'positive': True}. Best is trial 85 with value: 0.1820445047937957.\n",
      "[I 2025-06-06 13:07:29,553] Trial 96 finished with value: 0.15544547421443572 and parameters: {'alpha': 21.04126666946223, 'tol': 0.009520803861349673, 'fit_intercept': False, 'positive': True}. Best is trial 85 with value: 0.1820445047937957.\n",
      "[I 2025-06-06 13:07:29,595] Trial 95 finished with value: 0.15543164066649323 and parameters: {'alpha': 4.092630066587793, 'tol': 0.009907382728480943, 'fit_intercept': False, 'positive': True}. Best is trial 85 with value: 0.1820445047937957.\n",
      "[I 2025-06-06 13:07:30,032] Trial 97 finished with value: 0.18203995329032346 and parameters: {'alpha': 10.685073563530127, 'tol': 0.006920165831093471, 'fit_intercept': False, 'positive': False}. Best is trial 85 with value: 0.1820445047937957.\n",
      "[I 2025-06-06 13:07:33,119] Trial 98 finished with value: 0.1820421571041059 and parameters: {'alpha': 5.5962307800252304, 'tol': 0.007295736507629096, 'fit_intercept': False, 'positive': False}. Best is trial 85 with value: 0.1820445047937957.\n",
      "[I 2025-06-06 13:07:33,929] Trial 100 finished with value: 0.18204409510952907 and parameters: {'alpha': 1.0319149582283949, 'tol': 0.0075708773534667595, 'fit_intercept': False, 'positive': False}. Best is trial 85 with value: 0.1820445047937957.\n",
      "[I 2025-06-06 13:07:34,152] Trial 101 finished with value: 0.18204287957721718 and parameters: {'alpha': 3.9047523635175447, 'tol': 0.0071165337123947755, 'fit_intercept': False, 'positive': False}. Best is trial 85 with value: 0.1820445047937957.\n",
      "[I 2025-06-06 13:07:34,181] Trial 99 finished with value: 0.17752165144286663 and parameters: {'alpha': 0.12475547370354789, 'tol': 0.0031984775638106205, 'fit_intercept': False, 'positive': True}. Best is trial 85 with value: 0.1820445047937957.\n",
      "[I 2025-06-06 13:07:37,085] Trial 102 finished with value: 0.18204168014011654 and parameters: {'alpha': 6.706523405648753, 'tol': 0.0062512016604882965, 'fit_intercept': False, 'positive': False}. Best is trial 85 with value: 0.1820445047937957.\n",
      "[I 2025-06-06 13:07:37,750] Trial 103 finished with value: 0.18204448806890575 and parameters: {'alpha': 0.09575577561638982, 'tol': 0.00749737337284507, 'fit_intercept': False, 'positive': False}. Best is trial 85 with value: 0.1820445047937957.\n",
      "[I 2025-06-06 13:07:38,116] Trial 105 finished with value: 0.18204314938791138 and parameters: {'alpha': 3.270025327801884, 'tol': 0.006649786765298367, 'fit_intercept': False, 'positive': False}. Best is trial 85 with value: 0.1820445047937957.\n",
      "[I 2025-06-06 13:07:38,157] Trial 104 finished with value: 0.17710133933862443 and parameters: {'alpha': 8.907128091394972, 'tol': 0.0007084504825879694, 'fit_intercept': True, 'positive': False}. Best is trial 85 with value: 0.1820445047937957.\n",
      "[I 2025-06-06 13:07:40,804] Trial 106 finished with value: 0.18204440922076082 and parameters: {'alpha': 0.28389380205480763, 'tol': 0.0076298990159611385, 'fit_intercept': False, 'positive': False}. Best is trial 85 with value: 0.1820445047937957.\n",
      "[I 2025-06-06 13:07:42,200] Trial 109 finished with value: 0.1820431615205181 and parameters: {'alpha': 3.2414442741568483, 'tol': 0.007439292870819338, 'fit_intercept': False, 'positive': False}. Best is trial 85 with value: 0.1820445047937957.\n",
      "[I 2025-06-06 13:07:42,223] Trial 107 finished with value: 0.18204396566065717 and parameters: {'alpha': 1.3395015162529942, 'tol': 0.007982387130591587, 'fit_intercept': False, 'positive': False}. Best is trial 85 with value: 0.1820445047937957.\n",
      "[I 2025-06-06 13:07:42,246] Trial 108 finished with value: 0.18204389147313188 and parameters: {'alpha': 1.5156019257215296, 'tol': 0.008442309252244855, 'fit_intercept': False, 'positive': False}. Best is trial 85 with value: 0.1820445047937957.\n",
      "[I 2025-06-06 13:07:44,666] Trial 110 finished with value: 0.18204387539861336 and parameters: {'alpha': 1.5537412433538262, 'tol': 0.008154298618559404, 'fit_intercept': False, 'positive': False}. Best is trial 85 with value: 0.1820445047937957.\n",
      "[I 2025-06-06 13:07:46,062] Trial 111 finished with value: 0.18204396632981662 and parameters: {'alpha': 1.337912528706968, 'tol': 0.009660834314039635, 'fit_intercept': False, 'positive': False}. Best is trial 85 with value: 0.1820445047937957.\n",
      "[I 2025-06-06 13:07:46,274] Trial 113 finished with value: 0.18204393788026865 and parameters: {'alpha': 1.4054595725024261, 'tol': 0.009569811109223446, 'fit_intercept': False, 'positive': False}. Best is trial 85 with value: 0.1820445047937957.\n",
      "[I 2025-06-06 13:07:47,103] Trial 112 finished with value: 0.17043157356407398 and parameters: {'alpha': 1.7611662749698964, 'tol': 0.006071797234068017, 'fit_intercept': False, 'positive': True}. Best is trial 85 with value: 0.1820445047937957.\n",
      "[I 2025-06-06 13:07:48,496] Trial 114 finished with value: 0.18204414360901067 and parameters: {'alpha': 0.9165720225600194, 'tol': 0.008002548096377626, 'fit_intercept': False, 'positive': False}. Best is trial 85 with value: 0.1820445047937957.\n",
      "[I 2025-06-06 13:07:50,096] Trial 115 finished with value: 0.18204307639886863 and parameters: {'alpha': 3.441895880770086, 'tol': 0.008717759420860869, 'fit_intercept': False, 'positive': False}. Best is trial 85 with value: 0.1820445047937957.\n",
      "[I 2025-06-06 13:07:50,318] Trial 116 finished with value: 0.18204223636859587 and parameters: {'alpha': 5.411226963819777, 'tol': 0.009299958034556325, 'fit_intercept': False, 'positive': False}. Best is trial 85 with value: 0.1820445047937957.\n",
      "[I 2025-06-06 13:07:51,173] Trial 117 finished with value: 0.1820441485293356 and parameters: {'alpha': 0.9048672393572567, 'tol': 0.007954782807890021, 'fit_intercept': False, 'positive': False}. Best is trial 85 with value: 0.1820445047937957.\n",
      "[I 2025-06-06 13:07:52,370] Trial 118 finished with value: 0.18204395097239096 and parameters: {'alpha': 1.3743776479444347, 'tol': 0.006198647954082141, 'fit_intercept': False, 'positive': False}. Best is trial 85 with value: 0.1820445047937957.\n",
      "[I 2025-06-06 13:07:53,985] Trial 119 finished with value: 0.18204363409031657 and parameters: {'alpha': 2.1255541614477376, 'tol': 0.007206387249951281, 'fit_intercept': False, 'positive': False}. Best is trial 85 with value: 0.1820445047937957.\n",
      "[I 2025-06-06 13:07:54,214] Trial 120 finished with value: 0.18204446045936726 and parameters: {'alpha': 0.16165131373200037, 'tol': 0.006015614607159426, 'fit_intercept': False, 'positive': False}. Best is trial 85 with value: 0.1820445047937957.\n",
      "[I 2025-06-06 13:07:55,595] Trial 121 finished with value: 0.18204402745760198 and parameters: {'alpha': 1.1927137441738889, 'tol': 0.0064520367593406585, 'fit_intercept': False, 'positive': False}. Best is trial 85 with value: 0.1820445047937957.\n",
      "[I 2025-06-06 13:07:56,296] Trial 122 finished with value: 0.18204451526352838 and parameters: {'alpha': 0.030832631445229963, 'tol': 0.007730441826971791, 'fit_intercept': False, 'positive': False}. Best is trial 122 with value: 0.18204451526352838.\n",
      "[I 2025-06-06 13:07:58,278] Trial 123 finished with value: 0.18203723688646975 and parameters: {'alpha': 16.818822962433458, 'tol': 0.007364902998644561, 'fit_intercept': False, 'positive': False}. Best is trial 122 with value: 0.18204451526352838.\n",
      "[I 2025-06-06 13:07:58,328] Trial 124 finished with value: 0.18203440796372383 and parameters: {'alpha': 23.055482026580584, 'tol': 0.0073793608611211715, 'fit_intercept': False, 'positive': False}. Best is trial 122 with value: 0.18204451526352838.\n",
      "[I 2025-06-06 13:07:59,935] Trial 125 finished with value: 0.18203491851071477 and parameters: {'alpha': 21.940808668092142, 'tol': 0.006716627550747049, 'fit_intercept': False, 'positive': False}. Best is trial 122 with value: 0.18204451526352838.\n",
      "[I 2025-06-06 13:08:00,355] Trial 126 finished with value: 0.18204448149988553 and parameters: {'alpha': 0.11143567887487382, 'tol': 0.0060132152975949805, 'fit_intercept': False, 'positive': False}. Best is trial 122 with value: 0.18204451526352838.\n",
      "[I 2025-06-06 13:08:02,147] Trial 127 finished with value: 0.18204437329815612 and parameters: {'alpha': 0.36955866377231855, 'tol': 0.007679360812546758, 'fit_intercept': False, 'positive': False}. Best is trial 122 with value: 0.18204451526352838.\n",
      "[I 2025-06-06 13:08:02,212] Trial 128 finished with value: 0.18204420807355737 and parameters: {'alpha': 0.7631740609292729, 'tol': 0.008033845080709784, 'fit_intercept': False, 'positive': False}. Best is trial 122 with value: 0.18204451526352838.\n",
      "[I 2025-06-06 13:08:04,349] Trial 129 finished with value: 0.18204423183138096 and parameters: {'alpha': 0.7066157230221035, 'tol': 0.004937079354472594, 'fit_intercept': False, 'positive': False}. Best is trial 122 with value: 0.18204451526352838.\n",
      "[I 2025-06-06 13:08:04,377] Trial 130 finished with value: 0.18203871022610288 and parameters: {'alpha': 13.510334786500753, 'tol': 0.005062788236713985, 'fit_intercept': False, 'positive': False}. Best is trial 122 with value: 0.18204451526352838.\n",
      "[I 2025-06-06 13:08:05,975] Trial 131 finished with value: 0.18204430409642125 and parameters: {'alpha': 0.5344975425475207, 'tol': 0.007552914272503698, 'fit_intercept': False, 'positive': False}. Best is trial 122 with value: 0.18204451526352838.\n",
      "[I 2025-06-06 13:08:06,215] Trial 132 finished with value: 0.18200620710322551 and parameters: {'alpha': 78.76940134334541, 'tol': 0.0023461134077874183, 'fit_intercept': False, 'positive': False}. Best is trial 122 with value: 0.18204451526352838.\n",
      "[I 2025-06-06 13:08:08,259] Trial 134 finished with value: 0.18204288331215304 and parameters: {'alpha': 3.8959773221003653, 'tol': 0.0055603521267214425, 'fit_intercept': False, 'positive': False}. Best is trial 122 with value: 0.18204451526352838.\n",
      "[I 2025-06-06 13:08:09,259] Trial 133 finished with value: 0.17016026849647742 and parameters: {'alpha': 2.091630132909345, 'tol': 0.007993528838144009, 'fit_intercept': False, 'positive': True}. Best is trial 122 with value: 0.18204451526352838.\n",
      "[I 2025-06-06 13:08:09,866] Trial 135 finished with value: 0.18204228213950105 and parameters: {'alpha': 5.304333475422112, 'tol': 0.005013815622113665, 'fit_intercept': False, 'positive': False}. Best is trial 122 with value: 0.18204451526352838.\n",
      "[I 2025-06-06 13:08:09,918] Trial 136 finished with value: 0.18204433457448693 and parameters: {'alpha': 0.4618686877222009, 'tol': 0.005543297562549451, 'fit_intercept': False, 'positive': False}. Best is trial 122 with value: 0.18204451526352838.\n",
      "[I 2025-06-06 13:08:12,183] Trial 137 finished with value: 0.18204437757008618 and parameters: {'alpha': 0.3593729823839659, 'tol': 0.005655559504777172, 'fit_intercept': False, 'positive': False}. Best is trial 122 with value: 0.18204451526352838.\n",
      "[I 2025-06-06 13:08:13,911] Trial 140 finished with value: 0.18204285930751096 and parameters: {'alpha': 3.952369458796616, 'tol': 0.004584607411309593, 'fit_intercept': False, 'positive': False}. Best is trial 122 with value: 0.18204451526352838.\n",
      "[I 2025-06-06 13:08:13,945] Trial 139 finished with value: 0.1820439107116967 and parameters: {'alpha': 1.4699474151650662, 'tol': 0.004699121725677047, 'fit_intercept': False, 'positive': False}. Best is trial 122 with value: 0.18204451526352838.\n",
      "[I 2025-06-06 13:08:14,351] Trial 138 finished with value: 0.16746792978070013 and parameters: {'alpha': 4.5021074167053845, 'tol': 0.006758605492345507, 'fit_intercept': True, 'positive': True}. Best is trial 122 with value: 0.18204451526352838.\n",
      "[I 2025-06-06 13:08:15,769] Trial 141 finished with value: 0.18204413733257527 and parameters: {'alpha': 0.9315019739545513, 'tol': 0.005483987554440384, 'fit_intercept': False, 'positive': False}. Best is trial 122 with value: 0.18204451526352838.\n",
      "[I 2025-06-06 13:08:17,869] Trial 143 finished with value: 0.18204186332501687 and parameters: {'alpha': 6.280694467331615, 'tol': 0.004989052988789266, 'fit_intercept': False, 'positive': False}. Best is trial 122 with value: 0.18204451526352838.\n",
      "[I 2025-06-06 13:08:17,893] Trial 142 finished with value: 0.1820438609874677 and parameters: {'alpha': 1.5879287795187311, 'tol': 0.005795047441398235, 'fit_intercept': False, 'positive': False}. Best is trial 122 with value: 0.18204451526352838.\n",
      "[I 2025-06-06 13:08:18,531] Trial 144 finished with value: 0.18204392969724034 and parameters: {'alpha': 1.4248847957456277, 'tol': 0.005688074410232724, 'fit_intercept': False, 'positive': False}. Best is trial 122 with value: 0.18204451526352838.\n",
      "[I 2025-06-06 13:08:19,818] Trial 145 finished with value: 0.18204281107221207 and parameters: {'alpha': 4.065645009764218, 'tol': 0.005553756254146944, 'fit_intercept': False, 'positive': False}. Best is trial 122 with value: 0.18204451526352838.\n",
      "[I 2025-06-06 13:08:21,522] Trial 146 finished with value: 0.18204434080123247 and parameters: {'alpha': 0.44702770170752526, 'tol': 0.00612670111364311, 'fit_intercept': False, 'positive': False}. Best is trial 122 with value: 0.18204451526352838.\n",
      "[I 2025-06-06 13:08:22,613] Trial 148 finished with value: 0.1820426936935713 and parameters: {'alpha': 4.341075536245252, 'tol': 0.007244682249997269, 'fit_intercept': False, 'positive': False}. Best is trial 122 with value: 0.18204451526352838.\n",
      "[I 2025-06-06 13:08:22,857] Trial 147 finished with value: 0.1717374689166658 and parameters: {'alpha': 84.5883768374146, 'tol': 0.002249465864116253, 'fit_intercept': True, 'positive': True}. Best is trial 122 with value: 0.18204451526352838.\n",
      "[I 2025-06-06 13:08:24,749] Trial 149 finished with value: 0.17174346226250722 and parameters: {'alpha': 77.2879333606407, 'tol': 0.0005451071017488745, 'fit_intercept': True, 'positive': True}. Best is trial 122 with value: 0.18204451526352838.\n",
      "[I 2025-06-06 13:08:25,333] Trial 150 finished with value: 0.18203360318487524 and parameters: {'alpha': 24.803132496100652, 'tol': 0.0034912911848637204, 'fit_intercept': False, 'positive': False}. Best is trial 122 with value: 0.18204451526352838.\n",
      "[I 2025-06-06 13:08:26,553] Trial 152 finished with value: 0.18204428066626382 and parameters: {'alpha': 0.5903162522294036, 'tol': 0.006493081493713845, 'fit_intercept': False, 'positive': False}. Best is trial 122 with value: 0.18204451526352838.\n",
      "[I 2025-06-06 13:08:26,985] Trial 151 finished with value: 0.17709945581545614 and parameters: {'alpha': 10.411822294248866, 'tol': 0.003463789923078745, 'fit_intercept': True, 'positive': False}. Best is trial 122 with value: 0.18204451526352838.\n",
      "[I 2025-06-06 13:08:28,413] Trial 153 finished with value: 0.18204437380441404 and parameters: {'alpha': 0.36835160201886424, 'tol': 0.006907062223977599, 'fit_intercept': False, 'positive': False}. Best is trial 122 with value: 0.18204451526352838.\n",
      "[I 2025-06-06 13:08:29,978] Trial 154 finished with value: 0.17011127119894304 and parameters: {'alpha': 54.65321556000363, 'tol': 0.007564839065549457, 'fit_intercept': False, 'positive': True}. Best is trial 122 with value: 0.18204451526352838.\n",
      "[I 2025-06-06 13:08:30,585] Trial 155 finished with value: 0.17711035848674184 and parameters: {'alpha': 1.666500438391093, 'tol': 0.0069102202982270905, 'fit_intercept': True, 'positive': False}. Best is trial 122 with value: 0.18204451526352838.\n",
      "[I 2025-06-06 13:08:30,997] Trial 156 finished with value: 0.18204431078457214 and parameters: {'alpha': 0.5185616597178012, 'tol': 0.005824077718591798, 'fit_intercept': False, 'positive': False}. Best is trial 122 with value: 0.18204451526352838.\n",
      "[I 2025-06-06 13:08:32,330] Trial 157 finished with value: 0.17710736684280368 and parameters: {'alpha': 4.074777568161323, 'tol': 0.007108677304846759, 'fit_intercept': True, 'positive': False}. Best is trial 122 with value: 0.18204451526352838.\n",
      "[I 2025-06-06 13:08:34,074] Trial 158 finished with value: 0.1771078132745039 and parameters: {'alpha': 3.7158164464383545, 'tol': 0.007686189742982181, 'fit_intercept': True, 'positive': False}. Best is trial 122 with value: 0.18204451526352838.\n",
      "[I 2025-06-06 13:08:34,300] Trial 159 finished with value: 0.18203562955941066 and parameters: {'alpha': 20.380512852718887, 'tol': 0.006871799176038756, 'fit_intercept': False, 'positive': False}. Best is trial 122 with value: 0.18204451526352838.\n",
      "[I 2025-06-06 13:08:35,112] Trial 160 finished with value: 0.18204289013163844 and parameters: {'alpha': 3.8799544689753374, 'tol': 0.00657046378993498, 'fit_intercept': False, 'positive': False}. Best is trial 122 with value: 0.18204451526352838.\n",
      "[I 2025-06-06 13:08:35,804] Trial 161 finished with value: 0.182033798729378 and parameters: {'alpha': 24.379539163325394, 'tol': 0.006099496299230613, 'fit_intercept': False, 'positive': False}. Best is trial 122 with value: 0.18204451526352838.\n",
      "[I 2025-06-06 13:08:37,864] Trial 162 finished with value: 0.18204397573839598 and parameters: {'alpha': 1.3155697743615673, 'tol': 0.006241518870550437, 'fit_intercept': False, 'positive': False}. Best is trial 122 with value: 0.18204451526352838.\n",
      "[I 2025-06-06 13:08:39,323] Trial 163 finished with value: 0.17749496446846016 and parameters: {'alpha': 64.68466751618779, 'tol': 0.002938779881992945, 'fit_intercept': False, 'positive': True}. Best is trial 122 with value: 0.18204451526352838.\n",
      "[I 2025-06-06 13:08:39,378] Trial 164 finished with value: 0.1820436646666504 and parameters: {'alpha': 2.0531748030789037, 'tol': 0.006966201108395598, 'fit_intercept': False, 'positive': False}. Best is trial 122 with value: 0.18204451526352838.\n",
      "[I 2025-06-06 13:08:40,187] Trial 165 finished with value: 0.18204218107534317 and parameters: {'alpha': 5.5402965479158945, 'tol': 0.006325723991072274, 'fit_intercept': False, 'positive': False}. Best is trial 122 with value: 0.18204451526352838.\n",
      "[I 2025-06-06 13:08:42,033] Trial 166 finished with value: 0.1820439939529492 and parameters: {'alpha': 1.2723093475153924, 'tol': 0.0068896343952899106, 'fit_intercept': False, 'positive': False}. Best is trial 122 with value: 0.18204451526352838.\n",
      "[I 2025-06-06 13:08:43,234] Trial 167 finished with value: 0.1820420596455594 and parameters: {'alpha': 5.823507747892513, 'tol': 0.006723704820204787, 'fit_intercept': False, 'positive': False}. Best is trial 122 with value: 0.18204451526352838.\n",
      "[I 2025-06-06 13:08:43,672] Trial 168 finished with value: 0.18204425951600545 and parameters: {'alpha': 0.6406922182471797, 'tol': 0.006538442899880922, 'fit_intercept': False, 'positive': False}. Best is trial 122 with value: 0.18204451526352838.\n",
      "[I 2025-06-06 13:08:44,192] Trial 169 finished with value: 0.18204377438540234 and parameters: {'alpha': 1.7932719276373104, 'tol': 0.006128032829704862, 'fit_intercept': False, 'positive': False}. Best is trial 122 with value: 0.18204451526352838.\n",
      "[I 2025-06-06 13:08:46,317] Trial 170 finished with value: 0.18204428131154762 and parameters: {'alpha': 0.5887791391347658, 'tol': 0.005898054880177303, 'fit_intercept': False, 'positive': False}. Best is trial 122 with value: 0.18204451526352838.\n",
      "[I 2025-06-06 13:08:47,137] Trial 171 finished with value: 0.18204367803674104 and parameters: {'alpha': 2.021518670802047, 'tol': 0.006481559070760317, 'fit_intercept': False, 'positive': False}. Best is trial 122 with value: 0.18204451526352838.\n",
      "[I 2025-06-06 13:08:47,753] Trial 172 finished with value: 0.18204394364817972 and parameters: {'alpha': 1.3917665096167846, 'tol': 0.006491209695488224, 'fit_intercept': False, 'positive': False}. Best is trial 122 with value: 0.18204451526352838.\n",
      "[I 2025-06-06 13:08:48,201] Trial 173 finished with value: 0.1820442922139568 and parameters: {'alpha': 0.5628073038762975, 'tol': 0.0021194753496378647, 'fit_intercept': False, 'positive': False}. Best is trial 122 with value: 0.18204451526352838.\n",
      "[I 2025-06-06 13:08:50,260] Trial 174 finished with value: 0.18204407233219846 and parameters: {'alpha': 1.0860654560867742, 'tol': 0.006120782433834873, 'fit_intercept': False, 'positive': False}. Best is trial 122 with value: 0.18204451526352838.\n",
      "[I 2025-06-06 13:08:51,246] Trial 175 finished with value: 0.1820441500381643 and parameters: {'alpha': 0.9012778260904792, 'tol': 0.0030267165742613364, 'fit_intercept': False, 'positive': False}. Best is trial 122 with value: 0.18204451526352838.\n",
      "[I 2025-06-06 13:08:51,503] Trial 176 finished with value: 0.18204401603889658 and parameters: {'alpha': 1.2198436653756723, 'tol': 0.007293785844319203, 'fit_intercept': False, 'positive': False}. Best is trial 122 with value: 0.18204451526352838.\n",
      "[I 2025-06-06 13:08:52,077] Trial 177 finished with value: 0.18204373691961473 and parameters: {'alpha': 1.8820529518154843, 'tol': 0.0012818268670725002, 'fit_intercept': False, 'positive': False}. Best is trial 122 with value: 0.18204451526352838.\n",
      "[I 2025-06-06 13:08:53,990] Trial 178 finished with value: 0.18204408738240005 and parameters: {'alpha': 1.050286700658896, 'tol': 0.002593440555043445, 'fit_intercept': False, 'positive': False}. Best is trial 122 with value: 0.18204451526352838.\n",
      "[I 2025-06-06 13:08:55,111] Trial 179 finished with value: 0.18204219154332793 and parameters: {'alpha': 5.5158666429238385, 'tol': 0.0036434106867801247, 'fit_intercept': False, 'positive': False}. Best is trial 122 with value: 0.18204451526352838.\n",
      "[I 2025-06-06 13:08:55,717] Trial 180 finished with value: 0.18204258055011432 and parameters: {'alpha': 4.606272592200825, 'tol': 0.0020030443894027985, 'fit_intercept': False, 'positive': False}. Best is trial 122 with value: 0.18204451526352838.\n",
      "[I 2025-06-06 13:08:55,936] Trial 181 finished with value: 0.18204317709019296 and parameters: {'alpha': 3.2047614821092116, 'tol': 0.002383628444152409, 'fit_intercept': False, 'positive': False}. Best is trial 122 with value: 0.18204451526352838.\n",
      "[I 2025-06-06 13:08:57,878] Trial 182 finished with value: 0.18204396403153325 and parameters: {'alpha': 1.3433699934704184, 'tol': 0.0032745183776786177, 'fit_intercept': False, 'positive': False}. Best is trial 122 with value: 0.18204451526352838.\n",
      "[I 2025-06-06 13:08:58,840] Trial 183 finished with value: 0.1820436724358389 and parameters: {'alpha': 2.034780338180294, 'tol': 0.0020719021896600433, 'fit_intercept': False, 'positive': False}. Best is trial 122 with value: 0.18204451526352838.\n",
      "[I 2025-06-06 13:08:59,800] Trial 185 finished with value: 0.1820442177816227 and parameters: {'alpha': 0.7400644739533581, 'tol': 0.008123278036784209, 'fit_intercept': False, 'positive': False}. Best is trial 122 with value: 0.18204451526352838.\n",
      "[I 2025-06-06 13:08:59,874] Trial 184 finished with value: 0.18204413272241135 and parameters: {'alpha': 0.9424677182664507, 'tol': 0.0066703895676065075, 'fit_intercept': False, 'positive': False}. Best is trial 122 with value: 0.18204451526352838.\n",
      "[I 2025-06-06 13:09:01,924] Trial 186 finished with value: 0.1820441865662265 and parameters: {'alpha': 0.8143632560726911, 'tol': 0.006217404027443881, 'fit_intercept': False, 'positive': False}. Best is trial 122 with value: 0.18204451526352838.\n",
      "[I 2025-06-06 13:09:02,714] Trial 187 finished with value: 0.18204423393206284 and parameters: {'alpha': 0.7016141525960374, 'tol': 0.00697901554852487, 'fit_intercept': False, 'positive': False}. Best is trial 122 with value: 0.18204451526352838.\n",
      "[I 2025-06-06 13:09:03,344] Trial 188 finished with value: 0.1820347638044865 and parameters: {'alpha': 22.279072419575154, 'tol': 0.007380210021202122, 'fit_intercept': False, 'positive': False}. Best is trial 122 with value: 0.18204451526352838.\n",
      "[I 2025-06-06 13:09:03,940] Trial 189 finished with value: 0.18204443348805371 and parameters: {'alpha': 0.22600595603195056, 'tol': 0.00678494177274644, 'fit_intercept': False, 'positive': False}. Best is trial 122 with value: 0.18204451526352838.\n",
      "[I 2025-06-06 13:09:05,815] Trial 190 finished with value: 0.18203710467030515 and parameters: {'alpha': 17.113651557647415, 'tol': 0.007739460692523588, 'fit_intercept': False, 'positive': False}. Best is trial 122 with value: 0.18204451526352838.\n",
      "[I 2025-06-06 13:09:06,618] Trial 191 finished with value: 0.18203622038468198 and parameters: {'alpha': 19.0769472934707, 'tol': 0.008212022131880289, 'fit_intercept': False, 'positive': False}. Best is trial 122 with value: 0.18204451526352838.\n",
      "[I 2025-06-06 13:09:07,246] Trial 192 finished with value: 0.1820337070531977 and parameters: {'alpha': 24.57821372606217, 'tol': 0.004623230396866795, 'fit_intercept': False, 'positive': False}. Best is trial 122 with value: 0.18204451526352838.\n",
      "[I 2025-06-06 13:09:08,056] Trial 193 finished with value: 0.18203349814003253 and parameters: {'alpha': 25.030407330659017, 'tol': 0.0056084896013875955, 'fit_intercept': False, 'positive': False}. Best is trial 122 with value: 0.18204451526352838.\n",
      "[I 2025-06-06 13:09:09,589] Trial 194 finished with value: 0.18203524095443646 and parameters: {'alpha': 21.23439514450143, 'tol': 0.004681959980673886, 'fit_intercept': False, 'positive': False}. Best is trial 122 with value: 0.18204451526352838.\n",
      "[I 2025-06-06 13:09:10,383] Trial 195 finished with value: 0.18204347511487384 and parameters: {'alpha': 2.5015246631282966, 'tol': 0.007449038627976687, 'fit_intercept': False, 'positive': False}. Best is trial 122 with value: 0.18204451526352838.\n",
      "[I 2025-06-06 13:09:11,164] Trial 196 finished with value: 0.18204448821995498 and parameters: {'alpha': 0.09539521668376165, 'tol': 0.00707015653666817, 'fit_intercept': False, 'positive': False}. Best is trial 122 with value: 0.18204451526352838.\n",
      "[I 2025-06-06 13:09:12,155] Trial 197 finished with value: 0.18204198314853368 and parameters: {'alpha': 6.001753794348698, 'tol': 0.00509778714820458, 'fit_intercept': False, 'positive': False}. Best is trial 122 with value: 0.18204451526352838.\n",
      "[I 2025-06-06 13:09:13,519] Trial 198 finished with value: 0.18204447162110052 and parameters: {'alpha': 0.13501386648125074, 'tol': 0.005479716953043911, 'fit_intercept': False, 'positive': False}. Best is trial 122 with value: 0.18204451526352838.\n",
      "[I 2025-06-06 13:09:14,127] Trial 199 finished with value: 0.18204375411658205 and parameters: {'alpha': 1.8413061417108703, 'tol': 0.005549462632734946, 'fit_intercept': False, 'positive': False}. Best is trial 122 with value: 0.18204451526352838.\n",
      "[I 2025-06-06 13:09:14,735] Trial 200 finished with value: 0.1820444084698728 and parameters: {'alpha': 0.2856847652843427, 'tol': 0.005317439472652916, 'fit_intercept': False, 'positive': False}. Best is trial 122 with value: 0.18204451526352838.\n",
      "[I 2025-06-06 13:09:16,209] Trial 201 finished with value: 0.17699447628229056 and parameters: {'alpha': 90.7033856065755, 'tol': 0.008112263210217525, 'fit_intercept': True, 'positive': False}. Best is trial 122 with value: 0.18204451526352838.\n",
      "[I 2025-06-06 13:09:17,507] Trial 202 finished with value: 0.18204451729055726 and parameters: {'alpha': 0.02599268799880594, 'tol': 0.007563824280731766, 'fit_intercept': False, 'positive': False}. Best is trial 202 with value: 0.18204451729055726.\n",
      "[I 2025-06-06 13:09:18,114] Trial 203 finished with value: 0.1820442337799016 and parameters: {'alpha': 0.7019764410229145, 'tol': 0.007302592053702479, 'fit_intercept': False, 'positive': False}. Best is trial 202 with value: 0.18204451729055726.\n",
      "[I 2025-06-06 13:09:19,928] Trial 204 finished with value: 0.1703347135656483 and parameters: {'alpha': 0.5919782056298347, 'tol': 0.005561029322125515, 'fit_intercept': False, 'positive': True}. Best is trial 202 with value: 0.18204451729055726.\n",
      "[I 2025-06-06 13:09:20,545] Trial 205 finished with value: 0.18204397989554277 and parameters: {'alpha': 1.3056970435137036, 'tol': 0.0046842735157930655, 'fit_intercept': False, 'positive': False}. Best is trial 202 with value: 0.18204451729055726.\n",
      "[I 2025-06-06 13:09:21,671] Trial 206 finished with value: 0.1820433280785696 and parameters: {'alpha': 2.848736933801641, 'tol': 0.007957988477012838, 'fit_intercept': False, 'positive': False}. Best is trial 202 with value: 0.18204451729055726.\n",
      "[I 2025-06-06 13:09:21,732] Trial 207 finished with value: 0.18204400917812613 and parameters: {'alpha': 1.2361428191765422, 'tol': 0.008511022261499687, 'fit_intercept': False, 'positive': False}. Best is trial 202 with value: 0.18204451729055726.\n",
      "[I 2025-06-06 13:09:23,840] Trial 208 finished with value: 0.18204275325573444 and parameters: {'alpha': 4.201351229553786, 'tol': 0.007838785904744277, 'fit_intercept': False, 'positive': False}. Best is trial 202 with value: 0.18204451729055726.\n",
      "[I 2025-06-06 13:09:24,831] Trial 209 finished with value: 0.1820420201417507 and parameters: {'alpha': 5.91557195793537, 'tol': 0.008126870349640809, 'fit_intercept': False, 'positive': False}. Best is trial 202 with value: 0.18204451729055726.\n",
      "[I 2025-06-06 13:09:25,405] Trial 210 finished with value: 0.1820427460045329 and parameters: {'alpha': 4.218365813113741, 'tol': 0.008256883311453076, 'fit_intercept': False, 'positive': False}. Best is trial 202 with value: 0.18204451729055726.\n",
      "[I 2025-06-06 13:09:25,457] Trial 211 finished with value: 0.182044199312839 and parameters: {'alpha': 0.7840266097722193, 'tol': 0.005650987874744015, 'fit_intercept': False, 'positive': False}. Best is trial 202 with value: 0.18204451729055726.\n",
      "[I 2025-06-06 13:09:27,626] Trial 212 finished with value: 0.1820440721601438 and parameters: {'alpha': 1.0864744497535208, 'tol': 0.0059515075347025045, 'fit_intercept': False, 'positive': False}. Best is trial 202 with value: 0.18204451729055726.\n",
      "[I 2025-06-06 13:09:29,007] Trial 213 finished with value: 0.18204444616487203 and parameters: {'alpha': 0.19576072749739032, 'tol': 0.0066195627713993175, 'fit_intercept': False, 'positive': False}. Best is trial 202 with value: 0.18204451729055726.\n",
      "[I 2025-06-06 13:09:29,239] Trial 214 finished with value: 0.18204452393806067 and parameters: {'alpha': 0.010119730848218489, 'tol': 0.006052599119621173, 'fit_intercept': False, 'positive': False}. Best is trial 214 with value: 0.18204452393806067.\n",
      "[I 2025-06-06 13:09:29,443] Trial 215 finished with value: 0.182044449192004 and parameters: {'alpha': 0.18853781788584642, 'tol': 0.006087898783278936, 'fit_intercept': False, 'positive': False}. Best is trial 214 with value: 0.18204452393806067.\n",
      "[I 2025-06-06 13:09:31,779] Trial 216 finished with value: 0.1820439027595428 and parameters: {'alpha': 1.4888195103837991, 'tol': 0.007680228585622187, 'fit_intercept': False, 'positive': False}. Best is trial 214 with value: 0.18204452393806067.\n",
      "[I 2025-06-06 13:09:33,341] Trial 217 finished with value: 0.18204418167603856 and parameters: {'alpha': 0.8260007662386772, 'tol': 0.0047775636024450716, 'fit_intercept': False, 'positive': False}. Best is trial 214 with value: 0.18204452393806067.\n",
      "[I 2025-06-06 13:09:33,365] Trial 218 finished with value: 0.18204393789863085 and parameters: {'alpha': 1.405415981777058, 'tol': 0.006113637410901611, 'fit_intercept': False, 'positive': False}. Best is trial 214 with value: 0.18204452393806067.\n",
      "[I 2025-06-06 13:09:33,400] Trial 219 finished with value: 0.18203552429639938 and parameters: {'alpha': 20.61208113334696, 'tol': 0.005752540759881787, 'fit_intercept': False, 'positive': False}. Best is trial 214 with value: 0.18204452393806067.\n",
      "[I 2025-06-06 13:09:35,281] Trial 220 finished with value: 0.18204416418607894 and parameters: {'alpha': 0.8676181544396203, 'tol': 0.004878267662802719, 'fit_intercept': False, 'positive': False}. Best is trial 214 with value: 0.18204452393806067.\n",
      "[I 2025-06-06 13:09:37,122] Trial 222 finished with value: 0.18203561608909846 and parameters: {'alpha': 20.410157601642858, 'tol': 0.006817589618801196, 'fit_intercept': False, 'positive': False}. Best is trial 214 with value: 0.18204452393806067.\n",
      "[I 2025-06-06 13:09:37,169] Trial 221 finished with value: 0.18203779443275458 and parameters: {'alpha': 15.571830055875633, 'tol': 0.005641505599929523, 'fit_intercept': False, 'positive': False}. Best is trial 214 with value: 0.18204452393806067.\n",
      "[I 2025-06-06 13:09:37,857] Trial 223 finished with value: 0.17014993959191713 and parameters: {'alpha': 13.327821900301887, 'tol': 0.007405979090611587, 'fit_intercept': False, 'positive': True}. Best is trial 214 with value: 0.18204452393806067.\n",
      "[I 2025-06-06 13:09:40,303] Trial 224 finished with value: 0.1717991644923966 and parameters: {'alpha': 6.520788727850956, 'tol': 0.001663188954180469, 'fit_intercept': True, 'positive': True}. Best is trial 214 with value: 0.18204452393806067.\n",
      "[I 2025-06-06 13:09:40,930] Trial 225 finished with value: 0.18204431259598053 and parameters: {'alpha': 0.5142454268611532, 'tol': 0.00623524412811194, 'fit_intercept': False, 'positive': False}. Best is trial 214 with value: 0.18204452393806067.\n",
      "[I 2025-06-06 13:09:41,524] Trial 226 finished with value: 0.18204407680758405 and parameters: {'alpha': 1.0754267089935312, 'tol': 0.0054534122904434995, 'fit_intercept': False, 'positive': False}. Best is trial 214 with value: 0.18204452393806067.\n",
      "[I 2025-06-06 13:09:41,769] Trial 227 finished with value: 0.18204425786800696 and parameters: {'alpha': 0.6446169953113238, 'tol': 0.0054462602912215335, 'fit_intercept': False, 'positive': False}. Best is trial 214 with value: 0.18204452393806067.\n",
      "[I 2025-06-06 13:09:44,965] Trial 229 finished with value: 0.18204382557692617 and parameters: {'alpha': 1.6719124067011433, 'tol': 0.00602255320579125, 'fit_intercept': False, 'positive': False}. Best is trial 214 with value: 0.18204452393806067.\n",
      "[I 2025-06-06 13:09:44,996] Trial 228 finished with value: 0.16744953080958952 and parameters: {'alpha': 65.13371397664494, 'tol': 0.0065171024745831994, 'fit_intercept': True, 'positive': True}. Best is trial 214 with value: 0.18204452393806067.\n",
      "[I 2025-06-06 13:09:45,637] Trial 230 finished with value: 0.1820442984925764 and parameters: {'alpha': 0.5478490235225518, 'tol': 0.0073850634302380655, 'fit_intercept': False, 'positive': False}. Best is trial 214 with value: 0.18204452393806067.\n",
      "[I 2025-06-06 13:09:45,648] Trial 231 finished with value: 0.18204418370392297 and parameters: {'alpha': 0.8211749417279601, 'tol': 0.007952931524937243, 'fit_intercept': False, 'positive': False}. Best is trial 214 with value: 0.18204452393806067.\n",
      "[I 2025-06-06 13:09:49,110] Trial 233 finished with value: 0.1820362891053961 and parameters: {'alpha': 18.924902935676638, 'tol': 0.007138714120711038, 'fit_intercept': False, 'positive': False}. Best is trial 214 with value: 0.18204452393806067.\n",
      "[I 2025-06-06 13:09:49,129] Trial 232 finished with value: 0.182044479135095 and parameters: {'alpha': 0.11708005511143058, 'tol': 0.007113702344356823, 'fit_intercept': False, 'positive': False}. Best is trial 214 with value: 0.18204452393806067.\n",
      "[I 2025-06-06 13:09:49,944] Trial 235 finished with value: 0.1820442157806405 and parameters: {'alpha': 0.7448278999537328, 'tol': 0.0061753796162190445, 'fit_intercept': False, 'positive': False}. Best is trial 214 with value: 0.18204452393806067.\n",
      "[I 2025-06-06 13:09:49,977] Trial 234 finished with value: 0.18204384123005898 and parameters: {'alpha': 1.6347913089642065, 'tol': 0.006252719861926736, 'fit_intercept': False, 'positive': False}. Best is trial 214 with value: 0.18204452393806067.\n",
      "[I 2025-06-06 13:09:52,884] Trial 237 finished with value: 0.1820440820712882 and parameters: {'alpha': 1.0629133881037198, 'tol': 0.006394157449015434, 'fit_intercept': False, 'positive': False}. Best is trial 214 with value: 0.18204452393806067.\n",
      "[I 2025-06-06 13:09:52,891] Trial 236 finished with value: 0.18204443273424678 and parameters: {'alpha': 0.22780431949069235, 'tol': 0.00661641523099006, 'fit_intercept': False, 'positive': False}. Best is trial 214 with value: 0.18204452393806067.\n",
      "[I 2025-06-06 13:09:53,902] Trial 238 finished with value: 0.1820436091659789 and parameters: {'alpha': 2.1845381393539367, 'tol': 0.007555455961672118, 'fit_intercept': False, 'positive': False}. Best is trial 214 with value: 0.18204452393806067.\n",
      "[I 2025-06-06 13:09:53,953] Trial 239 finished with value: 0.1820443300200264 and parameters: {'alpha': 0.47272331996864153, 'tol': 0.007542816963687575, 'fit_intercept': False, 'positive': False}. Best is trial 214 with value: 0.18204452393806067.\n",
      "[I 2025-06-06 13:09:56,808] Trial 240 finished with value: 0.1820396431670454 and parameters: {'alpha': 11.392898360238632, 'tol': 0.0077550162829720225, 'fit_intercept': False, 'positive': False}. Best is trial 214 with value: 0.18204452393806067.\n",
      "[I 2025-06-06 13:09:56,818] Trial 241 finished with value: 0.1820439398214339 and parameters: {'alpha': 1.400851319343404, 'tol': 0.007810377931072627, 'fit_intercept': False, 'positive': False}. Best is trial 214 with value: 0.18204452393806067.\n",
      "[I 2025-06-06 13:09:57,678] Trial 242 finished with value: 0.18204392474204084 and parameters: {'alpha': 1.4366468935840966, 'tol': 0.007863219374876466, 'fit_intercept': False, 'positive': False}. Best is trial 214 with value: 0.18204452393806067.\n",
      "[I 2025-06-06 13:09:58,125] Trial 243 finished with value: 0.18203746730337939 and parameters: {'alpha': 16.30421063040128, 'tol': 0.0074399290965224815, 'fit_intercept': False, 'positive': False}. Best is trial 214 with value: 0.18204452393806067.\n",
      "[I 2025-06-06 13:10:00,595] Trial 245 finished with value: 0.1820443081800003 and parameters: {'alpha': 0.5247677101659391, 'tol': 0.007195748032156336, 'fit_intercept': False, 'positive': False}. Best is trial 214 with value: 0.18204452393806067.\n",
      "[I 2025-06-06 13:10:00,613] Trial 244 finished with value: 0.1820439550116258 and parameters: {'alpha': 1.3647873104181063, 'tol': 0.007145739107927857, 'fit_intercept': False, 'positive': False}. Best is trial 214 with value: 0.18204452393806067.\n",
      "[I 2025-06-06 13:10:01,426] Trial 246 finished with value: 0.18204415853916475 and parameters: {'alpha': 0.881053444765822, 'tol': 0.007015389358239013, 'fit_intercept': False, 'positive': False}. Best is trial 214 with value: 0.18204452393806067.\n",
      "[I 2025-06-06 13:10:02,390] Trial 247 finished with value: 0.18204415575962268 and parameters: {'alpha': 0.8876663278749515, 'tol': 0.007617711982891736, 'fit_intercept': False, 'positive': False}. Best is trial 214 with value: 0.18204452393806067.\n",
      "[I 2025-06-06 13:10:04,310] Trial 249 finished with value: 0.18203767267770035 and parameters: {'alpha': 15.844660304298532, 'tol': 0.006340924283345118, 'fit_intercept': False, 'positive': False}. Best is trial 214 with value: 0.18204452393806067.\n",
      "[I 2025-06-06 13:10:04,548] Trial 248 finished with value: 0.17711054881615337 and parameters: {'alpha': 1.513062066540094, 'tol': 0.004507041212940939, 'fit_intercept': True, 'positive': False}. Best is trial 214 with value: 0.18204452393806067.\n",
      "[I 2025-06-06 13:10:05,132] Trial 250 finished with value: 0.18204450031730046 and parameters: {'alpha': 0.06651674007902411, 'tol': 0.006384905843516833, 'fit_intercept': False, 'positive': False}. Best is trial 214 with value: 0.18204452393806067.\n",
      "[I 2025-06-06 13:10:06,685] Trial 251 finished with value: 0.18204427718538882 and parameters: {'alpha': 0.5986077793169129, 'tol': 0.007114005654878739, 'fit_intercept': False, 'positive': False}. Best is trial 214 with value: 0.18204452393806067.\n",
      "[I 2025-06-06 13:10:08,240] Trial 252 finished with value: 0.1820443620492977 and parameters: {'alpha': 0.3963775423098016, 'tol': 0.0052662779587470615, 'fit_intercept': False, 'positive': False}. Best is trial 214 with value: 0.18204452393806067.\n",
      "[I 2025-06-06 13:10:08,483] Trial 253 finished with value: 0.1820108250547843 and parameters: {'alpha': 70.3051152492428, 'tol': 0.009314809646211612, 'fit_intercept': False, 'positive': False}. Best is trial 214 with value: 0.18204452393806067.\n",
      "[I 2025-06-06 13:10:09,071] Trial 254 finished with value: 0.18204443300022563 and parameters: {'alpha': 0.22716977312109754, 'tol': 0.006820066119975236, 'fit_intercept': False, 'positive': False}. Best is trial 214 with value: 0.18204452393806067.\n",
      "[I 2025-06-06 13:10:10,827] Trial 255 finished with value: 0.18203606666002706 and parameters: {'alpha': 19.41674247117751, 'tol': 0.00598686802823492, 'fit_intercept': False, 'positive': False}. Best is trial 214 with value: 0.18204452393806067.\n",
      "[I 2025-06-06 13:10:11,998] Trial 256 finished with value: 0.1820441200344431 and parameters: {'alpha': 0.9726447396445503, 'tol': 0.005524322394784947, 'fit_intercept': False, 'positive': False}. Best is trial 214 with value: 0.18204452393806067.\n",
      "[I 2025-06-06 13:10:12,586] Trial 257 finished with value: 0.1820363148099912 and parameters: {'alpha': 18.86800882782505, 'tol': 0.005330168058084347, 'fit_intercept': False, 'positive': False}. Best is trial 214 with value: 0.18204452393806067.\n",
      "[I 2025-06-06 13:10:12,810] Trial 258 finished with value: 0.18203493156840464 and parameters: {'alpha': 21.912238366182827, 'tol': 0.005515737848728855, 'fit_intercept': False, 'positive': False}. Best is trial 214 with value: 0.18204452393806067.\n",
      "[I 2025-06-06 13:10:15,115] Trial 259 finished with value: 0.18204443729198524 and parameters: {'alpha': 0.21693067800676713, 'tol': 0.0063341075475633595, 'fit_intercept': False, 'positive': False}. Best is trial 214 with value: 0.18204452393806067.\n",
      "[I 2025-06-06 13:10:15,727] Trial 260 finished with value: 0.18204389360643178 and parameters: {'alpha': 1.5105398799524745, 'tol': 0.006003503739179664, 'fit_intercept': False, 'positive': False}. Best is trial 214 with value: 0.18204452393806067.\n",
      "[I 2025-06-06 13:10:16,152] Trial 261 finished with value: 0.18203645490047005 and parameters: {'alpha': 18.557716572090058, 'tol': 0.0068262103090617815, 'fit_intercept': False, 'positive': False}. Best is trial 214 with value: 0.18204452393806067.\n",
      "[I 2025-06-06 13:10:16,391] Trial 262 finished with value: 0.182044519668251 and parameters: {'alpha': 0.020315335623475234, 'tol': 0.005586690779185969, 'fit_intercept': False, 'positive': False}. Best is trial 214 with value: 0.18204452393806067.\n",
      "[I 2025-06-06 13:10:19,298] Trial 263 finished with value: 0.18204382912741837 and parameters: {'alpha': 1.6634929887823384, 'tol': 0.006284810620218008, 'fit_intercept': False, 'positive': False}. Best is trial 214 with value: 0.18204452393806067.\n",
      "[I 2025-06-06 13:10:19,924] Trial 264 finished with value: 0.18204424228194996 and parameters: {'alpha': 0.6817326410676656, 'tol': 0.005954177561299196, 'fit_intercept': False, 'positive': False}. Best is trial 214 with value: 0.18204452393806067.\n",
      "[I 2025-06-06 13:10:20,317] Trial 265 finished with value: 0.1820444501341498 and parameters: {'alpha': 0.18628975908008055, 'tol': 0.008037169573504371, 'fit_intercept': False, 'positive': False}. Best is trial 214 with value: 0.18204452393806067.\n",
      "[I 2025-06-06 13:10:20,396] Trial 266 finished with value: 0.18204376129215014 and parameters: {'alpha': 1.8243021694965456, 'tol': 0.008476765418323278, 'fit_intercept': False, 'positive': False}. Best is trial 214 with value: 0.18204452393806067.\n",
      "[I 2025-06-06 13:10:23,671] Trial 267 finished with value: 0.18204369137500864 and parameters: {'alpha': 1.9899337209156103, 'tol': 0.007634745485914769, 'fit_intercept': False, 'positive': False}. Best is trial 214 with value: 0.18204452393806067.\n",
      "[I 2025-06-06 13:10:23,901] Trial 268 finished with value: 0.18204451954635265 and parameters: {'alpha': 0.020606402405969823, 'tol': 0.007236818941559242, 'fit_intercept': False, 'positive': False}. Best is trial 214 with value: 0.18204452393806067.\n",
      "[I 2025-06-06 13:10:24,115] Trial 269 finished with value: 0.18203516082423654 and parameters: {'alpha': 21.4101217987902, 'tol': 0.008439154559086079, 'fit_intercept': False, 'positive': False}. Best is trial 214 with value: 0.18204452393806067.\n",
      "[I 2025-06-06 13:10:24,174] Trial 270 finished with value: 0.18204441965290832 and parameters: {'alpha': 0.25901040798193076, 'tol': 0.00655160608833185, 'fit_intercept': False, 'positive': False}. Best is trial 214 with value: 0.18204452393806067.\n",
      "[I 2025-06-06 13:10:27,811] Trial 271 finished with value: 0.18203438914480738 and parameters: {'alpha': 23.09647997887099, 'tol': 0.008681788340021998, 'fit_intercept': False, 'positive': False}. Best is trial 214 with value: 0.18204452393806067.\n",
      "[I 2025-06-06 13:10:27,818] Trial 272 finished with value: 0.18203430932309725 and parameters: {'alpha': 23.270305421204785, 'tol': 0.008675551296096916, 'fit_intercept': False, 'positive': False}. Best is trial 214 with value: 0.18204452393806067.\n",
      "[I 2025-06-06 13:10:27,896] Trial 273 finished with value: 0.1820443322534526 and parameters: {'alpha': 0.4674004638101676, 'tol': 0.008363968601008664, 'fit_intercept': False, 'positive': False}. Best is trial 214 with value: 0.18204452393806067.\n",
      "[I 2025-06-06 13:10:28,125] Trial 274 finished with value: 0.18203746773551246 and parameters: {'alpha': 16.303244540243423, 'tol': 0.007701340745596882, 'fit_intercept': False, 'positive': False}. Best is trial 214 with value: 0.18204452393806067.\n",
      "[I 2025-06-06 13:10:31,770] Trial 276 finished with value: 0.182038419312343 and parameters: {'alpha': 14.167002005285285, 'tol': 0.007229146987472147, 'fit_intercept': False, 'positive': False}. Best is trial 214 with value: 0.18204452393806067.\n",
      "[I 2025-06-06 13:10:32,009] Trial 277 finished with value: 0.18203760017179207 and parameters: {'alpha': 16.00699495360956, 'tol': 0.006895504028933915, 'fit_intercept': False, 'positive': False}. Best is trial 214 with value: 0.18204452393806067.\n",
      "[I 2025-06-06 13:10:32,010] Trial 275 finished with value: 0.18204432326889983 and parameters: {'alpha': 0.48881234914859895, 'tol': 0.006528727764578898, 'fit_intercept': False, 'positive': False}. Best is trial 214 with value: 0.18204452393806067.\n",
      "[I 2025-06-06 13:10:32,059] Trial 278 finished with value: 0.18204425516796244 and parameters: {'alpha': 0.6510471239685911, 'tol': 0.00853944450090472, 'fit_intercept': False, 'positive': False}. Best is trial 214 with value: 0.18204452393806067.\n",
      "[I 2025-06-06 13:10:35,371] Trial 279 finished with value: 0.18204339863159946 and parameters: {'alpha': 2.682195176976895, 'tol': 0.007238710323221407, 'fit_intercept': False, 'positive': False}. Best is trial 214 with value: 0.18204452393806067.\n",
      "[I 2025-06-06 13:10:35,943] Trial 280 finished with value: 0.18204319131376703 and parameters: {'alpha': 3.171245283214749, 'tol': 0.00688422756013031, 'fit_intercept': False, 'positive': False}. Best is trial 214 with value: 0.18204452393806067.\n",
      "[I 2025-06-06 13:10:35,975] Trial 281 finished with value: 0.1820443373326533 and parameters: {'alpha': 0.45529491713551007, 'tol': 0.00798799054133138, 'fit_intercept': False, 'positive': False}. Best is trial 214 with value: 0.18204452393806067.\n",
      "[I 2025-06-06 13:10:35,976] Trial 282 finished with value: 0.18204452304547286 and parameters: {'alpha': 0.01225112040627771, 'tol': 0.008899589200075452, 'fit_intercept': False, 'positive': False}. Best is trial 214 with value: 0.18204452393806067.\n",
      "[I 2025-06-06 13:10:39,342] Trial 283 finished with value: 0.18204429172465358 and parameters: {'alpha': 0.5639729880607828, 'tol': 0.007279653247466754, 'fit_intercept': False, 'positive': False}. Best is trial 214 with value: 0.18204452393806067.\n",
      "[I 2025-06-06 13:10:39,926] Trial 286 finished with value: 0.18204438461738953 and parameters: {'alpha': 0.3425689473575006, 'tol': 0.0097536445179915, 'fit_intercept': False, 'positive': False}. Best is trial 214 with value: 0.18204452393806067.\n",
      "[I 2025-06-06 13:10:39,974] Trial 284 finished with value: 0.17709400289954838 and parameters: {'alpha': 14.75384181420168, 'tol': 0.006363125655837807, 'fit_intercept': True, 'positive': False}. Best is trial 214 with value: 0.18204452393806067.\n",
      "[I 2025-06-06 13:10:40,000] Trial 285 finished with value: 0.18204409032174856 and parameters: {'alpha': 1.0432983788696164, 'tol': 0.009641527902377593, 'fit_intercept': False, 'positive': False}. Best is trial 214 with value: 0.18204452393806067.\n",
      "[I 2025-06-06 13:10:43,055] Trial 287 finished with value: 0.18204251783750341 and parameters: {'alpha': 4.753140150715588, 'tol': 0.009807435520850633, 'fit_intercept': False, 'positive': False}. Best is trial 214 with value: 0.18204452393806067.\n",
      "[I 2025-06-06 13:10:43,690] Trial 289 finished with value: 0.18204344933553873 and parameters: {'alpha': 2.562436354312647, 'tol': 0.007365135747850394, 'fit_intercept': False, 'positive': False}. Best is trial 214 with value: 0.18204452393806067.\n",
      "[I 2025-06-06 13:10:44,133] Trial 288 finished with value: 0.17016038728622052 and parameters: {'alpha': 1.961894674744885, 'tol': 0.008066264438795658, 'fit_intercept': False, 'positive': True}. Best is trial 214 with value: 0.18204452393806067.\n",
      "[I 2025-06-06 13:10:44,792] Trial 290 finished with value: 0.17015224053920863 and parameters: {'alpha': 10.83230010704369, 'tol': 0.008001474991773975, 'fit_intercept': False, 'positive': True}. Best is trial 214 with value: 0.18204452393806067.\n",
      "[I 2025-06-06 13:10:46,906] Trial 291 finished with value: 0.1820443529986937 and parameters: {'alpha': 0.41795327423569895, 'tol': 0.008971681933324241, 'fit_intercept': False, 'positive': False}. Best is trial 214 with value: 0.18204452393806067.\n",
      "[I 2025-06-06 13:10:48,290] Trial 293 finished with value: 0.18204438004014645 and parameters: {'alpha': 0.35348334985645125, 'tol': 0.008379706462227205, 'fit_intercept': False, 'positive': False}. Best is trial 214 with value: 0.18204452393806067.\n",
      "[I 2025-06-06 13:10:48,359] Trial 292 finished with value: 0.17015338453399947 and parameters: {'alpha': 9.589969747915852, 'tol': 0.006835516681993043, 'fit_intercept': False, 'positive': True}. Best is trial 214 with value: 0.18204452393806067.\n",
      "[I 2025-06-06 13:10:48,939] Trial 294 finished with value: 0.18203755866905222 and parameters: {'alpha': 16.099870021010865, 'tol': 0.006937670646396045, 'fit_intercept': False, 'positive': False}. Best is trial 214 with value: 0.18204452393806067.\n",
      "[I 2025-06-06 13:10:51,126] Trial 295 finished with value: 0.18204450516695092 and parameters: {'alpha': 0.054938791057780656, 'tol': 0.007206910926160652, 'fit_intercept': False, 'positive': False}. Best is trial 214 with value: 0.18204452393806067.\n",
      "[I 2025-06-06 13:10:52,348] Trial 296 finished with value: 0.182039089889581 and parameters: {'alpha': 12.650775330499393, 'tol': 0.006562534912705272, 'fit_intercept': False, 'positive': False}. Best is trial 214 with value: 0.18204452393806067.\n",
      "[I 2025-06-06 13:10:52,413] Trial 297 finished with value: 0.18203736690754094 and parameters: {'alpha': 16.528560587179168, 'tol': 0.007077322327985477, 'fit_intercept': False, 'positive': False}. Best is trial 214 with value: 0.18204452393806067.\n",
      "[I 2025-06-06 13:10:53,052] Trial 298 finished with value: 0.18204426341494392 and parameters: {'alpha': 0.6314064763440795, 'tol': 0.007047687479106006, 'fit_intercept': False, 'positive': False}. Best is trial 214 with value: 0.18204452393806067.\n",
      "[I 2025-06-06 13:10:55,142] Trial 299 finished with value: 0.18204430650551046 and parameters: {'alpha': 0.5287575192785379, 'tol': 0.006522394813855185, 'fit_intercept': False, 'positive': False}. Best is trial 214 with value: 0.18204452393806067.\n",
      "[I 2025-06-06 13:10:55,838] Trial 300 finished with value: 0.18204336559959755 and parameters: {'alpha': 2.7601821838747362, 'tol': 0.007374925758398495, 'fit_intercept': False, 'positive': False}. Best is trial 214 with value: 0.18204452393806067.\n",
      "[I 2025-06-06 13:10:56,241] Trial 301 finished with value: 0.18204446678275432 and parameters: {'alpha': 0.1465609340656669, 'tol': 0.007572565052828553, 'fit_intercept': False, 'positive': False}. Best is trial 214 with value: 0.18204452393806067.\n",
      "[I 2025-06-06 13:10:57,504] Trial 302 finished with value: 0.1820436392611806 and parameters: {'alpha': 2.113315385288298, 'tol': 0.007536645875227512, 'fit_intercept': False, 'positive': False}. Best is trial 214 with value: 0.18204452393806067.\n",
      "[I 2025-06-06 13:10:59,712] Trial 303 finished with value: 0.1554831462884372 and parameters: {'alpha': 68.23479766191673, 'tol': 0.009781155028787045, 'fit_intercept': False, 'positive': True}. Best is trial 214 with value: 0.18204452393806067.\n",
      "[I 2025-06-06 13:10:59,771] Trial 304 finished with value: 0.18204384988685618 and parameters: {'alpha': 1.6142594110660287, 'tol': 0.006670236794791733, 'fit_intercept': False, 'positive': False}. Best is trial 214 with value: 0.18204452393806067.\n",
      "[I 2025-06-06 13:11:00,178] Trial 305 finished with value: 0.1820442468864731 and parameters: {'alpha': 0.6707683243360599, 'tol': 0.007135502093590148, 'fit_intercept': False, 'positive': False}. Best is trial 214 with value: 0.18204452393806067.\n",
      "[I 2025-06-06 13:11:01,947] Trial 306 finished with value: 0.1820444024812471 and parameters: {'alpha': 0.29996791559154246, 'tol': 0.006350942140963059, 'fit_intercept': False, 'positive': False}. Best is trial 214 with value: 0.18204452393806067.\n",
      "[I 2025-06-06 13:11:03,567] Trial 307 finished with value: 0.18203931749199465 and parameters: {'alpha': 12.134080048925396, 'tol': 0.005458350914208989, 'fit_intercept': False, 'positive': False}. Best is trial 214 with value: 0.18204452393806067.\n",
      "[I 2025-06-06 13:11:03,821] Trial 309 finished with value: 0.18203865669349695 and parameters: {'alpha': 13.631298962898212, 'tol': 0.005874554003211623, 'fit_intercept': False, 'positive': False}. Best is trial 214 with value: 0.18204452393806067.\n",
      "[I 2025-06-06 13:11:04,439] Trial 308 finished with value: 0.15196038843147053 and parameters: {'alpha': 28.326622193811573, 'tol': 0.009841570349764362, 'fit_intercept': True, 'positive': True}. Best is trial 214 with value: 0.18204452393806067.\n",
      "[I 2025-06-06 13:11:05,830] Trial 310 finished with value: 0.18204413540601785 and parameters: {'alpha': 0.9360845481156838, 'tol': 0.006146024957910658, 'fit_intercept': False, 'positive': False}. Best is trial 214 with value: 0.18204452393806067.\n",
      "[I 2025-06-06 13:11:07,274] Trial 311 finished with value: 0.1820438259381351 and parameters: {'alpha': 1.671055871622925, 'tol': 0.005920078395435633, 'fit_intercept': False, 'positive': False}. Best is trial 214 with value: 0.18204452393806067.\n",
      "[I 2025-06-06 13:11:07,864] Trial 312 finished with value: 0.182044244112814 and parameters: {'alpha': 0.6773730376944973, 'tol': 0.005125554485416974, 'fit_intercept': False, 'positive': False}. Best is trial 214 with value: 0.18204452393806067.\n",
      "[I 2025-06-06 13:11:08,501] Trial 313 finished with value: 0.18204392143592166 and parameters: {'alpha': 1.4444942674781072, 'tol': 0.0052402630484028635, 'fit_intercept': False, 'positive': False}. Best is trial 214 with value: 0.18204452393806067.\n",
      "[I 2025-06-06 13:11:09,899] Trial 314 finished with value: 0.182043995070467 and parameters: {'alpha': 1.2696549348353627, 'tol': 0.006687284197913751, 'fit_intercept': False, 'positive': False}. Best is trial 214 with value: 0.18204452393806067.\n",
      "[I 2025-06-06 13:11:11,245] Trial 315 finished with value: 0.18204442169614385 and parameters: {'alpha': 0.25413645270425567, 'tol': 0.006721209836431487, 'fit_intercept': False, 'positive': False}. Best is trial 214 with value: 0.18204452393806067.\n",
      "[I 2025-06-06 13:11:11,880] Trial 316 finished with value: 0.17710677124344312 and parameters: {'alpha': 4.553452741555555, 'tol': 0.007743550543826387, 'fit_intercept': True, 'positive': False}. Best is trial 214 with value: 0.18204452393806067.\n",
      "[I 2025-06-06 13:11:12,494] Trial 317 finished with value: 0.18203650850910746 and parameters: {'alpha': 18.438878719531832, 'tol': 0.008239449115412151, 'fit_intercept': False, 'positive': False}. Best is trial 214 with value: 0.18204452393806067.\n",
      "[I 2025-06-06 13:11:14,426] Trial 318 finished with value: 0.1820440927939602 and parameters: {'alpha': 1.0374205193544297, 'tol': 0.00811781341765038, 'fit_intercept': False, 'positive': False}. Best is trial 214 with value: 0.18204452393806067.\n",
      "[I 2025-06-06 13:11:15,090] Trial 319 finished with value: 0.18204402939987419 and parameters: {'alpha': 1.1880987554867124, 'tol': 0.007598803956114918, 'fit_intercept': False, 'positive': False}. Best is trial 214 with value: 0.18204452393806067.\n",
      "[I 2025-06-06 13:11:15,761] Trial 320 finished with value: 0.18203799836218099 and parameters: {'alpha': 15.114211644561324, 'tol': 0.008070664075519186, 'fit_intercept': False, 'positive': False}. Best is trial 214 with value: 0.18204452393806067.\n",
      "[I 2025-06-06 13:11:16,604] Trial 321 finished with value: 0.18204438502536519 and parameters: {'alpha': 0.34159610834594073, 'tol': 0.0073795097596315185, 'fit_intercept': False, 'positive': False}. Best is trial 214 with value: 0.18204452393806067.\n",
      "[I 2025-06-06 13:11:19,231] Trial 323 finished with value: 0.1820365093331757 and parameters: {'alpha': 18.437051528891214, 'tol': 0.007211705449228702, 'fit_intercept': False, 'positive': False}. Best is trial 214 with value: 0.18204452393806067.\n",
      "[I 2025-06-06 13:11:19,447] Trial 322 finished with value: 0.17747972496534162 and parameters: {'alpha': 71.56107382292237, 'tol': 6.142750036090567e-05, 'fit_intercept': False, 'positive': True}. Best is trial 214 with value: 0.18204452393806067.\n",
      "[I 2025-06-06 13:11:20,453] Trial 324 finished with value: 0.17016160735860697 and parameters: {'alpha': 0.6287185520333126, 'tol': 0.006592938434064592, 'fit_intercept': False, 'positive': True}. Best is trial 214 with value: 0.18204452393806067.\n",
      "[I 2025-06-06 13:11:20,487] Trial 325 finished with value: 0.1820440350355709 and parameters: {'alpha': 1.174707400785923, 'tol': 0.006561090711547764, 'fit_intercept': False, 'positive': False}. Best is trial 214 with value: 0.18204452393806067.\n",
      "[I 2025-06-06 13:11:23,082] Trial 326 finished with value: 0.18204429579004336 and parameters: {'alpha': 0.5542876951499615, 'tol': 0.005731955981068576, 'fit_intercept': False, 'positive': False}. Best is trial 214 with value: 0.18204452393806067.\n",
      "[I 2025-06-06 13:11:23,587] Trial 327 finished with value: 0.1820382961915367 and parameters: {'alpha': 14.444408417615247, 'tol': 0.005705888286093506, 'fit_intercept': False, 'positive': False}. Best is trial 214 with value: 0.18204452393806067.\n",
      "[I 2025-06-06 13:11:24,695] Trial 329 finished with value: 0.18204408564030625 and parameters: {'alpha': 1.0544284447144694, 'tol': 0.008521210885031737, 'fit_intercept': False, 'positive': False}. Best is trial 214 with value: 0.18204452393806067.\n",
      "[I 2025-06-06 13:11:25,575] Trial 328 finished with value: 0.1717641863129285 and parameters: {'alpha': 51.603939370107945, 'tol': 0.0013701080893142887, 'fit_intercept': True, 'positive': True}. Best is trial 214 with value: 0.18204452393806067.\n",
      "[I 2025-06-06 13:11:27,774] Trial 330 finished with value: 0.17032111782815032 and parameters: {'alpha': 40.85152417577012, 'tol': 0.004116238826678461, 'fit_intercept': False, 'positive': True}. Best is trial 214 with value: 0.18204452393806067.\n",
      "[I 2025-06-06 13:11:27,805] Trial 331 finished with value: 0.18204331138285987 and parameters: {'alpha': 2.8881306223059644, 'tol': 0.008763466796330924, 'fit_intercept': False, 'positive': False}. Best is trial 214 with value: 0.18204452393806067.\n",
      "[I 2025-06-06 13:11:28,435] Trial 332 finished with value: 0.18204450733443203 and parameters: {'alpha': 0.04976401127745332, 'tol': 0.006181115223898725, 'fit_intercept': False, 'positive': False}. Best is trial 214 with value: 0.18204452393806067.\n",
      "[I 2025-06-06 13:11:29,777] Trial 333 finished with value: 0.18204436389619622 and parameters: {'alpha': 0.39197448125276046, 'tol': 0.0062400712506666895, 'fit_intercept': False, 'positive': False}. Best is trial 214 with value: 0.18204452393806067.\n",
      "[I 2025-06-06 13:11:31,376] Trial 334 finished with value: 0.1820369169148437 and parameters: {'alpha': 17.531750559971208, 'tol': 0.006327768797247137, 'fit_intercept': False, 'positive': False}. Best is trial 214 with value: 0.18204452393806067.\n",
      "[I 2025-06-06 13:11:31,793] Trial 335 finished with value: 0.18204442410785152 and parameters: {'alpha': 0.2483834118736656, 'tol': 0.007757814926542902, 'fit_intercept': False, 'positive': False}. Best is trial 214 with value: 0.18204452393806067.\n",
      "[I 2025-06-06 13:11:32,389] Trial 336 finished with value: 0.1771072462128518 and parameters: {'alpha': 4.171747155659404, 'tol': 0.005882988713338212, 'fit_intercept': True, 'positive': False}. Best is trial 214 with value: 0.18204452393806067.\n",
      "[I 2025-06-06 13:11:33,738] Trial 337 finished with value: 0.17711185212158778 and parameters: {'alpha': 0.46165236408411353, 'tol': 0.006637424707765201, 'fit_intercept': True, 'positive': False}. Best is trial 214 with value: 0.18204452393806067.\n",
      "[I 2025-06-06 13:11:35,504] Trial 338 finished with value: 0.1820382845537799 and parameters: {'alpha': 14.470614130281655, 'tol': 0.004766292803780429, 'fit_intercept': False, 'positive': False}. Best is trial 214 with value: 0.18204452393806067.\n",
      "[I 2025-06-06 13:11:36,146] Trial 339 finished with value: 0.1820442097588303 and parameters: {'alpha': 0.7591625098085182, 'tol': 0.004871178281562274, 'fit_intercept': False, 'positive': False}. Best is trial 214 with value: 0.18204452393806067.\n",
      "[I 2025-06-06 13:11:36,357] Trial 340 finished with value: 0.18204406164401055 and parameters: {'alpha': 1.1114711653771643, 'tol': 0.004238228106699698, 'fit_intercept': False, 'positive': False}. Best is trial 214 with value: 0.18204452393806067.\n",
      "[I 2025-06-06 13:11:37,575] Trial 341 finished with value: 0.182038767454573 and parameters: {'alpha': 13.380955588344886, 'tol': 0.0061243038367374625, 'fit_intercept': False, 'positive': False}. Best is trial 214 with value: 0.18204452393806067.\n",
      "[I 2025-06-06 13:11:39,006] Trial 342 finished with value: 0.18203732055270863 and parameters: {'alpha': 16.63208175851824, 'tol': 0.0066649289306900585, 'fit_intercept': False, 'positive': False}. Best is trial 214 with value: 0.18204452393806067.\n",
      "[I 2025-06-06 13:11:40,328] Trial 344 finished with value: 0.18204452295484297 and parameters: {'alpha': 0.01246753214201056, 'tol': 0.007729453041492749, 'fit_intercept': False, 'positive': False}. Best is trial 214 with value: 0.18204452393806067.\n",
      "[I 2025-06-06 13:11:40,362] Trial 343 finished with value: 0.1820444976772209 and parameters: {'alpha': 0.07281937104773172, 'tol': 0.005970532879859933, 'fit_intercept': False, 'positive': False}. Best is trial 214 with value: 0.18204452393806067.\n",
      "[I 2025-06-06 13:11:41,791] Trial 345 finished with value: 0.18204442961870537 and parameters: {'alpha': 0.23523694774850407, 'tol': 0.006900597727806027, 'fit_intercept': False, 'positive': False}. Best is trial 214 with value: 0.18204452393806067.\n",
      "[I 2025-06-06 13:11:43,190] Trial 346 finished with value: 0.18204417362221031 and parameters: {'alpha': 0.8451657667528849, 'tol': 0.00010752678294433798, 'fit_intercept': False, 'positive': False}. Best is trial 214 with value: 0.18204452393806067.\n",
      "[I 2025-06-06 13:11:44,338] Trial 347 finished with value: 0.1820406420804674 and parameters: {'alpha': 9.105780955027395, 'tol': 0.008883656662588989, 'fit_intercept': False, 'positive': False}. Best is trial 214 with value: 0.18204452393806067.\n",
      "[I 2025-06-06 13:11:44,401] Trial 348 finished with value: 0.18204019830096543 and parameters: {'alpha': 10.124444822601783, 'tol': 0.009053421082844475, 'fit_intercept': False, 'positive': False}. Best is trial 214 with value: 0.18204452393806067.\n",
      "[I 2025-06-06 13:11:45,824] Trial 349 finished with value: 0.1820370970789526 and parameters: {'alpha': 17.130569298326588, 'tol': 0.008966879482841174, 'fit_intercept': False, 'positive': False}. Best is trial 214 with value: 0.18204452393806067.\n",
      "[I 2025-06-06 13:11:47,022] Trial 350 finished with value: 0.1820394641541045 and parameters: {'alpha': 11.800571575314457, 'tol': 0.008809941717042503, 'fit_intercept': False, 'positive': False}. Best is trial 214 with value: 0.18204452393806067.\n",
      "[I 2025-06-06 13:11:48,431] Trial 351 finished with value: 0.1770362236432038 and parameters: {'alpha': 59.5578726813415, 'tol': 0.008556628949032252, 'fit_intercept': True, 'positive': False}. Best is trial 214 with value: 0.18204452393806067.\n",
      "[I 2025-06-06 13:11:48,495] Trial 352 finished with value: 0.18204394035526514 and parameters: {'alpha': 1.3995840088130924, 'tol': 0.007796673195621663, 'fit_intercept': False, 'positive': False}. Best is trial 214 with value: 0.18204452393806067.\n",
      "[I 2025-06-06 13:11:50,043] Trial 353 finished with value: 0.1820444435949306 and parameters: {'alpha': 0.20189258246490813, 'tol': 0.009366274904438277, 'fit_intercept': False, 'positive': False}. Best is trial 214 with value: 0.18204452393806067.\n",
      "[I 2025-06-06 13:11:50,899] Trial 354 finished with value: 0.18204445056215113 and parameters: {'alpha': 0.1852684962133851, 'tol': 0.007583861414447423, 'fit_intercept': False, 'positive': False}. Best is trial 214 with value: 0.18204452393806067.\n",
      "[I 2025-06-06 13:11:52,151] Trial 355 finished with value: 0.18204427130293135 and parameters: {'alpha': 0.6126192767183106, 'tol': 0.006581357877539036, 'fit_intercept': False, 'positive': False}. Best is trial 214 with value: 0.18204452393806067.\n",
      "[I 2025-06-06 13:11:53,551] Trial 356 finished with value: 0.17027727357102362 and parameters: {'alpha': 68.4383048190335, 'tol': 0.005820639851799976, 'fit_intercept': False, 'positive': True}. Best is trial 214 with value: 0.18204452393806067.\n",
      "[I 2025-06-06 13:11:53,939] Trial 357 finished with value: 0.18204430681642136 and parameters: {'alpha': 0.5280167166648726, 'tol': 0.00893928785582189, 'fit_intercept': False, 'positive': False}. Best is trial 214 with value: 0.18204452393806067.\n",
      "[I 2025-06-06 13:11:54,834] Trial 358 finished with value: 0.1820437707978184 and parameters: {'alpha': 1.8017746917731632, 'tol': 0.009726752871194861, 'fit_intercept': False, 'positive': False}. Best is trial 214 with value: 0.18204452393806067.\n",
      "[I 2025-06-06 13:11:56,220] Trial 359 finished with value: 0.18203986507729772 and parameters: {'alpha': 10.886614064137786, 'tol': 0.009260308481506026, 'fit_intercept': False, 'positive': False}. Best is trial 214 with value: 0.18204452393806067.\n",
      "[I 2025-06-06 13:11:57,607] Trial 360 finished with value: 0.18203881393207985 and parameters: {'alpha': 13.275833094488572, 'tol': 0.009841550558200447, 'fit_intercept': False, 'positive': False}. Best is trial 214 with value: 0.18204452393806067.\n",
      "[I 2025-06-06 13:11:58,022] Trial 361 finished with value: 0.1820381336928129 and parameters: {'alpha': 14.81007733271551, 'tol': 0.009926836989591622, 'fit_intercept': False, 'positive': False}. Best is trial 214 with value: 0.18204452393806067.\n",
      "[I 2025-06-06 13:11:58,838] Trial 362 finished with value: 0.18204153533545397 and parameters: {'alpha': 7.04261246846159, 'tol': 0.009058629029367384, 'fit_intercept': False, 'positive': False}. Best is trial 214 with value: 0.18204452393806067.\n",
      "[I 2025-06-06 13:12:00,198] Trial 363 finished with value: 0.18204412210253565 and parameters: {'alpha': 0.9677262559138349, 'tol': 0.009628654275474302, 'fit_intercept': False, 'positive': False}. Best is trial 214 with value: 0.18204452393806067.\n",
      "[I 2025-06-06 13:12:01,936] Trial 364 finished with value: 0.18204439305805084 and parameters: {'alpha': 0.3224409386633622, 'tol': 0.008712931618745211, 'fit_intercept': False, 'positive': False}. Best is trial 214 with value: 0.18204452393806067.\n",
      "[I 2025-06-06 13:12:01,960] Trial 365 finished with value: 0.18204211859549138 and parameters: {'alpha': 5.686059567424175, 'tol': 0.00820551779870632, 'fit_intercept': False, 'positive': False}. Best is trial 214 with value: 0.18204452393806067.\n",
      "[I 2025-06-06 13:12:02,429] Trial 366 finished with value: 0.18203695738226164 and parameters: {'alpha': 17.441693660147333, 'tol': 0.007818663040738706, 'fit_intercept': False, 'positive': False}. Best is trial 214 with value: 0.18204452393806067.\n",
      "[I 2025-06-06 13:12:04,022] Trial 367 finished with value: 0.18203731868962564 and parameters: {'alpha': 16.636241589959468, 'tol': 0.0073210780431929206, 'fit_intercept': False, 'positive': False}. Best is trial 214 with value: 0.18204452393806067.\n",
      "[I 2025-06-06 13:12:05,892] Trial 368 finished with value: 0.1820436928903085 and parameters: {'alpha': 1.9863452350828261, 'tol': 0.008487406643552926, 'fit_intercept': False, 'positive': False}. Best is trial 214 with value: 0.18204452393806067.\n",
      "[I 2025-06-06 13:12:06,333] Trial 370 finished with value: 0.18204412779862908 and parameters: {'alpha': 0.9541788788307093, 'tol': 0.00783866037802567, 'fit_intercept': False, 'positive': False}. Best is trial 214 with value: 0.18204452393806067.\n",
      "[I 2025-06-06 13:12:06,375] Trial 369 finished with value: 0.15195764129713943 and parameters: {'alpha': 3.3465130221517154, 'tol': 0.008675770741491043, 'fit_intercept': True, 'positive': True}. Best is trial 214 with value: 0.18204452393806067.\n",
      "[I 2025-06-06 13:12:08,493] Trial 371 finished with value: 0.17032275187741247 and parameters: {'alpha': 15.045828584985372, 'tol': 0.00530287507143736, 'fit_intercept': False, 'positive': True}. Best is trial 214 with value: 0.18204452393806067.\n",
      "[I 2025-06-06 13:12:10,417] Trial 372 finished with value: 0.18204341353675 and parameters: {'alpha': 2.646996539056855, 'tol': 0.004882046913984476, 'fit_intercept': False, 'positive': False}. Best is trial 214 with value: 0.18204452393806067.\n",
      "[I 2025-06-06 13:12:10,458] Trial 373 finished with value: 0.18203849320334867 and parameters: {'alpha': 14.000371392041066, 'tol': 0.005058703629186189, 'fit_intercept': False, 'positive': False}. Best is trial 214 with value: 0.18204452393806067.\n",
      "[I 2025-06-06 13:12:10,481] Trial 374 finished with value: 0.18204408164442099 and parameters: {'alpha': 1.0639281973606098, 'tol': 0.004708976718998084, 'fit_intercept': False, 'positive': False}. Best is trial 214 with value: 0.18204452393806067.\n",
      "[I 2025-06-06 13:12:12,338] Trial 375 finished with value: 0.18204415808051677 and parameters: {'alpha': 0.8821446389407497, 'tol': 0.004310144942332708, 'fit_intercept': False, 'positive': False}. Best is trial 214 with value: 0.18204452393806067.\n",
      "[I 2025-06-06 13:12:14,348] Trial 377 finished with value: 0.17709585951405643 and parameters: {'alpha': 13.277815447659062, 'tol': 0.009830475955271414, 'fit_intercept': True, 'positive': False}. Best is trial 214 with value: 0.18204452393806067.\n",
      "[I 2025-06-06 13:12:14,349] Trial 378 finished with value: 0.18204405245088429 and parameters: {'alpha': 1.1333209655417695, 'tol': 0.007749571070648239, 'fit_intercept': False, 'positive': False}. Best is trial 214 with value: 0.18204452393806067.\n",
      "[I 2025-06-06 13:12:15,375] Trial 376 finished with value: 0.16752077330660411 and parameters: {'alpha': 2.547613432413045, 'tol': 0.004761817006487794, 'fit_intercept': True, 'positive': True}. Best is trial 214 with value: 0.18204452393806067.\n",
      "[I 2025-06-06 13:12:16,218] Trial 379 finished with value: 0.18204412784558385 and parameters: {'alpha': 0.9540672003899395, 'tol': 0.007754345524380641, 'fit_intercept': False, 'positive': False}. Best is trial 214 with value: 0.18204452393806067.\n",
      "[I 2025-06-06 13:12:18,172] Trial 380 finished with value: 0.18203800106815343 and parameters: {'alpha': 15.108133935723464, 'tol': 0.006720838437523582, 'fit_intercept': False, 'positive': False}. Best is trial 214 with value: 0.18204452393806067.\n",
      "[I 2025-06-06 13:12:18,184] Trial 381 finished with value: 0.1820444112256613 and parameters: {'alpha': 0.2791117932648585, 'tol': 0.007602190883745062, 'fit_intercept': False, 'positive': False}. Best is trial 214 with value: 0.18204452393806067.\n",
      "[I 2025-06-06 13:12:19,427] Trial 382 finished with value: 0.18203849221357218 and parameters: {'alpha': 14.002604144092363, 'tol': 0.007517185824555336, 'fit_intercept': False, 'positive': False}. Best is trial 214 with value: 0.18204452393806067.\n",
      "[I 2025-06-06 13:12:20,006] Trial 383 finished with value: 0.18203788627284936 and parameters: {'alpha': 15.365841608251305, 'tol': 0.006266964879762838, 'fit_intercept': False, 'positive': False}. Best is trial 214 with value: 0.18204452393806067.\n",
      "[I 2025-06-06 13:12:22,130] Trial 385 finished with value: 0.18204442082804861 and parameters: {'alpha': 0.2562072282913045, 'tol': 0.005861430995894811, 'fit_intercept': False, 'positive': False}. Best is trial 214 with value: 0.18204452393806067.\n",
      "[I 2025-06-06 13:12:22,361] Trial 384 finished with value: 0.177112030772731 and parameters: {'alpha': 0.3174317537882814, 'tol': 0.00157340083246505, 'fit_intercept': True, 'positive': False}. Best is trial 214 with value: 0.18204452393806067.\n",
      "[I 2025-06-06 13:12:23,760] Trial 386 finished with value: 0.18204397361163585 and parameters: {'alpha': 1.3206204199751648, 'tol': 0.008690740132083843, 'fit_intercept': False, 'positive': False}. Best is trial 214 with value: 0.18204452393806067.\n",
      "[I 2025-06-06 13:12:23,971] Trial 387 finished with value: 0.18204451452348536 and parameters: {'alpha': 0.032599609886770714, 'tol': 0.008889647254743394, 'fit_intercept': False, 'positive': False}. Best is trial 214 with value: 0.18204452393806067.\n",
      "[I 2025-06-06 13:12:26,141] Trial 388 finished with value: 0.18203691128234178 and parameters: {'alpha': 17.544282747429968, 'tol': 0.007214639777644849, 'fit_intercept': False, 'positive': False}. Best is trial 214 with value: 0.18204452393806067.\n",
      "[I 2025-06-06 13:12:26,406] Trial 389 finished with value: 0.18204436160926973 and parameters: {'alpha': 0.39742657019446886, 'tol': 0.00888464860362571, 'fit_intercept': False, 'positive': False}. Best is trial 214 with value: 0.18204452393806067.\n",
      "[I 2025-06-06 13:12:28,049] Trial 390 finished with value: 0.18203756859857265 and parameters: {'alpha': 16.077652734350224, 'tol': 0.006577381319512984, 'fit_intercept': False, 'positive': False}. Best is trial 214 with value: 0.18204452393806067.\n",
      "[I 2025-06-06 13:12:29,142] Trial 391 finished with value: 0.17750447215748852 and parameters: {'alpha': 42.65974070625743, 'tol': 0.0012937866282639165, 'fit_intercept': False, 'positive': True}. Best is trial 214 with value: 0.18204452393806067.\n",
      "[I 2025-06-06 13:12:30,177] Trial 392 finished with value: 0.17703994837883227 and parameters: {'alpha': 56.73179941685945, 'tol': 0.004652111805534973, 'fit_intercept': True, 'positive': False}. Best is trial 214 with value: 0.18204452393806067.\n",
      "[I 2025-06-06 13:12:30,787] Trial 393 finished with value: 0.17705753486195439 and parameters: {'alpha': 43.277038210207714, 'tol': 0.0036957187778535227, 'fit_intercept': True, 'positive': False}. Best is trial 214 with value: 0.18204452393806067.\n",
      "[I 2025-06-06 13:12:32,441] Trial 394 finished with value: 0.18204367360491283 and parameters: {'alpha': 2.032012296566997, 'tol': 0.007316887854546548, 'fit_intercept': False, 'positive': False}. Best is trial 214 with value: 0.18204452393806067.\n",
      "[I 2025-06-06 13:12:33,102] Trial 395 finished with value: 0.18204298614822062 and parameters: {'alpha': 3.6542441771612344, 'tol': 0.007412485712226722, 'fit_intercept': False, 'positive': False}. Best is trial 214 with value: 0.18204452393806067.\n",
      "[I 2025-06-06 13:12:34,497] Trial 396 finished with value: 0.17707034250606438 and parameters: {'alpha': 33.35853334447237, 'tol': 0.0037471545890017848, 'fit_intercept': True, 'positive': False}. Best is trial 214 with value: 0.18204452393806067.\n",
      "[I 2025-06-06 13:12:34,728] Trial 397 finished with value: 0.18203677156065115 and parameters: {'alpha': 17.854966577238546, 'tol': 0.0009339664901336035, 'fit_intercept': False, 'positive': False}. Best is trial 214 with value: 0.18204452393806067.\n",
      "[I 2025-06-06 13:12:36,873] Trial 398 finished with value: 0.1820443804548381 and parameters: {'alpha': 0.35249454132853486, 'tol': 0.006348771419089746, 'fit_intercept': False, 'positive': False}. Best is trial 214 with value: 0.18204452393806067.\n",
      "[I 2025-06-06 13:12:37,114] Trial 399 finished with value: 0.18203759632650932 and parameters: {'alpha': 16.015601358361682, 'tol': 0.0063584354223507, 'fit_intercept': False, 'positive': False}. Best is trial 214 with value: 0.18204452393806067.\n",
      "[I 2025-06-06 13:12:38,522] Trial 400 finished with value: 0.18203683905212312 and parameters: {'alpha': 17.704939644459337, 'tol': 0.0013921599325457102, 'fit_intercept': False, 'positive': False}. Best is trial 214 with value: 0.18204452393806067.\n",
      "[I 2025-06-06 13:12:38,743] Trial 401 finished with value: 0.18204349673393994 and parameters: {'alpha': 2.4504310002469043, 'tol': 0.005972894318948724, 'fit_intercept': False, 'positive': False}. Best is trial 214 with value: 0.18204452393806067.\n",
      "[I 2025-06-06 13:12:41,120] Trial 402 finished with value: 0.18204414450646186 and parameters: {'alpha': 0.9144371511196898, 'tol': 0.0049283918043809445, 'fit_intercept': False, 'positive': False}. Best is trial 214 with value: 0.18204452393806067.\n",
      "[I 2025-06-06 13:12:41,123] Trial 403 finished with value: 0.1820388490173555 and parameters: {'alpha': 13.196448620651806, 'tol': 0.005251871586760279, 'fit_intercept': False, 'positive': False}. Best is trial 214 with value: 0.18204452393806067.\n",
      "[I 2025-06-06 13:12:42,357] Trial 404 finished with value: 0.182044207431959 and parameters: {'alpha': 0.7647012761784169, 'tol': 0.0080188864450726, 'fit_intercept': False, 'positive': False}. Best is trial 214 with value: 0.18204452393806067.\n",
      "[I 2025-06-06 13:12:42,427] Trial 405 finished with value: 0.18204440113063386 and parameters: {'alpha': 0.30318907234822357, 'tol': 0.008619212084997958, 'fit_intercept': False, 'positive': False}. Best is trial 214 with value: 0.18204452393806067.\n",
      "[I 2025-06-06 13:12:45,155] Trial 407 finished with value: 0.182044015109985 and parameters: {'alpha': 1.2220505486199733, 'tol': 0.007770580004729359, 'fit_intercept': False, 'positive': False}. Best is trial 214 with value: 0.18204452393806067.\n",
      "[I 2025-06-06 13:12:45,386] Trial 406 finished with value: 0.18204397136926165 and parameters: {'alpha': 1.3259455107760032, 'tol': 0.0070328575471681415, 'fit_intercept': False, 'positive': False}. Best is trial 214 with value: 0.18204452393806067.\n",
      "[I 2025-06-06 13:12:46,022] Trial 408 finished with value: 0.1820442071610092 and parameters: {'alpha': 0.7653462232256992, 'tol': 0.005837498542734378, 'fit_intercept': False, 'positive': False}. Best is trial 214 with value: 0.18204452393806067.\n",
      "[I 2025-06-06 13:12:46,416] Trial 409 finished with value: 0.18204440570786715 and parameters: {'alpha': 0.2922723836400332, 'tol': 0.006552584306348188, 'fit_intercept': False, 'positive': False}. Best is trial 214 with value: 0.18204452393806067.\n",
      "[I 2025-06-06 13:12:49,131] Trial 410 finished with value: 0.18203730738161594 and parameters: {'alpha': 16.661488309320934, 'tol': 0.00792351039645507, 'fit_intercept': False, 'positive': False}. Best is trial 214 with value: 0.18204452393806067.\n",
      "[I 2025-06-06 13:12:49,549] Trial 411 finished with value: 0.18204419162457952 and parameters: {'alpha': 0.8023249537049846, 'tol': 0.007686661873619668, 'fit_intercept': False, 'positive': False}. Best is trial 214 with value: 0.18204452393806067.\n",
      "[I 2025-06-06 13:12:49,974] Trial 412 finished with value: 0.1820442052407898 and parameters: {'alpha': 0.7699169066395799, 'tol': 0.007691467130191061, 'fit_intercept': False, 'positive': False}. Best is trial 214 with value: 0.18204452393806067.\n",
      "[I 2025-06-06 13:12:50,385] Trial 413 finished with value: 0.18203666088149023 and parameters: {'alpha': 18.10080798892787, 'tol': 0.007909317681783923, 'fit_intercept': False, 'positive': False}. Best is trial 214 with value: 0.18204452393806067.\n",
      "[I 2025-06-06 13:12:53,115] Trial 414 finished with value: 0.18204417234704204 and parameters: {'alpha': 0.8482000334263701, 'tol': 0.008008908248520345, 'fit_intercept': False, 'positive': False}. Best is trial 214 with value: 0.18204452393806067.\n",
      "[I 2025-06-06 13:12:53,782] Trial 415 finished with value: 0.18204423106342024 and parameters: {'alpha': 0.708444155239295, 'tol': 0.006813579676963119, 'fit_intercept': False, 'positive': False}. Best is trial 214 with value: 0.18204452393806067.\n",
      "[I 2025-06-06 13:12:54,160] Trial 416 finished with value: 0.1820443641949996 and parameters: {'alpha': 0.3912621171606121, 'tol': 0.0064848321761709765, 'fit_intercept': False, 'positive': False}. Best is trial 214 with value: 0.18204452393806067.\n",
      "[I 2025-06-06 13:12:54,230] Trial 417 finished with value: 0.18204438351675523 and parameters: {'alpha': 0.34519344766850635, 'tol': 0.006509714311043944, 'fit_intercept': False, 'positive': False}. Best is trial 214 with value: 0.18204452393806067.\n",
      "[I 2025-06-06 13:12:57,167] Trial 418 finished with value: 0.1820445146705351 and parameters: {'alpha': 0.03224850478995747, 'tol': 0.005746527235690629, 'fit_intercept': False, 'positive': False}. Best is trial 214 with value: 0.18204452393806067.\n",
      "[I 2025-06-06 13:12:58,282] Trial 419 finished with value: 0.18204450924915402 and parameters: {'alpha': 0.04519259090146905, 'tol': 0.005969481595932204, 'fit_intercept': False, 'positive': False}. Best is trial 214 with value: 0.18204452393806067.\n",
      "[I 2025-06-06 13:12:58,314] Trial 420 finished with value: 0.18204383940448998 and parameters: {'alpha': 1.639120906440793, 'tol': 0.004977622134078731, 'fit_intercept': False, 'positive': False}. Best is trial 214 with value: 0.18204452393806067.\n",
      "[I 2025-06-06 13:12:58,367] Trial 421 finished with value: 0.18200190156480903 and parameters: {'alpha': 86.47447951628581, 'tol': 1.4405953744810879e-05, 'fit_intercept': False, 'positive': False}. Best is trial 214 with value: 0.18204452393806067.\n",
      "[I 2025-06-06 13:13:00,867] Trial 422 finished with value: 0.18203887682938932 and parameters: {'alpha': 13.133503040721155, 'tol': 0.005152585173559375, 'fit_intercept': False, 'positive': False}. Best is trial 214 with value: 0.18204452393806067.\n",
      "[I 2025-06-06 13:13:01,915] Trial 424 finished with value: 0.18203871419659062 and parameters: {'alpha': 13.501360637650404, 'tol': 0.00448386596520761, 'fit_intercept': False, 'positive': False}. Best is trial 214 with value: 0.18204452393806067.\n",
      "[I 2025-06-06 13:13:02,526] Trial 423 finished with value: 0.18203597166109797 and parameters: {'alpha': 19.626508906697293, 'tol': 0.005202612292008443, 'fit_intercept': False, 'positive': False}. Best is trial 214 with value: 0.18204452393806067.\n",
      "[I 2025-06-06 13:13:03,358] Trial 425 finished with value: 0.16748537605973352 and parameters: {'alpha': 26.389439583492543, 'tol': 0.0059260972234258255, 'fit_intercept': True, 'positive': True}. Best is trial 214 with value: 0.18204452393806067.\n",
      "[I 2025-06-06 13:13:04,559] Trial 426 finished with value: 0.18204376927403315 and parameters: {'alpha': 1.8053860521094047, 'tol': 0.004806078747545044, 'fit_intercept': False, 'positive': False}. Best is trial 214 with value: 0.18204452393806067.\n",
      "[I 2025-06-06 13:13:05,910] Trial 427 finished with value: 0.1820443530493816 and parameters: {'alpha': 0.4178324446854016, 'tol': 0.005266342074334425, 'fit_intercept': False, 'positive': False}. Best is trial 214 with value: 0.18204452393806067.\n",
      "[I 2025-06-06 13:13:06,547] Trial 428 finished with value: 0.18203660596270374 and parameters: {'alpha': 18.222707727681442, 'tol': 0.005969047909175441, 'fit_intercept': False, 'positive': False}. Best is trial 214 with value: 0.18204452393806067.\n",
      "[I 2025-06-06 13:13:07,357] Trial 429 finished with value: 0.1820436339690703 and parameters: {'alpha': 2.1258411283313166, 'tol': 0.00505810444834963, 'fit_intercept': False, 'positive': False}. Best is trial 214 with value: 0.18204452393806067.\n",
      "[I 2025-06-06 13:13:08,562] Trial 430 finished with value: 0.1820442019712362 and parameters: {'alpha': 0.7776991985178505, 'tol': 0.005858159355808875, 'fit_intercept': False, 'positive': False}. Best is trial 214 with value: 0.18204452393806067.\n",
      "[I 2025-06-06 13:13:09,571] Trial 431 finished with value: 0.18204433124876748 and parameters: {'alpha': 0.46979491398479956, 'tol': 0.005622797869100766, 'fit_intercept': False, 'positive': False}. Best is trial 214 with value: 0.18204452393806067.\n",
      "[I 2025-06-06 13:13:10,925] Trial 432 finished with value: 0.17708348638824825 and parameters: {'alpha': 23.069616398788515, 'tol': 0.007551832975881554, 'fit_intercept': True, 'positive': False}. Best is trial 214 with value: 0.18204452393806067.\n",
      "[I 2025-06-06 13:13:11,523] Trial 433 finished with value: 0.1769839727216593 and parameters: {'alpha': 98.39454596505817, 'tol': 0.0014370793782548731, 'fit_intercept': True, 'positive': False}. Best is trial 214 with value: 0.18204452393806067.\n",
      "[I 2025-06-06 13:13:12,338] Trial 434 finished with value: 0.18204448243360036 and parameters: {'alpha': 0.10920701443075428, 'tol': 0.005649081148374132, 'fit_intercept': False, 'positive': False}. Best is trial 214 with value: 0.18204452393806067.\n",
      "[I 2025-06-06 13:13:13,536] Trial 435 finished with value: 0.1820443861382578 and parameters: {'alpha': 0.33894233745935715, 'tol': 0.006472103511728842, 'fit_intercept': False, 'positive': False}. Best is trial 214 with value: 0.18204452393806067.\n",
      "[I 2025-06-06 13:13:15,217] Trial 437 finished with value: 0.18203825441565932 and parameters: {'alpha': 14.538466164275091, 'tol': 0.006619135146322561, 'fit_intercept': False, 'positive': False}. Best is trial 214 with value: 0.18204452393806067.\n",
      "[I 2025-06-06 13:13:15,607] Trial 436 finished with value: 0.1704329170027879 and parameters: {'alpha': 0.27750504876555476, 'tol': 0.0062259256257114655, 'fit_intercept': False, 'positive': True}. Best is trial 214 with value: 0.18204452393806067.\n",
      "[I 2025-06-06 13:13:16,230] Trial 438 finished with value: 0.18201408177373485 and parameters: {'alpha': 64.20173046856085, 'tol': 0.0035081548020729912, 'fit_intercept': False, 'positive': False}. Best is trial 214 with value: 0.18204452393806067.\n",
      "[I 2025-06-06 13:13:18,082] Trial 439 finished with value: 0.17033101572018722 and parameters: {'alpha': 5.079930039871448, 'tol': 0.005348353734912232, 'fit_intercept': False, 'positive': True}. Best is trial 214 with value: 0.18204452393806067.\n",
      "[I 2025-06-06 13:13:19,298] Trial 440 finished with value: 0.1820368852005307 and parameters: {'alpha': 17.602306278857842, 'tol': 0.0069214780721502155, 'fit_intercept': False, 'positive': False}. Best is trial 214 with value: 0.18204452393806067.\n",
      "[I 2025-06-06 13:13:19,718] Trial 441 finished with value: 0.1820229581350969 and parameters: {'alpha': 46.938034350367964, 'tol': 0.0027646575107053775, 'fit_intercept': False, 'positive': False}. Best is trial 214 with value: 0.18204452393806067.\n",
      "[I 2025-06-06 13:13:20,321] Trial 442 finished with value: 0.18203706560262337 and parameters: {'alpha': 17.200704201838416, 'tol': 0.007834162264975495, 'fit_intercept': False, 'positive': False}. Best is trial 214 with value: 0.18204452393806067.\n",
      "[I 2025-06-06 13:13:21,559] Trial 443 finished with value: 0.1820364243714855 and parameters: {'alpha': 18.625367987599528, 'tol': 0.007482584723892404, 'fit_intercept': False, 'positive': False}. Best is trial 214 with value: 0.18204452393806067.\n",
      "[I 2025-06-06 13:13:23,912] Trial 444 finished with value: 0.17012902779358738 and parameters: {'alpha': 35.816582249888455, 'tol': 0.007649360114353606, 'fit_intercept': False, 'positive': True}. Best is trial 214 with value: 0.18204452393806067.\n",
      "[I 2025-06-06 13:13:24,110] Trial 445 finished with value: 0.18204426227146997 and parameters: {'alpha': 0.6341298202794519, 'tol': 0.008063952042585221, 'fit_intercept': False, 'positive': False}. Best is trial 214 with value: 0.18204452393806067.\n",
      "[I 2025-06-06 13:13:24,151] Trial 446 finished with value: 0.1820440336287726 and parameters: {'alpha': 1.17805025833507, 'tol': 0.007783332418755397, 'fit_intercept': False, 'positive': False}. Best is trial 214 with value: 0.18204452393806067.\n",
      "[I 2025-06-06 13:13:25,397] Trial 447 finished with value: 0.18204358314867022 and parameters: {'alpha': 2.246093197883764, 'tol': 0.00801253784462444, 'fit_intercept': False, 'positive': False}. Best is trial 214 with value: 0.18204452393806067.\n",
      "[I 2025-06-06 13:13:27,925] Trial 448 finished with value: 0.18204452688287207 and parameters: {'alpha': 0.003087749322886234, 'tol': 0.0076667351283317324, 'fit_intercept': False, 'positive': False}. Best is trial 448 with value: 0.18204452688287207.\n",
      "[I 2025-06-06 13:13:28,166] Trial 450 finished with value: 0.18204426099284088 and parameters: {'alpha': 0.6371750184282611, 'tol': 0.005020497461842605, 'fit_intercept': False, 'positive': False}. Best is trial 448 with value: 0.18204452688287207.\n",
      "[I 2025-06-06 13:13:28,244] Trial 449 finished with value: 0.1771052638322548 and parameters: {'alpha': 5.7637838768188985, 'tol': 0.007980073022528759, 'fit_intercept': True, 'positive': False}. Best is trial 448 with value: 0.18204452688287207.\n",
      "[I 2025-06-06 13:13:29,474] Trial 451 finished with value: 0.18204444903957825 and parameters: {'alpha': 0.18890151962951207, 'tol': 0.004629481851508745, 'fit_intercept': False, 'positive': False}. Best is trial 448 with value: 0.18204452688287207.\n",
      "[I 2025-06-06 13:13:31,998] Trial 452 finished with value: 0.18204380267149908 and parameters: {'alpha': 1.7262218060015955, 'tol': 0.004952128480297249, 'fit_intercept': False, 'positive': False}. Best is trial 448 with value: 0.18204452688287207.\n",
      "[I 2025-06-06 13:13:32,217] Trial 453 finished with value: 0.18204442282220615 and parameters: {'alpha': 0.25145028938200586, 'tol': 0.0067256629093429676, 'fit_intercept': False, 'positive': False}. Best is trial 448 with value: 0.18204452688287207.\n",
      "[I 2025-06-06 13:13:33,268] Trial 454 finished with value: 0.15542996319518565 and parameters: {'alpha': 2.0509165506422757, 'tol': 0.00951552994341277, 'fit_intercept': False, 'positive': True}. Best is trial 448 with value: 0.18204452688287207.\n",
      "[I 2025-06-06 13:13:33,519] Trial 455 finished with value: 0.18203650947016414 and parameters: {'alpha': 18.436747785751542, 'tol': 0.005463187157253221, 'fit_intercept': False, 'positive': False}. Best is trial 448 with value: 0.18204452688287207.\n",
      "[I 2025-06-06 13:13:35,423] Trial 456 finished with value: 0.18203633332372046 and parameters: {'alpha': 18.827023169047013, 'tol': 0.005212398952186522, 'fit_intercept': False, 'positive': False}. Best is trial 448 with value: 0.18204452688287207.\n",
      "[I 2025-06-06 13:13:36,789] Trial 457 finished with value: 0.1519668774435627 and parameters: {'alpha': 97.62284071391555, 'tol': 0.008391902545863243, 'fit_intercept': True, 'positive': True}. Best is trial 448 with value: 0.18204452688287207.\n",
      "[I 2025-06-06 13:13:37,415] Trial 458 finished with value: 0.18203720724230346 and parameters: {'alpha': 16.884955698852572, 'tol': 0.005740441046531115, 'fit_intercept': False, 'positive': False}. Best is trial 448 with value: 0.18204452688287207.\n",
      "[I 2025-06-06 13:13:37,422] Trial 459 finished with value: 0.1820374065334722 and parameters: {'alpha': 16.44003366801269, 'tol': 0.005976316791437244, 'fit_intercept': False, 'positive': False}. Best is trial 448 with value: 0.18204452688287207.\n",
      "[I 2025-06-06 13:13:39,768] Trial 460 finished with value: 0.18204446923413378 and parameters: {'alpha': 0.14071060756423698, 'tol': 0.006678267241082718, 'fit_intercept': False, 'positive': False}. Best is trial 448 with value: 0.18204452688287207.\n",
      "[I 2025-06-06 13:13:40,614] Trial 461 finished with value: 0.182044449654461 and parameters: {'alpha': 0.1874343494081625, 'tol': 0.005446728296789739, 'fit_intercept': False, 'positive': False}. Best is trial 448 with value: 0.18204452688287207.\n",
      "[I 2025-06-06 13:13:41,199] Trial 462 finished with value: 0.18204402992083799 and parameters: {'alpha': 1.186860890189861, 'tol': 0.005732878327544749, 'fit_intercept': False, 'positive': False}. Best is trial 448 with value: 0.18204452688287207.\n",
      "[I 2025-06-06 13:13:41,816] Trial 463 finished with value: 0.1820443839662724 and parameters: {'alpha': 0.34412156198027666, 'tol': 0.0068816401202487, 'fit_intercept': False, 'positive': False}. Best is trial 448 with value: 0.18204452688287207.\n",
      "[I 2025-06-06 13:13:43,582] Trial 464 finished with value: 0.18203842198310827 and parameters: {'alpha': 14.160981095954593, 'tol': 0.006235365805928075, 'fit_intercept': False, 'positive': False}. Best is trial 448 with value: 0.18204452688287207.\n",
      "[I 2025-06-06 13:13:44,567] Trial 465 finished with value: 0.18204433488486843 and parameters: {'alpha': 0.46112893824345147, 'tol': 0.006209458063353599, 'fit_intercept': False, 'positive': False}. Best is trial 448 with value: 0.18204452688287207.\n",
      "[I 2025-06-06 13:13:44,994] Trial 466 finished with value: 0.18204425424893714 and parameters: {'alpha': 0.6532357341262985, 'tol': 0.0070062416359772004, 'fit_intercept': False, 'positive': False}. Best is trial 448 with value: 0.18204452688287207.\n",
      "[I 2025-06-06 13:13:46,432] Trial 467 finished with value: 0.1820376903223135 and parameters: {'alpha': 15.805139982140949, 'tol': 0.006886673746876284, 'fit_intercept': False, 'positive': False}. Best is trial 448 with value: 0.18204452688287207.\n",
      "[I 2025-06-06 13:13:47,957] Trial 468 finished with value: 0.17711097269996562 and parameters: {'alpha': 1.1712422597319958, 'tol': 0.005158481445322373, 'fit_intercept': True, 'positive': False}. Best is trial 448 with value: 0.18204452688287207.\n",
      "[I 2025-06-06 13:13:48,634] Trial 469 finished with value: 0.18204420735110038 and parameters: {'alpha': 0.764893745966619, 'tol': 0.006812469014693027, 'fit_intercept': False, 'positive': False}. Best is trial 448 with value: 0.18204452688287207.\n",
      "[I 2025-06-06 13:13:49,232] Trial 470 finished with value: 0.182044498823472 and parameters: {'alpha': 0.07008295972063322, 'tol': 0.006647935132822934, 'fit_intercept': False, 'positive': False}. Best is trial 448 with value: 0.18204452688287207.\n",
      "[I 2025-06-06 13:13:51,108] Trial 471 finished with value: 0.18203685349515697 and parameters: {'alpha': 17.672822920849583, 'tol': 0.008098521446047348, 'fit_intercept': False, 'positive': False}. Best is trial 448 with value: 0.18204452688287207.\n",
      "[I 2025-06-06 13:13:52,344] Trial 472 finished with value: 0.18203769623884053 and parameters: {'alpha': 15.791886811976456, 'tol': 0.0074420302507229846, 'fit_intercept': False, 'positive': False}. Best is trial 448 with value: 0.18204452688287207.\n",
      "[I 2025-06-06 13:13:52,824] Trial 473 finished with value: 0.18203657204360046 and parameters: {'alpha': 18.297967264397638, 'tol': 0.00829981740946287, 'fit_intercept': False, 'positive': False}. Best is trial 448 with value: 0.18204452688287207.\n",
      "[I 2025-06-06 13:13:53,253] Trial 474 finished with value: 0.18203732791994645 and parameters: {'alpha': 16.6156317714721, 'tol': 0.008998456096316089, 'fit_intercept': False, 'positive': False}. Best is trial 448 with value: 0.18204452688287207.\n",
      "[I 2025-06-06 13:13:56,082] Trial 475 finished with value: 0.18200141235005168 and parameters: {'alpha': 87.33918897314382, 'tol': 0.005891914730675992, 'fit_intercept': False, 'positive': False}. Best is trial 448 with value: 0.18204452688287207.\n",
      "[I 2025-06-06 13:13:56,739] Trial 476 finished with value: 0.18204445714723988 and parameters: {'alpha': 0.1695551227090763, 'tol': 0.00672872416775564, 'fit_intercept': False, 'positive': False}. Best is trial 448 with value: 0.18204452688287207.\n",
      "[I 2025-06-06 13:13:56,991] Trial 477 finished with value: 0.18204446978141892 and parameters: {'alpha': 0.13940446752754926, 'tol': 0.00965739608277481, 'fit_intercept': False, 'positive': False}. Best is trial 448 with value: 0.18204452688287207.\n",
      "[I 2025-06-06 13:13:57,258] Trial 478 finished with value: 0.18204369504672333 and parameters: {'alpha': 1.9812383888825558, 'tol': 0.009294148748636656, 'fit_intercept': False, 'positive': False}. Best is trial 448 with value: 0.18204452688287207.\n",
      "[I 2025-06-06 13:14:00,873] Trial 480 finished with value: 0.18204406041238042 and parameters: {'alpha': 1.1143985633125986, 'tol': 0.00829413124424571, 'fit_intercept': False, 'positive': False}. Best is trial 448 with value: 0.18204452688287207.\n",
      "[I 2025-06-06 13:14:01,432] Trial 481 finished with value: 0.18204055937339936 and parameters: {'alpha': 9.295945159721708, 'tol': 0.009851277318403753, 'fit_intercept': False, 'positive': False}. Best is trial 448 with value: 0.18204452688287207.\n",
      "[I 2025-06-06 13:14:02,144] Trial 479 finished with value: 0.18204404011856884 and parameters: {'alpha': 1.1626287060159066, 'tol': 0.006036193797127931, 'fit_intercept': False, 'positive': False}. Best is trial 448 with value: 0.18204452688287207.\n",
      "[I 2025-06-06 13:14:02,212] Trial 482 finished with value: 0.18204444547594978 and parameters: {'alpha': 0.19740450517451236, 'tol': 0.009037877163160716, 'fit_intercept': False, 'positive': False}. Best is trial 448 with value: 0.18204452688287207.\n",
      "[I 2025-06-06 13:14:05,905] Trial 483 finished with value: 0.1820425703946899 and parameters: {'alpha': 4.630061747728044, 'tol': 0.009402066678081623, 'fit_intercept': False, 'positive': False}. Best is trial 448 with value: 0.18204452688287207.\n",
      "[I 2025-06-06 13:14:06,126] Trial 484 finished with value: 0.1820438238825671 and parameters: {'alpha': 1.675930200742621, 'tol': 0.00914285966754391, 'fit_intercept': False, 'positive': False}. Best is trial 448 with value: 0.18204452688287207.\n",
      "[I 2025-06-06 13:14:06,606] Trial 486 finished with value: 0.18204390645700452 and parameters: {'alpha': 1.480044859318817, 'tol': 0.008848477949628153, 'fit_intercept': False, 'positive': False}. Best is trial 448 with value: 0.18204452688287207.\n",
      "[I 2025-06-06 13:14:07,033] Trial 485 finished with value: 0.18203502696315838 and parameters: {'alpha': 21.703420435545347, 'tol': 0.009818981832068818, 'fit_intercept': False, 'positive': False}. Best is trial 448 with value: 0.18204452688287207.\n",
      "[I 2025-06-06 13:14:09,811] Trial 487 finished with value: 0.1820445270030373 and parameters: {'alpha': 0.002800799673863961, 'tol': 0.004717444773873388, 'fit_intercept': False, 'positive': False}. Best is trial 487 with value: 0.1820445270030373.\n",
      "[I 2025-06-06 13:14:10,019] Trial 488 finished with value: 0.18203785161710256 and parameters: {'alpha': 15.443590526643643, 'tol': 0.006541059256155663, 'fit_intercept': False, 'positive': False}. Best is trial 487 with value: 0.1820445270030373.\n",
      "[I 2025-06-06 13:14:10,843] Trial 489 finished with value: 0.18203100155093907 and parameters: {'alpha': 30.37662442099833, 'tol': 0.00985310739496693, 'fit_intercept': False, 'positive': False}. Best is trial 487 with value: 0.1820445270030373.\n",
      "[I 2025-06-06 13:14:11,468] Trial 490 finished with value: 0.18204266106744726 and parameters: {'alpha': 4.41757766082409, 'tol': 0.009966690201548879, 'fit_intercept': False, 'positive': False}. Best is trial 487 with value: 0.1820445270030373.\n",
      "[I 2025-06-06 13:14:13,671] Trial 491 finished with value: 0.1820364209266665 and parameters: {'alpha': 18.633000511436236, 'tol': 0.003542645384962752, 'fit_intercept': False, 'positive': False}. Best is trial 487 with value: 0.1820445270030373.\n",
      "[I 2025-06-06 13:14:13,882] Trial 492 finished with value: 0.18203693279988606 and parameters: {'alpha': 17.49640344103605, 'tol': 0.004192260813812542, 'fit_intercept': False, 'positive': False}. Best is trial 487 with value: 0.1820445270030373.\n",
      "[I 2025-06-06 13:14:14,887] Trial 493 finished with value: 0.18203552345307258 and parameters: {'alpha': 20.61393554628052, 'tol': 0.004175677009305164, 'fit_intercept': False, 'positive': False}. Best is trial 487 with value: 0.1820445270030373.\n",
      "[I 2025-06-06 13:14:15,716] Trial 494 finished with value: 0.18204083435922233 and parameters: {'alpha': 8.663120862374713, 'tol': 0.00406934296304118, 'fit_intercept': False, 'positive': False}. Best is trial 487 with value: 0.1820445270030373.\n",
      "[I 2025-06-06 13:14:17,695] Trial 495 finished with value: 0.18203848704469486 and parameters: {'alpha': 14.014263852821896, 'tol': 0.0037807174435378556, 'fit_intercept': False, 'positive': False}. Best is trial 487 with value: 0.1820445270030373.\n",
      "[I 2025-06-06 13:14:17,764] Trial 496 finished with value: 0.18204201312658347 and parameters: {'alpha': 5.9319172861100355, 'tol': 0.004511545881438461, 'fit_intercept': False, 'positive': False}. Best is trial 487 with value: 0.1820445270030373.\n",
      "[I 2025-06-06 13:14:18,730] Trial 497 finished with value: 0.1820441866241105 and parameters: {'alpha': 0.814225501979936, 'tol': 0.0051016232468950404, 'fit_intercept': False, 'positive': False}. Best is trial 487 with value: 0.1820445270030373.\n",
      "[I 2025-06-06 13:14:19,149] Trial 498 finished with value: 0.18204197178119436 and parameters: {'alpha': 6.028229802480041, 'tol': 0.0036752496918969974, 'fit_intercept': False, 'positive': False}. Best is trial 487 with value: 0.1820445270030373.\n",
      "[I 2025-06-06 13:14:19,798] Trial 499 finished with value: 0.1769839671894442 and parameters: {'alpha': 98.39858228063034, 'tol': 0.005521895014561839, 'fit_intercept': True, 'positive': False}. Best is trial 487 with value: 0.1820445270030373.\n"
     ]
    }
   ],
   "source": [
    "def objective(trial):    \n",
    "    params = {\n",
    "        \"random_state\": CFG.seed,\n",
    "        \"alpha\": trial.suggest_float(\"alpha\", 0, 100),\n",
    "        \"tol\": trial.suggest_float(\"tol\", 1e-6, 1e-2),\n",
    "        \"fit_intercept\": trial.suggest_categorical(\"fit_intercept\", [True, False]),\n",
    "        \"positive\": trial.suggest_categorical(\"positive\", [True, False])\n",
    "    }\n",
    "\n",
    "    trainer = Trainer(\n",
    "        Ridge(**params),\n",
    "        cv=KFold(n_splits=5, shuffle=False),\n",
    "        metric=pearsonr,\n",
    "        task=\"regression\",\n",
    "        verbose=False\n",
    "    )\n",
    "    trainer.fit(X, y)\n",
    "    \n",
    "    return pearsonr(trainer.oof_preds, y)\n",
    "\n",
    "if CFG.run_optuna:\n",
    "    sampler = optuna.samplers.TPESampler(seed=CFG.seed, multivariate=True, n_startup_trials=CFG.n_optuna_trials // 10)\n",
    "    study = optuna.create_study(direction=\"maximize\", sampler=sampler)\n",
    "    study.optimize(objective, n_trials=CFG.n_optuna_trials, n_jobs=-1, catch=(ValueError,))\n",
    "    best_params = study.best_params\n",
    "\n",
    "    ridge_params = {\n",
    "        \"random_state\": CFG.seed,\n",
    "        \"alpha\": best_params[\"alpha\"],\n",
    "        \"tol\": best_params[\"tol\"],\n",
    "        \"fit_intercept\": best_params[\"fit_intercept\"],\n",
    "        \"positive\": best_params[\"positive\"]\n",
    "    }\n",
    "else:\n",
    "    ridge_params = {\n",
    "        \"random_state\": CFG.seed\n",
    "    }"
   ]
  },
  {
   "cell_type": "code",
   "execution_count": 18,
   "id": "9039a146",
   "metadata": {
    "execution": {
     "iopub.execute_input": "2025-06-06T13:14:19.870702Z",
     "iopub.status.busy": "2025-06-06T13:14:19.870299Z",
     "iopub.status.idle": "2025-06-06T13:14:21.102124Z",
     "shell.execute_reply": "2025-06-06T13:14:21.100949Z"
    },
    "papermill": {
     "duration": 1.266261,
     "end_time": "2025-06-06T13:14:21.103847",
     "exception": false,
     "start_time": "2025-06-06T13:14:19.837586",
     "status": "completed"
    },
    "tags": []
   },
   "outputs": [
    {
     "name": "stdout",
     "output_type": "stream",
     "text": [
      "Training Ridge\n",
      "\n",
      "--- Fold 0 - pearsonr: 0.258567 - Time: 0.07 s\n",
      "--- Fold 1 - pearsonr: 0.169228 - Time: 0.07 s\n",
      "--- Fold 2 - pearsonr: 0.128389 - Time: 0.07 s\n",
      "--- Fold 3 - pearsonr: 0.210276 - Time: 0.07 s\n",
      "--- Fold 4 - pearsonr: 0.159797 - Time: 0.07 s\n",
      "\n",
      "------ Overall pearsonr: 0.182045 - Mean pearsonr: 0.185252 ± 0.045032 - Time: 1.15 s\n"
     ]
    }
   ],
   "source": [
    "ridge_trainer = Trainer(\n",
    "    Ridge(**ridge_params),\n",
    "    cv=KFold(n_splits=5, shuffle=False),\n",
    "    metric=pearsonr,\n",
    "    task=\"regression\",\n",
    "    metric_precision=6\n",
    ")\n",
    "\n",
    "ridge_trainer.fit(X, y)\n",
    "\n",
    "fold_scores[\"Ridge (ensemble)\"] = ridge_trainer.fold_scores\n",
    "overall_scores[\"Ridge (ensemble)\"] = [pearsonr(ridge_trainer.oof_preds, y)]\n",
    "ridge_test_preds = ridge_trainer.predict(X_test)"
   ]
  },
  {
   "cell_type": "code",
   "execution_count": 19,
   "id": "f68fcc96",
   "metadata": {
    "execution": {
     "iopub.execute_input": "2025-06-06T13:14:21.168233Z",
     "iopub.status.busy": "2025-06-06T13:14:21.167810Z",
     "iopub.status.idle": "2025-06-06T13:14:21.452434Z",
     "shell.execute_reply": "2025-06-06T13:14:21.451234Z"
    },
    "papermill": {
     "duration": 0.318618,
     "end_time": "2025-06-06T13:14:21.454029",
     "exception": false,
     "start_time": "2025-06-06T13:14:21.135411",
     "status": "completed"
    },
    "tags": []
   },
   "outputs": [
    {
     "data": {
      "image/png": "[encoded data removed]",
      "text/plain": [
       "<Figure size 1000x200 with 1 Axes>"
      ]
     },
     "metadata": {},
     "output_type": "display_data"
    }
   ],
   "source": [
    "ridge_coeffs = np.zeros((1, X.shape[1]))\n",
    "for m in ridge_trainer.estimators:\n",
    "    ridge_coeffs += m.coef_\n",
    "ridge_coeffs = ridge_coeffs / len(ridge_trainer.estimators)\n",
    "\n",
    "plot_weights(ridge_coeffs, \"Ridge Coefficients\")"
   ]
  },
  {
   "cell_type": "markdown",
   "id": "36f6220c",
   "metadata": {
    "papermill": {
     "duration": 0.031638,
     "end_time": "2025-06-06T13:14:21.517970",
     "exception": false,
     "start_time": "2025-06-06T13:14:21.486332",
     "status": "completed"
    },
    "tags": []
   },
   "source": [
    "# Submission"
   ]
  },
  {
   "cell_type": "code",
   "execution_count": 20,
   "id": "345a6a40",
   "metadata": {
    "execution": {
     "iopub.execute_input": "2025-06-06T13:14:21.583962Z",
     "iopub.status.busy": "2025-06-06T13:14:21.583575Z",
     "iopub.status.idle": "2025-06-06T13:14:23.299008Z",
     "shell.execute_reply": "2025-06-06T13:14:23.296528Z"
    },
    "papermill": {
     "duration": 1.750921,
     "end_time": "2025-06-06T13:14:23.300819",
     "exception": false,
     "start_time": "2025-06-06T13:14:21.549898",
     "status": "completed"
    },
    "tags": []
   },
   "outputs": [
    {
     "data": {
      "text/html": [
       "<div>\n",
       "<style scoped>\n",
       "    .dataframe tbody tr th:only-of-type {\n",
       "        vertical-align: middle;\n",
       "    }\n",
       "\n",
       "    .dataframe tbody tr th {\n",
       "        vertical-align: top;\n",
       "    }\n",
       "\n",
       "    .dataframe thead th {\n",
       "        text-align: right;\n",
       "    }\n",
       "</style>\n",
       "<table border=\"1\" class=\"dataframe\">\n",
       "  <thead>\n",
       "    <tr style=\"text-align: right;\">\n",
       "      <th></th>\n",
       "      <th>ID</th>\n",
       "      <th>prediction</th>\n",
       "    </tr>\n",
       "  </thead>\n",
       "  <tbody>\n",
       "    <tr>\n",
       "      <th>0</th>\n",
       "      <td>1</td>\n",
       "      <td>0.134222</td>\n",
       "    </tr>\n",
       "    <tr>\n",
       "      <th>1</th>\n",
       "      <td>2</td>\n",
       "      <td>-0.040737</td>\n",
       "    </tr>\n",
       "    <tr>\n",
       "      <th>2</th>\n",
       "      <td>3</td>\n",
       "      <td>0.158986</td>\n",
       "    </tr>\n",
       "    <tr>\n",
       "      <th>3</th>\n",
       "      <td>4</td>\n",
       "      <td>-0.126813</td>\n",
       "    </tr>\n",
       "    <tr>\n",
       "      <th>4</th>\n",
       "      <td>5</td>\n",
       "      <td>0.193109</td>\n",
       "    </tr>\n",
       "  </tbody>\n",
       "</table>\n",
       "</div>"
      ],
      "text/plain": [
       "   ID  prediction\n",
       "0   1    0.134222\n",
       "1   2   -0.040737\n",
       "2   3    0.158986\n",
       "3   4   -0.126813\n",
       "4   5    0.193109"
      ]
     },
     "execution_count": 20,
     "metadata": {},
     "output_type": "execute_result"
    }
   ],
   "source": [
    "sub = pd.read_csv(CFG.sample_sub_path)\n",
    "sub[\"prediction\"] = ridge_test_preds\n",
    "sub.to_csv(f\"sub_ridge_{overall_scores['Ridge (ensemble)'][0]:.6f}.csv\", index=False)\n",
    "sub.head()"
   ]
  },
  {
   "cell_type": "markdown",
   "id": "c08069ab",
   "metadata": {
    "papermill": {
     "duration": 0.031761,
     "end_time": "2025-06-06T13:14:23.365096",
     "exception": false,
     "start_time": "2025-06-06T13:14:23.333335",
     "status": "completed"
    },
    "tags": []
   },
   "source": [
    "# Results"
   ]
  },
  {
   "cell_type": "code",
   "execution_count": 21,
   "id": "355d376c",
   "metadata": {
    "execution": {
     "iopub.execute_input": "2025-06-06T13:14:23.430455Z",
     "iopub.status.busy": "2025-06-06T13:14:23.430143Z",
     "iopub.status.idle": "2025-06-06T13:14:23.825511Z",
     "shell.execute_reply": "2025-06-06T13:14:23.824370Z"
    },
    "papermill": {
     "duration": 0.430286,
     "end_time": "2025-06-06T13:14:23.827177",
     "exception": false,
     "start_time": "2025-06-06T13:14:23.396891",
     "status": "completed"
    },
    "tags": []
   },
   "outputs": [
    {
     "data": {
      "image/png": "[encoded data removed]",
      "text/plain": [
       "<Figure size 1500x250 with 2 Axes>"
      ]
     },
     "metadata": {},
     "output_type": "display_data"
    }
   ],
   "source": [
    "fold_scores = pd.DataFrame(fold_scores)\n",
    "overall_scores = pd.DataFrame(overall_scores).transpose().sort_values(by=0, ascending=False)\n",
    "order = overall_scores.index.tolist()\n",
    "\n",
    "min_score = overall_scores.values.flatten().min()\n",
    "max_score = overall_scores.values.flatten().max()\n",
    "padding = (max_score - min_score) * 0.5\n",
    "lower_limit = min_score - padding\n",
    "upper_limit = max_score + padding\n",
    "\n",
    "fig, axs = plt.subplots(1, 2, figsize=(15, fold_scores.shape[1] * 0.5))\n",
    "\n",
    "boxplot = sns.boxplot(data=fold_scores, order=order, ax=axs[0], orient=\"h\", color=\"grey\")\n",
    "axs[0].set_title(f\"Fold Score\")\n",
    "axs[0].set_xlabel(\"\")\n",
    "axs[0].set_ylabel(\"\")\n",
    "\n",
    "barplot = sns.barplot(x=overall_scores.values.flatten(), y=overall_scores.index, ax=axs[1], color=\"grey\")\n",
    "axs[1].set_title(f\"Overall Score\")\n",
    "axs[1].set_xlabel(\"\")\n",
    "axs[1].set_xlim(left=lower_limit, right=upper_limit)\n",
    "axs[1].set_ylabel(\"\")\n",
    "\n",
    "for i, (score, model) in enumerate(zip(overall_scores.values.flatten(), overall_scores.index)):\n",
    "    color = \"cyan\" if \"ensemble\" in model.lower() else \"grey\"\n",
    "    barplot.patches[i].set_facecolor(color)\n",
    "    boxplot.patches[i].set_facecolor(color)\n",
    "    barplot.text(score, i, round(score, 6), va=\"center\")\n",
    "\n",
    "plt.tight_layout()\n",
    "plt.show()"
   ]
  }
 ],
 "metadata": {
  "kaggle": {
   "accelerator": "none",
   "dataSources": [
    {
     "databundleVersionId": 11418275,
     "sourceId": 96164,
     "sourceType": "competition"
    },
    {
     "sourceId": 243952999,
     "sourceType": "kernelVersion"
    }
   ],
   "dockerImageVersionId": 31040,
   "isGpuEnabled": false,
   "isInternetEnabled": true,
   "language": "python",
   "sourceType": "notebook"
  },
  "kernelspec": {
   "display_name": "Python 3",
   "language": "python",
   "name": "python3"
  },
  "language_info": {
   "codemirror_mode": {
    "name": "ipython",
    "version": 3
   },
   "file_extension": ".py",
   "mimetype": "text/x-python",
   "name": "python",
   "nbconvert_exporter": "python",
   "pygments_lexer": "ipython3",
   "version": "3.11.11"
  },
  "papermill": {
   "default_parameters": {},
   "duration": 886.047173,
   "end_time": "2025-06-06T13:14:26.719233",
   "environment_variables": {},
   "exception": null,
   "input_path": "__notebook__.ipynb",
   "output_path": "__notebook__.ipynb",
   "parameters": {},
   "start_time": "2025-06-06T12:59:40.672060",
   "version": "2.6.0"
  }
 },
 "nbformat": 4,
 "nbformat_minor": 5
}
