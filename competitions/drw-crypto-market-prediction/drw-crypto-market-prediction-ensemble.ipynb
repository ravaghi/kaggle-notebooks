{
 "cells": [
  {
   "cell_type": "code",
   "execution_count": 1,
   "id": "2341251d",
   "metadata": {
    "_kg_hide-output": true,
    "execution": {
     "iopub.execute_input": "2025-05-24T09:28:23.663058Z",
     "iopub.status.busy": "2025-05-24T09:28:23.662740Z",
     "iopub.status.idle": "2025-05-24T09:28:33.603327Z",
     "shell.execute_reply": "2025-05-24T09:28:33.601465Z"
    },
    "papermill": {
     "duration": 9.948495,
     "end_time": "2025-05-24T09:28:33.605330",
     "exception": false,
     "start_time": "2025-05-24T09:28:23.656835",
     "status": "completed"
    },
    "scrolled": true,
    "tags": []
   },
   "outputs": [
    {
     "name": "stdout",
     "output_type": "stream",
     "text": [
      "Collecting scikit-learn==1.5.2\r\n",
      "  Downloading scikit_learn-1.5.2-cp311-cp311-manylinux_2_17_x86_64.manylinux2014_x86_64.whl.metadata (13 kB)\r\n",
      "Requirement already satisfied: numpy>=1.19.5 in /usr/local/lib/python3.11/dist-packages (from scikit-learn==1.5.2) (1.26.4)\r\n",
      "Requirement already satisfied: scipy>=1.6.0 in /usr/local/lib/python3.11/dist-packages (from scikit-learn==1.5.2) (1.15.2)\r\n",
      "Requirement already satisfied: joblib>=1.2.0 in /usr/local/lib/python3.11/dist-packages (from scikit-learn==1.5.2) (1.5.0)\r\n",
      "Requirement already satisfied: threadpoolctl>=3.1.0 in /usr/local/lib/python3.11/dist-packages (from scikit-learn==1.5.2) (3.6.0)\r\n",
      "Requirement already satisfied: mkl_fft in /usr/local/lib/python3.11/dist-packages (from numpy>=1.19.5->scikit-learn==1.5.2) (1.3.8)\r\n",
      "Requirement already satisfied: mkl_random in /usr/local/lib/python3.11/dist-packages (from numpy>=1.19.5->scikit-learn==1.5.2) (1.2.4)\r\n",
      "Requirement already satisfied: mkl_umath in /usr/local/lib/python3.11/dist-packages (from numpy>=1.19.5->scikit-learn==1.5.2) (0.1.1)\r\n",
      "Requirement already satisfied: mkl in /usr/local/lib/python3.11/dist-packages (from numpy>=1.19.5->scikit-learn==1.5.2) (2025.1.0)\r\n",
      "Requirement already satisfied: tbb4py in /usr/local/lib/python3.11/dist-packages (from numpy>=1.19.5->scikit-learn==1.5.2) (2022.1.0)\r\n",
      "Requirement already satisfied: mkl-service in /usr/local/lib/python3.11/dist-packages (from numpy>=1.19.5->scikit-learn==1.5.2) (2.4.1)\r\n",
      "Requirement already satisfied: intel-openmp<2026,>=2024 in /usr/local/lib/python3.11/dist-packages (from mkl->numpy>=1.19.5->scikit-learn==1.5.2) (2024.2.0)\r\n",
      "Requirement already satisfied: tbb==2022.* in /usr/local/lib/python3.11/dist-packages (from mkl->numpy>=1.19.5->scikit-learn==1.5.2) (2022.1.0)\r\n",
      "Requirement already satisfied: tcmlib==1.* in /usr/local/lib/python3.11/dist-packages (from tbb==2022.*->mkl->numpy>=1.19.5->scikit-learn==1.5.2) (1.3.0)\r\n",
      "Requirement already satisfied: intel-cmplr-lib-rt in /usr/local/lib/python3.11/dist-packages (from mkl_umath->numpy>=1.19.5->scikit-learn==1.5.2) (2024.2.0)\r\n",
      "Requirement already satisfied: intel-cmplr-lib-ur==2024.2.0 in /usr/local/lib/python3.11/dist-packages (from intel-openmp<2026,>=2024->mkl->numpy>=1.19.5->scikit-learn==1.5.2) (2024.2.0)\r\n",
      "Downloading scikit_learn-1.5.2-cp311-cp311-manylinux_2_17_x86_64.manylinux2014_x86_64.whl (13.3 MB)\r\n",
      "\u001b[2K   \u001b[90m━━━━━━━━━━━━━━━━━━━━━━━━━━━━━━━━━━━━━━━━\u001b[0m \u001b[32m13.3/13.3 MB\u001b[0m \u001b[31m76.0 MB/s\u001b[0m eta \u001b[36m0:00:00\u001b[0m\r\n",
      "\u001b[?25hInstalling collected packages: scikit-learn\r\n",
      "  Attempting uninstall: scikit-learn\r\n",
      "    Found existing installation: scikit-learn 1.2.2\r\n",
      "    Uninstalling scikit-learn-1.2.2:\r\n",
      "      Successfully uninstalled scikit-learn-1.2.2\r\n",
      "\u001b[31mERROR: pip's dependency resolver does not currently take into account all the packages that are installed. This behaviour is the source of the following dependency conflicts.\r\n",
      "cesium 0.12.4 requires numpy<3.0,>=2.0, but you have numpy 1.26.4 which is incompatible.\u001b[0m\u001b[31m\r\n",
      "\u001b[0mSuccessfully installed scikit-learn-1.5.2\r\n"
     ]
    }
   ],
   "source": [
    "!pip install scikit-learn==1.5.2"
   ]
  },
  {
   "cell_type": "markdown",
   "id": "ad46dfb7",
   "metadata": {
    "papermill": {
     "duration": 0.004584,
     "end_time": "2025-05-24T09:28:33.615072",
     "exception": false,
     "start_time": "2025-05-24T09:28:33.610488",
     "status": "completed"
    },
    "tags": []
   },
   "source": [
    "# Imports and configs"
   ]
  },
  {
   "cell_type": "code",
   "execution_count": 2,
   "id": "139be7b5",
   "metadata": {
    "_kg_hide-output": true,
    "execution": {
     "iopub.execute_input": "2025-05-24T09:28:33.625959Z",
     "iopub.status.busy": "2025-05-24T09:28:33.625537Z",
     "iopub.status.idle": "2025-05-24T09:28:43.641815Z",
     "shell.execute_reply": "2025-05-24T09:28:43.640831Z"
    },
    "papermill": {
     "duration": 10.023958,
     "end_time": "2025-05-24T09:28:43.643567",
     "exception": false,
     "start_time": "2025-05-24T09:28:33.619609",
     "status": "completed"
    },
    "tags": []
   },
   "outputs": [],
   "source": [
    "from sklearn.model_selection import KFold\n",
    "from sklearn.linear_model import Ridge\n",
    "from lightgbm import LGBMRegressor\n",
    "from scipy.stats import pearsonr\n",
    "from xgboost import XGBRegressor\n",
    "from sklearn.base import clone\n",
    "import matplotlib.pyplot as plt\n",
    "import seaborn as sns\n",
    "import pandas as pd\n",
    "import numpy as np\n",
    "import warnings\n",
    "import optuna\n",
    "import gc\n",
    "\n",
    "warnings.filterwarnings(\"ignore\")"
   ]
  },
  {
   "cell_type": "code",
   "execution_count": 3,
   "id": "b9ed2c42",
   "metadata": {
    "execution": {
     "iopub.execute_input": "2025-05-24T09:28:43.654870Z",
     "iopub.status.busy": "2025-05-24T09:28:43.654238Z",
     "iopub.status.idle": "2025-05-24T09:28:43.659644Z",
     "shell.execute_reply": "2025-05-24T09:28:43.658664Z"
    },
    "papermill": {
     "duration": 0.012751,
     "end_time": "2025-05-24T09:28:43.661332",
     "exception": false,
     "start_time": "2025-05-24T09:28:43.648581",
     "status": "completed"
    },
    "tags": []
   },
   "outputs": [],
   "source": [
    "class CFG:\n",
    "    train_path = \"/kaggle/input/drw-crypto-market-prediction/train.parquet\"\n",
    "    test_path = \"/kaggle/input/drw-crypto-market-prediction/test.parquet\"\n",
    "    sample_sub_path = \"/kaggle/input/drw-crypto-market-prediction/sample_submission.csv\"\n",
    "\n",
    "    target = \"label\"\n",
    "    n_folds = 5\n",
    "    seed = 42\n",
    "\n",
    "    run_optuna = True\n",
    "    n_optuna_trials = 250"
   ]
  },
  {
   "cell_type": "markdown",
   "id": "3457f8f9",
   "metadata": {
    "papermill": {
     "duration": 0.0045,
     "end_time": "2025-05-24T09:28:43.670566",
     "exception": false,
     "start_time": "2025-05-24T09:28:43.666066",
     "status": "completed"
    },
    "tags": []
   },
   "source": [
    "# Data loading and preprocessing"
   ]
  },
  {
   "cell_type": "code",
   "execution_count": 4,
   "id": "d686aec5",
   "metadata": {
    "_kg_hide-input": true,
    "execution": {
     "iopub.execute_input": "2025-05-24T09:28:43.681299Z",
     "iopub.status.busy": "2025-05-24T09:28:43.680677Z",
     "iopub.status.idle": "2025-05-24T09:28:43.690527Z",
     "shell.execute_reply": "2025-05-24T09:28:43.689662Z"
    },
    "papermill": {
     "duration": 0.017076,
     "end_time": "2025-05-24T09:28:43.692076",
     "exception": false,
     "start_time": "2025-05-24T09:28:43.675000",
     "status": "completed"
    },
    "tags": []
   },
   "outputs": [],
   "source": [
    "def reduce_mem_usage(dataframe, dataset):    \n",
    "    print('Reducing memory usage for:', dataset)\n",
    "    initial_mem_usage = dataframe.memory_usage().sum() / 1024**2\n",
    "    \n",
    "    for col in dataframe.columns:\n",
    "        col_type = dataframe[col].dtype\n",
    "\n",
    "        c_min = dataframe[col].min()\n",
    "        c_max = dataframe[col].max()\n",
    "        if str(col_type)[:3] == 'int':\n",
    "            if c_min > np.iinfo(np.int8).min and c_max < np.iinfo(np.int8).max:\n",
    "                dataframe[col] = dataframe[col].astype(np.int8)\n",
    "            elif c_min > np.iinfo(np.int16).min and c_max < np.iinfo(np.int16).max:\n",
    "                dataframe[col] = dataframe[col].astype(np.int16)\n",
    "            elif c_min > np.iinfo(np.int32).min and c_max < np.iinfo(np.int32).max:\n",
    "                dataframe[col] = dataframe[col].astype(np.int32)\n",
    "            elif c_min > np.iinfo(np.int64).min and c_max < np.iinfo(np.int64).max:\n",
    "                dataframe[col] = dataframe[col].astype(np.int64)\n",
    "        else:\n",
    "            if c_min > np.finfo(np.float16).min and c_max < np.finfo(np.float16).max:\n",
    "                dataframe[col] = dataframe[col].astype(np.float16)\n",
    "            elif c_min > np.finfo(np.float32).min and c_max < np.finfo(np.float32).max:\n",
    "                dataframe[col] = dataframe[col].astype(np.float32)\n",
    "            else:\n",
    "                dataframe[col] = dataframe[col].astype(np.float64)\n",
    "\n",
    "    final_mem_usage = dataframe.memory_usage().sum() / 1024**2\n",
    "    print('--- Memory usage before: {:.2f} MB'.format(initial_mem_usage))\n",
    "    print('--- Memory usage after: {:.2f} MB'.format(final_mem_usage))\n",
    "    print('--- Decreased memory usage by {:.1f}%\\n'.format(100 * (initial_mem_usage - final_mem_usage) / initial_mem_usage))\n",
    "\n",
    "    return dataframe"
   ]
  },
  {
   "cell_type": "code",
   "execution_count": 5,
   "id": "9f84573d",
   "metadata": {
    "execution": {
     "iopub.execute_input": "2025-05-24T09:28:43.702729Z",
     "iopub.status.busy": "2025-05-24T09:28:43.702352Z",
     "iopub.status.idle": "2025-05-24T09:28:43.708023Z",
     "shell.execute_reply": "2025-05-24T09:28:43.707102Z"
    },
    "papermill": {
     "duration": 0.012692,
     "end_time": "2025-05-24T09:28:43.709591",
     "exception": false,
     "start_time": "2025-05-24T09:28:43.696899",
     "status": "completed"
    },
    "tags": []
   },
   "outputs": [],
   "source": [
    "cols_to_drop = [\n",
    "    'X697', 'X698', 'X699', 'X700', 'X701', 'X702', 'X703', 'X704', 'X705', 'X706', \n",
    "    'X707', 'X708', 'X709', 'X710', 'X711', 'X712', 'X713', 'X714', 'X715', 'X716',\n",
    "    'X717', 'X864', 'X867', 'X869', 'X870', 'X871', 'X872', 'X104', 'X110', 'X116',\n",
    "    'X122', 'X128', 'X134', 'X140', 'X146', 'X152', 'X158', 'X164', 'X170', 'X176',\n",
    "    'X182', 'X351', 'X357', 'X363', 'X369', 'X375', 'X381', 'X387', 'X393', 'X399',\n",
    "    'X405', 'X411', 'X417', 'X423', 'X429'\n",
    "]"
   ]
  },
  {
   "cell_type": "code",
   "execution_count": 6,
   "id": "9b144eac",
   "metadata": {
    "execution": {
     "iopub.execute_input": "2025-05-24T09:28:43.720520Z",
     "iopub.status.busy": "2025-05-24T09:28:43.720151Z",
     "iopub.status.idle": "2025-05-24T09:29:58.436082Z",
     "shell.execute_reply": "2025-05-24T09:29:58.435019Z"
    },
    "papermill": {
     "duration": 74.723597,
     "end_time": "2025-05-24T09:29:58.438005",
     "exception": false,
     "start_time": "2025-05-24T09:28:43.714408",
     "status": "completed"
    },
    "tags": []
   },
   "outputs": [
    {
     "name": "stdout",
     "output_type": "stream",
     "text": [
      "Reducing memory usage for: train\n",
      "--- Memory usage before: 3374.26 MB\n",
      "--- Memory usage after: 843.57 MB\n",
      "--- Decreased memory usage by 75.0%\n",
      "\n",
      "Reducing memory usage for: test\n",
      "--- Memory usage before: 3448.84 MB\n",
      "--- Memory usage after: 862.21 MB\n",
      "--- Decreased memory usage by 75.0%\n",
      "\n"
     ]
    }
   ],
   "source": [
    "train = pd.read_parquet(CFG.train_path).reset_index(drop=True)\n",
    "test = pd.read_parquet(CFG.test_path).reset_index(drop=True)\n",
    "\n",
    "train = train.drop(columns=cols_to_drop)\n",
    "test = test.drop(columns=[\"label\"] + cols_to_drop)\n",
    "\n",
    "train = reduce_mem_usage(train, \"train\")\n",
    "test = reduce_mem_usage(test, \"test\")\n",
    "\n",
    "X = train.drop(CFG.target, axis=1)\n",
    "y = train[CFG.target]\n",
    "X_test = test"
   ]
  },
  {
   "cell_type": "markdown",
   "id": "a705c02d",
   "metadata": {
    "papermill": {
     "duration": 0.004536,
     "end_time": "2025-05-24T09:29:58.447620",
     "exception": false,
     "start_time": "2025-05-24T09:29:58.443084",
     "status": "completed"
    },
    "tags": []
   },
   "source": [
    "# Training base models"
   ]
  },
  {
   "cell_type": "code",
   "execution_count": 7,
   "id": "d64e4dbc",
   "metadata": {
    "_kg_hide-input": true,
    "execution": {
     "iopub.execute_input": "2025-05-24T09:29:58.458429Z",
     "iopub.status.busy": "2025-05-24T09:29:58.458129Z",
     "iopub.status.idle": "2025-05-24T09:29:58.468869Z",
     "shell.execute_reply": "2025-05-24T09:29:58.467977Z"
    },
    "papermill": {
     "duration": 0.018079,
     "end_time": "2025-05-24T09:29:58.470467",
     "exception": false,
     "start_time": "2025-05-24T09:29:58.452388",
     "status": "completed"
    },
    "tags": []
   },
   "outputs": [],
   "source": [
    "class Trainer:\n",
    "    def __init__(self, model):\n",
    "        self.model = model\n",
    "\n",
    "    def fit_predict(self, X, y, X_test):\n",
    "        print(f\"Training {self.model.__class__.__name__}\\n\")\n",
    "\n",
    "        fold_scores = []\n",
    "        oof_preds = np.zeros(X.shape[0])\n",
    "        test_preds = np.zeros(X_test.shape[0])\n",
    "\n",
    "        split = KFold(n_splits=CFG.n_folds, shuffle=False).split(X, y)\n",
    "        for fold_idx, (train_idx, val_idx) in enumerate(split):\n",
    "\n",
    "            X_train, X_val = X.iloc[train_idx], X.iloc[val_idx]\n",
    "            y_train, y_val = y[train_idx], y[val_idx]\n",
    "\n",
    "            model = clone(self.model)\n",
    "            model.fit(X_train, y_train)\n",
    "\n",
    "            y_preds = model.predict(X_val)\n",
    "            oof_preds[val_idx] = y_preds\n",
    "            \n",
    "            temp_test_preds = model.predict(X_test)\n",
    "            test_preds += temp_test_preds / CFG.n_folds\n",
    "\n",
    "            fold_score = pearsonr(y_val, y_preds)[0]\n",
    "            fold_scores.append(fold_score)\n",
    "\n",
    "            print(f\"--- Fold {fold_idx} - Score: {fold_score:.6f}\")\n",
    "\n",
    "            del X_train, y_train, X_val, y_val, y_preds, model, temp_test_preds\n",
    "            gc.collect()\n",
    "\n",
    "        overall_score = pearsonr(y, oof_preds)[0]\n",
    "        mean_score = np.mean(fold_scores)\n",
    "        std_score = np.std(fold_scores)\n",
    "        \n",
    "        print(f\"\\n------ Overall Score: {overall_score:.6f} - Mean Score: {mean_score:.6f} ± {std_score:.6f}\")\n",
    "        \n",
    "        return oof_preds, test_preds, fold_scores\n",
    "    \n",
    "    def tune(self, X, y):\n",
    "        fold_scores = []\n",
    "        \n",
    "        split = KFold(n_splits=CFG.n_folds, shuffle=False).split(X, y)\n",
    "        for train_idx, val_idx in split:\n",
    "            X_train, X_val = X.iloc[train_idx], X.iloc[val_idx]\n",
    "            y_train, y_val = y[train_idx], y[val_idx]\n",
    "\n",
    "            model = clone(self.model)\n",
    "            model.fit(X_train, y_train)\n",
    "\n",
    "            y_preds = model.predict(X_val)\n",
    "            fold_score = pearsonr(y_val, y_preds)[0]\n",
    "            fold_scores.append(fold_score)\n",
    "\n",
    "            del X_train, y_train, X_val, y_val, y_preds, model\n",
    "            gc.collect()\n",
    "\n",
    "        return np.mean(fold_scores)"
   ]
  },
  {
   "cell_type": "code",
   "execution_count": 8,
   "id": "8d47a6a7",
   "metadata": {
    "_kg_hide-input": true,
    "_kg_hide-output": true,
    "execution": {
     "iopub.execute_input": "2025-05-24T09:29:58.482574Z",
     "iopub.status.busy": "2025-05-24T09:29:58.482216Z",
     "iopub.status.idle": "2025-05-24T09:29:58.489748Z",
     "shell.execute_reply": "2025-05-24T09:29:58.488690Z"
    },
    "papermill": {
     "duration": 0.015831,
     "end_time": "2025-05-24T09:29:58.491399",
     "exception": false,
     "start_time": "2025-05-24T09:29:58.475568",
     "status": "completed"
    },
    "tags": []
   },
   "outputs": [],
   "source": [
    "lgbm_params = {\n",
    "    \"boosting_type\": \"gbdt\",\n",
    "    \"colsample_bytree\": 0.5242042724303907,\n",
    "    \"learning_rate\": 0.014470794293130388,\n",
    "    \"min_child_samples\": 47,\n",
    "    \"min_child_weight\": 0.1936457311991661,\n",
    "    \"n_estimators\": 441,\n",
    "    \"n_jobs\": -1,\n",
    "    \"num_leaves\": 65,\n",
    "    \"random_state\": 42,\n",
    "    \"reg_alpha\": 76.69015407123774,\n",
    "    \"reg_lambda\": 78.57981723239948,\n",
    "    \"subsample\": 0.35497610282716086,\n",
    "    \"verbose\": -1\n",
    "}\n",
    "\n",
    "lgbm_goss_params = {\n",
    "    \"boosting_type\": \"goss\",\n",
    "    \"colsample_bytree\": 0.32266516869045214,\n",
    "    \"learning_rate\": 0.013684657681610528,\n",
    "    \"min_child_samples\": 47,\n",
    "    \"min_child_weight\": 0.652800548618323,\n",
    "    \"n_estimators\": 268,\n",
    "    \"n_jobs\": -1,\n",
    "    \"num_leaves\": 25,\n",
    "    \"random_state\": 42,\n",
    "    \"reg_alpha\": 24.43093150663448,\n",
    "    \"reg_lambda\": 39.81794248056326,\n",
    "    \"subsample\": 0.21026644887863555,\n",
    "    \"verbose\": -1\n",
    "}\n",
    "\n",
    "xgb_params = {\n",
    "    \"colsample_bylevel\": 0.4634967322919854,\n",
    "    \"colsample_bynode\": 0.6046331585629835,\n",
    "    \"colsample_bytree\": 0.11495541333509408,\n",
    "    \"gamma\": 1.0397769239502863,\n",
    "    \"learning_rate\": 0.09622196913585954,\n",
    "    \"max_depth\": 40,\n",
    "    \"max_leaves\": 19,\n",
    "    \"min_child_weight\": 76,\n",
    "    \"n_estimators\": 679,\n",
    "    \"n_jobs\": -1,\n",
    "    \"random_state\": 42,\n",
    "    \"reg_alpha\": 65.41659225037377,\n",
    "    \"reg_lambda\": 19.907991015311545,\n",
    "    \"subsample\": 0.014465324175810368,\n",
    "    \"verbosity\": 0\n",
    "}"
   ]
  },
  {
   "cell_type": "code",
   "execution_count": 9,
   "id": "d6f8c8a2",
   "metadata": {
    "execution": {
     "iopub.execute_input": "2025-05-24T09:29:58.503123Z",
     "iopub.status.busy": "2025-05-24T09:29:58.502483Z",
     "iopub.status.idle": "2025-05-24T09:29:58.506743Z",
     "shell.execute_reply": "2025-05-24T09:29:58.505884Z"
    },
    "papermill": {
     "duration": 0.011644,
     "end_time": "2025-05-24T09:29:58.508252",
     "exception": false,
     "start_time": "2025-05-24T09:29:58.496608",
     "status": "completed"
    },
    "tags": []
   },
   "outputs": [],
   "source": [
    "scores = {}\n",
    "oof_preds = {}\n",
    "test_preds = {}"
   ]
  },
  {
   "cell_type": "markdown",
   "id": "7cc0e1d7",
   "metadata": {
    "papermill": {
     "duration": 0.004707,
     "end_time": "2025-05-24T09:29:58.518113",
     "exception": false,
     "start_time": "2025-05-24T09:29:58.513406",
     "status": "completed"
    },
    "tags": []
   },
   "source": [
    "## LightGBM (gbdt)"
   ]
  },
  {
   "cell_type": "code",
   "execution_count": 10,
   "id": "ef5aff3b",
   "metadata": {
    "execution": {
     "iopub.execute_input": "2025-05-24T09:29:58.530097Z",
     "iopub.status.busy": "2025-05-24T09:29:58.529370Z",
     "iopub.status.idle": "2025-05-24T09:53:03.608730Z",
     "shell.execute_reply": "2025-05-24T09:53:03.607601Z"
    },
    "papermill": {
     "duration": 1385.087591,
     "end_time": "2025-05-24T09:53:03.610994",
     "exception": false,
     "start_time": "2025-05-24T09:29:58.523403",
     "status": "completed"
    },
    "tags": []
   },
   "outputs": [
    {
     "name": "stdout",
     "output_type": "stream",
     "text": [
      "Training LGBMRegressor\n",
      "\n",
      "--- Fold 0 - Score: 0.172176\n",
      "--- Fold 1 - Score: 0.108129\n",
      "--- Fold 2 - Score: 0.047617\n",
      "--- Fold 3 - Score: 0.131234\n",
      "--- Fold 4 - Score: 0.065890\n",
      "\n",
      "------ Overall Score: 0.094881 - Mean Score: 0.105009 ± 0.044795\n"
     ]
    }
   ],
   "source": [
    "lgbm_trainer = Trainer(\n",
    "    LGBMRegressor(**lgbm_params)\n",
    ")\n",
    "\n",
    "oof_preds[\"LightGBM (gbdt)\"], test_preds[\"LightGBM (gbdt)\"], scores[\"LightGBM (gbdt)\"] = lgbm_trainer.fit_predict(X, y, X_test)"
   ]
  },
  {
   "cell_type": "markdown",
   "id": "540bc2ef",
   "metadata": {
    "papermill": {
     "duration": 0.0058,
     "end_time": "2025-05-24T09:53:03.623067",
     "exception": false,
     "start_time": "2025-05-24T09:53:03.617267",
     "status": "completed"
    },
    "tags": []
   },
   "source": [
    "## LightGBM (goss)"
   ]
  },
  {
   "cell_type": "code",
   "execution_count": 11,
   "id": "6ca82e42",
   "metadata": {
    "execution": {
     "iopub.execute_input": "2025-05-24T09:53:03.636182Z",
     "iopub.status.busy": "2025-05-24T09:53:03.635487Z",
     "iopub.status.idle": "2025-05-24T10:02:14.004501Z",
     "shell.execute_reply": "2025-05-24T10:02:14.003338Z"
    },
    "papermill": {
     "duration": 550.377529,
     "end_time": "2025-05-24T10:02:14.006266",
     "exception": false,
     "start_time": "2025-05-24T09:53:03.628737",
     "status": "completed"
    },
    "tags": []
   },
   "outputs": [
    {
     "name": "stdout",
     "output_type": "stream",
     "text": [
      "Training LGBMRegressor\n",
      "\n",
      "--- Fold 0 - Score: 0.139381\n",
      "--- Fold 1 - Score: 0.107386\n",
      "--- Fold 2 - Score: 0.060590\n",
      "--- Fold 3 - Score: 0.159686\n",
      "--- Fold 4 - Score: 0.078235\n",
      "\n",
      "------ Overall Score: 0.098311 - Mean Score: 0.109056 ± 0.036837\n"
     ]
    }
   ],
   "source": [
    "lgbm_goss_trainer = Trainer(LGBMRegressor(**lgbm_goss_params))\n",
    "\n",
    "oof_preds[\"LightGBM (goss)\"], test_preds[\"LightGBM (goss)\"], scores[\"LightGBM (goss)\"] = lgbm_goss_trainer.fit_predict(X, y, X_test)"
   ]
  },
  {
   "cell_type": "markdown",
   "id": "386d1c36",
   "metadata": {
    "papermill": {
     "duration": 0.006518,
     "end_time": "2025-05-24T10:02:14.020317",
     "exception": false,
     "start_time": "2025-05-24T10:02:14.013799",
     "status": "completed"
    },
    "tags": []
   },
   "source": [
    "## XGBoost"
   ]
  },
  {
   "cell_type": "code",
   "execution_count": 12,
   "id": "f58d693e",
   "metadata": {
    "execution": {
     "iopub.execute_input": "2025-05-24T10:02:14.033485Z",
     "iopub.status.busy": "2025-05-24T10:02:14.033168Z",
     "iopub.status.idle": "2025-05-24T10:55:08.815249Z",
     "shell.execute_reply": "2025-05-24T10:55:08.814152Z"
    },
    "papermill": {
     "duration": 3174.791446,
     "end_time": "2025-05-24T10:55:08.817375",
     "exception": false,
     "start_time": "2025-05-24T10:02:14.025929",
     "status": "completed"
    },
    "tags": []
   },
   "outputs": [
    {
     "name": "stdout",
     "output_type": "stream",
     "text": [
      "Training XGBRegressor\n",
      "\n",
      "--- Fold 0 - Score: 0.176297\n",
      "--- Fold 1 - Score: 0.099319\n",
      "--- Fold 2 - Score: 0.083288\n",
      "--- Fold 3 - Score: 0.118652\n",
      "--- Fold 4 - Score: 0.056673\n",
      "\n",
      "------ Overall Score: 0.106179 - Mean Score: 0.106846 ± 0.040229\n"
     ]
    }
   ],
   "source": [
    "xgb_trainer = Trainer(XGBRegressor(**xgb_params))\n",
    "\n",
    "oof_preds[\"XGBoost\"], test_preds[\"XGBoost\"], scores[\"XGBoost\"] = xgb_trainer.fit_predict(X, y, X_test)"
   ]
  },
  {
   "cell_type": "markdown",
   "id": "af664d94",
   "metadata": {
    "papermill": {
     "duration": 0.006336,
     "end_time": "2025-05-24T10:55:08.830352",
     "exception": false,
     "start_time": "2025-05-24T10:55:08.824016",
     "status": "completed"
    },
    "tags": []
   },
   "source": [
    "# Ensembling with Ridge"
   ]
  },
  {
   "cell_type": "code",
   "execution_count": 13,
   "id": "13eb7b40",
   "metadata": {
    "execution": {
     "iopub.execute_input": "2025-05-24T10:55:08.844844Z",
     "iopub.status.busy": "2025-05-24T10:55:08.844514Z",
     "iopub.status.idle": "2025-05-24T10:55:08.861526Z",
     "shell.execute_reply": "2025-05-24T10:55:08.860368Z"
    },
    "papermill": {
     "duration": 0.026911,
     "end_time": "2025-05-24T10:55:08.863541",
     "exception": false,
     "start_time": "2025-05-24T10:55:08.836630",
     "status": "completed"
    },
    "tags": []
   },
   "outputs": [],
   "source": [
    "X = pd.DataFrame(oof_preds)\n",
    "X_test = pd.DataFrame(test_preds)"
   ]
  },
  {
   "cell_type": "code",
   "execution_count": 14,
   "id": "2ab9741e",
   "metadata": {
    "_kg_hide-output": true,
    "execution": {
     "iopub.execute_input": "2025-05-24T10:55:08.877964Z",
     "iopub.status.busy": "2025-05-24T10:55:08.877610Z",
     "iopub.status.idle": "2025-05-24T10:59:07.180374Z",
     "shell.execute_reply": "2025-05-24T10:59:07.179326Z"
    },
    "papermill": {
     "duration": 238.312261,
     "end_time": "2025-05-24T10:59:07.182198",
     "exception": false,
     "start_time": "2025-05-24T10:55:08.869937",
     "status": "completed"
    },
    "scrolled": true,
    "tags": []
   },
   "outputs": [
    {
     "name": "stderr",
     "output_type": "stream",
     "text": [
      "[I 2025-05-24 10:55:08,883] A new study created in memory with name: no-name-64b49afc-8950-4a5c-914f-60d74bfc24e4\n",
      "[I 2025-05-24 10:55:12,175] Trial 0 finished with value: 0.1201501964339678 and parameters: {'alpha': 65.37045861777872, 'tol': 0.007638245851924652}. Best is trial 0 with value: 0.1201501964339678.\n",
      "[I 2025-05-24 10:55:12,338] Trial 1 finished with value: 0.12011859968648533 and parameters: {'alpha': 43.97397770128787, 'tol': 0.00023418442520732}. Best is trial 0 with value: 0.1201501964339678.\n",
      "[I 2025-05-24 10:55:12,553] Trial 3 finished with value: 0.12009397088280502 and parameters: {'alpha': 27.59146342211709, 'tol': 0.005242999917188533}. Best is trial 0 with value: 0.1201501964339678.\n",
      "[I 2025-05-24 10:55:12,710] Trial 2 finished with value: 0.12017216484963138 and parameters: {'alpha': 80.50507504353824, 'tol': 0.008709647809530544}. Best is trial 2 with value: 0.12017216484963138.\n",
      "[I 2025-05-24 10:55:17,472] Trial 5 finished with value: 0.12011350149898667 and parameters: {'alpha': 40.56181203319411, 'tol': 0.005082153210230922}. Best is trial 2 with value: 0.12017216484963138.\n",
      "[I 2025-05-24 10:55:17,741] Trial 4 finished with value: 0.12010088170656566 and parameters: {'alpha': 32.16271359696656, 'tol': 0.006605178104172491}. Best is trial 2 with value: 0.12017216484963138.\n",
      "[I 2025-05-24 10:55:18,251] Trial 6 finished with value: 0.12012988333808199 and parameters: {'alpha': 51.56543728962725, 'tol': 0.004306106092348297}. Best is trial 2 with value: 0.12017216484963138.\n",
      "[I 2025-05-24 10:55:18,600] Trial 7 finished with value: 0.12009075381405303 and parameters: {'alpha': 25.470257449337296, 'tol': 0.009144638794978645}. Best is trial 2 with value: 0.12017216484963138.\n",
      "[I 2025-05-24 10:55:21,911] Trial 8 finished with value: 0.12005795327234633 and parameters: {'alpha': 4.0845041812425436, 'tol': 0.006680074784678089}. Best is trial 2 with value: 0.12017216484963138.\n",
      "[I 2025-05-24 10:55:22,303] Trial 9 finished with value: 0.12006733827720897 and parameters: {'alpha': 10.158944552491677, 'tol': 0.006875836454016891}. Best is trial 2 with value: 0.12017216484963138.\n",
      "[I 2025-05-24 10:55:22,547] Trial 10 finished with value: 0.1201479787638903 and parameters: {'alpha': 63.85454028991715, 'tol': 0.00817027004329802}. Best is trial 2 with value: 0.12017216484963138.\n",
      "[I 2025-05-24 10:55:22,938] Trial 11 finished with value: 0.12013862602362749 and parameters: {'alpha': 57.48505403003343, 'tol': 0.0024816140099993473}. Best is trial 2 with value: 0.12017216484963138.\n",
      "[I 2025-05-24 10:55:26,032] Trial 12 finished with value: 0.12008710023863041 and parameters: {'alpha': 23.066422617850545, 'tol': 0.006381263524202073}. Best is trial 2 with value: 0.12017216484963138.\n",
      "[I 2025-05-24 10:55:26,568] Trial 13 finished with value: 0.12018884379041787 and parameters: {'alpha': 92.14069002965373, 'tol': 0.0009972353701084551}. Best is trial 13 with value: 0.12018884379041787.\n",
      "[I 2025-05-24 10:55:27,405] Trial 14 finished with value: 0.12019085358514796 and parameters: {'alpha': 93.55134739221997, 'tol': 0.009203166775568589}. Best is trial 14 with value: 0.12019085358514796.\n",
      "[I 2025-05-24 10:55:27,872] Trial 15 finished with value: 0.12016738677845358 and parameters: {'alpha': 77.19499697371, 'tol': 0.0062168543473259605}. Best is trial 14 with value: 0.12019085358514796.\n",
      "[I 2025-05-24 10:55:31,072] Trial 16 finished with value: 0.12019806834037423 and parameters: {'alpha': 98.63066483316231, 'tol': 0.00857970265875202}. Best is trial 16 with value: 0.12019806834037423.\n",
      "[I 2025-05-24 10:55:31,498] Trial 17 finished with value: 0.12019328065857846 and parameters: {'alpha': 95.2573673783542, 'tol': 0.00016349670038458373}. Best is trial 16 with value: 0.12019806834037423.\n",
      "[I 2025-05-24 10:55:32,100] Trial 18 finished with value: 0.1201843962319868 and parameters: {'alpha': 89.0255758444018, 'tol': 7.091330092290479e-05}. Best is trial 16 with value: 0.12019806834037423.\n",
      "[I 2025-05-24 10:55:32,527] Trial 19 finished with value: 0.12018205655812823 and parameters: {'alpha': 87.39047614127999, 'tol': 0.0005059862670465599}. Best is trial 16 with value: 0.12019806834037423.\n",
      "[I 2025-05-24 10:55:35,095] Trial 20 finished with value: 0.12019371184593679 and parameters: {'alpha': 95.56073846324061, 'tol': 0.008951375577966294}. Best is trial 16 with value: 0.12019806834037423.\n",
      "[I 2025-05-24 10:55:35,464] Trial 21 finished with value: 0.1201965657812288 and parameters: {'alpha': 97.57085177256427, 'tol': 0.004303053778151744}. Best is trial 16 with value: 0.12019806834037423.\n",
      "[I 2025-05-24 10:55:36,036] Trial 22 finished with value: 0.12019124947488466 and parameters: {'alpha': 93.82943796437677, 'tol': 0.004318748642257827}. Best is trial 16 with value: 0.12019806834037423.\n",
      "[I 2025-05-24 10:55:36,420] Trial 23 finished with value: 0.12005277307104081 and parameters: {'alpha': 0.7467076843869194, 'tol': 0.0010715045369695938}. Best is trial 16 with value: 0.12019806834037423.\n",
      "[I 2025-05-24 10:55:38,586] Trial 24 finished with value: 0.12019589717970622 and parameters: {'alpha': 97.09959751291099, 'tol': 0.005208403402018157}. Best is trial 16 with value: 0.12019806834037423.\n",
      "[I 2025-05-24 10:55:38,966] Trial 25 finished with value: 0.1201982696800602 and parameters: {'alpha': 98.7727570314314, 'tol': 0.005296104041666528}. Best is trial 25 with value: 0.1201982696800602.\n",
      "[I 2025-05-24 10:55:39,861] Trial 26 finished with value: 0.12019756963036025 and parameters: {'alpha': 98.27878934551427, 'tol': 0.007557182475217811}. Best is trial 25 with value: 0.1201982696800602.\n",
      "[I 2025-05-24 10:55:40,083] Trial 27 finished with value: 0.12019976255452583 and parameters: {'alpha': 99.82691587900948, 'tol': 0.008169622830339377}. Best is trial 27 with value: 0.12019976255452583.\n",
      "[I 2025-05-24 10:55:42,254] Trial 28 finished with value: 0.1201903165222175 and parameters: {'alpha': 93.17420577708359, 'tol': 0.006037625845009118}. Best is trial 27 with value: 0.12019976255452583.\n",
      "[I 2025-05-24 10:55:42,610] Trial 29 finished with value: 0.12019441584957018 and parameters: {'alpha': 96.05623976757168, 'tol': 0.006164793473289442}. Best is trial 27 with value: 0.12019976255452583.\n",
      "[I 2025-05-24 10:55:43,558] Trial 30 finished with value: 0.12019979531511674 and parameters: {'alpha': 99.85006062230794, 'tol': 0.00674162885531469}. Best is trial 30 with value: 0.12019979531511674.\n",
      "[I 2025-05-24 10:55:43,910] Trial 31 finished with value: 0.1201885357529654 and parameters: {'alpha': 91.92464526710098, 'tol': 0.006896607727465376}. Best is trial 30 with value: 0.12019979531511674.\n",
      "[I 2025-05-24 10:55:45,798] Trial 32 finished with value: 0.1201724606932439 and parameters: {'alpha': 80.71036287170341, 'tol': 0.007521993849386908}. Best is trial 30 with value: 0.12019979531511674.\n",
      "[I 2025-05-24 10:55:46,331] Trial 33 finished with value: 0.12016700479112181 and parameters: {'alpha': 76.93081250218435, 'tol': 0.009948949553768653}. Best is trial 30 with value: 0.12019979531511674.\n",
      "[I 2025-05-24 10:55:47,441] Trial 34 finished with value: 0.12019692396825073 and parameters: {'alpha': 97.82339994700573, 'tol': 0.0073560929683988835}. Best is trial 30 with value: 0.12019979531511674.\n",
      "[I 2025-05-24 10:55:47,815] Trial 35 finished with value: 0.12019542322520001 and parameters: {'alpha': 96.76566274121318, 'tol': 0.007355896644096312}. Best is trial 30 with value: 0.12019979531511674.\n",
      "[I 2025-05-24 10:55:49,477] Trial 36 finished with value: 0.12019347416210482 and parameters: {'alpha': 95.39350030741427, 'tol': 0.008057818869133336}. Best is trial 30 with value: 0.12019979531511674.\n",
      "[I 2025-05-24 10:55:49,822] Trial 37 finished with value: 0.12019535122768303 and parameters: {'alpha': 96.7149444445588, 'tol': 0.008331780373373352}. Best is trial 30 with value: 0.12019979531511674.\n",
      "[I 2025-05-24 10:55:51,129] Trial 38 finished with value: 0.12019962468240944 and parameters: {'alpha': 99.72951728023116, 'tol': 0.00867325568370466}. Best is trial 30 with value: 0.12019979531511674.\n",
      "[I 2025-05-24 10:55:51,500] Trial 39 finished with value: 0.12019255679708765 and parameters: {'alpha': 94.74827203746656, 'tol': 0.009168070167232307}. Best is trial 30 with value: 0.12019979531511674.\n",
      "[I 2025-05-24 10:55:53,175] Trial 40 finished with value: 0.12019769782064664 and parameters: {'alpha': 98.36922572320204, 'tol': 0.009069727230118375}. Best is trial 30 with value: 0.12019979531511674.\n",
      "[I 2025-05-24 10:55:53,342] Trial 41 finished with value: 0.12016329097962161 and parameters: {'alpha': 74.36572679002019, 'tol': 0.005480517626494675}. Best is trial 30 with value: 0.12019979531511674.\n",
      "[I 2025-05-24 10:55:54,808] Trial 42 finished with value: 0.12019942210338622 and parameters: {'alpha': 99.58642305434236, 'tol': 0.009926371104083651}. Best is trial 30 with value: 0.12019979531511674.\n",
      "[I 2025-05-24 10:55:55,176] Trial 43 finished with value: 0.12014790574008874 and parameters: {'alpha': 63.8046606498584, 'tol': 0.005682031657591035}. Best is trial 30 with value: 0.12019979531511674.\n",
      "[I 2025-05-24 10:55:56,837] Trial 45 finished with value: 0.12019959088241841 and parameters: {'alpha': 99.70564090863603, 'tol': 0.006912770412835383}. Best is trial 30 with value: 0.12019979531511674.\n",
      "[I 2025-05-24 10:55:57,024] Trial 44 finished with value: 0.1201995484216923 and parameters: {'alpha': 99.67564733123896, 'tol': 0.009649055797975384}. Best is trial 30 with value: 0.12019979531511674.\n",
      "[I 2025-05-24 10:55:58,631] Trial 46 finished with value: 0.12010326332471458 and parameters: {'alpha': 33.742679196154754, 'tol': 0.0014871466609219482}. Best is trial 30 with value: 0.12019979531511674.\n",
      "[I 2025-05-24 10:55:58,847] Trial 47 finished with value: 0.1201908164590191 and parameters: {'alpha': 93.52527204660794, 'tol': 0.00949447661285335}. Best is trial 30 with value: 0.12019979531511674.\n",
      "[I 2025-05-24 10:56:00,489] Trial 49 finished with value: 0.12019587530001145 and parameters: {'alpha': 97.08417941825593, 'tol': 0.00736046317057857}. Best is trial 30 with value: 0.12019979531511674.\n",
      "[I 2025-05-24 10:56:00,663] Trial 48 finished with value: 0.12018581910680078 and parameters: {'alpha': 90.0211860633067, 'tol': 0.009612770211373939}. Best is trial 30 with value: 0.12019979531511674.\n",
      "[I 2025-05-24 10:56:02,421] Trial 50 finished with value: 0.12019914035930346 and parameters: {'alpha': 99.38744129500152, 'tol': 0.00712412701933238}. Best is trial 30 with value: 0.12019979531511674.\n",
      "[I 2025-05-24 10:56:02,957] Trial 51 finished with value: 0.12019699325591011 and parameters: {'alpha': 97.87225969948692, 'tol': 0.006789125341441985}. Best is trial 30 with value: 0.12019979531511674.\n",
      "[I 2025-05-24 10:56:04,064] Trial 53 finished with value: 0.12015768574858779 and parameters: {'alpha': 70.50591565396297, 'tol': 0.008176721421323956}. Best is trial 30 with value: 0.12019979531511674.\n",
      "[I 2025-05-24 10:56:04,279] Trial 52 finished with value: 0.12016360476677039 and parameters: {'alpha': 74.58221729320023, 'tol': 0.00811303122070546}. Best is trial 30 with value: 0.12019979531511674.\n",
      "[I 2025-05-24 10:56:06,289] Trial 54 finished with value: 0.12019986351074356 and parameters: {'alpha': 99.8982411540573, 'tol': 0.008946640327138287}. Best is trial 54 with value: 0.12019986351074356.\n",
      "[I 2025-05-24 10:56:06,675] Trial 55 finished with value: 0.12019968034642296 and parameters: {'alpha': 99.76883959185861, 'tol': 0.009986953545851237}. Best is trial 54 with value: 0.12019986351074356.\n",
      "[I 2025-05-24 10:56:07,607] Trial 56 finished with value: 0.12019304421027095 and parameters: {'alpha': 95.0910455414385, 'tol': 0.00961036698707998}. Best is trial 54 with value: 0.12019986351074356.\n",
      "[I 2025-05-24 10:56:07,983] Trial 57 finished with value: 0.12019759907196288 and parameters: {'alpha': 98.2995592928321, 'tol': 0.009857422172064262}. Best is trial 54 with value: 0.12019986351074356.\n",
      "[I 2025-05-24 10:56:09,994] Trial 58 finished with value: 0.12019883812726204 and parameters: {'alpha': 99.17403090003857, 'tol': 0.009503275547617393}. Best is trial 54 with value: 0.12019986351074356.\n",
      "[I 2025-05-24 10:56:10,371] Trial 59 finished with value: 0.12019656889378354 and parameters: {'alpha': 97.5730460964728, 'tol': 0.009277053147335648}. Best is trial 54 with value: 0.12019986351074356.\n",
      "[I 2025-05-24 10:56:11,316] Trial 60 finished with value: 0.12019779733542461 and parameters: {'alpha': 98.43943720152768, 'tol': 0.007865088021811224}. Best is trial 54 with value: 0.12019986351074356.\n",
      "[I 2025-05-24 10:56:11,692] Trial 61 finished with value: 0.12007078241447697 and parameters: {'alpha': 12.39705126845211, 'tol': 0.004105507854524772}. Best is trial 54 with value: 0.12019986351074356.\n",
      "[I 2025-05-24 10:56:13,702] Trial 62 finished with value: 0.12019964712970617 and parameters: {'alpha': 99.74537438248498, 'tol': 0.007856720617090194}. Best is trial 54 with value: 0.12019986351074356.\n",
      "[I 2025-05-24 10:56:14,068] Trial 63 finished with value: 0.12008485552388608 and parameters: {'alpha': 21.592260750601643, 'tol': 0.0031501072879356546}. Best is trial 54 with value: 0.12019986351074356.\n",
      "[I 2025-05-24 10:56:15,029] Trial 64 finished with value: 0.12019875078051986 and parameters: {'alpha': 99.11236200806287, 'tol': 0.009995065078672006}. Best is trial 54 with value: 0.12019986351074356.\n",
      "[I 2025-05-24 10:56:15,404] Trial 65 finished with value: 0.12019830830447195 and parameters: {'alpha': 98.80001772993393, 'tol': 0.008909383501383138}. Best is trial 54 with value: 0.12019986351074356.\n",
      "[I 2025-05-24 10:56:17,437] Trial 66 finished with value: 0.12017741514804756 and parameters: {'alpha': 84.15416808868605, 'tol': 0.0073907947169494104}. Best is trial 54 with value: 0.12019986351074356.\n",
      "[I 2025-05-24 10:56:17,818] Trial 67 finished with value: 0.12018110379815528 and parameters: {'alpha': 86.72534751823102, 'tol': 0.0074461390260425146}. Best is trial 54 with value: 0.12019986351074356.\n",
      "[I 2025-05-24 10:56:18,744] Trial 68 finished with value: 0.12017286208892472 and parameters: {'alpha': 80.98895709472335, 'tol': 0.007161192619032218}. Best is trial 54 with value: 0.12019986351074356.\n",
      "[I 2025-05-24 10:56:19,138] Trial 69 finished with value: 0.12017389252097907 and parameters: {'alpha': 81.70447567668603, 'tol': 0.006790848070335222}. Best is trial 54 with value: 0.12019986351074356.\n",
      "[I 2025-05-24 10:56:21,153] Trial 70 finished with value: 0.12019551628210172 and parameters: {'alpha': 96.83121977009662, 'tol': 0.007625766653446007}. Best is trial 54 with value: 0.12019986351074356.\n",
      "[I 2025-05-24 10:56:21,524] Trial 71 finished with value: 0.12019580383982861 and parameters: {'alpha': 97.03382468950912, 'tol': 0.006517705536846804}. Best is trial 54 with value: 0.12019986351074356.\n",
      "[I 2025-05-24 10:56:22,289] Trial 72 finished with value: 0.12019268637132607 and parameters: {'alpha': 94.8393844773871, 'tol': 0.007573682903151885}. Best is trial 54 with value: 0.12019986351074356.\n",
      "[I 2025-05-24 10:56:22,669] Trial 73 finished with value: 0.12019869185327696 and parameters: {'alpha': 99.07075996400778, 'tol': 0.007366160462846379}. Best is trial 54 with value: 0.12019986351074356.\n",
      "[I 2025-05-24 10:56:25,052] Trial 74 finished with value: 0.12019970295950308 and parameters: {'alpha': 99.7848143917494, 'tol': 0.007655800033952247}. Best is trial 54 with value: 0.12019986351074356.\n",
      "[I 2025-05-24 10:56:25,437] Trial 75 finished with value: 0.12017560758869639 and parameters: {'alpha': 82.8964602045018, 'tol': 0.008766067951432959}. Best is trial 54 with value: 0.12019986351074356.\n",
      "[I 2025-05-24 10:56:26,052] Trial 76 finished with value: 0.12019909341928232 and parameters: {'alpha': 99.35429348798232, 'tol': 0.008130838623799529}. Best is trial 54 with value: 0.12019986351074356.\n",
      "[I 2025-05-24 10:56:26,417] Trial 77 finished with value: 0.12016095923007626 and parameters: {'alpha': 72.75836417376254, 'tol': 0.009758983361526696}. Best is trial 54 with value: 0.12019986351074356.\n",
      "[I 2025-05-24 10:56:28,794] Trial 78 finished with value: 0.12019623409783071 and parameters: {'alpha': 97.33704358653786, 'tol': 0.007696661955589775}. Best is trial 54 with value: 0.12019986351074356.\n",
      "[I 2025-05-24 10:56:29,335] Trial 79 finished with value: 0.12019997162508037 and parameters: {'alpha': 99.97462887256437, 'tol': 0.005591385074397745}. Best is trial 79 with value: 0.12019997162508037.\n",
      "[I 2025-05-24 10:56:29,718] Trial 80 finished with value: 0.12019753469575775 and parameters: {'alpha': 98.25414481399517, 'tol': 0.005989460461283421}. Best is trial 79 with value: 0.12019997162508037.\n",
      "[I 2025-05-24 10:56:29,938] Trial 81 finished with value: 0.12019451637688783 and parameters: {'alpha': 96.12701293571709, 'tol': 0.008052242932668393}. Best is trial 79 with value: 0.12019997162508037.\n",
      "[I 2025-05-24 10:56:32,712] Trial 82 finished with value: 0.12011527470684406 and parameters: {'alpha': 41.74735125249615, 'tol': 0.008976852443029648}. Best is trial 79 with value: 0.12019997162508037.\n",
      "[I 2025-05-24 10:56:32,926] Trial 83 finished with value: 0.12019829187577027 and parameters: {'alpha': 98.78842244263386, 'tol': 0.003852460336239578}. Best is trial 79 with value: 0.12019997162508037.\n",
      "[I 2025-05-24 10:56:33,505] Trial 84 finished with value: 0.12018118519150138 and parameters: {'alpha': 86.7821526485175, 'tol': 0.0049917538727240335}. Best is trial 79 with value: 0.12019997162508037.\n",
      "[I 2025-05-24 10:56:33,911] Trial 85 finished with value: 0.1201873218899995 and parameters: {'alpha': 91.07371573577848, 'tol': 0.005200256575977765}. Best is trial 79 with value: 0.12019997162508037.\n",
      "[I 2025-05-24 10:56:36,504] Trial 86 finished with value: 0.12019859438338472 and parameters: {'alpha': 99.00195073316858, 'tol': 0.0052558658375358195}. Best is trial 79 with value: 0.12019997162508037.\n",
      "[I 2025-05-24 10:56:36,877] Trial 87 finished with value: 0.12018236300656482 and parameters: {'alpha': 87.60449793254931, 'tol': 0.005926838829655027}. Best is trial 79 with value: 0.12019997162508037.\n",
      "[I 2025-05-24 10:56:37,101] Trial 88 finished with value: 0.12018854996281525 and parameters: {'alpha': 91.93461051119112, 'tol': 0.0054525064549481835}. Best is trial 79 with value: 0.12019997162508037.\n",
      "[I 2025-05-24 10:56:37,463] Trial 89 finished with value: 0.1201971456000358 and parameters: {'alpha': 97.97969641089733, 'tol': 0.00740833279474672}. Best is trial 79 with value: 0.12019997162508037.\n",
      "[I 2025-05-24 10:56:40,186] Trial 90 finished with value: 0.12019839880888547 and parameters: {'alpha': 98.86389749263235, 'tol': 0.00712708266040211}. Best is trial 79 with value: 0.12019997162508037.\n",
      "[I 2025-05-24 10:56:40,557] Trial 91 finished with value: 0.1201982026570009 and parameters: {'alpha': 98.72545451259353, 'tol': 0.006136324781758245}. Best is trial 79 with value: 0.12019997162508037.\n",
      "[I 2025-05-24 10:56:40,768] Trial 92 finished with value: 0.12019989773729503 and parameters: {'alpha': 99.92242318865472, 'tol': 0.00744232613164734}. Best is trial 79 with value: 0.12019997162508037.\n",
      "[I 2025-05-24 10:56:41,152] Trial 93 finished with value: 0.12006126279506088 and parameters: {'alpha': 6.222559062355984, 'tol': 0.00893087977706906}. Best is trial 79 with value: 0.12019997162508037.\n",
      "[I 2025-05-24 10:56:43,903] Trial 94 finished with value: 0.12019723394129292 and parameters: {'alpha': 98.04200169923767, 'tol': 0.009746882917177695}. Best is trial 79 with value: 0.12019997162508037.\n",
      "[I 2025-05-24 10:56:44,286] Trial 95 finished with value: 0.12019743678485814 and parameters: {'alpha': 98.18507681980275, 'tol': 0.009005050958064767}. Best is trial 79 with value: 0.12019997162508037.\n",
      "[I 2025-05-24 10:56:44,462] Trial 96 finished with value: 0.1201986596702614 and parameters: {'alpha': 99.04803975752702, 'tol': 0.006853023839974071}. Best is trial 79 with value: 0.12019997162508037.\n",
      "[I 2025-05-24 10:56:44,844] Trial 97 finished with value: 0.12019581350148105 and parameters: {'alpha': 97.04063267679611, 'tol': 0.007907265171097093}. Best is trial 79 with value: 0.12019997162508037.\n",
      "[I 2025-05-24 10:56:47,852] Trial 98 finished with value: 0.12019955947479107 and parameters: {'alpha': 99.68345498268731, 'tol': 0.007242495359288234}. Best is trial 79 with value: 0.12019997162508037.\n",
      "[I 2025-05-24 10:56:48,076] Trial 100 finished with value: 0.12019662655716945 and parameters: {'alpha': 97.61369909111556, 'tol': 0.008020407097048687}. Best is trial 79 with value: 0.12019997162508037.\n",
      "[I 2025-05-24 10:56:48,258] Trial 99 finished with value: 0.12019982542265888 and parameters: {'alpha': 99.8713314762366, 'tol': 0.008438166215795231}. Best is trial 79 with value: 0.12019997162508037.\n",
      "[I 2025-05-24 10:56:48,467] Trial 101 finished with value: 0.12016905041388837 and parameters: {'alpha': 78.34633973095187, 'tol': 0.008306278364199565}. Best is trial 79 with value: 0.12019997162508037.\n",
      "[I 2025-05-24 10:56:51,601] Trial 102 finished with value: 0.12016875052961293 and parameters: {'alpha': 78.13870869191575, 'tol': 0.0029092527262347973}. Best is trial 79 with value: 0.12019997162508037.\n",
      "[I 2025-05-24 10:56:51,823] Trial 103 finished with value: 0.12016564812168659 and parameters: {'alpha': 75.99306133529919, 'tol': 0.008590108296259138}. Best is trial 79 with value: 0.12019997162508037.\n",
      "[I 2025-05-24 10:56:52,016] Trial 104 finished with value: 0.12017719976374348 and parameters: {'alpha': 84.00422502430494, 'tol': 0.008171262124446407}. Best is trial 79 with value: 0.12019997162508037.\n",
      "[I 2025-05-24 10:56:52,224] Trial 105 finished with value: 0.12017964491077557 and parameters: {'alpha': 85.70768854647056, 'tol': 0.008432440919765843}. Best is trial 79 with value: 0.12019997162508037.\n",
      "[I 2025-05-24 10:56:55,370] Trial 106 finished with value: 0.12019683654450837 and parameters: {'alpha': 97.76175430114166, 'tol': 0.008618979806696918}. Best is trial 79 with value: 0.12019997162508037.\n",
      "[I 2025-05-24 10:56:55,588] Trial 107 finished with value: 0.1201995324995758 and parameters: {'alpha': 99.66440041892196, 'tol': 0.008371203056608545}. Best is trial 79 with value: 0.12019997162508037.\n",
      "[I 2025-05-24 10:56:55,865] Trial 109 finished with value: 0.12019601593708491 and parameters: {'alpha': 97.18328684602909, 'tol': 0.008106064203528811}. Best is trial 79 with value: 0.12019997162508037.\n",
      "[I 2025-05-24 10:56:56,198] Trial 108 finished with value: 0.12019914913836034 and parameters: {'alpha': 99.39364094740776, 'tol': 0.008144403877025311}. Best is trial 79 with value: 0.12019997162508037.\n",
      "[I 2025-05-24 10:56:59,201] Trial 110 finished with value: 0.12019872972710562 and parameters: {'alpha': 99.09749832310986, 'tol': 0.006648246329404597}. Best is trial 79 with value: 0.12019997162508037.\n",
      "[I 2025-05-24 10:56:59,399] Trial 111 finished with value: 0.12019791107570246 and parameters: {'alpha': 98.5196909378468, 'tol': 0.0075950301231466335}. Best is trial 79 with value: 0.12019997162508037.\n",
      "[I 2025-05-24 10:56:59,611] Trial 112 finished with value: 0.12019909200115593 and parameters: {'alpha': 99.3532920603772, 'tol': 0.00865818552922549}. Best is trial 79 with value: 0.12019997162508037.\n",
      "[I 2025-05-24 10:56:59,803] Trial 113 finished with value: 0.12019837045665076 and parameters: {'alpha': 98.84388552904885, 'tol': 0.006170208928283828}. Best is trial 79 with value: 0.12019997162508037.\n",
      "[I 2025-05-24 10:57:03,017] Trial 115 finished with value: 0.120198812529719 and parameters: {'alpha': 99.15595805466914, 'tol': 0.005983996505248482}. Best is trial 79 with value: 0.12019997162508037.\n",
      "[I 2025-05-24 10:57:03,177] Trial 114 finished with value: 0.12019602392011444 and parameters: {'alpha': 97.18891278888101, 'tol': 0.006937830615592563}. Best is trial 79 with value: 0.12019997162508037.\n",
      "[I 2025-05-24 10:57:03,417] Trial 116 finished with value: 0.12019875038274867 and parameters: {'alpha': 99.11208118019302, 'tol': 0.005421167474342249}. Best is trial 79 with value: 0.12019997162508037.\n",
      "[I 2025-05-24 10:57:03,593] Trial 117 finished with value: 0.12019916000310024 and parameters: {'alpha': 99.40131353080241, 'tol': 0.0066871503840837095}. Best is trial 79 with value: 0.12019997162508037.\n",
      "[I 2025-05-24 10:57:06,929] Trial 118 finished with value: 0.12019962160071648 and parameters: {'alpha': 99.72734034506041, 'tol': 0.007277184262966837}. Best is trial 79 with value: 0.12019997162508037.\n",
      "[I 2025-05-24 10:57:07,129] Trial 119 finished with value: 0.1201673961669042 and parameters: {'alpha': 77.20149090013246, 'tol': 0.006863389161374202}. Best is trial 79 with value: 0.12019997162508037.\n",
      "[I 2025-05-24 10:57:07,340] Trial 120 finished with value: 0.12017194437350272 and parameters: {'alpha': 80.35211087364192, 'tol': 0.007022219730859054}. Best is trial 79 with value: 0.12019997162508037.\n",
      "[I 2025-05-24 10:57:07,537] Trial 121 finished with value: 0.1201752482495874 and parameters: {'alpha': 82.64660674835827, 'tol': 0.007386030265725173}. Best is trial 79 with value: 0.12019997162508037.\n",
      "[I 2025-05-24 10:57:10,512] Trial 122 finished with value: 0.12018153378734864 and parameters: {'alpha': 87.0254748800948, 'tol': 0.009766846345517497}. Best is trial 79 with value: 0.12019997162508037.\n",
      "[I 2025-05-24 10:57:10,896] Trial 123 finished with value: 0.12017476641989307 and parameters: {'alpha': 82.31167557324459, 'tol': 0.008916126841345502}. Best is trial 79 with value: 0.12019997162508037.\n",
      "[I 2025-05-24 10:57:11,091] Trial 124 finished with value: 0.1201981243516906 and parameters: {'alpha': 98.6701920175773, 'tol': 0.007307125735018065}. Best is trial 79 with value: 0.12019997162508037.\n",
      "[I 2025-05-24 10:57:11,477] Trial 125 finished with value: 0.12019737414066725 and parameters: {'alpha': 98.14088888592643, 'tol': 0.007541265059569115}. Best is trial 79 with value: 0.12019997162508037.\n",
      "[I 2025-05-24 10:57:14,109] Trial 126 finished with value: 0.12019674550390366 and parameters: {'alpha': 97.69756203804403, 'tol': 0.008563089768392908}. Best is trial 79 with value: 0.12019997162508037.\n",
      "[I 2025-05-24 10:57:14,494] Trial 127 finished with value: 0.12019796945216812 and parameters: {'alpha': 98.56088298157788, 'tol': 0.008230250614793143}. Best is trial 79 with value: 0.12019997162508037.\n",
      "[I 2025-05-24 10:57:15,031] Trial 128 finished with value: 0.12019912617390724 and parameters: {'alpha': 99.37742383377832, 'tol': 0.007960526995164906}. Best is trial 79 with value: 0.12019997162508037.\n",
      "[I 2025-05-24 10:57:15,409] Trial 129 finished with value: 0.12019756507425713 and parameters: {'alpha': 98.2755752214114, 'tol': 0.008420618270371234}. Best is trial 79 with value: 0.12019997162508037.\n",
      "[I 2025-05-24 10:57:17,850] Trial 130 finished with value: 0.12019899834178967 and parameters: {'alpha': 99.2871554013698, 'tol': 0.007718601226659259}. Best is trial 79 with value: 0.12019997162508037.\n",
      "[I 2025-05-24 10:57:18,388] Trial 131 finished with value: 0.12019922087992589 and parameters: {'alpha': 99.44430522181084, 'tol': 0.00973160267564551}. Best is trial 79 with value: 0.12019997162508037.\n",
      "[I 2025-05-24 10:57:18,605] Trial 132 finished with value: 0.12019990679460654 and parameters: {'alpha': 99.92882252865643, 'tol': 0.007952565744209779}. Best is trial 79 with value: 0.12019997162508037.\n",
      "[I 2025-05-24 10:57:18,976] Trial 133 finished with value: 0.12019807935568907 and parameters: {'alpha': 98.63843822558715, 'tol': 0.006516642331074416}. Best is trial 79 with value: 0.12019997162508037.\n",
      "[I 2025-05-24 10:57:21,664] Trial 134 finished with value: 0.12017946401206367 and parameters: {'alpha': 85.5815686093977, 'tol': 0.009843083127542313}. Best is trial 79 with value: 0.12019997162508037.\n",
      "[I 2025-05-24 10:57:22,054] Trial 135 finished with value: 0.1201898781628515 and parameters: {'alpha': 92.86647508754388, 'tol': 0.009936082237123132}. Best is trial 79 with value: 0.12019997162508037.\n",
      "[I 2025-05-24 10:57:22,264] Trial 136 finished with value: 0.1201075755044394 and parameters: {'alpha': 36.60942719581091, 'tol': 0.006817053528511571}. Best is trial 79 with value: 0.12019997162508037.\n",
      "[I 2025-05-24 10:57:22,642] Trial 137 finished with value: 0.12018077566956839 and parameters: {'alpha': 86.49637428883412, 'tol': 0.007125696858367132}. Best is trial 79 with value: 0.12019997162508037.\n",
      "[I 2025-05-24 10:57:25,210] Trial 138 finished with value: 0.12019967499044563 and parameters: {'alpha': 99.76505594636146, 'tol': 0.007134519971769132}. Best is trial 79 with value: 0.12019997162508037.\n",
      "[I 2025-05-24 10:57:25,587] Trial 139 finished with value: 0.12018055115456874 and parameters: {'alpha': 86.33973247040514, 'tol': 0.00719502690911376}. Best is trial 79 with value: 0.12019997162508037.\n",
      "[I 2025-05-24 10:57:25,993] Trial 140 finished with value: 0.12017852282183616 and parameters: {'alpha': 84.92562448358338, 'tol': 0.006599876972005116}. Best is trial 79 with value: 0.12019997162508037.\n",
      "[I 2025-05-24 10:57:26,376] Trial 141 finished with value: 0.12019946613695764 and parameters: {'alpha': 99.61752509622009, 'tol': 0.00850055163515006}. Best is trial 79 with value: 0.12019997162508037.\n",
      "[I 2025-05-24 10:57:28,902] Trial 142 finished with value: 0.12019995360269364 and parameters: {'alpha': 99.96189485558477, 'tol': 0.007855869261187606}. Best is trial 79 with value: 0.12019997162508037.\n",
      "[I 2025-05-24 10:57:29,282] Trial 143 finished with value: 0.1201999512937045 and parameters: {'alpha': 99.96026341184225, 'tol': 0.008231346403887445}. Best is trial 79 with value: 0.12019997162508037.\n",
      "[I 2025-05-24 10:57:29,648] Trial 144 finished with value: 0.12019975869659491 and parameters: {'alpha': 99.82419035600762, 'tol': 0.006092899379881187}. Best is trial 79 with value: 0.12019997162508037.\n",
      "[I 2025-05-24 10:57:30,031] Trial 145 finished with value: 0.12019869300001891 and parameters: {'alpha': 99.07156953695784, 'tol': 0.006910671482952138}. Best is trial 79 with value: 0.12019997162508037.\n",
      "[I 2025-05-24 10:57:32,698] Trial 146 finished with value: 0.12019954134780761 and parameters: {'alpha': 99.67065053372747, 'tol': 0.007741780995300755}. Best is trial 79 with value: 0.12019997162508037.\n",
      "[I 2025-05-24 10:57:32,926] Trial 147 finished with value: 0.12019976104296146 and parameters: {'alpha': 99.82584799920635, 'tol': 0.00882560093817948}. Best is trial 79 with value: 0.12019997162508037.\n",
      "[I 2025-05-24 10:57:33,304] Trial 148 finished with value: 0.12018164488067917 and parameters: {'alpha': 87.1030303983652, 'tol': 0.00823075164104881}. Best is trial 79 with value: 0.12019997162508037.\n",
      "[I 2025-05-24 10:57:33,840] Trial 149 finished with value: 0.12019973506652175 and parameters: {'alpha': 99.80749650436795, 'tol': 0.009117845416012054}. Best is trial 79 with value: 0.12019997162508037.\n",
      "[I 2025-05-24 10:57:36,458] Trial 150 finished with value: 0.1201985801759828 and parameters: {'alpha': 98.99192133349452, 'tol': 0.008453455129803042}. Best is trial 79 with value: 0.12019997162508037.\n",
      "[I 2025-05-24 10:57:36,851] Trial 151 finished with value: 0.12019849537580088 and parameters: {'alpha': 98.93206047781041, 'tol': 0.009450274294971174}. Best is trial 79 with value: 0.12019997162508037.\n",
      "[I 2025-05-24 10:57:37,078] Trial 152 finished with value: 0.12019608348716955 and parameters: {'alpha': 97.23089287663026, 'tol': 0.009149157972599185}. Best is trial 79 with value: 0.12019997162508037.\n",
      "[I 2025-05-24 10:57:37,465] Trial 153 finished with value: 0.1201773482232551 and parameters: {'alpha': 84.10757512222575, 'tol': 0.008810578695582782}. Best is trial 79 with value: 0.12019997162508037.\n",
      "[I 2025-05-24 10:57:40,025] Trial 154 finished with value: 0.12019235269843867 and parameters: {'alpha': 94.6047721272702, 'tol': 0.009087498940940625}. Best is trial 79 with value: 0.12019997162508037.\n",
      "[I 2025-05-24 10:57:40,584] Trial 155 finished with value: 0.12017697558435698 and parameters: {'alpha': 83.84818146815897, 'tol': 0.008231609173164192}. Best is trial 79 with value: 0.12019997162508037.\n",
      "[I 2025-05-24 10:57:40,965] Trial 156 finished with value: 0.12019917766368748 and parameters: {'alpha': 99.41378539855357, 'tol': 0.00873184026485776}. Best is trial 79 with value: 0.12019997162508037.\n",
      "[I 2025-05-24 10:57:41,189] Trial 157 finished with value: 0.12019810782781763 and parameters: {'alpha': 98.65853096953786, 'tol': 0.00944917319356026}. Best is trial 79 with value: 0.12019997162508037.\n",
      "[I 2025-05-24 10:57:43,769] Trial 158 finished with value: 0.12019761952590213 and parameters: {'alpha': 98.31398901704125, 'tol': 0.008214739151656669}. Best is trial 79 with value: 0.12019997162508037.\n",
      "[I 2025-05-24 10:57:44,312] Trial 159 finished with value: 0.12019975890166704 and parameters: {'alpha': 99.82433523371213, 'tol': 0.008198502586722646}. Best is trial 79 with value: 0.12019997162508037.\n",
      "[I 2025-05-24 10:57:44,692] Trial 160 finished with value: 0.12019790337193954 and parameters: {'alpha': 98.51425506837313, 'tol': 0.008868967936377939}. Best is trial 79 with value: 0.12019997162508037.\n",
      "[I 2025-05-24 10:57:44,914] Trial 161 finished with value: 0.12019518409883392 and parameters: {'alpha': 96.59722059053425, 'tol': 0.005150024503380715}. Best is trial 79 with value: 0.12019997162508037.\n",
      "[I 2025-05-24 10:57:47,663] Trial 162 finished with value: 0.12019943983373964 and parameters: {'alpha': 99.59894634977852, 'tol': 0.007509373291800834}. Best is trial 79 with value: 0.12019997162508037.\n",
      "[I 2025-05-24 10:57:47,877] Trial 163 finished with value: 0.12019868912998263 and parameters: {'alpha': 99.06883738442365, 'tol': 0.004805651166733926}. Best is trial 79 with value: 0.12019997162508037.\n",
      "[I 2025-05-24 10:57:48,275] Trial 164 finished with value: 0.12017924879845905 and parameters: {'alpha': 85.43154420400563, 'tol': 0.005959333595578042}. Best is trial 79 with value: 0.12019997162508037.\n",
      "[I 2025-05-24 10:57:48,866] Trial 165 finished with value: 0.12012033458217583 and parameters: {'alpha': 45.13764579459939, 'tol': 0.0035217579688470793}. Best is trial 79 with value: 0.12019997162508037.\n",
      "[I 2025-05-24 10:57:51,239] Trial 166 finished with value: 0.12019948571047825 and parameters: {'alpha': 99.63135066549592, 'tol': 0.006556214706928706}. Best is trial 79 with value: 0.12019997162508037.\n",
      "[I 2025-05-24 10:57:51,613] Trial 167 finished with value: 0.12019969176719505 and parameters: {'alpha': 99.77690766025586, 'tol': 0.0061818114941205055}. Best is trial 79 with value: 0.12019997162508037.\n",
      "[I 2025-05-24 10:57:51,838] Trial 168 finished with value: 0.12019924044288528 and parameters: {'alpha': 99.45812110237488, 'tol': 0.006700390193473489}. Best is trial 79 with value: 0.12019997162508037.\n",
      "[I 2025-05-24 10:57:52,905] Trial 169 finished with value: 0.12019963589641854 and parameters: {'alpha': 99.73743899277973, 'tol': 0.008347123105000048}. Best is trial 79 with value: 0.12019997162508037.\n",
      "[I 2025-05-24 10:57:54,960] Trial 170 finished with value: 0.12017596687094727 and parameters: {'alpha': 83.1463325550088, 'tol': 0.008290821375221274}. Best is trial 79 with value: 0.12019997162508037.\n",
      "[I 2025-05-24 10:57:55,340] Trial 171 finished with value: 0.12019673604337047 and parameters: {'alpha': 97.69089168486131, 'tol': 0.005920562533121928}. Best is trial 79 with value: 0.12019997162508037.\n",
      "[I 2025-05-24 10:57:55,572] Trial 172 finished with value: 0.12018413010166366 and parameters: {'alpha': 88.83946258255587, 'tol': 0.005454883561297676}. Best is trial 79 with value: 0.12019997162508037.\n",
      "[I 2025-05-24 10:57:56,362] Trial 173 finished with value: 0.1201970936104509 and parameters: {'alpha': 97.94303090665547, 'tol': 0.005895820226390989}. Best is trial 79 with value: 0.12019997162508037.\n",
      "[I 2025-05-24 10:57:58,729] Trial 174 finished with value: 0.1201992057577707 and parameters: {'alpha': 99.43362567671444, 'tol': 0.008384331298627742}. Best is trial 79 with value: 0.12019997162508037.\n",
      "[I 2025-05-24 10:57:59,096] Trial 175 finished with value: 0.12015550919114806 and parameters: {'alpha': 69.01088288527819, 'tol': 0.0005456124751036439}. Best is trial 79 with value: 0.12019997162508037.\n",
      "[I 2025-05-24 10:57:59,323] Trial 176 finished with value: 0.1201988333594741 and parameters: {'alpha': 99.17066463616815, 'tol': 0.00783488847630372}. Best is trial 79 with value: 0.12019997162508037.\n",
      "[I 2025-05-24 10:58:00,385] Trial 177 finished with value: 0.12019799849433503 and parameters: {'alpha': 98.5813765241182, 'tol': 0.008149099917874773}. Best is trial 79 with value: 0.12019997162508037.\n",
      "[I 2025-05-24 10:58:02,395] Trial 178 finished with value: 0.12018279565475427 and parameters: {'alpha': 87.9067297952016, 'tol': 0.007101742839362679}. Best is trial 79 with value: 0.12019997162508037.\n",
      "[I 2025-05-24 10:58:02,767] Trial 179 finished with value: 0.12017863533384818 and parameters: {'alpha': 85.00401635541697, 'tol': 0.006941280761272079}. Best is trial 79 with value: 0.12019997162508037.\n",
      "[I 2025-05-24 10:58:02,975] Trial 180 finished with value: 0.12017883878116428 and parameters: {'alpha': 85.14578129077074, 'tol': 0.007906380328934329}. Best is trial 79 with value: 0.12019997162508037.\n",
      "[I 2025-05-24 10:58:04,072] Trial 181 finished with value: 0.12019887475269653 and parameters: {'alpha': 99.19989038800435, 'tol': 0.0060197073484687304}. Best is trial 79 with value: 0.12019997162508037.\n",
      "[I 2025-05-24 10:58:05,913] Trial 182 finished with value: 0.12019974528520863 and parameters: {'alpha': 99.81471563098145, 'tol': 0.008741096275090473}. Best is trial 79 with value: 0.12019997162508037.\n",
      "[I 2025-05-24 10:58:06,446] Trial 183 finished with value: 0.12019670610610725 and parameters: {'alpha': 97.66978404425227, 'tol': 0.009806914062676295}. Best is trial 79 with value: 0.12019997162508037.\n",
      "[I 2025-05-24 10:58:06,817] Trial 184 finished with value: 0.12019954175210665 and parameters: {'alpha': 99.67093611881627, 'tol': 0.007496856673880506}. Best is trial 79 with value: 0.12019997162508037.\n",
      "[I 2025-05-24 10:58:07,763] Trial 185 finished with value: 0.12019971936646294 and parameters: {'alpha': 99.79640508452542, 'tol': 0.008604892435620902}. Best is trial 79 with value: 0.12019997162508037.\n",
      "[I 2025-05-24 10:58:09,864] Trial 186 finished with value: 0.12019904542963158 and parameters: {'alpha': 99.32040551803001, 'tol': 0.009995196282659085}. Best is trial 79 with value: 0.12019997162508037.\n",
      "[I 2025-05-24 10:58:10,247] Trial 187 finished with value: 0.12019927779709676 and parameters: {'alpha': 99.48450213063086, 'tol': 0.00922828367975708}. Best is trial 79 with value: 0.12019997162508037.\n",
      "[I 2025-05-24 10:58:10,439] Trial 188 finished with value: 0.1201982393107888 and parameters: {'alpha': 98.75132320916954, 'tol': 0.009163243143558339}. Best is trial 79 with value: 0.12019997162508037.\n",
      "[I 2025-05-24 10:58:11,606] Trial 189 finished with value: 0.12017100652837764 and parameters: {'alpha': 79.70168794360251, 'tol': 0.009983301845169287}. Best is trial 79 with value: 0.12019997162508037.\n",
      "[I 2025-05-24 10:58:13,587] Trial 190 finished with value: 0.12012175089470785 and parameters: {'alpha': 46.08857811681451, 'tol': 0.00047533132378209993}. Best is trial 79 with value: 0.12019997162508037.\n",
      "[I 2025-05-24 10:58:13,828] Trial 192 finished with value: 0.12017848140892058 and parameters: {'alpha': 84.89677180304056, 'tol': 0.008831012663924121}. Best is trial 79 with value: 0.12019997162508037.\n",
      "[I 2025-05-24 10:58:14,002] Trial 191 finished with value: 0.12017538824183494 and parameters: {'alpha': 82.74393834815513, 'tol': 0.008869032465107111}. Best is trial 79 with value: 0.12019997162508037.\n",
      "[I 2025-05-24 10:58:15,487] Trial 193 finished with value: 0.12017978195569548 and parameters: {'alpha': 85.80324416494194, 'tol': 0.008501634143771057}. Best is trial 79 with value: 0.12019997162508037.\n",
      "[I 2025-05-24 10:58:17,312] Trial 194 finished with value: 0.12017665462167275 and parameters: {'alpha': 83.62481004309947, 'tol': 0.008261193810017282}. Best is trial 79 with value: 0.12019997162508037.\n",
      "[I 2025-05-24 10:58:17,537] Trial 195 finished with value: 0.12019999941564088 and parameters: {'alpha': 99.9942650511399, 'tol': 0.007594921780035848}. Best is trial 195 with value: 0.12019999941564088.\n",
      "[I 2025-05-24 10:58:17,733] Trial 196 finished with value: 0.12019858251019859 and parameters: {'alpha': 98.99356911482337, 'tol': 0.00721407423195993}. Best is trial 195 with value: 0.12019999941564088.\n",
      "[I 2025-05-24 10:58:19,568] Trial 197 finished with value: 0.12019981202791338 and parameters: {'alpha': 99.86186809197123, 'tol': 0.008386609841797937}. Best is trial 195 with value: 0.12019999941564088.\n",
      "[I 2025-05-24 10:58:20,886] Trial 198 finished with value: 0.12018782267449442 and parameters: {'alpha': 91.42468854347266, 'tol': 0.0079345104957748}. Best is trial 195 with value: 0.12019999941564088.\n",
      "[I 2025-05-24 10:58:21,260] Trial 199 finished with value: 0.12019965897065774 and parameters: {'alpha': 99.753739100046, 'tol': 0.008362455301890226}. Best is trial 195 with value: 0.12019999941564088.\n",
      "[I 2025-05-24 10:58:21,491] Trial 200 finished with value: 0.12019895441781392 and parameters: {'alpha': 99.25614031229503, 'tol': 0.008338696953977003}. Best is trial 195 with value: 0.12019999941564088.\n",
      "[I 2025-05-24 10:58:23,534] Trial 201 finished with value: 0.12019982883707056 and parameters: {'alpha': 99.87374377055163, 'tol': 0.009133654480300187}. Best is trial 195 with value: 0.12019999941564088.\n",
      "[I 2025-05-24 10:58:24,511] Trial 202 finished with value: 0.12019908339586767 and parameters: {'alpha': 99.34721534906572, 'tol': 0.008662998254998121}. Best is trial 195 with value: 0.12019999941564088.\n",
      "[I 2025-05-24 10:58:24,890] Trial 203 finished with value: 0.12019818901371011 and parameters: {'alpha': 98.71582581295576, 'tol': 0.009004799078379002}. Best is trial 195 with value: 0.12019999941564088.\n",
      "[I 2025-05-24 10:58:25,475] Trial 204 finished with value: 0.1201998743378749 and parameters: {'alpha': 99.90589077222677, 'tol': 0.006878904026676357}. Best is trial 195 with value: 0.12019999941564088.\n",
      "[I 2025-05-24 10:58:27,382] Trial 205 finished with value: 0.12019832679392657 and parameters: {'alpha': 98.81306763509482, 'tol': 0.009393194119359903}. Best is trial 195 with value: 0.12019999941564088.\n",
      "[I 2025-05-24 10:58:28,341] Trial 206 finished with value: 0.12019897874297714 and parameters: {'alpha': 99.27331640414542, 'tol': 0.008603170230563813}. Best is trial 195 with value: 0.12019999941564088.\n",
      "[I 2025-05-24 10:58:28,739] Trial 207 finished with value: 0.12005176499804585 and parameters: {'alpha': 0.09840937379680526, 'tol': 0.0032484849263156633}. Best is trial 195 with value: 0.12019999941564088.\n",
      "[I 2025-05-24 10:58:29,313] Trial 208 finished with value: 0.12019977926129659 and parameters: {'alpha': 99.83871883704657, 'tol': 0.006940648667667199}. Best is trial 195 with value: 0.12019999941564088.\n",
      "[I 2025-05-24 10:58:31,192] Trial 209 finished with value: 0.12019992995377868 and parameters: {'alpha': 99.94518555053095, 'tol': 0.006848660794858354}. Best is trial 195 with value: 0.12019999941564088.\n",
      "[I 2025-05-24 10:58:32,113] Trial 210 finished with value: 0.12019965641759196 and parameters: {'alpha': 99.75193555080267, 'tol': 0.007992283603470932}. Best is trial 195 with value: 0.12019999941564088.\n",
      "[I 2025-05-24 10:58:32,528] Trial 211 finished with value: 0.12019970433332557 and parameters: {'alpha': 99.78578492351672, 'tol': 0.006178241001175515}. Best is trial 195 with value: 0.12019999941564088.\n",
      "[I 2025-05-24 10:58:33,094] Trial 212 finished with value: 0.12019921585618712 and parameters: {'alpha': 99.44075735297501, 'tol': 0.007810534569087627}. Best is trial 195 with value: 0.12019999941564088.\n",
      "[I 2025-05-24 10:58:34,939] Trial 213 finished with value: 0.12019992853336206 and parameters: {'alpha': 99.94418195356778, 'tol': 0.00754049452682103}. Best is trial 195 with value: 0.12019999941564088.\n",
      "[I 2025-05-24 10:58:35,691] Trial 214 finished with value: 0.12019889480823098 and parameters: {'alpha': 99.21405091673783, 'tol': 0.007235615749406075}. Best is trial 195 with value: 0.12019999941564088.\n",
      "[I 2025-05-24 10:58:36,083] Trial 215 finished with value: 0.12019968607857148 and parameters: {'alpha': 99.77288899232742, 'tol': 0.006654934147077098}. Best is trial 195 with value: 0.12019999941564088.\n",
      "[I 2025-05-24 10:58:36,827] Trial 216 finished with value: 0.12017800293454613 and parameters: {'alpha': 84.56347167509128, 'tol': 0.006708104724637594}. Best is trial 195 with value: 0.12019999941564088.\n",
      "[I 2025-05-24 10:58:38,843] Trial 217 finished with value: 0.12017656802368559 and parameters: {'alpha': 83.56455086022471, 'tol': 0.007258683020643933}. Best is trial 195 with value: 0.12019999941564088.\n",
      "[I 2025-05-24 10:58:39,422] Trial 218 finished with value: 0.12018285732043107 and parameters: {'alpha': 87.94981408499598, 'tol': 0.007064561537510169}. Best is trial 195 with value: 0.12019999941564088.\n",
      "[I 2025-05-24 10:58:39,832] Trial 219 finished with value: 0.12017855867633453 and parameters: {'alpha': 84.95060520326099, 'tol': 0.0071248834896377}. Best is trial 195 with value: 0.12019999941564088.\n",
      "[I 2025-05-24 10:58:40,645] Trial 220 finished with value: 0.1201996849386076 and parameters: {'alpha': 99.7720836787083, 'tol': 0.007892575395459643}. Best is trial 195 with value: 0.12019999941564088.\n",
      "[I 2025-05-24 10:58:42,681] Trial 221 finished with value: 0.12019864432517484 and parameters: {'alpha': 99.0372067736752, 'tol': 0.007457773181492142}. Best is trial 195 with value: 0.12019999941564088.\n",
      "[I 2025-05-24 10:58:43,253] Trial 222 finished with value: 0.12019997170981782 and parameters: {'alpha': 99.97468874560086, 'tol': 0.0070073219276561155}. Best is trial 195 with value: 0.12019999941564088.\n",
      "[I 2025-05-24 10:58:43,806] Trial 223 finished with value: 0.12019969854662386 and parameters: {'alpha': 99.78169693566593, 'tol': 0.008406518169610756}. Best is trial 195 with value: 0.12019999941564088.\n",
      "[I 2025-05-24 10:58:44,210] Trial 224 finished with value: 0.12019802376601647 and parameters: {'alpha': 98.59920975003293, 'tol': 0.006248061621008183}. Best is trial 195 with value: 0.12019999941564088.\n",
      "[I 2025-05-24 10:58:46,574] Trial 225 finished with value: 0.12019884995704015 and parameters: {'alpha': 99.18238327907872, 'tol': 0.005761931485776164}. Best is trial 195 with value: 0.12019999941564088.\n",
      "[I 2025-05-24 10:58:46,943] Trial 226 finished with value: 0.12019946493174175 and parameters: {'alpha': 99.61667380928971, 'tol': 0.007094987724462999}. Best is trial 195 with value: 0.12019999941564088.\n",
      "[I 2025-05-24 10:58:47,171] Trial 227 finished with value: 0.12019967874337216 and parameters: {'alpha': 99.76770714059032, 'tol': 0.007636975486477502}. Best is trial 195 with value: 0.12019999941564088.\n",
      "[I 2025-05-24 10:58:48,078] Trial 228 finished with value: 0.12019830603659645 and parameters: {'alpha': 98.79841706841803, 'tol': 0.007326985520717853}. Best is trial 195 with value: 0.12019999941564088.\n",
      "[I 2025-05-24 10:58:50,446] Trial 229 finished with value: 0.12019959699344338 and parameters: {'alpha': 99.70995770787069, 'tol': 0.007343873629763252}. Best is trial 195 with value: 0.12019999941564088.\n",
      "[I 2025-05-24 10:58:50,632] Trial 230 finished with value: 0.12005680315835114 and parameters: {'alpha': 3.3425195169464814, 'tol': 0.005542229711005578}. Best is trial 195 with value: 0.12019999941564088.\n",
      "[I 2025-05-24 10:58:50,851] Trial 231 finished with value: 0.12017808159584069 and parameters: {'alpha': 84.61825915368485, 'tol': 0.008288127348966666}. Best is trial 195 with value: 0.12019999941564088.\n",
      "[I 2025-05-24 10:58:51,772] Trial 232 finished with value: 0.12017934201614626 and parameters: {'alpha': 85.49652323721452, 'tol': 0.008561279430552028}. Best is trial 195 with value: 0.12019999941564088.\n",
      "[I 2025-05-24 10:58:54,198] Trial 234 finished with value: 0.12017251569982301 and parameters: {'alpha': 80.74853665075715, 'tol': 0.0044277116412808366}. Best is trial 195 with value: 0.12019999941564088.\n",
      "[I 2025-05-24 10:58:54,378] Trial 233 finished with value: 0.12018132850264487 and parameters: {'alpha': 86.88217808503663, 'tol': 0.008652930954826313}. Best is trial 195 with value: 0.12019999941564088.\n",
      "[I 2025-05-24 10:58:54,593] Trial 235 finished with value: 0.120197665828131 and parameters: {'alpha': 98.34665475646109, 'tol': 0.0059759736883882985}. Best is trial 195 with value: 0.12019999941564088.\n",
      "[I 2025-05-24 10:58:55,497] Trial 236 finished with value: 0.12006641437913732 and parameters: {'alpha': 9.559381443065988, 'tol': 0.0003388703470377976}. Best is trial 195 with value: 0.12019999941564088.\n",
      "[I 2025-05-24 10:58:57,936] Trial 237 finished with value: 0.12019965896691112 and parameters: {'alpha': 99.75373645333269, 'tol': 0.004640685563718451}. Best is trial 195 with value: 0.12019999941564088.\n",
      "[I 2025-05-24 10:58:58,125] Trial 238 finished with value: 0.12019745887326368 and parameters: {'alpha': 98.20065796408967, 'tol': 0.005477668809566787}. Best is trial 195 with value: 0.12019999941564088.\n",
      "[I 2025-05-24 10:58:58,341] Trial 239 finished with value: 0.12019864281626773 and parameters: {'alpha': 99.03614155480113, 'tol': 0.0049276699504823334}. Best is trial 195 with value: 0.12019999941564088.\n",
      "[I 2025-05-24 10:58:59,087] Trial 240 finished with value: 0.1201840199212807 and parameters: {'alpha': 88.7624194646541, 'tol': 0.005659938408858959}. Best is trial 195 with value: 0.12019999941564088.\n",
      "[I 2025-05-24 10:59:01,668] Trial 241 finished with value: 0.12017699481211501 and parameters: {'alpha': 83.86156435562461, 'tol': 0.005587991123675262}. Best is trial 195 with value: 0.12019999941564088.\n",
      "[I 2025-05-24 10:59:01,841] Trial 242 finished with value: 0.12019952512176053 and parameters: {'alpha': 99.65918898830334, 'tol': 0.006547418908777132}. Best is trial 195 with value: 0.12019999941564088.\n",
      "[I 2025-05-24 10:59:02,065] Trial 243 finished with value: 0.1201996431054552 and parameters: {'alpha': 99.7425315748729, 'tol': 0.007319489259149171}. Best is trial 195 with value: 0.12019999941564088.\n",
      "[I 2025-05-24 10:59:02,830] Trial 244 finished with value: 0.12020000285482549 and parameters: {'alpha': 99.99669512578292, 'tol': 0.007360294964353256}. Best is trial 244 with value: 0.12020000285482549.\n",
      "[I 2025-05-24 10:59:05,406] Trial 245 finished with value: 0.12019836751383148 and parameters: {'alpha': 98.84180840931046, 'tol': 0.008429365975842248}. Best is trial 244 with value: 0.12020000285482549.\n",
      "[I 2025-05-24 10:59:05,591] Trial 246 finished with value: 0.12019995189123267 and parameters: {'alpha': 99.96068560222581, 'tol': 0.007474961813483541}. Best is trial 244 with value: 0.12020000285482549.\n",
      "[I 2025-05-24 10:59:05,805] Trial 247 finished with value: 0.12019966028096492 and parameters: {'alpha': 99.75466473486277, 'tol': 0.006655204975810675}. Best is trial 244 with value: 0.12020000285482549.\n",
      "[I 2025-05-24 10:59:06,357] Trial 248 finished with value: 0.12019982270085339 and parameters: {'alpha': 99.86940851460204, 'tol': 0.007128798261237849}. Best is trial 244 with value: 0.12020000285482549.\n",
      "[I 2025-05-24 10:59:07,176] Trial 249 finished with value: 0.12018095865254719 and parameters: {'alpha': 86.62405661074965, 'tol': 0.007490678874148528}. Best is trial 244 with value: 0.12020000285482549.\n"
     ]
    }
   ],
   "source": [
    "def objective(trial):    \n",
    "    params = {\n",
    "        \"random_state\": CFG.seed,\n",
    "        \"alpha\": trial.suggest_float(\"alpha\", 0, 100),\n",
    "        \"tol\": trial.suggest_float(\"tol\", 1e-6, 1e-2)\n",
    "    }\n",
    "    \n",
    "    trainer = Trainer(Ridge(**params))\n",
    "    return trainer.tune(X, y)\n",
    "\n",
    "if CFG.run_optuna:\n",
    "    sampler = optuna.samplers.TPESampler(seed=CFG.seed, multivariate=True)\n",
    "    study = optuna.create_study(direction=\"maximize\", sampler=sampler)\n",
    "    study.optimize(objective, n_trials=CFG.n_optuna_trials, n_jobs=-1, catch=(ValueError,))\n",
    "    best_params = study.best_params\n",
    "\n",
    "    ridge_params = {\n",
    "        \"random_state\": CFG.seed,\n",
    "        \"alpha\": best_params[\"alpha\"],\n",
    "        \"tol\": best_params[\"tol\"]\n",
    "    }\n",
    "else:\n",
    "    ridge_params = {\n",
    "        \"random_state\": CFG.seed\n",
    "    }"
   ]
  },
  {
   "cell_type": "code",
   "execution_count": 15,
   "id": "713a3933",
   "metadata": {
    "execution": {
     "iopub.execute_input": "2025-05-24T10:59:07.222855Z",
     "iopub.status.busy": "2025-05-24T10:59:07.222528Z",
     "iopub.status.idle": "2025-05-24T10:59:08.367061Z",
     "shell.execute_reply": "2025-05-24T10:59:08.366082Z"
    },
    "papermill": {
     "duration": 1.166491,
     "end_time": "2025-05-24T10:59:08.368681",
     "exception": false,
     "start_time": "2025-05-24T10:59:07.202190",
     "status": "completed"
    },
    "tags": []
   },
   "outputs": [
    {
     "name": "stdout",
     "output_type": "stream",
     "text": [
      "Training Ridge\n",
      "\n",
      "--- Fold 0 - Score: 0.177879\n",
      "--- Fold 1 - Score: 0.117279\n",
      "--- Fold 2 - Score: 0.081248\n",
      "--- Fold 3 - Score: 0.149459\n",
      "--- Fold 4 - Score: 0.075135\n",
      "\n",
      "------ Overall Score: 0.100046 - Mean Score: 0.120200 ± 0.039344\n"
     ]
    }
   ],
   "source": [
    "ridge_trainer = Trainer(Ridge(**ridge_params))\n",
    "\n",
    "_, ridge_test_preds, scores[\"Ridge (ensemble)\"] = ridge_trainer.fit_predict(X, y, X_test)"
   ]
  },
  {
   "cell_type": "markdown",
   "id": "e83f883b",
   "metadata": {
    "papermill": {
     "duration": 0.01791,
     "end_time": "2025-05-24T10:59:08.404893",
     "exception": false,
     "start_time": "2025-05-24T10:59:08.386983",
     "status": "completed"
    },
    "tags": []
   },
   "source": [
    "# Submission"
   ]
  },
  {
   "cell_type": "code",
   "execution_count": 16,
   "id": "78bce770",
   "metadata": {
    "execution": {
     "iopub.execute_input": "2025-05-24T10:59:08.442887Z",
     "iopub.status.busy": "2025-05-24T10:59:08.442545Z",
     "iopub.status.idle": "2025-05-24T10:59:10.199869Z",
     "shell.execute_reply": "2025-05-24T10:59:10.198854Z"
    },
    "papermill": {
     "duration": 1.778356,
     "end_time": "2025-05-24T10:59:10.201329",
     "exception": false,
     "start_time": "2025-05-24T10:59:08.422973",
     "status": "completed"
    },
    "tags": []
   },
   "outputs": [
    {
     "data": {
      "text/html": [
       "<div>\n",
       "<style scoped>\n",
       "    .dataframe tbody tr th:only-of-type {\n",
       "        vertical-align: middle;\n",
       "    }\n",
       "\n",
       "    .dataframe tbody tr th {\n",
       "        vertical-align: top;\n",
       "    }\n",
       "\n",
       "    .dataframe thead th {\n",
       "        text-align: right;\n",
       "    }\n",
       "</style>\n",
       "<table border=\"1\" class=\"dataframe\">\n",
       "  <thead>\n",
       "    <tr style=\"text-align: right;\">\n",
       "      <th></th>\n",
       "      <th>ID</th>\n",
       "      <th>prediction</th>\n",
       "    </tr>\n",
       "  </thead>\n",
       "  <tbody>\n",
       "    <tr>\n",
       "      <th>0</th>\n",
       "      <td>1</td>\n",
       "      <td>0.081319</td>\n",
       "    </tr>\n",
       "    <tr>\n",
       "      <th>1</th>\n",
       "      <td>2</td>\n",
       "      <td>0.069961</td>\n",
       "    </tr>\n",
       "    <tr>\n",
       "      <th>2</th>\n",
       "      <td>3</td>\n",
       "      <td>0.038606</td>\n",
       "    </tr>\n",
       "    <tr>\n",
       "      <th>3</th>\n",
       "      <td>4</td>\n",
       "      <td>-0.031901</td>\n",
       "    </tr>\n",
       "    <tr>\n",
       "      <th>4</th>\n",
       "      <td>5</td>\n",
       "      <td>0.178168</td>\n",
       "    </tr>\n",
       "  </tbody>\n",
       "</table>\n",
       "</div>"
      ],
      "text/plain": [
       "   ID  prediction\n",
       "0   1    0.081319\n",
       "1   2    0.069961\n",
       "2   3    0.038606\n",
       "3   4   -0.031901\n",
       "4   5    0.178168"
      ]
     },
     "execution_count": 16,
     "metadata": {},
     "output_type": "execute_result"
    }
   ],
   "source": [
    "sub = pd.read_csv(CFG.sample_sub_path)\n",
    "sub[\"prediction\"] = ridge_test_preds\n",
    "sub.to_csv(f\"sub_ridge_{np.mean(scores['Ridge (ensemble)']):.6f}.csv\", index=False)\n",
    "sub.head()"
   ]
  },
  {
   "cell_type": "markdown",
   "id": "dc537756",
   "metadata": {
    "papermill": {
     "duration": 0.018014,
     "end_time": "2025-05-24T10:59:10.238696",
     "exception": false,
     "start_time": "2025-05-24T10:59:10.220682",
     "status": "completed"
    },
    "tags": []
   },
   "source": [
    "# Results"
   ]
  },
  {
   "cell_type": "code",
   "execution_count": 17,
   "id": "395a10be",
   "metadata": {
    "execution": {
     "iopub.execute_input": "2025-05-24T10:59:10.277001Z",
     "iopub.status.busy": "2025-05-24T10:59:10.276682Z",
     "iopub.status.idle": "2025-05-24T10:59:10.729951Z",
     "shell.execute_reply": "2025-05-24T10:59:10.728714Z"
    },
    "papermill": {
     "duration": 0.474663,
     "end_time": "2025-05-24T10:59:10.731667",
     "exception": false,
     "start_time": "2025-05-24T10:59:10.257004",
     "status": "completed"
    },
    "tags": []
   },
   "outputs": [
    {
     "data": {
      "image/png": "[encoded data removed]",
      "text/plain": [
       "<Figure size 1500x200 with 2 Axes>"
      ]
     },
     "metadata": {},
     "output_type": "display_data"
    }
   ],
   "source": [
    "scores = pd.DataFrame(scores)\n",
    "mean_scores = scores.mean().sort_values(ascending=False)\n",
    "order = scores.mean().sort_values(ascending=False).index.tolist()\n",
    "\n",
    "min_score = mean_scores.min()\n",
    "max_score = mean_scores.max()\n",
    "padding = (max_score - min_score) * 0.5\n",
    "lower_limit = min_score - padding\n",
    "upper_limit = max_score + padding\n",
    "\n",
    "fig, axs = plt.subplots(1, 2, figsize=(15, scores.shape[1] * 0.5))\n",
    "\n",
    "boxplot = sns.boxplot(data=scores, order=order, ax=axs[0], orient=\"h\", color=\"grey\")\n",
    "axs[0].set_title(f\"Fold Score\")\n",
    "axs[0].set_xlabel(\"\")\n",
    "axs[0].set_ylabel(\"\")\n",
    "\n",
    "barplot = sns.barplot(x=mean_scores.values, y=mean_scores.index, ax=axs[1], color=\"grey\")\n",
    "axs[1].set_title(f\"Average Score\")\n",
    "axs[1].set_xlabel(\"\")\n",
    "axs[1].set_xlim(left=lower_limit, right=upper_limit)\n",
    "axs[1].set_ylabel(\"\")\n",
    "\n",
    "for i, (score, model) in enumerate(zip(mean_scores.values, mean_scores.index)):\n",
    "    color = \"cyan\" if \"ensemble\" in model.lower() else \"grey\"\n",
    "    barplot.patches[i].set_facecolor(color)\n",
    "    boxplot.patches[i].set_facecolor(color)\n",
    "    barplot.text(score, i, round(score, 6), va=\"center\")\n",
    "\n",
    "plt.tight_layout()\n",
    "plt.show()"
   ]
  }
 ],
 "metadata": {
  "kaggle": {
   "accelerator": "none",
   "dataSources": [
    {
     "databundleVersionId": 11418275,
     "sourceId": 96164,
     "sourceType": "competition"
    }
   ],
   "dockerImageVersionId": 31040,
   "isGpuEnabled": false,
   "isInternetEnabled": true,
   "language": "python",
   "sourceType": "notebook"
  },
  "kernelspec": {
   "display_name": "Python 3",
   "language": "python",
   "name": "python3"
  },
  "language_info": {
   "codemirror_mode": {
    "name": "ipython",
    "version": 3
   },
   "file_extension": ".py",
   "mimetype": "text/x-python",
   "name": "python",
   "nbconvert_exporter": "python",
   "pygments_lexer": "ipython3",
   "version": "3.11.11"
  },
  "papermill": {
   "default_parameters": {},
   "duration": 5456.26661,
   "end_time": "2025-05-24T10:59:14.597955",
   "environment_variables": {},
   "exception": null,
   "input_path": "__notebook__.ipynb",
   "output_path": "__notebook__.ipynb",
   "parameters": {},
   "start_time": "2025-05-24T09:28:18.331345",
   "version": "2.6.0"
  }
 },
 "nbformat": 4,
 "nbformat_minor": 5
}
