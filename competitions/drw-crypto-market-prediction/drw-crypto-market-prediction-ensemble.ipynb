{
 "cells": [
  {
   "cell_type": "code",
   "execution_count": 1,
   "id": "3b4dc29b",
   "metadata": {
    "_kg_hide-output": true,
    "execution": {
     "iopub.execute_input": "2025-06-07T07:25:03.380067Z",
     "iopub.status.busy": "2025-06-07T07:25:03.379838Z",
     "iopub.status.idle": "2025-06-07T07:25:10.346181Z",
     "shell.execute_reply": "2025-06-07T07:25:10.345338Z"
    },
    "papermill": {
     "duration": 6.972811,
     "end_time": "2025-06-07T07:25:10.347563",
     "exception": false,
     "start_time": "2025-06-07T07:25:03.374752",
     "status": "completed"
    },
    "scrolled": true,
    "tags": []
   },
   "outputs": [
    {
     "name": "stdout",
     "output_type": "stream",
     "text": [
      "Collecting koolbox\r\n",
      "  Downloading koolbox-0.1.3-py3-none-any.whl.metadata (3.4 kB)\r\n",
      "Collecting scikit-learn==1.5.2\r\n",
      "  Downloading scikit_learn-1.5.2-cp311-cp311-manylinux_2_17_x86_64.manylinux2014_x86_64.whl.metadata (13 kB)\r\n",
      "Requirement already satisfied: numpy>=1.19.5 in /usr/local/lib/python3.11/dist-packages (from scikit-learn==1.5.2) (1.26.4)\r\n",
      "Requirement already satisfied: scipy>=1.6.0 in /usr/local/lib/python3.11/dist-packages (from scikit-learn==1.5.2) (1.15.2)\r\n",
      "Requirement already satisfied: joblib>=1.2.0 in /usr/local/lib/python3.11/dist-packages (from scikit-learn==1.5.2) (1.5.0)\r\n",
      "Requirement already satisfied: threadpoolctl>=3.1.0 in /usr/local/lib/python3.11/dist-packages (from scikit-learn==1.5.2) (3.6.0)\r\n",
      "Requirement already satisfied: optuna>=4.2.1 in /usr/local/lib/python3.11/dist-packages (from koolbox) (4.3.0)\r\n",
      "Requirement already satisfied: pandas>=2.2.3 in /usr/local/lib/python3.11/dist-packages (from koolbox) (2.2.3)\r\n",
      "Requirement already satisfied: mkl_fft in /usr/local/lib/python3.11/dist-packages (from numpy>=1.19.5->scikit-learn==1.5.2) (1.3.8)\r\n",
      "Requirement already satisfied: mkl_random in /usr/local/lib/python3.11/dist-packages (from numpy>=1.19.5->scikit-learn==1.5.2) (1.2.4)\r\n",
      "Requirement already satisfied: mkl_umath in /usr/local/lib/python3.11/dist-packages (from numpy>=1.19.5->scikit-learn==1.5.2) (0.1.1)\r\n",
      "Requirement already satisfied: mkl in /usr/local/lib/python3.11/dist-packages (from numpy>=1.19.5->scikit-learn==1.5.2) (2025.1.0)\r\n",
      "Requirement already satisfied: tbb4py in /usr/local/lib/python3.11/dist-packages (from numpy>=1.19.5->scikit-learn==1.5.2) (2022.1.0)\r\n",
      "Requirement already satisfied: mkl-service in /usr/local/lib/python3.11/dist-packages (from numpy>=1.19.5->scikit-learn==1.5.2) (2.4.1)\r\n",
      "Requirement already satisfied: alembic>=1.5.0 in /usr/local/lib/python3.11/dist-packages (from optuna>=4.2.1->koolbox) (1.15.2)\r\n",
      "Requirement already satisfied: colorlog in /usr/local/lib/python3.11/dist-packages (from optuna>=4.2.1->koolbox) (6.9.0)\r\n",
      "Requirement already satisfied: packaging>=20.0 in /usr/local/lib/python3.11/dist-packages (from optuna>=4.2.1->koolbox) (25.0)\r\n",
      "Requirement already satisfied: sqlalchemy>=1.4.2 in /usr/local/lib/python3.11/dist-packages (from optuna>=4.2.1->koolbox) (2.0.40)\r\n",
      "Requirement already satisfied: tqdm in /usr/local/lib/python3.11/dist-packages (from optuna>=4.2.1->koolbox) (4.67.1)\r\n",
      "Requirement already satisfied: PyYAML in /usr/local/lib/python3.11/dist-packages (from optuna>=4.2.1->koolbox) (6.0.2)\r\n",
      "Requirement already satisfied: python-dateutil>=2.8.2 in /usr/local/lib/python3.11/dist-packages (from pandas>=2.2.3->koolbox) (2.9.0.post0)\r\n",
      "Requirement already satisfied: pytz>=2020.1 in /usr/local/lib/python3.11/dist-packages (from pandas>=2.2.3->koolbox) (2025.2)\r\n",
      "Requirement already satisfied: tzdata>=2022.7 in /usr/local/lib/python3.11/dist-packages (from pandas>=2.2.3->koolbox) (2025.2)\r\n",
      "Requirement already satisfied: Mako in /usr/local/lib/python3.11/dist-packages (from alembic>=1.5.0->optuna>=4.2.1->koolbox) (1.3.10)\r\n",
      "Requirement already satisfied: typing-extensions>=4.12 in /usr/local/lib/python3.11/dist-packages (from alembic>=1.5.0->optuna>=4.2.1->koolbox) (4.13.2)\r\n",
      "Requirement already satisfied: six>=1.5 in /usr/local/lib/python3.11/dist-packages (from python-dateutil>=2.8.2->pandas>=2.2.3->koolbox) (1.17.0)\r\n",
      "Requirement already satisfied: greenlet>=1 in /usr/local/lib/python3.11/dist-packages (from sqlalchemy>=1.4.2->optuna>=4.2.1->koolbox) (3.1.1)\r\n",
      "Requirement already satisfied: intel-openmp<2026,>=2024 in /usr/local/lib/python3.11/dist-packages (from mkl->numpy>=1.19.5->scikit-learn==1.5.2) (2024.2.0)\r\n",
      "Requirement already satisfied: tbb==2022.* in /usr/local/lib/python3.11/dist-packages (from mkl->numpy>=1.19.5->scikit-learn==1.5.2) (2022.1.0)\r\n",
      "Requirement already satisfied: tcmlib==1.* in /usr/local/lib/python3.11/dist-packages (from tbb==2022.*->mkl->numpy>=1.19.5->scikit-learn==1.5.2) (1.3.0)\r\n",
      "Requirement already satisfied: intel-cmplr-lib-rt in /usr/local/lib/python3.11/dist-packages (from mkl_umath->numpy>=1.19.5->scikit-learn==1.5.2) (2024.2.0)\r\n",
      "Requirement already satisfied: intel-cmplr-lib-ur==2024.2.0 in /usr/local/lib/python3.11/dist-packages (from intel-openmp<2026,>=2024->mkl->numpy>=1.19.5->scikit-learn==1.5.2) (2024.2.0)\r\n",
      "Requirement already satisfied: MarkupSafe>=0.9.2 in /usr/local/lib/python3.11/dist-packages (from Mako->alembic>=1.5.0->optuna>=4.2.1->koolbox) (3.0.2)\r\n",
      "Downloading scikit_learn-1.5.2-cp311-cp311-manylinux_2_17_x86_64.manylinux2014_x86_64.whl (13.3 MB)\r\n",
      "\u001b[2K   \u001b[90m━━━━━━━━━━━━━━━━━━━━━━━━━━━━━━━━━━━━━━━━\u001b[0m \u001b[32m13.3/13.3 MB\u001b[0m \u001b[31m71.0 MB/s\u001b[0m eta \u001b[36m0:00:00\u001b[0m\r\n",
      "\u001b[?25hDownloading koolbox-0.1.3-py3-none-any.whl (18 kB)\r\n",
      "Installing collected packages: scikit-learn, koolbox\r\n",
      "  Attempting uninstall: scikit-learn\r\n",
      "    Found existing installation: scikit-learn 1.2.2\r\n",
      "    Uninstalling scikit-learn-1.2.2:\r\n",
      "      Successfully uninstalled scikit-learn-1.2.2\r\n",
      "\u001b[31mERROR: pip's dependency resolver does not currently take into account all the packages that are installed. This behaviour is the source of the following dependency conflicts.\r\n",
      "cesium 0.12.4 requires numpy<3.0,>=2.0, but you have numpy 1.26.4 which is incompatible.\u001b[0m\u001b[31m\r\n",
      "\u001b[0mSuccessfully installed koolbox-0.1.3 scikit-learn-1.5.2\r\n"
     ]
    }
   ],
   "source": [
    "!pip install koolbox scikit-learn==1.5.2"
   ]
  },
  {
   "cell_type": "markdown",
   "id": "7f3bb9dc",
   "metadata": {
    "papermill": {
     "duration": 0.003594,
     "end_time": "2025-06-07T07:25:10.355648",
     "exception": false,
     "start_time": "2025-06-07T07:25:10.352054",
     "status": "completed"
    },
    "tags": []
   },
   "source": [
    "# Imports and configs"
   ]
  },
  {
   "cell_type": "code",
   "execution_count": 2,
   "id": "fae2b5e5",
   "metadata": {
    "_kg_hide-output": true,
    "execution": {
     "iopub.execute_input": "2025-06-07T07:25:10.363828Z",
     "iopub.status.busy": "2025-06-07T07:25:10.363588Z",
     "iopub.status.idle": "2025-06-07T07:25:16.689705Z",
     "shell.execute_reply": "2025-06-07T07:25:16.689044Z"
    },
    "papermill": {
     "duration": 6.331484,
     "end_time": "2025-06-07T07:25:16.690866",
     "exception": false,
     "start_time": "2025-06-07T07:25:10.359382",
     "status": "completed"
    },
    "tags": []
   },
   "outputs": [],
   "source": [
    "from sklearn.model_selection import KFold\n",
    "from sklearn.linear_model import Ridge\n",
    "from lightgbm import LGBMRegressor\n",
    "from scipy.stats import pearsonr as pr\n",
    "from xgboost import XGBRegressor\n",
    "from sklearn.base import clone\n",
    "from koolbox import Trainer\n",
    "import matplotlib.pyplot as plt\n",
    "import seaborn as sns\n",
    "import pandas as pd\n",
    "import numpy as np\n",
    "import warnings\n",
    "import optuna\n",
    "import joblib\n",
    "import glob\n",
    "import gc\n",
    "\n",
    "warnings.filterwarnings(\"ignore\")"
   ]
  },
  {
   "cell_type": "code",
   "execution_count": 3,
   "id": "5cfd6944",
   "metadata": {
    "execution": {
     "iopub.execute_input": "2025-06-07T07:25:16.699364Z",
     "iopub.status.busy": "2025-06-07T07:25:16.698870Z",
     "iopub.status.idle": "2025-06-07T07:25:16.702670Z",
     "shell.execute_reply": "2025-06-07T07:25:16.702087Z"
    },
    "papermill": {
     "duration": 0.008835,
     "end_time": "2025-06-07T07:25:16.703512",
     "exception": false,
     "start_time": "2025-06-07T07:25:16.694677",
     "status": "completed"
    },
    "tags": []
   },
   "outputs": [],
   "source": [
    "class CFG:\n",
    "    train_path = \"/kaggle/input/drw-crypto-market-prediction/train.parquet\"\n",
    "    test_path = \"/kaggle/input/drw-crypto-market-prediction/test.parquet\"\n",
    "    sample_sub_path = \"/kaggle/input/drw-crypto-market-prediction/sample_submission.csv\"\n",
    "\n",
    "    target = \"label\"\n",
    "    n_folds = 5\n",
    "    seed = 42\n",
    "\n",
    "    run_optuna = True\n",
    "    n_optuna_trials = 500"
   ]
  },
  {
   "cell_type": "markdown",
   "id": "753b61c0",
   "metadata": {
    "papermill": {
     "duration": 0.003275,
     "end_time": "2025-06-07T07:25:16.710461",
     "exception": false,
     "start_time": "2025-06-07T07:25:16.707186",
     "status": "completed"
    },
    "tags": []
   },
   "source": [
    "# Data loading and preprocessing"
   ]
  },
  {
   "cell_type": "code",
   "execution_count": 4,
   "id": "4aec9466",
   "metadata": {
    "_kg_hide-input": true,
    "execution": {
     "iopub.execute_input": "2025-06-07T07:25:16.717944Z",
     "iopub.status.busy": "2025-06-07T07:25:16.717749Z",
     "iopub.status.idle": "2025-06-07T07:25:16.724317Z",
     "shell.execute_reply": "2025-06-07T07:25:16.723837Z"
    },
    "papermill": {
     "duration": 0.01155,
     "end_time": "2025-06-07T07:25:16.725317",
     "exception": false,
     "start_time": "2025-06-07T07:25:16.713767",
     "status": "completed"
    },
    "tags": []
   },
   "outputs": [],
   "source": [
    "def reduce_mem_usage(dataframe, dataset):    \n",
    "    print('Reducing memory usage for:', dataset)\n",
    "    initial_mem_usage = dataframe.memory_usage().sum() / 1024**2\n",
    "    \n",
    "    for col in dataframe.columns:\n",
    "        col_type = dataframe[col].dtype\n",
    "\n",
    "        c_min = dataframe[col].min()\n",
    "        c_max = dataframe[col].max()\n",
    "        if str(col_type)[:3] == 'int':\n",
    "            if c_min > np.iinfo(np.int8).min and c_max < np.iinfo(np.int8).max:\n",
    "                dataframe[col] = dataframe[col].astype(np.int8)\n",
    "            elif c_min > np.iinfo(np.int16).min and c_max < np.iinfo(np.int16).max:\n",
    "                dataframe[col] = dataframe[col].astype(np.int16)\n",
    "            elif c_min > np.iinfo(np.int32).min and c_max < np.iinfo(np.int32).max:\n",
    "                dataframe[col] = dataframe[col].astype(np.int32)\n",
    "            elif c_min > np.iinfo(np.int64).min and c_max < np.iinfo(np.int64).max:\n",
    "                dataframe[col] = dataframe[col].astype(np.int64)\n",
    "        else:\n",
    "            if c_min > np.finfo(np.float16).min and c_max < np.finfo(np.float16).max:\n",
    "                dataframe[col] = dataframe[col].astype(np.float16)\n",
    "            elif c_min > np.finfo(np.float32).min and c_max < np.finfo(np.float32).max:\n",
    "                dataframe[col] = dataframe[col].astype(np.float32)\n",
    "            else:\n",
    "                dataframe[col] = dataframe[col].astype(np.float64)\n",
    "\n",
    "    final_mem_usage = dataframe.memory_usage().sum() / 1024**2\n",
    "    print('--- Memory usage before: {:.2f} MB'.format(initial_mem_usage))\n",
    "    print('--- Memory usage after: {:.2f} MB'.format(final_mem_usage))\n",
    "    print('--- Decreased memory usage by {:.1f}%\\n'.format(100 * (initial_mem_usage - final_mem_usage) / initial_mem_usage))\n",
    "\n",
    "    return dataframe"
   ]
  },
  {
   "cell_type": "code",
   "execution_count": 5,
   "id": "ad3e35ca",
   "metadata": {
    "execution": {
     "iopub.execute_input": "2025-06-07T07:25:16.733453Z",
     "iopub.status.busy": "2025-06-07T07:25:16.733264Z",
     "iopub.status.idle": "2025-06-07T07:26:28.222786Z",
     "shell.execute_reply": "2025-06-07T07:26:28.222154Z"
    },
    "papermill": {
     "duration": 71.495053,
     "end_time": "2025-06-07T07:26:28.224321",
     "exception": false,
     "start_time": "2025-06-07T07:25:16.729268",
     "status": "completed"
    },
    "tags": []
   },
   "outputs": [
    {
     "name": "stdout",
     "output_type": "stream",
     "text": [
      "Reducing memory usage for: train\n",
      "--- Memory usage before: 3594.93 MB\n",
      "--- Memory usage after: 961.92 MB\n",
      "--- Decreased memory usage by 73.2%\n",
      "\n",
      "Reducing memory usage for: test\n",
      "--- Memory usage before: 3678.76 MB\n",
      "--- Memory usage after: 984.36 MB\n",
      "--- Decreased memory usage by 73.2%\n",
      "\n"
     ]
    }
   ],
   "source": [
    "train = pd.read_parquet(CFG.train_path).reset_index(drop=True)\n",
    "test = pd.read_parquet(CFG.test_path).reset_index(drop=True)\n",
    "\n",
    "train = reduce_mem_usage(train, \"train\")\n",
    "test = reduce_mem_usage(test, \"test\")\n",
    "\n",
    "X = train.drop(CFG.target, axis=1)\n",
    "y = train[CFG.target]\n",
    "X_test = test.drop(CFG.target, axis=1)"
   ]
  },
  {
   "cell_type": "code",
   "execution_count": 6,
   "id": "495c7d61",
   "metadata": {
    "execution": {
     "iopub.execute_input": "2025-06-07T07:26:28.234661Z",
     "iopub.status.busy": "2025-06-07T07:26:28.234442Z",
     "iopub.status.idle": "2025-06-07T07:26:28.306233Z",
     "shell.execute_reply": "2025-06-07T07:26:28.305660Z"
    },
    "papermill": {
     "duration": 0.078723,
     "end_time": "2025-06-07T07:26:28.307448",
     "exception": false,
     "start_time": "2025-06-07T07:26:28.228725",
     "status": "completed"
    },
    "tags": []
   },
   "outputs": [],
   "source": [
    "features = [\n",
    "    # https://www.kaggle.com/code/sadettinamilverdil/yat-r-m-tavsiyesi-de-ildir\n",
    "    \"X863\", \"X856\", \"X344\", \"X598\", \"X862\", \"X385\", \"X852\", \"X603\", \"X860\", \"X674\",\n",
    "    \"X415\", \"X345\", \"X137\", \"X855\", \"X174\", \"X302\", \"X178\", \"X532\", \"X168\", \"X612\",\n",
    "    \"bid_qty\", \"ask_qty\", \"buy_qty\", \"sell_qty\", \"volume\"\n",
    "]\n",
    "\n",
    "X = X[features]\n",
    "X_test = X_test[features]"
   ]
  },
  {
   "cell_type": "markdown",
   "id": "b46ce429",
   "metadata": {
    "papermill": {
     "duration": 0.003608,
     "end_time": "2025-06-07T07:26:28.315067",
     "exception": false,
     "start_time": "2025-06-07T07:26:28.311459",
     "status": "completed"
    },
    "tags": []
   },
   "source": [
    "# Training base models"
   ]
  },
  {
   "cell_type": "code",
   "execution_count": 7,
   "id": "f22deb7a",
   "metadata": {
    "execution": {
     "iopub.execute_input": "2025-06-07T07:26:28.323085Z",
     "iopub.status.busy": "2025-06-07T07:26:28.322869Z",
     "iopub.status.idle": "2025-06-07T07:26:28.326056Z",
     "shell.execute_reply": "2025-06-07T07:26:28.325494Z"
    },
    "papermill": {
     "duration": 0.008327,
     "end_time": "2025-06-07T07:26:28.326998",
     "exception": false,
     "start_time": "2025-06-07T07:26:28.318671",
     "status": "completed"
    },
    "tags": []
   },
   "outputs": [],
   "source": [
    "def pearsonr(y_true, y_pred):\n",
    "    return pr(y_true, y_pred)[0]"
   ]
  },
  {
   "cell_type": "code",
   "execution_count": 8,
   "id": "b0437cf7",
   "metadata": {
    "_kg_hide-input": true,
    "_kg_hide-output": true,
    "execution": {
     "iopub.execute_input": "2025-06-07T07:26:28.334921Z",
     "iopub.status.busy": "2025-06-07T07:26:28.334762Z",
     "iopub.status.idle": "2025-06-07T07:26:28.339682Z",
     "shell.execute_reply": "2025-06-07T07:26:28.339055Z"
    },
    "papermill": {
     "duration": 0.01016,
     "end_time": "2025-06-07T07:26:28.340876",
     "exception": false,
     "start_time": "2025-06-07T07:26:28.330716",
     "status": "completed"
    },
    "tags": []
   },
   "outputs": [],
   "source": [
    "lgbm_params = {\n",
    "    \"boosting_type\": \"gbdt\",\n",
    "    \"colsample_bytree\": 0.5625888953382505,\n",
    "    \"learning_rate\": 0.029312951475451557,\n",
    "    \"min_child_samples\": 63,\n",
    "    \"min_child_weight\": 0.11456572852335424,\n",
    "    \"n_estimators\": 126,\n",
    "    \"n_jobs\": -1,\n",
    "    \"num_leaves\": 37,\n",
    "    \"random_state\": 42,\n",
    "    \"reg_alpha\": 85.2476527854083,\n",
    "    \"reg_lambda\": 99.38305361388907,\n",
    "    \"subsample\": 0.450669817684892,\n",
    "    \"verbose\": -1\n",
    "}\n",
    "\n",
    "lgbm_goss_params = {\n",
    "    \"boosting_type\": \"goss\",\n",
    "    \"colsample_bytree\": 0.34695458228489784,\n",
    "    \"learning_rate\": 0.031023014900595287,\n",
    "    \"min_child_samples\": 30,\n",
    "    \"min_child_weight\": 0.4727729225033618,\n",
    "    \"n_estimators\": 220,\n",
    "    \"n_jobs\": -1,\n",
    "    \"num_leaves\": 58,\n",
    "    \"random_state\": 42,\n",
    "    \"reg_alpha\": 38.665994901468224,\n",
    "    \"reg_lambda\": 92.76991677464294,\n",
    "    \"subsample\": 0.4810891284493255,\n",
    "    \"verbose\": -1\n",
    "}\n",
    "\n",
    "xgb_params = {\n",
    "    \"colsample_bylevel\": 0.4778015829774066,\n",
    "    \"colsample_bynode\": 0.362764358742407,\n",
    "    \"colsample_bytree\": 0.7107423488010493,\n",
    "    \"gamma\": 1.7094857725240398,\n",
    "    \"learning_rate\": 0.02213323588455387,\n",
    "    \"max_depth\": 20,\n",
    "    \"max_leaves\": 12,\n",
    "    \"min_child_weight\": 16,\n",
    "    \"n_estimators\": 1667,\n",
    "    \"n_jobs\": -1,\n",
    "    \"random_state\": 42,\n",
    "    \"reg_alpha\": 39.352415706891264,\n",
    "    \"reg_lambda\": 75.44843704068275,\n",
    "    \"subsample\": 0.06566669853471274,\n",
    "    \"verbosity\": 0\n",
    "}"
   ]
  },
  {
   "cell_type": "code",
   "execution_count": 9,
   "id": "85d98947",
   "metadata": {
    "execution": {
     "iopub.execute_input": "2025-06-07T07:26:28.349528Z",
     "iopub.status.busy": "2025-06-07T07:26:28.349348Z",
     "iopub.status.idle": "2025-06-07T07:26:28.352090Z",
     "shell.execute_reply": "2025-06-07T07:26:28.351605Z"
    },
    "papermill": {
     "duration": 0.007855,
     "end_time": "2025-06-07T07:26:28.352976",
     "exception": false,
     "start_time": "2025-06-07T07:26:28.345121",
     "status": "completed"
    },
    "tags": []
   },
   "outputs": [],
   "source": [
    "fold_scores = {}\n",
    "overall_scores = {}\n",
    "\n",
    "oof_preds = {}\n",
    "test_preds = {}"
   ]
  },
  {
   "cell_type": "markdown",
   "id": "4dddda7a",
   "metadata": {
    "papermill": {
     "duration": 0.003462,
     "end_time": "2025-06-07T07:26:28.360194",
     "exception": false,
     "start_time": "2025-06-07T07:26:28.356732",
     "status": "completed"
    },
    "tags": []
   },
   "source": [
    "## LightGBM (gbdt)"
   ]
  },
  {
   "cell_type": "code",
   "execution_count": 10,
   "id": "9b7e0625",
   "metadata": {
    "execution": {
     "iopub.execute_input": "2025-06-07T07:26:28.368164Z",
     "iopub.status.busy": "2025-06-07T07:26:28.367955Z",
     "iopub.status.idle": "2025-06-07T07:26:49.491014Z",
     "shell.execute_reply": "2025-06-07T07:26:49.490444Z"
    },
    "papermill": {
     "duration": 21.12834,
     "end_time": "2025-06-07T07:26:49.492183",
     "exception": false,
     "start_time": "2025-06-07T07:26:28.363843",
     "status": "completed"
    },
    "tags": []
   },
   "outputs": [
    {
     "name": "stdout",
     "output_type": "stream",
     "text": [
      "Training LGBMRegressor\n",
      "\n",
      "--- Fold 0 - pearsonr: 0.119944 - Time: 3.66 s\n",
      "--- Fold 1 - pearsonr: 0.101273 - Time: 2.77 s\n",
      "--- Fold 2 - pearsonr: 0.023888 - Time: 2.65 s\n",
      "--- Fold 3 - pearsonr: 0.159401 - Time: 2.78 s\n",
      "--- Fold 4 - pearsonr: 0.086810 - Time: 2.52 s\n",
      "\n",
      "------ Overall pearsonr: 0.088687 - Mean pearsonr: 0.098263 ± 0.044452 - Time: 14.96 s\n"
     ]
    }
   ],
   "source": [
    "lgbm_trainer = Trainer(\n",
    "    LGBMRegressor(**lgbm_params),\n",
    "    cv=KFold(n_splits=5, shuffle=False),\n",
    "    metric=pearsonr,\n",
    "    task=\"regression\",\n",
    "    metric_precision=6\n",
    ")\n",
    "\n",
    "lgbm_trainer.fit(X, y)\n",
    "\n",
    "fold_scores[\"LightGBM (gbdt)\"] = lgbm_trainer.fold_scores\n",
    "overall_scores[\"LightGBM (gbdt)\"] = [pearsonr(lgbm_trainer.oof_preds, y)]\n",
    "oof_preds[\"LightGBM (gbdt)\"] = lgbm_trainer.oof_preds\n",
    "test_preds[\"LightGBM (gbdt)\"] = lgbm_trainer.predict(X_test)"
   ]
  },
  {
   "cell_type": "markdown",
   "id": "9e598a6a",
   "metadata": {
    "papermill": {
     "duration": 0.003737,
     "end_time": "2025-06-07T07:26:49.501147",
     "exception": false,
     "start_time": "2025-06-07T07:26:49.497410",
     "status": "completed"
    },
    "tags": []
   },
   "source": [
    "## LightGBM (goss)"
   ]
  },
  {
   "cell_type": "code",
   "execution_count": 11,
   "id": "37a03804",
   "metadata": {
    "execution": {
     "iopub.execute_input": "2025-06-07T07:26:49.509590Z",
     "iopub.status.busy": "2025-06-07T07:26:49.509395Z",
     "iopub.status.idle": "2025-06-07T07:27:29.986099Z",
     "shell.execute_reply": "2025-06-07T07:27:29.985381Z"
    },
    "papermill": {
     "duration": 40.482401,
     "end_time": "2025-06-07T07:27:29.987418",
     "exception": false,
     "start_time": "2025-06-07T07:26:49.505017",
     "status": "completed"
    },
    "tags": []
   },
   "outputs": [
    {
     "name": "stdout",
     "output_type": "stream",
     "text": [
      "Training LGBMRegressor\n",
      "\n",
      "--- Fold 0 - pearsonr: 0.125020 - Time: 4.84 s\n",
      "--- Fold 1 - pearsonr: 0.101415 - Time: 4.88 s\n",
      "--- Fold 2 - pearsonr: 0.034181 - Time: 5.72 s\n",
      "--- Fold 3 - pearsonr: 0.156489 - Time: 4.80 s\n",
      "--- Fold 4 - pearsonr: 0.093788 - Time: 4.87 s\n",
      "\n",
      "------ Overall pearsonr: 0.096503 - Mean pearsonr: 0.102178 ± 0.040413 - Time: 25.68 s\n"
     ]
    }
   ],
   "source": [
    "lgbm_goss_trainer = Trainer(\n",
    "    LGBMRegressor(**lgbm_goss_params),\n",
    "    cv=KFold(n_splits=5, shuffle=False),\n",
    "    metric=pearsonr,\n",
    "    task=\"regression\",\n",
    "    metric_precision=6\n",
    ")\n",
    "\n",
    "lgbm_goss_trainer.fit(X, y)\n",
    "\n",
    "fold_scores[\"LightGBM (goss)\"] = lgbm_goss_trainer.fold_scores\n",
    "overall_scores[\"LightGBM (goss)\"] = [pearsonr(lgbm_goss_trainer.oof_preds, y)]\n",
    "oof_preds[\"LightGBM (goss)\"] = lgbm_goss_trainer.oof_preds\n",
    "test_preds[\"LightGBM (goss)\"] = lgbm_goss_trainer.predict(X_test)"
   ]
  },
  {
   "cell_type": "markdown",
   "id": "64e484b0",
   "metadata": {
    "papermill": {
     "duration": 0.003984,
     "end_time": "2025-06-07T07:27:29.996111",
     "exception": false,
     "start_time": "2025-06-07T07:27:29.992127",
     "status": "completed"
    },
    "tags": []
   },
   "source": [
    "## XGBoost"
   ]
  },
  {
   "cell_type": "code",
   "execution_count": 12,
   "id": "fcaec5d0",
   "metadata": {
    "execution": {
     "iopub.execute_input": "2025-06-07T07:27:30.005277Z",
     "iopub.status.busy": "2025-06-07T07:27:30.004982Z",
     "iopub.status.idle": "2025-06-07T07:29:19.798654Z",
     "shell.execute_reply": "2025-06-07T07:29:19.797986Z"
    },
    "papermill": {
     "duration": 109.800065,
     "end_time": "2025-06-07T07:29:19.800200",
     "exception": false,
     "start_time": "2025-06-07T07:27:30.000135",
     "status": "completed"
    },
    "tags": []
   },
   "outputs": [
    {
     "name": "stdout",
     "output_type": "stream",
     "text": [
      "Training XGBRegressor\n",
      "\n",
      "--- Fold 0 - pearsonr: 0.186980 - Time: 17.17 s\n",
      "--- Fold 1 - pearsonr: 0.126919 - Time: 16.36 s\n",
      "--- Fold 2 - pearsonr: 0.085247 - Time: 17.68 s\n",
      "--- Fold 3 - pearsonr: 0.162445 - Time: 17.37 s\n",
      "--- Fold 4 - pearsonr: 0.137543 - Time: 16.20 s\n",
      "\n",
      "------ Overall pearsonr: 0.137687 - Mean pearsonr: 0.139827 ± 0.034310 - Time: 85.37 s\n"
     ]
    }
   ],
   "source": [
    "xgb_trainer = Trainer(\n",
    "    XGBRegressor(**xgb_params),\n",
    "    cv=KFold(n_splits=5, shuffle=False),\n",
    "    metric=pearsonr,\n",
    "    task=\"regression\",\n",
    "    metric_precision=6\n",
    ")\n",
    "\n",
    "xgb_trainer.fit(X, y)\n",
    "\n",
    "fold_scores[\"XGBoost\"] = xgb_trainer.fold_scores\n",
    "overall_scores[\"XGBoost\"] = [pearsonr(xgb_trainer.oof_preds, y)]\n",
    "oof_preds[\"XGBoost\"] = xgb_trainer.oof_preds\n",
    "test_preds[\"XGBoost\"] = xgb_trainer.predict(X_test)"
   ]
  },
  {
   "cell_type": "markdown",
   "id": "486f8beb",
   "metadata": {
    "papermill": {
     "duration": 0.004181,
     "end_time": "2025-06-07T07:29:19.810045",
     "exception": false,
     "start_time": "2025-06-07T07:29:19.805864",
     "status": "completed"
    },
    "tags": []
   },
   "source": [
    "## AutoGluon"
   ]
  },
  {
   "cell_type": "code",
   "execution_count": 13,
   "id": "a749c3f1",
   "metadata": {
    "execution": {
     "iopub.execute_input": "2025-06-07T07:29:19.819670Z",
     "iopub.status.busy": "2025-06-07T07:29:19.819410Z",
     "iopub.status.idle": "2025-06-07T07:29:19.901951Z",
     "shell.execute_reply": "2025-06-07T07:29:19.901285Z"
    },
    "papermill": {
     "duration": 0.08901,
     "end_time": "2025-06-07T07:29:19.903376",
     "exception": false,
     "start_time": "2025-06-07T07:29:19.814366",
     "status": "completed"
    },
    "tags": []
   },
   "outputs": [],
   "source": [
    "oof_preds_files = glob.glob(f'/kaggle/input/drw-crypto-market-prediction-autogluon/*_oof_preds_*.pkl')\n",
    "test_preds_files = glob.glob(f'/kaggle/input/drw-crypto-market-prediction-autogluon/*_test_preds_*.pkl')\n",
    "\n",
    "ag_oof_preds = joblib.load(oof_preds_files[0])\n",
    "ag_test_preds = joblib.load(test_preds_files[0])\n",
    "\n",
    "ag_score = [pearsonr(ag_oof_preds, y)]\n",
    "\n",
    "ag_scores = []\n",
    "split = KFold(n_splits=CFG.n_folds).split(X, y)\n",
    "for _, val_idx in split:\n",
    "    y_val = y[val_idx]\n",
    "    y_preds = ag_oof_preds[val_idx]   \n",
    "    score = pearsonr(y_preds, y_val)\n",
    "    ag_scores.append(score)\n",
    "    \n",
    "oof_preds[\"AutoGluon\"], test_preds[\"AutoGluon\"], overall_scores[\"AutoGluon\"], fold_scores[\"AutoGluon\"] = ag_oof_preds, ag_test_preds, ag_score, ag_scores"
   ]
  },
  {
   "cell_type": "markdown",
   "id": "11da5c68",
   "metadata": {
    "papermill": {
     "duration": 0.004126,
     "end_time": "2025-06-07T07:29:19.912843",
     "exception": false,
     "start_time": "2025-06-07T07:29:19.908717",
     "status": "completed"
    },
    "tags": []
   },
   "source": [
    "# Ensembling with Ridge"
   ]
  },
  {
   "cell_type": "code",
   "execution_count": 14,
   "id": "6d095d56",
   "metadata": {
    "_kg_hide-input": true,
    "execution": {
     "iopub.execute_input": "2025-06-07T07:29:19.922605Z",
     "iopub.status.busy": "2025-06-07T07:29:19.922407Z",
     "iopub.status.idle": "2025-06-07T07:29:19.927583Z",
     "shell.execute_reply": "2025-06-07T07:29:19.927029Z"
    },
    "papermill": {
     "duration": 0.010995,
     "end_time": "2025-06-07T07:29:19.928465",
     "exception": false,
     "start_time": "2025-06-07T07:29:19.917470",
     "status": "completed"
    },
    "tags": []
   },
   "outputs": [],
   "source": [
    "def plot_weights(weights, title):\n",
    "    sorted_indices = np.argsort(weights[0])[::-1]\n",
    "    sorted_coeffs = np.array(weights[0])[sorted_indices]\n",
    "    sorted_model_names = np.array(list(oof_preds.keys()))[sorted_indices]\n",
    "\n",
    "    plt.figure(figsize=(10, weights.shape[1] * 0.5))\n",
    "    ax = sns.barplot(x=sorted_coeffs, y=sorted_model_names, palette=\"RdYlGn_r\")\n",
    "\n",
    "    for i, (value, name) in enumerate(zip(sorted_coeffs, sorted_model_names)):\n",
    "        if value >= 0:\n",
    "            ax.text(value, i, f\"{value:.3f}\", va=\"center\", ha=\"left\", color=\"black\")\n",
    "        else:\n",
    "            ax.text(value, i, f\"{value:.3f}\", va=\"center\", ha=\"right\", color=\"black\")\n",
    "\n",
    "    xlim = ax.get_xlim()\n",
    "    ax.set_xlim(xlim[0] - 0.1 * abs(xlim[0]), xlim[1] + 0.1 * abs(xlim[1]))\n",
    "\n",
    "    plt.title(title)\n",
    "    plt.xlabel(\"\")\n",
    "    plt.ylabel(\"\")\n",
    "    plt.tight_layout()\n",
    "    plt.show()"
   ]
  },
  {
   "cell_type": "code",
   "execution_count": 15,
   "id": "a5b4c9a1",
   "metadata": {
    "execution": {
     "iopub.execute_input": "2025-06-07T07:29:19.937889Z",
     "iopub.status.busy": "2025-06-07T07:29:19.937697Z",
     "iopub.status.idle": "2025-06-07T07:29:20.133602Z",
     "shell.execute_reply": "2025-06-07T07:29:20.132976Z"
    },
    "papermill": {
     "duration": 0.202234,
     "end_time": "2025-06-07T07:29:20.135046",
     "exception": false,
     "start_time": "2025-06-07T07:29:19.932812",
     "status": "completed"
    },
    "tags": []
   },
   "outputs": [],
   "source": [
    "X = pd.DataFrame(oof_preds)\n",
    "X_test = pd.DataFrame(test_preds)"
   ]
  },
  {
   "cell_type": "code",
   "execution_count": 16,
   "id": "f9d3a57a",
   "metadata": {
    "execution": {
     "iopub.execute_input": "2025-06-07T07:29:20.145208Z",
     "iopub.status.busy": "2025-06-07T07:29:20.145056Z",
     "iopub.status.idle": "2025-06-07T07:29:20.182357Z",
     "shell.execute_reply": "2025-06-07T07:29:20.181728Z"
    },
    "papermill": {
     "duration": 0.043267,
     "end_time": "2025-06-07T07:29:20.183336",
     "exception": false,
     "start_time": "2025-06-07T07:29:20.140069",
     "status": "completed"
    },
    "tags": []
   },
   "outputs": [
    {
     "data": {
      "text/plain": [
       "['test_preds.pkl']"
      ]
     },
     "execution_count": 16,
     "metadata": {},
     "output_type": "execute_result"
    }
   ],
   "source": [
    "joblib.dump(X, \"oof_preds.pkl\")\n",
    "joblib.dump(X_test, \"test_preds.pkl\")"
   ]
  },
  {
   "cell_type": "code",
   "execution_count": 17,
   "id": "78e78948",
   "metadata": {
    "_kg_hide-output": true,
    "execution": {
     "iopub.execute_input": "2025-06-07T07:29:20.193520Z",
     "iopub.status.busy": "2025-06-07T07:29:20.193339Z",
     "iopub.status.idle": "2025-06-07T07:35:15.186251Z",
     "shell.execute_reply": "2025-06-07T07:35:15.185675Z"
    },
    "papermill": {
     "duration": 354.999037,
     "end_time": "2025-06-07T07:35:15.187344",
     "exception": false,
     "start_time": "2025-06-07T07:29:20.188307",
     "status": "completed"
    },
    "scrolled": true,
    "tags": []
   },
   "outputs": [
    {
     "name": "stderr",
     "output_type": "stream",
     "text": [
      "[I 2025-06-07 07:29:20,197] A new study created in memory with name: no-name-1b964b42-8a69-491b-bb71-d826cf2c8865\n",
      "[I 2025-06-07 07:29:22,808] Trial 0 finished with value: 0.16666320696255205 and parameters: {'alpha': 58.55129990713325, 'tol': 0.006489926122192889, 'fit_intercept': False, 'positive': False}. Best is trial 0 with value: 0.16666320696255205.\n",
      "[I 2025-06-07 07:29:23,130] Trial 1 finished with value: 0.1579779232646187 and parameters: {'alpha': 8.45059860781564, 'tol': 0.002571514544033319, 'fit_intercept': False, 'positive': True}. Best is trial 0 with value: 0.16666320696255205.\n",
      "[I 2025-06-07 07:29:23,416] Trial 2 finished with value: 0.13626339963732073 and parameters: {'alpha': 58.586589051361635, 'tol': 0.00913872888100316, 'fit_intercept': True, 'positive': True}. Best is trial 0 with value: 0.16666320696255205.\n",
      "[I 2025-06-07 07:29:23,424] Trial 3 finished with value: 0.14807715055496556 and parameters: {'alpha': 27.515834216297065, 'tol': 0.003925061060633491, 'fit_intercept': True, 'positive': True}. Best is trial 0 with value: 0.16666320696255205.\n",
      "[I 2025-06-07 07:29:25,691] Trial 5 finished with value: 0.1666716675537307 and parameters: {'alpha': 31.51152938475672, 'tol': 0.0022450982678324004, 'fit_intercept': False, 'positive': False}. Best is trial 5 with value: 0.1666716675537307.\n",
      "[I 2025-06-07 07:29:25,706] Trial 4 finished with value: 0.15405474357683546 and parameters: {'alpha': 99.04225951280343, 'tol': 0.003931976486407458, 'fit_intercept': False, 'positive': True}. Best is trial 5 with value: 0.1666716675537307.\n",
      "[I 2025-06-07 07:29:26,001] Trial 7 finished with value: 0.16665751308529422 and parameters: {'alpha': 71.13627428400082, 'tol': 0.0013069834814649769, 'fit_intercept': False, 'positive': False}. Best is trial 5 with value: 0.1666716675537307.\n",
      "[I 2025-06-07 07:29:26,803] Trial 6 finished with value: 0.15317676588030002 and parameters: {'alpha': 27.945897735494817, 'tol': 0.0018427852455947882, 'fit_intercept': True, 'positive': True}. Best is trial 5 with value: 0.1666716675537307.\n",
      "[I 2025-06-07 07:29:28,247] Trial 9 finished with value: 0.16353238428430025 and parameters: {'alpha': 72.53405315021261, 'tol': 0.00905742214305783, 'fit_intercept': True, 'positive': False}. Best is trial 5 with value: 0.1666716675537307.\n",
      "[I 2025-06-07 07:29:28,262] Trial 8 finished with value: 0.16352556296927725 and parameters: {'alpha': 77.39232834496813, 'tol': 0.004193389578452407, 'fit_intercept': True, 'positive': False}. Best is trial 5 with value: 0.1666716675537307.\n",
      "[I 2025-06-07 07:29:28,413] Trial 10 finished with value: 0.16667474877368757 and parameters: {'alpha': 3.748483433884997, 'tol': 0.0033448305812066935, 'fit_intercept': False, 'positive': False}. Best is trial 10 with value: 0.16667474877368757.\n",
      "[I 2025-06-07 07:29:30,082] Trial 11 finished with value: 0.14801076224121 and parameters: {'alpha': 81.57675374123015, 'tol': 0.004152387204625855, 'fit_intercept': True, 'positive': True}. Best is trial 10 with value: 0.16667474877368757.\n",
      "[I 2025-06-07 07:29:31,022] Trial 13 finished with value: 0.16664760431999753 and parameters: {'alpha': 88.97308829793067, 'tol': 0.009601339057123109, 'fit_intercept': False, 'positive': False}. Best is trial 10 with value: 0.16667474877368757.\n",
      "[I 2025-06-07 07:29:31,030] Trial 12 finished with value: 0.16357470352695813 and parameters: {'alpha': 38.22549226872107, 'tol': 0.00997408150075233, 'fit_intercept': True, 'positive': False}. Best is trial 10 with value: 0.16667474877368757.\n",
      "[I 2025-06-07 07:29:31,172] Trial 14 finished with value: 0.1666538231412779 and parameters: {'alpha': 78.23749110378027, 'tol': 0.006886774759175598, 'fit_intercept': False, 'positive': False}. Best is trial 10 with value: 0.16667474877368757.\n",
      "[I 2025-06-07 07:29:32,759] Trial 15 finished with value: 0.16360492525937947 and parameters: {'alpha': 5.508330128412176, 'tol': 0.001531454838149978, 'fit_intercept': True, 'positive': False}. Best is trial 10 with value: 0.16667474877368757.\n",
      "[I 2025-06-07 07:29:33,670] Trial 17 finished with value: 0.1666573272291426 and parameters: {'alpha': 71.5103349910203, 'tol': 0.0013576743797428605, 'fit_intercept': False, 'positive': False}. Best is trial 10 with value: 0.16667474877368757.\n",
      "[I 2025-06-07 07:29:33,682] Trial 16 finished with value: 0.1635477544239912 and parameters: {'alpha': 61.012783317972676, 'tol': 0.009198687303679613, 'fit_intercept': True, 'positive': False}. Best is trial 10 with value: 0.16667474877368757.\n",
      "[I 2025-06-07 07:29:33,689] Trial 18 finished with value: 0.16666951910783553 and parameters: {'alpha': 40.21097583779542, 'tol': 0.004050027375283205, 'fit_intercept': False, 'positive': False}. Best is trial 10 with value: 0.16667474877368757.\n",
      "[I 2025-06-07 07:29:35,632] Trial 19 finished with value: 0.1537975688050183 and parameters: {'alpha': 11.384226324479908, 'tol': 0.004696436409368232, 'fit_intercept': False, 'positive': True}. Best is trial 10 with value: 0.16667474877368757.\n",
      "[I 2025-06-07 07:29:36,539] Trial 20 finished with value: 0.1362619431211605 and parameters: {'alpha': 71.25205681413115, 'tol': 0.006879488156409137, 'fit_intercept': True, 'positive': True}. Best is trial 10 with value: 0.16667474877368757.\n",
      "[I 2025-06-07 07:29:36,547] Trial 21 finished with value: 0.14908333846191554 and parameters: {'alpha': 6.7545650131618284, 'tol': 0.004824762702073898, 'fit_intercept': False, 'positive': True}. Best is trial 10 with value: 0.16667474877368757.\n",
      "[I 2025-06-07 07:29:36,827] Trial 22 finished with value: 0.1534898714811425 and parameters: {'alpha': 8.211056062975741, 'tol': 0.001294440396873374, 'fit_intercept': True, 'positive': True}. Best is trial 10 with value: 0.16667474877368757.\n",
      "[I 2025-06-07 07:29:38,572] Trial 23 finished with value: 0.14197105005363186 and parameters: {'alpha': 75.08904304090687, 'tol': 0.00970581097971366, 'fit_intercept': False, 'positive': True}. Best is trial 10 with value: 0.16667474877368757.\n",
      "[I 2025-06-07 07:29:39,260] Trial 26 finished with value: 0.16665101936312154 and parameters: {'alpha': 83.2419171289452, 'tol': 0.0010159861333726833, 'fit_intercept': False, 'positive': False}. Best is trial 10 with value: 0.16667474877368757.\n",
      "[I 2025-06-07 07:29:39,437] Trial 25 finished with value: 0.14196934525535285 and parameters: {'alpha': 88.28022691775794, 'tol': 0.007647212665577995, 'fit_intercept': False, 'positive': True}. Best is trial 10 with value: 0.16667474877368757.\n",
      "[I 2025-06-07 07:29:39,836] Trial 24 finished with value: 0.1503378110329186 and parameters: {'alpha': 74.86747238506183, 'tol': 0.003056282165203386, 'fit_intercept': True, 'positive': True}. Best is trial 10 with value: 0.16667474877368757.\n",
      "[I 2025-06-07 07:29:41,385] Trial 27 finished with value: 0.16360271757973785 and parameters: {'alpha': 8.345149957303411, 'tol': 0.001603402836411276, 'fit_intercept': True, 'positive': False}. Best is trial 10 with value: 0.16667474877368757.\n",
      "[I 2025-06-07 07:29:41,656] Trial 28 finished with value: 0.16664875971763862 and parameters: {'alpha': 87.07435531845653, 'tol': 2.3528244355823457e-05, 'fit_intercept': False, 'positive': False}. Best is trial 10 with value: 0.16667474877368757.\n",
      "[I 2025-06-07 07:29:42,204] Trial 29 finished with value: 0.1666728016750982 and parameters: {'alpha': 25.64900941050723, 'tol': 1.4348691079460273e-05, 'fit_intercept': False, 'positive': False}. Best is trial 10 with value: 0.16667474877368757.\n",
      "[I 2025-06-07 07:29:43,250] Trial 30 finished with value: 0.13626909547830646 and parameters: {'alpha': 9.009502479549425, 'tol': 0.009252572782851598, 'fit_intercept': True, 'positive': True}. Best is trial 10 with value: 0.16667474877368757.\n",
      "[I 2025-06-07 07:29:43,979] Trial 31 finished with value: 0.16666425616453012 and parameters: {'alpha': 55.92663129657611, 'tol': 0.009151544193401128, 'fit_intercept': False, 'positive': False}. Best is trial 10 with value: 0.16667474877368757.\n",
      "[I 2025-06-07 07:29:44,250] Trial 32 finished with value: 0.16667436394989132 and parameters: {'alpha': 13.110247370597893, 'tol': 0.007929629290238462, 'fit_intercept': False, 'positive': False}. Best is trial 10 with value: 0.16667474877368757.\n",
      "[I 2025-06-07 07:29:44,708] Trial 33 finished with value: 0.163595720797975 and parameters: {'alpha': 16.73597951277791, 'tol': 0.008541340953521744, 'fit_intercept': True, 'positive': False}. Best is trial 10 with value: 0.16667474877368757.\n",
      "[I 2025-06-07 07:29:46,681] Trial 34 finished with value: 0.15443739090206882 and parameters: {'alpha': 71.15866746284509, 'tol': 0.00045849146957721126, 'fit_intercept': True, 'positive': True}. Best is trial 10 with value: 0.16667474877368757.\n",
      "[I 2025-06-07 07:29:46,842] Trial 36 finished with value: 0.16357110820174964 and parameters: {'alpha': 41.51086049377582, 'tol': 0.006657035128073594, 'fit_intercept': True, 'positive': False}. Best is trial 10 with value: 0.16667474877368757.\n",
      "[I 2025-06-07 07:29:47,255] Trial 35 finished with value: 0.15318483413422418 and parameters: {'alpha': 21.429812155368623, 'tol': 0.0026577238501361692, 'fit_intercept': True, 'positive': True}. Best is trial 10 with value: 0.16667474877368757.\n",
      "[I 2025-06-07 07:29:47,971] Trial 37 finished with value: 0.15318151070937924 and parameters: {'alpha': 24.130899177786247, 'tol': 0.0018341309258545606, 'fit_intercept': True, 'positive': True}. Best is trial 10 with value: 0.16667474877368757.\n",
      "[I 2025-06-07 07:29:49,340] Trial 38 finished with value: 0.16358025141342114 and parameters: {'alpha': 32.9656264994136, 'tol': 0.006388909169425442, 'fit_intercept': True, 'positive': False}. Best is trial 10 with value: 0.16667474877368757.\n",
      "[I 2025-06-07 07:29:49,613] Trial 39 finished with value: 0.16353362790714251 and parameters: {'alpha': 71.63265724232282, 'tol': 0.004412350146830785, 'fit_intercept': True, 'positive': False}. Best is trial 10 with value: 0.16667474877368757.\n",
      "[I 2025-06-07 07:29:49,732] Trial 40 finished with value: 0.16667396422122085 and parameters: {'alpha': 17.390094004597636, 'tol': 0.004285458132234826, 'fit_intercept': False, 'positive': False}. Best is trial 10 with value: 0.16667474877368757.\n",
      "[I 2025-06-07 07:29:50,823] Trial 41 finished with value: 0.1419771290412012 and parameters: {'alpha': 28.034080348607702, 'tol': 0.008820392504617077, 'fit_intercept': False, 'positive': True}. Best is trial 10 with value: 0.16667474877368757.\n",
      "[I 2025-06-07 07:29:52,264] Trial 43 finished with value: 0.16356263570301355 and parameters: {'alpha': 48.92174173045073, 'tol': 0.007541539958199959, 'fit_intercept': True, 'positive': False}. Best is trial 10 with value: 0.16667474877368757.\n",
      "[I 2025-06-07 07:29:52,277] Trial 44 finished with value: 0.16351529510621202 and parameters: {'alpha': 84.45401632950684, 'tol': 0.006694517700193848, 'fit_intercept': True, 'positive': False}. Best is trial 10 with value: 0.16667474877368757.\n",
      "[I 2025-06-07 07:29:52,282] Trial 42 finished with value: 0.1419802880357983 and parameters: {'alpha': 3.5706025603703173, 'tol': 0.006366746262494098, 'fit_intercept': False, 'positive': True}. Best is trial 10 with value: 0.16667474877368757.\n",
      "[I 2025-06-07 07:29:53,462] Trial 45 finished with value: 0.16349424888194145 and parameters: {'alpha': 98.12814074924286, 'tol': 0.00710124439264439, 'fit_intercept': True, 'positive': False}. Best is trial 10 with value: 0.16667474877368757.\n",
      "[I 2025-06-07 07:29:54,705] Trial 46 finished with value: 0.1666560451655753 and parameters: {'alpha': 74.04048477695788, 'tol': 0.004295163776568788, 'fit_intercept': False, 'positive': False}. Best is trial 10 with value: 0.16667474877368757.\n",
      "[I 2025-06-07 07:29:55,103] Trial 47 finished with value: 0.14197664451149972 and parameters: {'alpha': 31.785645610417347, 'tol': 0.007538017027780397, 'fit_intercept': False, 'positive': True}. Best is trial 10 with value: 0.16667474877368757.\n",
      "[I 2025-06-07 07:29:55,266] Trial 48 finished with value: 0.1362610562090764 and parameters: {'alpha': 78.96198563165726, 'tol': 0.008880370436505506, 'fit_intercept': True, 'positive': True}. Best is trial 10 with value: 0.16667474877368757.\n",
      "[I 2025-06-07 07:29:56,224] Trial 49 finished with value: 0.1635582129662518 and parameters: {'alpha': 52.62748396934539, 'tol': 0.0026090114152339584, 'fit_intercept': True, 'positive': False}. Best is trial 10 with value: 0.16667474877368757.\n",
      "[I 2025-06-07 07:29:57,545] Trial 50 finished with value: 0.16358998921583945 and parameters: {'alpha': 23.063931485893896, 'tol': 0.004514472584234161, 'fit_intercept': True, 'positive': False}. Best is trial 10 with value: 0.16667474877368757.\n",
      "[I 2025-06-07 07:29:57,579] Trial 51 finished with value: 0.16665268555886747 and parameters: {'alpha': 80.30410240774644, 'tol': 0.007499801166109277, 'fit_intercept': False, 'positive': False}. Best is trial 10 with value: 0.16667474877368757.\n",
      "[I 2025-06-07 07:29:57,969] Trial 52 finished with value: 0.16360176642621585 and parameters: {'alpha': 9.536619425636516, 'tol': 0.0077624916451095385, 'fit_intercept': True, 'positive': False}. Best is trial 10 with value: 0.16667474877368757.\n",
      "[I 2025-06-07 07:29:58,755] Trial 53 finished with value: 0.1666724975669667 and parameters: {'alpha': 27.356959131102077, 'tol': 0.0007563406326487527, 'fit_intercept': False, 'positive': False}. Best is trial 10 with value: 0.16667474877368757.\n",
      "[I 2025-06-07 07:30:00,256] Trial 55 finished with value: 0.16667263240329763 and parameters: {'alpha': 26.61465337372882, 'tol': 0.0011353082772010358, 'fit_intercept': False, 'positive': False}. Best is trial 10 with value: 0.16667474877368757.\n",
      "[I 2025-06-07 07:30:00,260] Trial 54 finished with value: 0.166671808833382 and parameters: {'alpha': 30.847229391727563, 'tol': 0.0005012301190514422, 'fit_intercept': False, 'positive': False}. Best is trial 10 with value: 0.16667474877368757.\n",
      "[I 2025-06-07 07:30:00,529] Trial 56 finished with value: 0.16667352862722115 and parameters: {'alpha': 20.93058429985943, 'tol': 0.000452056073387182, 'fit_intercept': False, 'positive': False}. Best is trial 10 with value: 0.16667474877368757.\n",
      "[I 2025-06-07 07:30:01,501] Trial 57 finished with value: 0.1666729341903081 and parameters: {'alpha': 24.863840637750567, 'tol': 0.0007379046978864927, 'fit_intercept': False, 'positive': False}. Best is trial 10 with value: 0.16667474877368757.\n",
      "[I 2025-06-07 07:30:02,998] Trial 59 finished with value: 0.16667471900422992 and parameters: {'alpha': 5.957435761027314, 'tol': 0.0028129763448443246, 'fit_intercept': False, 'positive': False}. Best is trial 10 with value: 0.16667474877368757.\n",
      "[I 2025-06-07 07:30:03,005] Trial 58 finished with value: 0.16667469179783995 and parameters: {'alpha': 7.000272103918512, 'tol': 0.003889104459067879, 'fit_intercept': False, 'positive': False}. Best is trial 10 with value: 0.16667474877368757.\n",
      "[I 2025-06-07 07:30:03,301] Trial 60 finished with value: 0.16667473724792692 and parameters: {'alpha': 1.291242117181974, 'tol': 0.0044883230998865155, 'fit_intercept': False, 'positive': False}. Best is trial 10 with value: 0.16667474877368757.\n",
      "[I 2025-06-07 07:30:04,289] Trial 61 finished with value: 0.16667473028929686 and parameters: {'alpha': 5.38879124132999, 'tol': 0.00552973894564698, 'fit_intercept': False, 'positive': False}. Best is trial 10 with value: 0.16667474877368757.\n",
      "[I 2025-06-07 07:30:05,748] Trial 63 finished with value: 0.1666747499089051 and parameters: {'alpha': 2.8003067115371865, 'tol': 0.004949684511906697, 'fit_intercept': False, 'positive': False}. Best is trial 63 with value: 0.1666747499089051.\n",
      "[I 2025-06-07 07:30:05,750] Trial 62 finished with value: 0.16667474590057155 and parameters: {'alpha': 4.184608896367896, 'tol': 0.0048149883781895475, 'fit_intercept': False, 'positive': False}. Best is trial 63 with value: 0.1666747499089051.\n",
      "[I 2025-06-07 07:30:06,056] Trial 64 finished with value: 0.1666747463376392 and parameters: {'alpha': 4.130476152995442, 'tol': 0.004383473045691928, 'fit_intercept': False, 'positive': False}. Best is trial 63 with value: 0.1666747499089051.\n",
      "[I 2025-06-07 07:30:07,065] Trial 65 finished with value: 0.16667474321064016 and parameters: {'alpha': 1.771790464127887, 'tol': 0.0053436719122853344, 'fit_intercept': False, 'positive': False}. Best is trial 63 with value: 0.1666747499089051.\n",
      "[I 2025-06-07 07:30:08,539] Trial 66 finished with value: 0.1666747298264598 and parameters: {'alpha': 5.414879320251874, 'tol': 0.005507316385752395, 'fit_intercept': False, 'positive': False}. Best is trial 63 with value: 0.1666747499089051.\n",
      "[I 2025-06-07 07:30:08,545] Trial 67 finished with value: 0.1666747501394594 and parameters: {'alpha': 2.912092128167619, 'tol': 0.0047122638647437015, 'fit_intercept': False, 'positive': False}. Best is trial 67 with value: 0.1666747501394594.\n",
      "[I 2025-06-07 07:30:08,858] Trial 68 finished with value: 0.1666747474145912 and parameters: {'alpha': 3.9827187119485, 'tol': 0.005767676692877633, 'fit_intercept': False, 'positive': False}. Best is trial 67 with value: 0.1666747501394594.\n",
      "[I 2025-06-07 07:30:09,838] Trial 69 finished with value: 0.16667474738737098 and parameters: {'alpha': 3.9867636087273333, 'tol': 0.006561650758928872, 'fit_intercept': False, 'positive': False}. Best is trial 67 with value: 0.1666747501394594.\n",
      "[I 2025-06-07 07:30:11,356] Trial 70 finished with value: 0.1666747159241452 and parameters: {'alpha': 0.15347489783104917, 'tol': 0.006746720024580409, 'fit_intercept': False, 'positive': False}. Best is trial 67 with value: 0.1666747501394594.\n",
      "[I 2025-06-07 07:30:11,384] Trial 71 finished with value: 0.16667474642007654 and parameters: {'alpha': 2.1221463291694818, 'tol': 0.0040928156263658035, 'fit_intercept': False, 'positive': False}. Best is trial 67 with value: 0.1666747501394594.\n",
      "[I 2025-06-07 07:30:11,973] Trial 72 finished with value: 0.16360763510944273 and parameters: {'alpha': 1.8746907912358446, 'tol': 0.004637109186119265, 'fit_intercept': True, 'positive': False}. Best is trial 67 with value: 0.1666747501394594.\n",
      "[I 2025-06-07 07:30:12,573] Trial 73 finished with value: 0.1666730067344978 and parameters: {'alpha': 24.422026034793213, 'tol': 0.007246089890435691, 'fit_intercept': False, 'positive': False}. Best is trial 67 with value: 0.1666747501394594.\n",
      "[I 2025-06-07 07:30:14,315] Trial 74 finished with value: 0.16667473976932032 and parameters: {'alpha': 1.4771837941642914, 'tol': 0.004553403727818671, 'fit_intercept': False, 'positive': False}. Best is trial 67 with value: 0.1666747501394594.\n",
      "[I 2025-06-07 07:30:14,329] Trial 75 finished with value: 0.1666726181646577 and parameters: {'alpha': 26.694117961526285, 'tol': 0.006151868763559068, 'fit_intercept': False, 'positive': False}. Best is trial 67 with value: 0.1666747501394594.\n",
      "[I 2025-06-07 07:30:14,637] Trial 76 finished with value: 0.1666723054161376 and parameters: {'alpha': 28.378004069234148, 'tol': 0.0060438136389304375, 'fit_intercept': False, 'positive': False}. Best is trial 67 with value: 0.1666747501394594.\n",
      "[I 2025-06-07 07:30:15,057] Trial 77 finished with value: 0.1666725763114465 and parameters: {'alpha': 26.92619715891227, 'tol': 0.005228366136249542, 'fit_intercept': False, 'positive': False}. Best is trial 67 with value: 0.1666747501394594.\n",
      "[I 2025-06-07 07:30:17,141] Trial 79 finished with value: 0.16667311826577172 and parameters: {'alpha': 23.724699705401157, 'tol': 0.004595043704923148, 'fit_intercept': False, 'positive': False}. Best is trial 67 with value: 0.1666747501394594.\n",
      "[I 2025-06-07 07:30:17,156] Trial 78 finished with value: 0.1666747435594597 and parameters: {'alpha': 1.8053361229921334, 'tol': 0.002787378345772466, 'fit_intercept': False, 'positive': False}. Best is trial 67 with value: 0.1666747501394594.\n",
      "[I 2025-06-07 07:30:17,590] Trial 80 finished with value: 0.16667463323803192 and parameters: {'alpha': 8.611335255155549, 'tol': 0.0031069501475230327, 'fit_intercept': False, 'positive': False}. Best is trial 67 with value: 0.1666747501394594.\n",
      "[I 2025-06-07 07:30:18,132] Trial 81 finished with value: 0.16667472421611454 and parameters: {'alpha': 0.5355625237783419, 'tol': 0.002038232428180981, 'fit_intercept': False, 'positive': False}. Best is trial 67 with value: 0.1666747501394594.\n",
      "[I 2025-06-07 07:30:19,845] Trial 82 finished with value: 0.16667474873432986 and parameters: {'alpha': 3.7564801573764397, 'tol': 0.002376113284642449, 'fit_intercept': False, 'positive': False}. Best is trial 67 with value: 0.1666747501394594.\n",
      "[I 2025-06-07 07:30:19,865] Trial 83 finished with value: 0.16667471831676645 and parameters: {'alpha': 0.2584703383838347, 'tol': 0.004265884140808358, 'fit_intercept': False, 'positive': False}. Best is trial 67 with value: 0.1666747501394594.\n",
      "[I 2025-06-07 07:30:20,344] Trial 84 finished with value: 0.16667473377302466 and parameters: {'alpha': 1.0623728758961424, 'tol': 0.002993880981705738, 'fit_intercept': False, 'positive': False}. Best is trial 67 with value: 0.1666747501394594.\n",
      "[I 2025-06-07 07:30:21,897] Trial 85 finished with value: 0.15795595569194748 and parameters: {'alpha': 29.279443131279265, 'tol': 0.003237023505421944, 'fit_intercept': False, 'positive': True}. Best is trial 67 with value: 0.1666747501394594.\n",
      "[I 2025-06-07 07:30:22,352] Trial 86 finished with value: 0.1666747265052103 and parameters: {'alpha': 0.6514643152544135, 'tol': 0.0048614167298926874, 'fit_intercept': False, 'positive': False}. Best is trial 67 with value: 0.1666747501394594.\n",
      "[I 2025-06-07 07:30:22,858] Trial 88 finished with value: 0.1666746811411814 and parameters: {'alpha': 7.339273551658657, 'tol': 0.006264131346147198, 'fit_intercept': False, 'positive': False}. Best is trial 67 with value: 0.1666747501394594.\n",
      "[I 2025-06-07 07:30:23,139] Trial 87 finished with value: 0.15798390354681252 and parameters: {'alpha': 2.549014557075326, 'tol': 0.0029863697802013332, 'fit_intercept': False, 'positive': True}. Best is trial 67 with value: 0.1666747501394594.\n",
      "[I 2025-06-07 07:30:24,976] Trial 89 finished with value: 0.1579781207551416 and parameters: {'alpha': 8.257417990264495, 'tol': 0.0015123409939141338, 'fit_intercept': False, 'positive': True}. Best is trial 67 with value: 0.1666747501394594.\n",
      "[I 2025-06-07 07:30:25,591] Trial 92 finished with value: 0.1666747372599218 and parameters: {'alpha': 4.951576525860542, 'tol': 0.00826049171245339, 'fit_intercept': False, 'positive': False}. Best is trial 67 with value: 0.1666747501394594.\n",
      "[I 2025-06-07 07:30:25,606] Trial 90 finished with value: 0.136055341352549 and parameters: {'alpha': 12.65717046196945, 'tol': 0.005777107038947624, 'fit_intercept': True, 'positive': True}. Best is trial 67 with value: 0.1666747501394594.\n",
      "[I 2025-06-07 07:30:26,191] Trial 91 finished with value: 0.1579795216041787 and parameters: {'alpha': 6.883841765044821, 'tol': 0.0030455870977921904, 'fit_intercept': False, 'positive': True}. Best is trial 67 with value: 0.1666747501394594.\n",
      "[I 2025-06-07 07:30:27,684] Trial 93 finished with value: 0.1666747501064717 and parameters: {'alpha': 3.3487384683961183, 'tol': 0.0075277043783628615, 'fit_intercept': False, 'positive': False}. Best is trial 67 with value: 0.1666747501394594.\n",
      "[I 2025-06-07 07:30:28,123] Trial 94 finished with value: 0.1666747378982343 and parameters: {'alpha': 1.337339952216742, 'tol': 0.0027734062880378054, 'fit_intercept': False, 'positive': False}. Best is trial 67 with value: 0.1666747501394594.\n",
      "[I 2025-06-07 07:30:28,364] Trial 95 finished with value: 0.16667474699506654 and parameters: {'alpha': 2.1988918009367184, 'tol': 0.002858555974586909, 'fit_intercept': False, 'positive': False}. Best is trial 67 with value: 0.1666747501394594.\n",
      "[I 2025-06-07 07:30:28,943] Trial 96 finished with value: 0.1666741743671515 and parameters: {'alpha': 15.326340493237325, 'tol': 0.00351643508498076, 'fit_intercept': False, 'positive': False}. Best is trial 67 with value: 0.1666747501394594.\n",
      "[I 2025-06-07 07:30:30,429] Trial 97 finished with value: 0.166674736541255 and parameters: {'alpha': 1.2424333764369861, 'tol': 0.008700202412277815, 'fit_intercept': False, 'positive': False}. Best is trial 67 with value: 0.1666747501394594.\n",
      "[I 2025-06-07 07:30:30,875] Trial 98 finished with value: 0.16667474189274117 and parameters: {'alpha': 4.590904355625428, 'tol': 0.007537820958142717, 'fit_intercept': False, 'positive': False}. Best is trial 67 with value: 0.1666747501394594.\n",
      "[I 2025-06-07 07:30:30,896] Trial 99 finished with value: 0.1666747255597617 and parameters: {'alpha': 5.6427236532594325, 'tol': 0.007515218959754018, 'fit_intercept': False, 'positive': False}. Best is trial 67 with value: 0.1666747501394594.\n",
      "[I 2025-06-07 07:30:32,145] Trial 100 finished with value: 0.14905712137534244 and parameters: {'alpha': 66.13734006488818, 'tol': 0.005227415602549704, 'fit_intercept': False, 'positive': True}. Best is trial 67 with value: 0.1666747501394594.\n",
      "[I 2025-06-07 07:30:33,073] Trial 101 finished with value: 0.1666747225712416 and parameters: {'alpha': 5.790786051116987, 'tol': 0.007253360336968457, 'fit_intercept': False, 'positive': False}. Best is trial 67 with value: 0.1666747501394594.\n",
      "[I 2025-06-07 07:30:33,481] Trial 103 finished with value: 0.16667382221184757 and parameters: {'alpha': 18.631935767386647, 'tol': 0.0028884481820786673, 'fit_intercept': False, 'positive': False}. Best is trial 67 with value: 0.1666747501394594.\n",
      "[I 2025-06-07 07:30:33,499] Trial 102 finished with value: 0.1666747404192972 and parameters: {'alpha': 1.5286398315719243, 'tol': 0.006892840178354011, 'fit_intercept': False, 'positive': False}. Best is trial 67 with value: 0.1666747501394594.\n",
      "[I 2025-06-07 07:30:34,752] Trial 104 finished with value: 0.166674750296115 and parameters: {'alpha': 3.1784506725672173, 'tol': 0.005104353213559697, 'fit_intercept': False, 'positive': False}. Best is trial 104 with value: 0.166674750296115.\n",
      "[I 2025-06-07 07:30:36,170] Trial 106 finished with value: 0.16667433630235287 and parameters: {'alpha': 13.462710206666983, 'tol': 0.004990227244287146, 'fit_intercept': False, 'positive': False}. Best is trial 104 with value: 0.166674750296115.\n",
      "[I 2025-06-07 07:30:36,463] Trial 107 finished with value: 0.16667471303590253 and parameters: {'alpha': 0.031494028833126464, 'tol': 0.004496486641586452, 'fit_intercept': False, 'positive': False}. Best is trial 104 with value: 0.166674750296115.\n",
      "[I 2025-06-07 07:30:36,487] Trial 105 finished with value: 0.15791539044210243 and parameters: {'alpha': 64.93180580058706, 'tol': 0.0014613256003710752, 'fit_intercept': False, 'positive': True}. Best is trial 104 with value: 0.166674750296115.\n",
      "[I 2025-06-07 07:30:37,594] Trial 108 finished with value: 0.1666745961873755 and parameters: {'alpha': 9.422249737760094, 'tol': 0.004437519595446044, 'fit_intercept': False, 'positive': False}. Best is trial 104 with value: 0.166674750296115.\n",
      "[I 2025-06-07 07:30:38,837] Trial 109 finished with value: 0.16667474902792753 and parameters: {'alpha': 3.694147980780549, 'tol': 0.0045085957931487765, 'fit_intercept': False, 'positive': False}. Best is trial 104 with value: 0.166674750296115.\n",
      "[I 2025-06-07 07:30:39,260] Trial 111 finished with value: 0.16667474728600945 and parameters: {'alpha': 2.240272478848178, 'tol': 0.00033865108900523865, 'fit_intercept': False, 'positive': False}. Best is trial 104 with value: 0.166674750296115.\n",
      "[I 2025-06-07 07:30:39,263] Trial 110 finished with value: 0.1636088918072976 and parameters: {'alpha': 0.12584372335444272, 'tol': 0.0031657232506933715, 'fit_intercept': True, 'positive': False}. Best is trial 104 with value: 0.166674750296115.\n",
      "[I 2025-06-07 07:30:40,095] Trial 112 finished with value: 0.16667471805425277 and parameters: {'alpha': 0.24676254582623924, 'tol': 0.004217147222460665, 'fit_intercept': False, 'positive': False}. Best is trial 104 with value: 0.166674750296115.\n",
      "[I 2025-06-07 07:30:41,614] Trial 113 finished with value: 0.16667473687292567 and parameters: {'alpha': 1.265181165546704, 'tol': 0.000721570924601499, 'fit_intercept': False, 'positive': False}. Best is trial 104 with value: 0.166674750296115.\n",
      "[I 2025-06-07 07:30:42,040] Trial 114 finished with value: 0.16667456386114407 and parameters: {'alpha': 10.053134272498799, 'tol': 0.0008640066324163792, 'fit_intercept': False, 'positive': False}. Best is trial 104 with value: 0.166674750296115.\n",
      "[I 2025-06-07 07:30:42,055] Trial 115 finished with value: 0.1666747221665811 and parameters: {'alpha': 5.810209550588362, 'tol': 0.0006521251137175787, 'fit_intercept': False, 'positive': False}. Best is trial 104 with value: 0.166674750296115.\n",
      "[I 2025-06-07 07:30:43,182] Trial 116 finished with value: 0.16667466674287695 and parameters: {'alpha': 7.758258871466106, 'tol': 0.0011375969866959143, 'fit_intercept': False, 'positive': False}. Best is trial 104 with value: 0.166674750296115.\n",
      "[I 2025-06-07 07:30:44,408] Trial 117 finished with value: 0.16667474524131085 and parameters: {'alpha': 4.261416641260029, 'tol': 0.001347213560516895, 'fit_intercept': False, 'positive': False}. Best is trial 104 with value: 0.166674750296115.\n",
      "[I 2025-06-07 07:30:44,959] Trial 118 finished with value: 0.16667475023906936 and parameters: {'alpha': 2.986661271589634, 'tol': 0.0013464297670280126, 'fit_intercept': False, 'positive': False}. Best is trial 104 with value: 0.166674750296115.\n",
      "[I 2025-06-07 07:30:44,959] Trial 119 finished with value: 0.166674742851891 and parameters: {'alpha': 1.7381397492670823, 'tol': 0.006109362408018236, 'fit_intercept': False, 'positive': False}. Best is trial 104 with value: 0.166674750296115.\n",
      "[I 2025-06-07 07:30:45,779] Trial 120 finished with value: 0.1666747410759372 and parameters: {'alpha': 4.660629501689171, 'tol': 0.005909580295946413, 'fit_intercept': False, 'positive': False}. Best is trial 104 with value: 0.166674750296115.\n",
      "[I 2025-06-07 07:30:47,162] Trial 121 finished with value: 0.16360685863968735 and parameters: {'alpha': 2.9342856539153206, 'tol': 0.005937388618959456, 'fit_intercept': True, 'positive': False}. Best is trial 104 with value: 0.166674750296115.\n",
      "[I 2025-06-07 07:30:47,584] Trial 122 finished with value: 0.16667330762640312 and parameters: {'alpha': 22.484562616771896, 'tol': 0.002782234960672573, 'fit_intercept': False, 'positive': False}. Best is trial 104 with value: 0.166674750296115.\n",
      "[I 2025-06-07 07:30:47,621] Trial 123 finished with value: 0.16360599750338412 and parameters: {'alpha': 4.091755123354754, 'tol': 0.006563441819316702, 'fit_intercept': True, 'positive': False}. Best is trial 104 with value: 0.166674750296115.\n",
      "[I 2025-06-07 07:30:48,597] Trial 124 finished with value: 0.16360850037419186 and parameters: {'alpha': 0.6752194615165488, 'tol': 0.006301466951037932, 'fit_intercept': True, 'positive': False}. Best is trial 104 with value: 0.166674750296115.\n",
      "[I 2025-06-07 07:30:49,809] Trial 125 finished with value: 0.16667415373875694 and parameters: {'alpha': 15.543902191303403, 'tol': 0.0033005372860060063, 'fit_intercept': False, 'positive': False}. Best is trial 104 with value: 0.166674750296115.\n",
      "[I 2025-06-07 07:30:50,471] Trial 127 finished with value: 0.1666747377159072 and parameters: {'alpha': 1.3242959111870403, 'tol': 0.002887729205197081, 'fit_intercept': False, 'positive': False}. Best is trial 104 with value: 0.166674750296115.\n",
      "[I 2025-06-07 07:30:50,506] Trial 126 finished with value: 0.14198074671787847 and parameters: {'alpha': 0.017907524443520728, 'tol': 0.009974201201982582, 'fit_intercept': False, 'positive': True}. Best is trial 104 with value: 0.166674750296115.\n",
      "[I 2025-06-07 07:30:51,332] Trial 128 finished with value: 0.16667460054788816 and parameters: {'alpha': 9.332279679582458, 'tol': 0.002305929967968485, 'fit_intercept': False, 'positive': False}. Best is trial 104 with value: 0.166674750296115.\n",
      "[I 2025-06-07 07:30:52,417] Trial 129 finished with value: 0.16667474426596843 and parameters: {'alpha': 1.8760512618883889, 'tol': 0.0025538014919642134, 'fit_intercept': False, 'positive': False}. Best is trial 104 with value: 0.166674750296115.\n",
      "[I 2025-06-07 07:30:53,364] Trial 131 finished with value: 0.1666747497217914 and parameters: {'alpha': 2.73257550264466, 'tol': 0.002805500678346752, 'fit_intercept': False, 'positive': False}. Best is trial 104 with value: 0.166674750296115.\n",
      "[I 2025-06-07 07:30:53,384] Trial 130 finished with value: 0.13625877172292472 and parameters: {'alpha': 98.81262681856006, 'tol': 0.00658478656413598, 'fit_intercept': True, 'positive': True}. Best is trial 104 with value: 0.166674750296115.\n",
      "[I 2025-06-07 07:30:53,815] Trial 132 finished with value: 0.16667472268633265 and parameters: {'alpha': 0.460927359143513, 'tol': 0.002395507869275564, 'fit_intercept': False, 'positive': False}. Best is trial 104 with value: 0.166674750296115.\n",
      "[I 2025-06-07 07:30:55,155] Trial 133 finished with value: 0.16667448934730678 and parameters: {'alpha': 11.325725972452389, 'tol': 0.0049724406100180255, 'fit_intercept': False, 'positive': False}. Best is trial 104 with value: 0.166674750296115.\n",
      "[I 2025-06-07 07:30:56,107] Trial 134 finished with value: 0.1666747215354245 and parameters: {'alpha': 0.406132561061755, 'tol': 0.0025759667422683733, 'fit_intercept': False, 'positive': False}. Best is trial 104 with value: 0.166674750296115.\n",
      "[I 2025-06-07 07:30:56,120] Trial 135 finished with value: 0.1666747464663997 and parameters: {'alpha': 2.1281092036680165, 'tol': 0.0003873678555205353, 'fit_intercept': False, 'positive': False}. Best is trial 104 with value: 0.166674750296115.\n",
      "[I 2025-06-07 07:30:56,802] Trial 136 finished with value: 0.16667471364771672 and parameters: {'alpha': 0.05692647079077773, 'tol': 0.004805583334441906, 'fit_intercept': False, 'positive': False}. Best is trial 104 with value: 0.166674750296115.\n",
      "[I 2025-06-07 07:30:57,936] Trial 137 finished with value: 0.16667472551091758 and parameters: {'alpha': 5.645213195245445, 'tol': 0.0001562879081590024, 'fit_intercept': False, 'positive': False}. Best is trial 104 with value: 0.166674750296115.\n",
      "[I 2025-06-07 07:30:58,876] Trial 138 finished with value: 0.16667471759908964 and parameters: {'alpha': 0.22657539070098043, 'tol': 0.004652106336756418, 'fit_intercept': False, 'positive': False}. Best is trial 104 with value: 0.166674750296115.\n",
      "[I 2025-06-07 07:30:58,919] Trial 139 finished with value: 0.1635871476952439 and parameters: {'alpha': 26.053086092183996, 'tol': 0.001369693116978981, 'fit_intercept': True, 'positive': False}. Best is trial 104 with value: 0.166674750296115.\n",
      "[I 2025-06-07 07:30:59,470] Trial 140 finished with value: 0.16667474647371708 and parameters: {'alpha': 4.11302029458436, 'tol': 5.136850915282839e-05, 'fit_intercept': False, 'positive': False}. Best is trial 104 with value: 0.166674750296115.\n",
      "[I 2025-06-07 07:31:00,668] Trial 141 finished with value: 0.16667472907380657 and parameters: {'alpha': 0.788382980952683, 'tol': 0.00016544688175101983, 'fit_intercept': False, 'positive': False}. Best is trial 104 with value: 0.166674750296115.\n",
      "[I 2025-06-07 07:31:01,606] Trial 142 finished with value: 0.1666747228137042 and parameters: {'alpha': 0.46706124945054706, 'tol': 0.0016894570350899803, 'fit_intercept': False, 'positive': False}. Best is trial 104 with value: 0.166674750296115.\n",
      "[I 2025-06-07 07:31:01,623] Trial 143 finished with value: 0.166674729972296 and parameters: {'alpha': 0.8382197514793019, 'tol': 0.0006858978356041236, 'fit_intercept': False, 'positive': False}. Best is trial 104 with value: 0.166674750296115.\n",
      "[I 2025-06-07 07:31:02,278] Trial 144 finished with value: 0.16667469747849029 and parameters: {'alpha': 6.806899798362645, 'tol': 0.0006679263528039293, 'fit_intercept': False, 'positive': False}. Best is trial 104 with value: 0.166674750296115.\n",
      "[I 2025-06-07 07:31:03,304] Trial 145 finished with value: 0.16667466421578384 and parameters: {'alpha': 7.827967507918206, 'tol': 1.5589782431536922e-05, 'fit_intercept': False, 'positive': False}. Best is trial 104 with value: 0.166674750296115.\n",
      "[I 2025-06-07 07:31:04,218] Trial 146 finished with value: 0.1666747493684595 and parameters: {'alpha': 2.629526289595928, 'tol': 0.0005672325085627952, 'fit_intercept': False, 'positive': False}. Best is trial 104 with value: 0.166674750296115.\n",
      "[I 2025-06-07 07:31:04,375] Trial 147 finished with value: 0.1666746147230184 and parameters: {'alpha': 9.030409771355647, 'tol': 0.00027986485366830966, 'fit_intercept': False, 'positive': False}. Best is trial 104 with value: 0.166674750296115.\n",
      "[I 2025-06-07 07:31:05,729] Trial 148 finished with value: 0.15860367730225491 and parameters: {'alpha': 5.889600426803092, 'tol': 1.3341452177961788e-05, 'fit_intercept': False, 'positive': True}. Best is trial 104 with value: 0.166674750296115.\n",
      "[I 2025-06-07 07:31:06,197] Trial 149 finished with value: 0.1429887421227793 and parameters: {'alpha': 1.3325837341143, 'tol': 0.006000917164239345, 'fit_intercept': False, 'positive': True}. Best is trial 104 with value: 0.166674750296115.\n",
      "[I 2025-06-07 07:31:07,174] Trial 151 finished with value: 0.14198035056427066 and parameters: {'alpha': 3.0863013616392925, 'tol': 0.0064021962383920845, 'fit_intercept': False, 'positive': True}. Best is trial 104 with value: 0.166674750296115.\n",
      "[I 2025-06-07 07:31:07,189] Trial 150 finished with value: 0.14908585821335393 and parameters: {'alpha': 0.9472990388435318, 'tol': 0.004998980797950695, 'fit_intercept': False, 'positive': True}. Best is trial 104 with value: 0.166674750296115.\n",
      "[I 2025-06-07 07:31:08,648] Trial 152 finished with value: 0.1429845870374884 and parameters: {'alpha': 18.509955916108442, 'tol': 0.005910576882276802, 'fit_intercept': False, 'positive': True}. Best is trial 104 with value: 0.166674750296115.\n",
      "[I 2025-06-07 07:31:08,941] Trial 153 finished with value: 0.16667460986695234 and parameters: {'alpha': 9.135519188893568, 'tol': 0.006642013995499469, 'fit_intercept': False, 'positive': False}. Best is trial 104 with value: 0.166674750296115.\n",
      "[I 2025-06-07 07:31:09,757] Trial 154 finished with value: 0.16667474965397044 and parameters: {'alpha': 2.7107807148590863, 'tol': 0.0001107843596853162, 'fit_intercept': False, 'positive': False}. Best is trial 104 with value: 0.166674750296115.\n",
      "[I 2025-06-07 07:31:09,911] Trial 155 finished with value: 0.1636022974822622 and parameters: {'alpha': 8.873569833655857, 'tol': 0.0012109550685603962, 'fit_intercept': True, 'positive': False}. Best is trial 104 with value: 0.166674750296115.\n",
      "[I 2025-06-07 07:31:11,684] Trial 156 finished with value: 0.16360747932056 and parameters: {'alpha': 2.0885321135882173, 'tol': 0.0006996697971020428, 'fit_intercept': True, 'positive': False}. Best is trial 104 with value: 0.166674750296115.\n",
      "[I 2025-06-07 07:31:11,703] Trial 157 finished with value: 0.16360889585009006 and parameters: {'alpha': 0.12014713860945392, 'tol': 0.0008228295132954393, 'fit_intercept': True, 'positive': False}. Best is trial 104 with value: 0.166674750296115.\n",
      "[I 2025-06-07 07:31:12,496] Trial 158 finished with value: 0.16667403960682772 and parameters: {'alpha': 16.685451650717912, 'tol': 0.001712180086236328, 'fit_intercept': False, 'positive': False}. Best is trial 104 with value: 0.166674750296115.\n",
      "[I 2025-06-07 07:31:12,638] Trial 159 finished with value: 0.1666735301353812 and parameters: {'alpha': 20.91952227039345, 'tol': 0.0021816688687672555, 'fit_intercept': False, 'positive': False}. Best is trial 104 with value: 0.166674750296115.\n",
      "[I 2025-06-07 07:31:14,435] Trial 160 finished with value: 0.16667365154924488 and parameters: {'alpha': 20.005647437934226, 'tol': 0.001997846281486396, 'fit_intercept': False, 'positive': False}. Best is trial 104 with value: 0.166674750296115.\n",
      "[I 2025-06-07 07:31:14,441] Trial 161 finished with value: 0.16667375309521776 and parameters: {'alpha': 19.202190367661178, 'tol': 0.002029039745627948, 'fit_intercept': False, 'positive': False}. Best is trial 104 with value: 0.166674750296115.\n",
      "[I 2025-06-07 07:31:15,315] Trial 162 finished with value: 0.16667384388839843 and parameters: {'alpha': 18.448790997747732, 'tol': 9.484198176089762e-06, 'fit_intercept': False, 'positive': False}. Best is trial 104 with value: 0.166674750296115.\n",
      "[I 2025-06-07 07:31:15,338] Trial 163 finished with value: 0.16667355144701326 and parameters: {'alpha': 20.762477748530067, 'tol': 0.0059157169806173734, 'fit_intercept': False, 'positive': False}. Best is trial 104 with value: 0.166674750296115.\n",
      "[I 2025-06-07 07:31:17,231] Trial 165 finished with value: 0.16667473699337057 and parameters: {'alpha': 4.9701927893820645, 'tol': 0.0007614251038994038, 'fit_intercept': False, 'positive': False}. Best is trial 104 with value: 0.166674750296115.\n",
      "[I 2025-06-07 07:31:17,258] Trial 164 finished with value: 0.16354158151932432 and parameters: {'alpha': 65.7438094761011, 'tol': 0.00011906655942671863, 'fit_intercept': True, 'positive': False}. Best is trial 104 with value: 0.166674750296115.\n",
      "[I 2025-06-07 07:31:18,082] Trial 166 finished with value: 0.16667473657868515 and parameters: {'alpha': 1.2449867045332212, 'tol': 0.0005626277787243815, 'fit_intercept': False, 'positive': False}. Best is trial 104 with value: 0.166674750296115.\n",
      "[I 2025-06-07 07:31:18,102] Trial 167 finished with value: 0.16667472181714243 and parameters: {'alpha': 5.8268705547625474, 'tol': 5.4922853058228325e-05, 'fit_intercept': False, 'positive': False}. Best is trial 104 with value: 0.166674750296115.\n",
      "[I 2025-06-07 07:31:20,006] Trial 168 finished with value: 0.1666747502753859 and parameters: {'alpha': 3.213729375542063, 'tol': 0.000711034316786311, 'fit_intercept': False, 'positive': False}. Best is trial 104 with value: 0.166674750296115.\n",
      "[I 2025-06-07 07:31:20,032] Trial 169 finished with value: 0.16667474532802237 and parameters: {'alpha': 4.251611890204414, 'tol': 0.0010484448010917797, 'fit_intercept': False, 'positive': False}. Best is trial 104 with value: 0.166674750296115.\n",
      "[I 2025-06-07 07:31:20,892] Trial 171 finished with value: 0.16667471648817536 and parameters: {'alpha': 0.1778877840522255, 'tol': 0.0018385659271477875, 'fit_intercept': False, 'positive': False}. Best is trial 104 with value: 0.166674750296115.\n",
      "[I 2025-06-07 07:31:20,911] Trial 170 finished with value: 0.1666747478060156 and parameters: {'alpha': 2.3195439831465285, 'tol': 0.00017471270990233965, 'fit_intercept': False, 'positive': False}. Best is trial 104 with value: 0.166674750296115.\n",
      "[I 2025-06-07 07:31:22,823] Trial 173 finished with value: 0.16667471805775338 and parameters: {'alpha': 0.24691835342033608, 'tol': 0.005454431417773034, 'fit_intercept': False, 'positive': False}. Best is trial 104 with value: 0.166674750296115.\n",
      "[I 2025-06-07 07:31:23,691] Trial 175 finished with value: 0.16667471570034237 and parameters: {'alpha': 0.14384370097706123, 'tol': 0.0018346319279998239, 'fit_intercept': False, 'positive': False}. Best is trial 104 with value: 0.166674750296115.\n",
      "[I 2025-06-07 07:31:23,704] Trial 172 finished with value: 0.15850926933354886 and parameters: {'alpha': 90.17373767429311, 'tol': 0.0001368301209129421, 'fit_intercept': False, 'positive': True}. Best is trial 104 with value: 0.166674750296115.\n",
      "[I 2025-06-07 07:31:23,715] Trial 174 finished with value: 0.16667473707503586 and parameters: {'alpha': 1.27918103199225, 'tol': 0.006242741083588653, 'fit_intercept': False, 'positive': False}. Best is trial 104 with value: 0.166674750296115.\n",
      "[I 2025-06-07 07:31:25,456] Trial 176 finished with value: 0.16667474696433432 and parameters: {'alpha': 2.194628825272133, 'tol': 0.0002375282572985098, 'fit_intercept': False, 'positive': False}. Best is trial 104 with value: 0.166674750296115.\n",
      "[I 2025-06-07 07:31:26,382] Trial 177 finished with value: 0.16667386005100482 and parameters: {'alpha': 18.310818710562064, 'tol': 0.004900589375121204, 'fit_intercept': False, 'positive': False}. Best is trial 104 with value: 0.166674750296115.\n",
      "[I 2025-06-07 07:31:26,394] Trial 179 finished with value: 0.16667472736141076 and parameters: {'alpha': 5.5491171530893215, 'tol': 0.0003932402415731125, 'fit_intercept': False, 'positive': False}. Best is trial 104 with value: 0.166674750296115.\n",
      "[I 2025-06-07 07:31:26,415] Trial 178 finished with value: 0.16667355620030552 and parameters: {'alpha': 20.727263270377374, 'tol': 0.004578269863613834, 'fit_intercept': False, 'positive': False}. Best is trial 104 with value: 0.166674750296115.\n",
      "[I 2025-06-07 07:31:28,189] Trial 180 finished with value: 0.16667473528513055 and parameters: {'alpha': 1.1586752822087258, 'tol': 0.0015613532249717091, 'fit_intercept': False, 'positive': False}. Best is trial 104 with value: 0.166674750296115.\n",
      "[I 2025-06-07 07:31:29,178] Trial 183 finished with value: 0.16667473301432664 and parameters: {'alpha': 1.0157157510479924, 'tol': 0.003505380166072181, 'fit_intercept': False, 'positive': False}. Best is trial 104 with value: 0.166674750296115.\n",
      "[I 2025-06-07 07:31:29,185] Trial 181 finished with value: 0.16667475030806445 and parameters: {'alpha': 3.13708748480667, 'tol': 0.00024821594996716915, 'fit_intercept': False, 'positive': False}. Best is trial 181 with value: 0.16667475030806445.\n",
      "[I 2025-06-07 07:31:29,201] Trial 182 finished with value: 0.16667269197427942 and parameters: {'alpha': 26.279306105089663, 'tol': 0.009025064101720305, 'fit_intercept': False, 'positive': False}. Best is trial 181 with value: 0.16667475030806445.\n",
      "[I 2025-06-07 07:31:30,914] Trial 184 finished with value: 0.1666747484354746 and parameters: {'alpha': 2.4275358816456554, 'tol': 0.00019196280185748764, 'fit_intercept': False, 'positive': False}. Best is trial 181 with value: 0.16667475030806445.\n",
      "[I 2025-06-07 07:31:31,872] Trial 185 finished with value: 0.16667382517471915 and parameters: {'alpha': 18.607028346670823, 'tol': 2.729408877177918e-06, 'fit_intercept': False, 'positive': False}. Best is trial 181 with value: 0.16667475030806445.\n",
      "[I 2025-06-07 07:31:32,026] Trial 187 finished with value: 0.16667474209900568 and parameters: {'alpha': 1.6700582947715943, 'tol': 7.790191374210096e-05, 'fit_intercept': False, 'positive': False}. Best is trial 181 with value: 0.16667475030806445.\n",
      "[I 2025-06-07 07:31:32,028] Trial 186 finished with value: 0.16667472997610572 and parameters: {'alpha': 5.406476941731425, 'tol': 0.0005523289787822595, 'fit_intercept': False, 'positive': False}. Best is trial 181 with value: 0.16667475030806445.\n",
      "[I 2025-06-07 07:31:33,609] Trial 188 finished with value: 0.16667473123656765 and parameters: {'alpha': 5.334441682487272, 'tol': 0.00016165890524410045, 'fit_intercept': False, 'positive': False}. Best is trial 181 with value: 0.16667475030806445.\n",
      "[I 2025-06-07 07:31:34,445] Trial 189 finished with value: 0.16667474376871985 and parameters: {'alpha': 1.8258780657553335, 'tol': 2.389117848575648e-05, 'fit_intercept': False, 'positive': False}. Best is trial 181 with value: 0.16667475030806445.\n",
      "[I 2025-06-07 07:31:34,739] Trial 191 finished with value: 0.16667438997455292 and parameters: {'alpha': 12.766835497308442, 'tol': 0.003364440504615992, 'fit_intercept': False, 'positive': False}. Best is trial 181 with value: 0.16667475030806445.\n",
      "[I 2025-06-07 07:31:35,340] Trial 190 finished with value: 0.1585927932264438 and parameters: {'alpha': 33.883190617501235, 'tol': 0.001152673165137301, 'fit_intercept': False, 'positive': True}. Best is trial 181 with value: 0.16667475030806445.\n",
      "[I 2025-06-07 07:31:36,312] Trial 192 finished with value: 0.16667474692625386 and parameters: {'alpha': 2.1893736688725367, 'tol': 0.003383821827261937, 'fit_intercept': False, 'positive': False}. Best is trial 181 with value: 0.16667475030806445.\n",
      "[I 2025-06-07 07:31:37,251] Trial 193 finished with value: 0.16667446598304683 and parameters: {'alpha': 11.686187523112588, 'tol': 0.004272834411987709, 'fit_intercept': False, 'positive': False}. Best is trial 181 with value: 0.16667475030806445.\n",
      "[I 2025-06-07 07:31:37,272] Trial 194 finished with value: 0.16667473451092477 and parameters: {'alpha': 1.108790854293817, 'tol': 0.0016629077409846791, 'fit_intercept': False, 'positive': False}. Best is trial 181 with value: 0.16667475030806445.\n",
      "[I 2025-06-07 07:31:38,353] Trial 195 finished with value: 0.16667474206118002 and parameters: {'alpha': 1.6667220447442992, 'tol': 0.003281439113638176, 'fit_intercept': False, 'positive': False}. Best is trial 181 with value: 0.16667475030806445.\n",
      "[I 2025-06-07 07:31:39,072] Trial 196 finished with value: 0.1666747301783221 and parameters: {'alpha': 0.8498019616138317, 'tol': 0.001166719119263535, 'fit_intercept': False, 'positive': False}. Best is trial 181 with value: 0.16667475030806445.\n",
      "[I 2025-06-07 07:31:40,045] Trial 197 finished with value: 0.16667471966676312 and parameters: {'alpha': 0.31945355757858174, 'tol': 0.0020796403766914474, 'fit_intercept': False, 'positive': False}. Best is trial 181 with value: 0.16667475030806445.\n",
      "[I 2025-06-07 07:31:40,062] Trial 198 finished with value: 0.16667473949428793 and parameters: {'alpha': 1.4558901594914908, 'tol': 0.007040571010751993, 'fit_intercept': False, 'positive': False}. Best is trial 181 with value: 0.16667475030806445.\n",
      "[I 2025-06-07 07:31:41,028] Trial 199 finished with value: 0.1666735130648222 and parameters: {'alpha': 21.044339517575125, 'tol': 9.812371980499876e-05, 'fit_intercept': False, 'positive': False}. Best is trial 181 with value: 0.16667475030806445.\n",
      "[I 2025-06-07 07:31:41,928] Trial 200 finished with value: 0.16667427449528185 and parameters: {'alpha': 14.210612986027659, 'tol': 0.007425717567467316, 'fit_intercept': False, 'positive': False}. Best is trial 181 with value: 0.16667475030806445.\n",
      "[I 2025-06-07 07:31:42,757] Trial 202 finished with value: 0.1666747461838254 and parameters: {'alpha': 4.149851084482848, 'tol': 0.00011351341397595812, 'fit_intercept': False, 'positive': False}. Best is trial 181 with value: 0.16667475030806445.\n",
      "[I 2025-06-07 07:31:43,242] Trial 201 finished with value: 0.15307873433746003 and parameters: {'alpha': 98.67434623465294, 'tol': 0.0017485672867110099, 'fit_intercept': True, 'positive': True}. Best is trial 181 with value: 0.16667475030806445.\n",
      "[I 2025-06-07 07:31:43,534] Trial 203 finished with value: 0.16667473529704918 and parameters: {'alpha': 1.159453176533533, 'tol': 0.0006974450894671966, 'fit_intercept': False, 'positive': False}. Best is trial 181 with value: 0.16667475030806445.\n",
      "[I 2025-06-07 07:31:45,060] Trial 204 finished with value: 0.13626604187615504 and parameters: {'alpha': 35.59776785196213, 'tol': 0.007174040881889445, 'fit_intercept': True, 'positive': True}. Best is trial 181 with value: 0.16667475030806445.\n",
      "[I 2025-06-07 07:31:45,913] Trial 205 finished with value: 0.13626471860147962 and parameters: {'alpha': 47.11296946384971, 'tol': 0.008864833283476661, 'fit_intercept': True, 'positive': True}. Best is trial 181 with value: 0.16667475030806445.\n",
      "[I 2025-06-07 07:31:45,935] Trial 206 finished with value: 0.16667473091341564 and parameters: {'alpha': 0.8916183608156683, 'tol': 0.0032458559380575238, 'fit_intercept': False, 'positive': False}. Best is trial 181 with value: 0.16667475030806445.\n",
      "[I 2025-06-07 07:31:46,245] Trial 207 finished with value: 0.1666746754555526 and parameters: {'alpha': 7.509483473503017, 'tol': 0.004164463610400593, 'fit_intercept': False, 'positive': False}. Best is trial 181 with value: 0.16667475030806445.\n",
      "[I 2025-06-07 07:31:47,748] Trial 208 finished with value: 0.16667471461756855 and parameters: {'alpha': 0.0976818800065633, 'tol': 0.004583284674289932, 'fit_intercept': False, 'positive': False}. Best is trial 181 with value: 0.16667475030806445.\n",
      "[I 2025-06-07 07:31:48,706] Trial 209 finished with value: 0.16667474465138865 and parameters: {'alpha': 4.326008144989821, 'tol': 0.0034792945344824895, 'fit_intercept': False, 'positive': False}. Best is trial 181 with value: 0.16667475030806445.\n",
      "[I 2025-06-07 07:31:48,728] Trial 210 finished with value: 0.16667472067802264 and parameters: {'alpha': 0.3660218713532708, 'tol': 0.005355379709936429, 'fit_intercept': False, 'positive': False}. Best is trial 181 with value: 0.16667475030806445.\n",
      "[I 2025-06-07 07:31:49,034] Trial 211 finished with value: 0.16667474963534679 and parameters: {'alpha': 3.5365354325381473, 'tol': 0.004861958971873811, 'fit_intercept': False, 'positive': False}. Best is trial 181 with value: 0.16667475030806445.\n",
      "[I 2025-06-07 07:31:50,520] Trial 212 finished with value: 0.16667376991427996 and parameters: {'alpha': 19.065270993623997, 'tol': 0.0022709029630713653, 'fit_intercept': False, 'positive': False}. Best is trial 181 with value: 0.16667475030806445.\n",
      "[I 2025-06-07 07:31:51,434] Trial 213 finished with value: 0.16667408065994577 and parameters: {'alpha': 16.286093559189556, 'tol': 0.0057958763455913855, 'fit_intercept': False, 'positive': False}. Best is trial 181 with value: 0.16667475030806445.\n",
      "[I 2025-06-07 07:31:51,449] Trial 214 finished with value: 0.16667384324022058 and parameters: {'alpha': 18.454298677102827, 'tol': 3.757111786509759e-05, 'fit_intercept': False, 'positive': False}. Best is trial 181 with value: 0.16667475030806445.\n",
      "[I 2025-06-07 07:31:51,780] Trial 215 finished with value: 0.16667361102991646 and parameters: {'alpha': 20.31594087439234, 'tol': 0.005187670636676726, 'fit_intercept': False, 'positive': False}. Best is trial 181 with value: 0.16667475030806445.\n",
      "[I 2025-06-07 07:31:53,232] Trial 216 finished with value: 0.1666739010518603 and parameters: {'alpha': 17.955147399072622, 'tol': 0.005547309933488629, 'fit_intercept': False, 'positive': False}. Best is trial 181 with value: 0.16667475030806445.\n",
      "[I 2025-06-07 07:31:54,195] Trial 217 finished with value: 0.1666747309226938 and parameters: {'alpha': 0.8921511846886454, 'tol': 0.0043545763192181074, 'fit_intercept': False, 'positive': False}. Best is trial 181 with value: 0.16667475030806445.\n",
      "[I 2025-06-07 07:31:54,217] Trial 218 finished with value: 0.16349686689222123 and parameters: {'alpha': 96.47921796885076, 'tol': 0.00020280838179764, 'fit_intercept': True, 'positive': False}. Best is trial 181 with value: 0.16667475030806445.\n",
      "[I 2025-06-07 07:31:54,516] Trial 219 finished with value: 0.1666746535102092 and parameters: {'alpha': 8.112539740285264, 'tol': 0.005962294364456793, 'fit_intercept': False, 'positive': False}. Best is trial 181 with value: 0.16667475030806445.\n",
      "[I 2025-06-07 07:31:56,033] Trial 220 finished with value: 0.16667430158632499 and parameters: {'alpha': 13.889122665419471, 'tol': 0.003332716725053439, 'fit_intercept': False, 'positive': False}. Best is trial 181 with value: 0.16667475030806445.\n",
      "[I 2025-06-07 07:31:57,022] Trial 221 finished with value: 0.16667426788592152 and parameters: {'alpha': 14.2876573512271, 'tol': 0.0026539262464762743, 'fit_intercept': False, 'positive': False}. Best is trial 181 with value: 0.16667475030806445.\n",
      "[I 2025-06-07 07:31:57,037] Trial 222 finished with value: 0.16667443021858 and parameters: {'alpha': 12.210538761673794, 'tol': 0.0028221613837749386, 'fit_intercept': False, 'positive': False}. Best is trial 181 with value: 0.16667475030806445.\n",
      "[I 2025-06-07 07:31:57,321] Trial 223 finished with value: 0.16667461930615451 and parameters: {'alpha': 8.929474082342661, 'tol': 0.0020758587189685356, 'fit_intercept': False, 'positive': False}. Best is trial 181 with value: 0.16667475030806445.\n",
      "[I 2025-06-07 07:31:58,770] Trial 224 finished with value: 0.16667463401329952 and parameters: {'alpha': 8.593091676636888, 'tol': 0.0006674353445261777, 'fit_intercept': False, 'positive': False}. Best is trial 181 with value: 0.16667475030806445.\n",
      "[I 2025-06-07 07:31:59,761] Trial 226 finished with value: 0.16667473055774434 and parameters: {'alpha': 0.8712884142600215, 'tol': 0.0006681731771718712, 'fit_intercept': False, 'positive': False}. Best is trial 181 with value: 0.16667475030806445.\n",
      "[I 2025-06-07 07:31:59,778] Trial 225 finished with value: 0.1666747236482529 and parameters: {'alpha': 0.5076081739565299, 'tol': 0.0011805146119580898, 'fit_intercept': False, 'positive': False}. Best is trial 181 with value: 0.16667475030806445.\n",
      "[I 2025-06-07 07:32:00,081] Trial 227 finished with value: 0.16667465271552712 and parameters: {'alpha': 8.133022704771218, 'tol': 0.00024082358565029183, 'fit_intercept': False, 'positive': False}. Best is trial 181 with value: 0.16667475030806445.\n",
      "[I 2025-06-07 07:32:01,601] Trial 228 finished with value: 0.16667474796449816 and parameters: {'alpha': 3.896503767494849, 'tol': 0.0008940420694589122, 'fit_intercept': False, 'positive': False}. Best is trial 181 with value: 0.16667475030806445.\n",
      "[I 2025-06-07 07:32:02,542] Trial 229 finished with value: 0.1666747469101761 and parameters: {'alpha': 4.054835865754968, 'tol': 0.0001386655422262862, 'fit_intercept': False, 'positive': False}. Best is trial 181 with value: 0.16667475030806445.\n",
      "[I 2025-06-07 07:32:02,559] Trial 230 finished with value: 0.16667472075559325 and parameters: {'alpha': 0.3696266277902627, 'tol': 0.00021258308068581114, 'fit_intercept': False, 'positive': False}. Best is trial 181 with value: 0.16667475030806445.\n",
      "[I 2025-06-07 07:32:02,835] Trial 231 finished with value: 0.16667474570340418 and parameters: {'alpha': 4.208148186212191, 'tol': 0.00012888634101401687, 'fit_intercept': False, 'positive': False}. Best is trial 181 with value: 0.16667475030806445.\n",
      "[I 2025-06-07 07:32:04,224] Trial 232 finished with value: 0.16667472148159745 and parameters: {'alpha': 0.4035969737353673, 'tol': 0.005759736802351533, 'fit_intercept': False, 'positive': False}. Best is trial 181 with value: 0.16667475030806445.\n",
      "[I 2025-06-07 07:32:05,161] Trial 234 finished with value: 0.16667474281577307 and parameters: {'alpha': 1.7347972191014027, 'tol': 0.0004546854844807102, 'fit_intercept': False, 'positive': False}. Best is trial 181 with value: 0.16667475030806445.\n",
      "[I 2025-06-07 07:32:05,487] Trial 235 finished with value: 0.16667471593189248 and parameters: {'alpha': 0.15380886053279053, 'tol': 7.852784977385231e-05, 'fit_intercept': False, 'positive': False}. Best is trial 181 with value: 0.16667475030806445.\n",
      "[I 2025-06-07 07:32:05,914] Trial 233 finished with value: 0.14839832943207623 and parameters: {'alpha': 50.23110035308181, 'tol': 0.0034371920075900804, 'fit_intercept': True, 'positive': True}. Best is trial 181 with value: 0.16667475030806445.\n",
      "[I 2025-06-07 07:32:06,886] Trial 236 finished with value: 0.166674717124662 and parameters: {'alpha': 0.20568305770439665, 'tol': 0.00029320071104005753, 'fit_intercept': False, 'positive': False}. Best is trial 181 with value: 0.16667475030806445.\n",
      "[I 2025-06-07 07:32:07,871] Trial 237 finished with value: 0.16667379179359607 and parameters: {'alpha': 18.8854065307873, 'tol': 0.0011516382121603645, 'fit_intercept': False, 'positive': False}. Best is trial 181 with value: 0.16667475030806445.\n",
      "[I 2025-06-07 07:32:08,292] Trial 238 finished with value: 0.16667474947904465 and parameters: {'alpha': 3.582261753567667, 'tol': 0.002487162526994954, 'fit_intercept': False, 'positive': False}. Best is trial 181 with value: 0.16667475030806445.\n",
      "[I 2025-06-07 07:32:08,872] Trial 239 finished with value: 0.16667472263265118 and parameters: {'alpha': 0.458346441377957, 'tol': 2.970246543166743e-05, 'fit_intercept': False, 'positive': False}. Best is trial 181 with value: 0.16667475030806445.\n",
      "[I 2025-06-07 07:32:09,677] Trial 240 finished with value: 0.16667471595688763 and parameters: {'alpha': 0.15488657797446814, 'tol': 0.004621568245982328, 'fit_intercept': False, 'positive': False}. Best is trial 181 with value: 0.16667475030806445.\n",
      "[I 2025-06-07 07:32:10,601] Trial 241 finished with value: 0.1666747377461243 and parameters: {'alpha': 1.326451133878529, 'tol': 0.0032193126790846004, 'fit_intercept': False, 'positive': False}. Best is trial 181 with value: 0.16667475030806445.\n",
      "[I 2025-06-07 07:32:11,048] Trial 242 finished with value: 0.16667475022217226 and parameters: {'alpha': 2.9713656992935666, 'tol': 0.0036930548536058825, 'fit_intercept': False, 'positive': False}. Best is trial 181 with value: 0.16667475030806445.\n",
      "[I 2025-06-07 07:32:11,478] Trial 243 finished with value: 0.16667473915405093 and parameters: {'alpha': 1.4299198811414975, 'tol': 0.00308341268070634, 'fit_intercept': False, 'positive': False}. Best is trial 181 with value: 0.16667475030806445.\n",
      "[I 2025-06-07 07:32:12,528] Trial 244 finished with value: 0.16667471397237835 and parameters: {'alpha': 0.07050868040937308, 'tol': 0.0019960603497382176, 'fit_intercept': False, 'positive': False}. Best is trial 181 with value: 0.16667475030806445.\n",
      "[I 2025-06-07 07:32:13,226] Trial 245 finished with value: 0.16667474017975015 and parameters: {'alpha': 4.733672192979446, 'tol': 0.002887468448471985, 'fit_intercept': False, 'positive': False}. Best is trial 181 with value: 0.16667475030806445.\n",
      "[I 2025-06-07 07:32:13,642] Trial 246 finished with value: 0.16667474496143939 and parameters: {'alpha': 1.9498309771785332, 'tol': 0.002460129911120383, 'fit_intercept': False, 'positive': False}. Best is trial 181 with value: 0.16667475030806445.\n",
      "[I 2025-06-07 07:32:15,087] Trial 247 finished with value: 0.15798369598489304 and parameters: {'alpha': 2.755679132154052, 'tol': 0.001641915231041243, 'fit_intercept': False, 'positive': True}. Best is trial 181 with value: 0.16667475030806445.\n",
      "[I 2025-06-07 07:32:15,231] Trial 248 finished with value: 0.16667441162054966 and parameters: {'alpha': 12.47169633696517, 'tol': 0.003853643343797401, 'fit_intercept': False, 'positive': False}. Best is trial 181 with value: 0.16667475030806445.\n",
      "[I 2025-06-07 07:32:16,354] Trial 249 finished with value: 0.16359719159515254 and parameters: {'alpha': 15.039114591243269, 'tol': 0.0037903792835877613, 'fit_intercept': True, 'positive': False}. Best is trial 181 with value: 0.16667475030806445.\n",
      "[I 2025-06-07 07:32:16,372] Trial 250 finished with value: 0.16667422907027535 and parameters: {'alpha': 14.729924712423445, 'tol': 0.004554249058421099, 'fit_intercept': False, 'positive': False}. Best is trial 181 with value: 0.16667475030806445.\n",
      "[I 2025-06-07 07:32:18,087] Trial 252 finished with value: 0.1666747222284812 and parameters: {'alpha': 0.43899455516868535, 'tol': 0.007463527577989567, 'fit_intercept': False, 'positive': False}. Best is trial 181 with value: 0.16667475030806445.\n",
      "[I 2025-06-07 07:32:18,098] Trial 251 finished with value: 0.16667473688510603 and parameters: {'alpha': 1.2660218880308443, 'tol': 0.008824937611993253, 'fit_intercept': False, 'positive': False}. Best is trial 181 with value: 0.16667475030806445.\n",
      "[I 2025-06-07 07:32:18,981] Trial 253 finished with value: 0.1666747379680409 and parameters: {'alpha': 1.3423594170101474, 'tol': 0.005744035550409726, 'fit_intercept': False, 'positive': False}. Best is trial 181 with value: 0.16667475030806445.\n",
      "[I 2025-06-07 07:32:19,008] Trial 254 finished with value: 0.16667474769037421 and parameters: {'alpha': 3.9406142353052234, 'tol': 0.005117994792724491, 'fit_intercept': False, 'positive': False}. Best is trial 181 with value: 0.16667475030806445.\n",
      "[I 2025-06-07 07:32:20,936] Trial 256 finished with value: 0.166674743885186 and parameters: {'alpha': 4.40506610066446, 'tol': 0.0036243698095392548, 'fit_intercept': False, 'positive': False}. Best is trial 181 with value: 0.16667475030806445.\n",
      "[I 2025-06-07 07:32:20,947] Trial 255 finished with value: 0.16667472048359713 and parameters: {'alpha': 0.35700751241794837, 'tol': 0.005276624896372585, 'fit_intercept': False, 'positive': False}. Best is trial 181 with value: 0.16667475030806445.\n",
      "[I 2025-06-07 07:32:21,809] Trial 257 finished with value: 0.16667475010478794 and parameters: {'alpha': 2.8917666193108875, 'tol': 0.0038226511681505176, 'fit_intercept': False, 'positive': False}. Best is trial 181 with value: 0.16667475030806445.\n",
      "[I 2025-06-07 07:32:21,811] Trial 258 finished with value: 0.16667423178317964 and parameters: {'alpha': 14.69955661933427, 'tol': 0.005364912316049188, 'fit_intercept': False, 'positive': False}. Best is trial 181 with value: 0.16667475030806445.\n",
      "[I 2025-06-07 07:32:23,777] Trial 260 finished with value: 0.16667427180889405 and parameters: {'alpha': 14.24199148722889, 'tol': 0.0060123307300063026, 'fit_intercept': False, 'positive': False}. Best is trial 181 with value: 0.16667475030806445.\n",
      "[I 2025-06-07 07:32:23,794] Trial 259 finished with value: 0.1666740121096325 and parameters: {'alpha': 16.946575915988074, 'tol': 0.001770145791759577, 'fit_intercept': False, 'positive': False}. Best is trial 181 with value: 0.16667475030806445.\n",
      "[I 2025-06-07 07:32:24,650] Trial 261 finished with value: 0.1666747480644215 and parameters: {'alpha': 2.3620132954927633, 'tol': 0.005126669621718719, 'fit_intercept': False, 'positive': False}. Best is trial 181 with value: 0.16667475030806445.\n",
      "[I 2025-06-07 07:32:24,669] Trial 262 finished with value: 0.1666747447872371 and parameters: {'alpha': 1.9309204943983818, 'tol': 0.005016811281796701, 'fit_intercept': False, 'positive': False}. Best is trial 181 with value: 0.16667475030806445.\n",
      "[I 2025-06-07 07:32:26,491] Trial 263 finished with value: 0.16667382756516522 and parameters: {'alpha': 18.58690424675217, 'tol': 0.004222384051479152, 'fit_intercept': False, 'positive': False}. Best is trial 181 with value: 0.16667475030806445.\n",
      "[I 2025-06-07 07:32:26,495] Trial 264 finished with value: 0.1666747492814009 and parameters: {'alpha': 2.6073032457001184, 'tol': 0.003938848199589657, 'fit_intercept': False, 'positive': False}. Best is trial 181 with value: 0.16667475030806445.\n",
      "[I 2025-06-07 07:32:27,354] Trial 265 finished with value: 0.1666747389948467 and parameters: {'alpha': 1.417904082034845, 'tol': 0.004453937512153788, 'fit_intercept': False, 'positive': False}. Best is trial 181 with value: 0.16667475030806445.\n",
      "[I 2025-06-07 07:32:27,382] Trial 266 finished with value: 0.16667471848785656 and parameters: {'alpha': 0.2661266694106028, 'tol': 0.005659600630320106, 'fit_intercept': False, 'positive': False}. Best is trial 181 with value: 0.16667475030806445.\n",
      "[I 2025-06-07 07:32:29,322] Trial 267 finished with value: 0.16667469851023378 and parameters: {'alpha': 6.770683786278946, 'tol': 0.006182843887559933, 'fit_intercept': False, 'positive': False}. Best is trial 181 with value: 0.16667475030806445.\n",
      "[I 2025-06-07 07:32:29,340] Trial 268 finished with value: 0.166674750300357 and parameters: {'alpha': 3.0733191014085794, 'tol': 0.004893739527129199, 'fit_intercept': False, 'positive': False}. Best is trial 181 with value: 0.16667475030806445.\n",
      "[I 2025-06-07 07:32:30,295] Trial 269 finished with value: 0.16667472785072915 and parameters: {'alpha': 0.7222096734792167, 'tol': 0.004655911699802353, 'fit_intercept': False, 'positive': False}. Best is trial 181 with value: 0.16667475030806445.\n",
      "[I 2025-06-07 07:32:30,302] Trial 270 finished with value: 0.1666741855218675 and parameters: {'alpha': 15.20708385464588, 'tol': 0.005232377279812757, 'fit_intercept': False, 'positive': False}. Best is trial 181 with value: 0.16667475030806445.\n",
      "[I 2025-06-07 07:32:32,040] Trial 271 finished with value: 0.16667443707367172 and parameters: {'alpha': 12.112382913182133, 'tol': 0.004913778945926005, 'fit_intercept': False, 'positive': False}. Best is trial 181 with value: 0.16667475030806445.\n",
      "[I 2025-06-07 07:32:32,056] Trial 272 finished with value: 0.16667409624179574 and parameters: {'alpha': 16.131350211972638, 'tol': 0.004593267892945341, 'fit_intercept': False, 'positive': False}. Best is trial 181 with value: 0.16667475030806445.\n",
      "[I 2025-06-07 07:32:33,073] Trial 274 finished with value: 0.16667471466647343 and parameters: {'alpha': 0.09975158669371753, 'tol': 0.0038794440301361723, 'fit_intercept': False, 'positive': False}. Best is trial 181 with value: 0.16667475030806445.\n",
      "[I 2025-06-07 07:32:33,212] Trial 273 finished with value: 0.16667374817899788 and parameters: {'alpha': 19.24199584192576, 'tol': 0.004001026455660166, 'fit_intercept': False, 'positive': False}. Best is trial 181 with value: 0.16667475030806445.\n",
      "[I 2025-06-07 07:32:34,898] Trial 276 finished with value: 0.16666520898171672 and parameters: {'alpha': 53.43102829880638, 'tol': 0.0032688155316283967, 'fit_intercept': False, 'positive': False}. Best is trial 181 with value: 0.16667475030806445.\n",
      "[I 2025-06-07 07:32:34,901] Trial 275 finished with value: 0.16667474945859195 and parameters: {'alpha': 3.5879143421384603, 'tol': 0.00398193638378057, 'fit_intercept': False, 'positive': False}. Best is trial 181 with value: 0.16667475030806445.\n",
      "[I 2025-06-07 07:32:35,777] Trial 278 finished with value: 0.16667475023252612 and parameters: {'alpha': 2.9805399503804035, 'tol': 0.0042183556512910975, 'fit_intercept': False, 'positive': False}. Best is trial 181 with value: 0.16667475030806445.\n",
      "[I 2025-06-07 07:32:35,807] Trial 277 finished with value: 0.16667395661622508 and parameters: {'alpha': 17.459282957272276, 'tol': 0.0039433706087686465, 'fit_intercept': False, 'positive': False}. Best is trial 181 with value: 0.16667475030806445.\n",
      "[I 2025-06-07 07:32:37,783] Trial 280 finished with value: 0.1666747460786079 and parameters: {'alpha': 4.162897415700212, 'tol': 0.003982133197335237, 'fit_intercept': False, 'positive': False}. Best is trial 181 with value: 0.16667475030806445.\n",
      "[I 2025-06-07 07:32:37,801] Trial 279 finished with value: 0.16667471831021843 and parameters: {'alpha': 0.25817771821425683, 'tol': 0.003706519900217536, 'fit_intercept': False, 'positive': False}. Best is trial 181 with value: 0.16667475030806445.\n",
      "[I 2025-06-07 07:32:38,610] Trial 282 finished with value: 0.16667473240611344 and parameters: {'alpha': 0.9790483050344478, 'tol': 0.003482919450665728, 'fit_intercept': False, 'positive': False}. Best is trial 181 with value: 0.16667475030806445.\n",
      "[I 2025-06-07 07:32:38,628] Trial 281 finished with value: 0.16667408375919424 and parameters: {'alpha': 16.255458269045636, 'tol': 0.0035889517238324458, 'fit_intercept': False, 'positive': False}. Best is trial 181 with value: 0.16667475030806445.\n",
      "[I 2025-06-07 07:32:40,598] Trial 284 finished with value: 0.16667398615089307 and parameters: {'alpha': 17.18870375128453, 'tol': 0.0033727077147438786, 'fit_intercept': False, 'positive': False}. Best is trial 181 with value: 0.16667475030806445.\n",
      "[I 2025-06-07 07:32:40,907] Trial 283 finished with value: 0.14296487494014604 and parameters: {'alpha': 99.89342923050495, 'tol': 0.006176070077405455, 'fit_intercept': False, 'positive': True}. Best is trial 181 with value: 0.16667475030806445.\n",
      "[I 2025-06-07 07:32:41,503] Trial 286 finished with value: 0.16667471325806302 and parameters: {'alpha': 0.04070463955066739, 'tol': 0.004754113654475757, 'fit_intercept': False, 'positive': False}. Best is trial 181 with value: 0.16667475030806445.\n",
      "[I 2025-06-07 07:32:41,505] Trial 285 finished with value: 0.16667415306463298 and parameters: {'alpha': 15.55094851695204, 'tol': 0.0031338855443984234, 'fit_intercept': False, 'positive': False}. Best is trial 181 with value: 0.16667475030806445.\n",
      "[I 2025-06-07 07:32:43,286] Trial 287 finished with value: 0.16667471917494123 and parameters: {'alpha': 0.29708360312037785, 'tol': 0.0028032964787126384, 'fit_intercept': False, 'positive': False}. Best is trial 181 with value: 0.16667475030806445.\n",
      "[I 2025-06-07 07:32:43,702] Trial 288 finished with value: 0.16667473641838662 and parameters: {'alpha': 1.2340761401401847, 'tol': 0.0031503615714812126, 'fit_intercept': False, 'positive': False}. Best is trial 181 with value: 0.16667475030806445.\n",
      "[I 2025-06-07 07:32:44,277] Trial 289 finished with value: 0.16667435001992859 and parameters: {'alpha': 13.289344194845608, 'tol': 0.002052730407010426, 'fit_intercept': False, 'positive': False}. Best is trial 181 with value: 0.16667475030806445.\n",
      "[I 2025-06-07 07:32:44,278] Trial 290 finished with value: 0.16667403576742945 and parameters: {'alpha': 16.72220908846515, 'tol': 0.0021421720504608195, 'fit_intercept': False, 'positive': False}. Best is trial 181 with value: 0.16667475030806445.\n",
      "[I 2025-06-07 07:32:46,037] Trial 291 finished with value: 0.1666743424557296 and parameters: {'alpha': 13.38530078647362, 'tol': 0.0021170187650212647, 'fit_intercept': False, 'positive': False}. Best is trial 181 with value: 0.16667475030806445.\n",
      "[I 2025-06-07 07:32:46,469] Trial 292 finished with value: 0.1666736656559805 and parameters: {'alpha': 19.89629547948256, 'tol': 0.0016649618642694828, 'fit_intercept': False, 'positive': False}. Best is trial 181 with value: 0.16667475030806445.\n",
      "[I 2025-06-07 07:32:46,896] Trial 293 finished with value: 0.1666747368757709 and parameters: {'alpha': 1.2653775173175834, 'tol': 0.0041385107258311675, 'fit_intercept': False, 'positive': False}. Best is trial 181 with value: 0.16667475030806445.\n",
      "[I 2025-06-07 07:32:46,900] Trial 294 finished with value: 0.16667474770834012 and parameters: {'alpha': 2.3040663558083483, 'tol': 0.0036104813768633357, 'fit_intercept': False, 'positive': False}. Best is trial 181 with value: 0.16667475030806445.\n",
      "[I 2025-06-07 07:32:48,754] Trial 295 finished with value: 0.16667473966243276 and parameters: {'alpha': 4.774369774364366, 'tol': 0.004136759367290316, 'fit_intercept': False, 'positive': False}. Best is trial 181 with value: 0.16667475030806445.\n",
      "[I 2025-06-07 07:32:49,732] Trial 296 finished with value: 0.16360684239313328 and parameters: {'alpha': 2.9562922159779657, 'tol': 0.003803288664701504, 'fit_intercept': True, 'positive': False}. Best is trial 181 with value: 0.16667475030806445.\n",
      "[I 2025-06-07 07:32:49,753] Trial 298 finished with value: 0.16667474049262665 and parameters: {'alpha': 1.534549977002981, 'tol': 0.00416258313507465, 'fit_intercept': False, 'positive': False}. Best is trial 181 with value: 0.16667475030806445.\n",
      "[I 2025-06-07 07:32:49,773] Trial 297 finished with value: 0.16667458798236337 and parameters: {'alpha': 9.588171672816877, 'tol': 0.004402940485632703, 'fit_intercept': False, 'positive': False}. Best is trial 181 with value: 0.16667475030806445.\n",
      "[I 2025-06-07 07:32:52,046] Trial 299 finished with value: 0.15403496205528747 and parameters: {'alpha': 13.38471976436162, 'tol': 0.00435849493598198, 'fit_intercept': False, 'positive': True}. Best is trial 181 with value: 0.16667475030806445.\n",
      "[I 2025-06-07 07:32:52,430] Trial 300 finished with value: 0.16667438634888926 and parameters: {'alpha': 12.81540056181352, 'tol': 0.004490979637252898, 'fit_intercept': False, 'positive': False}. Best is trial 181 with value: 0.16667475030806445.\n",
      "[I 2025-06-07 07:32:52,438] Trial 301 finished with value: 0.16667425594646132 and parameters: {'alpha': 14.42551777317134, 'tol': 0.0017069655804156057, 'fit_intercept': False, 'positive': False}. Best is trial 181 with value: 0.16667475030806445.\n",
      "[I 2025-06-07 07:32:53,005] Trial 302 finished with value: 0.15403207919734263 and parameters: {'alpha': 5.740947732948356, 'tol': 0.004269329784826202, 'fit_intercept': False, 'positive': True}. Best is trial 181 with value: 0.16667475030806445.\n",
      "[I 2025-06-07 07:32:54,794] Trial 303 finished with value: 0.1666745479229955 and parameters: {'alpha': 10.344063793543762, 'tol': 0.0018212870555695264, 'fit_intercept': False, 'positive': False}. Best is trial 181 with value: 0.16667475030806445.\n",
      "[I 2025-06-07 07:32:55,247] Trial 304 finished with value: 0.16667474674032065 and parameters: {'alpha': 2.1641294697562117, 'tol': 0.0027961170242934395, 'fit_intercept': False, 'positive': False}. Best is trial 181 with value: 0.16667475030806445.\n",
      "[I 2025-06-07 07:32:55,409] Trial 305 finished with value: 0.14197254614944657 and parameters: {'alpha': 63.510945600699245, 'tol': 0.007305332388124286, 'fit_intercept': False, 'positive': True}. Best is trial 181 with value: 0.16667475030806445.\n",
      "[I 2025-06-07 07:32:55,589] Trial 306 finished with value: 0.1666747138337127 and parameters: {'alpha': 0.06470019527078152, 'tol': 0.004393496780556071, 'fit_intercept': False, 'positive': False}. Best is trial 181 with value: 0.16667475030806445.\n",
      "[I 2025-06-07 07:32:57,712] Trial 307 finished with value: 0.16667475030014703 and parameters: {'alpha': 3.1686632281694993, 'tol': 0.002133973046483886, 'fit_intercept': False, 'positive': False}. Best is trial 181 with value: 0.16667475030806445.\n",
      "[I 2025-06-07 07:32:58,143] Trial 308 finished with value: 0.16667474930412468 and parameters: {'alpha': 2.6130099731302927, 'tol': 0.004793446257377375, 'fit_intercept': False, 'positive': False}. Best is trial 181 with value: 0.16667475030806445.\n",
      "[I 2025-06-07 07:32:58,168] Trial 309 finished with value: 0.16667472700329747 and parameters: {'alpha': 0.677413595976784, 'tol': 0.004780116652183316, 'fit_intercept': False, 'positive': False}. Best is trial 181 with value: 0.16667475030806445.\n",
      "[I 2025-06-07 07:32:58,456] Trial 310 finished with value: 0.1666747351790371 and parameters: {'alpha': 1.1517644737503325, 'tol': 0.0023584696604486838, 'fit_intercept': False, 'positive': False}. Best is trial 181 with value: 0.16667475030806445.\n",
      "[I 2025-06-07 07:33:00,431] Trial 311 finished with value: 0.16667462446708023 and parameters: {'alpha': 8.813684463857332, 'tol': 0.0025712344342178756, 'fit_intercept': False, 'positive': False}. Best is trial 181 with value: 0.16667475030806445.\n",
      "[I 2025-06-07 07:33:00,718] Trial 312 finished with value: 0.1666747468708435 and parameters: {'alpha': 2.18177952472829, 'tol': 0.004922459046463714, 'fit_intercept': False, 'positive': False}. Best is trial 181 with value: 0.16667475030806445.\n",
      "[I 2025-06-07 07:33:01,175] Trial 314 finished with value: 0.16667447610590594 and parameters: {'alpha': 11.531893872055784, 'tol': 0.005516832095693735, 'fit_intercept': False, 'positive': False}. Best is trial 181 with value: 0.16667475030806445.\n",
      "[I 2025-06-07 07:33:01,632] Trial 313 finished with value: 0.14809918809928113 and parameters: {'alpha': 9.556768027832128, 'tol': 0.0037381810035397385, 'fit_intercept': True, 'positive': True}. Best is trial 181 with value: 0.16667475030806445.\n",
      "[I 2025-06-07 07:33:03,074] Trial 315 finished with value: 0.16667474090153073 and parameters: {'alpha': 1.5679195713739573, 'tol': 0.005749293272592632, 'fit_intercept': False, 'positive': False}. Best is trial 181 with value: 0.16667475030806445.\n",
      "[I 2025-06-07 07:33:03,509] Trial 316 finished with value: 0.16667417585406666 and parameters: {'alpha': 15.310510252526884, 'tol': 0.00433916613362479, 'fit_intercept': False, 'positive': False}. Best is trial 181 with value: 0.16667475030806445.\n",
      "[I 2025-06-07 07:33:03,933] Trial 317 finished with value: 0.16667346815282452 and parameters: {'alpha': 21.368723709529636, 'tol': 0.004137194517139261, 'fit_intercept': False, 'positive': False}. Best is trial 181 with value: 0.16667475030806445.\n",
      "[I 2025-06-07 07:33:04,354] Trial 318 finished with value: 0.1666731433634452 and parameters: {'alpha': 23.564572558220657, 'tol': 0.004187048831345887, 'fit_intercept': False, 'positive': False}. Best is trial 181 with value: 0.16667475030806445.\n",
      "[I 2025-06-07 07:33:05,985] Trial 319 finished with value: 0.16667437858109266 and parameters: {'alpha': 12.918646211881285, 'tol': 0.004218140894403094, 'fit_intercept': False, 'positive': False}. Best is trial 181 with value: 0.16667475030806445.\n",
      "[I 2025-06-07 07:33:06,294] Trial 320 finished with value: 0.16667472395131447 and parameters: {'alpha': 0.5224895845755393, 'tol': 0.0033707428479099752, 'fit_intercept': False, 'positive': False}. Best is trial 181 with value: 0.16667475030806445.\n",
      "[I 2025-06-07 07:33:06,706] Trial 321 finished with value: 0.16667473794517518 and parameters: {'alpha': 1.3407136850753474, 'tol': 0.004819205331207918, 'fit_intercept': False, 'positive': False}. Best is trial 181 with value: 0.16667475030806445.\n",
      "[I 2025-06-07 07:33:07,151] Trial 322 finished with value: 0.1666747204337932 and parameters: {'alpha': 0.35470313981222823, 'tol': 0.0047477503191449034, 'fit_intercept': False, 'positive': False}. Best is trial 181 with value: 0.16667475030806445.\n",
      "[I 2025-06-07 07:33:09,014] Trial 323 finished with value: 0.16667474116752462 and parameters: {'alpha': 1.5900177322420783, 'tol': 0.004041266759528125, 'fit_intercept': False, 'positive': False}. Best is trial 181 with value: 0.16667475030806445.\n",
      "[I 2025-06-07 07:33:09,051] Trial 324 finished with value: 0.1666747452940368 and parameters: {'alpha': 4.2554648379526725, 'tol': 0.0052405446481014525, 'fit_intercept': False, 'positive': False}. Best is trial 181 with value: 0.16667475030806445.\n",
      "[I 2025-06-07 07:33:09,340] Trial 325 finished with value: 0.16667472347972878 and parameters: {'alpha': 0.49936968092744927, 'tol': 0.0027128724004864347, 'fit_intercept': False, 'positive': False}. Best is trial 181 with value: 0.16667475030806445.\n",
      "[I 2025-06-07 07:33:10,014] Trial 326 finished with value: 0.16667473855840956 and parameters: {'alpha': 1.385391704609288, 'tol': 0.0025767994674144672, 'fit_intercept': False, 'positive': False}. Best is trial 181 with value: 0.16667475030806445.\n",
      "[I 2025-06-07 07:33:11,773] Trial 327 finished with value: 0.1666747138617461 and parameters: {'alpha': 0.06587357979476405, 'tol': 0.005608594433638975, 'fit_intercept': False, 'positive': False}. Best is trial 181 with value: 0.16667475030806445.\n",
      "[I 2025-06-07 07:33:11,778] Trial 328 finished with value: 0.16667474975691782 and parameters: {'alpha': 3.4971507030246824, 'tol': 0.0025286973729077007, 'fit_intercept': False, 'positive': False}. Best is trial 181 with value: 0.16667475030806445.\n",
      "[I 2025-06-07 07:33:12,103] Trial 329 finished with value: 0.1666747278983122 and parameters: {'alpha': 0.724749855136817, 'tol': 0.0018339702427904606, 'fit_intercept': False, 'positive': False}. Best is trial 181 with value: 0.16667475030806445.\n",
      "[I 2025-06-07 07:33:12,564] Trial 330 finished with value: 0.16667241091595736 and parameters: {'alpha': 27.82249902098042, 'tol': 0.007109347078452153, 'fit_intercept': False, 'positive': False}. Best is trial 181 with value: 0.16667475030806445.\n",
      "[I 2025-06-07 07:33:14,630] Trial 331 finished with value: 0.16667471475268392 and parameters: {'alpha': 0.1034035619902478, 'tol': 0.0023962938857134113, 'fit_intercept': False, 'positive': False}. Best is trial 181 with value: 0.16667475030806445.\n",
      "[I 2025-06-07 07:33:14,647] Trial 332 finished with value: 0.16667473471266667 and parameters: {'alpha': 1.1216695311512854, 'tol': 0.00266525304594844, 'fit_intercept': False, 'positive': False}. Best is trial 181 with value: 0.16667475030806445.\n",
      "[I 2025-06-07 07:33:14,956] Trial 333 finished with value: 0.16667431447990366 and parameters: {'alpha': 13.73273168942261, 'tol': 0.0022628978331515346, 'fit_intercept': False, 'positive': False}. Best is trial 181 with value: 0.16667475030806445.\n",
      "[I 2025-06-07 07:33:15,387] Trial 334 finished with value: 0.16667472790919066 and parameters: {'alpha': 0.7253309726271979, 'tol': 0.0027094459142164096, 'fit_intercept': False, 'positive': False}. Best is trial 181 with value: 0.16667475030806445.\n",
      "[I 2025-06-07 07:33:17,485] Trial 335 finished with value: 0.16667369002887217 and parameters: {'alpha': 19.705692573517805, 'tol': 0.0029230171864358142, 'fit_intercept': False, 'positive': False}. Best is trial 181 with value: 0.16667475030806445.\n",
      "[I 2025-06-07 07:33:17,505] Trial 336 finished with value: 0.16667384411459296 and parameters: {'alpha': 18.44686852418163, 'tol': 0.0034788487113885432, 'fit_intercept': False, 'positive': False}. Best is trial 181 with value: 0.16667475030806445.\n",
      "[I 2025-06-07 07:33:17,784] Trial 337 finished with value: 0.1666634402396156 and parameters: {'alpha': 57.97801834401222, 'tol': 0.00748272274530128, 'fit_intercept': False, 'positive': False}. Best is trial 181 with value: 0.16667475030806445.\n",
      "[I 2025-06-07 07:33:18,237] Trial 338 finished with value: 0.16667386595770575 and parameters: {'alpha': 18.260087154168755, 'tol': 0.0030560269906537733, 'fit_intercept': False, 'positive': False}. Best is trial 181 with value: 0.16667475030806445.\n",
      "[I 2025-06-07 07:33:20,314] Trial 340 finished with value: 0.1666747165352503 and parameters: {'alpha': 0.1799345189934658, 'tol': 0.0021431403463715816, 'fit_intercept': False, 'positive': False}. Best is trial 181 with value: 0.16667475030806445.\n",
      "[I 2025-06-07 07:33:20,343] Trial 339 finished with value: 0.163588832370258 and parameters: {'alpha': 24.291766378351568, 'tol': 0.0002712493637792351, 'fit_intercept': True, 'positive': False}. Best is trial 181 with value: 0.16667475030806445.\n",
      "[I 2025-06-07 07:33:20,670] Trial 341 finished with value: 0.1666738554784328 and parameters: {'alpha': 18.349977386874027, 'tol': 0.0011133296337639891, 'fit_intercept': False, 'positive': False}. Best is trial 181 with value: 0.16667475030806445.\n",
      "[I 2025-06-07 07:33:22,148] Trial 342 finished with value: 0.15858660310558195 and parameters: {'alpha': 21.315058532323878, 'tol': 0.00015885215491408082, 'fit_intercept': False, 'positive': True}. Best is trial 181 with value: 0.16667475030806445.\n",
      "[I 2025-06-07 07:33:23,116] Trial 344 finished with value: 0.16667322825728084 and parameters: {'alpha': 23.01358242135505, 'tol': 0.0008541897232415951, 'fit_intercept': False, 'positive': False}. Best is trial 181 with value: 0.16667475030806445.\n",
      "[I 2025-06-07 07:33:23,119] Trial 343 finished with value: 0.1666742995394854 and parameters: {'alpha': 13.913743337887201, 'tol': 0.0015283282131604745, 'fit_intercept': False, 'positive': False}. Best is trial 181 with value: 0.16667475030806445.\n",
      "[I 2025-06-07 07:33:23,420] Trial 345 finished with value: 0.16667472508901432 and parameters: {'alpha': 0.5791341799894996, 'tol': 0.0033433242796066407, 'fit_intercept': False, 'positive': False}. Best is trial 181 with value: 0.16667475030806445.\n",
      "[I 2025-06-07 07:33:24,980] Trial 346 finished with value: 0.1666747145236326 and parameters: {'alpha': 0.09371040141879305, 'tol': 0.002746373454969321, 'fit_intercept': False, 'positive': False}. Best is trial 181 with value: 0.16667475030806445.\n",
      "[I 2025-06-07 07:33:25,942] Trial 347 finished with value: 0.16667474985563613 and parameters: {'alpha': 2.7796516212410776, 'tol': 0.0034958611170017332, 'fit_intercept': False, 'positive': False}. Best is trial 181 with value: 0.16667475030806445.\n",
      "[I 2025-06-07 07:33:25,950] Trial 348 finished with value: 0.1666742415676519 and parameters: {'alpha': 14.589369592219612, 'tol': 0.0033370278092479276, 'fit_intercept': False, 'positive': False}. Best is trial 181 with value: 0.16667475030806445.\n",
      "[I 2025-06-07 07:33:26,234] Trial 349 finished with value: 0.16667471458027425 and parameters: {'alpha': 0.09610450497774448, 'tol': 0.003841061908597972, 'fit_intercept': False, 'positive': False}. Best is trial 181 with value: 0.16667475030806445.\n",
      "[I 2025-06-07 07:33:27,880] Trial 350 finished with value: 0.1666741391711958 and parameters: {'alpha': 15.695302257706857, 'tol': 0.0040596431763483464, 'fit_intercept': False, 'positive': False}. Best is trial 181 with value: 0.16667475030806445.\n",
      "[I 2025-06-07 07:33:28,701] Trial 352 finished with value: 0.16667416300539892 and parameters: {'alpha': 15.446638826289266, 'tol': 0.004120054288173438, 'fit_intercept': False, 'positive': False}. Best is trial 181 with value: 0.16667475030806445.\n",
      "[I 2025-06-07 07:33:28,726] Trial 351 finished with value: 0.16667472925586554 and parameters: {'alpha': 0.7983946976622915, 'tol': 0.0038106752331771784, 'fit_intercept': False, 'positive': False}. Best is trial 181 with value: 0.16667475030806445.\n",
      "[I 2025-06-07 07:33:28,906] Trial 353 finished with value: 0.16667396428348727 and parameters: {'alpha': 17.389526151430534, 'tol': 0.0044992363353663425, 'fit_intercept': False, 'positive': False}. Best is trial 181 with value: 0.16667475030806445.\n",
      "[I 2025-06-07 07:33:31,220] Trial 354 finished with value: 0.1362589708570573 and parameters: {'alpha': 97.08276649141521, 'tol': 0.00905375823690692, 'fit_intercept': True, 'positive': True}. Best is trial 181 with value: 0.16667475030806445.\n",
      "[I 2025-06-07 07:33:31,266] Trial 356 finished with value: 0.16667472926698865 and parameters: {'alpha': 0.7990077816499608, 'tol': 0.0040676006958409215, 'fit_intercept': False, 'positive': False}. Best is trial 181 with value: 0.16667475030806445.\n",
      "[I 2025-06-07 07:33:32,025] Trial 355 finished with value: 0.1360735506218286 and parameters: {'alpha': 60.985915485146506, 'tol': 0.005692609900572679, 'fit_intercept': True, 'positive': True}. Best is trial 181 with value: 0.16667475030806445.\n",
      "[I 2025-06-07 07:33:32,063] Trial 357 finished with value: 0.1579779992468947 and parameters: {'alpha': 8.376288042522567, 'tol': 0.0025374668437200204, 'fit_intercept': False, 'positive': True}. Best is trial 181 with value: 0.16667475030806445.\n",
      "[I 2025-06-07 07:33:33,961] Trial 359 finished with value: 0.1666740474710624 and parameters: {'alpha': 16.609852998319447, 'tol': 0.003123533443323661, 'fit_intercept': False, 'positive': False}. Best is trial 181 with value: 0.16667475030806445.\n",
      "[I 2025-06-07 07:33:34,844] Trial 358 finished with value: 0.1579727235966971 and parameters: {'alpha': 13.496486648670206, 'tol': 0.003022287751024705, 'fit_intercept': False, 'positive': True}. Best is trial 181 with value: 0.16667475030806445.\n",
      "[I 2025-06-07 07:33:34,846] Trial 361 finished with value: 0.16667412228772427 and parameters: {'alpha': 15.868550008024613, 'tol': 0.003907692356132064, 'fit_intercept': False, 'positive': False}. Best is trial 181 with value: 0.16667475030806445.\n",
      "[I 2025-06-07 07:33:34,849] Trial 360 finished with value: 0.16667408257288147 and parameters: {'alpha': 16.267192993442972, 'tol': 0.007125424414753782, 'fit_intercept': False, 'positive': False}. Best is trial 181 with value: 0.16667475030806445.\n",
      "[I 2025-06-07 07:33:36,676] Trial 362 finished with value: 0.16667432858518058 and parameters: {'alpha': 13.558989090804445, 'tol': 0.005477776286874965, 'fit_intercept': False, 'positive': False}. Best is trial 181 with value: 0.16667475030806445.\n",
      "[I 2025-06-07 07:33:37,644] Trial 363 finished with value: 0.16667435268411626 and parameters: {'alpha': 13.255333179576901, 'tol': 0.007807527409821044, 'fit_intercept': False, 'positive': False}. Best is trial 181 with value: 0.16667475030806445.\n",
      "[I 2025-06-07 07:33:37,664] Trial 365 finished with value: 0.16667473473421288 and parameters: {'alpha': 1.1230499032174601, 'tol': 0.00430171162233671, 'fit_intercept': False, 'positive': False}. Best is trial 181 with value: 0.16667475030806445.\n",
      "[I 2025-06-07 07:33:37,680] Trial 364 finished with value: 0.1666747492887293 and parameters: {'alpha': 2.609136670409611, 'tol': 0.003685476506492446, 'fit_intercept': False, 'positive': False}. Best is trial 181 with value: 0.16667475030806445.\n",
      "[I 2025-06-07 07:33:39,526] Trial 366 finished with value: 0.16667472336055372 and parameters: {'alpha': 0.493559313714234, 'tol': 0.0037683076621186366, 'fit_intercept': False, 'positive': False}. Best is trial 181 with value: 0.16667475030806445.\n",
      "[I 2025-06-07 07:33:40,368] Trial 368 finished with value: 0.16667471629624211 and parameters: {'alpha': 0.16955761068660058, 'tol': 0.00288899823117788, 'fit_intercept': False, 'positive': False}. Best is trial 181 with value: 0.16667475030806445.\n",
      "[I 2025-06-07 07:33:40,387] Trial 367 finished with value: 0.166674724071368 and parameters: {'alpha': 0.5284083311933516, 'tol': 0.002069741047461795, 'fit_intercept': False, 'positive': False}. Best is trial 181 with value: 0.16667475030806445.\n",
      "[I 2025-06-07 07:33:40,666] Trial 369 finished with value: 0.1635917358110012 and parameters: {'alpha': 21.180276433920383, 'tol': 0.0030990233972661508, 'fit_intercept': True, 'positive': False}. Best is trial 181 with value: 0.16667475030806445.\n",
      "[I 2025-06-07 07:33:42,205] Trial 370 finished with value: 0.1666741887950363 and parameters: {'alpha': 15.17186872263138, 'tol': 0.004899632079134238, 'fit_intercept': False, 'positive': False}. Best is trial 181 with value: 0.16667475030806445.\n",
      "[I 2025-06-07 07:33:43,136] Trial 372 finished with value: 0.16667474076698027 and parameters: {'alpha': 1.5568605311462251, 'tol': 0.005247380406122718, 'fit_intercept': False, 'positive': False}. Best is trial 181 with value: 0.16667475030806445.\n",
      "[I 2025-06-07 07:33:43,147] Trial 371 finished with value: 0.1666747123594933 and parameters: {'alpha': 0.0036187066853829997, 'tol': 0.0045229792871593535, 'fit_intercept': False, 'positive': False}. Best is trial 181 with value: 0.16667475030806445.\n",
      "[I 2025-06-07 07:33:43,469] Trial 373 finished with value: 0.16667432591246523 and parameters: {'alpha': 13.592129454657485, 'tol': 0.005372356834132165, 'fit_intercept': False, 'positive': False}. Best is trial 181 with value: 0.16667475030806445.\n",
      "[I 2025-06-07 07:33:44,938] Trial 374 finished with value: 0.16667473156765997 and parameters: {'alpha': 0.9295082008628264, 'tol': 0.005888780712612751, 'fit_intercept': False, 'positive': False}. Best is trial 181 with value: 0.16667475030806445.\n",
      "[I 2025-06-07 07:33:46,241] Trial 377 finished with value: 0.1666747447488625 and parameters: {'alpha': 1.9267950538337189, 'tol': 0.003921666005557301, 'fit_intercept': False, 'positive': False}. Best is trial 181 with value: 0.16667475030806445.\n",
      "[I 2025-06-07 07:33:46,255] Trial 375 finished with value: 0.16359885671812532 and parameters: {'alpha': 13.077504353522013, 'tol': 0.00499203765824542, 'fit_intercept': True, 'positive': False}. Best is trial 181 with value: 0.16667475030806445.\n",
      "[I 2025-06-07 07:33:47,029] Trial 376 finished with value: 0.15442606122471206 and parameters: {'alpha': 7.407468448673093, 'tol': 3.2039942757294305e-05, 'fit_intercept': True, 'positive': True}. Best is trial 181 with value: 0.16667475030806445.\n",
      "[I 2025-06-07 07:33:47,501] Trial 378 finished with value: 0.16667402565750827 and parameters: {'alpha': 16.818533514061883, 'tol': 0.003107553378966799, 'fit_intercept': False, 'positive': False}. Best is trial 181 with value: 0.16667475030806445.\n",
      "[I 2025-06-07 07:33:48,989] Trial 380 finished with value: 0.16667426792336637 and parameters: {'alpha': 14.287222342817412, 'tol': 0.002821231542485052, 'fit_intercept': False, 'positive': False}. Best is trial 181 with value: 0.16667475030806445.\n",
      "[I 2025-06-07 07:33:49,007] Trial 379 finished with value: 0.16360526217116309 and parameters: {'alpha': 5.0660833847663245, 'tol': 0.0024203703957567284, 'fit_intercept': True, 'positive': False}. Best is trial 181 with value: 0.16667475030806445.\n",
      "[I 2025-06-07 07:33:49,803] Trial 381 finished with value: 0.16667413462225583 and parameters: {'alpha': 15.742211751109489, 'tol': 0.0027366680169126955, 'fit_intercept': False, 'positive': False}. Best is trial 181 with value: 0.16667475030806445.\n",
      "[I 2025-06-07 07:33:50,512] Trial 382 finished with value: 0.16665063872746808 and parameters: {'alpha': 83.89920050427887, 'tol': 0.005707869385979695, 'fit_intercept': False, 'positive': False}. Best is trial 181 with value: 0.16667475030806445.\n",
      "[I 2025-06-07 07:33:51,802] Trial 383 finished with value: 0.16667430436878083 and parameters: {'alpha': 13.855563958938031, 'tol': 0.003855658857577999, 'fit_intercept': False, 'positive': False}. Best is trial 181 with value: 0.16667475030806445.\n",
      "[I 2025-06-07 07:33:51,828] Trial 384 finished with value: 0.16667457857967874 and parameters: {'alpha': 9.77325856160109, 'tol': 0.003962965116727669, 'fit_intercept': False, 'positive': False}. Best is trial 181 with value: 0.16667475030806445.\n",
      "[I 2025-06-07 07:33:52,649] Trial 385 finished with value: 0.16667474749254343 and parameters: {'alpha': 2.270870815949001, 'tol': 0.00415862843177816, 'fit_intercept': False, 'positive': False}. Best is trial 181 with value: 0.16667475030806445.\n",
      "[I 2025-06-07 07:33:53,260] Trial 386 finished with value: 0.16667425750037512 and parameters: {'alpha': 14.407669565652995, 'tol': 0.004563132412764052, 'fit_intercept': False, 'positive': False}. Best is trial 181 with value: 0.16667475030806445.\n",
      "[I 2025-06-07 07:33:54,578] Trial 387 finished with value: 0.16667471813520066 and parameters: {'alpha': 0.25036761426181586, 'tol': 0.0038704761166351324, 'fit_intercept': False, 'positive': False}. Best is trial 181 with value: 0.16667475030806445.\n",
      "[I 2025-06-07 07:33:54,582] Trial 388 finished with value: 0.1666747278090013 and parameters: {'alpha': 0.7199842825805174, 'tol': 0.0018078284603165904, 'fit_intercept': False, 'positive': False}. Best is trial 181 with value: 0.16667475030806445.\n",
      "[I 2025-06-07 07:33:56,294] Trial 390 finished with value: 0.16667472049978307 and parameters: {'alpha': 0.3577568332530019, 'tol': 0.0017819366283188046, 'fit_intercept': False, 'positive': False}. Best is trial 181 with value: 0.16667475030806445.\n",
      "[I 2025-06-07 07:33:56,457] Trial 389 finished with value: 0.1544879190068936 and parameters: {'alpha': 39.87012979711656, 'tol': 0.001090285306505674, 'fit_intercept': True, 'positive': True}. Best is trial 181 with value: 0.16667475030806445.\n",
      "[I 2025-06-07 07:33:57,307] Trial 391 finished with value: 0.1666747322266724 and parameters: {'alpha': 0.9683499053817699, 'tol': 0.006325613174745693, 'fit_intercept': False, 'positive': False}. Best is trial 181 with value: 0.16667475030806445.\n",
      "[I 2025-06-07 07:33:57,462] Trial 392 finished with value: 0.16667438785184968 and parameters: {'alpha': 12.795297994577883, 'tol': 0.0015699024240964953, 'fit_intercept': False, 'positive': False}. Best is trial 181 with value: 0.16667475030806445.\n",
      "[I 2025-06-07 07:33:58,863] Trial 393 finished with value: 0.1666747254603356 and parameters: {'alpha': 0.5978977691236484, 'tol': 0.0050508778904380025, 'fit_intercept': False, 'positive': False}. Best is trial 181 with value: 0.16667475030806445.\n",
      "[I 2025-06-07 07:33:59,282] Trial 394 finished with value: 0.16667474624140538 and parameters: {'alpha': 4.14264107521714, 'tol': 0.0065252207673325464, 'fit_intercept': False, 'positive': False}. Best is trial 181 with value: 0.16667475030806445.\n",
      "[I 2025-06-07 07:34:00,294] Trial 395 finished with value: 0.16667473084315954 and parameters: {'alpha': 0.8875878616112565, 'tol': 0.003148437124442555, 'fit_intercept': False, 'positive': False}. Best is trial 181 with value: 0.16667475030806445.\n",
      "[I 2025-06-07 07:34:00,316] Trial 396 finished with value: 0.1666735946180947 and parameters: {'alpha': 20.440066148706325, 'tol': 0.005783799949222145, 'fit_intercept': False, 'positive': False}. Best is trial 181 with value: 0.16667475030806445.\n",
      "[I 2025-06-07 07:34:01,704] Trial 397 finished with value: 0.16667432923754585 and parameters: {'alpha': 13.550884259619778, 'tol': 0.003768395101119546, 'fit_intercept': False, 'positive': False}. Best is trial 181 with value: 0.16667475030806445.\n",
      "[I 2025-06-07 07:34:02,140] Trial 398 finished with value: 0.16355537484399624 and parameters: {'alpha': 54.95298503065942, 'tol': 0.004615173054373979, 'fit_intercept': True, 'positive': False}. Best is trial 181 with value: 0.16667475030806445.\n",
      "[I 2025-06-07 07:34:03,115] Trial 399 finished with value: 0.16667419684600865 and parameters: {'alpha': 15.084814822365143, 'tol': 0.004134138107344344, 'fit_intercept': False, 'positive': False}. Best is trial 181 with value: 0.16667475030806445.\n",
      "[I 2025-06-07 07:34:03,118] Trial 400 finished with value: 0.16667408859228566 and parameters: {'alpha': 16.20754314555927, 'tol': 0.001757619840776999, 'fit_intercept': False, 'positive': False}. Best is trial 181 with value: 0.16667475030806445.\n",
      "[I 2025-06-07 07:34:04,535] Trial 401 finished with value: 0.16667411915572836 and parameters: {'alpha': 15.900433624724467, 'tol': 0.0018438763345538396, 'fit_intercept': False, 'positive': False}. Best is trial 181 with value: 0.16667475030806445.\n",
      "[I 2025-06-07 07:34:04,999] Trial 402 finished with value: 0.163525591110883 and parameters: {'alpha': 77.37257236597799, 'tol': 0.0023586002150817967, 'fit_intercept': True, 'positive': False}. Best is trial 181 with value: 0.16667475030806445.\n",
      "[I 2025-06-07 07:34:05,985] Trial 404 finished with value: 0.16667439713970175 and parameters: {'alpha': 12.670140454596488, 'tol': 0.009370649296186955, 'fit_intercept': False, 'positive': False}. Best is trial 181 with value: 0.16667475030806445.\n",
      "[I 2025-06-07 07:34:06,005] Trial 403 finished with value: 0.1666747219974406 and parameters: {'alpha': 0.4279948440621193, 'tol': 0.0021663235836116715, 'fit_intercept': False, 'positive': False}. Best is trial 181 with value: 0.16667475030806445.\n",
      "[I 2025-06-07 07:34:07,412] Trial 405 finished with value: 0.1666747480692359 and parameters: {'alpha': 2.3628271683858157, 'tol': 0.004587157814667155, 'fit_intercept': False, 'positive': False}. Best is trial 181 with value: 0.16667475030806445.\n",
      "[I 2025-06-07 07:34:08,217] Trial 406 finished with value: 0.16667471773430728 and parameters: {'alpha': 0.23255771703728412, 'tol': 0.0031646847000869104, 'fit_intercept': False, 'positive': False}. Best is trial 181 with value: 0.16667475030806445.\n",
      "[I 2025-06-07 07:34:08,811] Trial 408 finished with value: 0.16667474233519278 and parameters: {'alpha': 1.6910665249187218, 'tol': 0.004514510648709333, 'fit_intercept': False, 'positive': False}. Best is trial 181 with value: 0.16667475030806445.\n",
      "[I 2025-06-07 07:34:08,814] Trial 407 finished with value: 0.16667474403498458 and parameters: {'alpha': 4.389996476151306, 'tol': 0.0036866378516517634, 'fit_intercept': False, 'positive': False}. Best is trial 181 with value: 0.16667475030806445.\n",
      "[I 2025-06-07 07:34:10,322] Trial 409 finished with value: 0.16667382511546244 and parameters: {'alpha': 18.60752687551444, 'tol': 5.820432466622465e-05, 'fit_intercept': False, 'positive': False}. Best is trial 181 with value: 0.16667475030806445.\n",
      "[I 2025-06-07 07:34:10,725] Trial 410 finished with value: 0.1666740239199921 and parameters: {'alpha': 16.835020869444207, 'tol': 6.732151518962435e-05, 'fit_intercept': False, 'positive': False}. Best is trial 181 with value: 0.16667475030806445.\n",
      "[I 2025-06-07 07:34:11,699] Trial 411 finished with value: 0.1666744956260194 and parameters: {'alpha': 11.226149514947668, 'tol': 0.0015258326165686815, 'fit_intercept': False, 'positive': False}. Best is trial 181 with value: 0.16667475030806445.\n",
      "[I 2025-06-07 07:34:11,718] Trial 412 finished with value: 0.16667306702178683 and parameters: {'alpha': 24.047917451695103, 'tol': 0.00010748067157095205, 'fit_intercept': False, 'positive': False}. Best is trial 181 with value: 0.16667475030806445.\n",
      "[I 2025-06-07 07:34:13,398] Trial 413 finished with value: 0.16360822184538992 and parameters: {'alpha': 1.0635414701806047, 'tol': 0.0039813976701385196, 'fit_intercept': True, 'positive': False}. Best is trial 181 with value: 0.16667475030806445.\n",
      "[I 2025-06-07 07:34:13,788] Trial 414 finished with value: 0.16667471962813196 and parameters: {'alpha': 0.3176899869251737, 'tol': 0.005483056842998604, 'fit_intercept': False, 'positive': False}. Best is trial 181 with value: 0.16667475030806445.\n",
      "[I 2025-06-07 07:34:14,209] Trial 415 finished with value: 0.16667472465956662 and parameters: {'alpha': 0.5576050688550329, 'tol': 0.001294485052997985, 'fit_intercept': False, 'positive': False}. Best is trial 181 with value: 0.16667475030806445.\n",
      "[I 2025-06-07 07:34:14,358] Trial 416 finished with value: 0.16667087788456103 and parameters: {'alpha': 34.97725372517284, 'tol': 0.00404085165096047, 'fit_intercept': False, 'positive': False}. Best is trial 181 with value: 0.16667475030806445.\n",
      "[I 2025-06-07 07:34:16,215] Trial 417 finished with value: 0.1666742101394324 and parameters: {'alpha': 14.939688717962472, 'tol': 0.005917496814266622, 'fit_intercept': False, 'positive': False}. Best is trial 181 with value: 0.16667475030806445.\n",
      "[I 2025-06-07 07:34:16,643] Trial 418 finished with value: 0.1666747235908697 and parameters: {'alpha': 0.5048000105285673, 'tol': 0.003656707317471283, 'fit_intercept': False, 'positive': False}. Best is trial 181 with value: 0.16667475030806445.\n",
      "[I 2025-06-07 07:34:17,086] Trial 419 finished with value: 0.1666747187649184 and parameters: {'alpha': 0.27856914448889114, 'tol': 0.003579452464547825, 'fit_intercept': False, 'positive': False}. Best is trial 181 with value: 0.16667475030806445.\n",
      "[I 2025-06-07 07:34:17,106] Trial 420 finished with value: 0.16667447182717013 and parameters: {'alpha': 11.597450553353783, 'tol': 0.004052579987133547, 'fit_intercept': False, 'positive': False}. Best is trial 181 with value: 0.16667475030806445.\n",
      "[I 2025-06-07 07:34:19,232] Trial 421 finished with value: 0.16667386749300014 and parameters: {'alpha': 18.24687335824553, 'tol': 0.003979420606065213, 'fit_intercept': False, 'positive': False}. Best is trial 181 with value: 0.16667475030806445.\n",
      "[I 2025-06-07 07:34:19,562] Trial 422 finished with value: 0.16667412151795355 and parameters: {'alpha': 15.876393541644035, 'tol': 0.0035090812358633565, 'fit_intercept': False, 'positive': False}. Best is trial 181 with value: 0.16667475030806445.\n",
      "[I 2025-06-07 07:34:19,996] Trial 424 finished with value: 0.1666738607759317 and parameters: {'alpha': 18.304601434568447, 'tol': 0.004751996214008812, 'fit_intercept': False, 'positive': False}. Best is trial 181 with value: 0.16667475030806445.\n",
      "[I 2025-06-07 07:34:20,456] Trial 423 finished with value: 0.15788802744457972 and parameters: {'alpha': 87.39575274574017, 'tol': 0.0030837881298988257, 'fit_intercept': False, 'positive': True}. Best is trial 181 with value: 0.16667475030806445.\n",
      "[I 2025-06-07 07:34:22,150] Trial 425 finished with value: 0.1666740426653403 and parameters: {'alpha': 16.656099757060957, 'tol': 0.004848811025307659, 'fit_intercept': False, 'positive': False}. Best is trial 181 with value: 0.16667475030806445.\n",
      "[I 2025-06-07 07:34:22,628] Trial 426 finished with value: 0.16667474644656122 and parameters: {'alpha': 4.116528219519295, 'tol': 0.0020018783028276504, 'fit_intercept': False, 'positive': False}. Best is trial 181 with value: 0.16667475030806445.\n",
      "[I 2025-06-07 07:34:22,918] Trial 427 finished with value: 0.16667455262584152 and parameters: {'alpha': 10.259444118372652, 'tol': 0.0017685813743460246, 'fit_intercept': False, 'positive': False}. Best is trial 181 with value: 0.16667475030806445.\n",
      "[I 2025-06-07 07:34:23,437] Trial 428 finished with value: 0.16354468550425383 and parameters: {'alpha': 63.38350126954346, 'tol': 0.009325584627449694, 'fit_intercept': True, 'positive': False}. Best is trial 181 with value: 0.16667475030806445.\n",
      "[I 2025-06-07 07:34:24,920] Trial 429 finished with value: 0.16667454839412674 and parameters: {'alpha': 10.335631002794164, 'tol': 0.0020189890900080346, 'fit_intercept': False, 'positive': False}. Best is trial 181 with value: 0.16667475030806445.\n",
      "[I 2025-06-07 07:34:25,774] Trial 431 finished with value: 0.16667471711167403 and parameters: {'alpha': 0.20511321756428913, 'tol': 0.004793641630329087, 'fit_intercept': False, 'positive': False}. Best is trial 181 with value: 0.16667475030806445.\n",
      "[I 2025-06-07 07:34:26,203] Trial 430 finished with value: 0.15403023307645425 and parameters: {'alpha': 1.0987320803575047, 'tol': 0.004238112222330024, 'fit_intercept': False, 'positive': True}. Best is trial 181 with value: 0.16667475030806445.\n",
      "[I 2025-06-07 07:34:26,368] Trial 432 finished with value: 0.16667474049496078 and parameters: {'alpha': 1.5347384613923594, 'tol': 0.006738111428714334, 'fit_intercept': False, 'positive': False}. Best is trial 181 with value: 0.16667475030806445.\n",
      "[I 2025-06-07 07:34:27,661] Trial 433 finished with value: 0.1666747403922105 and parameters: {'alpha': 1.5264622641409187, 'tol': 0.003905872869141076, 'fit_intercept': False, 'positive': False}. Best is trial 181 with value: 0.16667475030806445.\n",
      "[I 2025-06-07 07:34:28,589] Trial 434 finished with value: 0.16667474030075896 and parameters: {'alpha': 1.5191321718192288, 'tol': 0.004873793691443702, 'fit_intercept': False, 'positive': False}. Best is trial 181 with value: 0.16667475030806445.\n",
      "[I 2025-06-07 07:34:29,057] Trial 436 finished with value: 0.1666747160262925 and parameters: {'alpha': 0.15788117585823125, 'tol': 0.0026454252107811858, 'fit_intercept': False, 'positive': False}. Best is trial 181 with value: 0.16667475030806445.\n",
      "[I 2025-06-07 07:34:29,473] Trial 435 finished with value: 0.1362698477252955 and parameters: {'alpha': 2.456185441204262, 'tol': 0.006531704115800344, 'fit_intercept': True, 'positive': True}. Best is trial 181 with value: 0.16667475030806445.\n",
      "[I 2025-06-07 07:34:30,447] Trial 437 finished with value: 0.1666747183066453 and parameters: {'alpha': 0.2580180564911263, 'tol': 0.0002387256643491566, 'fit_intercept': False, 'positive': False}. Best is trial 181 with value: 0.16667475030806445.\n",
      "[I 2025-06-07 07:34:31,338] Trial 438 finished with value: 0.16667475030821904 and parameters: {'alpha': 3.135828840344373, 'tol': 0.0017679333178106612, 'fit_intercept': False, 'positive': False}. Best is trial 438 with value: 0.16667475030821904.\n",
      "[I 2025-06-07 07:34:31,776] Trial 439 finished with value: 0.1666747354707933 and parameters: {'alpha': 1.1708281987143465, 'tol': 0.000909025907875595, 'fit_intercept': False, 'positive': False}. Best is trial 438 with value: 0.16667475030821904.\n",
      "[I 2025-06-07 07:34:32,811] Trial 440 finished with value: 0.15418189939049667 and parameters: {'alpha': 38.55605514016959, 'tol': 0.004765942770186929, 'fit_intercept': False, 'positive': True}. Best is trial 438 with value: 0.16667475030821904.\n",
      "[I 2025-06-07 07:34:33,249] Trial 441 finished with value: 0.16667474106052452 and parameters: {'alpha': 1.5810902150313755, 'tol': 0.0016836552157284963, 'fit_intercept': False, 'positive': False}. Best is trial 438 with value: 0.16667475030821904.\n",
      "[I 2025-06-07 07:34:34,254] Trial 442 finished with value: 0.16667437108377411 and parameters: {'alpha': 13.017285273789003, 'tol': 0.0014240228022290012, 'fit_intercept': False, 'positive': False}. Best is trial 438 with value: 0.16667475030821904.\n",
      "[I 2025-06-07 07:34:34,668] Trial 443 finished with value: 0.16667472244050408 and parameters: {'alpha': 0.4491288052535065, 'tol': 0.0017986281405630966, 'fit_intercept': False, 'positive': False}. Best is trial 438 with value: 0.16667475030821904.\n",
      "[I 2025-06-07 07:34:36,090] Trial 444 finished with value: 0.16349738802042166 and parameters: {'alpha': 96.14934659354088, 'tol': 0.008527039411686936, 'fit_intercept': True, 'positive': False}. Best is trial 438 with value: 0.16667475030821904.\n",
      "[I 2025-06-07 07:34:36,115] Trial 445 finished with value: 0.16667428495019376 and parameters: {'alpha': 14.087648762309177, 'tol': 0.0018330352111453666, 'fit_intercept': False, 'positive': False}. Best is trial 438 with value: 0.16667475030821904.\n",
      "[I 2025-06-07 07:34:37,241] Trial 446 finished with value: 0.16667421194098894 and parameters: {'alpha': 14.919885173404005, 'tol': 0.0020515834705082756, 'fit_intercept': False, 'positive': False}. Best is trial 438 with value: 0.16667475030821904.\n",
      "[I 2025-06-07 07:34:37,545] Trial 447 finished with value: 0.16667097753086677 and parameters: {'alpha': 34.56037053990462, 'tol': 0.00263159648383357, 'fit_intercept': False, 'positive': False}. Best is trial 438 with value: 0.16667475030821904.\n",
      "[I 2025-06-07 07:34:38,858] Trial 448 finished with value: 0.1666740051059644 and parameters: {'alpha': 17.012311919913785, 'tol': 0.002669389155760508, 'fit_intercept': False, 'positive': False}. Best is trial 438 with value: 0.16667475030821904.\n",
      "[I 2025-06-07 07:34:39,014] Trial 449 finished with value: 0.16667421808508778 and parameters: {'alpha': 14.852097956405576, 'tol': 0.00543404303590991, 'fit_intercept': False, 'positive': False}. Best is trial 438 with value: 0.16667475030821904.\n",
      "[I 2025-06-07 07:34:40,335] Trial 450 finished with value: 0.1666742627238485 and parameters: {'alpha': 14.347467254172724, 'tol': 0.006099006776239748, 'fit_intercept': False, 'positive': False}. Best is trial 438 with value: 0.16667475030821904.\n",
      "[I 2025-06-07 07:34:40,374] Trial 451 finished with value: 0.16667408844478232 and parameters: {'alpha': 16.20900805037857, 'tol': 0.005333204383087058, 'fit_intercept': False, 'positive': False}. Best is trial 438 with value: 0.16667475030821904.\n",
      "[I 2025-06-07 07:34:41,788] Trial 453 finished with value: 0.16667443826587008 and parameters: {'alpha': 12.095203614320896, 'tol': 4.561823267762921e-06, 'fit_intercept': False, 'positive': False}. Best is trial 438 with value: 0.16667475030821904.\n",
      "[I 2025-06-07 07:34:41,811] Trial 452 finished with value: 0.1666735806538534 and parameters: {'alpha': 20.544995690408765, 'tol': 0.00613320197724492, 'fit_intercept': False, 'positive': False}. Best is trial 438 with value: 0.16667475030821904.\n",
      "[I 2025-06-07 07:34:43,251] Trial 454 finished with value: 0.16667472425875074 and parameters: {'alpha': 0.5376736354742571, 'tol': 0.0038726599324943123, 'fit_intercept': False, 'positive': False}. Best is trial 438 with value: 0.16667475030821904.\n",
      "[I 2025-06-07 07:34:43,272] Trial 455 finished with value: 0.1666747159895599 and parameters: {'alpha': 0.15629590356720602, 'tol': 0.004033977863982486, 'fit_intercept': False, 'positive': False}. Best is trial 438 with value: 0.16667475030821904.\n",
      "[I 2025-06-07 07:34:44,673] Trial 457 finished with value: 0.16667474890397374 and parameters: {'alpha': 3.7212530977749316, 'tol': 0.007800484533577876, 'fit_intercept': False, 'positive': False}. Best is trial 438 with value: 0.16667475030821904.\n",
      "[I 2025-06-07 07:34:44,698] Trial 456 finished with value: 0.1666747163374597 and parameters: {'alpha': 0.17134452390460098, 'tol': 0.0022189417022167963, 'fit_intercept': False, 'positive': False}. Best is trial 438 with value: 0.16667475030821904.\n",
      "[I 2025-06-07 07:34:46,078] Trial 458 finished with value: 0.1666747492896814 and parameters: {'alpha': 2.609375348577794, 'tol': 0.001284245108960583, 'fit_intercept': False, 'positive': False}. Best is trial 438 with value: 0.16667475030821904.\n",
      "[I 2025-06-07 07:34:46,082] Trial 459 finished with value: 0.16667471635026335 and parameters: {'alpha': 0.17189982220892874, 'tol': 0.00870876400112481, 'fit_intercept': False, 'positive': False}. Best is trial 438 with value: 0.16667475030821904.\n",
      "[I 2025-06-07 07:34:47,636] Trial 460 finished with value: 0.16667473114980108 and parameters: {'alpha': 0.9052334259413408, 'tol': 0.0015656030771818096, 'fit_intercept': False, 'positive': False}. Best is trial 438 with value: 0.16667475030821904.\n",
      "[I 2025-06-07 07:34:48,533] Trial 461 finished with value: 0.1579821168785316 and parameters: {'alpha': 4.32356965607598, 'tol': 0.0014962087723683997, 'fit_intercept': False, 'positive': True}. Best is trial 438 with value: 0.16667475030821904.\n",
      "[I 2025-06-07 07:34:48,988] Trial 462 finished with value: 0.16667412245099147 and parameters: {'alpha': 15.866885794153944, 'tol': 0.0009283976282983273, 'fit_intercept': False, 'positive': False}. Best is trial 438 with value: 0.16667475030821904.\n",
      "[I 2025-06-07 07:34:49,153] Trial 463 finished with value: 0.16667474676962746 and parameters: {'alpha': 2.168064011178222, 'tol': 0.0015441145879203553, 'fit_intercept': False, 'positive': False}. Best is trial 438 with value: 0.16667475030821904.\n",
      "[I 2025-06-07 07:34:50,443] Trial 464 finished with value: 0.16667471757801253 and parameters: {'alpha': 0.22564401072556972, 'tol': 0.001077432886080379, 'fit_intercept': False, 'positive': False}. Best is trial 438 with value: 0.16667475030821904.\n",
      "[I 2025-06-07 07:34:51,321] Trial 465 finished with value: 0.16667449704146528 and parameters: {'alpha': 11.203533372028442, 'tol': 0.0010525456843854533, 'fit_intercept': False, 'positive': False}. Best is trial 438 with value: 0.16667475030821904.\n",
      "[I 2025-06-07 07:34:52,031] Trial 466 finished with value: 0.16667474935914725 and parameters: {'alpha': 3.614477351688678, 'tol': 0.001161524677919669, 'fit_intercept': False, 'positive': False}. Best is trial 438 with value: 0.16667475030821904.\n",
      "[I 2025-06-07 07:34:52,072] Trial 467 finished with value: 0.16664454909895 and parameters: {'alpha': 93.81809458516832, 'tol': 0.003430229127838413, 'fit_intercept': False, 'positive': False}. Best is trial 438 with value: 0.16667475030821904.\n",
      "[I 2025-06-07 07:34:53,459] Trial 468 finished with value: 0.16667435563203317 and parameters: {'alpha': 13.217567921855391, 'tol': 0.0011874074955175095, 'fit_intercept': False, 'positive': False}. Best is trial 438 with value: 0.16667475030821904.\n",
      "[I 2025-06-07 07:34:54,241] Trial 469 finished with value: 0.16667461424946758 and parameters: {'alpha': 9.040741393994793, 'tol': 0.0011957890393897433, 'fit_intercept': False, 'positive': False}. Best is trial 438 with value: 0.16667475030821904.\n",
      "[I 2025-06-07 07:34:54,840] Trial 470 finished with value: 0.16358812640183737 and parameters: {'alpha': 25.03362990547624, 'tol': 0.009065797840065785, 'fit_intercept': True, 'positive': False}. Best is trial 438 with value: 0.16667475030821904.\n",
      "[I 2025-06-07 07:34:55,001] Trial 471 finished with value: 0.16360843332478522 and parameters: {'alpha': 0.7688941810923131, 'tol': 0.0021011794562941703, 'fit_intercept': True, 'positive': False}. Best is trial 438 with value: 0.16667475030821904.\n",
      "[I 2025-06-07 07:34:56,230] Trial 472 finished with value: 0.16360539170377028 and parameters: {'alpha': 4.895363446315624, 'tol': 0.0006396597172026351, 'fit_intercept': True, 'positive': False}. Best is trial 438 with value: 0.16667475030821904.\n",
      "[I 2025-06-07 07:34:57,244] Trial 473 finished with value: 0.1666743010861172 and parameters: {'alpha': 13.895144617931535, 'tol': 0.0005597254584250662, 'fit_intercept': False, 'positive': False}. Best is trial 438 with value: 0.16667475030821904.\n",
      "[I 2025-06-07 07:34:57,566] Trial 474 finished with value: 0.16667474801940735 and parameters: {'alpha': 2.3544457210334753, 'tol': 0.0005959769776059996, 'fit_intercept': False, 'positive': False}. Best is trial 438 with value: 0.16667475030821904.\n",
      "[I 2025-06-07 07:34:58,601] Trial 475 finished with value: 0.13998473107661788 and parameters: {'alpha': 83.47731613161585, 'tol': 0.004651057875831583, 'fit_intercept': True, 'positive': True}. Best is trial 438 with value: 0.16667475030821904.\n",
      "[I 2025-06-07 07:34:59,520] Trial 476 finished with value: 0.1666747368835181 and parameters: {'alpha': 4.97781081096484, 'tol': 0.000685518708194585, 'fit_intercept': False, 'positive': False}. Best is trial 438 with value: 0.16667475030821904.\n",
      "[I 2025-06-07 07:35:00,145] Trial 477 finished with value: 0.166674722438815 and parameters: {'alpha': 0.4490479140520778, 'tol': 0.0002512102915667567, 'fit_intercept': False, 'positive': False}. Best is trial 438 with value: 0.16667475030821904.\n",
      "[I 2025-06-07 07:35:00,629] Trial 478 finished with value: 0.16667474119531903 and parameters: {'alpha': 1.5923452868999082, 'tol': 0.00150039662524562, 'fit_intercept': False, 'positive': False}. Best is trial 438 with value: 0.16667475030821904.\n",
      "[I 2025-06-07 07:35:01,536] Trial 479 finished with value: 0.1666746757545646 and parameters: {'alpha': 7.500696068926896, 'tol': 0.00014416956142730957, 'fit_intercept': False, 'positive': False}. Best is trial 438 with value: 0.16667475030821904.\n",
      "[I 2025-06-07 07:35:02,557] Trial 480 finished with value: 0.16667473652093798 and parameters: {'alpha': 1.241048884629379, 'tol': 0.0019235981336035374, 'fit_intercept': False, 'positive': False}. Best is trial 438 with value: 0.16667475030821904.\n",
      "[I 2025-06-07 07:35:02,987] Trial 481 finished with value: 0.16667453645760935 and parameters: {'alpha': 10.546352482750983, 'tol': 0.0021795428441918727, 'fit_intercept': False, 'positive': False}. Best is trial 438 with value: 0.16667475030821904.\n",
      "[I 2025-06-07 07:35:03,393] Trial 482 finished with value: 0.16667399928679463 and parameters: {'alpha': 17.066697876287613, 'tol': 0.002300026709425753, 'fit_intercept': False, 'positive': False}. Best is trial 438 with value: 0.16667475030821904.\n",
      "[I 2025-06-07 07:35:04,226] Trial 483 finished with value: 0.16667431596465535 and parameters: {'alpha': 13.714575943268535, 'tol': 0.0017400367598088772, 'fit_intercept': False, 'positive': False}. Best is trial 438 with value: 0.16667475030821904.\n",
      "[I 2025-06-07 07:35:05,668] Trial 484 finished with value: 0.14197892241923946 and parameters: {'alpha': 14.146960507138166, 'tol': 0.0074791286042979015, 'fit_intercept': False, 'positive': True}. Best is trial 438 with value: 0.16667475030821904.\n",
      "[I 2025-06-07 07:35:06,394] Trial 486 finished with value: 0.16667474062010879 and parameters: {'alpha': 1.5448775338732772, 'tol': 0.0014522221918915655, 'fit_intercept': False, 'positive': False}. Best is trial 438 with value: 0.16667475030821904.\n",
      "[I 2025-06-07 07:35:06,399] Trial 485 finished with value: 0.13626696551716505 and parameters: {'alpha': 27.557768246032886, 'tol': 0.009674149574194582, 'fit_intercept': True, 'positive': True}. Best is trial 438 with value: 0.16667475030821904.\n",
      "[I 2025-06-07 07:35:07,038] Trial 487 finished with value: 0.16667469522437842 and parameters: {'alpha': 6.884815476685664, 'tol': 0.0022206215388512296, 'fit_intercept': False, 'positive': False}. Best is trial 438 with value: 0.16667475030821904.\n",
      "[I 2025-06-07 07:35:08,659] Trial 488 finished with value: 0.16667471422783217 and parameters: {'alpha': 0.08123837985553983, 'tol': 0.0016476199987331653, 'fit_intercept': False, 'positive': False}. Best is trial 438 with value: 0.16667475030821904.\n",
      "[I 2025-06-07 07:35:09,408] Trial 489 finished with value: 0.16667443288896006 and parameters: {'alpha': 12.172427862176633, 'tol': 0.0023637363026256424, 'fit_intercept': False, 'positive': False}. Best is trial 438 with value: 0.16667475030821904.\n",
      "[I 2025-06-07 07:35:09,423] Trial 490 finished with value: 0.16667449155757577 and parameters: {'alpha': 11.290809775758321, 'tol': 0.002182099163196758, 'fit_intercept': False, 'positive': False}. Best is trial 438 with value: 0.16667475030821904.\n",
      "[I 2025-06-07 07:35:09,756] Trial 491 finished with value: 0.16667472923985005 and parameters: {'alpha': 0.7975122461261028, 'tol': 0.0018935781150623914, 'fit_intercept': False, 'positive': False}. Best is trial 438 with value: 0.16667475030821904.\n",
      "[I 2025-06-07 07:35:11,731] Trial 492 finished with value: 0.166673914723105 and parameters: {'alpha': 17.834670749228767, 'tol': 0.00246125254721682, 'fit_intercept': False, 'positive': False}. Best is trial 438 with value: 0.16667475030821904.\n",
      "[I 2025-06-07 07:35:12,199] Trial 493 finished with value: 0.16667473709070355 and parameters: {'alpha': 1.2802707659841588, 'tol': 5.6379720883603743e-05, 'fit_intercept': False, 'positive': False}. Best is trial 438 with value: 0.16667475030821904.\n",
      "[I 2025-06-07 07:35:12,357] Trial 494 finished with value: 0.1666737991426136 and parameters: {'alpha': 18.824537229896166, 'tol': 0.0002728169444156329, 'fit_intercept': False, 'positive': False}. Best is trial 438 with value: 0.16667475030821904.\n",
      "[I 2025-06-07 07:35:12,552] Trial 495 finished with value: 0.16667389500522514 and parameters: {'alpha': 18.00812645911925, 'tol': 0.0032167290485552065, 'fit_intercept': False, 'positive': False}. Best is trial 438 with value: 0.16667475030821904.\n",
      "[I 2025-06-07 07:35:14,611] Trial 496 finished with value: 0.16667472912102813 and parameters: {'alpha': 0.790975628155882, 'tol': 0.0029698406377814904, 'fit_intercept': False, 'positive': False}. Best is trial 438 with value: 0.16667475030821904.\n",
      "[I 2025-06-07 07:35:15,023] Trial 497 finished with value: 0.16666991366937692 and parameters: {'alpha': 38.767781823056104, 'tol': 0.0010547407971221267, 'fit_intercept': False, 'positive': False}. Best is trial 438 with value: 0.16667475030821904.\n",
      "[I 2025-06-07 07:35:15,043] Trial 498 finished with value: 0.16667471920179458 and parameters: {'alpha': 0.2983004118265855, 'tol': 0.0032330440600037385, 'fit_intercept': False, 'positive': False}. Best is trial 438 with value: 0.16667475030821904.\n",
      "[I 2025-06-07 07:35:15,182] Trial 499 finished with value: 0.16667472770581795 and parameters: {'alpha': 0.7144902657715919, 'tol': 0.0057287041761454865, 'fit_intercept': False, 'positive': False}. Best is trial 438 with value: 0.16667475030821904.\n"
     ]
    }
   ],
   "source": [
    "def objective(trial):    \n",
    "    params = {\n",
    "        \"random_state\": CFG.seed,\n",
    "        \"alpha\": trial.suggest_float(\"alpha\", 0, 100),\n",
    "        \"tol\": trial.suggest_float(\"tol\", 1e-6, 1e-2),\n",
    "        \"fit_intercept\": trial.suggest_categorical(\"fit_intercept\", [True, False]),\n",
    "        \"positive\": trial.suggest_categorical(\"positive\", [True, False])\n",
    "    }\n",
    "\n",
    "    trainer = Trainer(\n",
    "        Ridge(**params),\n",
    "        cv=KFold(n_splits=5, shuffle=False),\n",
    "        metric=pearsonr,\n",
    "        task=\"regression\",\n",
    "        verbose=False\n",
    "    )\n",
    "    trainer.fit(X, y)\n",
    "    \n",
    "    return pearsonr(trainer.oof_preds, y)\n",
    "\n",
    "if CFG.run_optuna:\n",
    "    sampler = optuna.samplers.TPESampler(seed=CFG.seed, multivariate=True, n_startup_trials=CFG.n_optuna_trials // 10)\n",
    "    study = optuna.create_study(direction=\"maximize\", sampler=sampler)\n",
    "    study.optimize(objective, n_trials=CFG.n_optuna_trials, n_jobs=-1, catch=(ValueError,))\n",
    "    best_params = study.best_params\n",
    "\n",
    "    ridge_params = {\n",
    "        \"random_state\": CFG.seed,\n",
    "        \"alpha\": best_params[\"alpha\"],\n",
    "        \"tol\": best_params[\"tol\"],\n",
    "        \"fit_intercept\": best_params[\"fit_intercept\"],\n",
    "        \"positive\": best_params[\"positive\"]\n",
    "    }\n",
    "else:\n",
    "    ridge_params = {\n",
    "        \"random_state\": CFG.seed\n",
    "    }"
   ]
  },
  {
   "cell_type": "code",
   "execution_count": 18,
   "id": "cbaf2b6b",
   "metadata": {
    "execution": {
     "iopub.execute_input": "2025-06-07T07:35:15.229491Z",
     "iopub.status.busy": "2025-06-07T07:35:15.229296Z",
     "iopub.status.idle": "2025-06-07T07:35:16.058616Z",
     "shell.execute_reply": "2025-06-07T07:35:16.057976Z"
    },
    "papermill": {
     "duration": 0.851343,
     "end_time": "2025-06-07T07:35:16.059718",
     "exception": false,
     "start_time": "2025-06-07T07:35:15.208375",
     "status": "completed"
    },
    "tags": []
   },
   "outputs": [
    {
     "name": "stdout",
     "output_type": "stream",
     "text": [
      "Training Ridge\n",
      "\n",
      "--- Fold 0 - pearsonr: 0.212626 - Time: 0.03 s\n",
      "--- Fold 1 - pearsonr: 0.153464 - Time: 0.03 s\n",
      "--- Fold 2 - pearsonr: 0.138603 - Time: 0.03 s\n",
      "--- Fold 3 - pearsonr: 0.182487 - Time: 0.03 s\n",
      "--- Fold 4 - pearsonr: 0.155381 - Time: 0.03 s\n",
      "\n",
      "------ Overall pearsonr: 0.166675 - Mean pearsonr: 0.168512 ± 0.026210 - Time: 0.79 s\n"
     ]
    }
   ],
   "source": [
    "ridge_trainer = Trainer(\n",
    "    Ridge(**ridge_params),\n",
    "    cv=KFold(n_splits=5, shuffle=False),\n",
    "    metric=pearsonr,\n",
    "    task=\"regression\",\n",
    "    metric_precision=6\n",
    ")\n",
    "\n",
    "ridge_trainer.fit(X, y)\n",
    "\n",
    "fold_scores[\"Ridge (ensemble)\"] = ridge_trainer.fold_scores\n",
    "overall_scores[\"Ridge (ensemble)\"] = [pearsonr(ridge_trainer.oof_preds, y)]\n",
    "ridge_test_preds = ridge_trainer.predict(X_test)"
   ]
  },
  {
   "cell_type": "code",
   "execution_count": 19,
   "id": "1e27dd19",
   "metadata": {
    "execution": {
     "iopub.execute_input": "2025-06-07T07:35:16.104969Z",
     "iopub.status.busy": "2025-06-07T07:35:16.104718Z",
     "iopub.status.idle": "2025-06-07T07:35:16.327333Z",
     "shell.execute_reply": "2025-06-07T07:35:16.326686Z"
    },
    "papermill": {
     "duration": 0.245799,
     "end_time": "2025-06-07T07:35:16.328458",
     "exception": false,
     "start_time": "2025-06-07T07:35:16.082659",
     "status": "completed"
    },
    "tags": []
   },
   "outputs": [
    {
     "data": {
      "image/png": "[encoded data removed]",
      "text/plain": [
       "<Figure size 1000x200 with 1 Axes>"
      ]
     },
     "metadata": {},
     "output_type": "display_data"
    }
   ],
   "source": [
    "ridge_coeffs = np.zeros((1, X.shape[1]))\n",
    "for m in ridge_trainer.estimators:\n",
    "    ridge_coeffs += m.coef_\n",
    "ridge_coeffs = ridge_coeffs / len(ridge_trainer.estimators)\n",
    "\n",
    "plot_weights(ridge_coeffs, \"Ridge Coefficients\")"
   ]
  },
  {
   "cell_type": "markdown",
   "id": "6171b068",
   "metadata": {
    "papermill": {
     "duration": 0.02192,
     "end_time": "2025-06-07T07:35:16.372795",
     "exception": false,
     "start_time": "2025-06-07T07:35:16.350875",
     "status": "completed"
    },
    "tags": []
   },
   "source": [
    "# Submission"
   ]
  },
  {
   "cell_type": "code",
   "execution_count": 20,
   "id": "9ec2a9f0",
   "metadata": {
    "execution": {
     "iopub.execute_input": "2025-06-07T07:35:16.416197Z",
     "iopub.status.busy": "2025-06-07T07:35:16.415896Z",
     "iopub.status.idle": "2025-06-07T07:35:17.352455Z",
     "shell.execute_reply": "2025-06-07T07:35:17.351549Z"
    },
    "papermill": {
     "duration": 0.959971,
     "end_time": "2025-06-07T07:35:17.353883",
     "exception": false,
     "start_time": "2025-06-07T07:35:16.393912",
     "status": "completed"
    },
    "tags": []
   },
   "outputs": [
    {
     "data": {
      "text/html": [
       "<div>\n",
       "<style scoped>\n",
       "    .dataframe tbody tr th:only-of-type {\n",
       "        vertical-align: middle;\n",
       "    }\n",
       "\n",
       "    .dataframe tbody tr th {\n",
       "        vertical-align: top;\n",
       "    }\n",
       "\n",
       "    .dataframe thead th {\n",
       "        text-align: right;\n",
       "    }\n",
       "</style>\n",
       "<table border=\"1\" class=\"dataframe\">\n",
       "  <thead>\n",
       "    <tr style=\"text-align: right;\">\n",
       "      <th></th>\n",
       "      <th>ID</th>\n",
       "      <th>prediction</th>\n",
       "    </tr>\n",
       "  </thead>\n",
       "  <tbody>\n",
       "    <tr>\n",
       "      <th>0</th>\n",
       "      <td>1</td>\n",
       "      <td>0.149773</td>\n",
       "    </tr>\n",
       "    <tr>\n",
       "      <th>1</th>\n",
       "      <td>2</td>\n",
       "      <td>-0.060305</td>\n",
       "    </tr>\n",
       "    <tr>\n",
       "      <th>2</th>\n",
       "      <td>3</td>\n",
       "      <td>0.211277</td>\n",
       "    </tr>\n",
       "    <tr>\n",
       "      <th>3</th>\n",
       "      <td>4</td>\n",
       "      <td>0.017164</td>\n",
       "    </tr>\n",
       "    <tr>\n",
       "      <th>4</th>\n",
       "      <td>5</td>\n",
       "      <td>0.216881</td>\n",
       "    </tr>\n",
       "  </tbody>\n",
       "</table>\n",
       "</div>"
      ],
      "text/plain": [
       "   ID  prediction\n",
       "0   1    0.149773\n",
       "1   2   -0.060305\n",
       "2   3    0.211277\n",
       "3   4    0.017164\n",
       "4   5    0.216881"
      ]
     },
     "execution_count": 20,
     "metadata": {},
     "output_type": "execute_result"
    }
   ],
   "source": [
    "sub = pd.read_csv(CFG.sample_sub_path)\n",
    "sub[\"prediction\"] = ridge_test_preds\n",
    "sub.to_csv(f\"sub_ridge_{overall_scores['Ridge (ensemble)'][0]:.6f}.csv\", index=False)\n",
    "sub.head()"
   ]
  },
  {
   "cell_type": "markdown",
   "id": "d8c01949",
   "metadata": {
    "papermill": {
     "duration": 0.022185,
     "end_time": "2025-06-07T07:35:17.399743",
     "exception": false,
     "start_time": "2025-06-07T07:35:17.377558",
     "status": "completed"
    },
    "tags": []
   },
   "source": [
    "# Results"
   ]
  },
  {
   "cell_type": "code",
   "execution_count": 21,
   "id": "2d222107",
   "metadata": {
    "execution": {
     "iopub.execute_input": "2025-06-07T07:35:17.444911Z",
     "iopub.status.busy": "2025-06-07T07:35:17.444599Z",
     "iopub.status.idle": "2025-06-07T07:35:17.721692Z",
     "shell.execute_reply": "2025-06-07T07:35:17.721011Z"
    },
    "papermill": {
     "duration": 0.301024,
     "end_time": "2025-06-07T07:35:17.722734",
     "exception": false,
     "start_time": "2025-06-07T07:35:17.421710",
     "status": "completed"
    },
    "tags": []
   },
   "outputs": [
    {
     "data": {
      "image/png": "[encoded data removed]",
      "text/plain": [
       "<Figure size 1500x250 with 2 Axes>"
      ]
     },
     "metadata": {},
     "output_type": "display_data"
    }
   ],
   "source": [
    "fold_scores = pd.DataFrame(fold_scores)\n",
    "overall_scores = pd.DataFrame(overall_scores).transpose().sort_values(by=0, ascending=False)\n",
    "order = overall_scores.index.tolist()\n",
    "\n",
    "min_score = overall_scores.values.flatten().min()\n",
    "max_score = overall_scores.values.flatten().max()\n",
    "padding = (max_score - min_score) * 0.5\n",
    "lower_limit = min_score - padding\n",
    "upper_limit = max_score + padding\n",
    "\n",
    "fig, axs = plt.subplots(1, 2, figsize=(15, fold_scores.shape[1] * 0.5))\n",
    "\n",
    "boxplot = sns.boxplot(data=fold_scores, order=order, ax=axs[0], orient=\"h\", color=\"grey\")\n",
    "axs[0].set_title(f\"Fold Score\")\n",
    "axs[0].set_xlabel(\"\")\n",
    "axs[0].set_ylabel(\"\")\n",
    "\n",
    "barplot = sns.barplot(x=overall_scores.values.flatten(), y=overall_scores.index, ax=axs[1], color=\"grey\")\n",
    "axs[1].set_title(f\"Overall Score\")\n",
    "axs[1].set_xlabel(\"\")\n",
    "axs[1].set_xlim(left=lower_limit, right=upper_limit)\n",
    "axs[1].set_ylabel(\"\")\n",
    "\n",
    "for i, (score, model) in enumerate(zip(overall_scores.values.flatten(), overall_scores.index)):\n",
    "    color = \"cyan\" if \"ensemble\" in model.lower() else \"grey\"\n",
    "    barplot.patches[i].set_facecolor(color)\n",
    "    boxplot.patches[i].set_facecolor(color)\n",
    "    barplot.text(score, i, round(score, 6), va=\"center\")\n",
    "\n",
    "plt.tight_layout()\n",
    "plt.show()"
   ]
  }
 ],
 "metadata": {
  "kaggle": {
   "accelerator": "none",
   "dataSources": [
    {
     "databundleVersionId": 11418275,
     "sourceId": 96164,
     "sourceType": "competition"
    },
    {
     "sourceId": 243952999,
     "sourceType": "kernelVersion"
    }
   ],
   "dockerImageVersionId": 31040,
   "isGpuEnabled": false,
   "isInternetEnabled": true,
   "language": "python",
   "sourceType": "notebook"
  },
  "kernelspec": {
   "display_name": "Python 3",
   "language": "python",
   "name": "python3"
  },
  "language_info": {
   "codemirror_mode": {
    "name": "ipython",
    "version": 3
   },
   "file_extension": ".py",
   "mimetype": "text/x-python",
   "name": "python",
   "nbconvert_exporter": "python",
   "pygments_lexer": "ipython3",
   "version": "3.11.11"
  },
  "papermill": {
   "default_parameters": {},
   "duration": 620.203962,
   "end_time": "2025-06-07T07:35:20.083836",
   "environment_variables": {},
   "exception": null,
   "input_path": "__notebook__.ipynb",
   "output_path": "__notebook__.ipynb",
   "parameters": {},
   "start_time": "2025-06-07T07:24:59.879874",
   "version": "2.6.0"
  }
 },
 "nbformat": 4,
 "nbformat_minor": 5
}
