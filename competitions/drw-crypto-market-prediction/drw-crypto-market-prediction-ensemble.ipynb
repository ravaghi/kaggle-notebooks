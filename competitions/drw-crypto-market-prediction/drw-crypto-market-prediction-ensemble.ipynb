{
 "cells": [
  {
   "cell_type": "code",
   "execution_count": 1,
   "id": "8c00ebb5",
   "metadata": {
    "_kg_hide-output": true,
    "execution": {
     "iopub.execute_input": "2025-05-31T02:19:24.188694Z",
     "iopub.status.busy": "2025-05-31T02:19:24.187921Z",
     "iopub.status.idle": "2025-05-31T02:19:31.491980Z",
     "shell.execute_reply": "2025-05-31T02:19:31.491205Z"
    },
    "papermill": {
     "duration": 7.31073,
     "end_time": "2025-05-31T02:19:31.493417",
     "exception": false,
     "start_time": "2025-05-31T02:19:24.182687",
     "status": "completed"
    },
    "scrolled": true,
    "tags": []
   },
   "outputs": [
    {
     "name": "stdout",
     "output_type": "stream",
     "text": [
      "Collecting koolbox\r\n",
      "  Downloading koolbox-0.1.3-py3-none-any.whl.metadata (3.4 kB)\r\n",
      "Collecting scikit-learn==1.5.2\r\n",
      "  Downloading scikit_learn-1.5.2-cp311-cp311-manylinux_2_17_x86_64.manylinux2014_x86_64.whl.metadata (13 kB)\r\n",
      "Requirement already satisfied: numpy>=1.19.5 in /usr/local/lib/python3.11/dist-packages (from scikit-learn==1.5.2) (1.26.4)\r\n",
      "Requirement already satisfied: scipy>=1.6.0 in /usr/local/lib/python3.11/dist-packages (from scikit-learn==1.5.2) (1.15.2)\r\n",
      "Requirement already satisfied: joblib>=1.2.0 in /usr/local/lib/python3.11/dist-packages (from scikit-learn==1.5.2) (1.5.0)\r\n",
      "Requirement already satisfied: threadpoolctl>=3.1.0 in /usr/local/lib/python3.11/dist-packages (from scikit-learn==1.5.2) (3.6.0)\r\n",
      "Requirement already satisfied: optuna>=4.2.1 in /usr/local/lib/python3.11/dist-packages (from koolbox) (4.3.0)\r\n",
      "Requirement already satisfied: pandas>=2.2.3 in /usr/local/lib/python3.11/dist-packages (from koolbox) (2.2.3)\r\n",
      "Requirement already satisfied: mkl_fft in /usr/local/lib/python3.11/dist-packages (from numpy>=1.19.5->scikit-learn==1.5.2) (1.3.8)\r\n",
      "Requirement already satisfied: mkl_random in /usr/local/lib/python3.11/dist-packages (from numpy>=1.19.5->scikit-learn==1.5.2) (1.2.4)\r\n",
      "Requirement already satisfied: mkl_umath in /usr/local/lib/python3.11/dist-packages (from numpy>=1.19.5->scikit-learn==1.5.2) (0.1.1)\r\n",
      "Requirement already satisfied: mkl in /usr/local/lib/python3.11/dist-packages (from numpy>=1.19.5->scikit-learn==1.5.2) (2025.1.0)\r\n",
      "Requirement already satisfied: tbb4py in /usr/local/lib/python3.11/dist-packages (from numpy>=1.19.5->scikit-learn==1.5.2) (2022.1.0)\r\n",
      "Requirement already satisfied: mkl-service in /usr/local/lib/python3.11/dist-packages (from numpy>=1.19.5->scikit-learn==1.5.2) (2.4.1)\r\n",
      "Requirement already satisfied: alembic>=1.5.0 in /usr/local/lib/python3.11/dist-packages (from optuna>=4.2.1->koolbox) (1.15.2)\r\n",
      "Requirement already satisfied: colorlog in /usr/local/lib/python3.11/dist-packages (from optuna>=4.2.1->koolbox) (6.9.0)\r\n",
      "Requirement already satisfied: packaging>=20.0 in /usr/local/lib/python3.11/dist-packages (from optuna>=4.2.1->koolbox) (25.0)\r\n",
      "Requirement already satisfied: sqlalchemy>=1.4.2 in /usr/local/lib/python3.11/dist-packages (from optuna>=4.2.1->koolbox) (2.0.40)\r\n",
      "Requirement already satisfied: tqdm in /usr/local/lib/python3.11/dist-packages (from optuna>=4.2.1->koolbox) (4.67.1)\r\n",
      "Requirement already satisfied: PyYAML in /usr/local/lib/python3.11/dist-packages (from optuna>=4.2.1->koolbox) (6.0.2)\r\n",
      "Requirement already satisfied: python-dateutil>=2.8.2 in /usr/local/lib/python3.11/dist-packages (from pandas>=2.2.3->koolbox) (2.9.0.post0)\r\n",
      "Requirement already satisfied: pytz>=2020.1 in /usr/local/lib/python3.11/dist-packages (from pandas>=2.2.3->koolbox) (2025.2)\r\n",
      "Requirement already satisfied: tzdata>=2022.7 in /usr/local/lib/python3.11/dist-packages (from pandas>=2.2.3->koolbox) (2025.2)\r\n",
      "Requirement already satisfied: Mako in /usr/local/lib/python3.11/dist-packages (from alembic>=1.5.0->optuna>=4.2.1->koolbox) (1.3.10)\r\n",
      "Requirement already satisfied: typing-extensions>=4.12 in /usr/local/lib/python3.11/dist-packages (from alembic>=1.5.0->optuna>=4.2.1->koolbox) (4.13.2)\r\n",
      "Requirement already satisfied: six>=1.5 in /usr/local/lib/python3.11/dist-packages (from python-dateutil>=2.8.2->pandas>=2.2.3->koolbox) (1.17.0)\r\n",
      "Requirement already satisfied: greenlet>=1 in /usr/local/lib/python3.11/dist-packages (from sqlalchemy>=1.4.2->optuna>=4.2.1->koolbox) (3.1.1)\r\n",
      "Requirement already satisfied: intel-openmp<2026,>=2024 in /usr/local/lib/python3.11/dist-packages (from mkl->numpy>=1.19.5->scikit-learn==1.5.2) (2024.2.0)\r\n",
      "Requirement already satisfied: tbb==2022.* in /usr/local/lib/python3.11/dist-packages (from mkl->numpy>=1.19.5->scikit-learn==1.5.2) (2022.1.0)\r\n",
      "Requirement already satisfied: tcmlib==1.* in /usr/local/lib/python3.11/dist-packages (from tbb==2022.*->mkl->numpy>=1.19.5->scikit-learn==1.5.2) (1.3.0)\r\n",
      "Requirement already satisfied: intel-cmplr-lib-rt in /usr/local/lib/python3.11/dist-packages (from mkl_umath->numpy>=1.19.5->scikit-learn==1.5.2) (2024.2.0)\r\n",
      "Requirement already satisfied: intel-cmplr-lib-ur==2024.2.0 in /usr/local/lib/python3.11/dist-packages (from intel-openmp<2026,>=2024->mkl->numpy>=1.19.5->scikit-learn==1.5.2) (2024.2.0)\r\n",
      "Requirement already satisfied: MarkupSafe>=0.9.2 in /usr/local/lib/python3.11/dist-packages (from Mako->alembic>=1.5.0->optuna>=4.2.1->koolbox) (3.0.2)\r\n",
      "Downloading scikit_learn-1.5.2-cp311-cp311-manylinux_2_17_x86_64.manylinux2014_x86_64.whl (13.3 MB)\r\n",
      "\u001b[2K   \u001b[90m━━━━━━━━━━━━━━━━━━━━━━━━━━━━━━━━━━━━━━━━\u001b[0m \u001b[32m13.3/13.3 MB\u001b[0m \u001b[31m76.9 MB/s\u001b[0m eta \u001b[36m0:00:00\u001b[0m\r\n",
      "\u001b[?25hDownloading koolbox-0.1.3-py3-none-any.whl (18 kB)\r\n",
      "Installing collected packages: scikit-learn, koolbox\r\n",
      "  Attempting uninstall: scikit-learn\r\n",
      "    Found existing installation: scikit-learn 1.2.2\r\n",
      "    Uninstalling scikit-learn-1.2.2:\r\n",
      "      Successfully uninstalled scikit-learn-1.2.2\r\n",
      "\u001b[31mERROR: pip's dependency resolver does not currently take into account all the packages that are installed. This behaviour is the source of the following dependency conflicts.\r\n",
      "cesium 0.12.4 requires numpy<3.0,>=2.0, but you have numpy 1.26.4 which is incompatible.\u001b[0m\u001b[31m\r\n",
      "\u001b[0mSuccessfully installed koolbox-0.1.3 scikit-learn-1.5.2\r\n"
     ]
    }
   ],
   "source": [
    "!pip install koolbox scikit-learn==1.5.2"
   ]
  },
  {
   "cell_type": "markdown",
   "id": "9a80ee05",
   "metadata": {
    "papermill": {
     "duration": 0.003689,
     "end_time": "2025-05-31T02:19:31.501426",
     "exception": false,
     "start_time": "2025-05-31T02:19:31.497737",
     "status": "completed"
    },
    "tags": []
   },
   "source": [
    "# Imports and configs"
   ]
  },
  {
   "cell_type": "code",
   "execution_count": 2,
   "id": "a282163c",
   "metadata": {
    "_kg_hide-output": true,
    "execution": {
     "iopub.execute_input": "2025-05-31T02:19:31.509947Z",
     "iopub.status.busy": "2025-05-31T02:19:31.509638Z",
     "iopub.status.idle": "2025-05-31T02:19:38.291118Z",
     "shell.execute_reply": "2025-05-31T02:19:38.290490Z"
    },
    "papermill": {
     "duration": 6.787496,
     "end_time": "2025-05-31T02:19:38.292455",
     "exception": false,
     "start_time": "2025-05-31T02:19:31.504959",
     "status": "completed"
    },
    "tags": []
   },
   "outputs": [],
   "source": [
    "from sklearn.model_selection import KFold\n",
    "from sklearn.linear_model import Ridge\n",
    "from lightgbm import LGBMRegressor\n",
    "from scipy.stats import pearsonr as pr\n",
    "from xgboost import XGBRegressor\n",
    "from sklearn.base import clone\n",
    "from koolbox import Trainer\n",
    "import matplotlib.pyplot as plt\n",
    "import seaborn as sns\n",
    "import pandas as pd\n",
    "import numpy as np\n",
    "import warnings\n",
    "import optuna\n",
    "import joblib\n",
    "import gc\n",
    "\n",
    "warnings.filterwarnings(\"ignore\")"
   ]
  },
  {
   "cell_type": "code",
   "execution_count": 3,
   "id": "a6baf0e2",
   "metadata": {
    "execution": {
     "iopub.execute_input": "2025-05-31T02:19:38.301428Z",
     "iopub.status.busy": "2025-05-31T02:19:38.300960Z",
     "iopub.status.idle": "2025-05-31T02:19:38.305166Z",
     "shell.execute_reply": "2025-05-31T02:19:38.304559Z"
    },
    "papermill": {
     "duration": 0.010028,
     "end_time": "2025-05-31T02:19:38.306499",
     "exception": false,
     "start_time": "2025-05-31T02:19:38.296471",
     "status": "completed"
    },
    "tags": []
   },
   "outputs": [],
   "source": [
    "class CFG:\n",
    "    train_path = \"/kaggle/input/drw-crypto-market-prediction/train.parquet\"\n",
    "    test_path = \"/kaggle/input/drw-crypto-market-prediction/test.parquet\"\n",
    "    sample_sub_path = \"/kaggle/input/drw-crypto-market-prediction/sample_submission.csv\"\n",
    "\n",
    "    target = \"label\"\n",
    "    n_folds = 5\n",
    "    seed = 42\n",
    "\n",
    "    run_optuna = True\n",
    "    n_optuna_trials = 250"
   ]
  },
  {
   "cell_type": "markdown",
   "id": "a906da38",
   "metadata": {
    "papermill": {
     "duration": 0.00357,
     "end_time": "2025-05-31T02:19:38.314326",
     "exception": false,
     "start_time": "2025-05-31T02:19:38.310756",
     "status": "completed"
    },
    "tags": []
   },
   "source": [
    "# Data loading and preprocessing"
   ]
  },
  {
   "cell_type": "code",
   "execution_count": 4,
   "id": "8a2b067b",
   "metadata": {
    "_kg_hide-input": true,
    "execution": {
     "iopub.execute_input": "2025-05-31T02:19:38.322645Z",
     "iopub.status.busy": "2025-05-31T02:19:38.322413Z",
     "iopub.status.idle": "2025-05-31T02:19:38.329393Z",
     "shell.execute_reply": "2025-05-31T02:19:38.328767Z"
    },
    "papermill": {
     "duration": 0.012563,
     "end_time": "2025-05-31T02:19:38.330503",
     "exception": false,
     "start_time": "2025-05-31T02:19:38.317940",
     "status": "completed"
    },
    "tags": []
   },
   "outputs": [],
   "source": [
    "def reduce_mem_usage(dataframe, dataset):    \n",
    "    print('Reducing memory usage for:', dataset)\n",
    "    initial_mem_usage = dataframe.memory_usage().sum() / 1024**2\n",
    "    \n",
    "    for col in dataframe.columns:\n",
    "        col_type = dataframe[col].dtype\n",
    "\n",
    "        c_min = dataframe[col].min()\n",
    "        c_max = dataframe[col].max()\n",
    "        if str(col_type)[:3] == 'int':\n",
    "            if c_min > np.iinfo(np.int8).min and c_max < np.iinfo(np.int8).max:\n",
    "                dataframe[col] = dataframe[col].astype(np.int8)\n",
    "            elif c_min > np.iinfo(np.int16).min and c_max < np.iinfo(np.int16).max:\n",
    "                dataframe[col] = dataframe[col].astype(np.int16)\n",
    "            elif c_min > np.iinfo(np.int32).min and c_max < np.iinfo(np.int32).max:\n",
    "                dataframe[col] = dataframe[col].astype(np.int32)\n",
    "            elif c_min > np.iinfo(np.int64).min and c_max < np.iinfo(np.int64).max:\n",
    "                dataframe[col] = dataframe[col].astype(np.int64)\n",
    "        else:\n",
    "            if c_min > np.finfo(np.float16).min and c_max < np.finfo(np.float16).max:\n",
    "                dataframe[col] = dataframe[col].astype(np.float16)\n",
    "            elif c_min > np.finfo(np.float32).min and c_max < np.finfo(np.float32).max:\n",
    "                dataframe[col] = dataframe[col].astype(np.float32)\n",
    "            else:\n",
    "                dataframe[col] = dataframe[col].astype(np.float64)\n",
    "\n",
    "    final_mem_usage = dataframe.memory_usage().sum() / 1024**2\n",
    "    print('--- Memory usage before: {:.2f} MB'.format(initial_mem_usage))\n",
    "    print('--- Memory usage after: {:.2f} MB'.format(final_mem_usage))\n",
    "    print('--- Decreased memory usage by {:.1f}%\\n'.format(100 * (initial_mem_usage - final_mem_usage) / initial_mem_usage))\n",
    "\n",
    "    return dataframe"
   ]
  },
  {
   "cell_type": "code",
   "execution_count": 5,
   "id": "873c999f",
   "metadata": {
    "execution": {
     "iopub.execute_input": "2025-05-31T02:19:38.338904Z",
     "iopub.status.busy": "2025-05-31T02:19:38.338689Z",
     "iopub.status.idle": "2025-05-31T02:19:38.346927Z",
     "shell.execute_reply": "2025-05-31T02:19:38.346376Z"
    },
    "papermill": {
     "duration": 0.013579,
     "end_time": "2025-05-31T02:19:38.347940",
     "exception": false,
     "start_time": "2025-05-31T02:19:38.334361",
     "status": "completed"
    },
    "tags": []
   },
   "outputs": [],
   "source": [
    "def add_features(df):\n",
    "    data = df.copy()\n",
    "    features_df = pd.DataFrame(index=data.index)\n",
    "    \n",
    "    features_df['bid_ask_spread_proxy'] = data['ask_qty'] - data['bid_qty']\n",
    "    features_df['total_liquidity'] = data['bid_qty'] + data['ask_qty']\n",
    "    features_df['trade_imbalance'] = data['buy_qty'] - data['sell_qty']\n",
    "    features_df['total_trades'] = data['buy_qty'] + data['sell_qty']\n",
    "    \n",
    "    features_df['volume_per_trade'] = data['volume'] / (data['buy_qty'] + data['sell_qty'] + 1e-8)\n",
    "    features_df['buy_volume_ratio'] = data['buy_qty'] / (data['volume'] + 1e-8)\n",
    "    features_df['sell_volume_ratio'] = data['sell_qty'] / (data['volume'] + 1e-8)\n",
    "    \n",
    "    features_df['buying_pressure'] = data['buy_qty'] / (data['buy_qty'] + data['sell_qty'] + 1e-8)\n",
    "    features_df['selling_pressure'] = data['sell_qty'] / (data['buy_qty'] + data['sell_qty'] + 1e-8)\n",
    "    \n",
    "    features_df['order_imbalance'] = (data['bid_qty'] - data['ask_qty']) / (data['bid_qty'] + data['ask_qty'] + 1e-8)\n",
    "    features_df['order_imbalance_abs'] = np.abs(features_df['order_imbalance'])\n",
    "    features_df['bid_liquidity_ratio'] = data['bid_qty'] / (data['volume'] + 1e-8)\n",
    "    features_df['ask_liquidity_ratio'] = data['ask_qty'] / (data['volume'] + 1e-8)\n",
    "    features_df['depth_imbalance'] = features_df['total_trades'] - data['volume']\n",
    "    \n",
    "    features_df['buy_sell_ratio'] = data['buy_qty'] / (data['sell_qty'] + 1e-8)\n",
    "    features_df['bid_ask_ratio'] = data['bid_qty'] / (data['ask_qty'] + 1e-8)\n",
    "    features_df['volume_liquidity_ratio'] = data['volume'] / (data['bid_qty'] + data['ask_qty'] + 1e-8)\n",
    "\n",
    "    features_df['buy_volume_product'] = data['buy_qty'] * data['volume']\n",
    "    features_df['sell_volume_product'] = data['sell_qty'] * data['volume']\n",
    "    features_df['bid_ask_product'] = data['bid_qty'] * data['ask_qty']\n",
    "    \n",
    "    features_df['market_competition'] = (data['buy_qty'] * data['sell_qty']) / ((data['buy_qty'] + data['sell_qty']) + 1e-8)\n",
    "    features_df['liquidity_competition'] = (data['bid_qty'] * data['ask_qty']) / ((data['bid_qty'] + data['ask_qty']) + 1e-8)\n",
    "    \n",
    "    total_activity = data['buy_qty'] + data['sell_qty'] + data['bid_qty'] + data['ask_qty']\n",
    "    features_df['market_activity'] = total_activity\n",
    "    features_df['activity_concentration'] = data['volume'] / (total_activity + 1e-8)\n",
    "    \n",
    "    features_df['info_arrival_rate'] = (data['buy_qty'] + data['sell_qty']) / (data['volume'] + 1e-8)\n",
    "    features_df['market_making_intensity'] = (data['bid_qty'] + data['ask_qty']) / (data['buy_qty'] + data['sell_qty'] + 1e-8)\n",
    "    features_df['effective_spread_proxy'] = np.abs(data['buy_qty'] - data['sell_qty']) / (data['volume'] + 1e-8)\n",
    "    \n",
    "    lambda_decay = 0.95\n",
    "    ofi = data['buy_qty'] - data['sell_qty']\n",
    "    features_df['order_flow_imbalance_ewm'] = ofi.ewm(alpha=1-lambda_decay).mean()\n",
    "\n",
    "    features_df = features_df.replace([np.inf, -np.inf], np.nan)\n",
    "    \n",
    "    return features_df"
   ]
  },
  {
   "cell_type": "code",
   "execution_count": 6,
   "id": "84cdff91",
   "metadata": {
    "execution": {
     "iopub.execute_input": "2025-05-31T02:19:38.356677Z",
     "iopub.status.busy": "2025-05-31T02:19:38.356495Z",
     "iopub.status.idle": "2025-05-31T02:20:52.364087Z",
     "shell.execute_reply": "2025-05-31T02:20:52.362878Z"
    },
    "papermill": {
     "duration": 74.014127,
     "end_time": "2025-05-31T02:20:52.366300",
     "exception": false,
     "start_time": "2025-05-31T02:19:38.352173",
     "status": "completed"
    },
    "tags": []
   },
   "outputs": [
    {
     "name": "stdout",
     "output_type": "stream",
     "text": [
      "Reducing memory usage for: train\n",
      "--- Memory usage before: 3594.93 MB\n",
      "--- Memory usage after: 961.92 MB\n",
      "--- Decreased memory usage by 73.2%\n",
      "\n",
      "Reducing memory usage for: test\n",
      "--- Memory usage before: 3678.76 MB\n",
      "--- Memory usage after: 984.36 MB\n",
      "--- Decreased memory usage by 73.2%\n",
      "\n"
     ]
    }
   ],
   "source": [
    "train = pd.read_parquet(CFG.train_path).reset_index(drop=True)\n",
    "test = pd.read_parquet(CFG.test_path).reset_index(drop=True)\n",
    "\n",
    "train = reduce_mem_usage(train, \"train\")\n",
    "test = reduce_mem_usage(test, \"test\")\n",
    "\n",
    "X = train.drop(CFG.target, axis=1)\n",
    "y = train[CFG.target]\n",
    "X_test = test.drop(CFG.target, axis=1)"
   ]
  },
  {
   "cell_type": "code",
   "execution_count": 7,
   "id": "99d85f92",
   "metadata": {
    "execution": {
     "iopub.execute_input": "2025-05-31T02:20:52.379179Z",
     "iopub.status.busy": "2025-05-31T02:20:52.378281Z",
     "iopub.status.idle": "2025-05-31T02:20:59.016170Z",
     "shell.execute_reply": "2025-05-31T02:20:59.014353Z"
    },
    "papermill": {
     "duration": 6.645396,
     "end_time": "2025-05-31T02:20:59.017710",
     "exception": false,
     "start_time": "2025-05-31T02:20:52.372314",
     "status": "completed"
    },
    "tags": []
   },
   "outputs": [],
   "source": [
    "X = pd.concat([add_features(X), X], axis=1)\n",
    "X_test = pd.concat([add_features(X_test), X_test], axis=1)"
   ]
  },
  {
   "cell_type": "code",
   "execution_count": 8,
   "id": "207ad7c8",
   "metadata": {
    "execution": {
     "iopub.execute_input": "2025-05-31T02:20:59.027598Z",
     "iopub.status.busy": "2025-05-31T02:20:59.027312Z",
     "iopub.status.idle": "2025-05-31T02:20:59.307921Z",
     "shell.execute_reply": "2025-05-31T02:20:59.307080Z"
    },
    "papermill": {
     "duration": 0.287146,
     "end_time": "2025-05-31T02:20:59.309347",
     "exception": false,
     "start_time": "2025-05-31T02:20:59.022201",
     "status": "completed"
    },
    "tags": []
   },
   "outputs": [],
   "source": [
    "features = [\n",
    "    'bid_qty', 'ask_qty', 'buy_qty', 'sell_qty', 'volume', 'trade_imbalance', \n",
    "    'total_trades', 'volume_per_trade', 'selling_pressure', 'ask_liquidity_ratio',\n",
    "    'X2', 'X10', 'X11', 'X13', 'X14', 'X18', 'X19', 'X20', 'X26', 'X27', 'X40', \n",
    "    'X42', 'X60', 'X63', 'X64', 'X81', 'X82', 'X86', 'X87', 'X88', 'X99', 'X100',\n",
    "    'X119', 'X120', 'X124', 'X125', 'X135', 'X143', 'X145', 'X157', 'X160', 'X161', \n",
    "    'X264', 'X265', 'X267', 'X269', 'X270', 'X289', 'X309', 'X314', 'X320', 'X325',\n",
    "    'X331', 'X342', 'X480', 'X511', 'X534', 'X579', 'X580', 'X582', 'X602', 'X612',\n",
    "    'X614', 'X764', 'X782', 'X808', 'X811', 'X863', 'X865', 'X866', 'X868', 'X877'\n",
    "]\n",
    "\n",
    "X = X[features]\n",
    "X_test = X_test[features]"
   ]
  },
  {
   "cell_type": "markdown",
   "id": "417f077b",
   "metadata": {
    "papermill": {
     "duration": 0.003751,
     "end_time": "2025-05-31T02:20:59.317702",
     "exception": false,
     "start_time": "2025-05-31T02:20:59.313951",
     "status": "completed"
    },
    "tags": []
   },
   "source": [
    "# Training base models"
   ]
  },
  {
   "cell_type": "code",
   "execution_count": 9,
   "id": "4dbf67d0",
   "metadata": {
    "execution": {
     "iopub.execute_input": "2025-05-31T02:20:59.326959Z",
     "iopub.status.busy": "2025-05-31T02:20:59.326603Z",
     "iopub.status.idle": "2025-05-31T02:20:59.330517Z",
     "shell.execute_reply": "2025-05-31T02:20:59.329900Z"
    },
    "papermill": {
     "duration": 0.009979,
     "end_time": "2025-05-31T02:20:59.331592",
     "exception": false,
     "start_time": "2025-05-31T02:20:59.321613",
     "status": "completed"
    },
    "tags": []
   },
   "outputs": [],
   "source": [
    "def pearsonr(y_true, y_pred):\n",
    "    return pr(y_true, y_pred)[0]"
   ]
  },
  {
   "cell_type": "code",
   "execution_count": 10,
   "id": "330b9ed1",
   "metadata": {
    "_kg_hide-input": true,
    "_kg_hide-output": true,
    "execution": {
     "iopub.execute_input": "2025-05-31T02:20:59.341212Z",
     "iopub.status.busy": "2025-05-31T02:20:59.340926Z",
     "iopub.status.idle": "2025-05-31T02:20:59.347665Z",
     "shell.execute_reply": "2025-05-31T02:20:59.346869Z"
    },
    "papermill": {
     "duration": 0.012676,
     "end_time": "2025-05-31T02:20:59.348877",
     "exception": false,
     "start_time": "2025-05-31T02:20:59.336201",
     "status": "completed"
    },
    "tags": []
   },
   "outputs": [],
   "source": [
    "lgbm_params = {\n",
    "    \"boosting_type\": \"gbdt\",\n",
    "    \"colsample_bytree\": 0.2226266674551101,\n",
    "    \"learning_rate\": 0.010961464232141296,\n",
    "    \"min_child_samples\": 99,\n",
    "    \"min_child_weight\": 0.14721736423062415,\n",
    "    \"n_estimators\": 1539,\n",
    "    \"n_jobs\": -1,\n",
    "    \"num_leaves\": 30,\n",
    "    \"random_state\": 42,\n",
    "    \"reg_alpha\": 84.32633971693426,\n",
    "    \"reg_lambda\": 3.792226171108948,\n",
    "    \"subsample\": 0.7530807885306681,\n",
    "    \"verbose\": -1\n",
    "}\n",
    "\n",
    "lgbm_goss_params = {\n",
    "    \"boosting_type\": \"goss\",\n",
    "    \"colsample_bytree\": 0.17688585186402928,\n",
    "    \"learning_rate\": 0.016709549379582814,\n",
    "    \"min_child_samples\": 78,\n",
    "    \"min_child_weight\": 0.009491338931754025,\n",
    "    \"n_estimators\": 724,\n",
    "    \"n_jobs\": -1,\n",
    "    \"num_leaves\": 65,\n",
    "    \"random_state\": 42,\n",
    "    \"reg_alpha\": 27.170232978125895,\n",
    "    \"reg_lambda\": 67.71163720508015,\n",
    "    \"subsample\": 0.6859603432745125,\n",
    "    \"verbose\": -1\n",
    "}\n",
    "\n",
    "xgb_params = {\n",
    "    \"colsample_bylevel\": 0.5373129074832186,\n",
    "    \"colsample_bynode\": 0.14466876618659996,\n",
    "    \"colsample_bytree\": 0.6390396540112111,\n",
    "    \"gamma\": 2.9313530267910535,\n",
    "    \"learning_rate\": 0.0048328643606231686,\n",
    "    \"max_depth\": 10,\n",
    "    \"max_leaves\": 31,\n",
    "    \"min_child_weight\": 96,\n",
    "    \"n_estimators\": 1354,\n",
    "    \"n_jobs\": -1,\n",
    "    \"random_state\": 42,\n",
    "    \"reg_alpha\": 60.74236045282153,\n",
    "    \"reg_lambda\": 81.62573511547255,\n",
    "    \"subsample\": 0.12403674749602688,\n",
    "    \"verbosity\": 0\n",
    "}"
   ]
  },
  {
   "cell_type": "code",
   "execution_count": 11,
   "id": "dfcf67db",
   "metadata": {
    "execution": {
     "iopub.execute_input": "2025-05-31T02:20:59.358535Z",
     "iopub.status.busy": "2025-05-31T02:20:59.358301Z",
     "iopub.status.idle": "2025-05-31T02:20:59.361843Z",
     "shell.execute_reply": "2025-05-31T02:20:59.361215Z"
    },
    "papermill": {
     "duration": 0.009103,
     "end_time": "2025-05-31T02:20:59.362726",
     "exception": false,
     "start_time": "2025-05-31T02:20:59.353623",
     "status": "completed"
    },
    "tags": []
   },
   "outputs": [],
   "source": [
    "fold_scores = {}\n",
    "overall_scores = {}\n",
    "\n",
    "oof_preds = {}\n",
    "test_preds = {}"
   ]
  },
  {
   "cell_type": "markdown",
   "id": "03b33a59",
   "metadata": {
    "papermill": {
     "duration": 0.003806,
     "end_time": "2025-05-31T02:20:59.370581",
     "exception": false,
     "start_time": "2025-05-31T02:20:59.366775",
     "status": "completed"
    },
    "tags": []
   },
   "source": [
    "## LightGBM (gbdt)"
   ]
  },
  {
   "cell_type": "code",
   "execution_count": 12,
   "id": "62a89c04",
   "metadata": {
    "execution": {
     "iopub.execute_input": "2025-05-31T02:20:59.379442Z",
     "iopub.status.busy": "2025-05-31T02:20:59.379220Z",
     "iopub.status.idle": "2025-05-31T02:25:05.070612Z",
     "shell.execute_reply": "2025-05-31T02:25:05.068278Z"
    },
    "papermill": {
     "duration": 245.699386,
     "end_time": "2025-05-31T02:25:05.074011",
     "exception": false,
     "start_time": "2025-05-31T02:20:59.374625",
     "status": "completed"
    },
    "tags": []
   },
   "outputs": [
    {
     "name": "stdout",
     "output_type": "stream",
     "text": [
      "Training LGBMRegressor\n",
      "\n",
      "--- Fold 0 - pearsonr: 0.176169 - Time: 30.41 s\n",
      "--- Fold 1 - pearsonr: 0.147518 - Time: 29.71 s\n",
      "--- Fold 2 - pearsonr: 0.096722 - Time: 30.38 s\n",
      "--- Fold 3 - pearsonr: 0.183146 - Time: 30.34 s\n",
      "--- Fold 4 - pearsonr: 0.111217 - Time: 30.59 s\n",
      "\n",
      "------ Overall pearsonr: 0.133960 - Mean pearsonr: 0.142954 ± 0.034305 - Time: 152.24 s\n"
     ]
    }
   ],
   "source": [
    "lgbm_trainer = Trainer(\n",
    "    LGBMRegressor(**lgbm_params),\n",
    "    cv=KFold(n_splits=5, shuffle=False),\n",
    "    metric=pearsonr,\n",
    "    task=\"regression\",\n",
    "    metric_precision=6\n",
    ")\n",
    "\n",
    "lgbm_trainer.fit(X, y)\n",
    "\n",
    "fold_scores[\"LightGBM (gbdt)\"] = lgbm_trainer.fold_scores\n",
    "overall_scores[\"LightGBM (gbdt)\"] = [pearsonr(lgbm_trainer.oof_preds, y)]\n",
    "oof_preds[\"LightGBM (gbdt)\"] = lgbm_trainer.oof_preds\n",
    "test_preds[\"LightGBM (gbdt)\"] = lgbm_trainer.predict(X_test)"
   ]
  },
  {
   "cell_type": "markdown",
   "id": "e8c6799c",
   "metadata": {
    "papermill": {
     "duration": 0.005896,
     "end_time": "2025-05-31T02:25:05.088908",
     "exception": false,
     "start_time": "2025-05-31T02:25:05.083012",
     "status": "completed"
    },
    "tags": []
   },
   "source": [
    "## LightGBM (goss)"
   ]
  },
  {
   "cell_type": "code",
   "execution_count": 13,
   "id": "6ca2d38a",
   "metadata": {
    "execution": {
     "iopub.execute_input": "2025-05-31T02:25:05.101318Z",
     "iopub.status.busy": "2025-05-31T02:25:05.100914Z",
     "iopub.status.idle": "2025-05-31T02:28:02.602519Z",
     "shell.execute_reply": "2025-05-31T02:28:02.600913Z"
    },
    "papermill": {
     "duration": 177.511347,
     "end_time": "2025-05-31T02:28:02.604950",
     "exception": false,
     "start_time": "2025-05-31T02:25:05.093603",
     "status": "completed"
    },
    "tags": []
   },
   "outputs": [
    {
     "name": "stdout",
     "output_type": "stream",
     "text": [
      "Training LGBMRegressor\n",
      "\n",
      "--- Fold 0 - pearsonr: 0.174389 - Time: 21.42 s\n",
      "--- Fold 1 - pearsonr: 0.151054 - Time: 21.70 s\n",
      "--- Fold 2 - pearsonr: 0.100643 - Time: 21.94 s\n",
      "--- Fold 3 - pearsonr: 0.179922 - Time: 20.84 s\n",
      "--- Fold 4 - pearsonr: 0.104736 - Time: 21.47 s\n",
      "\n",
      "------ Overall pearsonr: 0.132310 - Mean pearsonr: 0.142149 ± 0.033669 - Time: 108.29 s\n"
     ]
    }
   ],
   "source": [
    "lgbm_goss_trainer = Trainer(\n",
    "    LGBMRegressor(**lgbm_goss_params),\n",
    "    cv=KFold(n_splits=5, shuffle=False),\n",
    "    metric=pearsonr,\n",
    "    task=\"regression\",\n",
    "    metric_precision=6\n",
    ")\n",
    "\n",
    "lgbm_goss_trainer.fit(X, y)\n",
    "\n",
    "fold_scores[\"LightGBM (goss)\"] = lgbm_goss_trainer.fold_scores\n",
    "overall_scores[\"LightGBM (goss)\"] = [pearsonr(lgbm_goss_trainer.oof_preds, y)]\n",
    "oof_preds[\"LightGBM (goss)\"] = lgbm_goss_trainer.oof_preds\n",
    "test_preds[\"LightGBM (goss)\"] = lgbm_goss_trainer.predict(X_test)"
   ]
  },
  {
   "cell_type": "markdown",
   "id": "1fe2cbe7",
   "metadata": {
    "papermill": {
     "duration": 0.004379,
     "end_time": "2025-05-31T02:28:02.614512",
     "exception": false,
     "start_time": "2025-05-31T02:28:02.610133",
     "status": "completed"
    },
    "tags": []
   },
   "source": [
    "## XGBoost"
   ]
  },
  {
   "cell_type": "code",
   "execution_count": 14,
   "id": "3266e6c5",
   "metadata": {
    "execution": {
     "iopub.execute_input": "2025-05-31T02:28:02.625762Z",
     "iopub.status.busy": "2025-05-31T02:28:02.624943Z",
     "iopub.status.idle": "2025-05-31T02:33:09.834422Z",
     "shell.execute_reply": "2025-05-31T02:33:09.833872Z"
    },
    "papermill": {
     "duration": 307.216665,
     "end_time": "2025-05-31T02:33:09.835729",
     "exception": false,
     "start_time": "2025-05-31T02:28:02.619064",
     "status": "completed"
    },
    "tags": []
   },
   "outputs": [
    {
     "name": "stdout",
     "output_type": "stream",
     "text": [
      "Training XGBRegressor\n",
      "\n",
      "--- Fold 0 - pearsonr: 0.192809 - Time: 51.54 s\n",
      "--- Fold 1 - pearsonr: 0.171474 - Time: 50.20 s\n",
      "--- Fold 2 - pearsonr: 0.099456 - Time: 50.29 s\n",
      "--- Fold 3 - pearsonr: 0.170347 - Time: 58.95 s\n",
      "--- Fold 4 - pearsonr: 0.092892 - Time: 50.92 s\n",
      "\n",
      "------ Overall pearsonr: 0.135504 - Mean pearsonr: 0.145395 ± 0.041031 - Time: 262.63 s\n"
     ]
    }
   ],
   "source": [
    "xgb_trainer = Trainer(\n",
    "    XGBRegressor(**xgb_params),\n",
    "    cv=KFold(n_splits=5, shuffle=False),\n",
    "    metric=pearsonr,\n",
    "    task=\"regression\",\n",
    "    metric_precision=6\n",
    ")\n",
    "\n",
    "xgb_trainer.fit(X, y)\n",
    "\n",
    "fold_scores[\"XGBoost\"] = xgb_trainer.fold_scores\n",
    "overall_scores[\"XGBoost\"] = [pearsonr(xgb_trainer.oof_preds, y)]\n",
    "oof_preds[\"XGBoost\"] = xgb_trainer.oof_preds\n",
    "test_preds[\"XGBoost\"] = xgb_trainer.predict(X_test)"
   ]
  },
  {
   "cell_type": "markdown",
   "id": "109a0506",
   "metadata": {
    "papermill": {
     "duration": 0.004368,
     "end_time": "2025-05-31T02:33:09.845463",
     "exception": false,
     "start_time": "2025-05-31T02:33:09.841095",
     "status": "completed"
    },
    "tags": []
   },
   "source": [
    "# Ensembling with Ridge"
   ]
  },
  {
   "cell_type": "code",
   "execution_count": 15,
   "id": "b7dafd42",
   "metadata": {
    "_kg_hide-input": true,
    "execution": {
     "iopub.execute_input": "2025-05-31T02:33:09.855578Z",
     "iopub.status.busy": "2025-05-31T02:33:09.855347Z",
     "iopub.status.idle": "2025-05-31T02:33:09.861616Z",
     "shell.execute_reply": "2025-05-31T02:33:09.860717Z"
    },
    "papermill": {
     "duration": 0.013417,
     "end_time": "2025-05-31T02:33:09.863404",
     "exception": false,
     "start_time": "2025-05-31T02:33:09.849987",
     "status": "completed"
    },
    "tags": []
   },
   "outputs": [],
   "source": [
    "def plot_weights(weights, title):\n",
    "    sorted_indices = np.argsort(weights[0])[::-1]\n",
    "    sorted_coeffs = np.array(weights[0])[sorted_indices]\n",
    "    sorted_model_names = np.array(list(oof_preds.keys()))[sorted_indices]\n",
    "\n",
    "    plt.figure(figsize=(10, weights.shape[1] * 0.5))\n",
    "    ax = sns.barplot(x=sorted_coeffs, y=sorted_model_names, palette=\"RdYlGn_r\")\n",
    "\n",
    "    for i, (value, name) in enumerate(zip(sorted_coeffs, sorted_model_names)):\n",
    "        if value >= 0:\n",
    "            ax.text(value, i, f\"{value:.3f}\", va=\"center\", ha=\"left\", color=\"black\")\n",
    "        else:\n",
    "            ax.text(value, i, f\"{value:.3f}\", va=\"center\", ha=\"right\", color=\"black\")\n",
    "\n",
    "    xlim = ax.get_xlim()\n",
    "    ax.set_xlim(xlim[0] - 0.1 * abs(xlim[0]), xlim[1] + 0.1 * abs(xlim[1]))\n",
    "\n",
    "    plt.title(title)\n",
    "    plt.xlabel(\"\")\n",
    "    plt.ylabel(\"\")\n",
    "    plt.tight_layout()\n",
    "    plt.show()"
   ]
  },
  {
   "cell_type": "code",
   "execution_count": 16,
   "id": "aba50b3a",
   "metadata": {
    "execution": {
     "iopub.execute_input": "2025-05-31T02:33:09.876491Z",
     "iopub.status.busy": "2025-05-31T02:33:09.876031Z",
     "iopub.status.idle": "2025-05-31T02:33:09.883388Z",
     "shell.execute_reply": "2025-05-31T02:33:09.882770Z"
    },
    "papermill": {
     "duration": 0.015383,
     "end_time": "2025-05-31T02:33:09.884871",
     "exception": false,
     "start_time": "2025-05-31T02:33:09.869488",
     "status": "completed"
    },
    "tags": []
   },
   "outputs": [],
   "source": [
    "X = pd.DataFrame(oof_preds)\n",
    "X_test = pd.DataFrame(test_preds)"
   ]
  },
  {
   "cell_type": "code",
   "execution_count": 17,
   "id": "93389214",
   "metadata": {
    "execution": {
     "iopub.execute_input": "2025-05-31T02:33:09.895913Z",
     "iopub.status.busy": "2025-05-31T02:33:09.895661Z",
     "iopub.status.idle": "2025-05-31T02:33:09.934709Z",
     "shell.execute_reply": "2025-05-31T02:33:09.934073Z"
    },
    "papermill": {
     "duration": 0.045883,
     "end_time": "2025-05-31T02:33:09.936182",
     "exception": false,
     "start_time": "2025-05-31T02:33:09.890299",
     "status": "completed"
    },
    "tags": []
   },
   "outputs": [
    {
     "data": {
      "text/plain": [
       "['test_preds.pkl']"
      ]
     },
     "execution_count": 17,
     "metadata": {},
     "output_type": "execute_result"
    }
   ],
   "source": [
    "joblib.dump(X, \"oof_preds.pkl\")\n",
    "joblib.dump(X_test, \"test_preds.pkl\")"
   ]
  },
  {
   "cell_type": "code",
   "execution_count": 18,
   "id": "3e087e37",
   "metadata": {
    "_kg_hide-output": true,
    "execution": {
     "iopub.execute_input": "2025-05-31T02:33:09.947142Z",
     "iopub.status.busy": "2025-05-31T02:33:09.946929Z",
     "iopub.status.idle": "2025-05-31T02:36:37.018580Z",
     "shell.execute_reply": "2025-05-31T02:36:37.017815Z"
    },
    "papermill": {
     "duration": 207.07831,
     "end_time": "2025-05-31T02:36:37.019715",
     "exception": false,
     "start_time": "2025-05-31T02:33:09.941405",
     "status": "completed"
    },
    "scrolled": true,
    "tags": []
   },
   "outputs": [
    {
     "name": "stderr",
     "output_type": "stream",
     "text": [
      "[I 2025-05-31 02:33:09,951] A new study created in memory with name: no-name-f8b82c60-6118-48b8-88ae-53ae19e137e6\n",
      "[I 2025-05-31 02:33:13,263] Trial 1 finished with value: 0.1269086504629263 and parameters: {'alpha': 82.38480058305636, 'tol': 0.008276814259148084, 'fit_intercept': True, 'positive': True}. Best is trial 1 with value: 0.1269086504629263.\n",
      "[I 2025-05-31 02:33:13,265] Trial 0 finished with value: 0.13286612139142712 and parameters: {'alpha': 6.174039330448943, 'tol': 0.004862796697112925, 'fit_intercept': False, 'positive': True}. Best is trial 0 with value: 0.13286612139142712.\n",
      "[I 2025-05-31 02:33:13,613] Trial 3 finished with value: 0.13287474118623474 and parameters: {'alpha': 94.6433673695055, 'tol': 0.0081544321246025, 'fit_intercept': False, 'positive': True}. Best is trial 3 with value: 0.13287474118623474.\n",
      "[I 2025-05-31 02:33:13,956] Trial 2 finished with value: 0.12690629742636533 and parameters: {'alpha': 31.360300769167537, 'tol': 0.003163421007997451, 'fit_intercept': True, 'positive': True}. Best is trial 3 with value: 0.13287474118623474.\n",
      "[I 2025-05-31 02:33:16,490] Trial 5 finished with value: 0.1279442332002992 and parameters: {'alpha': 89.13671416984734, 'tol': 0.009997064193014325, 'fit_intercept': True, 'positive': False}. Best is trial 3 with value: 0.13287474118623474.\n",
      "[I 2025-05-31 02:33:16,821] Trial 4 finished with value: 0.12795109327803172 and parameters: {'alpha': 97.54509059923416, 'tol': 0.0016121679807887274, 'fit_intercept': True, 'positive': False}. Best is trial 3 with value: 0.13287474118623474.\n",
      "[I 2025-05-31 02:33:16,856] Trial 7 finished with value: 0.13462752167278225 and parameters: {'alpha': 12.249733049787581, 'tol': 0.008977286465596573, 'fit_intercept': False, 'positive': False}. Best is trial 7 with value: 0.13462752167278225.\n",
      "[I 2025-05-31 02:33:17,366] Trial 6 finished with value: 0.1323315659428163 and parameters: {'alpha': 67.99117207883958, 'tol': 0.00040974303052696405, 'fit_intercept': False, 'positive': True}. Best is trial 7 with value: 0.13462752167278225.\n",
      "[I 2025-05-31 02:33:19,752] Trial 8 finished with value: 0.134638601393435 and parameters: {'alpha': 36.688803874583165, 'tol': 0.009501723277594725, 'fit_intercept': False, 'positive': False}. Best is trial 8 with value: 0.134638601393435.\n",
      "[I 2025-05-31 02:33:19,783] Trial 9 finished with value: 0.13462832459451182 and parameters: {'alpha': 13.945744134932504, 'tol': 0.004649341992832082, 'fit_intercept': False, 'positive': False}. Best is trial 8 with value: 0.134638601393435.\n",
      "[I 2025-05-31 02:33:20,142] Trial 10 finished with value: 0.12794932835088907 and parameters: {'alpha': 95.36319421403014, 'tol': 0.0066160589492111005, 'fit_intercept': True, 'positive': False}. Best is trial 8 with value: 0.134638601393435.\n",
      "[I 2025-05-31 02:33:20,674] Trial 11 finished with value: 0.12795061100943733 and parameters: {'alpha': 96.9475832424599, 'tol': 0.0020625232919599607, 'fit_intercept': True, 'positive': False}. Best is trial 8 with value: 0.134638601393435.\n",
      "[I 2025-05-31 02:33:23,549] Trial 14 finished with value: 0.13463731851008012 and parameters: {'alpha': 33.73771144232494, 'tol': 0.004281862823974315, 'fit_intercept': False, 'positive': False}. Best is trial 8 with value: 0.134638601393435.\n",
      "[I 2025-05-31 02:33:23,732] Trial 13 finished with value: 0.1328699691601605 and parameters: {'alpha': 45.62000503900778, 'tol': 0.009696253854752038, 'fit_intercept': False, 'positive': True}. Best is trial 8 with value: 0.134638601393435.\n",
      "[I 2025-05-31 02:33:23,748] Trial 12 finished with value: 0.12690506602881427 and parameters: {'alpha': 4.792746884228604, 'tol': 0.005532818570488974, 'fit_intercept': True, 'positive': True}. Best is trial 8 with value: 0.134638601393435.\n",
      "[I 2025-05-31 02:33:23,780] Trial 15 finished with value: 0.1346480980488864 and parameters: {'alpha': 59.68000699244718, 'tol': 0.008822421688659416, 'fit_intercept': False, 'positive': False}. Best is trial 15 with value: 0.1346480980488864.\n",
      "[I 2025-05-31 02:33:26,733] Trial 16 finished with value: 0.13464614610581713 and parameters: {'alpha': 54.77821490203958, 'tol': 0.006952408349688224, 'fit_intercept': False, 'positive': False}. Best is trial 15 with value: 0.1346480980488864.\n",
      "[I 2025-05-31 02:33:27,080] Trial 17 finished with value: 0.13464899936872962 and parameters: {'alpha': 61.97681588638045, 'tol': 0.005865192505209856, 'fit_intercept': False, 'positive': False}. Best is trial 17 with value: 0.13464899936872962.\n",
      "[I 2025-05-31 02:33:27,103] Trial 19 finished with value: 0.13464588869296307 and parameters: {'alpha': 54.13898684068767, 'tol': 0.008024167450178608, 'fit_intercept': False, 'positive': False}. Best is trial 17 with value: 0.13464899936872962.\n",
      "[I 2025-05-31 02:33:27,116] Trial 18 finished with value: 0.13464527677567548 and parameters: {'alpha': 52.626005214170476, 'tol': 0.005895463776028528, 'fit_intercept': False, 'positive': False}. Best is trial 17 with value: 0.13464899936872962.\n",
      "[I 2025-05-31 02:33:29,852] Trial 20 finished with value: 0.13465386556320516 and parameters: {'alpha': 74.76614872705824, 'tol': 0.0075537240728611975, 'fit_intercept': False, 'positive': False}. Best is trial 20 with value: 0.13465386556320516.\n",
      "[I 2025-05-31 02:33:30,372] Trial 22 finished with value: 0.13465141243493028 and parameters: {'alpha': 68.23444660270584, 'tol': 0.004227680020789287, 'fit_intercept': False, 'positive': False}. Best is trial 20 with value: 0.13465386556320516.\n",
      "[I 2025-05-31 02:33:30,377] Trial 21 finished with value: 0.13465373229823097 and parameters: {'alpha': 74.40672337001844, 'tol': 0.004319741720583719, 'fit_intercept': False, 'positive': False}. Best is trial 20 with value: 0.13465386556320516.\n",
      "[I 2025-05-31 02:33:30,558] Trial 23 finished with value: 0.1346608569442262 and parameters: {'alpha': 94.4311176500751, 'tol': 0.008435912829129153, 'fit_intercept': False, 'positive': False}. Best is trial 23 with value: 0.1346608569442262.\n",
      "[I 2025-05-31 02:33:32,967] Trial 24 finished with value: 0.13466096369937014 and parameters: {'alpha': 94.74458719150314, 'tol': 0.006236263925538983, 'fit_intercept': False, 'positive': False}. Best is trial 24 with value: 0.13466096369937014.\n",
      "[I 2025-05-31 02:33:33,484] Trial 25 finished with value: 0.1346607977328799 and parameters: {'alpha': 94.25743610404724, 'tol': 0.0047049783476634304, 'fit_intercept': False, 'positive': False}. Best is trial 24 with value: 0.13466096369937014.\n",
      "[I 2025-05-31 02:33:33,836] Trial 26 finished with value: 0.13465440647928423 and parameters: {'alpha': 76.23060523246563, 'tol': 0.003281813507673538, 'fit_intercept': False, 'positive': False}. Best is trial 24 with value: 0.13466096369937014.\n",
      "[I 2025-05-31 02:33:33,863] Trial 27 finished with value: 0.13466206885854817 and parameters: {'alpha': 98.01501041790505, 'tol': 0.008757513607336896, 'fit_intercept': False, 'positive': False}. Best is trial 27 with value: 0.13466206885854817.\n",
      "[I 2025-05-31 02:33:36,142] Trial 28 finished with value: 0.13466089512164145 and parameters: {'alpha': 94.54317072161932, 'tol': 0.006054290917081782, 'fit_intercept': False, 'positive': False}. Best is trial 27 with value: 0.13466206885854817.\n",
      "[I 2025-05-31 02:33:36,792] Trial 29 finished with value: 0.13466272189140427 and parameters: {'alpha': 99.96960310120694, 'tol': 0.007239986493733865, 'fit_intercept': False, 'positive': False}. Best is trial 29 with value: 0.13466272189140427.\n",
      "[I 2025-05-31 02:33:37,128] Trial 30 finished with value: 0.1346624290976629 and parameters: {'alpha': 99.09117877329659, 'tol': 0.004571634442197922, 'fit_intercept': False, 'positive': False}. Best is trial 29 with value: 0.13466272189140427.\n",
      "[I 2025-05-31 02:33:37,163] Trial 31 finished with value: 0.13466187503858842 and parameters: {'alpha': 97.43807997424366, 'tol': 0.009874205952755873, 'fit_intercept': False, 'positive': False}. Best is trial 29 with value: 0.13466272189140427.\n",
      "[I 2025-05-31 02:33:39,887] Trial 33 finished with value: 0.13466255994420154 and parameters: {'alpha': 99.48332094586603, 'tol': 0.00734088308850628, 'fit_intercept': False, 'positive': False}. Best is trial 29 with value: 0.13466272189140427.\n",
      "[I 2025-05-31 02:33:39,891] Trial 32 finished with value: 0.132874983924493 and parameters: {'alpha': 97.14006689174896, 'tol': 0.00483507058271976, 'fit_intercept': False, 'positive': True}. Best is trial 29 with value: 0.13466272189140427.\n",
      "[I 2025-05-31 02:33:40,271] Trial 34 finished with value: 0.13466213502645166 and parameters: {'alpha': 98.21230030562894, 'tol': 0.009196299327882643, 'fit_intercept': False, 'positive': False}. Best is trial 29 with value: 0.13466272189140427.\n",
      "[I 2025-05-31 02:33:40,592] Trial 35 finished with value: 0.1346622203572552 and parameters: {'alpha': 98.46697811791839, 'tol': 0.008885740564737711, 'fit_intercept': False, 'positive': False}. Best is trial 29 with value: 0.13466272189140427.\n",
      "[I 2025-05-31 02:33:42,898] Trial 37 finished with value: 0.134660249418902 and parameters: {'alpha': 92.6552591604224, 'tol': 0.007754854445755714, 'fit_intercept': False, 'positive': False}. Best is trial 29 with value: 0.13466272189140427.\n",
      "[I 2025-05-31 02:33:43,075] Trial 36 finished with value: 0.13466134858217726 and parameters: {'alpha': 95.87828180352219, 'tol': 0.007460600921333736, 'fit_intercept': False, 'positive': False}. Best is trial 29 with value: 0.13466272189140427.\n",
      "[I 2025-05-31 02:33:43,906] Trial 38 finished with value: 0.12788440843366491 and parameters: {'alpha': 22.979121794315127, 'tol': 0.00042300886302674024, 'fit_intercept': True, 'positive': False}. Best is trial 29 with value: 0.13466272189140427.\n",
      "[I 2025-05-31 02:33:43,911] Trial 39 finished with value: 0.13466244184458662 and parameters: {'alpha': 99.1293513107069, 'tol': 0.0070357845526587415, 'fit_intercept': False, 'positive': False}. Best is trial 29 with value: 0.13466272189140427.\n",
      "[I 2025-05-31 02:33:45,925] Trial 40 finished with value: 0.13466263051291721 and parameters: {'alpha': 99.69509197955526, 'tol': 0.004551100827196987, 'fit_intercept': False, 'positive': False}. Best is trial 29 with value: 0.13466272189140427.\n",
      "[I 2025-05-31 02:33:45,954] Trial 41 finished with value: 0.13466212512619416 and parameters: {'alpha': 98.1827703543714, 'tol': 0.0024385745936823136, 'fit_intercept': False, 'positive': False}. Best is trial 29 with value: 0.13466272189140427.\n",
      "[I 2025-05-31 02:33:47,944] Trial 43 finished with value: 0.126909219680412 and parameters: {'alpha': 94.77928231266566, 'tol': 0.005562919681314865, 'fit_intercept': True, 'positive': True}. Best is trial 29 with value: 0.13466272189140427.\n",
      "[I 2025-05-31 02:33:47,963] Trial 42 finished with value: 0.1269069222071654 and parameters: {'alpha': 44.87527987181599, 'tol': 0.007411812334457198, 'fit_intercept': True, 'positive': True}. Best is trial 29 with value: 0.13466272189140427.\n",
      "[I 2025-05-31 02:33:48,971] Trial 44 finished with value: 0.13465872707085058 and parameters: {'alpha': 88.2640284239706, 'tol': 0.002336707339496778, 'fit_intercept': False, 'positive': False}. Best is trial 29 with value: 0.13466272189140427.\n",
      "[I 2025-05-31 02:33:48,972] Trial 45 finished with value: 0.13466196047903586 and parameters: {'alpha': 97.69222599865162, 'tol': 0.005447038785982254, 'fit_intercept': False, 'positive': False}. Best is trial 29 with value: 0.13466272189140427.\n",
      "[I 2025-05-31 02:33:51,194] Trial 46 finished with value: 0.13466207167473726 and parameters: {'alpha': 98.02340386819374, 'tol': 0.0045271916630921834, 'fit_intercept': False, 'positive': False}. Best is trial 29 with value: 0.13466272189140427.\n",
      "[I 2025-05-31 02:33:51,219] Trial 47 finished with value: 0.1346625562462993 and parameters: {'alpha': 99.47222924169932, 'tol': 0.004832969547470298, 'fit_intercept': False, 'positive': False}. Best is trial 29 with value: 0.13466272189140427.\n",
      "[I 2025-05-31 02:33:52,204] Trial 48 finished with value: 0.12788500736455594 and parameters: {'alpha': 23.58612342138301, 'tol': 0.006466485886345316, 'fit_intercept': True, 'positive': False}. Best is trial 29 with value: 0.13466272189140427.\n",
      "[I 2025-05-31 02:33:52,221] Trial 49 finished with value: 0.12794027844221734 and parameters: {'alpha': 84.37610082103993, 'tol': 0.004526472993607688, 'fit_intercept': True, 'positive': False}. Best is trial 29 with value: 0.13466272189140427.\n",
      "[I 2025-05-31 02:33:54,813] Trial 50 finished with value: 0.1269072875932492 and parameters: {'alpha': 52.790204067768926, 'tol': 0.0018676658121985048, 'fit_intercept': True, 'positive': True}. Best is trial 29 with value: 0.13466272189140427.\n",
      "[I 2025-05-31 02:33:55,173] Trial 51 finished with value: 0.12535168763140878 and parameters: {'alpha': 46.833073779356226, 'tol': 0.00036459484537698737, 'fit_intercept': True, 'positive': True}. Best is trial 29 with value: 0.13466272189140427.\n",
      "[I 2025-05-31 02:33:55,185] Trial 52 finished with value: 0.127931727865072 and parameters: {'alpha': 74.29037453150734, 'tol': 0.005471042185239735, 'fit_intercept': True, 'positive': False}. Best is trial 29 with value: 0.13466272189140427.\n",
      "[I 2025-05-31 02:33:55,537] Trial 53 finished with value: 0.13287467480805326 and parameters: {'alpha': 93.96068160820205, 'tol': 0.006424003607817501, 'fit_intercept': False, 'positive': True}. Best is trial 29 with value: 0.13466272189140427.\n",
      "[I 2025-05-31 02:33:58,229] Trial 54 finished with value: 0.1346623233956117 and parameters: {'alpha': 98.77488329666525, 'tol': 0.0051519565421781835, 'fit_intercept': False, 'positive': False}. Best is trial 29 with value: 0.13466272189140427.\n",
      "[I 2025-05-31 02:33:58,742] Trial 57 finished with value: 0.1346625236447742 and parameters: {'alpha': 99.37446557512541, 'tol': 0.006712718112545538, 'fit_intercept': False, 'positive': False}. Best is trial 29 with value: 0.13466272189140427.\n",
      "[I 2025-05-31 02:33:58,919] Trial 55 finished with value: 0.13287514015412033 and parameters: {'alpha': 98.7471319480954, 'tol': 0.006790219397585777, 'fit_intercept': False, 'positive': True}. Best is trial 29 with value: 0.13466272189140427.\n",
      "[I 2025-05-31 02:33:58,926] Trial 56 finished with value: 0.1269048786645159 and parameters: {'alpha': 0.7583823621062038, 'tol': 0.0006220103693863298, 'fit_intercept': True, 'positive': True}. Best is trial 29 with value: 0.13466272189140427.\n",
      "[I 2025-05-31 02:34:01,446] Trial 58 finished with value: 0.12795245947355738 and parameters: {'alpha': 99.24309401240133, 'tol': 0.008049727759375722, 'fit_intercept': True, 'positive': False}. Best is trial 29 with value: 0.13466272189140427.\n",
      "[I 2025-05-31 02:34:01,634] Trial 59 finished with value: 0.13466095310896795 and parameters: {'alpha': 94.71347114213552, 'tol': 0.006305773546254312, 'fit_intercept': False, 'positive': False}. Best is trial 29 with value: 0.13466272189140427.\n",
      "[I 2025-05-31 02:34:01,955] Trial 61 finished with value: 0.13466213465830063 and parameters: {'alpha': 98.21120213656565, 'tol': 0.007110479221013401, 'fit_intercept': False, 'positive': False}. Best is trial 29 with value: 0.13466272189140427.\n",
      "[I 2025-05-31 02:34:01,978] Trial 60 finished with value: 0.13466147718578703 and parameters: {'alpha': 96.25833715980188, 'tol': 0.006621923719829809, 'fit_intercept': False, 'positive': False}. Best is trial 29 with value: 0.13466272189140427.\n",
      "[I 2025-05-31 02:34:05,124] Trial 63 finished with value: 0.12790312218327696 and parameters: {'alpha': 42.42959381291822, 'tol': 0.00947036236533133, 'fit_intercept': True, 'positive': False}. Best is trial 29 with value: 0.13466272189140427.\n",
      "[I 2025-05-31 02:34:05,128] Trial 64 finished with value: 0.13466270988269144 and parameters: {'alpha': 99.9335087803196, 'tol': 0.005044552517682534, 'fit_intercept': False, 'positive': False}. Best is trial 29 with value: 0.13466272189140427.\n",
      "[I 2025-05-31 02:34:05,176] Trial 62 finished with value: 0.1269094312193847 and parameters: {'alpha': 99.39058600694742, 'tol': 0.00893382527636261, 'fit_intercept': True, 'positive': True}. Best is trial 29 with value: 0.13466272189140427.\n",
      "[I 2025-05-31 02:34:05,666] Trial 65 finished with value: 0.13287098193121288 and parameters: {'alpha': 56.014799617550786, 'tol': 0.003565091538202073, 'fit_intercept': False, 'positive': True}. Best is trial 29 with value: 0.13466272189140427.\n",
      "[I 2025-05-31 02:34:08,112] Trial 66 finished with value: 0.13466230298784929 and parameters: {'alpha': 98.71386678333754, 'tol': 0.006047523628535414, 'fit_intercept': False, 'positive': False}. Best is trial 29 with value: 0.13466272189140427.\n",
      "[I 2025-05-31 02:34:08,129] Trial 67 finished with value: 0.13466240412233396 and parameters: {'alpha': 99.01640491949995, 'tol': 0.006608119646432424, 'fit_intercept': False, 'positive': False}. Best is trial 29 with value: 0.13466272189140427.\n",
      "[I 2025-05-31 02:34:08,973] Trial 68 finished with value: 0.1328747037805496 and parameters: {'alpha': 94.2586549904715, 'tol': 0.0020082067733308076, 'fit_intercept': False, 'positive': True}. Best is trial 29 with value: 0.13466272189140427.\n",
      "[I 2025-05-31 02:34:08,999] Trial 69 finished with value: 0.12786482541409958 and parameters: {'alpha': 3.6574180506659815, 'tol': 0.009583294616548742, 'fit_intercept': True, 'positive': False}. Best is trial 29 with value: 0.13466272189140427.\n",
      "[I 2025-05-31 02:34:11,217] Trial 70 finished with value: 0.13465540270612433 and parameters: {'alpha': 78.95148902524303, 'tol': 0.006570638347195723, 'fit_intercept': False, 'positive': False}. Best is trial 29 with value: 0.13466272189140427.\n",
      "[I 2025-05-31 02:34:11,233] Trial 71 finished with value: 0.13466269671476908 and parameters: {'alpha': 99.89393679827204, 'tol': 0.004103859546484168, 'fit_intercept': False, 'positive': False}. Best is trial 29 with value: 0.13466272189140427.\n",
      "[I 2025-05-31 02:34:12,196] Trial 72 finished with value: 0.1346624925821352 and parameters: {'alpha': 99.28135546732005, 'tol': 0.004987510664558962, 'fit_intercept': False, 'positive': False}. Best is trial 29 with value: 0.13466272189140427.\n",
      "[I 2025-05-31 02:34:12,507] Trial 73 finished with value: 0.13463495435614584 and parameters: {'alpha': 28.38681660292798, 'tol': 0.00022585949549877148, 'fit_intercept': False, 'positive': False}. Best is trial 29 with value: 0.13466272189140427.\n",
      "[I 2025-05-31 02:34:14,401] Trial 74 finished with value: 0.1346624852290332 and parameters: {'alpha': 99.25932012285703, 'tol': 0.003500383811986682, 'fit_intercept': False, 'positive': False}. Best is trial 29 with value: 0.13466272189140427.\n",
      "[I 2025-05-31 02:34:14,416] Trial 75 finished with value: 0.13466102013045397 and parameters: {'alpha': 94.91046016236908, 'tol': 0.0033666704587878237, 'fit_intercept': False, 'positive': False}. Best is trial 29 with value: 0.13466272189140427.\n",
      "[I 2025-05-31 02:34:15,684] Trial 76 finished with value: 0.13466232227109787 and parameters: {'alpha': 98.77152072588274, 'tol': 0.004395355696555248, 'fit_intercept': False, 'positive': False}. Best is trial 29 with value: 0.13466272189140427.\n",
      "[I 2025-05-31 02:34:15,709] Trial 77 finished with value: 0.13466166549146677 and parameters: {'alpha': 96.81596108075207, 'tol': 0.0036085132725437417, 'fit_intercept': False, 'positive': False}. Best is trial 29 with value: 0.13466272189140427.\n",
      "[I 2025-05-31 02:34:17,378] Trial 78 finished with value: 0.13466256830497653 and parameters: {'alpha': 99.5084007254879, 'tol': 0.003997978131832466, 'fit_intercept': False, 'positive': False}. Best is trial 29 with value: 0.13466272189140427.\n",
      "[I 2025-05-31 02:34:17,395] Trial 79 finished with value: 0.13466192992821158 and parameters: {'alpha': 97.60131904925488, 'tol': 0.004617399194551918, 'fit_intercept': False, 'positive': False}. Best is trial 29 with value: 0.13466272189140427.\n",
      "[I 2025-05-31 02:34:18,898] Trial 81 finished with value: 0.13465609954230306 and parameters: {'alpha': 80.87334905548624, 'tol': 0.005046189776575228, 'fit_intercept': False, 'positive': False}. Best is trial 29 with value: 0.13466272189140427.\n",
      "[I 2025-05-31 02:34:19,430] Trial 80 finished with value: 0.1328676686957435 and parameters: {'alpha': 22.027625046899036, 'tol': 0.005878074347000254, 'fit_intercept': False, 'positive': True}. Best is trial 29 with value: 0.13466272189140427.\n",
      "[I 2025-05-31 02:34:20,537] Trial 82 finished with value: 0.13465813341831792 and parameters: {'alpha': 86.57377545513685, 'tol': 0.004208337976838024, 'fit_intercept': False, 'positive': False}. Best is trial 29 with value: 0.13466272189140427.\n",
      "[I 2025-05-31 02:34:20,558] Trial 83 finished with value: 0.1346546388055544 and parameters: {'alpha': 76.86236179892099, 'tol': 0.005013273088426538, 'fit_intercept': False, 'positive': False}. Best is trial 29 with value: 0.13466272189140427.\n",
      "[I 2025-05-31 02:34:22,353] Trial 84 finished with value: 0.12794895028316694 and parameters: {'alpha': 94.89750452579295, 'tol': 0.004003400887724878, 'fit_intercept': True, 'positive': False}. Best is trial 29 with value: 0.13466272189140427.\n",
      "[I 2025-05-31 02:34:23,492] Trial 85 finished with value: 0.13286633990909819 and parameters: {'alpha': 8.41223829934188, 'tol': 0.009918516095565032, 'fit_intercept': False, 'positive': True}. Best is trial 29 with value: 0.13466272189140427.\n",
      "[I 2025-05-31 02:34:23,660] Trial 86 finished with value: 0.13466086158706347 and parameters: {'alpha': 94.44474176231465, 'tol': 0.004916761265641903, 'fit_intercept': False, 'positive': False}. Best is trial 29 with value: 0.13466272189140427.\n",
      "[I 2025-05-31 02:34:23,673] Trial 87 finished with value: 0.13466191940739955 and parameters: {'alpha': 97.57002167709865, 'tol': 0.0038485492396743166, 'fit_intercept': False, 'positive': False}. Best is trial 29 with value: 0.13466272189140427.\n",
      "[I 2025-05-31 02:34:25,488] Trial 88 finished with value: 0.13466169996030636 and parameters: {'alpha': 96.91817909963396, 'tol': 0.0053430395738737575, 'fit_intercept': False, 'positive': False}. Best is trial 29 with value: 0.13466272189140427.\n",
      "[I 2025-05-31 02:34:26,661] Trial 90 finished with value: 0.13466227190661006 and parameters: {'alpha': 98.62096918342506, 'tol': 0.00513010736899392, 'fit_intercept': False, 'positive': False}. Best is trial 29 with value: 0.13466272189140427.\n",
      "[I 2025-05-31 02:34:26,676] Trial 89 finished with value: 0.13466194668030615 and parameters: {'alpha': 97.65116208009186, 'tol': 0.003620384791499457, 'fit_intercept': False, 'positive': False}. Best is trial 29 with value: 0.13466272189140427.\n",
      "[I 2025-05-31 02:34:27,389] Trial 91 finished with value: 0.13287213887946867 and parameters: {'alpha': 67.89563073273322, 'tol': 0.008195869681888492, 'fit_intercept': False, 'positive': True}. Best is trial 29 with value: 0.13466272189140427.\n",
      "[I 2025-05-31 02:34:29,310] Trial 92 finished with value: 0.13287318572999984 and parameters: {'alpha': 78.6515978949842, 'tol': 0.008755283988910094, 'fit_intercept': False, 'positive': True}. Best is trial 29 with value: 0.13466272189140427.\n",
      "[I 2025-05-31 02:34:30,163] Trial 94 finished with value: 0.13466041946619917 and parameters: {'alpha': 93.15095358616985, 'tol': 0.001552340451946982, 'fit_intercept': False, 'positive': False}. Best is trial 29 with value: 0.13466272189140427.\n",
      "[I 2025-05-31 02:34:30,347] Trial 93 finished with value: 0.1328751217991653 and parameters: {'alpha': 98.55831633397729, 'tol': 0.004282106158944001, 'fit_intercept': False, 'positive': True}. Best is trial 29 with value: 0.13466272189140427.\n",
      "[I 2025-05-31 02:34:30,367] Trial 95 finished with value: 0.13466265623724918 and parameters: {'alpha': 99.7723374108369, 'tol': 0.0033959743417060614, 'fit_intercept': False, 'positive': False}. Best is trial 29 with value: 0.13466272189140427.\n",
      "[I 2025-05-31 02:34:32,912] Trial 96 finished with value: 0.13465899412763227 and parameters: {'alpha': 89.02839636046984, 'tol': 0.0012868493704266738, 'fit_intercept': False, 'positive': False}. Best is trial 29 with value: 0.13466272189140427.\n",
      "[I 2025-05-31 02:34:33,415] Trial 97 finished with value: 0.13466267314126676 and parameters: {'alpha': 99.82311127061338, 'tol': 0.0055950630995633185, 'fit_intercept': False, 'positive': False}. Best is trial 29 with value: 0.13466272189140427.\n",
      "[I 2025-05-31 02:34:33,588] Trial 98 finished with value: 0.13466271823970719 and parameters: {'alpha': 99.95862667336775, 'tol': 0.003725039976781724, 'fit_intercept': False, 'positive': False}. Best is trial 29 with value: 0.13466272189140427.\n",
      "[I 2025-05-31 02:34:33,605] Trial 99 finished with value: 0.13466257198298331 and parameters: {'alpha': 99.51943449648581, 'tol': 0.002924563665435116, 'fit_intercept': False, 'positive': False}. Best is trial 29 with value: 0.13466272189140427.\n",
      "[I 2025-05-31 02:34:36,175] Trial 100 finished with value: 0.12795293396365018 and parameters: {'alpha': 99.83468554870932, 'tol': 0.005904444140526427, 'fit_intercept': True, 'positive': False}. Best is trial 29 with value: 0.13466272189140427.\n",
      "[I 2025-05-31 02:34:36,369] Trial 101 finished with value: 0.1346569669942382 and parameters: {'alpha': 83.28775798936354, 'tol': 0.007168790407365418, 'fit_intercept': False, 'positive': False}. Best is trial 29 with value: 0.13466272189140427.\n",
      "[I 2025-05-31 02:34:36,568] Trial 103 finished with value: 0.13466165758203222 and parameters: {'alpha': 96.79251190406288, 'tol': 0.0027717839434472755, 'fit_intercept': False, 'positive': False}. Best is trial 29 with value: 0.13466272189140427.\n",
      "[I 2025-05-31 02:34:36,934] Trial 102 finished with value: 0.1269093901944838 and parameters: {'alpha': 98.49607330195232, 'tol': 0.0027383227196830034, 'fit_intercept': True, 'positive': True}. Best is trial 29 with value: 0.13466272189140427.\n",
      "[I 2025-05-31 02:34:39,122] Trial 104 finished with value: 0.13466245229860815 and parameters: {'alpha': 99.16066216524312, 'tol': 0.0032236028958157457, 'fit_intercept': False, 'positive': False}. Best is trial 29 with value: 0.13466272189140427.\n",
      "[I 2025-05-31 02:34:40,151] Trial 107 finished with value: 0.1346614135581485 and parameters: {'alpha': 96.07022343788, 'tol': 0.0032014144972051734, 'fit_intercept': False, 'positive': False}. Best is trial 29 with value: 0.13466272189140427.\n",
      "[I 2025-05-31 02:34:40,469] Trial 105 finished with value: 0.13463524078955946 and parameters: {'alpha': 21.152245238148648, 'tol': 0.00026852063879605724, 'fit_intercept': False, 'positive': True}. Best is trial 29 with value: 0.13466272189140427.\n",
      "[I 2025-05-31 02:34:40,503] Trial 106 finished with value: 0.12690925898742136 and parameters: {'alpha': 95.63591893968406, 'tol': 0.0024372540267627993, 'fit_intercept': True, 'positive': True}. Best is trial 29 with value: 0.13466272189140427.\n",
      "[I 2025-05-31 02:34:42,296] Trial 108 finished with value: 0.1346626341826234 and parameters: {'alpha': 99.70610983613638, 'tol': 0.003192228075033084, 'fit_intercept': False, 'positive': False}. Best is trial 29 with value: 0.13466272189140427.\n",
      "[I 2025-05-31 02:34:43,399] Trial 109 finished with value: 0.1346619918161708 and parameters: {'alpha': 97.7855100962428, 'tol': 0.003163323959880016, 'fit_intercept': False, 'positive': False}. Best is trial 29 with value: 0.13466272189140427.\n",
      "[I 2025-05-31 02:34:43,723] Trial 110 finished with value: 0.13465519402112938 and parameters: {'alpha': 78.37895215917322, 'tol': 0.0030231909985956804, 'fit_intercept': False, 'positive': False}. Best is trial 29 with value: 0.13466272189140427.\n",
      "[I 2025-05-31 02:34:43,742] Trial 111 finished with value: 0.1346621051719012 and parameters: {'alpha': 98.12326332005235, 'tol': 0.002708486824199788, 'fit_intercept': False, 'positive': False}. Best is trial 29 with value: 0.13466272189140427.\n",
      "[I 2025-05-31 02:34:45,778] Trial 112 finished with value: 0.13466245949175448 and parameters: {'alpha': 99.1822088544752, 'tol': 0.0018611903693260777, 'fit_intercept': False, 'positive': False}. Best is trial 29 with value: 0.13466272189140427.\n",
      "[I 2025-05-31 02:34:46,464] Trial 113 finished with value: 0.13464821903747928 and parameters: {'alpha': 59.98707249089259, 'tol': 0.0003387367134549133, 'fit_intercept': False, 'positive': False}. Best is trial 29 with value: 0.13466272189140427.\n",
      "[I 2025-05-31 02:34:46,966] Trial 114 finished with value: 0.13466246871816465 and parameters: {'alpha': 99.20984904696475, 'tol': 0.0029210776403452527, 'fit_intercept': False, 'positive': False}. Best is trial 29 with value: 0.13466272189140427.\n",
      "[I 2025-05-31 02:34:46,983] Trial 115 finished with value: 0.13466167544843063 and parameters: {'alpha': 96.84548398660945, 'tol': 0.00401928098275633, 'fit_intercept': False, 'positive': False}. Best is trial 29 with value: 0.13466272189140427.\n",
      "[I 2025-05-31 02:34:48,946] Trial 116 finished with value: 0.13466261497720797 and parameters: {'alpha': 99.6484537369683, 'tol': 0.004433617057347669, 'fit_intercept': False, 'positive': False}. Best is trial 29 with value: 0.13466272189140427.\n",
      "[I 2025-05-31 02:34:50,087] Trial 117 finished with value: 0.12690597623393962 and parameters: {'alpha': 24.421666258657904, 'tol': 0.009640397545078849, 'fit_intercept': True, 'positive': True}. Best is trial 29 with value: 0.13466272189140427.\n",
      "[I 2025-05-31 02:34:50,090] Trial 119 finished with value: 0.1279405712623488 and parameters: {'alpha': 84.72646798167602, 'tol': 0.0019079672873894523, 'fit_intercept': True, 'positive': False}. Best is trial 29 with value: 0.13466272189140427.\n",
      "[I 2025-05-31 02:34:50,095] Trial 118 finished with value: 0.1346619484965186 and parameters: {'alpha': 97.65656656367042, 'tol': 0.0038617585663376563, 'fit_intercept': False, 'positive': False}. Best is trial 29 with value: 0.13466272189140427.\n",
      "[I 2025-05-31 02:34:52,223] Trial 120 finished with value: 0.12794246471840617 and parameters: {'alpha': 87.0001913433166, 'tol': 0.002172192034564574, 'fit_intercept': True, 'positive': False}. Best is trial 29 with value: 0.13466272189140427.\n",
      "[I 2025-05-31 02:34:53,339] Trial 121 finished with value: 0.1346625878996103 and parameters: {'alpha': 99.5671894335724, 'tol': 0.0052106513359259626, 'fit_intercept': False, 'positive': False}. Best is trial 29 with value: 0.13466272189140427.\n",
      "[I 2025-05-31 02:34:53,361] Trial 122 finished with value: 0.13466265763433202 and parameters: {'alpha': 99.77653334035475, 'tol': 0.0038950367051266885, 'fit_intercept': False, 'positive': False}. Best is trial 29 with value: 0.13466272189140427.\n",
      "[I 2025-05-31 02:34:53,364] Trial 123 finished with value: 0.13466165976573732 and parameters: {'alpha': 96.79898571683432, 'tol': 0.005053941967147272, 'fit_intercept': False, 'positive': False}. Best is trial 29 with value: 0.13466272189140427.\n",
      "[I 2025-05-31 02:34:55,488] Trial 124 finished with value: 0.13466257134469278 and parameters: {'alpha': 99.51751963007257, 'tol': 0.005860415356724265, 'fit_intercept': False, 'positive': False}. Best is trial 29 with value: 0.13466272189140427.\n",
      "[I 2025-05-31 02:34:56,631] Trial 125 finished with value: 0.13466243706527647 and parameters: {'alpha': 99.11503821806959, 'tol': 0.0063003195733863536, 'fit_intercept': False, 'positive': False}. Best is trial 29 with value: 0.13466272189140427.\n",
      "[I 2025-05-31 02:34:56,657] Trial 127 finished with value: 0.13466175387921486 and parameters: {'alpha': 97.07816785848044, 'tol': 0.004388122264480085, 'fit_intercept': False, 'positive': False}. Best is trial 29 with value: 0.13466272189140427.\n",
      "[I 2025-05-31 02:34:56,659] Trial 126 finished with value: 0.13465591578430305 and parameters: {'alpha': 80.36503519641643, 'tol': 0.004162130945513116, 'fit_intercept': False, 'positive': False}. Best is trial 29 with value: 0.13466272189140427.\n",
      "[I 2025-05-31 02:34:58,792] Trial 128 finished with value: 0.13465562948819776 and parameters: {'alpha': 79.5752432741696, 'tol': 0.004273624946365983, 'fit_intercept': False, 'positive': False}. Best is trial 29 with value: 0.13466272189140427.\n",
      "[I 2025-05-31 02:34:59,947] Trial 129 finished with value: 0.13466265898119353 and parameters: {'alpha': 99.7805785104585, 'tol': 0.004675761638652743, 'fit_intercept': False, 'positive': False}. Best is trial 29 with value: 0.13466272189140427.\n",
      "[I 2025-05-31 02:34:59,998] Trial 131 finished with value: 0.13466234735268828 and parameters: {'alpha': 98.84653252763704, 'tol': 0.004580142946895912, 'fit_intercept': False, 'positive': False}. Best is trial 29 with value: 0.13466272189140427.\n",
      "[I 2025-05-31 02:35:00,182] Trial 130 finished with value: 0.1346622500930924 and parameters: {'alpha': 98.55579402037638, 'tol': 0.004778127721430134, 'fit_intercept': False, 'positive': False}. Best is trial 29 with value: 0.13466272189140427.\n",
      "[I 2025-05-31 02:35:02,311] Trial 132 finished with value: 0.13466189356293135 and parameters: {'alpha': 97.49315750372213, 'tol': 0.006316340964504084, 'fit_intercept': False, 'positive': False}. Best is trial 29 with value: 0.13466272189140427.\n",
      "[I 2025-05-31 02:35:03,132] Trial 133 finished with value: 0.13466205700453743 and parameters: {'alpha': 97.97968375160542, 'tol': 0.004566137376153523, 'fit_intercept': False, 'positive': False}. Best is trial 29 with value: 0.13466272189140427.\n",
      "[I 2025-05-31 02:35:03,323] Trial 134 finished with value: 0.1346588111875449 and parameters: {'alpha': 88.50451691876377, 'tol': 0.005526818476469669, 'fit_intercept': False, 'positive': False}. Best is trial 29 with value: 0.13466272189140427.\n",
      "[I 2025-05-31 02:35:03,493] Trial 135 finished with value: 0.13466013748054306 and parameters: {'alpha': 92.32953205070702, 'tol': 0.005649413261106781, 'fit_intercept': False, 'positive': False}. Best is trial 29 with value: 0.13466272189140427.\n",
      "[I 2025-05-31 02:35:05,463] Trial 136 finished with value: 0.13466258864876257 and parameters: {'alpha': 99.56943737383945, 'tol': 0.005304716050112124, 'fit_intercept': False, 'positive': False}. Best is trial 29 with value: 0.13466272189140427.\n",
      "[I 2025-05-31 02:35:06,419] Trial 137 finished with value: 0.1346611298748972 and parameters: {'alpha': 95.23338357754571, 'tol': 0.0049298901742778475, 'fit_intercept': False, 'positive': False}. Best is trial 29 with value: 0.13466272189140427.\n",
      "[I 2025-05-31 02:35:06,443] Trial 138 finished with value: 0.13466247550110688 and parameters: {'alpha': 99.23017130217393, 'tol': 0.00555370090554479, 'fit_intercept': False, 'positive': False}. Best is trial 29 with value: 0.13466272189140427.\n",
      "[I 2025-05-31 02:35:07,276] Trial 139 finished with value: 0.13287324202610243 and parameters: {'alpha': 79.2301723049811, 'tol': 0.0037199945460801563, 'fit_intercept': False, 'positive': True}. Best is trial 29 with value: 0.13466272189140427.\n",
      "[I 2025-05-31 02:35:08,761] Trial 140 finished with value: 0.13466241085925384 and parameters: {'alpha': 99.03657223828034, 'tol': 0.0031159811962880933, 'fit_intercept': False, 'positive': False}. Best is trial 29 with value: 0.13466272189140427.\n",
      "[I 2025-05-31 02:35:09,593] Trial 141 finished with value: 0.13466251655533745 and parameters: {'alpha': 99.35321168750593, 'tol': 0.003234953643359438, 'fit_intercept': False, 'positive': False}. Best is trial 29 with value: 0.13466272189140427.\n",
      "[I 2025-05-31 02:35:09,622] Trial 142 finished with value: 0.13465455337826882 and parameters: {'alpha': 76.62986805678985, 'tol': 0.0027177795345634855, 'fit_intercept': False, 'positive': False}. Best is trial 29 with value: 0.13466272189140427.\n",
      "[I 2025-05-31 02:35:10,607] Trial 143 finished with value: 0.13465589377787657 and parameters: {'alpha': 80.30423372496732, 'tol': 0.003140013148852277, 'fit_intercept': False, 'positive': False}. Best is trial 29 with value: 0.13466272189140427.\n",
      "[I 2025-05-31 02:35:12,171] Trial 144 finished with value: 0.1346625194450948 and parameters: {'alpha': 99.3618748424793, 'tol': 0.005984880312796903, 'fit_intercept': False, 'positive': False}. Best is trial 29 with value: 0.13466272189140427.\n",
      "[I 2025-05-31 02:35:12,825] Trial 145 finished with value: 0.134661914349791 and parameters: {'alpha': 97.55497779150748, 'tol': 0.003950876452589739, 'fit_intercept': False, 'positive': False}. Best is trial 29 with value: 0.13466272189140427.\n",
      "[I 2025-05-31 02:35:12,848] Trial 146 finished with value: 0.13466272038702426 and parameters: {'alpha': 99.96508110736718, 'tol': 0.005918993522488017, 'fit_intercept': False, 'positive': False}. Best is trial 29 with value: 0.13466272189140427.\n",
      "[I 2025-05-31 02:35:14,156] Trial 147 finished with value: 0.1346622073379495 and parameters: {'alpha': 98.42810248667902, 'tol': 0.005220068952709715, 'fit_intercept': False, 'positive': False}. Best is trial 29 with value: 0.13466272189140427.\n",
      "[I 2025-05-31 02:35:15,474] Trial 148 finished with value: 0.13466265114582046 and parameters: {'alpha': 99.75704671720922, 'tol': 0.0062729614731260805, 'fit_intercept': False, 'positive': False}. Best is trial 29 with value: 0.13466272189140427.\n",
      "[I 2025-05-31 02:35:15,835] Trial 149 finished with value: 0.13466225529798864 and parameters: {'alpha': 98.57134370170235, 'tol': 0.00494981551732512, 'fit_intercept': False, 'positive': False}. Best is trial 29 with value: 0.13466272189140427.\n",
      "[I 2025-05-31 02:35:16,001] Trial 150 finished with value: 0.13465550421377775 and parameters: {'alpha': 79.23047903271546, 'tol': 0.005693286802454717, 'fit_intercept': False, 'positive': False}. Best is trial 29 with value: 0.13466272189140427.\n",
      "[I 2025-05-31 02:35:17,454] Trial 151 finished with value: 0.13465511176483633 and parameters: {'alpha': 78.15365620008203, 'tol': 0.005440217657073126, 'fit_intercept': False, 'positive': False}. Best is trial 29 with value: 0.13466272189140427.\n",
      "[I 2025-05-31 02:35:18,607] Trial 152 finished with value: 0.13466265861554008 and parameters: {'alpha': 99.77948029800208, 'tol': 0.007889026774155651, 'fit_intercept': False, 'positive': False}. Best is trial 29 with value: 0.13466272189140427.\n",
      "[I 2025-05-31 02:35:19,095] Trial 154 finished with value: 0.1346626154277355 and parameters: {'alpha': 99.6498060879387, 'tol': 0.004569559154043579, 'fit_intercept': False, 'positive': False}. Best is trial 29 with value: 0.13466272189140427.\n",
      "[I 2025-05-31 02:35:19,115] Trial 153 finished with value: 0.1346565290502583 and parameters: {'alpha': 82.06573192658487, 'tol': 0.007528050421134372, 'fit_intercept': False, 'positive': False}. Best is trial 29 with value: 0.13466272189140427.\n",
      "[I 2025-05-31 02:35:20,741] Trial 155 finished with value: 0.1346622521535556 and parameters: {'alpha': 98.56194954938623, 'tol': 0.007636704256021918, 'fit_intercept': False, 'positive': False}. Best is trial 29 with value: 0.13466272189140427.\n",
      "[I 2025-05-31 02:35:22,329] Trial 156 finished with value: 0.1346582002959432 and parameters: {'alpha': 86.7635815611242, 'tol': 0.0068624368869083085, 'fit_intercept': False, 'positive': False}. Best is trial 29 with value: 0.13466272189140427.\n",
      "[I 2025-05-31 02:35:22,362] Trial 157 finished with value: 0.1346601091597987 and parameters: {'alpha': 92.2471945510434, 'tol': 0.007548976098333284, 'fit_intercept': False, 'positive': False}. Best is trial 29 with value: 0.13466272189140427.\n",
      "[I 2025-05-31 02:35:22,381] Trial 158 finished with value: 0.13466126448813437 and parameters: {'alpha': 95.6301017265995, 'tol': 0.008185264675810197, 'fit_intercept': False, 'positive': False}. Best is trial 29 with value: 0.13466272189140427.\n",
      "[I 2025-05-31 02:35:23,996] Trial 159 finished with value: 0.13465717691076529 and parameters: {'alpha': 83.87575384515506, 'tol': 0.007764214995409201, 'fit_intercept': False, 'positive': False}. Best is trial 29 with value: 0.13466272189140427.\n",
      "[I 2025-05-31 02:35:25,552] Trial 160 finished with value: 0.1346610787598879 and parameters: {'alpha': 95.0829212651453, 'tol': 0.009265640619098429, 'fit_intercept': False, 'positive': False}. Best is trial 29 with value: 0.13466272189140427.\n",
      "[I 2025-05-31 02:35:25,574] Trial 161 finished with value: 0.13466204265127063 and parameters: {'alpha': 97.93691621799223, 'tol': 0.007778617640072, 'fit_intercept': False, 'positive': False}. Best is trial 29 with value: 0.13466272189140427.\n",
      "[I 2025-05-31 02:35:25,582] Trial 162 finished with value: 0.1346624199217272 and parameters: {'alpha': 99.06370402293297, 'tol': 0.0060134786876748225, 'fit_intercept': False, 'positive': False}. Best is trial 29 with value: 0.13466272189140427.\n",
      "[I 2025-05-31 02:35:27,072] Trial 163 finished with value: 0.13466267102195406 and parameters: {'alpha': 99.81674496561631, 'tol': 0.005360653084475933, 'fit_intercept': False, 'positive': False}. Best is trial 29 with value: 0.13466272189140427.\n",
      "[I 2025-05-31 02:35:28,815] Trial 164 finished with value: 0.13466246954525266 and parameters: {'alpha': 99.21232697435784, 'tol': 0.005115540292670581, 'fit_intercept': False, 'positive': False}. Best is trial 29 with value: 0.13466272189140427.\n",
      "[I 2025-05-31 02:35:28,832] Trial 165 finished with value: 0.13466259517988466 and parameters: {'alpha': 99.58903589165334, 'tol': 0.005743263526341014, 'fit_intercept': False, 'positive': False}. Best is trial 29 with value: 0.13466272189140427.\n",
      "[I 2025-05-31 02:35:28,853] Trial 166 finished with value: 0.13466270687794749 and parameters: {'alpha': 99.92447837971838, 'tol': 0.004203424721832238, 'fit_intercept': False, 'positive': False}. Best is trial 29 with value: 0.13466272189140427.\n",
      "[I 2025-05-31 02:35:30,600] Trial 167 finished with value: 0.13466270866915686 and parameters: {'alpha': 99.92986160369024, 'tol': 0.005802871838576801, 'fit_intercept': False, 'positive': False}. Best is trial 29 with value: 0.13466272189140427.\n",
      "[I 2025-05-31 02:35:31,905] Trial 169 finished with value: 0.13466268196440423 and parameters: {'alpha': 99.84961742173476, 'tol': 0.004448549910560262, 'fit_intercept': False, 'positive': False}. Best is trial 29 with value: 0.13466272189140427.\n",
      "[I 2025-05-31 02:35:31,915] Trial 168 finished with value: 0.13466258865136804 and parameters: {'alpha': 99.56944519194826, 'tol': 0.004087253156411954, 'fit_intercept': False, 'positive': False}. Best is trial 29 with value: 0.13466272189140427.\n",
      "[I 2025-05-31 02:35:32,098] Trial 170 finished with value: 0.13466155175932998 and parameters: {'alpha': 96.47900799407351, 'tol': 0.003488772303187459, 'fit_intercept': False, 'positive': False}. Best is trial 29 with value: 0.13466272189140427.\n",
      "[I 2025-05-31 02:35:33,889] Trial 171 finished with value: 0.12795228523076727 and parameters: {'alpha': 99.0260907932579, 'tol': 0.00533186008293317, 'fit_intercept': True, 'positive': False}. Best is trial 29 with value: 0.13466272189140427.\n",
      "[I 2025-05-31 02:35:35,044] Trial 172 finished with value: 0.1346569865500801 and parameters: {'alpha': 83.34247384914678, 'tol': 0.003760864357668682, 'fit_intercept': False, 'positive': False}. Best is trial 29 with value: 0.13466272189140427.\n",
      "[I 2025-05-31 02:35:35,050] Trial 173 finished with value: 0.13466174495539548 and parameters: {'alpha': 97.05168131830956, 'tol': 0.007106864749973498, 'fit_intercept': False, 'positive': False}. Best is trial 29 with value: 0.13466272189140427.\n",
      "[I 2025-05-31 02:35:35,409] Trial 174 finished with value: 0.12794965466057698 and parameters: {'alpha': 95.76561021837631, 'tol': 0.0036926440578065912, 'fit_intercept': True, 'positive': False}. Best is trial 29 with value: 0.13466272189140427.\n",
      "[I 2025-05-31 02:35:38,096] Trial 175 finished with value: 0.12690817946740734 and parameters: {'alpha': 72.14422895031664, 'tol': 0.005076668113294355, 'fit_intercept': True, 'positive': True}. Best is trial 29 with value: 0.13466272189140427.\n",
      "[I 2025-05-31 02:35:38,136] Trial 176 finished with value: 0.1346625448251415 and parameters: {'alpha': 99.4379753471543, 'tol': 0.004684484990042289, 'fit_intercept': False, 'positive': False}. Best is trial 29 with value: 0.13466272189140427.\n",
      "[I 2025-05-31 02:35:38,496] Trial 178 finished with value: 0.13466228038781877 and parameters: {'alpha': 98.64631462832843, 'tol': 0.005352516093584752, 'fit_intercept': False, 'positive': False}. Best is trial 29 with value: 0.13466272189140427.\n",
      "[I 2025-05-31 02:35:38,678] Trial 177 finished with value: 0.1269075382851849 and parameters: {'alpha': 58.225378526497266, 'tol': 0.009907831861823764, 'fit_intercept': True, 'positive': True}. Best is trial 29 with value: 0.13466272189140427.\n",
      "[I 2025-05-31 02:35:40,907] Trial 179 finished with value: 0.13466231623560415 and parameters: {'alpha': 98.75347396994519, 'tol': 0.004898228394042673, 'fit_intercept': False, 'positive': False}. Best is trial 29 with value: 0.13466272189140427.\n",
      "[I 2025-05-31 02:35:41,407] Trial 180 finished with value: 0.1328743316651525 and parameters: {'alpha': 90.43187878510975, 'tol': 0.005889651637497611, 'fit_intercept': False, 'positive': True}. Best is trial 29 with value: 0.13466272189140427.\n",
      "[I 2025-05-31 02:35:41,869] Trial 182 finished with value: 0.1346626720797635 and parameters: {'alpha': 99.81992254763462, 'tol': 0.004752701195298958, 'fit_intercept': False, 'positive': False}. Best is trial 29 with value: 0.13466272189140427.\n",
      "[I 2025-05-31 02:35:41,898] Trial 181 finished with value: 0.13287506366127175 and parameters: {'alpha': 97.96026864410226, 'tol': 0.005498674448886295, 'fit_intercept': False, 'positive': True}. Best is trial 29 with value: 0.13466272189140427.\n",
      "[I 2025-05-31 02:35:44,174] Trial 183 finished with value: 0.13466257528741302 and parameters: {'alpha': 99.5293480154775, 'tol': 0.003786524772988599, 'fit_intercept': False, 'positive': False}. Best is trial 29 with value: 0.13466272189140427.\n",
      "[I 2025-05-31 02:35:44,662] Trial 184 finished with value: 0.1346572585878049 and parameters: {'alpha': 84.10493584669464, 'tol': 0.00412657862081866, 'fit_intercept': False, 'positive': False}. Best is trial 29 with value: 0.13466272189140427.\n",
      "[I 2025-05-31 02:35:45,184] Trial 186 finished with value: 0.1346622461089786 and parameters: {'alpha': 98.54389215178482, 'tol': 0.003790834425732049, 'fit_intercept': False, 'positive': False}. Best is trial 29 with value: 0.13466272189140427.\n",
      "[I 2025-05-31 02:35:45,194] Trial 185 finished with value: 0.13466267840414375 and parameters: {'alpha': 99.83892144601275, 'tol': 0.0037524900617820663, 'fit_intercept': False, 'positive': False}. Best is trial 29 with value: 0.13466272189140427.\n",
      "[I 2025-05-31 02:35:47,465] Trial 187 finished with value: 0.13465765382668804 and parameters: {'alpha': 85.21712056427627, 'tol': 0.005756325873660523, 'fit_intercept': False, 'positive': False}. Best is trial 29 with value: 0.13466272189140427.\n",
      "[I 2025-05-31 02:35:47,992] Trial 188 finished with value: 0.13466233908381953 and parameters: {'alpha': 98.82180001307981, 'tol': 0.005279213287788925, 'fit_intercept': False, 'positive': False}. Best is trial 29 with value: 0.13466272189140427.\n",
      "[I 2025-05-31 02:35:48,512] Trial 189 finished with value: 0.13466236322393074 and parameters: {'alpha': 98.89401152540081, 'tol': 0.004308539645907284, 'fit_intercept': False, 'positive': False}. Best is trial 29 with value: 0.13466272189140427.\n",
      "[I 2025-05-31 02:35:48,541] Trial 190 finished with value: 0.13466182809618804 and parameters: {'alpha': 97.29856750597739, 'tol': 0.00306776185368595, 'fit_intercept': False, 'positive': False}. Best is trial 29 with value: 0.13466272189140427.\n",
      "[I 2025-05-31 02:35:50,705] Trial 191 finished with value: 0.13466235143017133 and parameters: {'alpha': 98.85872942426079, 'tol': 0.007233100803241497, 'fit_intercept': False, 'positive': False}. Best is trial 29 with value: 0.13466272189140427.\n",
      "[I 2025-05-31 02:35:51,823] Trial 193 finished with value: 0.13466267911829685 and parameters: {'alpha': 99.84106691287862, 'tol': 0.002883832287007142, 'fit_intercept': False, 'positive': False}. Best is trial 29 with value: 0.13466272189140427.\n",
      "[I 2025-05-31 02:35:51,838] Trial 192 finished with value: 0.12690581913924662 and parameters: {'alpha': 21.03027460847483, 'tol': 0.004836350012165714, 'fit_intercept': True, 'positive': True}. Best is trial 29 with value: 0.13466272189140427.\n",
      "[I 2025-05-31 02:35:51,868] Trial 194 finished with value: 0.1346622731159541 and parameters: {'alpha': 98.6245830445551, 'tol': 0.005925679049516774, 'fit_intercept': False, 'positive': False}. Best is trial 29 with value: 0.13466272189140427.\n",
      "[I 2025-05-31 02:35:53,845] Trial 195 finished with value: 0.13466243762416916 and parameters: {'alpha': 99.11671194529364, 'tol': 0.0034585544926606423, 'fit_intercept': False, 'positive': False}. Best is trial 29 with value: 0.13466272189140427.\n",
      "[I 2025-05-31 02:35:55,017] Trial 197 finished with value: 0.1346625907055613 and parameters: {'alpha': 99.57560921116423, 'tol': 0.0028301871003967205, 'fit_intercept': False, 'positive': False}. Best is trial 29 with value: 0.13466272189140427.\n",
      "[I 2025-05-31 02:35:55,033] Trial 196 finished with value: 0.13466034175478847 and parameters: {'alpha': 92.92429026891713, 'tol': 0.0016944480045410245, 'fit_intercept': False, 'positive': False}. Best is trial 29 with value: 0.13466272189140427.\n",
      "[I 2025-05-31 02:35:55,727] Trial 198 finished with value: 0.13287465851687025 and parameters: {'alpha': 93.7931335442461, 'tol': 0.0028892585585926214, 'fit_intercept': False, 'positive': True}. Best is trial 29 with value: 0.13466272189140427.\n",
      "[I 2025-05-31 02:35:57,335] Trial 199 finished with value: 0.13466218616073802 and parameters: {'alpha': 98.36488143403547, 'tol': 0.0010776570061059691, 'fit_intercept': False, 'positive': False}. Best is trial 29 with value: 0.13466272189140427.\n",
      "[I 2025-05-31 02:35:57,998] Trial 200 finished with value: 0.13465507092551315 and parameters: {'alpha': 78.04187844341743, 'tol': 0.004092621470459134, 'fit_intercept': False, 'positive': False}. Best is trial 29 with value: 0.13466272189140427.\n",
      "[I 2025-05-31 02:35:58,835] Trial 201 finished with value: 0.13287459666645465 and parameters: {'alpha': 93.1570397127535, 'tol': 0.0030340647484636265, 'fit_intercept': False, 'positive': True}. Best is trial 29 with value: 0.13466272189140427.\n",
      "[I 2025-05-31 02:35:59,025] Trial 202 finished with value: 0.1346626108573635 and parameters: {'alpha': 99.63608754722038, 'tol': 0.0018101056785562587, 'fit_intercept': False, 'positive': False}. Best is trial 29 with value: 0.13466272189140427.\n",
      "[I 2025-05-31 02:36:00,373] Trial 203 finished with value: 0.13465648436268646 and parameters: {'alpha': 81.94139164832785, 'tol': 0.004332726239163152, 'fit_intercept': False, 'positive': False}. Best is trial 29 with value: 0.13466272189140427.\n",
      "[I 2025-05-31 02:36:01,337] Trial 204 finished with value: 0.13466226844660154 and parameters: {'alpha': 98.61063001669771, 'tol': 0.004009856138641949, 'fit_intercept': False, 'positive': False}. Best is trial 29 with value: 0.13466272189140427.\n",
      "[I 2025-05-31 02:36:01,995] Trial 205 finished with value: 0.13465618062972448 and parameters: {'alpha': 81.09800134311838, 'tol': 0.004221284632099625, 'fit_intercept': False, 'positive': False}. Best is trial 29 with value: 0.13466272189140427.\n",
      "[I 2025-05-31 02:36:02,493] Trial 206 finished with value: 0.13465518392831144 and parameters: {'alpha': 78.35129694590908, 'tol': 0.004668519478164698, 'fit_intercept': False, 'positive': False}. Best is trial 29 with value: 0.13466272189140427.\n",
      "[I 2025-05-31 02:36:03,803] Trial 207 finished with value: 0.1346625316800812 and parameters: {'alpha': 99.39855753547616, 'tol': 0.00445895089649079, 'fit_intercept': False, 'positive': False}. Best is trial 29 with value: 0.13466272189140427.\n",
      "[I 2025-05-31 02:36:04,477] Trial 208 finished with value: 0.13466266483903241 and parameters: {'alpha': 99.79817280284888, 'tol': 0.004067038573445933, 'fit_intercept': False, 'positive': False}. Best is trial 29 with value: 0.13466272189140427.\n",
      "[I 2025-05-31 02:36:05,165] Trial 209 finished with value: 0.1346626637676988 and parameters: {'alpha': 99.79495490157532, 'tol': 0.0060592448641034035, 'fit_intercept': False, 'positive': False}. Best is trial 29 with value: 0.13466272189140427.\n",
      "[I 2025-05-31 02:36:05,973] Trial 210 finished with value: 0.13466258705877518 and parameters: {'alpha': 99.5646664116569, 'tol': 0.00536912246868892, 'fit_intercept': False, 'positive': False}. Best is trial 29 with value: 0.13466272189140427.\n",
      "[I 2025-05-31 02:36:07,072] Trial 211 finished with value: 0.13466260937184604 and parameters: {'alpha': 99.63162875872608, 'tol': 0.006716447547808339, 'fit_intercept': False, 'positive': False}. Best is trial 29 with value: 0.13466272189140427.\n",
      "[I 2025-05-31 02:36:07,569] Trial 212 finished with value: 0.13466237720382443 and parameters: {'alpha': 98.93584068404827, 'tol': 0.004509923739060733, 'fit_intercept': False, 'positive': False}. Best is trial 29 with value: 0.13466272189140427.\n",
      "[I 2025-05-31 02:36:08,544] Trial 213 finished with value: 0.13466251906401366 and parameters: {'alpha': 99.36073238684946, 'tol': 0.007512340604999507, 'fit_intercept': False, 'positive': False}. Best is trial 29 with value: 0.13466272189140427.\n",
      "[I 2025-05-31 02:36:09,244] Trial 214 finished with value: 0.13466264918980045 and parameters: {'alpha': 99.75117262561412, 'tol': 0.007259333624470838, 'fit_intercept': False, 'positive': False}. Best is trial 29 with value: 0.13466272189140427.\n",
      "[I 2025-05-31 02:36:10,369] Trial 215 finished with value: 0.13466145091045179 and parameters: {'alpha': 96.18063608121064, 'tol': 0.006753219886034723, 'fit_intercept': False, 'positive': False}. Best is trial 29 with value: 0.13466272189140427.\n",
      "[I 2025-05-31 02:36:10,855] Trial 216 finished with value: 0.13466272972080226 and parameters: {'alpha': 99.99313881725304, 'tol': 0.006793066046677392, 'fit_intercept': False, 'positive': False}. Best is trial 216 with value: 0.13466272972080226.\n",
      "[I 2025-05-31 02:36:11,696] Trial 217 finished with value: 0.13466262896093367 and parameters: {'alpha': 99.69043249307951, 'tol': 0.005145442940496641, 'fit_intercept': False, 'positive': False}. Best is trial 216 with value: 0.13466272972080226.\n",
      "[I 2025-05-31 02:36:12,534] Trial 218 finished with value: 0.13466256233888388 and parameters: {'alpha': 99.4905039828117, 'tol': 0.006198419543942723, 'fit_intercept': False, 'positive': False}. Best is trial 216 with value: 0.13466272972080226.\n",
      "[I 2025-05-31 02:36:13,662] Trial 219 finished with value: 0.134657893833577 and parameters: {'alpha': 85.89506526171925, 'tol': 0.006170416039032848, 'fit_intercept': False, 'positive': False}. Best is trial 216 with value: 0.13466272972080226.\n",
      "[I 2025-05-31 02:36:14,170] Trial 220 finished with value: 0.1346613984547867 and parameters: {'alpha': 96.0255932321521, 'tol': 0.0075147480085485385, 'fit_intercept': False, 'positive': False}. Best is trial 216 with value: 0.13466272972080226.\n",
      "[I 2025-05-31 02:36:14,844] Trial 221 finished with value: 0.13462279584687634 and parameters: {'alpha': 2.4818649171791876, 'tol': 0.0002249324086566291, 'fit_intercept': False, 'positive': False}. Best is trial 216 with value: 0.13466272972080226.\n",
      "[I 2025-05-31 02:36:15,958] Trial 222 finished with value: 0.1346626238676937 and parameters: {'alpha': 99.6751418361744, 'tol': 0.007800151473023379, 'fit_intercept': False, 'positive': False}. Best is trial 216 with value: 0.13466272972080226.\n",
      "[I 2025-05-31 02:36:17,242] Trial 223 finished with value: 0.12790576009855792 and parameters: {'alpha': 45.25523040790975, 'tol': 0.004204552108354296, 'fit_intercept': True, 'positive': False}. Best is trial 216 with value: 0.13466272972080226.\n",
      "[I 2025-05-31 02:36:17,244] Trial 224 finished with value: 0.13466165693710033 and parameters: {'alpha': 96.79059997361901, 'tol': 0.006728443781208825, 'fit_intercept': False, 'positive': False}. Best is trial 216 with value: 0.13466272972080226.\n",
      "[I 2025-05-31 02:36:18,281] Trial 225 finished with value: 0.12791647637849532 and parameters: {'alpha': 56.96144239136838, 'tol': 0.0024896964119696446, 'fit_intercept': True, 'positive': False}. Best is trial 216 with value: 0.13466272972080226.\n",
      "[I 2025-05-31 02:36:19,247] Trial 226 finished with value: 0.13465560203287733 and parameters: {'alpha': 79.49964142830163, 'tol': 0.00625821423035649, 'fit_intercept': False, 'positive': False}. Best is trial 216 with value: 0.13466272972080226.\n",
      "[I 2025-05-31 02:36:20,407] Trial 227 finished with value: 0.1346621748168728 and parameters: {'alpha': 98.33102337252542, 'tol': 0.006483794943002168, 'fit_intercept': False, 'positive': False}. Best is trial 216 with value: 0.13466272972080226.\n",
      "[I 2025-05-31 02:36:20,410] Trial 228 finished with value: 0.1346625194638146 and parameters: {'alpha': 99.36193096322079, 'tol': 0.0026156319804744393, 'fit_intercept': False, 'positive': False}. Best is trial 216 with value: 0.13466272972080226.\n",
      "[I 2025-05-31 02:36:21,431] Trial 229 finished with value: 0.13466266016517844 and parameters: {'alpha': 99.78413455513979, 'tol': 0.0063118989227714944, 'fit_intercept': False, 'positive': False}. Best is trial 216 with value: 0.13466272972080226.\n",
      "[I 2025-05-31 02:36:22,573] Trial 230 finished with value: 0.13466243644430423 and parameters: {'alpha': 99.1131785943703, 'tol': 0.003843255348597296, 'fit_intercept': False, 'positive': False}. Best is trial 216 with value: 0.13466272972080226.\n",
      "[I 2025-05-31 02:36:23,675] Trial 232 finished with value: 0.13466250189941667 and parameters: {'alpha': 99.30927999642024, 'tol': 0.006431993131051808, 'fit_intercept': False, 'positive': False}. Best is trial 216 with value: 0.13466272972080226.\n",
      "[I 2025-05-31 02:36:23,853] Trial 231 finished with value: 0.13466199030392742 and parameters: {'alpha': 97.78100759336108, 'tol': 0.0057502538544595815, 'fit_intercept': False, 'positive': False}. Best is trial 216 with value: 0.13466272972080226.\n",
      "[I 2025-05-31 02:36:24,693] Trial 233 finished with value: 0.13466215865192194 and parameters: {'alpha': 98.2827844397904, 'tol': 0.006232244008027779, 'fit_intercept': False, 'positive': False}. Best is trial 216 with value: 0.13466272972080226.\n",
      "[I 2025-05-31 02:36:25,676] Trial 234 finished with value: 0.13466248788811858 and parameters: {'alpha': 99.26728846884994, 'tol': 0.006092816835343868, 'fit_intercept': False, 'positive': False}. Best is trial 216 with value: 0.13466272972080226.\n",
      "[I 2025-05-31 02:36:26,800] Trial 235 finished with value: 0.13466161828586 and parameters: {'alpha': 96.67604558801894, 'tol': 0.006442627835486257, 'fit_intercept': False, 'positive': False}. Best is trial 216 with value: 0.13466272972080226.\n",
      "[I 2025-05-31 02:36:27,301] Trial 236 finished with value: 0.12794505868805645 and parameters: {'alpha': 90.1382966698439, 'tol': 0.007430700445683728, 'fit_intercept': True, 'positive': False}. Best is trial 216 with value: 0.13466272972080226.\n",
      "[I 2025-05-31 02:36:28,275] Trial 237 finished with value: 0.13466253775340775 and parameters: {'alpha': 99.41676864648502, 'tol': 0.007299256430386062, 'fit_intercept': False, 'positive': False}. Best is trial 216 with value: 0.13466272972080226.\n",
      "[I 2025-05-31 02:36:28,951] Trial 238 finished with value: 0.13466203601458143 and parameters: {'alpha': 97.91714398309969, 'tol': 0.008533494466503828, 'fit_intercept': False, 'positive': False}. Best is trial 216 with value: 0.13466272972080226.\n",
      "[I 2025-05-31 02:36:30,043] Trial 239 finished with value: 0.13466261324913376 and parameters: {'alpha': 99.64326664091266, 'tol': 0.00803287003622108, 'fit_intercept': False, 'positive': False}. Best is trial 216 with value: 0.13466272972080226.\n",
      "[I 2025-05-31 02:36:30,523] Trial 240 finished with value: 0.13466258539702536 and parameters: {'alpha': 99.55968022326212, 'tol': 0.003537902038415079, 'fit_intercept': False, 'positive': False}. Best is trial 216 with value: 0.13466272972080226.\n",
      "[I 2025-05-31 02:36:31,171] Trial 241 finished with value: 0.13465382219851293 and parameters: {'alpha': 74.64913179812531, 'tol': 0.009418793913061937, 'fit_intercept': False, 'positive': False}. Best is trial 216 with value: 0.13466272972080226.\n",
      "[I 2025-05-31 02:36:32,310] Trial 242 finished with value: 0.13466229953301545 and parameters: {'alpha': 98.70353889417297, 'tol': 0.0033156203932432635, 'fit_intercept': False, 'positive': False}. Best is trial 216 with value: 0.13466272972080226.\n",
      "[I 2025-05-31 02:36:33,282] Trial 243 finished with value: 0.13466241398720666 and parameters: {'alpha': 99.04593653060267, 'tol': 0.0026501421209207668, 'fit_intercept': False, 'positive': False}. Best is trial 216 with value: 0.13466272972080226.\n",
      "[I 2025-05-31 02:36:33,797] Trial 244 finished with value: 0.13466223061690846 and parameters: {'alpha': 98.49761807480293, 'tol': 0.004296396632240276, 'fit_intercept': False, 'positive': False}. Best is trial 216 with value: 0.13466272972080226.\n",
      "[I 2025-05-31 02:36:34,321] Trial 245 finished with value: 0.13466261401397658 and parameters: {'alpha': 99.64556242671851, 'tol': 0.004967397251591447, 'fit_intercept': False, 'positive': False}. Best is trial 216 with value: 0.13466272972080226.\n",
      "[I 2025-05-31 02:36:35,479] Trial 246 finished with value: 0.13466252485962021 and parameters: {'alpha': 99.37810783980449, 'tol': 0.004641449509268329, 'fit_intercept': False, 'positive': False}. Best is trial 216 with value: 0.13466272972080226.\n",
      "[I 2025-05-31 02:36:36,318] Trial 247 finished with value: 0.13466266427994902 and parameters: {'alpha': 99.79649351154723, 'tol': 0.004777492676060698, 'fit_intercept': False, 'positive': False}. Best is trial 216 with value: 0.13466272972080226.\n",
      "[I 2025-05-31 02:36:36,994] Trial 248 finished with value: 0.13465724555826802 and parameters: {'alpha': 84.06836061967496, 'tol': 0.0052428315547924835, 'fit_intercept': False, 'positive': False}. Best is trial 216 with value: 0.13466272972080226.\n",
      "[I 2025-05-31 02:36:37,014] Trial 249 finished with value: 0.1346575446776476 and parameters: {'alpha': 84.90945419987075, 'tol': 0.005253685939326997, 'fit_intercept': False, 'positive': False}. Best is trial 216 with value: 0.13466272972080226.\n"
     ]
    }
   ],
   "source": [
    "def objective(trial):    \n",
    "    params = {\n",
    "        \"random_state\": CFG.seed,\n",
    "        \"alpha\": trial.suggest_float(\"alpha\", 0, 100),\n",
    "        \"tol\": trial.suggest_float(\"tol\", 1e-6, 1e-2),\n",
    "        \"fit_intercept\": trial.suggest_categorical(\"fit_intercept\", [True, False]),\n",
    "        \"positive\": trial.suggest_categorical(\"positive\", [True, False])\n",
    "    }\n",
    "\n",
    "    trainer = Trainer(\n",
    "        Ridge(**params),\n",
    "        cv=KFold(n_splits=5, shuffle=False),\n",
    "        metric=pearsonr,\n",
    "        task=\"regression\",\n",
    "        verbose=False\n",
    "    )\n",
    "    trainer.fit(X, y)\n",
    "    \n",
    "    return pearsonr(trainer.oof_preds, y)\n",
    "\n",
    "if CFG.run_optuna:\n",
    "    sampler = optuna.samplers.TPESampler(seed=CFG.seed, multivariate=True)\n",
    "    study = optuna.create_study(direction=\"maximize\", sampler=sampler)\n",
    "    study.optimize(objective, n_trials=CFG.n_optuna_trials, n_jobs=-1, catch=(ValueError,))\n",
    "    best_params = study.best_params\n",
    "\n",
    "    ridge_params = {\n",
    "        \"random_state\": CFG.seed,\n",
    "        \"alpha\": best_params[\"alpha\"],\n",
    "        \"tol\": best_params[\"tol\"],\n",
    "        \"fit_intercept\": best_params[\"fit_intercept\"],\n",
    "        \"positive\": best_params[\"positive\"]\n",
    "    }\n",
    "else:\n",
    "    ridge_params = {\n",
    "        \"random_state\": CFG.seed\n",
    "    }"
   ]
  },
  {
   "cell_type": "code",
   "execution_count": 19,
   "id": "50e343c9",
   "metadata": {
    "execution": {
     "iopub.execute_input": "2025-05-31T02:36:37.047944Z",
     "iopub.status.busy": "2025-05-31T02:36:37.047654Z",
     "iopub.status.idle": "2025-05-31T02:36:37.959804Z",
     "shell.execute_reply": "2025-05-31T02:36:37.958387Z"
    },
    "papermill": {
     "duration": 0.928061,
     "end_time": "2025-05-31T02:36:37.961453",
     "exception": false,
     "start_time": "2025-05-31T02:36:37.033392",
     "status": "completed"
    },
    "tags": []
   },
   "outputs": [
    {
     "name": "stdout",
     "output_type": "stream",
     "text": [
      "Training Ridge\n",
      "\n",
      "--- Fold 0 - pearsonr: 0.192944 - Time: 0.03 s\n",
      "--- Fold 1 - pearsonr: 0.169549 - Time: 0.03 s\n",
      "--- Fold 2 - pearsonr: 0.102754 - Time: 0.03 s\n",
      "--- Fold 3 - pearsonr: 0.186305 - Time: 0.03 s\n",
      "--- Fold 4 - pearsonr: 0.105619 - Time: 0.03 s\n",
      "\n",
      "------ Overall pearsonr: 0.134663 - Mean pearsonr: 0.151434 ± 0.039334 - Time: 0.87 s\n"
     ]
    }
   ],
   "source": [
    "ridge_trainer = Trainer(\n",
    "    Ridge(**ridge_params),\n",
    "    cv=KFold(n_splits=5, shuffle=False),\n",
    "    metric=pearsonr,\n",
    "    task=\"regression\",\n",
    "    metric_precision=6\n",
    ")\n",
    "\n",
    "ridge_trainer.fit(X, y)\n",
    "\n",
    "fold_scores[\"Ridge (ensemble)\"] = ridge_trainer.fold_scores\n",
    "overall_scores[\"Ridge (ensemble)\"] = [pearsonr(ridge_trainer.oof_preds, y)]\n",
    "ridge_test_preds = ridge_trainer.predict(X_test)"
   ]
  },
  {
   "cell_type": "code",
   "execution_count": 20,
   "id": "e01cf73e",
   "metadata": {
    "execution": {
     "iopub.execute_input": "2025-05-31T02:36:37.990805Z",
     "iopub.status.busy": "2025-05-31T02:36:37.990501Z",
     "iopub.status.idle": "2025-05-31T02:36:38.231465Z",
     "shell.execute_reply": "2025-05-31T02:36:38.230863Z"
    },
    "papermill": {
     "duration": 0.25664,
     "end_time": "2025-05-31T02:36:38.232534",
     "exception": false,
     "start_time": "2025-05-31T02:36:37.975894",
     "status": "completed"
    },
    "tags": []
   },
   "outputs": [
    {
     "data": {
      "image/png": "[encoded data removed]",
      "text/plain": [
       "<Figure size 1000x150 with 1 Axes>"
      ]
     },
     "metadata": {},
     "output_type": "display_data"
    }
   ],
   "source": [
    "ridge_coeffs = np.zeros((1, X.shape[1]))\n",
    "for m in ridge_trainer.estimators:\n",
    "    ridge_coeffs += m.coef_\n",
    "ridge_coeffs = ridge_coeffs / len(ridge_trainer.estimators)\n",
    "\n",
    "plot_weights(ridge_coeffs, \"Ridge Coefficients\")"
   ]
  },
  {
   "cell_type": "markdown",
   "id": "fa6f9add",
   "metadata": {
    "papermill": {
     "duration": 0.01348,
     "end_time": "2025-05-31T02:36:38.260809",
     "exception": false,
     "start_time": "2025-05-31T02:36:38.247329",
     "status": "completed"
    },
    "tags": []
   },
   "source": [
    "# Submission"
   ]
  },
  {
   "cell_type": "code",
   "execution_count": 21,
   "id": "9a808388",
   "metadata": {
    "execution": {
     "iopub.execute_input": "2025-05-31T02:36:38.289777Z",
     "iopub.status.busy": "2025-05-31T02:36:38.289198Z",
     "iopub.status.idle": "2025-05-31T02:36:39.250168Z",
     "shell.execute_reply": "2025-05-31T02:36:39.249318Z"
    },
    "papermill": {
     "duration": 0.976842,
     "end_time": "2025-05-31T02:36:39.251389",
     "exception": false,
     "start_time": "2025-05-31T02:36:38.274547",
     "status": "completed"
    },
    "tags": []
   },
   "outputs": [
    {
     "data": {
      "text/html": [
       "<div>\n",
       "<style scoped>\n",
       "    .dataframe tbody tr th:only-of-type {\n",
       "        vertical-align: middle;\n",
       "    }\n",
       "\n",
       "    .dataframe tbody tr th {\n",
       "        vertical-align: top;\n",
       "    }\n",
       "\n",
       "    .dataframe thead th {\n",
       "        text-align: right;\n",
       "    }\n",
       "</style>\n",
       "<table border=\"1\" class=\"dataframe\">\n",
       "  <thead>\n",
       "    <tr style=\"text-align: right;\">\n",
       "      <th></th>\n",
       "      <th>ID</th>\n",
       "      <th>prediction</th>\n",
       "    </tr>\n",
       "  </thead>\n",
       "  <tbody>\n",
       "    <tr>\n",
       "      <th>0</th>\n",
       "      <td>1</td>\n",
       "      <td>0.065335</td>\n",
       "    </tr>\n",
       "    <tr>\n",
       "      <th>1</th>\n",
       "      <td>2</td>\n",
       "      <td>0.019951</td>\n",
       "    </tr>\n",
       "    <tr>\n",
       "      <th>2</th>\n",
       "      <td>3</td>\n",
       "      <td>0.053770</td>\n",
       "    </tr>\n",
       "    <tr>\n",
       "      <th>3</th>\n",
       "      <td>4</td>\n",
       "      <td>-0.142625</td>\n",
       "    </tr>\n",
       "    <tr>\n",
       "      <th>4</th>\n",
       "      <td>5</td>\n",
       "      <td>0.105805</td>\n",
       "    </tr>\n",
       "  </tbody>\n",
       "</table>\n",
       "</div>"
      ],
      "text/plain": [
       "   ID  prediction\n",
       "0   1    0.065335\n",
       "1   2    0.019951\n",
       "2   3    0.053770\n",
       "3   4   -0.142625\n",
       "4   5    0.105805"
      ]
     },
     "execution_count": 21,
     "metadata": {},
     "output_type": "execute_result"
    }
   ],
   "source": [
    "sub = pd.read_csv(CFG.sample_sub_path)\n",
    "sub[\"prediction\"] = ridge_test_preds\n",
    "sub.to_csv(f\"sub_ridge_{overall_scores['Ridge (ensemble)'][0]:.6f}.csv\", index=False)\n",
    "sub.head()"
   ]
  },
  {
   "cell_type": "markdown",
   "id": "453ae0b2",
   "metadata": {
    "papermill": {
     "duration": 0.014034,
     "end_time": "2025-05-31T02:36:39.280411",
     "exception": false,
     "start_time": "2025-05-31T02:36:39.266377",
     "status": "completed"
    },
    "tags": []
   },
   "source": [
    "# Results"
   ]
  },
  {
   "cell_type": "code",
   "execution_count": 22,
   "id": "92fb4255",
   "metadata": {
    "execution": {
     "iopub.execute_input": "2025-05-31T02:36:39.309857Z",
     "iopub.status.busy": "2025-05-31T02:36:39.309050Z",
     "iopub.status.idle": "2025-05-31T02:36:39.539354Z",
     "shell.execute_reply": "2025-05-31T02:36:39.538640Z"
    },
    "papermill": {
     "duration": 0.246353,
     "end_time": "2025-05-31T02:36:39.540599",
     "exception": false,
     "start_time": "2025-05-31T02:36:39.294246",
     "status": "completed"
    },
    "tags": []
   },
   "outputs": [
    {
     "data": {
      "image/png": "[encoded data removed]",
      "text/plain": [
       "<Figure size 1500x200 with 2 Axes>"
      ]
     },
     "metadata": {},
     "output_type": "display_data"
    }
   ],
   "source": [
    "fold_scores = pd.DataFrame(fold_scores)\n",
    "overall_scores = pd.DataFrame(overall_scores).transpose().sort_values(by=0, ascending=False)\n",
    "order = overall_scores.index.tolist()\n",
    "\n",
    "min_score = overall_scores.values.flatten().min()\n",
    "max_score = overall_scores.values.flatten().max()\n",
    "padding = (max_score - min_score) * 0.5\n",
    "lower_limit = min_score - padding\n",
    "upper_limit = max_score + padding\n",
    "\n",
    "fig, axs = plt.subplots(1, 2, figsize=(15, fold_scores.shape[1] * 0.5))\n",
    "\n",
    "boxplot = sns.boxplot(data=fold_scores, order=order, ax=axs[0], orient=\"h\", color=\"grey\")\n",
    "axs[0].set_title(f\"Fold Score\")\n",
    "axs[0].set_xlabel(\"\")\n",
    "axs[0].set_ylabel(\"\")\n",
    "\n",
    "barplot = sns.barplot(x=overall_scores.values.flatten(), y=overall_scores.index, ax=axs[1], color=\"grey\")\n",
    "axs[1].set_title(f\"Overall Score\")\n",
    "axs[1].set_xlabel(\"\")\n",
    "axs[1].set_xlim(left=lower_limit, right=upper_limit)\n",
    "axs[1].set_ylabel(\"\")\n",
    "\n",
    "for i, (score, model) in enumerate(zip(overall_scores.values.flatten(), overall_scores.index)):\n",
    "    color = \"cyan\" if \"ensemble\" in model.lower() else \"grey\"\n",
    "    barplot.patches[i].set_facecolor(color)\n",
    "    boxplot.patches[i].set_facecolor(color)\n",
    "    barplot.text(score, i, round(score, 6), va=\"center\")\n",
    "\n",
    "plt.tight_layout()\n",
    "plt.show()"
   ]
  }
 ],
 "metadata": {
  "kaggle": {
   "accelerator": "none",
   "dataSources": [
    {
     "databundleVersionId": 11418275,
     "sourceId": 96164,
     "sourceType": "competition"
    }
   ],
   "dockerImageVersionId": 31040,
   "isGpuEnabled": false,
   "isInternetEnabled": true,
   "language": "python",
   "sourceType": "notebook"
  },
  "kernelspec": {
   "display_name": "Python 3",
   "language": "python",
   "name": "python3"
  },
  "language_info": {
   "codemirror_mode": {
    "name": "ipython",
    "version": 3
   },
   "file_extension": ".py",
   "mimetype": "text/x-python",
   "name": "python",
   "nbconvert_exporter": "python",
   "pygments_lexer": "ipython3",
   "version": "3.11.11"
  },
  "papermill": {
   "default_parameters": {},
   "duration": 1042.617346,
   "end_time": "2025-05-31T02:36:42.459569",
   "environment_variables": {},
   "exception": null,
   "input_path": "__notebook__.ipynb",
   "output_path": "__notebook__.ipynb",
   "parameters": {},
   "start_time": "2025-05-31T02:19:19.842223",
   "version": "2.6.0"
  }
 },
 "nbformat": 4,
 "nbformat_minor": 5
}
