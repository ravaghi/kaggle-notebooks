{
 "cells": [
  {
   "cell_type": "code",
   "execution_count": 1,
   "id": "eaa30155",
   "metadata": {
    "_cell_guid": "b1076dfc-b9ad-4769-8c92-a6c4dae69d19",
    "_uuid": "8f2839f25d086af736a60e9eeb907d3b93b6e0e5",
    "execution": {
     "iopub.execute_input": "2024-08-01T04:49:17.606855Z",
     "iopub.status.busy": "2024-08-01T04:49:17.606351Z",
     "iopub.status.idle": "2024-08-01T04:49:23.196488Z",
     "shell.execute_reply": "2024-08-01T04:49:23.194919Z"
    },
    "papermill": {
     "duration": 5.603707,
     "end_time": "2024-08-01T04:49:23.201661",
     "exception": false,
     "start_time": "2024-08-01T04:49:17.597954",
     "status": "completed"
    },
    "tags": []
   },
   "outputs": [],
   "source": [
    "from sklearn.metrics import roc_auc_score, roc_curve, confusion_matrix\n",
    "from sklearn.base import BaseEstimator, ClassifierMixin\n",
    "from sklearn.model_selection import StratifiedKFold\n",
    "from sklearn.linear_model import LogisticRegression\n",
    "from sklearn.ensemble import StackingClassifier\n",
    "from sklearn.utils import check_array\n",
    "from sklearn.base import clone\n",
    "from lightgbm import LGBMClassifier\n",
    "from xgboost import XGBClassifier\n",
    "import matplotlib.pyplot as plt\n",
    "from pathlib import Path\n",
    "import seaborn as sns\n",
    "import pandas as pd\n",
    "import numpy as np\n",
    "import warnings\n",
    "import pickle\n",
    "import glob\n",
    "import gc\n",
    "\n",
    "warnings.filterwarnings('ignore')"
   ]
  },
  {
   "cell_type": "code",
   "execution_count": 2,
   "id": "0f08bed0",
   "metadata": {
    "execution": {
     "iopub.execute_input": "2024-08-01T04:49:23.221193Z",
     "iopub.status.busy": "2024-08-01T04:49:23.219958Z",
     "iopub.status.idle": "2024-08-01T04:49:23.234509Z",
     "shell.execute_reply": "2024-08-01T04:49:23.230508Z"
    },
    "papermill": {
     "duration": 0.031975,
     "end_time": "2024-08-01T04:49:23.241506",
     "exception": false,
     "start_time": "2024-08-01T04:49:23.209531",
     "status": "completed"
    },
    "tags": []
   },
   "outputs": [],
   "source": [
    "SEED = 90\n",
    "N_FOLDS = 5\n",
    "TARGET = 'Response'"
   ]
  },
  {
   "cell_type": "code",
   "execution_count": 3,
   "id": "c73f3344",
   "metadata": {
    "execution": {
     "iopub.execute_input": "2024-08-01T04:49:23.258129Z",
     "iopub.status.busy": "2024-08-01T04:49:23.257301Z",
     "iopub.status.idle": "2024-08-01T04:49:49.525127Z",
     "shell.execute_reply": "2024-08-01T04:49:49.523680Z"
    },
    "papermill": {
     "duration": 26.278785,
     "end_time": "2024-08-01T04:49:49.528137",
     "exception": false,
     "start_time": "2024-08-01T04:49:23.249352",
     "status": "completed"
    },
    "tags": []
   },
   "outputs": [],
   "source": [
    "train = pd.read_csv('/kaggle/input/playground-series-s4e7/train.csv')\n",
    "original = pd.read_csv('/kaggle/input/health-insurance-cross-sell-prediction-data/train.csv', index_col='id')"
   ]
  },
  {
   "cell_type": "code",
   "execution_count": 4,
   "id": "0e64bed9",
   "metadata": {
    "execution": {
     "iopub.execute_input": "2024-08-01T04:49:49.542809Z",
     "iopub.status.busy": "2024-08-01T04:49:49.542392Z",
     "iopub.status.idle": "2024-08-01T04:50:09.057234Z",
     "shell.execute_reply": "2024-08-01T04:50:09.055897Z"
    },
    "papermill": {
     "duration": 19.525896,
     "end_time": "2024-08-01T04:50:09.060331",
     "exception": false,
     "start_time": "2024-08-01T04:49:49.534435",
     "status": "completed"
    },
    "tags": []
   },
   "outputs": [],
   "source": [
    "train = pd.concat([train, original]).reset_index(drop=True) \n",
    "train = train.drop_duplicates(keep=\"last\").reset_index(drop=True)"
   ]
  },
  {
   "cell_type": "code",
   "execution_count": 5,
   "id": "7d9eee88",
   "metadata": {
    "execution": {
     "iopub.execute_input": "2024-08-01T04:50:09.076006Z",
     "iopub.status.busy": "2024-08-01T04:50:09.075559Z",
     "iopub.status.idle": "2024-08-01T04:50:09.764888Z",
     "shell.execute_reply": "2024-08-01T04:50:09.763373Z"
    },
    "papermill": {
     "duration": 0.70113,
     "end_time": "2024-08-01T04:50:09.768867",
     "exception": false,
     "start_time": "2024-08-01T04:50:09.067737",
     "status": "completed"
    },
    "tags": []
   },
   "outputs": [],
   "source": [
    "X = train.drop(columns=TARGET)\n",
    "y = train[TARGET]"
   ]
  },
  {
   "cell_type": "code",
   "execution_count": 6,
   "id": "7d6b6a8e",
   "metadata": {
    "execution": {
     "iopub.execute_input": "2024-08-01T04:50:09.784185Z",
     "iopub.status.busy": "2024-08-01T04:50:09.783761Z",
     "iopub.status.idle": "2024-08-01T04:50:09.791930Z",
     "shell.execute_reply": "2024-08-01T04:50:09.790456Z"
    },
    "papermill": {
     "duration": 0.018831,
     "end_time": "2024-08-01T04:50:09.794764",
     "exception": false,
     "start_time": "2024-08-01T04:50:09.775933",
     "status": "completed"
    },
    "tags": []
   },
   "outputs": [],
   "source": [
    "def get_scores(oof_pred_probs):\n",
    "    scores = []\n",
    "    skf = StratifiedKFold(n_splits=5, random_state=SEED, shuffle=True)\n",
    "    for fold_idx, (train_idx, val_idx) in enumerate(skf.split(X, y)):\n",
    "        y_val = y[val_idx]\n",
    "        y_pred_probs = oof_pred_probs[val_idx]          \n",
    "        score = roc_auc_score(y_val, y_pred_probs[:, 1])\n",
    "        scores.append(score)\n",
    "    return scores"
   ]
  },
  {
   "cell_type": "code",
   "execution_count": 7,
   "id": "55b878aa",
   "metadata": {
    "execution": {
     "iopub.execute_input": "2024-08-01T04:50:09.811013Z",
     "iopub.status.busy": "2024-08-01T04:50:09.810536Z",
     "iopub.status.idle": "2024-08-01T04:50:09.817254Z",
     "shell.execute_reply": "2024-08-01T04:50:09.815471Z"
    },
    "papermill": {
     "duration": 0.018575,
     "end_time": "2024-08-01T04:50:09.820852",
     "exception": false,
     "start_time": "2024-08-01T04:50:09.802277",
     "status": "completed"
    },
    "tags": []
   },
   "outputs": [],
   "source": [
    "test_pred_probs = {}\n",
    "oof_pred_probs = {}\n",
    "scores = {}"
   ]
  },
  {
   "cell_type": "code",
   "execution_count": 8,
   "id": "05fdbbc8",
   "metadata": {
    "execution": {
     "iopub.execute_input": "2024-08-01T04:50:09.836006Z",
     "iopub.status.busy": "2024-08-01T04:50:09.835517Z",
     "iopub.status.idle": "2024-08-01T04:50:22.879202Z",
     "shell.execute_reply": "2024-08-01T04:50:22.877881Z"
    },
    "papermill": {
     "duration": 13.055163,
     "end_time": "2024-08-01T04:50:22.882659",
     "exception": false,
     "start_time": "2024-08-01T04:50:09.827496",
     "status": "completed"
    },
    "tags": []
   },
   "outputs": [],
   "source": [
    "xgb_oof_pred_probs_files = glob.glob('/kaggle/input/insurance-cross-selling-oof-files/xgboost/xgb_oof_pred_probs_*.pkl')\n",
    "xgb_test_pred_probs_files = glob.glob('/kaggle/input/insurance-cross-selling-oof-files/xgboost/xgb_test_pred_probs_*.pkl')\n",
    "\n",
    "xgb_oof_pred_probs = pickle.load(open(xgb_oof_pred_probs_files[0], 'rb'))\n",
    "xgb_test_pred_probs = pickle.load(open(xgb_test_pred_probs_files[0], 'rb'))\n",
    "\n",
    "oof_pred_probs['XGBoost'] = xgb_oof_pred_probs\n",
    "test_pred_probs['XGBoost'] = xgb_test_pred_probs\n",
    "scores['XGBoost'] = get_scores(xgb_oof_pred_probs)"
   ]
  },
  {
   "cell_type": "code",
   "execution_count": 9,
   "id": "46cc58ad",
   "metadata": {
    "execution": {
     "iopub.execute_input": "2024-08-01T04:50:22.898969Z",
     "iopub.status.busy": "2024-08-01T04:50:22.898383Z",
     "iopub.status.idle": "2024-08-01T04:50:35.581032Z",
     "shell.execute_reply": "2024-08-01T04:50:35.579420Z"
    },
    "papermill": {
     "duration": 12.694409,
     "end_time": "2024-08-01T04:50:35.583931",
     "exception": false,
     "start_time": "2024-08-01T04:50:22.889522",
     "status": "completed"
    },
    "tags": []
   },
   "outputs": [],
   "source": [
    "lgbm_oof_pred_probs_files = glob.glob('/kaggle/input/insurance-cross-selling-oof-files/lightgbm/lgbm_oof_pred_probs_*.pkl')\n",
    "lgbm_test_pred_probs_files = glob.glob('/kaggle/input/insurance-cross-selling-oof-files/lightgbm/lgbm_test_pred_probs_*.pkl')\n",
    "\n",
    "lgbm_oof_pred_probs = pickle.load(open(lgbm_oof_pred_probs_files[0], 'rb'))\n",
    "lgbm_test_pred_probs = pickle.load(open(lgbm_test_pred_probs_files[0], 'rb'))\n",
    "\n",
    "oof_pred_probs['LightGBM'] = lgbm_oof_pred_probs\n",
    "test_pred_probs['LightGBM'] = lgbm_test_pred_probs\n",
    "scores['LightGBM'] = get_scores(lgbm_oof_pred_probs)"
   ]
  },
  {
   "cell_type": "code",
   "execution_count": 10,
   "id": "814fed56",
   "metadata": {
    "execution": {
     "iopub.execute_input": "2024-08-01T04:50:35.598984Z",
     "iopub.status.busy": "2024-08-01T04:50:35.598560Z",
     "iopub.status.idle": "2024-08-01T04:50:47.920782Z",
     "shell.execute_reply": "2024-08-01T04:50:47.919484Z"
    },
    "papermill": {
     "duration": 12.332887,
     "end_time": "2024-08-01T04:50:47.923507",
     "exception": false,
     "start_time": "2024-08-01T04:50:35.590620",
     "status": "completed"
    },
    "tags": []
   },
   "outputs": [],
   "source": [
    "catboost_oof_pred_probs_files = glob.glob('/kaggle/input/insurance-cross-selling-oof-files/catboost/catboost_oof_pred_probs_*.pkl')\n",
    "catboost_test_pred_probs_files = glob.glob('/kaggle/input/insurance-cross-selling-oof-files/catboost/catboost_test_pred_probs_*.pkl')\n",
    "\n",
    "catboost_oof_pred_probs = pickle.load(open(catboost_oof_pred_probs_files[0], 'rb'))\n",
    "catboost_test_pred_probs = pickle.load(open(catboost_test_pred_probs_files[0], 'rb'))\n",
    "\n",
    "oof_pred_probs['CatBoost'] = catboost_oof_pred_probs\n",
    "test_pred_probs['CatBoost'] = catboost_test_pred_probs\n",
    "scores['CatBoost'] = get_scores(catboost_oof_pred_probs)"
   ]
  },
  {
   "cell_type": "code",
   "execution_count": 11,
   "id": "f3aa7a99",
   "metadata": {
    "execution": {
     "iopub.execute_input": "2024-08-01T04:50:47.939229Z",
     "iopub.status.busy": "2024-08-01T04:50:47.938828Z",
     "iopub.status.idle": "2024-08-01T04:51:00.095753Z",
     "shell.execute_reply": "2024-08-01T04:51:00.094335Z"
    },
    "papermill": {
     "duration": 12.169163,
     "end_time": "2024-08-01T04:51:00.099546",
     "exception": false,
     "start_time": "2024-08-01T04:50:47.930383",
     "status": "completed"
    },
    "tags": []
   },
   "outputs": [],
   "source": [
    "ann_oof_pred_probs_files = glob.glob('/kaggle/input/insurance-cross-selling-oof-files/keras/keras_oof_pred_probs_*.pkl')\n",
    "ann_test_pred_probs_files = glob.glob('/kaggle/input/insurance-cross-selling-oof-files/keras/keras_test_pred_probs_*.pkl')\n",
    "\n",
    "ann_oof_pred_probs = pickle.load(open(ann_oof_pred_probs_files[0], 'rb'))\n",
    "ann_test_pred_probs = pickle.load(open(ann_test_pred_probs_files[0], 'rb'))\n",
    "\n",
    "oof_pred_probs['KerasANN'] = ann_oof_pred_probs\n",
    "test_pred_probs['KerasANN'] = ann_test_pred_probs\n",
    "scores['KerasANN'] = get_scores(ann_oof_pred_probs)"
   ]
  },
  {
   "cell_type": "code",
   "execution_count": 12,
   "id": "4263a4c0",
   "metadata": {
    "execution": {
     "iopub.execute_input": "2024-08-01T04:51:00.116336Z",
     "iopub.status.busy": "2024-08-01T04:51:00.115812Z",
     "iopub.status.idle": "2024-08-01T04:51:12.573259Z",
     "shell.execute_reply": "2024-08-01T04:51:12.571623Z"
    },
    "papermill": {
     "duration": 12.469589,
     "end_time": "2024-08-01T04:51:12.576666",
     "exception": false,
     "start_time": "2024-08-01T04:51:00.107077",
     "status": "completed"
    },
    "tags": []
   },
   "outputs": [],
   "source": [
    "lr_oof_pred_probs_files = glob.glob('/kaggle/input/insurance-cross-selling-oof-files/logistic-regression/logisticregression_oof_pred_probs_*.pkl')\n",
    "lr_test_pred_probs_files = glob.glob('/kaggle/input/insurance-cross-selling-oof-files/logistic-regression/logisticregression_test_pred_probs_*.pkl')\n",
    "\n",
    "lr_oof_pred_probs = pickle.load(open(lr_oof_pred_probs_files[0], 'rb'))\n",
    "lr_test_pred_probs = pickle.load(open(lr_test_pred_probs_files[0], 'rb'))\n",
    "\n",
    "oof_pred_probs['LogisticRegression'] = lr_oof_pred_probs\n",
    "test_pred_probs['LogisticRegression'] = lr_test_pred_probs\n",
    "scores['LogisticRegression'] = get_scores(lr_oof_pred_probs)"
   ]
  },
  {
   "cell_type": "code",
   "execution_count": 13,
   "id": "996e4968",
   "metadata": {
    "execution": {
     "iopub.execute_input": "2024-08-01T04:51:12.593238Z",
     "iopub.status.busy": "2024-08-01T04:51:12.592497Z",
     "iopub.status.idle": "2024-08-01T04:51:12.613452Z",
     "shell.execute_reply": "2024-08-01T04:51:12.611839Z"
    },
    "papermill": {
     "duration": 0.032538,
     "end_time": "2024-08-01T04:51:12.616637",
     "exception": false,
     "start_time": "2024-08-01T04:51:12.584099",
     "status": "completed"
    },
    "tags": []
   },
   "outputs": [],
   "source": [
    "class Trainer:\n",
    "    def __init__(self, model, n_folds=N_FOLDS):\n",
    "        self.model = model\n",
    "        self.n_folds = n_folds\n",
    "\n",
    "    def fit_predict(self, X, y, X_test):\n",
    "        print(f'Training {self.model.__class__.__name__}')\n",
    "        \n",
    "        scores = []\n",
    "        oof_pred_probs = np.zeros((X.shape[0], len(np.unique(y))))\n",
    "        test_pred_probs = np.zeros((X_test.shape[0], len(np.unique(y))))\n",
    "        \n",
    "        skf = StratifiedKFold(n_splits=self.n_folds, random_state=SEED, shuffle=True)\n",
    "        for fold_idx, (train_idx, val_idx) in enumerate(skf.split(X, y)):\n",
    "            X_train, X_val = X.iloc[train_idx], X.iloc[val_idx]\n",
    "            y_train, y_val = y[train_idx], y[val_idx]\n",
    "            \n",
    "            model = clone(self.model)\n",
    "            model.fit(X_train, y_train)\n",
    "            \n",
    "            y_pred_probs = model.predict_proba(X_val)    \n",
    "            oof_pred_probs[val_idx] = y_pred_probs          \n",
    "            score = roc_auc_score(y_val, y_pred_probs[:, 1])\n",
    "            scores.append(score)\n",
    "            \n",
    "            temp_test_pred_probs = model.predict_proba(X_test)\n",
    "            test_pred_probs += temp_test_pred_probs / self.n_folds\n",
    "            \n",
    "            del model\n",
    "            gc.collect()\n",
    "            \n",
    "            print(f'--- Fold {fold_idx + 1} - AUC: {score:.5f}')\n",
    "            \n",
    "        print(f'------ Average AUC: {np.mean(scores):.5f} ± {np.std(scores):.5f}')\n",
    "        \n",
    "        self._save_submission(test_pred_probs, np.mean(scores))\n",
    "        \n",
    "        return oof_pred_probs, scores\n",
    "    \n",
    "    def _save_submission(self, test_pred_probs, score):\n",
    "        name = self.model.__class__.__name__.lower().replace('classifier', '')\n",
    "        sub = pd.read_csv('/kaggle/input/playground-series-s4e7/sample_submission.csv')\n",
    "        sub['id'] = sub['id']\n",
    "        sub[TARGET] = test_pred_probs[:, 1]\n",
    "        # Referencee https://www.kaggle.com/code/paddykb/a-glitch-in-the-insurance-matrix\n",
    "        INPUT_DIR = Path('/kaggle/input/playground-series-s4e7')\n",
    "        train_data = pd.read_csv(INPUT_DIR / 'train.csv')\n",
    "        test_data = pd.read_csv(INPUT_DIR / 'test.csv')\n",
    "        orig_data = pd.read_csv('/kaggle/input/health-insurance-cross-sell-prediction/train.csv')\n",
    "        features = sorted(set(test_data.columns) - set(['id']))\n",
    "        train_data.merge(orig_data, on=features).filter(['Response_x', 'Response_y']).value_counts().reset_index()\n",
    "        override_sub = test_data.merge(orig_data.drop(columns=['id']), on=features).assign(override=lambda x: np.where(x['Response'] == 0, 1, 0)).filter(['id', 'override']).groupby(['id'], as_index=False).agg(override=('override', 'mean'))\n",
    "        sub.merge(override_sub, how='outer').assign(Response=lambda x: np.where(x['override'].isna(), x['Response'], x['override'])).filter(['id', 'Response']).to_csv(f'sub_{name}_{score:.5f}.csv', index=False)"
   ]
  },
  {
   "cell_type": "code",
   "execution_count": 14,
   "id": "ca308913",
   "metadata": {
    "execution": {
     "iopub.execute_input": "2024-08-01T04:51:12.634861Z",
     "iopub.status.busy": "2024-08-01T04:51:12.634378Z",
     "iopub.status.idle": "2024-08-01T04:51:12.643750Z",
     "shell.execute_reply": "2024-08-01T04:51:12.642287Z"
    },
    "papermill": {
     "duration": 0.020692,
     "end_time": "2024-08-01T04:51:12.646461",
     "exception": false,
     "start_time": "2024-08-01T04:51:12.625769",
     "status": "completed"
    },
    "tags": []
   },
   "outputs": [],
   "source": [
    "# Reference: https://www.kaggle.com/competitions/playground-series-s4e6/discussion/509353#2851035\n",
    "class PassThroughClassifier(BaseEstimator, ClassifierMixin):\n",
    "    def __init__(self, idx_cols):\n",
    "        self.idx_cols = idx_cols\n",
    "        self.is_fitted_ = True\n",
    "\n",
    "    def fit(self, X, y=None):\n",
    "        return self\n",
    "\n",
    "    def predict_proba(self, X):\n",
    "        return check_array(X)[:, self.idx_cols]\n",
    "\n",
    "estimators = [\n",
    "    ('XGBoost',             PassThroughClassifier(list(range(0, 2)))),\n",
    "    ('LightGBM',            PassThroughClassifier(list(range(2, 4)))),\n",
    "    ('CatBoost',            PassThroughClassifier(list(range(4, 6)))),\n",
    "    ('KerasANN',            PassThroughClassifier(list(range(6, 8)))),\n",
    "    ('LogisticRegression',  PassThroughClassifier(list(range(8, 10)))),\n",
    "]"
   ]
  },
  {
   "cell_type": "code",
   "execution_count": 15,
   "id": "0b51bd7b",
   "metadata": {
    "execution": {
     "iopub.execute_input": "2024-08-01T04:51:12.662915Z",
     "iopub.status.busy": "2024-08-01T04:51:12.662458Z",
     "iopub.status.idle": "2024-08-01T04:51:17.089556Z",
     "shell.execute_reply": "2024-08-01T04:51:17.088049Z"
    },
    "papermill": {
     "duration": 4.439012,
     "end_time": "2024-08-01T04:51:17.092966",
     "exception": false,
     "start_time": "2024-08-01T04:51:12.653954",
     "status": "completed"
    },
    "tags": []
   },
   "outputs": [],
   "source": [
    "X_train = np.log(pd.DataFrame(np.hstack(list(oof_pred_probs.values()))) + 1e-7)\n",
    "X_test = np.log(pd.DataFrame(np.hstack(list(test_pred_probs.values()))) + 1e-7)"
   ]
  },
  {
   "cell_type": "code",
   "execution_count": 16,
   "id": "7e5b5f29",
   "metadata": {
    "execution": {
     "iopub.execute_input": "2024-08-01T04:51:17.111189Z",
     "iopub.status.busy": "2024-08-01T04:51:17.110750Z",
     "iopub.status.idle": "2024-08-01T04:55:23.100918Z",
     "shell.execute_reply": "2024-08-01T04:55:23.099338Z"
    },
    "papermill": {
     "duration": 246.002308,
     "end_time": "2024-08-01T04:55:23.104258",
     "exception": false,
     "start_time": "2024-08-01T04:51:17.101950",
     "status": "completed"
    },
    "tags": []
   },
   "outputs": [
    {
     "name": "stdout",
     "output_type": "stream",
     "text": [
      "Training StackingClassifier\n",
      "--- Fold 1 - AUC: 0.89572\n",
      "--- Fold 2 - AUC: 0.89563\n",
      "--- Fold 3 - AUC: 0.89569\n",
      "--- Fold 4 - AUC: 0.89583\n",
      "--- Fold 5 - AUC: 0.89596\n",
      "------ Average AUC: 0.89577 ± 0.00012\n"
     ]
    }
   ],
   "source": [
    "stacking_model = StackingClassifier(estimators, cv='prefit', n_jobs=-1)\n",
    "stacking_trainer = Trainer(stacking_model)\n",
    "stacking_oof_pred_probs, stacking_scores = stacking_trainer.fit_predict(X_train, y, X_test)\n",
    "scores['Stacking'] = stacking_scores"
   ]
  },
  {
   "cell_type": "code",
   "execution_count": 17,
   "id": "4fb54e09",
   "metadata": {
    "execution": {
     "iopub.execute_input": "2024-08-01T04:55:23.121806Z",
     "iopub.status.busy": "2024-08-01T04:55:23.121362Z",
     "iopub.status.idle": "2024-08-01T04:55:23.144727Z",
     "shell.execute_reply": "2024-08-01T04:55:23.143415Z"
    },
    "papermill": {
     "duration": 0.035093,
     "end_time": "2024-08-01T04:55:23.147428",
     "exception": false,
     "start_time": "2024-08-01T04:55:23.112335",
     "status": "completed"
    },
    "tags": []
   },
   "outputs": [
    {
     "data": {
      "text/html": [
       "<div>\n",
       "<style scoped>\n",
       "    .dataframe tbody tr th:only-of-type {\n",
       "        vertical-align: middle;\n",
       "    }\n",
       "\n",
       "    .dataframe tbody tr th {\n",
       "        vertical-align: top;\n",
       "    }\n",
       "\n",
       "    .dataframe thead th {\n",
       "        text-align: right;\n",
       "    }\n",
       "</style>\n",
       "<table border=\"1\" class=\"dataframe\">\n",
       "  <thead>\n",
       "    <tr style=\"text-align: right;\">\n",
       "      <th></th>\n",
       "      <th>XGBoost</th>\n",
       "      <th>LightGBM</th>\n",
       "      <th>CatBoost</th>\n",
       "      <th>KerasANN</th>\n",
       "      <th>LogisticRegression</th>\n",
       "      <th>Stacking</th>\n",
       "    </tr>\n",
       "  </thead>\n",
       "  <tbody>\n",
       "    <tr>\n",
       "      <th>0</th>\n",
       "      <td>0.891549</td>\n",
       "      <td>0.892316</td>\n",
       "      <td>0.895341</td>\n",
       "      <td>0.888478</td>\n",
       "      <td>0.882333</td>\n",
       "      <td>0.895717</td>\n",
       "    </tr>\n",
       "    <tr>\n",
       "      <th>1</th>\n",
       "      <td>0.891598</td>\n",
       "      <td>0.892281</td>\n",
       "      <td>0.895218</td>\n",
       "      <td>0.888378</td>\n",
       "      <td>0.882299</td>\n",
       "      <td>0.895631</td>\n",
       "    </tr>\n",
       "    <tr>\n",
       "      <th>2</th>\n",
       "      <td>0.891614</td>\n",
       "      <td>0.892207</td>\n",
       "      <td>0.895334</td>\n",
       "      <td>0.888448</td>\n",
       "      <td>0.882276</td>\n",
       "      <td>0.895693</td>\n",
       "    </tr>\n",
       "    <tr>\n",
       "      <th>3</th>\n",
       "      <td>0.891695</td>\n",
       "      <td>0.892395</td>\n",
       "      <td>0.895466</td>\n",
       "      <td>0.888715</td>\n",
       "      <td>0.882529</td>\n",
       "      <td>0.895832</td>\n",
       "    </tr>\n",
       "    <tr>\n",
       "      <th>4</th>\n",
       "      <td>0.891742</td>\n",
       "      <td>0.892564</td>\n",
       "      <td>0.895595</td>\n",
       "      <td>0.888726</td>\n",
       "      <td>0.882537</td>\n",
       "      <td>0.895958</td>\n",
       "    </tr>\n",
       "  </tbody>\n",
       "</table>\n",
       "</div>"
      ],
      "text/plain": [
       "    XGBoost  LightGBM  CatBoost  KerasANN  LogisticRegression  Stacking\n",
       "0  0.891549  0.892316  0.895341  0.888478            0.882333  0.895717\n",
       "1  0.891598  0.892281  0.895218  0.888378            0.882299  0.895631\n",
       "2  0.891614  0.892207  0.895334  0.888448            0.882276  0.895693\n",
       "3  0.891695  0.892395  0.895466  0.888715            0.882529  0.895832\n",
       "4  0.891742  0.892564  0.895595  0.888726            0.882537  0.895958"
      ]
     },
     "execution_count": 17,
     "metadata": {},
     "output_type": "execute_result"
    }
   ],
   "source": [
    "scores = pd.DataFrame(scores)\n",
    "scores"
   ]
  },
  {
   "cell_type": "code",
   "execution_count": 18,
   "id": "b1742971",
   "metadata": {
    "execution": {
     "iopub.execute_input": "2024-08-01T04:55:23.166319Z",
     "iopub.status.busy": "2024-08-01T04:55:23.165464Z",
     "iopub.status.idle": "2024-08-01T04:55:35.224139Z",
     "shell.execute_reply": "2024-08-01T04:55:35.222572Z"
    },
    "papermill": {
     "duration": 12.075661,
     "end_time": "2024-08-01T04:55:35.231299",
     "exception": false,
     "start_time": "2024-08-01T04:55:23.155638",
     "status": "completed"
    },
    "tags": []
   },
   "outputs": [
    {
     "data": {
      "image/png": "[encoded data removed]",
      "text/plain": [
       "<Figure size 1400x700 with 2 Axes>"
      ]
     },
     "metadata": {},
     "output_type": "display_data"
    }
   ],
   "source": [
    "fig, axes = plt.subplots(nrows=1, ncols=2, figsize=(14, 7))\n",
    "\n",
    "fpr, tpr, _ = roc_curve(y, stacking_oof_pred_probs[:, 1])\n",
    "axes[0].plot(fpr, tpr, label=f'AUC: {np.mean(stacking_scores):.5f}', color='#651FFF')\n",
    "axes[0].plot([0, 1], [0, 1], color='black', linestyle='--')\n",
    "axes[0].set_xlabel('False Positive Rate')\n",
    "axes[0].set_ylabel('True Positive Rate')\n",
    "axes[0].legend()\n",
    "axes[0].grid(True)\n",
    "axes[0].set_aspect('equal', adjustable='box')\n",
    "\n",
    "y_pred = stacking_oof_pred_probs.argmax(axis=1)\n",
    "cm = confusion_matrix(y, y_pred)\n",
    "sns.heatmap(\n",
    "    cm, \n",
    "    annot=True, \n",
    "    fmt=',', \n",
    "    ax=axes[1], \n",
    "    cbar=False,\n",
    "    cmap=sns.light_palette('#651FFF', reverse=False, as_cmap=True), \n",
    ")\n",
    "axes[1].set_xlabel('Predicted')\n",
    "axes[1].set_ylabel('Actual')\n",
    "axes[1].set_aspect('equal', adjustable='box')\n",
    "\n",
    "plt.tight_layout()\n",
    "plt.show()"
   ]
  },
  {
   "cell_type": "code",
   "execution_count": 19,
   "id": "146e5ef3",
   "metadata": {
    "execution": {
     "iopub.execute_input": "2024-08-01T04:55:35.254550Z",
     "iopub.status.busy": "2024-08-01T04:55:35.254114Z",
     "iopub.status.idle": "2024-08-01T04:55:35.939999Z",
     "shell.execute_reply": "2024-08-01T04:55:35.938749Z"
    },
    "papermill": {
     "duration": 0.700829,
     "end_time": "2024-08-01T04:55:35.943032",
     "exception": false,
     "start_time": "2024-08-01T04:55:35.242203",
     "status": "completed"
    },
    "tags": []
   },
   "outputs": [
    {
     "data": {
      "image/png": "[encoded data removed]",
      "text/plain": [
       "<Figure size 1500x500 with 2 Axes>"
      ]
     },
     "metadata": {},
     "output_type": "display_data"
    }
   ],
   "source": [
    "mean_scores = scores.mean().sort_values(ascending=False)\n",
    "order = scores.mean().sort_values(ascending=False).index.tolist()\n",
    "\n",
    "min_score = mean_scores.min()\n",
    "max_score = mean_scores.max()\n",
    "padding = (max_score - min_score) * 0.1\n",
    "lower_limit = min_score - padding\n",
    "upper_limit = max_score + padding\n",
    "\n",
    "fig, axs = plt.subplots(1, 2, figsize=(15, 5))\n",
    "\n",
    "sns.boxplot(data=scores, order=order, ax=axs[0], orient='h', color='#651FFF')\n",
    "axs[0].set_title('Fold AUC')\n",
    "axs[0].set_xlabel('')\n",
    "axs[0].set_ylabel('')\n",
    "\n",
    "barplot = sns.barplot(x=mean_scores.values, y=mean_scores.index, ax=axs[1], color='#651FFF')\n",
    "axs[1].set_title('Average AUC')\n",
    "axs[1].set_xlabel('')\n",
    "axs[1].set_xlim(left=lower_limit, right=upper_limit)\n",
    "axs[1].set_ylabel('')\n",
    "\n",
    "for i, score in enumerate(mean_scores.values):\n",
    "    barplot.text(score, i, round(score, 5), va='center')\n",
    "\n",
    "plt.tight_layout()\n",
    "plt.show()"
   ]
  }
 ],
 "metadata": {
  "kaggle": {
   "accelerator": "none",
   "dataSources": [
    {
     "databundleVersionId": 8930475,
     "sourceId": 73291,
     "sourceType": "competition"
    },
    {
     "datasetId": 869050,
     "sourceId": 1480773,
     "sourceType": "datasetVersion"
    },
    {
     "datasetId": 4268036,
     "sourceId": 7349720,
     "sourceType": "datasetVersion"
    },
    {
     "datasetId": 5418885,
     "sourceId": 9079083,
     "sourceType": "datasetVersion"
    }
   ],
   "dockerImageVersionId": 30746,
   "isGpuEnabled": false,
   "isInternetEnabled": true,
   "language": "python",
   "sourceType": "notebook"
  },
  "kernelspec": {
   "display_name": "Python 3",
   "language": "python",
   "name": "python3"
  },
  "language_info": {
   "codemirror_mode": {
    "name": "ipython",
    "version": 3
   },
   "file_extension": ".py",
   "mimetype": "text/x-python",
   "name": "python",
   "nbconvert_exporter": "python",
   "pygments_lexer": "ipython3",
   "version": "3.10.13"
  },
  "papermill": {
   "default_parameters": {},
   "duration": 383.742877,
   "end_time": "2024-08-01T04:55:37.990338",
   "environment_variables": {},
   "exception": null,
   "input_path": "__notebook__.ipynb",
   "output_path": "__notebook__.ipynb",
   "parameters": {},
   "start_time": "2024-08-01T04:49:14.247461",
   "version": "2.5.0"
  }
 },
 "nbformat": 4,
 "nbformat_minor": 5
}
