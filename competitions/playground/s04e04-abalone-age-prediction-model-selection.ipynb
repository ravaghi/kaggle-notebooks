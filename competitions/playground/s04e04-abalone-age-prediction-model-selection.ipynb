{
 "cells": [
  {
   "cell_type": "code",
   "execution_count": 1,
   "id": "d9c57cdd",
   "metadata": {
    "_cell_guid": "b1076dfc-b9ad-4769-8c92-a6c4dae69d19",
    "_uuid": "8f2839f25d086af736a60e9eeb907d3b93b6e0e5",
    "execution": {
     "iopub.execute_input": "2024-04-01T03:49:27.655372Z",
     "iopub.status.busy": "2024-04-01T03:49:27.654692Z",
     "iopub.status.idle": "2024-04-01T03:49:32.579673Z",
     "shell.execute_reply": "2024-04-01T03:49:32.578258Z"
    },
    "papermill": {
     "duration": 4.937421,
     "end_time": "2024-04-01T03:49:32.583121",
     "exception": false,
     "start_time": "2024-04-01T03:49:27.645700",
     "status": "completed"
    },
    "tags": []
   },
   "outputs": [],
   "source": [
    "import pandas as pd\n",
    "import numpy as np\n",
    "import warnings\n",
    "import seaborn as sns\n",
    "import matplotlib.pyplot as plt\n",
    "from sklearn.model_selection import KFold\n",
    "from xgboost import XGBRegressor\n",
    "from sklearn.preprocessing import StandardScaler\n",
    "from sklearn.metrics import mean_squared_log_error\n",
    "from sklearn.tree import DecisionTreeRegressor\n",
    "from sklearn.ensemble import RandomForestRegressor, GradientBoostingRegressor\n",
    "from sklearn.neighbors import KNeighborsRegressor\n",
    "from xgboost import XGBRegressor\n",
    "from lightgbm import LGBMRegressor\n",
    "from catboost import CatBoostRegressor\n",
    "\n",
    "warnings.filterwarnings('ignore')\n",
    "seed = 27"
   ]
  },
  {
   "cell_type": "markdown",
   "id": "c1126135",
   "metadata": {
    "papermill": {
     "duration": 0.005561,
     "end_time": "2024-04-01T03:49:32.595071",
     "exception": false,
     "start_time": "2024-04-01T03:49:32.589510",
     "status": "completed"
    },
    "tags": []
   },
   "source": [
    "# Loading Data"
   ]
  },
  {
   "cell_type": "code",
   "execution_count": 2,
   "id": "52c1d458",
   "metadata": {
    "execution": {
     "iopub.execute_input": "2024-04-01T03:49:32.609773Z",
     "iopub.status.busy": "2024-04-01T03:49:32.608662Z",
     "iopub.status.idle": "2024-04-01T03:49:32.966427Z",
     "shell.execute_reply": "2024-04-01T03:49:32.965357Z"
    },
    "papermill": {
     "duration": 0.368871,
     "end_time": "2024-04-01T03:49:32.969851",
     "exception": false,
     "start_time": "2024-04-01T03:49:32.600980",
     "status": "completed"
    },
    "tags": []
   },
   "outputs": [],
   "source": [
    "train = pd.read_csv('/kaggle/input/playground-series-s4e4/train.csv')\n",
    "test = pd.read_csv('/kaggle/input/playground-series-s4e4/test.csv')\n",
    "\n",
    "test_ids = test['id']"
   ]
  },
  {
   "cell_type": "code",
   "execution_count": 3,
   "id": "6d912547",
   "metadata": {
    "execution": {
     "iopub.execute_input": "2024-04-01T03:49:32.986634Z",
     "iopub.status.busy": "2024-04-01T03:49:32.986205Z",
     "iopub.status.idle": "2024-04-01T03:49:33.014906Z",
     "shell.execute_reply": "2024-04-01T03:49:33.013655Z"
    },
    "papermill": {
     "duration": 0.038896,
     "end_time": "2024-04-01T03:49:33.017598",
     "exception": false,
     "start_time": "2024-04-01T03:49:32.978702",
     "status": "completed"
    },
    "tags": []
   },
   "outputs": [
    {
     "data": {
      "text/html": [
       "<div>\n",
       "<style scoped>\n",
       "    .dataframe tbody tr th:only-of-type {\n",
       "        vertical-align: middle;\n",
       "    }\n",
       "\n",
       "    .dataframe tbody tr th {\n",
       "        vertical-align: top;\n",
       "    }\n",
       "\n",
       "    .dataframe thead th {\n",
       "        text-align: right;\n",
       "    }\n",
       "</style>\n",
       "<table border=\"1\" class=\"dataframe\">\n",
       "  <thead>\n",
       "    <tr style=\"text-align: right;\">\n",
       "      <th></th>\n",
       "      <th>id</th>\n",
       "      <th>Sex</th>\n",
       "      <th>Length</th>\n",
       "      <th>Diameter</th>\n",
       "      <th>Height</th>\n",
       "      <th>Whole weight</th>\n",
       "      <th>Whole weight.1</th>\n",
       "      <th>Whole weight.2</th>\n",
       "      <th>Shell weight</th>\n",
       "      <th>Rings</th>\n",
       "    </tr>\n",
       "  </thead>\n",
       "  <tbody>\n",
       "    <tr>\n",
       "      <th>0</th>\n",
       "      <td>0</td>\n",
       "      <td>F</td>\n",
       "      <td>0.550</td>\n",
       "      <td>0.430</td>\n",
       "      <td>0.150</td>\n",
       "      <td>0.7715</td>\n",
       "      <td>0.3285</td>\n",
       "      <td>0.1465</td>\n",
       "      <td>0.2400</td>\n",
       "      <td>11</td>\n",
       "    </tr>\n",
       "    <tr>\n",
       "      <th>1</th>\n",
       "      <td>1</td>\n",
       "      <td>F</td>\n",
       "      <td>0.630</td>\n",
       "      <td>0.490</td>\n",
       "      <td>0.145</td>\n",
       "      <td>1.1300</td>\n",
       "      <td>0.4580</td>\n",
       "      <td>0.2765</td>\n",
       "      <td>0.3200</td>\n",
       "      <td>11</td>\n",
       "    </tr>\n",
       "    <tr>\n",
       "      <th>2</th>\n",
       "      <td>2</td>\n",
       "      <td>I</td>\n",
       "      <td>0.160</td>\n",
       "      <td>0.110</td>\n",
       "      <td>0.025</td>\n",
       "      <td>0.0210</td>\n",
       "      <td>0.0055</td>\n",
       "      <td>0.0030</td>\n",
       "      <td>0.0050</td>\n",
       "      <td>6</td>\n",
       "    </tr>\n",
       "    <tr>\n",
       "      <th>3</th>\n",
       "      <td>3</td>\n",
       "      <td>M</td>\n",
       "      <td>0.595</td>\n",
       "      <td>0.475</td>\n",
       "      <td>0.150</td>\n",
       "      <td>0.9145</td>\n",
       "      <td>0.3755</td>\n",
       "      <td>0.2055</td>\n",
       "      <td>0.2500</td>\n",
       "      <td>10</td>\n",
       "    </tr>\n",
       "    <tr>\n",
       "      <th>4</th>\n",
       "      <td>4</td>\n",
       "      <td>I</td>\n",
       "      <td>0.555</td>\n",
       "      <td>0.425</td>\n",
       "      <td>0.130</td>\n",
       "      <td>0.7820</td>\n",
       "      <td>0.3695</td>\n",
       "      <td>0.1600</td>\n",
       "      <td>0.1975</td>\n",
       "      <td>9</td>\n",
       "    </tr>\n",
       "  </tbody>\n",
       "</table>\n",
       "</div>"
      ],
      "text/plain": [
       "   id Sex  Length  Diameter  Height  Whole weight  Whole weight.1  \\\n",
       "0   0   F   0.550     0.430   0.150        0.7715          0.3285   \n",
       "1   1   F   0.630     0.490   0.145        1.1300          0.4580   \n",
       "2   2   I   0.160     0.110   0.025        0.0210          0.0055   \n",
       "3   3   M   0.595     0.475   0.150        0.9145          0.3755   \n",
       "4   4   I   0.555     0.425   0.130        0.7820          0.3695   \n",
       "\n",
       "   Whole weight.2  Shell weight  Rings  \n",
       "0          0.1465        0.2400     11  \n",
       "1          0.2765        0.3200     11  \n",
       "2          0.0030        0.0050      6  \n",
       "3          0.2055        0.2500     10  \n",
       "4          0.1600        0.1975      9  "
      ]
     },
     "execution_count": 3,
     "metadata": {},
     "output_type": "execute_result"
    }
   ],
   "source": [
    "train.head()"
   ]
  },
  {
   "cell_type": "markdown",
   "id": "49ed79ec",
   "metadata": {
    "papermill": {
     "duration": 0.006319,
     "end_time": "2024-04-01T03:49:33.030212",
     "exception": false,
     "start_time": "2024-04-01T03:49:33.023893",
     "status": "completed"
    },
    "tags": []
   },
   "source": [
    "# Preprocessing"
   ]
  },
  {
   "cell_type": "code",
   "execution_count": 4,
   "id": "2989c9c6",
   "metadata": {
    "execution": {
     "iopub.execute_input": "2024-04-01T03:49:33.046376Z",
     "iopub.status.busy": "2024-04-01T03:49:33.045554Z",
     "iopub.status.idle": "2024-04-01T03:49:33.118765Z",
     "shell.execute_reply": "2024-04-01T03:49:33.117227Z"
    },
    "papermill": {
     "duration": 0.085282,
     "end_time": "2024-04-01T03:49:33.122244",
     "exception": false,
     "start_time": "2024-04-01T03:49:33.036962",
     "status": "completed"
    },
    "tags": []
   },
   "outputs": [],
   "source": [
    "train['Sex'] = train['Sex'].map({'M': 0, 'F': 1, 'I': 2})\n",
    "test['Sex'] = test['Sex'].map({'M': 0, 'F': 1, 'I': 2})\n",
    "\n",
    "scaler = StandardScaler()\n",
    "features_to_scale = ['Length', 'Diameter', 'Height', 'Whole weight', 'Whole weight.1', 'Whole weight.2', 'Shell weight']\n",
    "train[features_to_scale] = scaler.fit_transform(train[features_to_scale])\n",
    "test[features_to_scale] = scaler.transform(test[features_to_scale])"
   ]
  },
  {
   "cell_type": "code",
   "execution_count": 5,
   "id": "fbb34961",
   "metadata": {
    "execution": {
     "iopub.execute_input": "2024-04-01T03:49:33.142176Z",
     "iopub.status.busy": "2024-04-01T03:49:33.140762Z",
     "iopub.status.idle": "2024-04-01T03:49:33.161383Z",
     "shell.execute_reply": "2024-04-01T03:49:33.159799Z"
    },
    "papermill": {
     "duration": 0.035192,
     "end_time": "2024-04-01T03:49:33.164409",
     "exception": false,
     "start_time": "2024-04-01T03:49:33.129217",
     "status": "completed"
    },
    "tags": []
   },
   "outputs": [],
   "source": [
    "X = train.drop(['id', 'Rings'], axis=1)\n",
    "y = train['Rings']\n",
    "\n",
    "X_test = test.drop('id', axis=1)"
   ]
  },
  {
   "cell_type": "markdown",
   "id": "cbafc005",
   "metadata": {
    "papermill": {
     "duration": 0.006007,
     "end_time": "2024-04-01T03:49:33.176911",
     "exception": false,
     "start_time": "2024-04-01T03:49:33.170904",
     "status": "completed"
    },
    "tags": []
   },
   "source": [
    "# Defining CV & Training Function"
   ]
  },
  {
   "cell_type": "code",
   "execution_count": 6,
   "id": "7c11cc36",
   "metadata": {
    "execution": {
     "iopub.execute_input": "2024-04-01T03:49:33.195909Z",
     "iopub.status.busy": "2024-04-01T03:49:33.194387Z",
     "iopub.status.idle": "2024-04-01T03:49:33.204768Z",
     "shell.execute_reply": "2024-04-01T03:49:33.203783Z"
    },
    "papermill": {
     "duration": 0.022687,
     "end_time": "2024-04-01T03:49:33.207482",
     "exception": false,
     "start_time": "2024-04-01T03:49:33.184795",
     "status": "completed"
    },
    "tags": []
   },
   "outputs": [],
   "source": [
    "def rmsle(y_true, y_pred):\n",
    "    return np.sqrt(mean_squared_log_error(y_true, y_pred))\n",
    "\n",
    "def cv_rmse(model):\n",
    "    kf = KFold(n_splits=5, shuffle=True, random_state=seed)\n",
    "    rmse = []\n",
    "    for train_idx, val_idx in kf.split(X):\n",
    "        X_train, X_val = X.iloc[train_idx], X.iloc[val_idx]\n",
    "        y_train, y_val = y.iloc[train_idx], y.iloc[val_idx]\n",
    "        model.fit(X_train, y_train)\n",
    "        y_pred = model.predict(X_val)\n",
    "        rmse.append(rmsle(y_val, y_pred))\n",
    "    return np.mean(rmse)"
   ]
  },
  {
   "cell_type": "markdown",
   "id": "f060b075",
   "metadata": {
    "papermill": {
     "duration": 0.009177,
     "end_time": "2024-04-01T03:49:33.226166",
     "exception": false,
     "start_time": "2024-04-01T03:49:33.216989",
     "status": "completed"
    },
    "tags": []
   },
   "source": [
    "# Training Base Models"
   ]
  },
  {
   "cell_type": "code",
   "execution_count": 7,
   "id": "816a52cb",
   "metadata": {
    "execution": {
     "iopub.execute_input": "2024-04-01T03:49:33.243722Z",
     "iopub.status.busy": "2024-04-01T03:49:33.242660Z",
     "iopub.status.idle": "2024-04-01T03:49:33.255861Z",
     "shell.execute_reply": "2024-04-01T03:49:33.253745Z"
    },
    "papermill": {
     "duration": 0.023918,
     "end_time": "2024-04-01T03:49:33.258908",
     "exception": false,
     "start_time": "2024-04-01T03:49:33.234990",
     "status": "completed"
    },
    "tags": []
   },
   "outputs": [],
   "source": [
    "models = [\n",
    "    CatBoostRegressor(random_state=seed, verbose=False),\n",
    "    LGBMRegressor(random_state=seed, verbose=-1),\n",
    "    DecisionTreeRegressor(random_state=seed),\n",
    "    RandomForestRegressor(random_state=seed, n_jobs=-1),\n",
    "    GradientBoostingRegressor(random_state=seed),\n",
    "    KNeighborsRegressor(n_jobs=-1),\n",
    "    XGBRegressor(random_state=seed, n_jobs=-1),\n",
    "]"
   ]
  },
  {
   "cell_type": "code",
   "execution_count": 8,
   "id": "b893b4e8",
   "metadata": {
    "execution": {
     "iopub.execute_input": "2024-04-01T03:49:33.273128Z",
     "iopub.status.busy": "2024-04-01T03:49:33.272669Z",
     "iopub.status.idle": "2024-04-01T03:54:34.112492Z",
     "shell.execute_reply": "2024-04-01T03:54:34.110930Z"
    },
    "papermill": {
     "duration": 300.850261,
     "end_time": "2024-04-01T03:54:34.115582",
     "exception": false,
     "start_time": "2024-04-01T03:49:33.265321",
     "status": "completed"
    },
    "tags": []
   },
   "outputs": [
    {
     "name": "stdout",
     "output_type": "stream",
     "text": [
      "CatBoostRegressor: 0.14945001834160285\n",
      "LGBMRegressor: 0.15043815177506134\n",
      "DecisionTreeRegressor: 0.21595612753815946\n",
      "RandomForestRegressor: 0.15408457977045256\n",
      "GradientBoostingRegressor: 0.1530352367914934\n",
      "KNeighborsRegressor: 0.16540187814778026\n",
      "XGBRegressor: 0.1511116786232252\n"
     ]
    }
   ],
   "source": [
    "model_scores = {}\n",
    "for model in models:\n",
    "    score = cv_rmse(model)\n",
    "    model_scores[model.__class__.__name__] = score\n",
    "    print(f'{model.__class__.__name__}: {score}')"
   ]
  },
  {
   "cell_type": "code",
   "execution_count": 9,
   "id": "aa9a556c",
   "metadata": {
    "execution": {
     "iopub.execute_input": "2024-04-01T03:54:34.132090Z",
     "iopub.status.busy": "2024-04-01T03:54:34.131199Z",
     "iopub.status.idle": "2024-04-01T03:54:34.475925Z",
     "shell.execute_reply": "2024-04-01T03:54:34.474689Z"
    },
    "papermill": {
     "duration": 0.356739,
     "end_time": "2024-04-01T03:54:34.479255",
     "exception": false,
     "start_time": "2024-04-01T03:54:34.122516",
     "status": "completed"
    },
    "tags": []
   },
   "outputs": [
    {
     "data": {
      "image/png": "[encoded data removed]",
      "text/plain": [
       "<Figure size 1200x600 with 1 Axes>"
      ]
     },
     "metadata": {},
     "output_type": "display_data"
    }
   ],
   "source": [
    "model_scores = dict(sorted(model_scores.items(), key=lambda x: x[1]))\n",
    "\n",
    "plt.figure(figsize=(12, 6))\n",
    "sns.barplot(y=list(model_scores.keys()), x=list(model_scores.values()), palette=\"viridis\")\n",
    "plt.title('RMSLE')\n",
    "plt.show()"
   ]
  },
  {
   "cell_type": "markdown",
   "id": "2b8f93d6",
   "metadata": {
    "papermill": {
     "duration": 0.007312,
     "end_time": "2024-04-01T03:54:34.494281",
     "exception": false,
     "start_time": "2024-04-01T03:54:34.486969",
     "status": "completed"
    },
    "tags": []
   },
   "source": [
    "# Training the Best Model and Submitting"
   ]
  },
  {
   "cell_type": "code",
   "execution_count": 10,
   "id": "f7ffd43d",
   "metadata": {
    "execution": {
     "iopub.execute_input": "2024-04-01T03:54:34.510831Z",
     "iopub.status.busy": "2024-04-01T03:54:34.510432Z",
     "iopub.status.idle": "2024-04-01T03:54:44.773078Z",
     "shell.execute_reply": "2024-04-01T03:54:44.771705Z"
    },
    "papermill": {
     "duration": 10.275551,
     "end_time": "2024-04-01T03:54:44.777255",
     "exception": false,
     "start_time": "2024-04-01T03:54:34.501704",
     "status": "completed"
    },
    "tags": []
   },
   "outputs": [],
   "source": [
    "best_model = list(model_scores.keys())[0]\n",
    "model = [model for model in models if model.__class__.__name__ == best_model][0]\n",
    "\n",
    "model.fit(X, y)\n",
    "predictions = model.predict(X_test)"
   ]
  },
  {
   "cell_type": "code",
   "execution_count": 11,
   "id": "a1020a81",
   "metadata": {
    "execution": {
     "iopub.execute_input": "2024-04-01T03:54:44.795124Z",
     "iopub.status.busy": "2024-04-01T03:54:44.794182Z",
     "iopub.status.idle": "2024-04-01T03:54:45.022144Z",
     "shell.execute_reply": "2024-04-01T03:54:45.020725Z"
    },
    "papermill": {
     "duration": 0.239844,
     "end_time": "2024-04-01T03:54:45.025136",
     "exception": false,
     "start_time": "2024-04-01T03:54:44.785292",
     "status": "completed"
    },
    "tags": []
   },
   "outputs": [
    {
     "data": {
      "text/html": [
       "<div>\n",
       "<style scoped>\n",
       "    .dataframe tbody tr th:only-of-type {\n",
       "        vertical-align: middle;\n",
       "    }\n",
       "\n",
       "    .dataframe tbody tr th {\n",
       "        vertical-align: top;\n",
       "    }\n",
       "\n",
       "    .dataframe thead th {\n",
       "        text-align: right;\n",
       "    }\n",
       "</style>\n",
       "<table border=\"1\" class=\"dataframe\">\n",
       "  <thead>\n",
       "    <tr style=\"text-align: right;\">\n",
       "      <th></th>\n",
       "      <th>id</th>\n",
       "      <th>Rings</th>\n",
       "    </tr>\n",
       "  </thead>\n",
       "  <tbody>\n",
       "    <tr>\n",
       "      <th>0</th>\n",
       "      <td>90615</td>\n",
       "      <td>9.590058</td>\n",
       "    </tr>\n",
       "    <tr>\n",
       "      <th>1</th>\n",
       "      <td>90616</td>\n",
       "      <td>9.696994</td>\n",
       "    </tr>\n",
       "    <tr>\n",
       "      <th>2</th>\n",
       "      <td>90617</td>\n",
       "      <td>10.236317</td>\n",
       "    </tr>\n",
       "    <tr>\n",
       "      <th>3</th>\n",
       "      <td>90618</td>\n",
       "      <td>10.082051</td>\n",
       "    </tr>\n",
       "    <tr>\n",
       "      <th>4</th>\n",
       "      <td>90619</td>\n",
       "      <td>7.553735</td>\n",
       "    </tr>\n",
       "  </tbody>\n",
       "</table>\n",
       "</div>"
      ],
      "text/plain": [
       "      id      Rings\n",
       "0  90615   9.590058\n",
       "1  90616   9.696994\n",
       "2  90617  10.236317\n",
       "3  90618  10.082051\n",
       "4  90619   7.553735"
      ]
     },
     "execution_count": 11,
     "metadata": {},
     "output_type": "execute_result"
    }
   ],
   "source": [
    "submission = pd.DataFrame({'id': test_ids, 'Rings': predictions})\n",
    "submission.to_csv(f'{best_model}.csv', index=False)\n",
    "submission.head()"
   ]
  }
 ],
 "metadata": {
  "kaggle": {
   "accelerator": "none",
   "dataSources": [
    {
     "databundleVersionId": 8096274,
     "sourceId": 72489,
     "sourceType": "competition"
    }
   ],
   "dockerImageVersionId": 30673,
   "isGpuEnabled": false,
   "isInternetEnabled": true,
   "language": "python",
   "sourceType": "notebook"
  },
  "kernelspec": {
   "display_name": "Python 3",
   "language": "python",
   "name": "python3"
  },
  "language_info": {
   "codemirror_mode": {
    "name": "ipython",
    "version": 3
   },
   "file_extension": ".py",
   "mimetype": "text/x-python",
   "name": "python",
   "nbconvert_exporter": "python",
   "pygments_lexer": "ipython3",
   "version": "3.10.13"
  },
  "papermill": {
   "default_parameters": {},
   "duration": 321.61436,
   "end_time": "2024-04-01T03:54:46.057839",
   "environment_variables": {},
   "exception": null,
   "input_path": "__notebook__.ipynb",
   "output_path": "__notebook__.ipynb",
   "parameters": {},
   "start_time": "2024-04-01T03:49:24.443479",
   "version": "2.5.0"
  }
 },
 "nbformat": 4,
 "nbformat_minor": 5
}
