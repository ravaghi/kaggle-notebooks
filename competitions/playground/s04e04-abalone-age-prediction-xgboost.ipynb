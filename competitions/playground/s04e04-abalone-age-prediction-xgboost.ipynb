{
 "cells": [
  {
   "cell_type": "code",
   "execution_count": 1,
   "id": "8c7332b2",
   "metadata": {
    "_cell_guid": "b1076dfc-b9ad-4769-8c92-a6c4dae69d19",
    "_uuid": "8f2839f25d086af736a60e9eeb907d3b93b6e0e5",
    "execution": {
     "iopub.execute_input": "2024-04-01T03:18:26.883606Z",
     "iopub.status.busy": "2024-04-01T03:18:26.882482Z",
     "iopub.status.idle": "2024-04-01T03:18:30.274770Z",
     "shell.execute_reply": "2024-04-01T03:18:30.273358Z"
    },
    "papermill": {
     "duration": 3.404814,
     "end_time": "2024-04-01T03:18:30.278228",
     "exception": false,
     "start_time": "2024-04-01T03:18:26.873414",
     "status": "completed"
    },
    "tags": []
   },
   "outputs": [],
   "source": [
    "import optuna\n",
    "import pandas as pd\n",
    "import numpy as np\n",
    "import warnings\n",
    "from sklearn.model_selection import KFold \n",
    "from xgboost import XGBRegressor\n",
    "from sklearn.preprocessing import StandardScaler\n",
    "from sklearn.metrics import mean_squared_log_error\n",
    "\n",
    "\n",
    "warnings.filterwarnings('ignore')\n",
    "seed = 27"
   ]
  },
  {
   "cell_type": "markdown",
   "id": "daed6c66",
   "metadata": {
    "papermill": {
     "duration": 0.005358,
     "end_time": "2024-04-01T03:18:30.289791",
     "exception": false,
     "start_time": "2024-04-01T03:18:30.284433",
     "status": "completed"
    },
    "tags": []
   },
   "source": [
    "# Loading Data"
   ]
  },
  {
   "cell_type": "code",
   "execution_count": 2,
   "id": "b9e5cd1e",
   "metadata": {
    "execution": {
     "iopub.execute_input": "2024-04-01T03:18:30.303923Z",
     "iopub.status.busy": "2024-04-01T03:18:30.303231Z",
     "iopub.status.idle": "2024-04-01T03:18:30.662722Z",
     "shell.execute_reply": "2024-04-01T03:18:30.661423Z"
    },
    "papermill": {
     "duration": 0.370479,
     "end_time": "2024-04-01T03:18:30.666024",
     "exception": false,
     "start_time": "2024-04-01T03:18:30.295545",
     "status": "completed"
    },
    "tags": []
   },
   "outputs": [],
   "source": [
    "train = pd.read_csv('/kaggle/input/playground-series-s4e4/train.csv')\n",
    "test = pd.read_csv('/kaggle/input/playground-series-s4e4/test.csv')\n",
    "\n",
    "test_ids = test['id']"
   ]
  },
  {
   "cell_type": "code",
   "execution_count": 3,
   "id": "913d73ce",
   "metadata": {
    "execution": {
     "iopub.execute_input": "2024-04-01T03:18:30.679930Z",
     "iopub.status.busy": "2024-04-01T03:18:30.679457Z",
     "iopub.status.idle": "2024-04-01T03:18:30.706395Z",
     "shell.execute_reply": "2024-04-01T03:18:30.705468Z"
    },
    "papermill": {
     "duration": 0.03705,
     "end_time": "2024-04-01T03:18:30.709043",
     "exception": false,
     "start_time": "2024-04-01T03:18:30.671993",
     "status": "completed"
    },
    "tags": []
   },
   "outputs": [
    {
     "data": {
      "text/html": [
       "<div>\n",
       "<style scoped>\n",
       "    .dataframe tbody tr th:only-of-type {\n",
       "        vertical-align: middle;\n",
       "    }\n",
       "\n",
       "    .dataframe tbody tr th {\n",
       "        vertical-align: top;\n",
       "    }\n",
       "\n",
       "    .dataframe thead th {\n",
       "        text-align: right;\n",
       "    }\n",
       "</style>\n",
       "<table border=\"1\" class=\"dataframe\">\n",
       "  <thead>\n",
       "    <tr style=\"text-align: right;\">\n",
       "      <th></th>\n",
       "      <th>id</th>\n",
       "      <th>Sex</th>\n",
       "      <th>Length</th>\n",
       "      <th>Diameter</th>\n",
       "      <th>Height</th>\n",
       "      <th>Whole weight</th>\n",
       "      <th>Whole weight.1</th>\n",
       "      <th>Whole weight.2</th>\n",
       "      <th>Shell weight</th>\n",
       "      <th>Rings</th>\n",
       "    </tr>\n",
       "  </thead>\n",
       "  <tbody>\n",
       "    <tr>\n",
       "      <th>0</th>\n",
       "      <td>0</td>\n",
       "      <td>F</td>\n",
       "      <td>0.550</td>\n",
       "      <td>0.430</td>\n",
       "      <td>0.150</td>\n",
       "      <td>0.7715</td>\n",
       "      <td>0.3285</td>\n",
       "      <td>0.1465</td>\n",
       "      <td>0.2400</td>\n",
       "      <td>11</td>\n",
       "    </tr>\n",
       "    <tr>\n",
       "      <th>1</th>\n",
       "      <td>1</td>\n",
       "      <td>F</td>\n",
       "      <td>0.630</td>\n",
       "      <td>0.490</td>\n",
       "      <td>0.145</td>\n",
       "      <td>1.1300</td>\n",
       "      <td>0.4580</td>\n",
       "      <td>0.2765</td>\n",
       "      <td>0.3200</td>\n",
       "      <td>11</td>\n",
       "    </tr>\n",
       "    <tr>\n",
       "      <th>2</th>\n",
       "      <td>2</td>\n",
       "      <td>I</td>\n",
       "      <td>0.160</td>\n",
       "      <td>0.110</td>\n",
       "      <td>0.025</td>\n",
       "      <td>0.0210</td>\n",
       "      <td>0.0055</td>\n",
       "      <td>0.0030</td>\n",
       "      <td>0.0050</td>\n",
       "      <td>6</td>\n",
       "    </tr>\n",
       "    <tr>\n",
       "      <th>3</th>\n",
       "      <td>3</td>\n",
       "      <td>M</td>\n",
       "      <td>0.595</td>\n",
       "      <td>0.475</td>\n",
       "      <td>0.150</td>\n",
       "      <td>0.9145</td>\n",
       "      <td>0.3755</td>\n",
       "      <td>0.2055</td>\n",
       "      <td>0.2500</td>\n",
       "      <td>10</td>\n",
       "    </tr>\n",
       "    <tr>\n",
       "      <th>4</th>\n",
       "      <td>4</td>\n",
       "      <td>I</td>\n",
       "      <td>0.555</td>\n",
       "      <td>0.425</td>\n",
       "      <td>0.130</td>\n",
       "      <td>0.7820</td>\n",
       "      <td>0.3695</td>\n",
       "      <td>0.1600</td>\n",
       "      <td>0.1975</td>\n",
       "      <td>9</td>\n",
       "    </tr>\n",
       "  </tbody>\n",
       "</table>\n",
       "</div>"
      ],
      "text/plain": [
       "   id Sex  Length  Diameter  Height  Whole weight  Whole weight.1  \\\n",
       "0   0   F   0.550     0.430   0.150        0.7715          0.3285   \n",
       "1   1   F   0.630     0.490   0.145        1.1300          0.4580   \n",
       "2   2   I   0.160     0.110   0.025        0.0210          0.0055   \n",
       "3   3   M   0.595     0.475   0.150        0.9145          0.3755   \n",
       "4   4   I   0.555     0.425   0.130        0.7820          0.3695   \n",
       "\n",
       "   Whole weight.2  Shell weight  Rings  \n",
       "0          0.1465        0.2400     11  \n",
       "1          0.2765        0.3200     11  \n",
       "2          0.0030        0.0050      6  \n",
       "3          0.2055        0.2500     10  \n",
       "4          0.1600        0.1975      9  "
      ]
     },
     "execution_count": 3,
     "metadata": {},
     "output_type": "execute_result"
    }
   ],
   "source": [
    "train.head()"
   ]
  },
  {
   "cell_type": "markdown",
   "id": "c7e9b66a",
   "metadata": {
    "papermill": {
     "duration": 0.005868,
     "end_time": "2024-04-01T03:18:30.721294",
     "exception": false,
     "start_time": "2024-04-01T03:18:30.715426",
     "status": "completed"
    },
    "tags": []
   },
   "source": [
    "# Preprocessing"
   ]
  },
  {
   "cell_type": "code",
   "execution_count": 4,
   "id": "4d470514",
   "metadata": {
    "execution": {
     "iopub.execute_input": "2024-04-01T03:18:30.736226Z",
     "iopub.status.busy": "2024-04-01T03:18:30.735527Z",
     "iopub.status.idle": "2024-04-01T03:18:30.807795Z",
     "shell.execute_reply": "2024-04-01T03:18:30.806427Z"
    },
    "papermill": {
     "duration": 0.083407,
     "end_time": "2024-04-01T03:18:30.811021",
     "exception": false,
     "start_time": "2024-04-01T03:18:30.727614",
     "status": "completed"
    },
    "tags": []
   },
   "outputs": [],
   "source": [
    "train['Sex'] = train['Sex'].map({'M': 0, 'F': 1, 'I': 2})\n",
    "test['Sex'] = test['Sex'].map({'M': 0, 'F': 1, 'I': 2})\n",
    "\n",
    "scaler = StandardScaler()\n",
    "features_to_scale = ['Length', 'Diameter', 'Height', 'Whole weight', 'Whole weight.1', 'Whole weight.2', 'Shell weight']\n",
    "train[features_to_scale] = scaler.fit_transform(train[features_to_scale])\n",
    "test[features_to_scale] = scaler.transform(test[features_to_scale])"
   ]
  },
  {
   "cell_type": "code",
   "execution_count": 5,
   "id": "3683b751",
   "metadata": {
    "execution": {
     "iopub.execute_input": "2024-04-01T03:18:30.825590Z",
     "iopub.status.busy": "2024-04-01T03:18:30.825157Z",
     "iopub.status.idle": "2024-04-01T03:18:30.839549Z",
     "shell.execute_reply": "2024-04-01T03:18:30.838249Z"
    },
    "papermill": {
     "duration": 0.025521,
     "end_time": "2024-04-01T03:18:30.842747",
     "exception": false,
     "start_time": "2024-04-01T03:18:30.817226",
     "status": "completed"
    },
    "tags": []
   },
   "outputs": [],
   "source": [
    "X = train.drop(['id', 'Rings'], axis=1)\n",
    "y = train['Rings']\n",
    "\n",
    "X_test = test.drop('id', axis=1)"
   ]
  },
  {
   "cell_type": "markdown",
   "id": "b6e5de5d",
   "metadata": {
    "papermill": {
     "duration": 0.005779,
     "end_time": "2024-04-01T03:18:30.854596",
     "exception": false,
     "start_time": "2024-04-01T03:18:30.848817",
     "status": "completed"
    },
    "tags": []
   },
   "source": [
    "# Tuning with Optuna"
   ]
  },
  {
   "cell_type": "code",
   "execution_count": 6,
   "id": "462cdfef",
   "metadata": {
    "execution": {
     "iopub.execute_input": "2024-04-01T03:18:30.868836Z",
     "iopub.status.busy": "2024-04-01T03:18:30.868335Z",
     "iopub.status.idle": "2024-04-01T03:18:30.880784Z",
     "shell.execute_reply": "2024-04-01T03:18:30.879490Z"
    },
    "papermill": {
     "duration": 0.023335,
     "end_time": "2024-04-01T03:18:30.883883",
     "exception": false,
     "start_time": "2024-04-01T03:18:30.860548",
     "status": "completed"
    },
    "tags": []
   },
   "outputs": [],
   "source": [
    "def objective(trial):\n",
    "    params = {\n",
    "        'n_estimators': trial.suggest_int('n_estimators', 10, 1000),\n",
    "        'learning_rate': trial.suggest_float('learning_rate', 0.01, 0.5, log=True),\n",
    "        'gamma': trial.suggest_float('gamma', 1e-3, 1, log=True),\n",
    "        'reg_alpha': trial.suggest_float('reg_alpha', 1e-3, 1, log=True),\n",
    "        'reg_lambda': trial.suggest_float('reg_lambda', 1e-3, 1, log=True),\n",
    "        'max_depth': trial.suggest_int('max_depth', 3, 15),\n",
    "        \"min_child_weight\": trial.suggest_int('min_child_weight', 1, 10),\n",
    "        'subsample': trial.suggest_float('subsample', 0.5, 1, log=True),\n",
    "        'colsample_bytree': trial.suggest_float('colsample_bytree', 0.5, 1, log=True)\n",
    "    }\n",
    "\n",
    "    cv = KFold(n_splits=5, shuffle=True, random_state=seed)\n",
    "\n",
    "    scores = []\n",
    "    for train_idx, valid_idx in cv.split(X, y):\n",
    "        X_train_fold, X_valid_fold = X.iloc[train_idx], X.iloc[valid_idx]\n",
    "        y_train_fold, y_valid_fold = y.iloc[train_idx], y.iloc[valid_idx]\n",
    "\n",
    "        model = XGBRegressor(**params, random_state=27)\n",
    "        model.fit(X_train_fold, y_train_fold)\n",
    "\n",
    "        y_pred = model.predict(X_valid_fold)\n",
    "        score = np.sqrt(mean_squared_log_error(y_valid_fold, y_pred))\n",
    "\n",
    "        scores.append(score)\n",
    "\n",
    "    return np.mean(scores)"
   ]
  },
  {
   "cell_type": "code",
   "execution_count": 7,
   "id": "943c1fb4",
   "metadata": {
    "_kg_hide-output": true,
    "execution": {
     "iopub.execute_input": "2024-04-01T03:18:30.898977Z",
     "iopub.status.busy": "2024-04-01T03:18:30.897829Z",
     "iopub.status.idle": "2024-04-01T04:00:10.568617Z",
     "shell.execute_reply": "2024-04-01T04:00:10.567294Z"
    },
    "papermill": {
     "duration": 2499.682168,
     "end_time": "2024-04-01T04:00:10.572238",
     "exception": false,
     "start_time": "2024-04-01T03:18:30.890070",
     "status": "completed"
    },
    "tags": []
   },
   "outputs": [
    {
     "name": "stderr",
     "output_type": "stream",
     "text": [
      "[I 2024-04-01 03:18:30,902] A new study created in memory with name: XGBRegressor\n",
      "[I 2024-04-01 03:18:36,731] Trial 2 finished with value: 0.15330425088947203 and parameters: {'n_estimators': 65, 'learning_rate': 0.09288673015852558, 'gamma': 0.010412858287555199, 'reg_alpha': 0.13462578187146843, 'reg_lambda': 0.17542471703145876, 'max_depth': 4, 'min_child_weight': 5, 'subsample': 0.6749939888660631, 'colsample_bytree': 0.5493508026250103}. Best is trial 2 with value: 0.15330425088947203.\n",
      "[I 2024-04-01 03:18:40,473] Trial 3 finished with value: 0.15211673010666424 and parameters: {'n_estimators': 83, 'learning_rate': 0.23848265685967324, 'gamma': 0.09729032601223381, 'reg_alpha': 0.02443331986625056, 'reg_lambda': 0.6308237295884384, 'max_depth': 7, 'min_child_weight': 1, 'subsample': 0.5671303217699711, 'colsample_bytree': 0.7963217917284253}. Best is trial 3 with value: 0.15211673010666424.\n",
      "[I 2024-04-01 03:18:47,602] Trial 0 finished with value: 0.1500541804066923 and parameters: {'n_estimators': 192, 'learning_rate': 0.1456166620476421, 'gamma': 0.19631875255213835, 'reg_alpha': 0.4063882113745595, 'reg_lambda': 0.009994981709238045, 'max_depth': 6, 'min_child_weight': 9, 'subsample': 0.8685818296978939, 'colsample_bytree': 0.7490256955164936}. Best is trial 0 with value: 0.1500541804066923.\n",
      "[I 2024-04-01 03:18:55,451] Trial 6 finished with value: 0.16211633533869754 and parameters: {'n_estimators': 89, 'learning_rate': 0.022865768862681324, 'gamma': 0.0021051422005280373, 'reg_alpha': 0.4776768690853678, 'reg_lambda': 0.01473621113490247, 'max_depth': 4, 'min_child_weight': 8, 'subsample': 0.8726719915458155, 'colsample_bytree': 0.8653210755538119}. Best is trial 0 with value: 0.1500541804066923.\n",
      "[I 2024-04-01 03:18:55,847] Trial 4 finished with value: 0.15432986333877782 and parameters: {'n_estimators': 312, 'learning_rate': 0.025798845393382935, 'gamma': 0.03266365941124253, 'reg_alpha': 0.5675877871660623, 'reg_lambda': 0.022499743398468285, 'max_depth': 3, 'min_child_weight': 2, 'subsample': 0.7237086552540628, 'colsample_bytree': 0.5299257378090182}. Best is trial 0 with value: 0.1500541804066923.\n",
      "[I 2024-04-01 03:19:33,082] Trial 1 finished with value: 0.16071677954064545 and parameters: {'n_estimators': 380, 'learning_rate': 0.21500875175190112, 'gamma': 0.0966013730933936, 'reg_alpha': 0.019908945249499134, 'reg_lambda': 0.00453153979827745, 'max_depth': 12, 'min_child_weight': 5, 'subsample': 0.9761076738241766, 'colsample_bytree': 0.9171278657618614}. Best is trial 0 with value: 0.1500541804066923.\n",
      "[I 2024-04-01 03:20:14,456] Trial 8 finished with value: 0.15268105573333196 and parameters: {'n_estimators': 106, 'learning_rate': 0.03495468901424138, 'gamma': 0.6800228995022736, 'reg_alpha': 0.158055976843109, 'reg_lambda': 0.004357353626967622, 'max_depth': 14, 'min_child_weight': 3, 'subsample': 0.867961305884692, 'colsample_bytree': 0.8786718886552117}. Best is trial 0 with value: 0.1500541804066923.\n",
      "[I 2024-04-01 03:20:24,180] Trial 7 finished with value: 0.16814276310271048 and parameters: {'n_estimators': 922, 'learning_rate': 0.3336148575389408, 'gamma': 0.0085679532169176, 'reg_alpha': 0.09819387148944819, 'reg_lambda': 0.2062611475421935, 'max_depth': 7, 'min_child_weight': 5, 'subsample': 0.747742964026595, 'colsample_bytree': 0.5338521130384286}. Best is trial 0 with value: 0.1500541804066923.\n",
      "[I 2024-04-01 03:20:41,305] Trial 9 finished with value: 0.15030127552361783 and parameters: {'n_estimators': 351, 'learning_rate': 0.03156735919059394, 'gamma': 0.0070641413078476245, 'reg_alpha': 0.07452318001973367, 'reg_lambda': 0.006886259045932125, 'max_depth': 11, 'min_child_weight': 9, 'subsample': 0.5243819375652033, 'colsample_bytree': 0.9150092599856865}. Best is trial 0 with value: 0.1500541804066923.\n",
      "[I 2024-04-01 03:20:54,438] Trial 5 finished with value: 0.14954433412749685 and parameters: {'n_estimators': 660, 'learning_rate': 0.014520888619161678, 'gamma': 0.007197243802045437, 'reg_alpha': 0.0060119015753430025, 'reg_lambda': 0.2589668484911812, 'max_depth': 11, 'min_child_weight': 9, 'subsample': 0.6691889324445313, 'colsample_bytree': 0.556923551148897}. Best is trial 5 with value: 0.14954433412749685.\n",
      "[I 2024-04-01 03:21:14,764] Trial 10 finished with value: 0.15035107034902223 and parameters: {'n_estimators': 944, 'learning_rate': 0.022019171434631123, 'gamma': 0.40392249246761425, 'reg_alpha': 0.16389743550540448, 'reg_lambda': 0.003999636149790812, 'max_depth': 4, 'min_child_weight': 6, 'subsample': 0.881571917344543, 'colsample_bytree': 0.7799803735779627}. Best is trial 5 with value: 0.14954433412749685.\n",
      "[I 2024-04-01 03:22:42,311] Trial 14 finished with value: 0.15375669182408688 and parameters: {'n_estimators': 701, 'learning_rate': 0.0891796916131739, 'gamma': 0.0012694018392499647, 'reg_alpha': 0.0031076130103569618, 'reg_lambda': 0.0011503834210051334, 'max_depth': 9, 'min_child_weight': 10, 'subsample': 0.6688443201743568, 'colsample_bytree': 0.6357942197123263}. Best is trial 5 with value: 0.14954433412749685.\n",
      "[I 2024-04-01 03:23:00,508] Trial 12 finished with value: 0.15481065160798296 and parameters: {'n_estimators': 788, 'learning_rate': 0.07147878495560596, 'gamma': 0.004916457499379204, 'reg_alpha': 0.4710504906965542, 'reg_lambda': 0.016376495169156815, 'max_depth': 11, 'min_child_weight': 6, 'subsample': 0.8801977233786183, 'colsample_bytree': 0.5360573308230965}. Best is trial 5 with value: 0.14954433412749685.\n",
      "[I 2024-04-01 03:23:09,908] Trial 13 finished with value: 0.14933279306509675 and parameters: {'n_estimators': 713, 'learning_rate': 0.010076562019538713, 'gamma': 0.0015244662124985168, 'reg_alpha': 0.0011811981613572286, 'reg_lambda': 0.0010491716020434956, 'max_depth': 10, 'min_child_weight': 7, 'subsample': 0.6214088506915629, 'colsample_bytree': 0.6333669488175059}. Best is trial 13 with value: 0.14933279306509675.\n",
      "[I 2024-04-01 03:23:58,054] Trial 15 finished with value: 0.1496455201024016 and parameters: {'n_estimators': 681, 'learning_rate': 0.010310300169190868, 'gamma': 0.17409271041462693, 'reg_alpha': 0.004210015627281661, 'reg_lambda': 0.08434962769595984, 'max_depth': 7, 'min_child_weight': 8, 'subsample': 0.6177938427208984, 'colsample_bytree': 0.660989451939304}. Best is trial 13 with value: 0.14933279306509675.\n",
      "[I 2024-04-01 03:24:00,797] Trial 16 finished with value: 0.1499639658771058 and parameters: {'n_estimators': 501, 'learning_rate': 0.01010764852454035, 'gamma': 0.039597389441114274, 'reg_alpha': 0.0040889501609650426, 'reg_lambda': 0.07278767022854561, 'max_depth': 7, 'min_child_weight': 8, 'subsample': 0.6240336144898069, 'colsample_bytree': 0.6483494116343439}. Best is trial 13 with value: 0.14933279306509675.\n",
      "[I 2024-04-01 03:24:23,618] Trial 11 finished with value: 0.15185497593243086 and parameters: {'n_estimators': 801, 'learning_rate': 0.016769820954355624, 'gamma': 0.014210283836300288, 'reg_alpha': 0.0026016936965934405, 'reg_lambda': 0.030515339876915636, 'max_depth': 13, 'min_child_weight': 6, 'subsample': 0.7497884815569982, 'colsample_bytree': 0.9660777586427782}. Best is trial 13 with value: 0.14933279306509675.\n",
      "[I 2024-04-01 03:26:56,750] Trial 19 finished with value: 0.1503297800777793 and parameters: {'n_estimators': 603, 'learning_rate': 0.015452240502743927, 'gamma': 0.003123512286973881, 'reg_alpha': 0.0010099256091522066, 'reg_lambda': 0.7863479099996632, 'max_depth': 13, 'min_child_weight': 7, 'subsample': 0.5042857550515949, 'colsample_bytree': 0.5717354489109681}. Best is trial 13 with value: 0.14933279306509675.\n",
      "[I 2024-04-01 03:27:56,221] Trial 17 finished with value: 0.15073321234443174 and parameters: {'n_estimators': 596, 'learning_rate': 0.010735389391947979, 'gamma': 0.003261412995542358, 'reg_alpha': 0.0011600380131820908, 'reg_lambda': 0.06320556434186304, 'max_depth': 15, 'min_child_weight': 7, 'subsample': 0.6084367625479647, 'colsample_bytree': 0.6419178774264452}. Best is trial 13 with value: 0.14933279306509675.\n",
      "[I 2024-04-01 03:28:09,726] Trial 21 finished with value: 0.15026739700007277 and parameters: {'n_estimators': 556, 'learning_rate': 0.04609631065596211, 'gamma': 0.0012286876043329964, 'reg_alpha': 0.010764710581538472, 'reg_lambda': 0.0011441000042270028, 'max_depth': 9, 'min_child_weight': 10, 'subsample': 0.5889634213799797, 'colsample_bytree': 0.6013140218583708}. Best is trial 13 with value: 0.14933279306509675.\n",
      "[I 2024-04-01 03:28:26,070] Trial 20 finished with value: 0.1510650692558097 and parameters: {'n_estimators': 548, 'learning_rate': 0.014643168818079812, 'gamma': 0.003255209133185462, 'reg_alpha': 0.0013703612077053816, 'reg_lambda': 0.0011145316185628255, 'max_depth': 15, 'min_child_weight': 7, 'subsample': 0.5755576909375788, 'colsample_bytree': 0.5757080092529991}. Best is trial 13 with value: 0.14933279306509675.\n",
      "[I 2024-04-01 03:28:44,408] Trial 18 finished with value: 0.15066054987899347 and parameters: {'n_estimators': 546, 'learning_rate': 0.010307683015094443, 'gamma': 0.002704413396814274, 'reg_alpha': 0.0010601230624813925, 'reg_lambda': 0.0011900286012701256, 'max_depth': 15, 'min_child_weight': 7, 'subsample': 0.6063944388971364, 'colsample_bytree': 0.6031951073759463}. Best is trial 13 with value: 0.14933279306509675.\n",
      "[I 2024-04-01 03:28:59,719] Trial 22 finished with value: 0.1501639817626352 and parameters: {'n_estimators': 501, 'learning_rate': 0.04580572625842825, 'gamma': 0.0010334249121382493, 'reg_alpha': 0.00827932401151821, 'reg_lambda': 0.0012061401570998753, 'max_depth': 9, 'min_child_weight': 10, 'subsample': 0.5596013968217048, 'colsample_bytree': 0.6011237306868056}. Best is trial 13 with value: 0.14933279306509675.\n",
      "[I 2024-04-01 03:29:30,795] Trial 23 finished with value: 0.15112419947389769 and parameters: {'n_estimators': 463, 'learning_rate': 0.04341888208848888, 'gamma': 0.015385811309234228, 'reg_alpha': 0.00884692495750379, 'reg_lambda': 0.1757003494117063, 'max_depth': 10, 'min_child_weight': 4, 'subsample': 0.5553275546298138, 'colsample_bytree': 0.7102881353465759}. Best is trial 13 with value: 0.14933279306509675.\n",
      "[I 2024-04-01 03:30:31,825] Trial 24 finished with value: 0.1492714046846484 and parameters: {'n_estimators': 710, 'learning_rate': 0.010426716293610725, 'gamma': 0.02436746694374468, 'reg_alpha': 0.00865877356893514, 'reg_lambda': 0.21716388320744884, 'max_depth': 10, 'min_child_weight': 8, 'subsample': 0.643014617741692, 'colsample_bytree': 0.6775517949883985}. Best is trial 24 with value: 0.1492714046846484.\n",
      "[I 2024-04-01 03:30:41,094] Trial 25 finished with value: 0.14942429656129635 and parameters: {'n_estimators': 713, 'learning_rate': 0.01591494468278937, 'gamma': 0.024955016089033024, 'reg_alpha': 0.0069651805351011375, 'reg_lambda': 0.29597023238077375, 'max_depth': 10, 'min_child_weight': 9, 'subsample': 0.6576527201051722, 'colsample_bytree': 0.6860522780097067}. Best is trial 24 with value: 0.1492714046846484.\n",
      "[I 2024-04-01 03:30:57,498] Trial 27 finished with value: 0.1492771102182969 and parameters: {'n_estimators': 717, 'learning_rate': 0.014683045018191298, 'gamma': 0.07171611950060391, 'reg_alpha': 0.005439315667389419, 'reg_lambda': 0.36071470315655313, 'max_depth': 8, 'min_child_weight': 8, 'subsample': 0.6431213510699719, 'colsample_bytree': 0.5019000595256781}. Best is trial 24 with value: 0.1492714046846484.\n",
      "[I 2024-04-01 03:30:58,546] Trial 26 finished with value: 0.14938328165278256 and parameters: {'n_estimators': 727, 'learning_rate': 0.015393007854772633, 'gamma': 0.05666860426072142, 'reg_alpha': 0.005581764329598955, 'reg_lambda': 0.23964754775892635, 'max_depth': 10, 'min_child_weight': 8, 'subsample': 0.6489657100333514, 'colsample_bytree': 0.703580515671374}. Best is trial 24 with value: 0.1492714046846484.\n",
      "[I 2024-04-01 03:32:31,632] Trial 30 finished with value: 0.14924075570831546 and parameters: {'n_estimators': 844, 'learning_rate': 0.02148896179812167, 'gamma': 0.056466759832953496, 'reg_alpha': 0.014668965547056106, 'reg_lambda': 0.4617547499199353, 'max_depth': 8, 'min_child_weight': 8, 'subsample': 0.7038661301007677, 'colsample_bytree': 0.7314714664611892}. Best is trial 30 with value: 0.14924075570831546.\n",
      "[I 2024-04-01 03:32:34,768] Trial 31 finished with value: 0.1492546698661809 and parameters: {'n_estimators': 854, 'learning_rate': 0.019779738437857214, 'gamma': 0.09116497188846061, 'reg_alpha': 0.0021716546811303417, 'reg_lambda': 0.3855726450458422, 'max_depth': 8, 'min_child_weight': 7, 'subsample': 0.7071646634115801, 'colsample_bytree': 0.5004933406752261}. Best is trial 30 with value: 0.14924075570831546.\n",
      "[I 2024-04-01 03:32:42,211] Trial 28 finished with value: 0.1495077061955845 and parameters: {'n_estimators': 856, 'learning_rate': 0.017348812179195757, 'gamma': 0.024601283508380103, 'reg_alpha': 0.013662362818290655, 'reg_lambda': 0.3843402648454563, 'max_depth': 10, 'min_child_weight': 9, 'subsample': 0.6711566580905383, 'colsample_bytree': 0.5041046104298745}. Best is trial 30 with value: 0.14924075570831546.\n",
      "[I 2024-04-01 03:32:50,596] Trial 29 finished with value: 0.14969971405706267 and parameters: {'n_estimators': 842, 'learning_rate': 0.019203118238300523, 'gamma': 0.021965248247706546, 'reg_alpha': 0.046937264833739126, 'reg_lambda': 0.4785997395033071, 'max_depth': 10, 'min_child_weight': 8, 'subsample': 0.6362837351339151, 'colsample_bytree': 0.6935846453584212}. Best is trial 30 with value: 0.14924075570831546.\n",
      "[I 2024-04-01 03:33:47,708] Trial 33 finished with value: 0.14948500931429018 and parameters: {'n_estimators': 874, 'learning_rate': 0.02001120544683977, 'gamma': 0.2022473896802134, 'reg_alpha': 0.013937254758136985, 'reg_lambda': 0.435356672126172, 'max_depth': 6, 'min_child_weight': 4, 'subsample': 0.8009152388615753, 'colsample_bytree': 0.7442187150425548}. Best is trial 30 with value: 0.14924075570831546.\n",
      "[I 2024-04-01 03:34:05,256] Trial 32 finished with value: 0.14920033011435474 and parameters: {'n_estimators': 856, 'learning_rate': 0.020178175258540036, 'gamma': 0.09972019718953913, 'reg_alpha': 0.043614679416274414, 'reg_lambda': 0.4738113399978108, 'max_depth': 8, 'min_child_weight': 8, 'subsample': 0.8211299653117722, 'colsample_bytree': 0.5000877017664168}. Best is trial 32 with value: 0.14920033011435474.\n",
      "[I 2024-04-01 03:34:16,871] Trial 34 finished with value: 0.14925556717747904 and parameters: {'n_estimators': 866, 'learning_rate': 0.022706684861012568, 'gamma': 0.0777405551659265, 'reg_alpha': 0.041232123785516994, 'reg_lambda': 0.5545648899540873, 'max_depth': 8, 'min_child_weight': 8, 'subsample': 0.7902317456011411, 'colsample_bytree': 0.5007328222028425}. Best is trial 32 with value: 0.14920033011435474.\n",
      "[I 2024-04-01 03:34:33,362] Trial 35 finished with value: 0.14938370311723037 and parameters: {'n_estimators': 989, 'learning_rate': 0.027886344975914377, 'gamma': 0.07815534469935694, 'reg_alpha': 0.0020991989800201298, 'reg_lambda': 0.9398549819940865, 'max_depth': 8, 'min_child_weight': 9, 'subsample': 0.795657752379573, 'colsample_bytree': 0.5040175414714074}. Best is trial 32 with value: 0.14920033011435474.\n",
      "[I 2024-04-01 03:35:12,121] Trial 36 finished with value: 0.1493908112786823 and parameters: {'n_estimators': 786, 'learning_rate': 0.029462497532340724, 'gamma': 0.07340266209659004, 'reg_alpha': 0.0020710960843374976, 'reg_lambda': 0.14092196059436052, 'max_depth': 8, 'min_child_weight': 9, 'subsample': 0.7085402827439501, 'colsample_bytree': 0.5059956924649086}. Best is trial 32 with value: 0.14920033011435474.\n",
      "[I 2024-04-01 03:35:33,873] Trial 39 finished with value: 0.15324177195571093 and parameters: {'n_estimators': 786, 'learning_rate': 0.16212095336068985, 'gamma': 0.1338414590895459, 'reg_alpha': 0.030516697027367343, 'reg_lambda': 0.12099675193193019, 'max_depth': 6, 'min_child_weight': 6, 'subsample': 0.7081944251585516, 'colsample_bytree': 0.5230377299327376}. Best is trial 32 with value: 0.14920033011435474.\n",
      "[I 2024-04-01 03:35:52,068] Trial 37 finished with value: 0.14960033423419186 and parameters: {'n_estimators': 969, 'learning_rate': 0.028612026534828697, 'gamma': 0.1298654411865653, 'reg_alpha': 0.042756868381809414, 'reg_lambda': 0.9519883145114855, 'max_depth': 8, 'min_child_weight': 6, 'subsample': 0.7918285997533925, 'colsample_bytree': 0.8183116624529433}. Best is trial 32 with value: 0.14920033011435474.\n",
      "[I 2024-04-01 03:36:00,303] Trial 38 finished with value: 0.14947905849480603 and parameters: {'n_estimators': 974, 'learning_rate': 0.028533662283276678, 'gamma': 0.14954448410318924, 'reg_alpha': 0.03897196097080897, 'reg_lambda': 0.9416598055522372, 'max_depth': 8, 'min_child_weight': 6, 'subsample': 0.8210241676569676, 'colsample_bytree': 0.512415721916204}. Best is trial 32 with value: 0.14920033011435474.\n",
      "[I 2024-04-01 03:36:17,658] Trial 40 finished with value: 0.15119277900088476 and parameters: {'n_estimators': 994, 'learning_rate': 0.14051644989640072, 'gamma': 0.14249418202139888, 'reg_alpha': 0.029807439926299837, 'reg_lambda': 0.6010274111295459, 'max_depth': 5, 'min_child_weight': 6, 'subsample': 0.8001334097100937, 'colsample_bytree': 0.5233240110096994}. Best is trial 32 with value: 0.14920033011435474.\n",
      "[I 2024-04-01 03:36:52,598] Trial 42 finished with value: 0.14949373851230763 and parameters: {'n_estimators': 907, 'learning_rate': 0.05695910880304426, 'gamma': 0.3567461234634983, 'reg_alpha': 0.2443724302284317, 'reg_lambda': 0.5966650956342988, 'max_depth': 5, 'min_child_weight': 7, 'subsample': 0.8334841560684653, 'colsample_bytree': 0.5577785330482871}. Best is trial 32 with value: 0.14920033011435474.\n",
      "[I 2024-04-01 03:37:09,718] Trial 41 finished with value: 0.14981680354000954 and parameters: {'n_estimators': 919, 'learning_rate': 0.03763780058799057, 'gamma': 0.27957925412321916, 'reg_alpha': 0.04646495203472086, 'reg_lambda': 0.6293766080273585, 'max_depth': 8, 'min_child_weight': 7, 'subsample': 0.812349205301254, 'colsample_bytree': 0.5605466800935834}. Best is trial 32 with value: 0.14920033011435474.\n",
      "[I 2024-04-01 03:37:11,007] Trial 43 finished with value: 0.149418942089739 and parameters: {'n_estimators': 917, 'learning_rate': 0.03779407266039515, 'gamma': 0.27365258122308567, 'reg_alpha': 0.25797282894351886, 'reg_lambda': 0.5305824552099015, 'max_depth': 6, 'min_child_weight': 1, 'subsample': 0.9207875110318421, 'colsample_bytree': 0.552282507177303}. Best is trial 32 with value: 0.14920033011435474.\n",
      "[I 2024-04-01 03:37:33,385] Trial 44 finished with value: 0.15000063767799846 and parameters: {'n_estimators': 901, 'learning_rate': 0.012318796766554608, 'gamma': 0.04361008179850362, 'reg_alpha': 0.018941820622295737, 'reg_lambda': 0.5678420350193666, 'max_depth': 6, 'min_child_weight': 8, 'subsample': 0.9667506921001547, 'colsample_bytree': 0.5525945094029519}. Best is trial 32 with value: 0.14920033011435474.\n",
      "[I 2024-04-01 03:38:47,099] Trial 45 finished with value: 0.14925129477279625 and parameters: {'n_estimators': 896, 'learning_rate': 0.012702593366487082, 'gamma': 0.049598787127872024, 'reg_alpha': 0.8854146032114144, 'reg_lambda': 0.27972959921949647, 'max_depth': 9, 'min_child_weight': 8, 'subsample': 0.9383619301075066, 'colsample_bytree': 0.7341979104440518}. Best is trial 32 with value: 0.14920033011435474.\n",
      "[I 2024-04-01 03:38:47,389] Trial 46 finished with value: 0.14940939205224948 and parameters: {'n_estimators': 827, 'learning_rate': 0.022965492383389192, 'gamma': 0.04018268230177688, 'reg_alpha': 0.06948867131857846, 'reg_lambda': 0.2921023834942925, 'max_depth': 9, 'min_child_weight': 8, 'subsample': 0.9288598679935972, 'colsample_bytree': 0.7451904094904395}. Best is trial 32 with value: 0.14920033011435474.\n",
      "[I 2024-04-01 03:38:51,114] Trial 47 finished with value: 0.14946436638170768 and parameters: {'n_estimators': 832, 'learning_rate': 0.02360754167438616, 'gamma': 0.04586843215783542, 'reg_alpha': 0.0205552073174342, 'reg_lambda': 0.2913476241153348, 'max_depth': 9, 'min_child_weight': 8, 'subsample': 0.7512950865924191, 'colsample_bytree': 0.7490769884254319}. Best is trial 32 with value: 0.14920033011435474.\n",
      "[I 2024-04-01 03:39:10,694] Trial 50 finished with value: 0.15364823407650188 and parameters: {'n_estimators': 183, 'learning_rate': 0.01288638651905128, 'gamma': 0.09866224010935132, 'reg_alpha': 0.8268599355654165, 'reg_lambda': 0.13883602862474276, 'max_depth': 7, 'min_child_weight': 9, 'subsample': 0.751332335953517, 'colsample_bytree': 0.8087873609874312}. Best is trial 32 with value: 0.14920033011435474.\n",
      "[I 2024-04-01 03:39:29,035] Trial 49 finished with value: 0.15052191762639236 and parameters: {'n_estimators': 238, 'learning_rate': 0.012743621792563265, 'gamma': 0.10130345730746348, 'reg_alpha': 0.06665196682275547, 'reg_lambda': 0.3263094554170897, 'max_depth': 9, 'min_child_weight': 9, 'subsample': 0.7590955734825445, 'colsample_bytree': 0.7406117195173844}. Best is trial 32 with value: 0.14920033011435474.\n",
      "[I 2024-04-01 03:40:04,244] Trial 51 finished with value: 0.172089104751309 and parameters: {'n_estimators': 764, 'learning_rate': 0.40205649981303043, 'gamma': 0.05933565870477795, 'reg_alpha': 0.9121069859020667, 'reg_lambda': 0.12188043235226328, 'max_depth': 7, 'min_child_weight': 5, 'subsample': 0.7302864251896038, 'colsample_bytree': 0.8211939764466398}. Best is trial 32 with value: 0.14920033011435474.\n",
      "[I 2024-04-01 03:40:14,829] Trial 48 finished with value: 0.15140765376120818 and parameters: {'n_estimators': 830, 'learning_rate': 0.02405135269103835, 'gamma': 0.10134118453318636, 'reg_alpha': 0.0741375352812083, 'reg_lambda': 0.3133238398845314, 'max_depth': 12, 'min_child_weight': 8, 'subsample': 0.761166522883349, 'colsample_bytree': 0.751636030207989}. Best is trial 32 with value: 0.14920033011435474.\n",
      "[I 2024-04-01 03:41:32,613] Trial 53 finished with value: 0.18591414794000372 and parameters: {'n_estimators': 765, 'learning_rate': 0.4272202593879824, 'gamma': 0.0671283903313763, 'reg_alpha': 0.2678403168680281, 'reg_lambda': 0.04901753358939583, 'max_depth': 11, 'min_child_weight': 7, 'subsample': 0.7259574665898411, 'colsample_bytree': 0.5291653762685873}. Best is trial 32 with value: 0.14920033011435474.\n",
      "[I 2024-04-01 03:42:12,149] Trial 52 finished with value: 0.15127005448541936 and parameters: {'n_estimators': 753, 'learning_rate': 0.019027607205392413, 'gamma': 0.09686810013276434, 'reg_alpha': 0.07818953920438006, 'reg_lambda': 0.1022879277916928, 'max_depth': 12, 'min_child_weight': 5, 'subsample': 0.7739879061308034, 'colsample_bytree': 0.7759637187822545}. Best is trial 32 with value: 0.14920033011435474.\n",
      "[I 2024-04-01 03:42:16,668] Trial 55 finished with value: 0.15033190366422025 and parameters: {'n_estimators': 658, 'learning_rate': 0.020332244903984456, 'gamma': 0.017204819568742, 'reg_alpha': 0.11679998875446633, 'reg_lambda': 0.21581402112053663, 'max_depth': 11, 'min_child_weight': 7, 'subsample': 0.6867040154290216, 'colsample_bytree': 0.7790686619464794}. Best is trial 32 with value: 0.14920033011435474.\n",
      "[I 2024-04-01 03:42:42,621] Trial 54 finished with value: 0.150481542800954 and parameters: {'n_estimators': 874, 'learning_rate': 0.017670376828921756, 'gamma': 0.031213306502689584, 'reg_alpha': 0.1079131309623451, 'reg_lambda': 0.19765310554578427, 'max_depth': 11, 'min_child_weight': 7, 'subsample': 0.6937237779656213, 'colsample_bytree': 0.7765321456457919}. Best is trial 32 with value: 0.14920033011435474.\n",
      "[I 2024-04-01 03:43:22,121] Trial 57 finished with value: 0.14954141736612636 and parameters: {'n_estimators': 659, 'learning_rate': 0.012941882015806023, 'gamma': 0.031174768050508152, 'reg_alpha': 0.12128950789269155, 'reg_lambda': 0.2330038423275148, 'max_depth': 7, 'min_child_weight': 7, 'subsample': 0.6905252377109721, 'colsample_bytree': 0.7192257068395007}. Best is trial 32 with value: 0.14920033011435474.\n",
      "[I 2024-04-01 03:43:31,572] Trial 56 finished with value: 0.14989587522218223 and parameters: {'n_estimators': 634, 'learning_rate': 0.019032440541063782, 'gamma': 0.014581177088741485, 'reg_alpha': 0.10895302442475874, 'reg_lambda': 0.19732638958495766, 'max_depth': 11, 'min_child_weight': 7, 'subsample': 0.6970463182120559, 'colsample_bytree': 0.674070646676639}. Best is trial 32 with value: 0.14920033011435474.\n",
      "[I 2024-04-01 03:43:48,714] Trial 58 finished with value: 0.14936042082145676 and parameters: {'n_estimators': 948, 'learning_rate': 0.012495353641472634, 'gamma': 0.03112686371010502, 'reg_alpha': 0.015859095039869493, 'reg_lambda': 0.43136163713109793, 'max_depth': 7, 'min_child_weight': 8, 'subsample': 0.8426590561654673, 'colsample_bytree': 0.8635875674771681}. Best is trial 32 with value: 0.14920033011435474.\n",
      "[I 2024-04-01 03:44:14,324] Trial 59 finished with value: 0.14938190920541605 and parameters: {'n_estimators': 943, 'learning_rate': 0.012135310725603228, 'gamma': 0.010568466310377871, 'reg_alpha': 0.01833429308661085, 'reg_lambda': 0.41703963251860476, 'max_depth': 7, 'min_child_weight': 10, 'subsample': 0.8462557704880161, 'colsample_bytree': 0.8551313804726872}. Best is trial 32 with value: 0.14920033011435474.\n",
      "[I 2024-04-01 03:45:04,376] Trial 62 finished with value: 0.14999909515593482 and parameters: {'n_estimators': 814, 'learning_rate': 0.055506213464284845, 'gamma': 0.6852160277523975, 'reg_alpha': 0.010265083103081716, 'reg_lambda': 0.7501908424326025, 'max_depth': 8, 'min_child_weight': 10, 'subsample': 0.9161037815620249, 'colsample_bytree': 0.5413270991660404}. Best is trial 32 with value: 0.14920033011435474.\n",
      "[I 2024-04-01 03:45:19,711] Trial 60 finished with value: 0.1492400311028877 and parameters: {'n_estimators': 881, 'learning_rate': 0.011319767456494942, 'gamma': 0.04928133195852387, 'reg_alpha': 0.01533368863511019, 'reg_lambda': 0.7357167332963838, 'max_depth': 9, 'min_child_weight': 10, 'subsample': 0.8445674200190172, 'colsample_bytree': 0.8438372396356064}. Best is trial 32 with value: 0.14920033011435474.\n",
      "[I 2024-04-01 03:45:20,258] Trial 61 finished with value: 0.1492438507922678 and parameters: {'n_estimators': 949, 'learning_rate': 0.010956982581807027, 'gamma': 0.19037886237562227, 'reg_alpha': 0.021542666575633238, 'reg_lambda': 0.7483769885525661, 'max_depth': 8, 'min_child_weight': 10, 'subsample': 0.8505292999162398, 'colsample_bytree': 0.8654747219524019}. Best is trial 32 with value: 0.14920033011435474.\n",
      "[I 2024-04-01 03:45:46,435] Trial 63 finished with value: 0.15226714318310478 and parameters: {'n_estimators': 880, 'learning_rate': 0.07257684142050747, 'gamma': 0.5554032911385755, 'reg_alpha': 0.0033556145811736086, 'reg_lambda': 0.7451624495046089, 'max_depth': 9, 'min_child_weight': 9, 'subsample': 0.9217580925701596, 'colsample_bytree': 0.9980598983896924}. Best is trial 32 with value: 0.14920033011435474.\n",
      "[I 2024-04-01 03:46:47,757] Trial 64 finished with value: 0.15032683290824012 and parameters: {'n_estimators': 880, 'learning_rate': 0.03364259036581823, 'gamma': 0.05773773494566835, 'reg_alpha': 0.004813791553716314, 'reg_lambda': 0.3572291915934097, 'max_depth': 9, 'min_child_weight': 8, 'subsample': 0.6391947650158076, 'colsample_bytree': 0.516998256001032}. Best is trial 32 with value: 0.14920033011435474.\n",
      "[I 2024-04-01 03:47:07,338] Trial 66 finished with value: 0.1495576725388329 and parameters: {'n_estimators': 878, 'learning_rate': 0.016913492044745477, 'gamma': 0.05322328965142078, 'reg_alpha': 0.024862345951331685, 'reg_lambda': 0.7286122497800996, 'max_depth': 9, 'min_child_weight': 10, 'subsample': 0.8606500566100742, 'colsample_bytree': 0.978653288310239}. Best is trial 32 with value: 0.14920033011435474.\n",
      "[I 2024-04-01 03:47:12,818] Trial 65 finished with value: 0.14951984903235227 and parameters: {'n_estimators': 884, 'learning_rate': 0.014165843232095635, 'gamma': 0.05014264365503993, 'reg_alpha': 0.023514315619379274, 'reg_lambda': 0.7085441134999668, 'max_depth': 9, 'min_child_weight': 9, 'subsample': 0.8966601647943443, 'colsample_bytree': 0.9636549066776943}. Best is trial 32 with value: 0.14920033011435474.\n",
      "[I 2024-04-01 03:47:31,992] Trial 67 finished with value: 0.15027869489018736 and parameters: {'n_estimators': 948, 'learning_rate': 0.03300166991840057, 'gamma': 0.20316082987984446, 'reg_alpha': 0.027435963957440312, 'reg_lambda': 0.7590205178454398, 'max_depth': 9, 'min_child_weight': 10, 'subsample': 0.8908296242195174, 'colsample_bytree': 0.8946924263765949}. Best is trial 32 with value: 0.14920033011435474.\n",
      "[I 2024-04-01 03:48:28,204] Trial 68 finished with value: 0.14935365005171133 and parameters: {'n_estimators': 944, 'learning_rate': 0.016451996011501727, 'gamma': 0.2092014265398254, 'reg_alpha': 0.027677977883819836, 'reg_lambda': 0.7567339860596082, 'max_depth': 8, 'min_child_weight': 10, 'subsample': 0.8705362100429047, 'colsample_bytree': 0.9066401272450049}. Best is trial 32 with value: 0.14920033011435474.\n",
      "[I 2024-04-01 03:48:29,134] Trial 71 finished with value: 0.14976818303996545 and parameters: {'n_estimators': 407, 'learning_rate': 0.011433831821081973, 'gamma': 0.11664457436844605, 'reg_alpha': 0.012611232991221123, 'reg_lambda': 0.5009532488979435, 'max_depth': 8, 'min_child_weight': 9, 'subsample': 0.9703255145475211, 'colsample_bytree': 0.8400645969371547}. Best is trial 32 with value: 0.14920033011435474.\n",
      "[I 2024-04-01 03:48:55,039] Trial 69 finished with value: 0.14945990974083778 and parameters: {'n_estimators': 947, 'learning_rate': 0.011399573300990787, 'gamma': 0.18397643894832563, 'reg_alpha': 0.056110358664065385, 'reg_lambda': 0.5049198769740721, 'max_depth': 8, 'min_child_weight': 9, 'subsample': 0.9525280496156298, 'colsample_bytree': 0.895026177491735}. Best is trial 32 with value: 0.14920033011435474.\n",
      "[I 2024-04-01 03:49:01,138] Trial 70 finished with value: 0.14939410957345511 and parameters: {'n_estimators': 940, 'learning_rate': 0.011570464346900119, 'gamma': 0.17848934670232147, 'reg_alpha': 0.05387058747241723, 'reg_lambda': 0.49503381692932424, 'max_depth': 8, 'min_child_weight': 10, 'subsample': 0.8860391952395208, 'colsample_bytree': 0.908572088979963}. Best is trial 32 with value: 0.14920033011435474.\n",
      "[I 2024-04-01 03:50:08,203] Trial 72 finished with value: 0.14956543913409318 and parameters: {'n_estimators': 853, 'learning_rate': 0.01146432092209914, 'gamma': 0.08164564961536987, 'reg_alpha': 0.011696802437450313, 'reg_lambda': 0.010200507583435834, 'max_depth': 8, 'min_child_weight': 9, 'subsample': 0.9671051126140976, 'colsample_bytree': 0.9302807996063133}. Best is trial 32 with value: 0.14920033011435474.\n",
      "[I 2024-04-01 03:50:49,185] Trial 73 finished with value: 0.14988559612568936 and parameters: {'n_estimators': 1000, 'learning_rate': 0.021394474211841086, 'gamma': 0.08247560791048786, 'reg_alpha': 0.1627642277599509, 'reg_lambda': 0.0028078723653522965, 'max_depth': 10, 'min_child_weight': 9, 'subsample': 0.7833284681121885, 'colsample_bytree': 0.6246295615543961}. Best is trial 32 with value: 0.14920033011435474.\n",
      "[I 2024-04-01 03:51:15,790] Trial 75 finished with value: 0.1498380094498367 and parameters: {'n_estimators': 856, 'learning_rate': 0.013639498600638962, 'gamma': 0.08550202607209799, 'reg_alpha': 0.0015023865479931277, 'reg_lambda': 0.008180240087809609, 'max_depth': 10, 'min_child_weight': 8, 'subsample': 0.7867736326643499, 'colsample_bytree': 0.9468668870610769}. Best is trial 32 with value: 0.14920033011435474.\n",
      "[I 2024-04-01 03:51:23,901] Trial 74 finished with value: 0.14964436085527055 and parameters: {'n_estimators': 854, 'learning_rate': 0.010099111034522025, 'gamma': 0.078904246231758, 'reg_alpha': 0.006724184810611684, 'reg_lambda': 0.26193413806720467, 'max_depth': 10, 'min_child_weight': 8, 'subsample': 0.7818365091185705, 'colsample_bytree': 0.9304890805798685}. Best is trial 32 with value: 0.14920033011435474.\n",
      "[I 2024-04-01 03:52:16,257] Trial 76 finished with value: 0.14941442903958146 and parameters: {'n_estimators': 805, 'learning_rate': 0.014431435333717088, 'gamma': 0.03742634341838345, 'reg_alpha': 0.0062992587346928225, 'reg_lambda': 0.003386808125606207, 'max_depth': 10, 'min_child_weight': 8, 'subsample': 0.7827551479323105, 'colsample_bytree': 0.6217242002926913}. Best is trial 32 with value: 0.14920033011435474.\n",
      "[I 2024-04-01 03:52:38,725] Trial 79 finished with value: 0.14956881590828655 and parameters: {'n_estimators': 788, 'learning_rate': 0.01514483273180499, 'gamma': 0.036339495251646314, 'reg_alpha': 0.009387272224102551, 'reg_lambda': 0.03203419602783217, 'max_depth': 7, 'min_child_weight': 8, 'subsample': 0.9939423160845308, 'colsample_bytree': 0.5764467428538218}. Best is trial 32 with value: 0.14920033011435474.\n",
      "[I 2024-04-01 03:53:06,801] Trial 77 finished with value: 0.14927849529923193 and parameters: {'n_estimators': 802, 'learning_rate': 0.010024370803442019, 'gamma': 0.063652612219671, 'reg_alpha': 0.008274652749293744, 'reg_lambda': 0.252668407772118, 'max_depth': 10, 'min_child_weight': 8, 'subsample': 0.8165342626573443, 'colsample_bytree': 0.5815061246397181}. Best is trial 32 with value: 0.14920033011435474.\n",
      "[I 2024-04-01 03:53:28,760] Trial 80 finished with value: 0.14943844488896085 and parameters: {'n_estimators': 737, 'learning_rate': 0.015646590332264444, 'gamma': 0.02173102574953317, 'reg_alpha': 0.03585253659545555, 'reg_lambda': 0.3912808041990995, 'max_depth': 7, 'min_child_weight': 4, 'subsample': 0.821938296709865, 'colsample_bytree': 0.5765478037474858}. Best is trial 32 with value: 0.14920033011435474.\n",
      "[I 2024-04-01 03:53:33,451] Trial 78 finished with value: 0.14928251680208832 and parameters: {'n_estimators': 797, 'learning_rate': 0.010020293141828434, 'gamma': 0.037054133629543115, 'reg_alpha': 0.0074663845873686905, 'reg_lambda': 0.25140383917895903, 'max_depth': 10, 'min_child_weight': 8, 'subsample': 0.8224033744537463, 'colsample_bytree': 0.668500802173015}. Best is trial 32 with value: 0.14920033011435474.\n",
      "[I 2024-04-01 03:53:45,518] Trial 82 finished with value: 0.15162182315996117 and parameters: {'n_estimators': 741, 'learning_rate': 0.02654365084952295, 'gamma': 0.0225282619982092, 'reg_alpha': 0.03389211110227177, 'reg_lambda': 0.167378279538789, 'max_depth': 3, 'min_child_weight': 4, 'subsample': 0.8280148584010031, 'colsample_bytree': 0.7272816781258588}. Best is trial 32 with value: 0.14920033011435474.\n",
      "[I 2024-04-01 03:54:11,085] Trial 81 finished with value: 0.14967681825038248 and parameters: {'n_estimators': 736, 'learning_rate': 0.02719274025747716, 'gamma': 0.06390167583394576, 'reg_alpha': 0.016614931588088085, 'reg_lambda': 0.9928007043249543, 'max_depth': 9, 'min_child_weight': 7, 'subsample': 0.8317155003888016, 'colsample_bytree': 0.792485946469888}. Best is trial 32 with value: 0.14920033011435474.\n",
      "[I 2024-04-01 03:54:54,349] Trial 83 finished with value: 0.14954745341922232 and parameters: {'n_estimators': 694, 'learning_rate': 0.025688956338435973, 'gamma': 0.9710039823448349, 'reg_alpha': 0.016153681190980092, 'reg_lambda': 0.9596604885820349, 'max_depth': 9, 'min_child_weight': 7, 'subsample': 0.6056860489414242, 'colsample_bytree': 0.7291658208050757}. Best is trial 32 with value: 0.14920033011435474.\n",
      "[I 2024-04-01 03:54:58,790] Trial 84 finished with value: 0.1492748481259962 and parameters: {'n_estimators': 719, 'learning_rate': 0.013521011282680316, 'gamma': 0.12121998966812311, 'reg_alpha': 0.014924835912894946, 'reg_lambda': 0.3470252534132243, 'max_depth': 8, 'min_child_weight': 7, 'subsample': 0.6582367587071449, 'colsample_bytree': 0.5124852605409834}. Best is trial 32 with value: 0.14920033011435474.\n",
      "[I 2024-04-01 03:55:01,492] Trial 88 finished with value: 0.2588370587921496 and parameters: {'n_estimators': 11, 'learning_rate': 0.017432444160992596, 'gamma': 0.12191836558349929, 'reg_alpha': 0.022814142981084713, 'reg_lambda': 0.6046576073969054, 'max_depth': 8, 'min_child_weight': 6, 'subsample': 0.6595055688184396, 'colsample_bytree': 0.5111635879175224}. Best is trial 32 with value: 0.14920033011435474.\n",
      "[I 2024-04-01 03:55:24,451] Trial 85 finished with value: 0.14917745092047782 and parameters: {'n_estimators': 896, 'learning_rate': 0.0179504019837627, 'gamma': 0.12181761518598591, 'reg_alpha': 0.015066450612157374, 'reg_lambda': 0.9116662078395837, 'max_depth': 8, 'min_child_weight': 7, 'subsample': 0.5962674409657821, 'colsample_bytree': 0.5130733230515233}. Best is trial 85 with value: 0.14917745092047782.\n",
      "[I 2024-04-01 03:55:28,918] Trial 86 finished with value: 0.14925661008983693 and parameters: {'n_estimators': 686, 'learning_rate': 0.01799046663781944, 'gamma': 0.11295073283843253, 'reg_alpha': 0.005220146890271136, 'reg_lambda': 0.36597536377942524, 'max_depth': 8, 'min_child_weight': 9, 'subsample': 0.5995667554347316, 'colsample_bytree': 0.5092434955222558}. Best is trial 85 with value: 0.14917745092047782.\n",
      "[I 2024-04-01 03:56:03,872] Trial 87 finished with value: 0.14927748011656253 and parameters: {'n_estimators': 590, 'learning_rate': 0.01802120959290247, 'gamma': 0.11299160959717375, 'reg_alpha': 0.005087581992375647, 'reg_lambda': 0.6273380542159233, 'max_depth': 8, 'min_child_weight': 8, 'subsample': 0.6511615620002383, 'colsample_bytree': 0.5134131421106762}. Best is trial 85 with value: 0.14917745092047782.\n",
      "[I 2024-04-01 03:56:47,606] Trial 90 finished with value: 0.14927777789353247 and parameters: {'n_estimators': 897, 'learning_rate': 0.021237878052081886, 'gamma': 0.1564294957559708, 'reg_alpha': 0.3717896713325943, 'reg_lambda': 0.6601700928281078, 'max_depth': 7, 'min_child_weight': 9, 'subsample': 0.5845361114732444, 'colsample_bytree': 0.5230453055606231}. Best is trial 85 with value: 0.14917745092047782.\n",
      "[I 2024-04-01 03:56:48,172] Trial 89 finished with value: 0.14926848743903726 and parameters: {'n_estimators': 908, 'learning_rate': 0.01330707877928849, 'gamma': 0.2530860047062943, 'reg_alpha': 0.014747312990913395, 'reg_lambda': 0.3903917185148858, 'max_depth': 8, 'min_child_weight': 2, 'subsample': 0.6769282183238297, 'colsample_bytree': 0.541570419827778}. Best is trial 85 with value: 0.14917745092047782.\n",
      "[I 2024-04-01 03:56:53,658] Trial 91 finished with value: 0.14929516624397296 and parameters: {'n_estimators': 907, 'learning_rate': 0.019970084122382617, 'gamma': 0.24807528081819258, 'reg_alpha': 0.0022147866233323582, 'reg_lambda': 0.6299782993070981, 'max_depth': 7, 'min_child_weight': 9, 'subsample': 0.5354716075726894, 'colsample_bytree': 0.5417471153163561}. Best is trial 85 with value: 0.14917745092047782.\n",
      "[I 2024-04-01 03:57:28,372] Trial 92 finished with value: 0.1492921074852936 and parameters: {'n_estimators': 915, 'learning_rate': 0.021594960088868822, 'gamma': 0.255387772087356, 'reg_alpha': 0.0027443521963478454, 'reg_lambda': 0.8636052209842071, 'max_depth': 7, 'min_child_weight': 10, 'subsample': 0.5328076666913922, 'colsample_bytree': 0.5329496592589009}. Best is trial 85 with value: 0.14917745092047782.\n",
      "[I 2024-04-01 03:58:18,316] Trial 93 finished with value: 0.14932598664619848 and parameters: {'n_estimators': 975, 'learning_rate': 0.02443314589034032, 'gamma': 0.2780371683883562, 'reg_alpha': 0.0027403989815740983, 'reg_lambda': 0.4293003181666561, 'max_depth': 7, 'min_child_weight': 10, 'subsample': 0.5549935588214502, 'colsample_bytree': 0.5333518289816525}. Best is trial 85 with value: 0.14917745092047782.\n",
      "[I 2024-04-01 03:58:27,186] Trial 94 finished with value: 0.14924436007532743 and parameters: {'n_estimators': 907, 'learning_rate': 0.019695269651471996, 'gamma': 0.2581524584352374, 'reg_alpha': 0.020437623523951367, 'reg_lambda': 0.8450713254914657, 'max_depth': 8, 'min_child_weight': 10, 'subsample': 0.6284306240103055, 'colsample_bytree': 0.5326745558503634}. Best is trial 85 with value: 0.14917745092047782.\n",
      "[I 2024-04-01 03:58:43,577] Trial 95 finished with value: 0.1495959841415421 and parameters: {'n_estimators': 965, 'learning_rate': 0.023852277389175232, 'gamma': 0.32529499613851215, 'reg_alpha': 0.0036252818697825326, 'reg_lambda': 0.4378999522515912, 'max_depth': 8, 'min_child_weight': 2, 'subsample': 0.6241995640609923, 'colsample_bytree': 0.5009365574578967}. Best is trial 85 with value: 0.14917745092047782.\n",
      "[I 2024-04-01 03:59:16,156] Trial 96 finished with value: 0.14944718035783816 and parameters: {'n_estimators': 964, 'learning_rate': 0.023185878809653625, 'gamma': 0.3218748990756651, 'reg_alpha': 0.011286771382364712, 'reg_lambda': 0.4111712303036787, 'max_depth': 8, 'min_child_weight': 2, 'subsample': 0.7401188161018708, 'colsample_bytree': 0.5003522978495658}. Best is trial 85 with value: 0.14917745092047782.\n",
      "[I 2024-04-01 04:00:05,429] Trial 98 finished with value: 0.14924364383858793 and parameters: {'n_estimators': 830, 'learning_rate': 0.016481191621343507, 'gamma': 0.3738338815510793, 'reg_alpha': 0.02076888239336003, 'reg_lambda': 0.5385833900127713, 'max_depth': 9, 'min_child_weight': 10, 'subsample': 0.5946526725463707, 'colsample_bytree': 0.5026081983292788}. Best is trial 85 with value: 0.14917745092047782.\n",
      "[I 2024-04-01 04:00:06,412] Trial 97 finished with value: 0.14940293654033127 and parameters: {'n_estimators': 833, 'learning_rate': 0.016118912070596965, 'gamma': 0.14812337861316455, 'reg_alpha': 0.004008281287143878, 'reg_lambda': 0.45950344155216366, 'max_depth': 9, 'min_child_weight': 2, 'subsample': 0.8551305344084806, 'colsample_bytree': 0.5022699996206336}. Best is trial 85 with value: 0.14917745092047782.\n",
      "[I 2024-04-01 04:00:10,560] Trial 99 finished with value: 0.14939314211084212 and parameters: {'n_estimators': 834, 'learning_rate': 0.018564925732018955, 'gamma': 0.15155410611059886, 'reg_alpha': 0.0015913879916143704, 'reg_lambda': 0.8279759073871874, 'max_depth': 9, 'min_child_weight': 10, 'subsample': 0.5917650932477656, 'colsample_bytree': 0.7630567950938585}. Best is trial 85 with value: 0.14917745092047782.\n"
     ]
    }
   ],
   "source": [
    "study = optuna.create_study(direction='minimize', study_name=\"XGBRegressor\")\n",
    "study.optimize(objective, n_trials=100, n_jobs=-1)"
   ]
  },
  {
   "cell_type": "code",
   "execution_count": 8,
   "id": "4a4e25c6",
   "metadata": {
    "execution": {
     "iopub.execute_input": "2024-04-01T04:00:10.608016Z",
     "iopub.status.busy": "2024-04-01T04:00:10.607529Z",
     "iopub.status.idle": "2024-04-01T04:00:11.620929Z",
     "shell.execute_reply": "2024-04-01T04:00:11.619939Z"
    },
    "papermill": {
     "duration": 1.033846,
     "end_time": "2024-04-01T04:00:11.623346",
     "exception": false,
     "start_time": "2024-04-01T04:00:10.589500",
     "status": "completed"
    },
    "tags": []
   },
   "outputs": [
    {
     "data": {
      "text/html": [
       "        <script type=\"text/javascript\">\n",
       "        window.PlotlyConfig = {MathJaxConfig: 'local'};\n",
       "        if (window.MathJax && window.MathJax.Hub && window.MathJax.Hub.Config) {window.MathJax.Hub.Config({SVG: {font: \"STIX-Web\"}});}\n",
       "        if (typeof require !== 'undefined') {\n",
       "        require.undef(\"plotly\");\n",
       "        requirejs.config({\n",
       "            paths: {\n",
       "                'plotly': ['https://cdn.plot.ly/plotly-2.27.0.min']\n",
       "            }\n",
       "        });\n",
       "        require(['plotly'], function(Plotly) {\n",
       "            window._Plotly = Plotly;\n",
       "        });\n",
       "        }\n",
       "        </script>\n",
       "        "
      ]
     },
     "metadata": {},
     "output_type": "display_data"
    },
    {
     "data": {
      "text/html": [
       "<div>                            <div id=\"94ae3b54-4906-437e-aa93-2e665793269f\" class=\"plotly-graph-div\" style=\"height:525px; width:100%;\"></div>            <script type=\"text/javascript\">                require([\"plotly\"], function(Plotly) {                    window.PLOTLYENV=window.PLOTLYENV || {};                                    if (document.getElementById(\"94ae3b54-4906-437e-aa93-2e665793269f\")) {                    Plotly.newPlot(                        \"94ae3b54-4906-437e-aa93-2e665793269f\",                        [{\"mode\":\"markers\",\"name\":\"Objective Value\",\"x\":[0,1,2,3,4,5,6,7,8,9,10,11,12,13,14,15,16,17,18,19,20,21,22,23,24,25,26,27,28,29,30,31,32,33,34,35,36,37,38,39,40,41,42,43,44,45,46,47,48,49,50,51,52,53,54,55,56,57,58,59,60,61,62,63,64,65,66,67,68,69,70,71,72,73,74,75,76,77,78,79,80,81,82,83,84,85,86,87,88,89,90,91,92,93,94,95,96,97,98,99],\"y\":[0.1500541804066923,0.16071677954064545,0.15330425088947203,0.15211673010666424,0.15432986333877782,0.14954433412749685,0.16211633533869754,0.16814276310271048,0.15268105573333196,0.15030127552361783,0.15035107034902223,0.15185497593243086,0.15481065160798296,0.14933279306509675,0.15375669182408688,0.1496455201024016,0.1499639658771058,0.15073321234443174,0.15066054987899347,0.1503297800777793,0.1510650692558097,0.15026739700007277,0.1501639817626352,0.15112419947389769,0.1492714046846484,0.14942429656129635,0.14938328165278256,0.1492771102182969,0.1495077061955845,0.14969971405706267,0.14924075570831546,0.1492546698661809,0.14920033011435474,0.14948500931429018,0.14925556717747904,0.14938370311723037,0.1493908112786823,0.14960033423419186,0.14947905849480603,0.15324177195571093,0.15119277900088476,0.14981680354000954,0.14949373851230763,0.149418942089739,0.15000063767799846,0.14925129477279625,0.14940939205224948,0.14946436638170768,0.15140765376120818,0.15052191762639236,0.15364823407650188,0.172089104751309,0.15127005448541936,0.18591414794000372,0.150481542800954,0.15033190366422025,0.14989587522218223,0.14954141736612636,0.14936042082145676,0.14938190920541605,0.1492400311028877,0.1492438507922678,0.14999909515593482,0.15226714318310478,0.15032683290824012,0.14951984903235227,0.1495576725388329,0.15027869489018736,0.14935365005171133,0.14945990974083778,0.14939410957345511,0.14976818303996545,0.14956543913409318,0.14988559612568936,0.14964436085527055,0.1498380094498367,0.14941442903958146,0.14927849529923193,0.14928251680208832,0.14956881590828655,0.14943844488896085,0.14967681825038248,0.15162182315996117,0.14954745341922232,0.1492748481259962,0.14917745092047782,0.14925661008983693,0.14927748011656253,0.2588370587921496,0.14926848743903726,0.14927777789353247,0.14929516624397296,0.1492921074852936,0.14932598664619848,0.14924436007532743,0.1495959841415421,0.14944718035783816,0.14940293654033127,0.14924364383858793,0.14939314211084212],\"type\":\"scatter\"},{\"mode\":\"lines\",\"name\":\"Best Value\",\"x\":[0,1,2,3,4,5,6,7,8,9,10,11,12,13,14,15,16,17,18,19,20,21,22,23,24,25,26,27,28,29,30,31,32,33,34,35,36,37,38,39,40,41,42,43,44,45,46,47,48,49,50,51,52,53,54,55,56,57,58,59,60,61,62,63,64,65,66,67,68,69,70,71,72,73,74,75,76,77,78,79,80,81,82,83,84,85,86,87,88,89,90,91,92,93,94,95,96,97,98,99],\"y\":[0.1500541804066923,0.1500541804066923,0.1500541804066923,0.1500541804066923,0.1500541804066923,0.14954433412749685,0.14954433412749685,0.14954433412749685,0.14954433412749685,0.14954433412749685,0.14954433412749685,0.14954433412749685,0.14954433412749685,0.14933279306509675,0.14933279306509675,0.14933279306509675,0.14933279306509675,0.14933279306509675,0.14933279306509675,0.14933279306509675,0.14933279306509675,0.14933279306509675,0.14933279306509675,0.14933279306509675,0.1492714046846484,0.1492714046846484,0.1492714046846484,0.1492714046846484,0.1492714046846484,0.1492714046846484,0.14924075570831546,0.14924075570831546,0.14920033011435474,0.14920033011435474,0.14920033011435474,0.14920033011435474,0.14920033011435474,0.14920033011435474,0.14920033011435474,0.14920033011435474,0.14920033011435474,0.14920033011435474,0.14920033011435474,0.14920033011435474,0.14920033011435474,0.14920033011435474,0.14920033011435474,0.14920033011435474,0.14920033011435474,0.14920033011435474,0.14920033011435474,0.14920033011435474,0.14920033011435474,0.14920033011435474,0.14920033011435474,0.14920033011435474,0.14920033011435474,0.14920033011435474,0.14920033011435474,0.14920033011435474,0.14920033011435474,0.14920033011435474,0.14920033011435474,0.14920033011435474,0.14920033011435474,0.14920033011435474,0.14920033011435474,0.14920033011435474,0.14920033011435474,0.14920033011435474,0.14920033011435474,0.14920033011435474,0.14920033011435474,0.14920033011435474,0.14920033011435474,0.14920033011435474,0.14920033011435474,0.14920033011435474,0.14920033011435474,0.14920033011435474,0.14920033011435474,0.14920033011435474,0.14920033011435474,0.14920033011435474,0.14920033011435474,0.14917745092047782,0.14917745092047782,0.14917745092047782,0.14917745092047782,0.14917745092047782,0.14917745092047782,0.14917745092047782,0.14917745092047782,0.14917745092047782,0.14917745092047782,0.14917745092047782,0.14917745092047782,0.14917745092047782,0.14917745092047782,0.14917745092047782],\"type\":\"scatter\"},{\"marker\":{\"color\":\"#cccccc\"},\"mode\":\"markers\",\"name\":\"Infeasible Trial\",\"showlegend\":false,\"x\":[],\"y\":[],\"type\":\"scatter\"}],                        {\"title\":{\"text\":\"Optimization History Plot\"},\"xaxis\":{\"title\":{\"text\":\"Trial\"}},\"yaxis\":{\"title\":{\"text\":\"Objective Value\"}},\"template\":{\"data\":{\"histogram2dcontour\":[{\"type\":\"histogram2dcontour\",\"colorbar\":{\"outlinewidth\":0,\"ticks\":\"\"},\"colorscale\":[[0.0,\"#0d0887\"],[0.1111111111111111,\"#46039f\"],[0.2222222222222222,\"#7201a8\"],[0.3333333333333333,\"#9c179e\"],[0.4444444444444444,\"#bd3786\"],[0.5555555555555556,\"#d8576b\"],[0.6666666666666666,\"#ed7953\"],[0.7777777777777778,\"#fb9f3a\"],[0.8888888888888888,\"#fdca26\"],[1.0,\"#f0f921\"]]}],\"choropleth\":[{\"type\":\"choropleth\",\"colorbar\":{\"outlinewidth\":0,\"ticks\":\"\"}}],\"histogram2d\":[{\"type\":\"histogram2d\",\"colorbar\":{\"outlinewidth\":0,\"ticks\":\"\"},\"colorscale\":[[0.0,\"#0d0887\"],[0.1111111111111111,\"#46039f\"],[0.2222222222222222,\"#7201a8\"],[0.3333333333333333,\"#9c179e\"],[0.4444444444444444,\"#bd3786\"],[0.5555555555555556,\"#d8576b\"],[0.6666666666666666,\"#ed7953\"],[0.7777777777777778,\"#fb9f3a\"],[0.8888888888888888,\"#fdca26\"],[1.0,\"#f0f921\"]]}],\"heatmap\":[{\"type\":\"heatmap\",\"colorbar\":{\"outlinewidth\":0,\"ticks\":\"\"},\"colorscale\":[[0.0,\"#0d0887\"],[0.1111111111111111,\"#46039f\"],[0.2222222222222222,\"#7201a8\"],[0.3333333333333333,\"#9c179e\"],[0.4444444444444444,\"#bd3786\"],[0.5555555555555556,\"#d8576b\"],[0.6666666666666666,\"#ed7953\"],[0.7777777777777778,\"#fb9f3a\"],[0.8888888888888888,\"#fdca26\"],[1.0,\"#f0f921\"]]}],\"heatmapgl\":[{\"type\":\"heatmapgl\",\"colorbar\":{\"outlinewidth\":0,\"ticks\":\"\"},\"colorscale\":[[0.0,\"#0d0887\"],[0.1111111111111111,\"#46039f\"],[0.2222222222222222,\"#7201a8\"],[0.3333333333333333,\"#9c179e\"],[0.4444444444444444,\"#bd3786\"],[0.5555555555555556,\"#d8576b\"],[0.6666666666666666,\"#ed7953\"],[0.7777777777777778,\"#fb9f3a\"],[0.8888888888888888,\"#fdca26\"],[1.0,\"#f0f921\"]]}],\"contourcarpet\":[{\"type\":\"contourcarpet\",\"colorbar\":{\"outlinewidth\":0,\"ticks\":\"\"}}],\"contour\":[{\"type\":\"contour\",\"colorbar\":{\"outlinewidth\":0,\"ticks\":\"\"},\"colorscale\":[[0.0,\"#0d0887\"],[0.1111111111111111,\"#46039f\"],[0.2222222222222222,\"#7201a8\"],[0.3333333333333333,\"#9c179e\"],[0.4444444444444444,\"#bd3786\"],[0.5555555555555556,\"#d8576b\"],[0.6666666666666666,\"#ed7953\"],[0.7777777777777778,\"#fb9f3a\"],[0.8888888888888888,\"#fdca26\"],[1.0,\"#f0f921\"]]}],\"surface\":[{\"type\":\"surface\",\"colorbar\":{\"outlinewidth\":0,\"ticks\":\"\"},\"colorscale\":[[0.0,\"#0d0887\"],[0.1111111111111111,\"#46039f\"],[0.2222222222222222,\"#7201a8\"],[0.3333333333333333,\"#9c179e\"],[0.4444444444444444,\"#bd3786\"],[0.5555555555555556,\"#d8576b\"],[0.6666666666666666,\"#ed7953\"],[0.7777777777777778,\"#fb9f3a\"],[0.8888888888888888,\"#fdca26\"],[1.0,\"#f0f921\"]]}],\"mesh3d\":[{\"type\":\"mesh3d\",\"colorbar\":{\"outlinewidth\":0,\"ticks\":\"\"}}],\"scatter\":[{\"fillpattern\":{\"fillmode\":\"overlay\",\"size\":10,\"solidity\":0.2},\"type\":\"scatter\"}],\"parcoords\":[{\"type\":\"parcoords\",\"line\":{\"colorbar\":{\"outlinewidth\":0,\"ticks\":\"\"}}}],\"scatterpolargl\":[{\"type\":\"scatterpolargl\",\"marker\":{\"colorbar\":{\"outlinewidth\":0,\"ticks\":\"\"}}}],\"bar\":[{\"error_x\":{\"color\":\"#2a3f5f\"},\"error_y\":{\"color\":\"#2a3f5f\"},\"marker\":{\"line\":{\"color\":\"#E5ECF6\",\"width\":0.5},\"pattern\":{\"fillmode\":\"overlay\",\"size\":10,\"solidity\":0.2}},\"type\":\"bar\"}],\"scattergeo\":[{\"type\":\"scattergeo\",\"marker\":{\"colorbar\":{\"outlinewidth\":0,\"ticks\":\"\"}}}],\"scatterpolar\":[{\"type\":\"scatterpolar\",\"marker\":{\"colorbar\":{\"outlinewidth\":0,\"ticks\":\"\"}}}],\"histogram\":[{\"marker\":{\"pattern\":{\"fillmode\":\"overlay\",\"size\":10,\"solidity\":0.2}},\"type\":\"histogram\"}],\"scattergl\":[{\"type\":\"scattergl\",\"marker\":{\"colorbar\":{\"outlinewidth\":0,\"ticks\":\"\"}}}],\"scatter3d\":[{\"type\":\"scatter3d\",\"line\":{\"colorbar\":{\"outlinewidth\":0,\"ticks\":\"\"}},\"marker\":{\"colorbar\":{\"outlinewidth\":0,\"ticks\":\"\"}}}],\"scattermapbox\":[{\"type\":\"scattermapbox\",\"marker\":{\"colorbar\":{\"outlinewidth\":0,\"ticks\":\"\"}}}],\"scatterternary\":[{\"type\":\"scatterternary\",\"marker\":{\"colorbar\":{\"outlinewidth\":0,\"ticks\":\"\"}}}],\"scattercarpet\":[{\"type\":\"scattercarpet\",\"marker\":{\"colorbar\":{\"outlinewidth\":0,\"ticks\":\"\"}}}],\"carpet\":[{\"aaxis\":{\"endlinecolor\":\"#2a3f5f\",\"gridcolor\":\"white\",\"linecolor\":\"white\",\"minorgridcolor\":\"white\",\"startlinecolor\":\"#2a3f5f\"},\"baxis\":{\"endlinecolor\":\"#2a3f5f\",\"gridcolor\":\"white\",\"linecolor\":\"white\",\"minorgridcolor\":\"white\",\"startlinecolor\":\"#2a3f5f\"},\"type\":\"carpet\"}],\"table\":[{\"cells\":{\"fill\":{\"color\":\"#EBF0F8\"},\"line\":{\"color\":\"white\"}},\"header\":{\"fill\":{\"color\":\"#C8D4E3\"},\"line\":{\"color\":\"white\"}},\"type\":\"table\"}],\"barpolar\":[{\"marker\":{\"line\":{\"color\":\"#E5ECF6\",\"width\":0.5},\"pattern\":{\"fillmode\":\"overlay\",\"size\":10,\"solidity\":0.2}},\"type\":\"barpolar\"}],\"pie\":[{\"automargin\":true,\"type\":\"pie\"}]},\"layout\":{\"autotypenumbers\":\"strict\",\"colorway\":[\"#636efa\",\"#EF553B\",\"#00cc96\",\"#ab63fa\",\"#FFA15A\",\"#19d3f3\",\"#FF6692\",\"#B6E880\",\"#FF97FF\",\"#FECB52\"],\"font\":{\"color\":\"#2a3f5f\"},\"hovermode\":\"closest\",\"hoverlabel\":{\"align\":\"left\"},\"paper_bgcolor\":\"white\",\"plot_bgcolor\":\"#E5ECF6\",\"polar\":{\"bgcolor\":\"#E5ECF6\",\"angularaxis\":{\"gridcolor\":\"white\",\"linecolor\":\"white\",\"ticks\":\"\"},\"radialaxis\":{\"gridcolor\":\"white\",\"linecolor\":\"white\",\"ticks\":\"\"}},\"ternary\":{\"bgcolor\":\"#E5ECF6\",\"aaxis\":{\"gridcolor\":\"white\",\"linecolor\":\"white\",\"ticks\":\"\"},\"baxis\":{\"gridcolor\":\"white\",\"linecolor\":\"white\",\"ticks\":\"\"},\"caxis\":{\"gridcolor\":\"white\",\"linecolor\":\"white\",\"ticks\":\"\"}},\"coloraxis\":{\"colorbar\":{\"outlinewidth\":0,\"ticks\":\"\"}},\"colorscale\":{\"sequential\":[[0.0,\"#0d0887\"],[0.1111111111111111,\"#46039f\"],[0.2222222222222222,\"#7201a8\"],[0.3333333333333333,\"#9c179e\"],[0.4444444444444444,\"#bd3786\"],[0.5555555555555556,\"#d8576b\"],[0.6666666666666666,\"#ed7953\"],[0.7777777777777778,\"#fb9f3a\"],[0.8888888888888888,\"#fdca26\"],[1.0,\"#f0f921\"]],\"sequentialminus\":[[0.0,\"#0d0887\"],[0.1111111111111111,\"#46039f\"],[0.2222222222222222,\"#7201a8\"],[0.3333333333333333,\"#9c179e\"],[0.4444444444444444,\"#bd3786\"],[0.5555555555555556,\"#d8576b\"],[0.6666666666666666,\"#ed7953\"],[0.7777777777777778,\"#fb9f3a\"],[0.8888888888888888,\"#fdca26\"],[1.0,\"#f0f921\"]],\"diverging\":[[0,\"#8e0152\"],[0.1,\"#c51b7d\"],[0.2,\"#de77ae\"],[0.3,\"#f1b6da\"],[0.4,\"#fde0ef\"],[0.5,\"#f7f7f7\"],[0.6,\"#e6f5d0\"],[0.7,\"#b8e186\"],[0.8,\"#7fbc41\"],[0.9,\"#4d9221\"],[1,\"#276419\"]]},\"xaxis\":{\"gridcolor\":\"white\",\"linecolor\":\"white\",\"ticks\":\"\",\"title\":{\"standoff\":15},\"zerolinecolor\":\"white\",\"automargin\":true,\"zerolinewidth\":2},\"yaxis\":{\"gridcolor\":\"white\",\"linecolor\":\"white\",\"ticks\":\"\",\"title\":{\"standoff\":15},\"zerolinecolor\":\"white\",\"automargin\":true,\"zerolinewidth\":2},\"scene\":{\"xaxis\":{\"backgroundcolor\":\"#E5ECF6\",\"gridcolor\":\"white\",\"linecolor\":\"white\",\"showbackground\":true,\"ticks\":\"\",\"zerolinecolor\":\"white\",\"gridwidth\":2},\"yaxis\":{\"backgroundcolor\":\"#E5ECF6\",\"gridcolor\":\"white\",\"linecolor\":\"white\",\"showbackground\":true,\"ticks\":\"\",\"zerolinecolor\":\"white\",\"gridwidth\":2},\"zaxis\":{\"backgroundcolor\":\"#E5ECF6\",\"gridcolor\":\"white\",\"linecolor\":\"white\",\"showbackground\":true,\"ticks\":\"\",\"zerolinecolor\":\"white\",\"gridwidth\":2}},\"shapedefaults\":{\"line\":{\"color\":\"#2a3f5f\"}},\"annotationdefaults\":{\"arrowcolor\":\"#2a3f5f\",\"arrowhead\":0,\"arrowwidth\":1},\"geo\":{\"bgcolor\":\"white\",\"landcolor\":\"#E5ECF6\",\"subunitcolor\":\"white\",\"showland\":true,\"showlakes\":true,\"lakecolor\":\"white\"},\"title\":{\"x\":0.05},\"mapbox\":{\"style\":\"light\"}}}},                        {\"responsive\": true}                    ).then(function(){\n",
       "                            \n",
       "var gd = document.getElementById('94ae3b54-4906-437e-aa93-2e665793269f');\n",
       "var x = new MutationObserver(function (mutations, observer) {{\n",
       "        var display = window.getComputedStyle(gd).display;\n",
       "        if (!display || display === 'none') {{\n",
       "            console.log([gd, 'removed!']);\n",
       "            Plotly.purge(gd);\n",
       "            observer.disconnect();\n",
       "        }}\n",
       "}});\n",
       "\n",
       "// Listen for the removal of the full notebook cells\n",
       "var notebookContainer = gd.closest('#notebook-container');\n",
       "if (notebookContainer) {{\n",
       "    x.observe(notebookContainer, {childList: true});\n",
       "}}\n",
       "\n",
       "// Listen for the clearing of the current output cell\n",
       "var outputEl = gd.closest('.output');\n",
       "if (outputEl) {{\n",
       "    x.observe(outputEl, {childList: true});\n",
       "}}\n",
       "\n",
       "                        })                };                });            </script>        </div>"
      ]
     },
     "metadata": {},
     "output_type": "display_data"
    }
   ],
   "source": [
    "optuna.visualization.plot_optimization_history(study)"
   ]
  },
  {
   "cell_type": "code",
   "execution_count": 9,
   "id": "42bba0d9",
   "metadata": {
    "execution": {
     "iopub.execute_input": "2024-04-01T04:00:11.747191Z",
     "iopub.status.busy": "2024-04-01T04:00:11.745925Z",
     "iopub.status.idle": "2024-04-01T04:00:12.416022Z",
     "shell.execute_reply": "2024-04-01T04:00:12.414427Z"
    },
    "papermill": {
     "duration": 0.69131,
     "end_time": "2024-04-01T04:00:12.419370",
     "exception": false,
     "start_time": "2024-04-01T04:00:11.728060",
     "status": "completed"
    },
    "tags": []
   },
   "outputs": [
    {
     "data": {
      "text/html": [
       "<div>                            <div id=\"4f14e71f-cf8d-4f9d-afbe-62930a407b2e\" class=\"plotly-graph-div\" style=\"height:525px; width:2700px;\"></div>            <script type=\"text/javascript\">                require([\"plotly\"], function(Plotly) {                    window.PLOTLYENV=window.PLOTLYENV || {};                                    if (document.getElementById(\"4f14e71f-cf8d-4f9d-afbe-62930a407b2e\")) {                    Plotly.newPlot(                        \"4f14e71f-cf8d-4f9d-afbe-62930a407b2e\",                        [{\"marker\":{\"color\":[0,1,2,3,4,5,6,7,8,9,10,11,12,13,14,15,16,17,18,19,20,21,22,23,24,25,26,27,28,29,30,31,32,33,34,35,36,37,38,39,40,41,42,43,44,45,46,47,48,49,50,51,52,53,54,55,56,57,58,59,60,61,62,63,64,65,66,67,68,69,70,71,72,73,74,75,76,77,78,79,80,81,82,83,84,85,86,87,88,89,90,91,92,93,94,95,96,97,98,99],\"colorbar\":{\"title\":{\"text\":\"Trial\"},\"x\":1.0,\"xpad\":40},\"colorscale\":[[0.0,\"rgb(247,251,255)\"],[0.125,\"rgb(222,235,247)\"],[0.25,\"rgb(198,219,239)\"],[0.375,\"rgb(158,202,225)\"],[0.5,\"rgb(107,174,214)\"],[0.625,\"rgb(66,146,198)\"],[0.75,\"rgb(33,113,181)\"],[0.875,\"rgb(8,81,156)\"],[1.0,\"rgb(8,48,107)\"]],\"line\":{\"color\":\"Grey\",\"width\":0.5},\"showscale\":true},\"mode\":\"markers\",\"name\":\"Feasible Trial\",\"showlegend\":false,\"x\":[0.7490256955164936,0.9171278657618614,0.5493508026250103,0.7963217917284253,0.5299257378090182,0.556923551148897,0.8653210755538119,0.5338521130384286,0.8786718886552117,0.9150092599856865,0.7799803735779627,0.9660777586427782,0.5360573308230965,0.6333669488175059,0.6357942197123263,0.660989451939304,0.6483494116343439,0.6419178774264452,0.6031951073759463,0.5717354489109681,0.5757080092529991,0.6013140218583708,0.6011237306868056,0.7102881353465759,0.6775517949883985,0.6860522780097067,0.703580515671374,0.5019000595256781,0.5041046104298745,0.6935846453584212,0.7314714664611892,0.5004933406752261,0.5000877017664168,0.7442187150425548,0.5007328222028425,0.5040175414714074,0.5059956924649086,0.8183116624529433,0.512415721916204,0.5230377299327376,0.5233240110096994,0.5605466800935834,0.5577785330482871,0.552282507177303,0.5525945094029519,0.7341979104440518,0.7451904094904395,0.7490769884254319,0.751636030207989,0.7406117195173844,0.8087873609874312,0.8211939764466398,0.7759637187822545,0.5291653762685873,0.7765321456457919,0.7790686619464794,0.674070646676639,0.7192257068395007,0.8635875674771681,0.8551313804726872,0.8438372396356064,0.8654747219524019,0.5413270991660404,0.9980598983896924,0.516998256001032,0.9636549066776943,0.978653288310239,0.8946924263765949,0.9066401272450049,0.895026177491735,0.908572088979963,0.8400645969371547,0.9302807996063133,0.6246295615543961,0.9304890805798685,0.9468668870610769,0.6217242002926913,0.5815061246397181,0.668500802173015,0.5764467428538218,0.5765478037474858,0.792485946469888,0.7272816781258588,0.7291658208050757,0.5124852605409834,0.5130733230515233,0.5092434955222558,0.5134131421106762,0.5111635879175224,0.541570419827778,0.5230453055606231,0.5417471153163561,0.5329496592589009,0.5333518289816525,0.5326745558503634,0.5009365574578967,0.5003522978495658,0.5022699996206336,0.5026081983292788,0.7630567950938585],\"y\":[0.1500541804066923,0.16071677954064545,0.15330425088947203,0.15211673010666424,0.15432986333877782,0.14954433412749685,0.16211633533869754,0.16814276310271048,0.15268105573333196,0.15030127552361783,0.15035107034902223,0.15185497593243086,0.15481065160798296,0.14933279306509675,0.15375669182408688,0.1496455201024016,0.1499639658771058,0.15073321234443174,0.15066054987899347,0.1503297800777793,0.1510650692558097,0.15026739700007277,0.1501639817626352,0.15112419947389769,0.1492714046846484,0.14942429656129635,0.14938328165278256,0.1492771102182969,0.1495077061955845,0.14969971405706267,0.14924075570831546,0.1492546698661809,0.14920033011435474,0.14948500931429018,0.14925556717747904,0.14938370311723037,0.1493908112786823,0.14960033423419186,0.14947905849480603,0.15324177195571093,0.15119277900088476,0.14981680354000954,0.14949373851230763,0.149418942089739,0.15000063767799846,0.14925129477279625,0.14940939205224948,0.14946436638170768,0.15140765376120818,0.15052191762639236,0.15364823407650188,0.172089104751309,0.15127005448541936,0.18591414794000372,0.150481542800954,0.15033190366422025,0.14989587522218223,0.14954141736612636,0.14936042082145676,0.14938190920541605,0.1492400311028877,0.1492438507922678,0.14999909515593482,0.15226714318310478,0.15032683290824012,0.14951984903235227,0.1495576725388329,0.15027869489018736,0.14935365005171133,0.14945990974083778,0.14939410957345511,0.14976818303996545,0.14956543913409318,0.14988559612568936,0.14964436085527055,0.1498380094498367,0.14941442903958146,0.14927849529923193,0.14928251680208832,0.14956881590828655,0.14943844488896085,0.14967681825038248,0.15162182315996117,0.14954745341922232,0.1492748481259962,0.14917745092047782,0.14925661008983693,0.14927748011656253,0.2588370587921496,0.14926848743903726,0.14927777789353247,0.14929516624397296,0.1492921074852936,0.14932598664619848,0.14924436007532743,0.1495959841415421,0.14944718035783816,0.14940293654033127,0.14924364383858793,0.14939314211084212],\"type\":\"scatter\",\"xaxis\":\"x\",\"yaxis\":\"y\"},{\"marker\":{\"color\":[0,1,2,3,4,5,6,7,8,9,10,11,12,13,14,15,16,17,18,19,20,21,22,23,24,25,26,27,28,29,30,31,32,33,34,35,36,37,38,39,40,41,42,43,44,45,46,47,48,49,50,51,52,53,54,55,56,57,58,59,60,61,62,63,64,65,66,67,68,69,70,71,72,73,74,75,76,77,78,79,80,81,82,83,84,85,86,87,88,89,90,91,92,93,94,95,96,97,98,99],\"colorbar\":{\"title\":{\"text\":\"Trial\"},\"x\":1.0,\"xpad\":40},\"colorscale\":[[0.0,\"rgb(247,251,255)\"],[0.125,\"rgb(222,235,247)\"],[0.25,\"rgb(198,219,239)\"],[0.375,\"rgb(158,202,225)\"],[0.5,\"rgb(107,174,214)\"],[0.625,\"rgb(66,146,198)\"],[0.75,\"rgb(33,113,181)\"],[0.875,\"rgb(8,81,156)\"],[1.0,\"rgb(8,48,107)\"]],\"line\":{\"color\":\"Grey\",\"width\":0.5},\"showscale\":false},\"mode\":\"markers\",\"name\":\"Feasible Trial\",\"showlegend\":false,\"x\":[0.19631875255213835,0.0966013730933936,0.010412858287555199,0.09729032601223381,0.03266365941124253,0.007197243802045437,0.0021051422005280373,0.0085679532169176,0.6800228995022736,0.0070641413078476245,0.40392249246761425,0.014210283836300288,0.004916457499379204,0.0015244662124985168,0.0012694018392499647,0.17409271041462693,0.039597389441114274,0.003261412995542358,0.002704413396814274,0.003123512286973881,0.003255209133185462,0.0012286876043329964,0.0010334249121382493,0.015385811309234228,0.02436746694374468,0.024955016089033024,0.05666860426072142,0.07171611950060391,0.024601283508380103,0.021965248247706546,0.056466759832953496,0.09116497188846061,0.09972019718953913,0.2022473896802134,0.0777405551659265,0.07815534469935694,0.07340266209659004,0.1298654411865653,0.14954448410318924,0.1338414590895459,0.14249418202139888,0.27957925412321916,0.3567461234634983,0.27365258122308567,0.04361008179850362,0.049598787127872024,0.04018268230177688,0.04586843215783542,0.10134118453318636,0.10130345730746348,0.09866224010935132,0.05933565870477795,0.09686810013276434,0.0671283903313763,0.031213306502689584,0.017204819568742,0.014581177088741485,0.031174768050508152,0.03112686371010502,0.010568466310377871,0.04928133195852387,0.19037886237562227,0.6852160277523975,0.5554032911385755,0.05773773494566835,0.05014264365503993,0.05322328965142078,0.20316082987984446,0.2092014265398254,0.18397643894832563,0.17848934670232147,0.11664457436844605,0.08164564961536987,0.08247560791048786,0.078904246231758,0.08550202607209799,0.03742634341838345,0.063652612219671,0.037054133629543115,0.036339495251646314,0.02173102574953317,0.06390167583394576,0.0225282619982092,0.9710039823448349,0.12121998966812311,0.12181761518598591,0.11295073283843253,0.11299160959717375,0.12191836558349929,0.2530860047062943,0.1564294957559708,0.24807528081819258,0.255387772087356,0.2780371683883562,0.2581524584352374,0.32529499613851215,0.3218748990756651,0.14812337861316455,0.3738338815510793,0.15155410611059886],\"y\":[0.1500541804066923,0.16071677954064545,0.15330425088947203,0.15211673010666424,0.15432986333877782,0.14954433412749685,0.16211633533869754,0.16814276310271048,0.15268105573333196,0.15030127552361783,0.15035107034902223,0.15185497593243086,0.15481065160798296,0.14933279306509675,0.15375669182408688,0.1496455201024016,0.1499639658771058,0.15073321234443174,0.15066054987899347,0.1503297800777793,0.1510650692558097,0.15026739700007277,0.1501639817626352,0.15112419947389769,0.1492714046846484,0.14942429656129635,0.14938328165278256,0.1492771102182969,0.1495077061955845,0.14969971405706267,0.14924075570831546,0.1492546698661809,0.14920033011435474,0.14948500931429018,0.14925556717747904,0.14938370311723037,0.1493908112786823,0.14960033423419186,0.14947905849480603,0.15324177195571093,0.15119277900088476,0.14981680354000954,0.14949373851230763,0.149418942089739,0.15000063767799846,0.14925129477279625,0.14940939205224948,0.14946436638170768,0.15140765376120818,0.15052191762639236,0.15364823407650188,0.172089104751309,0.15127005448541936,0.18591414794000372,0.150481542800954,0.15033190366422025,0.14989587522218223,0.14954141736612636,0.14936042082145676,0.14938190920541605,0.1492400311028877,0.1492438507922678,0.14999909515593482,0.15226714318310478,0.15032683290824012,0.14951984903235227,0.1495576725388329,0.15027869489018736,0.14935365005171133,0.14945990974083778,0.14939410957345511,0.14976818303996545,0.14956543913409318,0.14988559612568936,0.14964436085527055,0.1498380094498367,0.14941442903958146,0.14927849529923193,0.14928251680208832,0.14956881590828655,0.14943844488896085,0.14967681825038248,0.15162182315996117,0.14954745341922232,0.1492748481259962,0.14917745092047782,0.14925661008983693,0.14927748011656253,0.2588370587921496,0.14926848743903726,0.14927777789353247,0.14929516624397296,0.1492921074852936,0.14932598664619848,0.14924436007532743,0.1495959841415421,0.14944718035783816,0.14940293654033127,0.14924364383858793,0.14939314211084212],\"type\":\"scatter\",\"xaxis\":\"x2\",\"yaxis\":\"y2\"},{\"marker\":{\"color\":[0,1,2,3,4,5,6,7,8,9,10,11,12,13,14,15,16,17,18,19,20,21,22,23,24,25,26,27,28,29,30,31,32,33,34,35,36,37,38,39,40,41,42,43,44,45,46,47,48,49,50,51,52,53,54,55,56,57,58,59,60,61,62,63,64,65,66,67,68,69,70,71,72,73,74,75,76,77,78,79,80,81,82,83,84,85,86,87,88,89,90,91,92,93,94,95,96,97,98,99],\"colorbar\":{\"title\":{\"text\":\"Trial\"},\"x\":1.0,\"xpad\":40},\"colorscale\":[[0.0,\"rgb(247,251,255)\"],[0.125,\"rgb(222,235,247)\"],[0.25,\"rgb(198,219,239)\"],[0.375,\"rgb(158,202,225)\"],[0.5,\"rgb(107,174,214)\"],[0.625,\"rgb(66,146,198)\"],[0.75,\"rgb(33,113,181)\"],[0.875,\"rgb(8,81,156)\"],[1.0,\"rgb(8,48,107)\"]],\"line\":{\"color\":\"Grey\",\"width\":0.5},\"showscale\":false},\"mode\":\"markers\",\"name\":\"Feasible Trial\",\"showlegend\":false,\"x\":[0.1456166620476421,0.21500875175190112,0.09288673015852558,0.23848265685967324,0.025798845393382935,0.014520888619161678,0.022865768862681324,0.3336148575389408,0.03495468901424138,0.03156735919059394,0.022019171434631123,0.016769820954355624,0.07147878495560596,0.010076562019538713,0.0891796916131739,0.010310300169190868,0.01010764852454035,0.010735389391947979,0.010307683015094443,0.015452240502743927,0.014643168818079812,0.04609631065596211,0.04580572625842825,0.04341888208848888,0.010426716293610725,0.01591494468278937,0.015393007854772633,0.014683045018191298,0.017348812179195757,0.019203118238300523,0.02148896179812167,0.019779738437857214,0.020178175258540036,0.02001120544683977,0.022706684861012568,0.027886344975914377,0.029462497532340724,0.028612026534828697,0.028533662283276678,0.16212095336068985,0.14051644989640072,0.03763780058799057,0.05695910880304426,0.03779407266039515,0.012318796766554608,0.012702593366487082,0.022965492383389192,0.02360754167438616,0.02405135269103835,0.012743621792563265,0.01288638651905128,0.40205649981303043,0.019027607205392413,0.4272202593879824,0.017670376828921756,0.020332244903984456,0.019032440541063782,0.012941882015806023,0.012495353641472634,0.012135310725603228,0.011319767456494942,0.010956982581807027,0.055506213464284845,0.07257684142050747,0.03364259036581823,0.014165843232095635,0.016913492044745477,0.03300166991840057,0.016451996011501727,0.011399573300990787,0.011570464346900119,0.011433831821081973,0.01146432092209914,0.021394474211841086,0.010099111034522025,0.013639498600638962,0.014431435333717088,0.010024370803442019,0.010020293141828434,0.01514483273180499,0.015646590332264444,0.02719274025747716,0.02654365084952295,0.025688956338435973,0.013521011282680316,0.0179504019837627,0.01799046663781944,0.01802120959290247,0.017432444160992596,0.01330707877928849,0.021237878052081886,0.019970084122382617,0.021594960088868822,0.02443314589034032,0.019695269651471996,0.023852277389175232,0.023185878809653625,0.016118912070596965,0.016481191621343507,0.018564925732018955],\"y\":[0.1500541804066923,0.16071677954064545,0.15330425088947203,0.15211673010666424,0.15432986333877782,0.14954433412749685,0.16211633533869754,0.16814276310271048,0.15268105573333196,0.15030127552361783,0.15035107034902223,0.15185497593243086,0.15481065160798296,0.14933279306509675,0.15375669182408688,0.1496455201024016,0.1499639658771058,0.15073321234443174,0.15066054987899347,0.1503297800777793,0.1510650692558097,0.15026739700007277,0.1501639817626352,0.15112419947389769,0.1492714046846484,0.14942429656129635,0.14938328165278256,0.1492771102182969,0.1495077061955845,0.14969971405706267,0.14924075570831546,0.1492546698661809,0.14920033011435474,0.14948500931429018,0.14925556717747904,0.14938370311723037,0.1493908112786823,0.14960033423419186,0.14947905849480603,0.15324177195571093,0.15119277900088476,0.14981680354000954,0.14949373851230763,0.149418942089739,0.15000063767799846,0.14925129477279625,0.14940939205224948,0.14946436638170768,0.15140765376120818,0.15052191762639236,0.15364823407650188,0.172089104751309,0.15127005448541936,0.18591414794000372,0.150481542800954,0.15033190366422025,0.14989587522218223,0.14954141736612636,0.14936042082145676,0.14938190920541605,0.1492400311028877,0.1492438507922678,0.14999909515593482,0.15226714318310478,0.15032683290824012,0.14951984903235227,0.1495576725388329,0.15027869489018736,0.14935365005171133,0.14945990974083778,0.14939410957345511,0.14976818303996545,0.14956543913409318,0.14988559612568936,0.14964436085527055,0.1498380094498367,0.14941442903958146,0.14927849529923193,0.14928251680208832,0.14956881590828655,0.14943844488896085,0.14967681825038248,0.15162182315996117,0.14954745341922232,0.1492748481259962,0.14917745092047782,0.14925661008983693,0.14927748011656253,0.2588370587921496,0.14926848743903726,0.14927777789353247,0.14929516624397296,0.1492921074852936,0.14932598664619848,0.14924436007532743,0.1495959841415421,0.14944718035783816,0.14940293654033127,0.14924364383858793,0.14939314211084212],\"type\":\"scatter\",\"xaxis\":\"x3\",\"yaxis\":\"y3\"},{\"marker\":{\"color\":[0,1,2,3,4,5,6,7,8,9,10,11,12,13,14,15,16,17,18,19,20,21,22,23,24,25,26,27,28,29,30,31,32,33,34,35,36,37,38,39,40,41,42,43,44,45,46,47,48,49,50,51,52,53,54,55,56,57,58,59,60,61,62,63,64,65,66,67,68,69,70,71,72,73,74,75,76,77,78,79,80,81,82,83,84,85,86,87,88,89,90,91,92,93,94,95,96,97,98,99],\"colorbar\":{\"title\":{\"text\":\"Trial\"},\"x\":1.0,\"xpad\":40},\"colorscale\":[[0.0,\"rgb(247,251,255)\"],[0.125,\"rgb(222,235,247)\"],[0.25,\"rgb(198,219,239)\"],[0.375,\"rgb(158,202,225)\"],[0.5,\"rgb(107,174,214)\"],[0.625,\"rgb(66,146,198)\"],[0.75,\"rgb(33,113,181)\"],[0.875,\"rgb(8,81,156)\"],[1.0,\"rgb(8,48,107)\"]],\"line\":{\"color\":\"Grey\",\"width\":0.5},\"showscale\":false},\"mode\":\"markers\",\"name\":\"Feasible Trial\",\"showlegend\":false,\"x\":[6,12,4,7,3,11,4,7,14,11,4,13,11,10,9,7,7,15,15,13,15,9,9,10,10,10,10,8,10,10,8,8,8,6,8,8,8,8,8,6,5,8,5,6,6,9,9,9,12,9,7,7,12,11,11,11,11,7,7,7,9,8,8,9,9,9,9,9,8,8,8,8,8,10,10,10,10,10,10,7,7,9,3,9,8,8,8,8,8,8,7,7,7,7,8,8,8,9,9,9],\"y\":[0.1500541804066923,0.16071677954064545,0.15330425088947203,0.15211673010666424,0.15432986333877782,0.14954433412749685,0.16211633533869754,0.16814276310271048,0.15268105573333196,0.15030127552361783,0.15035107034902223,0.15185497593243086,0.15481065160798296,0.14933279306509675,0.15375669182408688,0.1496455201024016,0.1499639658771058,0.15073321234443174,0.15066054987899347,0.1503297800777793,0.1510650692558097,0.15026739700007277,0.1501639817626352,0.15112419947389769,0.1492714046846484,0.14942429656129635,0.14938328165278256,0.1492771102182969,0.1495077061955845,0.14969971405706267,0.14924075570831546,0.1492546698661809,0.14920033011435474,0.14948500931429018,0.14925556717747904,0.14938370311723037,0.1493908112786823,0.14960033423419186,0.14947905849480603,0.15324177195571093,0.15119277900088476,0.14981680354000954,0.14949373851230763,0.149418942089739,0.15000063767799846,0.14925129477279625,0.14940939205224948,0.14946436638170768,0.15140765376120818,0.15052191762639236,0.15364823407650188,0.172089104751309,0.15127005448541936,0.18591414794000372,0.150481542800954,0.15033190366422025,0.14989587522218223,0.14954141736612636,0.14936042082145676,0.14938190920541605,0.1492400311028877,0.1492438507922678,0.14999909515593482,0.15226714318310478,0.15032683290824012,0.14951984903235227,0.1495576725388329,0.15027869489018736,0.14935365005171133,0.14945990974083778,0.14939410957345511,0.14976818303996545,0.14956543913409318,0.14988559612568936,0.14964436085527055,0.1498380094498367,0.14941442903958146,0.14927849529923193,0.14928251680208832,0.14956881590828655,0.14943844488896085,0.14967681825038248,0.15162182315996117,0.14954745341922232,0.1492748481259962,0.14917745092047782,0.14925661008983693,0.14927748011656253,0.2588370587921496,0.14926848743903726,0.14927777789353247,0.14929516624397296,0.1492921074852936,0.14932598664619848,0.14924436007532743,0.1495959841415421,0.14944718035783816,0.14940293654033127,0.14924364383858793,0.14939314211084212],\"type\":\"scatter\",\"xaxis\":\"x4\",\"yaxis\":\"y4\"},{\"marker\":{\"color\":[0,1,2,3,4,5,6,7,8,9,10,11,12,13,14,15,16,17,18,19,20,21,22,23,24,25,26,27,28,29,30,31,32,33,34,35,36,37,38,39,40,41,42,43,44,45,46,47,48,49,50,51,52,53,54,55,56,57,58,59,60,61,62,63,64,65,66,67,68,69,70,71,72,73,74,75,76,77,78,79,80,81,82,83,84,85,86,87,88,89,90,91,92,93,94,95,96,97,98,99],\"colorbar\":{\"title\":{\"text\":\"Trial\"},\"x\":1.0,\"xpad\":40},\"colorscale\":[[0.0,\"rgb(247,251,255)\"],[0.125,\"rgb(222,235,247)\"],[0.25,\"rgb(198,219,239)\"],[0.375,\"rgb(158,202,225)\"],[0.5,\"rgb(107,174,214)\"],[0.625,\"rgb(66,146,198)\"],[0.75,\"rgb(33,113,181)\"],[0.875,\"rgb(8,81,156)\"],[1.0,\"rgb(8,48,107)\"]],\"line\":{\"color\":\"Grey\",\"width\":0.5},\"showscale\":false},\"mode\":\"markers\",\"name\":\"Feasible Trial\",\"showlegend\":false,\"x\":[9,5,5,1,2,9,8,5,3,9,6,6,6,7,10,8,8,7,7,7,7,10,10,4,8,9,8,8,9,8,8,7,8,4,8,9,9,6,6,6,6,7,7,1,8,8,8,8,8,9,9,5,5,7,7,7,7,7,8,10,10,10,10,9,8,9,10,10,10,9,10,9,9,9,8,8,8,8,8,8,4,7,4,7,7,7,9,8,6,2,9,9,10,10,10,2,2,2,10,10],\"y\":[0.1500541804066923,0.16071677954064545,0.15330425088947203,0.15211673010666424,0.15432986333877782,0.14954433412749685,0.16211633533869754,0.16814276310271048,0.15268105573333196,0.15030127552361783,0.15035107034902223,0.15185497593243086,0.15481065160798296,0.14933279306509675,0.15375669182408688,0.1496455201024016,0.1499639658771058,0.15073321234443174,0.15066054987899347,0.1503297800777793,0.1510650692558097,0.15026739700007277,0.1501639817626352,0.15112419947389769,0.1492714046846484,0.14942429656129635,0.14938328165278256,0.1492771102182969,0.1495077061955845,0.14969971405706267,0.14924075570831546,0.1492546698661809,0.14920033011435474,0.14948500931429018,0.14925556717747904,0.14938370311723037,0.1493908112786823,0.14960033423419186,0.14947905849480603,0.15324177195571093,0.15119277900088476,0.14981680354000954,0.14949373851230763,0.149418942089739,0.15000063767799846,0.14925129477279625,0.14940939205224948,0.14946436638170768,0.15140765376120818,0.15052191762639236,0.15364823407650188,0.172089104751309,0.15127005448541936,0.18591414794000372,0.150481542800954,0.15033190366422025,0.14989587522218223,0.14954141736612636,0.14936042082145676,0.14938190920541605,0.1492400311028877,0.1492438507922678,0.14999909515593482,0.15226714318310478,0.15032683290824012,0.14951984903235227,0.1495576725388329,0.15027869489018736,0.14935365005171133,0.14945990974083778,0.14939410957345511,0.14976818303996545,0.14956543913409318,0.14988559612568936,0.14964436085527055,0.1498380094498367,0.14941442903958146,0.14927849529923193,0.14928251680208832,0.14956881590828655,0.14943844488896085,0.14967681825038248,0.15162182315996117,0.14954745341922232,0.1492748481259962,0.14917745092047782,0.14925661008983693,0.14927748011656253,0.2588370587921496,0.14926848743903726,0.14927777789353247,0.14929516624397296,0.1492921074852936,0.14932598664619848,0.14924436007532743,0.1495959841415421,0.14944718035783816,0.14940293654033127,0.14924364383858793,0.14939314211084212],\"type\":\"scatter\",\"xaxis\":\"x5\",\"yaxis\":\"y5\"},{\"marker\":{\"color\":[0,1,2,3,4,5,6,7,8,9,10,11,12,13,14,15,16,17,18,19,20,21,22,23,24,25,26,27,28,29,30,31,32,33,34,35,36,37,38,39,40,41,42,43,44,45,46,47,48,49,50,51,52,53,54,55,56,57,58,59,60,61,62,63,64,65,66,67,68,69,70,71,72,73,74,75,76,77,78,79,80,81,82,83,84,85,86,87,88,89,90,91,92,93,94,95,96,97,98,99],\"colorbar\":{\"title\":{\"text\":\"Trial\"},\"x\":1.0,\"xpad\":40},\"colorscale\":[[0.0,\"rgb(247,251,255)\"],[0.125,\"rgb(222,235,247)\"],[0.25,\"rgb(198,219,239)\"],[0.375,\"rgb(158,202,225)\"],[0.5,\"rgb(107,174,214)\"],[0.625,\"rgb(66,146,198)\"],[0.75,\"rgb(33,113,181)\"],[0.875,\"rgb(8,81,156)\"],[1.0,\"rgb(8,48,107)\"]],\"line\":{\"color\":\"Grey\",\"width\":0.5},\"showscale\":false},\"mode\":\"markers\",\"name\":\"Feasible Trial\",\"showlegend\":false,\"x\":[192,380,65,83,312,660,89,922,106,351,944,801,788,713,701,681,501,596,546,603,548,556,501,463,710,713,727,717,856,842,844,854,856,874,866,989,786,969,974,786,994,919,907,917,901,896,827,832,830,238,183,764,753,765,874,658,634,659,948,943,881,949,814,880,880,884,878,948,944,947,940,407,853,1000,854,856,805,802,797,788,737,736,741,694,719,896,686,590,11,908,897,907,915,975,907,965,964,833,830,834],\"y\":[0.1500541804066923,0.16071677954064545,0.15330425088947203,0.15211673010666424,0.15432986333877782,0.14954433412749685,0.16211633533869754,0.16814276310271048,0.15268105573333196,0.15030127552361783,0.15035107034902223,0.15185497593243086,0.15481065160798296,0.14933279306509675,0.15375669182408688,0.1496455201024016,0.1499639658771058,0.15073321234443174,0.15066054987899347,0.1503297800777793,0.1510650692558097,0.15026739700007277,0.1501639817626352,0.15112419947389769,0.1492714046846484,0.14942429656129635,0.14938328165278256,0.1492771102182969,0.1495077061955845,0.14969971405706267,0.14924075570831546,0.1492546698661809,0.14920033011435474,0.14948500931429018,0.14925556717747904,0.14938370311723037,0.1493908112786823,0.14960033423419186,0.14947905849480603,0.15324177195571093,0.15119277900088476,0.14981680354000954,0.14949373851230763,0.149418942089739,0.15000063767799846,0.14925129477279625,0.14940939205224948,0.14946436638170768,0.15140765376120818,0.15052191762639236,0.15364823407650188,0.172089104751309,0.15127005448541936,0.18591414794000372,0.150481542800954,0.15033190366422025,0.14989587522218223,0.14954141736612636,0.14936042082145676,0.14938190920541605,0.1492400311028877,0.1492438507922678,0.14999909515593482,0.15226714318310478,0.15032683290824012,0.14951984903235227,0.1495576725388329,0.15027869489018736,0.14935365005171133,0.14945990974083778,0.14939410957345511,0.14976818303996545,0.14956543913409318,0.14988559612568936,0.14964436085527055,0.1498380094498367,0.14941442903958146,0.14927849529923193,0.14928251680208832,0.14956881590828655,0.14943844488896085,0.14967681825038248,0.15162182315996117,0.14954745341922232,0.1492748481259962,0.14917745092047782,0.14925661008983693,0.14927748011656253,0.2588370587921496,0.14926848743903726,0.14927777789353247,0.14929516624397296,0.1492921074852936,0.14932598664619848,0.14924436007532743,0.1495959841415421,0.14944718035783816,0.14940293654033127,0.14924364383858793,0.14939314211084212],\"type\":\"scatter\",\"xaxis\":\"x6\",\"yaxis\":\"y6\"},{\"marker\":{\"color\":[0,1,2,3,4,5,6,7,8,9,10,11,12,13,14,15,16,17,18,19,20,21,22,23,24,25,26,27,28,29,30,31,32,33,34,35,36,37,38,39,40,41,42,43,44,45,46,47,48,49,50,51,52,53,54,55,56,57,58,59,60,61,62,63,64,65,66,67,68,69,70,71,72,73,74,75,76,77,78,79,80,81,82,83,84,85,86,87,88,89,90,91,92,93,94,95,96,97,98,99],\"colorbar\":{\"title\":{\"text\":\"Trial\"},\"x\":1.0,\"xpad\":40},\"colorscale\":[[0.0,\"rgb(247,251,255)\"],[0.125,\"rgb(222,235,247)\"],[0.25,\"rgb(198,219,239)\"],[0.375,\"rgb(158,202,225)\"],[0.5,\"rgb(107,174,214)\"],[0.625,\"rgb(66,146,198)\"],[0.75,\"rgb(33,113,181)\"],[0.875,\"rgb(8,81,156)\"],[1.0,\"rgb(8,48,107)\"]],\"line\":{\"color\":\"Grey\",\"width\":0.5},\"showscale\":false},\"mode\":\"markers\",\"name\":\"Feasible Trial\",\"showlegend\":false,\"x\":[0.4063882113745595,0.019908945249499134,0.13462578187146843,0.02443331986625056,0.5675877871660623,0.0060119015753430025,0.4776768690853678,0.09819387148944819,0.158055976843109,0.07452318001973367,0.16389743550540448,0.0026016936965934405,0.4710504906965542,0.0011811981613572286,0.0031076130103569618,0.004210015627281661,0.0040889501609650426,0.0011600380131820908,0.0010601230624813925,0.0010099256091522066,0.0013703612077053816,0.010764710581538472,0.00827932401151821,0.00884692495750379,0.00865877356893514,0.0069651805351011375,0.005581764329598955,0.005439315667389419,0.013662362818290655,0.046937264833739126,0.014668965547056106,0.0021716546811303417,0.043614679416274414,0.013937254758136985,0.041232123785516994,0.0020991989800201298,0.0020710960843374976,0.042756868381809414,0.03897196097080897,0.030516697027367343,0.029807439926299837,0.04646495203472086,0.2443724302284317,0.25797282894351886,0.018941820622295737,0.8854146032114144,0.06948867131857846,0.0205552073174342,0.0741375352812083,0.06665196682275547,0.8268599355654165,0.9121069859020667,0.07818953920438006,0.2678403168680281,0.1079131309623451,0.11679998875446633,0.10895302442475874,0.12128950789269155,0.015859095039869493,0.01833429308661085,0.01533368863511019,0.021542666575633238,0.010265083103081716,0.0033556145811736086,0.004813791553716314,0.023514315619379274,0.024862345951331685,0.027435963957440312,0.027677977883819836,0.056110358664065385,0.05387058747241723,0.012611232991221123,0.011696802437450313,0.1627642277599509,0.006724184810611684,0.0015023865479931277,0.0062992587346928225,0.008274652749293744,0.0074663845873686905,0.009387272224102551,0.03585253659545555,0.016614931588088085,0.03389211110227177,0.016153681190980092,0.014924835912894946,0.015066450612157374,0.005220146890271136,0.005087581992375647,0.022814142981084713,0.014747312990913395,0.3717896713325943,0.0022147866233323582,0.0027443521963478454,0.0027403989815740983,0.020437623523951367,0.0036252818697825326,0.011286771382364712,0.004008281287143878,0.02076888239336003,0.0015913879916143704],\"y\":[0.1500541804066923,0.16071677954064545,0.15330425088947203,0.15211673010666424,0.15432986333877782,0.14954433412749685,0.16211633533869754,0.16814276310271048,0.15268105573333196,0.15030127552361783,0.15035107034902223,0.15185497593243086,0.15481065160798296,0.14933279306509675,0.15375669182408688,0.1496455201024016,0.1499639658771058,0.15073321234443174,0.15066054987899347,0.1503297800777793,0.1510650692558097,0.15026739700007277,0.1501639817626352,0.15112419947389769,0.1492714046846484,0.14942429656129635,0.14938328165278256,0.1492771102182969,0.1495077061955845,0.14969971405706267,0.14924075570831546,0.1492546698661809,0.14920033011435474,0.14948500931429018,0.14925556717747904,0.14938370311723037,0.1493908112786823,0.14960033423419186,0.14947905849480603,0.15324177195571093,0.15119277900088476,0.14981680354000954,0.14949373851230763,0.149418942089739,0.15000063767799846,0.14925129477279625,0.14940939205224948,0.14946436638170768,0.15140765376120818,0.15052191762639236,0.15364823407650188,0.172089104751309,0.15127005448541936,0.18591414794000372,0.150481542800954,0.15033190366422025,0.14989587522218223,0.14954141736612636,0.14936042082145676,0.14938190920541605,0.1492400311028877,0.1492438507922678,0.14999909515593482,0.15226714318310478,0.15032683290824012,0.14951984903235227,0.1495576725388329,0.15027869489018736,0.14935365005171133,0.14945990974083778,0.14939410957345511,0.14976818303996545,0.14956543913409318,0.14988559612568936,0.14964436085527055,0.1498380094498367,0.14941442903958146,0.14927849529923193,0.14928251680208832,0.14956881590828655,0.14943844488896085,0.14967681825038248,0.15162182315996117,0.14954745341922232,0.1492748481259962,0.14917745092047782,0.14925661008983693,0.14927748011656253,0.2588370587921496,0.14926848743903726,0.14927777789353247,0.14929516624397296,0.1492921074852936,0.14932598664619848,0.14924436007532743,0.1495959841415421,0.14944718035783816,0.14940293654033127,0.14924364383858793,0.14939314211084212],\"type\":\"scatter\",\"xaxis\":\"x7\",\"yaxis\":\"y7\"},{\"marker\":{\"color\":[0,1,2,3,4,5,6,7,8,9,10,11,12,13,14,15,16,17,18,19,20,21,22,23,24,25,26,27,28,29,30,31,32,33,34,35,36,37,38,39,40,41,42,43,44,45,46,47,48,49,50,51,52,53,54,55,56,57,58,59,60,61,62,63,64,65,66,67,68,69,70,71,72,73,74,75,76,77,78,79,80,81,82,83,84,85,86,87,88,89,90,91,92,93,94,95,96,97,98,99],\"colorbar\":{\"title\":{\"text\":\"Trial\"},\"x\":1.0,\"xpad\":40},\"colorscale\":[[0.0,\"rgb(247,251,255)\"],[0.125,\"rgb(222,235,247)\"],[0.25,\"rgb(198,219,239)\"],[0.375,\"rgb(158,202,225)\"],[0.5,\"rgb(107,174,214)\"],[0.625,\"rgb(66,146,198)\"],[0.75,\"rgb(33,113,181)\"],[0.875,\"rgb(8,81,156)\"],[1.0,\"rgb(8,48,107)\"]],\"line\":{\"color\":\"Grey\",\"width\":0.5},\"showscale\":false},\"mode\":\"markers\",\"name\":\"Feasible Trial\",\"showlegend\":false,\"x\":[0.009994981709238045,0.00453153979827745,0.17542471703145876,0.6308237295884384,0.022499743398468285,0.2589668484911812,0.01473621113490247,0.2062611475421935,0.004357353626967622,0.006886259045932125,0.003999636149790812,0.030515339876915636,0.016376495169156815,0.0010491716020434956,0.0011503834210051334,0.08434962769595984,0.07278767022854561,0.06320556434186304,0.0011900286012701256,0.7863479099996632,0.0011145316185628255,0.0011441000042270028,0.0012061401570998753,0.1757003494117063,0.21716388320744884,0.29597023238077375,0.23964754775892635,0.36071470315655313,0.3843402648454563,0.4785997395033071,0.4617547499199353,0.3855726450458422,0.4738113399978108,0.435356672126172,0.5545648899540873,0.9398549819940865,0.14092196059436052,0.9519883145114855,0.9416598055522372,0.12099675193193019,0.6010274111295459,0.6293766080273585,0.5966650956342988,0.5305824552099015,0.5678420350193666,0.27972959921949647,0.2921023834942925,0.2913476241153348,0.3133238398845314,0.3263094554170897,0.13883602862474276,0.12188043235226328,0.1022879277916928,0.04901753358939583,0.19765310554578427,0.21581402112053663,0.19732638958495766,0.2330038423275148,0.43136163713109793,0.41703963251860476,0.7357167332963838,0.7483769885525661,0.7501908424326025,0.7451624495046089,0.3572291915934097,0.7085441134999668,0.7286122497800996,0.7590205178454398,0.7567339860596082,0.5049198769740721,0.49503381692932424,0.5009532488979435,0.010200507583435834,0.0028078723653522965,0.26193413806720467,0.008180240087809609,0.003386808125606207,0.252668407772118,0.25140383917895903,0.03203419602783217,0.3912808041990995,0.9928007043249543,0.167378279538789,0.9596604885820349,0.3470252534132243,0.9116662078395837,0.36597536377942524,0.6273380542159233,0.6046576073969054,0.3903917185148858,0.6601700928281078,0.6299782993070981,0.8636052209842071,0.4293003181666561,0.8450713254914657,0.4378999522515912,0.4111712303036787,0.45950344155216366,0.5385833900127713,0.8279759073871874],\"y\":[0.1500541804066923,0.16071677954064545,0.15330425088947203,0.15211673010666424,0.15432986333877782,0.14954433412749685,0.16211633533869754,0.16814276310271048,0.15268105573333196,0.15030127552361783,0.15035107034902223,0.15185497593243086,0.15481065160798296,0.14933279306509675,0.15375669182408688,0.1496455201024016,0.1499639658771058,0.15073321234443174,0.15066054987899347,0.1503297800777793,0.1510650692558097,0.15026739700007277,0.1501639817626352,0.15112419947389769,0.1492714046846484,0.14942429656129635,0.14938328165278256,0.1492771102182969,0.1495077061955845,0.14969971405706267,0.14924075570831546,0.1492546698661809,0.14920033011435474,0.14948500931429018,0.14925556717747904,0.14938370311723037,0.1493908112786823,0.14960033423419186,0.14947905849480603,0.15324177195571093,0.15119277900088476,0.14981680354000954,0.14949373851230763,0.149418942089739,0.15000063767799846,0.14925129477279625,0.14940939205224948,0.14946436638170768,0.15140765376120818,0.15052191762639236,0.15364823407650188,0.172089104751309,0.15127005448541936,0.18591414794000372,0.150481542800954,0.15033190366422025,0.14989587522218223,0.14954141736612636,0.14936042082145676,0.14938190920541605,0.1492400311028877,0.1492438507922678,0.14999909515593482,0.15226714318310478,0.15032683290824012,0.14951984903235227,0.1495576725388329,0.15027869489018736,0.14935365005171133,0.14945990974083778,0.14939410957345511,0.14976818303996545,0.14956543913409318,0.14988559612568936,0.14964436085527055,0.1498380094498367,0.14941442903958146,0.14927849529923193,0.14928251680208832,0.14956881590828655,0.14943844488896085,0.14967681825038248,0.15162182315996117,0.14954745341922232,0.1492748481259962,0.14917745092047782,0.14925661008983693,0.14927748011656253,0.2588370587921496,0.14926848743903726,0.14927777789353247,0.14929516624397296,0.1492921074852936,0.14932598664619848,0.14924436007532743,0.1495959841415421,0.14944718035783816,0.14940293654033127,0.14924364383858793,0.14939314211084212],\"type\":\"scatter\",\"xaxis\":\"x8\",\"yaxis\":\"y8\"},{\"marker\":{\"color\":[0,1,2,3,4,5,6,7,8,9,10,11,12,13,14,15,16,17,18,19,20,21,22,23,24,25,26,27,28,29,30,31,32,33,34,35,36,37,38,39,40,41,42,43,44,45,46,47,48,49,50,51,52,53,54,55,56,57,58,59,60,61,62,63,64,65,66,67,68,69,70,71,72,73,74,75,76,77,78,79,80,81,82,83,84,85,86,87,88,89,90,91,92,93,94,95,96,97,98,99],\"colorbar\":{\"title\":{\"text\":\"Trial\"},\"x\":1.0,\"xpad\":40},\"colorscale\":[[0.0,\"rgb(247,251,255)\"],[0.125,\"rgb(222,235,247)\"],[0.25,\"rgb(198,219,239)\"],[0.375,\"rgb(158,202,225)\"],[0.5,\"rgb(107,174,214)\"],[0.625,\"rgb(66,146,198)\"],[0.75,\"rgb(33,113,181)\"],[0.875,\"rgb(8,81,156)\"],[1.0,\"rgb(8,48,107)\"]],\"line\":{\"color\":\"Grey\",\"width\":0.5},\"showscale\":false},\"mode\":\"markers\",\"name\":\"Feasible Trial\",\"showlegend\":false,\"x\":[0.8685818296978939,0.9761076738241766,0.6749939888660631,0.5671303217699711,0.7237086552540628,0.6691889324445313,0.8726719915458155,0.747742964026595,0.867961305884692,0.5243819375652033,0.881571917344543,0.7497884815569982,0.8801977233786183,0.6214088506915629,0.6688443201743568,0.6177938427208984,0.6240336144898069,0.6084367625479647,0.6063944388971364,0.5042857550515949,0.5755576909375788,0.5889634213799797,0.5596013968217048,0.5553275546298138,0.643014617741692,0.6576527201051722,0.6489657100333514,0.6431213510699719,0.6711566580905383,0.6362837351339151,0.7038661301007677,0.7071646634115801,0.8211299653117722,0.8009152388615753,0.7902317456011411,0.795657752379573,0.7085402827439501,0.7918285997533925,0.8210241676569676,0.7081944251585516,0.8001334097100937,0.812349205301254,0.8334841560684653,0.9207875110318421,0.9667506921001547,0.9383619301075066,0.9288598679935972,0.7512950865924191,0.761166522883349,0.7590955734825445,0.751332335953517,0.7302864251896038,0.7739879061308034,0.7259574665898411,0.6937237779656213,0.6867040154290216,0.6970463182120559,0.6905252377109721,0.8426590561654673,0.8462557704880161,0.8445674200190172,0.8505292999162398,0.9161037815620249,0.9217580925701596,0.6391947650158076,0.8966601647943443,0.8606500566100742,0.8908296242195174,0.8705362100429047,0.9525280496156298,0.8860391952395208,0.9703255145475211,0.9671051126140976,0.7833284681121885,0.7818365091185705,0.7867736326643499,0.7827551479323105,0.8165342626573443,0.8224033744537463,0.9939423160845308,0.821938296709865,0.8317155003888016,0.8280148584010031,0.6056860489414242,0.6582367587071449,0.5962674409657821,0.5995667554347316,0.6511615620002383,0.6595055688184396,0.6769282183238297,0.5845361114732444,0.5354716075726894,0.5328076666913922,0.5549935588214502,0.6284306240103055,0.6241995640609923,0.7401188161018708,0.8551305344084806,0.5946526725463707,0.5917650932477656],\"y\":[0.1500541804066923,0.16071677954064545,0.15330425088947203,0.15211673010666424,0.15432986333877782,0.14954433412749685,0.16211633533869754,0.16814276310271048,0.15268105573333196,0.15030127552361783,0.15035107034902223,0.15185497593243086,0.15481065160798296,0.14933279306509675,0.15375669182408688,0.1496455201024016,0.1499639658771058,0.15073321234443174,0.15066054987899347,0.1503297800777793,0.1510650692558097,0.15026739700007277,0.1501639817626352,0.15112419947389769,0.1492714046846484,0.14942429656129635,0.14938328165278256,0.1492771102182969,0.1495077061955845,0.14969971405706267,0.14924075570831546,0.1492546698661809,0.14920033011435474,0.14948500931429018,0.14925556717747904,0.14938370311723037,0.1493908112786823,0.14960033423419186,0.14947905849480603,0.15324177195571093,0.15119277900088476,0.14981680354000954,0.14949373851230763,0.149418942089739,0.15000063767799846,0.14925129477279625,0.14940939205224948,0.14946436638170768,0.15140765376120818,0.15052191762639236,0.15364823407650188,0.172089104751309,0.15127005448541936,0.18591414794000372,0.150481542800954,0.15033190366422025,0.14989587522218223,0.14954141736612636,0.14936042082145676,0.14938190920541605,0.1492400311028877,0.1492438507922678,0.14999909515593482,0.15226714318310478,0.15032683290824012,0.14951984903235227,0.1495576725388329,0.15027869489018736,0.14935365005171133,0.14945990974083778,0.14939410957345511,0.14976818303996545,0.14956543913409318,0.14988559612568936,0.14964436085527055,0.1498380094498367,0.14941442903958146,0.14927849529923193,0.14928251680208832,0.14956881590828655,0.14943844488896085,0.14967681825038248,0.15162182315996117,0.14954745341922232,0.1492748481259962,0.14917745092047782,0.14925661008983693,0.14927748011656253,0.2588370587921496,0.14926848743903726,0.14927777789353247,0.14929516624397296,0.1492921074852936,0.14932598664619848,0.14924436007532743,0.1495959841415421,0.14944718035783816,0.14940293654033127,0.14924364383858793,0.14939314211084212],\"type\":\"scatter\",\"xaxis\":\"x9\",\"yaxis\":\"y9\"}],                        {\"template\":{\"data\":{\"histogram2dcontour\":[{\"type\":\"histogram2dcontour\",\"colorbar\":{\"outlinewidth\":0,\"ticks\":\"\"},\"colorscale\":[[0.0,\"#0d0887\"],[0.1111111111111111,\"#46039f\"],[0.2222222222222222,\"#7201a8\"],[0.3333333333333333,\"#9c179e\"],[0.4444444444444444,\"#bd3786\"],[0.5555555555555556,\"#d8576b\"],[0.6666666666666666,\"#ed7953\"],[0.7777777777777778,\"#fb9f3a\"],[0.8888888888888888,\"#fdca26\"],[1.0,\"#f0f921\"]]}],\"choropleth\":[{\"type\":\"choropleth\",\"colorbar\":{\"outlinewidth\":0,\"ticks\":\"\"}}],\"histogram2d\":[{\"type\":\"histogram2d\",\"colorbar\":{\"outlinewidth\":0,\"ticks\":\"\"},\"colorscale\":[[0.0,\"#0d0887\"],[0.1111111111111111,\"#46039f\"],[0.2222222222222222,\"#7201a8\"],[0.3333333333333333,\"#9c179e\"],[0.4444444444444444,\"#bd3786\"],[0.5555555555555556,\"#d8576b\"],[0.6666666666666666,\"#ed7953\"],[0.7777777777777778,\"#fb9f3a\"],[0.8888888888888888,\"#fdca26\"],[1.0,\"#f0f921\"]]}],\"heatmap\":[{\"type\":\"heatmap\",\"colorbar\":{\"outlinewidth\":0,\"ticks\":\"\"},\"colorscale\":[[0.0,\"#0d0887\"],[0.1111111111111111,\"#46039f\"],[0.2222222222222222,\"#7201a8\"],[0.3333333333333333,\"#9c179e\"],[0.4444444444444444,\"#bd3786\"],[0.5555555555555556,\"#d8576b\"],[0.6666666666666666,\"#ed7953\"],[0.7777777777777778,\"#fb9f3a\"],[0.8888888888888888,\"#fdca26\"],[1.0,\"#f0f921\"]]}],\"heatmapgl\":[{\"type\":\"heatmapgl\",\"colorbar\":{\"outlinewidth\":0,\"ticks\":\"\"},\"colorscale\":[[0.0,\"#0d0887\"],[0.1111111111111111,\"#46039f\"],[0.2222222222222222,\"#7201a8\"],[0.3333333333333333,\"#9c179e\"],[0.4444444444444444,\"#bd3786\"],[0.5555555555555556,\"#d8576b\"],[0.6666666666666666,\"#ed7953\"],[0.7777777777777778,\"#fb9f3a\"],[0.8888888888888888,\"#fdca26\"],[1.0,\"#f0f921\"]]}],\"contourcarpet\":[{\"type\":\"contourcarpet\",\"colorbar\":{\"outlinewidth\":0,\"ticks\":\"\"}}],\"contour\":[{\"type\":\"contour\",\"colorbar\":{\"outlinewidth\":0,\"ticks\":\"\"},\"colorscale\":[[0.0,\"#0d0887\"],[0.1111111111111111,\"#46039f\"],[0.2222222222222222,\"#7201a8\"],[0.3333333333333333,\"#9c179e\"],[0.4444444444444444,\"#bd3786\"],[0.5555555555555556,\"#d8576b\"],[0.6666666666666666,\"#ed7953\"],[0.7777777777777778,\"#fb9f3a\"],[0.8888888888888888,\"#fdca26\"],[1.0,\"#f0f921\"]]}],\"surface\":[{\"type\":\"surface\",\"colorbar\":{\"outlinewidth\":0,\"ticks\":\"\"},\"colorscale\":[[0.0,\"#0d0887\"],[0.1111111111111111,\"#46039f\"],[0.2222222222222222,\"#7201a8\"],[0.3333333333333333,\"#9c179e\"],[0.4444444444444444,\"#bd3786\"],[0.5555555555555556,\"#d8576b\"],[0.6666666666666666,\"#ed7953\"],[0.7777777777777778,\"#fb9f3a\"],[0.8888888888888888,\"#fdca26\"],[1.0,\"#f0f921\"]]}],\"mesh3d\":[{\"type\":\"mesh3d\",\"colorbar\":{\"outlinewidth\":0,\"ticks\":\"\"}}],\"scatter\":[{\"fillpattern\":{\"fillmode\":\"overlay\",\"size\":10,\"solidity\":0.2},\"type\":\"scatter\"}],\"parcoords\":[{\"type\":\"parcoords\",\"line\":{\"colorbar\":{\"outlinewidth\":0,\"ticks\":\"\"}}}],\"scatterpolargl\":[{\"type\":\"scatterpolargl\",\"marker\":{\"colorbar\":{\"outlinewidth\":0,\"ticks\":\"\"}}}],\"bar\":[{\"error_x\":{\"color\":\"#2a3f5f\"},\"error_y\":{\"color\":\"#2a3f5f\"},\"marker\":{\"line\":{\"color\":\"#E5ECF6\",\"width\":0.5},\"pattern\":{\"fillmode\":\"overlay\",\"size\":10,\"solidity\":0.2}},\"type\":\"bar\"}],\"scattergeo\":[{\"type\":\"scattergeo\",\"marker\":{\"colorbar\":{\"outlinewidth\":0,\"ticks\":\"\"}}}],\"scatterpolar\":[{\"type\":\"scatterpolar\",\"marker\":{\"colorbar\":{\"outlinewidth\":0,\"ticks\":\"\"}}}],\"histogram\":[{\"marker\":{\"pattern\":{\"fillmode\":\"overlay\",\"size\":10,\"solidity\":0.2}},\"type\":\"histogram\"}],\"scattergl\":[{\"type\":\"scattergl\",\"marker\":{\"colorbar\":{\"outlinewidth\":0,\"ticks\":\"\"}}}],\"scatter3d\":[{\"type\":\"scatter3d\",\"line\":{\"colorbar\":{\"outlinewidth\":0,\"ticks\":\"\"}},\"marker\":{\"colorbar\":{\"outlinewidth\":0,\"ticks\":\"\"}}}],\"scattermapbox\":[{\"type\":\"scattermapbox\",\"marker\":{\"colorbar\":{\"outlinewidth\":0,\"ticks\":\"\"}}}],\"scatterternary\":[{\"type\":\"scatterternary\",\"marker\":{\"colorbar\":{\"outlinewidth\":0,\"ticks\":\"\"}}}],\"scattercarpet\":[{\"type\":\"scattercarpet\",\"marker\":{\"colorbar\":{\"outlinewidth\":0,\"ticks\":\"\"}}}],\"carpet\":[{\"aaxis\":{\"endlinecolor\":\"#2a3f5f\",\"gridcolor\":\"white\",\"linecolor\":\"white\",\"minorgridcolor\":\"white\",\"startlinecolor\":\"#2a3f5f\"},\"baxis\":{\"endlinecolor\":\"#2a3f5f\",\"gridcolor\":\"white\",\"linecolor\":\"white\",\"minorgridcolor\":\"white\",\"startlinecolor\":\"#2a3f5f\"},\"type\":\"carpet\"}],\"table\":[{\"cells\":{\"fill\":{\"color\":\"#EBF0F8\"},\"line\":{\"color\":\"white\"}},\"header\":{\"fill\":{\"color\":\"#C8D4E3\"},\"line\":{\"color\":\"white\"}},\"type\":\"table\"}],\"barpolar\":[{\"marker\":{\"line\":{\"color\":\"#E5ECF6\",\"width\":0.5},\"pattern\":{\"fillmode\":\"overlay\",\"size\":10,\"solidity\":0.2}},\"type\":\"barpolar\"}],\"pie\":[{\"automargin\":true,\"type\":\"pie\"}]},\"layout\":{\"autotypenumbers\":\"strict\",\"colorway\":[\"#636efa\",\"#EF553B\",\"#00cc96\",\"#ab63fa\",\"#FFA15A\",\"#19d3f3\",\"#FF6692\",\"#B6E880\",\"#FF97FF\",\"#FECB52\"],\"font\":{\"color\":\"#2a3f5f\"},\"hovermode\":\"closest\",\"hoverlabel\":{\"align\":\"left\"},\"paper_bgcolor\":\"white\",\"plot_bgcolor\":\"#E5ECF6\",\"polar\":{\"bgcolor\":\"#E5ECF6\",\"angularaxis\":{\"gridcolor\":\"white\",\"linecolor\":\"white\",\"ticks\":\"\"},\"radialaxis\":{\"gridcolor\":\"white\",\"linecolor\":\"white\",\"ticks\":\"\"}},\"ternary\":{\"bgcolor\":\"#E5ECF6\",\"aaxis\":{\"gridcolor\":\"white\",\"linecolor\":\"white\",\"ticks\":\"\"},\"baxis\":{\"gridcolor\":\"white\",\"linecolor\":\"white\",\"ticks\":\"\"},\"caxis\":{\"gridcolor\":\"white\",\"linecolor\":\"white\",\"ticks\":\"\"}},\"coloraxis\":{\"colorbar\":{\"outlinewidth\":0,\"ticks\":\"\"}},\"colorscale\":{\"sequential\":[[0.0,\"#0d0887\"],[0.1111111111111111,\"#46039f\"],[0.2222222222222222,\"#7201a8\"],[0.3333333333333333,\"#9c179e\"],[0.4444444444444444,\"#bd3786\"],[0.5555555555555556,\"#d8576b\"],[0.6666666666666666,\"#ed7953\"],[0.7777777777777778,\"#fb9f3a\"],[0.8888888888888888,\"#fdca26\"],[1.0,\"#f0f921\"]],\"sequentialminus\":[[0.0,\"#0d0887\"],[0.1111111111111111,\"#46039f\"],[0.2222222222222222,\"#7201a8\"],[0.3333333333333333,\"#9c179e\"],[0.4444444444444444,\"#bd3786\"],[0.5555555555555556,\"#d8576b\"],[0.6666666666666666,\"#ed7953\"],[0.7777777777777778,\"#fb9f3a\"],[0.8888888888888888,\"#fdca26\"],[1.0,\"#f0f921\"]],\"diverging\":[[0,\"#8e0152\"],[0.1,\"#c51b7d\"],[0.2,\"#de77ae\"],[0.3,\"#f1b6da\"],[0.4,\"#fde0ef\"],[0.5,\"#f7f7f7\"],[0.6,\"#e6f5d0\"],[0.7,\"#b8e186\"],[0.8,\"#7fbc41\"],[0.9,\"#4d9221\"],[1,\"#276419\"]]},\"xaxis\":{\"gridcolor\":\"white\",\"linecolor\":\"white\",\"ticks\":\"\",\"title\":{\"standoff\":15},\"zerolinecolor\":\"white\",\"automargin\":true,\"zerolinewidth\":2},\"yaxis\":{\"gridcolor\":\"white\",\"linecolor\":\"white\",\"ticks\":\"\",\"title\":{\"standoff\":15},\"zerolinecolor\":\"white\",\"automargin\":true,\"zerolinewidth\":2},\"scene\":{\"xaxis\":{\"backgroundcolor\":\"#E5ECF6\",\"gridcolor\":\"white\",\"linecolor\":\"white\",\"showbackground\":true,\"ticks\":\"\",\"zerolinecolor\":\"white\",\"gridwidth\":2},\"yaxis\":{\"backgroundcolor\":\"#E5ECF6\",\"gridcolor\":\"white\",\"linecolor\":\"white\",\"showbackground\":true,\"ticks\":\"\",\"zerolinecolor\":\"white\",\"gridwidth\":2},\"zaxis\":{\"backgroundcolor\":\"#E5ECF6\",\"gridcolor\":\"white\",\"linecolor\":\"white\",\"showbackground\":true,\"ticks\":\"\",\"zerolinecolor\":\"white\",\"gridwidth\":2}},\"shapedefaults\":{\"line\":{\"color\":\"#2a3f5f\"}},\"annotationdefaults\":{\"arrowcolor\":\"#2a3f5f\",\"arrowhead\":0,\"arrowwidth\":1},\"geo\":{\"bgcolor\":\"white\",\"landcolor\":\"#E5ECF6\",\"subunitcolor\":\"white\",\"showland\":true,\"showlakes\":true,\"lakecolor\":\"white\"},\"title\":{\"x\":0.05},\"mapbox\":{\"style\":\"light\"}}},\"xaxis\":{\"anchor\":\"y\",\"domain\":[0.0,0.09135802469135802],\"title\":{\"text\":\"colsample_bytree\"},\"type\":\"log\"},\"yaxis\":{\"anchor\":\"x\",\"domain\":[0.0,1.0],\"title\":{\"text\":\"Objective Value\"}},\"xaxis2\":{\"anchor\":\"y2\",\"domain\":[0.11358024691358025,0.20493827160493827],\"title\":{\"text\":\"gamma\"},\"type\":\"log\"},\"yaxis2\":{\"anchor\":\"x2\",\"domain\":[0.0,1.0],\"matches\":\"y\",\"showticklabels\":false},\"xaxis3\":{\"anchor\":\"y3\",\"domain\":[0.2271604938271605,0.31851851851851853],\"title\":{\"text\":\"learning_rate\"},\"type\":\"log\"},\"yaxis3\":{\"anchor\":\"x3\",\"domain\":[0.0,1.0],\"matches\":\"y\",\"showticklabels\":false},\"xaxis4\":{\"anchor\":\"y4\",\"domain\":[0.34074074074074073,0.43209876543209874],\"title\":{\"text\":\"max_depth\"}},\"yaxis4\":{\"anchor\":\"x4\",\"domain\":[0.0,1.0],\"matches\":\"y\",\"showticklabels\":false},\"xaxis5\":{\"anchor\":\"y5\",\"domain\":[0.454320987654321,0.5456790123456791],\"title\":{\"text\":\"min_child_weight\"}},\"yaxis5\":{\"anchor\":\"x5\",\"domain\":[0.0,1.0],\"matches\":\"y\",\"showticklabels\":false},\"xaxis6\":{\"anchor\":\"y6\",\"domain\":[0.5679012345679012,0.6592592592592592],\"title\":{\"text\":\"n_estimators\"}},\"yaxis6\":{\"anchor\":\"x6\",\"domain\":[0.0,1.0],\"matches\":\"y\",\"showticklabels\":false},\"xaxis7\":{\"anchor\":\"y7\",\"domain\":[0.6814814814814815,0.7728395061728395],\"title\":{\"text\":\"reg_alpha\"},\"type\":\"log\"},\"yaxis7\":{\"anchor\":\"x7\",\"domain\":[0.0,1.0],\"matches\":\"y\",\"showticklabels\":false},\"xaxis8\":{\"anchor\":\"y8\",\"domain\":[0.7950617283950617,0.8864197530864197],\"title\":{\"text\":\"reg_lambda\"},\"type\":\"log\"},\"yaxis8\":{\"anchor\":\"x8\",\"domain\":[0.0,1.0],\"matches\":\"y\",\"showticklabels\":false},\"xaxis9\":{\"anchor\":\"y9\",\"domain\":[0.908641975308642,1.0],\"title\":{\"text\":\"subsample\"},\"type\":\"log\"},\"yaxis9\":{\"anchor\":\"x9\",\"domain\":[0.0,1.0],\"matches\":\"y\",\"showticklabels\":false},\"title\":{\"text\":\"Slice Plot\"},\"width\":2700},                        {\"responsive\": true}                    ).then(function(){\n",
       "                            \n",
       "var gd = document.getElementById('4f14e71f-cf8d-4f9d-afbe-62930a407b2e');\n",
       "var x = new MutationObserver(function (mutations, observer) {{\n",
       "        var display = window.getComputedStyle(gd).display;\n",
       "        if (!display || display === 'none') {{\n",
       "            console.log([gd, 'removed!']);\n",
       "            Plotly.purge(gd);\n",
       "            observer.disconnect();\n",
       "        }}\n",
       "}});\n",
       "\n",
       "// Listen for the removal of the full notebook cells\n",
       "var notebookContainer = gd.closest('#notebook-container');\n",
       "if (notebookContainer) {{\n",
       "    x.observe(notebookContainer, {childList: true});\n",
       "}}\n",
       "\n",
       "// Listen for the clearing of the current output cell\n",
       "var outputEl = gd.closest('.output');\n",
       "if (outputEl) {{\n",
       "    x.observe(outputEl, {childList: true});\n",
       "}}\n",
       "\n",
       "                        })                };                });            </script>        </div>"
      ]
     },
     "metadata": {},
     "output_type": "display_data"
    }
   ],
   "source": [
    "optuna.visualization.plot_slice(study)"
   ]
  },
  {
   "cell_type": "markdown",
   "id": "f289efc5",
   "metadata": {
    "papermill": {
     "duration": 0.016879,
     "end_time": "2024-04-01T04:00:12.453497",
     "exception": false,
     "start_time": "2024-04-01T04:00:12.436618",
     "status": "completed"
    },
    "tags": []
   },
   "source": [
    "# Training the Final Model"
   ]
  },
  {
   "cell_type": "code",
   "execution_count": 10,
   "id": "a4660a56",
   "metadata": {
    "execution": {
     "iopub.execute_input": "2024-04-01T04:00:12.490317Z",
     "iopub.status.busy": "2024-04-01T04:00:12.489851Z",
     "iopub.status.idle": "2024-04-01T04:00:20.646970Z",
     "shell.execute_reply": "2024-04-01T04:00:20.645920Z"
    },
    "papermill": {
     "duration": 8.179378,
     "end_time": "2024-04-01T04:00:20.650323",
     "exception": false,
     "start_time": "2024-04-01T04:00:12.470945",
     "status": "completed"
    },
    "tags": []
   },
   "outputs": [],
   "source": [
    "best_params = study.best_params\n",
    "\n",
    "model = XGBRegressor(**best_params, random_state=27)\n",
    "model.fit(X, y)\n",
    "\n",
    "preds = model.predict(X_test)"
   ]
  },
  {
   "cell_type": "code",
   "execution_count": 11,
   "id": "86503f56",
   "metadata": {
    "execution": {
     "iopub.execute_input": "2024-04-01T04:00:20.688934Z",
     "iopub.status.busy": "2024-04-01T04:00:20.688505Z",
     "iopub.status.idle": "2024-04-01T04:00:20.863932Z",
     "shell.execute_reply": "2024-04-01T04:00:20.862692Z"
    },
    "papermill": {
     "duration": 0.197927,
     "end_time": "2024-04-01T04:00:20.867292",
     "exception": false,
     "start_time": "2024-04-01T04:00:20.669365",
     "status": "completed"
    },
    "tags": []
   },
   "outputs": [
    {
     "data": {
      "text/html": [
       "<div>\n",
       "<style scoped>\n",
       "    .dataframe tbody tr th:only-of-type {\n",
       "        vertical-align: middle;\n",
       "    }\n",
       "\n",
       "    .dataframe tbody tr th {\n",
       "        vertical-align: top;\n",
       "    }\n",
       "\n",
       "    .dataframe thead th {\n",
       "        text-align: right;\n",
       "    }\n",
       "</style>\n",
       "<table border=\"1\" class=\"dataframe\">\n",
       "  <thead>\n",
       "    <tr style=\"text-align: right;\">\n",
       "      <th></th>\n",
       "      <th>id</th>\n",
       "      <th>Rings</th>\n",
       "    </tr>\n",
       "  </thead>\n",
       "  <tbody>\n",
       "    <tr>\n",
       "      <th>0</th>\n",
       "      <td>90615</td>\n",
       "      <td>9.918823</td>\n",
       "    </tr>\n",
       "    <tr>\n",
       "      <th>1</th>\n",
       "      <td>90616</td>\n",
       "      <td>9.740312</td>\n",
       "    </tr>\n",
       "    <tr>\n",
       "      <th>2</th>\n",
       "      <td>90617</td>\n",
       "      <td>10.137782</td>\n",
       "    </tr>\n",
       "    <tr>\n",
       "      <th>3</th>\n",
       "      <td>90618</td>\n",
       "      <td>10.456995</td>\n",
       "    </tr>\n",
       "    <tr>\n",
       "      <th>4</th>\n",
       "      <td>90619</td>\n",
       "      <td>7.643459</td>\n",
       "    </tr>\n",
       "  </tbody>\n",
       "</table>\n",
       "</div>"
      ],
      "text/plain": [
       "      id      Rings\n",
       "0  90615   9.918823\n",
       "1  90616   9.740312\n",
       "2  90617  10.137782\n",
       "3  90618  10.456995\n",
       "4  90619   7.643459"
      ]
     },
     "execution_count": 11,
     "metadata": {},
     "output_type": "execute_result"
    }
   ],
   "source": [
    "submission = pd.DataFrame({'id': test_ids, 'Rings': preds})\n",
    "submission.to_csv('submission.csv', index=False)\n",
    "submission.head()"
   ]
  }
 ],
 "metadata": {
  "kaggle": {
   "accelerator": "none",
   "dataSources": [
    {
     "databundleVersionId": 8096274,
     "sourceId": 72489,
     "sourceType": "competition"
    }
   ],
   "dockerImageVersionId": 30673,
   "isGpuEnabled": false,
   "isInternetEnabled": true,
   "language": "python",
   "sourceType": "notebook"
  },
  "kernelspec": {
   "display_name": "Python 3",
   "language": "python",
   "name": "python3"
  },
  "language_info": {
   "codemirror_mode": {
    "name": "ipython",
    "version": 3
   },
   "file_extension": ".py",
   "mimetype": "text/x-python",
   "name": "python",
   "nbconvert_exporter": "python",
   "pygments_lexer": "ipython3",
   "version": "3.10.13"
  },
  "papermill": {
   "default_parameters": {},
   "duration": 2518.521942,
   "end_time": "2024-04-01T04:00:21.924570",
   "environment_variables": {},
   "exception": null,
   "input_path": "__notebook__.ipynb",
   "output_path": "__notebook__.ipynb",
   "parameters": {},
   "start_time": "2024-04-01T03:18:23.402628",
   "version": "2.5.0"
  }
 },
 "nbformat": 4,
 "nbformat_minor": 5
}
