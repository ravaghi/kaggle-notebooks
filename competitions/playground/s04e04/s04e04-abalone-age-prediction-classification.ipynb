{
 "cells": [
  {
   "cell_type": "markdown",
   "id": "eff8f7a1",
   "metadata": {
    "papermill": {
     "duration": 0.009155,
     "end_time": "2024-04-14T20:03:27.173653",
     "exception": false,
     "start_time": "2024-04-14T20:03:27.164498",
     "status": "completed"
    },
    "tags": []
   },
   "source": [
    "# Classification Approach\n",
    "\n",
    "- This notebook is inspired by [this thread](https://www.kaggle.com/competitions/playground-series-s4e4/discussion/491339). The goal is to evaluate the performance of classifiers and classifier ensembles for this competition.\n",
    "- I've also tried to blend the results of this notebook with that of the [current top-ranking publicly available notebook](https://www.kaggle.com/code/trupologhelper/neural-networks-for-tabular-data) to see whether a classifier ensemble boosts its score.\n"
   ]
  },
  {
   "cell_type": "code",
   "execution_count": 1,
   "id": "cb3b5b3b",
   "metadata": {
    "_cell_guid": "b1076dfc-b9ad-4769-8c92-a6c4dae69d19",
    "_uuid": "8f2839f25d086af736a60e9eeb907d3b93b6e0e5",
    "execution": {
     "iopub.execute_input": "2024-04-14T20:03:27.192941Z",
     "iopub.status.busy": "2024-04-14T20:03:27.192190Z",
     "iopub.status.idle": "2024-04-14T20:03:31.515790Z",
     "shell.execute_reply": "2024-04-14T20:03:31.514139Z"
    },
    "papermill": {
     "duration": 4.337584,
     "end_time": "2024-04-14T20:03:31.519696",
     "exception": false,
     "start_time": "2024-04-14T20:03:27.182112",
     "status": "completed"
    },
    "tags": []
   },
   "outputs": [],
   "source": [
    "import pandas as pd\n",
    "import numpy as np\n",
    "import optuna\n",
    "import warnings\n",
    "import matplotlib\n",
    "import matplotlib.pyplot as plt\n",
    "import seaborn as sns\n",
    "from sklearn.model_selection import StratifiedKFold\n",
    "from sklearn.metrics import mean_squared_log_error\n",
    "from sklearn.base import clone\n",
    "from sklearn.preprocessing import LabelEncoder\n",
    "from sklearn.ensemble import VotingClassifier\n",
    "from xgboost import XGBClassifier\n",
    "from catboost import CatBoostClassifier\n",
    "\n",
    "matplotlib.style.use('ggplot')\n",
    "warnings.filterwarnings('ignore')"
   ]
  },
  {
   "cell_type": "code",
   "execution_count": 2,
   "id": "bd0ecc0a",
   "metadata": {
    "execution": {
     "iopub.execute_input": "2024-04-14T20:03:31.539199Z",
     "iopub.status.busy": "2024-04-14T20:03:31.538129Z",
     "iopub.status.idle": "2024-04-14T20:03:31.543462Z",
     "shell.execute_reply": "2024-04-14T20:03:31.542302Z"
    },
    "papermill": {
     "duration": 0.018119,
     "end_time": "2024-04-14T20:03:31.546216",
     "exception": false,
     "start_time": "2024-04-14T20:03:31.528097",
     "status": "completed"
    },
    "tags": []
   },
   "outputs": [],
   "source": [
    "SEED = 27\n",
    "N_SPLITS = 10\n",
    "N_REPEATS = 5"
   ]
  },
  {
   "cell_type": "markdown",
   "id": "75f68b9a",
   "metadata": {
    "papermill": {
     "duration": 0.008435,
     "end_time": "2024-04-14T20:03:31.562785",
     "exception": false,
     "start_time": "2024-04-14T20:03:31.554350",
     "status": "completed"
    },
    "tags": []
   },
   "source": [
    "# Loading and Processing Data"
   ]
  },
  {
   "cell_type": "code",
   "execution_count": 3,
   "id": "63c5aab2",
   "metadata": {
    "execution": {
     "iopub.execute_input": "2024-04-14T20:03:31.581990Z",
     "iopub.status.busy": "2024-04-14T20:03:31.581507Z",
     "iopub.status.idle": "2024-04-14T20:03:32.049532Z",
     "shell.execute_reply": "2024-04-14T20:03:32.047854Z"
    },
    "papermill": {
     "duration": 0.48133,
     "end_time": "2024-04-14T20:03:32.052744",
     "exception": false,
     "start_time": "2024-04-14T20:03:31.571414",
     "status": "completed"
    },
    "tags": []
   },
   "outputs": [],
   "source": [
    "train = pd.read_csv('/kaggle/input/playground-series-s4e4/train.csv', index_col='id')\n",
    "test = pd.read_csv('/kaggle/input/playground-series-s4e4/test.csv', index_col='id')\n",
    "\n",
    "train['Sex'] = train['Sex'].map({'M': 0, 'F': 1, 'I': 2})\n",
    "test['Sex'] = test['Sex'].map({'M': 0, 'F': 1, 'I': 2})\n",
    "\n",
    "X = train.drop(columns='Rings')\n",
    "y = train['Rings']"
   ]
  },
  {
   "cell_type": "markdown",
   "id": "bf1fddca",
   "metadata": {
    "papermill": {
     "duration": 0.008156,
     "end_time": "2024-04-14T20:03:32.069734",
     "exception": false,
     "start_time": "2024-04-14T20:03:32.061578",
     "status": "completed"
    },
    "tags": []
   },
   "source": [
    "# Defining CV and Training Function\n",
    "The function, `RMSLEOptimized`, is taken directly from [this topic](https://www.kaggle.com/competitions/playground-series-s4e4/discussion/491339) without any change. All credit goes therefore to the original author of the topic."
   ]
  },
  {
   "cell_type": "code",
   "execution_count": 4,
   "id": "f5e66449",
   "metadata": {
    "execution": {
     "iopub.execute_input": "2024-04-14T20:03:32.089056Z",
     "iopub.status.busy": "2024-04-14T20:03:32.088200Z",
     "iopub.status.idle": "2024-04-14T20:03:32.095666Z",
     "shell.execute_reply": "2024-04-14T20:03:32.094635Z"
    },
    "papermill": {
     "duration": 0.020275,
     "end_time": "2024-04-14T20:03:32.098308",
     "exception": false,
     "start_time": "2024-04-14T20:03:32.078033",
     "status": "completed"
    },
    "tags": []
   },
   "outputs": [],
   "source": [
    "def RMSLEOptimized(base_classifier_class):\n",
    "    class RMSLEOptimizedClassifier(base_classifier_class):\n",
    "        def fit(self, X, y):\n",
    "            enc = LabelEncoder().fit(y)\n",
    "            self.c_ = np.log1p(enc.classes_)\n",
    "            super().fit(X, enc.transform(y))\n",
    "            return self\n",
    "\n",
    "        def predict(self, X):\n",
    "            return np.expm1(np.sum(super().predict_proba(X)*self.c_, axis=1))\n",
    "    return RMSLEOptimizedClassifier"
   ]
  },
  {
   "cell_type": "code",
   "execution_count": 5,
   "id": "574640bd",
   "metadata": {
    "execution": {
     "iopub.execute_input": "2024-04-14T20:03:32.117367Z",
     "iopub.status.busy": "2024-04-14T20:03:32.116854Z",
     "iopub.status.idle": "2024-04-14T20:03:32.130803Z",
     "shell.execute_reply": "2024-04-14T20:03:32.129818Z"
    },
    "papermill": {
     "duration": 0.027212,
     "end_time": "2024-04-14T20:03:32.133841",
     "exception": false,
     "start_time": "2024-04-14T20:03:32.106629",
     "status": "completed"
    },
    "tags": []
   },
   "outputs": [],
   "source": [
    "def train(model, X, y, n_splits=N_SPLITS, n_repeats=N_REPEATS):\n",
    "    skf = StratifiedKFold(n_splits=n_splits, shuffle=True, random_state=SEED)\n",
    "\n",
    "    oof_preds = np.zeros(len(X), dtype=float)\n",
    "    scores = []\n",
    "    for train_idx, val_idx in skf.split(X, y):\n",
    "        X_train, X_val = X.iloc[train_idx], X.iloc[val_idx]\n",
    "        y_train, y_val = y.iloc[train_idx], y.iloc[val_idx]\n",
    "\n",
    "        y_pred = np.zeros_like(y_val, dtype=float)\n",
    "        for i in range(n_repeats):\n",
    "            m = clone(model)\n",
    "            if n_repeats > 1:\n",
    "                m.set_params(random_state=i)\n",
    "            m.fit(X_train, y_train)\n",
    "            y_pred += m.predict(X_val)\n",
    "\n",
    "        y_pred /= n_repeats\n",
    "        y_pred = y_pred.clip(1, 29)\n",
    "\n",
    "        score = np.sqrt(mean_squared_log_error(y_val, y_pred))\n",
    "        scores.append(score)\n",
    "        oof_preds[val_idx] = y_pred\n",
    "\n",
    "    return scores, oof_preds\n",
    "\n",
    "\n",
    "def predict(model, X, y, X_test, n_repeats=N_REPEATS):\n",
    "    y_pred = np.zeros(len(X_test), dtype=float)\n",
    "    for i in range(n_repeats):\n",
    "        m = clone(model)\n",
    "        if n_repeats > 1:\n",
    "            m.set_params(random_state=i)\n",
    "        m.fit(X, y)\n",
    "        y_pred += m.predict(X_test)\n",
    "    y_pred /= n_repeats\n",
    "    y_pred = y_pred.clip(1, 29)\n",
    "    return y_pred"
   ]
  },
  {
   "cell_type": "markdown",
   "id": "3fb63b70",
   "metadata": {
    "papermill": {
     "duration": 0.00825,
     "end_time": "2024-04-14T20:03:32.150712",
     "exception": false,
     "start_time": "2024-04-14T20:03:32.142462",
     "status": "completed"
    },
    "tags": []
   },
   "source": [
    "# Tuning Hyperparameters with Optuna"
   ]
  },
  {
   "cell_type": "code",
   "execution_count": 6,
   "id": "b3879eb2",
   "metadata": {
    "_kg_hide-input": true,
    "_kg_hide-output": true,
    "execution": {
     "iopub.execute_input": "2024-04-14T20:03:32.174508Z",
     "iopub.status.busy": "2024-04-14T20:03:32.173466Z",
     "iopub.status.idle": "2024-04-14T20:03:32.185656Z",
     "shell.execute_reply": "2024-04-14T20:03:32.184611Z"
    },
    "papermill": {
     "duration": 0.028765,
     "end_time": "2024-04-14T20:03:32.189072",
     "exception": false,
     "start_time": "2024-04-14T20:03:32.160307",
     "status": "completed"
    },
    "tags": []
   },
   "outputs": [],
   "source": [
    "def xgb_objective(trial):\n",
    "    params = {\n",
    "        'n_estimators': trial.suggest_int('n_estimators', 10, 1000),\n",
    "        'learning_rate': trial.suggest_float('learning_rate', 0.001, 0.5, log=True),\n",
    "        'lambda': trial.suggest_float('lambda', 1e-8, 1.0, log=True),\n",
    "        'alpha': trial.suggest_float('alpha', 1e-8, 1.0, log=True),\n",
    "        'subsample': trial.suggest_float('subsample', 0.2, 1.0),\n",
    "        'colsample_bytree': trial.suggest_float('colsample_bytree', 0.2, 1.0),\n",
    "        'random_state': SEED,\n",
    "        'n_jobs': -1,\n",
    "    }\n",
    "    params['max_depth'] = trial.suggest_int('max_depth', 3, 9, step=2)\n",
    "    params['min_child_weight'] = trial.suggest_int('min_child_weight', 2, 10)\n",
    "    params['eta'] = trial.suggest_float('eta', 1e-8, 1.0, log=True)\n",
    "    params['gamma'] = trial.suggest_float('gamma', 1e-8, 1.0, log=True)\n",
    "    params['skip_drop'] = trial.suggest_float('skip_drop', 1e-8, 1.0, log=True)\n",
    "\n",
    "    xgb_model = RMSLEOptimized(XGBClassifier)(**params)\n",
    "    xgb_scores, _ = train(xgb_model, X, y, 5, 1)\n",
    "    \n",
    "    return np.mean(xgb_scores)\n",
    "\n",
    "# xgb_study = optuna.create_study(direction='minimize', study_name='XGBoost')\n",
    "# xgb_study.optimize(xgb_objective, n_trials=1000, n_jobs=-1)\n",
    "# xgb_params = xgb_study.best_params"
   ]
  },
  {
   "cell_type": "code",
   "execution_count": 7,
   "id": "f883a6af",
   "metadata": {
    "_kg_hide-input": true,
    "_kg_hide-output": true,
    "execution": {
     "iopub.execute_input": "2024-04-14T20:03:32.216742Z",
     "iopub.status.busy": "2024-04-14T20:03:32.216216Z",
     "iopub.status.idle": "2024-04-14T20:03:32.227011Z",
     "shell.execute_reply": "2024-04-14T20:03:32.225752Z"
    },
    "papermill": {
     "duration": 0.027808,
     "end_time": "2024-04-14T20:03:32.230482",
     "exception": false,
     "start_time": "2024-04-14T20:03:32.202674",
     "status": "completed"
    },
    "tags": []
   },
   "outputs": [],
   "source": [
    "def cb_objective(trial):\n",
    "    params = {\n",
    "        'colsample_bylevel': trial.suggest_float('colsample_bylevel', 0.01, 0.1, log=True),\n",
    "        'depth': trial.suggest_int('depth', 1, 12),\n",
    "        'l2_leaf_reg': trial.suggest_float('l2_leaf_reg', 1, 6),\n",
    "        'learning_rate': trial.suggest_float('learning_rate', 0.001, 0.5, log=True),\n",
    "        'iterations': trial.suggest_int('iterations', 200, 1000),\n",
    "        'random_strength': trial.suggest_int('random_strength', 10, 100),\n",
    "        'border_count': trial.suggest_int('border_count', 150, 300), \n",
    "        'random_state': SEED, \n",
    "        'verbose': False\n",
    "    }\n",
    "    cb_model = RMSLEOptimized(CatBoostClassifier)(**params)\n",
    "    cb_scores, _ = train(cb_model, X, y, 5, 1)\n",
    "\n",
    "    return np.mean(cb_scores)\n",
    "\n",
    "\n",
    "# cb_study = optuna.create_study(direction='minimize', study_name='CatBoost')\n",
    "# cb_study.optimize(cb_objective, n_trials=1000, n_jobs=-1, catch=(ValueError, RuntimeError))\n",
    "# cb_params = cb_study.best_params"
   ]
  },
  {
   "cell_type": "code",
   "execution_count": 8,
   "id": "38dcdcd0",
   "metadata": {
    "_kg_hide-input": true,
    "_kg_hide-output": true,
    "execution": {
     "iopub.execute_input": "2024-04-14T20:03:32.256288Z",
     "iopub.status.busy": "2024-04-14T20:03:32.255553Z",
     "iopub.status.idle": "2024-04-14T20:03:32.269267Z",
     "shell.execute_reply": "2024-04-14T20:03:32.266990Z"
    },
    "papermill": {
     "duration": 0.030223,
     "end_time": "2024-04-14T20:03:32.273531",
     "exception": false,
     "start_time": "2024-04-14T20:03:32.243308",
     "status": "completed"
    },
    "tags": []
   },
   "outputs": [],
   "source": [
    "xgb_params = {\n",
    "    'n_jobs': -1,\n",
    "    'max_depth': 7,\n",
    "    'n_estimators': 671,\n",
    "    'random_state': SEED,\n",
    "    'min_child_weight': 10,\n",
    "    'eta': 1.0587175909624386e-08,\n",
    "    'alpha': 0.0037647024033841104,\n",
    "    'lambda': 1.611786509104389e-06,\n",
    "    'gamma': 1.7477246190281184e-07,\n",
    "    'subsample': 0.7729054495069687,\n",
    "    'learning_rate': 0.06668333538114861,\n",
    "    'colsample_bytree': 0.4328823966732981,\n",
    "}\n",
    "\n",
    "cb_params = {\n",
    "    'depth': 9,\n",
    "    'verbose': False,\n",
    "    'iterations': 978,\n",
    "    'random_state': SEED,\n",
    "    'l2_leaf_reg': 2.225407966369204,\n",
    "    'learning_rate': 0.42362856656186987,\n",
    "    'colsample_bylevel': 0.09086110013571472,\n",
    "}"
   ]
  },
  {
   "cell_type": "markdown",
   "id": "148ad270",
   "metadata": {
    "papermill": {
     "duration": 0.008294,
     "end_time": "2024-04-14T20:03:32.292707",
     "exception": false,
     "start_time": "2024-04-14T20:03:32.284413",
     "status": "completed"
    },
    "tags": []
   },
   "source": [
    "# Training Base Models"
   ]
  },
  {
   "cell_type": "code",
   "execution_count": 9,
   "id": "d35ad79a",
   "metadata": {
    "execution": {
     "iopub.execute_input": "2024-04-14T20:03:32.318841Z",
     "iopub.status.busy": "2024-04-14T20:03:32.317759Z",
     "iopub.status.idle": "2024-04-14T22:46:58.338763Z",
     "shell.execute_reply": "2024-04-14T22:46:58.337637Z"
    },
    "papermill": {
     "duration": 9806.044706,
     "end_time": "2024-04-14T22:46:58.349683",
     "exception": false,
     "start_time": "2024-04-14T20:03:32.304977",
     "status": "completed"
    },
    "tags": []
   },
   "outputs": [
    {
     "name": "stdout",
     "output_type": "stream",
     "text": [
      "XGB:  0.1485796021839296\n",
      "CB:   0.15023944800301678\n"
     ]
    }
   ],
   "source": [
    "xgb_model = RMSLEOptimized(XGBClassifier)(**xgb_params)\n",
    "xgb_scores, xgb_oof_preds = train(xgb_model, X, y)\n",
    "print(f'XGB:  {np.mean(xgb_scores)}')\n",
    "\n",
    "cb_model = RMSLEOptimized(CatBoostClassifier)(**cb_params)\n",
    "cb_scores, cb_oof_preds = train(cb_model, X, y)\n",
    "print(f'CB:   {np.mean(cb_scores)}')"
   ]
  },
  {
   "cell_type": "markdown",
   "id": "39086a61",
   "metadata": {
    "papermill": {
     "duration": 0.008146,
     "end_time": "2024-04-14T22:46:58.366624",
     "exception": false,
     "start_time": "2024-04-14T22:46:58.358478",
     "status": "completed"
    },
    "tags": []
   },
   "source": [
    "# Training and Tuning a VotingClassifier"
   ]
  },
  {
   "cell_type": "code",
   "execution_count": 10,
   "id": "6ad1dfa0",
   "metadata": {
    "execution": {
     "iopub.execute_input": "2024-04-14T22:46:58.386269Z",
     "iopub.status.busy": "2024-04-14T22:46:58.384902Z",
     "iopub.status.idle": "2024-04-14T22:46:58.390942Z",
     "shell.execute_reply": "2024-04-14T22:46:58.390019Z"
    },
    "papermill": {
     "duration": 0.018739,
     "end_time": "2024-04-14T22:46:58.393651",
     "exception": false,
     "start_time": "2024-04-14T22:46:58.374912",
     "status": "completed"
    },
    "tags": []
   },
   "outputs": [],
   "source": [
    "estimators = [\n",
    "    ('XGB', xgb_model),\n",
    "    ('CB', cb_model)\n",
    "]"
   ]
  },
  {
   "cell_type": "code",
   "execution_count": 11,
   "id": "36ad2358",
   "metadata": {
    "_kg_hide-input": true,
    "execution": {
     "iopub.execute_input": "2024-04-14T22:46:58.412634Z",
     "iopub.status.busy": "2024-04-14T22:46:58.412001Z",
     "iopub.status.idle": "2024-04-14T22:46:58.420371Z",
     "shell.execute_reply": "2024-04-14T22:46:58.419121Z"
    },
    "papermill": {
     "duration": 0.020719,
     "end_time": "2024-04-14T22:46:58.422748",
     "exception": false,
     "start_time": "2024-04-14T22:46:58.402029",
     "status": "completed"
    },
    "tags": []
   },
   "outputs": [],
   "source": [
    "def ensemble_objective(trial):\n",
    "    params = {\n",
    "        'xgb_weight': trial.suggest_float('xgb_weight', 0.0, 1.0),\n",
    "        'cb_weight': trial.suggest_float('cb_weight', 0.0, 1.0)\n",
    "    }\n",
    "\n",
    "    weights = [\n",
    "        params['xgb_weight'],\n",
    "        params['cb_weight']\n",
    "    ]\n",
    "    weights /= np.sum(weights)\n",
    "\n",
    "    voter = RMSLEOptimized(VotingClassifier)(estimators=estimators, weights=weights, n_jobs=-1, voting='soft')\n",
    "    scores, _ = train(voter, X, y, 5, 1)\n",
    "    \n",
    "    return np.mean(scores)\n",
    "\n",
    "# ensemble_study = optuna.create_study(direction='minimize', study_name='Voter')\n",
    "# ensemble_study.optimize(ensemble_objective, n_trials=2, timeout=30, n_jobs=-1)\n",
    "# best_weights = ensemble_study.best_params"
   ]
  },
  {
   "cell_type": "code",
   "execution_count": 12,
   "id": "fccbb11e",
   "metadata": {
    "execution": {
     "iopub.execute_input": "2024-04-14T22:46:58.441679Z",
     "iopub.status.busy": "2024-04-14T22:46:58.441002Z",
     "iopub.status.idle": "2024-04-14T22:46:58.448451Z",
     "shell.execute_reply": "2024-04-14T22:46:58.447128Z"
    },
    "papermill": {
     "duration": 0.019821,
     "end_time": "2024-04-14T22:46:58.450745",
     "exception": false,
     "start_time": "2024-04-14T22:46:58.430924",
     "status": "completed"
    },
    "tags": []
   },
   "outputs": [
    {
     "name": "stdout",
     "output_type": "stream",
     "text": [
      "\n",
      "Best Weights: [0.9295158998094998, 0.07048410019050023]\n"
     ]
    }
   ],
   "source": [
    "best_weights = {'xgb_weight': 0.9293242323514871, 'cb_weight': 0.0704695662720201}\n",
    "\n",
    "weights = [\n",
    "    best_weights['xgb_weight'],\n",
    "    best_weights['cb_weight']\n",
    "]\n",
    "\n",
    "weights /= np.sum(weights)\n",
    "print(f'\\nBest Weights: {list(weights)}')"
   ]
  },
  {
   "cell_type": "code",
   "execution_count": 13,
   "id": "f94c4816",
   "metadata": {
    "execution": {
     "iopub.execute_input": "2024-04-14T22:46:58.470213Z",
     "iopub.status.busy": "2024-04-14T22:46:58.468911Z",
     "iopub.status.idle": "2024-04-14T23:38:16.336428Z",
     "shell.execute_reply": "2024-04-14T23:38:16.334546Z"
    },
    "papermill": {
     "duration": 3077.888894,
     "end_time": "2024-04-14T23:38:16.348071",
     "exception": false,
     "start_time": "2024-04-14T22:46:58.459177",
     "status": "completed"
    },
    "tags": []
   },
   "outputs": [
    {
     "name": "stdout",
     "output_type": "stream",
     "text": [
      "Voter: 0.14864447940360304\n"
     ]
    }
   ],
   "source": [
    "voter = RMSLEOptimized(VotingClassifier)(estimators=estimators, weights=weights, n_jobs=-1, voting='soft')\n",
    "voter_scores, oof_preds = train(voter, X, y, N_SPLITS, 1)\n",
    "\n",
    "print(f'Voter: {np.mean(voter_scores)}')"
   ]
  },
  {
   "cell_type": "code",
   "execution_count": 14,
   "id": "23d50752",
   "metadata": {
    "_kg_hide-input": true,
    "execution": {
     "iopub.execute_input": "2024-04-14T23:38:16.367987Z",
     "iopub.status.busy": "2024-04-14T23:38:16.367533Z",
     "iopub.status.idle": "2024-04-14T23:38:17.025988Z",
     "shell.execute_reply": "2024-04-14T23:38:17.024757Z"
    },
    "papermill": {
     "duration": 0.67247,
     "end_time": "2024-04-14T23:38:17.029260",
     "exception": false,
     "start_time": "2024-04-14T23:38:16.356790",
     "status": "completed"
    },
    "tags": []
   },
   "outputs": [
    {
     "data": {
      "image/png": "[encoded data removed]",
      "text/plain": [
       "<Figure size 1000x400 with 2 Axes>"
      ]
     },
     "metadata": {},
     "output_type": "display_data"
    }
   ],
   "source": [
    "scores = pd.DataFrame({\n",
    "    'XGBoost': xgb_scores,\n",
    "    'CatBoost': cb_scores,\n",
    "    'Ensemble': voter_scores\n",
    "})\n",
    "scores = scores[scores.mean().sort_values().index]\n",
    "\n",
    "fig, axes = plt.subplots(1, 2, figsize=(10, 4))\n",
    "sns.boxplot(data=scores, ax=axes[0], palette='viridis')\n",
    "axes[0].set_title('Fold Scores')\n",
    "axes[0].set_xlabel('')\n",
    "axes[0].set_ylabel('')\n",
    "mean_scores = scores.mean().sort_values()\n",
    "sns.barplot(x=mean_scores, y=mean_scores.index, orient='h', ax=axes[1], palette='viridis')\n",
    "axes[1].set_title('Mean Scores')\n",
    "axes[1].set_xlabel('')\n",
    "axes[1].set_ylabel('')\n",
    "axes[1].set_xlim(0.148,0.152)\n",
    "plt.tight_layout()\n",
    "plt.show()"
   ]
  },
  {
   "cell_type": "markdown",
   "id": "5d6edadb",
   "metadata": {
    "papermill": {
     "duration": 0.009011,
     "end_time": "2024-04-14T23:38:17.047821",
     "exception": false,
     "start_time": "2024-04-14T23:38:17.038810",
     "status": "completed"
    },
    "tags": []
   },
   "source": [
    "# Blending Results"
   ]
  },
  {
   "cell_type": "code",
   "execution_count": 15,
   "id": "86c56852",
   "metadata": {
    "execution": {
     "iopub.execute_input": "2024-04-14T23:38:17.071683Z",
     "iopub.status.busy": "2024-04-14T23:38:17.070116Z",
     "iopub.status.idle": "2024-04-14T23:44:04.535834Z",
     "shell.execute_reply": "2024-04-14T23:44:04.534279Z"
    },
    "papermill": {
     "duration": 347.490787,
     "end_time": "2024-04-14T23:44:04.549811",
     "exception": false,
     "start_time": "2024-04-14T23:38:17.059024",
     "status": "completed"
    },
    "tags": []
   },
   "outputs": [
    {
     "data": {
      "text/html": [
       "<div>\n",
       "<style scoped>\n",
       "    .dataframe tbody tr th:only-of-type {\n",
       "        vertical-align: middle;\n",
       "    }\n",
       "\n",
       "    .dataframe tbody tr th {\n",
       "        vertical-align: top;\n",
       "    }\n",
       "\n",
       "    .dataframe thead th {\n",
       "        text-align: right;\n",
       "    }\n",
       "</style>\n",
       "<table border=\"1\" class=\"dataframe\">\n",
       "  <thead>\n",
       "    <tr style=\"text-align: right;\">\n",
       "      <th></th>\n",
       "      <th>id</th>\n",
       "      <th>Rings</th>\n",
       "    </tr>\n",
       "  </thead>\n",
       "  <tbody>\n",
       "    <tr>\n",
       "      <th>0</th>\n",
       "      <td>90615</td>\n",
       "      <td>9.882691</td>\n",
       "    </tr>\n",
       "    <tr>\n",
       "      <th>1</th>\n",
       "      <td>90616</td>\n",
       "      <td>9.815578</td>\n",
       "    </tr>\n",
       "    <tr>\n",
       "      <th>2</th>\n",
       "      <td>90617</td>\n",
       "      <td>9.917017</td>\n",
       "    </tr>\n",
       "    <tr>\n",
       "      <th>3</th>\n",
       "      <td>90618</td>\n",
       "      <td>10.430898</td>\n",
       "    </tr>\n",
       "    <tr>\n",
       "      <th>4</th>\n",
       "      <td>90619</td>\n",
       "      <td>7.671255</td>\n",
       "    </tr>\n",
       "  </tbody>\n",
       "</table>\n",
       "</div>"
      ],
      "text/plain": [
       "      id      Rings\n",
       "0  90615   9.882691\n",
       "1  90616   9.815578\n",
       "2  90617   9.917017\n",
       "3  90618  10.430898\n",
       "4  90619   7.671255"
      ]
     },
     "execution_count": 15,
     "metadata": {},
     "output_type": "execute_result"
    }
   ],
   "source": [
    "y_preds = predict(voter, X, y, test, 1)\n",
    "voter_sub = pd.DataFrame({'id': test.index, 'Rings': y_preds})\n",
    "voter_sub.to_csv('ensemble.csv', index=False)\n",
    "voter_sub.head()"
   ]
  },
  {
   "cell_type": "code",
   "execution_count": 16,
   "id": "1a529f6b",
   "metadata": {
    "execution": {
     "iopub.execute_input": "2024-04-14T23:44:04.572090Z",
     "iopub.status.busy": "2024-04-14T23:44:04.570850Z",
     "iopub.status.idle": "2024-04-14T23:44:04.871950Z",
     "shell.execute_reply": "2024-04-14T23:44:04.870461Z"
    },
    "papermill": {
     "duration": 0.316049,
     "end_time": "2024-04-14T23:44:04.875501",
     "exception": false,
     "start_time": "2024-04-14T23:44:04.559452",
     "status": "completed"
    },
    "tags": []
   },
   "outputs": [
    {
     "data": {
      "text/html": [
       "<div>\n",
       "<style scoped>\n",
       "    .dataframe tbody tr th:only-of-type {\n",
       "        vertical-align: middle;\n",
       "    }\n",
       "\n",
       "    .dataframe tbody tr th {\n",
       "        vertical-align: top;\n",
       "    }\n",
       "\n",
       "    .dataframe thead th {\n",
       "        text-align: right;\n",
       "    }\n",
       "</style>\n",
       "<table border=\"1\" class=\"dataframe\">\n",
       "  <thead>\n",
       "    <tr style=\"text-align: right;\">\n",
       "      <th></th>\n",
       "      <th>id</th>\n",
       "      <th>Rings</th>\n",
       "    </tr>\n",
       "  </thead>\n",
       "  <tbody>\n",
       "    <tr>\n",
       "      <th>0</th>\n",
       "      <td>90615</td>\n",
       "      <td>9.727379</td>\n",
       "    </tr>\n",
       "    <tr>\n",
       "      <th>1</th>\n",
       "      <td>90616</td>\n",
       "      <td>9.708872</td>\n",
       "    </tr>\n",
       "    <tr>\n",
       "      <th>2</th>\n",
       "      <td>90617</td>\n",
       "      <td>9.718919</td>\n",
       "    </tr>\n",
       "    <tr>\n",
       "      <th>3</th>\n",
       "      <td>90618</td>\n",
       "      <td>10.552554</td>\n",
       "    </tr>\n",
       "    <tr>\n",
       "      <th>4</th>\n",
       "      <td>90619</td>\n",
       "      <td>7.614100</td>\n",
       "    </tr>\n",
       "  </tbody>\n",
       "</table>\n",
       "</div>"
      ],
      "text/plain": [
       "      id      Rings\n",
       "0  90615   9.727379\n",
       "1  90616   9.708872\n",
       "2  90617   9.718919\n",
       "3  90618  10.552554\n",
       "4  90619   7.614100"
      ]
     },
     "execution_count": 16,
     "metadata": {},
     "output_type": "execute_result"
    }
   ],
   "source": [
    "public_lb_best_sub = pd.read_csv(f\"/kaggle/input/neural-networks-for-tabular-data/submission.csv\")[\"Rings\"].values\n",
    "ensemble_sub = voter_sub[\"Rings\"].values\n",
    "\n",
    "submission = voter_sub.copy()\n",
    "submission[\"Rings\"] = np.average(np.c_[public_lb_best_sub, ensemble_sub], axis=1, weights=[0.9, 0.1])\n",
    "submission[\"Rings\"] = submission[\"Rings\"].clip(1, 29)\n",
    "submission[\"Rings\"] = np.where(submission[\"Rings\"].between(27.5, 29), 29, submission[\"Rings\"])\n",
    "submission.to_csv(\"ensemble-public_lb_best.csv\", index=None)\n",
    "submission.head()"
   ]
  },
  {
   "cell_type": "code",
   "execution_count": null,
   "id": "91e27e0f",
   "metadata": {
    "papermill": {
     "duration": 0.009344,
     "end_time": "2024-04-14T23:44:04.895014",
     "exception": false,
     "start_time": "2024-04-14T23:44:04.885670",
     "status": "completed"
    },
    "tags": []
   },
   "outputs": [],
   "source": []
  }
 ],
 "metadata": {
  "kaggle": {
   "accelerator": "none",
   "dataSources": [
    {
     "databundleVersionId": 8096274,
     "sourceId": 72489,
     "sourceType": "competition"
    },
    {
     "sourceId": 171966042,
     "sourceType": "kernelVersion"
    }
   ],
   "dockerImageVersionId": 30684,
   "isGpuEnabled": false,
   "isInternetEnabled": true,
   "language": "python",
   "sourceType": "notebook"
  },
  "kernelspec": {
   "display_name": "Python 3",
   "language": "python",
   "name": "python3"
  },
  "language_info": {
   "codemirror_mode": {
    "name": "ipython",
    "version": 3
   },
   "file_extension": ".py",
   "mimetype": "text/x-python",
   "name": "python",
   "nbconvert_exporter": "python",
   "pygments_lexer": "ipython3",
   "version": "3.10.13"
  },
  "papermill": {
   "default_parameters": {},
   "duration": 13243.905637,
   "end_time": "2024-04-14T23:44:07.665716",
   "environment_variables": {},
   "exception": null,
   "input_path": "__notebook__.ipynb",
   "output_path": "__notebook__.ipynb",
   "parameters": {},
   "start_time": "2024-04-14T20:03:23.760079",
   "version": "2.5.0"
  }
 },
 "nbformat": 4,
 "nbformat_minor": 5
}
