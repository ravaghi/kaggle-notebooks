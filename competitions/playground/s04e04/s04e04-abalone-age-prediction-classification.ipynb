{
 "cells": [
  {
   "cell_type": "markdown",
   "id": "8307c313",
   "metadata": {
    "papermill": {
     "duration": 0.007201,
     "end_time": "2024-04-12T04:26:28.947641",
     "exception": false,
     "start_time": "2024-04-12T04:26:28.940440",
     "status": "completed"
    },
    "tags": []
   },
   "source": [
    "# Classification Approach\n",
    "\n",
    "- This notebook is inspired by [this thread](https://www.kaggle.com/competitions/playground-series-s4e4/discussion/491339). The goal is to evaluate the performance of classifiers and classifier ensembles for this competition.\n",
    "- I've also tried to blend the results of this notebook with that of the [current top-ranking publicly available notebook](https://www.kaggle.com/code/arunklenin/ps4e4-prediction-generalization-regression) to see whether a classifier ensemble boosts its score.\n"
   ]
  },
  {
   "cell_type": "code",
   "execution_count": 1,
   "id": "b40358d9",
   "metadata": {
    "_cell_guid": "b1076dfc-b9ad-4769-8c92-a6c4dae69d19",
    "_uuid": "8f2839f25d086af736a60e9eeb907d3b93b6e0e5",
    "execution": {
     "iopub.execute_input": "2024-04-12T04:26:28.964957Z",
     "iopub.status.busy": "2024-04-12T04:26:28.964426Z",
     "iopub.status.idle": "2024-04-12T04:26:32.760271Z",
     "shell.execute_reply": "2024-04-12T04:26:32.759152Z"
    },
    "papermill": {
     "duration": 3.809159,
     "end_time": "2024-04-12T04:26:32.763503",
     "exception": false,
     "start_time": "2024-04-12T04:26:28.954344",
     "status": "completed"
    },
    "tags": []
   },
   "outputs": [],
   "source": [
    "import pandas as pd\n",
    "import numpy as np\n",
    "import optuna\n",
    "import warnings\n",
    "import matplotlib.pyplot as plt\n",
    "import seaborn as sns\n",
    "from sklearn.model_selection import StratifiedKFold\n",
    "from sklearn.metrics import mean_squared_log_error\n",
    "from sklearn.base import clone\n",
    "from sklearn.preprocessing import LabelEncoder\n",
    "from sklearn.ensemble import VotingClassifier\n",
    "from xgboost import XGBClassifier\n",
    "from catboost import CatBoostClassifier\n",
    "\n",
    "warnings.filterwarnings('ignore')"
   ]
  },
  {
   "cell_type": "code",
   "execution_count": 2,
   "id": "52bdc6ee",
   "metadata": {
    "execution": {
     "iopub.execute_input": "2024-04-12T04:26:32.777347Z",
     "iopub.status.busy": "2024-04-12T04:26:32.776843Z",
     "iopub.status.idle": "2024-04-12T04:26:32.781847Z",
     "shell.execute_reply": "2024-04-12T04:26:32.780603Z"
    },
    "papermill": {
     "duration": 0.014563,
     "end_time": "2024-04-12T04:26:32.784169",
     "exception": false,
     "start_time": "2024-04-12T04:26:32.769606",
     "status": "completed"
    },
    "tags": []
   },
   "outputs": [],
   "source": [
    "SEED = 27\n",
    "N_SPLITS = 10\n",
    "N_REPEATS = 5"
   ]
  },
  {
   "cell_type": "markdown",
   "id": "6ea5f582",
   "metadata": {
    "papermill": {
     "duration": 0.005801,
     "end_time": "2024-04-12T04:26:32.795970",
     "exception": false,
     "start_time": "2024-04-12T04:26:32.790169",
     "status": "completed"
    },
    "tags": []
   },
   "source": [
    "# Loading and Processing Data"
   ]
  },
  {
   "cell_type": "code",
   "execution_count": 3,
   "id": "ea7a4c64",
   "metadata": {
    "execution": {
     "iopub.execute_input": "2024-04-12T04:26:32.809320Z",
     "iopub.status.busy": "2024-04-12T04:26:32.808950Z",
     "iopub.status.idle": "2024-04-12T04:26:33.139377Z",
     "shell.execute_reply": "2024-04-12T04:26:33.138181Z"
    },
    "papermill": {
     "duration": 0.340599,
     "end_time": "2024-04-12T04:26:33.142466",
     "exception": false,
     "start_time": "2024-04-12T04:26:32.801867",
     "status": "completed"
    },
    "tags": []
   },
   "outputs": [],
   "source": [
    "train = pd.read_csv('/kaggle/input/playground-series-s4e4/train.csv', index_col='id')\n",
    "test = pd.read_csv('/kaggle/input/playground-series-s4e4/test.csv', index_col='id')\n",
    "\n",
    "train['Sex'] = train['Sex'].map({'M': 0, 'F': 1, 'I': 2})\n",
    "test['Sex'] = test['Sex'].map({'M': 0, 'F': 1, 'I': 2})\n",
    "\n",
    "X = train.drop(columns='Rings')\n",
    "y = train['Rings']"
   ]
  },
  {
   "cell_type": "markdown",
   "id": "cf5be0fc",
   "metadata": {
    "papermill": {
     "duration": 0.00545,
     "end_time": "2024-04-12T04:26:33.154009",
     "exception": false,
     "start_time": "2024-04-12T04:26:33.148559",
     "status": "completed"
    },
    "tags": []
   },
   "source": [
    "# Defining CV and Training Function\n",
    "The function, `RMSLEOptimized`, is taken directly from [this topic](https://www.kaggle.com/competitions/playground-series-s4e4/discussion/491339) without any change. All credit goes therefore to the original author of the topic."
   ]
  },
  {
   "cell_type": "code",
   "execution_count": 4,
   "id": "8af370a4",
   "metadata": {
    "execution": {
     "iopub.execute_input": "2024-04-12T04:26:33.167527Z",
     "iopub.status.busy": "2024-04-12T04:26:33.167061Z",
     "iopub.status.idle": "2024-04-12T04:26:33.174248Z",
     "shell.execute_reply": "2024-04-12T04:26:33.173024Z"
    },
    "papermill": {
     "duration": 0.016944,
     "end_time": "2024-04-12T04:26:33.176666",
     "exception": false,
     "start_time": "2024-04-12T04:26:33.159722",
     "status": "completed"
    },
    "tags": []
   },
   "outputs": [],
   "source": [
    "def RMSLEOptimized(base_classifier_class):\n",
    "    class RMSLEOptimizedClassifier(base_classifier_class):\n",
    "        def fit(self, X, y):\n",
    "            enc = LabelEncoder().fit(y)\n",
    "            self.c_ = np.log1p(enc.classes_)\n",
    "            super().fit(X, enc.transform(y))\n",
    "            return self\n",
    "\n",
    "        def predict(self, X):\n",
    "            return np.expm1(np.sum(super().predict_proba(X)*self.c_, axis=1))\n",
    "    return RMSLEOptimizedClassifier"
   ]
  },
  {
   "cell_type": "code",
   "execution_count": 5,
   "id": "b8bacd26",
   "metadata": {
    "execution": {
     "iopub.execute_input": "2024-04-12T04:26:33.191114Z",
     "iopub.status.busy": "2024-04-12T04:26:33.190263Z",
     "iopub.status.idle": "2024-04-12T04:26:33.202649Z",
     "shell.execute_reply": "2024-04-12T04:26:33.201450Z"
    },
    "papermill": {
     "duration": 0.022242,
     "end_time": "2024-04-12T04:26:33.205115",
     "exception": false,
     "start_time": "2024-04-12T04:26:33.182873",
     "status": "completed"
    },
    "tags": []
   },
   "outputs": [],
   "source": [
    "def train(model, X, y, n_splits=N_SPLITS, n_repeats=N_REPEATS):\n",
    "    skf = StratifiedKFold(n_splits=n_splits, shuffle=True, random_state=SEED)\n",
    "\n",
    "    oof_preds = np.zeros(len(X), dtype=float)\n",
    "    scores = []\n",
    "    for train_idx, val_idx in skf.split(X, y):\n",
    "        X_train, X_val = X.iloc[train_idx], X.iloc[val_idx]\n",
    "        y_train, y_val = y.iloc[train_idx], y.iloc[val_idx]\n",
    "\n",
    "        y_pred = np.zeros_like(y_val, dtype=float)\n",
    "        for i in range(n_repeats):\n",
    "            m = clone(model)\n",
    "            if n_repeats > 1:\n",
    "                m.set_params(random_state=i)\n",
    "            m.fit(X_train, y_train)\n",
    "            y_pred += m.predict(X_val)\n",
    "\n",
    "        y_pred /= n_repeats\n",
    "        y_pred = y_pred.clip(1, 29)\n",
    "\n",
    "        score = np.sqrt(mean_squared_log_error(y_val, y_pred))\n",
    "        scores.append(score)\n",
    "        oof_preds[val_idx] = y_pred\n",
    "\n",
    "    return scores, oof_preds\n",
    "\n",
    "\n",
    "def predict(model, X, y, X_test, n_repeats=N_REPEATS):\n",
    "    y_pred = np.zeros(len(X_test), dtype=float)\n",
    "    for i in range(n_repeats):\n",
    "        m = clone(model)\n",
    "        if n_repeats > 1:\n",
    "            m.set_params(random_state=i)\n",
    "        m.fit(X, y)\n",
    "        y_pred += m.predict(X_test)\n",
    "    y_pred /= n_repeats\n",
    "    y_pred = y_pred.clip(1, 29)\n",
    "    return y_pred"
   ]
  },
  {
   "cell_type": "markdown",
   "id": "69a3dbe4",
   "metadata": {
    "papermill": {
     "duration": 0.005374,
     "end_time": "2024-04-12T04:26:33.216443",
     "exception": false,
     "start_time": "2024-04-12T04:26:33.211069",
     "status": "completed"
    },
    "tags": []
   },
   "source": [
    "# Tuning Hyperparameters with Optuna"
   ]
  },
  {
   "cell_type": "code",
   "execution_count": 6,
   "id": "32c4fab5",
   "metadata": {
    "_kg_hide-input": true,
    "_kg_hide-output": true,
    "execution": {
     "iopub.execute_input": "2024-04-12T04:26:33.230646Z",
     "iopub.status.busy": "2024-04-12T04:26:33.230289Z",
     "iopub.status.idle": "2024-04-12T04:26:33.239509Z",
     "shell.execute_reply": "2024-04-12T04:26:33.238118Z"
    },
    "papermill": {
     "duration": 0.019971,
     "end_time": "2024-04-12T04:26:33.242072",
     "exception": false,
     "start_time": "2024-04-12T04:26:33.222101",
     "status": "completed"
    },
    "tags": []
   },
   "outputs": [],
   "source": [
    "def xgb_objective(trial):\n",
    "    params = {\n",
    "        'n_estimators': trial.suggest_int('n_estimators', 10, 1000),\n",
    "        'learning_rate': trial.suggest_float('learning_rate', 0.001, 0.5, log=True),\n",
    "        'lambda': trial.suggest_float('lambda', 1e-8, 1.0, log=True),\n",
    "        'alpha': trial.suggest_float('alpha', 1e-8, 1.0, log=True),\n",
    "        'subsample': trial.suggest_float('subsample', 0.2, 1.0),\n",
    "        'colsample_bytree': trial.suggest_float('colsample_bytree', 0.2, 1.0),\n",
    "        'random_state': SEED,\n",
    "        'n_jobs': -1,\n",
    "    }\n",
    "    params['max_depth'] = trial.suggest_int('max_depth', 3, 9, step=2)\n",
    "    params['min_child_weight'] = trial.suggest_int('min_child_weight', 2, 10)\n",
    "    params['eta'] = trial.suggest_float('eta', 1e-8, 1.0, log=True)\n",
    "    params['gamma'] = trial.suggest_float('gamma', 1e-8, 1.0, log=True)\n",
    "    params['skip_drop'] = trial.suggest_float('skip_drop', 1e-8, 1.0, log=True)\n",
    "\n",
    "    xgb_model = RMSLEOptimized(XGBClassifier)(**params)\n",
    "    xgb_scores, _ = train(xgb_model, X, y, 5, 1)\n",
    "    \n",
    "    return np.mean(xgb_scores)\n",
    "\n",
    "# xgb_study = optuna.create_study(direction='minimize', study_name='XGBoost')\n",
    "# xgb_study.optimize(xgb_objective, n_trials=1000, n_jobs=-1)\n",
    "# xgb_params = xgb_study.best_params"
   ]
  },
  {
   "cell_type": "code",
   "execution_count": 7,
   "id": "f277f43c",
   "metadata": {
    "_kg_hide-input": true,
    "_kg_hide-output": true,
    "execution": {
     "iopub.execute_input": "2024-04-12T04:26:33.255320Z",
     "iopub.status.busy": "2024-04-12T04:26:33.254948Z",
     "iopub.status.idle": "2024-04-12T04:26:33.263070Z",
     "shell.execute_reply": "2024-04-12T04:26:33.261615Z"
    },
    "papermill": {
     "duration": 0.017347,
     "end_time": "2024-04-12T04:26:33.265248",
     "exception": false,
     "start_time": "2024-04-12T04:26:33.247901",
     "status": "completed"
    },
    "tags": []
   },
   "outputs": [],
   "source": [
    "def cb_objective(trial):\n",
    "    params = {\n",
    "        'colsample_bylevel': trial.suggest_float('colsample_bylevel', 0.01, 0.1, log=True),\n",
    "        'depth': trial.suggest_int('depth', 1, 12),\n",
    "        'l2_leaf_reg': trial.suggest_float('l2_leaf_reg', 1, 6),\n",
    "        'learning_rate': trial.suggest_float('learning_rate', 0.001, 0.5, log=True),\n",
    "        'iterations': trial.suggest_int('iterations', 200, 1000),\n",
    "        'random_strength': trial.suggest_int('random_strength', 10, 100),\n",
    "        'border_count': trial.suggest_int('border_count', 150, 300), \n",
    "        'random_state': SEED, \n",
    "        'verbose': False\n",
    "    }\n",
    "    cb_model = RMSLEOptimized(CatBoostClassifier)(**params)\n",
    "    cb_scores, _ = train(cb_model, X, y, 5, 1)\n",
    "\n",
    "    return np.mean(cb_scores)\n",
    "\n",
    "\n",
    "# cb_study = optuna.create_study(direction='minimize', study_name='CatBoost')\n",
    "# cb_study.optimize(cb_objective, n_trials=1000, n_jobs=-1, catch=(ValueError, RuntimeError))\n",
    "# cb_params = cb_study.best_params"
   ]
  },
  {
   "cell_type": "code",
   "execution_count": 8,
   "id": "8ee9ef94",
   "metadata": {
    "_kg_hide-input": true,
    "_kg_hide-output": true,
    "execution": {
     "iopub.execute_input": "2024-04-12T04:26:33.278595Z",
     "iopub.status.busy": "2024-04-12T04:26:33.278136Z",
     "iopub.status.idle": "2024-04-12T04:26:33.285710Z",
     "shell.execute_reply": "2024-04-12T04:26:33.284311Z"
    },
    "papermill": {
     "duration": 0.017344,
     "end_time": "2024-04-12T04:26:33.288228",
     "exception": false,
     "start_time": "2024-04-12T04:26:33.270884",
     "status": "completed"
    },
    "tags": []
   },
   "outputs": [],
   "source": [
    "xgb_params = {\n",
    "    'n_jobs': -1,\n",
    "    'max_depth': 7,\n",
    "    'n_estimators': 671,\n",
    "    'random_state': SEED,\n",
    "    'min_child_weight': 10,\n",
    "    'eta': 1.0587175909624386e-08,\n",
    "    'alpha': 0.0037647024033841104,\n",
    "    'lambda': 1.611786509104389e-06,\n",
    "    'gamma': 1.7477246190281184e-07,\n",
    "    'subsample': 0.7729054495069687,\n",
    "    'learning_rate': 0.06668333538114861,\n",
    "    'colsample_bytree': 0.4328823966732981,\n",
    "}\n",
    "\n",
    "cb_params = {\n",
    "    'depth': 9,\n",
    "    'verbose': False,\n",
    "    'iterations': 978,\n",
    "    'random_state': SEED,\n",
    "    'l2_leaf_reg': 2.225407966369204,\n",
    "    'learning_rate': 0.42362856656186987,\n",
    "    'colsample_bylevel': 0.09086110013571472,\n",
    "}"
   ]
  },
  {
   "cell_type": "markdown",
   "id": "d14e83a0",
   "metadata": {
    "papermill": {
     "duration": 0.006832,
     "end_time": "2024-04-12T04:26:33.300928",
     "exception": false,
     "start_time": "2024-04-12T04:26:33.294096",
     "status": "completed"
    },
    "tags": []
   },
   "source": [
    "# Training Base Models"
   ]
  },
  {
   "cell_type": "code",
   "execution_count": 9,
   "id": "a8bb1110",
   "metadata": {
    "execution": {
     "iopub.execute_input": "2024-04-12T04:26:33.314720Z",
     "iopub.status.busy": "2024-04-12T04:26:33.314268Z",
     "iopub.status.idle": "2024-04-12T06:56:00.674680Z",
     "shell.execute_reply": "2024-04-12T06:56:00.673527Z"
    },
    "papermill": {
     "duration": 8967.382462,
     "end_time": "2024-04-12T06:56:00.689505",
     "exception": false,
     "start_time": "2024-04-12T04:26:33.307043",
     "status": "completed"
    },
    "tags": []
   },
   "outputs": [
    {
     "name": "stdout",
     "output_type": "stream",
     "text": [
      "XGB:  0.1485796021839296\n",
      "CB:   0.15023944800301678\n"
     ]
    }
   ],
   "source": [
    "xgb_model = RMSLEOptimized(XGBClassifier)(**xgb_params)\n",
    "xgb_scores, xgb_oof_preds = train(xgb_model, X, y)\n",
    "print(f'XGB:  {np.mean(xgb_scores)}')\n",
    "\n",
    "cb_model = RMSLEOptimized(CatBoostClassifier)(**cb_params)\n",
    "cb_scores, cb_oof_preds = train(cb_model, X, y)\n",
    "print(f'CB:   {np.mean(cb_scores)}')"
   ]
  },
  {
   "cell_type": "markdown",
   "id": "b3e59ece",
   "metadata": {
    "papermill": {
     "duration": 0.008614,
     "end_time": "2024-04-12T06:56:00.707634",
     "exception": false,
     "start_time": "2024-04-12T06:56:00.699020",
     "status": "completed"
    },
    "tags": []
   },
   "source": [
    "# Training and Tuning a VotingClassifier"
   ]
  },
  {
   "cell_type": "code",
   "execution_count": 10,
   "id": "79a8b531",
   "metadata": {
    "execution": {
     "iopub.execute_input": "2024-04-12T06:56:00.724495Z",
     "iopub.status.busy": "2024-04-12T06:56:00.723649Z",
     "iopub.status.idle": "2024-04-12T06:56:00.730642Z",
     "shell.execute_reply": "2024-04-12T06:56:00.729858Z"
    },
    "papermill": {
     "duration": 0.01723,
     "end_time": "2024-04-12T06:56:00.732909",
     "exception": false,
     "start_time": "2024-04-12T06:56:00.715679",
     "status": "completed"
    },
    "tags": []
   },
   "outputs": [],
   "source": [
    "estimators = [\n",
    "    ('XGB', xgb_model),\n",
    "    ('CB', cb_model)\n",
    "]"
   ]
  },
  {
   "cell_type": "code",
   "execution_count": 11,
   "id": "f422d5e5",
   "metadata": {
    "_kg_hide-input": true,
    "execution": {
     "iopub.execute_input": "2024-04-12T06:56:00.749243Z",
     "iopub.status.busy": "2024-04-12T06:56:00.748703Z",
     "iopub.status.idle": "2024-04-12T06:56:00.759935Z",
     "shell.execute_reply": "2024-04-12T06:56:00.757033Z"
    },
    "papermill": {
     "duration": 0.02381,
     "end_time": "2024-04-12T06:56:00.763052",
     "exception": false,
     "start_time": "2024-04-12T06:56:00.739242",
     "status": "completed"
    },
    "tags": []
   },
   "outputs": [],
   "source": [
    "def ensemble_objective(trial):\n",
    "    params = {\n",
    "        'xgb_weight': trial.suggest_float('xgb_weight', 0.0, 1.0),\n",
    "        'cb_weight': trial.suggest_float('cb_weight', 0.0, 1.0)\n",
    "    }\n",
    "\n",
    "    weights = [\n",
    "        params['xgb_weight'],\n",
    "        params['cb_weight']\n",
    "    ]\n",
    "    weights /= np.sum(weights)\n",
    "\n",
    "    voter = RMSLEOptimized(VotingClassifier)(estimators=estimators, weights=weights, n_jobs=-1, voting='soft')\n",
    "    scores, _ = train(voter, X, y, 5, 1)\n",
    "    \n",
    "    return np.mean(scores)\n",
    "\n",
    "# ensemble_study = optuna.create_study(direction='minimize', study_name='Voter')\n",
    "# ensemble_study.optimize(ensemble_objective, n_trials=2, timeout=30, n_jobs=-1)\n",
    "# best_weights = ensemble_study.best_params"
   ]
  },
  {
   "cell_type": "code",
   "execution_count": 12,
   "id": "325d9809",
   "metadata": {
    "execution": {
     "iopub.execute_input": "2024-04-12T06:56:00.780088Z",
     "iopub.status.busy": "2024-04-12T06:56:00.779616Z",
     "iopub.status.idle": "2024-04-12T06:56:00.787315Z",
     "shell.execute_reply": "2024-04-12T06:56:00.786105Z"
    },
    "papermill": {
     "duration": 0.019539,
     "end_time": "2024-04-12T06:56:00.789754",
     "exception": false,
     "start_time": "2024-04-12T06:56:00.770215",
     "status": "completed"
    },
    "tags": []
   },
   "outputs": [
    {
     "name": "stdout",
     "output_type": "stream",
     "text": [
      "\n",
      "Best Weights: [0.7687886817400803, 0.2312113182599197]\n"
     ]
    }
   ],
   "source": [
    "best_weights = {'xgb_weight': 0.8993242323514871, 'cb_weight': 0.2704695662720201}\n",
    "\n",
    "weights = [\n",
    "    best_weights['xgb_weight'],\n",
    "    best_weights['cb_weight']\n",
    "]\n",
    "\n",
    "weights /= np.sum(weights)\n",
    "print(f'\\nBest Weights: {list(weights)}')"
   ]
  },
  {
   "cell_type": "code",
   "execution_count": 13,
   "id": "77a2dafc",
   "metadata": {
    "execution": {
     "iopub.execute_input": "2024-04-12T06:56:00.803912Z",
     "iopub.status.busy": "2024-04-12T06:56:00.803407Z",
     "iopub.status.idle": "2024-04-12T07:43:24.514008Z",
     "shell.execute_reply": "2024-04-12T07:43:24.512206Z"
    },
    "papermill": {
     "duration": 2843.729044,
     "end_time": "2024-04-12T07:43:24.524980",
     "exception": false,
     "start_time": "2024-04-12T06:56:00.795936",
     "status": "completed"
    },
    "tags": []
   },
   "outputs": [
    {
     "name": "stdout",
     "output_type": "stream",
     "text": [
      "Voter: 0.14871297635216524\n"
     ]
    }
   ],
   "source": [
    "voter = RMSLEOptimized(VotingClassifier)(estimators=estimators, weights=weights, n_jobs=-1, voting='soft')\n",
    "voter_scores, oof_preds = train(voter, X, y, 10, 1)\n",
    "\n",
    "print(f'Voter: {np.mean(voter_scores)}')"
   ]
  },
  {
   "cell_type": "code",
   "execution_count": 14,
   "id": "fba83e63",
   "metadata": {
    "_kg_hide-input": true,
    "execution": {
     "iopub.execute_input": "2024-04-12T07:43:24.539770Z",
     "iopub.status.busy": "2024-04-12T07:43:24.539379Z",
     "iopub.status.idle": "2024-04-12T07:43:25.085251Z",
     "shell.execute_reply": "2024-04-12T07:43:25.083288Z"
    },
    "papermill": {
     "duration": 0.557456,
     "end_time": "2024-04-12T07:43:25.088586",
     "exception": false,
     "start_time": "2024-04-12T07:43:24.531130",
     "status": "completed"
    },
    "tags": []
   },
   "outputs": [
    {
     "data": {
      "image/png": "[encoded data removed]",
      "text/plain": [
       "<Figure size 1000x400 with 2 Axes>"
      ]
     },
     "metadata": {},
     "output_type": "display_data"
    }
   ],
   "source": [
    "scores = pd.DataFrame({\n",
    "    'XGBoost': xgb_scores,\n",
    "    'CatBoost': cb_scores,\n",
    "    'Ensemble': voter_scores\n",
    "})\n",
    "scores = scores[scores.mean().sort_values().index]\n",
    "\n",
    "fig, axes = plt.subplots(1, 2, figsize=(10, 4))\n",
    "sns.boxplot(data=scores, ax=axes[0], palette='viridis')\n",
    "axes[0].set_title('Fold Scores')\n",
    "axes[0].set_xlabel('')\n",
    "axes[0].set_ylabel('')\n",
    "mean_scores = scores.mean().sort_values()\n",
    "sns.barplot(x=mean_scores, y=mean_scores.index, orient='h', ax=axes[1], palette='viridis')\n",
    "axes[1].set_title('Mean Scores')\n",
    "axes[1].set_xlabel('')\n",
    "axes[1].set_ylabel('')\n",
    "axes[1].set_xlim(0.148,0.152)\n",
    "plt.tight_layout()\n",
    "plt.show()"
   ]
  },
  {
   "cell_type": "markdown",
   "id": "269c31d9",
   "metadata": {
    "papermill": {
     "duration": 0.007335,
     "end_time": "2024-04-12T07:43:25.103388",
     "exception": false,
     "start_time": "2024-04-12T07:43:25.096053",
     "status": "completed"
    },
    "tags": []
   },
   "source": [
    "# Blending Results"
   ]
  },
  {
   "cell_type": "code",
   "execution_count": 15,
   "id": "ddd924b9",
   "metadata": {
    "execution": {
     "iopub.execute_input": "2024-04-12T07:43:25.121180Z",
     "iopub.status.busy": "2024-04-12T07:43:25.119626Z",
     "iopub.status.idle": "2024-04-12T07:49:15.651731Z",
     "shell.execute_reply": "2024-04-12T07:49:15.650109Z"
    },
    "papermill": {
     "duration": 350.550834,
     "end_time": "2024-04-12T07:49:15.661748",
     "exception": false,
     "start_time": "2024-04-12T07:43:25.110914",
     "status": "completed"
    },
    "tags": []
   },
   "outputs": [
    {
     "data": {
      "text/html": [
       "<div>\n",
       "<style scoped>\n",
       "    .dataframe tbody tr th:only-of-type {\n",
       "        vertical-align: middle;\n",
       "    }\n",
       "\n",
       "    .dataframe tbody tr th {\n",
       "        vertical-align: top;\n",
       "    }\n",
       "\n",
       "    .dataframe thead th {\n",
       "        text-align: right;\n",
       "    }\n",
       "</style>\n",
       "<table border=\"1\" class=\"dataframe\">\n",
       "  <thead>\n",
       "    <tr style=\"text-align: right;\">\n",
       "      <th></th>\n",
       "      <th>id</th>\n",
       "      <th>Rings</th>\n",
       "    </tr>\n",
       "  </thead>\n",
       "  <tbody>\n",
       "    <tr>\n",
       "      <th>0</th>\n",
       "      <td>90615</td>\n",
       "      <td>9.823694</td>\n",
       "    </tr>\n",
       "    <tr>\n",
       "      <th>1</th>\n",
       "      <td>90616</td>\n",
       "      <td>9.819738</td>\n",
       "    </tr>\n",
       "    <tr>\n",
       "      <th>2</th>\n",
       "      <td>90617</td>\n",
       "      <td>9.936741</td>\n",
       "    </tr>\n",
       "    <tr>\n",
       "      <th>3</th>\n",
       "      <td>90618</td>\n",
       "      <td>10.375321</td>\n",
       "    </tr>\n",
       "    <tr>\n",
       "      <th>4</th>\n",
       "      <td>90619</td>\n",
       "      <td>7.632145</td>\n",
       "    </tr>\n",
       "  </tbody>\n",
       "</table>\n",
       "</div>"
      ],
      "text/plain": [
       "      id      Rings\n",
       "0  90615   9.823694\n",
       "1  90616   9.819738\n",
       "2  90617   9.936741\n",
       "3  90618  10.375321\n",
       "4  90619   7.632145"
      ]
     },
     "execution_count": 15,
     "metadata": {},
     "output_type": "execute_result"
    }
   ],
   "source": [
    "y_preds = predict(voter, X, y, test, 1)\n",
    "voter_sub = pd.DataFrame({'id': test.index, 'Rings': y_preds})\n",
    "voter_sub.to_csv('xgb_cb_ensemble.csv', index=False)\n",
    "voter_sub.head()"
   ]
  },
  {
   "cell_type": "code",
   "execution_count": 16,
   "id": "c30ef966",
   "metadata": {
    "execution": {
     "iopub.execute_input": "2024-04-12T07:49:15.679016Z",
     "iopub.status.busy": "2024-04-12T07:49:15.678353Z",
     "iopub.status.idle": "2024-04-12T07:49:15.901149Z",
     "shell.execute_reply": "2024-04-12T07:49:15.899924Z"
    },
    "papermill": {
     "duration": 0.235238,
     "end_time": "2024-04-12T07:49:15.904038",
     "exception": false,
     "start_time": "2024-04-12T07:49:15.668800",
     "status": "completed"
    },
    "tags": []
   },
   "outputs": [
    {
     "data": {
      "text/html": [
       "<div>\n",
       "<style scoped>\n",
       "    .dataframe tbody tr th:only-of-type {\n",
       "        vertical-align: middle;\n",
       "    }\n",
       "\n",
       "    .dataframe tbody tr th {\n",
       "        vertical-align: top;\n",
       "    }\n",
       "\n",
       "    .dataframe thead th {\n",
       "        text-align: right;\n",
       "    }\n",
       "</style>\n",
       "<table border=\"1\" class=\"dataframe\">\n",
       "  <thead>\n",
       "    <tr style=\"text-align: right;\">\n",
       "      <th></th>\n",
       "      <th>id</th>\n",
       "      <th>Rings</th>\n",
       "    </tr>\n",
       "  </thead>\n",
       "  <tbody>\n",
       "    <tr>\n",
       "      <th>0</th>\n",
       "      <td>90615</td>\n",
       "      <td>9.733888</td>\n",
       "    </tr>\n",
       "    <tr>\n",
       "      <th>1</th>\n",
       "      <td>90616</td>\n",
       "      <td>9.699276</td>\n",
       "    </tr>\n",
       "    <tr>\n",
       "      <th>2</th>\n",
       "      <td>90617</td>\n",
       "      <td>9.701173</td>\n",
       "    </tr>\n",
       "    <tr>\n",
       "      <th>3</th>\n",
       "      <td>90618</td>\n",
       "      <td>10.546508</td>\n",
       "    </tr>\n",
       "    <tr>\n",
       "      <th>4</th>\n",
       "      <td>90619</td>\n",
       "      <td>7.600793</td>\n",
       "    </tr>\n",
       "  </tbody>\n",
       "</table>\n",
       "</div>"
      ],
      "text/plain": [
       "      id      Rings\n",
       "0  90615   9.733888\n",
       "1  90616   9.699276\n",
       "2  90617   9.701173\n",
       "3  90618  10.546508\n",
       "4  90619   7.600793"
      ]
     },
     "execution_count": 16,
     "metadata": {},
     "output_type": "execute_result"
    }
   ],
   "source": [
    "public_lb_best_sub = pd.read_csv(f\"/kaggle/input/ps4e4-prediction-generalization-regression/submission.csv\")[\"Rings\"].values\n",
    "ensemble_sub = voter_sub[\"Rings\"].values\n",
    "\n",
    "submission = voter_sub.copy()\n",
    "submission[\"Rings\"] = np.average(np.c_[public_lb_best_sub, ensemble_sub], axis=1, weights=[0.9, 0.1])\n",
    "submission[\"Rings\"] = submission[\"Rings\"].clip(1, 29)\n",
    "submission[\"Rings\"] = np.where(submission[\"Rings\"].between(27.5, 29), 29, submission[\"Rings\"])\n",
    "submission.to_csv(\"xgb_cb_ensemble-public_lb_best.csv\", index=None)\n",
    "submission.head()"
   ]
  },
  {
   "cell_type": "code",
   "execution_count": null,
   "id": "39a6f6e3",
   "metadata": {
    "papermill": {
     "duration": 0.007162,
     "end_time": "2024-04-12T07:49:15.918917",
     "exception": false,
     "start_time": "2024-04-12T07:49:15.911755",
     "status": "completed"
    },
    "tags": []
   },
   "outputs": [],
   "source": []
  }
 ],
 "metadata": {
  "kaggle": {
   "accelerator": "none",
   "dataSources": [
    {
     "databundleVersionId": 8096274,
     "sourceId": 72489,
     "sourceType": "competition"
    },
    {
     "sourceId": 171459732,
     "sourceType": "kernelVersion"
    }
   ],
   "dockerImageVersionId": 30684,
   "isGpuEnabled": false,
   "isInternetEnabled": true,
   "language": "python",
   "sourceType": "notebook"
  },
  "kernelspec": {
   "display_name": "Python 3",
   "language": "python",
   "name": "python3"
  },
  "language_info": {
   "codemirror_mode": {
    "name": "ipython",
    "version": 3
   },
   "file_extension": ".py",
   "mimetype": "text/x-python",
   "name": "python",
   "nbconvert_exporter": "python",
   "pygments_lexer": "ipython3",
   "version": "3.10.13"
  },
  "papermill": {
   "default_parameters": {},
   "duration": 12172.777711,
   "end_time": "2024-04-12T07:49:18.578969",
   "environment_variables": {},
   "exception": null,
   "input_path": "__notebook__.ipynb",
   "output_path": "__notebook__.ipynb",
   "parameters": {},
   "start_time": "2024-04-12T04:26:25.801258",
   "version": "2.5.0"
  }
 },
 "nbformat": 4,
 "nbformat_minor": 5
}
