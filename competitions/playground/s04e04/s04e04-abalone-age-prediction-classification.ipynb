{
 "cells": [
  {
   "cell_type": "markdown",
   "id": "f90e8957",
   "metadata": {
    "papermill": {
     "duration": 0.007857,
     "end_time": "2024-04-11T21:21:00.932261",
     "exception": false,
     "start_time": "2024-04-11T21:21:00.924404",
     "status": "completed"
    },
    "tags": []
   },
   "source": [
    "# Classification Approach\n",
    "\n",
    "- This notebook is inspired by [this thread](https://www.kaggle.com/competitions/playground-series-s4e4/discussion/491339). The goal is to evaluate the performance of classifiers and classifier ensembles for this competition.\n",
    "- I've also tried to blend the results of this notebook with that of the [current top-ranking publicly available notebook](https://www.kaggle.com/code/arunklenin/ps4e4-prediction-generalization-regression) to see whether a classifier ensemble boosts its score.\n"
   ]
  },
  {
   "cell_type": "code",
   "execution_count": 1,
   "id": "0c79799f",
   "metadata": {
    "_cell_guid": "b1076dfc-b9ad-4769-8c92-a6c4dae69d19",
    "_uuid": "8f2839f25d086af736a60e9eeb907d3b93b6e0e5",
    "execution": {
     "iopub.execute_input": "2024-04-11T21:21:00.948950Z",
     "iopub.status.busy": "2024-04-11T21:21:00.948576Z",
     "iopub.status.idle": "2024-04-11T21:21:04.748575Z",
     "shell.execute_reply": "2024-04-11T21:21:04.747153Z"
    },
    "papermill": {
     "duration": 3.812517,
     "end_time": "2024-04-11T21:21:04.752218",
     "exception": false,
     "start_time": "2024-04-11T21:21:00.939701",
     "status": "completed"
    },
    "tags": []
   },
   "outputs": [],
   "source": [
    "import pandas as pd\n",
    "import numpy as np\n",
    "import optuna\n",
    "import warnings\n",
    "import matplotlib.pyplot as plt\n",
    "import seaborn as sns\n",
    "from sklearn.model_selection import StratifiedKFold\n",
    "from sklearn.metrics import mean_squared_log_error\n",
    "from sklearn.base import clone\n",
    "from sklearn.preprocessing import LabelEncoder\n",
    "from sklearn.ensemble import VotingClassifier\n",
    "from xgboost import XGBClassifier\n",
    "from catboost import CatBoostClassifier\n",
    "\n",
    "warnings.filterwarnings('ignore')"
   ]
  },
  {
   "cell_type": "code",
   "execution_count": 2,
   "id": "41c1f1d7",
   "metadata": {
    "execution": {
     "iopub.execute_input": "2024-04-11T21:21:04.771968Z",
     "iopub.status.busy": "2024-04-11T21:21:04.771047Z",
     "iopub.status.idle": "2024-04-11T21:21:04.775716Z",
     "shell.execute_reply": "2024-04-11T21:21:04.774773Z"
    },
    "papermill": {
     "duration": 0.01739,
     "end_time": "2024-04-11T21:21:04.778168",
     "exception": false,
     "start_time": "2024-04-11T21:21:04.760778",
     "status": "completed"
    },
    "tags": []
   },
   "outputs": [],
   "source": [
    "SEED = 27\n",
    "N_SPLITS = 10\n",
    "N_REPEATS = 5"
   ]
  },
  {
   "cell_type": "markdown",
   "id": "f8eccedc",
   "metadata": {
    "papermill": {
     "duration": 0.008363,
     "end_time": "2024-04-11T21:21:04.794783",
     "exception": false,
     "start_time": "2024-04-11T21:21:04.786420",
     "status": "completed"
    },
    "tags": []
   },
   "source": [
    "# Loading and Processing Data"
   ]
  },
  {
   "cell_type": "code",
   "execution_count": 3,
   "id": "6818c36b",
   "metadata": {
    "execution": {
     "iopub.execute_input": "2024-04-11T21:21:04.814011Z",
     "iopub.status.busy": "2024-04-11T21:21:04.812716Z",
     "iopub.status.idle": "2024-04-11T21:21:05.201431Z",
     "shell.execute_reply": "2024-04-11T21:21:05.200167Z"
    },
    "papermill": {
     "duration": 0.401848,
     "end_time": "2024-04-11T21:21:05.204852",
     "exception": false,
     "start_time": "2024-04-11T21:21:04.803004",
     "status": "completed"
    },
    "tags": []
   },
   "outputs": [],
   "source": [
    "train = pd.read_csv('/kaggle/input/playground-series-s4e4/train.csv', index_col='id')\n",
    "test = pd.read_csv('/kaggle/input/playground-series-s4e4/test.csv', index_col='id')\n",
    "\n",
    "train['Sex'] = train['Sex'].map({'M': 0, 'F': 1, 'I': 2})\n",
    "test['Sex'] = test['Sex'].map({'M': 0, 'F': 1, 'I': 2})\n",
    "\n",
    "X = train.drop(columns='Rings')\n",
    "y = train['Rings']"
   ]
  },
  {
   "cell_type": "markdown",
   "id": "5537767e",
   "metadata": {
    "papermill": {
     "duration": 0.007705,
     "end_time": "2024-04-11T21:21:05.220747",
     "exception": false,
     "start_time": "2024-04-11T21:21:05.213042",
     "status": "completed"
    },
    "tags": []
   },
   "source": [
    "# Defining CV and Training Function\n",
    "The function, `RMSLEOptimized`, is taken directly from [this topic](https://www.kaggle.com/competitions/playground-series-s4e4/discussion/491339) without any change. All credit goes therefore to the original author of the topic."
   ]
  },
  {
   "cell_type": "code",
   "execution_count": 4,
   "id": "136b3958",
   "metadata": {
    "execution": {
     "iopub.execute_input": "2024-04-11T21:21:05.239145Z",
     "iopub.status.busy": "2024-04-11T21:21:05.238728Z",
     "iopub.status.idle": "2024-04-11T21:21:05.246896Z",
     "shell.execute_reply": "2024-04-11T21:21:05.245491Z"
    },
    "papermill": {
     "duration": 0.020409,
     "end_time": "2024-04-11T21:21:05.249568",
     "exception": false,
     "start_time": "2024-04-11T21:21:05.229159",
     "status": "completed"
    },
    "tags": []
   },
   "outputs": [],
   "source": [
    "def RMSLEOptimized(base_classifier_class):\n",
    "    class RMSLEOptimizedClassifier(base_classifier_class):\n",
    "        def fit(self, X, y):\n",
    "            enc = LabelEncoder().fit(y)\n",
    "            self.c_ = np.log1p(enc.classes_)\n",
    "            super().fit(X, enc.transform(y))\n",
    "            return self\n",
    "\n",
    "        def predict(self, X):\n",
    "            return np.expm1(np.sum(super().predict_proba(X)*self.c_, axis=1))\n",
    "    return RMSLEOptimizedClassifier"
   ]
  },
  {
   "cell_type": "code",
   "execution_count": 5,
   "id": "9584a50e",
   "metadata": {
    "execution": {
     "iopub.execute_input": "2024-04-11T21:21:05.268661Z",
     "iopub.status.busy": "2024-04-11T21:21:05.268224Z",
     "iopub.status.idle": "2024-04-11T21:21:05.280777Z",
     "shell.execute_reply": "2024-04-11T21:21:05.279824Z"
    },
    "papermill": {
     "duration": 0.025279,
     "end_time": "2024-04-11T21:21:05.283616",
     "exception": false,
     "start_time": "2024-04-11T21:21:05.258337",
     "status": "completed"
    },
    "tags": []
   },
   "outputs": [],
   "source": [
    "def train(model, X, y, n_splits=N_SPLITS, n_repeats=N_REPEATS):\n",
    "    skf = StratifiedKFold(n_splits=n_splits, shuffle=True, random_state=SEED)\n",
    "\n",
    "    oof_preds = np.zeros(len(X), dtype=float)\n",
    "    scores = []\n",
    "    for train_idx, val_idx in skf.split(X, y):\n",
    "        X_train, X_val = X.iloc[train_idx], X.iloc[val_idx]\n",
    "        y_train, y_val = y.iloc[train_idx], y.iloc[val_idx]\n",
    "\n",
    "        y_pred = np.zeros_like(y_val, dtype=float)\n",
    "        for i in range(n_repeats):\n",
    "            m = clone(model)\n",
    "            if n_repeats > 1:\n",
    "                m.set_params(random_state=i)\n",
    "            m.fit(X_train, y_train)\n",
    "            y_pred += m.predict(X_val)\n",
    "\n",
    "        y_pred /= n_repeats\n",
    "        y_pred = y_pred.clip(1, 29)\n",
    "\n",
    "        score = np.sqrt(mean_squared_log_error(y_val, y_pred))\n",
    "        scores.append(score)\n",
    "        oof_preds[val_idx] = y_pred\n",
    "\n",
    "    return scores, oof_preds\n",
    "\n",
    "\n",
    "def predict(model, X, y, X_test, n_repeats=N_REPEATS):\n",
    "    y_pred = np.zeros(len(X_test), dtype=float)\n",
    "    for i in range(n_repeats):\n",
    "        m = clone(model)\n",
    "        if n_repeats > 1:\n",
    "            m.set_params(random_state=i)\n",
    "        m.fit(X, y)\n",
    "        y_pred += m.predict(X_test)\n",
    "    y_pred /= n_repeats\n",
    "    y_pred = y_pred.clip(1, 29)\n",
    "    return y_pred"
   ]
  },
  {
   "cell_type": "markdown",
   "id": "b450bb68",
   "metadata": {
    "papermill": {
     "duration": 0.007345,
     "end_time": "2024-04-11T21:21:05.298471",
     "exception": false,
     "start_time": "2024-04-11T21:21:05.291126",
     "status": "completed"
    },
    "tags": []
   },
   "source": [
    "# Tuning Hyperparameters with Optuna"
   ]
  },
  {
   "cell_type": "code",
   "execution_count": 6,
   "id": "c7b4ebea",
   "metadata": {
    "_kg_hide-input": true,
    "_kg_hide-output": true,
    "execution": {
     "iopub.execute_input": "2024-04-11T21:21:05.316965Z",
     "iopub.status.busy": "2024-04-11T21:21:05.315780Z",
     "iopub.status.idle": "2024-04-11T21:21:05.326987Z",
     "shell.execute_reply": "2024-04-11T21:21:05.325943Z"
    },
    "papermill": {
     "duration": 0.024134,
     "end_time": "2024-04-11T21:21:05.329859",
     "exception": false,
     "start_time": "2024-04-11T21:21:05.305725",
     "status": "completed"
    },
    "tags": []
   },
   "outputs": [],
   "source": [
    "def xgb_objective(trial):\n",
    "    params = {\n",
    "        'n_estimators': trial.suggest_int('n_estimators', 10, 1000),\n",
    "        'learning_rate': trial.suggest_float('learning_rate', 0.001, 0.5, log=True),\n",
    "        'lambda': trial.suggest_float('lambda', 1e-8, 1.0, log=True),\n",
    "        'alpha': trial.suggest_float('alpha', 1e-8, 1.0, log=True),\n",
    "        'subsample': trial.suggest_float('subsample', 0.2, 1.0),\n",
    "        'colsample_bytree': trial.suggest_float('colsample_bytree', 0.2, 1.0),\n",
    "        'random_state': SEED,\n",
    "        'n_jobs': -1,\n",
    "    }\n",
    "    params['max_depth'] = trial.suggest_int('max_depth', 3, 9, step=2)\n",
    "    params['min_child_weight'] = trial.suggest_int('min_child_weight', 2, 10)\n",
    "    params['eta'] = trial.suggest_float('eta', 1e-8, 1.0, log=True)\n",
    "    params['gamma'] = trial.suggest_float('gamma', 1e-8, 1.0, log=True)\n",
    "    params['skip_drop'] = trial.suggest_float('skip_drop', 1e-8, 1.0, log=True)\n",
    "\n",
    "    xgb_model = RMSLEOptimized(XGBClassifier)(**params)\n",
    "    xgb_scores, _ = train(xgb_model, X, y, 5, 1)\n",
    "    \n",
    "    return np.mean(xgb_scores)\n",
    "\n",
    "# xgb_study = optuna.create_study(direction='minimize', study_name='XGBoost')\n",
    "# xgb_study.optimize(xgb_objective, n_trials=1000, n_jobs=-1)\n",
    "# xgb_params = xgb_study.best_params"
   ]
  },
  {
   "cell_type": "code",
   "execution_count": 7,
   "id": "f318b199",
   "metadata": {
    "_kg_hide-input": true,
    "_kg_hide-output": true,
    "execution": {
     "iopub.execute_input": "2024-04-11T21:21:05.347183Z",
     "iopub.status.busy": "2024-04-11T21:21:05.346419Z",
     "iopub.status.idle": "2024-04-11T21:21:05.356031Z",
     "shell.execute_reply": "2024-04-11T21:21:05.354500Z"
    },
    "papermill": {
     "duration": 0.021817,
     "end_time": "2024-04-11T21:21:05.358946",
     "exception": false,
     "start_time": "2024-04-11T21:21:05.337129",
     "status": "completed"
    },
    "tags": []
   },
   "outputs": [],
   "source": [
    "def cb_objective(trial):\n",
    "    params = {\n",
    "        'colsample_bylevel': trial.suggest_float('colsample_bylevel', 0.01, 0.1, log=True),\n",
    "        'depth': trial.suggest_int('depth', 1, 12),\n",
    "        'l2_leaf_reg': trial.suggest_float('l2_leaf_reg', 1, 6),\n",
    "        'learning_rate': trial.suggest_float('learning_rate', 0.001, 0.5, log=True),\n",
    "        'iterations': trial.suggest_int('iterations', 200, 1000),\n",
    "        'random_strength': trial.suggest_int('random_strength', 10, 100),\n",
    "        'border_count': trial.suggest_int('border_count', 150, 300), \n",
    "        'random_state': SEED, \n",
    "        'verbose': False\n",
    "    }\n",
    "    cb_model = RMSLEOptimized(CatBoostClassifier)(**params)\n",
    "    cb_scores, _ = train(cb_model, X, y, 5, 1)\n",
    "\n",
    "    return np.mean(cb_scores)\n",
    "\n",
    "\n",
    "# cb_study = optuna.create_study(direction='minimize', study_name='CatBoost')\n",
    "# cb_study.optimize(cb_objective, n_trials=1000, n_jobs=-1, catch=(ValueError, RuntimeError))\n",
    "# cb_params = cb_study.best_params"
   ]
  },
  {
   "cell_type": "code",
   "execution_count": 8,
   "id": "a9503e8d",
   "metadata": {
    "_kg_hide-input": true,
    "_kg_hide-output": true,
    "execution": {
     "iopub.execute_input": "2024-04-11T21:21:05.376077Z",
     "iopub.status.busy": "2024-04-11T21:21:05.375603Z",
     "iopub.status.idle": "2024-04-11T21:21:05.382631Z",
     "shell.execute_reply": "2024-04-11T21:21:05.381583Z"
    },
    "papermill": {
     "duration": 0.018364,
     "end_time": "2024-04-11T21:21:05.384836",
     "exception": false,
     "start_time": "2024-04-11T21:21:05.366472",
     "status": "completed"
    },
    "tags": []
   },
   "outputs": [],
   "source": [
    "xgb_params = {\n",
    "    'n_jobs': -1,\n",
    "    'max_depth': 7,\n",
    "    'n_estimators': 671,\n",
    "    'random_state': SEED,\n",
    "    'min_child_weight': 10,\n",
    "    'eta': 1.0587175909624386e-08,\n",
    "    'alpha': 0.0037647024033841104,\n",
    "    'lambda': 1.611786509104389e-06,\n",
    "    'gamma': 1.7477246190281184e-07,\n",
    "    'subsample': 0.7729054495069687,\n",
    "    'learning_rate': 0.06668333538114861,\n",
    "    'colsample_bytree': 0.4328823966732981,\n",
    "}\n",
    "\n",
    "cb_params = {\n",
    "    'depth': 9,\n",
    "    'verbose': False,\n",
    "    'iterations': 978,\n",
    "    'random_state': SEED,\n",
    "    'l2_leaf_reg': 2.225407966369204,\n",
    "    'learning_rate': 0.42362856656186987,\n",
    "    'colsample_bylevel': 0.09086110013571472,\n",
    "}"
   ]
  },
  {
   "cell_type": "markdown",
   "id": "71c864e7",
   "metadata": {
    "papermill": {
     "duration": 0.006904,
     "end_time": "2024-04-11T21:21:05.400027",
     "exception": false,
     "start_time": "2024-04-11T21:21:05.393123",
     "status": "completed"
    },
    "tags": []
   },
   "source": [
    "# Training Base Models"
   ]
  },
  {
   "cell_type": "code",
   "execution_count": 9,
   "id": "a14059ae",
   "metadata": {
    "execution": {
     "iopub.execute_input": "2024-04-11T21:21:05.417606Z",
     "iopub.status.busy": "2024-04-11T21:21:05.417071Z",
     "iopub.status.idle": "2024-04-12T00:05:36.818100Z",
     "shell.execute_reply": "2024-04-12T00:05:36.816914Z"
    },
    "papermill": {
     "duration": 9871.420366,
     "end_time": "2024-04-12T00:05:36.828009",
     "exception": false,
     "start_time": "2024-04-11T21:21:05.407643",
     "status": "completed"
    },
    "tags": []
   },
   "outputs": [
    {
     "name": "stdout",
     "output_type": "stream",
     "text": [
      "XGB:  0.1485796021839296\n",
      "CB:   0.15023944800301678\n"
     ]
    }
   ],
   "source": [
    "xgb_model = RMSLEOptimized(XGBClassifier)(**xgb_params)\n",
    "xgb_scores, xgb_oof_preds = train(xgb_model, X, y)\n",
    "print(f'XGB:  {np.mean(xgb_scores)}')\n",
    "\n",
    "cb_model = RMSLEOptimized(CatBoostClassifier)(**cb_params)\n",
    "cb_scores, cb_oof_preds = train(cb_model, X, y)\n",
    "print(f'CB:   {np.mean(cb_scores)}')"
   ]
  },
  {
   "cell_type": "markdown",
   "id": "fc9490bb",
   "metadata": {
    "papermill": {
     "duration": 0.007189,
     "end_time": "2024-04-12T00:05:36.843995",
     "exception": false,
     "start_time": "2024-04-12T00:05:36.836806",
     "status": "completed"
    },
    "tags": []
   },
   "source": [
    "# Training and Tuning a VotingClassifier"
   ]
  },
  {
   "cell_type": "code",
   "execution_count": 10,
   "id": "68ae4e63",
   "metadata": {
    "execution": {
     "iopub.execute_input": "2024-04-12T00:05:36.860773Z",
     "iopub.status.busy": "2024-04-12T00:05:36.860346Z",
     "iopub.status.idle": "2024-04-12T00:05:36.865475Z",
     "shell.execute_reply": "2024-04-12T00:05:36.864270Z"
    },
    "papermill": {
     "duration": 0.01651,
     "end_time": "2024-04-12T00:05:36.867777",
     "exception": false,
     "start_time": "2024-04-12T00:05:36.851267",
     "status": "completed"
    },
    "tags": []
   },
   "outputs": [],
   "source": [
    "estimators = [\n",
    "    ('XGB', xgb_model),\n",
    "    ('CB', cb_model)\n",
    "]"
   ]
  },
  {
   "cell_type": "code",
   "execution_count": 11,
   "id": "19bc289f",
   "metadata": {
    "_kg_hide-input": true,
    "execution": {
     "iopub.execute_input": "2024-04-12T00:05:36.884464Z",
     "iopub.status.busy": "2024-04-12T00:05:36.884090Z",
     "iopub.status.idle": "2024-04-12T00:05:36.891557Z",
     "shell.execute_reply": "2024-04-12T00:05:36.890588Z"
    },
    "papermill": {
     "duration": 0.018299,
     "end_time": "2024-04-12T00:05:36.893653",
     "exception": false,
     "start_time": "2024-04-12T00:05:36.875354",
     "status": "completed"
    },
    "tags": []
   },
   "outputs": [],
   "source": [
    "def ensemble_objective(trial):\n",
    "    params = {\n",
    "        'xgb_weight': trial.suggest_float('xgb_weight', 0.0, 1.0),\n",
    "        'cb_weight': trial.suggest_float('cb_weight', 0.0, 1.0)\n",
    "    }\n",
    "\n",
    "    weights = [\n",
    "        params['xgb_weight'],\n",
    "        params['cb_weight']\n",
    "    ]\n",
    "    weights /= np.sum(weights)\n",
    "\n",
    "    voter = RMSLEOptimized(VotingClassifier)(estimators=estimators, weights=weights, n_jobs=-1, voting='soft')\n",
    "    scores, _ = train(voter, X, y, 5, 1)\n",
    "    \n",
    "    return np.mean(scores)\n",
    "\n",
    "# ensemble_study = optuna.create_study(direction='minimize', study_name='Voter')\n",
    "# ensemble_study.optimize(ensemble_objective, n_trials=2, timeout=30, n_jobs=-1)\n",
    "# best_weights = ensemble_study.best_params"
   ]
  },
  {
   "cell_type": "code",
   "execution_count": 12,
   "id": "d8829708",
   "metadata": {
    "execution": {
     "iopub.execute_input": "2024-04-12T00:05:36.910490Z",
     "iopub.status.busy": "2024-04-12T00:05:36.909866Z",
     "iopub.status.idle": "2024-04-12T00:05:36.916863Z",
     "shell.execute_reply": "2024-04-12T00:05:36.915643Z"
    },
    "papermill": {
     "duration": 0.017896,
     "end_time": "2024-04-12T00:05:36.919135",
     "exception": false,
     "start_time": "2024-04-12T00:05:36.901239",
     "status": "completed"
    },
    "tags": []
   },
   "outputs": [
    {
     "name": "stdout",
     "output_type": "stream",
     "text": [
      "\n",
      "Best Weights: [0.7687886817400803, 0.2312113182599197]\n"
     ]
    }
   ],
   "source": [
    "best_weights = {'xgb_weight': 0.8993242323514871, 'cb_weight': 0.2704695662720201}\n",
    "\n",
    "weights = [\n",
    "    best_weights['xgb_weight'],\n",
    "    best_weights['cb_weight']\n",
    "]\n",
    "\n",
    "weights /= np.sum(weights)\n",
    "print(f'\\nBest Weights: {list(weights)}')"
   ]
  },
  {
   "cell_type": "code",
   "execution_count": 13,
   "id": "ea052d62",
   "metadata": {
    "execution": {
     "iopub.execute_input": "2024-04-12T00:05:36.936026Z",
     "iopub.status.busy": "2024-04-12T00:05:36.935618Z",
     "iopub.status.idle": "2024-04-12T00:55:29.847189Z",
     "shell.execute_reply": "2024-04-12T00:55:29.845433Z"
    },
    "papermill": {
     "duration": 2992.93136,
     "end_time": "2024-04-12T00:55:29.858089",
     "exception": false,
     "start_time": "2024-04-12T00:05:36.926729",
     "status": "completed"
    },
    "tags": []
   },
   "outputs": [
    {
     "name": "stdout",
     "output_type": "stream",
     "text": [
      "Voter: 0.14871297635216524\n"
     ]
    }
   ],
   "source": [
    "voter = RMSLEOptimized(VotingClassifier)(estimators=estimators, weights=weights, n_jobs=-1, voting='soft')\n",
    "voter_scores, oof_preds = train(voter, X, y, 10, 1)\n",
    "\n",
    "print(f'Voter: {np.mean(voter_scores)}')"
   ]
  },
  {
   "cell_type": "code",
   "execution_count": 14,
   "id": "52bb51cd",
   "metadata": {
    "_kg_hide-input": true,
    "execution": {
     "iopub.execute_input": "2024-04-12T00:55:29.876779Z",
     "iopub.status.busy": "2024-04-12T00:55:29.876344Z",
     "iopub.status.idle": "2024-04-12T00:55:30.472109Z",
     "shell.execute_reply": "2024-04-12T00:55:30.470756Z"
    },
    "papermill": {
     "duration": 0.608474,
     "end_time": "2024-04-12T00:55:30.474435",
     "exception": false,
     "start_time": "2024-04-12T00:55:29.865961",
     "status": "completed"
    },
    "tags": []
   },
   "outputs": [
    {
     "data": {
      "image/png": "[encoded data removed]",
      "text/plain": [
       "<Figure size 1000x400 with 2 Axes>"
      ]
     },
     "metadata": {},
     "output_type": "display_data"
    }
   ],
   "source": [
    "scores = pd.DataFrame({\n",
    "    'XGBoost': xgb_scores,\n",
    "    'CatBoost': cb_scores,\n",
    "    'Ensemble': voter_scores\n",
    "})\n",
    "scores = scores[scores.mean().sort_values().index]\n",
    "\n",
    "fig, axes = plt.subplots(1, 2, figsize=(10, 4))\n",
    "sns.boxplot(data=scores, ax=axes[0], palette='viridis')\n",
    "axes[0].set_title('Fold Scores')\n",
    "axes[0].set_xlabel('')\n",
    "axes[0].set_ylabel('')\n",
    "mean_scores = scores.mean().sort_values()\n",
    "sns.barplot(x=mean_scores, y=mean_scores.index, orient='h', ax=axes[1], palette='viridis')\n",
    "axes[1].set_title('Mean Scores')\n",
    "axes[1].set_xlabel('')\n",
    "axes[1].set_ylabel('')\n",
    "axes[1].set_xlim()\n",
    "plt.tight_layout()\n",
    "plt.show()"
   ]
  },
  {
   "cell_type": "markdown",
   "id": "2db2b018",
   "metadata": {
    "papermill": {
     "duration": 0.008252,
     "end_time": "2024-04-12T00:55:30.492408",
     "exception": false,
     "start_time": "2024-04-12T00:55:30.484156",
     "status": "completed"
    },
    "tags": []
   },
   "source": [
    "# Blending Results"
   ]
  },
  {
   "cell_type": "code",
   "execution_count": 15,
   "id": "5a307b65",
   "metadata": {
    "execution": {
     "iopub.execute_input": "2024-04-12T00:55:30.511413Z",
     "iopub.status.busy": "2024-04-12T00:55:30.510995Z",
     "iopub.status.idle": "2024-04-12T01:00:57.821669Z",
     "shell.execute_reply": "2024-04-12T01:00:57.820483Z"
    },
    "papermill": {
     "duration": 327.331175,
     "end_time": "2024-04-12T01:00:57.832052",
     "exception": false,
     "start_time": "2024-04-12T00:55:30.500877",
     "status": "completed"
    },
    "tags": []
   },
   "outputs": [
    {
     "data": {
      "text/html": [
       "<div>\n",
       "<style scoped>\n",
       "    .dataframe tbody tr th:only-of-type {\n",
       "        vertical-align: middle;\n",
       "    }\n",
       "\n",
       "    .dataframe tbody tr th {\n",
       "        vertical-align: top;\n",
       "    }\n",
       "\n",
       "    .dataframe thead th {\n",
       "        text-align: right;\n",
       "    }\n",
       "</style>\n",
       "<table border=\"1\" class=\"dataframe\">\n",
       "  <thead>\n",
       "    <tr style=\"text-align: right;\">\n",
       "      <th></th>\n",
       "      <th>id</th>\n",
       "      <th>Rings</th>\n",
       "    </tr>\n",
       "  </thead>\n",
       "  <tbody>\n",
       "    <tr>\n",
       "      <th>0</th>\n",
       "      <td>90615</td>\n",
       "      <td>9.823694</td>\n",
       "    </tr>\n",
       "    <tr>\n",
       "      <th>1</th>\n",
       "      <td>90616</td>\n",
       "      <td>9.819738</td>\n",
       "    </tr>\n",
       "    <tr>\n",
       "      <th>2</th>\n",
       "      <td>90617</td>\n",
       "      <td>9.936741</td>\n",
       "    </tr>\n",
       "    <tr>\n",
       "      <th>3</th>\n",
       "      <td>90618</td>\n",
       "      <td>10.375321</td>\n",
       "    </tr>\n",
       "    <tr>\n",
       "      <th>4</th>\n",
       "      <td>90619</td>\n",
       "      <td>7.632145</td>\n",
       "    </tr>\n",
       "  </tbody>\n",
       "</table>\n",
       "</div>"
      ],
      "text/plain": [
       "      id      Rings\n",
       "0  90615   9.823694\n",
       "1  90616   9.819738\n",
       "2  90617   9.936741\n",
       "3  90618  10.375321\n",
       "4  90619   7.632145"
      ]
     },
     "execution_count": 15,
     "metadata": {},
     "output_type": "execute_result"
    }
   ],
   "source": [
    "y_preds = predict(voter, X, y, test, 1)\n",
    "voter_sub = pd.DataFrame({'id': test.index, 'Rings': y_preds})\n",
    "voter_sub.to_csv('xgb_cb_ensemble.csv', index=False)\n",
    "voter_sub.head()"
   ]
  },
  {
   "cell_type": "code",
   "execution_count": 16,
   "id": "e2d16366",
   "metadata": {
    "execution": {
     "iopub.execute_input": "2024-04-12T01:00:57.852119Z",
     "iopub.status.busy": "2024-04-12T01:00:57.851604Z",
     "iopub.status.idle": "2024-04-12T01:00:58.143420Z",
     "shell.execute_reply": "2024-04-12T01:00:58.141018Z"
    },
    "papermill": {
     "duration": 0.305461,
     "end_time": "2024-04-12T01:00:58.146253",
     "exception": false,
     "start_time": "2024-04-12T01:00:57.840792",
     "status": "completed"
    },
    "tags": []
   },
   "outputs": [
    {
     "data": {
      "text/html": [
       "<div>\n",
       "<style scoped>\n",
       "    .dataframe tbody tr th:only-of-type {\n",
       "        vertical-align: middle;\n",
       "    }\n",
       "\n",
       "    .dataframe tbody tr th {\n",
       "        vertical-align: top;\n",
       "    }\n",
       "\n",
       "    .dataframe thead th {\n",
       "        text-align: right;\n",
       "    }\n",
       "</style>\n",
       "<table border=\"1\" class=\"dataframe\">\n",
       "  <thead>\n",
       "    <tr style=\"text-align: right;\">\n",
       "      <th></th>\n",
       "      <th>id</th>\n",
       "      <th>Rings</th>\n",
       "    </tr>\n",
       "  </thead>\n",
       "  <tbody>\n",
       "    <tr>\n",
       "      <th>0</th>\n",
       "      <td>90615</td>\n",
       "      <td>9.738878</td>\n",
       "    </tr>\n",
       "    <tr>\n",
       "      <th>1</th>\n",
       "      <td>90616</td>\n",
       "      <td>9.705969</td>\n",
       "    </tr>\n",
       "    <tr>\n",
       "      <th>2</th>\n",
       "      <td>90617</td>\n",
       "      <td>9.714260</td>\n",
       "    </tr>\n",
       "    <tr>\n",
       "      <th>3</th>\n",
       "      <td>90618</td>\n",
       "      <td>10.536998</td>\n",
       "    </tr>\n",
       "    <tr>\n",
       "      <th>4</th>\n",
       "      <td>90619</td>\n",
       "      <td>7.602535</td>\n",
       "    </tr>\n",
       "  </tbody>\n",
       "</table>\n",
       "</div>"
      ],
      "text/plain": [
       "      id      Rings\n",
       "0  90615   9.738878\n",
       "1  90616   9.705969\n",
       "2  90617   9.714260\n",
       "3  90618  10.536998\n",
       "4  90619   7.602535"
      ]
     },
     "execution_count": 16,
     "metadata": {},
     "output_type": "execute_result"
    }
   ],
   "source": [
    "public_lb_best_sub = pd.read_csv(f\"/kaggle/input/ps4e4-prediction-generalization-regression/submission.csv\")[\"Rings\"].values\n",
    "ensemble_sub = voter_sub[\"Rings\"].values\n",
    "\n",
    "submission = voter_sub.copy()\n",
    "submission[\"Rings\"] = np.average(np.c_[public_lb_best_sub, ensemble_sub], axis=1, weights=[0.85, 0.15])\n",
    "submission[\"Rings\"] = submission[\"Rings\"].clip(1, 29)\n",
    "submission[\"Rings\"] = np.where(submission[\"Rings\"].between(27.5, 29), 29, submission[\"Rings\"])\n",
    "submission.to_csv(\"xgb_cb_ensemble-public_lb_best.csv\", index=None)\n",
    "submission.head()"
   ]
  }
 ],
 "metadata": {
  "kaggle": {
   "accelerator": "none",
   "dataSources": [
    {
     "databundleVersionId": 8096274,
     "sourceId": 72489,
     "sourceType": "competition"
    },
    {
     "sourceId": 171459732,
     "sourceType": "kernelVersion"
    }
   ],
   "dockerImageVersionId": 30684,
   "isGpuEnabled": false,
   "isInternetEnabled": true,
   "language": "python",
   "sourceType": "notebook"
  },
  "kernelspec": {
   "display_name": "Python 3",
   "language": "python",
   "name": "python3"
  },
  "language_info": {
   "codemirror_mode": {
    "name": "ipython",
    "version": 3
   },
   "file_extension": ".py",
   "mimetype": "text/x-python",
   "name": "python",
   "nbconvert_exporter": "python",
   "pygments_lexer": "ipython3",
   "version": "3.10.13"
  },
  "papermill": {
   "default_parameters": {},
   "duration": 13203.239587,
   "end_time": "2024-04-12T01:01:00.909459",
   "environment_variables": {},
   "exception": null,
   "input_path": "__notebook__.ipynb",
   "output_path": "__notebook__.ipynb",
   "parameters": {},
   "start_time": "2024-04-11T21:20:57.669872",
   "version": "2.5.0"
  }
 },
 "nbformat": 4,
 "nbformat_minor": 5
}
