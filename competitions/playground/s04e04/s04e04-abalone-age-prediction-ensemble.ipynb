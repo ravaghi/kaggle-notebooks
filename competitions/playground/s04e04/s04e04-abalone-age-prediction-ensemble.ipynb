{
 "cells": [
  {
   "cell_type": "code",
   "execution_count": 1,
   "id": "7b83810d",
   "metadata": {
    "_cell_guid": "b1076dfc-b9ad-4769-8c92-a6c4dae69d19",
    "_uuid": "8f2839f25d086af736a60e9eeb907d3b93b6e0e5",
    "execution": {
     "iopub.execute_input": "2024-04-10T19:14:37.132752Z",
     "iopub.status.busy": "2024-04-10T19:14:37.132278Z",
     "iopub.status.idle": "2024-04-10T19:14:42.464581Z",
     "shell.execute_reply": "2024-04-10T19:14:42.462946Z"
    },
    "papermill": {
     "duration": 5.345102,
     "end_time": "2024-04-10T19:14:42.469005",
     "exception": false,
     "start_time": "2024-04-10T19:14:37.123903",
     "status": "completed"
    },
    "tags": []
   },
   "outputs": [],
   "source": [
    "import pandas as pd\n",
    "import numpy as np\n",
    "import warnings\n",
    "import optuna\n",
    "import matplotlib.pyplot as plt\n",
    "import seaborn as sns\n",
    "from sklearn.model_selection import StratifiedKFold\n",
    "from sklearn.metrics import mean_squared_log_error\n",
    "from sklearn.base import clone\n",
    "from sklearn.compose import TransformedTargetRegressor\n",
    "from sklearn.ensemble import GradientBoostingRegressor, VotingRegressor\n",
    "from xgboost import XGBRegressor\n",
    "from catboost import CatBoostRegressor\n",
    "from lightgbm import LGBMRegressor\n",
    "\n",
    "warnings.filterwarnings('ignore')"
   ]
  },
  {
   "cell_type": "code",
   "execution_count": 2,
   "id": "bcfb56aa",
   "metadata": {
    "execution": {
     "iopub.execute_input": "2024-04-10T19:14:42.495403Z",
     "iopub.status.busy": "2024-04-10T19:14:42.494026Z",
     "iopub.status.idle": "2024-04-10T19:14:42.504113Z",
     "shell.execute_reply": "2024-04-10T19:14:42.502912Z"
    },
    "papermill": {
     "duration": 0.025924,
     "end_time": "2024-04-10T19:14:42.507378",
     "exception": false,
     "start_time": "2024-04-10T19:14:42.481454",
     "status": "completed"
    },
    "tags": []
   },
   "outputs": [],
   "source": [
    "SEED = 27\n",
    "N_SPLITS = 10\n",
    "N_REPEATS = 5"
   ]
  },
  {
   "cell_type": "markdown",
   "id": "e6296298",
   "metadata": {
    "papermill": {
     "duration": 0.007583,
     "end_time": "2024-04-10T19:14:42.523118",
     "exception": false,
     "start_time": "2024-04-10T19:14:42.515535",
     "status": "completed"
    },
    "tags": []
   },
   "source": [
    "# Loading and Processing Data"
   ]
  },
  {
   "cell_type": "code",
   "execution_count": 3,
   "id": "fbec9b3f",
   "metadata": {
    "execution": {
     "iopub.execute_input": "2024-04-10T19:14:42.538647Z",
     "iopub.status.busy": "2024-04-10T19:14:42.538217Z",
     "iopub.status.idle": "2024-04-10T19:14:42.874186Z",
     "shell.execute_reply": "2024-04-10T19:14:42.872560Z"
    },
    "papermill": {
     "duration": 0.346986,
     "end_time": "2024-04-10T19:14:42.877680",
     "exception": false,
     "start_time": "2024-04-10T19:14:42.530694",
     "status": "completed"
    },
    "tags": []
   },
   "outputs": [],
   "source": [
    "train = pd.read_csv('/kaggle/input/playground-series-s4e4/train.csv', index_col='id')\n",
    "test = pd.read_csv('/kaggle/input/playground-series-s4e4/test.csv', index_col='id')\n",
    "\n",
    "train['Sex'] = train['Sex'].map({'M': 0, 'F': 1, 'I': 2})\n",
    "test['Sex'] = test['Sex'].map({'M': 0, 'F': 1, 'I': 2})\n",
    "\n",
    "X = train.drop(columns='Rings')\n",
    "y = train['Rings']"
   ]
  },
  {
   "cell_type": "markdown",
   "id": "ae77d543",
   "metadata": {
    "papermill": {
     "duration": 0.005038,
     "end_time": "2024-04-10T19:14:42.888138",
     "exception": false,
     "start_time": "2024-04-10T19:14:42.883100",
     "status": "completed"
    },
    "tags": []
   },
   "source": [
    "# Training Base Models"
   ]
  },
  {
   "cell_type": "code",
   "execution_count": 4,
   "id": "bf98778e",
   "metadata": {
    "execution": {
     "iopub.execute_input": "2024-04-10T19:14:42.901792Z",
     "iopub.status.busy": "2024-04-10T19:14:42.900873Z",
     "iopub.status.idle": "2024-04-10T19:14:42.914154Z",
     "shell.execute_reply": "2024-04-10T19:14:42.912894Z"
    },
    "papermill": {
     "duration": 0.022998,
     "end_time": "2024-04-10T19:14:42.916899",
     "exception": false,
     "start_time": "2024-04-10T19:14:42.893901",
     "status": "completed"
    },
    "tags": []
   },
   "outputs": [],
   "source": [
    "def train(regressor, X, y, n_splits=N_SPLITS, n_repeats=N_REPEATS):\n",
    "    skf = StratifiedKFold(n_splits=n_splits, shuffle=True, random_state=SEED)\n",
    "    \n",
    "    model = TransformedTargetRegressor(\n",
    "        regressor=regressor,\n",
    "        func=np.log1p,\n",
    "        inverse_func=np.expm1\n",
    "    )\n",
    "    \n",
    "    oof_preds = np.zeros(len(X), dtype=float)\n",
    "    scores = []\n",
    "    for train_idx, val_idx in skf.split(X, y):\n",
    "        X_train, X_val = X.iloc[train_idx], X.iloc[val_idx]\n",
    "        y_train, y_val = y.iloc[train_idx], y.iloc[val_idx]\n",
    "        \n",
    "        y_pred = np.zeros_like(y_val, dtype=float)\n",
    "        for i in range(n_repeats):\n",
    "            m = clone(model)\n",
    "            if n_repeats > 1:\n",
    "                m.regressor.set_params(random_state=i)\n",
    "            m.fit(X_train, y_train)\n",
    "            y_pred += m.predict(X_val)\n",
    "            \n",
    "        y_pred /= n_repeats\n",
    "        y_pred = y_pred.clip(1, 29)\n",
    "        \n",
    "        score = mean_squared_log_error(y_val, y_pred, squared=False)\n",
    "        scores.append(score)        \n",
    "        oof_preds[val_idx] = y_pred\n",
    "    \n",
    "    return scores, oof_preds\n",
    "\n",
    "def predict(regressor, X, y, X_test, n_repeats=N_REPEATS):\n",
    "    model = TransformedTargetRegressor(\n",
    "        regressor=regressor,\n",
    "        func=np.log1p,\n",
    "        inverse_func=np.expm1\n",
    "    )\n",
    "    \n",
    "    y_pred = np.zeros(len(X_test), dtype=float)\n",
    "    for i in range(n_repeats):\n",
    "        m = clone(model)\n",
    "        if n_repeats > 1:\n",
    "            m.regressor.set_params(random_state=i)\n",
    "        m.fit(X, y)\n",
    "        y_pred += m.predict(X_test)\n",
    "    y_pred /= n_repeats\n",
    "    y_pred = y_pred.clip(1, 29)\n",
    "    return y_pred"
   ]
  },
  {
   "cell_type": "code",
   "execution_count": 5,
   "id": "4d9228f6",
   "metadata": {
    "_kg_hide-input": true,
    "execution": {
     "iopub.execute_input": "2024-04-10T19:14:42.930398Z",
     "iopub.status.busy": "2024-04-10T19:14:42.929951Z",
     "iopub.status.idle": "2024-04-10T19:14:42.939943Z",
     "shell.execute_reply": "2024-04-10T19:14:42.938860Z"
    },
    "papermill": {
     "duration": 0.02006,
     "end_time": "2024-04-10T19:14:42.942333",
     "exception": false,
     "start_time": "2024-04-10T19:14:42.922273",
     "status": "completed"
    },
    "tags": []
   },
   "outputs": [],
   "source": [
    "xgb_params = {\n",
    "    'n_estimators': 1942,\n",
    "    'learning_rate': 0.04328457758575266,\n",
    "    'gamma': 0.03564293452391207,\n",
    "    'reg_alpha': 0.7236848478280202,\n",
    "    'reg_lambda': 0.6760094001242347,\n",
    "    'max_depth': 6,\n",
    "    'min_child_weight': 1,\n",
    "    'subsample': 0.6956271823055759,\n",
    "    'colsample_bytree': 0.7506537997746077,\n",
    "    'colsample_bylevel': 0.8727635788126956,\n",
    "    'colsample_bynode': 0.962341555268564,\n",
    "    'random_state': SEED,\n",
    "    'n_jobs': -1\n",
    "}\n",
    "\n",
    "cb_params = {\n",
    "    'depth': 15, \n",
    "    'max_bin': 464, \n",
    "    'verbose': False,\n",
    "    'random_state':SEED,\n",
    "    'task_type': 'CPU', \n",
    "    'eval_metric': 'RMSE', \n",
    "    'min_data_in_leaf': 78, \n",
    "    'loss_function': 'RMSE', \n",
    "    'grow_policy': 'Lossguide', \n",
    "    'bootstrap_type': 'Bernoulli', \n",
    "    'subsample': 0.83862137638162, \n",
    "    'l2_leaf_reg': 8.365422739510098, \n",
    "    'random_strength': 3.296124856352495, \n",
    "    'learning_rate': 0.09992185242598203,\n",
    "    'random_state': SEED,\n",
    "    'verbose': 0\n",
    "}\n",
    "\n",
    "lgbm_params = {\n",
    "    'n_estimators': 1460,\n",
    "    'learning_rate': 0.009336479469693189,\n",
    "    'colsample_bytree': 0.5780931837049811,\n",
    "    'reg_alpha': 0.3152990674231573,\n",
    "    'reg_lambda': 6.13475387151606,\n",
    "    'max_depth': 20,\n",
    "    'num_leaves': 165,\n",
    "    'min_child_samples': 25,\n",
    "    'subsample': 0.8036874216939632,\n",
    "    'subsample_freq': 1,\n",
    "    'min_child_weight': 0.37333232256934057,\n",
    "    'random_state': SEED,\n",
    "    'n_jobs': -1,\n",
    "    'verbose': -1\n",
    "}\n",
    "\n",
    "gb_params = {\n",
    "    'n_estimators': 1520,\n",
    "    'learning_rate': 0.021568657897174062,\n",
    "    'max_depth': 7,\n",
    "    'min_samples_split': 5,\n",
    "    'min_samples_leaf': 2,\n",
    "    'subsample': 0.8386058289444608,\n",
    "    'random_state': SEED,\n",
    "}"
   ]
  },
  {
   "cell_type": "code",
   "execution_count": 6,
   "id": "5195db94",
   "metadata": {
    "execution": {
     "iopub.execute_input": "2024-04-10T19:14:42.956986Z",
     "iopub.status.busy": "2024-04-10T19:14:42.954251Z",
     "iopub.status.idle": "2024-04-11T00:59:25.486093Z",
     "shell.execute_reply": "2024-04-11T00:59:25.484271Z"
    },
    "papermill": {
     "duration": 20682.546902,
     "end_time": "2024-04-11T00:59:25.494453",
     "exception": false,
     "start_time": "2024-04-10T19:14:42.947551",
     "status": "completed"
    },
    "tags": []
   },
   "outputs": [
    {
     "name": "stdout",
     "output_type": "stream",
     "text": [
      "XGB:    0.14828680025204577\n",
      "CB:     0.1475879632917944\n",
      "LGBM:   0.1477611444102072\n",
      "GB:     0.14779814346857467\n"
     ]
    }
   ],
   "source": [
    "xgb_model = XGBRegressor(**xgb_params)\n",
    "xgb_scores, xgb_oof_preds = train(xgb_model, X, y)\n",
    "print(f'XGB:    {np.mean(xgb_scores)}')\n",
    "\n",
    "cb_model = CatBoostRegressor(**cb_params)\n",
    "cb_scores, cb_oof_preds = train(cb_model, X, y)\n",
    "print(f'CB:     {np.mean(cb_scores)}')\n",
    "\n",
    "lgbm_model = LGBMRegressor(**lgbm_params)\n",
    "lgbm_scores, lgbm_oof_preds = train(lgbm_model, X, y)\n",
    "print(f'LGBM:   {np.mean(lgbm_scores)}')\n",
    "\n",
    "gb_model = GradientBoostingRegressor(**gb_params)\n",
    "gb_scores, gb_oof_preds = train(gb_model, X, y)\n",
    "print(f'GB:     {np.mean(gb_scores)}')"
   ]
  },
  {
   "cell_type": "markdown",
   "id": "76056b10",
   "metadata": {
    "papermill": {
     "duration": 0.005161,
     "end_time": "2024-04-11T00:59:25.505122",
     "exception": false,
     "start_time": "2024-04-11T00:59:25.499961",
     "status": "completed"
    },
    "tags": []
   },
   "source": [
    "# Ensembling Base Learners"
   ]
  },
  {
   "cell_type": "code",
   "execution_count": 7,
   "id": "50381612",
   "metadata": {
    "execution": {
     "iopub.execute_input": "2024-04-11T00:59:25.518975Z",
     "iopub.status.busy": "2024-04-11T00:59:25.517684Z",
     "iopub.status.idle": "2024-04-11T00:59:25.523371Z",
     "shell.execute_reply": "2024-04-11T00:59:25.522428Z"
    },
    "papermill": {
     "duration": 0.015406,
     "end_time": "2024-04-11T00:59:25.525935",
     "exception": false,
     "start_time": "2024-04-11T00:59:25.510529",
     "status": "completed"
    },
    "tags": []
   },
   "outputs": [],
   "source": [
    "estimators = [\n",
    "    ('xgb', xgb_model),\n",
    "    ('cb', cb_model),\n",
    "    ('lgbm', lgbm_model),\n",
    "    ('gb', gb_model)\n",
    "]"
   ]
  },
  {
   "cell_type": "code",
   "execution_count": 8,
   "id": "f4faf339",
   "metadata": {
    "_kg_hide-input": true,
    "_kg_hide-output": true,
    "execution": {
     "iopub.execute_input": "2024-04-11T00:59:25.540032Z",
     "iopub.status.busy": "2024-04-11T00:59:25.539296Z",
     "iopub.status.idle": "2024-04-11T00:59:25.544986Z",
     "shell.execute_reply": "2024-04-11T00:59:25.543917Z"
    },
    "papermill": {
     "duration": 0.015898,
     "end_time": "2024-04-11T00:59:25.547408",
     "exception": false,
     "start_time": "2024-04-11T00:59:25.531510",
     "status": "completed"
    },
    "tags": []
   },
   "outputs": [],
   "source": [
    "# def objective(trial):\n",
    "#     params = {\n",
    "#         'xgb_weight': trial.suggest_float('xgb_weight', 0.0, 1.0),\n",
    "#         'cb_weight': trial.suggest_float('cb_weight', 0.0, 1.0),\n",
    "#         'lgbm_weight': trial.suggest_float('lgbm_weight', 0.0, 1.0),\n",
    "#         'gb_weight': trial.suggest_float('gb_weight', 0.0, 1.0),\n",
    "#     }\n",
    "\n",
    "#     weights = [\n",
    "#         params['xgb_weight'],\n",
    "#         params['cb_weight'],\n",
    "#         params['lgbm_weight'],\n",
    "#         params['gb_weight']\n",
    "#     ]\n",
    "#     weights /= np.sum(weights)\n",
    "\n",
    "#     voter = VotingRegressor(estimators=estimators, weights=weights, n_jobs=-1)\n",
    "#     scores, _ = train(voter, X, y, 1)\n",
    "    \n",
    "#     return np.mean(scores)\n",
    "\n",
    "# study = optuna.create_study(direction='minimize')\n",
    "# study.optimize(objective, n_trials=1000)\n",
    "\n",
    "# best_weights = study.best_params\n",
    "# weights = [\n",
    "#     best_weights['xgb_weight'],\n",
    "#     best_weights['cb_weight'],\n",
    "#     best_weights['lgbm_weight'],\n",
    "#     best_weights['gb_weight']\n",
    "# ]\n",
    "\n",
    "# weights /= np.sum(weights)\n",
    "# print(f'\\nBest Weights: {list(weights)}')\n",
    "\n",
    "weights = [0.18844250545656566, 0.6422423960522606, 0.1688203675689123, 0.0004947309222612189]"
   ]
  },
  {
   "cell_type": "code",
   "execution_count": 9,
   "id": "c43f61ee",
   "metadata": {
    "execution": {
     "iopub.execute_input": "2024-04-11T00:59:25.566019Z",
     "iopub.status.busy": "2024-04-11T00:59:25.564064Z",
     "iopub.status.idle": "2024-04-11T02:10:05.066716Z",
     "shell.execute_reply": "2024-04-11T02:10:05.065071Z"
    },
    "papermill": {
     "duration": 4239.521086,
     "end_time": "2024-04-11T02:10:05.074360",
     "exception": false,
     "start_time": "2024-04-11T00:59:25.553274",
     "status": "completed"
    },
    "tags": []
   },
   "outputs": [
    {
     "name": "stdout",
     "output_type": "stream",
     "text": [
      "Voter: 0.14761931025167493\n"
     ]
    }
   ],
   "source": [
    "voter = VotingRegressor(estimators=estimators, weights=weights, n_jobs=-1)\n",
    "voter_scores, oof_preds = train(voter, X, y, N_SPLITS, 1)\n",
    "\n",
    "print(f'Voter: {np.mean(voter_scores)}')"
   ]
  },
  {
   "cell_type": "markdown",
   "id": "0a812a63",
   "metadata": {
    "papermill": {
     "duration": 0.005595,
     "end_time": "2024-04-11T02:10:05.085809",
     "exception": false,
     "start_time": "2024-04-11T02:10:05.080214",
     "status": "completed"
    },
    "tags": []
   },
   "source": [
    "# Results"
   ]
  },
  {
   "cell_type": "code",
   "execution_count": 10,
   "id": "50bc5c1a",
   "metadata": {
    "_kg_hide-input": true,
    "execution": {
     "iopub.execute_input": "2024-04-11T02:10:05.100115Z",
     "iopub.status.busy": "2024-04-11T02:10:05.099636Z",
     "iopub.status.idle": "2024-04-11T02:10:05.763143Z",
     "shell.execute_reply": "2024-04-11T02:10:05.761770Z"
    },
    "papermill": {
     "duration": 0.674462,
     "end_time": "2024-04-11T02:10:05.766383",
     "exception": false,
     "start_time": "2024-04-11T02:10:05.091921",
     "status": "completed"
    },
    "tags": []
   },
   "outputs": [
    {
     "data": {
      "image/png": "[encoded data removed]",
      "text/plain": [
       "<Figure size 1500x600 with 2 Axes>"
      ]
     },
     "metadata": {},
     "output_type": "display_data"
    }
   ],
   "source": [
    "scores = pd.DataFrame({\n",
    "    'XGB': xgb_scores,\n",
    "    'CB': cb_scores,\n",
    "    'LGBM': lgbm_scores,\n",
    "    'GB': gb_scores,\n",
    "    'Voter': voter_scores\n",
    "})\n",
    "scores = scores[scores.mean().sort_values().index]\n",
    "\n",
    "fig, axes = plt.subplots(1, 2, figsize=(15, 6))\n",
    "sns.boxplot(data=scores, ax=axes[0], palette='viridis')\n",
    "axes[0].set_title('Fold Scores')\n",
    "axes[0].set_xlabel('')\n",
    "axes[0].set_ylabel('')\n",
    "mean_scores = scores.mean().sort_values()\n",
    "sns.barplot(x=mean_scores, y=mean_scores.index, orient='h', ax=axes[1], palette='viridis')\n",
    "axes[1].set_title('Mean Scores')\n",
    "axes[1].set_xlabel('')\n",
    "axes[1].set_ylabel('')\n",
    "axes[1].set_xlim(left=0.14, right=0.16)\n",
    "plt.tight_layout()\n",
    "plt.show()"
   ]
  },
  {
   "cell_type": "markdown",
   "id": "3d41861e",
   "metadata": {
    "papermill": {
     "duration": 0.00602,
     "end_time": "2024-04-11T02:10:05.779245",
     "exception": false,
     "start_time": "2024-04-11T02:10:05.773225",
     "status": "completed"
    },
    "tags": []
   },
   "source": [
    "# Blending Results"
   ]
  },
  {
   "cell_type": "code",
   "execution_count": 11,
   "id": "1d966610",
   "metadata": {
    "execution": {
     "iopub.execute_input": "2024-04-11T02:10:05.794170Z",
     "iopub.status.busy": "2024-04-11T02:10:05.793684Z",
     "iopub.status.idle": "2024-04-11T02:18:10.986394Z",
     "shell.execute_reply": "2024-04-11T02:18:10.984941Z"
    },
    "papermill": {
     "duration": 485.2098,
     "end_time": "2024-04-11T02:18:10.995374",
     "exception": false,
     "start_time": "2024-04-11T02:10:05.785574",
     "status": "completed"
    },
    "tags": []
   },
   "outputs": [
    {
     "data": {
      "text/html": [
       "<div>\n",
       "<style scoped>\n",
       "    .dataframe tbody tr th:only-of-type {\n",
       "        vertical-align: middle;\n",
       "    }\n",
       "\n",
       "    .dataframe tbody tr th {\n",
       "        vertical-align: top;\n",
       "    }\n",
       "\n",
       "    .dataframe thead th {\n",
       "        text-align: right;\n",
       "    }\n",
       "</style>\n",
       "<table border=\"1\" class=\"dataframe\">\n",
       "  <thead>\n",
       "    <tr style=\"text-align: right;\">\n",
       "      <th></th>\n",
       "      <th>id</th>\n",
       "      <th>Rings</th>\n",
       "    </tr>\n",
       "  </thead>\n",
       "  <tbody>\n",
       "    <tr>\n",
       "      <th>0</th>\n",
       "      <td>90615</td>\n",
       "      <td>9.644732</td>\n",
       "    </tr>\n",
       "    <tr>\n",
       "      <th>1</th>\n",
       "      <td>90616</td>\n",
       "      <td>9.729330</td>\n",
       "    </tr>\n",
       "    <tr>\n",
       "      <th>2</th>\n",
       "      <td>90617</td>\n",
       "      <td>9.912553</td>\n",
       "    </tr>\n",
       "    <tr>\n",
       "      <th>3</th>\n",
       "      <td>90618</td>\n",
       "      <td>10.315910</td>\n",
       "    </tr>\n",
       "    <tr>\n",
       "      <th>4</th>\n",
       "      <td>90619</td>\n",
       "      <td>7.562928</td>\n",
       "    </tr>\n",
       "  </tbody>\n",
       "</table>\n",
       "</div>"
      ],
      "text/plain": [
       "      id      Rings\n",
       "0  90615   9.644732\n",
       "1  90616   9.729330\n",
       "2  90617   9.912553\n",
       "3  90618  10.315910\n",
       "4  90619   7.562928"
      ]
     },
     "execution_count": 11,
     "metadata": {},
     "output_type": "execute_result"
    }
   ],
   "source": [
    "y_pred = predict(voter, X, y, test, 1)\n",
    "\n",
    "voter_sub = pd.DataFrame({'id': test.index, 'Rings': y_pred})\n",
    "voter_sub.to_csv(f'voter_{np.mean(voter_scores):.6f}.csv', index=False)\n",
    "voter_sub.head()"
   ]
  },
  {
   "cell_type": "code",
   "execution_count": 12,
   "id": "b5e3712f",
   "metadata": {
    "execution": {
     "iopub.execute_input": "2024-04-11T02:18:11.010438Z",
     "iopub.status.busy": "2024-04-11T02:18:11.009952Z",
     "iopub.status.idle": "2024-04-11T02:18:11.211258Z",
     "shell.execute_reply": "2024-04-11T02:18:11.210212Z"
    },
    "papermill": {
     "duration": 0.212158,
     "end_time": "2024-04-11T02:18:11.213906",
     "exception": false,
     "start_time": "2024-04-11T02:18:11.001748",
     "status": "completed"
    },
    "tags": []
   },
   "outputs": [
    {
     "data": {
      "text/html": [
       "<div>\n",
       "<style scoped>\n",
       "    .dataframe tbody tr th:only-of-type {\n",
       "        vertical-align: middle;\n",
       "    }\n",
       "\n",
       "    .dataframe tbody tr th {\n",
       "        vertical-align: top;\n",
       "    }\n",
       "\n",
       "    .dataframe thead th {\n",
       "        text-align: right;\n",
       "    }\n",
       "</style>\n",
       "<table border=\"1\" class=\"dataframe\">\n",
       "  <thead>\n",
       "    <tr style=\"text-align: right;\">\n",
       "      <th></th>\n",
       "      <th>id</th>\n",
       "      <th>Rings</th>\n",
       "    </tr>\n",
       "  </thead>\n",
       "  <tbody>\n",
       "    <tr>\n",
       "      <th>0</th>\n",
       "      <td>90615</td>\n",
       "      <td>9.705113</td>\n",
       "    </tr>\n",
       "    <tr>\n",
       "      <th>1</th>\n",
       "      <td>90616</td>\n",
       "      <td>9.708448</td>\n",
       "    </tr>\n",
       "    <tr>\n",
       "      <th>2</th>\n",
       "      <td>90617</td>\n",
       "      <td>9.883637</td>\n",
       "    </tr>\n",
       "    <tr>\n",
       "      <th>3</th>\n",
       "      <td>90618</td>\n",
       "      <td>10.297947</td>\n",
       "    </tr>\n",
       "    <tr>\n",
       "      <th>4</th>\n",
       "      <td>90619</td>\n",
       "      <td>7.564911</td>\n",
       "    </tr>\n",
       "  </tbody>\n",
       "</table>\n",
       "</div>"
      ],
      "text/plain": [
       "      id      Rings\n",
       "0  90615   9.705113\n",
       "1  90616   9.708448\n",
       "2  90617   9.883637\n",
       "3  90618  10.297947\n",
       "4  90619   7.564911"
      ]
     },
     "execution_count": 12,
     "metadata": {},
     "output_type": "execute_result"
    }
   ],
   "source": [
    "autogluon_sub = pd.read_csv('/kaggle/input/s04e04-abalone-age-prediction-autogluon/autogluon-0.147658.csv')\n",
    "\n",
    "voter_autogluon_sub = voter_sub.copy()\n",
    "voter_autogluon_sub['Rings'] = np.average(np.c_[voter_sub.Rings.values, autogluon_sub.Rings.values], axis=1, weights = [0.7, 0.3])\n",
    "voter_autogluon_sub['Rings'] = voter_autogluon_sub['Rings'].clip(1, 29)\n",
    "voter_autogluon_sub.to_csv(f'voter_ag.csv', index=False)\n",
    "voter_autogluon_sub.head()"
   ]
  },
  {
   "cell_type": "code",
   "execution_count": 13,
   "id": "67e4e8e9",
   "metadata": {
    "execution": {
     "iopub.execute_input": "2024-04-11T02:18:11.230400Z",
     "iopub.status.busy": "2024-04-11T02:18:11.229557Z",
     "iopub.status.idle": "2024-04-11T02:18:11.435221Z",
     "shell.execute_reply": "2024-04-11T02:18:11.433917Z"
    },
    "papermill": {
     "duration": 0.217174,
     "end_time": "2024-04-11T02:18:11.437967",
     "exception": false,
     "start_time": "2024-04-11T02:18:11.220793",
     "status": "completed"
    },
    "tags": []
   },
   "outputs": [
    {
     "data": {
      "text/html": [
       "<div>\n",
       "<style scoped>\n",
       "    .dataframe tbody tr th:only-of-type {\n",
       "        vertical-align: middle;\n",
       "    }\n",
       "\n",
       "    .dataframe tbody tr th {\n",
       "        vertical-align: top;\n",
       "    }\n",
       "\n",
       "    .dataframe thead th {\n",
       "        text-align: right;\n",
       "    }\n",
       "</style>\n",
       "<table border=\"1\" class=\"dataframe\">\n",
       "  <thead>\n",
       "    <tr style=\"text-align: right;\">\n",
       "      <th></th>\n",
       "      <th>id</th>\n",
       "      <th>Rings</th>\n",
       "    </tr>\n",
       "  </thead>\n",
       "  <tbody>\n",
       "    <tr>\n",
       "      <th>0</th>\n",
       "      <td>90615</td>\n",
       "      <td>9.739875</td>\n",
       "    </tr>\n",
       "    <tr>\n",
       "      <th>1</th>\n",
       "      <td>90616</td>\n",
       "      <td>9.698560</td>\n",
       "    </tr>\n",
       "    <tr>\n",
       "      <th>2</th>\n",
       "      <td>90617</td>\n",
       "      <td>9.834253</td>\n",
       "    </tr>\n",
       "    <tr>\n",
       "      <th>3</th>\n",
       "      <td>90618</td>\n",
       "      <td>10.385601</td>\n",
       "    </tr>\n",
       "    <tr>\n",
       "      <th>4</th>\n",
       "      <td>90619</td>\n",
       "      <td>7.578745</td>\n",
       "    </tr>\n",
       "  </tbody>\n",
       "</table>\n",
       "</div>"
      ],
      "text/plain": [
       "      id      Rings\n",
       "0  90615   9.739875\n",
       "1  90616   9.698560\n",
       "2  90617   9.834253\n",
       "3  90618  10.385601\n",
       "4  90619   7.578745"
      ]
     },
     "execution_count": 13,
     "metadata": {},
     "output_type": "execute_result"
    }
   ],
   "source": [
    "best_public_lb_sub = pd.read_csv('/kaggle/input/ps4e4-abalone-age-prediction-regression/submission_comb.csv')\n",
    "\n",
    "voter_autogluon_lb_sub = voter_autogluon_sub.copy()\n",
    "voter_autogluon_lb_sub['Rings'] = np.average(np.c_[voter_sub.Rings.values, autogluon_sub.Rings.values, best_public_lb_sub.Rings.values], axis=1, weights = [0.45, 0.2, 0.35])\n",
    "voter_autogluon_lb_sub['Rings'] = voter_autogluon_lb_sub['Rings'].clip(1, 29)\n",
    "voter_autogluon_lb_sub.to_csv(f'voter_ag_lb.csv', index=False)\n",
    "voter_autogluon_lb_sub.head()"
   ]
  },
  {
   "cell_type": "code",
   "execution_count": null,
   "id": "677f9db7",
   "metadata": {
    "papermill": {
     "duration": 0.006636,
     "end_time": "2024-04-11T02:18:11.451584",
     "exception": false,
     "start_time": "2024-04-11T02:18:11.444948",
     "status": "completed"
    },
    "tags": []
   },
   "outputs": [],
   "source": []
  }
 ],
 "metadata": {
  "kaggle": {
   "accelerator": "none",
   "dataSources": [
    {
     "databundleVersionId": 8096274,
     "sourceId": 72489,
     "sourceType": "competition"
    },
    {
     "sourceId": 170519560,
     "sourceType": "kernelVersion"
    },
    {
     "sourceId": 171268630,
     "sourceType": "kernelVersion"
    }
   ],
   "dockerImageVersionId": 30684,
   "isGpuEnabled": false,
   "isInternetEnabled": true,
   "language": "python",
   "sourceType": "notebook"
  },
  "kernelspec": {
   "display_name": "Python 3",
   "language": "python",
   "name": "python3"
  },
  "language_info": {
   "codemirror_mode": {
    "name": "ipython",
    "version": 3
   },
   "file_extension": ".py",
   "mimetype": "text/x-python",
   "name": "python",
   "nbconvert_exporter": "python",
   "pygments_lexer": "ipython3",
   "version": "3.10.13"
  },
  "papermill": {
   "default_parameters": {},
   "duration": 25418.830553,
   "end_time": "2024-04-11T02:18:12.726002",
   "environment_variables": {},
   "exception": null,
   "input_path": "__notebook__.ipynb",
   "output_path": "__notebook__.ipynb",
   "parameters": {},
   "start_time": "2024-04-10T19:14:33.895449",
   "version": "2.5.0"
  }
 },
 "nbformat": 4,
 "nbformat_minor": 5
}
