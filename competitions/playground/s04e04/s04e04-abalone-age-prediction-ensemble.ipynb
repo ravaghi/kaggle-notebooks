{
 "cells": [
  {
   "cell_type": "code",
   "execution_count": 1,
   "id": "2eedac43",
   "metadata": {
    "_cell_guid": "b1076dfc-b9ad-4769-8c92-a6c4dae69d19",
    "_uuid": "8f2839f25d086af736a60e9eeb907d3b93b6e0e5",
    "execution": {
     "iopub.execute_input": "2024-04-11T04:01:42.439148Z",
     "iopub.status.busy": "2024-04-11T04:01:42.438784Z",
     "iopub.status.idle": "2024-04-11T04:01:46.747234Z",
     "shell.execute_reply": "2024-04-11T04:01:46.746228Z"
    },
    "papermill": {
     "duration": 4.317646,
     "end_time": "2024-04-11T04:01:46.749795",
     "exception": false,
     "start_time": "2024-04-11T04:01:42.432149",
     "status": "completed"
    },
    "tags": []
   },
   "outputs": [],
   "source": [
    "import pandas as pd\n",
    "import numpy as np\n",
    "import warnings\n",
    "import optuna\n",
    "import matplotlib.pyplot as plt\n",
    "import seaborn as sns\n",
    "from sklearn.model_selection import StratifiedKFold\n",
    "from sklearn.metrics import mean_squared_log_error\n",
    "from sklearn.base import clone\n",
    "from sklearn.compose import TransformedTargetRegressor\n",
    "from sklearn.ensemble import GradientBoostingRegressor, VotingRegressor\n",
    "from xgboost import XGBRegressor\n",
    "from catboost import CatBoostRegressor\n",
    "from lightgbm import LGBMRegressor\n",
    "\n",
    "warnings.filterwarnings('ignore')"
   ]
  },
  {
   "cell_type": "code",
   "execution_count": 2,
   "id": "c81a2d3f",
   "metadata": {
    "execution": {
     "iopub.execute_input": "2024-04-11T04:01:46.761610Z",
     "iopub.status.busy": "2024-04-11T04:01:46.761043Z",
     "iopub.status.idle": "2024-04-11T04:01:46.766019Z",
     "shell.execute_reply": "2024-04-11T04:01:46.764841Z"
    },
    "papermill": {
     "duration": 0.013373,
     "end_time": "2024-04-11T04:01:46.768203",
     "exception": false,
     "start_time": "2024-04-11T04:01:46.754830",
     "status": "completed"
    },
    "tags": []
   },
   "outputs": [],
   "source": [
    "SEED = 27\n",
    "N_SPLITS = 10\n",
    "N_REPEATS = 5"
   ]
  },
  {
   "cell_type": "markdown",
   "id": "7c8c5324",
   "metadata": {
    "papermill": {
     "duration": 0.004372,
     "end_time": "2024-04-11T04:01:46.777177",
     "exception": false,
     "start_time": "2024-04-11T04:01:46.772805",
     "status": "completed"
    },
    "tags": []
   },
   "source": [
    "# Loading and Processing Data"
   ]
  },
  {
   "cell_type": "code",
   "execution_count": 3,
   "id": "5254d574",
   "metadata": {
    "execution": {
     "iopub.execute_input": "2024-04-11T04:01:46.788100Z",
     "iopub.status.busy": "2024-04-11T04:01:46.787262Z",
     "iopub.status.idle": "2024-04-11T04:01:47.089275Z",
     "shell.execute_reply": "2024-04-11T04:01:47.088306Z"
    },
    "papermill": {
     "duration": 0.31016,
     "end_time": "2024-04-11T04:01:47.091774",
     "exception": false,
     "start_time": "2024-04-11T04:01:46.781614",
     "status": "completed"
    },
    "tags": []
   },
   "outputs": [],
   "source": [
    "train = pd.read_csv('/kaggle/input/playground-series-s4e4/train.csv', index_col='id')\n",
    "test = pd.read_csv('/kaggle/input/playground-series-s4e4/test.csv', index_col='id')\n",
    "\n",
    "train['Sex'] = train['Sex'].map({'M': 0, 'F': 1, 'I': 2})\n",
    "test['Sex'] = test['Sex'].map({'M': 0, 'F': 1, 'I': 2})\n",
    "\n",
    "X = train.drop(columns='Rings')\n",
    "y = train['Rings']"
   ]
  },
  {
   "cell_type": "markdown",
   "id": "b9d82817",
   "metadata": {
    "papermill": {
     "duration": 0.004735,
     "end_time": "2024-04-11T04:01:47.101654",
     "exception": false,
     "start_time": "2024-04-11T04:01:47.096919",
     "status": "completed"
    },
    "tags": []
   },
   "source": [
    "# Training Base Models"
   ]
  },
  {
   "cell_type": "code",
   "execution_count": 4,
   "id": "a0310291",
   "metadata": {
    "execution": {
     "iopub.execute_input": "2024-04-11T04:01:47.112947Z",
     "iopub.status.busy": "2024-04-11T04:01:47.111922Z",
     "iopub.status.idle": "2024-04-11T04:01:47.122516Z",
     "shell.execute_reply": "2024-04-11T04:01:47.121710Z"
    },
    "papermill": {
     "duration": 0.018408,
     "end_time": "2024-04-11T04:01:47.124668",
     "exception": false,
     "start_time": "2024-04-11T04:01:47.106260",
     "status": "completed"
    },
    "tags": []
   },
   "outputs": [],
   "source": [
    "def train(regressor, X, y, n_splits=N_SPLITS, n_repeats=N_REPEATS):\n",
    "    skf = StratifiedKFold(n_splits=n_splits, shuffle=True, random_state=SEED)\n",
    "    \n",
    "    model = TransformedTargetRegressor(\n",
    "        regressor=regressor,\n",
    "        func=np.log1p,\n",
    "        inverse_func=np.expm1\n",
    "    )\n",
    "    \n",
    "    oof_preds = np.zeros(len(X), dtype=float)\n",
    "    scores = []\n",
    "    for train_idx, val_idx in skf.split(X, y):\n",
    "        X_train, X_val = X.iloc[train_idx], X.iloc[val_idx]\n",
    "        y_train, y_val = y.iloc[train_idx], y.iloc[val_idx]\n",
    "        \n",
    "        y_pred = np.zeros_like(y_val, dtype=float)\n",
    "        for i in range(n_repeats):\n",
    "            m = clone(model)\n",
    "            if n_repeats > 1:\n",
    "                m.regressor.set_params(random_state=i)\n",
    "            m.fit(X_train, y_train)\n",
    "            y_pred += m.predict(X_val)\n",
    "            \n",
    "        y_pred /= n_repeats\n",
    "        y_pred = y_pred.clip(1, 29)\n",
    "        \n",
    "        score = mean_squared_log_error(y_val, y_pred, squared=False)\n",
    "        scores.append(score)        \n",
    "        oof_preds[val_idx] = y_pred\n",
    "    \n",
    "    return scores, oof_preds\n",
    "\n",
    "def predict(regressor, X, y, X_test, n_repeats=N_REPEATS):\n",
    "    model = TransformedTargetRegressor(\n",
    "        regressor=regressor,\n",
    "        func=np.log1p,\n",
    "        inverse_func=np.expm1\n",
    "    )\n",
    "    \n",
    "    y_pred = np.zeros(len(X_test), dtype=float)\n",
    "    for i in range(n_repeats):\n",
    "        m = clone(model)\n",
    "        if n_repeats > 1:\n",
    "            m.regressor.set_params(random_state=i)\n",
    "        m.fit(X, y)\n",
    "        y_pred += m.predict(X_test)\n",
    "    y_pred /= n_repeats\n",
    "    y_pred = y_pred.clip(1, 29)\n",
    "    return y_pred"
   ]
  },
  {
   "cell_type": "code",
   "execution_count": 5,
   "id": "2fe448b4",
   "metadata": {
    "_kg_hide-input": true,
    "execution": {
     "iopub.execute_input": "2024-04-11T04:01:47.136001Z",
     "iopub.status.busy": "2024-04-11T04:01:47.135016Z",
     "iopub.status.idle": "2024-04-11T04:01:47.144052Z",
     "shell.execute_reply": "2024-04-11T04:01:47.142920Z"
    },
    "papermill": {
     "duration": 0.01677,
     "end_time": "2024-04-11T04:01:47.146047",
     "exception": false,
     "start_time": "2024-04-11T04:01:47.129277",
     "status": "completed"
    },
    "tags": []
   },
   "outputs": [],
   "source": [
    "xgb_params = {\n",
    "    'n_estimators': 1942,\n",
    "    'learning_rate': 0.04328457758575266,\n",
    "    'gamma': 0.03564293452391207,\n",
    "    'reg_alpha': 0.7236848478280202,\n",
    "    'reg_lambda': 0.6760094001242347,\n",
    "    'max_depth': 6,\n",
    "    'min_child_weight': 1,\n",
    "    'subsample': 0.6956271823055759,\n",
    "    'colsample_bytree': 0.7506537997746077,\n",
    "    'colsample_bylevel': 0.8727635788126956,\n",
    "    'colsample_bynode': 0.962341555268564,\n",
    "    'random_state': SEED,\n",
    "    'n_jobs': -1\n",
    "}\n",
    "\n",
    "cb_params = {\n",
    "    'depth': 15, \n",
    "    'max_bin': 464, \n",
    "    'verbose': False,\n",
    "    'random_state':SEED,\n",
    "    'task_type': 'CPU', \n",
    "    'eval_metric': 'RMSE', \n",
    "    'min_data_in_leaf': 78, \n",
    "    'loss_function': 'RMSE', \n",
    "    'grow_policy': 'Lossguide', \n",
    "    'bootstrap_type': 'Bernoulli', \n",
    "    'subsample': 0.83862137638162, \n",
    "    'l2_leaf_reg': 8.365422739510098, \n",
    "    'random_strength': 3.296124856352495, \n",
    "    'learning_rate': 0.09992185242598203,\n",
    "    'random_state': SEED,\n",
    "    'verbose': 0\n",
    "}\n",
    "\n",
    "lgbm_params = {\n",
    "    'n_estimators': 1460,\n",
    "    'learning_rate': 0.009336479469693189,\n",
    "    'colsample_bytree': 0.5780931837049811,\n",
    "    'reg_alpha': 0.3152990674231573,\n",
    "    'reg_lambda': 6.13475387151606,\n",
    "    'max_depth': 20,\n",
    "    'num_leaves': 165,\n",
    "    'min_child_samples': 25,\n",
    "    'subsample': 0.8036874216939632,\n",
    "    'subsample_freq': 1,\n",
    "    'min_child_weight': 0.37333232256934057,\n",
    "    'random_state': SEED,\n",
    "    'n_jobs': -1,\n",
    "    'verbose': -1\n",
    "}\n",
    "\n",
    "gb_params = {\n",
    "    'n_estimators': 1520,\n",
    "    'learning_rate': 0.021568657897174062,\n",
    "    'max_depth': 7,\n",
    "    'min_samples_split': 5,\n",
    "    'min_samples_leaf': 2,\n",
    "    'subsample': 0.8386058289444608,\n",
    "    'random_state': SEED,\n",
    "}"
   ]
  },
  {
   "cell_type": "code",
   "execution_count": 6,
   "id": "5c7366fa",
   "metadata": {
    "execution": {
     "iopub.execute_input": "2024-04-11T04:01:47.157114Z",
     "iopub.status.busy": "2024-04-11T04:01:47.156738Z",
     "iopub.status.idle": "2024-04-11T09:11:15.466259Z",
     "shell.execute_reply": "2024-04-11T09:11:15.462577Z"
    },
    "papermill": {
     "duration": 18568.323099,
     "end_time": "2024-04-11T09:11:15.473848",
     "exception": false,
     "start_time": "2024-04-11T04:01:47.150749",
     "status": "completed"
    },
    "tags": []
   },
   "outputs": [
    {
     "name": "stdout",
     "output_type": "stream",
     "text": [
      "XGB:    0.14828680025204577\n",
      "CB:     0.1475879632917944\n",
      "LGBM:   0.1477611444102072\n",
      "GB:     0.14779814346857467\n"
     ]
    }
   ],
   "source": [
    "xgb_model = XGBRegressor(**xgb_params)\n",
    "xgb_scores, xgb_oof_preds = train(xgb_model, X, y)\n",
    "print(f'XGB:    {np.mean(xgb_scores)}')\n",
    "\n",
    "cb_model = CatBoostRegressor(**cb_params)\n",
    "cb_scores, cb_oof_preds = train(cb_model, X, y)\n",
    "print(f'CB:     {np.mean(cb_scores)}')\n",
    "\n",
    "lgbm_model = LGBMRegressor(**lgbm_params)\n",
    "lgbm_scores, lgbm_oof_preds = train(lgbm_model, X, y)\n",
    "print(f'LGBM:   {np.mean(lgbm_scores)}')\n",
    "\n",
    "gb_model = GradientBoostingRegressor(**gb_params)\n",
    "gb_scores, gb_oof_preds = train(gb_model, X, y)\n",
    "print(f'GB:     {np.mean(gb_scores)}')"
   ]
  },
  {
   "cell_type": "markdown",
   "id": "ad02165c",
   "metadata": {
    "papermill": {
     "duration": 0.006855,
     "end_time": "2024-04-11T09:11:15.488417",
     "exception": false,
     "start_time": "2024-04-11T09:11:15.481562",
     "status": "completed"
    },
    "tags": []
   },
   "source": [
    "# Ensembling Base Learners"
   ]
  },
  {
   "cell_type": "code",
   "execution_count": 7,
   "id": "fb19e308",
   "metadata": {
    "execution": {
     "iopub.execute_input": "2024-04-11T09:11:15.506711Z",
     "iopub.status.busy": "2024-04-11T09:11:15.500304Z",
     "iopub.status.idle": "2024-04-11T09:11:15.512745Z",
     "shell.execute_reply": "2024-04-11T09:11:15.511621Z"
    },
    "papermill": {
     "duration": 0.021772,
     "end_time": "2024-04-11T09:11:15.515214",
     "exception": false,
     "start_time": "2024-04-11T09:11:15.493442",
     "status": "completed"
    },
    "tags": []
   },
   "outputs": [],
   "source": [
    "estimators = [\n",
    "    ('xgb', xgb_model),\n",
    "    ('cb', cb_model),\n",
    "    ('lgbm', lgbm_model),\n",
    "    ('gb', gb_model)\n",
    "]"
   ]
  },
  {
   "cell_type": "code",
   "execution_count": 8,
   "id": "8af15d22",
   "metadata": {
    "_kg_hide-input": true,
    "_kg_hide-output": true,
    "execution": {
     "iopub.execute_input": "2024-04-11T09:11:15.527477Z",
     "iopub.status.busy": "2024-04-11T09:11:15.526981Z",
     "iopub.status.idle": "2024-04-11T09:11:15.533387Z",
     "shell.execute_reply": "2024-04-11T09:11:15.532364Z"
    },
    "papermill": {
     "duration": 0.015111,
     "end_time": "2024-04-11T09:11:15.535391",
     "exception": false,
     "start_time": "2024-04-11T09:11:15.520280",
     "status": "completed"
    },
    "tags": []
   },
   "outputs": [],
   "source": [
    "# def objective(trial):\n",
    "#     params = {\n",
    "#         'xgb_weight': trial.suggest_float('xgb_weight', 0.0, 1.0),\n",
    "#         'cb_weight': trial.suggest_float('cb_weight', 0.0, 1.0),\n",
    "#         'lgbm_weight': trial.suggest_float('lgbm_weight', 0.0, 1.0),\n",
    "#         'gb_weight': trial.suggest_float('gb_weight', 0.0, 1.0),\n",
    "#     }\n",
    "\n",
    "#     weights = [\n",
    "#         params['xgb_weight'],\n",
    "#         params['cb_weight'],\n",
    "#         params['lgbm_weight'],\n",
    "#         params['gb_weight']\n",
    "#     ]\n",
    "#     weights /= np.sum(weights)\n",
    "\n",
    "#     voter = VotingRegressor(estimators=estimators, weights=weights, n_jobs=-1)\n",
    "#     scores, _ = train(voter, X, y, 1)\n",
    "    \n",
    "#     return np.mean(scores)\n",
    "\n",
    "# study = optuna.create_study(direction='minimize')\n",
    "# study.optimize(objective, n_trials=1000)\n",
    "\n",
    "# best_weights = study.best_params\n",
    "# weights = [\n",
    "#     best_weights['xgb_weight'],\n",
    "#     best_weights['cb_weight'],\n",
    "#     best_weights['lgbm_weight'],\n",
    "#     best_weights['gb_weight']\n",
    "# ]\n",
    "\n",
    "# weights /= np.sum(weights)\n",
    "# print(f'\\nBest Weights: {list(weights)}')\n",
    "\n",
    "weights = [0.18844250545656566, 0.6422423960522606, 0.1688203675689123, 0.0004947309222612189]"
   ]
  },
  {
   "cell_type": "code",
   "execution_count": 9,
   "id": "2604d16f",
   "metadata": {
    "execution": {
     "iopub.execute_input": "2024-04-11T09:11:15.548226Z",
     "iopub.status.busy": "2024-04-11T09:11:15.547528Z",
     "iopub.status.idle": "2024-04-11T10:13:59.748384Z",
     "shell.execute_reply": "2024-04-11T10:13:59.746999Z"
    },
    "papermill": {
     "duration": 3764.218655,
     "end_time": "2024-04-11T10:13:59.759582",
     "exception": false,
     "start_time": "2024-04-11T09:11:15.540927",
     "status": "completed"
    },
    "tags": []
   },
   "outputs": [
    {
     "name": "stdout",
     "output_type": "stream",
     "text": [
      "Voter: 0.14761931025167493\n"
     ]
    }
   ],
   "source": [
    "voter = VotingRegressor(estimators=estimators, weights=weights, n_jobs=-1)\n",
    "voter_scores, oof_preds = train(voter, X, y, N_SPLITS, 1)\n",
    "\n",
    "print(f'Voter: {np.mean(voter_scores)}')"
   ]
  },
  {
   "cell_type": "markdown",
   "id": "23737384",
   "metadata": {
    "papermill": {
     "duration": 0.004629,
     "end_time": "2024-04-11T10:13:59.771168",
     "exception": false,
     "start_time": "2024-04-11T10:13:59.766539",
     "status": "completed"
    },
    "tags": []
   },
   "source": [
    "# Results"
   ]
  },
  {
   "cell_type": "code",
   "execution_count": 10,
   "id": "2dbd3b8c",
   "metadata": {
    "_kg_hide-input": true,
    "execution": {
     "iopub.execute_input": "2024-04-11T10:13:59.783134Z",
     "iopub.status.busy": "2024-04-11T10:13:59.782625Z",
     "iopub.status.idle": "2024-04-11T10:14:00.496005Z",
     "shell.execute_reply": "2024-04-11T10:14:00.495272Z"
    },
    "papermill": {
     "duration": 0.723298,
     "end_time": "2024-04-11T10:14:00.499341",
     "exception": false,
     "start_time": "2024-04-11T10:13:59.776043",
     "status": "completed"
    },
    "tags": []
   },
   "outputs": [
    {
     "data": {
      "image/png": "[encoded data removed]",
      "text/plain": [
       "<Figure size 1500x600 with 2 Axes>"
      ]
     },
     "metadata": {},
     "output_type": "display_data"
    }
   ],
   "source": [
    "scores = pd.DataFrame({\n",
    "    'XGB': xgb_scores,\n",
    "    'CB': cb_scores,\n",
    "    'LGBM': lgbm_scores,\n",
    "    'GB': gb_scores,\n",
    "    'Voter': voter_scores\n",
    "})\n",
    "scores = scores[scores.mean().sort_values().index]\n",
    "\n",
    "fig, axes = plt.subplots(1, 2, figsize=(15, 6))\n",
    "sns.boxplot(data=scores, ax=axes[0], palette='viridis')\n",
    "axes[0].set_title('Fold Scores')\n",
    "axes[0].set_xlabel('')\n",
    "axes[0].set_ylabel('')\n",
    "mean_scores = scores.mean().sort_values()\n",
    "sns.barplot(x=mean_scores, y=mean_scores.index, orient='h', ax=axes[1], palette='viridis')\n",
    "axes[1].set_title('Mean Scores')\n",
    "axes[1].set_xlabel('')\n",
    "axes[1].set_ylabel('')\n",
    "axes[1].set_xlim(left=0.145, right=0.15)\n",
    "plt.tight_layout()\n",
    "plt.show()"
   ]
  },
  {
   "cell_type": "markdown",
   "id": "d915234a",
   "metadata": {
    "papermill": {
     "duration": 0.008244,
     "end_time": "2024-04-11T10:14:00.516703",
     "exception": false,
     "start_time": "2024-04-11T10:14:00.508459",
     "status": "completed"
    },
    "tags": []
   },
   "source": [
    "# Blending Results"
   ]
  },
  {
   "cell_type": "code",
   "execution_count": 11,
   "id": "b26c4259",
   "metadata": {
    "execution": {
     "iopub.execute_input": "2024-04-11T10:14:00.538276Z",
     "iopub.status.busy": "2024-04-11T10:14:00.537539Z",
     "iopub.status.idle": "2024-04-11T10:21:18.702735Z",
     "shell.execute_reply": "2024-04-11T10:21:18.701922Z"
    },
    "papermill": {
     "duration": 438.184777,
     "end_time": "2024-04-11T10:21:18.710182",
     "exception": false,
     "start_time": "2024-04-11T10:14:00.525405",
     "status": "completed"
    },
    "tags": []
   },
   "outputs": [
    {
     "data": {
      "text/html": [
       "<div>\n",
       "<style scoped>\n",
       "    .dataframe tbody tr th:only-of-type {\n",
       "        vertical-align: middle;\n",
       "    }\n",
       "\n",
       "    .dataframe tbody tr th {\n",
       "        vertical-align: top;\n",
       "    }\n",
       "\n",
       "    .dataframe thead th {\n",
       "        text-align: right;\n",
       "    }\n",
       "</style>\n",
       "<table border=\"1\" class=\"dataframe\">\n",
       "  <thead>\n",
       "    <tr style=\"text-align: right;\">\n",
       "      <th></th>\n",
       "      <th>id</th>\n",
       "      <th>Rings</th>\n",
       "    </tr>\n",
       "  </thead>\n",
       "  <tbody>\n",
       "    <tr>\n",
       "      <th>0</th>\n",
       "      <td>90615</td>\n",
       "      <td>9.644732</td>\n",
       "    </tr>\n",
       "    <tr>\n",
       "      <th>1</th>\n",
       "      <td>90616</td>\n",
       "      <td>9.729330</td>\n",
       "    </tr>\n",
       "    <tr>\n",
       "      <th>2</th>\n",
       "      <td>90617</td>\n",
       "      <td>9.912553</td>\n",
       "    </tr>\n",
       "    <tr>\n",
       "      <th>3</th>\n",
       "      <td>90618</td>\n",
       "      <td>10.315910</td>\n",
       "    </tr>\n",
       "    <tr>\n",
       "      <th>4</th>\n",
       "      <td>90619</td>\n",
       "      <td>7.562928</td>\n",
       "    </tr>\n",
       "  </tbody>\n",
       "</table>\n",
       "</div>"
      ],
      "text/plain": [
       "      id      Rings\n",
       "0  90615   9.644732\n",
       "1  90616   9.729330\n",
       "2  90617   9.912553\n",
       "3  90618  10.315910\n",
       "4  90619   7.562928"
      ]
     },
     "execution_count": 11,
     "metadata": {},
     "output_type": "execute_result"
    }
   ],
   "source": [
    "y_pred = predict(voter, X, y, test, 1)\n",
    "\n",
    "voter_sub = pd.DataFrame({'id': test.index, 'Rings': y_pred})\n",
    "voter_sub.to_csv(f'voter_{np.mean(voter_scores):.6f}.csv', index=False)\n",
    "voter_sub.head()"
   ]
  },
  {
   "cell_type": "code",
   "execution_count": 12,
   "id": "22cd03ff",
   "metadata": {
    "execution": {
     "iopub.execute_input": "2024-04-11T10:21:18.723299Z",
     "iopub.status.busy": "2024-04-11T10:21:18.722732Z",
     "iopub.status.idle": "2024-04-11T10:21:18.941293Z",
     "shell.execute_reply": "2024-04-11T10:21:18.940574Z"
    },
    "papermill": {
     "duration": 0.227345,
     "end_time": "2024-04-11T10:21:18.943267",
     "exception": false,
     "start_time": "2024-04-11T10:21:18.715922",
     "status": "completed"
    },
    "tags": []
   },
   "outputs": [
    {
     "data": {
      "text/html": [
       "<div>\n",
       "<style scoped>\n",
       "    .dataframe tbody tr th:only-of-type {\n",
       "        vertical-align: middle;\n",
       "    }\n",
       "\n",
       "    .dataframe tbody tr th {\n",
       "        vertical-align: top;\n",
       "    }\n",
       "\n",
       "    .dataframe thead th {\n",
       "        text-align: right;\n",
       "    }\n",
       "</style>\n",
       "<table border=\"1\" class=\"dataframe\">\n",
       "  <thead>\n",
       "    <tr style=\"text-align: right;\">\n",
       "      <th></th>\n",
       "      <th>id</th>\n",
       "      <th>Rings</th>\n",
       "    </tr>\n",
       "  </thead>\n",
       "  <tbody>\n",
       "    <tr>\n",
       "      <th>0</th>\n",
       "      <td>90615</td>\n",
       "      <td>9.723145</td>\n",
       "    </tr>\n",
       "    <tr>\n",
       "      <th>1</th>\n",
       "      <td>90616</td>\n",
       "      <td>9.705260</td>\n",
       "    </tr>\n",
       "    <tr>\n",
       "      <th>2</th>\n",
       "      <td>90617</td>\n",
       "      <td>9.828235</td>\n",
       "    </tr>\n",
       "    <tr>\n",
       "      <th>3</th>\n",
       "      <td>90618</td>\n",
       "      <td>10.432576</td>\n",
       "    </tr>\n",
       "    <tr>\n",
       "      <th>4</th>\n",
       "      <td>90619</td>\n",
       "      <td>7.583635</td>\n",
       "    </tr>\n",
       "  </tbody>\n",
       "</table>\n",
       "</div>"
      ],
      "text/plain": [
       "      id      Rings\n",
       "0  90615   9.723145\n",
       "1  90616   9.705260\n",
       "2  90617   9.828235\n",
       "3  90618  10.432576\n",
       "4  90619   7.583635"
      ]
     },
     "execution_count": 12,
     "metadata": {},
     "output_type": "execute_result"
    }
   ],
   "source": [
    "best_public_lb_sub = pd.read_csv('/kaggle/input/ps4e4-abalone-age-prediction-regression/submission_comb.csv')\n",
    "\n",
    "voter_lb_sub = voter_sub.copy()\n",
    "voter_lb_sub['Rings'] = (best_public_lb_sub['Rings'] + voter_sub['Rings']) / 2\n",
    "voter_lb_sub.to_csv(f'voter_lb.csv', index=False)\n",
    "voter_lb_sub.head()"
   ]
  },
  {
   "cell_type": "code",
   "execution_count": null,
   "id": "3660bb8a",
   "metadata": {
    "papermill": {
     "duration": 0.005482,
     "end_time": "2024-04-11T10:21:18.955258",
     "exception": false,
     "start_time": "2024-04-11T10:21:18.949776",
     "status": "completed"
    },
    "tags": []
   },
   "outputs": [],
   "source": []
  }
 ],
 "metadata": {
  "kaggle": {
   "accelerator": "none",
   "dataSources": [
    {
     "databundleVersionId": 8096274,
     "sourceId": 72489,
     "sourceType": "competition"
    },
    {
     "sourceId": 170519560,
     "sourceType": "kernelVersion"
    },
    {
     "sourceId": 171268630,
     "sourceType": "kernelVersion"
    }
   ],
   "dockerImageVersionId": 30684,
   "isGpuEnabled": false,
   "isInternetEnabled": true,
   "language": "python",
   "sourceType": "notebook"
  },
  "kernelspec": {
   "display_name": "Python 3",
   "language": "python",
   "name": "python3"
  },
  "language_info": {
   "codemirror_mode": {
    "name": "ipython",
    "version": 3
   },
   "file_extension": ".py",
   "mimetype": "text/x-python",
   "name": "python",
   "nbconvert_exporter": "python",
   "pygments_lexer": "ipython3",
   "version": "3.10.13"
  },
  "papermill": {
   "default_parameters": {},
   "duration": 22779.955453,
   "end_time": "2024-04-11T10:21:19.716901",
   "environment_variables": {},
   "exception": null,
   "input_path": "__notebook__.ipynb",
   "output_path": "__notebook__.ipynb",
   "parameters": {},
   "start_time": "2024-04-11T04:01:39.761448",
   "version": "2.5.0"
  }
 },
 "nbformat": 4,
 "nbformat_minor": 5
}
