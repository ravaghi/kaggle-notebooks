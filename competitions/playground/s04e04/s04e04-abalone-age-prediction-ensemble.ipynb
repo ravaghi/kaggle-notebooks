{
 "cells": [
  {
   "cell_type": "code",
   "execution_count": 1,
   "id": "fbb6506f",
   "metadata": {
    "_cell_guid": "b1076dfc-b9ad-4769-8c92-a6c4dae69d19",
    "_uuid": "8f2839f25d086af736a60e9eeb907d3b93b6e0e5",
    "execution": {
     "iopub.execute_input": "2024-04-12T16:58:18.225157Z",
     "iopub.status.busy": "2024-04-12T16:58:18.224487Z",
     "iopub.status.idle": "2024-04-12T16:58:22.847254Z",
     "shell.execute_reply": "2024-04-12T16:58:22.845914Z"
    },
    "papermill": {
     "duration": 4.632773,
     "end_time": "2024-04-12T16:58:22.850166",
     "exception": false,
     "start_time": "2024-04-12T16:58:18.217393",
     "status": "completed"
    },
    "tags": []
   },
   "outputs": [],
   "source": [
    "import pandas as pd\n",
    "import numpy as np\n",
    "import warnings\n",
    "import optuna\n",
    "import matplotlib.pyplot as plt\n",
    "import seaborn as sns\n",
    "from sklearn.model_selection import StratifiedKFold\n",
    "from sklearn.metrics import mean_squared_log_error\n",
    "from sklearn.base import clone\n",
    "from sklearn.compose import TransformedTargetRegressor\n",
    "from sklearn.ensemble import GradientBoostingRegressor, VotingRegressor\n",
    "from xgboost import XGBRegressor\n",
    "from catboost import CatBoostRegressor\n",
    "from lightgbm import LGBMRegressor\n",
    "\n",
    "warnings.filterwarnings('ignore')"
   ]
  },
  {
   "cell_type": "code",
   "execution_count": 2,
   "id": "fc8e6970",
   "metadata": {
    "execution": {
     "iopub.execute_input": "2024-04-12T16:58:22.862382Z",
     "iopub.status.busy": "2024-04-12T16:58:22.861815Z",
     "iopub.status.idle": "2024-04-12T16:58:22.867666Z",
     "shell.execute_reply": "2024-04-12T16:58:22.866636Z"
    },
    "papermill": {
     "duration": 0.014668,
     "end_time": "2024-04-12T16:58:22.870223",
     "exception": false,
     "start_time": "2024-04-12T16:58:22.855555",
     "status": "completed"
    },
    "tags": []
   },
   "outputs": [],
   "source": [
    "SEED = 27\n",
    "N_SPLITS = 10\n",
    "N_REPEATS = 5"
   ]
  },
  {
   "cell_type": "markdown",
   "id": "e94c2611",
   "metadata": {
    "papermill": {
     "duration": 0.004656,
     "end_time": "2024-04-12T16:58:22.879853",
     "exception": false,
     "start_time": "2024-04-12T16:58:22.875197",
     "status": "completed"
    },
    "tags": []
   },
   "source": [
    "# Loading and Processing Data"
   ]
  },
  {
   "cell_type": "code",
   "execution_count": 3,
   "id": "e0018a93",
   "metadata": {
    "execution": {
     "iopub.execute_input": "2024-04-12T16:58:22.891082Z",
     "iopub.status.busy": "2024-04-12T16:58:22.890728Z",
     "iopub.status.idle": "2024-04-12T16:58:23.176151Z",
     "shell.execute_reply": "2024-04-12T16:58:23.174950Z"
    },
    "papermill": {
     "duration": 0.294057,
     "end_time": "2024-04-12T16:58:23.178748",
     "exception": false,
     "start_time": "2024-04-12T16:58:22.884691",
     "status": "completed"
    },
    "tags": []
   },
   "outputs": [],
   "source": [
    "train = pd.read_csv('/kaggle/input/playground-series-s4e4/train.csv', index_col='id')\n",
    "test = pd.read_csv('/kaggle/input/playground-series-s4e4/test.csv', index_col='id')\n",
    "\n",
    "train['Sex'] = train['Sex'].map({'M': 0, 'F': 1, 'I': 2})\n",
    "test['Sex'] = test['Sex'].map({'M': 0, 'F': 1, 'I': 2})\n",
    "\n",
    "X = train.drop(columns='Rings')\n",
    "y = train['Rings']"
   ]
  },
  {
   "cell_type": "markdown",
   "id": "d8b759d7",
   "metadata": {
    "papermill": {
     "duration": 0.004524,
     "end_time": "2024-04-12T16:58:23.188220",
     "exception": false,
     "start_time": "2024-04-12T16:58:23.183696",
     "status": "completed"
    },
    "tags": []
   },
   "source": [
    "# Training Base Models"
   ]
  },
  {
   "cell_type": "code",
   "execution_count": 4,
   "id": "810a9c26",
   "metadata": {
    "execution": {
     "iopub.execute_input": "2024-04-12T16:58:23.199309Z",
     "iopub.status.busy": "2024-04-12T16:58:23.198975Z",
     "iopub.status.idle": "2024-04-12T16:58:23.210184Z",
     "shell.execute_reply": "2024-04-12T16:58:23.208939Z"
    },
    "papermill": {
     "duration": 0.019488,
     "end_time": "2024-04-12T16:58:23.212534",
     "exception": false,
     "start_time": "2024-04-12T16:58:23.193046",
     "status": "completed"
    },
    "tags": []
   },
   "outputs": [],
   "source": [
    "def train(regressor, X, y, n_splits=N_SPLITS, n_repeats=N_REPEATS):\n",
    "    skf = StratifiedKFold(n_splits=n_splits, shuffle=True, random_state=SEED)\n",
    "    \n",
    "    model = TransformedTargetRegressor(\n",
    "        regressor=regressor,\n",
    "        func=np.log1p,\n",
    "        inverse_func=np.expm1\n",
    "    )\n",
    "    \n",
    "    oof_preds = np.zeros(len(X), dtype=float)\n",
    "    scores = []\n",
    "    for train_idx, val_idx in skf.split(X, y):\n",
    "        X_train, X_val = X.iloc[train_idx], X.iloc[val_idx]\n",
    "        y_train, y_val = y.iloc[train_idx], y.iloc[val_idx]\n",
    "        \n",
    "        y_pred = np.zeros_like(y_val, dtype=float)\n",
    "        for i in range(n_repeats):\n",
    "            m = clone(model)\n",
    "            if n_repeats > 1:\n",
    "                m.regressor.set_params(random_state=i)\n",
    "            m.fit(X_train, y_train)\n",
    "            y_pred += m.predict(X_val)\n",
    "            \n",
    "        y_pred /= n_repeats\n",
    "        y_pred = y_pred.clip(1, 29)\n",
    "        \n",
    "        score = mean_squared_log_error(y_val, y_pred, squared=False)\n",
    "        scores.append(score)        \n",
    "        oof_preds[val_idx] = y_pred\n",
    "    \n",
    "    return scores, oof_preds\n",
    "\n",
    "def predict(regressor, X, y, X_test, n_repeats=N_REPEATS):\n",
    "    model = TransformedTargetRegressor(\n",
    "        regressor=regressor,\n",
    "        func=np.log1p,\n",
    "        inverse_func=np.expm1\n",
    "    )\n",
    "    \n",
    "    y_pred = np.zeros(len(X_test), dtype=float)\n",
    "    for i in range(n_repeats):\n",
    "        m = clone(model)\n",
    "        if n_repeats > 1:\n",
    "            m.regressor.set_params(random_state=i)\n",
    "        m.fit(X, y)\n",
    "        y_pred += m.predict(X_test)\n",
    "    y_pred /= n_repeats\n",
    "    y_pred = y_pred.clip(1, 29)\n",
    "    return y_pred"
   ]
  },
  {
   "cell_type": "code",
   "execution_count": 5,
   "id": "3b962688",
   "metadata": {
    "_kg_hide-input": true,
    "execution": {
     "iopub.execute_input": "2024-04-12T16:58:23.225338Z",
     "iopub.status.busy": "2024-04-12T16:58:23.224450Z",
     "iopub.status.idle": "2024-04-12T16:58:23.234267Z",
     "shell.execute_reply": "2024-04-12T16:58:23.233066Z"
    },
    "papermill": {
     "duration": 0.018321,
     "end_time": "2024-04-12T16:58:23.236306",
     "exception": false,
     "start_time": "2024-04-12T16:58:23.217985",
     "status": "completed"
    },
    "tags": []
   },
   "outputs": [],
   "source": [
    "xgb_params = {\n",
    "    'n_jobs': -1,\n",
    "    'max_depth': 6,\n",
    "    'n_estimators': 1942,\n",
    "    'random_state': SEED,\n",
    "    'min_child_weight': 1,\n",
    "    'gamma': 0.03564293452391207,\n",
    "    'subsample': 0.6956271823055759,\n",
    "    'reg_alpha': 0.7236848478280202,\n",
    "    'reg_lambda': 0.6760094001242347,\n",
    "    'learning_rate': 0.04328457758575266,\n",
    "    'colsample_bynode': 0.962341555268564,\n",
    "    'colsample_bytree': 0.7506537997746077,\n",
    "    'colsample_bylevel': 0.8727635788126956,\n",
    "}\n",
    "\n",
    "cb_params = {\n",
    "    'depth': 15, \n",
    "    'verbose': 0,\n",
    "    'max_bin': 464, \n",
    "    'verbose': False,\n",
    "    'random_state':SEED,\n",
    "    'task_type': 'CPU', \n",
    "    'random_state': SEED,\n",
    "    'eval_metric': 'RMSE', \n",
    "    'min_data_in_leaf': 78, \n",
    "    'loss_function': 'RMSE', \n",
    "    'grow_policy': 'Lossguide', \n",
    "    'bootstrap_type': 'Bernoulli', \n",
    "    'subsample': 0.83862137638162, \n",
    "    'l2_leaf_reg': 8.365422739510098, \n",
    "    'random_strength': 3.296124856352495, \n",
    "    'learning_rate': 0.09992185242598203,\n",
    "}\n",
    "\n",
    "lgbm_params = {\n",
    "    'n_jobs': -1,\n",
    "    'verbose': -1,\n",
    "    'max_depth': 20,\n",
    "    'num_leaves': 165,\n",
    "    'subsample_freq': 1,\n",
    "    'random_state': SEED,\n",
    "    'n_estimators': 1460,\n",
    "    'min_child_samples': 25,\n",
    "    'reg_lambda': 6.13475387151606,\n",
    "    'subsample': 0.8036874216939632,\n",
    "    'reg_alpha': 0.3152990674231573,\n",
    "    'learning_rate': 0.009336479469693189,\n",
    "    'colsample_bytree': 0.5780931837049811,\n",
    "    'min_child_weight': 0.37333232256934057,\n",
    "}\n",
    "\n",
    "gb_params = {\n",
    "    'max_depth': 7,\n",
    "    'random_state': SEED,\n",
    "    'n_estimators': 1520,\n",
    "    'min_samples_leaf': 2,\n",
    "    'min_samples_split': 5,\n",
    "    'subsample': 0.8386058289444608,\n",
    "    'learning_rate': 0.021568657897174062,\n",
    "}"
   ]
  },
  {
   "cell_type": "code",
   "execution_count": 6,
   "id": "6cbf10da",
   "metadata": {
    "execution": {
     "iopub.execute_input": "2024-04-12T16:58:23.247919Z",
     "iopub.status.busy": "2024-04-12T16:58:23.247035Z",
     "iopub.status.idle": "2024-04-12T22:14:14.758349Z",
     "shell.execute_reply": "2024-04-12T22:14:14.757611Z"
    },
    "papermill": {
     "duration": 18951.528276,
     "end_time": "2024-04-12T22:14:14.769409",
     "exception": false,
     "start_time": "2024-04-12T16:58:23.241133",
     "status": "completed"
    },
    "tags": []
   },
   "outputs": [
    {
     "name": "stdout",
     "output_type": "stream",
     "text": [
      "XGB:    0.14828680025204577\n",
      "CB:     0.1475879632917944\n",
      "LGBM:   0.1477611444102072\n",
      "GB:     0.14779814346857467\n"
     ]
    }
   ],
   "source": [
    "xgb_model = XGBRegressor(**xgb_params)\n",
    "xgb_scores, xgb_oof_preds = train(xgb_model, X, y)\n",
    "print(f'XGB:    {np.mean(xgb_scores)}')\n",
    "\n",
    "cb_model = CatBoostRegressor(**cb_params)\n",
    "cb_scores, cb_oof_preds = train(cb_model, X, y)\n",
    "print(f'CB:     {np.mean(cb_scores)}')\n",
    "\n",
    "lgbm_model = LGBMRegressor(**lgbm_params)\n",
    "lgbm_scores, lgbm_oof_preds = train(lgbm_model, X, y)\n",
    "print(f'LGBM:   {np.mean(lgbm_scores)}')\n",
    "\n",
    "gb_model = GradientBoostingRegressor(**gb_params)\n",
    "gb_scores, gb_oof_preds = train(gb_model, X, y)\n",
    "print(f'GB:     {np.mean(gb_scores)}')"
   ]
  },
  {
   "cell_type": "markdown",
   "id": "62037b06",
   "metadata": {
    "papermill": {
     "duration": 0.004692,
     "end_time": "2024-04-12T22:14:14.779106",
     "exception": false,
     "start_time": "2024-04-12T22:14:14.774414",
     "status": "completed"
    },
    "tags": []
   },
   "source": [
    "# Ensembling Base Learners"
   ]
  },
  {
   "cell_type": "code",
   "execution_count": 7,
   "id": "f7c12df5",
   "metadata": {
    "execution": {
     "iopub.execute_input": "2024-04-12T22:14:14.790628Z",
     "iopub.status.busy": "2024-04-12T22:14:14.790107Z",
     "iopub.status.idle": "2024-04-12T22:14:14.793872Z",
     "shell.execute_reply": "2024-04-12T22:14:14.793226Z"
    },
    "papermill": {
     "duration": 0.012233,
     "end_time": "2024-04-12T22:14:14.796151",
     "exception": false,
     "start_time": "2024-04-12T22:14:14.783918",
     "status": "completed"
    },
    "tags": []
   },
   "outputs": [],
   "source": [
    "estimators = [\n",
    "    ('xgb', xgb_model),\n",
    "    ('cb', cb_model),\n",
    "    ('lgbm', lgbm_model),\n",
    "    ('gb', gb_model)\n",
    "]"
   ]
  },
  {
   "cell_type": "code",
   "execution_count": 8,
   "id": "31e55cab",
   "metadata": {
    "_kg_hide-input": true,
    "_kg_hide-output": true,
    "execution": {
     "iopub.execute_input": "2024-04-12T22:14:14.819965Z",
     "iopub.status.busy": "2024-04-12T22:14:14.819429Z",
     "iopub.status.idle": "2024-04-12T22:14:14.825230Z",
     "shell.execute_reply": "2024-04-12T22:14:14.824350Z"
    },
    "papermill": {
     "duration": 0.023667,
     "end_time": "2024-04-12T22:14:14.827349",
     "exception": false,
     "start_time": "2024-04-12T22:14:14.803682",
     "status": "completed"
    },
    "tags": []
   },
   "outputs": [],
   "source": [
    "# def objective(trial):\n",
    "#     params = {\n",
    "#         'xgb_weight': trial.suggest_float('xgb_weight', 0.0, 1.0),\n",
    "#         'cb_weight': trial.suggest_float('cb_weight', 0.0, 1.0),\n",
    "#         'lgbm_weight': trial.suggest_float('lgbm_weight', 0.0, 1.0),\n",
    "#         'gb_weight': trial.suggest_float('gb_weight', 0.0, 1.0),\n",
    "#     }\n",
    "\n",
    "#     weights = [\n",
    "#         params['xgb_weight'],\n",
    "#         params['cb_weight'],\n",
    "#         params['lgbm_weight'],\n",
    "#         params['gb_weight']\n",
    "#     ]\n",
    "#     weights /= np.sum(weights)\n",
    "\n",
    "#     voter = VotingRegressor(estimators=estimators, weights=weights, n_jobs=-1)\n",
    "#     scores, _ = train(voter, X, y, 1)\n",
    "    \n",
    "#     return np.mean(scores)\n",
    "\n",
    "# study = optuna.create_study(direction='minimize')\n",
    "# study.optimize(objective, n_trials=1000)\n",
    "\n",
    "# best_weights = study.best_params\n",
    "# weights = [\n",
    "#     best_weights['xgb_weight'],\n",
    "#     best_weights['cb_weight'],\n",
    "#     best_weights['lgbm_weight'],\n",
    "#     best_weights['gb_weight']\n",
    "# ]\n",
    "\n",
    "# weights /= np.sum(weights)\n",
    "# print(f'\\nBest Weights: {list(weights)}')\n",
    "\n",
    "# weights = [0.08844250545656566, 0.6322423960522606, 0.2688203675689123, 0.0104947309222612189]\n",
    "weights = [0.25072415, 0.24954255, 0.24983537, 0.24989793]"
   ]
  },
  {
   "cell_type": "code",
   "execution_count": 9,
   "id": "36e6eb65",
   "metadata": {
    "execution": {
     "iopub.execute_input": "2024-04-12T22:14:14.839008Z",
     "iopub.status.busy": "2024-04-12T22:14:14.838619Z",
     "iopub.status.idle": "2024-04-12T23:17:16.238106Z",
     "shell.execute_reply": "2024-04-12T23:17:16.237052Z"
    },
    "papermill": {
     "duration": 3781.41361,
     "end_time": "2024-04-12T23:17:16.245937",
     "exception": false,
     "start_time": "2024-04-12T22:14:14.832327",
     "status": "completed"
    },
    "tags": []
   },
   "outputs": [
    {
     "name": "stdout",
     "output_type": "stream",
     "text": [
      "Ensemble: 0.14746470916097384\n"
     ]
    }
   ],
   "source": [
    "voter = VotingRegressor(estimators=estimators, weights=weights, n_jobs=-1)\n",
    "voter_scores, oof_preds = train(voter, X, y, N_SPLITS, 1)\n",
    "\n",
    "print(f'Ensemble: {np.mean(voter_scores)}')"
   ]
  },
  {
   "cell_type": "markdown",
   "id": "1fba80ed",
   "metadata": {
    "papermill": {
     "duration": 0.004831,
     "end_time": "2024-04-12T23:17:16.255787",
     "exception": false,
     "start_time": "2024-04-12T23:17:16.250956",
     "status": "completed"
    },
    "tags": []
   },
   "source": [
    "# Results"
   ]
  },
  {
   "cell_type": "code",
   "execution_count": 10,
   "id": "31ca4aff",
   "metadata": {
    "_kg_hide-input": true,
    "execution": {
     "iopub.execute_input": "2024-04-12T23:17:16.267646Z",
     "iopub.status.busy": "2024-04-12T23:17:16.267278Z",
     "iopub.status.idle": "2024-04-12T23:17:16.779919Z",
     "shell.execute_reply": "2024-04-12T23:17:16.778929Z"
    },
    "papermill": {
     "duration": 0.521854,
     "end_time": "2024-04-12T23:17:16.782567",
     "exception": false,
     "start_time": "2024-04-12T23:17:16.260713",
     "status": "completed"
    },
    "tags": []
   },
   "outputs": [
    {
     "data": {
      "image/png": "[encoded data removed]",
      "text/plain": [
       "<Figure size 1500x600 with 2 Axes>"
      ]
     },
     "metadata": {},
     "output_type": "display_data"
    }
   ],
   "source": [
    "scores = pd.DataFrame({\n",
    "    'XGB': xgb_scores,\n",
    "    'CB': cb_scores,\n",
    "    'LGBM': lgbm_scores,\n",
    "    'GB': gb_scores,\n",
    "    'Ensemble': voter_scores\n",
    "})\n",
    "scores = scores[scores.mean().sort_values().index]\n",
    "\n",
    "fig, axes = plt.subplots(1, 2, figsize=(15, 6))\n",
    "sns.boxplot(data=scores, ax=axes[0], palette='viridis')\n",
    "axes[0].set_title('Fold Scores')\n",
    "axes[0].set_xlabel('')\n",
    "axes[0].set_ylabel('')\n",
    "mean_scores = scores.mean().sort_values()\n",
    "sns.barplot(x=mean_scores, y=mean_scores.index, orient='h', ax=axes[1], palette='viridis')\n",
    "axes[1].set_title('Mean Scores')\n",
    "axes[1].set_xlabel('')\n",
    "axes[1].set_ylabel('')\n",
    "axes[1].set_xlim(left=0.147, right=0.1485)\n",
    "plt.tight_layout()\n",
    "plt.show()"
   ]
  },
  {
   "cell_type": "markdown",
   "id": "ab6db644",
   "metadata": {
    "papermill": {
     "duration": 0.005477,
     "end_time": "2024-04-12T23:17:16.793796",
     "exception": false,
     "start_time": "2024-04-12T23:17:16.788319",
     "status": "completed"
    },
    "tags": []
   },
   "source": [
    "# Blending Results"
   ]
  },
  {
   "cell_type": "code",
   "execution_count": 11,
   "id": "8e93d882",
   "metadata": {
    "execution": {
     "iopub.execute_input": "2024-04-12T23:17:16.806657Z",
     "iopub.status.busy": "2024-04-12T23:17:16.806279Z",
     "iopub.status.idle": "2024-04-12T23:24:35.131697Z",
     "shell.execute_reply": "2024-04-12T23:24:35.130697Z"
    },
    "papermill": {
     "duration": 438.341109,
     "end_time": "2024-04-12T23:24:35.140477",
     "exception": false,
     "start_time": "2024-04-12T23:17:16.799368",
     "status": "completed"
    },
    "tags": []
   },
   "outputs": [
    {
     "data": {
      "text/html": [
       "<div>\n",
       "<style scoped>\n",
       "    .dataframe tbody tr th:only-of-type {\n",
       "        vertical-align: middle;\n",
       "    }\n",
       "\n",
       "    .dataframe tbody tr th {\n",
       "        vertical-align: top;\n",
       "    }\n",
       "\n",
       "    .dataframe thead th {\n",
       "        text-align: right;\n",
       "    }\n",
       "</style>\n",
       "<table border=\"1\" class=\"dataframe\">\n",
       "  <thead>\n",
       "    <tr style=\"text-align: right;\">\n",
       "      <th></th>\n",
       "      <th>id</th>\n",
       "      <th>Rings</th>\n",
       "    </tr>\n",
       "  </thead>\n",
       "  <tbody>\n",
       "    <tr>\n",
       "      <th>0</th>\n",
       "      <td>90615</td>\n",
       "      <td>9.767098</td>\n",
       "    </tr>\n",
       "    <tr>\n",
       "      <th>1</th>\n",
       "      <td>90616</td>\n",
       "      <td>9.748123</td>\n",
       "    </tr>\n",
       "    <tr>\n",
       "      <th>2</th>\n",
       "      <td>90617</td>\n",
       "      <td>9.910334</td>\n",
       "    </tr>\n",
       "    <tr>\n",
       "      <th>3</th>\n",
       "      <td>90618</td>\n",
       "      <td>10.382186</td>\n",
       "    </tr>\n",
       "    <tr>\n",
       "      <th>4</th>\n",
       "      <td>90619</td>\n",
       "      <td>7.575289</td>\n",
       "    </tr>\n",
       "  </tbody>\n",
       "</table>\n",
       "</div>"
      ],
      "text/plain": [
       "      id      Rings\n",
       "0  90615   9.767098\n",
       "1  90616   9.748123\n",
       "2  90617   9.910334\n",
       "3  90618  10.382186\n",
       "4  90619   7.575289"
      ]
     },
     "execution_count": 11,
     "metadata": {},
     "output_type": "execute_result"
    }
   ],
   "source": [
    "y_pred = predict(voter, X, y, test, 1)\n",
    "voter_sub = pd.DataFrame({'id': test.index, 'Rings': y_pred})\n",
    "voter_sub.to_csv(f'xgb_cb_lgbm_gb_ensemble.csv', index=False)\n",
    "voter_sub.head()"
   ]
  },
  {
   "cell_type": "code",
   "execution_count": 12,
   "id": "752123a8",
   "metadata": {
    "execution": {
     "iopub.execute_input": "2024-04-12T23:24:35.153889Z",
     "iopub.status.busy": "2024-04-12T23:24:35.153563Z",
     "iopub.status.idle": "2024-04-12T23:24:35.355632Z",
     "shell.execute_reply": "2024-04-12T23:24:35.354629Z"
    },
    "papermill": {
     "duration": 0.211496,
     "end_time": "2024-04-12T23:24:35.357876",
     "exception": false,
     "start_time": "2024-04-12T23:24:35.146380",
     "status": "completed"
    },
    "tags": []
   },
   "outputs": [
    {
     "data": {
      "text/html": [
       "<div>\n",
       "<style scoped>\n",
       "    .dataframe tbody tr th:only-of-type {\n",
       "        vertical-align: middle;\n",
       "    }\n",
       "\n",
       "    .dataframe tbody tr th {\n",
       "        vertical-align: top;\n",
       "    }\n",
       "\n",
       "    .dataframe thead th {\n",
       "        text-align: right;\n",
       "    }\n",
       "</style>\n",
       "<table border=\"1\" class=\"dataframe\">\n",
       "  <thead>\n",
       "    <tr style=\"text-align: right;\">\n",
       "      <th></th>\n",
       "      <th>id</th>\n",
       "      <th>Rings</th>\n",
       "    </tr>\n",
       "  </thead>\n",
       "  <tbody>\n",
       "    <tr>\n",
       "      <th>0</th>\n",
       "      <td>90615</td>\n",
       "      <td>9.783600</td>\n",
       "    </tr>\n",
       "    <tr>\n",
       "      <th>1</th>\n",
       "      <td>90616</td>\n",
       "      <td>9.688430</td>\n",
       "    </tr>\n",
       "    <tr>\n",
       "      <th>2</th>\n",
       "      <td>90617</td>\n",
       "      <td>9.757568</td>\n",
       "    </tr>\n",
       "    <tr>\n",
       "      <th>3</th>\n",
       "      <td>90618</td>\n",
       "      <td>10.485436</td>\n",
       "    </tr>\n",
       "    <tr>\n",
       "      <th>4</th>\n",
       "      <td>90619</td>\n",
       "      <td>7.629927</td>\n",
       "    </tr>\n",
       "  </tbody>\n",
       "</table>\n",
       "</div>"
      ],
      "text/plain": [
       "      id      Rings\n",
       "0  90615   9.783600\n",
       "1  90616   9.688430\n",
       "2  90617   9.757568\n",
       "3  90618  10.485436\n",
       "4  90619   7.629927"
      ]
     },
     "execution_count": 12,
     "metadata": {},
     "output_type": "execute_result"
    }
   ],
   "source": [
    "public_lb_best_sub = pd.read_csv('/kaggle/input/ps4e4-abalone-age-prediction-regression/submission_comb.csv')[\"Rings\"].values\n",
    "ensemble_sub = voter_sub[\"Rings\"].values\n",
    "\n",
    "ensemble_lb_sub = voter_sub.copy()\n",
    "ensemble_lb_sub[\"Rings\"] = np.average(np.c_[public_lb_best_sub, ensemble_sub], axis=1, weights=[0.9, 0.1])\n",
    "ensemble_lb_sub[\"Rings\"] = ensemble_lb_sub[\"Rings\"].clip(1, 29)\n",
    "ensemble_lb_sub[\"Rings\"] = np.where(ensemble_lb_sub[\"Rings\"].between(27.5, 29), 29, ensemble_lb_sub[\"Rings\"])\n",
    "ensemble_lb_sub.to_csv(f'xgb_cb_lgbm_gb_ensemble-public_lb_best.csv', index=False)\n",
    "ensemble_lb_sub.head()"
   ]
  },
  {
   "cell_type": "code",
   "execution_count": 13,
   "id": "aa31d04a",
   "metadata": {
    "execution": {
     "iopub.execute_input": "2024-04-12T23:24:35.371807Z",
     "iopub.status.busy": "2024-04-12T23:24:35.371506Z",
     "iopub.status.idle": "2024-04-12T23:24:35.560952Z",
     "shell.execute_reply": "2024-04-12T23:24:35.559944Z"
    },
    "papermill": {
     "duration": 0.198739,
     "end_time": "2024-04-12T23:24:35.563165",
     "exception": false,
     "start_time": "2024-04-12T23:24:35.364426",
     "status": "completed"
    },
    "tags": []
   },
   "outputs": [
    {
     "data": {
      "text/html": [
       "<div>\n",
       "<style scoped>\n",
       "    .dataframe tbody tr th:only-of-type {\n",
       "        vertical-align: middle;\n",
       "    }\n",
       "\n",
       "    .dataframe tbody tr th {\n",
       "        vertical-align: top;\n",
       "    }\n",
       "\n",
       "    .dataframe thead th {\n",
       "        text-align: right;\n",
       "    }\n",
       "</style>\n",
       "<table border=\"1\" class=\"dataframe\">\n",
       "  <thead>\n",
       "    <tr style=\"text-align: right;\">\n",
       "      <th></th>\n",
       "      <th>id</th>\n",
       "      <th>Rings</th>\n",
       "    </tr>\n",
       "  </thead>\n",
       "  <tbody>\n",
       "    <tr>\n",
       "      <th>0</th>\n",
       "      <td>90615</td>\n",
       "      <td>9.787426</td>\n",
       "    </tr>\n",
       "    <tr>\n",
       "      <th>1</th>\n",
       "      <td>90616</td>\n",
       "      <td>9.702224</td>\n",
       "    </tr>\n",
       "    <tr>\n",
       "      <th>2</th>\n",
       "      <td>90617</td>\n",
       "      <td>9.777183</td>\n",
       "    </tr>\n",
       "    <tr>\n",
       "      <th>3</th>\n",
       "      <td>90618</td>\n",
       "      <td>10.473277</td>\n",
       "    </tr>\n",
       "    <tr>\n",
       "      <th>4</th>\n",
       "      <td>90619</td>\n",
       "      <td>7.629541</td>\n",
       "    </tr>\n",
       "  </tbody>\n",
       "</table>\n",
       "</div>"
      ],
      "text/plain": [
       "      id      Rings\n",
       "0  90615   9.787426\n",
       "1  90616   9.702224\n",
       "2  90617   9.777183\n",
       "3  90618  10.473277\n",
       "4  90619   7.629541"
      ]
     },
     "execution_count": 13,
     "metadata": {},
     "output_type": "execute_result"
    }
   ],
   "source": [
    "classifier_sub = pd.read_csv('/kaggle/input/s04e04-abalone-age-prediction-classification/xgb_cb_ensemble.csv')[\"Rings\"].values\n",
    "\n",
    "ensemble_lb_classifier_sub = voter_sub.copy()\n",
    "ensemble_lb_classifier_sub[\"Rings\"] = np.average(np.c_[public_lb_best_sub, ensemble_sub, classifier_sub], axis=1, weights=[0.8, 0.1, 0.1])\n",
    "ensemble_lb_classifier_sub[\"Rings\"] = ensemble_lb_classifier_sub[\"Rings\"].clip(1, 29)\n",
    "ensemble_lb_classifier_sub[\"Rings\"] = np.where(ensemble_lb_classifier_sub[\"Rings\"].between(27.5, 29), 29, ensemble_lb_classifier_sub[\"Rings\"])\n",
    "ensemble_lb_classifier_sub.to_csv(f'xgb_cb_lgbm_gb_ensemble-public_lb_best-classifier.csv', index=False)\n",
    "ensemble_lb_classifier_sub.head()"
   ]
  },
  {
   "cell_type": "code",
   "execution_count": null,
   "id": "b523745f",
   "metadata": {
    "papermill": {
     "duration": 0.005908,
     "end_time": "2024-04-12T23:24:35.575432",
     "exception": false,
     "start_time": "2024-04-12T23:24:35.569524",
     "status": "completed"
    },
    "tags": []
   },
   "outputs": [],
   "source": []
  }
 ],
 "metadata": {
  "kaggle": {
   "accelerator": "none",
   "dataSources": [
    {
     "databundleVersionId": 8096274,
     "sourceId": 72489,
     "sourceType": "competition"
    },
    {
     "sourceId": 171609384,
     "sourceType": "kernelVersion"
    },
    {
     "sourceId": 171451513,
     "sourceType": "kernelVersion"
    }
   ],
   "dockerImageVersionId": 30684,
   "isGpuEnabled": false,
   "isInternetEnabled": true,
   "language": "python",
   "sourceType": "notebook"
  },
  "kernelspec": {
   "display_name": "Python 3",
   "language": "python",
   "name": "python3"
  },
  "language_info": {
   "codemirror_mode": {
    "name": "ipython",
    "version": 3
   },
   "file_extension": ".py",
   "mimetype": "text/x-python",
   "name": "python",
   "nbconvert_exporter": "python",
   "pygments_lexer": "ipython3",
   "version": "3.10.13"
  },
  "papermill": {
   "default_parameters": {},
   "duration": 23180.88331,
   "end_time": "2024-04-12T23:24:36.346056",
   "environment_variables": {},
   "exception": null,
   "input_path": "__notebook__.ipynb",
   "output_path": "__notebook__.ipynb",
   "parameters": {},
   "start_time": "2024-04-12T16:58:15.462746",
   "version": "2.5.0"
  }
 },
 "nbformat": 4,
 "nbformat_minor": 5
}
