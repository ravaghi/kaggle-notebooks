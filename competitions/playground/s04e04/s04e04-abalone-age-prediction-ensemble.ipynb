{
 "cells": [
  {
   "cell_type": "code",
   "execution_count": 1,
   "id": "fc59ce0e",
   "metadata": {
    "_cell_guid": "b1076dfc-b9ad-4769-8c92-a6c4dae69d19",
    "_uuid": "8f2839f25d086af736a60e9eeb907d3b93b6e0e5",
    "execution": {
     "iopub.execute_input": "2024-04-12T04:29:07.311800Z",
     "iopub.status.busy": "2024-04-12T04:29:07.310742Z",
     "iopub.status.idle": "2024-04-12T04:29:13.559324Z",
     "shell.execute_reply": "2024-04-12T04:29:13.557880Z"
    },
    "papermill": {
     "duration": 6.261793,
     "end_time": "2024-04-12T04:29:13.562684",
     "exception": false,
     "start_time": "2024-04-12T04:29:07.300891",
     "status": "completed"
    },
    "tags": []
   },
   "outputs": [],
   "source": [
    "import pandas as pd\n",
    "import numpy as np\n",
    "import warnings\n",
    "import optuna\n",
    "import matplotlib.pyplot as plt\n",
    "import seaborn as sns\n",
    "from sklearn.model_selection import StratifiedKFold\n",
    "from sklearn.metrics import mean_squared_log_error\n",
    "from sklearn.base import clone\n",
    "from sklearn.compose import TransformedTargetRegressor\n",
    "from sklearn.ensemble import GradientBoostingRegressor, VotingRegressor\n",
    "from xgboost import XGBRegressor\n",
    "from catboost import CatBoostRegressor\n",
    "from lightgbm import LGBMRegressor\n",
    "\n",
    "warnings.filterwarnings('ignore')"
   ]
  },
  {
   "cell_type": "code",
   "execution_count": 2,
   "id": "b2012de4",
   "metadata": {
    "execution": {
     "iopub.execute_input": "2024-04-12T04:29:13.580074Z",
     "iopub.status.busy": "2024-04-12T04:29:13.579257Z",
     "iopub.status.idle": "2024-04-12T04:29:13.585697Z",
     "shell.execute_reply": "2024-04-12T04:29:13.584233Z"
    },
    "papermill": {
     "duration": 0.01838,
     "end_time": "2024-04-12T04:29:13.588499",
     "exception": false,
     "start_time": "2024-04-12T04:29:13.570119",
     "status": "completed"
    },
    "tags": []
   },
   "outputs": [],
   "source": [
    "SEED = 27\n",
    "N_SPLITS = 10\n",
    "N_REPEATS = 5"
   ]
  },
  {
   "cell_type": "markdown",
   "id": "f73459f7",
   "metadata": {
    "papermill": {
     "duration": 0.006911,
     "end_time": "2024-04-12T04:29:13.602697",
     "exception": false,
     "start_time": "2024-04-12T04:29:13.595786",
     "status": "completed"
    },
    "tags": []
   },
   "source": [
    "# Loading and Processing Data"
   ]
  },
  {
   "cell_type": "code",
   "execution_count": 3,
   "id": "51e3a8c3",
   "metadata": {
    "execution": {
     "iopub.execute_input": "2024-04-12T04:29:13.619264Z",
     "iopub.status.busy": "2024-04-12T04:29:13.618812Z",
     "iopub.status.idle": "2024-04-12T04:29:14.006608Z",
     "shell.execute_reply": "2024-04-12T04:29:14.005521Z"
    },
    "papermill": {
     "duration": 0.399904,
     "end_time": "2024-04-12T04:29:14.009805",
     "exception": false,
     "start_time": "2024-04-12T04:29:13.609901",
     "status": "completed"
    },
    "tags": []
   },
   "outputs": [],
   "source": [
    "train = pd.read_csv('/kaggle/input/playground-series-s4e4/train.csv', index_col='id')\n",
    "test = pd.read_csv('/kaggle/input/playground-series-s4e4/test.csv', index_col='id')\n",
    "\n",
    "train['Sex'] = train['Sex'].map({'M': 0, 'F': 1, 'I': 2})\n",
    "test['Sex'] = test['Sex'].map({'M': 0, 'F': 1, 'I': 2})\n",
    "\n",
    "X = train.drop(columns='Rings')\n",
    "y = train['Rings']"
   ]
  },
  {
   "cell_type": "markdown",
   "id": "741fde04",
   "metadata": {
    "papermill": {
     "duration": 0.006603,
     "end_time": "2024-04-12T04:29:14.023444",
     "exception": false,
     "start_time": "2024-04-12T04:29:14.016841",
     "status": "completed"
    },
    "tags": []
   },
   "source": [
    "# Training Base Models"
   ]
  },
  {
   "cell_type": "code",
   "execution_count": 4,
   "id": "1cf3fc1b",
   "metadata": {
    "execution": {
     "iopub.execute_input": "2024-04-12T04:29:14.039575Z",
     "iopub.status.busy": "2024-04-12T04:29:14.039046Z",
     "iopub.status.idle": "2024-04-12T04:29:14.054839Z",
     "shell.execute_reply": "2024-04-12T04:29:14.053338Z"
    },
    "papermill": {
     "duration": 0.02719,
     "end_time": "2024-04-12T04:29:14.057726",
     "exception": false,
     "start_time": "2024-04-12T04:29:14.030536",
     "status": "completed"
    },
    "tags": []
   },
   "outputs": [],
   "source": [
    "def train(regressor, X, y, n_splits=N_SPLITS, n_repeats=N_REPEATS):\n",
    "    skf = StratifiedKFold(n_splits=n_splits, shuffle=True, random_state=SEED)\n",
    "    \n",
    "    model = TransformedTargetRegressor(\n",
    "        regressor=regressor,\n",
    "        func=np.log1p,\n",
    "        inverse_func=np.expm1\n",
    "    )\n",
    "    \n",
    "    oof_preds = np.zeros(len(X), dtype=float)\n",
    "    scores = []\n",
    "    for train_idx, val_idx in skf.split(X, y):\n",
    "        X_train, X_val = X.iloc[train_idx], X.iloc[val_idx]\n",
    "        y_train, y_val = y.iloc[train_idx], y.iloc[val_idx]\n",
    "        \n",
    "        y_pred = np.zeros_like(y_val, dtype=float)\n",
    "        for i in range(n_repeats):\n",
    "            m = clone(model)\n",
    "            if n_repeats > 1:\n",
    "                m.regressor.set_params(random_state=i)\n",
    "            m.fit(X_train, y_train)\n",
    "            y_pred += m.predict(X_val)\n",
    "            \n",
    "        y_pred /= n_repeats\n",
    "        y_pred = y_pred.clip(1, 29)\n",
    "        \n",
    "        score = mean_squared_log_error(y_val, y_pred, squared=False)\n",
    "        scores.append(score)        \n",
    "        oof_preds[val_idx] = y_pred\n",
    "    \n",
    "    return scores, oof_preds\n",
    "\n",
    "def predict(regressor, X, y, X_test, n_repeats=N_REPEATS):\n",
    "    model = TransformedTargetRegressor(\n",
    "        regressor=regressor,\n",
    "        func=np.log1p,\n",
    "        inverse_func=np.expm1\n",
    "    )\n",
    "    \n",
    "    y_pred = np.zeros(len(X_test), dtype=float)\n",
    "    for i in range(n_repeats):\n",
    "        m = clone(model)\n",
    "        if n_repeats > 1:\n",
    "            m.regressor.set_params(random_state=i)\n",
    "        m.fit(X, y)\n",
    "        y_pred += m.predict(X_test)\n",
    "    y_pred /= n_repeats\n",
    "    y_pred = y_pred.clip(1, 29)\n",
    "    return y_pred"
   ]
  },
  {
   "cell_type": "code",
   "execution_count": 5,
   "id": "c7df9d60",
   "metadata": {
    "_kg_hide-input": true,
    "execution": {
     "iopub.execute_input": "2024-04-12T04:29:14.074850Z",
     "iopub.status.busy": "2024-04-12T04:29:14.074348Z",
     "iopub.status.idle": "2024-04-12T04:29:14.087545Z",
     "shell.execute_reply": "2024-04-12T04:29:14.085825Z"
    },
    "papermill": {
     "duration": 0.025667,
     "end_time": "2024-04-12T04:29:14.090949",
     "exception": false,
     "start_time": "2024-04-12T04:29:14.065282",
     "status": "completed"
    },
    "tags": []
   },
   "outputs": [],
   "source": [
    "xgb_params = {\n",
    "    'n_jobs': -1,\n",
    "    'max_depth': 6,\n",
    "    'n_estimators': 1942,\n",
    "    'random_state': SEED,\n",
    "    'min_child_weight': 1,\n",
    "    'gamma': 0.03564293452391207,\n",
    "    'subsample': 0.6956271823055759,\n",
    "    'reg_alpha': 0.7236848478280202,\n",
    "    'reg_lambda': 0.6760094001242347,\n",
    "    'learning_rate': 0.04328457758575266,\n",
    "    'colsample_bynode': 0.962341555268564,\n",
    "    'colsample_bytree': 0.7506537997746077,\n",
    "    'colsample_bylevel': 0.8727635788126956,\n",
    "}\n",
    "\n",
    "cb_params = {\n",
    "    'depth': 15, \n",
    "    'verbose': 0,\n",
    "    'max_bin': 464, \n",
    "    'verbose': False,\n",
    "    'random_state':SEED,\n",
    "    'task_type': 'CPU', \n",
    "    'random_state': SEED,\n",
    "    'eval_metric': 'RMSE', \n",
    "    'min_data_in_leaf': 78, \n",
    "    'loss_function': 'RMSE', \n",
    "    'grow_policy': 'Lossguide', \n",
    "    'bootstrap_type': 'Bernoulli', \n",
    "    'subsample': 0.83862137638162, \n",
    "    'l2_leaf_reg': 8.365422739510098, \n",
    "    'random_strength': 3.296124856352495, \n",
    "    'learning_rate': 0.09992185242598203,\n",
    "}\n",
    "\n",
    "lgbm_params = {\n",
    "    'n_jobs': -1,\n",
    "    'verbose': -1,\n",
    "    'max_depth': 20,\n",
    "    'num_leaves': 165,\n",
    "    'subsample_freq': 1,\n",
    "    'random_state': SEED,\n",
    "    'n_estimators': 1460,\n",
    "    'min_child_samples': 25,\n",
    "    'reg_lambda': 6.13475387151606,\n",
    "    'subsample': 0.8036874216939632,\n",
    "    'reg_alpha': 0.3152990674231573,\n",
    "    'learning_rate': 0.009336479469693189,\n",
    "    'colsample_bytree': 0.5780931837049811,\n",
    "    'min_child_weight': 0.37333232256934057,\n",
    "}\n",
    "\n",
    "gb_params = {\n",
    "    'max_depth': 7,\n",
    "    'random_state': SEED,\n",
    "    'n_estimators': 1520,\n",
    "    'min_samples_leaf': 2,\n",
    "    'min_samples_split': 5,\n",
    "    'subsample': 0.8386058289444608,\n",
    "    'learning_rate': 0.021568657897174062,\n",
    "}"
   ]
  },
  {
   "cell_type": "code",
   "execution_count": 6,
   "id": "863d7b47",
   "metadata": {
    "execution": {
     "iopub.execute_input": "2024-04-12T04:29:14.107544Z",
     "iopub.status.busy": "2024-04-12T04:29:14.106956Z",
     "iopub.status.idle": "2024-04-12T10:21:42.187129Z",
     "shell.execute_reply": "2024-04-12T10:21:42.185250Z"
    },
    "papermill": {
     "duration": 21148.093152,
     "end_time": "2024-04-12T10:21:42.191602",
     "exception": false,
     "start_time": "2024-04-12T04:29:14.098450",
     "status": "completed"
    },
    "tags": []
   },
   "outputs": [
    {
     "name": "stdout",
     "output_type": "stream",
     "text": [
      "XGB:    0.14828680025204577\n",
      "CB:     0.1475879632917944\n",
      "LGBM:   0.1477611444102072\n",
      "GB:     0.14779814346857467\n"
     ]
    }
   ],
   "source": [
    "xgb_model = XGBRegressor(**xgb_params)\n",
    "xgb_scores, xgb_oof_preds = train(xgb_model, X, y)\n",
    "print(f'XGB:    {np.mean(xgb_scores)}')\n",
    "\n",
    "cb_model = CatBoostRegressor(**cb_params)\n",
    "cb_scores, cb_oof_preds = train(cb_model, X, y)\n",
    "print(f'CB:     {np.mean(cb_scores)}')\n",
    "\n",
    "lgbm_model = LGBMRegressor(**lgbm_params)\n",
    "lgbm_scores, lgbm_oof_preds = train(lgbm_model, X, y)\n",
    "print(f'LGBM:   {np.mean(lgbm_scores)}')\n",
    "\n",
    "gb_model = GradientBoostingRegressor(**gb_params)\n",
    "gb_scores, gb_oof_preds = train(gb_model, X, y)\n",
    "print(f'GB:     {np.mean(gb_scores)}')"
   ]
  },
  {
   "cell_type": "markdown",
   "id": "587b086f",
   "metadata": {
    "papermill": {
     "duration": 0.007339,
     "end_time": "2024-04-12T10:21:42.206622",
     "exception": false,
     "start_time": "2024-04-12T10:21:42.199283",
     "status": "completed"
    },
    "tags": []
   },
   "source": [
    "# Ensembling Base Learners"
   ]
  },
  {
   "cell_type": "code",
   "execution_count": 7,
   "id": "c0f4e1a8",
   "metadata": {
    "execution": {
     "iopub.execute_input": "2024-04-12T10:21:42.223960Z",
     "iopub.status.busy": "2024-04-12T10:21:42.223491Z",
     "iopub.status.idle": "2024-04-12T10:21:42.230285Z",
     "shell.execute_reply": "2024-04-12T10:21:42.228602Z"
    },
    "papermill": {
     "duration": 0.018846,
     "end_time": "2024-04-12T10:21:42.233132",
     "exception": false,
     "start_time": "2024-04-12T10:21:42.214286",
     "status": "completed"
    },
    "tags": []
   },
   "outputs": [],
   "source": [
    "estimators = [\n",
    "    ('xgb', xgb_model),\n",
    "    ('cb', cb_model),\n",
    "    ('lgbm', lgbm_model),\n",
    "    ('gb', gb_model)\n",
    "]"
   ]
  },
  {
   "cell_type": "code",
   "execution_count": 8,
   "id": "e0dc3225",
   "metadata": {
    "_kg_hide-input": true,
    "_kg_hide-output": true,
    "execution": {
     "iopub.execute_input": "2024-04-12T10:21:42.250577Z",
     "iopub.status.busy": "2024-04-12T10:21:42.250071Z",
     "iopub.status.idle": "2024-04-12T10:21:42.260000Z",
     "shell.execute_reply": "2024-04-12T10:21:42.258499Z"
    },
    "papermill": {
     "duration": 0.022399,
     "end_time": "2024-04-12T10:21:42.263176",
     "exception": false,
     "start_time": "2024-04-12T10:21:42.240777",
     "status": "completed"
    },
    "tags": []
   },
   "outputs": [],
   "source": [
    "# def objective(trial):\n",
    "#     params = {\n",
    "#         'xgb_weight': trial.suggest_float('xgb_weight', 0.0, 1.0),\n",
    "#         'cb_weight': trial.suggest_float('cb_weight', 0.0, 1.0),\n",
    "#         'lgbm_weight': trial.suggest_float('lgbm_weight', 0.0, 1.0),\n",
    "#         'gb_weight': trial.suggest_float('gb_weight', 0.0, 1.0),\n",
    "#     }\n",
    "\n",
    "#     weights = [\n",
    "#         params['xgb_weight'],\n",
    "#         params['cb_weight'],\n",
    "#         params['lgbm_weight'],\n",
    "#         params['gb_weight']\n",
    "#     ]\n",
    "#     weights /= np.sum(weights)\n",
    "\n",
    "#     voter = VotingRegressor(estimators=estimators, weights=weights, n_jobs=-1)\n",
    "#     scores, _ = train(voter, X, y, 1)\n",
    "    \n",
    "#     return np.mean(scores)\n",
    "\n",
    "# study = optuna.create_study(direction='minimize')\n",
    "# study.optimize(objective, n_trials=1000)\n",
    "\n",
    "# best_weights = study.best_params\n",
    "# weights = [\n",
    "#     best_weights['xgb_weight'],\n",
    "#     best_weights['cb_weight'],\n",
    "#     best_weights['lgbm_weight'],\n",
    "#     best_weights['gb_weight']\n",
    "# ]\n",
    "\n",
    "# weights /= np.sum(weights)\n",
    "# print(f'\\nBest Weights: {list(weights)}')\n",
    "\n",
    "weights = [0.18844250545656566, 0.6422423960522606, 0.1688203675689123, 0.0004947309222612189]"
   ]
  },
  {
   "cell_type": "code",
   "execution_count": 9,
   "id": "ba50a39b",
   "metadata": {
    "execution": {
     "iopub.execute_input": "2024-04-12T10:21:42.281241Z",
     "iopub.status.busy": "2024-04-12T10:21:42.280806Z",
     "iopub.status.idle": "2024-04-12T11:33:18.696129Z",
     "shell.execute_reply": "2024-04-12T11:33:18.694448Z"
    },
    "papermill": {
     "duration": 4296.435109,
     "end_time": "2024-04-12T11:33:18.706008",
     "exception": false,
     "start_time": "2024-04-12T10:21:42.270899",
     "status": "completed"
    },
    "tags": []
   },
   "outputs": [
    {
     "name": "stdout",
     "output_type": "stream",
     "text": [
      "Ensemble: 0.14761931025167493\n"
     ]
    }
   ],
   "source": [
    "voter = VotingRegressor(estimators=estimators, weights=weights, n_jobs=-1)\n",
    "voter_scores, oof_preds = train(voter, X, y, N_SPLITS, 1)\n",
    "\n",
    "print(f'Ensemble: {np.mean(voter_scores)}')"
   ]
  },
  {
   "cell_type": "markdown",
   "id": "2bbb4aa2",
   "metadata": {
    "papermill": {
     "duration": 0.008251,
     "end_time": "2024-04-12T11:33:18.721738",
     "exception": false,
     "start_time": "2024-04-12T11:33:18.713487",
     "status": "completed"
    },
    "tags": []
   },
   "source": [
    "# Results"
   ]
  },
  {
   "cell_type": "code",
   "execution_count": 10,
   "id": "e37003ce",
   "metadata": {
    "_kg_hide-input": true,
    "execution": {
     "iopub.execute_input": "2024-04-12T11:33:18.739859Z",
     "iopub.status.busy": "2024-04-12T11:33:18.739357Z",
     "iopub.status.idle": "2024-04-12T11:33:19.589689Z",
     "shell.execute_reply": "2024-04-12T11:33:19.587798Z"
    },
    "papermill": {
     "duration": 0.863101,
     "end_time": "2024-04-12T11:33:19.592782",
     "exception": false,
     "start_time": "2024-04-12T11:33:18.729681",
     "status": "completed"
    },
    "tags": []
   },
   "outputs": [
    {
     "data": {
      "image/png": "[encoded data removed]",
      "text/plain": [
       "<Figure size 1500x600 with 2 Axes>"
      ]
     },
     "metadata": {},
     "output_type": "display_data"
    }
   ],
   "source": [
    "scores = pd.DataFrame({\n",
    "    'XGB': xgb_scores,\n",
    "    'CB': cb_scores,\n",
    "    'LGBM': lgbm_scores,\n",
    "    'GB': gb_scores,\n",
    "    'Ensemble': voter_scores\n",
    "})\n",
    "scores = scores[scores.mean().sort_values().index]\n",
    "\n",
    "fig, axes = plt.subplots(1, 2, figsize=(15, 6))\n",
    "sns.boxplot(data=scores, ax=axes[0], palette='viridis')\n",
    "axes[0].set_title('Fold Scores')\n",
    "axes[0].set_xlabel('')\n",
    "axes[0].set_ylabel('')\n",
    "mean_scores = scores.mean().sort_values()\n",
    "sns.barplot(x=mean_scores, y=mean_scores.index, orient='h', ax=axes[1], palette='viridis')\n",
    "axes[1].set_title('Mean Scores')\n",
    "axes[1].set_xlabel('')\n",
    "axes[1].set_ylabel('')\n",
    "axes[1].set_xlim(left=0.147, right=0.1485)\n",
    "plt.tight_layout()\n",
    "plt.show()"
   ]
  },
  {
   "cell_type": "markdown",
   "id": "db2e8270",
   "metadata": {
    "papermill": {
     "duration": 0.008836,
     "end_time": "2024-04-12T11:33:19.610162",
     "exception": false,
     "start_time": "2024-04-12T11:33:19.601326",
     "status": "completed"
    },
    "tags": []
   },
   "source": [
    "# Blending Results"
   ]
  },
  {
   "cell_type": "code",
   "execution_count": 11,
   "id": "888df1a4",
   "metadata": {
    "execution": {
     "iopub.execute_input": "2024-04-12T11:33:19.631984Z",
     "iopub.status.busy": "2024-04-12T11:33:19.631384Z",
     "iopub.status.idle": "2024-04-12T11:41:57.523895Z",
     "shell.execute_reply": "2024-04-12T11:41:57.522142Z"
    },
    "papermill": {
     "duration": 517.916614,
     "end_time": "2024-04-12T11:41:57.536257",
     "exception": false,
     "start_time": "2024-04-12T11:33:19.619643",
     "status": "completed"
    },
    "tags": []
   },
   "outputs": [
    {
     "data": {
      "text/html": [
       "<div>\n",
       "<style scoped>\n",
       "    .dataframe tbody tr th:only-of-type {\n",
       "        vertical-align: middle;\n",
       "    }\n",
       "\n",
       "    .dataframe tbody tr th {\n",
       "        vertical-align: top;\n",
       "    }\n",
       "\n",
       "    .dataframe thead th {\n",
       "        text-align: right;\n",
       "    }\n",
       "</style>\n",
       "<table border=\"1\" class=\"dataframe\">\n",
       "  <thead>\n",
       "    <tr style=\"text-align: right;\">\n",
       "      <th></th>\n",
       "      <th>id</th>\n",
       "      <th>Rings</th>\n",
       "    </tr>\n",
       "  </thead>\n",
       "  <tbody>\n",
       "    <tr>\n",
       "      <th>0</th>\n",
       "      <td>90615</td>\n",
       "      <td>9.644732</td>\n",
       "    </tr>\n",
       "    <tr>\n",
       "      <th>1</th>\n",
       "      <td>90616</td>\n",
       "      <td>9.729330</td>\n",
       "    </tr>\n",
       "    <tr>\n",
       "      <th>2</th>\n",
       "      <td>90617</td>\n",
       "      <td>9.912553</td>\n",
       "    </tr>\n",
       "    <tr>\n",
       "      <th>3</th>\n",
       "      <td>90618</td>\n",
       "      <td>10.315910</td>\n",
       "    </tr>\n",
       "    <tr>\n",
       "      <th>4</th>\n",
       "      <td>90619</td>\n",
       "      <td>7.562928</td>\n",
       "    </tr>\n",
       "  </tbody>\n",
       "</table>\n",
       "</div>"
      ],
      "text/plain": [
       "      id      Rings\n",
       "0  90615   9.644732\n",
       "1  90616   9.729330\n",
       "2  90617   9.912553\n",
       "3  90618  10.315910\n",
       "4  90619   7.562928"
      ]
     },
     "execution_count": 11,
     "metadata": {},
     "output_type": "execute_result"
    }
   ],
   "source": [
    "y_pred = predict(voter, X, y, test, 1)\n",
    "voter_sub = pd.DataFrame({'id': test.index, 'Rings': y_pred})\n",
    "voter_sub.to_csv(f'xgb_cb_lgbm_gb_ensemble.csv', index=False)\n",
    "voter_sub.head()"
   ]
  },
  {
   "cell_type": "code",
   "execution_count": 12,
   "id": "e66822b6",
   "metadata": {
    "execution": {
     "iopub.execute_input": "2024-04-12T11:41:57.556342Z",
     "iopub.status.busy": "2024-04-12T11:41:57.555890Z",
     "iopub.status.idle": "2024-04-12T11:41:57.845920Z",
     "shell.execute_reply": "2024-04-12T11:41:57.844319Z"
    },
    "papermill": {
     "duration": 0.303888,
     "end_time": "2024-04-12T11:41:57.848893",
     "exception": false,
     "start_time": "2024-04-12T11:41:57.545005",
     "status": "completed"
    },
    "tags": []
   },
   "outputs": [
    {
     "data": {
      "text/html": [
       "<div>\n",
       "<style scoped>\n",
       "    .dataframe tbody tr th:only-of-type {\n",
       "        vertical-align: middle;\n",
       "    }\n",
       "\n",
       "    .dataframe tbody tr th {\n",
       "        vertical-align: top;\n",
       "    }\n",
       "\n",
       "    .dataframe thead th {\n",
       "        text-align: right;\n",
       "    }\n",
       "</style>\n",
       "<table border=\"1\" class=\"dataframe\">\n",
       "  <thead>\n",
       "    <tr style=\"text-align: right;\">\n",
       "      <th></th>\n",
       "      <th>id</th>\n",
       "      <th>Rings</th>\n",
       "    </tr>\n",
       "  </thead>\n",
       "  <tbody>\n",
       "    <tr>\n",
       "      <th>0</th>\n",
       "      <td>90615</td>\n",
       "      <td>9.715992</td>\n",
       "    </tr>\n",
       "    <tr>\n",
       "      <th>1</th>\n",
       "      <td>90616</td>\n",
       "      <td>9.690236</td>\n",
       "    </tr>\n",
       "    <tr>\n",
       "      <th>2</th>\n",
       "      <td>90617</td>\n",
       "      <td>9.698754</td>\n",
       "    </tr>\n",
       "    <tr>\n",
       "      <th>3</th>\n",
       "      <td>90618</td>\n",
       "      <td>10.540567</td>\n",
       "    </tr>\n",
       "    <tr>\n",
       "      <th>4</th>\n",
       "      <td>90619</td>\n",
       "      <td>7.593871</td>\n",
       "    </tr>\n",
       "  </tbody>\n",
       "</table>\n",
       "</div>"
      ],
      "text/plain": [
       "      id      Rings\n",
       "0  90615   9.715992\n",
       "1  90616   9.690236\n",
       "2  90617   9.698754\n",
       "3  90618  10.540567\n",
       "4  90619   7.593871"
      ]
     },
     "execution_count": 12,
     "metadata": {},
     "output_type": "execute_result"
    }
   ],
   "source": [
    "public_lb_best_sub = pd.read_csv('/kaggle/input/ps4e4-prediction-generalization-regression/submission.csv')[\"Rings\"].values\n",
    "ensemble_sub = voter_sub[\"Rings\"].values\n",
    "\n",
    "ensemble_lb_sub = voter_sub.copy()\n",
    "ensemble_lb_sub[\"Rings\"] = np.average(np.c_[public_lb_best_sub, ensemble_sub], axis=1, weights=[0.9, 0.1])\n",
    "ensemble_lb_sub[\"Rings\"] = ensemble_lb_sub[\"Rings\"].clip(1, 29)\n",
    "ensemble_lb_sub[\"Rings\"] = np.where(ensemble_lb_sub[\"Rings\"].between(27.5, 29), 29, ensemble_lb_sub[\"Rings\"])\n",
    "ensemble_lb_sub.to_csv(f'xgb_cb_lgbm_gb_ensemble-public_lb_best.csv', index=False)\n",
    "ensemble_lb_sub.head()"
   ]
  },
  {
   "cell_type": "code",
   "execution_count": 13,
   "id": "aa50a4d9",
   "metadata": {
    "execution": {
     "iopub.execute_input": "2024-04-12T11:41:57.869518Z",
     "iopub.status.busy": "2024-04-12T11:41:57.868978Z",
     "iopub.status.idle": "2024-04-12T11:41:58.167115Z",
     "shell.execute_reply": "2024-04-12T11:41:58.165551Z"
    },
    "papermill": {
     "duration": 0.31296,
     "end_time": "2024-04-12T11:41:58.170895",
     "exception": false,
     "start_time": "2024-04-12T11:41:57.857935",
     "status": "completed"
    },
    "tags": []
   },
   "outputs": [
    {
     "data": {
      "text/html": [
       "<div>\n",
       "<style scoped>\n",
       "    .dataframe tbody tr th:only-of-type {\n",
       "        vertical-align: middle;\n",
       "    }\n",
       "\n",
       "    .dataframe tbody tr th {\n",
       "        vertical-align: top;\n",
       "    }\n",
       "\n",
       "    .dataframe thead th {\n",
       "        text-align: right;\n",
       "    }\n",
       "</style>\n",
       "<table border=\"1\" class=\"dataframe\">\n",
       "  <thead>\n",
       "    <tr style=\"text-align: right;\">\n",
       "      <th></th>\n",
       "      <th>id</th>\n",
       "      <th>Rings</th>\n",
       "    </tr>\n",
       "  </thead>\n",
       "  <tbody>\n",
       "    <tr>\n",
       "      <th>0</th>\n",
       "      <td>90615</td>\n",
       "      <td>9.725970</td>\n",
       "    </tr>\n",
       "    <tr>\n",
       "      <th>1</th>\n",
       "      <td>90616</td>\n",
       "      <td>9.703620</td>\n",
       "    </tr>\n",
       "    <tr>\n",
       "      <th>2</th>\n",
       "      <td>90617</td>\n",
       "      <td>9.724928</td>\n",
       "    </tr>\n",
       "    <tr>\n",
       "      <th>3</th>\n",
       "      <td>90618</td>\n",
       "      <td>10.521546</td>\n",
       "    </tr>\n",
       "    <tr>\n",
       "      <th>4</th>\n",
       "      <td>90619</td>\n",
       "      <td>7.597355</td>\n",
       "    </tr>\n",
       "  </tbody>\n",
       "</table>\n",
       "</div>"
      ],
      "text/plain": [
       "      id      Rings\n",
       "0  90615   9.725970\n",
       "1  90616   9.703620\n",
       "2  90617   9.724928\n",
       "3  90618  10.521546\n",
       "4  90619   7.597355"
      ]
     },
     "execution_count": 13,
     "metadata": {},
     "output_type": "execute_result"
    }
   ],
   "source": [
    "classifier_sub = pd.read_csv('/kaggle/input/s04e04-abalone-age-prediction-classification/xgb_cb_ensemble.csv')[\"Rings\"].values\n",
    "\n",
    "ensemble_lb_classifier_sub = voter_sub.copy()\n",
    "ensemble_lb_classifier_sub[\"Rings\"] = np.average(np.c_[public_lb_best_sub, ensemble_sub, classifier_sub], axis=1, weights=[0.8, 0.1, 0.1])\n",
    "ensemble_lb_classifier_sub[\"Rings\"] = ensemble_lb_classifier_sub[\"Rings\"].clip(1, 29)\n",
    "ensemble_lb_classifier_sub[\"Rings\"] = np.where(ensemble_lb_classifier_sub[\"Rings\"].between(27.5, 29), 29, ensemble_lb_classifier_sub[\"Rings\"])\n",
    "ensemble_lb_classifier_sub.to_csv(f'xgb_cb_lgbm_gb_ensemble-public_lb_best-classifier.csv', index=False)\n",
    "ensemble_lb_classifier_sub.head()"
   ]
  },
  {
   "cell_type": "code",
   "execution_count": null,
   "id": "173d3cd9",
   "metadata": {
    "papermill": {
     "duration": 0.009794,
     "end_time": "2024-04-12T11:41:58.190782",
     "exception": false,
     "start_time": "2024-04-12T11:41:58.180988",
     "status": "completed"
    },
    "tags": []
   },
   "outputs": [],
   "source": []
  }
 ],
 "metadata": {
  "kaggle": {
   "accelerator": "none",
   "dataSources": [
    {
     "databundleVersionId": 8096274,
     "sourceId": 72489,
     "sourceType": "competition"
    },
    {
     "sourceId": 171459732,
     "sourceType": "kernelVersion"
    },
    {
     "sourceId": 171555898,
     "sourceType": "kernelVersion"
    }
   ],
   "dockerImageVersionId": 30684,
   "isGpuEnabled": false,
   "isInternetEnabled": true,
   "language": "python",
   "sourceType": "notebook"
  },
  "kernelspec": {
   "display_name": "Python 3",
   "language": "python",
   "name": "python3"
  },
  "language_info": {
   "codemirror_mode": {
    "name": "ipython",
    "version": 3
   },
   "file_extension": ".py",
   "mimetype": "text/x-python",
   "name": "python",
   "nbconvert_exporter": "python",
   "pygments_lexer": "ipython3",
   "version": "3.10.13"
  },
  "papermill": {
   "default_parameters": {},
   "duration": 25975.968462,
   "end_time": "2024-04-12T11:41:59.595605",
   "environment_variables": {},
   "exception": null,
   "input_path": "__notebook__.ipynb",
   "output_path": "__notebook__.ipynb",
   "parameters": {},
   "start_time": "2024-04-12T04:29:03.627143",
   "version": "2.5.0"
  }
 },
 "nbformat": 4,
 "nbformat_minor": 5
}
