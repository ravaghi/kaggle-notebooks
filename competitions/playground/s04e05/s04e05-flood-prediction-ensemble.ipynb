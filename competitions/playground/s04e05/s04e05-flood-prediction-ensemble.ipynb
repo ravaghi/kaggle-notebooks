{
 "cells": [
  {
   "cell_type": "code",
   "execution_count": 1,
   "id": "e9a6a385",
   "metadata": {
    "_cell_guid": "b1076dfc-b9ad-4769-8c92-a6c4dae69d19",
    "_uuid": "8f2839f25d086af736a60e9eeb907d3b93b6e0e5",
    "execution": {
     "iopub.execute_input": "2024-05-07T19:25:07.827368Z",
     "iopub.status.busy": "2024-05-07T19:25:07.826667Z",
     "iopub.status.idle": "2024-05-07T19:25:12.397964Z",
     "shell.execute_reply": "2024-05-07T19:25:12.396631Z"
    },
    "papermill": {
     "duration": 4.581238,
     "end_time": "2024-05-07T19:25:12.401140",
     "exception": false,
     "start_time": "2024-05-07T19:25:07.819902",
     "status": "completed"
    },
    "tags": []
   },
   "outputs": [],
   "source": [
    "from sklearn.ensemble import VotingRegressor\n",
    "from sklearn.linear_model import Ridge\n",
    "from catboost import CatBoostRegressor\n",
    "from lightgbm import LGBMRegressor\n",
    "from xgboost import XGBRegressor\n",
    "from sklearn.model_selection import KFold\n",
    "from sklearn.metrics import r2_score\n",
    "from sklearn.base import clone\n",
    "import matplotlib.pyplot as plt\n",
    "import seaborn as sns\n",
    "import matplotlib\n",
    "import pandas as pd\n",
    "import numpy as np\n",
    "import warnings\n",
    "import optuna\n",
    "\n",
    "matplotlib.style.use('ggplot')\n",
    "warnings.filterwarnings('ignore')"
   ]
  },
  {
   "cell_type": "code",
   "execution_count": 2,
   "id": "7d6d2684",
   "metadata": {
    "execution": {
     "iopub.execute_input": "2024-05-07T19:25:12.418498Z",
     "iopub.status.busy": "2024-05-07T19:25:12.417460Z",
     "iopub.status.idle": "2024-05-07T19:25:12.422571Z",
     "shell.execute_reply": "2024-05-07T19:25:12.421572Z"
    },
    "papermill": {
     "duration": 0.015992,
     "end_time": "2024-05-07T19:25:12.424839",
     "exception": false,
     "start_time": "2024-05-07T19:25:12.408847",
     "status": "completed"
    },
    "tags": []
   },
   "outputs": [],
   "source": [
    "SEED = 27\n",
    "N_SPLITS = 5\n",
    "N_REPEATS = 1"
   ]
  },
  {
   "cell_type": "markdown",
   "id": "a6038712",
   "metadata": {
    "papermill": {
     "duration": 0.004822,
     "end_time": "2024-05-07T19:25:12.435063",
     "exception": false,
     "start_time": "2024-05-07T19:25:12.430241",
     "status": "completed"
    },
    "tags": []
   },
   "source": [
    "# Loading the Dataset"
   ]
  },
  {
   "cell_type": "code",
   "execution_count": 3,
   "id": "38787f01",
   "metadata": {
    "execution": {
     "iopub.execute_input": "2024-05-07T19:25:12.446957Z",
     "iopub.status.busy": "2024-05-07T19:25:12.446096Z",
     "iopub.status.idle": "2024-05-07T19:25:16.089802Z",
     "shell.execute_reply": "2024-05-07T19:25:16.088518Z"
    },
    "papermill": {
     "duration": 3.652715,
     "end_time": "2024-05-07T19:25:16.092525",
     "exception": false,
     "start_time": "2024-05-07T19:25:12.439810",
     "status": "completed"
    },
    "tags": []
   },
   "outputs": [],
   "source": [
    "train = pd.read_csv('/kaggle/input/playground-series-s4e5/train.csv', index_col='id')\n",
    "test = pd.read_csv('/kaggle/input/playground-series-s4e5/test.csv', index_col='id')"
   ]
  },
  {
   "cell_type": "markdown",
   "id": "c6d08540",
   "metadata": {
    "papermill": {
     "duration": 0.005156,
     "end_time": "2024-05-07T19:25:16.102627",
     "exception": false,
     "start_time": "2024-05-07T19:25:16.097471",
     "status": "completed"
    },
    "tags": []
   },
   "source": [
    "# Preprocessing\n",
    "- I'm incorporating a new feature which was suggested [here](https://www.kaggle.com/competitions/playground-series-s4e5/discussion/499274).\n",
    "- I've also added a few other statistical features which have been suggested on the forums by various people."
   ]
  },
  {
   "cell_type": "code",
   "execution_count": 4,
   "id": "e2cd4582",
   "metadata": {
    "execution": {
     "iopub.execute_input": "2024-05-07T19:25:16.115233Z",
     "iopub.status.busy": "2024-05-07T19:25:16.114827Z",
     "iopub.status.idle": "2024-05-07T19:25:16.125097Z",
     "shell.execute_reply": "2024-05-07T19:25:16.123523Z"
    },
    "papermill": {
     "duration": 0.019464,
     "end_time": "2024-05-07T19:25:16.127951",
     "exception": false,
     "start_time": "2024-05-07T19:25:16.108487",
     "status": "completed"
    },
    "tags": []
   },
   "outputs": [],
   "source": [
    "def add_stat_features(dataframe, cols):\n",
    "    dataframe['_sum'] = dataframe[cols].sum(1)\n",
    "    dataframe['_var'] = dataframe[cols].var(1)\n",
    "    dataframe['_prod'] = dataframe[cols].prod(1)\n",
    "    dataframe['_mean'] = dataframe[cols].mean(1)\n",
    "    dataframe['_skew'] = dataframe[cols].skew(1)\n",
    "    dataframe['_median'] = dataframe[cols].median(1)\n",
    "    dataframe['_kurtosis'] = dataframe[cols].kurtosis(1)\n",
    "    dataframe['_abs_energy'] = dataframe[cols].abs().sum(1)\n",
    "    dataframe['_gmean'] = dataframe[cols].apply(lambda x: np.exp(np.log(x).mean()), axis=1)\n",
    "    dataframe['_hmean'] = dataframe[cols].apply(lambda x: len(x) / np.sum(1.0/x), axis=1)\n",
    "\n",
    "    sorted_features = [f\"sort_{i}\" for i in np.arange(len(cols))]\n",
    "    dataframe[sorted_features] = np.sort(dataframe[cols], axis=1)\n",
    "    \n",
    "    return dataframe\n",
    "        \n",
    "feature_cols = list(test.columns)\n",
    "target_col = 'FloodProbability'"
   ]
  },
  {
   "cell_type": "code",
   "execution_count": 5,
   "id": "869f1f65",
   "metadata": {
    "execution": {
     "iopub.execute_input": "2024-05-07T19:25:16.141131Z",
     "iopub.status.busy": "2024-05-07T19:25:16.140483Z",
     "iopub.status.idle": "2024-05-07T19:33:09.227789Z",
     "shell.execute_reply": "2024-05-07T19:33:09.226624Z"
    },
    "papermill": {
     "duration": 473.097225,
     "end_time": "2024-05-07T19:33:09.230611",
     "exception": false,
     "start_time": "2024-05-07T19:25:16.133386",
     "status": "completed"
    },
    "tags": []
   },
   "outputs": [],
   "source": [
    "train = add_stat_features(train, feature_cols)\n",
    "test = add_stat_features(test, feature_cols)\n",
    "\n",
    "train = train.drop(feature_cols, axis=1)\n",
    "test = test.drop(feature_cols, axis=1)\n",
    "\n",
    "X = train.drop(target_col, axis=1)\n",
    "y = train[target_col]"
   ]
  },
  {
   "cell_type": "markdown",
   "id": "1ceb306d",
   "metadata": {
    "papermill": {
     "duration": 0.004437,
     "end_time": "2024-05-07T19:33:09.240132",
     "exception": false,
     "start_time": "2024-05-07T19:33:09.235695",
     "status": "completed"
    },
    "tags": []
   },
   "source": [
    "# Training"
   ]
  },
  {
   "cell_type": "code",
   "execution_count": 6,
   "id": "f43b0abe",
   "metadata": {
    "execution": {
     "iopub.execute_input": "2024-05-07T19:33:09.250982Z",
     "iopub.status.busy": "2024-05-07T19:33:09.250600Z",
     "iopub.status.idle": "2024-05-07T19:33:09.261244Z",
     "shell.execute_reply": "2024-05-07T19:33:09.260198Z"
    },
    "papermill": {
     "duration": 0.018732,
     "end_time": "2024-05-07T19:33:09.263427",
     "exception": false,
     "start_time": "2024-05-07T19:33:09.244695",
     "status": "completed"
    },
    "tags": []
   },
   "outputs": [],
   "source": [
    "class Trainer:\n",
    "    def __init__(self, model, X, y, n_splits=N_SPLITS, n_repeats=N_REPEATS):\n",
    "        self.model = model\n",
    "        self.X = X\n",
    "        self.y = y\n",
    "        self.n_splits = n_splits\n",
    "        self.n_repeats = n_repeats\n",
    "\n",
    "    def fit(self):\n",
    "        skf = KFold(n_splits=self.n_splits, shuffle=True, random_state=SEED)\n",
    "        \n",
    "        oof_preds = np.zeros(len(self.X), dtype=float)\n",
    "        scores = []\n",
    "        for train_idx, val_idx in skf.split(self.X, self.y):\n",
    "            X_train, X_val = self.X.iloc[train_idx], self.X.iloc[val_idx]\n",
    "            y_train, y_val = self.y.iloc[train_idx], self.y.iloc[val_idx]\n",
    "            \n",
    "            y_pred = np.zeros_like(y_val, dtype=float)\n",
    "            \n",
    "            for i in range(self.n_repeats):\n",
    "                m = clone(self.model)\n",
    "                if self.n_repeats > 1:\n",
    "                    m.set_params(random_state=i)\n",
    "                m.fit(X_train, y_train)\n",
    "                y_pred += m.predict(X_val)\n",
    "                \n",
    "            y_pred /= self.n_repeats\n",
    "            \n",
    "            score = r2_score(y_val, y_pred)\n",
    "            scores.append(score)\n",
    "            \n",
    "            oof_preds[val_idx] = y_pred\n",
    "            \n",
    "        return scores, oof_preds\n",
    "        \n",
    "    def predict(self, X_test):\n",
    "        y_pred = np.zeros(len(X_test), dtype=float)\n",
    "        for i in range(self.n_repeats):\n",
    "            m = clone(self.model)\n",
    "            if self.n_repeats > 1:\n",
    "                m.set_params(random_state=i)\n",
    "            m.fit(self.X, self.y)\n",
    "            y_pred += m.predict(X_test)\n",
    "        y_pred /= self.n_repeats\n",
    "        return y_pred"
   ]
  },
  {
   "cell_type": "code",
   "execution_count": 7,
   "id": "d2ffee03",
   "metadata": {
    "execution": {
     "iopub.execute_input": "2024-05-07T19:33:09.274928Z",
     "iopub.status.busy": "2024-05-07T19:33:09.274196Z",
     "iopub.status.idle": "2024-05-07T19:33:09.282846Z",
     "shell.execute_reply": "2024-05-07T19:33:09.282053Z"
    },
    "papermill": {
     "duration": 0.017032,
     "end_time": "2024-05-07T19:33:09.285250",
     "exception": false,
     "start_time": "2024-05-07T19:33:09.268218",
     "status": "completed"
    },
    "tags": []
   },
   "outputs": [],
   "source": [
    "xgb_params = {\n",
    "    'n_jobs': -1,\n",
    "    'max_depth': 15,\n",
    "    'max_leaves': 51,\n",
    "    'n_estimators': 921,\n",
    "    'random_state': SEED,\n",
    "    'objective': 'reg:gamma',\n",
    "    'grow_policy': 'depthwise',\n",
    "    'gamma': 0.001191175583365525,\n",
    "    'reg_alpha': 0.4922409840555407,\n",
    "    'subsample': 0.9043911969552909,\n",
    "    'reg_lambda': 0.2006103666827618,\n",
    "    'max_delta_step': 0.5187236006765079,\n",
    "    'learning_rate': 0.031068537109748533,\n",
    "    'colsample_bynode': 0.9056076202576685,\n",
    "    'min_child_weight': 0.1519636306480494,\n",
    "    'colsample_bytree': 0.8136171314595549,\n",
    "    'colsample_bylevel': 0.8469915838866402,\n",
    "}\n",
    "\n",
    "cb_params = {\n",
    "    'depth': 10,\n",
    "    'verbose': False,\n",
    "    'iterations': 1566,\n",
    "    'random_state': SEED,\n",
    "    'min_data_in_leaf': 17,\n",
    "    'loss_function': 'RMSE',\n",
    "    'bootstrap_type': 'MVS',\n",
    "    'grow_policy': 'SymmetricTree',\n",
    "    'l2_leaf_reg': 1.6916966756596432,\n",
    "    'learning_rate': 0.02548238769955287,\n",
    "    'colsample_bylevel': 0.9626458989963868,\n",
    "}\n",
    "\n",
    "lgbm_params = {\n",
    "    'n_jobs': -1,\n",
    "    'verbose': -1,\n",
    "    'max_depth': 222,\n",
    "    'num_leaves': 222,\n",
    "    'n_estimators': 702,\n",
    "    'subsample_freq': 7,\n",
    "    'random_state': SEED,\n",
    "    'boosting_type': 'gbdt',\n",
    "    'min_child_samples': 80,\n",
    "    'subsample': 0.6815709181423294,\n",
    "    'reg_lambda': 0.00539368681254854,\n",
    "    'reg_alpha': 0.017697331864994163,\n",
    "    'learning_rate': 0.02089310186842622,\n",
    "    'colsample_bytree': 0.4920417554994534,\n",
    "    'min_child_weight': 0.021791620166345272\n",
    "}"
   ]
  },
  {
   "cell_type": "code",
   "execution_count": 8,
   "id": "2d117793",
   "metadata": {
    "execution": {
     "iopub.execute_input": "2024-05-07T19:33:09.297400Z",
     "iopub.status.busy": "2024-05-07T19:33:09.296359Z",
     "iopub.status.idle": "2024-05-07T20:53:08.391063Z",
     "shell.execute_reply": "2024-05-07T20:53:08.389887Z"
    },
    "papermill": {
     "duration": 4799.108635,
     "end_time": "2024-05-07T20:53:08.399036",
     "exception": false,
     "start_time": "2024-05-07T19:33:09.290401",
     "status": "completed"
    },
    "tags": []
   },
   "outputs": [
    {
     "name": "stdout",
     "output_type": "stream",
     "text": [
      "XGBRegressor: 0.869187 ± 0.000372\n",
      "CatBoostRegressor: 0.869169 ± 0.000377\n",
      "LGBMRegressor: 0.868906 ± 0.000347\n"
     ]
    }
   ],
   "source": [
    "xgb_model = XGBRegressor(**xgb_params)\n",
    "xgb_scores, xgb_oof_preds = Trainer(xgb_model, X, y).fit()\n",
    "print(f'{xgb_model.__class__.__name__}: {np.mean(xgb_scores):.6f} ± {np.std(xgb_scores):.6f}')\n",
    "\n",
    "cb_model = CatBoostRegressor(**cb_params)\n",
    "cb_scores, cb_oof_preds = Trainer(cb_model, X, y).fit()\n",
    "print(f'{cb_model.__class__.__name__}: {np.mean(cb_scores):.6f} ± {np.std(cb_scores):.6f}')\n",
    "\n",
    "lgbm_model = LGBMRegressor(**lgbm_params)\n",
    "lgbm_scores, lgbm_oof_preds = Trainer(lgbm_model, X, y).fit()\n",
    "print(f'{lgbm_model.__class__.__name__}: {np.mean(lgbm_scores):.6f} ± {np.std(lgbm_scores):.6f}')"
   ]
  },
  {
   "cell_type": "code",
   "execution_count": 9,
   "id": "29345d7c",
   "metadata": {
    "execution": {
     "iopub.execute_input": "2024-05-07T20:53:08.411260Z",
     "iopub.status.busy": "2024-05-07T20:53:08.410356Z",
     "iopub.status.idle": "2024-05-07T20:53:08.597736Z",
     "shell.execute_reply": "2024-05-07T20:53:08.594262Z"
    },
    "papermill": {
     "duration": 0.197117,
     "end_time": "2024-05-07T20:53:08.601220",
     "exception": false,
     "start_time": "2024-05-07T20:53:08.404103",
     "status": "completed"
    },
    "tags": []
   },
   "outputs": [
    {
     "name": "stdout",
     "output_type": "stream",
     "text": [
      "Ridge: 0.869239\n"
     ]
    }
   ],
   "source": [
    "ridge_x = np.column_stack([xgb_oof_preds, cb_oof_preds, lgbm_oof_preds])\n",
    "\n",
    "ridge_model = Ridge(positive=True, tol=1e-6)\n",
    "ridge_model.fit(ridge_x, y)\n",
    "ridge_preds = ridge_model.predict(ridge_x)\n",
    "ridge_score = r2_score(y, ridge_preds)\n",
    "print(f'{ridge_model.__class__.__name__}: {ridge_score:.6f}')"
   ]
  },
  {
   "cell_type": "code",
   "execution_count": 10,
   "id": "7591c53c",
   "metadata": {
    "execution": {
     "iopub.execute_input": "2024-05-07T20:53:08.620873Z",
     "iopub.status.busy": "2024-05-07T20:53:08.620298Z",
     "iopub.status.idle": "2024-05-07T20:53:08.633840Z",
     "shell.execute_reply": "2024-05-07T20:53:08.632652Z"
    },
    "papermill": {
     "duration": 0.026893,
     "end_time": "2024-05-07T20:53:08.637285",
     "exception": false,
     "start_time": "2024-05-07T20:53:08.610392",
     "status": "completed"
    },
    "tags": []
   },
   "outputs": [
    {
     "data": {
      "text/plain": [
       "XGBRegressor         0.370119\n",
       "CatBoostRegressor    0.369561\n",
       "LGBMRegressor        0.260514\n",
       "dtype: float64"
      ]
     },
     "execution_count": 10,
     "metadata": {},
     "output_type": "execute_result"
    }
   ],
   "source": [
    "weights = pd.Series(ridge_model.coef_, index=[\"XGBRegressor\", \"CatBoostRegressor\", \"LGBMRegressor\"])\n",
    "weights"
   ]
  },
  {
   "cell_type": "code",
   "execution_count": 11,
   "id": "07297a2b",
   "metadata": {
    "execution": {
     "iopub.execute_input": "2024-05-07T20:53:08.656705Z",
     "iopub.status.busy": "2024-05-07T20:53:08.656123Z",
     "iopub.status.idle": "2024-05-07T20:53:08.997798Z",
     "shell.execute_reply": "2024-05-07T20:53:08.996972Z"
    },
    "papermill": {
     "duration": 0.354348,
     "end_time": "2024-05-07T20:53:09.000363",
     "exception": false,
     "start_time": "2024-05-07T20:53:08.646015",
     "status": "completed"
    },
    "tags": []
   },
   "outputs": [
    {
     "data": {
      "image/png": "[encoded data removed]",
      "text/plain": [
       "<Figure size 1000x500 with 1 Axes>"
      ]
     },
     "metadata": {},
     "output_type": "display_data"
    }
   ],
   "source": [
    "scores = pd.DataFrame({\n",
    "    xgb_model.__class__.__name__: xgb_scores,\n",
    "    cb_model.__class__.__name__: cb_scores,\n",
    "    lgbm_model.__class__.__name__: lgbm_scores,\n",
    "    ridge_model.__class__.__name__: np.array([ridge_score] * 5)\n",
    "})\n",
    "scores = scores[scores.mean().sort_values(ascending=False).index]\n",
    "\n",
    "fig, ax = plt.subplots(1, 1, figsize=(10, 5))\n",
    "mean_scores = scores.mean().sort_values(ascending=False)\n",
    "sns.barplot(x=mean_scores, y=mean_scores.index, orient='h', ax=ax, palette='viridis')\n",
    "ax.set_title('Mean Scores')\n",
    "ax.set_xlabel('')\n",
    "ax.set_ylabel('')\n",
    "ax.set_xlim(mean_scores.min() - 0.001, mean_scores.max() + 0.001)\n",
    "for container in ax.containers:\n",
    "    ax.bar_label(container, label_type='center', fontsize=12)\n",
    "plt.tight_layout()\n",
    "plt.show()"
   ]
  },
  {
   "cell_type": "markdown",
   "id": "d634f802",
   "metadata": {
    "papermill": {
     "duration": 0.005354,
     "end_time": "2024-05-07T20:53:09.011423",
     "exception": false,
     "start_time": "2024-05-07T20:53:09.006069",
     "status": "completed"
    },
    "tags": []
   },
   "source": [
    "# Making Predictions"
   ]
  },
  {
   "cell_type": "code",
   "execution_count": 12,
   "id": "e0f3a360",
   "metadata": {
    "execution": {
     "iopub.execute_input": "2024-05-07T20:53:09.024381Z",
     "iopub.status.busy": "2024-05-07T20:53:09.023957Z",
     "iopub.status.idle": "2024-05-07T21:18:15.759364Z",
     "shell.execute_reply": "2024-05-07T21:18:15.758170Z"
    },
    "papermill": {
     "duration": 1506.744864,
     "end_time": "2024-05-07T21:18:15.761942",
     "exception": false,
     "start_time": "2024-05-07T20:53:09.017078",
     "status": "completed"
    },
    "tags": []
   },
   "outputs": [],
   "source": [
    "ridge_x_test = np.column_stack([\n",
    "    Trainer(xgb_model, X, y).predict(test), \n",
    "    Trainer(cb_model, X, y).predict(test),\n",
    "    Trainer(lgbm_model, X, y).predict(test), \n",
    "])"
   ]
  },
  {
   "cell_type": "code",
   "execution_count": 13,
   "id": "58cc451a",
   "metadata": {
    "execution": {
     "iopub.execute_input": "2024-05-07T21:18:15.775802Z",
     "iopub.status.busy": "2024-05-07T21:18:15.775109Z",
     "iopub.status.idle": "2024-05-07T21:18:17.477586Z",
     "shell.execute_reply": "2024-05-07T21:18:17.476362Z"
    },
    "papermill": {
     "duration": 1.711817,
     "end_time": "2024-05-07T21:18:17.480005",
     "exception": false,
     "start_time": "2024-05-07T21:18:15.768188",
     "status": "completed"
    },
    "tags": []
   },
   "outputs": [
    {
     "data": {
      "text/html": [
       "<div>\n",
       "<style scoped>\n",
       "    .dataframe tbody tr th:only-of-type {\n",
       "        vertical-align: middle;\n",
       "    }\n",
       "\n",
       "    .dataframe tbody tr th {\n",
       "        vertical-align: top;\n",
       "    }\n",
       "\n",
       "    .dataframe thead th {\n",
       "        text-align: right;\n",
       "    }\n",
       "</style>\n",
       "<table border=\"1\" class=\"dataframe\">\n",
       "  <thead>\n",
       "    <tr style=\"text-align: right;\">\n",
       "      <th></th>\n",
       "      <th>id</th>\n",
       "      <th>FloodProbability</th>\n",
       "    </tr>\n",
       "  </thead>\n",
       "  <tbody>\n",
       "    <tr>\n",
       "      <th>0</th>\n",
       "      <td>1117957</td>\n",
       "      <td>0.578159</td>\n",
       "    </tr>\n",
       "    <tr>\n",
       "      <th>1</th>\n",
       "      <td>1117958</td>\n",
       "      <td>0.456398</td>\n",
       "    </tr>\n",
       "    <tr>\n",
       "      <th>2</th>\n",
       "      <td>1117959</td>\n",
       "      <td>0.448220</td>\n",
       "    </tr>\n",
       "    <tr>\n",
       "      <th>3</th>\n",
       "      <td>1117960</td>\n",
       "      <td>0.466720</td>\n",
       "    </tr>\n",
       "    <tr>\n",
       "      <th>4</th>\n",
       "      <td>1117961</td>\n",
       "      <td>0.466734</td>\n",
       "    </tr>\n",
       "  </tbody>\n",
       "</table>\n",
       "</div>"
      ],
      "text/plain": [
       "        id  FloodProbability\n",
       "0  1117957          0.578159\n",
       "1  1117958          0.456398\n",
       "2  1117959          0.448220\n",
       "3  1117960          0.466720\n",
       "4  1117961          0.466734"
      ]
     },
     "execution_count": 13,
     "metadata": {},
     "output_type": "execute_result"
    }
   ],
   "source": [
    "y_pred = ridge_model.predict(ridge_x_test)\n",
    "submission = pd.DataFrame({'id': test.index, target_col: y_pred})\n",
    "submission.to_csv(f'ensemble.csv', index=False)\n",
    "submission.head()"
   ]
  },
  {
   "cell_type": "code",
   "execution_count": null,
   "id": "a1c7466b",
   "metadata": {
    "papermill": {
     "duration": 0.005543,
     "end_time": "2024-05-07T21:18:17.491431",
     "exception": false,
     "start_time": "2024-05-07T21:18:17.485888",
     "status": "completed"
    },
    "tags": []
   },
   "outputs": [],
   "source": []
  }
 ],
 "metadata": {
  "kaggle": {
   "accelerator": "none",
   "dataSources": [
    {
     "databundleVersionId": 8121328,
     "sourceId": 73278,
     "sourceType": "competition"
    }
   ],
   "dockerImageVersionId": 30698,
   "isGpuEnabled": false,
   "isInternetEnabled": true,
   "language": "python",
   "sourceType": "notebook"
  },
  "kernelspec": {
   "display_name": "Python 3",
   "language": "python",
   "name": "python3"
  },
  "language_info": {
   "codemirror_mode": {
    "name": "ipython",
    "version": 3
   },
   "file_extension": ".py",
   "mimetype": "text/x-python",
   "name": "python",
   "nbconvert_exporter": "python",
   "pygments_lexer": "ipython3",
   "version": "3.10.13"
  },
  "papermill": {
   "default_parameters": {},
   "duration": 6793.473185,
   "end_time": "2024-05-07T21:18:18.431871",
   "environment_variables": {},
   "exception": null,
   "input_path": "__notebook__.ipynb",
   "output_path": "__notebook__.ipynb",
   "parameters": {},
   "start_time": "2024-05-07T19:25:04.958686",
   "version": "2.5.0"
  }
 },
 "nbformat": 4,
 "nbformat_minor": 5
}
