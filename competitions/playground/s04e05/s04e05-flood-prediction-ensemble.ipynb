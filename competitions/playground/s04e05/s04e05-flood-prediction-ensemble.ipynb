{
 "cells": [
  {
   "cell_type": "code",
   "execution_count": 1,
   "id": "a1b90611",
   "metadata": {
    "_cell_guid": "b1076dfc-b9ad-4769-8c92-a6c4dae69d19",
    "_uuid": "8f2839f25d086af736a60e9eeb907d3b93b6e0e5",
    "execution": {
     "iopub.execute_input": "2024-05-07T17:24:12.700701Z",
     "iopub.status.busy": "2024-05-07T17:24:12.700041Z",
     "iopub.status.idle": "2024-05-07T17:24:17.476546Z",
     "shell.execute_reply": "2024-05-07T17:24:17.475385Z"
    },
    "papermill": {
     "duration": 4.786282,
     "end_time": "2024-05-07T17:24:17.479632",
     "exception": false,
     "start_time": "2024-05-07T17:24:12.693350",
     "status": "completed"
    },
    "tags": []
   },
   "outputs": [],
   "source": [
    "from sklearn.ensemble import VotingRegressor\n",
    "from sklearn.linear_model import Ridge\n",
    "from catboost import CatBoostRegressor\n",
    "from lightgbm import LGBMRegressor\n",
    "from xgboost import XGBRegressor\n",
    "from sklearn.model_selection import KFold\n",
    "from sklearn.metrics import r2_score\n",
    "from sklearn.base import clone\n",
    "import matplotlib.pyplot as plt\n",
    "import seaborn as sns\n",
    "import matplotlib\n",
    "import pandas as pd\n",
    "import numpy as np\n",
    "import warnings\n",
    "import optuna\n",
    "\n",
    "matplotlib.style.use('ggplot')\n",
    "warnings.filterwarnings('ignore')"
   ]
  },
  {
   "cell_type": "code",
   "execution_count": 2,
   "id": "889a16c7",
   "metadata": {
    "execution": {
     "iopub.execute_input": "2024-05-07T17:24:17.491277Z",
     "iopub.status.busy": "2024-05-07T17:24:17.490659Z",
     "iopub.status.idle": "2024-05-07T17:24:17.495781Z",
     "shell.execute_reply": "2024-05-07T17:24:17.494592Z"
    },
    "papermill": {
     "duration": 0.01342,
     "end_time": "2024-05-07T17:24:17.498005",
     "exception": false,
     "start_time": "2024-05-07T17:24:17.484585",
     "status": "completed"
    },
    "tags": []
   },
   "outputs": [],
   "source": [
    "SEED = 27\n",
    "N_SPLITS = 5\n",
    "N_REPEATS = 1"
   ]
  },
  {
   "cell_type": "markdown",
   "id": "e29f6f66",
   "metadata": {
    "papermill": {
     "duration": 0.004555,
     "end_time": "2024-05-07T17:24:17.507232",
     "exception": false,
     "start_time": "2024-05-07T17:24:17.502677",
     "status": "completed"
    },
    "tags": []
   },
   "source": [
    "# Loading the Dataset"
   ]
  },
  {
   "cell_type": "code",
   "execution_count": 3,
   "id": "1696bb93",
   "metadata": {
    "execution": {
     "iopub.execute_input": "2024-05-07T17:24:17.519330Z",
     "iopub.status.busy": "2024-05-07T17:24:17.518679Z",
     "iopub.status.idle": "2024-05-07T17:24:21.167892Z",
     "shell.execute_reply": "2024-05-07T17:24:21.166667Z"
    },
    "papermill": {
     "duration": 3.658698,
     "end_time": "2024-05-07T17:24:21.170621",
     "exception": false,
     "start_time": "2024-05-07T17:24:17.511923",
     "status": "completed"
    },
    "tags": []
   },
   "outputs": [],
   "source": [
    "train = pd.read_csv('/kaggle/input/playground-series-s4e5/train.csv', index_col='id')\n",
    "test = pd.read_csv('/kaggle/input/playground-series-s4e5/test.csv', index_col='id')"
   ]
  },
  {
   "cell_type": "markdown",
   "id": "4a283a18",
   "metadata": {
    "papermill": {
     "duration": 0.004304,
     "end_time": "2024-05-07T17:24:21.179984",
     "exception": false,
     "start_time": "2024-05-07T17:24:21.175680",
     "status": "completed"
    },
    "tags": []
   },
   "source": [
    "# Preprocessing\n",
    "- I'm incorporating a new feature which was suggested [here](https://www.kaggle.com/competitions/playground-series-s4e5/discussion/499274).\n",
    "- I've also added a few other statistical features which have been suggested on the forums by various people."
   ]
  },
  {
   "cell_type": "code",
   "execution_count": 4,
   "id": "799a89d6",
   "metadata": {
    "execution": {
     "iopub.execute_input": "2024-05-07T17:24:21.191150Z",
     "iopub.status.busy": "2024-05-07T17:24:21.190742Z",
     "iopub.status.idle": "2024-05-07T17:24:21.200075Z",
     "shell.execute_reply": "2024-05-07T17:24:21.198858Z"
    },
    "papermill": {
     "duration": 0.017712,
     "end_time": "2024-05-07T17:24:21.202315",
     "exception": false,
     "start_time": "2024-05-07T17:24:21.184603",
     "status": "completed"
    },
    "tags": []
   },
   "outputs": [],
   "source": [
    "def add_stat_features(dataframe, cols):\n",
    "    dataframe['_sum'] = dataframe[cols].sum(1)\n",
    "    dataframe['_var'] = dataframe[cols].var(1)\n",
    "    dataframe['_prod'] = dataframe[cols].prod(1)\n",
    "    dataframe['_mean'] = dataframe[cols].mean(1)\n",
    "    dataframe['_skew'] = dataframe[cols].skew(1)\n",
    "    dataframe['_median'] = dataframe[cols].median(1)\n",
    "    dataframe['_kurtosis'] = dataframe[cols].kurtosis(1)\n",
    "    dataframe['_abs_energy'] = dataframe[cols].abs().sum(1)\n",
    "    dataframe['_gmean'] = dataframe[cols].apply(lambda x: np.exp(np.log(x).mean()), axis=1)\n",
    "    dataframe['_hmean'] = dataframe[cols].apply(lambda x: len(x) / np.sum(1.0/x), axis=1)\n",
    "\n",
    "    sorted_features = [f\"sort_{i}\" for i in np.arange(len(cols))]\n",
    "    dataframe[sorted_features] = np.sort(dataframe[cols], axis=1)\n",
    "    \n",
    "    return dataframe\n",
    "        \n",
    "feature_cols = list(test.columns)\n",
    "target_col = 'FloodProbability'"
   ]
  },
  {
   "cell_type": "code",
   "execution_count": 5,
   "id": "8d60f583",
   "metadata": {
    "execution": {
     "iopub.execute_input": "2024-05-07T17:24:21.213300Z",
     "iopub.status.busy": "2024-05-07T17:24:21.212903Z",
     "iopub.status.idle": "2024-05-07T17:32:37.942424Z",
     "shell.execute_reply": "2024-05-07T17:32:37.941077Z"
    },
    "papermill": {
     "duration": 496.738259,
     "end_time": "2024-05-07T17:32:37.945237",
     "exception": false,
     "start_time": "2024-05-07T17:24:21.206978",
     "status": "completed"
    },
    "tags": []
   },
   "outputs": [],
   "source": [
    "train = add_stat_features(train, feature_cols)\n",
    "test = add_stat_features(test, feature_cols)\n",
    "\n",
    "train = train.drop(feature_cols, axis=1)\n",
    "test = test.drop(feature_cols, axis=1)\n",
    "\n",
    "X = train.drop(target_col, axis=1)\n",
    "y = train[target_col]"
   ]
  },
  {
   "cell_type": "markdown",
   "id": "ef5a89e5",
   "metadata": {
    "papermill": {
     "duration": 0.0042,
     "end_time": "2024-05-07T17:32:37.954201",
     "exception": false,
     "start_time": "2024-05-07T17:32:37.950001",
     "status": "completed"
    },
    "tags": []
   },
   "source": [
    "# Training"
   ]
  },
  {
   "cell_type": "code",
   "execution_count": 6,
   "id": "93852cbe",
   "metadata": {
    "execution": {
     "iopub.execute_input": "2024-05-07T17:32:37.965922Z",
     "iopub.status.busy": "2024-05-07T17:32:37.965540Z",
     "iopub.status.idle": "2024-05-07T17:32:37.976484Z",
     "shell.execute_reply": "2024-05-07T17:32:37.975342Z"
    },
    "papermill": {
     "duration": 0.019277,
     "end_time": "2024-05-07T17:32:37.978610",
     "exception": false,
     "start_time": "2024-05-07T17:32:37.959333",
     "status": "completed"
    },
    "tags": []
   },
   "outputs": [],
   "source": [
    "class Trainer:\n",
    "    def __init__(self, model, X, y, n_splits=N_SPLITS, n_repeats=N_REPEATS):\n",
    "        self.model = model\n",
    "        self.X = X\n",
    "        self.y = y\n",
    "        self.n_splits = n_splits\n",
    "        self.n_repeats = n_repeats\n",
    "\n",
    "    def fit(self):\n",
    "        skf = KFold(n_splits=self.n_splits, shuffle=True, random_state=SEED)\n",
    "        \n",
    "        oof_preds = np.zeros(len(self.X), dtype=float)\n",
    "        scores = []\n",
    "        for train_idx, val_idx in skf.split(self.X, self.y):\n",
    "            X_train, X_val = self.X.iloc[train_idx], self.X.iloc[val_idx]\n",
    "            y_train, y_val = self.y.iloc[train_idx], self.y.iloc[val_idx]\n",
    "            \n",
    "            y_pred = np.zeros_like(y_val, dtype=float)\n",
    "            \n",
    "            for i in range(self.n_repeats):\n",
    "                m = clone(self.model)\n",
    "                if self.n_repeats > 1:\n",
    "                    m.set_params(random_state=i)\n",
    "                m.fit(X_train, y_train)\n",
    "                y_pred += m.predict(X_val)\n",
    "                \n",
    "            y_pred /= self.n_repeats\n",
    "            \n",
    "            score = r2_score(y_val, y_pred)\n",
    "            scores.append(score)\n",
    "            \n",
    "            oof_preds[val_idx] = y_pred\n",
    "            \n",
    "        return scores, oof_preds\n",
    "        \n",
    "    def predict(self, X_test):\n",
    "        y_pred = np.zeros(len(X_test), dtype=float)\n",
    "        for i in range(self.n_repeats):\n",
    "            m = clone(self.model)\n",
    "            if self.n_repeats > 1:\n",
    "                m.set_params(random_state=i)\n",
    "            m.fit(self.X, self.y)\n",
    "            y_pred += m.predict(X_test)\n",
    "        y_pred /= self.n_repeats\n",
    "        return y_pred"
   ]
  },
  {
   "cell_type": "code",
   "execution_count": 7,
   "id": "1dcaceca",
   "metadata": {
    "execution": {
     "iopub.execute_input": "2024-05-07T17:32:37.989974Z",
     "iopub.status.busy": "2024-05-07T17:32:37.989582Z",
     "iopub.status.idle": "2024-05-07T17:32:37.998018Z",
     "shell.execute_reply": "2024-05-07T17:32:37.996855Z"
    },
    "papermill": {
     "duration": 0.016814,
     "end_time": "2024-05-07T17:32:38.000360",
     "exception": false,
     "start_time": "2024-05-07T17:32:37.983546",
     "status": "completed"
    },
    "tags": []
   },
   "outputs": [],
   "source": [
    "xgb_params = {\n",
    "    'n_jobs': -1,\n",
    "    'max_depth': 15,\n",
    "    'max_leaves': 51,\n",
    "    'n_estimators': 921,\n",
    "    'random_state': SEED,\n",
    "    'objective': 'reg:gamma',\n",
    "    'grow_policy': 'depthwise',\n",
    "    'gamma': 0.001191175583365525,\n",
    "    'reg_alpha': 0.4922409840555407,\n",
    "    'subsample': 0.9043911969552909,\n",
    "    'reg_lambda': 0.2006103666827618,\n",
    "    'max_delta_step': 0.5187236006765079,\n",
    "    'learning_rate': 0.031068537109748533,\n",
    "    'colsample_bynode': 0.9056076202576685,\n",
    "    'min_child_weight': 0.1519636306480494,\n",
    "    'colsample_bytree': 0.8136171314595549,\n",
    "    'colsample_bylevel': 0.8469915838866402,\n",
    "}\n",
    "\n",
    "cb_params = {\n",
    "    'depth': 10,\n",
    "    'verbose': False,\n",
    "    'iterations': 1566,\n",
    "    'random_state': SEED,\n",
    "    'min_data_in_leaf': 17,\n",
    "    'loss_function': 'RMSE',\n",
    "    'bootstrap_type': 'MVS',\n",
    "    'grow_policy': 'SymmetricTree',\n",
    "    'l2_leaf_reg': 1.6916966756596432,\n",
    "    'learning_rate': 0.02548238769955287,\n",
    "    'colsample_bylevel': 0.9626458989963868,\n",
    "}\n",
    "\n",
    "lgbm_params = {\n",
    "    'n_jobs': -1,\n",
    "    'verbose': -1,\n",
    "    'max_depth': 222,\n",
    "    'num_leaves': 222,\n",
    "    'n_estimators': 702,\n",
    "    'subsample_freq': 7,\n",
    "    'random_state': SEED,\n",
    "    'boosting_type': 'gbdt',\n",
    "    'min_child_samples': 80,\n",
    "    'subsample': 0.6815709181423294,\n",
    "    'reg_lambda': 0.00539368681254854,\n",
    "    'reg_alpha': 0.017697331864994163,\n",
    "    'learning_rate': 0.02089310186842622,\n",
    "    'colsample_bytree': 0.4920417554994534,\n",
    "    'min_child_weight': 0.021791620166345272\n",
    "}"
   ]
  },
  {
   "cell_type": "code",
   "execution_count": 8,
   "id": "f73ecaee",
   "metadata": {
    "execution": {
     "iopub.execute_input": "2024-05-07T17:32:38.011448Z",
     "iopub.status.busy": "2024-05-07T17:32:38.011053Z",
     "iopub.status.idle": "2024-05-07T18:53:33.631670Z",
     "shell.execute_reply": "2024-05-07T18:53:33.630253Z"
    },
    "papermill": {
     "duration": 4855.629224,
     "end_time": "2024-05-07T18:53:33.634304",
     "exception": false,
     "start_time": "2024-05-07T17:32:38.005080",
     "status": "completed"
    },
    "tags": []
   },
   "outputs": [
    {
     "name": "stdout",
     "output_type": "stream",
     "text": [
      "XGBRegressor: 0.869187 ± 0.000372\n",
      "CatBoostRegressor: 0.869169 ± 0.000377\n",
      "LGBMRegressor: 0.868906 ± 0.000347\n"
     ]
    }
   ],
   "source": [
    "xgb_model = XGBRegressor(**xgb_params)\n",
    "xgb_scores, xgb_oof_preds = Trainer(xgb_model, X, y).fit()\n",
    "print(f'{xgb_model.__class__.__name__}: {np.mean(xgb_scores):.6f} ± {np.std(xgb_scores):.6f}')\n",
    "\n",
    "cb_model = CatBoostRegressor(**cb_params)\n",
    "cb_scores, cb_oof_preds = Trainer(cb_model, X, y).fit()\n",
    "print(f'{cb_model.__class__.__name__}: {np.mean(cb_scores):.6f} ± {np.std(cb_scores):.6f}')\n",
    "\n",
    "lgbm_model = LGBMRegressor(**lgbm_params)\n",
    "lgbm_scores, lgbm_oof_preds = Trainer(lgbm_model, X, y).fit()\n",
    "print(f'{lgbm_model.__class__.__name__}: {np.mean(lgbm_scores):.6f} ± {np.std(lgbm_scores):.6f}')"
   ]
  },
  {
   "cell_type": "code",
   "execution_count": 9,
   "id": "4b7eebd3",
   "metadata": {
    "execution": {
     "iopub.execute_input": "2024-05-07T18:53:33.645401Z",
     "iopub.status.busy": "2024-05-07T18:53:33.645027Z",
     "iopub.status.idle": "2024-05-07T18:53:33.827296Z",
     "shell.execute_reply": "2024-05-07T18:53:33.823810Z"
    },
    "papermill": {
     "duration": 0.191821,
     "end_time": "2024-05-07T18:53:33.830881",
     "exception": false,
     "start_time": "2024-05-07T18:53:33.639060",
     "status": "completed"
    },
    "tags": []
   },
   "outputs": [
    {
     "name": "stdout",
     "output_type": "stream",
     "text": [
      "Ridge: 0.869239\n"
     ]
    }
   ],
   "source": [
    "ridge_x = np.column_stack([xgb_oof_preds, cb_oof_preds, lgbm_oof_preds])\n",
    "\n",
    "ridge_model = Ridge(positive=True, tol=1e-6)\n",
    "ridge_model.fit(ridge_x, y)\n",
    "ridge_preds = ridge_model.predict(ridge_x)\n",
    "ridge_score = r2_score(y, ridge_preds)\n",
    "print(f'{ridge_model.__class__.__name__}: {ridge_score:.6f}')"
   ]
  },
  {
   "cell_type": "code",
   "execution_count": 10,
   "id": "398dd4dc",
   "metadata": {
    "execution": {
     "iopub.execute_input": "2024-05-07T18:53:33.850460Z",
     "iopub.status.busy": "2024-05-07T18:53:33.849872Z",
     "iopub.status.idle": "2024-05-07T18:53:33.864628Z",
     "shell.execute_reply": "2024-05-07T18:53:33.863442Z"
    },
    "papermill": {
     "duration": 0.028377,
     "end_time": "2024-05-07T18:53:33.867746",
     "exception": false,
     "start_time": "2024-05-07T18:53:33.839369",
     "status": "completed"
    },
    "tags": []
   },
   "outputs": [
    {
     "data": {
      "text/plain": [
       "XGBRegressor         0.370119\n",
       "CatBoostRegressor    0.369561\n",
       "LGBMRegressor        0.260514\n",
       "dtype: float64"
      ]
     },
     "execution_count": 10,
     "metadata": {},
     "output_type": "execute_result"
    }
   ],
   "source": [
    "weights = pd.Series(ridge_model.coef_, index=[\"XGBRegressor\", \"CatBoostRegressor\", \"LGBMRegressor\"])\n",
    "weights"
   ]
  },
  {
   "cell_type": "code",
   "execution_count": 11,
   "id": "b6582e95",
   "metadata": {
    "execution": {
     "iopub.execute_input": "2024-05-07T18:53:33.886830Z",
     "iopub.status.busy": "2024-05-07T18:53:33.886256Z",
     "iopub.status.idle": "2024-05-07T18:53:34.216534Z",
     "shell.execute_reply": "2024-05-07T18:53:34.215563Z"
    },
    "papermill": {
     "duration": 0.34244,
     "end_time": "2024-05-07T18:53:34.218748",
     "exception": false,
     "start_time": "2024-05-07T18:53:33.876308",
     "status": "completed"
    },
    "tags": []
   },
   "outputs": [
    {
     "data": {
      "image/png": "[encoded data removed]",
      "text/plain": [
       "<Figure size 1000x500 with 1 Axes>"
      ]
     },
     "metadata": {},
     "output_type": "display_data"
    }
   ],
   "source": [
    "scores = pd.DataFrame({\n",
    "    xgb_model.__class__.__name__: xgb_scores,\n",
    "    cb_model.__class__.__name__: cb_scores,\n",
    "    lgbm_model.__class__.__name__: lgbm_scores,\n",
    "    ridge_model.__class__.__name__: np.array([ridge_score] * 5)\n",
    "})\n",
    "scores = scores[scores.mean().sort_values(ascending=False).index]\n",
    "\n",
    "fig, ax = plt.subplots(1, 1, figsize=(10, 5))\n",
    "mean_scores = scores.mean().sort_values(ascending=False)\n",
    "sns.barplot(x=mean_scores, y=mean_scores.index, orient='h', ax=ax, palette='viridis')\n",
    "ax.set_title('Mean Scores')\n",
    "ax.set_xlabel('')\n",
    "ax.set_ylabel('')\n",
    "ax.set_xlim(mean_scores.min() - 0.01, mean_scores.max() + 0.01)\n",
    "for container in ax.containers:\n",
    "    ax.bar_label(container, label_type='center', fontsize=12)\n",
    "plt.tight_layout()\n",
    "plt.show()"
   ]
  },
  {
   "cell_type": "markdown",
   "id": "4da6037e",
   "metadata": {
    "papermill": {
     "duration": 0.005402,
     "end_time": "2024-05-07T18:53:34.229956",
     "exception": false,
     "start_time": "2024-05-07T18:53:34.224554",
     "status": "completed"
    },
    "tags": []
   },
   "source": [
    "# Making Predictions"
   ]
  },
  {
   "cell_type": "code",
   "execution_count": 12,
   "id": "86cdb531",
   "metadata": {
    "execution": {
     "iopub.execute_input": "2024-05-07T18:53:34.243305Z",
     "iopub.status.busy": "2024-05-07T18:53:34.242710Z",
     "iopub.status.idle": "2024-05-07T18:53:36.359057Z",
     "shell.execute_reply": "2024-05-07T18:53:36.358188Z"
    },
    "papermill": {
     "duration": 2.125801,
     "end_time": "2024-05-07T18:53:36.361394",
     "exception": false,
     "start_time": "2024-05-07T18:53:34.235593",
     "status": "completed"
    },
    "tags": []
   },
   "outputs": [
    {
     "data": {
      "text/html": [
       "<div>\n",
       "<style scoped>\n",
       "    .dataframe tbody tr th:only-of-type {\n",
       "        vertical-align: middle;\n",
       "    }\n",
       "\n",
       "    .dataframe tbody tr th {\n",
       "        vertical-align: top;\n",
       "    }\n",
       "\n",
       "    .dataframe thead th {\n",
       "        text-align: right;\n",
       "    }\n",
       "</style>\n",
       "<table border=\"1\" class=\"dataframe\">\n",
       "  <thead>\n",
       "    <tr style=\"text-align: right;\">\n",
       "      <th></th>\n",
       "      <th>id</th>\n",
       "      <th>FloodProbability</th>\n",
       "    </tr>\n",
       "  </thead>\n",
       "  <tbody>\n",
       "    <tr>\n",
       "      <th>0</th>\n",
       "      <td>1117957</td>\n",
       "      <td>0.50448</td>\n",
       "    </tr>\n",
       "    <tr>\n",
       "      <th>1</th>\n",
       "      <td>1117958</td>\n",
       "      <td>0.50448</td>\n",
       "    </tr>\n",
       "    <tr>\n",
       "      <th>2</th>\n",
       "      <td>1117959</td>\n",
       "      <td>0.50448</td>\n",
       "    </tr>\n",
       "    <tr>\n",
       "      <th>3</th>\n",
       "      <td>1117960</td>\n",
       "      <td>0.50448</td>\n",
       "    </tr>\n",
       "    <tr>\n",
       "      <th>4</th>\n",
       "      <td>1117961</td>\n",
       "      <td>0.50448</td>\n",
       "    </tr>\n",
       "  </tbody>\n",
       "</table>\n",
       "</div>"
      ],
      "text/plain": [
       "        id  FloodProbability\n",
       "0  1117957           0.50448\n",
       "1  1117958           0.50448\n",
       "2  1117959           0.50448\n",
       "3  1117960           0.50448\n",
       "4  1117961           0.50448"
      ]
     },
     "execution_count": 12,
     "metadata": {},
     "output_type": "execute_result"
    }
   ],
   "source": [
    "y_pred = Trainer(ridge_model, X, y).predict(test)\n",
    "submission = pd.DataFrame({'id': test.index, target_col: y_pred})\n",
    "submission.to_csv(f'ensemble.csv', index=False)\n",
    "submission.head()"
   ]
  },
  {
   "cell_type": "code",
   "execution_count": null,
   "id": "cea745f8",
   "metadata": {
    "papermill": {
     "duration": 0.00574,
     "end_time": "2024-05-07T18:53:36.373251",
     "exception": false,
     "start_time": "2024-05-07T18:53:36.367511",
     "status": "completed"
    },
    "tags": []
   },
   "outputs": [],
   "source": []
  }
 ],
 "metadata": {
  "kaggle": {
   "accelerator": "none",
   "dataSources": [
    {
     "databundleVersionId": 8121328,
     "sourceId": 73278,
     "sourceType": "competition"
    }
   ],
   "dockerImageVersionId": 30698,
   "isGpuEnabled": false,
   "isInternetEnabled": true,
   "language": "python",
   "sourceType": "notebook"
  },
  "kernelspec": {
   "display_name": "Python 3",
   "language": "python",
   "name": "python3"
  },
  "language_info": {
   "codemirror_mode": {
    "name": "ipython",
    "version": 3
   },
   "file_extension": ".py",
   "mimetype": "text/x-python",
   "name": "python",
   "nbconvert_exporter": "python",
   "pygments_lexer": "ipython3",
   "version": "3.10.13"
  },
  "papermill": {
   "default_parameters": {},
   "duration": 5367.410811,
   "end_time": "2024-05-07T18:53:37.211617",
   "environment_variables": {},
   "exception": null,
   "input_path": "__notebook__.ipynb",
   "output_path": "__notebook__.ipynb",
   "parameters": {},
   "start_time": "2024-05-07T17:24:09.800806",
   "version": "2.5.0"
  }
 },
 "nbformat": 4,
 "nbformat_minor": 5
}
