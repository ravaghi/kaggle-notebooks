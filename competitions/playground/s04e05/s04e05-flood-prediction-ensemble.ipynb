{
 "cells": [
  {
   "cell_type": "code",
   "execution_count": 1,
   "id": "6ad68162",
   "metadata": {
    "_cell_guid": "b1076dfc-b9ad-4769-8c92-a6c4dae69d19",
    "_uuid": "8f2839f25d086af736a60e9eeb907d3b93b6e0e5",
    "execution": {
     "iopub.execute_input": "2024-05-08T05:47:10.262786Z",
     "iopub.status.busy": "2024-05-08T05:47:10.262244Z",
     "iopub.status.idle": "2024-05-08T05:47:15.159208Z",
     "shell.execute_reply": "2024-05-08T05:47:15.158231Z"
    },
    "papermill": {
     "duration": 4.908585,
     "end_time": "2024-05-08T05:47:15.161763",
     "exception": false,
     "start_time": "2024-05-08T05:47:10.253178",
     "status": "completed"
    },
    "tags": []
   },
   "outputs": [],
   "source": [
    "from sklearn.ensemble import VotingRegressor\n",
    "from sklearn.linear_model import Ridge\n",
    "from catboost import CatBoostRegressor\n",
    "from lightgbm import LGBMRegressor\n",
    "from xgboost import XGBRegressor\n",
    "from sklearn.model_selection import KFold\n",
    "from sklearn.metrics import r2_score\n",
    "from sklearn.base import clone\n",
    "import matplotlib.pyplot as plt\n",
    "import seaborn as sns\n",
    "import matplotlib\n",
    "import pandas as pd\n",
    "import numpy as np\n",
    "import warnings\n",
    "import optuna\n",
    "\n",
    "matplotlib.style.use('ggplot')\n",
    "warnings.filterwarnings('ignore')"
   ]
  },
  {
   "cell_type": "code",
   "execution_count": 2,
   "id": "e6465e4a",
   "metadata": {
    "execution": {
     "iopub.execute_input": "2024-05-08T05:47:15.176590Z",
     "iopub.status.busy": "2024-05-08T05:47:15.176003Z",
     "iopub.status.idle": "2024-05-08T05:47:15.181138Z",
     "shell.execute_reply": "2024-05-08T05:47:15.180048Z"
    },
    "papermill": {
     "duration": 0.014929,
     "end_time": "2024-05-08T05:47:15.183424",
     "exception": false,
     "start_time": "2024-05-08T05:47:15.168495",
     "status": "completed"
    },
    "tags": []
   },
   "outputs": [],
   "source": [
    "SEED = 27\n",
    "N_SPLITS = 5\n",
    "N_REPEATS = 1"
   ]
  },
  {
   "cell_type": "markdown",
   "id": "a5b9fce3",
   "metadata": {
    "papermill": {
     "duration": 0.006012,
     "end_time": "2024-05-08T05:47:15.195805",
     "exception": false,
     "start_time": "2024-05-08T05:47:15.189793",
     "status": "completed"
    },
    "tags": []
   },
   "source": [
    "# Loading the Dataset"
   ]
  },
  {
   "cell_type": "code",
   "execution_count": 3,
   "id": "f040e51b",
   "metadata": {
    "execution": {
     "iopub.execute_input": "2024-05-08T05:47:15.210005Z",
     "iopub.status.busy": "2024-05-08T05:47:15.209591Z",
     "iopub.status.idle": "2024-05-08T05:47:19.081255Z",
     "shell.execute_reply": "2024-05-08T05:47:19.080085Z"
    },
    "papermill": {
     "duration": 3.882127,
     "end_time": "2024-05-08T05:47:19.084100",
     "exception": false,
     "start_time": "2024-05-08T05:47:15.201973",
     "status": "completed"
    },
    "tags": []
   },
   "outputs": [],
   "source": [
    "train = pd.read_csv('/kaggle/input/playground-series-s4e5/train.csv', index_col='id')\n",
    "test = pd.read_csv('/kaggle/input/playground-series-s4e5/test.csv', index_col='id')"
   ]
  },
  {
   "cell_type": "markdown",
   "id": "6aadaa59",
   "metadata": {
    "papermill": {
     "duration": 0.005976,
     "end_time": "2024-05-08T05:47:19.096567",
     "exception": false,
     "start_time": "2024-05-08T05:47:19.090591",
     "status": "completed"
    },
    "tags": []
   },
   "source": [
    "# Preprocessing\n",
    "- I'm incorporating a new feature which was suggested [here](https://www.kaggle.com/competitions/playground-series-s4e5/discussion/499274).\n",
    "- I've also added a few other statistical features which have been suggested on the forums by various people."
   ]
  },
  {
   "cell_type": "code",
   "execution_count": 4,
   "id": "6e1fb7f1",
   "metadata": {
    "execution": {
     "iopub.execute_input": "2024-05-08T05:47:19.110525Z",
     "iopub.status.busy": "2024-05-08T05:47:19.110154Z",
     "iopub.status.idle": "2024-05-08T05:47:19.127048Z",
     "shell.execute_reply": "2024-05-08T05:47:19.125969Z"
    },
    "papermill": {
     "duration": 0.026656,
     "end_time": "2024-05-08T05:47:19.129373",
     "exception": false,
     "start_time": "2024-05-08T05:47:19.102717",
     "status": "completed"
    },
    "tags": []
   },
   "outputs": [],
   "source": [
    "def add_stat_features(dataframe, cols):\n",
    "    dataframe['_sum'] = dataframe[cols].sum(1)\n",
    "    dataframe['_var'] = dataframe[cols].var(1)\n",
    "    dataframe['_prod'] = dataframe[cols].prod(1)\n",
    "    dataframe['_mean'] = dataframe[cols].mean(1)\n",
    "    dataframe['_skew'] = dataframe[cols].skew(1)\n",
    "    dataframe['_median'] = dataframe[cols].median(1)\n",
    "\n",
    "    sorted_features = [f\"sort_{i}\" for i in np.arange(len(cols))]\n",
    "    dataframe[sorted_features] = np.sort(dataframe[cols], axis=1)\n",
    "    \n",
    "    return dataframe\n",
    "        \n",
    "feature_cols = list(test.columns)\n",
    "target_col = 'FloodProbability'"
   ]
  },
  {
   "cell_type": "code",
   "execution_count": 5,
   "id": "94c88836",
   "metadata": {
    "execution": {
     "iopub.execute_input": "2024-05-08T05:47:19.144132Z",
     "iopub.status.busy": "2024-05-08T05:47:19.143748Z",
     "iopub.status.idle": "2024-05-08T05:47:27.645446Z",
     "shell.execute_reply": "2024-05-08T05:47:27.644460Z"
    },
    "papermill": {
     "duration": 8.512327,
     "end_time": "2024-05-08T05:47:27.648272",
     "exception": false,
     "start_time": "2024-05-08T05:47:19.135945",
     "status": "completed"
    },
    "tags": []
   },
   "outputs": [],
   "source": [
    "train = add_stat_features(train, feature_cols)\n",
    "test = add_stat_features(test, feature_cols)\n",
    "\n",
    "train = train.drop(feature_cols, axis=1)\n",
    "test = test.drop(feature_cols, axis=1)\n",
    "\n",
    "X = train.drop(target_col, axis=1)\n",
    "y = train[target_col]"
   ]
  },
  {
   "cell_type": "markdown",
   "id": "da0c7624",
   "metadata": {
    "papermill": {
     "duration": 0.006529,
     "end_time": "2024-05-08T05:47:27.661185",
     "exception": false,
     "start_time": "2024-05-08T05:47:27.654656",
     "status": "completed"
    },
    "tags": []
   },
   "source": [
    "# Training"
   ]
  },
  {
   "cell_type": "code",
   "execution_count": 6,
   "id": "602d684d",
   "metadata": {
    "execution": {
     "iopub.execute_input": "2024-05-08T05:47:27.675438Z",
     "iopub.status.busy": "2024-05-08T05:47:27.675033Z",
     "iopub.status.idle": "2024-05-08T05:47:27.689499Z",
     "shell.execute_reply": "2024-05-08T05:47:27.688685Z"
    },
    "papermill": {
     "duration": 0.024526,
     "end_time": "2024-05-08T05:47:27.691913",
     "exception": false,
     "start_time": "2024-05-08T05:47:27.667387",
     "status": "completed"
    },
    "tags": []
   },
   "outputs": [],
   "source": [
    "class Trainer:\n",
    "    def __init__(self, model, X, y, n_splits=N_SPLITS, n_repeats=N_REPEATS):\n",
    "        self.model = model\n",
    "        self.X = X\n",
    "        self.y = y\n",
    "        self.n_splits = n_splits\n",
    "        self.n_repeats = n_repeats\n",
    "\n",
    "    def fit(self):\n",
    "        skf = KFold(n_splits=self.n_splits, shuffle=True, random_state=SEED)\n",
    "        \n",
    "        oof_preds = np.zeros(len(self.X), dtype=float)\n",
    "        scores = []\n",
    "        for train_idx, val_idx in skf.split(self.X, self.y):\n",
    "            X_train, X_val = self.X.iloc[train_idx], self.X.iloc[val_idx]\n",
    "            y_train, y_val = self.y.iloc[train_idx], self.y.iloc[val_idx]\n",
    "            \n",
    "            y_pred = np.zeros_like(y_val, dtype=float)\n",
    "            \n",
    "            for i in range(self.n_repeats):\n",
    "                m = clone(self.model)\n",
    "                if self.n_repeats > 1:\n",
    "                    m.set_params(random_state=i)\n",
    "                m.fit(X_train, y_train)\n",
    "                y_pred += m.predict(X_val)\n",
    "                \n",
    "            y_pred /= self.n_repeats\n",
    "            \n",
    "            score = r2_score(y_val, y_pred)\n",
    "            scores.append(score)\n",
    "            \n",
    "            oof_preds[val_idx] = y_pred\n",
    "            \n",
    "        return scores, oof_preds\n",
    "        \n",
    "    def predict(self, X_test):\n",
    "        y_pred = np.zeros(len(X_test), dtype=float)\n",
    "        for i in range(self.n_repeats):\n",
    "            m = clone(self.model)\n",
    "            if self.n_repeats > 1:\n",
    "                m.set_params(random_state=i)\n",
    "            m.fit(self.X, self.y)\n",
    "            y_pred += m.predict(X_test)\n",
    "        y_pred /= self.n_repeats\n",
    "        return y_pred"
   ]
  },
  {
   "cell_type": "code",
   "execution_count": 7,
   "id": "39c38129",
   "metadata": {
    "execution": {
     "iopub.execute_input": "2024-05-08T05:47:27.706284Z",
     "iopub.status.busy": "2024-05-08T05:47:27.705892Z",
     "iopub.status.idle": "2024-05-08T05:47:27.715664Z",
     "shell.execute_reply": "2024-05-08T05:47:27.714644Z"
    },
    "papermill": {
     "duration": 0.019654,
     "end_time": "2024-05-08T05:47:27.717832",
     "exception": false,
     "start_time": "2024-05-08T05:47:27.698178",
     "status": "completed"
    },
    "tags": []
   },
   "outputs": [],
   "source": [
    "xgb_params = {\n",
    "    'n_jobs': -1,\n",
    "    'max_depth': 15,\n",
    "    'max_leaves': 51,\n",
    "    'n_estimators': 921,\n",
    "    'random_state': SEED,\n",
    "    'objective': 'reg:gamma',\n",
    "    'grow_policy': 'depthwise',\n",
    "    'gamma': 0.001191175583365525,\n",
    "    'reg_alpha': 0.4922409840555407,\n",
    "    'subsample': 0.9043911969552909,\n",
    "    'reg_lambda': 0.2006103666827618,\n",
    "    'max_delta_step': 0.5187236006765079,\n",
    "    'learning_rate': 0.031068537109748533,\n",
    "    'colsample_bynode': 0.9056076202576685,\n",
    "    'min_child_weight': 0.1519636306480494,\n",
    "    'colsample_bytree': 0.8136171314595549,\n",
    "    'colsample_bylevel': 0.8469915838866402,\n",
    "}\n",
    "\n",
    "cb_params = {\n",
    "    'depth': 10,\n",
    "    'verbose': False,\n",
    "    'iterations': 1566,\n",
    "    'random_state': SEED,\n",
    "    'min_data_in_leaf': 17,\n",
    "    'loss_function': 'RMSE',\n",
    "    'bootstrap_type': 'MVS',\n",
    "    'grow_policy': 'SymmetricTree',\n",
    "    'l2_leaf_reg': 1.6916966756596432,\n",
    "    'learning_rate': 0.02548238769955287,\n",
    "    'colsample_bylevel': 0.9626458989963868,\n",
    "}\n",
    "\n",
    "lgbm_params = {\n",
    "    'n_jobs': -1,\n",
    "    'verbose': -1,\n",
    "    'max_depth': 222,\n",
    "    'num_leaves': 222,\n",
    "    'n_estimators': 702,\n",
    "    'subsample_freq': 7,\n",
    "    'random_state': SEED,\n",
    "    'boosting_type': 'gbdt',\n",
    "    'min_child_samples': 80,\n",
    "    'subsample': 0.6815709181423294,\n",
    "    'reg_lambda': 0.00539368681254854,\n",
    "    'reg_alpha': 0.017697331864994163,\n",
    "    'learning_rate': 0.02089310186842622,\n",
    "    'colsample_bytree': 0.4920417554994534,\n",
    "    'min_child_weight': 0.021791620166345272\n",
    "}"
   ]
  },
  {
   "cell_type": "code",
   "execution_count": 8,
   "id": "f4bb5463",
   "metadata": {
    "execution": {
     "iopub.execute_input": "2024-05-08T05:47:27.732214Z",
     "iopub.status.busy": "2024-05-08T05:47:27.731828Z",
     "iopub.status.idle": "2024-05-08T07:01:53.996385Z",
     "shell.execute_reply": "2024-05-08T07:01:53.995189Z"
    },
    "papermill": {
     "duration": 4466.280578,
     "end_time": "2024-05-08T07:01:54.004704",
     "exception": false,
     "start_time": "2024-05-08T05:47:27.724126",
     "status": "completed"
    },
    "tags": []
   },
   "outputs": [
    {
     "name": "stdout",
     "output_type": "stream",
     "text": [
      "XGBRegressor: 0.869178 ± 0.000372\n",
      "CatBoostRegressor: 0.869198 ± 0.000374\n",
      "LGBMRegressor: 0.868994 ± 0.000326\n"
     ]
    }
   ],
   "source": [
    "xgb_model = XGBRegressor(**xgb_params)\n",
    "xgb_scores, xgb_oof_preds = Trainer(xgb_model, X, y).fit()\n",
    "print(f'{xgb_model.__class__.__name__}: {np.mean(xgb_scores):.6f} ± {np.std(xgb_scores):.6f}')\n",
    "\n",
    "cb_model = CatBoostRegressor(**cb_params)\n",
    "cb_scores, cb_oof_preds = Trainer(cb_model, X, y).fit()\n",
    "print(f'{cb_model.__class__.__name__}: {np.mean(cb_scores):.6f} ± {np.std(cb_scores):.6f}')\n",
    "\n",
    "lgbm_model = LGBMRegressor(**lgbm_params)\n",
    "lgbm_scores, lgbm_oof_preds = Trainer(lgbm_model, X, y).fit()\n",
    "print(f'{lgbm_model.__class__.__name__}: {np.mean(lgbm_scores):.6f} ± {np.std(lgbm_scores):.6f}')"
   ]
  },
  {
   "cell_type": "code",
   "execution_count": 9,
   "id": "b848d7c5",
   "metadata": {
    "execution": {
     "iopub.execute_input": "2024-05-08T07:01:54.020163Z",
     "iopub.status.busy": "2024-05-08T07:01:54.019735Z",
     "iopub.status.idle": "2024-05-08T07:01:54.202904Z",
     "shell.execute_reply": "2024-05-08T07:01:54.201386Z"
    },
    "papermill": {
     "duration": 0.195561,
     "end_time": "2024-05-08T07:01:54.206954",
     "exception": false,
     "start_time": "2024-05-08T07:01:54.011393",
     "status": "completed"
    },
    "tags": []
   },
   "outputs": [
    {
     "name": "stdout",
     "output_type": "stream",
     "text": [
      "Ridge: 0.869258\n"
     ]
    }
   ],
   "source": [
    "ridge_x = np.column_stack([xgb_oof_preds, cb_oof_preds, lgbm_oof_preds])\n",
    "\n",
    "ridge_model = Ridge(positive=True, tol=1e-6)\n",
    "ridge_model.fit(ridge_x, y)\n",
    "ridge_preds = ridge_model.predict(ridge_x)\n",
    "ridge_score = r2_score(y, ridge_preds)\n",
    "print(f'{ridge_model.__class__.__name__}: {ridge_score:.6f}')"
   ]
  },
  {
   "cell_type": "code",
   "execution_count": 10,
   "id": "bc4a4615",
   "metadata": {
    "execution": {
     "iopub.execute_input": "2024-05-08T07:01:54.239833Z",
     "iopub.status.busy": "2024-05-08T07:01:54.239134Z",
     "iopub.status.idle": "2024-05-08T07:01:54.256126Z",
     "shell.execute_reply": "2024-05-08T07:01:54.254653Z"
    },
    "papermill": {
     "duration": 0.038933,
     "end_time": "2024-05-08T07:01:54.260054",
     "exception": false,
     "start_time": "2024-05-08T07:01:54.221121",
     "status": "completed"
    },
    "tags": []
   },
   "outputs": [
    {
     "data": {
      "text/plain": [
       "XGBRegressor         0.342928\n",
       "CatBoostRegressor    0.371817\n",
       "LGBMRegressor        0.285470\n",
       "dtype: float64"
      ]
     },
     "execution_count": 10,
     "metadata": {},
     "output_type": "execute_result"
    }
   ],
   "source": [
    "weights = pd.Series(ridge_model.coef_, index=[\"XGBRegressor\", \"CatBoostRegressor\", \"LGBMRegressor\"])\n",
    "weights"
   ]
  },
  {
   "cell_type": "code",
   "execution_count": 11,
   "id": "1ccafea0",
   "metadata": {
    "execution": {
     "iopub.execute_input": "2024-05-08T07:01:54.291451Z",
     "iopub.status.busy": "2024-05-08T07:01:54.290768Z",
     "iopub.status.idle": "2024-05-08T07:01:54.718317Z",
     "shell.execute_reply": "2024-05-08T07:01:54.716991Z"
    },
    "papermill": {
     "duration": 0.446464,
     "end_time": "2024-05-08T07:01:54.720873",
     "exception": false,
     "start_time": "2024-05-08T07:01:54.274409",
     "status": "completed"
    },
    "tags": []
   },
   "outputs": [
    {
     "data": {
      "image/png": "[encoded data removed]",
      "text/plain": [
       "<Figure size 1000x500 with 1 Axes>"
      ]
     },
     "metadata": {},
     "output_type": "display_data"
    }
   ],
   "source": [
    "scores = pd.DataFrame({\n",
    "    xgb_model.__class__.__name__: xgb_scores,\n",
    "    cb_model.__class__.__name__: cb_scores,\n",
    "    lgbm_model.__class__.__name__: lgbm_scores,\n",
    "    ridge_model.__class__.__name__: np.array([ridge_score] * 5)\n",
    "})\n",
    "scores = scores[scores.mean().sort_values(ascending=False).index]\n",
    "\n",
    "fig, ax = plt.subplots(1, 1, figsize=(10, 5))\n",
    "mean_scores = scores.mean().sort_values(ascending=False)\n",
    "sns.barplot(x=mean_scores, y=mean_scores.index, orient='h', ax=ax, palette='viridis')\n",
    "ax.set_title('Mean Scores')\n",
    "ax.set_xlabel('')\n",
    "ax.set_ylabel('')\n",
    "ax.set_xlim(mean_scores.min() - 0.001, mean_scores.max() + 0.001)\n",
    "for container in ax.containers:\n",
    "    ax.bar_label(container, label_type='center', fontsize=12)\n",
    "plt.tight_layout()\n",
    "plt.show()"
   ]
  },
  {
   "cell_type": "markdown",
   "id": "707c7374",
   "metadata": {
    "papermill": {
     "duration": 0.00772,
     "end_time": "2024-05-08T07:01:54.736681",
     "exception": false,
     "start_time": "2024-05-08T07:01:54.728961",
     "status": "completed"
    },
    "tags": []
   },
   "source": [
    "# Making Predictions"
   ]
  },
  {
   "cell_type": "code",
   "execution_count": 12,
   "id": "cd563c83",
   "metadata": {
    "execution": {
     "iopub.execute_input": "2024-05-08T07:01:54.755543Z",
     "iopub.status.busy": "2024-05-08T07:01:54.755129Z",
     "iopub.status.idle": "2024-05-08T07:25:38.666055Z",
     "shell.execute_reply": "2024-05-08T07:25:38.664677Z"
    },
    "papermill": {
     "duration": 1423.924792,
     "end_time": "2024-05-08T07:25:38.669806",
     "exception": false,
     "start_time": "2024-05-08T07:01:54.745014",
     "status": "completed"
    },
    "tags": []
   },
   "outputs": [],
   "source": [
    "ridge_x_test = np.column_stack([\n",
    "    Trainer(xgb_model, X, y).predict(test), \n",
    "    Trainer(cb_model, X, y).predict(test),\n",
    "    Trainer(lgbm_model, X, y).predict(test), \n",
    "])"
   ]
  },
  {
   "cell_type": "code",
   "execution_count": 13,
   "id": "12cfff8f",
   "metadata": {
    "execution": {
     "iopub.execute_input": "2024-05-08T07:25:38.693919Z",
     "iopub.status.busy": "2024-05-08T07:25:38.693499Z",
     "iopub.status.idle": "2024-05-08T07:25:41.288936Z",
     "shell.execute_reply": "2024-05-08T07:25:41.287689Z"
    },
    "papermill": {
     "duration": 2.610682,
     "end_time": "2024-05-08T07:25:41.291687",
     "exception": false,
     "start_time": "2024-05-08T07:25:38.681005",
     "status": "completed"
    },
    "tags": []
   },
   "outputs": [
    {
     "data": {
      "text/html": [
       "<div>\n",
       "<style scoped>\n",
       "    .dataframe tbody tr th:only-of-type {\n",
       "        vertical-align: middle;\n",
       "    }\n",
       "\n",
       "    .dataframe tbody tr th {\n",
       "        vertical-align: top;\n",
       "    }\n",
       "\n",
       "    .dataframe thead th {\n",
       "        text-align: right;\n",
       "    }\n",
       "</style>\n",
       "<table border=\"1\" class=\"dataframe\">\n",
       "  <thead>\n",
       "    <tr style=\"text-align: right;\">\n",
       "      <th></th>\n",
       "      <th>id</th>\n",
       "      <th>FloodProbability</th>\n",
       "    </tr>\n",
       "  </thead>\n",
       "  <tbody>\n",
       "    <tr>\n",
       "      <th>0</th>\n",
       "      <td>1117957</td>\n",
       "      <td>0.578475</td>\n",
       "    </tr>\n",
       "    <tr>\n",
       "      <th>1</th>\n",
       "      <td>1117958</td>\n",
       "      <td>0.456428</td>\n",
       "    </tr>\n",
       "    <tr>\n",
       "      <th>2</th>\n",
       "      <td>1117959</td>\n",
       "      <td>0.448360</td>\n",
       "    </tr>\n",
       "    <tr>\n",
       "      <th>3</th>\n",
       "      <td>1117960</td>\n",
       "      <td>0.466578</td>\n",
       "    </tr>\n",
       "    <tr>\n",
       "      <th>4</th>\n",
       "      <td>1117961</td>\n",
       "      <td>0.466800</td>\n",
       "    </tr>\n",
       "  </tbody>\n",
       "</table>\n",
       "</div>"
      ],
      "text/plain": [
       "        id  FloodProbability\n",
       "0  1117957          0.578475\n",
       "1  1117958          0.456428\n",
       "2  1117959          0.448360\n",
       "3  1117960          0.466578\n",
       "4  1117961          0.466800"
      ]
     },
     "execution_count": 13,
     "metadata": {},
     "output_type": "execute_result"
    }
   ],
   "source": [
    "y_pred = ridge_model.predict(ridge_x_test)\n",
    "submission = pd.DataFrame({'id': test.index, target_col: y_pred})\n",
    "submission.to_csv(f'ensemble.csv', index=False)\n",
    "submission.head()"
   ]
  },
  {
   "cell_type": "code",
   "execution_count": null,
   "id": "0f8c7815",
   "metadata": {
    "papermill": {
     "duration": 0.007683,
     "end_time": "2024-05-08T07:25:41.307860",
     "exception": false,
     "start_time": "2024-05-08T07:25:41.300177",
     "status": "completed"
    },
    "tags": []
   },
   "outputs": [],
   "source": []
  }
 ],
 "metadata": {
  "kaggle": {
   "accelerator": "none",
   "dataSources": [
    {
     "databundleVersionId": 8121328,
     "sourceId": 73278,
     "sourceType": "competition"
    }
   ],
   "dockerImageVersionId": 30698,
   "isGpuEnabled": false,
   "isInternetEnabled": true,
   "language": "python",
   "sourceType": "notebook"
  },
  "kernelspec": {
   "display_name": "Python 3",
   "language": "python",
   "name": "python3"
  },
  "language_info": {
   "codemirror_mode": {
    "name": "ipython",
    "version": 3
   },
   "file_extension": ".py",
   "mimetype": "text/x-python",
   "name": "python",
   "nbconvert_exporter": "python",
   "pygments_lexer": "ipython3",
   "version": "3.10.13"
  },
  "papermill": {
   "default_parameters": {},
   "duration": 5915.031913,
   "end_time": "2024-05-08T07:25:42.252842",
   "environment_variables": {},
   "exception": null,
   "input_path": "__notebook__.ipynb",
   "output_path": "__notebook__.ipynb",
   "parameters": {},
   "start_time": "2024-05-08T05:47:07.220929",
   "version": "2.5.0"
  }
 },
 "nbformat": 4,
 "nbformat_minor": 5
}
