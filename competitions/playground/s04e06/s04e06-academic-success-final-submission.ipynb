{
 "cells": [
  {
   "cell_type": "markdown",
   "id": "2b4f5efa",
   "metadata": {
    "papermill": {
     "duration": 0.008707,
     "end_time": "2024-06-26T06:44:08.655881",
     "exception": false,
     "start_time": "2024-06-26T06:44:08.647174",
     "status": "completed"
    },
    "tags": []
   },
   "source": [
    "# Imports and Configs"
   ]
  },
  {
   "cell_type": "code",
   "execution_count": 1,
   "id": "9bb82f56",
   "metadata": {
    "_cell_guid": "b1076dfc-b9ad-4769-8c92-a6c4dae69d19",
    "_uuid": "8f2839f25d086af736a60e9eeb907d3b93b6e0e5",
    "execution": {
     "iopub.execute_input": "2024-06-26T06:44:08.674337Z",
     "iopub.status.busy": "2024-06-26T06:44:08.673352Z",
     "iopub.status.idle": "2024-06-26T06:44:11.552442Z",
     "shell.execute_reply": "2024-06-26T06:44:11.551333Z"
    },
    "papermill": {
     "duration": 2.890842,
     "end_time": "2024-06-26T06:44:11.554979",
     "exception": false,
     "start_time": "2024-06-26T06:44:08.664137",
     "status": "completed"
    },
    "tags": []
   },
   "outputs": [],
   "source": [
    "from sklearn.metrics import accuracy_score, roc_auc_score\n",
    "from sklearn.base import BaseEstimator, ClassifierMixin\n",
    "from sklearn.model_selection import StratifiedKFold\n",
    "from sklearn.linear_model import LogisticRegression\n",
    "from sklearn.ensemble import StackingClassifier\n",
    "from sklearn.preprocessing import LabelEncoder\n",
    "from optuna.samplers import TPESampler\n",
    "from sklearn.utils import check_array\n",
    "import matplotlib.pyplot as plt\n",
    "from sklearn.base import clone\n",
    "import seaborn as sns\n",
    "import pandas as pd\n",
    "import numpy as np\n",
    "import warnings\n",
    "import pickle\n",
    "import optuna\n",
    "import glob\n",
    "\n",
    "sns.set_style('whitegrid')\n",
    "warnings.filterwarnings('ignore')"
   ]
  },
  {
   "cell_type": "code",
   "execution_count": 2,
   "id": "dab06500",
   "metadata": {
    "execution": {
     "iopub.execute_input": "2024-06-26T06:44:11.574370Z",
     "iopub.status.busy": "2024-06-26T06:44:11.573279Z",
     "iopub.status.idle": "2024-06-26T06:44:11.577970Z",
     "shell.execute_reply": "2024-06-26T06:44:11.577002Z"
    },
    "papermill": {
     "duration": 0.016499,
     "end_time": "2024-06-26T06:44:11.580037",
     "exception": false,
     "start_time": "2024-06-26T06:44:11.563538",
     "status": "completed"
    },
    "tags": []
   },
   "outputs": [],
   "source": [
    "SEED = 27\n",
    "N_FOLDS = 5\n",
    "TARGET = 'Target'"
   ]
  },
  {
   "cell_type": "code",
   "execution_count": 3,
   "id": "21fd2bf3",
   "metadata": {
    "execution": {
     "iopub.execute_input": "2024-06-26T06:44:11.597963Z",
     "iopub.status.busy": "2024-06-26T06:44:11.597599Z",
     "iopub.status.idle": "2024-06-26T06:44:12.184202Z",
     "shell.execute_reply": "2024-06-26T06:44:12.183138Z"
    },
    "papermill": {
     "duration": 0.598477,
     "end_time": "2024-06-26T06:44:12.186711",
     "exception": false,
     "start_time": "2024-06-26T06:44:11.588234",
     "status": "completed"
    },
    "tags": []
   },
   "outputs": [],
   "source": [
    "train = pd.read_csv('/kaggle/input/playground-series-s4e6/train.csv', index_col='id')\n",
    "test = pd.read_csv('/kaggle/input/playground-series-s4e6/test.csv', index_col='id')"
   ]
  },
  {
   "cell_type": "code",
   "execution_count": 4,
   "id": "6cc55186",
   "metadata": {
    "execution": {
     "iopub.execute_input": "2024-06-26T06:44:12.205589Z",
     "iopub.status.busy": "2024-06-26T06:44:12.204728Z",
     "iopub.status.idle": "2024-06-26T06:44:12.232813Z",
     "shell.execute_reply": "2024-06-26T06:44:12.231898Z"
    },
    "papermill": {
     "duration": 0.040141,
     "end_time": "2024-06-26T06:44:12.235297",
     "exception": false,
     "start_time": "2024-06-26T06:44:12.195156",
     "status": "completed"
    },
    "tags": []
   },
   "outputs": [],
   "source": [
    "label_encoder = LabelEncoder()\n",
    "\n",
    "X = train.drop(TARGET, axis=1)\n",
    "y = train[TARGET]\n",
    "y = label_encoder.fit_transform(y)"
   ]
  },
  {
   "cell_type": "markdown",
   "id": "9930cc46",
   "metadata": {
    "papermill": {
     "duration": 0.007875,
     "end_time": "2024-06-26T06:44:12.251426",
     "exception": false,
     "start_time": "2024-06-26T06:44:12.243551",
     "status": "completed"
    },
    "tags": []
   },
   "source": [
    "# Loading OOF Files"
   ]
  },
  {
   "cell_type": "code",
   "execution_count": 5,
   "id": "7dbec598",
   "metadata": {
    "execution": {
     "iopub.execute_input": "2024-06-26T06:44:12.269542Z",
     "iopub.status.busy": "2024-06-26T06:44:12.269150Z",
     "iopub.status.idle": "2024-06-26T06:44:12.276509Z",
     "shell.execute_reply": "2024-06-26T06:44:12.275459Z"
    },
    "papermill": {
     "duration": 0.018831,
     "end_time": "2024-06-26T06:44:12.278526",
     "exception": false,
     "start_time": "2024-06-26T06:44:12.259695",
     "status": "completed"
    },
    "tags": []
   },
   "outputs": [],
   "source": [
    "def load_automl_oof_pred_probs(path):\n",
    "    files = glob.glob(f'{path}/*.pkl')\n",
    "    tmp = []\n",
    "    for file in files:\n",
    "        content = pickle.load(open(file, 'rb'))\n",
    "        if type(content) == pd.DataFrame:\n",
    "            tmp.append(content.values)\n",
    "        else:\n",
    "            tmp.append(content)\n",
    "    return np.vstack(tmp)\n",
    "\n",
    "def load_automl_test_pred_probs(path):\n",
    "    files = glob.glob(f'{path}/*.csv')\n",
    "    tmp = []\n",
    "    for file in files:\n",
    "        content = pd.read_csv(file, index_col=\"id\")\n",
    "        tmp.append(content.values)\n",
    "    return np.mean(tmp, axis=0)"
   ]
  },
  {
   "cell_type": "code",
   "execution_count": 6,
   "id": "4af9ba6a",
   "metadata": {
    "execution": {
     "iopub.execute_input": "2024-06-26T06:44:12.297409Z",
     "iopub.status.busy": "2024-06-26T06:44:12.297038Z",
     "iopub.status.idle": "2024-06-26T06:44:12.538717Z",
     "shell.execute_reply": "2024-06-26T06:44:12.537789Z"
    },
    "papermill": {
     "duration": 0.25369,
     "end_time": "2024-06-26T06:44:12.541176",
     "exception": false,
     "start_time": "2024-06-26T06:44:12.287486",
     "status": "completed"
    },
    "tags": []
   },
   "outputs": [],
   "source": [
    "# Single Models\n",
    "xgb_oof_pred_probs = pickle.load(open('/kaggle/input/academic-success-oof-files/single_models/oof_pred_probs/xgb_oof_pred_probs.pkl', 'rb'))\n",
    "cb_oof_pred_probs = pickle.load(open('/kaggle/input/academic-success-oof-files/single_models/oof_pred_probs/cb_oof_pred_probs.pkl', 'rb'))\n",
    "lgbm_oof_pred_probs = pickle.load(open('/kaggle/input/academic-success-oof-files/single_models/oof_pred_probs/lgbm_oof_pred_probs.pkl', 'rb'))\n",
    "hgb_oof_pred_probs = pickle.load(open('/kaggle/input/academic-success-oof-files/single_models/oof_pred_probs/hgb_oof_pred_probs.pkl', 'rb'))\n",
    "gb_oof_pred_probs = pickle.load(open('/kaggle/input/academic-success-oof-files/single_models/oof_pred_probs/gb_oof_pred_probs.pkl', 'rb'))\n",
    "rf_oof_pred_probs = pickle.load(open('/kaggle/input/academic-success-oof-files/single_models/oof_pred_probs/rf_oof_pred_probs.pkl', 'rb'))\n",
    "\n",
    "# AutoML\n",
    "ag_oof_pred_probs = load_automl_oof_pred_probs('/kaggle/input/academic-success-oof-files/autogluon/oof_pred_probs')\n",
    "laml_oof_pred_probs = load_automl_oof_pred_probs('/kaggle/input/academic-success-oof-files/laml/oof_pred_probs')\n",
    "flaml_oof_pred_probs = load_automl_oof_pred_probs('/kaggle/input/academic-success-oof-files/flaml/oof_pred_probs')"
   ]
  },
  {
   "cell_type": "code",
   "execution_count": 7,
   "id": "53089638",
   "metadata": {
    "execution": {
     "iopub.execute_input": "2024-06-26T06:44:12.560755Z",
     "iopub.status.busy": "2024-06-26T06:44:12.559834Z",
     "iopub.status.idle": "2024-06-26T06:44:13.477885Z",
     "shell.execute_reply": "2024-06-26T06:44:13.476841Z"
    },
    "papermill": {
     "duration": 0.930603,
     "end_time": "2024-06-26T06:44:13.480514",
     "exception": false,
     "start_time": "2024-06-26T06:44:12.549911",
     "status": "completed"
    },
    "tags": []
   },
   "outputs": [],
   "source": [
    "# Single Models\n",
    "xgb_test_pred_probs = pickle.load(open('/kaggle/input/academic-success-oof-files/single_models/test_pred_probs/xgb_test_pred_probs.pkl', 'rb'))\n",
    "cb_test_pred_probs = pickle.load(open('/kaggle/input/academic-success-oof-files/single_models/test_pred_probs/cb_test_pred_probs.pkl', 'rb'))\n",
    "lgbm_test_pred_probs = pickle.load(open('/kaggle/input/academic-success-oof-files/single_models/test_pred_probs/lgbm_test_pred_probs.pkl', 'rb'))\n",
    "hgb_test_pred_probs = pickle.load(open('/kaggle/input/academic-success-oof-files/single_models/test_pred_probs/hgb_test_pred_probs.pkl', 'rb'))\n",
    "gb_test_pred_probs = pickle.load(open('/kaggle/input/academic-success-oof-files/single_models/test_pred_probs/gb_test_pred_probs.pkl', 'rb'))\n",
    "rf_test_pred_probs = pickle.load(open('/kaggle/input/academic-success-oof-files/single_models/test_pred_probs/rf_test_pred_probs.pkl', 'rb'))\n",
    "\n",
    "# AutoML\n",
    "ag_test_pred_probs = load_automl_test_pred_probs('/kaggle/input/academic-success-oof-files/autogluon/test_pred_probs')\n",
    "laml_test_pred_probs = load_automl_test_pred_probs('/kaggle/input/academic-success-oof-files/laml/test_pred_probs')\n",
    "flaml_test_pred_probs = load_automl_test_pred_probs('/kaggle/input/academic-success-oof-files/flaml/test_pred_probs')"
   ]
  },
  {
   "cell_type": "markdown",
   "id": "651853ca",
   "metadata": {
    "papermill": {
     "duration": 0.008094,
     "end_time": "2024-06-26T06:44:13.496967",
     "exception": false,
     "start_time": "2024-06-26T06:44:13.488873",
     "status": "completed"
    },
    "tags": []
   },
   "source": [
    "# Defining Training and Cross Validation Functions"
   ]
  },
  {
   "cell_type": "code",
   "execution_count": 8,
   "id": "ba2d8b06",
   "metadata": {
    "execution": {
     "iopub.execute_input": "2024-06-26T06:44:13.515896Z",
     "iopub.status.busy": "2024-06-26T06:44:13.514879Z",
     "iopub.status.idle": "2024-06-26T06:44:13.526214Z",
     "shell.execute_reply": "2024-06-26T06:44:13.525129Z"
    },
    "papermill": {
     "duration": 0.023144,
     "end_time": "2024-06-26T06:44:13.528550",
     "exception": false,
     "start_time": "2024-06-26T06:44:13.505406",
     "status": "completed"
    },
    "tags": []
   },
   "outputs": [],
   "source": [
    "class Trainer:\n",
    "    def __init__(self, model, n_folds=N_FOLDS):\n",
    "        self.model = model\n",
    "        self.n_folds = n_folds\n",
    "\n",
    "    def fit(self, X, y):\n",
    "        print(f'Training {self.model.__class__.__name__}')\n",
    "\n",
    "        rskf = StratifiedKFold(n_splits=self.n_folds, random_state=SEED, shuffle=True)\n",
    "\n",
    "        accs = []\n",
    "        aucs = []\n",
    "        oof_pred_probs = np.zeros((X.shape[0], len(np.unique(y))))\n",
    "        oof_preds = np.zeros(X.shape[0])\n",
    "        for fold_idx, (train_idx, val_idx) in enumerate(rskf.split(X, y)):\n",
    "            X_train, X_val = X.iloc[train_idx], X.iloc[val_idx]\n",
    "            y_train, y_val = y[train_idx], y[val_idx]\n",
    "            \n",
    "            model = clone(self.model)\n",
    "            model.fit(X_train, y_train)\n",
    "\n",
    "            y_pred_probs = model.predict_proba(X_val)\n",
    "            y_pred = np.argmax(y_pred_probs, axis=1)\n",
    "\n",
    "            oof_pred_probs[val_idx] = y_pred_probs\n",
    "            oof_preds[val_idx] = y_pred\n",
    "\n",
    "            acc = accuracy_score(y_val, y_pred)\n",
    "            auc = roc_auc_score(y_val, y_pred_probs, multi_class='ovo')\n",
    "            accs.append(acc)\n",
    "            aucs.append(auc)\n",
    "\n",
    "            print(f'--- Fold {fold_idx + 1} - Accuracy: {acc:.6f}, AUC: {auc:.6f}')\n",
    "\n",
    "        print(f'\\n------ Accuracy: {np.mean(accs):.6f} ± {np.std(accs):.6f}')\n",
    "        print(f'------ AUC:      {np.mean(aucs):.6f} ± {np.std(aucs):.6f}\\n\\n')\n",
    "\n",
    "        return oof_pred_probs, oof_preds, accs, aucs\n",
    "    \n",
    "    def fit_predict_proba(self, X, y, X_test):            \n",
    "        model = clone(self.model)\n",
    "        model.fit(X, y)\n",
    "        return model.predict_proba(X_test)"
   ]
  },
  {
   "cell_type": "code",
   "execution_count": 9,
   "id": "2eef990d",
   "metadata": {
    "execution": {
     "iopub.execute_input": "2024-06-26T06:44:13.547552Z",
     "iopub.status.busy": "2024-06-26T06:44:13.546584Z",
     "iopub.status.idle": "2024-06-26T06:44:13.552535Z",
     "shell.execute_reply": "2024-06-26T06:44:13.551533Z"
    },
    "papermill": {
     "duration": 0.017769,
     "end_time": "2024-06-26T06:44:13.554716",
     "exception": false,
     "start_time": "2024-06-26T06:44:13.536947",
     "status": "completed"
    },
    "tags": []
   },
   "outputs": [],
   "source": [
    "def save_submission(pred_probs, accuracy, auc):\n",
    "    submission = pd.read_csv('/kaggle/input/playground-series-s4e6/sample_submission.csv')\n",
    "    submission['Target'] = np.argmax(pred_probs, axis=1)\n",
    "    submission['Target'] = label_encoder.inverse_transform(submission['Target'])\n",
    "    submission.to_csv(f'stacking_acc-{accuracy:.6f}_auc-{auc:.6f}.csv', index=False)\n",
    "    return submission"
   ]
  },
  {
   "cell_type": "code",
   "execution_count": 10,
   "id": "42367d21",
   "metadata": {
    "execution": {
     "iopub.execute_input": "2024-06-26T06:44:13.572887Z",
     "iopub.status.busy": "2024-06-26T06:44:13.572491Z",
     "iopub.status.idle": "2024-06-26T06:44:13.577502Z",
     "shell.execute_reply": "2024-06-26T06:44:13.576329Z"
    },
    "papermill": {
     "duration": 0.016777,
     "end_time": "2024-06-26T06:44:13.579795",
     "exception": false,
     "start_time": "2024-06-26T06:44:13.563018",
     "status": "completed"
    },
    "tags": []
   },
   "outputs": [],
   "source": [
    "accuracies = {}\n",
    "aucs = {}\n",
    "\n",
    "test_pred_probs = {}\n",
    "oof_pred_probs = {}\n",
    "oof_preds = {}"
   ]
  },
  {
   "cell_type": "markdown",
   "id": "8503fdd6",
   "metadata": {
    "papermill": {
     "duration": 0.008461,
     "end_time": "2024-06-26T06:44:13.596563",
     "exception": false,
     "start_time": "2024-06-26T06:44:13.588102",
     "status": "completed"
    },
    "tags": []
   },
   "source": [
    "# Base Models"
   ]
  },
  {
   "cell_type": "code",
   "execution_count": 11,
   "id": "f9d601fc",
   "metadata": {
    "execution": {
     "iopub.execute_input": "2024-06-26T06:44:13.615109Z",
     "iopub.status.busy": "2024-06-26T06:44:13.614685Z",
     "iopub.status.idle": "2024-06-26T06:44:13.620433Z",
     "shell.execute_reply": "2024-06-26T06:44:13.619378Z"
    },
    "papermill": {
     "duration": 0.017707,
     "end_time": "2024-06-26T06:44:13.622672",
     "exception": false,
     "start_time": "2024-06-26T06:44:13.604965",
     "status": "completed"
    },
    "tags": []
   },
   "outputs": [],
   "source": [
    "oof_pred_probs['XGB'] = xgb_oof_pred_probs\n",
    "test_pred_probs['XGB'] = xgb_test_pred_probs\n",
    "accuracies['XGB'] = [0.836644, 0.837101, 0.835403, 0.833235, 0.825590]\n",
    "aucs['XGB'] = [0.930521, 0.932307, 0.929514, 0.929363, 0.924143]"
   ]
  },
  {
   "cell_type": "code",
   "execution_count": 12,
   "id": "bcc65139",
   "metadata": {
    "execution": {
     "iopub.execute_input": "2024-06-26T06:44:13.641488Z",
     "iopub.status.busy": "2024-06-26T06:44:13.640534Z",
     "iopub.status.idle": "2024-06-26T06:44:13.646384Z",
     "shell.execute_reply": "2024-06-26T06:44:13.645216Z"
    },
    "papermill": {
     "duration": 0.017678,
     "end_time": "2024-06-26T06:44:13.648756",
     "exception": false,
     "start_time": "2024-06-26T06:44:13.631078",
     "status": "completed"
    },
    "tags": []
   },
   "outputs": [],
   "source": [
    "oof_pred_probs['CB'] = cb_oof_pred_probs\n",
    "test_pred_probs['CB'] = cb_test_pred_probs\n",
    "accuracies['CB'] = [0.836448, 0.836513, 0.834618, 0.833366, 0.826962]\n",
    "aucs['CB'] = [0.930153, 0.931919, 0.929599, 0.929235, 0.924700]"
   ]
  },
  {
   "cell_type": "code",
   "execution_count": 13,
   "id": "01b34706",
   "metadata": {
    "execution": {
     "iopub.execute_input": "2024-06-26T06:44:13.667170Z",
     "iopub.status.busy": "2024-06-26T06:44:13.666785Z",
     "iopub.status.idle": "2024-06-26T06:44:13.672382Z",
     "shell.execute_reply": "2024-06-26T06:44:13.671330Z"
    },
    "papermill": {
     "duration": 0.017203,
     "end_time": "2024-06-26T06:44:13.674481",
     "exception": false,
     "start_time": "2024-06-26T06:44:13.657278",
     "status": "completed"
    },
    "tags": []
   },
   "outputs": [],
   "source": [
    "oof_pred_probs['LGBM'] = lgbm_oof_pred_probs\n",
    "test_pred_probs['LGBM'] = lgbm_test_pred_probs\n",
    "accuracies['LGBM'] = [0.837036, 0.836317, 0.836579, 0.834804, 0.826635]\n",
    "aucs['LGBM'] = [0.930935, 0.932722, 0.930180, 0.930146, 0.924594]"
   ]
  },
  {
   "cell_type": "code",
   "execution_count": 14,
   "id": "4f23c3d1",
   "metadata": {
    "execution": {
     "iopub.execute_input": "2024-06-26T06:44:13.692753Z",
     "iopub.status.busy": "2024-06-26T06:44:13.692343Z",
     "iopub.status.idle": "2024-06-26T06:44:13.697936Z",
     "shell.execute_reply": "2024-06-26T06:44:13.696758Z"
    },
    "papermill": {
     "duration": 0.017382,
     "end_time": "2024-06-26T06:44:13.700139",
     "exception": false,
     "start_time": "2024-06-26T06:44:13.682757",
     "status": "completed"
    },
    "tags": []
   },
   "outputs": [],
   "source": [
    "oof_pred_probs['HGB'] = hgb_oof_pred_probs\n",
    "test_pred_probs['HGB'] = hgb_test_pred_probs\n",
    "accuracies['HGB'] = [0.834814, 0.835010, 0.835403, 0.832517, 0.825132]\n",
    "aucs['HGB'] = [0.929074, 0.930172, 0.928571, 0.928758, 0.924181]"
   ]
  },
  {
   "cell_type": "code",
   "execution_count": 15,
   "id": "1342706d",
   "metadata": {
    "execution": {
     "iopub.execute_input": "2024-06-26T06:44:13.719265Z",
     "iopub.status.busy": "2024-06-26T06:44:13.717918Z",
     "iopub.status.idle": "2024-06-26T06:44:13.724703Z",
     "shell.execute_reply": "2024-06-26T06:44:13.723591Z"
    },
    "papermill": {
     "duration": 0.018636,
     "end_time": "2024-06-26T06:44:13.726961",
     "exception": false,
     "start_time": "2024-06-26T06:44:13.708325",
     "status": "completed"
    },
    "tags": []
   },
   "outputs": [],
   "source": [
    "oof_pred_probs['GB'] = gb_oof_pred_probs\n",
    "test_pred_probs['GB'] = gb_test_pred_probs\n",
    "accuracies['GB'] = [0.836448, 0.835664, 0.835795, 0.833235, 0.823629]\n",
    "aucs['GB'] = [0.930418, 0.931982, 0.930053, 0.929623, 0.925156]"
   ]
  },
  {
   "cell_type": "code",
   "execution_count": 16,
   "id": "c2d8e761",
   "metadata": {
    "execution": {
     "iopub.execute_input": "2024-06-26T06:44:13.745783Z",
     "iopub.status.busy": "2024-06-26T06:44:13.744841Z",
     "iopub.status.idle": "2024-06-26T06:44:13.750429Z",
     "shell.execute_reply": "2024-06-26T06:44:13.749242Z"
    },
    "papermill": {
     "duration": 0.017145,
     "end_time": "2024-06-26T06:44:13.752646",
     "exception": false,
     "start_time": "2024-06-26T06:44:13.735501",
     "status": "completed"
    },
    "tags": []
   },
   "outputs": [],
   "source": [
    "oof_pred_probs['RF'] = rf_oof_pred_probs\n",
    "test_pred_probs['RF'] = rf_test_pred_probs\n",
    "accuracies['RF'] = [0.828738, 0.831939, 0.830306, 0.826766, 0.821865]\n",
    "aucs['RF'] = [0.923348, 0.925072, 0.921366, 0.923187, 0.917795]"
   ]
  },
  {
   "cell_type": "code",
   "execution_count": 17,
   "id": "401d672b",
   "metadata": {
    "execution": {
     "iopub.execute_input": "2024-06-26T06:44:13.771477Z",
     "iopub.status.busy": "2024-06-26T06:44:13.770574Z",
     "iopub.status.idle": "2024-06-26T06:44:13.775982Z",
     "shell.execute_reply": "2024-06-26T06:44:13.774905Z"
    },
    "papermill": {
     "duration": 0.017209,
     "end_time": "2024-06-26T06:44:13.778222",
     "exception": false,
     "start_time": "2024-06-26T06:44:13.761013",
     "status": "completed"
    },
    "tags": []
   },
   "outputs": [],
   "source": [
    "oof_pred_probs['AG'] = ag_oof_pred_probs\n",
    "test_pred_probs['AG'] = ag_test_pred_probs\n",
    "accuracies['AG'] = [0.835010, 0.835860, 0.835403, 0.833823, 0.826113]\n",
    "aucs['AG'] = [0.930343, 0.931906, 0.929550, 0.929920, 0.925213]"
   ]
  },
  {
   "cell_type": "code",
   "execution_count": 18,
   "id": "d971256c",
   "metadata": {
    "execution": {
     "iopub.execute_input": "2024-06-26T06:44:13.796120Z",
     "iopub.status.busy": "2024-06-26T06:44:13.795727Z",
     "iopub.status.idle": "2024-06-26T06:44:13.801235Z",
     "shell.execute_reply": "2024-06-26T06:44:13.800176Z"
    },
    "papermill": {
     "duration": 0.016901,
     "end_time": "2024-06-26T06:44:13.803367",
     "exception": false,
     "start_time": "2024-06-26T06:44:13.786466",
     "status": "completed"
    },
    "tags": []
   },
   "outputs": [],
   "source": [
    "oof_pred_probs['LAML'] = laml_oof_pred_probs\n",
    "test_pred_probs['LAML'] = laml_test_pred_probs\n",
    "accuracies['LAML'] = [0.835403, 0.835010, 0.833900, 0.832190, 0.826243]\n",
    "aucs['LAML'] = [0.931167, 0.932128, 0.929940, 0.929787, 0.924839]"
   ]
  },
  {
   "cell_type": "code",
   "execution_count": 19,
   "id": "3dd0c503",
   "metadata": {
    "execution": {
     "iopub.execute_input": "2024-06-26T06:44:13.821621Z",
     "iopub.status.busy": "2024-06-26T06:44:13.821239Z",
     "iopub.status.idle": "2024-06-26T06:44:13.826843Z",
     "shell.execute_reply": "2024-06-26T06:44:13.825706Z"
    },
    "papermill": {
     "duration": 0.017405,
     "end_time": "2024-06-26T06:44:13.829104",
     "exception": false,
     "start_time": "2024-06-26T06:44:13.811699",
     "status": "completed"
    },
    "tags": []
   },
   "outputs": [],
   "source": [
    "oof_pred_probs['FLAML'] = flaml_oof_pred_probs\n",
    "test_pred_probs['FLAML'] = flaml_test_pred_probs\n",
    "accuracies['FLAML'] = [0.835272, 0.835010, 0.835925, 0.834608, 0.823499]\n",
    "aucs['FLAML'] = [0.930438, 0.932135, 0.930229, 0.930079, 0.924522]"
   ]
  },
  {
   "cell_type": "markdown",
   "id": "247d0e50",
   "metadata": {
    "papermill": {
     "duration": 0.008304,
     "end_time": "2024-06-26T06:44:13.846305",
     "exception": false,
     "start_time": "2024-06-26T06:44:13.838001",
     "status": "completed"
    },
    "tags": []
   },
   "source": [
    "# Ensemble V1"
   ]
  },
  {
   "cell_type": "code",
   "execution_count": 20,
   "id": "b4cbd746",
   "metadata": {
    "_kg_hide-output": true,
    "execution": {
     "iopub.execute_input": "2024-06-26T06:44:13.864561Z",
     "iopub.status.busy": "2024-06-26T06:44:13.864163Z",
     "iopub.status.idle": "2024-06-26T06:44:13.875895Z",
     "shell.execute_reply": "2024-06-26T06:44:13.874755Z"
    },
    "papermill": {
     "duration": 0.023539,
     "end_time": "2024-06-26T06:44:13.878096",
     "exception": false,
     "start_time": "2024-06-26T06:44:13.854557",
     "status": "completed"
    },
    "scrolled": true,
    "tags": []
   },
   "outputs": [],
   "source": [
    "def objective(trial):\n",
    "    xgb_weight = trial.suggest_float('xgb_weight', 0.0, 1.0)\n",
    "    cb_weight = trial.suggest_float('cb_weight', 0.0, 1.0)\n",
    "    lgbm_weight = trial.suggest_float('lgbm_weight', 0.0, 1.0)\n",
    "    hgb_weight = trial.suggest_float('hgb_weight', 0.0, 1.0)\n",
    "    gb_weight = trial.suggest_float('gb_weight', 0.0, 1.0)\n",
    "    rf_weight = trial.suggest_float('rf_weight', 0.0, 1.0)\n",
    "    ag_weight = trial.suggest_float('ag_weight', 0.0, 1.0)\n",
    "    laml_weight = trial.suggest_float('laml_weight', 0.0, 1.0)\n",
    "    flaml_weight = trial.suggest_float('flaml_weight', 0.0, 1.0)\n",
    "\n",
    "    weights = [\n",
    "        xgb_weight,\n",
    "        cb_weight,\n",
    "        lgbm_weight,\n",
    "        hgb_weight,\n",
    "        gb_weight,\n",
    "        rf_weight,\n",
    "        ag_weight,\n",
    "        laml_weight,\n",
    "        flaml_weight\n",
    "    ]\n",
    "    weights /= np.sum(weights)\n",
    "    \n",
    "    pred_probs = np.zeros((X.shape[0], len(np.unique(y))))\n",
    "    for model, weight in zip(oof_pred_probs.keys(), weights):\n",
    "        pred_probs += oof_pred_probs[model] * weight\n",
    "\n",
    "    preds = np.argmax(pred_probs, axis=1)\n",
    "\n",
    "    return accuracy_score(y, preds)\n",
    "\n",
    "\n",
    "tune_ensemble_weights = False\n",
    "if tune_ensemble_weights:\n",
    "    sampler = TPESampler(seed=SEED)\n",
    "    study = optuna.create_study(direction='maximize', sampler=sampler)\n",
    "    study.optimize(objective, n_trials=1000)\n",
    "    best_weights = study.best_params\n",
    "else:\n",
    "    best_weights = {\n",
    "        'xgb_weight': 0.5740104663437746,\n",
    "        'cb_weight': 0.9104056286193143, \n",
    "        'lgbm_weight': 0.9131397955070416, \n",
    "        'hgb_weight': 0.001051386511067301,\n",
    "        'gb_weight': 0.06579972851873835,\n",
    "        'rf_weight': 0.15157229577921383, \n",
    "        'ag_weight': 0.0015414128910028863,\n",
    "        'laml_weight': 0.10174097949916713,\n",
    "        'flaml_weight': 0.2375750257666058\n",
    "    }\n",
    "\n",
    "model_prefixes = ['xgb', 'cb', 'lgbm', 'hgb', 'gb', 'rf', 'ag', 'laml', 'flaml']\n",
    "best_weights = [best_weights[f'{model}_weight'] for model in model_prefixes]\n",
    "best_weights /= np.sum(best_weights)"
   ]
  },
  {
   "cell_type": "code",
   "execution_count": 21,
   "id": "3fe5bbc7",
   "metadata": {
    "execution": {
     "iopub.execute_input": "2024-06-26T06:44:13.896475Z",
     "iopub.status.busy": "2024-06-26T06:44:13.895688Z",
     "iopub.status.idle": "2024-06-26T06:44:14.009244Z",
     "shell.execute_reply": "2024-06-26T06:44:14.008039Z"
    },
    "papermill": {
     "duration": 0.125412,
     "end_time": "2024-06-26T06:44:14.011833",
     "exception": false,
     "start_time": "2024-06-26T06:44:13.886421",
     "status": "completed"
    },
    "tags": []
   },
   "outputs": [],
   "source": [
    "ensemble_oof_pred_probs = np.zeros((X.shape[0], len(np.unique(y))))\n",
    "for model, weight in zip(oof_pred_probs.keys(), best_weights):\n",
    "    ensemble_oof_pred_probs += oof_pred_probs[model] * weight\n",
    "\n",
    "ensemble_oof_preds = np.argmax(ensemble_oof_pred_probs, axis=1)\n",
    "ensemble_acc = accuracy_score(y, ensemble_oof_preds)\n",
    "ensemble_auc = roc_auc_score(y, ensemble_oof_pred_probs, multi_class='ovo')\n",
    "\n",
    "oof_pred_probs['Ensemble'] = ensemble_oof_pred_probs\n",
    "accuracies['Ensemble'] = [ensemble_acc] * N_FOLDS\n",
    "aucs['Ensemble'] = [ensemble_auc] * N_FOLDS"
   ]
  },
  {
   "cell_type": "code",
   "execution_count": 22,
   "id": "98dd99f7",
   "metadata": {
    "execution": {
     "iopub.execute_input": "2024-06-26T06:44:14.030607Z",
     "iopub.status.busy": "2024-06-26T06:44:14.030208Z",
     "iopub.status.idle": "2024-06-26T06:44:14.042853Z",
     "shell.execute_reply": "2024-06-26T06:44:14.041833Z"
    },
    "papermill": {
     "duration": 0.024619,
     "end_time": "2024-06-26T06:44:14.045216",
     "exception": false,
     "start_time": "2024-06-26T06:44:14.020597",
     "status": "completed"
    },
    "tags": []
   },
   "outputs": [],
   "source": [
    "final_pred_probs = np.zeros((test.shape[0], len(np.unique(y))))\n",
    "for model, weight in zip(test_pred_probs.keys(), best_weights):\n",
    "    final_pred_probs += test_pred_probs[model] * weight\n",
    "    \n",
    "ensemble_preds = np.argmax(final_pred_probs, axis=1)"
   ]
  },
  {
   "cell_type": "code",
   "execution_count": 23,
   "id": "d035cff8",
   "metadata": {
    "execution": {
     "iopub.execute_input": "2024-06-26T06:44:14.062857Z",
     "iopub.status.busy": "2024-06-26T06:44:14.062452Z",
     "iopub.status.idle": "2024-06-26T06:44:14.153500Z",
     "shell.execute_reply": "2024-06-26T06:44:14.152405Z"
    },
    "papermill": {
     "duration": 0.102498,
     "end_time": "2024-06-26T06:44:14.155750",
     "exception": false,
     "start_time": "2024-06-26T06:44:14.053252",
     "status": "completed"
    },
    "tags": []
   },
   "outputs": [
    {
     "data": {
      "text/html": [
       "<div>\n",
       "<style scoped>\n",
       "    .dataframe tbody tr th:only-of-type {\n",
       "        vertical-align: middle;\n",
       "    }\n",
       "\n",
       "    .dataframe tbody tr th {\n",
       "        vertical-align: top;\n",
       "    }\n",
       "\n",
       "    .dataframe thead th {\n",
       "        text-align: right;\n",
       "    }\n",
       "</style>\n",
       "<table border=\"1\" class=\"dataframe\">\n",
       "  <thead>\n",
       "    <tr style=\"text-align: right;\">\n",
       "      <th></th>\n",
       "      <th>id</th>\n",
       "      <th>Target</th>\n",
       "    </tr>\n",
       "  </thead>\n",
       "  <tbody>\n",
       "    <tr>\n",
       "      <th>0</th>\n",
       "      <td>76518</td>\n",
       "      <td>Dropout</td>\n",
       "    </tr>\n",
       "    <tr>\n",
       "      <th>1</th>\n",
       "      <td>76519</td>\n",
       "      <td>Graduate</td>\n",
       "    </tr>\n",
       "    <tr>\n",
       "      <th>2</th>\n",
       "      <td>76520</td>\n",
       "      <td>Graduate</td>\n",
       "    </tr>\n",
       "    <tr>\n",
       "      <th>3</th>\n",
       "      <td>76521</td>\n",
       "      <td>Graduate</td>\n",
       "    </tr>\n",
       "    <tr>\n",
       "      <th>4</th>\n",
       "      <td>76522</td>\n",
       "      <td>Enrolled</td>\n",
       "    </tr>\n",
       "  </tbody>\n",
       "</table>\n",
       "</div>"
      ],
      "text/plain": [
       "      id    Target\n",
       "0  76518   Dropout\n",
       "1  76519  Graduate\n",
       "2  76520  Graduate\n",
       "3  76521  Graduate\n",
       "4  76522  Enrolled"
      ]
     },
     "execution_count": 23,
     "metadata": {},
     "output_type": "execute_result"
    }
   ],
   "source": [
    "ensemble_sub = save_submission(final_pred_probs, ensemble_acc, ensemble_auc)\n",
    "ensemble_sub.head()"
   ]
  },
  {
   "cell_type": "markdown",
   "id": "718abcd0",
   "metadata": {
    "papermill": {
     "duration": 0.008065,
     "end_time": "2024-06-26T06:44:14.172678",
     "exception": false,
     "start_time": "2024-06-26T06:44:14.164613",
     "status": "completed"
    },
    "tags": []
   },
   "source": [
    "# Stacking"
   ]
  },
  {
   "cell_type": "code",
   "execution_count": 24,
   "id": "1a6e0741",
   "metadata": {
    "execution": {
     "iopub.execute_input": "2024-06-26T06:44:14.191299Z",
     "iopub.status.busy": "2024-06-26T06:44:14.190940Z",
     "iopub.status.idle": "2024-06-26T06:44:14.284363Z",
     "shell.execute_reply": "2024-06-26T06:44:14.283504Z"
    },
    "papermill": {
     "duration": 0.105665,
     "end_time": "2024-06-26T06:44:14.286801",
     "exception": false,
     "start_time": "2024-06-26T06:44:14.181136",
     "status": "completed"
    },
    "tags": []
   },
   "outputs": [],
   "source": [
    "# Reference: https://www.kaggle.com/competitions/playground-series-s4e6/discussion/509353#2851035\n",
    "class PassThroughClassifier(BaseEstimator, ClassifierMixin):\n",
    "    def __init__(self, idx_cols):\n",
    "        self.idx_cols = idx_cols\n",
    "        self.is_fitted_ = True\n",
    "\n",
    "    def fit(self, X, y=None):\n",
    "        return self\n",
    "\n",
    "    def predict_proba(self, X):\n",
    "        return check_array(X)[:, self.idx_cols]\n",
    "\n",
    "\n",
    "X_oof_pred_probs = np.log(pd.DataFrame(np.hstack(list(oof_pred_probs.values()))) + 1e-7)\n",
    "X_test_pred_probs = np.log(pd.DataFrame(np.hstack(list(test_pred_probs.values()))) + 1e-7)\n",
    "\n",
    "estimators = [\n",
    "    ('XGB', PassThroughClassifier(list(range(3)))),\n",
    "    ('CB', PassThroughClassifier(list(range(3, 6)))),\n",
    "    ('LGBM', PassThroughClassifier(list(range(6, 9)))),\n",
    "    ('HGB', PassThroughClassifier(list(range(9, 12)))),\n",
    "    ('GB', PassThroughClassifier(list(range(12, 15)))),\n",
    "    ('RF', PassThroughClassifier(list(range(15, 18)))),\n",
    "    ('AG', PassThroughClassifier(list(range(18, 21)))),\n",
    "    ('LAML', PassThroughClassifier(list(range(21, 24)))),\n",
    "    ('FLAML', PassThroughClassifier(list(range(24, 27))))\n",
    "]"
   ]
  },
  {
   "cell_type": "code",
   "execution_count": 25,
   "id": "d137b2b1",
   "metadata": {
    "_kg_hide-output": true,
    "execution": {
     "iopub.execute_input": "2024-06-26T06:44:14.306201Z",
     "iopub.status.busy": "2024-06-26T06:44:14.305818Z",
     "iopub.status.idle": "2024-06-26T06:44:14.316649Z",
     "shell.execute_reply": "2024-06-26T06:44:14.315587Z"
    },
    "papermill": {
     "duration": 0.023492,
     "end_time": "2024-06-26T06:44:14.318978",
     "exception": false,
     "start_time": "2024-06-26T06:44:14.295486",
     "status": "completed"
    },
    "tags": []
   },
   "outputs": [],
   "source": [
    "def objective(trial):\n",
    "    solver_penalty_combinations = [\n",
    "        ('lbfgs', 'l2', None),\n",
    "        ('liblinear', 'l1', None),\n",
    "        ('liblinear', 'l2', None),\n",
    "        ('newton-cg', 'l2', None),\n",
    "        ('saga', 'l1', None),\n",
    "        ('saga', 'l2', None),\n",
    "        ('saga', 'elasticnet', 0),\n",
    "    ]\n",
    "\n",
    "    chosen_combination = trial.suggest_categorical(\n",
    "        'solver_penalty', solver_penalty_combinations)\n",
    "    solver, penalty, l1_ratio_initial = chosen_combination\n",
    "\n",
    "    if penalty == 'elasticnet':\n",
    "        l1_ratio = trial.suggest_float('l1_ratio', 0, 1)\n",
    "    else:\n",
    "        l1_ratio = l1_ratio_initial\n",
    "\n",
    "    lr_params = {\n",
    "        'penalty': penalty,\n",
    "        'C': trial.suggest_loguniform('C', 1e-5, 1e5),\n",
    "        'tol': trial.suggest_loguniform('tol', 1e-5, 1e-1),\n",
    "        'random_state': SEED,\n",
    "        'n_jobs': -1,\n",
    "        'max_iter': trial.suggest_int('max_iter', 100, 1000),\n",
    "        'solver': solver,\n",
    "        'l1_ratio': l1_ratio\n",
    "    }\n",
    "\n",
    "    final_estimator = LogisticRegression(**lr_params)\n",
    "    stacking_model = StackingClassifier(\n",
    "        estimators, cv='prefit', n_jobs=-1, final_estimator=final_estimator)\n",
    "    stacking_trainer = Trainer(stacking_model)\n",
    "    _, _, stacking_accs, _ = stacking_trainer.fit(X_oof_pred_probs, y)\n",
    "    return np.mean(stacking_accs)\n",
    "\n",
    "\n",
    "tune_final_estimator = False\n",
    "if tune_final_estimator:\n",
    "    study = optuna.create_study(direction='maximize')\n",
    "    study.optimize(objective, n_trials=1000, catch=(ValueError,))\n",
    "    lr_params = study.best_params\n",
    "    lr_params['random_state'] = SEED\n",
    "    lr_params['n_jobs'] = -1\n",
    "    print(study.best_params)\n",
    "else:\n",
    "    lr_params = {\n",
    "        'C': 0.007155907818419665, \n",
    "        'tol': 0.0024536986939328303, \n",
    "        'max_iter': 186,\n",
    "        'penalty': 'l1',\n",
    "        'solver': 'liblinear',\n",
    "        'l1_ratio': None,\n",
    "        'random_state': SEED,\n",
    "        'n_jobs': -1\n",
    "    }"
   ]
  },
  {
   "cell_type": "code",
   "execution_count": 26,
   "id": "d3c9abaa",
   "metadata": {
    "execution": {
     "iopub.execute_input": "2024-06-26T06:44:14.338552Z",
     "iopub.status.busy": "2024-06-26T06:44:14.337688Z",
     "iopub.status.idle": "2024-06-26T06:44:21.853037Z",
     "shell.execute_reply": "2024-06-26T06:44:21.851794Z"
    },
    "papermill": {
     "duration": 7.529495,
     "end_time": "2024-06-26T06:44:21.857299",
     "exception": false,
     "start_time": "2024-06-26T06:44:14.327804",
     "status": "completed"
    },
    "tags": []
   },
   "outputs": [
    {
     "name": "stdout",
     "output_type": "stream",
     "text": [
      "Training StackingClassifier\n",
      "--- Fold 1 - Accuracy: 0.837232, AUC: 0.931367\n",
      "--- Fold 2 - Accuracy: 0.837559, AUC: 0.932958\n",
      "--- Fold 3 - Accuracy: 0.837101, AUC: 0.930997\n",
      "--- Fold 4 - Accuracy: 0.835261, AUC: 0.930201\n",
      "--- Fold 5 - Accuracy: 0.827681, AUC: 0.925921\n",
      "\n",
      "------ Accuracy: 0.834967 ± 0.003730\n",
      "------ AUC:      0.930289 ± 0.002361\n",
      "\n",
      "\n"
     ]
    }
   ],
   "source": [
    "final_estimator = LogisticRegression(**lr_params)\n",
    "stacking_model = StackingClassifier(estimators, cv='prefit', n_jobs=-1, final_estimator=final_estimator)\n",
    "stacking_trainer = Trainer(stacking_model)\n",
    "stacking_oof_pred_probs, stacking_oof_preds, stacking_accs, stacking_aucs = stacking_trainer.fit(X_oof_pred_probs, y)\n",
    "oof_pred_probs['Stacking'] = stacking_oof_pred_probs\n",
    "test_pred_probs['Stacking'] = stacking_trainer.fit_predict_proba(X_oof_pred_probs, y, X_test_pred_probs)\n",
    "accuracies['Stacking'] = stacking_accs\n",
    "aucs['Stacking'] = stacking_aucs"
   ]
  },
  {
   "cell_type": "code",
   "execution_count": 27,
   "id": "93186c1d",
   "metadata": {
    "execution": {
     "iopub.execute_input": "2024-06-26T06:44:21.889262Z",
     "iopub.status.busy": "2024-06-26T06:44:21.888758Z",
     "iopub.status.idle": "2024-06-26T06:44:21.997265Z",
     "shell.execute_reply": "2024-06-26T06:44:21.996177Z"
    },
    "papermill": {
     "duration": 0.127179,
     "end_time": "2024-06-26T06:44:21.999515",
     "exception": false,
     "start_time": "2024-06-26T06:44:21.872336",
     "status": "completed"
    },
    "tags": []
   },
   "outputs": [
    {
     "data": {
      "text/html": [
       "<div>\n",
       "<style scoped>\n",
       "    .dataframe tbody tr th:only-of-type {\n",
       "        vertical-align: middle;\n",
       "    }\n",
       "\n",
       "    .dataframe tbody tr th {\n",
       "        vertical-align: top;\n",
       "    }\n",
       "\n",
       "    .dataframe thead th {\n",
       "        text-align: right;\n",
       "    }\n",
       "</style>\n",
       "<table border=\"1\" class=\"dataframe\">\n",
       "  <thead>\n",
       "    <tr style=\"text-align: right;\">\n",
       "      <th></th>\n",
       "      <th>id</th>\n",
       "      <th>Target</th>\n",
       "    </tr>\n",
       "  </thead>\n",
       "  <tbody>\n",
       "    <tr>\n",
       "      <th>0</th>\n",
       "      <td>76518</td>\n",
       "      <td>Dropout</td>\n",
       "    </tr>\n",
       "    <tr>\n",
       "      <th>1</th>\n",
       "      <td>76519</td>\n",
       "      <td>Graduate</td>\n",
       "    </tr>\n",
       "    <tr>\n",
       "      <th>2</th>\n",
       "      <td>76520</td>\n",
       "      <td>Graduate</td>\n",
       "    </tr>\n",
       "    <tr>\n",
       "      <th>3</th>\n",
       "      <td>76521</td>\n",
       "      <td>Graduate</td>\n",
       "    </tr>\n",
       "    <tr>\n",
       "      <th>4</th>\n",
       "      <td>76522</td>\n",
       "      <td>Enrolled</td>\n",
       "    </tr>\n",
       "  </tbody>\n",
       "</table>\n",
       "</div>"
      ],
      "text/plain": [
       "      id    Target\n",
       "0  76518   Dropout\n",
       "1  76519  Graduate\n",
       "2  76520  Graduate\n",
       "3  76521  Graduate\n",
       "4  76522  Enrolled"
      ]
     },
     "execution_count": 27,
     "metadata": {},
     "output_type": "execute_result"
    }
   ],
   "source": [
    "stacking_sub = save_submission(test_pred_probs['Stacking'], np.mean(accuracies['Stacking']), np.mean(aucs['Stacking']))\n",
    "stacking_sub.head()"
   ]
  },
  {
   "cell_type": "markdown",
   "id": "eb8b83e2",
   "metadata": {
    "papermill": {
     "duration": 0.008845,
     "end_time": "2024-06-26T06:44:22.017436",
     "exception": false,
     "start_time": "2024-06-26T06:44:22.008591",
     "status": "completed"
    },
    "tags": []
   },
   "source": [
    "# Visualizing The Results"
   ]
  },
  {
   "cell_type": "code",
   "execution_count": 28,
   "id": "678b39f4",
   "metadata": {
    "execution": {
     "iopub.execute_input": "2024-06-26T06:44:22.038008Z",
     "iopub.status.busy": "2024-06-26T06:44:22.037039Z",
     "iopub.status.idle": "2024-06-26T06:44:22.043683Z",
     "shell.execute_reply": "2024-06-26T06:44:22.042513Z"
    },
    "papermill": {
     "duration": 0.019342,
     "end_time": "2024-06-26T06:44:22.046106",
     "exception": false,
     "start_time": "2024-06-26T06:44:22.026764",
     "status": "completed"
    },
    "tags": []
   },
   "outputs": [],
   "source": [
    "accuracies = pd.DataFrame(accuracies)\n",
    "aucs = pd.DataFrame(aucs)"
   ]
  },
  {
   "cell_type": "code",
   "execution_count": 29,
   "id": "c733dab0",
   "metadata": {
    "execution": {
     "iopub.execute_input": "2024-06-26T06:44:22.065808Z",
     "iopub.status.busy": "2024-06-26T06:44:22.065396Z",
     "iopub.status.idle": "2024-06-26T06:44:22.941239Z",
     "shell.execute_reply": "2024-06-26T06:44:22.940210Z"
    },
    "papermill": {
     "duration": 0.888168,
     "end_time": "2024-06-26T06:44:22.943450",
     "exception": false,
     "start_time": "2024-06-26T06:44:22.055282",
     "status": "completed"
    },
    "tags": []
   },
   "outputs": [
    {
     "data": {
      "image/png": "[encoded data removed]",
      "text/plain": [
       "<Figure size 1500x500 with 2 Axes>"
      ]
     },
     "metadata": {},
     "output_type": "display_data"
    }
   ],
   "source": [
    "mean_accs = accuracies.mean().sort_values(ascending=False)\n",
    "order = accuracies.mean().sort_values(ascending=False).index.tolist()\n",
    "\n",
    "min_acc = mean_accs.min()\n",
    "max_acc = mean_accs.max()\n",
    "padding = (max_acc - min_acc) * 0.1\n",
    "lower_limit = min_acc - padding\n",
    "upper_limit = max_acc + padding\n",
    "\n",
    "fig, axs = plt.subplots(1, 2, figsize=(15, 5))\n",
    "\n",
    "sns.boxplot(data=accuracies, order=order, ax=axs[0], orient='h', color='#651FFF')\n",
    "axs[0].set_title('Fold Accuracy')\n",
    "axs[0].set_xlabel('')\n",
    "axs[0].set_ylabel('')\n",
    "\n",
    "barplot = sns.barplot(x=mean_accs.values, y=mean_accs.index, ax=axs[1], color='#651FFF')\n",
    "axs[1].set_title('Average Accuracy')\n",
    "axs[1].set_xlabel('')\n",
    "axs[1].set_xlim(left=lower_limit, right=upper_limit)\n",
    "axs[1].set_ylabel('')\n",
    "\n",
    "for i, score in enumerate(mean_accs.values):\n",
    "    barplot.text(score, i, round(score, 4), va='center')\n",
    "\n",
    "plt.tight_layout()\n",
    "plt.show()"
   ]
  },
  {
   "cell_type": "code",
   "execution_count": 30,
   "id": "a0560c4f",
   "metadata": {
    "execution": {
     "iopub.execute_input": "2024-06-26T06:44:22.964887Z",
     "iopub.status.busy": "2024-06-26T06:44:22.964513Z",
     "iopub.status.idle": "2024-06-26T06:44:23.765624Z",
     "shell.execute_reply": "2024-06-26T06:44:23.764589Z"
    },
    "papermill": {
     "duration": 0.814516,
     "end_time": "2024-06-26T06:44:23.767949",
     "exception": false,
     "start_time": "2024-06-26T06:44:22.953433",
     "status": "completed"
    },
    "tags": []
   },
   "outputs": [
    {
     "data": {
      "image/png": "[encoded data removed]",
      "text/plain": [
       "<Figure size 1500x500 with 2 Axes>"
      ]
     },
     "metadata": {},
     "output_type": "display_data"
    }
   ],
   "source": [
    "mean_aucs = aucs.mean().sort_values(ascending=False)\n",
    "order = aucs.mean().sort_values(ascending=False).index.tolist()\n",
    "\n",
    "min_auc = mean_aucs.min()\n",
    "max_auc = mean_aucs.max()\n",
    "padding = (max_auc - min_auc) * 0.1\n",
    "lower_limit = min_auc - padding\n",
    "upper_limit = max_auc + padding\n",
    "\n",
    "fig, axs = plt.subplots(1, 2, figsize=(15, 5))\n",
    "\n",
    "sns.boxplot(data=accuracies, order=order, ax=axs[0], orient='h', color='#651FFF')\n",
    "axs[0].set_title('Fold AUC')\n",
    "axs[0].set_xlabel('')\n",
    "axs[0].set_ylabel('')\n",
    "\n",
    "barplot = sns.barplot(x=mean_aucs.values, y=mean_aucs.index, ax=axs[1], color='#651FFF')\n",
    "axs[1].set_title('Average AUC')\n",
    "axs[1].set_xlabel('')\n",
    "axs[1].set_xlim(left=lower_limit, right=upper_limit)\n",
    "axs[1].set_ylabel('')\n",
    "\n",
    "for i, score in enumerate(mean_aucs.values):\n",
    "    barplot.text(score, i, round(score, 4), va='center')\n",
    "\n",
    "plt.tight_layout()\n",
    "plt.show()"
   ]
  }
 ],
 "metadata": {
  "kaggle": {
   "accelerator": "none",
   "dataSources": [
    {
     "databundleVersionId": 8710574,
     "sourceId": 73290,
     "sourceType": "competition"
    },
    {
     "datasetId": 5279468,
     "sourceId": 8785308,
     "sourceType": "datasetVersion"
    }
   ],
   "dockerImageVersionId": 30732,
   "isGpuEnabled": false,
   "isInternetEnabled": true,
   "language": "python",
   "sourceType": "notebook"
  },
  "kernelspec": {
   "display_name": "Python 3",
   "language": "python",
   "name": "python3"
  },
  "language_info": {
   "codemirror_mode": {
    "name": "ipython",
    "version": 3
   },
   "file_extension": ".py",
   "mimetype": "text/x-python",
   "name": "python",
   "nbconvert_exporter": "python",
   "pygments_lexer": "ipython3",
   "version": "3.10.13"
  },
  "papermill": {
   "default_parameters": {},
   "duration": 18.360567,
   "end_time": "2024-06-26T06:44:24.400080",
   "environment_variables": {},
   "exception": null,
   "input_path": "__notebook__.ipynb",
   "output_path": "__notebook__.ipynb",
   "parameters": {},
   "start_time": "2024-06-26T06:44:06.039513",
   "version": "2.5.0"
  }
 },
 "nbformat": 4,
 "nbformat_minor": 5
}
