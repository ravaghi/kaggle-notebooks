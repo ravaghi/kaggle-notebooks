{
 "cells": [
  {
   "cell_type": "markdown",
   "id": "743dab3b",
   "metadata": {
    "papermill": {
     "duration": 0.010898,
     "end_time": "2024-06-28T05:12:52.442381",
     "exception": false,
     "start_time": "2024-06-28T05:12:52.431483",
     "status": "completed"
    },
    "tags": []
   },
   "source": [
    "# Imports and Configs"
   ]
  },
  {
   "cell_type": "code",
   "execution_count": 1,
   "id": "76331bb0",
   "metadata": {
    "_cell_guid": "b1076dfc-b9ad-4769-8c92-a6c4dae69d19",
    "_uuid": "8f2839f25d086af736a60e9eeb907d3b93b6e0e5",
    "execution": {
     "iopub.execute_input": "2024-06-28T05:12:52.463937Z",
     "iopub.status.busy": "2024-06-28T05:12:52.463515Z",
     "iopub.status.idle": "2024-06-28T05:12:57.504414Z",
     "shell.execute_reply": "2024-06-28T05:12:57.503355Z"
    },
    "papermill": {
     "duration": 5.055721,
     "end_time": "2024-06-28T05:12:57.508221",
     "exception": false,
     "start_time": "2024-06-28T05:12:52.452500",
     "status": "completed"
    },
    "tags": []
   },
   "outputs": [],
   "source": [
    "from sklearn.metrics import accuracy_score, roc_auc_score\n",
    "from sklearn.base import BaseEstimator, ClassifierMixin\n",
    "from sklearn.model_selection import StratifiedKFold\n",
    "from lightgbm import LGBMClassifier\n",
    "from sklearn.ensemble import StackingClassifier\n",
    "from sklearn.preprocessing import LabelEncoder\n",
    "from optuna.samplers import TPESampler\n",
    "from sklearn.utils import check_array\n",
    "import matplotlib.pyplot as plt\n",
    "from sklearn.base import clone\n",
    "import seaborn as sns\n",
    "import pandas as pd\n",
    "import numpy as np\n",
    "import warnings\n",
    "import pickle\n",
    "import optuna\n",
    "import glob\n",
    "\n",
    "sns.set_style('whitegrid')\n",
    "warnings.filterwarnings('ignore')"
   ]
  },
  {
   "cell_type": "code",
   "execution_count": 2,
   "id": "aa1ae885",
   "metadata": {
    "execution": {
     "iopub.execute_input": "2024-06-28T05:12:57.534743Z",
     "iopub.status.busy": "2024-06-28T05:12:57.534142Z",
     "iopub.status.idle": "2024-06-28T05:12:57.539992Z",
     "shell.execute_reply": "2024-06-28T05:12:57.538810Z"
    },
    "papermill": {
     "duration": 0.020411,
     "end_time": "2024-06-28T05:12:57.542933",
     "exception": false,
     "start_time": "2024-06-28T05:12:57.522522",
     "status": "completed"
    },
    "tags": []
   },
   "outputs": [],
   "source": [
    "SEED = 27\n",
    "N_FOLDS = 5\n",
    "TARGET = 'Target'"
   ]
  },
  {
   "cell_type": "code",
   "execution_count": 3,
   "id": "8bd71f6f",
   "metadata": {
    "execution": {
     "iopub.execute_input": "2024-06-28T05:12:57.568473Z",
     "iopub.status.busy": "2024-06-28T05:12:57.567481Z",
     "iopub.status.idle": "2024-06-28T05:12:58.355034Z",
     "shell.execute_reply": "2024-06-28T05:12:58.353528Z"
    },
    "papermill": {
     "duration": 0.802066,
     "end_time": "2024-06-28T05:12:58.358325",
     "exception": false,
     "start_time": "2024-06-28T05:12:57.556259",
     "status": "completed"
    },
    "tags": []
   },
   "outputs": [],
   "source": [
    "train = pd.read_csv('/kaggle/input/playground-series-s4e6/train.csv', index_col='id')\n",
    "test = pd.read_csv('/kaggle/input/playground-series-s4e6/test.csv', index_col='id')"
   ]
  },
  {
   "cell_type": "code",
   "execution_count": 4,
   "id": "a59ab5d1",
   "metadata": {
    "execution": {
     "iopub.execute_input": "2024-06-28T05:12:58.385357Z",
     "iopub.status.busy": "2024-06-28T05:12:58.384030Z",
     "iopub.status.idle": "2024-06-28T05:12:58.423943Z",
     "shell.execute_reply": "2024-06-28T05:12:58.422719Z"
    },
    "papermill": {
     "duration": 0.054298,
     "end_time": "2024-06-28T05:12:58.426898",
     "exception": false,
     "start_time": "2024-06-28T05:12:58.372600",
     "status": "completed"
    },
    "tags": []
   },
   "outputs": [],
   "source": [
    "label_encoder = LabelEncoder()\n",
    "\n",
    "X = train.drop(TARGET, axis=1)\n",
    "y = train[TARGET]\n",
    "y = label_encoder.fit_transform(y)"
   ]
  },
  {
   "cell_type": "markdown",
   "id": "7639fce5",
   "metadata": {
    "papermill": {
     "duration": 0.009585,
     "end_time": "2024-06-28T05:12:58.446682",
     "exception": false,
     "start_time": "2024-06-28T05:12:58.437097",
     "status": "completed"
    },
    "tags": []
   },
   "source": [
    "# Loading OOF Files"
   ]
  },
  {
   "cell_type": "code",
   "execution_count": 5,
   "id": "5b4f3cab",
   "metadata": {
    "execution": {
     "iopub.execute_input": "2024-06-28T05:12:58.468712Z",
     "iopub.status.busy": "2024-06-28T05:12:58.467661Z",
     "iopub.status.idle": "2024-06-28T05:12:58.476742Z",
     "shell.execute_reply": "2024-06-28T05:12:58.475463Z"
    },
    "papermill": {
     "duration": 0.022756,
     "end_time": "2024-06-28T05:12:58.479225",
     "exception": false,
     "start_time": "2024-06-28T05:12:58.456469",
     "status": "completed"
    },
    "tags": []
   },
   "outputs": [],
   "source": [
    "def load_automl_oof_pred_probs(path):\n",
    "    files = glob.glob(f'{path}/*.pkl')\n",
    "    tmp = []\n",
    "    for file in files:\n",
    "        content = pickle.load(open(file, 'rb'))\n",
    "        if type(content) == pd.DataFrame:\n",
    "            tmp.append(content.values)\n",
    "        else:\n",
    "            tmp.append(content)\n",
    "    return np.vstack(tmp)\n",
    "\n",
    "def load_automl_test_pred_probs(path):\n",
    "    files = glob.glob(f'{path}/*.csv')\n",
    "    tmp = []\n",
    "    for file in files:\n",
    "        content = pd.read_csv(file, index_col=\"id\")\n",
    "        tmp.append(content.values)\n",
    "    return np.mean(tmp, axis=0)"
   ]
  },
  {
   "cell_type": "code",
   "execution_count": 6,
   "id": "68b304b0",
   "metadata": {
    "execution": {
     "iopub.execute_input": "2024-06-28T05:12:58.501715Z",
     "iopub.status.busy": "2024-06-28T05:12:58.501264Z",
     "iopub.status.idle": "2024-06-28T05:12:58.899817Z",
     "shell.execute_reply": "2024-06-28T05:12:58.898711Z"
    },
    "papermill": {
     "duration": 0.413365,
     "end_time": "2024-06-28T05:12:58.902584",
     "exception": false,
     "start_time": "2024-06-28T05:12:58.489219",
     "status": "completed"
    },
    "tags": []
   },
   "outputs": [],
   "source": [
    "# Single Models\n",
    "xgb_oof_pred_probs = pickle.load(open('/kaggle/input/academic-success-oof-files/single_models/oof_pred_probs/xgb_oof_pred_probs.pkl', 'rb'))\n",
    "cb_oof_pred_probs = pickle.load(open('/kaggle/input/academic-success-oof-files/single_models/oof_pred_probs/cb_oof_pred_probs.pkl', 'rb'))\n",
    "lgbm_oof_pred_probs = pickle.load(open('/kaggle/input/academic-success-oof-files/single_models/oof_pred_probs/lgbm_oof_pred_probs.pkl', 'rb'))\n",
    "hgb_oof_pred_probs = pickle.load(open('/kaggle/input/academic-success-oof-files/single_models/oof_pred_probs/hgb_oof_pred_probs.pkl', 'rb'))\n",
    "gb_oof_pred_probs = pickle.load(open('/kaggle/input/academic-success-oof-files/single_models/oof_pred_probs/gb_oof_pred_probs.pkl', 'rb'))\n",
    "rf_oof_pred_probs = pickle.load(open('/kaggle/input/academic-success-oof-files/single_models/oof_pred_probs/rf_oof_pred_probs.pkl', 'rb'))\n",
    "\n",
    "# AutoML\n",
    "ag_oof_pred_probs = load_automl_oof_pred_probs('/kaggle/input/academic-success-oof-files/autogluon/oof_pred_probs')\n",
    "laml_oof_pred_probs = load_automl_oof_pred_probs('/kaggle/input/academic-success-oof-files/laml/oof_pred_probs')\n",
    "flaml_oof_pred_probs = load_automl_oof_pred_probs('/kaggle/input/academic-success-oof-files/flaml/oof_pred_probs')"
   ]
  },
  {
   "cell_type": "code",
   "execution_count": 7,
   "id": "06d1784e",
   "metadata": {
    "execution": {
     "iopub.execute_input": "2024-06-28T05:12:58.924700Z",
     "iopub.status.busy": "2024-06-28T05:12:58.924243Z",
     "iopub.status.idle": "2024-06-28T05:13:00.182176Z",
     "shell.execute_reply": "2024-06-28T05:13:00.180660Z"
    },
    "papermill": {
     "duration": 1.272525,
     "end_time": "2024-06-28T05:13:00.185364",
     "exception": false,
     "start_time": "2024-06-28T05:12:58.912839",
     "status": "completed"
    },
    "tags": []
   },
   "outputs": [],
   "source": [
    "# Single Models\n",
    "xgb_test_pred_probs = pickle.load(open('/kaggle/input/academic-success-oof-files/single_models/test_pred_probs/xgb_test_pred_probs.pkl', 'rb'))\n",
    "cb_test_pred_probs = pickle.load(open('/kaggle/input/academic-success-oof-files/single_models/test_pred_probs/cb_test_pred_probs.pkl', 'rb'))\n",
    "lgbm_test_pred_probs = pickle.load(open('/kaggle/input/academic-success-oof-files/single_models/test_pred_probs/lgbm_test_pred_probs.pkl', 'rb'))\n",
    "hgb_test_pred_probs = pickle.load(open('/kaggle/input/academic-success-oof-files/single_models/test_pred_probs/hgb_test_pred_probs.pkl', 'rb'))\n",
    "gb_test_pred_probs = pickle.load(open('/kaggle/input/academic-success-oof-files/single_models/test_pred_probs/gb_test_pred_probs.pkl', 'rb'))\n",
    "rf_test_pred_probs = pickle.load(open('/kaggle/input/academic-success-oof-files/single_models/test_pred_probs/rf_test_pred_probs.pkl', 'rb'))\n",
    "\n",
    "# AutoML\n",
    "ag_test_pred_probs = load_automl_test_pred_probs('/kaggle/input/academic-success-oof-files/autogluon/test_pred_probs')\n",
    "laml_test_pred_probs = load_automl_test_pred_probs('/kaggle/input/academic-success-oof-files/laml/test_pred_probs')\n",
    "flaml_test_pred_probs = load_automl_test_pred_probs('/kaggle/input/academic-success-oof-files/flaml/test_pred_probs')"
   ]
  },
  {
   "cell_type": "markdown",
   "id": "0e256ce0",
   "metadata": {
    "papermill": {
     "duration": 0.011765,
     "end_time": "2024-06-28T05:13:00.208676",
     "exception": false,
     "start_time": "2024-06-28T05:13:00.196911",
     "status": "completed"
    },
    "tags": []
   },
   "source": [
    "# Defining Training and Cross Validation Functions"
   ]
  },
  {
   "cell_type": "code",
   "execution_count": 8,
   "id": "19323ae3",
   "metadata": {
    "execution": {
     "iopub.execute_input": "2024-06-28T05:13:00.232131Z",
     "iopub.status.busy": "2024-06-28T05:13:00.231721Z",
     "iopub.status.idle": "2024-06-28T05:13:00.246819Z",
     "shell.execute_reply": "2024-06-28T05:13:00.245128Z"
    },
    "papermill": {
     "duration": 0.03011,
     "end_time": "2024-06-28T05:13:00.249939",
     "exception": false,
     "start_time": "2024-06-28T05:13:00.219829",
     "status": "completed"
    },
    "tags": []
   },
   "outputs": [],
   "source": [
    "class Trainer:\n",
    "    def __init__(self, model, n_folds=N_FOLDS):\n",
    "        self.model = model\n",
    "        self.n_folds = n_folds\n",
    "\n",
    "    def fit(self, X, y):\n",
    "        print(f'Training {self.model.__class__.__name__}')\n",
    "\n",
    "        rskf = StratifiedKFold(n_splits=self.n_folds, random_state=SEED, shuffle=True)\n",
    "\n",
    "        accs = []\n",
    "        aucs = []\n",
    "        oof_pred_probs = np.zeros((X.shape[0], len(np.unique(y))))\n",
    "        oof_preds = np.zeros(X.shape[0])\n",
    "        for fold_idx, (train_idx, val_idx) in enumerate(rskf.split(X, y)):\n",
    "            X_train, X_val = X.iloc[train_idx], X.iloc[val_idx]\n",
    "            y_train, y_val = y[train_idx], y[val_idx]\n",
    "            \n",
    "            model = clone(self.model)\n",
    "            model.fit(X_train, y_train)\n",
    "\n",
    "            y_pred_probs = model.predict_proba(X_val)\n",
    "            y_pred = np.argmax(y_pred_probs, axis=1)\n",
    "\n",
    "            oof_pred_probs[val_idx] = y_pred_probs\n",
    "            oof_preds[val_idx] = y_pred\n",
    "\n",
    "            acc = accuracy_score(y_val, y_pred)\n",
    "            auc = roc_auc_score(y_val, y_pred_probs, multi_class='ovo')\n",
    "            accs.append(acc)\n",
    "            aucs.append(auc)\n",
    "\n",
    "            print(f'--- Fold {fold_idx + 1} - Accuracy: {acc:.6f}, AUC: {auc:.6f}')\n",
    "\n",
    "        print(f'\\n------ Accuracy: {np.mean(accs):.6f} ± {np.std(accs):.6f}')\n",
    "        print(f'------ AUC:      {np.mean(aucs):.6f} ± {np.std(aucs):.6f}\\n\\n')\n",
    "\n",
    "        return oof_pred_probs, oof_preds, accs, aucs\n",
    "    \n",
    "    def fit_predict_proba(self, X, y, X_test):            \n",
    "        model = clone(self.model)\n",
    "        model.fit(X, y)\n",
    "        return model.predict_proba(X_test)"
   ]
  },
  {
   "cell_type": "code",
   "execution_count": 9,
   "id": "2bce580a",
   "metadata": {
    "execution": {
     "iopub.execute_input": "2024-06-28T05:13:00.274287Z",
     "iopub.status.busy": "2024-06-28T05:13:00.273888Z",
     "iopub.status.idle": "2024-06-28T05:13:00.280930Z",
     "shell.execute_reply": "2024-06-28T05:13:00.279803Z"
    },
    "papermill": {
     "duration": 0.022408,
     "end_time": "2024-06-28T05:13:00.283252",
     "exception": false,
     "start_time": "2024-06-28T05:13:00.260844",
     "status": "completed"
    },
    "tags": []
   },
   "outputs": [],
   "source": [
    "def save_submission(pred_probs, accuracy, auc, name):\n",
    "    submission = pd.read_csv('/kaggle/input/playground-series-s4e6/sample_submission.csv')\n",
    "    submission['Target'] = np.argmax(pred_probs, axis=1)\n",
    "    submission['Target'] = label_encoder.inverse_transform(submission['Target'])\n",
    "    submission.to_csv(f'{name}_acc-{accuracy:.6f}_auc-{auc:.6f}.csv', index=False)\n",
    "    return submission"
   ]
  },
  {
   "cell_type": "code",
   "execution_count": 10,
   "id": "e6f5f4b1",
   "metadata": {
    "execution": {
     "iopub.execute_input": "2024-06-28T05:13:00.305807Z",
     "iopub.status.busy": "2024-06-28T05:13:00.305382Z",
     "iopub.status.idle": "2024-06-28T05:13:00.311022Z",
     "shell.execute_reply": "2024-06-28T05:13:00.309879Z"
    },
    "papermill": {
     "duration": 0.020228,
     "end_time": "2024-06-28T05:13:00.313855",
     "exception": false,
     "start_time": "2024-06-28T05:13:00.293627",
     "status": "completed"
    },
    "tags": []
   },
   "outputs": [],
   "source": [
    "accuracies = {}\n",
    "aucs = {}\n",
    "\n",
    "test_pred_probs = {}\n",
    "oof_pred_probs = {}\n",
    "oof_preds = {}"
   ]
  },
  {
   "cell_type": "markdown",
   "id": "f9764707",
   "metadata": {
    "papermill": {
     "duration": 0.01,
     "end_time": "2024-06-28T05:13:00.334160",
     "exception": false,
     "start_time": "2024-06-28T05:13:00.324160",
     "status": "completed"
    },
    "tags": []
   },
   "source": [
    "# Base Models"
   ]
  },
  {
   "cell_type": "code",
   "execution_count": 11,
   "id": "778fb75e",
   "metadata": {
    "execution": {
     "iopub.execute_input": "2024-06-28T05:13:00.357724Z",
     "iopub.status.busy": "2024-06-28T05:13:00.356516Z",
     "iopub.status.idle": "2024-06-28T05:13:00.363435Z",
     "shell.execute_reply": "2024-06-28T05:13:00.362055Z"
    },
    "papermill": {
     "duration": 0.023564,
     "end_time": "2024-06-28T05:13:00.367936",
     "exception": false,
     "start_time": "2024-06-28T05:13:00.344372",
     "status": "completed"
    },
    "tags": []
   },
   "outputs": [],
   "source": [
    "oof_pred_probs['XGB'] = xgb_oof_pred_probs\n",
    "test_pred_probs['XGB'] = xgb_test_pred_probs\n",
    "accuracies['XGB'] = [0.836644, 0.837101, 0.835403, 0.833235, 0.825590]\n",
    "aucs['XGB'] = [0.930521, 0.932307, 0.929514, 0.929363, 0.924143]"
   ]
  },
  {
   "cell_type": "code",
   "execution_count": 12,
   "id": "f0d6e10b",
   "metadata": {
    "execution": {
     "iopub.execute_input": "2024-06-28T05:13:00.393939Z",
     "iopub.status.busy": "2024-06-28T05:13:00.393389Z",
     "iopub.status.idle": "2024-06-28T05:13:00.401428Z",
     "shell.execute_reply": "2024-06-28T05:13:00.399506Z"
    },
    "papermill": {
     "duration": 0.025086,
     "end_time": "2024-06-28T05:13:00.405156",
     "exception": false,
     "start_time": "2024-06-28T05:13:00.380070",
     "status": "completed"
    },
    "tags": []
   },
   "outputs": [],
   "source": [
    "oof_pred_probs['CB'] = cb_oof_pred_probs\n",
    "test_pred_probs['CB'] = cb_test_pred_probs\n",
    "accuracies['CB'] = [0.836448, 0.836513, 0.834618, 0.833366, 0.826962]\n",
    "aucs['CB'] = [0.930153, 0.931919, 0.929599, 0.929235, 0.924700]"
   ]
  },
  {
   "cell_type": "code",
   "execution_count": 13,
   "id": "67a29f47",
   "metadata": {
    "execution": {
     "iopub.execute_input": "2024-06-28T05:13:00.428858Z",
     "iopub.status.busy": "2024-06-28T05:13:00.428418Z",
     "iopub.status.idle": "2024-06-28T05:13:00.436493Z",
     "shell.execute_reply": "2024-06-28T05:13:00.435012Z"
    },
    "papermill": {
     "duration": 0.024269,
     "end_time": "2024-06-28T05:13:00.439988",
     "exception": false,
     "start_time": "2024-06-28T05:13:00.415719",
     "status": "completed"
    },
    "tags": []
   },
   "outputs": [],
   "source": [
    "oof_pred_probs['LGBM'] = lgbm_oof_pred_probs\n",
    "test_pred_probs['LGBM'] = lgbm_test_pred_probs\n",
    "accuracies['LGBM'] = [0.837036, 0.836317, 0.836579, 0.834804, 0.826635]\n",
    "aucs['LGBM'] = [0.930935, 0.932722, 0.930180, 0.930146, 0.924594]"
   ]
  },
  {
   "cell_type": "code",
   "execution_count": 14,
   "id": "ba07d75d",
   "metadata": {
    "execution": {
     "iopub.execute_input": "2024-06-28T05:13:00.466594Z",
     "iopub.status.busy": "2024-06-28T05:13:00.466207Z",
     "iopub.status.idle": "2024-06-28T05:13:00.472952Z",
     "shell.execute_reply": "2024-06-28T05:13:00.471606Z"
    },
    "papermill": {
     "duration": 0.023074,
     "end_time": "2024-06-28T05:13:00.475620",
     "exception": false,
     "start_time": "2024-06-28T05:13:00.452546",
     "status": "completed"
    },
    "tags": []
   },
   "outputs": [],
   "source": [
    "oof_pred_probs['HGB'] = hgb_oof_pred_probs\n",
    "test_pred_probs['HGB'] = hgb_test_pred_probs\n",
    "accuracies['HGB'] = [0.834814, 0.835010, 0.835403, 0.832517, 0.825132]\n",
    "aucs['HGB'] = [0.929074, 0.930172, 0.928571, 0.928758, 0.924181]"
   ]
  },
  {
   "cell_type": "code",
   "execution_count": 15,
   "id": "97139498",
   "metadata": {
    "execution": {
     "iopub.execute_input": "2024-06-28T05:13:00.499728Z",
     "iopub.status.busy": "2024-06-28T05:13:00.499280Z",
     "iopub.status.idle": "2024-06-28T05:13:00.505692Z",
     "shell.execute_reply": "2024-06-28T05:13:00.504468Z"
    },
    "papermill": {
     "duration": 0.021699,
     "end_time": "2024-06-28T05:13:00.508176",
     "exception": false,
     "start_time": "2024-06-28T05:13:00.486477",
     "status": "completed"
    },
    "tags": []
   },
   "outputs": [],
   "source": [
    "oof_pred_probs['GB'] = gb_oof_pred_probs\n",
    "test_pred_probs['GB'] = gb_test_pred_probs\n",
    "accuracies['GB'] = [0.836448, 0.835664, 0.835795, 0.833235, 0.823629]\n",
    "aucs['GB'] = [0.930418, 0.931982, 0.930053, 0.929623, 0.925156]"
   ]
  },
  {
   "cell_type": "code",
   "execution_count": 16,
   "id": "1d4727c4",
   "metadata": {
    "execution": {
     "iopub.execute_input": "2024-06-28T05:13:00.532097Z",
     "iopub.status.busy": "2024-06-28T05:13:00.531055Z",
     "iopub.status.idle": "2024-06-28T05:13:00.537756Z",
     "shell.execute_reply": "2024-06-28T05:13:00.536535Z"
    },
    "papermill": {
     "duration": 0.021265,
     "end_time": "2024-06-28T05:13:00.540287",
     "exception": false,
     "start_time": "2024-06-28T05:13:00.519022",
     "status": "completed"
    },
    "tags": []
   },
   "outputs": [],
   "source": [
    "oof_pred_probs['RF'] = rf_oof_pred_probs\n",
    "test_pred_probs['RF'] = rf_test_pred_probs\n",
    "accuracies['RF'] = [0.828738, 0.831939, 0.830306, 0.826766, 0.821865]\n",
    "aucs['RF'] = [0.923348, 0.925072, 0.921366, 0.923187, 0.917795]"
   ]
  },
  {
   "cell_type": "code",
   "execution_count": 17,
   "id": "78d90762",
   "metadata": {
    "execution": {
     "iopub.execute_input": "2024-06-28T05:13:00.563715Z",
     "iopub.status.busy": "2024-06-28T05:13:00.563260Z",
     "iopub.status.idle": "2024-06-28T05:13:00.570519Z",
     "shell.execute_reply": "2024-06-28T05:13:00.569033Z"
    },
    "papermill": {
     "duration": 0.023066,
     "end_time": "2024-06-28T05:13:00.574130",
     "exception": false,
     "start_time": "2024-06-28T05:13:00.551064",
     "status": "completed"
    },
    "tags": []
   },
   "outputs": [],
   "source": [
    "oof_pred_probs['AG'] = ag_oof_pred_probs\n",
    "test_pred_probs['AG'] = ag_test_pred_probs\n",
    "accuracies['AG'] = [0.835010, 0.835860, 0.835403, 0.833823, 0.826113]\n",
    "aucs['AG'] = [0.930343, 0.931906, 0.929550, 0.929920, 0.925213]"
   ]
  },
  {
   "cell_type": "code",
   "execution_count": 18,
   "id": "c58163e3",
   "metadata": {
    "execution": {
     "iopub.execute_input": "2024-06-28T05:13:00.598179Z",
     "iopub.status.busy": "2024-06-28T05:13:00.597769Z",
     "iopub.status.idle": "2024-06-28T05:13:00.604070Z",
     "shell.execute_reply": "2024-06-28T05:13:00.602905Z"
    },
    "papermill": {
     "duration": 0.021291,
     "end_time": "2024-06-28T05:13:00.606431",
     "exception": false,
     "start_time": "2024-06-28T05:13:00.585140",
     "status": "completed"
    },
    "tags": []
   },
   "outputs": [],
   "source": [
    "oof_pred_probs['LAML'] = laml_oof_pred_probs\n",
    "test_pred_probs['LAML'] = laml_test_pred_probs\n",
    "accuracies['LAML'] = [0.835403, 0.835010, 0.833900, 0.832190, 0.826243]\n",
    "aucs['LAML'] = [0.931167, 0.932128, 0.929940, 0.929787, 0.924839]"
   ]
  },
  {
   "cell_type": "code",
   "execution_count": 19,
   "id": "eccd1240",
   "metadata": {
    "execution": {
     "iopub.execute_input": "2024-06-28T05:13:00.630372Z",
     "iopub.status.busy": "2024-06-28T05:13:00.629992Z",
     "iopub.status.idle": "2024-06-28T05:13:00.636925Z",
     "shell.execute_reply": "2024-06-28T05:13:00.635429Z"
    },
    "papermill": {
     "duration": 0.02189,
     "end_time": "2024-06-28T05:13:00.639566",
     "exception": false,
     "start_time": "2024-06-28T05:13:00.617676",
     "status": "completed"
    },
    "tags": []
   },
   "outputs": [],
   "source": [
    "oof_pred_probs['FLAML'] = flaml_oof_pred_probs\n",
    "test_pred_probs['FLAML'] = flaml_test_pred_probs\n",
    "accuracies['FLAML'] = [0.835272, 0.835010, 0.835925, 0.834608, 0.823499]\n",
    "aucs['FLAML'] = [0.930438, 0.932135, 0.930229, 0.930079, 0.924522]"
   ]
  },
  {
   "cell_type": "markdown",
   "id": "809f053b",
   "metadata": {
    "papermill": {
     "duration": 0.01117,
     "end_time": "2024-06-28T05:13:00.662115",
     "exception": false,
     "start_time": "2024-06-28T05:13:00.650945",
     "status": "completed"
    },
    "tags": []
   },
   "source": [
    "# Ensemble"
   ]
  },
  {
   "cell_type": "code",
   "execution_count": 20,
   "id": "d7eb93ee",
   "metadata": {
    "_kg_hide-output": true,
    "execution": {
     "iopub.execute_input": "2024-06-28T05:13:00.685825Z",
     "iopub.status.busy": "2024-06-28T05:13:00.685408Z",
     "iopub.status.idle": "2024-06-28T05:13:00.700528Z",
     "shell.execute_reply": "2024-06-28T05:13:00.699462Z"
    },
    "papermill": {
     "duration": 0.029894,
     "end_time": "2024-06-28T05:13:00.703069",
     "exception": false,
     "start_time": "2024-06-28T05:13:00.673175",
     "status": "completed"
    },
    "scrolled": true,
    "tags": []
   },
   "outputs": [],
   "source": [
    "def objective(trial):\n",
    "    xgb_weight = trial.suggest_float('xgb_weight', 0.0, 1.0)\n",
    "    cb_weight = trial.suggest_float('cb_weight', 0.0, 1.0)\n",
    "    lgbm_weight = trial.suggest_float('lgbm_weight', 0.0, 1.0)\n",
    "    hgb_weight = trial.suggest_float('hgb_weight', 0.0, 1.0)\n",
    "    gb_weight = trial.suggest_float('gb_weight', 0.0, 1.0)\n",
    "    rf_weight = trial.suggest_float('rf_weight', 0.0, 1.0)\n",
    "    ag_weight = trial.suggest_float('ag_weight', 0.0, 1.0)\n",
    "    laml_weight = trial.suggest_float('laml_weight', 0.0, 1.0)\n",
    "    flaml_weight = trial.suggest_float('flaml_weight', 0.0, 1.0)\n",
    "\n",
    "    weights = [\n",
    "        xgb_weight,\n",
    "        cb_weight,\n",
    "        lgbm_weight,\n",
    "        hgb_weight,\n",
    "        gb_weight,\n",
    "        rf_weight,\n",
    "        ag_weight,\n",
    "        laml_weight,\n",
    "        flaml_weight\n",
    "    ]\n",
    "    weights /= np.sum(weights)\n",
    "    \n",
    "    pred_probs = np.zeros((X.shape[0], len(np.unique(y))))\n",
    "    for model, weight in zip(oof_pred_probs.keys(), weights):\n",
    "        pred_probs += oof_pred_probs[model] * weight\n",
    "\n",
    "    preds = np.argmax(pred_probs, axis=1)\n",
    "\n",
    "    return accuracy_score(y, preds)\n",
    "\n",
    "\n",
    "tune_ensemble_weights = False\n",
    "if tune_ensemble_weights:\n",
    "    sampler = TPESampler(seed=SEED, n_startup_trials=10)\n",
    "    study = optuna.create_study(direction='maximize', sampler=sampler)\n",
    "    study.optimize(objective, n_trials=1000, n_jobs=-1)\n",
    "    best_weights = study.best_params\n",
    "else:\n",
    "    best_weights = {\n",
    "        'xgb_weight': 0.32848164825087656, \n",
    "        'cb_weight': 0.7605000681431924, \n",
    "        'lgbm_weight': 0.8646798750739314, \n",
    "        'hgb_weight': 0.08715090241113871, \n",
    "        'gb_weight': 0.29442701953208905, \n",
    "        'rf_weight': 0.25206140981047864, \n",
    "        'ag_weight': 0.00045551712601656145, \n",
    "        'laml_weight': 0.01695972301717404, \n",
    "        'flaml_weight': 0.01781262444356089\n",
    "    }\n",
    "\n",
    "model_prefixes = ['xgb', 'cb', 'lgbm', 'hgb', 'gb', 'rf', 'ag', 'laml', 'flaml']\n",
    "best_weights = [best_weights[f'{model}_weight'] for model in model_prefixes]\n",
    "best_weights /= np.sum(best_weights)"
   ]
  },
  {
   "cell_type": "code",
   "execution_count": 21,
   "id": "5edcecbf",
   "metadata": {
    "execution": {
     "iopub.execute_input": "2024-06-28T05:13:00.726753Z",
     "iopub.status.busy": "2024-06-28T05:13:00.726343Z",
     "iopub.status.idle": "2024-06-28T05:13:00.849405Z",
     "shell.execute_reply": "2024-06-28T05:13:00.848206Z"
    },
    "papermill": {
     "duration": 0.138284,
     "end_time": "2024-06-28T05:13:00.852291",
     "exception": false,
     "start_time": "2024-06-28T05:13:00.714007",
     "status": "completed"
    },
    "tags": []
   },
   "outputs": [],
   "source": [
    "ensemble_oof_pred_probs = np.zeros((X.shape[0], len(np.unique(y))))\n",
    "for model, weight in zip(oof_pred_probs.keys(), best_weights):\n",
    "    ensemble_oof_pred_probs += oof_pred_probs[model] * weight\n",
    "\n",
    "ensemble_oof_preds = np.argmax(ensemble_oof_pred_probs, axis=1)\n",
    "ensemble_acc = accuracy_score(y, ensemble_oof_preds)\n",
    "ensemble_auc = roc_auc_score(y, ensemble_oof_pred_probs, multi_class='ovo')\n",
    "\n",
    "oof_pred_probs['Ensemble'] = ensemble_oof_pred_probs\n",
    "accuracies['Ensemble'] = [ensemble_acc] * N_FOLDS\n",
    "aucs['Ensemble'] = [ensemble_auc] * N_FOLDS"
   ]
  },
  {
   "cell_type": "code",
   "execution_count": 22,
   "id": "79a9ab4b",
   "metadata": {
    "execution": {
     "iopub.execute_input": "2024-06-28T05:13:00.878694Z",
     "iopub.status.busy": "2024-06-28T05:13:00.878241Z",
     "iopub.status.idle": "2024-06-28T05:13:00.892531Z",
     "shell.execute_reply": "2024-06-28T05:13:00.891292Z"
    },
    "papermill": {
     "duration": 0.030967,
     "end_time": "2024-06-28T05:13:00.895469",
     "exception": false,
     "start_time": "2024-06-28T05:13:00.864502",
     "status": "completed"
    },
    "tags": []
   },
   "outputs": [],
   "source": [
    "final_pred_probs = np.zeros((test.shape[0], len(np.unique(y))))\n",
    "for model, weight in zip(test_pred_probs.keys(), best_weights):\n",
    "    final_pred_probs += test_pred_probs[model] * weight\n",
    "    \n",
    "ensemble_preds = np.argmax(final_pred_probs, axis=1)"
   ]
  },
  {
   "cell_type": "code",
   "execution_count": 23,
   "id": "69f4e958",
   "metadata": {
    "execution": {
     "iopub.execute_input": "2024-06-28T05:13:00.919485Z",
     "iopub.status.busy": "2024-06-28T05:13:00.919066Z",
     "iopub.status.idle": "2024-06-28T05:13:01.059880Z",
     "shell.execute_reply": "2024-06-28T05:13:01.058392Z"
    },
    "papermill": {
     "duration": 0.155935,
     "end_time": "2024-06-28T05:13:01.062509",
     "exception": false,
     "start_time": "2024-06-28T05:13:00.906574",
     "status": "completed"
    },
    "tags": []
   },
   "outputs": [
    {
     "data": {
      "text/html": [
       "<div>\n",
       "<style scoped>\n",
       "    .dataframe tbody tr th:only-of-type {\n",
       "        vertical-align: middle;\n",
       "    }\n",
       "\n",
       "    .dataframe tbody tr th {\n",
       "        vertical-align: top;\n",
       "    }\n",
       "\n",
       "    .dataframe thead th {\n",
       "        text-align: right;\n",
       "    }\n",
       "</style>\n",
       "<table border=\"1\" class=\"dataframe\">\n",
       "  <thead>\n",
       "    <tr style=\"text-align: right;\">\n",
       "      <th></th>\n",
       "      <th>id</th>\n",
       "      <th>Target</th>\n",
       "    </tr>\n",
       "  </thead>\n",
       "  <tbody>\n",
       "    <tr>\n",
       "      <th>0</th>\n",
       "      <td>76518</td>\n",
       "      <td>Dropout</td>\n",
       "    </tr>\n",
       "    <tr>\n",
       "      <th>1</th>\n",
       "      <td>76519</td>\n",
       "      <td>Graduate</td>\n",
       "    </tr>\n",
       "    <tr>\n",
       "      <th>2</th>\n",
       "      <td>76520</td>\n",
       "      <td>Graduate</td>\n",
       "    </tr>\n",
       "    <tr>\n",
       "      <th>3</th>\n",
       "      <td>76521</td>\n",
       "      <td>Graduate</td>\n",
       "    </tr>\n",
       "    <tr>\n",
       "      <th>4</th>\n",
       "      <td>76522</td>\n",
       "      <td>Enrolled</td>\n",
       "    </tr>\n",
       "  </tbody>\n",
       "</table>\n",
       "</div>"
      ],
      "text/plain": [
       "      id    Target\n",
       "0  76518   Dropout\n",
       "1  76519  Graduate\n",
       "2  76520  Graduate\n",
       "3  76521  Graduate\n",
       "4  76522  Enrolled"
      ]
     },
     "execution_count": 23,
     "metadata": {},
     "output_type": "execute_result"
    }
   ],
   "source": [
    "ensemble_sub = save_submission(final_pred_probs, ensemble_acc, ensemble_auc, \"ensemble\")\n",
    "ensemble_sub.head()"
   ]
  },
  {
   "cell_type": "markdown",
   "id": "498134bf",
   "metadata": {
    "papermill": {
     "duration": 0.01142,
     "end_time": "2024-06-28T05:13:01.085473",
     "exception": false,
     "start_time": "2024-06-28T05:13:01.074053",
     "status": "completed"
    },
    "tags": []
   },
   "source": [
    "# Stacking"
   ]
  },
  {
   "cell_type": "code",
   "execution_count": 24,
   "id": "3a162d11",
   "metadata": {
    "execution": {
     "iopub.execute_input": "2024-06-28T05:13:01.113133Z",
     "iopub.status.busy": "2024-06-28T05:13:01.112734Z",
     "iopub.status.idle": "2024-06-28T05:13:01.224867Z",
     "shell.execute_reply": "2024-06-28T05:13:01.223592Z"
    },
    "papermill": {
     "duration": 0.129812,
     "end_time": "2024-06-28T05:13:01.227703",
     "exception": false,
     "start_time": "2024-06-28T05:13:01.097891",
     "status": "completed"
    },
    "tags": []
   },
   "outputs": [],
   "source": [
    "# Reference: https://www.kaggle.com/competitions/playground-series-s4e6/discussion/509353#2851035\n",
    "class PassThroughClassifier(BaseEstimator, ClassifierMixin):\n",
    "    def __init__(self, idx_cols):\n",
    "        self.idx_cols = idx_cols\n",
    "        self.is_fitted_ = True\n",
    "\n",
    "    def fit(self, X, y=None):\n",
    "        return self\n",
    "\n",
    "    def predict_proba(self, X):\n",
    "        return check_array(X)[:, self.idx_cols]\n",
    "\n",
    "\n",
    "X_oof_pred_probs = np.log(pd.DataFrame(np.hstack(list(oof_pred_probs.values()))) + 1e-7)\n",
    "X_test_pred_probs = np.log(pd.DataFrame(np.hstack(list(test_pred_probs.values()))) + 1e-7)\n",
    "\n",
    "estimators = [\n",
    "    ('XGB', PassThroughClassifier(list(range(3)))),\n",
    "    ('CB', PassThroughClassifier(list(range(3, 6)))),\n",
    "    ('LGBM', PassThroughClassifier(list(range(6, 9)))),\n",
    "    ('HGB', PassThroughClassifier(list(range(9, 12)))),\n",
    "    ('GB', PassThroughClassifier(list(range(12, 15)))),\n",
    "    ('RF', PassThroughClassifier(list(range(15, 18)))),\n",
    "    ('AG', PassThroughClassifier(list(range(18, 21)))),\n",
    "    ('LAML', PassThroughClassifier(list(range(21, 24)))),\n",
    "    ('FLAML', PassThroughClassifier(list(range(24, 27))))\n",
    "]"
   ]
  },
  {
   "cell_type": "code",
   "execution_count": 25,
   "id": "297ec9f6",
   "metadata": {
    "_kg_hide-output": true,
    "execution": {
     "iopub.execute_input": "2024-06-28T05:13:01.254695Z",
     "iopub.status.busy": "2024-06-28T05:13:01.253527Z",
     "iopub.status.idle": "2024-06-28T05:13:01.267152Z",
     "shell.execute_reply": "2024-06-28T05:13:01.266157Z"
    },
    "papermill": {
     "duration": 0.029882,
     "end_time": "2024-06-28T05:13:01.269844",
     "exception": false,
     "start_time": "2024-06-28T05:13:01.239962",
     "status": "completed"
    },
    "tags": []
   },
   "outputs": [],
   "source": [
    "def objective(trial):\n",
    "    params = {\n",
    "        'num_leaves': trial.suggest_int('num_leaves', 5, 100),\n",
    "        'learning_rate': trial.suggest_float('learning_rate', 0.0001, 0.1, log=True),\n",
    "        'n_estimators': trial.suggest_int('n_estimators', 500, 2000),\n",
    "        'colsample_bytree': trial.suggest_float('colsample_bytree', 0, 1.0),\n",
    "        'reg_alpha': trial.suggest_float('reg_alpha', 0.0, 10.0),\n",
    "        'reg_lambda': trial.suggest_float('reg_lambda', 0.0, 10.0),\n",
    "        'random_state': SEED,\n",
    "        'verbose': -1\n",
    "    }\n",
    "\n",
    "    final_estimator = LGBMClassifier(**params)\n",
    "    model = StackingClassifier(estimators, cv='prefit', n_jobs=-1, final_estimator=final_estimator)\n",
    "    trainer = Trainer(model)\n",
    "    _, _, accs, _ = trainer.fit(X_oof_pred_probs, y)\n",
    "    return np.mean(accs)\n",
    "\n",
    "\n",
    "tune_final_estimator = False\n",
    "if tune_final_estimator:\n",
    "    sampler = TPESampler(seed=SEED)\n",
    "    study = optuna.create_study(direction='maximize', sampler=sampler)\n",
    "    study.optimize(objective, n_trials=1000, catch=(ValueError,), n_jobs=-1)\n",
    "    fe_params = study.best_params\n",
    "    fe_params['random_state'] = SEED\n",
    "    fe_params['n_jobs'] = -1\n",
    "    fe_params['verbose'] = -1\n",
    "    print(study.best_params)\n",
    "else:\n",
    "    fe_params = {\n",
    "        'num_leaves': 66, \n",
    "        'learning_rate': 0.0014531938331513146, \n",
    "        'n_estimators': 1600,\n",
    "        'colsample_bytree': 0.22709450802249748,\n",
    "        'reg_alpha': 6.817827989713506, \n",
    "        'reg_lambda': 5.734297274885133,\n",
    "        'verbose': -1,\n",
    "        'n_jobs': -1,\n",
    "        'random_state': SEED\n",
    "    }"
   ]
  },
  {
   "cell_type": "code",
   "execution_count": 26,
   "id": "ce9d382f",
   "metadata": {
    "execution": {
     "iopub.execute_input": "2024-06-28T05:13:01.294954Z",
     "iopub.status.busy": "2024-06-28T05:13:01.294527Z",
     "iopub.status.idle": "2024-06-28T05:19:38.468715Z",
     "shell.execute_reply": "2024-06-28T05:19:38.467653Z"
    },
    "papermill": {
     "duration": 397.190071,
     "end_time": "2024-06-28T05:19:38.471649",
     "exception": false,
     "start_time": "2024-06-28T05:13:01.281578",
     "status": "completed"
    },
    "tags": []
   },
   "outputs": [
    {
     "name": "stdout",
     "output_type": "stream",
     "text": [
      "Training StackingClassifier\n",
      "--- Fold 1 - Accuracy: 0.838931, AUC: 0.930804\n",
      "--- Fold 2 - Accuracy: 0.835991, AUC: 0.932507\n",
      "--- Fold 3 - Accuracy: 0.837559, AUC: 0.930002\n",
      "--- Fold 4 - Accuracy: 0.835522, AUC: 0.929912\n",
      "--- Fold 5 - Accuracy: 0.827289, AUC: 0.924720\n",
      "\n",
      "------ Accuracy: 0.835058 ± 0.004067\n",
      "------ AUC:      0.929589 ± 0.002607\n",
      "\n",
      "\n"
     ]
    }
   ],
   "source": [
    "# LogisticRegression 0.834967\n",
    "# LGBMClassifier\n",
    "\n",
    "final_estimator = LGBMClassifier(**fe_params)\n",
    "stacking_model = StackingClassifier(estimators, cv='prefit', n_jobs=-1, final_estimator=final_estimator)\n",
    "stacking_trainer = Trainer(stacking_model)\n",
    "stacking_oof_pred_probs, stacking_oof_preds, stacking_accs, stacking_aucs = stacking_trainer.fit(X_oof_pred_probs, y)\n",
    "oof_pred_probs['Stacking'] = stacking_oof_pred_probs\n",
    "test_pred_probs['Stacking'] = stacking_trainer.fit_predict_proba(X_oof_pred_probs, y, X_test_pred_probs)\n",
    "accuracies['Stacking'] = stacking_accs\n",
    "aucs['Stacking'] = stacking_aucs"
   ]
  },
  {
   "cell_type": "code",
   "execution_count": 27,
   "id": "f5e60609",
   "metadata": {
    "execution": {
     "iopub.execute_input": "2024-06-28T05:19:38.498064Z",
     "iopub.status.busy": "2024-06-28T05:19:38.497494Z",
     "iopub.status.idle": "2024-06-28T05:19:38.626858Z",
     "shell.execute_reply": "2024-06-28T05:19:38.625523Z"
    },
    "papermill": {
     "duration": 0.145251,
     "end_time": "2024-06-28T05:19:38.629380",
     "exception": false,
     "start_time": "2024-06-28T05:19:38.484129",
     "status": "completed"
    },
    "tags": []
   },
   "outputs": [
    {
     "data": {
      "text/html": [
       "<div>\n",
       "<style scoped>\n",
       "    .dataframe tbody tr th:only-of-type {\n",
       "        vertical-align: middle;\n",
       "    }\n",
       "\n",
       "    .dataframe tbody tr th {\n",
       "        vertical-align: top;\n",
       "    }\n",
       "\n",
       "    .dataframe thead th {\n",
       "        text-align: right;\n",
       "    }\n",
       "</style>\n",
       "<table border=\"1\" class=\"dataframe\">\n",
       "  <thead>\n",
       "    <tr style=\"text-align: right;\">\n",
       "      <th></th>\n",
       "      <th>id</th>\n",
       "      <th>Target</th>\n",
       "    </tr>\n",
       "  </thead>\n",
       "  <tbody>\n",
       "    <tr>\n",
       "      <th>0</th>\n",
       "      <td>76518</td>\n",
       "      <td>Dropout</td>\n",
       "    </tr>\n",
       "    <tr>\n",
       "      <th>1</th>\n",
       "      <td>76519</td>\n",
       "      <td>Graduate</td>\n",
       "    </tr>\n",
       "    <tr>\n",
       "      <th>2</th>\n",
       "      <td>76520</td>\n",
       "      <td>Graduate</td>\n",
       "    </tr>\n",
       "    <tr>\n",
       "      <th>3</th>\n",
       "      <td>76521</td>\n",
       "      <td>Graduate</td>\n",
       "    </tr>\n",
       "    <tr>\n",
       "      <th>4</th>\n",
       "      <td>76522</td>\n",
       "      <td>Enrolled</td>\n",
       "    </tr>\n",
       "  </tbody>\n",
       "</table>\n",
       "</div>"
      ],
      "text/plain": [
       "      id    Target\n",
       "0  76518   Dropout\n",
       "1  76519  Graduate\n",
       "2  76520  Graduate\n",
       "3  76521  Graduate\n",
       "4  76522  Enrolled"
      ]
     },
     "execution_count": 27,
     "metadata": {},
     "output_type": "execute_result"
    }
   ],
   "source": [
    "stacking_sub = save_submission(test_pred_probs['Stacking'], np.mean(accuracies['Stacking']), np.mean(aucs['Stacking']), \"stacking\")\n",
    "stacking_sub.head()"
   ]
  },
  {
   "cell_type": "markdown",
   "id": "f04d3738",
   "metadata": {
    "papermill": {
     "duration": 0.012286,
     "end_time": "2024-06-28T05:19:38.654380",
     "exception": false,
     "start_time": "2024-06-28T05:19:38.642094",
     "status": "completed"
    },
    "tags": []
   },
   "source": [
    "# Visualizing The Results"
   ]
  },
  {
   "cell_type": "code",
   "execution_count": 28,
   "id": "0db9bbc4",
   "metadata": {
    "execution": {
     "iopub.execute_input": "2024-06-28T05:19:38.681851Z",
     "iopub.status.busy": "2024-06-28T05:19:38.681041Z",
     "iopub.status.idle": "2024-06-28T05:19:38.687383Z",
     "shell.execute_reply": "2024-06-28T05:19:38.686301Z"
    },
    "papermill": {
     "duration": 0.022654,
     "end_time": "2024-06-28T05:19:38.689873",
     "exception": false,
     "start_time": "2024-06-28T05:19:38.667219",
     "status": "completed"
    },
    "tags": []
   },
   "outputs": [],
   "source": [
    "accuracies = pd.DataFrame(accuracies)\n",
    "aucs = pd.DataFrame(aucs)"
   ]
  },
  {
   "cell_type": "code",
   "execution_count": 29,
   "id": "4ba59504",
   "metadata": {
    "execution": {
     "iopub.execute_input": "2024-06-28T05:19:38.716831Z",
     "iopub.status.busy": "2024-06-28T05:19:38.716411Z",
     "iopub.status.idle": "2024-06-28T05:19:39.828781Z",
     "shell.execute_reply": "2024-06-28T05:19:39.827477Z"
    },
    "papermill": {
     "duration": 1.12906,
     "end_time": "2024-06-28T05:19:39.831667",
     "exception": false,
     "start_time": "2024-06-28T05:19:38.702607",
     "status": "completed"
    },
    "tags": []
   },
   "outputs": [
    {
     "data": {
      "image/png": "[encoded data removed]",
      "text/plain": [
       "<Figure size 1500x500 with 2 Axes>"
      ]
     },
     "metadata": {},
     "output_type": "display_data"
    }
   ],
   "source": [
    "mean_accs = accuracies.mean().sort_values(ascending=False)\n",
    "order = accuracies.mean().sort_values(ascending=False).index.tolist()\n",
    "\n",
    "min_acc = mean_accs.min()\n",
    "max_acc = mean_accs.max()\n",
    "padding = (max_acc - min_acc) * 0.1\n",
    "lower_limit = min_acc - padding\n",
    "upper_limit = max_acc + padding\n",
    "\n",
    "fig, axs = plt.subplots(1, 2, figsize=(15, 5))\n",
    "\n",
    "sns.boxplot(data=accuracies, order=order, ax=axs[0], orient='h', color='#651FFF')\n",
    "axs[0].set_title('Fold Accuracy')\n",
    "axs[0].set_xlabel('')\n",
    "axs[0].set_ylabel('')\n",
    "\n",
    "barplot = sns.barplot(x=mean_accs.values, y=mean_accs.index, ax=axs[1], color='#651FFF')\n",
    "axs[1].set_title('Average Accuracy')\n",
    "axs[1].set_xlabel('')\n",
    "axs[1].set_xlim(left=lower_limit, right=upper_limit)\n",
    "axs[1].set_ylabel('')\n",
    "\n",
    "for i, score in enumerate(mean_accs.values):\n",
    "    barplot.text(score, i, round(score, 4), va='center')\n",
    "\n",
    "plt.tight_layout()\n",
    "plt.show()"
   ]
  },
  {
   "cell_type": "code",
   "execution_count": 30,
   "id": "7914599a",
   "metadata": {
    "execution": {
     "iopub.execute_input": "2024-06-28T05:19:39.860305Z",
     "iopub.status.busy": "2024-06-28T05:19:39.859934Z",
     "iopub.status.idle": "2024-06-28T05:19:40.902680Z",
     "shell.execute_reply": "2024-06-28T05:19:40.901387Z"
    },
    "papermill": {
     "duration": 1.059958,
     "end_time": "2024-06-28T05:19:40.905197",
     "exception": false,
     "start_time": "2024-06-28T05:19:39.845239",
     "status": "completed"
    },
    "tags": []
   },
   "outputs": [
    {
     "data": {
      "image/png": "[encoded data removed]",
      "text/plain": [
       "<Figure size 1500x500 with 2 Axes>"
      ]
     },
     "metadata": {},
     "output_type": "display_data"
    }
   ],
   "source": [
    "mean_aucs = aucs.mean().sort_values(ascending=False)\n",
    "order = aucs.mean().sort_values(ascending=False).index.tolist()\n",
    "\n",
    "min_auc = mean_aucs.min()\n",
    "max_auc = mean_aucs.max()\n",
    "padding = (max_auc - min_auc) * 0.1\n",
    "lower_limit = min_auc - padding\n",
    "upper_limit = max_auc + padding\n",
    "\n",
    "fig, axs = plt.subplots(1, 2, figsize=(15, 5))\n",
    "\n",
    "sns.boxplot(data=accuracies, order=order, ax=axs[0], orient='h', color='#651FFF')\n",
    "axs[0].set_title('Fold AUC')\n",
    "axs[0].set_xlabel('')\n",
    "axs[0].set_ylabel('')\n",
    "\n",
    "barplot = sns.barplot(x=mean_aucs.values, y=mean_aucs.index, ax=axs[1], color='#651FFF')\n",
    "axs[1].set_title('Average AUC')\n",
    "axs[1].set_xlabel('')\n",
    "axs[1].set_xlim(left=lower_limit, right=upper_limit)\n",
    "axs[1].set_ylabel('')\n",
    "\n",
    "for i, score in enumerate(mean_aucs.values):\n",
    "    barplot.text(score, i, round(score, 4), va='center')\n",
    "\n",
    "plt.tight_layout()\n",
    "plt.show()"
   ]
  }
 ],
 "metadata": {
  "kaggle": {
   "accelerator": "none",
   "dataSources": [
    {
     "databundleVersionId": 8710574,
     "sourceId": 73290,
     "sourceType": "competition"
    },
    {
     "datasetId": 5279468,
     "sourceId": 8785308,
     "sourceType": "datasetVersion"
    }
   ],
   "dockerImageVersionId": 30732,
   "isGpuEnabled": false,
   "isInternetEnabled": true,
   "language": "python",
   "sourceType": "notebook"
  },
  "kernelspec": {
   "display_name": "Python 3",
   "language": "python",
   "name": "python3"
  },
  "language_info": {
   "codemirror_mode": {
    "name": "ipython",
    "version": 3
   },
   "file_extension": ".py",
   "mimetype": "text/x-python",
   "name": "python",
   "nbconvert_exporter": "python",
   "pygments_lexer": "ipython3",
   "version": "3.10.13"
  },
  "papermill": {
   "default_parameters": {},
   "duration": 412.627104,
   "end_time": "2024-06-28T05:19:41.744086",
   "environment_variables": {},
   "exception": null,
   "input_path": "__notebook__.ipynb",
   "output_path": "__notebook__.ipynb",
   "parameters": {},
   "start_time": "2024-06-28T05:12:49.116982",
   "version": "2.5.0"
  }
 },
 "nbformat": 4,
 "nbformat_minor": 5
}
