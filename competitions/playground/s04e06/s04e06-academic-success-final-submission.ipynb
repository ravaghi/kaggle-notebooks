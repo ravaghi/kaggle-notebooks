{
 "cells": [
  {
   "cell_type": "markdown",
   "id": "ff3b4e1a",
   "metadata": {
    "papermill": {
     "duration": 0.013329,
     "end_time": "2024-06-27T12:57:36.541194",
     "exception": false,
     "start_time": "2024-06-27T12:57:36.527865",
     "status": "completed"
    },
    "tags": []
   },
   "source": [
    "# Imports and Configs"
   ]
  },
  {
   "cell_type": "code",
   "execution_count": 1,
   "id": "ca7fc64a",
   "metadata": {
    "_cell_guid": "b1076dfc-b9ad-4769-8c92-a6c4dae69d19",
    "_uuid": "8f2839f25d086af736a60e9eeb907d3b93b6e0e5",
    "execution": {
     "iopub.execute_input": "2024-06-27T12:57:36.568630Z",
     "iopub.status.busy": "2024-06-27T12:57:36.568104Z",
     "iopub.status.idle": "2024-06-27T12:57:40.101011Z",
     "shell.execute_reply": "2024-06-27T12:57:40.099492Z"
    },
    "papermill": {
     "duration": 3.550537,
     "end_time": "2024-06-27T12:57:40.104494",
     "exception": false,
     "start_time": "2024-06-27T12:57:36.553957",
     "status": "completed"
    },
    "tags": []
   },
   "outputs": [],
   "source": [
    "from sklearn.metrics import accuracy_score, roc_auc_score\n",
    "from sklearn.base import BaseEstimator, ClassifierMixin\n",
    "from sklearn.model_selection import StratifiedKFold\n",
    "from sklearn.linear_model import LogisticRegression\n",
    "from sklearn.ensemble import StackingClassifier\n",
    "from sklearn.preprocessing import LabelEncoder\n",
    "from optuna.samplers import TPESampler\n",
    "from sklearn.utils import check_array\n",
    "import matplotlib.pyplot as plt\n",
    "from sklearn.base import clone\n",
    "import seaborn as sns\n",
    "import pandas as pd\n",
    "import numpy as np\n",
    "import warnings\n",
    "import pickle\n",
    "import optuna\n",
    "import glob\n",
    "\n",
    "sns.set_style('whitegrid')\n",
    "warnings.filterwarnings('ignore')"
   ]
  },
  {
   "cell_type": "code",
   "execution_count": 2,
   "id": "4ef520ba",
   "metadata": {
    "execution": {
     "iopub.execute_input": "2024-06-27T12:57:40.131777Z",
     "iopub.status.busy": "2024-06-27T12:57:40.131072Z",
     "iopub.status.idle": "2024-06-27T12:57:40.138293Z",
     "shell.execute_reply": "2024-06-27T12:57:40.136484Z"
    },
    "papermill": {
     "duration": 0.024776,
     "end_time": "2024-06-27T12:57:40.141874",
     "exception": false,
     "start_time": "2024-06-27T12:57:40.117098",
     "status": "completed"
    },
    "tags": []
   },
   "outputs": [],
   "source": [
    "SEED = 27\n",
    "N_FOLDS = 5\n",
    "TARGET = 'Target'"
   ]
  },
  {
   "cell_type": "code",
   "execution_count": 3,
   "id": "fdea2ac3",
   "metadata": {
    "execution": {
     "iopub.execute_input": "2024-06-27T12:57:40.168823Z",
     "iopub.status.busy": "2024-06-27T12:57:40.168306Z",
     "iopub.status.idle": "2024-06-27T12:57:41.000288Z",
     "shell.execute_reply": "2024-06-27T12:57:40.998875Z"
    },
    "papermill": {
     "duration": 0.849628,
     "end_time": "2024-06-27T12:57:41.004047",
     "exception": false,
     "start_time": "2024-06-27T12:57:40.154419",
     "status": "completed"
    },
    "tags": []
   },
   "outputs": [],
   "source": [
    "train = pd.read_csv('/kaggle/input/playground-series-s4e6/train.csv', index_col='id')\n",
    "test = pd.read_csv('/kaggle/input/playground-series-s4e6/test.csv', index_col='id')"
   ]
  },
  {
   "cell_type": "code",
   "execution_count": 4,
   "id": "22a831e4",
   "metadata": {
    "execution": {
     "iopub.execute_input": "2024-06-27T12:57:41.033228Z",
     "iopub.status.busy": "2024-06-27T12:57:41.032708Z",
     "iopub.status.idle": "2024-06-27T12:57:41.074741Z",
     "shell.execute_reply": "2024-06-27T12:57:41.073391Z"
    },
    "papermill": {
     "duration": 0.059775,
     "end_time": "2024-06-27T12:57:41.078101",
     "exception": false,
     "start_time": "2024-06-27T12:57:41.018326",
     "status": "completed"
    },
    "tags": []
   },
   "outputs": [],
   "source": [
    "label_encoder = LabelEncoder()\n",
    "\n",
    "X = train.drop(TARGET, axis=1)\n",
    "y = train[TARGET]\n",
    "y = label_encoder.fit_transform(y)"
   ]
  },
  {
   "cell_type": "markdown",
   "id": "a6063584",
   "metadata": {
    "papermill": {
     "duration": 0.014392,
     "end_time": "2024-06-27T12:57:41.107271",
     "exception": false,
     "start_time": "2024-06-27T12:57:41.092879",
     "status": "completed"
    },
    "tags": []
   },
   "source": [
    "# Loading OOF Files"
   ]
  },
  {
   "cell_type": "code",
   "execution_count": 5,
   "id": "ee606c85",
   "metadata": {
    "execution": {
     "iopub.execute_input": "2024-06-27T12:57:41.143359Z",
     "iopub.status.busy": "2024-06-27T12:57:41.142189Z",
     "iopub.status.idle": "2024-06-27T12:57:41.158322Z",
     "shell.execute_reply": "2024-06-27T12:57:41.155620Z"
    },
    "papermill": {
     "duration": 0.039485,
     "end_time": "2024-06-27T12:57:41.163168",
     "exception": false,
     "start_time": "2024-06-27T12:57:41.123683",
     "status": "completed"
    },
    "tags": []
   },
   "outputs": [],
   "source": [
    "def load_automl_oof_pred_probs(path):\n",
    "    files = glob.glob(f'{path}/*.pkl')\n",
    "    tmp = []\n",
    "    for file in files:\n",
    "        content = pickle.load(open(file, 'rb'))\n",
    "        if type(content) == pd.DataFrame:\n",
    "            tmp.append(content.values)\n",
    "        else:\n",
    "            tmp.append(content)\n",
    "    return np.vstack(tmp)\n",
    "\n",
    "def load_automl_test_pred_probs(path):\n",
    "    files = glob.glob(f'{path}/*.csv')\n",
    "    tmp = []\n",
    "    for file in files:\n",
    "        content = pd.read_csv(file, index_col=\"id\")\n",
    "        tmp.append(content.values)\n",
    "    return np.mean(tmp, axis=0)"
   ]
  },
  {
   "cell_type": "code",
   "execution_count": 6,
   "id": "67244da1",
   "metadata": {
    "execution": {
     "iopub.execute_input": "2024-06-27T12:57:41.193657Z",
     "iopub.status.busy": "2024-06-27T12:57:41.192401Z",
     "iopub.status.idle": "2024-06-27T12:57:41.489010Z",
     "shell.execute_reply": "2024-06-27T12:57:41.487455Z"
    },
    "papermill": {
     "duration": 0.314423,
     "end_time": "2024-06-27T12:57:41.492705",
     "exception": false,
     "start_time": "2024-06-27T12:57:41.178282",
     "status": "completed"
    },
    "tags": []
   },
   "outputs": [],
   "source": [
    "# Single Models\n",
    "xgb_oof_pred_probs = pickle.load(open('/kaggle/input/academic-success-oof-files/single_models/oof_pred_probs/xgb_oof_pred_probs.pkl', 'rb'))\n",
    "cb_oof_pred_probs = pickle.load(open('/kaggle/input/academic-success-oof-files/single_models/oof_pred_probs/cb_oof_pred_probs.pkl', 'rb'))\n",
    "lgbm_oof_pred_probs = pickle.load(open('/kaggle/input/academic-success-oof-files/single_models/oof_pred_probs/lgbm_oof_pred_probs.pkl', 'rb'))\n",
    "hgb_oof_pred_probs = pickle.load(open('/kaggle/input/academic-success-oof-files/single_models/oof_pred_probs/hgb_oof_pred_probs.pkl', 'rb'))\n",
    "gb_oof_pred_probs = pickle.load(open('/kaggle/input/academic-success-oof-files/single_models/oof_pred_probs/gb_oof_pred_probs.pkl', 'rb'))\n",
    "rf_oof_pred_probs = pickle.load(open('/kaggle/input/academic-success-oof-files/single_models/oof_pred_probs/rf_oof_pred_probs.pkl', 'rb'))\n",
    "\n",
    "# AutoML\n",
    "ag_oof_pred_probs = load_automl_oof_pred_probs('/kaggle/input/academic-success-oof-files/autogluon/oof_pred_probs')\n",
    "laml_oof_pred_probs = load_automl_oof_pred_probs('/kaggle/input/academic-success-oof-files/laml/oof_pred_probs')\n",
    "flaml_oof_pred_probs = load_automl_oof_pred_probs('/kaggle/input/academic-success-oof-files/flaml/oof_pred_probs')"
   ]
  },
  {
   "cell_type": "code",
   "execution_count": 7,
   "id": "cb4c7225",
   "metadata": {
    "execution": {
     "iopub.execute_input": "2024-06-27T12:57:41.523000Z",
     "iopub.status.busy": "2024-06-27T12:57:41.521674Z",
     "iopub.status.idle": "2024-06-27T12:57:42.753077Z",
     "shell.execute_reply": "2024-06-27T12:57:42.751497Z"
    },
    "papermill": {
     "duration": 1.249695,
     "end_time": "2024-06-27T12:57:42.756780",
     "exception": false,
     "start_time": "2024-06-27T12:57:41.507085",
     "status": "completed"
    },
    "tags": []
   },
   "outputs": [],
   "source": [
    "# Single Models\n",
    "xgb_test_pred_probs = pickle.load(open('/kaggle/input/academic-success-oof-files/single_models/test_pred_probs/xgb_test_pred_probs.pkl', 'rb'))\n",
    "cb_test_pred_probs = pickle.load(open('/kaggle/input/academic-success-oof-files/single_models/test_pred_probs/cb_test_pred_probs.pkl', 'rb'))\n",
    "lgbm_test_pred_probs = pickle.load(open('/kaggle/input/academic-success-oof-files/single_models/test_pred_probs/lgbm_test_pred_probs.pkl', 'rb'))\n",
    "hgb_test_pred_probs = pickle.load(open('/kaggle/input/academic-success-oof-files/single_models/test_pred_probs/hgb_test_pred_probs.pkl', 'rb'))\n",
    "gb_test_pred_probs = pickle.load(open('/kaggle/input/academic-success-oof-files/single_models/test_pred_probs/gb_test_pred_probs.pkl', 'rb'))\n",
    "rf_test_pred_probs = pickle.load(open('/kaggle/input/academic-success-oof-files/single_models/test_pred_probs/rf_test_pred_probs.pkl', 'rb'))\n",
    "\n",
    "# AutoML\n",
    "ag_test_pred_probs = load_automl_test_pred_probs('/kaggle/input/academic-success-oof-files/autogluon/test_pred_probs')\n",
    "laml_test_pred_probs = load_automl_test_pred_probs('/kaggle/input/academic-success-oof-files/laml/test_pred_probs')\n",
    "flaml_test_pred_probs = load_automl_test_pred_probs('/kaggle/input/academic-success-oof-files/flaml/test_pred_probs')"
   ]
  },
  {
   "cell_type": "markdown",
   "id": "7b1a0baf",
   "metadata": {
    "papermill": {
     "duration": 0.012111,
     "end_time": "2024-06-27T12:57:42.781990",
     "exception": false,
     "start_time": "2024-06-27T12:57:42.769879",
     "status": "completed"
    },
    "tags": []
   },
   "source": [
    "# Defining Training and Cross Validation Functions"
   ]
  },
  {
   "cell_type": "code",
   "execution_count": 8,
   "id": "cacaaf43",
   "metadata": {
    "execution": {
     "iopub.execute_input": "2024-06-27T12:57:42.809583Z",
     "iopub.status.busy": "2024-06-27T12:57:42.809008Z",
     "iopub.status.idle": "2024-06-27T12:57:42.824058Z",
     "shell.execute_reply": "2024-06-27T12:57:42.822519Z"
    },
    "papermill": {
     "duration": 0.032802,
     "end_time": "2024-06-27T12:57:42.827403",
     "exception": false,
     "start_time": "2024-06-27T12:57:42.794601",
     "status": "completed"
    },
    "tags": []
   },
   "outputs": [],
   "source": [
    "class Trainer:\n",
    "    def __init__(self, model, n_folds=N_FOLDS):\n",
    "        self.model = model\n",
    "        self.n_folds = n_folds\n",
    "\n",
    "    def fit(self, X, y):\n",
    "        # print(f'Training {self.model.__class__.__name__}')\n",
    "\n",
    "        rskf = StratifiedKFold(n_splits=self.n_folds, random_state=SEED, shuffle=True)\n",
    "\n",
    "        accs = []\n",
    "        aucs = []\n",
    "        oof_pred_probs = np.zeros((X.shape[0], len(np.unique(y))))\n",
    "        oof_preds = np.zeros(X.shape[0])\n",
    "        for fold_idx, (train_idx, val_idx) in enumerate(rskf.split(X, y)):\n",
    "            X_train, X_val = X.iloc[train_idx], X.iloc[val_idx]\n",
    "            y_train, y_val = y[train_idx], y[val_idx]\n",
    "            \n",
    "            model = clone(self.model)\n",
    "            model.fit(X_train, y_train)\n",
    "\n",
    "            y_pred_probs = model.predict_proba(X_val)\n",
    "            y_pred = np.argmax(y_pred_probs, axis=1)\n",
    "\n",
    "            oof_pred_probs[val_idx] = y_pred_probs\n",
    "            oof_preds[val_idx] = y_pred\n",
    "\n",
    "            acc = accuracy_score(y_val, y_pred)\n",
    "            auc = roc_auc_score(y_val, y_pred_probs, multi_class='ovo')\n",
    "            accs.append(acc)\n",
    "            aucs.append(auc)\n",
    "\n",
    "        #     print(f'--- Fold {fold_idx + 1} - Accuracy: {acc:.6f}, AUC: {auc:.6f}')\n",
    "\n",
    "        # print(f'\\n------ Accuracy: {np.mean(accs):.6f} ± {np.std(accs):.6f}')\n",
    "        # print(f'------ AUC:      {np.mean(aucs):.6f} ± {np.std(aucs):.6f}\\n\\n')\n",
    "\n",
    "        return oof_pred_probs, oof_preds, accs, aucs\n",
    "    \n",
    "    def fit_predict_proba(self, X, y, X_test):            \n",
    "        model = clone(self.model)\n",
    "        model.fit(X, y)\n",
    "        return model.predict_proba(X_test)"
   ]
  },
  {
   "cell_type": "code",
   "execution_count": 9,
   "id": "da3c2a52",
   "metadata": {
    "execution": {
     "iopub.execute_input": "2024-06-27T12:57:42.854953Z",
     "iopub.status.busy": "2024-06-27T12:57:42.854407Z",
     "iopub.status.idle": "2024-06-27T12:57:42.862719Z",
     "shell.execute_reply": "2024-06-27T12:57:42.861273Z"
    },
    "papermill": {
     "duration": 0.025761,
     "end_time": "2024-06-27T12:57:42.865516",
     "exception": false,
     "start_time": "2024-06-27T12:57:42.839755",
     "status": "completed"
    },
    "tags": []
   },
   "outputs": [],
   "source": [
    "def save_submission(pred_probs, accuracy, auc):\n",
    "    submission = pd.read_csv('/kaggle/input/playground-series-s4e6/sample_submission.csv')\n",
    "    submission['Target'] = np.argmax(pred_probs, axis=1)\n",
    "    submission['Target'] = label_encoder.inverse_transform(submission['Target'])\n",
    "    submission.to_csv(f'stacking_acc-{accuracy:.6f}_auc-{auc:.6f}.csv', index=False)\n",
    "    return submission"
   ]
  },
  {
   "cell_type": "code",
   "execution_count": 10,
   "id": "d9b7ef63",
   "metadata": {
    "execution": {
     "iopub.execute_input": "2024-06-27T12:57:42.893325Z",
     "iopub.status.busy": "2024-06-27T12:57:42.891881Z",
     "iopub.status.idle": "2024-06-27T12:57:42.899212Z",
     "shell.execute_reply": "2024-06-27T12:57:42.897649Z"
    },
    "papermill": {
     "duration": 0.024377,
     "end_time": "2024-06-27T12:57:42.902161",
     "exception": false,
     "start_time": "2024-06-27T12:57:42.877784",
     "status": "completed"
    },
    "tags": []
   },
   "outputs": [],
   "source": [
    "accuracies = {}\n",
    "aucs = {}\n",
    "\n",
    "test_pred_probs = {}\n",
    "oof_pred_probs = {}\n",
    "oof_preds = {}"
   ]
  },
  {
   "cell_type": "markdown",
   "id": "51161d21",
   "metadata": {
    "papermill": {
     "duration": 0.012091,
     "end_time": "2024-06-27T12:57:42.926704",
     "exception": false,
     "start_time": "2024-06-27T12:57:42.914613",
     "status": "completed"
    },
    "tags": []
   },
   "source": [
    "# Base Models"
   ]
  },
  {
   "cell_type": "code",
   "execution_count": 11,
   "id": "ec371d8c",
   "metadata": {
    "execution": {
     "iopub.execute_input": "2024-06-27T12:57:42.954063Z",
     "iopub.status.busy": "2024-06-27T12:57:42.953495Z",
     "iopub.status.idle": "2024-06-27T12:57:42.960755Z",
     "shell.execute_reply": "2024-06-27T12:57:42.959300Z"
    },
    "papermill": {
     "duration": 0.024448,
     "end_time": "2024-06-27T12:57:42.963675",
     "exception": false,
     "start_time": "2024-06-27T12:57:42.939227",
     "status": "completed"
    },
    "tags": []
   },
   "outputs": [],
   "source": [
    "oof_pred_probs['XGB'] = xgb_oof_pred_probs\n",
    "test_pred_probs['XGB'] = xgb_test_pred_probs\n",
    "accuracies['XGB'] = [0.836644, 0.837101, 0.835403, 0.833235, 0.825590]\n",
    "aucs['XGB'] = [0.930521, 0.932307, 0.929514, 0.929363, 0.924143]"
   ]
  },
  {
   "cell_type": "code",
   "execution_count": 12,
   "id": "59fe9b86",
   "metadata": {
    "execution": {
     "iopub.execute_input": "2024-06-27T12:57:42.991116Z",
     "iopub.status.busy": "2024-06-27T12:57:42.990603Z",
     "iopub.status.idle": "2024-06-27T12:57:42.997564Z",
     "shell.execute_reply": "2024-06-27T12:57:42.996201Z"
    },
    "papermill": {
     "duration": 0.024842,
     "end_time": "2024-06-27T12:57:43.000996",
     "exception": false,
     "start_time": "2024-06-27T12:57:42.976154",
     "status": "completed"
    },
    "tags": []
   },
   "outputs": [],
   "source": [
    "oof_pred_probs['CB'] = cb_oof_pred_probs\n",
    "test_pred_probs['CB'] = cb_test_pred_probs\n",
    "accuracies['CB'] = [0.836448, 0.836513, 0.834618, 0.833366, 0.826962]\n",
    "aucs['CB'] = [0.930153, 0.931919, 0.929599, 0.929235, 0.924700]"
   ]
  },
  {
   "cell_type": "code",
   "execution_count": 13,
   "id": "3f30ca66",
   "metadata": {
    "execution": {
     "iopub.execute_input": "2024-06-27T12:57:43.028528Z",
     "iopub.status.busy": "2024-06-27T12:57:43.028040Z",
     "iopub.status.idle": "2024-06-27T12:57:43.035336Z",
     "shell.execute_reply": "2024-06-27T12:57:43.033772Z"
    },
    "papermill": {
     "duration": 0.024262,
     "end_time": "2024-06-27T12:57:43.038251",
     "exception": false,
     "start_time": "2024-06-27T12:57:43.013989",
     "status": "completed"
    },
    "tags": []
   },
   "outputs": [],
   "source": [
    "oof_pred_probs['LGBM'] = lgbm_oof_pred_probs\n",
    "test_pred_probs['LGBM'] = lgbm_test_pred_probs\n",
    "accuracies['LGBM'] = [0.837036, 0.836317, 0.836579, 0.834804, 0.826635]\n",
    "aucs['LGBM'] = [0.930935, 0.932722, 0.930180, 0.930146, 0.924594]"
   ]
  },
  {
   "cell_type": "code",
   "execution_count": 14,
   "id": "bcdc515b",
   "metadata": {
    "execution": {
     "iopub.execute_input": "2024-06-27T12:57:43.065455Z",
     "iopub.status.busy": "2024-06-27T12:57:43.064958Z",
     "iopub.status.idle": "2024-06-27T12:57:43.072383Z",
     "shell.execute_reply": "2024-06-27T12:57:43.070820Z"
    },
    "papermill": {
     "duration": 0.024661,
     "end_time": "2024-06-27T12:57:43.075232",
     "exception": false,
     "start_time": "2024-06-27T12:57:43.050571",
     "status": "completed"
    },
    "tags": []
   },
   "outputs": [],
   "source": [
    "oof_pred_probs['HGB'] = hgb_oof_pred_probs\n",
    "test_pred_probs['HGB'] = hgb_test_pred_probs\n",
    "accuracies['HGB'] = [0.834814, 0.835010, 0.835403, 0.832517, 0.825132]\n",
    "aucs['HGB'] = [0.929074, 0.930172, 0.928571, 0.928758, 0.924181]"
   ]
  },
  {
   "cell_type": "code",
   "execution_count": 15,
   "id": "7bc23d8f",
   "metadata": {
    "execution": {
     "iopub.execute_input": "2024-06-27T12:57:43.102021Z",
     "iopub.status.busy": "2024-06-27T12:57:43.101492Z",
     "iopub.status.idle": "2024-06-27T12:57:43.109030Z",
     "shell.execute_reply": "2024-06-27T12:57:43.107533Z"
    },
    "papermill": {
     "duration": 0.024542,
     "end_time": "2024-06-27T12:57:43.112067",
     "exception": false,
     "start_time": "2024-06-27T12:57:43.087525",
     "status": "completed"
    },
    "tags": []
   },
   "outputs": [],
   "source": [
    "oof_pred_probs['GB'] = gb_oof_pred_probs\n",
    "test_pred_probs['GB'] = gb_test_pred_probs\n",
    "accuracies['GB'] = [0.836448, 0.835664, 0.835795, 0.833235, 0.823629]\n",
    "aucs['GB'] = [0.930418, 0.931982, 0.930053, 0.929623, 0.925156]"
   ]
  },
  {
   "cell_type": "code",
   "execution_count": 16,
   "id": "e834fd3a",
   "metadata": {
    "execution": {
     "iopub.execute_input": "2024-06-27T12:57:43.140049Z",
     "iopub.status.busy": "2024-06-27T12:57:43.139532Z",
     "iopub.status.idle": "2024-06-27T12:57:43.147406Z",
     "shell.execute_reply": "2024-06-27T12:57:43.145932Z"
    },
    "papermill": {
     "duration": 0.025627,
     "end_time": "2024-06-27T12:57:43.150660",
     "exception": false,
     "start_time": "2024-06-27T12:57:43.125033",
     "status": "completed"
    },
    "tags": []
   },
   "outputs": [],
   "source": [
    "oof_pred_probs['RF'] = rf_oof_pred_probs\n",
    "test_pred_probs['RF'] = rf_test_pred_probs\n",
    "accuracies['RF'] = [0.828738, 0.831939, 0.830306, 0.826766, 0.821865]\n",
    "aucs['RF'] = [0.923348, 0.925072, 0.921366, 0.923187, 0.917795]"
   ]
  },
  {
   "cell_type": "code",
   "execution_count": 17,
   "id": "6da19842",
   "metadata": {
    "execution": {
     "iopub.execute_input": "2024-06-27T12:57:43.181923Z",
     "iopub.status.busy": "2024-06-27T12:57:43.181389Z",
     "iopub.status.idle": "2024-06-27T12:57:43.190453Z",
     "shell.execute_reply": "2024-06-27T12:57:43.188892Z"
    },
    "papermill": {
     "duration": 0.02716,
     "end_time": "2024-06-27T12:57:43.193766",
     "exception": false,
     "start_time": "2024-06-27T12:57:43.166606",
     "status": "completed"
    },
    "tags": []
   },
   "outputs": [],
   "source": [
    "oof_pred_probs['AG'] = ag_oof_pred_probs\n",
    "test_pred_probs['AG'] = ag_test_pred_probs\n",
    "accuracies['AG'] = [0.835010, 0.835860, 0.835403, 0.833823, 0.826113]\n",
    "aucs['AG'] = [0.930343, 0.931906, 0.929550, 0.929920, 0.925213]"
   ]
  },
  {
   "cell_type": "code",
   "execution_count": 18,
   "id": "1ebe517c",
   "metadata": {
    "execution": {
     "iopub.execute_input": "2024-06-27T12:57:43.221455Z",
     "iopub.status.busy": "2024-06-27T12:57:43.220926Z",
     "iopub.status.idle": "2024-06-27T12:57:43.228567Z",
     "shell.execute_reply": "2024-06-27T12:57:43.226864Z"
    },
    "papermill": {
     "duration": 0.025538,
     "end_time": "2024-06-27T12:57:43.231629",
     "exception": false,
     "start_time": "2024-06-27T12:57:43.206091",
     "status": "completed"
    },
    "tags": []
   },
   "outputs": [],
   "source": [
    "oof_pred_probs['LAML'] = laml_oof_pred_probs\n",
    "test_pred_probs['LAML'] = laml_test_pred_probs\n",
    "accuracies['LAML'] = [0.835403, 0.835010, 0.833900, 0.832190, 0.826243]\n",
    "aucs['LAML'] = [0.931167, 0.932128, 0.929940, 0.929787, 0.924839]"
   ]
  },
  {
   "cell_type": "code",
   "execution_count": 19,
   "id": "aeea08a5",
   "metadata": {
    "execution": {
     "iopub.execute_input": "2024-06-27T12:57:43.259497Z",
     "iopub.status.busy": "2024-06-27T12:57:43.258048Z",
     "iopub.status.idle": "2024-06-27T12:57:43.266058Z",
     "shell.execute_reply": "2024-06-27T12:57:43.264570Z"
    },
    "papermill": {
     "duration": 0.0253,
     "end_time": "2024-06-27T12:57:43.269462",
     "exception": false,
     "start_time": "2024-06-27T12:57:43.244162",
     "status": "completed"
    },
    "tags": []
   },
   "outputs": [],
   "source": [
    "oof_pred_probs['FLAML'] = flaml_oof_pred_probs\n",
    "test_pred_probs['FLAML'] = flaml_test_pred_probs\n",
    "accuracies['FLAML'] = [0.835272, 0.835010, 0.835925, 0.834608, 0.823499]\n",
    "aucs['FLAML'] = [0.930438, 0.932135, 0.930229, 0.930079, 0.924522]"
   ]
  },
  {
   "cell_type": "markdown",
   "id": "fe432b01",
   "metadata": {
    "papermill": {
     "duration": 0.011903,
     "end_time": "2024-06-27T12:57:43.293646",
     "exception": false,
     "start_time": "2024-06-27T12:57:43.281743",
     "status": "completed"
    },
    "tags": []
   },
   "source": [
    "# Ensemble V1"
   ]
  },
  {
   "cell_type": "code",
   "execution_count": 20,
   "id": "34a97092",
   "metadata": {
    "_kg_hide-output": true,
    "execution": {
     "iopub.execute_input": "2024-06-27T12:57:43.320678Z",
     "iopub.status.busy": "2024-06-27T12:57:43.320129Z",
     "iopub.status.idle": "2024-06-27T12:57:43.337564Z",
     "shell.execute_reply": "2024-06-27T12:57:43.336204Z"
    },
    "papermill": {
     "duration": 0.034783,
     "end_time": "2024-06-27T12:57:43.340667",
     "exception": false,
     "start_time": "2024-06-27T12:57:43.305884",
     "status": "completed"
    },
    "scrolled": true,
    "tags": []
   },
   "outputs": [],
   "source": [
    "def objective(trial):\n",
    "    xgb_weight = trial.suggest_float('xgb_weight', 0.0, 1.0)\n",
    "    cb_weight = trial.suggest_float('cb_weight', 0.0, 1.0)\n",
    "    lgbm_weight = trial.suggest_float('lgbm_weight', 0.0, 1.0)\n",
    "    hgb_weight = trial.suggest_float('hgb_weight', 0.0, 1.0)\n",
    "    gb_weight = trial.suggest_float('gb_weight', 0.0, 1.0)\n",
    "    rf_weight = trial.suggest_float('rf_weight', 0.0, 1.0)\n",
    "    ag_weight = trial.suggest_float('ag_weight', 0.0, 1.0)\n",
    "    laml_weight = trial.suggest_float('laml_weight', 0.0, 1.0)\n",
    "    flaml_weight = trial.suggest_float('flaml_weight', 0.0, 1.0)\n",
    "\n",
    "    weights = [\n",
    "        xgb_weight,\n",
    "        cb_weight,\n",
    "        lgbm_weight,\n",
    "        hgb_weight,\n",
    "        gb_weight,\n",
    "        rf_weight,\n",
    "        ag_weight,\n",
    "        laml_weight,\n",
    "        flaml_weight\n",
    "    ]\n",
    "    weights /= np.sum(weights)\n",
    "    \n",
    "    pred_probs = np.zeros((X.shape[0], len(np.unique(y))))\n",
    "    for model, weight in zip(oof_pred_probs.keys(), weights):\n",
    "        pred_probs += oof_pred_probs[model] * weight\n",
    "\n",
    "    preds = np.argmax(pred_probs, axis=1)\n",
    "\n",
    "    return accuracy_score(y, preds)\n",
    "\n",
    "\n",
    "tune_ensemble_weights = False\n",
    "if tune_ensemble_weights:\n",
    "    sampler = TPESampler(seed=SEED, n_startup_trials=10)\n",
    "    study = optuna.create_study(direction='maximize', sampler=sampler)\n",
    "    study.optimize(objective, n_trials=1000, n_jobs=-1)\n",
    "    best_weights = study.best_params\n",
    "else:\n",
    "    best_weights = {\n",
    "        'xgb_weight': 0.32848164825087656, \n",
    "        'cb_weight': 0.7605000681431924, \n",
    "        'lgbm_weight': 0.8646798750739314, \n",
    "        'hgb_weight': 0.08715090241113871, \n",
    "        'gb_weight': 0.29442701953208905, \n",
    "        'rf_weight': 0.25206140981047864, \n",
    "        'ag_weight': 0.00045551712601656145, \n",
    "        'laml_weight': 0.01695972301717404, \n",
    "        'flaml_weight': 0.01781262444356089\n",
    "    }\n",
    "\n",
    "model_prefixes = ['xgb', 'cb', 'lgbm', 'hgb', 'gb', 'rf', 'ag', 'laml', 'flaml']\n",
    "best_weights = [best_weights[f'{model}_weight'] for model in model_prefixes]\n",
    "best_weights /= np.sum(best_weights)"
   ]
  },
  {
   "cell_type": "code",
   "execution_count": 21,
   "id": "dbf724f4",
   "metadata": {
    "execution": {
     "iopub.execute_input": "2024-06-27T12:57:43.369141Z",
     "iopub.status.busy": "2024-06-27T12:57:43.368205Z",
     "iopub.status.idle": "2024-06-27T12:57:43.499187Z",
     "shell.execute_reply": "2024-06-27T12:57:43.498004Z"
    },
    "papermill": {
     "duration": 0.148398,
     "end_time": "2024-06-27T12:57:43.502673",
     "exception": false,
     "start_time": "2024-06-27T12:57:43.354275",
     "status": "completed"
    },
    "tags": []
   },
   "outputs": [],
   "source": [
    "ensemble_oof_pred_probs = np.zeros((X.shape[0], len(np.unique(y))))\n",
    "for model, weight in zip(oof_pred_probs.keys(), best_weights):\n",
    "    ensemble_oof_pred_probs += oof_pred_probs[model] * weight\n",
    "\n",
    "ensemble_oof_preds = np.argmax(ensemble_oof_pred_probs, axis=1)\n",
    "ensemble_acc = accuracy_score(y, ensemble_oof_preds)\n",
    "ensemble_auc = roc_auc_score(y, ensemble_oof_pred_probs, multi_class='ovo')\n",
    "\n",
    "oof_pred_probs['Ensemble'] = ensemble_oof_pred_probs\n",
    "accuracies['Ensemble'] = [ensemble_acc] * N_FOLDS\n",
    "aucs['Ensemble'] = [ensemble_auc] * N_FOLDS"
   ]
  },
  {
   "cell_type": "code",
   "execution_count": 22,
   "id": "6f6fe641",
   "metadata": {
    "execution": {
     "iopub.execute_input": "2024-06-27T12:57:43.530483Z",
     "iopub.status.busy": "2024-06-27T12:57:43.529954Z",
     "iopub.status.idle": "2024-06-27T12:57:43.545861Z",
     "shell.execute_reply": "2024-06-27T12:57:43.544424Z"
    },
    "papermill": {
     "duration": 0.033594,
     "end_time": "2024-06-27T12:57:43.549287",
     "exception": false,
     "start_time": "2024-06-27T12:57:43.515693",
     "status": "completed"
    },
    "tags": []
   },
   "outputs": [],
   "source": [
    "final_pred_probs = np.zeros((test.shape[0], len(np.unique(y))))\n",
    "for model, weight in zip(test_pred_probs.keys(), best_weights):\n",
    "    final_pred_probs += test_pred_probs[model] * weight\n",
    "    \n",
    "ensemble_preds = np.argmax(final_pred_probs, axis=1)"
   ]
  },
  {
   "cell_type": "code",
   "execution_count": 23,
   "id": "0c5dcab3",
   "metadata": {
    "execution": {
     "iopub.execute_input": "2024-06-27T12:57:43.577343Z",
     "iopub.status.busy": "2024-06-27T12:57:43.575702Z",
     "iopub.status.idle": "2024-06-27T12:57:43.722989Z",
     "shell.execute_reply": "2024-06-27T12:57:43.721752Z"
    },
    "papermill": {
     "duration": 0.164886,
     "end_time": "2024-06-27T12:57:43.726372",
     "exception": false,
     "start_time": "2024-06-27T12:57:43.561486",
     "status": "completed"
    },
    "tags": []
   },
   "outputs": [
    {
     "data": {
      "text/html": [
       "<div>\n",
       "<style scoped>\n",
       "    .dataframe tbody tr th:only-of-type {\n",
       "        vertical-align: middle;\n",
       "    }\n",
       "\n",
       "    .dataframe tbody tr th {\n",
       "        vertical-align: top;\n",
       "    }\n",
       "\n",
       "    .dataframe thead th {\n",
       "        text-align: right;\n",
       "    }\n",
       "</style>\n",
       "<table border=\"1\" class=\"dataframe\">\n",
       "  <thead>\n",
       "    <tr style=\"text-align: right;\">\n",
       "      <th></th>\n",
       "      <th>id</th>\n",
       "      <th>Target</th>\n",
       "    </tr>\n",
       "  </thead>\n",
       "  <tbody>\n",
       "    <tr>\n",
       "      <th>0</th>\n",
       "      <td>76518</td>\n",
       "      <td>Dropout</td>\n",
       "    </tr>\n",
       "    <tr>\n",
       "      <th>1</th>\n",
       "      <td>76519</td>\n",
       "      <td>Graduate</td>\n",
       "    </tr>\n",
       "    <tr>\n",
       "      <th>2</th>\n",
       "      <td>76520</td>\n",
       "      <td>Graduate</td>\n",
       "    </tr>\n",
       "    <tr>\n",
       "      <th>3</th>\n",
       "      <td>76521</td>\n",
       "      <td>Graduate</td>\n",
       "    </tr>\n",
       "    <tr>\n",
       "      <th>4</th>\n",
       "      <td>76522</td>\n",
       "      <td>Enrolled</td>\n",
       "    </tr>\n",
       "  </tbody>\n",
       "</table>\n",
       "</div>"
      ],
      "text/plain": [
       "      id    Target\n",
       "0  76518   Dropout\n",
       "1  76519  Graduate\n",
       "2  76520  Graduate\n",
       "3  76521  Graduate\n",
       "4  76522  Enrolled"
      ]
     },
     "execution_count": 23,
     "metadata": {},
     "output_type": "execute_result"
    }
   ],
   "source": [
    "ensemble_sub = save_submission(final_pred_probs, ensemble_acc, ensemble_auc)\n",
    "ensemble_sub.head()"
   ]
  },
  {
   "cell_type": "markdown",
   "id": "f0085e4b",
   "metadata": {
    "papermill": {
     "duration": 0.012015,
     "end_time": "2024-06-27T12:57:43.751093",
     "exception": false,
     "start_time": "2024-06-27T12:57:43.739078",
     "status": "completed"
    },
    "tags": []
   },
   "source": [
    "# Stacking"
   ]
  },
  {
   "cell_type": "code",
   "execution_count": 24,
   "id": "8596dc57",
   "metadata": {
    "execution": {
     "iopub.execute_input": "2024-06-27T12:57:43.778148Z",
     "iopub.status.busy": "2024-06-27T12:57:43.777609Z",
     "iopub.status.idle": "2024-06-27T12:57:43.904322Z",
     "shell.execute_reply": "2024-06-27T12:57:43.902813Z"
    },
    "papermill": {
     "duration": 0.144359,
     "end_time": "2024-06-27T12:57:43.907778",
     "exception": false,
     "start_time": "2024-06-27T12:57:43.763419",
     "status": "completed"
    },
    "tags": []
   },
   "outputs": [],
   "source": [
    "# Reference: https://www.kaggle.com/competitions/playground-series-s4e6/discussion/509353#2851035\n",
    "class PassThroughClassifier(BaseEstimator, ClassifierMixin):\n",
    "    def __init__(self, idx_cols):\n",
    "        self.idx_cols = idx_cols\n",
    "        self.is_fitted_ = True\n",
    "\n",
    "    def fit(self, X, y=None):\n",
    "        return self\n",
    "\n",
    "    def predict_proba(self, X):\n",
    "        return check_array(X)[:, self.idx_cols]\n",
    "\n",
    "\n",
    "X_oof_pred_probs = np.log(pd.DataFrame(np.hstack(list(oof_pred_probs.values()))) + 1e-7)\n",
    "X_test_pred_probs = np.log(pd.DataFrame(np.hstack(list(test_pred_probs.values()))) + 1e-7)\n",
    "\n",
    "estimators = [\n",
    "    ('XGB', PassThroughClassifier(list(range(3)))),\n",
    "    ('CB', PassThroughClassifier(list(range(3, 6)))),\n",
    "    ('LGBM', PassThroughClassifier(list(range(6, 9)))),\n",
    "    ('HGB', PassThroughClassifier(list(range(9, 12)))),\n",
    "    ('GB', PassThroughClassifier(list(range(12, 15)))),\n",
    "    ('RF', PassThroughClassifier(list(range(15, 18)))),\n",
    "    ('AG', PassThroughClassifier(list(range(18, 21)))),\n",
    "    ('LAML', PassThroughClassifier(list(range(21, 24)))),\n",
    "    ('FLAML', PassThroughClassifier(list(range(24, 27))))\n",
    "]"
   ]
  },
  {
   "cell_type": "code",
   "execution_count": 25,
   "id": "ad57b338",
   "metadata": {
    "_kg_hide-output": true,
    "execution": {
     "iopub.execute_input": "2024-06-27T12:57:43.936173Z",
     "iopub.status.busy": "2024-06-27T12:57:43.935612Z",
     "iopub.status.idle": "2024-06-27T12:57:43.953427Z",
     "shell.execute_reply": "2024-06-27T12:57:43.951909Z"
    },
    "papermill": {
     "duration": 0.035346,
     "end_time": "2024-06-27T12:57:43.956289",
     "exception": false,
     "start_time": "2024-06-27T12:57:43.920943",
     "status": "completed"
    },
    "tags": []
   },
   "outputs": [],
   "source": [
    "def objective(trial):\n",
    "    solver_penalty_combinations = [\n",
    "        ('lbfgs', 'l2', None),\n",
    "        ('liblinear', 'l1', None),\n",
    "        ('liblinear', 'l2', None),\n",
    "        ('newton-cg', 'l2', None),\n",
    "        ('saga', 'l1', None),\n",
    "        ('saga', 'l2', None),\n",
    "        ('saga', 'elasticnet', 0),\n",
    "        ('sag', 'l2', None)\n",
    "    ]\n",
    "\n",
    "    chosen_combination = trial.suggest_categorical(\n",
    "        'solver_penalty', solver_penalty_combinations)\n",
    "    solver, penalty, l1_ratio_initial = chosen_combination\n",
    "\n",
    "    if penalty == 'elasticnet':\n",
    "        l1_ratio = trial.suggest_float('l1_ratio', 0, 1)\n",
    "    else:\n",
    "        l1_ratio = l1_ratio_initial\n",
    "\n",
    "    lr_params = {\n",
    "        'penalty': penalty,\n",
    "        'C': trial.suggest_float('C', 1e-7, 1e5, log=True),\n",
    "        'tol': trial.suggest_float('tol', 1e-7, 1e-1, log=True),\n",
    "        'random_state': SEED,\n",
    "        'n_jobs': -1,\n",
    "        'max_iter': trial.suggest_int('max_iter', 100, 5000),\n",
    "        'solver': solver,\n",
    "        'l1_ratio': l1_ratio,\n",
    "        'class_weight': trial.suggest_categorical('class_weight', ['balanced', None]),\n",
    "        'multi_class': trial.suggest_categorical('multi_class', ['ovr', 'auto'])\n",
    "    }\n",
    "\n",
    "    final_estimator = LogisticRegression(**lr_params)\n",
    "    stacking_model = StackingClassifier(\n",
    "        estimators, cv='prefit', n_jobs=-1, final_estimator=final_estimator)\n",
    "    stacking_trainer = Trainer(stacking_model)\n",
    "    _, _, stacking_accs, _ = stacking_trainer.fit(X_oof_pred_probs, y)\n",
    "    return np.mean(stacking_accs)\n",
    "\n",
    "\n",
    "tune_final_estimator = False\n",
    "if tune_final_estimator:\n",
    "    sampler = TPESampler(seed=SEED, n_startup_trials=10)\n",
    "    study = optuna.create_study(direction='maximize', sampler=sampler)\n",
    "    study.optimize(objective, n_trials=10_000, catch=(ValueError,), n_jobs=-1)\n",
    "    lr_params = study.best_params\n",
    "    lr_params['random_state'] = SEED\n",
    "    lr_params['n_jobs'] = -1\n",
    "    print(study.best_params)\n",
    "else:\n",
    "    lr_params = {\n",
    "        'C': 0.007155907818419665, \n",
    "        'tol': 0.0024536986939328303, \n",
    "        'max_iter': 186,\n",
    "        'penalty': 'l1',\n",
    "        'solver': 'liblinear',\n",
    "        'l1_ratio': None,\n",
    "        'random_state': SEED,\n",
    "        'n_jobs': -1\n",
    "    }"
   ]
  },
  {
   "cell_type": "code",
   "execution_count": 26,
   "id": "e31633aa",
   "metadata": {
    "execution": {
     "iopub.execute_input": "2024-06-27T12:57:43.985144Z",
     "iopub.status.busy": "2024-06-27T12:57:43.984042Z",
     "iopub.status.idle": "2024-06-27T12:57:54.057065Z",
     "shell.execute_reply": "2024-06-27T12:57:54.055079Z"
    },
    "papermill": {
     "duration": 10.093416,
     "end_time": "2024-06-27T12:57:54.062888",
     "exception": false,
     "start_time": "2024-06-27T12:57:43.969472",
     "status": "completed"
    },
    "tags": []
   },
   "outputs": [],
   "source": [
    "final_estimator = LogisticRegression(**lr_params)\n",
    "stacking_model = StackingClassifier(estimators, cv='prefit', n_jobs=-1, final_estimator=final_estimator)\n",
    "stacking_trainer = Trainer(stacking_model)\n",
    "stacking_oof_pred_probs, stacking_oof_preds, stacking_accs, stacking_aucs = stacking_trainer.fit(X_oof_pred_probs, y)\n",
    "oof_pred_probs['Stacking'] = stacking_oof_pred_probs\n",
    "test_pred_probs['Stacking'] = stacking_trainer.fit_predict_proba(X_oof_pred_probs, y, X_test_pred_probs)\n",
    "accuracies['Stacking'] = stacking_accs\n",
    "aucs['Stacking'] = stacking_aucs"
   ]
  },
  {
   "cell_type": "code",
   "execution_count": 27,
   "id": "c7e129ad",
   "metadata": {
    "execution": {
     "iopub.execute_input": "2024-06-27T12:57:54.119569Z",
     "iopub.status.busy": "2024-06-27T12:57:54.118728Z",
     "iopub.status.idle": "2024-06-27T12:57:54.266838Z",
     "shell.execute_reply": "2024-06-27T12:57:54.265552Z"
    },
    "papermill": {
     "duration": 0.180804,
     "end_time": "2024-06-27T12:57:54.270025",
     "exception": false,
     "start_time": "2024-06-27T12:57:54.089221",
     "status": "completed"
    },
    "tags": []
   },
   "outputs": [
    {
     "data": {
      "text/html": [
       "<div>\n",
       "<style scoped>\n",
       "    .dataframe tbody tr th:only-of-type {\n",
       "        vertical-align: middle;\n",
       "    }\n",
       "\n",
       "    .dataframe tbody tr th {\n",
       "        vertical-align: top;\n",
       "    }\n",
       "\n",
       "    .dataframe thead th {\n",
       "        text-align: right;\n",
       "    }\n",
       "</style>\n",
       "<table border=\"1\" class=\"dataframe\">\n",
       "  <thead>\n",
       "    <tr style=\"text-align: right;\">\n",
       "      <th></th>\n",
       "      <th>id</th>\n",
       "      <th>Target</th>\n",
       "    </tr>\n",
       "  </thead>\n",
       "  <tbody>\n",
       "    <tr>\n",
       "      <th>0</th>\n",
       "      <td>76518</td>\n",
       "      <td>Dropout</td>\n",
       "    </tr>\n",
       "    <tr>\n",
       "      <th>1</th>\n",
       "      <td>76519</td>\n",
       "      <td>Graduate</td>\n",
       "    </tr>\n",
       "    <tr>\n",
       "      <th>2</th>\n",
       "      <td>76520</td>\n",
       "      <td>Graduate</td>\n",
       "    </tr>\n",
       "    <tr>\n",
       "      <th>3</th>\n",
       "      <td>76521</td>\n",
       "      <td>Graduate</td>\n",
       "    </tr>\n",
       "    <tr>\n",
       "      <th>4</th>\n",
       "      <td>76522</td>\n",
       "      <td>Enrolled</td>\n",
       "    </tr>\n",
       "  </tbody>\n",
       "</table>\n",
       "</div>"
      ],
      "text/plain": [
       "      id    Target\n",
       "0  76518   Dropout\n",
       "1  76519  Graduate\n",
       "2  76520  Graduate\n",
       "3  76521  Graduate\n",
       "4  76522  Enrolled"
      ]
     },
     "execution_count": 27,
     "metadata": {},
     "output_type": "execute_result"
    }
   ],
   "source": [
    "stacking_sub = save_submission(test_pred_probs['Stacking'], np.mean(accuracies['Stacking']), np.mean(aucs['Stacking']))\n",
    "stacking_sub.head()"
   ]
  },
  {
   "cell_type": "markdown",
   "id": "d418e6a6",
   "metadata": {
    "papermill": {
     "duration": 0.013074,
     "end_time": "2024-06-27T12:57:54.295952",
     "exception": false,
     "start_time": "2024-06-27T12:57:54.282878",
     "status": "completed"
    },
    "tags": []
   },
   "source": [
    "# Visualizing The Results"
   ]
  },
  {
   "cell_type": "code",
   "execution_count": 28,
   "id": "35465201",
   "metadata": {
    "execution": {
     "iopub.execute_input": "2024-06-27T12:57:54.323531Z",
     "iopub.status.busy": "2024-06-27T12:57:54.323022Z",
     "iopub.status.idle": "2024-06-27T12:57:54.330848Z",
     "shell.execute_reply": "2024-06-27T12:57:54.329373Z"
    },
    "papermill": {
     "duration": 0.024752,
     "end_time": "2024-06-27T12:57:54.333351",
     "exception": false,
     "start_time": "2024-06-27T12:57:54.308599",
     "status": "completed"
    },
    "tags": []
   },
   "outputs": [],
   "source": [
    "accuracies = pd.DataFrame(accuracies)\n",
    "aucs = pd.DataFrame(aucs)"
   ]
  },
  {
   "cell_type": "code",
   "execution_count": 29,
   "id": "95233553",
   "metadata": {
    "execution": {
     "iopub.execute_input": "2024-06-27T12:57:54.361884Z",
     "iopub.status.busy": "2024-06-27T12:57:54.361313Z",
     "iopub.status.idle": "2024-06-27T12:57:55.600875Z",
     "shell.execute_reply": "2024-06-27T12:57:55.599436Z"
    },
    "papermill": {
     "duration": 1.256864,
     "end_time": "2024-06-27T12:57:55.603741",
     "exception": false,
     "start_time": "2024-06-27T12:57:54.346877",
     "status": "completed"
    },
    "tags": []
   },
   "outputs": [
    {
     "data": {
      "image/png": "[encoded data removed]",
      "text/plain": [
       "<Figure size 1500x500 with 2 Axes>"
      ]
     },
     "metadata": {},
     "output_type": "display_data"
    }
   ],
   "source": [
    "mean_accs = accuracies.mean().sort_values(ascending=False)\n",
    "order = accuracies.mean().sort_values(ascending=False).index.tolist()\n",
    "\n",
    "min_acc = mean_accs.min()\n",
    "max_acc = mean_accs.max()\n",
    "padding = (max_acc - min_acc) * 0.1\n",
    "lower_limit = min_acc - padding\n",
    "upper_limit = max_acc + padding\n",
    "\n",
    "fig, axs = plt.subplots(1, 2, figsize=(15, 5))\n",
    "\n",
    "sns.boxplot(data=accuracies, order=order, ax=axs[0], orient='h', color='#651FFF')\n",
    "axs[0].set_title('Fold Accuracy')\n",
    "axs[0].set_xlabel('')\n",
    "axs[0].set_ylabel('')\n",
    "\n",
    "barplot = sns.barplot(x=mean_accs.values, y=mean_accs.index, ax=axs[1], color='#651FFF')\n",
    "axs[1].set_title('Average Accuracy')\n",
    "axs[1].set_xlabel('')\n",
    "axs[1].set_xlim(left=lower_limit, right=upper_limit)\n",
    "axs[1].set_ylabel('')\n",
    "\n",
    "for i, score in enumerate(mean_accs.values):\n",
    "    barplot.text(score, i, round(score, 4), va='center')\n",
    "\n",
    "plt.tight_layout()\n",
    "plt.show()"
   ]
  },
  {
   "cell_type": "code",
   "execution_count": 30,
   "id": "044192db",
   "metadata": {
    "execution": {
     "iopub.execute_input": "2024-06-27T12:57:55.634204Z",
     "iopub.status.busy": "2024-06-27T12:57:55.632849Z",
     "iopub.status.idle": "2024-06-27T12:57:56.774555Z",
     "shell.execute_reply": "2024-06-27T12:57:56.773186Z"
    },
    "papermill": {
     "duration": 1.15993,
     "end_time": "2024-06-27T12:57:56.777501",
     "exception": false,
     "start_time": "2024-06-27T12:57:55.617571",
     "status": "completed"
    },
    "tags": []
   },
   "outputs": [
    {
     "data": {
      "image/png": "[encoded data removed]",
      "text/plain": [
       "<Figure size 1500x500 with 2 Axes>"
      ]
     },
     "metadata": {},
     "output_type": "display_data"
    }
   ],
   "source": [
    "mean_aucs = aucs.mean().sort_values(ascending=False)\n",
    "order = aucs.mean().sort_values(ascending=False).index.tolist()\n",
    "\n",
    "min_auc = mean_aucs.min()\n",
    "max_auc = mean_aucs.max()\n",
    "padding = (max_auc - min_auc) * 0.1\n",
    "lower_limit = min_auc - padding\n",
    "upper_limit = max_auc + padding\n",
    "\n",
    "fig, axs = plt.subplots(1, 2, figsize=(15, 5))\n",
    "\n",
    "sns.boxplot(data=accuracies, order=order, ax=axs[0], orient='h', color='#651FFF')\n",
    "axs[0].set_title('Fold AUC')\n",
    "axs[0].set_xlabel('')\n",
    "axs[0].set_ylabel('')\n",
    "\n",
    "barplot = sns.barplot(x=mean_aucs.values, y=mean_aucs.index, ax=axs[1], color='#651FFF')\n",
    "axs[1].set_title('Average AUC')\n",
    "axs[1].set_xlabel('')\n",
    "axs[1].set_xlim(left=lower_limit, right=upper_limit)\n",
    "axs[1].set_ylabel('')\n",
    "\n",
    "for i, score in enumerate(mean_aucs.values):\n",
    "    barplot.text(score, i, round(score, 4), va='center')\n",
    "\n",
    "plt.tight_layout()\n",
    "plt.show()"
   ]
  }
 ],
 "metadata": {
  "kaggle": {
   "accelerator": "none",
   "dataSources": [
    {
     "databundleVersionId": 8710574,
     "sourceId": 73290,
     "sourceType": "competition"
    },
    {
     "datasetId": 5279468,
     "sourceId": 8785308,
     "sourceType": "datasetVersion"
    }
   ],
   "dockerImageVersionId": 30732,
   "isGpuEnabled": false,
   "isInternetEnabled": true,
   "language": "python",
   "sourceType": "notebook"
  },
  "kernelspec": {
   "display_name": "Python 3",
   "language": "python",
   "name": "python3"
  },
  "language_info": {
   "codemirror_mode": {
    "name": "ipython",
    "version": 3
   },
   "file_extension": ".py",
   "mimetype": "text/x-python",
   "name": "python",
   "nbconvert_exporter": "python",
   "pygments_lexer": "ipython3",
   "version": "3.10.13"
  },
  "papermill": {
   "default_parameters": {},
   "duration": 24.853465,
   "end_time": "2024-06-27T12:57:57.819918",
   "environment_variables": {},
   "exception": null,
   "input_path": "__notebook__.ipynb",
   "output_path": "__notebook__.ipynb",
   "parameters": {},
   "start_time": "2024-06-27T12:57:32.966453",
   "version": "2.5.0"
  }
 },
 "nbformat": 4,
 "nbformat_minor": 5
}
