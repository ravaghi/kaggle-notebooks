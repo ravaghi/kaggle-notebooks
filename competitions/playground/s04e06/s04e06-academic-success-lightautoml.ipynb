{
 "cells": [
  {
   "cell_type": "code",
   "execution_count": 1,
   "id": "d6809e02",
   "metadata": {
    "_cell_guid": "b1076dfc-b9ad-4769-8c92-a6c4dae69d19",
    "_kg_hide-output": true,
    "_uuid": "8f2839f25d086af736a60e9eeb907d3b93b6e0e5",
    "execution": {
     "iopub.execute_input": "2024-06-01T09:43:31.349913Z",
     "iopub.status.busy": "2024-06-01T09:43:31.349478Z",
     "iopub.status.idle": "2024-06-01T09:46:17.473452Z",
     "shell.execute_reply": "2024-06-01T09:46:17.471636Z"
    },
    "papermill": {
     "duration": 166.13417,
     "end_time": "2024-06-01T09:46:17.476480",
     "exception": false,
     "start_time": "2024-06-01T09:43:31.342310",
     "status": "completed"
    },
    "tags": []
   },
   "outputs": [
    {
     "name": "stdout",
     "output_type": "stream",
     "text": [
      "\u001b[33mWARNING: Error parsing requirements for aiohttp: [Errno 2] No such file or directory: '/opt/conda/lib/python3.10/site-packages/aiohttp-3.9.1.dist-info/METADATA'\u001b[0m\u001b[33m\r\n",
      "\u001b[0m\u001b[31mERROR: pip's dependency resolver does not currently take into account all the packages that are installed. This behaviour is the source of the following dependency conflicts.\r\n",
      "datasets 2.19.1 requires aiohttp, which is not installed.\r\n",
      "tensorflow-decision-forests 1.8.1 requires wurlitzer, which is not installed.\r\n",
      "beatrix-jupyterlab 2023.128.151533 requires jupyterlab~=3.6.0, but you have jupyterlab 4.2.1 which is incompatible.\r\n",
      "dask-expr 1.1.1 requires pandas>=2, but you have pandas 1.5.3 which is incompatible.\r\n",
      "featuretools 1.31.0 requires pandas>=2.0.0, but you have pandas 1.5.3 which is incompatible.\r\n",
      "fitter 1.7.0 requires joblib<2.0.0,>=1.3.1, but you have joblib 1.2.0 which is incompatible.\r\n",
      "libpysal 4.9.2 requires packaging>=22, but you have packaging 21.3 which is incompatible.\r\n",
      "libpysal 4.9.2 requires shapely>=2.0.1, but you have shapely 1.8.5.post1 which is incompatible.\r\n",
      "mizani 0.11.4 requires pandas>=2.1.0, but you have pandas 1.5.3 which is incompatible.\r\n",
      "momepy 0.7.0 requires shapely>=2, but you have shapely 1.8.5.post1 which is incompatible.\r\n",
      "osmnx 1.9.3 requires shapely>=2.0, but you have shapely 1.8.5.post1 which is incompatible.\r\n",
      "plotnine 0.13.6 requires pandas<3.0.0,>=2.1.0, but you have pandas 1.5.3 which is incompatible.\r\n",
      "pyldavis 3.4.1 requires pandas>=2.0.0, but you have pandas 1.5.3 which is incompatible.\r\n",
      "spopt 0.6.0 requires shapely>=2.0.1, but you have shapely 1.8.5.post1 which is incompatible.\r\n",
      "torchaudio 2.1.2+cpu requires torch==2.1.2, but you have torch 2.0.0 which is incompatible.\r\n",
      "torchtext 0.16.2+cpu requires torch==2.1.2, but you have torch 2.0.0 which is incompatible.\r\n",
      "torchvision 0.16.2+cpu requires torch==2.1.2, but you have torch 2.0.0 which is incompatible.\r\n",
      "woodwork 0.31.0 requires pandas>=2.0.0, but you have pandas 1.5.3 which is incompatible.\r\n",
      "xarray 2024.5.0 requires packaging>=23.1, but you have packaging 21.3 which is incompatible.\r\n",
      "xarray 2024.5.0 requires pandas>=2.0, but you have pandas 1.5.3 which is incompatible.\r\n",
      "ydata-profiling 4.6.4 requires numpy<1.26,>=1.16.0, but you have numpy 1.26.4 which is incompatible.\u001b[0m\u001b[31m\r\n",
      "\u001b[0m"
     ]
    }
   ],
   "source": [
    "!pip install -U -q lightautoml"
   ]
  },
  {
   "cell_type": "markdown",
   "id": "d9c6dd38",
   "metadata": {
    "papermill": {
     "duration": 0.005262,
     "end_time": "2024-06-01T09:46:17.488045",
     "exception": false,
     "start_time": "2024-06-01T09:46:17.482783",
     "status": "completed"
    },
    "tags": []
   },
   "source": [
    "# Configs and Imports"
   ]
  },
  {
   "cell_type": "code",
   "execution_count": 2,
   "id": "9a3c4ab7",
   "metadata": {
    "execution": {
     "iopub.execute_input": "2024-06-01T09:46:17.502136Z",
     "iopub.status.busy": "2024-06-01T09:46:17.500828Z",
     "iopub.status.idle": "2024-06-01T09:47:00.028583Z",
     "shell.execute_reply": "2024-06-01T09:47:00.027321Z"
    },
    "papermill": {
     "duration": 42.538222,
     "end_time": "2024-06-01T09:47:00.031735",
     "exception": false,
     "start_time": "2024-06-01T09:46:17.493513",
     "status": "completed"
    },
    "tags": []
   },
   "outputs": [],
   "source": [
    "from lightautoml.automl.presets.tabular_presets import TabularAutoML\n",
    "from lightautoml.tasks import Task\n",
    "import pandas as pd\n",
    "import numpy as np\n",
    "import torch\n",
    "import pickle"
   ]
  },
  {
   "cell_type": "code",
   "execution_count": 3,
   "id": "691fd854",
   "metadata": {
    "execution": {
     "iopub.execute_input": "2024-06-01T09:47:00.045050Z",
     "iopub.status.busy": "2024-06-01T09:47:00.044099Z",
     "iopub.status.idle": "2024-06-01T09:47:00.050203Z",
     "shell.execute_reply": "2024-06-01T09:47:00.049127Z"
    },
    "papermill": {
     "duration": 0.015286,
     "end_time": "2024-06-01T09:47:00.052685",
     "exception": false,
     "start_time": "2024-06-01T09:47:00.037399",
     "status": "completed"
    },
    "tags": []
   },
   "outputs": [],
   "source": [
    "TARGET_NAME = 'Target'\n",
    "TEST_SIZE = 0.1\n",
    "N_THREADS = 4\n",
    "TIMEOUT = 3600 * 10\n",
    "N_FOLDS = 5\n",
    "SEED = 27"
   ]
  },
  {
   "cell_type": "code",
   "execution_count": 4,
   "id": "c88be261",
   "metadata": {
    "execution": {
     "iopub.execute_input": "2024-06-01T09:47:00.065375Z",
     "iopub.status.busy": "2024-06-01T09:47:00.064947Z",
     "iopub.status.idle": "2024-06-01T09:47:00.070459Z",
     "shell.execute_reply": "2024-06-01T09:47:00.069537Z"
    },
    "papermill": {
     "duration": 0.014457,
     "end_time": "2024-06-01T09:47:00.072689",
     "exception": false,
     "start_time": "2024-06-01T09:47:00.058232",
     "status": "completed"
    },
    "tags": []
   },
   "outputs": [],
   "source": [
    "np.random.seed(SEED)\n",
    "torch.set_num_threads(N_THREADS)"
   ]
  },
  {
   "cell_type": "markdown",
   "id": "6db5f70c",
   "metadata": {
    "papermill": {
     "duration": 0.005841,
     "end_time": "2024-06-01T09:47:00.084920",
     "exception": false,
     "start_time": "2024-06-01T09:47:00.079079",
     "status": "completed"
    },
    "tags": []
   },
   "source": [
    "# Loading and Preprocessing the Datasets"
   ]
  },
  {
   "cell_type": "code",
   "execution_count": 5,
   "id": "1c779b34",
   "metadata": {
    "execution": {
     "iopub.execute_input": "2024-06-01T09:47:00.099327Z",
     "iopub.status.busy": "2024-06-01T09:47:00.098418Z",
     "iopub.status.idle": "2024-06-01T09:47:00.769529Z",
     "shell.execute_reply": "2024-06-01T09:47:00.768258Z"
    },
    "papermill": {
     "duration": 0.681412,
     "end_time": "2024-06-01T09:47:00.772492",
     "exception": false,
     "start_time": "2024-06-01T09:47:00.091080",
     "status": "completed"
    },
    "tags": []
   },
   "outputs": [
    {
     "data": {
      "text/plain": [
       "((76518, 37), (51012, 36))"
      ]
     },
     "execution_count": 5,
     "metadata": {},
     "output_type": "execute_result"
    }
   ],
   "source": [
    "train = pd.read_csv('/kaggle/input/playground-series-s4e6/train.csv', index_col='id')\n",
    "test = pd.read_csv('/kaggle/input/playground-series-s4e6/test.csv', index_col='id')\n",
    "\n",
    "train.shape, test.shape"
   ]
  },
  {
   "cell_type": "code",
   "execution_count": 6,
   "id": "585049a2",
   "metadata": {
    "execution": {
     "iopub.execute_input": "2024-06-01T09:47:00.786256Z",
     "iopub.status.busy": "2024-06-01T09:47:00.785869Z",
     "iopub.status.idle": "2024-06-01T09:47:00.839468Z",
     "shell.execute_reply": "2024-06-01T09:47:00.838036Z"
    },
    "papermill": {
     "duration": 0.063892,
     "end_time": "2024-06-01T09:47:00.842204",
     "exception": false,
     "start_time": "2024-06-01T09:47:00.778312",
     "status": "completed"
    },
    "tags": []
   },
   "outputs": [
    {
     "data": {
      "text/plain": [
       "(80942, 37)"
      ]
     },
     "execution_count": 6,
     "metadata": {},
     "output_type": "execute_result"
    }
   ],
   "source": [
    "original = pd.read_csv('/kaggle/input/students-dropout-and-academic-success/data.csv', delimiter=';')\n",
    "original = original.rename(columns={'Daytime/evening attendance\\t': 'Daytime/evening attendance'})\n",
    "\n",
    "train = pd.concat([train, original], axis=0, ignore_index=True)\n",
    "\n",
    "train.shape"
   ]
  },
  {
   "cell_type": "markdown",
   "id": "8e45690a",
   "metadata": {
    "papermill": {
     "duration": 0.005576,
     "end_time": "2024-06-01T09:47:00.853879",
     "exception": false,
     "start_time": "2024-06-01T09:47:00.848303",
     "status": "completed"
    },
    "tags": []
   },
   "source": [
    "# Training"
   ]
  },
  {
   "cell_type": "code",
   "execution_count": 7,
   "id": "04e3525c",
   "metadata": {
    "execution": {
     "iopub.execute_input": "2024-06-01T09:47:00.867378Z",
     "iopub.status.busy": "2024-06-01T09:47:00.866979Z",
     "iopub.status.idle": "2024-06-01T09:47:00.872509Z",
     "shell.execute_reply": "2024-06-01T09:47:00.871315Z"
    },
    "papermill": {
     "duration": 0.015427,
     "end_time": "2024-06-01T09:47:00.875121",
     "exception": false,
     "start_time": "2024-06-01T09:47:00.859694",
     "status": "completed"
    },
    "tags": []
   },
   "outputs": [],
   "source": [
    "task = Task(\n",
    "    name='multiclass',\n",
    "    greater_is_better=True\n",
    ")"
   ]
  },
  {
   "cell_type": "code",
   "execution_count": 8,
   "id": "8b472719",
   "metadata": {
    "_kg_hide-output": true,
    "execution": {
     "iopub.execute_input": "2024-06-01T09:47:00.889064Z",
     "iopub.status.busy": "2024-06-01T09:47:00.888622Z",
     "iopub.status.idle": "2024-06-01T12:18:48.253481Z",
     "shell.execute_reply": "2024-06-01T12:18:48.251894Z"
    },
    "papermill": {
     "duration": 9107.375397,
     "end_time": "2024-06-01T12:18:48.256667",
     "exception": false,
     "start_time": "2024-06-01T09:47:00.881270",
     "status": "completed"
    },
    "tags": []
   },
   "outputs": [
    {
     "name": "stdout",
     "output_type": "stream",
     "text": [
      "[09:47:00] Stdout logging level is INFO.\n",
      "[09:47:00] Copying TaskTimer may affect the parent PipelineTimer, so copy will create new unlimited TaskTimer\n",
      "[09:47:00] Task: multiclass\n",
      "\n",
      "[09:47:00] Start automl preset with listed constraints:\n",
      "[09:47:00] - time: 36000.00 seconds\n",
      "[09:47:00] - CPU: 4 cores\n",
      "[09:47:00] - memory: 16 GB\n",
      "\n",
      "[09:47:00] \u001b[1mTrain data shape: (80942, 37)\u001b[0m\n",
      "\n",
      "[09:47:12] Layer \u001b[1m1\u001b[0m train process start. Time left 35988.11 secs\n",
      "[09:47:19] Start fitting \u001b[1mLvl_0_Pipe_0_Mod_0_LinearL2\u001b[0m ...\n",
      "[09:47:36] Fitting \u001b[1mLvl_0_Pipe_0_Mod_0_LinearL2\u001b[0m finished. score = \u001b[1m0.5364926138276152\u001b[0m\n",
      "[09:47:36] \u001b[1mLvl_0_Pipe_0_Mod_0_LinearL2\u001b[0m fitting and predicting completed\n",
      "[09:47:36] Time left 35964.23 secs\n",
      "\n",
      "[09:47:58] \u001b[1mSelector_LightGBM\u001b[0m fitting and predicting completed\n",
      "[09:48:07] Start fitting \u001b[1mLvl_0_Pipe_1_Mod_0_LightGBM\u001b[0m ...\n",
      "[09:52:26] Fitting \u001b[1mLvl_0_Pipe_1_Mod_0_LightGBM\u001b[0m finished. score = \u001b[1m0.4365162506892628\u001b[0m\n",
      "[09:52:26] \u001b[1mLvl_0_Pipe_1_Mod_0_LightGBM\u001b[0m fitting and predicting completed\n",
      "[09:52:26] Start hyperparameters optimization for \u001b[1mLvl_0_Pipe_1_Mod_1_Tuned_LightGBM\u001b[0m ... Time budget is 3600.00 secs\n",
      "[10:53:06] Hyperparameters optimization for \u001b[1mLvl_0_Pipe_1_Mod_1_Tuned_LightGBM\u001b[0m completed\n",
      "[10:53:06] Start fitting \u001b[1mLvl_0_Pipe_1_Mod_1_Tuned_LightGBM\u001b[0m ...\n",
      "[10:56:19] Fitting \u001b[1mLvl_0_Pipe_1_Mod_1_Tuned_LightGBM\u001b[0m finished. score = \u001b[1m0.44625927469313864\u001b[0m\n",
      "[10:56:19] \u001b[1mLvl_0_Pipe_1_Mod_1_Tuned_LightGBM\u001b[0m fitting and predicting completed\n",
      "[10:56:19] Start fitting \u001b[1mLvl_0_Pipe_1_Mod_2_CatBoost\u001b[0m ...\n",
      "[11:06:20] Fitting \u001b[1mLvl_0_Pipe_1_Mod_2_CatBoost\u001b[0m finished. score = \u001b[1m0.4393377913060919\u001b[0m\n",
      "[11:06:20] \u001b[1mLvl_0_Pipe_1_Mod_2_CatBoost\u001b[0m fitting and predicting completed\n",
      "[11:06:20] Start hyperparameters optimization for \u001b[1mLvl_0_Pipe_1_Mod_3_Tuned_CatBoost\u001b[0m ... Time budget is 3600.00 secs\n",
      "[12:06:31] Hyperparameters optimization for \u001b[1mLvl_0_Pipe_1_Mod_3_Tuned_CatBoost\u001b[0m completed\n",
      "[12:06:31] Start fitting \u001b[1mLvl_0_Pipe_1_Mod_3_Tuned_CatBoost\u001b[0m ...\n",
      "[12:15:46] Fitting \u001b[1mLvl_0_Pipe_1_Mod_3_Tuned_CatBoost\u001b[0m finished. score = \u001b[1m0.4412909404001816\u001b[0m\n",
      "[12:15:46] \u001b[1mLvl_0_Pipe_1_Mod_3_Tuned_CatBoost\u001b[0m fitting and predicting completed\n",
      "[12:15:46] Time left 27074.77 secs\n",
      "\n",
      "[12:15:46] \u001b[1mLayer 1 training completed.\u001b[0m\n",
      "\n",
      "[12:15:46] Layer \u001b[1m2\u001b[0m train process start. Time left 27074.73 secs\n",
      "[12:15:53] Start fitting \u001b[1mLvl_1_Pipe_0_Mod_0_LinearL2\u001b[0m ...\n",
      "[12:16:10] Fitting \u001b[1mLvl_1_Pipe_0_Mod_0_LinearL2\u001b[0m finished. score = \u001b[1m0.49178212456742726\u001b[0m\n",
      "[12:16:10] \u001b[1mLvl_1_Pipe_0_Mod_0_LinearL2\u001b[0m fitting and predicting completed\n",
      "[12:16:10] Time left 27050.40 secs\n",
      "\n",
      "[12:16:18] Start fitting \u001b[1mLvl_1_Pipe_1_Mod_0_LightGBM\u001b[0m ...\n",
      "[12:18:47] Fitting \u001b[1mLvl_1_Pipe_1_Mod_0_LightGBM\u001b[0m finished. score = \u001b[1m0.441659848348728\u001b[0m\n",
      "[12:18:47] \u001b[1mLvl_1_Pipe_1_Mod_0_LightGBM\u001b[0m fitting and predicting completed\n",
      "[12:18:47] Time left 26893.47 secs\n",
      "\n",
      "[12:18:47] \u001b[1mLayer 2 training completed.\u001b[0m\n",
      "\n",
      "[12:18:47] Blending: optimization starts with equal weights and score \u001b[1m0.4569531790760147\u001b[0m\n",
      "[12:18:47] Blending: iteration \u001b[1m0\u001b[0m: score = \u001b[1m0.49178212456742726\u001b[0m, weights = \u001b[1m[1. 0.]\u001b[0m\n",
      "[12:18:48] Blending: iteration \u001b[1m1\u001b[0m: score = \u001b[1m0.49178212456742726\u001b[0m, weights = \u001b[1m[1. 0.]\u001b[0m\n",
      "[12:18:48] Blending: no score update. Terminated\n",
      "\n",
      "[12:18:48] \u001b[1mAutoml preset training completed in 9107.30 seconds\u001b[0m\n",
      "\n",
      "[12:18:48] Model description:\n",
      "Models on level 0:\n",
      "\t 5 averaged models Lvl_0_Pipe_0_Mod_0_LinearL2\n",
      "\t 5 averaged models Lvl_0_Pipe_1_Mod_0_LightGBM\n",
      "\t 5 averaged models Lvl_0_Pipe_1_Mod_1_Tuned_LightGBM\n",
      "\t 5 averaged models Lvl_0_Pipe_1_Mod_2_CatBoost\n",
      "\t 5 averaged models Lvl_0_Pipe_1_Mod_3_Tuned_CatBoost\n",
      "\n",
      "Final prediction for new objects (level 1) = \n",
      "\t 1.00000 * (5 averaged models Lvl_1_Pipe_0_Mod_0_LinearL2) \n",
      "\n"
     ]
    }
   ],
   "source": [
    "automl = TabularAutoML(\n",
    "    task=task,\n",
    "    timeout=TIMEOUT,\n",
    "    cpu_limit=N_THREADS,\n",
    "    reader_params={\n",
    "        'n_jobs': N_THREADS,\n",
    "        'cv':  N_FOLDS,\n",
    "        'random_state': SEED\n",
    "    },\n",
    "    tuning_params = {'max_tuning_time': 3600},\n",
    ")\n",
    "\n",
    "oof_preds = automl.fit_predict(\n",
    "    train,\n",
    "    roles={'target': TARGET_NAME},\n",
    "    verbose=1\n",
    ")"
   ]
  },
  {
   "cell_type": "code",
   "execution_count": 9,
   "id": "d0e1b76e",
   "metadata": {
    "execution": {
     "iopub.execute_input": "2024-06-01T12:18:48.280764Z",
     "iopub.status.busy": "2024-06-01T12:18:48.280335Z",
     "iopub.status.idle": "2024-06-01T12:18:48.289549Z",
     "shell.execute_reply": "2024-06-01T12:18:48.288066Z"
    },
    "papermill": {
     "duration": 0.024898,
     "end_time": "2024-06-01T12:18:48.292424",
     "exception": false,
     "start_time": "2024-06-01T12:18:48.267526",
     "status": "completed"
    },
    "tags": []
   },
   "outputs": [],
   "source": [
    "with open('lightautoml_oof_preds.pkl', 'wb') as f:\n",
    "    pickle.dump(oof_preds.data, f)"
   ]
  },
  {
   "cell_type": "markdown",
   "id": "dcaacae2",
   "metadata": {
    "papermill": {
     "duration": 0.010941,
     "end_time": "2024-06-01T12:18:48.314424",
     "exception": false,
     "start_time": "2024-06-01T12:18:48.303483",
     "status": "completed"
    },
    "tags": []
   },
   "source": [
    "# Post-Processing and Inference"
   ]
  },
  {
   "cell_type": "code",
   "execution_count": 10,
   "id": "8f9a3c26",
   "metadata": {
    "execution": {
     "iopub.execute_input": "2024-06-01T12:18:48.337909Z",
     "iopub.status.busy": "2024-06-01T12:18:48.337436Z",
     "iopub.status.idle": "2024-06-01T12:19:18.626501Z",
     "shell.execute_reply": "2024-06-01T12:19:18.625248Z"
    },
    "papermill": {
     "duration": 30.304436,
     "end_time": "2024-06-01T12:19:18.629549",
     "exception": false,
     "start_time": "2024-06-01T12:18:48.325113",
     "status": "completed"
    },
    "tags": []
   },
   "outputs": [],
   "source": [
    "preds = automl.predict(test).data"
   ]
  },
  {
   "cell_type": "code",
   "execution_count": 11,
   "id": "4278d6ca",
   "metadata": {
    "execution": {
     "iopub.execute_input": "2024-06-01T12:19:18.655236Z",
     "iopub.status.busy": "2024-06-01T12:19:18.654745Z",
     "iopub.status.idle": "2024-06-01T12:19:18.663306Z",
     "shell.execute_reply": "2024-06-01T12:19:18.662027Z"
    },
    "papermill": {
     "duration": 0.024106,
     "end_time": "2024-06-01T12:19:18.665935",
     "exception": false,
     "start_time": "2024-06-01T12:19:18.641829",
     "status": "completed"
    },
    "tags": []
   },
   "outputs": [
    {
     "data": {
      "text/plain": [
       "{0: 'Graduate', 1: 'Dropout', 2: 'Enrolled'}"
      ]
     },
     "execution_count": 11,
     "metadata": {},
     "output_type": "execute_result"
    }
   ],
   "source": [
    "class_mapping = automl.reader.class_mapping\n",
    "class_mapping = {v: k for k, v in class_mapping.items()}\n",
    "class_mapping"
   ]
  },
  {
   "cell_type": "code",
   "execution_count": 12,
   "id": "39ebcf56",
   "metadata": {
    "execution": {
     "iopub.execute_input": "2024-06-01T12:19:18.690618Z",
     "iopub.status.busy": "2024-06-01T12:19:18.690196Z",
     "iopub.status.idle": "2024-06-01T12:19:18.863946Z",
     "shell.execute_reply": "2024-06-01T12:19:18.862860Z"
    },
    "papermill": {
     "duration": 0.189394,
     "end_time": "2024-06-01T12:19:18.866662",
     "exception": false,
     "start_time": "2024-06-01T12:19:18.677268",
     "status": "completed"
    },
    "tags": []
   },
   "outputs": [
    {
     "data": {
      "text/html": [
       "<div>\n",
       "<style scoped>\n",
       "    .dataframe tbody tr th:only-of-type {\n",
       "        vertical-align: middle;\n",
       "    }\n",
       "\n",
       "    .dataframe tbody tr th {\n",
       "        vertical-align: top;\n",
       "    }\n",
       "\n",
       "    .dataframe thead th {\n",
       "        text-align: right;\n",
       "    }\n",
       "</style>\n",
       "<table border=\"1\" class=\"dataframe\">\n",
       "  <thead>\n",
       "    <tr style=\"text-align: right;\">\n",
       "      <th></th>\n",
       "      <th>Target</th>\n",
       "    </tr>\n",
       "    <tr>\n",
       "      <th>id</th>\n",
       "      <th></th>\n",
       "    </tr>\n",
       "  </thead>\n",
       "  <tbody>\n",
       "    <tr>\n",
       "      <th>76518</th>\n",
       "      <td>Dropout</td>\n",
       "    </tr>\n",
       "    <tr>\n",
       "      <th>76519</th>\n",
       "      <td>Graduate</td>\n",
       "    </tr>\n",
       "    <tr>\n",
       "      <th>76520</th>\n",
       "      <td>Graduate</td>\n",
       "    </tr>\n",
       "    <tr>\n",
       "      <th>76521</th>\n",
       "      <td>Graduate</td>\n",
       "    </tr>\n",
       "    <tr>\n",
       "      <th>76522</th>\n",
       "      <td>Enrolled</td>\n",
       "    </tr>\n",
       "  </tbody>\n",
       "</table>\n",
       "</div>"
      ],
      "text/plain": [
       "         Target\n",
       "id             \n",
       "76518   Dropout\n",
       "76519  Graduate\n",
       "76520  Graduate\n",
       "76521  Graduate\n",
       "76522  Enrolled"
      ]
     },
     "execution_count": 12,
     "metadata": {},
     "output_type": "execute_result"
    }
   ],
   "source": [
    "submission = pd.read_csv('/kaggle/input/playground-series-s4e6/sample_submission.csv', index_col='id')\n",
    "\n",
    "submission[TARGET_NAME] = preds.argmax(axis=1)\n",
    "submission[TARGET_NAME] = submission[TARGET_NAME].map(class_mapping)\n",
    "\n",
    "submission.to_csv('submission.csv')\n",
    "submission.head()"
   ]
  }
 ],
 "metadata": {
  "kaggle": {
   "accelerator": "none",
   "dataSources": [
    {
     "databundleVersionId": 8710574,
     "sourceId": 73290,
     "sourceType": "competition"
    },
    {
     "datasetId": 4433581,
     "sourceId": 7613396,
     "sourceType": "datasetVersion"
    }
   ],
   "dockerImageVersionId": 30715,
   "isGpuEnabled": false,
   "isInternetEnabled": true,
   "language": "python",
   "sourceType": "notebook"
  },
  "kernelspec": {
   "display_name": "Python 3",
   "language": "python",
   "name": "python3"
  },
  "language_info": {
   "codemirror_mode": {
    "name": "ipython",
    "version": 3
   },
   "file_extension": ".py",
   "mimetype": "text/x-python",
   "name": "python",
   "nbconvert_exporter": "python",
   "pygments_lexer": "ipython3",
   "version": "3.10.13"
  },
  "papermill": {
   "default_parameters": {},
   "duration": 9353.466208,
   "end_time": "2024-06-01T12:19:21.629222",
   "environment_variables": {},
   "exception": null,
   "input_path": "__notebook__.ipynb",
   "output_path": "__notebook__.ipynb",
   "parameters": {},
   "start_time": "2024-06-01T09:43:28.163014",
   "version": "2.5.0"
  }
 },
 "nbformat": 4,
 "nbformat_minor": 5
}
