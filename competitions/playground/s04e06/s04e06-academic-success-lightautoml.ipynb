{
 "cells": [
  {
   "cell_type": "code",
   "execution_count": 1,
   "id": "950aa8ad",
   "metadata": {
    "_cell_guid": "b1076dfc-b9ad-4769-8c92-a6c4dae69d19",
    "_kg_hide-output": true,
    "_uuid": "8f2839f25d086af736a60e9eeb907d3b93b6e0e5",
    "execution": {
     "iopub.execute_input": "2024-06-01T15:41:09.152585Z",
     "iopub.status.busy": "2024-06-01T15:41:09.152177Z",
     "iopub.status.idle": "2024-06-01T15:43:50.666604Z",
     "shell.execute_reply": "2024-06-01T15:43:50.665307Z"
    },
    "papermill": {
     "duration": 161.523206,
     "end_time": "2024-06-01T15:43:50.669328",
     "exception": false,
     "start_time": "2024-06-01T15:41:09.146122",
     "status": "completed"
    },
    "tags": []
   },
   "outputs": [
    {
     "name": "stdout",
     "output_type": "stream",
     "text": [
      "\u001b[33mWARNING: Error parsing requirements for aiohttp: [Errno 2] No such file or directory: '/opt/conda/lib/python3.10/site-packages/aiohttp-3.9.1.dist-info/METADATA'\u001b[0m\u001b[33m\r\n",
      "\u001b[0m\u001b[31mERROR: pip's dependency resolver does not currently take into account all the packages that are installed. This behaviour is the source of the following dependency conflicts.\r\n",
      "datasets 2.19.1 requires aiohttp, which is not installed.\r\n",
      "tensorflow-decision-forests 1.8.1 requires wurlitzer, which is not installed.\r\n",
      "beatrix-jupyterlab 2023.128.151533 requires jupyterlab~=3.6.0, but you have jupyterlab 4.2.1 which is incompatible.\r\n",
      "dask-expr 1.1.1 requires pandas>=2, but you have pandas 1.5.3 which is incompatible.\r\n",
      "featuretools 1.31.0 requires pandas>=2.0.0, but you have pandas 1.5.3 which is incompatible.\r\n",
      "fitter 1.7.0 requires joblib<2.0.0,>=1.3.1, but you have joblib 1.2.0 which is incompatible.\r\n",
      "libpysal 4.9.2 requires packaging>=22, but you have packaging 21.3 which is incompatible.\r\n",
      "libpysal 4.9.2 requires shapely>=2.0.1, but you have shapely 1.8.5.post1 which is incompatible.\r\n",
      "mizani 0.11.4 requires pandas>=2.1.0, but you have pandas 1.5.3 which is incompatible.\r\n",
      "momepy 0.7.0 requires shapely>=2, but you have shapely 1.8.5.post1 which is incompatible.\r\n",
      "osmnx 1.9.3 requires shapely>=2.0, but you have shapely 1.8.5.post1 which is incompatible.\r\n",
      "plotnine 0.13.6 requires pandas<3.0.0,>=2.1.0, but you have pandas 1.5.3 which is incompatible.\r\n",
      "pyldavis 3.4.1 requires pandas>=2.0.0, but you have pandas 1.5.3 which is incompatible.\r\n",
      "spopt 0.6.0 requires shapely>=2.0.1, but you have shapely 1.8.5.post1 which is incompatible.\r\n",
      "torchaudio 2.1.2+cpu requires torch==2.1.2, but you have torch 2.0.0 which is incompatible.\r\n",
      "torchtext 0.16.2+cpu requires torch==2.1.2, but you have torch 2.0.0 which is incompatible.\r\n",
      "torchvision 0.16.2+cpu requires torch==2.1.2, but you have torch 2.0.0 which is incompatible.\r\n",
      "woodwork 0.31.0 requires pandas>=2.0.0, but you have pandas 1.5.3 which is incompatible.\r\n",
      "xarray 2024.5.0 requires packaging>=23.1, but you have packaging 21.3 which is incompatible.\r\n",
      "xarray 2024.5.0 requires pandas>=2.0, but you have pandas 1.5.3 which is incompatible.\r\n",
      "ydata-profiling 4.6.4 requires numpy<1.26,>=1.16.0, but you have numpy 1.26.4 which is incompatible.\u001b[0m\u001b[31m\r\n",
      "\u001b[0m"
     ]
    }
   ],
   "source": [
    "!pip install -U -q lightautoml"
   ]
  },
  {
   "cell_type": "markdown",
   "id": "7f2e511d",
   "metadata": {
    "papermill": {
     "duration": 0.003774,
     "end_time": "2024-06-01T15:43:50.677534",
     "exception": false,
     "start_time": "2024-06-01T15:43:50.673760",
     "status": "completed"
    },
    "tags": []
   },
   "source": [
    "# Configs and Imports"
   ]
  },
  {
   "cell_type": "code",
   "execution_count": 2,
   "id": "e6412d43",
   "metadata": {
    "execution": {
     "iopub.execute_input": "2024-06-01T15:43:50.687195Z",
     "iopub.status.busy": "2024-06-01T15:43:50.686815Z",
     "iopub.status.idle": "2024-06-01T15:44:22.014372Z",
     "shell.execute_reply": "2024-06-01T15:44:22.013297Z"
    },
    "papermill": {
     "duration": 31.335468,
     "end_time": "2024-06-01T15:44:22.016931",
     "exception": false,
     "start_time": "2024-06-01T15:43:50.681463",
     "status": "completed"
    },
    "tags": []
   },
   "outputs": [],
   "source": [
    "from lightautoml.automl.presets.tabular_presets import TabularAutoML\n",
    "from lightautoml.tasks import Task\n",
    "import pandas as pd\n",
    "import numpy as np\n",
    "import torch\n",
    "import pickle"
   ]
  },
  {
   "cell_type": "code",
   "execution_count": 3,
   "id": "a6558a3e",
   "metadata": {
    "execution": {
     "iopub.execute_input": "2024-06-01T15:44:22.027435Z",
     "iopub.status.busy": "2024-06-01T15:44:22.026586Z",
     "iopub.status.idle": "2024-06-01T15:44:22.032030Z",
     "shell.execute_reply": "2024-06-01T15:44:22.031097Z"
    },
    "papermill": {
     "duration": 0.01277,
     "end_time": "2024-06-01T15:44:22.034071",
     "exception": false,
     "start_time": "2024-06-01T15:44:22.021301",
     "status": "completed"
    },
    "tags": []
   },
   "outputs": [],
   "source": [
    "TARGET_NAME = 'Target'\n",
    "TEST_SIZE = 0.1\n",
    "N_THREADS = 4\n",
    "TIMEOUT = 3600 * 10\n",
    "N_FOLDS = 5\n",
    "SEED = 27"
   ]
  },
  {
   "cell_type": "code",
   "execution_count": 4,
   "id": "54329119",
   "metadata": {
    "execution": {
     "iopub.execute_input": "2024-06-01T15:44:22.043866Z",
     "iopub.status.busy": "2024-06-01T15:44:22.043515Z",
     "iopub.status.idle": "2024-06-01T15:44:22.048866Z",
     "shell.execute_reply": "2024-06-01T15:44:22.047929Z"
    },
    "papermill": {
     "duration": 0.012861,
     "end_time": "2024-06-01T15:44:22.051132",
     "exception": false,
     "start_time": "2024-06-01T15:44:22.038271",
     "status": "completed"
    },
    "tags": []
   },
   "outputs": [],
   "source": [
    "np.random.seed(SEED)\n",
    "torch.set_num_threads(N_THREADS)"
   ]
  },
  {
   "cell_type": "markdown",
   "id": "30256a5e",
   "metadata": {
    "papermill": {
     "duration": 0.004781,
     "end_time": "2024-06-01T15:44:22.060914",
     "exception": false,
     "start_time": "2024-06-01T15:44:22.056133",
     "status": "completed"
    },
    "tags": []
   },
   "source": [
    "# Loading and Preprocessing the Datasets"
   ]
  },
  {
   "cell_type": "code",
   "execution_count": 5,
   "id": "4d2ed1a5",
   "metadata": {
    "execution": {
     "iopub.execute_input": "2024-06-01T15:44:22.072065Z",
     "iopub.status.busy": "2024-06-01T15:44:22.071372Z",
     "iopub.status.idle": "2024-06-01T15:44:22.623448Z",
     "shell.execute_reply": "2024-06-01T15:44:22.622425Z"
    },
    "papermill": {
     "duration": 0.560157,
     "end_time": "2024-06-01T15:44:22.625833",
     "exception": false,
     "start_time": "2024-06-01T15:44:22.065676",
     "status": "completed"
    },
    "tags": []
   },
   "outputs": [
    {
     "data": {
      "text/plain": [
       "((76518, 37), (51012, 36))"
      ]
     },
     "execution_count": 5,
     "metadata": {},
     "output_type": "execute_result"
    }
   ],
   "source": [
    "train = pd.read_csv('/kaggle/input/playground-series-s4e6/train.csv', index_col='id')\n",
    "test = pd.read_csv('/kaggle/input/playground-series-s4e6/test.csv', index_col='id')\n",
    "\n",
    "train.shape, test.shape"
   ]
  },
  {
   "cell_type": "code",
   "execution_count": 6,
   "id": "941930d3",
   "metadata": {
    "execution": {
     "iopub.execute_input": "2024-06-01T15:44:22.636106Z",
     "iopub.status.busy": "2024-06-01T15:44:22.635740Z",
     "iopub.status.idle": "2024-06-01T15:44:22.680145Z",
     "shell.execute_reply": "2024-06-01T15:44:22.678982Z"
    },
    "papermill": {
     "duration": 0.052341,
     "end_time": "2024-06-01T15:44:22.682517",
     "exception": false,
     "start_time": "2024-06-01T15:44:22.630176",
     "status": "completed"
    },
    "tags": []
   },
   "outputs": [
    {
     "data": {
      "text/plain": [
       "(80942, 37)"
      ]
     },
     "execution_count": 6,
     "metadata": {},
     "output_type": "execute_result"
    }
   ],
   "source": [
    "original = pd.read_csv('/kaggle/input/predict-students-dropout-and-academic-success/data.csv')\n",
    "train = pd.concat([train, original], axis=0, ignore_index=True)\n",
    "\n",
    "train.shape"
   ]
  },
  {
   "cell_type": "markdown",
   "id": "d8038f5c",
   "metadata": {
    "papermill": {
     "duration": 0.004054,
     "end_time": "2024-06-01T15:44:22.690988",
     "exception": false,
     "start_time": "2024-06-01T15:44:22.686934",
     "status": "completed"
    },
    "tags": []
   },
   "source": [
    "# Training"
   ]
  },
  {
   "cell_type": "code",
   "execution_count": 7,
   "id": "c40b63dd",
   "metadata": {
    "execution": {
     "iopub.execute_input": "2024-06-01T15:44:22.701167Z",
     "iopub.status.busy": "2024-06-01T15:44:22.700788Z",
     "iopub.status.idle": "2024-06-01T15:44:22.713437Z",
     "shell.execute_reply": "2024-06-01T15:44:22.712370Z"
    },
    "papermill": {
     "duration": 0.020602,
     "end_time": "2024-06-01T15:44:22.715799",
     "exception": false,
     "start_time": "2024-06-01T15:44:22.695197",
     "status": "completed"
    },
    "tags": []
   },
   "outputs": [],
   "source": [
    "task = Task(\n",
    "    name='multiclass'\n",
    ")"
   ]
  },
  {
   "cell_type": "code",
   "execution_count": 8,
   "id": "a482dc76",
   "metadata": {
    "_kg_hide-output": true,
    "execution": {
     "iopub.execute_input": "2024-06-01T15:44:22.726305Z",
     "iopub.status.busy": "2024-06-01T15:44:22.725900Z",
     "iopub.status.idle": "2024-06-01T18:18:19.944681Z",
     "shell.execute_reply": "2024-06-01T18:18:19.943540Z"
    },
    "papermill": {
     "duration": 9237.226726,
     "end_time": "2024-06-01T18:18:19.947046",
     "exception": false,
     "start_time": "2024-06-01T15:44:22.720320",
     "status": "completed"
    },
    "tags": []
   },
   "outputs": [
    {
     "name": "stdout",
     "output_type": "stream",
     "text": [
      "[15:44:22] Stdout logging level is INFO.\n",
      "[15:44:22] Copying TaskTimer may affect the parent PipelineTimer, so copy will create new unlimited TaskTimer\n",
      "[15:44:22] Task: multiclass\n",
      "\n",
      "[15:44:22] Start automl preset with listed constraints:\n",
      "[15:44:22] - time: 36000.00 seconds\n",
      "[15:44:22] - CPU: 4 cores\n",
      "[15:44:22] - memory: 16 GB\n",
      "\n",
      "[15:44:22] \u001b[1mTrain data shape: (80942, 37)\u001b[0m\n",
      "\n",
      "[15:44:33] Layer \u001b[1m1\u001b[0m train process start. Time left 35989.56 secs\n",
      "[15:44:38] Start fitting \u001b[1mLvl_0_Pipe_0_Mod_0_LinearL2\u001b[0m ...\n",
      "[15:45:43] Fitting \u001b[1mLvl_0_Pipe_0_Mod_0_LinearL2\u001b[0m finished. score = \u001b[1m-0.4476572039086973\u001b[0m\n",
      "[15:45:43] \u001b[1mLvl_0_Pipe_0_Mod_0_LinearL2\u001b[0m fitting and predicting completed\n",
      "[15:45:43] Time left 35919.21 secs\n",
      "\n",
      "[15:46:04] \u001b[1mSelector_LightGBM\u001b[0m fitting and predicting completed\n",
      "[15:46:10] Start fitting \u001b[1mLvl_0_Pipe_1_Mod_0_LightGBM\u001b[0m ...\n",
      "[15:50:21] Fitting \u001b[1mLvl_0_Pipe_1_Mod_0_LightGBM\u001b[0m finished. score = \u001b[1m-0.4365162506892628\u001b[0m\n",
      "[15:50:21] \u001b[1mLvl_0_Pipe_1_Mod_0_LightGBM\u001b[0m fitting and predicting completed\n",
      "[15:50:21] Start hyperparameters optimization for \u001b[1mLvl_0_Pipe_1_Mod_1_Tuned_LightGBM\u001b[0m ... Time budget is 3600.00 secs\n",
      "[16:50:48] Hyperparameters optimization for \u001b[1mLvl_0_Pipe_1_Mod_1_Tuned_LightGBM\u001b[0m completed\n",
      "[16:50:48] Start fitting \u001b[1mLvl_0_Pipe_1_Mod_1_Tuned_LightGBM\u001b[0m ...\n",
      "[16:53:51] Fitting \u001b[1mLvl_0_Pipe_1_Mod_1_Tuned_LightGBM\u001b[0m finished. score = \u001b[1m-0.4352778787879457\u001b[0m\n",
      "[16:53:51] \u001b[1mLvl_0_Pipe_1_Mod_1_Tuned_LightGBM\u001b[0m fitting and predicting completed\n",
      "[16:53:51] Start fitting \u001b[1mLvl_0_Pipe_1_Mod_2_CatBoost\u001b[0m ...\n",
      "[17:03:27] Fitting \u001b[1mLvl_0_Pipe_1_Mod_2_CatBoost\u001b[0m finished. score = \u001b[1m-0.4393377913060919\u001b[0m\n",
      "[17:03:27] \u001b[1mLvl_0_Pipe_1_Mod_2_CatBoost\u001b[0m fitting and predicting completed\n",
      "[17:03:27] Start hyperparameters optimization for \u001b[1mLvl_0_Pipe_1_Mod_3_Tuned_CatBoost\u001b[0m ... Time budget is 3600.00 secs\n",
      "[18:05:02] Hyperparameters optimization for \u001b[1mLvl_0_Pipe_1_Mod_3_Tuned_CatBoost\u001b[0m completed\n",
      "[18:05:02] Start fitting \u001b[1mLvl_0_Pipe_1_Mod_3_Tuned_CatBoost\u001b[0m ...\n",
      "[18:14:31] Fitting \u001b[1mLvl_0_Pipe_1_Mod_3_Tuned_CatBoost\u001b[0m finished. score = \u001b[1m-0.4385046291164015\u001b[0m\n",
      "[18:14:31] \u001b[1mLvl_0_Pipe_1_Mod_3_Tuned_CatBoost\u001b[0m fitting and predicting completed\n",
      "[18:14:31] Time left 26991.69 secs\n",
      "\n",
      "[18:14:31] \u001b[1mLayer 1 training completed.\u001b[0m\n",
      "\n",
      "[18:14:31] Layer \u001b[1m2\u001b[0m train process start. Time left 26991.66 secs\n",
      "[18:14:35] Start fitting \u001b[1mLvl_1_Pipe_0_Mod_0_LinearL2\u001b[0m ...\n",
      "[18:15:40] Fitting \u001b[1mLvl_1_Pipe_0_Mod_0_LinearL2\u001b[0m finished. score = \u001b[1m-0.43200373106402634\u001b[0m\n",
      "[18:15:40] \u001b[1mLvl_1_Pipe_0_Mod_0_LinearL2\u001b[0m fitting and predicting completed\n",
      "[18:15:40] Time left 26922.05 secs\n",
      "\n",
      "[18:15:46] Start fitting \u001b[1mLvl_1_Pipe_1_Mod_0_LightGBM\u001b[0m ...\n",
      "[18:18:19] Fitting \u001b[1mLvl_1_Pipe_1_Mod_0_LightGBM\u001b[0m finished. score = \u001b[1m-0.4399114437295947\u001b[0m\n",
      "[18:18:19] \u001b[1mLvl_1_Pipe_1_Mod_0_LightGBM\u001b[0m fitting and predicting completed\n",
      "[18:18:19] Time left 26763.53 secs\n",
      "\n",
      "[18:18:19] \u001b[1mLayer 2 training completed.\u001b[0m\n",
      "\n",
      "[18:18:19] Blending: optimization starts with equal weights and score \u001b[1m-0.4347460070703768\u001b[0m\n",
      "[18:18:19] Blending: iteration \u001b[1m0\u001b[0m: score = \u001b[1m-0.43200373106402634\u001b[0m, weights = \u001b[1m[1. 0.]\u001b[0m\n",
      "[18:18:19] Blending: iteration \u001b[1m1\u001b[0m: score = \u001b[1m-0.43200373106402634\u001b[0m, weights = \u001b[1m[1. 0.]\u001b[0m\n",
      "[18:18:19] Blending: no score update. Terminated\n",
      "\n",
      "[18:18:19] \u001b[1mAutoml preset training completed in 9237.17 seconds\u001b[0m\n",
      "\n",
      "[18:18:19] Model description:\n",
      "Models on level 0:\n",
      "\t 5 averaged models Lvl_0_Pipe_0_Mod_0_LinearL2\n",
      "\t 5 averaged models Lvl_0_Pipe_1_Mod_0_LightGBM\n",
      "\t 5 averaged models Lvl_0_Pipe_1_Mod_1_Tuned_LightGBM\n",
      "\t 5 averaged models Lvl_0_Pipe_1_Mod_2_CatBoost\n",
      "\t 5 averaged models Lvl_0_Pipe_1_Mod_3_Tuned_CatBoost\n",
      "\n",
      "Final prediction for new objects (level 1) = \n",
      "\t 1.00000 * (5 averaged models Lvl_1_Pipe_0_Mod_0_LinearL2) \n",
      "\n"
     ]
    }
   ],
   "source": [
    "automl = TabularAutoML(\n",
    "    task=task,\n",
    "    timeout=TIMEOUT,\n",
    "    cpu_limit=N_THREADS,\n",
    "    reader_params={\n",
    "        'n_jobs': N_THREADS,\n",
    "        'cv':  N_FOLDS,\n",
    "        'random_state': SEED\n",
    "    },\n",
    "    tuning_params = {'max_tuning_time': 3600},\n",
    ")\n",
    "\n",
    "oof_preds = automl.fit_predict(\n",
    "    train,\n",
    "    roles={'target': TARGET_NAME},\n",
    "    verbose=1\n",
    ")"
   ]
  },
  {
   "cell_type": "code",
   "execution_count": 9,
   "id": "fe545181",
   "metadata": {
    "execution": {
     "iopub.execute_input": "2024-06-01T18:18:19.963660Z",
     "iopub.status.busy": "2024-06-01T18:18:19.963283Z",
     "iopub.status.idle": "2024-06-01T18:18:19.970591Z",
     "shell.execute_reply": "2024-06-01T18:18:19.969758Z"
    },
    "papermill": {
     "duration": 0.018167,
     "end_time": "2024-06-01T18:18:19.972676",
     "exception": false,
     "start_time": "2024-06-01T18:18:19.954509",
     "status": "completed"
    },
    "tags": []
   },
   "outputs": [],
   "source": [
    "with open('lightautoml_oof_preds.pkl', 'wb') as f:\n",
    "    pickle.dump(oof_preds.data, f)"
   ]
  },
  {
   "cell_type": "markdown",
   "id": "e5b27329",
   "metadata": {
    "papermill": {
     "duration": 0.007724,
     "end_time": "2024-06-01T18:18:19.988804",
     "exception": false,
     "start_time": "2024-06-01T18:18:19.981080",
     "status": "completed"
    },
    "tags": []
   },
   "source": [
    "# Post-Processing and Inference"
   ]
  },
  {
   "cell_type": "code",
   "execution_count": 10,
   "id": "006def4a",
   "metadata": {
    "execution": {
     "iopub.execute_input": "2024-06-01T18:18:20.005537Z",
     "iopub.status.busy": "2024-06-01T18:18:20.004538Z",
     "iopub.status.idle": "2024-06-01T18:18:59.382285Z",
     "shell.execute_reply": "2024-06-01T18:18:59.381305Z"
    },
    "papermill": {
     "duration": 39.388603,
     "end_time": "2024-06-01T18:18:59.384627",
     "exception": false,
     "start_time": "2024-06-01T18:18:19.996024",
     "status": "completed"
    },
    "tags": []
   },
   "outputs": [],
   "source": [
    "preds = automl.predict(test).data"
   ]
  },
  {
   "cell_type": "code",
   "execution_count": 11,
   "id": "aa5e48b3",
   "metadata": {
    "execution": {
     "iopub.execute_input": "2024-06-01T18:18:59.402091Z",
     "iopub.status.busy": "2024-06-01T18:18:59.401698Z",
     "iopub.status.idle": "2024-06-01T18:18:59.408728Z",
     "shell.execute_reply": "2024-06-01T18:18:59.407769Z"
    },
    "papermill": {
     "duration": 0.018417,
     "end_time": "2024-06-01T18:18:59.410765",
     "exception": false,
     "start_time": "2024-06-01T18:18:59.392348",
     "status": "completed"
    },
    "tags": []
   },
   "outputs": [
    {
     "data": {
      "text/plain": [
       "{0: 'Graduate', 1: 'Dropout', 2: 'Enrolled'}"
      ]
     },
     "execution_count": 11,
     "metadata": {},
     "output_type": "execute_result"
    }
   ],
   "source": [
    "class_mapping = automl.reader.class_mapping\n",
    "class_mapping = {v: k for k, v in class_mapping.items()}\n",
    "class_mapping"
   ]
  },
  {
   "cell_type": "code",
   "execution_count": 12,
   "id": "034ae842",
   "metadata": {
    "execution": {
     "iopub.execute_input": "2024-06-01T18:18:59.427929Z",
     "iopub.status.busy": "2024-06-01T18:18:59.427572Z",
     "iopub.status.idle": "2024-06-01T18:18:59.541426Z",
     "shell.execute_reply": "2024-06-01T18:18:59.540373Z"
    },
    "papermill": {
     "duration": 0.125326,
     "end_time": "2024-06-01T18:18:59.543883",
     "exception": false,
     "start_time": "2024-06-01T18:18:59.418557",
     "status": "completed"
    },
    "tags": []
   },
   "outputs": [
    {
     "data": {
      "text/html": [
       "<div>\n",
       "<style scoped>\n",
       "    .dataframe tbody tr th:only-of-type {\n",
       "        vertical-align: middle;\n",
       "    }\n",
       "\n",
       "    .dataframe tbody tr th {\n",
       "        vertical-align: top;\n",
       "    }\n",
       "\n",
       "    .dataframe thead th {\n",
       "        text-align: right;\n",
       "    }\n",
       "</style>\n",
       "<table border=\"1\" class=\"dataframe\">\n",
       "  <thead>\n",
       "    <tr style=\"text-align: right;\">\n",
       "      <th></th>\n",
       "      <th>Target</th>\n",
       "    </tr>\n",
       "    <tr>\n",
       "      <th>id</th>\n",
       "      <th></th>\n",
       "    </tr>\n",
       "  </thead>\n",
       "  <tbody>\n",
       "    <tr>\n",
       "      <th>76518</th>\n",
       "      <td>Dropout</td>\n",
       "    </tr>\n",
       "    <tr>\n",
       "      <th>76519</th>\n",
       "      <td>Graduate</td>\n",
       "    </tr>\n",
       "    <tr>\n",
       "      <th>76520</th>\n",
       "      <td>Graduate</td>\n",
       "    </tr>\n",
       "    <tr>\n",
       "      <th>76521</th>\n",
       "      <td>Enrolled</td>\n",
       "    </tr>\n",
       "    <tr>\n",
       "      <th>76522</th>\n",
       "      <td>Enrolled</td>\n",
       "    </tr>\n",
       "  </tbody>\n",
       "</table>\n",
       "</div>"
      ],
      "text/plain": [
       "         Target\n",
       "id             \n",
       "76518   Dropout\n",
       "76519  Graduate\n",
       "76520  Graduate\n",
       "76521  Enrolled\n",
       "76522  Enrolled"
      ]
     },
     "execution_count": 12,
     "metadata": {},
     "output_type": "execute_result"
    }
   ],
   "source": [
    "submission = pd.read_csv('/kaggle/input/playground-series-s4e6/sample_submission.csv', index_col='id')\n",
    "\n",
    "submission[TARGET_NAME] = preds.argmax(axis=1)\n",
    "submission[TARGET_NAME] = submission[TARGET_NAME].map(class_mapping)\n",
    "\n",
    "submission.to_csv('submission.csv')\n",
    "submission.head()"
   ]
  }
 ],
 "metadata": {
  "kaggle": {
   "accelerator": "none",
   "dataSources": [
    {
     "databundleVersionId": 8710574,
     "sourceId": 73290,
     "sourceType": "competition"
    },
    {
     "datasetId": 5127327,
     "sourceId": 8574941,
     "sourceType": "datasetVersion"
    }
   ],
   "dockerImageVersionId": 30715,
   "isGpuEnabled": false,
   "isInternetEnabled": true,
   "language": "python",
   "sourceType": "notebook"
  },
  "kernelspec": {
   "display_name": "Python 3",
   "language": "python",
   "name": "python3"
  },
  "language_info": {
   "codemirror_mode": {
    "name": "ipython",
    "version": 3
   },
   "file_extension": ".py",
   "mimetype": "text/x-python",
   "name": "python",
   "nbconvert_exporter": "python",
   "pygments_lexer": "ipython3",
   "version": "3.10.13"
  },
  "papermill": {
   "default_parameters": {},
   "duration": 9475.722955,
   "end_time": "2024-06-01T18:19:02.186626",
   "environment_variables": {},
   "exception": null,
   "input_path": "__notebook__.ipynb",
   "output_path": "__notebook__.ipynb",
   "parameters": {},
   "start_time": "2024-06-01T15:41:06.463671",
   "version": "2.5.0"
  }
 },
 "nbformat": 4,
 "nbformat_minor": 5
}
