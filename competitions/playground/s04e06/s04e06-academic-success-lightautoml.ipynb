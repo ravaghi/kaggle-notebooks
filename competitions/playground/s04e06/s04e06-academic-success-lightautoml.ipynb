{
 "cells": [
  {
   "cell_type": "code",
   "execution_count": 1,
   "id": "38f7e788",
   "metadata": {
    "_cell_guid": "b1076dfc-b9ad-4769-8c92-a6c4dae69d19",
    "_kg_hide-output": true,
    "_uuid": "8f2839f25d086af736a60e9eeb907d3b93b6e0e5",
    "execution": {
     "iopub.execute_input": "2024-06-01T06:19:25.794293Z",
     "iopub.status.busy": "2024-06-01T06:19:25.793570Z",
     "iopub.status.idle": "2024-06-01T06:22:16.509465Z",
     "shell.execute_reply": "2024-06-01T06:22:16.507644Z"
    },
    "papermill": {
     "duration": 170.727202,
     "end_time": "2024-06-01T06:22:16.512695",
     "exception": false,
     "start_time": "2024-06-01T06:19:25.785493",
     "status": "completed"
    },
    "tags": []
   },
   "outputs": [
    {
     "name": "stdout",
     "output_type": "stream",
     "text": [
      "\u001b[33mWARNING: Error parsing requirements for aiohttp: [Errno 2] No such file or directory: '/opt/conda/lib/python3.10/site-packages/aiohttp-3.9.1.dist-info/METADATA'\u001b[0m\u001b[33m\r\n",
      "\u001b[0m\u001b[31mERROR: pip's dependency resolver does not currently take into account all the packages that are installed. This behaviour is the source of the following dependency conflicts.\r\n",
      "datasets 2.19.1 requires aiohttp, which is not installed.\r\n",
      "tensorflow-decision-forests 1.8.1 requires wurlitzer, which is not installed.\r\n",
      "beatrix-jupyterlab 2023.128.151533 requires jupyterlab~=3.6.0, but you have jupyterlab 4.2.1 which is incompatible.\r\n",
      "dask-expr 1.1.1 requires pandas>=2, but you have pandas 1.5.3 which is incompatible.\r\n",
      "featuretools 1.31.0 requires pandas>=2.0.0, but you have pandas 1.5.3 which is incompatible.\r\n",
      "fitter 1.7.0 requires joblib<2.0.0,>=1.3.1, but you have joblib 1.2.0 which is incompatible.\r\n",
      "libpysal 4.9.2 requires packaging>=22, but you have packaging 21.3 which is incompatible.\r\n",
      "libpysal 4.9.2 requires shapely>=2.0.1, but you have shapely 1.8.5.post1 which is incompatible.\r\n",
      "mizani 0.11.4 requires pandas>=2.1.0, but you have pandas 1.5.3 which is incompatible.\r\n",
      "momepy 0.7.0 requires shapely>=2, but you have shapely 1.8.5.post1 which is incompatible.\r\n",
      "osmnx 1.9.3 requires shapely>=2.0, but you have shapely 1.8.5.post1 which is incompatible.\r\n",
      "plotnine 0.13.6 requires pandas<3.0.0,>=2.1.0, but you have pandas 1.5.3 which is incompatible.\r\n",
      "pyldavis 3.4.1 requires pandas>=2.0.0, but you have pandas 1.5.3 which is incompatible.\r\n",
      "spopt 0.6.0 requires shapely>=2.0.1, but you have shapely 1.8.5.post1 which is incompatible.\r\n",
      "torchaudio 2.1.2+cpu requires torch==2.1.2, but you have torch 2.0.0 which is incompatible.\r\n",
      "torchtext 0.16.2+cpu requires torch==2.1.2, but you have torch 2.0.0 which is incompatible.\r\n",
      "torchvision 0.16.2+cpu requires torch==2.1.2, but you have torch 2.0.0 which is incompatible.\r\n",
      "woodwork 0.31.0 requires pandas>=2.0.0, but you have pandas 1.5.3 which is incompatible.\r\n",
      "xarray 2024.5.0 requires packaging>=23.1, but you have packaging 21.3 which is incompatible.\r\n",
      "xarray 2024.5.0 requires pandas>=2.0, but you have pandas 1.5.3 which is incompatible.\r\n",
      "ydata-profiling 4.6.4 requires numpy<1.26,>=1.16.0, but you have numpy 1.26.4 which is incompatible.\u001b[0m\u001b[31m\r\n",
      "\u001b[0m"
     ]
    }
   ],
   "source": [
    "!pip install -U -q lightautoml lightgbm xgboost catboost"
   ]
  },
  {
   "cell_type": "markdown",
   "id": "74989ed0",
   "metadata": {
    "papermill": {
     "duration": 0.006117,
     "end_time": "2024-06-01T06:22:16.525955",
     "exception": false,
     "start_time": "2024-06-01T06:22:16.519838",
     "status": "completed"
    },
    "tags": []
   },
   "source": [
    "# Configs and Imports"
   ]
  },
  {
   "cell_type": "code",
   "execution_count": 2,
   "id": "b51ebeb3",
   "metadata": {
    "execution": {
     "iopub.execute_input": "2024-06-01T06:22:16.542243Z",
     "iopub.status.busy": "2024-06-01T06:22:16.541722Z",
     "iopub.status.idle": "2024-06-01T06:22:56.826100Z",
     "shell.execute_reply": "2024-06-01T06:22:56.824836Z"
    },
    "papermill": {
     "duration": 40.296974,
     "end_time": "2024-06-01T06:22:56.829119",
     "exception": false,
     "start_time": "2024-06-01T06:22:16.532145",
     "status": "completed"
    },
    "tags": []
   },
   "outputs": [],
   "source": [
    "from lightautoml.automl.presets.tabular_presets import TabularAutoML\n",
    "from lightautoml.tasks import Task\n",
    "import pandas as pd\n",
    "import numpy as np\n",
    "import torch\n",
    "import pickle"
   ]
  },
  {
   "cell_type": "code",
   "execution_count": 3,
   "id": "c4f10520",
   "metadata": {
    "execution": {
     "iopub.execute_input": "2024-06-01T06:22:56.845535Z",
     "iopub.status.busy": "2024-06-01T06:22:56.843667Z",
     "iopub.status.idle": "2024-06-01T06:22:56.849653Z",
     "shell.execute_reply": "2024-06-01T06:22:56.848731Z"
    },
    "papermill": {
     "duration": 0.016242,
     "end_time": "2024-06-01T06:22:56.851982",
     "exception": false,
     "start_time": "2024-06-01T06:22:56.835740",
     "status": "completed"
    },
    "tags": []
   },
   "outputs": [],
   "source": [
    "TARGET_NAME = 'Target'\n",
    "TEST_SIZE = 0.1\n",
    "N_THREADS = 4\n",
    "TIMEOUT = 1800\n",
    "N_FOLDS = 5\n",
    "SEED = 27"
   ]
  },
  {
   "cell_type": "code",
   "execution_count": 4,
   "id": "8af6c817",
   "metadata": {
    "execution": {
     "iopub.execute_input": "2024-06-01T06:22:56.867563Z",
     "iopub.status.busy": "2024-06-01T06:22:56.866967Z",
     "iopub.status.idle": "2024-06-01T06:22:56.871845Z",
     "shell.execute_reply": "2024-06-01T06:22:56.871011Z"
    },
    "papermill": {
     "duration": 0.015413,
     "end_time": "2024-06-01T06:22:56.874121",
     "exception": false,
     "start_time": "2024-06-01T06:22:56.858708",
     "status": "completed"
    },
    "tags": []
   },
   "outputs": [],
   "source": [
    "np.random.seed(SEED)\n",
    "torch.set_num_threads(N_THREADS)"
   ]
  },
  {
   "cell_type": "markdown",
   "id": "59b75a7d",
   "metadata": {
    "papermill": {
     "duration": 0.007126,
     "end_time": "2024-06-01T06:22:56.888278",
     "exception": false,
     "start_time": "2024-06-01T06:22:56.881152",
     "status": "completed"
    },
    "tags": []
   },
   "source": [
    "# Loading and Preprocessing the Datasets"
   ]
  },
  {
   "cell_type": "code",
   "execution_count": 5,
   "id": "ccced74b",
   "metadata": {
    "execution": {
     "iopub.execute_input": "2024-06-01T06:22:56.904777Z",
     "iopub.status.busy": "2024-06-01T06:22:56.904339Z",
     "iopub.status.idle": "2024-06-01T06:22:57.615632Z",
     "shell.execute_reply": "2024-06-01T06:22:57.614558Z"
    },
    "papermill": {
     "duration": 0.722665,
     "end_time": "2024-06-01T06:22:57.618253",
     "exception": false,
     "start_time": "2024-06-01T06:22:56.895588",
     "status": "completed"
    },
    "tags": []
   },
   "outputs": [
    {
     "data": {
      "text/plain": [
       "((76518, 37), (51012, 36))"
      ]
     },
     "execution_count": 5,
     "metadata": {},
     "output_type": "execute_result"
    }
   ],
   "source": [
    "train = pd.read_csv('/kaggle/input/playground-series-s4e6/train.csv', index_col='id')\n",
    "test = pd.read_csv('/kaggle/input/playground-series-s4e6/test.csv', index_col='id')\n",
    "\n",
    "train.shape, test.shape"
   ]
  },
  {
   "cell_type": "code",
   "execution_count": 6,
   "id": "aff11f9c",
   "metadata": {
    "execution": {
     "iopub.execute_input": "2024-06-01T06:22:57.633190Z",
     "iopub.status.busy": "2024-06-01T06:22:57.632733Z",
     "iopub.status.idle": "2024-06-01T06:22:57.687449Z",
     "shell.execute_reply": "2024-06-01T06:22:57.686130Z"
    },
    "papermill": {
     "duration": 0.065315,
     "end_time": "2024-06-01T06:22:57.690270",
     "exception": false,
     "start_time": "2024-06-01T06:22:57.624955",
     "status": "completed"
    },
    "tags": []
   },
   "outputs": [
    {
     "data": {
      "text/plain": [
       "(80942, 37)"
      ]
     },
     "execution_count": 6,
     "metadata": {},
     "output_type": "execute_result"
    }
   ],
   "source": [
    "original = pd.read_csv('/kaggle/input/students-dropout-and-academic-success/data.csv', delimiter=';')\n",
    "original = original.rename(columns={'Daytime/evening attendance\\t': 'Daytime/evening attendance'})\n",
    "\n",
    "train = pd.concat([train, original], axis=0, ignore_index=True)\n",
    "\n",
    "train.shape"
   ]
  },
  {
   "cell_type": "code",
   "execution_count": 7,
   "id": "8a24517d",
   "metadata": {
    "execution": {
     "iopub.execute_input": "2024-06-01T06:22:57.705580Z",
     "iopub.status.busy": "2024-06-01T06:22:57.705211Z",
     "iopub.status.idle": "2024-06-01T06:22:57.763755Z",
     "shell.execute_reply": "2024-06-01T06:22:57.762627Z"
    },
    "papermill": {
     "duration": 0.069404,
     "end_time": "2024-06-01T06:22:57.766558",
     "exception": false,
     "start_time": "2024-06-01T06:22:57.697154",
     "status": "completed"
    },
    "tags": []
   },
   "outputs": [],
   "source": [
    "# Reference: https://www.kaggle.com/code/ambrosm/pss4e6-eda-which-makes-sense\n",
    "cat_features = [\n",
    "    'Marital status', \n",
    "    'Application mode', \n",
    "    'Course',\n",
    "    'Previous qualification', \n",
    "    'Nacionality',\n",
    "    \"Mother's qualification\",\n",
    "    \"Father's qualification\",\n",
    "    \"Mother's occupation\",\n",
    "    \"Father's occupation\"\n",
    "]\n",
    "for feature in cat_features:\n",
    "    for df in [train, test]:\n",
    "        df[feature] = df[feature].astype('category').cat.codes"
   ]
  },
  {
   "cell_type": "markdown",
   "id": "95928ded",
   "metadata": {
    "papermill": {
     "duration": 0.006643,
     "end_time": "2024-06-01T06:22:57.779891",
     "exception": false,
     "start_time": "2024-06-01T06:22:57.773248",
     "status": "completed"
    },
    "tags": []
   },
   "source": [
    "# Training"
   ]
  },
  {
   "cell_type": "code",
   "execution_count": 8,
   "id": "ce850d0c",
   "metadata": {
    "execution": {
     "iopub.execute_input": "2024-06-01T06:22:57.795070Z",
     "iopub.status.busy": "2024-06-01T06:22:57.794646Z",
     "iopub.status.idle": "2024-06-01T06:22:57.800123Z",
     "shell.execute_reply": "2024-06-01T06:22:57.798893Z"
    },
    "papermill": {
     "duration": 0.015829,
     "end_time": "2024-06-01T06:22:57.802536",
     "exception": false,
     "start_time": "2024-06-01T06:22:57.786707",
     "status": "completed"
    },
    "tags": []
   },
   "outputs": [],
   "source": [
    "task = Task(\n",
    "    name='multiclass',\n",
    "    metric='accuracy',\n",
    "    greater_is_better=True\n",
    ")"
   ]
  },
  {
   "cell_type": "code",
   "execution_count": 9,
   "id": "f02a1596",
   "metadata": {
    "_kg_hide-output": true,
    "execution": {
     "iopub.execute_input": "2024-06-01T06:22:57.817258Z",
     "iopub.status.busy": "2024-06-01T06:22:57.816859Z",
     "iopub.status.idle": "2024-06-01T06:38:58.187438Z",
     "shell.execute_reply": "2024-06-01T06:38:58.186175Z"
    },
    "papermill": {
     "duration": 960.381284,
     "end_time": "2024-06-01T06:38:58.190333",
     "exception": false,
     "start_time": "2024-06-01T06:22:57.809049",
     "status": "completed"
    },
    "tags": []
   },
   "outputs": [
    {
     "name": "stdout",
     "output_type": "stream",
     "text": [
      "[06:22:57] Stdout logging level is INFO.\n",
      "[06:22:57] Copying TaskTimer may affect the parent PipelineTimer, so copy will create new unlimited TaskTimer\n",
      "[06:22:57] Task: multiclass\n",
      "\n",
      "[06:22:57] Start automl preset with listed constraints:\n",
      "[06:22:57] - time: 1800.00 seconds\n",
      "[06:22:57] - CPU: 4 cores\n",
      "[06:22:57] - memory: 16 GB\n",
      "\n",
      "[06:22:57] \u001b[1mTrain data shape: (80942, 37)\u001b[0m\n",
      "\n",
      "[06:23:09] Layer \u001b[1m1\u001b[0m train process start. Time left 1788.73 secs\n",
      "[06:23:19] Start fitting \u001b[1mLvl_0_Pipe_0_Mod_0_LinearL2\u001b[0m ...\n",
      "[06:24:27] Fitting \u001b[1mLvl_0_Pipe_0_Mod_0_LinearL2\u001b[0m finished. score = \u001b[1m0.825937090756344\u001b[0m\n",
      "[06:24:27] \u001b[1mLvl_0_Pipe_0_Mod_0_LinearL2\u001b[0m fitting and predicting completed\n",
      "[06:24:27] Time left 1710.04 secs\n",
      "\n",
      "[06:24:48] \u001b[1mSelector_LightGBM\u001b[0m fitting and predicting completed\n",
      "[06:24:56] Start fitting \u001b[1mLvl_0_Pipe_1_Mod_0_LightGBM\u001b[0m ...\n",
      "[06:27:22] Time limit exceeded after calculating fold 1\n",
      "\n",
      "[06:27:22] Fitting \u001b[1mLvl_0_Pipe_1_Mod_0_LightGBM\u001b[0m finished. score = \u001b[1m0.830718389029588\u001b[0m\n",
      "[06:27:22] \u001b[1mLvl_0_Pipe_1_Mod_0_LightGBM\u001b[0m fitting and predicting completed\n",
      "[06:27:22] Start hyperparameters optimization for \u001b[1mLvl_0_Pipe_1_Mod_1_Tuned_LightGBM\u001b[0m ... Time budget is 1.00 secs\n",
      "[06:29:38] Hyperparameters optimization for \u001b[1mLvl_0_Pipe_1_Mod_1_Tuned_LightGBM\u001b[0m completed\n",
      "[06:29:38] Start fitting \u001b[1mLvl_0_Pipe_1_Mod_2_CatBoost\u001b[0m ...\n",
      "[06:33:39] Fitting \u001b[1mLvl_0_Pipe_1_Mod_2_CatBoost\u001b[0m finished. score = \u001b[1m0.8278396876775963\u001b[0m\n",
      "[06:33:39] \u001b[1mLvl_0_Pipe_1_Mod_2_CatBoost\u001b[0m fitting and predicting completed\n",
      "[06:33:39] Start hyperparameters optimization for \u001b[1mLvl_0_Pipe_1_Mod_3_Tuned_CatBoost\u001b[0m ... Time budget is 1.00 secs\n",
      "[06:34:27] Hyperparameters optimization for \u001b[1mLvl_0_Pipe_1_Mod_3_Tuned_CatBoost\u001b[0m completed\n",
      "[06:34:27] Start fitting \u001b[1mLvl_0_Pipe_1_Mod_3_Tuned_CatBoost\u001b[0m ...\n",
      "[06:38:56] Fitting \u001b[1mLvl_0_Pipe_1_Mod_3_Tuned_CatBoost\u001b[0m finished. score = \u001b[1m0.8282597415433273\u001b[0m\n",
      "[06:38:56] \u001b[1mLvl_0_Pipe_1_Mod_3_Tuned_CatBoost\u001b[0m fitting and predicting completed\n",
      "[06:38:56] Time left 841.60 secs\n",
      "\n",
      "[06:38:56] Time limit exceeded in one of the tasks. AutoML will blend level 1 models.\n",
      "\n",
      "[06:38:56] \u001b[1mLayer 1 training completed.\u001b[0m\n",
      "\n",
      "[06:38:56] Blending: optimization starts with equal weights and score \u001b[1m0.8287662770872971\u001b[0m\n",
      "[06:38:56] Blending: iteration \u001b[1m0\u001b[0m: score = \u001b[1m0.8289392404437745\u001b[0m, weights = \u001b[1m[0.05340506 0.76393205 0.09133146 0.09133146]\u001b[0m\n",
      "[06:38:57] Blending: iteration \u001b[1m1\u001b[0m: score = \u001b[1m0.8294210669368189\u001b[0m, weights = \u001b[1m[0.21313745 0.6172296  0.07196086 0.09767213]\u001b[0m\n",
      "[06:38:58] Blending: iteration \u001b[1m2\u001b[0m: score = \u001b[1m0.8294210669368189\u001b[0m, weights = \u001b[1m[0.21379077 0.61605626 0.07218143 0.09797151]\u001b[0m\n",
      "[06:38:58] Blending: no score update. Terminated\n",
      "\n",
      "[06:38:58] \u001b[1mAutoml preset training completed in 960.30 seconds\u001b[0m\n",
      "\n",
      "[06:38:58] Model description:\n",
      "Final prediction for new objects (level 0) = \n",
      "\t 0.21314 * (5 averaged models Lvl_0_Pipe_0_Mod_0_LinearL2) +\n",
      "\t 0.61723 * (2 averaged models Lvl_0_Pipe_1_Mod_0_LightGBM) +\n",
      "\t 0.07196 * (5 averaged models Lvl_0_Pipe_1_Mod_2_CatBoost) +\n",
      "\t 0.09767 * (5 averaged models Lvl_0_Pipe_1_Mod_3_Tuned_CatBoost) \n",
      "\n"
     ]
    }
   ],
   "source": [
    "automl = TabularAutoML(\n",
    "    task=task,\n",
    "    timeout=TIMEOUT,\n",
    "    cpu_limit=N_THREADS,\n",
    "    reader_params={\n",
    "        'n_jobs': N_THREADS,\n",
    "        'cv':  N_FOLDS,\n",
    "        'random_state': SEED\n",
    "    },\n",
    "    tuning_params = {'max_tuning_time': 120},\n",
    ")\n",
    "\n",
    "oof_preds = automl.fit_predict(\n",
    "    train,\n",
    "    roles={'target': TARGET_NAME},\n",
    "    verbose=1\n",
    ")"
   ]
  },
  {
   "cell_type": "code",
   "execution_count": 10,
   "id": "5f5ed72d",
   "metadata": {
    "execution": {
     "iopub.execute_input": "2024-06-01T06:38:58.213725Z",
     "iopub.status.busy": "2024-06-01T06:38:58.213314Z",
     "iopub.status.idle": "2024-06-01T06:38:58.220990Z",
     "shell.execute_reply": "2024-06-01T06:38:58.219996Z"
    },
    "papermill": {
     "duration": 0.022924,
     "end_time": "2024-06-01T06:38:58.223800",
     "exception": false,
     "start_time": "2024-06-01T06:38:58.200876",
     "status": "completed"
    },
    "tags": []
   },
   "outputs": [],
   "source": [
    "with open('lightautoml_oof_preds.pkl', 'wb') as f:\n",
    "    pickle.dump(oof_preds.data, f)"
   ]
  },
  {
   "cell_type": "markdown",
   "id": "c228af3c",
   "metadata": {
    "papermill": {
     "duration": 0.009784,
     "end_time": "2024-06-01T06:38:58.243795",
     "exception": false,
     "start_time": "2024-06-01T06:38:58.234011",
     "status": "completed"
    },
    "tags": []
   },
   "source": [
    "# Post-Processing and Inference"
   ]
  },
  {
   "cell_type": "code",
   "execution_count": 11,
   "id": "37e580a1",
   "metadata": {
    "execution": {
     "iopub.execute_input": "2024-06-01T06:38:58.265812Z",
     "iopub.status.busy": "2024-06-01T06:38:58.265413Z",
     "iopub.status.idle": "2024-06-01T06:39:14.819899Z",
     "shell.execute_reply": "2024-06-01T06:39:14.818691Z"
    },
    "papermill": {
     "duration": 16.568547,
     "end_time": "2024-06-01T06:39:14.822569",
     "exception": false,
     "start_time": "2024-06-01T06:38:58.254022",
     "status": "completed"
    },
    "tags": []
   },
   "outputs": [],
   "source": [
    "preds = automl.predict(test).data"
   ]
  },
  {
   "cell_type": "code",
   "execution_count": 12,
   "id": "ca5a5e15",
   "metadata": {
    "execution": {
     "iopub.execute_input": "2024-06-01T06:39:14.845743Z",
     "iopub.status.busy": "2024-06-01T06:39:14.845342Z",
     "iopub.status.idle": "2024-06-01T06:39:14.853845Z",
     "shell.execute_reply": "2024-06-01T06:39:14.852626Z"
    },
    "papermill": {
     "duration": 0.023042,
     "end_time": "2024-06-01T06:39:14.856144",
     "exception": false,
     "start_time": "2024-06-01T06:39:14.833102",
     "status": "completed"
    },
    "tags": []
   },
   "outputs": [
    {
     "data": {
      "text/plain": [
       "{0: 'Graduate', 1: 'Dropout', 2: 'Enrolled'}"
      ]
     },
     "execution_count": 12,
     "metadata": {},
     "output_type": "execute_result"
    }
   ],
   "source": [
    "class_mapping = automl.reader.class_mapping\n",
    "class_mapping = {v: k for k, v in class_mapping.items()}\n",
    "class_mapping"
   ]
  },
  {
   "cell_type": "code",
   "execution_count": 13,
   "id": "94b47e09",
   "metadata": {
    "execution": {
     "iopub.execute_input": "2024-06-01T06:39:14.880629Z",
     "iopub.status.busy": "2024-06-01T06:39:14.879994Z",
     "iopub.status.idle": "2024-06-01T06:39:15.061023Z",
     "shell.execute_reply": "2024-06-01T06:39:15.059866Z"
    },
    "papermill": {
     "duration": 0.197033,
     "end_time": "2024-06-01T06:39:15.063600",
     "exception": false,
     "start_time": "2024-06-01T06:39:14.866567",
     "status": "completed"
    },
    "tags": []
   },
   "outputs": [
    {
     "data": {
      "text/html": [
       "<div>\n",
       "<style scoped>\n",
       "    .dataframe tbody tr th:only-of-type {\n",
       "        vertical-align: middle;\n",
       "    }\n",
       "\n",
       "    .dataframe tbody tr th {\n",
       "        vertical-align: top;\n",
       "    }\n",
       "\n",
       "    .dataframe thead th {\n",
       "        text-align: right;\n",
       "    }\n",
       "</style>\n",
       "<table border=\"1\" class=\"dataframe\">\n",
       "  <thead>\n",
       "    <tr style=\"text-align: right;\">\n",
       "      <th></th>\n",
       "      <th>Target</th>\n",
       "    </tr>\n",
       "    <tr>\n",
       "      <th>id</th>\n",
       "      <th></th>\n",
       "    </tr>\n",
       "  </thead>\n",
       "  <tbody>\n",
       "    <tr>\n",
       "      <th>76518</th>\n",
       "      <td>Dropout</td>\n",
       "    </tr>\n",
       "    <tr>\n",
       "      <th>76519</th>\n",
       "      <td>Graduate</td>\n",
       "    </tr>\n",
       "    <tr>\n",
       "      <th>76520</th>\n",
       "      <td>Graduate</td>\n",
       "    </tr>\n",
       "    <tr>\n",
       "      <th>76521</th>\n",
       "      <td>Graduate</td>\n",
       "    </tr>\n",
       "    <tr>\n",
       "      <th>76522</th>\n",
       "      <td>Dropout</td>\n",
       "    </tr>\n",
       "  </tbody>\n",
       "</table>\n",
       "</div>"
      ],
      "text/plain": [
       "         Target\n",
       "id             \n",
       "76518   Dropout\n",
       "76519  Graduate\n",
       "76520  Graduate\n",
       "76521  Graduate\n",
       "76522   Dropout"
      ]
     },
     "execution_count": 13,
     "metadata": {},
     "output_type": "execute_result"
    }
   ],
   "source": [
    "submission = pd.read_csv('/kaggle/input/playground-series-s4e6/sample_submission.csv', index_col='id')\n",
    "\n",
    "submission[TARGET_NAME] = preds.argmax(axis=1)\n",
    "submission[TARGET_NAME] = submission[TARGET_NAME].map(class_mapping)\n",
    "\n",
    "submission.to_csv('submission.csv')\n",
    "submission.head()"
   ]
  }
 ],
 "metadata": {
  "kaggle": {
   "accelerator": "none",
   "dataSources": [
    {
     "databundleVersionId": 8710574,
     "sourceId": 73290,
     "sourceType": "competition"
    },
    {
     "datasetId": 4433581,
     "sourceId": 7613396,
     "sourceType": "datasetVersion"
    }
   ],
   "dockerImageVersionId": 30715,
   "isGpuEnabled": false,
   "isInternetEnabled": true,
   "language": "python",
   "sourceType": "notebook"
  },
  "kernelspec": {
   "display_name": "Python 3",
   "language": "python",
   "name": "python3"
  },
  "language_info": {
   "codemirror_mode": {
    "name": "ipython",
    "version": 3
   },
   "file_extension": ".py",
   "mimetype": "text/x-python",
   "name": "python",
   "nbconvert_exporter": "python",
   "pygments_lexer": "ipython3",
   "version": "3.10.13"
  },
  "papermill": {
   "default_parameters": {},
   "duration": 1195.100397,
   "end_time": "2024-06-01T06:39:17.800503",
   "environment_variables": {},
   "exception": null,
   "input_path": "__notebook__.ipynb",
   "output_path": "__notebook__.ipynb",
   "parameters": {},
   "start_time": "2024-06-01T06:19:22.700106",
   "version": "2.5.0"
  }
 },
 "nbformat": 4,
 "nbformat_minor": 5
}
