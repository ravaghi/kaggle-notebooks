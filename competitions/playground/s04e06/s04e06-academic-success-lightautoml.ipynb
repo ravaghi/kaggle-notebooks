{
 "cells": [
  {
   "cell_type": "code",
   "execution_count": 1,
   "id": "fb0b0106",
   "metadata": {
    "_cell_guid": "b1076dfc-b9ad-4769-8c92-a6c4dae69d19",
    "_kg_hide-output": true,
    "_uuid": "8f2839f25d086af736a60e9eeb907d3b93b6e0e5",
    "execution": {
     "iopub.execute_input": "2024-06-01T09:18:35.861701Z",
     "iopub.status.busy": "2024-06-01T09:18:35.861311Z",
     "iopub.status.idle": "2024-06-01T09:21:12.808938Z",
     "shell.execute_reply": "2024-06-01T09:21:12.807716Z"
    },
    "papermill": {
     "duration": 156.956663,
     "end_time": "2024-06-01T09:21:12.811608",
     "exception": false,
     "start_time": "2024-06-01T09:18:35.854945",
     "status": "completed"
    },
    "tags": []
   },
   "outputs": [
    {
     "name": "stdout",
     "output_type": "stream",
     "text": [
      "\u001b[33mWARNING: Error parsing requirements for aiohttp: [Errno 2] No such file or directory: '/opt/conda/lib/python3.10/site-packages/aiohttp-3.9.1.dist-info/METADATA'\u001b[0m\u001b[33m\r\n",
      "\u001b[0m\u001b[31mERROR: pip's dependency resolver does not currently take into account all the packages that are installed. This behaviour is the source of the following dependency conflicts.\r\n",
      "datasets 2.19.1 requires aiohttp, which is not installed.\r\n",
      "tensorflow-decision-forests 1.8.1 requires wurlitzer, which is not installed.\r\n",
      "beatrix-jupyterlab 2023.128.151533 requires jupyterlab~=3.6.0, but you have jupyterlab 4.2.1 which is incompatible.\r\n",
      "dask-expr 1.1.1 requires pandas>=2, but you have pandas 1.5.3 which is incompatible.\r\n",
      "featuretools 1.31.0 requires pandas>=2.0.0, but you have pandas 1.5.3 which is incompatible.\r\n",
      "fitter 1.7.0 requires joblib<2.0.0,>=1.3.1, but you have joblib 1.2.0 which is incompatible.\r\n",
      "libpysal 4.9.2 requires packaging>=22, but you have packaging 21.3 which is incompatible.\r\n",
      "libpysal 4.9.2 requires shapely>=2.0.1, but you have shapely 1.8.5.post1 which is incompatible.\r\n",
      "mizani 0.11.4 requires pandas>=2.1.0, but you have pandas 1.5.3 which is incompatible.\r\n",
      "momepy 0.7.0 requires shapely>=2, but you have shapely 1.8.5.post1 which is incompatible.\r\n",
      "osmnx 1.9.3 requires shapely>=2.0, but you have shapely 1.8.5.post1 which is incompatible.\r\n",
      "plotnine 0.13.6 requires pandas<3.0.0,>=2.1.0, but you have pandas 1.5.3 which is incompatible.\r\n",
      "pyldavis 3.4.1 requires pandas>=2.0.0, but you have pandas 1.5.3 which is incompatible.\r\n",
      "spopt 0.6.0 requires shapely>=2.0.1, but you have shapely 1.8.5.post1 which is incompatible.\r\n",
      "torchaudio 2.1.2+cpu requires torch==2.1.2, but you have torch 2.0.0 which is incompatible.\r\n",
      "torchtext 0.16.2+cpu requires torch==2.1.2, but you have torch 2.0.0 which is incompatible.\r\n",
      "torchvision 0.16.2+cpu requires torch==2.1.2, but you have torch 2.0.0 which is incompatible.\r\n",
      "woodwork 0.31.0 requires pandas>=2.0.0, but you have pandas 1.5.3 which is incompatible.\r\n",
      "xarray 2024.5.0 requires packaging>=23.1, but you have packaging 21.3 which is incompatible.\r\n",
      "xarray 2024.5.0 requires pandas>=2.0, but you have pandas 1.5.3 which is incompatible.\r\n",
      "ydata-profiling 4.6.4 requires numpy<1.26,>=1.16.0, but you have numpy 1.26.4 which is incompatible.\u001b[0m\u001b[31m\r\n",
      "\u001b[0m"
     ]
    }
   ],
   "source": [
    "!pip install -U -q lightautoml"
   ]
  },
  {
   "cell_type": "markdown",
   "id": "1a7da68c",
   "metadata": {
    "papermill": {
     "duration": 0.003912,
     "end_time": "2024-06-01T09:21:12.820193",
     "exception": false,
     "start_time": "2024-06-01T09:21:12.816281",
     "status": "completed"
    },
    "tags": []
   },
   "source": [
    "# Configs and Imports"
   ]
  },
  {
   "cell_type": "code",
   "execution_count": 2,
   "id": "89ecf32e",
   "metadata": {
    "execution": {
     "iopub.execute_input": "2024-06-01T09:21:12.830514Z",
     "iopub.status.busy": "2024-06-01T09:21:12.829741Z",
     "iopub.status.idle": "2024-06-01T09:21:43.666055Z",
     "shell.execute_reply": "2024-06-01T09:21:43.664825Z"
    },
    "papermill": {
     "duration": 30.844619,
     "end_time": "2024-06-01T09:21:43.668862",
     "exception": false,
     "start_time": "2024-06-01T09:21:12.824243",
     "status": "completed"
    },
    "tags": []
   },
   "outputs": [],
   "source": [
    "from lightautoml.automl.presets.tabular_presets import TabularAutoML\n",
    "from lightautoml.tasks import Task\n",
    "import pandas as pd\n",
    "import numpy as np\n",
    "import torch\n",
    "import pickle"
   ]
  },
  {
   "cell_type": "code",
   "execution_count": 3,
   "id": "3644ee7d",
   "metadata": {
    "execution": {
     "iopub.execute_input": "2024-06-01T09:21:43.681030Z",
     "iopub.status.busy": "2024-06-01T09:21:43.679236Z",
     "iopub.status.idle": "2024-06-01T09:21:43.685481Z",
     "shell.execute_reply": "2024-06-01T09:21:43.684485Z"
    },
    "papermill": {
     "duration": 0.014469,
     "end_time": "2024-06-01T09:21:43.688095",
     "exception": false,
     "start_time": "2024-06-01T09:21:43.673626",
     "status": "completed"
    },
    "tags": []
   },
   "outputs": [],
   "source": [
    "TARGET_NAME = 'Target'\n",
    "TEST_SIZE = 0.1\n",
    "N_THREADS = 4\n",
    "TIMEOUT = 3600 * 10\n",
    "N_FOLDS = 5\n",
    "SEED = 27"
   ]
  },
  {
   "cell_type": "code",
   "execution_count": 4,
   "id": "9a16021a",
   "metadata": {
    "execution": {
     "iopub.execute_input": "2024-06-01T09:21:43.698299Z",
     "iopub.status.busy": "2024-06-01T09:21:43.697921Z",
     "iopub.status.idle": "2024-06-01T09:21:43.704900Z",
     "shell.execute_reply": "2024-06-01T09:21:43.704060Z"
    },
    "papermill": {
     "duration": 0.014725,
     "end_time": "2024-06-01T09:21:43.707249",
     "exception": false,
     "start_time": "2024-06-01T09:21:43.692524",
     "status": "completed"
    },
    "tags": []
   },
   "outputs": [],
   "source": [
    "np.random.seed(SEED)\n",
    "torch.set_num_threads(N_THREADS)"
   ]
  },
  {
   "cell_type": "markdown",
   "id": "757bbf5a",
   "metadata": {
    "papermill": {
     "duration": 0.005022,
     "end_time": "2024-06-01T09:21:43.717446",
     "exception": false,
     "start_time": "2024-06-01T09:21:43.712424",
     "status": "completed"
    },
    "tags": []
   },
   "source": [
    "# Loading and Preprocessing the Datasets"
   ]
  },
  {
   "cell_type": "code",
   "execution_count": 5,
   "id": "b93f0584",
   "metadata": {
    "execution": {
     "iopub.execute_input": "2024-06-01T09:21:43.728032Z",
     "iopub.status.busy": "2024-06-01T09:21:43.727162Z",
     "iopub.status.idle": "2024-06-01T09:21:44.259227Z",
     "shell.execute_reply": "2024-06-01T09:21:44.258227Z"
    },
    "papermill": {
     "duration": 0.539722,
     "end_time": "2024-06-01T09:21:44.261646",
     "exception": false,
     "start_time": "2024-06-01T09:21:43.721924",
     "status": "completed"
    },
    "tags": []
   },
   "outputs": [
    {
     "data": {
      "text/plain": [
       "((76518, 37), (51012, 36))"
      ]
     },
     "execution_count": 5,
     "metadata": {},
     "output_type": "execute_result"
    }
   ],
   "source": [
    "train = pd.read_csv('/kaggle/input/playground-series-s4e6/train.csv', index_col='id')\n",
    "test = pd.read_csv('/kaggle/input/playground-series-s4e6/test.csv', index_col='id')\n",
    "\n",
    "train.shape, test.shape"
   ]
  },
  {
   "cell_type": "code",
   "execution_count": 6,
   "id": "76013d4e",
   "metadata": {
    "execution": {
     "iopub.execute_input": "2024-06-01T09:21:44.272361Z",
     "iopub.status.busy": "2024-06-01T09:21:44.272006Z",
     "iopub.status.idle": "2024-06-01T09:21:44.320614Z",
     "shell.execute_reply": "2024-06-01T09:21:44.319500Z"
    },
    "papermill": {
     "duration": 0.056722,
     "end_time": "2024-06-01T09:21:44.322956",
     "exception": false,
     "start_time": "2024-06-01T09:21:44.266234",
     "status": "completed"
    },
    "tags": []
   },
   "outputs": [
    {
     "data": {
      "text/plain": [
       "(80942, 37)"
      ]
     },
     "execution_count": 6,
     "metadata": {},
     "output_type": "execute_result"
    }
   ],
   "source": [
    "original = pd.read_csv('/kaggle/input/students-dropout-and-academic-success/data.csv', delimiter=';')\n",
    "original = original.rename(columns={'Daytime/evening attendance\\t': 'Daytime/evening attendance'})\n",
    "\n",
    "train = pd.concat([train, original], axis=0, ignore_index=True)\n",
    "\n",
    "train.shape"
   ]
  },
  {
   "cell_type": "code",
   "execution_count": 7,
   "id": "e2fc7f39",
   "metadata": {
    "execution": {
     "iopub.execute_input": "2024-06-01T09:21:44.333632Z",
     "iopub.status.busy": "2024-06-01T09:21:44.333275Z",
     "iopub.status.idle": "2024-06-01T09:21:44.390204Z",
     "shell.execute_reply": "2024-06-01T09:21:44.389346Z"
    },
    "papermill": {
     "duration": 0.065068,
     "end_time": "2024-06-01T09:21:44.392700",
     "exception": false,
     "start_time": "2024-06-01T09:21:44.327632",
     "status": "completed"
    },
    "tags": []
   },
   "outputs": [],
   "source": [
    "# Reference: https://www.kaggle.com/code/ambrosm/pss4e6-eda-which-makes-sense\n",
    "cat_features = [\n",
    "    'Marital status', \n",
    "    'Application mode', \n",
    "    'Course',\n",
    "    'Previous qualification', \n",
    "    'Nacionality',\n",
    "    \"Mother's qualification\",\n",
    "    \"Father's qualification\",\n",
    "    \"Mother's occupation\",\n",
    "    \"Father's occupation\"\n",
    "]\n",
    "for feature in cat_features:\n",
    "    for df in [train, test]:\n",
    "        df[feature] = df[feature].astype('category').cat.codes"
   ]
  },
  {
   "cell_type": "markdown",
   "id": "b0736c97",
   "metadata": {
    "papermill": {
     "duration": 0.004303,
     "end_time": "2024-06-01T09:21:44.401679",
     "exception": false,
     "start_time": "2024-06-01T09:21:44.397376",
     "status": "completed"
    },
    "tags": []
   },
   "source": [
    "# Training"
   ]
  },
  {
   "cell_type": "code",
   "execution_count": 8,
   "id": "25a094d3",
   "metadata": {
    "execution": {
     "iopub.execute_input": "2024-06-01T09:21:44.412062Z",
     "iopub.status.busy": "2024-06-01T09:21:44.411695Z",
     "iopub.status.idle": "2024-06-01T09:21:44.416334Z",
     "shell.execute_reply": "2024-06-01T09:21:44.415417Z"
    },
    "papermill": {
     "duration": 0.012237,
     "end_time": "2024-06-01T09:21:44.418358",
     "exception": false,
     "start_time": "2024-06-01T09:21:44.406121",
     "status": "completed"
    },
    "tags": []
   },
   "outputs": [],
   "source": [
    "task = Task(\n",
    "    name='multiclass',\n",
    "    greater_is_better=True\n",
    ")"
   ]
  },
  {
   "cell_type": "code",
   "execution_count": 9,
   "id": "9517e11a",
   "metadata": {
    "_kg_hide-output": true,
    "execution": {
     "iopub.execute_input": "2024-06-01T09:21:44.428662Z",
     "iopub.status.busy": "2024-06-01T09:21:44.428289Z",
     "iopub.status.idle": "2024-06-01T11:52:51.920006Z",
     "shell.execute_reply": "2024-06-01T11:52:51.918808Z"
    },
    "papermill": {
     "duration": 9067.499618,
     "end_time": "2024-06-01T11:52:51.922467",
     "exception": false,
     "start_time": "2024-06-01T09:21:44.422849",
     "status": "completed"
    },
    "tags": []
   },
   "outputs": [
    {
     "name": "stdout",
     "output_type": "stream",
     "text": [
      "[09:21:44] Stdout logging level is INFO.\n",
      "[09:21:44] Copying TaskTimer may affect the parent PipelineTimer, so copy will create new unlimited TaskTimer\n",
      "[09:21:44] Task: multiclass\n",
      "\n",
      "[09:21:44] Start automl preset with listed constraints:\n",
      "[09:21:44] - time: 36000.00 seconds\n",
      "[09:21:44] - CPU: 4 cores\n",
      "[09:21:44] - memory: 16 GB\n",
      "\n",
      "[09:21:44] \u001b[1mTrain data shape: (80942, 37)\u001b[0m\n",
      "\n",
      "[09:21:55] Layer \u001b[1m1\u001b[0m train process start. Time left 35989.27 secs\n",
      "[09:22:00] Start fitting \u001b[1mLvl_0_Pipe_0_Mod_0_LinearL2\u001b[0m ...\n",
      "[09:22:16] Fitting \u001b[1mLvl_0_Pipe_0_Mod_0_LinearL2\u001b[0m finished. score = \u001b[1m0.5363263111594837\u001b[0m\n",
      "[09:22:16] \u001b[1mLvl_0_Pipe_0_Mod_0_LinearL2\u001b[0m fitting and predicting completed\n",
      "[09:22:16] Time left 35967.92 secs\n",
      "\n",
      "[09:22:37] \u001b[1mSelector_LightGBM\u001b[0m fitting and predicting completed\n",
      "[09:22:43] Start fitting \u001b[1mLvl_0_Pipe_1_Mod_0_LightGBM\u001b[0m ...\n",
      "[09:26:51] Fitting \u001b[1mLvl_0_Pipe_1_Mod_0_LightGBM\u001b[0m finished. score = \u001b[1m0.43651802483124796\u001b[0m\n",
      "[09:26:51] \u001b[1mLvl_0_Pipe_1_Mod_0_LightGBM\u001b[0m fitting and predicting completed\n",
      "[09:26:51] Start hyperparameters optimization for \u001b[1mLvl_0_Pipe_1_Mod_1_Tuned_LightGBM\u001b[0m ... Time budget is 3600.00 secs\n",
      "[10:26:51] Hyperparameters optimization for \u001b[1mLvl_0_Pipe_1_Mod_1_Tuned_LightGBM\u001b[0m completed\n",
      "[10:26:51] Start fitting \u001b[1mLvl_0_Pipe_1_Mod_1_Tuned_LightGBM\u001b[0m ...\n",
      "[10:29:59] Fitting \u001b[1mLvl_0_Pipe_1_Mod_1_Tuned_LightGBM\u001b[0m finished. score = \u001b[1m0.44626038004934815\u001b[0m\n",
      "[10:29:59] \u001b[1mLvl_0_Pipe_1_Mod_1_Tuned_LightGBM\u001b[0m fitting and predicting completed\n",
      "[10:29:59] Start fitting \u001b[1mLvl_0_Pipe_1_Mod_2_CatBoost\u001b[0m ...\n",
      "[10:39:41] Fitting \u001b[1mLvl_0_Pipe_1_Mod_2_CatBoost\u001b[0m finished. score = \u001b[1m0.4393372422166075\u001b[0m\n",
      "[10:39:41] \u001b[1mLvl_0_Pipe_1_Mod_2_CatBoost\u001b[0m fitting and predicting completed\n",
      "[10:39:41] Start hyperparameters optimization for \u001b[1mLvl_0_Pipe_1_Mod_3_Tuned_CatBoost\u001b[0m ... Time budget is 3600.00 secs\n",
      "[11:40:56] Hyperparameters optimization for \u001b[1mLvl_0_Pipe_1_Mod_3_Tuned_CatBoost\u001b[0m completed\n",
      "[11:40:56] Start fitting \u001b[1mLvl_0_Pipe_1_Mod_3_Tuned_CatBoost\u001b[0m ...\n",
      "[11:49:59] Fitting \u001b[1mLvl_0_Pipe_1_Mod_3_Tuned_CatBoost\u001b[0m finished. score = \u001b[1m0.44129096535162016\u001b[0m\n",
      "[11:49:59] \u001b[1mLvl_0_Pipe_1_Mod_3_Tuned_CatBoost\u001b[0m fitting and predicting completed\n",
      "[11:49:59] Time left 27105.02 secs\n",
      "\n",
      "[11:49:59] \u001b[1mLayer 1 training completed.\u001b[0m\n",
      "\n",
      "[11:49:59] Layer \u001b[1m2\u001b[0m train process start. Time left 27104.99 secs\n",
      "[11:50:04] Start fitting \u001b[1mLvl_1_Pipe_0_Mod_0_LinearL2\u001b[0m ...\n",
      "[11:50:19] Fitting \u001b[1mLvl_1_Pipe_0_Mod_0_LinearL2\u001b[0m finished. score = \u001b[1m0.49166876840254836\u001b[0m\n",
      "[11:50:19] \u001b[1mLvl_1_Pipe_0_Mod_0_LinearL2\u001b[0m fitting and predicting completed\n",
      "[11:50:19] Time left 27084.49 secs\n",
      "\n",
      "[11:50:26] Start fitting \u001b[1mLvl_1_Pipe_1_Mod_0_LightGBM\u001b[0m ...\n",
      "[11:52:51] Fitting \u001b[1mLvl_1_Pipe_1_Mod_0_LightGBM\u001b[0m finished. score = \u001b[1m0.44163900704007886\u001b[0m\n",
      "[11:52:51] \u001b[1mLvl_1_Pipe_1_Mod_0_LightGBM\u001b[0m fitting and predicting completed\n",
      "[11:52:51] Time left 26933.29 secs\n",
      "\n",
      "[11:52:51] \u001b[1mLayer 2 training completed.\u001b[0m\n",
      "\n",
      "[11:52:51] Blending: optimization starts with equal weights and score \u001b[1m0.45687739282296363\u001b[0m\n",
      "[11:52:51] Blending: iteration \u001b[1m0\u001b[0m: score = \u001b[1m0.49166876840254836\u001b[0m, weights = \u001b[1m[1. 0.]\u001b[0m\n",
      "[11:52:51] Blending: iteration \u001b[1m1\u001b[0m: score = \u001b[1m0.49166876840254836\u001b[0m, weights = \u001b[1m[1. 0.]\u001b[0m\n",
      "[11:52:51] Blending: no score update. Terminated\n",
      "\n",
      "[11:52:51] \u001b[1mAutoml preset training completed in 9067.44 seconds\u001b[0m\n",
      "\n",
      "[11:52:51] Model description:\n",
      "Models on level 0:\n",
      "\t 5 averaged models Lvl_0_Pipe_0_Mod_0_LinearL2\n",
      "\t 5 averaged models Lvl_0_Pipe_1_Mod_0_LightGBM\n",
      "\t 5 averaged models Lvl_0_Pipe_1_Mod_1_Tuned_LightGBM\n",
      "\t 5 averaged models Lvl_0_Pipe_1_Mod_2_CatBoost\n",
      "\t 5 averaged models Lvl_0_Pipe_1_Mod_3_Tuned_CatBoost\n",
      "\n",
      "Final prediction for new objects (level 1) = \n",
      "\t 1.00000 * (5 averaged models Lvl_1_Pipe_0_Mod_0_LinearL2) \n",
      "\n"
     ]
    }
   ],
   "source": [
    "automl = TabularAutoML(\n",
    "    task=task,\n",
    "    timeout=TIMEOUT,\n",
    "    cpu_limit=N_THREADS,\n",
    "    reader_params={\n",
    "        'n_jobs': N_THREADS,\n",
    "        'cv':  N_FOLDS,\n",
    "        'random_state': SEED\n",
    "    },\n",
    "    tuning_params = {'max_tuning_time': 3600},\n",
    ")\n",
    "\n",
    "oof_preds = automl.fit_predict(\n",
    "    train,\n",
    "    roles={'target': TARGET_NAME},\n",
    "    verbose=1\n",
    ")"
   ]
  },
  {
   "cell_type": "code",
   "execution_count": 10,
   "id": "12e50828",
   "metadata": {
    "execution": {
     "iopub.execute_input": "2024-06-01T11:52:51.940487Z",
     "iopub.status.busy": "2024-06-01T11:52:51.940116Z",
     "iopub.status.idle": "2024-06-01T11:52:51.947502Z",
     "shell.execute_reply": "2024-06-01T11:52:51.946452Z"
    },
    "papermill": {
     "duration": 0.019254,
     "end_time": "2024-06-01T11:52:51.949708",
     "exception": false,
     "start_time": "2024-06-01T11:52:51.930454",
     "status": "completed"
    },
    "tags": []
   },
   "outputs": [],
   "source": [
    "with open('lightautoml_oof_preds.pkl', 'wb') as f:\n",
    "    pickle.dump(oof_preds.data, f)"
   ]
  },
  {
   "cell_type": "markdown",
   "id": "ee4d7128",
   "metadata": {
    "papermill": {
     "duration": 0.007436,
     "end_time": "2024-06-01T11:52:51.965036",
     "exception": false,
     "start_time": "2024-06-01T11:52:51.957600",
     "status": "completed"
    },
    "tags": []
   },
   "source": [
    "# Post-Processing and Inference"
   ]
  },
  {
   "cell_type": "code",
   "execution_count": 11,
   "id": "f322cb2f",
   "metadata": {
    "execution": {
     "iopub.execute_input": "2024-06-01T11:52:51.982675Z",
     "iopub.status.busy": "2024-06-01T11:52:51.981631Z",
     "iopub.status.idle": "2024-06-01T11:53:19.830269Z",
     "shell.execute_reply": "2024-06-01T11:53:19.829085Z"
    },
    "papermill": {
     "duration": 27.860383,
     "end_time": "2024-06-01T11:53:19.833085",
     "exception": false,
     "start_time": "2024-06-01T11:52:51.972702",
     "status": "completed"
    },
    "tags": []
   },
   "outputs": [],
   "source": [
    "preds = automl.predict(test).data"
   ]
  },
  {
   "cell_type": "code",
   "execution_count": 12,
   "id": "bc133139",
   "metadata": {
    "execution": {
     "iopub.execute_input": "2024-06-01T11:53:19.851304Z",
     "iopub.status.busy": "2024-06-01T11:53:19.850923Z",
     "iopub.status.idle": "2024-06-01T11:53:19.858758Z",
     "shell.execute_reply": "2024-06-01T11:53:19.857559Z"
    },
    "papermill": {
     "duration": 0.019241,
     "end_time": "2024-06-01T11:53:19.860985",
     "exception": false,
     "start_time": "2024-06-01T11:53:19.841744",
     "status": "completed"
    },
    "tags": []
   },
   "outputs": [
    {
     "data": {
      "text/plain": [
       "{0: 'Graduate', 1: 'Dropout', 2: 'Enrolled'}"
      ]
     },
     "execution_count": 12,
     "metadata": {},
     "output_type": "execute_result"
    }
   ],
   "source": [
    "class_mapping = automl.reader.class_mapping\n",
    "class_mapping = {v: k for k, v in class_mapping.items()}\n",
    "class_mapping"
   ]
  },
  {
   "cell_type": "code",
   "execution_count": 13,
   "id": "23c8be10",
   "metadata": {
    "execution": {
     "iopub.execute_input": "2024-06-01T11:53:19.879402Z",
     "iopub.status.busy": "2024-06-01T11:53:19.878470Z",
     "iopub.status.idle": "2024-06-01T11:53:19.999894Z",
     "shell.execute_reply": "2024-06-01T11:53:19.998794Z"
    },
    "papermill": {
     "duration": 0.133296,
     "end_time": "2024-06-01T11:53:20.002348",
     "exception": false,
     "start_time": "2024-06-01T11:53:19.869052",
     "status": "completed"
    },
    "tags": []
   },
   "outputs": [
    {
     "data": {
      "text/html": [
       "<div>\n",
       "<style scoped>\n",
       "    .dataframe tbody tr th:only-of-type {\n",
       "        vertical-align: middle;\n",
       "    }\n",
       "\n",
       "    .dataframe tbody tr th {\n",
       "        vertical-align: top;\n",
       "    }\n",
       "\n",
       "    .dataframe thead th {\n",
       "        text-align: right;\n",
       "    }\n",
       "</style>\n",
       "<table border=\"1\" class=\"dataframe\">\n",
       "  <thead>\n",
       "    <tr style=\"text-align: right;\">\n",
       "      <th></th>\n",
       "      <th>Target</th>\n",
       "    </tr>\n",
       "    <tr>\n",
       "      <th>id</th>\n",
       "      <th></th>\n",
       "    </tr>\n",
       "  </thead>\n",
       "  <tbody>\n",
       "    <tr>\n",
       "      <th>76518</th>\n",
       "      <td>Dropout</td>\n",
       "    </tr>\n",
       "    <tr>\n",
       "      <th>76519</th>\n",
       "      <td>Graduate</td>\n",
       "    </tr>\n",
       "    <tr>\n",
       "      <th>76520</th>\n",
       "      <td>Graduate</td>\n",
       "    </tr>\n",
       "    <tr>\n",
       "      <th>76521</th>\n",
       "      <td>Graduate</td>\n",
       "    </tr>\n",
       "    <tr>\n",
       "      <th>76522</th>\n",
       "      <td>Enrolled</td>\n",
       "    </tr>\n",
       "  </tbody>\n",
       "</table>\n",
       "</div>"
      ],
      "text/plain": [
       "         Target\n",
       "id             \n",
       "76518   Dropout\n",
       "76519  Graduate\n",
       "76520  Graduate\n",
       "76521  Graduate\n",
       "76522  Enrolled"
      ]
     },
     "execution_count": 13,
     "metadata": {},
     "output_type": "execute_result"
    }
   ],
   "source": [
    "submission = pd.read_csv('/kaggle/input/playground-series-s4e6/sample_submission.csv', index_col='id')\n",
    "\n",
    "submission[TARGET_NAME] = preds.argmax(axis=1)\n",
    "submission[TARGET_NAME] = submission[TARGET_NAME].map(class_mapping)\n",
    "\n",
    "submission.to_csv('submission.csv')\n",
    "submission.head()"
   ]
  }
 ],
 "metadata": {
  "kaggle": {
   "accelerator": "none",
   "dataSources": [
    {
     "databundleVersionId": 8710574,
     "sourceId": 73290,
     "sourceType": "competition"
    },
    {
     "datasetId": 4433581,
     "sourceId": 7613396,
     "sourceType": "datasetVersion"
    }
   ],
   "dockerImageVersionId": 30715,
   "isGpuEnabled": false,
   "isInternetEnabled": true,
   "language": "python",
   "sourceType": "notebook"
  },
  "kernelspec": {
   "display_name": "Python 3",
   "language": "python",
   "name": "python3"
  },
  "language_info": {
   "codemirror_mode": {
    "name": "ipython",
    "version": 3
   },
   "file_extension": ".py",
   "mimetype": "text/x-python",
   "name": "python",
   "nbconvert_exporter": "python",
   "pygments_lexer": "ipython3",
   "version": "3.10.13"
  },
  "papermill": {
   "default_parameters": {},
   "duration": 9289.583262,
   "end_time": "2024-06-01T11:53:22.747084",
   "environment_variables": {},
   "exception": null,
   "input_path": "__notebook__.ipynb",
   "output_path": "__notebook__.ipynb",
   "parameters": {},
   "start_time": "2024-06-01T09:18:33.163822",
   "version": "2.5.0"
  }
 },
 "nbformat": 4,
 "nbformat_minor": 5
}
