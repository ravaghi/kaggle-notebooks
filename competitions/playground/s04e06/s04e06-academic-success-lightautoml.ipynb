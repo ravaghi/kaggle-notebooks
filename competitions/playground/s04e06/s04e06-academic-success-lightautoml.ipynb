{
 "cells": [
  {
   "cell_type": "code",
   "execution_count": 1,
   "id": "e4465ef1",
   "metadata": {
    "_cell_guid": "b1076dfc-b9ad-4769-8c92-a6c4dae69d19",
    "_kg_hide-output": true,
    "_uuid": "8f2839f25d086af736a60e9eeb907d3b93b6e0e5",
    "execution": {
     "iopub.execute_input": "2024-06-01T06:22:09.387348Z",
     "iopub.status.busy": "2024-06-01T06:22:09.386322Z",
     "iopub.status.idle": "2024-06-01T06:24:48.968386Z",
     "shell.execute_reply": "2024-06-01T06:24:48.967363Z"
    },
    "papermill": {
     "duration": 159.591007,
     "end_time": "2024-06-01T06:24:48.971291",
     "exception": false,
     "start_time": "2024-06-01T06:22:09.380284",
     "status": "completed"
    },
    "tags": []
   },
   "outputs": [
    {
     "name": "stdout",
     "output_type": "stream",
     "text": [
      "\u001b[33mWARNING: Error parsing requirements for aiohttp: [Errno 2] No such file or directory: '/opt/conda/lib/python3.10/site-packages/aiohttp-3.9.1.dist-info/METADATA'\u001b[0m\u001b[33m\r\n",
      "\u001b[0m\u001b[31mERROR: pip's dependency resolver does not currently take into account all the packages that are installed. This behaviour is the source of the following dependency conflicts.\r\n",
      "datasets 2.19.1 requires aiohttp, which is not installed.\r\n",
      "tensorflow-decision-forests 1.8.1 requires wurlitzer, which is not installed.\r\n",
      "beatrix-jupyterlab 2023.128.151533 requires jupyterlab~=3.6.0, but you have jupyterlab 4.2.1 which is incompatible.\r\n",
      "dask-expr 1.1.1 requires pandas>=2, but you have pandas 1.5.3 which is incompatible.\r\n",
      "featuretools 1.31.0 requires pandas>=2.0.0, but you have pandas 1.5.3 which is incompatible.\r\n",
      "fitter 1.7.0 requires joblib<2.0.0,>=1.3.1, but you have joblib 1.2.0 which is incompatible.\r\n",
      "libpysal 4.9.2 requires packaging>=22, but you have packaging 21.3 which is incompatible.\r\n",
      "libpysal 4.9.2 requires shapely>=2.0.1, but you have shapely 1.8.5.post1 which is incompatible.\r\n",
      "mizani 0.11.4 requires pandas>=2.1.0, but you have pandas 1.5.3 which is incompatible.\r\n",
      "momepy 0.7.0 requires shapely>=2, but you have shapely 1.8.5.post1 which is incompatible.\r\n",
      "osmnx 1.9.3 requires shapely>=2.0, but you have shapely 1.8.5.post1 which is incompatible.\r\n",
      "plotnine 0.13.6 requires pandas<3.0.0,>=2.1.0, but you have pandas 1.5.3 which is incompatible.\r\n",
      "pyldavis 3.4.1 requires pandas>=2.0.0, but you have pandas 1.5.3 which is incompatible.\r\n",
      "spopt 0.6.0 requires shapely>=2.0.1, but you have shapely 1.8.5.post1 which is incompatible.\r\n",
      "torchaudio 2.1.2+cpu requires torch==2.1.2, but you have torch 2.0.0 which is incompatible.\r\n",
      "torchtext 0.16.2+cpu requires torch==2.1.2, but you have torch 2.0.0 which is incompatible.\r\n",
      "torchvision 0.16.2+cpu requires torch==2.1.2, but you have torch 2.0.0 which is incompatible.\r\n",
      "woodwork 0.31.0 requires pandas>=2.0.0, but you have pandas 1.5.3 which is incompatible.\r\n",
      "xarray 2024.5.0 requires packaging>=23.1, but you have packaging 21.3 which is incompatible.\r\n",
      "xarray 2024.5.0 requires pandas>=2.0, but you have pandas 1.5.3 which is incompatible.\r\n",
      "ydata-profiling 4.6.4 requires numpy<1.26,>=1.16.0, but you have numpy 1.26.4 which is incompatible.\u001b[0m\u001b[31m\r\n",
      "\u001b[0m"
     ]
    }
   ],
   "source": [
    "!pip install -U -q lightautoml lightgbm xgboost catboost"
   ]
  },
  {
   "cell_type": "markdown",
   "id": "19671fb2",
   "metadata": {
    "papermill": {
     "duration": 0.003881,
     "end_time": "2024-06-01T06:24:48.979673",
     "exception": false,
     "start_time": "2024-06-01T06:24:48.975792",
     "status": "completed"
    },
    "tags": []
   },
   "source": [
    "# Configs and Imports"
   ]
  },
  {
   "cell_type": "code",
   "execution_count": 2,
   "id": "e4656038",
   "metadata": {
    "execution": {
     "iopub.execute_input": "2024-06-01T06:24:48.989921Z",
     "iopub.status.busy": "2024-06-01T06:24:48.989505Z",
     "iopub.status.idle": "2024-06-01T06:25:26.014410Z",
     "shell.execute_reply": "2024-06-01T06:25:26.012735Z"
    },
    "papermill": {
     "duration": 37.033427,
     "end_time": "2024-06-01T06:25:26.017222",
     "exception": false,
     "start_time": "2024-06-01T06:24:48.983795",
     "status": "completed"
    },
    "tags": []
   },
   "outputs": [],
   "source": [
    "from lightautoml.automl.presets.tabular_presets import TabularAutoML\n",
    "from lightautoml.tasks import Task\n",
    "import pandas as pd\n",
    "import numpy as np\n",
    "import torch\n",
    "import pickle"
   ]
  },
  {
   "cell_type": "code",
   "execution_count": 3,
   "id": "da2f0f25",
   "metadata": {
    "execution": {
     "iopub.execute_input": "2024-06-01T06:25:26.028537Z",
     "iopub.status.busy": "2024-06-01T06:25:26.027638Z",
     "iopub.status.idle": "2024-06-01T06:25:26.033547Z",
     "shell.execute_reply": "2024-06-01T06:25:26.032226Z"
    },
    "papermill": {
     "duration": 0.013795,
     "end_time": "2024-06-01T06:25:26.035826",
     "exception": false,
     "start_time": "2024-06-01T06:25:26.022031",
     "status": "completed"
    },
    "tags": []
   },
   "outputs": [],
   "source": [
    "TARGET_NAME = 'Target'\n",
    "TEST_SIZE = 0.1\n",
    "N_THREADS = 4\n",
    "TIMEOUT = 3600 * 10\n",
    "N_FOLDS = 5\n",
    "SEED = 27"
   ]
  },
  {
   "cell_type": "code",
   "execution_count": 4,
   "id": "6804565c",
   "metadata": {
    "execution": {
     "iopub.execute_input": "2024-06-01T06:25:26.046501Z",
     "iopub.status.busy": "2024-06-01T06:25:26.045738Z",
     "iopub.status.idle": "2024-06-01T06:25:26.053907Z",
     "shell.execute_reply": "2024-06-01T06:25:26.052976Z"
    },
    "papermill": {
     "duration": 0.01631,
     "end_time": "2024-06-01T06:25:26.056655",
     "exception": false,
     "start_time": "2024-06-01T06:25:26.040345",
     "status": "completed"
    },
    "tags": []
   },
   "outputs": [],
   "source": [
    "np.random.seed(SEED)\n",
    "torch.set_num_threads(N_THREADS)"
   ]
  },
  {
   "cell_type": "markdown",
   "id": "91d71a7a",
   "metadata": {
    "papermill": {
     "duration": 0.005074,
     "end_time": "2024-06-01T06:25:26.066866",
     "exception": false,
     "start_time": "2024-06-01T06:25:26.061792",
     "status": "completed"
    },
    "tags": []
   },
   "source": [
    "# Loading and Preprocessing the Datasets"
   ]
  },
  {
   "cell_type": "code",
   "execution_count": 5,
   "id": "0b09aa96",
   "metadata": {
    "execution": {
     "iopub.execute_input": "2024-06-01T06:25:26.077538Z",
     "iopub.status.busy": "2024-06-01T06:25:26.077162Z",
     "iopub.status.idle": "2024-06-01T06:25:26.666747Z",
     "shell.execute_reply": "2024-06-01T06:25:26.665490Z"
    },
    "papermill": {
     "duration": 0.597553,
     "end_time": "2024-06-01T06:25:26.669301",
     "exception": false,
     "start_time": "2024-06-01T06:25:26.071748",
     "status": "completed"
    },
    "tags": []
   },
   "outputs": [
    {
     "data": {
      "text/plain": [
       "((76518, 37), (51012, 36))"
      ]
     },
     "execution_count": 5,
     "metadata": {},
     "output_type": "execute_result"
    }
   ],
   "source": [
    "train = pd.read_csv('/kaggle/input/playground-series-s4e6/train.csv', index_col='id')\n",
    "test = pd.read_csv('/kaggle/input/playground-series-s4e6/test.csv', index_col='id')\n",
    "\n",
    "train.shape, test.shape"
   ]
  },
  {
   "cell_type": "code",
   "execution_count": 6,
   "id": "6b6975e4",
   "metadata": {
    "execution": {
     "iopub.execute_input": "2024-06-01T06:25:26.681047Z",
     "iopub.status.busy": "2024-06-01T06:25:26.680244Z",
     "iopub.status.idle": "2024-06-01T06:25:26.737082Z",
     "shell.execute_reply": "2024-06-01T06:25:26.735207Z"
    },
    "papermill": {
     "duration": 0.06576,
     "end_time": "2024-06-01T06:25:26.739961",
     "exception": false,
     "start_time": "2024-06-01T06:25:26.674201",
     "status": "completed"
    },
    "tags": []
   },
   "outputs": [
    {
     "data": {
      "text/plain": [
       "(80942, 37)"
      ]
     },
     "execution_count": 6,
     "metadata": {},
     "output_type": "execute_result"
    }
   ],
   "source": [
    "original = pd.read_csv('/kaggle/input/students-dropout-and-academic-success/data.csv', delimiter=';')\n",
    "original = original.rename(columns={'Daytime/evening attendance\\t': 'Daytime/evening attendance'})\n",
    "\n",
    "train = pd.concat([train, original], axis=0, ignore_index=True)\n",
    "\n",
    "train.shape"
   ]
  },
  {
   "cell_type": "code",
   "execution_count": 7,
   "id": "d968d43f",
   "metadata": {
    "execution": {
     "iopub.execute_input": "2024-06-01T06:25:26.751756Z",
     "iopub.status.busy": "2024-06-01T06:25:26.750858Z",
     "iopub.status.idle": "2024-06-01T06:25:26.814590Z",
     "shell.execute_reply": "2024-06-01T06:25:26.813644Z"
    },
    "papermill": {
     "duration": 0.072359,
     "end_time": "2024-06-01T06:25:26.817225",
     "exception": false,
     "start_time": "2024-06-01T06:25:26.744866",
     "status": "completed"
    },
    "tags": []
   },
   "outputs": [],
   "source": [
    "# Reference: https://www.kaggle.com/code/ambrosm/pss4e6-eda-which-makes-sense\n",
    "cat_features = [\n",
    "    'Marital status', \n",
    "    'Application mode', \n",
    "    'Course',\n",
    "    'Previous qualification', \n",
    "    'Nacionality',\n",
    "    \"Mother's qualification\",\n",
    "    \"Father's qualification\",\n",
    "    \"Mother's occupation\",\n",
    "    \"Father's occupation\"\n",
    "]\n",
    "for feature in cat_features:\n",
    "    for df in [train, test]:\n",
    "        df[feature] = df[feature].astype('category').cat.codes"
   ]
  },
  {
   "cell_type": "markdown",
   "id": "bc022c2b",
   "metadata": {
    "papermill": {
     "duration": 0.004455,
     "end_time": "2024-06-01T06:25:26.826628",
     "exception": false,
     "start_time": "2024-06-01T06:25:26.822173",
     "status": "completed"
    },
    "tags": []
   },
   "source": [
    "# Training"
   ]
  },
  {
   "cell_type": "code",
   "execution_count": 8,
   "id": "4a0b72b4",
   "metadata": {
    "execution": {
     "iopub.execute_input": "2024-06-01T06:25:26.837485Z",
     "iopub.status.busy": "2024-06-01T06:25:26.837031Z",
     "iopub.status.idle": "2024-06-01T06:25:26.842263Z",
     "shell.execute_reply": "2024-06-01T06:25:26.841149Z"
    },
    "papermill": {
     "duration": 0.013384,
     "end_time": "2024-06-01T06:25:26.844567",
     "exception": false,
     "start_time": "2024-06-01T06:25:26.831183",
     "status": "completed"
    },
    "tags": []
   },
   "outputs": [],
   "source": [
    "task = Task(\n",
    "    name='multiclass',\n",
    "    metric='accuracy',\n",
    "    greater_is_better=True\n",
    ")"
   ]
  },
  {
   "cell_type": "code",
   "execution_count": 9,
   "id": "319fc7ed",
   "metadata": {
    "_kg_hide-output": true,
    "execution": {
     "iopub.execute_input": "2024-06-01T06:25:26.855730Z",
     "iopub.status.busy": "2024-06-01T06:25:26.855322Z",
     "iopub.status.idle": "2024-06-01T07:47:12.528618Z",
     "shell.execute_reply": "2024-06-01T07:47:12.526766Z"
    },
    "papermill": {
     "duration": 4905.682704,
     "end_time": "2024-06-01T07:47:12.532135",
     "exception": false,
     "start_time": "2024-06-01T06:25:26.849431",
     "status": "completed"
    },
    "tags": []
   },
   "outputs": [
    {
     "name": "stdout",
     "output_type": "stream",
     "text": [
      "[06:25:26] Stdout logging level is INFO.\n",
      "[06:25:26] Copying TaskTimer may affect the parent PipelineTimer, so copy will create new unlimited TaskTimer\n",
      "[06:25:26] Task: multiclass\n",
      "\n",
      "[06:25:26] Start automl preset with listed constraints:\n",
      "[06:25:26] - time: 36000.00 seconds\n",
      "[06:25:26] - CPU: 4 cores\n",
      "[06:25:26] - memory: 16 GB\n",
      "\n",
      "[06:25:26] \u001b[1mTrain data shape: (80942, 37)\u001b[0m\n",
      "\n",
      "[06:25:38] Layer \u001b[1m1\u001b[0m train process start. Time left 35988.67 secs\n",
      "[06:25:43] Start fitting \u001b[1mLvl_0_Pipe_0_Mod_0_LinearL2\u001b[0m ...\n",
      "[06:26:50] Fitting \u001b[1mLvl_0_Pipe_0_Mod_0_LinearL2\u001b[0m finished. score = \u001b[1m0.8259865088581948\u001b[0m\n",
      "[06:26:50] \u001b[1mLvl_0_Pipe_0_Mod_0_LinearL2\u001b[0m fitting and predicting completed\n",
      "[06:26:50] Time left 35916.09 secs\n",
      "\n",
      "[06:27:10] \u001b[1mSelector_LightGBM\u001b[0m fitting and predicting completed\n",
      "[06:27:16] Start fitting \u001b[1mLvl_0_Pipe_1_Mod_0_LightGBM\u001b[0m ...\n",
      "[06:33:01] Fitting \u001b[1mLvl_0_Pipe_1_Mod_0_LightGBM\u001b[0m finished. score = \u001b[1m0.8316325269946382\u001b[0m\n",
      "[06:33:01] \u001b[1mLvl_0_Pipe_1_Mod_0_LightGBM\u001b[0m fitting and predicting completed\n",
      "[06:33:01] Start hyperparameters optimization for \u001b[1mLvl_0_Pipe_1_Mod_1_Tuned_LightGBM\u001b[0m ... Time budget is 1800.00 secs\n",
      "[07:03:20] Hyperparameters optimization for \u001b[1mLvl_0_Pipe_1_Mod_1_Tuned_LightGBM\u001b[0m completed\n",
      "[07:03:20] Start fitting \u001b[1mLvl_0_Pipe_1_Mod_1_Tuned_LightGBM\u001b[0m ...\n",
      "[07:05:32] Fitting \u001b[1mLvl_0_Pipe_1_Mod_1_Tuned_LightGBM\u001b[0m finished. score = \u001b[1m0.8312742457562206\u001b[0m\n",
      "[07:05:32] \u001b[1mLvl_0_Pipe_1_Mod_1_Tuned_LightGBM\u001b[0m fitting and predicting completed\n",
      "[07:05:32] Start fitting \u001b[1mLvl_0_Pipe_1_Mod_2_CatBoost\u001b[0m ...\n",
      "[07:09:35] Fitting \u001b[1mLvl_0_Pipe_1_Mod_2_CatBoost\u001b[0m finished. score = \u001b[1m0.8278396876775963\u001b[0m\n",
      "[07:09:35] \u001b[1mLvl_0_Pipe_1_Mod_2_CatBoost\u001b[0m fitting and predicting completed\n",
      "[07:09:35] Start hyperparameters optimization for \u001b[1mLvl_0_Pipe_1_Mod_3_Tuned_CatBoost\u001b[0m ... Time budget is 1800.00 secs\n",
      "[07:40:06] Hyperparameters optimization for \u001b[1mLvl_0_Pipe_1_Mod_3_Tuned_CatBoost\u001b[0m completed\n",
      "[07:40:06] Start fitting \u001b[1mLvl_0_Pipe_1_Mod_3_Tuned_CatBoost\u001b[0m ...\n",
      "[07:43:48] Fitting \u001b[1mLvl_0_Pipe_1_Mod_3_Tuned_CatBoost\u001b[0m finished. score = \u001b[1m0.8278643967285216\u001b[0m\n",
      "[07:43:48] \u001b[1mLvl_0_Pipe_1_Mod_3_Tuned_CatBoost\u001b[0m fitting and predicting completed\n",
      "[07:43:48] Time left 31298.81 secs\n",
      "\n",
      "[07:43:48] \u001b[1mLayer 1 training completed.\u001b[0m\n",
      "\n",
      "[07:43:48] Layer \u001b[1m2\u001b[0m train process start. Time left 31298.78 secs\n",
      "[07:43:53] Start fitting \u001b[1mLvl_1_Pipe_0_Mod_0_LinearL2\u001b[0m ...\n",
      "[07:45:01] Fitting \u001b[1mLvl_1_Pipe_0_Mod_0_LinearL2\u001b[0m finished. score = \u001b[1m0.8317437177238022\u001b[0m\n",
      "[07:45:01] \u001b[1mLvl_1_Pipe_0_Mod_0_LinearL2\u001b[0m fitting and predicting completed\n",
      "[07:45:01] Time left 31225.81 secs\n",
      "\n",
      "[07:45:07] Start fitting \u001b[1mLvl_1_Pipe_1_Mod_0_LightGBM\u001b[0m ...\n",
      "[07:47:11] Fitting \u001b[1mLvl_1_Pipe_1_Mod_0_LightGBM\u001b[0m finished. score = \u001b[1m0.8307430011613254\u001b[0m\n",
      "[07:47:11] \u001b[1mLvl_1_Pipe_1_Mod_0_LightGBM\u001b[0m fitting and predicting completed\n",
      "[07:47:11] Time left 31094.93 secs\n",
      "\n",
      "[07:47:11] \u001b[1mLayer 2 training completed.\u001b[0m\n",
      "\n",
      "[07:47:11] Blending: optimization starts with equal weights and score \u001b[1m0.8315089817400114\u001b[0m\n",
      "[07:47:12] Blending: iteration \u001b[1m0\u001b[0m: score = \u001b[1m0.8318549084529663\u001b[0m, weights = \u001b[1m[0.9442719  0.05572809]\u001b[0m\n",
      "[07:47:12] Blending: iteration \u001b[1m1\u001b[0m: score = \u001b[1m0.8318549084529663\u001b[0m, weights = \u001b[1m[0.9442719  0.05572809]\u001b[0m\n",
      "[07:47:12] Blending: no score update. Terminated\n",
      "\n",
      "[07:47:12] \u001b[1mAutoml preset training completed in 4905.62 seconds\u001b[0m\n",
      "\n",
      "[07:47:12] Model description:\n",
      "Models on level 0:\n",
      "\t 5 averaged models Lvl_0_Pipe_0_Mod_0_LinearL2\n",
      "\t 5 averaged models Lvl_0_Pipe_1_Mod_0_LightGBM\n",
      "\t 5 averaged models Lvl_0_Pipe_1_Mod_1_Tuned_LightGBM\n",
      "\t 5 averaged models Lvl_0_Pipe_1_Mod_2_CatBoost\n",
      "\t 5 averaged models Lvl_0_Pipe_1_Mod_3_Tuned_CatBoost\n",
      "\n",
      "Final prediction for new objects (level 1) = \n",
      "\t 0.94427 * (5 averaged models Lvl_1_Pipe_0_Mod_0_LinearL2) +\n",
      "\t 0.05573 * (5 averaged models Lvl_1_Pipe_1_Mod_0_LightGBM) \n",
      "\n"
     ]
    }
   ],
   "source": [
    "automl = TabularAutoML(\n",
    "    task=task,\n",
    "    timeout=TIMEOUT,\n",
    "    cpu_limit=N_THREADS,\n",
    "    reader_params={\n",
    "        'n_jobs': N_THREADS,\n",
    "        'cv':  N_FOLDS,\n",
    "        'random_state': SEED\n",
    "    },\n",
    "    tuning_params = {'max_tuning_time': 1800},\n",
    ")\n",
    "\n",
    "oof_preds = automl.fit_predict(\n",
    "    train,\n",
    "    roles={'target': TARGET_NAME},\n",
    "    verbose=1\n",
    ")"
   ]
  },
  {
   "cell_type": "code",
   "execution_count": 10,
   "id": "95ca2dc1",
   "metadata": {
    "execution": {
     "iopub.execute_input": "2024-06-01T07:47:12.551941Z",
     "iopub.status.busy": "2024-06-01T07:47:12.551486Z",
     "iopub.status.idle": "2024-06-01T07:47:12.558354Z",
     "shell.execute_reply": "2024-06-01T07:47:12.557304Z"
    },
    "papermill": {
     "duration": 0.018961,
     "end_time": "2024-06-01T07:47:12.560728",
     "exception": false,
     "start_time": "2024-06-01T07:47:12.541767",
     "status": "completed"
    },
    "tags": []
   },
   "outputs": [],
   "source": [
    "with open('lightautoml_oof_preds.pkl', 'wb') as f:\n",
    "    pickle.dump(oof_preds.data, f)"
   ]
  },
  {
   "cell_type": "markdown",
   "id": "75e7ec76",
   "metadata": {
    "papermill": {
     "duration": 0.007775,
     "end_time": "2024-06-01T07:47:12.577053",
     "exception": false,
     "start_time": "2024-06-01T07:47:12.569278",
     "status": "completed"
    },
    "tags": []
   },
   "source": [
    "# Post-Processing and Inference"
   ]
  },
  {
   "cell_type": "code",
   "execution_count": 11,
   "id": "9130de4c",
   "metadata": {
    "execution": {
     "iopub.execute_input": "2024-06-01T07:47:12.594557Z",
     "iopub.status.busy": "2024-06-01T07:47:12.594153Z",
     "iopub.status.idle": "2024-06-01T07:47:55.414098Z",
     "shell.execute_reply": "2024-06-01T07:47:55.412056Z"
    },
    "papermill": {
     "duration": 42.832407,
     "end_time": "2024-06-01T07:47:55.417368",
     "exception": false,
     "start_time": "2024-06-01T07:47:12.584961",
     "status": "completed"
    },
    "tags": []
   },
   "outputs": [],
   "source": [
    "preds = automl.predict(test).data"
   ]
  },
  {
   "cell_type": "code",
   "execution_count": 12,
   "id": "bd78574a",
   "metadata": {
    "execution": {
     "iopub.execute_input": "2024-06-01T07:47:55.436198Z",
     "iopub.status.busy": "2024-06-01T07:47:55.435752Z",
     "iopub.status.idle": "2024-06-01T07:47:55.444497Z",
     "shell.execute_reply": "2024-06-01T07:47:55.443221Z"
    },
    "papermill": {
     "duration": 0.020637,
     "end_time": "2024-06-01T07:47:55.446919",
     "exception": false,
     "start_time": "2024-06-01T07:47:55.426282",
     "status": "completed"
    },
    "tags": []
   },
   "outputs": [
    {
     "data": {
      "text/plain": [
       "{0: 'Graduate', 1: 'Dropout', 2: 'Enrolled'}"
      ]
     },
     "execution_count": 12,
     "metadata": {},
     "output_type": "execute_result"
    }
   ],
   "source": [
    "class_mapping = automl.reader.class_mapping\n",
    "class_mapping = {v: k for k, v in class_mapping.items()}\n",
    "class_mapping"
   ]
  },
  {
   "cell_type": "code",
   "execution_count": 13,
   "id": "0b13e2f8",
   "metadata": {
    "execution": {
     "iopub.execute_input": "2024-06-01T07:47:55.465663Z",
     "iopub.status.busy": "2024-06-01T07:47:55.465224Z",
     "iopub.status.idle": "2024-06-01T07:47:55.582313Z",
     "shell.execute_reply": "2024-06-01T07:47:55.581150Z"
    },
    "papermill": {
     "duration": 0.129241,
     "end_time": "2024-06-01T07:47:55.584950",
     "exception": false,
     "start_time": "2024-06-01T07:47:55.455709",
     "status": "completed"
    },
    "tags": []
   },
   "outputs": [
    {
     "data": {
      "text/html": [
       "<div>\n",
       "<style scoped>\n",
       "    .dataframe tbody tr th:only-of-type {\n",
       "        vertical-align: middle;\n",
       "    }\n",
       "\n",
       "    .dataframe tbody tr th {\n",
       "        vertical-align: top;\n",
       "    }\n",
       "\n",
       "    .dataframe thead th {\n",
       "        text-align: right;\n",
       "    }\n",
       "</style>\n",
       "<table border=\"1\" class=\"dataframe\">\n",
       "  <thead>\n",
       "    <tr style=\"text-align: right;\">\n",
       "      <th></th>\n",
       "      <th>Target</th>\n",
       "    </tr>\n",
       "    <tr>\n",
       "      <th>id</th>\n",
       "      <th></th>\n",
       "    </tr>\n",
       "  </thead>\n",
       "  <tbody>\n",
       "    <tr>\n",
       "      <th>76518</th>\n",
       "      <td>Dropout</td>\n",
       "    </tr>\n",
       "    <tr>\n",
       "      <th>76519</th>\n",
       "      <td>Graduate</td>\n",
       "    </tr>\n",
       "    <tr>\n",
       "      <th>76520</th>\n",
       "      <td>Graduate</td>\n",
       "    </tr>\n",
       "    <tr>\n",
       "      <th>76521</th>\n",
       "      <td>Graduate</td>\n",
       "    </tr>\n",
       "    <tr>\n",
       "      <th>76522</th>\n",
       "      <td>Dropout</td>\n",
       "    </tr>\n",
       "  </tbody>\n",
       "</table>\n",
       "</div>"
      ],
      "text/plain": [
       "         Target\n",
       "id             \n",
       "76518   Dropout\n",
       "76519  Graduate\n",
       "76520  Graduate\n",
       "76521  Graduate\n",
       "76522   Dropout"
      ]
     },
     "execution_count": 13,
     "metadata": {},
     "output_type": "execute_result"
    }
   ],
   "source": [
    "submission = pd.read_csv('/kaggle/input/playground-series-s4e6/sample_submission.csv', index_col='id')\n",
    "\n",
    "submission[TARGET_NAME] = preds.argmax(axis=1)\n",
    "submission[TARGET_NAME] = submission[TARGET_NAME].map(class_mapping)\n",
    "\n",
    "submission.to_csv('submission.csv')\n",
    "submission.head()"
   ]
  }
 ],
 "metadata": {
  "kaggle": {
   "accelerator": "none",
   "dataSources": [
    {
     "databundleVersionId": 8710574,
     "sourceId": 73290,
     "sourceType": "competition"
    },
    {
     "datasetId": 4433581,
     "sourceId": 7613396,
     "sourceType": "datasetVersion"
    }
   ],
   "dockerImageVersionId": 30715,
   "isGpuEnabled": false,
   "isInternetEnabled": true,
   "language": "python",
   "sourceType": "notebook"
  },
  "kernelspec": {
   "display_name": "Python 3",
   "language": "python",
   "name": "python3"
  },
  "language_info": {
   "codemirror_mode": {
    "name": "ipython",
    "version": 3
   },
   "file_extension": ".py",
   "mimetype": "text/x-python",
   "name": "python",
   "nbconvert_exporter": "python",
   "pygments_lexer": "ipython3",
   "version": "3.10.13"
  },
  "papermill": {
   "default_parameters": {},
   "duration": 5152.054477,
   "end_time": "2024-06-01T07:47:58.329425",
   "environment_variables": {},
   "exception": null,
   "input_path": "__notebook__.ipynb",
   "output_path": "__notebook__.ipynb",
   "parameters": {},
   "start_time": "2024-06-01T06:22:06.274948",
   "version": "2.5.0"
  }
 },
 "nbformat": 4,
 "nbformat_minor": 5
}
