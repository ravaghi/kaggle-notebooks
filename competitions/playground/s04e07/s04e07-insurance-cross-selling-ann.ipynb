{
 "cells": [
  {
   "cell_type": "markdown",
   "id": "0e048b15",
   "metadata": {
    "papermill": {
     "duration": 0.0053,
     "end_time": "2024-07-10T16:34:54.316101",
     "exception": false,
     "start_time": "2024-07-10T16:34:54.310801",
     "status": "completed"
    },
    "tags": []
   },
   "source": [
    "The work in this notebook is based on [this discussion post](https://www.kaggle.com/competitions/playground-series-s4e7/discussion/518760) by AmbrosM. I've added \n",
    "* Cross-validation\n",
    "* New features\n",
    "* New hyperparameters"
   ]
  },
  {
   "cell_type": "code",
   "execution_count": 1,
   "id": "e476ccc6",
   "metadata": {
    "_kg_hide-output": true,
    "execution": {
     "iopub.execute_input": "2024-07-10T16:34:54.328105Z",
     "iopub.status.busy": "2024-07-10T16:34:54.327497Z",
     "iopub.status.idle": "2024-07-10T16:35:19.287946Z",
     "shell.execute_reply": "2024-07-10T16:35:19.286293Z"
    },
    "papermill": {
     "duration": 24.969816,
     "end_time": "2024-07-10T16:35:19.291047",
     "exception": false,
     "start_time": "2024-07-10T16:34:54.321231",
     "status": "completed"
    },
    "tags": []
   },
   "outputs": [
    {
     "name": "stdout",
     "output_type": "stream",
     "text": [
      "\u001b[31mERROR: pip's dependency resolver does not currently take into account all the packages that are installed. This behaviour is the source of the following dependency conflicts.\r\n",
      "spopt 0.6.0 requires shapely>=2.0.1, but you have shapely 1.8.5.post1 which is incompatible.\u001b[0m\u001b[31m\r\n",
      "\u001b[0m"
     ]
    }
   ],
   "source": [
    "!pip install -q scikit-learn==1.4 && pip install -q --no-deps scikeras"
   ]
  },
  {
   "cell_type": "code",
   "execution_count": 2,
   "id": "bfea5d87",
   "metadata": {
    "_cell_guid": "b1076dfc-b9ad-4769-8c92-a6c4dae69d19",
    "_kg_hide-output": true,
    "_uuid": "8f2839f25d086af736a60e9eeb907d3b93b6e0e5",
    "execution": {
     "iopub.execute_input": "2024-07-10T16:35:19.303597Z",
     "iopub.status.busy": "2024-07-10T16:35:19.303160Z",
     "iopub.status.idle": "2024-07-10T16:35:38.780615Z",
     "shell.execute_reply": "2024-07-10T16:35:38.779342Z"
    },
    "papermill": {
     "duration": 19.48759,
     "end_time": "2024-07-10T16:35:38.783871",
     "exception": false,
     "start_time": "2024-07-10T16:35:19.296281",
     "status": "completed"
    },
    "tags": []
   },
   "outputs": [
    {
     "name": "stderr",
     "output_type": "stream",
     "text": [
      "2024-07-10 16:35:23.632219: E external/local_xla/xla/stream_executor/cuda/cuda_dnn.cc:9261] Unable to register cuDNN factory: Attempting to register factory for plugin cuDNN when one has already been registered\n",
      "2024-07-10 16:35:23.632383: E external/local_xla/xla/stream_executor/cuda/cuda_fft.cc:607] Unable to register cuFFT factory: Attempting to register factory for plugin cuFFT when one has already been registered\n",
      "2024-07-10 16:35:23.842294: E external/local_xla/xla/stream_executor/cuda/cuda_blas.cc:1515] Unable to register cuBLAS factory: Attempting to register factory for plugin cuBLAS when one has already been registered\n"
     ]
    }
   ],
   "source": [
    "from sklearn.preprocessing import StandardScaler, FunctionTransformer, OneHotEncoder, TargetEncoder\n",
    "from sklearn.metrics import roc_auc_score, roc_curve, confusion_matrix\n",
    "from sklearn.model_selection import StratifiedKFold\n",
    "from sklearn.compose import ColumnTransformer\n",
    "from scikeras.wrappers import KerasClassifier\n",
    "from sklearn.pipeline import make_pipeline\n",
    "from sklearn.base import clone\n",
    "import matplotlib.pyplot as plt\n",
    "import seaborn as sns\n",
    "import pandas as pd\n",
    "import numpy as np\n",
    "import pickle\n",
    "import keras\n",
    "import gc"
   ]
  },
  {
   "cell_type": "code",
   "execution_count": 3,
   "id": "7e4bda35",
   "metadata": {
    "execution": {
     "iopub.execute_input": "2024-07-10T16:35:38.796514Z",
     "iopub.status.busy": "2024-07-10T16:35:38.795810Z",
     "iopub.status.idle": "2024-07-10T16:35:38.802327Z",
     "shell.execute_reply": "2024-07-10T16:35:38.801141Z"
    },
    "papermill": {
     "duration": 0.016029,
     "end_time": "2024-07-10T16:35:38.805256",
     "exception": false,
     "start_time": "2024-07-10T16:35:38.789227",
     "status": "completed"
    },
    "tags": []
   },
   "outputs": [],
   "source": [
    "TARGET = 'Response'\n",
    "N_FOLDS = 5\n",
    "SEED = 90\n",
    "\n",
    "N_EPOCHS = 50\n",
    "LEARNING_RATE = 0.005\n",
    "BATCH_SIZE = 2048\n",
    "EVAL_BATCH_SIZE = 65536"
   ]
  },
  {
   "cell_type": "code",
   "execution_count": 4,
   "id": "a9fc1183",
   "metadata": {
    "execution": {
     "iopub.execute_input": "2024-07-10T16:35:38.818057Z",
     "iopub.status.busy": "2024-07-10T16:35:38.817625Z",
     "iopub.status.idle": "2024-07-10T16:36:20.100165Z",
     "shell.execute_reply": "2024-07-10T16:36:20.098642Z"
    },
    "papermill": {
     "duration": 41.292334,
     "end_time": "2024-07-10T16:36:20.103354",
     "exception": false,
     "start_time": "2024-07-10T16:35:38.811020",
     "status": "completed"
    },
    "tags": []
   },
   "outputs": [],
   "source": [
    "train = pd.read_csv('/kaggle/input/playground-series-s4e7/train.csv', index_col='id')\n",
    "test = pd.read_csv('/kaggle/input/playground-series-s4e7/test.csv', index_col='id')"
   ]
  },
  {
   "cell_type": "code",
   "execution_count": 5,
   "id": "7515519c",
   "metadata": {
    "execution": {
     "iopub.execute_input": "2024-07-10T16:36:20.116055Z",
     "iopub.status.busy": "2024-07-10T16:36:20.115627Z",
     "iopub.status.idle": "2024-07-10T16:36:21.703480Z",
     "shell.execute_reply": "2024-07-10T16:36:21.702219Z"
    },
    "papermill": {
     "duration": 1.59858,
     "end_time": "2024-07-10T16:36:21.707404",
     "exception": false,
     "start_time": "2024-07-10T16:36:20.108824",
     "status": "completed"
    },
    "tags": []
   },
   "outputs": [],
   "source": [
    "train['is_train'] = 1\n",
    "test['is_train'] = 0\n",
    "combined = pd.concat([train, test], axis=0)"
   ]
  },
  {
   "cell_type": "code",
   "execution_count": 6,
   "id": "15812c74",
   "metadata": {
    "execution": {
     "iopub.execute_input": "2024-07-10T16:36:21.721075Z",
     "iopub.status.busy": "2024-07-10T16:36:21.720658Z",
     "iopub.status.idle": "2024-07-10T16:37:58.961803Z",
     "shell.execute_reply": "2024-07-10T16:37:58.960185Z"
    },
    "papermill": {
     "duration": 97.251447,
     "end_time": "2024-07-10T16:37:58.964911",
     "exception": false,
     "start_time": "2024-07-10T16:36:21.713464",
     "status": "completed"
    },
    "tags": []
   },
   "outputs": [],
   "source": [
    "# Reference: https://www.kaggle.com/code/rohanrao/automl-grand-prix-1st-place-solution | Beware of data leakage\n",
    "combined['Previously_Insured_Annual_Premium'] = pd.factorize(combined['Previously_Insured'].astype(str) + combined['Annual_Premium'].astype(str))[0] \n",
    "combined['Previously_Insured_Vehicle_Age'] = pd.factorize(combined['Previously_Insured'].astype(str) + combined['Vehicle_Age'].astype(str))[0]\n",
    "combined['Previously_Insured_Vehicle_Damage'] = pd.factorize(combined['Previously_Insured'].astype(str) + combined['Vehicle_Damage'].astype(str))[0] \n",
    "combined['Previously_Insured_Vintage'] = pd.factorize(combined['Previously_Insured'].astype(str) + combined['Vintage'].astype(str))[0] \n",
    "\n",
    "train = combined[combined['is_train'] == 1].drop(columns='is_train')\n",
    "test = combined[combined['is_train'] == 0].drop(columns=['is_train', TARGET])\n",
    "\n",
    "del combined"
   ]
  },
  {
   "cell_type": "code",
   "execution_count": 7,
   "id": "36f143e0",
   "metadata": {
    "execution": {
     "iopub.execute_input": "2024-07-10T16:37:58.978238Z",
     "iopub.status.busy": "2024-07-10T16:37:58.977811Z",
     "iopub.status.idle": "2024-07-10T16:37:59.991340Z",
     "shell.execute_reply": "2024-07-10T16:37:59.989542Z"
    },
    "papermill": {
     "duration": 1.023326,
     "end_time": "2024-07-10T16:37:59.994271",
     "exception": false,
     "start_time": "2024-07-10T16:37:58.970945",
     "status": "completed"
    },
    "tags": []
   },
   "outputs": [],
   "source": [
    "X = train.drop(columns=TARGET)\n",
    "y = train[TARGET].astype(int)"
   ]
  },
  {
   "cell_type": "code",
   "execution_count": 8,
   "id": "aa5222b4",
   "metadata": {
    "_kg_hide-output": true,
    "execution": {
     "iopub.execute_input": "2024-07-10T16:38:00.007908Z",
     "iopub.status.busy": "2024-07-10T16:38:00.007417Z",
     "iopub.status.idle": "2024-07-10T16:40:18.417867Z",
     "shell.execute_reply": "2024-07-10T16:40:18.416263Z"
    },
    "papermill": {
     "duration": 138.420795,
     "end_time": "2024-07-10T16:40:18.420863",
     "exception": false,
     "start_time": "2024-07-10T16:38:00.000068",
     "status": "completed"
    },
    "tags": []
   },
   "outputs": [
    {
     "name": "stderr",
     "output_type": "stream",
     "text": [
      "/opt/conda/lib/python3.10/site-packages/sklearn/preprocessing/_encoders.py:241: UserWarning: Found unknown categories in columns [4] during transform. These unknown categories will be encoded as all zeros\n",
      "  warnings.warn(\n"
     ]
    },
    {
     "data": {
      "text/plain": [
       "81"
      ]
     },
     "execution_count": 8,
     "metadata": {},
     "output_type": "execute_result"
    }
   ],
   "source": [
    "ohe_columns = [\n",
    "    'Gender',\n",
    "    'Region_Code',\n",
    "    'Vehicle_Age',\n",
    "    'Vehicle_Damage',\n",
    "    'Policy_Sales_Channel',\n",
    "    'Vintage',\n",
    "    'Previously_Insured_Vehicle_Age',\n",
    "    'Previously_Insured_Vehicle_Damage'\n",
    "]\n",
    "pipeline = make_pipeline(\n",
    "    ColumnTransformer(\n",
    "        [\n",
    "            ('one-hot-encode', OneHotEncoder(drop='first', sparse_output=True, dtype=np.float32, max_categories=200, handle_unknown='ignore'), ohe_columns),\n",
    "            ('target-encode', make_pipeline(TargetEncoder(), FunctionTransformer(lambda x: x.astype(np.float32)), StandardScaler()), ['Annual_Premium']),\n",
    "        ],\n",
    "        remainder=make_pipeline(FunctionTransformer(lambda X: X.astype(np.float32)), StandardScaler(copy=False))\n",
    "    )\n",
    ")\n",
    "\n",
    "X = pipeline.fit_transform(X, y)\n",
    "X_test = pipeline.transform(test)\n",
    "\n",
    "del train, test, pipeline\n",
    "gc.collect()"
   ]
  },
  {
   "cell_type": "code",
   "execution_count": 9,
   "id": "da712126",
   "metadata": {
    "execution": {
     "iopub.execute_input": "2024-07-10T16:40:18.435662Z",
     "iopub.status.busy": "2024-07-10T16:40:18.435225Z",
     "iopub.status.idle": "2024-07-10T16:40:18.453365Z",
     "shell.execute_reply": "2024-07-10T16:40:18.452112Z"
    },
    "papermill": {
     "duration": 0.028615,
     "end_time": "2024-07-10T16:40:18.456153",
     "exception": false,
     "start_time": "2024-07-10T16:40:18.427538",
     "status": "completed"
    },
    "tags": []
   },
   "outputs": [],
   "source": [
    "class Trainer:\n",
    "    def __init__(self, model, n_folds=N_FOLDS):\n",
    "        self.model = model\n",
    "        self.n_folds = n_folds\n",
    "\n",
    "    def fit_predict(self, X, y, X_test):\n",
    "        print(f'Training {self.model.__class__.__name__}\\n')\n",
    "        \n",
    "        scores = []        \n",
    "        oof_pred_probs = np.zeros((X.shape[0], len(np.unique(y))))\n",
    "        test_pred_probs = np.zeros((X_test.shape[0], len(np.unique(y))))\n",
    "        \n",
    "        skf = StratifiedKFold(n_splits=self.n_folds, random_state=SEED, shuffle=True)\n",
    "        for fold_idx, (train_idx, val_idx) in enumerate(skf.split(X, y)):\n",
    "            X_train, X_val = X[train_idx], X[val_idx]\n",
    "            y_train, y_val = y[train_idx], y[val_idx]\n",
    "            \n",
    "            model = clone(self.model)\n",
    "            model.fit(X_train, y_train)\n",
    "            \n",
    "            y_pred_probs = model.predict_proba(X_val)\n",
    "            oof_pred_probs[val_idx] = y_pred_probs            \n",
    "            score = roc_auc_score(y_val, y_pred_probs[:, 1])\n",
    "            scores.append(score)\n",
    "            \n",
    "            temp_test_pred_probs = model.predict_proba(X_test)\n",
    "            test_pred_probs += temp_test_pred_probs / self.n_folds\n",
    "            \n",
    "            print(f'\\n--- Fold {fold_idx + 1} - AUC: {score:.5f}\\n\\n')\n",
    "            \n",
    "            del model\n",
    "            gc.collect()\n",
    "            \n",
    "        self._save_pred_probs(oof_pred_probs, np.mean(scores), 'oof')\n",
    "        self._save_pred_probs(test_pred_probs, np.mean(scores), 'test')\n",
    "        self._save_submission(test_pred_probs, np.mean(scores))\n",
    "        \n",
    "        print(f'------ Average AUC:      {np.mean(scores):.5f} ± {np.std(scores):.5f}\\n\\n')\n",
    "        \n",
    "        return oof_pred_probs, scores\n",
    "        \n",
    "    def _save_pred_probs(self, pred_probs, cv_score, name):\n",
    "        model_name = self.model.__class__.__name__.lower().replace('classifier', '')\n",
    "        with open(f'{model_name}_{name}_pred_probs_{cv_score:.5f}.pkl', 'wb') as f:\n",
    "            pickle.dump(pred_probs, f)\n",
    "    \n",
    "    def _save_submission(self, test_pred_probs, score):\n",
    "        sub = pd.read_csv('/kaggle/input/playground-series-s4e7/sample_submission.csv')\n",
    "        \n",
    "        sub['id'] = sub['id']\n",
    "        sub[TARGET] = test_pred_probs[:, 1]\n",
    "        \n",
    "        name = self.model.__class__.__name__.lower().replace('classifier', '')\n",
    "        sub.to_csv(f'sub_{name}_{score:.5f}.csv', index=False)"
   ]
  },
  {
   "cell_type": "code",
   "execution_count": 10,
   "id": "f9f47f00",
   "metadata": {
    "execution": {
     "iopub.execute_input": "2024-07-10T16:40:18.470579Z",
     "iopub.status.busy": "2024-07-10T16:40:18.470153Z",
     "iopub.status.idle": "2024-07-10T16:40:18.478770Z",
     "shell.execute_reply": "2024-07-10T16:40:18.477492Z"
    },
    "papermill": {
     "duration": 0.019351,
     "end_time": "2024-07-10T16:40:18.481652",
     "exception": false,
     "start_time": "2024-07-10T16:40:18.462301",
     "status": "completed"
    },
    "tags": []
   },
   "outputs": [],
   "source": [
    "def get_model(meta):\n",
    "    model = keras.models.Sequential()\n",
    "    model.add(keras.layers.Input(meta[\"X_shape_\"][1:]))\n",
    "    model.add(keras.layers.Dense(512, kernel_initializer='lecun_normal', activation='selu'))\n",
    "    model.add(keras.layers.Dense(256, kernel_initializer='lecun_normal', activation='selu'))\n",
    "    model.add(keras.layers.Dense(128, kernel_initializer='lecun_normal', activation='selu'))\n",
    "    model.add(keras.layers.Dense(1, kernel_initializer='lecun_normal', activation='sigmoid'))\n",
    "    return model"
   ]
  },
  {
   "cell_type": "code",
   "execution_count": 11,
   "id": "ac9a34f7",
   "metadata": {
    "execution": {
     "iopub.execute_input": "2024-07-10T16:40:18.495703Z",
     "iopub.status.busy": "2024-07-10T16:40:18.495270Z",
     "iopub.status.idle": "2024-07-10T16:40:18.553353Z",
     "shell.execute_reply": "2024-07-10T16:40:18.552160Z"
    },
    "papermill": {
     "duration": 0.068557,
     "end_time": "2024-07-10T16:40:18.556365",
     "exception": false,
     "start_time": "2024-07-10T16:40:18.487808",
     "status": "completed"
    },
    "tags": []
   },
   "outputs": [],
   "source": [
    "model = KerasClassifier(\n",
    "    get_model,\n",
    "    loss=\"binary_crossentropy\",\n",
    "    metrics=[keras.metrics.AUC(name='auc')],\n",
    "    optimizer=keras.optimizers.AdamW(learning_rate=LEARNING_RATE),\n",
    "    validation_split=0.1,\n",
    "    batch_size=BATCH_SIZE,\n",
    "    validation_batch_size=EVAL_BATCH_SIZE,\n",
    "    epochs=N_EPOCHS,\n",
    "    callbacks=[\n",
    "        keras.callbacks.ReduceLROnPlateau(monitor='val_auc', patience=3, factor=0.5),\n",
    "        keras.callbacks.EarlyStopping(monitor='val_auc', patience=3)\n",
    "    ]\n",
    ")"
   ]
  },
  {
   "cell_type": "code",
   "execution_count": 12,
   "id": "709e31ed",
   "metadata": {
    "_kg_hide-output": true,
    "execution": {
     "iopub.execute_input": "2024-07-10T16:40:18.571046Z",
     "iopub.status.busy": "2024-07-10T16:40:18.570508Z",
     "iopub.status.idle": "2024-07-10T23:02:51.317296Z",
     "shell.execute_reply": "2024-07-10T23:02:51.315151Z"
    },
    "papermill": {
     "duration": 22952.757936,
     "end_time": "2024-07-10T23:02:51.320403",
     "exception": false,
     "start_time": "2024-07-10T16:40:18.562467",
     "status": "completed"
    },
    "tags": []
   },
   "outputs": [
    {
     "name": "stdout",
     "output_type": "stream",
     "text": [
      "Training KerasClassifier\n",
      "\n",
      "Epoch 1/50\n",
      "\u001b[1m4045/4045\u001b[0m \u001b[32m━━━━━━━━━━━━━━━━━━━━\u001b[0m\u001b[37m\u001b[0m \u001b[1m425s\u001b[0m 104ms/step - auc: 0.8793 - loss: 0.2533 - val_auc: 0.8865 - val_loss: 0.2498 - learning_rate: 0.0050\n",
      "Epoch 2/50\n",
      "\u001b[1m4045/4045\u001b[0m \u001b[32m━━━━━━━━━━━━━━━━━━━━\u001b[0m\u001b[37m\u001b[0m \u001b[1m429s\u001b[0m 106ms/step - auc: 0.8847 - loss: 0.2484 - val_auc: 0.8879 - val_loss: 0.2454 - learning_rate: 0.0050\n",
      "Epoch 3/50\n",
      "\u001b[1m4045/4045\u001b[0m \u001b[32m━━━━━━━━━━━━━━━━━━━━\u001b[0m\u001b[37m\u001b[0m \u001b[1m351s\u001b[0m 87ms/step - auc: 0.8860 - loss: 0.2474 - val_auc: 0.8882 - val_loss: 0.2455 - learning_rate: 0.0050\n",
      "Epoch 4/50\n",
      "\u001b[1m4045/4045\u001b[0m \u001b[32m━━━━━━━━━━━━━━━━━━━━\u001b[0m\u001b[37m\u001b[0m \u001b[1m367s\u001b[0m 90ms/step - auc: 0.8860 - loss: 0.2474 - val_auc: 0.8885 - val_loss: 0.2475 - learning_rate: 0.0050\n",
      "Epoch 5/50\n",
      "\u001b[1m4045/4045\u001b[0m \u001b[32m━━━━━━━━━━━━━━━━━━━━\u001b[0m\u001b[37m\u001b[0m \u001b[1m381s\u001b[0m 90ms/step - auc: 0.8877 - loss: 0.2457 - val_auc: 0.8889 - val_loss: 0.2474 - learning_rate: 0.0025\n",
      "Epoch 6/50\n",
      "\u001b[1m4045/4045\u001b[0m \u001b[32m━━━━━━━━━━━━━━━━━━━━\u001b[0m\u001b[37m\u001b[0m \u001b[1m357s\u001b[0m 88ms/step - auc: 0.8883 - loss: 0.2455 - val_auc: 0.8886 - val_loss: 0.2448 - learning_rate: 0.0025\n",
      "Epoch 7/50\n",
      "\u001b[1m4045/4045\u001b[0m \u001b[32m━━━━━━━━━━━━━━━━━━━━\u001b[0m\u001b[37m\u001b[0m \u001b[1m367s\u001b[0m 91ms/step - auc: 0.8879 - loss: 0.2458 - val_auc: 0.8889 - val_loss: 0.2447 - learning_rate: 0.0025\n",
      "Epoch 8/50\n",
      "\u001b[1m4045/4045\u001b[0m \u001b[32m━━━━━━━━━━━━━━━━━━━━\u001b[0m\u001b[37m\u001b[0m \u001b[1m347s\u001b[0m 86ms/step - auc: 0.8891 - loss: 0.2448 - val_auc: 0.8891 - val_loss: 0.2456 - learning_rate: 0.0012\n",
      "Epoch 9/50\n",
      "\u001b[1m4045/4045\u001b[0m \u001b[32m━━━━━━━━━━━━━━━━━━━━\u001b[0m\u001b[37m\u001b[0m \u001b[1m383s\u001b[0m 86ms/step - auc: 0.8892 - loss: 0.2446 - val_auc: 0.8893 - val_loss: 0.2454 - learning_rate: 0.0012\n",
      "Epoch 10/50\n",
      "\u001b[1m4045/4045\u001b[0m \u001b[32m━━━━━━━━━━━━━━━━━━━━\u001b[0m\u001b[37m\u001b[0m \u001b[1m344s\u001b[0m 85ms/step - auc: 0.8893 - loss: 0.2446 - val_auc: 0.8892 - val_loss: 0.2451 - learning_rate: 0.0012\n",
      "Epoch 11/50\n",
      "\u001b[1m4045/4045\u001b[0m \u001b[32m━━━━━━━━━━━━━━━━━━━━\u001b[0m\u001b[37m\u001b[0m \u001b[1m350s\u001b[0m 86ms/step - auc: 0.8900 - loss: 0.2442 - val_auc: 0.8892 - val_loss: 0.2441 - learning_rate: 6.2500e-04\n",
      "Epoch 12/50\n",
      "\u001b[1m4045/4045\u001b[0m \u001b[32m━━━━━━━━━━━━━━━━━━━━\u001b[0m\u001b[37m\u001b[0m \u001b[1m345s\u001b[0m 85ms/step - auc: 0.8899 - loss: 0.2439 - val_auc: 0.8891 - val_loss: 0.2444 - learning_rate: 6.2500e-04\n",
      "\u001b[1m1124/1124\u001b[0m \u001b[32m━━━━━━━━━━━━━━━━━━━━\u001b[0m\u001b[37m\u001b[0m \u001b[1m59s\u001b[0m 52ms/step\n",
      "\u001b[1m3746/3746\u001b[0m \u001b[32m━━━━━━━━━━━━━━━━━━━━\u001b[0m\u001b[37m\u001b[0m \u001b[1m167s\u001b[0m 44ms/step\n",
      "\n",
      "--- Fold 1 - AUC: 0.88889\n",
      "\n",
      "\n",
      "Epoch 1/50\n",
      "\u001b[1m4045/4045\u001b[0m \u001b[32m━━━━━━━━━━━━━━━━━━━━\u001b[0m\u001b[37m\u001b[0m \u001b[1m375s\u001b[0m 91ms/step - auc: 0.8789 - loss: 0.2536 - val_auc: 0.8856 - val_loss: 0.2475 - learning_rate: 0.0050\n",
      "Epoch 2/50\n",
      "\u001b[1m4045/4045\u001b[0m \u001b[32m━━━━━━━━━━━━━━━━━━━━\u001b[0m\u001b[37m\u001b[0m \u001b[1m358s\u001b[0m 88ms/step - auc: 0.8848 - loss: 0.2484 - val_auc: 0.8875 - val_loss: 0.2481 - learning_rate: 0.0050\n",
      "Epoch 3/50\n",
      "\u001b[1m4045/4045\u001b[0m \u001b[32m━━━━━━━━━━━━━━━━━━━━\u001b[0m\u001b[37m\u001b[0m \u001b[1m350s\u001b[0m 86ms/step - auc: 0.8859 - loss: 0.2475 - val_auc: 0.8877 - val_loss: 0.2460 - learning_rate: 0.0050\n",
      "Epoch 4/50\n",
      "\u001b[1m4045/4045\u001b[0m \u001b[32m━━━━━━━━━━━━━━━━━━━━\u001b[0m\u001b[37m\u001b[0m \u001b[1m353s\u001b[0m 87ms/step - auc: 0.8865 - loss: 0.2471 - val_auc: 0.8877 - val_loss: 0.2459 - learning_rate: 0.0050\n",
      "Epoch 5/50\n",
      "\u001b[1m4045/4045\u001b[0m \u001b[32m━━━━━━━━━━━━━━━━━━━━\u001b[0m\u001b[37m\u001b[0m \u001b[1m352s\u001b[0m 87ms/step - auc: 0.8878 - loss: 0.2460 - val_auc: 0.8885 - val_loss: 0.2481 - learning_rate: 0.0025\n",
      "Epoch 6/50\n",
      "\u001b[1m4045/4045\u001b[0m \u001b[32m━━━━━━━━━━━━━━━━━━━━\u001b[0m\u001b[37m\u001b[0m \u001b[1m349s\u001b[0m 86ms/step - auc: 0.8882 - loss: 0.2454 - val_auc: 0.8886 - val_loss: 0.2473 - learning_rate: 0.0025\n",
      "Epoch 7/50\n",
      "\u001b[1m4045/4045\u001b[0m \u001b[32m━━━━━━━━━━━━━━━━━━━━\u001b[0m\u001b[37m\u001b[0m \u001b[1m346s\u001b[0m 85ms/step - auc: 0.8881 - loss: 0.2456 - val_auc: 0.8884 - val_loss: 0.2456 - learning_rate: 0.0025\n",
      "Epoch 8/50\n",
      "\u001b[1m4045/4045\u001b[0m \u001b[32m━━━━━━━━━━━━━━━━━━━━\u001b[0m\u001b[37m\u001b[0m \u001b[1m351s\u001b[0m 86ms/step - auc: 0.8889 - loss: 0.2449 - val_auc: 0.8889 - val_loss: 0.2445 - learning_rate: 0.0012\n",
      "Epoch 9/50\n",
      "\u001b[1m4045/4045\u001b[0m \u001b[32m━━━━━━━━━━━━━━━━━━━━\u001b[0m\u001b[37m\u001b[0m \u001b[1m348s\u001b[0m 86ms/step - auc: 0.8893 - loss: 0.2449 - val_auc: 0.8889 - val_loss: 0.2447 - learning_rate: 0.0012\n",
      "Epoch 10/50\n",
      "\u001b[1m4045/4045\u001b[0m \u001b[32m━━━━━━━━━━━━━━━━━━━━\u001b[0m\u001b[37m\u001b[0m \u001b[1m352s\u001b[0m 87ms/step - auc: 0.8895 - loss: 0.2445 - val_auc: 0.8889 - val_loss: 0.2448 - learning_rate: 0.0012\n",
      "Epoch 11/50\n",
      "\u001b[1m4045/4045\u001b[0m \u001b[32m━━━━━━━━━━━━━━━━━━━━\u001b[0m\u001b[37m\u001b[0m \u001b[1m352s\u001b[0m 87ms/step - auc: 0.8901 - loss: 0.2440 - val_auc: 0.8889 - val_loss: 0.2446 - learning_rate: 6.2500e-04\n",
      "\u001b[1m1124/1124\u001b[0m \u001b[32m━━━━━━━━━━━━━━━━━━━━\u001b[0m\u001b[37m\u001b[0m \u001b[1m67s\u001b[0m 59ms/step\n",
      "\u001b[1m3746/3746\u001b[0m \u001b[32m━━━━━━━━━━━━━━━━━━━━\u001b[0m\u001b[37m\u001b[0m \u001b[1m167s\u001b[0m 44ms/step\n",
      "\n",
      "--- Fold 2 - AUC: 0.88881\n",
      "\n",
      "\n",
      "Epoch 1/50\n",
      "\u001b[1m4045/4045\u001b[0m \u001b[32m━━━━━━━━━━━━━━━━━━━━\u001b[0m\u001b[37m\u001b[0m \u001b[1m361s\u001b[0m 87ms/step - auc: 0.8789 - loss: 0.2540 - val_auc: 0.8868 - val_loss: 0.2477 - learning_rate: 0.0050\n",
      "Epoch 2/50\n",
      "\u001b[1m4045/4045\u001b[0m \u001b[32m━━━━━━━━━━━━━━━━━━━━\u001b[0m\u001b[37m\u001b[0m \u001b[1m334s\u001b[0m 82ms/step - auc: 0.8848 - loss: 0.2484 - val_auc: 0.8877 - val_loss: 0.2476 - learning_rate: 0.0050\n",
      "Epoch 3/50\n",
      "\u001b[1m4045/4045\u001b[0m \u001b[32m━━━━━━━━━━━━━━━━━━━━\u001b[0m\u001b[37m\u001b[0m \u001b[1m323s\u001b[0m 80ms/step - auc: 0.8854 - loss: 0.2479 - val_auc: 0.8882 - val_loss: 0.2460 - learning_rate: 0.0050\n",
      "Epoch 4/50\n",
      "\u001b[1m4045/4045\u001b[0m \u001b[32m━━━━━━━━━━━━━━━━━━━━\u001b[0m\u001b[37m\u001b[0m \u001b[1m320s\u001b[0m 79ms/step - auc: 0.8866 - loss: 0.2469 - val_auc: 0.8884 - val_loss: 0.2502 - learning_rate: 0.0050\n",
      "Epoch 5/50\n",
      "\u001b[1m4045/4045\u001b[0m \u001b[32m━━━━━━━━━━━━━━━━━━━━\u001b[0m\u001b[37m\u001b[0m \u001b[1m323s\u001b[0m 80ms/step - auc: 0.8879 - loss: 0.2457 - val_auc: 0.8889 - val_loss: 0.2456 - learning_rate: 0.0025\n",
      "Epoch 6/50\n",
      "\u001b[1m4045/4045\u001b[0m \u001b[32m━━━━━━━━━━━━━━━━━━━━\u001b[0m\u001b[37m\u001b[0m \u001b[1m320s\u001b[0m 79ms/step - auc: 0.8881 - loss: 0.2455 - val_auc: 0.8889 - val_loss: 0.2449 - learning_rate: 0.0025\n",
      "Epoch 7/50\n",
      "\u001b[1m4045/4045\u001b[0m \u001b[32m━━━━━━━━━━━━━━━━━━━━\u001b[0m\u001b[37m\u001b[0m \u001b[1m324s\u001b[0m 79ms/step - auc: 0.8883 - loss: 0.2456 - val_auc: 0.8892 - val_loss: 0.2450 - learning_rate: 0.0025\n",
      "Epoch 8/50\n",
      "\u001b[1m4045/4045\u001b[0m \u001b[32m━━━━━━━━━━━━━━━━━━━━\u001b[0m\u001b[37m\u001b[0m \u001b[1m321s\u001b[0m 79ms/step - auc: 0.8893 - loss: 0.2446 - val_auc: 0.8893 - val_loss: 0.2442 - learning_rate: 0.0012\n",
      "Epoch 9/50\n",
      "\u001b[1m4045/4045\u001b[0m \u001b[32m━━━━━━━━━━━━━━━━━━━━\u001b[0m\u001b[37m\u001b[0m \u001b[1m322s\u001b[0m 79ms/step - auc: 0.8894 - loss: 0.2443 - val_auc: 0.8893 - val_loss: 0.2441 - learning_rate: 0.0012\n",
      "Epoch 10/50\n",
      "\u001b[1m4045/4045\u001b[0m \u001b[32m━━━━━━━━━━━━━━━━━━━━\u001b[0m\u001b[37m\u001b[0m \u001b[1m322s\u001b[0m 79ms/step - auc: 0.8895 - loss: 0.2443 - val_auc: 0.8892 - val_loss: 0.2446 - learning_rate: 0.0012\n",
      "Epoch 11/50\n",
      "\u001b[1m4045/4045\u001b[0m \u001b[32m━━━━━━━━━━━━━━━━━━━━\u001b[0m\u001b[37m\u001b[0m \u001b[1m384s\u001b[0m 80ms/step - auc: 0.8901 - loss: 0.2440 - val_auc: 0.8892 - val_loss: 0.2442 - learning_rate: 6.2500e-04\n",
      "Epoch 12/50\n",
      "\u001b[1m4045/4045\u001b[0m \u001b[32m━━━━━━━━━━━━━━━━━━━━\u001b[0m\u001b[37m\u001b[0m \u001b[1m321s\u001b[0m 79ms/step - auc: 0.8903 - loss: 0.2438 - val_auc: 0.8891 - val_loss: 0.2442 - learning_rate: 6.2500e-04\n",
      "\u001b[1m1124/1124\u001b[0m \u001b[32m━━━━━━━━━━━━━━━━━━━━\u001b[0m\u001b[37m\u001b[0m \u001b[1m49s\u001b[0m 43ms/step\n",
      "\u001b[1m3746/3746\u001b[0m \u001b[32m━━━━━━━━━━━━━━━━━━━━\u001b[0m\u001b[37m\u001b[0m \u001b[1m176s\u001b[0m 47ms/step\n",
      "\n",
      "--- Fold 3 - AUC: 0.88887\n",
      "\n",
      "\n",
      "Epoch 1/50\n",
      "\u001b[1m4045/4045\u001b[0m \u001b[32m━━━━━━━━━━━━━━━━━━━━\u001b[0m\u001b[37m\u001b[0m \u001b[1m335s\u001b[0m 81ms/step - auc: 0.8784 - loss: 0.2544 - val_auc: 0.8862 - val_loss: 0.2476 - learning_rate: 0.0050\n",
      "Epoch 2/50\n",
      "\u001b[1m4045/4045\u001b[0m \u001b[32m━━━━━━━━━━━━━━━━━━━━\u001b[0m\u001b[37m\u001b[0m \u001b[1m339s\u001b[0m 84ms/step - auc: 0.8848 - loss: 0.2482 - val_auc: 0.8877 - val_loss: 0.2503 - learning_rate: 0.0050\n",
      "Epoch 3/50\n",
      "\u001b[1m4045/4045\u001b[0m \u001b[32m━━━━━━━━━━━━━━━━━━━━\u001b[0m\u001b[37m\u001b[0m \u001b[1m319s\u001b[0m 79ms/step - auc: 0.8857 - loss: 0.2476 - val_auc: 0.8880 - val_loss: 0.2459 - learning_rate: 0.0050\n",
      "Epoch 4/50\n",
      "\u001b[1m4045/4045\u001b[0m \u001b[32m━━━━━━━━━━━━━━━━━━━━\u001b[0m\u001b[37m\u001b[0m \u001b[1m319s\u001b[0m 79ms/step - auc: 0.8861 - loss: 0.2471 - val_auc: 0.8882 - val_loss: 0.2450 - learning_rate: 0.0050\n",
      "Epoch 5/50\n",
      "\u001b[1m4045/4045\u001b[0m \u001b[32m━━━━━━━━━━━━━━━━━━━━\u001b[0m\u001b[37m\u001b[0m \u001b[1m354s\u001b[0m 87ms/step - auc: 0.8876 - loss: 0.2459 - val_auc: 0.8889 - val_loss: 0.2444 - learning_rate: 0.0025\n",
      "Epoch 6/50\n",
      "\u001b[1m4045/4045\u001b[0m \u001b[32m━━━━━━━━━━━━━━━━━━━━\u001b[0m\u001b[37m\u001b[0m \u001b[1m357s\u001b[0m 88ms/step - auc: 0.8880 - loss: 0.2458 - val_auc: 0.8891 - val_loss: 0.2446 - learning_rate: 0.0025\n",
      "Epoch 7/50\n",
      "\u001b[1m4045/4045\u001b[0m \u001b[32m━━━━━━━━━━━━━━━━━━━━\u001b[0m\u001b[37m\u001b[0m \u001b[1m322s\u001b[0m 79ms/step - auc: 0.8881 - loss: 0.2456 - val_auc: 0.8889 - val_loss: 0.2445 - learning_rate: 0.0025\n",
      "Epoch 8/50\n",
      "\u001b[1m4045/4045\u001b[0m \u001b[32m━━━━━━━━━━━━━━━━━━━━\u001b[0m\u001b[37m\u001b[0m \u001b[1m340s\u001b[0m 84ms/step - auc: 0.8891 - loss: 0.2447 - val_auc: 0.8892 - val_loss: 0.2446 - learning_rate: 0.0012\n",
      "Epoch 9/50\n",
      "\u001b[1m4045/4045\u001b[0m \u001b[32m━━━━━━━━━━━━━━━━━━━━\u001b[0m\u001b[37m\u001b[0m \u001b[1m322s\u001b[0m 79ms/step - auc: 0.8894 - loss: 0.2447 - val_auc: 0.8891 - val_loss: 0.2442 - learning_rate: 0.0012\n",
      "Epoch 10/50\n",
      "\u001b[1m4045/4045\u001b[0m \u001b[32m━━━━━━━━━━━━━━━━━━━━\u001b[0m\u001b[37m\u001b[0m \u001b[1m318s\u001b[0m 78ms/step - auc: 0.8896 - loss: 0.2444 - val_auc: 0.8891 - val_loss: 0.2456 - learning_rate: 0.0012\n",
      "Epoch 11/50\n",
      "\u001b[1m4045/4045\u001b[0m \u001b[32m━━━━━━━━━━━━━━━━━━━━\u001b[0m\u001b[37m\u001b[0m \u001b[1m325s\u001b[0m 80ms/step - auc: 0.8900 - loss: 0.2439 - val_auc: 0.8892 - val_loss: 0.2443 - learning_rate: 6.2500e-04\n",
      "Epoch 12/50\n",
      "\u001b[1m4045/4045\u001b[0m \u001b[32m━━━━━━━━━━━━━━━━━━━━\u001b[0m\u001b[37m\u001b[0m \u001b[1m318s\u001b[0m 78ms/step - auc: 0.8901 - loss: 0.2440 - val_auc: 0.8892 - val_loss: 0.2441 - learning_rate: 6.2500e-04\n",
      "Epoch 13/50\n",
      "\u001b[1m4045/4045\u001b[0m \u001b[32m━━━━━━━━━━━━━━━━━━━━\u001b[0m\u001b[37m\u001b[0m \u001b[1m321s\u001b[0m 79ms/step - auc: 0.8904 - loss: 0.2436 - val_auc: 0.8891 - val_loss: 0.2442 - learning_rate: 6.2500e-04\n",
      "Epoch 14/50\n",
      "\u001b[1m4045/4045\u001b[0m \u001b[32m━━━━━━━━━━━━━━━━━━━━\u001b[0m\u001b[37m\u001b[0m \u001b[1m319s\u001b[0m 79ms/step - auc: 0.8907 - loss: 0.2434 - val_auc: 0.8891 - val_loss: 0.2443 - learning_rate: 3.1250e-04\n",
      "\u001b[1m1124/1124\u001b[0m \u001b[32m━━━━━━━━━━━━━━━━━━━━\u001b[0m\u001b[37m\u001b[0m \u001b[1m40s\u001b[0m 35ms/step\n",
      "\u001b[1m3746/3746\u001b[0m \u001b[32m━━━━━━━━━━━━━━━━━━━━\u001b[0m\u001b[37m\u001b[0m \u001b[1m180s\u001b[0m 48ms/step\n",
      "\n",
      "--- Fold 4 - AUC: 0.88855\n",
      "\n",
      "\n",
      "Epoch 1/50\n",
      "\u001b[1m4045/4045\u001b[0m \u001b[32m━━━━━━━━━━━━━━━━━━━━\u001b[0m\u001b[37m\u001b[0m \u001b[1m374s\u001b[0m 90ms/step - auc: 0.8789 - loss: 0.2542 - val_auc: 0.8863 - val_loss: 0.2537 - learning_rate: 0.0050\n",
      "Epoch 2/50\n",
      "\u001b[1m4045/4045\u001b[0m \u001b[32m━━━━━━━━━━━━━━━━━━━━\u001b[0m\u001b[37m\u001b[0m \u001b[1m375s\u001b[0m 88ms/step - auc: 0.8849 - loss: 0.2484 - val_auc: 0.8875 - val_loss: 0.2483 - learning_rate: 0.0050\n",
      "Epoch 3/50\n",
      "\u001b[1m4045/4045\u001b[0m \u001b[32m━━━━━━━━━━━━━━━━━━━━\u001b[0m\u001b[37m\u001b[0m \u001b[1m358s\u001b[0m 88ms/step - auc: 0.8857 - loss: 0.2478 - val_auc: 0.8880 - val_loss: 0.2511 - learning_rate: 0.0050\n",
      "Epoch 4/50\n",
      "\u001b[1m4045/4045\u001b[0m \u001b[32m━━━━━━━━━━━━━━━━━━━━\u001b[0m\u001b[37m\u001b[0m \u001b[1m361s\u001b[0m 89ms/step - auc: 0.8865 - loss: 0.2469 - val_auc: 0.8881 - val_loss: 0.2452 - learning_rate: 0.0050\n",
      "Epoch 5/50\n",
      "\u001b[1m4045/4045\u001b[0m \u001b[32m━━━━━━━━━━━━━━━━━━━━\u001b[0m\u001b[37m\u001b[0m \u001b[1m355s\u001b[0m 87ms/step - auc: 0.8877 - loss: 0.2461 - val_auc: 0.8883 - val_loss: 0.2462 - learning_rate: 0.0025\n",
      "Epoch 6/50\n",
      "\u001b[1m4045/4045\u001b[0m \u001b[32m━━━━━━━━━━━━━━━━━━━━\u001b[0m\u001b[37m\u001b[0m \u001b[1m360s\u001b[0m 89ms/step - auc: 0.8878 - loss: 0.2459 - val_auc: 0.8887 - val_loss: 0.2450 - learning_rate: 0.0025\n",
      "Epoch 7/50\n",
      "\u001b[1m4045/4045\u001b[0m \u001b[32m━━━━━━━━━━━━━━━━━━━━\u001b[0m\u001b[37m\u001b[0m \u001b[1m387s\u001b[0m 95ms/step - auc: 0.8882 - loss: 0.2455 - val_auc: 0.8888 - val_loss: 0.2452 - learning_rate: 0.0025\n",
      "Epoch 8/50\n",
      "\u001b[1m4045/4045\u001b[0m \u001b[32m━━━━━━━━━━━━━━━━━━━━\u001b[0m\u001b[37m\u001b[0m \u001b[1m362s\u001b[0m 89ms/step - auc: 0.8892 - loss: 0.2448 - val_auc: 0.8889 - val_loss: 0.2447 - learning_rate: 0.0012\n",
      "Epoch 9/50\n",
      "\u001b[1m4045/4045\u001b[0m \u001b[32m━━━━━━━━━━━━━━━━━━━━\u001b[0m\u001b[37m\u001b[0m \u001b[1m356s\u001b[0m 88ms/step - auc: 0.8892 - loss: 0.2448 - val_auc: 0.8888 - val_loss: 0.2445 - learning_rate: 0.0012\n",
      "Epoch 10/50\n",
      "\u001b[1m4045/4045\u001b[0m \u001b[32m━━━━━━━━━━━━━━━━━━━━\u001b[0m\u001b[37m\u001b[0m \u001b[1m361s\u001b[0m 89ms/step - auc: 0.8894 - loss: 0.2447 - val_auc: 0.8889 - val_loss: 0.2447 - learning_rate: 0.0012\n",
      "Epoch 11/50\n",
      "\u001b[1m4045/4045\u001b[0m \u001b[32m━━━━━━━━━━━━━━━━━━━━\u001b[0m\u001b[37m\u001b[0m \u001b[1m362s\u001b[0m 89ms/step - auc: 0.8903 - loss: 0.2439 - val_auc: 0.8889 - val_loss: 0.2445 - learning_rate: 6.2500e-04\n",
      "\u001b[1m1124/1124\u001b[0m \u001b[32m━━━━━━━━━━━━━━━━━━━━\u001b[0m\u001b[37m\u001b[0m \u001b[1m63s\u001b[0m 56ms/step\n",
      "\u001b[1m3746/3746\u001b[0m \u001b[32m━━━━━━━━━━━━━━━━━━━━\u001b[0m\u001b[37m\u001b[0m \u001b[1m172s\u001b[0m 46ms/step\n",
      "\n",
      "--- Fold 5 - AUC: 0.88854\n",
      "\n",
      "\n",
      "------ Average AUC:      0.88873 ± 0.00015\n",
      "\n",
      "\n"
     ]
    }
   ],
   "source": [
    "trainer = Trainer(model)\n",
    "oof_pred_probs, scores = trainer.fit_predict(X, y, X_test)"
   ]
  },
  {
   "cell_type": "code",
   "execution_count": 13,
   "id": "8373dddb",
   "metadata": {
    "execution": {
     "iopub.execute_input": "2024-07-10T23:03:44.770807Z",
     "iopub.status.busy": "2024-07-10T23:03:44.770281Z",
     "iopub.status.idle": "2024-07-10T23:04:00.125719Z",
     "shell.execute_reply": "2024-07-10T23:04:00.124453Z"
    },
    "papermill": {
     "duration": 42.321342,
     "end_time": "2024-07-10T23:04:00.129138",
     "exception": false,
     "start_time": "2024-07-10T23:03:17.807796",
     "status": "completed"
    },
    "tags": []
   },
   "outputs": [
    {
     "data": {
      "image/png": "[encoded data removed]",
      "text/plain": [
       "<Figure size 1400x700 with 2 Axes>"
      ]
     },
     "metadata": {},
     "output_type": "display_data"
    }
   ],
   "source": [
    "fig, axes = plt.subplots(nrows=1, ncols=2, figsize=(14, 7))\n",
    "\n",
    "fpr, tpr, _ = roc_curve(y, oof_pred_probs[:, 1])\n",
    "axes[0].plot(fpr, tpr, label=f'AUC: {np.mean(scores):.5f}', color='#651FFF')\n",
    "axes[0].plot([0, 1], [0, 1], color='black', linestyle='--')\n",
    "axes[0].set_xlabel('False Positive Rate')\n",
    "axes[0].set_ylabel('True Positive Rate')\n",
    "axes[0].legend()\n",
    "axes[0].grid(True)\n",
    "axes[0].set_aspect('equal', adjustable='box')\n",
    "\n",
    "y_pred = oof_pred_probs.argmax(axis=1)\n",
    "cm = confusion_matrix(y, y_pred)\n",
    "sns.heatmap(\n",
    "    cm, \n",
    "    annot=True, \n",
    "    fmt='d', \n",
    "    ax=axes[1], \n",
    "    cbar=False,\n",
    "    cmap=sns.light_palette('#651FFF', reverse=False, as_cmap=True), \n",
    ")\n",
    "axes[1].set_xlabel('Predicted')\n",
    "axes[1].set_ylabel('Actual')\n",
    "axes[1].set_aspect('equal', adjustable='box')\n",
    "\n",
    "plt.tight_layout()\n",
    "plt.show()"
   ]
  }
 ],
 "metadata": {
  "kaggle": {
   "accelerator": "none",
   "dataSources": [
    {
     "databundleVersionId": 8930475,
     "sourceId": 73291,
     "sourceType": "competition"
    }
   ],
   "dockerImageVersionId": 30732,
   "isGpuEnabled": false,
   "isInternetEnabled": true,
   "language": "python",
   "sourceType": "notebook"
  },
  "kernelspec": {
   "display_name": "Python 3",
   "language": "python",
   "name": "python3"
  },
  "language_info": {
   "codemirror_mode": {
    "name": "ipython",
    "version": 3
   },
   "file_extension": ".py",
   "mimetype": "text/x-python",
   "name": "python",
   "nbconvert_exporter": "python",
   "pygments_lexer": "ipython3",
   "version": "3.10.13"
  },
  "papermill": {
   "default_parameters": {},
   "duration": 23378.742116,
   "end_time": "2024-07-10T23:04:29.548502",
   "environment_variables": {},
   "exception": null,
   "input_path": "__notebook__.ipynb",
   "output_path": "__notebook__.ipynb",
   "parameters": {},
   "start_time": "2024-07-10T16:34:50.806386",
   "version": "2.5.0"
  }
 },
 "nbformat": 4,
 "nbformat_minor": 5
}
