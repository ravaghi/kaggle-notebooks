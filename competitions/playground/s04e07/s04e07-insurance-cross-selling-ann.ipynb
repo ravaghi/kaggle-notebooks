{
 "cells": [
  {
   "cell_type": "markdown",
   "id": "fc7294a1",
   "metadata": {
    "papermill": {
     "duration": 0.005812,
     "end_time": "2024-07-10T11:46:08.123510",
     "exception": false,
     "start_time": "2024-07-10T11:46:08.117698",
     "status": "completed"
    },
    "tags": []
   },
   "source": [
    "The work in this notebook is based on [this discussion post](https://www.kaggle.com/competitions/playground-series-s4e7/discussion/518760) by AmbrosM. I've added \n",
    "* Cross-validation\n",
    "* New features\n",
    "* New hyperparameters"
   ]
  },
  {
   "cell_type": "code",
   "execution_count": 1,
   "id": "793aad36",
   "metadata": {
    "_kg_hide-output": true,
    "execution": {
     "iopub.execute_input": "2024-07-10T11:46:08.139303Z",
     "iopub.status.busy": "2024-07-10T11:46:08.137153Z",
     "iopub.status.idle": "2024-07-10T11:46:34.779985Z",
     "shell.execute_reply": "2024-07-10T11:46:34.778372Z"
    },
    "papermill": {
     "duration": 26.654132,
     "end_time": "2024-07-10T11:46:34.783371",
     "exception": false,
     "start_time": "2024-07-10T11:46:08.129239",
     "status": "completed"
    },
    "tags": []
   },
   "outputs": [
    {
     "name": "stdout",
     "output_type": "stream",
     "text": [
      "\u001b[31mERROR: pip's dependency resolver does not currently take into account all the packages that are installed. This behaviour is the source of the following dependency conflicts.\r\n",
      "spopt 0.6.0 requires shapely>=2.0.1, but you have shapely 1.8.5.post1 which is incompatible.\u001b[0m\u001b[31m\r\n",
      "\u001b[0m"
     ]
    }
   ],
   "source": [
    "!pip install -q scikit-learn==1.4 && pip install -q --no-deps scikeras"
   ]
  },
  {
   "cell_type": "code",
   "execution_count": 2,
   "id": "cfcb6805",
   "metadata": {
    "_cell_guid": "b1076dfc-b9ad-4769-8c92-a6c4dae69d19",
    "_kg_hide-output": true,
    "_uuid": "8f2839f25d086af736a60e9eeb907d3b93b6e0e5",
    "execution": {
     "iopub.execute_input": "2024-07-10T11:46:34.797877Z",
     "iopub.status.busy": "2024-07-10T11:46:34.796713Z",
     "iopub.status.idle": "2024-07-10T11:46:54.622741Z",
     "shell.execute_reply": "2024-07-10T11:46:54.621407Z"
    },
    "papermill": {
     "duration": 19.837202,
     "end_time": "2024-07-10T11:46:54.626326",
     "exception": false,
     "start_time": "2024-07-10T11:46:34.789124",
     "status": "completed"
    },
    "tags": []
   },
   "outputs": [
    {
     "name": "stderr",
     "output_type": "stream",
     "text": [
      "2024-07-10 11:46:38.832212: E external/local_xla/xla/stream_executor/cuda/cuda_dnn.cc:9261] Unable to register cuDNN factory: Attempting to register factory for plugin cuDNN when one has already been registered\n",
      "2024-07-10 11:46:38.832457: E external/local_xla/xla/stream_executor/cuda/cuda_fft.cc:607] Unable to register cuFFT factory: Attempting to register factory for plugin cuFFT when one has already been registered\n",
      "2024-07-10 11:46:39.010490: E external/local_xla/xla/stream_executor/cuda/cuda_blas.cc:1515] Unable to register cuBLAS factory: Attempting to register factory for plugin cuBLAS when one has already been registered\n"
     ]
    }
   ],
   "source": [
    "from sklearn.preprocessing import StandardScaler, FunctionTransformer, OneHotEncoder, TargetEncoder\n",
    "from sklearn.metrics import roc_auc_score, roc_curve, confusion_matrix\n",
    "from sklearn.model_selection import StratifiedKFold\n",
    "from sklearn.compose import ColumnTransformer\n",
    "from scikeras.wrappers import KerasClassifier\n",
    "from sklearn.pipeline import make_pipeline\n",
    "from sklearn.base import clone\n",
    "import matplotlib.pyplot as plt\n",
    "import seaborn as sns\n",
    "import pandas as pd\n",
    "import numpy as np\n",
    "import pickle\n",
    "import keras\n",
    "import gc"
   ]
  },
  {
   "cell_type": "code",
   "execution_count": 3,
   "id": "83dc987e",
   "metadata": {
    "execution": {
     "iopub.execute_input": "2024-07-10T11:46:54.640306Z",
     "iopub.status.busy": "2024-07-10T11:46:54.639328Z",
     "iopub.status.idle": "2024-07-10T11:46:54.646497Z",
     "shell.execute_reply": "2024-07-10T11:46:54.645105Z"
    },
    "papermill": {
     "duration": 0.017528,
     "end_time": "2024-07-10T11:46:54.649542",
     "exception": false,
     "start_time": "2024-07-10T11:46:54.632014",
     "status": "completed"
    },
    "tags": []
   },
   "outputs": [],
   "source": [
    "TARGET = 'Response'\n",
    "N_FOLDS = 5\n",
    "SEED = 90\n",
    "\n",
    "N_EPOCHS = 50\n",
    "LEARNING_RATE = 0.001\n",
    "BATCH_SIZE = 2048\n",
    "EVAL_BATCH_SIZE = 65536"
   ]
  },
  {
   "cell_type": "code",
   "execution_count": 4,
   "id": "907bacb1",
   "metadata": {
    "execution": {
     "iopub.execute_input": "2024-07-10T11:46:54.663543Z",
     "iopub.status.busy": "2024-07-10T11:46:54.662980Z",
     "iopub.status.idle": "2024-07-10T11:47:39.791254Z",
     "shell.execute_reply": "2024-07-10T11:47:39.789877Z"
    },
    "papermill": {
     "duration": 45.13923,
     "end_time": "2024-07-10T11:47:39.794545",
     "exception": false,
     "start_time": "2024-07-10T11:46:54.655315",
     "status": "completed"
    },
    "tags": []
   },
   "outputs": [],
   "source": [
    "train = pd.read_csv('/kaggle/input/playground-series-s4e7/train.csv', index_col='id')\n",
    "test = pd.read_csv('/kaggle/input/playground-series-s4e7/test.csv', index_col='id')"
   ]
  },
  {
   "cell_type": "code",
   "execution_count": 5,
   "id": "11e97d59",
   "metadata": {
    "execution": {
     "iopub.execute_input": "2024-07-10T11:47:39.808642Z",
     "iopub.status.busy": "2024-07-10T11:47:39.808095Z",
     "iopub.status.idle": "2024-07-10T11:47:42.006218Z",
     "shell.execute_reply": "2024-07-10T11:47:42.004645Z"
    },
    "papermill": {
     "duration": 2.208954,
     "end_time": "2024-07-10T11:47:42.009447",
     "exception": false,
     "start_time": "2024-07-10T11:47:39.800493",
     "status": "completed"
    },
    "tags": []
   },
   "outputs": [],
   "source": [
    "train['is_train'] = 1\n",
    "test['is_train'] = 0\n",
    "combined = pd.concat([train, test], axis=0)"
   ]
  },
  {
   "cell_type": "code",
   "execution_count": 6,
   "id": "c2b899d9",
   "metadata": {
    "execution": {
     "iopub.execute_input": "2024-07-10T11:47:42.023477Z",
     "iopub.status.busy": "2024-07-10T11:47:42.022978Z",
     "iopub.status.idle": "2024-07-10T11:49:26.398060Z",
     "shell.execute_reply": "2024-07-10T11:49:26.396601Z"
    },
    "papermill": {
     "duration": 104.386589,
     "end_time": "2024-07-10T11:49:26.401906",
     "exception": false,
     "start_time": "2024-07-10T11:47:42.015317",
     "status": "completed"
    },
    "tags": []
   },
   "outputs": [],
   "source": [
    "# Reference: https://www.kaggle.com/code/rohanrao/automl-grand-prix-1st-place-solution | Beware of data leakage\n",
    "combined['Previously_Insured_Annual_Premium'] = pd.factorize(combined['Previously_Insured'].astype(str) + combined['Annual_Premium'].astype(str))[0] \n",
    "combined['Previously_Insured_Vehicle_Age'] = pd.factorize(combined['Previously_Insured'].astype(str) + combined['Vehicle_Age'].astype(str))[0]\n",
    "combined['Previously_Insured_Vehicle_Damage'] = pd.factorize(combined['Previously_Insured'].astype(str) + combined['Vehicle_Damage'].astype(str))[0] \n",
    "combined['Previously_Insured_Vintage'] = pd.factorize(combined['Previously_Insured'].astype(str) + combined['Vintage'].astype(str))[0] \n",
    "\n",
    "train = combined[combined['is_train'] == 1].drop(columns='is_train')\n",
    "test = combined[combined['is_train'] == 0].drop(columns=['is_train', TARGET])\n",
    "\n",
    "del combined"
   ]
  },
  {
   "cell_type": "code",
   "execution_count": 7,
   "id": "21f7d797",
   "metadata": {
    "execution": {
     "iopub.execute_input": "2024-07-10T11:49:26.416576Z",
     "iopub.status.busy": "2024-07-10T11:49:26.416074Z",
     "iopub.status.idle": "2024-07-10T11:49:27.653025Z",
     "shell.execute_reply": "2024-07-10T11:49:27.651568Z"
    },
    "papermill": {
     "duration": 1.247942,
     "end_time": "2024-07-10T11:49:27.656295",
     "exception": false,
     "start_time": "2024-07-10T11:49:26.408353",
     "status": "completed"
    },
    "tags": []
   },
   "outputs": [],
   "source": [
    "X = train.drop(columns=TARGET)\n",
    "y = train[TARGET].astype(int)"
   ]
  },
  {
   "cell_type": "code",
   "execution_count": 8,
   "id": "9299183e",
   "metadata": {
    "_kg_hide-output": true,
    "execution": {
     "iopub.execute_input": "2024-07-10T11:49:27.671641Z",
     "iopub.status.busy": "2024-07-10T11:49:27.671120Z",
     "iopub.status.idle": "2024-07-10T11:51:53.549575Z",
     "shell.execute_reply": "2024-07-10T11:51:53.547973Z"
    },
    "papermill": {
     "duration": 145.890074,
     "end_time": "2024-07-10T11:51:53.553010",
     "exception": false,
     "start_time": "2024-07-10T11:49:27.662936",
     "status": "completed"
    },
    "tags": []
   },
   "outputs": [
    {
     "name": "stderr",
     "output_type": "stream",
     "text": [
      "/opt/conda/lib/python3.10/site-packages/sklearn/preprocessing/_encoders.py:241: UserWarning: Found unknown categories in columns [4] during transform. These unknown categories will be encoded as all zeros\n",
      "  warnings.warn(\n"
     ]
    },
    {
     "data": {
      "text/plain": [
       "81"
      ]
     },
     "execution_count": 8,
     "metadata": {},
     "output_type": "execute_result"
    }
   ],
   "source": [
    "ohe_columns = [\n",
    "    'Gender',\n",
    "    'Region_Code',\n",
    "    'Vehicle_Age',\n",
    "    'Vehicle_Damage',\n",
    "    'Policy_Sales_Channel',\n",
    "    'Vintage',\n",
    "    'Previously_Insured_Vehicle_Age',\n",
    "    'Previously_Insured_Vehicle_Damage'\n",
    "]\n",
    "pipeline = make_pipeline(\n",
    "    ColumnTransformer(\n",
    "        [\n",
    "            ('one-hot-encode', OneHotEncoder(drop='first', sparse_output=True, dtype=np.float32, max_categories=200, handle_unknown='ignore'), ohe_columns),\n",
    "            ('target-encode', make_pipeline(TargetEncoder(), FunctionTransformer(lambda x: x.astype(np.float32)), StandardScaler()), ['Annual_Premium']),\n",
    "        ],\n",
    "        remainder=make_pipeline(FunctionTransformer(lambda X: X.astype(np.float32)), StandardScaler(copy=False))\n",
    "    )\n",
    ")\n",
    "\n",
    "X = pipeline.fit_transform(X, y)\n",
    "X_test = pipeline.transform(test)\n",
    "\n",
    "del train, test, pipeline\n",
    "gc.collect()"
   ]
  },
  {
   "cell_type": "code",
   "execution_count": 9,
   "id": "682a1e03",
   "metadata": {
    "execution": {
     "iopub.execute_input": "2024-07-10T11:51:53.569929Z",
     "iopub.status.busy": "2024-07-10T11:51:53.568223Z",
     "iopub.status.idle": "2024-07-10T11:51:53.587842Z",
     "shell.execute_reply": "2024-07-10T11:51:53.586526Z"
    },
    "papermill": {
     "duration": 0.031521,
     "end_time": "2024-07-10T11:51:53.591095",
     "exception": false,
     "start_time": "2024-07-10T11:51:53.559574",
     "status": "completed"
    },
    "tags": []
   },
   "outputs": [],
   "source": [
    "class Trainer:\n",
    "    def __init__(self, model, n_folds=N_FOLDS):\n",
    "        self.model = model\n",
    "        self.n_folds = n_folds\n",
    "\n",
    "    def fit_predict(self, X, y, X_test):\n",
    "        print(f'Training {self.model.__class__.__name__}\\n')\n",
    "        \n",
    "        scores = []        \n",
    "        oof_pred_probs = np.zeros((X.shape[0], len(np.unique(y))))\n",
    "        test_pred_probs = np.zeros((X_test.shape[0], len(np.unique(y))))\n",
    "        \n",
    "        skf = StratifiedKFold(n_splits=self.n_folds, random_state=SEED, shuffle=True)\n",
    "        for fold_idx, (train_idx, val_idx) in enumerate(skf.split(X, y)):\n",
    "            X_train, X_val = X[train_idx], X[val_idx]\n",
    "            y_train, y_val = y[train_idx], y[val_idx]\n",
    "            \n",
    "            model = clone(self.model)\n",
    "            model.fit(X_train, y_train)\n",
    "            \n",
    "            y_pred_probs = model.predict_proba(X_val)\n",
    "            oof_pred_probs[val_idx] = y_pred_probs            \n",
    "            score = roc_auc_score(y_val, y_pred_probs[:, 1])\n",
    "            scores.append(score)\n",
    "            \n",
    "            temp_test_pred_probs = model.predict_proba(X_test)\n",
    "            test_pred_probs += temp_test_pred_probs / self.n_folds\n",
    "            \n",
    "            print(f'\\n--- Fold {fold_idx + 1} - AUC: {score:.5f}\\n\\n')\n",
    "            \n",
    "            del model\n",
    "            gc.collect()\n",
    "            \n",
    "        self._save_pred_probs(oof_pred_probs, np.mean(scores), 'oof')\n",
    "        self._save_pred_probs(test_pred_probs, np.mean(scores), 'test')\n",
    "        self._save_submission(test_pred_probs, np.mean(scores))\n",
    "        \n",
    "        print(f'------ Average AUC:      {np.mean(scores):.5f} ± {np.std(scores):.5f}\\n\\n')\n",
    "        \n",
    "        return oof_pred_probs, scores\n",
    "        \n",
    "    def _save_pred_probs(self, pred_probs, cv_score, name):\n",
    "        model_name = self.model.__class__.__name__.lower().replace('classifier', '')\n",
    "        with open(f'{model_name}_{name}_pred_probs_{cv_score:.5f}.pkl', 'wb') as f:\n",
    "            pickle.dump(pred_probs, f)\n",
    "    \n",
    "    def _save_submission(self, test_pred_probs, score):\n",
    "        sub = pd.read_csv('/kaggle/input/playground-series-s4e7/sample_submission.csv')\n",
    "        \n",
    "        sub['id'] = sub['id']\n",
    "        sub[TARGET] = test_pred_probs[:, 1]\n",
    "        \n",
    "        name = self.model.__class__.__name__.lower().replace('classifier', '')\n",
    "        sub.to_csv(f'sub_{name}_{score:.5f}.csv', index=False)"
   ]
  },
  {
   "cell_type": "code",
   "execution_count": 10,
   "id": "50c8cf55",
   "metadata": {
    "execution": {
     "iopub.execute_input": "2024-07-10T11:51:53.606384Z",
     "iopub.status.busy": "2024-07-10T11:51:53.605832Z",
     "iopub.status.idle": "2024-07-10T11:51:53.614596Z",
     "shell.execute_reply": "2024-07-10T11:51:53.613279Z"
    },
    "papermill": {
     "duration": 0.019721,
     "end_time": "2024-07-10T11:51:53.617428",
     "exception": false,
     "start_time": "2024-07-10T11:51:53.597707",
     "status": "completed"
    },
    "tags": []
   },
   "outputs": [],
   "source": [
    "def get_model(meta):\n",
    "    model = keras.models.Sequential()\n",
    "    model.add(keras.layers.Input(meta[\"X_shape_\"][1:]))\n",
    "    model.add(keras.layers.Dense(256, kernel_initializer='lecun_normal', activation='selu'))\n",
    "    model.add(keras.layers.Dense(128, kernel_initializer='lecun_normal', activation='selu'))\n",
    "    model.add(keras.layers.Dense(64, kernel_initializer='lecun_normal', activation='selu'))\n",
    "    model.add(keras.layers.Dense(1, kernel_initializer='lecun_normal', activation='sigmoid'))\n",
    "    return model"
   ]
  },
  {
   "cell_type": "code",
   "execution_count": 11,
   "id": "7c17b6a8",
   "metadata": {
    "execution": {
     "iopub.execute_input": "2024-07-10T11:51:53.632693Z",
     "iopub.status.busy": "2024-07-10T11:51:53.632201Z",
     "iopub.status.idle": "2024-07-10T11:51:53.696459Z",
     "shell.execute_reply": "2024-07-10T11:51:53.695095Z"
    },
    "papermill": {
     "duration": 0.075823,
     "end_time": "2024-07-10T11:51:53.699993",
     "exception": false,
     "start_time": "2024-07-10T11:51:53.624170",
     "status": "completed"
    },
    "tags": []
   },
   "outputs": [],
   "source": [
    "model = KerasClassifier(\n",
    "    get_model,\n",
    "    loss=\"binary_crossentropy\",\n",
    "    metrics=[keras.metrics.AUC(name='auc')],\n",
    "    optimizer=keras.optimizers.AdamW(learning_rate=LEARNING_RATE),\n",
    "    validation_split=0.1,\n",
    "    batch_size=BATCH_SIZE,\n",
    "    validation_batch_size=EVAL_BATCH_SIZE,\n",
    "    epochs=N_EPOCHS,\n",
    "    callbacks=[\n",
    "        keras.callbacks.ReduceLROnPlateau(monitor='val_auc', patience=3, factor=0.3),\n",
    "        keras.callbacks.EarlyStopping(monitor='val_auc', patience=3)\n",
    "    ]\n",
    ")"
   ]
  },
  {
   "cell_type": "code",
   "execution_count": 12,
   "id": "d2748b6a",
   "metadata": {
    "_kg_hide-output": true,
    "execution": {
     "iopub.execute_input": "2024-07-10T11:51:53.715963Z",
     "iopub.status.busy": "2024-07-10T11:51:53.715433Z",
     "iopub.status.idle": "2024-07-10T15:47:44.282443Z",
     "shell.execute_reply": "2024-07-10T15:47:44.280678Z"
    },
    "papermill": {
     "duration": 14150.578756,
     "end_time": "2024-07-10T15:47:44.285573",
     "exception": false,
     "start_time": "2024-07-10T11:51:53.706817",
     "status": "completed"
    },
    "tags": []
   },
   "outputs": [
    {
     "name": "stdout",
     "output_type": "stream",
     "text": [
      "Training KerasClassifier\n",
      "\n",
      "Epoch 1/50\n",
      "\u001b[1m4045/4045\u001b[0m \u001b[32m━━━━━━━━━━━━━━━━━━━━\u001b[0m\u001b[37m\u001b[0m \u001b[1m183s\u001b[0m 44ms/step - auc: 0.8793 - loss: 0.2524 - val_auc: 0.8858 - val_loss: 0.2470 - learning_rate: 0.0010\n",
      "Epoch 2/50\n",
      "\u001b[1m4045/4045\u001b[0m \u001b[32m━━━━━━━━━━━━━━━━━━━━\u001b[0m\u001b[37m\u001b[0m \u001b[1m195s\u001b[0m 43ms/step - auc: 0.8867 - loss: 0.2465 - val_auc: 0.8877 - val_loss: 0.2459 - learning_rate: 0.0010\n",
      "Epoch 3/50\n",
      "\u001b[1m4045/4045\u001b[0m \u001b[32m━━━━━━━━━━━━━━━━━━━━\u001b[0m\u001b[37m\u001b[0m \u001b[1m182s\u001b[0m 45ms/step - auc: 0.8872 - loss: 0.2464 - val_auc: 0.8883 - val_loss: 0.2449 - learning_rate: 0.0010\n",
      "Epoch 4/50\n",
      "\u001b[1m4045/4045\u001b[0m \u001b[32m━━━━━━━━━━━━━━━━━━━━\u001b[0m\u001b[37m\u001b[0m \u001b[1m181s\u001b[0m 44ms/step - auc: 0.8879 - loss: 0.2457 - val_auc: 0.8882 - val_loss: 0.2450 - learning_rate: 0.0010\n",
      "Epoch 5/50\n",
      "\u001b[1m4045/4045\u001b[0m \u001b[32m━━━━━━━━━━━━━━━━━━━━\u001b[0m\u001b[37m\u001b[0m \u001b[1m173s\u001b[0m 43ms/step - auc: 0.8887 - loss: 0.2452 - val_auc: 0.8889 - val_loss: 0.2444 - learning_rate: 3.0000e-04\n",
      "Epoch 6/50\n",
      "\u001b[1m4045/4045\u001b[0m \u001b[32m━━━━━━━━━━━━━━━━━━━━\u001b[0m\u001b[37m\u001b[0m \u001b[1m202s\u001b[0m 43ms/step - auc: 0.8890 - loss: 0.2453 - val_auc: 0.8891 - val_loss: 0.2443 - learning_rate: 3.0000e-04\n",
      "Epoch 7/50\n",
      "\u001b[1m4045/4045\u001b[0m \u001b[32m━━━━━━━━━━━━━━━━━━━━\u001b[0m\u001b[37m\u001b[0m \u001b[1m173s\u001b[0m 42ms/step - auc: 0.8890 - loss: 0.2451 - val_auc: 0.8891 - val_loss: 0.2442 - learning_rate: 3.0000e-04\n",
      "Epoch 8/50\n",
      "\u001b[1m4045/4045\u001b[0m \u001b[32m━━━━━━━━━━━━━━━━━━━━\u001b[0m\u001b[37m\u001b[0m \u001b[1m175s\u001b[0m 43ms/step - auc: 0.8895 - loss: 0.2443 - val_auc: 0.8893 - val_loss: 0.2441 - learning_rate: 9.0000e-05\n",
      "Epoch 9/50\n",
      "\u001b[1m4045/4045\u001b[0m \u001b[32m━━━━━━━━━━━━━━━━━━━━\u001b[0m\u001b[37m\u001b[0m \u001b[1m159s\u001b[0m 39ms/step - auc: 0.8896 - loss: 0.2446 - val_auc: 0.8892 - val_loss: 0.2441 - learning_rate: 9.0000e-05\n",
      "Epoch 10/50\n",
      "\u001b[1m4045/4045\u001b[0m \u001b[32m━━━━━━━━━━━━━━━━━━━━\u001b[0m\u001b[37m\u001b[0m \u001b[1m146s\u001b[0m 36ms/step - auc: 0.8895 - loss: 0.2445 - val_auc: 0.8893 - val_loss: 0.2441 - learning_rate: 9.0000e-05\n",
      "Epoch 11/50\n",
      "\u001b[1m4045/4045\u001b[0m \u001b[32m━━━━━━━━━━━━━━━━━━━━\u001b[0m\u001b[37m\u001b[0m \u001b[1m148s\u001b[0m 36ms/step - auc: 0.8897 - loss: 0.2444 - val_auc: 0.8893 - val_loss: 0.2441 - learning_rate: 2.7000e-05\n",
      "Epoch 12/50\n",
      "\u001b[1m4045/4045\u001b[0m \u001b[32m━━━━━━━━━━━━━━━━━━━━\u001b[0m\u001b[37m\u001b[0m \u001b[1m146s\u001b[0m 36ms/step - auc: 0.8896 - loss: 0.2443 - val_auc: 0.8893 - val_loss: 0.2441 - learning_rate: 2.7000e-05\n",
      "Epoch 13/50\n",
      "\u001b[1m4045/4045\u001b[0m \u001b[32m━━━━━━━━━━━━━━━━━━━━\u001b[0m\u001b[37m\u001b[0m \u001b[1m149s\u001b[0m 37ms/step - auc: 0.8896 - loss: 0.2443 - val_auc: 0.8893 - val_loss: 0.2440 - learning_rate: 2.7000e-05\n",
      "\u001b[1m1124/1124\u001b[0m \u001b[32m━━━━━━━━━━━━━━━━━━━━\u001b[0m\u001b[37m\u001b[0m \u001b[1m21s\u001b[0m 18ms/step\n",
      "\u001b[1m3746/3746\u001b[0m \u001b[32m━━━━━━━━━━━━━━━━━━━━\u001b[0m\u001b[37m\u001b[0m \u001b[1m89s\u001b[0m 24ms/step\n",
      "\n",
      "--- Fold 1 - AUC: 0.88906\n",
      "\n",
      "\n",
      "Epoch 1/50\n",
      "\u001b[1m4045/4045\u001b[0m \u001b[32m━━━━━━━━━━━━━━━━━━━━\u001b[0m\u001b[37m\u001b[0m \u001b[1m169s\u001b[0m 39ms/step - auc: 0.8796 - loss: 0.2521 - val_auc: 0.8869 - val_loss: 0.2462 - learning_rate: 0.0010\n",
      "Epoch 2/50\n",
      "\u001b[1m4045/4045\u001b[0m \u001b[32m━━━━━━━━━━━━━━━━━━━━\u001b[0m\u001b[37m\u001b[0m \u001b[1m156s\u001b[0m 38ms/step - auc: 0.8865 - loss: 0.2469 - val_auc: 0.8871 - val_loss: 0.2463 - learning_rate: 0.0010\n",
      "Epoch 3/50\n",
      "\u001b[1m4045/4045\u001b[0m \u001b[32m━━━━━━━━━━━━━━━━━━━━\u001b[0m\u001b[37m\u001b[0m \u001b[1m158s\u001b[0m 39ms/step - auc: 0.8874 - loss: 0.2461 - val_auc: 0.8880 - val_loss: 0.2453 - learning_rate: 0.0010\n",
      "Epoch 4/50\n",
      "\u001b[1m4045/4045\u001b[0m \u001b[32m━━━━━━━━━━━━━━━━━━━━\u001b[0m\u001b[37m\u001b[0m \u001b[1m150s\u001b[0m 37ms/step - auc: 0.8880 - loss: 0.2459 - val_auc: 0.8880 - val_loss: 0.2454 - learning_rate: 0.0010\n",
      "Epoch 5/50\n",
      "\u001b[1m4045/4045\u001b[0m \u001b[32m━━━━━━━━━━━━━━━━━━━━\u001b[0m\u001b[37m\u001b[0m \u001b[1m153s\u001b[0m 38ms/step - auc: 0.8887 - loss: 0.2449 - val_auc: 0.8887 - val_loss: 0.2447 - learning_rate: 3.0000e-04\n",
      "Epoch 6/50\n",
      "\u001b[1m4045/4045\u001b[0m \u001b[32m━━━━━━━━━━━━━━━━━━━━\u001b[0m\u001b[37m\u001b[0m \u001b[1m197s\u001b[0m 36ms/step - auc: 0.8891 - loss: 0.2449 - val_auc: 0.8887 - val_loss: 0.2447 - learning_rate: 3.0000e-04\n",
      "Epoch 7/50\n",
      "\u001b[1m4045/4045\u001b[0m \u001b[32m━━━━━━━━━━━━━━━━━━━━\u001b[0m\u001b[37m\u001b[0m \u001b[1m148s\u001b[0m 36ms/step - auc: 0.8888 - loss: 0.2451 - val_auc: 0.8888 - val_loss: 0.2446 - learning_rate: 3.0000e-04\n",
      "Epoch 8/50\n",
      "\u001b[1m4045/4045\u001b[0m \u001b[32m━━━━━━━━━━━━━━━━━━━━\u001b[0m\u001b[37m\u001b[0m \u001b[1m149s\u001b[0m 37ms/step - auc: 0.8897 - loss: 0.2444 - val_auc: 0.8889 - val_loss: 0.2445 - learning_rate: 9.0000e-05\n",
      "Epoch 9/50\n",
      "\u001b[1m4045/4045\u001b[0m \u001b[32m━━━━━━━━━━━━━━━━━━━━\u001b[0m\u001b[37m\u001b[0m \u001b[1m149s\u001b[0m 37ms/step - auc: 0.8893 - loss: 0.2448 - val_auc: 0.8889 - val_loss: 0.2445 - learning_rate: 9.0000e-05\n",
      "Epoch 10/50\n",
      "\u001b[1m4045/4045\u001b[0m \u001b[32m━━━━━━━━━━━━━━━━━━━━\u001b[0m\u001b[37m\u001b[0m \u001b[1m160s\u001b[0m 39ms/step - auc: 0.8898 - loss: 0.2444 - val_auc: 0.8889 - val_loss: 0.2445 - learning_rate: 9.0000e-05\n",
      "Epoch 11/50\n",
      "\u001b[1m4045/4045\u001b[0m \u001b[32m━━━━━━━━━━━━━━━━━━━━\u001b[0m\u001b[37m\u001b[0m \u001b[1m208s\u001b[0m 41ms/step - auc: 0.8898 - loss: 0.2444 - val_auc: 0.8889 - val_loss: 0.2445 - learning_rate: 2.7000e-05\n",
      "Epoch 12/50\n",
      "\u001b[1m4045/4045\u001b[0m \u001b[32m━━━━━━━━━━━━━━━━━━━━\u001b[0m\u001b[37m\u001b[0m \u001b[1m185s\u001b[0m 37ms/step - auc: 0.8898 - loss: 0.2443 - val_auc: 0.8889 - val_loss: 0.2445 - learning_rate: 2.7000e-05\n",
      "Epoch 13/50\n",
      "\u001b[1m4045/4045\u001b[0m \u001b[32m━━━━━━━━━━━━━━━━━━━━\u001b[0m\u001b[37m\u001b[0m \u001b[1m148s\u001b[0m 36ms/step - auc: 0.8899 - loss: 0.2443 - val_auc: 0.8890 - val_loss: 0.2445 - learning_rate: 2.7000e-05\n",
      "Epoch 14/50\n",
      "\u001b[1m4045/4045\u001b[0m \u001b[32m━━━━━━━━━━━━━━━━━━━━\u001b[0m\u001b[37m\u001b[0m \u001b[1m147s\u001b[0m 36ms/step - auc: 0.8900 - loss: 0.2439 - val_auc: 0.8890 - val_loss: 0.2445 - learning_rate: 8.1000e-06\n",
      "Epoch 15/50\n",
      "\u001b[1m4045/4045\u001b[0m \u001b[32m━━━━━━━━━━━━━━━━━━━━\u001b[0m\u001b[37m\u001b[0m \u001b[1m203s\u001b[0m 36ms/step - auc: 0.8900 - loss: 0.2442 - val_auc: 0.8890 - val_loss: 0.2445 - learning_rate: 8.1000e-06\n",
      "Epoch 16/50\n",
      "\u001b[1m4045/4045\u001b[0m \u001b[32m━━━━━━━━━━━━━━━━━━━━\u001b[0m\u001b[37m\u001b[0m \u001b[1m149s\u001b[0m 37ms/step - auc: 0.8896 - loss: 0.2444 - val_auc: 0.8890 - val_loss: 0.2445 - learning_rate: 8.1000e-06\n",
      "Epoch 17/50\n",
      "\u001b[1m4045/4045\u001b[0m \u001b[32m━━━━━━━━━━━━━━━━━━━━\u001b[0m\u001b[37m\u001b[0m \u001b[1m151s\u001b[0m 37ms/step - auc: 0.8899 - loss: 0.2443 - val_auc: 0.8890 - val_loss: 0.2445 - learning_rate: 2.4300e-06\n",
      "Epoch 18/50\n",
      "\u001b[1m4045/4045\u001b[0m \u001b[32m━━━━━━━━━━━━━━━━━━━━\u001b[0m\u001b[37m\u001b[0m \u001b[1m205s\u001b[0m 38ms/step - auc: 0.8900 - loss: 0.2440 - val_auc: 0.8890 - val_loss: 0.2445 - learning_rate: 2.4300e-06\n",
      "Epoch 19/50\n",
      "\u001b[1m4045/4045\u001b[0m \u001b[32m━━━━━━━━━━━━━━━━━━━━\u001b[0m\u001b[37m\u001b[0m \u001b[1m152s\u001b[0m 37ms/step - auc: 0.8897 - loss: 0.2443 - val_auc: 0.8890 - val_loss: 0.2445 - learning_rate: 2.4300e-06\n",
      "Epoch 20/50\n",
      "\u001b[1m4045/4045\u001b[0m \u001b[32m━━━━━━━━━━━━━━━━━━━━\u001b[0m\u001b[37m\u001b[0m \u001b[1m148s\u001b[0m 36ms/step - auc: 0.8897 - loss: 0.2446 - val_auc: 0.8890 - val_loss: 0.2445 - learning_rate: 7.2900e-07\n",
      "Epoch 21/50\n",
      "\u001b[1m4045/4045\u001b[0m \u001b[32m━━━━━━━━━━━━━━━━━━━━\u001b[0m\u001b[37m\u001b[0m \u001b[1m150s\u001b[0m 37ms/step - auc: 0.8897 - loss: 0.2444 - val_auc: 0.8890 - val_loss: 0.2445 - learning_rate: 7.2900e-07\n",
      "\u001b[1m1124/1124\u001b[0m \u001b[32m━━━━━━━━━━━━━━━━━━━━\u001b[0m\u001b[37m\u001b[0m \u001b[1m22s\u001b[0m 20ms/step\n",
      "\u001b[1m3746/3746\u001b[0m \u001b[32m━━━━━━━━━━━━━━━━━━━━\u001b[0m\u001b[37m\u001b[0m \u001b[1m76s\u001b[0m 20ms/step\n",
      "\n",
      "--- Fold 2 - AUC: 0.88899\n",
      "\n",
      "\n",
      "Epoch 1/50\n",
      "\u001b[1m4045/4045\u001b[0m \u001b[32m━━━━━━━━━━━━━━━━━━━━\u001b[0m\u001b[37m\u001b[0m \u001b[1m157s\u001b[0m 37ms/step - auc: 0.8788 - loss: 0.2530 - val_auc: 0.8873 - val_loss: 0.2460 - learning_rate: 0.0010\n",
      "Epoch 2/50\n",
      "\u001b[1m4045/4045\u001b[0m \u001b[32m━━━━━━━━━━━━━━━━━━━━\u001b[0m\u001b[37m\u001b[0m \u001b[1m149s\u001b[0m 37ms/step - auc: 0.8868 - loss: 0.2469 - val_auc: 0.8876 - val_loss: 0.2454 - learning_rate: 0.0010\n",
      "Epoch 3/50\n",
      "\u001b[1m4045/4045\u001b[0m \u001b[32m━━━━━━━━━━━━━━━━━━━━\u001b[0m\u001b[37m\u001b[0m \u001b[1m149s\u001b[0m 37ms/step - auc: 0.8875 - loss: 0.2464 - val_auc: 0.8882 - val_loss: 0.2450 - learning_rate: 0.0010\n",
      "Epoch 4/50\n",
      "\u001b[1m4045/4045\u001b[0m \u001b[32m━━━━━━━━━━━━━━━━━━━━\u001b[0m\u001b[37m\u001b[0m \u001b[1m162s\u001b[0m 40ms/step - auc: 0.8875 - loss: 0.2462 - val_auc: 0.8884 - val_loss: 0.2449 - learning_rate: 0.0010\n",
      "Epoch 5/50\n",
      "\u001b[1m4045/4045\u001b[0m \u001b[32m━━━━━━━━━━━━━━━━━━━━\u001b[0m\u001b[37m\u001b[0m \u001b[1m150s\u001b[0m 37ms/step - auc: 0.8886 - loss: 0.2452 - val_auc: 0.8889 - val_loss: 0.2444 - learning_rate: 3.0000e-04\n",
      "Epoch 6/50\n",
      "\u001b[1m4045/4045\u001b[0m \u001b[32m━━━━━━━━━━━━━━━━━━━━\u001b[0m\u001b[37m\u001b[0m \u001b[1m147s\u001b[0m 36ms/step - auc: 0.8890 - loss: 0.2449 - val_auc: 0.8889 - val_loss: 0.2445 - learning_rate: 3.0000e-04\n",
      "Epoch 7/50\n",
      "\u001b[1m4045/4045\u001b[0m \u001b[32m━━━━━━━━━━━━━━━━━━━━\u001b[0m\u001b[37m\u001b[0m \u001b[1m148s\u001b[0m 36ms/step - auc: 0.8890 - loss: 0.2451 - val_auc: 0.8887 - val_loss: 0.2446 - learning_rate: 3.0000e-04\n",
      "Epoch 8/50\n",
      "\u001b[1m4045/4045\u001b[0m \u001b[32m━━━━━━━━━━━━━━━━━━━━\u001b[0m\u001b[37m\u001b[0m \u001b[1m148s\u001b[0m 36ms/step - auc: 0.8891 - loss: 0.2448 - val_auc: 0.8892 - val_loss: 0.2442 - learning_rate: 9.0000e-05\n",
      "Epoch 9/50\n",
      "\u001b[1m4045/4045\u001b[0m \u001b[32m━━━━━━━━━━━━━━━━━━━━\u001b[0m\u001b[37m\u001b[0m \u001b[1m148s\u001b[0m 36ms/step - auc: 0.8893 - loss: 0.2445 - val_auc: 0.8891 - val_loss: 0.2442 - learning_rate: 9.0000e-05\n",
      "Epoch 10/50\n",
      "\u001b[1m4045/4045\u001b[0m \u001b[32m━━━━━━━━━━━━━━━━━━━━\u001b[0m\u001b[37m\u001b[0m \u001b[1m154s\u001b[0m 38ms/step - auc: 0.8895 - loss: 0.2446 - val_auc: 0.8891 - val_loss: 0.2442 - learning_rate: 9.0000e-05\n",
      "Epoch 11/50\n",
      "\u001b[1m4045/4045\u001b[0m \u001b[32m━━━━━━━━━━━━━━━━━━━━\u001b[0m\u001b[37m\u001b[0m \u001b[1m147s\u001b[0m 36ms/step - auc: 0.8898 - loss: 0.2442 - val_auc: 0.8892 - val_loss: 0.2441 - learning_rate: 2.7000e-05\n",
      "Epoch 12/50\n",
      "\u001b[1m4045/4045\u001b[0m \u001b[32m━━━━━━━━━━━━━━━━━━━━\u001b[0m\u001b[37m\u001b[0m \u001b[1m149s\u001b[0m 37ms/step - auc: 0.8896 - loss: 0.2445 - val_auc: 0.8892 - val_loss: 0.2442 - learning_rate: 2.7000e-05\n",
      "Epoch 13/50\n",
      "\u001b[1m4045/4045\u001b[0m \u001b[32m━━━━━━━━━━━━━━━━━━━━\u001b[0m\u001b[37m\u001b[0m \u001b[1m150s\u001b[0m 37ms/step - auc: 0.8893 - loss: 0.2450 - val_auc: 0.8892 - val_loss: 0.2441 - learning_rate: 2.7000e-05\n",
      "Epoch 14/50\n",
      "\u001b[1m4045/4045\u001b[0m \u001b[32m━━━━━━━━━━━━━━━━━━━━\u001b[0m\u001b[37m\u001b[0m \u001b[1m150s\u001b[0m 37ms/step - auc: 0.8897 - loss: 0.2444 - val_auc: 0.8892 - val_loss: 0.2441 - learning_rate: 8.1000e-06\n",
      "\u001b[1m1124/1124\u001b[0m \u001b[32m━━━━━━━━━━━━━━━━━━━━\u001b[0m\u001b[37m\u001b[0m \u001b[1m21s\u001b[0m 18ms/step\n",
      "\u001b[1m3746/3746\u001b[0m \u001b[32m━━━━━━━━━━━━━━━━━━━━\u001b[0m\u001b[37m\u001b[0m \u001b[1m79s\u001b[0m 21ms/step\n",
      "\n",
      "--- Fold 3 - AUC: 0.88899\n",
      "\n",
      "\n",
      "Epoch 1/50\n",
      "\u001b[1m4045/4045\u001b[0m \u001b[32m━━━━━━━━━━━━━━━━━━━━\u001b[0m\u001b[37m\u001b[0m \u001b[1m158s\u001b[0m 37ms/step - auc: 0.8783 - loss: 0.2531 - val_auc: 0.8874 - val_loss: 0.2459 - learning_rate: 0.0010\n",
      "Epoch 2/50\n",
      "\u001b[1m4045/4045\u001b[0m \u001b[32m━━━━━━━━━━━━━━━━━━━━\u001b[0m\u001b[37m\u001b[0m \u001b[1m152s\u001b[0m 37ms/step - auc: 0.8866 - loss: 0.2468 - val_auc: 0.8875 - val_loss: 0.2457 - learning_rate: 0.0010\n",
      "Epoch 3/50\n",
      "\u001b[1m4045/4045\u001b[0m \u001b[32m━━━━━━━━━━━━━━━━━━━━\u001b[0m\u001b[37m\u001b[0m \u001b[1m147s\u001b[0m 36ms/step - auc: 0.8873 - loss: 0.2463 - val_auc: 0.8881 - val_loss: 0.2450 - learning_rate: 0.0010\n",
      "Epoch 4/50\n",
      "\u001b[1m4045/4045\u001b[0m \u001b[32m━━━━━━━━━━━━━━━━━━━━\u001b[0m\u001b[37m\u001b[0m \u001b[1m155s\u001b[0m 38ms/step - auc: 0.8876 - loss: 0.2460 - val_auc: 0.8883 - val_loss: 0.2448 - learning_rate: 0.0010\n",
      "Epoch 5/50\n",
      "\u001b[1m4045/4045\u001b[0m \u001b[32m━━━━━━━━━━━━━━━━━━━━\u001b[0m\u001b[37m\u001b[0m \u001b[1m152s\u001b[0m 37ms/step - auc: 0.8888 - loss: 0.2450 - val_auc: 0.8889 - val_loss: 0.2443 - learning_rate: 3.0000e-04\n",
      "Epoch 6/50\n",
      "\u001b[1m4045/4045\u001b[0m \u001b[32m━━━━━━━━━━━━━━━━━━━━\u001b[0m\u001b[37m\u001b[0m \u001b[1m149s\u001b[0m 37ms/step - auc: 0.8890 - loss: 0.2449 - val_auc: 0.8891 - val_loss: 0.2443 - learning_rate: 3.0000e-04\n",
      "Epoch 7/50\n",
      "\u001b[1m4045/4045\u001b[0m \u001b[32m━━━━━━━━━━━━━━━━━━━━\u001b[0m\u001b[37m\u001b[0m \u001b[1m151s\u001b[0m 37ms/step - auc: 0.8892 - loss: 0.2447 - val_auc: 0.8891 - val_loss: 0.2442 - learning_rate: 3.0000e-04\n",
      "Epoch 8/50\n",
      "\u001b[1m4045/4045\u001b[0m \u001b[32m━━━━━━━━━━━━━━━━━━━━\u001b[0m\u001b[37m\u001b[0m \u001b[1m151s\u001b[0m 37ms/step - auc: 0.8896 - loss: 0.2446 - val_auc: 0.8893 - val_loss: 0.2441 - learning_rate: 9.0000e-05\n",
      "Epoch 9/50\n",
      "\u001b[1m4045/4045\u001b[0m \u001b[32m━━━━━━━━━━━━━━━━━━━━\u001b[0m\u001b[37m\u001b[0m \u001b[1m148s\u001b[0m 36ms/step - auc: 0.8893 - loss: 0.2446 - val_auc: 0.8892 - val_loss: 0.2441 - learning_rate: 9.0000e-05\n",
      "Epoch 10/50\n",
      "\u001b[1m4045/4045\u001b[0m \u001b[32m━━━━━━━━━━━━━━━━━━━━\u001b[0m\u001b[37m\u001b[0m \u001b[1m154s\u001b[0m 38ms/step - auc: 0.8896 - loss: 0.2444 - val_auc: 0.8893 - val_loss: 0.2441 - learning_rate: 9.0000e-05\n",
      "Epoch 11/50\n",
      "\u001b[1m4045/4045\u001b[0m \u001b[32m━━━━━━━━━━━━━━━━━━━━\u001b[0m\u001b[37m\u001b[0m \u001b[1m150s\u001b[0m 37ms/step - auc: 0.8897 - loss: 0.2444 - val_auc: 0.8893 - val_loss: 0.2440 - learning_rate: 2.7000e-05\n",
      "Epoch 12/50\n",
      "\u001b[1m4045/4045\u001b[0m \u001b[32m━━━━━━━━━━━━━━━━━━━━\u001b[0m\u001b[37m\u001b[0m \u001b[1m201s\u001b[0m 37ms/step - auc: 0.8895 - loss: 0.2445 - val_auc: 0.8893 - val_loss: 0.2440 - learning_rate: 2.7000e-05\n",
      "Epoch 13/50\n",
      "\u001b[1m4045/4045\u001b[0m \u001b[32m━━━━━━━━━━━━━━━━━━━━\u001b[0m\u001b[37m\u001b[0m \u001b[1m152s\u001b[0m 37ms/step - auc: 0.8897 - loss: 0.2445 - val_auc: 0.8893 - val_loss: 0.2440 - learning_rate: 2.7000e-05\n",
      "Epoch 14/50\n",
      "\u001b[1m4045/4045\u001b[0m \u001b[32m━━━━━━━━━━━━━━━━━━━━\u001b[0m\u001b[37m\u001b[0m \u001b[1m147s\u001b[0m 36ms/step - auc: 0.8897 - loss: 0.2443 - val_auc: 0.8893 - val_loss: 0.2440 - learning_rate: 8.1000e-06\n",
      "Epoch 15/50\n",
      "\u001b[1m4045/4045\u001b[0m \u001b[32m━━━━━━━━━━━━━━━━━━━━\u001b[0m\u001b[37m\u001b[0m \u001b[1m150s\u001b[0m 37ms/step - auc: 0.8899 - loss: 0.2439 - val_auc: 0.8893 - val_loss: 0.2440 - learning_rate: 8.1000e-06\n",
      "Epoch 16/50\n",
      "\u001b[1m4045/4045\u001b[0m \u001b[32m━━━━━━━━━━━━━━━━━━━━\u001b[0m\u001b[37m\u001b[0m \u001b[1m151s\u001b[0m 37ms/step - auc: 0.8898 - loss: 0.2444 - val_auc: 0.8893 - val_loss: 0.2440 - learning_rate: 8.1000e-06\n",
      "Epoch 17/50\n",
      "\u001b[1m4045/4045\u001b[0m \u001b[32m━━━━━━━━━━━━━━━━━━━━\u001b[0m\u001b[37m\u001b[0m \u001b[1m149s\u001b[0m 37ms/step - auc: 0.8899 - loss: 0.2444 - val_auc: 0.8893 - val_loss: 0.2440 - learning_rate: 2.4300e-06\n",
      "Epoch 18/50\n",
      "\u001b[1m4045/4045\u001b[0m \u001b[32m━━━━━━━━━━━━━━━━━━━━\u001b[0m\u001b[37m\u001b[0m \u001b[1m155s\u001b[0m 38ms/step - auc: 0.8897 - loss: 0.2444 - val_auc: 0.8893 - val_loss: 0.2440 - learning_rate: 2.4300e-06\n",
      "\u001b[1m1124/1124\u001b[0m \u001b[32m━━━━━━━━━━━━━━━━━━━━\u001b[0m\u001b[37m\u001b[0m \u001b[1m25s\u001b[0m 22ms/step\n",
      "\u001b[1m3746/3746\u001b[0m \u001b[32m━━━━━━━━━━━━━━━━━━━━\u001b[0m\u001b[37m\u001b[0m \u001b[1m90s\u001b[0m 24ms/step\n",
      "\n",
      "--- Fold 4 - AUC: 0.88886\n",
      "\n",
      "\n",
      "Epoch 1/50\n",
      "\u001b[1m4045/4045\u001b[0m \u001b[32m━━━━━━━━━━━━━━━━━━━━\u001b[0m\u001b[37m\u001b[0m \u001b[1m161s\u001b[0m 37ms/step - auc: 0.8793 - loss: 0.2530 - val_auc: 0.8871 - val_loss: 0.2460 - learning_rate: 0.0010\n",
      "Epoch 2/50\n",
      "\u001b[1m4045/4045\u001b[0m \u001b[32m━━━━━━━━━━━━━━━━━━━━\u001b[0m\u001b[37m\u001b[0m \u001b[1m154s\u001b[0m 38ms/step - auc: 0.8868 - loss: 0.2468 - val_auc: 0.8873 - val_loss: 0.2458 - learning_rate: 0.0010\n",
      "Epoch 3/50\n",
      "\u001b[1m4045/4045\u001b[0m \u001b[32m━━━━━━━━━━━━━━━━━━━━\u001b[0m\u001b[37m\u001b[0m \u001b[1m156s\u001b[0m 38ms/step - auc: 0.8875 - loss: 0.2463 - val_auc: 0.8872 - val_loss: 0.2463 - learning_rate: 0.0010\n",
      "Epoch 4/50\n",
      "\u001b[1m4045/4045\u001b[0m \u001b[32m━━━━━━━━━━━━━━━━━━━━\u001b[0m\u001b[37m\u001b[0m \u001b[1m166s\u001b[0m 41ms/step - auc: 0.8878 - loss: 0.2461 - val_auc: 0.8884 - val_loss: 0.2450 - learning_rate: 0.0010\n",
      "Epoch 5/50\n",
      "\u001b[1m4045/4045\u001b[0m \u001b[32m━━━━━━━━━━━━━━━━━━━━\u001b[0m\u001b[37m\u001b[0m \u001b[1m142s\u001b[0m 35ms/step - auc: 0.8891 - loss: 0.2449 - val_auc: 0.8887 - val_loss: 0.2447 - learning_rate: 3.0000e-04\n",
      "Epoch 6/50\n",
      "\u001b[1m4045/4045\u001b[0m \u001b[32m━━━━━━━━━━━━━━━━━━━━\u001b[0m\u001b[37m\u001b[0m \u001b[1m149s\u001b[0m 37ms/step - auc: 0.8891 - loss: 0.2449 - val_auc: 0.8889 - val_loss: 0.2446 - learning_rate: 3.0000e-04\n",
      "Epoch 7/50\n",
      "\u001b[1m4045/4045\u001b[0m \u001b[32m━━━━━━━━━━━━━━━━━━━━\u001b[0m\u001b[37m\u001b[0m \u001b[1m144s\u001b[0m 35ms/step - auc: 0.8892 - loss: 0.2448 - val_auc: 0.8889 - val_loss: 0.2446 - learning_rate: 3.0000e-04\n",
      "Epoch 8/50\n",
      "\u001b[1m4045/4045\u001b[0m \u001b[32m━━━━━━━━━━━━━━━━━━━━\u001b[0m\u001b[37m\u001b[0m \u001b[1m152s\u001b[0m 37ms/step - auc: 0.8897 - loss: 0.2444 - val_auc: 0.8890 - val_loss: 0.2444 - learning_rate: 9.0000e-05\n",
      "Epoch 9/50\n",
      "\u001b[1m4045/4045\u001b[0m \u001b[32m━━━━━━━━━━━━━━━━━━━━\u001b[0m\u001b[37m\u001b[0m \u001b[1m153s\u001b[0m 38ms/step - auc: 0.8898 - loss: 0.2443 - val_auc: 0.8890 - val_loss: 0.2444 - learning_rate: 9.0000e-05\n",
      "Epoch 10/50\n",
      "\u001b[1m4045/4045\u001b[0m \u001b[32m━━━━━━━━━━━━━━━━━━━━\u001b[0m\u001b[37m\u001b[0m \u001b[1m153s\u001b[0m 38ms/step - auc: 0.8898 - loss: 0.2443 - val_auc: 0.8890 - val_loss: 0.2444 - learning_rate: 9.0000e-05\n",
      "Epoch 11/50\n",
      "\u001b[1m4045/4045\u001b[0m \u001b[32m━━━━━━━━━━━━━━━━━━━━\u001b[0m\u001b[37m\u001b[0m \u001b[1m155s\u001b[0m 38ms/step - auc: 0.8898 - loss: 0.2441 - val_auc: 0.8891 - val_loss: 0.2443 - learning_rate: 2.7000e-05\n",
      "Epoch 12/50\n",
      "\u001b[1m4045/4045\u001b[0m \u001b[32m━━━━━━━━━━━━━━━━━━━━\u001b[0m\u001b[37m\u001b[0m \u001b[1m199s\u001b[0m 37ms/step - auc: 0.8900 - loss: 0.2442 - val_auc: 0.8890 - val_loss: 0.2443 - learning_rate: 2.7000e-05\n",
      "Epoch 13/50\n",
      "\u001b[1m4045/4045\u001b[0m \u001b[32m━━━━━━━━━━━━━━━━━━━━\u001b[0m\u001b[37m\u001b[0m \u001b[1m172s\u001b[0m 42ms/step - auc: 0.8899 - loss: 0.2442 - val_auc: 0.8891 - val_loss: 0.2443 - learning_rate: 2.7000e-05\n",
      "Epoch 14/50\n",
      "\u001b[1m4045/4045\u001b[0m \u001b[32m━━━━━━━━━━━━━━━━━━━━\u001b[0m\u001b[37m\u001b[0m \u001b[1m149s\u001b[0m 37ms/step - auc: 0.8900 - loss: 0.2444 - val_auc: 0.8891 - val_loss: 0.2443 - learning_rate: 8.1000e-06\n",
      "\u001b[1m1124/1124\u001b[0m \u001b[32m━━━━━━━━━━━━━━━━━━━━\u001b[0m\u001b[37m\u001b[0m \u001b[1m21s\u001b[0m 18ms/step\n",
      "\u001b[1m3746/3746\u001b[0m \u001b[32m━━━━━━━━━━━━━━━━━━━━\u001b[0m\u001b[37m\u001b[0m \u001b[1m85s\u001b[0m 22ms/step\n",
      "\n",
      "--- Fold 5 - AUC: 0.88872\n",
      "\n",
      "\n",
      "------ Average AUC:      0.88893 ± 0.00012\n",
      "\n",
      "\n"
     ]
    }
   ],
   "source": [
    "trainer = Trainer(model)\n",
    "oof_pred_probs, scores = trainer.fit_predict(X, y, X_test)"
   ]
  },
  {
   "cell_type": "code",
   "execution_count": 13,
   "id": "2bcfd219",
   "metadata": {
    "execution": {
     "iopub.execute_input": "2024-07-10T15:48:21.132061Z",
     "iopub.status.busy": "2024-07-10T15:48:21.131535Z",
     "iopub.status.idle": "2024-07-10T15:48:36.721874Z",
     "shell.execute_reply": "2024-07-10T15:48:36.720510Z"
    },
    "papermill": {
     "duration": 34.133803,
     "end_time": "2024-07-10T15:48:36.726489",
     "exception": false,
     "start_time": "2024-07-10T15:48:02.592686",
     "status": "completed"
    },
    "tags": []
   },
   "outputs": [
    {
     "data": {
      "image/png": "[encoded data removed]",
      "text/plain": [
       "<Figure size 1400x700 with 2 Axes>"
      ]
     },
     "metadata": {},
     "output_type": "display_data"
    }
   ],
   "source": [
    "fig, axes = plt.subplots(nrows=1, ncols=2, figsize=(14, 7))\n",
    "\n",
    "fpr, tpr, _ = roc_curve(y, oof_pred_probs[:, 1])\n",
    "axes[0].plot(fpr, tpr, label=f'AUC: {np.mean(scores):.5f}', color='#651FFF')\n",
    "axes[0].plot([0, 1], [0, 1], color='black', linestyle='--')\n",
    "axes[0].set_xlabel('False Positive Rate')\n",
    "axes[0].set_ylabel('True Positive Rate')\n",
    "axes[0].legend()\n",
    "axes[0].grid(True)\n",
    "axes[0].set_aspect('equal', adjustable='box')\n",
    "\n",
    "y_pred = oof_pred_probs.argmax(axis=1)\n",
    "cm = confusion_matrix(y, y_pred)\n",
    "sns.heatmap(\n",
    "    cm, \n",
    "    annot=True, \n",
    "    fmt='d', \n",
    "    ax=axes[1], \n",
    "    cbar=False,\n",
    "    cmap=sns.light_palette('#651FFF', reverse=False, as_cmap=True), \n",
    ")\n",
    "axes[1].set_xlabel('Predicted')\n",
    "axes[1].set_ylabel('Actual')\n",
    "axes[1].set_aspect('equal', adjustable='box')\n",
    "\n",
    "plt.tight_layout()\n",
    "plt.show()"
   ]
  }
 ],
 "metadata": {
  "kaggle": {
   "accelerator": "none",
   "dataSources": [
    {
     "databundleVersionId": 8930475,
     "sourceId": 73291,
     "sourceType": "competition"
    }
   ],
   "dockerImageVersionId": 30732,
   "isGpuEnabled": false,
   "isInternetEnabled": true,
   "language": "python",
   "sourceType": "notebook"
  },
  "kernelspec": {
   "display_name": "Python 3",
   "language": "python",
   "name": "python3"
  },
  "language_info": {
   "codemirror_mode": {
    "name": "ipython",
    "version": 3
   },
   "file_extension": ".py",
   "mimetype": "text/x-python",
   "name": "python",
   "nbconvert_exporter": "python",
   "pygments_lexer": "ipython3",
   "version": "3.10.13"
  },
  "papermill": {
   "default_parameters": {},
   "duration": 14573.812301,
   "end_time": "2024-07-10T15:48:58.198615",
   "environment_variables": {},
   "exception": null,
   "input_path": "__notebook__.ipynb",
   "output_path": "__notebook__.ipynb",
   "parameters": {},
   "start_time": "2024-07-10T11:46:04.386314",
   "version": "2.5.0"
  }
 },
 "nbformat": 4,
 "nbformat_minor": 5
}
