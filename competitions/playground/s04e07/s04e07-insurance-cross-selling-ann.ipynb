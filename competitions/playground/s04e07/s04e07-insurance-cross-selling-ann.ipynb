{
 "cells": [
  {
   "cell_type": "markdown",
   "id": "245538a0",
   "metadata": {
    "papermill": {
     "duration": 0.005545,
     "end_time": "2024-07-19T03:02:40.074195",
     "exception": false,
     "start_time": "2024-07-19T03:02:40.068650",
     "status": "completed"
    },
    "tags": []
   },
   "source": [
    "The work in this notebook is based on [this discussion post](https://www.kaggle.com/competitions/playground-series-s4e7/discussion/518760) by AmbrosM. I've added \n",
    "* Cross-validation\n",
    "* New features\n",
    "* New hyperparameters"
   ]
  },
  {
   "cell_type": "code",
   "execution_count": 1,
   "id": "39b43bd3",
   "metadata": {
    "_kg_hide-output": true,
    "execution": {
     "iopub.execute_input": "2024-07-19T03:02:40.086926Z",
     "iopub.status.busy": "2024-07-19T03:02:40.086458Z",
     "iopub.status.idle": "2024-07-19T03:03:05.075080Z",
     "shell.execute_reply": "2024-07-19T03:03:05.073646Z"
    },
    "papermill": {
     "duration": 24.998951,
     "end_time": "2024-07-19T03:03:05.078598",
     "exception": false,
     "start_time": "2024-07-19T03:02:40.079647",
     "status": "completed"
    },
    "tags": []
   },
   "outputs": [
    {
     "name": "stdout",
     "output_type": "stream",
     "text": [
      "\u001b[31mERROR: pip's dependency resolver does not currently take into account all the packages that are installed. This behaviour is the source of the following dependency conflicts.\r\n",
      "spopt 0.6.0 requires shapely>=2.0.1, but you have shapely 1.8.5.post1 which is incompatible.\u001b[0m\u001b[31m\r\n",
      "\u001b[0m"
     ]
    }
   ],
   "source": [
    "!pip install -q scikit-learn==1.4 && pip install -q --no-deps scikeras"
   ]
  },
  {
   "cell_type": "code",
   "execution_count": 2,
   "id": "154d31b8",
   "metadata": {
    "_cell_guid": "b1076dfc-b9ad-4769-8c92-a6c4dae69d19",
    "_kg_hide-output": true,
    "_uuid": "8f2839f25d086af736a60e9eeb907d3b93b6e0e5",
    "execution": {
     "iopub.execute_input": "2024-07-19T03:03:05.091508Z",
     "iopub.status.busy": "2024-07-19T03:03:05.091065Z",
     "iopub.status.idle": "2024-07-19T03:03:24.043827Z",
     "shell.execute_reply": "2024-07-19T03:03:24.042385Z"
    },
    "papermill": {
     "duration": 18.963089,
     "end_time": "2024-07-19T03:03:24.047069",
     "exception": false,
     "start_time": "2024-07-19T03:03:05.083980",
     "status": "completed"
    },
    "tags": []
   },
   "outputs": [
    {
     "name": "stderr",
     "output_type": "stream",
     "text": [
      "2024-07-19 03:03:09.265121: E external/local_xla/xla/stream_executor/cuda/cuda_dnn.cc:9261] Unable to register cuDNN factory: Attempting to register factory for plugin cuDNN when one has already been registered\n",
      "2024-07-19 03:03:09.265265: E external/local_xla/xla/stream_executor/cuda/cuda_fft.cc:607] Unable to register cuFFT factory: Attempting to register factory for plugin cuFFT when one has already been registered\n",
      "2024-07-19 03:03:09.477875: E external/local_xla/xla/stream_executor/cuda/cuda_blas.cc:1515] Unable to register cuBLAS factory: Attempting to register factory for plugin cuBLAS when one has already been registered\n"
     ]
    }
   ],
   "source": [
    "from sklearn.preprocessing import StandardScaler, FunctionTransformer, OneHotEncoder, TargetEncoder\n",
    "from sklearn.metrics import roc_auc_score, roc_curve, confusion_matrix\n",
    "from sklearn.model_selection import StratifiedKFold\n",
    "from sklearn.compose import ColumnTransformer\n",
    "from scikeras.wrappers import KerasClassifier\n",
    "from sklearn.pipeline import make_pipeline\n",
    "from sklearn.base import clone\n",
    "import matplotlib.pyplot as plt\n",
    "import seaborn as sns\n",
    "import pandas as pd\n",
    "import numpy as np\n",
    "import pickle\n",
    "import keras\n",
    "import gc"
   ]
  },
  {
   "cell_type": "code",
   "execution_count": 3,
   "id": "f74e6101",
   "metadata": {
    "execution": {
     "iopub.execute_input": "2024-07-19T03:03:24.060303Z",
     "iopub.status.busy": "2024-07-19T03:03:24.059620Z",
     "iopub.status.idle": "2024-07-19T03:03:24.065973Z",
     "shell.execute_reply": "2024-07-19T03:03:24.064810Z"
    },
    "papermill": {
     "duration": 0.01584,
     "end_time": "2024-07-19T03:03:24.068667",
     "exception": false,
     "start_time": "2024-07-19T03:03:24.052827",
     "status": "completed"
    },
    "tags": []
   },
   "outputs": [],
   "source": [
    "TARGET = 'Response'\n",
    "N_FOLDS = 5\n",
    "SEED = 90\n",
    "\n",
    "N_EPOCHS = 25\n",
    "LEARNING_RATE = 0.005\n",
    "BATCH_SIZE = 2048\n",
    "EVAL_BATCH_SIZE = 65536"
   ]
  },
  {
   "cell_type": "code",
   "execution_count": 4,
   "id": "4984f502",
   "metadata": {
    "execution": {
     "iopub.execute_input": "2024-07-19T03:03:24.081589Z",
     "iopub.status.busy": "2024-07-19T03:03:24.081128Z",
     "iopub.status.idle": "2024-07-19T03:04:05.208289Z",
     "shell.execute_reply": "2024-07-19T03:04:05.207027Z"
    },
    "papermill": {
     "duration": 41.137825,
     "end_time": "2024-07-19T03:04:05.212066",
     "exception": false,
     "start_time": "2024-07-19T03:03:24.074241",
     "status": "completed"
    },
    "tags": []
   },
   "outputs": [],
   "source": [
    "train = pd.read_csv('/kaggle/input/playground-series-s4e7/train.csv', index_col='id')\n",
    "test = pd.read_csv('/kaggle/input/playground-series-s4e7/test.csv', index_col='id')\n",
    "original = pd.read_csv('/kaggle/input/health-insurance-cross-sell-prediction-data/train.csv', index_col='id')"
   ]
  },
  {
   "cell_type": "code",
   "execution_count": 5,
   "id": "8c28b664",
   "metadata": {
    "execution": {
     "iopub.execute_input": "2024-07-19T03:04:05.229473Z",
     "iopub.status.busy": "2024-07-19T03:04:05.228217Z",
     "iopub.status.idle": "2024-07-19T03:04:18.540204Z",
     "shell.execute_reply": "2024-07-19T03:04:18.539002Z"
    },
    "papermill": {
     "duration": 13.32323,
     "end_time": "2024-07-19T03:04:18.543220",
     "exception": false,
     "start_time": "2024-07-19T03:04:05.219990",
     "status": "completed"
    },
    "tags": []
   },
   "outputs": [],
   "source": [
    "train = pd.concat([train, original]).reset_index(drop=True) \n",
    "train = train.drop_duplicates(keep=\"last\").reset_index(drop=True)"
   ]
  },
  {
   "cell_type": "code",
   "execution_count": 6,
   "id": "05cba6d1",
   "metadata": {
    "execution": {
     "iopub.execute_input": "2024-07-19T03:04:18.556660Z",
     "iopub.status.busy": "2024-07-19T03:04:18.556222Z",
     "iopub.status.idle": "2024-07-19T03:04:20.121349Z",
     "shell.execute_reply": "2024-07-19T03:04:20.120048Z"
    },
    "papermill": {
     "duration": 1.5753,
     "end_time": "2024-07-19T03:04:20.124443",
     "exception": false,
     "start_time": "2024-07-19T03:04:18.549143",
     "status": "completed"
    },
    "tags": []
   },
   "outputs": [],
   "source": [
    "train['is_train'] = 1\n",
    "test['is_train'] = 0\n",
    "combined = pd.concat([train, test], axis=0)"
   ]
  },
  {
   "cell_type": "code",
   "execution_count": 7,
   "id": "84647c76",
   "metadata": {
    "execution": {
     "iopub.execute_input": "2024-07-19T03:04:20.138294Z",
     "iopub.status.busy": "2024-07-19T03:04:20.137850Z",
     "iopub.status.idle": "2024-07-19T03:06:00.027098Z",
     "shell.execute_reply": "2024-07-19T03:06:00.025300Z"
    },
    "papermill": {
     "duration": 99.899852,
     "end_time": "2024-07-19T03:06:00.030186",
     "exception": false,
     "start_time": "2024-07-19T03:04:20.130334",
     "status": "completed"
    },
    "tags": []
   },
   "outputs": [],
   "source": [
    "# Reference: https://www.kaggle.com/code/rohanrao/automl-grand-prix-1st-place-solution | Beware of data leakage\n",
    "combined['Previously_Insured_Annual_Premium'] = pd.factorize(combined['Previously_Insured'].astype(str) + combined['Annual_Premium'].astype(str))[0] \n",
    "combined['Previously_Insured_Vehicle_Age'] = pd.factorize(combined['Previously_Insured'].astype(str) + combined['Vehicle_Age'].astype(str))[0]\n",
    "combined['Previously_Insured_Vehicle_Damage'] = pd.factorize(combined['Previously_Insured'].astype(str) + combined['Vehicle_Damage'].astype(str))[0] \n",
    "combined['Previously_Insured_Vintage'] = pd.factorize(combined['Previously_Insured'].astype(str) + combined['Vintage'].astype(str))[0] \n",
    "\n",
    "train = combined[combined['is_train'] == 1].drop(columns='is_train')\n",
    "test = combined[combined['is_train'] == 0].drop(columns=['is_train', TARGET])\n",
    "\n",
    "del combined"
   ]
  },
  {
   "cell_type": "code",
   "execution_count": 8,
   "id": "f2b82b6f",
   "metadata": {
    "execution": {
     "iopub.execute_input": "2024-07-19T03:06:00.044672Z",
     "iopub.status.busy": "2024-07-19T03:06:00.043494Z",
     "iopub.status.idle": "2024-07-19T03:06:01.042401Z",
     "shell.execute_reply": "2024-07-19T03:06:01.041445Z"
    },
    "papermill": {
     "duration": 1.009611,
     "end_time": "2024-07-19T03:06:01.045799",
     "exception": false,
     "start_time": "2024-07-19T03:06:00.036188",
     "status": "completed"
    },
    "tags": []
   },
   "outputs": [],
   "source": [
    "X = train.drop(columns=TARGET)\n",
    "y = train[TARGET].astype(np.int8)"
   ]
  },
  {
   "cell_type": "code",
   "execution_count": 9,
   "id": "7b2499b9",
   "metadata": {
    "_kg_hide-output": true,
    "execution": {
     "iopub.execute_input": "2024-07-19T03:06:01.060590Z",
     "iopub.status.busy": "2024-07-19T03:06:01.059493Z",
     "iopub.status.idle": "2024-07-19T03:08:19.566931Z",
     "shell.execute_reply": "2024-07-19T03:08:19.565680Z"
    },
    "papermill": {
     "duration": 138.523077,
     "end_time": "2024-07-19T03:08:19.575001",
     "exception": false,
     "start_time": "2024-07-19T03:06:01.051924",
     "status": "completed"
    },
    "tags": []
   },
   "outputs": [
    {
     "data": {
      "text/plain": [
       "81"
      ]
     },
     "execution_count": 9,
     "metadata": {},
     "output_type": "execute_result"
    }
   ],
   "source": [
    "ohe_columns = [\n",
    "    'Gender',\n",
    "    'Region_Code',\n",
    "    'Vehicle_Age',\n",
    "    'Vehicle_Damage',\n",
    "    'Policy_Sales_Channel',\n",
    "    'Vintage',\n",
    "    'Previously_Insured_Vehicle_Age',\n",
    "    'Previously_Insured_Vehicle_Damage'\n",
    "]\n",
    "pipeline = make_pipeline(\n",
    "    ColumnTransformer(\n",
    "        [\n",
    "            ('one-hot-encode', OneHotEncoder(drop='first', sparse_output=True, dtype=np.float32, max_categories=200, handle_unknown='ignore'), ohe_columns),\n",
    "            ('target-encode', make_pipeline(TargetEncoder(), FunctionTransformer(lambda x: x.astype(np.float32)), StandardScaler()), ['Annual_Premium']),\n",
    "        ],\n",
    "        remainder=make_pipeline(FunctionTransformer(lambda X: X.astype(np.float32)), StandardScaler(copy=False))\n",
    "    )\n",
    ")\n",
    "\n",
    "X = pipeline.fit_transform(X, y)\n",
    "X_test = pipeline.transform(test)\n",
    "\n",
    "del train, test, pipeline\n",
    "gc.collect()"
   ]
  },
  {
   "cell_type": "code",
   "execution_count": 10,
   "id": "c8845c72",
   "metadata": {
    "execution": {
     "iopub.execute_input": "2024-07-19T03:08:19.589793Z",
     "iopub.status.busy": "2024-07-19T03:08:19.589354Z",
     "iopub.status.idle": "2024-07-19T03:08:19.607747Z",
     "shell.execute_reply": "2024-07-19T03:08:19.606441Z"
    },
    "papermill": {
     "duration": 0.02911,
     "end_time": "2024-07-19T03:08:19.610580",
     "exception": false,
     "start_time": "2024-07-19T03:08:19.581470",
     "status": "completed"
    },
    "tags": []
   },
   "outputs": [],
   "source": [
    "class Trainer:\n",
    "    def __init__(self, model, n_folds=N_FOLDS):\n",
    "        self.model = model\n",
    "        self.n_folds = n_folds\n",
    "\n",
    "    def fit_predict(self, X, y, X_test):\n",
    "        print(f'Training {self.model.__class__.__name__}\\n')\n",
    "        \n",
    "        scores = []        \n",
    "        oof_pred_probs = np.zeros((X.shape[0], len(np.unique(y))))\n",
    "        test_pred_probs = np.zeros((X_test.shape[0], len(np.unique(y))))\n",
    "        \n",
    "        skf = StratifiedKFold(n_splits=self.n_folds, random_state=SEED, shuffle=True)\n",
    "        for fold_idx, (train_idx, val_idx) in enumerate(skf.split(X, y)):\n",
    "            X_train, X_val = X[train_idx], X[val_idx]\n",
    "            y_train, y_val = y[train_idx], y[val_idx]\n",
    "            \n",
    "            model = clone(self.model)\n",
    "            model.fit(X_train, y_train)\n",
    "            \n",
    "            y_pred_probs = model.predict_proba(X_val)\n",
    "            oof_pred_probs[val_idx] = y_pred_probs            \n",
    "            score = roc_auc_score(y_val, y_pred_probs[:, 1])\n",
    "            scores.append(score)\n",
    "            \n",
    "            temp_test_pred_probs = model.predict_proba(X_test)\n",
    "            test_pred_probs += temp_test_pred_probs / self.n_folds\n",
    "            \n",
    "            print(f'\\n--- Fold {fold_idx + 1} - AUC: {score:.5f}\\n\\n')\n",
    "            \n",
    "            del model, X_train, y_train, X_val, y_val, y_pred_probs, temp_test_pred_probs\n",
    "            gc.collect()\n",
    "            \n",
    "        self._save_pred_probs(oof_pred_probs, np.mean(scores), 'oof')\n",
    "        self._save_pred_probs(test_pred_probs, np.mean(scores), 'test')\n",
    "        self._save_submission(test_pred_probs, np.mean(scores))\n",
    "        \n",
    "        print(f'------ Average AUC:      {np.mean(scores):.5f} ± {np.std(scores):.5f}\\n\\n')\n",
    "        \n",
    "        return oof_pred_probs, scores\n",
    "        \n",
    "    def _save_pred_probs(self, pred_probs, cv_score, name):\n",
    "        model_name = self.model.__class__.__name__.lower().replace('classifier', '')\n",
    "        with open(f'{model_name}_{name}_pred_probs_{cv_score:.5f}.pkl', 'wb') as f:\n",
    "            pickle.dump(pred_probs, f)\n",
    "    \n",
    "    def _save_submission(self, test_pred_probs, score):\n",
    "        sub = pd.read_csv('/kaggle/input/playground-series-s4e7/sample_submission.csv')\n",
    "        \n",
    "        sub['id'] = sub['id']\n",
    "        sub[TARGET] = test_pred_probs[:, 1]\n",
    "        \n",
    "        name = self.model.__class__.__name__.lower().replace('classifier', '')\n",
    "        sub.to_csv(f'sub_{name}_{score:.5f}.csv', index=False)"
   ]
  },
  {
   "cell_type": "code",
   "execution_count": 11,
   "id": "e38afbbb",
   "metadata": {
    "execution": {
     "iopub.execute_input": "2024-07-19T03:08:19.624738Z",
     "iopub.status.busy": "2024-07-19T03:08:19.624306Z",
     "iopub.status.idle": "2024-07-19T03:08:19.634979Z",
     "shell.execute_reply": "2024-07-19T03:08:19.633592Z"
    },
    "papermill": {
     "duration": 0.020785,
     "end_time": "2024-07-19T03:08:19.637596",
     "exception": false,
     "start_time": "2024-07-19T03:08:19.616811",
     "status": "completed"
    },
    "tags": []
   },
   "outputs": [],
   "source": [
    "def get_model(meta):\n",
    "    model = keras.models.Sequential()\n",
    "    model.add(keras.layers.Input(meta[\"X_shape_\"][1:]))\n",
    "    model.add(keras.layers.Dense(52, kernel_initializer='truncated_normal', activation='silu'))\n",
    "    model.add(keras.layers.BatchNormalization())\n",
    "    model.add(keras.layers.Dense(660, kernel_initializer='truncated_normal', activation='silu'))\n",
    "    model.add(keras.layers.BatchNormalization())\n",
    "    model.add(keras.layers.Dense(508, kernel_initializer='truncated_normal', activation='silu'))\n",
    "    model.add(keras.layers.BatchNormalization())\n",
    "    model.add(keras.layers.Dense(1, kernel_initializer='truncated_normal', activation='sigmoid'))\n",
    "    return model"
   ]
  },
  {
   "cell_type": "code",
   "execution_count": 12,
   "id": "95f48b34",
   "metadata": {
    "execution": {
     "iopub.execute_input": "2024-07-19T03:08:19.654114Z",
     "iopub.status.busy": "2024-07-19T03:08:19.653666Z",
     "iopub.status.idle": "2024-07-19T03:08:19.714544Z",
     "shell.execute_reply": "2024-07-19T03:08:19.713311Z"
    },
    "papermill": {
     "duration": 0.073472,
     "end_time": "2024-07-19T03:08:19.717322",
     "exception": false,
     "start_time": "2024-07-19T03:08:19.643850",
     "status": "completed"
    },
    "tags": []
   },
   "outputs": [],
   "source": [
    "model = KerasClassifier(\n",
    "    get_model,\n",
    "    loss=\"binary_crossentropy\",\n",
    "    metrics=[keras.metrics.AUC(name='auc')],\n",
    "    optimizer=keras.optimizers.AdamW(learning_rate=LEARNING_RATE),\n",
    "    validation_split=0.1,\n",
    "    batch_size=BATCH_SIZE,\n",
    "    validation_batch_size=EVAL_BATCH_SIZE,\n",
    "    epochs=N_EPOCHS, \n",
    "    verbose=0,\n",
    "    callbacks=[\n",
    "        keras.callbacks.ReduceLROnPlateau(monitor='val_auc', patience=3, factor=0.3),\n",
    "        keras.callbacks.EarlyStopping(monitor='val_auc', patience=3)\n",
    "    ]\n",
    ")"
   ]
  },
  {
   "cell_type": "code",
   "execution_count": 13,
   "id": "144fc828",
   "metadata": {
    "_kg_hide-output": true,
    "execution": {
     "iopub.execute_input": "2024-07-19T03:08:19.731847Z",
     "iopub.status.busy": "2024-07-19T03:08:19.731437Z",
     "iopub.status.idle": "2024-07-19T09:37:25.088112Z",
     "shell.execute_reply": "2024-07-19T09:37:25.086068Z"
    },
    "papermill": {
     "duration": 23345.374132,
     "end_time": "2024-07-19T09:37:25.097806",
     "exception": false,
     "start_time": "2024-07-19T03:08:19.723674",
     "status": "completed"
    },
    "tags": []
   },
   "outputs": [
    {
     "name": "stdout",
     "output_type": "stream",
     "text": [
      "Training KerasClassifier\n",
      "\n",
      "\n",
      "--- Fold 1 - AUC: 0.88828\n",
      "\n",
      "\n",
      "\n",
      "--- Fold 2 - AUC: 0.88820\n",
      "\n",
      "\n",
      "\n",
      "--- Fold 3 - AUC: 0.88835\n",
      "\n",
      "\n",
      "\n",
      "--- Fold 4 - AUC: 0.88861\n",
      "\n",
      "\n",
      "\n",
      "--- Fold 5 - AUC: 0.88854\n",
      "\n",
      "\n",
      "------ Average AUC:      0.88839 ± 0.00016\n",
      "\n",
      "\n"
     ]
    }
   ],
   "source": [
    "trainer = Trainer(model)\n",
    "oof_pred_probs, scores = trainer.fit_predict(X, y, X_test)"
   ]
  },
  {
   "cell_type": "code",
   "execution_count": 14,
   "id": "f5a2e5bc",
   "metadata": {
    "execution": {
     "iopub.execute_input": "2024-07-19T09:37:25.114630Z",
     "iopub.status.busy": "2024-07-19T09:37:25.114169Z",
     "iopub.status.idle": "2024-07-19T09:37:40.291391Z",
     "shell.execute_reply": "2024-07-19T09:37:40.289863Z"
    },
    "papermill": {
     "duration": 15.190789,
     "end_time": "2024-07-19T09:37:40.295642",
     "exception": false,
     "start_time": "2024-07-19T09:37:25.104853",
     "status": "completed"
    },
    "tags": []
   },
   "outputs": [
    {
     "data": {
      "image/png": "[encoded data removed]",
      "text/plain": [
       "<Figure size 1400x700 with 2 Axes>"
      ]
     },
     "metadata": {},
     "output_type": "display_data"
    }
   ],
   "source": [
    "fig, axes = plt.subplots(nrows=1, ncols=2, figsize=(14, 7))\n",
    "\n",
    "fpr, tpr, _ = roc_curve(y, oof_pred_probs[:, 1])\n",
    "axes[0].plot(fpr, tpr, label=f'AUC: {np.mean(scores):.5f}', color='#651FFF')\n",
    "axes[0].plot([0, 1], [0, 1], color='black', linestyle='--')\n",
    "axes[0].set_xlabel('False Positive Rate')\n",
    "axes[0].set_ylabel('True Positive Rate')\n",
    "axes[0].legend()\n",
    "axes[0].grid(True)\n",
    "axes[0].set_aspect('equal', adjustable='box')\n",
    "\n",
    "y_pred = oof_pred_probs.argmax(axis=1)\n",
    "cm = confusion_matrix(y, y_pred)\n",
    "sns.heatmap(\n",
    "    cm, \n",
    "    annot=True, \n",
    "    fmt=',', \n",
    "    ax=axes[1], \n",
    "    cbar=False,\n",
    "    cmap=sns.light_palette('#651FFF', reverse=False, as_cmap=True), \n",
    ")\n",
    "axes[1].set_xlabel('Predicted')\n",
    "axes[1].set_ylabel('Actual')\n",
    "axes[1].set_aspect('equal', adjustable='box')\n",
    "\n",
    "plt.tight_layout()\n",
    "plt.show()"
   ]
  }
 ],
 "metadata": {
  "kaggle": {
   "accelerator": "none",
   "dataSources": [
    {
     "databundleVersionId": 8930475,
     "sourceId": 73291,
     "sourceType": "competition"
    },
    {
     "datasetId": 4268036,
     "sourceId": 7349720,
     "sourceType": "datasetVersion"
    }
   ],
   "dockerImageVersionId": 30732,
   "isGpuEnabled": false,
   "isInternetEnabled": true,
   "language": "python",
   "sourceType": "notebook"
  },
  "kernelspec": {
   "display_name": "Python 3",
   "language": "python",
   "name": "python3"
  },
  "language_info": {
   "codemirror_mode": {
    "name": "ipython",
    "version": 3
   },
   "file_extension": ".py",
   "mimetype": "text/x-python",
   "name": "python",
   "nbconvert_exporter": "python",
   "pygments_lexer": "ipython3",
   "version": "3.10.13"
  },
  "papermill": {
   "default_parameters": {},
   "duration": 23707.227786,
   "end_time": "2024-07-19T09:37:43.936303",
   "environment_variables": {},
   "exception": null,
   "input_path": "__notebook__.ipynb",
   "output_path": "__notebook__.ipynb",
   "parameters": {},
   "start_time": "2024-07-19T03:02:36.708517",
   "version": "2.5.0"
  }
 },
 "nbformat": 4,
 "nbformat_minor": 5
}
