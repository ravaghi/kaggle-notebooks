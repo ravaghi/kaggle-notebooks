{
 "cells": [
  {
   "cell_type": "markdown",
   "id": "dd28d888",
   "metadata": {
    "papermill": {
     "duration": 0.005189,
     "end_time": "2024-07-12T18:06:06.235743",
     "exception": false,
     "start_time": "2024-07-12T18:06:06.230554",
     "status": "completed"
    },
    "tags": []
   },
   "source": [
    "The work in this notebook is based on [this discussion post](https://www.kaggle.com/competitions/playground-series-s4e7/discussion/518760) by AmbrosM. I've added \n",
    "* Cross-validation\n",
    "* New features\n",
    "* New hyperparameters"
   ]
  },
  {
   "cell_type": "code",
   "execution_count": 1,
   "id": "d412bf40",
   "metadata": {
    "_kg_hide-output": true,
    "execution": {
     "iopub.execute_input": "2024-07-12T18:06:06.247251Z",
     "iopub.status.busy": "2024-07-12T18:06:06.246839Z",
     "iopub.status.idle": "2024-07-12T18:06:31.264458Z",
     "shell.execute_reply": "2024-07-12T18:06:31.262745Z"
    },
    "papermill": {
     "duration": 25.026764,
     "end_time": "2024-07-12T18:06:31.267520",
     "exception": false,
     "start_time": "2024-07-12T18:06:06.240756",
     "status": "completed"
    },
    "tags": []
   },
   "outputs": [
    {
     "name": "stdout",
     "output_type": "stream",
     "text": [
      "\u001b[31mERROR: pip's dependency resolver does not currently take into account all the packages that are installed. This behaviour is the source of the following dependency conflicts.\r\n",
      "spopt 0.6.0 requires shapely>=2.0.1, but you have shapely 1.8.5.post1 which is incompatible.\u001b[0m\u001b[31m\r\n",
      "\u001b[0m"
     ]
    }
   ],
   "source": [
    "!pip install -q scikit-learn==1.4 && pip install -q --no-deps scikeras"
   ]
  },
  {
   "cell_type": "code",
   "execution_count": 2,
   "id": "7a1ad889",
   "metadata": {
    "_cell_guid": "b1076dfc-b9ad-4769-8c92-a6c4dae69d19",
    "_kg_hide-output": true,
    "_uuid": "8f2839f25d086af736a60e9eeb907d3b93b6e0e5",
    "execution": {
     "iopub.execute_input": "2024-07-12T18:06:31.280312Z",
     "iopub.status.busy": "2024-07-12T18:06:31.279245Z",
     "iopub.status.idle": "2024-07-12T18:06:49.555299Z",
     "shell.execute_reply": "2024-07-12T18:06:49.553971Z"
    },
    "papermill": {
     "duration": 18.285733,
     "end_time": "2024-07-12T18:06:49.558369",
     "exception": false,
     "start_time": "2024-07-12T18:06:31.272636",
     "status": "completed"
    },
    "tags": []
   },
   "outputs": [
    {
     "name": "stderr",
     "output_type": "stream",
     "text": [
      "2024-07-12 18:06:35.279247: E external/local_xla/xla/stream_executor/cuda/cuda_dnn.cc:9261] Unable to register cuDNN factory: Attempting to register factory for plugin cuDNN when one has already been registered\n",
      "2024-07-12 18:06:35.279411: E external/local_xla/xla/stream_executor/cuda/cuda_fft.cc:607] Unable to register cuFFT factory: Attempting to register factory for plugin cuFFT when one has already been registered\n",
      "2024-07-12 18:06:35.457949: E external/local_xla/xla/stream_executor/cuda/cuda_blas.cc:1515] Unable to register cuBLAS factory: Attempting to register factory for plugin cuBLAS when one has already been registered\n"
     ]
    }
   ],
   "source": [
    "from sklearn.preprocessing import StandardScaler, FunctionTransformer, OneHotEncoder, TargetEncoder\n",
    "from sklearn.metrics import roc_auc_score, roc_curve, confusion_matrix\n",
    "from sklearn.model_selection import StratifiedKFold\n",
    "from sklearn.compose import ColumnTransformer\n",
    "from scikeras.wrappers import KerasClassifier\n",
    "from sklearn.pipeline import make_pipeline\n",
    "from sklearn.base import clone\n",
    "import matplotlib.pyplot as plt\n",
    "import seaborn as sns\n",
    "import pandas as pd\n",
    "import numpy as np\n",
    "import pickle\n",
    "import keras\n",
    "import gc"
   ]
  },
  {
   "cell_type": "code",
   "execution_count": 3,
   "id": "86ce509f",
   "metadata": {
    "execution": {
     "iopub.execute_input": "2024-07-12T18:06:49.570853Z",
     "iopub.status.busy": "2024-07-12T18:06:49.570142Z",
     "iopub.status.idle": "2024-07-12T18:06:49.577245Z",
     "shell.execute_reply": "2024-07-12T18:06:49.576006Z"
    },
    "papermill": {
     "duration": 0.01618,
     "end_time": "2024-07-12T18:06:49.579809",
     "exception": false,
     "start_time": "2024-07-12T18:06:49.563629",
     "status": "completed"
    },
    "tags": []
   },
   "outputs": [],
   "source": [
    "TARGET = 'Response'\n",
    "N_FOLDS = 5\n",
    "SEED = 90\n",
    "\n",
    "N_EPOCHS = 50\n",
    "LEARNING_RATE = 0.005\n",
    "BATCH_SIZE = 2048\n",
    "EVAL_BATCH_SIZE = 65536"
   ]
  },
  {
   "cell_type": "code",
   "execution_count": 4,
   "id": "c0ac00ad",
   "metadata": {
    "execution": {
     "iopub.execute_input": "2024-07-12T18:06:49.591990Z",
     "iopub.status.busy": "2024-07-12T18:06:49.591589Z",
     "iopub.status.idle": "2024-07-12T18:07:29.506566Z",
     "shell.execute_reply": "2024-07-12T18:07:29.505478Z"
    },
    "papermill": {
     "duration": 39.924366,
     "end_time": "2024-07-12T18:07:29.509404",
     "exception": false,
     "start_time": "2024-07-12T18:06:49.585038",
     "status": "completed"
    },
    "tags": []
   },
   "outputs": [],
   "source": [
    "train = pd.read_csv('/kaggle/input/playground-series-s4e7/train.csv', index_col='id')\n",
    "test = pd.read_csv('/kaggle/input/playground-series-s4e7/test.csv', index_col='id')"
   ]
  },
  {
   "cell_type": "code",
   "execution_count": 5,
   "id": "ebdbdacb",
   "metadata": {
    "execution": {
     "iopub.execute_input": "2024-07-12T18:07:29.521807Z",
     "iopub.status.busy": "2024-07-12T18:07:29.521399Z",
     "iopub.status.idle": "2024-07-12T18:07:31.080548Z",
     "shell.execute_reply": "2024-07-12T18:07:31.079016Z"
    },
    "papermill": {
     "duration": 1.569372,
     "end_time": "2024-07-12T18:07:31.084159",
     "exception": false,
     "start_time": "2024-07-12T18:07:29.514787",
     "status": "completed"
    },
    "tags": []
   },
   "outputs": [],
   "source": [
    "train['is_train'] = 1\n",
    "test['is_train'] = 0\n",
    "combined = pd.concat([train, test], axis=0)"
   ]
  },
  {
   "cell_type": "code",
   "execution_count": 6,
   "id": "defee40e",
   "metadata": {
    "execution": {
     "iopub.execute_input": "2024-07-12T18:07:31.101981Z",
     "iopub.status.busy": "2024-07-12T18:07:31.100939Z",
     "iopub.status.idle": "2024-07-12T18:09:08.348319Z",
     "shell.execute_reply": "2024-07-12T18:09:08.347121Z"
    },
    "papermill": {
     "duration": 97.26197,
     "end_time": "2024-07-12T18:09:08.352222",
     "exception": false,
     "start_time": "2024-07-12T18:07:31.090252",
     "status": "completed"
    },
    "tags": []
   },
   "outputs": [],
   "source": [
    "# Reference: https://www.kaggle.com/code/rohanrao/automl-grand-prix-1st-place-solution | Beware of data leakage\n",
    "combined['Previously_Insured_Annual_Premium'] = pd.factorize(combined['Previously_Insured'].astype(str) + combined['Annual_Premium'].astype(str))[0] \n",
    "combined['Previously_Insured_Vehicle_Age'] = pd.factorize(combined['Previously_Insured'].astype(str) + combined['Vehicle_Age'].astype(str))[0]\n",
    "combined['Previously_Insured_Vehicle_Damage'] = pd.factorize(combined['Previously_Insured'].astype(str) + combined['Vehicle_Damage'].astype(str))[0] \n",
    "combined['Previously_Insured_Vintage'] = pd.factorize(combined['Previously_Insured'].astype(str) + combined['Vintage'].astype(str))[0] \n",
    "\n",
    "train = combined[combined['is_train'] == 1].drop(columns='is_train')\n",
    "test = combined[combined['is_train'] == 0].drop(columns=['is_train', TARGET])\n",
    "\n",
    "del combined"
   ]
  },
  {
   "cell_type": "code",
   "execution_count": 7,
   "id": "679401ea",
   "metadata": {
    "execution": {
     "iopub.execute_input": "2024-07-12T18:09:08.365949Z",
     "iopub.status.busy": "2024-07-12T18:09:08.365500Z",
     "iopub.status.idle": "2024-07-12T18:09:09.353747Z",
     "shell.execute_reply": "2024-07-12T18:09:09.352214Z"
    },
    "papermill": {
     "duration": 0.998656,
     "end_time": "2024-07-12T18:09:09.356666",
     "exception": false,
     "start_time": "2024-07-12T18:09:08.358010",
     "status": "completed"
    },
    "tags": []
   },
   "outputs": [],
   "source": [
    "X = train.drop(columns=TARGET)\n",
    "y = train[TARGET].astype(int)"
   ]
  },
  {
   "cell_type": "code",
   "execution_count": 8,
   "id": "aaa18f0c",
   "metadata": {
    "_kg_hide-output": true,
    "execution": {
     "iopub.execute_input": "2024-07-12T18:09:09.369914Z",
     "iopub.status.busy": "2024-07-12T18:09:09.369519Z",
     "iopub.status.idle": "2024-07-12T18:11:32.319570Z",
     "shell.execute_reply": "2024-07-12T18:11:32.318262Z"
    },
    "papermill": {
     "duration": 142.960801,
     "end_time": "2024-07-12T18:11:32.323362",
     "exception": false,
     "start_time": "2024-07-12T18:09:09.362561",
     "status": "completed"
    },
    "tags": []
   },
   "outputs": [
    {
     "name": "stderr",
     "output_type": "stream",
     "text": [
      "/opt/conda/lib/python3.10/site-packages/sklearn/preprocessing/_encoders.py:241: UserWarning: Found unknown categories in columns [4] during transform. These unknown categories will be encoded as all zeros\n",
      "  warnings.warn(\n"
     ]
    },
    {
     "data": {
      "text/plain": [
       "81"
      ]
     },
     "execution_count": 8,
     "metadata": {},
     "output_type": "execute_result"
    }
   ],
   "source": [
    "ohe_columns = [\n",
    "    'Gender',\n",
    "    'Region_Code',\n",
    "    'Vehicle_Age',\n",
    "    'Vehicle_Damage',\n",
    "    'Policy_Sales_Channel',\n",
    "    'Vintage',\n",
    "    'Previously_Insured_Vehicle_Age',\n",
    "    'Previously_Insured_Vehicle_Damage'\n",
    "]\n",
    "pipeline = make_pipeline(\n",
    "    ColumnTransformer(\n",
    "        [\n",
    "            ('one-hot-encode', OneHotEncoder(drop='first', sparse_output=True, dtype=np.float32, max_categories=200, handle_unknown='ignore'), ohe_columns),\n",
    "            ('target-encode', make_pipeline(TargetEncoder(), FunctionTransformer(lambda x: x.astype(np.float32)), StandardScaler()), ['Annual_Premium']),\n",
    "        ],\n",
    "        remainder=make_pipeline(FunctionTransformer(lambda X: X.astype(np.float32)), StandardScaler(copy=False))\n",
    "    )\n",
    ")\n",
    "\n",
    "X = pipeline.fit_transform(X, y)\n",
    "X_test = pipeline.transform(test)\n",
    "\n",
    "del train, test, pipeline\n",
    "gc.collect()"
   ]
  },
  {
   "cell_type": "code",
   "execution_count": 9,
   "id": "f74a7379",
   "metadata": {
    "execution": {
     "iopub.execute_input": "2024-07-12T18:11:32.340756Z",
     "iopub.status.busy": "2024-07-12T18:11:32.340273Z",
     "iopub.status.idle": "2024-07-12T18:11:32.365153Z",
     "shell.execute_reply": "2024-07-12T18:11:32.363607Z"
    },
    "papermill": {
     "duration": 0.037829,
     "end_time": "2024-07-12T18:11:32.368404",
     "exception": false,
     "start_time": "2024-07-12T18:11:32.330575",
     "status": "completed"
    },
    "tags": []
   },
   "outputs": [],
   "source": [
    "class Trainer:\n",
    "    def __init__(self, model, n_folds=N_FOLDS):\n",
    "        self.model = model\n",
    "        self.n_folds = n_folds\n",
    "\n",
    "    def fit_predict(self, X, y, X_test):\n",
    "        print(f'Training {self.model.__class__.__name__}\\n')\n",
    "        \n",
    "        scores = []        \n",
    "        oof_pred_probs = np.zeros((X.shape[0], len(np.unique(y))))\n",
    "        test_pred_probs = np.zeros((X_test.shape[0], len(np.unique(y))))\n",
    "        \n",
    "        skf = StratifiedKFold(n_splits=self.n_folds, random_state=SEED, shuffle=True)\n",
    "        for fold_idx, (train_idx, val_idx) in enumerate(skf.split(X, y)):\n",
    "            X_train, X_val = X[train_idx], X[val_idx]\n",
    "            y_train, y_val = y[train_idx], y[val_idx]\n",
    "            \n",
    "            model = clone(self.model)\n",
    "            model.fit(X_train, y_train)\n",
    "            \n",
    "            y_pred_probs = model.predict_proba(X_val)\n",
    "            oof_pred_probs[val_idx] = y_pred_probs            \n",
    "            score = roc_auc_score(y_val, y_pred_probs[:, 1])\n",
    "            scores.append(score)\n",
    "            \n",
    "            temp_test_pred_probs = model.predict_proba(X_test)\n",
    "            test_pred_probs += temp_test_pred_probs / self.n_folds\n",
    "            \n",
    "            print(f'\\n--- Fold {fold_idx + 1} - AUC: {score:.5f}\\n\\n')\n",
    "            \n",
    "            del model\n",
    "            gc.collect()\n",
    "            \n",
    "        self._save_pred_probs(oof_pred_probs, np.mean(scores), 'oof')\n",
    "        self._save_pred_probs(test_pred_probs, np.mean(scores), 'test')\n",
    "        self._save_submission(test_pred_probs, np.mean(scores))\n",
    "        \n",
    "        print(f'------ Average AUC:      {np.mean(scores):.5f} ± {np.std(scores):.5f}\\n\\n')\n",
    "        \n",
    "        return oof_pred_probs, scores\n",
    "        \n",
    "    def _save_pred_probs(self, pred_probs, cv_score, name):\n",
    "        model_name = self.model.__class__.__name__.lower().replace('classifier', '')\n",
    "        with open(f'{model_name}_{name}_pred_probs_{cv_score:.5f}.pkl', 'wb') as f:\n",
    "            pickle.dump(pred_probs, f)\n",
    "    \n",
    "    def _save_submission(self, test_pred_probs, score):\n",
    "        sub = pd.read_csv('/kaggle/input/playground-series-s4e7/sample_submission.csv')\n",
    "        \n",
    "        sub['id'] = sub['id']\n",
    "        sub[TARGET] = test_pred_probs[:, 1]\n",
    "        \n",
    "        name = self.model.__class__.__name__.lower().replace('classifier', '')\n",
    "        sub.to_csv(f'sub_{name}_{score:.5f}.csv', index=False)"
   ]
  },
  {
   "cell_type": "code",
   "execution_count": 10,
   "id": "9a95ed02",
   "metadata": {
    "execution": {
     "iopub.execute_input": "2024-07-12T18:11:32.382737Z",
     "iopub.status.busy": "2024-07-12T18:11:32.382276Z",
     "iopub.status.idle": "2024-07-12T18:11:32.391384Z",
     "shell.execute_reply": "2024-07-12T18:11:32.390053Z"
    },
    "papermill": {
     "duration": 0.019318,
     "end_time": "2024-07-12T18:11:32.394102",
     "exception": false,
     "start_time": "2024-07-12T18:11:32.374784",
     "status": "completed"
    },
    "tags": []
   },
   "outputs": [],
   "source": [
    "def get_model(meta):\n",
    "    model = keras.models.Sequential()\n",
    "    model.add(keras.layers.Input(meta[\"X_shape_\"][1:]))\n",
    "    model.add(keras.layers.Dense(52, kernel_initializer='truncated_normal', activation='silu'))\n",
    "    model.add(keras.layers.BatchNormalization())\n",
    "    model.add(keras.layers.Dense(660, kernel_initializer='truncated_normal', activation='silu'))\n",
    "    model.add(keras.layers.BatchNormalization())\n",
    "    model.add(keras.layers.Dense(508, kernel_initializer='truncated_normal', activation='silu'))\n",
    "    model.add(keras.layers.BatchNormalization())\n",
    "    model.add(keras.layers.Dense(1, kernel_initializer='truncated_normal', activation='sigmoid'))\n",
    "    return model"
   ]
  },
  {
   "cell_type": "code",
   "execution_count": 11,
   "id": "df644923",
   "metadata": {
    "execution": {
     "iopub.execute_input": "2024-07-12T18:11:32.409062Z",
     "iopub.status.busy": "2024-07-12T18:11:32.408009Z",
     "iopub.status.idle": "2024-07-12T18:11:32.525986Z",
     "shell.execute_reply": "2024-07-12T18:11:32.524579Z"
    },
    "papermill": {
     "duration": 0.129037,
     "end_time": "2024-07-12T18:11:32.529384",
     "exception": false,
     "start_time": "2024-07-12T18:11:32.400347",
     "status": "completed"
    },
    "tags": []
   },
   "outputs": [],
   "source": [
    "model = KerasClassifier(\n",
    "    get_model,\n",
    "    loss=\"binary_crossentropy\",\n",
    "    metrics=[keras.metrics.AUC(name='auc')],\n",
    "    optimizer=keras.optimizers.AdamW(learning_rate=LEARNING_RATE),\n",
    "    validation_split=0.1,\n",
    "    batch_size=BATCH_SIZE,\n",
    "    validation_batch_size=EVAL_BATCH_SIZE,\n",
    "    epochs=N_EPOCHS,\n",
    "    callbacks=[\n",
    "        keras.callbacks.ReduceLROnPlateau(monitor='val_auc', patience=3, factor=0.3),\n",
    "        keras.callbacks.EarlyStopping(monitor='val_auc', patience=3)\n",
    "    ]\n",
    ")"
   ]
  },
  {
   "cell_type": "code",
   "execution_count": 12,
   "id": "6f55c400",
   "metadata": {
    "_kg_hide-output": true,
    "execution": {
     "iopub.execute_input": "2024-07-12T18:11:32.544098Z",
     "iopub.status.busy": "2024-07-12T18:11:32.543674Z",
     "iopub.status.idle": "2024-07-13T00:53:42.151280Z",
     "shell.execute_reply": "2024-07-13T00:53:42.149615Z"
    },
    "papermill": {
     "duration": 24155.352033,
     "end_time": "2024-07-13T00:54:07.887929",
     "exception": false,
     "start_time": "2024-07-12T18:11:32.535896",
     "status": "completed"
    },
    "tags": []
   },
   "outputs": [
    {
     "name": "stdout",
     "output_type": "stream",
     "text": [
      "Training KerasClassifier\n",
      "\n",
      "Epoch 1/50\n",
      "\u001b[1m4045/4045\u001b[0m \u001b[32m━━━━━━━━━━━━━━━━━━━━\u001b[0m\u001b[37m\u001b[0m \u001b[1m376s\u001b[0m 92ms/step - auc: 0.8731 - loss: 0.2671 - val_auc: 0.8876 - val_loss: 0.2459 - learning_rate: 0.0050\n",
      "Epoch 2/50\n",
      "\u001b[1m4045/4045\u001b[0m \u001b[32m━━━━━━━━━━━━━━━━━━━━\u001b[0m\u001b[37m\u001b[0m \u001b[1m373s\u001b[0m 92ms/step - auc: 0.8866 - loss: 0.2469 - val_auc: 0.8882 - val_loss: 0.2450 - learning_rate: 0.0050\n",
      "Epoch 3/50\n",
      "\u001b[1m4045/4045\u001b[0m \u001b[32m━━━━━━━━━━━━━━━━━━━━\u001b[0m\u001b[37m\u001b[0m \u001b[1m375s\u001b[0m 93ms/step - auc: 0.8876 - loss: 0.2460 - val_auc: 0.8886 - val_loss: 0.2454 - learning_rate: 0.0050\n",
      "Epoch 4/50\n",
      "\u001b[1m4045/4045\u001b[0m \u001b[32m━━━━━━━━━━━━━━━━━━━━\u001b[0m\u001b[37m\u001b[0m \u001b[1m374s\u001b[0m 92ms/step - auc: 0.8879 - loss: 0.2459 - val_auc: 0.8888 - val_loss: 0.2449 - learning_rate: 0.0050\n",
      "Epoch 5/50\n",
      "\u001b[1m4045/4045\u001b[0m \u001b[32m━━━━━━━━━━━━━━━━━━━━\u001b[0m\u001b[37m\u001b[0m \u001b[1m375s\u001b[0m 92ms/step - auc: 0.8887 - loss: 0.2452 - val_auc: 0.8893 - val_loss: 0.2441 - learning_rate: 0.0015\n",
      "Epoch 6/50\n",
      "\u001b[1m4045/4045\u001b[0m \u001b[32m━━━━━━━━━━━━━━━━━━━━\u001b[0m\u001b[37m\u001b[0m \u001b[1m387s\u001b[0m 94ms/step - auc: 0.8890 - loss: 0.2449 - val_auc: 0.8893 - val_loss: 0.2442 - learning_rate: 0.0015\n",
      "Epoch 7/50\n",
      "\u001b[1m4045/4045\u001b[0m \u001b[32m━━━━━━━━━━━━━━━━━━━━\u001b[0m\u001b[37m\u001b[0m \u001b[1m385s\u001b[0m 94ms/step - auc: 0.8894 - loss: 0.2447 - val_auc: 0.8892 - val_loss: 0.2441 - learning_rate: 0.0015\n",
      "Epoch 8/50\n",
      "\u001b[1m4045/4045\u001b[0m \u001b[32m━━━━━━━━━━━━━━━━━━━━\u001b[0m\u001b[37m\u001b[0m \u001b[1m443s\u001b[0m 95ms/step - auc: 0.8898 - loss: 0.2440 - val_auc: 0.8894 - val_loss: 0.2440 - learning_rate: 4.5000e-04\n",
      "Epoch 9/50\n",
      "\u001b[1m4045/4045\u001b[0m \u001b[32m━━━━━━━━━━━━━━━━━━━━\u001b[0m\u001b[37m\u001b[0m \u001b[1m383s\u001b[0m 95ms/step - auc: 0.8899 - loss: 0.2441 - val_auc: 0.8893 - val_loss: 0.2440 - learning_rate: 4.5000e-04\n",
      "Epoch 10/50\n",
      "\u001b[1m4045/4045\u001b[0m \u001b[32m━━━━━━━━━━━━━━━━━━━━\u001b[0m\u001b[37m\u001b[0m \u001b[1m448s\u001b[0m 96ms/step - auc: 0.8898 - loss: 0.2442 - val_auc: 0.8893 - val_loss: 0.2440 - learning_rate: 4.5000e-04\n",
      "Epoch 11/50\n",
      "\u001b[1m4045/4045\u001b[0m \u001b[32m━━━━━━━━━━━━━━━━━━━━\u001b[0m\u001b[37m\u001b[0m \u001b[1m384s\u001b[0m 95ms/step - auc: 0.8901 - loss: 0.2440 - val_auc: 0.8893 - val_loss: 0.2440 - learning_rate: 1.3500e-04\n",
      "\u001b[1m1124/1124\u001b[0m \u001b[32m━━━━━━━━━━━━━━━━━━━━\u001b[0m\u001b[37m\u001b[0m \u001b[1m36s\u001b[0m 31ms/step\n",
      "\u001b[1m3746/3746\u001b[0m \u001b[32m━━━━━━━━━━━━━━━━━━━━\u001b[0m\u001b[37m\u001b[0m \u001b[1m128s\u001b[0m 34ms/step\n",
      "\n",
      "--- Fold 1 - AUC: 0.88912\n",
      "\n",
      "\n",
      "Epoch 1/50\n",
      "\u001b[1m4045/4045\u001b[0m \u001b[32m━━━━━━━━━━━━━━━━━━━━\u001b[0m\u001b[37m\u001b[0m \u001b[1m397s\u001b[0m 95ms/step - auc: 0.8712 - loss: 0.2729 - val_auc: 0.8871 - val_loss: 0.2470 - learning_rate: 0.0050\n",
      "Epoch 2/50\n",
      "\u001b[1m4045/4045\u001b[0m \u001b[32m━━━━━━━━━━━━━━━━━━━━\u001b[0m\u001b[37m\u001b[0m \u001b[1m382s\u001b[0m 94ms/step - auc: 0.8866 - loss: 0.2466 - val_auc: 0.8879 - val_loss: 0.2456 - learning_rate: 0.0050\n",
      "Epoch 3/50\n",
      "\u001b[1m4045/4045\u001b[0m \u001b[32m━━━━━━━━━━━━━━━━━━━━\u001b[0m\u001b[37m\u001b[0m \u001b[1m386s\u001b[0m 95ms/step - auc: 0.8876 - loss: 0.2461 - val_auc: 0.8880 - val_loss: 0.2454 - learning_rate: 0.0050\n",
      "Epoch 4/50\n",
      "\u001b[1m4045/4045\u001b[0m \u001b[32m━━━━━━━━━━━━━━━━━━━━\u001b[0m\u001b[37m\u001b[0m \u001b[1m383s\u001b[0m 95ms/step - auc: 0.8880 - loss: 0.2458 - val_auc: 0.8884 - val_loss: 0.2450 - learning_rate: 0.0050\n",
      "Epoch 5/50\n",
      "\u001b[1m4045/4045\u001b[0m \u001b[32m━━━━━━━━━━━━━━━━━━━━\u001b[0m\u001b[37m\u001b[0m \u001b[1m389s\u001b[0m 96ms/step - auc: 0.8891 - loss: 0.2448 - val_auc: 0.8890 - val_loss: 0.2445 - learning_rate: 0.0015\n",
      "Epoch 6/50\n",
      "\u001b[1m4045/4045\u001b[0m \u001b[32m━━━━━━━━━━━━━━━━━━━━\u001b[0m\u001b[37m\u001b[0m \u001b[1m387s\u001b[0m 95ms/step - auc: 0.8893 - loss: 0.2446 - val_auc: 0.8890 - val_loss: 0.2445 - learning_rate: 0.0015\n",
      "Epoch 7/50\n",
      "\u001b[1m4045/4045\u001b[0m \u001b[32m━━━━━━━━━━━━━━━━━━━━\u001b[0m\u001b[37m\u001b[0m \u001b[1m385s\u001b[0m 95ms/step - auc: 0.8895 - loss: 0.2444 - val_auc: 0.8890 - val_loss: 0.2445 - learning_rate: 0.0015\n",
      "Epoch 8/50\n",
      "\u001b[1m4045/4045\u001b[0m \u001b[32m━━━━━━━━━━━━━━━━━━━━\u001b[0m\u001b[37m\u001b[0m \u001b[1m385s\u001b[0m 95ms/step - auc: 0.8902 - loss: 0.2439 - val_auc: 0.8891 - val_loss: 0.2444 - learning_rate: 4.5000e-04\n",
      "Epoch 9/50\n",
      "\u001b[1m4045/4045\u001b[0m \u001b[32m━━━━━━━━━━━━━━━━━━━━\u001b[0m\u001b[37m\u001b[0m \u001b[1m442s\u001b[0m 95ms/step - auc: 0.8899 - loss: 0.2439 - val_auc: 0.8890 - val_loss: 0.2444 - learning_rate: 4.5000e-04\n",
      "Epoch 10/50\n",
      "\u001b[1m4045/4045\u001b[0m \u001b[32m━━━━━━━━━━━━━━━━━━━━\u001b[0m\u001b[37m\u001b[0m \u001b[1m385s\u001b[0m 95ms/step - auc: 0.8902 - loss: 0.2440 - val_auc: 0.8890 - val_loss: 0.2445 - learning_rate: 4.5000e-04\n",
      "Epoch 11/50\n",
      "\u001b[1m4045/4045\u001b[0m \u001b[32m━━━━━━━━━━━━━━━━━━━━\u001b[0m\u001b[37m\u001b[0m \u001b[1m382s\u001b[0m 94ms/step - auc: 0.8904 - loss: 0.2437 - val_auc: 0.8890 - val_loss: 0.2444 - learning_rate: 1.3500e-04\n",
      "\u001b[1m1124/1124\u001b[0m \u001b[32m━━━━━━━━━━━━━━━━━━━━\u001b[0m\u001b[37m\u001b[0m \u001b[1m36s\u001b[0m 31ms/step\n",
      "\u001b[1m3746/3746\u001b[0m \u001b[32m━━━━━━━━━━━━━━━━━━━━\u001b[0m\u001b[37m\u001b[0m \u001b[1m122s\u001b[0m 33ms/step\n",
      "\n",
      "--- Fold 2 - AUC: 0.88899\n",
      "\n",
      "\n",
      "Epoch 1/50\n",
      "\u001b[1m4045/4045\u001b[0m \u001b[32m━━━━━━━━━━━━━━━━━━━━\u001b[0m\u001b[37m\u001b[0m \u001b[1m391s\u001b[0m 94ms/step - auc: 0.8732 - loss: 0.2701 - val_auc: 0.8877 - val_loss: 0.2454 - learning_rate: 0.0050\n",
      "Epoch 2/50\n",
      "\u001b[1m4045/4045\u001b[0m \u001b[32m━━━━━━━━━━━━━━━━━━━━\u001b[0m\u001b[37m\u001b[0m \u001b[1m386s\u001b[0m 95ms/step - auc: 0.8866 - loss: 0.2468 - val_auc: 0.8884 - val_loss: 0.2452 - learning_rate: 0.0050\n",
      "Epoch 3/50\n",
      "\u001b[1m4045/4045\u001b[0m \u001b[32m━━━━━━━━━━━━━━━━━━━━\u001b[0m\u001b[37m\u001b[0m \u001b[1m382s\u001b[0m 94ms/step - auc: 0.8872 - loss: 0.2465 - val_auc: 0.8883 - val_loss: 0.2466 - learning_rate: 0.0050\n",
      "Epoch 4/50\n",
      "\u001b[1m4045/4045\u001b[0m \u001b[32m━━━━━━━━━━━━━━━━━━━━\u001b[0m\u001b[37m\u001b[0m \u001b[1m379s\u001b[0m 93ms/step - auc: 0.8879 - loss: 0.2458 - val_auc: 0.8887 - val_loss: 0.2446 - learning_rate: 0.0050\n",
      "Epoch 5/50\n",
      "\u001b[1m4045/4045\u001b[0m \u001b[32m━━━━━━━━━━━━━━━━━━━━\u001b[0m\u001b[37m\u001b[0m \u001b[1m385s\u001b[0m 95ms/step - auc: 0.8889 - loss: 0.2450 - val_auc: 0.8891 - val_loss: 0.2443 - learning_rate: 0.0015\n",
      "Epoch 6/50\n",
      "\u001b[1m4045/4045\u001b[0m \u001b[32m━━━━━━━━━━━━━━━━━━━━\u001b[0m\u001b[37m\u001b[0m \u001b[1m380s\u001b[0m 94ms/step - auc: 0.8893 - loss: 0.2448 - val_auc: 0.8891 - val_loss: 0.2442 - learning_rate: 0.0015\n",
      "Epoch 7/50\n",
      "\u001b[1m4045/4045\u001b[0m \u001b[32m━━━━━━━━━━━━━━━━━━━━\u001b[0m\u001b[37m\u001b[0m \u001b[1m380s\u001b[0m 94ms/step - auc: 0.8894 - loss: 0.2445 - val_auc: 0.8891 - val_loss: 0.2442 - learning_rate: 0.0015\n",
      "Epoch 8/50\n",
      "\u001b[1m4045/4045\u001b[0m \u001b[32m━━━━━━━━━━━━━━━━━━━━\u001b[0m\u001b[37m\u001b[0m \u001b[1m380s\u001b[0m 94ms/step - auc: 0.8897 - loss: 0.2443 - val_auc: 0.8892 - val_loss: 0.2441 - learning_rate: 4.5000e-04\n",
      "Epoch 9/50\n",
      "\u001b[1m4045/4045\u001b[0m \u001b[32m━━━━━━━━━━━━━━━━━━━━\u001b[0m\u001b[37m\u001b[0m \u001b[1m381s\u001b[0m 94ms/step - auc: 0.8900 - loss: 0.2441 - val_auc: 0.8892 - val_loss: 0.2441 - learning_rate: 4.5000e-04\n",
      "Epoch 10/50\n",
      "\u001b[1m4045/4045\u001b[0m \u001b[32m━━━━━━━━━━━━━━━━━━━━\u001b[0m\u001b[37m\u001b[0m \u001b[1m381s\u001b[0m 94ms/step - auc: 0.8900 - loss: 0.2442 - val_auc: 0.8892 - val_loss: 0.2441 - learning_rate: 4.5000e-04\n",
      "Epoch 11/50\n",
      "\u001b[1m4045/4045\u001b[0m \u001b[32m━━━━━━━━━━━━━━━━━━━━\u001b[0m\u001b[37m\u001b[0m \u001b[1m378s\u001b[0m 93ms/step - auc: 0.8901 - loss: 0.2439 - val_auc: 0.8892 - val_loss: 0.2441 - learning_rate: 1.3500e-04\n",
      "\u001b[1m1124/1124\u001b[0m \u001b[32m━━━━━━━━━━━━━━━━━━━━\u001b[0m\u001b[37m\u001b[0m \u001b[1m37s\u001b[0m 32ms/step\n",
      "\u001b[1m3746/3746\u001b[0m \u001b[32m━━━━━━━━━━━━━━━━━━━━\u001b[0m\u001b[37m\u001b[0m \u001b[1m125s\u001b[0m 33ms/step\n",
      "\n",
      "--- Fold 3 - AUC: 0.88903\n",
      "\n",
      "\n",
      "Epoch 1/50\n",
      "\u001b[1m4045/4045\u001b[0m \u001b[32m━━━━━━━━━━━━━━━━━━━━\u001b[0m\u001b[37m\u001b[0m \u001b[1m397s\u001b[0m 96ms/step - auc: 0.8724 - loss: 0.2691 - val_auc: 0.8875 - val_loss: 0.2457 - learning_rate: 0.0050\n",
      "Epoch 2/50\n",
      "\u001b[1m4045/4045\u001b[0m \u001b[32m━━━━━━━━━━━━━━━━━━━━\u001b[0m\u001b[37m\u001b[0m \u001b[1m374s\u001b[0m 92ms/step - auc: 0.8868 - loss: 0.2467 - val_auc: 0.8885 - val_loss: 0.2448 - learning_rate: 0.0050\n",
      "Epoch 3/50\n",
      "\u001b[1m4045/4045\u001b[0m \u001b[32m━━━━━━━━━━━━━━━━━━━━\u001b[0m\u001b[37m\u001b[0m \u001b[1m376s\u001b[0m 93ms/step - auc: 0.8874 - loss: 0.2461 - val_auc: 0.8884 - val_loss: 0.2450 - learning_rate: 0.0050\n",
      "Epoch 4/50\n",
      "\u001b[1m4045/4045\u001b[0m \u001b[32m━━━━━━━━━━━━━━━━━━━━\u001b[0m\u001b[37m\u001b[0m \u001b[1m373s\u001b[0m 92ms/step - auc: 0.8878 - loss: 0.2459 - val_auc: 0.8890 - val_loss: 0.2485 - learning_rate: 0.0050\n",
      "Epoch 5/50\n",
      "\u001b[1m4045/4045\u001b[0m \u001b[32m━━━━━━━━━━━━━━━━━━━━\u001b[0m\u001b[37m\u001b[0m \u001b[1m381s\u001b[0m 94ms/step - auc: 0.8889 - loss: 0.2450 - val_auc: 0.8892 - val_loss: 0.2441 - learning_rate: 0.0015\n",
      "Epoch 6/50\n",
      "\u001b[1m4045/4045\u001b[0m \u001b[32m━━━━━━━━━━━━━━━━━━━━\u001b[0m\u001b[37m\u001b[0m \u001b[1m380s\u001b[0m 94ms/step - auc: 0.8891 - loss: 0.2446 - val_auc: 0.8892 - val_loss: 0.2442 - learning_rate: 0.0015\n",
      "Epoch 7/50\n",
      "\u001b[1m4045/4045\u001b[0m \u001b[32m━━━━━━━━━━━━━━━━━━━━\u001b[0m\u001b[37m\u001b[0m \u001b[1m377s\u001b[0m 93ms/step - auc: 0.8892 - loss: 0.2449 - val_auc: 0.8893 - val_loss: 0.2440 - learning_rate: 0.0015\n",
      "Epoch 8/50\n",
      "\u001b[1m4045/4045\u001b[0m \u001b[32m━━━━━━━━━━━━━━━━━━━━\u001b[0m\u001b[37m\u001b[0m \u001b[1m380s\u001b[0m 94ms/step - auc: 0.8899 - loss: 0.2442 - val_auc: 0.8893 - val_loss: 0.2440 - learning_rate: 4.5000e-04\n",
      "Epoch 9/50\n",
      "\u001b[1m4045/4045\u001b[0m \u001b[32m━━━━━━━━━━━━━━━━━━━━\u001b[0m\u001b[37m\u001b[0m \u001b[1m381s\u001b[0m 94ms/step - auc: 0.8900 - loss: 0.2442 - val_auc: 0.8893 - val_loss: 0.2440 - learning_rate: 4.5000e-04\n",
      "Epoch 10/50\n",
      "\u001b[1m4045/4045\u001b[0m \u001b[32m━━━━━━━━━━━━━━━━━━━━\u001b[0m\u001b[37m\u001b[0m \u001b[1m383s\u001b[0m 95ms/step - auc: 0.8901 - loss: 0.2439 - val_auc: 0.8893 - val_loss: 0.2440 - learning_rate: 4.5000e-04\n",
      "Epoch 11/50\n",
      "\u001b[1m4045/4045\u001b[0m \u001b[32m━━━━━━━━━━━━━━━━━━━━\u001b[0m\u001b[37m\u001b[0m \u001b[1m387s\u001b[0m 96ms/step - auc: 0.8903 - loss: 0.2437 - val_auc: 0.8893 - val_loss: 0.2440 - learning_rate: 1.3500e-04\n",
      "Epoch 12/50\n",
      "\u001b[1m4045/4045\u001b[0m \u001b[32m━━━━━━━━━━━━━━━━━━━━\u001b[0m\u001b[37m\u001b[0m \u001b[1m376s\u001b[0m 93ms/step - auc: 0.8902 - loss: 0.2439 - val_auc: 0.8893 - val_loss: 0.2440 - learning_rate: 1.3500e-04\n",
      "Epoch 13/50\n",
      "\u001b[1m4045/4045\u001b[0m \u001b[32m━━━━━━━━━━━━━━━━━━━━\u001b[0m\u001b[37m\u001b[0m \u001b[1m381s\u001b[0m 94ms/step - auc: 0.8900 - loss: 0.2441 - val_auc: 0.8893 - val_loss: 0.2440 - learning_rate: 1.3500e-04\n",
      "Epoch 14/50\n",
      "\u001b[1m4045/4045\u001b[0m \u001b[32m━━━━━━━━━━━━━━━━━━━━\u001b[0m\u001b[37m\u001b[0m \u001b[1m377s\u001b[0m 93ms/step - auc: 0.8900 - loss: 0.2440 - val_auc: 0.8893 - val_loss: 0.2440 - learning_rate: 4.0500e-05\n",
      "\u001b[1m1124/1124\u001b[0m \u001b[32m━━━━━━━━━━━━━━━━━━━━\u001b[0m\u001b[37m\u001b[0m \u001b[1m34s\u001b[0m 28ms/step\n",
      "\u001b[1m3746/3746\u001b[0m \u001b[32m━━━━━━━━━━━━━━━━━━━━\u001b[0m\u001b[37m\u001b[0m \u001b[1m129s\u001b[0m 34ms/step\n",
      "\n",
      "--- Fold 4 - AUC: 0.88886\n",
      "\n",
      "\n",
      "Epoch 1/50\n",
      "\u001b[1m4045/4045\u001b[0m \u001b[32m━━━━━━━━━━━━━━━━━━━━\u001b[0m\u001b[37m\u001b[0m \u001b[1m400s\u001b[0m 96ms/step - auc: 0.8723 - loss: 0.2699 - val_auc: 0.8875 - val_loss: 0.2468 - learning_rate: 0.0050\n",
      "Epoch 2/50\n",
      "\u001b[1m4045/4045\u001b[0m \u001b[32m━━━━━━━━━━━━━━━━━━━━\u001b[0m\u001b[37m\u001b[0m \u001b[1m376s\u001b[0m 93ms/step - auc: 0.8868 - loss: 0.2468 - val_auc: 0.8875 - val_loss: 0.2462 - learning_rate: 0.0050\n",
      "Epoch 3/50\n",
      "\u001b[1m4045/4045\u001b[0m \u001b[32m━━━━━━━━━━━━━━━━━━━━\u001b[0m\u001b[37m\u001b[0m \u001b[1m376s\u001b[0m 93ms/step - auc: 0.8873 - loss: 0.2462 - val_auc: 0.8884 - val_loss: 0.2452 - learning_rate: 0.0050\n",
      "Epoch 4/50\n",
      "\u001b[1m4045/4045\u001b[0m \u001b[32m━━━━━━━━━━━━━━━━━━━━\u001b[0m\u001b[37m\u001b[0m \u001b[1m381s\u001b[0m 94ms/step - auc: 0.8881 - loss: 0.2460 - val_auc: 0.8887 - val_loss: 0.2456 - learning_rate: 0.0050\n",
      "Epoch 5/50\n",
      "\u001b[1m4045/4045\u001b[0m \u001b[32m━━━━━━━━━━━━━━━━━━━━\u001b[0m\u001b[37m\u001b[0m \u001b[1m377s\u001b[0m 93ms/step - auc: 0.8889 - loss: 0.2449 - val_auc: 0.8891 - val_loss: 0.2444 - learning_rate: 0.0015\n",
      "Epoch 6/50\n",
      "\u001b[1m4045/4045\u001b[0m \u001b[32m━━━━━━━━━━━━━━━━━━━━\u001b[0m\u001b[37m\u001b[0m \u001b[1m381s\u001b[0m 94ms/step - auc: 0.8895 - loss: 0.2448 - val_auc: 0.8891 - val_loss: 0.2444 - learning_rate: 0.0015\n",
      "Epoch 7/50\n",
      "\u001b[1m4045/4045\u001b[0m \u001b[32m━━━━━━━━━━━━━━━━━━━━\u001b[0m\u001b[37m\u001b[0m \u001b[1m396s\u001b[0m 98ms/step - auc: 0.8895 - loss: 0.2446 - val_auc: 0.8892 - val_loss: 0.2443 - learning_rate: 0.0015\n",
      "Epoch 8/50\n",
      "\u001b[1m4045/4045\u001b[0m \u001b[32m━━━━━━━━━━━━━━━━━━━━\u001b[0m\u001b[37m\u001b[0m \u001b[1m382s\u001b[0m 94ms/step - auc: 0.8899 - loss: 0.2443 - val_auc: 0.8892 - val_loss: 0.2443 - learning_rate: 4.5000e-04\n",
      "Epoch 9/50\n",
      "\u001b[1m4045/4045\u001b[0m \u001b[32m━━━━━━━━━━━━━━━━━━━━\u001b[0m\u001b[37m\u001b[0m \u001b[1m389s\u001b[0m 96ms/step - auc: 0.8902 - loss: 0.2438 - val_auc: 0.8891 - val_loss: 0.2443 - learning_rate: 4.5000e-04\n",
      "Epoch 10/50\n",
      "\u001b[1m4045/4045\u001b[0m \u001b[32m━━━━━━━━━━━━━━━━━━━━\u001b[0m\u001b[37m\u001b[0m \u001b[1m437s\u001b[0m 95ms/step - auc: 0.8903 - loss: 0.2438 - val_auc: 0.8892 - val_loss: 0.2443 - learning_rate: 4.5000e-04\n",
      "Epoch 11/50\n",
      "\u001b[1m4045/4045\u001b[0m \u001b[32m━━━━━━━━━━━━━━━━━━━━\u001b[0m\u001b[37m\u001b[0m \u001b[1m379s\u001b[0m 94ms/step - auc: 0.8903 - loss: 0.2439 - val_auc: 0.8892 - val_loss: 0.2443 - learning_rate: 1.3500e-04\n",
      "\u001b[1m1124/1124\u001b[0m \u001b[32m━━━━━━━━━━━━━━━━━━━━\u001b[0m\u001b[37m\u001b[0m \u001b[1m33s\u001b[0m 28ms/step\n",
      "\u001b[1m3746/3746\u001b[0m \u001b[32m━━━━━━━━━━━━━━━━━━━━\u001b[0m\u001b[37m\u001b[0m \u001b[1m124s\u001b[0m 33ms/step\n",
      "\n",
      "--- Fold 5 - AUC: 0.88873\n",
      "\n",
      "\n",
      "------ Average AUC:      0.88895 ± 0.00014\n",
      "\n",
      "\n"
     ]
    }
   ],
   "source": [
    "trainer = Trainer(model)\n",
    "oof_pred_probs, scores = trainer.fit_predict(X, y, X_test)"
   ]
  },
  {
   "cell_type": "code",
   "execution_count": 13,
   "id": "080da7a6",
   "metadata": {
    "execution": {
     "iopub.execute_input": "2024-07-13T00:54:58.536815Z",
     "iopub.status.busy": "2024-07-13T00:54:58.536271Z",
     "iopub.status.idle": "2024-07-13T00:55:13.970198Z",
     "shell.execute_reply": "2024-07-13T00:55:13.969043Z"
    },
    "papermill": {
     "duration": 40.800066,
     "end_time": "2024-07-13T00:55:13.973552",
     "exception": false,
     "start_time": "2024-07-13T00:54:33.173486",
     "status": "completed"
    },
    "tags": []
   },
   "outputs": [
    {
     "data": {
      "image/png": "[encoded data removed]",
      "text/plain": [
       "<Figure size 1400x700 with 2 Axes>"
      ]
     },
     "metadata": {},
     "output_type": "display_data"
    }
   ],
   "source": [
    "fig, axes = plt.subplots(nrows=1, ncols=2, figsize=(14, 7))\n",
    "\n",
    "fpr, tpr, _ = roc_curve(y, oof_pred_probs[:, 1])\n",
    "axes[0].plot(fpr, tpr, label=f'AUC: {np.mean(scores):.5f}', color='#651FFF')\n",
    "axes[0].plot([0, 1], [0, 1], color='black', linestyle='--')\n",
    "axes[0].set_xlabel('False Positive Rate')\n",
    "axes[0].set_ylabel('True Positive Rate')\n",
    "axes[0].legend()\n",
    "axes[0].grid(True)\n",
    "axes[0].set_aspect('equal', adjustable='box')\n",
    "\n",
    "y_pred = oof_pred_probs.argmax(axis=1)\n",
    "cm = confusion_matrix(y, y_pred)\n",
    "sns.heatmap(\n",
    "    cm, \n",
    "    annot=True, \n",
    "    fmt='d', \n",
    "    ax=axes[1], \n",
    "    cbar=False,\n",
    "    cmap=sns.light_palette('#651FFF', reverse=False, as_cmap=True), \n",
    ")\n",
    "axes[1].set_xlabel('Predicted')\n",
    "axes[1].set_ylabel('Actual')\n",
    "axes[1].set_aspect('equal', adjustable='box')\n",
    "\n",
    "plt.tight_layout()\n",
    "plt.show()"
   ]
  }
 ],
 "metadata": {
  "kaggle": {
   "accelerator": "none",
   "dataSources": [
    {
     "databundleVersionId": 8930475,
     "sourceId": 73291,
     "sourceType": "competition"
    }
   ],
   "dockerImageVersionId": 30732,
   "isGpuEnabled": false,
   "isInternetEnabled": true,
   "language": "python",
   "sourceType": "notebook"
  },
  "kernelspec": {
   "display_name": "Python 3",
   "language": "python",
   "name": "python3"
  },
  "language_info": {
   "codemirror_mode": {
    "name": "ipython",
    "version": 3
   },
   "file_extension": ".py",
   "mimetype": "text/x-python",
   "name": "python",
   "nbconvert_exporter": "python",
   "pygments_lexer": "ipython3",
   "version": "3.10.13"
  },
  "papermill": {
   "default_parameters": {},
   "duration": 24580.010197,
   "end_time": "2024-07-13T00:55:42.899682",
   "environment_variables": {},
   "exception": null,
   "input_path": "__notebook__.ipynb",
   "output_path": "__notebook__.ipynb",
   "parameters": {},
   "start_time": "2024-07-12T18:06:02.889485",
   "version": "2.5.0"
  }
 },
 "nbformat": 4,
 "nbformat_minor": 5
}
