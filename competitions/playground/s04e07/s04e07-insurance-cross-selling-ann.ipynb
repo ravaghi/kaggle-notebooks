{
 "cells": [
  {
   "cell_type": "markdown",
   "id": "1a1b94b2",
   "metadata": {
    "papermill": {
     "duration": 0.004042,
     "end_time": "2024-07-22T07:33:43.959561",
     "exception": false,
     "start_time": "2024-07-22T07:33:43.955519",
     "status": "completed"
    },
    "tags": []
   },
   "source": [
    "The work in this notebook is based on [this discussion post](https://www.kaggle.com/competitions/playground-series-s4e7/discussion/518760) by AmbrosM. I've added \n",
    "* Cross-validation\n",
    "* New features\n",
    "* New hyperparameters"
   ]
  },
  {
   "cell_type": "code",
   "execution_count": 1,
   "id": "c99162ef",
   "metadata": {
    "_kg_hide-output": true,
    "execution": {
     "iopub.execute_input": "2024-07-22T07:33:43.968570Z",
     "iopub.status.busy": "2024-07-22T07:33:43.968204Z",
     "iopub.status.idle": "2024-07-22T07:34:03.259024Z",
     "shell.execute_reply": "2024-07-22T07:34:03.257640Z"
    },
    "papermill": {
     "duration": 19.298276,
     "end_time": "2024-07-22T07:34:03.261699",
     "exception": false,
     "start_time": "2024-07-22T07:33:43.963423",
     "status": "completed"
    },
    "tags": []
   },
   "outputs": [
    {
     "name": "stdout",
     "output_type": "stream",
     "text": [
      "\u001b[31mERROR: pip's dependency resolver does not currently take into account all the packages that are installed. This behaviour is the source of the following dependency conflicts.\r\n",
      "spopt 0.6.0 requires shapely>=2.0.1, but you have shapely 1.8.5.post1 which is incompatible.\u001b[0m\u001b[31m\r\n",
      "\u001b[0m"
     ]
    }
   ],
   "source": [
    "!pip install -q scikit-learn==1.4 && pip install -q --no-deps scikeras"
   ]
  },
  {
   "cell_type": "code",
   "execution_count": 2,
   "id": "2b39772b",
   "metadata": {
    "_cell_guid": "b1076dfc-b9ad-4769-8c92-a6c4dae69d19",
    "_kg_hide-output": true,
    "_uuid": "8f2839f25d086af736a60e9eeb907d3b93b6e0e5",
    "execution": {
     "iopub.execute_input": "2024-07-22T07:34:03.271197Z",
     "iopub.status.busy": "2024-07-22T07:34:03.270847Z",
     "iopub.status.idle": "2024-07-22T07:34:17.722538Z",
     "shell.execute_reply": "2024-07-22T07:34:17.721450Z"
    },
    "papermill": {
     "duration": 14.459376,
     "end_time": "2024-07-22T07:34:17.724998",
     "exception": false,
     "start_time": "2024-07-22T07:34:03.265622",
     "status": "completed"
    },
    "tags": []
   },
   "outputs": [
    {
     "name": "stderr",
     "output_type": "stream",
     "text": [
      "2024-07-22 07:34:06.398658: E external/local_xla/xla/stream_executor/cuda/cuda_dnn.cc:9261] Unable to register cuDNN factory: Attempting to register factory for plugin cuDNN when one has already been registered\n",
      "2024-07-22 07:34:06.398789: E external/local_xla/xla/stream_executor/cuda/cuda_fft.cc:607] Unable to register cuFFT factory: Attempting to register factory for plugin cuFFT when one has already been registered\n",
      "2024-07-22 07:34:06.544259: E external/local_xla/xla/stream_executor/cuda/cuda_blas.cc:1515] Unable to register cuBLAS factory: Attempting to register factory for plugin cuBLAS when one has already been registered\n"
     ]
    }
   ],
   "source": [
    "from sklearn.preprocessing import StandardScaler, FunctionTransformer, OneHotEncoder, TargetEncoder\n",
    "from sklearn.metrics import roc_auc_score, roc_curve, confusion_matrix\n",
    "from sklearn.model_selection import StratifiedKFold\n",
    "from sklearn.compose import ColumnTransformer\n",
    "from scikeras.wrappers import KerasClassifier\n",
    "from sklearn.pipeline import make_pipeline\n",
    "from sklearn.base import clone\n",
    "import matplotlib.pyplot as plt\n",
    "from pathlib import Path\n",
    "import seaborn as sns\n",
    "import pandas as pd\n",
    "import numpy as np\n",
    "import pickle\n",
    "import keras\n",
    "import gc"
   ]
  },
  {
   "cell_type": "code",
   "execution_count": 3,
   "id": "74cb18d3",
   "metadata": {
    "execution": {
     "iopub.execute_input": "2024-07-22T07:34:17.734393Z",
     "iopub.status.busy": "2024-07-22T07:34:17.733810Z",
     "iopub.status.idle": "2024-07-22T07:34:17.738827Z",
     "shell.execute_reply": "2024-07-22T07:34:17.737905Z"
    },
    "papermill": {
     "duration": 0.011862,
     "end_time": "2024-07-22T07:34:17.740827",
     "exception": false,
     "start_time": "2024-07-22T07:34:17.728965",
     "status": "completed"
    },
    "tags": []
   },
   "outputs": [],
   "source": [
    "TARGET = 'Response'\n",
    "N_FOLDS = 5\n",
    "SEED = 90\n",
    "\n",
    "N_EPOCHS = 25\n",
    "LEARNING_RATE = 0.005\n",
    "BATCH_SIZE = 2048\n",
    "EVAL_BATCH_SIZE = 65536"
   ]
  },
  {
   "cell_type": "code",
   "execution_count": 4,
   "id": "4e9255be",
   "metadata": {
    "execution": {
     "iopub.execute_input": "2024-07-22T07:34:17.749953Z",
     "iopub.status.busy": "2024-07-22T07:34:17.749505Z",
     "iopub.status.idle": "2024-07-22T07:34:49.739619Z",
     "shell.execute_reply": "2024-07-22T07:34:49.738636Z"
    },
    "papermill": {
     "duration": 31.997316,
     "end_time": "2024-07-22T07:34:49.742049",
     "exception": false,
     "start_time": "2024-07-22T07:34:17.744733",
     "status": "completed"
    },
    "tags": []
   },
   "outputs": [],
   "source": [
    "train = pd.read_csv('/kaggle/input/playground-series-s4e7/train.csv', index_col='id')\n",
    "test = pd.read_csv('/kaggle/input/playground-series-s4e7/test.csv', index_col='id')\n",
    "original = pd.read_csv('/kaggle/input/health-insurance-cross-sell-prediction-data/train.csv', index_col='id')"
   ]
  },
  {
   "cell_type": "code",
   "execution_count": 5,
   "id": "97b95a44",
   "metadata": {
    "execution": {
     "iopub.execute_input": "2024-07-22T07:34:49.751530Z",
     "iopub.status.busy": "2024-07-22T07:34:49.751184Z",
     "iopub.status.idle": "2024-07-22T07:35:01.615695Z",
     "shell.execute_reply": "2024-07-22T07:35:01.614620Z"
    },
    "papermill": {
     "duration": 11.872149,
     "end_time": "2024-07-22T07:35:01.618364",
     "exception": false,
     "start_time": "2024-07-22T07:34:49.746215",
     "status": "completed"
    },
    "tags": []
   },
   "outputs": [],
   "source": [
    "train = pd.concat([train, original]).reset_index(drop=True) \n",
    "train = train.drop_duplicates(keep=\"last\").reset_index(drop=True)"
   ]
  },
  {
   "cell_type": "code",
   "execution_count": 6,
   "id": "3143ed4d",
   "metadata": {
    "execution": {
     "iopub.execute_input": "2024-07-22T07:35:01.628293Z",
     "iopub.status.busy": "2024-07-22T07:35:01.627931Z",
     "iopub.status.idle": "2024-07-22T07:35:03.150406Z",
     "shell.execute_reply": "2024-07-22T07:35:03.149434Z"
    },
    "papermill": {
     "duration": 1.530344,
     "end_time": "2024-07-22T07:35:03.153027",
     "exception": false,
     "start_time": "2024-07-22T07:35:01.622683",
     "status": "completed"
    },
    "tags": []
   },
   "outputs": [],
   "source": [
    "train['is_train'] = 1\n",
    "test['is_train'] = 0\n",
    "combined = pd.concat([train, test], axis=0)"
   ]
  },
  {
   "cell_type": "code",
   "execution_count": 7,
   "id": "46ef2a25",
   "metadata": {
    "execution": {
     "iopub.execute_input": "2024-07-22T07:35:03.162836Z",
     "iopub.status.busy": "2024-07-22T07:35:03.162453Z",
     "iopub.status.idle": "2024-07-22T07:36:06.909906Z",
     "shell.execute_reply": "2024-07-22T07:36:06.908950Z"
    },
    "papermill": {
     "duration": 63.755359,
     "end_time": "2024-07-22T07:36:06.912585",
     "exception": false,
     "start_time": "2024-07-22T07:35:03.157226",
     "status": "completed"
    },
    "tags": []
   },
   "outputs": [],
   "source": [
    "# Reference: https://www.kaggle.com/code/rohanrao/automl-grand-prix-1st-place-solution | Beware of data leakage\n",
    "combined['Previously_Insured_Annual_Premium'] = pd.factorize(combined['Previously_Insured'].astype(str) + combined['Annual_Premium'].astype(str))[0] \n",
    "combined['Previously_Insured_Vehicle_Age'] = pd.factorize(combined['Previously_Insured'].astype(str) + combined['Vehicle_Age'].astype(str))[0]\n",
    "combined['Previously_Insured_Vehicle_Damage'] = pd.factorize(combined['Previously_Insured'].astype(str) + combined['Vehicle_Damage'].astype(str))[0] \n",
    "combined['Previously_Insured_Vintage'] = pd.factorize(combined['Previously_Insured'].astype(str) + combined['Vintage'].astype(str))[0] \n",
    "\n",
    "train = combined[combined['is_train'] == 1].drop(columns='is_train')\n",
    "test = combined[combined['is_train'] == 0].drop(columns=['is_train', TARGET])\n",
    "\n",
    "del combined"
   ]
  },
  {
   "cell_type": "code",
   "execution_count": 8,
   "id": "aee86c50",
   "metadata": {
    "execution": {
     "iopub.execute_input": "2024-07-22T07:36:06.922947Z",
     "iopub.status.busy": "2024-07-22T07:36:06.922262Z",
     "iopub.status.idle": "2024-07-22T07:36:07.891098Z",
     "shell.execute_reply": "2024-07-22T07:36:07.889982Z"
    },
    "papermill": {
     "duration": 0.976639,
     "end_time": "2024-07-22T07:36:07.893644",
     "exception": false,
     "start_time": "2024-07-22T07:36:06.917005",
     "status": "completed"
    },
    "tags": []
   },
   "outputs": [],
   "source": [
    "X = train.drop(columns=TARGET)\n",
    "y = train[TARGET].astype(np.int8)"
   ]
  },
  {
   "cell_type": "code",
   "execution_count": 9,
   "id": "898b7951",
   "metadata": {
    "_kg_hide-output": true,
    "execution": {
     "iopub.execute_input": "2024-07-22T07:36:07.903574Z",
     "iopub.status.busy": "2024-07-22T07:36:07.903217Z",
     "iopub.status.idle": "2024-07-22T07:37:54.264678Z",
     "shell.execute_reply": "2024-07-22T07:37:54.263746Z"
    },
    "papermill": {
     "duration": 106.373467,
     "end_time": "2024-07-22T07:37:54.271466",
     "exception": false,
     "start_time": "2024-07-22T07:36:07.897999",
     "status": "completed"
    },
    "tags": []
   },
   "outputs": [
    {
     "data": {
      "text/plain": [
       "81"
      ]
     },
     "execution_count": 9,
     "metadata": {},
     "output_type": "execute_result"
    }
   ],
   "source": [
    "ohe_columns = [\n",
    "    'Gender',\n",
    "    'Region_Code',\n",
    "    'Vehicle_Age',\n",
    "    'Vehicle_Damage',\n",
    "    'Policy_Sales_Channel',\n",
    "    'Vintage',\n",
    "    'Previously_Insured_Vehicle_Age',\n",
    "    'Previously_Insured_Vehicle_Damage'\n",
    "]\n",
    "pipeline = make_pipeline(\n",
    "    ColumnTransformer(\n",
    "        [\n",
    "            ('one-hot-encode', OneHotEncoder(drop='first', sparse_output=True, dtype=np.float32, max_categories=200, handle_unknown='ignore'), ohe_columns),\n",
    "            ('target-encode', make_pipeline(TargetEncoder(), FunctionTransformer(lambda x: x.astype(np.float32)), StandardScaler()), ['Annual_Premium']),\n",
    "        ],\n",
    "        remainder=make_pipeline(FunctionTransformer(lambda X: X.astype(np.float32)), StandardScaler(copy=False))\n",
    "    )\n",
    ")\n",
    "\n",
    "X = pipeline.fit_transform(X, y)\n",
    "X_test = pipeline.transform(test)\n",
    "\n",
    "del train, test, pipeline\n",
    "gc.collect()"
   ]
  },
  {
   "cell_type": "code",
   "execution_count": 10,
   "id": "b7b8cc6d",
   "metadata": {
    "execution": {
     "iopub.execute_input": "2024-07-22T07:37:54.281950Z",
     "iopub.status.busy": "2024-07-22T07:37:54.281276Z",
     "iopub.status.idle": "2024-07-22T07:37:54.297507Z",
     "shell.execute_reply": "2024-07-22T07:37:54.296539Z"
    },
    "papermill": {
     "duration": 0.023822,
     "end_time": "2024-07-22T07:37:54.299618",
     "exception": false,
     "start_time": "2024-07-22T07:37:54.275796",
     "status": "completed"
    },
    "tags": []
   },
   "outputs": [],
   "source": [
    "class Trainer:\n",
    "    def __init__(self, model, n_folds=N_FOLDS):\n",
    "        self.model = model\n",
    "        self.n_folds = n_folds\n",
    "\n",
    "    def fit_predict(self, X, y, X_test):\n",
    "        print(f'Training {self.model.__class__.__name__}\\n')\n",
    "        \n",
    "        scores = []        \n",
    "        oof_pred_probs = np.zeros((X.shape[0], len(np.unique(y))))\n",
    "        test_pred_probs = np.zeros((X_test.shape[0], len(np.unique(y))))\n",
    "        \n",
    "        skf = StratifiedKFold(n_splits=self.n_folds, random_state=SEED, shuffle=True)\n",
    "        for fold_idx, (train_idx, val_idx) in enumerate(skf.split(X, y)):\n",
    "            X_train, X_val = X[train_idx], X[val_idx]\n",
    "            y_train, y_val = y[train_idx], y[val_idx]\n",
    "            \n",
    "            model = clone(self.model)\n",
    "            model.fit(X_train, y_train)\n",
    "            \n",
    "            y_pred_probs = model.predict_proba(X_val)\n",
    "            oof_pred_probs[val_idx] = y_pred_probs            \n",
    "            score = roc_auc_score(y_val, y_pred_probs[:, 1])\n",
    "            scores.append(score)\n",
    "            \n",
    "            temp_test_pred_probs = model.predict_proba(X_test)\n",
    "            test_pred_probs += temp_test_pred_probs / self.n_folds\n",
    "            \n",
    "            print(f'\\n--- Fold {fold_idx + 1} - AUC: {score:.5f}\\n\\n')\n",
    "            \n",
    "            del model, X_train, y_train, X_val, y_val, y_pred_probs, temp_test_pred_probs\n",
    "            gc.collect()\n",
    "            \n",
    "        self._save_pred_probs(oof_pred_probs, np.mean(scores), 'oof')\n",
    "        self._save_pred_probs(test_pred_probs, np.mean(scores), 'test')\n",
    "        self._save_submission(test_pred_probs, np.mean(scores))\n",
    "        \n",
    "        print(f'------ Average AUC:      {np.mean(scores):.5f} ± {np.std(scores):.5f}\\n\\n')\n",
    "        \n",
    "        return oof_pred_probs, scores\n",
    "        \n",
    "    def _save_pred_probs(self, pred_probs, cv_score, name):\n",
    "        model_name = self.model.__class__.__name__.lower().replace('classifier', '')\n",
    "        with open(f'{model_name}_{name}_pred_probs_{cv_score:.5f}.pkl', 'wb') as f:\n",
    "            pickle.dump(pred_probs, f)\n",
    "    \n",
    "    def _save_submission(self, test_pred_probs, score):\n",
    "        name = self.model.__class__.__name__.lower().replace('classifier', '')\n",
    "        sub = pd.read_csv('/kaggle/input/playground-series-s4e7/sample_submission.csv')\n",
    "        sub['id'] = sub['id']\n",
    "        sub[TARGET] = test_pred_probs[:, 1]\n",
    "        # Referencee https://www.kaggle.com/code/paddykb/a-glitch-in-the-insurance-matrix\n",
    "        INPUT_DIR = Path('/kaggle/input/playground-series-s4e7')\n",
    "        train_data = pd.read_csv(INPUT_DIR / 'train.csv')\n",
    "        test_data = pd.read_csv(INPUT_DIR / 'test.csv')\n",
    "        orig_data = pd.read_csv('/kaggle/input/health-insurance-cross-sell-prediction/train.csv')\n",
    "        features = sorted(set(test_data.columns) - set(['id']))\n",
    "        train_data.merge(orig_data, on=features).filter(['Response_x', 'Response_y']).value_counts().reset_index()\n",
    "        override_sub = test_data.merge(orig_data.drop(columns=['id']), on=features).assign(override=lambda x: np.where(x['Response'] == 0, 1, 0)).filter(['id', 'override']).groupby(['id'], as_index=False).agg(override=('override', 'mean'))\n",
    "        sub.merge(override_sub, how='outer').assign(Response=lambda x: np.where(x['override'].isna(), x['Response'], x['override'])).filter(['id', 'Response']).to_csv(f'sub_{name}_{score:.5f}.csv', index=False)"
   ]
  },
  {
   "cell_type": "code",
   "execution_count": 11,
   "id": "68015622",
   "metadata": {
    "execution": {
     "iopub.execute_input": "2024-07-22T07:37:54.310384Z",
     "iopub.status.busy": "2024-07-22T07:37:54.309552Z",
     "iopub.status.idle": "2024-07-22T07:37:54.316560Z",
     "shell.execute_reply": "2024-07-22T07:37:54.315557Z"
    },
    "papermill": {
     "duration": 0.014408,
     "end_time": "2024-07-22T07:37:54.318539",
     "exception": false,
     "start_time": "2024-07-22T07:37:54.304131",
     "status": "completed"
    },
    "tags": []
   },
   "outputs": [],
   "source": [
    "def get_model(meta):\n",
    "    model = keras.models.Sequential()\n",
    "    model.add(keras.layers.Input(meta[\"X_shape_\"][1:]))\n",
    "    model.add(keras.layers.Dense(52, kernel_initializer='truncated_normal', activation='silu'))\n",
    "    model.add(keras.layers.BatchNormalization())\n",
    "    model.add(keras.layers.Dense(660, kernel_initializer='truncated_normal', activation='silu'))\n",
    "    model.add(keras.layers.BatchNormalization())\n",
    "    model.add(keras.layers.Dense(508, kernel_initializer='truncated_normal', activation='silu'))\n",
    "    model.add(keras.layers.BatchNormalization())\n",
    "    model.add(keras.layers.Dense(1, kernel_initializer='truncated_normal', activation='sigmoid'))\n",
    "    return model"
   ]
  },
  {
   "cell_type": "code",
   "execution_count": 12,
   "id": "19866ce8",
   "metadata": {
    "execution": {
     "iopub.execute_input": "2024-07-22T07:37:54.328950Z",
     "iopub.status.busy": "2024-07-22T07:37:54.328483Z",
     "iopub.status.idle": "2024-07-22T07:37:54.378015Z",
     "shell.execute_reply": "2024-07-22T07:37:54.376624Z"
    },
    "papermill": {
     "duration": 0.057495,
     "end_time": "2024-07-22T07:37:54.380517",
     "exception": false,
     "start_time": "2024-07-22T07:37:54.323022",
     "status": "completed"
    },
    "tags": []
   },
   "outputs": [],
   "source": [
    "model = KerasClassifier(\n",
    "    get_model,\n",
    "    loss=\"binary_crossentropy\",\n",
    "    metrics=[keras.metrics.AUC(name='auc')],\n",
    "    optimizer=keras.optimizers.AdamW(learning_rate=LEARNING_RATE),\n",
    "    validation_split=0.1,\n",
    "    batch_size=BATCH_SIZE,\n",
    "    validation_batch_size=EVAL_BATCH_SIZE,\n",
    "    epochs=N_EPOCHS, \n",
    "    verbose=0,\n",
    "    callbacks=[\n",
    "        keras.callbacks.ReduceLROnPlateau(monitor='val_auc', patience=3, factor=0.3),\n",
    "        keras.callbacks.EarlyStopping(monitor='val_auc', patience=3)\n",
    "    ]\n",
    ")"
   ]
  },
  {
   "cell_type": "code",
   "execution_count": 13,
   "id": "4e9a4477",
   "metadata": {
    "_kg_hide-output": true,
    "execution": {
     "iopub.execute_input": "2024-07-22T07:37:54.392281Z",
     "iopub.status.busy": "2024-07-22T07:37:54.391916Z",
     "iopub.status.idle": "2024-07-22T13:05:54.377920Z",
     "shell.execute_reply": "2024-07-22T13:05:54.376844Z"
    },
    "papermill": {
     "duration": 19679.999664,
     "end_time": "2024-07-22T13:05:54.384819",
     "exception": false,
     "start_time": "2024-07-22T07:37:54.385155",
     "status": "completed"
    },
    "tags": []
   },
   "outputs": [
    {
     "name": "stdout",
     "output_type": "stream",
     "text": [
      "Training KerasClassifier\n",
      "\n",
      "\n",
      "--- Fold 1 - AUC: 0.88830\n",
      "\n",
      "\n",
      "\n",
      "--- Fold 2 - AUC: 0.88821\n",
      "\n",
      "\n",
      "\n",
      "--- Fold 3 - AUC: 0.88837\n",
      "\n",
      "\n",
      "\n",
      "--- Fold 4 - AUC: 0.88854\n",
      "\n",
      "\n",
      "\n",
      "--- Fold 5 - AUC: 0.88861\n",
      "\n",
      "\n",
      "------ Average AUC:      0.88841 ± 0.00015\n",
      "\n",
      "\n"
     ]
    }
   ],
   "source": [
    "trainer = Trainer(model)\n",
    "oof_pred_probs, scores = trainer.fit_predict(X, y, X_test)"
   ]
  },
  {
   "cell_type": "code",
   "execution_count": 14,
   "id": "fd35c3b3",
   "metadata": {
    "execution": {
     "iopub.execute_input": "2024-07-22T13:05:54.396482Z",
     "iopub.status.busy": "2024-07-22T13:05:54.395834Z",
     "iopub.status.idle": "2024-07-22T13:06:08.439174Z",
     "shell.execute_reply": "2024-07-22T13:06:08.437955Z"
    },
    "papermill": {
     "duration": 14.051912,
     "end_time": "2024-07-22T13:06:08.441648",
     "exception": false,
     "start_time": "2024-07-22T13:05:54.389736",
     "status": "completed"
    },
    "tags": []
   },
   "outputs": [
    {
     "data": {
      "image/png": "[encoded data removed]",
      "text/plain": [
       "<Figure size 1400x700 with 2 Axes>"
      ]
     },
     "metadata": {},
     "output_type": "display_data"
    }
   ],
   "source": [
    "fig, axes = plt.subplots(nrows=1, ncols=2, figsize=(14, 7))\n",
    "\n",
    "fpr, tpr, _ = roc_curve(y, oof_pred_probs[:, 1])\n",
    "axes[0].plot(fpr, tpr, label=f'AUC: {np.mean(scores):.5f}', color='#651FFF')\n",
    "axes[0].plot([0, 1], [0, 1], color='black', linestyle='--')\n",
    "axes[0].set_xlabel('False Positive Rate')\n",
    "axes[0].set_ylabel('True Positive Rate')\n",
    "axes[0].legend()\n",
    "axes[0].grid(True)\n",
    "axes[0].set_aspect('equal', adjustable='box')\n",
    "\n",
    "y_pred = oof_pred_probs.argmax(axis=1)\n",
    "cm = confusion_matrix(y, y_pred)\n",
    "sns.heatmap(\n",
    "    cm, \n",
    "    annot=True, \n",
    "    fmt=',', \n",
    "    ax=axes[1], \n",
    "    cbar=False,\n",
    "    cmap=sns.light_palette('#651FFF', reverse=False, as_cmap=True), \n",
    ")\n",
    "axes[1].set_xlabel('Predicted')\n",
    "axes[1].set_ylabel('Actual')\n",
    "axes[1].set_aspect('equal', adjustable='box')\n",
    "\n",
    "plt.tight_layout()\n",
    "plt.show()"
   ]
  }
 ],
 "metadata": {
  "kaggle": {
   "accelerator": "none",
   "dataSources": [
    {
     "databundleVersionId": 8930475,
     "sourceId": 73291,
     "sourceType": "competition"
    },
    {
     "datasetId": 4268036,
     "sourceId": 7349720,
     "sourceType": "datasetVersion"
    },
    {
     "datasetId": 869050,
     "sourceId": 1480773,
     "sourceType": "datasetVersion"
    }
   ],
   "dockerImageVersionId": 30732,
   "isGpuEnabled": false,
   "isInternetEnabled": true,
   "language": "python",
   "sourceType": "notebook"
  },
  "kernelspec": {
   "display_name": "Python 3",
   "language": "python",
   "name": "python3"
  },
  "language_info": {
   "codemirror_mode": {
    "name": "ipython",
    "version": 3
   },
   "file_extension": ".py",
   "mimetype": "text/x-python",
   "name": "python",
   "nbconvert_exporter": "python",
   "pygments_lexer": "ipython3",
   "version": "3.10.13"
  },
  "papermill": {
   "default_parameters": {},
   "duration": 19950.281374,
   "end_time": "2024-07-22T13:06:11.537635",
   "environment_variables": {},
   "exception": null,
   "input_path": "__notebook__.ipynb",
   "output_path": "__notebook__.ipynb",
   "parameters": {},
   "start_time": "2024-07-22T07:33:41.256261",
   "version": "2.5.0"
  }
 },
 "nbformat": 4,
 "nbformat_minor": 5
}
