{
 "cells": [
  {
   "cell_type": "markdown",
   "id": "12f915c8",
   "metadata": {
    "papermill": {
     "duration": 0.004686,
     "end_time": "2024-07-15T12:42:35.826083",
     "exception": false,
     "start_time": "2024-07-15T12:42:35.821397",
     "status": "completed"
    },
    "tags": []
   },
   "source": [
    "The work in this notebook is based on [this discussion post](https://www.kaggle.com/competitions/playground-series-s4e7/discussion/518760) by AmbrosM. I've added \n",
    "* Cross-validation\n",
    "* New features\n",
    "* New hyperparameters"
   ]
  },
  {
   "cell_type": "code",
   "execution_count": 1,
   "id": "1e256780",
   "metadata": {
    "_kg_hide-output": true,
    "execution": {
     "iopub.execute_input": "2024-07-15T12:42:35.835783Z",
     "iopub.status.busy": "2024-07-15T12:42:35.835332Z",
     "iopub.status.idle": "2024-07-15T12:42:57.158244Z",
     "shell.execute_reply": "2024-07-15T12:42:57.156900Z"
    },
    "papermill": {
     "duration": 21.330899,
     "end_time": "2024-07-15T12:42:57.160981",
     "exception": false,
     "start_time": "2024-07-15T12:42:35.830082",
     "status": "completed"
    },
    "tags": []
   },
   "outputs": [
    {
     "name": "stdout",
     "output_type": "stream",
     "text": [
      "\u001b[31mERROR: pip's dependency resolver does not currently take into account all the packages that are installed. This behaviour is the source of the following dependency conflicts.\r\n",
      "spopt 0.6.0 requires shapely>=2.0.1, but you have shapely 1.8.5.post1 which is incompatible.\u001b[0m\u001b[31m\r\n",
      "\u001b[0m"
     ]
    }
   ],
   "source": [
    "!pip install -q scikit-learn==1.4 && pip install -q --no-deps scikeras"
   ]
  },
  {
   "cell_type": "code",
   "execution_count": 2,
   "id": "d6fc18b7",
   "metadata": {
    "_cell_guid": "b1076dfc-b9ad-4769-8c92-a6c4dae69d19",
    "_kg_hide-output": true,
    "_uuid": "8f2839f25d086af736a60e9eeb907d3b93b6e0e5",
    "execution": {
     "iopub.execute_input": "2024-07-15T12:42:57.171340Z",
     "iopub.status.busy": "2024-07-15T12:42:57.170803Z",
     "iopub.status.idle": "2024-07-15T12:43:14.518240Z",
     "shell.execute_reply": "2024-07-15T12:43:14.517103Z"
    },
    "papermill": {
     "duration": 17.355761,
     "end_time": "2024-07-15T12:43:14.520867",
     "exception": false,
     "start_time": "2024-07-15T12:42:57.165106",
     "status": "completed"
    },
    "tags": []
   },
   "outputs": [
    {
     "name": "stderr",
     "output_type": "stream",
     "text": [
      "2024-07-15 12:43:00.852816: E external/local_xla/xla/stream_executor/cuda/cuda_dnn.cc:9261] Unable to register cuDNN factory: Attempting to register factory for plugin cuDNN when one has already been registered\n",
      "2024-07-15 12:43:00.853005: E external/local_xla/xla/stream_executor/cuda/cuda_fft.cc:607] Unable to register cuFFT factory: Attempting to register factory for plugin cuFFT when one has already been registered\n",
      "2024-07-15 12:43:01.014972: E external/local_xla/xla/stream_executor/cuda/cuda_blas.cc:1515] Unable to register cuBLAS factory: Attempting to register factory for plugin cuBLAS when one has already been registered\n"
     ]
    }
   ],
   "source": [
    "from sklearn.preprocessing import StandardScaler, FunctionTransformer, OneHotEncoder, TargetEncoder\n",
    "from sklearn.metrics import roc_auc_score, roc_curve, confusion_matrix\n",
    "from sklearn.model_selection import StratifiedKFold\n",
    "from sklearn.compose import ColumnTransformer\n",
    "from scikeras.wrappers import KerasClassifier\n",
    "from sklearn.pipeline import make_pipeline\n",
    "from sklearn.base import clone\n",
    "import matplotlib.pyplot as plt\n",
    "import seaborn as sns\n",
    "import pandas as pd\n",
    "import numpy as np\n",
    "import pickle\n",
    "import keras\n",
    "import gc"
   ]
  },
  {
   "cell_type": "code",
   "execution_count": 3,
   "id": "578f0bd9",
   "metadata": {
    "execution": {
     "iopub.execute_input": "2024-07-15T12:43:14.532588Z",
     "iopub.status.busy": "2024-07-15T12:43:14.531858Z",
     "iopub.status.idle": "2024-07-15T12:43:14.537925Z",
     "shell.execute_reply": "2024-07-15T12:43:14.536643Z"
    },
    "papermill": {
     "duration": 0.015047,
     "end_time": "2024-07-15T12:43:14.540242",
     "exception": false,
     "start_time": "2024-07-15T12:43:14.525195",
     "status": "completed"
    },
    "tags": []
   },
   "outputs": [],
   "source": [
    "TARGET = 'Response'\n",
    "N_FOLDS = 5\n",
    "SEED = 90\n",
    "\n",
    "N_EPOCHS = 25\n",
    "LEARNING_RATE = 0.005\n",
    "BATCH_SIZE = 2048\n",
    "EVAL_BATCH_SIZE = 65536"
   ]
  },
  {
   "cell_type": "code",
   "execution_count": 4,
   "id": "6094abbd",
   "metadata": {
    "execution": {
     "iopub.execute_input": "2024-07-15T12:43:14.550495Z",
     "iopub.status.busy": "2024-07-15T12:43:14.550097Z",
     "iopub.status.idle": "2024-07-15T12:43:48.275514Z",
     "shell.execute_reply": "2024-07-15T12:43:48.274240Z"
    },
    "papermill": {
     "duration": 33.733728,
     "end_time": "2024-07-15T12:43:48.278167",
     "exception": false,
     "start_time": "2024-07-15T12:43:14.544439",
     "status": "completed"
    },
    "tags": []
   },
   "outputs": [],
   "source": [
    "train = pd.read_csv('/kaggle/input/playground-series-s4e7/train.csv', index_col='id')\n",
    "test = pd.read_csv('/kaggle/input/playground-series-s4e7/test.csv', index_col='id')\n",
    "original = pd.read_csv('/kaggle/input/health-insurance-cross-sell-prediction-data/train.csv', index_col='id')"
   ]
  },
  {
   "cell_type": "code",
   "execution_count": 5,
   "id": "9e80f30b",
   "metadata": {
    "execution": {
     "iopub.execute_input": "2024-07-15T12:43:48.288780Z",
     "iopub.status.busy": "2024-07-15T12:43:48.287805Z",
     "iopub.status.idle": "2024-07-15T12:44:01.686540Z",
     "shell.execute_reply": "2024-07-15T12:44:01.685445Z"
    },
    "papermill": {
     "duration": 13.406466,
     "end_time": "2024-07-15T12:44:01.688879",
     "exception": false,
     "start_time": "2024-07-15T12:43:48.282413",
     "status": "completed"
    },
    "tags": []
   },
   "outputs": [
    {
     "data": {
      "text/plain": [
       "0"
      ]
     },
     "execution_count": 5,
     "metadata": {},
     "output_type": "execute_result"
    }
   ],
   "source": [
    "# Reference: https://www.kaggle.com/competitions/playground-series-s4e7/discussion/520253\n",
    "\n",
    "train[\"is_original\"] = False\n",
    "original[\"is_original\"] = True\n",
    "combined = pd.concat([train, original], axis=0)\n",
    "\n",
    "duplicates = combined.duplicated(subset=combined.columns[:-2], keep=False)\n",
    "duplicates = duplicates[duplicates].index\n",
    "\n",
    "combined.loc[duplicates, TARGET] = 1 - combined.loc[duplicates, TARGET]\n",
    "train = combined[~combined[\"is_original\"]].drop(columns=\"is_original\")\n",
    "\n",
    "del original, combined, duplicates\n",
    "gc.collect()"
   ]
  },
  {
   "cell_type": "code",
   "execution_count": 6,
   "id": "b4d6d8b7",
   "metadata": {
    "execution": {
     "iopub.execute_input": "2024-07-15T12:44:01.699450Z",
     "iopub.status.busy": "2024-07-15T12:44:01.699062Z",
     "iopub.status.idle": "2024-07-15T12:44:03.236456Z",
     "shell.execute_reply": "2024-07-15T12:44:03.232989Z"
    },
    "papermill": {
     "duration": 1.546288,
     "end_time": "2024-07-15T12:44:03.239621",
     "exception": false,
     "start_time": "2024-07-15T12:44:01.693333",
     "status": "completed"
    },
    "tags": []
   },
   "outputs": [],
   "source": [
    "train['is_train'] = 1\n",
    "test['is_train'] = 0\n",
    "combined = pd.concat([train, test], axis=0)"
   ]
  },
  {
   "cell_type": "code",
   "execution_count": 7,
   "id": "7f9efd4b",
   "metadata": {
    "execution": {
     "iopub.execute_input": "2024-07-15T12:44:03.250532Z",
     "iopub.status.busy": "2024-07-15T12:44:03.250087Z",
     "iopub.status.idle": "2024-07-15T12:45:06.490488Z",
     "shell.execute_reply": "2024-07-15T12:45:06.489404Z"
    },
    "papermill": {
     "duration": 63.249172,
     "end_time": "2024-07-15T12:45:06.493286",
     "exception": false,
     "start_time": "2024-07-15T12:44:03.244114",
     "status": "completed"
    },
    "tags": []
   },
   "outputs": [],
   "source": [
    "# Reference: https://www.kaggle.com/code/rohanrao/automl-grand-prix-1st-place-solution | Beware of data leakage\n",
    "combined['Previously_Insured_Annual_Premium'] = pd.factorize(combined['Previously_Insured'].astype(str) + combined['Annual_Premium'].astype(str))[0] \n",
    "combined['Previously_Insured_Vehicle_Age'] = pd.factorize(combined['Previously_Insured'].astype(str) + combined['Vehicle_Age'].astype(str))[0]\n",
    "combined['Previously_Insured_Vehicle_Damage'] = pd.factorize(combined['Previously_Insured'].astype(str) + combined['Vehicle_Damage'].astype(str))[0] \n",
    "combined['Previously_Insured_Vintage'] = pd.factorize(combined['Previously_Insured'].astype(str) + combined['Vintage'].astype(str))[0] \n",
    "\n",
    "train = combined[combined['is_train'] == 1].drop(columns='is_train')\n",
    "test = combined[combined['is_train'] == 0].drop(columns=['is_train', TARGET])\n",
    "\n",
    "del combined"
   ]
  },
  {
   "cell_type": "code",
   "execution_count": 8,
   "id": "71c98ab0",
   "metadata": {
    "execution": {
     "iopub.execute_input": "2024-07-15T12:45:06.504241Z",
     "iopub.status.busy": "2024-07-15T12:45:06.503542Z",
     "iopub.status.idle": "2024-07-15T12:45:07.459418Z",
     "shell.execute_reply": "2024-07-15T12:45:07.458023Z"
    },
    "papermill": {
     "duration": 0.964333,
     "end_time": "2024-07-15T12:45:07.462235",
     "exception": false,
     "start_time": "2024-07-15T12:45:06.497902",
     "status": "completed"
    },
    "tags": []
   },
   "outputs": [],
   "source": [
    "X = train.drop(columns=TARGET)\n",
    "y = train[TARGET].astype(np.int8)"
   ]
  },
  {
   "cell_type": "code",
   "execution_count": 9,
   "id": "0ac5f561",
   "metadata": {
    "_kg_hide-output": true,
    "execution": {
     "iopub.execute_input": "2024-07-15T12:45:07.473171Z",
     "iopub.status.busy": "2024-07-15T12:45:07.472743Z",
     "iopub.status.idle": "2024-07-15T12:46:55.332928Z",
     "shell.execute_reply": "2024-07-15T12:46:55.331700Z"
    },
    "papermill": {
     "duration": 107.868657,
     "end_time": "2024-07-15T12:46:55.335503",
     "exception": false,
     "start_time": "2024-07-15T12:45:07.466846",
     "status": "completed"
    },
    "tags": []
   },
   "outputs": [
    {
     "name": "stderr",
     "output_type": "stream",
     "text": [
      "/opt/conda/lib/python3.10/site-packages/sklearn/preprocessing/_encoders.py:241: UserWarning: Found unknown categories in columns [4] during transform. These unknown categories will be encoded as all zeros\n",
      "  warnings.warn(\n"
     ]
    },
    {
     "data": {
      "text/plain": [
       "81"
      ]
     },
     "execution_count": 9,
     "metadata": {},
     "output_type": "execute_result"
    }
   ],
   "source": [
    "ohe_columns = [\n",
    "    'Gender',\n",
    "    'Region_Code',\n",
    "    'Vehicle_Age',\n",
    "    'Vehicle_Damage',\n",
    "    'Policy_Sales_Channel',\n",
    "    'Vintage',\n",
    "    'Previously_Insured_Vehicle_Age',\n",
    "    'Previously_Insured_Vehicle_Damage'\n",
    "]\n",
    "pipeline = make_pipeline(\n",
    "    ColumnTransformer(\n",
    "        [\n",
    "            ('one-hot-encode', OneHotEncoder(drop='first', sparse_output=True, dtype=np.float32, max_categories=200, handle_unknown='ignore'), ohe_columns),\n",
    "            ('target-encode', make_pipeline(TargetEncoder(), FunctionTransformer(lambda x: x.astype(np.float32)), StandardScaler()), ['Annual_Premium']),\n",
    "        ],\n",
    "        remainder=make_pipeline(FunctionTransformer(lambda X: X.astype(np.float32)), StandardScaler(copy=False))\n",
    "    )\n",
    ")\n",
    "\n",
    "X = pipeline.fit_transform(X, y)\n",
    "X_test = pipeline.transform(test)\n",
    "\n",
    "del train, test, pipeline\n",
    "gc.collect()"
   ]
  },
  {
   "cell_type": "code",
   "execution_count": 10,
   "id": "29901b18",
   "metadata": {
    "execution": {
     "iopub.execute_input": "2024-07-15T12:46:55.346689Z",
     "iopub.status.busy": "2024-07-15T12:46:55.346305Z",
     "iopub.status.idle": "2024-07-15T12:46:55.360109Z",
     "shell.execute_reply": "2024-07-15T12:46:55.359003Z"
    },
    "papermill": {
     "duration": 0.022274,
     "end_time": "2024-07-15T12:46:55.362528",
     "exception": false,
     "start_time": "2024-07-15T12:46:55.340254",
     "status": "completed"
    },
    "tags": []
   },
   "outputs": [],
   "source": [
    "class Trainer:\n",
    "    def __init__(self, model, n_folds=N_FOLDS):\n",
    "        self.model = model\n",
    "        self.n_folds = n_folds\n",
    "\n",
    "    def fit_predict(self, X, y, X_test):\n",
    "        print(f'Training {self.model.__class__.__name__}\\n')\n",
    "        \n",
    "        scores = []        \n",
    "        oof_pred_probs = np.zeros((X.shape[0], len(np.unique(y))))\n",
    "        test_pred_probs = np.zeros((X_test.shape[0], len(np.unique(y))))\n",
    "        \n",
    "        skf = StratifiedKFold(n_splits=self.n_folds, random_state=SEED, shuffle=True)\n",
    "        for fold_idx, (train_idx, val_idx) in enumerate(skf.split(X, y)):\n",
    "            X_train, X_val = X[train_idx], X[val_idx]\n",
    "            y_train, y_val = y[train_idx], y[val_idx]\n",
    "            \n",
    "            model = clone(self.model)\n",
    "            model.fit(X_train, y_train)\n",
    "            \n",
    "            y_pred_probs = model.predict_proba(X_val)\n",
    "            oof_pred_probs[val_idx] = y_pred_probs            \n",
    "            score = roc_auc_score(y_val, y_pred_probs[:, 1])\n",
    "            scores.append(score)\n",
    "            \n",
    "            temp_test_pred_probs = model.predict_proba(X_test)\n",
    "            test_pred_probs += temp_test_pred_probs / self.n_folds\n",
    "            \n",
    "            print(f'\\n--- Fold {fold_idx + 1} - AUC: {score:.5f}\\n\\n')\n",
    "            \n",
    "            del model, X_train, y_train, X_val, y_val, y_pred_probs, temp_test_pred_probs\n",
    "            gc.collect()\n",
    "            \n",
    "        self._save_pred_probs(oof_pred_probs, np.mean(scores), 'oof')\n",
    "        self._save_pred_probs(test_pred_probs, np.mean(scores), 'test')\n",
    "        self._save_submission(test_pred_probs, np.mean(scores))\n",
    "        \n",
    "        print(f'------ Average AUC:      {np.mean(scores):.5f} ± {np.std(scores):.5f}\\n\\n')\n",
    "        \n",
    "        return oof_pred_probs, scores\n",
    "        \n",
    "    def _save_pred_probs(self, pred_probs, cv_score, name):\n",
    "        model_name = self.model.__class__.__name__.lower().replace('classifier', '')\n",
    "        with open(f'{model_name}_{name}_pred_probs_{cv_score:.5f}.pkl', 'wb') as f:\n",
    "            pickle.dump(pred_probs, f)\n",
    "    \n",
    "    def _save_submission(self, test_pred_probs, score):\n",
    "        sub = pd.read_csv('/kaggle/input/playground-series-s4e7/sample_submission.csv')\n",
    "        \n",
    "        sub['id'] = sub['id']\n",
    "        sub[TARGET] = test_pred_probs[:, 1]\n",
    "        \n",
    "        name = self.model.__class__.__name__.lower().replace('classifier', '')\n",
    "        sub.to_csv(f'sub_{name}_{score:.5f}.csv', index=False)"
   ]
  },
  {
   "cell_type": "code",
   "execution_count": 11,
   "id": "72402ac9",
   "metadata": {
    "execution": {
     "iopub.execute_input": "2024-07-15T12:46:55.373688Z",
     "iopub.status.busy": "2024-07-15T12:46:55.373311Z",
     "iopub.status.idle": "2024-07-15T12:46:55.380932Z",
     "shell.execute_reply": "2024-07-15T12:46:55.379823Z"
    },
    "papermill": {
     "duration": 0.015837,
     "end_time": "2024-07-15T12:46:55.383078",
     "exception": false,
     "start_time": "2024-07-15T12:46:55.367241",
     "status": "completed"
    },
    "tags": []
   },
   "outputs": [],
   "source": [
    "def get_model(meta):\n",
    "    model = keras.models.Sequential()\n",
    "    model.add(keras.layers.Input(meta[\"X_shape_\"][1:]))\n",
    "    model.add(keras.layers.Dense(229, kernel_initializer='random_uniform', activation='leaky_relu'))\n",
    "    model.add(keras.layers.BatchNormalization())\n",
    "    model.add(keras.layers.Dense(631, kernel_initializer='random_uniform', activation='leaky_relu'))\n",
    "    model.add(keras.layers.BatchNormalization())\n",
    "    model.add(keras.layers.Dense(870, kernel_initializer='random_uniform', activation='leaky_relu'))\n",
    "    model.add(keras.layers.BatchNormalization())\n",
    "    model.add(keras.layers.Dense(1, kernel_initializer='random_uniform', activation='sigmoid'))\n",
    "    return model"
   ]
  },
  {
   "cell_type": "code",
   "execution_count": 12,
   "id": "b2d0708f",
   "metadata": {
    "execution": {
     "iopub.execute_input": "2024-07-15T12:46:55.394189Z",
     "iopub.status.busy": "2024-07-15T12:46:55.393795Z",
     "iopub.status.idle": "2024-07-15T12:46:55.447285Z",
     "shell.execute_reply": "2024-07-15T12:46:55.446370Z"
    },
    "papermill": {
     "duration": 0.062041,
     "end_time": "2024-07-15T12:46:55.449813",
     "exception": false,
     "start_time": "2024-07-15T12:46:55.387772",
     "status": "completed"
    },
    "tags": []
   },
   "outputs": [],
   "source": [
    "model = KerasClassifier(\n",
    "    get_model,\n",
    "    loss=\"binary_crossentropy\",\n",
    "    metrics=[keras.metrics.AUC(name='auc')],\n",
    "    optimizer=keras.optimizers.AdamW(learning_rate=LEARNING_RATE),\n",
    "    validation_split=0.1,\n",
    "    batch_size=BATCH_SIZE,\n",
    "    validation_batch_size=EVAL_BATCH_SIZE,\n",
    "    epochs=N_EPOCHS, \n",
    "    verbose=0,\n",
    "    callbacks=[\n",
    "        keras.callbacks.ReduceLROnPlateau(monitor='val_auc', patience=3, factor=0.3),\n",
    "        keras.callbacks.EarlyStopping(monitor='val_auc', patience=3)\n",
    "    ]\n",
    ")"
   ]
  },
  {
   "cell_type": "code",
   "execution_count": 13,
   "id": "56938d66",
   "metadata": {
    "_kg_hide-output": true,
    "execution": {
     "iopub.execute_input": "2024-07-15T12:46:55.462120Z",
     "iopub.status.busy": "2024-07-15T12:46:55.461699Z",
     "iopub.status.idle": "2024-07-15T20:58:20.652843Z",
     "shell.execute_reply": "2024-07-15T20:58:20.651501Z"
    },
    "papermill": {
     "duration": 29485.203023,
     "end_time": "2024-07-15T20:58:20.657646",
     "exception": false,
     "start_time": "2024-07-15T12:46:55.454623",
     "status": "completed"
    },
    "tags": []
   },
   "outputs": [
    {
     "name": "stdout",
     "output_type": "stream",
     "text": [
      "Training KerasClassifier\n",
      "\n",
      "\n",
      "--- Fold 1 - AUC: 0.88689\n",
      "\n",
      "\n",
      "\n",
      "--- Fold 2 - AUC: 0.88697\n",
      "\n",
      "\n",
      "\n",
      "--- Fold 3 - AUC: 0.88665\n",
      "\n",
      "\n",
      "\n",
      "--- Fold 4 - AUC: 0.88673\n",
      "\n",
      "\n",
      "\n",
      "--- Fold 5 - AUC: 0.88690\n",
      "\n",
      "\n",
      "------ Average AUC:      0.88683 ± 0.00012\n",
      "\n",
      "\n"
     ]
    }
   ],
   "source": [
    "trainer = Trainer(model)\n",
    "oof_pred_probs, scores = trainer.fit_predict(X, y, X_test)"
   ]
  },
  {
   "cell_type": "code",
   "execution_count": 14,
   "id": "67c446a3",
   "metadata": {
    "execution": {
     "iopub.execute_input": "2024-07-15T20:58:20.673073Z",
     "iopub.status.busy": "2024-07-15T20:58:20.672601Z",
     "iopub.status.idle": "2024-07-15T20:58:34.908311Z",
     "shell.execute_reply": "2024-07-15T20:58:34.906986Z"
    },
    "papermill": {
     "duration": 14.247579,
     "end_time": "2024-07-15T20:58:34.911248",
     "exception": false,
     "start_time": "2024-07-15T20:58:20.663669",
     "status": "completed"
    },
    "tags": []
   },
   "outputs": [
    {
     "data": {
      "image/png": "[encoded data removed]",
      "text/plain": [
       "<Figure size 1400x700 with 2 Axes>"
      ]
     },
     "metadata": {},
     "output_type": "display_data"
    }
   ],
   "source": [
    "fig, axes = plt.subplots(nrows=1, ncols=2, figsize=(14, 7))\n",
    "\n",
    "fpr, tpr, _ = roc_curve(y, oof_pred_probs[:, 1])\n",
    "axes[0].plot(fpr, tpr, label=f'AUC: {np.mean(scores):.5f}', color='#651FFF')\n",
    "axes[0].plot([0, 1], [0, 1], color='black', linestyle='--')\n",
    "axes[0].set_xlabel('False Positive Rate')\n",
    "axes[0].set_ylabel('True Positive Rate')\n",
    "axes[0].legend()\n",
    "axes[0].grid(True)\n",
    "axes[0].set_aspect('equal', adjustable='box')\n",
    "\n",
    "y_pred = oof_pred_probs.argmax(axis=1)\n",
    "cm = confusion_matrix(y, y_pred)\n",
    "sns.heatmap(\n",
    "    cm, \n",
    "    annot=True, \n",
    "    fmt=',', \n",
    "    ax=axes[1], \n",
    "    cbar=False,\n",
    "    cmap=sns.light_palette('#651FFF', reverse=False, as_cmap=True), \n",
    ")\n",
    "axes[1].set_xlabel('Predicted')\n",
    "axes[1].set_ylabel('Actual')\n",
    "axes[1].set_aspect('equal', adjustable='box')\n",
    "\n",
    "plt.tight_layout()\n",
    "plt.show()"
   ]
  }
 ],
 "metadata": {
  "kaggle": {
   "accelerator": "none",
   "dataSources": [
    {
     "databundleVersionId": 8930475,
     "sourceId": 73291,
     "sourceType": "competition"
    },
    {
     "datasetId": 4268036,
     "sourceId": 7349720,
     "sourceType": "datasetVersion"
    }
   ],
   "dockerImageVersionId": 30732,
   "isGpuEnabled": false,
   "isInternetEnabled": true,
   "language": "python",
   "sourceType": "notebook"
  },
  "kernelspec": {
   "display_name": "Python 3",
   "language": "python",
   "name": "python3"
  },
  "language_info": {
   "codemirror_mode": {
    "name": "ipython",
    "version": 3
   },
   "file_extension": ".py",
   "mimetype": "text/x-python",
   "name": "python",
   "nbconvert_exporter": "python",
   "pygments_lexer": "ipython3",
   "version": "3.10.13"
  },
  "papermill": {
   "default_parameters": {},
   "duration": 29764.911885,
   "end_time": "2024-07-15T20:58:37.571682",
   "environment_variables": {},
   "exception": null,
   "input_path": "__notebook__.ipynb",
   "output_path": "__notebook__.ipynb",
   "parameters": {},
   "start_time": "2024-07-15T12:42:32.659797",
   "version": "2.5.0"
  }
 },
 "nbformat": 4,
 "nbformat_minor": 5
}
