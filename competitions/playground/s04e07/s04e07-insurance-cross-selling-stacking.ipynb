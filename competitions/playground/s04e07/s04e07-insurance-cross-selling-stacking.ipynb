{
 "cells": [
  {
   "cell_type": "code",
   "execution_count": 1,
   "id": "b488d8dc",
   "metadata": {
    "_cell_guid": "b1076dfc-b9ad-4769-8c92-a6c4dae69d19",
    "_uuid": "8f2839f25d086af736a60e9eeb907d3b93b6e0e5",
    "execution": {
     "iopub.execute_input": "2024-07-16T16:03:34.928887Z",
     "iopub.status.busy": "2024-07-16T16:03:34.928439Z",
     "iopub.status.idle": "2024-07-16T16:03:37.731906Z",
     "shell.execute_reply": "2024-07-16T16:03:37.730743Z"
    },
    "papermill": {
     "duration": 2.81484,
     "end_time": "2024-07-16T16:03:37.734745",
     "exception": false,
     "start_time": "2024-07-16T16:03:34.919905",
     "status": "completed"
    },
    "tags": []
   },
   "outputs": [],
   "source": [
    "from sklearn.metrics import roc_auc_score, roc_curve, confusion_matrix\n",
    "from sklearn.base import BaseEstimator, ClassifierMixin\n",
    "from sklearn.model_selection import StratifiedKFold\n",
    "from sklearn.ensemble import StackingClassifier\n",
    "from sklearn.utils import check_array\n",
    "from sklearn.base import clone\n",
    "import matplotlib.pyplot as plt\n",
    "import seaborn as sns\n",
    "import pandas as pd\n",
    "import numpy as np\n",
    "import warnings\n",
    "import pickle\n",
    "import glob\n",
    "import gc\n",
    "\n",
    "warnings.filterwarnings('ignore')"
   ]
  },
  {
   "cell_type": "code",
   "execution_count": 2,
   "id": "97b9dafd",
   "metadata": {
    "execution": {
     "iopub.execute_input": "2024-07-16T16:03:37.748837Z",
     "iopub.status.busy": "2024-07-16T16:03:37.747604Z",
     "iopub.status.idle": "2024-07-16T16:03:37.753198Z",
     "shell.execute_reply": "2024-07-16T16:03:37.752091Z"
    },
    "papermill": {
     "duration": 0.014891,
     "end_time": "2024-07-16T16:03:37.755637",
     "exception": false,
     "start_time": "2024-07-16T16:03:37.740746",
     "status": "completed"
    },
    "tags": []
   },
   "outputs": [],
   "source": [
    "SEED = 90\n",
    "N_FOLDS = 5\n",
    "TARGET = 'Response'"
   ]
  },
  {
   "cell_type": "code",
   "execution_count": 3,
   "id": "36b27a5c",
   "metadata": {
    "execution": {
     "iopub.execute_input": "2024-07-16T16:03:37.768636Z",
     "iopub.status.busy": "2024-07-16T16:03:37.768212Z",
     "iopub.status.idle": "2024-07-16T16:04:03.847910Z",
     "shell.execute_reply": "2024-07-16T16:04:03.846667Z"
    },
    "papermill": {
     "duration": 26.089623,
     "end_time": "2024-07-16T16:04:03.850960",
     "exception": false,
     "start_time": "2024-07-16T16:03:37.761337",
     "status": "completed"
    },
    "tags": []
   },
   "outputs": [],
   "source": [
    "train = pd.read_csv('/kaggle/input/playground-series-s4e7/train.csv')\n",
    "original = pd.read_csv('/kaggle/input/health-insurance-cross-sell-prediction-data/train.csv', index_col='id')"
   ]
  },
  {
   "cell_type": "code",
   "execution_count": 4,
   "id": "a9e656db",
   "metadata": {
    "execution": {
     "iopub.execute_input": "2024-07-16T16:04:03.864170Z",
     "iopub.status.busy": "2024-07-16T16:04:03.863753Z",
     "iopub.status.idle": "2024-07-16T16:04:25.936490Z",
     "shell.execute_reply": "2024-07-16T16:04:25.935390Z"
    },
    "papermill": {
     "duration": 22.082243,
     "end_time": "2024-07-16T16:04:25.939139",
     "exception": false,
     "start_time": "2024-07-16T16:04:03.856896",
     "status": "completed"
    },
    "tags": []
   },
   "outputs": [
    {
     "data": {
      "text/plain": [
       "0"
      ]
     },
     "execution_count": 4,
     "metadata": {},
     "output_type": "execute_result"
    }
   ],
   "source": [
    "# Reference: https://www.kaggle.com/competitions/playground-series-s4e7/discussion/520253\n",
    "train[\"is_original\"] = False\n",
    "original[\"is_original\"] = True\n",
    "combined = pd.concat([train, original], axis=0)\n",
    "\n",
    "duplicates = combined.duplicated(subset=combined.columns[:-2], keep=False)\n",
    "duplicates = duplicates[duplicates].index\n",
    "\n",
    "combined.loc[duplicates, TARGET] = 1 - combined.loc[duplicates, TARGET]\n",
    "train = combined[~combined[\"is_original\"]].drop(columns=\"is_original\")\n",
    "\n",
    "del original, combined, duplicates\n",
    "gc.collect()"
   ]
  },
  {
   "cell_type": "code",
   "execution_count": 5,
   "id": "c8255f81",
   "metadata": {
    "execution": {
     "iopub.execute_input": "2024-07-16T16:04:25.953416Z",
     "iopub.status.busy": "2024-07-16T16:04:25.952095Z",
     "iopub.status.idle": "2024-07-16T16:04:25.958073Z",
     "shell.execute_reply": "2024-07-16T16:04:25.957072Z"
    },
    "papermill": {
     "duration": 0.015474,
     "end_time": "2024-07-16T16:04:25.960453",
     "exception": false,
     "start_time": "2024-07-16T16:04:25.944979",
     "status": "completed"
    },
    "tags": []
   },
   "outputs": [],
   "source": [
    "y = train[TARGET]"
   ]
  },
  {
   "cell_type": "code",
   "execution_count": 6,
   "id": "31c458d3",
   "metadata": {
    "execution": {
     "iopub.execute_input": "2024-07-16T16:04:25.973998Z",
     "iopub.status.busy": "2024-07-16T16:04:25.973266Z",
     "iopub.status.idle": "2024-07-16T16:04:25.978191Z",
     "shell.execute_reply": "2024-07-16T16:04:25.977076Z"
    },
    "papermill": {
     "duration": 0.014465,
     "end_time": "2024-07-16T16:04:25.980670",
     "exception": false,
     "start_time": "2024-07-16T16:04:25.966205",
     "status": "completed"
    },
    "tags": []
   },
   "outputs": [],
   "source": [
    "test_pred_probs = {}\n",
    "oof_pred_probs = {}"
   ]
  },
  {
   "cell_type": "code",
   "execution_count": 7,
   "id": "58a4fafd",
   "metadata": {
    "execution": {
     "iopub.execute_input": "2024-07-16T16:04:25.994148Z",
     "iopub.status.busy": "2024-07-16T16:04:25.993385Z",
     "iopub.status.idle": "2024-07-16T16:04:29.075574Z",
     "shell.execute_reply": "2024-07-16T16:04:29.074563Z"
    },
    "papermill": {
     "duration": 3.091851,
     "end_time": "2024-07-16T16:04:29.078249",
     "exception": false,
     "start_time": "2024-07-16T16:04:25.986398",
     "status": "completed"
    },
    "tags": []
   },
   "outputs": [],
   "source": [
    "xgb_oof_pred_probs_files = glob.glob('/kaggle/input/s04e07-insurance-cross-selling-xgboost/xgb_oof_pred_probs_*.pkl')\n",
    "xgb_test_pred_probs_files = glob.glob('/kaggle/input/s04e07-insurance-cross-selling-xgboost/xgb_test_pred_probs_*.pkl')\n",
    "\n",
    "xgb_oof_pred_probs = pickle.load(open(xgb_oof_pred_probs_files[0], 'rb'))\n",
    "xgb_test_pred_probs = pickle.load(open(xgb_test_pred_probs_files[0], 'rb'))\n",
    "\n",
    "oof_pred_probs['XGB'] = xgb_oof_pred_probs\n",
    "test_pred_probs['XGB'] = xgb_test_pred_probs"
   ]
  },
  {
   "cell_type": "code",
   "execution_count": 8,
   "id": "7f26d8a4",
   "metadata": {
    "execution": {
     "iopub.execute_input": "2024-07-16T16:04:29.091959Z",
     "iopub.status.busy": "2024-07-16T16:04:29.091519Z",
     "iopub.status.idle": "2024-07-16T16:04:31.397653Z",
     "shell.execute_reply": "2024-07-16T16:04:31.396490Z"
    },
    "papermill": {
     "duration": 2.316807,
     "end_time": "2024-07-16T16:04:31.400901",
     "exception": false,
     "start_time": "2024-07-16T16:04:29.084094",
     "status": "completed"
    },
    "tags": []
   },
   "outputs": [],
   "source": [
    "lgbm_oof_pred_probs_files = glob.glob('/kaggle/input/s04e07-insurance-cross-selling-lightgbm/lgbm_oof_pred_probs_*.pkl')\n",
    "lgbm_test_pred_probs_files = glob.glob('/kaggle/input/s04e07-insurance-cross-selling-lightgbm/lgbm_test_pred_probs_*.pkl')\n",
    "\n",
    "lgbm_oof_pred_probs = pickle.load(open(lgbm_oof_pred_probs_files[0], 'rb'))\n",
    "lgbm_test_pred_probs = pickle.load(open(lgbm_test_pred_probs_files[0], 'rb'))\n",
    "\n",
    "oof_pred_probs['LGBM'] = lgbm_oof_pred_probs\n",
    "test_pred_probs['LGBM'] = lgbm_test_pred_probs"
   ]
  },
  {
   "cell_type": "code",
   "execution_count": 9,
   "id": "7b173786",
   "metadata": {
    "execution": {
     "iopub.execute_input": "2024-07-16T16:04:31.415343Z",
     "iopub.status.busy": "2024-07-16T16:04:31.414653Z",
     "iopub.status.idle": "2024-07-16T16:04:33.727580Z",
     "shell.execute_reply": "2024-07-16T16:04:33.726471Z"
    },
    "papermill": {
     "duration": 2.323335,
     "end_time": "2024-07-16T16:04:33.730440",
     "exception": false,
     "start_time": "2024-07-16T16:04:31.407105",
     "status": "completed"
    },
    "tags": []
   },
   "outputs": [],
   "source": [
    "catboost_oof_pred_probs_files = glob.glob('/kaggle/input/s04e07-insurance-cross-selling-catboost/catboost_oof_pred_probs_*.pkl')\n",
    "catboost_test_pred_probs_files = glob.glob('/kaggle/input/s04e07-insurance-cross-selling-catboost/catboost_test_pred_probs_*.pkl')\n",
    "\n",
    "catboost_oof_pred_probs = pickle.load(open(catboost_oof_pred_probs_files[0], 'rb'))\n",
    "catboost_test_pred_probs = pickle.load(open(catboost_test_pred_probs_files[0], 'rb'))\n",
    "\n",
    "oof_pred_probs['CatBoost'] = catboost_oof_pred_probs\n",
    "test_pred_probs['CatBoost'] = catboost_test_pred_probs"
   ]
  },
  {
   "cell_type": "code",
   "execution_count": 10,
   "id": "40dc09de",
   "metadata": {
    "execution": {
     "iopub.execute_input": "2024-07-16T16:04:33.743942Z",
     "iopub.status.busy": "2024-07-16T16:04:33.743500Z",
     "iopub.status.idle": "2024-07-16T16:04:36.258300Z",
     "shell.execute_reply": "2024-07-16T16:04:36.257105Z"
    },
    "papermill": {
     "duration": 2.524974,
     "end_time": "2024-07-16T16:04:36.261367",
     "exception": false,
     "start_time": "2024-07-16T16:04:33.736393",
     "status": "completed"
    },
    "tags": []
   },
   "outputs": [],
   "source": [
    "ann_oof_pred_probs_files = glob.glob('/kaggle/input/s04e07-insurance-cross-selling-ann/keras_oof_pred_probs_*.pkl')\n",
    "ann_test_pred_probs_files = glob.glob('/kaggle/input/s04e07-insurance-cross-selling-ann/keras_test_pred_probs_*.pkl')\n",
    "\n",
    "ann_oof_pred_probs = pickle.load(open(ann_oof_pred_probs_files[0], 'rb'))\n",
    "ann_test_pred_probs = pickle.load(open(ann_test_pred_probs_files[0], 'rb'))\n",
    "\n",
    "oof_pred_probs['ANN'] = ann_oof_pred_probs\n",
    "test_pred_probs['ANN'] = ann_test_pred_probs"
   ]
  },
  {
   "cell_type": "code",
   "execution_count": 11,
   "id": "41ef0d05",
   "metadata": {
    "execution": {
     "iopub.execute_input": "2024-07-16T16:04:36.274991Z",
     "iopub.status.busy": "2024-07-16T16:04:36.274213Z",
     "iopub.status.idle": "2024-07-16T16:04:36.288808Z",
     "shell.execute_reply": "2024-07-16T16:04:36.287533Z"
    },
    "papermill": {
     "duration": 0.02427,
     "end_time": "2024-07-16T16:04:36.291418",
     "exception": false,
     "start_time": "2024-07-16T16:04:36.267148",
     "status": "completed"
    },
    "tags": []
   },
   "outputs": [],
   "source": [
    "class Trainer:\n",
    "    def __init__(self, model, n_folds=N_FOLDS):\n",
    "        self.model = model\n",
    "        self.n_folds = n_folds\n",
    "\n",
    "    def fit_predict(self, X, y, X_test):\n",
    "        print(f'Training {self.model.__class__.__name__}')\n",
    "        \n",
    "        scores = []\n",
    "        oof_pred_probs = np.zeros((X.shape[0], len(np.unique(y))))\n",
    "        test_pred_probs = np.zeros((X_test.shape[0], len(np.unique(y))))\n",
    "        \n",
    "        skf = StratifiedKFold(n_splits=self.n_folds, random_state=SEED, shuffle=True)\n",
    "        for fold_idx, (train_idx, val_idx) in enumerate(skf.split(X, y)):\n",
    "            X_train, X_val = X.iloc[train_idx], X.iloc[val_idx]\n",
    "            y_train, y_val = y[train_idx], y[val_idx]\n",
    "            \n",
    "            model = clone(self.model)\n",
    "            model.fit(X_train, y_train)\n",
    "            \n",
    "            y_pred_probs = model.predict_proba(X_val)    \n",
    "            oof_pred_probs[val_idx] = y_pred_probs          \n",
    "            score = roc_auc_score(y_val, y_pred_probs[:, 1])\n",
    "            scores.append(score)\n",
    "            \n",
    "            temp_test_pred_probs = model.predict_proba(X_test)\n",
    "            test_pred_probs += temp_test_pred_probs / self.n_folds\n",
    "            \n",
    "            del model\n",
    "            gc.collect()\n",
    "            \n",
    "            print(f'--- Fold {fold_idx + 1} - AUC: {score:.5f}')\n",
    "            \n",
    "        print(f'------ Average AUC:      {np.mean(scores):.5f} ± {np.std(scores):.5f}')\n",
    "        \n",
    "        self._save_submission(test_pred_probs, np.mean(scores))\n",
    "        \n",
    "        return oof_pred_probs, scores\n",
    "    \n",
    "    def _save_submission(self, test_pred_probs, score):\n",
    "        sub = pd.read_csv('/kaggle/input/playground-series-s4e7/sample_submission.csv')\n",
    "        \n",
    "        sub['id'] = sub['id']\n",
    "        sub[TARGET] = test_pred_probs[:, 1]\n",
    "        \n",
    "        name = self.model.__class__.__name__.lower().replace('classifier', '')\n",
    "        sub.to_csv(f'sub_{name}_{score:.5f}.csv', index=False)"
   ]
  },
  {
   "cell_type": "code",
   "execution_count": 12,
   "id": "7b24eeaf",
   "metadata": {
    "execution": {
     "iopub.execute_input": "2024-07-16T16:04:36.304823Z",
     "iopub.status.busy": "2024-07-16T16:04:36.304407Z",
     "iopub.status.idle": "2024-07-16T16:07:12.647317Z",
     "shell.execute_reply": "2024-07-16T16:07:12.646049Z"
    },
    "papermill": {
     "duration": 156.353242,
     "end_time": "2024-07-16T16:07:12.650546",
     "exception": false,
     "start_time": "2024-07-16T16:04:36.297304",
     "status": "completed"
    },
    "tags": []
   },
   "outputs": [
    {
     "name": "stdout",
     "output_type": "stream",
     "text": [
      "Training StackingClassifier\n",
      "--- Fold 1 - AUC: 0.89541\n",
      "--- Fold 2 - AUC: 0.89511\n",
      "--- Fold 3 - AUC: 0.89518\n",
      "--- Fold 4 - AUC: 0.89559\n",
      "--- Fold 5 - AUC: 0.89507\n",
      "------ Average AUC:      0.89528 ± 0.00020\n"
     ]
    }
   ],
   "source": [
    "# Reference: https://www.kaggle.com/competitions/playground-series-s4e6/discussion/509353#2851035\n",
    "class PassThroughClassifier(BaseEstimator, ClassifierMixin):\n",
    "    def __init__(self, idx_cols):\n",
    "        self.idx_cols = idx_cols\n",
    "        self.is_fitted_ = True\n",
    "\n",
    "    def fit(self, X, y=None):\n",
    "        return self\n",
    "\n",
    "    def predict_proba(self, X):\n",
    "        return check_array(X)[:, self.idx_cols]\n",
    "\n",
    "\n",
    "X_train = np.log(pd.DataFrame(np.hstack(list(oof_pred_probs.values()))) + 1e-7)\n",
    "X_test = np.log(pd.DataFrame(np.hstack(list(test_pred_probs.values()))) + 1e-7)\n",
    "\n",
    "estimators = [\n",
    "    ('XGB', PassThroughClassifier(list(range(2)))),\n",
    "    ('LGBM', PassThroughClassifier(list(range(2, 4)))),\n",
    "    ('CatBoost', PassThroughClassifier(list(range(4, 6)))),\n",
    "    ('ANN', PassThroughClassifier(list(range(6, 8)))),\n",
    "]\n",
    "\n",
    "stacking_model = StackingClassifier(estimators, cv='prefit', n_jobs=-1)\n",
    "stacking_trainer = Trainer(stacking_model)\n",
    "stacking_oof_pred_probs, stacking_scores = stacking_trainer.fit_predict(X_train, y, X_test)"
   ]
  },
  {
   "cell_type": "code",
   "execution_count": 13,
   "id": "b016ddf6",
   "metadata": {
    "execution": {
     "iopub.execute_input": "2024-07-16T16:07:12.664937Z",
     "iopub.status.busy": "2024-07-16T16:07:12.664516Z",
     "iopub.status.idle": "2024-07-16T16:07:23.165828Z",
     "shell.execute_reply": "2024-07-16T16:07:23.164596Z"
    },
    "papermill": {
     "duration": 10.511665,
     "end_time": "2024-07-16T16:07:23.168617",
     "exception": false,
     "start_time": "2024-07-16T16:07:12.656952",
     "status": "completed"
    },
    "tags": []
   },
   "outputs": [
    {
     "data": {
      "image/png": "[encoded data removed]",
      "text/plain": [
       "<Figure size 1400x700 with 2 Axes>"
      ]
     },
     "metadata": {},
     "output_type": "display_data"
    }
   ],
   "source": [
    "fig, axes = plt.subplots(nrows=1, ncols=2, figsize=(14, 7))\n",
    "\n",
    "fpr, tpr, _ = roc_curve(y, stacking_oof_pred_probs[:, 1])\n",
    "axes[0].plot(fpr, tpr, label=f'AUC: {np.mean(stacking_scores):.5f}', color='#651FFF')\n",
    "axes[0].plot([0, 1], [0, 1], color='black', linestyle='--')\n",
    "axes[0].set_xlabel('False Positive Rate')\n",
    "axes[0].set_ylabel('True Positive Rate')\n",
    "axes[0].legend()\n",
    "axes[0].grid(True)\n",
    "axes[0].set_aspect('equal', adjustable='box')\n",
    "\n",
    "y_pred = stacking_oof_pred_probs.argmax(axis=1)\n",
    "cm = confusion_matrix(y, y_pred)\n",
    "sns.heatmap(\n",
    "    cm, \n",
    "    annot=True, \n",
    "    fmt=',', \n",
    "    ax=axes[1], \n",
    "    cbar=False,\n",
    "    cmap=sns.light_palette('#651FFF', reverse=False, as_cmap=True), \n",
    ")\n",
    "axes[1].set_xlabel('Predicted')\n",
    "axes[1].set_ylabel('Actual')\n",
    "axes[1].set_aspect('equal', adjustable='box')\n",
    "\n",
    "plt.tight_layout()\n",
    "plt.show()"
   ]
  }
 ],
 "metadata": {
  "kaggle": {
   "accelerator": "none",
   "dataSources": [
    {
     "databundleVersionId": 8930475,
     "sourceId": 73291,
     "sourceType": "competition"
    },
    {
     "datasetId": 4268036,
     "sourceId": 7349720,
     "sourceType": "datasetVersion"
    },
    {
     "sourceId": 188382521,
     "sourceType": "kernelVersion"
    },
    {
     "sourceId": 188388031,
     "sourceType": "kernelVersion"
    },
    {
     "sourceId": 188421155,
     "sourceType": "kernelVersion"
    },
    {
     "sourceId": 188429241,
     "sourceType": "kernelVersion"
    }
   ],
   "dockerImageVersionId": 30746,
   "isGpuEnabled": false,
   "isInternetEnabled": true,
   "language": "python",
   "sourceType": "notebook"
  },
  "kernelspec": {
   "display_name": "Python 3",
   "language": "python",
   "name": "python3"
  },
  "language_info": {
   "codemirror_mode": {
    "name": "ipython",
    "version": 3
   },
   "file_extension": ".py",
   "mimetype": "text/x-python",
   "name": "python",
   "nbconvert_exporter": "python",
   "pygments_lexer": "ipython3",
   "version": "3.10.13"
  },
  "papermill": {
   "default_parameters": {},
   "duration": 232.184217,
   "end_time": "2024-07-16T16:07:24.100906",
   "environment_variables": {},
   "exception": null,
   "input_path": "__notebook__.ipynb",
   "output_path": "__notebook__.ipynb",
   "parameters": {},
   "start_time": "2024-07-16T16:03:31.916689",
   "version": "2.5.0"
  }
 },
 "nbformat": 4,
 "nbformat_minor": 5
}
