{
 "cells": [
  {
   "cell_type": "code",
   "execution_count": 1,
   "id": "5e55f240",
   "metadata": {
    "_cell_guid": "b1076dfc-b9ad-4769-8c92-a6c4dae69d19",
    "_uuid": "8f2839f25d086af736a60e9eeb907d3b93b6e0e5",
    "execution": {
     "iopub.execute_input": "2024-07-14T19:39:05.369731Z",
     "iopub.status.busy": "2024-07-14T19:39:05.369125Z",
     "iopub.status.idle": "2024-07-14T19:39:08.745592Z",
     "shell.execute_reply": "2024-07-14T19:39:08.744071Z"
    },
    "papermill": {
     "duration": 3.387637,
     "end_time": "2024-07-14T19:39:08.748510",
     "exception": false,
     "start_time": "2024-07-14T19:39:05.360873",
     "status": "completed"
    },
    "tags": []
   },
   "outputs": [],
   "source": [
    "from sklearn.metrics import roc_auc_score, roc_curve, confusion_matrix\n",
    "from sklearn.base import BaseEstimator, ClassifierMixin\n",
    "from sklearn.model_selection import StratifiedKFold\n",
    "from sklearn.ensemble import StackingClassifier\n",
    "from sklearn.utils import check_array\n",
    "from sklearn.base import clone\n",
    "import matplotlib.pyplot as plt\n",
    "import seaborn as sns\n",
    "import pandas as pd\n",
    "import numpy as np\n",
    "import warnings\n",
    "import pickle\n",
    "import glob\n",
    "import gc\n",
    "\n",
    "warnings.filterwarnings('ignore')"
   ]
  },
  {
   "cell_type": "code",
   "execution_count": 2,
   "id": "3e2fbde9",
   "metadata": {
    "execution": {
     "iopub.execute_input": "2024-07-14T19:39:08.761130Z",
     "iopub.status.busy": "2024-07-14T19:39:08.760503Z",
     "iopub.status.idle": "2024-07-14T19:39:08.766404Z",
     "shell.execute_reply": "2024-07-14T19:39:08.765174Z"
    },
    "papermill": {
     "duration": 0.01506,
     "end_time": "2024-07-14T19:39:08.769023",
     "exception": false,
     "start_time": "2024-07-14T19:39:08.753963",
     "status": "completed"
    },
    "tags": []
   },
   "outputs": [],
   "source": [
    "SEED = 90\n",
    "N_FOLDS = 5\n",
    "TARGET = 'Response'"
   ]
  },
  {
   "cell_type": "code",
   "execution_count": 3,
   "id": "bb91d02f",
   "metadata": {
    "execution": {
     "iopub.execute_input": "2024-07-14T19:39:08.781013Z",
     "iopub.status.busy": "2024-07-14T19:39:08.780553Z",
     "iopub.status.idle": "2024-07-14T19:39:33.558271Z",
     "shell.execute_reply": "2024-07-14T19:39:33.556483Z"
    },
    "papermill": {
     "duration": 24.787476,
     "end_time": "2024-07-14T19:39:33.561581",
     "exception": false,
     "start_time": "2024-07-14T19:39:08.774105",
     "status": "completed"
    },
    "tags": []
   },
   "outputs": [],
   "source": [
    "train = pd.read_csv('/kaggle/input/playground-series-s4e7/train.csv')\n",
    "y = train[TARGET]"
   ]
  },
  {
   "cell_type": "code",
   "execution_count": 4,
   "id": "bf3abef0",
   "metadata": {
    "execution": {
     "iopub.execute_input": "2024-07-14T19:39:33.573747Z",
     "iopub.status.busy": "2024-07-14T19:39:33.573346Z",
     "iopub.status.idle": "2024-07-14T19:39:33.578968Z",
     "shell.execute_reply": "2024-07-14T19:39:33.577797Z"
    },
    "papermill": {
     "duration": 0.014692,
     "end_time": "2024-07-14T19:39:33.581598",
     "exception": false,
     "start_time": "2024-07-14T19:39:33.566906",
     "status": "completed"
    },
    "tags": []
   },
   "outputs": [],
   "source": [
    "test_pred_probs = {}\n",
    "oof_pred_probs = {}"
   ]
  },
  {
   "cell_type": "code",
   "execution_count": 5,
   "id": "916a4d56",
   "metadata": {
    "execution": {
     "iopub.execute_input": "2024-07-14T19:39:33.594249Z",
     "iopub.status.busy": "2024-07-14T19:39:33.593116Z",
     "iopub.status.idle": "2024-07-14T19:39:37.099708Z",
     "shell.execute_reply": "2024-07-14T19:39:37.098028Z"
    },
    "papermill": {
     "duration": 3.516325,
     "end_time": "2024-07-14T19:39:37.103065",
     "exception": false,
     "start_time": "2024-07-14T19:39:33.586740",
     "status": "completed"
    },
    "tags": []
   },
   "outputs": [],
   "source": [
    "xgb_oof_pred_probs_files = glob.glob('/kaggle/input/s04e07-insurance-cross-selling-xgboost/xgb_oof_pred_probs_*.pkl')\n",
    "xgb_test_pred_probs_files = glob.glob('/kaggle/input/s04e07-insurance-cross-selling-xgboost/xgb_test_pred_probs_*.pkl')\n",
    "\n",
    "xgb_oof_pred_probs = pickle.load(open(xgb_oof_pred_probs_files[0], 'rb'))\n",
    "xgb_test_pred_probs = pickle.load(open(xgb_test_pred_probs_files[0], 'rb'))\n",
    "\n",
    "oof_pred_probs['XGB'] = xgb_oof_pred_probs\n",
    "test_pred_probs['XGB'] = xgb_test_pred_probs"
   ]
  },
  {
   "cell_type": "code",
   "execution_count": 6,
   "id": "f06ffc43",
   "metadata": {
    "execution": {
     "iopub.execute_input": "2024-07-14T19:39:37.116003Z",
     "iopub.status.busy": "2024-07-14T19:39:37.115536Z",
     "iopub.status.idle": "2024-07-14T19:39:39.775638Z",
     "shell.execute_reply": "2024-07-14T19:39:39.774346Z"
    },
    "papermill": {
     "duration": 2.67041,
     "end_time": "2024-07-14T19:39:39.778883",
     "exception": false,
     "start_time": "2024-07-14T19:39:37.108473",
     "status": "completed"
    },
    "tags": []
   },
   "outputs": [],
   "source": [
    "lgbm_oof_pred_probs_files = glob.glob('/kaggle/input/s04e07-insurance-cross-selling-lightgbm/lgbm_oof_pred_probs_*.pkl')\n",
    "lgbm_test_pred_probs_files = glob.glob('/kaggle/input/s04e07-insurance-cross-selling-lightgbm/lgbm_test_pred_probs_*.pkl')\n",
    "\n",
    "lgbm_oof_pred_probs = pickle.load(open(lgbm_oof_pred_probs_files[0], 'rb'))\n",
    "lgbm_test_pred_probs = pickle.load(open(lgbm_test_pred_probs_files[0], 'rb'))\n",
    "\n",
    "oof_pred_probs['LGBM'] = lgbm_oof_pred_probs\n",
    "test_pred_probs['LGBM'] = lgbm_test_pred_probs"
   ]
  },
  {
   "cell_type": "code",
   "execution_count": 7,
   "id": "23408d43",
   "metadata": {
    "execution": {
     "iopub.execute_input": "2024-07-14T19:39:39.791328Z",
     "iopub.status.busy": "2024-07-14T19:39:39.790827Z",
     "iopub.status.idle": "2024-07-14T19:39:42.089587Z",
     "shell.execute_reply": "2024-07-14T19:39:42.088151Z"
    },
    "papermill": {
     "duration": 2.308775,
     "end_time": "2024-07-14T19:39:42.093117",
     "exception": false,
     "start_time": "2024-07-14T19:39:39.784342",
     "status": "completed"
    },
    "tags": []
   },
   "outputs": [],
   "source": [
    "catboost_oof_pred_probs_files = glob.glob('/kaggle/input/s04e07-insurance-cross-selling-catboost/catboost_oof_pred_probs_*.pkl')\n",
    "catboost_test_pred_probs_files = glob.glob('/kaggle/input/s04e07-insurance-cross-selling-catboost/catboost_test_pred_probs_*.pkl')\n",
    "\n",
    "catboost_oof_pred_probs = pickle.load(open(catboost_oof_pred_probs_files[0], 'rb'))\n",
    "catboost_test_pred_probs = pickle.load(open(catboost_test_pred_probs_files[0], 'rb'))\n",
    "\n",
    "oof_pred_probs['CatBoost'] = catboost_oof_pred_probs\n",
    "test_pred_probs['CatBoost'] = catboost_test_pred_probs"
   ]
  },
  {
   "cell_type": "code",
   "execution_count": 8,
   "id": "995fda15",
   "metadata": {
    "execution": {
     "iopub.execute_input": "2024-07-14T19:39:42.106054Z",
     "iopub.status.busy": "2024-07-14T19:39:42.105444Z",
     "iopub.status.idle": "2024-07-14T19:39:44.875089Z",
     "shell.execute_reply": "2024-07-14T19:39:44.873859Z"
    },
    "papermill": {
     "duration": 2.779676,
     "end_time": "2024-07-14T19:39:44.878072",
     "exception": false,
     "start_time": "2024-07-14T19:39:42.098396",
     "status": "completed"
    },
    "tags": []
   },
   "outputs": [],
   "source": [
    "ann_oof_pred_probs_files = glob.glob('/kaggle/input/s04e07-insurance-cross-selling-ann/keras_oof_pred_probs_*.pkl')\n",
    "ann_test_pred_probs_files = glob.glob('/kaggle/input/s04e07-insurance-cross-selling-ann/keras_test_pred_probs_*.pkl')\n",
    "\n",
    "ann_oof_pred_probs = pickle.load(open(ann_oof_pred_probs_files[0], 'rb'))\n",
    "ann_test_pred_probs = pickle.load(open(ann_test_pred_probs_files[0], 'rb'))\n",
    "\n",
    "oof_pred_probs['ANN'] = ann_oof_pred_probs\n",
    "test_pred_probs['ANN'] = ann_test_pred_probs"
   ]
  },
  {
   "cell_type": "code",
   "execution_count": 9,
   "id": "8526e265",
   "metadata": {
    "execution": {
     "iopub.execute_input": "2024-07-14T19:39:44.892917Z",
     "iopub.status.busy": "2024-07-14T19:39:44.891255Z",
     "iopub.status.idle": "2024-07-14T19:39:44.908197Z",
     "shell.execute_reply": "2024-07-14T19:39:44.906876Z"
    },
    "papermill": {
     "duration": 0.026757,
     "end_time": "2024-07-14T19:39:44.910994",
     "exception": false,
     "start_time": "2024-07-14T19:39:44.884237",
     "status": "completed"
    },
    "tags": []
   },
   "outputs": [],
   "source": [
    "class Trainer:\n",
    "    def __init__(self, model, n_folds=N_FOLDS):\n",
    "        self.model = model\n",
    "        self.n_folds = n_folds\n",
    "\n",
    "    def fit_predict(self, X, y, X_test):\n",
    "        print(f'Training {self.model.__class__.__name__}')\n",
    "        \n",
    "        scores = []\n",
    "        oof_pred_probs = np.zeros((X.shape[0], len(np.unique(y))))\n",
    "        test_pred_probs = np.zeros((X_test.shape[0], len(np.unique(y))))\n",
    "        \n",
    "        skf = StratifiedKFold(n_splits=self.n_folds, random_state=SEED, shuffle=True)\n",
    "        for fold_idx, (train_idx, val_idx) in enumerate(skf.split(X, y)):\n",
    "            X_train, X_val = X.iloc[train_idx], X.iloc[val_idx]\n",
    "            y_train, y_val = y[train_idx], y[val_idx]\n",
    "            \n",
    "            model = clone(self.model)\n",
    "            model.fit(X_train, y_train)\n",
    "            \n",
    "            y_pred_probs = model.predict_proba(X_val)    \n",
    "            oof_pred_probs[val_idx] = y_pred_probs          \n",
    "            score = roc_auc_score(y_val, y_pred_probs[:, 1])\n",
    "            scores.append(score)\n",
    "            \n",
    "            temp_test_pred_probs = model.predict_proba(X_test)\n",
    "            test_pred_probs += temp_test_pred_probs / self.n_folds\n",
    "            \n",
    "            del model\n",
    "            gc.collect()\n",
    "            \n",
    "            print(f'--- Fold {fold_idx + 1} - AUC: {score:.5f}')\n",
    "            \n",
    "        print(f'------ Average AUC:      {np.mean(scores):.5f} ± {np.std(scores):.5f}')\n",
    "        \n",
    "        self._save_submission(test_pred_probs, np.mean(scores))\n",
    "        \n",
    "        return oof_pred_probs, scores\n",
    "    \n",
    "    def _save_submission(self, test_pred_probs, score):\n",
    "        sub = pd.read_csv('/kaggle/input/playground-series-s4e7/sample_submission.csv')\n",
    "        \n",
    "        sub['id'] = sub['id']\n",
    "        sub[TARGET] = test_pred_probs[:, 1]\n",
    "        \n",
    "        name = self.model.__class__.__name__.lower().replace('classifier', '')\n",
    "        sub.to_csv(f'sub_{name}_{score:.5f}.csv', index=False)"
   ]
  },
  {
   "cell_type": "code",
   "execution_count": 10,
   "id": "efed0a3d",
   "metadata": {
    "execution": {
     "iopub.execute_input": "2024-07-14T19:39:44.923014Z",
     "iopub.status.busy": "2024-07-14T19:39:44.922535Z",
     "iopub.status.idle": "2024-07-14T19:42:16.587838Z",
     "shell.execute_reply": "2024-07-14T19:42:16.586591Z"
    },
    "papermill": {
     "duration": 151.674953,
     "end_time": "2024-07-14T19:42:16.590969",
     "exception": false,
     "start_time": "2024-07-14T19:39:44.916016",
     "status": "completed"
    },
    "tags": []
   },
   "outputs": [
    {
     "name": "stdout",
     "output_type": "stream",
     "text": [
      "Training StackingClassifier\n",
      "--- Fold 1 - AUC: 0.89509\n",
      "--- Fold 2 - AUC: 0.89507\n",
      "--- Fold 3 - AUC: 0.89508\n",
      "--- Fold 4 - AUC: 0.89500\n",
      "--- Fold 5 - AUC: 0.89474\n",
      "------ Average AUC:      0.89500 ± 0.00013\n"
     ]
    }
   ],
   "source": [
    "# Reference: https://www.kaggle.com/competitions/playground-series-s4e6/discussion/509353#2851035\n",
    "class PassThroughClassifier(BaseEstimator, ClassifierMixin):\n",
    "    def __init__(self, idx_cols):\n",
    "        self.idx_cols = idx_cols\n",
    "        self.is_fitted_ = True\n",
    "\n",
    "    def fit(self, X, y=None):\n",
    "        return self\n",
    "\n",
    "    def predict_proba(self, X):\n",
    "        return check_array(X)[:, self.idx_cols]\n",
    "\n",
    "\n",
    "X_train = np.log(pd.DataFrame(np.hstack(list(oof_pred_probs.values()))) + 1e-7)\n",
    "X_test = np.log(pd.DataFrame(np.hstack(list(test_pred_probs.values()))) + 1e-7)\n",
    "\n",
    "estimators = [\n",
    "    ('XGB', PassThroughClassifier(list(range(2)))),\n",
    "    ('LGBM', PassThroughClassifier(list(range(2, 4)))),\n",
    "    ('CatBoost', PassThroughClassifier(list(range(4, 6)))),\n",
    "    ('ANN', PassThroughClassifier(list(range(6, 8)))),\n",
    "]\n",
    "\n",
    "stacking_model = StackingClassifier(estimators, cv='prefit', n_jobs=-1)\n",
    "stacking_trainer = Trainer(stacking_model)\n",
    "stacking_oof_pred_probs, stacking_scores = stacking_trainer.fit_predict(X_train, y, X_test)"
   ]
  },
  {
   "cell_type": "code",
   "execution_count": 11,
   "id": "d0d9f385",
   "metadata": {
    "execution": {
     "iopub.execute_input": "2024-07-14T19:42:16.604752Z",
     "iopub.status.busy": "2024-07-14T19:42:16.604336Z",
     "iopub.status.idle": "2024-07-14T19:42:27.325959Z",
     "shell.execute_reply": "2024-07-14T19:42:27.324563Z"
    },
    "papermill": {
     "duration": 10.731792,
     "end_time": "2024-07-14T19:42:27.328824",
     "exception": false,
     "start_time": "2024-07-14T19:42:16.597032",
     "status": "completed"
    },
    "tags": []
   },
   "outputs": [
    {
     "data": {
      "image/png": "[encoded data removed]",
      "text/plain": [
       "<Figure size 1400x700 with 2 Axes>"
      ]
     },
     "metadata": {},
     "output_type": "display_data"
    }
   ],
   "source": [
    "fig, axes = plt.subplots(nrows=1, ncols=2, figsize=(14, 7))\n",
    "\n",
    "fpr, tpr, _ = roc_curve(y, stacking_oof_pred_probs[:, 1])\n",
    "axes[0].plot(fpr, tpr, label=f'AUC: {np.mean(stacking_scores):.5f}', color='#651FFF')\n",
    "axes[0].plot([0, 1], [0, 1], color='black', linestyle='--')\n",
    "axes[0].set_xlabel('False Positive Rate')\n",
    "axes[0].set_ylabel('True Positive Rate')\n",
    "axes[0].legend()\n",
    "axes[0].grid(True)\n",
    "axes[0].set_aspect('equal', adjustable='box')\n",
    "\n",
    "y_pred = stacking_oof_pred_probs.argmax(axis=1)\n",
    "cm = confusion_matrix(y, y_pred)\n",
    "sns.heatmap(\n",
    "    cm, \n",
    "    annot=True, \n",
    "    fmt=',', \n",
    "    ax=axes[1], \n",
    "    cbar=False,\n",
    "    cmap=sns.light_palette('#651FFF', reverse=False, as_cmap=True), \n",
    ")\n",
    "axes[1].set_xlabel('Predicted')\n",
    "axes[1].set_ylabel('Actual')\n",
    "axes[1].set_aspect('equal', adjustable='box')\n",
    "\n",
    "plt.tight_layout()\n",
    "plt.show()"
   ]
  }
 ],
 "metadata": {
  "kaggle": {
   "accelerator": "none",
   "dataSources": [
    {
     "databundleVersionId": 8930475,
     "sourceId": 73291,
     "sourceType": "competition"
    },
    {
     "sourceId": 187778086,
     "sourceType": "kernelVersion"
    },
    {
     "sourceId": 187630160,
     "sourceType": "kernelVersion"
    },
    {
     "sourceId": 188010073,
     "sourceType": "kernelVersion"
    },
    {
     "sourceId": 187664454,
     "sourceType": "kernelVersion"
    }
   ],
   "dockerImageVersionId": 30746,
   "isGpuEnabled": false,
   "isInternetEnabled": true,
   "language": "python",
   "sourceType": "notebook"
  },
  "kernelspec": {
   "display_name": "Python 3",
   "language": "python",
   "name": "python3"
  },
  "language_info": {
   "codemirror_mode": {
    "name": "ipython",
    "version": 3
   },
   "file_extension": ".py",
   "mimetype": "text/x-python",
   "name": "python",
   "nbconvert_exporter": "python",
   "pygments_lexer": "ipython3",
   "version": "3.10.13"
  },
  "papermill": {
   "default_parameters": {},
   "duration": 206.135034,
   "end_time": "2024-07-14T19:42:28.260226",
   "environment_variables": {},
   "exception": null,
   "input_path": "__notebook__.ipynb",
   "output_path": "__notebook__.ipynb",
   "parameters": {},
   "start_time": "2024-07-14T19:39:02.125192",
   "version": "2.5.0"
  }
 },
 "nbformat": 4,
 "nbformat_minor": 5
}
