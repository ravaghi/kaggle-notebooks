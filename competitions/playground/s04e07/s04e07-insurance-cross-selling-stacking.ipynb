{
 "cells": [
  {
   "cell_type": "code",
   "execution_count": 1,
   "id": "9d6cfbd4",
   "metadata": {
    "_cell_guid": "b1076dfc-b9ad-4769-8c92-a6c4dae69d19",
    "_uuid": "8f2839f25d086af736a60e9eeb907d3b93b6e0e5",
    "execution": {
     "iopub.execute_input": "2024-07-16T06:55:01.020369Z",
     "iopub.status.busy": "2024-07-16T06:55:01.019960Z",
     "iopub.status.idle": "2024-07-16T06:55:03.683168Z",
     "shell.execute_reply": "2024-07-16T06:55:03.682075Z"
    },
    "papermill": {
     "duration": 2.671923,
     "end_time": "2024-07-16T06:55:03.685868",
     "exception": false,
     "start_time": "2024-07-16T06:55:01.013945",
     "status": "completed"
    },
    "tags": []
   },
   "outputs": [],
   "source": [
    "from sklearn.metrics import roc_auc_score, roc_curve, confusion_matrix\n",
    "from sklearn.base import BaseEstimator, ClassifierMixin\n",
    "from sklearn.model_selection import StratifiedKFold\n",
    "from sklearn.ensemble import StackingClassifier\n",
    "from sklearn.utils import check_array\n",
    "from sklearn.base import clone\n",
    "import matplotlib.pyplot as plt\n",
    "import seaborn as sns\n",
    "import pandas as pd\n",
    "import numpy as np\n",
    "import warnings\n",
    "import pickle\n",
    "import glob\n",
    "import gc\n",
    "\n",
    "warnings.filterwarnings('ignore')"
   ]
  },
  {
   "cell_type": "code",
   "execution_count": 2,
   "id": "9a29a91a",
   "metadata": {
    "execution": {
     "iopub.execute_input": "2024-07-16T06:55:03.696592Z",
     "iopub.status.busy": "2024-07-16T06:55:03.695632Z",
     "iopub.status.idle": "2024-07-16T06:55:03.700861Z",
     "shell.execute_reply": "2024-07-16T06:55:03.699662Z"
    },
    "papermill": {
     "duration": 0.012856,
     "end_time": "2024-07-16T06:55:03.703166",
     "exception": false,
     "start_time": "2024-07-16T06:55:03.690310",
     "status": "completed"
    },
    "tags": []
   },
   "outputs": [],
   "source": [
    "SEED = 90\n",
    "N_FOLDS = 5\n",
    "TARGET = 'Response'"
   ]
  },
  {
   "cell_type": "code",
   "execution_count": 3,
   "id": "04bba834",
   "metadata": {
    "execution": {
     "iopub.execute_input": "2024-07-16T06:55:03.712925Z",
     "iopub.status.busy": "2024-07-16T06:55:03.712522Z",
     "iopub.status.idle": "2024-07-16T06:55:24.264817Z",
     "shell.execute_reply": "2024-07-16T06:55:24.263741Z"
    },
    "papermill": {
     "duration": 20.560198,
     "end_time": "2024-07-16T06:55:24.267482",
     "exception": false,
     "start_time": "2024-07-16T06:55:03.707284",
     "status": "completed"
    },
    "tags": []
   },
   "outputs": [],
   "source": [
    "train = pd.read_csv('/kaggle/input/playground-series-s4e7/train.csv')\n",
    "original = pd.read_csv('/kaggle/input/health-insurance-cross-sell-prediction-data/train.csv', index_col='id')"
   ]
  },
  {
   "cell_type": "code",
   "execution_count": 4,
   "id": "86f79c6e",
   "metadata": {
    "execution": {
     "iopub.execute_input": "2024-07-16T06:55:24.278058Z",
     "iopub.status.busy": "2024-07-16T06:55:24.277317Z",
     "iopub.status.idle": "2024-07-16T06:55:42.473219Z",
     "shell.execute_reply": "2024-07-16T06:55:42.472101Z"
    },
    "papermill": {
     "duration": 18.203792,
     "end_time": "2024-07-16T06:55:42.475641",
     "exception": false,
     "start_time": "2024-07-16T06:55:24.271849",
     "status": "completed"
    },
    "tags": []
   },
   "outputs": [
    {
     "data": {
      "text/plain": [
       "0"
      ]
     },
     "execution_count": 4,
     "metadata": {},
     "output_type": "execute_result"
    }
   ],
   "source": [
    "# Reference: https://www.kaggle.com/competitions/playground-series-s4e7/discussion/520253\n",
    "train[\"is_original\"] = False\n",
    "original[\"is_original\"] = True\n",
    "combined = pd.concat([train, original], axis=0)\n",
    "\n",
    "duplicates = combined.duplicated(subset=combined.columns[:-2], keep=False)\n",
    "duplicates = duplicates[duplicates].index\n",
    "\n",
    "combined.loc[duplicates, TARGET] = 1 - combined.loc[duplicates, TARGET]\n",
    "train = combined[~combined[\"is_original\"]].drop(columns=\"is_original\")\n",
    "\n",
    "del original, combined, duplicates\n",
    "gc.collect()"
   ]
  },
  {
   "cell_type": "code",
   "execution_count": 5,
   "id": "5bec2901",
   "metadata": {
    "execution": {
     "iopub.execute_input": "2024-07-16T06:55:42.485661Z",
     "iopub.status.busy": "2024-07-16T06:55:42.485303Z",
     "iopub.status.idle": "2024-07-16T06:55:42.490145Z",
     "shell.execute_reply": "2024-07-16T06:55:42.489106Z"
    },
    "papermill": {
     "duration": 0.012378,
     "end_time": "2024-07-16T06:55:42.492330",
     "exception": false,
     "start_time": "2024-07-16T06:55:42.479952",
     "status": "completed"
    },
    "tags": []
   },
   "outputs": [],
   "source": [
    "y = train[TARGET]"
   ]
  },
  {
   "cell_type": "code",
   "execution_count": 6,
   "id": "b75a33d8",
   "metadata": {
    "execution": {
     "iopub.execute_input": "2024-07-16T06:55:42.502716Z",
     "iopub.status.busy": "2024-07-16T06:55:42.501915Z",
     "iopub.status.idle": "2024-07-16T06:55:42.506525Z",
     "shell.execute_reply": "2024-07-16T06:55:42.505535Z"
    },
    "papermill": {
     "duration": 0.012054,
     "end_time": "2024-07-16T06:55:42.508668",
     "exception": false,
     "start_time": "2024-07-16T06:55:42.496614",
     "status": "completed"
    },
    "tags": []
   },
   "outputs": [],
   "source": [
    "test_pred_probs = {}\n",
    "oof_pred_probs = {}"
   ]
  },
  {
   "cell_type": "code",
   "execution_count": 7,
   "id": "efdfe5e4",
   "metadata": {
    "execution": {
     "iopub.execute_input": "2024-07-16T06:55:42.518597Z",
     "iopub.status.busy": "2024-07-16T06:55:42.518221Z",
     "iopub.status.idle": "2024-07-16T06:55:45.187872Z",
     "shell.execute_reply": "2024-07-16T06:55:45.186647Z"
    },
    "papermill": {
     "duration": 2.677592,
     "end_time": "2024-07-16T06:55:45.190480",
     "exception": false,
     "start_time": "2024-07-16T06:55:42.512888",
     "status": "completed"
    },
    "tags": []
   },
   "outputs": [],
   "source": [
    "xgb_oof_pred_probs_files = glob.glob('/kaggle/input/s04e07-insurance-cross-selling-xgboost/xgb_oof_pred_probs_*.pkl')\n",
    "xgb_test_pred_probs_files = glob.glob('/kaggle/input/s04e07-insurance-cross-selling-xgboost/xgb_test_pred_probs_*.pkl')\n",
    "\n",
    "xgb_oof_pred_probs = pickle.load(open(xgb_oof_pred_probs_files[0], 'rb'))\n",
    "xgb_test_pred_probs = pickle.load(open(xgb_test_pred_probs_files[0], 'rb'))\n",
    "\n",
    "oof_pred_probs['XGB'] = xgb_oof_pred_probs\n",
    "test_pred_probs['XGB'] = xgb_test_pred_probs"
   ]
  },
  {
   "cell_type": "code",
   "execution_count": 8,
   "id": "70e33699",
   "metadata": {
    "execution": {
     "iopub.execute_input": "2024-07-16T06:55:45.201340Z",
     "iopub.status.busy": "2024-07-16T06:55:45.200396Z",
     "iopub.status.idle": "2024-07-16T06:55:47.117909Z",
     "shell.execute_reply": "2024-07-16T06:55:47.117036Z"
    },
    "papermill": {
     "duration": 1.925547,
     "end_time": "2024-07-16T06:55:47.120372",
     "exception": false,
     "start_time": "2024-07-16T06:55:45.194825",
     "status": "completed"
    },
    "tags": []
   },
   "outputs": [],
   "source": [
    "lgbm_oof_pred_probs_files = glob.glob('/kaggle/input/s04e07-insurance-cross-selling-lightgbm/lgbm_oof_pred_probs_*.pkl')\n",
    "lgbm_test_pred_probs_files = glob.glob('/kaggle/input/s04e07-insurance-cross-selling-lightgbm/lgbm_test_pred_probs_*.pkl')\n",
    "\n",
    "lgbm_oof_pred_probs = pickle.load(open(lgbm_oof_pred_probs_files[0], 'rb'))\n",
    "lgbm_test_pred_probs = pickle.load(open(lgbm_test_pred_probs_files[0], 'rb'))\n",
    "\n",
    "oof_pred_probs['LGBM'] = lgbm_oof_pred_probs\n",
    "test_pred_probs['LGBM'] = lgbm_test_pred_probs"
   ]
  },
  {
   "cell_type": "code",
   "execution_count": 9,
   "id": "d0f237bb",
   "metadata": {
    "execution": {
     "iopub.execute_input": "2024-07-16T06:55:47.130806Z",
     "iopub.status.busy": "2024-07-16T06:55:47.129909Z",
     "iopub.status.idle": "2024-07-16T06:55:48.992640Z",
     "shell.execute_reply": "2024-07-16T06:55:48.991539Z"
    },
    "papermill": {
     "duration": 1.870538,
     "end_time": "2024-07-16T06:55:48.995220",
     "exception": false,
     "start_time": "2024-07-16T06:55:47.124682",
     "status": "completed"
    },
    "tags": []
   },
   "outputs": [],
   "source": [
    "catboost_oof_pred_probs_files = glob.glob('/kaggle/input/s04e07-insurance-cross-selling-catboost/catboost_oof_pred_probs_*.pkl')\n",
    "catboost_test_pred_probs_files = glob.glob('/kaggle/input/s04e07-insurance-cross-selling-catboost/catboost_test_pred_probs_*.pkl')\n",
    "\n",
    "catboost_oof_pred_probs = pickle.load(open(catboost_oof_pred_probs_files[0], 'rb'))\n",
    "catboost_test_pred_probs = pickle.load(open(catboost_test_pred_probs_files[0], 'rb'))\n",
    "\n",
    "oof_pred_probs['CatBoost'] = catboost_oof_pred_probs\n",
    "test_pred_probs['CatBoost'] = catboost_test_pred_probs"
   ]
  },
  {
   "cell_type": "code",
   "execution_count": 10,
   "id": "fc9f1010",
   "metadata": {
    "execution": {
     "iopub.execute_input": "2024-07-16T06:55:49.005769Z",
     "iopub.status.busy": "2024-07-16T06:55:49.004872Z",
     "iopub.status.idle": "2024-07-16T06:55:51.032300Z",
     "shell.execute_reply": "2024-07-16T06:55:51.031394Z"
    },
    "papermill": {
     "duration": 2.035167,
     "end_time": "2024-07-16T06:55:51.034774",
     "exception": false,
     "start_time": "2024-07-16T06:55:48.999607",
     "status": "completed"
    },
    "tags": []
   },
   "outputs": [],
   "source": [
    "ann_oof_pred_probs_files = glob.glob('/kaggle/input/s04e07-insurance-cross-selling-ann/keras_oof_pred_probs_*.pkl')\n",
    "ann_test_pred_probs_files = glob.glob('/kaggle/input/s04e07-insurance-cross-selling-ann/keras_test_pred_probs_*.pkl')\n",
    "\n",
    "ann_oof_pred_probs = pickle.load(open(ann_oof_pred_probs_files[0], 'rb'))\n",
    "ann_test_pred_probs = pickle.load(open(ann_test_pred_probs_files[0], 'rb'))\n",
    "\n",
    "oof_pred_probs['ANN'] = ann_oof_pred_probs\n",
    "test_pred_probs['ANN'] = ann_test_pred_probs"
   ]
  },
  {
   "cell_type": "code",
   "execution_count": 11,
   "id": "63468f6e",
   "metadata": {
    "execution": {
     "iopub.execute_input": "2024-07-16T06:55:51.044895Z",
     "iopub.status.busy": "2024-07-16T06:55:51.044504Z",
     "iopub.status.idle": "2024-07-16T06:55:51.056081Z",
     "shell.execute_reply": "2024-07-16T06:55:51.055089Z"
    },
    "papermill": {
     "duration": 0.019104,
     "end_time": "2024-07-16T06:55:51.058286",
     "exception": false,
     "start_time": "2024-07-16T06:55:51.039182",
     "status": "completed"
    },
    "tags": []
   },
   "outputs": [],
   "source": [
    "class Trainer:\n",
    "    def __init__(self, model, n_folds=N_FOLDS):\n",
    "        self.model = model\n",
    "        self.n_folds = n_folds\n",
    "\n",
    "    def fit_predict(self, X, y, X_test):\n",
    "        print(f'Training {self.model.__class__.__name__}')\n",
    "        \n",
    "        scores = []\n",
    "        oof_pred_probs = np.zeros((X.shape[0], len(np.unique(y))))\n",
    "        test_pred_probs = np.zeros((X_test.shape[0], len(np.unique(y))))\n",
    "        \n",
    "        skf = StratifiedKFold(n_splits=self.n_folds, random_state=SEED, shuffle=True)\n",
    "        for fold_idx, (train_idx, val_idx) in enumerate(skf.split(X, y)):\n",
    "            X_train, X_val = X.iloc[train_idx], X.iloc[val_idx]\n",
    "            y_train, y_val = y[train_idx], y[val_idx]\n",
    "            \n",
    "            model = clone(self.model)\n",
    "            model.fit(X_train, y_train)\n",
    "            \n",
    "            y_pred_probs = model.predict_proba(X_val)    \n",
    "            oof_pred_probs[val_idx] = y_pred_probs          \n",
    "            score = roc_auc_score(y_val, y_pred_probs[:, 1])\n",
    "            scores.append(score)\n",
    "            \n",
    "            temp_test_pred_probs = model.predict_proba(X_test)\n",
    "            test_pred_probs += temp_test_pred_probs / self.n_folds\n",
    "            \n",
    "            del model\n",
    "            gc.collect()\n",
    "            \n",
    "            print(f'--- Fold {fold_idx + 1} - AUC: {score:.5f}')\n",
    "            \n",
    "        print(f'------ Average AUC:      {np.mean(scores):.5f} ± {np.std(scores):.5f}')\n",
    "        \n",
    "        self._save_submission(test_pred_probs, np.mean(scores))\n",
    "        \n",
    "        return oof_pred_probs, scores\n",
    "    \n",
    "    def _save_submission(self, test_pred_probs, score):\n",
    "        sub = pd.read_csv('/kaggle/input/playground-series-s4e7/sample_submission.csv')\n",
    "        \n",
    "        sub['id'] = sub['id']\n",
    "        sub[TARGET] = test_pred_probs[:, 1]\n",
    "        \n",
    "        name = self.model.__class__.__name__.lower().replace('classifier', '')\n",
    "        sub.to_csv(f'sub_{name}_{score:.5f}.csv', index=False)"
   ]
  },
  {
   "cell_type": "code",
   "execution_count": 12,
   "id": "bdb0a9f7",
   "metadata": {
    "execution": {
     "iopub.execute_input": "2024-07-16T06:55:51.068418Z",
     "iopub.status.busy": "2024-07-16T06:55:51.067727Z",
     "iopub.status.idle": "2024-07-16T06:58:20.456157Z",
     "shell.execute_reply": "2024-07-16T06:58:20.455071Z"
    },
    "papermill": {
     "duration": 149.396379,
     "end_time": "2024-07-16T06:58:20.458836",
     "exception": false,
     "start_time": "2024-07-16T06:55:51.062457",
     "status": "completed"
    },
    "tags": []
   },
   "outputs": [
    {
     "name": "stdout",
     "output_type": "stream",
     "text": [
      "Training StackingClassifier\n",
      "--- Fold 1 - AUC: 0.89505\n",
      "--- Fold 2 - AUC: 0.89474\n",
      "--- Fold 3 - AUC: 0.89480\n",
      "--- Fold 4 - AUC: 0.89522\n",
      "--- Fold 5 - AUC: 0.89468\n",
      "------ Average AUC:      0.89490 ± 0.00020\n"
     ]
    }
   ],
   "source": [
    "# Reference: https://www.kaggle.com/competitions/playground-series-s4e6/discussion/509353#2851035\n",
    "class PassThroughClassifier(BaseEstimator, ClassifierMixin):\n",
    "    def __init__(self, idx_cols):\n",
    "        self.idx_cols = idx_cols\n",
    "        self.is_fitted_ = True\n",
    "\n",
    "    def fit(self, X, y=None):\n",
    "        return self\n",
    "\n",
    "    def predict_proba(self, X):\n",
    "        return check_array(X)[:, self.idx_cols]\n",
    "\n",
    "\n",
    "X_train = np.log(pd.DataFrame(np.hstack(list(oof_pred_probs.values()))) + 1e-7)\n",
    "X_test = np.log(pd.DataFrame(np.hstack(list(test_pred_probs.values()))) + 1e-7)\n",
    "\n",
    "estimators = [\n",
    "    ('XGB', PassThroughClassifier(list(range(2)))),\n",
    "    ('LGBM', PassThroughClassifier(list(range(2, 4)))),\n",
    "    ('CatBoost', PassThroughClassifier(list(range(4, 6)))),\n",
    "    ('ANN', PassThroughClassifier(list(range(6, 8)))),\n",
    "]\n",
    "\n",
    "stacking_model = StackingClassifier(estimators, cv='prefit', n_jobs=-1)\n",
    "stacking_trainer = Trainer(stacking_model)\n",
    "stacking_oof_pred_probs, stacking_scores = stacking_trainer.fit_predict(X_train, y, X_test)"
   ]
  },
  {
   "cell_type": "code",
   "execution_count": 13,
   "id": "4dd82c4e",
   "metadata": {
    "execution": {
     "iopub.execute_input": "2024-07-16T06:58:20.470393Z",
     "iopub.status.busy": "2024-07-16T06:58:20.469557Z",
     "iopub.status.idle": "2024-07-16T06:58:31.014214Z",
     "shell.execute_reply": "2024-07-16T06:58:31.013015Z"
    },
    "papermill": {
     "duration": 10.553698,
     "end_time": "2024-07-16T06:58:31.017186",
     "exception": false,
     "start_time": "2024-07-16T06:58:20.463488",
     "status": "completed"
    },
    "tags": []
   },
   "outputs": [
    {
     "data": {
      "image/png": "[encoded data removed]",
      "text/plain": [
       "<Figure size 1400x700 with 2 Axes>"
      ]
     },
     "metadata": {},
     "output_type": "display_data"
    }
   ],
   "source": [
    "fig, axes = plt.subplots(nrows=1, ncols=2, figsize=(14, 7))\n",
    "\n",
    "fpr, tpr, _ = roc_curve(y, stacking_oof_pred_probs[:, 1])\n",
    "axes[0].plot(fpr, tpr, label=f'AUC: {np.mean(stacking_scores):.5f}', color='#651FFF')\n",
    "axes[0].plot([0, 1], [0, 1], color='black', linestyle='--')\n",
    "axes[0].set_xlabel('False Positive Rate')\n",
    "axes[0].set_ylabel('True Positive Rate')\n",
    "axes[0].legend()\n",
    "axes[0].grid(True)\n",
    "axes[0].set_aspect('equal', adjustable='box')\n",
    "\n",
    "y_pred = stacking_oof_pred_probs.argmax(axis=1)\n",
    "cm = confusion_matrix(y, y_pred)\n",
    "sns.heatmap(\n",
    "    cm, \n",
    "    annot=True, \n",
    "    fmt=',', \n",
    "    ax=axes[1], \n",
    "    cbar=False,\n",
    "    cmap=sns.light_palette('#651FFF', reverse=False, as_cmap=True), \n",
    ")\n",
    "axes[1].set_xlabel('Predicted')\n",
    "axes[1].set_ylabel('Actual')\n",
    "axes[1].set_aspect('equal', adjustable='box')\n",
    "\n",
    "plt.tight_layout()\n",
    "plt.show()"
   ]
  }
 ],
 "metadata": {
  "kaggle": {
   "accelerator": "none",
   "dataSources": [
    {
     "databundleVersionId": 8930475,
     "sourceId": 73291,
     "sourceType": "competition"
    },
    {
     "datasetId": 4268036,
     "sourceId": 7349720,
     "sourceType": "datasetVersion"
    },
    {
     "sourceId": 187778086,
     "sourceType": "kernelVersion"
    },
    {
     "sourceId": 187630160,
     "sourceType": "kernelVersion"
    },
    {
     "sourceId": 188010073,
     "sourceType": "kernelVersion"
    },
    {
     "sourceId": 187664454,
     "sourceType": "kernelVersion"
    }
   ],
   "dockerImageVersionId": 30746,
   "isGpuEnabled": false,
   "isInternetEnabled": true,
   "language": "python",
   "sourceType": "notebook"
  },
  "kernelspec": {
   "display_name": "Python 3",
   "language": "python",
   "name": "python3"
  },
  "language_info": {
   "codemirror_mode": {
    "name": "ipython",
    "version": 3
   },
   "file_extension": ".py",
   "mimetype": "text/x-python",
   "name": "python",
   "nbconvert_exporter": "python",
   "pygments_lexer": "ipython3",
   "version": "3.10.13"
  },
  "papermill": {
   "default_parameters": {},
   "duration": 213.820184,
   "end_time": "2024-07-16T06:58:31.946478",
   "environment_variables": {},
   "exception": null,
   "input_path": "__notebook__.ipynb",
   "output_path": "__notebook__.ipynb",
   "parameters": {},
   "start_time": "2024-07-16T06:54:58.126294",
   "version": "2.5.0"
  }
 },
 "nbformat": 4,
 "nbformat_minor": 5
}
