{
 "cells": [
  {
   "cell_type": "code",
   "execution_count": 1,
   "id": "88489905",
   "metadata": {
    "_cell_guid": "b1076dfc-b9ad-4769-8c92-a6c4dae69d19",
    "_uuid": "8f2839f25d086af736a60e9eeb907d3b93b6e0e5",
    "execution": {
     "iopub.execute_input": "2024-07-15T17:22:55.339831Z",
     "iopub.status.busy": "2024-07-15T17:22:55.339353Z",
     "iopub.status.idle": "2024-07-15T17:22:58.581003Z",
     "shell.execute_reply": "2024-07-15T17:22:58.579764Z"
    },
    "papermill": {
     "duration": 3.250966,
     "end_time": "2024-07-15T17:22:58.584161",
     "exception": false,
     "start_time": "2024-07-15T17:22:55.333195",
     "status": "completed"
    },
    "tags": []
   },
   "outputs": [],
   "source": [
    "from sklearn.metrics import roc_auc_score, roc_curve, confusion_matrix\n",
    "from sklearn.base import BaseEstimator, ClassifierMixin\n",
    "from sklearn.model_selection import StratifiedKFold\n",
    "from sklearn.ensemble import StackingClassifier\n",
    "from sklearn.utils import check_array\n",
    "from sklearn.base import clone\n",
    "import matplotlib.pyplot as plt\n",
    "import seaborn as sns\n",
    "import pandas as pd\n",
    "import numpy as np\n",
    "import warnings\n",
    "import pickle\n",
    "import glob\n",
    "import gc\n",
    "\n",
    "warnings.filterwarnings('ignore')"
   ]
  },
  {
   "cell_type": "code",
   "execution_count": 2,
   "id": "1e331104",
   "metadata": {
    "execution": {
     "iopub.execute_input": "2024-07-15T17:22:58.593807Z",
     "iopub.status.busy": "2024-07-15T17:22:58.593259Z",
     "iopub.status.idle": "2024-07-15T17:22:58.598668Z",
     "shell.execute_reply": "2024-07-15T17:22:58.597478Z"
    },
    "papermill": {
     "duration": 0.012698,
     "end_time": "2024-07-15T17:22:58.600976",
     "exception": false,
     "start_time": "2024-07-15T17:22:58.588278",
     "status": "completed"
    },
    "tags": []
   },
   "outputs": [],
   "source": [
    "SEED = 90\n",
    "N_FOLDS = 5\n",
    "TARGET = 'Response'"
   ]
  },
  {
   "cell_type": "code",
   "execution_count": 3,
   "id": "e67ee48a",
   "metadata": {
    "execution": {
     "iopub.execute_input": "2024-07-15T17:22:58.610447Z",
     "iopub.status.busy": "2024-07-15T17:22:58.609794Z",
     "iopub.status.idle": "2024-07-15T17:23:18.559328Z",
     "shell.execute_reply": "2024-07-15T17:23:18.558010Z"
    },
    "papermill": {
     "duration": 19.957392,
     "end_time": "2024-07-15T17:23:18.562252",
     "exception": false,
     "start_time": "2024-07-15T17:22:58.604860",
     "status": "completed"
    },
    "tags": []
   },
   "outputs": [],
   "source": [
    "train = pd.read_csv('/kaggle/input/playground-series-s4e7/train.csv')\n",
    "y = train[TARGET]"
   ]
  },
  {
   "cell_type": "code",
   "execution_count": 4,
   "id": "c08384c8",
   "metadata": {
    "execution": {
     "iopub.execute_input": "2024-07-15T17:23:18.571907Z",
     "iopub.status.busy": "2024-07-15T17:23:18.571472Z",
     "iopub.status.idle": "2024-07-15T17:23:18.576708Z",
     "shell.execute_reply": "2024-07-15T17:23:18.575656Z"
    },
    "papermill": {
     "duration": 0.012988,
     "end_time": "2024-07-15T17:23:18.579331",
     "exception": false,
     "start_time": "2024-07-15T17:23:18.566343",
     "status": "completed"
    },
    "tags": []
   },
   "outputs": [],
   "source": [
    "test_pred_probs = {}\n",
    "oof_pred_probs = {}"
   ]
  },
  {
   "cell_type": "code",
   "execution_count": 5,
   "id": "cdd4dcde",
   "metadata": {
    "execution": {
     "iopub.execute_input": "2024-07-15T17:23:18.588924Z",
     "iopub.status.busy": "2024-07-15T17:23:18.588446Z",
     "iopub.status.idle": "2024-07-15T17:23:21.559276Z",
     "shell.execute_reply": "2024-07-15T17:23:21.557983Z"
    },
    "papermill": {
     "duration": 2.978981,
     "end_time": "2024-07-15T17:23:21.562167",
     "exception": false,
     "start_time": "2024-07-15T17:23:18.583186",
     "status": "completed"
    },
    "tags": []
   },
   "outputs": [],
   "source": [
    "xgb_oof_pred_probs_files = glob.glob('/kaggle/input/s04e07-insurance-cross-selling-xgboost/xgb_oof_pred_probs_*.pkl')\n",
    "xgb_test_pred_probs_files = glob.glob('/kaggle/input/s04e07-insurance-cross-selling-xgboost/xgb_test_pred_probs_*.pkl')\n",
    "\n",
    "xgb_oof_pred_probs = pickle.load(open(xgb_oof_pred_probs_files[0], 'rb'))\n",
    "xgb_test_pred_probs = pickle.load(open(xgb_test_pred_probs_files[0], 'rb'))\n",
    "\n",
    "oof_pred_probs['XGB'] = xgb_oof_pred_probs\n",
    "test_pred_probs['XGB'] = xgb_test_pred_probs"
   ]
  },
  {
   "cell_type": "code",
   "execution_count": 6,
   "id": "c08058b8",
   "metadata": {
    "execution": {
     "iopub.execute_input": "2024-07-15T17:23:21.571339Z",
     "iopub.status.busy": "2024-07-15T17:23:21.570987Z",
     "iopub.status.idle": "2024-07-15T17:23:24.934731Z",
     "shell.execute_reply": "2024-07-15T17:23:24.933597Z"
    },
    "papermill": {
     "duration": 3.371719,
     "end_time": "2024-07-15T17:23:24.937746",
     "exception": false,
     "start_time": "2024-07-15T17:23:21.566027",
     "status": "completed"
    },
    "tags": []
   },
   "outputs": [],
   "source": [
    "lgbm_oof_pred_probs_files = glob.glob('/kaggle/input/s04e07-insurance-cross-selling-lightgbm/lgbm_oof_pred_probs_*.pkl')\n",
    "lgbm_test_pred_probs_files = glob.glob('/kaggle/input/s04e07-insurance-cross-selling-lightgbm/lgbm_test_pred_probs_*.pkl')\n",
    "\n",
    "lgbm_oof_pred_probs = pickle.load(open(lgbm_oof_pred_probs_files[0], 'rb'))\n",
    "lgbm_test_pred_probs = pickle.load(open(lgbm_test_pred_probs_files[0], 'rb'))\n",
    "\n",
    "oof_pred_probs['LGBM'] = lgbm_oof_pred_probs\n",
    "test_pred_probs['LGBM'] = lgbm_test_pred_probs"
   ]
  },
  {
   "cell_type": "code",
   "execution_count": 7,
   "id": "ad8095e6",
   "metadata": {
    "execution": {
     "iopub.execute_input": "2024-07-15T17:23:24.948462Z",
     "iopub.status.busy": "2024-07-15T17:23:24.947650Z",
     "iopub.status.idle": "2024-07-15T17:23:28.250096Z",
     "shell.execute_reply": "2024-07-15T17:23:28.248838Z"
    },
    "papermill": {
     "duration": 3.310752,
     "end_time": "2024-07-15T17:23:28.252813",
     "exception": false,
     "start_time": "2024-07-15T17:23:24.942061",
     "status": "completed"
    },
    "tags": []
   },
   "outputs": [],
   "source": [
    "catboost_oof_pred_probs_files = glob.glob('/kaggle/input/s04e07-insurance-cross-selling-catboost/catboost_oof_pred_probs_*.pkl')\n",
    "catboost_test_pred_probs_files = glob.glob('/kaggle/input/s04e07-insurance-cross-selling-catboost/catboost_test_pred_probs_*.pkl')\n",
    "\n",
    "catboost_oof_pred_probs = pickle.load(open(catboost_oof_pred_probs_files[0], 'rb'))\n",
    "catboost_test_pred_probs = pickle.load(open(catboost_test_pred_probs_files[0], 'rb'))\n",
    "\n",
    "oof_pred_probs['CatBoost'] = catboost_oof_pred_probs\n",
    "test_pred_probs['CatBoost'] = catboost_test_pred_probs"
   ]
  },
  {
   "cell_type": "code",
   "execution_count": 8,
   "id": "4d6b93fd",
   "metadata": {
    "execution": {
     "iopub.execute_input": "2024-07-15T17:23:28.261990Z",
     "iopub.status.busy": "2024-07-15T17:23:28.261594Z",
     "iopub.status.idle": "2024-07-15T17:23:31.814590Z",
     "shell.execute_reply": "2024-07-15T17:23:31.813247Z"
    },
    "papermill": {
     "duration": 3.560959,
     "end_time": "2024-07-15T17:23:31.817619",
     "exception": false,
     "start_time": "2024-07-15T17:23:28.256660",
     "status": "completed"
    },
    "tags": []
   },
   "outputs": [],
   "source": [
    "ann_oof_pred_probs_files = glob.glob('/kaggle/input/s04e07-insurance-cross-selling-ann/keras_oof_pred_probs_*.pkl')\n",
    "ann_test_pred_probs_files = glob.glob('/kaggle/input/s04e07-insurance-cross-selling-ann/keras_test_pred_probs_*.pkl')\n",
    "\n",
    "ann_oof_pred_probs = pickle.load(open(ann_oof_pred_probs_files[0], 'rb'))\n",
    "ann_test_pred_probs = pickle.load(open(ann_test_pred_probs_files[0], 'rb'))\n",
    "\n",
    "oof_pred_probs['ANN'] = ann_oof_pred_probs\n",
    "test_pred_probs['ANN'] = ann_test_pred_probs"
   ]
  },
  {
   "cell_type": "code",
   "execution_count": 9,
   "id": "1246d183",
   "metadata": {
    "execution": {
     "iopub.execute_input": "2024-07-15T17:23:31.827490Z",
     "iopub.status.busy": "2024-07-15T17:23:31.827053Z",
     "iopub.status.idle": "2024-07-15T17:23:31.839633Z",
     "shell.execute_reply": "2024-07-15T17:23:31.838464Z"
    },
    "papermill": {
     "duration": 0.020587,
     "end_time": "2024-07-15T17:23:31.842254",
     "exception": false,
     "start_time": "2024-07-15T17:23:31.821667",
     "status": "completed"
    },
    "tags": []
   },
   "outputs": [],
   "source": [
    "class Trainer:\n",
    "    def __init__(self, model, n_folds=N_FOLDS):\n",
    "        self.model = model\n",
    "        self.n_folds = n_folds\n",
    "\n",
    "    def fit_predict(self, X, y, X_test):\n",
    "        print(f'Training {self.model.__class__.__name__}')\n",
    "        \n",
    "        scores = []\n",
    "        oof_pred_probs = np.zeros((X.shape[0], len(np.unique(y))))\n",
    "        test_pred_probs = np.zeros((X_test.shape[0], len(np.unique(y))))\n",
    "        \n",
    "        skf = StratifiedKFold(n_splits=self.n_folds, random_state=SEED, shuffle=True)\n",
    "        for fold_idx, (train_idx, val_idx) in enumerate(skf.split(X, y)):\n",
    "            X_train, X_val = X.iloc[train_idx], X.iloc[val_idx]\n",
    "            y_train, y_val = y[train_idx], y[val_idx]\n",
    "            \n",
    "            model = clone(self.model)\n",
    "            model.fit(X_train, y_train)\n",
    "            \n",
    "            y_pred_probs = model.predict_proba(X_val)    \n",
    "            oof_pred_probs[val_idx] = y_pred_probs          \n",
    "            score = roc_auc_score(y_val, y_pred_probs[:, 1])\n",
    "            scores.append(score)\n",
    "            \n",
    "            temp_test_pred_probs = model.predict_proba(X_test)\n",
    "            test_pred_probs += temp_test_pred_probs / self.n_folds\n",
    "            \n",
    "            del model\n",
    "            gc.collect()\n",
    "            \n",
    "            print(f'--- Fold {fold_idx + 1} - AUC: {score:.5f}')\n",
    "            \n",
    "        print(f'------ Average AUC:      {np.mean(scores):.5f} ± {np.std(scores):.5f}')\n",
    "        \n",
    "        self._save_submission(test_pred_probs, np.mean(scores))\n",
    "        \n",
    "        return oof_pred_probs, scores\n",
    "    \n",
    "    def _save_submission(self, test_pred_probs, score):\n",
    "        sub = pd.read_csv('/kaggle/input/playground-series-s4e7/sample_submission.csv')\n",
    "        \n",
    "        sub['id'] = sub['id']\n",
    "        sub[TARGET] = test_pred_probs[:, 1]\n",
    "        \n",
    "        name = self.model.__class__.__name__.lower().replace('classifier', '')\n",
    "        sub.to_csv(f'sub_{name}_{score:.5f}.csv', index=False)"
   ]
  },
  {
   "cell_type": "code",
   "execution_count": 10,
   "id": "e058cd02",
   "metadata": {
    "execution": {
     "iopub.execute_input": "2024-07-15T17:23:31.851595Z",
     "iopub.status.busy": "2024-07-15T17:23:31.851132Z",
     "iopub.status.idle": "2024-07-15T17:25:39.636746Z",
     "shell.execute_reply": "2024-07-15T17:25:39.635379Z"
    },
    "papermill": {
     "duration": 127.794244,
     "end_time": "2024-07-15T17:25:39.640315",
     "exception": false,
     "start_time": "2024-07-15T17:23:31.846071",
     "status": "completed"
    },
    "tags": []
   },
   "outputs": [
    {
     "name": "stdout",
     "output_type": "stream",
     "text": [
      "Training StackingClassifier\n",
      "--- Fold 1 - AUC: 0.89513\n",
      "--- Fold 2 - AUC: 0.89509\n",
      "--- Fold 3 - AUC: 0.89511\n",
      "--- Fold 4 - AUC: 0.89504\n",
      "--- Fold 5 - AUC: 0.89478\n",
      "------ Average AUC:      0.89503 ± 0.00013\n"
     ]
    }
   ],
   "source": [
    "# Reference: https://www.kaggle.com/competitions/playground-series-s4e6/discussion/509353#2851035\n",
    "class PassThroughClassifier(BaseEstimator, ClassifierMixin):\n",
    "    def __init__(self, idx_cols):\n",
    "        self.idx_cols = idx_cols\n",
    "        self.is_fitted_ = True\n",
    "\n",
    "    def fit(self, X, y=None):\n",
    "        return self\n",
    "\n",
    "    def predict_proba(self, X):\n",
    "        return check_array(X)[:, self.idx_cols]\n",
    "\n",
    "\n",
    "X_train = np.log(pd.DataFrame(np.hstack(list(oof_pred_probs.values()))) + 1e-7)\n",
    "X_test = np.log(pd.DataFrame(np.hstack(list(test_pred_probs.values()))) + 1e-7)\n",
    "\n",
    "estimators = [\n",
    "    ('XGB', PassThroughClassifier(list(range(2)))),\n",
    "    ('LGBM', PassThroughClassifier(list(range(2, 4)))),\n",
    "    ('CatBoost', PassThroughClassifier(list(range(4, 6)))),\n",
    "    ('ANN', PassThroughClassifier(list(range(6, 8)))),\n",
    "]\n",
    "\n",
    "stacking_model = StackingClassifier(estimators, cv='prefit', n_jobs=-1)\n",
    "stacking_trainer = Trainer(stacking_model)\n",
    "stacking_oof_pred_probs, stacking_scores = stacking_trainer.fit_predict(X_train, y, X_test)"
   ]
  },
  {
   "cell_type": "code",
   "execution_count": 11,
   "id": "450ca3c3",
   "metadata": {
    "execution": {
     "iopub.execute_input": "2024-07-15T17:25:39.650902Z",
     "iopub.status.busy": "2024-07-15T17:25:39.650461Z",
     "iopub.status.idle": "2024-07-15T17:25:50.558398Z",
     "shell.execute_reply": "2024-07-15T17:25:50.556692Z"
    },
    "papermill": {
     "duration": 10.916428,
     "end_time": "2024-07-15T17:25:50.561319",
     "exception": false,
     "start_time": "2024-07-15T17:25:39.644891",
     "status": "completed"
    },
    "tags": []
   },
   "outputs": [
    {
     "data": {
      "image/png": "[encoded data removed]",
      "text/plain": [
       "<Figure size 1400x700 with 2 Axes>"
      ]
     },
     "metadata": {},
     "output_type": "display_data"
    }
   ],
   "source": [
    "fig, axes = plt.subplots(nrows=1, ncols=2, figsize=(14, 7))\n",
    "\n",
    "fpr, tpr, _ = roc_curve(y, stacking_oof_pred_probs[:, 1])\n",
    "axes[0].plot(fpr, tpr, label=f'AUC: {np.mean(stacking_scores):.5f}', color='#651FFF')\n",
    "axes[0].plot([0, 1], [0, 1], color='black', linestyle='--')\n",
    "axes[0].set_xlabel('False Positive Rate')\n",
    "axes[0].set_ylabel('True Positive Rate')\n",
    "axes[0].legend()\n",
    "axes[0].grid(True)\n",
    "axes[0].set_aspect('equal', adjustable='box')\n",
    "\n",
    "y_pred = stacking_oof_pred_probs.argmax(axis=1)\n",
    "cm = confusion_matrix(y, y_pred)\n",
    "sns.heatmap(\n",
    "    cm, \n",
    "    annot=True, \n",
    "    fmt=',', \n",
    "    ax=axes[1], \n",
    "    cbar=False,\n",
    "    cmap=sns.light_palette('#651FFF', reverse=False, as_cmap=True), \n",
    ")\n",
    "axes[1].set_xlabel('Predicted')\n",
    "axes[1].set_ylabel('Actual')\n",
    "axes[1].set_aspect('equal', adjustable='box')\n",
    "\n",
    "plt.tight_layout()\n",
    "plt.show()"
   ]
  }
 ],
 "metadata": {
  "kaggle": {
   "accelerator": "none",
   "dataSources": [
    {
     "databundleVersionId": 8930475,
     "sourceId": 73291,
     "sourceType": "competition"
    },
    {
     "sourceId": 187630160,
     "sourceType": "kernelVersion"
    },
    {
     "sourceId": 187664454,
     "sourceType": "kernelVersion"
    },
    {
     "sourceId": 187778086,
     "sourceType": "kernelVersion"
    },
    {
     "sourceId": 188010073,
     "sourceType": "kernelVersion"
    }
   ],
   "dockerImageVersionId": 30746,
   "isGpuEnabled": false,
   "isInternetEnabled": true,
   "language": "python",
   "sourceType": "notebook"
  },
  "kernelspec": {
   "display_name": "Python 3",
   "language": "python",
   "name": "python3"
  },
  "language_info": {
   "codemirror_mode": {
    "name": "ipython",
    "version": 3
   },
   "file_extension": ".py",
   "mimetype": "text/x-python",
   "name": "python",
   "nbconvert_exporter": "python",
   "pygments_lexer": "ipython3",
   "version": "3.10.13"
  },
  "papermill": {
   "default_parameters": {},
   "duration": 179.304389,
   "end_time": "2024-07-15T17:25:51.491745",
   "environment_variables": {},
   "exception": null,
   "input_path": "__notebook__.ipynb",
   "output_path": "__notebook__.ipynb",
   "parameters": {},
   "start_time": "2024-07-15T17:22:52.187356",
   "version": "2.5.0"
  }
 },
 "nbformat": 4,
 "nbformat_minor": 5
}
