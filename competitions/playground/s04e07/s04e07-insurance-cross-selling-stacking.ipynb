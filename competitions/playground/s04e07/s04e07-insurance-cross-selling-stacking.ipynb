{
 "cells": [
  {
   "cell_type": "code",
   "execution_count": 1,
   "id": "f9106a12",
   "metadata": {
    "_cell_guid": "b1076dfc-b9ad-4769-8c92-a6c4dae69d19",
    "_uuid": "8f2839f25d086af736a60e9eeb907d3b93b6e0e5",
    "execution": {
     "iopub.execute_input": "2024-07-22T07:32:49.496291Z",
     "iopub.status.busy": "2024-07-22T07:32:49.495875Z",
     "iopub.status.idle": "2024-07-22T07:32:52.609762Z",
     "shell.execute_reply": "2024-07-22T07:32:52.608583Z"
    },
    "papermill": {
     "duration": 3.123809,
     "end_time": "2024-07-22T07:32:52.612795",
     "exception": false,
     "start_time": "2024-07-22T07:32:49.488986",
     "status": "completed"
    },
    "tags": []
   },
   "outputs": [],
   "source": [
    "from sklearn.metrics import roc_auc_score, roc_curve, confusion_matrix\n",
    "from sklearn.base import BaseEstimator, ClassifierMixin\n",
    "from sklearn.model_selection import StratifiedKFold\n",
    "from sklearn.ensemble import StackingClassifier\n",
    "from sklearn.utils import check_array\n",
    "from sklearn.base import clone\n",
    "import matplotlib.pyplot as plt\n",
    "from pathlib import Path\n",
    "import seaborn as sns\n",
    "import pandas as pd\n",
    "import numpy as np\n",
    "import warnings\n",
    "import pickle\n",
    "import glob\n",
    "import gc\n",
    "\n",
    "warnings.filterwarnings('ignore')"
   ]
  },
  {
   "cell_type": "code",
   "execution_count": 2,
   "id": "c2aff212",
   "metadata": {
    "execution": {
     "iopub.execute_input": "2024-07-22T07:32:52.625425Z",
     "iopub.status.busy": "2024-07-22T07:32:52.624521Z",
     "iopub.status.idle": "2024-07-22T07:32:52.630189Z",
     "shell.execute_reply": "2024-07-22T07:32:52.628795Z"
    },
    "papermill": {
     "duration": 0.014344,
     "end_time": "2024-07-22T07:32:52.632561",
     "exception": false,
     "start_time": "2024-07-22T07:32:52.618217",
     "status": "completed"
    },
    "tags": []
   },
   "outputs": [],
   "source": [
    "SEED = 90\n",
    "N_FOLDS = 5\n",
    "TARGET = 'Response'"
   ]
  },
  {
   "cell_type": "code",
   "execution_count": 3,
   "id": "31dc5653",
   "metadata": {
    "execution": {
     "iopub.execute_input": "2024-07-22T07:32:52.644533Z",
     "iopub.status.busy": "2024-07-22T07:32:52.643656Z",
     "iopub.status.idle": "2024-07-22T07:33:22.332726Z",
     "shell.execute_reply": "2024-07-22T07:33:22.331604Z"
    },
    "papermill": {
     "duration": 29.698297,
     "end_time": "2024-07-22T07:33:22.335836",
     "exception": false,
     "start_time": "2024-07-22T07:32:52.637539",
     "status": "completed"
    },
    "tags": []
   },
   "outputs": [],
   "source": [
    "train = pd.read_csv('/kaggle/input/playground-series-s4e7/train.csv')\n",
    "original = pd.read_csv('/kaggle/input/health-insurance-cross-sell-prediction-data/train.csv', index_col='id')"
   ]
  },
  {
   "cell_type": "code",
   "execution_count": 4,
   "id": "6602b170",
   "metadata": {
    "execution": {
     "iopub.execute_input": "2024-07-22T07:33:22.348251Z",
     "iopub.status.busy": "2024-07-22T07:33:22.347241Z",
     "iopub.status.idle": "2024-07-22T07:33:41.082282Z",
     "shell.execute_reply": "2024-07-22T07:33:41.080969Z"
    },
    "papermill": {
     "duration": 18.744144,
     "end_time": "2024-07-22T07:33:41.085259",
     "exception": false,
     "start_time": "2024-07-22T07:33:22.341115",
     "status": "completed"
    },
    "tags": []
   },
   "outputs": [],
   "source": [
    "train = pd.concat([train, original]).reset_index(drop=True) \n",
    "train = train.drop_duplicates(keep=\"last\").reset_index(drop=True)"
   ]
  },
  {
   "cell_type": "code",
   "execution_count": 5,
   "id": "22f7ad15",
   "metadata": {
    "execution": {
     "iopub.execute_input": "2024-07-22T07:33:41.097090Z",
     "iopub.status.busy": "2024-07-22T07:33:41.096620Z",
     "iopub.status.idle": "2024-07-22T07:33:41.101965Z",
     "shell.execute_reply": "2024-07-22T07:33:41.100864Z"
    },
    "papermill": {
     "duration": 0.014055,
     "end_time": "2024-07-22T07:33:41.104419",
     "exception": false,
     "start_time": "2024-07-22T07:33:41.090364",
     "status": "completed"
    },
    "tags": []
   },
   "outputs": [],
   "source": [
    "y = train[TARGET]"
   ]
  },
  {
   "cell_type": "code",
   "execution_count": 6,
   "id": "9a2c3111",
   "metadata": {
    "execution": {
     "iopub.execute_input": "2024-07-22T07:33:41.116530Z",
     "iopub.status.busy": "2024-07-22T07:33:41.116100Z",
     "iopub.status.idle": "2024-07-22T07:33:41.121093Z",
     "shell.execute_reply": "2024-07-22T07:33:41.119952Z"
    },
    "papermill": {
     "duration": 0.013999,
     "end_time": "2024-07-22T07:33:41.123539",
     "exception": false,
     "start_time": "2024-07-22T07:33:41.109540",
     "status": "completed"
    },
    "tags": []
   },
   "outputs": [],
   "source": [
    "test_pred_probs = {}\n",
    "oof_pred_probs = {}"
   ]
  },
  {
   "cell_type": "code",
   "execution_count": 7,
   "id": "2c7c4c5f",
   "metadata": {
    "execution": {
     "iopub.execute_input": "2024-07-22T07:33:41.135830Z",
     "iopub.status.busy": "2024-07-22T07:33:41.135402Z",
     "iopub.status.idle": "2024-07-22T07:33:46.117599Z",
     "shell.execute_reply": "2024-07-22T07:33:46.116352Z"
    },
    "papermill": {
     "duration": 4.991796,
     "end_time": "2024-07-22T07:33:46.120653",
     "exception": false,
     "start_time": "2024-07-22T07:33:41.128857",
     "status": "completed"
    },
    "tags": []
   },
   "outputs": [],
   "source": [
    "xgb_oof_pred_probs_files = glob.glob('/kaggle/input/s04e07-insurance-cross-selling-xgboost/xgb_oof_pred_probs_*.pkl')\n",
    "xgb_test_pred_probs_files = glob.glob('/kaggle/input/s04e07-insurance-cross-selling-xgboost/xgb_test_pred_probs_*.pkl')\n",
    "\n",
    "xgb_oof_pred_probs = pickle.load(open(xgb_oof_pred_probs_files[0], 'rb'))\n",
    "xgb_test_pred_probs = pickle.load(open(xgb_test_pred_probs_files[0], 'rb'))\n",
    "\n",
    "oof_pred_probs['XGB'] = xgb_oof_pred_probs\n",
    "test_pred_probs['XGB'] = xgb_test_pred_probs"
   ]
  },
  {
   "cell_type": "code",
   "execution_count": 8,
   "id": "f58fd849",
   "metadata": {
    "execution": {
     "iopub.execute_input": "2024-07-22T07:33:46.134326Z",
     "iopub.status.busy": "2024-07-22T07:33:46.133830Z",
     "iopub.status.idle": "2024-07-22T07:33:51.082348Z",
     "shell.execute_reply": "2024-07-22T07:33:51.081154Z"
    },
    "papermill": {
     "duration": 4.959275,
     "end_time": "2024-07-22T07:33:51.085669",
     "exception": false,
     "start_time": "2024-07-22T07:33:46.126394",
     "status": "completed"
    },
    "tags": []
   },
   "outputs": [],
   "source": [
    "lgbm_oof_pred_probs_files = glob.glob('/kaggle/input/s04e07-insurance-cross-selling-lightgbm/lgbm_oof_pred_probs_*.pkl')\n",
    "lgbm_test_pred_probs_files = glob.glob('/kaggle/input/s04e07-insurance-cross-selling-lightgbm/lgbm_test_pred_probs_*.pkl')\n",
    "\n",
    "lgbm_oof_pred_probs = pickle.load(open(lgbm_oof_pred_probs_files[0], 'rb'))\n",
    "lgbm_test_pred_probs = pickle.load(open(lgbm_test_pred_probs_files[0], 'rb'))\n",
    "\n",
    "oof_pred_probs['LGBM'] = lgbm_oof_pred_probs\n",
    "test_pred_probs['LGBM'] = lgbm_test_pred_probs"
   ]
  },
  {
   "cell_type": "code",
   "execution_count": 9,
   "id": "b1332c7a",
   "metadata": {
    "execution": {
     "iopub.execute_input": "2024-07-22T07:33:51.098368Z",
     "iopub.status.busy": "2024-07-22T07:33:51.097952Z",
     "iopub.status.idle": "2024-07-22T07:33:53.976947Z",
     "shell.execute_reply": "2024-07-22T07:33:53.975625Z"
    },
    "papermill": {
     "duration": 2.888613,
     "end_time": "2024-07-22T07:33:53.979794",
     "exception": false,
     "start_time": "2024-07-22T07:33:51.091181",
     "status": "completed"
    },
    "tags": []
   },
   "outputs": [],
   "source": [
    "catboost_oof_pred_probs_files = glob.glob('/kaggle/input/s04e07-insurance-cross-selling-catboost/catboost_oof_pred_probs_*.pkl')\n",
    "catboost_test_pred_probs_files = glob.glob('/kaggle/input/s04e07-insurance-cross-selling-catboost/catboost_test_pred_probs_*.pkl')\n",
    "\n",
    "catboost_oof_pred_probs = pickle.load(open(catboost_oof_pred_probs_files[0], 'rb'))\n",
    "catboost_test_pred_probs = pickle.load(open(catboost_test_pred_probs_files[0], 'rb'))\n",
    "\n",
    "oof_pred_probs['CatBoost'] = catboost_oof_pred_probs\n",
    "test_pred_probs['CatBoost'] = catboost_test_pred_probs"
   ]
  },
  {
   "cell_type": "code",
   "execution_count": 10,
   "id": "1e653f68",
   "metadata": {
    "execution": {
     "iopub.execute_input": "2024-07-22T07:33:53.992329Z",
     "iopub.status.busy": "2024-07-22T07:33:53.991918Z",
     "iopub.status.idle": "2024-07-22T07:33:58.089148Z",
     "shell.execute_reply": "2024-07-22T07:33:58.087798Z"
    },
    "papermill": {
     "duration": 4.106869,
     "end_time": "2024-07-22T07:33:58.092134",
     "exception": false,
     "start_time": "2024-07-22T07:33:53.985265",
     "status": "completed"
    },
    "tags": []
   },
   "outputs": [],
   "source": [
    "ann_oof_pred_probs_files = glob.glob('/kaggle/input/s04e07-insurance-cross-selling-ann/keras_oof_pred_probs_*.pkl')\n",
    "ann_test_pred_probs_files = glob.glob('/kaggle/input/s04e07-insurance-cross-selling-ann/keras_test_pred_probs_*.pkl')\n",
    "\n",
    "ann_oof_pred_probs = pickle.load(open(ann_oof_pred_probs_files[0], 'rb'))\n",
    "ann_test_pred_probs = pickle.load(open(ann_test_pred_probs_files[0], 'rb'))\n",
    "\n",
    "oof_pred_probs['ANN'] = ann_oof_pred_probs\n",
    "test_pred_probs['ANN'] = ann_test_pred_probs"
   ]
  },
  {
   "cell_type": "code",
   "execution_count": 11,
   "id": "99f0875f",
   "metadata": {
    "execution": {
     "iopub.execute_input": "2024-07-22T07:33:58.105889Z",
     "iopub.status.busy": "2024-07-22T07:33:58.105492Z",
     "iopub.status.idle": "2024-07-22T07:33:58.125376Z",
     "shell.execute_reply": "2024-07-22T07:33:58.124138Z"
    },
    "papermill": {
     "duration": 0.030578,
     "end_time": "2024-07-22T07:33:58.128299",
     "exception": false,
     "start_time": "2024-07-22T07:33:58.097721",
     "status": "completed"
    },
    "tags": []
   },
   "outputs": [],
   "source": [
    "class Trainer:\n",
    "    def __init__(self, model, n_folds=N_FOLDS):\n",
    "        self.model = model\n",
    "        self.n_folds = n_folds\n",
    "\n",
    "    def fit_predict(self, X, y, X_test):\n",
    "        print(f'Training {self.model.__class__.__name__}')\n",
    "        \n",
    "        scores = []\n",
    "        oof_pred_probs = np.zeros((X.shape[0], len(np.unique(y))))\n",
    "        test_pred_probs = np.zeros((X_test.shape[0], len(np.unique(y))))\n",
    "        \n",
    "        skf = StratifiedKFold(n_splits=self.n_folds, random_state=SEED, shuffle=True)\n",
    "        for fold_idx, (train_idx, val_idx) in enumerate(skf.split(X, y)):\n",
    "            X_train, X_val = X.iloc[train_idx], X.iloc[val_idx]\n",
    "            y_train, y_val = y[train_idx], y[val_idx]\n",
    "            \n",
    "            model = clone(self.model)\n",
    "            model.fit(X_train, y_train)\n",
    "            \n",
    "            y_pred_probs = model.predict_proba(X_val)    \n",
    "            oof_pred_probs[val_idx] = y_pred_probs          \n",
    "            score = roc_auc_score(y_val, y_pred_probs[:, 1])\n",
    "            scores.append(score)\n",
    "            \n",
    "            temp_test_pred_probs = model.predict_proba(X_test)\n",
    "            test_pred_probs += temp_test_pred_probs / self.n_folds\n",
    "            \n",
    "            del model\n",
    "            gc.collect()\n",
    "            \n",
    "            print(f'--- Fold {fold_idx + 1} - AUC: {score:.5f}')\n",
    "            \n",
    "        print(f'------ Average AUC: {np.mean(scores):.5f} ± {np.std(scores):.5f}')\n",
    "        \n",
    "        self._save_submission(test_pred_probs, np.mean(scores))\n",
    "        \n",
    "        return oof_pred_probs, scores\n",
    "    \n",
    "    def _save_submission(self, test_pred_probs, score):\n",
    "        name = self.model.__class__.__name__.lower().replace('classifier', '')\n",
    "        sub = pd.read_csv('/kaggle/input/playground-series-s4e7/sample_submission.csv')\n",
    "        sub['id'] = sub['id']\n",
    "        sub[TARGET] = test_pred_probs[:, 1]\n",
    "        # Referencee https://www.kaggle.com/code/paddykb/a-glitch-in-the-insurance-matrix\n",
    "        INPUT_DIR = Path('/kaggle/input/playground-series-s4e7')\n",
    "        train_data = pd.read_csv(INPUT_DIR / 'train.csv')\n",
    "        test_data = pd.read_csv(INPUT_DIR / 'test.csv')\n",
    "        orig_data = pd.read_csv('/kaggle/input/health-insurance-cross-sell-prediction/train.csv')\n",
    "        features = sorted(set(test_data.columns) - set(['id']))\n",
    "        train_data.merge(orig_data, on=features).filter(['Response_x', 'Response_y']).value_counts().reset_index()\n",
    "        override_sub = test_data.merge(orig_data.drop(columns=['id']), on=features).assign(override=lambda x: np.where(x['Response'] == 0, 1, 0)).filter(['id', 'override']).groupby(['id'], as_index=False).agg(override=('override', 'mean'))\n",
    "        sub.merge(override_sub, how='outer').assign(Response=lambda x: np.where(x['override'].isna(), x['Response'], x['override'])).filter(['id', 'Response']).to_csv(f'sub_{name}_{score:.5f}.csv', index=False)"
   ]
  },
  {
   "cell_type": "code",
   "execution_count": 12,
   "id": "34a091cc",
   "metadata": {
    "execution": {
     "iopub.execute_input": "2024-07-22T07:33:58.141598Z",
     "iopub.status.busy": "2024-07-22T07:33:58.141029Z",
     "iopub.status.idle": "2024-07-22T07:37:27.023537Z",
     "shell.execute_reply": "2024-07-22T07:37:27.021793Z"
    },
    "papermill": {
     "duration": 208.89542,
     "end_time": "2024-07-22T07:37:27.029394",
     "exception": false,
     "start_time": "2024-07-22T07:33:58.133974",
     "status": "completed"
    },
    "tags": []
   },
   "outputs": [
    {
     "name": "stdout",
     "output_type": "stream",
     "text": [
      "Training StackingClassifier\n",
      "--- Fold 1 - AUC: 0.89517\n",
      "--- Fold 2 - AUC: 0.89507\n",
      "--- Fold 3 - AUC: 0.89517\n",
      "--- Fold 4 - AUC: 0.89526\n",
      "--- Fold 5 - AUC: 0.89541\n",
      "------ Average AUC: 0.89521 ± 0.00011\n"
     ]
    }
   ],
   "source": [
    "# Reference: https://www.kaggle.com/competitions/playground-series-s4e6/discussion/509353#2851035\n",
    "class PassThroughClassifier(BaseEstimator, ClassifierMixin):\n",
    "    def __init__(self, idx_cols):\n",
    "        self.idx_cols = idx_cols\n",
    "        self.is_fitted_ = True\n",
    "\n",
    "    def fit(self, X, y=None):\n",
    "        return self\n",
    "\n",
    "    def predict_proba(self, X):\n",
    "        return check_array(X)[:, self.idx_cols]\n",
    "\n",
    "\n",
    "X_train = np.log(pd.DataFrame(np.hstack(list(oof_pred_probs.values()))) + 1e-7)\n",
    "X_test = np.log(pd.DataFrame(np.hstack(list(test_pred_probs.values()))) + 1e-7)\n",
    "\n",
    "estimators = [\n",
    "    ('XGB', PassThroughClassifier(list(range(2)))),\n",
    "    ('LGBM', PassThroughClassifier(list(range(2, 4)))),\n",
    "    ('CatBoost', PassThroughClassifier(list(range(4, 6)))),\n",
    "    ('ANN', PassThroughClassifier(list(range(6, 8)))),\n",
    "]\n",
    "\n",
    "stacking_model = StackingClassifier(estimators, cv='prefit', n_jobs=-1)\n",
    "stacking_trainer = Trainer(stacking_model)\n",
    "stacking_oof_pred_probs, stacking_scores = stacking_trainer.fit_predict(X_train, y, X_test)"
   ]
  },
  {
   "cell_type": "code",
   "execution_count": 13,
   "id": "a8da1cfa",
   "metadata": {
    "execution": {
     "iopub.execute_input": "2024-07-22T07:37:27.047815Z",
     "iopub.status.busy": "2024-07-22T07:37:27.047396Z",
     "iopub.status.idle": "2024-07-22T07:37:37.872204Z",
     "shell.execute_reply": "2024-07-22T07:37:37.870959Z"
    },
    "papermill": {
     "duration": 10.837827,
     "end_time": "2024-07-22T07:37:37.876707",
     "exception": false,
     "start_time": "2024-07-22T07:37:27.038880",
     "status": "completed"
    },
    "tags": []
   },
   "outputs": [
    {
     "data": {
      "image/png": "[encoded data removed]",
      "text/plain": [
       "<Figure size 1400x700 with 2 Axes>"
      ]
     },
     "metadata": {},
     "output_type": "display_data"
    }
   ],
   "source": [
    "fig, axes = plt.subplots(nrows=1, ncols=2, figsize=(14, 7))\n",
    "\n",
    "fpr, tpr, _ = roc_curve(y, stacking_oof_pred_probs[:, 1])\n",
    "axes[0].plot(fpr, tpr, label=f'AUC: {np.mean(stacking_scores):.5f}', color='#651FFF')\n",
    "axes[0].plot([0, 1], [0, 1], color='black', linestyle='--')\n",
    "axes[0].set_xlabel('False Positive Rate')\n",
    "axes[0].set_ylabel('True Positive Rate')\n",
    "axes[0].legend()\n",
    "axes[0].grid(True)\n",
    "axes[0].set_aspect('equal', adjustable='box')\n",
    "\n",
    "y_pred = stacking_oof_pred_probs.argmax(axis=1)\n",
    "cm = confusion_matrix(y, y_pred)\n",
    "sns.heatmap(\n",
    "    cm, \n",
    "    annot=True, \n",
    "    fmt=',', \n",
    "    ax=axes[1], \n",
    "    cbar=False,\n",
    "    cmap=sns.light_palette('#651FFF', reverse=False, as_cmap=True), \n",
    ")\n",
    "axes[1].set_xlabel('Predicted')\n",
    "axes[1].set_ylabel('Actual')\n",
    "axes[1].set_aspect('equal', adjustable='box')\n",
    "\n",
    "plt.tight_layout()\n",
    "plt.show()"
   ]
  }
 ],
 "metadata": {
  "kaggle": {
   "accelerator": "none",
   "dataSources": [
    {
     "databundleVersionId": 8930475,
     "sourceId": 73291,
     "sourceType": "competition"
    },
    {
     "datasetId": 4268036,
     "sourceId": 7349720,
     "sourceType": "datasetVersion"
    },
    {
     "datasetId": 869050,
     "sourceId": 1480773,
     "sourceType": "datasetVersion"
    },
    {
     "sourceId": 188894445,
     "sourceType": "kernelVersion"
    },
    {
     "sourceId": 188894906,
     "sourceType": "kernelVersion"
    },
    {
     "sourceId": 188958386,
     "sourceType": "kernelVersion"
    },
    {
     "sourceId": 189007429,
     "sourceType": "kernelVersion"
    }
   ],
   "dockerImageVersionId": 30746,
   "isGpuEnabled": false,
   "isInternetEnabled": true,
   "language": "python",
   "sourceType": "notebook"
  },
  "kernelspec": {
   "display_name": "Python 3",
   "language": "python",
   "name": "python3"
  },
  "language_info": {
   "codemirror_mode": {
    "name": "ipython",
    "version": 3
   },
   "file_extension": ".py",
   "mimetype": "text/x-python",
   "name": "python",
   "nbconvert_exporter": "python",
   "pygments_lexer": "ipython3",
   "version": "3.10.13"
  },
  "papermill": {
   "default_parameters": {},
   "duration": 292.826733,
   "end_time": "2024-07-22T07:37:39.110257",
   "environment_variables": {},
   "exception": null,
   "input_path": "__notebook__.ipynb",
   "output_path": "__notebook__.ipynb",
   "parameters": {},
   "start_time": "2024-07-22T07:32:46.283524",
   "version": "2.5.0"
  }
 },
 "nbformat": 4,
 "nbformat_minor": 5
}
