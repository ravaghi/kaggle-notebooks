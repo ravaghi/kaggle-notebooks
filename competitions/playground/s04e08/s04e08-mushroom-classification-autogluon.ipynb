{
 "cells": [
  {
   "cell_type": "code",
   "execution_count": 1,
   "id": "fa32e687",
   "metadata": {
    "_cell_guid": "b1076dfc-b9ad-4769-8c92-a6c4dae69d19",
    "_kg_hide-output": true,
    "_uuid": "8f2839f25d086af736a60e9eeb907d3b93b6e0e5",
    "execution": {
     "iopub.execute_input": "2024-08-08T06:50:48.417682Z",
     "iopub.status.busy": "2024-08-08T06:50:48.417247Z",
     "iopub.status.idle": "2024-08-08T06:51:36.576467Z",
     "shell.execute_reply": "2024-08-08T06:51:36.574994Z"
    },
    "papermill": {
     "duration": 48.168001,
     "end_time": "2024-08-08T06:51:36.579406",
     "exception": false,
     "start_time": "2024-08-08T06:50:48.411405",
     "status": "completed"
    },
    "tags": []
   },
   "outputs": [
    {
     "name": "stdout",
     "output_type": "stream",
     "text": [
      "\u001b[31mERROR: pip's dependency resolver does not currently take into account all the packages that are installed. This behaviour is the source of the following dependency conflicts.\r\n",
      "aiobotocore 2.13.1 requires aiohttp<4.0.0,>=3.9.2, but you have aiohttp 3.9.1 which is incompatible.\r\n",
      "aiobotocore 2.13.1 requires botocore<1.34.132,>=1.34.70, but you have botocore 1.29.165 which is incompatible.\r\n",
      "spaghetti 1.7.6 requires shapely>=2.0.1, but you have shapely 1.8.5.post1 which is incompatible.\r\n",
      "spopt 0.6.1 requires shapely>=2.0.1, but you have shapely 1.8.5.post1 which is incompatible.\u001b[0m\u001b[31m\r\n",
      "\u001b[0m"
     ]
    }
   ],
   "source": [
    "!pip install -q autogluon.tabular\n",
    "!pip install -q ray"
   ]
  },
  {
   "cell_type": "code",
   "execution_count": 2,
   "id": "b34d5630",
   "metadata": {
    "execution": {
     "iopub.execute_input": "2024-08-08T06:51:36.590461Z",
     "iopub.status.busy": "2024-08-08T06:51:36.589495Z",
     "iopub.status.idle": "2024-08-08T06:51:40.439149Z",
     "shell.execute_reply": "2024-08-08T06:51:40.437651Z"
    },
    "papermill": {
     "duration": 3.858564,
     "end_time": "2024-08-08T06:51:40.442512",
     "exception": false,
     "start_time": "2024-08-08T06:51:36.583948",
     "status": "completed"
    },
    "tags": []
   },
   "outputs": [],
   "source": [
    "from autogluon.tabular import TabularDataset, TabularPredictor\n",
    "import pandas as pd\n",
    "import numpy as np\n",
    "import warnings\n",
    "import shutil\n",
    "\n",
    "warnings.filterwarnings('ignore')"
   ]
  },
  {
   "cell_type": "code",
   "execution_count": 3,
   "id": "a944f599",
   "metadata": {
    "execution": {
     "iopub.execute_input": "2024-08-08T06:51:40.453718Z",
     "iopub.status.busy": "2024-08-08T06:51:40.453095Z",
     "iopub.status.idle": "2024-08-08T06:51:40.459464Z",
     "shell.execute_reply": "2024-08-08T06:51:40.458047Z"
    },
    "papermill": {
     "duration": 0.015251,
     "end_time": "2024-08-08T06:51:40.462249",
     "exception": false,
     "start_time": "2024-08-08T06:51:40.446998",
     "status": "completed"
    },
    "tags": []
   },
   "outputs": [],
   "source": [
    "SEED = 6\n",
    "TARGET = 'class'\n",
    "TIME_LIMIT = 3600 * 9"
   ]
  },
  {
   "cell_type": "code",
   "execution_count": 4,
   "id": "dcf39a87",
   "metadata": {
    "execution": {
     "iopub.execute_input": "2024-08-08T06:51:40.473179Z",
     "iopub.status.busy": "2024-08-08T06:51:40.472711Z",
     "iopub.status.idle": "2024-08-08T06:52:00.324943Z",
     "shell.execute_reply": "2024-08-08T06:52:00.323821Z"
    },
    "papermill": {
     "duration": 19.861296,
     "end_time": "2024-08-08T06:52:00.328030",
     "exception": false,
     "start_time": "2024-08-08T06:51:40.466734",
     "status": "completed"
    },
    "tags": []
   },
   "outputs": [],
   "source": [
    "train = pd.read_csv('/kaggle/input/playground-series-s4e8/train.csv', index_col='id')\n",
    "test = pd.read_csv('/kaggle/input/playground-series-s4e8/test.csv', index_col='id')"
   ]
  },
  {
   "cell_type": "code",
   "execution_count": 5,
   "id": "8baad3f3",
   "metadata": {
    "execution": {
     "iopub.execute_input": "2024-08-08T06:52:00.338416Z",
     "iopub.status.busy": "2024-08-08T06:52:00.337987Z",
     "iopub.status.idle": "2024-08-08T06:52:00.343900Z",
     "shell.execute_reply": "2024-08-08T06:52:00.342718Z"
    },
    "papermill": {
     "duration": 0.014291,
     "end_time": "2024-08-08T06:52:00.346628",
     "exception": false,
     "start_time": "2024-08-08T06:52:00.332337",
     "status": "completed"
    },
    "tags": []
   },
   "outputs": [],
   "source": [
    "train = TabularDataset(train)\n",
    "test = TabularDataset(test)"
   ]
  },
  {
   "cell_type": "code",
   "execution_count": 6,
   "id": "d22e3408",
   "metadata": {
    "_kg_hide-output": true,
    "execution": {
     "iopub.execute_input": "2024-08-08T06:52:00.357040Z",
     "iopub.status.busy": "2024-08-08T06:52:00.356607Z",
     "iopub.status.idle": "2024-08-08T06:52:00.364921Z",
     "shell.execute_reply": "2024-08-08T06:52:00.363828Z"
    },
    "papermill": {
     "duration": 0.016758,
     "end_time": "2024-08-08T06:52:00.367681",
     "exception": false,
     "start_time": "2024-08-08T06:52:00.350923",
     "status": "completed"
    },
    "tags": []
   },
   "outputs": [
    {
     "name": "stderr",
     "output_type": "stream",
     "text": [
      "No path specified. Models will be saved in: \"AutogluonModels/ag-20240808_065200\"\n"
     ]
    }
   ],
   "source": [
    "predictor = TabularPredictor(\n",
    "    label=TARGET,\n",
    "    eval_metric='mcc',\n",
    "    problem_type='binary',\n",
    "    verbosity=2\n",
    ")"
   ]
  },
  {
   "cell_type": "code",
   "execution_count": 7,
   "id": "4fe0045a",
   "metadata": {
    "_kg_hide-output": true,
    "execution": {
     "iopub.execute_input": "2024-08-08T06:52:00.378208Z",
     "iopub.status.busy": "2024-08-08T06:52:00.377814Z",
     "iopub.status.idle": "2024-08-08T15:53:04.181340Z",
     "shell.execute_reply": "2024-08-08T15:53:04.179308Z"
    },
    "papermill": {
     "duration": 32463.813912,
     "end_time": "2024-08-08T15:53:04.186052",
     "exception": false,
     "start_time": "2024-08-08T06:52:00.372140",
     "status": "completed"
    },
    "scrolled": true,
    "tags": []
   },
   "outputs": [
    {
     "name": "stderr",
     "output_type": "stream",
     "text": [
      "Verbosity: 2 (Standard Logging)\n",
      "=================== System Info ===================\n",
      "AutoGluon Version:  1.1.1\n",
      "Python Version:     3.10.13\n",
      "Operating System:   Linux\n",
      "Platform Machine:   x86_64\n",
      "Platform Version:   #1 SMP Thu Jun 27 20:43:36 UTC 2024\n",
      "CPU Count:          4\n",
      "Memory Avail:       29.10 GB / 31.36 GB (92.8%)\n",
      "Disk Space Avail:   19.50 GB / 19.52 GB (99.9%)\n",
      "===================================================\n",
      "Presets specified: ['best_quality']\n",
      "Setting dynamic_stacking from 'auto' to True. Reason: Enable dynamic_stacking when use_bag_holdout is disabled. (use_bag_holdout=False)\n",
      "Stack configuration (auto_stack=True): num_stack_levels=1, num_bag_folds=8, num_bag_sets=1\n",
      "DyStack is enabled (dynamic_stacking=True). AutoGluon will try to determine whether the input data is affected by stacked overfitting and enable or disable stacking as a consequence.\n",
      "\tThis is used to identify the optimal `num_stack_levels` value. Copies of AutoGluon will be fit on subsets of the data. Then holdout validation data is used to detect stacked overfitting.\n",
      "\tRunning DyStack for up to 8100s of the 32400s of remaining time (25%).\n",
      "2024-08-08 06:52:01,692\tINFO util.py:124 -- Outdated packages:\n",
      "  ipywidgets==7.7.1 found, needs ipywidgets>=8\n",
      "Run `pip install -U ipywidgets`, then restart the notebook server for rich notebook output.\n",
      "\t\tContext path: \"AutogluonModels/ag-20240808_065200/ds_sub_fit/sub_fit_ho\"\n",
      "Running DyStack sub-fit ...\n",
      "Beginning AutoGluon training ... Time limit = 8099s\n",
      "AutoGluon will save models to \"AutogluonModels/ag-20240808_065200/ds_sub_fit/sub_fit_ho\"\n",
      "Train Data Rows:    2770617\n",
      "Train Data Columns: 20\n",
      "Label Column:       class\n",
      "Problem Type:       binary\n",
      "Preprocessing data ...\n",
      "Selected class <--> label mapping:  class 1 = p, class 0 = e\n",
      "\tNote: For your binary classification, AutoGluon arbitrarily selected which label-value represents positive (p) vs negative (e) class.\n",
      "\tTo explicitly set the positive_class, either rename classes to 1 and 0, or specify positive_class in Predictor init.\n",
      "Using Feature Generators to preprocess the data ...\n",
      "Fitting AutoMLPipelineFeatureGenerator...\n",
      "\tAvailable Memory:                    31298.36 MB\n",
      "\tTrain Data (Original)  Memory Usage: 2319.00 MB (7.4% of available memory)\n",
      "\tWarning: Data size prior to feature transformation consumes 7.4% of available memory. Consider increasing memory or subsampling the data to avoid instability.\n",
      "\tInferring data type of each feature based on column values. Set feature_metadata_in to manually specify special dtypes of the features.\n",
      "\tStage 1 Generators:\n",
      "\t\tFitting AsTypeFeatureGenerator...\n",
      "\tStage 2 Generators:\n",
      "\t\tFitting FillNaFeatureGenerator...\n",
      "\tStage 3 Generators:\n",
      "\t\tFitting IdentityFeatureGenerator...\n",
      "\t\tFitting CategoryFeatureGenerator...\n",
      "\t\t\tFitting CategoryMemoryMinimizeFeatureGenerator...\n",
      "\tStage 4 Generators:\n",
      "\t\tFitting DropUniqueFeatureGenerator...\n",
      "\tStage 5 Generators:\n",
      "\t\tFitting DropDuplicatesFeatureGenerator...\n",
      "\tTypes of features in original data (raw dtype, special dtypes):\n",
      "\t\t('float', [])  :  3 | ['cap-diameter', 'stem-height', 'stem-width']\n",
      "\t\t('object', []) : 17 | ['cap-shape', 'cap-surface', 'cap-color', 'does-bruise-or-bleed', 'gill-attachment', ...]\n",
      "\tTypes of features in processed data (raw dtype, special dtypes):\n",
      "\t\t('category', []) : 17 | ['cap-shape', 'cap-surface', 'cap-color', 'does-bruise-or-bleed', 'gill-attachment', ...]\n",
      "\t\t('float', [])    :  3 | ['cap-diameter', 'stem-height', 'stem-width']\n",
      "\t36.8s = Fit runtime\n",
      "\t20 features in original data used to generate 20 features in processed data.\n",
      "\tTrain Data (Processed) Memory Usage: 108.34 MB (0.3% of available memory)\n",
      "Data preprocessing and feature engineering runtime = 42.24s ...\n",
      "AutoGluon will gauge predictive performance using evaluation metric: 'mcc'\n",
      "\tTo change this, specify the eval_metric parameter of Predictor()\n",
      "Large model count detected (112 configs) ... Only displaying the first 3 models of each family. To see all, set `verbosity=3`.\n",
      "User-specified model hyperparameters to be fit:\n",
      "{\n",
      "\t'NN_TORCH': [{}, {'activation': 'elu', 'dropout_prob': 0.10077639529843717, 'hidden_size': 108, 'learning_rate': 0.002735937344002146, 'num_layers': 4, 'use_batchnorm': True, 'weight_decay': 1.356433327634438e-12, 'ag_args': {'name_suffix': '_r79', 'priority': -2}}, {'activation': 'elu', 'dropout_prob': 0.11897478034205347, 'hidden_size': 213, 'learning_rate': 0.0010474382260641949, 'num_layers': 4, 'use_batchnorm': False, 'weight_decay': 5.594471067786272e-10, 'ag_args': {'name_suffix': '_r22', 'priority': -7}}],\n",
      "\t'GBM': [{'extra_trees': True, 'ag_args': {'name_suffix': 'XT'}}, {}, 'GBMLarge'],\n",
      "\t'CAT': [{}, {'depth': 6, 'grow_policy': 'SymmetricTree', 'l2_leaf_reg': 2.1542798306067823, 'learning_rate': 0.06864209415792857, 'max_ctr_complexity': 4, 'one_hot_max_size': 10, 'ag_args': {'name_suffix': '_r177', 'priority': -1}}, {'depth': 8, 'grow_policy': 'Depthwise', 'l2_leaf_reg': 2.7997999596449104, 'learning_rate': 0.031375015734637225, 'max_ctr_complexity': 2, 'one_hot_max_size': 3, 'ag_args': {'name_suffix': '_r9', 'priority': -5}}],\n",
      "\t'XGB': [{}, {'colsample_bytree': 0.6917311125174739, 'enable_categorical': False, 'learning_rate': 0.018063876087523967, 'max_depth': 10, 'min_child_weight': 0.6028633586934382, 'ag_args': {'name_suffix': '_r33', 'priority': -8}}, {'colsample_bytree': 0.6628423832084077, 'enable_categorical': False, 'learning_rate': 0.08775715546881824, 'max_depth': 5, 'min_child_weight': 0.6294123374222513, 'ag_args': {'name_suffix': '_r89', 'priority': -16}}],\n",
      "\t'FASTAI': [{}, {'bs': 256, 'emb_drop': 0.5411770367537934, 'epochs': 43, 'layers': [800, 400], 'lr': 0.01519848858318159, 'ps': 0.23782946566604385, 'ag_args': {'name_suffix': '_r191', 'priority': -4}}, {'bs': 2048, 'emb_drop': 0.05070411322605811, 'epochs': 29, 'layers': [200, 100], 'lr': 0.08974235041576624, 'ps': 0.10393466140748028, 'ag_args': {'name_suffix': '_r102', 'priority': -11}}],\n",
      "\t'RF': [{'criterion': 'gini', 'ag_args': {'name_suffix': 'Gini', 'problem_types': ['binary', 'multiclass']}}, {'criterion': 'entropy', 'ag_args': {'name_suffix': 'Entr', 'problem_types': ['binary', 'multiclass']}}, {'criterion': 'squared_error', 'ag_args': {'name_suffix': 'MSE', 'problem_types': ['regression', 'quantile']}}],\n",
      "\t'XT': [{'criterion': 'gini', 'ag_args': {'name_suffix': 'Gini', 'problem_types': ['binary', 'multiclass']}}, {'criterion': 'entropy', 'ag_args': {'name_suffix': 'Entr', 'problem_types': ['binary', 'multiclass']}}, {'criterion': 'squared_error', 'ag_args': {'name_suffix': 'MSE', 'problem_types': ['regression', 'quantile']}}],\n",
      "\t'KNN': [{'weights': 'uniform', 'ag_args': {'name_suffix': 'Unif'}}, {'weights': 'distance', 'ag_args': {'name_suffix': 'Dist'}}],\n",
      "}\n",
      "AutoGluon will fit 2 stack levels (L1 to L2) ...\n",
      "Excluded models: ['KNN'] (Specified by `excluded_model_types`)\n",
      "Fitting 108 L1 models ...\n",
      "Fitting model: LightGBMXT_BAG_L1 ... Training model for up to 5369.62s of the 8056.42s of remaining time.\n",
      "Will use sequential fold fitting strategy because import of ray failed. Reason: ray==2.9.0 detected. 2.10.0 <= ray < 2.11.0 is required. You can use pip to install certain version of ray `pip install ray==2.10.0` \n",
      "\tFitting 8 child models (S1F1 - S1F8) | Fitting with SequentialLocalFoldFittingStrategy\n"
     ]
    },
    {
     "name": "stdout",
     "output_type": "stream",
     "text": [
      "[1000]\tvalid_set's binary_logloss: 0.0366162\n",
      "[2000]\tvalid_set's binary_logloss: 0.0360655\n"
     ]
    },
    {
     "name": "stderr",
     "output_type": "stream",
     "text": [
      "\tRan out of time, early stopping on iteration 2358. Best iteration is:\n",
      "\t[2358]\tvalid_set's binary_logloss: 0.0360028\n"
     ]
    },
    {
     "name": "stdout",
     "output_type": "stream",
     "text": [
      "[1000]\tvalid_set's binary_logloss: 0.0360139\n",
      "[2000]\tvalid_set's binary_logloss: 0.0355234\n"
     ]
    },
    {
     "name": "stderr",
     "output_type": "stream",
     "text": [
      "\tRan out of time, early stopping on iteration 2411. Best iteration is:\n",
      "\t[2391]\tvalid_set's binary_logloss: 0.0354454\n"
     ]
    },
    {
     "name": "stdout",
     "output_type": "stream",
     "text": [
      "[1000]\tvalid_set's binary_logloss: 0.0363294\n",
      "[2000]\tvalid_set's binary_logloss: 0.0358433\n"
     ]
    },
    {
     "name": "stderr",
     "output_type": "stream",
     "text": [
      "\tRan out of time, early stopping on iteration 2477. Best iteration is:\n",
      "\t[2477]\tvalid_set's binary_logloss: 0.0357791\n"
     ]
    },
    {
     "name": "stdout",
     "output_type": "stream",
     "text": [
      "[1000]\tvalid_set's binary_logloss: 0.0363993\n",
      "[2000]\tvalid_set's binary_logloss: 0.0359975\n"
     ]
    },
    {
     "name": "stderr",
     "output_type": "stream",
     "text": [
      "\tRan out of time, early stopping on iteration 2567. Best iteration is:\n",
      "\t[2546]\tvalid_set's binary_logloss: 0.0359188\n"
     ]
    },
    {
     "name": "stdout",
     "output_type": "stream",
     "text": [
      "[1000]\tvalid_set's binary_logloss: 0.0369754\n",
      "[2000]\tvalid_set's binary_logloss: 0.0365013\n"
     ]
    },
    {
     "name": "stderr",
     "output_type": "stream",
     "text": [
      "\tRan out of time, early stopping on iteration 2638. Best iteration is:\n",
      "\t[2615]\tvalid_set's binary_logloss: 0.0364109\n"
     ]
    },
    {
     "name": "stdout",
     "output_type": "stream",
     "text": [
      "[1000]\tvalid_set's binary_logloss: 0.0361301\n",
      "[2000]\tvalid_set's binary_logloss: 0.0356812\n"
     ]
    },
    {
     "name": "stderr",
     "output_type": "stream",
     "text": [
      "\tRan out of time, early stopping on iteration 2782. Best iteration is:\n",
      "\t[2773]\tvalid_set's binary_logloss: 0.0355911\n"
     ]
    },
    {
     "name": "stdout",
     "output_type": "stream",
     "text": [
      "[1000]\tvalid_set's binary_logloss: 0.0372817\n",
      "[2000]\tvalid_set's binary_logloss: 0.0368482\n"
     ]
    },
    {
     "name": "stderr",
     "output_type": "stream",
     "text": [
      "\tRan out of time, early stopping on iteration 2979. Best iteration is:\n",
      "\t[2973]\tvalid_set's binary_logloss: 0.036737\n"
     ]
    },
    {
     "name": "stdout",
     "output_type": "stream",
     "text": [
      "[1000]\tvalid_set's binary_logloss: 0.0365551\n",
      "[2000]\tvalid_set's binary_logloss: 0.0361508\n",
      "[3000]\tvalid_set's binary_logloss: 0.0360726\n"
     ]
    },
    {
     "name": "stderr",
     "output_type": "stream",
     "text": [
      "\tRan out of time, early stopping on iteration 3370. Best iteration is:\n",
      "\t[2839]\tvalid_set's binary_logloss: 0.0360591\n",
      "\t0.9847\t = Validation score   (mcc)\n",
      "\t4803.06s\t = Training   runtime\n",
      "\t439.35s\t = Validation runtime\n",
      "Fitting model: LightGBM_BAG_L1 ... Training model for up to 116.66s of the 2803.46s of remaining time.\n",
      "\tFitting 8 child models (S1F1 - S1F8) | Fitting with SequentialLocalFoldFittingStrategy\n",
      "\tRan out of time, early stopping on iteration 20. Best iteration is:\n",
      "\t[20]\tvalid_set's binary_logloss: 0.319466\n",
      "\tRan out of time, early stopping on iteration 21. Best iteration is:\n",
      "\t[21]\tvalid_set's binary_logloss: 0.308679\n",
      "\tRan out of time, early stopping on iteration 22. Best iteration is:\n",
      "\t[22]\tvalid_set's binary_logloss: 0.300882\n",
      "\tRan out of time, early stopping on iteration 23. Best iteration is:\n",
      "\t[23]\tvalid_set's binary_logloss: 0.291813\n",
      "\tRan out of time, early stopping on iteration 24. Best iteration is:\n",
      "\t[24]\tvalid_set's binary_logloss: 0.281591\n",
      "\tRan out of time, early stopping on iteration 25. Best iteration is:\n",
      "\t[25]\tvalid_set's binary_logloss: 0.272828\n",
      "\tRan out of time, early stopping on iteration 27. Best iteration is:\n",
      "\t[27]\tvalid_set's binary_logloss: 0.259858\n",
      "\tRan out of time, early stopping on iteration 31. Best iteration is:\n",
      "\t[31]\tvalid_set's binary_logloss: 0.231133\n",
      "\t0.9374\t = Validation score   (mcc)\n",
      "\t107.72s\t = Training   runtime\n",
      "\t3.92s\t = Validation runtime\n",
      "Fitting model: RandomForestGini_BAG_L1 ... Training model for up to 0.74s of the 2687.54s of remaining time.\n",
      "\tWarning: Model is expected to require 1155.7s to train, which exceeds the maximum time limit of 0.7s, skipping model...\n",
      "\tTime limit exceeded... Skipping RandomForestGini_BAG_L1.\n",
      "Fitting model: WeightedEnsemble_L2 ... Training model for up to 536.96s of the 2670.81s of remaining time.\n",
      "\tEnsemble Weights: {'LightGBMXT_BAG_L1': 1.0}\n",
      "\t0.9847\t = Validation score   (mcc)\n",
      "\t23.51s\t = Training   runtime\n",
      "\t1.34s\t = Validation runtime\n",
      "Excluded models: ['KNN'] (Specified by `excluded_model_types`)\n",
      "Fitting 108 L2 models ...\n",
      "Fitting model: LightGBMXT_BAG_L2 ... Training model for up to 2645.79s of the 2645.66s of remaining time.\n",
      "\tFitting 8 child models (S1F1 - S1F8) | Fitting with SequentialLocalFoldFittingStrategy\n",
      "\tRan out of time, early stopping on iteration 969. Best iteration is:\n",
      "\t[969]\tvalid_set's binary_logloss: 0.0369497\n",
      "\tRan out of time, early stopping on iteration 976. Best iteration is:\n",
      "\t[975]\tvalid_set's binary_logloss: 0.0364615\n"
     ]
    },
    {
     "name": "stdout",
     "output_type": "stream",
     "text": [
      "[1000]\tvalid_set's binary_logloss: 0.0361529\n"
     ]
    },
    {
     "name": "stderr",
     "output_type": "stream",
     "text": [
      "\tRan out of time, early stopping on iteration 1031. Best iteration is:\n",
      "\t[1031]\tvalid_set's binary_logloss: 0.036139\n"
     ]
    },
    {
     "name": "stdout",
     "output_type": "stream",
     "text": [
      "[1000]\tvalid_set's binary_logloss: 0.0371267\n"
     ]
    },
    {
     "name": "stderr",
     "output_type": "stream",
     "text": [
      "\tRan out of time, early stopping on iteration 1043. Best iteration is:\n",
      "\t[1043]\tvalid_set's binary_logloss: 0.0371071\n"
     ]
    },
    {
     "name": "stdout",
     "output_type": "stream",
     "text": [
      "[1000]\tvalid_set's binary_logloss: 0.0363534\n"
     ]
    },
    {
     "name": "stderr",
     "output_type": "stream",
     "text": [
      "\tRan out of time, early stopping on iteration 1072. Best iteration is:\n",
      "\t[1071]\tvalid_set's binary_logloss: 0.0363284\n"
     ]
    },
    {
     "name": "stdout",
     "output_type": "stream",
     "text": [
      "[1000]\tvalid_set's binary_logloss: 0.0359484\n"
     ]
    },
    {
     "name": "stderr",
     "output_type": "stream",
     "text": [
      "\tRan out of time, early stopping on iteration 1151. Best iteration is:\n",
      "\t[1151]\tvalid_set's binary_logloss: 0.0358981\n"
     ]
    },
    {
     "name": "stdout",
     "output_type": "stream",
     "text": [
      "[1000]\tvalid_set's binary_logloss: 0.0365635\n"
     ]
    },
    {
     "name": "stderr",
     "output_type": "stream",
     "text": [
      "\tRan out of time, early stopping on iteration 1231. Best iteration is:\n",
      "\t[1231]\tvalid_set's binary_logloss: 0.0364746\n"
     ]
    },
    {
     "name": "stdout",
     "output_type": "stream",
     "text": [
      "[1000]\tvalid_set's binary_logloss: 0.0352104\n"
     ]
    },
    {
     "name": "stderr",
     "output_type": "stream",
     "text": [
      "\tRan out of time, early stopping on iteration 1460. Best iteration is:\n",
      "\t[1455]\tvalid_set's binary_logloss: 0.0350055\n",
      "\t0.9846\t = Validation score   (mcc)\n",
      "\t2396.32s\t = Training   runtime\n",
      "\t183.76s\t = Validation runtime\n",
      "Fitting model: LightGBM_BAG_L2 ... Training model for up to 60.14s of the 60.01s of remaining time.\n",
      "\tFitting 8 child models (S1F1 - S1F8) | Fitting with SequentialLocalFoldFittingStrategy\n",
      "\tRan out of time, early stopping on iteration 4. Best iteration is:\n",
      "\t[4]\tvalid_set's binary_logloss: 0.524334\n",
      "\tTime limit exceeded... Skipping LightGBM_BAG_L2.\n",
      "Fitting model: RandomForestGini_BAG_L2 ... Training model for up to 51.36s of the 51.23s of remaining time.\n",
      "\tWarning: Model is expected to require 1374.9s to train, which exceeds the maximum time limit of 51.4s, skipping model...\n",
      "\tTime limit exceeded... Skipping RandomForestGini_BAG_L2.\n",
      "Fitting model: RandomForestEntr_BAG_L2 ... Training model for up to 31.42s of the 31.29s of remaining time.\n",
      "\tWarning: Model is expected to require 1467.5s to train, which exceeds the maximum time limit of 31.4s, skipping model...\n",
      "\tTime limit exceeded... Skipping RandomForestEntr_BAG_L2.\n",
      "Fitting model: CatBoost_BAG_L2 ... Training model for up to 10.26s of the 10.13s of remaining time.\n",
      "\tFitting 8 child models (S1F1 - S1F8) | Fitting with SequentialLocalFoldFittingStrategy\n",
      "\tTime limit exceeded... Skipping CatBoost_BAG_L2.\n",
      "Fitting model: WeightedEnsemble_L3 ... Training model for up to 360.0s of the 4.98s of remaining time.\n",
      "\tEnsemble Weights: {'LightGBMXT_BAG_L1': 0.765, 'LightGBMXT_BAG_L2': 0.235}\n",
      "\t0.9847\t = Validation score   (mcc)\n",
      "\t35.46s\t = Training   runtime\n",
      "\t1.36s\t = Validation runtime\n",
      "AutoGluon training complete, total runtime = 8130.98s ... Best model: WeightedEnsemble_L3 | Estimated inference throughput: 552.2 rows/s (346328 batch size)\n",
      "TabularPredictor saved. To load, use: predictor = TabularPredictor.load(\"AutogluonModels/ag-20240808_065200/ds_sub_fit/sub_fit_ho\")\n",
      "Deleting DyStack predictor artifacts (clean_up_fits=True) ...\n",
      "Leaderboard on holdout data (DyStack):\n",
      "                 model  score_holdout  score_val eval_metric  pred_time_test  pred_time_val     fit_time  pred_time_test_marginal  pred_time_val_marginal  fit_time_marginal  stack_level  can_infer  fit_order\n",
      "0  WeightedEnsemble_L3       0.985049   0.984673         mcc      640.779770     628.397910  7342.561009                 0.006904                1.364794          35.457319            3       True          5\n",
      "1    LightGBMXT_BAG_L1       0.984990   0.984656         mcc      448.889639     439.354866  4803.058394               448.889639              439.354866        4803.058394            1       True          1\n",
      "2  WeightedEnsemble_L2       0.984990   0.984656         mcc      448.895119     440.698643  4826.564059                 0.005481                1.343777          23.505665            2       True          3\n",
      "3    LightGBMXT_BAG_L2       0.984862   0.984605         mcc      640.772866     627.033116  7307.103690               187.880262              183.760564        2396.322356            2       True          4\n",
      "4      LightGBM_BAG_L1       0.942379   0.937379         mcc        4.002965       3.917686   107.722940                 4.002965                3.917686         107.722940            1       True          2\n",
      "\t1\t = Optimal   num_stack_levels (Stacked Overfitting Occurred: False)\n",
      "\t8791s\t = DyStack   runtime |\t23609s\t = Remaining runtime\n",
      "Starting main fit with num_stack_levels=1.\n",
      "\tFor future fit calls on this dataset, you can skip DyStack to save time: `predictor.fit(..., dynamic_stacking=False, num_stack_levels=1)`\n",
      "Beginning AutoGluon training ... Time limit = 23609s\n",
      "AutoGluon will save models to \"AutogluonModels/ag-20240808_065200\"\n",
      "Train Data Rows:    3116945\n",
      "Train Data Columns: 20\n",
      "Label Column:       class\n",
      "Problem Type:       binary\n",
      "Preprocessing data ...\n",
      "Selected class <--> label mapping:  class 1 = p, class 0 = e\n",
      "\tNote: For your binary classification, AutoGluon arbitrarily selected which label-value represents positive (p) vs negative (e) class.\n",
      "\tTo explicitly set the positive_class, either rename classes to 1 and 0, or specify positive_class in Predictor init.\n",
      "Using Feature Generators to preprocess the data ...\n",
      "Fitting AutoMLPipelineFeatureGenerator...\n",
      "\tAvailable Memory:                    30787.25 MB\n",
      "\tTrain Data (Original)  Memory Usage: 2608.77 MB (8.5% of available memory)\n",
      "\tWarning: Data size prior to feature transformation consumes 8.5% of available memory. Consider increasing memory or subsampling the data to avoid instability.\n",
      "\tInferring data type of each feature based on column values. Set feature_metadata_in to manually specify special dtypes of the features.\n",
      "\tStage 1 Generators:\n",
      "\t\tFitting AsTypeFeatureGenerator...\n",
      "\tStage 2 Generators:\n",
      "\t\tFitting FillNaFeatureGenerator...\n",
      "\tStage 3 Generators:\n",
      "\t\tFitting IdentityFeatureGenerator...\n",
      "\t\tFitting CategoryFeatureGenerator...\n",
      "\t\t\tFitting CategoryMemoryMinimizeFeatureGenerator...\n",
      "\tStage 4 Generators:\n",
      "\t\tFitting DropUniqueFeatureGenerator...\n",
      "\tStage 5 Generators:\n",
      "\t\tFitting DropDuplicatesFeatureGenerator...\n",
      "\tTypes of features in original data (raw dtype, special dtypes):\n",
      "\t\t('float', [])  :  3 | ['cap-diameter', 'stem-height', 'stem-width']\n",
      "\t\t('object', []) : 17 | ['cap-shape', 'cap-surface', 'cap-color', 'does-bruise-or-bleed', 'gill-attachment', ...]\n",
      "\tTypes of features in processed data (raw dtype, special dtypes):\n",
      "\t\t('category', []) : 17 | ['cap-shape', 'cap-surface', 'cap-color', 'does-bruise-or-bleed', 'gill-attachment', ...]\n",
      "\t\t('float', [])    :  3 | ['cap-diameter', 'stem-height', 'stem-width']\n",
      "\t41.3s = Fit runtime\n",
      "\t20 features in original data used to generate 20 features in processed data.\n",
      "\tTrain Data (Processed) Memory Usage: 121.88 MB (0.4% of available memory)\n",
      "Data preprocessing and feature engineering runtime = 46.28s ...\n",
      "AutoGluon will gauge predictive performance using evaluation metric: 'mcc'\n",
      "\tTo change this, specify the eval_metric parameter of Predictor()\n",
      "Large model count detected (112 configs) ... Only displaying the first 3 models of each family. To see all, set `verbosity=3`.\n",
      "User-specified model hyperparameters to be fit:\n",
      "{\n",
      "\t'NN_TORCH': [{}, {'activation': 'elu', 'dropout_prob': 0.10077639529843717, 'hidden_size': 108, 'learning_rate': 0.002735937344002146, 'num_layers': 4, 'use_batchnorm': True, 'weight_decay': 1.356433327634438e-12, 'ag_args': {'name_suffix': '_r79', 'priority': -2}}, {'activation': 'elu', 'dropout_prob': 0.11897478034205347, 'hidden_size': 213, 'learning_rate': 0.0010474382260641949, 'num_layers': 4, 'use_batchnorm': False, 'weight_decay': 5.594471067786272e-10, 'ag_args': {'name_suffix': '_r22', 'priority': -7}}],\n",
      "\t'GBM': [{'extra_trees': True, 'ag_args': {'name_suffix': 'XT'}}, {}, 'GBMLarge'],\n",
      "\t'CAT': [{}, {'depth': 6, 'grow_policy': 'SymmetricTree', 'l2_leaf_reg': 2.1542798306067823, 'learning_rate': 0.06864209415792857, 'max_ctr_complexity': 4, 'one_hot_max_size': 10, 'ag_args': {'name_suffix': '_r177', 'priority': -1}}, {'depth': 8, 'grow_policy': 'Depthwise', 'l2_leaf_reg': 2.7997999596449104, 'learning_rate': 0.031375015734637225, 'max_ctr_complexity': 2, 'one_hot_max_size': 3, 'ag_args': {'name_suffix': '_r9', 'priority': -5}}],\n",
      "\t'XGB': [{}, {'colsample_bytree': 0.6917311125174739, 'enable_categorical': False, 'learning_rate': 0.018063876087523967, 'max_depth': 10, 'min_child_weight': 0.6028633586934382, 'ag_args': {'name_suffix': '_r33', 'priority': -8}}, {'colsample_bytree': 0.6628423832084077, 'enable_categorical': False, 'learning_rate': 0.08775715546881824, 'max_depth': 5, 'min_child_weight': 0.6294123374222513, 'ag_args': {'name_suffix': '_r89', 'priority': -16}}],\n",
      "\t'FASTAI': [{}, {'bs': 256, 'emb_drop': 0.5411770367537934, 'epochs': 43, 'layers': [800, 400], 'lr': 0.01519848858318159, 'ps': 0.23782946566604385, 'ag_args': {'name_suffix': '_r191', 'priority': -4}}, {'bs': 2048, 'emb_drop': 0.05070411322605811, 'epochs': 29, 'layers': [200, 100], 'lr': 0.08974235041576624, 'ps': 0.10393466140748028, 'ag_args': {'name_suffix': '_r102', 'priority': -11}}],\n",
      "\t'RF': [{'criterion': 'gini', 'ag_args': {'name_suffix': 'Gini', 'problem_types': ['binary', 'multiclass']}}, {'criterion': 'entropy', 'ag_args': {'name_suffix': 'Entr', 'problem_types': ['binary', 'multiclass']}}, {'criterion': 'squared_error', 'ag_args': {'name_suffix': 'MSE', 'problem_types': ['regression', 'quantile']}}],\n",
      "\t'XT': [{'criterion': 'gini', 'ag_args': {'name_suffix': 'Gini', 'problem_types': ['binary', 'multiclass']}}, {'criterion': 'entropy', 'ag_args': {'name_suffix': 'Entr', 'problem_types': ['binary', 'multiclass']}}, {'criterion': 'squared_error', 'ag_args': {'name_suffix': 'MSE', 'problem_types': ['regression', 'quantile']}}],\n",
      "\t'KNN': [{'weights': 'uniform', 'ag_args': {'name_suffix': 'Unif'}}, {'weights': 'distance', 'ag_args': {'name_suffix': 'Dist'}}],\n",
      "}\n",
      "AutoGluon will fit 2 stack levels (L1 to L2) ...\n",
      "Excluded models: ['KNN'] (Specified by `excluded_model_types`)\n",
      "Fitting 108 L1 models ...\n",
      "Fitting model: LightGBMXT_BAG_L1 ... Training model for up to 15704.71s of the 23562.94s of remaining time.\n",
      "\tFitting 8 child models (S1F1 - S1F8) | Fitting with SequentialLocalFoldFittingStrategy\n"
     ]
    },
    {
     "name": "stdout",
     "output_type": "stream",
     "text": [
      "[1000]\tvalid_set's binary_logloss: 0.0360698\n",
      "[2000]\tvalid_set's binary_logloss: 0.0355838\n",
      "[3000]\tvalid_set's binary_logloss: 0.035447\n",
      "[4000]\tvalid_set's binary_logloss: 0.035419\n",
      "[1000]\tvalid_set's binary_logloss: 0.0367247\n",
      "[2000]\tvalid_set's binary_logloss: 0.0363098\n",
      "[3000]\tvalid_set's binary_logloss: 0.0362254\n",
      "[4000]\tvalid_set's binary_logloss: 0.0362128\n",
      "[5000]\tvalid_set's binary_logloss: 0.0362254\n",
      "[1000]\tvalid_set's binary_logloss: 0.0363934\n",
      "[2000]\tvalid_set's binary_logloss: 0.0358496\n",
      "[3000]\tvalid_set's binary_logloss: 0.0356836\n",
      "[4000]\tvalid_set's binary_logloss: 0.0356166\n",
      "[5000]\tvalid_set's binary_logloss: 0.0356154\n",
      "[1000]\tvalid_set's binary_logloss: 0.0364232\n",
      "[2000]\tvalid_set's binary_logloss: 0.0360088\n",
      "[3000]\tvalid_set's binary_logloss: 0.0359132\n",
      "[4000]\tvalid_set's binary_logloss: 0.0358852\n",
      "[5000]\tvalid_set's binary_logloss: 0.0359055\n",
      "[1000]\tvalid_set's binary_logloss: 0.0367416\n",
      "[2000]\tvalid_set's binary_logloss: 0.0362757\n",
      "[3000]\tvalid_set's binary_logloss: 0.0361487\n",
      "[4000]\tvalid_set's binary_logloss: 0.0361172\n",
      "[5000]\tvalid_set's binary_logloss: 0.036149\n",
      "[1000]\tvalid_set's binary_logloss: 0.0367548\n",
      "[2000]\tvalid_set's binary_logloss: 0.0363139\n",
      "[3000]\tvalid_set's binary_logloss: 0.0361864\n",
      "[4000]\tvalid_set's binary_logloss: 0.0361518\n",
      "[5000]\tvalid_set's binary_logloss: 0.0361824\n",
      "[1000]\tvalid_set's binary_logloss: 0.0361277\n",
      "[2000]\tvalid_set's binary_logloss: 0.0357108\n",
      "[3000]\tvalid_set's binary_logloss: 0.03562\n",
      "[4000]\tvalid_set's binary_logloss: 0.0356088\n",
      "[1000]\tvalid_set's binary_logloss: 0.0363929\n",
      "[2000]\tvalid_set's binary_logloss: 0.035914\n",
      "[3000]\tvalid_set's binary_logloss: 0.0357665\n",
      "[4000]\tvalid_set's binary_logloss: 0.0357291\n",
      "[5000]\tvalid_set's binary_logloss: 0.0357331\n"
     ]
    },
    {
     "name": "stderr",
     "output_type": "stream",
     "text": [
      "\t0.9848\t = Validation score   (mcc)\n",
      "\t9839.95s\t = Training   runtime\n",
      "\t716.39s\t = Validation runtime\n",
      "Fitting model: LightGBM_BAG_L1 ... Training model for up to 5140.29s of the 12998.51s of remaining time.\n",
      "\tFitting 8 child models (S1F1 - S1F8) | Fitting with SequentialLocalFoldFittingStrategy\n"
     ]
    },
    {
     "name": "stdout",
     "output_type": "stream",
     "text": [
      "[1000]\tvalid_set's binary_logloss: 0.0364254\n",
      "[2000]\tvalid_set's binary_logloss: 0.0361146\n"
     ]
    },
    {
     "name": "stderr",
     "output_type": "stream",
     "text": [
      "\tRan out of time, early stopping on iteration 2206. Best iteration is:\n",
      "\t[2174]\tvalid_set's binary_logloss: 0.0361062\n"
     ]
    },
    {
     "name": "stdout",
     "output_type": "stream",
     "text": [
      "[1000]\tvalid_set's binary_logloss: 0.0372214\n",
      "[2000]\tvalid_set's binary_logloss: 0.0368754\n"
     ]
    },
    {
     "name": "stderr",
     "output_type": "stream",
     "text": [
      "\tRan out of time, early stopping on iteration 2266. Best iteration is:\n",
      "\t[2007]\tvalid_set's binary_logloss: 0.0368743\n"
     ]
    },
    {
     "name": "stdout",
     "output_type": "stream",
     "text": [
      "[1000]\tvalid_set's binary_logloss: 0.0366813\n",
      "[2000]\tvalid_set's binary_logloss: 0.0363376\n"
     ]
    },
    {
     "name": "stderr",
     "output_type": "stream",
     "text": [
      "\tRan out of time, early stopping on iteration 2349. Best iteration is:\n",
      "\t[2346]\tvalid_set's binary_logloss: 0.0363296\n"
     ]
    },
    {
     "name": "stdout",
     "output_type": "stream",
     "text": [
      "[1000]\tvalid_set's binary_logloss: 0.0369934\n",
      "[2000]\tvalid_set's binary_logloss: 0.0366681\n"
     ]
    },
    {
     "name": "stderr",
     "output_type": "stream",
     "text": [
      "\tRan out of time, early stopping on iteration 2439. Best iteration is:\n",
      "\t[2273]\tvalid_set's binary_logloss: 0.0366488\n"
     ]
    },
    {
     "name": "stdout",
     "output_type": "stream",
     "text": [
      "[1000]\tvalid_set's binary_logloss: 0.0370602\n",
      "[2000]\tvalid_set's binary_logloss: 0.0368139\n"
     ]
    },
    {
     "name": "stderr",
     "output_type": "stream",
     "text": [
      "\tRan out of time, early stopping on iteration 2519. Best iteration is:\n",
      "\t[2095]\tvalid_set's binary_logloss: 0.0368087\n"
     ]
    },
    {
     "name": "stdout",
     "output_type": "stream",
     "text": [
      "[1000]\tvalid_set's binary_logloss: 0.0372269\n",
      "[2000]\tvalid_set's binary_logloss: 0.0368538\n"
     ]
    },
    {
     "name": "stderr",
     "output_type": "stream",
     "text": [
      "\tRan out of time, early stopping on iteration 2696. Best iteration is:\n",
      "\t[2398]\tvalid_set's binary_logloss: 0.0368323\n"
     ]
    },
    {
     "name": "stdout",
     "output_type": "stream",
     "text": [
      "[1000]\tvalid_set's binary_logloss: 0.0365133\n",
      "[2000]\tvalid_set's binary_logloss: 0.0362297\n",
      "[1000]\tvalid_set's binary_logloss: 0.0366959\n",
      "[2000]\tvalid_set's binary_logloss: 0.0363436\n",
      "[3000]\tvalid_set's binary_logloss: 0.0363456\n"
     ]
    },
    {
     "name": "stderr",
     "output_type": "stream",
     "text": [
      "\t0.9844\t = Validation score   (mcc)\n",
      "\t4632.67s\t = Training   runtime\n",
      "\t352.5s\t = Validation runtime\n",
      "Fitting model: RandomForestGini_BAG_L1 ... Training model for up to 148.31s of the 8006.53s of remaining time.\n",
      "\tWarning: Model is expected to require 1527.1s to train, which exceeds the maximum time limit of 148.3s, skipping model...\n",
      "\tTime limit exceeded... Skipping RandomForestGini_BAG_L1.\n",
      "Fitting model: RandomForestEntr_BAG_L1 ... Training model for up to 126.58s of the 7984.8s of remaining time.\n",
      "\tWarning: Model is expected to require 1535.9s to train, which exceeds the maximum time limit of 126.6s, skipping model...\n",
      "\tTime limit exceeded... Skipping RandomForestEntr_BAG_L1.\n",
      "Fitting model: CatBoost_BAG_L1 ... Training model for up to 104.77s of the 7963.0s of remaining time.\n",
      "\tFitting 8 child models (S1F1 - S1F8) | Fitting with SequentialLocalFoldFittingStrategy\n",
      "\tRan out of time, early stopping on iteration 1.\n",
      "\tTime limit exceeded... Skipping CatBoost_BAG_L1.\n",
      "Fitting model: ExtraTreesGini_BAG_L1 ... Training model for up to 85.07s of the 7943.29s of remaining time.\n",
      "\tWarning: Model is expected to require 854.3s to train, which exceeds the maximum time limit of 85.1s, skipping model...\n",
      "\tTime limit exceeded... Skipping ExtraTreesGini_BAG_L1.\n",
      "Fitting model: ExtraTreesEntr_BAG_L1 ... Training model for up to 72.33s of the 7930.55s of remaining time.\n",
      "\tWarning: Model is expected to require 894.7s to train, which exceeds the maximum time limit of 72.3s, skipping model...\n",
      "\tTime limit exceeded... Skipping ExtraTreesEntr_BAG_L1.\n",
      "Fitting model: NeuralNetFastAI_BAG_L1 ... Training model for up to 59.05s of the 7917.27s of remaining time.\n",
      "\tFitting 8 child models (S1F1 - S1F8) | Fitting with SequentialLocalFoldFittingStrategy\n",
      "\tTime limit exceeded... Skipping NeuralNetFastAI_BAG_L1.\n",
      "Fitting model: XGBoost_BAG_L1 ... Training model for up to 48.7s of the 7906.92s of remaining time.\n",
      "\tFitting 8 child models (S1F1 - S1F8) | Fitting with SequentialLocalFoldFittingStrategy\n",
      "\tTime limit exceeded... Skipping XGBoost_BAG_L1.\n",
      "Fitting model: WeightedEnsemble_L2 ... Training model for up to 1570.47s of the 7664.7s of remaining time.\n",
      "\tEnsemble Weights: {'LightGBMXT_BAG_L1': 0.739, 'LightGBM_BAG_L1': 0.261}\n",
      "\t0.9848\t = Validation score   (mcc)\n",
      "\t23.95s\t = Training   runtime\n",
      "\t1.54s\t = Validation runtime\n",
      "Excluded models: ['KNN'] (Specified by `excluded_model_types`)\n",
      "Fitting 108 L2 models ...\n",
      "Fitting model: LightGBMXT_BAG_L2 ... Training model for up to 7638.98s of the 7638.83s of remaining time.\n",
      "\tFitting 8 child models (S1F1 - S1F8) | Fitting with SequentialLocalFoldFittingStrategy\n"
     ]
    },
    {
     "name": "stdout",
     "output_type": "stream",
     "text": [
      "[1000]\tvalid_set's binary_logloss: 0.036021\n",
      "[2000]\tvalid_set's binary_logloss: 0.0359363\n"
     ]
    },
    {
     "name": "stderr",
     "output_type": "stream",
     "text": [
      "\tRan out of time, early stopping on iteration 2866. Best iteration is:\n",
      "\t[2371]\tvalid_set's binary_logloss: 0.0359118\n"
     ]
    },
    {
     "name": "stdout",
     "output_type": "stream",
     "text": [
      "[1000]\tvalid_set's binary_logloss: 0.0366235\n",
      "[2000]\tvalid_set's binary_logloss: 0.0364838\n"
     ]
    },
    {
     "name": "stderr",
     "output_type": "stream",
     "text": [
      "\tRan out of time, early stopping on iteration 2940. Best iteration is:\n",
      "\t[2677]\tvalid_set's binary_logloss: 0.036466\n"
     ]
    },
    {
     "name": "stdout",
     "output_type": "stream",
     "text": [
      "[1000]\tvalid_set's binary_logloss: 0.0365405\n",
      "[2000]\tvalid_set's binary_logloss: 0.0364314\n",
      "[1000]\tvalid_set's binary_logloss: 0.0356386\n",
      "[2000]\tvalid_set's binary_logloss: 0.0355329\n",
      "[1000]\tvalid_set's binary_logloss: 0.0360283\n",
      "[1000]\tvalid_set's binary_logloss: 0.0352827\n",
      "[2000]\tvalid_set's binary_logloss: 0.0352269\n",
      "[1000]\tvalid_set's binary_logloss: 0.0361398\n",
      "[2000]\tvalid_set's binary_logloss: 0.036095\n",
      "[1000]\tvalid_set's binary_logloss: 0.0358638\n"
     ]
    },
    {
     "name": "stderr",
     "output_type": "stream",
     "text": [
      "\t0.9847\t = Validation score   (mcc)\n",
      "\t5293.22s\t = Training   runtime\n",
      "\t336.5s\t = Validation runtime\n",
      "Fitting model: LightGBM_BAG_L2 ... Training model for up to 2001.8s of the 2001.63s of remaining time.\n",
      "\tFitting 8 child models (S1F1 - S1F8) | Fitting with SequentialLocalFoldFittingStrategy\n",
      "\t0.9846\t = Validation score   (mcc)\n",
      "\t637.83s\t = Training   runtime\n",
      "\t14.0s\t = Validation runtime\n",
      "Fitting model: RandomForestGini_BAG_L2 ... Training model for up to 1344.1s of the 1343.94s of remaining time.\n",
      "\tWarning: Reducing model 'n_estimators' from 300 -> 256 due to low time. Expected time usage reduced from 1574.2s -> 1344.1s...\n",
      "\tNot enough time to generate out-of-fold predictions for model. Estimated time required was 674.68s compared to 420.62s of available time.\n",
      "\tTime limit exceeded... Skipping RandomForestGini_BAG_L2.\n",
      "Fitting model: RandomForestEntr_BAG_L2 ... Training model for up to 15.91s of the 15.75s of remaining time.\n",
      "\tWarning: Model is expected to require 1905.3s to train, which exceeds the maximum time limit of 15.9s, skipping model...\n",
      "\tTime limit exceeded... Skipping RandomForestEntr_BAG_L2.\n",
      "Fitting model: WeightedEnsemble_L3 ... Training model for up to 763.9s of the -13.48s of remaining time.\n",
      "\tEnsemble Weights: {'LightGBMXT_BAG_L1': 0.7, 'LightGBM_BAG_L1': 0.2, 'LightGBMXT_BAG_L2': 0.1}\n",
      "\t0.9848\t = Validation score   (mcc)\n",
      "\t47.28s\t = Training   runtime\n",
      "\t1.51s\t = Validation runtime\n",
      "AutoGluon training complete, total runtime = 23671.99s ... Best model: WeightedEnsemble_L3 | Estimated inference throughput: 277.2 rows/s (389619 batch size)\n",
      "TabularPredictor saved. To load, use: predictor = TabularPredictor.load(\"AutogluonModels/ag-20240808_065200\")\n"
     ]
    },
    {
     "data": {
      "text/plain": [
       "<autogluon.tabular.predictor.predictor.TabularPredictor at 0x7aa305ffefb0>"
      ]
     },
     "execution_count": 7,
     "metadata": {},
     "output_type": "execute_result"
    }
   ],
   "source": [
    "predictor.fit(\n",
    "    train_data=train,\n",
    "    time_limit=TIME_LIMIT,\n",
    "    presets='best_quality',\n",
    "    save_space=True,\n",
    "    excluded_model_types=['KNN'],\n",
    "    ag_args_fit={'stopping_metric': 'log_loss'}\n",
    ")"
   ]
  },
  {
   "cell_type": "code",
   "execution_count": 8,
   "id": "83587464",
   "metadata": {
    "execution": {
     "iopub.execute_input": "2024-08-08T15:53:04.263202Z",
     "iopub.status.busy": "2024-08-08T15:53:04.262380Z",
     "iopub.status.idle": "2024-08-08T18:07:00.410839Z",
     "shell.execute_reply": "2024-08-08T18:07:00.405911Z"
    },
    "papermill": {
     "duration": 8036.202483,
     "end_time": "2024-08-08T18:07:00.425385",
     "exception": false,
     "start_time": "2024-08-08T15:53:04.222902",
     "status": "completed"
    },
    "tags": []
   },
   "outputs": [],
   "source": [
    "test_preds = predictor.predict(test)"
   ]
  },
  {
   "cell_type": "code",
   "execution_count": 9,
   "id": "40c04962",
   "metadata": {
    "execution": {
     "iopub.execute_input": "2024-08-08T18:07:00.529833Z",
     "iopub.status.busy": "2024-08-08T18:07:00.529185Z",
     "iopub.status.idle": "2024-08-08T18:07:04.061852Z",
     "shell.execute_reply": "2024-08-08T18:07:04.060088Z"
    },
    "papermill": {
     "duration": 3.586679,
     "end_time": "2024-08-08T18:07:04.070984",
     "exception": false,
     "start_time": "2024-08-08T18:07:00.484305",
     "status": "completed"
    },
    "tags": []
   },
   "outputs": [
    {
     "data": {
      "text/html": [
       "<div>\n",
       "<style scoped>\n",
       "    .dataframe tbody tr th:only-of-type {\n",
       "        vertical-align: middle;\n",
       "    }\n",
       "\n",
       "    .dataframe tbody tr th {\n",
       "        vertical-align: top;\n",
       "    }\n",
       "\n",
       "    .dataframe thead th {\n",
       "        text-align: right;\n",
       "    }\n",
       "</style>\n",
       "<table border=\"1\" class=\"dataframe\">\n",
       "  <thead>\n",
       "    <tr style=\"text-align: right;\">\n",
       "      <th></th>\n",
       "      <th>id</th>\n",
       "      <th>class</th>\n",
       "    </tr>\n",
       "  </thead>\n",
       "  <tbody>\n",
       "    <tr>\n",
       "      <th>0</th>\n",
       "      <td>3116945</td>\n",
       "      <td>e</td>\n",
       "    </tr>\n",
       "    <tr>\n",
       "      <th>1</th>\n",
       "      <td>3116946</td>\n",
       "      <td>p</td>\n",
       "    </tr>\n",
       "    <tr>\n",
       "      <th>2</th>\n",
       "      <td>3116947</td>\n",
       "      <td>p</td>\n",
       "    </tr>\n",
       "    <tr>\n",
       "      <th>3</th>\n",
       "      <td>3116948</td>\n",
       "      <td>p</td>\n",
       "    </tr>\n",
       "    <tr>\n",
       "      <th>4</th>\n",
       "      <td>3116949</td>\n",
       "      <td>e</td>\n",
       "    </tr>\n",
       "  </tbody>\n",
       "</table>\n",
       "</div>"
      ],
      "text/plain": [
       "        id class\n",
       "0  3116945     e\n",
       "1  3116946     p\n",
       "2  3116947     p\n",
       "3  3116948     p\n",
       "4  3116949     e"
      ]
     },
     "execution_count": 9,
     "metadata": {},
     "output_type": "execute_result"
    }
   ],
   "source": [
    "sub = pd.read_csv('/kaggle/input/playground-series-s4e8/sample_submission.csv')\n",
    "sub[TARGET] = test_preds.values\n",
    "sub.to_csv('submission.csv', index=False)\n",
    "sub.head()"
   ]
  },
  {
   "cell_type": "code",
   "execution_count": 10,
   "id": "0ade11be",
   "metadata": {
    "execution": {
     "iopub.execute_input": "2024-08-08T18:07:04.165373Z",
     "iopub.status.busy": "2024-08-08T18:07:04.164339Z",
     "iopub.status.idle": "2024-08-08T18:07:04.264536Z",
     "shell.execute_reply": "2024-08-08T18:07:04.263345Z"
    },
    "papermill": {
     "duration": 0.147251,
     "end_time": "2024-08-08T18:07:04.267323",
     "exception": false,
     "start_time": "2024-08-08T18:07:04.120072",
     "status": "completed"
    },
    "tags": []
   },
   "outputs": [],
   "source": [
    "shutil.rmtree(\"AutogluonModels\")"
   ]
  }
 ],
 "metadata": {
  "kaggle": {
   "accelerator": "none",
   "dataSources": [
    {
     "databundleVersionId": 9045607,
     "sourceId": 76727,
     "sourceType": "competition"
    }
   ],
   "dockerImageVersionId": 30747,
   "isGpuEnabled": false,
   "isInternetEnabled": true,
   "language": "python",
   "sourceType": "notebook"
  },
  "kernelspec": {
   "display_name": "Python 3",
   "language": "python",
   "name": "python3"
  },
  "language_info": {
   "codemirror_mode": {
    "name": "ipython",
    "version": 3
   },
   "file_extension": ".py",
   "mimetype": "text/x-python",
   "name": "python",
   "nbconvert_exporter": "python",
   "pygments_lexer": "ipython3",
   "version": "3.10.13"
  },
  "papermill": {
   "default_parameters": {},
   "duration": 40582.353919,
   "end_time": "2024-08-08T18:07:07.492162",
   "environment_variables": {},
   "exception": null,
   "input_path": "__notebook__.ipynb",
   "output_path": "__notebook__.ipynb",
   "parameters": {},
   "start_time": "2024-08-08T06:50:45.138243",
   "version": "2.5.0"
  }
 },
 "nbformat": 4,
 "nbformat_minor": 5
}
