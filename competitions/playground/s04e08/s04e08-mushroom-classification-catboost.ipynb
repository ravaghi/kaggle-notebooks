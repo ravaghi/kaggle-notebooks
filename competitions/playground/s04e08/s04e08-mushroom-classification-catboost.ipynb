{
 "cells": [
  {
   "cell_type": "markdown",
   "id": "023a213c",
   "metadata": {
    "papermill": {
     "duration": 0.003763,
     "end_time": "2024-08-11T19:39:18.789887",
     "exception": false,
     "start_time": "2024-08-11T19:39:18.786124",
     "status": "completed"
    },
    "tags": []
   },
   "source": [
    "# Imports and Configs"
   ]
  },
  {
   "cell_type": "code",
   "execution_count": 1,
   "id": "d5e09352",
   "metadata": {
    "execution": {
     "iopub.execute_input": "2024-08-11T19:39:18.798279Z",
     "iopub.status.busy": "2024-08-11T19:39:18.797869Z",
     "iopub.status.idle": "2024-08-11T19:39:32.345763Z",
     "shell.execute_reply": "2024-08-11T19:39:32.344389Z"
    },
    "papermill": {
     "duration": 13.554893,
     "end_time": "2024-08-11T19:39:32.348288",
     "exception": false,
     "start_time": "2024-08-11T19:39:18.793395",
     "status": "completed"
    },
    "tags": []
   },
   "outputs": [],
   "source": [
    "!pip install -q ucimlrepo"
   ]
  },
  {
   "cell_type": "code",
   "execution_count": 2,
   "id": "14b10580",
   "metadata": {
    "_cell_guid": "b1076dfc-b9ad-4769-8c92-a6c4dae69d19",
    "_uuid": "8f2839f25d086af736a60e9eeb907d3b93b6e0e5",
    "execution": {
     "iopub.execute_input": "2024-08-11T19:39:32.356834Z",
     "iopub.status.busy": "2024-08-11T19:39:32.356438Z",
     "iopub.status.idle": "2024-08-11T19:39:35.130832Z",
     "shell.execute_reply": "2024-08-11T19:39:35.129709Z"
    },
    "papermill": {
     "duration": 2.781761,
     "end_time": "2024-08-11T19:39:35.133428",
     "exception": false,
     "start_time": "2024-08-11T19:39:32.351667",
     "status": "completed"
    },
    "tags": []
   },
   "outputs": [],
   "source": [
    "from sklearn.model_selection import StratifiedKFold\n",
    "from sklearn.metrics import matthews_corrcoef\n",
    "from sklearn.base import clone\n",
    "from catboost import CatBoostClassifier\n",
    "import matplotlib.pyplot as plt\n",
    "from ucimlrepo import fetch_ucirepo \n",
    "import seaborn as sns\n",
    "import pandas as pd\n",
    "import numpy as np\n",
    "import warnings\n",
    "import pickle\n",
    "import gc\n",
    "\n",
    "warnings.filterwarnings('ignore')"
   ]
  },
  {
   "cell_type": "code",
   "execution_count": 3,
   "id": "9c500c5d",
   "metadata": {
    "execution": {
     "iopub.execute_input": "2024-08-11T19:39:35.142464Z",
     "iopub.status.busy": "2024-08-11T19:39:35.141927Z",
     "iopub.status.idle": "2024-08-11T19:39:35.147028Z",
     "shell.execute_reply": "2024-08-11T19:39:35.146051Z"
    },
    "papermill": {
     "duration": 0.012022,
     "end_time": "2024-08-11T19:39:35.149256",
     "exception": false,
     "start_time": "2024-08-11T19:39:35.137234",
     "status": "completed"
    },
    "tags": []
   },
   "outputs": [],
   "source": [
    "TARGET = 'class'\n",
    "N_FOLDS = 5\n",
    "SEED = 6\n",
    "ES_ROUNDS = 100\n",
    "ES_LOG_STEPS = 100\n",
    "THRESHOLD = 0.5"
   ]
  },
  {
   "cell_type": "markdown",
   "id": "bcfe8518",
   "metadata": {
    "papermill": {
     "duration": 0.003128,
     "end_time": "2024-08-11T19:39:35.155795",
     "exception": false,
     "start_time": "2024-08-11T19:39:35.152667",
     "status": "completed"
    },
    "tags": []
   },
   "source": [
    "# Loading and Processing Data"
   ]
  },
  {
   "cell_type": "code",
   "execution_count": 4,
   "id": "dce91a6c",
   "metadata": {
    "execution": {
     "iopub.execute_input": "2024-08-11T19:39:35.164155Z",
     "iopub.status.busy": "2024-08-11T19:39:35.163782Z",
     "iopub.status.idle": "2024-08-11T19:41:37.757776Z",
     "shell.execute_reply": "2024-08-11T19:41:37.756659Z"
    },
    "papermill": {
     "duration": 122.604654,
     "end_time": "2024-08-11T19:41:37.763864",
     "exception": false,
     "start_time": "2024-08-11T19:39:35.159210",
     "status": "completed"
    },
    "tags": []
   },
   "outputs": [
    {
     "data": {
      "text/plain": [
       "((3116945, 21), (2077964, 20), (61069, 21))"
      ]
     },
     "execution_count": 4,
     "metadata": {},
     "output_type": "execute_result"
    }
   ],
   "source": [
    "train = pd.read_csv('/kaggle/input/playground-series-s4e8/train.csv', index_col='id')\n",
    "test = pd.read_csv('/kaggle/input/playground-series-s4e8/test.csv', index_col='id')\n",
    "original = fetch_ucirepo(id=848)['data']['original']\n",
    "\n",
    "train.shape, test.shape, original.shape"
   ]
  },
  {
   "cell_type": "code",
   "execution_count": 5,
   "id": "c9da7d7e",
   "metadata": {
    "execution": {
     "iopub.execute_input": "2024-08-11T19:41:37.773031Z",
     "iopub.status.busy": "2024-08-11T19:41:37.772630Z",
     "iopub.status.idle": "2024-08-11T19:41:54.129772Z",
     "shell.execute_reply": "2024-08-11T19:41:54.128575Z"
    },
    "papermill": {
     "duration": 16.364754,
     "end_time": "2024-08-11T19:41:54.132341",
     "exception": false,
     "start_time": "2024-08-11T19:41:37.767587",
     "status": "completed"
    },
    "tags": []
   },
   "outputs": [],
   "source": [
    "cat_features = list(test.select_dtypes('object').columns)\n",
    "\n",
    "# Reference: https://www.kaggle.com/code/ambrosm/pss4e8-eda-which-makes-sense\n",
    "for feature in cat_features:            \n",
    "    categories = sorted(list(set(original[feature].dropna())))\n",
    "    dtype = pd.CategoricalDtype(categories=categories, ordered=False)\n",
    "    \n",
    "    train.loc[~train[feature].isin(categories), feature] = np.nan\n",
    "    test.loc[~test[feature].isin(categories), feature] = np.nan\n",
    "    \n",
    "    train[feature] = train[feature].astype(dtype)\n",
    "    test[feature] = test[feature].astype(dtype)\n",
    "    \n",
    "    train[feature] = train[feature].astype(str).fillna('NaN')\n",
    "    test[feature] = test[feature].astype(str).fillna('NaN')"
   ]
  },
  {
   "cell_type": "code",
   "execution_count": 6,
   "id": "04d8459d",
   "metadata": {
    "execution": {
     "iopub.execute_input": "2024-08-11T19:41:54.141363Z",
     "iopub.status.busy": "2024-08-11T19:41:54.140969Z",
     "iopub.status.idle": "2024-08-11T19:41:55.203254Z",
     "shell.execute_reply": "2024-08-11T19:41:55.202080Z"
    },
    "papermill": {
     "duration": 1.06974,
     "end_time": "2024-08-11T19:41:55.205998",
     "exception": false,
     "start_time": "2024-08-11T19:41:54.136258",
     "status": "completed"
    },
    "tags": []
   },
   "outputs": [],
   "source": [
    "X = train.drop([TARGET], axis=1)\n",
    "y = train[TARGET].map({'e': 0, 'p': 1})\n",
    "X_test = test"
   ]
  },
  {
   "cell_type": "code",
   "execution_count": 7,
   "id": "62e75fea",
   "metadata": {
    "execution": {
     "iopub.execute_input": "2024-08-11T19:41:55.216672Z",
     "iopub.status.busy": "2024-08-11T19:41:55.215957Z",
     "iopub.status.idle": "2024-08-11T19:41:55.225823Z",
     "shell.execute_reply": "2024-08-11T19:41:55.224669Z"
    },
    "papermill": {
     "duration": 0.017273,
     "end_time": "2024-08-11T19:41:55.228181",
     "exception": false,
     "start_time": "2024-08-11T19:41:55.210908",
     "status": "completed"
    },
    "tags": []
   },
   "outputs": [],
   "source": [
    "def reduce_mem_usage(dataframe):        \n",
    "    print('Reducing memory usage')\n",
    "    initial_mem_usage = dataframe.memory_usage().sum() / 1024**2\n",
    "    \n",
    "    for col in dataframe.columns:\n",
    "        col_type = dataframe[col].dtype\n",
    "\n",
    "        if col_type.name in ['category', 'object']:\n",
    "            continue\n",
    "\n",
    "        c_min = dataframe[col].min()\n",
    "        c_max = dataframe[col].max()\n",
    "        if c_min > np.finfo(np.float16).min and c_max < np.finfo(np.float16).max:\n",
    "            dataframe[col] = dataframe[col].astype(np.float16)\n",
    "        elif c_min > np.finfo(np.float32).min and c_max < np.finfo(np.float32).max:\n",
    "            dataframe[col] = dataframe[col].astype(np.float32)\n",
    "        else:\n",
    "            dataframe[col] = dataframe[col].astype(np.float64)\n",
    "\n",
    "    final_mem_usage = dataframe.memory_usage().sum() / 1024**2\n",
    "    print('--- Memory usage before: {:.2f} MB'.format(initial_mem_usage))\n",
    "    print('--- Memory usage after: {:.2f} MB'.format(final_mem_usage))\n",
    "    print('--- Decreased memory usage by {:.1f}%\\n'.format(100 * (initial_mem_usage - final_mem_usage) / initial_mem_usage))\n",
    "\n",
    "    return dataframe"
   ]
  },
  {
   "cell_type": "code",
   "execution_count": 8,
   "id": "71de1519",
   "metadata": {
    "execution": {
     "iopub.execute_input": "2024-08-11T19:41:55.238215Z",
     "iopub.status.busy": "2024-08-11T19:41:55.237085Z",
     "iopub.status.idle": "2024-08-11T19:41:55.460674Z",
     "shell.execute_reply": "2024-08-11T19:41:55.459596Z"
    },
    "papermill": {
     "duration": 0.231196,
     "end_time": "2024-08-11T19:41:55.463295",
     "exception": false,
     "start_time": "2024-08-11T19:41:55.232099",
     "status": "completed"
    },
    "tags": []
   },
   "outputs": [
    {
     "name": "stdout",
     "output_type": "stream",
     "text": [
      "Reducing memory usage\n",
      "--- Memory usage before: 499.39 MB\n",
      "--- Memory usage after: 445.88 MB\n",
      "--- Decreased memory usage by 10.7%\n",
      "\n",
      "Reducing memory usage\n",
      "--- Memory usage before: 332.93 MB\n",
      "--- Memory usage after: 297.26 MB\n",
      "--- Decreased memory usage by 10.7%\n",
      "\n"
     ]
    }
   ],
   "source": [
    "X = reduce_mem_usage(X)\n",
    "X_test = reduce_mem_usage(X_test)"
   ]
  },
  {
   "cell_type": "markdown",
   "id": "67794100",
   "metadata": {
    "papermill": {
     "duration": 0.003754,
     "end_time": "2024-08-11T19:41:55.471131",
     "exception": false,
     "start_time": "2024-08-11T19:41:55.467377",
     "status": "completed"
    },
    "tags": []
   },
   "source": [
    "# Training"
   ]
  },
  {
   "cell_type": "code",
   "execution_count": 9,
   "id": "bf063aa1",
   "metadata": {
    "execution": {
     "iopub.execute_input": "2024-08-11T19:41:55.481247Z",
     "iopub.status.busy": "2024-08-11T19:41:55.480808Z",
     "iopub.status.idle": "2024-08-11T19:41:55.495719Z",
     "shell.execute_reply": "2024-08-11T19:41:55.494549Z"
    },
    "papermill": {
     "duration": 0.023034,
     "end_time": "2024-08-11T19:41:55.498071",
     "exception": false,
     "start_time": "2024-08-11T19:41:55.475037",
     "status": "completed"
    },
    "tags": []
   },
   "outputs": [],
   "source": [
    "class Trainer:\n",
    "    def __init__(self, model, n_folds=N_FOLDS):\n",
    "        self.model = model\n",
    "        self.n_folds = n_folds\n",
    "\n",
    "    def fit_predict(self, X, y, X_test):\n",
    "        print(f'Training {self.model.__class__.__name__}\\n')\n",
    "        \n",
    "        scores = []        \n",
    "        oof_pred_probs = np.zeros((X.shape[0], len(np.unique(y))))\n",
    "        test_pred_probs = np.zeros((X_test.shape[0], len(np.unique(y))))\n",
    "        \n",
    "        skf = StratifiedKFold(n_splits=self.n_folds, random_state=SEED, shuffle=True)\n",
    "        for fold_idx, (train_idx, val_idx) in enumerate(skf.split(X, y)):\n",
    "            X_train, X_val = X.iloc[train_idx], X.iloc[val_idx]\n",
    "            y_train, y_val = y[train_idx], y[val_idx]\n",
    "            \n",
    "            model = clone(self.model)\n",
    "            model.fit(\n",
    "                X_train,\n",
    "                y_train,\n",
    "                eval_set=[(X_val, y_val)], \n",
    "                verbose=ES_LOG_STEPS, \n",
    "                early_stopping_rounds=ES_ROUNDS,\n",
    "                use_best_model=True\n",
    "            )\n",
    "            \n",
    "            y_pred_probs = model.predict_proba(X_val)\n",
    "            oof_pred_probs[val_idx] = y_pred_probs \n",
    "            y_preds = y_pred_probs[:, 1] >= THRESHOLD         \n",
    "            \n",
    "            temp_test_pred_probs = model.predict_proba(X_test)\n",
    "            test_pred_probs += temp_test_pred_probs / self.n_folds\n",
    "            \n",
    "            score = matthews_corrcoef(y_val, y_preds)\n",
    "            scores.append(score)\n",
    "            \n",
    "            del model, X_train, y_train, X_val, y_val, y_pred_probs, temp_test_pred_probs, y_preds\n",
    "            gc.collect()\n",
    "            \n",
    "            print(f'\\n--- Fold {fold_idx + 1} - MCC: {score:.6f}\\n\\n')\n",
    "            \n",
    "        self._save_pred_probs(oof_pred_probs, np.mean(scores), 'oof')\n",
    "        self._save_pred_probs(test_pred_probs, np.mean(scores), 'test')\n",
    "        self._save_submission(test_pred_probs, np.mean(scores))\n",
    "        \n",
    "        print(f'------ Average MCC: {np.mean(scores):.6f} ± {np.std(scores):.6f}\\n\\n')\n",
    "        \n",
    "    def _save_pred_probs(self, pred_probs, cv_score, name):\n",
    "        model_name = self.model.__class__.__name__.lower().replace('classifier', '')\n",
    "        with open(f'{model_name}_{name}_pred_probs_{cv_score:.6f}.pkl', 'wb') as f:\n",
    "            pickle.dump(pred_probs, f)\n",
    "    \n",
    "    def _save_submission(self, test_pred_probs, score):\n",
    "        name = self.model.__class__.__name__.lower().replace('classifier', '')\n",
    "        sub = pd.read_csv('/kaggle/input/playground-series-s4e8/sample_submission.csv')\n",
    "        sub[TARGET] = test_pred_probs[:, 1] >= THRESHOLD\n",
    "        sub[TARGET] = sub[TARGET].map({False: 'e', True: 'p'})\n",
    "        sub.to_csv(f'sub_{name}_{score:.6f}.csv', index=False)"
   ]
  },
  {
   "cell_type": "code",
   "execution_count": 10,
   "id": "e2ba5f79",
   "metadata": {
    "execution": {
     "iopub.execute_input": "2024-08-11T19:41:55.508002Z",
     "iopub.status.busy": "2024-08-11T19:41:55.507615Z",
     "iopub.status.idle": "2024-08-12T04:21:05.914118Z",
     "shell.execute_reply": "2024-08-12T04:21:05.912654Z"
    },
    "papermill": {
     "duration": 31150.41453,
     "end_time": "2024-08-12T04:21:05.916712",
     "exception": false,
     "start_time": "2024-08-11T19:41:55.502182",
     "status": "completed"
    },
    "tags": []
   },
   "outputs": [
    {
     "name": "stdout",
     "output_type": "stream",
     "text": [
      "Training CatBoostClassifier\n",
      "\n",
      "0:\tlearn: 0.8104832\ttest: 0.8108990\tbest: 0.8108990 (0)\ttotal: 5.98s\tremaining: 8h 18m 34s\n",
      "100:\tlearn: 0.9812387\ttest: 0.9805204\tbest: 0.9805204 (100)\ttotal: 5m 44s\tremaining: 4h 38m 9s\n",
      "200:\tlearn: 0.9830731\ttest: 0.9823701\tbest: 0.9823701 (200)\ttotal: 12m 12s\tremaining: 4h 51m 19s\n",
      "300:\tlearn: 0.9839098\ttest: 0.9830145\tbest: 0.9830145 (300)\ttotal: 18m 12s\tremaining: 4h 44m 17s\n",
      "400:\tlearn: 0.9844609\ttest: 0.9834256\tbest: 0.9834321 (394)\ttotal: 24m 24s\tremaining: 4h 39m 57s\n",
      "500:\tlearn: 0.9848082\ttest: 0.9836425\tbest: 0.9836425 (500)\ttotal: 30m 22s\tremaining: 4h 32m 47s\n",
      "600:\tlearn: 0.9850987\ttest: 0.9837786\tbest: 0.9837786 (599)\ttotal: 36m 52s\tremaining: 4h 29m 57s\n",
      "700:\tlearn: 0.9853189\ttest: 0.9839404\tbest: 0.9839404 (700)\ttotal: 43m 29s\tremaining: 4h 26m 41s\n",
      "800:\tlearn: 0.9855300\ttest: 0.9840150\tbest: 0.9840247 (784)\ttotal: 50m 8s\tremaining: 4h 22m 52s\n",
      "900:\tlearn: 0.9856943\ttest: 0.9840670\tbest: 0.9840670 (900)\ttotal: 56m 8s\tremaining: 4h 15m 26s\n",
      "1000:\tlearn: 0.9858513\ttest: 0.9841284\tbest: 0.9841284 (1000)\ttotal: 1h 2m 27s\tremaining: 4h 9m 29s\n",
      "1100:\tlearn: 0.9859985\ttest: 0.9841900\tbest: 0.9841932 (1096)\ttotal: 1h 9m\tremaining: 4h 4m 23s\n",
      "1200:\tlearn: 0.9861020\ttest: 0.9842223\tbest: 0.9842255 (1191)\ttotal: 1h 14m 54s\tremaining: 3h 56m 57s\n",
      "1300:\tlearn: 0.9862040\ttest: 0.9842548\tbest: 0.9842645 (1288)\ttotal: 1h 21m 3s\tremaining: 3h 50m 27s\n",
      "1400:\tlearn: 0.9863140\ttest: 0.9842773\tbest: 0.9842773 (1385)\ttotal: 1h 27m 29s\tremaining: 3h 44m 46s\n",
      "1500:\tlearn: 0.9864021\ttest: 0.9842903\tbest: 0.9842968 (1467)\ttotal: 1h 33m 42s\tremaining: 3h 38m 26s\n",
      "1600:\tlearn: 0.9864855\ttest: 0.9843129\tbest: 0.9843291 (1577)\ttotal: 1h 39m 54s\tremaining: 3h 32m 5s\n",
      "1700:\tlearn: 0.9865720\ttest: 0.9843648\tbest: 0.9843712 (1691)\ttotal: 1h 46m 1s\tremaining: 3h 25m 38s\n",
      "1800:\tlearn: 0.9866447\ttest: 0.9843777\tbest: 0.9843875 (1782)\ttotal: 1h 52m 34s\tremaining: 3h 19m 58s\n",
      "1900:\tlearn: 0.9867426\ttest: 0.9843744\tbest: 0.9843971 (1823)\ttotal: 1h 59m 2s\tremaining: 3h 14m 3s\n",
      "Stopped by overfitting detector  (100 iterations wait)\n",
      "\n",
      "bestTest = 0.9843971005\n",
      "bestIteration = 1823\n",
      "\n",
      "Shrink model to first 1824 iterations.\n",
      "\n",
      "--- Fold 1 - MCC: 0.984397\n",
      "\n",
      "\n",
      "0:\tlearn: 0.7332313\ttest: 0.7347952\tbest: 0.7347952 (0)\ttotal: 4.52s\tremaining: 6h 16m 17s\n",
      "100:\tlearn: 0.9810459\ttest: 0.9808675\tbest: 0.9808675 (100)\ttotal: 6m 22s\tremaining: 5h 8m 56s\n",
      "200:\tlearn: 0.9828582\ttest: 0.9824795\tbest: 0.9824795 (199)\ttotal: 12m 28s\tremaining: 4h 57m 47s\n",
      "300:\tlearn: 0.9837757\ttest: 0.9832203\tbest: 0.9832267 (299)\ttotal: 18m 43s\tremaining: 4h 52m 16s\n",
      "400:\tlearn: 0.9842702\ttest: 0.9835959\tbest: 0.9836024 (397)\ttotal: 24m 48s\tremaining: 4h 44m 30s\n",
      "500:\tlearn: 0.9847340\ttest: 0.9839099\tbest: 0.9839099 (500)\ttotal: 31m 24s\tremaining: 4h 42m 2s\n",
      "600:\tlearn: 0.9850164\ttest: 0.9841072\tbest: 0.9841105 (598)\ttotal: 37m 13s\tremaining: 4h 32m 26s\n",
      "700:\tlearn: 0.9852559\ttest: 0.9842464\tbest: 0.9842561 (688)\ttotal: 43m 22s\tremaining: 4h 26m 2s\n",
      "800:\tlearn: 0.9854233\ttest: 0.9843337\tbest: 0.9843402 (791)\ttotal: 49m 26s\tremaining: 4h 19m 8s\n",
      "900:\tlearn: 0.9856102\ttest: 0.9844340\tbest: 0.9844340 (893)\ttotal: 55m 44s\tremaining: 4h 13m 37s\n",
      "1000:\tlearn: 0.9857477\ttest: 0.9844956\tbest: 0.9845053 (992)\ttotal: 1h 2m 5s\tremaining: 4h 8m 3s\n",
      "1100:\tlearn: 0.9858578\ttest: 0.9845504\tbest: 0.9845504 (1097)\ttotal: 1h 8m 29s\tremaining: 4h 2m 34s\n",
      "1200:\tlearn: 0.9859670\ttest: 0.9845926\tbest: 0.9845958 (1199)\ttotal: 1h 14m 42s\tremaining: 3h 56m 20s\n",
      "1300:\tlearn: 0.9860681\ttest: 0.9846379\tbest: 0.9846444 (1297)\ttotal: 1h 20m 44s\tremaining: 3h 49m 35s\n",
      "1400:\tlearn: 0.9861644\ttest: 0.9846638\tbest: 0.9846897 (1366)\ttotal: 1h 26m 47s\tremaining: 3h 42m 57s\n",
      "Stopped by overfitting detector  (100 iterations wait)\n",
      "\n",
      "bestTest = 0.9846897309\n",
      "bestIteration = 1366\n",
      "\n",
      "Shrink model to first 1367 iterations.\n",
      "\n",
      "--- Fold 2 - MCC: 0.984690\n",
      "\n",
      "\n",
      "0:\tlearn: 0.8032464\ttest: 0.8064231\tbest: 0.8064231 (0)\ttotal: 4.63s\tremaining: 6h 25m 48s\n",
      "100:\tlearn: 0.9814533\ttest: 0.9811328\tbest: 0.9811328 (100)\ttotal: 6m 10s\tremaining: 4h 59m 18s\n",
      "200:\tlearn: 0.9831220\ttest: 0.9825371\tbest: 0.9825403 (199)\ttotal: 12m 10s\tremaining: 4h 50m 39s\n",
      "300:\tlearn: 0.9839787\ttest: 0.9832002\tbest: 0.9832004 (292)\ttotal: 18m 28s\tremaining: 4h 48m 18s\n",
      "400:\tlearn: 0.9845112\ttest: 0.9836014\tbest: 0.9836047 (398)\ttotal: 24m 49s\tremaining: 4h 44m 38s\n",
      "500:\tlearn: 0.9848566\ttest: 0.9838085\tbest: 0.9838118 (498)\ttotal: 30m 54s\tremaining: 4h 37m 37s\n",
      "600:\tlearn: 0.9851892\ttest: 0.9840285\tbest: 0.9840285 (600)\ttotal: 37m 31s\tremaining: 4h 34m 36s\n",
      "700:\tlearn: 0.9854142\ttest: 0.9841257\tbest: 0.9841257 (696)\ttotal: 43m 47s\tremaining: 4h 28m 30s\n",
      "800:\tlearn: 0.9856059\ttest: 0.9842066\tbest: 0.9842067 (794)\ttotal: 50m 13s\tremaining: 4h 23m 16s\n",
      "900:\tlearn: 0.9857395\ttest: 0.9842617\tbest: 0.9842617 (899)\ttotal: 56m 10s\tremaining: 4h 15m 33s\n",
      "1000:\tlearn: 0.9858794\ttest: 0.9842716\tbest: 0.9842812 (983)\ttotal: 1h 2m 54s\tremaining: 4h 11m 17s\n",
      "1100:\tlearn: 0.9860072\ttest: 0.9843297\tbest: 0.9843395 (1099)\ttotal: 1h 9m 15s\tremaining: 4h 5m 15s\n",
      "1200:\tlearn: 0.9861075\ttest: 0.9843685\tbest: 0.9843815 (1177)\ttotal: 1h 15m 11s\tremaining: 3h 57m 50s\n",
      "1300:\tlearn: 0.9862417\ttest: 0.9844365\tbest: 0.9844365 (1297)\ttotal: 1h 21m 53s\tremaining: 3h 52m 49s\n",
      "1400:\tlearn: 0.9863324\ttest: 0.9844526\tbest: 0.9844558 (1395)\ttotal: 1h 27m 48s\tremaining: 3h 45m 35s\n",
      "1500:\tlearn: 0.9864319\ttest: 0.9844686\tbest: 0.9844849 (1444)\ttotal: 1h 34m 10s\tremaining: 3h 39m 31s\n",
      "1600:\tlearn: 0.9865144\ttest: 0.9844817\tbest: 0.9844979 (1578)\ttotal: 1h 40m 17s\tremaining: 3h 32m 56s\n",
      "1700:\tlearn: 0.9865759\ttest: 0.9845108\tbest: 0.9845108 (1699)\ttotal: 1h 46m 11s\tremaining: 3h 25m 57s\n",
      "1800:\tlearn: 0.9866665\ttest: 0.9844882\tbest: 0.9845173 (1713)\ttotal: 1h 52m 33s\tremaining: 3h 19m 56s\n",
      "Stopped by overfitting detector  (100 iterations wait)\n",
      "\n",
      "bestTest = 0.9845173015\n",
      "bestIteration = 1713\n",
      "\n",
      "Shrink model to first 1714 iterations.\n",
      "\n",
      "--- Fold 3 - MCC: 0.984517\n",
      "\n",
      "\n",
      "0:\tlearn: 0.7956789\ttest: 0.7968512\tbest: 0.7968512 (0)\ttotal: 4.79s\tremaining: 6h 38m 55s\n",
      "100:\tlearn: 0.9808276\ttest: 0.9806722\tbest: 0.9806722 (100)\ttotal: 5m 44s\tremaining: 4h 38m 9s\n",
      "200:\tlearn: 0.9827898\ttest: 0.9822459\tbest: 0.9822459 (200)\ttotal: 11m 36s\tremaining: 4h 37m 5s\n",
      "300:\tlearn: 0.9838308\ttest: 0.9830490\tbest: 0.9830490 (300)\ttotal: 18m 7s\tremaining: 4h 42m 55s\n",
      "400:\tlearn: 0.9843292\ttest: 0.9834148\tbest: 0.9834374 (397)\ttotal: 23m 53s\tremaining: 4h 34m\n",
      "500:\tlearn: 0.9846958\ttest: 0.9837679\tbest: 0.9837679 (500)\ttotal: 30m\tremaining: 4h 29m 30s\n",
      "600:\tlearn: 0.9849190\ttest: 0.9839104\tbest: 0.9839136 (594)\ttotal: 35m 39s\tremaining: 4h 20m 59s\n",
      "700:\tlearn: 0.9851820\ttest: 0.9840822\tbest: 0.9840822 (700)\ttotal: 41m 43s\tremaining: 4h 15m 53s\n",
      "800:\tlearn: 0.9853852\ttest: 0.9842053\tbest: 0.9842118 (796)\ttotal: 47m 42s\tremaining: 4h 10m 3s\n",
      "900:\tlearn: 0.9855568\ttest: 0.9842442\tbest: 0.9842507 (838)\ttotal: 53m 57s\tremaining: 4h 5m 27s\n",
      "1000:\tlearn: 0.9857226\ttest: 0.9842992\tbest: 0.9843025 (997)\ttotal: 1h 22s\tremaining: 4h 1m 10s\n",
      "1100:\tlearn: 0.9858683\ttest: 0.9843543\tbest: 0.9843543 (1069)\ttotal: 1h 6m 37s\tremaining: 3h 55m 57s\n",
      "1200:\tlearn: 0.9860018\ttest: 0.9843413\tbest: 0.9843607 (1132)\ttotal: 1h 13m 16s\tremaining: 3h 51m 46s\n",
      "1300:\tlearn: 0.9861135\ttest: 0.9843898\tbest: 0.9843931 (1283)\ttotal: 1h 19m 27s\tremaining: 3h 45m 54s\n",
      "1400:\tlearn: 0.9862420\ttest: 0.9844384\tbest: 0.9844449 (1357)\ttotal: 1h 26m\tremaining: 3h 40m 55s\n",
      "1500:\tlearn: 0.9863440\ttest: 0.9844707\tbest: 0.9844837 (1465)\ttotal: 1h 32m 14s\tremaining: 3h 35m 1s\n",
      "Stopped by overfitting detector  (100 iterations wait)\n",
      "\n",
      "bestTest = 0.9844837132\n",
      "bestIteration = 1465\n",
      "\n",
      "Shrink model to first 1466 iterations.\n",
      "\n",
      "--- Fold 4 - MCC: 0.984484\n",
      "\n",
      "\n",
      "0:\tlearn: 0.7302954\ttest: 0.7332229\tbest: 0.7332229 (0)\ttotal: 4.52s\tremaining: 6h 16m 41s\n",
      "100:\tlearn: 0.9810888\ttest: 0.9809464\tbest: 0.9809464 (100)\ttotal: 6m 18s\tremaining: 5h 6m 13s\n",
      "200:\tlearn: 0.9829272\ttest: 0.9825972\tbest: 0.9826166 (197)\ttotal: 12m 29s\tremaining: 4h 58m 22s\n",
      "300:\tlearn: 0.9839369\ttest: 0.9834164\tbest: 0.9834196 (299)\ttotal: 19m 16s\tremaining: 5h 1m 1s\n",
      "400:\tlearn: 0.9845033\ttest: 0.9838342\tbest: 0.9838342 (400)\ttotal: 25m 24s\tremaining: 4h 51m 28s\n",
      "500:\tlearn: 0.9848511\ttest: 0.9840641\tbest: 0.9840641 (500)\ttotal: 31m 49s\tremaining: 4h 45m 45s\n",
      "600:\tlearn: 0.9851554\ttest: 0.9842097\tbest: 0.9842097 (600)\ttotal: 38m 26s\tremaining: 4h 41m 23s\n",
      "700:\tlearn: 0.9853956\ttest: 0.9843067\tbest: 0.9843100 (677)\ttotal: 44m 59s\tremaining: 4h 35m 57s\n",
      "800:\tlearn: 0.9855632\ttest: 0.9843489\tbest: 0.9843585 (790)\ttotal: 51m 44s\tremaining: 4h 31m 15s\n",
      "900:\tlearn: 0.9856796\ttest: 0.9844332\tbest: 0.9844332 (900)\ttotal: 57m 35s\tremaining: 4h 21m 58s\n",
      "1000:\tlearn: 0.9858237\ttest: 0.9844980\tbest: 0.9844980 (1000)\ttotal: 1h 3m 43s\tremaining: 4h 14m 34s\n",
      "1100:\tlearn: 0.9859750\ttest: 0.9845304\tbest: 0.9845304 (1096)\ttotal: 1h 9m 58s\tremaining: 4h 7m 48s\n",
      "1200:\tlearn: 0.9860890\ttest: 0.9845499\tbest: 0.9845564 (1188)\ttotal: 1h 15m 53s\tremaining: 4h 5s\n",
      "1300:\tlearn: 0.9861756\ttest: 0.9845726\tbest: 0.9845758 (1292)\ttotal: 1h 21m 16s\tremaining: 3h 51m 5s\n",
      "1400:\tlearn: 0.9862646\ttest: 0.9845854\tbest: 0.9846145 (1350)\ttotal: 1h 27m 14s\tremaining: 3h 44m 7s\n",
      "Stopped by overfitting detector  (100 iterations wait)\n",
      "\n",
      "bestTest = 0.984614532\n",
      "bestIteration = 1350\n",
      "\n",
      "Shrink model to first 1351 iterations.\n",
      "\n",
      "--- Fold 5 - MCC: 0.984615\n",
      "\n",
      "\n",
      "------ Average MCC: 0.984540 ± 0.000102\n",
      "\n",
      "\n"
     ]
    }
   ],
   "source": [
    "params = {    \n",
    "    'border_count': 277,\n",
    "    'colsample_bylevel': 0.10259634252627849,\n",
    "    'depth': 12,\n",
    "    'eval_metric': \"MCC\",\n",
    "    'iterations': 5000,\n",
    "    'l2_leaf_reg': 0.8547747497093361,\n",
    "    'learning_rate': 0.028124773056202795,\n",
    "    'loss_function': \"Logloss\",\n",
    "    'min_data_in_leaf': 223,\n",
    "    'random_state': SEED,\n",
    "    'random_strength': 0.4703879895777699,\n",
    "    'subsample': 0.5101541154482044,\n",
    "    'thread_count': -1,\n",
    "    'verbose': False,\n",
    "    'cat_features': cat_features\n",
    "}\n",
    "\n",
    "model = CatBoostClassifier(**params)\n",
    "trainer = Trainer(model)\n",
    "trainer.fit_predict(X, y, X_test)"
   ]
  }
 ],
 "metadata": {
  "kaggle": {
   "accelerator": "none",
   "dataSources": [
    {
     "databundleVersionId": 9045607,
     "sourceId": 76727,
     "sourceType": "competition"
    }
   ],
   "dockerImageVersionId": 30747,
   "isGpuEnabled": false,
   "isInternetEnabled": true,
   "language": "python",
   "sourceType": "notebook"
  },
  "kernelspec": {
   "display_name": "Python 3",
   "language": "python",
   "name": "python3"
  },
  "language_info": {
   "codemirror_mode": {
    "name": "ipython",
    "version": 3
   },
   "file_extension": ".py",
   "mimetype": "text/x-python",
   "name": "python",
   "nbconvert_exporter": "python",
   "pygments_lexer": "ipython3",
   "version": "3.10.13"
  },
  "papermill": {
   "default_parameters": {},
   "duration": 31313.120158,
   "end_time": "2024-08-12T04:21:09.232429",
   "environment_variables": {},
   "exception": null,
   "input_path": "__notebook__.ipynb",
   "output_path": "__notebook__.ipynb",
   "parameters": {},
   "start_time": "2024-08-11T19:39:16.112271",
   "version": "2.5.0"
  }
 },
 "nbformat": 4,
 "nbformat_minor": 5
}
