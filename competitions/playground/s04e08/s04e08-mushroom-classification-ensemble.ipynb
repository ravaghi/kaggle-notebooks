{
 "cells": [
  {
   "cell_type": "markdown",
   "id": "2ff0270c",
   "metadata": {
    "papermill": {
     "duration": 0.005665,
     "end_time": "2024-08-04T17:38:05.645233",
     "exception": false,
     "start_time": "2024-08-04T17:38:05.639568",
     "status": "completed"
    },
    "tags": []
   },
   "source": [
    "# Imports and Configs"
   ]
  },
  {
   "cell_type": "code",
   "execution_count": 1,
   "id": "ac8113ae",
   "metadata": {
    "_cell_guid": "b1076dfc-b9ad-4769-8c92-a6c4dae69d19",
    "_uuid": "8f2839f25d086af736a60e9eeb907d3b93b6e0e5",
    "execution": {
     "iopub.execute_input": "2024-08-04T17:38:05.657473Z",
     "iopub.status.busy": "2024-08-04T17:38:05.657100Z",
     "iopub.status.idle": "2024-08-04T17:38:08.397177Z",
     "shell.execute_reply": "2024-08-04T17:38:08.395940Z"
    },
    "papermill": {
     "duration": 2.749149,
     "end_time": "2024-08-04T17:38:08.399796",
     "exception": false,
     "start_time": "2024-08-04T17:38:05.650647",
     "status": "completed"
    },
    "tags": []
   },
   "outputs": [],
   "source": [
    "from sklearn.model_selection import StratifiedKFold\n",
    "from sklearn.metrics import matthews_corrcoef\n",
    "from optuna.samplers import TPESampler\n",
    "import matplotlib.pyplot as plt\n",
    "import seaborn as sns\n",
    "import pandas as pd\n",
    "import numpy as np\n",
    "import warnings\n",
    "import optuna\n",
    "import pickle\n",
    "import glob\n",
    "\n",
    "warnings.filterwarnings('ignore')"
   ]
  },
  {
   "cell_type": "code",
   "execution_count": 2,
   "id": "6867d4c4",
   "metadata": {
    "execution": {
     "iopub.execute_input": "2024-08-04T17:38:08.411628Z",
     "iopub.status.busy": "2024-08-04T17:38:08.411131Z",
     "iopub.status.idle": "2024-08-04T17:38:08.416073Z",
     "shell.execute_reply": "2024-08-04T17:38:08.415078Z"
    },
    "papermill": {
     "duration": 0.013347,
     "end_time": "2024-08-04T17:38:08.418239",
     "exception": false,
     "start_time": "2024-08-04T17:38:08.404892",
     "status": "completed"
    },
    "tags": []
   },
   "outputs": [],
   "source": [
    "SEED = 6\n",
    "N_FOLDS = 5\n",
    "TARGET = 'class'"
   ]
  },
  {
   "cell_type": "markdown",
   "id": "01c0fb31",
   "metadata": {
    "papermill": {
     "duration": 0.004616,
     "end_time": "2024-08-04T17:38:08.427848",
     "exception": false,
     "start_time": "2024-08-04T17:38:08.423232",
     "status": "completed"
    },
    "tags": []
   },
   "source": [
    "# Loading Data"
   ]
  },
  {
   "cell_type": "code",
   "execution_count": 3,
   "id": "a90c7fef",
   "metadata": {
    "execution": {
     "iopub.execute_input": "2024-08-04T17:38:08.439665Z",
     "iopub.status.busy": "2024-08-04T17:38:08.438739Z",
     "iopub.status.idle": "2024-08-04T17:38:26.161848Z",
     "shell.execute_reply": "2024-08-04T17:38:26.160784Z"
    },
    "papermill": {
     "duration": 17.731751,
     "end_time": "2024-08-04T17:38:26.164418",
     "exception": false,
     "start_time": "2024-08-04T17:38:08.432667",
     "status": "completed"
    },
    "tags": []
   },
   "outputs": [],
   "source": [
    "train = pd.read_csv('/kaggle/input/playground-series-s4e8/train.csv', index_col='id')\n",
    "test = pd.read_csv('/kaggle/input/playground-series-s4e8/test.csv', index_col='id')\n",
    "\n",
    "X = train.drop(columns=[TARGET])\n",
    "y = train[TARGET].map({'e': 0, 'p': 1})"
   ]
  },
  {
   "cell_type": "code",
   "execution_count": 4,
   "id": "f414e548",
   "metadata": {
    "execution": {
     "iopub.execute_input": "2024-08-04T17:38:26.176085Z",
     "iopub.status.busy": "2024-08-04T17:38:26.175701Z",
     "iopub.status.idle": "2024-08-04T17:38:26.183143Z",
     "shell.execute_reply": "2024-08-04T17:38:26.181969Z"
    },
    "papermill": {
     "duration": 0.015914,
     "end_time": "2024-08-04T17:38:26.185407",
     "exception": false,
     "start_time": "2024-08-04T17:38:26.169493",
     "status": "completed"
    },
    "tags": []
   },
   "outputs": [],
   "source": [
    "def get_scores(oof_pred_probs):\n",
    "    scores = []\n",
    "    skf = StratifiedKFold(n_splits=5, random_state=SEED, shuffle=True)\n",
    "    for _, val_idx in skf.split(X, y):\n",
    "        y_val = y[val_idx]\n",
    "        y_pred_probs = oof_pred_probs[val_idx]          \n",
    "        score = matthews_corrcoef(y_val, np.argmax(y_pred_probs, axis=1))\n",
    "        scores.append(score)\n",
    "    return scores"
   ]
  },
  {
   "cell_type": "markdown",
   "id": "98d1ba4a",
   "metadata": {
    "papermill": {
     "duration": 0.004699,
     "end_time": "2024-08-04T17:38:26.195192",
     "exception": false,
     "start_time": "2024-08-04T17:38:26.190493",
     "status": "completed"
    },
    "tags": []
   },
   "source": [
    "# Loading OOF Predictions"
   ]
  },
  {
   "cell_type": "code",
   "execution_count": 5,
   "id": "a14aebbf",
   "metadata": {
    "execution": {
     "iopub.execute_input": "2024-08-04T17:38:26.206502Z",
     "iopub.status.busy": "2024-08-04T17:38:26.206108Z",
     "iopub.status.idle": "2024-08-04T17:38:26.210987Z",
     "shell.execute_reply": "2024-08-04T17:38:26.209896Z"
    },
    "papermill": {
     "duration": 0.013078,
     "end_time": "2024-08-04T17:38:26.213122",
     "exception": false,
     "start_time": "2024-08-04T17:38:26.200044",
     "status": "completed"
    },
    "tags": []
   },
   "outputs": [],
   "source": [
    "test_pred_probs = {}\n",
    "oof_pred_probs = {}\n",
    "scores = {}"
   ]
  },
  {
   "cell_type": "code",
   "execution_count": 6,
   "id": "ab340dc5",
   "metadata": {
    "execution": {
     "iopub.execute_input": "2024-08-04T17:38:26.225423Z",
     "iopub.status.busy": "2024-08-04T17:38:26.224425Z",
     "iopub.status.idle": "2024-08-04T17:38:29.523210Z",
     "shell.execute_reply": "2024-08-04T17:38:29.522058Z"
    },
    "papermill": {
     "duration": 3.307762,
     "end_time": "2024-08-04T17:38:29.526031",
     "exception": false,
     "start_time": "2024-08-04T17:38:26.218269",
     "status": "completed"
    },
    "tags": []
   },
   "outputs": [],
   "source": [
    "xgb_oof_pred_probs_files = glob.glob('/kaggle/input/s04e08-mushroom-classification-xgboost/xgb_oof_pred_probs_*.pkl')\n",
    "xgb_test_pred_probs_files = glob.glob('/kaggle/input/s04e08-mushroom-classification-xgboost/xgb_test_pred_probs_*.pkl')\n",
    "\n",
    "xgb_oof_pred_probs = pickle.load(open(xgb_oof_pred_probs_files[0], 'rb'))\n",
    "xgb_test_pred_probs = pickle.load(open(xgb_test_pred_probs_files[0], 'rb'))\n",
    "\n",
    "oof_pred_probs['XGBoost'] = xgb_oof_pred_probs\n",
    "test_pred_probs['XGBoost'] = xgb_test_pred_probs\n",
    "scores['XGBoost'] = get_scores(xgb_oof_pred_probs)"
   ]
  },
  {
   "cell_type": "code",
   "execution_count": 7,
   "id": "082d4d42",
   "metadata": {
    "execution": {
     "iopub.execute_input": "2024-08-04T17:38:29.537415Z",
     "iopub.status.busy": "2024-08-04T17:38:29.537021Z",
     "iopub.status.idle": "2024-08-04T17:38:32.761983Z",
     "shell.execute_reply": "2024-08-04T17:38:32.760924Z"
    },
    "papermill": {
     "duration": 3.233667,
     "end_time": "2024-08-04T17:38:32.764615",
     "exception": false,
     "start_time": "2024-08-04T17:38:29.530948",
     "status": "completed"
    },
    "tags": []
   },
   "outputs": [],
   "source": [
    "lgbm_oof_pred_probs_files = glob.glob('/kaggle/input/s04e08-mushroom-classification-lightgbm/lgbm_oof_pred_probs_*.pkl')\n",
    "lgbm_test_pred_probs_files = glob.glob('/kaggle/input/s04e08-mushroom-classification-lightgbm/lgbm_test_pred_probs_*.pkl')\n",
    "\n",
    "lgbm_oof_pred_probs = pickle.load(open(lgbm_oof_pred_probs_files[0], 'rb'))\n",
    "lgbm_test_pred_probs = pickle.load(open(lgbm_test_pred_probs_files[0], 'rb'))\n",
    "\n",
    "oof_pred_probs['LightGBM'] = lgbm_oof_pred_probs\n",
    "test_pred_probs['LightGBM'] = lgbm_test_pred_probs\n",
    "scores['LightGBM'] = get_scores(lgbm_oof_pred_probs)"
   ]
  },
  {
   "cell_type": "code",
   "execution_count": 8,
   "id": "84698eb0",
   "metadata": {
    "execution": {
     "iopub.execute_input": "2024-08-04T17:38:32.776720Z",
     "iopub.status.busy": "2024-08-04T17:38:32.776000Z",
     "iopub.status.idle": "2024-08-04T17:38:36.091818Z",
     "shell.execute_reply": "2024-08-04T17:38:36.090739Z"
    },
    "papermill": {
     "duration": 3.324538,
     "end_time": "2024-08-04T17:38:36.094345",
     "exception": false,
     "start_time": "2024-08-04T17:38:32.769807",
     "status": "completed"
    },
    "tags": []
   },
   "outputs": [],
   "source": [
    "histgb_oof_pred_probs_files = glob.glob('/kaggle/input/s04e08-mushroom-classification-histgb/histgradientboosting_oof_pred_probs_*.pkl')\n",
    "histgb_test_pred_probs_files = glob.glob('/kaggle/input/s04e08-mushroom-classification-histgb/histgradientboosting_test_pred_probs_*.pkl')\n",
    "\n",
    "histgb_oof_pred_probs = pickle.load(open(histgb_oof_pred_probs_files[0], 'rb'))\n",
    "histgb_test_pred_probs = pickle.load(open(histgb_test_pred_probs_files[0], 'rb'))\n",
    "\n",
    "oof_pred_probs['HistGB'] = histgb_oof_pred_probs\n",
    "test_pred_probs['HistGB'] = histgb_test_pred_probs\n",
    "scores['HistGB'] = get_scores(histgb_oof_pred_probs)"
   ]
  },
  {
   "cell_type": "markdown",
   "id": "923b81aa",
   "metadata": {
    "papermill": {
     "duration": 0.004616,
     "end_time": "2024-08-04T17:38:36.103955",
     "exception": false,
     "start_time": "2024-08-04T17:38:36.099339",
     "status": "completed"
    },
    "tags": []
   },
   "source": [
    "# Optimizing Ensemble Weights"
   ]
  },
  {
   "cell_type": "code",
   "execution_count": 9,
   "id": "a87324df",
   "metadata": {
    "_kg_hide-output": true,
    "execution": {
     "iopub.execute_input": "2024-08-04T17:38:36.115749Z",
     "iopub.status.busy": "2024-08-04T17:38:36.115389Z",
     "iopub.status.idle": "2024-08-04T17:41:39.802200Z",
     "shell.execute_reply": "2024-08-04T17:41:39.800947Z"
    },
    "papermill": {
     "duration": 183.695457,
     "end_time": "2024-08-04T17:41:39.804475",
     "exception": false,
     "start_time": "2024-08-04T17:38:36.109018",
     "status": "completed"
    },
    "scrolled": true,
    "tags": []
   },
   "outputs": [
    {
     "name": "stderr",
     "output_type": "stream",
     "text": [
      "[I 2024-08-04 17:38:36,121] A new study created in memory with name: no-name-6687cbf8-6072-4da9-998f-73d0466f6dce\n",
      "[I 2024-08-04 17:38:37,940] Trial 0 finished with value: 0.9848273646631271 and parameters: {'xgb_weight': 4.464300757180008, 'lgbm_weight': 1.6598990265058862, 'histgb_weight': 4.106145615289159}. Best is trial 0 with value: 0.9848273646631271.\n",
      "[I 2024-08-04 17:38:39,759] Trial 1 finished with value: 0.984695502736001 and parameters: {'xgb_weight': 0.20848312862624951, 'lgbm_weight': 0.5382833996798397, 'histgb_weight': 2.975260321031201}. Best is trial 0 with value: 0.9848273646631271.\n",
      "[I 2024-08-04 17:38:41,571] Trial 2 finished with value: 0.9848293633202375 and parameters: {'xgb_weight': 2.649086810964108, 'lgbm_weight': 2.0940371427832716, 'histgb_weight': 1.6770392463666461}. Best is trial 2 with value: 0.9848293633202375.\n",
      "[I 2024-08-04 17:38:43,411] Trial 3 finished with value: 0.9848358224617306 and parameters: {'xgb_weight': 3.112597160980451, 'lgbm_weight': 2.1907071305443706, 'histgb_weight': 3.679410531743451}. Best is trial 3 with value: 0.9848358224617306.\n",
      "[I 2024-08-04 17:38:45,235] Trial 4 finished with value: 0.9848417095449084 and parameters: {'xgb_weight': 2.590182059996344, 'lgbm_weight': 2.8942930011307855, 'histgb_weight': 3.2267754794779693}. Best is trial 4 with value: 0.9848417095449084.\n",
      "[I 2024-08-04 17:38:47,050] Trial 5 finished with value: 0.9848157727227539 and parameters: {'xgb_weight': 4.951121356867082, 'lgbm_weight': 4.0992909846092065, 'histgb_weight': 2.066004674080904}. Best is trial 4 with value: 0.9848417095449084.\n",
      "[I 2024-08-04 17:38:48,861] Trial 6 finished with value: 0.9848015325675393 and parameters: {'xgb_weight': 4.381338276033137, 'lgbm_weight': 4.118797162852607, 'histgb_weight': 0.27237253911177317}. Best is trial 4 with value: 0.9848417095449084.\n",
      "[I 2024-08-04 17:38:50,676] Trial 7 finished with value: 0.9848455749486966 and parameters: {'xgb_weight': 3.5931861828209715, 'lgbm_weight': 4.010852812122377, 'histgb_weight': 3.6820332190571947}. Best is trial 7 with value: 0.9848455749486966.\n",
      "[I 2024-08-04 17:38:52,520] Trial 8 finished with value: 0.9848034858105332 and parameters: {'xgb_weight': 3.5456587539058364, 'lgbm_weight': 2.7046842715126407, 'histgb_weight': 0.6241208719030489}. Best is trial 7 with value: 0.9848455749486966.\n",
      "[I 2024-08-04 17:38:54,380] Trial 9 finished with value: 0.9847963634530713 and parameters: {'xgb_weight': 4.788236477348342, 'lgbm_weight': 2.016281493674599, 'histgb_weight': 1.0847558016178005}. Best is trial 7 with value: 0.9848455749486966.\n",
      "[I 2024-08-04 17:38:56,190] Trial 10 finished with value: 0.9848022690720418 and parameters: {'xgb_weight': 1.3063871330429029, 'lgbm_weight': 4.777932396742912, 'histgb_weight': 4.884424242450364}. Best is trial 7 with value: 0.9848455749486966.\n",
      "[I 2024-08-04 17:38:58,013] Trial 11 finished with value: 0.9848320438727806 and parameters: {'xgb_weight': 1.7851632088727427, 'lgbm_weight': 3.2816618210574866, 'histgb_weight': 3.0488667398398217}. Best is trial 7 with value: 0.9848455749486966.\n",
      "[I 2024-08-04 17:38:59,840] Trial 12 finished with value: 0.984845552147951 and parameters: {'xgb_weight': 3.5939999553190547, 'lgbm_weight': 3.309924232070273, 'histgb_weight': 4.0183193847003}. Best is trial 7 with value: 0.9848455749486966.\n",
      "[I 2024-08-04 17:39:01,690] Trial 13 finished with value: 0.9848397425892298 and parameters: {'xgb_weight': 3.7380198013817982, 'lgbm_weight': 3.59168839817995, 'histgb_weight': 4.447386007099906}. Best is trial 7 with value: 0.9848455749486966.\n",
      "[I 2024-08-04 17:39:03,557] Trial 14 finished with value: 0.9848423499688956 and parameters: {'xgb_weight': 3.8620308982027822, 'lgbm_weight': 4.826981701545915, 'histgb_weight': 3.941643089191598}. Best is trial 7 with value: 0.9848455749486966.\n",
      "[I 2024-08-04 17:39:05,399] Trial 15 finished with value: 0.9848346009113931 and parameters: {'xgb_weight': 3.2240480578716153, 'lgbm_weight': 3.771326101446225, 'histgb_weight': 4.866675934629775}. Best is trial 7 with value: 0.9848455749486966.\n",
      "[I 2024-08-04 17:39:07,239] Trial 16 finished with value: 0.9848314126633974 and parameters: {'xgb_weight': 1.76445818075234, 'lgbm_weight': 4.300320046022647, 'histgb_weight': 2.474761734775833}. Best is trial 7 with value: 0.9848455749486966.\n",
      "[I 2024-08-04 17:39:09,080] Trial 17 finished with value: 0.984828046003009 and parameters: {'xgb_weight': 4.107685757312162, 'lgbm_weight': 1.1151561663439198, 'histgb_weight': 3.5272960887557314}. Best is trial 7 with value: 0.9848455749486966.\n",
      "[I 2024-08-04 17:39:10,927] Trial 18 finished with value: 0.9848417095449084 and parameters: {'xgb_weight': 2.9350790733266745, 'lgbm_weight': 3.151493286640208, 'histgb_weight': 4.236737939055303}. Best is trial 7 with value: 0.9848455749486966.\n",
      "[I 2024-08-04 17:39:12,793] Trial 19 finished with value: 0.9848436536676943 and parameters: {'xgb_weight': 2.3562916498779933, 'lgbm_weight': 3.4297499656922508, 'histgb_weight': 2.4624816435893777}. Best is trial 7 with value: 0.9848455749486966.\n",
      "[I 2024-08-04 17:39:14,620] Trial 20 finished with value: 0.9847802984179881 and parameters: {'xgb_weight': 0.5173099077099086, 'lgbm_weight': 4.582414038006197, 'histgb_weight': 4.496149724215293}. Best is trial 7 with value: 0.9848455749486966.\n",
      "[I 2024-08-04 17:39:16,465] Trial 21 finished with value: 0.9848281647925566 and parameters: {'xgb_weight': 1.9239027107969542, 'lgbm_weight': 3.599341876846545, 'histgb_weight': 2.0562825694206515}. Best is trial 7 with value: 0.9848455749486966.\n",
      "[I 2024-08-04 17:39:18,294] Trial 22 finished with value: 0.9848404378649147 and parameters: {'xgb_weight': 2.242014661514289, 'lgbm_weight': 3.275831051783194, 'histgb_weight': 2.491524311777228}. Best is trial 7 with value: 0.9848455749486966.\n",
      "[I 2024-08-04 17:39:20,124] Trial 23 finished with value: 0.9848087143389124 and parameters: {'xgb_weight': 1.1453824440752713, 'lgbm_weight': 3.8329896314757703, 'histgb_weight': 3.4530812335622714}. Best is trial 7 with value: 0.9848455749486966.\n",
      "[I 2024-08-04 17:39:21,959] Trial 24 finished with value: 0.984836458372713 and parameters: {'xgb_weight': 3.4346632989780472, 'lgbm_weight': 2.5564025339754, 'histgb_weight': 2.799920613412033}. Best is trial 7 with value: 0.9848455749486966.\n",
      "[I 2024-08-04 17:39:23,808] Trial 25 finished with value: 0.984824875718127 and parameters: {'xgb_weight': 2.7919421135415714, 'lgbm_weight': 3.037431014572256, 'histgb_weight': 1.3766693177542249}. Best is trial 7 with value: 0.9848455749486966.\n",
      "[I 2024-08-04 17:39:25,667] Trial 26 finished with value: 0.9848300997439651 and parameters: {'xgb_weight': 2.3137893144426194, 'lgbm_weight': 4.486445073542726, 'histgb_weight': 3.724550633077767}. Best is trial 7 with value: 0.9848455749486966.\n",
      "[I 2024-08-04 17:39:27,504] Trial 27 finished with value: 0.9848274785560336 and parameters: {'xgb_weight': 4.13603704572164, 'lgbm_weight': 4.003757505754903, 'histgb_weight': 2.1197018969983867}. Best is trial 7 with value: 0.9848455749486966.\n",
      "[I 2024-08-04 17:39:29,341] Trial 28 finished with value: 0.9848442484794744 and parameters: {'xgb_weight': 3.29082561490419, 'lgbm_weight': 3.550081082412258, 'histgb_weight': 2.6765754537055235}. Best is trial 7 with value: 0.9848455749486966.\n",
      "[I 2024-08-04 17:39:31,173] Trial 29 finished with value: 0.9848267241869723 and parameters: {'xgb_weight': 4.420112733128675, 'lgbm_weight': 1.3327461989028544, 'histgb_weight': 3.965642090731738}. Best is trial 7 with value: 0.9848455749486966.\n",
      "[I 2024-08-04 17:39:33,021] Trial 30 finished with value: 0.9848404195591957 and parameters: {'xgb_weight': 3.326158675656696, 'lgbm_weight': 4.997363870943743, 'histgb_weight': 3.2417457065327273}. Best is trial 7 with value: 0.9848455749486966.\n",
      "[I 2024-08-04 17:39:34,853] Trial 31 finished with value: 0.9848442667042013 and parameters: {'xgb_weight': 3.794162998104003, 'lgbm_weight': 3.4866135433990655, 'histgb_weight': 2.8011198228424625}. Best is trial 7 with value: 0.9848455749486966.\n",
      "[I 2024-08-04 17:39:36,682] Trial 32 finished with value: 0.9848300311160854 and parameters: {'xgb_weight': 3.7473863330478814, 'lgbm_weight': 2.937146998026861, 'histgb_weight': 2.7677672819710946}. Best is trial 7 with value: 0.9848455749486966.\n",
      "[I 2024-08-04 17:39:38,511] Trial 33 finished with value: 0.9848410417112626 and parameters: {'xgb_weight': 3.9895681335468542, 'lgbm_weight': 3.789401187506996, 'histgb_weight': 2.8842791298751576}. Best is trial 7 with value: 0.9848455749486966.\n",
      "[I 2024-08-04 17:39:40,347] Trial 34 finished with value: 0.9848345461144975 and parameters: {'xgb_weight': 3.0238487361326474, 'lgbm_weight': 2.3240653038165053, 'histgb_weight': 4.269217211678406}. Best is trial 7 with value: 0.9848455749486966.\n",
      "[I 2024-08-04 17:39:42,171] Trial 35 finished with value: 0.9848481777652791 and parameters: {'xgb_weight': 3.6147416527472824, 'lgbm_weight': 4.316819908204113, 'histgb_weight': 3.3072609850957564}. Best is trial 35 with value: 0.9848481777652791.\n",
      "[I 2024-08-04 17:39:44,015] Trial 36 finished with value: 0.9848228768606756 and parameters: {'xgb_weight': 4.641912401015881, 'lgbm_weight': 0.16413893681471015, 'histgb_weight': 3.3299172658594096}. Best is trial 35 with value: 0.9848481777652791.\n",
      "[I 2024-08-04 17:39:45,839] Trial 37 finished with value: 0.9848436308286939 and parameters: {'xgb_weight': 4.3452855535428885, 'lgbm_weight': 4.126111253820214, 'histgb_weight': 3.838206221698805}. Best is trial 35 with value: 0.9848481777652791.\n",
      "[I 2024-08-04 17:39:47,659] Trial 38 finished with value: 0.9848481731971951 and parameters: {'xgb_weight': 3.622745433537049, 'lgbm_weight': 4.495105745665292, 'histgb_weight': 3.07096441156877}. Best is trial 35 with value: 0.9848481777652791.\n",
      "[I 2024-08-04 17:39:49,483] Trial 39 finished with value: 0.984839152470727 and parameters: {'xgb_weight': 2.7202143460062, 'lgbm_weight': 4.432294349983032, 'histgb_weight': 3.6169424720479824}. Best is trial 35 with value: 0.9848481777652791.\n",
      "[I 2024-08-04 17:39:51,310] Trial 40 finished with value: 0.984845584080536 and parameters: {'xgb_weight': 3.5383260923144526, 'lgbm_weight': 4.2036489865549305, 'histgb_weight': 3.0743746922203683}. Best is trial 35 with value: 0.9848481777652791.\n",
      "[I 2024-08-04 17:39:53,155] Trial 41 finished with value: 0.9848468740722759 and parameters: {'xgb_weight': 3.5751013713409705, 'lgbm_weight': 4.298658950573102, 'histgb_weight': 3.083292485725171}. Best is trial 35 with value: 0.9848481777652791.\n",
      "[I 2024-08-04 17:39:54,983] Trial 42 finished with value: 0.9848462290761613 and parameters: {'xgb_weight': 3.5328643165704605, 'lgbm_weight': 4.2640342838948415, 'histgb_weight': 3.0712814681500906}. Best is trial 35 with value: 0.9848481777652791.\n",
      "[I 2024-08-04 17:39:56,829] Trial 43 finished with value: 0.9848514073097883 and parameters: {'xgb_weight': 4.215683720699657, 'lgbm_weight': 4.69698317531749, 'histgb_weight': 3.091857532142328}. Best is trial 43 with value: 0.9848514073097883.\n",
      "[I 2024-08-04 17:39:58,667] Trial 44 finished with value: 0.9848248802906392 and parameters: {'xgb_weight': 4.659212553253946, 'lgbm_weight': 4.678777780969101, 'histgb_weight': 2.264231197514243}. Best is trial 43 with value: 0.9848514073097883.\n",
      "[I 2024-08-04 17:40:00,481] Trial 45 finished with value: 0.9848352367548048 and parameters: {'xgb_weight': 4.979662305750301, 'lgbm_weight': 4.910045486629635, 'histgb_weight': 3.1023874143441543}. Best is trial 43 with value: 0.9848514073097883.\n",
      "[I 2024-08-04 17:40:02,339] Trial 46 finished with value: 0.9848157955330155 and parameters: {'xgb_weight': 4.27048760099868, 'lgbm_weight': 4.409090578922328, 'histgb_weight': 1.7072384021209825}. Best is trial 43 with value: 0.9848514073097883.\n",
      "[I 2024-08-04 17:40:04,168] Trial 47 finished with value: 0.9848514073097883 and parameters: {'xgb_weight': 3.970157114305972, 'lgbm_weight': 4.671685943719456, 'histgb_weight': 3.1463933470208136}. Best is trial 43 with value: 0.9848514073097883.\n",
      "[I 2024-08-04 17:40:05,992] Trial 48 finished with value: 0.9848481731971951 and parameters: {'xgb_weight': 3.98573238995838, 'lgbm_weight': 4.678189903131763, 'histgb_weight': 3.3402061057416557}. Best is trial 43 with value: 0.9848514073097883.\n",
      "[I 2024-08-04 17:40:07,815] Trial 49 finished with value: 0.9848475190688799 and parameters: {'xgb_weight': 3.9787360895978496, 'lgbm_weight': 4.611824906063958, 'histgb_weight': 3.342565960697027}. Best is trial 43 with value: 0.9848514073097883.\n",
      "[I 2024-08-04 17:40:09,649] Trial 50 finished with value: 0.9848429767055576 and parameters: {'xgb_weight': 4.519505088597741, 'lgbm_weight': 4.749204882108268, 'histgb_weight': 3.584997428214177}. Best is trial 43 with value: 0.9848514073097883.\n",
      "[I 2024-08-04 17:40:11,474] Trial 51 finished with value: 0.9848455703852499 and parameters: {'xgb_weight': 4.057541374024937, 'lgbm_weight': 4.618301649555976, 'histgb_weight': 3.377190976146192}. Best is trial 43 with value: 0.9848514073097883.\n",
      "[I 2024-08-04 17:40:13,330] Trial 52 finished with value: 0.9848481777652791 and parameters: {'xgb_weight': 3.913915865026245, 'lgbm_weight': 4.988671129587823, 'histgb_weight': 3.2925404676311865}. Best is trial 43 with value: 0.9848514073097883.\n",
      "[I 2024-08-04 17:40:15,160] Trial 53 finished with value: 0.9848468786388656 and parameters: {'xgb_weight': 3.8789422425480033, 'lgbm_weight': 4.98692112858197, 'histgb_weight': 3.7761228771198514}. Best is trial 43 with value: 0.9848514073097883.\n",
      "[I 2024-08-04 17:40:16,990] Trial 54 finished with value: 0.9848539872984186 and parameters: {'xgb_weight': 4.234806441475749, 'lgbm_weight': 4.7803808919167246, 'histgb_weight': 3.2467286046480823}. Best is trial 54 with value: 0.9848539872984186.\n",
      "[I 2024-08-04 17:40:18,818] Trial 55 finished with value: 0.9848345871899112 and parameters: {'xgb_weight': 4.212943296363186, 'lgbm_weight': 4.028264575545005, 'histgb_weight': 2.6430224819625283}. Best is trial 54 with value: 0.9848539872984186.\n",
      "[I 2024-08-04 17:40:20,641] Trial 56 finished with value: 0.9848384937392685 and parameters: {'xgb_weight': 3.1463084876554994, 'lgbm_weight': 4.753748285398821, 'histgb_weight': 2.931108417355339}. Best is trial 54 with value: 0.9848539872984186.\n",
      "[I 2024-08-04 17:40:22,493] Trial 57 finished with value: 0.9848384662941386 and parameters: {'xgb_weight': 4.745468646515797, 'lgbm_weight': 4.4817775160784565, 'histgb_weight': 3.1687063302873066}. Best is trial 54 with value: 0.9848539872984186.\n",
      "[I 2024-08-04 17:40:24,319] Trial 58 finished with value: 0.984826165705593 and parameters: {'xgb_weight': 4.512397620140561, 'lgbm_weight': 4.843155745599529, 'histgb_weight': 2.2856027291492076}. Best is trial 54 with value: 0.9848539872984186.\n",
      "[I 2024-08-04 17:40:26,148] Trial 59 finished with value: 0.9848351638122214 and parameters: {'xgb_weight': 3.7230586902968943, 'lgbm_weight': 1.9069696415882245, 'histgb_weight': 2.578448685323906}. Best is trial 54 with value: 0.9848539872984186.\n",
      "[I 2024-08-04 17:40:27,970] Trial 60 finished with value: 0.9848423362699782 and parameters: {'xgb_weight': 4.333426588695252, 'lgbm_weight': 3.956553480814711, 'histgb_weight': 3.505940009279457}. Best is trial 54 with value: 0.9848539872984186.\n",
      "[I 2024-08-04 17:40:29,844] Trial 61 finished with value: 0.9848501127513815 and parameters: {'xgb_weight': 3.993687114822625, 'lgbm_weight': 4.801817581393638, 'histgb_weight': 3.2723784951711155}. Best is trial 54 with value: 0.9848539872984186.\n",
      "[I 2024-08-04 17:40:31,674] Trial 62 finished with value: 0.9848429812676642 and parameters: {'xgb_weight': 4.215296623565511, 'lgbm_weight': 4.366191952740118, 'histgb_weight': 3.2150449333167264}. Best is trial 54 with value: 0.9848539872984186.\n",
      "[I 2024-08-04 17:40:33,529] Trial 63 finished with value: 0.984830072248298 and parameters: {'xgb_weight': 4.860811968326521, 'lgbm_weight': 4.8542936275638375, 'histgb_weight': 2.9328253871433523}. Best is trial 54 with value: 0.9848539872984186.\n",
      "[I 2024-08-04 17:40:35,368] Trial 64 finished with value: 0.984843004102929 and parameters: {'xgb_weight': 3.328300341758283, 'lgbm_weight': 4.471702276833248, 'histgb_weight': 3.5116186398476668}. Best is trial 54 with value: 0.9848539872984186.\n",
      "[I 2024-08-04 17:40:37,195] Trial 65 finished with value: 0.9848429995325787 and parameters: {'xgb_weight': 3.70112523376684, 'lgbm_weight': 4.589625813453693, 'histgb_weight': 4.201759289753103}. Best is trial 54 with value: 0.9848539872984186.\n",
      "[I 2024-08-04 17:40:39,026] Trial 66 finished with value: 0.9848417232663152 and parameters: {'xgb_weight': 2.8828311635387154, 'lgbm_weight': 4.995797818203886, 'histgb_weight': 3.715502008600822}. Best is trial 54 with value: 0.9848539872984186.\n",
      "[I 2024-08-04 17:40:40,860] Trial 67 finished with value: 0.9847796304228577 and parameters: {'xgb_weight': 0.007502149985175954, 'lgbm_weight': 4.185178147834683, 'histgb_weight': 2.3841421042265916}. Best is trial 54 with value: 0.9848539872984186.\n",
      "[I 2024-08-04 17:40:42,709] Trial 68 finished with value: 0.984818384650601 and parameters: {'xgb_weight': 4.522338310520833, 'lgbm_weight': 4.793841403191927, 'histgb_weight': 0.7421120574325268}. Best is trial 54 with value: 0.9848539872984186.\n",
      "[I 2024-08-04 17:40:44,541] Trial 69 finished with value: 0.9848371671673141 and parameters: {'xgb_weight': 4.126572382008488, 'lgbm_weight': 3.9135936952233537, 'histgb_weight': 2.7411652504109183}. Best is trial 54 with value: 0.9848539872984186.\n",
      "[I 2024-08-04 17:40:46,363] Trial 70 finished with value: 0.9848449117042571 and parameters: {'xgb_weight': 3.4208694921743783, 'lgbm_weight': 3.716691733266022, 'histgb_weight': 3.934349280872696}. Best is trial 54 with value: 0.9848539872984186.\n",
      "[I 2024-08-04 17:40:48,202] Trial 71 finished with value: 0.9848488181929748 and parameters: {'xgb_weight': 3.935236276267303, 'lgbm_weight': 4.654170482931132, 'histgb_weight': 3.3218461080147406}. Best is trial 54 with value: 0.9848539872984186.\n",
      "[I 2024-08-04 17:40:50,045] Trial 72 finished with value: 0.9848481595028354 and parameters: {'xgb_weight': 3.9107956148617657, 'lgbm_weight': 4.512313445361165, 'histgb_weight': 3.223304831104563}. Best is trial 54 with value: 0.9848539872984186.\n",
      "[I 2024-08-04 17:40:51,888] Trial 73 finished with value: 0.984845584080536 and parameters: {'xgb_weight': 3.83979799177524, 'lgbm_weight': 4.730017376240347, 'histgb_weight': 2.9864801237212815}. Best is trial 54 with value: 0.9848539872984186.\n",
      "[I 2024-08-04 17:40:53,737] Trial 74 finished with value: 0.9848462290761613 and parameters: {'xgb_weight': 3.713452925061301, 'lgbm_weight': 4.8578789279807015, 'histgb_weight': 3.488408214029963}. Best is trial 54 with value: 0.9848539872984186.\n",
      "[I 2024-08-04 17:40:55,572] Trial 75 finished with value: 0.984841032586586 and parameters: {'xgb_weight': 4.140635222438447, 'lgbm_weight': 4.314458340200403, 'histgb_weight': 3.2739352825986825}. Best is trial 54 with value: 0.9848539872984186.\n",
      "[I 2024-08-04 17:40:57,408] Trial 76 finished with value: 0.9848417049744036 and parameters: {'xgb_weight': 3.4643453928390997, 'lgbm_weight': 4.530161684336468, 'histgb_weight': 3.6577451527656346}. Best is trial 54 with value: 0.9848539872984186.\n",
      "[I 2024-08-04 17:40:59,241] Trial 77 finished with value: 0.9848339604989965 and parameters: {'xgb_weight': 4.444538743014565, 'lgbm_weight': 4.979503454587361, 'histgb_weight': 2.9014336973480193}. Best is trial 54 with value: 0.9848539872984186.\n",
      "[I 2024-08-04 17:41:01,116] Trial 78 finished with value: 0.9848442484794744 and parameters: {'xgb_weight': 4.044831918078753, 'lgbm_weight': 4.16384501058732, 'histgb_weight': 3.3928774427178223}. Best is trial 54 with value: 0.9848539872984186.\n",
      "[I 2024-08-04 17:41:02,988] Trial 79 finished with value: 0.9847756368143463 and parameters: {'xgb_weight': 3.145703966181162, 'lgbm_weight': 0.7736217073922553, 'histgb_weight': 0.0674323224760549}. Best is trial 54 with value: 0.9848539872984186.\n",
      "[I 2024-08-04 17:41:04,829] Trial 80 finished with value: 0.9848365313128256 and parameters: {'xgb_weight': 3.6652638766758128, 'lgbm_weight': 4.66161289106121, 'histgb_weight': 4.0797343021228745}. Best is trial 54 with value: 0.9848539872984186.\n",
      "[I 2024-08-04 17:41:06,668] Trial 81 finished with value: 0.9848449299517575 and parameters: {'xgb_weight': 3.992516417519535, 'lgbm_weight': 4.6878980482908075, 'histgb_weight': 3.8503659027752946}. Best is trial 54 with value: 0.9848539872984186.\n",
      "[I 2024-08-04 17:41:08,511] Trial 82 finished with value: 0.9848410234685041 and parameters: {'xgb_weight': 4.289083191726058, 'lgbm_weight': 4.344031038050932, 'histgb_weight': 3.375700356184059}. Best is trial 54 with value: 0.9848539872984186.\n",
      "[I 2024-08-04 17:41:10,362] Trial 83 finished with value: 0.9848488273289883 and parameters: {'xgb_weight': 3.8869212168448204, 'lgbm_weight': 4.836838457979377, 'histgb_weight': 3.1962448692159495}. Best is trial 54 with value: 0.9848539872984186.\n",
      "[I 2024-08-04 17:41:12,208] Trial 84 finished with value: 0.9848320438727806 and parameters: {'xgb_weight': 2.5058491948169936, 'lgbm_weight': 4.870882493136399, 'histgb_weight': 3.1332293821600623}. Best is trial 54 with value: 0.9848539872984186.\n",
      "[I 2024-08-04 17:41:14,083] Trial 85 finished with value: 0.9848358224617306 and parameters: {'xgb_weight': 3.8824912816874395, 'lgbm_weight': 2.7066079215488847, 'histgb_weight': 2.997611920941856}. Best is trial 54 with value: 0.9848539872984186.\n",
      "[I 2024-08-04 17:41:15,918] Trial 86 finished with value: 0.984833315509965 and parameters: {'xgb_weight': 4.634842233168338, 'lgbm_weight': 4.615393866141235, 'histgb_weight': 2.816366254509763}. Best is trial 54 with value: 0.9848539872984186.\n",
      "[I 2024-08-04 17:41:17,744] Trial 87 finished with value: 0.9848171541776546 and parameters: {'xgb_weight': 0.8197397128216777, 'lgbm_weight': 4.432734311345104, 'histgb_weight': 2.5975724857312668}. Best is trial 54 with value: 0.9848539872984186.\n",
      "[I 2024-08-04 17:41:19,583] Trial 88 finished with value: 0.9848468877769911 and parameters: {'xgb_weight': 3.6081483268818113, 'lgbm_weight': 4.778912708788703, 'histgb_weight': 3.6403847605154573}. Best is trial 54 with value: 0.9848539872984186.\n",
      "[I 2024-08-04 17:41:21,424] Trial 89 finished with value: 0.9848410234685041 and parameters: {'xgb_weight': 4.1888100906154175, 'lgbm_weight': 4.084983427735711, 'histgb_weight': 3.2051231389874184}. Best is trial 54 with value: 0.9848539872984186.\n",
      "[I 2024-08-04 17:41:23,260] Trial 90 finished with value: 0.9848513981809873 and parameters: {'xgb_weight': 3.804766369555092, 'lgbm_weight': 4.8998421570698145, 'histgb_weight': 3.4439443703615145}. Best is trial 54 with value: 0.9848539872984186.\n",
      "[I 2024-08-04 17:41:25,090] Trial 91 finished with value: 0.984846869507335 and parameters: {'xgb_weight': 3.8243665098121187, 'lgbm_weight': 4.861586830343512, 'histgb_weight': 3.4778152553224677}. Best is trial 54 with value: 0.9848539872984186.\n",
      "[I 2024-08-04 17:41:26,925] Trial 92 finished with value: 0.9848539918616857 and parameters: {'xgb_weight': 3.953028475410375, 'lgbm_weight': 4.584010079145029, 'histgb_weight': 3.0643429049449575}. Best is trial 92 with value: 0.9848539918616857.\n",
      "[I 2024-08-04 17:41:28,762] Trial 93 finished with value: 0.9848552864202469 and parameters: {'xgb_weight': 4.395867484444118, 'lgbm_weight': 4.920222029396174, 'histgb_weight': 3.2890876252605805}. Best is trial 93 with value: 0.9848552864202469.\n",
      "[I 2024-08-04 17:41:30,592] Trial 94 finished with value: 0.9848449482256378 and parameters: {'xgb_weight': 4.368144240175788, 'lgbm_weight': 4.592580337593705, 'histgb_weight': 3.007158196084346}. Best is trial 93 with value: 0.9848552864202469.\n",
      "[I 2024-08-04 17:41:32,488] Trial 95 finished with value: 0.984847523634568 and parameters: {'xgb_weight': 4.036012304705763, 'lgbm_weight': 4.744197492905956, 'histgb_weight': 2.843104264613193}. Best is trial 93 with value: 0.9848552864202469.\n",
      "[I 2024-08-04 17:41:34,326] Trial 96 finished with value: 0.984846869507335 and parameters: {'xgb_weight': 4.251489664852506, 'lgbm_weight': 4.88963724385727, 'histgb_weight': 3.143360274579082}. Best is trial 93 with value: 0.9848552864202469.\n",
      "[I 2024-08-04 17:41:36,150] Trial 97 finished with value: 0.9848442712645049 and parameters: {'xgb_weight': 4.114858406611867, 'lgbm_weight': 4.279357247959774, 'histgb_weight': 3.572208305099605}. Best is trial 93 with value: 0.9848552864202469.\n",
      "[I 2024-08-04 17:41:37,967] Trial 98 finished with value: 0.9848403875876632 and parameters: {'xgb_weight': 4.632282199329687, 'lgbm_weight': 4.397026944363026, 'histgb_weight': 3.40873987137241}. Best is trial 93 with value: 0.9848552864202469.\n",
      "[I 2024-08-04 17:41:39,797] Trial 99 finished with value: 0.9848397380275614 and parameters: {'xgb_weight': 4.852929723913604, 'lgbm_weight': 4.567628800437401, 'histgb_weight': 3.837453523430576}. Best is trial 93 with value: 0.9848552864202469.\n"
     ]
    }
   ],
   "source": [
    "def objective(trial):\n",
    "    xgb_weight = trial.suggest_float('xgb_weight', 0.0, 5.0)\n",
    "    lgbm_weight = trial.suggest_float('lgbm_weight', 0.0, 5.0)\n",
    "    histgb_weight = trial.suggest_float('histgb_weight', 0.0, 5.0)\n",
    "\n",
    "    weights = [\n",
    "        xgb_weight, \n",
    "        lgbm_weight, \n",
    "        histgb_weight, \n",
    "    ]\n",
    "    weights /= np.sum(weights)\n",
    "\n",
    "    pred_probs = np.zeros((X.shape[0], len(np.unique(y))))\n",
    "    for model, weight in zip(oof_pred_probs.keys(), weights):\n",
    "        pred_probs += oof_pred_probs[model] * weight\n",
    "\n",
    "    return matthews_corrcoef(y, np.argmax(pred_probs, axis=1))\n",
    "\n",
    "\n",
    "sampler = TPESampler(seed=SEED)\n",
    "study = optuna.create_study(direction='maximize', sampler=sampler)\n",
    "study.optimize(objective, n_trials=100)\n",
    "\n",
    "best_weights = study.best_params\n",
    "best_weights = [best_weights[f'{model}_weight'] for model in ['xgb', 'lgbm', 'histgb']]\n",
    "best_weights /= np.sum(best_weights)"
   ]
  },
  {
   "cell_type": "code",
   "execution_count": 10,
   "id": "7bc85504",
   "metadata": {
    "execution": {
     "iopub.execute_input": "2024-08-04T17:41:39.829026Z",
     "iopub.status.busy": "2024-08-04T17:41:39.828611Z",
     "iopub.status.idle": "2024-08-04T17:41:39.834249Z",
     "shell.execute_reply": "2024-08-04T17:41:39.832966Z"
    },
    "papermill": {
     "duration": 0.020776,
     "end_time": "2024-08-04T17:41:39.836778",
     "exception": false,
     "start_time": "2024-08-04T17:41:39.816002",
     "status": "completed"
    },
    "tags": []
   },
   "outputs": [
    {
     "name": "stdout",
     "output_type": "stream",
     "text": [
      "[0.34873508 0.39033343 0.26093149]\n"
     ]
    }
   ],
   "source": [
    "print(best_weights)"
   ]
  },
  {
   "cell_type": "markdown",
   "id": "19007183",
   "metadata": {
    "papermill": {
     "duration": 0.01123,
     "end_time": "2024-08-04T17:41:39.860011",
     "exception": false,
     "start_time": "2024-08-04T17:41:39.848781",
     "status": "completed"
    },
    "tags": []
   },
   "source": [
    "# Ensembling OOF Predictions"
   ]
  },
  {
   "cell_type": "code",
   "execution_count": 11,
   "id": "abfd4579",
   "metadata": {
    "execution": {
     "iopub.execute_input": "2024-08-04T17:41:39.884496Z",
     "iopub.status.busy": "2024-08-04T17:41:39.884147Z",
     "iopub.status.idle": "2024-08-04T17:41:41.691065Z",
     "shell.execute_reply": "2024-08-04T17:41:41.689896Z"
    },
    "papermill": {
     "duration": 1.822087,
     "end_time": "2024-08-04T17:41:41.693537",
     "exception": false,
     "start_time": "2024-08-04T17:41:39.871450",
     "status": "completed"
    },
    "tags": []
   },
   "outputs": [],
   "source": [
    "ensemble_oof_pred_probs = np.zeros((X.shape[0], len(np.unique(y))))\n",
    "for model, weight in zip(oof_pred_probs.keys(), best_weights):\n",
    "    ensemble_oof_pred_probs += oof_pred_probs[model] * weight\n",
    "    \n",
    "ensemble_scores = matthews_corrcoef(y, np.argmax(ensemble_oof_pred_probs, axis=1))\n",
    "scores['Ensemble'] = ensemble_scores"
   ]
  },
  {
   "cell_type": "code",
   "execution_count": 12,
   "id": "ebb136eb",
   "metadata": {
    "execution": {
     "iopub.execute_input": "2024-08-04T17:41:41.718545Z",
     "iopub.status.busy": "2024-08-04T17:41:41.717813Z",
     "iopub.status.idle": "2024-08-04T17:41:42.224064Z",
     "shell.execute_reply": "2024-08-04T17:41:42.222784Z"
    },
    "papermill": {
     "duration": 0.52125,
     "end_time": "2024-08-04T17:41:42.226394",
     "exception": false,
     "start_time": "2024-08-04T17:41:41.705144",
     "status": "completed"
    },
    "tags": []
   },
   "outputs": [
    {
     "data": {
      "image/png": "[encoded data removed]",
      "text/plain": [
       "<Figure size 1500x500 with 2 Axes>"
      ]
     },
     "metadata": {},
     "output_type": "display_data"
    }
   ],
   "source": [
    "scores = pd.DataFrame(scores)\n",
    "mean_scores = scores.mean().sort_values(ascending=False)\n",
    "order = scores.mean().sort_values(ascending=False).index.tolist()\n",
    "\n",
    "min_score = mean_scores.min()\n",
    "max_score = mean_scores.max()\n",
    "padding = (max_score - min_score) * 0.5\n",
    "lower_limit = min_score - padding\n",
    "upper_limit = max_score + padding\n",
    "\n",
    "fig, axs = plt.subplots(1, 2, figsize=(15, 5))\n",
    "\n",
    "sns.boxplot(data=scores, order=order, ax=axs[0], orient='h', color='#651FFF')\n",
    "axs[0].set_title('Fold MCC')\n",
    "axs[0].set_xlabel('')\n",
    "axs[0].set_ylabel('')\n",
    "\n",
    "barplot = sns.barplot(x=mean_scores.values, y=mean_scores.index, ax=axs[1], color='#651FFF')\n",
    "axs[1].set_title('Average MCC')\n",
    "axs[1].set_xlabel('')\n",
    "axs[1].set_xlim(left=lower_limit, right=upper_limit)\n",
    "axs[1].set_ylabel('')\n",
    "\n",
    "for i, score in enumerate(mean_scores.values):\n",
    "    barplot.text(score, i, round(score, 6), va='center')\n",
    "\n",
    "plt.tight_layout()\n",
    "plt.show()"
   ]
  },
  {
   "cell_type": "markdown",
   "id": "b389acd8",
   "metadata": {
    "papermill": {
     "duration": 0.011665,
     "end_time": "2024-08-04T17:41:42.250347",
     "exception": false,
     "start_time": "2024-08-04T17:41:42.238682",
     "status": "completed"
    },
    "tags": []
   },
   "source": [
    "# Making Predictions"
   ]
  },
  {
   "cell_type": "code",
   "execution_count": 13,
   "id": "0821ce26",
   "metadata": {
    "execution": {
     "iopub.execute_input": "2024-08-04T17:41:42.281247Z",
     "iopub.status.busy": "2024-08-04T17:41:42.280715Z",
     "iopub.status.idle": "2024-08-04T17:41:42.466586Z",
     "shell.execute_reply": "2024-08-04T17:41:42.465405Z"
    },
    "papermill": {
     "duration": 0.206533,
     "end_time": "2024-08-04T17:41:42.469108",
     "exception": false,
     "start_time": "2024-08-04T17:41:42.262575",
     "status": "completed"
    },
    "tags": []
   },
   "outputs": [],
   "source": [
    "ensemble_test_pred_probs = np.zeros((test.shape[0], len(np.unique(y))))\n",
    "for model, weight in zip(test_pred_probs.keys(), best_weights):\n",
    "    ensemble_test_pred_probs += test_pred_probs[model] * weight"
   ]
  },
  {
   "cell_type": "code",
   "execution_count": 14,
   "id": "51af1090",
   "metadata": {
    "execution": {
     "iopub.execute_input": "2024-08-04T17:41:42.495761Z",
     "iopub.status.busy": "2024-08-04T17:41:42.494728Z",
     "iopub.status.idle": "2024-08-04T17:41:44.689698Z",
     "shell.execute_reply": "2024-08-04T17:41:44.688348Z"
    },
    "papermill": {
     "duration": 2.210633,
     "end_time": "2024-08-04T17:41:44.692198",
     "exception": false,
     "start_time": "2024-08-04T17:41:42.481565",
     "status": "completed"
    },
    "tags": []
   },
   "outputs": [
    {
     "data": {
      "text/html": [
       "<div>\n",
       "<style scoped>\n",
       "    .dataframe tbody tr th:only-of-type {\n",
       "        vertical-align: middle;\n",
       "    }\n",
       "\n",
       "    .dataframe tbody tr th {\n",
       "        vertical-align: top;\n",
       "    }\n",
       "\n",
       "    .dataframe thead th {\n",
       "        text-align: right;\n",
       "    }\n",
       "</style>\n",
       "<table border=\"1\" class=\"dataframe\">\n",
       "  <thead>\n",
       "    <tr style=\"text-align: right;\">\n",
       "      <th></th>\n",
       "      <th>id</th>\n",
       "      <th>class</th>\n",
       "    </tr>\n",
       "  </thead>\n",
       "  <tbody>\n",
       "    <tr>\n",
       "      <th>0</th>\n",
       "      <td>3116945</td>\n",
       "      <td>e</td>\n",
       "    </tr>\n",
       "    <tr>\n",
       "      <th>1</th>\n",
       "      <td>3116946</td>\n",
       "      <td>p</td>\n",
       "    </tr>\n",
       "    <tr>\n",
       "      <th>2</th>\n",
       "      <td>3116947</td>\n",
       "      <td>p</td>\n",
       "    </tr>\n",
       "    <tr>\n",
       "      <th>3</th>\n",
       "      <td>3116948</td>\n",
       "      <td>p</td>\n",
       "    </tr>\n",
       "    <tr>\n",
       "      <th>4</th>\n",
       "      <td>3116949</td>\n",
       "      <td>e</td>\n",
       "    </tr>\n",
       "  </tbody>\n",
       "</table>\n",
       "</div>"
      ],
      "text/plain": [
       "        id class\n",
       "0  3116945     e\n",
       "1  3116946     p\n",
       "2  3116947     p\n",
       "3  3116948     p\n",
       "4  3116949     e"
      ]
     },
     "execution_count": 14,
     "metadata": {},
     "output_type": "execute_result"
    }
   ],
   "source": [
    "sub = pd.read_csv('/kaggle/input/playground-series-s4e8/sample_submission.csv')\n",
    "sub[TARGET] = np.argmax(ensemble_test_pred_probs, axis=1)\n",
    "sub[TARGET] = sub[TARGET].map({0: 'e', 1: 'p'})\n",
    "sub.to_csv(f'sub_ensemble_{np.mean(scores[\"Ensemble\"]):.6f}.csv', index=False)\n",
    "sub.head()"
   ]
  }
 ],
 "metadata": {
  "kaggle": {
   "accelerator": "none",
   "dataSources": [
    {
     "databundleVersionId": 9045607,
     "sourceId": 76727,
     "sourceType": "competition"
    },
    {
     "sourceId": 191022728,
     "sourceType": "kernelVersion"
    },
    {
     "sourceId": 191148095,
     "sourceType": "kernelVersion"
    },
    {
     "sourceId": 191150906,
     "sourceType": "kernelVersion"
    }
   ],
   "dockerImageVersionId": 30746,
   "isGpuEnabled": false,
   "isInternetEnabled": true,
   "language": "python",
   "sourceType": "notebook"
  },
  "kernelspec": {
   "display_name": "Python 3",
   "language": "python",
   "name": "python3"
  },
  "language_info": {
   "codemirror_mode": {
    "name": "ipython",
    "version": 3
   },
   "file_extension": ".py",
   "mimetype": "text/x-python",
   "name": "python",
   "nbconvert_exporter": "python",
   "pygments_lexer": "ipython3",
   "version": "3.10.13"
  },
  "papermill": {
   "default_parameters": {},
   "duration": 223.055136,
   "end_time": "2024-08-04T17:41:45.930350",
   "environment_variables": {},
   "exception": null,
   "input_path": "__notebook__.ipynb",
   "output_path": "__notebook__.ipynb",
   "parameters": {},
   "start_time": "2024-08-04T17:38:02.875214",
   "version": "2.5.0"
  }
 },
 "nbformat": 4,
 "nbformat_minor": 5
}
