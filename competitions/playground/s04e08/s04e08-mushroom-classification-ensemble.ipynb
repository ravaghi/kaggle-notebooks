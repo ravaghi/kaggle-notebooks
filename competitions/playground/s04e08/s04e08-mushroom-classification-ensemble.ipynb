{
 "cells": [
  {
   "cell_type": "markdown",
   "id": "fe871044",
   "metadata": {
    "papermill": {
     "duration": 0.00525,
     "end_time": "2024-08-20T06:54:20.295564",
     "exception": false,
     "start_time": "2024-08-20T06:54:20.290314",
     "status": "completed"
    },
    "tags": []
   },
   "source": [
    "# Imports and Configs"
   ]
  },
  {
   "cell_type": "code",
   "execution_count": 1,
   "id": "3e38b21f",
   "metadata": {
    "_cell_guid": "b1076dfc-b9ad-4769-8c92-a6c4dae69d19",
    "_uuid": "8f2839f25d086af736a60e9eeb907d3b93b6e0e5",
    "execution": {
     "iopub.execute_input": "2024-08-20T06:54:20.306735Z",
     "iopub.status.busy": "2024-08-20T06:54:20.306273Z",
     "iopub.status.idle": "2024-08-20T06:54:23.486200Z",
     "shell.execute_reply": "2024-08-20T06:54:23.484887Z"
    },
    "papermill": {
     "duration": 3.188579,
     "end_time": "2024-08-20T06:54:23.489053",
     "exception": false,
     "start_time": "2024-08-20T06:54:20.300474",
     "status": "completed"
    },
    "tags": []
   },
   "outputs": [],
   "source": [
    "from sklearn.linear_model import LogisticRegression\n",
    "from sklearn.model_selection import StratifiedKFold\n",
    "from sklearn.preprocessing import FunctionTransformer\n",
    "from sklearn.metrics import matthews_corrcoef\n",
    "from sklearn.pipeline import make_pipeline\n",
    "import matplotlib.pyplot as plt\n",
    "from sklearn.base import clone\n",
    "import seaborn as sns\n",
    "import pandas as pd\n",
    "import numpy as np\n",
    "import warnings\n",
    "import pickle\n",
    "import optuna\n",
    "import scipy\n",
    "import glob\n",
    "import gc\n",
    "\n",
    "warnings.filterwarnings('ignore')"
   ]
  },
  {
   "cell_type": "code",
   "execution_count": 2,
   "id": "5294edf8",
   "metadata": {
    "execution": {
     "iopub.execute_input": "2024-08-20T06:54:23.500134Z",
     "iopub.status.busy": "2024-08-20T06:54:23.499598Z",
     "iopub.status.idle": "2024-08-20T06:54:23.504997Z",
     "shell.execute_reply": "2024-08-20T06:54:23.503785Z"
    },
    "papermill": {
     "duration": 0.013578,
     "end_time": "2024-08-20T06:54:23.507319",
     "exception": false,
     "start_time": "2024-08-20T06:54:23.493741",
     "status": "completed"
    },
    "tags": []
   },
   "outputs": [],
   "source": [
    "SEED = 6\n",
    "N_FOLDS = 5\n",
    "TARGET = 'class'\n",
    "THRESHOLD = 0.5"
   ]
  },
  {
   "cell_type": "markdown",
   "id": "0a629926",
   "metadata": {
    "papermill": {
     "duration": 0.004584,
     "end_time": "2024-08-20T06:54:23.516551",
     "exception": false,
     "start_time": "2024-08-20T06:54:23.511967",
     "status": "completed"
    },
    "tags": []
   },
   "source": [
    "# Loading Data"
   ]
  },
  {
   "cell_type": "code",
   "execution_count": 3,
   "id": "b838c082",
   "metadata": {
    "execution": {
     "iopub.execute_input": "2024-08-20T06:54:23.528817Z",
     "iopub.status.busy": "2024-08-20T06:54:23.527768Z",
     "iopub.status.idle": "2024-08-20T06:54:42.330396Z",
     "shell.execute_reply": "2024-08-20T06:54:42.329013Z"
    },
    "papermill": {
     "duration": 18.811471,
     "end_time": "2024-08-20T06:54:42.333008",
     "exception": false,
     "start_time": "2024-08-20T06:54:23.521537",
     "status": "completed"
    },
    "tags": []
   },
   "outputs": [],
   "source": [
    "train = pd.read_csv('/kaggle/input/playground-series-s4e8/train.csv', index_col='id')\n",
    "test = pd.read_csv('/kaggle/input/playground-series-s4e8/test.csv', index_col='id')\n",
    "\n",
    "X = train.drop(columns=[TARGET])\n",
    "y = train[TARGET].map({'e': 0, 'p': 1})"
   ]
  },
  {
   "cell_type": "code",
   "execution_count": 4,
   "id": "d1b2fadf",
   "metadata": {
    "execution": {
     "iopub.execute_input": "2024-08-20T06:54:42.344886Z",
     "iopub.status.busy": "2024-08-20T06:54:42.343654Z",
     "iopub.status.idle": "2024-08-20T06:54:42.353096Z",
     "shell.execute_reply": "2024-08-20T06:54:42.351725Z"
    },
    "papermill": {
     "duration": 0.018104,
     "end_time": "2024-08-20T06:54:42.355860",
     "exception": false,
     "start_time": "2024-08-20T06:54:42.337756",
     "status": "completed"
    },
    "tags": []
   },
   "outputs": [],
   "source": [
    "def get_data(model_name):\n",
    "    oof_pred_probs_files = glob.glob(f'/kaggle/input/s04e08-mushroom-classification-{model_name}/*_oof_pred_probs_*.pkl')\n",
    "    test_pred_probs_files = glob.glob(f'/kaggle/input/s04e08-mushroom-classification-{model_name}/*_test_pred_probs_*.pkl')\n",
    "\n",
    "    oof_pred_probs = pickle.load(open(oof_pred_probs_files[0], 'rb'))\n",
    "    test_pred_probs = pickle.load(open(test_pred_probs_files[0], 'rb'))\n",
    "    \n",
    "    scores = []\n",
    "    skf = StratifiedKFold(n_splits=N_FOLDS, random_state=SEED, shuffle=True)\n",
    "    for _, val_idx in skf.split(X, y):\n",
    "        y_val = y[val_idx]\n",
    "        y_pred_probs = oof_pred_probs[val_idx]          \n",
    "        score = matthews_corrcoef(y_val, np.argmax(y_pred_probs, axis=1))\n",
    "        scores.append(score)\n",
    "        \n",
    "    if isinstance(test_pred_probs, pd.DataFrame):\n",
    "        return oof_pred_probs[:, 1], test_pred_probs.values[:, 1], scores\n",
    "    \n",
    "    return oof_pred_probs[:, 1], test_pred_probs[:, 1], scores"
   ]
  },
  {
   "cell_type": "markdown",
   "id": "d9422651",
   "metadata": {
    "papermill": {
     "duration": 0.00435,
     "end_time": "2024-08-20T06:54:42.365195",
     "exception": false,
     "start_time": "2024-08-20T06:54:42.360845",
     "status": "completed"
    },
    "tags": []
   },
   "source": [
    "# Loading OOF Predictions"
   ]
  },
  {
   "cell_type": "code",
   "execution_count": 5,
   "id": "ef866df7",
   "metadata": {
    "execution": {
     "iopub.execute_input": "2024-08-20T06:54:42.376132Z",
     "iopub.status.busy": "2024-08-20T06:54:42.375759Z",
     "iopub.status.idle": "2024-08-20T06:54:42.381097Z",
     "shell.execute_reply": "2024-08-20T06:54:42.379968Z"
    },
    "papermill": {
     "duration": 0.013526,
     "end_time": "2024-08-20T06:54:42.383375",
     "exception": false,
     "start_time": "2024-08-20T06:54:42.369849",
     "status": "completed"
    },
    "tags": []
   },
   "outputs": [],
   "source": [
    "test_pred_probs = {}\n",
    "oof_pred_probs = {}\n",
    "scores = {}\n",
    "\n",
    "model_folder_mappings = {\n",
    "    'AutoGluon':        'ag-5-fold',\n",
    "    'XGBoost':          'xgboost',\n",
    "    'LightGBM':         'lightgbm',\n",
    "    'HistGB':           'histgb',\n",
    "    'KerasANN':         'neural-networks'\n",
    "}"
   ]
  },
  {
   "cell_type": "code",
   "execution_count": 6,
   "id": "4666d18b",
   "metadata": {
    "execution": {
     "iopub.execute_input": "2024-08-20T06:54:42.394562Z",
     "iopub.status.busy": "2024-08-20T06:54:42.394193Z",
     "iopub.status.idle": "2024-08-20T06:55:00.324100Z",
     "shell.execute_reply": "2024-08-20T06:55:00.322876Z"
    },
    "papermill": {
     "duration": 17.938974,
     "end_time": "2024-08-20T06:55:00.327187",
     "exception": false,
     "start_time": "2024-08-20T06:54:42.388213",
     "status": "completed"
    },
    "tags": []
   },
   "outputs": [],
   "source": [
    "for model_name, folder_name in model_folder_mappings.items():\n",
    "    oof_pred_probs[model_name], test_pred_probs[model_name], scores[model_name] = get_data(folder_name)"
   ]
  },
  {
   "cell_type": "markdown",
   "id": "c25e3bf8",
   "metadata": {
    "papermill": {
     "duration": 0.004582,
     "end_time": "2024-08-20T06:55:00.336606",
     "exception": false,
     "start_time": "2024-08-20T06:55:00.332024",
     "status": "completed"
    },
    "tags": []
   },
   "source": [
    "# Stacking With Logistic Regression"
   ]
  },
  {
   "cell_type": "code",
   "execution_count": 7,
   "id": "c4f63a10",
   "metadata": {
    "execution": {
     "iopub.execute_input": "2024-08-20T06:55:00.347585Z",
     "iopub.status.busy": "2024-08-20T06:55:00.347218Z",
     "iopub.status.idle": "2024-08-20T06:55:00.360986Z",
     "shell.execute_reply": "2024-08-20T06:55:00.359587Z"
    },
    "papermill": {
     "duration": 0.022249,
     "end_time": "2024-08-20T06:55:00.363485",
     "exception": false,
     "start_time": "2024-08-20T06:55:00.341236",
     "status": "completed"
    },
    "tags": []
   },
   "outputs": [],
   "source": [
    "class Trainer:\n",
    "    def __init__(self, model, n_folds=N_FOLDS, threshold=THRESHOLD):\n",
    "        self.model = model\n",
    "        self.n_folds = n_folds\n",
    "        self.threshold = threshold\n",
    "\n",
    "    def fit_predict(self, X, y, X_test):\n",
    "        print('Training Ensemble\\n')\n",
    "        \n",
    "        scores = []\n",
    "        coeffs = np.zeros((1, X.shape[1]))\n",
    "        test_pred_probs = np.zeros((X_test.shape[0], len(np.unique(y))))\n",
    "        oof_pred_probs = np.zeros((X.shape[0], len(np.unique(y))))\n",
    "        \n",
    "        skf = StratifiedKFold(n_splits=self.n_folds, random_state=SEED, shuffle=True)\n",
    "        for fold_idx, (train_idx, val_idx) in enumerate(skf.split(X, y)):\n",
    "            X_train, X_val = X[train_idx], X[val_idx]\n",
    "            y_train, y_val = y[train_idx], y[val_idx]\n",
    "            \n",
    "            model = clone(self.model)\n",
    "            model.fit(X_train, y_train)\n",
    "            \n",
    "            y_pred_probs = model.predict_proba(X_val)  \n",
    "            oof_pred_probs[val_idx] = y_pred_probs\n",
    "            y_preds = y_pred_probs[:, 1] >= self.threshold\n",
    "            \n",
    "            temp_test_pred_probs = model.predict_proba(X_test)\n",
    "            test_pred_probs += temp_test_pred_probs / self.n_folds\n",
    "            \n",
    "            coeffs += model[-1].coef_ / self.n_folds\n",
    "            \n",
    "            score = matthews_corrcoef(y_val, y_preds)\n",
    "            scores.append(score)\n",
    "            \n",
    "            del model, X_train, y_train, X_val, y_val, y_pred_probs\n",
    "            gc.collect()\n",
    "            \n",
    "            print(f'--- Fold {fold_idx + 1} - MCC: {score:.6f}')\n",
    "            \n",
    "        print(f'\\n------ Average MCC: {np.mean(scores):.6f} ± {np.std(scores):.6f}')\n",
    "        \n",
    "        self._save_submission(test_pred_probs, np.mean(scores))\n",
    "        \n",
    "        return scores, oof_pred_probs, coeffs\n",
    "    \n",
    "    def _save_submission(self, test_pred_probs, score):\n",
    "        name = 'ensemble'\n",
    "        sub = pd.read_csv('/kaggle/input/playground-series-s4e8/sample_submission.csv')\n",
    "        sub[TARGET] = test_pred_probs[:, 1] >= THRESHOLD\n",
    "        sub[TARGET] = sub[TARGET].map({False: 'e', True: 'p'})\n",
    "        sub.to_csv(f'sub_{name}_{score:.6f}.csv', index=False)"
   ]
  },
  {
   "cell_type": "code",
   "execution_count": 8,
   "id": "19be8c1d",
   "metadata": {
    "execution": {
     "iopub.execute_input": "2024-08-20T06:55:00.375689Z",
     "iopub.status.busy": "2024-08-20T06:55:00.375205Z",
     "iopub.status.idle": "2024-08-20T06:55:00.914747Z",
     "shell.execute_reply": "2024-08-20T06:55:00.913407Z"
    },
    "papermill": {
     "duration": 0.549117,
     "end_time": "2024-08-20T06:55:00.917526",
     "exception": false,
     "start_time": "2024-08-20T06:55:00.368409",
     "status": "completed"
    },
    "tags": []
   },
   "outputs": [],
   "source": [
    "X = np.column_stack(list(oof_pred_probs.values())).astype(np.float64).clip(1e-15, 1-1e-15)\n",
    "X_test = np.column_stack(list(test_pred_probs.values())).astype(np.float64).clip(1e-15, 1-1e-15)"
   ]
  },
  {
   "cell_type": "code",
   "execution_count": 9,
   "id": "c5efb002",
   "metadata": {
    "execution": {
     "iopub.execute_input": "2024-08-20T06:55:00.929131Z",
     "iopub.status.busy": "2024-08-20T06:55:00.928757Z",
     "iopub.status.idle": "2024-08-20T06:55:50.942769Z",
     "shell.execute_reply": "2024-08-20T06:55:50.941534Z"
    },
    "papermill": {
     "duration": 50.022719,
     "end_time": "2024-08-20T06:55:50.945419",
     "exception": false,
     "start_time": "2024-08-20T06:55:00.922700",
     "status": "completed"
    },
    "tags": []
   },
   "outputs": [
    {
     "name": "stdout",
     "output_type": "stream",
     "text": [
      "Training Ensemble\n",
      "\n",
      "--- Fold 1 - MCC: 0.984798\n",
      "--- Fold 2 - MCC: 0.985246\n",
      "--- Fold 3 - MCC: 0.984805\n",
      "--- Fold 4 - MCC: 0.984907\n",
      "--- Fold 5 - MCC: 0.985009\n",
      "\n",
      "------ Average MCC: 0.984953 ± 0.000166\n"
     ]
    }
   ],
   "source": [
    "model = make_pipeline(FunctionTransformer(scipy.special.logit), LogisticRegression(max_iter=500))\n",
    "\n",
    "trainer = Trainer(model)\n",
    "ensemble_scores, ensemble_oof_pred_probs, coeffs = trainer.fit_predict(X, y, X_test)\n",
    "scores['Ensemble'] = ensemble_scores"
   ]
  },
  {
   "cell_type": "code",
   "execution_count": 10,
   "id": "ea6815c6",
   "metadata": {
    "execution": {
     "iopub.execute_input": "2024-08-20T06:55:50.959109Z",
     "iopub.status.busy": "2024-08-20T06:55:50.958728Z",
     "iopub.status.idle": "2024-08-20T06:55:51.302061Z",
     "shell.execute_reply": "2024-08-20T06:55:51.300929Z"
    },
    "papermill": {
     "duration": 0.353265,
     "end_time": "2024-08-20T06:55:51.304796",
     "exception": false,
     "start_time": "2024-08-20T06:55:50.951531",
     "status": "completed"
    },
    "tags": []
   },
   "outputs": [
    {
     "data": {
      "image/png": "[encoded data removed]",
      "text/plain": [
       "<Figure size 1200x500 with 1 Axes>"
      ]
     },
     "metadata": {},
     "output_type": "display_data"
    }
   ],
   "source": [
    "sorted_indices = np.argsort(np.abs(coeffs[0]))[::-1]\n",
    "sorted_coeffs = np.array(coeffs[0])[sorted_indices]\n",
    "sorted_model_names = np.array(list(oof_pred_probs.keys()))[sorted_indices]\n",
    "\n",
    "plt.figure(figsize=(12, 5))\n",
    "ax = sns.barplot(x=sorted_coeffs, y=sorted_model_names, color='#651FFF')\n",
    "\n",
    "for i, (value, name) in enumerate(zip(sorted_coeffs, sorted_model_names)):\n",
    "    if value > 0:\n",
    "        ax.text(value, i, f'{value:.3f}', va='center', ha='left', color='black')\n",
    "    else:\n",
    "        ax.text(value, i, f'{value:.3f}', va='center', ha='right', color='black')\n",
    "\n",
    "xlim = ax.get_xlim()\n",
    "ax.set_xlim(xlim[0] - 0.1 * abs(xlim[0]), xlim[1] + 0.1 * abs(xlim[1]))       \n",
    "plt.title('Model Coefficients')\n",
    "plt.xlabel('')\n",
    "plt.ylabel('')\n",
    "\n",
    "plt.tight_layout()\n",
    "plt.show()"
   ]
  },
  {
   "cell_type": "markdown",
   "id": "7da2983d",
   "metadata": {
    "papermill": {
     "duration": 0.006569,
     "end_time": "2024-08-20T06:55:51.317433",
     "exception": false,
     "start_time": "2024-08-20T06:55:51.310864",
     "status": "completed"
    },
    "tags": []
   },
   "source": [
    "# Optimizing Threshold"
   ]
  },
  {
   "cell_type": "code",
   "execution_count": 11,
   "id": "ee8927c3",
   "metadata": {
    "_kg_hide-output": true,
    "execution": {
     "iopub.execute_input": "2024-08-20T06:55:51.331171Z",
     "iopub.status.busy": "2024-08-20T06:55:51.330782Z",
     "iopub.status.idle": "2024-08-20T06:58:29.561872Z",
     "shell.execute_reply": "2024-08-20T06:58:29.560697Z"
    },
    "papermill": {
     "duration": 158.241065,
     "end_time": "2024-08-20T06:58:29.564687",
     "exception": false,
     "start_time": "2024-08-20T06:55:51.323622",
     "status": "completed"
    },
    "scrolled": true,
    "tags": []
   },
   "outputs": [
    {
     "name": "stderr",
     "output_type": "stream",
     "text": [
      "[I 2024-08-20 06:55:51,333] A new study created in memory with name: no-name-e450d8b2-c248-4913-ad62-13e998b4f74c\n",
      "[I 2024-08-20 06:55:53,921] Trial 2 finished with value: 0.9835591771671226 and parameters: {'threshold': 0.779}. Best is trial 2 with value: 0.9835591771671226.\n",
      "[I 2024-08-20 06:55:53,931] Trial 0 finished with value: 0.9761303137796981 and parameters: {'threshold': 0.08}. Best is trial 2 with value: 0.9835591771671226.\n",
      "[I 2024-08-20 06:55:53,936] Trial 3 finished with value: 0.9796038362060275 and parameters: {'threshold': 0.908}. Best is trial 2 with value: 0.9835591771671226.\n",
      "[I 2024-08-20 06:55:53,939] Trial 1 finished with value: 0.9849524010947234 and parameters: {'threshold': 0.497}. Best is trial 1 with value: 0.9849524010947234.\n",
      "[I 2024-08-20 06:55:56,457] Trial 4 finished with value: 0.9833263635845529 and parameters: {'threshold': 0.795}. Best is trial 1 with value: 0.9849524010947234.\n",
      "[I 2024-08-20 06:55:56,474] Trial 6 finished with value: 0.9838175523962795 and parameters: {'threshold': 0.758}. Best is trial 1 with value: 0.9849524010947234.\n",
      "[I 2024-08-20 06:55:56,480] Trial 7 finished with value: 0.972092653738611 and parameters: {'threshold': 0.06}. Best is trial 1 with value: 0.9849524010947234.\n",
      "[I 2024-08-20 06:55:56,483] Trial 5 finished with value: 0.9849531606013076 and parameters: {'threshold': 0.5}. Best is trial 5 with value: 0.9849531606013076.\n",
      "[I 2024-08-20 06:55:58,905] Trial 8 finished with value: 0.9841953384237165 and parameters: {'threshold': 0.28700000000000003}. Best is trial 5 with value: 0.9849531606013076.\n",
      "[I 2024-08-20 06:55:58,950] Trial 10 finished with value: 0.9849237070852014 and parameters: {'threshold': 0.456}. Best is trial 5 with value: 0.9849531606013076.\n",
      "[I 2024-08-20 06:55:59,045] Trial 9 finished with value: 0.9831574537434797 and parameters: {'threshold': 0.20600000000000002}. Best is trial 5 with value: 0.9849531606013076.\n",
      "[I 2024-08-20 06:55:59,055] Trial 11 finished with value: 0.9811750255073605 and parameters: {'threshold': 0.879}. Best is trial 5 with value: 0.9849531606013076.\n",
      "[I 2024-08-20 06:56:01,400] Trial 13 finished with value: 0.9842550391710735 and parameters: {'threshold': 0.295}. Best is trial 5 with value: 0.9849531606013076.\n",
      "[I 2024-08-20 06:56:01,414] Trial 12 finished with value: 0.9849400708484529 and parameters: {'threshold': 0.542}. Best is trial 5 with value: 0.9849531606013076.\n",
      "[I 2024-08-20 06:56:01,483] Trial 14 finished with value: 0.9849481680355744 and parameters: {'threshold': 0.535}. Best is trial 5 with value: 0.9849531606013076.\n",
      "[I 2024-08-20 06:56:01,523] Trial 15 finished with value: 0.9849232077654292 and parameters: {'threshold': 0.556}. Best is trial 5 with value: 0.9849531606013076.\n",
      "[I 2024-08-20 06:56:03,819] Trial 16 finished with value: 0.9848798262038437 and parameters: {'threshold': 0.582}. Best is trial 5 with value: 0.9849531606013076.\n",
      "[I 2024-08-20 06:56:03,880] Trial 17 finished with value: 0.9849025959375818 and parameters: {'threshold': 0.5720000000000001}. Best is trial 5 with value: 0.9849531606013076.\n",
      "[I 2024-08-20 06:56:03,913] Trial 18 finished with value: 0.9847804909831986 and parameters: {'threshold': 0.622}. Best is trial 5 with value: 0.9849531606013076.\n",
      "[I 2024-08-20 06:56:03,976] Trial 19 finished with value: 0.9848478142261513 and parameters: {'threshold': 0.41300000000000003}. Best is trial 5 with value: 0.9849531606013076.\n",
      "[I 2024-08-20 06:56:06,176] Trial 20 finished with value: 0.984830156612268 and parameters: {'threshold': 0.40700000000000003}. Best is trial 5 with value: 0.9849531606013076.\n",
      "[I 2024-08-20 06:56:06,267] Trial 22 finished with value: 0.9847973322238549 and parameters: {'threshold': 0.392}. Best is trial 5 with value: 0.9849531606013076.\n",
      "[I 2024-08-20 06:56:06,284] Trial 21 finished with value: 0.9848517518388132 and parameters: {'threshold': 0.41500000000000004}. Best is trial 5 with value: 0.9849531606013076.\n",
      "[I 2024-08-20 06:56:06,352] Trial 23 finished with value: 0.9847790871027645 and parameters: {'threshold': 0.388}. Best is trial 5 with value: 0.9849531606013076.\n",
      "[I 2024-08-20 06:56:08,578] Trial 24 finished with value: 0.9844553942341902 and parameters: {'threshold': 0.683}. Best is trial 5 with value: 0.9849531606013076.\n",
      "[I 2024-08-20 06:56:08,668] Trial 25 finished with value: 0.9845277073376479 and parameters: {'threshold': 0.672}. Best is trial 5 with value: 0.9849531606013076.\n",
      "[I 2024-08-20 06:56:08,759] Trial 26 finished with value: 0.9847139778817197 and parameters: {'threshold': 0.634}. Best is trial 5 with value: 0.9849531606013076.\n",
      "[I 2024-08-20 06:56:08,818] Trial 27 finished with value: 0.9844465816357434 and parameters: {'threshold': 0.686}. Best is trial 5 with value: 0.9849531606013076.\n",
      "[I 2024-08-20 06:56:10,953] Trial 28 finished with value: 0.9842973818992832 and parameters: {'threshold': 0.704}. Best is trial 5 with value: 0.9849531606013076.\n",
      "[I 2024-08-20 06:56:11,062] Trial 29 finished with value: 0.9849467530255306 and parameters: {'threshold': 0.485}. Best is trial 5 with value: 0.9849531606013076.\n",
      "[I 2024-08-20 06:56:11,217] Trial 30 finished with value: 0.9849656418291731 and parameters: {'threshold': 0.504}. Best is trial 30 with value: 0.9849656418291731.\n",
      "[I 2024-08-20 06:56:11,260] Trial 31 finished with value: 0.9849541281741123 and parameters: {'threshold': 0.491}. Best is trial 30 with value: 0.9849656418291731.\n",
      "[I 2024-08-20 06:56:13,417] Trial 32 finished with value: 0.9849541506049418 and parameters: {'threshold': 0.492}. Best is trial 30 with value: 0.9849656418291731.\n",
      "[I 2024-08-20 06:56:13,452] Trial 33 finished with value: 0.7844750262567523 and parameters: {'threshold': 0.995}. Best is trial 30 with value: 0.9849656418291731.\n",
      "[I 2024-08-20 06:56:13,668] Trial 34 finished with value: 0.9842128481042808 and parameters: {'threshold': 0.289}. Best is trial 30 with value: 0.9849656418291731.\n",
      "[I 2024-08-20 06:56:13,680] Trial 35 finished with value: 0.984358916835353 and parameters: {'threshold': 0.311}. Best is trial 30 with value: 0.9849656418291731.\n",
      "[I 2024-08-20 06:56:15,871] Trial 36 finished with value: 0.984347894216048 and parameters: {'threshold': 0.31}. Best is trial 30 with value: 0.9849656418291731.\n",
      "[I 2024-08-20 06:56:15,880] Trial 37 finished with value: 0.9839172735087451 and parameters: {'threshold': 0.26}. Best is trial 30 with value: 0.9849656418291731.\n",
      "[I 2024-08-20 06:56:16,279] Trial 39 finished with value: 0.9849422669120033 and parameters: {'threshold': 0.468}. Best is trial 30 with value: 0.9849656418291731.\n",
      "[I 2024-08-20 06:56:16,280] Trial 38 finished with value: 0.9845173217052055 and parameters: {'threshold': 0.329}. Best is trial 30 with value: 0.9849656418291731.\n",
      "[I 2024-08-20 06:56:18,364] Trial 40 finished with value: 0.9819209864809281 and parameters: {'threshold': 0.159}. Best is trial 30 with value: 0.9849656418291731.\n",
      "[I 2024-08-20 06:56:18,388] Trial 41 finished with value: 0.9803023832076702 and parameters: {'threshold': 0.124}. Best is trial 30 with value: 0.9849656418291731.\n",
      "[I 2024-08-20 06:56:18,824] Trial 43 finished with value: 0.9802502244991 and parameters: {'threshold': 0.123}. Best is trial 30 with value: 0.9849656418291731.\n",
      "[I 2024-08-20 06:56:18,868] Trial 42 finished with value: 0.9799714784425538 and parameters: {'threshold': 0.11800000000000001}. Best is trial 30 with value: 0.9849656418291731.\n",
      "[I 2024-08-20 06:56:21,284] Trial 45 finished with value: 0.9849578697029844 and parameters: {'threshold': 0.52}. Best is trial 30 with value: 0.9849656418291731.\n",
      "[I 2024-08-20 06:56:21,423] Trial 44 finished with value: 0.9849634264051682 and parameters: {'threshold': 0.514}. Best is trial 30 with value: 0.9849656418291731.\n",
      "[I 2024-08-20 06:56:21,679] Trial 46 finished with value: 0.9849634264051682 and parameters: {'threshold': 0.514}. Best is trial 30 with value: 0.9849656418291731.\n",
      "[I 2024-08-20 06:56:21,899] Trial 47 finished with value: 0.9849531606013076 and parameters: {'threshold': 0.5}. Best is trial 30 with value: 0.9849656418291731.\n",
      "[I 2024-08-20 06:56:23,690] Trial 48 finished with value: 0.984964812343434 and parameters: {'threshold': 0.516}. Best is trial 30 with value: 0.9849656418291731.\n",
      "[I 2024-08-20 06:56:23,820] Trial 49 finished with value: 0.9849582910833881 and parameters: {'threshold': 0.53}. Best is trial 30 with value: 0.9849656418291731.\n",
      "[I 2024-08-20 06:56:24,089] Trial 50 finished with value: 0.9849547487020044 and parameters: {'threshold': 0.523}. Best is trial 30 with value: 0.9849656418291731.\n",
      "[I 2024-08-20 06:56:24,309] Trial 51 finished with value: 0.9840113699359464 and parameters: {'threshold': 0.74}. Best is trial 30 with value: 0.9849656418291731.\n",
      "[I 2024-08-20 06:56:26,104] Trial 52 finished with value: 0.9847911338967196 and parameters: {'threshold': 0.617}. Best is trial 30 with value: 0.9849656418291731.\n",
      "[I 2024-08-20 06:56:26,228] Trial 53 finished with value: 0.9848343981535589 and parameters: {'threshold': 0.603}. Best is trial 30 with value: 0.9849656418291731.\n",
      "[I 2024-08-20 06:56:26,544] Trial 54 finished with value: 0.9848343981535589 and parameters: {'threshold': 0.603}. Best is trial 30 with value: 0.9849656418291731.\n",
      "[I 2024-08-20 06:56:26,750] Trial 55 finished with value: 0.9848685614426873 and parameters: {'threshold': 0.589}. Best is trial 30 with value: 0.9849656418291731.\n",
      "[I 2024-08-20 06:56:28,551] Trial 56 finished with value: 0.9849065329407664 and parameters: {'threshold': 0.446}. Best is trial 30 with value: 0.9849656418291731.\n",
      "[I 2024-08-20 06:56:28,642] Trial 57 finished with value: 0.9848999757431648 and parameters: {'threshold': 0.443}. Best is trial 30 with value: 0.9849656418291731.\n",
      "[I 2024-08-20 06:56:29,023] Trial 58 finished with value: 0.984648722873751 and parameters: {'threshold': 0.355}. Best is trial 30 with value: 0.9849656418291731.\n",
      "[I 2024-08-20 06:56:29,191] Trial 59 finished with value: 0.9849078544763731 and parameters: {'threshold': 0.447}. Best is trial 30 with value: 0.9849656418291731.\n",
      "[I 2024-08-20 06:56:31,019] Trial 60 finished with value: 0.9849400708484529 and parameters: {'threshold': 0.542}. Best is trial 30 with value: 0.9849656418291731.\n",
      "[I 2024-08-20 06:56:31,029] Trial 61 finished with value: 0.7735516676281362 and parameters: {'threshold': 0.008}. Best is trial 30 with value: 0.9849656418291731.\n",
      "[I 2024-08-20 06:56:31,461] Trial 62 finished with value: 0.9849319375972484 and parameters: {'threshold': 0.548}. Best is trial 30 with value: 0.9849656418291731.\n",
      "[I 2024-08-20 06:56:31,606] Trial 63 finished with value: 0.9849500664689829 and parameters: {'threshold': 0.534}. Best is trial 30 with value: 0.9849656418291731.\n",
      "[I 2024-08-20 06:56:33,522] Trial 65 finished with value: 0.984941580209263 and parameters: {'threshold': 0.547}. Best is trial 30 with value: 0.9849656418291731.\n",
      "[I 2024-08-20 06:56:33,540] Trial 64 finished with value: 0.9849565996339229 and parameters: {'threshold': 0.521}. Best is trial 30 with value: 0.9849656418291731.\n",
      "[I 2024-08-20 06:56:33,946] Trial 66 finished with value: 0.9849610694150832 and parameters: {'threshold': 0.519}. Best is trial 30 with value: 0.9849656418291731.\n",
      "[I 2024-08-20 06:56:34,057] Trial 67 finished with value: 0.9849183019061596 and parameters: {'threshold': 0.561}. Best is trial 30 with value: 0.9849656418291731.\n",
      "[I 2024-08-20 06:56:35,982] Trial 68 finished with value: 0.9849560038677396 and parameters: {'threshold': 0.522}. Best is trial 30 with value: 0.9849656418291731.\n",
      "[I 2024-08-20 06:56:36,032] Trial 69 finished with value: 0.98464157638588 and parameters: {'threshold': 0.354}. Best is trial 30 with value: 0.9849656418291731.\n",
      "[I 2024-08-20 06:56:36,403] Trial 70 finished with value: 0.9846629552696131 and parameters: {'threshold': 0.645}. Best is trial 30 with value: 0.9849656418291731.\n",
      "[I 2024-08-20 06:56:36,496] Trial 71 finished with value: 0.9846806162208452 and parameters: {'threshold': 0.362}. Best is trial 30 with value: 0.9849656418291731.\n",
      "[I 2024-08-20 06:56:38,378] Trial 72 finished with value: 0.9846884355869437 and parameters: {'threshold': 0.364}. Best is trial 30 with value: 0.9849656418291731.\n",
      "[I 2024-08-20 06:56:38,485] Trial 73 finished with value: 0.9845985995764331 and parameters: {'threshold': 0.66}. Best is trial 30 with value: 0.9849656418291731.\n",
      "[I 2024-08-20 06:56:38,846] Trial 74 finished with value: 0.9849638477670802 and parameters: {'threshold': 0.508}. Best is trial 30 with value: 0.9849656418291731.\n",
      "[I 2024-08-20 06:56:38,942] Trial 75 finished with value: 0.9848851400845796 and parameters: {'threshold': 0.425}. Best is trial 30 with value: 0.9849656418291731.\n",
      "[I 2024-08-20 06:56:40,773] Trial 76 finished with value: 0.9849402072349341 and parameters: {'threshold': 0.465}. Best is trial 30 with value: 0.9849656418291731.\n",
      "[I 2024-08-20 06:56:40,942] Trial 77 finished with value: 0.9848811298192486 and parameters: {'threshold': 0.422}. Best is trial 30 with value: 0.9849656418291731.\n",
      "[I 2024-08-20 06:56:41,286] Trial 78 finished with value: 0.9848851400845796 and parameters: {'threshold': 0.425}. Best is trial 30 with value: 0.9849656418291731.\n",
      "[I 2024-08-20 06:56:41,380] Trial 79 finished with value: 0.9848849347343095 and parameters: {'threshold': 0.581}. Best is trial 30 with value: 0.9849656418291731.\n",
      "[I 2024-08-20 06:56:43,201] Trial 80 finished with value: 0.9848886460037084 and parameters: {'threshold': 0.578}. Best is trial 30 with value: 0.9849656418291731.\n",
      "[I 2024-08-20 06:56:43,434] Trial 81 finished with value: 0.9849025959375818 and parameters: {'threshold': 0.5720000000000001}. Best is trial 30 with value: 0.9849656418291731.\n",
      "[I 2024-08-20 06:56:43,729] Trial 82 finished with value: 0.9848849347343095 and parameters: {'threshold': 0.581}. Best is trial 30 with value: 0.9849656418291731.\n",
      "[I 2024-08-20 06:56:43,834] Trial 83 finished with value: 0.9849467530255306 and parameters: {'threshold': 0.485}. Best is trial 30 with value: 0.9849656418291731.\n",
      "[I 2024-08-20 06:56:45,644] Trial 84 finished with value: 0.9849498622489025 and parameters: {'threshold': 0.498}. Best is trial 30 with value: 0.9849656418291731.\n",
      "[I 2024-08-20 06:56:45,905] Trial 85 finished with value: 0.9849459987236832 and parameters: {'threshold': 0.482}. Best is trial 30 with value: 0.9849656418291731.\n",
      "[I 2024-08-20 06:56:46,158] Trial 86 finished with value: 0.9849650670555603 and parameters: {'threshold': 0.506}. Best is trial 30 with value: 0.9849656418291731.\n",
      "[I 2024-08-20 06:56:46,301] Trial 87 finished with value: 0.9849637397178167 and parameters: {'threshold': 0.505}. Best is trial 30 with value: 0.9849656418291731.\n",
      "[I 2024-08-20 06:56:48,068] Trial 88 finished with value: 0.9849584414119196 and parameters: {'threshold': 0.518}. Best is trial 30 with value: 0.9849656418291731.\n",
      "[I 2024-08-20 06:56:48,406] Trial 89 finished with value: 0.9849627480031535 and parameters: {'threshold': 0.513}. Best is trial 30 with value: 0.9849656418291731.\n",
      "[I 2024-08-20 06:56:48,637] Trial 90 finished with value: 0.9847933911699098 and parameters: {'threshold': 0.39}. Best is trial 30 with value: 0.9849656418291731.\n",
      "[I 2024-08-20 06:56:48,752] Trial 91 finished with value: 0.9848038329182388 and parameters: {'threshold': 0.393}. Best is trial 30 with value: 0.9849656418291731.\n",
      "[I 2024-08-20 06:56:50,458] Trial 92 finished with value: 0.9847738583655972 and parameters: {'threshold': 0.386}. Best is trial 30 with value: 0.9849656418291731.\n",
      "[I 2024-08-20 06:56:50,858] Trial 93 finished with value: 0.9847595382032459 and parameters: {'threshold': 0.383}. Best is trial 30 with value: 0.9849656418291731.\n",
      "[I 2024-08-20 06:56:51,090] Trial 94 finished with value: 0.9849417093512636 and parameters: {'threshold': 0.47100000000000003}. Best is trial 30 with value: 0.9849656418291731.\n",
      "[I 2024-08-20 06:56:51,207] Trial 95 finished with value: 0.9849623658667037 and parameters: {'threshold': 0.503}. Best is trial 30 with value: 0.9849656418291731.\n",
      "[I 2024-08-20 06:56:53,162] Trial 96 finished with value: 0.9849647641626423 and parameters: {'threshold': 0.515}. Best is trial 30 with value: 0.9849656418291731.\n",
      "[I 2024-08-20 06:56:53,824] Trial 97 finished with value: 0.9849336646015886 and parameters: {'threshold': 0.463}. Best is trial 30 with value: 0.9849656418291731.\n",
      "[I 2024-08-20 06:56:54,046] Trial 99 finished with value: 0.9849297481860819 and parameters: {'threshold': 0.462}. Best is trial 30 with value: 0.9849656418291731.\n",
      "[I 2024-08-20 06:56:54,169] Trial 98 finished with value: 0.9849623658667037 and parameters: {'threshold': 0.503}. Best is trial 30 with value: 0.9849656418291731.\n",
      "[I 2024-08-20 06:56:55,904] Trial 100 finished with value: 0.9849223450192238 and parameters: {'threshold': 0.454}. Best is trial 30 with value: 0.9849656418291731.\n",
      "[I 2024-08-20 06:56:56,247] Trial 101 finished with value: 0.984959716441148 and parameters: {'threshold': 0.502}. Best is trial 30 with value: 0.9849656418291731.\n",
      "[I 2024-08-20 06:56:56,491] Trial 102 finished with value: 0.9848108368335042 and parameters: {'threshold': 0.611}. Best is trial 30 with value: 0.9849656418291731.\n",
      "[I 2024-08-20 06:56:56,654] Trial 103 finished with value: 0.9826989332003837 and parameters: {'threshold': 0.8290000000000001}. Best is trial 30 with value: 0.9849656418291731.\n",
      "[I 2024-08-20 06:56:58,383] Trial 104 finished with value: 0.984959716441148 and parameters: {'threshold': 0.502}. Best is trial 30 with value: 0.9849656418291731.\n",
      "[I 2024-08-20 06:56:58,717] Trial 105 finished with value: 0.9849213825182941 and parameters: {'threshold': 0.558}. Best is trial 30 with value: 0.9849656418291731.\n",
      "[I 2024-08-20 06:56:58,961] Trial 106 finished with value: 0.984923900959018 and parameters: {'threshold': 0.557}. Best is trial 30 with value: 0.9849656418291731.\n",
      "[I 2024-08-20 06:56:59,092] Trial 107 finished with value: 0.9849339616155233 and parameters: {'threshold': 0.55}. Best is trial 30 with value: 0.9849656418291731.\n",
      "[I 2024-08-20 06:57:00,776] Trial 108 finished with value: 0.9849282351654255 and parameters: {'threshold': 0.553}. Best is trial 30 with value: 0.9849656418291731.\n",
      "[I 2024-08-20 06:57:01,179] Trial 109 finished with value: 0.9847139778817197 and parameters: {'threshold': 0.634}. Best is trial 30 with value: 0.9849656418291731.\n",
      "[I 2024-08-20 06:57:01,450] Trial 110 finished with value: 0.984695505730734 and parameters: {'threshold': 0.638}. Best is trial 30 with value: 0.9849656418291731.\n",
      "[I 2024-08-20 06:57:01,557] Trial 111 finished with value: 0.9847101610349671 and parameters: {'threshold': 0.635}. Best is trial 30 with value: 0.9849656418291731.\n",
      "[I 2024-08-20 06:57:03,209] Trial 112 finished with value: 0.9849068877218002 and parameters: {'threshold': 0.437}. Best is trial 30 with value: 0.9849656418291731.\n",
      "[I 2024-08-20 06:57:03,660] Trial 113 finished with value: 0.9849670582096149 and parameters: {'threshold': 0.507}. Best is trial 113 with value: 0.9849670582096149.\n",
      "[I 2024-08-20 06:57:03,958] Trial 114 finished with value: 0.9849627480031535 and parameters: {'threshold': 0.513}. Best is trial 113 with value: 0.9849670582096149.\n",
      "[I 2024-08-20 06:57:04,041] Trial 115 finished with value: 0.9849619650436517 and parameters: {'threshold': 0.51}. Best is trial 113 with value: 0.9849670582096149.\n",
      "[I 2024-08-20 06:57:05,633] Trial 116 finished with value: 0.9849627480031535 and parameters: {'threshold': 0.513}. Best is trial 113 with value: 0.9849670582096149.\n",
      "[I 2024-08-20 06:57:06,130] Trial 117 finished with value: 0.9849627480031535 and parameters: {'threshold': 0.513}. Best is trial 113 with value: 0.9849670582096149.\n",
      "[I 2024-08-20 06:57:06,381] Trial 118 finished with value: 0.9849459987236832 and parameters: {'threshold': 0.482}. Best is trial 113 with value: 0.9849670582096149.\n",
      "[I 2024-08-20 06:57:06,504] Trial 119 finished with value: 0.984944773923462 and parameters: {'threshold': 0.484}. Best is trial 113 with value: 0.9849670582096149.\n",
      "[I 2024-08-20 06:57:08,092] Trial 120 finished with value: 0.9849500664689829 and parameters: {'threshold': 0.534}. Best is trial 113 with value: 0.9849670582096149.\n",
      "[I 2024-08-20 06:57:08,616] Trial 121 finished with value: 0.984944773923462 and parameters: {'threshold': 0.484}. Best is trial 113 with value: 0.9849670582096149.\n",
      "[I 2024-08-20 06:57:08,883] Trial 122 finished with value: 0.9848500978438153 and parameters: {'threshold': 0.595}. Best is trial 113 with value: 0.9849670582096149.\n",
      "[I 2024-08-20 06:57:09,001] Trial 123 finished with value: 0.9848685614426873 and parameters: {'threshold': 0.589}. Best is trial 113 with value: 0.9849670582096149.\n",
      "[I 2024-08-20 06:57:10,588] Trial 124 finished with value: 0.9848450220184142 and parameters: {'threshold': 0.597}. Best is trial 113 with value: 0.9849670582096149.\n",
      "[I 2024-08-20 06:57:11,146] Trial 125 finished with value: 0.9849018854227499 and parameters: {'threshold': 0.442}. Best is trial 113 with value: 0.9849670582096149.\n",
      "[I 2024-08-20 06:57:11,387] Trial 126 finished with value: 0.9849422669120033 and parameters: {'threshold': 0.468}. Best is trial 113 with value: 0.9849670582096149.\n",
      "[I 2024-08-20 06:57:11,500] Trial 127 finished with value: 0.9848999757431648 and parameters: {'threshold': 0.443}. Best is trial 113 with value: 0.9849670582096149.\n",
      "[I 2024-08-20 06:57:13,050] Trial 128 finished with value: 0.9849587261645728 and parameters: {'threshold': 0.525}. Best is trial 113 with value: 0.9849670582096149.\n",
      "[I 2024-08-20 06:57:13,622] Trial 129 finished with value: 0.9849578697029844 and parameters: {'threshold': 0.52}. Best is trial 113 with value: 0.9849670582096149.\n",
      "[I 2024-08-20 06:57:13,851] Trial 130 finished with value: 0.9849481680355744 and parameters: {'threshold': 0.535}. Best is trial 113 with value: 0.9849670582096149.\n",
      "[I 2024-08-20 06:57:13,952] Trial 131 finished with value: 0.9849483013109951 and parameters: {'threshold': 0.538}. Best is trial 113 with value: 0.9849670582096149.\n",
      "[I 2024-08-20 06:57:15,512] Trial 132 finished with value: 0.9849526198960696 and parameters: {'threshold': 0.533}. Best is trial 113 with value: 0.9849670582096149.\n",
      "[I 2024-08-20 06:57:16,077] Trial 133 finished with value: 0.9849469554147655 and parameters: {'threshold': 0.537}. Best is trial 113 with value: 0.9849670582096149.\n",
      "[I 2024-08-20 06:57:16,328] Trial 134 finished with value: 0.9849197394741159 and parameters: {'threshold': 0.5640000000000001}. Best is trial 113 with value: 0.9849670582096149.\n",
      "[I 2024-08-20 06:57:16,469] Trial 135 finished with value: 0.9849524010947234 and parameters: {'threshold': 0.497}. Best is trial 113 with value: 0.9849670582096149.\n",
      "[I 2024-08-20 06:57:18,005] Trial 136 finished with value: 0.9849656418291731 and parameters: {'threshold': 0.504}. Best is trial 113 with value: 0.9849670582096149.\n",
      "[I 2024-08-20 06:57:18,591] Trial 137 finished with value: 0.9849197394741159 and parameters: {'threshold': 0.5640000000000001}. Best is trial 113 with value: 0.9849670582096149.\n",
      "[I 2024-08-20 06:57:18,838] Trial 138 finished with value: 0.9849638477670802 and parameters: {'threshold': 0.508}. Best is trial 113 with value: 0.9849670582096149.\n",
      "[I 2024-08-20 06:57:18,965] Trial 139 finished with value: 0.9849670582096149 and parameters: {'threshold': 0.507}. Best is trial 113 with value: 0.9849670582096149.\n",
      "[I 2024-08-20 06:57:20,465] Trial 140 finished with value: 0.9849442650591281 and parameters: {'threshold': 0.47000000000000003}. Best is trial 113 with value: 0.9849670582096149.\n",
      "[I 2024-08-20 06:57:21,115] Trial 141 finished with value: 0.9849442650591281 and parameters: {'threshold': 0.47000000000000003}. Best is trial 113 with value: 0.9849670582096149.\n",
      "[I 2024-08-20 06:57:21,360] Trial 142 finished with value: 0.984830156612268 and parameters: {'threshold': 0.40700000000000003}. Best is trial 113 with value: 0.9849670582096149.\n",
      "[I 2024-08-20 06:57:21,479] Trial 143 finished with value: 0.9848308939189736 and parameters: {'threshold': 0.41000000000000003}. Best is trial 113 with value: 0.9849670582096149.\n",
      "[I 2024-08-20 06:57:22,920] Trial 144 finished with value: 0.9848439068842396 and parameters: {'threshold': 0.41200000000000003}. Best is trial 113 with value: 0.9849670582096149.\n",
      "[I 2024-08-20 06:57:23,595] Trial 145 finished with value: 0.9848608617629063 and parameters: {'threshold': 0.41600000000000004}. Best is trial 113 with value: 0.9849670582096149.\n",
      "[I 2024-08-20 06:57:23,846] Trial 146 finished with value: 0.9849634264051682 and parameters: {'threshold': 0.514}. Best is trial 113 with value: 0.9849670582096149.\n",
      "[I 2024-08-20 06:57:23,982] Trial 147 finished with value: 0.9849501240520966 and parameters: {'threshold': 0.488}. Best is trial 113 with value: 0.9849670582096149.\n",
      "[I 2024-08-20 06:57:25,774] Trial 148 finished with value: 0.9849541506049418 and parameters: {'threshold': 0.492}. Best is trial 113 with value: 0.9849670582096149.\n",
      "[I 2024-08-20 06:57:26,470] Trial 149 finished with value: 0.9849452059874269 and parameters: {'threshold': 0.495}. Best is trial 113 with value: 0.9849670582096149.\n",
      "[I 2024-08-20 06:57:26,887] Trial 150 finished with value: 0.9849492493606629 and parameters: {'threshold': 0.499}. Best is trial 113 with value: 0.9849670582096149.\n",
      "[I 2024-08-20 06:57:27,001] Trial 151 finished with value: 0.9849471864265902 and parameters: {'threshold': 0.496}. Best is trial 113 with value: 0.9849670582096149.\n",
      "[I 2024-08-20 06:57:28,388] Trial 152 finished with value: 0.9849237070852014 and parameters: {'threshold': 0.456}. Best is trial 113 with value: 0.9849670582096149.\n",
      "[I 2024-08-20 06:57:28,946] Trial 153 finished with value: 0.984916387699938 and parameters: {'threshold': 0.45}. Best is trial 113 with value: 0.9849670582096149.\n",
      "[I 2024-08-20 06:57:29,337] Trial 154 finished with value: 0.9849609722528638 and parameters: {'threshold': 0.517}. Best is trial 113 with value: 0.9849670582096149.\n",
      "[I 2024-08-20 06:57:29,434] Trial 155 finished with value: 0.9849627480031535 and parameters: {'threshold': 0.513}. Best is trial 113 with value: 0.9849670582096149.\n",
      "[I 2024-08-20 06:57:30,802] Trial 156 finished with value: 0.9849547487020044 and parameters: {'threshold': 0.523}. Best is trial 113 with value: 0.9849670582096149.\n",
      "[I 2024-08-20 06:57:31,411] Trial 157 finished with value: 0.9849560038677396 and parameters: {'threshold': 0.522}. Best is trial 113 with value: 0.9849670582096149.\n",
      "[I 2024-08-20 06:57:31,776] Trial 158 finished with value: 0.9849319375972484 and parameters: {'threshold': 0.548}. Best is trial 113 with value: 0.9849670582096149.\n",
      "[I 2024-08-20 06:57:31,878] Trial 159 finished with value: 0.9848962082175075 and parameters: {'threshold': 0.5740000000000001}. Best is trial 113 with value: 0.9849670582096149.\n",
      "[I 2024-08-20 06:57:33,237] Trial 160 finished with value: 0.9849025959375818 and parameters: {'threshold': 0.5720000000000001}. Best is trial 113 with value: 0.9849670582096149.\n",
      "[I 2024-08-20 06:57:33,885] Trial 161 finished with value: 0.984941580209263 and parameters: {'threshold': 0.547}. Best is trial 113 with value: 0.9849670582096149.\n",
      "[I 2024-08-20 06:57:34,215] Trial 162 finished with value: 0.9849232077654292 and parameters: {'threshold': 0.556}. Best is trial 113 with value: 0.9849670582096149.\n",
      "[I 2024-08-20 06:57:34,346] Trial 163 finished with value: 0.9849339616155233 and parameters: {'threshold': 0.55}. Best is trial 113 with value: 0.9849670582096149.\n",
      "[I 2024-08-20 06:57:35,657] Trial 164 finished with value: 0.9849399215611235 and parameters: {'threshold': 0.47600000000000003}. Best is trial 113 with value: 0.9849670582096149.\n",
      "[I 2024-08-20 06:57:36,308] Trial 165 finished with value: 0.9849353629005889 and parameters: {'threshold': 0.47500000000000003}. Best is trial 113 with value: 0.9849670582096149.\n",
      "[I 2024-08-20 06:57:36,697] Trial 166 finished with value: 0.9849432369648806 and parameters: {'threshold': 0.47800000000000004}. Best is trial 113 with value: 0.9849670582096149.\n",
      "[I 2024-08-20 06:57:36,835] Trial 167 finished with value: 0.98494780875806 and parameters: {'threshold': 0.47900000000000004}. Best is trial 113 with value: 0.9849670582096149.\n",
      "[I 2024-08-20 06:57:38,079] Trial 168 finished with value: 0.9849665790885713 and parameters: {'threshold': 0.512}. Best is trial 113 with value: 0.9849670582096149.\n",
      "[I 2024-08-20 06:57:38,777] Trial 169 finished with value: 0.9849665790885713 and parameters: {'threshold': 0.512}. Best is trial 113 with value: 0.9849670582096149.\n",
      "[I 2024-08-20 06:57:39,086] Trial 170 finished with value: 0.9849638477670802 and parameters: {'threshold': 0.508}. Best is trial 113 with value: 0.9849670582096149.\n",
      "[I 2024-08-20 06:57:39,314] Trial 171 finished with value: 0.9849650670555603 and parameters: {'threshold': 0.506}. Best is trial 113 with value: 0.9849670582096149.\n",
      "[I 2024-08-20 06:57:40,499] Trial 172 finished with value: 0.9849626621490651 and parameters: {'threshold': 0.511}. Best is trial 113 with value: 0.9849670582096149.\n",
      "[I 2024-08-20 06:57:41,225] Trial 173 finished with value: 0.9849469554147655 and parameters: {'threshold': 0.537}. Best is trial 113 with value: 0.9849670582096149.\n",
      "[I 2024-08-20 06:57:41,505] Trial 174 finished with value: 0.9849627480031535 and parameters: {'threshold': 0.513}. Best is trial 113 with value: 0.9849670582096149.\n",
      "[I 2024-08-20 06:57:41,746] Trial 175 finished with value: 0.9849590366883019 and parameters: {'threshold': 0.532}. Best is trial 113 with value: 0.9849670582096149.\n",
      "[I 2024-08-20 06:57:42,905] Trial 176 finished with value: 0.9849549720627306 and parameters: {'threshold': 0.528}. Best is trial 113 with value: 0.9849670582096149.\n",
      "[I 2024-08-20 06:57:43,685] Trial 177 finished with value: 0.9727554274414183 and parameters: {'threshold': 0.9550000000000001}. Best is trial 113 with value: 0.9849670582096149.\n",
      "[I 2024-08-20 06:57:43,940] Trial 178 finished with value: 0.9849295787319529 and parameters: {'threshold': 0.457}. Best is trial 113 with value: 0.9849670582096149.\n",
      "[I 2024-08-20 06:57:44,189] Trial 179 finished with value: 0.9849302761650026 and parameters: {'threshold': 0.458}. Best is trial 113 with value: 0.9849670582096149.\n",
      "[I 2024-08-20 06:57:45,324] Trial 180 finished with value: 0.9849322482766523 and parameters: {'threshold': 0.459}. Best is trial 113 with value: 0.9849670582096149.\n",
      "[I 2024-08-20 06:57:46,146] Trial 181 finished with value: 0.984916387699938 and parameters: {'threshold': 0.45}. Best is trial 113 with value: 0.9849670582096149.\n",
      "[I 2024-08-20 06:57:46,408] Trial 182 finished with value: 0.984903601177147 and parameters: {'threshold': 0.435}. Best is trial 113 with value: 0.9849670582096149.\n",
      "[I 2024-08-20 06:57:46,634] Trial 183 finished with value: 0.9849498622489025 and parameters: {'threshold': 0.498}. Best is trial 113 with value: 0.9849670582096149.\n",
      "[I 2024-08-20 06:57:47,746] Trial 184 finished with value: 0.9849498622489025 and parameters: {'threshold': 0.498}. Best is trial 113 with value: 0.9849670582096149.\n",
      "[I 2024-08-20 06:57:48,585] Trial 185 finished with value: 0.9849531606013076 and parameters: {'threshold': 0.5}. Best is trial 113 with value: 0.9849670582096149.\n",
      "[I 2024-08-20 06:57:48,847] Trial 186 finished with value: 0.9849531606013076 and parameters: {'threshold': 0.5}. Best is trial 113 with value: 0.9849670582096149.\n",
      "[I 2024-08-20 06:57:49,103] Trial 187 finished with value: 0.984959716441148 and parameters: {'threshold': 0.502}. Best is trial 113 with value: 0.9849670582096149.\n",
      "[I 2024-08-20 06:57:50,121] Trial 188 finished with value: 0.9849626621490651 and parameters: {'threshold': 0.511}. Best is trial 113 with value: 0.9849670582096149.\n",
      "[I 2024-08-20 06:57:51,040] Trial 189 finished with value: 0.9849590366883019 and parameters: {'threshold': 0.532}. Best is trial 113 with value: 0.9849670582096149.\n",
      "[I 2024-08-20 06:57:51,273] Trial 190 finished with value: 0.9849590366883019 and parameters: {'threshold': 0.532}. Best is trial 113 with value: 0.9849670582096149.\n",
      "[I 2024-08-20 06:57:51,558] Trial 191 finished with value: 0.9849436704788456 and parameters: {'threshold': 0.536}. Best is trial 113 with value: 0.9849670582096149.\n",
      "[I 2024-08-20 06:57:52,523] Trial 192 finished with value: 0.9849436704788456 and parameters: {'threshold': 0.536}. Best is trial 113 with value: 0.9849670582096149.\n",
      "[I 2024-08-20 06:57:53,479] Trial 193 finished with value: 0.984923900959018 and parameters: {'threshold': 0.557}. Best is trial 113 with value: 0.9849670582096149.\n",
      "[I 2024-08-20 06:57:53,760] Trial 194 finished with value: 0.9849519664740175 and parameters: {'threshold': 0.486}. Best is trial 113 with value: 0.9849670582096149.\n",
      "[I 2024-08-20 06:57:54,035] Trial 195 finished with value: 0.9849459987236832 and parameters: {'threshold': 0.482}. Best is trial 113 with value: 0.9849670582096149.\n",
      "[I 2024-08-20 06:57:54,925] Trial 196 finished with value: 0.98494780875806 and parameters: {'threshold': 0.47900000000000004}. Best is trial 113 with value: 0.9849670582096149.\n",
      "[I 2024-08-20 06:57:55,940] Trial 197 finished with value: 0.9849501240520966 and parameters: {'threshold': 0.488}. Best is trial 113 with value: 0.9849670582096149.\n",
      "[I 2024-08-20 06:57:56,193] Trial 198 finished with value: 0.9849609722528638 and parameters: {'threshold': 0.517}. Best is trial 113 with value: 0.9849670582096149.\n",
      "[I 2024-08-20 06:57:56,617] Trial 199 finished with value: 0.9849627480031535 and parameters: {'threshold': 0.513}. Best is trial 113 with value: 0.9849670582096149.\n",
      "[I 2024-08-20 06:57:57,675] Trial 200 finished with value: 0.9849609722528638 and parameters: {'threshold': 0.517}. Best is trial 113 with value: 0.9849670582096149.\n",
      "[I 2024-08-20 06:57:58,781] Trial 201 finished with value: 0.9849584414119196 and parameters: {'threshold': 0.518}. Best is trial 113 with value: 0.9849670582096149.\n",
      "[I 2024-08-20 06:57:59,006] Trial 202 finished with value: 0.984964812343434 and parameters: {'threshold': 0.516}. Best is trial 113 with value: 0.9849670582096149.\n",
      "[I 2024-08-20 06:57:59,665] Trial 203 finished with value: 0.9848911892737321 and parameters: {'threshold': 0.577}. Best is trial 113 with value: 0.9849670582096149.\n",
      "[I 2024-08-20 06:58:00,352] Trial 204 finished with value: 0.9849250059499094 and parameters: {'threshold': 0.5660000000000001}. Best is trial 113 with value: 0.9849670582096149.\n",
      "[I 2024-08-20 06:58:01,233] Trial 205 finished with value: 0.9849250059499094 and parameters: {'threshold': 0.5660000000000001}. Best is trial 113 with value: 0.9849670582096149.\n",
      "[I 2024-08-20 06:58:01,485] Trial 206 finished with value: 0.9849221305856737 and parameters: {'threshold': 0.56}. Best is trial 113 with value: 0.9849670582096149.\n",
      "[I 2024-08-20 06:58:02,110] Trial 207 finished with value: 0.9849282030793848 and parameters: {'threshold': 0.552}. Best is trial 113 with value: 0.9849670582096149.\n",
      "[I 2024-08-20 06:58:02,775] Trial 208 finished with value: 0.9849388494115484 and parameters: {'threshold': 0.544}. Best is trial 113 with value: 0.9849670582096149.\n",
      "[I 2024-08-20 06:58:03,708] Trial 209 finished with value: 0.984941580209263 and parameters: {'threshold': 0.547}. Best is trial 113 with value: 0.9849670582096149.\n",
      "[I 2024-08-20 06:58:03,959] Trial 210 finished with value: 0.983282265401122 and parameters: {'threshold': 0.213}. Best is trial 113 with value: 0.9849670582096149.\n",
      "[I 2024-08-20 06:58:04,580] Trial 211 finished with value: 0.9849626621490651 and parameters: {'threshold': 0.511}. Best is trial 113 with value: 0.9849670582096149.\n",
      "[I 2024-08-20 06:58:05,212] Trial 212 finished with value: 0.9849637397178167 and parameters: {'threshold': 0.505}. Best is trial 113 with value: 0.9849670582096149.\n",
      "[I 2024-08-20 06:58:06,170] Trial 213 finished with value: 0.9849637397178167 and parameters: {'threshold': 0.505}. Best is trial 113 with value: 0.9849670582096149.\n",
      "[I 2024-08-20 06:58:06,449] Trial 214 finished with value: 0.9849584414119196 and parameters: {'threshold': 0.518}. Best is trial 113 with value: 0.9849670582096149.\n",
      "[I 2024-08-20 06:58:07,108] Trial 215 finished with value: 0.9849651706394205 and parameters: {'threshold': 0.509}. Best is trial 113 with value: 0.9849670582096149.\n",
      "[I 2024-08-20 06:58:07,668] Trial 216 finished with value: 0.9849417093512636 and parameters: {'threshold': 0.47100000000000003}. Best is trial 113 with value: 0.9849670582096149.\n",
      "[I 2024-08-20 06:58:08,763] Trial 217 finished with value: 0.9849418996408122 and parameters: {'threshold': 0.47700000000000004}. Best is trial 113 with value: 0.9849670582096149.\n",
      "[I 2024-08-20 06:58:09,105] Trial 218 finished with value: 0.9849333639016413 and parameters: {'threshold': 0.47300000000000003}. Best is trial 113 with value: 0.9849670582096149.\n",
      "[I 2024-08-20 06:58:10,069] Trial 219 finished with value: 0.9849417093512636 and parameters: {'threshold': 0.47100000000000003}. Best is trial 113 with value: 0.9849670582096149.\n",
      "[I 2024-08-20 06:58:10,945] Trial 220 finished with value: 0.9849541281741123 and parameters: {'threshold': 0.491}. Best is trial 113 with value: 0.9849670582096149.\n",
      "[I 2024-08-20 06:58:12,056] Trial 221 finished with value: 0.9849477543694825 and parameters: {'threshold': 0.494}. Best is trial 113 with value: 0.9849670582096149.\n",
      "[I 2024-08-20 06:58:12,314] Trial 222 finished with value: 0.9849452059874269 and parameters: {'threshold': 0.495}. Best is trial 113 with value: 0.9849670582096149.\n",
      "[I 2024-08-20 06:58:12,950] Trial 223 finished with value: 0.9849526733184012 and parameters: {'threshold': 0.487}. Best is trial 113 with value: 0.9849670582096149.\n",
      "[I 2024-08-20 06:58:13,458] Trial 224 finished with value: 0.9849656418291731 and parameters: {'threshold': 0.504}. Best is trial 113 with value: 0.9849670582096149.\n",
      "[I 2024-08-20 06:58:14,602] Trial 225 finished with value: 0.9849638477670802 and parameters: {'threshold': 0.508}. Best is trial 113 with value: 0.9849670582096149.\n",
      "[I 2024-08-20 06:58:15,040] Trial 226 finished with value: 0.9849503539858612 and parameters: {'threshold': 0.526}. Best is trial 113 with value: 0.9849670582096149.\n",
      "[I 2024-08-20 06:58:15,964] Trial 227 finished with value: 0.9849590366883019 and parameters: {'threshold': 0.532}. Best is trial 113 with value: 0.9849670582096149.\n",
      "[I 2024-08-20 06:58:16,393] Trial 228 finished with value: 0.9849582910833881 and parameters: {'threshold': 0.53}. Best is trial 113 with value: 0.9849670582096149.\n",
      "[I 2024-08-20 06:58:17,570] Trial 229 finished with value: 0.9849529878397062 and parameters: {'threshold': 0.527}. Best is trial 113 with value: 0.9849670582096149.\n",
      "[I 2024-08-20 06:58:17,800] Trial 230 finished with value: 0.9849590366883019 and parameters: {'threshold': 0.532}. Best is trial 113 with value: 0.9849670582096149.\n",
      "[I 2024-08-20 06:58:18,450] Trial 231 finished with value: 0.9849656418291731 and parameters: {'threshold': 0.504}. Best is trial 113 with value: 0.9849670582096149.\n",
      "[I 2024-08-20 06:58:18,828] Trial 232 finished with value: 0.9849637397178167 and parameters: {'threshold': 0.505}. Best is trial 113 with value: 0.9849670582096149.\n",
      "[I 2024-08-20 06:58:20,066] Trial 233 finished with value: 0.984959716441148 and parameters: {'threshold': 0.502}. Best is trial 113 with value: 0.9849670582096149.\n",
      "[I 2024-08-20 06:58:20,308] Trial 234 finished with value: 0.9849656418291731 and parameters: {'threshold': 0.504}. Best is trial 113 with value: 0.9849670582096149.\n",
      "[I 2024-08-20 06:58:20,950] Trial 235 finished with value: 0.9849656418291731 and parameters: {'threshold': 0.504}. Best is trial 113 with value: 0.9849670582096149.\n",
      "[I 2024-08-20 06:58:21,278] Trial 236 finished with value: 0.9849531606013076 and parameters: {'threshold': 0.5}. Best is trial 113 with value: 0.9849670582096149.\n",
      "[I 2024-08-20 06:58:22,581] Trial 237 finished with value: 0.9849498622489025 and parameters: {'threshold': 0.498}. Best is trial 113 with value: 0.9849670582096149.\n",
      "[I 2024-08-20 06:58:22,837] Trial 238 finished with value: 0.9849564361504392 and parameters: {'threshold': 0.501}. Best is trial 113 with value: 0.9849670582096149.\n",
      "[I 2024-08-20 06:58:23,517] Trial 239 finished with value: 0.9849492493606629 and parameters: {'threshold': 0.499}. Best is trial 113 with value: 0.9849670582096149.\n",
      "[I 2024-08-20 06:58:23,789] Trial 240 finished with value: 0.984959716441148 and parameters: {'threshold': 0.502}. Best is trial 113 with value: 0.9849670582096149.\n",
      "[I 2024-08-20 06:58:25,108] Trial 241 finished with value: 0.984922384640054 and parameters: {'threshold': 0.455}. Best is trial 113 with value: 0.9849670582096149.\n",
      "[I 2024-08-20 06:58:25,387] Trial 242 finished with value: 0.9849388839092715 and parameters: {'threshold': 0.464}. Best is trial 113 with value: 0.9849670582096149.\n",
      "[I 2024-08-20 06:58:26,022] Trial 243 finished with value: 0.9849402072349341 and parameters: {'threshold': 0.465}. Best is trial 113 with value: 0.9849670582096149.\n",
      "[I 2024-08-20 06:58:26,266] Trial 244 finished with value: 0.9849388839092715 and parameters: {'threshold': 0.464}. Best is trial 113 with value: 0.9849670582096149.\n",
      "[I 2024-08-20 06:58:27,672] Trial 245 finished with value: 0.9849432369648806 and parameters: {'threshold': 0.47800000000000004}. Best is trial 113 with value: 0.9849670582096149.\n",
      "[I 2024-08-20 06:58:27,927] Trial 246 finished with value: 0.9849647641626423 and parameters: {'threshold': 0.515}. Best is trial 113 with value: 0.9849670582096149.\n",
      "[I 2024-08-20 06:58:28,440] Trial 248 finished with value: 0.9849634264051682 and parameters: {'threshold': 0.514}. Best is trial 113 with value: 0.9849670582096149.\n",
      "[I 2024-08-20 06:58:28,509] Trial 247 finished with value: 0.9849609722528638 and parameters: {'threshold': 0.517}. Best is trial 113 with value: 0.9849670582096149.\n",
      "[I 2024-08-20 06:58:29,557] Trial 249 finished with value: 0.9849578697029844 and parameters: {'threshold': 0.52}. Best is trial 113 with value: 0.9849670582096149.\n"
     ]
    }
   ],
   "source": [
    "def objective(trial):\n",
    "    threshold = trial.suggest_float('threshold', 0, 1, step=0.001)\n",
    "    y_preds = ensemble_oof_pred_probs[:, 1] >= threshold\n",
    "    return matthews_corrcoef(y, y_preds)\n",
    "\n",
    "study = optuna.create_study(direction='maximize')\n",
    "study.optimize(objective, n_trials=250, n_jobs=-1)"
   ]
  },
  {
   "cell_type": "code",
   "execution_count": 12,
   "id": "acd36f0e",
   "metadata": {
    "execution": {
     "iopub.execute_input": "2024-08-20T06:58:29.611855Z",
     "iopub.status.busy": "2024-08-20T06:58:29.610852Z",
     "iopub.status.idle": "2024-08-20T06:58:29.618405Z",
     "shell.execute_reply": "2024-08-20T06:58:29.617393Z"
    },
    "papermill": {
     "duration": 0.034056,
     "end_time": "2024-08-20T06:58:29.620962",
     "exception": false,
     "start_time": "2024-08-20T06:58:29.586906",
     "status": "completed"
    },
    "tags": []
   },
   "outputs": [
    {
     "data": {
      "text/plain": [
       "{'threshold': 0.507}"
      ]
     },
     "execution_count": 12,
     "metadata": {},
     "output_type": "execute_result"
    }
   ],
   "source": [
    "study.best_params"
   ]
  },
  {
   "cell_type": "code",
   "execution_count": 13,
   "id": "1cf08a63",
   "metadata": {
    "execution": {
     "iopub.execute_input": "2024-08-20T06:58:29.674092Z",
     "iopub.status.busy": "2024-08-20T06:58:29.673694Z",
     "iopub.status.idle": "2024-08-20T06:59:17.619556Z",
     "shell.execute_reply": "2024-08-20T06:59:17.618374Z"
    },
    "papermill": {
     "duration": 47.972829,
     "end_time": "2024-08-20T06:59:17.622250",
     "exception": false,
     "start_time": "2024-08-20T06:58:29.649421",
     "status": "completed"
    },
    "tags": []
   },
   "outputs": [
    {
     "name": "stdout",
     "output_type": "stream",
     "text": [
      "Training Ensemble\n",
      "\n",
      "--- Fold 1 - MCC: 0.984821\n",
      "--- Fold 2 - MCC: 0.985266\n",
      "--- Fold 3 - MCC: 0.984809\n",
      "--- Fold 4 - MCC: 0.984930\n",
      "--- Fold 5 - MCC: 0.985009\n",
      "\n",
      "------ Average MCC: 0.984967 ± 0.000167\n"
     ]
    }
   ],
   "source": [
    "trainer = Trainer(model, threshold=study.best_params['threshold'])\n",
    "ensemble_scores, ensemble_oof_pred_probs, _ = trainer.fit_predict(X, y, X_test)\n",
    "scores['Ensemble (tuned T)'] = ensemble_scores"
   ]
  },
  {
   "cell_type": "markdown",
   "id": "94e46b49",
   "metadata": {
    "papermill": {
     "duration": 0.022825,
     "end_time": "2024-08-20T06:59:17.668821",
     "exception": false,
     "start_time": "2024-08-20T06:59:17.645996",
     "status": "completed"
    },
    "tags": []
   },
   "source": [
    "# Results"
   ]
  },
  {
   "cell_type": "code",
   "execution_count": 14,
   "id": "1f4d2ba2",
   "metadata": {
    "execution": {
     "iopub.execute_input": "2024-08-20T06:59:17.717466Z",
     "iopub.status.busy": "2024-08-20T06:59:17.716986Z",
     "iopub.status.idle": "2024-08-20T06:59:18.228801Z",
     "shell.execute_reply": "2024-08-20T06:59:18.227480Z"
    },
    "papermill": {
     "duration": 0.539764,
     "end_time": "2024-08-20T06:59:18.231135",
     "exception": false,
     "start_time": "2024-08-20T06:59:17.691371",
     "status": "completed"
    },
    "tags": []
   },
   "outputs": [
    {
     "data": {
      "image/png": "[encoded data removed]",
      "text/plain": [
       "<Figure size 1200x500 with 2 Axes>"
      ]
     },
     "metadata": {},
     "output_type": "display_data"
    }
   ],
   "source": [
    "scores = pd.DataFrame(scores)\n",
    "mean_scores = scores.mean().sort_values(ascending=False)\n",
    "order = scores.mean().sort_values(ascending=False).index.tolist()\n",
    "\n",
    "min_score = mean_scores.min()\n",
    "max_score = mean_scores.max()\n",
    "padding = (max_score - min_score) * 0.5\n",
    "lower_limit = min_score - padding\n",
    "upper_limit = max_score + padding\n",
    "\n",
    "fig, axs = plt.subplots(1, 2, figsize=(12, 5))\n",
    "\n",
    "sns.boxplot(data=scores, order=order, ax=axs[0], orient='h', color='#651FFF')\n",
    "axs[0].set_title('Fold MCC')\n",
    "axs[0].set_xlabel('')\n",
    "axs[0].set_ylabel('')\n",
    "\n",
    "barplot = sns.barplot(x=mean_scores.values, y=mean_scores.index, ax=axs[1], color='#651FFF')\n",
    "axs[1].set_title('Average MCC')\n",
    "axs[1].set_xlabel('')\n",
    "axs[1].set_xlim(left=lower_limit, right=upper_limit)\n",
    "axs[1].set_ylabel('')\n",
    "\n",
    "for i, score in enumerate(mean_scores.values):\n",
    "    barplot.text(score, i, round(score, 6), va='center')\n",
    "\n",
    "plt.tight_layout()\n",
    "plt.show()"
   ]
  }
 ],
 "metadata": {
  "kaggle": {
   "accelerator": "none",
   "dataSources": [
    {
     "databundleVersionId": 9045607,
     "sourceId": 76727,
     "sourceType": "competition"
    },
    {
     "sourceId": 191625957,
     "sourceType": "kernelVersion"
    },
    {
     "sourceId": 191914557,
     "sourceType": "kernelVersion"
    },
    {
     "sourceId": 191927121,
     "sourceType": "kernelVersion"
    },
    {
     "sourceId": 191964192,
     "sourceType": "kernelVersion"
    },
    {
     "sourceId": 192786455,
     "sourceType": "kernelVersion"
    }
   ],
   "dockerImageVersionId": 30746,
   "isGpuEnabled": false,
   "isInternetEnabled": true,
   "language": "python",
   "sourceType": "notebook"
  },
  "kernelspec": {
   "display_name": "Python 3",
   "language": "python",
   "name": "python3"
  },
  "language_info": {
   "codemirror_mode": {
    "name": "ipython",
    "version": 3
   },
   "file_extension": ".py",
   "mimetype": "text/x-python",
   "name": "python",
   "nbconvert_exporter": "python",
   "pygments_lexer": "ipython3",
   "version": "3.10.13"
  },
  "papermill": {
   "default_parameters": {},
   "duration": 301.995045,
   "end_time": "2024-08-20T06:59:19.279369",
   "environment_variables": {},
   "exception": null,
   "input_path": "__notebook__.ipynb",
   "output_path": "__notebook__.ipynb",
   "parameters": {},
   "start_time": "2024-08-20T06:54:17.284324",
   "version": "2.5.0"
  }
 },
 "nbformat": 4,
 "nbformat_minor": 5
}
