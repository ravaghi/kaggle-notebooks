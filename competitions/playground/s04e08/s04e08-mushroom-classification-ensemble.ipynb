{
 "cells": [
  {
   "cell_type": "markdown",
   "id": "93c8ac80",
   "metadata": {
    "papermill": {
     "duration": 0.00515,
     "end_time": "2024-08-06T06:06:53.176373",
     "exception": false,
     "start_time": "2024-08-06T06:06:53.171223",
     "status": "completed"
    },
    "tags": []
   },
   "source": [
    "# Imports and Configs"
   ]
  },
  {
   "cell_type": "code",
   "execution_count": 1,
   "id": "5e9d0ac4",
   "metadata": {
    "_cell_guid": "b1076dfc-b9ad-4769-8c92-a6c4dae69d19",
    "_uuid": "8f2839f25d086af736a60e9eeb907d3b93b6e0e5",
    "execution": {
     "iopub.execute_input": "2024-08-06T06:06:53.188247Z",
     "iopub.status.busy": "2024-08-06T06:06:53.187442Z",
     "iopub.status.idle": "2024-08-06T06:06:55.831878Z",
     "shell.execute_reply": "2024-08-06T06:06:55.830749Z"
    },
    "papermill": {
     "duration": 2.653291,
     "end_time": "2024-08-06T06:06:55.834629",
     "exception": false,
     "start_time": "2024-08-06T06:06:53.181338",
     "status": "completed"
    },
    "tags": []
   },
   "outputs": [],
   "source": [
    "from sklearn.linear_model import LogisticRegression\n",
    "from sklearn.model_selection import StratifiedKFold\n",
    "from sklearn.metrics import matthews_corrcoef\n",
    "import matplotlib.pyplot as plt\n",
    "from sklearn.base import clone\n",
    "import seaborn as sns\n",
    "import pandas as pd\n",
    "import numpy as np\n",
    "import warnings\n",
    "import pickle\n",
    "import glob\n",
    "import gc\n",
    "\n",
    "warnings.filterwarnings('ignore')"
   ]
  },
  {
   "cell_type": "code",
   "execution_count": 2,
   "id": "5487e706",
   "metadata": {
    "execution": {
     "iopub.execute_input": "2024-08-06T06:06:55.847062Z",
     "iopub.status.busy": "2024-08-06T06:06:55.845905Z",
     "iopub.status.idle": "2024-08-06T06:06:55.851550Z",
     "shell.execute_reply": "2024-08-06T06:06:55.850363Z"
    },
    "papermill": {
     "duration": 0.014306,
     "end_time": "2024-08-06T06:06:55.853879",
     "exception": false,
     "start_time": "2024-08-06T06:06:55.839573",
     "status": "completed"
    },
    "tags": []
   },
   "outputs": [],
   "source": [
    "SEED = 6\n",
    "N_FOLDS = 5\n",
    "TARGET = 'class'"
   ]
  },
  {
   "cell_type": "markdown",
   "id": "db5de018",
   "metadata": {
    "papermill": {
     "duration": 0.004419,
     "end_time": "2024-08-06T06:06:55.863151",
     "exception": false,
     "start_time": "2024-08-06T06:06:55.858732",
     "status": "completed"
    },
    "tags": []
   },
   "source": [
    "# Loading Data"
   ]
  },
  {
   "cell_type": "code",
   "execution_count": 3,
   "id": "74481609",
   "metadata": {
    "execution": {
     "iopub.execute_input": "2024-08-06T06:06:55.874290Z",
     "iopub.status.busy": "2024-08-06T06:06:55.873863Z",
     "iopub.status.idle": "2024-08-06T06:07:13.555218Z",
     "shell.execute_reply": "2024-08-06T06:07:13.554039Z"
    },
    "papermill": {
     "duration": 17.690021,
     "end_time": "2024-08-06T06:07:13.557880",
     "exception": false,
     "start_time": "2024-08-06T06:06:55.867859",
     "status": "completed"
    },
    "tags": []
   },
   "outputs": [],
   "source": [
    "train = pd.read_csv('/kaggle/input/playground-series-s4e8/train.csv', index_col='id')\n",
    "test = pd.read_csv('/kaggle/input/playground-series-s4e8/test.csv', index_col='id')\n",
    "\n",
    "X = train.drop(columns=[TARGET])\n",
    "y = train[TARGET].map({'e': 0, 'p': 1})"
   ]
  },
  {
   "cell_type": "code",
   "execution_count": 4,
   "id": "535dd227",
   "metadata": {
    "execution": {
     "iopub.execute_input": "2024-08-06T06:07:13.569123Z",
     "iopub.status.busy": "2024-08-06T06:07:13.568702Z",
     "iopub.status.idle": "2024-08-06T06:07:13.575338Z",
     "shell.execute_reply": "2024-08-06T06:07:13.574290Z"
    },
    "papermill": {
     "duration": 0.014918,
     "end_time": "2024-08-06T06:07:13.577672",
     "exception": false,
     "start_time": "2024-08-06T06:07:13.562754",
     "status": "completed"
    },
    "tags": []
   },
   "outputs": [],
   "source": [
    "def get_scores(oof_pred_probs):\n",
    "    scores = []\n",
    "    skf = StratifiedKFold(n_splits=5, random_state=SEED, shuffle=True)\n",
    "    for _, val_idx in skf.split(X, y):\n",
    "        y_val = y[val_idx]\n",
    "        y_pred_probs = oof_pred_probs[val_idx]          \n",
    "        score = matthews_corrcoef(y_val, np.argmax(y_pred_probs, axis=1))\n",
    "        scores.append(score)\n",
    "    return scores"
   ]
  },
  {
   "cell_type": "markdown",
   "id": "6ddd5cd5",
   "metadata": {
    "papermill": {
     "duration": 0.004369,
     "end_time": "2024-08-06T06:07:13.586801",
     "exception": false,
     "start_time": "2024-08-06T06:07:13.582432",
     "status": "completed"
    },
    "tags": []
   },
   "source": [
    "# Loading OOF Predictions"
   ]
  },
  {
   "cell_type": "code",
   "execution_count": 5,
   "id": "88f78be7",
   "metadata": {
    "execution": {
     "iopub.execute_input": "2024-08-06T06:07:13.598384Z",
     "iopub.status.busy": "2024-08-06T06:07:13.597295Z",
     "iopub.status.idle": "2024-08-06T06:07:13.602669Z",
     "shell.execute_reply": "2024-08-06T06:07:13.601459Z"
    },
    "papermill": {
     "duration": 0.013797,
     "end_time": "2024-08-06T06:07:13.605208",
     "exception": false,
     "start_time": "2024-08-06T06:07:13.591411",
     "status": "completed"
    },
    "tags": []
   },
   "outputs": [],
   "source": [
    "test_pred_probs = {}\n",
    "oof_pred_probs = {}\n",
    "scores = {}"
   ]
  },
  {
   "cell_type": "code",
   "execution_count": 6,
   "id": "89de62eb",
   "metadata": {
    "execution": {
     "iopub.execute_input": "2024-08-06T06:07:13.616474Z",
     "iopub.status.busy": "2024-08-06T06:07:13.616072Z",
     "iopub.status.idle": "2024-08-06T06:07:17.609457Z",
     "shell.execute_reply": "2024-08-06T06:07:17.608284Z"
    },
    "papermill": {
     "duration": 4.002136,
     "end_time": "2024-08-06T06:07:17.612178",
     "exception": false,
     "start_time": "2024-08-06T06:07:13.610042",
     "status": "completed"
    },
    "tags": []
   },
   "outputs": [],
   "source": [
    "xgb_oof_pred_probs_files = glob.glob('/kaggle/input/s04e08-mushroom-classification-xgboost/xgb_oof_pred_probs_*.pkl')\n",
    "xgb_test_pred_probs_files = glob.glob('/kaggle/input/s04e08-mushroom-classification-xgboost/xgb_test_pred_probs_*.pkl')\n",
    "\n",
    "xgb_oof_pred_probs = pickle.load(open(xgb_oof_pred_probs_files[0], 'rb'))\n",
    "xgb_test_pred_probs = pickle.load(open(xgb_test_pred_probs_files[0], 'rb'))\n",
    "\n",
    "oof_pred_probs['XGBoost'] = xgb_oof_pred_probs\n",
    "test_pred_probs['XGBoost'] = xgb_test_pred_probs\n",
    "scores['XGBoost'] = get_scores(xgb_oof_pred_probs)"
   ]
  },
  {
   "cell_type": "code",
   "execution_count": 7,
   "id": "41ed68b9",
   "metadata": {
    "execution": {
     "iopub.execute_input": "2024-08-06T06:07:17.624271Z",
     "iopub.status.busy": "2024-08-06T06:07:17.623494Z",
     "iopub.status.idle": "2024-08-06T06:07:21.154928Z",
     "shell.execute_reply": "2024-08-06T06:07:21.153580Z"
    },
    "papermill": {
     "duration": 3.540295,
     "end_time": "2024-08-06T06:07:21.157682",
     "exception": false,
     "start_time": "2024-08-06T06:07:17.617387",
     "status": "completed"
    },
    "tags": []
   },
   "outputs": [],
   "source": [
    "lgbm_oof_pred_probs_files = glob.glob('/kaggle/input/s04e08-mushroom-classification-lightgbm/lgbm_oof_pred_probs_*.pkl')\n",
    "lgbm_test_pred_probs_files = glob.glob('/kaggle/input/s04e08-mushroom-classification-lightgbm/lgbm_test_pred_probs_*.pkl')\n",
    "\n",
    "lgbm_oof_pred_probs = pickle.load(open(lgbm_oof_pred_probs_files[0], 'rb'))\n",
    "lgbm_test_pred_probs = pickle.load(open(lgbm_test_pred_probs_files[0], 'rb'))\n",
    "\n",
    "oof_pred_probs['LightGBM'] = lgbm_oof_pred_probs\n",
    "test_pred_probs['LightGBM'] = lgbm_test_pred_probs\n",
    "scores['LightGBM'] = get_scores(lgbm_oof_pred_probs)"
   ]
  },
  {
   "cell_type": "code",
   "execution_count": 8,
   "id": "d42f40ec",
   "metadata": {
    "execution": {
     "iopub.execute_input": "2024-08-06T06:07:21.168878Z",
     "iopub.status.busy": "2024-08-06T06:07:21.168480Z",
     "iopub.status.idle": "2024-08-06T06:07:24.663547Z",
     "shell.execute_reply": "2024-08-06T06:07:24.662373Z"
    },
    "papermill": {
     "duration": 3.50363,
     "end_time": "2024-08-06T06:07:24.666216",
     "exception": false,
     "start_time": "2024-08-06T06:07:21.162586",
     "status": "completed"
    },
    "tags": []
   },
   "outputs": [],
   "source": [
    "histgb_oof_pred_probs_files = glob.glob('/kaggle/input/s04e08-mushroom-classification-histgb/histgradientboosting_oof_pred_probs_*.pkl')\n",
    "histgb_test_pred_probs_files = glob.glob('/kaggle/input/s04e08-mushroom-classification-histgb/histgradientboosting_test_pred_probs_*.pkl')\n",
    "\n",
    "histgb_oof_pred_probs = pickle.load(open(histgb_oof_pred_probs_files[0], 'rb'))\n",
    "histgb_test_pred_probs = pickle.load(open(histgb_test_pred_probs_files[0], 'rb'))\n",
    "\n",
    "oof_pred_probs['HistGB'] = histgb_oof_pred_probs\n",
    "test_pred_probs['HistGB'] = histgb_test_pred_probs\n",
    "scores['HistGB'] = get_scores(histgb_oof_pred_probs)"
   ]
  },
  {
   "cell_type": "code",
   "execution_count": 9,
   "id": "f13e419e",
   "metadata": {
    "execution": {
     "iopub.execute_input": "2024-08-06T06:07:24.677719Z",
     "iopub.status.busy": "2024-08-06T06:07:24.677302Z",
     "iopub.status.idle": "2024-08-06T06:07:27.885954Z",
     "shell.execute_reply": "2024-08-06T06:07:27.884971Z"
    },
    "papermill": {
     "duration": 3.217539,
     "end_time": "2024-08-06T06:07:27.888657",
     "exception": false,
     "start_time": "2024-08-06T06:07:24.671118",
     "status": "completed"
    },
    "tags": []
   },
   "outputs": [],
   "source": [
    "nn_oof_pred_probs_files = glob.glob('/kaggle/input/s04e08-mushroom-classification-neural-networks/keras_oof_pred_probs_*.pkl')\n",
    "nn_test_pred_probs_files = glob.glob('/kaggle/input/s04e08-mushroom-classification-neural-networks/keras_test_pred_probs_*.pkl')\n",
    "\n",
    "nn_oof_pred_probs = pickle.load(open(nn_oof_pred_probs_files[0], 'rb'))\n",
    "nn_test_pred_probs = pickle.load(open(nn_test_pred_probs_files[0], 'rb'))\n",
    "\n",
    "oof_pred_probs['KerasANN'] = nn_oof_pred_probs\n",
    "test_pred_probs['KerasANN'] = nn_test_pred_probs\n",
    "scores['KerasANN'] = get_scores(nn_oof_pred_probs)"
   ]
  },
  {
   "cell_type": "markdown",
   "id": "420f77a1",
   "metadata": {
    "papermill": {
     "duration": 0.004463,
     "end_time": "2024-08-06T06:07:27.898107",
     "exception": false,
     "start_time": "2024-08-06T06:07:27.893644",
     "status": "completed"
    },
    "tags": []
   },
   "source": [
    "# Stacking With Logistic Regression"
   ]
  },
  {
   "cell_type": "code",
   "execution_count": 10,
   "id": "73a67a26",
   "metadata": {
    "execution": {
     "iopub.execute_input": "2024-08-06T06:07:27.909197Z",
     "iopub.status.busy": "2024-08-06T06:07:27.908774Z",
     "iopub.status.idle": "2024-08-06T06:07:27.921387Z",
     "shell.execute_reply": "2024-08-06T06:07:27.920180Z"
    },
    "papermill": {
     "duration": 0.021256,
     "end_time": "2024-08-06T06:07:27.923989",
     "exception": false,
     "start_time": "2024-08-06T06:07:27.902733",
     "status": "completed"
    },
    "tags": []
   },
   "outputs": [],
   "source": [
    "class Trainer:\n",
    "    def __init__(self, model, n_folds=N_FOLDS):\n",
    "        self.model = model\n",
    "        self.n_folds = n_folds\n",
    "\n",
    "    def fit_predict(self, X, y, X_test):\n",
    "        print(f'Training {self.model.__class__.__name__}\\n')\n",
    "        \n",
    "        scores = []\n",
    "        test_pred_probs = np.zeros((X_test.shape[0], len(np.unique(y))))\n",
    "        \n",
    "        skf = StratifiedKFold(n_splits=self.n_folds, random_state=SEED, shuffle=True)\n",
    "        for fold_idx, (train_idx, val_idx) in enumerate(skf.split(X, y)):\n",
    "            X_train, X_val = X[train_idx], X[val_idx]\n",
    "            y_train, y_val = y[train_idx], y[val_idx]\n",
    "            \n",
    "            model = clone(self.model)\n",
    "            model.fit(X_train, y_train)\n",
    "            \n",
    "            y_pred_probs = model.predict_proba(X_val)        \n",
    "            \n",
    "            temp_test_pred_probs = model.predict_proba(X_test)\n",
    "            test_pred_probs += temp_test_pred_probs / self.n_folds\n",
    "            \n",
    "            score = matthews_corrcoef(y_val, np.argmax(y_pred_probs, axis=1))\n",
    "            scores.append(score)\n",
    "            \n",
    "            del model, X_train, y_train, X_val, y_val, y_pred_probs\n",
    "            gc.collect()\n",
    "            \n",
    "            print(f'--- Fold {fold_idx + 1} - MCC: {score:.6f}')\n",
    "            \n",
    "        print(f'\\n------ Average MCC: {np.mean(scores):.6f} ± {np.std(scores):.6f}')\n",
    "        self._save_submission(test_pred_probs, np.mean(scores))\n",
    "        \n",
    "        return scores\n",
    "    \n",
    "    def _save_submission(self, test_pred_probs, score):\n",
    "        name = self.model.__class__.__name__.lower().replace('classifier', '')\n",
    "        sub = pd.read_csv('/kaggle/input/playground-series-s4e8/sample_submission.csv')\n",
    "        sub[TARGET] = np.argmax(test_pred_probs, axis=1)\n",
    "        sub[TARGET] = sub[TARGET].map({0: 'e', 1: 'p'})\n",
    "        sub.to_csv(f'sub_{name}_{score:.6f}.csv', index=False)"
   ]
  },
  {
   "cell_type": "code",
   "execution_count": 11,
   "id": "02e46eef",
   "metadata": {
    "execution": {
     "iopub.execute_input": "2024-08-06T06:07:27.935410Z",
     "iopub.status.busy": "2024-08-06T06:07:27.934990Z",
     "iopub.status.idle": "2024-08-06T06:07:28.937341Z",
     "shell.execute_reply": "2024-08-06T06:07:28.936116Z"
    },
    "papermill": {
     "duration": 1.01107,
     "end_time": "2024-08-06T06:07:28.939950",
     "exception": false,
     "start_time": "2024-08-06T06:07:27.928880",
     "status": "completed"
    },
    "tags": []
   },
   "outputs": [],
   "source": [
    "X = np.log(np.hstack(list(oof_pred_probs.values())) + 1e-7)\n",
    "X_test = np.log(np.hstack(list(test_pred_probs.values())) + 1e-7)"
   ]
  },
  {
   "cell_type": "code",
   "execution_count": 12,
   "id": "b0daf853",
   "metadata": {
    "execution": {
     "iopub.execute_input": "2024-08-06T06:07:28.951868Z",
     "iopub.status.busy": "2024-08-06T06:07:28.950934Z",
     "iopub.status.idle": "2024-08-06T06:08:28.339324Z",
     "shell.execute_reply": "2024-08-06T06:08:28.337909Z"
    },
    "papermill": {
     "duration": 59.397443,
     "end_time": "2024-08-06T06:08:28.342323",
     "exception": false,
     "start_time": "2024-08-06T06:07:28.944880",
     "status": "completed"
    },
    "tags": []
   },
   "outputs": [
    {
     "name": "stdout",
     "output_type": "stream",
     "text": [
      "Training LogisticRegression\n",
      "\n",
      "--- Fold 1 - MCC: 0.984834\n",
      "--- Fold 2 - MCC: 0.985172\n",
      "--- Fold 3 - MCC: 0.984779\n",
      "--- Fold 4 - MCC: 0.984823\n",
      "--- Fold 5 - MCC: 0.985002\n",
      "\n",
      "------ Average MCC: 0.984922 ± 0.000146\n"
     ]
    }
   ],
   "source": [
    "trainer = Trainer(LogisticRegression())\n",
    "ensemble_scores = trainer.fit_predict(X, y, X_test)\n",
    "scores['Ensemble'] = ensemble_scores"
   ]
  },
  {
   "cell_type": "markdown",
   "id": "e903bab8",
   "metadata": {
    "papermill": {
     "duration": 0.006839,
     "end_time": "2024-08-06T06:08:28.357595",
     "exception": false,
     "start_time": "2024-08-06T06:08:28.350756",
     "status": "completed"
    },
    "tags": []
   },
   "source": [
    "# Results"
   ]
  },
  {
   "cell_type": "code",
   "execution_count": 13,
   "id": "6fb02888",
   "metadata": {
    "execution": {
     "iopub.execute_input": "2024-08-06T06:08:28.370696Z",
     "iopub.status.busy": "2024-08-06T06:08:28.370317Z",
     "iopub.status.idle": "2024-08-06T06:08:28.921545Z",
     "shell.execute_reply": "2024-08-06T06:08:28.920333Z"
    },
    "papermill": {
     "duration": 0.560232,
     "end_time": "2024-08-06T06:08:28.924019",
     "exception": false,
     "start_time": "2024-08-06T06:08:28.363787",
     "status": "completed"
    },
    "tags": []
   },
   "outputs": [
    {
     "data": {
      "image/png": "[encoded data removed]",
      "text/plain": [
       "<Figure size 1500x500 with 2 Axes>"
      ]
     },
     "metadata": {},
     "output_type": "display_data"
    }
   ],
   "source": [
    "scores = pd.DataFrame(scores)\n",
    "mean_scores = scores.mean().sort_values(ascending=False)\n",
    "order = scores.mean().sort_values(ascending=False).index.tolist()\n",
    "\n",
    "min_score = mean_scores.min()\n",
    "max_score = mean_scores.max()\n",
    "padding = (max_score - min_score) * 0.5\n",
    "lower_limit = min_score - padding\n",
    "upper_limit = max_score + padding\n",
    "\n",
    "fig, axs = plt.subplots(1, 2, figsize=(15, 5))\n",
    "\n",
    "sns.boxplot(data=scores, order=order, ax=axs[0], orient='h', color='#651FFF')\n",
    "axs[0].set_title('Fold MCC')\n",
    "axs[0].set_xlabel('')\n",
    "axs[0].set_ylabel('')\n",
    "\n",
    "barplot = sns.barplot(x=mean_scores.values, y=mean_scores.index, ax=axs[1], color='#651FFF')\n",
    "axs[1].set_title('Average MCC')\n",
    "axs[1].set_xlabel('')\n",
    "axs[1].set_xlim(left=lower_limit, right=upper_limit)\n",
    "axs[1].set_ylabel('')\n",
    "\n",
    "for i, score in enumerate(mean_scores.values):\n",
    "    barplot.text(score, i, round(score, 6), va='center')\n",
    "\n",
    "plt.tight_layout()\n",
    "plt.show()"
   ]
  }
 ],
 "metadata": {
  "kaggle": {
   "accelerator": "none",
   "dataSources": [
    {
     "databundleVersionId": 9045607,
     "sourceId": 76727,
     "sourceType": "competition"
    },
    {
     "sourceId": 191148095,
     "sourceType": "kernelVersion"
    },
    {
     "sourceId": 191240117,
     "sourceType": "kernelVersion"
    },
    {
     "sourceId": 191240383,
     "sourceType": "kernelVersion"
    },
    {
     "sourceId": 191283116,
     "sourceType": "kernelVersion"
    }
   ],
   "dockerImageVersionId": 30746,
   "isGpuEnabled": false,
   "isInternetEnabled": true,
   "language": "python",
   "sourceType": "notebook"
  },
  "kernelspec": {
   "display_name": "Python 3",
   "language": "python",
   "name": "python3"
  },
  "language_info": {
   "codemirror_mode": {
    "name": "ipython",
    "version": 3
   },
   "file_extension": ".py",
   "mimetype": "text/x-python",
   "name": "python",
   "nbconvert_exporter": "python",
   "pygments_lexer": "ipython3",
   "version": "3.10.13"
  },
  "papermill": {
   "default_parameters": {},
   "duration": 99.977611,
   "end_time": "2024-08-06T06:08:29.954348",
   "environment_variables": {},
   "exception": null,
   "input_path": "__notebook__.ipynb",
   "output_path": "__notebook__.ipynb",
   "parameters": {},
   "start_time": "2024-08-06T06:06:49.976737",
   "version": "2.5.0"
  }
 },
 "nbformat": 4,
 "nbformat_minor": 5
}
