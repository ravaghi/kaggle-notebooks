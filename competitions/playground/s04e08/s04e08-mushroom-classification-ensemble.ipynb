{
 "cells": [
  {
   "cell_type": "markdown",
   "id": "515072a1",
   "metadata": {
    "papermill": {
     "duration": 0.004602,
     "end_time": "2024-08-07T08:14:15.279122",
     "exception": false,
     "start_time": "2024-08-07T08:14:15.274520",
     "status": "completed"
    },
    "tags": []
   },
   "source": [
    "# Imports and Configs"
   ]
  },
  {
   "cell_type": "code",
   "execution_count": 1,
   "id": "6cdc5999",
   "metadata": {
    "_cell_guid": "b1076dfc-b9ad-4769-8c92-a6c4dae69d19",
    "_uuid": "8f2839f25d086af736a60e9eeb907d3b93b6e0e5",
    "execution": {
     "iopub.execute_input": "2024-08-07T08:14:15.289614Z",
     "iopub.status.busy": "2024-08-07T08:14:15.289163Z",
     "iopub.status.idle": "2024-08-07T08:14:18.163734Z",
     "shell.execute_reply": "2024-08-07T08:14:18.162637Z"
    },
    "papermill": {
     "duration": 2.882836,
     "end_time": "2024-08-07T08:14:18.166365",
     "exception": false,
     "start_time": "2024-08-07T08:14:15.283529",
     "status": "completed"
    },
    "tags": []
   },
   "outputs": [],
   "source": [
    "from sklearn.linear_model import LogisticRegression\n",
    "from sklearn.model_selection import StratifiedKFold\n",
    "from sklearn.metrics import matthews_corrcoef\n",
    "import matplotlib.pyplot as plt\n",
    "from sklearn.base import clone\n",
    "import seaborn as sns\n",
    "import pandas as pd\n",
    "import numpy as np\n",
    "import warnings\n",
    "import pickle\n",
    "import glob\n",
    "import gc\n",
    "\n",
    "warnings.filterwarnings('ignore')"
   ]
  },
  {
   "cell_type": "code",
   "execution_count": 2,
   "id": "04fce9e2",
   "metadata": {
    "execution": {
     "iopub.execute_input": "2024-08-07T08:14:18.176654Z",
     "iopub.status.busy": "2024-08-07T08:14:18.176152Z",
     "iopub.status.idle": "2024-08-07T08:14:18.181462Z",
     "shell.execute_reply": "2024-08-07T08:14:18.180065Z"
    },
    "papermill": {
     "duration": 0.013162,
     "end_time": "2024-08-07T08:14:18.183842",
     "exception": false,
     "start_time": "2024-08-07T08:14:18.170680",
     "status": "completed"
    },
    "tags": []
   },
   "outputs": [],
   "source": [
    "SEED = 6\n",
    "N_FOLDS = 5\n",
    "TARGET = 'class'"
   ]
  },
  {
   "cell_type": "markdown",
   "id": "2dcbe323",
   "metadata": {
    "papermill": {
     "duration": 0.004013,
     "end_time": "2024-08-07T08:14:18.192314",
     "exception": false,
     "start_time": "2024-08-07T08:14:18.188301",
     "status": "completed"
    },
    "tags": []
   },
   "source": [
    "# Loading Data"
   ]
  },
  {
   "cell_type": "code",
   "execution_count": 3,
   "id": "cb720b48",
   "metadata": {
    "execution": {
     "iopub.execute_input": "2024-08-07T08:14:18.203326Z",
     "iopub.status.busy": "2024-08-07T08:14:18.202317Z",
     "iopub.status.idle": "2024-08-07T08:14:37.221334Z",
     "shell.execute_reply": "2024-08-07T08:14:37.220202Z"
    },
    "papermill": {
     "duration": 19.027511,
     "end_time": "2024-08-07T08:14:37.224145",
     "exception": false,
     "start_time": "2024-08-07T08:14:18.196634",
     "status": "completed"
    },
    "tags": []
   },
   "outputs": [],
   "source": [
    "train = pd.read_csv('/kaggle/input/playground-series-s4e8/train.csv', index_col='id')\n",
    "test = pd.read_csv('/kaggle/input/playground-series-s4e8/test.csv', index_col='id')\n",
    "\n",
    "X = train.drop(columns=[TARGET])\n",
    "y = train[TARGET].map({'e': 0, 'p': 1})"
   ]
  },
  {
   "cell_type": "code",
   "execution_count": 4,
   "id": "c2be0aff",
   "metadata": {
    "execution": {
     "iopub.execute_input": "2024-08-07T08:14:37.234893Z",
     "iopub.status.busy": "2024-08-07T08:14:37.234466Z",
     "iopub.status.idle": "2024-08-07T08:14:37.240966Z",
     "shell.execute_reply": "2024-08-07T08:14:37.239834Z"
    },
    "papermill": {
     "duration": 0.014492,
     "end_time": "2024-08-07T08:14:37.243248",
     "exception": false,
     "start_time": "2024-08-07T08:14:37.228756",
     "status": "completed"
    },
    "tags": []
   },
   "outputs": [],
   "source": [
    "def get_scores(oof_pred_probs):\n",
    "    scores = []\n",
    "    skf = StratifiedKFold(n_splits=5, random_state=SEED, shuffle=True)\n",
    "    for _, val_idx in skf.split(X, y):\n",
    "        y_val = y[val_idx]\n",
    "        y_pred_probs = oof_pred_probs[val_idx]          \n",
    "        score = matthews_corrcoef(y_val, np.argmax(y_pred_probs, axis=1))\n",
    "        scores.append(score)\n",
    "    return scores"
   ]
  },
  {
   "cell_type": "markdown",
   "id": "b643d5a7",
   "metadata": {
    "papermill": {
     "duration": 0.003953,
     "end_time": "2024-08-07T08:14:37.251564",
     "exception": false,
     "start_time": "2024-08-07T08:14:37.247611",
     "status": "completed"
    },
    "tags": []
   },
   "source": [
    "# Loading OOF Predictions"
   ]
  },
  {
   "cell_type": "code",
   "execution_count": 5,
   "id": "96e55327",
   "metadata": {
    "execution": {
     "iopub.execute_input": "2024-08-07T08:14:37.261993Z",
     "iopub.status.busy": "2024-08-07T08:14:37.261568Z",
     "iopub.status.idle": "2024-08-07T08:14:37.266554Z",
     "shell.execute_reply": "2024-08-07T08:14:37.265529Z"
    },
    "papermill": {
     "duration": 0.012853,
     "end_time": "2024-08-07T08:14:37.268786",
     "exception": false,
     "start_time": "2024-08-07T08:14:37.255933",
     "status": "completed"
    },
    "tags": []
   },
   "outputs": [],
   "source": [
    "test_pred_probs = {}\n",
    "oof_pred_probs = {}\n",
    "scores = {}"
   ]
  },
  {
   "cell_type": "code",
   "execution_count": 6,
   "id": "7877e104",
   "metadata": {
    "execution": {
     "iopub.execute_input": "2024-08-07T08:14:37.279306Z",
     "iopub.status.busy": "2024-08-07T08:14:37.278901Z",
     "iopub.status.idle": "2024-08-07T08:14:41.388300Z",
     "shell.execute_reply": "2024-08-07T08:14:41.387230Z"
    },
    "papermill": {
     "duration": 4.117599,
     "end_time": "2024-08-07T08:14:41.390864",
     "exception": false,
     "start_time": "2024-08-07T08:14:37.273265",
     "status": "completed"
    },
    "tags": []
   },
   "outputs": [],
   "source": [
    "xgb_oof_pred_probs_files = glob.glob('/kaggle/input/s04e08-mushroom-classification-xgboost/xgb_oof_pred_probs_*.pkl')\n",
    "xgb_test_pred_probs_files = glob.glob('/kaggle/input/s04e08-mushroom-classification-xgboost/xgb_test_pred_probs_*.pkl')\n",
    "\n",
    "xgb_oof_pred_probs = pickle.load(open(xgb_oof_pred_probs_files[0], 'rb'))\n",
    "xgb_test_pred_probs = pickle.load(open(xgb_test_pred_probs_files[0], 'rb'))\n",
    "\n",
    "oof_pred_probs['XGBoost'] = xgb_oof_pred_probs\n",
    "test_pred_probs['XGBoost'] = xgb_test_pred_probs\n",
    "scores['XGBoost'] = get_scores(xgb_oof_pred_probs)"
   ]
  },
  {
   "cell_type": "code",
   "execution_count": 7,
   "id": "f62a9403",
   "metadata": {
    "execution": {
     "iopub.execute_input": "2024-08-07T08:14:41.401721Z",
     "iopub.status.busy": "2024-08-07T08:14:41.401331Z",
     "iopub.status.idle": "2024-08-07T08:14:45.921641Z",
     "shell.execute_reply": "2024-08-07T08:14:45.920297Z"
    },
    "papermill": {
     "duration": 4.529078,
     "end_time": "2024-08-07T08:14:45.924570",
     "exception": false,
     "start_time": "2024-08-07T08:14:41.395492",
     "status": "completed"
    },
    "tags": []
   },
   "outputs": [],
   "source": [
    "lgbm_oof_pred_probs_files = glob.glob('/kaggle/input/s04e08-mushroom-classification-lightgbm/lgbm_oof_pred_probs_*.pkl')\n",
    "lgbm_test_pred_probs_files = glob.glob('/kaggle/input/s04e08-mushroom-classification-lightgbm/lgbm_test_pred_probs_*.pkl')\n",
    "\n",
    "lgbm_oof_pred_probs = pickle.load(open(lgbm_oof_pred_probs_files[0], 'rb'))\n",
    "lgbm_test_pred_probs = pickle.load(open(lgbm_test_pred_probs_files[0], 'rb'))\n",
    "\n",
    "oof_pred_probs['LightGBM'] = lgbm_oof_pred_probs\n",
    "test_pred_probs['LightGBM'] = lgbm_test_pred_probs\n",
    "scores['LightGBM'] = get_scores(lgbm_oof_pred_probs)"
   ]
  },
  {
   "cell_type": "code",
   "execution_count": 8,
   "id": "643a9525",
   "metadata": {
    "execution": {
     "iopub.execute_input": "2024-08-07T08:14:45.935385Z",
     "iopub.status.busy": "2024-08-07T08:14:45.934963Z",
     "iopub.status.idle": "2024-08-07T08:14:50.767719Z",
     "shell.execute_reply": "2024-08-07T08:14:50.766278Z"
    },
    "papermill": {
     "duration": 4.841264,
     "end_time": "2024-08-07T08:14:50.770499",
     "exception": false,
     "start_time": "2024-08-07T08:14:45.929235",
     "status": "completed"
    },
    "tags": []
   },
   "outputs": [],
   "source": [
    "histgb_oof_pred_probs_files = glob.glob('/kaggle/input/s04e08-mushroom-classification-histgb/histgradientboosting_oof_pred_probs_*.pkl')\n",
    "histgb_test_pred_probs_files = glob.glob('/kaggle/input/s04e08-mushroom-classification-histgb/histgradientboosting_test_pred_probs_*.pkl')\n",
    "\n",
    "histgb_oof_pred_probs = pickle.load(open(histgb_oof_pred_probs_files[0], 'rb'))\n",
    "histgb_test_pred_probs = pickle.load(open(histgb_test_pred_probs_files[0], 'rb'))\n",
    "\n",
    "oof_pred_probs['HistGB'] = histgb_oof_pred_probs\n",
    "test_pred_probs['HistGB'] = histgb_test_pred_probs\n",
    "scores['HistGB'] = get_scores(histgb_oof_pred_probs)"
   ]
  },
  {
   "cell_type": "code",
   "execution_count": 9,
   "id": "45a56ba5",
   "metadata": {
    "execution": {
     "iopub.execute_input": "2024-08-07T08:14:50.781461Z",
     "iopub.status.busy": "2024-08-07T08:14:50.781048Z",
     "iopub.status.idle": "2024-08-07T08:14:55.426262Z",
     "shell.execute_reply": "2024-08-07T08:14:55.424914Z"
    },
    "papermill": {
     "duration": 4.654017,
     "end_time": "2024-08-07T08:14:55.429276",
     "exception": false,
     "start_time": "2024-08-07T08:14:50.775259",
     "status": "completed"
    },
    "tags": []
   },
   "outputs": [],
   "source": [
    "nn_oof_pred_probs_files = glob.glob('/kaggle/input/s04e08-mushroom-classification-neural-networks/keras_oof_pred_probs_*.pkl')\n",
    "nn_test_pred_probs_files = glob.glob('/kaggle/input/s04e08-mushroom-classification-neural-networks/keras_test_pred_probs_*.pkl')\n",
    "\n",
    "nn_oof_pred_probs = pickle.load(open(nn_oof_pred_probs_files[0], 'rb'))\n",
    "nn_test_pred_probs = pickle.load(open(nn_test_pred_probs_files[0], 'rb'))\n",
    "\n",
    "oof_pred_probs['KerasANN'] = nn_oof_pred_probs\n",
    "test_pred_probs['KerasANN'] = nn_test_pred_probs\n",
    "scores['KerasANN'] = get_scores(nn_oof_pred_probs)"
   ]
  },
  {
   "cell_type": "markdown",
   "id": "32fd5187",
   "metadata": {
    "papermill": {
     "duration": 0.004339,
     "end_time": "2024-08-07T08:14:55.438312",
     "exception": false,
     "start_time": "2024-08-07T08:14:55.433973",
     "status": "completed"
    },
    "tags": []
   },
   "source": [
    "# Stacking With Logistic Regression"
   ]
  },
  {
   "cell_type": "code",
   "execution_count": 10,
   "id": "fa036be1",
   "metadata": {
    "execution": {
     "iopub.execute_input": "2024-08-07T08:14:55.449482Z",
     "iopub.status.busy": "2024-08-07T08:14:55.449022Z",
     "iopub.status.idle": "2024-08-07T08:14:55.461782Z",
     "shell.execute_reply": "2024-08-07T08:14:55.460549Z"
    },
    "papermill": {
     "duration": 0.02109,
     "end_time": "2024-08-07T08:14:55.464154",
     "exception": false,
     "start_time": "2024-08-07T08:14:55.443064",
     "status": "completed"
    },
    "tags": []
   },
   "outputs": [],
   "source": [
    "class Trainer:\n",
    "    def __init__(self, model, n_folds=N_FOLDS):\n",
    "        self.model = model\n",
    "        self.n_folds = n_folds\n",
    "\n",
    "    def fit_predict(self, X, y, X_test):\n",
    "        print(f'Training {self.model.__class__.__name__}\\n')\n",
    "        \n",
    "        scores = []\n",
    "        test_pred_probs = np.zeros((X_test.shape[0], len(np.unique(y))))\n",
    "        \n",
    "        skf = StratifiedKFold(n_splits=self.n_folds, random_state=SEED, shuffle=True)\n",
    "        for fold_idx, (train_idx, val_idx) in enumerate(skf.split(X, y)):\n",
    "            X_train, X_val = X[train_idx], X[val_idx]\n",
    "            y_train, y_val = y[train_idx], y[val_idx]\n",
    "            \n",
    "            model = clone(self.model)\n",
    "            model.fit(X_train, y_train)\n",
    "            \n",
    "            y_pred_probs = model.predict_proba(X_val)        \n",
    "            \n",
    "            temp_test_pred_probs = model.predict_proba(X_test)\n",
    "            test_pred_probs += temp_test_pred_probs / self.n_folds\n",
    "            \n",
    "            score = matthews_corrcoef(y_val, np.argmax(y_pred_probs, axis=1))\n",
    "            scores.append(score)\n",
    "            \n",
    "            del model, X_train, y_train, X_val, y_val, y_pred_probs\n",
    "            gc.collect()\n",
    "            \n",
    "            print(f'--- Fold {fold_idx + 1} - MCC: {score:.6f}')\n",
    "            \n",
    "        print(f'\\n------ Average MCC: {np.mean(scores):.6f} ± {np.std(scores):.6f}')\n",
    "        self._save_submission(test_pred_probs, np.mean(scores))\n",
    "        \n",
    "        return scores\n",
    "    \n",
    "    def _save_submission(self, test_pred_probs, score):\n",
    "        name = self.model.__class__.__name__.lower().replace('classifier', '')\n",
    "        sub = pd.read_csv('/kaggle/input/playground-series-s4e8/sample_submission.csv')\n",
    "        sub[TARGET] = np.argmax(test_pred_probs, axis=1)\n",
    "        sub[TARGET] = sub[TARGET].map({0: 'e', 1: 'p'})\n",
    "        sub.to_csv(f'sub_{name}_{score:.6f}.csv', index=False)"
   ]
  },
  {
   "cell_type": "code",
   "execution_count": 11,
   "id": "12c89316",
   "metadata": {
    "execution": {
     "iopub.execute_input": "2024-08-07T08:14:55.475244Z",
     "iopub.status.busy": "2024-08-07T08:14:55.474824Z",
     "iopub.status.idle": "2024-08-07T08:14:56.464776Z",
     "shell.execute_reply": "2024-08-07T08:14:56.463543Z"
    },
    "papermill": {
     "duration": 0.998531,
     "end_time": "2024-08-07T08:14:56.467465",
     "exception": false,
     "start_time": "2024-08-07T08:14:55.468934",
     "status": "completed"
    },
    "tags": []
   },
   "outputs": [],
   "source": [
    "X = np.log(np.hstack(list(oof_pred_probs.values())) + 1e-7)\n",
    "X_test = np.log(np.hstack(list(test_pred_probs.values())) + 1e-7)"
   ]
  },
  {
   "cell_type": "code",
   "execution_count": 12,
   "id": "5615f3fb",
   "metadata": {
    "execution": {
     "iopub.execute_input": "2024-08-07T08:14:56.479011Z",
     "iopub.status.busy": "2024-08-07T08:14:56.478576Z",
     "iopub.status.idle": "2024-08-07T08:16:03.896650Z",
     "shell.execute_reply": "2024-08-07T08:16:03.895375Z"
    },
    "papermill": {
     "duration": 67.42706,
     "end_time": "2024-08-07T08:16:03.899490",
     "exception": false,
     "start_time": "2024-08-07T08:14:56.472430",
     "status": "completed"
    },
    "tags": []
   },
   "outputs": [
    {
     "name": "stdout",
     "output_type": "stream",
     "text": [
      "Training LogisticRegression\n",
      "\n",
      "--- Fold 1 - MCC: 0.984792\n",
      "--- Fold 2 - MCC: 0.985234\n",
      "--- Fold 3 - MCC: 0.984767\n",
      "--- Fold 4 - MCC: 0.984940\n",
      "--- Fold 5 - MCC: 0.984996\n",
      "\n",
      "------ Average MCC: 0.984946 ± 0.000168\n"
     ]
    }
   ],
   "source": [
    "trainer = Trainer(LogisticRegression())\n",
    "ensemble_scores = trainer.fit_predict(X, y, X_test)\n",
    "scores['Ensemble'] = ensemble_scores"
   ]
  },
  {
   "cell_type": "markdown",
   "id": "099e5129",
   "metadata": {
    "papermill": {
     "duration": 0.004825,
     "end_time": "2024-08-07T08:16:03.910977",
     "exception": false,
     "start_time": "2024-08-07T08:16:03.906152",
     "status": "completed"
    },
    "tags": []
   },
   "source": [
    "# Results"
   ]
  },
  {
   "cell_type": "code",
   "execution_count": 13,
   "id": "fe698138",
   "metadata": {
    "execution": {
     "iopub.execute_input": "2024-08-07T08:16:03.923430Z",
     "iopub.status.busy": "2024-08-07T08:16:03.922982Z",
     "iopub.status.idle": "2024-08-07T08:16:04.454906Z",
     "shell.execute_reply": "2024-08-07T08:16:04.453525Z"
    },
    "papermill": {
     "duration": 0.541329,
     "end_time": "2024-08-07T08:16:04.457737",
     "exception": false,
     "start_time": "2024-08-07T08:16:03.916408",
     "status": "completed"
    },
    "tags": []
   },
   "outputs": [
    {
     "data": {
      "image/png": "[encoded data removed]",
      "text/plain": [
       "<Figure size 1500x500 with 2 Axes>"
      ]
     },
     "metadata": {},
     "output_type": "display_data"
    }
   ],
   "source": [
    "scores = pd.DataFrame(scores)\n",
    "mean_scores = scores.mean().sort_values(ascending=False)\n",
    "order = scores.mean().sort_values(ascending=False).index.tolist()\n",
    "\n",
    "min_score = mean_scores.min()\n",
    "max_score = mean_scores.max()\n",
    "padding = (max_score - min_score) * 0.5\n",
    "lower_limit = min_score - padding\n",
    "upper_limit = max_score + padding\n",
    "\n",
    "fig, axs = plt.subplots(1, 2, figsize=(15, 5))\n",
    "\n",
    "sns.boxplot(data=scores, order=order, ax=axs[0], orient='h', color='#651FFF')\n",
    "axs[0].set_title('Fold MCC')\n",
    "axs[0].set_xlabel('')\n",
    "axs[0].set_ylabel('')\n",
    "\n",
    "barplot = sns.barplot(x=mean_scores.values, y=mean_scores.index, ax=axs[1], color='#651FFF')\n",
    "axs[1].set_title('Average MCC')\n",
    "axs[1].set_xlabel('')\n",
    "axs[1].set_xlim(left=lower_limit, right=upper_limit)\n",
    "axs[1].set_ylabel('')\n",
    "\n",
    "for i, score in enumerate(mean_scores.values):\n",
    "    barplot.text(score, i, round(score, 6), va='center')\n",
    "\n",
    "plt.tight_layout()\n",
    "plt.show()"
   ]
  }
 ],
 "metadata": {
  "kaggle": {
   "accelerator": "none",
   "dataSources": [
    {
     "databundleVersionId": 9045607,
     "sourceId": 76727,
     "sourceType": "competition"
    },
    {
     "sourceId": 191240117,
     "sourceType": "kernelVersion"
    },
    {
     "sourceId": 191240383,
     "sourceType": "kernelVersion"
    },
    {
     "sourceId": 191480586,
     "sourceType": "kernelVersion"
    },
    {
     "sourceId": 191481134,
     "sourceType": "kernelVersion"
    }
   ],
   "dockerImageVersionId": 30746,
   "isGpuEnabled": false,
   "isInternetEnabled": true,
   "language": "python",
   "sourceType": "notebook"
  },
  "kernelspec": {
   "display_name": "Python 3",
   "language": "python",
   "name": "python3"
  },
  "language_info": {
   "codemirror_mode": {
    "name": "ipython",
    "version": 3
   },
   "file_extension": ".py",
   "mimetype": "text/x-python",
   "name": "python",
   "nbconvert_exporter": "python",
   "pygments_lexer": "ipython3",
   "version": "3.10.13"
  },
  "papermill": {
   "default_parameters": {},
   "duration": 113.103942,
   "end_time": "2024-08-07T08:16:05.487321",
   "environment_variables": {},
   "exception": null,
   "input_path": "__notebook__.ipynb",
   "output_path": "__notebook__.ipynb",
   "parameters": {},
   "start_time": "2024-08-07T08:14:12.383379",
   "version": "2.5.0"
  }
 },
 "nbformat": 4,
 "nbformat_minor": 5
}
