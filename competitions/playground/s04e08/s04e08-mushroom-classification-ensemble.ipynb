{
 "cells": [
  {
   "cell_type": "markdown",
   "id": "36d1af82",
   "metadata": {
    "papermill": {
     "duration": 0.006873,
     "end_time": "2024-08-07T15:40:37.656955",
     "exception": false,
     "start_time": "2024-08-07T15:40:37.650082",
     "status": "completed"
    },
    "tags": []
   },
   "source": [
    "# Imports and Configs"
   ]
  },
  {
   "cell_type": "code",
   "execution_count": 1,
   "id": "d75d442d",
   "metadata": {
    "_cell_guid": "b1076dfc-b9ad-4769-8c92-a6c4dae69d19",
    "_uuid": "8f2839f25d086af736a60e9eeb907d3b93b6e0e5",
    "execution": {
     "iopub.execute_input": "2024-08-07T15:40:37.671477Z",
     "iopub.status.busy": "2024-08-07T15:40:37.671005Z",
     "iopub.status.idle": "2024-08-07T15:40:40.761535Z",
     "shell.execute_reply": "2024-08-07T15:40:40.760339Z"
    },
    "papermill": {
     "duration": 3.101028,
     "end_time": "2024-08-07T15:40:40.764390",
     "exception": false,
     "start_time": "2024-08-07T15:40:37.663362",
     "status": "completed"
    },
    "tags": []
   },
   "outputs": [],
   "source": [
    "from sklearn.linear_model import LogisticRegression\n",
    "from sklearn.model_selection import StratifiedKFold\n",
    "from sklearn.metrics import matthews_corrcoef\n",
    "import matplotlib.pyplot as plt\n",
    "from sklearn.base import clone\n",
    "import seaborn as sns\n",
    "import pandas as pd\n",
    "import numpy as np\n",
    "import warnings\n",
    "import pickle\n",
    "import glob\n",
    "import gc\n",
    "\n",
    "warnings.filterwarnings('ignore')"
   ]
  },
  {
   "cell_type": "code",
   "execution_count": 2,
   "id": "f269dbaf",
   "metadata": {
    "execution": {
     "iopub.execute_input": "2024-08-07T15:40:40.778847Z",
     "iopub.status.busy": "2024-08-07T15:40:40.778249Z",
     "iopub.status.idle": "2024-08-07T15:40:40.783692Z",
     "shell.execute_reply": "2024-08-07T15:40:40.782507Z"
    },
    "papermill": {
     "duration": 0.015799,
     "end_time": "2024-08-07T15:40:40.786296",
     "exception": false,
     "start_time": "2024-08-07T15:40:40.770497",
     "status": "completed"
    },
    "tags": []
   },
   "outputs": [],
   "source": [
    "SEED = 6\n",
    "N_FOLDS = 5\n",
    "TARGET = 'class'"
   ]
  },
  {
   "cell_type": "markdown",
   "id": "77b69c7c",
   "metadata": {
    "papermill": {
     "duration": 0.006354,
     "end_time": "2024-08-07T15:40:40.798867",
     "exception": false,
     "start_time": "2024-08-07T15:40:40.792513",
     "status": "completed"
    },
    "tags": []
   },
   "source": [
    "# Loading Data"
   ]
  },
  {
   "cell_type": "code",
   "execution_count": 3,
   "id": "67063f91",
   "metadata": {
    "execution": {
     "iopub.execute_input": "2024-08-07T15:40:40.812802Z",
     "iopub.status.busy": "2024-08-07T15:40:40.812327Z",
     "iopub.status.idle": "2024-08-07T15:41:01.117298Z",
     "shell.execute_reply": "2024-08-07T15:41:01.115984Z"
    },
    "papermill": {
     "duration": 20.315321,
     "end_time": "2024-08-07T15:41:01.120180",
     "exception": false,
     "start_time": "2024-08-07T15:40:40.804859",
     "status": "completed"
    },
    "tags": []
   },
   "outputs": [],
   "source": [
    "train = pd.read_csv('/kaggle/input/playground-series-s4e8/train.csv', index_col='id')\n",
    "test = pd.read_csv('/kaggle/input/playground-series-s4e8/test.csv', index_col='id')\n",
    "\n",
    "X = train.drop(columns=[TARGET])\n",
    "y = train[TARGET].map({'e': 0, 'p': 1})"
   ]
  },
  {
   "cell_type": "code",
   "execution_count": 4,
   "id": "c9f04162",
   "metadata": {
    "execution": {
     "iopub.execute_input": "2024-08-07T15:41:01.134786Z",
     "iopub.status.busy": "2024-08-07T15:41:01.134313Z",
     "iopub.status.idle": "2024-08-07T15:41:01.142034Z",
     "shell.execute_reply": "2024-08-07T15:41:01.140789Z"
    },
    "papermill": {
     "duration": 0.017886,
     "end_time": "2024-08-07T15:41:01.144586",
     "exception": false,
     "start_time": "2024-08-07T15:41:01.126700",
     "status": "completed"
    },
    "tags": []
   },
   "outputs": [],
   "source": [
    "def get_scores(oof_pred_probs):\n",
    "    scores = []\n",
    "    skf = StratifiedKFold(n_splits=5, random_state=SEED, shuffle=True)\n",
    "    for _, val_idx in skf.split(X, y):\n",
    "        y_val = y[val_idx]\n",
    "        y_pred_probs = oof_pred_probs[val_idx]          \n",
    "        score = matthews_corrcoef(y_val, np.argmax(y_pred_probs, axis=1))\n",
    "        scores.append(score)\n",
    "    return scores"
   ]
  },
  {
   "cell_type": "markdown",
   "id": "477765c5",
   "metadata": {
    "papermill": {
     "duration": 0.005685,
     "end_time": "2024-08-07T15:41:01.156479",
     "exception": false,
     "start_time": "2024-08-07T15:41:01.150794",
     "status": "completed"
    },
    "tags": []
   },
   "source": [
    "# Loading OOF Predictions"
   ]
  },
  {
   "cell_type": "code",
   "execution_count": 5,
   "id": "bfdc728b",
   "metadata": {
    "execution": {
     "iopub.execute_input": "2024-08-07T15:41:01.170498Z",
     "iopub.status.busy": "2024-08-07T15:41:01.170057Z",
     "iopub.status.idle": "2024-08-07T15:41:01.175526Z",
     "shell.execute_reply": "2024-08-07T15:41:01.174243Z"
    },
    "papermill": {
     "duration": 0.015402,
     "end_time": "2024-08-07T15:41:01.177999",
     "exception": false,
     "start_time": "2024-08-07T15:41:01.162597",
     "status": "completed"
    },
    "tags": []
   },
   "outputs": [],
   "source": [
    "test_pred_probs = {}\n",
    "oof_pred_probs = {}\n",
    "scores = {}"
   ]
  },
  {
   "cell_type": "code",
   "execution_count": 6,
   "id": "838bab38",
   "metadata": {
    "execution": {
     "iopub.execute_input": "2024-08-07T15:41:01.192550Z",
     "iopub.status.busy": "2024-08-07T15:41:01.192113Z",
     "iopub.status.idle": "2024-08-07T15:41:04.645184Z",
     "shell.execute_reply": "2024-08-07T15:41:04.644021Z"
    },
    "papermill": {
     "duration": 3.463935,
     "end_time": "2024-08-07T15:41:04.648204",
     "exception": false,
     "start_time": "2024-08-07T15:41:01.184269",
     "status": "completed"
    },
    "tags": []
   },
   "outputs": [],
   "source": [
    "xgb_oof_pred_probs_files = glob.glob('/kaggle/input/s04e08-mushroom-classification-xgboost/xgb_oof_pred_probs_*.pkl')\n",
    "xgb_test_pred_probs_files = glob.glob('/kaggle/input/s04e08-mushroom-classification-xgboost/xgb_test_pred_probs_*.pkl')\n",
    "\n",
    "xgb_oof_pred_probs = pickle.load(open(xgb_oof_pred_probs_files[0], 'rb'))\n",
    "xgb_test_pred_probs = pickle.load(open(xgb_test_pred_probs_files[0], 'rb'))\n",
    "\n",
    "oof_pred_probs['XGBoost'] = xgb_oof_pred_probs\n",
    "test_pred_probs['XGBoost'] = xgb_test_pred_probs\n",
    "scores['XGBoost'] = get_scores(xgb_oof_pred_probs)"
   ]
  },
  {
   "cell_type": "code",
   "execution_count": 7,
   "id": "b555771e",
   "metadata": {
    "execution": {
     "iopub.execute_input": "2024-08-07T15:41:04.662752Z",
     "iopub.status.busy": "2024-08-07T15:41:04.662336Z",
     "iopub.status.idle": "2024-08-07T15:41:07.946881Z",
     "shell.execute_reply": "2024-08-07T15:41:07.945662Z"
    },
    "papermill": {
     "duration": 3.295221,
     "end_time": "2024-08-07T15:41:07.949830",
     "exception": false,
     "start_time": "2024-08-07T15:41:04.654609",
     "status": "completed"
    },
    "tags": []
   },
   "outputs": [],
   "source": [
    "lgbm_oof_pred_probs_files = glob.glob('/kaggle/input/s04e08-mushroom-classification-lightgbm/lgbm_oof_pred_probs_*.pkl')\n",
    "lgbm_test_pred_probs_files = glob.glob('/kaggle/input/s04e08-mushroom-classification-lightgbm/lgbm_test_pred_probs_*.pkl')\n",
    "\n",
    "lgbm_oof_pred_probs = pickle.load(open(lgbm_oof_pred_probs_files[0], 'rb'))\n",
    "lgbm_test_pred_probs = pickle.load(open(lgbm_test_pred_probs_files[0], 'rb'))\n",
    "\n",
    "oof_pred_probs['LightGBM'] = lgbm_oof_pred_probs\n",
    "test_pred_probs['LightGBM'] = lgbm_test_pred_probs\n",
    "scores['LightGBM'] = get_scores(lgbm_oof_pred_probs)"
   ]
  },
  {
   "cell_type": "code",
   "execution_count": 8,
   "id": "626b8623",
   "metadata": {
    "execution": {
     "iopub.execute_input": "2024-08-07T15:41:07.964765Z",
     "iopub.status.busy": "2024-08-07T15:41:07.963645Z",
     "iopub.status.idle": "2024-08-07T15:41:11.253555Z",
     "shell.execute_reply": "2024-08-07T15:41:11.252270Z"
    },
    "papermill": {
     "duration": 3.300355,
     "end_time": "2024-08-07T15:41:11.256436",
     "exception": false,
     "start_time": "2024-08-07T15:41:07.956081",
     "status": "completed"
    },
    "tags": []
   },
   "outputs": [],
   "source": [
    "histgb_oof_pred_probs_files = glob.glob('/kaggle/input/s04e08-mushroom-classification-histgb/histgradientboosting_oof_pred_probs_*.pkl')\n",
    "histgb_test_pred_probs_files = glob.glob('/kaggle/input/s04e08-mushroom-classification-histgb/histgradientboosting_test_pred_probs_*.pkl')\n",
    "\n",
    "histgb_oof_pred_probs = pickle.load(open(histgb_oof_pred_probs_files[0], 'rb'))\n",
    "histgb_test_pred_probs = pickle.load(open(histgb_test_pred_probs_files[0], 'rb'))\n",
    "\n",
    "oof_pred_probs['HistGB'] = histgb_oof_pred_probs\n",
    "test_pred_probs['HistGB'] = histgb_test_pred_probs\n",
    "scores['HistGB'] = get_scores(histgb_oof_pred_probs)"
   ]
  },
  {
   "cell_type": "code",
   "execution_count": 9,
   "id": "b8d0be7d",
   "metadata": {
    "execution": {
     "iopub.execute_input": "2024-08-07T15:41:11.271342Z",
     "iopub.status.busy": "2024-08-07T15:41:11.270899Z",
     "iopub.status.idle": "2024-08-07T15:41:14.571428Z",
     "shell.execute_reply": "2024-08-07T15:41:14.570257Z"
    },
    "papermill": {
     "duration": 3.311221,
     "end_time": "2024-08-07T15:41:14.574257",
     "exception": false,
     "start_time": "2024-08-07T15:41:11.263036",
     "status": "completed"
    },
    "tags": []
   },
   "outputs": [],
   "source": [
    "nn_oof_pred_probs_files = glob.glob('/kaggle/input/s04e08-mushroom-classification-neural-networks/keras_oof_pred_probs_*.pkl')\n",
    "nn_test_pred_probs_files = glob.glob('/kaggle/input/s04e08-mushroom-classification-neural-networks/keras_test_pred_probs_*.pkl')\n",
    "\n",
    "nn_oof_pred_probs = pickle.load(open(nn_oof_pred_probs_files[0], 'rb'))\n",
    "nn_test_pred_probs = pickle.load(open(nn_test_pred_probs_files[0], 'rb'))\n",
    "\n",
    "oof_pred_probs['KerasANN'] = nn_oof_pred_probs\n",
    "test_pred_probs['KerasANN'] = nn_test_pred_probs\n",
    "scores['KerasANN'] = get_scores(nn_oof_pred_probs)"
   ]
  },
  {
   "cell_type": "code",
   "execution_count": 10,
   "id": "51e2fe4d",
   "metadata": {
    "execution": {
     "iopub.execute_input": "2024-08-07T15:41:14.589010Z",
     "iopub.status.busy": "2024-08-07T15:41:14.588593Z",
     "iopub.status.idle": "2024-08-07T15:41:18.098892Z",
     "shell.execute_reply": "2024-08-07T15:41:18.097532Z"
    },
    "papermill": {
     "duration": 3.521113,
     "end_time": "2024-08-07T15:41:18.101876",
     "exception": false,
     "start_time": "2024-08-07T15:41:14.580763",
     "status": "completed"
    },
    "tags": []
   },
   "outputs": [],
   "source": [
    "ag_oof_pred_probs_files = glob.glob('/kaggle/input/s04e08-mushroom-classification-ag-5-fold/autogluon_oof_pred_probs_*.pkl')\n",
    "ag_test_pred_probs_files = glob.glob('/kaggle/input/s04e08-mushroom-classification-ag-5-fold/autogluon_test_pred_probs_*.pkl')\n",
    "\n",
    "ag_oof_pred_probs = pickle.load(open(ag_oof_pred_probs_files[0], 'rb'))\n",
    "ag_test_pred_probs = pickle.load(open(ag_test_pred_probs_files[0], 'rb'))\n",
    "\n",
    "oof_pred_probs['AutoGluon'] = ag_oof_pred_probs\n",
    "test_pred_probs['AutoGluon'] = ag_test_pred_probs\n",
    "scores['AutoGluon'] = get_scores(ag_oof_pred_probs)"
   ]
  },
  {
   "cell_type": "markdown",
   "id": "aeb35598",
   "metadata": {
    "papermill": {
     "duration": 0.006252,
     "end_time": "2024-08-07T15:41:18.114937",
     "exception": false,
     "start_time": "2024-08-07T15:41:18.108685",
     "status": "completed"
    },
    "tags": []
   },
   "source": [
    "# Stacking With Logistic Regression"
   ]
  },
  {
   "cell_type": "code",
   "execution_count": 11,
   "id": "749b46a0",
   "metadata": {
    "execution": {
     "iopub.execute_input": "2024-08-07T15:41:18.129677Z",
     "iopub.status.busy": "2024-08-07T15:41:18.129297Z",
     "iopub.status.idle": "2024-08-07T15:41:18.143901Z",
     "shell.execute_reply": "2024-08-07T15:41:18.142750Z"
    },
    "papermill": {
     "duration": 0.025013,
     "end_time": "2024-08-07T15:41:18.146403",
     "exception": false,
     "start_time": "2024-08-07T15:41:18.121390",
     "status": "completed"
    },
    "tags": []
   },
   "outputs": [],
   "source": [
    "class Trainer:\n",
    "    def __init__(self, model, n_folds=N_FOLDS):\n",
    "        self.model = model\n",
    "        self.n_folds = n_folds\n",
    "\n",
    "    def fit_predict(self, X, y, X_test):\n",
    "        print(f'Training {self.model.__class__.__name__}\\n')\n",
    "        \n",
    "        scores = []\n",
    "        test_pred_probs = np.zeros((X_test.shape[0], len(np.unique(y))))\n",
    "        \n",
    "        skf = StratifiedKFold(n_splits=self.n_folds, random_state=SEED, shuffle=True)\n",
    "        for fold_idx, (train_idx, val_idx) in enumerate(skf.split(X, y)):\n",
    "            X_train, X_val = X[train_idx], X[val_idx]\n",
    "            y_train, y_val = y[train_idx], y[val_idx]\n",
    "            \n",
    "            model = clone(self.model)\n",
    "            model.fit(X_train, y_train)\n",
    "            \n",
    "            y_pred_probs = model.predict_proba(X_val)        \n",
    "            \n",
    "            temp_test_pred_probs = model.predict_proba(X_test)\n",
    "            test_pred_probs += temp_test_pred_probs / self.n_folds\n",
    "            \n",
    "            score = matthews_corrcoef(y_val, np.argmax(y_pred_probs, axis=1))\n",
    "            scores.append(score)\n",
    "            \n",
    "            del model, X_train, y_train, X_val, y_val, y_pred_probs\n",
    "            gc.collect()\n",
    "            \n",
    "            print(f'--- Fold {fold_idx + 1} - MCC: {score:.6f}')\n",
    "            \n",
    "        print(f'\\n------ Average MCC: {np.mean(scores):.6f} ± {np.std(scores):.6f}')\n",
    "        self._save_submission(test_pred_probs, np.mean(scores))\n",
    "        \n",
    "        return scores\n",
    "    \n",
    "    def _save_submission(self, test_pred_probs, score):\n",
    "        name = self.model.__class__.__name__.lower().replace('classifier', '')\n",
    "        sub = pd.read_csv('/kaggle/input/playground-series-s4e8/sample_submission.csv')\n",
    "        sub[TARGET] = np.argmax(test_pred_probs, axis=1)\n",
    "        sub[TARGET] = sub[TARGET].map({0: 'e', 1: 'p'})\n",
    "        sub.to_csv(f'sub_{name}_{score:.6f}.csv', index=False)"
   ]
  },
  {
   "cell_type": "code",
   "execution_count": 12,
   "id": "f8794772",
   "metadata": {
    "execution": {
     "iopub.execute_input": "2024-08-07T15:41:18.161794Z",
     "iopub.status.busy": "2024-08-07T15:41:18.161016Z",
     "iopub.status.idle": "2024-08-07T15:41:19.369206Z",
     "shell.execute_reply": "2024-08-07T15:41:19.367328Z"
    },
    "papermill": {
     "duration": 1.219524,
     "end_time": "2024-08-07T15:41:19.372592",
     "exception": false,
     "start_time": "2024-08-07T15:41:18.153068",
     "status": "completed"
    },
    "tags": []
   },
   "outputs": [],
   "source": [
    "X = np.log(np.hstack(list(oof_pred_probs.values())) + 1e-7)\n",
    "X_test = np.log(np.hstack(list(test_pred_probs.values())) + 1e-7)"
   ]
  },
  {
   "cell_type": "code",
   "execution_count": 13,
   "id": "cd664708",
   "metadata": {
    "execution": {
     "iopub.execute_input": "2024-08-07T15:41:19.388247Z",
     "iopub.status.busy": "2024-08-07T15:41:19.387821Z",
     "iopub.status.idle": "2024-08-07T15:42:53.592844Z",
     "shell.execute_reply": "2024-08-07T15:42:53.591421Z"
    },
    "papermill": {
     "duration": 94.215872,
     "end_time": "2024-08-07T15:42:53.595799",
     "exception": false,
     "start_time": "2024-08-07T15:41:19.379927",
     "status": "completed"
    },
    "tags": []
   },
   "outputs": [
    {
     "name": "stdout",
     "output_type": "stream",
     "text": [
      "Training LogisticRegression\n",
      "\n",
      "--- Fold 1 - MCC: 0.984808\n",
      "--- Fold 2 - MCC: 0.985240\n",
      "--- Fold 3 - MCC: 0.984779\n",
      "--- Fold 4 - MCC: 0.984933\n",
      "--- Fold 5 - MCC: 0.984999\n",
      "\n",
      "------ Average MCC: 0.984952 ± 0.000165\n"
     ]
    }
   ],
   "source": [
    "trainer = Trainer(LogisticRegression())\n",
    "ensemble_scores = trainer.fit_predict(X, y, X_test)\n",
    "scores['Ensemble'] = ensemble_scores"
   ]
  },
  {
   "cell_type": "markdown",
   "id": "1fb19f67",
   "metadata": {
    "papermill": {
     "duration": 0.007127,
     "end_time": "2024-08-07T15:42:53.610351",
     "exception": false,
     "start_time": "2024-08-07T15:42:53.603224",
     "status": "completed"
    },
    "tags": []
   },
   "source": [
    "# Results"
   ]
  },
  {
   "cell_type": "code",
   "execution_count": 14,
   "id": "b7a7698b",
   "metadata": {
    "execution": {
     "iopub.execute_input": "2024-08-07T15:42:53.626931Z",
     "iopub.status.busy": "2024-08-07T15:42:53.626477Z",
     "iopub.status.idle": "2024-08-07T15:42:54.199898Z",
     "shell.execute_reply": "2024-08-07T15:42:54.198729Z"
    },
    "papermill": {
     "duration": 0.585062,
     "end_time": "2024-08-07T15:42:54.202686",
     "exception": false,
     "start_time": "2024-08-07T15:42:53.617624",
     "status": "completed"
    },
    "tags": []
   },
   "outputs": [
    {
     "data": {
      "image/png": "[encoded data removed]",
      "text/plain": [
       "<Figure size 1500x500 with 2 Axes>"
      ]
     },
     "metadata": {},
     "output_type": "display_data"
    }
   ],
   "source": [
    "scores = pd.DataFrame(scores)\n",
    "mean_scores = scores.mean().sort_values(ascending=False)\n",
    "order = scores.mean().sort_values(ascending=False).index.tolist()\n",
    "\n",
    "min_score = mean_scores.min()\n",
    "max_score = mean_scores.max()\n",
    "padding = (max_score - min_score) * 0.5\n",
    "lower_limit = min_score - padding\n",
    "upper_limit = max_score + padding\n",
    "\n",
    "fig, axs = plt.subplots(1, 2, figsize=(15, 5))\n",
    "\n",
    "sns.boxplot(data=scores, order=order, ax=axs[0], orient='h', color='#651FFF')\n",
    "axs[0].set_title('Fold MCC')\n",
    "axs[0].set_xlabel('')\n",
    "axs[0].set_ylabel('')\n",
    "\n",
    "barplot = sns.barplot(x=mean_scores.values, y=mean_scores.index, ax=axs[1], color='#651FFF')\n",
    "axs[1].set_title('Average MCC')\n",
    "axs[1].set_xlabel('')\n",
    "axs[1].set_xlim(left=lower_limit, right=upper_limit)\n",
    "axs[1].set_ylabel('')\n",
    "\n",
    "for i, score in enumerate(mean_scores.values):\n",
    "    barplot.text(score, i, round(score, 6), va='center')\n",
    "\n",
    "plt.tight_layout()\n",
    "plt.show()"
   ]
  }
 ],
 "metadata": {
  "kaggle": {
   "accelerator": "none",
   "dataSources": [
    {
     "databundleVersionId": 9045607,
     "sourceId": 76727,
     "sourceType": "competition"
    },
    {
     "sourceId": 191240117,
     "sourceType": "kernelVersion"
    },
    {
     "sourceId": 191240383,
     "sourceType": "kernelVersion"
    },
    {
     "sourceId": 191480586,
     "sourceType": "kernelVersion"
    },
    {
     "sourceId": 191481134,
     "sourceType": "kernelVersion"
    },
    {
     "sourceId": 191479148,
     "sourceType": "kernelVersion"
    }
   ],
   "dockerImageVersionId": 30746,
   "isGpuEnabled": false,
   "isInternetEnabled": true,
   "language": "python",
   "sourceType": "notebook"
  },
  "kernelspec": {
   "display_name": "Python 3",
   "language": "python",
   "name": "python3"
  },
  "language_info": {
   "codemirror_mode": {
    "name": "ipython",
    "version": 3
   },
   "file_extension": ".py",
   "mimetype": "text/x-python",
   "name": "python",
   "nbconvert_exporter": "python",
   "pygments_lexer": "ipython3",
   "version": "3.10.13"
  },
  "papermill": {
   "default_parameters": {},
   "duration": 140.801129,
   "end_time": "2024-08-07T15:42:55.235111",
   "environment_variables": {},
   "exception": null,
   "input_path": "__notebook__.ipynb",
   "output_path": "__notebook__.ipynb",
   "parameters": {},
   "start_time": "2024-08-07T15:40:34.433982",
   "version": "2.5.0"
  }
 },
 "nbformat": 4,
 "nbformat_minor": 5
}
