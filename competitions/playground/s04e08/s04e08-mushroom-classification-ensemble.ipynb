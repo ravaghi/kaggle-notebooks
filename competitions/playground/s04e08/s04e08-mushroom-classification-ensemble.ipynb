{
 "cells": [
  {
   "cell_type": "markdown",
   "id": "be942204",
   "metadata": {
    "papermill": {
     "duration": 0.004123,
     "end_time": "2024-08-05T06:52:12.404730",
     "exception": false,
     "start_time": "2024-08-05T06:52:12.400607",
     "status": "completed"
    },
    "tags": []
   },
   "source": [
    "# Imports and Configs"
   ]
  },
  {
   "cell_type": "code",
   "execution_count": 1,
   "id": "31f956d6",
   "metadata": {
    "_cell_guid": "b1076dfc-b9ad-4769-8c92-a6c4dae69d19",
    "_uuid": "8f2839f25d086af736a60e9eeb907d3b93b6e0e5",
    "execution": {
     "iopub.execute_input": "2024-08-05T06:52:12.414219Z",
     "iopub.status.busy": "2024-08-05T06:52:12.413463Z",
     "iopub.status.idle": "2024-08-05T06:52:14.746150Z",
     "shell.execute_reply": "2024-08-05T06:52:14.745249Z"
    },
    "papermill": {
     "duration": 2.34002,
     "end_time": "2024-08-05T06:52:14.748561",
     "exception": false,
     "start_time": "2024-08-05T06:52:12.408541",
     "status": "completed"
    },
    "tags": []
   },
   "outputs": [],
   "source": [
    "from sklearn.linear_model import LogisticRegression\n",
    "from sklearn.model_selection import StratifiedKFold\n",
    "from sklearn.metrics import matthews_corrcoef\n",
    "import matplotlib.pyplot as plt\n",
    "from sklearn.base import clone\n",
    "import seaborn as sns\n",
    "import pandas as pd\n",
    "import numpy as np\n",
    "import warnings\n",
    "import pickle\n",
    "import glob\n",
    "import gc\n",
    "\n",
    "warnings.filterwarnings('ignore')"
   ]
  },
  {
   "cell_type": "code",
   "execution_count": 2,
   "id": "387101cb",
   "metadata": {
    "execution": {
     "iopub.execute_input": "2024-08-05T06:52:14.757774Z",
     "iopub.status.busy": "2024-08-05T06:52:14.756890Z",
     "iopub.status.idle": "2024-08-05T06:52:14.761491Z",
     "shell.execute_reply": "2024-08-05T06:52:14.760540Z"
    },
    "papermill": {
     "duration": 0.0112,
     "end_time": "2024-08-05T06:52:14.763580",
     "exception": false,
     "start_time": "2024-08-05T06:52:14.752380",
     "status": "completed"
    },
    "tags": []
   },
   "outputs": [],
   "source": [
    "SEED = 6\n",
    "N_FOLDS = 5\n",
    "TARGET = 'class'"
   ]
  },
  {
   "cell_type": "markdown",
   "id": "f37c8e94",
   "metadata": {
    "papermill": {
     "duration": 0.003321,
     "end_time": "2024-08-05T06:52:14.770654",
     "exception": false,
     "start_time": "2024-08-05T06:52:14.767333",
     "status": "completed"
    },
    "tags": []
   },
   "source": [
    "# Loading Data"
   ]
  },
  {
   "cell_type": "code",
   "execution_count": 3,
   "id": "9bb75654",
   "metadata": {
    "execution": {
     "iopub.execute_input": "2024-08-05T06:52:14.779120Z",
     "iopub.status.busy": "2024-08-05T06:52:14.778787Z",
     "iopub.status.idle": "2024-08-05T06:52:31.475491Z",
     "shell.execute_reply": "2024-08-05T06:52:31.474583Z"
    },
    "papermill": {
     "duration": 16.70381,
     "end_time": "2024-08-05T06:52:31.477995",
     "exception": false,
     "start_time": "2024-08-05T06:52:14.774185",
     "status": "completed"
    },
    "tags": []
   },
   "outputs": [],
   "source": [
    "train = pd.read_csv('/kaggle/input/playground-series-s4e8/train.csv', index_col='id')\n",
    "test = pd.read_csv('/kaggle/input/playground-series-s4e8/test.csv', index_col='id')\n",
    "\n",
    "X = train.drop(columns=[TARGET])\n",
    "y = train[TARGET].map({'e': 0, 'p': 1})"
   ]
  },
  {
   "cell_type": "code",
   "execution_count": 4,
   "id": "34230de9",
   "metadata": {
    "execution": {
     "iopub.execute_input": "2024-08-05T06:52:31.487072Z",
     "iopub.status.busy": "2024-08-05T06:52:31.486716Z",
     "iopub.status.idle": "2024-08-05T06:52:31.492396Z",
     "shell.execute_reply": "2024-08-05T06:52:31.491274Z"
    },
    "papermill": {
     "duration": 0.012523,
     "end_time": "2024-08-05T06:52:31.494558",
     "exception": false,
     "start_time": "2024-08-05T06:52:31.482035",
     "status": "completed"
    },
    "tags": []
   },
   "outputs": [],
   "source": [
    "def get_scores(oof_pred_probs):\n",
    "    scores = []\n",
    "    skf = StratifiedKFold(n_splits=5, random_state=SEED, shuffle=True)\n",
    "    for _, val_idx in skf.split(X, y):\n",
    "        y_val = y[val_idx]\n",
    "        y_pred_probs = oof_pred_probs[val_idx]          \n",
    "        score = matthews_corrcoef(y_val, np.argmax(y_pred_probs, axis=1))\n",
    "        scores.append(score)\n",
    "    return scores"
   ]
  },
  {
   "cell_type": "markdown",
   "id": "6ee025bf",
   "metadata": {
    "papermill": {
     "duration": 0.003683,
     "end_time": "2024-08-05T06:52:31.501998",
     "exception": false,
     "start_time": "2024-08-05T06:52:31.498315",
     "status": "completed"
    },
    "tags": []
   },
   "source": [
    "# Loading OOF Predictions"
   ]
  },
  {
   "cell_type": "code",
   "execution_count": 5,
   "id": "10199191",
   "metadata": {
    "execution": {
     "iopub.execute_input": "2024-08-05T06:52:31.510836Z",
     "iopub.status.busy": "2024-08-05T06:52:31.510492Z",
     "iopub.status.idle": "2024-08-05T06:52:31.515095Z",
     "shell.execute_reply": "2024-08-05T06:52:31.514039Z"
    },
    "papermill": {
     "duration": 0.011432,
     "end_time": "2024-08-05T06:52:31.517101",
     "exception": false,
     "start_time": "2024-08-05T06:52:31.505669",
     "status": "completed"
    },
    "tags": []
   },
   "outputs": [],
   "source": [
    "test_pred_probs = {}\n",
    "oof_pred_probs = {}\n",
    "scores = {}"
   ]
  },
  {
   "cell_type": "code",
   "execution_count": 6,
   "id": "68ed3909",
   "metadata": {
    "execution": {
     "iopub.execute_input": "2024-08-05T06:52:31.526183Z",
     "iopub.status.busy": "2024-08-05T06:52:31.525492Z",
     "iopub.status.idle": "2024-08-05T06:52:34.753183Z",
     "shell.execute_reply": "2024-08-05T06:52:34.752027Z"
    },
    "papermill": {
     "duration": 3.236304,
     "end_time": "2024-08-05T06:52:34.757114",
     "exception": false,
     "start_time": "2024-08-05T06:52:31.520810",
     "status": "completed"
    },
    "tags": []
   },
   "outputs": [],
   "source": [
    "xgb_oof_pred_probs_files = glob.glob('/kaggle/input/s04e08-mushroom-classification-xgboost/xgb_oof_pred_probs_*.pkl')\n",
    "xgb_test_pred_probs_files = glob.glob('/kaggle/input/s04e08-mushroom-classification-xgboost/xgb_test_pred_probs_*.pkl')\n",
    "\n",
    "xgb_oof_pred_probs = pickle.load(open(xgb_oof_pred_probs_files[0], 'rb'))\n",
    "xgb_test_pred_probs = pickle.load(open(xgb_test_pred_probs_files[0], 'rb'))\n",
    "\n",
    "oof_pred_probs['XGBoost'] = xgb_oof_pred_probs\n",
    "test_pred_probs['XGBoost'] = xgb_test_pred_probs\n",
    "scores['XGBoost'] = get_scores(xgb_oof_pred_probs)"
   ]
  },
  {
   "cell_type": "code",
   "execution_count": 7,
   "id": "a91519b2",
   "metadata": {
    "execution": {
     "iopub.execute_input": "2024-08-05T06:52:34.766387Z",
     "iopub.status.busy": "2024-08-05T06:52:34.766037Z",
     "iopub.status.idle": "2024-08-05T06:52:38.047963Z",
     "shell.execute_reply": "2024-08-05T06:52:38.047026Z"
    },
    "papermill": {
     "duration": 3.289333,
     "end_time": "2024-08-05T06:52:38.050496",
     "exception": false,
     "start_time": "2024-08-05T06:52:34.761163",
     "status": "completed"
    },
    "tags": []
   },
   "outputs": [],
   "source": [
    "lgbm_oof_pred_probs_files = glob.glob('/kaggle/input/s04e08-mushroom-classification-lightgbm/lgbm_oof_pred_probs_*.pkl')\n",
    "lgbm_test_pred_probs_files = glob.glob('/kaggle/input/s04e08-mushroom-classification-lightgbm/lgbm_test_pred_probs_*.pkl')\n",
    "\n",
    "lgbm_oof_pred_probs = pickle.load(open(lgbm_oof_pred_probs_files[0], 'rb'))\n",
    "lgbm_test_pred_probs = pickle.load(open(lgbm_test_pred_probs_files[0], 'rb'))\n",
    "\n",
    "oof_pred_probs['LightGBM'] = lgbm_oof_pred_probs\n",
    "test_pred_probs['LightGBM'] = lgbm_test_pred_probs\n",
    "scores['LightGBM'] = get_scores(lgbm_oof_pred_probs)"
   ]
  },
  {
   "cell_type": "code",
   "execution_count": 8,
   "id": "7c897351",
   "metadata": {
    "execution": {
     "iopub.execute_input": "2024-08-05T06:52:38.060367Z",
     "iopub.status.busy": "2024-08-05T06:52:38.060004Z",
     "iopub.status.idle": "2024-08-05T06:52:41.213238Z",
     "shell.execute_reply": "2024-08-05T06:52:41.212246Z"
    },
    "papermill": {
     "duration": 3.160803,
     "end_time": "2024-08-05T06:52:41.215746",
     "exception": false,
     "start_time": "2024-08-05T06:52:38.054943",
     "status": "completed"
    },
    "tags": []
   },
   "outputs": [],
   "source": [
    "histgb_oof_pred_probs_files = glob.glob('/kaggle/input/s04e08-mushroom-classification-histgb/histgradientboosting_oof_pred_probs_*.pkl')\n",
    "histgb_test_pred_probs_files = glob.glob('/kaggle/input/s04e08-mushroom-classification-histgb/histgradientboosting_test_pred_probs_*.pkl')\n",
    "\n",
    "histgb_oof_pred_probs = pickle.load(open(histgb_oof_pred_probs_files[0], 'rb'))\n",
    "histgb_test_pred_probs = pickle.load(open(histgb_test_pred_probs_files[0], 'rb'))\n",
    "\n",
    "oof_pred_probs['HistGB'] = histgb_oof_pred_probs\n",
    "test_pred_probs['HistGB'] = histgb_test_pred_probs\n",
    "scores['HistGB'] = get_scores(histgb_oof_pred_probs)"
   ]
  },
  {
   "cell_type": "markdown",
   "id": "92f43371",
   "metadata": {
    "papermill": {
     "duration": 0.003639,
     "end_time": "2024-08-05T06:52:41.223421",
     "exception": false,
     "start_time": "2024-08-05T06:52:41.219782",
     "status": "completed"
    },
    "tags": []
   },
   "source": [
    "# Training Ensemble"
   ]
  },
  {
   "cell_type": "code",
   "execution_count": 9,
   "id": "5d27e6fe",
   "metadata": {
    "execution": {
     "iopub.execute_input": "2024-08-05T06:52:41.232557Z",
     "iopub.status.busy": "2024-08-05T06:52:41.232181Z",
     "iopub.status.idle": "2024-08-05T06:52:41.243322Z",
     "shell.execute_reply": "2024-08-05T06:52:41.242464Z"
    },
    "papermill": {
     "duration": 0.018131,
     "end_time": "2024-08-05T06:52:41.245278",
     "exception": false,
     "start_time": "2024-08-05T06:52:41.227147",
     "status": "completed"
    },
    "tags": []
   },
   "outputs": [],
   "source": [
    "class Trainer:\n",
    "    def __init__(self, model, n_folds=N_FOLDS):\n",
    "        self.model = model\n",
    "        self.n_folds = n_folds\n",
    "\n",
    "    def fit_predict(self, X, y, X_test):\n",
    "        print(f'Training {self.model.__class__.__name__}\\n')\n",
    "        \n",
    "        scores = []\n",
    "        test_pred_probs = np.zeros((X_test.shape[0], len(np.unique(y))))\n",
    "        \n",
    "        skf = StratifiedKFold(n_splits=self.n_folds, random_state=SEED, shuffle=True)\n",
    "        for fold_idx, (train_idx, val_idx) in enumerate(skf.split(X, y)):\n",
    "            X_train, X_val = X.iloc[train_idx], X.iloc[val_idx]\n",
    "            y_train, y_val = y[train_idx], y[val_idx]\n",
    "            \n",
    "            model = clone(self.model)\n",
    "            model.fit(X_train, y_train)\n",
    "            \n",
    "            y_pred_probs = model.predict_proba(X_val)        \n",
    "            \n",
    "            temp_test_pred_probs = model.predict_proba(X_test)\n",
    "            test_pred_probs += temp_test_pred_probs / self.n_folds\n",
    "            \n",
    "            score = matthews_corrcoef(y_val, np.argmax(y_pred_probs, axis=1))\n",
    "            scores.append(score)\n",
    "            \n",
    "            del model, X_train, y_train, X_val, y_val, y_pred_probs\n",
    "            gc.collect()\n",
    "            \n",
    "            print(f'--- Fold {fold_idx + 1} - MCC: {score:.6f}')\n",
    "            \n",
    "        print(f'\\n------ Average MCC: {np.mean(scores):.6f} ± {np.std(scores):.6f}')\n",
    "        self._save_submission(test_pred_probs, np.mean(scores))\n",
    "        \n",
    "        return scores\n",
    "    \n",
    "    def _save_submission(self, test_pred_probs, score):\n",
    "        name = self.model.__class__.__name__.lower().replace('classifier', '')\n",
    "        sub = pd.read_csv('/kaggle/input/playground-series-s4e8/sample_submission.csv')\n",
    "        sub[TARGET] = np.argmax(test_pred_probs, axis=1)\n",
    "        sub[TARGET] = sub[TARGET].map({0: 'e', 1: 'p'})\n",
    "        sub.to_csv(f'sub_{name}_{score:.6f}.csv', index=False)"
   ]
  },
  {
   "cell_type": "code",
   "execution_count": 10,
   "id": "5592e7cd",
   "metadata": {
    "execution": {
     "iopub.execute_input": "2024-08-05T06:52:41.254533Z",
     "iopub.status.busy": "2024-08-05T06:52:41.254177Z",
     "iopub.status.idle": "2024-08-05T06:52:42.036338Z",
     "shell.execute_reply": "2024-08-05T06:52:42.035447Z"
    },
    "papermill": {
     "duration": 0.789684,
     "end_time": "2024-08-05T06:52:42.038934",
     "exception": false,
     "start_time": "2024-08-05T06:52:41.249250",
     "status": "completed"
    },
    "tags": []
   },
   "outputs": [],
   "source": [
    "X = np.log(pd.DataFrame(np.hstack(list(oof_pred_probs.values()))) + 1e-7)\n",
    "X_test = np.log(pd.DataFrame(np.hstack(list(test_pred_probs.values()))) + 1e-7)"
   ]
  },
  {
   "cell_type": "code",
   "execution_count": 11,
   "id": "c10a0f32",
   "metadata": {
    "execution": {
     "iopub.execute_input": "2024-08-05T06:52:42.048704Z",
     "iopub.status.busy": "2024-08-05T06:52:42.048354Z",
     "iopub.status.idle": "2024-08-05T06:53:33.269373Z",
     "shell.execute_reply": "2024-08-05T06:53:33.268081Z"
    },
    "papermill": {
     "duration": 51.22886,
     "end_time": "2024-08-05T06:53:33.271944",
     "exception": false,
     "start_time": "2024-08-05T06:52:42.043084",
     "status": "completed"
    },
    "tags": []
   },
   "outputs": [
    {
     "name": "stdout",
     "output_type": "stream",
     "text": [
      "Training LogisticRegression\n",
      "\n",
      "--- Fold 1 - MCC: 0.984766\n",
      "--- Fold 2 - MCC: 0.985108\n",
      "--- Fold 3 - MCC: 0.984650\n",
      "--- Fold 4 - MCC: 0.984771\n",
      "--- Fold 5 - MCC: 0.984882\n",
      "\n",
      "------ Average MCC: 0.984836 ± 0.000155\n"
     ]
    }
   ],
   "source": [
    "trainer = Trainer(LogisticRegression())\n",
    "ensemble_scores = trainer.fit_predict(X, y, X_test)\n",
    "scores['Ensemble'] = ensemble_scores"
   ]
  },
  {
   "cell_type": "code",
   "execution_count": 12,
   "id": "6cc88ea6",
   "metadata": {
    "execution": {
     "iopub.execute_input": "2024-08-05T06:53:33.283035Z",
     "iopub.status.busy": "2024-08-05T06:53:33.282671Z",
     "iopub.status.idle": "2024-08-05T06:53:33.780314Z",
     "shell.execute_reply": "2024-08-05T06:53:33.779231Z"
    },
    "papermill": {
     "duration": 0.506227,
     "end_time": "2024-08-05T06:53:33.783089",
     "exception": false,
     "start_time": "2024-08-05T06:53:33.276862",
     "status": "completed"
    },
    "tags": []
   },
   "outputs": [
    {
     "data": {
      "image/png": "[encoded data removed]",
      "text/plain": [
       "<Figure size 1500x500 with 2 Axes>"
      ]
     },
     "metadata": {},
     "output_type": "display_data"
    }
   ],
   "source": [
    "scores = pd.DataFrame(scores)\n",
    "mean_scores = scores.mean().sort_values(ascending=False)\n",
    "order = scores.mean().sort_values(ascending=False).index.tolist()\n",
    "\n",
    "min_score = mean_scores.min()\n",
    "max_score = mean_scores.max()\n",
    "padding = (max_score - min_score) * 0.5\n",
    "lower_limit = min_score - padding\n",
    "upper_limit = max_score + padding\n",
    "\n",
    "fig, axs = plt.subplots(1, 2, figsize=(15, 5))\n",
    "\n",
    "sns.boxplot(data=scores, order=order, ax=axs[0], orient='h', color='#651FFF')\n",
    "axs[0].set_title('Fold MCC')\n",
    "axs[0].set_xlabel('')\n",
    "axs[0].set_ylabel('')\n",
    "\n",
    "barplot = sns.barplot(x=mean_scores.values, y=mean_scores.index, ax=axs[1], color='#651FFF')\n",
    "axs[1].set_title('Average MCC')\n",
    "axs[1].set_xlabel('')\n",
    "axs[1].set_xlim(left=lower_limit, right=upper_limit)\n",
    "axs[1].set_ylabel('')\n",
    "\n",
    "for i, score in enumerate(mean_scores.values):\n",
    "    barplot.text(score, i, round(score, 6), va='center')\n",
    "\n",
    "plt.tight_layout()\n",
    "plt.show()"
   ]
  }
 ],
 "metadata": {
  "kaggle": {
   "accelerator": "none",
   "dataSources": [
    {
     "databundleVersionId": 9045607,
     "sourceId": 76727,
     "sourceType": "competition"
    },
    {
     "sourceId": 191147593,
     "sourceType": "kernelVersion"
    },
    {
     "sourceId": 191148095,
     "sourceType": "kernelVersion"
    },
    {
     "sourceId": 191150906,
     "sourceType": "kernelVersion"
    }
   ],
   "dockerImageVersionId": 30746,
   "isGpuEnabled": false,
   "isInternetEnabled": true,
   "language": "python",
   "sourceType": "notebook"
  },
  "kernelspec": {
   "display_name": "Python 3",
   "language": "python",
   "name": "python3"
  },
  "language_info": {
   "codemirror_mode": {
    "name": "ipython",
    "version": 3
   },
   "file_extension": ".py",
   "mimetype": "text/x-python",
   "name": "python",
   "nbconvert_exporter": "python",
   "pygments_lexer": "ipython3",
   "version": "3.10.13"
  },
  "papermill": {
   "default_parameters": {},
   "duration": 84.857938,
   "end_time": "2024-08-05T06:53:34.714388",
   "environment_variables": {},
   "exception": null,
   "input_path": "__notebook__.ipynb",
   "output_path": "__notebook__.ipynb",
   "parameters": {},
   "start_time": "2024-08-05T06:52:09.856450",
   "version": "2.5.0"
  }
 },
 "nbformat": 4,
 "nbformat_minor": 5
}
