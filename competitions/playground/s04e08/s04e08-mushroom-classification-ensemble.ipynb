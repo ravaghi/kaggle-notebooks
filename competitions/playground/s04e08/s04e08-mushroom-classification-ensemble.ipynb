{
 "cells": [
  {
   "cell_type": "markdown",
   "id": "344528fa",
   "metadata": {
    "papermill": {
     "duration": 0.006866,
     "end_time": "2024-08-19T19:13:09.581820",
     "exception": false,
     "start_time": "2024-08-19T19:13:09.574954",
     "status": "completed"
    },
    "tags": []
   },
   "source": [
    "# Imports and Configs"
   ]
  },
  {
   "cell_type": "code",
   "execution_count": 1,
   "id": "802ba47f",
   "metadata": {
    "_cell_guid": "b1076dfc-b9ad-4769-8c92-a6c4dae69d19",
    "_uuid": "8f2839f25d086af736a60e9eeb907d3b93b6e0e5",
    "execution": {
     "iopub.execute_input": "2024-08-19T19:13:09.596985Z",
     "iopub.status.busy": "2024-08-19T19:13:09.596566Z",
     "iopub.status.idle": "2024-08-19T19:13:13.260458Z",
     "shell.execute_reply": "2024-08-19T19:13:13.259220Z"
    },
    "papermill": {
     "duration": 3.674381,
     "end_time": "2024-08-19T19:13:13.263465",
     "exception": false,
     "start_time": "2024-08-19T19:13:09.589084",
     "status": "completed"
    },
    "tags": []
   },
   "outputs": [],
   "source": [
    "from sklearn.linear_model import LogisticRegression\n",
    "from sklearn.model_selection import StratifiedKFold\n",
    "from sklearn.preprocessing import FunctionTransformer\n",
    "from sklearn.metrics import matthews_corrcoef\n",
    "from sklearn.pipeline import make_pipeline\n",
    "import matplotlib.pyplot as plt\n",
    "from sklearn.base import clone\n",
    "import seaborn as sns\n",
    "import pandas as pd\n",
    "import numpy as np\n",
    "import warnings\n",
    "import pickle\n",
    "import optuna\n",
    "import scipy\n",
    "import glob\n",
    "import gc\n",
    "\n",
    "warnings.filterwarnings('ignore')"
   ]
  },
  {
   "cell_type": "code",
   "execution_count": 2,
   "id": "c8a2e86b",
   "metadata": {
    "execution": {
     "iopub.execute_input": "2024-08-19T19:13:13.278246Z",
     "iopub.status.busy": "2024-08-19T19:13:13.277559Z",
     "iopub.status.idle": "2024-08-19T19:13:13.283554Z",
     "shell.execute_reply": "2024-08-19T19:13:13.282325Z"
    },
    "papermill": {
     "duration": 0.016482,
     "end_time": "2024-08-19T19:13:13.286223",
     "exception": false,
     "start_time": "2024-08-19T19:13:13.269741",
     "status": "completed"
    },
    "tags": []
   },
   "outputs": [],
   "source": [
    "SEED = 6\n",
    "N_FOLDS = 5\n",
    "TARGET = 'class'\n",
    "THRESHOLD = 0.5"
   ]
  },
  {
   "cell_type": "markdown",
   "id": "b55ce91f",
   "metadata": {
    "papermill": {
     "duration": 0.00631,
     "end_time": "2024-08-19T19:13:13.298798",
     "exception": false,
     "start_time": "2024-08-19T19:13:13.292488",
     "status": "completed"
    },
    "tags": []
   },
   "source": [
    "# Loading Data"
   ]
  },
  {
   "cell_type": "code",
   "execution_count": 3,
   "id": "c8fe8b59",
   "metadata": {
    "execution": {
     "iopub.execute_input": "2024-08-19T19:13:13.314408Z",
     "iopub.status.busy": "2024-08-19T19:13:13.312996Z",
     "iopub.status.idle": "2024-08-19T19:13:34.473154Z",
     "shell.execute_reply": "2024-08-19T19:13:34.472054Z"
    },
    "papermill": {
     "duration": 21.1705,
     "end_time": "2024-08-19T19:13:34.475924",
     "exception": false,
     "start_time": "2024-08-19T19:13:13.305424",
     "status": "completed"
    },
    "tags": []
   },
   "outputs": [],
   "source": [
    "train = pd.read_csv('/kaggle/input/playground-series-s4e8/train.csv', index_col='id')\n",
    "test = pd.read_csv('/kaggle/input/playground-series-s4e8/test.csv', index_col='id')\n",
    "\n",
    "X = train.drop(columns=[TARGET])\n",
    "y = train[TARGET].map({'e': 0, 'p': 1})"
   ]
  },
  {
   "cell_type": "code",
   "execution_count": 4,
   "id": "c25378bd",
   "metadata": {
    "execution": {
     "iopub.execute_input": "2024-08-19T19:13:34.490300Z",
     "iopub.status.busy": "2024-08-19T19:13:34.489885Z",
     "iopub.status.idle": "2024-08-19T19:13:34.500017Z",
     "shell.execute_reply": "2024-08-19T19:13:34.498569Z"
    },
    "papermill": {
     "duration": 0.02032,
     "end_time": "2024-08-19T19:13:34.502700",
     "exception": false,
     "start_time": "2024-08-19T19:13:34.482380",
     "status": "completed"
    },
    "tags": []
   },
   "outputs": [],
   "source": [
    "def get_data(model_name):\n",
    "    oof_pred_probs_files = glob.glob(f'/kaggle/input/s04e08-mushroom-classification-{model_name}/*_oof_pred_probs_*.pkl')\n",
    "    test_pred_probs_files = glob.glob(f'/kaggle/input/s04e08-mushroom-classification-{model_name}/*_test_pred_probs_*.pkl')\n",
    "\n",
    "    oof_pred_probs = pickle.load(open(oof_pred_probs_files[0], 'rb'))\n",
    "    test_pred_probs = pickle.load(open(test_pred_probs_files[0], 'rb'))\n",
    "    \n",
    "    scores = []\n",
    "    skf = StratifiedKFold(n_splits=N_FOLDS, random_state=SEED, shuffle=True)\n",
    "    for _, val_idx in skf.split(X, y):\n",
    "        y_val = y[val_idx]\n",
    "        y_pred_probs = oof_pred_probs[val_idx]          \n",
    "        score = matthews_corrcoef(y_val, np.argmax(y_pred_probs, axis=1))\n",
    "        scores.append(score)\n",
    "        \n",
    "    if isinstance(test_pred_probs, pd.DataFrame):\n",
    "        return oof_pred_probs[:, 1], test_pred_probs.values[:, 1], scores\n",
    "    return oof_pred_probs[:, 1], test_pred_probs[:, 1], scores"
   ]
  },
  {
   "cell_type": "markdown",
   "id": "85975dcf",
   "metadata": {
    "papermill": {
     "duration": 0.006144,
     "end_time": "2024-08-19T19:13:34.515333",
     "exception": false,
     "start_time": "2024-08-19T19:13:34.509189",
     "status": "completed"
    },
    "tags": []
   },
   "source": [
    "# Loading OOF Predictions"
   ]
  },
  {
   "cell_type": "code",
   "execution_count": 5,
   "id": "d199038f",
   "metadata": {
    "execution": {
     "iopub.execute_input": "2024-08-19T19:13:34.529768Z",
     "iopub.status.busy": "2024-08-19T19:13:34.529381Z",
     "iopub.status.idle": "2024-08-19T19:13:34.535888Z",
     "shell.execute_reply": "2024-08-19T19:13:34.534593Z"
    },
    "papermill": {
     "duration": 0.01677,
     "end_time": "2024-08-19T19:13:34.538407",
     "exception": false,
     "start_time": "2024-08-19T19:13:34.521637",
     "status": "completed"
    },
    "tags": []
   },
   "outputs": [],
   "source": [
    "test_pred_probs = {}\n",
    "oof_pred_probs = {}\n",
    "scores = {}\n",
    "\n",
    "model_folder_mappings = {\n",
    "    'AutoGluon':        'ag-5-fold',\n",
    "    'XGBoost':          'xgboost',\n",
    "    'LightGBM':         'lightgbm',\n",
    "    'HistGB':           'histgb',\n",
    "    'KerasANN':         'neural-networks'\n",
    "}"
   ]
  },
  {
   "cell_type": "code",
   "execution_count": 6,
   "id": "6b89fd38",
   "metadata": {
    "execution": {
     "iopub.execute_input": "2024-08-19T19:13:34.553304Z",
     "iopub.status.busy": "2024-08-19T19:13:34.552612Z",
     "iopub.status.idle": "2024-08-19T19:13:50.907944Z",
     "shell.execute_reply": "2024-08-19T19:13:50.906676Z"
    },
    "papermill": {
     "duration": 16.366128,
     "end_time": "2024-08-19T19:13:50.911119",
     "exception": false,
     "start_time": "2024-08-19T19:13:34.544991",
     "status": "completed"
    },
    "tags": []
   },
   "outputs": [],
   "source": [
    "for model_name, folder_name in model_folder_mappings.items():\n",
    "    oof_pred_probs[model_name], test_pred_probs[model_name], scores[model_name] = get_data(folder_name)"
   ]
  },
  {
   "cell_type": "markdown",
   "id": "8dfbcecc",
   "metadata": {
    "papermill": {
     "duration": 0.006401,
     "end_time": "2024-08-19T19:13:50.924179",
     "exception": false,
     "start_time": "2024-08-19T19:13:50.917778",
     "status": "completed"
    },
    "tags": []
   },
   "source": [
    "# Stacking With Logistic Regression"
   ]
  },
  {
   "cell_type": "code",
   "execution_count": 7,
   "id": "12362ea2",
   "metadata": {
    "execution": {
     "iopub.execute_input": "2024-08-19T19:13:50.938948Z",
     "iopub.status.busy": "2024-08-19T19:13:50.938541Z",
     "iopub.status.idle": "2024-08-19T19:13:50.955029Z",
     "shell.execute_reply": "2024-08-19T19:13:50.953864Z"
    },
    "papermill": {
     "duration": 0.026792,
     "end_time": "2024-08-19T19:13:50.957468",
     "exception": false,
     "start_time": "2024-08-19T19:13:50.930676",
     "status": "completed"
    },
    "tags": []
   },
   "outputs": [],
   "source": [
    "class Trainer:\n",
    "    def __init__(self, model, n_folds=N_FOLDS, threshold=THRESHOLD):\n",
    "        self.model = model\n",
    "        self.n_folds = n_folds\n",
    "        self.threshold = threshold\n",
    "\n",
    "    def fit_predict(self, X, y, X_test):\n",
    "        print('Training Ensemble\\n')\n",
    "        \n",
    "        scores = []\n",
    "        coeffs = np.zeros((1, X.shape[1]))\n",
    "        test_pred_probs = np.zeros((X_test.shape[0], len(np.unique(y))))\n",
    "        oof_pred_probs = np.zeros((X.shape[0], len(np.unique(y))))\n",
    "        \n",
    "        skf = StratifiedKFold(n_splits=self.n_folds, random_state=SEED, shuffle=True)\n",
    "        for fold_idx, (train_idx, val_idx) in enumerate(skf.split(X, y)):\n",
    "            X_train, X_val = X[train_idx], X[val_idx]\n",
    "            y_train, y_val = y[train_idx], y[val_idx]\n",
    "            \n",
    "            model = clone(self.model)\n",
    "            model.fit(X_train, y_train)\n",
    "            \n",
    "            y_pred_probs = model.predict_proba(X_val)  \n",
    "            oof_pred_probs[val_idx] = y_pred_probs\n",
    "            y_preds = y_pred_probs[:, 1] >= self.threshold\n",
    "            \n",
    "            temp_test_pred_probs = model.predict_proba(X_test)\n",
    "            test_pred_probs += temp_test_pred_probs / self.n_folds\n",
    "            \n",
    "            coeffs += model[-1].coef_ / self.n_folds\n",
    "            \n",
    "            score = matthews_corrcoef(y_val, y_preds)\n",
    "            scores.append(score)\n",
    "            \n",
    "            del model, X_train, y_train, X_val, y_val, y_pred_probs\n",
    "            gc.collect()\n",
    "            \n",
    "            print(f'--- Fold {fold_idx + 1} - MCC: {score:.6f}')\n",
    "            \n",
    "        print(f'\\n------ Average MCC: {np.mean(scores):.6f} ± {np.std(scores):.6f}')\n",
    "        \n",
    "        self._save_submission(test_pred_probs, np.mean(scores))\n",
    "        \n",
    "        return scores, oof_pred_probs, coeffs\n",
    "    \n",
    "    def _save_submission(self, test_pred_probs, score):\n",
    "        name = 'ensemble'\n",
    "        sub = pd.read_csv('/kaggle/input/playground-series-s4e8/sample_submission.csv')\n",
    "        sub[TARGET] = test_pred_probs[:, 1] >= THRESHOLD\n",
    "        sub[TARGET] = sub[TARGET].map({False: 'e', True: 'p'})\n",
    "        sub.to_csv(f'sub_{name}_{score:.6f}.csv', index=False)"
   ]
  },
  {
   "cell_type": "code",
   "execution_count": 8,
   "id": "93bc6826",
   "metadata": {
    "execution": {
     "iopub.execute_input": "2024-08-19T19:13:50.972517Z",
     "iopub.status.busy": "2024-08-19T19:13:50.972081Z",
     "iopub.status.idle": "2024-08-19T19:13:51.511156Z",
     "shell.execute_reply": "2024-08-19T19:13:51.510070Z"
    },
    "papermill": {
     "duration": 0.550222,
     "end_time": "2024-08-19T19:13:51.514321",
     "exception": false,
     "start_time": "2024-08-19T19:13:50.964099",
     "status": "completed"
    },
    "tags": []
   },
   "outputs": [],
   "source": [
    "X = np.column_stack(list(oof_pred_probs.values())).astype(np.float64).clip(1e-15, 1-1e-15)\n",
    "X_test = np.column_stack(list(test_pred_probs.values())).astype(np.float64).clip(1e-15, 1-1e-15)"
   ]
  },
  {
   "cell_type": "code",
   "execution_count": 9,
   "id": "8b631750",
   "metadata": {
    "execution": {
     "iopub.execute_input": "2024-08-19T19:13:51.530351Z",
     "iopub.status.busy": "2024-08-19T19:13:51.529277Z",
     "iopub.status.idle": "2024-08-19T19:14:49.741020Z",
     "shell.execute_reply": "2024-08-19T19:14:49.739660Z"
    },
    "papermill": {
     "duration": 58.222806,
     "end_time": "2024-08-19T19:14:49.744103",
     "exception": false,
     "start_time": "2024-08-19T19:13:51.521297",
     "status": "completed"
    },
    "tags": []
   },
   "outputs": [
    {
     "name": "stdout",
     "output_type": "stream",
     "text": [
      "Training Ensemble\n",
      "\n",
      "--- Fold 1 - MCC: 0.984798\n",
      "--- Fold 2 - MCC: 0.985253\n",
      "--- Fold 3 - MCC: 0.984802\n",
      "--- Fold 4 - MCC: 0.984927\n",
      "--- Fold 5 - MCC: 0.985005\n",
      "\n",
      "------ Average MCC: 0.984957 ± 0.000167\n"
     ]
    }
   ],
   "source": [
    "model = make_pipeline(FunctionTransformer(scipy.special.logit), LogisticRegression(max_iter=500))\n",
    "\n",
    "trainer = Trainer(model)\n",
    "ensemble_scores, ensemble_oof_pred_probs, coeffs = trainer.fit_predict(X, y, X_test)\n",
    "scores['Ensemble'] = ensemble_scores"
   ]
  },
  {
   "cell_type": "code",
   "execution_count": 10,
   "id": "1d885a6e",
   "metadata": {
    "execution": {
     "iopub.execute_input": "2024-08-19T19:14:49.761025Z",
     "iopub.status.busy": "2024-08-19T19:14:49.760610Z",
     "iopub.status.idle": "2024-08-19T19:14:50.208435Z",
     "shell.execute_reply": "2024-08-19T19:14:50.207187Z"
    },
    "papermill": {
     "duration": 0.459267,
     "end_time": "2024-08-19T19:14:50.211208",
     "exception": false,
     "start_time": "2024-08-19T19:14:49.751941",
     "status": "completed"
    },
    "tags": []
   },
   "outputs": [
    {
     "data": {
      "image/png": "[encoded data removed]",
      "text/plain": [
       "<Figure size 1500x500 with 1 Axes>"
      ]
     },
     "metadata": {},
     "output_type": "display_data"
    }
   ],
   "source": [
    "sorted_indices = np.argsort(np.abs(coeffs[0]))[::-1]\n",
    "sorted_coeffs = np.array(coeffs[0])[sorted_indices]\n",
    "sorted_model_names = np.array(list(oof_pred_probs.keys()))[sorted_indices]\n",
    "\n",
    "plt.figure(figsize=(15, 5))\n",
    "ax = sns.barplot(x=sorted_coeffs, y=sorted_model_names, color='#651FFF')\n",
    "\n",
    "for i, (value, name) in enumerate(zip(sorted_coeffs, sorted_model_names)):\n",
    "    if value > 0:\n",
    "        ax.text(value, i, f'{value:.3f}', va='center', ha='left', color='black')\n",
    "    else:\n",
    "        ax.text(value, i, f'{value:.3f}', va='center', ha='right', color='black')\n",
    "\n",
    "xlim = ax.get_xlim()\n",
    "ax.set_xlim(xlim[0] - 0.1 * abs(xlim[0]), xlim[1] + 0.1 * abs(xlim[1]))       \n",
    "plt.title('Model Coefficients')\n",
    "plt.xlabel('')\n",
    "plt.ylabel('')\n",
    "\n",
    "plt.tight_layout()\n",
    "plt.show()"
   ]
  },
  {
   "cell_type": "markdown",
   "id": "d4ca3b80",
   "metadata": {
    "papermill": {
     "duration": 0.007706,
     "end_time": "2024-08-19T19:14:50.227806",
     "exception": false,
     "start_time": "2024-08-19T19:14:50.220100",
     "status": "completed"
    },
    "tags": []
   },
   "source": [
    "# Optimizing Threshold"
   ]
  },
  {
   "cell_type": "code",
   "execution_count": 11,
   "id": "a8e40cc5",
   "metadata": {
    "_kg_hide-output": true,
    "execution": {
     "iopub.execute_input": "2024-08-19T19:14:50.246832Z",
     "iopub.status.busy": "2024-08-19T19:14:50.246384Z",
     "iopub.status.idle": "2024-08-19T19:17:29.177395Z",
     "shell.execute_reply": "2024-08-19T19:17:29.175855Z"
    },
    "papermill": {
     "duration": 158.943801,
     "end_time": "2024-08-19T19:17:29.180162",
     "exception": false,
     "start_time": "2024-08-19T19:14:50.236361",
     "status": "completed"
    },
    "scrolled": true,
    "tags": []
   },
   "outputs": [
    {
     "name": "stderr",
     "output_type": "stream",
     "text": [
      "[I 2024-08-19 19:14:50,249] A new study created in memory with name: no-name-2edbbcc8-344d-4c85-b985-eb77f7c5290c\n",
      "[I 2024-08-19 19:14:52,905] Trial 2 finished with value: 0.979665019456739 and parameters: {'threshold': 0.907}. Best is trial 2 with value: 0.979665019456739.\n",
      "[I 2024-08-19 19:14:52,908] Trial 0 finished with value: 0.9848025960085509 and parameters: {'threshold': 0.395}. Best is trial 0 with value: 0.9848025960085509.\n",
      "[I 2024-08-19 19:14:52,919] Trial 1 finished with value: 0.9784171847507798 and parameters: {'threshold': 0.099}. Best is trial 0 with value: 0.9848025960085509.\n",
      "[I 2024-08-19 19:14:52,924] Trial 3 finished with value: 0.9824888463285177 and parameters: {'threshold': 0.838}. Best is trial 0 with value: 0.9848025960085509.\n",
      "[I 2024-08-19 19:14:55,481] Trial 5 finished with value: 0.9840942120162417 and parameters: {'threshold': 0.278}. Best is trial 0 with value: 0.9848025960085509.\n",
      "[I 2024-08-19 19:14:55,541] Trial 6 finished with value: 0.9849308933623804 and parameters: {'threshold': 0.458}. Best is trial 6 with value: 0.9849308933623804.\n",
      "[I 2024-08-19 19:14:55,607] Trial 7 finished with value: 0.9116613261542947 and parameters: {'threshold': 0.989}. Best is trial 6 with value: 0.9849308933623804.\n",
      "[I 2024-08-19 19:14:55,635] Trial 4 finished with value: 0.9564304737058256 and parameters: {'threshold': 0.032}. Best is trial 6 with value: 0.9849308933623804.\n",
      "[I 2024-08-19 19:14:58,133] Trial 8 finished with value: 0.9792230762351994 and parameters: {'threshold': 0.913}. Best is trial 6 with value: 0.9849308933623804.\n",
      "[I 2024-08-19 19:14:58,568] Trial 9 finished with value: 0.9846278877860252 and parameters: {'threshold': 0.35000000000000003}. Best is trial 6 with value: 0.9849308933623804.\n",
      "[I 2024-08-19 19:14:58,606] Trial 10 finished with value: 0.975962208334634 and parameters: {'threshold': 0.079}. Best is trial 6 with value: 0.9849308933623804.\n",
      "[I 2024-08-19 19:14:58,646] Trial 11 finished with value: 0.9838447194099433 and parameters: {'threshold': 0.253}. Best is trial 6 with value: 0.9849308933623804.\n",
      "[I 2024-08-19 19:15:00,540] Trial 12 finished with value: 0.9843851097018084 and parameters: {'threshold': 0.6940000000000001}. Best is trial 6 with value: 0.9849308933623804.\n",
      "[I 2024-08-19 19:15:01,051] Trial 13 finished with value: 0.9846221767061624 and parameters: {'threshold': 0.654}. Best is trial 6 with value: 0.9849308933623804.\n",
      "[I 2024-08-19 19:15:01,084] Trial 15 finished with value: 0.9849135735489871 and parameters: {'threshold': 0.5710000000000001}. Best is trial 6 with value: 0.9849308933623804.\n",
      "[I 2024-08-19 19:15:01,093] Trial 14 finished with value: 0.9848119578085429 and parameters: {'threshold': 0.607}. Best is trial 6 with value: 0.9849308933623804.\n",
      "[I 2024-08-19 19:15:02,998] Trial 16 finished with value: 0.9849444487187777 and parameters: {'threshold': 0.539}. Best is trial 16 with value: 0.9849444487187777.\n",
      "[I 2024-08-19 19:15:03,533] Trial 17 finished with value: 0.9849393403726332 and parameters: {'threshold': 0.47700000000000004}. Best is trial 16 with value: 0.9849444487187777.\n",
      "[I 2024-08-19 19:15:03,587] Trial 18 finished with value: 0.9849415222910425 and parameters: {'threshold': 0.546}. Best is trial 16 with value: 0.9849444487187777.\n",
      "[I 2024-08-19 19:15:03,592] Trial 19 finished with value: 0.984962969032371 and parameters: {'threshold': 0.502}. Best is trial 19 with value: 0.984962969032371.\n",
      "[I 2024-08-19 19:15:05,596] Trial 20 finished with value: 0.9849322321591955 and parameters: {'threshold': 0.459}. Best is trial 19 with value: 0.984962969032371.\n",
      "[I 2024-08-19 19:15:06,049] Trial 21 finished with value: 0.9841385358923866 and parameters: {'threshold': 0.727}. Best is trial 19 with value: 0.984962969032371.\n",
      "[I 2024-08-19 19:15:06,137] Trial 23 finished with value: 0.9843199094889136 and parameters: {'threshold': 0.7020000000000001}. Best is trial 19 with value: 0.984962969032371.\n",
      "[I 2024-08-19 19:15:06,164] Trial 22 finished with value: 0.9837964322278532 and parameters: {'threshold': 0.76}. Best is trial 19 with value: 0.984962969032371.\n",
      "[I 2024-08-19 19:15:08,099] Trial 24 finished with value: 0.9839230821897501 and parameters: {'threshold': 0.748}. Best is trial 19 with value: 0.984962969032371.\n",
      "[I 2024-08-19 19:15:08,536] Trial 25 finished with value: 0.9849446824870547 and parameters: {'threshold': 0.544}. Best is trial 19 with value: 0.984962969032371.\n",
      "[I 2024-08-19 19:15:08,637] Trial 27 finished with value: 0.9849383677340722 and parameters: {'threshold': 0.548}. Best is trial 19 with value: 0.984962969032371.\n",
      "[I 2024-08-19 19:15:08,655] Trial 26 finished with value: 0.9849251683923583 and parameters: {'threshold': 0.556}. Best is trial 19 with value: 0.984962969032371.\n",
      "[I 2024-08-19 19:15:10,585] Trial 28 finished with value: 0.9849443100601305 and parameters: {'threshold': 0.536}. Best is trial 19 with value: 0.984962969032371.\n",
      "[I 2024-08-19 19:15:10,967] Trial 29 finished with value: 0.9846650065455912 and parameters: {'threshold': 0.359}. Best is trial 19 with value: 0.984962969032371.\n",
      "[I 2024-08-19 19:15:11,066] Trial 30 finished with value: 0.9846415358311874 and parameters: {'threshold': 0.352}. Best is trial 19 with value: 0.984962969032371.\n",
      "[I 2024-08-19 19:15:11,159] Trial 31 finished with value: 0.9847263182784436 and parameters: {'threshold': 0.376}. Best is trial 19 with value: 0.984962969032371.\n",
      "[I 2024-08-19 19:15:13,019] Trial 32 finished with value: 0.9847849443443413 and parameters: {'threshold': 0.389}. Best is trial 19 with value: 0.984962969032371.\n",
      "[I 2024-08-19 19:15:13,380] Trial 33 finished with value: 0.9848733375403814 and parameters: {'threshold': 0.42}. Best is trial 19 with value: 0.984962969032371.\n",
      "[I 2024-08-19 19:15:13,480] Trial 34 finished with value: 0.9848458538869668 and parameters: {'threshold': 0.41200000000000003}. Best is trial 19 with value: 0.984962969032371.\n",
      "[I 2024-08-19 19:15:13,603] Trial 35 finished with value: 0.9847165137359987 and parameters: {'threshold': 0.633}. Best is trial 19 with value: 0.984962969032371.\n",
      "[I 2024-08-19 19:15:15,518] Trial 36 finished with value: 0.9849633888885236 and parameters: {'threshold': 0.496}. Best is trial 36 with value: 0.9849633888885236.\n",
      "[I 2024-08-19 19:15:15,878] Trial 37 finished with value: 0.9847165137359987 and parameters: {'threshold': 0.633}. Best is trial 36 with value: 0.9849633888885236.\n",
      "[I 2024-08-19 19:15:15,925] Trial 38 finished with value: 0.9840118894588133 and parameters: {'threshold': 0.27}. Best is trial 36 with value: 0.9849633888885236.\n",
      "[I 2024-08-19 19:15:16,101] Trial 39 finished with value: 0.983552718091118 and parameters: {'threshold': 0.23}. Best is trial 36 with value: 0.9849633888885236.\n",
      "[I 2024-08-19 19:15:17,991] Trial 40 finished with value: 0.9840566106242642 and parameters: {'threshold': 0.274}. Best is trial 36 with value: 0.9849633888885236.\n",
      "[I 2024-08-19 19:15:18,387] Trial 42 finished with value: 0.9832014279152387 and parameters: {'threshold': 0.20800000000000002}. Best is trial 36 with value: 0.9849633888885236.\n",
      "[I 2024-08-19 19:15:18,402] Trial 41 finished with value: 0.9842868607587304 and parameters: {'threshold': 0.301}. Best is trial 36 with value: 0.9849633888885236.\n",
      "[I 2024-08-19 19:15:18,551] Trial 43 finished with value: 0.9829071664653899 and parameters: {'threshold': 0.8190000000000001}. Best is trial 36 with value: 0.9849633888885236.\n",
      "[I 2024-08-19 19:15:20,438] Trial 44 finished with value: 0.9849684804474924 and parameters: {'threshold': 0.51}. Best is trial 44 with value: 0.9849684804474924.\n",
      "[I 2024-08-19 19:15:20,801] Trial 45 finished with value: 0.9849597735749657 and parameters: {'threshold': 0.487}. Best is trial 44 with value: 0.9849684804474924.\n",
      "[I 2024-08-19 19:15:20,896] Trial 46 finished with value: 0.9849677219669501 and parameters: {'threshold': 0.508}. Best is trial 44 with value: 0.9849684804474924.\n",
      "[I 2024-08-19 19:15:21,023] Trial 47 finished with value: 0.9849567352444942 and parameters: {'threshold': 0.492}. Best is trial 44 with value: 0.9849684804474924.\n",
      "[I 2024-08-19 19:15:22,935] Trial 48 finished with value: 0.9849222623523286 and parameters: {'threshold': 0.451}. Best is trial 44 with value: 0.9849684804474924.\n",
      "[I 2024-08-19 19:15:23,220] Trial 49 finished with value: 0.9849684804474924 and parameters: {'threshold': 0.51}. Best is trial 44 with value: 0.9849684804474924.\n",
      "[I 2024-08-19 19:15:23,387] Trial 50 finished with value: 0.984945942342255 and parameters: {'threshold': 0.481}. Best is trial 44 with value: 0.9849684804474924.\n",
      "[I 2024-08-19 19:15:23,495] Trial 51 finished with value: 0.9848505931440491 and parameters: {'threshold': 0.592}. Best is trial 44 with value: 0.9849684804474924.\n",
      "[I 2024-08-19 19:15:25,507] Trial 52 finished with value: 0.9848397783359649 and parameters: {'threshold': 0.595}. Best is trial 44 with value: 0.9849684804474924.\n",
      "[I 2024-08-19 19:15:25,798] Trial 53 finished with value: 0.9848057277073273 and parameters: {'threshold': 0.611}. Best is trial 44 with value: 0.9849684804474924.\n",
      "[I 2024-08-19 19:15:25,921] Trial 54 finished with value: 0.9848467812121231 and parameters: {'threshold': 0.593}. Best is trial 44 with value: 0.9849684804474924.\n",
      "[I 2024-08-19 19:15:26,051] Trial 55 finished with value: 0.9849686285413721 and parameters: {'threshold': 0.514}. Best is trial 55 with value: 0.9849686285413721.\n",
      "[I 2024-08-19 19:15:28,043] Trial 56 finished with value: 0.9849627336570412 and parameters: {'threshold': 0.512}. Best is trial 55 with value: 0.9849686285413721.\n",
      "[I 2024-08-19 19:15:28,548] Trial 57 finished with value: 0.9849636511176206 and parameters: {'threshold': 0.503}. Best is trial 55 with value: 0.9849686285413721.\n",
      "[I 2024-08-19 19:15:28,570] Trial 58 finished with value: 0.9849686285413721 and parameters: {'threshold': 0.514}. Best is trial 55 with value: 0.9849686285413721.\n",
      "[I 2024-08-19 19:15:28,955] Trial 59 finished with value: 0.9849081305740875 and parameters: {'threshold': 0.435}. Best is trial 55 with value: 0.9849686285413721.\n",
      "[I 2024-08-19 19:15:30,872] Trial 60 finished with value: 0.9849048663609179 and parameters: {'threshold': 0.434}. Best is trial 55 with value: 0.9849686285413721.\n",
      "[I 2024-08-19 19:15:31,351] Trial 61 finished with value: 0.9849308693435941 and parameters: {'threshold': 0.457}. Best is trial 55 with value: 0.9849686285413721.\n",
      "[I 2024-08-19 19:15:31,394] Trial 62 finished with value: 0.9844445838024287 and parameters: {'threshold': 0.685}. Best is trial 55 with value: 0.9849686285413721.\n",
      "[I 2024-08-19 19:15:31,590] Trial 63 finished with value: 0.9845602965937278 and parameters: {'threshold': 0.667}. Best is trial 55 with value: 0.9849686285413721.\n",
      "[I 2024-08-19 19:15:33,378] Trial 64 finished with value: 0.98496147261827 and parameters: {'threshold': 0.513}. Best is trial 55 with value: 0.9849686285413721.\n",
      "[I 2024-08-19 19:15:33,823] Trial 65 finished with value: 0.9845354150202059 and parameters: {'threshold': 0.671}. Best is trial 55 with value: 0.9849686285413721.\n",
      "[I 2024-08-19 19:15:33,884] Trial 66 finished with value: 0.9849700727499061 and parameters: {'threshold': 0.517}. Best is trial 66 with value: 0.9849700727499061.\n",
      "[I 2024-08-19 19:15:34,052] Trial 67 finished with value: 0.9849662280456912 and parameters: {'threshold': 0.518}. Best is trial 66 with value: 0.9849700727499061.\n",
      "[I 2024-08-19 19:15:35,927] Trial 68 finished with value: 0.9849669656375445 and parameters: {'threshold': 0.521}. Best is trial 66 with value: 0.9849700727499061.\n",
      "[I 2024-08-19 19:15:36,277] Trial 69 finished with value: 0.9845251082438551 and parameters: {'threshold': 0.33}. Best is trial 66 with value: 0.9849700727499061.\n",
      "[I 2024-08-19 19:15:36,384] Trial 70 finished with value: 0.9849135735489871 and parameters: {'threshold': 0.5710000000000001}. Best is trial 66 with value: 0.9849700727499061.\n",
      "[I 2024-08-19 19:15:36,624] Trial 71 finished with value: 0.9845251082438551 and parameters: {'threshold': 0.33}. Best is trial 66 with value: 0.9849700727499061.\n",
      "[I 2024-08-19 19:15:38,480] Trial 72 finished with value: 0.9849274897182716 and parameters: {'threshold': 0.5630000000000001}. Best is trial 66 with value: 0.9849700727499061.\n",
      "[I 2024-08-19 19:15:38,768] Trial 73 finished with value: 0.9849148231305669 and parameters: {'threshold': 0.5700000000000001}. Best is trial 66 with value: 0.9849700727499061.\n",
      "[I 2024-08-19 19:15:38,909] Trial 74 finished with value: 0.9849581061949813 and parameters: {'threshold': 0.526}. Best is trial 66 with value: 0.9849700727499061.\n",
      "[I 2024-08-19 19:15:39,173] Trial 75 finished with value: 0.9849510885128112 and parameters: {'threshold': 0.528}. Best is trial 66 with value: 0.9849700727499061.\n",
      "[I 2024-08-19 19:15:40,997] Trial 76 finished with value: 0.9849612607782426 and parameters: {'threshold': 0.524}. Best is trial 66 with value: 0.9849700727499061.\n",
      "[I 2024-08-19 19:15:41,270] Trial 77 finished with value: 0.9849669656375445 and parameters: {'threshold': 0.521}. Best is trial 66 with value: 0.9849700727499061.\n",
      "[I 2024-08-19 19:15:41,418] Trial 78 finished with value: 0.9849407787976614 and parameters: {'threshold': 0.463}. Best is trial 66 with value: 0.9849700727499061.\n",
      "[I 2024-08-19 19:15:41,669] Trial 79 finished with value: 0.9848025716014862 and parameters: {'threshold': 0.394}. Best is trial 66 with value: 0.9849700727499061.\n",
      "[I 2024-08-19 19:15:43,478] Trial 80 finished with value: 0.9848549633478403 and parameters: {'threshold': 0.41300000000000003}. Best is trial 66 with value: 0.9849700727499061.\n",
      "[I 2024-08-19 19:15:43,736] Trial 81 finished with value: 0.984812465854421 and parameters: {'threshold': 0.4}. Best is trial 66 with value: 0.9849700727499061.\n",
      "[I 2024-08-19 19:15:43,890] Trial 82 finished with value: 0.9847778509886101 and parameters: {'threshold': 0.621}. Best is trial 66 with value: 0.9849700727499061.\n",
      "[I 2024-08-19 19:15:44,140] Trial 83 finished with value: 0.9846591881938109 and parameters: {'threshold': 0.647}. Best is trial 66 with value: 0.9849700727499061.\n",
      "[I 2024-08-19 19:15:45,987] Trial 84 finished with value: 0.9847108447326117 and parameters: {'threshold': 0.636}. Best is trial 66 with value: 0.9849700727499061.\n",
      "[I 2024-08-19 19:15:46,270] Trial 85 finished with value: 0.9848057277073273 and parameters: {'threshold': 0.611}. Best is trial 66 with value: 0.9849700727499061.\n",
      "[I 2024-08-19 19:15:46,380] Trial 86 finished with value: 0.9849411061580161 and parameters: {'threshold': 0.47200000000000003}. Best is trial 66 with value: 0.9849700727499061.\n",
      "[I 2024-08-19 19:15:46,663] Trial 87 finished with value: 0.9849408812795012 and parameters: {'threshold': 0.466}. Best is trial 66 with value: 0.9849700727499061.\n",
      "[I 2024-08-19 19:15:48,495] Trial 88 finished with value: 0.984927270267002 and parameters: {'threshold': 0.559}. Best is trial 66 with value: 0.9849700727499061.\n",
      "[I 2024-08-19 19:15:48,752] Trial 89 finished with value: 0.9849407787976614 and parameters: {'threshold': 0.463}. Best is trial 66 with value: 0.9849700727499061.\n",
      "[I 2024-08-19 19:15:48,895] Trial 90 finished with value: 0.9849037275501712 and parameters: {'threshold': 0.439}. Best is trial 66 with value: 0.9849700727499061.\n",
      "[I 2024-08-19 19:15:49,158] Trial 91 finished with value: 0.9849415222910425 and parameters: {'threshold': 0.546}. Best is trial 66 with value: 0.9849700727499061.\n",
      "[I 2024-08-19 19:15:50,976] Trial 92 finished with value: 0.9849472348964118 and parameters: {'threshold': 0.543}. Best is trial 66 with value: 0.9849700727499061.\n",
      "[I 2024-08-19 19:15:51,231] Trial 93 finished with value: 0.9849458986908993 and parameters: {'threshold': 0.542}. Best is trial 66 with value: 0.9849700727499061.\n",
      "[I 2024-08-19 19:15:51,380] Trial 94 finished with value: 0.9849630387460879 and parameters: {'threshold': 0.504}. Best is trial 66 with value: 0.9849700727499061.\n",
      "[I 2024-08-19 19:15:51,630] Trial 95 finished with value: 0.9849633888885236 and parameters: {'threshold': 0.496}. Best is trial 66 with value: 0.9849700727499061.\n",
      "[I 2024-08-19 19:15:53,468] Trial 96 finished with value: 0.984962969032371 and parameters: {'threshold': 0.502}. Best is trial 66 with value: 0.9849700727499061.\n",
      "[I 2024-08-19 19:15:53,698] Trial 97 finished with value: 0.984961655953398 and parameters: {'threshold': 0.501}. Best is trial 66 with value: 0.9849700727499061.\n",
      "[I 2024-08-19 19:15:53,864] Trial 98 finished with value: 0.9848811843405878 and parameters: {'threshold': 0.584}. Best is trial 66 with value: 0.9849700727499061.\n",
      "[I 2024-08-19 19:15:54,102] Trial 99 finished with value: 0.984872930589015 and parameters: {'threshold': 0.587}. Best is trial 66 with value: 0.9849700727499061.\n",
      "[I 2024-08-19 19:15:55,990] Trial 100 finished with value: 0.9848754669266452 and parameters: {'threshold': 0.586}. Best is trial 66 with value: 0.9849700727499061.\n",
      "[I 2024-08-19 19:15:56,286] Trial 101 finished with value: 0.9848951639946679 and parameters: {'threshold': 0.579}. Best is trial 66 with value: 0.9849700727499061.\n",
      "[I 2024-08-19 19:15:56,404] Trial 102 finished with value: 0.9848950379304069 and parameters: {'threshold': 0.43}. Best is trial 66 with value: 0.9849700727499061.\n",
      "[I 2024-08-19 19:15:56,682] Trial 103 finished with value: 0.9848923800917223 and parameters: {'threshold': 0.428}. Best is trial 66 with value: 0.9849700727499061.\n",
      "[I 2024-08-19 19:15:58,494] Trial 104 finished with value: 0.9849473587009625 and parameters: {'threshold': 0.484}. Best is trial 66 with value: 0.9849700727499061.\n",
      "[I 2024-08-19 19:15:58,803] Trial 105 finished with value: 0.9849393403726332 and parameters: {'threshold': 0.47700000000000004}. Best is trial 66 with value: 0.9849700727499061.\n",
      "[I 2024-08-19 19:15:58,914] Trial 106 finished with value: 0.9849420197285934 and parameters: {'threshold': 0.48}. Best is trial 66 with value: 0.9849700727499061.\n",
      "[I 2024-08-19 19:15:59,199] Trial 107 finished with value: 0.9849473587009625 and parameters: {'threshold': 0.484}. Best is trial 66 with value: 0.9849700727499061.\n",
      "[I 2024-08-19 19:16:01,260] Trial 108 finished with value: 0.984956861424002 and parameters: {'threshold': 0.527}. Best is trial 66 with value: 0.9849700727499061.\n",
      "[I 2024-08-19 19:16:01,534] Trial 109 finished with value: 0.984970024294989 and parameters: {'threshold': 0.516}. Best is trial 66 with value: 0.9849700727499061.\n",
      "[I 2024-08-19 19:16:02,031] Trial 110 finished with value: 0.9849675518077204 and parameters: {'threshold': 0.519}. Best is trial 66 with value: 0.9849700727499061.\n",
      "[I 2024-08-19 19:16:02,140] Trial 111 finished with value: 0.9849669656375445 and parameters: {'threshold': 0.521}. Best is trial 66 with value: 0.9849700727499061.\n",
      "[I 2024-08-19 19:16:03,790] Trial 112 finished with value: 0.9847263182784436 and parameters: {'threshold': 0.376}. Best is trial 66 with value: 0.9849700727499061.\n",
      "[I 2024-08-19 19:16:04,239] Trial 113 finished with value: 0.9260004393551702 and parameters: {'threshold': 0.987}. Best is trial 66 with value: 0.9849700727499061.\n",
      "[I 2024-08-19 19:16:04,491] Trial 114 finished with value: 0.9849637759295472 and parameters: {'threshold': 0.522}. Best is trial 66 with value: 0.9849700727499061.\n",
      "[I 2024-08-19 19:16:04,594] Trial 115 finished with value: 0.6393442681246227 and parameters: {'threshold': 0.997}. Best is trial 66 with value: 0.9849700727499061.\n",
      "[I 2024-08-19 19:16:06,279] Trial 116 finished with value: 0.9849693311489389 and parameters: {'threshold': 0.515}. Best is trial 66 with value: 0.9849700727499061.\n",
      "[I 2024-08-19 19:16:06,807] Trial 117 finished with value: 0.9849669656375445 and parameters: {'threshold': 0.521}. Best is trial 66 with value: 0.9849700727499061.\n",
      "[I 2024-08-19 19:16:07,052] Trial 118 finished with value: 0.9849137285338925 and parameters: {'threshold': 0.448}. Best is trial 66 with value: 0.9849700727499061.\n",
      "[I 2024-08-19 19:16:07,133] Trial 119 finished with value: 0.9849271615303118 and parameters: {'threshold': 0.557}. Best is trial 66 with value: 0.9849700727499061.\n",
      "[I 2024-08-19 19:16:08,757] Trial 120 finished with value: 0.9849117576196345 and parameters: {'threshold': 0.447}. Best is trial 66 with value: 0.9849700727499061.\n",
      "[I 2024-08-19 19:16:09,272] Trial 121 finished with value: 0.9849278766514582 and parameters: {'threshold': 0.558}. Best is trial 66 with value: 0.9849700727499061.\n",
      "[I 2024-08-19 19:16:09,557] Trial 122 finished with value: 0.984927270267002 and parameters: {'threshold': 0.559}. Best is trial 66 with value: 0.9849700727499061.\n",
      "[I 2024-08-19 19:16:09,636] Trial 123 finished with value: 0.9849271615303118 and parameters: {'threshold': 0.557}. Best is trial 66 with value: 0.9849700727499061.\n",
      "[I 2024-08-19 19:16:11,208] Trial 124 finished with value: 0.9849421354073802 and parameters: {'threshold': 0.545}. Best is trial 66 with value: 0.9849700727499061.\n",
      "[I 2024-08-19 19:16:11,798] Trial 125 finished with value: 0.9849443100601305 and parameters: {'threshold': 0.536}. Best is trial 66 with value: 0.9849700727499061.\n",
      "[I 2024-08-19 19:16:12,043] Trial 126 finished with value: 0.9849550824763403 and parameters: {'threshold': 0.53}. Best is trial 66 with value: 0.9849700727499061.\n",
      "[I 2024-08-19 19:16:12,187] Trial 127 finished with value: 0.9849474367801722 and parameters: {'threshold': 0.533}. Best is trial 66 with value: 0.9849700727499061.\n",
      "[I 2024-08-19 19:16:13,707] Trial 128 finished with value: 0.984970024294989 and parameters: {'threshold': 0.516}. Best is trial 66 with value: 0.9849700727499061.\n",
      "[I 2024-08-19 19:16:14,256] Trial 129 finished with value: 0.9802071041164344 and parameters: {'threshold': 0.122}. Best is trial 66 with value: 0.9849700727499061.\n",
      "[I 2024-08-19 19:16:14,493] Trial 130 finished with value: 0.9849736017125721 and parameters: {'threshold': 0.509}. Best is trial 130 with value: 0.9849736017125721.\n",
      "[I 2024-08-19 19:16:14,678] Trial 131 finished with value: 0.9849627336570412 and parameters: {'threshold': 0.512}. Best is trial 130 with value: 0.9849736017125721.\n",
      "[I 2024-08-19 19:16:16,241] Trial 132 finished with value: 0.9849647702583622 and parameters: {'threshold': 0.498}. Best is trial 130 with value: 0.9849736017125721.\n",
      "[I 2024-08-19 19:16:16,756] Trial 133 finished with value: 0.98496830107465 and parameters: {'threshold': 0.506}. Best is trial 130 with value: 0.9849736017125721.\n",
      "[I 2024-08-19 19:16:17,011] Trial 134 finished with value: 0.9849656745216703 and parameters: {'threshold': 0.505}. Best is trial 130 with value: 0.9849736017125721.\n",
      "[I 2024-08-19 19:16:17,191] Trial 135 finished with value: 0.9849561803210852 and parameters: {'threshold': 0.494}. Best is trial 130 with value: 0.9849736017125721.\n",
      "[I 2024-08-19 19:16:18,776] Trial 136 finished with value: 0.9849467917660917 and parameters: {'threshold': 0.468}. Best is trial 130 with value: 0.9849736017125721.\n",
      "[I 2024-08-19 19:16:19,267] Trial 137 finished with value: 0.9849418570656481 and parameters: {'threshold': 0.47500000000000003}. Best is trial 130 with value: 0.9849736017125721.\n",
      "[I 2024-08-19 19:16:19,487] Trial 138 finished with value: 0.9849289014725249 and parameters: {'threshold': 0.456}. Best is trial 130 with value: 0.9849736017125721.\n",
      "[I 2024-08-19 19:16:19,683] Trial 139 finished with value: 0.9848208588175106 and parameters: {'threshold': 0.604}. Best is trial 130 with value: 0.9849736017125721.\n",
      "[I 2024-08-19 19:16:21,266] Trial 140 finished with value: 0.9849196262002758 and parameters: {'threshold': 0.45}. Best is trial 130 with value: 0.9849736017125721.\n",
      "[I 2024-08-19 19:16:21,756] Trial 141 finished with value: 0.9849268505104127 and parameters: {'threshold': 0.453}. Best is trial 130 with value: 0.9849736017125721.\n",
      "[I 2024-08-19 19:16:21,966] Trial 142 finished with value: 0.9848353408894321 and parameters: {'threshold': 0.597}. Best is trial 130 with value: 0.9849736017125721.\n",
      "[I 2024-08-19 19:16:22,166] Trial 143 finished with value: 0.9848970742173296 and parameters: {'threshold': 0.578}. Best is trial 130 with value: 0.9849736017125721.\n",
      "[I 2024-08-19 19:16:23,749] Trial 144 finished with value: 0.9849675518077204 and parameters: {'threshold': 0.519}. Best is trial 130 with value: 0.9849736017125721.\n",
      "[I 2024-08-19 19:16:24,236] Trial 145 finished with value: 0.9849669656375445 and parameters: {'threshold': 0.521}. Best is trial 130 with value: 0.9849736017125721.\n",
      "[I 2024-08-19 19:16:24,449] Trial 146 finished with value: 0.9849693311489389 and parameters: {'threshold': 0.515}. Best is trial 130 with value: 0.9849736017125721.\n",
      "[I 2024-08-19 19:16:24,630] Trial 147 finished with value: 0.98496147261827 and parameters: {'threshold': 0.513}. Best is trial 130 with value: 0.9849736017125721.\n",
      "[I 2024-08-19 19:16:26,287] Trial 148 finished with value: 0.9849586479534501 and parameters: {'threshold': 0.491}. Best is trial 130 with value: 0.9849736017125721.\n",
      "[I 2024-08-19 19:16:26,739] Trial 149 finished with value: 0.9849527353996835 and parameters: {'threshold': 0.489}. Best is trial 130 with value: 0.9849736017125721.\n",
      "[I 2024-08-19 19:16:27,006] Trial 150 finished with value: 0.9849603922013352 and parameters: {'threshold': 0.486}. Best is trial 130 with value: 0.9849736017125721.\n",
      "[I 2024-08-19 19:16:27,154] Trial 151 finished with value: 0.9849597735749657 and parameters: {'threshold': 0.487}. Best is trial 130 with value: 0.9849736017125721.\n",
      "[I 2024-08-19 19:16:28,791] Trial 152 finished with value: 0.984949075166887 and parameters: {'threshold': 0.541}. Best is trial 130 with value: 0.9849736017125721.\n",
      "[I 2024-08-19 19:16:29,227] Trial 153 finished with value: 0.9848549633478403 and parameters: {'threshold': 0.41300000000000003}. Best is trial 130 with value: 0.9849736017125721.\n",
      "[I 2024-08-19 19:16:29,519] Trial 154 finished with value: 0.9849446824870547 and parameters: {'threshold': 0.544}. Best is trial 130 with value: 0.9849736017125721.\n",
      "[I 2024-08-19 19:16:29,646] Trial 155 finished with value: 0.9849446824870547 and parameters: {'threshold': 0.544}. Best is trial 130 with value: 0.9849736017125721.\n",
      "[I 2024-08-19 19:16:31,248] Trial 156 finished with value: 0.984907813186801 and parameters: {'threshold': 0.5720000000000001}. Best is trial 130 with value: 0.9849736017125721.\n",
      "[I 2024-08-19 19:16:31,702] Trial 157 finished with value: 0.9849148231305669 and parameters: {'threshold': 0.5700000000000001}. Best is trial 130 with value: 0.9849736017125721.\n",
      "[I 2024-08-19 19:16:31,985] Trial 158 finished with value: 0.9849022006664041 and parameters: {'threshold': 0.577}. Best is trial 130 with value: 0.9849736017125721.\n",
      "[I 2024-08-19 19:16:32,106] Trial 159 finished with value: 0.9849078922546181 and parameters: {'threshold': 0.5740000000000001}. Best is trial 130 with value: 0.9849736017125721.\n",
      "[I 2024-08-19 19:16:33,892] Trial 160 finished with value: 0.9849627336570412 and parameters: {'threshold': 0.512}. Best is trial 130 with value: 0.9849736017125721.\n",
      "[I 2024-08-19 19:16:34,913] Trial 161 finished with value: 0.9849736017125721 and parameters: {'threshold': 0.509}. Best is trial 130 with value: 0.9849736017125721.\n",
      "[I 2024-08-19 19:16:35,076] Trial 162 finished with value: 0.9849656745216703 and parameters: {'threshold': 0.505}. Best is trial 130 with value: 0.9849736017125721.\n",
      "[I 2024-08-19 19:16:35,219] Trial 163 finished with value: 0.9849693311489389 and parameters: {'threshold': 0.515}. Best is trial 130 with value: 0.9849736017125721.\n",
      "[I 2024-08-19 19:16:36,434] Trial 164 finished with value: 0.9849675518077204 and parameters: {'threshold': 0.519}. Best is trial 130 with value: 0.9849736017125721.\n",
      "[I 2024-08-19 19:16:37,437] Trial 165 finished with value: 0.9849662280456912 and parameters: {'threshold': 0.518}. Best is trial 130 with value: 0.9849736017125721.\n",
      "[I 2024-08-19 19:16:37,581] Trial 166 finished with value: 0.9849581061949813 and parameters: {'threshold': 0.526}. Best is trial 130 with value: 0.9849736017125721.\n",
      "[I 2024-08-19 19:16:37,715] Trial 167 finished with value: 0.9849481948935642 and parameters: {'threshold': 0.47100000000000003}. Best is trial 130 with value: 0.9849736017125721.\n",
      "[I 2024-08-19 19:16:38,965] Trial 168 finished with value: 0.9849467917660917 and parameters: {'threshold': 0.468}. Best is trial 130 with value: 0.9849736017125721.\n",
      "[I 2024-08-19 19:16:39,941] Trial 169 finished with value: 0.9849418570656481 and parameters: {'threshold': 0.47500000000000003}. Best is trial 130 with value: 0.9849736017125721.\n",
      "[I 2024-08-19 19:16:40,070] Trial 170 finished with value: 0.9849406950031492 and parameters: {'threshold': 0.47900000000000004}. Best is trial 130 with value: 0.9849736017125721.\n",
      "[I 2024-08-19 19:16:40,179] Trial 171 finished with value: 0.9849333010734012 and parameters: {'threshold': 0.551}. Best is trial 130 with value: 0.9849736017125721.\n",
      "[I 2024-08-19 19:16:41,462] Trial 172 finished with value: 0.9849347343660659 and parameters: {'threshold': 0.554}. Best is trial 130 with value: 0.9849736017125721.\n",
      "[I 2024-08-19 19:16:42,420] Trial 173 finished with value: 0.9849376756493057 and parameters: {'threshold': 0.547}. Best is trial 130 with value: 0.9849736017125721.\n",
      "[I 2024-08-19 19:16:42,536] Trial 174 finished with value: 0.9849630387460879 and parameters: {'threshold': 0.504}. Best is trial 130 with value: 0.9849736017125721.\n",
      "[I 2024-08-19 19:16:42,608] Trial 175 finished with value: 0.984962969032371 and parameters: {'threshold': 0.502}. Best is trial 130 with value: 0.9849736017125721.\n",
      "[I 2024-08-19 19:16:43,940] Trial 176 finished with value: 0.9849647702583622 and parameters: {'threshold': 0.498}. Best is trial 130 with value: 0.9849736017125721.\n",
      "[I 2024-08-19 19:16:44,879] Trial 177 finished with value: 0.984970024294989 and parameters: {'threshold': 0.516}. Best is trial 130 with value: 0.9849736017125721.\n",
      "[I 2024-08-19 19:16:45,060] Trial 178 finished with value: 0.9849519194076377 and parameters: {'threshold': 0.532}. Best is trial 130 with value: 0.9849736017125721.\n",
      "[I 2024-08-19 19:16:45,087] Trial 179 finished with value: 0.9849544730436677 and parameters: {'threshold': 0.531}. Best is trial 130 with value: 0.9849736017125721.\n",
      "[I 2024-08-19 19:16:46,423] Trial 180 finished with value: 0.9849550824763403 and parameters: {'threshold': 0.53}. Best is trial 130 with value: 0.9849736017125721.\n",
      "[I 2024-08-19 19:16:47,411] Trial 181 finished with value: 0.9849444487187777 and parameters: {'threshold': 0.539}. Best is trial 130 with value: 0.9849736017125721.\n",
      "[I 2024-08-19 19:16:47,563] Trial 182 finished with value: 0.9849088167025205 and parameters: {'threshold': 0.436}. Best is trial 130 with value: 0.9849736017125721.\n",
      "[I 2024-08-19 19:16:47,611] Trial 183 finished with value: 0.9849043954890874 and parameters: {'threshold': 0.44}. Best is trial 130 with value: 0.9849736017125721.\n",
      "[I 2024-08-19 19:16:48,878] Trial 184 finished with value: 0.9849684804474924 and parameters: {'threshold': 0.51}. Best is trial 130 with value: 0.9849736017125721.\n",
      "[I 2024-08-19 19:16:49,851] Trial 185 finished with value: 0.98496830107465 and parameters: {'threshold': 0.506}. Best is trial 130 with value: 0.9849736017125721.\n",
      "[I 2024-08-19 19:16:49,985] Trial 186 finished with value: 0.9849633403595595 and parameters: {'threshold': 0.511}. Best is trial 130 with value: 0.9849736017125721.\n",
      "[I 2024-08-19 19:16:50,093] Trial 187 finished with value: 0.9849633403595595 and parameters: {'threshold': 0.511}. Best is trial 130 with value: 0.9849736017125721.\n",
      "[I 2024-08-19 19:16:51,326] Trial 188 finished with value: 0.984963795982522 and parameters: {'threshold': 0.507}. Best is trial 130 with value: 0.9849736017125721.\n",
      "[I 2024-08-19 19:16:52,324] Trial 189 finished with value: 0.9849589837944304 and parameters: {'threshold': 0.499}. Best is trial 130 with value: 0.9849736017125721.\n",
      "[I 2024-08-19 19:16:52,436] Trial 190 finished with value: 0.9849586479534501 and parameters: {'threshold': 0.491}. Best is trial 130 with value: 0.9849736017125721.\n",
      "[I 2024-08-19 19:16:52,612] Trial 191 finished with value: 0.984957219803943 and parameters: {'threshold': 0.488}. Best is trial 130 with value: 0.9849736017125721.\n",
      "[I 2024-08-19 19:16:53,838] Trial 192 finished with value: 0.9849527353996835 and parameters: {'threshold': 0.489}. Best is trial 130 with value: 0.9849736017125721.\n",
      "[I 2024-08-19 19:16:54,780] Trial 193 finished with value: 0.9849381367041811 and parameters: {'threshold': 0.461}. Best is trial 130 with value: 0.9849736017125721.\n",
      "[I 2024-08-19 19:16:54,888] Trial 194 finished with value: 0.9849434088698571 and parameters: {'threshold': 0.464}. Best is trial 130 with value: 0.9849736017125721.\n",
      "[I 2024-08-19 19:16:55,090] Trial 195 finished with value: 0.984936217139097 and parameters: {'threshold': 0.462}. Best is trial 130 with value: 0.9849736017125721.\n",
      "[I 2024-08-19 19:16:56,379] Trial 196 finished with value: 0.9849468626054011 and parameters: {'threshold': 0.47000000000000003}. Best is trial 130 with value: 0.9849736017125721.\n",
      "[I 2024-08-19 19:16:57,261] Trial 197 finished with value: 0.9849550824763403 and parameters: {'threshold': 0.53}. Best is trial 130 with value: 0.9849736017125721.\n",
      "[I 2024-08-19 19:16:57,380] Trial 198 finished with value: 0.984956861424002 and parameters: {'threshold': 0.527}. Best is trial 130 with value: 0.9849736017125721.\n",
      "[I 2024-08-19 19:16:57,587] Trial 199 finished with value: 0.9849581061949813 and parameters: {'threshold': 0.526}. Best is trial 130 with value: 0.9849736017125721.\n",
      "[I 2024-08-19 19:16:58,846] Trial 200 finished with value: 0.9849637759295472 and parameters: {'threshold': 0.522}. Best is trial 130 with value: 0.9849736017125721.\n",
      "[I 2024-08-19 19:16:59,699] Trial 201 finished with value: 0.9849254132827664 and parameters: {'threshold': 0.561}. Best is trial 130 with value: 0.9849736017125721.\n",
      "[I 2024-08-19 19:16:59,811] Trial 202 finished with value: 0.9849686285413721 and parameters: {'threshold': 0.514}. Best is trial 130 with value: 0.9849736017125721.\n",
      "[I 2024-08-19 19:17:00,075] Trial 203 finished with value: 0.9849274897182716 and parameters: {'threshold': 0.5630000000000001}. Best is trial 130 with value: 0.9849736017125721.\n",
      "[I 2024-08-19 19:17:01,329] Trial 204 finished with value: 0.9849240859645177 and parameters: {'threshold': 0.56}. Best is trial 130 with value: 0.9849736017125721.\n",
      "[I 2024-08-19 19:17:02,136] Trial 205 finished with value: 0.9849347343660659 and parameters: {'threshold': 0.554}. Best is trial 130 with value: 0.9849736017125721.\n",
      "[I 2024-08-19 19:17:02,307] Trial 206 finished with value: 0.9849684804474924 and parameters: {'threshold': 0.51}. Best is trial 130 with value: 0.9849736017125721.\n",
      "[I 2024-08-19 19:17:02,557] Trial 207 finished with value: 0.9849684804474924 and parameters: {'threshold': 0.51}. Best is trial 130 with value: 0.9849736017125721.\n",
      "[I 2024-08-19 19:17:03,839] Trial 208 finished with value: 0.984963795982522 and parameters: {'threshold': 0.507}. Best is trial 130 with value: 0.9849736017125721.\n",
      "[I 2024-08-19 19:17:04,623] Trial 209 finished with value: 0.9849633403595595 and parameters: {'threshold': 0.511}. Best is trial 130 with value: 0.9849736017125721.\n",
      "[I 2024-08-19 19:17:04,890] Trial 210 finished with value: 0.9849677219669501 and parameters: {'threshold': 0.508}. Best is trial 130 with value: 0.9849736017125721.\n",
      "[I 2024-08-19 19:17:05,153] Trial 211 finished with value: 0.9849527353996835 and parameters: {'threshold': 0.489}. Best is trial 130 with value: 0.9849736017125721.\n",
      "[I 2024-08-19 19:17:06,896] Trial 212 finished with value: 0.9849473587009625 and parameters: {'threshold': 0.484}. Best is trial 130 with value: 0.9849736017125721.\n",
      "[I 2024-08-19 19:17:07,550] Trial 213 finished with value: 0.9849603922013352 and parameters: {'threshold': 0.486}. Best is trial 130 with value: 0.9849736017125721.\n",
      "[I 2024-08-19 19:17:07,926] Trial 214 finished with value: 0.9849603922013352 and parameters: {'threshold': 0.486}. Best is trial 130 with value: 0.9849736017125721.\n",
      "[I 2024-08-19 19:17:08,267] Trial 215 finished with value: 0.984949075166887 and parameters: {'threshold': 0.541}. Best is trial 130 with value: 0.9849736017125721.\n",
      "[I 2024-08-19 19:17:09,398] Trial 216 finished with value: 0.984949075166887 and parameters: {'threshold': 0.541}. Best is trial 130 with value: 0.9849736017125721.\n",
      "[I 2024-08-19 19:17:10,049] Trial 217 finished with value: 0.9849458052308597 and parameters: {'threshold': 0.54}. Best is trial 130 with value: 0.9849736017125721.\n",
      "[I 2024-08-19 19:17:10,423] Trial 218 finished with value: 0.984949075166887 and parameters: {'threshold': 0.541}. Best is trial 130 with value: 0.9849736017125721.\n",
      "[I 2024-08-19 19:17:10,709] Trial 219 finished with value: 0.9849677219669501 and parameters: {'threshold': 0.508}. Best is trial 130 with value: 0.9849736017125721.\n",
      "[I 2024-08-19 19:17:11,861] Trial 220 finished with value: 0.98496830107465 and parameters: {'threshold': 0.506}. Best is trial 130 with value: 0.9849736017125721.\n",
      "[I 2024-08-19 19:17:12,504] Trial 221 finished with value: 0.9849656745216703 and parameters: {'threshold': 0.505}. Best is trial 130 with value: 0.9849736017125721.\n",
      "[I 2024-08-19 19:17:12,922] Trial 222 finished with value: 0.98496830107465 and parameters: {'threshold': 0.506}. Best is trial 130 with value: 0.9849736017125721.\n",
      "[I 2024-08-19 19:17:13,218] Trial 223 finished with value: 0.9849656745216703 and parameters: {'threshold': 0.505}. Best is trial 130 with value: 0.9849736017125721.\n",
      "[I 2024-08-19 19:17:14,318] Trial 224 finished with value: 0.9849630387460879 and parameters: {'threshold': 0.504}. Best is trial 130 with value: 0.9849736017125721.\n",
      "[I 2024-08-19 19:17:15,032] Trial 225 finished with value: 0.9849636511176206 and parameters: {'threshold': 0.503}. Best is trial 130 with value: 0.9849736017125721.\n",
      "[I 2024-08-19 19:17:15,465] Trial 226 finished with value: 0.9849589837944304 and parameters: {'threshold': 0.499}. Best is trial 130 with value: 0.9849736017125721.\n",
      "[I 2024-08-19 19:17:15,712] Trial 227 finished with value: 0.984945942342255 and parameters: {'threshold': 0.481}. Best is trial 130 with value: 0.9849736017125721.\n",
      "[I 2024-08-19 19:17:16,835] Trial 228 finished with value: 0.9849468626054011 and parameters: {'threshold': 0.47000000000000003}. Best is trial 130 with value: 0.9849736017125721.\n",
      "[I 2024-08-19 19:17:17,475] Trial 229 finished with value: 0.9849402113450052 and parameters: {'threshold': 0.465}. Best is trial 130 with value: 0.9849736017125721.\n",
      "[I 2024-08-19 19:17:17,940] Trial 230 finished with value: 0.9849481948935642 and parameters: {'threshold': 0.47100000000000003}. Best is trial 130 with value: 0.9849736017125721.\n",
      "[I 2024-08-19 19:17:18,233] Trial 231 finished with value: 0.9849581061949813 and parameters: {'threshold': 0.526}. Best is trial 130 with value: 0.9849736017125721.\n",
      "[I 2024-08-19 19:17:19,331] Trial 232 finished with value: 0.9849574118271468 and parameters: {'threshold': 0.525}. Best is trial 130 with value: 0.9849736017125721.\n",
      "[I 2024-08-19 19:17:19,942] Trial 233 finished with value: 0.9849510885128112 and parameters: {'threshold': 0.528}. Best is trial 130 with value: 0.9849736017125721.\n",
      "[I 2024-08-19 19:17:20,455] Trial 234 finished with value: 0.9849669656375445 and parameters: {'threshold': 0.521}. Best is trial 130 with value: 0.9849736017125721.\n",
      "[I 2024-08-19 19:17:20,695] Trial 235 finished with value: 0.9849662865730464 and parameters: {'threshold': 0.52}. Best is trial 130 with value: 0.9849736017125721.\n",
      "[I 2024-08-19 19:17:21,772] Trial 236 finished with value: 0.9849700727499061 and parameters: {'threshold': 0.517}. Best is trial 130 with value: 0.9849736017125721.\n",
      "[I 2024-08-19 19:17:22,408] Trial 237 finished with value: 0.98496147261827 and parameters: {'threshold': 0.513}. Best is trial 130 with value: 0.9849736017125721.\n",
      "[I 2024-08-19 19:17:22,925] Trial 238 finished with value: 0.9833910320221698 and parameters: {'threshold': 0.791}. Best is trial 130 with value: 0.9849736017125721.\n",
      "[I 2024-08-19 19:17:23,162] Trial 239 finished with value: 0.9849647702583622 and parameters: {'threshold': 0.498}. Best is trial 130 with value: 0.9849736017125721.\n",
      "[I 2024-08-19 19:17:24,286] Trial 240 finished with value: 0.9849587243071912 and parameters: {'threshold': 0.493}. Best is trial 130 with value: 0.9849736017125721.\n",
      "[I 2024-08-19 19:17:24,914] Trial 241 finished with value: 0.9849527754797506 and parameters: {'threshold': 0.49}. Best is trial 130 with value: 0.9849736017125721.\n",
      "[I 2024-08-19 19:17:25,439] Trial 242 finished with value: 0.9849567352444942 and parameters: {'threshold': 0.492}. Best is trial 130 with value: 0.9849736017125721.\n",
      "[I 2024-08-19 19:17:25,672] Trial 243 finished with value: 0.9849415222910425 and parameters: {'threshold': 0.546}. Best is trial 130 with value: 0.9849736017125721.\n",
      "[I 2024-08-19 19:17:26,813] Trial 244 finished with value: 0.9849458052308597 and parameters: {'threshold': 0.54}. Best is trial 130 with value: 0.9849736017125721.\n",
      "[I 2024-08-19 19:17:27,391] Trial 245 finished with value: 0.9849421354073802 and parameters: {'threshold': 0.545}. Best is trial 130 with value: 0.9849736017125721.\n",
      "[I 2024-08-19 19:17:27,899] Trial 246 finished with value: 0.9849444487187777 and parameters: {'threshold': 0.539}. Best is trial 130 with value: 0.9849736017125721.\n",
      "[I 2024-08-19 19:17:28,125] Trial 247 finished with value: 0.9849633403595595 and parameters: {'threshold': 0.511}. Best is trial 130 with value: 0.9849736017125721.\n",
      "[I 2024-08-19 19:17:28,865] Trial 248 finished with value: 0.9849684804474924 and parameters: {'threshold': 0.51}. Best is trial 130 with value: 0.9849736017125721.\n",
      "[I 2024-08-19 19:17:29,172] Trial 249 finished with value: 0.9811148900141434 and parameters: {'threshold': 0.88}. Best is trial 130 with value: 0.9849736017125721.\n"
     ]
    }
   ],
   "source": [
    "def objective(trial):\n",
    "    threshold = trial.suggest_float('threshold', 0, 1, step=0.001)\n",
    "    y_preds = ensemble_oof_pred_probs[:, 1] >= threshold\n",
    "    return matthews_corrcoef(y, y_preds)\n",
    "\n",
    "study = optuna.create_study(direction='maximize')\n",
    "study.optimize(objective, n_trials=250, n_jobs=-1)"
   ]
  },
  {
   "cell_type": "code",
   "execution_count": 12,
   "id": "4d6cf990",
   "metadata": {
    "execution": {
     "iopub.execute_input": "2024-08-19T19:17:29.249194Z",
     "iopub.status.busy": "2024-08-19T19:17:29.248696Z",
     "iopub.status.idle": "2024-08-19T19:17:29.256972Z",
     "shell.execute_reply": "2024-08-19T19:17:29.255625Z"
    },
    "papermill": {
     "duration": 0.044783,
     "end_time": "2024-08-19T19:17:29.259596",
     "exception": false,
     "start_time": "2024-08-19T19:17:29.214813",
     "status": "completed"
    },
    "tags": []
   },
   "outputs": [
    {
     "data": {
      "text/plain": [
       "{'threshold': 0.509}"
      ]
     },
     "execution_count": 12,
     "metadata": {},
     "output_type": "execute_result"
    }
   ],
   "source": [
    "study.best_params"
   ]
  },
  {
   "cell_type": "code",
   "execution_count": 13,
   "id": "cc9e6be0",
   "metadata": {
    "execution": {
     "iopub.execute_input": "2024-08-19T19:17:29.326598Z",
     "iopub.status.busy": "2024-08-19T19:17:29.326174Z",
     "iopub.status.idle": "2024-08-19T19:18:26.664941Z",
     "shell.execute_reply": "2024-08-19T19:18:26.663722Z"
    },
    "papermill": {
     "duration": 57.375996,
     "end_time": "2024-08-19T19:18:26.667746",
     "exception": false,
     "start_time": "2024-08-19T19:17:29.291750",
     "status": "completed"
    },
    "tags": []
   },
   "outputs": [
    {
     "name": "stdout",
     "output_type": "stream",
     "text": [
      "Training Ensemble\n",
      "\n",
      "--- Fold 1 - MCC: 0.984831\n",
      "--- Fold 2 - MCC: 0.985269\n",
      "--- Fold 3 - MCC: 0.984812\n",
      "--- Fold 4 - MCC: 0.984940\n",
      "--- Fold 5 - MCC: 0.985016\n",
      "\n",
      "------ Average MCC: 0.984974 ± 0.000165\n"
     ]
    }
   ],
   "source": [
    "trainer = Trainer(model, threshold=study.best_params['threshold'])\n",
    "ensemble_scores, ensemble_oof_pred_probs, _ = trainer.fit_predict(X, y, X_test)\n",
    "scores['Ensemble (tuned T)'] = ensemble_scores"
   ]
  },
  {
   "cell_type": "markdown",
   "id": "0a58a93a",
   "metadata": {
    "papermill": {
     "duration": 0.031972,
     "end_time": "2024-08-19T19:18:26.732275",
     "exception": false,
     "start_time": "2024-08-19T19:18:26.700303",
     "status": "completed"
    },
    "tags": []
   },
   "source": [
    "# Results"
   ]
  },
  {
   "cell_type": "code",
   "execution_count": 14,
   "id": "10531e1f",
   "metadata": {
    "execution": {
     "iopub.execute_input": "2024-08-19T19:18:26.802992Z",
     "iopub.status.busy": "2024-08-19T19:18:26.802578Z",
     "iopub.status.idle": "2024-08-19T19:18:27.403201Z",
     "shell.execute_reply": "2024-08-19T19:18:27.402035Z"
    },
    "papermill": {
     "duration": 0.639419,
     "end_time": "2024-08-19T19:18:27.406257",
     "exception": false,
     "start_time": "2024-08-19T19:18:26.766838",
     "status": "completed"
    },
    "tags": []
   },
   "outputs": [
    {
     "data": {
      "image/png": "[encoded data removed]",
      "text/plain": [
       "<Figure size 1500x500 with 2 Axes>"
      ]
     },
     "metadata": {},
     "output_type": "display_data"
    }
   ],
   "source": [
    "scores = pd.DataFrame(scores)\n",
    "mean_scores = scores.mean().sort_values(ascending=False)\n",
    "order = scores.mean().sort_values(ascending=False).index.tolist()\n",
    "\n",
    "min_score = mean_scores.min()\n",
    "max_score = mean_scores.max()\n",
    "padding = (max_score - min_score) * 0.5\n",
    "lower_limit = min_score - padding\n",
    "upper_limit = max_score + padding\n",
    "\n",
    "fig, axs = plt.subplots(1, 2, figsize=(15, 5))\n",
    "\n",
    "sns.boxplot(data=scores, order=order, ax=axs[0], orient='h', color='#651FFF')\n",
    "axs[0].set_title('Fold MCC')\n",
    "axs[0].set_xlabel('')\n",
    "axs[0].set_ylabel('')\n",
    "\n",
    "barplot = sns.barplot(x=mean_scores.values, y=mean_scores.index, ax=axs[1], color='#651FFF')\n",
    "axs[1].set_title('Average MCC')\n",
    "axs[1].set_xlabel('')\n",
    "axs[1].set_xlim(left=lower_limit, right=upper_limit)\n",
    "axs[1].set_ylabel('')\n",
    "\n",
    "for i, score in enumerate(mean_scores.values):\n",
    "    barplot.text(score, i, round(score, 6), va='center')\n",
    "\n",
    "plt.tight_layout()\n",
    "plt.show()"
   ]
  }
 ],
 "metadata": {
  "kaggle": {
   "accelerator": "none",
   "dataSources": [
    {
     "databundleVersionId": 9045607,
     "sourceId": 76727,
     "sourceType": "competition"
    },
    {
     "sourceId": 191625957,
     "sourceType": "kernelVersion"
    },
    {
     "sourceId": 191914557,
     "sourceType": "kernelVersion"
    },
    {
     "sourceId": 191927121,
     "sourceType": "kernelVersion"
    },
    {
     "sourceId": 191964192,
     "sourceType": "kernelVersion"
    },
    {
     "sourceId": 192786455,
     "sourceType": "kernelVersion"
    }
   ],
   "dockerImageVersionId": 30746,
   "isGpuEnabled": false,
   "isInternetEnabled": true,
   "language": "python",
   "sourceType": "notebook"
  },
  "kernelspec": {
   "display_name": "Python 3",
   "language": "python",
   "name": "python3"
  },
  "language_info": {
   "codemirror_mode": {
    "name": "ipython",
    "version": 3
   },
   "file_extension": ".py",
   "mimetype": "text/x-python",
   "name": "python",
   "nbconvert_exporter": "python",
   "pygments_lexer": "ipython3",
   "version": "3.10.13"
  },
  "papermill": {
   "default_parameters": {},
   "duration": 322.523668,
   "end_time": "2024-08-19T19:18:28.565751",
   "environment_variables": {},
   "exception": null,
   "input_path": "__notebook__.ipynb",
   "output_path": "__notebook__.ipynb",
   "parameters": {},
   "start_time": "2024-08-19T19:13:06.042083",
   "version": "2.5.0"
  }
 },
 "nbformat": 4,
 "nbformat_minor": 5
}
