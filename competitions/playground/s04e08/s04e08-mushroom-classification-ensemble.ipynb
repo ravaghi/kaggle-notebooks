{
 "cells": [
  {
   "cell_type": "markdown",
   "id": "4db47ff7",
   "metadata": {
    "papermill": {
     "duration": 0.006938,
     "end_time": "2024-08-08T07:43:14.341501",
     "exception": false,
     "start_time": "2024-08-08T07:43:14.334563",
     "status": "completed"
    },
    "tags": []
   },
   "source": [
    "# Imports and Configs"
   ]
  },
  {
   "cell_type": "code",
   "execution_count": 1,
   "id": "4fdd7ea4",
   "metadata": {
    "_cell_guid": "b1076dfc-b9ad-4769-8c92-a6c4dae69d19",
    "_uuid": "8f2839f25d086af736a60e9eeb907d3b93b6e0e5",
    "execution": {
     "iopub.execute_input": "2024-08-08T07:43:14.356952Z",
     "iopub.status.busy": "2024-08-08T07:43:14.356350Z",
     "iopub.status.idle": "2024-08-08T07:43:16.943696Z",
     "shell.execute_reply": "2024-08-08T07:43:16.942459Z"
    },
    "papermill": {
     "duration": 2.598196,
     "end_time": "2024-08-08T07:43:16.946585",
     "exception": false,
     "start_time": "2024-08-08T07:43:14.348389",
     "status": "completed"
    },
    "tags": []
   },
   "outputs": [],
   "source": [
    "from sklearn.linear_model import LogisticRegression\n",
    "from sklearn.model_selection import StratifiedKFold\n",
    "from sklearn.metrics import matthews_corrcoef\n",
    "import matplotlib.pyplot as plt\n",
    "from sklearn.base import clone\n",
    "import seaborn as sns\n",
    "import pandas as pd\n",
    "import numpy as np\n",
    "import warnings\n",
    "import pickle\n",
    "import glob\n",
    "import gc\n",
    "\n",
    "warnings.filterwarnings('ignore')"
   ]
  },
  {
   "cell_type": "code",
   "execution_count": 2,
   "id": "1ff96560",
   "metadata": {
    "execution": {
     "iopub.execute_input": "2024-08-08T07:43:16.962510Z",
     "iopub.status.busy": "2024-08-08T07:43:16.961345Z",
     "iopub.status.idle": "2024-08-08T07:43:16.967045Z",
     "shell.execute_reply": "2024-08-08T07:43:16.965973Z"
    },
    "papermill": {
     "duration": 0.016332,
     "end_time": "2024-08-08T07:43:16.969692",
     "exception": false,
     "start_time": "2024-08-08T07:43:16.953360",
     "status": "completed"
    },
    "tags": []
   },
   "outputs": [],
   "source": [
    "SEED = 6\n",
    "N_FOLDS = 5\n",
    "TARGET = 'class'\n",
    "THRESHOLD = 0.544"
   ]
  },
  {
   "cell_type": "markdown",
   "id": "08a2ec68",
   "metadata": {
    "papermill": {
     "duration": 0.006414,
     "end_time": "2024-08-08T07:43:16.982820",
     "exception": false,
     "start_time": "2024-08-08T07:43:16.976406",
     "status": "completed"
    },
    "tags": []
   },
   "source": [
    "# Loading Data"
   ]
  },
  {
   "cell_type": "code",
   "execution_count": 3,
   "id": "d48cdcc8",
   "metadata": {
    "execution": {
     "iopub.execute_input": "2024-08-08T07:43:16.997769Z",
     "iopub.status.busy": "2024-08-08T07:43:16.997331Z",
     "iopub.status.idle": "2024-08-08T07:43:36.791090Z",
     "shell.execute_reply": "2024-08-08T07:43:36.790022Z"
    },
    "papermill": {
     "duration": 19.804468,
     "end_time": "2024-08-08T07:43:36.793876",
     "exception": false,
     "start_time": "2024-08-08T07:43:16.989408",
     "status": "completed"
    },
    "tags": []
   },
   "outputs": [],
   "source": [
    "train = pd.read_csv('/kaggle/input/playground-series-s4e8/train.csv', index_col='id')\n",
    "test = pd.read_csv('/kaggle/input/playground-series-s4e8/test.csv', index_col='id')\n",
    "\n",
    "X = train.drop(columns=[TARGET])\n",
    "y = train[TARGET].map({'e': 0, 'p': 1})"
   ]
  },
  {
   "cell_type": "code",
   "execution_count": 4,
   "id": "f9ef91d0",
   "metadata": {
    "execution": {
     "iopub.execute_input": "2024-08-08T07:43:36.808960Z",
     "iopub.status.busy": "2024-08-08T07:43:36.808558Z",
     "iopub.status.idle": "2024-08-08T07:43:36.815469Z",
     "shell.execute_reply": "2024-08-08T07:43:36.814243Z"
    },
    "papermill": {
     "duration": 0.017153,
     "end_time": "2024-08-08T07:43:36.817863",
     "exception": false,
     "start_time": "2024-08-08T07:43:36.800710",
     "status": "completed"
    },
    "tags": []
   },
   "outputs": [],
   "source": [
    "def get_scores(oof_pred_probs):\n",
    "    scores = []\n",
    "    skf = StratifiedKFold(n_splits=5, random_state=SEED, shuffle=True)\n",
    "    for _, val_idx in skf.split(X, y):\n",
    "        y_val = y[val_idx]\n",
    "        y_pred_probs = oof_pred_probs[val_idx]          \n",
    "        score = matthews_corrcoef(y_val, np.argmax(y_pred_probs, axis=1))\n",
    "        scores.append(score)\n",
    "    return scores"
   ]
  },
  {
   "cell_type": "markdown",
   "id": "7efe431f",
   "metadata": {
    "papermill": {
     "duration": 0.006276,
     "end_time": "2024-08-08T07:43:36.831038",
     "exception": false,
     "start_time": "2024-08-08T07:43:36.824762",
     "status": "completed"
    },
    "tags": []
   },
   "source": [
    "# Loading OOF Predictions"
   ]
  },
  {
   "cell_type": "code",
   "execution_count": 5,
   "id": "1ddf5661",
   "metadata": {
    "execution": {
     "iopub.execute_input": "2024-08-08T07:43:36.845885Z",
     "iopub.status.busy": "2024-08-08T07:43:36.845477Z",
     "iopub.status.idle": "2024-08-08T07:43:36.850495Z",
     "shell.execute_reply": "2024-08-08T07:43:36.849470Z"
    },
    "papermill": {
     "duration": 0.015484,
     "end_time": "2024-08-08T07:43:36.852957",
     "exception": false,
     "start_time": "2024-08-08T07:43:36.837473",
     "status": "completed"
    },
    "tags": []
   },
   "outputs": [],
   "source": [
    "test_pred_probs = {}\n",
    "oof_pred_probs = {}\n",
    "scores = {}"
   ]
  },
  {
   "cell_type": "code",
   "execution_count": 6,
   "id": "49527e02",
   "metadata": {
    "execution": {
     "iopub.execute_input": "2024-08-08T07:43:36.870761Z",
     "iopub.status.busy": "2024-08-08T07:43:36.869715Z",
     "iopub.status.idle": "2024-08-08T07:43:40.308270Z",
     "shell.execute_reply": "2024-08-08T07:43:40.306888Z"
    },
    "papermill": {
     "duration": 3.449802,
     "end_time": "2024-08-08T07:43:40.311259",
     "exception": false,
     "start_time": "2024-08-08T07:43:36.861457",
     "status": "completed"
    },
    "tags": []
   },
   "outputs": [],
   "source": [
    "xgb_oof_pred_probs_files = glob.glob('/kaggle/input/s04e08-mushroom-classification-xgboost/xgb_oof_pred_probs_*.pkl')\n",
    "xgb_test_pred_probs_files = glob.glob('/kaggle/input/s04e08-mushroom-classification-xgboost/xgb_test_pred_probs_*.pkl')\n",
    "\n",
    "xgb_oof_pred_probs = pickle.load(open(xgb_oof_pred_probs_files[0], 'rb'))\n",
    "xgb_test_pred_probs = pickle.load(open(xgb_test_pred_probs_files[0], 'rb'))\n",
    "\n",
    "oof_pred_probs['XGBoost'] = xgb_oof_pred_probs\n",
    "test_pred_probs['XGBoost'] = xgb_test_pred_probs\n",
    "scores['XGBoost'] = get_scores(xgb_oof_pred_probs)"
   ]
  },
  {
   "cell_type": "code",
   "execution_count": 7,
   "id": "25884c4c",
   "metadata": {
    "execution": {
     "iopub.execute_input": "2024-08-08T07:43:40.326930Z",
     "iopub.status.busy": "2024-08-08T07:43:40.326511Z",
     "iopub.status.idle": "2024-08-08T07:43:43.634021Z",
     "shell.execute_reply": "2024-08-08T07:43:43.632766Z"
    },
    "papermill": {
     "duration": 3.318586,
     "end_time": "2024-08-08T07:43:43.636871",
     "exception": false,
     "start_time": "2024-08-08T07:43:40.318285",
     "status": "completed"
    },
    "tags": []
   },
   "outputs": [],
   "source": [
    "lgbm_oof_pred_probs_files = glob.glob('/kaggle/input/s04e08-mushroom-classification-lightgbm/lgbm_oof_pred_probs_*.pkl')\n",
    "lgbm_test_pred_probs_files = glob.glob('/kaggle/input/s04e08-mushroom-classification-lightgbm/lgbm_test_pred_probs_*.pkl')\n",
    "\n",
    "lgbm_oof_pred_probs = pickle.load(open(lgbm_oof_pred_probs_files[0], 'rb'))\n",
    "lgbm_test_pred_probs = pickle.load(open(lgbm_test_pred_probs_files[0], 'rb'))\n",
    "\n",
    "oof_pred_probs['LightGBM'] = lgbm_oof_pred_probs\n",
    "test_pred_probs['LightGBM'] = lgbm_test_pred_probs\n",
    "scores['LightGBM'] = get_scores(lgbm_oof_pred_probs)"
   ]
  },
  {
   "cell_type": "code",
   "execution_count": 8,
   "id": "486c4b8b",
   "metadata": {
    "execution": {
     "iopub.execute_input": "2024-08-08T07:43:43.653855Z",
     "iopub.status.busy": "2024-08-08T07:43:43.652474Z",
     "iopub.status.idle": "2024-08-08T07:43:46.860241Z",
     "shell.execute_reply": "2024-08-08T07:43:46.859050Z"
    },
    "papermill": {
     "duration": 3.219006,
     "end_time": "2024-08-08T07:43:46.863152",
     "exception": false,
     "start_time": "2024-08-08T07:43:43.644146",
     "status": "completed"
    },
    "tags": []
   },
   "outputs": [],
   "source": [
    "histgb_oof_pred_probs_files = glob.glob('/kaggle/input/s04e08-mushroom-classification-histgb/histgradientboosting_oof_pred_probs_*.pkl')\n",
    "histgb_test_pred_probs_files = glob.glob('/kaggle/input/s04e08-mushroom-classification-histgb/histgradientboosting_test_pred_probs_*.pkl')\n",
    "\n",
    "histgb_oof_pred_probs = pickle.load(open(histgb_oof_pred_probs_files[0], 'rb'))\n",
    "histgb_test_pred_probs = pickle.load(open(histgb_test_pred_probs_files[0], 'rb'))\n",
    "\n",
    "oof_pred_probs['HistGB'] = histgb_oof_pred_probs\n",
    "test_pred_probs['HistGB'] = histgb_test_pred_probs\n",
    "scores['HistGB'] = get_scores(histgb_oof_pred_probs)"
   ]
  },
  {
   "cell_type": "code",
   "execution_count": 9,
   "id": "4d88055b",
   "metadata": {
    "execution": {
     "iopub.execute_input": "2024-08-08T07:43:46.879113Z",
     "iopub.status.busy": "2024-08-08T07:43:46.878660Z",
     "iopub.status.idle": "2024-08-08T07:43:50.417194Z",
     "shell.execute_reply": "2024-08-08T07:43:50.415919Z"
    },
    "papermill": {
     "duration": 3.550128,
     "end_time": "2024-08-08T07:43:50.420447",
     "exception": false,
     "start_time": "2024-08-08T07:43:46.870319",
     "status": "completed"
    },
    "tags": []
   },
   "outputs": [],
   "source": [
    "nn_oof_pred_probs_files = glob.glob('/kaggle/input/s04e08-mushroom-classification-neural-networks/keras_oof_pred_probs_*.pkl')\n",
    "nn_test_pred_probs_files = glob.glob('/kaggle/input/s04e08-mushroom-classification-neural-networks/keras_test_pred_probs_*.pkl')\n",
    "\n",
    "nn_oof_pred_probs = pickle.load(open(nn_oof_pred_probs_files[0], 'rb'))\n",
    "nn_test_pred_probs = pickle.load(open(nn_test_pred_probs_files[0], 'rb'))\n",
    "\n",
    "oof_pred_probs['KerasANN'] = nn_oof_pred_probs\n",
    "test_pred_probs['KerasANN'] = nn_test_pred_probs\n",
    "scores['KerasANN'] = get_scores(nn_oof_pred_probs)"
   ]
  },
  {
   "cell_type": "code",
   "execution_count": 10,
   "id": "7e49a42b",
   "metadata": {
    "execution": {
     "iopub.execute_input": "2024-08-08T07:43:50.436939Z",
     "iopub.status.busy": "2024-08-08T07:43:50.436540Z",
     "iopub.status.idle": "2024-08-08T07:43:53.787974Z",
     "shell.execute_reply": "2024-08-08T07:43:53.786539Z"
    },
    "papermill": {
     "duration": 3.362624,
     "end_time": "2024-08-08T07:43:53.790812",
     "exception": false,
     "start_time": "2024-08-08T07:43:50.428188",
     "status": "completed"
    },
    "tags": []
   },
   "outputs": [],
   "source": [
    "ag_oof_pred_probs_files = glob.glob('/kaggle/input/s04e08-mushroom-classification-ag-5-fold/autogluon_oof_pred_probs_*.pkl')\n",
    "ag_test_pred_probs_files = glob.glob('/kaggle/input/s04e08-mushroom-classification-ag-5-fold/autogluon_test_pred_probs_*.pkl')\n",
    "\n",
    "ag_oof_pred_probs = pickle.load(open(ag_oof_pred_probs_files[0], 'rb'))\n",
    "ag_test_pred_probs = pickle.load(open(ag_test_pred_probs_files[0], 'rb'))\n",
    "\n",
    "oof_pred_probs['AutoGluon'] = ag_oof_pred_probs\n",
    "test_pred_probs['AutoGluon'] = ag_test_pred_probs\n",
    "scores['AutoGluon'] = get_scores(ag_oof_pred_probs)"
   ]
  },
  {
   "cell_type": "markdown",
   "id": "b0b84b18",
   "metadata": {
    "papermill": {
     "duration": 0.006993,
     "end_time": "2024-08-08T07:43:53.805044",
     "exception": false,
     "start_time": "2024-08-08T07:43:53.798051",
     "status": "completed"
    },
    "tags": []
   },
   "source": [
    "# Stacking With Logistic Regression"
   ]
  },
  {
   "cell_type": "code",
   "execution_count": 11,
   "id": "15132c0a",
   "metadata": {
    "execution": {
     "iopub.execute_input": "2024-08-08T07:43:53.821485Z",
     "iopub.status.busy": "2024-08-08T07:43:53.821064Z",
     "iopub.status.idle": "2024-08-08T07:43:53.842037Z",
     "shell.execute_reply": "2024-08-08T07:43:53.840568Z"
    },
    "papermill": {
     "duration": 0.032825,
     "end_time": "2024-08-08T07:43:53.845106",
     "exception": false,
     "start_time": "2024-08-08T07:43:53.812281",
     "status": "completed"
    },
    "tags": []
   },
   "outputs": [],
   "source": [
    "class Trainer:\n",
    "    def __init__(self, model, n_folds=N_FOLDS):\n",
    "        self.model = model\n",
    "        self.n_folds = n_folds\n",
    "\n",
    "    def fit_predict(self, X, y, X_test):\n",
    "        print(f'Training {self.model.__class__.__name__}\\n')\n",
    "        \n",
    "        scores = []\n",
    "        test_pred_probs = np.zeros((X_test.shape[0], len(np.unique(y))))\n",
    "        oof_pred_probs = np.zeros((X.shape[0], len(np.unique(y))))\n",
    "        \n",
    "        skf = StratifiedKFold(n_splits=self.n_folds, random_state=SEED, shuffle=True)\n",
    "        for fold_idx, (train_idx, val_idx) in enumerate(skf.split(X, y)):\n",
    "            X_train, X_val = X[train_idx], X[val_idx]\n",
    "            y_train, y_val = y[train_idx], y[val_idx]\n",
    "            \n",
    "            model = clone(self.model)\n",
    "            model.fit(X_train, y_train)\n",
    "            \n",
    "            y_pred_probs = model.predict_proba(X_val)  \n",
    "            oof_pred_probs[val_idx] = y_pred_probs\n",
    "            y_preds = y_pred_probs[:, 1] >= THRESHOLD\n",
    "            \n",
    "            temp_test_pred_probs = model.predict_proba(X_test)\n",
    "            test_pred_probs += temp_test_pred_probs / self.n_folds\n",
    "            \n",
    "            score = matthews_corrcoef(y_val, y_preds)\n",
    "            scores.append(score)\n",
    "            \n",
    "            del model, X_train, y_train, X_val, y_val, y_pred_probs\n",
    "            gc.collect()\n",
    "            \n",
    "            print(f'--- Fold {fold_idx + 1} - MCC: {score:.6f}')\n",
    "            \n",
    "        print(f'\\n------ Average MCC: {np.mean(scores):.6f} ± {np.std(scores):.6f}')\n",
    "        \n",
    "        self._save_submission(test_pred_probs, np.mean(scores))\n",
    "        \n",
    "        return scores, oof_pred_probs\n",
    "    \n",
    "    def _save_submission(self, test_pred_probs, score):\n",
    "        name = self.model.__class__.__name__.lower().replace('classifier', '')\n",
    "        sub = pd.read_csv('/kaggle/input/playground-series-s4e8/sample_submission.csv')\n",
    "        sub[TARGET] = test_pred_probs[:, 1] >= THRESHOLD\n",
    "        sub[TARGET] = sub[TARGET].map({0: 'e', 1: 'p'})\n",
    "        sub.to_csv(f'sub_{name}_{score:.6f}.csv', index=False)"
   ]
  },
  {
   "cell_type": "code",
   "execution_count": 12,
   "id": "a0db0fa5",
   "metadata": {
    "execution": {
     "iopub.execute_input": "2024-08-08T07:43:53.863558Z",
     "iopub.status.busy": "2024-08-08T07:43:53.863158Z",
     "iopub.status.idle": "2024-08-08T07:43:55.134588Z",
     "shell.execute_reply": "2024-08-08T07:43:55.133210Z"
    },
    "papermill": {
     "duration": 1.28447,
     "end_time": "2024-08-08T07:43:55.138025",
     "exception": false,
     "start_time": "2024-08-08T07:43:53.853555",
     "status": "completed"
    },
    "tags": []
   },
   "outputs": [],
   "source": [
    "X = np.log(np.hstack(list(oof_pred_probs.values())) + 1e-7)\n",
    "X_test = np.log(np.hstack(list(test_pred_probs.values())) + 1e-7)"
   ]
  },
  {
   "cell_type": "code",
   "execution_count": 13,
   "id": "de9b40ed",
   "metadata": {
    "execution": {
     "iopub.execute_input": "2024-08-08T07:43:55.156479Z",
     "iopub.status.busy": "2024-08-08T07:43:55.156072Z",
     "iopub.status.idle": "2024-08-08T07:45:43.613989Z",
     "shell.execute_reply": "2024-08-08T07:45:43.612803Z"
    },
    "papermill": {
     "duration": 108.469577,
     "end_time": "2024-08-08T07:45:43.616804",
     "exception": false,
     "start_time": "2024-08-08T07:43:55.147227",
     "status": "completed"
    },
    "tags": []
   },
   "outputs": [
    {
     "name": "stdout",
     "output_type": "stream",
     "text": [
      "Training LogisticRegression\n",
      "\n",
      "--- Fold 1 - MCC: 0.984826\n",
      "--- Fold 2 - MCC: 0.985274\n",
      "--- Fold 3 - MCC: 0.984775\n",
      "--- Fold 4 - MCC: 0.984935\n",
      "--- Fold 5 - MCC: 0.985020\n",
      "\n",
      "------ Average MCC: 0.984966 ± 0.000176\n"
     ]
    }
   ],
   "source": [
    "trainer = Trainer(LogisticRegression())\n",
    "ensemble_scores, ensemple_oof_pred_probs = trainer.fit_predict(X, y, X_test)\n",
    "scores['Ensemble'] = ensemble_scores"
   ]
  },
  {
   "cell_type": "markdown",
   "id": "27eafff0",
   "metadata": {
    "papermill": {
     "duration": 0.007695,
     "end_time": "2024-08-08T07:45:43.632750",
     "exception": false,
     "start_time": "2024-08-08T07:45:43.625055",
     "status": "completed"
    },
    "tags": []
   },
   "source": [
    "# Optimizing Threshold"
   ]
  },
  {
   "cell_type": "code",
   "execution_count": 14,
   "id": "f4475cf9",
   "metadata": {
    "execution": {
     "iopub.execute_input": "2024-08-08T07:45:43.650253Z",
     "iopub.status.busy": "2024-08-08T07:45:43.649864Z",
     "iopub.status.idle": "2024-08-08T07:45:43.655109Z",
     "shell.execute_reply": "2024-08-08T07:45:43.654001Z"
    },
    "papermill": {
     "duration": 0.016875,
     "end_time": "2024-08-08T07:45:43.657497",
     "exception": false,
     "start_time": "2024-08-08T07:45:43.640622",
     "status": "completed"
    },
    "scrolled": true,
    "tags": []
   },
   "outputs": [],
   "source": [
    "# import optuna\n",
    "\n",
    "# def objective(trial):\n",
    "#     threshold = trial.suggest_float('threshold', 0, 1, step=0.001)\n",
    "\n",
    "#     y_preds = ensemple_oof_pred_probs[:, 1] >= threshold\n",
    "#     return matthews_corrcoef(y, y_preds)\n",
    "\n",
    "# study = optuna.create_study(direction='maximize')\n",
    "# study.optimize(objective, n_trials=100)"
   ]
  },
  {
   "cell_type": "code",
   "execution_count": 15,
   "id": "e9e31654",
   "metadata": {
    "execution": {
     "iopub.execute_input": "2024-08-08T07:45:43.675853Z",
     "iopub.status.busy": "2024-08-08T07:45:43.674751Z",
     "iopub.status.idle": "2024-08-08T07:45:43.680146Z",
     "shell.execute_reply": "2024-08-08T07:45:43.678931Z"
    },
    "papermill": {
     "duration": 0.017082,
     "end_time": "2024-08-08T07:45:43.682558",
     "exception": false,
     "start_time": "2024-08-08T07:45:43.665476",
     "status": "completed"
    },
    "tags": []
   },
   "outputs": [],
   "source": [
    "# study.best_params"
   ]
  },
  {
   "cell_type": "markdown",
   "id": "53b66ca7",
   "metadata": {
    "papermill": {
     "duration": 0.007684,
     "end_time": "2024-08-08T07:45:43.698343",
     "exception": false,
     "start_time": "2024-08-08T07:45:43.690659",
     "status": "completed"
    },
    "tags": []
   },
   "source": [
    "# Results"
   ]
  },
  {
   "cell_type": "code",
   "execution_count": 16,
   "id": "badec01d",
   "metadata": {
    "execution": {
     "iopub.execute_input": "2024-08-08T07:45:43.716804Z",
     "iopub.status.busy": "2024-08-08T07:45:43.716362Z",
     "iopub.status.idle": "2024-08-08T07:45:44.402314Z",
     "shell.execute_reply": "2024-08-08T07:45:44.401119Z"
    },
    "papermill": {
     "duration": 0.698784,
     "end_time": "2024-08-08T07:45:44.405086",
     "exception": false,
     "start_time": "2024-08-08T07:45:43.706302",
     "status": "completed"
    },
    "tags": []
   },
   "outputs": [
    {
     "data": {
      "image/png": "[encoded data removed]",
      "text/plain": [
       "<Figure size 1500x500 with 2 Axes>"
      ]
     },
     "metadata": {},
     "output_type": "display_data"
    }
   ],
   "source": [
    "scores = pd.DataFrame(scores)\n",
    "mean_scores = scores.mean().sort_values(ascending=False)\n",
    "order = scores.mean().sort_values(ascending=False).index.tolist()\n",
    "\n",
    "min_score = mean_scores.min()\n",
    "max_score = mean_scores.max()\n",
    "padding = (max_score - min_score) * 0.5\n",
    "lower_limit = min_score - padding\n",
    "upper_limit = max_score + padding\n",
    "\n",
    "fig, axs = plt.subplots(1, 2, figsize=(15, 5))\n",
    "\n",
    "sns.boxplot(data=scores, order=order, ax=axs[0], orient='h', color='#651FFF')\n",
    "axs[0].set_title('Fold MCC')\n",
    "axs[0].set_xlabel('')\n",
    "axs[0].set_ylabel('')\n",
    "\n",
    "barplot = sns.barplot(x=mean_scores.values, y=mean_scores.index, ax=axs[1], color='#651FFF')\n",
    "axs[1].set_title('Average MCC')\n",
    "axs[1].set_xlabel('')\n",
    "axs[1].set_xlim(left=lower_limit, right=upper_limit)\n",
    "axs[1].set_ylabel('')\n",
    "\n",
    "for i, score in enumerate(mean_scores.values):\n",
    "    barplot.text(score, i, round(score, 6), va='center')\n",
    "\n",
    "plt.tight_layout()\n",
    "plt.show()"
   ]
  }
 ],
 "metadata": {
  "kaggle": {
   "accelerator": "none",
   "dataSources": [
    {
     "databundleVersionId": 9045607,
     "sourceId": 76727,
     "sourceType": "competition"
    },
    {
     "sourceId": 191240117,
     "sourceType": "kernelVersion"
    },
    {
     "sourceId": 191240383,
     "sourceType": "kernelVersion"
    },
    {
     "sourceId": 191479148,
     "sourceType": "kernelVersion"
    },
    {
     "sourceId": 191480586,
     "sourceType": "kernelVersion"
    },
    {
     "sourceId": 191481134,
     "sourceType": "kernelVersion"
    }
   ],
   "dockerImageVersionId": 30746,
   "isGpuEnabled": false,
   "isInternetEnabled": true,
   "language": "python",
   "sourceType": "notebook"
  },
  "kernelspec": {
   "display_name": "Python 3",
   "language": "python",
   "name": "python3"
  },
  "language_info": {
   "codemirror_mode": {
    "name": "ipython",
    "version": 3
   },
   "file_extension": ".py",
   "mimetype": "text/x-python",
   "name": "python",
   "nbconvert_exporter": "python",
   "pygments_lexer": "ipython3",
   "version": "3.10.13"
  },
  "papermill": {
   "default_parameters": {},
   "duration": 154.164795,
   "end_time": "2024-08-08T07:45:45.438411",
   "environment_variables": {},
   "exception": null,
   "input_path": "__notebook__.ipynb",
   "output_path": "__notebook__.ipynb",
   "parameters": {},
   "start_time": "2024-08-08T07:43:11.273616",
   "version": "2.5.0"
  }
 },
 "nbformat": 4,
 "nbformat_minor": 5
}
