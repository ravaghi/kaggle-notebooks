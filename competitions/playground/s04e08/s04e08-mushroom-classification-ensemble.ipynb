{
 "cells": [
  {
   "cell_type": "markdown",
   "id": "ab95f4eb",
   "metadata": {
    "papermill": {
     "duration": 0.005965,
     "end_time": "2024-08-05T08:35:58.365985",
     "exception": false,
     "start_time": "2024-08-05T08:35:58.360020",
     "status": "completed"
    },
    "tags": []
   },
   "source": [
    "# Imports and Configs"
   ]
  },
  {
   "cell_type": "code",
   "execution_count": 1,
   "id": "a8d5225c",
   "metadata": {
    "_cell_guid": "b1076dfc-b9ad-4769-8c92-a6c4dae69d19",
    "_uuid": "8f2839f25d086af736a60e9eeb907d3b93b6e0e5",
    "execution": {
     "iopub.execute_input": "2024-08-05T08:35:58.379901Z",
     "iopub.status.busy": "2024-08-05T08:35:58.379468Z",
     "iopub.status.idle": "2024-08-05T08:36:01.441117Z",
     "shell.execute_reply": "2024-08-05T08:36:01.439810Z"
    },
    "papermill": {
     "duration": 3.071983,
     "end_time": "2024-08-05T08:36:01.444395",
     "exception": false,
     "start_time": "2024-08-05T08:35:58.372412",
     "status": "completed"
    },
    "tags": []
   },
   "outputs": [],
   "source": [
    "from sklearn.base import BaseEstimator, ClassifierMixin\n",
    "from sklearn.linear_model import LogisticRegression\n",
    "from sklearn.model_selection import StratifiedKFold\n",
    "from sklearn.metrics import matthews_corrcoef\n",
    "from sklearn.ensemble import StackingClassifier\n",
    "from sklearn.utils import check_array\n",
    "import matplotlib.pyplot as plt\n",
    "from sklearn.base import clone\n",
    "import seaborn as sns\n",
    "import pandas as pd\n",
    "import numpy as np\n",
    "import warnings\n",
    "import pickle\n",
    "import glob\n",
    "import gc\n",
    "\n",
    "warnings.filterwarnings('ignore')"
   ]
  },
  {
   "cell_type": "code",
   "execution_count": 2,
   "id": "3cfe20a2",
   "metadata": {
    "execution": {
     "iopub.execute_input": "2024-08-05T08:36:01.459288Z",
     "iopub.status.busy": "2024-08-05T08:36:01.458089Z",
     "iopub.status.idle": "2024-08-05T08:36:01.464025Z",
     "shell.execute_reply": "2024-08-05T08:36:01.462962Z"
    },
    "papermill": {
     "duration": 0.015567,
     "end_time": "2024-08-05T08:36:01.466488",
     "exception": false,
     "start_time": "2024-08-05T08:36:01.450921",
     "status": "completed"
    },
    "tags": []
   },
   "outputs": [],
   "source": [
    "SEED = 6\n",
    "N_FOLDS = 5\n",
    "TARGET = 'class'"
   ]
  },
  {
   "cell_type": "markdown",
   "id": "8dbefa72",
   "metadata": {
    "papermill": {
     "duration": 0.005279,
     "end_time": "2024-08-05T08:36:01.477454",
     "exception": false,
     "start_time": "2024-08-05T08:36:01.472175",
     "status": "completed"
    },
    "tags": []
   },
   "source": [
    "# Loading Data"
   ]
  },
  {
   "cell_type": "code",
   "execution_count": 3,
   "id": "c3afb135",
   "metadata": {
    "execution": {
     "iopub.execute_input": "2024-08-05T08:36:01.491359Z",
     "iopub.status.busy": "2024-08-05T08:36:01.490176Z",
     "iopub.status.idle": "2024-08-05T08:36:22.209104Z",
     "shell.execute_reply": "2024-08-05T08:36:22.207869Z"
    },
    "papermill": {
     "duration": 20.72884,
     "end_time": "2024-08-05T08:36:22.211953",
     "exception": false,
     "start_time": "2024-08-05T08:36:01.483113",
     "status": "completed"
    },
    "tags": []
   },
   "outputs": [],
   "source": [
    "train = pd.read_csv('/kaggle/input/playground-series-s4e8/train.csv', index_col='id')\n",
    "test = pd.read_csv('/kaggle/input/playground-series-s4e8/test.csv', index_col='id')\n",
    "\n",
    "X = train.drop(columns=[TARGET])\n",
    "y = train[TARGET].map({'e': 0, 'p': 1})"
   ]
  },
  {
   "cell_type": "code",
   "execution_count": 4,
   "id": "8ffa5a6d",
   "metadata": {
    "execution": {
     "iopub.execute_input": "2024-08-05T08:36:22.224926Z",
     "iopub.status.busy": "2024-08-05T08:36:22.224504Z",
     "iopub.status.idle": "2024-08-05T08:36:22.231855Z",
     "shell.execute_reply": "2024-08-05T08:36:22.230600Z"
    },
    "papermill": {
     "duration": 0.016667,
     "end_time": "2024-08-05T08:36:22.234383",
     "exception": false,
     "start_time": "2024-08-05T08:36:22.217716",
     "status": "completed"
    },
    "tags": []
   },
   "outputs": [],
   "source": [
    "def get_scores(oof_pred_probs):\n",
    "    scores = []\n",
    "    skf = StratifiedKFold(n_splits=5, random_state=SEED, shuffle=True)\n",
    "    for _, val_idx in skf.split(X, y):\n",
    "        y_val = y[val_idx]\n",
    "        y_pred_probs = oof_pred_probs[val_idx]          \n",
    "        score = matthews_corrcoef(y_val, np.argmax(y_pred_probs, axis=1))\n",
    "        scores.append(score)\n",
    "    return scores"
   ]
  },
  {
   "cell_type": "markdown",
   "id": "ce91a282",
   "metadata": {
    "papermill": {
     "duration": 0.005276,
     "end_time": "2024-08-05T08:36:22.245267",
     "exception": false,
     "start_time": "2024-08-05T08:36:22.239991",
     "status": "completed"
    },
    "tags": []
   },
   "source": [
    "# Loading OOF Predictions"
   ]
  },
  {
   "cell_type": "code",
   "execution_count": 5,
   "id": "7aeb9b72",
   "metadata": {
    "execution": {
     "iopub.execute_input": "2024-08-05T08:36:22.259021Z",
     "iopub.status.busy": "2024-08-05T08:36:22.257783Z",
     "iopub.status.idle": "2024-08-05T08:36:22.263868Z",
     "shell.execute_reply": "2024-08-05T08:36:22.262641Z"
    },
    "papermill": {
     "duration": 0.015807,
     "end_time": "2024-08-05T08:36:22.266570",
     "exception": false,
     "start_time": "2024-08-05T08:36:22.250763",
     "status": "completed"
    },
    "tags": []
   },
   "outputs": [],
   "source": [
    "test_pred_probs = {}\n",
    "oof_pred_probs = {}\n",
    "scores = {}"
   ]
  },
  {
   "cell_type": "code",
   "execution_count": 6,
   "id": "7126a597",
   "metadata": {
    "execution": {
     "iopub.execute_input": "2024-08-05T08:36:22.279908Z",
     "iopub.status.busy": "2024-08-05T08:36:22.279460Z",
     "iopub.status.idle": "2024-08-05T08:36:25.805292Z",
     "shell.execute_reply": "2024-08-05T08:36:25.803888Z"
    },
    "papermill": {
     "duration": 3.53588,
     "end_time": "2024-08-05T08:36:25.808254",
     "exception": false,
     "start_time": "2024-08-05T08:36:22.272374",
     "status": "completed"
    },
    "tags": []
   },
   "outputs": [],
   "source": [
    "xgb_oof_pred_probs_files = glob.glob('/kaggle/input/s04e08-mushroom-classification-xgboost/xgb_oof_pred_probs_*.pkl')\n",
    "xgb_test_pred_probs_files = glob.glob('/kaggle/input/s04e08-mushroom-classification-xgboost/xgb_test_pred_probs_*.pkl')\n",
    "\n",
    "xgb_oof_pred_probs = pickle.load(open(xgb_oof_pred_probs_files[0], 'rb'))\n",
    "xgb_test_pred_probs = pickle.load(open(xgb_test_pred_probs_files[0], 'rb'))\n",
    "\n",
    "oof_pred_probs['XGBoost'] = xgb_oof_pred_probs\n",
    "test_pred_probs['XGBoost'] = xgb_test_pred_probs\n",
    "scores['XGBoost'] = get_scores(xgb_oof_pred_probs)"
   ]
  },
  {
   "cell_type": "code",
   "execution_count": 7,
   "id": "9290d682",
   "metadata": {
    "execution": {
     "iopub.execute_input": "2024-08-05T08:36:25.822332Z",
     "iopub.status.busy": "2024-08-05T08:36:25.821894Z",
     "iopub.status.idle": "2024-08-05T08:36:28.973516Z",
     "shell.execute_reply": "2024-08-05T08:36:28.972426Z"
    },
    "papermill": {
     "duration": 3.161926,
     "end_time": "2024-08-05T08:36:28.976551",
     "exception": false,
     "start_time": "2024-08-05T08:36:25.814625",
     "status": "completed"
    },
    "tags": []
   },
   "outputs": [],
   "source": [
    "lgbm_oof_pred_probs_files = glob.glob('/kaggle/input/s04e08-mushroom-classification-lightgbm/lgbm_oof_pred_probs_*.pkl')\n",
    "lgbm_test_pred_probs_files = glob.glob('/kaggle/input/s04e08-mushroom-classification-lightgbm/lgbm_test_pred_probs_*.pkl')\n",
    "\n",
    "lgbm_oof_pred_probs = pickle.load(open(lgbm_oof_pred_probs_files[0], 'rb'))\n",
    "lgbm_test_pred_probs = pickle.load(open(lgbm_test_pred_probs_files[0], 'rb'))\n",
    "\n",
    "oof_pred_probs['LightGBM'] = lgbm_oof_pred_probs\n",
    "test_pred_probs['LightGBM'] = lgbm_test_pred_probs\n",
    "scores['LightGBM'] = get_scores(lgbm_oof_pred_probs)"
   ]
  },
  {
   "cell_type": "code",
   "execution_count": 8,
   "id": "d32c4a88",
   "metadata": {
    "execution": {
     "iopub.execute_input": "2024-08-05T08:36:28.990049Z",
     "iopub.status.busy": "2024-08-05T08:36:28.989676Z",
     "iopub.status.idle": "2024-08-05T08:36:32.155857Z",
     "shell.execute_reply": "2024-08-05T08:36:32.154777Z"
    },
    "papermill": {
     "duration": 3.176193,
     "end_time": "2024-08-05T08:36:32.158689",
     "exception": false,
     "start_time": "2024-08-05T08:36:28.982496",
     "status": "completed"
    },
    "tags": []
   },
   "outputs": [],
   "source": [
    "histgb_oof_pred_probs_files = glob.glob('/kaggle/input/s04e08-mushroom-classification-histgb/histgradientboosting_oof_pred_probs_*.pkl')\n",
    "histgb_test_pred_probs_files = glob.glob('/kaggle/input/s04e08-mushroom-classification-histgb/histgradientboosting_test_pred_probs_*.pkl')\n",
    "\n",
    "histgb_oof_pred_probs = pickle.load(open(histgb_oof_pred_probs_files[0], 'rb'))\n",
    "histgb_test_pred_probs = pickle.load(open(histgb_test_pred_probs_files[0], 'rb'))\n",
    "\n",
    "oof_pred_probs['HistGB'] = histgb_oof_pred_probs\n",
    "test_pred_probs['HistGB'] = histgb_test_pred_probs\n",
    "scores['HistGB'] = get_scores(histgb_oof_pred_probs)"
   ]
  },
  {
   "cell_type": "markdown",
   "id": "38474ffb",
   "metadata": {
    "papermill": {
     "duration": 0.005698,
     "end_time": "2024-08-05T08:36:32.170407",
     "exception": false,
     "start_time": "2024-08-05T08:36:32.164709",
     "status": "completed"
    },
    "tags": []
   },
   "source": [
    "# Training Ensemble"
   ]
  },
  {
   "cell_type": "code",
   "execution_count": 9,
   "id": "dbd8e10a",
   "metadata": {
    "execution": {
     "iopub.execute_input": "2024-08-05T08:36:32.184662Z",
     "iopub.status.busy": "2024-08-05T08:36:32.184180Z",
     "iopub.status.idle": "2024-08-05T08:36:32.200000Z",
     "shell.execute_reply": "2024-08-05T08:36:32.198688Z"
    },
    "papermill": {
     "duration": 0.026139,
     "end_time": "2024-08-05T08:36:32.202854",
     "exception": false,
     "start_time": "2024-08-05T08:36:32.176715",
     "status": "completed"
    },
    "tags": []
   },
   "outputs": [],
   "source": [
    "class Trainer:\n",
    "    def __init__(self, model, n_folds=N_FOLDS):\n",
    "        self.model = model\n",
    "        self.n_folds = n_folds\n",
    "\n",
    "    def fit_predict(self, X, y, X_test):\n",
    "        print(f'Training {self.model.__class__.__name__}\\n')\n",
    "        \n",
    "        scores = []\n",
    "        test_pred_probs = np.zeros((X_test.shape[0], len(np.unique(y))))\n",
    "        \n",
    "        skf = StratifiedKFold(n_splits=self.n_folds, random_state=SEED, shuffle=True)\n",
    "        for fold_idx, (train_idx, val_idx) in enumerate(skf.split(X, y)):\n",
    "            X_train, X_val = X.iloc[train_idx], X.iloc[val_idx]\n",
    "            y_train, y_val = y[train_idx], y[val_idx]\n",
    "            \n",
    "            model = clone(self.model)\n",
    "            model.fit(X_train, y_train)\n",
    "            \n",
    "            y_pred_probs = model.predict_proba(X_val)        \n",
    "            \n",
    "            temp_test_pred_probs = model.predict_proba(X_test)\n",
    "            test_pred_probs += temp_test_pred_probs / self.n_folds\n",
    "            \n",
    "            score = matthews_corrcoef(y_val, np.argmax(y_pred_probs, axis=1))\n",
    "            scores.append(score)\n",
    "            \n",
    "            del model, X_train, y_train, X_val, y_val, y_pred_probs\n",
    "            gc.collect()\n",
    "            \n",
    "            print(f'--- Fold {fold_idx + 1} - MCC: {score:.6f}')\n",
    "            \n",
    "        print(f'\\n------ Average MCC: {np.mean(scores):.6f} ± {np.std(scores):.6f}')\n",
    "        self._save_submission(test_pred_probs, np.mean(scores))\n",
    "        \n",
    "        return scores\n",
    "    \n",
    "    def _save_submission(self, test_pred_probs, score):\n",
    "        name = self.model.__class__.__name__.lower().replace('classifier', '')\n",
    "        sub = pd.read_csv('/kaggle/input/playground-series-s4e8/sample_submission.csv')\n",
    "        sub[TARGET] = np.argmax(test_pred_probs, axis=1)\n",
    "        sub[TARGET] = sub[TARGET].map({0: 'e', 1: 'p'})\n",
    "        sub.to_csv(f'sub_{name}_{score:.6f}.csv', index=False)"
   ]
  },
  {
   "cell_type": "code",
   "execution_count": 10,
   "id": "039f0a3b",
   "metadata": {
    "execution": {
     "iopub.execute_input": "2024-08-05T08:36:32.217256Z",
     "iopub.status.busy": "2024-08-05T08:36:32.216853Z",
     "iopub.status.idle": "2024-08-05T08:36:32.225263Z",
     "shell.execute_reply": "2024-08-05T08:36:32.223820Z"
    },
    "papermill": {
     "duration": 0.018628,
     "end_time": "2024-08-05T08:36:32.227885",
     "exception": false,
     "start_time": "2024-08-05T08:36:32.209257",
     "status": "completed"
    },
    "tags": []
   },
   "outputs": [],
   "source": [
    "class PassThroughClassifier(BaseEstimator, ClassifierMixin):\n",
    "    def __init__(self, idx_cols):\n",
    "        self.idx_cols = idx_cols\n",
    "        self.is_fitted_ = True\n",
    "\n",
    "    def fit(self, X, y=None):\n",
    "        return self\n",
    "\n",
    "    def predict_proba(self, X):\n",
    "        return check_array(X)[:, self.idx_cols]\n",
    "\n",
    "estimators = [\n",
    "    ('XGBoost',  PassThroughClassifier(list(range(0, 2)))),\n",
    "    ('LightGBM', PassThroughClassifier(list(range(2, 4)))),\n",
    "    ('HistGB',   PassThroughClassifier(list(range(4, 6))))\n",
    "]"
   ]
  },
  {
   "cell_type": "code",
   "execution_count": 11,
   "id": "461bedf5",
   "metadata": {
    "execution": {
     "iopub.execute_input": "2024-08-05T08:36:32.242885Z",
     "iopub.status.busy": "2024-08-05T08:36:32.241906Z",
     "iopub.status.idle": "2024-08-05T08:36:33.046951Z",
     "shell.execute_reply": "2024-08-05T08:36:33.045722Z"
    },
    "papermill": {
     "duration": 0.81535,
     "end_time": "2024-08-05T08:36:33.049722",
     "exception": false,
     "start_time": "2024-08-05T08:36:32.234372",
     "status": "completed"
    },
    "tags": []
   },
   "outputs": [],
   "source": [
    "X = np.log(pd.DataFrame(np.hstack(list(oof_pred_probs.values()))) + 1e-7)\n",
    "X_test = np.log(pd.DataFrame(np.hstack(list(test_pred_probs.values()))) + 1e-7)"
   ]
  },
  {
   "cell_type": "code",
   "execution_count": 12,
   "id": "2331aab8",
   "metadata": {
    "execution": {
     "iopub.execute_input": "2024-08-05T08:36:33.064972Z",
     "iopub.status.busy": "2024-08-05T08:36:33.064592Z",
     "iopub.status.idle": "2024-08-05T08:37:12.061813Z",
     "shell.execute_reply": "2024-08-05T08:37:12.060680Z"
    },
    "papermill": {
     "duration": 39.007657,
     "end_time": "2024-08-05T08:37:12.064692",
     "exception": false,
     "start_time": "2024-08-05T08:36:33.057035",
     "status": "completed"
    },
    "tags": []
   },
   "outputs": [
    {
     "name": "stdout",
     "output_type": "stream",
     "text": [
      "Training StackingClassifier\n",
      "\n",
      "--- Fold 1 - MCC: 0.979901\n",
      "--- Fold 2 - MCC: 0.980181\n",
      "--- Fold 3 - MCC: 0.979504\n",
      "--- Fold 4 - MCC: 0.979747\n",
      "--- Fold 5 - MCC: 0.979752\n",
      "\n",
      "------ Average MCC: 0.979817 ± 0.000222\n"
     ]
    }
   ],
   "source": [
    "stacking_model = StackingClassifier(estimators, cv='prefit', n_jobs=-1)\n",
    "stacking_trainer = Trainer(stacking_model)\n",
    "stacking_scores = stacking_trainer.fit_predict(X, y, X_test)\n",
    "scores['Stacking'] = stacking_scores"
   ]
  },
  {
   "cell_type": "code",
   "execution_count": 13,
   "id": "87a89584",
   "metadata": {
    "execution": {
     "iopub.execute_input": "2024-08-05T08:37:12.080172Z",
     "iopub.status.busy": "2024-08-05T08:37:12.079768Z",
     "iopub.status.idle": "2024-08-05T08:37:12.670808Z",
     "shell.execute_reply": "2024-08-05T08:37:12.669555Z"
    },
    "papermill": {
     "duration": 0.601786,
     "end_time": "2024-08-05T08:37:12.673365",
     "exception": false,
     "start_time": "2024-08-05T08:37:12.071579",
     "status": "completed"
    },
    "tags": []
   },
   "outputs": [
    {
     "data": {
      "image/png": "[encoded data removed]",
      "text/plain": [
       "<Figure size 1500x500 with 2 Axes>"
      ]
     },
     "metadata": {},
     "output_type": "display_data"
    }
   ],
   "source": [
    "scores = pd.DataFrame(scores)\n",
    "mean_scores = scores.mean().sort_values(ascending=False)\n",
    "order = scores.mean().sort_values(ascending=False).index.tolist()\n",
    "\n",
    "min_score = mean_scores.min()\n",
    "max_score = mean_scores.max()\n",
    "padding = (max_score - min_score) * 0.5\n",
    "lower_limit = min_score - padding\n",
    "upper_limit = max_score + padding\n",
    "\n",
    "fig, axs = plt.subplots(1, 2, figsize=(15, 5))\n",
    "\n",
    "sns.boxplot(data=scores, order=order, ax=axs[0], orient='h', color='#651FFF')\n",
    "axs[0].set_title('Fold MCC')\n",
    "axs[0].set_xlabel('')\n",
    "axs[0].set_ylabel('')\n",
    "\n",
    "barplot = sns.barplot(x=mean_scores.values, y=mean_scores.index, ax=axs[1], color='#651FFF')\n",
    "axs[1].set_title('Average MCC')\n",
    "axs[1].set_xlabel('')\n",
    "axs[1].set_xlim(left=lower_limit, right=upper_limit)\n",
    "axs[1].set_ylabel('')\n",
    "\n",
    "for i, score in enumerate(mean_scores.values):\n",
    "    barplot.text(score, i, round(score, 6), va='center')\n",
    "\n",
    "plt.tight_layout()\n",
    "plt.show()"
   ]
  }
 ],
 "metadata": {
  "kaggle": {
   "accelerator": "none",
   "dataSources": [
    {
     "databundleVersionId": 9045607,
     "sourceId": 76727,
     "sourceType": "competition"
    },
    {
     "sourceId": 191147593,
     "sourceType": "kernelVersion"
    },
    {
     "sourceId": 191148095,
     "sourceType": "kernelVersion"
    },
    {
     "sourceId": 191150906,
     "sourceType": "kernelVersion"
    }
   ],
   "dockerImageVersionId": 30746,
   "isGpuEnabled": false,
   "isInternetEnabled": true,
   "language": "python",
   "sourceType": "notebook"
  },
  "kernelspec": {
   "display_name": "Python 3",
   "language": "python",
   "name": "python3"
  },
  "language_info": {
   "codemirror_mode": {
    "name": "ipython",
    "version": 3
   },
   "file_extension": ".py",
   "mimetype": "text/x-python",
   "name": "python",
   "nbconvert_exporter": "python",
   "pygments_lexer": "ipython3",
   "version": "3.10.13"
  },
  "papermill": {
   "default_parameters": {},
   "duration": 78.494214,
   "end_time": "2024-08-05T08:37:13.704261",
   "environment_variables": {},
   "exception": null,
   "input_path": "__notebook__.ipynb",
   "output_path": "__notebook__.ipynb",
   "parameters": {},
   "start_time": "2024-08-05T08:35:55.210047",
   "version": "2.5.0"
  }
 },
 "nbformat": 4,
 "nbformat_minor": 5
}
