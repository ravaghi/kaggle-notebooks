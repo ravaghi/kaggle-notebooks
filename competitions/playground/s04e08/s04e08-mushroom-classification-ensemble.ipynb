{
 "cells": [
  {
   "cell_type": "markdown",
   "id": "05295e5f",
   "metadata": {
    "papermill": {
     "duration": 0.006431,
     "end_time": "2024-08-05T16:24:01.182530",
     "exception": false,
     "start_time": "2024-08-05T16:24:01.176099",
     "status": "completed"
    },
    "tags": []
   },
   "source": [
    "# Imports and Configs"
   ]
  },
  {
   "cell_type": "code",
   "execution_count": 1,
   "id": "684633c7",
   "metadata": {
    "_cell_guid": "b1076dfc-b9ad-4769-8c92-a6c4dae69d19",
    "_uuid": "8f2839f25d086af736a60e9eeb907d3b93b6e0e5",
    "execution": {
     "iopub.execute_input": "2024-08-05T16:24:01.197192Z",
     "iopub.status.busy": "2024-08-05T16:24:01.196353Z",
     "iopub.status.idle": "2024-08-05T16:24:03.924265Z",
     "shell.execute_reply": "2024-08-05T16:24:03.923222Z"
    },
    "papermill": {
     "duration": 2.738124,
     "end_time": "2024-08-05T16:24:03.926946",
     "exception": false,
     "start_time": "2024-08-05T16:24:01.188822",
     "status": "completed"
    },
    "tags": []
   },
   "outputs": [],
   "source": [
    "from sklearn.linear_model import LogisticRegression\n",
    "from sklearn.model_selection import StratifiedKFold\n",
    "from sklearn.metrics import matthews_corrcoef\n",
    "import matplotlib.pyplot as plt\n",
    "from sklearn.base import clone\n",
    "import seaborn as sns\n",
    "import pandas as pd\n",
    "import numpy as np\n",
    "import warnings\n",
    "import pickle\n",
    "import glob\n",
    "import gc\n",
    "\n",
    "warnings.filterwarnings('ignore')"
   ]
  },
  {
   "cell_type": "code",
   "execution_count": 2,
   "id": "2a3ba54e",
   "metadata": {
    "execution": {
     "iopub.execute_input": "2024-08-05T16:24:03.941687Z",
     "iopub.status.busy": "2024-08-05T16:24:03.940486Z",
     "iopub.status.idle": "2024-08-05T16:24:03.945805Z",
     "shell.execute_reply": "2024-08-05T16:24:03.944595Z"
    },
    "papermill": {
     "duration": 0.014837,
     "end_time": "2024-08-05T16:24:03.947929",
     "exception": false,
     "start_time": "2024-08-05T16:24:03.933092",
     "status": "completed"
    },
    "tags": []
   },
   "outputs": [],
   "source": [
    "SEED = 6\n",
    "N_FOLDS = 5\n",
    "TARGET = 'class'"
   ]
  },
  {
   "cell_type": "markdown",
   "id": "6e8ee8f6",
   "metadata": {
    "papermill": {
     "duration": 0.005765,
     "end_time": "2024-08-05T16:24:03.959787",
     "exception": false,
     "start_time": "2024-08-05T16:24:03.954022",
     "status": "completed"
    },
    "tags": []
   },
   "source": [
    "# Loading Data"
   ]
  },
  {
   "cell_type": "code",
   "execution_count": 3,
   "id": "15a42135",
   "metadata": {
    "execution": {
     "iopub.execute_input": "2024-08-05T16:24:03.974031Z",
     "iopub.status.busy": "2024-08-05T16:24:03.973195Z",
     "iopub.status.idle": "2024-08-05T16:24:21.926061Z",
     "shell.execute_reply": "2024-08-05T16:24:21.925001Z"
    },
    "papermill": {
     "duration": 17.963009,
     "end_time": "2024-08-05T16:24:21.928906",
     "exception": false,
     "start_time": "2024-08-05T16:24:03.965897",
     "status": "completed"
    },
    "tags": []
   },
   "outputs": [],
   "source": [
    "train = pd.read_csv('/kaggle/input/playground-series-s4e8/train.csv', index_col='id')\n",
    "test = pd.read_csv('/kaggle/input/playground-series-s4e8/test.csv', index_col='id')\n",
    "\n",
    "X = train.drop(columns=[TARGET])\n",
    "y = train[TARGET].map({'e': 0, 'p': 1})"
   ]
  },
  {
   "cell_type": "code",
   "execution_count": 4,
   "id": "509e00ab",
   "metadata": {
    "execution": {
     "iopub.execute_input": "2024-08-05T16:24:21.943427Z",
     "iopub.status.busy": "2024-08-05T16:24:21.942543Z",
     "iopub.status.idle": "2024-08-05T16:24:21.948686Z",
     "shell.execute_reply": "2024-08-05T16:24:21.947743Z"
    },
    "papermill": {
     "duration": 0.016071,
     "end_time": "2024-08-05T16:24:21.951400",
     "exception": false,
     "start_time": "2024-08-05T16:24:21.935329",
     "status": "completed"
    },
    "tags": []
   },
   "outputs": [],
   "source": [
    "def get_scores(oof_pred_probs):\n",
    "    scores = []\n",
    "    skf = StratifiedKFold(n_splits=5, random_state=SEED, shuffle=True)\n",
    "    for _, val_idx in skf.split(X, y):\n",
    "        y_val = y[val_idx]\n",
    "        y_pred_probs = oof_pred_probs[val_idx]          \n",
    "        score = matthews_corrcoef(y_val, np.argmax(y_pred_probs, axis=1))\n",
    "        scores.append(score)\n",
    "    return scores"
   ]
  },
  {
   "cell_type": "markdown",
   "id": "53ee66d9",
   "metadata": {
    "papermill": {
     "duration": 0.00578,
     "end_time": "2024-08-05T16:24:21.963513",
     "exception": false,
     "start_time": "2024-08-05T16:24:21.957733",
     "status": "completed"
    },
    "tags": []
   },
   "source": [
    "# Loading OOF Predictions"
   ]
  },
  {
   "cell_type": "code",
   "execution_count": 5,
   "id": "bcd064cb",
   "metadata": {
    "execution": {
     "iopub.execute_input": "2024-08-05T16:24:21.977482Z",
     "iopub.status.busy": "2024-08-05T16:24:21.976603Z",
     "iopub.status.idle": "2024-08-05T16:24:21.981092Z",
     "shell.execute_reply": "2024-08-05T16:24:21.980158Z"
    },
    "papermill": {
     "duration": 0.013539,
     "end_time": "2024-08-05T16:24:21.983077",
     "exception": false,
     "start_time": "2024-08-05T16:24:21.969538",
     "status": "completed"
    },
    "tags": []
   },
   "outputs": [],
   "source": [
    "test_pred_probs = {}\n",
    "oof_pred_probs = {}\n",
    "scores = {}"
   ]
  },
  {
   "cell_type": "code",
   "execution_count": 6,
   "id": "91260828",
   "metadata": {
    "execution": {
     "iopub.execute_input": "2024-08-05T16:24:21.996929Z",
     "iopub.status.busy": "2024-08-05T16:24:21.996121Z",
     "iopub.status.idle": "2024-08-05T16:24:25.334309Z",
     "shell.execute_reply": "2024-08-05T16:24:25.333270Z"
    },
    "papermill": {
     "duration": 3.347792,
     "end_time": "2024-08-05T16:24:25.336855",
     "exception": false,
     "start_time": "2024-08-05T16:24:21.989063",
     "status": "completed"
    },
    "tags": []
   },
   "outputs": [],
   "source": [
    "xgb_oof_pred_probs_files = glob.glob('/kaggle/input/s04e08-mushroom-classification-xgboost/xgb_oof_pred_probs_*.pkl')\n",
    "xgb_test_pred_probs_files = glob.glob('/kaggle/input/s04e08-mushroom-classification-xgboost/xgb_test_pred_probs_*.pkl')\n",
    "\n",
    "xgb_oof_pred_probs = pickle.load(open(xgb_oof_pred_probs_files[0], 'rb'))\n",
    "xgb_test_pred_probs = pickle.load(open(xgb_test_pred_probs_files[0], 'rb'))\n",
    "\n",
    "oof_pred_probs['XGBoost'] = xgb_oof_pred_probs\n",
    "test_pred_probs['XGBoost'] = xgb_test_pred_probs\n",
    "scores['XGBoost'] = get_scores(xgb_oof_pred_probs)"
   ]
  },
  {
   "cell_type": "code",
   "execution_count": 7,
   "id": "7a3fee86",
   "metadata": {
    "execution": {
     "iopub.execute_input": "2024-08-05T16:24:25.350839Z",
     "iopub.status.busy": "2024-08-05T16:24:25.350443Z",
     "iopub.status.idle": "2024-08-05T16:24:28.611137Z",
     "shell.execute_reply": "2024-08-05T16:24:28.610204Z"
    },
    "papermill": {
     "duration": 3.270974,
     "end_time": "2024-08-05T16:24:28.613914",
     "exception": false,
     "start_time": "2024-08-05T16:24:25.342940",
     "status": "completed"
    },
    "tags": []
   },
   "outputs": [],
   "source": [
    "lgbm_oof_pred_probs_files = glob.glob('/kaggle/input/s04e08-mushroom-classification-lightgbm/lgbm_oof_pred_probs_*.pkl')\n",
    "lgbm_test_pred_probs_files = glob.glob('/kaggle/input/s04e08-mushroom-classification-lightgbm/lgbm_test_pred_probs_*.pkl')\n",
    "\n",
    "lgbm_oof_pred_probs = pickle.load(open(lgbm_oof_pred_probs_files[0], 'rb'))\n",
    "lgbm_test_pred_probs = pickle.load(open(lgbm_test_pred_probs_files[0], 'rb'))\n",
    "\n",
    "oof_pred_probs['LightGBM'] = lgbm_oof_pred_probs\n",
    "test_pred_probs['LightGBM'] = lgbm_test_pred_probs\n",
    "scores['LightGBM'] = get_scores(lgbm_oof_pred_probs)"
   ]
  },
  {
   "cell_type": "code",
   "execution_count": 8,
   "id": "820ba45a",
   "metadata": {
    "execution": {
     "iopub.execute_input": "2024-08-05T16:24:28.628397Z",
     "iopub.status.busy": "2024-08-05T16:24:28.627395Z",
     "iopub.status.idle": "2024-08-05T16:24:32.105644Z",
     "shell.execute_reply": "2024-08-05T16:24:32.104552Z"
    },
    "papermill": {
     "duration": 3.488205,
     "end_time": "2024-08-05T16:24:32.108287",
     "exception": false,
     "start_time": "2024-08-05T16:24:28.620082",
     "status": "completed"
    },
    "tags": []
   },
   "outputs": [],
   "source": [
    "histgb_oof_pred_probs_files = glob.glob('/kaggle/input/s04e08-mushroom-classification-histgb/histgradientboosting_oof_pred_probs_*.pkl')\n",
    "histgb_test_pred_probs_files = glob.glob('/kaggle/input/s04e08-mushroom-classification-histgb/histgradientboosting_test_pred_probs_*.pkl')\n",
    "\n",
    "histgb_oof_pred_probs = pickle.load(open(histgb_oof_pred_probs_files[0], 'rb'))\n",
    "histgb_test_pred_probs = pickle.load(open(histgb_test_pred_probs_files[0], 'rb'))\n",
    "\n",
    "oof_pred_probs['HistGB'] = histgb_oof_pred_probs\n",
    "test_pred_probs['HistGB'] = histgb_test_pred_probs\n",
    "scores['HistGB'] = get_scores(histgb_oof_pred_probs)"
   ]
  },
  {
   "cell_type": "code",
   "execution_count": 9,
   "id": "89e13672",
   "metadata": {
    "execution": {
     "iopub.execute_input": "2024-08-05T16:24:32.123202Z",
     "iopub.status.busy": "2024-08-05T16:24:32.122818Z",
     "iopub.status.idle": "2024-08-05T16:24:35.352353Z",
     "shell.execute_reply": "2024-08-05T16:24:35.351181Z"
    },
    "papermill": {
     "duration": 3.240583,
     "end_time": "2024-08-05T16:24:35.355057",
     "exception": false,
     "start_time": "2024-08-05T16:24:32.114474",
     "status": "completed"
    },
    "tags": []
   },
   "outputs": [],
   "source": [
    "nn_oof_pred_probs_files = glob.glob('/kaggle/input/s04e08-mushroom-classification-neural-networks/keras_oof_pred_probs_*.pkl')\n",
    "nn_test_pred_probs_files = glob.glob('/kaggle/input/s04e08-mushroom-classification-neural-networks/keras_test_pred_probs_*.pkl')\n",
    "\n",
    "nn_oof_pred_probs = pickle.load(open(nn_oof_pred_probs_files[0], 'rb'))\n",
    "nn_test_pred_probs = pickle.load(open(nn_test_pred_probs_files[0], 'rb'))\n",
    "\n",
    "oof_pred_probs['KerasANN'] = nn_oof_pred_probs\n",
    "test_pred_probs['KerasANN'] = nn_test_pred_probs\n",
    "scores['KerasANN'] = get_scores(nn_oof_pred_probs)"
   ]
  },
  {
   "cell_type": "markdown",
   "id": "4efa54e1",
   "metadata": {
    "papermill": {
     "duration": 0.005697,
     "end_time": "2024-08-05T16:24:35.366835",
     "exception": false,
     "start_time": "2024-08-05T16:24:35.361138",
     "status": "completed"
    },
    "tags": []
   },
   "source": [
    "# Stacking"
   ]
  },
  {
   "cell_type": "code",
   "execution_count": 10,
   "id": "59a07666",
   "metadata": {
    "execution": {
     "iopub.execute_input": "2024-08-05T16:24:35.380380Z",
     "iopub.status.busy": "2024-08-05T16:24:35.380023Z",
     "iopub.status.idle": "2024-08-05T16:24:35.391645Z",
     "shell.execute_reply": "2024-08-05T16:24:35.390512Z"
    },
    "papermill": {
     "duration": 0.021139,
     "end_time": "2024-08-05T16:24:35.393888",
     "exception": false,
     "start_time": "2024-08-05T16:24:35.372749",
     "status": "completed"
    },
    "tags": []
   },
   "outputs": [],
   "source": [
    "class Trainer:\n",
    "    def __init__(self, model, n_folds=N_FOLDS):\n",
    "        self.model = model\n",
    "        self.n_folds = n_folds\n",
    "\n",
    "    def fit_predict(self, X, y, X_test):\n",
    "        print(f'Training {self.model.__class__.__name__}\\n')\n",
    "        \n",
    "        scores = []\n",
    "        test_pred_probs = np.zeros((X_test.shape[0], len(np.unique(y))))\n",
    "        \n",
    "        skf = StratifiedKFold(n_splits=self.n_folds, random_state=SEED, shuffle=True)\n",
    "        for fold_idx, (train_idx, val_idx) in enumerate(skf.split(X, y)):\n",
    "            X_train, X_val = X[train_idx], X[val_idx]\n",
    "            y_train, y_val = y[train_idx], y[val_idx]\n",
    "            \n",
    "            model = clone(self.model)\n",
    "            model.fit(X_train, y_train)\n",
    "            \n",
    "            y_pred_probs = model.predict_proba(X_val)        \n",
    "            \n",
    "            temp_test_pred_probs = model.predict_proba(X_test)\n",
    "            test_pred_probs += temp_test_pred_probs / self.n_folds\n",
    "            \n",
    "            score = matthews_corrcoef(y_val, np.argmax(y_pred_probs, axis=1))\n",
    "            scores.append(score)\n",
    "            \n",
    "            del model, X_train, y_train, X_val, y_val, y_pred_probs\n",
    "            gc.collect()\n",
    "            \n",
    "            print(f'--- Fold {fold_idx + 1} - MCC: {score:.6f}')\n",
    "            \n",
    "        print(f'\\n------ Average MCC: {np.mean(scores):.6f} ± {np.std(scores):.6f}')\n",
    "        self._save_submission(test_pred_probs, np.mean(scores))\n",
    "        \n",
    "        return scores\n",
    "    \n",
    "    def _save_submission(self, test_pred_probs, score):\n",
    "        name = self.model.__class__.__name__.lower().replace('classifier', '')\n",
    "        sub = pd.read_csv('/kaggle/input/playground-series-s4e8/sample_submission.csv')\n",
    "        sub[TARGET] = np.argmax(test_pred_probs, axis=1)\n",
    "        sub[TARGET] = sub[TARGET].map({0: 'e', 1: 'p'})\n",
    "        sub.to_csv(f'sub_{name}_{score:.6f}.csv', index=False)"
   ]
  },
  {
   "cell_type": "code",
   "execution_count": 11,
   "id": "1b5f2084",
   "metadata": {
    "execution": {
     "iopub.execute_input": "2024-08-05T16:24:35.407582Z",
     "iopub.status.busy": "2024-08-05T16:24:35.407214Z",
     "iopub.status.idle": "2024-08-05T16:24:36.403920Z",
     "shell.execute_reply": "2024-08-05T16:24:36.402951Z"
    },
    "papermill": {
     "duration": 1.006437,
     "end_time": "2024-08-05T16:24:36.406563",
     "exception": false,
     "start_time": "2024-08-05T16:24:35.400126",
     "status": "completed"
    },
    "tags": []
   },
   "outputs": [],
   "source": [
    "X = np.log(np.hstack(list(oof_pred_probs.values())) + 1e-7)\n",
    "X_test = np.log(np.hstack(list(test_pred_probs.values())) + 1e-7)"
   ]
  },
  {
   "cell_type": "code",
   "execution_count": 12,
   "id": "03a2c362",
   "metadata": {
    "execution": {
     "iopub.execute_input": "2024-08-05T16:24:36.420490Z",
     "iopub.status.busy": "2024-08-05T16:24:36.420098Z",
     "iopub.status.idle": "2024-08-05T16:25:36.432081Z",
     "shell.execute_reply": "2024-08-05T16:25:36.431079Z"
    },
    "papermill": {
     "duration": 60.022217,
     "end_time": "2024-08-05T16:25:36.434889",
     "exception": false,
     "start_time": "2024-08-05T16:24:36.412672",
     "status": "completed"
    },
    "tags": []
   },
   "outputs": [
    {
     "name": "stdout",
     "output_type": "stream",
     "text": [
      "Training LogisticRegression\n",
      "\n",
      "--- Fold 1 - MCC: 0.984834\n",
      "--- Fold 2 - MCC: 0.985172\n",
      "--- Fold 3 - MCC: 0.984779\n",
      "--- Fold 4 - MCC: 0.984823\n",
      "--- Fold 5 - MCC: 0.985002\n",
      "\n",
      "------ Average MCC: 0.984922 ± 0.000146\n"
     ]
    }
   ],
   "source": [
    "trainer = Trainer(LogisticRegression())\n",
    "ensemble_scores = trainer.fit_predict(X, y, X_test)\n",
    "scores['Ensemble'] = ensemble_scores"
   ]
  },
  {
   "cell_type": "markdown",
   "id": "531aa87a",
   "metadata": {
    "papermill": {
     "duration": 0.006134,
     "end_time": "2024-08-05T16:25:36.447660",
     "exception": false,
     "start_time": "2024-08-05T16:25:36.441526",
     "status": "completed"
    },
    "tags": []
   },
   "source": [
    "# Hard Voting"
   ]
  },
  {
   "cell_type": "code",
   "execution_count": 13,
   "id": "b7b916b8",
   "metadata": {
    "execution": {
     "iopub.execute_input": "2024-08-05T16:25:36.462387Z",
     "iopub.status.busy": "2024-08-05T16:25:36.462021Z",
     "iopub.status.idle": "2024-08-05T16:25:36.799649Z",
     "shell.execute_reply": "2024-08-05T16:25:36.798432Z"
    },
    "papermill": {
     "duration": 0.348099,
     "end_time": "2024-08-05T16:25:36.802322",
     "exception": false,
     "start_time": "2024-08-05T16:25:36.454223",
     "status": "completed"
    },
    "tags": []
   },
   "outputs": [],
   "source": [
    "xgb_oof_preds = np.argmax(xgb_oof_pred_probs, axis=1)\n",
    "lgbm_oof_preds = np.argmax(lgbm_oof_pred_probs, axis=1)\n",
    "histgb_oof_preds = np.argmax(histgb_oof_pred_probs, axis=1)\n",
    "nn_oof_preds = np.argmax(nn_oof_pred_probs, axis=1)\n",
    "\n",
    "xgb_test_preds = np.argmax(xgb_test_pred_probs, axis=1)\n",
    "lgbm_test_preds = np.argmax(lgbm_test_pred_probs, axis=1)\n",
    "histgb_test_preds = np.argmax(histgb_test_pred_probs, axis=1)\n",
    "nn_test_preds = np.argmax(nn_test_pred_probs, axis=1)"
   ]
  },
  {
   "cell_type": "code",
   "execution_count": 14,
   "id": "6177a055",
   "metadata": {
    "execution": {
     "iopub.execute_input": "2024-08-05T16:25:36.817164Z",
     "iopub.status.busy": "2024-08-05T16:25:36.816789Z",
     "iopub.status.idle": "2024-08-05T16:56:14.973608Z",
     "shell.execute_reply": "2024-08-05T16:56:14.972108Z"
    },
    "papermill": {
     "duration": 1838.17018,
     "end_time": "2024-08-05T16:56:14.979166",
     "exception": false,
     "start_time": "2024-08-05T16:25:36.808986",
     "status": "completed"
    },
    "tags": []
   },
   "outputs": [],
   "source": [
    "hv_oof_preds = pd.DataFrame([xgb_oof_preds, lgbm_oof_preds, histgb_oof_preds, nn_oof_preds]).mode().T[0]\n",
    "hv_test_preds = pd.DataFrame([xgb_test_preds, lgbm_test_preds, histgb_test_preds, nn_test_preds]).mode().T[0]"
   ]
  },
  {
   "cell_type": "code",
   "execution_count": 15,
   "id": "9c16acbf",
   "metadata": {
    "execution": {
     "iopub.execute_input": "2024-08-05T16:56:14.998292Z",
     "iopub.status.busy": "2024-08-05T16:56:14.997231Z",
     "iopub.status.idle": "2024-08-05T16:56:16.710160Z",
     "shell.execute_reply": "2024-08-05T16:56:16.708852Z"
    },
    "papermill": {
     "duration": 1.724141,
     "end_time": "2024-08-05T16:56:16.712908",
     "exception": false,
     "start_time": "2024-08-05T16:56:14.988767",
     "status": "completed"
    },
    "tags": []
   },
   "outputs": [],
   "source": [
    "hv_score = matthews_corrcoef(y, hv_oof_preds)\n",
    "scores['Hard Voting'] = hv_score"
   ]
  },
  {
   "cell_type": "code",
   "execution_count": 16,
   "id": "146806d4",
   "metadata": {
    "execution": {
     "iopub.execute_input": "2024-08-05T16:56:16.728357Z",
     "iopub.status.busy": "2024-08-05T16:56:16.727949Z",
     "iopub.status.idle": "2024-08-05T16:56:18.723487Z",
     "shell.execute_reply": "2024-08-05T16:56:18.722310Z"
    },
    "papermill": {
     "duration": 2.006988,
     "end_time": "2024-08-05T16:56:18.726553",
     "exception": false,
     "start_time": "2024-08-05T16:56:16.719565",
     "status": "completed"
    },
    "tags": []
   },
   "outputs": [],
   "source": [
    "sub = pd.read_csv('/kaggle/input/playground-series-s4e8/sample_submission.csv')\n",
    "sub[TARGET] = hv_test_preds\n",
    "sub[TARGET] = sub[TARGET].map({0: 'e', 1: 'p'})\n",
    "sub.to_csv(f'sub_hard_voting_{hv_score:.6f}.csv', index=False)"
   ]
  },
  {
   "cell_type": "markdown",
   "id": "193ad355",
   "metadata": {
    "papermill": {
     "duration": 0.006381,
     "end_time": "2024-08-05T16:56:18.739818",
     "exception": false,
     "start_time": "2024-08-05T16:56:18.733437",
     "status": "completed"
    },
    "tags": []
   },
   "source": [
    "# Soft Voting / Averaging"
   ]
  },
  {
   "cell_type": "code",
   "execution_count": 17,
   "id": "9f41c305",
   "metadata": {
    "execution": {
     "iopub.execute_input": "2024-08-05T16:56:18.755055Z",
     "iopub.status.busy": "2024-08-05T16:56:18.754298Z",
     "iopub.status.idle": "2024-08-05T16:56:18.907748Z",
     "shell.execute_reply": "2024-08-05T16:56:18.906543Z"
    },
    "papermill": {
     "duration": 0.163984,
     "end_time": "2024-08-05T16:56:18.910408",
     "exception": false,
     "start_time": "2024-08-05T16:56:18.746424",
     "status": "completed"
    },
    "tags": []
   },
   "outputs": [],
   "source": [
    "sv_oof_pred_probs = (xgb_oof_pred_probs + lgbm_oof_pred_probs + histgb_oof_pred_probs + nn_oof_pred_probs) / 4\n",
    "sv_test_pred_probs = (xgb_test_pred_probs + lgbm_test_pred_probs + histgb_test_pred_probs + nn_test_pred_probs) / 4\n",
    "\n",
    "sv_oof_preds = np.argmax(sv_oof_pred_probs, axis=1)\n",
    "sv_test_preds = np.argmax(sv_test_pred_probs, axis=1)"
   ]
  },
  {
   "cell_type": "code",
   "execution_count": 18,
   "id": "641b18ac",
   "metadata": {
    "execution": {
     "iopub.execute_input": "2024-08-05T16:56:18.925724Z",
     "iopub.status.busy": "2024-08-05T16:56:18.925315Z",
     "iopub.status.idle": "2024-08-05T16:56:20.455610Z",
     "shell.execute_reply": "2024-08-05T16:56:20.454518Z"
    },
    "papermill": {
     "duration": 1.540873,
     "end_time": "2024-08-05T16:56:20.458268",
     "exception": false,
     "start_time": "2024-08-05T16:56:18.917395",
     "status": "completed"
    },
    "tags": []
   },
   "outputs": [],
   "source": [
    "sv_score = matthews_corrcoef(y, sv_oof_preds)\n",
    "scores['Soft Voting'] = sv_score"
   ]
  },
  {
   "cell_type": "code",
   "execution_count": 19,
   "id": "43c9297f",
   "metadata": {
    "execution": {
     "iopub.execute_input": "2024-08-05T16:56:20.474672Z",
     "iopub.status.busy": "2024-08-05T16:56:20.474279Z",
     "iopub.status.idle": "2024-08-05T16:56:22.420502Z",
     "shell.execute_reply": "2024-08-05T16:56:22.419583Z"
    },
    "papermill": {
     "duration": 1.956751,
     "end_time": "2024-08-05T16:56:22.422926",
     "exception": false,
     "start_time": "2024-08-05T16:56:20.466175",
     "status": "completed"
    },
    "tags": []
   },
   "outputs": [],
   "source": [
    "sub = pd.read_csv('/kaggle/input/playground-series-s4e8/sample_submission.csv')\n",
    "sub[TARGET] = sv_test_preds\n",
    "sub[TARGET] = sub[TARGET].map({0: 'e', 1: 'p'})\n",
    "sub.to_csv(f'sub_soft_voting_{sv_score:.6f}.csv', index=False)"
   ]
  },
  {
   "cell_type": "markdown",
   "id": "7aa8bc7d",
   "metadata": {
    "papermill": {
     "duration": 0.006341,
     "end_time": "2024-08-05T16:56:22.436400",
     "exception": false,
     "start_time": "2024-08-05T16:56:22.430059",
     "status": "completed"
    },
    "tags": []
   },
   "source": [
    "# Results"
   ]
  },
  {
   "cell_type": "code",
   "execution_count": 20,
   "id": "4a5d74dd",
   "metadata": {
    "execution": {
     "iopub.execute_input": "2024-08-05T16:56:22.452110Z",
     "iopub.status.busy": "2024-08-05T16:56:22.451230Z",
     "iopub.status.idle": "2024-08-05T16:56:23.106717Z",
     "shell.execute_reply": "2024-08-05T16:56:23.105621Z"
    },
    "papermill": {
     "duration": 0.666044,
     "end_time": "2024-08-05T16:56:23.109238",
     "exception": false,
     "start_time": "2024-08-05T16:56:22.443194",
     "status": "completed"
    },
    "tags": []
   },
   "outputs": [
    {
     "data": {
      "image/png": "[encoded data removed]",
      "text/plain": [
       "<Figure size 1500x500 with 2 Axes>"
      ]
     },
     "metadata": {},
     "output_type": "display_data"
    }
   ],
   "source": [
    "scores = pd.DataFrame(scores)\n",
    "mean_scores = scores.mean().sort_values(ascending=False)\n",
    "order = scores.mean().sort_values(ascending=False).index.tolist()\n",
    "\n",
    "min_score = mean_scores.min()\n",
    "max_score = mean_scores.max()\n",
    "padding = (max_score - min_score) * 0.5\n",
    "lower_limit = min_score - padding\n",
    "upper_limit = max_score + padding\n",
    "\n",
    "fig, axs = plt.subplots(1, 2, figsize=(15, 5))\n",
    "\n",
    "sns.boxplot(data=scores, order=order, ax=axs[0], orient='h', color='#651FFF')\n",
    "axs[0].set_title('Fold MCC')\n",
    "axs[0].set_xlabel('')\n",
    "axs[0].set_ylabel('')\n",
    "\n",
    "barplot = sns.barplot(x=mean_scores.values, y=mean_scores.index, ax=axs[1], color='#651FFF')\n",
    "axs[1].set_title('Average MCC')\n",
    "axs[1].set_xlabel('')\n",
    "axs[1].set_xlim(left=lower_limit, right=upper_limit)\n",
    "axs[1].set_ylabel('')\n",
    "\n",
    "for i, score in enumerate(mean_scores.values):\n",
    "    barplot.text(score, i, round(score, 6), va='center')\n",
    "\n",
    "plt.tight_layout()\n",
    "plt.show()"
   ]
  }
 ],
 "metadata": {
  "kaggle": {
   "accelerator": "none",
   "dataSources": [
    {
     "databundleVersionId": 9045607,
     "sourceId": 76727,
     "sourceType": "competition"
    },
    {
     "sourceId": 191148095,
     "sourceType": "kernelVersion"
    },
    {
     "sourceId": 191240117,
     "sourceType": "kernelVersion"
    },
    {
     "sourceId": 191240383,
     "sourceType": "kernelVersion"
    },
    {
     "sourceId": 191283116,
     "sourceType": "kernelVersion"
    }
   ],
   "dockerImageVersionId": 30746,
   "isGpuEnabled": false,
   "isInternetEnabled": true,
   "language": "python",
   "sourceType": "notebook"
  },
  "kernelspec": {
   "display_name": "Python 3",
   "language": "python",
   "name": "python3"
  },
  "language_info": {
   "codemirror_mode": {
    "name": "ipython",
    "version": 3
   },
   "file_extension": ".py",
   "mimetype": "text/x-python",
   "name": "python",
   "nbconvert_exporter": "python",
   "pygments_lexer": "ipython3",
   "version": "3.10.13"
  },
  "papermill": {
   "default_parameters": {},
   "duration": 1945.896423,
   "end_time": "2024-08-05T16:56:24.245630",
   "environment_variables": {},
   "exception": null,
   "input_path": "__notebook__.ipynb",
   "output_path": "__notebook__.ipynb",
   "parameters": {},
   "start_time": "2024-08-05T16:23:58.349207",
   "version": "2.5.0"
  }
 },
 "nbformat": 4,
 "nbformat_minor": 5
}
