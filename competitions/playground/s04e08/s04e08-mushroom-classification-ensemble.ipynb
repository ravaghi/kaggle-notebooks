{
 "cells": [
  {
   "cell_type": "markdown",
   "id": "8fa76107",
   "metadata": {
    "papermill": {
     "duration": 0.005865,
     "end_time": "2024-08-05T11:48:34.860209",
     "exception": false,
     "start_time": "2024-08-05T11:48:34.854344",
     "status": "completed"
    },
    "tags": []
   },
   "source": [
    "# Imports and Configs"
   ]
  },
  {
   "cell_type": "code",
   "execution_count": 1,
   "id": "ceb370fa",
   "metadata": {
    "_cell_guid": "b1076dfc-b9ad-4769-8c92-a6c4dae69d19",
    "_uuid": "8f2839f25d086af736a60e9eeb907d3b93b6e0e5",
    "execution": {
     "iopub.execute_input": "2024-08-05T11:48:34.873630Z",
     "iopub.status.busy": "2024-08-05T11:48:34.873172Z",
     "iopub.status.idle": "2024-08-05T11:48:38.173040Z",
     "shell.execute_reply": "2024-08-05T11:48:38.171604Z"
    },
    "papermill": {
     "duration": 3.310107,
     "end_time": "2024-08-05T11:48:38.176066",
     "exception": false,
     "start_time": "2024-08-05T11:48:34.865959",
     "status": "completed"
    },
    "tags": []
   },
   "outputs": [],
   "source": [
    "from sklearn.linear_model import LogisticRegression\n",
    "from sklearn.model_selection import StratifiedKFold\n",
    "from sklearn.metrics import matthews_corrcoef\n",
    "import matplotlib.pyplot as plt\n",
    "from sklearn.base import clone\n",
    "import seaborn as sns\n",
    "import pandas as pd\n",
    "import numpy as np\n",
    "import warnings\n",
    "import pickle\n",
    "import glob\n",
    "import gc\n",
    "\n",
    "warnings.filterwarnings('ignore')"
   ]
  },
  {
   "cell_type": "code",
   "execution_count": 2,
   "id": "5fd8ee9c",
   "metadata": {
    "execution": {
     "iopub.execute_input": "2024-08-05T11:48:38.189311Z",
     "iopub.status.busy": "2024-08-05T11:48:38.188714Z",
     "iopub.status.idle": "2024-08-05T11:48:38.194814Z",
     "shell.execute_reply": "2024-08-05T11:48:38.193546Z"
    },
    "papermill": {
     "duration": 0.01594,
     "end_time": "2024-08-05T11:48:38.197630",
     "exception": false,
     "start_time": "2024-08-05T11:48:38.181690",
     "status": "completed"
    },
    "tags": []
   },
   "outputs": [],
   "source": [
    "SEED = 6\n",
    "N_FOLDS = 5\n",
    "TARGET = 'class'"
   ]
  },
  {
   "cell_type": "markdown",
   "id": "81185fa6",
   "metadata": {
    "papermill": {
     "duration": 0.005553,
     "end_time": "2024-08-05T11:48:38.209608",
     "exception": false,
     "start_time": "2024-08-05T11:48:38.204055",
     "status": "completed"
    },
    "tags": []
   },
   "source": [
    "# Loading Data"
   ]
  },
  {
   "cell_type": "code",
   "execution_count": 3,
   "id": "b21d6764",
   "metadata": {
    "execution": {
     "iopub.execute_input": "2024-08-05T11:48:38.223525Z",
     "iopub.status.busy": "2024-08-05T11:48:38.223082Z",
     "iopub.status.idle": "2024-08-05T11:48:59.537997Z",
     "shell.execute_reply": "2024-08-05T11:48:59.536705Z"
    },
    "papermill": {
     "duration": 21.325611,
     "end_time": "2024-08-05T11:48:59.540950",
     "exception": false,
     "start_time": "2024-08-05T11:48:38.215339",
     "status": "completed"
    },
    "tags": []
   },
   "outputs": [],
   "source": [
    "train = pd.read_csv('/kaggle/input/playground-series-s4e8/train.csv', index_col='id')\n",
    "test = pd.read_csv('/kaggle/input/playground-series-s4e8/test.csv', index_col='id')\n",
    "\n",
    "X = train.drop(columns=[TARGET])\n",
    "y = train[TARGET].map({'e': 0, 'p': 1})"
   ]
  },
  {
   "cell_type": "code",
   "execution_count": 4,
   "id": "b5647e1e",
   "metadata": {
    "execution": {
     "iopub.execute_input": "2024-08-05T11:48:59.554344Z",
     "iopub.status.busy": "2024-08-05T11:48:59.553905Z",
     "iopub.status.idle": "2024-08-05T11:48:59.561518Z",
     "shell.execute_reply": "2024-08-05T11:48:59.560262Z"
    },
    "papermill": {
     "duration": 0.017993,
     "end_time": "2024-08-05T11:48:59.564788",
     "exception": false,
     "start_time": "2024-08-05T11:48:59.546795",
     "status": "completed"
    },
    "tags": []
   },
   "outputs": [],
   "source": [
    "def get_scores(oof_pred_probs):\n",
    "    scores = []\n",
    "    skf = StratifiedKFold(n_splits=5, random_state=SEED, shuffle=True)\n",
    "    for _, val_idx in skf.split(X, y):\n",
    "        y_val = y[val_idx]\n",
    "        y_pred_probs = oof_pred_probs[val_idx]          \n",
    "        score = matthews_corrcoef(y_val, np.argmax(y_pred_probs, axis=1))\n",
    "        scores.append(score)\n",
    "    return scores"
   ]
  },
  {
   "cell_type": "markdown",
   "id": "e496691a",
   "metadata": {
    "papermill": {
     "duration": 0.007568,
     "end_time": "2024-08-05T11:48:59.580431",
     "exception": false,
     "start_time": "2024-08-05T11:48:59.572863",
     "status": "completed"
    },
    "tags": []
   },
   "source": [
    "# Loading OOF Predictions"
   ]
  },
  {
   "cell_type": "code",
   "execution_count": 5,
   "id": "f0f0f411",
   "metadata": {
    "execution": {
     "iopub.execute_input": "2024-08-05T11:48:59.595061Z",
     "iopub.status.busy": "2024-08-05T11:48:59.593846Z",
     "iopub.status.idle": "2024-08-05T11:48:59.600056Z",
     "shell.execute_reply": "2024-08-05T11:48:59.598829Z"
    },
    "papermill": {
     "duration": 0.016567,
     "end_time": "2024-08-05T11:48:59.602774",
     "exception": false,
     "start_time": "2024-08-05T11:48:59.586207",
     "status": "completed"
    },
    "tags": []
   },
   "outputs": [],
   "source": [
    "test_pred_probs = {}\n",
    "oof_pred_probs = {}\n",
    "scores = {}"
   ]
  },
  {
   "cell_type": "code",
   "execution_count": 6,
   "id": "afaf7e66",
   "metadata": {
    "execution": {
     "iopub.execute_input": "2024-08-05T11:48:59.617336Z",
     "iopub.status.busy": "2024-08-05T11:48:59.616392Z",
     "iopub.status.idle": "2024-08-05T11:49:03.114931Z",
     "shell.execute_reply": "2024-08-05T11:49:03.113641Z"
    },
    "papermill": {
     "duration": 3.509187,
     "end_time": "2024-08-05T11:49:03.117969",
     "exception": false,
     "start_time": "2024-08-05T11:48:59.608782",
     "status": "completed"
    },
    "tags": []
   },
   "outputs": [],
   "source": [
    "xgb_oof_pred_probs_files = glob.glob('/kaggle/input/s04e08-mushroom-classification-xgboost/xgb_oof_pred_probs_*.pkl')\n",
    "xgb_test_pred_probs_files = glob.glob('/kaggle/input/s04e08-mushroom-classification-xgboost/xgb_test_pred_probs_*.pkl')\n",
    "\n",
    "xgb_oof_pred_probs = pickle.load(open(xgb_oof_pred_probs_files[0], 'rb'))\n",
    "xgb_test_pred_probs = pickle.load(open(xgb_test_pred_probs_files[0], 'rb'))\n",
    "\n",
    "oof_pred_probs['XGBoost'] = xgb_oof_pred_probs\n",
    "test_pred_probs['XGBoost'] = xgb_test_pred_probs\n",
    "scores['XGBoost'] = get_scores(xgb_oof_pred_probs)"
   ]
  },
  {
   "cell_type": "code",
   "execution_count": 7,
   "id": "cfe558f7",
   "metadata": {
    "execution": {
     "iopub.execute_input": "2024-08-05T11:49:03.131799Z",
     "iopub.status.busy": "2024-08-05T11:49:03.131304Z",
     "iopub.status.idle": "2024-08-05T11:49:06.338077Z",
     "shell.execute_reply": "2024-08-05T11:49:06.336910Z"
    },
    "papermill": {
     "duration": 3.216954,
     "end_time": "2024-08-05T11:49:06.340924",
     "exception": false,
     "start_time": "2024-08-05T11:49:03.123970",
     "status": "completed"
    },
    "tags": []
   },
   "outputs": [],
   "source": [
    "lgbm_oof_pred_probs_files = glob.glob('/kaggle/input/s04e08-mushroom-classification-lightgbm/lgbm_oof_pred_probs_*.pkl')\n",
    "lgbm_test_pred_probs_files = glob.glob('/kaggle/input/s04e08-mushroom-classification-lightgbm/lgbm_test_pred_probs_*.pkl')\n",
    "\n",
    "lgbm_oof_pred_probs = pickle.load(open(lgbm_oof_pred_probs_files[0], 'rb'))\n",
    "lgbm_test_pred_probs = pickle.load(open(lgbm_test_pred_probs_files[0], 'rb'))\n",
    "\n",
    "oof_pred_probs['LightGBM'] = lgbm_oof_pred_probs\n",
    "test_pred_probs['LightGBM'] = lgbm_test_pred_probs\n",
    "scores['LightGBM'] = get_scores(lgbm_oof_pred_probs)"
   ]
  },
  {
   "cell_type": "code",
   "execution_count": 8,
   "id": "15b04fd8",
   "metadata": {
    "execution": {
     "iopub.execute_input": "2024-08-05T11:49:06.354859Z",
     "iopub.status.busy": "2024-08-05T11:49:06.354434Z",
     "iopub.status.idle": "2024-08-05T11:49:09.530026Z",
     "shell.execute_reply": "2024-08-05T11:49:09.528821Z"
    },
    "papermill": {
     "duration": 3.186158,
     "end_time": "2024-08-05T11:49:09.533188",
     "exception": false,
     "start_time": "2024-08-05T11:49:06.347030",
     "status": "completed"
    },
    "tags": []
   },
   "outputs": [],
   "source": [
    "histgb_oof_pred_probs_files = glob.glob('/kaggle/input/s04e08-mushroom-classification-histgb/histgradientboosting_oof_pred_probs_*.pkl')\n",
    "histgb_test_pred_probs_files = glob.glob('/kaggle/input/s04e08-mushroom-classification-histgb/histgradientboosting_test_pred_probs_*.pkl')\n",
    "\n",
    "histgb_oof_pred_probs = pickle.load(open(histgb_oof_pred_probs_files[0], 'rb'))\n",
    "histgb_test_pred_probs = pickle.load(open(histgb_test_pred_probs_files[0], 'rb'))\n",
    "\n",
    "oof_pred_probs['HistGB'] = histgb_oof_pred_probs\n",
    "test_pred_probs['HistGB'] = histgb_test_pred_probs\n",
    "scores['HistGB'] = get_scores(histgb_oof_pred_probs)"
   ]
  },
  {
   "cell_type": "code",
   "execution_count": 9,
   "id": "77369742",
   "metadata": {
    "execution": {
     "iopub.execute_input": "2024-08-05T11:49:09.547560Z",
     "iopub.status.busy": "2024-08-05T11:49:09.546984Z",
     "iopub.status.idle": "2024-08-05T11:49:12.842426Z",
     "shell.execute_reply": "2024-08-05T11:49:12.841169Z"
    },
    "papermill": {
     "duration": 3.306229,
     "end_time": "2024-08-05T11:49:12.845627",
     "exception": false,
     "start_time": "2024-08-05T11:49:09.539398",
     "status": "completed"
    },
    "tags": []
   },
   "outputs": [],
   "source": [
    "nn_oof_pred_probs_files = glob.glob('/kaggle/input/s04e08-mushroom-classification-neural-networks/keras_oof_pred_probs_*.pkl')\n",
    "nn_test_pred_probs_files = glob.glob('/kaggle/input/s04e08-mushroom-classification-neural-networks/keras_test_pred_probs_*.pkl')\n",
    "\n",
    "nn_oof_pred_probs = pickle.load(open(nn_oof_pred_probs_files[0], 'rb'))\n",
    "nn_test_pred_probs = pickle.load(open(nn_test_pred_probs_files[0], 'rb'))\n",
    "\n",
    "oof_pred_probs['KerasANN'] = nn_oof_pred_probs\n",
    "test_pred_probs['KerasANN'] = nn_test_pred_probs\n",
    "scores['KerasANN'] = get_scores(nn_oof_pred_probs)"
   ]
  },
  {
   "cell_type": "markdown",
   "id": "b7cd34b6",
   "metadata": {
    "papermill": {
     "duration": 0.005752,
     "end_time": "2024-08-05T11:49:12.857791",
     "exception": false,
     "start_time": "2024-08-05T11:49:12.852039",
     "status": "completed"
    },
    "tags": []
   },
   "source": [
    "# Training Ensemble"
   ]
  },
  {
   "cell_type": "code",
   "execution_count": 10,
   "id": "2ba194fd",
   "metadata": {
    "execution": {
     "iopub.execute_input": "2024-08-05T11:49:12.872543Z",
     "iopub.status.busy": "2024-08-05T11:49:12.872066Z",
     "iopub.status.idle": "2024-08-05T11:49:12.889827Z",
     "shell.execute_reply": "2024-08-05T11:49:12.887957Z"
    },
    "papermill": {
     "duration": 0.028405,
     "end_time": "2024-08-05T11:49:12.892691",
     "exception": false,
     "start_time": "2024-08-05T11:49:12.864286",
     "status": "completed"
    },
    "tags": []
   },
   "outputs": [],
   "source": [
    "class Trainer:\n",
    "    def __init__(self, model, n_folds=N_FOLDS):\n",
    "        self.model = model\n",
    "        self.n_folds = n_folds\n",
    "\n",
    "    def fit_predict(self, X, y, X_test):\n",
    "        print(f'Training {self.model.__class__.__name__}\\n')\n",
    "        \n",
    "        scores = []\n",
    "        test_pred_probs = np.zeros((X_test.shape[0], len(np.unique(y))))\n",
    "        \n",
    "        skf = StratifiedKFold(n_splits=self.n_folds, random_state=SEED, shuffle=True)\n",
    "        for fold_idx, (train_idx, val_idx) in enumerate(skf.split(X, y)):\n",
    "            X_train, X_val = X.iloc[train_idx], X.iloc[val_idx]\n",
    "            y_train, y_val = y[train_idx], y[val_idx]\n",
    "            \n",
    "            model = clone(self.model)\n",
    "            model.fit(X_train, y_train)\n",
    "            \n",
    "            y_pred_probs = model.predict_proba(X_val)        \n",
    "            \n",
    "            temp_test_pred_probs = model.predict_proba(X_test)\n",
    "            test_pred_probs += temp_test_pred_probs / self.n_folds\n",
    "            \n",
    "            score = matthews_corrcoef(y_val, np.argmax(y_pred_probs, axis=1))\n",
    "            scores.append(score)\n",
    "            \n",
    "            del model, X_train, y_train, X_val, y_val, y_pred_probs\n",
    "            gc.collect()\n",
    "            \n",
    "            print(f'--- Fold {fold_idx + 1} - MCC: {score:.6f}')\n",
    "            \n",
    "        print(f'\\n------ Average MCC: {np.mean(scores):.6f} ± {np.std(scores):.6f}')\n",
    "        self._save_submission(test_pred_probs, np.mean(scores))\n",
    "        \n",
    "        return scores\n",
    "    \n",
    "    def _save_submission(self, test_pred_probs, score):\n",
    "        name = self.model.__class__.__name__.lower().replace('classifier', '')\n",
    "        sub = pd.read_csv('/kaggle/input/playground-series-s4e8/sample_submission.csv')\n",
    "        sub[TARGET] = np.argmax(test_pred_probs, axis=1)\n",
    "        sub[TARGET] = sub[TARGET].map({0: 'e', 1: 'p'})\n",
    "        sub.to_csv(f'sub_{name}_{score:.6f}.csv', index=False)"
   ]
  },
  {
   "cell_type": "code",
   "execution_count": 11,
   "id": "7801914b",
   "metadata": {
    "execution": {
     "iopub.execute_input": "2024-08-05T11:49:12.907236Z",
     "iopub.status.busy": "2024-08-05T11:49:12.906772Z",
     "iopub.status.idle": "2024-08-05T11:49:13.940204Z",
     "shell.execute_reply": "2024-08-05T11:49:13.938899Z"
    },
    "papermill": {
     "duration": 1.04414,
     "end_time": "2024-08-05T11:49:13.943120",
     "exception": false,
     "start_time": "2024-08-05T11:49:12.898980",
     "status": "completed"
    },
    "tags": []
   },
   "outputs": [],
   "source": [
    "X = np.log(pd.DataFrame(np.hstack(list(oof_pred_probs.values()))) + 1e-7)\n",
    "X_test = np.log(pd.DataFrame(np.hstack(list(test_pred_probs.values()))) + 1e-7)"
   ]
  },
  {
   "cell_type": "code",
   "execution_count": 12,
   "id": "60d289c8",
   "metadata": {
    "execution": {
     "iopub.execute_input": "2024-08-05T11:49:13.958602Z",
     "iopub.status.busy": "2024-08-05T11:49:13.958181Z",
     "iopub.status.idle": "2024-08-05T11:50:23.544221Z",
     "shell.execute_reply": "2024-08-05T11:50:23.542703Z"
    },
    "papermill": {
     "duration": 69.596979,
     "end_time": "2024-08-05T11:50:23.547110",
     "exception": false,
     "start_time": "2024-08-05T11:49:13.950131",
     "status": "completed"
    },
    "tags": []
   },
   "outputs": [
    {
     "name": "stdout",
     "output_type": "stream",
     "text": [
      "Training LogisticRegression\n",
      "\n",
      "--- Fold 1 - MCC: 0.984779\n",
      "--- Fold 2 - MCC: 0.985143\n",
      "--- Fold 3 - MCC: 0.984776\n",
      "--- Fold 4 - MCC: 0.984830\n",
      "--- Fold 5 - MCC: 0.984976\n",
      "\n",
      "------ Average MCC: 0.984901 ± 0.000141\n"
     ]
    }
   ],
   "source": [
    "trainer = Trainer(LogisticRegression())\n",
    "ensemble_scores = trainer.fit_predict(X, y, X_test)\n",
    "scores['Ensemble'] = ensemble_scores"
   ]
  },
  {
   "cell_type": "code",
   "execution_count": 13,
   "id": "ad5deef9",
   "metadata": {
    "execution": {
     "iopub.execute_input": "2024-08-05T11:50:23.564715Z",
     "iopub.status.busy": "2024-08-05T11:50:23.563366Z",
     "iopub.status.idle": "2024-08-05T11:50:24.172265Z",
     "shell.execute_reply": "2024-08-05T11:50:24.170720Z"
    },
    "papermill": {
     "duration": 0.620966,
     "end_time": "2024-08-05T11:50:24.175017",
     "exception": false,
     "start_time": "2024-08-05T11:50:23.554051",
     "status": "completed"
    },
    "tags": []
   },
   "outputs": [
    {
     "data": {
      "image/png": "[encoded data removed]",
      "text/plain": [
       "<Figure size 1500x500 with 2 Axes>"
      ]
     },
     "metadata": {},
     "output_type": "display_data"
    }
   ],
   "source": [
    "scores = pd.DataFrame(scores)\n",
    "mean_scores = scores.mean().sort_values(ascending=False)\n",
    "order = scores.mean().sort_values(ascending=False).index.tolist()\n",
    "\n",
    "min_score = mean_scores.min()\n",
    "max_score = mean_scores.max()\n",
    "padding = (max_score - min_score) * 0.5\n",
    "lower_limit = min_score - padding\n",
    "upper_limit = max_score + padding\n",
    "\n",
    "fig, axs = plt.subplots(1, 2, figsize=(15, 5))\n",
    "\n",
    "sns.boxplot(data=scores, order=order, ax=axs[0], orient='h', color='#651FFF')\n",
    "axs[0].set_title('Fold MCC')\n",
    "axs[0].set_xlabel('')\n",
    "axs[0].set_ylabel('')\n",
    "\n",
    "barplot = sns.barplot(x=mean_scores.values, y=mean_scores.index, ax=axs[1], color='#651FFF')\n",
    "axs[1].set_title('Average MCC')\n",
    "axs[1].set_xlabel('')\n",
    "axs[1].set_xlim(left=lower_limit, right=upper_limit)\n",
    "axs[1].set_ylabel('')\n",
    "\n",
    "for i, score in enumerate(mean_scores.values):\n",
    "    barplot.text(score, i, round(score, 6), va='center')\n",
    "\n",
    "plt.tight_layout()\n",
    "plt.show()"
   ]
  }
 ],
 "metadata": {
  "kaggle": {
   "accelerator": "none",
   "dataSources": [
    {
     "databundleVersionId": 9045607,
     "sourceId": 76727,
     "sourceType": "competition"
    },
    {
     "sourceId": 191148095,
     "sourceType": "kernelVersion"
    },
    {
     "sourceId": 191240117,
     "sourceType": "kernelVersion"
    },
    {
     "sourceId": 191240383,
     "sourceType": "kernelVersion"
    },
    {
     "sourceId": 191257856,
     "sourceType": "kernelVersion"
    }
   ],
   "dockerImageVersionId": 30746,
   "isGpuEnabled": false,
   "isInternetEnabled": true,
   "language": "python",
   "sourceType": "notebook"
  },
  "kernelspec": {
   "display_name": "Python 3",
   "language": "python",
   "name": "python3"
  },
  "language_info": {
   "codemirror_mode": {
    "name": "ipython",
    "version": 3
   },
   "file_extension": ".py",
   "mimetype": "text/x-python",
   "name": "python",
   "nbconvert_exporter": "python",
   "pygments_lexer": "ipython3",
   "version": "3.10.13"
  },
  "papermill": {
   "default_parameters": {},
   "duration": 113.685321,
   "end_time": "2024-08-05T11:50:25.206277",
   "environment_variables": {},
   "exception": null,
   "input_path": "__notebook__.ipynb",
   "output_path": "__notebook__.ipynb",
   "parameters": {},
   "start_time": "2024-08-05T11:48:31.520956",
   "version": "2.5.0"
  }
 },
 "nbformat": 4,
 "nbformat_minor": 5
}
