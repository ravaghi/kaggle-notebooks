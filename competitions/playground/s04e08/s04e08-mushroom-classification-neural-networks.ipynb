{
 "cells": [
  {
   "cell_type": "markdown",
   "id": "901ae2eb",
   "metadata": {
    "papermill": {
     "duration": 0.004357,
     "end_time": "2024-08-05T09:31:38.305225",
     "exception": false,
     "start_time": "2024-08-05T09:31:38.300868",
     "status": "completed"
    },
    "tags": []
   },
   "source": [
    "# Imports and Configs"
   ]
  },
  {
   "cell_type": "code",
   "execution_count": 1,
   "id": "df8b3643",
   "metadata": {
    "_kg_hide-output": true,
    "execution": {
     "iopub.execute_input": "2024-08-05T09:31:38.314165Z",
     "iopub.status.busy": "2024-08-05T09:31:38.313827Z",
     "iopub.status.idle": "2024-08-05T09:31:56.950106Z",
     "shell.execute_reply": "2024-08-05T09:31:56.948696Z"
    },
    "papermill": {
     "duration": 18.643414,
     "end_time": "2024-08-05T09:31:56.952704",
     "exception": false,
     "start_time": "2024-08-05T09:31:38.309290",
     "status": "completed"
    },
    "tags": []
   },
   "outputs": [
    {
     "name": "stdout",
     "output_type": "stream",
     "text": [
      "\u001b[31mERROR: pip's dependency resolver does not currently take into account all the packages that are installed. This behaviour is the source of the following dependency conflicts.\r\n",
      "spaghetti 1.7.6 requires shapely>=2.0.1, but you have shapely 1.8.5.post1 which is incompatible.\r\n",
      "spopt 0.6.1 requires shapely>=2.0.1, but you have shapely 1.8.5.post1 which is incompatible.\u001b[0m\u001b[31m\r\n",
      "\u001b[0m"
     ]
    }
   ],
   "source": [
    "!pip install -q scikit-learn==1.4\n",
    "!pip install -q --no-deps scikeras"
   ]
  },
  {
   "cell_type": "code",
   "execution_count": 2,
   "id": "6a0e76b5",
   "metadata": {
    "_cell_guid": "b1076dfc-b9ad-4769-8c92-a6c4dae69d19",
    "_kg_hide-output": true,
    "_uuid": "8f2839f25d086af736a60e9eeb907d3b93b6e0e5",
    "execution": {
     "iopub.execute_input": "2024-08-05T09:31:56.963247Z",
     "iopub.status.busy": "2024-08-05T09:31:56.962349Z",
     "iopub.status.idle": "2024-08-05T09:32:10.175510Z",
     "shell.execute_reply": "2024-08-05T09:32:10.174681Z"
    },
    "papermill": {
     "duration": 13.221111,
     "end_time": "2024-08-05T09:32:10.177886",
     "exception": false,
     "start_time": "2024-08-05T09:31:56.956775",
     "status": "completed"
    },
    "tags": []
   },
   "outputs": [
    {
     "name": "stderr",
     "output_type": "stream",
     "text": [
      "2024-08-05 09:31:58.913099: E external/local_xla/xla/stream_executor/cuda/cuda_dnn.cc:9261] Unable to register cuDNN factory: Attempting to register factory for plugin cuDNN when one has already been registered\n",
      "2024-08-05 09:31:58.913196: E external/local_xla/xla/stream_executor/cuda/cuda_fft.cc:607] Unable to register cuFFT factory: Attempting to register factory for plugin cuFFT when one has already been registered\n",
      "2024-08-05 09:31:59.057669: E external/local_xla/xla/stream_executor/cuda/cuda_blas.cc:1515] Unable to register cuBLAS factory: Attempting to register factory for plugin cuBLAS when one has already been registered\n"
     ]
    }
   ],
   "source": [
    "from scikeras.wrappers import KerasClassifier\n",
    "from sklearn.model_selection import StratifiedKFold\n",
    "from sklearn.preprocessing import OneHotEncoder\n",
    "from sklearn.impute import SimpleImputer\n",
    "from sklearn.preprocessing import StandardScaler\n",
    "from sklearn.compose import ColumnTransformer\n",
    "from sklearn.preprocessing import PowerTransformer\n",
    "from sklearn.pipeline import make_pipeline\n",
    "from sklearn.metrics import matthews_corrcoef\n",
    "from sklearn.base import clone\n",
    "import matplotlib.pyplot as plt\n",
    "import seaborn as sns\n",
    "import pandas as pd\n",
    "import numpy as np\n",
    "import warnings\n",
    "import pickle\n",
    "import keras\n",
    "import gc\n",
    "\n",
    "warnings.filterwarnings('ignore')"
   ]
  },
  {
   "cell_type": "code",
   "execution_count": 3,
   "id": "c243e9bd",
   "metadata": {
    "execution": {
     "iopub.execute_input": "2024-08-05T09:32:10.187515Z",
     "iopub.status.busy": "2024-08-05T09:32:10.186987Z",
     "iopub.status.idle": "2024-08-05T09:32:10.191382Z",
     "shell.execute_reply": "2024-08-05T09:32:10.190478Z"
    },
    "papermill": {
     "duration": 0.01121,
     "end_time": "2024-08-05T09:32:10.193291",
     "exception": false,
     "start_time": "2024-08-05T09:32:10.182081",
     "status": "completed"
    },
    "tags": []
   },
   "outputs": [],
   "source": [
    "TARGET = 'class'\n",
    "N_FOLDS = 5\n",
    "SEED = 6"
   ]
  },
  {
   "cell_type": "markdown",
   "id": "f141df2b",
   "metadata": {
    "papermill": {
     "duration": 0.003792,
     "end_time": "2024-08-05T09:32:10.201031",
     "exception": false,
     "start_time": "2024-08-05T09:32:10.197239",
     "status": "completed"
    },
    "tags": []
   },
   "source": [
    "# Loading Data"
   ]
  },
  {
   "cell_type": "code",
   "execution_count": 4,
   "id": "7083c6b2",
   "metadata": {
    "execution": {
     "iopub.execute_input": "2024-08-05T09:32:10.209924Z",
     "iopub.status.busy": "2024-08-05T09:32:10.209625Z",
     "iopub.status.idle": "2024-08-05T09:32:25.629578Z",
     "shell.execute_reply": "2024-08-05T09:32:25.628544Z"
    },
    "papermill": {
     "duration": 15.427145,
     "end_time": "2024-08-05T09:32:25.632085",
     "exception": false,
     "start_time": "2024-08-05T09:32:10.204940",
     "status": "completed"
    },
    "tags": []
   },
   "outputs": [],
   "source": [
    "train = pd.read_csv('/kaggle/input/playground-series-s4e8/train.csv', index_col='id')\n",
    "test = pd.read_csv('/kaggle/input/playground-series-s4e8/test.csv', index_col='id')"
   ]
  },
  {
   "cell_type": "code",
   "execution_count": 5,
   "id": "363352c1",
   "metadata": {
    "execution": {
     "iopub.execute_input": "2024-08-05T09:32:25.641708Z",
     "iopub.status.busy": "2024-08-05T09:32:25.641376Z",
     "iopub.status.idle": "2024-08-05T09:32:25.648403Z",
     "shell.execute_reply": "2024-08-05T09:32:25.647467Z"
    },
    "papermill": {
     "duration": 0.01409,
     "end_time": "2024-08-05T09:32:25.650403",
     "exception": false,
     "start_time": "2024-08-05T09:32:25.636313",
     "status": "completed"
    },
    "tags": []
   },
   "outputs": [
    {
     "data": {
      "text/plain": [
       "((3116945, 21), (2077964, 20))"
      ]
     },
     "execution_count": 5,
     "metadata": {},
     "output_type": "execute_result"
    }
   ],
   "source": [
    "train.shape, test.shape"
   ]
  },
  {
   "cell_type": "code",
   "execution_count": 6,
   "id": "f80bea55",
   "metadata": {
    "execution": {
     "iopub.execute_input": "2024-08-05T09:32:25.660158Z",
     "iopub.status.busy": "2024-08-05T09:32:25.659472Z",
     "iopub.status.idle": "2024-08-05T09:32:41.303640Z",
     "shell.execute_reply": "2024-08-05T09:32:41.302687Z"
    },
    "papermill": {
     "duration": 15.6513,
     "end_time": "2024-08-05T09:32:41.305879",
     "exception": false,
     "start_time": "2024-08-05T09:32:25.654579",
     "status": "completed"
    },
    "tags": []
   },
   "outputs": [
    {
     "data": {
      "image/png": "[encoded data removed]",
      "text/plain": [
       "<Figure size 1400x500 with 2 Axes>"
      ]
     },
     "metadata": {},
     "output_type": "display_data"
    }
   ],
   "source": [
    "cmap = sns.light_palette('#651FFF', as_cmap=True)\n",
    "\n",
    "train_null_values = train.sample(100_000).drop(columns=TARGET).isnull().T\n",
    "test_null_values = test.sample(100_000).isnull().T\n",
    "\n",
    "fig, axes = plt.subplots(nrows=1, ncols=2, figsize=(14, 5))\n",
    "\n",
    "sns.heatmap(train_null_values, cbar=False, cmap=cmap, ax=axes[0])\n",
    "axes[0].set_title('Train')\n",
    "axes[0].set_xticks([]) \n",
    "axes[0].set_xlabel('')\n",
    "\n",
    "sns.heatmap(test_null_values, cbar=False, cmap=cmap, ax=axes[1])\n",
    "axes[1].set_title('Test')\n",
    "axes[1].set_xticks([]) \n",
    "axes[1].set_xlabel('')\n",
    "\n",
    "plt.tight_layout()\n",
    "plt.show()"
   ]
  },
  {
   "cell_type": "markdown",
   "id": "0fd27132",
   "metadata": {
    "papermill": {
     "duration": 0.00473,
     "end_time": "2024-08-05T09:32:41.315918",
     "exception": false,
     "start_time": "2024-08-05T09:32:41.311188",
     "status": "completed"
    },
    "tags": []
   },
   "source": [
    "# Feature Engineering"
   ]
  },
  {
   "cell_type": "code",
   "execution_count": 7,
   "id": "519848b8",
   "metadata": {
    "execution": {
     "iopub.execute_input": "2024-08-05T09:32:41.326791Z",
     "iopub.status.busy": "2024-08-05T09:32:41.326468Z",
     "iopub.status.idle": "2024-08-05T09:32:41.777009Z",
     "shell.execute_reply": "2024-08-05T09:32:41.776174Z"
    },
    "papermill": {
     "duration": 0.45842,
     "end_time": "2024-08-05T09:32:41.779157",
     "exception": false,
     "start_time": "2024-08-05T09:32:41.320737",
     "status": "completed"
    },
    "tags": []
   },
   "outputs": [],
   "source": [
    "cat_features = test.select_dtypes('object').columns\n",
    "cont_features = test.select_dtypes('float').columns"
   ]
  },
  {
   "cell_type": "code",
   "execution_count": 8,
   "id": "1f048372",
   "metadata": {
    "execution": {
     "iopub.execute_input": "2024-08-05T09:32:41.790719Z",
     "iopub.status.busy": "2024-08-05T09:32:41.790409Z",
     "iopub.status.idle": "2024-08-05T09:32:52.222793Z",
     "shell.execute_reply": "2024-08-05T09:32:52.221932Z"
    },
    "papermill": {
     "duration": 10.440613,
     "end_time": "2024-08-05T09:32:52.225104",
     "exception": false,
     "start_time": "2024-08-05T09:32:41.784491",
     "status": "completed"
    },
    "tags": []
   },
   "outputs": [],
   "source": [
    "for feature in cat_features:    \n",
    "    for df in [train, test]:\n",
    "        df.loc[df[feature].value_counts(dropna=False)[df[feature]].values < 100, feature] = 'rare'"
   ]
  },
  {
   "cell_type": "code",
   "execution_count": 9,
   "id": "694f0030",
   "metadata": {
    "execution": {
     "iopub.execute_input": "2024-08-05T09:32:52.236853Z",
     "iopub.status.busy": "2024-08-05T09:32:52.236517Z",
     "iopub.status.idle": "2024-08-05T09:32:52.242187Z",
     "shell.execute_reply": "2024-08-05T09:32:52.241266Z"
    },
    "papermill": {
     "duration": 0.013693,
     "end_time": "2024-08-05T09:32:52.244179",
     "exception": false,
     "start_time": "2024-08-05T09:32:52.230486",
     "status": "completed"
    },
    "tags": []
   },
   "outputs": [],
   "source": [
    "one_hot_encoder = OneHotEncoder(drop='first', sparse_output=False, dtype=np.float32, handle_unknown='infrequent_if_exist', min_frequency=50)\n",
    "step_1 = ('imputer', make_pipeline(PowerTransformer(), SimpleImputer(add_indicator=True)), cont_features)\n",
    "step_2 = ('one-hot-encoder', one_hot_encoder, cat_features)\n",
    "steps = [step_1, step_2]\n",
    "transformer = ColumnTransformer(steps, remainder='passthrough')\n",
    "\n",
    "pipeline = make_pipeline(transformer, StandardScaler())"
   ]
  },
  {
   "cell_type": "code",
   "execution_count": 10,
   "id": "41f8504a",
   "metadata": {
    "execution": {
     "iopub.execute_input": "2024-08-05T09:32:52.255458Z",
     "iopub.status.busy": "2024-08-05T09:32:52.255170Z",
     "iopub.status.idle": "2024-08-05T09:32:52.978771Z",
     "shell.execute_reply": "2024-08-05T09:32:52.977918Z"
    },
    "papermill": {
     "duration": 0.731851,
     "end_time": "2024-08-05T09:32:52.981168",
     "exception": false,
     "start_time": "2024-08-05T09:32:52.249317",
     "status": "completed"
    },
    "tags": []
   },
   "outputs": [],
   "source": [
    "X = train.drop([TARGET], axis=1)\n",
    "y = train[TARGET].map({'e': 0, 'p': 1})\n",
    "X_test = test"
   ]
  },
  {
   "cell_type": "code",
   "execution_count": 11,
   "id": "c66c9b0f",
   "metadata": {
    "execution": {
     "iopub.execute_input": "2024-08-05T09:32:52.992981Z",
     "iopub.status.busy": "2024-08-05T09:32:52.992657Z",
     "iopub.status.idle": "2024-08-05T09:34:56.338230Z",
     "shell.execute_reply": "2024-08-05T09:34:56.337107Z"
    },
    "papermill": {
     "duration": 123.354239,
     "end_time": "2024-08-05T09:34:56.340902",
     "exception": false,
     "start_time": "2024-08-05T09:32:52.986663",
     "status": "completed"
    },
    "tags": []
   },
   "outputs": [],
   "source": [
    "X = pipeline.fit_transform(X)\n",
    "X_test = pipeline.transform(X_test)"
   ]
  },
  {
   "cell_type": "markdown",
   "id": "319c0cb6",
   "metadata": {
    "papermill": {
     "duration": 0.005028,
     "end_time": "2024-08-05T09:34:56.352492",
     "exception": false,
     "start_time": "2024-08-05T09:34:56.347464",
     "status": "completed"
    },
    "tags": []
   },
   "source": [
    "# Training"
   ]
  },
  {
   "cell_type": "code",
   "execution_count": 12,
   "id": "342ee07e",
   "metadata": {
    "execution": {
     "iopub.execute_input": "2024-08-05T09:34:56.364851Z",
     "iopub.status.busy": "2024-08-05T09:34:56.364491Z",
     "iopub.status.idle": "2024-08-05T09:34:56.377671Z",
     "shell.execute_reply": "2024-08-05T09:34:56.376668Z"
    },
    "papermill": {
     "duration": 0.021918,
     "end_time": "2024-08-05T09:34:56.379687",
     "exception": false,
     "start_time": "2024-08-05T09:34:56.357769",
     "status": "completed"
    },
    "tags": []
   },
   "outputs": [],
   "source": [
    "class Trainer:\n",
    "    def __init__(self, model, n_folds=N_FOLDS):\n",
    "        self.model = model\n",
    "        self.n_folds = n_folds\n",
    "\n",
    "    def fit_predict(self, X, y, X_test):\n",
    "        print(f'Training {self.model.__class__.__name__}\\n')\n",
    "        \n",
    "        scores = []        \n",
    "        oof_pred_probs = np.zeros((X.shape[0], len(np.unique(y))))\n",
    "        test_pred_probs = np.zeros((X_test.shape[0], len(np.unique(y))))\n",
    "        \n",
    "        skf = StratifiedKFold(n_splits=self.n_folds, random_state=SEED, shuffle=True)\n",
    "        for fold_idx, (train_idx, val_idx) in enumerate(skf.split(X, y)):\n",
    "            X_train, X_val = X[train_idx], X[val_idx]\n",
    "            y_train, y_val = y[train_idx], y[val_idx]\n",
    "            \n",
    "            model = clone(self.model)\n",
    "            model.fit(X_train, y_train)\n",
    "            \n",
    "            y_pred_probs = model.predict_proba(X_val)\n",
    "            oof_pred_probs[val_idx] = y_pred_probs            \n",
    "            \n",
    "            score = matthews_corrcoef(y_val, np.argmax(y_pred_probs, axis=1))\n",
    "            scores.append(score)\n",
    "            \n",
    "            temp_test_pred_probs = model.predict_proba(X_test)\n",
    "            test_pred_probs += temp_test_pred_probs / self.n_folds\n",
    "            \n",
    "            del model, X_train, y_train, X_val, y_val, y_pred_probs, temp_test_pred_probs\n",
    "            gc.collect()\n",
    "            \n",
    "            print(f'\\n--- Fold {fold_idx + 1} - MCC: {score:.6f}\\n')            \n",
    "            \n",
    "        self._save_pred_probs(oof_pred_probs, np.mean(scores), 'oof')\n",
    "        self._save_pred_probs(test_pred_probs, np.mean(scores), 'test')\n",
    "        self._save_submission(test_pred_probs, np.mean(scores))\n",
    "        print(f'\\n\\n------ Average MCC: {np.mean(scores):.6f} ± {np.std(scores):.6f}')\n",
    "        \n",
    "    def _save_pred_probs(self, pred_probs, cv_score, name):\n",
    "        model_name = self.model.__class__.__name__.lower().replace('classifier', '')\n",
    "        with open(f'{model_name}_{name}_pred_probs_{cv_score:.6f}.pkl', 'wb') as f:\n",
    "            pickle.dump(pred_probs, f)\n",
    "    \n",
    "    def _save_submission(self, test_pred_probs, score):\n",
    "        name = self.model.__class__.__name__.lower().replace('classifier', '')\n",
    "        sub = pd.read_csv('/kaggle/input/playground-series-s4e8/sample_submission.csv')\n",
    "        sub[TARGET] = np.argmax(test_pred_probs, axis=1)\n",
    "        sub[TARGET] = sub[TARGET].map({0: 'e', 1: 'p'})\n",
    "        sub.to_csv(f'sub_{name}_{score:.6f}.csv', index=False)"
   ]
  },
  {
   "cell_type": "code",
   "execution_count": 13,
   "id": "7604947f",
   "metadata": {
    "execution": {
     "iopub.execute_input": "2024-08-05T09:34:56.392173Z",
     "iopub.status.busy": "2024-08-05T09:34:56.391576Z",
     "iopub.status.idle": "2024-08-05T09:34:56.429410Z",
     "shell.execute_reply": "2024-08-05T09:34:56.428494Z"
    },
    "papermill": {
     "duration": 0.046168,
     "end_time": "2024-08-05T09:34:56.431480",
     "exception": false,
     "start_time": "2024-08-05T09:34:56.385312",
     "status": "completed"
    },
    "tags": []
   },
   "outputs": [],
   "source": [
    "# Reference: https://www.kaggle.com/code/ambrosm/pss4e8-eda-which-makes-sense\n",
    "\n",
    "def get_model(meta):\n",
    "    model = keras.models.Sequential()\n",
    "    model.add(keras.layers.Input(meta['X_shape_'][1:]))\n",
    "    model.add(keras.layers.Dense(359, activation='selu'))\n",
    "    model.add(keras.layers.Dropout(0.2))\n",
    "    model.add(keras.layers.Dense(431, activation='selu'))\n",
    "    model.add(keras.layers.Dropout(0.1))\n",
    "    model.add(keras.layers.Dense(314, activation='selu'))\n",
    "    model.add(keras.layers.Dropout(0.1))\n",
    "    model.add(keras.layers.Dense(1, activation='sigmoid'))\n",
    "    return model\n",
    "\n",
    "model = KerasClassifier(\n",
    "    get_model,\n",
    "    loss='binary_crossentropy',\n",
    "    optimizer=keras.optimizers.Adam(learning_rate=0.01),\n",
    "    validation_split=0.05,\n",
    "    batch_size=4096,\n",
    "    validation_batch_size=65536,\n",
    "    epochs=50,\n",
    "    verbose=1,\n",
    "    callbacks=[\n",
    "        keras.callbacks.ReduceLROnPlateau(patience=3),\n",
    "        keras.callbacks.EarlyStopping(patience=5, min_delta=0.00003)\n",
    "    ]\n",
    ")"
   ]
  },
  {
   "cell_type": "code",
   "execution_count": 14,
   "id": "1b62d96e",
   "metadata": {
    "_kg_hide-output": true,
    "execution": {
     "iopub.execute_input": "2024-08-05T09:34:56.444148Z",
     "iopub.status.busy": "2024-08-05T09:34:56.443377Z",
     "iopub.status.idle": "2024-08-05T11:34:30.839459Z",
     "shell.execute_reply": "2024-08-05T11:34:30.838162Z"
    },
    "papermill": {
     "duration": 7174.404728,
     "end_time": "2024-08-05T11:34:30.841755",
     "exception": false,
     "start_time": "2024-08-05T09:34:56.437027",
     "status": "completed"
    },
    "tags": []
   },
   "outputs": [
    {
     "name": "stdout",
     "output_type": "stream",
     "text": [
      "Training KerasClassifier\n",
      "\n",
      "Epoch 1/50\n",
      "\u001b[1m579/579\u001b[0m \u001b[32m━━━━━━━━━━━━━━━━━━━━\u001b[0m\u001b[37m\u001b[0m \u001b[1m56s\u001b[0m 95ms/step - loss: 0.3706 - val_loss: 0.0444 - learning_rate: 0.0100\n",
      "Epoch 2/50\n",
      "\u001b[1m579/579\u001b[0m \u001b[32m━━━━━━━━━━━━━━━━━━━━\u001b[0m\u001b[37m\u001b[0m \u001b[1m54s\u001b[0m 93ms/step - loss: 0.0469 - val_loss: 0.0429 - learning_rate: 0.0100\n",
      "Epoch 3/50\n",
      "\u001b[1m579/579\u001b[0m \u001b[32m━━━━━━━━━━━━━━━━━━━━\u001b[0m\u001b[37m\u001b[0m \u001b[1m82s\u001b[0m 93ms/step - loss: 0.0437 - val_loss: 0.0419 - learning_rate: 0.0100\n",
      "Epoch 4/50\n",
      "\u001b[1m579/579\u001b[0m \u001b[32m━━━━━━━━━━━━━━━━━━━━\u001b[0m\u001b[37m\u001b[0m \u001b[1m55s\u001b[0m 95ms/step - loss: 0.0427 - val_loss: 0.0436 - learning_rate: 0.0100\n",
      "Epoch 5/50\n",
      "\u001b[1m579/579\u001b[0m \u001b[32m━━━━━━━━━━━━━━━━━━━━\u001b[0m\u001b[37m\u001b[0m \u001b[1m55s\u001b[0m 95ms/step - loss: 0.0441 - val_loss: 0.0428 - learning_rate: 0.0100\n",
      "Epoch 6/50\n",
      "\u001b[1m579/579\u001b[0m \u001b[32m━━━━━━━━━━━━━━━━━━━━\u001b[0m\u001b[37m\u001b[0m \u001b[1m54s\u001b[0m 94ms/step - loss: 0.0439 - val_loss: 0.0424 - learning_rate: 0.0100\n",
      "Epoch 7/50\n",
      "\u001b[1m579/579\u001b[0m \u001b[32m━━━━━━━━━━━━━━━━━━━━\u001b[0m\u001b[37m\u001b[0m \u001b[1m55s\u001b[0m 94ms/step - loss: 0.0405 - val_loss: 0.0383 - learning_rate: 1.0000e-03\n",
      "Epoch 8/50\n",
      "\u001b[1m579/579\u001b[0m \u001b[32m━━━━━━━━━━━━━━━━━━━━\u001b[0m\u001b[37m\u001b[0m \u001b[1m82s\u001b[0m 94ms/step - loss: 0.0393 - val_loss: 0.0379 - learning_rate: 1.0000e-03\n",
      "Epoch 9/50\n",
      "\u001b[1m579/579\u001b[0m \u001b[32m━━━━━━━━━━━━━━━━━━━━\u001b[0m\u001b[37m\u001b[0m \u001b[1m82s\u001b[0m 94ms/step - loss: 0.0390 - val_loss: 0.0383 - learning_rate: 1.0000e-03\n",
      "Epoch 10/50\n",
      "\u001b[1m579/579\u001b[0m \u001b[32m━━━━━━━━━━━━━━━━━━━━\u001b[0m\u001b[37m\u001b[0m \u001b[1m55s\u001b[0m 94ms/step - loss: 0.0386 - val_loss: 0.0381 - learning_rate: 1.0000e-03\n",
      "Epoch 11/50\n",
      "\u001b[1m579/579\u001b[0m \u001b[32m━━━━━━━━━━━━━━━━━━━━\u001b[0m\u001b[37m\u001b[0m \u001b[1m55s\u001b[0m 95ms/step - loss: 0.0385 - val_loss: 0.0377 - learning_rate: 1.0000e-03\n",
      "Epoch 12/50\n",
      "\u001b[1m579/579\u001b[0m \u001b[32m━━━━━━━━━━━━━━━━━━━━\u001b[0m\u001b[37m\u001b[0m \u001b[1m82s\u001b[0m 95ms/step - loss: 0.0384 - val_loss: 0.0377 - learning_rate: 1.0000e-03\n",
      "Epoch 13/50\n",
      "\u001b[1m579/579\u001b[0m \u001b[32m━━━━━━━━━━━━━━━━━━━━\u001b[0m\u001b[37m\u001b[0m \u001b[1m55s\u001b[0m 95ms/step - loss: 0.0387 - val_loss: 0.0377 - learning_rate: 1.0000e-03\n",
      "Epoch 14/50\n",
      "\u001b[1m579/579\u001b[0m \u001b[32m━━━━━━━━━━━━━━━━━━━━\u001b[0m\u001b[37m\u001b[0m \u001b[1m55s\u001b[0m 95ms/step - loss: 0.0386 - val_loss: 0.0382 - learning_rate: 1.0000e-03\n",
      "Epoch 15/50\n",
      "\u001b[1m579/579\u001b[0m \u001b[32m━━━━━━━━━━━━━━━━━━━━\u001b[0m\u001b[37m\u001b[0m \u001b[1m55s\u001b[0m 94ms/step - loss: 0.0370 - val_loss: 0.0368 - learning_rate: 1.0000e-04\n",
      "Epoch 16/50\n",
      "\u001b[1m579/579\u001b[0m \u001b[32m━━━━━━━━━━━━━━━━━━━━\u001b[0m\u001b[37m\u001b[0m \u001b[1m55s\u001b[0m 95ms/step - loss: 0.0373 - val_loss: 0.0369 - learning_rate: 1.0000e-04\n",
      "Epoch 17/50\n",
      "\u001b[1m579/579\u001b[0m \u001b[32m━━━━━━━━━━━━━━━━━━━━\u001b[0m\u001b[37m\u001b[0m \u001b[1m55s\u001b[0m 95ms/step - loss: 0.0370 - val_loss: 0.0366 - learning_rate: 1.0000e-04\n",
      "Epoch 18/50\n",
      "\u001b[1m579/579\u001b[0m \u001b[32m━━━━━━━━━━━━━━━━━━━━\u001b[0m\u001b[37m\u001b[0m \u001b[1m54s\u001b[0m 94ms/step - loss: 0.0368 - val_loss: 0.0368 - learning_rate: 1.0000e-04\n",
      "Epoch 19/50\n",
      "\u001b[1m579/579\u001b[0m \u001b[32m━━━━━━━━━━━━━━━━━━━━\u001b[0m\u001b[37m\u001b[0m \u001b[1m55s\u001b[0m 94ms/step - loss: 0.0369 - val_loss: 0.0367 - learning_rate: 1.0000e-04\n",
      "Epoch 20/50\n",
      "\u001b[1m579/579\u001b[0m \u001b[32m━━━━━━━━━━━━━━━━━━━━\u001b[0m\u001b[37m\u001b[0m \u001b[1m54s\u001b[0m 94ms/step - loss: 0.0365 - val_loss: 0.0367 - learning_rate: 1.0000e-04\n",
      "Epoch 21/50\n",
      "\u001b[1m579/579\u001b[0m \u001b[32m━━━━━━━━━━━━━━━━━━━━\u001b[0m\u001b[37m\u001b[0m \u001b[1m55s\u001b[0m 95ms/step - loss: 0.0366 - val_loss: 0.0366 - learning_rate: 1.0000e-05\n",
      "Epoch 22/50\n",
      "\u001b[1m579/579\u001b[0m \u001b[32m━━━━━━━━━━━━━━━━━━━━\u001b[0m\u001b[37m\u001b[0m \u001b[1m82s\u001b[0m 95ms/step - loss: 0.0362 - val_loss: 0.0366 - learning_rate: 1.0000e-05\n",
      "Epoch 23/50\n",
      "\u001b[1m579/579\u001b[0m \u001b[32m━━━━━━━━━━━━━━━━━━━━\u001b[0m\u001b[37m\u001b[0m \u001b[1m55s\u001b[0m 94ms/step - loss: 0.0366 - val_loss: 0.0366 - learning_rate: 1.0000e-05\n",
      "Epoch 24/50\n",
      "\u001b[1m579/579\u001b[0m \u001b[32m━━━━━━━━━━━━━━━━━━━━\u001b[0m\u001b[37m\u001b[0m \u001b[1m55s\u001b[0m 94ms/step - loss: 0.0364 - val_loss: 0.0366 - learning_rate: 1.0000e-06\n",
      "Epoch 25/50\n",
      "\u001b[1m579/579\u001b[0m \u001b[32m━━━━━━━━━━━━━━━━━━━━\u001b[0m\u001b[37m\u001b[0m \u001b[1m55s\u001b[0m 94ms/step - loss: 0.0364 - val_loss: 0.0366 - learning_rate: 1.0000e-06\n",
      "Epoch 26/50\n",
      "\u001b[1m579/579\u001b[0m \u001b[32m━━━━━━━━━━━━━━━━━━━━\u001b[0m\u001b[37m\u001b[0m \u001b[1m55s\u001b[0m 95ms/step - loss: 0.0366 - val_loss: 0.0366 - learning_rate: 1.0000e-06\n",
      "\u001b[1m153/153\u001b[0m \u001b[32m━━━━━━━━━━━━━━━━━━━━\u001b[0m\u001b[37m\u001b[0m \u001b[1m4s\u001b[0m 28ms/step\n",
      "\u001b[1m508/508\u001b[0m \u001b[32m━━━━━━━━━━━━━━━━━━━━\u001b[0m\u001b[37m\u001b[0m \u001b[1m17s\u001b[0m 33ms/step\n",
      "\n",
      "--- Fold 1 - MCC: 0.983705\n",
      "\n",
      "Epoch 1/50\n",
      "\u001b[1m579/579\u001b[0m \u001b[32m━━━━━━━━━━━━━━━━━━━━\u001b[0m\u001b[37m\u001b[0m \u001b[1m57s\u001b[0m 96ms/step - loss: 0.3823 - val_loss: 0.0451 - learning_rate: 0.0100\n",
      "Epoch 2/50\n",
      "\u001b[1m579/579\u001b[0m \u001b[32m━━━━━━━━━━━━━━━━━━━━\u001b[0m\u001b[37m\u001b[0m \u001b[1m55s\u001b[0m 95ms/step - loss: 0.0466 - val_loss: 0.0420 - learning_rate: 0.0100\n",
      "Epoch 3/50\n",
      "\u001b[1m579/579\u001b[0m \u001b[32m━━━━━━━━━━━━━━━━━━━━\u001b[0m\u001b[37m\u001b[0m \u001b[1m55s\u001b[0m 95ms/step - loss: 0.0440 - val_loss: 0.0423 - learning_rate: 0.0100\n",
      "Epoch 4/50\n",
      "\u001b[1m579/579\u001b[0m \u001b[32m━━━━━━━━━━━━━━━━━━━━\u001b[0m\u001b[37m\u001b[0m \u001b[1m55s\u001b[0m 95ms/step - loss: 0.0432 - val_loss: 0.0436 - learning_rate: 0.0100\n",
      "Epoch 5/50\n",
      "\u001b[1m579/579\u001b[0m \u001b[32m━━━━━━━━━━━━━━━━━━━━\u001b[0m\u001b[37m\u001b[0m \u001b[1m55s\u001b[0m 94ms/step - loss: 0.0432 - val_loss: 0.0431 - learning_rate: 0.0100\n",
      "Epoch 6/50\n",
      "\u001b[1m579/579\u001b[0m \u001b[32m━━━━━━━━━━━━━━━━━━━━\u001b[0m\u001b[37m\u001b[0m \u001b[1m55s\u001b[0m 95ms/step - loss: 0.0403 - val_loss: 0.0394 - learning_rate: 1.0000e-03\n",
      "Epoch 7/50\n",
      "\u001b[1m579/579\u001b[0m \u001b[32m━━━━━━━━━━━━━━━━━━━━\u001b[0m\u001b[37m\u001b[0m \u001b[1m55s\u001b[0m 95ms/step - loss: 0.0393 - val_loss: 0.0388 - learning_rate: 1.0000e-03\n",
      "Epoch 8/50\n",
      "\u001b[1m579/579\u001b[0m \u001b[32m━━━━━━━━━━━━━━━━━━━━\u001b[0m\u001b[37m\u001b[0m \u001b[1m82s\u001b[0m 95ms/step - loss: 0.0395 - val_loss: 0.0385 - learning_rate: 1.0000e-03\n",
      "Epoch 9/50\n",
      "\u001b[1m579/579\u001b[0m \u001b[32m━━━━━━━━━━━━━━━━━━━━\u001b[0m\u001b[37m\u001b[0m \u001b[1m56s\u001b[0m 97ms/step - loss: 0.0392 - val_loss: 0.0386 - learning_rate: 1.0000e-03\n",
      "Epoch 10/50\n",
      "\u001b[1m579/579\u001b[0m \u001b[32m━━━━━━━━━━━━━━━━━━━━\u001b[0m\u001b[37m\u001b[0m \u001b[1m56s\u001b[0m 96ms/step - loss: 0.0390 - val_loss: 0.0385 - learning_rate: 1.0000e-03\n",
      "Epoch 11/50\n",
      "\u001b[1m579/579\u001b[0m \u001b[32m━━━━━━━━━━━━━━━━━━━━\u001b[0m\u001b[37m\u001b[0m \u001b[1m56s\u001b[0m 96ms/step - loss: 0.0387 - val_loss: 0.0386 - learning_rate: 1.0000e-03\n",
      "Epoch 12/50\n",
      "\u001b[1m579/579\u001b[0m \u001b[32m━━━━━━━━━━━━━━━━━━━━\u001b[0m\u001b[37m\u001b[0m \u001b[1m56s\u001b[0m 96ms/step - loss: 0.0381 - val_loss: 0.0379 - learning_rate: 1.0000e-04\n",
      "Epoch 13/50\n",
      "\u001b[1m579/579\u001b[0m \u001b[32m━━━━━━━━━━━━━━━━━━━━\u001b[0m\u001b[37m\u001b[0m \u001b[1m56s\u001b[0m 96ms/step - loss: 0.0381 - val_loss: 0.0381 - learning_rate: 1.0000e-04\n",
      "Epoch 14/50\n",
      "\u001b[1m579/579\u001b[0m \u001b[32m━━━━━━━━━━━━━━━━━━━━\u001b[0m\u001b[37m\u001b[0m \u001b[1m82s\u001b[0m 97ms/step - loss: 0.0375 - val_loss: 0.0379 - learning_rate: 1.0000e-04\n",
      "Epoch 15/50\n",
      "\u001b[1m579/579\u001b[0m \u001b[32m━━━━━━━━━━━━━━━━━━━━\u001b[0m\u001b[37m\u001b[0m \u001b[1m56s\u001b[0m 97ms/step - loss: 0.0375 - val_loss: 0.0379 - learning_rate: 1.0000e-04\n",
      "Epoch 16/50\n",
      "\u001b[1m579/579\u001b[0m \u001b[32m━━━━━━━━━━━━━━━━━━━━\u001b[0m\u001b[37m\u001b[0m \u001b[1m57s\u001b[0m 98ms/step - loss: 0.0379 - val_loss: 0.0378 - learning_rate: 1.0000e-05\n",
      "Epoch 17/50\n",
      "\u001b[1m579/579\u001b[0m \u001b[32m━━━━━━━━━━━━━━━━━━━━\u001b[0m\u001b[37m\u001b[0m \u001b[1m81s\u001b[0m 97ms/step - loss: 0.0373 - val_loss: 0.0378 - learning_rate: 1.0000e-05\n",
      "Epoch 18/50\n",
      "\u001b[1m579/579\u001b[0m \u001b[32m━━━━━━━━━━━━━━━━━━━━\u001b[0m\u001b[37m\u001b[0m \u001b[1m56s\u001b[0m 97ms/step - loss: 0.0374 - val_loss: 0.0378 - learning_rate: 1.0000e-05\n",
      "Epoch 19/50\n",
      "\u001b[1m579/579\u001b[0m \u001b[32m━━━━━━━━━━━━━━━━━━━━\u001b[0m\u001b[37m\u001b[0m \u001b[1m55s\u001b[0m 95ms/step - loss: 0.0376 - val_loss: 0.0378 - learning_rate: 1.0000e-05\n",
      "Epoch 20/50\n",
      "\u001b[1m579/579\u001b[0m \u001b[32m━━━━━━━━━━━━━━━━━━━━\u001b[0m\u001b[37m\u001b[0m \u001b[1m57s\u001b[0m 98ms/step - loss: 0.0373 - val_loss: 0.0378 - learning_rate: 1.0000e-05\n",
      "Epoch 21/50\n",
      "\u001b[1m579/579\u001b[0m \u001b[32m━━━━━━━━━━━━━━━━━━━━\u001b[0m\u001b[37m\u001b[0m \u001b[1m56s\u001b[0m 97ms/step - loss: 0.0377 - val_loss: 0.0378 - learning_rate: 1.0000e-06\n",
      "Epoch 22/50\n",
      "\u001b[1m579/579\u001b[0m \u001b[32m━━━━━━━━━━━━━━━━━━━━\u001b[0m\u001b[37m\u001b[0m \u001b[1m81s\u001b[0m 96ms/step - loss: 0.0372 - val_loss: 0.0378 - learning_rate: 1.0000e-06\n",
      "\u001b[1m153/153\u001b[0m \u001b[32m━━━━━━━━━━━━━━━━━━━━\u001b[0m\u001b[37m\u001b[0m \u001b[1m5s\u001b[0m 30ms/step\n",
      "\u001b[1m508/508\u001b[0m \u001b[32m━━━━━━━━━━━━━━━━━━━━\u001b[0m\u001b[37m\u001b[0m \u001b[1m15s\u001b[0m 29ms/step\n",
      "\n",
      "--- Fold 2 - MCC: 0.983891\n",
      "\n",
      "Epoch 1/50\n",
      "\u001b[1m579/579\u001b[0m \u001b[32m━━━━━━━━━━━━━━━━━━━━\u001b[0m\u001b[37m\u001b[0m \u001b[1m59s\u001b[0m 98ms/step - loss: 0.3495 - val_loss: 0.0453 - learning_rate: 0.0100\n",
      "Epoch 2/50\n",
      "\u001b[1m579/579\u001b[0m \u001b[32m━━━━━━━━━━━━━━━━━━━━\u001b[0m\u001b[37m\u001b[0m \u001b[1m56s\u001b[0m 97ms/step - loss: 0.0463 - val_loss: 0.0434 - learning_rate: 0.0100\n",
      "Epoch 3/50\n",
      "\u001b[1m579/579\u001b[0m \u001b[32m━━━━━━━━━━━━━━━━━━━━\u001b[0m\u001b[37m\u001b[0m \u001b[1m57s\u001b[0m 98ms/step - loss: 0.0446 - val_loss: 0.0428 - learning_rate: 0.0100\n",
      "Epoch 4/50\n",
      "\u001b[1m579/579\u001b[0m \u001b[32m━━━━━━━━━━━━━━━━━━━━\u001b[0m\u001b[37m\u001b[0m \u001b[1m57s\u001b[0m 98ms/step - loss: 0.0439 - val_loss: 0.0452 - learning_rate: 0.0100\n",
      "Epoch 5/50\n",
      "\u001b[1m579/579\u001b[0m \u001b[32m━━━━━━━━━━━━━━━━━━━━\u001b[0m\u001b[37m\u001b[0m \u001b[1m82s\u001b[0m 98ms/step - loss: 0.0445 - val_loss: 0.0428 - learning_rate: 0.0100\n",
      "Epoch 6/50\n",
      "\u001b[1m579/579\u001b[0m \u001b[32m━━━━━━━━━━━━━━━━━━━━\u001b[0m\u001b[37m\u001b[0m \u001b[1m57s\u001b[0m 98ms/step - loss: 0.0447 - val_loss: 0.0496 - learning_rate: 0.0100\n",
      "Epoch 7/50\n",
      "\u001b[1m579/579\u001b[0m \u001b[32m━━━━━━━━━━━━━━━━━━━━\u001b[0m\u001b[37m\u001b[0m \u001b[1m56s\u001b[0m 96ms/step - loss: 0.0419 - val_loss: 0.0395 - learning_rate: 1.0000e-03\n",
      "Epoch 8/50\n",
      "\u001b[1m579/579\u001b[0m \u001b[32m━━━━━━━━━━━━━━━━━━━━\u001b[0m\u001b[37m\u001b[0m \u001b[1m56s\u001b[0m 97ms/step - loss: 0.0394 - val_loss: 0.0393 - learning_rate: 1.0000e-03\n",
      "Epoch 9/50\n",
      "\u001b[1m579/579\u001b[0m \u001b[32m━━━━━━━━━━━━━━━━━━━━\u001b[0m\u001b[37m\u001b[0m \u001b[1m57s\u001b[0m 99ms/step - loss: 0.0393 - val_loss: 0.0397 - learning_rate: 1.0000e-03\n",
      "Epoch 10/50\n",
      "\u001b[1m579/579\u001b[0m \u001b[32m━━━━━━━━━━━━━━━━━━━━\u001b[0m\u001b[37m\u001b[0m \u001b[1m56s\u001b[0m 97ms/step - loss: 0.0393 - val_loss: 0.0397 - learning_rate: 1.0000e-03\n",
      "Epoch 11/50\n",
      "\u001b[1m579/579\u001b[0m \u001b[32m━━━━━━━━━━━━━━━━━━━━\u001b[0m\u001b[37m\u001b[0m \u001b[1m57s\u001b[0m 98ms/step - loss: 0.0395 - val_loss: 0.0396 - learning_rate: 1.0000e-03\n",
      "Epoch 12/50\n",
      "\u001b[1m579/579\u001b[0m \u001b[32m━━━━━━━━━━━━━━━━━━━━\u001b[0m\u001b[37m\u001b[0m \u001b[1m82s\u001b[0m 98ms/step - loss: 0.0384 - val_loss: 0.0389 - learning_rate: 1.0000e-04\n",
      "Epoch 13/50\n",
      "\u001b[1m579/579\u001b[0m \u001b[32m━━━━━━━━━━━━━━━━━━━━\u001b[0m\u001b[37m\u001b[0m \u001b[1m57s\u001b[0m 98ms/step - loss: 0.0376 - val_loss: 0.0388 - learning_rate: 1.0000e-04\n",
      "Epoch 14/50\n",
      "\u001b[1m579/579\u001b[0m \u001b[32m━━━━━━━━━━━━━━━━━━━━\u001b[0m\u001b[37m\u001b[0m \u001b[1m56s\u001b[0m 97ms/step - loss: 0.0380 - val_loss: 0.0388 - learning_rate: 1.0000e-04\n",
      "Epoch 15/50\n",
      "\u001b[1m579/579\u001b[0m \u001b[32m━━━━━━━━━━━━━━━━━━━━\u001b[0m\u001b[37m\u001b[0m \u001b[1m57s\u001b[0m 97ms/step - loss: 0.0378 - val_loss: 0.0386 - learning_rate: 1.0000e-04\n",
      "Epoch 16/50\n",
      "\u001b[1m579/579\u001b[0m \u001b[32m━━━━━━━━━━━━━━━━━━━━\u001b[0m\u001b[37m\u001b[0m \u001b[1m57s\u001b[0m 98ms/step - loss: 0.0376 - val_loss: 0.0386 - learning_rate: 1.0000e-04\n",
      "Epoch 17/50\n",
      "\u001b[1m579/579\u001b[0m \u001b[32m━━━━━━━━━━━━━━━━━━━━\u001b[0m\u001b[37m\u001b[0m \u001b[1m56s\u001b[0m 97ms/step - loss: 0.0378 - val_loss: 0.0384 - learning_rate: 1.0000e-04\n",
      "Epoch 18/50\n",
      "\u001b[1m579/579\u001b[0m \u001b[32m━━━━━━━━━━━━━━━━━━━━\u001b[0m\u001b[37m\u001b[0m \u001b[1m57s\u001b[0m 98ms/step - loss: 0.0375 - val_loss: 0.0385 - learning_rate: 1.0000e-04\n",
      "Epoch 19/50\n",
      "\u001b[1m579/579\u001b[0m \u001b[32m━━━━━━━━━━━━━━━━━━━━\u001b[0m\u001b[37m\u001b[0m \u001b[1m56s\u001b[0m 97ms/step - loss: 0.0378 - val_loss: 0.0385 - learning_rate: 1.0000e-04\n",
      "Epoch 20/50\n",
      "\u001b[1m579/579\u001b[0m \u001b[32m━━━━━━━━━━━━━━━━━━━━\u001b[0m\u001b[37m\u001b[0m \u001b[1m57s\u001b[0m 98ms/step - loss: 0.0375 - val_loss: 0.0384 - learning_rate: 1.0000e-04\n",
      "Epoch 21/50\n",
      "\u001b[1m579/579\u001b[0m \u001b[32m━━━━━━━━━━━━━━━━━━━━\u001b[0m\u001b[37m\u001b[0m \u001b[1m57s\u001b[0m 98ms/step - loss: 0.0371 - val_loss: 0.0384 - learning_rate: 1.0000e-05\n",
      "Epoch 22/50\n",
      "\u001b[1m579/579\u001b[0m \u001b[32m━━━━━━━━━━━━━━━━━━━━\u001b[0m\u001b[37m\u001b[0m \u001b[1m57s\u001b[0m 98ms/step - loss: 0.0372 - val_loss: 0.0384 - learning_rate: 1.0000e-05\n",
      "\u001b[1m153/153\u001b[0m \u001b[32m━━━━━━━━━━━━━━━━━━━━\u001b[0m\u001b[37m\u001b[0m \u001b[1m4s\u001b[0m 28ms/step\n",
      "\u001b[1m508/508\u001b[0m \u001b[32m━━━━━━━━━━━━━━━━━━━━\u001b[0m\u001b[37m\u001b[0m \u001b[1m14s\u001b[0m 27ms/step\n",
      "\n",
      "--- Fold 3 - MCC: 0.983488\n",
      "\n",
      "Epoch 1/50\n",
      "\u001b[1m579/579\u001b[0m \u001b[32m━━━━━━━━━━━━━━━━━━━━\u001b[0m\u001b[37m\u001b[0m \u001b[1m58s\u001b[0m 97ms/step - loss: 0.3226 - val_loss: 0.0440 - learning_rate: 0.0100\n",
      "Epoch 2/50\n",
      "\u001b[1m579/579\u001b[0m \u001b[32m━━━━━━━━━━━━━━━━━━━━\u001b[0m\u001b[37m\u001b[0m \u001b[1m57s\u001b[0m 98ms/step - loss: 0.0460 - val_loss: 0.0427 - learning_rate: 0.0100\n",
      "Epoch 3/50\n",
      "\u001b[1m579/579\u001b[0m \u001b[32m━━━━━━━━━━━━━━━━━━━━\u001b[0m\u001b[37m\u001b[0m \u001b[1m56s\u001b[0m 96ms/step - loss: 0.0437 - val_loss: 0.0423 - learning_rate: 0.0100\n",
      "Epoch 4/50\n",
      "\u001b[1m579/579\u001b[0m \u001b[32m━━━━━━━━━━━━━━━━━━━━\u001b[0m\u001b[37m\u001b[0m \u001b[1m57s\u001b[0m 98ms/step - loss: 0.0433 - val_loss: 0.0436 - learning_rate: 0.0100\n",
      "Epoch 5/50\n",
      "\u001b[1m579/579\u001b[0m \u001b[32m━━━━━━━━━━━━━━━━━━━━\u001b[0m\u001b[37m\u001b[0m \u001b[1m56s\u001b[0m 97ms/step - loss: 0.0436 - val_loss: 0.0428 - learning_rate: 0.0100\n",
      "Epoch 6/50\n",
      "\u001b[1m579/579\u001b[0m \u001b[32m━━━━━━━━━━━━━━━━━━━━\u001b[0m\u001b[37m\u001b[0m \u001b[1m56s\u001b[0m 97ms/step - loss: 0.0448 - val_loss: 0.0439 - learning_rate: 0.0100\n",
      "Epoch 7/50\n",
      "\u001b[1m579/579\u001b[0m \u001b[32m━━━━━━━━━━━━━━━━━━━━\u001b[0m\u001b[37m\u001b[0m \u001b[1m57s\u001b[0m 98ms/step - loss: 0.0406 - val_loss: 0.0411 - learning_rate: 1.0000e-03\n",
      "Epoch 8/50\n",
      "\u001b[1m579/579\u001b[0m \u001b[32m━━━━━━━━━━━━━━━━━━━━\u001b[0m\u001b[37m\u001b[0m \u001b[1m56s\u001b[0m 96ms/step - loss: 0.0393 - val_loss: 0.0405 - learning_rate: 1.0000e-03\n",
      "Epoch 9/50\n",
      "\u001b[1m579/579\u001b[0m \u001b[32m━━━━━━━━━━━━━━━━━━━━\u001b[0m\u001b[37m\u001b[0m \u001b[1m57s\u001b[0m 98ms/step - loss: 0.0395 - val_loss: 0.0405 - learning_rate: 1.0000e-03\n",
      "Epoch 10/50\n",
      "\u001b[1m579/579\u001b[0m \u001b[32m━━━━━━━━━━━━━━━━━━━━\u001b[0m\u001b[37m\u001b[0m \u001b[1m57s\u001b[0m 98ms/step - loss: 0.0387 - val_loss: 0.0395 - learning_rate: 1.0000e-03\n",
      "Epoch 11/50\n",
      "\u001b[1m579/579\u001b[0m \u001b[32m━━━━━━━━━━━━━━━━━━━━\u001b[0m\u001b[37m\u001b[0m \u001b[1m56s\u001b[0m 96ms/step - loss: 0.0387 - val_loss: 0.0400 - learning_rate: 1.0000e-03\n",
      "Epoch 12/50\n",
      "\u001b[1m579/579\u001b[0m \u001b[32m━━━━━━━━━━━━━━━━━━━━\u001b[0m\u001b[37m\u001b[0m \u001b[1m83s\u001b[0m 98ms/step - loss: 0.0393 - val_loss: 0.0410 - learning_rate: 1.0000e-03\n",
      "Epoch 13/50\n",
      "\u001b[1m579/579\u001b[0m \u001b[32m━━━━━━━━━━━━━━━━━━━━\u001b[0m\u001b[37m\u001b[0m \u001b[1m57s\u001b[0m 98ms/step - loss: 0.0385 - val_loss: 0.0396 - learning_rate: 1.0000e-03\n",
      "Epoch 14/50\n",
      "\u001b[1m579/579\u001b[0m \u001b[32m━━━━━━━━━━━━━━━━━━━━\u001b[0m\u001b[37m\u001b[0m \u001b[1m82s\u001b[0m 98ms/step - loss: 0.0379 - val_loss: 0.0393 - learning_rate: 1.0000e-04\n",
      "Epoch 15/50\n",
      "\u001b[1m579/579\u001b[0m \u001b[32m━━━━━━━━━━━━━━━━━━━━\u001b[0m\u001b[37m\u001b[0m \u001b[1m57s\u001b[0m 98ms/step - loss: 0.0373 - val_loss: 0.0395 - learning_rate: 1.0000e-04\n",
      "Epoch 16/50\n",
      "\u001b[1m579/579\u001b[0m \u001b[32m━━━━━━━━━━━━━━━━━━━━\u001b[0m\u001b[37m\u001b[0m \u001b[1m56s\u001b[0m 97ms/step - loss: 0.0375 - val_loss: 0.0393 - learning_rate: 1.0000e-04\n",
      "Epoch 17/50\n",
      "\u001b[1m579/579\u001b[0m \u001b[32m━━━━━━━━━━━━━━━━━━━━\u001b[0m\u001b[37m\u001b[0m \u001b[1m57s\u001b[0m 99ms/step - loss: 0.0368 - val_loss: 0.0393 - learning_rate: 1.0000e-04\n",
      "Epoch 18/50\n",
      "\u001b[1m579/579\u001b[0m \u001b[32m━━━━━━━━━━━━━━━━━━━━\u001b[0m\u001b[37m\u001b[0m \u001b[1m56s\u001b[0m 97ms/step - loss: 0.0368 - val_loss: 0.0392 - learning_rate: 1.0000e-05\n",
      "Epoch 19/50\n",
      "\u001b[1m579/579\u001b[0m \u001b[32m━━━━━━━━━━━━━━━━━━━━\u001b[0m\u001b[37m\u001b[0m \u001b[1m57s\u001b[0m 99ms/step - loss: 0.0371 - val_loss: 0.0392 - learning_rate: 1.0000e-05\n",
      "Epoch 20/50\n",
      "\u001b[1m579/579\u001b[0m \u001b[32m━━━━━━━━━━━━━━━━━━━━\u001b[0m\u001b[37m\u001b[0m \u001b[1m56s\u001b[0m 96ms/step - loss: 0.0371 - val_loss: 0.0392 - learning_rate: 1.0000e-05\n",
      "Epoch 21/50\n",
      "\u001b[1m579/579\u001b[0m \u001b[32m━━━━━━━━━━━━━━━━━━━━\u001b[0m\u001b[37m\u001b[0m \u001b[1m57s\u001b[0m 98ms/step - loss: 0.0372 - val_loss: 0.0392 - learning_rate: 1.0000e-06\n",
      "Epoch 22/50\n",
      "\u001b[1m579/579\u001b[0m \u001b[32m━━━━━━━━━━━━━━━━━━━━\u001b[0m\u001b[37m\u001b[0m \u001b[1m58s\u001b[0m 99ms/step - loss: 0.0365 - val_loss: 0.0392 - learning_rate: 1.0000e-06\n",
      "Epoch 23/50\n",
      "\u001b[1m579/579\u001b[0m \u001b[32m━━━━━━━━━━━━━━━━━━━━\u001b[0m\u001b[37m\u001b[0m \u001b[1m56s\u001b[0m 97ms/step - loss: 0.0370 - val_loss: 0.0392 - learning_rate: 1.0000e-06\n",
      "\u001b[1m153/153\u001b[0m \u001b[32m━━━━━━━━━━━━━━━━━━━━\u001b[0m\u001b[37m\u001b[0m \u001b[1m4s\u001b[0m 28ms/step\n",
      "\u001b[1m508/508\u001b[0m \u001b[32m━━━━━━━━━━━━━━━━━━━━\u001b[0m\u001b[37m\u001b[0m \u001b[1m16s\u001b[0m 31ms/step\n",
      "\n",
      "--- Fold 4 - MCC: 0.983449\n",
      "\n",
      "Epoch 1/50\n",
      "\u001b[1m579/579\u001b[0m \u001b[32m━━━━━━━━━━━━━━━━━━━━\u001b[0m\u001b[37m\u001b[0m \u001b[1m59s\u001b[0m 99ms/step - loss: 0.3840 - val_loss: 0.0450 - learning_rate: 0.0100\n",
      "Epoch 2/50\n",
      "\u001b[1m579/579\u001b[0m \u001b[32m━━━━━━━━━━━━━━━━━━━━\u001b[0m\u001b[37m\u001b[0m \u001b[1m56s\u001b[0m 97ms/step - loss: 0.0474 - val_loss: 0.0417 - learning_rate: 0.0100\n",
      "Epoch 3/50\n",
      "\u001b[1m579/579\u001b[0m \u001b[32m━━━━━━━━━━━━━━━━━━━━\u001b[0m\u001b[37m\u001b[0m \u001b[1m58s\u001b[0m 100ms/step - loss: 0.0440 - val_loss: 0.0415 - learning_rate: 0.0100\n",
      "Epoch 4/50\n",
      "\u001b[1m579/579\u001b[0m \u001b[32m━━━━━━━━━━━━━━━━━━━━\u001b[0m\u001b[37m\u001b[0m \u001b[1m57s\u001b[0m 98ms/step - loss: 0.0429 - val_loss: 0.0410 - learning_rate: 0.0100\n",
      "Epoch 5/50\n",
      "\u001b[1m579/579\u001b[0m \u001b[32m━━━━━━━━━━━━━━━━━━━━\u001b[0m\u001b[37m\u001b[0m \u001b[1m58s\u001b[0m 100ms/step - loss: 0.0434 - val_loss: 0.0415 - learning_rate: 0.0100\n",
      "Epoch 6/50\n",
      "\u001b[1m579/579\u001b[0m \u001b[32m━━━━━━━━━━━━━━━━━━━━\u001b[0m\u001b[37m\u001b[0m \u001b[1m57s\u001b[0m 99ms/step - loss: 0.0442 - val_loss: 0.0419 - learning_rate: 0.0100\n",
      "Epoch 7/50\n",
      "\u001b[1m579/579\u001b[0m \u001b[32m━━━━━━━━━━━━━━━━━━━━\u001b[0m\u001b[37m\u001b[0m \u001b[1m83s\u001b[0m 101ms/step - loss: 0.0449 - val_loss: 0.0431 - learning_rate: 0.0100\n",
      "Epoch 8/50\n",
      "\u001b[1m579/579\u001b[0m \u001b[32m━━━━━━━━━━━━━━━━━━━━\u001b[0m\u001b[37m\u001b[0m \u001b[1m82s\u001b[0m 100ms/step - loss: 0.0410 - val_loss: 0.0385 - learning_rate: 1.0000e-03\n",
      "Epoch 9/50\n",
      "\u001b[1m579/579\u001b[0m \u001b[32m━━━━━━━━━━━━━━━━━━━━\u001b[0m\u001b[37m\u001b[0m \u001b[1m58s\u001b[0m 100ms/step - loss: 0.0395 - val_loss: 0.0378 - learning_rate: 1.0000e-03\n",
      "Epoch 10/50\n",
      "\u001b[1m579/579\u001b[0m \u001b[32m━━━━━━━━━━━━━━━━━━━━\u001b[0m\u001b[37m\u001b[0m \u001b[1m57s\u001b[0m 99ms/step - loss: 0.0390 - val_loss: 0.0383 - learning_rate: 1.0000e-03\n",
      "Epoch 11/50\n",
      "\u001b[1m579/579\u001b[0m \u001b[32m━━━━━━━━━━━━━━━━━━━━\u001b[0m\u001b[37m\u001b[0m \u001b[1m58s\u001b[0m 101ms/step - loss: 0.0387 - val_loss: 0.0378 - learning_rate: 1.0000e-03\n",
      "Epoch 12/50\n",
      "\u001b[1m579/579\u001b[0m \u001b[32m━━━━━━━━━━━━━━━━━━━━\u001b[0m\u001b[37m\u001b[0m \u001b[1m57s\u001b[0m 98ms/step - loss: 0.0388 - val_loss: 0.0384 - learning_rate: 1.0000e-03\n",
      "Epoch 13/50\n",
      "\u001b[1m579/579\u001b[0m \u001b[32m━━━━━━━━━━━━━━━━━━━━\u001b[0m\u001b[37m\u001b[0m \u001b[1m59s\u001b[0m 101ms/step - loss: 0.0378 - val_loss: 0.0374 - learning_rate: 1.0000e-04\n",
      "Epoch 14/50\n",
      "\u001b[1m579/579\u001b[0m \u001b[32m━━━━━━━━━━━━━━━━━━━━\u001b[0m\u001b[37m\u001b[0m \u001b[1m57s\u001b[0m 98ms/step - loss: 0.0373 - val_loss: 0.0373 - learning_rate: 1.0000e-04\n",
      "Epoch 15/50\n",
      "\u001b[1m579/579\u001b[0m \u001b[32m━━━━━━━━━━━━━━━━━━━━\u001b[0m\u001b[37m\u001b[0m \u001b[1m59s\u001b[0m 101ms/step - loss: 0.0376 - val_loss: 0.0374 - learning_rate: 1.0000e-04\n",
      "Epoch 16/50\n",
      "\u001b[1m579/579\u001b[0m \u001b[32m━━━━━━━━━━━━━━━━━━━━\u001b[0m\u001b[37m\u001b[0m \u001b[1m57s\u001b[0m 98ms/step - loss: 0.0381 - val_loss: 0.0372 - learning_rate: 1.0000e-04\n",
      "Epoch 17/50\n",
      "\u001b[1m579/579\u001b[0m \u001b[32m━━━━━━━━━━━━━━━━━━━━\u001b[0m\u001b[37m\u001b[0m \u001b[1m58s\u001b[0m 100ms/step - loss: 0.0376 - val_loss: 0.0373 - learning_rate: 1.0000e-04\n",
      "Epoch 18/50\n",
      "\u001b[1m579/579\u001b[0m \u001b[32m━━━━━━━━━━━━━━━━━━━━\u001b[0m\u001b[37m\u001b[0m \u001b[1m59s\u001b[0m 101ms/step - loss: 0.0373 - val_loss: 0.0372 - learning_rate: 1.0000e-04\n",
      "Epoch 19/50\n",
      "\u001b[1m579/579\u001b[0m \u001b[32m━━━━━━━━━━━━━━━━━━━━\u001b[0m\u001b[37m\u001b[0m \u001b[1m57s\u001b[0m 98ms/step - loss: 0.0377 - val_loss: 0.0374 - learning_rate: 1.0000e-04\n",
      "Epoch 20/50\n",
      "\u001b[1m579/579\u001b[0m \u001b[32m━━━━━━━━━━━━━━━━━━━━\u001b[0m\u001b[37m\u001b[0m \u001b[1m57s\u001b[0m 98ms/step - loss: 0.0373 - val_loss: 0.0372 - learning_rate: 1.0000e-05\n",
      "Epoch 21/50\n",
      "\u001b[1m579/579\u001b[0m \u001b[32m━━━━━━━━━━━━━━━━━━━━\u001b[0m\u001b[37m\u001b[0m \u001b[1m56s\u001b[0m 97ms/step - loss: 0.0370 - val_loss: 0.0372 - learning_rate: 1.0000e-05\n",
      "Epoch 22/50\n",
      "\u001b[1m579/579\u001b[0m \u001b[32m━━━━━━━━━━━━━━━━━━━━\u001b[0m\u001b[37m\u001b[0m \u001b[1m56s\u001b[0m 96ms/step - loss: 0.0374 - val_loss: 0.0372 - learning_rate: 1.0000e-05\n",
      "Epoch 23/50\n",
      "\u001b[1m579/579\u001b[0m \u001b[32m━━━━━━━━━━━━━━━━━━━━\u001b[0m\u001b[37m\u001b[0m \u001b[1m56s\u001b[0m 97ms/step - loss: 0.0372 - val_loss: 0.0372 - learning_rate: 1.0000e-06\n",
      "Epoch 24/50\n",
      "\u001b[1m579/579\u001b[0m \u001b[32m━━━━━━━━━━━━━━━━━━━━\u001b[0m\u001b[37m\u001b[0m \u001b[1m56s\u001b[0m 97ms/step - loss: 0.0370 - val_loss: 0.0372 - learning_rate: 1.0000e-06\n",
      "Epoch 25/50\n",
      "\u001b[1m579/579\u001b[0m \u001b[32m━━━━━━━━━━━━━━━━━━━━\u001b[0m\u001b[37m\u001b[0m \u001b[1m57s\u001b[0m 98ms/step - loss: 0.0372 - val_loss: 0.0372 - learning_rate: 1.0000e-06\n",
      "\u001b[1m153/153\u001b[0m \u001b[32m━━━━━━━━━━━━━━━━━━━━\u001b[0m\u001b[37m\u001b[0m \u001b[1m4s\u001b[0m 28ms/step\n",
      "\u001b[1m508/508\u001b[0m \u001b[32m━━━━━━━━━━━━━━━━━━━━\u001b[0m\u001b[37m\u001b[0m \u001b[1m15s\u001b[0m 29ms/step\n",
      "\n",
      "--- Fold 5 - MCC: 0.983457\n",
      "\n",
      "\n",
      "\n",
      "------ Average MCC: 0.983598 ± 0.000174\n"
     ]
    }
   ],
   "source": [
    "trainer = Trainer(model)\n",
    "trainer.fit_predict(X, y, X_test)"
   ]
  }
 ],
 "metadata": {
  "kaggle": {
   "accelerator": "none",
   "dataSources": [
    {
     "databundleVersionId": 9045607,
     "sourceId": 76727,
     "sourceType": "competition"
    }
   ],
   "dockerImageVersionId": 30746,
   "isGpuEnabled": false,
   "isInternetEnabled": true,
   "language": "python",
   "sourceType": "notebook"
  },
  "kernelspec": {
   "display_name": "Python 3",
   "language": "python",
   "name": "python3"
  },
  "language_info": {
   "codemirror_mode": {
    "name": "ipython",
    "version": 3
   },
   "file_extension": ".py",
   "mimetype": "text/x-python",
   "name": "python",
   "nbconvert_exporter": "python",
   "pygments_lexer": "ipython3",
   "version": "3.10.13"
  },
  "papermill": {
   "default_parameters": {},
   "duration": 7382.600922,
   "end_time": "2024-08-05T11:34:38.481256",
   "environment_variables": {},
   "exception": null,
   "input_path": "__notebook__.ipynb",
   "output_path": "__notebook__.ipynb",
   "parameters": {},
   "start_time": "2024-08-05T09:31:35.880334",
   "version": "2.5.0"
  }
 },
 "nbformat": 4,
 "nbformat_minor": 5
}
