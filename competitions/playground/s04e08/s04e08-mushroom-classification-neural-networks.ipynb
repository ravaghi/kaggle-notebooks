{
 "cells": [
  {
   "cell_type": "markdown",
   "id": "c12a50c7",
   "metadata": {
    "papermill": {
     "duration": 0.006023,
     "end_time": "2024-08-05T09:17:25.186396",
     "exception": false,
     "start_time": "2024-08-05T09:17:25.180373",
     "status": "completed"
    },
    "tags": []
   },
   "source": [
    "# Imports and Configs"
   ]
  },
  {
   "cell_type": "code",
   "execution_count": 1,
   "id": "bdea73d7",
   "metadata": {
    "_kg_hide-output": true,
    "execution": {
     "iopub.execute_input": "2024-08-05T09:17:25.200104Z",
     "iopub.status.busy": "2024-08-05T09:17:25.199633Z",
     "iopub.status.idle": "2024-08-05T09:17:50.864411Z",
     "shell.execute_reply": "2024-08-05T09:17:50.862639Z"
    },
    "papermill": {
     "duration": 25.675316,
     "end_time": "2024-08-05T09:17:50.867663",
     "exception": false,
     "start_time": "2024-08-05T09:17:25.192347",
     "status": "completed"
    },
    "tags": []
   },
   "outputs": [
    {
     "name": "stdout",
     "output_type": "stream",
     "text": [
      "\u001b[31mERROR: pip's dependency resolver does not currently take into account all the packages that are installed. This behaviour is the source of the following dependency conflicts.\r\n",
      "spaghetti 1.7.6 requires shapely>=2.0.1, but you have shapely 1.8.5.post1 which is incompatible.\r\n",
      "spopt 0.6.1 requires shapely>=2.0.1, but you have shapely 1.8.5.post1 which is incompatible.\u001b[0m\u001b[31m\r\n",
      "\u001b[0m"
     ]
    }
   ],
   "source": [
    "!pip install -q scikit-learn==1.4\n",
    "!pip install -q --no-deps scikeras"
   ]
  },
  {
   "cell_type": "code",
   "execution_count": 2,
   "id": "d638d49a",
   "metadata": {
    "_cell_guid": "b1076dfc-b9ad-4769-8c92-a6c4dae69d19",
    "_kg_hide-output": true,
    "_uuid": "8f2839f25d086af736a60e9eeb907d3b93b6e0e5",
    "execution": {
     "iopub.execute_input": "2024-08-05T09:17:50.882166Z",
     "iopub.status.busy": "2024-08-05T09:17:50.881656Z",
     "iopub.status.idle": "2024-08-05T09:18:09.852753Z",
     "shell.execute_reply": "2024-08-05T09:18:09.851313Z"
    },
    "papermill": {
     "duration": 18.982569,
     "end_time": "2024-08-05T09:18:09.856125",
     "exception": false,
     "start_time": "2024-08-05T09:17:50.873556",
     "status": "completed"
    },
    "tags": []
   },
   "outputs": [
    {
     "name": "stderr",
     "output_type": "stream",
     "text": [
      "2024-08-05 09:17:53.496585: E external/local_xla/xla/stream_executor/cuda/cuda_dnn.cc:9261] Unable to register cuDNN factory: Attempting to register factory for plugin cuDNN when one has already been registered\n",
      "2024-08-05 09:17:53.496758: E external/local_xla/xla/stream_executor/cuda/cuda_fft.cc:607] Unable to register cuFFT factory: Attempting to register factory for plugin cuFFT when one has already been registered\n",
      "2024-08-05 09:17:53.687110: E external/local_xla/xla/stream_executor/cuda/cuda_blas.cc:1515] Unable to register cuBLAS factory: Attempting to register factory for plugin cuBLAS when one has already been registered\n"
     ]
    }
   ],
   "source": [
    "from scikeras.wrappers import KerasClassifier\n",
    "from sklearn.model_selection import StratifiedKFold\n",
    "from sklearn.preprocessing import OneHotEncoder\n",
    "from sklearn.impute import SimpleImputer\n",
    "from sklearn.preprocessing import StandardScaler\n",
    "from sklearn.compose import ColumnTransformer\n",
    "from sklearn.preprocessing import PowerTransformer\n",
    "from sklearn.pipeline import make_pipeline\n",
    "from sklearn.metrics import matthews_corrcoef\n",
    "from sklearn.base import clone\n",
    "import matplotlib.pyplot as plt\n",
    "import seaborn as sns\n",
    "import pandas as pd\n",
    "import numpy as np\n",
    "import warnings\n",
    "import pickle\n",
    "import keras\n",
    "import gc\n",
    "\n",
    "warnings.filterwarnings('ignore')"
   ]
  },
  {
   "cell_type": "code",
   "execution_count": 3,
   "id": "489ab30b",
   "metadata": {
    "execution": {
     "iopub.execute_input": "2024-08-05T09:18:09.871037Z",
     "iopub.status.busy": "2024-08-05T09:18:09.870325Z",
     "iopub.status.idle": "2024-08-05T09:18:09.877287Z",
     "shell.execute_reply": "2024-08-05T09:18:09.875751Z"
    },
    "papermill": {
     "duration": 0.017615,
     "end_time": "2024-08-05T09:18:09.880267",
     "exception": false,
     "start_time": "2024-08-05T09:18:09.862652",
     "status": "completed"
    },
    "tags": []
   },
   "outputs": [],
   "source": [
    "TARGET = 'class'\n",
    "N_FOLDS = 5\n",
    "SEED = 6"
   ]
  },
  {
   "cell_type": "markdown",
   "id": "19d67c28",
   "metadata": {
    "papermill": {
     "duration": 0.006048,
     "end_time": "2024-08-05T09:18:09.892715",
     "exception": false,
     "start_time": "2024-08-05T09:18:09.886667",
     "status": "completed"
    },
    "tags": []
   },
   "source": [
    "# Loading Data"
   ]
  },
  {
   "cell_type": "code",
   "execution_count": 4,
   "id": "d9522f8b",
   "metadata": {
    "execution": {
     "iopub.execute_input": "2024-08-05T09:18:09.906982Z",
     "iopub.status.busy": "2024-08-05T09:18:09.906543Z",
     "iopub.status.idle": "2024-08-05T09:18:31.715552Z",
     "shell.execute_reply": "2024-08-05T09:18:31.714158Z"
    },
    "papermill": {
     "duration": 21.819914,
     "end_time": "2024-08-05T09:18:31.718835",
     "exception": false,
     "start_time": "2024-08-05T09:18:09.898921",
     "status": "completed"
    },
    "tags": []
   },
   "outputs": [],
   "source": [
    "train = pd.read_csv('/kaggle/input/playground-series-s4e8/train.csv', index_col='id')\n",
    "test = pd.read_csv('/kaggle/input/playground-series-s4e8/test.csv', index_col='id')"
   ]
  },
  {
   "cell_type": "code",
   "execution_count": 5,
   "id": "1f898dd9",
   "metadata": {
    "execution": {
     "iopub.execute_input": "2024-08-05T09:18:31.733438Z",
     "iopub.status.busy": "2024-08-05T09:18:31.732974Z",
     "iopub.status.idle": "2024-08-05T09:18:31.742649Z",
     "shell.execute_reply": "2024-08-05T09:18:31.741283Z"
    },
    "papermill": {
     "duration": 0.020014,
     "end_time": "2024-08-05T09:18:31.745388",
     "exception": false,
     "start_time": "2024-08-05T09:18:31.725374",
     "status": "completed"
    },
    "tags": []
   },
   "outputs": [
    {
     "data": {
      "text/plain": [
       "((3116945, 21), (2077964, 20))"
      ]
     },
     "execution_count": 5,
     "metadata": {},
     "output_type": "execute_result"
    }
   ],
   "source": [
    "train.shape, test.shape"
   ]
  },
  {
   "cell_type": "code",
   "execution_count": 6,
   "id": "6ee33900",
   "metadata": {
    "execution": {
     "iopub.execute_input": "2024-08-05T09:18:31.761149Z",
     "iopub.status.busy": "2024-08-05T09:18:31.760535Z",
     "iopub.status.idle": "2024-08-05T09:18:48.042124Z",
     "shell.execute_reply": "2024-08-05T09:18:48.040912Z"
    },
    "papermill": {
     "duration": 16.295181,
     "end_time": "2024-08-05T09:18:48.047174",
     "exception": false,
     "start_time": "2024-08-05T09:18:31.751993",
     "status": "completed"
    },
    "tags": []
   },
   "outputs": [
    {
     "data": {
      "image/png": "[encoded data removed]",
      "text/plain": [
       "<Figure size 1400x500 with 2 Axes>"
      ]
     },
     "metadata": {},
     "output_type": "display_data"
    }
   ],
   "source": [
    "cmap = sns.light_palette('#651FFF', as_cmap=True)\n",
    "\n",
    "train_null_values = train.sample(100_000).drop(columns=TARGET).isnull().T\n",
    "test_null_values = test.sample(100_000).isnull().T\n",
    "\n",
    "fig, axes = plt.subplots(nrows=1, ncols=2, figsize=(14, 5))\n",
    "\n",
    "sns.heatmap(train_null_values, cbar=False, cmap=cmap, ax=axes[0])\n",
    "axes[0].set_title('Train')\n",
    "axes[0].set_xticks([]) \n",
    "axes[0].set_xlabel('')\n",
    "\n",
    "sns.heatmap(test_null_values, cbar=False, cmap=cmap, ax=axes[1])\n",
    "axes[1].set_title('Test')\n",
    "axes[1].set_xticks([]) \n",
    "axes[1].set_xlabel('')\n",
    "\n",
    "plt.tight_layout()\n",
    "plt.show()"
   ]
  },
  {
   "cell_type": "markdown",
   "id": "3bbae682",
   "metadata": {
    "papermill": {
     "duration": 0.008673,
     "end_time": "2024-08-05T09:18:48.066855",
     "exception": false,
     "start_time": "2024-08-05T09:18:48.058182",
     "status": "completed"
    },
    "tags": []
   },
   "source": [
    "# Feature Engineering"
   ]
  },
  {
   "cell_type": "code",
   "execution_count": 7,
   "id": "a114adfd",
   "metadata": {
    "execution": {
     "iopub.execute_input": "2024-08-05T09:18:48.084653Z",
     "iopub.status.busy": "2024-08-05T09:18:48.084179Z",
     "iopub.status.idle": "2024-08-05T09:18:48.623534Z",
     "shell.execute_reply": "2024-08-05T09:18:48.622020Z"
    },
    "papermill": {
     "duration": 0.552349,
     "end_time": "2024-08-05T09:18:48.627111",
     "exception": false,
     "start_time": "2024-08-05T09:18:48.074762",
     "status": "completed"
    },
    "tags": []
   },
   "outputs": [],
   "source": [
    "cat_features = test.select_dtypes('object').columns\n",
    "cont_features = test.select_dtypes('float').columns"
   ]
  },
  {
   "cell_type": "code",
   "execution_count": 8,
   "id": "30ee3330",
   "metadata": {
    "execution": {
     "iopub.execute_input": "2024-08-05T09:18:48.645212Z",
     "iopub.status.busy": "2024-08-05T09:18:48.644716Z",
     "iopub.status.idle": "2024-08-05T09:19:05.720818Z",
     "shell.execute_reply": "2024-08-05T09:19:05.719089Z"
    },
    "papermill": {
     "duration": 17.089015,
     "end_time": "2024-08-05T09:19:05.724112",
     "exception": false,
     "start_time": "2024-08-05T09:18:48.635097",
     "status": "completed"
    },
    "tags": []
   },
   "outputs": [],
   "source": [
    "for feature in cat_features:    \n",
    "    for df in [train, test]:\n",
    "        df.loc[df[feature].value_counts(dropna=False)[df[feature]].values < 100, feature] = 'rare'"
   ]
  },
  {
   "cell_type": "code",
   "execution_count": 9,
   "id": "59df0a79",
   "metadata": {
    "execution": {
     "iopub.execute_input": "2024-08-05T09:19:05.741849Z",
     "iopub.status.busy": "2024-08-05T09:19:05.741392Z",
     "iopub.status.idle": "2024-08-05T09:19:05.749958Z",
     "shell.execute_reply": "2024-08-05T09:19:05.748353Z"
    },
    "papermill": {
     "duration": 0.02113,
     "end_time": "2024-08-05T09:19:05.752752",
     "exception": false,
     "start_time": "2024-08-05T09:19:05.731622",
     "status": "completed"
    },
    "tags": []
   },
   "outputs": [],
   "source": [
    "one_hot_encoder = OneHotEncoder(drop='first', sparse_output=False, dtype=np.float32, handle_unknown='infrequent_if_exist', min_frequency=50)\n",
    "step_1 = ('imputer', make_pipeline(PowerTransformer(), SimpleImputer(add_indicator=True)), cont_features)\n",
    "step_2 = ('one-hot-encoder', one_hot_encoder, cat_features)\n",
    "steps = [step_1, step_2]\n",
    "transformer = ColumnTransformer(steps, remainder='passthrough')\n",
    "\n",
    "pipeline = make_pipeline(transformer, StandardScaler())"
   ]
  },
  {
   "cell_type": "code",
   "execution_count": 10,
   "id": "66130b25",
   "metadata": {
    "execution": {
     "iopub.execute_input": "2024-08-05T09:19:05.769914Z",
     "iopub.status.busy": "2024-08-05T09:19:05.769444Z",
     "iopub.status.idle": "2024-08-05T09:19:06.661066Z",
     "shell.execute_reply": "2024-08-05T09:19:06.659604Z"
    },
    "papermill": {
     "duration": 0.904316,
     "end_time": "2024-08-05T09:19:06.664502",
     "exception": false,
     "start_time": "2024-08-05T09:19:05.760186",
     "status": "completed"
    },
    "tags": []
   },
   "outputs": [],
   "source": [
    "X = train.drop([TARGET], axis=1)\n",
    "y = train[TARGET].map({'e': 0, 'p': 1})\n",
    "X_test = test"
   ]
  },
  {
   "cell_type": "code",
   "execution_count": 11,
   "id": "4ae3d0db",
   "metadata": {
    "execution": {
     "iopub.execute_input": "2024-08-05T09:19:06.683133Z",
     "iopub.status.busy": "2024-08-05T09:19:06.682733Z",
     "iopub.status.idle": "2024-08-05T09:21:50.945473Z",
     "shell.execute_reply": "2024-08-05T09:21:50.944045Z"
    },
    "papermill": {
     "duration": 164.275545,
     "end_time": "2024-08-05T09:21:50.948529",
     "exception": false,
     "start_time": "2024-08-05T09:19:06.672984",
     "status": "completed"
    },
    "tags": []
   },
   "outputs": [],
   "source": [
    "X = pipeline.fit_transform(X)\n",
    "X_test = pipeline.transform(X_test)"
   ]
  },
  {
   "cell_type": "markdown",
   "id": "eb8fe9fc",
   "metadata": {
    "papermill": {
     "duration": 0.007073,
     "end_time": "2024-08-05T09:21:50.963415",
     "exception": false,
     "start_time": "2024-08-05T09:21:50.956342",
     "status": "completed"
    },
    "tags": []
   },
   "source": [
    "# Training"
   ]
  },
  {
   "cell_type": "code",
   "execution_count": 12,
   "id": "7f05845b",
   "metadata": {
    "execution": {
     "iopub.execute_input": "2024-08-05T09:21:50.980377Z",
     "iopub.status.busy": "2024-08-05T09:21:50.979936Z",
     "iopub.status.idle": "2024-08-05T09:21:50.999737Z",
     "shell.execute_reply": "2024-08-05T09:21:50.998335Z"
    },
    "papermill": {
     "duration": 0.031968,
     "end_time": "2024-08-05T09:21:51.002814",
     "exception": false,
     "start_time": "2024-08-05T09:21:50.970846",
     "status": "completed"
    },
    "tags": []
   },
   "outputs": [],
   "source": [
    "class Trainer:\n",
    "    def __init__(self, model, n_folds=N_FOLDS):\n",
    "        self.model = model\n",
    "        self.n_folds = n_folds\n",
    "\n",
    "    def fit_predict(self, X, y, X_test):\n",
    "        print(f'Training {self.model.__class__.__name__}\\n')\n",
    "        \n",
    "        scores = []        \n",
    "        oof_pred_probs = np.zeros((X.shape[0], len(np.unique(y))))\n",
    "        test_pred_probs = np.zeros((X_test.shape[0], len(np.unique(y))))\n",
    "        \n",
    "        skf = StratifiedKFold(n_splits=self.n_folds, random_state=SEED, shuffle=True)\n",
    "        for fold_idx, (train_idx, val_idx) in enumerate(skf.split(X, y)):\n",
    "            X_train, X_val = X[train_idx], X[val_idx]\n",
    "            y_train, y_val = y[train_idx], y[val_idx]\n",
    "            \n",
    "            model = clone(self.model)\n",
    "            model.fit(X_train, y_train)\n",
    "            \n",
    "            y_pred_probs = model.predict_proba(X_val)\n",
    "            oof_pred_probs[val_idx] = y_pred_probs            \n",
    "            \n",
    "            score = matthews_corrcoef(y_val, np.argmax(y_pred_probs, axis=1))\n",
    "            scores.append(score)\n",
    "            \n",
    "            temp_test_pred_probs = model.predict_proba(X_test)\n",
    "            test_pred_probs += temp_test_pred_probs / self.n_folds\n",
    "            \n",
    "            del model, X_train, y_train, X_val, y_val, y_pred_probs, temp_test_pred_probs\n",
    "            gc.collect()\n",
    "            \n",
    "            print(f'\\n--- Fold {fold_idx + 1} - MCC: {score:.6f}\\n')            \n",
    "            \n",
    "        self._save_pred_probs(oof_pred_probs, np.mean(scores), 'oof')\n",
    "        self._save_pred_probs(test_pred_probs, np.mean(scores), 'test')\n",
    "        self._save_submission(test_pred_probs, np.mean(scores))\n",
    "        print(f'\\n\\n------ Average MCC: {np.mean(scores):.6f} ± {np.std(scores):.6f}')\n",
    "        \n",
    "    def _save_pred_probs(self, pred_probs, cv_score, name):\n",
    "        model_name = self.model.__class__.__name__.lower().replace('classifier', '')\n",
    "        with open(f'{model_name}_{name}_pred_probs_{cv_score:.6f}.pkl', 'wb') as f:\n",
    "            pickle.dump(pred_probs, f)\n",
    "    \n",
    "    def _save_submission(self, test_pred_probs, score):\n",
    "        name = self.model.__class__.__name__.lower().replace('classifier', '')\n",
    "        sub = pd.read_csv('/kaggle/input/playground-series-s4e8/sample_submission.csv')\n",
    "        sub[TARGET] = np.argmax(test_pred_probs, axis=1)\n",
    "        sub[TARGET] = sub[TARGET].map({0: 'e', 1: 'p'})\n",
    "        sub.to_csv(f'sub_{name}_{score:.6f}.csv', index=False)"
   ]
  },
  {
   "cell_type": "code",
   "execution_count": 13,
   "id": "2efa81cf",
   "metadata": {
    "execution": {
     "iopub.execute_input": "2024-08-05T09:21:51.021096Z",
     "iopub.status.busy": "2024-08-05T09:21:51.020602Z",
     "iopub.status.idle": "2024-08-05T09:21:51.075341Z",
     "shell.execute_reply": "2024-08-05T09:21:51.073923Z"
    },
    "papermill": {
     "duration": 0.067299,
     "end_time": "2024-08-05T09:21:51.078580",
     "exception": false,
     "start_time": "2024-08-05T09:21:51.011281",
     "status": "completed"
    },
    "tags": []
   },
   "outputs": [],
   "source": [
    "# Reference: https://www.kaggle.com/code/ambrosm/pss4e8-eda-which-makes-sense\n",
    "\n",
    "def get_model(meta):\n",
    "    model = keras.models.Sequential()\n",
    "    model.add(keras.layers.Input(meta['X_shape_'][1:]))\n",
    "    model.add(keras.layers.Dense(359, kernel_initializer='glorot_uniform', activation='selu'))\n",
    "    model.add(keras.layers.Dropout(0.2))\n",
    "    model.add(keras.layers.Dense(431, kernel_initializer='glorot_uniform', activation='selu'))\n",
    "    model.add(keras.layers.Dropout(0.1))\n",
    "    model.add(keras.layers.Dense(314, kernel_initializer='glorot_uniform', activation='selu'))\n",
    "    model.add(keras.layers.Dropout(0.1))\n",
    "    model.add(keras.layers.Dense(1, activation='sigmoid'))\n",
    "    return model\n",
    "\n",
    "model = KerasClassifier(\n",
    "    get_model,\n",
    "    loss='binary_crossentropy',\n",
    "    optimizer=keras.optimizers.AdamW(learning_rate=0.01),\n",
    "    validation_split=0.05,\n",
    "    batch_size=4096,\n",
    "    validation_batch_size=65536,\n",
    "    epochs=50,\n",
    "    verbose=1,\n",
    "    callbacks=[\n",
    "        keras.callbacks.ReduceLROnPlateau(patience=3),\n",
    "        keras.callbacks.EarlyStopping(patience=5, min_delta=0.00003)\n",
    "    ]\n",
    ")"
   ]
  },
  {
   "cell_type": "code",
   "execution_count": 14,
   "id": "29532930",
   "metadata": {
    "_kg_hide-output": true,
    "execution": {
     "iopub.execute_input": "2024-08-05T09:21:51.097529Z",
     "iopub.status.busy": "2024-08-05T09:21:51.097056Z",
     "iopub.status.idle": "2024-08-05T12:03:53.090802Z",
     "shell.execute_reply": "2024-08-05T12:03:53.088639Z"
    },
    "papermill": {
     "duration": 9722.007234,
     "end_time": "2024-08-05T12:03:53.094647",
     "exception": false,
     "start_time": "2024-08-05T09:21:51.087413",
     "status": "completed"
    },
    "tags": []
   },
   "outputs": [
    {
     "name": "stdout",
     "output_type": "stream",
     "text": [
      "Training KerasClassifier\n",
      "\n",
      "Epoch 1/50\n",
      "\u001b[1m579/579\u001b[0m \u001b[32m━━━━━━━━━━━━━━━━━━━━\u001b[0m\u001b[37m\u001b[0m \u001b[1m72s\u001b[0m 121ms/step - loss: 0.3874 - val_loss: 0.0436 - learning_rate: 0.0100\n",
      "Epoch 2/50\n",
      "\u001b[1m579/579\u001b[0m \u001b[32m━━━━━━━━━━━━━━━━━━━━\u001b[0m\u001b[37m\u001b[0m \u001b[1m70s\u001b[0m 121ms/step - loss: 0.0462 - val_loss: 0.0420 - learning_rate: 0.0100\n",
      "Epoch 3/50\n",
      "\u001b[1m579/579\u001b[0m \u001b[32m━━━━━━━━━━━━━━━━━━━━\u001b[0m\u001b[37m\u001b[0m \u001b[1m70s\u001b[0m 121ms/step - loss: 0.0439 - val_loss: 0.0414 - learning_rate: 0.0100\n",
      "Epoch 4/50\n",
      "\u001b[1m579/579\u001b[0m \u001b[32m━━━━━━━━━━━━━━━━━━━━\u001b[0m\u001b[37m\u001b[0m \u001b[1m70s\u001b[0m 121ms/step - loss: 0.0434 - val_loss: 0.0440 - learning_rate: 0.0100\n",
      "Epoch 5/50\n",
      "\u001b[1m579/579\u001b[0m \u001b[32m━━━━━━━━━━━━━━━━━━━━\u001b[0m\u001b[37m\u001b[0m \u001b[1m71s\u001b[0m 121ms/step - loss: 0.0435 - val_loss: 0.0437 - learning_rate: 0.0100\n",
      "Epoch 6/50\n",
      "\u001b[1m579/579\u001b[0m \u001b[32m━━━━━━━━━━━━━━━━━━━━\u001b[0m\u001b[37m\u001b[0m \u001b[1m70s\u001b[0m 121ms/step - loss: 0.0448 - val_loss: 0.0437 - learning_rate: 0.0100\n",
      "Epoch 7/50\n",
      "\u001b[1m579/579\u001b[0m \u001b[32m━━━━━━━━━━━━━━━━━━━━\u001b[0m\u001b[37m\u001b[0m \u001b[1m71s\u001b[0m 122ms/step - loss: 0.0403 - val_loss: 0.0381 - learning_rate: 1.0000e-03\n",
      "Epoch 8/50\n",
      "\u001b[1m579/579\u001b[0m \u001b[32m━━━━━━━━━━━━━━━━━━━━\u001b[0m\u001b[37m\u001b[0m \u001b[1m71s\u001b[0m 122ms/step - loss: 0.0393 - val_loss: 0.0380 - learning_rate: 1.0000e-03\n",
      "Epoch 9/50\n",
      "\u001b[1m579/579\u001b[0m \u001b[32m━━━━━━━━━━━━━━━━━━━━\u001b[0m\u001b[37m\u001b[0m \u001b[1m70s\u001b[0m 120ms/step - loss: 0.0391 - val_loss: 0.0383 - learning_rate: 1.0000e-03\n",
      "Epoch 10/50\n",
      "\u001b[1m579/579\u001b[0m \u001b[32m━━━━━━━━━━━━━━━━━━━━\u001b[0m\u001b[37m\u001b[0m \u001b[1m71s\u001b[0m 122ms/step - loss: 0.0387 - val_loss: 0.0381 - learning_rate: 1.0000e-03\n",
      "Epoch 11/50\n",
      "\u001b[1m579/579\u001b[0m \u001b[32m━━━━━━━━━━━━━━━━━━━━\u001b[0m\u001b[37m\u001b[0m \u001b[1m81s\u001b[0m 121ms/step - loss: 0.0386 - val_loss: 0.0384 - learning_rate: 1.0000e-03\n",
      "Epoch 12/50\n",
      "\u001b[1m579/579\u001b[0m \u001b[32m━━━━━━━━━━━━━━━━━━━━\u001b[0m\u001b[37m\u001b[0m \u001b[1m72s\u001b[0m 123ms/step - loss: 0.0382 - val_loss: 0.0373 - learning_rate: 1.0000e-04\n",
      "Epoch 13/50\n",
      "\u001b[1m579/579\u001b[0m \u001b[32m━━━━━━━━━━━━━━━━━━━━\u001b[0m\u001b[37m\u001b[0m \u001b[1m72s\u001b[0m 124ms/step - loss: 0.0376 - val_loss: 0.0373 - learning_rate: 1.0000e-04\n",
      "Epoch 14/50\n",
      "\u001b[1m579/579\u001b[0m \u001b[32m━━━━━━━━━━━━━━━━━━━━\u001b[0m\u001b[37m\u001b[0m \u001b[1m72s\u001b[0m 123ms/step - loss: 0.0373 - val_loss: 0.0371 - learning_rate: 1.0000e-04\n",
      "Epoch 15/50\n",
      "\u001b[1m579/579\u001b[0m \u001b[32m━━━━━━━━━━━━━━━━━━━━\u001b[0m\u001b[37m\u001b[0m \u001b[1m73s\u001b[0m 125ms/step - loss: 0.0372 - val_loss: 0.0371 - learning_rate: 1.0000e-04\n",
      "Epoch 16/50\n",
      "\u001b[1m579/579\u001b[0m \u001b[32m━━━━━━━━━━━━━━━━━━━━\u001b[0m\u001b[37m\u001b[0m \u001b[1m81s\u001b[0m 124ms/step - loss: 0.0379 - val_loss: 0.0371 - learning_rate: 1.0000e-04\n",
      "Epoch 17/50\n",
      "\u001b[1m579/579\u001b[0m \u001b[32m━━━━━━━━━━━━━━━━━━━━\u001b[0m\u001b[37m\u001b[0m \u001b[1m72s\u001b[0m 124ms/step - loss: 0.0373 - val_loss: 0.0371 - learning_rate: 1.0000e-04\n",
      "Epoch 18/50\n",
      "\u001b[1m579/579\u001b[0m \u001b[32m━━━━━━━━━━━━━━━━━━━━\u001b[0m\u001b[37m\u001b[0m \u001b[1m71s\u001b[0m 123ms/step - loss: 0.0375 - val_loss: 0.0371 - learning_rate: 1.0000e-05\n",
      "Epoch 19/50\n",
      "\u001b[1m579/579\u001b[0m \u001b[32m━━━━━━━━━━━━━━━━━━━━\u001b[0m\u001b[37m\u001b[0m \u001b[1m71s\u001b[0m 123ms/step - loss: 0.0370 - val_loss: 0.0370 - learning_rate: 1.0000e-05\n",
      "Epoch 20/50\n",
      "\u001b[1m579/579\u001b[0m \u001b[32m━━━━━━━━━━━━━━━━━━━━\u001b[0m\u001b[37m\u001b[0m \u001b[1m71s\u001b[0m 123ms/step - loss: 0.0370 - val_loss: 0.0370 - learning_rate: 1.0000e-05\n",
      "Epoch 21/50\n",
      "\u001b[1m579/579\u001b[0m \u001b[32m━━━━━━━━━━━━━━━━━━━━\u001b[0m\u001b[37m\u001b[0m \u001b[1m72s\u001b[0m 124ms/step - loss: 0.0369 - val_loss: 0.0370 - learning_rate: 1.0000e-06\n",
      "Epoch 22/50\n",
      "\u001b[1m579/579\u001b[0m \u001b[32m━━━━━━━━━━━━━━━━━━━━\u001b[0m\u001b[37m\u001b[0m \u001b[1m72s\u001b[0m 124ms/step - loss: 0.0373 - val_loss: 0.0370 - learning_rate: 1.0000e-06\n",
      "Epoch 23/50\n",
      "\u001b[1m579/579\u001b[0m \u001b[32m━━━━━━━━━━━━━━━━━━━━\u001b[0m\u001b[37m\u001b[0m \u001b[1m72s\u001b[0m 124ms/step - loss: 0.0372 - val_loss: 0.0370 - learning_rate: 1.0000e-06\n",
      "Epoch 24/50\n",
      "\u001b[1m579/579\u001b[0m \u001b[32m━━━━━━━━━━━━━━━━━━━━\u001b[0m\u001b[37m\u001b[0m \u001b[1m72s\u001b[0m 123ms/step - loss: 0.0376 - val_loss: 0.0370 - learning_rate: 1.0000e-06\n",
      "\u001b[1m153/153\u001b[0m \u001b[32m━━━━━━━━━━━━━━━━━━━━\u001b[0m\u001b[37m\u001b[0m \u001b[1m6s\u001b[0m 39ms/step\n",
      "\u001b[1m508/508\u001b[0m \u001b[32m━━━━━━━━━━━━━━━━━━━━\u001b[0m\u001b[37m\u001b[0m \u001b[1m21s\u001b[0m 41ms/step\n",
      "\n",
      "--- Fold 1 - MCC: 0.983320\n",
      "\n",
      "Epoch 1/50\n",
      "\u001b[1m579/579\u001b[0m \u001b[32m━━━━━━━━━━━━━━━━━━━━\u001b[0m\u001b[37m\u001b[0m \u001b[1m75s\u001b[0m 126ms/step - loss: 0.3754 - val_loss: 0.0455 - learning_rate: 0.0100\n",
      "Epoch 2/50\n",
      "\u001b[1m579/579\u001b[0m \u001b[32m━━━━━━━━━━━━━━━━━━━━\u001b[0m\u001b[37m\u001b[0m \u001b[1m72s\u001b[0m 124ms/step - loss: 0.0469 - val_loss: 0.0432 - learning_rate: 0.0100\n",
      "Epoch 3/50\n",
      "\u001b[1m579/579\u001b[0m \u001b[32m━━━━━━━━━━━━━━━━━━━━\u001b[0m\u001b[37m\u001b[0m \u001b[1m82s\u001b[0m 124ms/step - loss: 0.0446 - val_loss: 0.0434 - learning_rate: 0.0100\n",
      "Epoch 4/50\n",
      "\u001b[1m579/579\u001b[0m \u001b[32m━━━━━━━━━━━━━━━━━━━━\u001b[0m\u001b[37m\u001b[0m \u001b[1m73s\u001b[0m 125ms/step - loss: 0.0440 - val_loss: 0.0438 - learning_rate: 0.0100\n",
      "Epoch 5/50\n",
      "\u001b[1m579/579\u001b[0m \u001b[32m━━━━━━━━━━━━━━━━━━━━\u001b[0m\u001b[37m\u001b[0m \u001b[1m82s\u001b[0m 125ms/step - loss: 0.0437 - val_loss: 0.0422 - learning_rate: 0.0100\n",
      "Epoch 6/50\n",
      "\u001b[1m579/579\u001b[0m \u001b[32m━━━━━━━━━━━━━━━━━━━━\u001b[0m\u001b[37m\u001b[0m \u001b[1m81s\u001b[0m 123ms/step - loss: 0.0446 - val_loss: 0.0447 - learning_rate: 0.0100\n",
      "Epoch 7/50\n",
      "\u001b[1m579/579\u001b[0m \u001b[32m━━━━━━━━━━━━━━━━━━━━\u001b[0m\u001b[37m\u001b[0m \u001b[1m73s\u001b[0m 125ms/step - loss: 0.0456 - val_loss: 0.0475 - learning_rate: 0.0100\n",
      "Epoch 8/50\n",
      "\u001b[1m579/579\u001b[0m \u001b[32m━━━━━━━━━━━━━━━━━━━━\u001b[0m\u001b[37m\u001b[0m \u001b[1m72s\u001b[0m 125ms/step - loss: 0.0459 - val_loss: 0.0453 - learning_rate: 0.0100\n",
      "Epoch 9/50\n",
      "\u001b[1m579/579\u001b[0m \u001b[32m━━━━━━━━━━━━━━━━━━━━\u001b[0m\u001b[37m\u001b[0m \u001b[1m77s\u001b[0m 133ms/step - loss: 0.0413 - val_loss: 0.0389 - learning_rate: 1.0000e-03\n",
      "Epoch 10/50\n",
      "\u001b[1m579/579\u001b[0m \u001b[32m━━━━━━━━━━━━━━━━━━━━\u001b[0m\u001b[37m\u001b[0m \u001b[1m72s\u001b[0m 124ms/step - loss: 0.0396 - val_loss: 0.0393 - learning_rate: 1.0000e-03\n",
      "Epoch 11/50\n",
      "\u001b[1m579/579\u001b[0m \u001b[32m━━━━━━━━━━━━━━━━━━━━\u001b[0m\u001b[37m\u001b[0m \u001b[1m72s\u001b[0m 125ms/step - loss: 0.0392 - val_loss: 0.0386 - learning_rate: 1.0000e-03\n",
      "Epoch 12/50\n",
      "\u001b[1m579/579\u001b[0m \u001b[32m━━━━━━━━━━━━━━━━━━━━\u001b[0m\u001b[37m\u001b[0m \u001b[1m73s\u001b[0m 125ms/step - loss: 0.0390 - val_loss: 0.0392 - learning_rate: 1.0000e-03\n",
      "Epoch 13/50\n",
      "\u001b[1m579/579\u001b[0m \u001b[32m━━━━━━━━━━━━━━━━━━━━\u001b[0m\u001b[37m\u001b[0m \u001b[1m82s\u001b[0m 125ms/step - loss: 0.0393 - val_loss: 0.0390 - learning_rate: 1.0000e-03\n",
      "Epoch 14/50\n",
      "\u001b[1m579/579\u001b[0m \u001b[32m━━━━━━━━━━━━━━━━━━━━\u001b[0m\u001b[37m\u001b[0m \u001b[1m73s\u001b[0m 125ms/step - loss: 0.0386 - val_loss: 0.0393 - learning_rate: 1.0000e-03\n",
      "Epoch 15/50\n",
      "\u001b[1m579/579\u001b[0m \u001b[32m━━━━━━━━━━━━━━━━━━━━\u001b[0m\u001b[37m\u001b[0m \u001b[1m72s\u001b[0m 125ms/step - loss: 0.0375 - val_loss: 0.0384 - learning_rate: 1.0000e-04\n",
      "Epoch 16/50\n",
      "\u001b[1m579/579\u001b[0m \u001b[32m━━━━━━━━━━━━━━━━━━━━\u001b[0m\u001b[37m\u001b[0m \u001b[1m72s\u001b[0m 124ms/step - loss: 0.0374 - val_loss: 0.0381 - learning_rate: 1.0000e-04\n",
      "Epoch 17/50\n",
      "\u001b[1m579/579\u001b[0m \u001b[32m━━━━━━━━━━━━━━━━━━━━\u001b[0m\u001b[37m\u001b[0m \u001b[1m84s\u001b[0m 127ms/step - loss: 0.0373 - val_loss: 0.0382 - learning_rate: 1.0000e-04\n",
      "Epoch 18/50\n",
      "\u001b[1m579/579\u001b[0m \u001b[32m━━━━━━━━━━━━━━━━━━━━\u001b[0m\u001b[37m\u001b[0m \u001b[1m72s\u001b[0m 125ms/step - loss: 0.0372 - val_loss: 0.0380 - learning_rate: 1.0000e-04\n",
      "Epoch 19/50\n",
      "\u001b[1m579/579\u001b[0m \u001b[32m━━━━━━━━━━━━━━━━━━━━\u001b[0m\u001b[37m\u001b[0m \u001b[1m73s\u001b[0m 126ms/step - loss: 0.0371 - val_loss: 0.0379 - learning_rate: 1.0000e-04\n",
      "Epoch 20/50\n",
      "\u001b[1m579/579\u001b[0m \u001b[32m━━━━━━━━━━━━━━━━━━━━\u001b[0m\u001b[37m\u001b[0m \u001b[1m73s\u001b[0m 125ms/step - loss: 0.0372 - val_loss: 0.0379 - learning_rate: 1.0000e-04\n",
      "Epoch 21/50\n",
      "\u001b[1m579/579\u001b[0m \u001b[32m━━━━━━━━━━━━━━━━━━━━\u001b[0m\u001b[37m\u001b[0m \u001b[1m73s\u001b[0m 126ms/step - loss: 0.0369 - val_loss: 0.0379 - learning_rate: 1.0000e-04\n",
      "Epoch 22/50\n",
      "\u001b[1m579/579\u001b[0m \u001b[32m━━━━━━━━━━━━━━━━━━━━\u001b[0m\u001b[37m\u001b[0m \u001b[1m74s\u001b[0m 127ms/step - loss: 0.0372 - val_loss: 0.0380 - learning_rate: 1.0000e-04\n",
      "Epoch 23/50\n",
      "\u001b[1m579/579\u001b[0m \u001b[32m━━━━━━━━━━━━━━━━━━━━\u001b[0m\u001b[37m\u001b[0m \u001b[1m73s\u001b[0m 125ms/step - loss: 0.0366 - val_loss: 0.0379 - learning_rate: 1.0000e-05\n",
      "Epoch 24/50\n",
      "\u001b[1m579/579\u001b[0m \u001b[32m━━━━━━━━━━━━━━━━━━━━\u001b[0m\u001b[37m\u001b[0m \u001b[1m73s\u001b[0m 126ms/step - loss: 0.0371 - val_loss: 0.0379 - learning_rate: 1.0000e-05\n",
      "\u001b[1m153/153\u001b[0m \u001b[32m━━━━━━━━━━━━━━━━━━━━\u001b[0m\u001b[37m\u001b[0m \u001b[1m6s\u001b[0m 38ms/step\n",
      "\u001b[1m508/508\u001b[0m \u001b[32m━━━━━━━━━━━━━━━━━━━━\u001b[0m\u001b[37m\u001b[0m \u001b[1m18s\u001b[0m 35ms/step\n",
      "\n",
      "--- Fold 2 - MCC: 0.983708\n",
      "\n",
      "Epoch 1/50\n",
      "\u001b[1m579/579\u001b[0m \u001b[32m━━━━━━━━━━━━━━━━━━━━\u001b[0m\u001b[37m\u001b[0m \u001b[1m75s\u001b[0m 127ms/step - loss: 0.3984 - val_loss: 0.0476 - learning_rate: 0.0100\n",
      "Epoch 2/50\n",
      "\u001b[1m579/579\u001b[0m \u001b[32m━━━━━━━━━━━━━━━━━━━━\u001b[0m\u001b[37m\u001b[0m \u001b[1m74s\u001b[0m 127ms/step - loss: 0.0471 - val_loss: 0.0428 - learning_rate: 0.0100\n",
      "Epoch 3/50\n",
      "\u001b[1m579/579\u001b[0m \u001b[32m━━━━━━━━━━━━━━━━━━━━\u001b[0m\u001b[37m\u001b[0m \u001b[1m73s\u001b[0m 125ms/step - loss: 0.0438 - val_loss: 0.0415 - learning_rate: 0.0100\n",
      "Epoch 4/50\n",
      "\u001b[1m579/579\u001b[0m \u001b[32m━━━━━━━━━━━━━━━━━━━━\u001b[0m\u001b[37m\u001b[0m \u001b[1m73s\u001b[0m 126ms/step - loss: 0.0436 - val_loss: 0.0417 - learning_rate: 0.0100\n",
      "Epoch 5/50\n",
      "\u001b[1m579/579\u001b[0m \u001b[32m━━━━━━━━━━━━━━━━━━━━\u001b[0m\u001b[37m\u001b[0m \u001b[1m81s\u001b[0m 126ms/step - loss: 0.0439 - val_loss: 0.0427 - learning_rate: 0.0100\n",
      "Epoch 6/50\n",
      "\u001b[1m579/579\u001b[0m \u001b[32m━━━━━━━━━━━━━━━━━━━━\u001b[0m\u001b[37m\u001b[0m \u001b[1m73s\u001b[0m 127ms/step - loss: 0.0446 - val_loss: 0.0438 - learning_rate: 0.0100\n",
      "Epoch 7/50\n",
      "\u001b[1m579/579\u001b[0m \u001b[32m━━━━━━━━━━━━━━━━━━━━\u001b[0m\u001b[37m\u001b[0m \u001b[1m73s\u001b[0m 127ms/step - loss: 0.0402 - val_loss: 0.0395 - learning_rate: 1.0000e-03\n",
      "Epoch 8/50\n",
      "\u001b[1m579/579\u001b[0m \u001b[32m━━━━━━━━━━━━━━━━━━━━\u001b[0m\u001b[37m\u001b[0m \u001b[1m82s\u001b[0m 126ms/step - loss: 0.0387 - val_loss: 0.0395 - learning_rate: 1.0000e-03\n",
      "Epoch 9/50\n",
      "\u001b[1m579/579\u001b[0m \u001b[32m━━━━━━━━━━━━━━━━━━━━\u001b[0m\u001b[37m\u001b[0m \u001b[1m82s\u001b[0m 126ms/step - loss: 0.0387 - val_loss: 0.0390 - learning_rate: 1.0000e-03\n",
      "Epoch 10/50\n",
      "\u001b[1m579/579\u001b[0m \u001b[32m━━━━━━━━━━━━━━━━━━━━\u001b[0m\u001b[37m\u001b[0m \u001b[1m73s\u001b[0m 126ms/step - loss: 0.0386 - val_loss: 0.0390 - learning_rate: 1.0000e-03\n",
      "Epoch 11/50\n",
      "\u001b[1m579/579\u001b[0m \u001b[32m━━━━━━━━━━━━━━━━━━━━\u001b[0m\u001b[37m\u001b[0m \u001b[1m74s\u001b[0m 127ms/step - loss: 0.0392 - val_loss: 0.0388 - learning_rate: 1.0000e-03\n",
      "Epoch 12/50\n",
      "\u001b[1m579/579\u001b[0m \u001b[32m━━━━━━━━━━━━━━━━━━━━\u001b[0m\u001b[37m\u001b[0m \u001b[1m73s\u001b[0m 126ms/step - loss: 0.0387 - val_loss: 0.0398 - learning_rate: 1.0000e-03\n",
      "Epoch 13/50\n",
      "\u001b[1m579/579\u001b[0m \u001b[32m━━━━━━━━━━━━━━━━━━━━\u001b[0m\u001b[37m\u001b[0m \u001b[1m73s\u001b[0m 126ms/step - loss: 0.0387 - val_loss: 0.0389 - learning_rate: 1.0000e-03\n",
      "Epoch 14/50\n",
      "\u001b[1m579/579\u001b[0m \u001b[32m━━━━━━━━━━━━━━━━━━━━\u001b[0m\u001b[37m\u001b[0m \u001b[1m75s\u001b[0m 129ms/step - loss: 0.0383 - val_loss: 0.0389 - learning_rate: 1.0000e-03\n",
      "Epoch 15/50\n",
      "\u001b[1m579/579\u001b[0m \u001b[32m━━━━━━━━━━━━━━━━━━━━\u001b[0m\u001b[37m\u001b[0m \u001b[1m74s\u001b[0m 127ms/step - loss: 0.0375 - val_loss: 0.0382 - learning_rate: 1.0000e-04\n",
      "Epoch 16/50\n",
      "\u001b[1m579/579\u001b[0m \u001b[32m━━━━━━━━━━━━━━━━━━━━\u001b[0m\u001b[37m\u001b[0m \u001b[1m74s\u001b[0m 128ms/step - loss: 0.0370 - val_loss: 0.0381 - learning_rate: 1.0000e-04\n",
      "Epoch 17/50\n",
      "\u001b[1m579/579\u001b[0m \u001b[32m━━━━━━━━━━━━━━━━━━━━\u001b[0m\u001b[37m\u001b[0m \u001b[1m74s\u001b[0m 128ms/step - loss: 0.0371 - val_loss: 0.0381 - learning_rate: 1.0000e-04\n",
      "Epoch 18/50\n",
      "\u001b[1m579/579\u001b[0m \u001b[32m━━━━━━━━━━━━━━━━━━━━\u001b[0m\u001b[37m\u001b[0m \u001b[1m75s\u001b[0m 128ms/step - loss: 0.0370 - val_loss: 0.0381 - learning_rate: 1.0000e-04\n",
      "Epoch 19/50\n",
      "\u001b[1m579/579\u001b[0m \u001b[32m━━━━━━━━━━━━━━━━━━━━\u001b[0m\u001b[37m\u001b[0m \u001b[1m74s\u001b[0m 127ms/step - loss: 0.0368 - val_loss: 0.0380 - learning_rate: 1.0000e-04\n",
      "Epoch 20/50\n",
      "\u001b[1m579/579\u001b[0m \u001b[32m━━━━━━━━━━━━━━━━━━━━\u001b[0m\u001b[37m\u001b[0m \u001b[1m84s\u001b[0m 130ms/step - loss: 0.0372 - val_loss: 0.0380 - learning_rate: 1.0000e-04\n",
      "Epoch 21/50\n",
      "\u001b[1m579/579\u001b[0m \u001b[32m━━━━━━━━━━━━━━━━━━━━\u001b[0m\u001b[37m\u001b[0m \u001b[1m81s\u001b[0m 128ms/step - loss: 0.0368 - val_loss: 0.0380 - learning_rate: 1.0000e-05\n",
      "Epoch 22/50\n",
      "\u001b[1m579/579\u001b[0m \u001b[32m━━━━━━━━━━━━━━━━━━━━\u001b[0m\u001b[37m\u001b[0m \u001b[1m80s\u001b[0m 124ms/step - loss: 0.0365 - val_loss: 0.0379 - learning_rate: 1.0000e-05\n",
      "Epoch 23/50\n",
      "\u001b[1m579/579\u001b[0m \u001b[32m━━━━━━━━━━━━━━━━━━━━\u001b[0m\u001b[37m\u001b[0m \u001b[1m82s\u001b[0m 125ms/step - loss: 0.0370 - val_loss: 0.0380 - learning_rate: 1.0000e-05\n",
      "Epoch 24/50\n",
      "\u001b[1m579/579\u001b[0m \u001b[32m━━━━━━━━━━━━━━━━━━━━\u001b[0m\u001b[37m\u001b[0m \u001b[1m72s\u001b[0m 124ms/step - loss: 0.0365 - val_loss: 0.0379 - learning_rate: 1.0000e-05\n",
      "Epoch 25/50\n",
      "\u001b[1m579/579\u001b[0m \u001b[32m━━━━━━━━━━━━━━━━━━━━\u001b[0m\u001b[37m\u001b[0m \u001b[1m72s\u001b[0m 125ms/step - loss: 0.0364 - val_loss: 0.0379 - learning_rate: 1.0000e-06\n",
      "Epoch 26/50\n",
      "\u001b[1m579/579\u001b[0m \u001b[32m━━━━━━━━━━━━━━━━━━━━\u001b[0m\u001b[37m\u001b[0m \u001b[1m72s\u001b[0m 124ms/step - loss: 0.0364 - val_loss: 0.0379 - learning_rate: 1.0000e-06\n",
      "Epoch 27/50\n",
      "\u001b[1m579/579\u001b[0m \u001b[32m━━━━━━━━━━━━━━━━━━━━\u001b[0m\u001b[37m\u001b[0m \u001b[1m82s\u001b[0m 124ms/step - loss: 0.0362 - val_loss: 0.0379 - learning_rate: 1.0000e-06\n",
      "\u001b[1m153/153\u001b[0m \u001b[32m━━━━━━━━━━━━━━━━━━━━\u001b[0m\u001b[37m\u001b[0m \u001b[1m6s\u001b[0m 38ms/step\n",
      "\u001b[1m508/508\u001b[0m \u001b[32m━━━━━━━━━━━━━━━━━━━━\u001b[0m\u001b[37m\u001b[0m \u001b[1m18s\u001b[0m 35ms/step\n",
      "\n",
      "--- Fold 3 - MCC: 0.983668\n",
      "\n",
      "Epoch 1/50\n",
      "\u001b[1m579/579\u001b[0m \u001b[32m━━━━━━━━━━━━━━━━━━━━\u001b[0m\u001b[37m\u001b[0m \u001b[1m74s\u001b[0m 125ms/step - loss: 0.3963 - val_loss: 0.0447 - learning_rate: 0.0100\n",
      "Epoch 2/50\n",
      "\u001b[1m579/579\u001b[0m \u001b[32m━━━━━━━━━━━━━━━━━━━━\u001b[0m\u001b[37m\u001b[0m \u001b[1m73s\u001b[0m 125ms/step - loss: 0.0463 - val_loss: 0.0430 - learning_rate: 0.0100\n",
      "Epoch 3/50\n",
      "\u001b[1m579/579\u001b[0m \u001b[32m━━━━━━━━━━━━━━━━━━━━\u001b[0m\u001b[37m\u001b[0m \u001b[1m73s\u001b[0m 125ms/step - loss: 0.0437 - val_loss: 0.0426 - learning_rate: 0.0100\n",
      "Epoch 4/50\n",
      "\u001b[1m579/579\u001b[0m \u001b[32m━━━━━━━━━━━━━━━━━━━━\u001b[0m\u001b[37m\u001b[0m \u001b[1m73s\u001b[0m 126ms/step - loss: 0.0429 - val_loss: 0.0417 - learning_rate: 0.0100\n",
      "Epoch 5/50\n",
      "\u001b[1m579/579\u001b[0m \u001b[32m━━━━━━━━━━━━━━━━━━━━\u001b[0m\u001b[37m\u001b[0m \u001b[1m72s\u001b[0m 124ms/step - loss: 0.0432 - val_loss: 0.0428 - learning_rate: 0.0100\n",
      "Epoch 6/50\n",
      "\u001b[1m579/579\u001b[0m \u001b[32m━━━━━━━━━━━━━━━━━━━━\u001b[0m\u001b[37m\u001b[0m \u001b[1m73s\u001b[0m 126ms/step - loss: 0.0444 - val_loss: 0.0493 - learning_rate: 0.0100\n",
      "Epoch 7/50\n",
      "\u001b[1m579/579\u001b[0m \u001b[32m━━━━━━━━━━━━━━━━━━━━\u001b[0m\u001b[37m\u001b[0m \u001b[1m72s\u001b[0m 124ms/step - loss: 0.0451 - val_loss: 0.0475 - learning_rate: 0.0100\n",
      "Epoch 8/50\n",
      "\u001b[1m579/579\u001b[0m \u001b[32m━━━━━━━━━━━━━━━━━━━━\u001b[0m\u001b[37m\u001b[0m \u001b[1m83s\u001b[0m 127ms/step - loss: 0.0410 - val_loss: 0.0387 - learning_rate: 1.0000e-03\n",
      "Epoch 9/50\n",
      "\u001b[1m579/579\u001b[0m \u001b[32m━━━━━━━━━━━━━━━━━━━━\u001b[0m\u001b[37m\u001b[0m \u001b[1m73s\u001b[0m 126ms/step - loss: 0.0389 - val_loss: 0.0396 - learning_rate: 1.0000e-03\n",
      "Epoch 10/50\n",
      "\u001b[1m579/579\u001b[0m \u001b[32m━━━━━━━━━━━━━━━━━━━━\u001b[0m\u001b[37m\u001b[0m \u001b[1m73s\u001b[0m 126ms/step - loss: 0.0390 - val_loss: 0.0404 - learning_rate: 1.0000e-03\n",
      "Epoch 11/50\n",
      "\u001b[1m579/579\u001b[0m \u001b[32m━━━━━━━━━━━━━━━━━━━━\u001b[0m\u001b[37m\u001b[0m \u001b[1m82s\u001b[0m 125ms/step - loss: 0.0389 - val_loss: 0.0393 - learning_rate: 1.0000e-03\n",
      "Epoch 12/50\n",
      "\u001b[1m579/579\u001b[0m \u001b[32m━━━━━━━━━━━━━━━━━━━━\u001b[0m\u001b[37m\u001b[0m \u001b[1m73s\u001b[0m 125ms/step - loss: 0.0379 - val_loss: 0.0384 - learning_rate: 1.0000e-04\n",
      "Epoch 13/50\n",
      "\u001b[1m579/579\u001b[0m \u001b[32m━━━━━━━━━━━━━━━━━━━━\u001b[0m\u001b[37m\u001b[0m \u001b[1m73s\u001b[0m 126ms/step - loss: 0.0380 - val_loss: 0.0384 - learning_rate: 1.0000e-04\n",
      "Epoch 14/50\n",
      "\u001b[1m579/579\u001b[0m \u001b[32m━━━━━━━━━━━━━━━━━━━━\u001b[0m\u001b[37m\u001b[0m \u001b[1m72s\u001b[0m 124ms/step - loss: 0.0371 - val_loss: 0.0383 - learning_rate: 1.0000e-04\n",
      "Epoch 15/50\n",
      "\u001b[1m579/579\u001b[0m \u001b[32m━━━━━━━━━━━━━━━━━━━━\u001b[0m\u001b[37m\u001b[0m \u001b[1m73s\u001b[0m 125ms/step - loss: 0.0373 - val_loss: 0.0382 - learning_rate: 1.0000e-04\n",
      "Epoch 16/50\n",
      "\u001b[1m579/579\u001b[0m \u001b[32m━━━━━━━━━━━━━━━━━━━━\u001b[0m\u001b[37m\u001b[0m \u001b[1m73s\u001b[0m 126ms/step - loss: 0.0376 - val_loss: 0.0383 - learning_rate: 1.0000e-04\n",
      "Epoch 17/50\n",
      "\u001b[1m579/579\u001b[0m \u001b[32m━━━━━━━━━━━━━━━━━━━━\u001b[0m\u001b[37m\u001b[0m \u001b[1m74s\u001b[0m 127ms/step - loss: 0.0377 - val_loss: 0.0381 - learning_rate: 1.0000e-04\n",
      "Epoch 18/50\n",
      "\u001b[1m579/579\u001b[0m \u001b[32m━━━━━━━━━━━━━━━━━━━━\u001b[0m\u001b[37m\u001b[0m \u001b[1m73s\u001b[0m 126ms/step - loss: 0.0374 - val_loss: 0.0383 - learning_rate: 1.0000e-04\n",
      "Epoch 19/50\n",
      "\u001b[1m579/579\u001b[0m \u001b[32m━━━━━━━━━━━━━━━━━━━━\u001b[0m\u001b[37m\u001b[0m \u001b[1m73s\u001b[0m 126ms/step - loss: 0.0372 - val_loss: 0.0381 - learning_rate: 1.0000e-04\n",
      "Epoch 20/50\n",
      "\u001b[1m579/579\u001b[0m \u001b[32m━━━━━━━━━━━━━━━━━━━━\u001b[0m\u001b[37m\u001b[0m \u001b[1m73s\u001b[0m 126ms/step - loss: 0.0371 - val_loss: 0.0381 - learning_rate: 1.0000e-04\n",
      "Epoch 21/50\n",
      "\u001b[1m579/579\u001b[0m \u001b[32m━━━━━━━━━━━━━━━━━━━━\u001b[0m\u001b[37m\u001b[0m \u001b[1m73s\u001b[0m 126ms/step - loss: 0.0374 - val_loss: 0.0381 - learning_rate: 1.0000e-05\n",
      "Epoch 22/50\n",
      "\u001b[1m579/579\u001b[0m \u001b[32m━━━━━━━━━━━━━━━━━━━━\u001b[0m\u001b[37m\u001b[0m \u001b[1m74s\u001b[0m 127ms/step - loss: 0.0374 - val_loss: 0.0381 - learning_rate: 1.0000e-05\n",
      "\u001b[1m153/153\u001b[0m \u001b[32m━━━━━━━━━━━━━━━━━━━━\u001b[0m\u001b[37m\u001b[0m \u001b[1m6s\u001b[0m 41ms/step\n",
      "\u001b[1m508/508\u001b[0m \u001b[32m━━━━━━━━━━━━━━━━━━━━\u001b[0m\u001b[37m\u001b[0m \u001b[1m18s\u001b[0m 36ms/step\n",
      "\n",
      "--- Fold 4 - MCC: 0.983232\n",
      "\n",
      "Epoch 1/50\n",
      "\u001b[1m579/579\u001b[0m \u001b[32m━━━━━━━━━━━━━━━━━━━━\u001b[0m\u001b[37m\u001b[0m \u001b[1m76s\u001b[0m 127ms/step - loss: 0.3569 - val_loss: 0.0448 - learning_rate: 0.0100\n",
      "Epoch 2/50\n",
      "\u001b[1m579/579\u001b[0m \u001b[32m━━━━━━━━━━━━━━━━━━━━\u001b[0m\u001b[37m\u001b[0m \u001b[1m73s\u001b[0m 125ms/step - loss: 0.0466 - val_loss: 0.0428 - learning_rate: 0.0100\n",
      "Epoch 3/50\n",
      "\u001b[1m579/579\u001b[0m \u001b[32m━━━━━━━━━━━━━━━━━━━━\u001b[0m\u001b[37m\u001b[0m \u001b[1m73s\u001b[0m 126ms/step - loss: 0.0436 - val_loss: 0.0421 - learning_rate: 0.0100\n",
      "Epoch 4/50\n",
      "\u001b[1m579/579\u001b[0m \u001b[32m━━━━━━━━━━━━━━━━━━━━\u001b[0m\u001b[37m\u001b[0m \u001b[1m74s\u001b[0m 128ms/step - loss: 0.0429 - val_loss: 0.0408 - learning_rate: 0.0100\n",
      "Epoch 5/50\n",
      "\u001b[1m579/579\u001b[0m \u001b[32m━━━━━━━━━━━━━━━━━━━━\u001b[0m\u001b[37m\u001b[0m \u001b[1m73s\u001b[0m 126ms/step - loss: 0.0443 - val_loss: 0.0426 - learning_rate: 0.0100\n",
      "Epoch 6/50\n",
      "\u001b[1m579/579\u001b[0m \u001b[32m━━━━━━━━━━━━━━━━━━━━\u001b[0m\u001b[37m\u001b[0m \u001b[1m75s\u001b[0m 130ms/step - loss: 0.0443 - val_loss: 0.0409 - learning_rate: 0.0100\n",
      "Epoch 7/50\n",
      "\u001b[1m579/579\u001b[0m \u001b[32m━━━━━━━━━━━━━━━━━━━━\u001b[0m\u001b[37m\u001b[0m \u001b[1m73s\u001b[0m 126ms/step - loss: 0.0451 - val_loss: 0.0426 - learning_rate: 0.0100\n",
      "Epoch 8/50\n",
      "\u001b[1m579/579\u001b[0m \u001b[32m━━━━━━━━━━━━━━━━━━━━\u001b[0m\u001b[37m\u001b[0m \u001b[1m75s\u001b[0m 129ms/step - loss: 0.0406 - val_loss: 0.0383 - learning_rate: 1.0000e-03\n",
      "Epoch 9/50\n",
      "\u001b[1m579/579\u001b[0m \u001b[32m━━━━━━━━━━━━━━━━━━━━\u001b[0m\u001b[37m\u001b[0m \u001b[1m73s\u001b[0m 126ms/step - loss: 0.0393 - val_loss: 0.0380 - learning_rate: 1.0000e-03\n",
      "Epoch 10/50\n",
      "\u001b[1m579/579\u001b[0m \u001b[32m━━━━━━━━━━━━━━━━━━━━\u001b[0m\u001b[37m\u001b[0m \u001b[1m72s\u001b[0m 125ms/step - loss: 0.0387 - val_loss: 0.0378 - learning_rate: 1.0000e-03\n",
      "Epoch 11/50\n",
      "\u001b[1m579/579\u001b[0m \u001b[32m━━━━━━━━━━━━━━━━━━━━\u001b[0m\u001b[37m\u001b[0m \u001b[1m73s\u001b[0m 126ms/step - loss: 0.0391 - val_loss: 0.0385 - learning_rate: 1.0000e-03\n",
      "Epoch 12/50\n",
      "\u001b[1m579/579\u001b[0m \u001b[32m━━━━━━━━━━━━━━━━━━━━\u001b[0m\u001b[37m\u001b[0m \u001b[1m73s\u001b[0m 125ms/step - loss: 0.0387 - val_loss: 0.0381 - learning_rate: 1.0000e-03\n",
      "Epoch 13/50\n",
      "\u001b[1m579/579\u001b[0m \u001b[32m━━━━━━━━━━━━━━━━━━━━\u001b[0m\u001b[37m\u001b[0m \u001b[1m76s\u001b[0m 131ms/step - loss: 0.0390 - val_loss: 0.0382 - learning_rate: 1.0000e-03\n",
      "Epoch 14/50\n",
      "\u001b[1m579/579\u001b[0m \u001b[32m━━━━━━━━━━━━━━━━━━━━\u001b[0m\u001b[37m\u001b[0m \u001b[1m73s\u001b[0m 126ms/step - loss: 0.0379 - val_loss: 0.0372 - learning_rate: 1.0000e-04\n",
      "Epoch 15/50\n",
      "\u001b[1m579/579\u001b[0m \u001b[32m━━━━━━━━━━━━━━━━━━━━\u001b[0m\u001b[37m\u001b[0m \u001b[1m81s\u001b[0m 125ms/step - loss: 0.0372 - val_loss: 0.0372 - learning_rate: 1.0000e-04\n",
      "Epoch 16/50\n",
      "\u001b[1m579/579\u001b[0m \u001b[32m━━━━━━━━━━━━━━━━━━━━\u001b[0m\u001b[37m\u001b[0m \u001b[1m73s\u001b[0m 126ms/step - loss: 0.0374 - val_loss: 0.0372 - learning_rate: 1.0000e-04\n",
      "Epoch 17/50\n",
      "\u001b[1m579/579\u001b[0m \u001b[32m━━━━━━━━━━━━━━━━━━━━\u001b[0m\u001b[37m\u001b[0m \u001b[1m73s\u001b[0m 127ms/step - loss: 0.0372 - val_loss: 0.0370 - learning_rate: 1.0000e-04\n",
      "Epoch 18/50\n",
      "\u001b[1m579/579\u001b[0m \u001b[32m━━━━━━━━━━━━━━━━━━━━\u001b[0m\u001b[37m\u001b[0m \u001b[1m73s\u001b[0m 126ms/step - loss: 0.0372 - val_loss: 0.0371 - learning_rate: 1.0000e-04\n",
      "Epoch 19/50\n",
      "\u001b[1m579/579\u001b[0m \u001b[32m━━━━━━━━━━━━━━━━━━━━\u001b[0m\u001b[37m\u001b[0m \u001b[1m74s\u001b[0m 128ms/step - loss: 0.0369 - val_loss: 0.0370 - learning_rate: 1.0000e-04\n",
      "Epoch 20/50\n",
      "\u001b[1m579/579\u001b[0m \u001b[32m━━━━━━━━━━━━━━━━━━━━\u001b[0m\u001b[37m\u001b[0m \u001b[1m76s\u001b[0m 131ms/step - loss: 0.0371 - val_loss: 0.0371 - learning_rate: 1.0000e-04\n",
      "Epoch 21/50\n",
      "\u001b[1m579/579\u001b[0m \u001b[32m━━━━━━━━━━━━━━━━━━━━\u001b[0m\u001b[37m\u001b[0m \u001b[1m79s\u001b[0m 127ms/step - loss: 0.0373 - val_loss: 0.0370 - learning_rate: 1.0000e-05\n",
      "Epoch 22/50\n",
      "\u001b[1m579/579\u001b[0m \u001b[32m━━━━━━━━━━━━━━━━━━━━\u001b[0m\u001b[37m\u001b[0m \u001b[1m73s\u001b[0m 126ms/step - loss: 0.0369 - val_loss: 0.0370 - learning_rate: 1.0000e-05\n",
      "Epoch 23/50\n",
      "\u001b[1m579/579\u001b[0m \u001b[32m━━━━━━━━━━━━━━━━━━━━\u001b[0m\u001b[37m\u001b[0m \u001b[1m74s\u001b[0m 127ms/step - loss: 0.0369 - val_loss: 0.0370 - learning_rate: 1.0000e-05\n",
      "Epoch 24/50\n",
      "\u001b[1m579/579\u001b[0m \u001b[32m━━━━━━━━━━━━━━━━━━━━\u001b[0m\u001b[37m\u001b[0m \u001b[1m82s\u001b[0m 127ms/step - loss: 0.0367 - val_loss: 0.0370 - learning_rate: 1.0000e-06\n",
      "Epoch 25/50\n",
      "\u001b[1m579/579\u001b[0m \u001b[32m━━━━━━━━━━━━━━━━━━━━\u001b[0m\u001b[37m\u001b[0m \u001b[1m73s\u001b[0m 126ms/step - loss: 0.0369 - val_loss: 0.0370 - learning_rate: 1.0000e-06\n",
      "Epoch 26/50\n",
      "\u001b[1m579/579\u001b[0m \u001b[32m━━━━━━━━━━━━━━━━━━━━\u001b[0m\u001b[37m\u001b[0m \u001b[1m75s\u001b[0m 129ms/step - loss: 0.0373 - val_loss: 0.0370 - learning_rate: 1.0000e-06\n",
      "Epoch 27/50\n",
      "\u001b[1m579/579\u001b[0m \u001b[32m━━━━━━━━━━━━━━━━━━━━\u001b[0m\u001b[37m\u001b[0m \u001b[1m73s\u001b[0m 126ms/step - loss: 0.0368 - val_loss: 0.0370 - learning_rate: 1.0000e-07\n",
      "Epoch 28/50\n",
      "\u001b[1m579/579\u001b[0m \u001b[32m━━━━━━━━━━━━━━━━━━━━\u001b[0m\u001b[37m\u001b[0m \u001b[1m74s\u001b[0m 127ms/step - loss: 0.0366 - val_loss: 0.0370 - learning_rate: 1.0000e-07\n",
      "Epoch 29/50\n",
      "\u001b[1m579/579\u001b[0m \u001b[32m━━━━━━━━━━━━━━━━━━━━\u001b[0m\u001b[37m\u001b[0m \u001b[1m83s\u001b[0m 128ms/step - loss: 0.0371 - val_loss: 0.0370 - learning_rate: 1.0000e-07\n",
      "Epoch 30/50\n",
      "\u001b[1m579/579\u001b[0m \u001b[32m━━━━━━━━━━━━━━━━━━━━\u001b[0m\u001b[37m\u001b[0m \u001b[1m74s\u001b[0m 127ms/step - loss: 0.0367 - val_loss: 0.0370 - learning_rate: 1.0000e-08\n",
      "Epoch 31/50\n",
      "\u001b[1m579/579\u001b[0m \u001b[32m━━━━━━━━━━━━━━━━━━━━\u001b[0m\u001b[37m\u001b[0m \u001b[1m83s\u001b[0m 128ms/step - loss: 0.0369 - val_loss: 0.0370 - learning_rate: 1.0000e-08\n",
      "\u001b[1m153/153\u001b[0m \u001b[32m━━━━━━━━━━━━━━━━━━━━\u001b[0m\u001b[37m\u001b[0m \u001b[1m6s\u001b[0m 38ms/step\n",
      "\u001b[1m508/508\u001b[0m \u001b[32m━━━━━━━━━━━━━━━━━━━━\u001b[0m\u001b[37m\u001b[0m \u001b[1m20s\u001b[0m 39ms/step\n",
      "\n",
      "--- Fold 5 - MCC: 0.983640\n",
      "\n",
      "\n",
      "\n",
      "------ Average MCC: 0.983514 ± 0.000197\n"
     ]
    }
   ],
   "source": [
    "trainer = Trainer(model)\n",
    "trainer.fit_predict(X, y, X_test)"
   ]
  }
 ],
 "metadata": {
  "kaggle": {
   "accelerator": "none",
   "dataSources": [
    {
     "databundleVersionId": 9045607,
     "sourceId": 76727,
     "sourceType": "competition"
    }
   ],
   "dockerImageVersionId": 30746,
   "isGpuEnabled": false,
   "isInternetEnabled": true,
   "language": "python",
   "sourceType": "notebook"
  },
  "kernelspec": {
   "display_name": "Python 3",
   "language": "python",
   "name": "python3"
  },
  "language_info": {
   "codemirror_mode": {
    "name": "ipython",
    "version": 3
   },
   "file_extension": ".py",
   "mimetype": "text/x-python",
   "name": "python",
   "nbconvert_exporter": "python",
   "pygments_lexer": "ipython3",
   "version": "3.10.13"
  },
  "papermill": {
   "default_parameters": {},
   "duration": 10002.069499,
   "end_time": "2024-08-05T12:04:03.844798",
   "environment_variables": {},
   "exception": null,
   "input_path": "__notebook__.ipynb",
   "output_path": "__notebook__.ipynb",
   "parameters": {},
   "start_time": "2024-08-05T09:17:21.775299",
   "version": "2.5.0"
  }
 },
 "nbformat": 4,
 "nbformat_minor": 5
}
