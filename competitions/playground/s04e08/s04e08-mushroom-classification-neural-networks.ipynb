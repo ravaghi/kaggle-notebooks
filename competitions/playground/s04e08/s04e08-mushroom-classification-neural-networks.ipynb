{
 "cells": [
  {
   "cell_type": "markdown",
   "id": "e033fcd9",
   "metadata": {
    "papermill": {
     "duration": 0.004402,
     "end_time": "2024-08-07T04:41:34.674477",
     "exception": false,
     "start_time": "2024-08-07T04:41:34.670075",
     "status": "completed"
    },
    "tags": []
   },
   "source": [
    "# Imports and Configs"
   ]
  },
  {
   "cell_type": "code",
   "execution_count": 1,
   "id": "ab9a20ab",
   "metadata": {
    "_kg_hide-output": true,
    "execution": {
     "iopub.execute_input": "2024-08-07T04:41:34.684182Z",
     "iopub.status.busy": "2024-08-07T04:41:34.683799Z",
     "iopub.status.idle": "2024-08-07T04:42:07.746841Z",
     "shell.execute_reply": "2024-08-07T04:42:07.745330Z"
    },
    "papermill": {
     "duration": 33.071149,
     "end_time": "2024-08-07T04:42:07.749775",
     "exception": false,
     "start_time": "2024-08-07T04:41:34.678626",
     "status": "completed"
    },
    "tags": []
   },
   "outputs": [
    {
     "name": "stdout",
     "output_type": "stream",
     "text": [
      "\u001b[31mERROR: pip's dependency resolver does not currently take into account all the packages that are installed. This behaviour is the source of the following dependency conflicts.\r\n",
      "spaghetti 1.7.6 requires shapely>=2.0.1, but you have shapely 1.8.5.post1 which is incompatible.\r\n",
      "spopt 0.6.1 requires shapely>=2.0.1, but you have shapely 1.8.5.post1 which is incompatible.\u001b[0m\u001b[31m\r\n",
      "\u001b[0m"
     ]
    }
   ],
   "source": [
    "!pip install -q scikit-learn==1.4\n",
    "!pip install -q --no-deps scikeras\n",
    "!pip install -q ucimlrepo"
   ]
  },
  {
   "cell_type": "code",
   "execution_count": 2,
   "id": "662fb491",
   "metadata": {
    "_cell_guid": "b1076dfc-b9ad-4769-8c92-a6c4dae69d19",
    "_kg_hide-output": true,
    "_uuid": "8f2839f25d086af736a60e9eeb907d3b93b6e0e5",
    "execution": {
     "iopub.execute_input": "2024-08-07T04:42:07.760219Z",
     "iopub.status.busy": "2024-08-07T04:42:07.759808Z",
     "iopub.status.idle": "2024-08-07T04:42:22.838093Z",
     "shell.execute_reply": "2024-08-07T04:42:22.837023Z"
    },
    "papermill": {
     "duration": 15.086614,
     "end_time": "2024-08-07T04:42:22.840753",
     "exception": false,
     "start_time": "2024-08-07T04:42:07.754139",
     "status": "completed"
    },
    "tags": []
   },
   "outputs": [
    {
     "name": "stderr",
     "output_type": "stream",
     "text": [
      "2024-08-07 04:42:09.941495: E external/local_xla/xla/stream_executor/cuda/cuda_dnn.cc:9261] Unable to register cuDNN factory: Attempting to register factory for plugin cuDNN when one has already been registered\n",
      "2024-08-07 04:42:09.941680: E external/local_xla/xla/stream_executor/cuda/cuda_fft.cc:607] Unable to register cuFFT factory: Attempting to register factory for plugin cuFFT when one has already been registered\n",
      "2024-08-07 04:42:10.092363: E external/local_xla/xla/stream_executor/cuda/cuda_blas.cc:1515] Unable to register cuBLAS factory: Attempting to register factory for plugin cuBLAS when one has already been registered\n"
     ]
    }
   ],
   "source": [
    "from scikeras.wrappers import KerasClassifier\n",
    "from sklearn.model_selection import StratifiedKFold\n",
    "from sklearn.preprocessing import OneHotEncoder\n",
    "from sklearn.impute import SimpleImputer\n",
    "from sklearn.preprocessing import StandardScaler\n",
    "from sklearn.compose import ColumnTransformer\n",
    "from sklearn.preprocessing import PowerTransformer\n",
    "from sklearn.pipeline import make_pipeline\n",
    "from sklearn.metrics import matthews_corrcoef\n",
    "from ucimlrepo import fetch_ucirepo \n",
    "from sklearn.base import clone\n",
    "import matplotlib.pyplot as plt\n",
    "import seaborn as sns\n",
    "import pandas as pd\n",
    "import numpy as np\n",
    "import warnings\n",
    "import pickle\n",
    "import keras\n",
    "import gc\n",
    "\n",
    "warnings.filterwarnings('ignore')"
   ]
  },
  {
   "cell_type": "code",
   "execution_count": 3,
   "id": "ab021a6e",
   "metadata": {
    "execution": {
     "iopub.execute_input": "2024-08-07T04:42:22.851557Z",
     "iopub.status.busy": "2024-08-07T04:42:22.850531Z",
     "iopub.status.idle": "2024-08-07T04:42:22.855341Z",
     "shell.execute_reply": "2024-08-07T04:42:22.854374Z"
    },
    "papermill": {
     "duration": 0.012152,
     "end_time": "2024-08-07T04:42:22.857388",
     "exception": false,
     "start_time": "2024-08-07T04:42:22.845236",
     "status": "completed"
    },
    "tags": []
   },
   "outputs": [],
   "source": [
    "TARGET = 'class'\n",
    "N_FOLDS = 5\n",
    "SEED = 6"
   ]
  },
  {
   "cell_type": "markdown",
   "id": "b4d7e02b",
   "metadata": {
    "papermill": {
     "duration": 0.004036,
     "end_time": "2024-08-07T04:42:22.865695",
     "exception": false,
     "start_time": "2024-08-07T04:42:22.861659",
     "status": "completed"
    },
    "tags": []
   },
   "source": [
    "# Loading Data"
   ]
  },
  {
   "cell_type": "code",
   "execution_count": 4,
   "id": "6301d730",
   "metadata": {
    "execution": {
     "iopub.execute_input": "2024-08-07T04:42:22.875876Z",
     "iopub.status.busy": "2024-08-07T04:42:22.875026Z",
     "iopub.status.idle": "2024-08-07T04:42:42.041390Z",
     "shell.execute_reply": "2024-08-07T04:42:42.040021Z"
    },
    "papermill": {
     "duration": 19.174379,
     "end_time": "2024-08-07T04:42:42.044229",
     "exception": false,
     "start_time": "2024-08-07T04:42:22.869850",
     "status": "completed"
    },
    "tags": []
   },
   "outputs": [],
   "source": [
    "train = pd.read_csv('/kaggle/input/playground-series-s4e8/train.csv', index_col='id')\n",
    "test = pd.read_csv('/kaggle/input/playground-series-s4e8/test.csv', index_col='id')\n",
    "\n",
    "original = fetch_ucirepo(id=848)['data']['original']"
   ]
  },
  {
   "cell_type": "code",
   "execution_count": 5,
   "id": "f43dcf5c",
   "metadata": {
    "execution": {
     "iopub.execute_input": "2024-08-07T04:42:42.054784Z",
     "iopub.status.busy": "2024-08-07T04:42:42.054080Z",
     "iopub.status.idle": "2024-08-07T04:42:42.061510Z",
     "shell.execute_reply": "2024-08-07T04:42:42.060564Z"
    },
    "papermill": {
     "duration": 0.015013,
     "end_time": "2024-08-07T04:42:42.063671",
     "exception": false,
     "start_time": "2024-08-07T04:42:42.048658",
     "status": "completed"
    },
    "tags": []
   },
   "outputs": [
    {
     "data": {
      "text/plain": [
       "((3116945, 21), (2077964, 20))"
      ]
     },
     "execution_count": 5,
     "metadata": {},
     "output_type": "execute_result"
    }
   ],
   "source": [
    "train.shape, test.shape"
   ]
  },
  {
   "cell_type": "code",
   "execution_count": 6,
   "id": "c24d97c4",
   "metadata": {
    "execution": {
     "iopub.execute_input": "2024-08-07T04:42:42.074430Z",
     "iopub.status.busy": "2024-08-07T04:42:42.073719Z",
     "iopub.status.idle": "2024-08-07T04:42:57.371095Z",
     "shell.execute_reply": "2024-08-07T04:42:57.369997Z"
    },
    "papermill": {
     "duration": 15.305526,
     "end_time": "2024-08-07T04:42:57.373676",
     "exception": false,
     "start_time": "2024-08-07T04:42:42.068150",
     "status": "completed"
    },
    "tags": []
   },
   "outputs": [
    {
     "data": {
      "image/png": "[encoded data removed]",
      "text/plain": [
       "<Figure size 1400x500 with 2 Axes>"
      ]
     },
     "metadata": {},
     "output_type": "display_data"
    }
   ],
   "source": [
    "cmap = sns.light_palette('#651FFF', as_cmap=True)\n",
    "\n",
    "train_null_values = train.sample(100_000).drop(columns=TARGET).isnull().T\n",
    "test_null_values = test.sample(100_000).isnull().T\n",
    "\n",
    "fig, axes = plt.subplots(nrows=1, ncols=2, figsize=(14, 5))\n",
    "\n",
    "sns.heatmap(train_null_values, cbar=False, cmap=cmap, ax=axes[0])\n",
    "axes[0].set_title('Train')\n",
    "axes[0].set_xticks([]) \n",
    "axes[0].set_xlabel('')\n",
    "\n",
    "sns.heatmap(test_null_values, cbar=False, cmap=cmap, ax=axes[1])\n",
    "axes[1].set_title('Test')\n",
    "axes[1].set_xticks([]) \n",
    "axes[1].set_xlabel('')\n",
    "\n",
    "plt.tight_layout()\n",
    "plt.show()"
   ]
  },
  {
   "cell_type": "markdown",
   "id": "6f981296",
   "metadata": {
    "papermill": {
     "duration": 0.005122,
     "end_time": "2024-08-07T04:42:57.384382",
     "exception": false,
     "start_time": "2024-08-07T04:42:57.379260",
     "status": "completed"
    },
    "tags": []
   },
   "source": [
    "# Feature Engineering"
   ]
  },
  {
   "cell_type": "code",
   "execution_count": 7,
   "id": "9ca61488",
   "metadata": {
    "execution": {
     "iopub.execute_input": "2024-08-07T04:42:57.396928Z",
     "iopub.status.busy": "2024-08-07T04:42:57.396130Z",
     "iopub.status.idle": "2024-08-07T04:42:57.844165Z",
     "shell.execute_reply": "2024-08-07T04:42:57.843181Z"
    },
    "papermill": {
     "duration": 0.457207,
     "end_time": "2024-08-07T04:42:57.846840",
     "exception": false,
     "start_time": "2024-08-07T04:42:57.389633",
     "status": "completed"
    },
    "tags": []
   },
   "outputs": [],
   "source": [
    "cat_features = test.select_dtypes('object').columns\n",
    "cont_features = test.select_dtypes('float').columns"
   ]
  },
  {
   "cell_type": "code",
   "execution_count": 8,
   "id": "ee877a1c",
   "metadata": {
    "execution": {
     "iopub.execute_input": "2024-08-07T04:42:57.859831Z",
     "iopub.status.busy": "2024-08-07T04:42:57.858936Z",
     "iopub.status.idle": "2024-08-07T04:43:06.553511Z",
     "shell.execute_reply": "2024-08-07T04:43:06.552493Z"
    },
    "papermill": {
     "duration": 8.70362,
     "end_time": "2024-08-07T04:43:06.556096",
     "exception": false,
     "start_time": "2024-08-07T04:42:57.852476",
     "status": "completed"
    },
    "tags": []
   },
   "outputs": [],
   "source": [
    "# Reference: https://www.kaggle.com/code/ambrosm/pss4e8-eda-which-makes-sense\n",
    "for feature in cat_features:          \n",
    "    categories = sorted(list(set(original[feature].dropna())))\n",
    "    dtype = pd.CategoricalDtype(categories=categories, ordered=False)\n",
    "    \n",
    "    train.loc[~train[feature].isin(categories), feature] = np.nan\n",
    "    test.loc[~test[feature].isin(categories), feature] = np.nan\n",
    "    \n",
    "    train[feature] = train[feature].astype(dtype)\n",
    "    test[feature] = test[feature].astype(dtype)"
   ]
  },
  {
   "cell_type": "code",
   "execution_count": 9,
   "id": "46c6b76d",
   "metadata": {
    "execution": {
     "iopub.execute_input": "2024-08-07T04:43:06.568491Z",
     "iopub.status.busy": "2024-08-07T04:43:06.568142Z",
     "iopub.status.idle": "2024-08-07T04:43:06.574770Z",
     "shell.execute_reply": "2024-08-07T04:43:06.573640Z"
    },
    "papermill": {
     "duration": 0.015431,
     "end_time": "2024-08-07T04:43:06.576990",
     "exception": false,
     "start_time": "2024-08-07T04:43:06.561559",
     "status": "completed"
    },
    "tags": []
   },
   "outputs": [],
   "source": [
    "one_hot_encoder = OneHotEncoder(drop='first', sparse_output=False, dtype=np.float32, handle_unknown='infrequent_if_exist', min_frequency=50)\n",
    "step_1 = ('imputer', make_pipeline(PowerTransformer(), SimpleImputer(add_indicator=True)), cont_features)\n",
    "step_2 = ('one-hot-encoder', one_hot_encoder, cat_features)\n",
    "steps = [step_1, step_2]\n",
    "transformer = ColumnTransformer(steps, remainder='passthrough')\n",
    "pipeline = make_pipeline(transformer, StandardScaler())"
   ]
  },
  {
   "cell_type": "code",
   "execution_count": 10,
   "id": "cfe3476e",
   "metadata": {
    "execution": {
     "iopub.execute_input": "2024-08-07T04:43:06.589830Z",
     "iopub.status.busy": "2024-08-07T04:43:06.589042Z",
     "iopub.status.idle": "2024-08-07T04:43:06.796051Z",
     "shell.execute_reply": "2024-08-07T04:43:06.794879Z"
    },
    "papermill": {
     "duration": 0.215995,
     "end_time": "2024-08-07T04:43:06.798539",
     "exception": false,
     "start_time": "2024-08-07T04:43:06.582544",
     "status": "completed"
    },
    "tags": []
   },
   "outputs": [],
   "source": [
    "X = train.drop([TARGET], axis=1)\n",
    "y = train[TARGET].map({'e': 0, 'p': 1})\n",
    "X_test = test"
   ]
  },
  {
   "cell_type": "code",
   "execution_count": 11,
   "id": "96f4cd84",
   "metadata": {
    "execution": {
     "iopub.execute_input": "2024-08-07T04:43:06.811556Z",
     "iopub.status.busy": "2024-08-07T04:43:06.810843Z",
     "iopub.status.idle": "2024-08-07T04:45:12.133580Z",
     "shell.execute_reply": "2024-08-07T04:45:12.132383Z"
    },
    "papermill": {
     "duration": 125.332182,
     "end_time": "2024-08-07T04:45:12.136266",
     "exception": false,
     "start_time": "2024-08-07T04:43:06.804084",
     "status": "completed"
    },
    "tags": []
   },
   "outputs": [],
   "source": [
    "X = pipeline.fit_transform(X)\n",
    "X_test = pipeline.transform(X_test)"
   ]
  },
  {
   "cell_type": "markdown",
   "id": "677a79ca",
   "metadata": {
    "papermill": {
     "duration": 0.005257,
     "end_time": "2024-08-07T04:45:12.148141",
     "exception": false,
     "start_time": "2024-08-07T04:45:12.142884",
     "status": "completed"
    },
    "tags": []
   },
   "source": [
    "# Training"
   ]
  },
  {
   "cell_type": "code",
   "execution_count": 12,
   "id": "f7106a53",
   "metadata": {
    "execution": {
     "iopub.execute_input": "2024-08-07T04:45:12.160883Z",
     "iopub.status.busy": "2024-08-07T04:45:12.160498Z",
     "iopub.status.idle": "2024-08-07T04:45:12.174273Z",
     "shell.execute_reply": "2024-08-07T04:45:12.173183Z"
    },
    "papermill": {
     "duration": 0.022735,
     "end_time": "2024-08-07T04:45:12.176374",
     "exception": false,
     "start_time": "2024-08-07T04:45:12.153639",
     "status": "completed"
    },
    "tags": []
   },
   "outputs": [],
   "source": [
    "class Trainer:\n",
    "    def __init__(self, model, n_folds=N_FOLDS):\n",
    "        self.model = model\n",
    "        self.n_folds = n_folds\n",
    "\n",
    "    def fit_predict(self, X, y, X_test):\n",
    "        print(f'Training {self.model.__class__.__name__}\\n')\n",
    "        \n",
    "        scores = []        \n",
    "        oof_pred_probs = np.zeros((X.shape[0], len(np.unique(y))))\n",
    "        test_pred_probs = np.zeros((X_test.shape[0], len(np.unique(y))))\n",
    "        \n",
    "        skf = StratifiedKFold(n_splits=self.n_folds, random_state=SEED, shuffle=True)\n",
    "        for fold_idx, (train_idx, val_idx) in enumerate(skf.split(X, y)):\n",
    "            X_train, X_val = X[train_idx], X[val_idx]\n",
    "            y_train, y_val = y[train_idx], y[val_idx]\n",
    "            \n",
    "            model = clone(self.model)\n",
    "            model.fit(X_train, y_train)\n",
    "            \n",
    "            y_pred_probs = model.predict_proba(X_val)\n",
    "            oof_pred_probs[val_idx] = y_pred_probs            \n",
    "            \n",
    "            score = matthews_corrcoef(y_val, np.argmax(y_pred_probs, axis=1))\n",
    "            scores.append(score)\n",
    "            \n",
    "            temp_test_pred_probs = model.predict_proba(X_test)\n",
    "            test_pred_probs += temp_test_pred_probs / self.n_folds\n",
    "            \n",
    "            del model, X_train, y_train, X_val, y_val, y_pred_probs, temp_test_pred_probs\n",
    "            gc.collect()\n",
    "            \n",
    "            print(f'\\n--- Fold {fold_idx + 1} - MCC: {score:.6f}\\n')            \n",
    "            \n",
    "        self._save_pred_probs(oof_pred_probs, np.mean(scores), 'oof')\n",
    "        self._save_pred_probs(test_pred_probs, np.mean(scores), 'test')\n",
    "        self._save_submission(test_pred_probs, np.mean(scores))\n",
    "        print(f'\\n------ Average MCC: {np.mean(scores):.6f} ± {np.std(scores):.6f}')\n",
    "        \n",
    "    def _save_pred_probs(self, pred_probs, cv_score, name):\n",
    "        model_name = self.model.__class__.__name__.lower().replace('classifier', '')\n",
    "        with open(f'{model_name}_{name}_pred_probs_{cv_score:.6f}.pkl', 'wb') as f:\n",
    "            pickle.dump(pred_probs, f)\n",
    "    \n",
    "    def _save_submission(self, test_pred_probs, score):\n",
    "        name = self.model.__class__.__name__.lower().replace('classifier', '')\n",
    "        sub = pd.read_csv('/kaggle/input/playground-series-s4e8/sample_submission.csv')\n",
    "        sub[TARGET] = np.argmax(test_pred_probs, axis=1)\n",
    "        sub[TARGET] = sub[TARGET].map({0: 'e', 1: 'p'})\n",
    "        sub.to_csv(f'sub_{name}_{score:.6f}.csv', index=False)"
   ]
  },
  {
   "cell_type": "code",
   "execution_count": 13,
   "id": "cb092874",
   "metadata": {
    "execution": {
     "iopub.execute_input": "2024-08-07T04:45:12.190035Z",
     "iopub.status.busy": "2024-08-07T04:45:12.189038Z",
     "iopub.status.idle": "2024-08-07T04:45:12.231061Z",
     "shell.execute_reply": "2024-08-07T04:45:12.230002Z"
    },
    "papermill": {
     "duration": 0.051305,
     "end_time": "2024-08-07T04:45:12.233522",
     "exception": false,
     "start_time": "2024-08-07T04:45:12.182217",
     "status": "completed"
    },
    "tags": []
   },
   "outputs": [],
   "source": [
    "# Reference: https://www.kaggle.com/code/ambrosm/pss4e8-eda-which-makes-sense\n",
    "\n",
    "def get_model(meta):\n",
    "    model = keras.models.Sequential()\n",
    "    model.add(keras.layers.Input(meta['X_shape_'][1:]))\n",
    "    model.add(keras.layers.Dense(356, activation='relu'))\n",
    "    model.add(keras.layers.Dropout(0.1))\n",
    "    model.add(keras.layers.Dense(514, activation='relu'))\n",
    "    model.add(keras.layers.Dropout(0.15))\n",
    "    model.add(keras.layers.Dense(262, activation='relu'))\n",
    "    model.add(keras.layers.Dropout(0.3))\n",
    "    model.add(keras.layers.Dense(1, activation='sigmoid'))\n",
    "    return model\n",
    "\n",
    "model = KerasClassifier(\n",
    "    get_model,\n",
    "    loss='binary_crossentropy',\n",
    "    optimizer=keras.optimizers.Adam(learning_rate=0.00304),\n",
    "    validation_split=0.05,\n",
    "    batch_size=16384,\n",
    "    validation_batch_size=65536,\n",
    "    epochs=50,\n",
    "    verbose=1,\n",
    "    callbacks=[\n",
    "        keras.callbacks.ReduceLROnPlateau(patience=3),\n",
    "        keras.callbacks.EarlyStopping(patience=5, min_delta=0.00003)\n",
    "    ]\n",
    ")"
   ]
  },
  {
   "cell_type": "code",
   "execution_count": 14,
   "id": "7a6f7893",
   "metadata": {
    "_kg_hide-output": true,
    "execution": {
     "iopub.execute_input": "2024-08-07T04:45:12.246574Z",
     "iopub.status.busy": "2024-08-07T04:45:12.246196Z",
     "iopub.status.idle": "2024-08-07T06:50:15.250257Z",
     "shell.execute_reply": "2024-08-07T06:50:15.248703Z"
    },
    "papermill": {
     "duration": 7503.01353,
     "end_time": "2024-08-07T06:50:15.252850",
     "exception": false,
     "start_time": "2024-08-07T04:45:12.239320",
     "status": "completed"
    },
    "tags": []
   },
   "outputs": [
    {
     "name": "stdout",
     "output_type": "stream",
     "text": [
      "Training KerasClassifier\n",
      "\n",
      "Epoch 1/50\n",
      "\u001b[1m145/145\u001b[0m \u001b[32m━━━━━━━━━━━━━━━━━━━━\u001b[0m\u001b[37m\u001b[0m \u001b[1m61s\u001b[0m 411ms/step - loss: 0.2845 - val_loss: 0.0424 - learning_rate: 0.0030\n",
      "Epoch 2/50\n",
      "\u001b[1m145/145\u001b[0m \u001b[32m━━━━━━━━━━━━━━━━━━━━\u001b[0m\u001b[37m\u001b[0m \u001b[1m60s\u001b[0m 410ms/step - loss: 0.0439 - val_loss: 0.0392 - learning_rate: 0.0030\n",
      "Epoch 3/50\n",
      "\u001b[1m145/145\u001b[0m \u001b[32m━━━━━━━━━━━━━━━━━━━━\u001b[0m\u001b[37m\u001b[0m \u001b[1m59s\u001b[0m 408ms/step - loss: 0.0413 - val_loss: 0.0386 - learning_rate: 0.0030\n",
      "Epoch 4/50\n",
      "\u001b[1m145/145\u001b[0m \u001b[32m━━━━━━━━━━━━━━━━━━━━\u001b[0m\u001b[37m\u001b[0m \u001b[1m59s\u001b[0m 407ms/step - loss: 0.0410 - val_loss: 0.0382 - learning_rate: 0.0030\n",
      "Epoch 5/50\n",
      "\u001b[1m145/145\u001b[0m \u001b[32m━━━━━━━━━━━━━━━━━━━━\u001b[0m\u001b[37m\u001b[0m \u001b[1m59s\u001b[0m 407ms/step - loss: 0.0399 - val_loss: 0.0381 - learning_rate: 0.0030\n",
      "Epoch 6/50\n",
      "\u001b[1m145/145\u001b[0m \u001b[32m━━━━━━━━━━━━━━━━━━━━\u001b[0m\u001b[37m\u001b[0m \u001b[1m58s\u001b[0m 402ms/step - loss: 0.0393 - val_loss: 0.0378 - learning_rate: 0.0030\n",
      "Epoch 7/50\n",
      "\u001b[1m145/145\u001b[0m \u001b[32m━━━━━━━━━━━━━━━━━━━━\u001b[0m\u001b[37m\u001b[0m \u001b[1m59s\u001b[0m 407ms/step - loss: 0.0389 - val_loss: 0.0379 - learning_rate: 0.0030\n",
      "Epoch 8/50\n",
      "\u001b[1m145/145\u001b[0m \u001b[32m━━━━━━━━━━━━━━━━━━━━\u001b[0m\u001b[37m\u001b[0m \u001b[1m82s\u001b[0m 406ms/step - loss: 0.0386 - val_loss: 0.0375 - learning_rate: 0.0030\n",
      "Epoch 9/50\n",
      "\u001b[1m145/145\u001b[0m \u001b[32m━━━━━━━━━━━━━━━━━━━━\u001b[0m\u001b[37m\u001b[0m \u001b[1m59s\u001b[0m 405ms/step - loss: 0.0384 - val_loss: 0.0374 - learning_rate: 0.0030\n",
      "Epoch 10/50\n",
      "\u001b[1m145/145\u001b[0m \u001b[32m━━━━━━━━━━━━━━━━━━━━\u001b[0m\u001b[37m\u001b[0m \u001b[1m59s\u001b[0m 403ms/step - loss: 0.0385 - val_loss: 0.0373 - learning_rate: 0.0030\n",
      "Epoch 11/50\n",
      "\u001b[1m145/145\u001b[0m \u001b[32m━━━━━━━━━━━━━━━━━━━━\u001b[0m\u001b[37m\u001b[0m \u001b[1m59s\u001b[0m 407ms/step - loss: 0.0379 - val_loss: 0.0374 - learning_rate: 0.0030\n",
      "Epoch 12/50\n",
      "\u001b[1m145/145\u001b[0m \u001b[32m━━━━━━━━━━━━━━━━━━━━\u001b[0m\u001b[37m\u001b[0m \u001b[1m59s\u001b[0m 404ms/step - loss: 0.0379 - val_loss: 0.0372 - learning_rate: 0.0030\n",
      "Epoch 13/50\n",
      "\u001b[1m145/145\u001b[0m \u001b[32m━━━━━━━━━━━━━━━━━━━━\u001b[0m\u001b[37m\u001b[0m \u001b[1m59s\u001b[0m 407ms/step - loss: 0.0376 - val_loss: 0.0373 - learning_rate: 0.0030\n",
      "Epoch 14/50\n",
      "\u001b[1m145/145\u001b[0m \u001b[32m━━━━━━━━━━━━━━━━━━━━\u001b[0m\u001b[37m\u001b[0m \u001b[1m59s\u001b[0m 406ms/step - loss: 0.0364 - val_loss: 0.0366 - learning_rate: 3.0400e-04\n",
      "Epoch 15/50\n",
      "\u001b[1m145/145\u001b[0m \u001b[32m━━━━━━━━━━━━━━━━━━━━\u001b[0m\u001b[37m\u001b[0m \u001b[1m59s\u001b[0m 404ms/step - loss: 0.0363 - val_loss: 0.0365 - learning_rate: 3.0400e-04\n",
      "Epoch 16/50\n",
      "\u001b[1m145/145\u001b[0m \u001b[32m━━━━━━━━━━━━━━━━━━━━\u001b[0m\u001b[37m\u001b[0m \u001b[1m58s\u001b[0m 401ms/step - loss: 0.0363 - val_loss: 0.0365 - learning_rate: 3.0400e-04\n",
      "Epoch 17/50\n",
      "\u001b[1m145/145\u001b[0m \u001b[32m━━━━━━━━━━━━━━━━━━━━\u001b[0m\u001b[37m\u001b[0m \u001b[1m59s\u001b[0m 405ms/step - loss: 0.0362 - val_loss: 0.0364 - learning_rate: 3.0400e-04\n",
      "Epoch 18/50\n",
      "\u001b[1m145/145\u001b[0m \u001b[32m━━━━━━━━━━━━━━━━━━━━\u001b[0m\u001b[37m\u001b[0m \u001b[1m59s\u001b[0m 407ms/step - loss: 0.0362 - val_loss: 0.0365 - learning_rate: 3.0400e-04\n",
      "Epoch 19/50\n",
      "\u001b[1m145/145\u001b[0m \u001b[32m━━━━━━━━━━━━━━━━━━━━\u001b[0m\u001b[37m\u001b[0m \u001b[1m59s\u001b[0m 409ms/step - loss: 0.0360 - val_loss: 0.0365 - learning_rate: 3.0400e-05\n",
      "Epoch 20/50\n",
      "\u001b[1m145/145\u001b[0m \u001b[32m━━━━━━━━━━━━━━━━━━━━\u001b[0m\u001b[37m\u001b[0m \u001b[1m59s\u001b[0m 407ms/step - loss: 0.0355 - val_loss: 0.0364 - learning_rate: 3.0400e-05\n",
      "Epoch 21/50\n",
      "\u001b[1m145/145\u001b[0m \u001b[32m━━━━━━━━━━━━━━━━━━━━\u001b[0m\u001b[37m\u001b[0m \u001b[1m82s\u001b[0m 405ms/step - loss: 0.0359 - val_loss: 0.0364 - learning_rate: 3.0400e-05\n",
      "Epoch 22/50\n",
      "\u001b[1m145/145\u001b[0m \u001b[32m━━━━━━━━━━━━━━━━━━━━\u001b[0m\u001b[37m\u001b[0m \u001b[1m82s\u001b[0m 405ms/step - loss: 0.0359 - val_loss: 0.0364 - learning_rate: 3.0400e-06\n",
      "\u001b[1m39/39\u001b[0m \u001b[32m━━━━━━━━━━━━━━━━━━━━\u001b[0m\u001b[37m\u001b[0m \u001b[1m5s\u001b[0m 123ms/step\n",
      "\u001b[1m127/127\u001b[0m \u001b[32m━━━━━━━━━━━━━━━━━━━━\u001b[0m\u001b[37m\u001b[0m \u001b[1m19s\u001b[0m 145ms/step\n",
      "\n",
      "--- Fold 1 - MCC: 0.984066\n",
      "\n",
      "Epoch 1/50\n",
      "\u001b[1m145/145\u001b[0m \u001b[32m━━━━━━━━━━━━━━━━━━━━\u001b[0m\u001b[37m\u001b[0m \u001b[1m61s\u001b[0m 412ms/step - loss: 0.2503 - val_loss: 0.0421 - learning_rate: 0.0030\n",
      "Epoch 2/50\n",
      "\u001b[1m145/145\u001b[0m \u001b[32m━━━━━━━━━━━━━━━━━━━━\u001b[0m\u001b[37m\u001b[0m \u001b[1m59s\u001b[0m 408ms/step - loss: 0.0438 - val_loss: 0.0400 - learning_rate: 0.0030\n",
      "Epoch 3/50\n",
      "\u001b[1m145/145\u001b[0m \u001b[32m━━━━━━━━━━━━━━━━━━━━\u001b[0m\u001b[37m\u001b[0m \u001b[1m59s\u001b[0m 404ms/step - loss: 0.0414 - val_loss: 0.0393 - learning_rate: 0.0030\n",
      "Epoch 4/50\n",
      "\u001b[1m145/145\u001b[0m \u001b[32m━━━━━━━━━━━━━━━━━━━━\u001b[0m\u001b[37m\u001b[0m \u001b[1m59s\u001b[0m 408ms/step - loss: 0.0406 - val_loss: 0.0391 - learning_rate: 0.0030\n",
      "Epoch 5/50\n",
      "\u001b[1m145/145\u001b[0m \u001b[32m━━━━━━━━━━━━━━━━━━━━\u001b[0m\u001b[37m\u001b[0m \u001b[1m59s\u001b[0m 408ms/step - loss: 0.0397 - val_loss: 0.0392 - learning_rate: 0.0030\n",
      "Epoch 6/50\n",
      "\u001b[1m145/145\u001b[0m \u001b[32m━━━━━━━━━━━━━━━━━━━━\u001b[0m\u001b[37m\u001b[0m \u001b[1m82s\u001b[0m 410ms/step - loss: 0.0392 - val_loss: 0.0384 - learning_rate: 0.0030\n",
      "Epoch 7/50\n",
      "\u001b[1m145/145\u001b[0m \u001b[32m━━━━━━━━━━━━━━━━━━━━\u001b[0m\u001b[37m\u001b[0m \u001b[1m82s\u001b[0m 410ms/step - loss: 0.0384 - val_loss: 0.0385 - learning_rate: 0.0030\n",
      "Epoch 8/50\n",
      "\u001b[1m145/145\u001b[0m \u001b[32m━━━━━━━━━━━━━━━━━━━━\u001b[0m\u001b[37m\u001b[0m \u001b[1m59s\u001b[0m 409ms/step - loss: 0.0387 - val_loss: 0.0385 - learning_rate: 0.0030\n",
      "Epoch 9/50\n",
      "\u001b[1m145/145\u001b[0m \u001b[32m━━━━━━━━━━━━━━━━━━━━\u001b[0m\u001b[37m\u001b[0m \u001b[1m59s\u001b[0m 408ms/step - loss: 0.0384 - val_loss: 0.0381 - learning_rate: 0.0030\n",
      "Epoch 10/50\n",
      "\u001b[1m145/145\u001b[0m \u001b[32m━━━━━━━━━━━━━━━━━━━━\u001b[0m\u001b[37m\u001b[0m \u001b[1m68s\u001b[0m 470ms/step - loss: 0.0376 - val_loss: 0.0380 - learning_rate: 0.0030\n",
      "Epoch 11/50\n",
      "\u001b[1m145/145\u001b[0m \u001b[32m━━━━━━━━━━━━━━━━━━━━\u001b[0m\u001b[37m\u001b[0m \u001b[1m60s\u001b[0m 410ms/step - loss: 0.0381 - val_loss: 0.0382 - learning_rate: 0.0030\n",
      "Epoch 12/50\n",
      "\u001b[1m145/145\u001b[0m \u001b[32m━━━━━━━━━━━━━━━━━━━━\u001b[0m\u001b[37m\u001b[0m \u001b[1m59s\u001b[0m 408ms/step - loss: 0.0371 - val_loss: 0.0380 - learning_rate: 0.0030\n",
      "Epoch 13/50\n",
      "\u001b[1m145/145\u001b[0m \u001b[32m━━━━━━━━━━━━━━━━━━━━\u001b[0m\u001b[37m\u001b[0m \u001b[1m60s\u001b[0m 414ms/step - loss: 0.0374 - val_loss: 0.0382 - learning_rate: 0.0030\n",
      "Epoch 14/50\n",
      "\u001b[1m145/145\u001b[0m \u001b[32m━━━━━━━━━━━━━━━━━━━━\u001b[0m\u001b[37m\u001b[0m \u001b[1m81s\u001b[0m 410ms/step - loss: 0.0362 - val_loss: 0.0373 - learning_rate: 3.0400e-04\n",
      "Epoch 15/50\n",
      "\u001b[1m145/145\u001b[0m \u001b[32m━━━━━━━━━━━━━━━━━━━━\u001b[0m\u001b[37m\u001b[0m \u001b[1m59s\u001b[0m 407ms/step - loss: 0.0361 - val_loss: 0.0372 - learning_rate: 3.0400e-04\n",
      "Epoch 16/50\n",
      "\u001b[1m145/145\u001b[0m \u001b[32m━━━━━━━━━━━━━━━━━━━━\u001b[0m\u001b[37m\u001b[0m \u001b[1m83s\u001b[0m 414ms/step - loss: 0.0358 - val_loss: 0.0372 - learning_rate: 3.0400e-04\n",
      "Epoch 17/50\n",
      "\u001b[1m145/145\u001b[0m \u001b[32m━━━━━━━━━━━━━━━━━━━━\u001b[0m\u001b[37m\u001b[0m \u001b[1m60s\u001b[0m 414ms/step - loss: 0.0356 - val_loss: 0.0372 - learning_rate: 3.0400e-04\n",
      "Epoch 18/50\n",
      "\u001b[1m145/145\u001b[0m \u001b[32m━━━━━━━━━━━━━━━━━━━━\u001b[0m\u001b[37m\u001b[0m \u001b[1m60s\u001b[0m 413ms/step - loss: 0.0355 - val_loss: 0.0372 - learning_rate: 3.0400e-04\n",
      "Epoch 19/50\n",
      "\u001b[1m145/145\u001b[0m \u001b[32m━━━━━━━━━━━━━━━━━━━━\u001b[0m\u001b[37m\u001b[0m \u001b[1m69s\u001b[0m 472ms/step - loss: 0.0354 - val_loss: 0.0372 - learning_rate: 3.0400e-05\n",
      "Epoch 20/50\n",
      "\u001b[1m145/145\u001b[0m \u001b[32m━━━━━━━━━━━━━━━━━━━━\u001b[0m\u001b[37m\u001b[0m \u001b[1m73s\u001b[0m 410ms/step - loss: 0.0355 - val_loss: 0.0371 - learning_rate: 3.0400e-05\n",
      "Epoch 21/50\n",
      "\u001b[1m145/145\u001b[0m \u001b[32m━━━━━━━━━━━━━━━━━━━━\u001b[0m\u001b[37m\u001b[0m \u001b[1m60s\u001b[0m 410ms/step - loss: 0.0350 - val_loss: 0.0371 - learning_rate: 3.0400e-05\n",
      "Epoch 22/50\n",
      "\u001b[1m145/145\u001b[0m \u001b[32m━━━━━━━━━━━━━━━━━━━━\u001b[0m\u001b[37m\u001b[0m \u001b[1m60s\u001b[0m 413ms/step - loss: 0.0349 - val_loss: 0.0371 - learning_rate: 3.0400e-06\n",
      "Epoch 23/50\n",
      "\u001b[1m145/145\u001b[0m \u001b[32m━━━━━━━━━━━━━━━━━━━━\u001b[0m\u001b[37m\u001b[0m \u001b[1m60s\u001b[0m 412ms/step - loss: 0.0351 - val_loss: 0.0371 - learning_rate: 3.0400e-06\n",
      "Epoch 24/50\n",
      "\u001b[1m145/145\u001b[0m \u001b[32m━━━━━━━━━━━━━━━━━━━━\u001b[0m\u001b[37m\u001b[0m \u001b[1m62s\u001b[0m 425ms/step - loss: 0.0348 - val_loss: 0.0371 - learning_rate: 3.0400e-06\n",
      "Epoch 25/50\n",
      "\u001b[1m145/145\u001b[0m \u001b[32m━━━━━━━━━━━━━━━━━━━━\u001b[0m\u001b[37m\u001b[0m \u001b[1m60s\u001b[0m 416ms/step - loss: 0.0353 - val_loss: 0.0371 - learning_rate: 3.0400e-07\n",
      "\u001b[1m39/39\u001b[0m \u001b[32m━━━━━━━━━━━━━━━━━━━━\u001b[0m\u001b[37m\u001b[0m \u001b[1m4s\u001b[0m 107ms/step\n",
      "\u001b[1m127/127\u001b[0m \u001b[32m━━━━━━━━━━━━━━━━━━━━\u001b[0m\u001b[37m\u001b[0m \u001b[1m14s\u001b[0m 110ms/step\n",
      "\n",
      "--- Fold 2 - MCC: 0.984392\n",
      "\n",
      "Epoch 1/50\n",
      "\u001b[1m145/145\u001b[0m \u001b[32m━━━━━━━━━━━━━━━━━━━━\u001b[0m\u001b[37m\u001b[0m \u001b[1m61s\u001b[0m 411ms/step - loss: 0.2818 - val_loss: 0.0427 - learning_rate: 0.0030\n",
      "Epoch 2/50\n",
      "\u001b[1m145/145\u001b[0m \u001b[32m━━━━━━━━━━━━━━━━━━━━\u001b[0m\u001b[37m\u001b[0m \u001b[1m60s\u001b[0m 413ms/step - loss: 0.0433 - val_loss: 0.0403 - learning_rate: 0.0030\n",
      "Epoch 3/50\n",
      "\u001b[1m145/145\u001b[0m \u001b[32m━━━━━━━━━━━━━━━━━━━━\u001b[0m\u001b[37m\u001b[0m \u001b[1m59s\u001b[0m 407ms/step - loss: 0.0415 - val_loss: 0.0401 - learning_rate: 0.0030\n",
      "Epoch 4/50\n",
      "\u001b[1m145/145\u001b[0m \u001b[32m━━━━━━━━━━━━━━━━━━━━\u001b[0m\u001b[37m\u001b[0m \u001b[1m83s\u001b[0m 411ms/step - loss: 0.0406 - val_loss: 0.0393 - learning_rate: 0.0030\n",
      "Epoch 5/50\n",
      "\u001b[1m145/145\u001b[0m \u001b[32m━━━━━━━━━━━━━━━━━━━━\u001b[0m\u001b[37m\u001b[0m \u001b[1m60s\u001b[0m 410ms/step - loss: 0.0400 - val_loss: 0.0390 - learning_rate: 0.0030\n",
      "Epoch 6/50\n",
      "\u001b[1m145/145\u001b[0m \u001b[32m━━━━━━━━━━━━━━━━━━━━\u001b[0m\u001b[37m\u001b[0m \u001b[1m59s\u001b[0m 409ms/step - loss: 0.0394 - val_loss: 0.0388 - learning_rate: 0.0030\n",
      "Epoch 7/50\n",
      "\u001b[1m145/145\u001b[0m \u001b[32m━━━━━━━━━━━━━━━━━━━━\u001b[0m\u001b[37m\u001b[0m \u001b[1m59s\u001b[0m 407ms/step - loss: 0.0386 - val_loss: 0.0390 - learning_rate: 0.0030\n",
      "Epoch 8/50\n",
      "\u001b[1m145/145\u001b[0m \u001b[32m━━━━━━━━━━━━━━━━━━━━\u001b[0m\u001b[37m\u001b[0m \u001b[1m60s\u001b[0m 410ms/step - loss: 0.0382 - val_loss: 0.0382 - learning_rate: 0.0030\n",
      "Epoch 9/50\n",
      "\u001b[1m145/145\u001b[0m \u001b[32m━━━━━━━━━━━━━━━━━━━━\u001b[0m\u001b[37m\u001b[0m \u001b[1m60s\u001b[0m 414ms/step - loss: 0.0380 - val_loss: 0.0383 - learning_rate: 0.0030\n",
      "Epoch 10/50\n",
      "\u001b[1m145/145\u001b[0m \u001b[32m━━━━━━━━━━━━━━━━━━━━\u001b[0m\u001b[37m\u001b[0m \u001b[1m83s\u001b[0m 423ms/step - loss: 0.0381 - val_loss: 0.0380 - learning_rate: 0.0030\n",
      "Epoch 11/50\n",
      "\u001b[1m145/145\u001b[0m \u001b[32m━━━━━━━━━━━━━━━━━━━━\u001b[0m\u001b[37m\u001b[0m \u001b[1m60s\u001b[0m 412ms/step - loss: 0.0377 - val_loss: 0.0382 - learning_rate: 0.0030\n",
      "Epoch 12/50\n",
      "\u001b[1m145/145\u001b[0m \u001b[32m━━━━━━━━━━━━━━━━━━━━\u001b[0m\u001b[37m\u001b[0m \u001b[1m59s\u001b[0m 409ms/step - loss: 0.0372 - val_loss: 0.0386 - learning_rate: 0.0030\n",
      "Epoch 13/50\n",
      "\u001b[1m145/145\u001b[0m \u001b[32m━━━━━━━━━━━━━━━━━━━━\u001b[0m\u001b[37m\u001b[0m \u001b[1m60s\u001b[0m 412ms/step - loss: 0.0377 - val_loss: 0.0380 - learning_rate: 0.0030\n",
      "Epoch 14/50\n",
      "\u001b[1m145/145\u001b[0m \u001b[32m━━━━━━━━━━━━━━━━━━━━\u001b[0m\u001b[37m\u001b[0m \u001b[1m60s\u001b[0m 415ms/step - loss: 0.0362 - val_loss: 0.0374 - learning_rate: 3.0400e-04\n",
      "Epoch 15/50\n",
      "\u001b[1m145/145\u001b[0m \u001b[32m━━━━━━━━━━━━━━━━━━━━\u001b[0m\u001b[37m\u001b[0m \u001b[1m60s\u001b[0m 412ms/step - loss: 0.0356 - val_loss: 0.0373 - learning_rate: 3.0400e-04\n",
      "Epoch 16/50\n",
      "\u001b[1m145/145\u001b[0m \u001b[32m━━━━━━━━━━━━━━━━━━━━\u001b[0m\u001b[37m\u001b[0m \u001b[1m60s\u001b[0m 411ms/step - loss: 0.0354 - val_loss: 0.0373 - learning_rate: 3.0400e-04\n",
      "Epoch 17/50\n",
      "\u001b[1m145/145\u001b[0m \u001b[32m━━━━━━━━━━━━━━━━━━━━\u001b[0m\u001b[37m\u001b[0m \u001b[1m60s\u001b[0m 411ms/step - loss: 0.0356 - val_loss: 0.0373 - learning_rate: 3.0400e-04\n",
      "Epoch 18/50\n",
      "\u001b[1m145/145\u001b[0m \u001b[32m━━━━━━━━━━━━━━━━━━━━\u001b[0m\u001b[37m\u001b[0m \u001b[1m60s\u001b[0m 412ms/step - loss: 0.0354 - val_loss: 0.0373 - learning_rate: 3.0400e-05\n",
      "Epoch 19/50\n",
      "\u001b[1m145/145\u001b[0m \u001b[32m━━━━━━━━━━━━━━━━━━━━\u001b[0m\u001b[37m\u001b[0m \u001b[1m59s\u001b[0m 408ms/step - loss: 0.0349 - val_loss: 0.0372 - learning_rate: 3.0400e-05\n",
      "Epoch 20/50\n",
      "\u001b[1m145/145\u001b[0m \u001b[32m━━━━━━━━━━━━━━━━━━━━\u001b[0m\u001b[37m\u001b[0m \u001b[1m60s\u001b[0m 412ms/step - loss: 0.0351 - val_loss: 0.0372 - learning_rate: 3.0400e-05\n",
      "Epoch 21/50\n",
      "\u001b[1m145/145\u001b[0m \u001b[32m━━━━━━━━━━━━━━━━━━━━\u001b[0m\u001b[37m\u001b[0m \u001b[1m82s\u001b[0m 412ms/step - loss: 0.0351 - val_loss: 0.0372 - learning_rate: 3.0400e-05\n",
      "Epoch 22/50\n",
      "\u001b[1m145/145\u001b[0m \u001b[32m━━━━━━━━━━━━━━━━━━━━\u001b[0m\u001b[37m\u001b[0m \u001b[1m61s\u001b[0m 417ms/step - loss: 0.0357 - val_loss: 0.0372 - learning_rate: 3.0400e-06\n",
      "Epoch 23/50\n",
      "\u001b[1m145/145\u001b[0m \u001b[32m━━━━━━━━━━━━━━━━━━━━\u001b[0m\u001b[37m\u001b[0m \u001b[1m60s\u001b[0m 414ms/step - loss: 0.0355 - val_loss: 0.0372 - learning_rate: 3.0400e-06\n",
      "Epoch 24/50\n",
      "\u001b[1m145/145\u001b[0m \u001b[32m━━━━━━━━━━━━━━━━━━━━\u001b[0m\u001b[37m\u001b[0m \u001b[1m60s\u001b[0m 409ms/step - loss: 0.0351 - val_loss: 0.0372 - learning_rate: 3.0400e-06\n",
      "\u001b[1m39/39\u001b[0m \u001b[32m━━━━━━━━━━━━━━━━━━━━\u001b[0m\u001b[37m\u001b[0m \u001b[1m4s\u001b[0m 113ms/step\n",
      "\u001b[1m127/127\u001b[0m \u001b[32m━━━━━━━━━━━━━━━━━━━━\u001b[0m\u001b[37m\u001b[0m \u001b[1m14s\u001b[0m 108ms/step\n",
      "\n",
      "--- Fold 3 - MCC: 0.984091\n",
      "\n",
      "Epoch 1/50\n",
      "\u001b[1m145/145\u001b[0m \u001b[32m━━━━━━━━━━━━━━━━━━━━\u001b[0m\u001b[37m\u001b[0m \u001b[1m62s\u001b[0m 415ms/step - loss: 0.2149 - val_loss: 0.0429 - learning_rate: 0.0030\n",
      "Epoch 2/50\n",
      "\u001b[1m145/145\u001b[0m \u001b[32m━━━━━━━━━━━━━━━━━━━━\u001b[0m\u001b[37m\u001b[0m \u001b[1m59s\u001b[0m 409ms/step - loss: 0.0430 - val_loss: 0.0408 - learning_rate: 0.0030\n",
      "Epoch 3/50\n",
      "\u001b[1m145/145\u001b[0m \u001b[32m━━━━━━━━━━━━━━━━━━━━\u001b[0m\u001b[37m\u001b[0m \u001b[1m81s\u001b[0m 405ms/step - loss: 0.0411 - val_loss: 0.0401 - learning_rate: 0.0030\n",
      "Epoch 4/50\n",
      "\u001b[1m145/145\u001b[0m \u001b[32m━━━━━━━━━━━━━━━━━━━━\u001b[0m\u001b[37m\u001b[0m \u001b[1m82s\u001b[0m 407ms/step - loss: 0.0399 - val_loss: 0.0395 - learning_rate: 0.0030\n",
      "Epoch 5/50\n",
      "\u001b[1m145/145\u001b[0m \u001b[32m━━━━━━━━━━━━━━━━━━━━\u001b[0m\u001b[37m\u001b[0m \u001b[1m60s\u001b[0m 412ms/step - loss: 0.0390 - val_loss: 0.0390 - learning_rate: 0.0030\n",
      "Epoch 6/50\n",
      "\u001b[1m145/145\u001b[0m \u001b[32m━━━━━━━━━━━━━━━━━━━━\u001b[0m\u001b[37m\u001b[0m \u001b[1m60s\u001b[0m 412ms/step - loss: 0.0385 - val_loss: 0.0387 - learning_rate: 0.0030\n",
      "Epoch 7/50\n",
      "\u001b[1m145/145\u001b[0m \u001b[32m━━━━━━━━━━━━━━━━━━━━\u001b[0m\u001b[37m\u001b[0m \u001b[1m82s\u001b[0m 413ms/step - loss: 0.0385 - val_loss: 0.0384 - learning_rate: 0.0030\n",
      "Epoch 8/50\n",
      "\u001b[1m145/145\u001b[0m \u001b[32m━━━━━━━━━━━━━━━━━━━━\u001b[0m\u001b[37m\u001b[0m \u001b[1m60s\u001b[0m 415ms/step - loss: 0.0380 - val_loss: 0.0381 - learning_rate: 0.0030\n",
      "Epoch 9/50\n",
      "\u001b[1m145/145\u001b[0m \u001b[32m━━━━━━━━━━━━━━━━━━━━\u001b[0m\u001b[37m\u001b[0m \u001b[1m60s\u001b[0m 412ms/step - loss: 0.0381 - val_loss: 0.0379 - learning_rate: 0.0030\n",
      "Epoch 10/50\n",
      "\u001b[1m145/145\u001b[0m \u001b[32m━━━━━━━━━━━━━━━━━━━━\u001b[0m\u001b[37m\u001b[0m \u001b[1m60s\u001b[0m 414ms/step - loss: 0.0377 - val_loss: 0.0382 - learning_rate: 0.0030\n",
      "Epoch 11/50\n",
      "\u001b[1m145/145\u001b[0m \u001b[32m━━━━━━━━━━━━━━━━━━━━\u001b[0m\u001b[37m\u001b[0m \u001b[1m60s\u001b[0m 413ms/step - loss: 0.0375 - val_loss: 0.0377 - learning_rate: 0.0030\n",
      "Epoch 12/50\n",
      "\u001b[1m145/145\u001b[0m \u001b[32m━━━━━━━━━━━━━━━━━━━━\u001b[0m\u001b[37m\u001b[0m \u001b[1m60s\u001b[0m 414ms/step - loss: 0.0375 - val_loss: 0.0380 - learning_rate: 0.0030\n",
      "Epoch 13/50\n",
      "\u001b[1m145/145\u001b[0m \u001b[32m━━━━━━━━━━━━━━━━━━━━\u001b[0m\u001b[37m\u001b[0m \u001b[1m60s\u001b[0m 411ms/step - loss: 0.0372 - val_loss: 0.0382 - learning_rate: 0.0030\n",
      "Epoch 14/50\n",
      "\u001b[1m145/145\u001b[0m \u001b[32m━━━━━━━━━━━━━━━━━━━━\u001b[0m\u001b[37m\u001b[0m \u001b[1m61s\u001b[0m 417ms/step - loss: 0.0366 - val_loss: 0.0379 - learning_rate: 0.0030\n",
      "Epoch 15/50\n",
      "\u001b[1m145/145\u001b[0m \u001b[32m━━━━━━━━━━━━━━━━━━━━\u001b[0m\u001b[37m\u001b[0m \u001b[1m60s\u001b[0m 412ms/step - loss: 0.0359 - val_loss: 0.0369 - learning_rate: 3.0400e-04\n",
      "Epoch 16/50\n",
      "\u001b[1m145/145\u001b[0m \u001b[32m━━━━━━━━━━━━━━━━━━━━\u001b[0m\u001b[37m\u001b[0m \u001b[1m61s\u001b[0m 421ms/step - loss: 0.0354 - val_loss: 0.0368 - learning_rate: 3.0400e-04\n",
      "Epoch 17/50\n",
      "\u001b[1m145/145\u001b[0m \u001b[32m━━━━━━━━━━━━━━━━━━━━\u001b[0m\u001b[37m\u001b[0m \u001b[1m61s\u001b[0m 417ms/step - loss: 0.0353 - val_loss: 0.0368 - learning_rate: 3.0400e-04\n",
      "Epoch 18/50\n",
      "\u001b[1m145/145\u001b[0m \u001b[32m━━━━━━━━━━━━━━━━━━━━\u001b[0m\u001b[37m\u001b[0m \u001b[1m81s\u001b[0m 411ms/step - loss: 0.0352 - val_loss: 0.0371 - learning_rate: 3.0400e-04\n",
      "Epoch 19/50\n",
      "\u001b[1m145/145\u001b[0m \u001b[32m━━━━━━━━━━━━━━━━━━━━\u001b[0m\u001b[37m\u001b[0m \u001b[1m60s\u001b[0m 413ms/step - loss: 0.0345 - val_loss: 0.0371 - learning_rate: 3.0400e-05\n",
      "Epoch 20/50\n",
      "\u001b[1m145/145\u001b[0m \u001b[32m━━━━━━━━━━━━━━━━━━━━\u001b[0m\u001b[37m\u001b[0m \u001b[1m60s\u001b[0m 415ms/step - loss: 0.0350 - val_loss: 0.0371 - learning_rate: 3.0400e-05\n",
      "Epoch 21/50\n",
      "\u001b[1m145/145\u001b[0m \u001b[32m━━━━━━━━━━━━━━━━━━━━\u001b[0m\u001b[37m\u001b[0m \u001b[1m60s\u001b[0m 410ms/step - loss: 0.0349 - val_loss: 0.0371 - learning_rate: 3.0400e-05\n",
      "\u001b[1m39/39\u001b[0m \u001b[32m━━━━━━━━━━━━━━━━━━━━\u001b[0m\u001b[37m\u001b[0m \u001b[1m4s\u001b[0m 106ms/step\n",
      "\u001b[1m127/127\u001b[0m \u001b[32m━━━━━━━━━━━━━━━━━━━━\u001b[0m\u001b[37m\u001b[0m \u001b[1m14s\u001b[0m 113ms/step\n",
      "\n",
      "--- Fold 4 - MCC: 0.984270\n",
      "\n",
      "Epoch 1/50\n",
      "\u001b[1m145/145\u001b[0m \u001b[32m━━━━━━━━━━━━━━━━━━━━\u001b[0m\u001b[37m\u001b[0m \u001b[1m62s\u001b[0m 415ms/step - loss: 0.2264 - val_loss: 0.0413 - learning_rate: 0.0030\n",
      "Epoch 2/50\n",
      "\u001b[1m145/145\u001b[0m \u001b[32m━━━━━━━━━━━━━━━━━━━━\u001b[0m\u001b[37m\u001b[0m \u001b[1m60s\u001b[0m 411ms/step - loss: 0.0432 - val_loss: 0.0395 - learning_rate: 0.0030\n",
      "Epoch 3/50\n",
      "\u001b[1m145/145\u001b[0m \u001b[32m━━━━━━━━━━━━━━━━━━━━\u001b[0m\u001b[37m\u001b[0m \u001b[1m59s\u001b[0m 407ms/step - loss: 0.0408 - val_loss: 0.0384 - learning_rate: 0.0030\n",
      "Epoch 4/50\n",
      "\u001b[1m145/145\u001b[0m \u001b[32m━━━━━━━━━━━━━━━━━━━━\u001b[0m\u001b[37m\u001b[0m \u001b[1m60s\u001b[0m 416ms/step - loss: 0.0403 - val_loss: 0.0380 - learning_rate: 0.0030\n",
      "Epoch 5/50\n",
      "\u001b[1m145/145\u001b[0m \u001b[32m━━━━━━━━━━━━━━━━━━━━\u001b[0m\u001b[37m\u001b[0m \u001b[1m60s\u001b[0m 412ms/step - loss: 0.0393 - val_loss: 0.0381 - learning_rate: 0.0030\n",
      "Epoch 6/50\n",
      "\u001b[1m145/145\u001b[0m \u001b[32m━━━━━━━━━━━━━━━━━━━━\u001b[0m\u001b[37m\u001b[0m \u001b[1m63s\u001b[0m 436ms/step - loss: 0.0390 - val_loss: 0.0375 - learning_rate: 0.0030\n",
      "Epoch 7/50\n",
      "\u001b[1m145/145\u001b[0m \u001b[32m━━━━━━━━━━━━━━━━━━━━\u001b[0m\u001b[37m\u001b[0m \u001b[1m61s\u001b[0m 417ms/step - loss: 0.0388 - val_loss: 0.0377 - learning_rate: 0.0030\n",
      "Epoch 8/50\n",
      "\u001b[1m145/145\u001b[0m \u001b[32m━━━━━━━━━━━━━━━━━━━━\u001b[0m\u001b[37m\u001b[0m \u001b[1m61s\u001b[0m 418ms/step - loss: 0.0380 - val_loss: 0.0372 - learning_rate: 0.0030\n",
      "Epoch 9/50\n",
      "\u001b[1m145/145\u001b[0m \u001b[32m━━━━━━━━━━━━━━━━━━━━\u001b[0m\u001b[37m\u001b[0m \u001b[1m60s\u001b[0m 413ms/step - loss: 0.0375 - val_loss: 0.0375 - learning_rate: 0.0030\n",
      "Epoch 10/50\n",
      "\u001b[1m145/145\u001b[0m \u001b[32m━━━━━━━━━━━━━━━━━━━━\u001b[0m\u001b[37m\u001b[0m \u001b[1m83s\u001b[0m 420ms/step - loss: 0.0377 - val_loss: 0.0374 - learning_rate: 0.0030\n",
      "Epoch 11/50\n",
      "\u001b[1m145/145\u001b[0m \u001b[32m━━━━━━━━━━━━━━━━━━━━\u001b[0m\u001b[37m\u001b[0m \u001b[1m60s\u001b[0m 413ms/step - loss: 0.0375 - val_loss: 0.0375 - learning_rate: 0.0030\n",
      "Epoch 12/50\n",
      "\u001b[1m145/145\u001b[0m \u001b[32m━━━━━━━━━━━━━━━━━━━━\u001b[0m\u001b[37m\u001b[0m \u001b[1m60s\u001b[0m 416ms/step - loss: 0.0367 - val_loss: 0.0366 - learning_rate: 3.0400e-04\n",
      "Epoch 13/50\n",
      "\u001b[1m145/145\u001b[0m \u001b[32m━━━━━━━━━━━━━━━━━━━━\u001b[0m\u001b[37m\u001b[0m \u001b[1m60s\u001b[0m 415ms/step - loss: 0.0360 - val_loss: 0.0366 - learning_rate: 3.0400e-04\n",
      "Epoch 14/50\n",
      "\u001b[1m145/145\u001b[0m \u001b[32m━━━━━━━━━━━━━━━━━━━━\u001b[0m\u001b[37m\u001b[0m \u001b[1m61s\u001b[0m 420ms/step - loss: 0.0359 - val_loss: 0.0364 - learning_rate: 3.0400e-04\n",
      "Epoch 15/50\n",
      "\u001b[1m145/145\u001b[0m \u001b[32m━━━━━━━━━━━━━━━━━━━━\u001b[0m\u001b[37m\u001b[0m \u001b[1m81s\u001b[0m 413ms/step - loss: 0.0350 - val_loss: 0.0365 - learning_rate: 3.0400e-04\n",
      "Epoch 16/50\n",
      "\u001b[1m145/145\u001b[0m \u001b[32m━━━━━━━━━━━━━━━━━━━━\u001b[0m\u001b[37m\u001b[0m \u001b[1m60s\u001b[0m 414ms/step - loss: 0.0357 - val_loss: 0.0365 - learning_rate: 3.0400e-04\n",
      "Epoch 17/50\n",
      "\u001b[1m145/145\u001b[0m \u001b[32m━━━━━━━━━━━━━━━━━━━━\u001b[0m\u001b[37m\u001b[0m \u001b[1m83s\u001b[0m 421ms/step - loss: 0.0352 - val_loss: 0.0364 - learning_rate: 3.0400e-04\n",
      "Epoch 18/50\n",
      "\u001b[1m145/145\u001b[0m \u001b[32m━━━━━━━━━━━━━━━━━━━━\u001b[0m\u001b[37m\u001b[0m \u001b[1m60s\u001b[0m 416ms/step - loss: 0.0350 - val_loss: 0.0364 - learning_rate: 3.0400e-05\n",
      "Epoch 19/50\n",
      "\u001b[1m145/145\u001b[0m \u001b[32m━━━━━━━━━━━━━━━━━━━━\u001b[0m\u001b[37m\u001b[0m \u001b[1m60s\u001b[0m 411ms/step - loss: 0.0354 - val_loss: 0.0364 - learning_rate: 3.0400e-05\n",
      "Epoch 20/50\n",
      "\u001b[1m145/145\u001b[0m \u001b[32m━━━━━━━━━━━━━━━━━━━━\u001b[0m\u001b[37m\u001b[0m \u001b[1m60s\u001b[0m 416ms/step - loss: 0.0349 - val_loss: 0.0364 - learning_rate: 3.0400e-05\n",
      "Epoch 21/50\n",
      "\u001b[1m145/145\u001b[0m \u001b[32m━━━━━━━━━━━━━━━━━━━━\u001b[0m\u001b[37m\u001b[0m \u001b[1m59s\u001b[0m 409ms/step - loss: 0.0350 - val_loss: 0.0364 - learning_rate: 3.0400e-06\n",
      "Epoch 22/50\n",
      "\u001b[1m145/145\u001b[0m \u001b[32m━━━━━━━━━━━━━━━━━━━━\u001b[0m\u001b[37m\u001b[0m \u001b[1m60s\u001b[0m 410ms/step - loss: 0.0353 - val_loss: 0.0364 - learning_rate: 3.0400e-06\n",
      "Epoch 23/50\n",
      "\u001b[1m145/145\u001b[0m \u001b[32m━━━━━━━━━━━━━━━━━━━━\u001b[0m\u001b[37m\u001b[0m \u001b[1m59s\u001b[0m 407ms/step - loss: 0.0358 - val_loss: 0.0364 - learning_rate: 3.0400e-06\n",
      "Epoch 24/50\n",
      "\u001b[1m145/145\u001b[0m \u001b[32m━━━━━━━━━━━━━━━━━━━━\u001b[0m\u001b[37m\u001b[0m \u001b[1m60s\u001b[0m 414ms/step - loss: 0.0345 - val_loss: 0.0364 - learning_rate: 3.0400e-07\n",
      "\u001b[1m39/39\u001b[0m \u001b[32m━━━━━━━━━━━━━━━━━━━━\u001b[0m\u001b[37m\u001b[0m \u001b[1m4s\u001b[0m 112ms/step\n",
      "\u001b[1m127/127\u001b[0m \u001b[32m━━━━━━━━━━━━━━━━━━━━\u001b[0m\u001b[37m\u001b[0m \u001b[1m14s\u001b[0m 106ms/step\n",
      "\n",
      "--- Fold 5 - MCC: 0.984201\n",
      "\n",
      "\n",
      "------ Average MCC: 0.984204 ± 0.000120\n"
     ]
    }
   ],
   "source": [
    "trainer = Trainer(model)\n",
    "trainer.fit_predict(X, y, X_test)"
   ]
  }
 ],
 "metadata": {
  "kaggle": {
   "accelerator": "none",
   "dataSources": [
    {
     "databundleVersionId": 9045607,
     "sourceId": 76727,
     "sourceType": "competition"
    }
   ],
   "dockerImageVersionId": 30746,
   "isGpuEnabled": false,
   "isInternetEnabled": true,
   "language": "python",
   "sourceType": "notebook"
  },
  "kernelspec": {
   "display_name": "Python 3",
   "language": "python",
   "name": "python3"
  },
  "language_info": {
   "codemirror_mode": {
    "name": "ipython",
    "version": 3
   },
   "file_extension": ".py",
   "mimetype": "text/x-python",
   "name": "python",
   "nbconvert_exporter": "python",
   "pygments_lexer": "ipython3",
   "version": "3.10.13"
  },
  "papermill": {
   "default_parameters": {},
   "duration": 7727.377321,
   "end_time": "2024-08-07T06:50:19.278774",
   "environment_variables": {},
   "exception": null,
   "input_path": "__notebook__.ipynb",
   "output_path": "__notebook__.ipynb",
   "parameters": {},
   "start_time": "2024-08-07T04:41:31.901453",
   "version": "2.5.0"
  }
 },
 "nbformat": 4,
 "nbformat_minor": 5
}
