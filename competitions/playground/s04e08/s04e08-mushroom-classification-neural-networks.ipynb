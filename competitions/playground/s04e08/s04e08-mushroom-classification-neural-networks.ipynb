{
 "cells": [
  {
   "cell_type": "markdown",
   "id": "c6ecc662",
   "metadata": {
    "papermill": {
     "duration": 0.005969,
     "end_time": "2024-08-11T05:46:46.798763",
     "exception": false,
     "start_time": "2024-08-11T05:46:46.792794",
     "status": "completed"
    },
    "tags": []
   },
   "source": [
    "# Imports and Configs"
   ]
  },
  {
   "cell_type": "code",
   "execution_count": 1,
   "id": "62ff24a2",
   "metadata": {
    "_kg_hide-output": true,
    "execution": {
     "iopub.execute_input": "2024-08-11T05:46:46.812098Z",
     "iopub.status.busy": "2024-08-11T05:46:46.811613Z",
     "iopub.status.idle": "2024-08-11T05:47:28.090238Z",
     "shell.execute_reply": "2024-08-11T05:47:28.088677Z"
    },
    "papermill": {
     "duration": 41.289187,
     "end_time": "2024-08-11T05:47:28.093704",
     "exception": false,
     "start_time": "2024-08-11T05:46:46.804517",
     "status": "completed"
    },
    "tags": []
   },
   "outputs": [
    {
     "name": "stdout",
     "output_type": "stream",
     "text": [
      "\u001b[31mERROR: pip's dependency resolver does not currently take into account all the packages that are installed. This behaviour is the source of the following dependency conflicts.\r\n",
      "spaghetti 1.7.6 requires shapely>=2.0.1, but you have shapely 1.8.5.post1 which is incompatible.\r\n",
      "spopt 0.6.1 requires shapely>=2.0.1, but you have shapely 1.8.5.post1 which is incompatible.\u001b[0m\u001b[31m\r\n",
      "\u001b[0m"
     ]
    }
   ],
   "source": [
    "!pip install -q scikit-learn==1.4\n",
    "!pip install -q --no-deps scikeras\n",
    "!pip install -q ucimlrepo"
   ]
  },
  {
   "cell_type": "code",
   "execution_count": 2,
   "id": "1f45cf3a",
   "metadata": {
    "_cell_guid": "b1076dfc-b9ad-4769-8c92-a6c4dae69d19",
    "_kg_hide-output": true,
    "_uuid": "8f2839f25d086af736a60e9eeb907d3b93b6e0e5",
    "execution": {
     "iopub.execute_input": "2024-08-11T05:47:28.107930Z",
     "iopub.status.busy": "2024-08-11T05:47:28.107429Z",
     "iopub.status.idle": "2024-08-11T05:47:45.974050Z",
     "shell.execute_reply": "2024-08-11T05:47:45.972809Z"
    },
    "papermill": {
     "duration": 17.877206,
     "end_time": "2024-08-11T05:47:45.977120",
     "exception": false,
     "start_time": "2024-08-11T05:47:28.099914",
     "status": "completed"
    },
    "tags": []
   },
   "outputs": [
    {
     "name": "stderr",
     "output_type": "stream",
     "text": [
      "2024-08-11 05:47:30.601363: E external/local_xla/xla/stream_executor/cuda/cuda_dnn.cc:9261] Unable to register cuDNN factory: Attempting to register factory for plugin cuDNN when one has already been registered\n",
      "2024-08-11 05:47:30.601516: E external/local_xla/xla/stream_executor/cuda/cuda_fft.cc:607] Unable to register cuFFT factory: Attempting to register factory for plugin cuFFT when one has already been registered\n",
      "2024-08-11 05:47:30.783098: E external/local_xla/xla/stream_executor/cuda/cuda_blas.cc:1515] Unable to register cuBLAS factory: Attempting to register factory for plugin cuBLAS when one has already been registered\n"
     ]
    }
   ],
   "source": [
    "from scikeras.wrappers import KerasClassifier\n",
    "from sklearn.model_selection import StratifiedKFold\n",
    "from sklearn.preprocessing import OneHotEncoder\n",
    "from sklearn.impute import SimpleImputer\n",
    "from sklearn.preprocessing import StandardScaler\n",
    "from sklearn.compose import ColumnTransformer\n",
    "from sklearn.preprocessing import PowerTransformer\n",
    "from sklearn.pipeline import make_pipeline\n",
    "from sklearn.metrics import matthews_corrcoef\n",
    "from ucimlrepo import fetch_ucirepo \n",
    "from sklearn.base import clone\n",
    "import matplotlib.pyplot as plt\n",
    "import seaborn as sns\n",
    "import pandas as pd\n",
    "import numpy as np\n",
    "import warnings\n",
    "import pickle\n",
    "import keras\n",
    "import gc\n",
    "\n",
    "warnings.filterwarnings('ignore')"
   ]
  },
  {
   "cell_type": "code",
   "execution_count": 3,
   "id": "b12fac31",
   "metadata": {
    "execution": {
     "iopub.execute_input": "2024-08-11T05:47:45.992888Z",
     "iopub.status.busy": "2024-08-11T05:47:45.991994Z",
     "iopub.status.idle": "2024-08-11T05:47:45.998337Z",
     "shell.execute_reply": "2024-08-11T05:47:45.997119Z"
    },
    "papermill": {
     "duration": 0.017218,
     "end_time": "2024-08-11T05:47:46.000982",
     "exception": false,
     "start_time": "2024-08-11T05:47:45.983764",
     "status": "completed"
    },
    "tags": []
   },
   "outputs": [],
   "source": [
    "TARGET = 'class'\n",
    "N_FOLDS = 5\n",
    "SEED = 6\n",
    "THRESHOLD = 0.5"
   ]
  },
  {
   "cell_type": "markdown",
   "id": "84b96b19",
   "metadata": {
    "papermill": {
     "duration": 0.005648,
     "end_time": "2024-08-11T05:47:46.012816",
     "exception": false,
     "start_time": "2024-08-11T05:47:46.007168",
     "status": "completed"
    },
    "tags": []
   },
   "source": [
    "# Loading Data"
   ]
  },
  {
   "cell_type": "code",
   "execution_count": 4,
   "id": "51e5d130",
   "metadata": {
    "execution": {
     "iopub.execute_input": "2024-08-11T05:47:46.026504Z",
     "iopub.status.busy": "2024-08-11T05:47:46.026031Z",
     "iopub.status.idle": "2024-08-11T05:48:06.693719Z",
     "shell.execute_reply": "2024-08-11T05:48:06.692256Z"
    },
    "papermill": {
     "duration": 20.677877,
     "end_time": "2024-08-11T05:48:06.696635",
     "exception": false,
     "start_time": "2024-08-11T05:47:46.018758",
     "status": "completed"
    },
    "tags": []
   },
   "outputs": [],
   "source": [
    "train = pd.read_csv('/kaggle/input/playground-series-s4e8/train.csv', index_col='id')\n",
    "test = pd.read_csv('/kaggle/input/playground-series-s4e8/test.csv', index_col='id')\n",
    "\n",
    "original = fetch_ucirepo(id=848)['data']['original']"
   ]
  },
  {
   "cell_type": "code",
   "execution_count": 5,
   "id": "547b0f1e",
   "metadata": {
    "execution": {
     "iopub.execute_input": "2024-08-11T05:48:06.711165Z",
     "iopub.status.busy": "2024-08-11T05:48:06.710716Z",
     "iopub.status.idle": "2024-08-11T05:48:06.719947Z",
     "shell.execute_reply": "2024-08-11T05:48:06.718610Z"
    },
    "papermill": {
     "duration": 0.019618,
     "end_time": "2024-08-11T05:48:06.722734",
     "exception": false,
     "start_time": "2024-08-11T05:48:06.703116",
     "status": "completed"
    },
    "tags": []
   },
   "outputs": [
    {
     "data": {
      "text/plain": [
       "((3116945, 21), (2077964, 20))"
      ]
     },
     "execution_count": 5,
     "metadata": {},
     "output_type": "execute_result"
    }
   ],
   "source": [
    "train.shape, test.shape"
   ]
  },
  {
   "cell_type": "code",
   "execution_count": 6,
   "id": "db917726",
   "metadata": {
    "execution": {
     "iopub.execute_input": "2024-08-11T05:48:06.737412Z",
     "iopub.status.busy": "2024-08-11T05:48:06.736965Z",
     "iopub.status.idle": "2024-08-11T05:48:22.977716Z",
     "shell.execute_reply": "2024-08-11T05:48:22.976512Z"
    },
    "papermill": {
     "duration": 16.251507,
     "end_time": "2024-08-11T05:48:22.980646",
     "exception": false,
     "start_time": "2024-08-11T05:48:06.729139",
     "status": "completed"
    },
    "tags": []
   },
   "outputs": [
    {
     "data": {
      "image/png": "[encoded data removed]",
      "text/plain": [
       "<Figure size 1400x500 with 2 Axes>"
      ]
     },
     "metadata": {},
     "output_type": "display_data"
    }
   ],
   "source": [
    "cmap = sns.light_palette('#651FFF', as_cmap=True)\n",
    "\n",
    "train_null_values = train.sample(100_000).drop(columns=TARGET).isnull().T\n",
    "test_null_values = test.sample(100_000).isnull().T\n",
    "\n",
    "fig, axes = plt.subplots(nrows=1, ncols=2, figsize=(14, 5))\n",
    "\n",
    "sns.heatmap(train_null_values, cbar=False, cmap=cmap, ax=axes[0])\n",
    "axes[0].set_title('Train')\n",
    "axes[0].set_xticks([]) \n",
    "axes[0].set_xlabel('')\n",
    "\n",
    "sns.heatmap(test_null_values, cbar=False, cmap=cmap, ax=axes[1])\n",
    "axes[1].set_title('Test')\n",
    "axes[1].set_xticks([]) \n",
    "axes[1].set_xlabel('')\n",
    "\n",
    "plt.tight_layout()\n",
    "plt.show()"
   ]
  },
  {
   "cell_type": "markdown",
   "id": "93db30f4",
   "metadata": {
    "papermill": {
     "duration": 0.006899,
     "end_time": "2024-08-11T05:48:22.995048",
     "exception": false,
     "start_time": "2024-08-11T05:48:22.988149",
     "status": "completed"
    },
    "tags": []
   },
   "source": [
    "# Feature Engineering"
   ]
  },
  {
   "cell_type": "code",
   "execution_count": 7,
   "id": "9efa998f",
   "metadata": {
    "execution": {
     "iopub.execute_input": "2024-08-11T05:48:23.012097Z",
     "iopub.status.busy": "2024-08-11T05:48:23.011074Z",
     "iopub.status.idle": "2024-08-11T05:48:23.476702Z",
     "shell.execute_reply": "2024-08-11T05:48:23.475415Z"
    },
    "papermill": {
     "duration": 0.477305,
     "end_time": "2024-08-11T05:48:23.479572",
     "exception": false,
     "start_time": "2024-08-11T05:48:23.002267",
     "status": "completed"
    },
    "tags": []
   },
   "outputs": [],
   "source": [
    "cat_features = test.select_dtypes('object').columns\n",
    "cont_features = test.select_dtypes('float').columns"
   ]
  },
  {
   "cell_type": "code",
   "execution_count": 8,
   "id": "622e392c",
   "metadata": {
    "execution": {
     "iopub.execute_input": "2024-08-11T05:48:23.496563Z",
     "iopub.status.busy": "2024-08-11T05:48:23.495668Z",
     "iopub.status.idle": "2024-08-11T05:48:39.944837Z",
     "shell.execute_reply": "2024-08-11T05:48:39.943433Z"
    },
    "papermill": {
     "duration": 16.460809,
     "end_time": "2024-08-11T05:48:39.947792",
     "exception": false,
     "start_time": "2024-08-11T05:48:23.486983",
     "status": "completed"
    },
    "tags": []
   },
   "outputs": [],
   "source": [
    "# Reference: https://www.kaggle.com/code/ambrosm/pss4e8-eda-which-makes-sense\n",
    "for feature in cat_features:          \n",
    "    categories = sorted(list(set(original[feature].dropna())))\n",
    "    dtype = pd.CategoricalDtype(categories=categories, ordered=False)\n",
    "    \n",
    "    train.loc[~train[feature].isin(categories), feature] = np.nan\n",
    "    test.loc[~test[feature].isin(categories), feature] = np.nan\n",
    "    \n",
    "    train[feature] = train[feature].astype(dtype)\n",
    "    test[feature] = test[feature].astype(dtype)"
   ]
  },
  {
   "cell_type": "code",
   "execution_count": 9,
   "id": "d0502f5b",
   "metadata": {
    "execution": {
     "iopub.execute_input": "2024-08-11T05:48:39.972411Z",
     "iopub.status.busy": "2024-08-11T05:48:39.971943Z",
     "iopub.status.idle": "2024-08-11T05:48:39.981168Z",
     "shell.execute_reply": "2024-08-11T05:48:39.979786Z"
    },
    "papermill": {
     "duration": 0.025751,
     "end_time": "2024-08-11T05:48:39.983642",
     "exception": false,
     "start_time": "2024-08-11T05:48:39.957891",
     "status": "completed"
    },
    "tags": []
   },
   "outputs": [],
   "source": [
    "one_hot_encoder = OneHotEncoder(drop='first', sparse_output=False, dtype=np.float32, handle_unknown='infrequent_if_exist', min_frequency=50)\n",
    "step_1 = ('imputer', make_pipeline(PowerTransformer(), SimpleImputer(add_indicator=True)), cont_features)\n",
    "step_2 = ('one-hot-encoder', one_hot_encoder, cat_features)\n",
    "steps = [step_1, step_2]\n",
    "transformer = ColumnTransformer(steps, remainder='passthrough')\n",
    "pipeline = make_pipeline(transformer, StandardScaler())"
   ]
  },
  {
   "cell_type": "code",
   "execution_count": 10,
   "id": "4c1a0f10",
   "metadata": {
    "execution": {
     "iopub.execute_input": "2024-08-11T05:48:40.000724Z",
     "iopub.status.busy": "2024-08-11T05:48:39.999684Z",
     "iopub.status.idle": "2024-08-11T05:48:40.235480Z",
     "shell.execute_reply": "2024-08-11T05:48:40.234134Z"
    },
    "papermill": {
     "duration": 0.247342,
     "end_time": "2024-08-11T05:48:40.238382",
     "exception": false,
     "start_time": "2024-08-11T05:48:39.991040",
     "status": "completed"
    },
    "tags": []
   },
   "outputs": [],
   "source": [
    "X = train.drop([TARGET], axis=1)\n",
    "y = train[TARGET].map({'e': 0, 'p': 1})\n",
    "X_test = test"
   ]
  },
  {
   "cell_type": "code",
   "execution_count": 11,
   "id": "918717ee",
   "metadata": {
    "execution": {
     "iopub.execute_input": "2024-08-11T05:48:40.255997Z",
     "iopub.status.busy": "2024-08-11T05:48:40.254929Z",
     "iopub.status.idle": "2024-08-11T05:51:27.068044Z",
     "shell.execute_reply": "2024-08-11T05:51:27.066703Z"
    },
    "papermill": {
     "duration": 166.825428,
     "end_time": "2024-08-11T05:51:27.071348",
     "exception": false,
     "start_time": "2024-08-11T05:48:40.245920",
     "status": "completed"
    },
    "tags": []
   },
   "outputs": [],
   "source": [
    "X = pipeline.fit_transform(X)\n",
    "X_test = pipeline.transform(X_test)"
   ]
  },
  {
   "cell_type": "markdown",
   "id": "5483ddc2",
   "metadata": {
    "papermill": {
     "duration": 0.007448,
     "end_time": "2024-08-11T05:51:27.086683",
     "exception": false,
     "start_time": "2024-08-11T05:51:27.079235",
     "status": "completed"
    },
    "tags": []
   },
   "source": [
    "# Training"
   ]
  },
  {
   "cell_type": "code",
   "execution_count": 12,
   "id": "93cf0348",
   "metadata": {
    "execution": {
     "iopub.execute_input": "2024-08-11T05:51:27.103986Z",
     "iopub.status.busy": "2024-08-11T05:51:27.103588Z",
     "iopub.status.idle": "2024-08-11T05:51:27.121724Z",
     "shell.execute_reply": "2024-08-11T05:51:27.120507Z"
    },
    "papermill": {
     "duration": 0.030262,
     "end_time": "2024-08-11T05:51:27.124457",
     "exception": false,
     "start_time": "2024-08-11T05:51:27.094195",
     "status": "completed"
    },
    "tags": []
   },
   "outputs": [],
   "source": [
    "class Trainer:\n",
    "    def __init__(self, model, n_folds=N_FOLDS):\n",
    "        self.model = model\n",
    "        self.n_folds = n_folds\n",
    "\n",
    "    def fit_predict(self, X, y, X_test):\n",
    "        print(f'Training {self.model.__class__.__name__}\\n')\n",
    "        \n",
    "        scores = []        \n",
    "        oof_pred_probs = np.zeros((X.shape[0], len(np.unique(y))))\n",
    "        test_pred_probs = np.zeros((X_test.shape[0], len(np.unique(y))))\n",
    "        \n",
    "        skf = StratifiedKFold(n_splits=self.n_folds, random_state=SEED, shuffle=True)\n",
    "        for fold_idx, (train_idx, val_idx) in enumerate(skf.split(X, y)):\n",
    "            X_train, X_val = X[train_idx], X[val_idx]\n",
    "            y_train, y_val = y[train_idx], y[val_idx]\n",
    "            \n",
    "            model = clone(self.model)\n",
    "            model.fit(X_train, y_train)\n",
    "            \n",
    "            y_pred_probs = model.predict_proba(X_val)\n",
    "            oof_pred_probs[val_idx] = y_pred_probs    \n",
    "            y_preds = y_pred_probs[:, 1] >= THRESHOLD\n",
    "            \n",
    "            score = matthews_corrcoef(y_val, y_preds)\n",
    "            scores.append(score)\n",
    "            \n",
    "            temp_test_pred_probs = model.predict_proba(X_test)\n",
    "            test_pred_probs += temp_test_pred_probs / self.n_folds\n",
    "            \n",
    "            del model, X_train, y_train, X_val, y_val, y_pred_probs, temp_test_pred_probs\n",
    "            gc.collect()\n",
    "            \n",
    "            print(f'\\n--- Fold {fold_idx + 1} - MCC: {score:.6f}\\n')            \n",
    "            \n",
    "        self._save_pred_probs(oof_pred_probs, np.mean(scores), 'oof')\n",
    "        self._save_pred_probs(test_pred_probs, np.mean(scores), 'test')\n",
    "        self._save_submission(test_pred_probs, np.mean(scores))\n",
    "        print(f'\\n------ Average MCC: {np.mean(scores):.6f} ± {np.std(scores):.6f}')\n",
    "        \n",
    "    def _save_pred_probs(self, pred_probs, cv_score, name):\n",
    "        model_name = self.model.__class__.__name__.lower().replace('classifier', '')\n",
    "        with open(f'{model_name}_{name}_pred_probs_{cv_score:.6f}.pkl', 'wb') as f:\n",
    "            pickle.dump(pred_probs, f)\n",
    "    \n",
    "    def _save_submission(self, test_pred_probs, score):\n",
    "        name = self.model.__class__.__name__.lower().replace('classifier', '')\n",
    "        sub = pd.read_csv('/kaggle/input/playground-series-s4e8/sample_submission.csv')\n",
    "        sub[TARGET] = test_pred_probs[:, 1] >= THRESHOLD\n",
    "        sub[TARGET] = sub[TARGET].map({False: 'e', True: 'p'})\n",
    "        sub.to_csv(f'sub_{name}_{score:.6f}.csv', index=False)"
   ]
  },
  {
   "cell_type": "code",
   "execution_count": 13,
   "id": "5a64b408",
   "metadata": {
    "execution": {
     "iopub.execute_input": "2024-08-11T05:51:27.141437Z",
     "iopub.status.busy": "2024-08-11T05:51:27.141013Z",
     "iopub.status.idle": "2024-08-11T05:51:27.188697Z",
     "shell.execute_reply": "2024-08-11T05:51:27.187492Z"
    },
    "papermill": {
     "duration": 0.059692,
     "end_time": "2024-08-11T05:51:27.191695",
     "exception": false,
     "start_time": "2024-08-11T05:51:27.132003",
     "status": "completed"
    },
    "tags": []
   },
   "outputs": [],
   "source": [
    "# Reference: https://www.kaggle.com/code/ambrosm/pss4e8-eda-which-makes-sense\n",
    "\n",
    "def get_model(meta):\n",
    "    model = keras.models.Sequential()\n",
    "    model.add(keras.layers.Input(meta['X_shape_'][1:]))\n",
    "    model.add(keras.layers.Dense(356, activation='relu'))\n",
    "    model.add(keras.layers.Dropout(0.1))\n",
    "    model.add(keras.layers.Dense(514, activation='relu'))\n",
    "    model.add(keras.layers.Dropout(0.15))\n",
    "    model.add(keras.layers.Dense(262, activation='relu'))\n",
    "    model.add(keras.layers.Dropout(0.3))\n",
    "    model.add(keras.layers.Dense(1, activation='sigmoid'))\n",
    "    return model\n",
    "\n",
    "model = KerasClassifier(\n",
    "    get_model,\n",
    "    loss='binary_crossentropy',\n",
    "    optimizer=keras.optimizers.Adam(learning_rate=0.00304),\n",
    "    validation_split=0.05,\n",
    "    batch_size=16384,\n",
    "    validation_batch_size=65536,\n",
    "    epochs=50,\n",
    "    verbose=1,\n",
    "    callbacks=[\n",
    "        keras.callbacks.ReduceLROnPlateau(patience=3),\n",
    "        keras.callbacks.EarlyStopping(patience=5, min_delta=0.00003)\n",
    "    ]\n",
    ")"
   ]
  },
  {
   "cell_type": "code",
   "execution_count": 14,
   "id": "7fd72335",
   "metadata": {
    "_kg_hide-output": true,
    "execution": {
     "iopub.execute_input": "2024-08-11T05:51:27.208849Z",
     "iopub.status.busy": "2024-08-11T05:51:27.208450Z",
     "iopub.status.idle": "2024-08-11T08:03:52.862537Z",
     "shell.execute_reply": "2024-08-11T08:03:52.861182Z"
    },
    "papermill": {
     "duration": 7945.665682,
     "end_time": "2024-08-11T08:03:52.865202",
     "exception": false,
     "start_time": "2024-08-11T05:51:27.199520",
     "status": "completed"
    },
    "tags": []
   },
   "outputs": [
    {
     "name": "stdout",
     "output_type": "stream",
     "text": [
      "Training KerasClassifier\n",
      "\n",
      "Epoch 1/50\n",
      "\u001b[1m145/145\u001b[0m \u001b[32m━━━━━━━━━━━━━━━━━━━━\u001b[0m\u001b[37m\u001b[0m \u001b[1m68s\u001b[0m 456ms/step - loss: 0.2294 - val_loss: 0.0414 - learning_rate: 0.0030\n",
      "Epoch 2/50\n",
      "\u001b[1m145/145\u001b[0m \u001b[32m━━━━━━━━━━━━━━━━━━━━\u001b[0m\u001b[37m\u001b[0m \u001b[1m65s\u001b[0m 449ms/step - loss: 0.0433 - val_loss: 0.0391 - learning_rate: 0.0030\n",
      "Epoch 3/50\n",
      "\u001b[1m145/145\u001b[0m \u001b[32m━━━━━━━━━━━━━━━━━━━━\u001b[0m\u001b[37m\u001b[0m \u001b[1m65s\u001b[0m 448ms/step - loss: 0.0412 - val_loss: 0.0383 - learning_rate: 0.0030\n",
      "Epoch 4/50\n",
      "\u001b[1m145/145\u001b[0m \u001b[32m━━━━━━━━━━━━━━━━━━━━\u001b[0m\u001b[37m\u001b[0m \u001b[1m65s\u001b[0m 448ms/step - loss: 0.0398 - val_loss: 0.0380 - learning_rate: 0.0030\n",
      "Epoch 5/50\n",
      "\u001b[1m145/145\u001b[0m \u001b[32m━━━━━━━━━━━━━━━━━━━━\u001b[0m\u001b[37m\u001b[0m \u001b[1m82s\u001b[0m 448ms/step - loss: 0.0395 - val_loss: 0.0378 - learning_rate: 0.0030\n",
      "Epoch 6/50\n",
      "\u001b[1m145/145\u001b[0m \u001b[32m━━━━━━━━━━━━━━━━━━━━\u001b[0m\u001b[37m\u001b[0m \u001b[1m82s\u001b[0m 448ms/step - loss: 0.0390 - val_loss: 0.0379 - learning_rate: 0.0030\n",
      "Epoch 7/50\n",
      "\u001b[1m145/145\u001b[0m \u001b[32m━━━━━━━━━━━━━━━━━━━━\u001b[0m\u001b[37m\u001b[0m \u001b[1m65s\u001b[0m 449ms/step - loss: 0.0387 - val_loss: 0.0377 - learning_rate: 0.0030\n",
      "Epoch 8/50\n",
      "\u001b[1m145/145\u001b[0m \u001b[32m━━━━━━━━━━━━━━━━━━━━\u001b[0m\u001b[37m\u001b[0m \u001b[1m65s\u001b[0m 451ms/step - loss: 0.0383 - val_loss: 0.0374 - learning_rate: 0.0030\n",
      "Epoch 9/50\n",
      "\u001b[1m145/145\u001b[0m \u001b[32m━━━━━━━━━━━━━━━━━━━━\u001b[0m\u001b[37m\u001b[0m \u001b[1m65s\u001b[0m 449ms/step - loss: 0.0380 - val_loss: 0.0380 - learning_rate: 0.0030\n",
      "Epoch 10/50\n",
      "\u001b[1m145/145\u001b[0m \u001b[32m━━━━━━━━━━━━━━━━━━━━\u001b[0m\u001b[37m\u001b[0m \u001b[1m65s\u001b[0m 449ms/step - loss: 0.0379 - val_loss: 0.0372 - learning_rate: 0.0030\n",
      "Epoch 11/50\n",
      "\u001b[1m145/145\u001b[0m \u001b[32m━━━━━━━━━━━━━━━━━━━━\u001b[0m\u001b[37m\u001b[0m \u001b[1m65s\u001b[0m 446ms/step - loss: 0.0374 - val_loss: 0.0374 - learning_rate: 0.0030\n",
      "Epoch 12/50\n",
      "\u001b[1m145/145\u001b[0m \u001b[32m━━━━━━━━━━━━━━━━━━━━\u001b[0m\u001b[37m\u001b[0m \u001b[1m65s\u001b[0m 448ms/step - loss: 0.0372 - val_loss: 0.0370 - learning_rate: 0.0030\n",
      "Epoch 13/50\n",
      "\u001b[1m145/145\u001b[0m \u001b[32m━━━━━━━━━━━━━━━━━━━━\u001b[0m\u001b[37m\u001b[0m \u001b[1m65s\u001b[0m 449ms/step - loss: 0.0373 - val_loss: 0.0369 - learning_rate: 0.0030\n",
      "Epoch 14/50\n",
      "\u001b[1m145/145\u001b[0m \u001b[32m━━━━━━━━━━━━━━━━━━━━\u001b[0m\u001b[37m\u001b[0m \u001b[1m65s\u001b[0m 449ms/step - loss: 0.0370 - val_loss: 0.0373 - learning_rate: 0.0030\n",
      "Epoch 15/50\n",
      "\u001b[1m145/145\u001b[0m \u001b[32m━━━━━━━━━━━━━━━━━━━━\u001b[0m\u001b[37m\u001b[0m \u001b[1m65s\u001b[0m 447ms/step - loss: 0.0372 - val_loss: 0.0371 - learning_rate: 0.0030\n",
      "Epoch 16/50\n",
      "\u001b[1m145/145\u001b[0m \u001b[32m━━━━━━━━━━━━━━━━━━━━\u001b[0m\u001b[37m\u001b[0m \u001b[1m65s\u001b[0m 448ms/step - loss: 0.0367 - val_loss: 0.0371 - learning_rate: 0.0030\n",
      "Epoch 17/50\n",
      "\u001b[1m145/145\u001b[0m \u001b[32m━━━━━━━━━━━━━━━━━━━━\u001b[0m\u001b[37m\u001b[0m \u001b[1m65s\u001b[0m 448ms/step - loss: 0.0358 - val_loss: 0.0364 - learning_rate: 3.0400e-04\n",
      "Epoch 18/50\n",
      "\u001b[1m145/145\u001b[0m \u001b[32m━━━━━━━━━━━━━━━━━━━━\u001b[0m\u001b[37m\u001b[0m \u001b[1m65s\u001b[0m 450ms/step - loss: 0.0349 - val_loss: 0.0364 - learning_rate: 3.0400e-04\n",
      "Epoch 19/50\n",
      "\u001b[1m145/145\u001b[0m \u001b[32m━━━━━━━━━━━━━━━━━━━━\u001b[0m\u001b[37m\u001b[0m \u001b[1m65s\u001b[0m 449ms/step - loss: 0.0348 - val_loss: 0.0364 - learning_rate: 3.0400e-04\n",
      "Epoch 20/50\n",
      "\u001b[1m145/145\u001b[0m \u001b[32m━━━━━━━━━━━━━━━━━━━━\u001b[0m\u001b[37m\u001b[0m \u001b[1m65s\u001b[0m 450ms/step - loss: 0.0350 - val_loss: 0.0365 - learning_rate: 3.0400e-04\n",
      "Epoch 21/50\n",
      "\u001b[1m145/145\u001b[0m \u001b[32m━━━━━━━━━━━━━━━━━━━━\u001b[0m\u001b[37m\u001b[0m \u001b[1m66s\u001b[0m 455ms/step - loss: 0.0347 - val_loss: 0.0364 - learning_rate: 3.0400e-05\n",
      "Epoch 22/50\n",
      "\u001b[1m145/145\u001b[0m \u001b[32m━━━━━━━━━━━━━━━━━━━━\u001b[0m\u001b[37m\u001b[0m \u001b[1m67s\u001b[0m 460ms/step - loss: 0.0347 - val_loss: 0.0364 - learning_rate: 3.0400e-05\n",
      "Epoch 23/50\n",
      "\u001b[1m145/145\u001b[0m \u001b[32m━━━━━━━━━━━━━━━━━━━━\u001b[0m\u001b[37m\u001b[0m \u001b[1m81s\u001b[0m 452ms/step - loss: 0.0346 - val_loss: 0.0364 - learning_rate: 3.0400e-05\n",
      "\u001b[1m39/39\u001b[0m \u001b[32m━━━━━━━━━━━━━━━━━━━━\u001b[0m\u001b[37m\u001b[0m \u001b[1m5s\u001b[0m 119ms/step\n",
      "\u001b[1m127/127\u001b[0m \u001b[32m━━━━━━━━━━━━━━━━━━━━\u001b[0m\u001b[37m\u001b[0m \u001b[1m15s\u001b[0m 121ms/step\n",
      "\n",
      "--- Fold 1 - MCC: 0.984121\n",
      "\n",
      "Epoch 1/50\n",
      "\u001b[1m145/145\u001b[0m \u001b[32m━━━━━━━━━━━━━━━━━━━━\u001b[0m\u001b[37m\u001b[0m \u001b[1m68s\u001b[0m 460ms/step - loss: 0.2899 - val_loss: 0.0425 - learning_rate: 0.0030\n",
      "Epoch 2/50\n",
      "\u001b[1m145/145\u001b[0m \u001b[32m━━━━━━━━━━━━━━━━━━━━\u001b[0m\u001b[37m\u001b[0m \u001b[1m66s\u001b[0m 457ms/step - loss: 0.0434 - val_loss: 0.0402 - learning_rate: 0.0030\n",
      "Epoch 3/50\n",
      "\u001b[1m145/145\u001b[0m \u001b[32m━━━━━━━━━━━━━━━━━━━━\u001b[0m\u001b[37m\u001b[0m \u001b[1m66s\u001b[0m 454ms/step - loss: 0.0414 - val_loss: 0.0394 - learning_rate: 0.0030\n",
      "Epoch 4/50\n",
      "\u001b[1m145/145\u001b[0m \u001b[32m━━━━━━━━━━━━━━━━━━━━\u001b[0m\u001b[37m\u001b[0m \u001b[1m66s\u001b[0m 453ms/step - loss: 0.0404 - val_loss: 0.0389 - learning_rate: 0.0030\n",
      "Epoch 5/50\n",
      "\u001b[1m145/145\u001b[0m \u001b[32m━━━━━━━━━━━━━━━━━━━━\u001b[0m\u001b[37m\u001b[0m \u001b[1m66s\u001b[0m 454ms/step - loss: 0.0395 - val_loss: 0.0386 - learning_rate: 0.0030\n",
      "Epoch 6/50\n",
      "\u001b[1m145/145\u001b[0m \u001b[32m━━━━━━━━━━━━━━━━━━━━\u001b[0m\u001b[37m\u001b[0m \u001b[1m66s\u001b[0m 453ms/step - loss: 0.0393 - val_loss: 0.0383 - learning_rate: 0.0030\n",
      "Epoch 7/50\n",
      "\u001b[1m145/145\u001b[0m \u001b[32m━━━━━━━━━━━━━━━━━━━━\u001b[0m\u001b[37m\u001b[0m \u001b[1m66s\u001b[0m 454ms/step - loss: 0.0387 - val_loss: 0.0385 - learning_rate: 0.0030\n",
      "Epoch 8/50\n",
      "\u001b[1m145/145\u001b[0m \u001b[32m━━━━━━━━━━━━━━━━━━━━\u001b[0m\u001b[37m\u001b[0m \u001b[1m66s\u001b[0m 452ms/step - loss: 0.0386 - val_loss: 0.0386 - learning_rate: 0.0030\n",
      "Epoch 9/50\n",
      "\u001b[1m145/145\u001b[0m \u001b[32m━━━━━━━━━━━━━━━━━━━━\u001b[0m\u001b[37m\u001b[0m \u001b[1m66s\u001b[0m 454ms/step - loss: 0.0383 - val_loss: 0.0380 - learning_rate: 0.0030\n",
      "Epoch 10/50\n",
      "\u001b[1m145/145\u001b[0m \u001b[32m━━━━━━━━━━━━━━━━━━━━\u001b[0m\u001b[37m\u001b[0m \u001b[1m66s\u001b[0m 457ms/step - loss: 0.0379 - val_loss: 0.0383 - learning_rate: 0.0030\n",
      "Epoch 11/50\n",
      "\u001b[1m145/145\u001b[0m \u001b[32m━━━━━━━━━━━━━━━━━━━━\u001b[0m\u001b[37m\u001b[0m \u001b[1m72s\u001b[0m 498ms/step - loss: 0.0378 - val_loss: 0.0379 - learning_rate: 0.0030\n",
      "Epoch 12/50\n",
      "\u001b[1m145/145\u001b[0m \u001b[32m━━━━━━━━━━━━━━━━━━━━\u001b[0m\u001b[37m\u001b[0m \u001b[1m79s\u001b[0m 477ms/step - loss: 0.0379 - val_loss: 0.0383 - learning_rate: 0.0030\n",
      "Epoch 13/50\n",
      "\u001b[1m145/145\u001b[0m \u001b[32m━━━━━━━━━━━━━━━━━━━━\u001b[0m\u001b[37m\u001b[0m \u001b[1m66s\u001b[0m 455ms/step - loss: 0.0366 - val_loss: 0.0373 - learning_rate: 3.0400e-04\n",
      "Epoch 14/50\n",
      "\u001b[1m145/145\u001b[0m \u001b[32m━━━━━━━━━━━━━━━━━━━━\u001b[0m\u001b[37m\u001b[0m \u001b[1m66s\u001b[0m 456ms/step - loss: 0.0358 - val_loss: 0.0373 - learning_rate: 3.0400e-04\n",
      "Epoch 15/50\n",
      "\u001b[1m145/145\u001b[0m \u001b[32m━━━━━━━━━━━━━━━━━━━━\u001b[0m\u001b[37m\u001b[0m \u001b[1m66s\u001b[0m 456ms/step - loss: 0.0360 - val_loss: 0.0372 - learning_rate: 3.0400e-04\n",
      "Epoch 16/50\n",
      "\u001b[1m145/145\u001b[0m \u001b[32m━━━━━━━━━━━━━━━━━━━━\u001b[0m\u001b[37m\u001b[0m \u001b[1m66s\u001b[0m 455ms/step - loss: 0.0361 - val_loss: 0.0372 - learning_rate: 3.0400e-04\n",
      "Epoch 17/50\n",
      "\u001b[1m145/145\u001b[0m \u001b[32m━━━━━━━━━━━━━━━━━━━━\u001b[0m\u001b[37m\u001b[0m \u001b[1m69s\u001b[0m 478ms/step - loss: 0.0360 - val_loss: 0.0373 - learning_rate: 3.0400e-04\n",
      "Epoch 18/50\n",
      "\u001b[1m145/145\u001b[0m \u001b[32m━━━━━━━━━━━━━━━━━━━━\u001b[0m\u001b[37m\u001b[0m \u001b[1m67s\u001b[0m 463ms/step - loss: 0.0360 - val_loss: 0.0373 - learning_rate: 3.0400e-04\n",
      "Epoch 19/50\n",
      "\u001b[1m145/145\u001b[0m \u001b[32m━━━━━━━━━━━━━━━━━━━━\u001b[0m\u001b[37m\u001b[0m \u001b[1m67s\u001b[0m 460ms/step - loss: 0.0359 - val_loss: 0.0371 - learning_rate: 3.0400e-05\n",
      "Epoch 20/50\n",
      "\u001b[1m145/145\u001b[0m \u001b[32m━━━━━━━━━━━━━━━━━━━━\u001b[0m\u001b[37m\u001b[0m \u001b[1m81s\u001b[0m 455ms/step - loss: 0.0355 - val_loss: 0.0372 - learning_rate: 3.0400e-05\n",
      "Epoch 21/50\n",
      "\u001b[1m145/145\u001b[0m \u001b[32m━━━━━━━━━━━━━━━━━━━━\u001b[0m\u001b[37m\u001b[0m \u001b[1m83s\u001b[0m 459ms/step - loss: 0.0355 - val_loss: 0.0371 - learning_rate: 3.0400e-05\n",
      "Epoch 22/50\n",
      "\u001b[1m145/145\u001b[0m \u001b[32m━━━━━━━━━━━━━━━━━━━━\u001b[0m\u001b[37m\u001b[0m \u001b[1m66s\u001b[0m 457ms/step - loss: 0.0356 - val_loss: 0.0371 - learning_rate: 3.0400e-06\n",
      "Epoch 23/50\n",
      "\u001b[1m145/145\u001b[0m \u001b[32m━━━━━━━━━━━━━━━━━━━━\u001b[0m\u001b[37m\u001b[0m \u001b[1m66s\u001b[0m 458ms/step - loss: 0.0354 - val_loss: 0.0371 - learning_rate: 3.0400e-06\n",
      "Epoch 24/50\n",
      "\u001b[1m145/145\u001b[0m \u001b[32m━━━━━━━━━━━━━━━━━━━━\u001b[0m\u001b[37m\u001b[0m \u001b[1m67s\u001b[0m 461ms/step - loss: 0.0354 - val_loss: 0.0371 - learning_rate: 3.0400e-06\n",
      "Epoch 25/50\n",
      "\u001b[1m145/145\u001b[0m \u001b[32m━━━━━━━━━━━━━━━━━━━━\u001b[0m\u001b[37m\u001b[0m \u001b[1m66s\u001b[0m 454ms/step - loss: 0.0357 - val_loss: 0.0371 - learning_rate: 3.0400e-07\n",
      "Epoch 26/50\n",
      "\u001b[1m145/145\u001b[0m \u001b[32m━━━━━━━━━━━━━━━━━━━━\u001b[0m\u001b[37m\u001b[0m \u001b[1m66s\u001b[0m 454ms/step - loss: 0.0352 - val_loss: 0.0371 - learning_rate: 3.0400e-07\n",
      "Epoch 27/50\n",
      "\u001b[1m145/145\u001b[0m \u001b[32m━━━━━━━━━━━━━━━━━━━━\u001b[0m\u001b[37m\u001b[0m \u001b[1m66s\u001b[0m 454ms/step - loss: 0.0358 - val_loss: 0.0371 - learning_rate: 3.0400e-07\n",
      "Epoch 28/50\n",
      "\u001b[1m145/145\u001b[0m \u001b[32m━━━━━━━━━━━━━━━━━━━━\u001b[0m\u001b[37m\u001b[0m \u001b[1m66s\u001b[0m 454ms/step - loss: 0.0354 - val_loss: 0.0371 - learning_rate: 3.0400e-08\n",
      "\u001b[1m39/39\u001b[0m \u001b[32m━━━━━━━━━━━━━━━━━━━━\u001b[0m\u001b[37m\u001b[0m \u001b[1m5s\u001b[0m 119ms/step\n",
      "\u001b[1m127/127\u001b[0m \u001b[32m━━━━━━━━━━━━━━━━━━━━\u001b[0m\u001b[37m\u001b[0m \u001b[1m16s\u001b[0m 128ms/step\n",
      "\n",
      "--- Fold 2 - MCC: 0.984451\n",
      "\n",
      "Epoch 1/50\n",
      "\u001b[1m145/145\u001b[0m \u001b[32m━━━━━━━━━━━━━━━━━━━━\u001b[0m\u001b[37m\u001b[0m \u001b[1m68s\u001b[0m 458ms/step - loss: 0.2648 - val_loss: 0.0424 - learning_rate: 0.0030\n",
      "Epoch 2/50\n",
      "\u001b[1m145/145\u001b[0m \u001b[32m━━━━━━━━━━━━━━━━━━━━\u001b[0m\u001b[37m\u001b[0m \u001b[1m66s\u001b[0m 458ms/step - loss: 0.0433 - val_loss: 0.0407 - learning_rate: 0.0030\n",
      "Epoch 3/50\n",
      "\u001b[1m145/145\u001b[0m \u001b[32m━━━━━━━━━━━━━━━━━━━━\u001b[0m\u001b[37m\u001b[0m \u001b[1m66s\u001b[0m 454ms/step - loss: 0.0412 - val_loss: 0.0396 - learning_rate: 0.0030\n",
      "Epoch 4/50\n",
      "\u001b[1m145/145\u001b[0m \u001b[32m━━━━━━━━━━━━━━━━━━━━\u001b[0m\u001b[37m\u001b[0m \u001b[1m67s\u001b[0m 460ms/step - loss: 0.0398 - val_loss: 0.0395 - learning_rate: 0.0030\n",
      "Epoch 5/50\n",
      "\u001b[1m145/145\u001b[0m \u001b[32m━━━━━━━━━━━━━━━━━━━━\u001b[0m\u001b[37m\u001b[0m \u001b[1m82s\u001b[0m 461ms/step - loss: 0.0392 - val_loss: 0.0387 - learning_rate: 0.0030\n",
      "Epoch 6/50\n",
      "\u001b[1m145/145\u001b[0m \u001b[32m━━━━━━━━━━━━━━━━━━━━\u001b[0m\u001b[37m\u001b[0m \u001b[1m82s\u001b[0m 461ms/step - loss: 0.0393 - val_loss: 0.0386 - learning_rate: 0.0030\n",
      "Epoch 7/50\n",
      "\u001b[1m145/145\u001b[0m \u001b[32m━━━━━━━━━━━━━━━━━━━━\u001b[0m\u001b[37m\u001b[0m \u001b[1m67s\u001b[0m 464ms/step - loss: 0.0390 - val_loss: 0.0387 - learning_rate: 0.0030\n",
      "Epoch 8/50\n",
      "\u001b[1m145/145\u001b[0m \u001b[32m━━━━━━━━━━━━━━━━━━━━\u001b[0m\u001b[37m\u001b[0m \u001b[1m68s\u001b[0m 467ms/step - loss: 0.0389 - val_loss: 0.0389 - learning_rate: 0.0030\n",
      "Epoch 9/50\n",
      "\u001b[1m145/145\u001b[0m \u001b[32m━━━━━━━━━━━━━━━━━━━━\u001b[0m\u001b[37m\u001b[0m \u001b[1m69s\u001b[0m 475ms/step - loss: 0.0383 - val_loss: 0.0385 - learning_rate: 0.0030\n",
      "Epoch 10/50\n",
      "\u001b[1m145/145\u001b[0m \u001b[32m━━━━━━━━━━━━━━━━━━━━\u001b[0m\u001b[37m\u001b[0m \u001b[1m69s\u001b[0m 474ms/step - loss: 0.0373 - val_loss: 0.0377 - learning_rate: 3.0400e-04\n",
      "Epoch 11/50\n",
      "\u001b[1m145/145\u001b[0m \u001b[32m━━━━━━━━━━━━━━━━━━━━\u001b[0m\u001b[37m\u001b[0m \u001b[1m68s\u001b[0m 470ms/step - loss: 0.0365 - val_loss: 0.0375 - learning_rate: 3.0400e-04\n",
      "Epoch 12/50\n",
      "\u001b[1m145/145\u001b[0m \u001b[32m━━━━━━━━━━━━━━━━━━━━\u001b[0m\u001b[37m\u001b[0m \u001b[1m68s\u001b[0m 468ms/step - loss: 0.0358 - val_loss: 0.0375 - learning_rate: 3.0400e-04\n",
      "Epoch 13/50\n",
      "\u001b[1m145/145\u001b[0m \u001b[32m━━━━━━━━━━━━━━━━━━━━\u001b[0m\u001b[37m\u001b[0m \u001b[1m67s\u001b[0m 463ms/step - loss: 0.0363 - val_loss: 0.0374 - learning_rate: 3.0400e-04\n",
      "Epoch 14/50\n",
      "\u001b[1m145/145\u001b[0m \u001b[32m━━━━━━━━━━━━━━━━━━━━\u001b[0m\u001b[37m\u001b[0m \u001b[1m81s\u001b[0m 458ms/step - loss: 0.0360 - val_loss: 0.0374 - learning_rate: 3.0400e-04\n",
      "Epoch 15/50\n",
      "\u001b[1m145/145\u001b[0m \u001b[32m━━━━━━━━━━━━━━━━━━━━\u001b[0m\u001b[37m\u001b[0m \u001b[1m66s\u001b[0m 455ms/step - loss: 0.0359 - val_loss: 0.0373 - learning_rate: 3.0400e-05\n",
      "Epoch 16/50\n",
      "\u001b[1m145/145\u001b[0m \u001b[32m━━━━━━━━━━━━━━━━━━━━\u001b[0m\u001b[37m\u001b[0m \u001b[1m67s\u001b[0m 459ms/step - loss: 0.0359 - val_loss: 0.0373 - learning_rate: 3.0400e-05\n",
      "Epoch 17/50\n",
      "\u001b[1m145/145\u001b[0m \u001b[32m━━━━━━━━━━━━━━━━━━━━\u001b[0m\u001b[37m\u001b[0m \u001b[1m67s\u001b[0m 460ms/step - loss: 0.0358 - val_loss: 0.0373 - learning_rate: 3.0400e-05\n",
      "Epoch 18/50\n",
      "\u001b[1m145/145\u001b[0m \u001b[32m━━━━━━━━━━━━━━━━━━━━\u001b[0m\u001b[37m\u001b[0m \u001b[1m66s\u001b[0m 457ms/step - loss: 0.0365 - val_loss: 0.0373 - learning_rate: 3.0400e-05\n",
      "Epoch 19/50\n",
      "\u001b[1m145/145\u001b[0m \u001b[32m━━━━━━━━━━━━━━━━━━━━\u001b[0m\u001b[37m\u001b[0m \u001b[1m66s\u001b[0m 457ms/step - loss: 0.0360 - val_loss: 0.0373 - learning_rate: 3.0400e-06\n",
      "Epoch 20/50\n",
      "\u001b[1m145/145\u001b[0m \u001b[32m━━━━━━━━━━━━━━━━━━━━\u001b[0m\u001b[37m\u001b[0m \u001b[1m67s\u001b[0m 458ms/step - loss: 0.0358 - val_loss: 0.0373 - learning_rate: 3.0400e-06\n",
      "\u001b[1m39/39\u001b[0m \u001b[32m━━━━━━━━━━━━━━━━━━━━\u001b[0m\u001b[37m\u001b[0m \u001b[1m5s\u001b[0m 120ms/step\n",
      "\u001b[1m127/127\u001b[0m \u001b[32m━━━━━━━━━━━━━━━━━━━━\u001b[0m\u001b[37m\u001b[0m \u001b[1m16s\u001b[0m 128ms/step\n",
      "\n",
      "--- Fold 3 - MCC: 0.984098\n",
      "\n",
      "Epoch 1/50\n",
      "\u001b[1m145/145\u001b[0m \u001b[32m━━━━━━━━━━━━━━━━━━━━\u001b[0m\u001b[37m\u001b[0m \u001b[1m68s\u001b[0m 457ms/step - loss: 0.2337 - val_loss: 0.0436 - learning_rate: 0.0030\n",
      "Epoch 2/50\n",
      "\u001b[1m145/145\u001b[0m \u001b[32m━━━━━━━━━━━━━━━━━━━━\u001b[0m\u001b[37m\u001b[0m \u001b[1m66s\u001b[0m 456ms/step - loss: 0.0429 - val_loss: 0.0411 - learning_rate: 0.0030\n",
      "Epoch 3/50\n",
      "\u001b[1m145/145\u001b[0m \u001b[32m━━━━━━━━━━━━━━━━━━━━\u001b[0m\u001b[37m\u001b[0m \u001b[1m68s\u001b[0m 465ms/step - loss: 0.0410 - val_loss: 0.0408 - learning_rate: 0.0030\n",
      "Epoch 4/50\n",
      "\u001b[1m145/145\u001b[0m \u001b[32m━━━━━━━━━━━━━━━━━━━━\u001b[0m\u001b[37m\u001b[0m \u001b[1m83s\u001b[0m 474ms/step - loss: 0.0399 - val_loss: 0.0399 - learning_rate: 0.0030\n",
      "Epoch 5/50\n",
      "\u001b[1m145/145\u001b[0m \u001b[32m━━━━━━━━━━━━━━━━━━━━\u001b[0m\u001b[37m\u001b[0m \u001b[1m68s\u001b[0m 464ms/step - loss: 0.0395 - val_loss: 0.0395 - learning_rate: 0.0030\n",
      "Epoch 6/50\n",
      "\u001b[1m145/145\u001b[0m \u001b[32m━━━━━━━━━━━━━━━━━━━━\u001b[0m\u001b[37m\u001b[0m \u001b[1m84s\u001b[0m 477ms/step - loss: 0.0389 - val_loss: 0.0393 - learning_rate: 0.0030\n",
      "Epoch 7/50\n",
      "\u001b[1m145/145\u001b[0m \u001b[32m━━━━━━━━━━━━━━━━━━━━\u001b[0m\u001b[37m\u001b[0m \u001b[1m80s\u001b[0m 467ms/step - loss: 0.0381 - val_loss: 0.0390 - learning_rate: 0.0030\n",
      "Epoch 8/50\n",
      "\u001b[1m145/145\u001b[0m \u001b[32m━━━━━━━━━━━━━━━━━━━━\u001b[0m\u001b[37m\u001b[0m \u001b[1m84s\u001b[0m 478ms/step - loss: 0.0380 - val_loss: 0.0385 - learning_rate: 0.0030\n",
      "Epoch 9/50\n",
      "\u001b[1m145/145\u001b[0m \u001b[32m━━━━━━━━━━━━━━━━━━━━\u001b[0m\u001b[37m\u001b[0m \u001b[1m68s\u001b[0m 470ms/step - loss: 0.0379 - val_loss: 0.0384 - learning_rate: 0.0030\n",
      "Epoch 10/50\n",
      "\u001b[1m145/145\u001b[0m \u001b[32m━━━━━━━━━━━━━━━━━━━━\u001b[0m\u001b[37m\u001b[0m \u001b[1m83s\u001b[0m 476ms/step - loss: 0.0376 - val_loss: 0.0383 - learning_rate: 0.0030\n",
      "Epoch 11/50\n",
      "\u001b[1m145/145\u001b[0m \u001b[32m━━━━━━━━━━━━━━━━━━━━\u001b[0m\u001b[37m\u001b[0m \u001b[1m69s\u001b[0m 476ms/step - loss: 0.0375 - val_loss: 0.0377 - learning_rate: 0.0030\n",
      "Epoch 12/50\n",
      "\u001b[1m145/145\u001b[0m \u001b[32m━━━━━━━━━━━━━━━━━━━━\u001b[0m\u001b[37m\u001b[0m \u001b[1m81s\u001b[0m 472ms/step - loss: 0.0373 - val_loss: 0.0376 - learning_rate: 0.0030\n",
      "Epoch 13/50\n",
      "\u001b[1m145/145\u001b[0m \u001b[32m━━━━━━━━━━━━━━━━━━━━\u001b[0m\u001b[37m\u001b[0m \u001b[1m69s\u001b[0m 474ms/step - loss: 0.0368 - val_loss: 0.0393 - learning_rate: 0.0030\n",
      "Epoch 14/50\n",
      "\u001b[1m145/145\u001b[0m \u001b[32m━━━━━━━━━━━━━━━━━━━━\u001b[0m\u001b[37m\u001b[0m \u001b[1m83s\u001b[0m 479ms/step - loss: 0.0370 - val_loss: 0.0396 - learning_rate: 0.0030\n",
      "Epoch 15/50\n",
      "\u001b[1m145/145\u001b[0m \u001b[32m━━━━━━━━━━━━━━━━━━━━\u001b[0m\u001b[37m\u001b[0m \u001b[1m69s\u001b[0m 473ms/step - loss: 0.0358 - val_loss: 0.0386 - learning_rate: 3.0400e-04\n",
      "Epoch 16/50\n",
      "\u001b[1m145/145\u001b[0m \u001b[32m━━━━━━━━━━━━━━━━━━━━\u001b[0m\u001b[37m\u001b[0m \u001b[1m67s\u001b[0m 461ms/step - loss: 0.0354 - val_loss: 0.0383 - learning_rate: 3.0400e-04\n",
      "Epoch 17/50\n",
      "\u001b[1m145/145\u001b[0m \u001b[32m━━━━━━━━━━━━━━━━━━━━\u001b[0m\u001b[37m\u001b[0m \u001b[1m83s\u001b[0m 466ms/step - loss: 0.0351 - val_loss: 0.0383 - learning_rate: 3.0400e-04\n",
      "\u001b[1m39/39\u001b[0m \u001b[32m━━━━━━━━━━━━━━━━━━━━\u001b[0m\u001b[37m\u001b[0m \u001b[1m5s\u001b[0m 124ms/step\n",
      "\u001b[1m127/127\u001b[0m \u001b[32m━━━━━━━━━━━━━━━━━━━━\u001b[0m\u001b[37m\u001b[0m \u001b[1m16s\u001b[0m 129ms/step\n",
      "\n",
      "--- Fold 4 - MCC: 0.984131\n",
      "\n",
      "Epoch 1/50\n",
      "\u001b[1m145/145\u001b[0m \u001b[32m━━━━━━━━━━━━━━━━━━━━\u001b[0m\u001b[37m\u001b[0m \u001b[1m73s\u001b[0m 491ms/step - loss: 0.2314 - val_loss: 0.0414 - learning_rate: 0.0030\n",
      "Epoch 2/50\n",
      "\u001b[1m145/145\u001b[0m \u001b[32m━━━━━━━━━━━━━━━━━━━━\u001b[0m\u001b[37m\u001b[0m \u001b[1m68s\u001b[0m 471ms/step - loss: 0.0434 - val_loss: 0.0388 - learning_rate: 0.0030\n",
      "Epoch 3/50\n",
      "\u001b[1m145/145\u001b[0m \u001b[32m━━━━━━━━━━━━━━━━━━━━\u001b[0m\u001b[37m\u001b[0m \u001b[1m67s\u001b[0m 463ms/step - loss: 0.0406 - val_loss: 0.0385 - learning_rate: 0.0030\n",
      "Epoch 4/50\n",
      "\u001b[1m145/145\u001b[0m \u001b[32m━━━━━━━━━━━━━━━━━━━━\u001b[0m\u001b[37m\u001b[0m \u001b[1m68s\u001b[0m 468ms/step - loss: 0.0398 - val_loss: 0.0389 - learning_rate: 0.0030\n",
      "Epoch 5/50\n",
      "\u001b[1m145/145\u001b[0m \u001b[32m━━━━━━━━━━━━━━━━━━━━\u001b[0m\u001b[37m\u001b[0m \u001b[1m67s\u001b[0m 461ms/step - loss: 0.0392 - val_loss: 0.0376 - learning_rate: 0.0030\n",
      "Epoch 6/50\n",
      "\u001b[1m145/145\u001b[0m \u001b[32m━━━━━━━━━━━━━━━━━━━━\u001b[0m\u001b[37m\u001b[0m \u001b[1m67s\u001b[0m 464ms/step - loss: 0.0391 - val_loss: 0.0374 - learning_rate: 0.0030\n",
      "Epoch 7/50\n",
      "\u001b[1m145/145\u001b[0m \u001b[32m━━━━━━━━━━━━━━━━━━━━\u001b[0m\u001b[37m\u001b[0m \u001b[1m68s\u001b[0m 465ms/step - loss: 0.0387 - val_loss: 0.0375 - learning_rate: 0.0030\n",
      "Epoch 8/50\n",
      "\u001b[1m145/145\u001b[0m \u001b[32m━━━━━━━━━━━━━━━━━━━━\u001b[0m\u001b[37m\u001b[0m \u001b[1m68s\u001b[0m 471ms/step - loss: 0.0382 - val_loss: 0.0372 - learning_rate: 0.0030\n",
      "Epoch 9/50\n",
      "\u001b[1m145/145\u001b[0m \u001b[32m━━━━━━━━━━━━━━━━━━━━\u001b[0m\u001b[37m\u001b[0m \u001b[1m84s\u001b[0m 483ms/step - loss: 0.0377 - val_loss: 0.0372 - learning_rate: 0.0030\n",
      "Epoch 10/50\n",
      "\u001b[1m145/145\u001b[0m \u001b[32m━━━━━━━━━━━━━━━━━━━━\u001b[0m\u001b[37m\u001b[0m \u001b[1m82s\u001b[0m 479ms/step - loss: 0.0376 - val_loss: 0.0372 - learning_rate: 0.0030\n",
      "Epoch 11/50\n",
      "\u001b[1m145/145\u001b[0m \u001b[32m━━━━━━━━━━━━━━━━━━━━\u001b[0m\u001b[37m\u001b[0m \u001b[1m69s\u001b[0m 472ms/step - loss: 0.0372 - val_loss: 0.0374 - learning_rate: 0.0030\n",
      "Epoch 12/50\n",
      "\u001b[1m145/145\u001b[0m \u001b[32m━━━━━━━━━━━━━━━━━━━━\u001b[0m\u001b[37m\u001b[0m \u001b[1m68s\u001b[0m 467ms/step - loss: 0.0367 - val_loss: 0.0365 - learning_rate: 3.0400e-04\n",
      "Epoch 13/50\n",
      "\u001b[1m145/145\u001b[0m \u001b[32m━━━━━━━━━━━━━━━━━━━━\u001b[0m\u001b[37m\u001b[0m \u001b[1m67s\u001b[0m 464ms/step - loss: 0.0362 - val_loss: 0.0364 - learning_rate: 3.0400e-04\n",
      "Epoch 14/50\n",
      "\u001b[1m145/145\u001b[0m \u001b[32m━━━━━━━━━━━━━━━━━━━━\u001b[0m\u001b[37m\u001b[0m \u001b[1m83s\u001b[0m 472ms/step - loss: 0.0362 - val_loss: 0.0363 - learning_rate: 3.0400e-04\n",
      "Epoch 15/50\n",
      "\u001b[1m145/145\u001b[0m \u001b[32m━━━━━━━━━━━━━━━━━━━━\u001b[0m\u001b[37m\u001b[0m \u001b[1m68s\u001b[0m 467ms/step - loss: 0.0360 - val_loss: 0.0364 - learning_rate: 3.0400e-04\n",
      "Epoch 16/50\n",
      "\u001b[1m145/145\u001b[0m \u001b[32m━━━━━━━━━━━━━━━━━━━━\u001b[0m\u001b[37m\u001b[0m \u001b[1m83s\u001b[0m 473ms/step - loss: 0.0360 - val_loss: 0.0364 - learning_rate: 3.0400e-04\n",
      "Epoch 17/50\n",
      "\u001b[1m145/145\u001b[0m \u001b[32m━━━━━━━━━━━━━━━━━━━━\u001b[0m\u001b[37m\u001b[0m \u001b[1m68s\u001b[0m 468ms/step - loss: 0.0354 - val_loss: 0.0364 - learning_rate: 3.0400e-04\n",
      "Epoch 18/50\n",
      "\u001b[1m145/145\u001b[0m \u001b[32m━━━━━━━━━━━━━━━━━━━━\u001b[0m\u001b[37m\u001b[0m \u001b[1m68s\u001b[0m 469ms/step - loss: 0.0353 - val_loss: 0.0363 - learning_rate: 3.0400e-05\n",
      "Epoch 19/50\n",
      "\u001b[1m145/145\u001b[0m \u001b[32m━━━━━━━━━━━━━━━━━━━━\u001b[0m\u001b[37m\u001b[0m \u001b[1m68s\u001b[0m 466ms/step - loss: 0.0353 - val_loss: 0.0363 - learning_rate: 3.0400e-05\n",
      "Epoch 20/50\n",
      "\u001b[1m145/145\u001b[0m \u001b[32m━━━━━━━━━━━━━━━━━━━━\u001b[0m\u001b[37m\u001b[0m \u001b[1m68s\u001b[0m 466ms/step - loss: 0.0352 - val_loss: 0.0363 - learning_rate: 3.0400e-05\n",
      "Epoch 21/50\n",
      "\u001b[1m145/145\u001b[0m \u001b[32m━━━━━━━━━━━━━━━━━━━━\u001b[0m\u001b[37m\u001b[0m \u001b[1m68s\u001b[0m 466ms/step - loss: 0.0354 - val_loss: 0.0363 - learning_rate: 3.0400e-06\n",
      "Epoch 22/50\n",
      "\u001b[1m145/145\u001b[0m \u001b[32m━━━━━━━━━━━━━━━━━━━━\u001b[0m\u001b[37m\u001b[0m \u001b[1m68s\u001b[0m 470ms/step - loss: 0.0357 - val_loss: 0.0363 - learning_rate: 3.0400e-06\n",
      "Epoch 23/50\n",
      "\u001b[1m145/145\u001b[0m \u001b[32m━━━━━━━━━━━━━━━━━━━━\u001b[0m\u001b[37m\u001b[0m \u001b[1m82s\u001b[0m 468ms/step - loss: 0.0353 - val_loss: 0.0363 - learning_rate: 3.0400e-06\n",
      "\u001b[1m39/39\u001b[0m \u001b[32m━━━━━━━━━━━━━━━━━━━━\u001b[0m\u001b[37m\u001b[0m \u001b[1m5s\u001b[0m 120ms/step\n",
      "\u001b[1m127/127\u001b[0m \u001b[32m━━━━━━━━━━━━━━━━━━━━\u001b[0m\u001b[37m\u001b[0m \u001b[1m16s\u001b[0m 128ms/step\n",
      "\n",
      "--- Fold 5 - MCC: 0.984288\n",
      "\n",
      "\n",
      "------ Average MCC: 0.984218 ± 0.000134\n"
     ]
    }
   ],
   "source": [
    "trainer = Trainer(model)\n",
    "trainer.fit_predict(X, y, X_test)"
   ]
  }
 ],
 "metadata": {
  "kaggle": {
   "accelerator": "none",
   "dataSources": [
    {
     "databundleVersionId": 9045607,
     "sourceId": 76727,
     "sourceType": "competition"
    }
   ],
   "dockerImageVersionId": 30746,
   "isGpuEnabled": false,
   "isInternetEnabled": true,
   "language": "python",
   "sourceType": "notebook"
  },
  "kernelspec": {
   "display_name": "Python 3",
   "language": "python",
   "name": "python3"
  },
  "language_info": {
   "codemirror_mode": {
    "name": "ipython",
    "version": 3
   },
   "file_extension": ".py",
   "mimetype": "text/x-python",
   "name": "python",
   "nbconvert_exporter": "python",
   "pygments_lexer": "ipython3",
   "version": "3.10.13"
  },
  "papermill": {
   "default_parameters": {},
   "duration": 8234.480062,
   "end_time": "2024-08-11T08:03:57.488004",
   "environment_variables": {},
   "exception": null,
   "input_path": "__notebook__.ipynb",
   "output_path": "__notebook__.ipynb",
   "parameters": {},
   "start_time": "2024-08-11T05:46:43.007942",
   "version": "2.5.0"
  }
 },
 "nbformat": 4,
 "nbformat_minor": 5
}
