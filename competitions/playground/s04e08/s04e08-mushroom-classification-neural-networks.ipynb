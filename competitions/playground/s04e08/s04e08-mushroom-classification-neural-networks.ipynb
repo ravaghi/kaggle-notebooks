{
 "cells": [
  {
   "cell_type": "markdown",
   "id": "f68943ec",
   "metadata": {
    "papermill": {
     "duration": 0.007131,
     "end_time": "2024-08-05T07:00:08.591585",
     "exception": false,
     "start_time": "2024-08-05T07:00:08.584454",
     "status": "completed"
    },
    "tags": []
   },
   "source": [
    "# Imports and Configs"
   ]
  },
  {
   "cell_type": "code",
   "execution_count": 1,
   "id": "f61e6afe",
   "metadata": {
    "_kg_hide-output": true,
    "execution": {
     "iopub.execute_input": "2024-08-05T07:00:08.606922Z",
     "iopub.status.busy": "2024-08-05T07:00:08.606528Z",
     "iopub.status.idle": "2024-08-05T07:00:34.561572Z",
     "shell.execute_reply": "2024-08-05T07:00:34.559755Z"
    },
    "papermill": {
     "duration": 25.966196,
     "end_time": "2024-08-05T07:00:34.564712",
     "exception": false,
     "start_time": "2024-08-05T07:00:08.598516",
     "status": "completed"
    },
    "tags": []
   },
   "outputs": [
    {
     "name": "stdout",
     "output_type": "stream",
     "text": [
      "\u001b[31mERROR: pip's dependency resolver does not currently take into account all the packages that are installed. This behaviour is the source of the following dependency conflicts.\r\n",
      "spaghetti 1.7.6 requires shapely>=2.0.1, but you have shapely 1.8.5.post1 which is incompatible.\r\n",
      "spopt 0.6.1 requires shapely>=2.0.1, but you have shapely 1.8.5.post1 which is incompatible.\u001b[0m\u001b[31m\r\n",
      "\u001b[0m"
     ]
    }
   ],
   "source": [
    "!pip install -q scikit-learn==1.4\n",
    "!pip install -q --no-deps scikeras"
   ]
  },
  {
   "cell_type": "code",
   "execution_count": 2,
   "id": "f399c28f",
   "metadata": {
    "_cell_guid": "b1076dfc-b9ad-4769-8c92-a6c4dae69d19",
    "_kg_hide-output": true,
    "_uuid": "8f2839f25d086af736a60e9eeb907d3b93b6e0e5",
    "execution": {
     "iopub.execute_input": "2024-08-05T07:00:34.582608Z",
     "iopub.status.busy": "2024-08-05T07:00:34.582080Z",
     "iopub.status.idle": "2024-08-05T07:00:54.728188Z",
     "shell.execute_reply": "2024-08-05T07:00:54.726632Z"
    },
    "papermill": {
     "duration": 20.158403,
     "end_time": "2024-08-05T07:00:54.731201",
     "exception": false,
     "start_time": "2024-08-05T07:00:34.572798",
     "status": "completed"
    },
    "tags": []
   },
   "outputs": [
    {
     "name": "stderr",
     "output_type": "stream",
     "text": [
      "2024-08-05 07:00:37.328173: E external/local_xla/xla/stream_executor/cuda/cuda_dnn.cc:9261] Unable to register cuDNN factory: Attempting to register factory for plugin cuDNN when one has already been registered\n",
      "2024-08-05 07:00:37.328310: E external/local_xla/xla/stream_executor/cuda/cuda_fft.cc:607] Unable to register cuFFT factory: Attempting to register factory for plugin cuFFT when one has already been registered\n",
      "2024-08-05 07:00:37.517152: E external/local_xla/xla/stream_executor/cuda/cuda_blas.cc:1515] Unable to register cuBLAS factory: Attempting to register factory for plugin cuBLAS when one has already been registered\n"
     ]
    }
   ],
   "source": [
    "from scikeras.wrappers import KerasClassifier\n",
    "from sklearn.model_selection import StratifiedKFold\n",
    "from sklearn.preprocessing import OneHotEncoder\n",
    "from sklearn.impute import SimpleImputer\n",
    "from sklearn.preprocessing import StandardScaler\n",
    "from sklearn.compose import ColumnTransformer\n",
    "from sklearn.preprocessing import PowerTransformer\n",
    "from sklearn.pipeline import make_pipeline\n",
    "from sklearn.metrics import matthews_corrcoef\n",
    "from sklearn.base import clone\n",
    "import matplotlib.pyplot as plt\n",
    "import seaborn as sns\n",
    "import pandas as pd\n",
    "import numpy as np\n",
    "import warnings\n",
    "import pickle\n",
    "import keras\n",
    "import gc\n",
    "\n",
    "warnings.filterwarnings('ignore')"
   ]
  },
  {
   "cell_type": "code",
   "execution_count": 3,
   "id": "25c7a687",
   "metadata": {
    "execution": {
     "iopub.execute_input": "2024-08-05T07:00:54.748718Z",
     "iopub.status.busy": "2024-08-05T07:00:54.747372Z",
     "iopub.status.idle": "2024-08-05T07:00:54.754153Z",
     "shell.execute_reply": "2024-08-05T07:00:54.752668Z"
    },
    "papermill": {
     "duration": 0.017989,
     "end_time": "2024-08-05T07:00:54.756823",
     "exception": false,
     "start_time": "2024-08-05T07:00:54.738834",
     "status": "completed"
    },
    "tags": []
   },
   "outputs": [],
   "source": [
    "TARGET = 'class'\n",
    "N_FOLDS = 5\n",
    "SEED = 6"
   ]
  },
  {
   "cell_type": "markdown",
   "id": "deb85e46",
   "metadata": {
    "papermill": {
     "duration": 0.006379,
     "end_time": "2024-08-05T07:00:54.770160",
     "exception": false,
     "start_time": "2024-08-05T07:00:54.763781",
     "status": "completed"
    },
    "tags": []
   },
   "source": [
    "# Loading Data"
   ]
  },
  {
   "cell_type": "code",
   "execution_count": 4,
   "id": "1a392b4d",
   "metadata": {
    "execution": {
     "iopub.execute_input": "2024-08-05T07:00:54.785891Z",
     "iopub.status.busy": "2024-08-05T07:00:54.785448Z",
     "iopub.status.idle": "2024-08-05T07:01:15.572615Z",
     "shell.execute_reply": "2024-08-05T07:01:15.571137Z"
    },
    "papermill": {
     "duration": 20.798485,
     "end_time": "2024-08-05T07:01:15.575642",
     "exception": false,
     "start_time": "2024-08-05T07:00:54.777157",
     "status": "completed"
    },
    "tags": []
   },
   "outputs": [],
   "source": [
    "train = pd.read_csv('/kaggle/input/playground-series-s4e8/train.csv', index_col='id')\n",
    "test = pd.read_csv('/kaggle/input/playground-series-s4e8/test.csv', index_col='id')"
   ]
  },
  {
   "cell_type": "code",
   "execution_count": 5,
   "id": "61145258",
   "metadata": {
    "execution": {
     "iopub.execute_input": "2024-08-05T07:01:15.593332Z",
     "iopub.status.busy": "2024-08-05T07:01:15.592206Z",
     "iopub.status.idle": "2024-08-05T07:01:15.603203Z",
     "shell.execute_reply": "2024-08-05T07:01:15.601692Z"
    },
    "papermill": {
     "duration": 0.023598,
     "end_time": "2024-08-05T07:01:15.606996",
     "exception": false,
     "start_time": "2024-08-05T07:01:15.583398",
     "status": "completed"
    },
    "tags": []
   },
   "outputs": [
    {
     "data": {
      "text/plain": [
       "((3116945, 21), (2077964, 20))"
      ]
     },
     "execution_count": 5,
     "metadata": {},
     "output_type": "execute_result"
    }
   ],
   "source": [
    "train.shape, test.shape"
   ]
  },
  {
   "cell_type": "code",
   "execution_count": 6,
   "id": "30bec159",
   "metadata": {
    "execution": {
     "iopub.execute_input": "2024-08-05T07:01:15.633871Z",
     "iopub.status.busy": "2024-08-05T07:01:15.632082Z",
     "iopub.status.idle": "2024-08-05T07:01:32.367123Z",
     "shell.execute_reply": "2024-08-05T07:01:32.365511Z"
    },
    "papermill": {
     "duration": 16.751396,
     "end_time": "2024-08-05T07:01:32.369904",
     "exception": false,
     "start_time": "2024-08-05T07:01:15.618508",
     "status": "completed"
    },
    "tags": []
   },
   "outputs": [
    {
     "data": {
      "image/png": "[encoded data removed]",
      "text/plain": [
       "<Figure size 1400x500 with 2 Axes>"
      ]
     },
     "metadata": {},
     "output_type": "display_data"
    }
   ],
   "source": [
    "cmap = sns.light_palette('#651FFF', as_cmap=True)\n",
    "\n",
    "train_null_values = train.sample(100_000).drop(columns=TARGET).isnull().T\n",
    "test_null_values = test.sample(100_000).isnull().T\n",
    "\n",
    "fig, axes = plt.subplots(nrows=1, ncols=2, figsize=(14, 5))\n",
    "\n",
    "sns.heatmap(train_null_values, cbar=False, cmap=cmap, ax=axes[0])\n",
    "axes[0].set_title('Train')\n",
    "axes[0].set_xticks([]) \n",
    "axes[0].set_xlabel('')\n",
    "\n",
    "sns.heatmap(test_null_values, cbar=False, cmap=cmap, ax=axes[1])\n",
    "axes[1].set_title('Test')\n",
    "axes[1].set_xticks([]) \n",
    "axes[1].set_xlabel('')\n",
    "\n",
    "plt.tight_layout()\n",
    "plt.show()"
   ]
  },
  {
   "cell_type": "markdown",
   "id": "66388239",
   "metadata": {
    "papermill": {
     "duration": 0.007498,
     "end_time": "2024-08-05T07:01:32.385217",
     "exception": false,
     "start_time": "2024-08-05T07:01:32.377719",
     "status": "completed"
    },
    "tags": []
   },
   "source": [
    "# Feature Engineering"
   ]
  },
  {
   "cell_type": "code",
   "execution_count": 7,
   "id": "23207bf0",
   "metadata": {
    "execution": {
     "iopub.execute_input": "2024-08-05T07:01:32.402974Z",
     "iopub.status.busy": "2024-08-05T07:01:32.402471Z",
     "iopub.status.idle": "2024-08-05T07:01:32.879123Z",
     "shell.execute_reply": "2024-08-05T07:01:32.877524Z"
    },
    "papermill": {
     "duration": 0.489564,
     "end_time": "2024-08-05T07:01:32.882529",
     "exception": false,
     "start_time": "2024-08-05T07:01:32.392965",
     "status": "completed"
    },
    "tags": []
   },
   "outputs": [],
   "source": [
    "cat_features = test.select_dtypes('object').columns\n",
    "cont_features = test.select_dtypes('float').columns"
   ]
  },
  {
   "cell_type": "code",
   "execution_count": 8,
   "id": "47ce6ab2",
   "metadata": {
    "execution": {
     "iopub.execute_input": "2024-08-05T07:01:32.901461Z",
     "iopub.status.busy": "2024-08-05T07:01:32.901012Z",
     "iopub.status.idle": "2024-08-05T07:01:50.090872Z",
     "shell.execute_reply": "2024-08-05T07:01:50.088985Z"
    },
    "papermill": {
     "duration": 17.203025,
     "end_time": "2024-08-05T07:01:50.093944",
     "exception": false,
     "start_time": "2024-08-05T07:01:32.890919",
     "status": "completed"
    },
    "tags": []
   },
   "outputs": [],
   "source": [
    "for feature in cat_features:    \n",
    "    for df in [train, test]:\n",
    "        df.loc[df[feature].value_counts(dropna=False)[df[feature]].values < 100, feature] = 'rare'"
   ]
  },
  {
   "cell_type": "code",
   "execution_count": 9,
   "id": "3c49d841",
   "metadata": {
    "execution": {
     "iopub.execute_input": "2024-08-05T07:01:50.111606Z",
     "iopub.status.busy": "2024-08-05T07:01:50.111136Z",
     "iopub.status.idle": "2024-08-05T07:01:50.119649Z",
     "shell.execute_reply": "2024-08-05T07:01:50.117902Z"
    },
    "papermill": {
     "duration": 0.02063,
     "end_time": "2024-08-05T07:01:50.122514",
     "exception": false,
     "start_time": "2024-08-05T07:01:50.101884",
     "status": "completed"
    },
    "tags": []
   },
   "outputs": [],
   "source": [
    "one_hot_encoder = OneHotEncoder(drop='first', sparse_output=False, dtype=np.float32, handle_unknown='infrequent_if_exist', min_frequency=50)\n",
    "step_1 = ('imputer', make_pipeline(PowerTransformer(), SimpleImputer(add_indicator=True)), cont_features)\n",
    "step_2 = ('one-hot-encoder', one_hot_encoder, cat_features)\n",
    "steps = [step_1, step_2]\n",
    "transformer = ColumnTransformer(steps, remainder='passthrough')\n",
    "\n",
    "pipeline = make_pipeline(transformer, StandardScaler())"
   ]
  },
  {
   "cell_type": "code",
   "execution_count": 10,
   "id": "b5ab6021",
   "metadata": {
    "execution": {
     "iopub.execute_input": "2024-08-05T07:01:50.141105Z",
     "iopub.status.busy": "2024-08-05T07:01:50.140664Z",
     "iopub.status.idle": "2024-08-05T07:01:51.054560Z",
     "shell.execute_reply": "2024-08-05T07:01:51.053231Z"
    },
    "papermill": {
     "duration": 0.926105,
     "end_time": "2024-08-05T07:01:51.057499",
     "exception": false,
     "start_time": "2024-08-05T07:01:50.131394",
     "status": "completed"
    },
    "tags": []
   },
   "outputs": [],
   "source": [
    "X = train.drop([TARGET], axis=1)\n",
    "y = train[TARGET].map({'e': 0, 'p': 1})\n",
    "X_test = test"
   ]
  },
  {
   "cell_type": "code",
   "execution_count": 11,
   "id": "99f9e903",
   "metadata": {
    "execution": {
     "iopub.execute_input": "2024-08-05T07:01:51.074810Z",
     "iopub.status.busy": "2024-08-05T07:01:51.074367Z",
     "iopub.status.idle": "2024-08-05T07:04:35.918798Z",
     "shell.execute_reply": "2024-08-05T07:04:35.917162Z"
    },
    "papermill": {
     "duration": 164.856556,
     "end_time": "2024-08-05T07:04:35.921860",
     "exception": false,
     "start_time": "2024-08-05T07:01:51.065304",
     "status": "completed"
    },
    "tags": []
   },
   "outputs": [],
   "source": [
    "X = pipeline.fit_transform(X)\n",
    "X_test = pipeline.transform(X_test)"
   ]
  },
  {
   "cell_type": "markdown",
   "id": "0819b0e6",
   "metadata": {
    "papermill": {
     "duration": 0.007442,
     "end_time": "2024-08-05T07:04:35.937513",
     "exception": false,
     "start_time": "2024-08-05T07:04:35.930071",
     "status": "completed"
    },
    "tags": []
   },
   "source": [
    "# Training"
   ]
  },
  {
   "cell_type": "code",
   "execution_count": 12,
   "id": "a5c28940",
   "metadata": {
    "execution": {
     "iopub.execute_input": "2024-08-05T07:04:35.955056Z",
     "iopub.status.busy": "2024-08-05T07:04:35.954573Z",
     "iopub.status.idle": "2024-08-05T07:04:35.973585Z",
     "shell.execute_reply": "2024-08-05T07:04:35.972270Z"
    },
    "papermill": {
     "duration": 0.03162,
     "end_time": "2024-08-05T07:04:35.976674",
     "exception": false,
     "start_time": "2024-08-05T07:04:35.945054",
     "status": "completed"
    },
    "tags": []
   },
   "outputs": [],
   "source": [
    "class Trainer:\n",
    "    def __init__(self, model, n_folds=N_FOLDS):\n",
    "        self.model = model\n",
    "        self.n_folds = n_folds\n",
    "\n",
    "    def fit_predict(self, X, y, X_test):\n",
    "        print(f'Training {self.model.__class__.__name__}\\n')\n",
    "        \n",
    "        scores = []        \n",
    "        oof_pred_probs = np.zeros((X.shape[0], len(np.unique(y))))\n",
    "        test_pred_probs = np.zeros((X_test.shape[0], len(np.unique(y))))\n",
    "        \n",
    "        skf = StratifiedKFold(n_splits=self.n_folds, random_state=SEED, shuffle=True)\n",
    "        for fold_idx, (train_idx, val_idx) in enumerate(skf.split(X, y)):\n",
    "            X_train, X_val = X[train_idx], X[val_idx]\n",
    "            y_train, y_val = y[train_idx], y[val_idx]\n",
    "            \n",
    "            model = clone(self.model)\n",
    "            model.fit(X_train, y_train)\n",
    "            \n",
    "            y_pred_probs = model.predict_proba(X_val)\n",
    "            oof_pred_probs[val_idx] = y_pred_probs            \n",
    "            \n",
    "            temp_test_pred_probs = model.predict_proba(X_test)\n",
    "            test_pred_probs += temp_test_pred_probs / self.n_folds\n",
    "            \n",
    "            score = matthews_corrcoef(y_val, np.argmax(y_pred_probs, axis=1))\n",
    "            scores.append(score)\n",
    "            \n",
    "            del model, X_train, y_train, X_val, y_val, y_pred_probs\n",
    "            gc.collect()\n",
    "            \n",
    "            print(f'\\n--- Fold {fold_idx + 1} - MCC: {score:.6f}\\n')            \n",
    "            \n",
    "        self._save_pred_probs(oof_pred_probs, np.mean(scores), 'oof')\n",
    "        self._save_pred_probs(test_pred_probs, np.mean(scores), 'test')\n",
    "        self._save_submission(test_pred_probs, np.mean(scores))\n",
    "        print(f'\\n\\n------ Average MCC: {np.mean(scores):.6f} ± {np.std(scores):.6f}')\n",
    "        \n",
    "    def _save_pred_probs(self, pred_probs, cv_score, name):\n",
    "        model_name = self.model.__class__.__name__.lower().replace('classifier', '')\n",
    "        with open(f'{model_name}_{name}_pred_probs_{cv_score:.6f}.pkl', 'wb') as f:\n",
    "            pickle.dump(pred_probs, f)\n",
    "    \n",
    "    def _save_submission(self, test_pred_probs, score):\n",
    "        name = self.model.__class__.__name__.lower().replace('classifier', '')\n",
    "        sub = pd.read_csv('/kaggle/input/playground-series-s4e8/sample_submission.csv')\n",
    "        sub[TARGET] = np.argmax(test_pred_probs, axis=1)\n",
    "        sub[TARGET] = sub[TARGET].map({0: 'e', 1: 'p'})\n",
    "        sub.to_csv(f'sub_{name}_{score:.6f}.csv', index=False)"
   ]
  },
  {
   "cell_type": "code",
   "execution_count": 13,
   "id": "2166132f",
   "metadata": {
    "execution": {
     "iopub.execute_input": "2024-08-05T07:04:35.994178Z",
     "iopub.status.busy": "2024-08-05T07:04:35.993773Z",
     "iopub.status.idle": "2024-08-05T07:04:36.044677Z",
     "shell.execute_reply": "2024-08-05T07:04:36.043134Z"
    },
    "papermill": {
     "duration": 0.063157,
     "end_time": "2024-08-05T07:04:36.047752",
     "exception": false,
     "start_time": "2024-08-05T07:04:35.984595",
     "status": "completed"
    },
    "tags": []
   },
   "outputs": [],
   "source": [
    "# Reference: https://www.kaggle.com/code/ambrosm/pss4e8-eda-which-makes-sense\n",
    "\n",
    "def get_model(meta):\n",
    "    model = keras.models.Sequential()\n",
    "    model.add(keras.layers.Input(meta['X_shape_'][1:]))\n",
    "    model.add(keras.layers.Dense(359, kernel_initializer='glorot_uniform', activation='selu'))\n",
    "    model.add(keras.layers.Dropout(0.2))\n",
    "    model.add(keras.layers.Dense(431, kernel_initializer='glorot_uniform', activation='selu'))\n",
    "    model.add(keras.layers.Dropout(0.1))\n",
    "    model.add(keras.layers.Dense(314, kernel_initializer='glorot_uniform', activation='selu'))\n",
    "    model.add(keras.layers.Dropout(0.1))\n",
    "    model.add(keras.layers.Dense(1, activation='sigmoid'))\n",
    "    return model\n",
    "\n",
    "model = KerasClassifier(\n",
    "    get_model,\n",
    "    loss='binary_crossentropy',\n",
    "    optimizer=keras.optimizers.AdamW(learning_rate=0.0496),\n",
    "    validation_split=0.05,\n",
    "    batch_size=4096,\n",
    "    validation_batch_size=65536,\n",
    "    epochs=50,\n",
    "    verbose=1,\n",
    "    callbacks=[\n",
    "        keras.callbacks.ReduceLROnPlateau(patience=3),\n",
    "        keras.callbacks.EarlyStopping(patience=5, min_delta=0.00003)\n",
    "    ]\n",
    ")"
   ]
  },
  {
   "cell_type": "code",
   "execution_count": 14,
   "id": "8507096e",
   "metadata": {
    "_kg_hide-output": true,
    "execution": {
     "iopub.execute_input": "2024-08-05T07:04:36.065242Z",
     "iopub.status.busy": "2024-08-05T07:04:36.064798Z",
     "iopub.status.idle": "2024-08-05T08:55:22.441525Z",
     "shell.execute_reply": "2024-08-05T08:55:22.439693Z"
    },
    "papermill": {
     "duration": 6646.389182,
     "end_time": "2024-08-05T08:55:22.444771",
     "exception": false,
     "start_time": "2024-08-05T07:04:36.055589",
     "status": "completed"
    },
    "tags": []
   },
   "outputs": [
    {
     "name": "stdout",
     "output_type": "stream",
     "text": [
      "Training KerasClassifier\n",
      "\n",
      "Epoch 1/50\n",
      "\u001b[1m579/579\u001b[0m \u001b[32m━━━━━━━━━━━━━━━━━━━━\u001b[0m\u001b[37m\u001b[0m \u001b[1m75s\u001b[0m 125ms/step - loss: 11.0402 - val_loss: 0.0919 - learning_rate: 0.0496\n",
      "Epoch 2/50\n",
      "\u001b[1m579/579\u001b[0m \u001b[32m━━━━━━━━━━━━━━━━━━━━\u001b[0m\u001b[37m\u001b[0m \u001b[1m65s\u001b[0m 112ms/step - loss: 0.1011 - val_loss: 0.0541 - learning_rate: 0.0496\n",
      "Epoch 3/50\n",
      "\u001b[1m579/579\u001b[0m \u001b[32m━━━━━━━━━━━━━━━━━━━━\u001b[0m\u001b[37m\u001b[0m \u001b[1m65s\u001b[0m 113ms/step - loss: 0.0679 - val_loss: 0.0482 - learning_rate: 0.0496\n",
      "Epoch 4/50\n",
      "\u001b[1m579/579\u001b[0m \u001b[32m━━━━━━━━━━━━━━━━━━━━\u001b[0m\u001b[37m\u001b[0m \u001b[1m65s\u001b[0m 113ms/step - loss: 0.0575 - val_loss: 0.0462 - learning_rate: 0.0496\n",
      "Epoch 5/50\n",
      "\u001b[1m579/579\u001b[0m \u001b[32m━━━━━━━━━━━━━━━━━━━━\u001b[0m\u001b[37m\u001b[0m \u001b[1m65s\u001b[0m 112ms/step - loss: 0.0519 - val_loss: 0.0438 - learning_rate: 0.0496\n",
      "Epoch 6/50\n",
      "\u001b[1m579/579\u001b[0m \u001b[32m━━━━━━━━━━━━━━━━━━━━\u001b[0m\u001b[37m\u001b[0m \u001b[1m82s\u001b[0m 112ms/step - loss: 1.2976 - val_loss: 0.7043 - learning_rate: 0.0496\n",
      "Epoch 7/50\n",
      "\u001b[1m579/579\u001b[0m \u001b[32m━━━━━━━━━━━━━━━━━━━━\u001b[0m\u001b[37m\u001b[0m \u001b[1m66s\u001b[0m 114ms/step - loss: 0.8749 - val_loss: 0.7024 - learning_rate: 0.0496\n",
      "Epoch 8/50\n",
      "\u001b[1m579/579\u001b[0m \u001b[32m━━━━━━━━━━━━━━━━━━━━\u001b[0m\u001b[37m\u001b[0m \u001b[1m65s\u001b[0m 113ms/step - loss: 0.7811 - val_loss: 0.7491 - learning_rate: 0.0496\n",
      "Epoch 9/50\n",
      "\u001b[1m579/579\u001b[0m \u001b[32m━━━━━━━━━━━━━━━━━━━━\u001b[0m\u001b[37m\u001b[0m \u001b[1m82s\u001b[0m 113ms/step - loss: 0.6964 - val_loss: 0.6884 - learning_rate: 0.0050\n",
      "Epoch 10/50\n",
      "\u001b[1m579/579\u001b[0m \u001b[32m━━━━━━━━━━━━━━━━━━━━\u001b[0m\u001b[37m\u001b[0m \u001b[1m82s\u001b[0m 113ms/step - loss: 0.6924 - val_loss: 0.6885 - learning_rate: 0.0050\n",
      "\u001b[1m153/153\u001b[0m \u001b[32m━━━━━━━━━━━━━━━━━━━━\u001b[0m\u001b[37m\u001b[0m \u001b[1m5s\u001b[0m 34ms/step\n",
      "\u001b[1m508/508\u001b[0m \u001b[32m━━━━━━━━━━━━━━━━━━━━\u001b[0m\u001b[37m\u001b[0m \u001b[1m18s\u001b[0m 35ms/step\n",
      "\n",
      "--- Fold 1 - MCC: 0.000000\n",
      "\n",
      "Epoch 1/50\n",
      "\u001b[1m579/579\u001b[0m \u001b[32m━━━━━━━━━━━━━━━━━━━━\u001b[0m\u001b[37m\u001b[0m \u001b[1m68s\u001b[0m 113ms/step - loss: 8.3566 - val_loss: 0.0713 - learning_rate: 0.0496\n",
      "Epoch 2/50\n",
      "\u001b[1m579/579\u001b[0m \u001b[32m━━━━━━━━━━━━━━━━━━━━\u001b[0m\u001b[37m\u001b[0m \u001b[1m81s\u001b[0m 113ms/step - loss: 0.0822 - val_loss: 0.0526 - learning_rate: 0.0496\n",
      "Epoch 3/50\n",
      "\u001b[1m579/579\u001b[0m \u001b[32m━━━━━━━━━━━━━━━━━━━━\u001b[0m\u001b[37m\u001b[0m \u001b[1m67s\u001b[0m 115ms/step - loss: 0.0619 - val_loss: 0.0515 - learning_rate: 0.0496\n",
      "Epoch 4/50\n",
      "\u001b[1m579/579\u001b[0m \u001b[32m━━━━━━━━━━━━━━━━━━━━\u001b[0m\u001b[37m\u001b[0m \u001b[1m65s\u001b[0m 113ms/step - loss: 0.0537 - val_loss: 0.0473 - learning_rate: 0.0496\n",
      "Epoch 5/50\n",
      "\u001b[1m579/579\u001b[0m \u001b[32m━━━━━━━━━━━━━━━━━━━━\u001b[0m\u001b[37m\u001b[0m \u001b[1m65s\u001b[0m 113ms/step - loss: 0.0493 - val_loss: 0.0443 - learning_rate: 0.0496\n",
      "Epoch 6/50\n",
      "\u001b[1m579/579\u001b[0m \u001b[32m━━━━━━━━━━━━━━━━━━━━\u001b[0m\u001b[37m\u001b[0m \u001b[1m65s\u001b[0m 113ms/step - loss: 0.0472 - val_loss: 0.0439 - learning_rate: 0.0496\n",
      "Epoch 7/50\n",
      "\u001b[1m579/579\u001b[0m \u001b[32m━━━━━━━━━━━━━━━━━━━━\u001b[0m\u001b[37m\u001b[0m \u001b[1m65s\u001b[0m 113ms/step - loss: 0.0463 - val_loss: 0.0434 - learning_rate: 0.0496\n",
      "Epoch 8/50\n",
      "\u001b[1m579/579\u001b[0m \u001b[32m━━━━━━━━━━━━━━━━━━━━\u001b[0m\u001b[37m\u001b[0m \u001b[1m66s\u001b[0m 113ms/step - loss: 0.0477 - val_loss: 0.0469 - learning_rate: 0.0496\n",
      "Epoch 9/50\n",
      "\u001b[1m579/579\u001b[0m \u001b[32m━━━━━━━━━━━━━━━━━━━━\u001b[0m\u001b[37m\u001b[0m \u001b[1m65s\u001b[0m 112ms/step - loss: 0.0478 - val_loss: 0.0452 - learning_rate: 0.0496\n",
      "Epoch 10/50\n",
      "\u001b[1m579/579\u001b[0m \u001b[32m━━━━━━━━━━━━━━━━━━━━\u001b[0m\u001b[37m\u001b[0m \u001b[1m66s\u001b[0m 114ms/step - loss: 0.0481 - val_loss: 0.0699 - learning_rate: 0.0496\n",
      "Epoch 11/50\n",
      "\u001b[1m579/579\u001b[0m \u001b[32m━━━━━━━━━━━━━━━━━━━━\u001b[0m\u001b[37m\u001b[0m \u001b[1m85s\u001b[0m 119ms/step - loss: 0.0525 - val_loss: 0.0420 - learning_rate: 0.0050\n",
      "Epoch 12/50\n",
      "\u001b[1m579/579\u001b[0m \u001b[32m━━━━━━━━━━━━━━━━━━━━\u001b[0m\u001b[37m\u001b[0m \u001b[1m67s\u001b[0m 116ms/step - loss: 0.0447 - val_loss: 0.0406 - learning_rate: 0.0050\n",
      "Epoch 13/50\n",
      "\u001b[1m579/579\u001b[0m \u001b[32m━━━━━━━━━━━━━━━━━━━━\u001b[0m\u001b[37m\u001b[0m \u001b[1m67s\u001b[0m 116ms/step - loss: 0.0426 - val_loss: 0.0414 - learning_rate: 0.0050\n",
      "Epoch 14/50\n",
      "\u001b[1m579/579\u001b[0m \u001b[32m━━━━━━━━━━━━━━━━━━━━\u001b[0m\u001b[37m\u001b[0m \u001b[1m66s\u001b[0m 114ms/step - loss: 0.0428 - val_loss: 0.0403 - learning_rate: 0.0050\n",
      "Epoch 15/50\n",
      "\u001b[1m579/579\u001b[0m \u001b[32m━━━━━━━━━━━━━━━━━━━━\u001b[0m\u001b[37m\u001b[0m \u001b[1m66s\u001b[0m 114ms/step - loss: 0.0420 - val_loss: 0.0400 - learning_rate: 0.0050\n",
      "Epoch 16/50\n",
      "\u001b[1m579/579\u001b[0m \u001b[32m━━━━━━━━━━━━━━━━━━━━\u001b[0m\u001b[37m\u001b[0m \u001b[1m66s\u001b[0m 114ms/step - loss: 0.0419 - val_loss: 0.0393 - learning_rate: 0.0050\n",
      "Epoch 17/50\n",
      "\u001b[1m579/579\u001b[0m \u001b[32m━━━━━━━━━━━━━━━━━━━━\u001b[0m\u001b[37m\u001b[0m \u001b[1m67s\u001b[0m 115ms/step - loss: 0.0415 - val_loss: 0.0402 - learning_rate: 0.0050\n",
      "Epoch 18/50\n",
      "\u001b[1m579/579\u001b[0m \u001b[32m━━━━━━━━━━━━━━━━━━━━\u001b[0m\u001b[37m\u001b[0m \u001b[1m66s\u001b[0m 114ms/step - loss: 0.0413 - val_loss: 0.0398 - learning_rate: 0.0050\n",
      "Epoch 19/50\n",
      "\u001b[1m579/579\u001b[0m \u001b[32m━━━━━━━━━━━━━━━━━━━━\u001b[0m\u001b[37m\u001b[0m \u001b[1m66s\u001b[0m 113ms/step - loss: 0.0419 - val_loss: 0.0431 - learning_rate: 0.0050\n",
      "Epoch 20/50\n",
      "\u001b[1m579/579\u001b[0m \u001b[32m━━━━━━━━━━━━━━━━━━━━\u001b[0m\u001b[37m\u001b[0m \u001b[1m66s\u001b[0m 114ms/step - loss: 0.0393 - val_loss: 0.0383 - learning_rate: 4.9600e-04\n",
      "Epoch 21/50\n",
      "\u001b[1m579/579\u001b[0m \u001b[32m━━━━━━━━━━━━━━━━━━━━\u001b[0m\u001b[37m\u001b[0m \u001b[1m67s\u001b[0m 115ms/step - loss: 0.0385 - val_loss: 0.0382 - learning_rate: 4.9600e-04\n",
      "Epoch 22/50\n",
      "\u001b[1m579/579\u001b[0m \u001b[32m━━━━━━━━━━━━━━━━━━━━\u001b[0m\u001b[37m\u001b[0m \u001b[1m66s\u001b[0m 114ms/step - loss: 0.0383 - val_loss: 0.0380 - learning_rate: 4.9600e-04\n",
      "Epoch 23/50\n",
      "\u001b[1m579/579\u001b[0m \u001b[32m━━━━━━━━━━━━━━━━━━━━\u001b[0m\u001b[37m\u001b[0m \u001b[1m66s\u001b[0m 114ms/step - loss: 0.0382 - val_loss: 0.0380 - learning_rate: 4.9600e-04\n",
      "Epoch 24/50\n",
      "\u001b[1m579/579\u001b[0m \u001b[32m━━━━━━━━━━━━━━━━━━━━\u001b[0m\u001b[37m\u001b[0m \u001b[1m67s\u001b[0m 115ms/step - loss: 0.0378 - val_loss: 0.0380 - learning_rate: 4.9600e-04\n",
      "Epoch 25/50\n",
      "\u001b[1m579/579\u001b[0m \u001b[32m━━━━━━━━━━━━━━━━━━━━\u001b[0m\u001b[37m\u001b[0m \u001b[1m67s\u001b[0m 115ms/step - loss: 0.0379 - val_loss: 0.0381 - learning_rate: 4.9600e-04\n",
      "Epoch 26/50\n",
      "\u001b[1m579/579\u001b[0m \u001b[32m━━━━━━━━━━━━━━━━━━━━\u001b[0m\u001b[37m\u001b[0m \u001b[1m67s\u001b[0m 115ms/step - loss: 0.0372 - val_loss: 0.0378 - learning_rate: 4.9600e-05\n",
      "Epoch 27/50\n",
      "\u001b[1m579/579\u001b[0m \u001b[32m━━━━━━━━━━━━━━━━━━━━\u001b[0m\u001b[37m\u001b[0m \u001b[1m67s\u001b[0m 116ms/step - loss: 0.0371 - val_loss: 0.0379 - learning_rate: 4.9600e-05\n",
      "Epoch 28/50\n",
      "\u001b[1m579/579\u001b[0m \u001b[32m━━━━━━━━━━━━━━━━━━━━\u001b[0m\u001b[37m\u001b[0m \u001b[1m68s\u001b[0m 116ms/step - loss: 0.0374 - val_loss: 0.0379 - learning_rate: 4.9600e-05\n",
      "Epoch 29/50\n",
      "\u001b[1m579/579\u001b[0m \u001b[32m━━━━━━━━━━━━━━━━━━━━\u001b[0m\u001b[37m\u001b[0m \u001b[1m67s\u001b[0m 115ms/step - loss: 0.0375 - val_loss: 0.0379 - learning_rate: 4.9600e-05\n",
      "Epoch 30/50\n",
      "\u001b[1m579/579\u001b[0m \u001b[32m━━━━━━━━━━━━━━━━━━━━\u001b[0m\u001b[37m\u001b[0m \u001b[1m68s\u001b[0m 116ms/step - loss: 0.0368 - val_loss: 0.0379 - learning_rate: 4.9600e-06\n",
      "Epoch 31/50\n",
      "\u001b[1m579/579\u001b[0m \u001b[32m━━━━━━━━━━━━━━━━━━━━\u001b[0m\u001b[37m\u001b[0m \u001b[1m68s\u001b[0m 117ms/step - loss: 0.0370 - val_loss: 0.0378 - learning_rate: 4.9600e-06\n",
      "\u001b[1m153/153\u001b[0m \u001b[32m━━━━━━━━━━━━━━━━━━━━\u001b[0m\u001b[37m\u001b[0m \u001b[1m5s\u001b[0m 34ms/step\n",
      "\u001b[1m508/508\u001b[0m \u001b[32m━━━━━━━━━━━━━━━━━━━━\u001b[0m\u001b[37m\u001b[0m \u001b[1m19s\u001b[0m 37ms/step\n",
      "\n",
      "--- Fold 2 - MCC: 0.983969\n",
      "\n",
      "Epoch 1/50\n",
      "\u001b[1m579/579\u001b[0m \u001b[32m━━━━━━━━━━━━━━━━━━━━\u001b[0m\u001b[37m\u001b[0m \u001b[1m69s\u001b[0m 115ms/step - loss: 7.4635 - val_loss: 0.0605 - learning_rate: 0.0496\n",
      "Epoch 2/50\n",
      "\u001b[1m579/579\u001b[0m \u001b[32m━━━━━━━━━━━━━━━━━━━━\u001b[0m\u001b[37m\u001b[0m \u001b[1m66s\u001b[0m 115ms/step - loss: 0.0705 - val_loss: 0.0536 - learning_rate: 0.0496\n",
      "Epoch 3/50\n",
      "\u001b[1m579/579\u001b[0m \u001b[32m━━━━━━━━━━━━━━━━━━━━\u001b[0m\u001b[37m\u001b[0m \u001b[1m67s\u001b[0m 115ms/step - loss: 0.0565 - val_loss: 0.0451 - learning_rate: 0.0496\n",
      "Epoch 4/50\n",
      "\u001b[1m579/579\u001b[0m \u001b[32m━━━━━━━━━━━━━━━━━━━━\u001b[0m\u001b[37m\u001b[0m \u001b[1m67s\u001b[0m 115ms/step - loss: 0.0510 - val_loss: 0.0444 - learning_rate: 0.0496\n",
      "Epoch 5/50\n",
      "\u001b[1m579/579\u001b[0m \u001b[32m━━━━━━━━━━━━━━━━━━━━\u001b[0m\u001b[37m\u001b[0m \u001b[1m67s\u001b[0m 115ms/step - loss: 0.0487 - val_loss: 0.0442 - learning_rate: 0.0496\n",
      "Epoch 6/50\n",
      "\u001b[1m579/579\u001b[0m \u001b[32m━━━━━━━━━━━━━━━━━━━━\u001b[0m\u001b[37m\u001b[0m \u001b[1m66s\u001b[0m 114ms/step - loss: 0.0462 - val_loss: 0.0429 - learning_rate: 0.0496\n",
      "Epoch 7/50\n",
      "\u001b[1m579/579\u001b[0m \u001b[32m━━━━━━━━━━━━━━━━━━━━\u001b[0m\u001b[37m\u001b[0m \u001b[1m67s\u001b[0m 116ms/step - loss: 0.0457 - val_loss: 0.0462 - learning_rate: 0.0496\n",
      "Epoch 8/50\n",
      "\u001b[1m579/579\u001b[0m \u001b[32m━━━━━━━━━━━━━━━━━━━━\u001b[0m\u001b[37m\u001b[0m \u001b[1m68s\u001b[0m 117ms/step - loss: 0.6731 - val_loss: 0.6893 - learning_rate: 0.0496\n",
      "Epoch 9/50\n",
      "\u001b[1m579/579\u001b[0m \u001b[32m━━━━━━━━━━━━━━━━━━━━\u001b[0m\u001b[37m\u001b[0m \u001b[1m68s\u001b[0m 117ms/step - loss: 2.1371 - val_loss: 0.7123 - learning_rate: 0.0496\n",
      "Epoch 10/50\n",
      "\u001b[1m579/579\u001b[0m \u001b[32m━━━━━━━━━━━━━━━━━━━━\u001b[0m\u001b[37m\u001b[0m \u001b[1m67s\u001b[0m 116ms/step - loss: 1.6235 - val_loss: 0.7114 - learning_rate: 0.0050\n",
      "Epoch 11/50\n",
      "\u001b[1m579/579\u001b[0m \u001b[32m━━━━━━━━━━━━━━━━━━━━\u001b[0m\u001b[37m\u001b[0m \u001b[1m67s\u001b[0m 116ms/step - loss: 1.5747 - val_loss: 0.7095 - learning_rate: 0.0050\n",
      "\u001b[1m153/153\u001b[0m \u001b[32m━━━━━━━━━━━━━━━━━━━━\u001b[0m\u001b[37m\u001b[0m \u001b[1m5s\u001b[0m 35ms/step\n",
      "\u001b[1m508/508\u001b[0m \u001b[32m━━━━━━━━━━━━━━━━━━━━\u001b[0m\u001b[37m\u001b[0m \u001b[1m19s\u001b[0m 37ms/step\n",
      "\n",
      "--- Fold 3 - MCC: 0.000000\n",
      "\n",
      "Epoch 1/50\n",
      "\u001b[1m579/579\u001b[0m \u001b[32m━━━━━━━━━━━━━━━━━━━━\u001b[0m\u001b[37m\u001b[0m \u001b[1m69s\u001b[0m 116ms/step - loss: 6.9652 - val_loss: 0.0568 - learning_rate: 0.0496\n",
      "Epoch 2/50\n",
      "\u001b[1m579/579\u001b[0m \u001b[32m━━━━━━━━━━━━━━━━━━━━\u001b[0m\u001b[37m\u001b[0m \u001b[1m67s\u001b[0m 116ms/step - loss: 0.0642 - val_loss: 0.0523 - learning_rate: 0.0496\n",
      "Epoch 3/50\n",
      "\u001b[1m579/579\u001b[0m \u001b[32m━━━━━━━━━━━━━━━━━━━━\u001b[0m\u001b[37m\u001b[0m \u001b[1m67s\u001b[0m 116ms/step - loss: 0.0560 - val_loss: 0.0462 - learning_rate: 0.0496\n",
      "Epoch 4/50\n",
      "\u001b[1m579/579\u001b[0m \u001b[32m━━━━━━━━━━━━━━━━━━━━\u001b[0m\u001b[37m\u001b[0m \u001b[1m67s\u001b[0m 116ms/step - loss: 0.0515 - val_loss: 0.0458 - learning_rate: 0.0496\n",
      "Epoch 5/50\n",
      "\u001b[1m579/579\u001b[0m \u001b[32m━━━━━━━━━━━━━━━━━━━━\u001b[0m\u001b[37m\u001b[0m \u001b[1m68s\u001b[0m 117ms/step - loss: 0.0493 - val_loss: 0.0439 - learning_rate: 0.0496\n",
      "Epoch 6/50\n",
      "\u001b[1m579/579\u001b[0m \u001b[32m━━━━━━━━━━━━━━━━━━━━\u001b[0m\u001b[37m\u001b[0m \u001b[1m82s\u001b[0m 117ms/step - loss: 0.0462 - val_loss: 0.0425 - learning_rate: 0.0496\n",
      "Epoch 7/50\n",
      "\u001b[1m579/579\u001b[0m \u001b[32m━━━━━━━━━━━━━━━━━━━━\u001b[0m\u001b[37m\u001b[0m \u001b[1m70s\u001b[0m 120ms/step - loss: 0.0455 - val_loss: 0.0411 - learning_rate: 0.0496\n",
      "Epoch 8/50\n",
      "\u001b[1m579/579\u001b[0m \u001b[32m━━━━━━━━━━━━━━━━━━━━\u001b[0m\u001b[37m\u001b[0m \u001b[1m68s\u001b[0m 118ms/step - loss: 0.0441 - val_loss: 0.0432 - learning_rate: 0.0496\n",
      "Epoch 9/50\n",
      "\u001b[1m579/579\u001b[0m \u001b[32m━━━━━━━━━━━━━━━━━━━━\u001b[0m\u001b[37m\u001b[0m \u001b[1m69s\u001b[0m 118ms/step - loss: 0.0441 - val_loss: 0.0449 - learning_rate: 0.0496\n",
      "Epoch 10/50\n",
      "\u001b[1m579/579\u001b[0m \u001b[32m━━━━━━━━━━━━━━━━━━━━\u001b[0m\u001b[37m\u001b[0m \u001b[1m84s\u001b[0m 121ms/step - loss: 0.0454 - val_loss: 0.0450 - learning_rate: 0.0496\n",
      "Epoch 11/50\n",
      "\u001b[1m579/579\u001b[0m \u001b[32m━━━━━━━━━━━━━━━━━━━━\u001b[0m\u001b[37m\u001b[0m \u001b[1m66s\u001b[0m 115ms/step - loss: 0.0418 - val_loss: 0.0386 - learning_rate: 0.0050\n",
      "Epoch 12/50\n",
      "\u001b[1m579/579\u001b[0m \u001b[32m━━━━━━━━━━━━━━━━━━━━\u001b[0m\u001b[37m\u001b[0m \u001b[1m67s\u001b[0m 115ms/step - loss: 0.0395 - val_loss: 0.0390 - learning_rate: 0.0050\n",
      "Epoch 13/50\n",
      "\u001b[1m579/579\u001b[0m \u001b[32m━━━━━━━━━━━━━━━━━━━━\u001b[0m\u001b[37m\u001b[0m \u001b[1m67s\u001b[0m 115ms/step - loss: 0.0398 - val_loss: 0.0386 - learning_rate: 0.0050\n",
      "Epoch 14/50\n",
      "\u001b[1m579/579\u001b[0m \u001b[32m━━━━━━━━━━━━━━━━━━━━\u001b[0m\u001b[37m\u001b[0m \u001b[1m67s\u001b[0m 115ms/step - loss: 0.0393 - val_loss: 0.0389 - learning_rate: 0.0050\n",
      "Epoch 15/50\n",
      "\u001b[1m579/579\u001b[0m \u001b[32m━━━━━━━━━━━━━━━━━━━━\u001b[0m\u001b[37m\u001b[0m \u001b[1m82s\u001b[0m 115ms/step - loss: 0.0381 - val_loss: 0.0379 - learning_rate: 4.9600e-04\n",
      "Epoch 16/50\n",
      "\u001b[1m579/579\u001b[0m \u001b[32m━━━━━━━━━━━━━━━━━━━━\u001b[0m\u001b[37m\u001b[0m \u001b[1m67s\u001b[0m 115ms/step - loss: 0.0378 - val_loss: 0.0377 - learning_rate: 4.9600e-04\n",
      "Epoch 17/50\n",
      "\u001b[1m579/579\u001b[0m \u001b[32m━━━━━━━━━━━━━━━━━━━━\u001b[0m\u001b[37m\u001b[0m \u001b[1m68s\u001b[0m 117ms/step - loss: 0.0376 - val_loss: 0.0376 - learning_rate: 4.9600e-04\n",
      "Epoch 18/50\n",
      "\u001b[1m579/579\u001b[0m \u001b[32m━━━━━━━━━━━━━━━━━━━━\u001b[0m\u001b[37m\u001b[0m \u001b[1m81s\u001b[0m 115ms/step - loss: 0.0379 - val_loss: 0.0377 - learning_rate: 4.9600e-04\n",
      "Epoch 19/50\n",
      "\u001b[1m579/579\u001b[0m \u001b[32m━━━━━━━━━━━━━━━━━━━━\u001b[0m\u001b[37m\u001b[0m \u001b[1m66s\u001b[0m 114ms/step - loss: 0.0377 - val_loss: 0.0375 - learning_rate: 4.9600e-04\n",
      "Epoch 20/50\n",
      "\u001b[1m579/579\u001b[0m \u001b[32m━━━━━━━━━━━━━━━━━━━━\u001b[0m\u001b[37m\u001b[0m \u001b[1m66s\u001b[0m 114ms/step - loss: 0.0374 - val_loss: 0.0377 - learning_rate: 4.9600e-04\n",
      "Epoch 21/50\n",
      "\u001b[1m579/579\u001b[0m \u001b[32m━━━━━━━━━━━━━━━━━━━━\u001b[0m\u001b[37m\u001b[0m \u001b[1m68s\u001b[0m 117ms/step - loss: 0.0373 - val_loss: 0.0375 - learning_rate: 4.9600e-05\n",
      "Epoch 22/50\n",
      "\u001b[1m579/579\u001b[0m \u001b[32m━━━━━━━━━━━━━━━━━━━━\u001b[0m\u001b[37m\u001b[0m \u001b[1m67s\u001b[0m 115ms/step - loss: 0.0370 - val_loss: 0.0375 - learning_rate: 4.9600e-05\n",
      "Epoch 23/50\n",
      "\u001b[1m579/579\u001b[0m \u001b[32m━━━━━━━━━━━━━━━━━━━━\u001b[0m\u001b[37m\u001b[0m \u001b[1m67s\u001b[0m 116ms/step - loss: 0.0366 - val_loss: 0.0373 - learning_rate: 4.9600e-05\n",
      "Epoch 24/50\n",
      "\u001b[1m579/579\u001b[0m \u001b[32m━━━━━━━━━━━━━━━━━━━━\u001b[0m\u001b[37m\u001b[0m \u001b[1m68s\u001b[0m 117ms/step - loss: 0.0371 - val_loss: 0.0373 - learning_rate: 4.9600e-05\n",
      "Epoch 25/50\n",
      "\u001b[1m579/579\u001b[0m \u001b[32m━━━━━━━━━━━━━━━━━━━━\u001b[0m\u001b[37m\u001b[0m \u001b[1m67s\u001b[0m 116ms/step - loss: 0.0365 - val_loss: 0.0373 - learning_rate: 4.9600e-05\n",
      "Epoch 26/50\n",
      "\u001b[1m579/579\u001b[0m \u001b[32m━━━━━━━━━━━━━━━━━━━━\u001b[0m\u001b[37m\u001b[0m \u001b[1m68s\u001b[0m 116ms/step - loss: 0.0369 - val_loss: 0.0374 - learning_rate: 4.9600e-05\n",
      "Epoch 27/50\n",
      "\u001b[1m579/579\u001b[0m \u001b[32m━━━━━━━━━━━━━━━━━━━━\u001b[0m\u001b[37m\u001b[0m \u001b[1m67s\u001b[0m 116ms/step - loss: 0.0372 - val_loss: 0.0374 - learning_rate: 4.9600e-06\n",
      "Epoch 28/50\n",
      "\u001b[1m579/579\u001b[0m \u001b[32m━━━━━━━━━━━━━━━━━━━━\u001b[0m\u001b[37m\u001b[0m \u001b[1m83s\u001b[0m 118ms/step - loss: 0.0369 - val_loss: 0.0374 - learning_rate: 4.9600e-06\n",
      "\u001b[1m153/153\u001b[0m \u001b[32m━━━━━━━━━━━━━━━━━━━━\u001b[0m\u001b[37m\u001b[0m \u001b[1m5s\u001b[0m 34ms/step\n",
      "\u001b[1m508/508\u001b[0m \u001b[32m━━━━━━━━━━━━━━━━━━━━\u001b[0m\u001b[37m\u001b[0m \u001b[1m20s\u001b[0m 38ms/step\n",
      "\n",
      "--- Fold 4 - MCC: 0.983775\n",
      "\n",
      "Epoch 1/50\n",
      "\u001b[1m579/579\u001b[0m \u001b[32m━━━━━━━━━━━━━━━━━━━━\u001b[0m\u001b[37m\u001b[0m \u001b[1m69s\u001b[0m 115ms/step - loss: 17.9075 - val_loss: 0.0690 - learning_rate: 0.0496\n",
      "Epoch 2/50\n",
      "\u001b[1m579/579\u001b[0m \u001b[32m━━━━━━━━━━━━━━━━━━━━\u001b[0m\u001b[37m\u001b[0m \u001b[1m66s\u001b[0m 114ms/step - loss: 0.0825 - val_loss: 0.0539 - learning_rate: 0.0496\n",
      "Epoch 3/50\n",
      "\u001b[1m579/579\u001b[0m \u001b[32m━━━━━━━━━━━━━━━━━━━━\u001b[0m\u001b[37m\u001b[0m \u001b[1m67s\u001b[0m 115ms/step - loss: 0.0628 - val_loss: 0.0470 - learning_rate: 0.0496\n",
      "Epoch 4/50\n",
      "\u001b[1m579/579\u001b[0m \u001b[32m━━━━━━━━━━━━━━━━━━━━\u001b[0m\u001b[37m\u001b[0m \u001b[1m66s\u001b[0m 114ms/step - loss: 0.0549 - val_loss: 0.0456 - learning_rate: 0.0496\n",
      "Epoch 5/50\n",
      "\u001b[1m579/579\u001b[0m \u001b[32m━━━━━━━━━━━━━━━━━━━━\u001b[0m\u001b[37m\u001b[0m \u001b[1m66s\u001b[0m 114ms/step - loss: 0.0504 - val_loss: 0.0429 - learning_rate: 0.0496\n",
      "Epoch 6/50\n",
      "\u001b[1m579/579\u001b[0m \u001b[32m━━━━━━━━━━━━━━━━━━━━\u001b[0m\u001b[37m\u001b[0m \u001b[1m87s\u001b[0m 123ms/step - loss: 0.0480 - val_loss: 0.0420 - learning_rate: 0.0496\n",
      "Epoch 7/50\n",
      "\u001b[1m579/579\u001b[0m \u001b[32m━━━━━━━━━━━━━━━━━━━━\u001b[0m\u001b[37m\u001b[0m \u001b[1m67s\u001b[0m 116ms/step - loss: 0.0457 - val_loss: 0.0421 - learning_rate: 0.0496\n",
      "Epoch 8/50\n",
      "\u001b[1m579/579\u001b[0m \u001b[32m━━━━━━━━━━━━━━━━━━━━\u001b[0m\u001b[37m\u001b[0m \u001b[1m67s\u001b[0m 116ms/step - loss: 0.0447 - val_loss: 0.0430 - learning_rate: 0.0496\n",
      "Epoch 9/50\n",
      "\u001b[1m579/579\u001b[0m \u001b[32m━━━━━━━━━━━━━━━━━━━━\u001b[0m\u001b[37m\u001b[0m \u001b[1m67s\u001b[0m 116ms/step - loss: 0.0452 - val_loss: 0.0412 - learning_rate: 0.0496\n",
      "Epoch 10/50\n",
      "\u001b[1m579/579\u001b[0m \u001b[32m━━━━━━━━━━━━━━━━━━━━\u001b[0m\u001b[37m\u001b[0m \u001b[1m68s\u001b[0m 117ms/step - loss: 0.0449 - val_loss: 0.0431 - learning_rate: 0.0496\n",
      "Epoch 11/50\n",
      "\u001b[1m579/579\u001b[0m \u001b[32m━━━━━━━━━━━━━━━━━━━━\u001b[0m\u001b[37m\u001b[0m \u001b[1m67s\u001b[0m 116ms/step - loss: 0.0462 - val_loss: 0.0475 - learning_rate: 0.0496\n",
      "Epoch 12/50\n",
      "\u001b[1m579/579\u001b[0m \u001b[32m━━━━━━━━━━━━━━━━━━━━\u001b[0m\u001b[37m\u001b[0m \u001b[1m67s\u001b[0m 116ms/step - loss: 1.0704 - val_loss: 0.8415 - learning_rate: 0.0496\n",
      "Epoch 13/50\n",
      "\u001b[1m579/579\u001b[0m \u001b[32m━━━━━━━━━━━━━━━━━━━━\u001b[0m\u001b[37m\u001b[0m \u001b[1m68s\u001b[0m 118ms/step - loss: 1.0673 - val_loss: 0.6951 - learning_rate: 0.0050\n",
      "Epoch 14/50\n",
      "\u001b[1m579/579\u001b[0m \u001b[32m━━━━━━━━━━━━━━━━━━━━\u001b[0m\u001b[37m\u001b[0m \u001b[1m67s\u001b[0m 115ms/step - loss: 0.9950 - val_loss: 0.6893 - learning_rate: 0.0050\n",
      "\u001b[1m153/153\u001b[0m \u001b[32m━━━━━━━━━━━━━━━━━━━━\u001b[0m\u001b[37m\u001b[0m \u001b[1m5s\u001b[0m 34ms/step\n",
      "\u001b[1m508/508\u001b[0m \u001b[32m━━━━━━━━━━━━━━━━━━━━\u001b[0m\u001b[37m\u001b[0m \u001b[1m18s\u001b[0m 35ms/step\n",
      "\n",
      "--- Fold 5 - MCC: 0.000000\n",
      "\n",
      "\n",
      "\n",
      "------ Average MCC: 0.393549 ± 0.481997\n"
     ]
    }
   ],
   "source": [
    "trainer = Trainer(model)\n",
    "trainer.fit_predict(X, y, X_test)"
   ]
  }
 ],
 "metadata": {
  "kaggle": {
   "accelerator": "none",
   "dataSources": [
    {
     "databundleVersionId": 9045607,
     "sourceId": 76727,
     "sourceType": "competition"
    }
   ],
   "dockerImageVersionId": 30746,
   "isGpuEnabled": false,
   "isInternetEnabled": true,
   "language": "python",
   "sourceType": "notebook"
  },
  "kernelspec": {
   "display_name": "Python 3",
   "language": "python",
   "name": "python3"
  },
  "language_info": {
   "codemirror_mode": {
    "name": "ipython",
    "version": 3
   },
   "file_extension": ".py",
   "mimetype": "text/x-python",
   "name": "python",
   "nbconvert_exporter": "python",
   "pygments_lexer": "ipython3",
   "version": "3.10.13"
  },
  "papermill": {
   "default_parameters": {},
   "duration": 6925.84072,
   "end_time": "2024-08-05T08:55:31.006946",
   "environment_variables": {},
   "exception": null,
   "input_path": "__notebook__.ipynb",
   "output_path": "__notebook__.ipynb",
   "parameters": {},
   "start_time": "2024-08-05T07:00:05.166226",
   "version": "2.5.0"
  }
 },
 "nbformat": 4,
 "nbformat_minor": 5
}
