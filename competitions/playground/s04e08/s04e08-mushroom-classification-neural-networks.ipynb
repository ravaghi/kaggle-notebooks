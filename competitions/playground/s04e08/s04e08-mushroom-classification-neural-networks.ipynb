{
 "cells": [
  {
   "cell_type": "markdown",
   "id": "e2f18207",
   "metadata": {
    "papermill": {
     "duration": 0.004533,
     "end_time": "2024-08-05T07:32:25.456888",
     "exception": false,
     "start_time": "2024-08-05T07:32:25.452355",
     "status": "completed"
    },
    "tags": []
   },
   "source": [
    "# Imports and Configs"
   ]
  },
  {
   "cell_type": "code",
   "execution_count": 1,
   "id": "b5f98fd3",
   "metadata": {
    "_kg_hide-output": true,
    "execution": {
     "iopub.execute_input": "2024-08-05T07:32:25.467141Z",
     "iopub.status.busy": "2024-08-05T07:32:25.466679Z",
     "iopub.status.idle": "2024-08-05T07:32:47.617792Z",
     "shell.execute_reply": "2024-08-05T07:32:47.616132Z"
    },
    "papermill": {
     "duration": 22.159669,
     "end_time": "2024-08-05T07:32:47.620873",
     "exception": false,
     "start_time": "2024-08-05T07:32:25.461204",
     "status": "completed"
    },
    "tags": []
   },
   "outputs": [
    {
     "name": "stdout",
     "output_type": "stream",
     "text": [
      "\u001b[31mERROR: pip's dependency resolver does not currently take into account all the packages that are installed. This behaviour is the source of the following dependency conflicts.\r\n",
      "spaghetti 1.7.6 requires shapely>=2.0.1, but you have shapely 1.8.5.post1 which is incompatible.\r\n",
      "spopt 0.6.1 requires shapely>=2.0.1, but you have shapely 1.8.5.post1 which is incompatible.\u001b[0m\u001b[31m\r\n",
      "\u001b[0m"
     ]
    }
   ],
   "source": [
    "!pip install -q scikit-learn==1.4\n",
    "!pip install -q --no-deps scikeras"
   ]
  },
  {
   "cell_type": "code",
   "execution_count": 2,
   "id": "aea8e7a3",
   "metadata": {
    "_cell_guid": "b1076dfc-b9ad-4769-8c92-a6c4dae69d19",
    "_kg_hide-output": true,
    "_uuid": "8f2839f25d086af736a60e9eeb907d3b93b6e0e5",
    "execution": {
     "iopub.execute_input": "2024-08-05T07:32:47.631666Z",
     "iopub.status.busy": "2024-08-05T07:32:47.631277Z",
     "iopub.status.idle": "2024-08-05T07:33:04.429232Z",
     "shell.execute_reply": "2024-08-05T07:33:04.427974Z"
    },
    "papermill": {
     "duration": 16.806607,
     "end_time": "2024-08-05T07:33:04.431956",
     "exception": false,
     "start_time": "2024-08-05T07:32:47.625349",
     "status": "completed"
    },
    "tags": []
   },
   "outputs": [
    {
     "name": "stderr",
     "output_type": "stream",
     "text": [
      "2024-08-05 07:32:49.895791: E external/local_xla/xla/stream_executor/cuda/cuda_dnn.cc:9261] Unable to register cuDNN factory: Attempting to register factory for plugin cuDNN when one has already been registered\n",
      "2024-08-05 07:32:49.895928: E external/local_xla/xla/stream_executor/cuda/cuda_fft.cc:607] Unable to register cuFFT factory: Attempting to register factory for plugin cuFFT when one has already been registered\n",
      "2024-08-05 07:32:50.063457: E external/local_xla/xla/stream_executor/cuda/cuda_blas.cc:1515] Unable to register cuBLAS factory: Attempting to register factory for plugin cuBLAS when one has already been registered\n"
     ]
    }
   ],
   "source": [
    "from scikeras.wrappers import KerasClassifier\n",
    "from sklearn.model_selection import StratifiedKFold\n",
    "from sklearn.preprocessing import OneHotEncoder\n",
    "from sklearn.impute import SimpleImputer\n",
    "from sklearn.preprocessing import StandardScaler\n",
    "from sklearn.compose import ColumnTransformer\n",
    "from sklearn.preprocessing import PowerTransformer\n",
    "from sklearn.pipeline import make_pipeline\n",
    "from sklearn.metrics import matthews_corrcoef\n",
    "from sklearn.base import clone\n",
    "import matplotlib.pyplot as plt\n",
    "import seaborn as sns\n",
    "import pandas as pd\n",
    "import numpy as np\n",
    "import warnings\n",
    "import pickle\n",
    "import keras\n",
    "import gc\n",
    "\n",
    "warnings.filterwarnings('ignore')"
   ]
  },
  {
   "cell_type": "code",
   "execution_count": 3,
   "id": "550f08ef",
   "metadata": {
    "execution": {
     "iopub.execute_input": "2024-08-05T07:33:04.442780Z",
     "iopub.status.busy": "2024-08-05T07:33:04.442075Z",
     "iopub.status.idle": "2024-08-05T07:33:04.447465Z",
     "shell.execute_reply": "2024-08-05T07:33:04.446318Z"
    },
    "papermill": {
     "duration": 0.013414,
     "end_time": "2024-08-05T07:33:04.449830",
     "exception": false,
     "start_time": "2024-08-05T07:33:04.436416",
     "status": "completed"
    },
    "tags": []
   },
   "outputs": [],
   "source": [
    "TARGET = 'class'\n",
    "N_FOLDS = 5\n",
    "SEED = 6"
   ]
  },
  {
   "cell_type": "markdown",
   "id": "aa20fb3a",
   "metadata": {
    "papermill": {
     "duration": 0.004183,
     "end_time": "2024-08-05T07:33:04.458498",
     "exception": false,
     "start_time": "2024-08-05T07:33:04.454315",
     "status": "completed"
    },
    "tags": []
   },
   "source": [
    "# Loading Data"
   ]
  },
  {
   "cell_type": "code",
   "execution_count": 4,
   "id": "db483946",
   "metadata": {
    "execution": {
     "iopub.execute_input": "2024-08-05T07:33:04.469437Z",
     "iopub.status.busy": "2024-08-05T07:33:04.468450Z",
     "iopub.status.idle": "2024-08-05T07:33:22.079044Z",
     "shell.execute_reply": "2024-08-05T07:33:22.077707Z"
    },
    "papermill": {
     "duration": 17.618873,
     "end_time": "2024-08-05T07:33:22.081715",
     "exception": false,
     "start_time": "2024-08-05T07:33:04.462842",
     "status": "completed"
    },
    "tags": []
   },
   "outputs": [],
   "source": [
    "train = pd.read_csv('/kaggle/input/playground-series-s4e8/train.csv', index_col='id')\n",
    "test = pd.read_csv('/kaggle/input/playground-series-s4e8/test.csv', index_col='id')"
   ]
  },
  {
   "cell_type": "code",
   "execution_count": 5,
   "id": "78eee101",
   "metadata": {
    "execution": {
     "iopub.execute_input": "2024-08-05T07:33:22.092343Z",
     "iopub.status.busy": "2024-08-05T07:33:22.091927Z",
     "iopub.status.idle": "2024-08-05T07:33:22.100154Z",
     "shell.execute_reply": "2024-08-05T07:33:22.098794Z"
    },
    "papermill": {
     "duration": 0.016436,
     "end_time": "2024-08-05T07:33:22.102615",
     "exception": false,
     "start_time": "2024-08-05T07:33:22.086179",
     "status": "completed"
    },
    "tags": []
   },
   "outputs": [
    {
     "data": {
      "text/plain": [
       "((3116945, 21), (2077964, 20))"
      ]
     },
     "execution_count": 5,
     "metadata": {},
     "output_type": "execute_result"
    }
   ],
   "source": [
    "train.shape, test.shape"
   ]
  },
  {
   "cell_type": "code",
   "execution_count": 6,
   "id": "077a714c",
   "metadata": {
    "execution": {
     "iopub.execute_input": "2024-08-05T07:33:22.115176Z",
     "iopub.status.busy": "2024-08-05T07:33:22.113918Z",
     "iopub.status.idle": "2024-08-05T07:33:38.283388Z",
     "shell.execute_reply": "2024-08-05T07:33:38.281997Z"
    },
    "papermill": {
     "duration": 16.177994,
     "end_time": "2024-08-05T07:33:38.285921",
     "exception": false,
     "start_time": "2024-08-05T07:33:22.107927",
     "status": "completed"
    },
    "tags": []
   },
   "outputs": [
    {
     "data": {
      "image/png": "[encoded data removed]",
      "text/plain": [
       "<Figure size 1400x500 with 2 Axes>"
      ]
     },
     "metadata": {},
     "output_type": "display_data"
    }
   ],
   "source": [
    "cmap = sns.light_palette('#651FFF', as_cmap=True)\n",
    "\n",
    "train_null_values = train.sample(100_000).drop(columns=TARGET).isnull().T\n",
    "test_null_values = test.sample(100_000).isnull().T\n",
    "\n",
    "fig, axes = plt.subplots(nrows=1, ncols=2, figsize=(14, 5))\n",
    "\n",
    "sns.heatmap(train_null_values, cbar=False, cmap=cmap, ax=axes[0])\n",
    "axes[0].set_title('Train')\n",
    "axes[0].set_xticks([]) \n",
    "axes[0].set_xlabel('')\n",
    "\n",
    "sns.heatmap(test_null_values, cbar=False, cmap=cmap, ax=axes[1])\n",
    "axes[1].set_title('Test')\n",
    "axes[1].set_xticks([]) \n",
    "axes[1].set_xlabel('')\n",
    "\n",
    "plt.tight_layout()\n",
    "plt.show()"
   ]
  },
  {
   "cell_type": "markdown",
   "id": "e7a9ced4",
   "metadata": {
    "papermill": {
     "duration": 0.005179,
     "end_time": "2024-08-05T07:33:38.296729",
     "exception": false,
     "start_time": "2024-08-05T07:33:38.291550",
     "status": "completed"
    },
    "tags": []
   },
   "source": [
    "# Feature Engineering"
   ]
  },
  {
   "cell_type": "code",
   "execution_count": 7,
   "id": "defc88b8",
   "metadata": {
    "execution": {
     "iopub.execute_input": "2024-08-05T07:33:38.309402Z",
     "iopub.status.busy": "2024-08-05T07:33:38.308682Z",
     "iopub.status.idle": "2024-08-05T07:33:38.769847Z",
     "shell.execute_reply": "2024-08-05T07:33:38.768554Z"
    },
    "papermill": {
     "duration": 0.470525,
     "end_time": "2024-08-05T07:33:38.772636",
     "exception": false,
     "start_time": "2024-08-05T07:33:38.302111",
     "status": "completed"
    },
    "tags": []
   },
   "outputs": [],
   "source": [
    "cat_features = test.select_dtypes('object').columns\n",
    "cont_features = test.select_dtypes('float').columns"
   ]
  },
  {
   "cell_type": "code",
   "execution_count": 8,
   "id": "727d34e9",
   "metadata": {
    "execution": {
     "iopub.execute_input": "2024-08-05T07:33:38.787885Z",
     "iopub.status.busy": "2024-08-05T07:33:38.787480Z",
     "iopub.status.idle": "2024-08-05T07:33:49.688318Z",
     "shell.execute_reply": "2024-08-05T07:33:49.687090Z"
    },
    "papermill": {
     "duration": 10.910881,
     "end_time": "2024-08-05T07:33:49.691148",
     "exception": false,
     "start_time": "2024-08-05T07:33:38.780267",
     "status": "completed"
    },
    "tags": []
   },
   "outputs": [],
   "source": [
    "for feature in cat_features:    \n",
    "    for df in [train, test]:\n",
    "        df.loc[df[feature].value_counts(dropna=False)[df[feature]].values < 100, feature] = 'rare'"
   ]
  },
  {
   "cell_type": "code",
   "execution_count": 9,
   "id": "b3053f51",
   "metadata": {
    "execution": {
     "iopub.execute_input": "2024-08-05T07:33:49.704467Z",
     "iopub.status.busy": "2024-08-05T07:33:49.704077Z",
     "iopub.status.idle": "2024-08-05T07:33:49.710669Z",
     "shell.execute_reply": "2024-08-05T07:33:49.709618Z"
    },
    "papermill": {
     "duration": 0.016248,
     "end_time": "2024-08-05T07:33:49.713011",
     "exception": false,
     "start_time": "2024-08-05T07:33:49.696763",
     "status": "completed"
    },
    "tags": []
   },
   "outputs": [],
   "source": [
    "one_hot_encoder = OneHotEncoder(drop='first', sparse_output=False, dtype=np.float32, handle_unknown='infrequent_if_exist', min_frequency=50)\n",
    "step_1 = ('imputer', make_pipeline(PowerTransformer(), SimpleImputer(add_indicator=True)), cont_features)\n",
    "step_2 = ('one-hot-encoder', one_hot_encoder, cat_features)\n",
    "steps = [step_1, step_2]\n",
    "transformer = ColumnTransformer(steps, remainder='passthrough')\n",
    "\n",
    "pipeline = make_pipeline(transformer, StandardScaler())"
   ]
  },
  {
   "cell_type": "code",
   "execution_count": 10,
   "id": "d557b04e",
   "metadata": {
    "execution": {
     "iopub.execute_input": "2024-08-05T07:33:49.727243Z",
     "iopub.status.busy": "2024-08-05T07:33:49.726819Z",
     "iopub.status.idle": "2024-08-05T07:33:50.519814Z",
     "shell.execute_reply": "2024-08-05T07:33:50.518146Z"
    },
    "papermill": {
     "duration": 0.803997,
     "end_time": "2024-08-05T07:33:50.522843",
     "exception": false,
     "start_time": "2024-08-05T07:33:49.718846",
     "status": "completed"
    },
    "tags": []
   },
   "outputs": [],
   "source": [
    "X = train.drop([TARGET], axis=1)\n",
    "y = train[TARGET].map({'e': 0, 'p': 1})\n",
    "X_test = test"
   ]
  },
  {
   "cell_type": "code",
   "execution_count": 11,
   "id": "3c0ff705",
   "metadata": {
    "execution": {
     "iopub.execute_input": "2024-08-05T07:33:50.537127Z",
     "iopub.status.busy": "2024-08-05T07:33:50.536712Z",
     "iopub.status.idle": "2024-08-05T07:35:57.049107Z",
     "shell.execute_reply": "2024-08-05T07:35:57.047621Z"
    },
    "papermill": {
     "duration": 126.523386,
     "end_time": "2024-08-05T07:35:57.052114",
     "exception": false,
     "start_time": "2024-08-05T07:33:50.528728",
     "status": "completed"
    },
    "tags": []
   },
   "outputs": [],
   "source": [
    "X = pipeline.fit_transform(X)\n",
    "X_test = pipeline.transform(X_test)"
   ]
  },
  {
   "cell_type": "markdown",
   "id": "77459575",
   "metadata": {
    "papermill": {
     "duration": 0.005501,
     "end_time": "2024-08-05T07:35:57.064762",
     "exception": false,
     "start_time": "2024-08-05T07:35:57.059261",
     "status": "completed"
    },
    "tags": []
   },
   "source": [
    "# Training"
   ]
  },
  {
   "cell_type": "code",
   "execution_count": 12,
   "id": "6e05e5a4",
   "metadata": {
    "execution": {
     "iopub.execute_input": "2024-08-05T07:35:57.078456Z",
     "iopub.status.busy": "2024-08-05T07:35:57.078019Z",
     "iopub.status.idle": "2024-08-05T07:35:57.093577Z",
     "shell.execute_reply": "2024-08-05T07:35:57.092438Z"
    },
    "papermill": {
     "duration": 0.025561,
     "end_time": "2024-08-05T07:35:57.096115",
     "exception": false,
     "start_time": "2024-08-05T07:35:57.070554",
     "status": "completed"
    },
    "tags": []
   },
   "outputs": [],
   "source": [
    "class Trainer:\n",
    "    def __init__(self, model, n_folds=N_FOLDS):\n",
    "        self.model = model\n",
    "        self.n_folds = n_folds\n",
    "\n",
    "    def fit_predict(self, X, y, X_test):\n",
    "        print(f'Training {self.model.__class__.__name__}\\n')\n",
    "        \n",
    "        scores = []        \n",
    "        oof_pred_probs = np.zeros((X.shape[0], len(np.unique(y))))\n",
    "        test_pred_probs = np.zeros((X_test.shape[0], len(np.unique(y))))\n",
    "        \n",
    "        skf = StratifiedKFold(n_splits=self.n_folds, random_state=SEED, shuffle=True)\n",
    "        for fold_idx, (train_idx, val_idx) in enumerate(skf.split(X, y)):\n",
    "            X_train, X_val = X[train_idx], X[val_idx]\n",
    "            y_train, y_val = y[train_idx], y[val_idx]\n",
    "            \n",
    "            model = clone(self.model)\n",
    "            model.fit(X_train, y_train)\n",
    "            \n",
    "            y_pred_probs = model.predict_proba(X_val)\n",
    "            oof_pred_probs[val_idx] = y_pred_probs            \n",
    "            \n",
    "            temp_test_pred_probs = model.predict_proba(X_test)\n",
    "            test_pred_probs += temp_test_pred_probs / self.n_folds\n",
    "            \n",
    "            score = matthews_corrcoef(y_val, np.argmax(y_pred_probs, axis=1))\n",
    "            scores.append(score)\n",
    "            \n",
    "            del model, X_train, y_train, X_val, y_val, y_pred_probs, temp_test_pred_probs\n",
    "            gc.collect()\n",
    "            \n",
    "            print(f'\\n--- Fold {fold_idx + 1} - MCC: {score:.6f}\\n')            \n",
    "            \n",
    "        self._save_pred_probs(oof_pred_probs, np.mean(scores), 'oof')\n",
    "        self._save_pred_probs(test_pred_probs, np.mean(scores), 'test')\n",
    "        self._save_submission(test_pred_probs, np.mean(scores))\n",
    "        print(f'\\n\\n------ Average MCC: {np.mean(scores):.6f} ± {np.std(scores):.6f}')\n",
    "        \n",
    "    def _save_pred_probs(self, pred_probs, cv_score, name):\n",
    "        model_name = self.model.__class__.__name__.lower().replace('classifier', '')\n",
    "        with open(f'{model_name}_{name}_pred_probs_{cv_score:.6f}.pkl', 'wb') as f:\n",
    "            pickle.dump(pred_probs, f)\n",
    "    \n",
    "    def _save_submission(self, test_pred_probs, score):\n",
    "        name = self.model.__class__.__name__.lower().replace('classifier', '')\n",
    "        sub = pd.read_csv('/kaggle/input/playground-series-s4e8/sample_submission.csv')\n",
    "        sub[TARGET] = np.argmax(test_pred_probs, axis=1)\n",
    "        sub[TARGET] = sub[TARGET].map({0: 'e', 1: 'p'})\n",
    "        sub.to_csv(f'sub_{name}_{score:.6f}.csv', index=False)"
   ]
  },
  {
   "cell_type": "code",
   "execution_count": 13,
   "id": "9d0f3daa",
   "metadata": {
    "execution": {
     "iopub.execute_input": "2024-08-05T07:35:57.110090Z",
     "iopub.status.busy": "2024-08-05T07:35:57.109639Z",
     "iopub.status.idle": "2024-08-05T07:35:57.156127Z",
     "shell.execute_reply": "2024-08-05T07:35:57.154936Z"
    },
    "papermill": {
     "duration": 0.056781,
     "end_time": "2024-08-05T07:35:57.158756",
     "exception": false,
     "start_time": "2024-08-05T07:35:57.101975",
     "status": "completed"
    },
    "tags": []
   },
   "outputs": [],
   "source": [
    "# Reference: https://www.kaggle.com/code/ambrosm/pss4e8-eda-which-makes-sense\n",
    "\n",
    "def get_model(meta):\n",
    "    model = keras.models.Sequential()\n",
    "    model.add(keras.layers.Input(meta['X_shape_'][1:]))\n",
    "    model.add(keras.layers.Dense(359, kernel_initializer='glorot_uniform', activation='selu'))\n",
    "    model.add(keras.layers.Dropout(0.2))\n",
    "    model.add(keras.layers.Dense(431, kernel_initializer='glorot_uniform', activation='selu'))\n",
    "    model.add(keras.layers.Dropout(0.1))\n",
    "    model.add(keras.layers.Dense(314, kernel_initializer='glorot_uniform', activation='selu'))\n",
    "    model.add(keras.layers.Dropout(0.1))\n",
    "    model.add(keras.layers.Dense(1, activation='sigmoid'))\n",
    "    return model\n",
    "\n",
    "model = KerasClassifier(\n",
    "    get_model,\n",
    "    loss='binary_crossentropy',\n",
    "    optimizer=keras.optimizers.AdamW(learning_rate=0.0496),\n",
    "    validation_split=0.05,\n",
    "    batch_size=4096,\n",
    "    validation_batch_size=65536,\n",
    "    epochs=50,\n",
    "    verbose=1,\n",
    "    callbacks=[\n",
    "        keras.callbacks.ReduceLROnPlateau(patience=3),\n",
    "        keras.callbacks.EarlyStopping(patience=5, min_delta=0.00003)\n",
    "    ]\n",
    ")"
   ]
  },
  {
   "cell_type": "code",
   "execution_count": 14,
   "id": "054eb7ad",
   "metadata": {
    "_kg_hide-output": true,
    "execution": {
     "iopub.execute_input": "2024-08-05T07:35:57.172146Z",
     "iopub.status.busy": "2024-08-05T07:35:57.171709Z",
     "iopub.status.idle": "2024-08-05T09:36:02.891864Z",
     "shell.execute_reply": "2024-08-05T09:36:02.890021Z"
    },
    "papermill": {
     "duration": 7205.730766,
     "end_time": "2024-08-05T09:36:02.895352",
     "exception": false,
     "start_time": "2024-08-05T07:35:57.164586",
     "status": "completed"
    },
    "tags": []
   },
   "outputs": [
    {
     "name": "stdout",
     "output_type": "stream",
     "text": [
      "Training KerasClassifier\n",
      "\n",
      "Epoch 1/50\n",
      "\u001b[1m579/579\u001b[0m \u001b[32m━━━━━━━━━━━━━━━━━━━━\u001b[0m\u001b[37m\u001b[0m \u001b[1m61s\u001b[0m 102ms/step - loss: 11.9404 - val_loss: 0.0710 - learning_rate: 0.0496\n",
      "Epoch 2/50\n",
      "\u001b[1m579/579\u001b[0m \u001b[32m━━━━━━━━━━━━━━━━━━━━\u001b[0m\u001b[37m\u001b[0m \u001b[1m60s\u001b[0m 103ms/step - loss: 0.0908 - val_loss: 0.0552 - learning_rate: 0.0496\n",
      "Epoch 3/50\n",
      "\u001b[1m579/579\u001b[0m \u001b[32m━━━━━━━━━━━━━━━━━━━━\u001b[0m\u001b[37m\u001b[0m \u001b[1m60s\u001b[0m 103ms/step - loss: 0.0678 - val_loss: 0.0482 - learning_rate: 0.0496\n",
      "Epoch 4/50\n",
      "\u001b[1m579/579\u001b[0m \u001b[32m━━━━━━━━━━━━━━━━━━━━\u001b[0m\u001b[37m\u001b[0m \u001b[1m59s\u001b[0m 102ms/step - loss: 0.0571 - val_loss: 0.0458 - learning_rate: 0.0496\n",
      "Epoch 5/50\n",
      "\u001b[1m579/579\u001b[0m \u001b[32m━━━━━━━━━━━━━━━━━━━━\u001b[0m\u001b[37m\u001b[0m \u001b[1m60s\u001b[0m 103ms/step - loss: 0.0515 - val_loss: 0.0437 - learning_rate: 0.0496\n",
      "Epoch 6/50\n",
      "\u001b[1m579/579\u001b[0m \u001b[32m━━━━━━━━━━━━━━━━━━━━\u001b[0m\u001b[37m\u001b[0m \u001b[1m81s\u001b[0m 101ms/step - loss: 0.0489 - val_loss: 0.0441 - learning_rate: 0.0496\n",
      "Epoch 7/50\n",
      "\u001b[1m579/579\u001b[0m \u001b[32m━━━━━━━━━━━━━━━━━━━━\u001b[0m\u001b[37m\u001b[0m \u001b[1m59s\u001b[0m 102ms/step - loss: 0.0476 - val_loss: 0.0448 - learning_rate: 0.0496\n",
      "Epoch 8/50\n",
      "\u001b[1m579/579\u001b[0m \u001b[32m━━━━━━━━━━━━━━━━━━━━\u001b[0m\u001b[37m\u001b[0m \u001b[1m59s\u001b[0m 102ms/step - loss: 0.0463 - val_loss: 0.0428 - learning_rate: 0.0496\n",
      "Epoch 9/50\n",
      "\u001b[1m579/579\u001b[0m \u001b[32m━━━━━━━━━━━━━━━━━━━━\u001b[0m\u001b[37m\u001b[0m \u001b[1m59s\u001b[0m 101ms/step - loss: 0.0461 - val_loss: 0.0434 - learning_rate: 0.0496\n",
      "Epoch 10/50\n",
      "\u001b[1m579/579\u001b[0m \u001b[32m━━━━━━━━━━━━━━━━━━━━\u001b[0m\u001b[37m\u001b[0m \u001b[1m60s\u001b[0m 103ms/step - loss: 1.5526 - val_loss: 0.7781 - learning_rate: 0.0496\n",
      "Epoch 11/50\n",
      "\u001b[1m579/579\u001b[0m \u001b[32m━━━━━━━━━━━━━━━━━━━━\u001b[0m\u001b[37m\u001b[0m \u001b[1m59s\u001b[0m 102ms/step - loss: 2.2194 - val_loss: 0.6899 - learning_rate: 0.0496\n",
      "Epoch 12/50\n",
      "\u001b[1m579/579\u001b[0m \u001b[32m━━━━━━━━━━━━━━━━━━━━\u001b[0m\u001b[37m\u001b[0m \u001b[1m82s\u001b[0m 102ms/step - loss: 1.6818 - val_loss: 0.6940 - learning_rate: 0.0050\n",
      "Epoch 13/50\n",
      "\u001b[1m579/579\u001b[0m \u001b[32m━━━━━━━━━━━━━━━━━━━━\u001b[0m\u001b[37m\u001b[0m \u001b[1m59s\u001b[0m 102ms/step - loss: 1.6180 - val_loss: 0.6889 - learning_rate: 0.0050\n",
      "\u001b[1m153/153\u001b[0m \u001b[32m━━━━━━━━━━━━━━━━━━━━\u001b[0m\u001b[37m\u001b[0m \u001b[1m5s\u001b[0m 32ms/step\n",
      "\u001b[1m508/508\u001b[0m \u001b[32m━━━━━━━━━━━━━━━━━━━━\u001b[0m\u001b[37m\u001b[0m \u001b[1m18s\u001b[0m 34ms/step\n",
      "\n",
      "--- Fold 1 - MCC: 0.000000\n",
      "\n",
      "Epoch 1/50\n",
      "\u001b[1m579/579\u001b[0m \u001b[32m━━━━━━━━━━━━━━━━━━━━\u001b[0m\u001b[37m\u001b[0m \u001b[1m61s\u001b[0m 103ms/step - loss: 12.3776 - val_loss: 0.0732 - learning_rate: 0.0496\n",
      "Epoch 2/50\n",
      "\u001b[1m579/579\u001b[0m \u001b[32m━━━━━━━━━━━━━━━━━━━━\u001b[0m\u001b[37m\u001b[0m \u001b[1m59s\u001b[0m 102ms/step - loss: 0.0814 - val_loss: 0.0533 - learning_rate: 0.0496\n",
      "Epoch 3/50\n",
      "\u001b[1m579/579\u001b[0m \u001b[32m━━━━━━━━━━━━━━━━━━━━\u001b[0m\u001b[37m\u001b[0m \u001b[1m60s\u001b[0m 103ms/step - loss: 0.0627 - val_loss: 0.0502 - learning_rate: 0.0496\n",
      "Epoch 4/50\n",
      "\u001b[1m579/579\u001b[0m \u001b[32m━━━━━━━━━━━━━━━━━━━━\u001b[0m\u001b[37m\u001b[0m \u001b[1m81s\u001b[0m 102ms/step - loss: 0.0546 - val_loss: 0.0497 - learning_rate: 0.0496\n",
      "Epoch 5/50\n",
      "\u001b[1m579/579\u001b[0m \u001b[32m━━━━━━━━━━━━━━━━━━━━\u001b[0m\u001b[37m\u001b[0m \u001b[1m83s\u001b[0m 103ms/step - loss: 0.0511 - val_loss: 0.0445 - learning_rate: 0.0496\n",
      "Epoch 6/50\n",
      "\u001b[1m579/579\u001b[0m \u001b[32m━━━━━━━━━━━━━━━━━━━━\u001b[0m\u001b[37m\u001b[0m \u001b[1m60s\u001b[0m 103ms/step - loss: 0.0479 - val_loss: 0.0436 - learning_rate: 0.0496\n",
      "Epoch 7/50\n",
      "\u001b[1m579/579\u001b[0m \u001b[32m━━━━━━━━━━━━━━━━━━━━\u001b[0m\u001b[37m\u001b[0m \u001b[1m61s\u001b[0m 105ms/step - loss: 0.0461 - val_loss: 0.0421 - learning_rate: 0.0496\n",
      "Epoch 8/50\n",
      "\u001b[1m579/579\u001b[0m \u001b[32m━━━━━━━━━━━━━━━━━━━━\u001b[0m\u001b[37m\u001b[0m \u001b[1m59s\u001b[0m 102ms/step - loss: 0.0448 - val_loss: 0.0434 - learning_rate: 0.0496\n",
      "Epoch 9/50\n",
      "\u001b[1m579/579\u001b[0m \u001b[32m━━━━━━━━━━━━━━━━━━━━\u001b[0m\u001b[37m\u001b[0m \u001b[1m82s\u001b[0m 103ms/step - loss: 0.0448 - val_loss: 0.0454 - learning_rate: 0.0496\n",
      "Epoch 10/50\n",
      "\u001b[1m579/579\u001b[0m \u001b[32m━━━━━━━━━━━━━━━━━━━━\u001b[0m\u001b[37m\u001b[0m \u001b[1m65s\u001b[0m 113ms/step - loss: 0.0448 - val_loss: 0.0458 - learning_rate: 0.0496\n",
      "Epoch 11/50\n",
      "\u001b[1m579/579\u001b[0m \u001b[32m━━━━━━━━━━━━━━━━━━━━\u001b[0m\u001b[37m\u001b[0m \u001b[1m61s\u001b[0m 105ms/step - loss: 0.0411 - val_loss: 0.0391 - learning_rate: 0.0050\n",
      "Epoch 12/50\n",
      "\u001b[1m579/579\u001b[0m \u001b[32m━━━━━━━━━━━━━━━━━━━━\u001b[0m\u001b[37m\u001b[0m \u001b[1m60s\u001b[0m 103ms/step - loss: 0.0399 - val_loss: 0.0392 - learning_rate: 0.0050\n",
      "Epoch 13/50\n",
      "\u001b[1m579/579\u001b[0m \u001b[32m━━━━━━━━━━━━━━━━━━━━\u001b[0m\u001b[37m\u001b[0m \u001b[1m61s\u001b[0m 105ms/step - loss: 0.0399 - val_loss: 0.0390 - learning_rate: 0.0050\n",
      "Epoch 14/50\n",
      "\u001b[1m579/579\u001b[0m \u001b[32m━━━━━━━━━━━━━━━━━━━━\u001b[0m\u001b[37m\u001b[0m \u001b[1m60s\u001b[0m 104ms/step - loss: 0.0394 - val_loss: 0.0406 - learning_rate: 0.0050\n",
      "Epoch 15/50\n",
      "\u001b[1m579/579\u001b[0m \u001b[32m━━━━━━━━━━━━━━━━━━━━\u001b[0m\u001b[37m\u001b[0m \u001b[1m60s\u001b[0m 104ms/step - loss: 0.0391 - val_loss: 0.0386 - learning_rate: 4.9600e-04\n",
      "Epoch 16/50\n",
      "\u001b[1m579/579\u001b[0m \u001b[32m━━━━━━━━━━━━━━━━━━━━\u001b[0m\u001b[37m\u001b[0m \u001b[1m60s\u001b[0m 104ms/step - loss: 0.0386 - val_loss: 0.0385 - learning_rate: 4.9600e-04\n",
      "Epoch 17/50\n",
      "\u001b[1m579/579\u001b[0m \u001b[32m━━━━━━━━━━━━━━━━━━━━\u001b[0m\u001b[37m\u001b[0m \u001b[1m60s\u001b[0m 104ms/step - loss: 0.0383 - val_loss: 0.0384 - learning_rate: 4.9600e-04\n",
      "Epoch 18/50\n",
      "\u001b[1m579/579\u001b[0m \u001b[32m━━━━━━━━━━━━━━━━━━━━\u001b[0m\u001b[37m\u001b[0m \u001b[1m61s\u001b[0m 105ms/step - loss: 0.0387 - val_loss: 0.0383 - learning_rate: 4.9600e-04\n",
      "Epoch 19/50\n",
      "\u001b[1m579/579\u001b[0m \u001b[32m━━━━━━━━━━━━━━━━━━━━\u001b[0m\u001b[37m\u001b[0m \u001b[1m60s\u001b[0m 103ms/step - loss: 0.0381 - val_loss: 0.0383 - learning_rate: 4.9600e-04\n",
      "Epoch 20/50\n",
      "\u001b[1m579/579\u001b[0m \u001b[32m━━━━━━━━━━━━━━━━━━━━\u001b[0m\u001b[37m\u001b[0m \u001b[1m61s\u001b[0m 105ms/step - loss: 0.0383 - val_loss: 0.0383 - learning_rate: 4.9600e-04\n",
      "Epoch 21/50\n",
      "\u001b[1m579/579\u001b[0m \u001b[32m━━━━━━━━━━━━━━━━━━━━\u001b[0m\u001b[37m\u001b[0m \u001b[1m81s\u001b[0m 103ms/step - loss: 0.0383 - val_loss: 0.0383 - learning_rate: 4.9600e-04\n",
      "Epoch 22/50\n",
      "\u001b[1m579/579\u001b[0m \u001b[32m━━━━━━━━━━━━━━━━━━━━\u001b[0m\u001b[37m\u001b[0m \u001b[1m61s\u001b[0m 105ms/step - loss: 0.0383 - val_loss: 0.0385 - learning_rate: 4.9600e-04\n",
      "Epoch 23/50\n",
      "\u001b[1m579/579\u001b[0m \u001b[32m━━━━━━━━━━━━━━━━━━━━\u001b[0m\u001b[37m\u001b[0m \u001b[1m61s\u001b[0m 104ms/step - loss: 0.0375 - val_loss: 0.0379 - learning_rate: 4.9600e-05\n",
      "Epoch 24/50\n",
      "\u001b[1m579/579\u001b[0m \u001b[32m━━━━━━━━━━━━━━━━━━━━\u001b[0m\u001b[37m\u001b[0m \u001b[1m82s\u001b[0m 105ms/step - loss: 0.0376 - val_loss: 0.0379 - learning_rate: 4.9600e-05\n",
      "Epoch 25/50\n",
      "\u001b[1m579/579\u001b[0m \u001b[32m━━━━━━━━━━━━━━━━━━━━\u001b[0m\u001b[37m\u001b[0m \u001b[1m60s\u001b[0m 104ms/step - loss: 0.0375 - val_loss: 0.0379 - learning_rate: 4.9600e-05\n",
      "Epoch 26/50\n",
      "\u001b[1m579/579\u001b[0m \u001b[32m━━━━━━━━━━━━━━━━━━━━\u001b[0m\u001b[37m\u001b[0m \u001b[1m61s\u001b[0m 105ms/step - loss: 0.0377 - val_loss: 0.0378 - learning_rate: 4.9600e-05\n",
      "Epoch 27/50\n",
      "\u001b[1m579/579\u001b[0m \u001b[32m━━━━━━━━━━━━━━━━━━━━\u001b[0m\u001b[37m\u001b[0m \u001b[1m81s\u001b[0m 103ms/step - loss: 0.0375 - val_loss: 0.0378 - learning_rate: 4.9600e-06\n",
      "Epoch 28/50\n",
      "\u001b[1m579/579\u001b[0m \u001b[32m━━━━━━━━━━━━━━━━━━━━\u001b[0m\u001b[37m\u001b[0m \u001b[1m83s\u001b[0m 105ms/step - loss: 0.0374 - val_loss: 0.0378 - learning_rate: 4.9600e-06\n",
      "Epoch 29/50\n",
      "\u001b[1m579/579\u001b[0m \u001b[32m━━━━━━━━━━━━━━━━━━━━\u001b[0m\u001b[37m\u001b[0m \u001b[1m60s\u001b[0m 103ms/step - loss: 0.0376 - val_loss: 0.0378 - learning_rate: 4.9600e-06\n",
      "Epoch 30/50\n",
      "\u001b[1m579/579\u001b[0m \u001b[32m━━━━━━━━━━━━━━━━━━━━\u001b[0m\u001b[37m\u001b[0m \u001b[1m82s\u001b[0m 104ms/step - loss: 0.0379 - val_loss: 0.0378 - learning_rate: 4.9600e-07\n",
      "Epoch 31/50\n",
      "\u001b[1m579/579\u001b[0m \u001b[32m━━━━━━━━━━━━━━━━━━━━\u001b[0m\u001b[37m\u001b[0m \u001b[1m61s\u001b[0m 105ms/step - loss: 0.0371 - val_loss: 0.0378 - learning_rate: 4.9600e-07\n",
      "\u001b[1m153/153\u001b[0m \u001b[32m━━━━━━━━━━━━━━━━━━━━\u001b[0m\u001b[37m\u001b[0m \u001b[1m5s\u001b[0m 31ms/step\n",
      "\u001b[1m508/508\u001b[0m \u001b[32m━━━━━━━━━━━━━━━━━━━━\u001b[0m\u001b[37m\u001b[0m \u001b[1m21s\u001b[0m 42ms/step\n",
      "\n",
      "--- Fold 2 - MCC: 0.983822\n",
      "\n",
      "Epoch 1/50\n",
      "\u001b[1m579/579\u001b[0m \u001b[32m━━━━━━━━━━━━━━━━━━━━\u001b[0m\u001b[37m\u001b[0m \u001b[1m63s\u001b[0m 105ms/step - loss: 13.4556 - val_loss: 0.0894 - learning_rate: 0.0496\n",
      "Epoch 2/50\n",
      "\u001b[1m579/579\u001b[0m \u001b[32m━━━━━━━━━━━━━━━━━━━━\u001b[0m\u001b[37m\u001b[0m \u001b[1m65s\u001b[0m 111ms/step - loss: 0.0972 - val_loss: 0.0550 - learning_rate: 0.0496\n",
      "Epoch 3/50\n",
      "\u001b[1m579/579\u001b[0m \u001b[32m━━━━━━━━━━━━━━━━━━━━\u001b[0m\u001b[37m\u001b[0m \u001b[1m61s\u001b[0m 106ms/step - loss: 0.0683 - val_loss: 0.0497 - learning_rate: 0.0496\n",
      "Epoch 4/50\n",
      "\u001b[1m579/579\u001b[0m \u001b[32m━━━━━━━━━━━━━━━━━━━━\u001b[0m\u001b[37m\u001b[0m \u001b[1m61s\u001b[0m 105ms/step - loss: 0.0563 - val_loss: 0.0481 - learning_rate: 0.0496\n",
      "Epoch 5/50\n",
      "\u001b[1m579/579\u001b[0m \u001b[32m━━━━━━━━━━━━━━━━━━━━\u001b[0m\u001b[37m\u001b[0m \u001b[1m62s\u001b[0m 107ms/step - loss: 0.0512 - val_loss: 0.0438 - learning_rate: 0.0496\n",
      "Epoch 6/50\n",
      "\u001b[1m579/579\u001b[0m \u001b[32m━━━━━━━━━━━━━━━━━━━━\u001b[0m\u001b[37m\u001b[0m \u001b[1m60s\u001b[0m 103ms/step - loss: 0.0478 - val_loss: 0.0447 - learning_rate: 0.0496\n",
      "Epoch 7/50\n",
      "\u001b[1m579/579\u001b[0m \u001b[32m━━━━━━━━━━━━━━━━━━━━\u001b[0m\u001b[37m\u001b[0m \u001b[1m62s\u001b[0m 107ms/step - loss: 0.0464 - val_loss: 0.0426 - learning_rate: 0.0496\n",
      "Epoch 8/50\n",
      "\u001b[1m579/579\u001b[0m \u001b[32m━━━━━━━━━━━━━━━━━━━━\u001b[0m\u001b[37m\u001b[0m \u001b[1m60s\u001b[0m 104ms/step - loss: 0.0459 - val_loss: 0.0442 - learning_rate: 0.0496\n",
      "Epoch 9/50\n",
      "\u001b[1m579/579\u001b[0m \u001b[32m━━━━━━━━━━━━━━━━━━━━\u001b[0m\u001b[37m\u001b[0m \u001b[1m61s\u001b[0m 105ms/step - loss: 0.0448 - val_loss: 0.0462 - learning_rate: 0.0496\n",
      "Epoch 10/50\n",
      "\u001b[1m579/579\u001b[0m \u001b[32m━━━━━━━━━━━━━━━━━━━━\u001b[0m\u001b[37m\u001b[0m \u001b[1m83s\u001b[0m 106ms/step - loss: 0.0467 - val_loss: 0.0447 - learning_rate: 0.0496\n",
      "Epoch 11/50\n",
      "\u001b[1m579/579\u001b[0m \u001b[32m━━━━━━━━━━━━━━━━━━━━\u001b[0m\u001b[37m\u001b[0m \u001b[1m62s\u001b[0m 107ms/step - loss: 0.0417 - val_loss: 0.0399 - learning_rate: 0.0050\n",
      "Epoch 12/50\n",
      "\u001b[1m579/579\u001b[0m \u001b[32m━━━━━━━━━━━━━━━━━━━━\u001b[0m\u001b[37m\u001b[0m \u001b[1m81s\u001b[0m 105ms/step - loss: 0.0402 - val_loss: 0.0413 - learning_rate: 0.0050\n",
      "Epoch 13/50\n",
      "\u001b[1m579/579\u001b[0m \u001b[32m━━━━━━━━━━━━━━━━━━━━\u001b[0m\u001b[37m\u001b[0m \u001b[1m62s\u001b[0m 106ms/step - loss: 0.0395 - val_loss: 0.0406 - learning_rate: 0.0050\n",
      "Epoch 14/50\n",
      "\u001b[1m579/579\u001b[0m \u001b[32m━━━━━━━━━━━━━━━━━━━━\u001b[0m\u001b[37m\u001b[0m \u001b[1m61s\u001b[0m 105ms/step - loss: 0.0395 - val_loss: 0.0418 - learning_rate: 0.0050\n",
      "Epoch 15/50\n",
      "\u001b[1m579/579\u001b[0m \u001b[32m━━━━━━━━━━━━━━━━━━━━\u001b[0m\u001b[37m\u001b[0m \u001b[1m61s\u001b[0m 105ms/step - loss: 0.0388 - val_loss: 0.0390 - learning_rate: 4.9600e-04\n",
      "Epoch 16/50\n",
      "\u001b[1m579/579\u001b[0m \u001b[32m━━━━━━━━━━━━━━━━━━━━\u001b[0m\u001b[37m\u001b[0m \u001b[1m61s\u001b[0m 106ms/step - loss: 0.0386 - val_loss: 0.0391 - learning_rate: 4.9600e-04\n",
      "Epoch 17/50\n",
      "\u001b[1m579/579\u001b[0m \u001b[32m━━━━━━━━━━━━━━━━━━━━\u001b[0m\u001b[37m\u001b[0m \u001b[1m61s\u001b[0m 105ms/step - loss: 0.0385 - val_loss: 0.0393 - learning_rate: 4.9600e-04\n",
      "Epoch 18/50\n",
      "\u001b[1m579/579\u001b[0m \u001b[32m━━━━━━━━━━━━━━━━━━━━\u001b[0m\u001b[37m\u001b[0m \u001b[1m63s\u001b[0m 108ms/step - loss: 0.0388 - val_loss: 0.0392 - learning_rate: 4.9600e-04\n",
      "Epoch 19/50\n",
      "\u001b[1m579/579\u001b[0m \u001b[32m━━━━━━━━━━━━━━━━━━━━\u001b[0m\u001b[37m\u001b[0m \u001b[1m82s\u001b[0m 108ms/step - loss: 0.0386 - val_loss: 0.0390 - learning_rate: 4.9600e-05\n",
      "Epoch 20/50\n",
      "\u001b[1m579/579\u001b[0m \u001b[32m━━━━━━━━━━━━━━━━━━━━\u001b[0m\u001b[37m\u001b[0m \u001b[1m61s\u001b[0m 106ms/step - loss: 0.0381 - val_loss: 0.0389 - learning_rate: 4.9600e-05\n",
      "Epoch 21/50\n",
      "\u001b[1m579/579\u001b[0m \u001b[32m━━━━━━━━━━━━━━━━━━━━\u001b[0m\u001b[37m\u001b[0m \u001b[1m82s\u001b[0m 105ms/step - loss: 0.0382 - val_loss: 0.0389 - learning_rate: 4.9600e-05\n",
      "Epoch 22/50\n",
      "\u001b[1m579/579\u001b[0m \u001b[32m━━━━━━━━━━━━━━━━━━━━\u001b[0m\u001b[37m\u001b[0m \u001b[1m62s\u001b[0m 107ms/step - loss: 0.0381 - val_loss: 0.0390 - learning_rate: 4.9600e-05\n",
      "Epoch 23/50\n",
      "\u001b[1m579/579\u001b[0m \u001b[32m━━━━━━━━━━━━━━━━━━━━\u001b[0m\u001b[37m\u001b[0m \u001b[1m64s\u001b[0m 110ms/step - loss: 0.0386 - val_loss: 0.0389 - learning_rate: 4.9600e-05\n",
      "Epoch 24/50\n",
      "\u001b[1m579/579\u001b[0m \u001b[32m━━━━━━━━━━━━━━━━━━━━\u001b[0m\u001b[37m\u001b[0m \u001b[1m79s\u001b[0m 106ms/step - loss: 0.0382 - val_loss: 0.0389 - learning_rate: 4.9600e-06\n",
      "Epoch 25/50\n",
      "\u001b[1m579/579\u001b[0m \u001b[32m━━━━━━━━━━━━━━━━━━━━\u001b[0m\u001b[37m\u001b[0m \u001b[1m62s\u001b[0m 106ms/step - loss: 0.0381 - val_loss: 0.0389 - learning_rate: 4.9600e-06\n",
      "\u001b[1m153/153\u001b[0m \u001b[32m━━━━━━━━━━━━━━━━━━━━\u001b[0m\u001b[37m\u001b[0m \u001b[1m5s\u001b[0m 33ms/step\n",
      "\u001b[1m508/508\u001b[0m \u001b[32m━━━━━━━━━━━━━━━━━━━━\u001b[0m\u001b[37m\u001b[0m \u001b[1m16s\u001b[0m 32ms/step\n",
      "\n",
      "--- Fold 3 - MCC: 0.982659\n",
      "\n",
      "Epoch 1/50\n",
      "\u001b[1m579/579\u001b[0m \u001b[32m━━━━━━━━━━━━━━━━━━━━\u001b[0m\u001b[37m\u001b[0m \u001b[1m66s\u001b[0m 110ms/step - loss: 13.1056 - val_loss: 0.0747 - learning_rate: 0.0496\n",
      "Epoch 2/50\n",
      "\u001b[1m579/579\u001b[0m \u001b[32m━━━━━━━━━━━━━━━━━━━━\u001b[0m\u001b[37m\u001b[0m \u001b[1m61s\u001b[0m 105ms/step - loss: 0.0875 - val_loss: 0.0528 - learning_rate: 0.0496\n",
      "Epoch 3/50\n",
      "\u001b[1m579/579\u001b[0m \u001b[32m━━━━━━━━━━━━━━━━━━━━\u001b[0m\u001b[37m\u001b[0m \u001b[1m63s\u001b[0m 108ms/step - loss: 0.0621 - val_loss: 0.0478 - learning_rate: 0.0496\n",
      "Epoch 4/50\n",
      "\u001b[1m579/579\u001b[0m \u001b[32m━━━━━━━━━━━━━━━━━━━━\u001b[0m\u001b[37m\u001b[0m \u001b[1m61s\u001b[0m 106ms/step - loss: 0.0541 - val_loss: 0.0443 - learning_rate: 0.0496\n",
      "Epoch 5/50\n",
      "\u001b[1m579/579\u001b[0m \u001b[32m━━━━━━━━━━━━━━━━━━━━\u001b[0m\u001b[37m\u001b[0m \u001b[1m62s\u001b[0m 106ms/step - loss: 0.0497 - val_loss: 0.0439 - learning_rate: 0.0496\n",
      "Epoch 6/50\n",
      "\u001b[1m579/579\u001b[0m \u001b[32m━━━━━━━━━━━━━━━━━━━━\u001b[0m\u001b[37m\u001b[0m \u001b[1m82s\u001b[0m 107ms/step - loss: 0.0470 - val_loss: 0.0424 - learning_rate: 0.0496\n",
      "Epoch 7/50\n",
      "\u001b[1m579/579\u001b[0m \u001b[32m━━━━━━━━━━━━━━━━━━━━\u001b[0m\u001b[37m\u001b[0m \u001b[1m62s\u001b[0m 107ms/step - loss: 0.0453 - val_loss: 0.0428 - learning_rate: 0.0496\n",
      "Epoch 8/50\n",
      "\u001b[1m579/579\u001b[0m \u001b[32m━━━━━━━━━━━━━━━━━━━━\u001b[0m\u001b[37m\u001b[0m \u001b[1m82s\u001b[0m 107ms/step - loss: 0.0452 - val_loss: 0.0413 - learning_rate: 0.0496\n",
      "Epoch 9/50\n",
      "\u001b[1m579/579\u001b[0m \u001b[32m━━━━━━━━━━━━━━━━━━━━\u001b[0m\u001b[37m\u001b[0m \u001b[1m62s\u001b[0m 107ms/step - loss: 0.0445 - val_loss: 0.0426 - learning_rate: 0.0496\n",
      "Epoch 10/50\n",
      "\u001b[1m579/579\u001b[0m \u001b[32m━━━━━━━━━━━━━━━━━━━━\u001b[0m\u001b[37m\u001b[0m \u001b[1m62s\u001b[0m 106ms/step - loss: 0.0452 - val_loss: 0.0457 - learning_rate: 0.0496\n",
      "Epoch 11/50\n",
      "\u001b[1m579/579\u001b[0m \u001b[32m━━━━━━━━━━━━━━━━━━━━\u001b[0m\u001b[37m\u001b[0m \u001b[1m60s\u001b[0m 104ms/step - loss: 0.0465 - val_loss: 0.0531 - learning_rate: 0.0496\n",
      "Epoch 12/50\n",
      "\u001b[1m579/579\u001b[0m \u001b[32m━━━━━━━━━━━━━━━━━━━━\u001b[0m\u001b[37m\u001b[0m \u001b[1m64s\u001b[0m 110ms/step - loss: 0.0425 - val_loss: 0.0385 - learning_rate: 0.0050\n",
      "Epoch 13/50\n",
      "\u001b[1m579/579\u001b[0m \u001b[32m━━━━━━━━━━━━━━━━━━━━\u001b[0m\u001b[37m\u001b[0m \u001b[1m62s\u001b[0m 107ms/step - loss: 0.0403 - val_loss: 0.0388 - learning_rate: 0.0050\n",
      "Epoch 14/50\n",
      "\u001b[1m579/579\u001b[0m \u001b[32m━━━━━━━━━━━━━━━━━━━━\u001b[0m\u001b[37m\u001b[0m \u001b[1m61s\u001b[0m 105ms/step - loss: 0.0399 - val_loss: 0.0390 - learning_rate: 0.0050\n",
      "Epoch 15/50\n",
      "\u001b[1m579/579\u001b[0m \u001b[32m━━━━━━━━━━━━━━━━━━━━\u001b[0m\u001b[37m\u001b[0m \u001b[1m61s\u001b[0m 105ms/step - loss: 0.0401 - val_loss: 0.0387 - learning_rate: 0.0050\n",
      "Epoch 16/50\n",
      "\u001b[1m579/579\u001b[0m \u001b[32m━━━━━━━━━━━━━━━━━━━━\u001b[0m\u001b[37m\u001b[0m \u001b[1m65s\u001b[0m 112ms/step - loss: 0.0384 - val_loss: 0.0375 - learning_rate: 4.9600e-04\n",
      "Epoch 17/50\n",
      "\u001b[1m579/579\u001b[0m \u001b[32m━━━━━━━━━━━━━━━━━━━━\u001b[0m\u001b[37m\u001b[0m \u001b[1m62s\u001b[0m 106ms/step - loss: 0.0383 - val_loss: 0.0376 - learning_rate: 4.9600e-04\n",
      "Epoch 18/50\n",
      "\u001b[1m579/579\u001b[0m \u001b[32m━━━━━━━━━━━━━━━━━━━━\u001b[0m\u001b[37m\u001b[0m \u001b[1m62s\u001b[0m 106ms/step - loss: 0.0384 - val_loss: 0.0378 - learning_rate: 4.9600e-04\n",
      "Epoch 19/50\n",
      "\u001b[1m579/579\u001b[0m \u001b[32m━━━━━━━━━━━━━━━━━━━━\u001b[0m\u001b[37m\u001b[0m \u001b[1m63s\u001b[0m 108ms/step - loss: 0.0379 - val_loss: 0.0378 - learning_rate: 4.9600e-04\n",
      "Epoch 20/50\n",
      "\u001b[1m579/579\u001b[0m \u001b[32m━━━━━━━━━━━━━━━━━━━━\u001b[0m\u001b[37m\u001b[0m \u001b[1m81s\u001b[0m 107ms/step - loss: 0.0377 - val_loss: 0.0376 - learning_rate: 4.9600e-05\n",
      "Epoch 21/50\n",
      "\u001b[1m579/579\u001b[0m \u001b[32m━━━━━━━━━━━━━━━━━━━━\u001b[0m\u001b[37m\u001b[0m \u001b[1m82s\u001b[0m 107ms/step - loss: 0.0377 - val_loss: 0.0375 - learning_rate: 4.9600e-05\n",
      "Epoch 22/50\n",
      "\u001b[1m579/579\u001b[0m \u001b[32m━━━━━━━━━━━━━━━━━━━━\u001b[0m\u001b[37m\u001b[0m \u001b[1m62s\u001b[0m 107ms/step - loss: 0.0379 - val_loss: 0.0376 - learning_rate: 4.9600e-05\n",
      "Epoch 23/50\n",
      "\u001b[1m579/579\u001b[0m \u001b[32m━━━━━━━━━━━━━━━━━━━━\u001b[0m\u001b[37m\u001b[0m \u001b[1m63s\u001b[0m 109ms/step - loss: 0.0376 - val_loss: 0.0375 - learning_rate: 4.9600e-06\n",
      "Epoch 24/50\n",
      "\u001b[1m579/579\u001b[0m \u001b[32m━━━━━━━━━━━━━━━━━━━━\u001b[0m\u001b[37m\u001b[0m \u001b[1m81s\u001b[0m 107ms/step - loss: 0.0376 - val_loss: 0.0375 - learning_rate: 4.9600e-06\n",
      "Epoch 25/50\n",
      "\u001b[1m579/579\u001b[0m \u001b[32m━━━━━━━━━━━━━━━━━━━━\u001b[0m\u001b[37m\u001b[0m \u001b[1m62s\u001b[0m 106ms/step - loss: 0.0375 - val_loss: 0.0375 - learning_rate: 4.9600e-06\n",
      "Epoch 26/50\n",
      "\u001b[1m579/579\u001b[0m \u001b[32m━━━━━━━━━━━━━━━━━━━━\u001b[0m\u001b[37m\u001b[0m \u001b[1m83s\u001b[0m 108ms/step - loss: 0.0376 - val_loss: 0.0375 - learning_rate: 4.9600e-07\n",
      "\u001b[1m153/153\u001b[0m \u001b[32m━━━━━━━━━━━━━━━━━━━━\u001b[0m\u001b[37m\u001b[0m \u001b[1m5s\u001b[0m 31ms/step\n",
      "\u001b[1m508/508\u001b[0m \u001b[32m━━━━━━━━━━━━━━━━━━━━\u001b[0m\u001b[37m\u001b[0m \u001b[1m16s\u001b[0m 32ms/step\n",
      "\n",
      "--- Fold 4 - MCC: 0.983040\n",
      "\n",
      "Epoch 1/50\n",
      "\u001b[1m579/579\u001b[0m \u001b[32m━━━━━━━━━━━━━━━━━━━━\u001b[0m\u001b[37m\u001b[0m \u001b[1m64s\u001b[0m 107ms/step - loss: 13.6429 - val_loss: 0.0605 - learning_rate: 0.0496\n",
      "Epoch 2/50\n",
      "\u001b[1m579/579\u001b[0m \u001b[32m━━━━━━━━━━━━━━━━━━━━\u001b[0m\u001b[37m\u001b[0m \u001b[1m62s\u001b[0m 107ms/step - loss: 0.0739 - val_loss: 0.0491 - learning_rate: 0.0496\n",
      "Epoch 3/50\n",
      "\u001b[1m579/579\u001b[0m \u001b[32m━━━━━━━━━━━━━━━━━━━━\u001b[0m\u001b[37m\u001b[0m \u001b[1m63s\u001b[0m 108ms/step - loss: 0.0572 - val_loss: 0.0445 - learning_rate: 0.0496\n",
      "Epoch 4/50\n",
      "\u001b[1m579/579\u001b[0m \u001b[32m━━━━━━━━━━━━━━━━━━━━\u001b[0m\u001b[37m\u001b[0m \u001b[1m61s\u001b[0m 105ms/step - loss: 0.0525 - val_loss: 0.0438 - learning_rate: 0.0496\n",
      "Epoch 5/50\n",
      "\u001b[1m579/579\u001b[0m \u001b[32m━━━━━━━━━━━━━━━━━━━━\u001b[0m\u001b[37m\u001b[0m \u001b[1m83s\u001b[0m 108ms/step - loss: 0.0480 - val_loss: 0.0448 - learning_rate: 0.0496\n",
      "Epoch 6/50\n",
      "\u001b[1m579/579\u001b[0m \u001b[32m━━━━━━━━━━━━━━━━━━━━\u001b[0m\u001b[37m\u001b[0m \u001b[1m62s\u001b[0m 107ms/step - loss: 0.0467 - val_loss: 0.0432 - learning_rate: 0.0496\n",
      "Epoch 7/50\n",
      "\u001b[1m579/579\u001b[0m \u001b[32m━━━━━━━━━━━━━━━━━━━━\u001b[0m\u001b[37m\u001b[0m \u001b[1m62s\u001b[0m 108ms/step - loss: 0.0450 - val_loss: 0.0426 - learning_rate: 0.0496\n",
      "Epoch 8/50\n",
      "\u001b[1m579/579\u001b[0m \u001b[32m━━━━━━━━━━━━━━━━━━━━\u001b[0m\u001b[37m\u001b[0m \u001b[1m63s\u001b[0m 108ms/step - loss: 0.0473 - val_loss: 0.2975 - learning_rate: 0.0496\n",
      "Epoch 9/50\n",
      "\u001b[1m579/579\u001b[0m \u001b[32m━━━━━━━━━━━━━━━━━━━━\u001b[0m\u001b[37m\u001b[0m \u001b[1m62s\u001b[0m 106ms/step - loss: 4.4366 - val_loss: 0.7235 - learning_rate: 0.0496\n",
      "Epoch 10/50\n",
      "\u001b[1m579/579\u001b[0m \u001b[32m━━━━━━━━━━━━━━━━━━━━\u001b[0m\u001b[37m\u001b[0m \u001b[1m61s\u001b[0m 105ms/step - loss: 1.0772 - val_loss: 0.9476 - learning_rate: 0.0496\n",
      "Epoch 11/50\n",
      "\u001b[1m579/579\u001b[0m \u001b[32m━━━━━━━━━━━━━━━━━━━━\u001b[0m\u001b[37m\u001b[0m \u001b[1m63s\u001b[0m 108ms/step - loss: 0.8752 - val_loss: 0.6889 - learning_rate: 0.0050\n",
      "Epoch 12/50\n",
      "\u001b[1m579/579\u001b[0m \u001b[32m━━━━━━━━━━━━━━━━━━━━\u001b[0m\u001b[37m\u001b[0m \u001b[1m62s\u001b[0m 106ms/step - loss: 0.8520 - val_loss: 0.6888 - learning_rate: 0.0050\n",
      "\u001b[1m153/153\u001b[0m \u001b[32m━━━━━━━━━━━━━━━━━━━━\u001b[0m\u001b[37m\u001b[0m \u001b[1m6s\u001b[0m 37ms/step\n",
      "\u001b[1m508/508\u001b[0m \u001b[32m━━━━━━━━━━━━━━━━━━━━\u001b[0m\u001b[37m\u001b[0m \u001b[1m15s\u001b[0m 30ms/step\n",
      "\n",
      "--- Fold 5 - MCC: 0.000000\n",
      "\n",
      "\n",
      "\n",
      "------ Average MCC: 0.589904 ± 0.481655\n"
     ]
    }
   ],
   "source": [
    "trainer = Trainer(model)\n",
    "trainer.fit_predict(X, y, X_test)"
   ]
  }
 ],
 "metadata": {
  "kaggle": {
   "accelerator": "none",
   "dataSources": [
    {
     "databundleVersionId": 9045607,
     "sourceId": 76727,
     "sourceType": "competition"
    }
   ],
   "dockerImageVersionId": 30746,
   "isGpuEnabled": false,
   "isInternetEnabled": true,
   "language": "python",
   "sourceType": "notebook"
  },
  "kernelspec": {
   "display_name": "Python 3",
   "language": "python",
   "name": "python3"
  },
  "language_info": {
   "codemirror_mode": {
    "name": "ipython",
    "version": 3
   },
   "file_extension": ".py",
   "mimetype": "text/x-python",
   "name": "python",
   "nbconvert_exporter": "python",
   "pygments_lexer": "ipython3",
   "version": "3.10.13"
  },
  "papermill": {
   "default_parameters": {},
   "duration": 7427.830812,
   "end_time": "2024-08-05T09:36:10.378325",
   "environment_variables": {},
   "exception": null,
   "input_path": "__notebook__.ipynb",
   "output_path": "__notebook__.ipynb",
   "parameters": {},
   "start_time": "2024-08-05T07:32:22.547513",
   "version": "2.5.0"
  }
 },
 "nbformat": 4,
 "nbformat_minor": 5
}
