{
 "cells": [
  {
   "cell_type": "markdown",
   "id": "a78539be",
   "metadata": {
    "papermill": {
     "duration": 0.006498,
     "end_time": "2024-08-05T07:56:20.499068",
     "exception": false,
     "start_time": "2024-08-05T07:56:20.492570",
     "status": "completed"
    },
    "tags": []
   },
   "source": [
    "# Imports and Configs"
   ]
  },
  {
   "cell_type": "code",
   "execution_count": 1,
   "id": "8edd36c9",
   "metadata": {
    "_kg_hide-output": true,
    "execution": {
     "iopub.execute_input": "2024-08-05T07:56:20.513125Z",
     "iopub.status.busy": "2024-08-05T07:56:20.512642Z",
     "iopub.status.idle": "2024-08-05T07:56:46.532576Z",
     "shell.execute_reply": "2024-08-05T07:56:46.530923Z"
    },
    "papermill": {
     "duration": 26.030114,
     "end_time": "2024-08-05T07:56:46.535661",
     "exception": false,
     "start_time": "2024-08-05T07:56:20.505547",
     "status": "completed"
    },
    "tags": []
   },
   "outputs": [
    {
     "name": "stdout",
     "output_type": "stream",
     "text": [
      "\u001b[31mERROR: pip's dependency resolver does not currently take into account all the packages that are installed. This behaviour is the source of the following dependency conflicts.\r\n",
      "spaghetti 1.7.6 requires shapely>=2.0.1, but you have shapely 1.8.5.post1 which is incompatible.\r\n",
      "spopt 0.6.1 requires shapely>=2.0.1, but you have shapely 1.8.5.post1 which is incompatible.\u001b[0m\u001b[31m\r\n",
      "\u001b[0m"
     ]
    }
   ],
   "source": [
    "!pip install -q scikit-learn==1.4\n",
    "!pip install -q --no-deps scikeras"
   ]
  },
  {
   "cell_type": "code",
   "execution_count": 2,
   "id": "a66cdf4a",
   "metadata": {
    "_cell_guid": "b1076dfc-b9ad-4769-8c92-a6c4dae69d19",
    "_kg_hide-output": true,
    "_uuid": "8f2839f25d086af736a60e9eeb907d3b93b6e0e5",
    "execution": {
     "iopub.execute_input": "2024-08-05T07:56:46.549699Z",
     "iopub.status.busy": "2024-08-05T07:56:46.549253Z",
     "iopub.status.idle": "2024-08-05T07:57:05.221815Z",
     "shell.execute_reply": "2024-08-05T07:57:05.220007Z"
    },
    "papermill": {
     "duration": 18.685592,
     "end_time": "2024-08-05T07:57:05.227131",
     "exception": false,
     "start_time": "2024-08-05T07:56:46.541539",
     "status": "completed"
    },
    "tags": []
   },
   "outputs": [
    {
     "name": "stderr",
     "output_type": "stream",
     "text": [
      "2024-08-05 07:56:49.154731: E external/local_xla/xla/stream_executor/cuda/cuda_dnn.cc:9261] Unable to register cuDNN factory: Attempting to register factory for plugin cuDNN when one has already been registered\n",
      "2024-08-05 07:56:49.154917: E external/local_xla/xla/stream_executor/cuda/cuda_fft.cc:607] Unable to register cuFFT factory: Attempting to register factory for plugin cuFFT when one has already been registered\n",
      "2024-08-05 07:56:49.344953: E external/local_xla/xla/stream_executor/cuda/cuda_blas.cc:1515] Unable to register cuBLAS factory: Attempting to register factory for plugin cuBLAS when one has already been registered\n"
     ]
    }
   ],
   "source": [
    "from scikeras.wrappers import KerasClassifier\n",
    "from sklearn.model_selection import StratifiedKFold\n",
    "from sklearn.preprocessing import OneHotEncoder\n",
    "from sklearn.impute import SimpleImputer\n",
    "from sklearn.preprocessing import StandardScaler\n",
    "from sklearn.compose import ColumnTransformer\n",
    "from sklearn.preprocessing import PowerTransformer\n",
    "from sklearn.pipeline import make_pipeline\n",
    "from sklearn.metrics import matthews_corrcoef\n",
    "from sklearn.base import clone\n",
    "import matplotlib.pyplot as plt\n",
    "import seaborn as sns\n",
    "import pandas as pd\n",
    "import numpy as np\n",
    "import warnings\n",
    "import pickle\n",
    "import keras\n",
    "import gc\n",
    "\n",
    "warnings.filterwarnings('ignore')"
   ]
  },
  {
   "cell_type": "code",
   "execution_count": 3,
   "id": "be533089",
   "metadata": {
    "execution": {
     "iopub.execute_input": "2024-08-05T07:57:05.247044Z",
     "iopub.status.busy": "2024-08-05T07:57:05.246331Z",
     "iopub.status.idle": "2024-08-05T07:57:05.252956Z",
     "shell.execute_reply": "2024-08-05T07:57:05.251413Z"
    },
    "papermill": {
     "duration": 0.020628,
     "end_time": "2024-08-05T07:57:05.256927",
     "exception": false,
     "start_time": "2024-08-05T07:57:05.236299",
     "status": "completed"
    },
    "tags": []
   },
   "outputs": [],
   "source": [
    "TARGET = 'class'\n",
    "N_FOLDS = 5\n",
    "SEED = 6"
   ]
  },
  {
   "cell_type": "markdown",
   "id": "674bd30b",
   "metadata": {
    "papermill": {
     "duration": 0.007463,
     "end_time": "2024-08-05T07:57:05.273882",
     "exception": false,
     "start_time": "2024-08-05T07:57:05.266419",
     "status": "completed"
    },
    "tags": []
   },
   "source": [
    "# Loading Data"
   ]
  },
  {
   "cell_type": "code",
   "execution_count": 4,
   "id": "697591f9",
   "metadata": {
    "execution": {
     "iopub.execute_input": "2024-08-05T07:57:05.292287Z",
     "iopub.status.busy": "2024-08-05T07:57:05.291654Z",
     "iopub.status.idle": "2024-08-05T07:57:27.443701Z",
     "shell.execute_reply": "2024-08-05T07:57:27.442354Z"
    },
    "papermill": {
     "duration": 22.166158,
     "end_time": "2024-08-05T07:57:27.446838",
     "exception": false,
     "start_time": "2024-08-05T07:57:05.280680",
     "status": "completed"
    },
    "tags": []
   },
   "outputs": [],
   "source": [
    "train = pd.read_csv('/kaggle/input/playground-series-s4e8/train.csv', index_col='id')\n",
    "test = pd.read_csv('/kaggle/input/playground-series-s4e8/test.csv', index_col='id')"
   ]
  },
  {
   "cell_type": "code",
   "execution_count": 5,
   "id": "4658bcd4",
   "metadata": {
    "execution": {
     "iopub.execute_input": "2024-08-05T07:57:27.461648Z",
     "iopub.status.busy": "2024-08-05T07:57:27.461206Z",
     "iopub.status.idle": "2024-08-05T07:57:27.470558Z",
     "shell.execute_reply": "2024-08-05T07:57:27.469177Z"
    },
    "papermill": {
     "duration": 0.019895,
     "end_time": "2024-08-05T07:57:27.473427",
     "exception": false,
     "start_time": "2024-08-05T07:57:27.453532",
     "status": "completed"
    },
    "tags": []
   },
   "outputs": [
    {
     "data": {
      "text/plain": [
       "((3116945, 21), (2077964, 20))"
      ]
     },
     "execution_count": 5,
     "metadata": {},
     "output_type": "execute_result"
    }
   ],
   "source": [
    "train.shape, test.shape"
   ]
  },
  {
   "cell_type": "code",
   "execution_count": 6,
   "id": "e20cf041",
   "metadata": {
    "execution": {
     "iopub.execute_input": "2024-08-05T07:57:27.488414Z",
     "iopub.status.busy": "2024-08-05T07:57:27.487506Z",
     "iopub.status.idle": "2024-08-05T07:57:44.046423Z",
     "shell.execute_reply": "2024-08-05T07:57:44.045058Z"
    },
    "papermill": {
     "duration": 16.569567,
     "end_time": "2024-08-05T07:57:44.049340",
     "exception": false,
     "start_time": "2024-08-05T07:57:27.479773",
     "status": "completed"
    },
    "tags": []
   },
   "outputs": [
    {
     "data": {
      "image/png": "[encoded data removed]",
      "text/plain": [
       "<Figure size 1400x500 with 2 Axes>"
      ]
     },
     "metadata": {},
     "output_type": "display_data"
    }
   ],
   "source": [
    "cmap = sns.light_palette('#651FFF', as_cmap=True)\n",
    "\n",
    "train_null_values = train.sample(100_000).drop(columns=TARGET).isnull().T\n",
    "test_null_values = test.sample(100_000).isnull().T\n",
    "\n",
    "fig, axes = plt.subplots(nrows=1, ncols=2, figsize=(14, 5))\n",
    "\n",
    "sns.heatmap(train_null_values, cbar=False, cmap=cmap, ax=axes[0])\n",
    "axes[0].set_title('Train')\n",
    "axes[0].set_xticks([]) \n",
    "axes[0].set_xlabel('')\n",
    "\n",
    "sns.heatmap(test_null_values, cbar=False, cmap=cmap, ax=axes[1])\n",
    "axes[1].set_title('Test')\n",
    "axes[1].set_xticks([]) \n",
    "axes[1].set_xlabel('')\n",
    "\n",
    "plt.tight_layout()\n",
    "plt.show()"
   ]
  },
  {
   "cell_type": "markdown",
   "id": "2aec9486",
   "metadata": {
    "papermill": {
     "duration": 0.007544,
     "end_time": "2024-08-05T07:57:44.064402",
     "exception": false,
     "start_time": "2024-08-05T07:57:44.056858",
     "status": "completed"
    },
    "tags": []
   },
   "source": [
    "# Feature Engineering"
   ]
  },
  {
   "cell_type": "code",
   "execution_count": 7,
   "id": "3b3d7b0b",
   "metadata": {
    "execution": {
     "iopub.execute_input": "2024-08-05T07:57:44.082340Z",
     "iopub.status.busy": "2024-08-05T07:57:44.081396Z",
     "iopub.status.idle": "2024-08-05T07:57:44.557942Z",
     "shell.execute_reply": "2024-08-05T07:57:44.556478Z"
    },
    "papermill": {
     "duration": 0.488816,
     "end_time": "2024-08-05T07:57:44.560946",
     "exception": false,
     "start_time": "2024-08-05T07:57:44.072130",
     "status": "completed"
    },
    "tags": []
   },
   "outputs": [],
   "source": [
    "cat_features = test.select_dtypes('object').columns\n",
    "cont_features = test.select_dtypes('float').columns"
   ]
  },
  {
   "cell_type": "code",
   "execution_count": 8,
   "id": "3065555d",
   "metadata": {
    "execution": {
     "iopub.execute_input": "2024-08-05T07:57:44.578417Z",
     "iopub.status.busy": "2024-08-05T07:57:44.577648Z",
     "iopub.status.idle": "2024-08-05T07:58:01.665488Z",
     "shell.execute_reply": "2024-08-05T07:58:01.664013Z"
    },
    "papermill": {
     "duration": 17.099637,
     "end_time": "2024-08-05T07:58:01.668352",
     "exception": false,
     "start_time": "2024-08-05T07:57:44.568715",
     "status": "completed"
    },
    "tags": []
   },
   "outputs": [],
   "source": [
    "for feature in cat_features:    \n",
    "    for df in [train, test]:\n",
    "        df.loc[df[feature].value_counts(dropna=False)[df[feature]].values < 100, feature] = 'rare'"
   ]
  },
  {
   "cell_type": "code",
   "execution_count": 9,
   "id": "82e17620",
   "metadata": {
    "execution": {
     "iopub.execute_input": "2024-08-05T07:58:01.684771Z",
     "iopub.status.busy": "2024-08-05T07:58:01.684352Z",
     "iopub.status.idle": "2024-08-05T07:58:01.691880Z",
     "shell.execute_reply": "2024-08-05T07:58:01.690710Z"
    },
    "papermill": {
     "duration": 0.018603,
     "end_time": "2024-08-05T07:58:01.694278",
     "exception": false,
     "start_time": "2024-08-05T07:58:01.675675",
     "status": "completed"
    },
    "tags": []
   },
   "outputs": [],
   "source": [
    "one_hot_encoder = OneHotEncoder(drop='first', sparse_output=False, dtype=np.float32, handle_unknown='infrequent_if_exist', min_frequency=50)\n",
    "step_1 = ('imputer', make_pipeline(PowerTransformer(), SimpleImputer(add_indicator=True)), cont_features)\n",
    "step_2 = ('one-hot-encoder', one_hot_encoder, cat_features)\n",
    "steps = [step_1, step_2]\n",
    "transformer = ColumnTransformer(steps, remainder='passthrough')\n",
    "\n",
    "pipeline = make_pipeline(transformer, StandardScaler())"
   ]
  },
  {
   "cell_type": "code",
   "execution_count": 10,
   "id": "0a377020",
   "metadata": {
    "execution": {
     "iopub.execute_input": "2024-08-05T07:58:01.710825Z",
     "iopub.status.busy": "2024-08-05T07:58:01.710398Z",
     "iopub.status.idle": "2024-08-05T07:58:02.527209Z",
     "shell.execute_reply": "2024-08-05T07:58:02.525947Z"
    },
    "papermill": {
     "duration": 0.828393,
     "end_time": "2024-08-05T07:58:02.530018",
     "exception": false,
     "start_time": "2024-08-05T07:58:01.701625",
     "status": "completed"
    },
    "tags": []
   },
   "outputs": [],
   "source": [
    "X = train.drop([TARGET], axis=1)\n",
    "y = train[TARGET].map({'e': 0, 'p': 1})\n",
    "X_test = test"
   ]
  },
  {
   "cell_type": "code",
   "execution_count": 11,
   "id": "5598733c",
   "metadata": {
    "execution": {
     "iopub.execute_input": "2024-08-05T07:58:02.546807Z",
     "iopub.status.busy": "2024-08-05T07:58:02.546439Z",
     "iopub.status.idle": "2024-08-05T08:00:48.116084Z",
     "shell.execute_reply": "2024-08-05T08:00:48.114535Z"
    },
    "papermill": {
     "duration": 165.581835,
     "end_time": "2024-08-05T08:00:48.119383",
     "exception": false,
     "start_time": "2024-08-05T07:58:02.537548",
     "status": "completed"
    },
    "tags": []
   },
   "outputs": [],
   "source": [
    "X = pipeline.fit_transform(X)\n",
    "X_test = pipeline.transform(X_test)"
   ]
  },
  {
   "cell_type": "markdown",
   "id": "72d95068",
   "metadata": {
    "papermill": {
     "duration": 0.007671,
     "end_time": "2024-08-05T08:00:48.135130",
     "exception": false,
     "start_time": "2024-08-05T08:00:48.127459",
     "status": "completed"
    },
    "tags": []
   },
   "source": [
    "# Training"
   ]
  },
  {
   "cell_type": "code",
   "execution_count": 12,
   "id": "bd20c716",
   "metadata": {
    "execution": {
     "iopub.execute_input": "2024-08-05T08:00:48.154674Z",
     "iopub.status.busy": "2024-08-05T08:00:48.154182Z",
     "iopub.status.idle": "2024-08-05T08:00:48.172416Z",
     "shell.execute_reply": "2024-08-05T08:00:48.171005Z"
    },
    "papermill": {
     "duration": 0.031089,
     "end_time": "2024-08-05T08:00:48.175131",
     "exception": false,
     "start_time": "2024-08-05T08:00:48.144042",
     "status": "completed"
    },
    "tags": []
   },
   "outputs": [],
   "source": [
    "class Trainer:\n",
    "    def __init__(self, model, n_folds=N_FOLDS):\n",
    "        self.model = model\n",
    "        self.n_folds = n_folds\n",
    "\n",
    "    def fit_predict(self, X, y, X_test):\n",
    "        print(f'Training {self.model.__class__.__name__}\\n')\n",
    "        \n",
    "        scores = []        \n",
    "        oof_pred_probs = np.zeros((X.shape[0], len(np.unique(y))))\n",
    "        test_pred_probs = np.zeros((X_test.shape[0], len(np.unique(y))))\n",
    "        \n",
    "        skf = StratifiedKFold(n_splits=self.n_folds, random_state=SEED, shuffle=True)\n",
    "        for fold_idx, (train_idx, val_idx) in enumerate(skf.split(X, y)):\n",
    "            X_train, X_val = X[train_idx], X[val_idx]\n",
    "            y_train, y_val = y[train_idx], y[val_idx]\n",
    "            \n",
    "            model = clone(self.model)\n",
    "            model.fit(X_train, y_train)\n",
    "            \n",
    "            y_pred_probs = model.predict_proba(X_val)\n",
    "            oof_pred_probs[val_idx] = y_pred_probs            \n",
    "            \n",
    "            score = matthews_corrcoef(y_val, np.argmax(y_pred_probs, axis=1))\n",
    "            scores.append(score)\n",
    "            \n",
    "            temp_test_pred_probs = model.predict_proba(X_test)\n",
    "            test_pred_probs += temp_test_pred_probs / self.n_folds\n",
    "            \n",
    "            del model, X_train, y_train, X_val, y_val, y_pred_probs, temp_test_pred_probs\n",
    "            gc.collect()\n",
    "            \n",
    "            print(f'\\n--- Fold {fold_idx + 1} - MCC: {score:.6f}\\n')            \n",
    "            \n",
    "        self._save_pred_probs(oof_pred_probs, np.mean(scores), 'oof')\n",
    "        self._save_pred_probs(test_pred_probs, np.mean(scores), 'test')\n",
    "        self._save_submission(test_pred_probs, np.mean(scores))\n",
    "        print(f'\\n\\n------ Average MCC: {np.mean(scores):.6f} ± {np.std(scores):.6f}')\n",
    "        \n",
    "    def _save_pred_probs(self, pred_probs, cv_score, name):\n",
    "        model_name = self.model.__class__.__name__.lower().replace('classifier', '')\n",
    "        with open(f'{model_name}_{name}_pred_probs_{cv_score:.6f}.pkl', 'wb') as f:\n",
    "            pickle.dump(pred_probs, f)\n",
    "    \n",
    "    def _save_submission(self, test_pred_probs, score):\n",
    "        name = self.model.__class__.__name__.lower().replace('classifier', '')\n",
    "        sub = pd.read_csv('/kaggle/input/playground-series-s4e8/sample_submission.csv')\n",
    "        sub[TARGET] = np.argmax(test_pred_probs, axis=1)\n",
    "        sub[TARGET] = sub[TARGET].map({0: 'e', 1: 'p'})\n",
    "        sub.to_csv(f'sub_{name}_{score:.6f}.csv', index=False)"
   ]
  },
  {
   "cell_type": "code",
   "execution_count": 13,
   "id": "7acb4a8e",
   "metadata": {
    "execution": {
     "iopub.execute_input": "2024-08-05T08:00:48.192760Z",
     "iopub.status.busy": "2024-08-05T08:00:48.192300Z",
     "iopub.status.idle": "2024-08-05T08:00:48.254677Z",
     "shell.execute_reply": "2024-08-05T08:00:48.252990Z"
    },
    "papermill": {
     "duration": 0.075222,
     "end_time": "2024-08-05T08:00:48.257955",
     "exception": false,
     "start_time": "2024-08-05T08:00:48.182733",
     "status": "completed"
    },
    "tags": []
   },
   "outputs": [],
   "source": [
    "# Reference: https://www.kaggle.com/code/ambrosm/pss4e8-eda-which-makes-sense\n",
    "\n",
    "def get_model(meta):\n",
    "    model = keras.models.Sequential()\n",
    "    model.add(keras.layers.Input(meta['X_shape_'][1:]))\n",
    "    model.add(keras.layers.Dense(359, kernel_initializer='glorot_uniform', activation='selu'))\n",
    "    model.add(keras.layers.Dropout(0.2))\n",
    "    model.add(keras.layers.Dense(431, kernel_initializer='glorot_uniform', activation='selu'))\n",
    "    model.add(keras.layers.Dropout(0.1))\n",
    "    model.add(keras.layers.Dense(314, kernel_initializer='glorot_uniform', activation='selu'))\n",
    "    model.add(keras.layers.Dropout(0.1))\n",
    "    model.add(keras.layers.Dense(1, activation='sigmoid'))\n",
    "    return model\n",
    "\n",
    "model = KerasClassifier(\n",
    "    get_model,\n",
    "    loss='binary_crossentropy',\n",
    "    optimizer=keras.optimizers.AdamW(learning_rate=0.04956934235102603),\n",
    "    validation_split=0.05,\n",
    "    batch_size=4096,\n",
    "    validation_batch_size=65536,\n",
    "    epochs=50,\n",
    "    verbose=1,\n",
    "    callbacks=[\n",
    "        keras.callbacks.ReduceLROnPlateau(patience=3),\n",
    "        keras.callbacks.EarlyStopping(patience=5, min_delta=0.00003)\n",
    "    ]\n",
    ")"
   ]
  },
  {
   "cell_type": "code",
   "execution_count": 14,
   "id": "b452b237",
   "metadata": {
    "_kg_hide-output": true,
    "execution": {
     "iopub.execute_input": "2024-08-05T08:00:48.275973Z",
     "iopub.status.busy": "2024-08-05T08:00:48.275519Z",
     "iopub.status.idle": "2024-08-05T10:29:27.628956Z",
     "shell.execute_reply": "2024-08-05T10:29:27.627571Z"
    },
    "papermill": {
     "duration": 8920.437785,
     "end_time": "2024-08-05T10:29:28.704299",
     "exception": false,
     "start_time": "2024-08-05T08:00:48.266514",
     "status": "completed"
    },
    "tags": []
   },
   "outputs": [
    {
     "name": "stdout",
     "output_type": "stream",
     "text": [
      "Training KerasClassifier\n",
      "\n",
      "Epoch 1/50\n",
      "\u001b[1m579/579\u001b[0m \u001b[32m━━━━━━━━━━━━━━━━━━━━\u001b[0m\u001b[37m\u001b[0m \u001b[1m66s\u001b[0m 110ms/step - loss: 11.2484 - val_loss: 0.0615 - learning_rate: 0.0496\n",
      "Epoch 2/50\n",
      "\u001b[1m579/579\u001b[0m \u001b[32m━━━━━━━━━━━━━━━━━━━━\u001b[0m\u001b[37m\u001b[0m \u001b[1m63s\u001b[0m 109ms/step - loss: 0.0754 - val_loss: 0.0497 - learning_rate: 0.0496\n",
      "Epoch 3/50\n",
      "\u001b[1m579/579\u001b[0m \u001b[32m━━━━━━━━━━━━━━━━━━━━\u001b[0m\u001b[37m\u001b[0m \u001b[1m83s\u001b[0m 110ms/step - loss: 0.0620 - val_loss: 0.0475 - learning_rate: 0.0496\n",
      "Epoch 4/50\n",
      "\u001b[1m579/579\u001b[0m \u001b[32m━━━━━━━━━━━━━━━━━━━━\u001b[0m\u001b[37m\u001b[0m \u001b[1m64s\u001b[0m 110ms/step - loss: 0.0557 - val_loss: 0.0447 - learning_rate: 0.0496\n",
      "Epoch 5/50\n",
      "\u001b[1m579/579\u001b[0m \u001b[32m━━━━━━━━━━━━━━━━━━━━\u001b[0m\u001b[37m\u001b[0m \u001b[1m65s\u001b[0m 112ms/step - loss: 0.0509 - val_loss: 0.0439 - learning_rate: 0.0496\n",
      "Epoch 6/50\n",
      "\u001b[1m579/579\u001b[0m \u001b[32m━━━━━━━━━━━━━━━━━━━━\u001b[0m\u001b[37m\u001b[0m \u001b[1m65s\u001b[0m 111ms/step - loss: 0.0496 - val_loss: 0.0418 - learning_rate: 0.0496\n",
      "Epoch 7/50\n",
      "\u001b[1m579/579\u001b[0m \u001b[32m━━━━━━━━━━━━━━━━━━━━\u001b[0m\u001b[37m\u001b[0m \u001b[1m65s\u001b[0m 112ms/step - loss: 0.0470 - val_loss: 0.0430 - learning_rate: 0.0496\n",
      "Epoch 8/50\n",
      "\u001b[1m579/579\u001b[0m \u001b[32m━━━━━━━━━━━━━━━━━━━━\u001b[0m\u001b[37m\u001b[0m \u001b[1m65s\u001b[0m 112ms/step - loss: 0.0461 - val_loss: 0.0417 - learning_rate: 0.0496\n",
      "Epoch 9/50\n",
      "\u001b[1m579/579\u001b[0m \u001b[32m━━━━━━━━━━━━━━━━━━━━\u001b[0m\u001b[37m\u001b[0m \u001b[1m65s\u001b[0m 112ms/step - loss: 0.0454 - val_loss: 0.0425 - learning_rate: 0.0496\n",
      "Epoch 10/50\n",
      "\u001b[1m579/579\u001b[0m \u001b[32m━━━━━━━━━━━━━━━━━━━━\u001b[0m\u001b[37m\u001b[0m \u001b[1m65s\u001b[0m 112ms/step - loss: 1.6570 - val_loss: 0.6898 - learning_rate: 0.0496\n",
      "Epoch 11/50\n",
      "\u001b[1m579/579\u001b[0m \u001b[32m━━━━━━━━━━━━━━━━━━━━\u001b[0m\u001b[37m\u001b[0m \u001b[1m64s\u001b[0m 110ms/step - loss: 1.7922 - val_loss: 0.7490 - learning_rate: 0.0496\n",
      "Epoch 12/50\n",
      "\u001b[1m579/579\u001b[0m \u001b[32m━━━━━━━━━━━━━━━━━━━━\u001b[0m\u001b[37m\u001b[0m \u001b[1m64s\u001b[0m 111ms/step - loss: 1.1983 - val_loss: 0.6921 - learning_rate: 0.0050\n",
      "Epoch 13/50\n",
      "\u001b[1m579/579\u001b[0m \u001b[32m━━━━━━━━━━━━━━━━━━━━\u001b[0m\u001b[37m\u001b[0m \u001b[1m82s\u001b[0m 111ms/step - loss: 1.1477 - val_loss: 0.6884 - learning_rate: 0.0050\n",
      "\u001b[1m153/153\u001b[0m \u001b[32m━━━━━━━━━━━━━━━━━━━━\u001b[0m\u001b[37m\u001b[0m \u001b[1m5s\u001b[0m 35ms/step\n",
      "\u001b[1m508/508\u001b[0m \u001b[32m━━━━━━━━━━━━━━━━━━━━\u001b[0m\u001b[37m\u001b[0m \u001b[1m20s\u001b[0m 39ms/step\n",
      "\n",
      "--- Fold 1 - MCC: 0.000000\n",
      "\n",
      "Epoch 1/50\n",
      "\u001b[1m579/579\u001b[0m \u001b[32m━━━━━━━━━━━━━━━━━━━━\u001b[0m\u001b[37m\u001b[0m \u001b[1m66s\u001b[0m 111ms/step - loss: 14.7085 - val_loss: 0.0627 - learning_rate: 0.0496\n",
      "Epoch 2/50\n",
      "\u001b[1m579/579\u001b[0m \u001b[32m━━━━━━━━━━━━━━━━━━━━\u001b[0m\u001b[37m\u001b[0m \u001b[1m65s\u001b[0m 111ms/step - loss: 0.0745 - val_loss: 0.0515 - learning_rate: 0.0496\n",
      "Epoch 3/50\n",
      "\u001b[1m579/579\u001b[0m \u001b[32m━━━━━━━━━━━━━━━━━━━━\u001b[0m\u001b[37m\u001b[0m \u001b[1m65s\u001b[0m 112ms/step - loss: 0.0590 - val_loss: 0.0463 - learning_rate: 0.0496\n",
      "Epoch 4/50\n",
      "\u001b[1m579/579\u001b[0m \u001b[32m━━━━━━━━━━━━━━━━━━━━\u001b[0m\u001b[37m\u001b[0m \u001b[1m65s\u001b[0m 112ms/step - loss: 0.0530 - val_loss: 0.0442 - learning_rate: 0.0496\n",
      "Epoch 5/50\n",
      "\u001b[1m579/579\u001b[0m \u001b[32m━━━━━━━━━━━━━━━━━━━━\u001b[0m\u001b[37m\u001b[0m \u001b[1m66s\u001b[0m 114ms/step - loss: 0.0495 - val_loss: 0.0437 - learning_rate: 0.0496\n",
      "Epoch 6/50\n",
      "\u001b[1m579/579\u001b[0m \u001b[32m━━━━━━━━━━━━━━━━━━━━\u001b[0m\u001b[37m\u001b[0m \u001b[1m65s\u001b[0m 112ms/step - loss: 0.0475 - val_loss: 0.0441 - learning_rate: 0.0496\n",
      "Epoch 7/50\n",
      "\u001b[1m579/579\u001b[0m \u001b[32m━━━━━━━━━━━━━━━━━━━━\u001b[0m\u001b[37m\u001b[0m \u001b[1m66s\u001b[0m 114ms/step - loss: 0.0458 - val_loss: 0.0423 - learning_rate: 0.0496\n",
      "Epoch 8/50\n",
      "\u001b[1m579/579\u001b[0m \u001b[32m━━━━━━━━━━━━━━━━━━━━\u001b[0m\u001b[37m\u001b[0m \u001b[1m67s\u001b[0m 116ms/step - loss: 0.0450 - val_loss: 0.0424 - learning_rate: 0.0496\n",
      "Epoch 9/50\n",
      "\u001b[1m579/579\u001b[0m \u001b[32m━━━━━━━━━━━━━━━━━━━━\u001b[0m\u001b[37m\u001b[0m \u001b[1m73s\u001b[0m 126ms/step - loss: 0.0452 - val_loss: 0.0436 - learning_rate: 0.0496\n",
      "Epoch 10/50\n",
      "\u001b[1m579/579\u001b[0m \u001b[32m━━━━━━━━━━━━━━━━━━━━\u001b[0m\u001b[37m\u001b[0m \u001b[1m68s\u001b[0m 117ms/step - loss: 0.0444 - val_loss: 0.0442 - learning_rate: 0.0496\n",
      "Epoch 11/50\n",
      "\u001b[1m579/579\u001b[0m \u001b[32m━━━━━━━━━━━━━━━━━━━━\u001b[0m\u001b[37m\u001b[0m \u001b[1m68s\u001b[0m 117ms/step - loss: 0.0411 - val_loss: 0.0396 - learning_rate: 0.0050\n",
      "Epoch 12/50\n",
      "\u001b[1m579/579\u001b[0m \u001b[32m━━━━━━━━━━━━━━━━━━━━\u001b[0m\u001b[37m\u001b[0m \u001b[1m67s\u001b[0m 116ms/step - loss: 0.0400 - val_loss: 0.0390 - learning_rate: 0.0050\n",
      "Epoch 13/50\n",
      "\u001b[1m579/579\u001b[0m \u001b[32m━━━━━━━━━━━━━━━━━━━━\u001b[0m\u001b[37m\u001b[0m \u001b[1m67s\u001b[0m 115ms/step - loss: 0.0394 - val_loss: 0.0393 - learning_rate: 0.0050\n",
      "Epoch 14/50\n",
      "\u001b[1m579/579\u001b[0m \u001b[32m━━━━━━━━━━━━━━━━━━━━\u001b[0m\u001b[37m\u001b[0m \u001b[1m82s\u001b[0m 116ms/step - loss: 0.0397 - val_loss: 0.0404 - learning_rate: 0.0050\n",
      "Epoch 15/50\n",
      "\u001b[1m579/579\u001b[0m \u001b[32m━━━━━━━━━━━━━━━━━━━━\u001b[0m\u001b[37m\u001b[0m \u001b[1m67s\u001b[0m 115ms/step - loss: 0.0398 - val_loss: 0.0395 - learning_rate: 0.0050\n",
      "Epoch 16/50\n",
      "\u001b[1m579/579\u001b[0m \u001b[32m━━━━━━━━━━━━━━━━━━━━\u001b[0m\u001b[37m\u001b[0m \u001b[1m67s\u001b[0m 115ms/step - loss: 0.0387 - val_loss: 0.0386 - learning_rate: 4.9569e-04\n",
      "Epoch 17/50\n",
      "\u001b[1m579/579\u001b[0m \u001b[32m━━━━━━━━━━━━━━━━━━━━\u001b[0m\u001b[37m\u001b[0m \u001b[1m66s\u001b[0m 113ms/step - loss: 0.0377 - val_loss: 0.0385 - learning_rate: 4.9569e-04\n",
      "Epoch 18/50\n",
      "\u001b[1m579/579\u001b[0m \u001b[32m━━━━━━━━━━━━━━━━━━━━\u001b[0m\u001b[37m\u001b[0m \u001b[1m68s\u001b[0m 118ms/step - loss: 0.0385 - val_loss: 0.0385 - learning_rate: 4.9569e-04\n",
      "Epoch 19/50\n",
      "\u001b[1m579/579\u001b[0m \u001b[32m━━━━━━━━━━━━━━━━━━━━\u001b[0m\u001b[37m\u001b[0m \u001b[1m68s\u001b[0m 118ms/step - loss: 0.0383 - val_loss: 0.0385 - learning_rate: 4.9569e-04\n",
      "Epoch 20/50\n",
      "\u001b[1m579/579\u001b[0m \u001b[32m━━━━━━━━━━━━━━━━━━━━\u001b[0m\u001b[37m\u001b[0m \u001b[1m83s\u001b[0m 119ms/step - loss: 0.0376 - val_loss: 0.0382 - learning_rate: 4.9569e-05\n",
      "Epoch 21/50\n",
      "\u001b[1m579/579\u001b[0m \u001b[32m━━━━━━━━━━━━━━━━━━━━\u001b[0m\u001b[37m\u001b[0m \u001b[1m68s\u001b[0m 117ms/step - loss: 0.0380 - val_loss: 0.0383 - learning_rate: 4.9569e-05\n",
      "Epoch 22/50\n",
      "\u001b[1m579/579\u001b[0m \u001b[32m━━━━━━━━━━━━━━━━━━━━\u001b[0m\u001b[37m\u001b[0m \u001b[1m68s\u001b[0m 116ms/step - loss: 0.0377 - val_loss: 0.0381 - learning_rate: 4.9569e-05\n",
      "Epoch 23/50\n",
      "\u001b[1m579/579\u001b[0m \u001b[32m━━━━━━━━━━━━━━━━━━━━\u001b[0m\u001b[37m\u001b[0m \u001b[1m67s\u001b[0m 116ms/step - loss: 0.0378 - val_loss: 0.0381 - learning_rate: 4.9569e-05\n",
      "Epoch 24/50\n",
      "\u001b[1m579/579\u001b[0m \u001b[32m━━━━━━━━━━━━━━━━━━━━\u001b[0m\u001b[37m\u001b[0m \u001b[1m81s\u001b[0m 115ms/step - loss: 0.0380 - val_loss: 0.0381 - learning_rate: 4.9569e-06\n",
      "Epoch 25/50\n",
      "\u001b[1m579/579\u001b[0m \u001b[32m━━━━━━━━━━━━━━━━━━━━\u001b[0m\u001b[37m\u001b[0m \u001b[1m82s\u001b[0m 115ms/step - loss: 0.0376 - val_loss: 0.0381 - learning_rate: 4.9569e-06\n",
      "Epoch 26/50\n",
      "\u001b[1m579/579\u001b[0m \u001b[32m━━━━━━━━━━━━━━━━━━━━\u001b[0m\u001b[37m\u001b[0m \u001b[1m82s\u001b[0m 115ms/step - loss: 0.0372 - val_loss: 0.0381 - learning_rate: 4.9569e-06\n",
      "Epoch 27/50\n",
      "\u001b[1m579/579\u001b[0m \u001b[32m━━━━━━━━━━━━━━━━━━━━\u001b[0m\u001b[37m\u001b[0m \u001b[1m65s\u001b[0m 113ms/step - loss: 0.0378 - val_loss: 0.0381 - learning_rate: 4.9569e-07\n",
      "Epoch 28/50\n",
      "\u001b[1m579/579\u001b[0m \u001b[32m━━━━━━━━━━━━━━━━━━━━\u001b[0m\u001b[37m\u001b[0m \u001b[1m67s\u001b[0m 116ms/step - loss: 0.0378 - val_loss: 0.0381 - learning_rate: 4.9569e-07\n",
      "Epoch 29/50\n",
      "\u001b[1m579/579\u001b[0m \u001b[32m━━━━━━━━━━━━━━━━━━━━\u001b[0m\u001b[37m\u001b[0m \u001b[1m67s\u001b[0m 115ms/step - loss: 0.0370 - val_loss: 0.0381 - learning_rate: 4.9569e-07\n",
      "Epoch 30/50\n",
      "\u001b[1m579/579\u001b[0m \u001b[32m━━━━━━━━━━━━━━━━━━━━\u001b[0m\u001b[37m\u001b[0m \u001b[1m82s\u001b[0m 115ms/step - loss: 0.0374 - val_loss: 0.0381 - learning_rate: 4.9569e-08\n",
      "\u001b[1m153/153\u001b[0m \u001b[32m━━━━━━━━━━━━━━━━━━━━\u001b[0m\u001b[37m\u001b[0m \u001b[1m6s\u001b[0m 42ms/step\n",
      "\u001b[1m508/508\u001b[0m \u001b[32m━━━━━━━━━━━━━━━━━━━━\u001b[0m\u001b[37m\u001b[0m \u001b[1m17s\u001b[0m 34ms/step\n",
      "\n",
      "--- Fold 2 - MCC: 0.983770\n",
      "\n",
      "Epoch 1/50\n",
      "\u001b[1m579/579\u001b[0m \u001b[32m━━━━━━━━━━━━━━━━━━━━\u001b[0m\u001b[37m\u001b[0m \u001b[1m69s\u001b[0m 115ms/step - loss: 15.6170 - val_loss: 0.0798 - learning_rate: 0.0496\n",
      "Epoch 2/50\n",
      "\u001b[1m579/579\u001b[0m \u001b[32m━━━━━━━━━━━━━━━━━━━━\u001b[0m\u001b[37m\u001b[0m \u001b[1m67s\u001b[0m 116ms/step - loss: 0.0927 - val_loss: 0.0573 - learning_rate: 0.0496\n",
      "Epoch 3/50\n",
      "\u001b[1m579/579\u001b[0m \u001b[32m━━━━━━━━━━━━━━━━━━━━\u001b[0m\u001b[37m\u001b[0m \u001b[1m67s\u001b[0m 115ms/step - loss: 0.0660 - val_loss: 0.0507 - learning_rate: 0.0496\n",
      "Epoch 4/50\n",
      "\u001b[1m579/579\u001b[0m \u001b[32m━━━━━━━━━━━━━━━━━━━━\u001b[0m\u001b[37m\u001b[0m \u001b[1m65s\u001b[0m 113ms/step - loss: 0.0569 - val_loss: 0.0460 - learning_rate: 0.0496\n",
      "Epoch 5/50\n",
      "\u001b[1m579/579\u001b[0m \u001b[32m━━━━━━━━━━━━━━━━━━━━\u001b[0m\u001b[37m\u001b[0m \u001b[1m66s\u001b[0m 114ms/step - loss: 0.0506 - val_loss: 0.0469 - learning_rate: 0.0496\n",
      "Epoch 6/50\n",
      "\u001b[1m579/579\u001b[0m \u001b[32m━━━━━━━━━━━━━━━━━━━━\u001b[0m\u001b[37m\u001b[0m \u001b[1m66s\u001b[0m 114ms/step - loss: 0.0473 - val_loss: 0.0430 - learning_rate: 0.0496\n",
      "Epoch 7/50\n",
      "\u001b[1m579/579\u001b[0m \u001b[32m━━━━━━━━━━━━━━━━━━━━\u001b[0m\u001b[37m\u001b[0m \u001b[1m66s\u001b[0m 113ms/step - loss: 0.0461 - val_loss: 0.0436 - learning_rate: 0.0496\n",
      "Epoch 8/50\n",
      "\u001b[1m579/579\u001b[0m \u001b[32m━━━━━━━━━━━━━━━━━━━━\u001b[0m\u001b[37m\u001b[0m \u001b[1m66s\u001b[0m 113ms/step - loss: 0.0449 - val_loss: 0.0436 - learning_rate: 0.0496\n",
      "Epoch 9/50\n",
      "\u001b[1m579/579\u001b[0m \u001b[32m━━━━━━━━━━━━━━━━━━━━\u001b[0m\u001b[37m\u001b[0m \u001b[1m66s\u001b[0m 113ms/step - loss: 0.0448 - val_loss: 0.0451 - learning_rate: 0.0496\n",
      "Epoch 10/50\n",
      "\u001b[1m579/579\u001b[0m \u001b[32m━━━━━━━━━━━━━━━━━━━━\u001b[0m\u001b[37m\u001b[0m \u001b[1m65s\u001b[0m 112ms/step - loss: 0.0415 - val_loss: 0.0396 - learning_rate: 0.0050\n",
      "Epoch 11/50\n",
      "\u001b[1m579/579\u001b[0m \u001b[32m━━━━━━━━━━━━━━━━━━━━\u001b[0m\u001b[37m\u001b[0m \u001b[1m66s\u001b[0m 114ms/step - loss: 0.0401 - val_loss: 0.0395 - learning_rate: 0.0050\n",
      "Epoch 12/50\n",
      "\u001b[1m579/579\u001b[0m \u001b[32m━━━━━━━━━━━━━━━━━━━━\u001b[0m\u001b[37m\u001b[0m \u001b[1m66s\u001b[0m 114ms/step - loss: 0.0395 - val_loss: 0.0395 - learning_rate: 0.0050\n",
      "Epoch 13/50\n",
      "\u001b[1m579/579\u001b[0m \u001b[32m━━━━━━━━━━━━━━━━━━━━\u001b[0m\u001b[37m\u001b[0m \u001b[1m66s\u001b[0m 113ms/step - loss: 0.0401 - val_loss: 0.0398 - learning_rate: 0.0050\n",
      "Epoch 14/50\n",
      "\u001b[1m579/579\u001b[0m \u001b[32m━━━━━━━━━━━━━━━━━━━━\u001b[0m\u001b[37m\u001b[0m \u001b[1m84s\u001b[0m 117ms/step - loss: 0.0386 - val_loss: 0.0389 - learning_rate: 4.9569e-04\n",
      "Epoch 15/50\n",
      "\u001b[1m579/579\u001b[0m \u001b[32m━━━━━━━━━━━━━━━━━━━━\u001b[0m\u001b[37m\u001b[0m \u001b[1m67s\u001b[0m 116ms/step - loss: 0.0385 - val_loss: 0.0390 - learning_rate: 4.9569e-04\n",
      "Epoch 16/50\n",
      "\u001b[1m579/579\u001b[0m \u001b[32m━━━━━━━━━━━━━━━━━━━━\u001b[0m\u001b[37m\u001b[0m \u001b[1m68s\u001b[0m 116ms/step - loss: 0.0389 - val_loss: 0.0390 - learning_rate: 4.9569e-04\n",
      "Epoch 17/50\n",
      "\u001b[1m579/579\u001b[0m \u001b[32m━━━━━━━━━━━━━━━━━━━━\u001b[0m\u001b[37m\u001b[0m \u001b[1m84s\u001b[0m 119ms/step - loss: 0.0388 - val_loss: 0.0392 - learning_rate: 4.9569e-04\n",
      "Epoch 18/50\n",
      "\u001b[1m579/579\u001b[0m \u001b[32m━━━━━━━━━━━━━━━━━━━━\u001b[0m\u001b[37m\u001b[0m \u001b[1m65s\u001b[0m 112ms/step - loss: 0.0379 - val_loss: 0.0387 - learning_rate: 4.9569e-05\n",
      "Epoch 19/50\n",
      "\u001b[1m579/579\u001b[0m \u001b[32m━━━━━━━━━━━━━━━━━━━━\u001b[0m\u001b[37m\u001b[0m \u001b[1m67s\u001b[0m 115ms/step - loss: 0.0383 - val_loss: 0.0388 - learning_rate: 4.9569e-05\n",
      "Epoch 20/50\n",
      "\u001b[1m579/579\u001b[0m \u001b[32m━━━━━━━━━━━━━━━━━━━━\u001b[0m\u001b[37m\u001b[0m \u001b[1m66s\u001b[0m 114ms/step - loss: 0.0386 - val_loss: 0.0388 - learning_rate: 4.9569e-05\n",
      "Epoch 21/50\n",
      "\u001b[1m579/579\u001b[0m \u001b[32m━━━━━━━━━━━━━━━━━━━━\u001b[0m\u001b[37m\u001b[0m \u001b[1m67s\u001b[0m 116ms/step - loss: 0.0384 - val_loss: 0.0388 - learning_rate: 4.9569e-05\n",
      "Epoch 22/50\n",
      "\u001b[1m579/579\u001b[0m \u001b[32m━━━━━━━━━━━━━━━━━━━━\u001b[0m\u001b[37m\u001b[0m \u001b[1m67s\u001b[0m 115ms/step - loss: 0.0379 - val_loss: 0.0387 - learning_rate: 4.9569e-06\n",
      "Epoch 23/50\n",
      "\u001b[1m579/579\u001b[0m \u001b[32m━━━━━━━━━━━━━━━━━━━━\u001b[0m\u001b[37m\u001b[0m \u001b[1m67s\u001b[0m 115ms/step - loss: 0.0384 - val_loss: 0.0387 - learning_rate: 4.9569e-06\n",
      "Epoch 24/50\n",
      "\u001b[1m579/579\u001b[0m \u001b[32m━━━━━━━━━━━━━━━━━━━━\u001b[0m\u001b[37m\u001b[0m \u001b[1m81s\u001b[0m 112ms/step - loss: 0.0386 - val_loss: 0.0387 - learning_rate: 4.9569e-06\n",
      "Epoch 25/50\n",
      "\u001b[1m579/579\u001b[0m \u001b[32m━━━━━━━━━━━━━━━━━━━━\u001b[0m\u001b[37m\u001b[0m \u001b[1m66s\u001b[0m 114ms/step - loss: 0.0385 - val_loss: 0.0387 - learning_rate: 4.9569e-07\n",
      "Epoch 26/50\n",
      "\u001b[1m579/579\u001b[0m \u001b[32m━━━━━━━━━━━━━━━━━━━━\u001b[0m\u001b[37m\u001b[0m \u001b[1m65s\u001b[0m 113ms/step - loss: 0.0384 - val_loss: 0.0387 - learning_rate: 4.9569e-07\n",
      "Epoch 27/50\n",
      "\u001b[1m579/579\u001b[0m \u001b[32m━━━━━━━━━━━━━━━━━━━━\u001b[0m\u001b[37m\u001b[0m \u001b[1m81s\u001b[0m 111ms/step - loss: 0.0386 - val_loss: 0.0387 - learning_rate: 4.9569e-07\n",
      "\u001b[1m153/153\u001b[0m \u001b[32m━━━━━━━━━━━━━━━━━━━━\u001b[0m\u001b[37m\u001b[0m \u001b[1m6s\u001b[0m 37ms/step\n",
      "\u001b[1m508/508\u001b[0m \u001b[32m━━━━━━━━━━━━━━━━━━━━\u001b[0m\u001b[37m\u001b[0m \u001b[1m18s\u001b[0m 36ms/step\n",
      "\n",
      "--- Fold 3 - MCC: 0.982891\n",
      "\n",
      "Epoch 1/50\n",
      "\u001b[1m579/579\u001b[0m \u001b[32m━━━━━━━━━━━━━━━━━━━━\u001b[0m\u001b[37m\u001b[0m \u001b[1m67s\u001b[0m 113ms/step - loss: 10.4987 - val_loss: 0.1098 - learning_rate: 0.0496\n",
      "Epoch 2/50\n",
      "\u001b[1m579/579\u001b[0m \u001b[32m━━━━━━━━━━━━━━━━━━━━\u001b[0m\u001b[37m\u001b[0m \u001b[1m65s\u001b[0m 112ms/step - loss: 0.1173 - val_loss: 0.0608 - learning_rate: 0.0496\n",
      "Epoch 3/50\n",
      "\u001b[1m579/579\u001b[0m \u001b[32m━━━━━━━━━━━━━━━━━━━━\u001b[0m\u001b[37m\u001b[0m \u001b[1m65s\u001b[0m 112ms/step - loss: 0.0707 - val_loss: 0.0512 - learning_rate: 0.0496\n",
      "Epoch 4/50\n",
      "\u001b[1m579/579\u001b[0m \u001b[32m━━━━━━━━━━━━━━━━━━━━\u001b[0m\u001b[37m\u001b[0m \u001b[1m82s\u001b[0m 112ms/step - loss: 0.0582 - val_loss: 0.0471 - learning_rate: 0.0496\n",
      "Epoch 5/50\n",
      "\u001b[1m579/579\u001b[0m \u001b[32m━━━━━━━━━━━━━━━━━━━━\u001b[0m\u001b[37m\u001b[0m \u001b[1m65s\u001b[0m 111ms/step - loss: 0.0520 - val_loss: 0.0471 - learning_rate: 0.0496\n",
      "Epoch 6/50\n",
      "\u001b[1m579/579\u001b[0m \u001b[32m━━━━━━━━━━━━━━━━━━━━\u001b[0m\u001b[37m\u001b[0m \u001b[1m66s\u001b[0m 113ms/step - loss: 0.0483 - val_loss: 0.0463 - learning_rate: 0.0496\n",
      "Epoch 7/50\n",
      "\u001b[1m579/579\u001b[0m \u001b[32m━━━━━━━━━━━━━━━━━━━━\u001b[0m\u001b[37m\u001b[0m \u001b[1m66s\u001b[0m 115ms/step - loss: 0.0470 - val_loss: 0.0439 - learning_rate: 0.0496\n",
      "Epoch 8/50\n",
      "\u001b[1m579/579\u001b[0m \u001b[32m━━━━━━━━━━━━━━━━━━━━\u001b[0m\u001b[37m\u001b[0m \u001b[1m69s\u001b[0m 119ms/step - loss: 0.0454 - val_loss: 0.0427 - learning_rate: 0.0496\n",
      "Epoch 9/50\n",
      "\u001b[1m579/579\u001b[0m \u001b[32m━━━━━━━━━━━━━━━━━━━━\u001b[0m\u001b[37m\u001b[0m \u001b[1m68s\u001b[0m 117ms/step - loss: 0.0459 - val_loss: 0.0434 - learning_rate: 0.0496\n",
      "Epoch 10/50\n",
      "\u001b[1m579/579\u001b[0m \u001b[32m━━━━━━━━━━━━━━━━━━━━\u001b[0m\u001b[37m\u001b[0m \u001b[1m68s\u001b[0m 116ms/step - loss: 0.0458 - val_loss: 0.0439 - learning_rate: 0.0496\n",
      "Epoch 11/50\n",
      "\u001b[1m579/579\u001b[0m \u001b[32m━━━━━━━━━━━━━━━━━━━━\u001b[0m\u001b[37m\u001b[0m \u001b[1m65s\u001b[0m 113ms/step - loss: 0.0478 - val_loss: 0.0530 - learning_rate: 0.0496\n",
      "Epoch 12/50\n",
      "\u001b[1m579/579\u001b[0m \u001b[32m━━━━━━━━━━━━━━━━━━━━\u001b[0m\u001b[37m\u001b[0m \u001b[1m66s\u001b[0m 114ms/step - loss: 0.0441 - val_loss: 0.0403 - learning_rate: 0.0050\n",
      "Epoch 13/50\n",
      "\u001b[1m579/579\u001b[0m \u001b[32m━━━━━━━━━━━━━━━━━━━━\u001b[0m\u001b[37m\u001b[0m \u001b[1m67s\u001b[0m 115ms/step - loss: 0.0407 - val_loss: 0.0406 - learning_rate: 0.0050\n",
      "Epoch 14/50\n",
      "\u001b[1m579/579\u001b[0m \u001b[32m━━━━━━━━━━━━━━━━━━━━\u001b[0m\u001b[37m\u001b[0m \u001b[1m66s\u001b[0m 114ms/step - loss: 0.0405 - val_loss: 0.0401 - learning_rate: 0.0050\n",
      "Epoch 15/50\n",
      "\u001b[1m579/579\u001b[0m \u001b[32m━━━━━━━━━━━━━━━━━━━━\u001b[0m\u001b[37m\u001b[0m \u001b[1m69s\u001b[0m 119ms/step - loss: 0.0403 - val_loss: 0.0400 - learning_rate: 0.0050\n",
      "Epoch 16/50\n",
      "\u001b[1m579/579\u001b[0m \u001b[32m━━━━━━━━━━━━━━━━━━━━\u001b[0m\u001b[37m\u001b[0m \u001b[1m68s\u001b[0m 118ms/step - loss: 0.0410 - val_loss: 0.0398 - learning_rate: 0.0050\n",
      "Epoch 17/50\n",
      "\u001b[1m579/579\u001b[0m \u001b[32m━━━━━━━━━━━━━━━━━━━━\u001b[0m\u001b[37m\u001b[0m \u001b[1m68s\u001b[0m 118ms/step - loss: 0.0405 - val_loss: 0.0400 - learning_rate: 0.0050\n",
      "Epoch 18/50\n",
      "\u001b[1m579/579\u001b[0m \u001b[32m━━━━━━━━━━━━━━━━━━━━\u001b[0m\u001b[37m\u001b[0m \u001b[1m68s\u001b[0m 117ms/step - loss: 0.0399 - val_loss: 0.0404 - learning_rate: 0.0050\n",
      "Epoch 19/50\n",
      "\u001b[1m579/579\u001b[0m \u001b[32m━━━━━━━━━━━━━━━━━━━━\u001b[0m\u001b[37m\u001b[0m \u001b[1m81s\u001b[0m 115ms/step - loss: 0.0404 - val_loss: 0.0410 - learning_rate: 0.0050\n",
      "Epoch 20/50\n",
      "\u001b[1m579/579\u001b[0m \u001b[32m━━━━━━━━━━━━━━━━━━━━\u001b[0m\u001b[37m\u001b[0m \u001b[1m66s\u001b[0m 114ms/step - loss: 0.0392 - val_loss: 0.0384 - learning_rate: 4.9569e-04\n",
      "Epoch 21/50\n",
      "\u001b[1m579/579\u001b[0m \u001b[32m━━━━━━━━━━━━━━━━━━━━\u001b[0m\u001b[37m\u001b[0m \u001b[1m66s\u001b[0m 114ms/step - loss: 0.0377 - val_loss: 0.0378 - learning_rate: 4.9569e-04\n",
      "Epoch 22/50\n",
      "\u001b[1m579/579\u001b[0m \u001b[32m━━━━━━━━━━━━━━━━━━━━\u001b[0m\u001b[37m\u001b[0m \u001b[1m66s\u001b[0m 113ms/step - loss: 0.0376 - val_loss: 0.0379 - learning_rate: 4.9569e-04\n",
      "Epoch 23/50\n",
      "\u001b[1m579/579\u001b[0m \u001b[32m━━━━━━━━━━━━━━━━━━━━\u001b[0m\u001b[37m\u001b[0m \u001b[1m65s\u001b[0m 113ms/step - loss: 0.0375 - val_loss: 0.0380 - learning_rate: 4.9569e-04\n",
      "Epoch 24/50\n",
      "\u001b[1m579/579\u001b[0m \u001b[32m━━━━━━━━━━━━━━━━━━━━\u001b[0m\u001b[37m\u001b[0m \u001b[1m65s\u001b[0m 113ms/step - loss: 0.0369 - val_loss: 0.0379 - learning_rate: 4.9569e-04\n",
      "Epoch 25/50\n",
      "\u001b[1m579/579\u001b[0m \u001b[32m━━━━━━━━━━━━━━━━━━━━\u001b[0m\u001b[37m\u001b[0m \u001b[1m82s\u001b[0m 113ms/step - loss: 0.0370 - val_loss: 0.0375 - learning_rate: 4.9569e-05\n",
      "Epoch 26/50\n",
      "\u001b[1m579/579\u001b[0m \u001b[32m━━━━━━━━━━━━━━━━━━━━\u001b[0m\u001b[37m\u001b[0m \u001b[1m68s\u001b[0m 117ms/step - loss: 0.0363 - val_loss: 0.0375 - learning_rate: 4.9569e-05\n",
      "Epoch 27/50\n",
      "\u001b[1m579/579\u001b[0m \u001b[32m━━━━━━━━━━━━━━━━━━━━\u001b[0m\u001b[37m\u001b[0m \u001b[1m66s\u001b[0m 113ms/step - loss: 0.0368 - val_loss: 0.0375 - learning_rate: 4.9569e-05\n",
      "Epoch 28/50\n",
      "\u001b[1m579/579\u001b[0m \u001b[32m━━━━━━━━━━━━━━━━━━━━\u001b[0m\u001b[37m\u001b[0m \u001b[1m66s\u001b[0m 114ms/step - loss: 0.0369 - val_loss: 0.0376 - learning_rate: 4.9569e-05\n",
      "Epoch 29/50\n",
      "\u001b[1m579/579\u001b[0m \u001b[32m━━━━━━━━━━━━━━━━━━━━\u001b[0m\u001b[37m\u001b[0m \u001b[1m82s\u001b[0m 115ms/step - loss: 0.0368 - val_loss: 0.0375 - learning_rate: 4.9569e-06\n",
      "Epoch 30/50\n",
      "\u001b[1m579/579\u001b[0m \u001b[32m━━━━━━━━━━━━━━━━━━━━\u001b[0m\u001b[37m\u001b[0m \u001b[1m70s\u001b[0m 120ms/step - loss: 0.0368 - val_loss: 0.0375 - learning_rate: 4.9569e-06\n",
      "\u001b[1m153/153\u001b[0m \u001b[32m━━━━━━━━━━━━━━━━━━━━\u001b[0m\u001b[37m\u001b[0m \u001b[1m6s\u001b[0m 38ms/step\n",
      "\u001b[1m508/508\u001b[0m \u001b[32m━━━━━━━━━━━━━━━━━━━━\u001b[0m\u001b[37m\u001b[0m \u001b[1m18s\u001b[0m 35ms/step\n",
      "\n",
      "--- Fold 4 - MCC: 0.983788\n",
      "\n",
      "Epoch 1/50\n",
      "\u001b[1m579/579\u001b[0m \u001b[32m━━━━━━━━━━━━━━━━━━━━\u001b[0m\u001b[37m\u001b[0m \u001b[1m71s\u001b[0m 119ms/step - loss: 8.7830 - val_loss: 0.0640 - learning_rate: 0.0496\n",
      "Epoch 2/50\n",
      "\u001b[1m579/579\u001b[0m \u001b[32m━━━━━━━━━━━━━━━━━━━━\u001b[0m\u001b[37m\u001b[0m \u001b[1m71s\u001b[0m 122ms/step - loss: 0.0776 - val_loss: 0.0536 - learning_rate: 0.0496\n",
      "Epoch 3/50\n",
      "\u001b[1m579/579\u001b[0m \u001b[32m━━━━━━━━━━━━━━━━━━━━\u001b[0m\u001b[37m\u001b[0m \u001b[1m69s\u001b[0m 119ms/step - loss: 0.0602 - val_loss: 0.0465 - learning_rate: 0.0496\n",
      "Epoch 4/50\n",
      "\u001b[1m579/579\u001b[0m \u001b[32m━━━━━━━━━━━━━━━━━━━━\u001b[0m\u001b[37m\u001b[0m \u001b[1m69s\u001b[0m 120ms/step - loss: 0.0527 - val_loss: 0.0449 - learning_rate: 0.0496\n",
      "Epoch 5/50\n",
      "\u001b[1m579/579\u001b[0m \u001b[32m━━━━━━━━━━━━━━━━━━━━\u001b[0m\u001b[37m\u001b[0m \u001b[1m68s\u001b[0m 118ms/step - loss: 0.0487 - val_loss: 0.0434 - learning_rate: 0.0496\n",
      "Epoch 6/50\n",
      "\u001b[1m579/579\u001b[0m \u001b[32m━━━━━━━━━━━━━━━━━━━━\u001b[0m\u001b[37m\u001b[0m \u001b[1m72s\u001b[0m 124ms/step - loss: 0.0469 - val_loss: 0.0420 - learning_rate: 0.0496\n",
      "Epoch 7/50\n",
      "\u001b[1m579/579\u001b[0m \u001b[32m━━━━━━━━━━━━━━━━━━━━\u001b[0m\u001b[37m\u001b[0m \u001b[1m70s\u001b[0m 120ms/step - loss: 0.0458 - val_loss: 0.0416 - learning_rate: 0.0496\n",
      "Epoch 8/50\n",
      "\u001b[1m579/579\u001b[0m \u001b[32m━━━━━━━━━━━━━━━━━━━━\u001b[0m\u001b[37m\u001b[0m \u001b[1m82s\u001b[0m 121ms/step - loss: 0.0456 - val_loss: 0.0430 - learning_rate: 0.0496\n",
      "Epoch 9/50\n",
      "\u001b[1m579/579\u001b[0m \u001b[32m━━━━━━━━━━━━━━━━━━━━\u001b[0m\u001b[37m\u001b[0m \u001b[1m70s\u001b[0m 121ms/step - loss: 0.0463 - val_loss: 0.0467 - learning_rate: 0.0496\n",
      "Epoch 10/50\n",
      "\u001b[1m579/579\u001b[0m \u001b[32m━━━━━━━━━━━━━━━━━━━━\u001b[0m\u001b[37m\u001b[0m \u001b[1m70s\u001b[0m 121ms/step - loss: 0.0470 - val_loss: 0.0419 - learning_rate: 0.0496\n",
      "Epoch 11/50\n",
      "\u001b[1m579/579\u001b[0m \u001b[32m━━━━━━━━━━━━━━━━━━━━\u001b[0m\u001b[37m\u001b[0m \u001b[1m71s\u001b[0m 122ms/step - loss: 0.0412 - val_loss: 0.0387 - learning_rate: 0.0050\n",
      "Epoch 12/50\n",
      "\u001b[1m579/579\u001b[0m \u001b[32m━━━━━━━━━━━━━━━━━━━━\u001b[0m\u001b[37m\u001b[0m \u001b[1m70s\u001b[0m 121ms/step - loss: 0.0404 - val_loss: 0.0380 - learning_rate: 0.0050\n",
      "Epoch 13/50\n",
      "\u001b[1m579/579\u001b[0m \u001b[32m━━━━━━━━━━━━━━━━━━━━\u001b[0m\u001b[37m\u001b[0m \u001b[1m71s\u001b[0m 122ms/step - loss: 0.0397 - val_loss: 0.0393 - learning_rate: 0.0050\n",
      "Epoch 14/50\n",
      "\u001b[1m579/579\u001b[0m \u001b[32m━━━━━━━━━━━━━━━━━━━━\u001b[0m\u001b[37m\u001b[0m \u001b[1m68s\u001b[0m 117ms/step - loss: 0.0399 - val_loss: 0.0399 - learning_rate: 0.0050\n",
      "Epoch 15/50\n",
      "\u001b[1m579/579\u001b[0m \u001b[32m━━━━━━━━━━━━━━━━━━━━\u001b[0m\u001b[37m\u001b[0m \u001b[1m69s\u001b[0m 118ms/step - loss: 0.0400 - val_loss: 0.0387 - learning_rate: 0.0050\n",
      "Epoch 16/50\n",
      "\u001b[1m579/579\u001b[0m \u001b[32m━━━━━━━━━━━━━━━━━━━━\u001b[0m\u001b[37m\u001b[0m \u001b[1m71s\u001b[0m 123ms/step - loss: 0.0389 - val_loss: 0.0375 - learning_rate: 4.9569e-04\n",
      "Epoch 17/50\n",
      "\u001b[1m579/579\u001b[0m \u001b[32m━━━━━━━━━━━━━━━━━━━━\u001b[0m\u001b[37m\u001b[0m \u001b[1m71s\u001b[0m 122ms/step - loss: 0.0383 - val_loss: 0.0373 - learning_rate: 4.9569e-04\n",
      "Epoch 18/50\n",
      "\u001b[1m579/579\u001b[0m \u001b[32m━━━━━━━━━━━━━━━━━━━━\u001b[0m\u001b[37m\u001b[0m \u001b[1m81s\u001b[0m 120ms/step - loss: 0.0377 - val_loss: 0.0372 - learning_rate: 4.9569e-04\n",
      "Epoch 19/50\n",
      "\u001b[1m579/579\u001b[0m \u001b[32m━━━━━━━━━━━━━━━━━━━━\u001b[0m\u001b[37m\u001b[0m \u001b[1m70s\u001b[0m 121ms/step - loss: 0.0376 - val_loss: 0.0373 - learning_rate: 4.9569e-04\n",
      "Epoch 20/50\n",
      "\u001b[1m579/579\u001b[0m \u001b[32m━━━━━━━━━━━━━━━━━━━━\u001b[0m\u001b[37m\u001b[0m \u001b[1m70s\u001b[0m 121ms/step - loss: 0.0375 - val_loss: 0.0369 - learning_rate: 4.9569e-04\n",
      "Epoch 21/50\n",
      "\u001b[1m579/579\u001b[0m \u001b[32m━━━━━━━━━━━━━━━━━━━━\u001b[0m\u001b[37m\u001b[0m \u001b[1m68s\u001b[0m 118ms/step - loss: 0.0376 - val_loss: 0.0368 - learning_rate: 4.9569e-04\n",
      "Epoch 22/50\n",
      "\u001b[1m579/579\u001b[0m \u001b[32m━━━━━━━━━━━━━━━━━━━━\u001b[0m\u001b[37m\u001b[0m \u001b[1m67s\u001b[0m 115ms/step - loss: 0.0375 - val_loss: 0.0368 - learning_rate: 4.9569e-04\n",
      "Epoch 23/50\n",
      "\u001b[1m579/579\u001b[0m \u001b[32m━━━━━━━━━━━━━━━━━━━━\u001b[0m\u001b[37m\u001b[0m \u001b[1m82s\u001b[0m 116ms/step - loss: 0.0380 - val_loss: 0.0377 - learning_rate: 4.9569e-04\n",
      "Epoch 24/50\n",
      "\u001b[1m579/579\u001b[0m \u001b[32m━━━━━━━━━━━━━━━━━━━━\u001b[0m\u001b[37m\u001b[0m \u001b[1m69s\u001b[0m 118ms/step - loss: 0.0381 - val_loss: 0.0370 - learning_rate: 4.9569e-04\n",
      "Epoch 25/50\n",
      "\u001b[1m579/579\u001b[0m \u001b[32m━━━━━━━━━━━━━━━━━━━━\u001b[0m\u001b[37m\u001b[0m \u001b[1m67s\u001b[0m 116ms/step - loss: 0.0365 - val_loss: 0.0369 - learning_rate: 4.9569e-05\n",
      "Epoch 26/50\n",
      "\u001b[1m579/579\u001b[0m \u001b[32m━━━━━━━━━━━━━━━━━━━━\u001b[0m\u001b[37m\u001b[0m \u001b[1m67s\u001b[0m 116ms/step - loss: 0.0368 - val_loss: 0.0368 - learning_rate: 4.9569e-05\n",
      "\u001b[1m153/153\u001b[0m \u001b[32m━━━━━━━━━━━━━━━━━━━━\u001b[0m\u001b[37m\u001b[0m \u001b[1m5s\u001b[0m 33ms/step\n",
      "\u001b[1m508/508\u001b[0m \u001b[32m━━━━━━━━━━━━━━━━━━━━\u001b[0m\u001b[37m\u001b[0m \u001b[1m18s\u001b[0m 36ms/step\n",
      "\n",
      "--- Fold 5 - MCC: 0.983809\n",
      "\n",
      "\n",
      "\n",
      "------ Average MCC: 0.786851 ± 0.393426\n"
     ]
    }
   ],
   "source": [
    "trainer = Trainer(model)\n",
    "trainer.fit_predict(X, y, X_test)"
   ]
  }
 ],
 "metadata": {
  "kaggle": {
   "accelerator": "none",
   "dataSources": [
    {
     "databundleVersionId": 9045607,
     "sourceId": 76727,
     "sourceType": "competition"
    }
   ],
   "dockerImageVersionId": 30746,
   "isGpuEnabled": false,
   "isInternetEnabled": true,
   "language": "python",
   "sourceType": "notebook"
  },
  "kernelspec": {
   "display_name": "Python 3",
   "language": "python",
   "name": "python3"
  },
  "language_info": {
   "codemirror_mode": {
    "name": "ipython",
    "version": 3
   },
   "file_extension": ".py",
   "mimetype": "text/x-python",
   "name": "python",
   "nbconvert_exporter": "python",
   "pygments_lexer": "ipython3",
   "version": "3.10.13"
  },
  "papermill": {
   "default_parameters": {},
   "duration": 9202.062665,
   "end_time": "2024-08-05T10:29:39.164710",
   "environment_variables": {},
   "exception": null,
   "input_path": "__notebook__.ipynb",
   "output_path": "__notebook__.ipynb",
   "parameters": {},
   "start_time": "2024-08-05T07:56:17.102045",
   "version": "2.5.0"
  }
 },
 "nbformat": 4,
 "nbformat_minor": 5
}
