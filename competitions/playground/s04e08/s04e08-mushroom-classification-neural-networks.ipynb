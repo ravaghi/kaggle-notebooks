{
 "cells": [
  {
   "cell_type": "markdown",
   "id": "4ecdaa38",
   "metadata": {
    "papermill": {
     "duration": 0.006066,
     "end_time": "2024-08-05T13:17:58.884208",
     "exception": false,
     "start_time": "2024-08-05T13:17:58.878142",
     "status": "completed"
    },
    "tags": []
   },
   "source": [
    "# Imports and Configs"
   ]
  },
  {
   "cell_type": "code",
   "execution_count": 1,
   "id": "18204779",
   "metadata": {
    "_kg_hide-output": true,
    "execution": {
     "iopub.execute_input": "2024-08-05T13:17:58.897429Z",
     "iopub.status.busy": "2024-08-05T13:17:58.897007Z",
     "iopub.status.idle": "2024-08-05T13:18:22.794397Z",
     "shell.execute_reply": "2024-08-05T13:18:22.792544Z"
    },
    "papermill": {
     "duration": 23.907214,
     "end_time": "2024-08-05T13:18:22.797440",
     "exception": false,
     "start_time": "2024-08-05T13:17:58.890226",
     "status": "completed"
    },
    "tags": []
   },
   "outputs": [
    {
     "name": "stdout",
     "output_type": "stream",
     "text": [
      "\u001b[31mERROR: pip's dependency resolver does not currently take into account all the packages that are installed. This behaviour is the source of the following dependency conflicts.\r\n",
      "spaghetti 1.7.6 requires shapely>=2.0.1, but you have shapely 1.8.5.post1 which is incompatible.\r\n",
      "spopt 0.6.1 requires shapely>=2.0.1, but you have shapely 1.8.5.post1 which is incompatible.\u001b[0m\u001b[31m\r\n",
      "\u001b[0m"
     ]
    }
   ],
   "source": [
    "!pip install -q scikit-learn==1.4\n",
    "!pip install -q --no-deps scikeras"
   ]
  },
  {
   "cell_type": "code",
   "execution_count": 2,
   "id": "ce4fafcf",
   "metadata": {
    "_cell_guid": "b1076dfc-b9ad-4769-8c92-a6c4dae69d19",
    "_kg_hide-output": true,
    "_uuid": "8f2839f25d086af736a60e9eeb907d3b93b6e0e5",
    "execution": {
     "iopub.execute_input": "2024-08-05T13:18:22.811444Z",
     "iopub.status.busy": "2024-08-05T13:18:22.810419Z",
     "iopub.status.idle": "2024-08-05T13:18:39.022405Z",
     "shell.execute_reply": "2024-08-05T13:18:39.021180Z"
    },
    "papermill": {
     "duration": 16.222251,
     "end_time": "2024-08-05T13:18:39.025350",
     "exception": false,
     "start_time": "2024-08-05T13:18:22.803099",
     "status": "completed"
    },
    "tags": []
   },
   "outputs": [
    {
     "name": "stderr",
     "output_type": "stream",
     "text": [
      "2024-08-05 13:18:24.866506: E external/local_xla/xla/stream_executor/cuda/cuda_dnn.cc:9261] Unable to register cuDNN factory: Attempting to register factory for plugin cuDNN when one has already been registered\n",
      "2024-08-05 13:18:24.866670: E external/local_xla/xla/stream_executor/cuda/cuda_fft.cc:607] Unable to register cuFFT factory: Attempting to register factory for plugin cuFFT when one has already been registered\n",
      "2024-08-05 13:18:25.013842: E external/local_xla/xla/stream_executor/cuda/cuda_blas.cc:1515] Unable to register cuBLAS factory: Attempting to register factory for plugin cuBLAS when one has already been registered\n"
     ]
    }
   ],
   "source": [
    "from scikeras.wrappers import KerasClassifier\n",
    "from sklearn.model_selection import StratifiedKFold\n",
    "from sklearn.preprocessing import OneHotEncoder\n",
    "from sklearn.impute import SimpleImputer\n",
    "from sklearn.preprocessing import StandardScaler\n",
    "from sklearn.compose import ColumnTransformer\n",
    "from sklearn.preprocessing import PowerTransformer\n",
    "from sklearn.pipeline import make_pipeline\n",
    "from sklearn.metrics import matthews_corrcoef\n",
    "from sklearn.base import clone\n",
    "import matplotlib.pyplot as plt\n",
    "import seaborn as sns\n",
    "import pandas as pd\n",
    "import numpy as np\n",
    "import warnings\n",
    "import pickle\n",
    "import keras\n",
    "import gc\n",
    "\n",
    "warnings.filterwarnings('ignore')"
   ]
  },
  {
   "cell_type": "code",
   "execution_count": 3,
   "id": "4466da1a",
   "metadata": {
    "execution": {
     "iopub.execute_input": "2024-08-05T13:18:39.039153Z",
     "iopub.status.busy": "2024-08-05T13:18:39.038461Z",
     "iopub.status.idle": "2024-08-05T13:18:39.043943Z",
     "shell.execute_reply": "2024-08-05T13:18:39.042998Z"
    },
    "papermill": {
     "duration": 0.015258,
     "end_time": "2024-08-05T13:18:39.046496",
     "exception": false,
     "start_time": "2024-08-05T13:18:39.031238",
     "status": "completed"
    },
    "tags": []
   },
   "outputs": [],
   "source": [
    "TARGET = 'class'\n",
    "N_FOLDS = 5\n",
    "SEED = 6"
   ]
  },
  {
   "cell_type": "markdown",
   "id": "fbeb7309",
   "metadata": {
    "papermill": {
     "duration": 0.005616,
     "end_time": "2024-08-05T13:18:39.058049",
     "exception": false,
     "start_time": "2024-08-05T13:18:39.052433",
     "status": "completed"
    },
    "tags": []
   },
   "source": [
    "# Loading Data"
   ]
  },
  {
   "cell_type": "code",
   "execution_count": 4,
   "id": "d05e7945",
   "metadata": {
    "execution": {
     "iopub.execute_input": "2024-08-05T13:18:39.071251Z",
     "iopub.status.busy": "2024-08-05T13:18:39.070872Z",
     "iopub.status.idle": "2024-08-05T13:18:59.870832Z",
     "shell.execute_reply": "2024-08-05T13:18:59.869505Z"
    },
    "papermill": {
     "duration": 20.809886,
     "end_time": "2024-08-05T13:18:59.873723",
     "exception": false,
     "start_time": "2024-08-05T13:18:39.063837",
     "status": "completed"
    },
    "tags": []
   },
   "outputs": [],
   "source": [
    "train = pd.read_csv('/kaggle/input/playground-series-s4e8/train.csv', index_col='id')\n",
    "test = pd.read_csv('/kaggle/input/playground-series-s4e8/test.csv', index_col='id')"
   ]
  },
  {
   "cell_type": "code",
   "execution_count": 5,
   "id": "e0b69edb",
   "metadata": {
    "execution": {
     "iopub.execute_input": "2024-08-05T13:18:59.887553Z",
     "iopub.status.busy": "2024-08-05T13:18:59.887172Z",
     "iopub.status.idle": "2024-08-05T13:18:59.895838Z",
     "shell.execute_reply": "2024-08-05T13:18:59.894728Z"
    },
    "papermill": {
     "duration": 0.018651,
     "end_time": "2024-08-05T13:18:59.898434",
     "exception": false,
     "start_time": "2024-08-05T13:18:59.879783",
     "status": "completed"
    },
    "tags": []
   },
   "outputs": [
    {
     "data": {
      "text/plain": [
       "((3116945, 21), (2077964, 20))"
      ]
     },
     "execution_count": 5,
     "metadata": {},
     "output_type": "execute_result"
    }
   ],
   "source": [
    "train.shape, test.shape"
   ]
  },
  {
   "cell_type": "code",
   "execution_count": 6,
   "id": "494fd228",
   "metadata": {
    "execution": {
     "iopub.execute_input": "2024-08-05T13:18:59.912599Z",
     "iopub.status.busy": "2024-08-05T13:18:59.912217Z",
     "iopub.status.idle": "2024-08-05T13:19:16.247213Z",
     "shell.execute_reply": "2024-08-05T13:19:16.245984Z"
    },
    "papermill": {
     "duration": 16.344947,
     "end_time": "2024-08-05T13:19:16.249800",
     "exception": false,
     "start_time": "2024-08-05T13:18:59.904853",
     "status": "completed"
    },
    "tags": []
   },
   "outputs": [
    {
     "data": {
      "image/png": "[encoded data removed]",
      "text/plain": [
       "<Figure size 1400x500 with 2 Axes>"
      ]
     },
     "metadata": {},
     "output_type": "display_data"
    }
   ],
   "source": [
    "cmap = sns.light_palette('#651FFF', as_cmap=True)\n",
    "\n",
    "train_null_values = train.sample(100_000).drop(columns=TARGET).isnull().T\n",
    "test_null_values = test.sample(100_000).isnull().T\n",
    "\n",
    "fig, axes = plt.subplots(nrows=1, ncols=2, figsize=(14, 5))\n",
    "\n",
    "sns.heatmap(train_null_values, cbar=False, cmap=cmap, ax=axes[0])\n",
    "axes[0].set_title('Train')\n",
    "axes[0].set_xticks([]) \n",
    "axes[0].set_xlabel('')\n",
    "\n",
    "sns.heatmap(test_null_values, cbar=False, cmap=cmap, ax=axes[1])\n",
    "axes[1].set_title('Test')\n",
    "axes[1].set_xticks([]) \n",
    "axes[1].set_xlabel('')\n",
    "\n",
    "plt.tight_layout()\n",
    "plt.show()"
   ]
  },
  {
   "cell_type": "markdown",
   "id": "cce7650c",
   "metadata": {
    "papermill": {
     "duration": 0.006746,
     "end_time": "2024-08-05T13:19:16.263755",
     "exception": false,
     "start_time": "2024-08-05T13:19:16.257009",
     "status": "completed"
    },
    "tags": []
   },
   "source": [
    "# Feature Engineering"
   ]
  },
  {
   "cell_type": "code",
   "execution_count": 7,
   "id": "b612a1bb",
   "metadata": {
    "execution": {
     "iopub.execute_input": "2024-08-05T13:19:16.280079Z",
     "iopub.status.busy": "2024-08-05T13:19:16.279243Z",
     "iopub.status.idle": "2024-08-05T13:19:16.741282Z",
     "shell.execute_reply": "2024-08-05T13:19:16.740028Z"
    },
    "papermill": {
     "duration": 0.473133,
     "end_time": "2024-08-05T13:19:16.744007",
     "exception": false,
     "start_time": "2024-08-05T13:19:16.270874",
     "status": "completed"
    },
    "tags": []
   },
   "outputs": [],
   "source": [
    "cat_features = test.select_dtypes('object').columns\n",
    "cont_features = test.select_dtypes('float').columns"
   ]
  },
  {
   "cell_type": "code",
   "execution_count": 8,
   "id": "8133bf20",
   "metadata": {
    "execution": {
     "iopub.execute_input": "2024-08-05T13:19:16.760077Z",
     "iopub.status.busy": "2024-08-05T13:19:16.759678Z",
     "iopub.status.idle": "2024-08-05T13:19:33.269400Z",
     "shell.execute_reply": "2024-08-05T13:19:33.268254Z"
    },
    "papermill": {
     "duration": 16.520989,
     "end_time": "2024-08-05T13:19:33.272327",
     "exception": false,
     "start_time": "2024-08-05T13:19:16.751338",
     "status": "completed"
    },
    "tags": []
   },
   "outputs": [],
   "source": [
    "for feature in cat_features:    \n",
    "    for df in [train, test]:\n",
    "        df.loc[df[feature].value_counts(dropna=False)[df[feature]].values < 100, feature] = 'rare'"
   ]
  },
  {
   "cell_type": "code",
   "execution_count": 9,
   "id": "ae23c62a",
   "metadata": {
    "execution": {
     "iopub.execute_input": "2024-08-05T13:19:33.288920Z",
     "iopub.status.busy": "2024-08-05T13:19:33.288481Z",
     "iopub.status.idle": "2024-08-05T13:19:33.295667Z",
     "shell.execute_reply": "2024-08-05T13:19:33.294352Z"
    },
    "papermill": {
     "duration": 0.018479,
     "end_time": "2024-08-05T13:19:33.298263",
     "exception": false,
     "start_time": "2024-08-05T13:19:33.279784",
     "status": "completed"
    },
    "tags": []
   },
   "outputs": [],
   "source": [
    "one_hot_encoder = OneHotEncoder(drop='first', sparse_output=False, dtype=np.float32, handle_unknown='infrequent_if_exist', min_frequency=50)\n",
    "step_1 = ('imputer', make_pipeline(PowerTransformer(), SimpleImputer(add_indicator=True)), cont_features)\n",
    "step_2 = ('one-hot-encoder', one_hot_encoder, cat_features)\n",
    "steps = [step_1, step_2]\n",
    "transformer = ColumnTransformer(steps, remainder='passthrough')\n",
    "\n",
    "pipeline = make_pipeline(transformer, StandardScaler())"
   ]
  },
  {
   "cell_type": "code",
   "execution_count": 10,
   "id": "1479d0a8",
   "metadata": {
    "execution": {
     "iopub.execute_input": "2024-08-05T13:19:33.314817Z",
     "iopub.status.busy": "2024-08-05T13:19:33.314381Z",
     "iopub.status.idle": "2024-08-05T13:19:34.127416Z",
     "shell.execute_reply": "2024-08-05T13:19:34.126178Z"
    },
    "papermill": {
     "duration": 0.824358,
     "end_time": "2024-08-05T13:19:34.130155",
     "exception": false,
     "start_time": "2024-08-05T13:19:33.305797",
     "status": "completed"
    },
    "tags": []
   },
   "outputs": [],
   "source": [
    "X = train.drop([TARGET], axis=1)\n",
    "y = train[TARGET].map({'e': 0, 'p': 1})\n",
    "X_test = test"
   ]
  },
  {
   "cell_type": "code",
   "execution_count": 11,
   "id": "ff0cdf96",
   "metadata": {
    "execution": {
     "iopub.execute_input": "2024-08-05T13:19:34.147614Z",
     "iopub.status.busy": "2024-08-05T13:19:34.146386Z",
     "iopub.status.idle": "2024-08-05T13:22:18.265909Z",
     "shell.execute_reply": "2024-08-05T13:22:18.264697Z"
    },
    "papermill": {
     "duration": 164.131534,
     "end_time": "2024-08-05T13:22:18.269065",
     "exception": false,
     "start_time": "2024-08-05T13:19:34.137531",
     "status": "completed"
    },
    "tags": []
   },
   "outputs": [],
   "source": [
    "X = pipeline.fit_transform(X)\n",
    "X_test = pipeline.transform(X_test)"
   ]
  },
  {
   "cell_type": "markdown",
   "id": "0938c890",
   "metadata": {
    "papermill": {
     "duration": 0.007079,
     "end_time": "2024-08-05T13:22:18.284182",
     "exception": false,
     "start_time": "2024-08-05T13:22:18.277103",
     "status": "completed"
    },
    "tags": []
   },
   "source": [
    "# Training"
   ]
  },
  {
   "cell_type": "code",
   "execution_count": 12,
   "id": "0db29f09",
   "metadata": {
    "execution": {
     "iopub.execute_input": "2024-08-05T13:22:18.301754Z",
     "iopub.status.busy": "2024-08-05T13:22:18.300517Z",
     "iopub.status.idle": "2024-08-05T13:22:18.318987Z",
     "shell.execute_reply": "2024-08-05T13:22:18.317622Z"
    },
    "papermill": {
     "duration": 0.030176,
     "end_time": "2024-08-05T13:22:18.321794",
     "exception": false,
     "start_time": "2024-08-05T13:22:18.291618",
     "status": "completed"
    },
    "tags": []
   },
   "outputs": [],
   "source": [
    "class Trainer:\n",
    "    def __init__(self, model, n_folds=N_FOLDS):\n",
    "        self.model = model\n",
    "        self.n_folds = n_folds\n",
    "\n",
    "    def fit_predict(self, X, y, X_test):\n",
    "        print(f'Training {self.model.__class__.__name__}\\n')\n",
    "        \n",
    "        scores = []        \n",
    "        oof_pred_probs = np.zeros((X.shape[0], len(np.unique(y))))\n",
    "        test_pred_probs = np.zeros((X_test.shape[0], len(np.unique(y))))\n",
    "        \n",
    "        skf = StratifiedKFold(n_splits=self.n_folds, random_state=SEED, shuffle=True)\n",
    "        for fold_idx, (train_idx, val_idx) in enumerate(skf.split(X, y)):\n",
    "            X_train, X_val = X[train_idx], X[val_idx]\n",
    "            y_train, y_val = y[train_idx], y[val_idx]\n",
    "            \n",
    "            model = clone(self.model)\n",
    "            model.fit(X_train, y_train)\n",
    "            \n",
    "            y_pred_probs = model.predict_proba(X_val)\n",
    "            oof_pred_probs[val_idx] = y_pred_probs            \n",
    "            \n",
    "            score = matthews_corrcoef(y_val, np.argmax(y_pred_probs, axis=1))\n",
    "            scores.append(score)\n",
    "            \n",
    "            temp_test_pred_probs = model.predict_proba(X_test)\n",
    "            test_pred_probs += temp_test_pred_probs / self.n_folds\n",
    "            \n",
    "            del model, X_train, y_train, X_val, y_val, y_pred_probs, temp_test_pred_probs\n",
    "            gc.collect()\n",
    "            \n",
    "            print(f'\\n--- Fold {fold_idx + 1} - MCC: {score:.6f}\\n')            \n",
    "            \n",
    "        self._save_pred_probs(oof_pred_probs, np.mean(scores), 'oof')\n",
    "        self._save_pred_probs(test_pred_probs, np.mean(scores), 'test')\n",
    "        self._save_submission(test_pred_probs, np.mean(scores))\n",
    "        print(f'\\n------ Average MCC: {np.mean(scores):.6f} ± {np.std(scores):.6f}')\n",
    "        \n",
    "    def _save_pred_probs(self, pred_probs, cv_score, name):\n",
    "        model_name = self.model.__class__.__name__.lower().replace('classifier', '')\n",
    "        with open(f'{model_name}_{name}_pred_probs_{cv_score:.6f}.pkl', 'wb') as f:\n",
    "            pickle.dump(pred_probs, f)\n",
    "    \n",
    "    def _save_submission(self, test_pred_probs, score):\n",
    "        name = self.model.__class__.__name__.lower().replace('classifier', '')\n",
    "        sub = pd.read_csv('/kaggle/input/playground-series-s4e8/sample_submission.csv')\n",
    "        sub[TARGET] = np.argmax(test_pred_probs, axis=1)\n",
    "        sub[TARGET] = sub[TARGET].map({0: 'e', 1: 'p'})\n",
    "        sub.to_csv(f'sub_{name}_{score:.6f}.csv', index=False)"
   ]
  },
  {
   "cell_type": "code",
   "execution_count": 13,
   "id": "e72dee8d",
   "metadata": {
    "execution": {
     "iopub.execute_input": "2024-08-05T13:22:18.338912Z",
     "iopub.status.busy": "2024-08-05T13:22:18.338171Z",
     "iopub.status.idle": "2024-08-05T13:22:18.385946Z",
     "shell.execute_reply": "2024-08-05T13:22:18.384714Z"
    },
    "papermill": {
     "duration": 0.059479,
     "end_time": "2024-08-05T13:22:18.388805",
     "exception": false,
     "start_time": "2024-08-05T13:22:18.329326",
     "status": "completed"
    },
    "tags": []
   },
   "outputs": [],
   "source": [
    "# Reference: https://www.kaggle.com/code/ambrosm/pss4e8-eda-which-makes-sense\n",
    "\n",
    "def get_model(meta):\n",
    "    model = keras.models.Sequential()\n",
    "    model.add(keras.layers.Input(meta['X_shape_'][1:]))\n",
    "    model.add(keras.layers.Dense(359, activation='selu'))\n",
    "    model.add(keras.layers.Dropout(0.2))\n",
    "    model.add(keras.layers.Dense(431, activation='selu'))\n",
    "    model.add(keras.layers.Dropout(0.1))\n",
    "    model.add(keras.layers.Dense(314, activation='selu'))\n",
    "    model.add(keras.layers.Dropout(0.1))\n",
    "    model.add(keras.layers.Dense(1, activation='sigmoid'))\n",
    "    return model\n",
    "\n",
    "model = KerasClassifier(\n",
    "    get_model,\n",
    "    loss='binary_crossentropy',\n",
    "    optimizer=keras.optimizers.Adam(learning_rate=0.01),\n",
    "    validation_split=0.05,\n",
    "    batch_size=4096,\n",
    "    validation_batch_size=65536,\n",
    "    epochs=50,\n",
    "    verbose=1,\n",
    "    callbacks=[\n",
    "        keras.callbacks.ReduceLROnPlateau(patience=3),\n",
    "        keras.callbacks.EarlyStopping(patience=5, min_delta=0.00003)\n",
    "    ]\n",
    ")"
   ]
  },
  {
   "cell_type": "code",
   "execution_count": 14,
   "id": "bf471024",
   "metadata": {
    "_kg_hide-output": true,
    "execution": {
     "iopub.execute_input": "2024-08-05T13:22:18.405869Z",
     "iopub.status.busy": "2024-08-05T13:22:18.405446Z",
     "iopub.status.idle": "2024-08-05T15:44:37.730934Z",
     "shell.execute_reply": "2024-08-05T15:44:37.729030Z"
    },
    "papermill": {
     "duration": 8539.337497,
     "end_time": "2024-08-05T15:44:37.734182",
     "exception": false,
     "start_time": "2024-08-05T13:22:18.396685",
     "status": "completed"
    },
    "tags": []
   },
   "outputs": [
    {
     "name": "stdout",
     "output_type": "stream",
     "text": [
      "Training KerasClassifier\n",
      "\n",
      "Epoch 1/50\n",
      "\u001b[1m579/579\u001b[0m \u001b[32m━━━━━━━━━━━━━━━━━━━━\u001b[0m\u001b[37m\u001b[0m \u001b[1m64s\u001b[0m 107ms/step - loss: 0.3357 - val_loss: 0.0435 - learning_rate: 0.0100\n",
      "Epoch 2/50\n",
      "\u001b[1m579/579\u001b[0m \u001b[32m━━━━━━━━━━━━━━━━━━━━\u001b[0m\u001b[37m\u001b[0m \u001b[1m62s\u001b[0m 106ms/step - loss: 0.0466 - val_loss: 0.0414 - learning_rate: 0.0100\n",
      "Epoch 3/50\n",
      "\u001b[1m579/579\u001b[0m \u001b[32m━━━━━━━━━━━━━━━━━━━━\u001b[0m\u001b[37m\u001b[0m \u001b[1m62s\u001b[0m 107ms/step - loss: 0.0435 - val_loss: 0.0419 - learning_rate: 0.0100\n",
      "Epoch 4/50\n",
      "\u001b[1m579/579\u001b[0m \u001b[32m━━━━━━━━━━━━━━━━━━━━\u001b[0m\u001b[37m\u001b[0m \u001b[1m62s\u001b[0m 108ms/step - loss: 0.0433 - val_loss: 0.0410 - learning_rate: 0.0100\n",
      "Epoch 5/50\n",
      "\u001b[1m579/579\u001b[0m \u001b[32m━━━━━━━━━━━━━━━━━━━━\u001b[0m\u001b[37m\u001b[0m \u001b[1m62s\u001b[0m 107ms/step - loss: 0.0439 - val_loss: 0.0426 - learning_rate: 0.0100\n",
      "Epoch 6/50\n",
      "\u001b[1m579/579\u001b[0m \u001b[32m━━━━━━━━━━━━━━━━━━━━\u001b[0m\u001b[37m\u001b[0m \u001b[1m62s\u001b[0m 107ms/step - loss: 0.0445 - val_loss: 0.0464 - learning_rate: 0.0100\n",
      "Epoch 7/50\n",
      "\u001b[1m579/579\u001b[0m \u001b[32m━━━━━━━━━━━━━━━━━━━━\u001b[0m\u001b[37m\u001b[0m \u001b[1m62s\u001b[0m 107ms/step - loss: 0.0461 - val_loss: 0.0441 - learning_rate: 0.0100\n",
      "Epoch 8/50\n",
      "\u001b[1m579/579\u001b[0m \u001b[32m━━━━━━━━━━━━━━━━━━━━\u001b[0m\u001b[37m\u001b[0m \u001b[1m62s\u001b[0m 107ms/step - loss: 0.0413 - val_loss: 0.0379 - learning_rate: 1.0000e-03\n",
      "Epoch 9/50\n",
      "\u001b[1m579/579\u001b[0m \u001b[32m━━━━━━━━━━━━━━━━━━━━\u001b[0m\u001b[37m\u001b[0m \u001b[1m63s\u001b[0m 108ms/step - loss: 0.0388 - val_loss: 0.0379 - learning_rate: 1.0000e-03\n",
      "Epoch 10/50\n",
      "\u001b[1m579/579\u001b[0m \u001b[32m━━━━━━━━━━━━━━━━━━━━\u001b[0m\u001b[37m\u001b[0m \u001b[1m63s\u001b[0m 109ms/step - loss: 0.0390 - val_loss: 0.0374 - learning_rate: 1.0000e-03\n",
      "Epoch 11/50\n",
      "\u001b[1m579/579\u001b[0m \u001b[32m━━━━━━━━━━━━━━━━━━━━\u001b[0m\u001b[37m\u001b[0m \u001b[1m63s\u001b[0m 109ms/step - loss: 0.0387 - val_loss: 0.0373 - learning_rate: 1.0000e-03\n",
      "Epoch 12/50\n",
      "\u001b[1m579/579\u001b[0m \u001b[32m━━━━━━━━━━━━━━━━━━━━\u001b[0m\u001b[37m\u001b[0m \u001b[1m63s\u001b[0m 108ms/step - loss: 0.0386 - val_loss: 0.0376 - learning_rate: 1.0000e-03\n",
      "Epoch 13/50\n",
      "\u001b[1m579/579\u001b[0m \u001b[32m━━━━━━━━━━━━━━━━━━━━\u001b[0m\u001b[37m\u001b[0m \u001b[1m63s\u001b[0m 108ms/step - loss: 0.0384 - val_loss: 0.0376 - learning_rate: 1.0000e-03\n",
      "Epoch 14/50\n",
      "\u001b[1m579/579\u001b[0m \u001b[32m━━━━━━━━━━━━━━━━━━━━\u001b[0m\u001b[37m\u001b[0m \u001b[1m63s\u001b[0m 108ms/step - loss: 0.0381 - val_loss: 0.0374 - learning_rate: 1.0000e-03\n",
      "Epoch 15/50\n",
      "\u001b[1m579/579\u001b[0m \u001b[32m━━━━━━━━━━━━━━━━━━━━\u001b[0m\u001b[37m\u001b[0m \u001b[1m82s\u001b[0m 108ms/step - loss: 0.0375 - val_loss: 0.0370 - learning_rate: 1.0000e-04\n",
      "Epoch 16/50\n",
      "\u001b[1m579/579\u001b[0m \u001b[32m━━━━━━━━━━━━━━━━━━━━\u001b[0m\u001b[37m\u001b[0m \u001b[1m63s\u001b[0m 108ms/step - loss: 0.0369 - val_loss: 0.0369 - learning_rate: 1.0000e-04\n",
      "Epoch 17/50\n",
      "\u001b[1m579/579\u001b[0m \u001b[32m━━━━━━━━━━━━━━━━━━━━\u001b[0m\u001b[37m\u001b[0m \u001b[1m63s\u001b[0m 108ms/step - loss: 0.0368 - val_loss: 0.0369 - learning_rate: 1.0000e-04\n",
      "Epoch 18/50\n",
      "\u001b[1m579/579\u001b[0m \u001b[32m━━━━━━━━━━━━━━━━━━━━\u001b[0m\u001b[37m\u001b[0m \u001b[1m63s\u001b[0m 108ms/step - loss: 0.0371 - val_loss: 0.0368 - learning_rate: 1.0000e-04\n",
      "Epoch 19/50\n",
      "\u001b[1m579/579\u001b[0m \u001b[32m━━━━━━━━━━━━━━━━━━━━\u001b[0m\u001b[37m\u001b[0m \u001b[1m63s\u001b[0m 108ms/step - loss: 0.0370 - val_loss: 0.0369 - learning_rate: 1.0000e-04\n",
      "Epoch 20/50\n",
      "\u001b[1m579/579\u001b[0m \u001b[32m━━━━━━━━━━━━━━━━━━━━\u001b[0m\u001b[37m\u001b[0m \u001b[1m63s\u001b[0m 108ms/step - loss: 0.0364 - val_loss: 0.0368 - learning_rate: 1.0000e-05\n",
      "Epoch 21/50\n",
      "\u001b[1m579/579\u001b[0m \u001b[32m━━━━━━━━━━━━━━━━━━━━\u001b[0m\u001b[37m\u001b[0m \u001b[1m63s\u001b[0m 108ms/step - loss: 0.0369 - val_loss: 0.0367 - learning_rate: 1.0000e-05\n",
      "Epoch 22/50\n",
      "\u001b[1m579/579\u001b[0m \u001b[32m━━━━━━━━━━━━━━━━━━━━\u001b[0m\u001b[37m\u001b[0m \u001b[1m63s\u001b[0m 108ms/step - loss: 0.0368 - val_loss: 0.0368 - learning_rate: 1.0000e-05\n",
      "Epoch 23/50\n",
      "\u001b[1m579/579\u001b[0m \u001b[32m━━━━━━━━━━━━━━━━━━━━\u001b[0m\u001b[37m\u001b[0m \u001b[1m63s\u001b[0m 108ms/step - loss: 0.0367 - val_loss: 0.0368 - learning_rate: 1.0000e-05\n",
      "Epoch 24/50\n",
      "\u001b[1m579/579\u001b[0m \u001b[32m━━━━━━━━━━━━━━━━━━━━\u001b[0m\u001b[37m\u001b[0m \u001b[1m63s\u001b[0m 108ms/step - loss: 0.0365 - val_loss: 0.0368 - learning_rate: 1.0000e-06\n",
      "Epoch 25/50\n",
      "\u001b[1m579/579\u001b[0m \u001b[32m━━━━━━━━━━━━━━━━━━━━\u001b[0m\u001b[37m\u001b[0m \u001b[1m63s\u001b[0m 109ms/step - loss: 0.0368 - val_loss: 0.0368 - learning_rate: 1.0000e-06\n",
      "\u001b[1m153/153\u001b[0m \u001b[32m━━━━━━━━━━━━━━━━━━━━\u001b[0m\u001b[37m\u001b[0m \u001b[1m5s\u001b[0m 32ms/step\n",
      "\u001b[1m508/508\u001b[0m \u001b[32m━━━━━━━━━━━━━━━━━━━━\u001b[0m\u001b[37m\u001b[0m \u001b[1m19s\u001b[0m 38ms/step\n",
      "\n",
      "--- Fold 1 - MCC: 0.983508\n",
      "\n",
      "Epoch 1/50\n",
      "\u001b[1m579/579\u001b[0m \u001b[32m━━━━━━━━━━━━━━━━━━━━\u001b[0m\u001b[37m\u001b[0m \u001b[1m65s\u001b[0m 109ms/step - loss: 0.3841 - val_loss: 0.0451 - learning_rate: 0.0100\n",
      "Epoch 2/50\n",
      "\u001b[1m579/579\u001b[0m \u001b[32m━━━━━━━━━━━━━━━━━━━━\u001b[0m\u001b[37m\u001b[0m \u001b[1m63s\u001b[0m 109ms/step - loss: 0.0468 - val_loss: 0.0422 - learning_rate: 0.0100\n",
      "Epoch 3/50\n",
      "\u001b[1m579/579\u001b[0m \u001b[32m━━━━━━━━━━━━━━━━━━━━\u001b[0m\u001b[37m\u001b[0m \u001b[1m82s\u001b[0m 109ms/step - loss: 0.0443 - val_loss: 0.0417 - learning_rate: 0.0100\n",
      "Epoch 4/50\n",
      "\u001b[1m579/579\u001b[0m \u001b[32m━━━━━━━━━━━━━━━━━━━━\u001b[0m\u001b[37m\u001b[0m \u001b[1m63s\u001b[0m 109ms/step - loss: 0.0436 - val_loss: 0.0419 - learning_rate: 0.0100\n",
      "Epoch 5/50\n",
      "\u001b[1m579/579\u001b[0m \u001b[32m━━━━━━━━━━━━━━━━━━━━\u001b[0m\u001b[37m\u001b[0m \u001b[1m63s\u001b[0m 109ms/step - loss: 0.0436 - val_loss: 0.0425 - learning_rate: 0.0100\n",
      "Epoch 6/50\n",
      "\u001b[1m579/579\u001b[0m \u001b[32m━━━━━━━━━━━━━━━━━━━━\u001b[0m\u001b[37m\u001b[0m \u001b[1m63s\u001b[0m 109ms/step - loss: 0.0444 - val_loss: 0.0426 - learning_rate: 0.0100\n",
      "Epoch 7/50\n",
      "\u001b[1m579/579\u001b[0m \u001b[32m━━━━━━━━━━━━━━━━━━━━\u001b[0m\u001b[37m\u001b[0m \u001b[1m63s\u001b[0m 109ms/step - loss: 0.0406 - val_loss: 0.0392 - learning_rate: 1.0000e-03\n",
      "Epoch 8/50\n",
      "\u001b[1m579/579\u001b[0m \u001b[32m━━━━━━━━━━━━━━━━━━━━\u001b[0m\u001b[37m\u001b[0m \u001b[1m63s\u001b[0m 108ms/step - loss: 0.0390 - val_loss: 0.0394 - learning_rate: 1.0000e-03\n",
      "Epoch 9/50\n",
      "\u001b[1m579/579\u001b[0m \u001b[32m━━━━━━━━━━━━━━━━━━━━\u001b[0m\u001b[37m\u001b[0m \u001b[1m63s\u001b[0m 108ms/step - loss: 0.0391 - val_loss: 0.0391 - learning_rate: 1.0000e-03\n",
      "Epoch 10/50\n",
      "\u001b[1m579/579\u001b[0m \u001b[32m━━━━━━━━━━━━━━━━━━━━\u001b[0m\u001b[37m\u001b[0m \u001b[1m63s\u001b[0m 108ms/step - loss: 0.0391 - val_loss: 0.0386 - learning_rate: 1.0000e-03\n",
      "Epoch 11/50\n",
      "\u001b[1m579/579\u001b[0m \u001b[32m━━━━━━━━━━━━━━━━━━━━\u001b[0m\u001b[37m\u001b[0m \u001b[1m82s\u001b[0m 108ms/step - loss: 0.0385 - val_loss: 0.0389 - learning_rate: 1.0000e-03\n",
      "Epoch 12/50\n",
      "\u001b[1m579/579\u001b[0m \u001b[32m━━━━━━━━━━━━━━━━━━━━\u001b[0m\u001b[37m\u001b[0m \u001b[1m82s\u001b[0m 109ms/step - loss: 0.0391 - val_loss: 0.0384 - learning_rate: 1.0000e-03\n",
      "Epoch 13/50\n",
      "\u001b[1m579/579\u001b[0m \u001b[32m━━━━━━━━━━━━━━━━━━━━\u001b[0m\u001b[37m\u001b[0m \u001b[1m63s\u001b[0m 109ms/step - loss: 0.0385 - val_loss: 0.0385 - learning_rate: 1.0000e-03\n",
      "Epoch 14/50\n",
      "\u001b[1m579/579\u001b[0m \u001b[32m━━━━━━━━━━━━━━━━━━━━\u001b[0m\u001b[37m\u001b[0m \u001b[1m82s\u001b[0m 109ms/step - loss: 0.0388 - val_loss: 0.0388 - learning_rate: 1.0000e-03\n",
      "Epoch 15/50\n",
      "\u001b[1m579/579\u001b[0m \u001b[32m━━━━━━━━━━━━━━━━━━━━\u001b[0m\u001b[37m\u001b[0m \u001b[1m63s\u001b[0m 109ms/step - loss: 0.0385 - val_loss: 0.0391 - learning_rate: 1.0000e-03\n",
      "Epoch 16/50\n",
      "\u001b[1m579/579\u001b[0m \u001b[32m━━━━━━━━━━━━━━━━━━━━\u001b[0m\u001b[37m\u001b[0m \u001b[1m64s\u001b[0m 110ms/step - loss: 0.0374 - val_loss: 0.0378 - learning_rate: 1.0000e-04\n",
      "Epoch 17/50\n",
      "\u001b[1m579/579\u001b[0m \u001b[32m━━━━━━━━━━━━━━━━━━━━\u001b[0m\u001b[37m\u001b[0m \u001b[1m64s\u001b[0m 110ms/step - loss: 0.0369 - val_loss: 0.0379 - learning_rate: 1.0000e-04\n",
      "Epoch 18/50\n",
      "\u001b[1m579/579\u001b[0m \u001b[32m━━━━━━━━━━━━━━━━━━━━\u001b[0m\u001b[37m\u001b[0m \u001b[1m64s\u001b[0m 109ms/step - loss: 0.0362 - val_loss: 0.0377 - learning_rate: 1.0000e-04\n",
      "Epoch 19/50\n",
      "\u001b[1m579/579\u001b[0m \u001b[32m━━━━━━━━━━━━━━━━━━━━\u001b[0m\u001b[37m\u001b[0m \u001b[1m82s\u001b[0m 109ms/step - loss: 0.0366 - val_loss: 0.0377 - learning_rate: 1.0000e-04\n",
      "Epoch 20/50\n",
      "\u001b[1m579/579\u001b[0m \u001b[32m━━━━━━━━━━━━━━━━━━━━\u001b[0m\u001b[37m\u001b[0m \u001b[1m64s\u001b[0m 110ms/step - loss: 0.0367 - val_loss: 0.0376 - learning_rate: 1.0000e-05\n",
      "Epoch 21/50\n",
      "\u001b[1m579/579\u001b[0m \u001b[32m━━━━━━━━━━━━━━━━━━━━\u001b[0m\u001b[37m\u001b[0m \u001b[1m64s\u001b[0m 110ms/step - loss: 0.0362 - val_loss: 0.0375 - learning_rate: 1.0000e-05\n",
      "Epoch 22/50\n",
      "\u001b[1m579/579\u001b[0m \u001b[32m━━━━━━━━━━━━━━━━━━━━\u001b[0m\u001b[37m\u001b[0m \u001b[1m64s\u001b[0m 111ms/step - loss: 0.0367 - val_loss: 0.0376 - learning_rate: 1.0000e-05\n",
      "Epoch 23/50\n",
      "\u001b[1m579/579\u001b[0m \u001b[32m━━━━━━━━━━━━━━━━━━━━\u001b[0m\u001b[37m\u001b[0m \u001b[1m70s\u001b[0m 121ms/step - loss: 0.0367 - val_loss: 0.0376 - learning_rate: 1.0000e-05\n",
      "Epoch 24/50\n",
      "\u001b[1m579/579\u001b[0m \u001b[32m━━━━━━━━━━━━━━━━━━━━\u001b[0m\u001b[37m\u001b[0m \u001b[1m65s\u001b[0m 111ms/step - loss: 0.0367 - val_loss: 0.0376 - learning_rate: 1.0000e-06\n",
      "Epoch 25/50\n",
      "\u001b[1m579/579\u001b[0m \u001b[32m━━━━━━━━━━━━━━━━━━━━\u001b[0m\u001b[37m\u001b[0m \u001b[1m63s\u001b[0m 109ms/step - loss: 0.0367 - val_loss: 0.0376 - learning_rate: 1.0000e-06\n",
      "Epoch 26/50\n",
      "\u001b[1m579/579\u001b[0m \u001b[32m━━━━━━━━━━━━━━━━━━━━\u001b[0m\u001b[37m\u001b[0m \u001b[1m64s\u001b[0m 111ms/step - loss: 0.0370 - val_loss: 0.0376 - learning_rate: 1.0000e-06\n",
      "\u001b[1m153/153\u001b[0m \u001b[32m━━━━━━━━━━━━━━━━━━━━\u001b[0m\u001b[37m\u001b[0m \u001b[1m5s\u001b[0m 32ms/step\n",
      "\u001b[1m508/508\u001b[0m \u001b[32m━━━━━━━━━━━━━━━━━━━━\u001b[0m\u001b[37m\u001b[0m \u001b[1m17s\u001b[0m 33ms/step\n",
      "\n",
      "--- Fold 2 - MCC: 0.984004\n",
      "\n",
      "Epoch 1/50\n",
      "\u001b[1m579/579\u001b[0m \u001b[32m━━━━━━━━━━━━━━━━━━━━\u001b[0m\u001b[37m\u001b[0m \u001b[1m66s\u001b[0m 112ms/step - loss: 0.4511 - val_loss: 0.0445 - learning_rate: 0.0100\n",
      "Epoch 2/50\n",
      "\u001b[1m579/579\u001b[0m \u001b[32m━━━━━━━━━━━━━━━━━━━━\u001b[0m\u001b[37m\u001b[0m \u001b[1m64s\u001b[0m 111ms/step - loss: 0.0455 - val_loss: 0.0424 - learning_rate: 0.0100\n",
      "Epoch 3/50\n",
      "\u001b[1m579/579\u001b[0m \u001b[32m━━━━━━━━━━━━━━━━━━━━\u001b[0m\u001b[37m\u001b[0m \u001b[1m64s\u001b[0m 111ms/step - loss: 0.0437 - val_loss: 0.0416 - learning_rate: 0.0100\n",
      "Epoch 4/50\n",
      "\u001b[1m579/579\u001b[0m \u001b[32m━━━━━━━━━━━━━━━━━━━━\u001b[0m\u001b[37m\u001b[0m \u001b[1m64s\u001b[0m 111ms/step - loss: 0.0430 - val_loss: 0.0435 - learning_rate: 0.0100\n",
      "Epoch 5/50\n",
      "\u001b[1m579/579\u001b[0m \u001b[32m━━━━━━━━━━━━━━━━━━━━\u001b[0m\u001b[37m\u001b[0m \u001b[1m63s\u001b[0m 109ms/step - loss: 0.0429 - val_loss: 0.0429 - learning_rate: 0.0100\n",
      "Epoch 6/50\n",
      "\u001b[1m579/579\u001b[0m \u001b[32m━━━━━━━━━━━━━━━━━━━━\u001b[0m\u001b[37m\u001b[0m \u001b[1m64s\u001b[0m 111ms/step - loss: 0.0435 - val_loss: 0.0431 - learning_rate: 0.0100\n",
      "Epoch 7/50\n",
      "\u001b[1m579/579\u001b[0m \u001b[32m━━━━━━━━━━━━━━━━━━━━\u001b[0m\u001b[37m\u001b[0m \u001b[1m82s\u001b[0m 111ms/step - loss: 0.0399 - val_loss: 0.0394 - learning_rate: 1.0000e-03\n",
      "Epoch 8/50\n",
      "\u001b[1m579/579\u001b[0m \u001b[32m━━━━━━━━━━━━━━━━━━━━\u001b[0m\u001b[37m\u001b[0m \u001b[1m64s\u001b[0m 111ms/step - loss: 0.0388 - val_loss: 0.0390 - learning_rate: 1.0000e-03\n",
      "Epoch 9/50\n",
      "\u001b[1m579/579\u001b[0m \u001b[32m━━━━━━━━━━━━━━━━━━━━\u001b[0m\u001b[37m\u001b[0m \u001b[1m64s\u001b[0m 111ms/step - loss: 0.0390 - val_loss: 0.0393 - learning_rate: 1.0000e-03\n",
      "Epoch 10/50\n",
      "\u001b[1m579/579\u001b[0m \u001b[32m━━━━━━━━━━━━━━━━━━━━\u001b[0m\u001b[37m\u001b[0m \u001b[1m64s\u001b[0m 111ms/step - loss: 0.0385 - val_loss: 0.0388 - learning_rate: 1.0000e-03\n",
      "Epoch 11/50\n",
      "\u001b[1m579/579\u001b[0m \u001b[32m━━━━━━━━━━━━━━━━━━━━\u001b[0m\u001b[37m\u001b[0m \u001b[1m82s\u001b[0m 110ms/step - loss: 0.0385 - val_loss: 0.0397 - learning_rate: 1.0000e-03\n",
      "Epoch 12/50\n",
      "\u001b[1m579/579\u001b[0m \u001b[32m━━━━━━━━━━━━━━━━━━━━\u001b[0m\u001b[37m\u001b[0m \u001b[1m64s\u001b[0m 110ms/step - loss: 0.0382 - val_loss: 0.0389 - learning_rate: 1.0000e-03\n",
      "Epoch 13/50\n",
      "\u001b[1m579/579\u001b[0m \u001b[32m━━━━━━━━━━━━━━━━━━━━\u001b[0m\u001b[37m\u001b[0m \u001b[1m63s\u001b[0m 108ms/step - loss: 0.0383 - val_loss: 0.0387 - learning_rate: 1.0000e-03\n",
      "Epoch 14/50\n",
      "\u001b[1m579/579\u001b[0m \u001b[32m━━━━━━━━━━━━━━━━━━━━\u001b[0m\u001b[37m\u001b[0m \u001b[1m64s\u001b[0m 111ms/step - loss: 0.0376 - val_loss: 0.0384 - learning_rate: 1.0000e-04\n",
      "Epoch 15/50\n",
      "\u001b[1m579/579\u001b[0m \u001b[32m━━━━━━━━━━━━━━━━━━━━\u001b[0m\u001b[37m\u001b[0m \u001b[1m64s\u001b[0m 111ms/step - loss: 0.0375 - val_loss: 0.0381 - learning_rate: 1.0000e-04\n",
      "Epoch 16/50\n",
      "\u001b[1m579/579\u001b[0m \u001b[32m━━━━━━━━━━━━━━━━━━━━\u001b[0m\u001b[37m\u001b[0m \u001b[1m84s\u001b[0m 114ms/step - loss: 0.0368 - val_loss: 0.0380 - learning_rate: 1.0000e-04\n",
      "Epoch 17/50\n",
      "\u001b[1m579/579\u001b[0m \u001b[32m━━━━━━━━━━━━━━━━━━━━\u001b[0m\u001b[37m\u001b[0m \u001b[1m65s\u001b[0m 111ms/step - loss: 0.0364 - val_loss: 0.0379 - learning_rate: 1.0000e-04\n",
      "Epoch 18/50\n",
      "\u001b[1m579/579\u001b[0m \u001b[32m━━━━━━━━━━━━━━━━━━━━\u001b[0m\u001b[37m\u001b[0m \u001b[1m82s\u001b[0m 111ms/step - loss: 0.0367 - val_loss: 0.0380 - learning_rate: 1.0000e-04\n",
      "Epoch 19/50\n",
      "\u001b[1m579/579\u001b[0m \u001b[32m━━━━━━━━━━━━━━━━━━━━\u001b[0m\u001b[37m\u001b[0m \u001b[1m64s\u001b[0m 111ms/step - loss: 0.0368 - val_loss: 0.0380 - learning_rate: 1.0000e-04\n",
      "Epoch 20/50\n",
      "\u001b[1m579/579\u001b[0m \u001b[32m━━━━━━━━━━━━━━━━━━━━\u001b[0m\u001b[37m\u001b[0m \u001b[1m64s\u001b[0m 111ms/step - loss: 0.0367 - val_loss: 0.0380 - learning_rate: 1.0000e-04\n",
      "Epoch 21/50\n",
      "\u001b[1m579/579\u001b[0m \u001b[32m━━━━━━━━━━━━━━━━━━━━\u001b[0m\u001b[37m\u001b[0m \u001b[1m63s\u001b[0m 108ms/step - loss: 0.0372 - val_loss: 0.0380 - learning_rate: 1.0000e-05\n",
      "Epoch 22/50\n",
      "\u001b[1m579/579\u001b[0m \u001b[32m━━━━━━━━━━━━━━━━━━━━\u001b[0m\u001b[37m\u001b[0m \u001b[1m64s\u001b[0m 111ms/step - loss: 0.0367 - val_loss: 0.0380 - learning_rate: 1.0000e-05\n",
      "\u001b[1m153/153\u001b[0m \u001b[32m━━━━━━━━━━━━━━━━━━━━\u001b[0m\u001b[37m\u001b[0m \u001b[1m5s\u001b[0m 32ms/step\n",
      "\u001b[1m508/508\u001b[0m \u001b[32m━━━━━━━━━━━━━━━━━━━━\u001b[0m\u001b[37m\u001b[0m \u001b[1m18s\u001b[0m 35ms/step\n",
      "\n",
      "--- Fold 3 - MCC: 0.983656\n",
      "\n",
      "Epoch 1/50\n",
      "\u001b[1m579/579\u001b[0m \u001b[32m━━━━━━━━━━━━━━━━━━━━\u001b[0m\u001b[37m\u001b[0m \u001b[1m66s\u001b[0m 112ms/step - loss: 0.3678 - val_loss: 0.0450 - learning_rate: 0.0100\n",
      "Epoch 2/50\n",
      "\u001b[1m579/579\u001b[0m \u001b[32m━━━━━━━━━━━━━━━━━━━━\u001b[0m\u001b[37m\u001b[0m \u001b[1m63s\u001b[0m 108ms/step - loss: 0.0461 - val_loss: 0.0423 - learning_rate: 0.0100\n",
      "Epoch 3/50\n",
      "\u001b[1m579/579\u001b[0m \u001b[32m━━━━━━━━━━━━━━━━━━━━\u001b[0m\u001b[37m\u001b[0m \u001b[1m65s\u001b[0m 111ms/step - loss: 0.0441 - val_loss: 0.0428 - learning_rate: 0.0100\n",
      "Epoch 4/50\n",
      "\u001b[1m579/579\u001b[0m \u001b[32m━━━━━━━━━━━━━━━━━━━━\u001b[0m\u001b[37m\u001b[0m \u001b[1m65s\u001b[0m 112ms/step - loss: 0.0430 - val_loss: 0.0419 - learning_rate: 0.0100\n",
      "Epoch 5/50\n",
      "\u001b[1m579/579\u001b[0m \u001b[32m━━━━━━━━━━━━━━━━━━━━\u001b[0m\u001b[37m\u001b[0m \u001b[1m64s\u001b[0m 111ms/step - loss: 0.0433 - val_loss: 0.0439 - learning_rate: 0.0100\n",
      "Epoch 6/50\n",
      "\u001b[1m579/579\u001b[0m \u001b[32m━━━━━━━━━━━━━━━━━━━━\u001b[0m\u001b[37m\u001b[0m \u001b[1m63s\u001b[0m 109ms/step - loss: 0.0443 - val_loss: 0.0456 - learning_rate: 0.0100\n",
      "Epoch 7/50\n",
      "\u001b[1m579/579\u001b[0m \u001b[32m━━━━━━━━━━━━━━━━━━━━\u001b[0m\u001b[37m\u001b[0m \u001b[1m62s\u001b[0m 108ms/step - loss: 0.0454 - val_loss: 0.0430 - learning_rate: 0.0100\n",
      "Epoch 8/50\n",
      "\u001b[1m579/579\u001b[0m \u001b[32m━━━━━━━━━━━━━━━━━━━━\u001b[0m\u001b[37m\u001b[0m \u001b[1m63s\u001b[0m 109ms/step - loss: 0.0410 - val_loss: 0.0409 - learning_rate: 1.0000e-03\n",
      "Epoch 9/50\n",
      "\u001b[1m579/579\u001b[0m \u001b[32m━━━━━━━━━━━━━━━━━━━━\u001b[0m\u001b[37m\u001b[0m \u001b[1m82s\u001b[0m 108ms/step - loss: 0.0389 - val_loss: 0.0399 - learning_rate: 1.0000e-03\n",
      "Epoch 10/50\n",
      "\u001b[1m579/579\u001b[0m \u001b[32m━━━━━━━━━━━━━━━━━━━━\u001b[0m\u001b[37m\u001b[0m \u001b[1m63s\u001b[0m 108ms/step - loss: 0.0390 - val_loss: 0.0400 - learning_rate: 1.0000e-03\n",
      "Epoch 11/50\n",
      "\u001b[1m579/579\u001b[0m \u001b[32m━━━━━━━━━━━━━━━━━━━━\u001b[0m\u001b[37m\u001b[0m \u001b[1m63s\u001b[0m 108ms/step - loss: 0.0390 - val_loss: 0.0400 - learning_rate: 1.0000e-03\n",
      "Epoch 12/50\n",
      "\u001b[1m579/579\u001b[0m \u001b[32m━━━━━━━━━━━━━━━━━━━━\u001b[0m\u001b[37m\u001b[0m \u001b[1m63s\u001b[0m 108ms/step - loss: 0.0387 - val_loss: 0.0400 - learning_rate: 1.0000e-03\n",
      "Epoch 13/50\n",
      "\u001b[1m579/579\u001b[0m \u001b[32m━━━━━━━━━━━━━━━━━━━━\u001b[0m\u001b[37m\u001b[0m \u001b[1m82s\u001b[0m 108ms/step - loss: 0.0380 - val_loss: 0.0395 - learning_rate: 1.0000e-04\n",
      "Epoch 14/50\n",
      "\u001b[1m579/579\u001b[0m \u001b[32m━━━━━━━━━━━━━━━━━━━━\u001b[0m\u001b[37m\u001b[0m \u001b[1m63s\u001b[0m 109ms/step - loss: 0.0375 - val_loss: 0.0392 - learning_rate: 1.0000e-04\n",
      "Epoch 15/50\n",
      "\u001b[1m579/579\u001b[0m \u001b[32m━━━━━━━━━━━━━━━━━━━━\u001b[0m\u001b[37m\u001b[0m \u001b[1m63s\u001b[0m 108ms/step - loss: 0.0373 - val_loss: 0.0393 - learning_rate: 1.0000e-04\n",
      "Epoch 16/50\n",
      "\u001b[1m579/579\u001b[0m \u001b[32m━━━━━━━━━━━━━━━━━━━━\u001b[0m\u001b[37m\u001b[0m \u001b[1m82s\u001b[0m 109ms/step - loss: 0.0369 - val_loss: 0.0393 - learning_rate: 1.0000e-04\n",
      "Epoch 17/50\n",
      "\u001b[1m579/579\u001b[0m \u001b[32m━━━━━━━━━━━━━━━━━━━━\u001b[0m\u001b[37m\u001b[0m \u001b[1m63s\u001b[0m 109ms/step - loss: 0.0371 - val_loss: 0.0391 - learning_rate: 1.0000e-04\n",
      "Epoch 18/50\n",
      "\u001b[1m579/579\u001b[0m \u001b[32m━━━━━━━━━━━━━━━━━━━━\u001b[0m\u001b[37m\u001b[0m \u001b[1m64s\u001b[0m 110ms/step - loss: 0.0376 - val_loss: 0.0393 - learning_rate: 1.0000e-04\n",
      "Epoch 19/50\n",
      "\u001b[1m579/579\u001b[0m \u001b[32m━━━━━━━━━━━━━━━━━━━━\u001b[0m\u001b[37m\u001b[0m \u001b[1m63s\u001b[0m 109ms/step - loss: 0.0372 - val_loss: 0.0391 - learning_rate: 1.0000e-04\n",
      "Epoch 20/50\n",
      "\u001b[1m579/579\u001b[0m \u001b[32m━━━━━━━━━━━━━━━━━━━━\u001b[0m\u001b[37m\u001b[0m \u001b[1m65s\u001b[0m 112ms/step - loss: 0.0368 - val_loss: 0.0391 - learning_rate: 1.0000e-04\n",
      "Epoch 21/50\n",
      "\u001b[1m579/579\u001b[0m \u001b[32m━━━━━━━━━━━━━━━━━━━━\u001b[0m\u001b[37m\u001b[0m \u001b[1m63s\u001b[0m 109ms/step - loss: 0.0372 - val_loss: 0.0391 - learning_rate: 1.0000e-05\n",
      "Epoch 22/50\n",
      "\u001b[1m579/579\u001b[0m \u001b[32m━━━━━━━━━━━━━━━━━━━━\u001b[0m\u001b[37m\u001b[0m \u001b[1m82s\u001b[0m 109ms/step - loss: 0.0370 - val_loss: 0.0390 - learning_rate: 1.0000e-05\n",
      "Epoch 23/50\n",
      "\u001b[1m579/579\u001b[0m \u001b[32m━━━━━━━━━━━━━━━━━━━━\u001b[0m\u001b[37m\u001b[0m \u001b[1m83s\u001b[0m 111ms/step - loss: 0.0372 - val_loss: 0.0391 - learning_rate: 1.0000e-05\n",
      "Epoch 24/50\n",
      "\u001b[1m579/579\u001b[0m \u001b[32m━━━━━━━━━━━━━━━━━━━━\u001b[0m\u001b[37m\u001b[0m \u001b[1m63s\u001b[0m 109ms/step - loss: 0.0369 - val_loss: 0.0390 - learning_rate: 1.0000e-06\n",
      "Epoch 25/50\n",
      "\u001b[1m579/579\u001b[0m \u001b[32m━━━━━━━━━━━━━━━━━━━━\u001b[0m\u001b[37m\u001b[0m \u001b[1m63s\u001b[0m 109ms/step - loss: 0.0371 - val_loss: 0.0390 - learning_rate: 1.0000e-06\n",
      "Epoch 26/50\n",
      "\u001b[1m579/579\u001b[0m \u001b[32m━━━━━━━━━━━━━━━━━━━━\u001b[0m\u001b[37m\u001b[0m \u001b[1m63s\u001b[0m 109ms/step - loss: 0.0368 - val_loss: 0.0390 - learning_rate: 1.0000e-06\n",
      "Epoch 27/50\n",
      "\u001b[1m579/579\u001b[0m \u001b[32m━━━━━━━━━━━━━━━━━━━━\u001b[0m\u001b[37m\u001b[0m \u001b[1m65s\u001b[0m 113ms/step - loss: 0.0372 - val_loss: 0.0390 - learning_rate: 1.0000e-07\n",
      "\u001b[1m153/153\u001b[0m \u001b[32m━━━━━━━━━━━━━━━━━━━━\u001b[0m\u001b[37m\u001b[0m \u001b[1m5s\u001b[0m 32ms/step\n",
      "\u001b[1m508/508\u001b[0m \u001b[32m━━━━━━━━━━━━━━━━━━━━\u001b[0m\u001b[37m\u001b[0m \u001b[1m16s\u001b[0m 32ms/step\n",
      "\n",
      "--- Fold 4 - MCC: 0.983610\n",
      "\n",
      "Epoch 1/50\n",
      "\u001b[1m579/579\u001b[0m \u001b[32m━━━━━━━━━━━━━━━━━━━━\u001b[0m\u001b[37m\u001b[0m \u001b[1m65s\u001b[0m 110ms/step - loss: 0.3681 - val_loss: 0.0470 - learning_rate: 0.0100\n",
      "Epoch 2/50\n",
      "\u001b[1m579/579\u001b[0m \u001b[32m━━━━━━━━━━━━━━━━━━━━\u001b[0m\u001b[37m\u001b[0m \u001b[1m63s\u001b[0m 108ms/step - loss: 0.0466 - val_loss: 0.0415 - learning_rate: 0.0100\n",
      "Epoch 3/50\n",
      "\u001b[1m579/579\u001b[0m \u001b[32m━━━━━━━━━━━━━━━━━━━━\u001b[0m\u001b[37m\u001b[0m \u001b[1m63s\u001b[0m 108ms/step - loss: 0.0441 - val_loss: 0.0402 - learning_rate: 0.0100\n",
      "Epoch 4/50\n",
      "\u001b[1m579/579\u001b[0m \u001b[32m━━━━━━━━━━━━━━━━━━━━\u001b[0m\u001b[37m\u001b[0m \u001b[1m82s\u001b[0m 108ms/step - loss: 0.0430 - val_loss: 0.0429 - learning_rate: 0.0100\n",
      "Epoch 5/50\n",
      "\u001b[1m579/579\u001b[0m \u001b[32m━━━━━━━━━━━━━━━━━━━━\u001b[0m\u001b[37m\u001b[0m \u001b[1m62s\u001b[0m 107ms/step - loss: 0.0443 - val_loss: 0.0427 - learning_rate: 0.0100\n",
      "Epoch 6/50\n",
      "\u001b[1m579/579\u001b[0m \u001b[32m━━━━━━━━━━━━━━━━━━━━\u001b[0m\u001b[37m\u001b[0m \u001b[1m64s\u001b[0m 111ms/step - loss: 0.0445 - val_loss: 0.0419 - learning_rate: 0.0100\n",
      "Epoch 7/50\n",
      "\u001b[1m579/579\u001b[0m \u001b[32m━━━━━━━━━━━━━━━━━━━━\u001b[0m\u001b[37m\u001b[0m \u001b[1m63s\u001b[0m 109ms/step - loss: 0.0404 - val_loss: 0.0382 - learning_rate: 1.0000e-03\n",
      "Epoch 8/50\n",
      "\u001b[1m579/579\u001b[0m \u001b[32m━━━━━━━━━━━━━━━━━━━━\u001b[0m\u001b[37m\u001b[0m \u001b[1m63s\u001b[0m 109ms/step - loss: 0.0395 - val_loss: 0.0383 - learning_rate: 1.0000e-03\n",
      "Epoch 9/50\n",
      "\u001b[1m579/579\u001b[0m \u001b[32m━━━━━━━━━━━━━━━━━━━━\u001b[0m\u001b[37m\u001b[0m \u001b[1m63s\u001b[0m 109ms/step - loss: 0.0385 - val_loss: 0.0376 - learning_rate: 1.0000e-03\n",
      "Epoch 10/50\n",
      "\u001b[1m579/579\u001b[0m \u001b[32m━━━━━━━━━━━━━━━━━━━━\u001b[0m\u001b[37m\u001b[0m \u001b[1m62s\u001b[0m 106ms/step - loss: 0.0389 - val_loss: 0.0382 - learning_rate: 1.0000e-03\n",
      "Epoch 11/50\n",
      "\u001b[1m579/579\u001b[0m \u001b[32m━━━━━━━━━━━━━━━━━━━━\u001b[0m\u001b[37m\u001b[0m \u001b[1m62s\u001b[0m 107ms/step - loss: 0.0391 - val_loss: 0.0382 - learning_rate: 1.0000e-03\n",
      "Epoch 12/50\n",
      "\u001b[1m579/579\u001b[0m \u001b[32m━━━━━━━━━━━━━━━━━━━━\u001b[0m\u001b[37m\u001b[0m \u001b[1m63s\u001b[0m 109ms/step - loss: 0.0386 - val_loss: 0.0376 - learning_rate: 1.0000e-03\n",
      "Epoch 13/50\n",
      "\u001b[1m579/579\u001b[0m \u001b[32m━━━━━━━━━━━━━━━━━━━━\u001b[0m\u001b[37m\u001b[0m \u001b[1m63s\u001b[0m 109ms/step - loss: 0.0380 - val_loss: 0.0371 - learning_rate: 1.0000e-04\n",
      "Epoch 14/50\n",
      "\u001b[1m579/579\u001b[0m \u001b[32m━━━━━━━━━━━━━━━━━━━━\u001b[0m\u001b[37m\u001b[0m \u001b[1m64s\u001b[0m 111ms/step - loss: 0.0375 - val_loss: 0.0370 - learning_rate: 1.0000e-04\n",
      "Epoch 15/50\n",
      "\u001b[1m579/579\u001b[0m \u001b[32m━━━━━━━━━━━━━━━━━━━━\u001b[0m\u001b[37m\u001b[0m \u001b[1m81s\u001b[0m 109ms/step - loss: 0.0370 - val_loss: 0.0370 - learning_rate: 1.0000e-04\n",
      "Epoch 16/50\n",
      "\u001b[1m579/579\u001b[0m \u001b[32m━━━━━━━━━━━━━━━━━━━━\u001b[0m\u001b[37m\u001b[0m \u001b[1m64s\u001b[0m 109ms/step - loss: 0.0371 - val_loss: 0.0369 - learning_rate: 1.0000e-04\n",
      "Epoch 17/50\n",
      "\u001b[1m579/579\u001b[0m \u001b[32m━━━━━━━━━━━━━━━━━━━━\u001b[0m\u001b[37m\u001b[0m \u001b[1m64s\u001b[0m 109ms/step - loss: 0.0373 - val_loss: 0.0370 - learning_rate: 1.0000e-04\n",
      "Epoch 18/50\n",
      "\u001b[1m579/579\u001b[0m \u001b[32m━━━━━━━━━━━━━━━━━━━━\u001b[0m\u001b[37m\u001b[0m \u001b[1m82s\u001b[0m 110ms/step - loss: 0.0367 - val_loss: 0.0368 - learning_rate: 1.0000e-04\n",
      "Epoch 19/50\n",
      "\u001b[1m579/579\u001b[0m \u001b[32m━━━━━━━━━━━━━━━━━━━━\u001b[0m\u001b[37m\u001b[0m \u001b[1m64s\u001b[0m 110ms/step - loss: 0.0370 - val_loss: 0.0369 - learning_rate: 1.0000e-04\n",
      "Epoch 20/50\n",
      "\u001b[1m579/579\u001b[0m \u001b[32m━━━━━━━━━━━━━━━━━━━━\u001b[0m\u001b[37m\u001b[0m \u001b[1m64s\u001b[0m 110ms/step - loss: 0.0370 - val_loss: 0.0369 - learning_rate: 1.0000e-05\n",
      "Epoch 21/50\n",
      "\u001b[1m579/579\u001b[0m \u001b[32m━━━━━━━━━━━━━━━━━━━━\u001b[0m\u001b[37m\u001b[0m \u001b[1m64s\u001b[0m 111ms/step - loss: 0.0365 - val_loss: 0.0368 - learning_rate: 1.0000e-05\n",
      "Epoch 22/50\n",
      "\u001b[1m579/579\u001b[0m \u001b[32m━━━━━━━━━━━━━━━━━━━━\u001b[0m\u001b[37m\u001b[0m \u001b[1m64s\u001b[0m 110ms/step - loss: 0.0367 - val_loss: 0.0368 - learning_rate: 1.0000e-05\n",
      "Epoch 23/50\n",
      "\u001b[1m579/579\u001b[0m \u001b[32m━━━━━━━━━━━━━━━━━━━━\u001b[0m\u001b[37m\u001b[0m \u001b[1m82s\u001b[0m 110ms/step - loss: 0.0366 - val_loss: 0.0368 - learning_rate: 1.0000e-06\n",
      "Epoch 24/50\n",
      "\u001b[1m579/579\u001b[0m \u001b[32m━━━━━━━━━━━━━━━━━━━━\u001b[0m\u001b[37m\u001b[0m \u001b[1m64s\u001b[0m 110ms/step - loss: 0.0372 - val_loss: 0.0369 - learning_rate: 1.0000e-06\n",
      "Epoch 25/50\n",
      "\u001b[1m579/579\u001b[0m \u001b[32m━━━━━━━━━━━━━━━━━━━━\u001b[0m\u001b[37m\u001b[0m \u001b[1m65s\u001b[0m 111ms/step - loss: 0.0367 - val_loss: 0.0369 - learning_rate: 1.0000e-06\n",
      "Epoch 26/50\n",
      "\u001b[1m579/579\u001b[0m \u001b[32m━━━━━━━━━━━━━━━━━━━━\u001b[0m\u001b[37m\u001b[0m \u001b[1m62s\u001b[0m 107ms/step - loss: 0.0369 - val_loss: 0.0369 - learning_rate: 1.0000e-07\n",
      "\u001b[1m153/153\u001b[0m \u001b[32m━━━━━━━━━━━━━━━━━━━━\u001b[0m\u001b[37m\u001b[0m \u001b[1m5s\u001b[0m 32ms/step\n",
      "\u001b[1m508/508\u001b[0m \u001b[32m━━━━━━━━━━━━━━━━━━━━\u001b[0m\u001b[37m\u001b[0m \u001b[1m16s\u001b[0m 32ms/step\n",
      "\n",
      "--- Fold 5 - MCC: 0.983605\n",
      "\n",
      "\n",
      "------ Average MCC: 0.983677 ± 0.000171\n"
     ]
    }
   ],
   "source": [
    "trainer = Trainer(model)\n",
    "trainer.fit_predict(X, y, X_test)"
   ]
  }
 ],
 "metadata": {
  "kaggle": {
   "accelerator": "none",
   "dataSources": [
    {
     "databundleVersionId": 9045607,
     "sourceId": 76727,
     "sourceType": "competition"
    }
   ],
   "isGpuEnabled": false,
   "isInternetEnabled": true,
   "language": "python",
   "sourceType": "notebook"
  },
  "kernelspec": {
   "display_name": "Python 3",
   "language": "python",
   "name": "python3"
  },
  "language_info": {
   "codemirror_mode": {
    "name": "ipython",
    "version": 3
   },
   "file_extension": ".py",
   "mimetype": "text/x-python",
   "name": "python",
   "nbconvert_exporter": "python",
   "pygments_lexer": "ipython3",
   "version": "3.10.13"
  },
  "papermill": {
   "default_parameters": {},
   "duration": 8812.101246,
   "end_time": "2024-08-05T15:44:47.927404",
   "environment_variables": {},
   "exception": null,
   "input_path": "__notebook__.ipynb",
   "output_path": "__notebook__.ipynb",
   "parameters": {},
   "start_time": "2024-08-05T13:17:55.826158",
   "version": "2.5.0"
  }
 },
 "nbformat": 4,
 "nbformat_minor": 5
}
