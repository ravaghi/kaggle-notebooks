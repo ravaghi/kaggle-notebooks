{
 "cells": [
  {
   "cell_type": "markdown",
   "id": "ff3b67ea",
   "metadata": {
    "papermill": {
     "duration": 0.005851,
     "end_time": "2024-08-05T09:20:19.493784",
     "exception": false,
     "start_time": "2024-08-05T09:20:19.487933",
     "status": "completed"
    },
    "tags": []
   },
   "source": [
    "# Imports and Configs"
   ]
  },
  {
   "cell_type": "code",
   "execution_count": 1,
   "id": "29dbab0a",
   "metadata": {
    "_kg_hide-output": true,
    "execution": {
     "iopub.execute_input": "2024-08-05T09:20:19.506594Z",
     "iopub.status.busy": "2024-08-05T09:20:19.506062Z",
     "iopub.status.idle": "2024-08-05T09:20:43.608829Z",
     "shell.execute_reply": "2024-08-05T09:20:43.606973Z"
    },
    "papermill": {
     "duration": 24.112905,
     "end_time": "2024-08-05T09:20:43.612276",
     "exception": false,
     "start_time": "2024-08-05T09:20:19.499371",
     "status": "completed"
    },
    "tags": []
   },
   "outputs": [
    {
     "name": "stdout",
     "output_type": "stream",
     "text": [
      "\u001b[31mERROR: pip's dependency resolver does not currently take into account all the packages that are installed. This behaviour is the source of the following dependency conflicts.\r\n",
      "spaghetti 1.7.6 requires shapely>=2.0.1, but you have shapely 1.8.5.post1 which is incompatible.\r\n",
      "spopt 0.6.1 requires shapely>=2.0.1, but you have shapely 1.8.5.post1 which is incompatible.\u001b[0m\u001b[31m\r\n",
      "\u001b[0m"
     ]
    }
   ],
   "source": [
    "!pip install -q scikit-learn==1.4\n",
    "!pip install -q --no-deps scikeras"
   ]
  },
  {
   "cell_type": "code",
   "execution_count": 2,
   "id": "f156819b",
   "metadata": {
    "_cell_guid": "b1076dfc-b9ad-4769-8c92-a6c4dae69d19",
    "_kg_hide-output": true,
    "_uuid": "8f2839f25d086af736a60e9eeb907d3b93b6e0e5",
    "execution": {
     "iopub.execute_input": "2024-08-05T09:20:43.626148Z",
     "iopub.status.busy": "2024-08-05T09:20:43.625727Z",
     "iopub.status.idle": "2024-08-05T09:21:01.158518Z",
     "shell.execute_reply": "2024-08-05T09:21:01.156941Z"
    },
    "papermill": {
     "duration": 17.543174,
     "end_time": "2024-08-05T09:21:01.161409",
     "exception": false,
     "start_time": "2024-08-05T09:20:43.618235",
     "status": "completed"
    },
    "tags": []
   },
   "outputs": [
    {
     "name": "stderr",
     "output_type": "stream",
     "text": [
      "2024-08-05 09:20:46.252130: E external/local_xla/xla/stream_executor/cuda/cuda_dnn.cc:9261] Unable to register cuDNN factory: Attempting to register factory for plugin cuDNN when one has already been registered\n",
      "2024-08-05 09:20:46.252308: E external/local_xla/xla/stream_executor/cuda/cuda_fft.cc:607] Unable to register cuFFT factory: Attempting to register factory for plugin cuFFT when one has already been registered\n",
      "2024-08-05 09:20:46.469143: E external/local_xla/xla/stream_executor/cuda/cuda_blas.cc:1515] Unable to register cuBLAS factory: Attempting to register factory for plugin cuBLAS when one has already been registered\n"
     ]
    }
   ],
   "source": [
    "from scikeras.wrappers import KerasClassifier\n",
    "from sklearn.model_selection import StratifiedKFold\n",
    "from sklearn.preprocessing import OneHotEncoder\n",
    "from sklearn.impute import SimpleImputer\n",
    "from sklearn.preprocessing import StandardScaler\n",
    "from sklearn.compose import ColumnTransformer\n",
    "from sklearn.preprocessing import PowerTransformer\n",
    "from sklearn.pipeline import make_pipeline\n",
    "from sklearn.metrics import matthews_corrcoef\n",
    "from sklearn.base import clone\n",
    "import matplotlib.pyplot as plt\n",
    "import seaborn as sns\n",
    "import pandas as pd\n",
    "import numpy as np\n",
    "import warnings\n",
    "import pickle\n",
    "import keras\n",
    "import gc\n",
    "\n",
    "warnings.filterwarnings('ignore')"
   ]
  },
  {
   "cell_type": "code",
   "execution_count": 3,
   "id": "017f9025",
   "metadata": {
    "execution": {
     "iopub.execute_input": "2024-08-05T09:21:01.175957Z",
     "iopub.status.busy": "2024-08-05T09:21:01.175199Z",
     "iopub.status.idle": "2024-08-05T09:21:01.180892Z",
     "shell.execute_reply": "2024-08-05T09:21:01.179643Z"
    },
    "papermill": {
     "duration": 0.015553,
     "end_time": "2024-08-05T09:21:01.183260",
     "exception": false,
     "start_time": "2024-08-05T09:21:01.167707",
     "status": "completed"
    },
    "tags": []
   },
   "outputs": [],
   "source": [
    "TARGET = 'class'\n",
    "N_FOLDS = 5\n",
    "SEED = 6"
   ]
  },
  {
   "cell_type": "markdown",
   "id": "17f8d360",
   "metadata": {
    "papermill": {
     "duration": 0.005623,
     "end_time": "2024-08-05T09:21:01.194681",
     "exception": false,
     "start_time": "2024-08-05T09:21:01.189058",
     "status": "completed"
    },
    "tags": []
   },
   "source": [
    "# Loading Data"
   ]
  },
  {
   "cell_type": "code",
   "execution_count": 4,
   "id": "7066c525",
   "metadata": {
    "execution": {
     "iopub.execute_input": "2024-08-05T09:21:01.208620Z",
     "iopub.status.busy": "2024-08-05T09:21:01.207406Z",
     "iopub.status.idle": "2024-08-05T09:21:19.628807Z",
     "shell.execute_reply": "2024-08-05T09:21:19.627763Z"
    },
    "papermill": {
     "duration": 18.431673,
     "end_time": "2024-08-05T09:21:19.632000",
     "exception": false,
     "start_time": "2024-08-05T09:21:01.200327",
     "status": "completed"
    },
    "tags": []
   },
   "outputs": [],
   "source": [
    "train = pd.read_csv('/kaggle/input/playground-series-s4e8/train.csv', index_col='id')\n",
    "test = pd.read_csv('/kaggle/input/playground-series-s4e8/test.csv', index_col='id')"
   ]
  },
  {
   "cell_type": "code",
   "execution_count": 5,
   "id": "0b9acc6a",
   "metadata": {
    "execution": {
     "iopub.execute_input": "2024-08-05T09:21:19.646668Z",
     "iopub.status.busy": "2024-08-05T09:21:19.645856Z",
     "iopub.status.idle": "2024-08-05T09:21:19.654323Z",
     "shell.execute_reply": "2024-08-05T09:21:19.653311Z"
    },
    "papermill": {
     "duration": 0.018665,
     "end_time": "2024-08-05T09:21:19.656753",
     "exception": false,
     "start_time": "2024-08-05T09:21:19.638088",
     "status": "completed"
    },
    "tags": []
   },
   "outputs": [
    {
     "data": {
      "text/plain": [
       "((3116945, 21), (2077964, 20))"
      ]
     },
     "execution_count": 5,
     "metadata": {},
     "output_type": "execute_result"
    }
   ],
   "source": [
    "train.shape, test.shape"
   ]
  },
  {
   "cell_type": "code",
   "execution_count": 6,
   "id": "73201fe4",
   "metadata": {
    "execution": {
     "iopub.execute_input": "2024-08-05T09:21:19.671569Z",
     "iopub.status.busy": "2024-08-05T09:21:19.670355Z",
     "iopub.status.idle": "2024-08-05T09:21:36.041060Z",
     "shell.execute_reply": "2024-08-05T09:21:36.039918Z"
    },
    "papermill": {
     "duration": 16.381066,
     "end_time": "2024-08-05T09:21:36.043994",
     "exception": false,
     "start_time": "2024-08-05T09:21:19.662928",
     "status": "completed"
    },
    "tags": []
   },
   "outputs": [
    {
     "data": {
      "image/png": "[encoded data removed]",
      "text/plain": [
       "<Figure size 1400x500 with 2 Axes>"
      ]
     },
     "metadata": {},
     "output_type": "display_data"
    }
   ],
   "source": [
    "cmap = sns.light_palette('#651FFF', as_cmap=True)\n",
    "\n",
    "train_null_values = train.sample(100_000).drop(columns=TARGET).isnull().T\n",
    "test_null_values = test.sample(100_000).isnull().T\n",
    "\n",
    "fig, axes = plt.subplots(nrows=1, ncols=2, figsize=(14, 5))\n",
    "\n",
    "sns.heatmap(train_null_values, cbar=False, cmap=cmap, ax=axes[0])\n",
    "axes[0].set_title('Train')\n",
    "axes[0].set_xticks([]) \n",
    "axes[0].set_xlabel('')\n",
    "\n",
    "sns.heatmap(test_null_values, cbar=False, cmap=cmap, ax=axes[1])\n",
    "axes[1].set_title('Test')\n",
    "axes[1].set_xticks([]) \n",
    "axes[1].set_xlabel('')\n",
    "\n",
    "plt.tight_layout()\n",
    "plt.show()"
   ]
  },
  {
   "cell_type": "markdown",
   "id": "39ef65c8",
   "metadata": {
    "papermill": {
     "duration": 0.006811,
     "end_time": "2024-08-05T09:21:36.058118",
     "exception": false,
     "start_time": "2024-08-05T09:21:36.051307",
     "status": "completed"
    },
    "tags": []
   },
   "source": [
    "# Feature Engineering"
   ]
  },
  {
   "cell_type": "code",
   "execution_count": 7,
   "id": "4908bc86",
   "metadata": {
    "execution": {
     "iopub.execute_input": "2024-08-05T09:21:36.073835Z",
     "iopub.status.busy": "2024-08-05T09:21:36.073399Z",
     "iopub.status.idle": "2024-08-05T09:21:36.532509Z",
     "shell.execute_reply": "2024-08-05T09:21:36.531453Z"
    },
    "papermill": {
     "duration": 0.470098,
     "end_time": "2024-08-05T09:21:36.535201",
     "exception": false,
     "start_time": "2024-08-05T09:21:36.065103",
     "status": "completed"
    },
    "tags": []
   },
   "outputs": [],
   "source": [
    "cat_features = test.select_dtypes('object').columns\n",
    "cont_features = test.select_dtypes('float').columns"
   ]
  },
  {
   "cell_type": "code",
   "execution_count": 8,
   "id": "7017e087",
   "metadata": {
    "execution": {
     "iopub.execute_input": "2024-08-05T09:21:36.553234Z",
     "iopub.status.busy": "2024-08-05T09:21:36.552835Z",
     "iopub.status.idle": "2024-08-05T09:21:53.158747Z",
     "shell.execute_reply": "2024-08-05T09:21:53.157616Z"
    },
    "papermill": {
     "duration": 16.617435,
     "end_time": "2024-08-05T09:21:53.161430",
     "exception": false,
     "start_time": "2024-08-05T09:21:36.543995",
     "status": "completed"
    },
    "tags": []
   },
   "outputs": [],
   "source": [
    "for feature in cat_features:    \n",
    "    for df in [train, test]:\n",
    "        df.loc[df[feature].value_counts(dropna=False)[df[feature]].values < 100, feature] = 'rare'"
   ]
  },
  {
   "cell_type": "code",
   "execution_count": 9,
   "id": "b65dd7ab",
   "metadata": {
    "execution": {
     "iopub.execute_input": "2024-08-05T09:21:53.177741Z",
     "iopub.status.busy": "2024-08-05T09:21:53.177307Z",
     "iopub.status.idle": "2024-08-05T09:21:53.184574Z",
     "shell.execute_reply": "2024-08-05T09:21:53.183452Z"
    },
    "papermill": {
     "duration": 0.018448,
     "end_time": "2024-08-05T09:21:53.187110",
     "exception": false,
     "start_time": "2024-08-05T09:21:53.168662",
     "status": "completed"
    },
    "tags": []
   },
   "outputs": [],
   "source": [
    "one_hot_encoder = OneHotEncoder(drop='first', sparse_output=False, dtype=np.float32, handle_unknown='infrequent_if_exist', min_frequency=50)\n",
    "step_1 = ('imputer', make_pipeline(PowerTransformer(), SimpleImputer(add_indicator=True)), cont_features)\n",
    "step_2 = ('one-hot-encoder', one_hot_encoder, cat_features)\n",
    "steps = [step_1, step_2]\n",
    "transformer = ColumnTransformer(steps, remainder='passthrough')\n",
    "\n",
    "pipeline = make_pipeline(transformer, StandardScaler())"
   ]
  },
  {
   "cell_type": "code",
   "execution_count": 10,
   "id": "579d7789",
   "metadata": {
    "execution": {
     "iopub.execute_input": "2024-08-05T09:21:53.204083Z",
     "iopub.status.busy": "2024-08-05T09:21:53.203309Z",
     "iopub.status.idle": "2024-08-05T09:21:54.006405Z",
     "shell.execute_reply": "2024-08-05T09:21:54.005261Z"
    },
    "papermill": {
     "duration": 0.814752,
     "end_time": "2024-08-05T09:21:54.009322",
     "exception": false,
     "start_time": "2024-08-05T09:21:53.194570",
     "status": "completed"
    },
    "tags": []
   },
   "outputs": [],
   "source": [
    "X = train.drop([TARGET], axis=1)\n",
    "y = train[TARGET].map({'e': 0, 'p': 1})\n",
    "X_test = test"
   ]
  },
  {
   "cell_type": "code",
   "execution_count": 11,
   "id": "828f7bc1",
   "metadata": {
    "execution": {
     "iopub.execute_input": "2024-08-05T09:21:54.026866Z",
     "iopub.status.busy": "2024-08-05T09:21:54.025597Z",
     "iopub.status.idle": "2024-08-05T09:24:36.740155Z",
     "shell.execute_reply": "2024-08-05T09:24:36.738864Z"
    },
    "papermill": {
     "duration": 162.726262,
     "end_time": "2024-08-05T09:24:36.743079",
     "exception": false,
     "start_time": "2024-08-05T09:21:54.016817",
     "status": "completed"
    },
    "tags": []
   },
   "outputs": [],
   "source": [
    "X = pipeline.fit_transform(X)\n",
    "X_test = pipeline.transform(X_test)"
   ]
  },
  {
   "cell_type": "markdown",
   "id": "11197c50",
   "metadata": {
    "papermill": {
     "duration": 0.006811,
     "end_time": "2024-08-05T09:24:36.757452",
     "exception": false,
     "start_time": "2024-08-05T09:24:36.750641",
     "status": "completed"
    },
    "tags": []
   },
   "source": [
    "# Training"
   ]
  },
  {
   "cell_type": "code",
   "execution_count": 12,
   "id": "e8222afe",
   "metadata": {
    "execution": {
     "iopub.execute_input": "2024-08-05T09:24:36.774115Z",
     "iopub.status.busy": "2024-08-05T09:24:36.773014Z",
     "iopub.status.idle": "2024-08-05T09:24:36.790556Z",
     "shell.execute_reply": "2024-08-05T09:24:36.789458Z"
    },
    "papermill": {
     "duration": 0.028446,
     "end_time": "2024-08-05T09:24:36.793038",
     "exception": false,
     "start_time": "2024-08-05T09:24:36.764592",
     "status": "completed"
    },
    "tags": []
   },
   "outputs": [],
   "source": [
    "class Trainer:\n",
    "    def __init__(self, model, n_folds=N_FOLDS):\n",
    "        self.model = model\n",
    "        self.n_folds = n_folds\n",
    "\n",
    "    def fit_predict(self, X, y, X_test):\n",
    "        print(f'Training {self.model.__class__.__name__}\\n')\n",
    "        \n",
    "        scores = []        \n",
    "        oof_pred_probs = np.zeros((X.shape[0], len(np.unique(y))))\n",
    "        test_pred_probs = np.zeros((X_test.shape[0], len(np.unique(y))))\n",
    "        \n",
    "        skf = StratifiedKFold(n_splits=self.n_folds, random_state=SEED, shuffle=True)\n",
    "        for fold_idx, (train_idx, val_idx) in enumerate(skf.split(X, y)):\n",
    "            X_train, X_val = X[train_idx], X[val_idx]\n",
    "            y_train, y_val = y[train_idx], y[val_idx]\n",
    "            \n",
    "            model = clone(self.model)\n",
    "            model.fit(X_train, y_train)\n",
    "            \n",
    "            y_pred_probs = model.predict_proba(X_val)\n",
    "            oof_pred_probs[val_idx] = y_pred_probs            \n",
    "            \n",
    "            score = matthews_corrcoef(y_val, np.argmax(y_pred_probs, axis=1))\n",
    "            scores.append(score)\n",
    "            \n",
    "            temp_test_pred_probs = model.predict_proba(X_test)\n",
    "            test_pred_probs += temp_test_pred_probs / self.n_folds\n",
    "            \n",
    "            del model, X_train, y_train, X_val, y_val, y_pred_probs, temp_test_pred_probs\n",
    "            gc.collect()\n",
    "            \n",
    "            print(f'\\n--- Fold {fold_idx + 1} - MCC: {score:.6f}\\n')            \n",
    "            \n",
    "        self._save_pred_probs(oof_pred_probs, np.mean(scores), 'oof')\n",
    "        self._save_pred_probs(test_pred_probs, np.mean(scores), 'test')\n",
    "        self._save_submission(test_pred_probs, np.mean(scores))\n",
    "        print(f'\\n\\n------ Average MCC: {np.mean(scores):.6f} ± {np.std(scores):.6f}')\n",
    "        \n",
    "    def _save_pred_probs(self, pred_probs, cv_score, name):\n",
    "        model_name = self.model.__class__.__name__.lower().replace('classifier', '')\n",
    "        with open(f'{model_name}_{name}_pred_probs_{cv_score:.6f}.pkl', 'wb') as f:\n",
    "            pickle.dump(pred_probs, f)\n",
    "    \n",
    "    def _save_submission(self, test_pred_probs, score):\n",
    "        name = self.model.__class__.__name__.lower().replace('classifier', '')\n",
    "        sub = pd.read_csv('/kaggle/input/playground-series-s4e8/sample_submission.csv')\n",
    "        sub[TARGET] = np.argmax(test_pred_probs, axis=1)\n",
    "        sub[TARGET] = sub[TARGET].map({0: 'e', 1: 'p'})\n",
    "        sub.to_csv(f'sub_{name}_{score:.6f}.csv', index=False)"
   ]
  },
  {
   "cell_type": "code",
   "execution_count": 13,
   "id": "ec8f667e",
   "metadata": {
    "execution": {
     "iopub.execute_input": "2024-08-05T09:24:36.809563Z",
     "iopub.status.busy": "2024-08-05T09:24:36.808884Z",
     "iopub.status.idle": "2024-08-05T09:24:36.853967Z",
     "shell.execute_reply": "2024-08-05T09:24:36.852541Z"
    },
    "papermill": {
     "duration": 0.056303,
     "end_time": "2024-08-05T09:24:36.856772",
     "exception": false,
     "start_time": "2024-08-05T09:24:36.800469",
     "status": "completed"
    },
    "tags": []
   },
   "outputs": [],
   "source": [
    "# Reference: https://www.kaggle.com/code/ambrosm/pss4e8-eda-which-makes-sense\n",
    "\n",
    "def get_model(meta):\n",
    "    model = keras.models.Sequential()\n",
    "    model.add(keras.layers.Input(meta['X_shape_'][1:]))\n",
    "    model.add(keras.layers.Dense(359, activation='selu'))\n",
    "    model.add(keras.layers.Dropout(0.2))\n",
    "    model.add(keras.layers.Dense(431, activation='selu'))\n",
    "    model.add(keras.layers.Dropout(0.1))\n",
    "    model.add(keras.layers.Dense(314, activation='selu'))\n",
    "    model.add(keras.layers.Dropout(0.1))\n",
    "    model.add(keras.layers.Dense(1, activation='sigmoid'))\n",
    "    return model\n",
    "\n",
    "model = KerasClassifier(\n",
    "    get_model,\n",
    "    loss='binary_crossentropy',\n",
    "    optimizer=keras.optimizers.AdamW(learning_rate=0.01),\n",
    "    validation_split=0.05,\n",
    "    batch_size=4096,\n",
    "    validation_batch_size=65536,\n",
    "    epochs=50,\n",
    "    verbose=1,\n",
    "    callbacks=[\n",
    "        keras.callbacks.ReduceLROnPlateau(patience=3),\n",
    "        keras.callbacks.EarlyStopping(patience=5, min_delta=0.00003)\n",
    "    ]\n",
    ")"
   ]
  },
  {
   "cell_type": "code",
   "execution_count": 14,
   "id": "4a4e31f5",
   "metadata": {
    "_kg_hide-output": true,
    "execution": {
     "iopub.execute_input": "2024-08-05T09:24:36.873129Z",
     "iopub.status.busy": "2024-08-05T09:24:36.872766Z",
     "iopub.status.idle": "2024-08-05T11:27:25.319423Z",
     "shell.execute_reply": "2024-08-05T11:27:25.317639Z"
    },
    "papermill": {
     "duration": 7368.457944,
     "end_time": "2024-08-05T11:27:25.322119",
     "exception": false,
     "start_time": "2024-08-05T09:24:36.864175",
     "status": "completed"
    },
    "tags": []
   },
   "outputs": [
    {
     "name": "stdout",
     "output_type": "stream",
     "text": [
      "Training KerasClassifier\n",
      "\n",
      "Epoch 1/50\n",
      "\u001b[1m579/579\u001b[0m \u001b[32m━━━━━━━━━━━━━━━━━━━━\u001b[0m\u001b[37m\u001b[0m \u001b[1m64s\u001b[0m 107ms/step - loss: 0.4462 - val_loss: 0.0439 - learning_rate: 0.0100\n",
      "Epoch 2/50\n",
      "\u001b[1m579/579\u001b[0m \u001b[32m━━━━━━━━━━━━━━━━━━━━\u001b[0m\u001b[37m\u001b[0m \u001b[1m82s\u001b[0m 107ms/step - loss: 0.0465 - val_loss: 0.0417 - learning_rate: 0.0100\n",
      "Epoch 3/50\n",
      "\u001b[1m579/579\u001b[0m \u001b[32m━━━━━━━━━━━━━━━━━━━━\u001b[0m\u001b[37m\u001b[0m \u001b[1m61s\u001b[0m 106ms/step - loss: 0.0437 - val_loss: 0.0420 - learning_rate: 0.0100\n",
      "Epoch 4/50\n",
      "\u001b[1m579/579\u001b[0m \u001b[32m━━━━━━━━━━━━━━━━━━━━\u001b[0m\u001b[37m\u001b[0m \u001b[1m62s\u001b[0m 107ms/step - loss: 0.0436 - val_loss: 0.0414 - learning_rate: 0.0100\n",
      "Epoch 5/50\n",
      "\u001b[1m579/579\u001b[0m \u001b[32m━━━━━━━━━━━━━━━━━━━━\u001b[0m\u001b[37m\u001b[0m \u001b[1m62s\u001b[0m 107ms/step - loss: 0.0434 - val_loss: 0.0428 - learning_rate: 0.0100\n",
      "Epoch 6/50\n",
      "\u001b[1m579/579\u001b[0m \u001b[32m━━━━━━━━━━━━━━━━━━━━\u001b[0m\u001b[37m\u001b[0m \u001b[1m82s\u001b[0m 108ms/step - loss: 0.0435 - val_loss: 0.0461 - learning_rate: 0.0100\n",
      "Epoch 7/50\n",
      "\u001b[1m579/579\u001b[0m \u001b[32m━━━━━━━━━━━━━━━━━━━━\u001b[0m\u001b[37m\u001b[0m \u001b[1m62s\u001b[0m 108ms/step - loss: 0.0449 - val_loss: 0.0427 - learning_rate: 0.0100\n",
      "Epoch 8/50\n",
      "\u001b[1m579/579\u001b[0m \u001b[32m━━━━━━━━━━━━━━━━━━━━\u001b[0m\u001b[37m\u001b[0m \u001b[1m62s\u001b[0m 107ms/step - loss: 0.0403 - val_loss: 0.0381 - learning_rate: 1.0000e-03\n",
      "Epoch 9/50\n",
      "\u001b[1m579/579\u001b[0m \u001b[32m━━━━━━━━━━━━━━━━━━━━\u001b[0m\u001b[37m\u001b[0m \u001b[1m62s\u001b[0m 107ms/step - loss: 0.0391 - val_loss: 0.0380 - learning_rate: 1.0000e-03\n",
      "Epoch 10/50\n",
      "\u001b[1m579/579\u001b[0m \u001b[32m━━━━━━━━━━━━━━━━━━━━\u001b[0m\u001b[37m\u001b[0m \u001b[1m62s\u001b[0m 107ms/step - loss: 0.0384 - val_loss: 0.0376 - learning_rate: 1.0000e-03\n",
      "Epoch 11/50\n",
      "\u001b[1m579/579\u001b[0m \u001b[32m━━━━━━━━━━━━━━━━━━━━\u001b[0m\u001b[37m\u001b[0m \u001b[1m62s\u001b[0m 107ms/step - loss: 0.0385 - val_loss: 0.0378 - learning_rate: 1.0000e-03\n",
      "Epoch 12/50\n",
      "\u001b[1m579/579\u001b[0m \u001b[32m━━━━━━━━━━━━━━━━━━━━\u001b[0m\u001b[37m\u001b[0m \u001b[1m63s\u001b[0m 108ms/step - loss: 0.0386 - val_loss: 0.0377 - learning_rate: 1.0000e-03\n",
      "Epoch 13/50\n",
      "\u001b[1m579/579\u001b[0m \u001b[32m━━━━━━━━━━━━━━━━━━━━\u001b[0m\u001b[37m\u001b[0m \u001b[1m81s\u001b[0m 107ms/step - loss: 0.0387 - val_loss: 0.0383 - learning_rate: 1.0000e-03\n",
      "Epoch 14/50\n",
      "\u001b[1m579/579\u001b[0m \u001b[32m━━━━━━━━━━━━━━━━━━━━\u001b[0m\u001b[37m\u001b[0m \u001b[1m62s\u001b[0m 107ms/step - loss: 0.0376 - val_loss: 0.0370 - learning_rate: 1.0000e-04\n",
      "Epoch 15/50\n",
      "\u001b[1m579/579\u001b[0m \u001b[32m━━━━━━━━━━━━━━━━━━━━\u001b[0m\u001b[37m\u001b[0m \u001b[1m62s\u001b[0m 107ms/step - loss: 0.0374 - val_loss: 0.0370 - learning_rate: 1.0000e-04\n",
      "Epoch 16/50\n",
      "\u001b[1m579/579\u001b[0m \u001b[32m━━━━━━━━━━━━━━━━━━━━\u001b[0m\u001b[37m\u001b[0m \u001b[1m82s\u001b[0m 108ms/step - loss: 0.0371 - val_loss: 0.0369 - learning_rate: 1.0000e-04\n",
      "Epoch 17/50\n",
      "\u001b[1m579/579\u001b[0m \u001b[32m━━━━━━━━━━━━━━━━━━━━\u001b[0m\u001b[37m\u001b[0m \u001b[1m63s\u001b[0m 108ms/step - loss: 0.0371 - val_loss: 0.0368 - learning_rate: 1.0000e-04\n",
      "Epoch 18/50\n",
      "\u001b[1m579/579\u001b[0m \u001b[32m━━━━━━━━━━━━━━━━━━━━\u001b[0m\u001b[37m\u001b[0m \u001b[1m63s\u001b[0m 108ms/step - loss: 0.0369 - val_loss: 0.0367 - learning_rate: 1.0000e-04\n",
      "Epoch 19/50\n",
      "\u001b[1m579/579\u001b[0m \u001b[32m━━━━━━━━━━━━━━━━━━━━\u001b[0m\u001b[37m\u001b[0m \u001b[1m63s\u001b[0m 109ms/step - loss: 0.0373 - val_loss: 0.0369 - learning_rate: 1.0000e-04\n",
      "Epoch 20/50\n",
      "\u001b[1m579/579\u001b[0m \u001b[32m━━━━━━━━━━━━━━━━━━━━\u001b[0m\u001b[37m\u001b[0m \u001b[1m82s\u001b[0m 108ms/step - loss: 0.0367 - val_loss: 0.0369 - learning_rate: 1.0000e-04\n",
      "Epoch 21/50\n",
      "\u001b[1m579/579\u001b[0m \u001b[32m━━━━━━━━━━━━━━━━━━━━\u001b[0m\u001b[37m\u001b[0m \u001b[1m82s\u001b[0m 108ms/step - loss: 0.0373 - val_loss: 0.0368 - learning_rate: 1.0000e-04\n",
      "Epoch 22/50\n",
      "\u001b[1m579/579\u001b[0m \u001b[32m━━━━━━━━━━━━━━━━━━━━\u001b[0m\u001b[37m\u001b[0m \u001b[1m63s\u001b[0m 108ms/step - loss: 0.0368 - val_loss: 0.0368 - learning_rate: 1.0000e-05\n",
      "Epoch 23/50\n",
      "\u001b[1m579/579\u001b[0m \u001b[32m━━━━━━━━━━━━━━━━━━━━\u001b[0m\u001b[37m\u001b[0m \u001b[1m63s\u001b[0m 108ms/step - loss: 0.0366 - val_loss: 0.0367 - learning_rate: 1.0000e-05\n",
      "\u001b[1m153/153\u001b[0m \u001b[32m━━━━━━━━━━━━━━━━━━━━\u001b[0m\u001b[37m\u001b[0m \u001b[1m5s\u001b[0m 35ms/step\n",
      "\u001b[1m508/508\u001b[0m \u001b[32m━━━━━━━━━━━━━━━━━━━━\u001b[0m\u001b[37m\u001b[0m \u001b[1m16s\u001b[0m 32ms/step\n",
      "\n",
      "--- Fold 1 - MCC: 0.983585\n",
      "\n",
      "Epoch 1/50\n",
      "\u001b[1m579/579\u001b[0m \u001b[32m━━━━━━━━━━━━━━━━━━━━\u001b[0m\u001b[37m\u001b[0m \u001b[1m65s\u001b[0m 109ms/step - loss: 0.4118 - val_loss: 0.0452 - learning_rate: 0.0100\n",
      "Epoch 2/50\n",
      "\u001b[1m579/579\u001b[0m \u001b[32m━━━━━━━━━━━━━━━━━━━━\u001b[0m\u001b[37m\u001b[0m \u001b[1m63s\u001b[0m 108ms/step - loss: 0.0465 - val_loss: 0.0418 - learning_rate: 0.0100\n",
      "Epoch 3/50\n",
      "\u001b[1m579/579\u001b[0m \u001b[32m━━━━━━━━━━━━━━━━━━━━\u001b[0m\u001b[37m\u001b[0m \u001b[1m82s\u001b[0m 108ms/step - loss: 0.0438 - val_loss: 0.0422 - learning_rate: 0.0100\n",
      "Epoch 4/50\n",
      "\u001b[1m579/579\u001b[0m \u001b[32m━━━━━━━━━━━━━━━━━━━━\u001b[0m\u001b[37m\u001b[0m \u001b[1m82s\u001b[0m 109ms/step - loss: 0.0433 - val_loss: 0.0442 - learning_rate: 0.0100\n",
      "Epoch 5/50\n",
      "\u001b[1m579/579\u001b[0m \u001b[32m━━━━━━━━━━━━━━━━━━━━\u001b[0m\u001b[37m\u001b[0m \u001b[1m63s\u001b[0m 109ms/step - loss: 0.0441 - val_loss: 0.0430 - learning_rate: 0.0100\n",
      "Epoch 6/50\n",
      "\u001b[1m579/579\u001b[0m \u001b[32m━━━━━━━━━━━━━━━━━━━━\u001b[0m\u001b[37m\u001b[0m \u001b[1m63s\u001b[0m 108ms/step - loss: 0.0403 - val_loss: 0.0393 - learning_rate: 1.0000e-03\n",
      "Epoch 7/50\n",
      "\u001b[1m579/579\u001b[0m \u001b[32m━━━━━━━━━━━━━━━━━━━━\u001b[0m\u001b[37m\u001b[0m \u001b[1m63s\u001b[0m 109ms/step - loss: 0.0393 - val_loss: 0.0392 - learning_rate: 1.0000e-03\n",
      "Epoch 8/50\n",
      "\u001b[1m579/579\u001b[0m \u001b[32m━━━━━━━━━━━━━━━━━━━━\u001b[0m\u001b[37m\u001b[0m \u001b[1m64s\u001b[0m 110ms/step - loss: 0.0395 - val_loss: 0.0387 - learning_rate: 1.0000e-03\n",
      "Epoch 9/50\n",
      "\u001b[1m579/579\u001b[0m \u001b[32m━━━━━━━━━━━━━━━━━━━━\u001b[0m\u001b[37m\u001b[0m \u001b[1m63s\u001b[0m 109ms/step - loss: 0.0392 - val_loss: 0.0392 - learning_rate: 1.0000e-03\n",
      "Epoch 10/50\n",
      "\u001b[1m579/579\u001b[0m \u001b[32m━━━━━━━━━━━━━━━━━━━━\u001b[0m\u001b[37m\u001b[0m \u001b[1m64s\u001b[0m 110ms/step - loss: 0.0391 - val_loss: 0.0388 - learning_rate: 1.0000e-03\n",
      "Epoch 11/50\n",
      "\u001b[1m579/579\u001b[0m \u001b[32m━━━━━━━━━━━━━━━━━━━━\u001b[0m\u001b[37m\u001b[0m \u001b[1m82s\u001b[0m 109ms/step - loss: 0.0388 - val_loss: 0.0388 - learning_rate: 1.0000e-03\n",
      "Epoch 12/50\n",
      "\u001b[1m579/579\u001b[0m \u001b[32m━━━━━━━━━━━━━━━━━━━━\u001b[0m\u001b[37m\u001b[0m \u001b[1m64s\u001b[0m 111ms/step - loss: 0.0381 - val_loss: 0.0383 - learning_rate: 1.0000e-04\n",
      "Epoch 13/50\n",
      "\u001b[1m579/579\u001b[0m \u001b[32m━━━━━━━━━━━━━━━━━━━━\u001b[0m\u001b[37m\u001b[0m \u001b[1m64s\u001b[0m 110ms/step - loss: 0.0375 - val_loss: 0.0380 - learning_rate: 1.0000e-04\n",
      "Epoch 14/50\n",
      "\u001b[1m579/579\u001b[0m \u001b[32m━━━━━━━━━━━━━━━━━━━━\u001b[0m\u001b[37m\u001b[0m \u001b[1m64s\u001b[0m 110ms/step - loss: 0.0373 - val_loss: 0.0381 - learning_rate: 1.0000e-04\n",
      "Epoch 15/50\n",
      "\u001b[1m579/579\u001b[0m \u001b[32m━━━━━━━━━━━━━━━━━━━━\u001b[0m\u001b[37m\u001b[0m \u001b[1m64s\u001b[0m 110ms/step - loss: 0.0377 - val_loss: 0.0380 - learning_rate: 1.0000e-04\n",
      "Epoch 16/50\n",
      "\u001b[1m579/579\u001b[0m \u001b[32m━━━━━━━━━━━━━━━━━━━━\u001b[0m\u001b[37m\u001b[0m \u001b[1m64s\u001b[0m 110ms/step - loss: 0.0373 - val_loss: 0.0381 - learning_rate: 1.0000e-04\n",
      "Epoch 17/50\n",
      "\u001b[1m579/579\u001b[0m \u001b[32m━━━━━━━━━━━━━━━━━━━━\u001b[0m\u001b[37m\u001b[0m \u001b[1m64s\u001b[0m 110ms/step - loss: 0.0377 - val_loss: 0.0380 - learning_rate: 1.0000e-05\n",
      "Epoch 18/50\n",
      "\u001b[1m579/579\u001b[0m \u001b[32m━━━━━━━━━━━━━━━━━━━━\u001b[0m\u001b[37m\u001b[0m \u001b[1m82s\u001b[0m 110ms/step - loss: 0.0376 - val_loss: 0.0379 - learning_rate: 1.0000e-05\n",
      "\u001b[1m153/153\u001b[0m \u001b[32m━━━━━━━━━━━━━━━━━━━━\u001b[0m\u001b[37m\u001b[0m \u001b[1m5s\u001b[0m 32ms/step\n",
      "\u001b[1m508/508\u001b[0m \u001b[32m━━━━━━━━━━━━━━━━━━━━\u001b[0m\u001b[37m\u001b[0m \u001b[1m18s\u001b[0m 35ms/step\n",
      "\n",
      "--- Fold 2 - MCC: 0.983903\n",
      "\n",
      "Epoch 1/50\n",
      "\u001b[1m579/579\u001b[0m \u001b[32m━━━━━━━━━━━━━━━━━━━━\u001b[0m\u001b[37m\u001b[0m \u001b[1m66s\u001b[0m 111ms/step - loss: 0.3776 - val_loss: 0.0452 - learning_rate: 0.0100\n",
      "Epoch 2/50\n",
      "\u001b[1m579/579\u001b[0m \u001b[32m━━━━━━━━━━━━━━━━━━━━\u001b[0m\u001b[37m\u001b[0m \u001b[1m64s\u001b[0m 110ms/step - loss: 0.0468 - val_loss: 0.0447 - learning_rate: 0.0100\n",
      "Epoch 3/50\n",
      "\u001b[1m579/579\u001b[0m \u001b[32m━━━━━━━━━━━━━━━━━━━━\u001b[0m\u001b[37m\u001b[0m \u001b[1m64s\u001b[0m 110ms/step - loss: 0.0440 - val_loss: 0.0426 - learning_rate: 0.0100\n",
      "Epoch 4/50\n",
      "\u001b[1m579/579\u001b[0m \u001b[32m━━━━━━━━━━━━━━━━━━━━\u001b[0m\u001b[37m\u001b[0m \u001b[1m64s\u001b[0m 110ms/step - loss: 0.0433 - val_loss: 0.0437 - learning_rate: 0.0100\n",
      "Epoch 5/50\n",
      "\u001b[1m579/579\u001b[0m \u001b[32m━━━━━━━━━━━━━━━━━━━━\u001b[0m\u001b[37m\u001b[0m \u001b[1m63s\u001b[0m 109ms/step - loss: 0.0437 - val_loss: 0.0426 - learning_rate: 0.0100\n",
      "Epoch 6/50\n",
      "\u001b[1m579/579\u001b[0m \u001b[32m━━━━━━━━━━━━━━━━━━━━\u001b[0m\u001b[37m\u001b[0m \u001b[1m64s\u001b[0m 110ms/step - loss: 0.0442 - val_loss: 0.0437 - learning_rate: 0.0100\n",
      "Epoch 7/50\n",
      "\u001b[1m579/579\u001b[0m \u001b[32m━━━━━━━━━━━━━━━━━━━━\u001b[0m\u001b[37m\u001b[0m \u001b[1m64s\u001b[0m 111ms/step - loss: 0.0402 - val_loss: 0.0391 - learning_rate: 1.0000e-03\n",
      "Epoch 8/50\n",
      "\u001b[1m579/579\u001b[0m \u001b[32m━━━━━━━━━━━━━━━━━━━━\u001b[0m\u001b[37m\u001b[0m \u001b[1m82s\u001b[0m 112ms/step - loss: 0.0390 - val_loss: 0.0388 - learning_rate: 1.0000e-03\n",
      "Epoch 9/50\n",
      "\u001b[1m579/579\u001b[0m \u001b[32m━━━━━━━━━━━━━━━━━━━━\u001b[0m\u001b[37m\u001b[0m \u001b[1m82s\u001b[0m 111ms/step - loss: 0.0390 - val_loss: 0.0391 - learning_rate: 1.0000e-03\n",
      "Epoch 10/50\n",
      "\u001b[1m579/579\u001b[0m \u001b[32m━━━━━━━━━━━━━━━━━━━━\u001b[0m\u001b[37m\u001b[0m \u001b[1m64s\u001b[0m 111ms/step - loss: 0.0385 - val_loss: 0.0392 - learning_rate: 1.0000e-03\n",
      "Epoch 11/50\n",
      "\u001b[1m579/579\u001b[0m \u001b[32m━━━━━━━━━━━━━━━━━━━━\u001b[0m\u001b[37m\u001b[0m \u001b[1m64s\u001b[0m 111ms/step - loss: 0.0385 - val_loss: 0.0395 - learning_rate: 1.0000e-03\n",
      "Epoch 12/50\n",
      "\u001b[1m579/579\u001b[0m \u001b[32m━━━━━━━━━━━━━━━━━━━━\u001b[0m\u001b[37m\u001b[0m \u001b[1m65s\u001b[0m 111ms/step - loss: 0.0377 - val_loss: 0.0384 - learning_rate: 1.0000e-04\n",
      "Epoch 13/50\n",
      "\u001b[1m579/579\u001b[0m \u001b[32m━━━━━━━━━━━━━━━━━━━━\u001b[0m\u001b[37m\u001b[0m \u001b[1m64s\u001b[0m 111ms/step - loss: 0.0372 - val_loss: 0.0382 - learning_rate: 1.0000e-04\n",
      "Epoch 14/50\n",
      "\u001b[1m579/579\u001b[0m \u001b[32m━━━━━━━━━━━━━━━━━━━━\u001b[0m\u001b[37m\u001b[0m \u001b[1m63s\u001b[0m 109ms/step - loss: 0.0376 - val_loss: 0.0383 - learning_rate: 1.0000e-04\n",
      "Epoch 15/50\n",
      "\u001b[1m579/579\u001b[0m \u001b[32m━━━━━━━━━━━━━━━━━━━━\u001b[0m\u001b[37m\u001b[0m \u001b[1m65s\u001b[0m 112ms/step - loss: 0.0372 - val_loss: 0.0380 - learning_rate: 1.0000e-04\n",
      "Epoch 16/50\n",
      "\u001b[1m579/579\u001b[0m \u001b[32m━━━━━━━━━━━━━━━━━━━━\u001b[0m\u001b[37m\u001b[0m \u001b[1m65s\u001b[0m 112ms/step - loss: 0.0376 - val_loss: 0.0382 - learning_rate: 1.0000e-04\n",
      "Epoch 17/50\n",
      "\u001b[1m579/579\u001b[0m \u001b[32m━━━━━━━━━━━━━━━━━━━━\u001b[0m\u001b[37m\u001b[0m \u001b[1m64s\u001b[0m 111ms/step - loss: 0.0372 - val_loss: 0.0381 - learning_rate: 1.0000e-04\n",
      "Epoch 18/50\n",
      "\u001b[1m579/579\u001b[0m \u001b[32m━━━━━━━━━━━━━━━━━━━━\u001b[0m\u001b[37m\u001b[0m \u001b[1m65s\u001b[0m 112ms/step - loss: 0.0371 - val_loss: 0.0381 - learning_rate: 1.0000e-04\n",
      "Epoch 19/50\n",
      "\u001b[1m579/579\u001b[0m \u001b[32m━━━━━━━━━━━━━━━━━━━━\u001b[0m\u001b[37m\u001b[0m \u001b[1m63s\u001b[0m 109ms/step - loss: 0.0374 - val_loss: 0.0380 - learning_rate: 1.0000e-05\n",
      "Epoch 20/50\n",
      "\u001b[1m579/579\u001b[0m \u001b[32m━━━━━━━━━━━━━━━━━━━━\u001b[0m\u001b[37m\u001b[0m \u001b[1m65s\u001b[0m 112ms/step - loss: 0.0371 - val_loss: 0.0380 - learning_rate: 1.0000e-05\n",
      "\u001b[1m153/153\u001b[0m \u001b[32m━━━━━━━━━━━━━━━━━━━━\u001b[0m\u001b[37m\u001b[0m \u001b[1m5s\u001b[0m 32ms/step\n",
      "\u001b[1m508/508\u001b[0m \u001b[32m━━━━━━━━━━━━━━━━━━━━\u001b[0m\u001b[37m\u001b[0m \u001b[1m20s\u001b[0m 39ms/step\n",
      "\n",
      "--- Fold 3 - MCC: 0.983537\n",
      "\n",
      "Epoch 1/50\n",
      "\u001b[1m579/579\u001b[0m \u001b[32m━━━━━━━━━━━━━━━━━━━━\u001b[0m\u001b[37m\u001b[0m \u001b[1m68s\u001b[0m 114ms/step - loss: 0.3358 - val_loss: 0.0458 - learning_rate: 0.0100\n",
      "Epoch 2/50\n",
      "\u001b[1m579/579\u001b[0m \u001b[32m━━━━━━━━━━━━━━━━━━━━\u001b[0m\u001b[37m\u001b[0m \u001b[1m65s\u001b[0m 113ms/step - loss: 0.0466 - val_loss: 0.0422 - learning_rate: 0.0100\n",
      "Epoch 3/50\n",
      "\u001b[1m579/579\u001b[0m \u001b[32m━━━━━━━━━━━━━━━━━━━━\u001b[0m\u001b[37m\u001b[0m \u001b[1m81s\u001b[0m 112ms/step - loss: 0.0439 - val_loss: 0.0424 - learning_rate: 0.0100\n",
      "Epoch 4/50\n",
      "\u001b[1m579/579\u001b[0m \u001b[32m━━━━━━━━━━━━━━━━━━━━\u001b[0m\u001b[37m\u001b[0m \u001b[1m65s\u001b[0m 112ms/step - loss: 0.0435 - val_loss: 0.0412 - learning_rate: 0.0100\n",
      "Epoch 5/50\n",
      "\u001b[1m579/579\u001b[0m \u001b[32m━━━━━━━━━━━━━━━━━━━━\u001b[0m\u001b[37m\u001b[0m \u001b[1m65s\u001b[0m 112ms/step - loss: 0.0444 - val_loss: 0.0440 - learning_rate: 0.0100\n",
      "Epoch 6/50\n",
      "\u001b[1m579/579\u001b[0m \u001b[32m━━━━━━━━━━━━━━━━━━━━\u001b[0m\u001b[37m\u001b[0m \u001b[1m67s\u001b[0m 115ms/step - loss: 0.0445 - val_loss: 0.0431 - learning_rate: 0.0100\n",
      "Epoch 7/50\n",
      "\u001b[1m579/579\u001b[0m \u001b[32m━━━━━━━━━━━━━━━━━━━━\u001b[0m\u001b[37m\u001b[0m \u001b[1m64s\u001b[0m 111ms/step - loss: 0.0462 - val_loss: 0.0421 - learning_rate: 0.0100\n",
      "Epoch 8/50\n",
      "\u001b[1m579/579\u001b[0m \u001b[32m━━━━━━━━━━━━━━━━━━━━\u001b[0m\u001b[37m\u001b[0m \u001b[1m65s\u001b[0m 112ms/step - loss: 0.0408 - val_loss: 0.0394 - learning_rate: 1.0000e-03\n",
      "Epoch 9/50\n",
      "\u001b[1m579/579\u001b[0m \u001b[32m━━━━━━━━━━━━━━━━━━━━\u001b[0m\u001b[37m\u001b[0m \u001b[1m82s\u001b[0m 113ms/step - loss: 0.0397 - val_loss: 0.0389 - learning_rate: 1.0000e-03\n",
      "Epoch 10/50\n",
      "\u001b[1m579/579\u001b[0m \u001b[32m━━━━━━━━━━━━━━━━━━━━\u001b[0m\u001b[37m\u001b[0m \u001b[1m65s\u001b[0m 113ms/step - loss: 0.0387 - val_loss: 0.0385 - learning_rate: 1.0000e-03\n",
      "Epoch 11/50\n",
      "\u001b[1m579/579\u001b[0m \u001b[32m━━━━━━━━━━━━━━━━━━━━\u001b[0m\u001b[37m\u001b[0m \u001b[1m65s\u001b[0m 113ms/step - loss: 0.0393 - val_loss: 0.0387 - learning_rate: 1.0000e-03\n",
      "Epoch 12/50\n",
      "\u001b[1m579/579\u001b[0m \u001b[32m━━━━━━━━━━━━━━━━━━━━\u001b[0m\u001b[37m\u001b[0m \u001b[1m64s\u001b[0m 111ms/step - loss: 0.0387 - val_loss: 0.0390 - learning_rate: 1.0000e-03\n",
      "Epoch 13/50\n",
      "\u001b[1m579/579\u001b[0m \u001b[32m━━━━━━━━━━━━━━━━━━━━\u001b[0m\u001b[37m\u001b[0m \u001b[1m65s\u001b[0m 113ms/step - loss: 0.0390 - val_loss: 0.0387 - learning_rate: 1.0000e-03\n",
      "Epoch 14/50\n",
      "\u001b[1m579/579\u001b[0m \u001b[32m━━━━━━━━━━━━━━━━━━━━\u001b[0m\u001b[37m\u001b[0m \u001b[1m66s\u001b[0m 114ms/step - loss: 0.0376 - val_loss: 0.0383 - learning_rate: 1.0000e-04\n",
      "Epoch 15/50\n",
      "\u001b[1m579/579\u001b[0m \u001b[32m━━━━━━━━━━━━━━━━━━━━\u001b[0m\u001b[37m\u001b[0m \u001b[1m66s\u001b[0m 114ms/step - loss: 0.0380 - val_loss: 0.0381 - learning_rate: 1.0000e-04\n",
      "Epoch 16/50\n",
      "\u001b[1m579/579\u001b[0m \u001b[32m━━━━━━━━━━━━━━━━━━━━\u001b[0m\u001b[37m\u001b[0m \u001b[1m80s\u001b[0m 111ms/step - loss: 0.0374 - val_loss: 0.0383 - learning_rate: 1.0000e-04\n",
      "Epoch 17/50\n",
      "\u001b[1m579/579\u001b[0m \u001b[32m━━━━━━━━━━━━━━━━━━━━\u001b[0m\u001b[37m\u001b[0m \u001b[1m68s\u001b[0m 116ms/step - loss: 0.0373 - val_loss: 0.0381 - learning_rate: 1.0000e-04\n",
      "Epoch 18/50\n",
      "\u001b[1m579/579\u001b[0m \u001b[32m━━━━━━━━━━━━━━━━━━━━\u001b[0m\u001b[37m\u001b[0m \u001b[1m66s\u001b[0m 114ms/step - loss: 0.0375 - val_loss: 0.0381 - learning_rate: 1.0000e-04\n",
      "Epoch 19/50\n",
      "\u001b[1m579/579\u001b[0m \u001b[32m━━━━━━━━━━━━━━━━━━━━\u001b[0m\u001b[37m\u001b[0m \u001b[1m65s\u001b[0m 111ms/step - loss: 0.0375 - val_loss: 0.0381 - learning_rate: 1.0000e-05\n",
      "Epoch 20/50\n",
      "\u001b[1m579/579\u001b[0m \u001b[32m━━━━━━━━━━━━━━━━━━━━\u001b[0m\u001b[37m\u001b[0m \u001b[1m65s\u001b[0m 112ms/step - loss: 0.0373 - val_loss: 0.0381 - learning_rate: 1.0000e-05\n",
      "Epoch 21/50\n",
      "\u001b[1m579/579\u001b[0m \u001b[32m━━━━━━━━━━━━━━━━━━━━\u001b[0m\u001b[37m\u001b[0m \u001b[1m65s\u001b[0m 112ms/step - loss: 0.0370 - val_loss: 0.0381 - learning_rate: 1.0000e-05\n",
      "Epoch 22/50\n",
      "\u001b[1m579/579\u001b[0m \u001b[32m━━━━━━━━━━━━━━━━━━━━\u001b[0m\u001b[37m\u001b[0m \u001b[1m82s\u001b[0m 112ms/step - loss: 0.0374 - val_loss: 0.0381 - learning_rate: 1.0000e-06\n",
      "\u001b[1m153/153\u001b[0m \u001b[32m━━━━━━━━━━━━━━━━━━━━\u001b[0m\u001b[37m\u001b[0m \u001b[1m5s\u001b[0m 33ms/step\n",
      "\u001b[1m508/508\u001b[0m \u001b[32m━━━━━━━━━━━━━━━━━━━━\u001b[0m\u001b[37m\u001b[0m \u001b[1m24s\u001b[0m 47ms/step\n",
      "\n",
      "--- Fold 4 - MCC: 0.983225\n",
      "\n",
      "Epoch 1/50\n",
      "\u001b[1m579/579\u001b[0m \u001b[32m━━━━━━━━━━━━━━━━━━━━\u001b[0m\u001b[37m\u001b[0m \u001b[1m67s\u001b[0m 112ms/step - loss: 0.3641 - val_loss: 0.0439 - learning_rate: 0.0100\n",
      "Epoch 2/50\n",
      "\u001b[1m579/579\u001b[0m \u001b[32m━━━━━━━━━━━━━━━━━━━━\u001b[0m\u001b[37m\u001b[0m \u001b[1m64s\u001b[0m 111ms/step - loss: 0.0462 - val_loss: 0.0425 - learning_rate: 0.0100\n",
      "Epoch 3/50\n",
      "\u001b[1m579/579\u001b[0m \u001b[32m━━━━━━━━━━━━━━━━━━━━\u001b[0m\u001b[37m\u001b[0m \u001b[1m64s\u001b[0m 111ms/step - loss: 0.0440 - val_loss: 0.0426 - learning_rate: 0.0100\n",
      "Epoch 4/50\n",
      "\u001b[1m579/579\u001b[0m \u001b[32m━━━━━━━━━━━━━━━━━━━━\u001b[0m\u001b[37m\u001b[0m \u001b[1m65s\u001b[0m 112ms/step - loss: 0.0431 - val_loss: 0.0407 - learning_rate: 0.0100\n",
      "Epoch 5/50\n",
      "\u001b[1m579/579\u001b[0m \u001b[32m━━━━━━━━━━━━━━━━━━━━\u001b[0m\u001b[37m\u001b[0m \u001b[1m64s\u001b[0m 111ms/step - loss: 0.0431 - val_loss: 0.0431 - learning_rate: 0.0100\n",
      "Epoch 6/50\n",
      "\u001b[1m579/579\u001b[0m \u001b[32m━━━━━━━━━━━━━━━━━━━━\u001b[0m\u001b[37m\u001b[0m \u001b[1m64s\u001b[0m 110ms/step - loss: 0.0436 - val_loss: 0.0437 - learning_rate: 0.0100\n",
      "Epoch 7/50\n",
      "\u001b[1m579/579\u001b[0m \u001b[32m━━━━━━━━━━━━━━━━━━━━\u001b[0m\u001b[37m\u001b[0m \u001b[1m82s\u001b[0m 110ms/step - loss: 0.0452 - val_loss: 0.0413 - learning_rate: 0.0100\n",
      "Epoch 8/50\n",
      "\u001b[1m579/579\u001b[0m \u001b[32m━━━━━━━━━━━━━━━━━━━━\u001b[0m\u001b[37m\u001b[0m \u001b[1m64s\u001b[0m 111ms/step - loss: 0.0410 - val_loss: 0.0381 - learning_rate: 1.0000e-03\n",
      "Epoch 9/50\n",
      "\u001b[1m579/579\u001b[0m \u001b[32m━━━━━━━━━━━━━━━━━━━━\u001b[0m\u001b[37m\u001b[0m \u001b[1m87s\u001b[0m 120ms/step - loss: 0.0387 - val_loss: 0.0379 - learning_rate: 1.0000e-03\n",
      "Epoch 10/50\n",
      "\u001b[1m579/579\u001b[0m \u001b[32m━━━━━━━━━━━━━━━━━━━━\u001b[0m\u001b[37m\u001b[0m \u001b[1m77s\u001b[0m 111ms/step - loss: 0.0388 - val_loss: 0.0376 - learning_rate: 1.0000e-03\n",
      "Epoch 11/50\n",
      "\u001b[1m579/579\u001b[0m \u001b[32m━━━━━━━━━━━━━━━━━━━━\u001b[0m\u001b[37m\u001b[0m \u001b[1m83s\u001b[0m 113ms/step - loss: 0.0386 - val_loss: 0.0379 - learning_rate: 1.0000e-03\n",
      "Epoch 12/50\n",
      "\u001b[1m579/579\u001b[0m \u001b[32m━━━━━━━━━━━━━━━━━━━━\u001b[0m\u001b[37m\u001b[0m \u001b[1m65s\u001b[0m 111ms/step - loss: 0.0386 - val_loss: 0.0385 - learning_rate: 1.0000e-03\n",
      "Epoch 13/50\n",
      "\u001b[1m579/579\u001b[0m \u001b[32m━━━━━━━━━━━━━━━━━━━━\u001b[0m\u001b[37m\u001b[0m \u001b[1m65s\u001b[0m 111ms/step - loss: 0.0384 - val_loss: 0.0379 - learning_rate: 1.0000e-03\n",
      "Epoch 14/50\n",
      "\u001b[1m579/579\u001b[0m \u001b[32m━━━━━━━━━━━━━━━━━━━━\u001b[0m\u001b[37m\u001b[0m \u001b[1m83s\u001b[0m 114ms/step - loss: 0.0378 - val_loss: 0.0371 - learning_rate: 1.0000e-04\n",
      "Epoch 15/50\n",
      "\u001b[1m579/579\u001b[0m \u001b[32m━━━━━━━━━━━━━━━━━━━━\u001b[0m\u001b[37m\u001b[0m \u001b[1m81s\u001b[0m 111ms/step - loss: 0.0373 - val_loss: 0.0370 - learning_rate: 1.0000e-04\n",
      "Epoch 16/50\n",
      "\u001b[1m579/579\u001b[0m \u001b[32m━━━━━━━━━━━━━━━━━━━━\u001b[0m\u001b[37m\u001b[0m \u001b[1m65s\u001b[0m 111ms/step - loss: 0.0374 - val_loss: 0.0370 - learning_rate: 1.0000e-04\n",
      "Epoch 17/50\n",
      "\u001b[1m579/579\u001b[0m \u001b[32m━━━━━━━━━━━━━━━━━━━━\u001b[0m\u001b[37m\u001b[0m \u001b[1m65s\u001b[0m 111ms/step - loss: 0.0371 - val_loss: 0.0369 - learning_rate: 1.0000e-04\n",
      "Epoch 18/50\n",
      "\u001b[1m579/579\u001b[0m \u001b[32m━━━━━━━━━━━━━━━━━━━━\u001b[0m\u001b[37m\u001b[0m \u001b[1m65s\u001b[0m 112ms/step - loss: 0.0376 - val_loss: 0.0369 - learning_rate: 1.0000e-04\n",
      "Epoch 19/50\n",
      "\u001b[1m579/579\u001b[0m \u001b[32m━━━━━━━━━━━━━━━━━━━━\u001b[0m\u001b[37m\u001b[0m \u001b[1m65s\u001b[0m 112ms/step - loss: 0.0369 - val_loss: 0.0369 - learning_rate: 1.0000e-05\n",
      "Epoch 20/50\n",
      "\u001b[1m579/579\u001b[0m \u001b[32m━━━━━━━━━━━━━━━━━━━━\u001b[0m\u001b[37m\u001b[0m \u001b[1m82s\u001b[0m 111ms/step - loss: 0.0367 - val_loss: 0.0369 - learning_rate: 1.0000e-05\n",
      "Epoch 21/50\n",
      "\u001b[1m579/579\u001b[0m \u001b[32m━━━━━━━━━━━━━━━━━━━━\u001b[0m\u001b[37m\u001b[0m \u001b[1m65s\u001b[0m 111ms/step - loss: 0.0370 - val_loss: 0.0369 - learning_rate: 1.0000e-05\n",
      "Epoch 22/50\n",
      "\u001b[1m579/579\u001b[0m \u001b[32m━━━━━━━━━━━━━━━━━━━━\u001b[0m\u001b[37m\u001b[0m \u001b[1m65s\u001b[0m 111ms/step - loss: 0.0371 - val_loss: 0.0369 - learning_rate: 1.0000e-06\n",
      "\u001b[1m153/153\u001b[0m \u001b[32m━━━━━━━━━━━━━━━━━━━━\u001b[0m\u001b[37m\u001b[0m \u001b[1m5s\u001b[0m 33ms/step\n",
      "\u001b[1m508/508\u001b[0m \u001b[32m━━━━━━━━━━━━━━━━━━━━\u001b[0m\u001b[37m\u001b[0m \u001b[1m19s\u001b[0m 37ms/step\n",
      "\n",
      "--- Fold 5 - MCC: 0.983537\n",
      "\n",
      "\n",
      "\n",
      "------ Average MCC: 0.983557 ± 0.000215\n"
     ]
    }
   ],
   "source": [
    "trainer = Trainer(model)\n",
    "trainer.fit_predict(X, y, X_test)"
   ]
  }
 ],
 "metadata": {
  "kaggle": {
   "accelerator": "none",
   "dataSources": [
    {
     "databundleVersionId": 9045607,
     "sourceId": 76727,
     "sourceType": "competition"
    }
   ],
   "dockerImageVersionId": 30746,
   "isGpuEnabled": false,
   "isInternetEnabled": true,
   "language": "python",
   "sourceType": "notebook"
  },
  "kernelspec": {
   "display_name": "Python 3",
   "language": "python",
   "name": "python3"
  },
  "language_info": {
   "codemirror_mode": {
    "name": "ipython",
    "version": 3
   },
   "file_extension": ".py",
   "mimetype": "text/x-python",
   "name": "python",
   "nbconvert_exporter": "python",
   "pygments_lexer": "ipython3",
   "version": "3.10.13"
  },
  "papermill": {
   "default_parameters": {},
   "duration": 7638.004487,
   "end_time": "2024-08-05T11:27:34.299566",
   "environment_variables": {},
   "exception": null,
   "input_path": "__notebook__.ipynb",
   "output_path": "__notebook__.ipynb",
   "parameters": {},
   "start_time": "2024-08-05T09:20:16.295079",
   "version": "2.5.0"
  }
 },
 "nbformat": 4,
 "nbformat_minor": 5
}
