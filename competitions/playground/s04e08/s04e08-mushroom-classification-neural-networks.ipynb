{
 "cells": [
  {
   "cell_type": "markdown",
   "id": "b8be47aa",
   "metadata": {
    "papermill": {
     "duration": 0.006659,
     "end_time": "2024-08-08T08:30:27.629411",
     "exception": false,
     "start_time": "2024-08-08T08:30:27.622752",
     "status": "completed"
    },
    "tags": []
   },
   "source": [
    "# Imports and Configs"
   ]
  },
  {
   "cell_type": "code",
   "execution_count": 1,
   "id": "7af6d110",
   "metadata": {
    "_kg_hide-output": true,
    "execution": {
     "iopub.execute_input": "2024-08-08T08:30:27.644619Z",
     "iopub.status.busy": "2024-08-08T08:30:27.644205Z",
     "iopub.status.idle": "2024-08-08T08:31:06.701639Z",
     "shell.execute_reply": "2024-08-08T08:31:06.700285Z"
    },
    "papermill": {
     "duration": 39.069035,
     "end_time": "2024-08-08T08:31:06.704674",
     "exception": false,
     "start_time": "2024-08-08T08:30:27.635639",
     "status": "completed"
    },
    "tags": []
   },
   "outputs": [
    {
     "name": "stdout",
     "output_type": "stream",
     "text": [
      "\u001b[31mERROR: pip's dependency resolver does not currently take into account all the packages that are installed. This behaviour is the source of the following dependency conflicts.\r\n",
      "spaghetti 1.7.6 requires shapely>=2.0.1, but you have shapely 1.8.5.post1 which is incompatible.\r\n",
      "spopt 0.6.1 requires shapely>=2.0.1, but you have shapely 1.8.5.post1 which is incompatible.\u001b[0m\u001b[31m\r\n",
      "\u001b[0m"
     ]
    }
   ],
   "source": [
    "!pip install -q scikit-learn==1.4\n",
    "!pip install -q --no-deps scikeras\n",
    "!pip install -q ucimlrepo"
   ]
  },
  {
   "cell_type": "code",
   "execution_count": 2,
   "id": "afe0bd1c",
   "metadata": {
    "_cell_guid": "b1076dfc-b9ad-4769-8c92-a6c4dae69d19",
    "_kg_hide-output": true,
    "_uuid": "8f2839f25d086af736a60e9eeb907d3b93b6e0e5",
    "execution": {
     "iopub.execute_input": "2024-08-08T08:31:06.718887Z",
     "iopub.status.busy": "2024-08-08T08:31:06.718435Z",
     "iopub.status.idle": "2024-08-08T08:31:24.256360Z",
     "shell.execute_reply": "2024-08-08T08:31:24.254990Z"
    },
    "papermill": {
     "duration": 17.548257,
     "end_time": "2024-08-08T08:31:24.259201",
     "exception": false,
     "start_time": "2024-08-08T08:31:06.710944",
     "status": "completed"
    },
    "tags": []
   },
   "outputs": [
    {
     "name": "stderr",
     "output_type": "stream",
     "text": [
      "2024-08-08 08:31:09.114143: E external/local_xla/xla/stream_executor/cuda/cuda_dnn.cc:9261] Unable to register cuDNN factory: Attempting to register factory for plugin cuDNN when one has already been registered\n",
      "2024-08-08 08:31:09.114310: E external/local_xla/xla/stream_executor/cuda/cuda_fft.cc:607] Unable to register cuFFT factory: Attempting to register factory for plugin cuFFT when one has already been registered\n",
      "2024-08-08 08:31:09.289667: E external/local_xla/xla/stream_executor/cuda/cuda_blas.cc:1515] Unable to register cuBLAS factory: Attempting to register factory for plugin cuBLAS when one has already been registered\n"
     ]
    }
   ],
   "source": [
    "from scikeras.wrappers import KerasClassifier\n",
    "from sklearn.model_selection import StratifiedKFold\n",
    "from sklearn.preprocessing import OneHotEncoder\n",
    "from sklearn.impute import SimpleImputer\n",
    "from sklearn.preprocessing import StandardScaler\n",
    "from sklearn.compose import ColumnTransformer\n",
    "from sklearn.preprocessing import PowerTransformer\n",
    "from sklearn.pipeline import make_pipeline\n",
    "from sklearn.metrics import matthews_corrcoef\n",
    "from ucimlrepo import fetch_ucirepo \n",
    "from sklearn.base import clone\n",
    "import matplotlib.pyplot as plt\n",
    "import seaborn as sns\n",
    "import pandas as pd\n",
    "import numpy as np\n",
    "import warnings\n",
    "import pickle\n",
    "import keras\n",
    "import gc\n",
    "\n",
    "warnings.filterwarnings('ignore')"
   ]
  },
  {
   "cell_type": "code",
   "execution_count": 3,
   "id": "f2968101",
   "metadata": {
    "execution": {
     "iopub.execute_input": "2024-08-08T08:31:24.273113Z",
     "iopub.status.busy": "2024-08-08T08:31:24.272445Z",
     "iopub.status.idle": "2024-08-08T08:31:24.277926Z",
     "shell.execute_reply": "2024-08-08T08:31:24.276763Z"
    },
    "papermill": {
     "duration": 0.015152,
     "end_time": "2024-08-08T08:31:24.280408",
     "exception": false,
     "start_time": "2024-08-08T08:31:24.265256",
     "status": "completed"
    },
    "tags": []
   },
   "outputs": [],
   "source": [
    "TARGET = 'class'\n",
    "N_FOLDS = 5\n",
    "SEED = 6\n",
    "THRESHOLD = 0.507"
   ]
  },
  {
   "cell_type": "markdown",
   "id": "ba82346b",
   "metadata": {
    "papermill": {
     "duration": 0.005585,
     "end_time": "2024-08-08T08:31:24.292263",
     "exception": false,
     "start_time": "2024-08-08T08:31:24.286678",
     "status": "completed"
    },
    "tags": []
   },
   "source": [
    "# Loading Data"
   ]
  },
  {
   "cell_type": "code",
   "execution_count": 4,
   "id": "9dedfa82",
   "metadata": {
    "execution": {
     "iopub.execute_input": "2024-08-08T08:31:24.305790Z",
     "iopub.status.busy": "2024-08-08T08:31:24.305346Z",
     "iopub.status.idle": "2024-08-08T08:31:45.685150Z",
     "shell.execute_reply": "2024-08-08T08:31:45.683919Z"
    },
    "papermill": {
     "duration": 21.39,
     "end_time": "2024-08-08T08:31:45.688159",
     "exception": false,
     "start_time": "2024-08-08T08:31:24.298159",
     "status": "completed"
    },
    "tags": []
   },
   "outputs": [],
   "source": [
    "train = pd.read_csv('/kaggle/input/playground-series-s4e8/train.csv', index_col='id')\n",
    "test = pd.read_csv('/kaggle/input/playground-series-s4e8/test.csv', index_col='id')\n",
    "\n",
    "original = fetch_ucirepo(id=848)['data']['original']"
   ]
  },
  {
   "cell_type": "code",
   "execution_count": 5,
   "id": "427fc213",
   "metadata": {
    "execution": {
     "iopub.execute_input": "2024-08-08T08:31:45.702824Z",
     "iopub.status.busy": "2024-08-08T08:31:45.701842Z",
     "iopub.status.idle": "2024-08-08T08:31:45.710632Z",
     "shell.execute_reply": "2024-08-08T08:31:45.709589Z"
    },
    "papermill": {
     "duration": 0.018456,
     "end_time": "2024-08-08T08:31:45.712967",
     "exception": false,
     "start_time": "2024-08-08T08:31:45.694511",
     "status": "completed"
    },
    "tags": []
   },
   "outputs": [
    {
     "data": {
      "text/plain": [
       "((3116945, 21), (2077964, 20))"
      ]
     },
     "execution_count": 5,
     "metadata": {},
     "output_type": "execute_result"
    }
   ],
   "source": [
    "train.shape, test.shape"
   ]
  },
  {
   "cell_type": "code",
   "execution_count": 6,
   "id": "9022faf7",
   "metadata": {
    "execution": {
     "iopub.execute_input": "2024-08-08T08:31:45.727391Z",
     "iopub.status.busy": "2024-08-08T08:31:45.726610Z",
     "iopub.status.idle": "2024-08-08T08:32:01.723090Z",
     "shell.execute_reply": "2024-08-08T08:32:01.721806Z"
    },
    "papermill": {
     "duration": 16.006967,
     "end_time": "2024-08-08T08:32:01.726057",
     "exception": false,
     "start_time": "2024-08-08T08:31:45.719090",
     "status": "completed"
    },
    "tags": []
   },
   "outputs": [
    {
     "data": {
      "image/png": "[encoded data removed]",
      "text/plain": [
       "<Figure size 1400x500 with 2 Axes>"
      ]
     },
     "metadata": {},
     "output_type": "display_data"
    }
   ],
   "source": [
    "cmap = sns.light_palette('#651FFF', as_cmap=True)\n",
    "\n",
    "train_null_values = train.sample(100_000).drop(columns=TARGET).isnull().T\n",
    "test_null_values = test.sample(100_000).isnull().T\n",
    "\n",
    "fig, axes = plt.subplots(nrows=1, ncols=2, figsize=(14, 5))\n",
    "\n",
    "sns.heatmap(train_null_values, cbar=False, cmap=cmap, ax=axes[0])\n",
    "axes[0].set_title('Train')\n",
    "axes[0].set_xticks([]) \n",
    "axes[0].set_xlabel('')\n",
    "\n",
    "sns.heatmap(test_null_values, cbar=False, cmap=cmap, ax=axes[1])\n",
    "axes[1].set_title('Test')\n",
    "axes[1].set_xticks([]) \n",
    "axes[1].set_xlabel('')\n",
    "\n",
    "plt.tight_layout()\n",
    "plt.show()"
   ]
  },
  {
   "cell_type": "markdown",
   "id": "b1f70652",
   "metadata": {
    "papermill": {
     "duration": 0.007198,
     "end_time": "2024-08-08T08:32:01.740908",
     "exception": false,
     "start_time": "2024-08-08T08:32:01.733710",
     "status": "completed"
    },
    "tags": []
   },
   "source": [
    "# Feature Engineering"
   ]
  },
  {
   "cell_type": "code",
   "execution_count": 7,
   "id": "6c05f025",
   "metadata": {
    "execution": {
     "iopub.execute_input": "2024-08-08T08:32:01.757224Z",
     "iopub.status.busy": "2024-08-08T08:32:01.756761Z",
     "iopub.status.idle": "2024-08-08T08:32:02.220868Z",
     "shell.execute_reply": "2024-08-08T08:32:02.219540Z"
    },
    "papermill": {
     "duration": 0.475427,
     "end_time": "2024-08-08T08:32:02.223706",
     "exception": false,
     "start_time": "2024-08-08T08:32:01.748279",
     "status": "completed"
    },
    "tags": []
   },
   "outputs": [],
   "source": [
    "cat_features = test.select_dtypes('object').columns\n",
    "cont_features = test.select_dtypes('float').columns"
   ]
  },
  {
   "cell_type": "code",
   "execution_count": 8,
   "id": "412e4b61",
   "metadata": {
    "execution": {
     "iopub.execute_input": "2024-08-08T08:32:02.240069Z",
     "iopub.status.busy": "2024-08-08T08:32:02.239633Z",
     "iopub.status.idle": "2024-08-08T08:32:18.707662Z",
     "shell.execute_reply": "2024-08-08T08:32:18.706491Z"
    },
    "papermill": {
     "duration": 16.479514,
     "end_time": "2024-08-08T08:32:18.710550",
     "exception": false,
     "start_time": "2024-08-08T08:32:02.231036",
     "status": "completed"
    },
    "tags": []
   },
   "outputs": [],
   "source": [
    "# Reference: https://www.kaggle.com/code/ambrosm/pss4e8-eda-which-makes-sense\n",
    "for feature in cat_features:          \n",
    "    categories = sorted(list(set(original[feature].dropna())))\n",
    "    dtype = pd.CategoricalDtype(categories=categories, ordered=False)\n",
    "    \n",
    "    train.loc[~train[feature].isin(categories), feature] = np.nan\n",
    "    test.loc[~test[feature].isin(categories), feature] = np.nan\n",
    "    \n",
    "    train[feature] = train[feature].astype(dtype)\n",
    "    test[feature] = test[feature].astype(dtype)"
   ]
  },
  {
   "cell_type": "code",
   "execution_count": 9,
   "id": "109cbb6a",
   "metadata": {
    "execution": {
     "iopub.execute_input": "2024-08-08T08:32:18.727602Z",
     "iopub.status.busy": "2024-08-08T08:32:18.727118Z",
     "iopub.status.idle": "2024-08-08T08:32:18.734207Z",
     "shell.execute_reply": "2024-08-08T08:32:18.733099Z"
    },
    "papermill": {
     "duration": 0.018509,
     "end_time": "2024-08-08T08:32:18.736611",
     "exception": false,
     "start_time": "2024-08-08T08:32:18.718102",
     "status": "completed"
    },
    "tags": []
   },
   "outputs": [],
   "source": [
    "one_hot_encoder = OneHotEncoder(drop='first', sparse_output=False, dtype=np.float32, handle_unknown='infrequent_if_exist', min_frequency=50)\n",
    "step_1 = ('imputer', make_pipeline(PowerTransformer(), SimpleImputer(add_indicator=True)), cont_features)\n",
    "step_2 = ('one-hot-encoder', one_hot_encoder, cat_features)\n",
    "steps = [step_1, step_2]\n",
    "transformer = ColumnTransformer(steps, remainder='passthrough')\n",
    "pipeline = make_pipeline(transformer, StandardScaler())"
   ]
  },
  {
   "cell_type": "code",
   "execution_count": 10,
   "id": "8cfca9e8",
   "metadata": {
    "execution": {
     "iopub.execute_input": "2024-08-08T08:32:18.753095Z",
     "iopub.status.busy": "2024-08-08T08:32:18.752675Z",
     "iopub.status.idle": "2024-08-08T08:32:18.984024Z",
     "shell.execute_reply": "2024-08-08T08:32:18.982711Z"
    },
    "papermill": {
     "duration": 0.242885,
     "end_time": "2024-08-08T08:32:18.986787",
     "exception": false,
     "start_time": "2024-08-08T08:32:18.743902",
     "status": "completed"
    },
    "tags": []
   },
   "outputs": [],
   "source": [
    "X = train.drop([TARGET], axis=1)\n",
    "y = train[TARGET].map({'e': 0, 'p': 1})\n",
    "X_test = test"
   ]
  },
  {
   "cell_type": "code",
   "execution_count": 11,
   "id": "e599e4ea",
   "metadata": {
    "execution": {
     "iopub.execute_input": "2024-08-08T08:32:19.003736Z",
     "iopub.status.busy": "2024-08-08T08:32:19.003116Z",
     "iopub.status.idle": "2024-08-08T08:35:03.079349Z",
     "shell.execute_reply": "2024-08-08T08:35:03.077720Z"
    },
    "papermill": {
     "duration": 164.088446,
     "end_time": "2024-08-08T08:35:03.082703",
     "exception": false,
     "start_time": "2024-08-08T08:32:18.994257",
     "status": "completed"
    },
    "tags": []
   },
   "outputs": [],
   "source": [
    "X = pipeline.fit_transform(X)\n",
    "X_test = pipeline.transform(X_test)"
   ]
  },
  {
   "cell_type": "markdown",
   "id": "a199194a",
   "metadata": {
    "papermill": {
     "duration": 0.007145,
     "end_time": "2024-08-08T08:35:03.097628",
     "exception": false,
     "start_time": "2024-08-08T08:35:03.090483",
     "status": "completed"
    },
    "tags": []
   },
   "source": [
    "# Training"
   ]
  },
  {
   "cell_type": "code",
   "execution_count": 12,
   "id": "7907a176",
   "metadata": {
    "execution": {
     "iopub.execute_input": "2024-08-08T08:35:03.115340Z",
     "iopub.status.busy": "2024-08-08T08:35:03.114229Z",
     "iopub.status.idle": "2024-08-08T08:35:03.133708Z",
     "shell.execute_reply": "2024-08-08T08:35:03.132675Z"
    },
    "papermill": {
     "duration": 0.031433,
     "end_time": "2024-08-08T08:35:03.136554",
     "exception": false,
     "start_time": "2024-08-08T08:35:03.105121",
     "status": "completed"
    },
    "tags": []
   },
   "outputs": [],
   "source": [
    "class Trainer:\n",
    "    def __init__(self, model, n_folds=N_FOLDS):\n",
    "        self.model = model\n",
    "        self.n_folds = n_folds\n",
    "\n",
    "    def fit_predict(self, X, y, X_test):\n",
    "        print(f'Training {self.model.__class__.__name__}\\n')\n",
    "        \n",
    "        scores = []        \n",
    "        oof_pred_probs = np.zeros((X.shape[0], len(np.unique(y))))\n",
    "        test_pred_probs = np.zeros((X_test.shape[0], len(np.unique(y))))\n",
    "        \n",
    "        skf = StratifiedKFold(n_splits=self.n_folds, random_state=SEED, shuffle=True)\n",
    "        for fold_idx, (train_idx, val_idx) in enumerate(skf.split(X, y)):\n",
    "            X_train, X_val = X[train_idx], X[val_idx]\n",
    "            y_train, y_val = y[train_idx], y[val_idx]\n",
    "            \n",
    "            model = clone(self.model)\n",
    "            model.fit(X_train, y_train)\n",
    "            \n",
    "            y_pred_probs = model.predict_proba(X_val)\n",
    "            oof_pred_probs[val_idx] = y_pred_probs    \n",
    "            y_preds = y_pred_probs[:, 1] >= THRESHOLD\n",
    "            \n",
    "            score = matthews_corrcoef(y_val, y_preds)\n",
    "            scores.append(score)\n",
    "            \n",
    "            temp_test_pred_probs = model.predict_proba(X_test)\n",
    "            test_pred_probs += temp_test_pred_probs / self.n_folds\n",
    "            \n",
    "            del model, X_train, y_train, X_val, y_val, y_pred_probs, temp_test_pred_probs\n",
    "            gc.collect()\n",
    "            \n",
    "            print(f'\\n--- Fold {fold_idx + 1} - MCC: {score:.6f}\\n')            \n",
    "            \n",
    "        self._save_pred_probs(oof_pred_probs, np.mean(scores), 'oof')\n",
    "        self._save_pred_probs(test_pred_probs, np.mean(scores), 'test')\n",
    "        self._save_submission(test_pred_probs, np.mean(scores))\n",
    "        print(f'\\n------ Average MCC: {np.mean(scores):.6f} ± {np.std(scores):.6f}')\n",
    "        \n",
    "    def _save_pred_probs(self, pred_probs, cv_score, name):\n",
    "        model_name = self.model.__class__.__name__.lower().replace('classifier', '')\n",
    "        with open(f'{model_name}_{name}_pred_probs_{cv_score:.6f}.pkl', 'wb') as f:\n",
    "            pickle.dump(pred_probs, f)\n",
    "    \n",
    "    def _save_submission(self, test_pred_probs, score):\n",
    "        name = self.model.__class__.__name__.lower().replace('classifier', '')\n",
    "        sub = pd.read_csv('/kaggle/input/playground-series-s4e8/sample_submission.csv')\n",
    "        sub[TARGET] = test_pred_probs[:, 1] >= THRESHOLD\n",
    "        sub[TARGET] = sub[TARGET].map({False: 'e', True: 'p'})\n",
    "        sub.to_csv(f'sub_{name}_{score:.6f}.csv', index=False)"
   ]
  },
  {
   "cell_type": "code",
   "execution_count": 13,
   "id": "e130d3dc",
   "metadata": {
    "execution": {
     "iopub.execute_input": "2024-08-08T08:35:03.154283Z",
     "iopub.status.busy": "2024-08-08T08:35:03.153864Z",
     "iopub.status.idle": "2024-08-08T08:35:03.199440Z",
     "shell.execute_reply": "2024-08-08T08:35:03.198287Z"
    },
    "papermill": {
     "duration": 0.057633,
     "end_time": "2024-08-08T08:35:03.202499",
     "exception": false,
     "start_time": "2024-08-08T08:35:03.144866",
     "status": "completed"
    },
    "tags": []
   },
   "outputs": [],
   "source": [
    "# Reference: https://www.kaggle.com/code/ambrosm/pss4e8-eda-which-makes-sense\n",
    "\n",
    "def get_model(meta):\n",
    "    model = keras.models.Sequential()\n",
    "    model.add(keras.layers.Input(meta['X_shape_'][1:]))\n",
    "    model.add(keras.layers.Dense(356, activation='relu'))\n",
    "    model.add(keras.layers.Dropout(0.1))\n",
    "    model.add(keras.layers.Dense(514, activation='relu'))\n",
    "    model.add(keras.layers.Dropout(0.15))\n",
    "    model.add(keras.layers.Dense(262, activation='relu'))\n",
    "    model.add(keras.layers.Dropout(0.3))\n",
    "    model.add(keras.layers.Dense(1, activation='sigmoid'))\n",
    "    return model\n",
    "\n",
    "model = KerasClassifier(\n",
    "    get_model,\n",
    "    loss='binary_crossentropy',\n",
    "    optimizer=keras.optimizers.Adam(learning_rate=0.00304),\n",
    "    validation_split=0.05,\n",
    "    batch_size=16384,\n",
    "    validation_batch_size=65536,\n",
    "    epochs=50,\n",
    "    verbose=1,\n",
    "    callbacks=[\n",
    "        keras.callbacks.ReduceLROnPlateau(patience=3),\n",
    "        keras.callbacks.EarlyStopping(patience=5, min_delta=0.00003)\n",
    "    ]\n",
    ")"
   ]
  },
  {
   "cell_type": "code",
   "execution_count": 14,
   "id": "06a121ac",
   "metadata": {
    "_kg_hide-output": true,
    "execution": {
     "iopub.execute_input": "2024-08-08T08:35:03.219538Z",
     "iopub.status.busy": "2024-08-08T08:35:03.219095Z",
     "iopub.status.idle": "2024-08-08T10:48:56.437818Z",
     "shell.execute_reply": "2024-08-08T10:48:56.436137Z"
    },
    "papermill": {
     "duration": 8033.230523,
     "end_time": "2024-08-08T10:48:56.440695",
     "exception": false,
     "start_time": "2024-08-08T08:35:03.210172",
     "status": "completed"
    },
    "tags": []
   },
   "outputs": [
    {
     "name": "stdout",
     "output_type": "stream",
     "text": [
      "Training KerasClassifier\n",
      "\n",
      "Epoch 1/50\n",
      "\u001b[1m145/145\u001b[0m \u001b[32m━━━━━━━━━━━━━━━━━━━━\u001b[0m\u001b[37m\u001b[0m \u001b[1m67s\u001b[0m 452ms/step - loss: 0.2619 - val_loss: 0.0415 - learning_rate: 0.0030\n",
      "Epoch 2/50\n",
      "\u001b[1m145/145\u001b[0m \u001b[32m━━━━━━━━━━━━━━━━━━━━\u001b[0m\u001b[37m\u001b[0m \u001b[1m65s\u001b[0m 444ms/step - loss: 0.0443 - val_loss: 0.0399 - learning_rate: 0.0030\n",
      "Epoch 3/50\n",
      "\u001b[1m145/145\u001b[0m \u001b[32m━━━━━━━━━━━━━━━━━━━━\u001b[0m\u001b[37m\u001b[0m \u001b[1m64s\u001b[0m 444ms/step - loss: 0.0411 - val_loss: 0.0386 - learning_rate: 0.0030\n",
      "Epoch 4/50\n",
      "\u001b[1m145/145\u001b[0m \u001b[32m━━━━━━━━━━━━━━━━━━━━\u001b[0m\u001b[37m\u001b[0m \u001b[1m64s\u001b[0m 442ms/step - loss: 0.0401 - val_loss: 0.0383 - learning_rate: 0.0030\n",
      "Epoch 5/50\n",
      "\u001b[1m145/145\u001b[0m \u001b[32m━━━━━━━━━━━━━━━━━━━━\u001b[0m\u001b[37m\u001b[0m \u001b[1m65s\u001b[0m 446ms/step - loss: 0.0392 - val_loss: 0.0379 - learning_rate: 0.0030\n",
      "Epoch 6/50\n",
      "\u001b[1m145/145\u001b[0m \u001b[32m━━━━━━━━━━━━━━━━━━━━\u001b[0m\u001b[37m\u001b[0m \u001b[1m64s\u001b[0m 440ms/step - loss: 0.0394 - val_loss: 0.0378 - learning_rate: 0.0030\n",
      "Epoch 7/50\n",
      "\u001b[1m145/145\u001b[0m \u001b[32m━━━━━━━━━━━━━━━━━━━━\u001b[0m\u001b[37m\u001b[0m \u001b[1m83s\u001b[0m 450ms/step - loss: 0.0391 - val_loss: 0.0375 - learning_rate: 0.0030\n",
      "Epoch 8/50\n",
      "\u001b[1m145/145\u001b[0m \u001b[32m━━━━━━━━━━━━━━━━━━━━\u001b[0m\u001b[37m\u001b[0m \u001b[1m66s\u001b[0m 453ms/step - loss: 0.0384 - val_loss: 0.0374 - learning_rate: 0.0030\n",
      "Epoch 9/50\n",
      "\u001b[1m145/145\u001b[0m \u001b[32m━━━━━━━━━━━━━━━━━━━━\u001b[0m\u001b[37m\u001b[0m \u001b[1m81s\u001b[0m 448ms/step - loss: 0.0387 - val_loss: 0.0374 - learning_rate: 0.0030\n",
      "Epoch 10/50\n",
      "\u001b[1m145/145\u001b[0m \u001b[32m━━━━━━━━━━━━━━━━━━━━\u001b[0m\u001b[37m\u001b[0m \u001b[1m65s\u001b[0m 449ms/step - loss: 0.0379 - val_loss: 0.0373 - learning_rate: 0.0030\n",
      "Epoch 11/50\n",
      "\u001b[1m145/145\u001b[0m \u001b[32m━━━━━━━━━━━━━━━━━━━━\u001b[0m\u001b[37m\u001b[0m \u001b[1m66s\u001b[0m 451ms/step - loss: 0.0378 - val_loss: 0.0373 - learning_rate: 0.0030\n",
      "Epoch 12/50\n",
      "\u001b[1m145/145\u001b[0m \u001b[32m━━━━━━━━━━━━━━━━━━━━\u001b[0m\u001b[37m\u001b[0m \u001b[1m65s\u001b[0m 450ms/step - loss: 0.0369 - val_loss: 0.0369 - learning_rate: 0.0030\n",
      "Epoch 13/50\n",
      "\u001b[1m145/145\u001b[0m \u001b[32m━━━━━━━━━━━━━━━━━━━━\u001b[0m\u001b[37m\u001b[0m \u001b[1m66s\u001b[0m 454ms/step - loss: 0.0374 - val_loss: 0.0372 - learning_rate: 0.0030\n",
      "Epoch 14/50\n",
      "\u001b[1m145/145\u001b[0m \u001b[32m━━━━━━━━━━━━━━━━━━━━\u001b[0m\u001b[37m\u001b[0m \u001b[1m66s\u001b[0m 457ms/step - loss: 0.0375 - val_loss: 0.0371 - learning_rate: 0.0030\n",
      "Epoch 15/50\n",
      "\u001b[1m145/145\u001b[0m \u001b[32m━━━━━━━━━━━━━━━━━━━━\u001b[0m\u001b[37m\u001b[0m \u001b[1m82s\u001b[0m 455ms/step - loss: 0.0368 - val_loss: 0.0377 - learning_rate: 0.0030\n",
      "Epoch 16/50\n",
      "\u001b[1m145/145\u001b[0m \u001b[32m━━━━━━━━━━━━━━━━━━━━\u001b[0m\u001b[37m\u001b[0m \u001b[1m67s\u001b[0m 458ms/step - loss: 0.0361 - val_loss: 0.0363 - learning_rate: 3.0400e-04\n",
      "Epoch 17/50\n",
      "\u001b[1m145/145\u001b[0m \u001b[32m━━━━━━━━━━━━━━━━━━━━\u001b[0m\u001b[37m\u001b[0m \u001b[1m66s\u001b[0m 455ms/step - loss: 0.0361 - val_loss: 0.0363 - learning_rate: 3.0400e-04\n",
      "Epoch 18/50\n",
      "\u001b[1m145/145\u001b[0m \u001b[32m━━━━━━━━━━━━━━━━━━━━\u001b[0m\u001b[37m\u001b[0m \u001b[1m66s\u001b[0m 458ms/step - loss: 0.0349 - val_loss: 0.0362 - learning_rate: 3.0400e-04\n",
      "Epoch 19/50\n",
      "\u001b[1m145/145\u001b[0m \u001b[32m━━━━━━━━━━━━━━━━━━━━\u001b[0m\u001b[37m\u001b[0m \u001b[1m67s\u001b[0m 459ms/step - loss: 0.0348 - val_loss: 0.0362 - learning_rate: 3.0400e-04\n",
      "Epoch 20/50\n",
      "\u001b[1m145/145\u001b[0m \u001b[32m━━━━━━━━━━━━━━━━━━━━\u001b[0m\u001b[37m\u001b[0m \u001b[1m81s\u001b[0m 454ms/step - loss: 0.0349 - val_loss: 0.0362 - learning_rate: 3.0400e-04\n",
      "Epoch 21/50\n",
      "\u001b[1m145/145\u001b[0m \u001b[32m━━━━━━━━━━━━━━━━━━━━\u001b[0m\u001b[37m\u001b[0m \u001b[1m65s\u001b[0m 445ms/step - loss: 0.0348 - val_loss: 0.0362 - learning_rate: 3.0400e-04\n",
      "Epoch 22/50\n",
      "\u001b[1m145/145\u001b[0m \u001b[32m━━━━━━━━━━━━━━━━━━━━\u001b[0m\u001b[37m\u001b[0m \u001b[1m65s\u001b[0m 446ms/step - loss: 0.0349 - val_loss: 0.0362 - learning_rate: 3.0400e-04\n",
      "Epoch 23/50\n",
      "\u001b[1m145/145\u001b[0m \u001b[32m━━━━━━━━━━━━━━━━━━━━\u001b[0m\u001b[37m\u001b[0m \u001b[1m64s\u001b[0m 444ms/step - loss: 0.0349 - val_loss: 0.0362 - learning_rate: 3.0400e-05\n",
      "Epoch 24/50\n",
      "\u001b[1m145/145\u001b[0m \u001b[32m━━━━━━━━━━━━━━━━━━━━\u001b[0m\u001b[37m\u001b[0m \u001b[1m65s\u001b[0m 448ms/step - loss: 0.0347 - val_loss: 0.0362 - learning_rate: 3.0400e-05\n",
      "Epoch 25/50\n",
      "\u001b[1m145/145\u001b[0m \u001b[32m━━━━━━━━━━━━━━━━━━━━\u001b[0m\u001b[37m\u001b[0m \u001b[1m65s\u001b[0m 446ms/step - loss: 0.0343 - val_loss: 0.0362 - learning_rate: 3.0400e-05\n",
      "Epoch 26/50\n",
      "\u001b[1m145/145\u001b[0m \u001b[32m━━━━━━━━━━━━━━━━━━━━\u001b[0m\u001b[37m\u001b[0m \u001b[1m82s\u001b[0m 448ms/step - loss: 0.0345 - val_loss: 0.0362 - learning_rate: 3.0400e-06\n",
      "Epoch 27/50\n",
      "\u001b[1m145/145\u001b[0m \u001b[32m━━━━━━━━━━━━━━━━━━━━\u001b[0m\u001b[37m\u001b[0m \u001b[1m66s\u001b[0m 455ms/step - loss: 0.0347 - val_loss: 0.0362 - learning_rate: 3.0400e-06\n",
      "Epoch 28/50\n",
      "\u001b[1m145/145\u001b[0m \u001b[32m━━━━━━━━━━━━━━━━━━━━\u001b[0m\u001b[37m\u001b[0m \u001b[1m66s\u001b[0m 454ms/step - loss: 0.0345 - val_loss: 0.0362 - learning_rate: 3.0400e-06\n",
      "\u001b[1m39/39\u001b[0m \u001b[32m━━━━━━━━━━━━━━━━━━━━\u001b[0m\u001b[37m\u001b[0m \u001b[1m5s\u001b[0m 119ms/step\n",
      "\u001b[1m127/127\u001b[0m \u001b[32m━━━━━━━━━━━━━━━━━━━━\u001b[0m\u001b[37m\u001b[0m \u001b[1m16s\u001b[0m 122ms/step\n",
      "\n",
      "--- Fold 1 - MCC: 0.984034\n",
      "\n",
      "Epoch 1/50\n",
      "\u001b[1m145/145\u001b[0m \u001b[32m━━━━━━━━━━━━━━━━━━━━\u001b[0m\u001b[37m\u001b[0m \u001b[1m68s\u001b[0m 459ms/step - loss: 0.3330 - val_loss: 0.0439 - learning_rate: 0.0030\n",
      "Epoch 2/50\n",
      "\u001b[1m145/145\u001b[0m \u001b[32m━━━━━━━━━━━━━━━━━━━━\u001b[0m\u001b[37m\u001b[0m \u001b[1m66s\u001b[0m 456ms/step - loss: 0.0450 - val_loss: 0.0408 - learning_rate: 0.0030\n",
      "Epoch 3/50\n",
      "\u001b[1m145/145\u001b[0m \u001b[32m━━━━━━━━━━━━━━━━━━━━\u001b[0m\u001b[37m\u001b[0m \u001b[1m82s\u001b[0m 459ms/step - loss: 0.0424 - val_loss: 0.0402 - learning_rate: 0.0030\n",
      "Epoch 4/50\n",
      "\u001b[1m145/145\u001b[0m \u001b[32m━━━━━━━━━━━━━━━━━━━━\u001b[0m\u001b[37m\u001b[0m \u001b[1m67s\u001b[0m 458ms/step - loss: 0.0410 - val_loss: 0.0394 - learning_rate: 0.0030\n",
      "Epoch 5/50\n",
      "\u001b[1m145/145\u001b[0m \u001b[32m━━━━━━━━━━━━━━━━━━━━\u001b[0m\u001b[37m\u001b[0m \u001b[1m81s\u001b[0m 454ms/step - loss: 0.0398 - val_loss: 0.0392 - learning_rate: 0.0030\n",
      "Epoch 6/50\n",
      "\u001b[1m145/145\u001b[0m \u001b[32m━━━━━━━━━━━━━━━━━━━━\u001b[0m\u001b[37m\u001b[0m \u001b[1m66s\u001b[0m 456ms/step - loss: 0.0398 - val_loss: 0.0390 - learning_rate: 0.0030\n",
      "Epoch 7/50\n",
      "\u001b[1m145/145\u001b[0m \u001b[32m━━━━━━━━━━━━━━━━━━━━\u001b[0m\u001b[37m\u001b[0m \u001b[1m67s\u001b[0m 458ms/step - loss: 0.0393 - val_loss: 0.0384 - learning_rate: 0.0030\n",
      "Epoch 8/50\n",
      "\u001b[1m145/145\u001b[0m \u001b[32m━━━━━━━━━━━━━━━━━━━━\u001b[0m\u001b[37m\u001b[0m \u001b[1m66s\u001b[0m 456ms/step - loss: 0.0389 - val_loss: 0.0384 - learning_rate: 0.0030\n",
      "Epoch 9/50\n",
      "\u001b[1m145/145\u001b[0m \u001b[32m━━━━━━━━━━━━━━━━━━━━\u001b[0m\u001b[37m\u001b[0m \u001b[1m66s\u001b[0m 457ms/step - loss: 0.0384 - val_loss: 0.0386 - learning_rate: 0.0030\n",
      "Epoch 10/50\n",
      "\u001b[1m145/145\u001b[0m \u001b[32m━━━━━━━━━━━━━━━━━━━━\u001b[0m\u001b[37m\u001b[0m \u001b[1m67s\u001b[0m 459ms/step - loss: 0.0384 - val_loss: 0.0387 - learning_rate: 0.0030\n",
      "Epoch 11/50\n",
      "\u001b[1m145/145\u001b[0m \u001b[32m━━━━━━━━━━━━━━━━━━━━\u001b[0m\u001b[37m\u001b[0m \u001b[1m66s\u001b[0m 453ms/step - loss: 0.0376 - val_loss: 0.0373 - learning_rate: 3.0400e-04\n",
      "Epoch 12/50\n",
      "\u001b[1m145/145\u001b[0m \u001b[32m━━━━━━━━━━━━━━━━━━━━\u001b[0m\u001b[37m\u001b[0m \u001b[1m67s\u001b[0m 459ms/step - loss: 0.0369 - val_loss: 0.0373 - learning_rate: 3.0400e-04\n",
      "Epoch 13/50\n",
      "\u001b[1m145/145\u001b[0m \u001b[32m━━━━━━━━━━━━━━━━━━━━\u001b[0m\u001b[37m\u001b[0m \u001b[1m82s\u001b[0m 459ms/step - loss: 0.0367 - val_loss: 0.0372 - learning_rate: 3.0400e-04\n",
      "Epoch 14/50\n",
      "\u001b[1m145/145\u001b[0m \u001b[32m━━━━━━━━━━━━━━━━━━━━\u001b[0m\u001b[37m\u001b[0m \u001b[1m67s\u001b[0m 458ms/step - loss: 0.0368 - val_loss: 0.0373 - learning_rate: 3.0400e-04\n",
      "Epoch 15/50\n",
      "\u001b[1m145/145\u001b[0m \u001b[32m━━━━━━━━━━━━━━━━━━━━\u001b[0m\u001b[37m\u001b[0m \u001b[1m67s\u001b[0m 458ms/step - loss: 0.0366 - val_loss: 0.0373 - learning_rate: 3.0400e-04\n",
      "Epoch 16/50\n",
      "\u001b[1m145/145\u001b[0m \u001b[32m━━━━━━━━━━━━━━━━━━━━\u001b[0m\u001b[37m\u001b[0m \u001b[1m66s\u001b[0m 456ms/step - loss: 0.0366 - val_loss: 0.0373 - learning_rate: 3.0400e-04\n",
      "Epoch 17/50\n",
      "\u001b[1m145/145\u001b[0m \u001b[32m━━━━━━━━━━━━━━━━━━━━\u001b[0m\u001b[37m\u001b[0m \u001b[1m66s\u001b[0m 457ms/step - loss: 0.0361 - val_loss: 0.0372 - learning_rate: 3.0400e-05\n",
      "Epoch 18/50\n",
      "\u001b[1m145/145\u001b[0m \u001b[32m━━━━━━━━━━━━━━━━━━━━\u001b[0m\u001b[37m\u001b[0m \u001b[1m66s\u001b[0m 457ms/step - loss: 0.0363 - val_loss: 0.0372 - learning_rate: 3.0400e-05\n",
      "Epoch 19/50\n",
      "\u001b[1m145/145\u001b[0m \u001b[32m━━━━━━━━━━━━━━━━━━━━\u001b[0m\u001b[37m\u001b[0m \u001b[1m66s\u001b[0m 457ms/step - loss: 0.0358 - val_loss: 0.0372 - learning_rate: 3.0400e-05\n",
      "Epoch 20/50\n",
      "\u001b[1m145/145\u001b[0m \u001b[32m━━━━━━━━━━━━━━━━━━━━\u001b[0m\u001b[37m\u001b[0m \u001b[1m67s\u001b[0m 458ms/step - loss: 0.0368 - val_loss: 0.0372 - learning_rate: 3.0400e-06\n",
      "Epoch 21/50\n",
      "\u001b[1m145/145\u001b[0m \u001b[32m━━━━━━━━━━━━━━━━━━━━\u001b[0m\u001b[37m\u001b[0m \u001b[1m66s\u001b[0m 457ms/step - loss: 0.0361 - val_loss: 0.0372 - learning_rate: 3.0400e-06\n",
      "Epoch 22/50\n",
      "\u001b[1m145/145\u001b[0m \u001b[32m━━━━━━━━━━━━━━━━━━━━\u001b[0m\u001b[37m\u001b[0m \u001b[1m66s\u001b[0m 457ms/step - loss: 0.0363 - val_loss: 0.0372 - learning_rate: 3.0400e-06\n",
      "\u001b[1m39/39\u001b[0m \u001b[32m━━━━━━━━━━━━━━━━━━━━\u001b[0m\u001b[37m\u001b[0m \u001b[1m6s\u001b[0m 158ms/step\n",
      "\u001b[1m127/127\u001b[0m \u001b[32m━━━━━━━━━━━━━━━━━━━━\u001b[0m\u001b[37m\u001b[0m \u001b[1m17s\u001b[0m 136ms/step\n",
      "\n",
      "--- Fold 2 - MCC: 0.984383\n",
      "\n",
      "Epoch 1/50\n",
      "\u001b[1m145/145\u001b[0m \u001b[32m━━━━━━━━━━━━━━━━━━━━\u001b[0m\u001b[37m\u001b[0m \u001b[1m68s\u001b[0m 460ms/step - loss: 0.2378 - val_loss: 0.0423 - learning_rate: 0.0030\n",
      "Epoch 2/50\n",
      "\u001b[1m145/145\u001b[0m \u001b[32m━━━━━━━━━━━━━━━━━━━━\u001b[0m\u001b[37m\u001b[0m \u001b[1m69s\u001b[0m 474ms/step - loss: 0.0434 - val_loss: 0.0399 - learning_rate: 0.0030\n",
      "Epoch 3/50\n",
      "\u001b[1m145/145\u001b[0m \u001b[32m━━━━━━━━━━━━━━━━━━━━\u001b[0m\u001b[37m\u001b[0m \u001b[1m67s\u001b[0m 458ms/step - loss: 0.0405 - val_loss: 0.0403 - learning_rate: 0.0030\n",
      "Epoch 4/50\n",
      "\u001b[1m145/145\u001b[0m \u001b[32m━━━━━━━━━━━━━━━━━━━━\u001b[0m\u001b[37m\u001b[0m \u001b[1m66s\u001b[0m 457ms/step - loss: 0.0398 - val_loss: 0.0393 - learning_rate: 0.0030\n",
      "Epoch 5/50\n",
      "\u001b[1m145/145\u001b[0m \u001b[32m━━━━━━━━━━━━━━━━━━━━\u001b[0m\u001b[37m\u001b[0m \u001b[1m66s\u001b[0m 455ms/step - loss: 0.0395 - val_loss: 0.0389 - learning_rate: 0.0030\n",
      "Epoch 6/50\n",
      "\u001b[1m145/145\u001b[0m \u001b[32m━━━━━━━━━━━━━━━━━━━━\u001b[0m\u001b[37m\u001b[0m \u001b[1m67s\u001b[0m 462ms/step - loss: 0.0388 - val_loss: 0.0383 - learning_rate: 0.0030\n",
      "Epoch 7/50\n",
      "\u001b[1m145/145\u001b[0m \u001b[32m━━━━━━━━━━━━━━━━━━━━\u001b[0m\u001b[37m\u001b[0m \u001b[1m65s\u001b[0m 451ms/step - loss: 0.0383 - val_loss: 0.0386 - learning_rate: 0.0030\n",
      "Epoch 8/50\n",
      "\u001b[1m145/145\u001b[0m \u001b[32m━━━━━━━━━━━━━━━━━━━━\u001b[0m\u001b[37m\u001b[0m \u001b[1m65s\u001b[0m 451ms/step - loss: 0.0383 - val_loss: 0.0382 - learning_rate: 0.0030\n",
      "Epoch 9/50\n",
      "\u001b[1m145/145\u001b[0m \u001b[32m━━━━━━━━━━━━━━━━━━━━\u001b[0m\u001b[37m\u001b[0m \u001b[1m74s\u001b[0m 508ms/step - loss: 0.0380 - val_loss: 0.0387 - learning_rate: 0.0030\n",
      "Epoch 10/50\n",
      "\u001b[1m145/145\u001b[0m \u001b[32m━━━━━━━━━━━━━━━━━━━━\u001b[0m\u001b[37m\u001b[0m \u001b[1m66s\u001b[0m 451ms/step - loss: 0.0369 - val_loss: 0.0375 - learning_rate: 3.0400e-04\n",
      "Epoch 11/50\n",
      "\u001b[1m145/145\u001b[0m \u001b[32m━━━━━━━━━━━━━━━━━━━━\u001b[0m\u001b[37m\u001b[0m \u001b[1m65s\u001b[0m 449ms/step - loss: 0.0362 - val_loss: 0.0375 - learning_rate: 3.0400e-04\n",
      "Epoch 12/50\n",
      "\u001b[1m145/145\u001b[0m \u001b[32m━━━━━━━━━━━━━━━━━━━━\u001b[0m\u001b[37m\u001b[0m \u001b[1m66s\u001b[0m 451ms/step - loss: 0.0361 - val_loss: 0.0374 - learning_rate: 3.0400e-04\n",
      "Epoch 13/50\n",
      "\u001b[1m145/145\u001b[0m \u001b[32m━━━━━━━━━━━━━━━━━━━━\u001b[0m\u001b[37m\u001b[0m \u001b[1m65s\u001b[0m 449ms/step - loss: 0.0361 - val_loss: 0.0374 - learning_rate: 3.0400e-04\n",
      "Epoch 14/50\n",
      "\u001b[1m145/145\u001b[0m \u001b[32m━━━━━━━━━━━━━━━━━━━━\u001b[0m\u001b[37m\u001b[0m \u001b[1m65s\u001b[0m 450ms/step - loss: 0.0358 - val_loss: 0.0374 - learning_rate: 3.0400e-04\n",
      "Epoch 15/50\n",
      "\u001b[1m145/145\u001b[0m \u001b[32m━━━━━━━━━━━━━━━━━━━━\u001b[0m\u001b[37m\u001b[0m \u001b[1m66s\u001b[0m 455ms/step - loss: 0.0360 - val_loss: 0.0373 - learning_rate: 3.0400e-04\n",
      "Epoch 16/50\n",
      "\u001b[1m145/145\u001b[0m \u001b[32m━━━━━━━━━━━━━━━━━━━━\u001b[0m\u001b[37m\u001b[0m \u001b[1m67s\u001b[0m 458ms/step - loss: 0.0359 - val_loss: 0.0374 - learning_rate: 3.0400e-04\n",
      "Epoch 17/50\n",
      "\u001b[1m145/145\u001b[0m \u001b[32m━━━━━━━━━━━━━━━━━━━━\u001b[0m\u001b[37m\u001b[0m \u001b[1m68s\u001b[0m 466ms/step - loss: 0.0356 - val_loss: 0.0373 - learning_rate: 3.0400e-05\n",
      "Epoch 18/50\n",
      "\u001b[1m145/145\u001b[0m \u001b[32m━━━━━━━━━━━━━━━━━━━━\u001b[0m\u001b[37m\u001b[0m \u001b[1m66s\u001b[0m 453ms/step - loss: 0.0357 - val_loss: 0.0373 - learning_rate: 3.0400e-05\n",
      "Epoch 19/50\n",
      "\u001b[1m145/145\u001b[0m \u001b[32m━━━━━━━━━━━━━━━━━━━━\u001b[0m\u001b[37m\u001b[0m \u001b[1m82s\u001b[0m 453ms/step - loss: 0.0357 - val_loss: 0.0373 - learning_rate: 3.0400e-05\n",
      "Epoch 20/50\n",
      "\u001b[1m145/145\u001b[0m \u001b[32m━━━━━━━━━━━━━━━━━━━━\u001b[0m\u001b[37m\u001b[0m \u001b[1m66s\u001b[0m 454ms/step - loss: 0.0359 - val_loss: 0.0373 - learning_rate: 3.0400e-05\n",
      "Epoch 21/50\n",
      "\u001b[1m145/145\u001b[0m \u001b[32m━━━━━━━━━━━━━━━━━━━━\u001b[0m\u001b[37m\u001b[0m \u001b[1m66s\u001b[0m 454ms/step - loss: 0.0358 - val_loss: 0.0373 - learning_rate: 3.0400e-05\n",
      "Epoch 22/50\n",
      "\u001b[1m145/145\u001b[0m \u001b[32m━━━━━━━━━━━━━━━━━━━━\u001b[0m\u001b[37m\u001b[0m \u001b[1m66s\u001b[0m 455ms/step - loss: 0.0356 - val_loss: 0.0373 - learning_rate: 3.0400e-05\n",
      "Epoch 23/50\n",
      "\u001b[1m145/145\u001b[0m \u001b[32m━━━━━━━━━━━━━━━━━━━━\u001b[0m\u001b[37m\u001b[0m \u001b[1m83s\u001b[0m 459ms/step - loss: 0.0358 - val_loss: 0.0373 - learning_rate: 3.0400e-06\n",
      "Epoch 24/50\n",
      "\u001b[1m145/145\u001b[0m \u001b[32m━━━━━━━━━━━━━━━━━━━━\u001b[0m\u001b[37m\u001b[0m \u001b[1m82s\u001b[0m 459ms/step - loss: 0.0354 - val_loss: 0.0373 - learning_rate: 3.0400e-06\n",
      "Epoch 25/50\n",
      "\u001b[1m145/145\u001b[0m \u001b[32m━━━━━━━━━━━━━━━━━━━━\u001b[0m\u001b[37m\u001b[0m \u001b[1m67s\u001b[0m 460ms/step - loss: 0.0357 - val_loss: 0.0373 - learning_rate: 3.0400e-06\n",
      "Epoch 26/50\n",
      "\u001b[1m145/145\u001b[0m \u001b[32m━━━━━━━━━━━━━━━━━━━━\u001b[0m\u001b[37m\u001b[0m \u001b[1m67s\u001b[0m 458ms/step - loss: 0.0355 - val_loss: 0.0373 - learning_rate: 3.0400e-07\n",
      "\u001b[1m39/39\u001b[0m \u001b[32m━━━━━━━━━━━━━━━━━━━━\u001b[0m\u001b[37m\u001b[0m \u001b[1m5s\u001b[0m 134ms/step\n",
      "\u001b[1m127/127\u001b[0m \u001b[32m━━━━━━━━━━━━━━━━━━━━\u001b[0m\u001b[37m\u001b[0m \u001b[1m16s\u001b[0m 127ms/step\n",
      "\n",
      "--- Fold 3 - MCC: 0.984069\n",
      "\n",
      "Epoch 1/50\n",
      "\u001b[1m145/145\u001b[0m \u001b[32m━━━━━━━━━━━━━━━━━━━━\u001b[0m\u001b[37m\u001b[0m \u001b[1m68s\u001b[0m 458ms/step - loss: 0.3198 - val_loss: 0.0450 - learning_rate: 0.0030\n",
      "Epoch 2/50\n",
      "\u001b[1m145/145\u001b[0m \u001b[32m━━━━━━━━━━━━━━━━━━━━\u001b[0m\u001b[37m\u001b[0m \u001b[1m66s\u001b[0m 455ms/step - loss: 0.0444 - val_loss: 0.0427 - learning_rate: 0.0030\n",
      "Epoch 3/50\n",
      "\u001b[1m145/145\u001b[0m \u001b[32m━━━━━━━━━━━━━━━━━━━━\u001b[0m\u001b[37m\u001b[0m \u001b[1m82s\u001b[0m 456ms/step - loss: 0.0416 - val_loss: 0.0412 - learning_rate: 0.0030\n",
      "Epoch 4/50\n",
      "\u001b[1m145/145\u001b[0m \u001b[32m━━━━━━━━━━━━━━━━━━━━\u001b[0m\u001b[37m\u001b[0m \u001b[1m66s\u001b[0m 458ms/step - loss: 0.0408 - val_loss: 0.0402 - learning_rate: 0.0030\n",
      "Epoch 5/50\n",
      "\u001b[1m145/145\u001b[0m \u001b[32m━━━━━━━━━━━━━━━━━━━━\u001b[0m\u001b[37m\u001b[0m \u001b[1m66s\u001b[0m 455ms/step - loss: 0.0400 - val_loss: 0.0397 - learning_rate: 0.0030\n",
      "Epoch 6/50\n",
      "\u001b[1m145/145\u001b[0m \u001b[32m━━━━━━━━━━━━━━━━━━━━\u001b[0m\u001b[37m\u001b[0m \u001b[1m66s\u001b[0m 455ms/step - loss: 0.0396 - val_loss: 0.0388 - learning_rate: 0.0030\n",
      "Epoch 7/50\n",
      "\u001b[1m145/145\u001b[0m \u001b[32m━━━━━━━━━━━━━━━━━━━━\u001b[0m\u001b[37m\u001b[0m \u001b[1m67s\u001b[0m 462ms/step - loss: 0.0393 - val_loss: 0.0387 - learning_rate: 0.0030\n",
      "Epoch 8/50\n",
      "\u001b[1m145/145\u001b[0m \u001b[32m━━━━━━━━━━━━━━━━━━━━\u001b[0m\u001b[37m\u001b[0m \u001b[1m66s\u001b[0m 455ms/step - loss: 0.0388 - val_loss: 0.0389 - learning_rate: 0.0030\n",
      "Epoch 9/50\n",
      "\u001b[1m145/145\u001b[0m \u001b[32m━━━━━━━━━━━━━━━━━━━━\u001b[0m\u001b[37m\u001b[0m \u001b[1m83s\u001b[0m 461ms/step - loss: 0.0390 - val_loss: 0.0383 - learning_rate: 0.0030\n",
      "Epoch 10/50\n",
      "\u001b[1m145/145\u001b[0m \u001b[32m━━━━━━━━━━━━━━━━━━━━\u001b[0m\u001b[37m\u001b[0m \u001b[1m67s\u001b[0m 459ms/step - loss: 0.0382 - val_loss: 0.0383 - learning_rate: 0.0030\n",
      "Epoch 11/50\n",
      "\u001b[1m145/145\u001b[0m \u001b[32m━━━━━━━━━━━━━━━━━━━━\u001b[0m\u001b[37m\u001b[0m \u001b[1m70s\u001b[0m 480ms/step - loss: 0.0383 - val_loss: 0.0383 - learning_rate: 0.0030\n",
      "Epoch 12/50\n",
      "\u001b[1m145/145\u001b[0m \u001b[32m━━━━━━━━━━━━━━━━━━━━\u001b[0m\u001b[37m\u001b[0m \u001b[1m67s\u001b[0m 458ms/step - loss: 0.0376 - val_loss: 0.0380 - learning_rate: 0.0030\n",
      "Epoch 13/50\n",
      "\u001b[1m145/145\u001b[0m \u001b[32m━━━━━━━━━━━━━━━━━━━━\u001b[0m\u001b[37m\u001b[0m \u001b[1m67s\u001b[0m 459ms/step - loss: 0.0370 - val_loss: 0.0420 - learning_rate: 0.0030\n",
      "Epoch 14/50\n",
      "\u001b[1m145/145\u001b[0m \u001b[32m━━━━━━━━━━━━━━━━━━━━\u001b[0m\u001b[37m\u001b[0m \u001b[1m82s\u001b[0m 457ms/step - loss: 0.0377 - val_loss: 0.0419 - learning_rate: 0.0030\n",
      "Epoch 15/50\n",
      "\u001b[1m145/145\u001b[0m \u001b[32m━━━━━━━━━━━━━━━━━━━━\u001b[0m\u001b[37m\u001b[0m \u001b[1m67s\u001b[0m 460ms/step - loss: 0.0377 - val_loss: 0.0414 - learning_rate: 0.0030\n",
      "Epoch 16/50\n",
      "\u001b[1m145/145\u001b[0m \u001b[32m━━━━━━━━━━━━━━━━━━━━\u001b[0m\u001b[37m\u001b[0m \u001b[1m66s\u001b[0m 456ms/step - loss: 0.0364 - val_loss: 0.0409 - learning_rate: 3.0400e-04\n",
      "Epoch 17/50\n",
      "\u001b[1m145/145\u001b[0m \u001b[32m━━━━━━━━━━━━━━━━━━━━\u001b[0m\u001b[37m\u001b[0m \u001b[1m82s\u001b[0m 457ms/step - loss: 0.0358 - val_loss: 0.0410 - learning_rate: 3.0400e-04\n",
      "\u001b[1m39/39\u001b[0m \u001b[32m━━━━━━━━━━━━━━━━━━━━\u001b[0m\u001b[37m\u001b[0m \u001b[1m5s\u001b[0m 121ms/step\n",
      "\u001b[1m127/127\u001b[0m \u001b[32m━━━━━━━━━━━━━━━━━━━━\u001b[0m\u001b[37m\u001b[0m \u001b[1m16s\u001b[0m 123ms/step\n",
      "\n",
      "--- Fold 4 - MCC: 0.984128\n",
      "\n",
      "Epoch 1/50\n",
      "\u001b[1m145/145\u001b[0m \u001b[32m━━━━━━━━━━━━━━━━━━━━\u001b[0m\u001b[37m\u001b[0m \u001b[1m68s\u001b[0m 459ms/step - loss: 0.3086 - val_loss: 0.0439 - learning_rate: 0.0030\n",
      "Epoch 2/50\n",
      "\u001b[1m145/145\u001b[0m \u001b[32m━━━━━━━━━━━━━━━━━━━━\u001b[0m\u001b[37m\u001b[0m \u001b[1m66s\u001b[0m 455ms/step - loss: 0.0447 - val_loss: 0.0393 - learning_rate: 0.0030\n",
      "Epoch 3/50\n",
      "\u001b[1m145/145\u001b[0m \u001b[32m━━━━━━━━━━━━━━━━━━━━\u001b[0m\u001b[37m\u001b[0m \u001b[1m66s\u001b[0m 451ms/step - loss: 0.0417 - val_loss: 0.0400 - learning_rate: 0.0030\n",
      "Epoch 4/50\n",
      "\u001b[1m145/145\u001b[0m \u001b[32m━━━━━━━━━━━━━━━━━━━━\u001b[0m\u001b[37m\u001b[0m \u001b[1m82s\u001b[0m 454ms/step - loss: 0.0410 - val_loss: 0.0386 - learning_rate: 0.0030\n",
      "Epoch 5/50\n",
      "\u001b[1m145/145\u001b[0m \u001b[32m━━━━━━━━━━━━━━━━━━━━\u001b[0m\u001b[37m\u001b[0m \u001b[1m67s\u001b[0m 458ms/step - loss: 0.0398 - val_loss: 0.0380 - learning_rate: 0.0030\n",
      "Epoch 6/50\n",
      "\u001b[1m145/145\u001b[0m \u001b[32m━━━━━━━━━━━━━━━━━━━━\u001b[0m\u001b[37m\u001b[0m \u001b[1m82s\u001b[0m 457ms/step - loss: 0.0389 - val_loss: 0.0375 - learning_rate: 0.0030\n",
      "Epoch 7/50\n",
      "\u001b[1m145/145\u001b[0m \u001b[32m━━━━━━━━━━━━━━━━━━━━\u001b[0m\u001b[37m\u001b[0m \u001b[1m68s\u001b[0m 469ms/step - loss: 0.0388 - val_loss: 0.0378 - learning_rate: 0.0030\n",
      "Epoch 8/50\n",
      "\u001b[1m145/145\u001b[0m \u001b[32m━━━━━━━━━━━━━━━━━━━━\u001b[0m\u001b[37m\u001b[0m \u001b[1m80s\u001b[0m 456ms/step - loss: 0.0386 - val_loss: 0.0375 - learning_rate: 0.0030\n",
      "Epoch 9/50\n",
      "\u001b[1m145/145\u001b[0m \u001b[32m━━━━━━━━━━━━━━━━━━━━\u001b[0m\u001b[37m\u001b[0m \u001b[1m66s\u001b[0m 454ms/step - loss: 0.0383 - val_loss: 0.0371 - learning_rate: 0.0030\n",
      "Epoch 10/50\n",
      "\u001b[1m145/145\u001b[0m \u001b[32m━━━━━━━━━━━━━━━━━━━━\u001b[0m\u001b[37m\u001b[0m \u001b[1m67s\u001b[0m 462ms/step - loss: 0.0378 - val_loss: 0.0373 - learning_rate: 0.0030\n",
      "Epoch 11/50\n",
      "\u001b[1m145/145\u001b[0m \u001b[32m━━━━━━━━━━━━━━━━━━━━\u001b[0m\u001b[37m\u001b[0m \u001b[1m66s\u001b[0m 457ms/step - loss: 0.0382 - val_loss: 0.0374 - learning_rate: 0.0030\n",
      "Epoch 12/50\n",
      "\u001b[1m145/145\u001b[0m \u001b[32m━━━━━━━━━━━━━━━━━━━━\u001b[0m\u001b[37m\u001b[0m \u001b[1m66s\u001b[0m 456ms/step - loss: 0.0375 - val_loss: 0.0372 - learning_rate: 0.0030\n",
      "Epoch 13/50\n",
      "\u001b[1m145/145\u001b[0m \u001b[32m━━━━━━━━━━━━━━━━━━━━\u001b[0m\u001b[37m\u001b[0m \u001b[1m66s\u001b[0m 456ms/step - loss: 0.0371 - val_loss: 0.0363 - learning_rate: 3.0400e-04\n",
      "Epoch 14/50\n",
      "\u001b[1m145/145\u001b[0m \u001b[32m━━━━━━━━━━━━━━━━━━━━\u001b[0m\u001b[37m\u001b[0m \u001b[1m68s\u001b[0m 469ms/step - loss: 0.0362 - val_loss: 0.0363 - learning_rate: 3.0400e-04\n",
      "Epoch 15/50\n",
      "\u001b[1m145/145\u001b[0m \u001b[32m━━━━━━━━━━━━━━━━━━━━\u001b[0m\u001b[37m\u001b[0m \u001b[1m67s\u001b[0m 458ms/step - loss: 0.0364 - val_loss: 0.0363 - learning_rate: 3.0400e-04\n",
      "Epoch 16/50\n",
      "\u001b[1m145/145\u001b[0m \u001b[32m━━━━━━━━━━━━━━━━━━━━\u001b[0m\u001b[37m\u001b[0m \u001b[1m67s\u001b[0m 458ms/step - loss: 0.0359 - val_loss: 0.0362 - learning_rate: 3.0400e-04\n",
      "Epoch 17/50\n",
      "\u001b[1m145/145\u001b[0m \u001b[32m━━━━━━━━━━━━━━━━━━━━\u001b[0m\u001b[37m\u001b[0m \u001b[1m68s\u001b[0m 468ms/step - loss: 0.0355 - val_loss: 0.0362 - learning_rate: 3.0400e-05\n",
      "Epoch 18/50\n",
      "\u001b[1m145/145\u001b[0m \u001b[32m━━━━━━━━━━━━━━━━━━━━\u001b[0m\u001b[37m\u001b[0m \u001b[1m67s\u001b[0m 458ms/step - loss: 0.0358 - val_loss: 0.0362 - learning_rate: 3.0400e-05\n",
      "Epoch 19/50\n",
      "\u001b[1m145/145\u001b[0m \u001b[32m━━━━━━━━━━━━━━━━━━━━\u001b[0m\u001b[37m\u001b[0m \u001b[1m67s\u001b[0m 458ms/step - loss: 0.0354 - val_loss: 0.0362 - learning_rate: 3.0400e-05\n",
      "Epoch 20/50\n",
      "\u001b[1m145/145\u001b[0m \u001b[32m━━━━━━━━━━━━━━━━━━━━\u001b[0m\u001b[37m\u001b[0m \u001b[1m67s\u001b[0m 458ms/step - loss: 0.0355 - val_loss: 0.0362 - learning_rate: 3.0400e-06\n",
      "Epoch 21/50\n",
      "\u001b[1m145/145\u001b[0m \u001b[32m━━━━━━━━━━━━━━━━━━━━\u001b[0m\u001b[37m\u001b[0m \u001b[1m67s\u001b[0m 463ms/step - loss: 0.0356 - val_loss: 0.0362 - learning_rate: 3.0400e-06\n",
      "\u001b[1m39/39\u001b[0m \u001b[32m━━━━━━━━━━━━━━━━━━━━\u001b[0m\u001b[37m\u001b[0m \u001b[1m5s\u001b[0m 117ms/step\n",
      "\u001b[1m127/127\u001b[0m \u001b[32m━━━━━━━━━━━━━━━━━━━━\u001b[0m\u001b[37m\u001b[0m \u001b[1m16s\u001b[0m 125ms/step\n",
      "\n",
      "--- Fold 5 - MCC: 0.984227\n",
      "\n",
      "\n",
      "------ Average MCC: 0.984168 ± 0.000126\n"
     ]
    }
   ],
   "source": [
    "trainer = Trainer(model)\n",
    "trainer.fit_predict(X, y, X_test)"
   ]
  }
 ],
 "metadata": {
  "kaggle": {
   "accelerator": "none",
   "dataSources": [
    {
     "databundleVersionId": 9045607,
     "sourceId": 76727,
     "sourceType": "competition"
    }
   ],
   "dockerImageVersionId": 30746,
   "isGpuEnabled": false,
   "isInternetEnabled": true,
   "language": "python",
   "sourceType": "notebook"
  },
  "kernelspec": {
   "display_name": "Python 3",
   "language": "python",
   "name": "python3"
  },
  "language_info": {
   "codemirror_mode": {
    "name": "ipython",
    "version": 3
   },
   "file_extension": ".py",
   "mimetype": "text/x-python",
   "name": "python",
   "nbconvert_exporter": "python",
   "pygments_lexer": "ipython3",
   "version": "3.10.13"
  },
  "papermill": {
   "default_parameters": {},
   "duration": 8316.426522,
   "end_time": "2024-08-08T10:49:00.996998",
   "environment_variables": {},
   "exception": null,
   "input_path": "__notebook__.ipynb",
   "output_path": "__notebook__.ipynb",
   "parameters": {},
   "start_time": "2024-08-08T08:30:24.570476",
   "version": "2.5.0"
  }
 },
 "nbformat": 4,
 "nbformat_minor": 5
}
