{
 "cells": [
  {
   "cell_type": "markdown",
   "id": "3517c3ad",
   "metadata": {
    "papermill": {
     "duration": 0.00653,
     "end_time": "2024-08-05T12:14:16.332614",
     "exception": false,
     "start_time": "2024-08-05T12:14:16.326084",
     "status": "completed"
    },
    "tags": []
   },
   "source": [
    "# Imports and Configs"
   ]
  },
  {
   "cell_type": "code",
   "execution_count": 1,
   "id": "33145270",
   "metadata": {
    "_kg_hide-output": true,
    "execution": {
     "iopub.execute_input": "2024-08-05T12:14:16.345576Z",
     "iopub.status.busy": "2024-08-05T12:14:16.345196Z",
     "iopub.status.idle": "2024-08-05T12:14:40.825976Z",
     "shell.execute_reply": "2024-08-05T12:14:40.824407Z"
    },
    "papermill": {
     "duration": 24.490656,
     "end_time": "2024-08-05T12:14:40.829124",
     "exception": false,
     "start_time": "2024-08-05T12:14:16.338468",
     "status": "completed"
    },
    "tags": []
   },
   "outputs": [
    {
     "name": "stdout",
     "output_type": "stream",
     "text": [
      "\u001b[31mERROR: pip's dependency resolver does not currently take into account all the packages that are installed. This behaviour is the source of the following dependency conflicts.\r\n",
      "spaghetti 1.7.6 requires shapely>=2.0.1, but you have shapely 1.8.5.post1 which is incompatible.\r\n",
      "spopt 0.6.1 requires shapely>=2.0.1, but you have shapely 1.8.5.post1 which is incompatible.\u001b[0m\u001b[31m\r\n",
      "\u001b[0m"
     ]
    }
   ],
   "source": [
    "!pip install -q scikit-learn==1.4\n",
    "!pip install -q --no-deps scikeras"
   ]
  },
  {
   "cell_type": "code",
   "execution_count": 2,
   "id": "54b6af2d",
   "metadata": {
    "_cell_guid": "b1076dfc-b9ad-4769-8c92-a6c4dae69d19",
    "_kg_hide-output": true,
    "_uuid": "8f2839f25d086af736a60e9eeb907d3b93b6e0e5",
    "execution": {
     "iopub.execute_input": "2024-08-05T12:14:40.842685Z",
     "iopub.status.busy": "2024-08-05T12:14:40.842278Z",
     "iopub.status.idle": "2024-08-05T12:14:58.748998Z",
     "shell.execute_reply": "2024-08-05T12:14:58.747796Z"
    },
    "papermill": {
     "duration": 17.91698,
     "end_time": "2024-08-05T12:14:58.751847",
     "exception": false,
     "start_time": "2024-08-05T12:14:40.834867",
     "status": "completed"
    },
    "tags": []
   },
   "outputs": [
    {
     "name": "stderr",
     "output_type": "stream",
     "text": [
      "2024-08-05 12:14:43.485740: E external/local_xla/xla/stream_executor/cuda/cuda_dnn.cc:9261] Unable to register cuDNN factory: Attempting to register factory for plugin cuDNN when one has already been registered\n",
      "2024-08-05 12:14:43.485870: E external/local_xla/xla/stream_executor/cuda/cuda_fft.cc:607] Unable to register cuFFT factory: Attempting to register factory for plugin cuFFT when one has already been registered\n",
      "2024-08-05 12:14:43.674029: E external/local_xla/xla/stream_executor/cuda/cuda_blas.cc:1515] Unable to register cuBLAS factory: Attempting to register factory for plugin cuBLAS when one has already been registered\n"
     ]
    }
   ],
   "source": [
    "from scikeras.wrappers import KerasClassifier\n",
    "from sklearn.model_selection import StratifiedKFold\n",
    "from sklearn.preprocessing import OneHotEncoder\n",
    "from sklearn.impute import SimpleImputer\n",
    "from sklearn.preprocessing import StandardScaler\n",
    "from sklearn.compose import ColumnTransformer\n",
    "from sklearn.preprocessing import PowerTransformer\n",
    "from sklearn.pipeline import make_pipeline\n",
    "from sklearn.metrics import matthews_corrcoef\n",
    "from sklearn.base import clone\n",
    "import matplotlib.pyplot as plt\n",
    "import seaborn as sns\n",
    "import pandas as pd\n",
    "import numpy as np\n",
    "import warnings\n",
    "import pickle\n",
    "import keras\n",
    "import gc\n",
    "\n",
    "warnings.filterwarnings('ignore')"
   ]
  },
  {
   "cell_type": "code",
   "execution_count": 3,
   "id": "b9a569ac",
   "metadata": {
    "execution": {
     "iopub.execute_input": "2024-08-05T12:14:58.765598Z",
     "iopub.status.busy": "2024-08-05T12:14:58.764917Z",
     "iopub.status.idle": "2024-08-05T12:14:58.770378Z",
     "shell.execute_reply": "2024-08-05T12:14:58.769273Z"
    },
    "papermill": {
     "duration": 0.015367,
     "end_time": "2024-08-05T12:14:58.773086",
     "exception": false,
     "start_time": "2024-08-05T12:14:58.757719",
     "status": "completed"
    },
    "tags": []
   },
   "outputs": [],
   "source": [
    "TARGET = 'class'\n",
    "N_FOLDS = 5\n",
    "SEED = 6"
   ]
  },
  {
   "cell_type": "markdown",
   "id": "d4d8fd55",
   "metadata": {
    "papermill": {
     "duration": 0.005681,
     "end_time": "2024-08-05T12:14:58.784793",
     "exception": false,
     "start_time": "2024-08-05T12:14:58.779112",
     "status": "completed"
    },
    "tags": []
   },
   "source": [
    "# Loading Data"
   ]
  },
  {
   "cell_type": "code",
   "execution_count": 4,
   "id": "8a66f551",
   "metadata": {
    "execution": {
     "iopub.execute_input": "2024-08-05T12:14:58.798247Z",
     "iopub.status.busy": "2024-08-05T12:14:58.797838Z",
     "iopub.status.idle": "2024-08-05T12:15:18.044528Z",
     "shell.execute_reply": "2024-08-05T12:15:18.043361Z"
    },
    "papermill": {
     "duration": 19.25667,
     "end_time": "2024-08-05T12:15:18.047349",
     "exception": false,
     "start_time": "2024-08-05T12:14:58.790679",
     "status": "completed"
    },
    "tags": []
   },
   "outputs": [],
   "source": [
    "train = pd.read_csv('/kaggle/input/playground-series-s4e8/train.csv', index_col='id')\n",
    "test = pd.read_csv('/kaggle/input/playground-series-s4e8/test.csv', index_col='id')"
   ]
  },
  {
   "cell_type": "code",
   "execution_count": 5,
   "id": "34479926",
   "metadata": {
    "execution": {
     "iopub.execute_input": "2024-08-05T12:15:18.061233Z",
     "iopub.status.busy": "2024-08-05T12:15:18.060801Z",
     "iopub.status.idle": "2024-08-05T12:15:18.069686Z",
     "shell.execute_reply": "2024-08-05T12:15:18.068616Z"
    },
    "papermill": {
     "duration": 0.018715,
     "end_time": "2024-08-05T12:15:18.072097",
     "exception": false,
     "start_time": "2024-08-05T12:15:18.053382",
     "status": "completed"
    },
    "tags": []
   },
   "outputs": [
    {
     "data": {
      "text/plain": [
       "((3116945, 21), (2077964, 20))"
      ]
     },
     "execution_count": 5,
     "metadata": {},
     "output_type": "execute_result"
    }
   ],
   "source": [
    "train.shape, test.shape"
   ]
  },
  {
   "cell_type": "code",
   "execution_count": 6,
   "id": "a6b565cd",
   "metadata": {
    "execution": {
     "iopub.execute_input": "2024-08-05T12:15:18.085962Z",
     "iopub.status.busy": "2024-08-05T12:15:18.085565Z",
     "iopub.status.idle": "2024-08-05T12:15:34.526205Z",
     "shell.execute_reply": "2024-08-05T12:15:34.525067Z"
    },
    "papermill": {
     "duration": 16.450541,
     "end_time": "2024-08-05T12:15:34.528808",
     "exception": false,
     "start_time": "2024-08-05T12:15:18.078267",
     "status": "completed"
    },
    "tags": []
   },
   "outputs": [
    {
     "data": {
      "image/png": "[encoded data removed]",
      "text/plain": [
       "<Figure size 1400x500 with 2 Axes>"
      ]
     },
     "metadata": {},
     "output_type": "display_data"
    }
   ],
   "source": [
    "cmap = sns.light_palette('#651FFF', as_cmap=True)\n",
    "\n",
    "train_null_values = train.sample(100_000).drop(columns=TARGET).isnull().T\n",
    "test_null_values = test.sample(100_000).isnull().T\n",
    "\n",
    "fig, axes = plt.subplots(nrows=1, ncols=2, figsize=(14, 5))\n",
    "\n",
    "sns.heatmap(train_null_values, cbar=False, cmap=cmap, ax=axes[0])\n",
    "axes[0].set_title('Train')\n",
    "axes[0].set_xticks([]) \n",
    "axes[0].set_xlabel('')\n",
    "\n",
    "sns.heatmap(test_null_values, cbar=False, cmap=cmap, ax=axes[1])\n",
    "axes[1].set_title('Test')\n",
    "axes[1].set_xticks([]) \n",
    "axes[1].set_xlabel('')\n",
    "\n",
    "plt.tight_layout()\n",
    "plt.show()"
   ]
  },
  {
   "cell_type": "markdown",
   "id": "fcd93fcc",
   "metadata": {
    "papermill": {
     "duration": 0.00821,
     "end_time": "2024-08-05T12:15:34.544293",
     "exception": false,
     "start_time": "2024-08-05T12:15:34.536083",
     "status": "completed"
    },
    "tags": []
   },
   "source": [
    "# Feature Engineering"
   ]
  },
  {
   "cell_type": "code",
   "execution_count": 7,
   "id": "54759880",
   "metadata": {
    "execution": {
     "iopub.execute_input": "2024-08-05T12:15:34.560490Z",
     "iopub.status.busy": "2024-08-05T12:15:34.560054Z",
     "iopub.status.idle": "2024-08-05T12:15:35.023214Z",
     "shell.execute_reply": "2024-08-05T12:15:35.021969Z"
    },
    "papermill": {
     "duration": 0.474611,
     "end_time": "2024-08-05T12:15:35.026051",
     "exception": false,
     "start_time": "2024-08-05T12:15:34.551440",
     "status": "completed"
    },
    "tags": []
   },
   "outputs": [],
   "source": [
    "cat_features = test.select_dtypes('object').columns\n",
    "cont_features = test.select_dtypes('float').columns"
   ]
  },
  {
   "cell_type": "code",
   "execution_count": 8,
   "id": "cd4f0440",
   "metadata": {
    "execution": {
     "iopub.execute_input": "2024-08-05T12:15:35.042302Z",
     "iopub.status.busy": "2024-08-05T12:15:35.041871Z",
     "iopub.status.idle": "2024-08-05T12:15:51.677253Z",
     "shell.execute_reply": "2024-08-05T12:15:51.676199Z"
    },
    "papermill": {
     "duration": 16.646579,
     "end_time": "2024-08-05T12:15:51.679992",
     "exception": false,
     "start_time": "2024-08-05T12:15:35.033413",
     "status": "completed"
    },
    "tags": []
   },
   "outputs": [],
   "source": [
    "for feature in cat_features:    \n",
    "    for df in [train, test]:\n",
    "        df.loc[df[feature].value_counts(dropna=False)[df[feature]].values < 100, feature] = 'rare'"
   ]
  },
  {
   "cell_type": "code",
   "execution_count": 9,
   "id": "81a66118",
   "metadata": {
    "execution": {
     "iopub.execute_input": "2024-08-05T12:15:51.696609Z",
     "iopub.status.busy": "2024-08-05T12:15:51.696198Z",
     "iopub.status.idle": "2024-08-05T12:15:51.703980Z",
     "shell.execute_reply": "2024-08-05T12:15:51.702818Z"
    },
    "papermill": {
     "duration": 0.019144,
     "end_time": "2024-08-05T12:15:51.706552",
     "exception": false,
     "start_time": "2024-08-05T12:15:51.687408",
     "status": "completed"
    },
    "tags": []
   },
   "outputs": [],
   "source": [
    "one_hot_encoder = OneHotEncoder(drop='first', sparse_output=False, dtype=np.float32, handle_unknown='infrequent_if_exist', min_frequency=50)\n",
    "step_1 = ('imputer', make_pipeline(PowerTransformer(), SimpleImputer(add_indicator=True)), cont_features)\n",
    "step_2 = ('one-hot-encoder', one_hot_encoder, cat_features)\n",
    "steps = [step_1, step_2]\n",
    "transformer = ColumnTransformer(steps, remainder='passthrough')\n",
    "\n",
    "pipeline = make_pipeline(transformer, StandardScaler())"
   ]
  },
  {
   "cell_type": "code",
   "execution_count": 10,
   "id": "b79be8ae",
   "metadata": {
    "execution": {
     "iopub.execute_input": "2024-08-05T12:15:51.723074Z",
     "iopub.status.busy": "2024-08-05T12:15:51.722594Z",
     "iopub.status.idle": "2024-08-05T12:15:52.557190Z",
     "shell.execute_reply": "2024-08-05T12:15:52.555861Z"
    },
    "papermill": {
     "duration": 0.846011,
     "end_time": "2024-08-05T12:15:52.560013",
     "exception": false,
     "start_time": "2024-08-05T12:15:51.714002",
     "status": "completed"
    },
    "tags": []
   },
   "outputs": [],
   "source": [
    "X = train.drop([TARGET], axis=1)\n",
    "y = train[TARGET].map({'e': 0, 'p': 1})\n",
    "X_test = test"
   ]
  },
  {
   "cell_type": "code",
   "execution_count": 11,
   "id": "1e1c7f9a",
   "metadata": {
    "execution": {
     "iopub.execute_input": "2024-08-05T12:15:52.577055Z",
     "iopub.status.busy": "2024-08-05T12:15:52.576604Z",
     "iopub.status.idle": "2024-08-05T12:18:35.318354Z",
     "shell.execute_reply": "2024-08-05T12:18:35.317098Z"
    },
    "papermill": {
     "duration": 162.753896,
     "end_time": "2024-08-05T12:18:35.321325",
     "exception": false,
     "start_time": "2024-08-05T12:15:52.567429",
     "status": "completed"
    },
    "tags": []
   },
   "outputs": [],
   "source": [
    "X = pipeline.fit_transform(X)\n",
    "X_test = pipeline.transform(X_test)"
   ]
  },
  {
   "cell_type": "markdown",
   "id": "fddd6b49",
   "metadata": {
    "papermill": {
     "duration": 0.007046,
     "end_time": "2024-08-05T12:18:35.336100",
     "exception": false,
     "start_time": "2024-08-05T12:18:35.329054",
     "status": "completed"
    },
    "tags": []
   },
   "source": [
    "# Training"
   ]
  },
  {
   "cell_type": "code",
   "execution_count": 12,
   "id": "9677aa98",
   "metadata": {
    "execution": {
     "iopub.execute_input": "2024-08-05T12:18:35.353018Z",
     "iopub.status.busy": "2024-08-05T12:18:35.352569Z",
     "iopub.status.idle": "2024-08-05T12:18:35.370302Z",
     "shell.execute_reply": "2024-08-05T12:18:35.369108Z"
    },
    "papermill": {
     "duration": 0.029315,
     "end_time": "2024-08-05T12:18:35.372922",
     "exception": false,
     "start_time": "2024-08-05T12:18:35.343607",
     "status": "completed"
    },
    "tags": []
   },
   "outputs": [],
   "source": [
    "class Trainer:\n",
    "    def __init__(self, model, n_folds=N_FOLDS):\n",
    "        self.model = model\n",
    "        self.n_folds = n_folds\n",
    "\n",
    "    def fit_predict(self, X, y, X_test):\n",
    "        print(f'Training {self.model.__class__.__name__}\\n')\n",
    "        \n",
    "        scores = []        \n",
    "        oof_pred_probs = np.zeros((X.shape[0], len(np.unique(y))))\n",
    "        test_pred_probs = np.zeros((X_test.shape[0], len(np.unique(y))))\n",
    "        \n",
    "        skf = StratifiedKFold(n_splits=self.n_folds, random_state=SEED, shuffle=True)\n",
    "        for fold_idx, (train_idx, val_idx) in enumerate(skf.split(X, y)):\n",
    "            X_train, X_val = X[train_idx], X[val_idx]\n",
    "            y_train, y_val = y[train_idx], y[val_idx]\n",
    "            \n",
    "            model = clone(self.model)\n",
    "            model.fit(X_train, y_train)\n",
    "            \n",
    "            y_pred_probs = model.predict_proba(X_val)\n",
    "            oof_pred_probs[val_idx] = y_pred_probs            \n",
    "            \n",
    "            score = matthews_corrcoef(y_val, np.argmax(y_pred_probs, axis=1))\n",
    "            scores.append(score)\n",
    "            \n",
    "            temp_test_pred_probs = model.predict_proba(X_test)\n",
    "            test_pred_probs += temp_test_pred_probs / self.n_folds\n",
    "            \n",
    "            del model, X_train, y_train, X_val, y_val, y_pred_probs, temp_test_pred_probs\n",
    "            gc.collect()\n",
    "            \n",
    "            print(f'\\n--- Fold {fold_idx + 1} - MCC: {score:.6f}\\n')            \n",
    "            \n",
    "        self._save_pred_probs(oof_pred_probs, np.mean(scores), 'oof')\n",
    "        self._save_pred_probs(test_pred_probs, np.mean(scores), 'test')\n",
    "        self._save_submission(test_pred_probs, np.mean(scores))\n",
    "        print(f'\\n\\n------ Average MCC: {np.mean(scores):.6f} ± {np.std(scores):.6f}')\n",
    "        \n",
    "    def _save_pred_probs(self, pred_probs, cv_score, name):\n",
    "        model_name = self.model.__class__.__name__.lower().replace('classifier', '')\n",
    "        with open(f'{model_name}_{name}_pred_probs_{cv_score:.6f}.pkl', 'wb') as f:\n",
    "            pickle.dump(pred_probs, f)\n",
    "    \n",
    "    def _save_submission(self, test_pred_probs, score):\n",
    "        name = self.model.__class__.__name__.lower().replace('classifier', '')\n",
    "        sub = pd.read_csv('/kaggle/input/playground-series-s4e8/sample_submission.csv')\n",
    "        sub[TARGET] = np.argmax(test_pred_probs, axis=1)\n",
    "        sub[TARGET] = sub[TARGET].map({0: 'e', 1: 'p'})\n",
    "        sub.to_csv(f'sub_{name}_{score:.6f}.csv', index=False)"
   ]
  },
  {
   "cell_type": "code",
   "execution_count": 13,
   "id": "653422e4",
   "metadata": {
    "execution": {
     "iopub.execute_input": "2024-08-05T12:18:35.389597Z",
     "iopub.status.busy": "2024-08-05T12:18:35.389228Z",
     "iopub.status.idle": "2024-08-05T12:18:35.435111Z",
     "shell.execute_reply": "2024-08-05T12:18:35.434063Z"
    },
    "papermill": {
     "duration": 0.057598,
     "end_time": "2024-08-05T12:18:35.438022",
     "exception": false,
     "start_time": "2024-08-05T12:18:35.380424",
     "status": "completed"
    },
    "tags": []
   },
   "outputs": [],
   "source": [
    "# Reference: https://www.kaggle.com/code/ambrosm/pss4e8-eda-which-makes-sense\n",
    "\n",
    "def get_model(meta):\n",
    "    model = keras.models.Sequential()\n",
    "    model.add(keras.layers.Input(meta['X_shape_'][1:]))\n",
    "    model.add(keras.layers.Dense(470, activation='elu', kernel_initializer=\"truncated_normal\"))\n",
    "    model.add(keras.layers.Dropout(0.1))\n",
    "    model.add(keras.layers.Dense(33, activation='elu', kernel_initializer=\"truncated_normal\"))\n",
    "    model.add(keras.layers.Dropout(0))\n",
    "    model.add(keras.layers.Dense(196, activation='elu', kernel_initializer=\"truncated_normal\"))\n",
    "    model.add(keras.layers.Dropout(0))\n",
    "    model.add(keras.layers.Dense(1, activation='sigmoid'))\n",
    "    return model\n",
    "\n",
    "model = KerasClassifier(\n",
    "    get_model,\n",
    "    loss='binary_crossentropy',\n",
    "    optimizer=keras.optimizers.Adam(learning_rate=0.009691784618989),\n",
    "    validation_split=0.05,\n",
    "    batch_size=8192,\n",
    "    validation_batch_size=65536,\n",
    "    epochs=50,\n",
    "    verbose=1,\n",
    "    callbacks=[\n",
    "        keras.callbacks.ReduceLROnPlateau(patience=3),\n",
    "        keras.callbacks.EarlyStopping(patience=5, min_delta=0.00003)\n",
    "    ]\n",
    ")"
   ]
  },
  {
   "cell_type": "code",
   "execution_count": 14,
   "id": "d143a7e4",
   "metadata": {
    "_kg_hide-output": true,
    "execution": {
     "iopub.execute_input": "2024-08-05T12:18:35.455064Z",
     "iopub.status.busy": "2024-08-05T12:18:35.454628Z",
     "iopub.status.idle": "2024-08-05T13:11:22.910985Z",
     "shell.execute_reply": "2024-08-05T13:11:22.909078Z"
    },
    "papermill": {
     "duration": 3167.468125,
     "end_time": "2024-08-05T13:11:22.913874",
     "exception": false,
     "start_time": "2024-08-05T12:18:35.445749",
     "status": "completed"
    },
    "tags": []
   },
   "outputs": [
    {
     "name": "stdout",
     "output_type": "stream",
     "text": [
      "Training KerasClassifier\n",
      "\n",
      "Epoch 1/50\n",
      "\u001b[1m290/290\u001b[0m \u001b[32m━━━━━━━━━━━━━━━━━━━━\u001b[0m\u001b[37m\u001b[0m \u001b[1m23s\u001b[0m 72ms/step - loss: 0.1282 - val_loss: 0.0422 - learning_rate: 0.0097\n",
      "Epoch 2/50\n",
      "\u001b[1m290/290\u001b[0m \u001b[32m━━━━━━━━━━━━━━━━━━━━\u001b[0m\u001b[37m\u001b[0m \u001b[1m21s\u001b[0m 71ms/step - loss: 0.0423 - val_loss: 0.0400 - learning_rate: 0.0097\n",
      "Epoch 3/50\n",
      "\u001b[1m290/290\u001b[0m \u001b[32m━━━━━━━━━━━━━━━━━━━━\u001b[0m\u001b[37m\u001b[0m \u001b[1m41s\u001b[0m 71ms/step - loss: 0.0409 - val_loss: 0.0401 - learning_rate: 0.0097\n",
      "Epoch 4/50\n",
      "\u001b[1m290/290\u001b[0m \u001b[32m━━━━━━━━━━━━━━━━━━━━\u001b[0m\u001b[37m\u001b[0m \u001b[1m41s\u001b[0m 70ms/step - loss: 0.0406 - val_loss: 0.0395 - learning_rate: 0.0097\n",
      "Epoch 5/50\n",
      "\u001b[1m290/290\u001b[0m \u001b[32m━━━━━━━━━━━━━━━━━━━━\u001b[0m\u001b[37m\u001b[0m \u001b[1m21s\u001b[0m 72ms/step - loss: 0.0402 - val_loss: 0.0388 - learning_rate: 0.0097\n",
      "Epoch 6/50\n",
      "\u001b[1m290/290\u001b[0m \u001b[32m━━━━━━━━━━━━━━━━━━━━\u001b[0m\u001b[37m\u001b[0m \u001b[1m40s\u001b[0m 70ms/step - loss: 0.0395 - val_loss: 0.0396 - learning_rate: 0.0097\n",
      "Epoch 7/50\n",
      "\u001b[1m290/290\u001b[0m \u001b[32m━━━━━━━━━━━━━━━━━━━━\u001b[0m\u001b[37m\u001b[0m \u001b[1m21s\u001b[0m 71ms/step - loss: 0.0390 - val_loss: 0.0407 - learning_rate: 0.0097\n",
      "Epoch 8/50\n",
      "\u001b[1m290/290\u001b[0m \u001b[32m━━━━━━━━━━━━━━━━━━━━\u001b[0m\u001b[37m\u001b[0m \u001b[1m21s\u001b[0m 71ms/step - loss: 0.0393 - val_loss: 0.0387 - learning_rate: 0.0097\n",
      "Epoch 9/50\n",
      "\u001b[1m290/290\u001b[0m \u001b[32m━━━━━━━━━━━━━━━━━━━━\u001b[0m\u001b[37m\u001b[0m \u001b[1m20s\u001b[0m 70ms/step - loss: 0.0372 - val_loss: 0.0374 - learning_rate: 9.6918e-04\n",
      "Epoch 10/50\n",
      "\u001b[1m290/290\u001b[0m \u001b[32m━━━━━━━━━━━━━━━━━━━━\u001b[0m\u001b[37m\u001b[0m \u001b[1m21s\u001b[0m 71ms/step - loss: 0.0369 - val_loss: 0.0371 - learning_rate: 9.6918e-04\n",
      "Epoch 11/50\n",
      "\u001b[1m290/290\u001b[0m \u001b[32m━━━━━━━━━━━━━━━━━━━━\u001b[0m\u001b[37m\u001b[0m \u001b[1m21s\u001b[0m 70ms/step - loss: 0.0366 - val_loss: 0.0370 - learning_rate: 9.6918e-04\n",
      "Epoch 12/50\n",
      "\u001b[1m290/290\u001b[0m \u001b[32m━━━━━━━━━━━━━━━━━━━━\u001b[0m\u001b[37m\u001b[0m \u001b[1m21s\u001b[0m 71ms/step - loss: 0.0364 - val_loss: 0.0370 - learning_rate: 9.6918e-04\n",
      "Epoch 13/50\n",
      "\u001b[1m290/290\u001b[0m \u001b[32m━━━━━━━━━━━━━━━━━━━━\u001b[0m\u001b[37m\u001b[0m \u001b[1m40s\u001b[0m 70ms/step - loss: 0.0363 - val_loss: 0.0370 - learning_rate: 9.6918e-04\n",
      "Epoch 14/50\n",
      "\u001b[1m290/290\u001b[0m \u001b[32m━━━━━━━━━━━━━━━━━━━━\u001b[0m\u001b[37m\u001b[0m \u001b[1m21s\u001b[0m 71ms/step - loss: 0.0361 - val_loss: 0.0368 - learning_rate: 9.6918e-05\n",
      "Epoch 15/50\n",
      "\u001b[1m290/290\u001b[0m \u001b[32m━━━━━━━━━━━━━━━━━━━━\u001b[0m\u001b[37m\u001b[0m \u001b[1m21s\u001b[0m 71ms/step - loss: 0.0360 - val_loss: 0.0368 - learning_rate: 9.6918e-05\n",
      "Epoch 16/50\n",
      "\u001b[1m290/290\u001b[0m \u001b[32m━━━━━━━━━━━━━━━━━━━━\u001b[0m\u001b[37m\u001b[0m \u001b[1m41s\u001b[0m 72ms/step - loss: 0.0362 - val_loss: 0.0368 - learning_rate: 9.6918e-05\n",
      "Epoch 17/50\n",
      "\u001b[1m290/290\u001b[0m \u001b[32m━━━━━━━━━━━━━━━━━━━━\u001b[0m\u001b[37m\u001b[0m \u001b[1m21s\u001b[0m 71ms/step - loss: 0.0359 - val_loss: 0.0368 - learning_rate: 9.6918e-05\n",
      "Epoch 18/50\n",
      "\u001b[1m290/290\u001b[0m \u001b[32m━━━━━━━━━━━━━━━━━━━━\u001b[0m\u001b[37m\u001b[0m \u001b[1m41s\u001b[0m 72ms/step - loss: 0.0360 - val_loss: 0.0368 - learning_rate: 9.6918e-06\n",
      "Epoch 19/50\n",
      "\u001b[1m290/290\u001b[0m \u001b[32m━━━━━━━━━━━━━━━━━━━━\u001b[0m\u001b[37m\u001b[0m \u001b[1m21s\u001b[0m 71ms/step - loss: 0.0356 - val_loss: 0.0368 - learning_rate: 9.6918e-06\n",
      "\u001b[1m77/77\u001b[0m \u001b[32m━━━━━━━━━━━━━━━━━━━━\u001b[0m\u001b[37m\u001b[0m \u001b[1m2s\u001b[0m 24ms/step\n",
      "\u001b[1m254/254\u001b[0m \u001b[32m━━━━━━━━━━━━━━━━━━━━\u001b[0m\u001b[37m\u001b[0m \u001b[1m7s\u001b[0m 26ms/step\n",
      "\n",
      "--- Fold 1 - MCC: 0.983230\n",
      "\n",
      "Epoch 1/50\n",
      "\u001b[1m290/290\u001b[0m \u001b[32m━━━━━━━━━━━━━━━━━━━━\u001b[0m\u001b[37m\u001b[0m \u001b[1m22s\u001b[0m 71ms/step - loss: 0.1359 - val_loss: 0.0444 - learning_rate: 0.0097\n",
      "Epoch 2/50\n",
      "\u001b[1m290/290\u001b[0m \u001b[32m━━━━━━━━━━━━━━━━━━━━\u001b[0m\u001b[37m\u001b[0m \u001b[1m21s\u001b[0m 73ms/step - loss: 0.0432 - val_loss: 0.0423 - learning_rate: 0.0097\n",
      "Epoch 3/50\n",
      "\u001b[1m290/290\u001b[0m \u001b[32m━━━━━━━━━━━━━━━━━━━━\u001b[0m\u001b[37m\u001b[0m \u001b[1m21s\u001b[0m 72ms/step - loss: 0.0411 - val_loss: 0.0408 - learning_rate: 0.0097\n",
      "Epoch 4/50\n",
      "\u001b[1m290/290\u001b[0m \u001b[32m━━━━━━━━━━━━━━━━━━━━\u001b[0m\u001b[37m\u001b[0m \u001b[1m41s\u001b[0m 73ms/step - loss: 0.0406 - val_loss: 0.0408 - learning_rate: 0.0097\n",
      "Epoch 5/50\n",
      "\u001b[1m290/290\u001b[0m \u001b[32m━━━━━━━━━━━━━━━━━━━━\u001b[0m\u001b[37m\u001b[0m \u001b[1m41s\u001b[0m 71ms/step - loss: 0.0402 - val_loss: 0.0406 - learning_rate: 0.0097\n",
      "Epoch 6/50\n",
      "\u001b[1m290/290\u001b[0m \u001b[32m━━━━━━━━━━━━━━━━━━━━\u001b[0m\u001b[37m\u001b[0m \u001b[1m21s\u001b[0m 73ms/step - loss: 0.0397 - val_loss: 0.0414 - learning_rate: 0.0097\n",
      "Epoch 7/50\n",
      "\u001b[1m290/290\u001b[0m \u001b[32m━━━━━━━━━━━━━━━━━━━━\u001b[0m\u001b[37m\u001b[0m \u001b[1m21s\u001b[0m 73ms/step - loss: 0.0397 - val_loss: 0.0405 - learning_rate: 0.0097\n",
      "Epoch 8/50\n",
      "\u001b[1m290/290\u001b[0m \u001b[32m━━━━━━━━━━━━━━━━━━━━\u001b[0m\u001b[37m\u001b[0m \u001b[1m21s\u001b[0m 71ms/step - loss: 0.0391 - val_loss: 0.0400 - learning_rate: 0.0097\n",
      "Epoch 9/50\n",
      "\u001b[1m290/290\u001b[0m \u001b[32m━━━━━━━━━━━━━━━━━━━━\u001b[0m\u001b[37m\u001b[0m \u001b[1m41s\u001b[0m 72ms/step - loss: 0.0390 - val_loss: 0.0409 - learning_rate: 0.0097\n",
      "Epoch 10/50\n",
      "\u001b[1m290/290\u001b[0m \u001b[32m━━━━━━━━━━━━━━━━━━━━\u001b[0m\u001b[37m\u001b[0m \u001b[1m41s\u001b[0m 73ms/step - loss: 0.0393 - val_loss: 0.0403 - learning_rate: 0.0097\n",
      "Epoch 11/50\n",
      "\u001b[1m290/290\u001b[0m \u001b[32m━━━━━━━━━━━━━━━━━━━━\u001b[0m\u001b[37m\u001b[0m \u001b[1m21s\u001b[0m 72ms/step - loss: 0.0391 - val_loss: 0.0399 - learning_rate: 0.0097\n",
      "Epoch 12/50\n",
      "\u001b[1m290/290\u001b[0m \u001b[32m━━━━━━━━━━━━━━━━━━━━\u001b[0m\u001b[37m\u001b[0m \u001b[1m21s\u001b[0m 72ms/step - loss: 0.0370 - val_loss: 0.0382 - learning_rate: 9.6918e-04\n",
      "Epoch 13/50\n",
      "\u001b[1m290/290\u001b[0m \u001b[32m━━━━━━━━━━━━━━━━━━━━\u001b[0m\u001b[37m\u001b[0m \u001b[1m21s\u001b[0m 73ms/step - loss: 0.0364 - val_loss: 0.0382 - learning_rate: 9.6918e-04\n",
      "Epoch 14/50\n",
      "\u001b[1m290/290\u001b[0m \u001b[32m━━━━━━━━━━━━━━━━━━━━\u001b[0m\u001b[37m\u001b[0m \u001b[1m21s\u001b[0m 71ms/step - loss: 0.0360 - val_loss: 0.0380 - learning_rate: 9.6918e-04\n",
      "Epoch 15/50\n",
      "\u001b[1m290/290\u001b[0m \u001b[32m━━━━━━━━━━━━━━━━━━━━\u001b[0m\u001b[37m\u001b[0m \u001b[1m21s\u001b[0m 73ms/step - loss: 0.0361 - val_loss: 0.0378 - learning_rate: 9.6918e-04\n",
      "Epoch 16/50\n",
      "\u001b[1m290/290\u001b[0m \u001b[32m━━━━━━━━━━━━━━━━━━━━\u001b[0m\u001b[37m\u001b[0m \u001b[1m41s\u001b[0m 72ms/step - loss: 0.0362 - val_loss: 0.0377 - learning_rate: 9.6918e-04\n",
      "Epoch 17/50\n",
      "\u001b[1m290/290\u001b[0m \u001b[32m━━━━━━━━━━━━━━━━━━━━\u001b[0m\u001b[37m\u001b[0m \u001b[1m21s\u001b[0m 72ms/step - loss: 0.0361 - val_loss: 0.0380 - learning_rate: 9.6918e-04\n",
      "Epoch 18/50\n",
      "\u001b[1m290/290\u001b[0m \u001b[32m━━━━━━━━━━━━━━━━━━━━\u001b[0m\u001b[37m\u001b[0m \u001b[1m21s\u001b[0m 73ms/step - loss: 0.0358 - val_loss: 0.0379 - learning_rate: 9.6918e-04\n",
      "Epoch 19/50\n",
      "\u001b[1m290/290\u001b[0m \u001b[32m━━━━━━━━━━━━━━━━━━━━\u001b[0m\u001b[37m\u001b[0m \u001b[1m21s\u001b[0m 72ms/step - loss: 0.0352 - val_loss: 0.0377 - learning_rate: 9.6918e-05\n",
      "Epoch 20/50\n",
      "\u001b[1m290/290\u001b[0m \u001b[32m━━━━━━━━━━━━━━━━━━━━\u001b[0m\u001b[37m\u001b[0m \u001b[1m21s\u001b[0m 71ms/step - loss: 0.0354 - val_loss: 0.0376 - learning_rate: 9.6918e-05\n",
      "Epoch 21/50\n",
      "\u001b[1m290/290\u001b[0m \u001b[32m━━━━━━━━━━━━━━━━━━━━\u001b[0m\u001b[37m\u001b[0m \u001b[1m21s\u001b[0m 73ms/step - loss: 0.0354 - val_loss: 0.0377 - learning_rate: 9.6918e-05\n",
      "Epoch 22/50\n",
      "\u001b[1m290/290\u001b[0m \u001b[32m━━━━━━━━━━━━━━━━━━━━\u001b[0m\u001b[37m\u001b[0m \u001b[1m21s\u001b[0m 71ms/step - loss: 0.0353 - val_loss: 0.0376 - learning_rate: 9.6918e-05\n",
      "Epoch 23/50\n",
      "\u001b[1m290/290\u001b[0m \u001b[32m━━━━━━━━━━━━━━━━━━━━\u001b[0m\u001b[37m\u001b[0m \u001b[1m21s\u001b[0m 72ms/step - loss: 0.0355 - val_loss: 0.0376 - learning_rate: 9.6918e-06\n",
      "Epoch 24/50\n",
      "\u001b[1m290/290\u001b[0m \u001b[32m━━━━━━━━━━━━━━━━━━━━\u001b[0m\u001b[37m\u001b[0m \u001b[1m21s\u001b[0m 73ms/step - loss: 0.0352 - val_loss: 0.0376 - learning_rate: 9.6918e-06\n",
      "Epoch 25/50\n",
      "\u001b[1m290/290\u001b[0m \u001b[32m━━━━━━━━━━━━━━━━━━━━\u001b[0m\u001b[37m\u001b[0m \u001b[1m21s\u001b[0m 72ms/step - loss: 0.0350 - val_loss: 0.0376 - learning_rate: 9.6918e-06\n",
      "\u001b[1m77/77\u001b[0m \u001b[32m━━━━━━━━━━━━━━━━━━━━\u001b[0m\u001b[37m\u001b[0m \u001b[1m2s\u001b[0m 23ms/step\n",
      "\u001b[1m254/254\u001b[0m \u001b[32m━━━━━━━━━━━━━━━━━━━━\u001b[0m\u001b[37m\u001b[0m \u001b[1m6s\u001b[0m 25ms/step\n",
      "\n",
      "--- Fold 2 - MCC: 0.984029\n",
      "\n",
      "Epoch 1/50\n",
      "\u001b[1m290/290\u001b[0m \u001b[32m━━━━━━━━━━━━━━━━━━━━\u001b[0m\u001b[37m\u001b[0m \u001b[1m23s\u001b[0m 75ms/step - loss: 0.1181 - val_loss: 0.0441 - learning_rate: 0.0097\n",
      "Epoch 2/50\n",
      "\u001b[1m290/290\u001b[0m \u001b[32m━━━━━━━━━━━━━━━━━━━━\u001b[0m\u001b[37m\u001b[0m \u001b[1m21s\u001b[0m 72ms/step - loss: 0.0433 - val_loss: 0.0421 - learning_rate: 0.0097\n",
      "Epoch 3/50\n",
      "\u001b[1m290/290\u001b[0m \u001b[32m━━━━━━━━━━━━━━━━━━━━\u001b[0m\u001b[37m\u001b[0m \u001b[1m21s\u001b[0m 73ms/step - loss: 0.0417 - val_loss: 0.0414 - learning_rate: 0.0097\n",
      "Epoch 4/50\n",
      "\u001b[1m290/290\u001b[0m \u001b[32m━━━━━━━━━━━━━━━━━━━━\u001b[0m\u001b[37m\u001b[0m \u001b[1m22s\u001b[0m 75ms/step - loss: 0.0406 - val_loss: 0.0412 - learning_rate: 0.0097\n",
      "Epoch 5/50\n",
      "\u001b[1m290/290\u001b[0m \u001b[32m━━━━━━━━━━━━━━━━━━━━\u001b[0m\u001b[37m\u001b[0m \u001b[1m40s\u001b[0m 72ms/step - loss: 0.0405 - val_loss: 0.0403 - learning_rate: 0.0097\n",
      "Epoch 6/50\n",
      "\u001b[1m290/290\u001b[0m \u001b[32m━━━━━━━━━━━━━━━━━━━━\u001b[0m\u001b[37m\u001b[0m \u001b[1m21s\u001b[0m 72ms/step - loss: 0.0395 - val_loss: 0.0412 - learning_rate: 0.0097\n",
      "Epoch 7/50\n",
      "\u001b[1m290/290\u001b[0m \u001b[32m━━━━━━━━━━━━━━━━━━━━\u001b[0m\u001b[37m\u001b[0m \u001b[1m41s\u001b[0m 72ms/step - loss: 0.0396 - val_loss: 0.0403 - learning_rate: 0.0097\n",
      "Epoch 8/50\n",
      "\u001b[1m290/290\u001b[0m \u001b[32m━━━━━━━━━━━━━━━━━━━━\u001b[0m\u001b[37m\u001b[0m \u001b[1m42s\u001b[0m 74ms/step - loss: 0.0389 - val_loss: 0.0413 - learning_rate: 0.0097\n",
      "Epoch 9/50\n",
      "\u001b[1m290/290\u001b[0m \u001b[32m━━━━━━━━━━━━━━━━━━━━\u001b[0m\u001b[37m\u001b[0m \u001b[1m41s\u001b[0m 74ms/step - loss: 0.0379 - val_loss: 0.0385 - learning_rate: 9.6918e-04\n",
      "Epoch 10/50\n",
      "\u001b[1m290/290\u001b[0m \u001b[32m━━━━━━━━━━━━━━━━━━━━\u001b[0m\u001b[37m\u001b[0m \u001b[1m41s\u001b[0m 74ms/step - loss: 0.0368 - val_loss: 0.0384 - learning_rate: 9.6918e-04\n",
      "Epoch 11/50\n",
      "\u001b[1m290/290\u001b[0m \u001b[32m━━━━━━━━━━━━━━━━━━━━\u001b[0m\u001b[37m\u001b[0m \u001b[1m21s\u001b[0m 74ms/step - loss: 0.0364 - val_loss: 0.0382 - learning_rate: 9.6918e-04\n",
      "Epoch 12/50\n",
      "\u001b[1m290/290\u001b[0m \u001b[32m━━━━━━━━━━━━━━━━━━━━\u001b[0m\u001b[37m\u001b[0m \u001b[1m41s\u001b[0m 74ms/step - loss: 0.0366 - val_loss: 0.0382 - learning_rate: 9.6918e-04\n",
      "Epoch 13/50\n",
      "\u001b[1m290/290\u001b[0m \u001b[32m━━━━━━━━━━━━━━━━━━━━\u001b[0m\u001b[37m\u001b[0m \u001b[1m22s\u001b[0m 74ms/step - loss: 0.0360 - val_loss: 0.0381 - learning_rate: 9.6918e-04\n",
      "Epoch 14/50\n",
      "\u001b[1m290/290\u001b[0m \u001b[32m━━━━━━━━━━━━━━━━━━━━\u001b[0m\u001b[37m\u001b[0m \u001b[1m20s\u001b[0m 70ms/step - loss: 0.0365 - val_loss: 0.0381 - learning_rate: 9.6918e-04\n",
      "Epoch 15/50\n",
      "\u001b[1m290/290\u001b[0m \u001b[32m━━━━━━━━━━━━━━━━━━━━\u001b[0m\u001b[37m\u001b[0m \u001b[1m22s\u001b[0m 75ms/step - loss: 0.0358 - val_loss: 0.0382 - learning_rate: 9.6918e-04\n",
      "Epoch 16/50\n",
      "\u001b[1m290/290\u001b[0m \u001b[32m━━━━━━━━━━━━━━━━━━━━\u001b[0m\u001b[37m\u001b[0m \u001b[1m22s\u001b[0m 74ms/step - loss: 0.0356 - val_loss: 0.0382 - learning_rate: 9.6918e-04\n",
      "Epoch 17/50\n",
      "\u001b[1m290/290\u001b[0m \u001b[32m━━━━━━━━━━━━━━━━━━━━\u001b[0m\u001b[37m\u001b[0m \u001b[1m41s\u001b[0m 74ms/step - loss: 0.0359 - val_loss: 0.0382 - learning_rate: 9.6918e-04\n",
      "Epoch 18/50\n",
      "\u001b[1m290/290\u001b[0m \u001b[32m━━━━━━━━━━━━━━━━━━━━\u001b[0m\u001b[37m\u001b[0m \u001b[1m41s\u001b[0m 73ms/step - loss: 0.0353 - val_loss: 0.0379 - learning_rate: 9.6918e-05\n",
      "Epoch 19/50\n",
      "\u001b[1m290/290\u001b[0m \u001b[32m━━━━━━━━━━━━━━━━━━━━\u001b[0m\u001b[37m\u001b[0m \u001b[1m22s\u001b[0m 74ms/step - loss: 0.0357 - val_loss: 0.0379 - learning_rate: 9.6918e-05\n",
      "Epoch 20/50\n",
      "\u001b[1m290/290\u001b[0m \u001b[32m━━━━━━━━━━━━━━━━━━━━\u001b[0m\u001b[37m\u001b[0m \u001b[1m21s\u001b[0m 71ms/step - loss: 0.0351 - val_loss: 0.0379 - learning_rate: 9.6918e-05\n",
      "Epoch 21/50\n",
      "\u001b[1m290/290\u001b[0m \u001b[32m━━━━━━━━━━━━━━━━━━━━\u001b[0m\u001b[37m\u001b[0m \u001b[1m42s\u001b[0m 74ms/step - loss: 0.0355 - val_loss: 0.0379 - learning_rate: 9.6918e-05\n",
      "Epoch 22/50\n",
      "\u001b[1m290/290\u001b[0m \u001b[32m━━━━━━━━━━━━━━━━━━━━\u001b[0m\u001b[37m\u001b[0m \u001b[1m41s\u001b[0m 75ms/step - loss: 0.0352 - val_loss: 0.0379 - learning_rate: 9.6918e-06\n",
      "Epoch 23/50\n",
      "\u001b[1m290/290\u001b[0m \u001b[32m━━━━━━━━━━━━━━━━━━━━\u001b[0m\u001b[37m\u001b[0m \u001b[1m22s\u001b[0m 75ms/step - loss: 0.0353 - val_loss: 0.0379 - learning_rate: 9.6918e-06\n",
      "Epoch 24/50\n",
      "\u001b[1m290/290\u001b[0m \u001b[32m━━━━━━━━━━━━━━━━━━━━\u001b[0m\u001b[37m\u001b[0m \u001b[1m41s\u001b[0m 74ms/step - loss: 0.0357 - val_loss: 0.0379 - learning_rate: 9.6918e-06\n",
      "\u001b[1m77/77\u001b[0m \u001b[32m━━━━━━━━━━━━━━━━━━━━\u001b[0m\u001b[37m\u001b[0m \u001b[1m2s\u001b[0m 24ms/step\n",
      "\u001b[1m254/254\u001b[0m \u001b[32m━━━━━━━━━━━━━━━━━━━━\u001b[0m\u001b[37m\u001b[0m \u001b[1m7s\u001b[0m 26ms/step\n",
      "\n",
      "--- Fold 3 - MCC: 0.983122\n",
      "\n",
      "Epoch 1/50\n",
      "\u001b[1m290/290\u001b[0m \u001b[32m━━━━━━━━━━━━━━━━━━━━\u001b[0m\u001b[37m\u001b[0m \u001b[1m22s\u001b[0m 71ms/step - loss: 0.1327 - val_loss: 0.0438 - learning_rate: 0.0097\n",
      "Epoch 2/50\n",
      "\u001b[1m290/290\u001b[0m \u001b[32m━━━━━━━━━━━━━━━━━━━━\u001b[0m\u001b[37m\u001b[0m \u001b[1m22s\u001b[0m 75ms/step - loss: 0.0432 - val_loss: 0.0412 - learning_rate: 0.0097\n",
      "Epoch 3/50\n",
      "\u001b[1m290/290\u001b[0m \u001b[32m━━━━━━━━━━━━━━━━━━━━\u001b[0m\u001b[37m\u001b[0m \u001b[1m22s\u001b[0m 75ms/step - loss: 0.0421 - val_loss: 0.0403 - learning_rate: 0.0097\n",
      "Epoch 4/50\n",
      "\u001b[1m290/290\u001b[0m \u001b[32m━━━━━━━━━━━━━━━━━━━━\u001b[0m\u001b[37m\u001b[0m \u001b[1m21s\u001b[0m 71ms/step - loss: 0.0403 - val_loss: 0.0401 - learning_rate: 0.0097\n",
      "Epoch 5/50\n",
      "\u001b[1m290/290\u001b[0m \u001b[32m━━━━━━━━━━━━━━━━━━━━\u001b[0m\u001b[37m\u001b[0m \u001b[1m22s\u001b[0m 75ms/step - loss: 0.0399 - val_loss: 0.0403 - learning_rate: 0.0097\n",
      "Epoch 6/50\n",
      "\u001b[1m290/290\u001b[0m \u001b[32m━━━━━━━━━━━━━━━━━━━━\u001b[0m\u001b[37m\u001b[0m \u001b[1m22s\u001b[0m 74ms/step - loss: 0.0401 - val_loss: 0.0398 - learning_rate: 0.0097\n",
      "Epoch 7/50\n",
      "\u001b[1m290/290\u001b[0m \u001b[32m━━━━━━━━━━━━━━━━━━━━\u001b[0m\u001b[37m\u001b[0m \u001b[1m21s\u001b[0m 71ms/step - loss: 0.0393 - val_loss: 0.0403 - learning_rate: 0.0097\n",
      "Epoch 8/50\n",
      "\u001b[1m290/290\u001b[0m \u001b[32m━━━━━━━━━━━━━━━━━━━━\u001b[0m\u001b[37m\u001b[0m \u001b[1m22s\u001b[0m 75ms/step - loss: 0.0390 - val_loss: 0.0396 - learning_rate: 0.0097\n",
      "Epoch 9/50\n",
      "\u001b[1m290/290\u001b[0m \u001b[32m━━━━━━━━━━━━━━━━━━━━\u001b[0m\u001b[37m\u001b[0m \u001b[1m21s\u001b[0m 72ms/step - loss: 0.0385 - val_loss: 0.0398 - learning_rate: 0.0097\n",
      "Epoch 10/50\n",
      "\u001b[1m290/290\u001b[0m \u001b[32m━━━━━━━━━━━━━━━━━━━━\u001b[0m\u001b[37m\u001b[0m \u001b[1m22s\u001b[0m 74ms/step - loss: 0.0392 - val_loss: 0.0396 - learning_rate: 0.0097\n",
      "Epoch 11/50\n",
      "\u001b[1m290/290\u001b[0m \u001b[32m━━━━━━━━━━━━━━━━━━━━\u001b[0m\u001b[37m\u001b[0m \u001b[1m42s\u001b[0m 76ms/step - loss: 0.0386 - val_loss: 0.0408 - learning_rate: 0.0097\n",
      "Epoch 12/50\n",
      "\u001b[1m290/290\u001b[0m \u001b[32m━━━━━━━━━━━━━━━━━━━━\u001b[0m\u001b[37m\u001b[0m \u001b[1m22s\u001b[0m 74ms/step - loss: 0.0371 - val_loss: 0.0377 - learning_rate: 9.6918e-04\n",
      "Epoch 13/50\n",
      "\u001b[1m290/290\u001b[0m \u001b[32m━━━━━━━━━━━━━━━━━━━━\u001b[0m\u001b[37m\u001b[0m \u001b[1m21s\u001b[0m 73ms/step - loss: 0.0360 - val_loss: 0.0377 - learning_rate: 9.6918e-04\n",
      "Epoch 14/50\n",
      "\u001b[1m290/290\u001b[0m \u001b[32m━━━━━━━━━━━━━━━━━━━━\u001b[0m\u001b[37m\u001b[0m \u001b[1m22s\u001b[0m 76ms/step - loss: 0.0358 - val_loss: 0.0377 - learning_rate: 9.6918e-04\n",
      "Epoch 15/50\n",
      "\u001b[1m290/290\u001b[0m \u001b[32m━━━━━━━━━━━━━━━━━━━━\u001b[0m\u001b[37m\u001b[0m \u001b[1m22s\u001b[0m 75ms/step - loss: 0.0361 - val_loss: 0.0376 - learning_rate: 9.6918e-04\n",
      "Epoch 16/50\n",
      "\u001b[1m290/290\u001b[0m \u001b[32m━━━━━━━━━━━━━━━━━━━━\u001b[0m\u001b[37m\u001b[0m \u001b[1m21s\u001b[0m 73ms/step - loss: 0.0359 - val_loss: 0.0375 - learning_rate: 9.6918e-05\n",
      "Epoch 17/50\n",
      "\u001b[1m290/290\u001b[0m \u001b[32m━━━━━━━━━━━━━━━━━━━━\u001b[0m\u001b[37m\u001b[0m \u001b[1m41s\u001b[0m 74ms/step - loss: 0.0358 - val_loss: 0.0375 - learning_rate: 9.6918e-05\n",
      "Epoch 18/50\n",
      "\u001b[1m290/290\u001b[0m \u001b[32m━━━━━━━━━━━━━━━━━━━━\u001b[0m\u001b[37m\u001b[0m \u001b[1m22s\u001b[0m 76ms/step - loss: 0.0360 - val_loss: 0.0375 - learning_rate: 9.6918e-05\n",
      "Epoch 19/50\n",
      "\u001b[1m290/290\u001b[0m \u001b[32m━━━━━━━━━━━━━━━━━━━━\u001b[0m\u001b[37m\u001b[0m \u001b[1m21s\u001b[0m 73ms/step - loss: 0.0356 - val_loss: 0.0375 - learning_rate: 9.6918e-05\n",
      "Epoch 20/50\n",
      "\u001b[1m290/290\u001b[0m \u001b[32m━━━━━━━━━━━━━━━━━━━━\u001b[0m\u001b[37m\u001b[0m \u001b[1m22s\u001b[0m 74ms/step - loss: 0.0358 - val_loss: 0.0375 - learning_rate: 9.6918e-06\n",
      "Epoch 21/50\n",
      "\u001b[1m290/290\u001b[0m \u001b[32m━━━━━━━━━━━━━━━━━━━━\u001b[0m\u001b[37m\u001b[0m \u001b[1m41s\u001b[0m 75ms/step - loss: 0.0356 - val_loss: 0.0375 - learning_rate: 9.6918e-06\n",
      "\u001b[1m77/77\u001b[0m \u001b[32m━━━━━━━━━━━━━━━━━━━━\u001b[0m\u001b[37m\u001b[0m \u001b[1m2s\u001b[0m 30ms/step\n",
      "\u001b[1m254/254\u001b[0m \u001b[32m━━━━━━━━━━━━━━━━━━━━\u001b[0m\u001b[37m\u001b[0m \u001b[1m6s\u001b[0m 25ms/step\n",
      "\n",
      "--- Fold 4 - MCC: 0.983185\n",
      "\n",
      "Epoch 1/50\n",
      "\u001b[1m290/290\u001b[0m \u001b[32m━━━━━━━━━━━━━━━━━━━━\u001b[0m\u001b[37m\u001b[0m \u001b[1m24s\u001b[0m 76ms/step - loss: 0.1283 - val_loss: 0.0450 - learning_rate: 0.0097\n",
      "Epoch 2/50\n",
      "\u001b[1m290/290\u001b[0m \u001b[32m━━━━━━━━━━━━━━━━━━━━\u001b[0m\u001b[37m\u001b[0m \u001b[1m21s\u001b[0m 72ms/step - loss: 0.0436 - val_loss: 0.0408 - learning_rate: 0.0097\n",
      "Epoch 3/50\n",
      "\u001b[1m290/290\u001b[0m \u001b[32m━━━━━━━━━━━━━━━━━━━━\u001b[0m\u001b[37m\u001b[0m \u001b[1m26s\u001b[0m 88ms/step - loss: 0.0414 - val_loss: 0.0412 - learning_rate: 0.0097\n",
      "Epoch 4/50\n",
      "\u001b[1m290/290\u001b[0m \u001b[32m━━━━━━━━━━━━━━━━━━━━\u001b[0m\u001b[37m\u001b[0m \u001b[1m22s\u001b[0m 76ms/step - loss: 0.0404 - val_loss: 0.0401 - learning_rate: 0.0097\n",
      "Epoch 5/50\n",
      "\u001b[1m290/290\u001b[0m \u001b[32m━━━━━━━━━━━━━━━━━━━━\u001b[0m\u001b[37m\u001b[0m \u001b[1m41s\u001b[0m 76ms/step - loss: 0.0403 - val_loss: 0.0394 - learning_rate: 0.0097\n",
      "Epoch 6/50\n",
      "\u001b[1m290/290\u001b[0m \u001b[32m━━━━━━━━━━━━━━━━━━━━\u001b[0m\u001b[37m\u001b[0m \u001b[1m21s\u001b[0m 71ms/step - loss: 0.0393 - val_loss: 0.0397 - learning_rate: 0.0097\n",
      "Epoch 7/50\n",
      "\u001b[1m290/290\u001b[0m \u001b[32m━━━━━━━━━━━━━━━━━━━━\u001b[0m\u001b[37m\u001b[0m \u001b[1m22s\u001b[0m 76ms/step - loss: 0.0394 - val_loss: 0.0398 - learning_rate: 0.0097\n",
      "Epoch 8/50\n",
      "\u001b[1m290/290\u001b[0m \u001b[32m━━━━━━━━━━━━━━━━━━━━\u001b[0m\u001b[37m\u001b[0m \u001b[1m22s\u001b[0m 76ms/step - loss: 0.0392 - val_loss: 0.0393 - learning_rate: 0.0097\n",
      "Epoch 9/50\n",
      "\u001b[1m290/290\u001b[0m \u001b[32m━━━━━━━━━━━━━━━━━━━━\u001b[0m\u001b[37m\u001b[0m \u001b[1m21s\u001b[0m 71ms/step - loss: 0.0395 - val_loss: 0.0390 - learning_rate: 0.0097\n",
      "Epoch 10/50\n",
      "\u001b[1m290/290\u001b[0m \u001b[32m━━━━━━━━━━━━━━━━━━━━\u001b[0m\u001b[37m\u001b[0m \u001b[1m22s\u001b[0m 77ms/step - loss: 0.0387 - val_loss: 0.0389 - learning_rate: 0.0097\n",
      "Epoch 11/50\n",
      "\u001b[1m290/290\u001b[0m \u001b[32m━━━━━━━━━━━━━━━━━━━━\u001b[0m\u001b[37m\u001b[0m \u001b[1m22s\u001b[0m 76ms/step - loss: 0.0389 - val_loss: 0.0392 - learning_rate: 0.0097\n",
      "Epoch 12/50\n",
      "\u001b[1m290/290\u001b[0m \u001b[32m━━━━━━━━━━━━━━━━━━━━\u001b[0m\u001b[37m\u001b[0m \u001b[1m21s\u001b[0m 71ms/step - loss: 0.0387 - val_loss: 0.0388 - learning_rate: 0.0097\n",
      "Epoch 13/50\n",
      "\u001b[1m290/290\u001b[0m \u001b[32m━━━━━━━━━━━━━━━━━━━━\u001b[0m\u001b[37m\u001b[0m \u001b[1m22s\u001b[0m 75ms/step - loss: 0.0381 - val_loss: 0.0396 - learning_rate: 0.0097\n",
      "Epoch 14/50\n",
      "\u001b[1m290/290\u001b[0m \u001b[32m━━━━━━━━━━━━━━━━━━━━\u001b[0m\u001b[37m\u001b[0m \u001b[1m41s\u001b[0m 75ms/step - loss: 0.0361 - val_loss: 0.0371 - learning_rate: 9.6918e-04\n",
      "Epoch 15/50\n",
      "\u001b[1m290/290\u001b[0m \u001b[32m━━━━━━━━━━━━━━━━━━━━\u001b[0m\u001b[37m\u001b[0m \u001b[1m22s\u001b[0m 76ms/step - loss: 0.0361 - val_loss: 0.0370 - learning_rate: 9.6918e-04\n",
      "Epoch 16/50\n",
      "\u001b[1m290/290\u001b[0m \u001b[32m━━━━━━━━━━━━━━━━━━━━\u001b[0m\u001b[37m\u001b[0m \u001b[1m21s\u001b[0m 73ms/step - loss: 0.0357 - val_loss: 0.0371 - learning_rate: 9.6918e-04\n",
      "Epoch 17/50\n",
      "\u001b[1m290/290\u001b[0m \u001b[32m━━━━━━━━━━━━━━━━━━━━\u001b[0m\u001b[37m\u001b[0m \u001b[1m22s\u001b[0m 75ms/step - loss: 0.0355 - val_loss: 0.0370 - learning_rate: 9.6918e-04\n",
      "Epoch 18/50\n",
      "\u001b[1m290/290\u001b[0m \u001b[32m━━━━━━━━━━━━━━━━━━━━\u001b[0m\u001b[37m\u001b[0m \u001b[1m21s\u001b[0m 73ms/step - loss: 0.0357 - val_loss: 0.0370 - learning_rate: 9.6918e-04\n",
      "Epoch 19/50\n",
      "\u001b[1m290/290\u001b[0m \u001b[32m━━━━━━━━━━━━━━━━━━━━\u001b[0m\u001b[37m\u001b[0m \u001b[1m22s\u001b[0m 76ms/step - loss: 0.0350 - val_loss: 0.0369 - learning_rate: 9.6918e-05\n",
      "Epoch 20/50\n",
      "\u001b[1m290/290\u001b[0m \u001b[32m━━━━━━━━━━━━━━━━━━━━\u001b[0m\u001b[37m\u001b[0m \u001b[1m22s\u001b[0m 76ms/step - loss: 0.0354 - val_loss: 0.0369 - learning_rate: 9.6918e-05\n",
      "Epoch 21/50\n",
      "\u001b[1m290/290\u001b[0m \u001b[32m━━━━━━━━━━━━━━━━━━━━\u001b[0m\u001b[37m\u001b[0m \u001b[1m41s\u001b[0m 77ms/step - loss: 0.0356 - val_loss: 0.0369 - learning_rate: 9.6918e-05\n",
      "Epoch 22/50\n",
      "\u001b[1m290/290\u001b[0m \u001b[32m━━━━━━━━━━━━━━━━━━━━\u001b[0m\u001b[37m\u001b[0m \u001b[1m21s\u001b[0m 73ms/step - loss: 0.0352 - val_loss: 0.0369 - learning_rate: 9.6918e-06\n",
      "Epoch 23/50\n",
      "\u001b[1m290/290\u001b[0m \u001b[32m━━━━━━━━━━━━━━━━━━━━\u001b[0m\u001b[37m\u001b[0m \u001b[1m42s\u001b[0m 76ms/step - loss: 0.0355 - val_loss: 0.0369 - learning_rate: 9.6918e-06\n",
      "Epoch 24/50\n",
      "\u001b[1m290/290\u001b[0m \u001b[32m━━━━━━━━━━━━━━━━━━━━\u001b[0m\u001b[37m\u001b[0m \u001b[1m21s\u001b[0m 70ms/step - loss: 0.0350 - val_loss: 0.0369 - learning_rate: 9.6918e-06\n",
      "\u001b[1m77/77\u001b[0m \u001b[32m━━━━━━━━━━━━━━━━━━━━\u001b[0m\u001b[37m\u001b[0m \u001b[1m2s\u001b[0m 30ms/step\n",
      "\u001b[1m254/254\u001b[0m \u001b[32m━━━━━━━━━━━━━━━━━━━━\u001b[0m\u001b[37m\u001b[0m \u001b[1m6s\u001b[0m 23ms/step\n",
      "\n",
      "--- Fold 5 - MCC: 0.983031\n",
      "\n",
      "\n",
      "\n",
      "------ Average MCC: 0.983320 ± 0.000361\n"
     ]
    }
   ],
   "source": [
    "trainer = Trainer(model)\n",
    "trainer.fit_predict(X, y, X_test)"
   ]
  }
 ],
 "metadata": {
  "kaggle": {
   "accelerator": "none",
   "dataSources": [
    {
     "databundleVersionId": 9045607,
     "sourceId": 76727,
     "sourceType": "competition"
    }
   ],
   "dockerImageVersionId": 30746,
   "isGpuEnabled": false,
   "isInternetEnabled": true,
   "language": "python",
   "sourceType": "notebook"
  },
  "kernelspec": {
   "display_name": "Python 3",
   "language": "python",
   "name": "python3"
  },
  "language_info": {
   "codemirror_mode": {
    "name": "ipython",
    "version": 3
   },
   "file_extension": ".py",
   "mimetype": "text/x-python",
   "name": "python",
   "nbconvert_exporter": "python",
   "pygments_lexer": "ipython3",
   "version": "3.10.13"
  },
  "papermill": {
   "default_parameters": {},
   "duration": 3435.850101,
   "end_time": "2024-08-05T13:11:29.020294",
   "environment_variables": {},
   "exception": null,
   "input_path": "__notebook__.ipynb",
   "output_path": "__notebook__.ipynb",
   "parameters": {},
   "start_time": "2024-08-05T12:14:13.170193",
   "version": "2.5.0"
  }
 },
 "nbformat": 4,
 "nbformat_minor": 5
}
