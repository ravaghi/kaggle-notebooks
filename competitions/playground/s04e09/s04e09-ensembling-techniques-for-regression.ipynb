{
 "cells": [
  {
   "cell_type": "markdown",
   "id": "fdbf1511",
   "metadata": {
    "papermill": {
     "duration": 0.010831,
     "end_time": "2024-09-24T08:14:18.807547",
     "exception": false,
     "start_time": "2024-09-24T08:14:18.796716",
     "status": "completed"
    },
    "tags": []
   },
   "source": [
    "# Introduction\n",
    "\n",
    "Ensembling is a commonly used technique in Kaggle competitions to combine predictions of multiple models and get stronger predictions that hopefully achieve better score on the leaderboard. The idea is that combining different models with varying strengths and weaknesses can lead to better generalization on unseen data. There are various approaches to ensembling. In this notebook, we will explore a few of these approaches and evaluate their effectiveness in a regression task, and see how they compare to each other. While the focus in this notebook is on regression, with small adjustments, many of the techniques discussed here can be easily adapted for classification problems."
   ]
  },
  {
   "cell_type": "markdown",
   "id": "b81ea053",
   "metadata": {
    "papermill": {
     "duration": 0.009768,
     "end_time": "2024-09-24T08:14:18.828409",
     "exception": false,
     "start_time": "2024-09-24T08:14:18.818641",
     "status": "completed"
    },
    "tags": []
   },
   "source": [
    "# Imports and configs"
   ]
  },
  {
   "cell_type": "code",
   "execution_count": 1,
   "id": "82dad504",
   "metadata": {
    "_kg_hide-output": true,
    "execution": {
     "iopub.execute_input": "2024-09-24T08:14:18.851661Z",
     "iopub.status.busy": "2024-09-24T08:14:18.850479Z",
     "iopub.status.idle": "2024-09-24T08:14:36.218167Z",
     "shell.execute_reply": "2024-09-24T08:14:36.216723Z"
    },
    "papermill": {
     "duration": 17.382358,
     "end_time": "2024-09-24T08:14:36.220753",
     "exception": false,
     "start_time": "2024-09-24T08:14:18.838395",
     "status": "completed"
    },
    "tags": []
   },
   "outputs": [],
   "source": [
    "!pip install -q hillclimbers"
   ]
  },
  {
   "cell_type": "code",
   "execution_count": 2,
   "id": "d205e1ff",
   "metadata": {
    "_cell_guid": "b1076dfc-b9ad-4769-8c92-a6c4dae69d19",
    "_uuid": "8f2839f25d086af736a60e9eeb907d3b93b6e0e5",
    "execution": {
     "iopub.execute_input": "2024-09-24T08:14:36.244894Z",
     "iopub.status.busy": "2024-09-24T08:14:36.243656Z",
     "iopub.status.idle": "2024-09-24T08:14:41.989267Z",
     "shell.execute_reply": "2024-09-24T08:14:41.988136Z"
    },
    "papermill": {
     "duration": 5.760135,
     "end_time": "2024-09-24T08:14:41.991754",
     "exception": false,
     "start_time": "2024-09-24T08:14:36.231619",
     "status": "completed"
    },
    "tags": []
   },
   "outputs": [],
   "source": [
    "from sklearn.ensemble import HistGradientBoostingRegressor, VotingRegressor, StackingRegressor, GradientBoostingRegressor\n",
    "from sklearn.preprocessing import MinMaxScaler, OrdinalEncoder, OneHotEncoder\n",
    "from sklearn.feature_selection import mutual_info_regression\n",
    "from sklearn.metrics import mean_squared_error\n",
    "from sklearn.linear_model import Ridge, Lasso\n",
    "from sklearn.compose import ColumnTransformer\n",
    "from sklearn.model_selection import KFold\n",
    "from sklearn.impute import SimpleImputer\n",
    "from sklearn.pipeline import Pipeline\n",
    "from sklearn.base import clone\n",
    "from hillclimbers import climb_hill, partial\n",
    "from category_encoders import TargetEncoder\n",
    "from catboost import CatBoostRegressor\n",
    "from lightgbm import LGBMRegressor\n",
    "from xgboost import XGBRegressor\n",
    "import matplotlib.pyplot as plt\n",
    "import seaborn as sns\n",
    "import pandas as pd\n",
    "import numpy as np\n",
    "import warnings\n",
    "import optuna\n",
    "import shutil\n",
    "import pickle\n",
    "import gc\n",
    "import os\n",
    "\n",
    "warnings.filterwarnings('ignore')"
   ]
  },
  {
   "cell_type": "code",
   "execution_count": 3,
   "id": "dd5e7228",
   "metadata": {
    "execution": {
     "iopub.execute_input": "2024-09-24T08:14:42.014425Z",
     "iopub.status.busy": "2024-09-24T08:14:42.013439Z",
     "iopub.status.idle": "2024-09-24T08:14:42.019190Z",
     "shell.execute_reply": "2024-09-24T08:14:42.018155Z"
    },
    "papermill": {
     "duration": 0.019475,
     "end_time": "2024-09-24T08:14:42.021237",
     "exception": false,
     "start_time": "2024-09-24T08:14:42.001762",
     "status": "completed"
    },
    "tags": []
   },
   "outputs": [],
   "source": [
    "class CFG:\n",
    "    train_path = '/kaggle/input/playground-series-s4e9/train.csv'\n",
    "    test_path = '/kaggle/input/playground-series-s4e9/test.csv'\n",
    "    sample_sub_path = '/kaggle/input/playground-series-s4e9/sample_submission.csv'\n",
    "\n",
    "    target = 'price'\n",
    "    n_folds = 5\n",
    "    seed = 228"
   ]
  },
  {
   "cell_type": "markdown",
   "id": "8f2bf0fc",
   "metadata": {
    "papermill": {
     "duration": 0.009581,
     "end_time": "2024-09-24T08:14:42.040883",
     "exception": false,
     "start_time": "2024-09-24T08:14:42.031302",
     "status": "completed"
    },
    "tags": []
   },
   "source": [
    "# Data preprocessing\n",
    "\n",
    "The dataset in this competition contains only two numerical features: `model_year` and `milage`. The rest are categorical and need to be processed accordingly. Additionally, three of the categorical columns—`fuel_type`, `clean_title`, and `accident`—contain missing values and need to be handled for models that can't deal with missing values on their own. \n",
    "\n",
    "I will not add any new features even though there are columns such as `engine` that contain a lot of information about the car. This is due to the synthetic nature of the dataset, which contains noise, and engineering new features often just adds to this noise."
   ]
  },
  {
   "cell_type": "code",
   "execution_count": 4,
   "id": "d5c9740a",
   "metadata": {
    "execution": {
     "iopub.execute_input": "2024-09-24T08:14:42.061720Z",
     "iopub.status.busy": "2024-09-24T08:14:42.061334Z",
     "iopub.status.idle": "2024-09-24T08:14:43.306464Z",
     "shell.execute_reply": "2024-09-24T08:14:43.305501Z"
    },
    "papermill": {
     "duration": 1.258695,
     "end_time": "2024-09-24T08:14:43.309202",
     "exception": false,
     "start_time": "2024-09-24T08:14:42.050507",
     "status": "completed"
    },
    "tags": []
   },
   "outputs": [],
   "source": [
    "train = pd.read_csv(CFG.train_path, index_col='id')\n",
    "test = pd.read_csv(CFG.test_path, index_col='id')"
   ]
  },
  {
   "cell_type": "markdown",
   "id": "f0ae55de",
   "metadata": {
    "papermill": {
     "duration": 0.0096,
     "end_time": "2024-09-24T08:14:43.328504",
     "exception": false,
     "start_time": "2024-09-24T08:14:43.318904",
     "status": "completed"
    },
    "tags": []
   },
   "source": [
    "Here I'm combining every preprocessing step into a function. The function\n",
    "- Reduces the cardinality of `milage`\n",
    "- Applies a simple mapping to `clean_title` which contains only two unique values\n",
    "- One-hot-encodes `accident`\n",
    "- Imputes missing values\n",
    "- Encodes `model`, `fuel_type`, and `engine` using `OrdinalEncoder`\n",
    "\n",
    "The remaining columns, `brand`, `transmission`, `ext_col`, and `int_col` are target encoded. However, to avoid leakage this is done in the `Trainer` class later on."
   ]
  },
  {
   "cell_type": "code",
   "execution_count": 5,
   "id": "4fbb7769",
   "metadata": {
    "execution": {
     "iopub.execute_input": "2024-09-24T08:14:43.349788Z",
     "iopub.status.busy": "2024-09-24T08:14:43.349406Z",
     "iopub.status.idle": "2024-09-24T08:14:43.359524Z",
     "shell.execute_reply": "2024-09-24T08:14:43.358352Z"
    },
    "papermill": {
     "duration": 0.02392,
     "end_time": "2024-09-24T08:14:43.362366",
     "exception": false,
     "start_time": "2024-09-24T08:14:43.338446",
     "status": "completed"
    },
    "tags": []
   },
   "outputs": [],
   "source": [
    "def get_data():\n",
    "    train = pd.read_csv(CFG.train_path, index_col='id')\n",
    "    test = pd.read_csv(CFG.test_path, index_col='id')\n",
    "    \n",
    "    train['milage'] = train['milage'] // 100\n",
    "    test['milage'] = test['milage'] // 100\n",
    "    \n",
    "    train['clean_title'] = np.where(train['clean_title'] == 'Yes', 1, 0)\n",
    "    test['clean_title'] = np.where(test['clean_title'] == 'Yes', 1, 0)\n",
    "    \n",
    "    oe_cols = [\n",
    "        'model', \n",
    "        'fuel_type', \n",
    "        'engine',\n",
    "    ]\n",
    "    \n",
    "    ohe_cols = [\n",
    "        'accident'\n",
    "    ]\n",
    "    \n",
    "    categorical_transformer = Pipeline(steps=[\n",
    "        ('imputer', SimpleImputer(strategy='constant', fill_value='missing')),\n",
    "        ('onehot', OneHotEncoder(handle_unknown='infrequent_if_exist', sparse_output=False))\n",
    "    ])\n",
    "    \n",
    "    ordinal_transformer = Pipeline(steps=[\n",
    "        ('imputer', SimpleImputer(strategy='constant', fill_value='missing')),\n",
    "        ('ordinal', OrdinalEncoder(handle_unknown='use_encoded_value', unknown_value=-1))\n",
    "    ])\n",
    "    \n",
    "    preprocessor = ColumnTransformer(\n",
    "        transformers=[\n",
    "            ('cat', categorical_transformer, ohe_cols),\n",
    "            ('ord', ordinal_transformer, oe_cols)\n",
    "        ],\n",
    "        remainder='passthrough',\n",
    "        verbose_feature_names_out=False,\n",
    "    ).set_output(transform='pandas')\n",
    "    \n",
    "    X = train.drop(CFG.target, axis=1)\n",
    "    y = train[CFG.target]\n",
    "    X_test = test.copy()\n",
    "    \n",
    "    X_preprocessed = preprocessor.fit_transform(X)\n",
    "    X_test_preprocessed = preprocessor.transform(X_test)\n",
    "    \n",
    "    return X_preprocessed, y, X_test_preprocessed"
   ]
  },
  {
   "cell_type": "markdown",
   "id": "e154f88f",
   "metadata": {
    "papermill": {
     "duration": 0.010616,
     "end_time": "2024-09-24T08:14:43.384540",
     "exception": false,
     "start_time": "2024-09-24T08:14:43.373924",
     "status": "completed"
    },
    "tags": []
   },
   "source": [
    "Here, we can see that all features are usefull, thus there is no need to eliminate any of the features."
   ]
  },
  {
   "cell_type": "code",
   "execution_count": 6,
   "id": "b6de2513",
   "metadata": {
    "execution": {
     "iopub.execute_input": "2024-09-24T08:14:43.406792Z",
     "iopub.status.busy": "2024-09-24T08:14:43.406389Z",
     "iopub.status.idle": "2024-09-24T08:15:06.734253Z",
     "shell.execute_reply": "2024-09-24T08:15:06.732983Z"
    },
    "papermill": {
     "duration": 23.342031,
     "end_time": "2024-09-24T08:15:06.736945",
     "exception": false,
     "start_time": "2024-09-24T08:14:43.394914",
     "status": "completed"
    },
    "tags": []
   },
   "outputs": [
    {
     "data": {
      "text/html": [
       "<style type=\"text/css\">\n",
       "#T_a9ca5_row0_col0 {\n",
       "  width: 10em;\n",
       "  background: linear-gradient(90deg, #006837 100.0%, transparent 100.0%);\n",
       "}\n",
       "#T_a9ca5_row1_col0 {\n",
       "  width: 10em;\n",
       "  background: linear-gradient(90deg, #0f8446 93.8%, transparent 93.8%);\n",
       "}\n",
       "#T_a9ca5_row2_col0 {\n",
       "  width: 10em;\n",
       "  background: linear-gradient(90deg, #48ae5c 83.8%, transparent 83.8%);\n",
       "}\n",
       "#T_a9ca5_row3_col0 {\n",
       "  width: 10em;\n",
       "  background: linear-gradient(90deg, #addc6f 68.6%, transparent 68.6%);\n",
       "}\n",
       "#T_a9ca5_row4_col0 {\n",
       "  width: 10em;\n",
       "  background: linear-gradient(90deg, #bfe47a 64.9%, transparent 64.9%);\n",
       "}\n",
       "#T_a9ca5_row5_col0 {\n",
       "  width: 10em;\n",
       "  background: linear-gradient(90deg, #f88c51 25.0%, transparent 25.0%);\n",
       "}\n",
       "#T_a9ca5_row6_col0 {\n",
       "  width: 10em;\n",
       "  background: linear-gradient(90deg, #f7844e 23.8%, transparent 23.8%);\n",
       "}\n",
       "#T_a9ca5_row7_col0 {\n",
       "  width: 10em;\n",
       "  background: linear-gradient(90deg, #f57547 21.2%, transparent 21.2%);\n",
       "}\n",
       "#T_a9ca5_row8_col0 {\n",
       "  width: 10em;\n",
       "  background: linear-gradient(90deg, #f36b42 19.9%, transparent 19.9%);\n",
       "}\n",
       "#T_a9ca5_row9_col0 {\n",
       "  width: 10em;\n",
       "  background: linear-gradient(90deg, #d42d27 9.7%, transparent 9.7%);\n",
       "}\n",
       "#T_a9ca5_row10_col0 {\n",
       "  width: 10em;\n",
       "  background: linear-gradient(90deg, #ce2827 8.2%, transparent 8.2%);\n",
       "}\n",
       "#T_a9ca5_row11_col0 {\n",
       "  width: 10em;\n",
       "  background: linear-gradient(90deg, #be1827 5.1%, transparent 5.1%);\n",
       "}\n",
       "#T_a9ca5_row12_col0 {\n",
       "  width: 10em;\n",
       "  background: linear-gradient(90deg, #a50026 0.3%, transparent 0.3%);\n",
       "}\n",
       "</style>\n",
       "<table id=\"T_a9ca5\">\n",
       "  <thead>\n",
       "    <tr>\n",
       "      <th class=\"blank level0\" >&nbsp;</th>\n",
       "      <th id=\"T_a9ca5_level0_col0\" class=\"col_heading level0 col0\" >Mutual Information</th>\n",
       "    </tr>\n",
       "  </thead>\n",
       "  <tbody>\n",
       "    <tr>\n",
       "      <th id=\"T_a9ca5_level0_row0\" class=\"row_heading level0 row0\" >milage</th>\n",
       "      <td id=\"T_a9ca5_row0_col0\" class=\"data row0 col0\" >0.646097</td>\n",
       "    </tr>\n",
       "    <tr>\n",
       "      <th id=\"T_a9ca5_level0_row1\" class=\"row_heading level0 row1\" >engine</th>\n",
       "      <td id=\"T_a9ca5_row1_col0\" class=\"data row1 col0\" >0.606354</td>\n",
       "    </tr>\n",
       "    <tr>\n",
       "      <th id=\"T_a9ca5_level0_row2\" class=\"row_heading level0 row2\" >model_year</th>\n",
       "      <td id=\"T_a9ca5_row2_col0\" class=\"data row2 col0\" >0.541621</td>\n",
       "    </tr>\n",
       "    <tr>\n",
       "      <th id=\"T_a9ca5_level0_row3\" class=\"row_heading level0 row3\" >transmission</th>\n",
       "      <td id=\"T_a9ca5_row3_col0\" class=\"data row3 col0\" >0.443028</td>\n",
       "    </tr>\n",
       "    <tr>\n",
       "      <th id=\"T_a9ca5_level0_row4\" class=\"row_heading level0 row4\" >model</th>\n",
       "      <td id=\"T_a9ca5_row4_col0\" class=\"data row4 col0\" >0.419323</td>\n",
       "    </tr>\n",
       "    <tr>\n",
       "      <th id=\"T_a9ca5_level0_row5\" class=\"row_heading level0 row5\" >clean_title</th>\n",
       "      <td id=\"T_a9ca5_row5_col0\" class=\"data row5 col0\" >0.161421</td>\n",
       "    </tr>\n",
       "    <tr>\n",
       "      <th id=\"T_a9ca5_level0_row6\" class=\"row_heading level0 row6\" >brand</th>\n",
       "      <td id=\"T_a9ca5_row6_col0\" class=\"data row6 col0\" >0.153817</td>\n",
       "    </tr>\n",
       "    <tr>\n",
       "      <th id=\"T_a9ca5_level0_row7\" class=\"row_heading level0 row7\" >ext_col</th>\n",
       "      <td id=\"T_a9ca5_row7_col0\" class=\"data row7 col0\" >0.137217</td>\n",
       "    </tr>\n",
       "    <tr>\n",
       "      <th id=\"T_a9ca5_level0_row8\" class=\"row_heading level0 row8\" >int_col</th>\n",
       "      <td id=\"T_a9ca5_row8_col0\" class=\"data row8 col0\" >0.128250</td>\n",
       "    </tr>\n",
       "    <tr>\n",
       "      <th id=\"T_a9ca5_level0_row9\" class=\"row_heading level0 row9\" >accident_At least 1 accident or damage reported</th>\n",
       "      <td id=\"T_a9ca5_row9_col0\" class=\"data row9 col0\" >0.062837</td>\n",
       "    </tr>\n",
       "    <tr>\n",
       "      <th id=\"T_a9ca5_level0_row10\" class=\"row_heading level0 row10\" >accident_None reported</th>\n",
       "      <td id=\"T_a9ca5_row10_col0\" class=\"data row10 col0\" >0.053297</td>\n",
       "    </tr>\n",
       "    <tr>\n",
       "      <th id=\"T_a9ca5_level0_row11\" class=\"row_heading level0 row11\" >fuel_type</th>\n",
       "      <td id=\"T_a9ca5_row11_col0\" class=\"data row11 col0\" >0.032907</td>\n",
       "    </tr>\n",
       "    <tr>\n",
       "      <th id=\"T_a9ca5_level0_row12\" class=\"row_heading level0 row12\" >accident_missing</th>\n",
       "      <td id=\"T_a9ca5_row12_col0\" class=\"data row12 col0\" >0.001957</td>\n",
       "    </tr>\n",
       "  </tbody>\n",
       "</table>\n"
      ],
      "text/plain": [
       "<pandas.io.formats.style.Styler at 0x7e0e00faa140>"
      ]
     },
     "execution_count": 6,
     "metadata": {},
     "output_type": "execute_result"
    }
   ],
   "source": [
    "X_mi, y_mi, _ = get_data()\n",
    "\n",
    "te_cols = ['brand', 'transmission', 'ext_col', 'int_col']\n",
    "te = TargetEncoder()\n",
    "X_mi[te_cols] = te.fit_transform(X_mi[te_cols], y_mi)\n",
    "\n",
    "mutual_info = mutual_info_regression(X_mi, y_mi, random_state=CFG.seed)\n",
    "\n",
    "mutual_info = pd.Series(mutual_info)\n",
    "mutual_info.index = X_mi.columns\n",
    "mutual_info = pd.DataFrame(mutual_info.sort_values(ascending=False), columns=['Mutual Information'])\n",
    "mutual_info.style.bar(subset=['Mutual Information'], cmap='RdYlGn')"
   ]
  },
  {
   "cell_type": "markdown",
   "id": "abc12332",
   "metadata": {
    "papermill": {
     "duration": 0.010666,
     "end_time": "2024-09-24T08:15:06.758042",
     "exception": false,
     "start_time": "2024-09-24T08:15:06.747376",
     "status": "completed"
    },
    "tags": []
   },
   "source": [
    "# Training base models\n",
    "\n",
    "Here, I have created a class to train and cross-validate the base models. I will use this class to train all five of my base models, as well as some of the ensemble models. The class also contains a function that saves OOF predictions of the base models. Feel free to use these OOF files in your own ensemble."
   ]
  },
  {
   "cell_type": "code",
   "execution_count": 7,
   "id": "7a92b54c",
   "metadata": {
    "execution": {
     "iopub.execute_input": "2024-09-24T08:15:06.780617Z",
     "iopub.status.busy": "2024-09-24T08:15:06.780182Z",
     "iopub.status.idle": "2024-09-24T08:15:06.785563Z",
     "shell.execute_reply": "2024-09-24T08:15:06.784506Z"
    },
    "papermill": {
     "duration": 0.019437,
     "end_time": "2024-09-24T08:15:06.787767",
     "exception": false,
     "start_time": "2024-09-24T08:15:06.768330",
     "status": "completed"
    },
    "tags": []
   },
   "outputs": [],
   "source": [
    "os.mkdir('oof_preds')\n",
    "os.mkdir('test_preds')"
   ]
  },
  {
   "cell_type": "code",
   "execution_count": 8,
   "id": "d2ba7724",
   "metadata": {
    "execution": {
     "iopub.execute_input": "2024-09-24T08:15:06.810294Z",
     "iopub.status.busy": "2024-09-24T08:15:06.809427Z",
     "iopub.status.idle": "2024-09-24T08:15:06.824714Z",
     "shell.execute_reply": "2024-09-24T08:15:06.823366Z"
    },
    "papermill": {
     "duration": 0.029228,
     "end_time": "2024-09-24T08:15:06.827185",
     "exception": false,
     "start_time": "2024-09-24T08:15:06.797957",
     "status": "completed"
    },
    "tags": []
   },
   "outputs": [],
   "source": [
    "class Trainer:\n",
    "    def __init__(self, model, CFG, is_ensemble=False, save_preds=False):\n",
    "        self.model = model\n",
    "        self.config = CFG\n",
    "        self.is_ensemble = is_ensemble\n",
    "        self.save_preds = save_preds\n",
    "\n",
    "    def fit_predict(self, X, y, X_test):\n",
    "        print(f'Training {self.model.__class__.__name__}\\n')\n",
    "        \n",
    "        scores = []        \n",
    "        coeffs = np.zeros((1, X.shape[1]))\n",
    "        oof_preds = np.zeros(len(X), dtype=np.float32)\n",
    "        test_preds = np.zeros(len(X_test), dtype=np.float32)\n",
    "        \n",
    "        skf = KFold(n_splits=self.config.n_folds, random_state=self.config.seed, shuffle=True)\n",
    "        for fold_idx, (train_idx, val_idx) in enumerate(skf.split(X, y)):\n",
    "            X_train, X_val = X.iloc[train_idx], X.iloc[val_idx]\n",
    "            y_train, y_val = y[train_idx], y[val_idx]\n",
    "            \n",
    "            _X_test = X_test.copy()\n",
    "            if not self.is_ensemble:\n",
    "                te_cols = ['brand', 'transmission', 'ext_col', 'int_col']\n",
    "                te = TargetEncoder()\n",
    "                X_train[te_cols] = te.fit_transform(X_train[te_cols], y_train)\n",
    "                X_val[te_cols] = te.transform(X_val[te_cols])\n",
    "                _X_test[te_cols] = te.transform(_X_test[te_cols])\n",
    "            \n",
    "            model = clone(self.model)\n",
    "            model.fit(X_train, y_train)\n",
    "            \n",
    "            if self.is_ensemble:\n",
    "                coeffs += model.coef_ / self.config.n_folds\n",
    "            \n",
    "            y_preds = model.predict(X_val)\n",
    "            oof_preds[val_idx] = y_preds\n",
    "            \n",
    "            temp_test_preds = model.predict(_X_test)\n",
    "            test_preds += temp_test_preds / self.config.n_folds\n",
    "            \n",
    "            score = mean_squared_error(y_val, y_preds, squared=False)\n",
    "            scores.append(score)\n",
    "            \n",
    "            del model, X_train, y_train, X_val, y_val, y_preds, temp_test_preds, _X_test\n",
    "            gc.collect()\n",
    "            \n",
    "            print(f'--- Fold {fold_idx + 1} - RMSE: {round(score)}')\n",
    "            \n",
    "        overall_score = mean_squared_error(y, oof_preds, squared=False)\n",
    "        \n",
    "        print(f'\\nOverall RMSE: {round(overall_score)} ± {round(np.std(scores))}')\n",
    "        \n",
    "        if self.save_preds:\n",
    "            self._save_preds(oof_preds, overall_score, 'oof')\n",
    "            self._save_preds(test_preds, overall_score, 'test')\n",
    "        \n",
    "        if self.is_ensemble:\n",
    "            return oof_preds, test_preds, scores, coeffs[0]\n",
    "        else:\n",
    "            return oof_preds, test_preds, scores\n",
    "        \n",
    "    def _save_preds(self, preds, cv_score, name):\n",
    "        model_name = self.model.__class__.__name__.lower().replace('regressor', '')\n",
    "        with open(f'{name}_preds/{model_name}_{name}_preds_{round(cv_score)}.pkl', 'wb') as f:\n",
    "            pickle.dump(preds, f)"
   ]
  },
  {
   "cell_type": "code",
   "execution_count": 9,
   "id": "39f9e192",
   "metadata": {
    "execution": {
     "iopub.execute_input": "2024-09-24T08:15:06.851408Z",
     "iopub.status.busy": "2024-09-24T08:15:06.850522Z",
     "iopub.status.idle": "2024-09-24T08:15:06.856417Z",
     "shell.execute_reply": "2024-09-24T08:15:06.855417Z"
    },
    "papermill": {
     "duration": 0.02007,
     "end_time": "2024-09-24T08:15:06.858605",
     "exception": false,
     "start_time": "2024-09-24T08:15:06.838535",
     "status": "completed"
    },
    "tags": []
   },
   "outputs": [],
   "source": [
    "def save_submission(test_preds, name, score):\n",
    "    sub = pd.read_csv(CFG.sample_sub_path)\n",
    "    sub[CFG.target] = test_preds\n",
    "    sub.to_csv(f'sub_{name}_{round(score)}.csv', index=False)\n",
    "    return sub"
   ]
  },
  {
   "cell_type": "code",
   "execution_count": 10,
   "id": "febfaa7b",
   "metadata": {
    "_kg_hide-input": true,
    "execution": {
     "iopub.execute_input": "2024-09-24T08:15:06.881703Z",
     "iopub.status.busy": "2024-09-24T08:15:06.881248Z",
     "iopub.status.idle": "2024-09-24T08:15:06.891134Z",
     "shell.execute_reply": "2024-09-24T08:15:06.890188Z"
    },
    "papermill": {
     "duration": 0.024306,
     "end_time": "2024-09-24T08:15:06.893506",
     "exception": false,
     "start_time": "2024-09-24T08:15:06.869200",
     "status": "completed"
    },
    "tags": []
   },
   "outputs": [],
   "source": [
    "lgbm_params = {\n",
    "    'colsample_bytree': 0.5641846558360547,\n",
    "    'learning_rate': 0.0076680609857264544,\n",
    "    'max_depth': 35,\n",
    "    'min_child_samples': 183,\n",
    "    'min_child_weight': 0.7202301665597771,\n",
    "    'n_estimators': 411,\n",
    "    'n_jobs': -1,\n",
    "    'num_leaves': 431,\n",
    "    'random_state': 228,\n",
    "    'reg_alpha': 4.430227550972671,\n",
    "    'reg_lambda': 0.8334279654558774,\n",
    "    'subsample': 0.9642789117921036,\n",
    "    'verbose': -1\n",
    "}\n",
    "\n",
    "xgb_params = {\n",
    "    'colsample_bylevel': 0.9954139069968206,\n",
    "    'colsample_bynode': 0.9104404597241588,\n",
    "    'colsample_bytree': 0.9994200442751848,\n",
    "    'gamma': 1.3161464200360995,\n",
    "    'learning_rate': 0.009197285095347237,\n",
    "    'max_depth': 17,\n",
    "    'min_child_weight': 411.0439744170577,\n",
    "    'n_estimators': 847,\n",
    "    'n_jobs': -1,\n",
    "    'random_state': 228,\n",
    "    'reg_alpha': 4.065307128570309,\n",
    "    'reg_lambda': 8.592219226587531,\n",
    "    'subsample': 0.5007091349122316,\n",
    "    'verbosity': 0\n",
    "}\n",
    "\n",
    "cb_params = {\n",
    "    'border_count': 229,\n",
    "    'colsample_bylevel': 0.15556856044132572,\n",
    "    'depth': 10,\n",
    "    'iterations': 1724,\n",
    "    'l2_leaf_reg': 47.76800893648283,\n",
    "    'learning_rate': 0.012564822193515566,\n",
    "    'min_data_in_leaf': 257,\n",
    "    'random_state': 228,\n",
    "    'random_strength': 0.6341216161996276,\n",
    "    'subsample': 0.6051236320741833,\n",
    "    'verbose': False\n",
    "}\n",
    "\n",
    "hgb_params = {\n",
    "    'l2_regularization': 99.14988687043189,\n",
    "    'learning_rate': 0.04015679297216836,\n",
    "    'max_depth': 163,\n",
    "    'max_iter': 1711,\n",
    "    'max_leaf_nodes': 32,\n",
    "    'min_samples_leaf': 482,\n",
    "    'random_state': 228\n",
    "}\n",
    "\n",
    "gb_params = {\n",
    "    'learning_rate': 0.07849442432087823,\n",
    "    'max_depth': 35,\n",
    "    'max_features': 0.9056494041270672,\n",
    "    'max_leaf_nodes': 461,\n",
    "    'min_samples_leaf': 0.016405520047344413,\n",
    "    'min_samples_split': 0.31183798193591405,\n",
    "    'min_weight_fraction_leaf': 0.007016725956483283,\n",
    "    'n_estimators': 1161,\n",
    "    'random_state': 228,\n",
    "    'subsample': 0.970206018335437\n",
    "}"
   ]
  },
  {
   "cell_type": "code",
   "execution_count": 11,
   "id": "29fd2d8a",
   "metadata": {
    "execution": {
     "iopub.execute_input": "2024-09-24T08:15:06.916687Z",
     "iopub.status.busy": "2024-09-24T08:15:06.916273Z",
     "iopub.status.idle": "2024-09-24T08:15:06.921059Z",
     "shell.execute_reply": "2024-09-24T08:15:06.920040Z"
    },
    "papermill": {
     "duration": 0.018876,
     "end_time": "2024-09-24T08:15:06.923310",
     "exception": false,
     "start_time": "2024-09-24T08:15:06.904434",
     "status": "completed"
    },
    "tags": []
   },
   "outputs": [],
   "source": [
    "oof_preds = {}\n",
    "test_preds = {}\n",
    "scores = {}"
   ]
  },
  {
   "cell_type": "code",
   "execution_count": 12,
   "id": "8d1956e3",
   "metadata": {
    "execution": {
     "iopub.execute_input": "2024-09-24T08:15:06.947589Z",
     "iopub.status.busy": "2024-09-24T08:15:06.946685Z",
     "iopub.status.idle": "2024-09-24T08:15:08.240292Z",
     "shell.execute_reply": "2024-09-24T08:15:08.239186Z"
    },
    "papermill": {
     "duration": 1.308161,
     "end_time": "2024-09-24T08:15:08.242797",
     "exception": false,
     "start_time": "2024-09-24T08:15:06.934636",
     "status": "completed"
    },
    "tags": []
   },
   "outputs": [],
   "source": [
    "X, y, X_test = get_data()"
   ]
  },
  {
   "cell_type": "code",
   "execution_count": 13,
   "id": "f024f945",
   "metadata": {
    "execution": {
     "iopub.execute_input": "2024-09-24T08:15:08.268794Z",
     "iopub.status.busy": "2024-09-24T08:15:08.268355Z",
     "iopub.status.idle": "2024-09-24T08:18:56.072270Z",
     "shell.execute_reply": "2024-09-24T08:18:56.071197Z"
    },
    "papermill": {
     "duration": 227.828953,
     "end_time": "2024-09-24T08:18:56.084804",
     "exception": false,
     "start_time": "2024-09-24T08:15:08.255851",
     "status": "completed"
    },
    "tags": []
   },
   "outputs": [
    {
     "name": "stdout",
     "output_type": "stream",
     "text": [
      "Training LGBMRegressor\n",
      "\n",
      "--- Fold 1 - RMSE: 71841\n",
      "--- Fold 2 - RMSE: 73238\n",
      "--- Fold 3 - RMSE: 72646\n",
      "--- Fold 4 - RMSE: 72094\n",
      "--- Fold 5 - RMSE: 73406\n",
      "\n",
      "Overall RMSE: 72647 ± 613\n"
     ]
    }
   ],
   "source": [
    "lgbm_model = LGBMRegressor(**lgbm_params)\n",
    "lgbm_trainer = Trainer(lgbm_model, CFG, save_preds=True)\n",
    "oof_preds['LightGBM'], test_preds['LightGBM'], scores['LightGBM'] = lgbm_trainer.fit_predict(X, y, X_test)"
   ]
  },
  {
   "cell_type": "code",
   "execution_count": 14,
   "id": "911b2669",
   "metadata": {
    "execution": {
     "iopub.execute_input": "2024-09-24T08:18:56.108900Z",
     "iopub.status.busy": "2024-09-24T08:18:56.108466Z",
     "iopub.status.idle": "2024-09-24T08:22:55.644408Z",
     "shell.execute_reply": "2024-09-24T08:22:55.642793Z"
    },
    "papermill": {
     "duration": 239.560087,
     "end_time": "2024-09-24T08:22:55.656168",
     "exception": false,
     "start_time": "2024-09-24T08:18:56.096081",
     "status": "completed"
    },
    "tags": []
   },
   "outputs": [
    {
     "name": "stdout",
     "output_type": "stream",
     "text": [
      "Training XGBRegressor\n",
      "\n",
      "--- Fold 1 - RMSE: 71804\n",
      "--- Fold 2 - RMSE: 73176\n",
      "--- Fold 3 - RMSE: 72680\n",
      "--- Fold 4 - RMSE: 72050\n",
      "--- Fold 5 - RMSE: 73418\n",
      "\n",
      "Overall RMSE: 72628 ± 623\n"
     ]
    }
   ],
   "source": [
    "xgb_model = XGBRegressor(**xgb_params)\n",
    "xgb_trainer = Trainer(xgb_model, CFG, save_preds=True)\n",
    "oof_preds['XGBoost'], test_preds['XGBoost'], scores['XGBoost'] = xgb_trainer.fit_predict(X, y, X_test)"
   ]
  },
  {
   "cell_type": "code",
   "execution_count": 15,
   "id": "279f6f07",
   "metadata": {
    "execution": {
     "iopub.execute_input": "2024-09-24T08:22:55.682521Z",
     "iopub.status.busy": "2024-09-24T08:22:55.681508Z",
     "iopub.status.idle": "2024-09-24T08:24:59.099202Z",
     "shell.execute_reply": "2024-09-24T08:24:59.098374Z"
    },
    "papermill": {
     "duration": 123.433909,
     "end_time": "2024-09-24T08:24:59.101701",
     "exception": false,
     "start_time": "2024-09-24T08:22:55.667792",
     "status": "completed"
    },
    "tags": []
   },
   "outputs": [
    {
     "name": "stdout",
     "output_type": "stream",
     "text": [
      "Training CatBoostRegressor\n",
      "\n",
      "--- Fold 1 - RMSE: 71957\n",
      "--- Fold 2 - RMSE: 73273\n",
      "--- Fold 3 - RMSE: 72792\n",
      "--- Fold 4 - RMSE: 72118\n",
      "--- Fold 5 - RMSE: 73593\n",
      "\n",
      "Overall RMSE: 72749 ± 635\n"
     ]
    }
   ],
   "source": [
    "cb_model = CatBoostRegressor(**cb_params)\n",
    "cb_trainer = Trainer(cb_model, CFG, save_preds=True)\n",
    "oof_preds['CatBoost'], test_preds['CatBoost'], scores['CatBoost'] = cb_trainer.fit_predict(X, y, X_test)"
   ]
  },
  {
   "cell_type": "code",
   "execution_count": 16,
   "id": "be8d4b95",
   "metadata": {
    "execution": {
     "iopub.execute_input": "2024-09-24T08:24:59.127315Z",
     "iopub.status.busy": "2024-09-24T08:24:59.126387Z",
     "iopub.status.idle": "2024-09-24T08:25:38.898362Z",
     "shell.execute_reply": "2024-09-24T08:25:38.897050Z"
    },
    "papermill": {
     "duration": 39.787637,
     "end_time": "2024-09-24T08:25:38.901054",
     "exception": false,
     "start_time": "2024-09-24T08:24:59.113417",
     "status": "completed"
    },
    "tags": []
   },
   "outputs": [
    {
     "name": "stdout",
     "output_type": "stream",
     "text": [
      "Training HistGradientBoostingRegressor\n",
      "\n",
      "--- Fold 1 - RMSE: 71778\n",
      "--- Fold 2 - RMSE: 73304\n",
      "--- Fold 3 - RMSE: 72701\n",
      "--- Fold 4 - RMSE: 72150\n",
      "--- Fold 5 - RMSE: 73499\n",
      "\n",
      "Overall RMSE: 72689 ± 657\n"
     ]
    }
   ],
   "source": [
    "hgb_model = HistGradientBoostingRegressor(**hgb_params)\n",
    "hgb_trainer = Trainer(hgb_model, CFG, save_preds=True)\n",
    "oof_preds['HistGB'], test_preds['HistGB'], scores['HistGB'] = hgb_trainer.fit_predict(X, y, X_test)"
   ]
  },
  {
   "cell_type": "code",
   "execution_count": 17,
   "id": "5c955cc2",
   "metadata": {
    "execution": {
     "iopub.execute_input": "2024-09-24T08:25:38.927437Z",
     "iopub.status.busy": "2024-09-24T08:25:38.927026Z",
     "iopub.status.idle": "2024-09-24T09:06:57.539591Z",
     "shell.execute_reply": "2024-09-24T09:06:57.538473Z"
    },
    "papermill": {
     "duration": 2478.639686,
     "end_time": "2024-09-24T09:06:57.553048",
     "exception": false,
     "start_time": "2024-09-24T08:25:38.913362",
     "status": "completed"
    },
    "tags": []
   },
   "outputs": [
    {
     "name": "stdout",
     "output_type": "stream",
     "text": [
      "Training GradientBoostingRegressor\n",
      "\n",
      "--- Fold 1 - RMSE: 71876\n",
      "--- Fold 2 - RMSE: 73217\n",
      "--- Fold 3 - RMSE: 72704\n",
      "--- Fold 4 - RMSE: 72111\n",
      "--- Fold 5 - RMSE: 73385\n",
      "\n",
      "Overall RMSE: 72661 ± 592\n"
     ]
    }
   ],
   "source": [
    "gb_model = GradientBoostingRegressor(**gb_params)\n",
    "gb_trainer = Trainer(gb_model, CFG, save_preds=True)\n",
    "oof_preds['GradientBoosting'], test_preds['GradientBoosting'], scores['GradientBoosting'] = gb_trainer.fit_predict(X, y, X_test)"
   ]
  },
  {
   "cell_type": "markdown",
   "id": "f1a43dc6",
   "metadata": {
    "papermill": {
     "duration": 0.012528,
     "end_time": "2024-09-24T09:06:57.577739",
     "exception": false,
     "start_time": "2024-09-24T09:06:57.565211",
     "status": "completed"
    },
    "tags": []
   },
   "source": [
    "# Ensembling base models"
   ]
  },
  {
   "cell_type": "code",
   "execution_count": 18,
   "id": "de92aef7",
   "metadata": {
    "execution": {
     "iopub.execute_input": "2024-09-24T09:06:57.604648Z",
     "iopub.status.busy": "2024-09-24T09:06:57.604187Z",
     "iopub.status.idle": "2024-09-24T09:06:57.613855Z",
     "shell.execute_reply": "2024-09-24T09:06:57.612736Z"
    },
    "papermill": {
     "duration": 0.025911,
     "end_time": "2024-09-24T09:06:57.616122",
     "exception": false,
     "start_time": "2024-09-24T09:06:57.590211",
     "status": "completed"
    },
    "tags": []
   },
   "outputs": [],
   "source": [
    "def plot_weights(title, weights):\n",
    "    plt.figure(figsize=(10, 4))\n",
    "\n",
    "    weights = pd.Series(weights, index=test_preds.keys()).sort_values(ascending=False)\n",
    "    sns.barplot(y=weights.index, x=weights.values, palette='RdYlGn_r')\n",
    "    plt.title(title)\n",
    "    plt.ylabel('')\n",
    "    plt.xlabel('')\n",
    "\n",
    "    for i, (value, name) in enumerate(zip(weights, test_preds.keys())):\n",
    "        if value > 0:\n",
    "            plt.text(value, i, f'{value:.3f}', va='center', ha='left', color='black')\n",
    "        else:\n",
    "            plt.text(value, i, f'{value:.3f}', va='center', ha='right', color='black')\n",
    "\n",
    "    xlim = plt.xlim()\n",
    "    plt.xlim(xlim[0] - 1.2 * abs(xlim[0]), xlim[1] + 0.1 * abs(xlim[1]))\n",
    "\n",
    "    plt.tight_layout()\n",
    "    plt.show()"
   ]
  },
  {
   "cell_type": "markdown",
   "id": "330257c0",
   "metadata": {
    "papermill": {
     "duration": 0.013664,
     "end_time": "2024-09-24T09:06:57.642061",
     "exception": false,
     "start_time": "2024-09-24T09:06:57.628397",
     "status": "completed"
    },
    "tags": []
   },
   "source": [
    "## Weighted Averaging\n",
    "\n",
    "One simple way to combine the predictions of multiple models is to assign a weight to each model and take the weighted average of the predictions. To find the optimal weights, we can use a hyperparameter optimization tool such as Optuna. Here, I've defined an Optuna run that optimizes the weights assigned to each model based on the overall RMSE achieved for each set of weights.\n"
   ]
  },
  {
   "cell_type": "code",
   "execution_count": 19,
   "id": "cc10f49a",
   "metadata": {
    "execution": {
     "iopub.execute_input": "2024-09-24T09:06:57.726016Z",
     "iopub.status.busy": "2024-09-24T09:06:57.725255Z",
     "iopub.status.idle": "2024-09-24T09:06:57.733946Z",
     "shell.execute_reply": "2024-09-24T09:06:57.732782Z"
    },
    "papermill": {
     "duration": 0.079428,
     "end_time": "2024-09-24T09:06:57.736728",
     "exception": false,
     "start_time": "2024-09-24T09:06:57.657300",
     "status": "completed"
    },
    "tags": []
   },
   "outputs": [],
   "source": [
    "def objective(trial):\n",
    "    lgbm_weight = trial.suggest_float('lgbm_weight', 0.0, 1.0)\n",
    "    xgb_weight = trial.suggest_float('xgb_weight', 0.0, 1.0)\n",
    "    cb_weight = trial.suggest_float('cb_weight', 0.0, 1.0)\n",
    "    hgb_weight = trial.suggest_float('hgb_weight', 0.0, 1.0)\n",
    "    gb_weight = trial.suggest_float('gb_weight', 0.0, 1.0)\n",
    "\n",
    "    weights = [\n",
    "        lgbm_weight,\n",
    "        xgb_weight,\n",
    "        cb_weight, \n",
    "        hgb_weight,\n",
    "        gb_weight\n",
    "    ]\n",
    "    weights /= np.sum(weights)\n",
    "\n",
    "    preds = np.zeros((X.shape[0]))\n",
    "    for model, weight in zip(oof_preds.keys(), weights):\n",
    "        preds += oof_preds[model] * weight\n",
    "\n",
    "    return mean_squared_error(preds, y, squared=False)"
   ]
  },
  {
   "cell_type": "code",
   "execution_count": 20,
   "id": "efcd0a3c",
   "metadata": {
    "_kg_hide-output": true,
    "execution": {
     "iopub.execute_input": "2024-09-24T09:06:57.764507Z",
     "iopub.status.busy": "2024-09-24T09:06:57.764077Z",
     "iopub.status.idle": "2024-09-24T09:07:18.953672Z",
     "shell.execute_reply": "2024-09-24T09:07:18.952339Z"
    },
    "papermill": {
     "duration": 21.206537,
     "end_time": "2024-09-24T09:07:18.956179",
     "exception": false,
     "start_time": "2024-09-24T09:06:57.749642",
     "status": "completed"
    },
    "scrolled": true,
    "tags": []
   },
   "outputs": [
    {
     "name": "stderr",
     "output_type": "stream",
     "text": [
      "[I 2024-09-24 09:06:57,768] A new study created in memory with name: no-name-9b8e880d-6364-4576-892f-3f422157d719\n",
      "[I 2024-09-24 09:06:57,777] Trial 0 finished with value: 72592.55753768113 and parameters: {'lgbm_weight': 0.4238108114695278, 'xgb_weight': 0.5417427669021565, 'cb_weight': 0.6885548977177369, 'hgb_weight': 0.34608302515355915, 'gb_weight': 0.4390290042342089}. Best is trial 0 with value: 72592.55753768113.\n",
      "[I 2024-09-24 09:06:57,782] Trial 1 finished with value: 72576.86721681936 and parameters: {'lgbm_weight': 0.5890490882552291, 'xgb_weight': 0.6536621729379826, 'cb_weight': 0.11026583566095016, 'hgb_weight': 0.14290265496795074, 'gb_weight': 0.8741773566676976}. Best is trial 1 with value: 72576.86721681936.\n",
      "[I 2024-09-24 09:06:57,788] Trial 2 finished with value: 72588.41097936011 and parameters: {'lgbm_weight': 0.3370017886945007, 'xgb_weight': 0.0690762632890779, 'cb_weight': 0.3119193394222002, 'hgb_weight': 0.6127806231598824, 'gb_weight': 0.6540414802670811}. Best is trial 1 with value: 72576.86721681936.\n",
      "[I 2024-09-24 09:06:57,794] Trial 3 finished with value: 72622.57347106913 and parameters: {'lgbm_weight': 0.9019173161265741, 'xgb_weight': 0.09308366220543696, 'cb_weight': 0.9244497226698039, 'hgb_weight': 0.18210112807430978, 'gb_weight': 0.049038918177003565}. Best is trial 1 with value: 72576.86721681936.\n",
      "[I 2024-09-24 09:06:57,800] Trial 4 finished with value: 72605.64973777969 and parameters: {'lgbm_weight': 0.2527441719989775, 'xgb_weight': 0.1826865086609536, 'cb_weight': 0.44111359306734066, 'hgb_weight': 0.7383970181535947, 'gb_weight': 0.29166448974847015}. Best is trial 1 with value: 72576.86721681936.\n",
      "[I 2024-09-24 09:06:57,805] Trial 5 finished with value: 72609.08984603494 and parameters: {'lgbm_weight': 0.2833477186170118, 'xgb_weight': 0.1298766880433775, 'cb_weight': 0.6457086389716167, 'hgb_weight': 0.05455697208908716, 'gb_weight': 0.28154316530908785}. Best is trial 1 with value: 72576.86721681936.\n",
      "[I 2024-09-24 09:06:57,810] Trial 6 finished with value: 72580.7402511432 and parameters: {'lgbm_weight': 0.3434105184743179, 'xgb_weight': 0.21657858910800498, 'cb_weight': 0.12818860512945918, 'hgb_weight': 0.4152257525979104, 'gb_weight': 0.6072169320209568}. Best is trial 1 with value: 72576.86721681936.\n",
      "[I 2024-09-24 09:06:57,816] Trial 7 finished with value: 72590.82135222404 and parameters: {'lgbm_weight': 0.48208289394067116, 'xgb_weight': 0.0056310875634181246, 'cb_weight': 0.47664683270455677, 'hgb_weight': 0.09416782637433863, 'gb_weight': 0.4739188545206965}. Best is trial 1 with value: 72576.86721681936.\n",
      "[I 2024-09-24 09:06:57,822] Trial 8 finished with value: 72596.2839638804 and parameters: {'lgbm_weight': 0.39475752051885105, 'xgb_weight': 0.2725631144869781, 'cb_weight': 0.6919906081588489, 'hgb_weight': 0.6287500848087164, 'gb_weight': 0.5407462328199973}. Best is trial 1 with value: 72576.86721681936.\n",
      "[I 2024-09-24 09:06:57,828] Trial 9 finished with value: 72584.91572279835 and parameters: {'lgbm_weight': 0.9245543572376594, 'xgb_weight': 0.28561500460894307, 'cb_weight': 0.5732866384964466, 'hgb_weight': 0.034174307904028534, 'gb_weight': 0.5758903071098127}. Best is trial 1 with value: 72576.86721681936.\n",
      "[I 2024-09-24 09:06:57,859] Trial 10 finished with value: 72594.94443340007 and parameters: {'lgbm_weight': 0.018217459460390883, 'xgb_weight': 0.8645955788622749, 'cb_weight': 0.05100245162001715, 'hgb_weight': 0.9900432582222168, 'gb_weight': 0.9982624707904182}. Best is trial 1 with value: 72576.86721681936.\n",
      "[I 2024-09-24 09:06:57,893] Trial 11 finished with value: 72576.42021401068 and parameters: {'lgbm_weight': 0.6730618250672594, 'xgb_weight': 0.6146349020220003, 'cb_weight': 0.0644515032528824, 'hgb_weight': 0.3064064358629037, 'gb_weight': 0.8443931574785736}. Best is trial 11 with value: 72576.42021401068.\n",
      "[I 2024-09-24 09:06:57,924] Trial 12 finished with value: 72576.52482005718 and parameters: {'lgbm_weight': 0.7089926397672148, 'xgb_weight': 0.6723797379630169, 'cb_weight': 0.18294384826859017, 'hgb_weight': 0.27919501123608303, 'gb_weight': 0.9063298947096142}. Best is trial 11 with value: 72576.42021401068.\n",
      "[I 2024-09-24 09:06:57,956] Trial 13 finished with value: 72577.57121819764 and parameters: {'lgbm_weight': 0.7055539495457376, 'xgb_weight': 0.7751699359509925, 'cb_weight': 0.267830981626496, 'hgb_weight': 0.2933962421771715, 'gb_weight': 0.8013143470593334}. Best is trial 11 with value: 72576.42021401068.\n",
      "[I 2024-09-24 09:06:57,987] Trial 14 finished with value: 72578.23242977835 and parameters: {'lgbm_weight': 0.7579960543323416, 'xgb_weight': 0.4385379567819502, 'cb_weight': 0.25178000228496616, 'hgb_weight': 0.48823621875922507, 'gb_weight': 0.7959107923372277}. Best is trial 11 with value: 72576.42021401068.\n",
      "[I 2024-09-24 09:06:58,020] Trial 15 finished with value: 72578.1460535479 and parameters: {'lgbm_weight': 0.6515980978297826, 'xgb_weight': 0.9871308254846874, 'cb_weight': 0.016201512889604475, 'hgb_weight': 0.23549596979181125, 'gb_weight': 0.9915005110460442}. Best is trial 11 with value: 72576.42021401068.\n",
      "[I 2024-09-24 09:06:58,051] Trial 16 finished with value: 72577.44201910551 and parameters: {'lgbm_weight': 0.7773970018953239, 'xgb_weight': 0.6258809768113754, 'cb_weight': 0.18954592584321045, 'hgb_weight': 0.40338090476926325, 'gb_weight': 0.7389637692300832}. Best is trial 11 with value: 72576.42021401068.\n",
      "[I 2024-09-24 09:06:58,082] Trial 17 finished with value: 72581.48331641438 and parameters: {'lgbm_weight': 0.5586161563773884, 'xgb_weight': 0.4359549002022987, 'cb_weight': 0.40086592238474283, 'hgb_weight': 0.560928229779533, 'gb_weight': 0.91039458018234}. Best is trial 11 with value: 72576.42021401068.\n",
      "[I 2024-09-24 09:06:58,113] Trial 18 finished with value: 72582.65773714648 and parameters: {'lgbm_weight': 0.9991313449693503, 'xgb_weight': 0.7503697704138722, 'cb_weight': 0.3734419715188853, 'hgb_weight': 0.7989518483339304, 'gb_weight': 0.7141114389925136}. Best is trial 11 with value: 72576.42021401068.\n",
      "[I 2024-09-24 09:06:58,144] Trial 19 finished with value: 72576.0876175273 and parameters: {'lgbm_weight': 0.8302056850546284, 'xgb_weight': 0.5381884457994071, 'cb_weight': 0.1694891824211965, 'hgb_weight': 0.3197407636643118, 'gb_weight': 0.8828497135898756}. Best is trial 19 with value: 72576.0876175273.\n",
      "[I 2024-09-24 09:06:58,176] Trial 20 finished with value: 72583.55834881197 and parameters: {'lgbm_weight': 0.8677372074281303, 'xgb_weight': 0.3645289189242494, 'cb_weight': 0.00875459461553707, 'hgb_weight': 0.5061850334015261, 'gb_weight': 0.3517055027878988}. Best is trial 19 with value: 72576.0876175273.\n",
      "[I 2024-09-24 09:06:58,210] Trial 21 finished with value: 72576.0783968033 and parameters: {'lgbm_weight': 0.8091757063892091, 'xgb_weight': 0.5658419152919447, 'cb_weight': 0.17651230980030114, 'hgb_weight': 0.28604778354112875, 'gb_weight': 0.855023552579795}. Best is trial 21 with value: 72576.0783968033.\n",
      "[I 2024-09-24 09:06:58,243] Trial 22 finished with value: 72576.166249178 and parameters: {'lgbm_weight': 0.8283893497160357, 'xgb_weight': 0.5471520826779203, 'cb_weight': 0.11751316167638537, 'hgb_weight': 0.35897700112220654, 'gb_weight': 0.8333072472719214}. Best is trial 21 with value: 72576.0783968033.\n",
      "[I 2024-09-24 09:06:58,275] Trial 23 finished with value: 72577.69435658466 and parameters: {'lgbm_weight': 0.8250030917141906, 'xgb_weight': 0.5469141064972489, 'cb_weight': 0.19869473123391923, 'hgb_weight': 0.4162714981229744, 'gb_weight': 0.7007471046648612}. Best is trial 21 with value: 72576.0783968033.\n",
      "[I 2024-09-24 09:06:58,308] Trial 24 finished with value: 72576.81755392239 and parameters: {'lgbm_weight': 0.9955024604205661, 'xgb_weight': 0.4539473696501139, 'cb_weight': 0.3188759751078336, 'hgb_weight': 0.18594122207940417, 'gb_weight': 0.9213157828226213}. Best is trial 21 with value: 72576.0783968033.\n",
      "[I 2024-09-24 09:06:58,341] Trial 25 finished with value: 72586.22798680598 and parameters: {'lgbm_weight': 0.800651833123027, 'xgb_weight': 0.5254723247831528, 'cb_weight': 0.8358615996305788, 'hgb_weight': 0.36111173193146606, 'gb_weight': 0.777811038594803}. Best is trial 21 with value: 72576.0783968033.\n",
      "[I 2024-09-24 09:06:58,373] Trial 26 finished with value: 72578.30921364205 and parameters: {'lgbm_weight': 0.9316283746837952, 'xgb_weight': 0.36116101619883056, 'cb_weight': 0.14891082503787795, 'hgb_weight': 0.4836756033201541, 'gb_weight': 0.6726080085069497}. Best is trial 21 with value: 72576.0783968033.\n",
      "[I 2024-09-24 09:06:58,407] Trial 27 finished with value: 72577.68564292307 and parameters: {'lgbm_weight': 0.6026334775925555, 'xgb_weight': 0.7375175485356781, 'cb_weight': 0.2690614242459265, 'hgb_weight': 0.24393609923681386, 'gb_weight': 0.9572446537439158}. Best is trial 21 with value: 72576.0783968033.\n",
      "[I 2024-09-24 09:06:58,442] Trial 28 finished with value: 72579.17820033143 and parameters: {'lgbm_weight': 0.8597361301077464, 'xgb_weight': 0.5685086446669134, 'cb_weight': 0.527518765734325, 'hgb_weight': 0.13989021959797598, 'gb_weight': 0.8453186118952385}. Best is trial 21 with value: 72576.0783968033.\n",
      "[I 2024-09-24 09:06:58,475] Trial 29 finished with value: 72582.67631673778 and parameters: {'lgbm_weight': 0.5149594766658991, 'xgb_weight': 0.8681565392030004, 'cb_weight': 0.09067783650240543, 'hgb_weight': 0.3499409810343892, 'gb_weight': 0.4037502158716021}. Best is trial 21 with value: 72576.0783968033.\n",
      "[I 2024-09-24 09:06:58,508] Trial 30 finished with value: 72599.30354576746 and parameters: {'lgbm_weight': 0.7511232342598048, 'xgb_weight': 0.4979130062233409, 'cb_weight': 0.368979199236558, 'hgb_weight': 0.21022810576245887, 'gb_weight': 0.008029599916231533}. Best is trial 21 with value: 72576.0783968033.\n",
      "[I 2024-09-24 09:06:58,540] Trial 31 finished with value: 72576.464306817 and parameters: {'lgbm_weight': 0.6595478471306745, 'xgb_weight': 0.6211250594345772, 'cb_weight': 0.09657286471751651, 'hgb_weight': 0.29108141029369144, 'gb_weight': 0.856761882930376}. Best is trial 21 with value: 72576.0783968033.\n",
      "[I 2024-09-24 09:06:58,574] Trial 32 finished with value: 72576.46948337884 and parameters: {'lgbm_weight': 0.6815883123996964, 'xgb_weight': 0.5942765145554412, 'cb_weight': 0.06608192843102109, 'hgb_weight': 0.339742384452067, 'gb_weight': 0.8364119997635419}. Best is trial 21 with value: 72576.0783968033.\n",
      "[I 2024-09-24 09:06:58,609] Trial 33 finished with value: 72577.91249914574 and parameters: {'lgbm_weight': 0.8302946377920027, 'xgb_weight': 0.6889536636121634, 'cb_weight': 0.21852055440748103, 'hgb_weight': 0.44431243501259776, 'gb_weight': 0.7565364055638423}. Best is trial 21 with value: 72576.0783968033.\n",
      "[I 2024-09-24 09:06:58,643] Trial 34 finished with value: 72577.04836416565 and parameters: {'lgbm_weight': 0.746360943830897, 'xgb_weight': 0.48163713561907995, 'cb_weight': 0.15275668831581019, 'hgb_weight': 0.32364026816383124, 'gb_weight': 0.6287743348644771}. Best is trial 21 with value: 72576.0783968033.\n",
      "[I 2024-09-24 09:06:58,678] Trial 35 finished with value: 72577.9953005563 and parameters: {'lgbm_weight': 0.6169981451664222, 'xgb_weight': 0.35536272265428237, 'cb_weight': 0.3072651665658636, 'hgb_weight': 0.10761627097034271, 'gb_weight': 0.8791994245700679}. Best is trial 21 with value: 72576.0783968033.\n",
      "[I 2024-09-24 09:06:58,713] Trial 36 finished with value: 72577.26582764984 and parameters: {'lgbm_weight': 0.9010141655396283, 'xgb_weight': 0.6980083814421681, 'cb_weight': 0.00613909610362795, 'hgb_weight': 0.5807331630744262, 'gb_weight': 0.9314421046730981}. Best is trial 21 with value: 72576.0783968033.\n",
      "[I 2024-09-24 09:06:58,746] Trial 37 finished with value: 72590.23066129953 and parameters: {'lgbm_weight': 0.12597160048521383, 'xgb_weight': 0.5636875718885331, 'cb_weight': 0.11990656589878104, 'hgb_weight': 0.1786179978377725, 'gb_weight': 0.18136362077323587}. Best is trial 21 with value: 72576.0783968033.\n",
      "[I 2024-09-24 09:06:58,780] Trial 38 finished with value: 72587.19070603221 and parameters: {'lgbm_weight': 0.943696987223563, 'xgb_weight': 0.6398550133906789, 'cb_weight': 0.9849029923045495, 'hgb_weight': 0.372604648909231, 'gb_weight': 0.8094058706295976}. Best is trial 21 with value: 72576.0783968033.\n",
      "[I 2024-09-24 09:06:58,815] Trial 39 finished with value: 72581.69113595643 and parameters: {'lgbm_weight': 0.5570715763668961, 'xgb_weight': 0.40804252248007283, 'cb_weight': 0.0642826324165684, 'hgb_weight': 0.6936489032022732, 'gb_weight': 0.6506746356529746}. Best is trial 21 with value: 72576.0783968033.\n",
      "[I 2024-09-24 09:06:58,848] Trial 40 finished with value: 72589.55834296907 and parameters: {'lgbm_weight': 0.84310848119213, 'xgb_weight': 0.7989619863940074, 'cb_weight': 0.22471219129562203, 'hgb_weight': 0.2756963707685293, 'gb_weight': 0.13512094534439312}. Best is trial 21 with value: 72576.0783968033.\n",
      "[I 2024-09-24 09:06:58,885] Trial 41 finished with value: 72576.5799729749 and parameters: {'lgbm_weight': 0.6486378430510562, 'xgb_weight': 0.6276469419079266, 'cb_weight': 0.10319620830935743, 'hgb_weight': 0.30169754136375676, 'gb_weight': 0.8432767957048518}. Best is trial 21 with value: 72576.0783968033.\n",
      "[I 2024-09-24 09:06:58,917] Trial 42 finished with value: 72576.08131486006 and parameters: {'lgbm_weight': 0.7248654091229753, 'xgb_weight': 0.5967364241457441, 'cb_weight': 0.14535715434246882, 'hgb_weight': 0.24556903678469374, 'gb_weight': 0.879169843946568}. Best is trial 21 with value: 72576.0783968033.\n",
      "[I 2024-09-24 09:06:58,951] Trial 43 finished with value: 72576.2499237407 and parameters: {'lgbm_weight': 0.7216176920700738, 'xgb_weight': 0.5125741246937034, 'cb_weight': 0.13996398750222652, 'hgb_weight': 0.2397690641044709, 'gb_weight': 0.9633682319256072}. Best is trial 21 with value: 72576.0783968033.\n",
      "[I 2024-09-24 09:06:58,986] Trial 44 finished with value: 72576.16477861562 and parameters: {'lgbm_weight': 0.7908442656817426, 'xgb_weight': 0.4944574020499801, 'cb_weight': 0.15007916791004666, 'hgb_weight': 0.14414702842893426, 'gb_weight': 0.974308303610456}. Best is trial 21 with value: 72576.0783968033.\n",
      "[I 2024-09-24 09:06:59,020] Trial 45 finished with value: 72577.09644833053 and parameters: {'lgbm_weight': 0.8795287612828746, 'xgb_weight': 0.4013754080082665, 'cb_weight': 0.31493453224106494, 'hgb_weight': 0.08592944278596279, 'gb_weight': 0.8903762588198336}. Best is trial 21 with value: 72576.0783968033.\n",
      "[I 2024-09-24 09:06:59,053] Trial 46 finished with value: 72578.40933689885 and parameters: {'lgbm_weight': 0.7941627713425476, 'xgb_weight': 0.28945894423070007, 'cb_weight': 0.18536702077057332, 'hgb_weight': 0.013332911846873102, 'gb_weight': 0.5450688904959395}. Best is trial 21 with value: 72576.0783968033.\n",
      "[I 2024-09-24 09:06:59,086] Trial 47 finished with value: 72582.18558178548 and parameters: {'lgbm_weight': 0.8154506310850039, 'xgb_weight': 0.5783965537895294, 'cb_weight': 0.7667500508900958, 'hgb_weight': 0.14678359497659887, 'gb_weight': 0.9934570311331445}. Best is trial 21 with value: 72576.0783968033.\n",
      "[I 2024-09-24 09:06:59,121] Trial 48 finished with value: 72576.25873918639 and parameters: {'lgbm_weight': 0.9482571160402653, 'xgb_weight': 0.4756358120334022, 'cb_weight': 0.2512916151456969, 'hgb_weight': 0.1469212112138175, 'gb_weight': 0.9572651999463259}. Best is trial 21 with value: 72576.0783968033.\n",
      "[I 2024-09-24 09:06:59,153] Trial 49 finished with value: 72579.66968153988 and parameters: {'lgbm_weight': 0.39045813690039166, 'xgb_weight': 0.5364486692006981, 'cb_weight': 0.15034628887542142, 'hgb_weight': 0.3931866799407829, 'gb_weight': 0.754716623946304}. Best is trial 21 with value: 72576.0783968033.\n",
      "[I 2024-09-24 09:06:59,187] Trial 50 finished with value: 72586.2314183283 and parameters: {'lgbm_weight': 0.7467106285925789, 'xgb_weight': 0.6647979189346365, 'cb_weight': 0.6120999581777322, 'hgb_weight': 0.9572461992282635, 'gb_weight': 0.8805823988134025}. Best is trial 21 with value: 72576.0783968033.\n",
      "[I 2024-09-24 09:06:59,222] Trial 51 finished with value: 72576.25423875933 and parameters: {'lgbm_weight': 0.7204525169252249, 'xgb_weight': 0.5230611594182759, 'cb_weight': 0.15178868818622845, 'hgb_weight': 0.24161723264172694, 'gb_weight': 0.9589360137772035}. Best is trial 21 with value: 72576.0783968033.\n",
      "[I 2024-09-24 09:06:59,256] Trial 52 finished with value: 72576.33535843101 and parameters: {'lgbm_weight': 0.7170186559760978, 'xgb_weight': 0.4987787036574105, 'cb_weight': 0.04230895318768879, 'hgb_weight': 0.2106533055181837, 'gb_weight': 0.9379023368090111}. Best is trial 21 with value: 72576.0783968033.\n",
      "[I 2024-09-24 09:06:59,289] Trial 53 finished with value: 72576.54076138044 and parameters: {'lgbm_weight': 0.7900619853091826, 'xgb_weight': 0.4138443843165661, 'cb_weight': 0.23458380073739907, 'hgb_weight': 0.06466345500770496, 'gb_weight': 0.8087225590985434}. Best is trial 21 with value: 72576.0783968033.\n",
      "[I 2024-09-24 09:06:59,323] Trial 54 finished with value: 72575.75330247085 and parameters: {'lgbm_weight': 0.8952850310885294, 'xgb_weight': 0.6036912171659724, 'cb_weight': 0.1220798577726542, 'hgb_weight': 0.2611130191484404, 'gb_weight': 0.9937554287585932}. Best is trial 54 with value: 72575.75330247085.\n",
      "[I 2024-09-24 09:06:59,356] Trial 55 finished with value: 72576.57478709468 and parameters: {'lgbm_weight': 0.9000027182098611, 'xgb_weight': 0.5957320385625545, 'cb_weight': 0.2850614126436378, 'hgb_weight': 0.26975020625520896, 'gb_weight': 0.8838852387512623}. Best is trial 54 with value: 72575.75330247085.\n",
      "[I 2024-09-24 09:06:59,390] Trial 56 finished with value: 72576.79772965671 and parameters: {'lgbm_weight': 0.9782656566049587, 'xgb_weight': 0.7322467611163643, 'cb_weight': 0.18925290177403742, 'hgb_weight': 0.45016061805435914, 'gb_weight': 0.9207826626997}. Best is trial 54 with value: 72575.75330247085.\n",
      "[I 2024-09-24 09:06:59,423] Trial 57 finished with value: 72576.05735961987 and parameters: {'lgbm_weight': 0.8619836041769606, 'xgb_weight': 0.7022465705541348, 'cb_weight': 0.03660649201630892, 'hgb_weight': 0.18901359149852398, 'gb_weight': 0.9830723384681752}. Best is trial 54 with value: 72575.75330247085.\n",
      "[I 2024-09-24 09:06:59,458] Trial 58 finished with value: 72576.28137558537 and parameters: {'lgbm_weight': 0.8761704085567514, 'xgb_weight': 0.7022512755008947, 'cb_weight': 0.03040120433188609, 'hgb_weight': 0.12226906453400976, 'gb_weight': 0.9938346086593812}. Best is trial 54 with value: 72575.75330247085.\n",
      "[I 2024-09-24 09:06:59,492] Trial 59 finished with value: 72575.9826139264 and parameters: {'lgbm_weight': 0.9579460801203569, 'xgb_weight': 0.832526168564829, 'cb_weight': 0.07892062387162135, 'hgb_weight': 0.18527356075575563, 'gb_weight': 0.996615161910905}. Best is trial 54 with value: 72575.75330247085.\n",
      "[I 2024-09-24 09:06:59,526] Trial 60 finished with value: 72576.17278857552 and parameters: {'lgbm_weight': 0.9595819782216826, 'xgb_weight': 0.8431390408795882, 'cb_weight': 0.039951220628161706, 'hgb_weight': 0.20984905746401625, 'gb_weight': 0.9218376603816999}. Best is trial 54 with value: 72575.75330247085.\n",
      "[I 2024-09-24 09:06:59,559] Trial 61 finished with value: 72575.95797135652 and parameters: {'lgbm_weight': 0.9176718671208822, 'xgb_weight': 0.7871394768048694, 'cb_weight': 0.0773402520079171, 'hgb_weight': 0.17524937751925262, 'gb_weight': 0.9640090071198348}. Best is trial 54 with value: 72575.75330247085.\n",
      "[I 2024-09-24 09:06:59,593] Trial 62 finished with value: 72575.97513383112 and parameters: {'lgbm_weight': 0.9119693963032179, 'xgb_weight': 0.8008391135496943, 'cb_weight': 0.08880539998352957, 'hgb_weight': 0.17900557609864468, 'gb_weight': 0.9978916057254906}. Best is trial 54 with value: 72575.75330247085.\n",
      "[I 2024-09-24 09:06:59,626] Trial 63 finished with value: 72576.24216830642 and parameters: {'lgbm_weight': 0.9166449299448075, 'xgb_weight': 0.8972662041416426, 'cb_weight': 0.07894419377664655, 'hgb_weight': 0.18294426306479164, 'gb_weight': 0.9458836181637568}. Best is trial 54 with value: 72575.75330247085.\n",
      "[I 2024-09-24 09:06:59,661] Trial 64 finished with value: 72576.16378011969 and parameters: {'lgbm_weight': 0.9669598204186305, 'xgb_weight': 0.796340499958769, 'cb_weight': 0.10870054667390018, 'hgb_weight': 0.05413475176949792, 'gb_weight': 0.9786036358292096}. Best is trial 54 with value: 72575.75330247085.\n",
      "[I 2024-09-24 09:06:59,696] Trial 65 finished with value: 72576.43595043573 and parameters: {'lgbm_weight': 0.8945745819226566, 'xgb_weight': 0.8247007686896982, 'cb_weight': 0.0006744011746260131, 'hgb_weight': 0.16422660400312183, 'gb_weight': 0.9963556218751852}. Best is trial 54 with value: 72575.75330247085.\n",
      "[I 2024-09-24 09:06:59,729] Trial 66 finished with value: 72576.64113134515 and parameters: {'lgbm_weight': 0.9267877348530233, 'xgb_weight': 0.9760620122573683, 'cb_weight': 0.06822429225134165, 'hgb_weight': 0.10334451368981869, 'gb_weight': 0.9138446494297066}. Best is trial 54 with value: 72575.75330247085.\n",
      "[I 2024-09-24 09:06:59,766] Trial 67 finished with value: 72576.71813882011 and parameters: {'lgbm_weight': 0.8461098785190366, 'xgb_weight': 0.9406326534160983, 'cb_weight': 0.03995447014638913, 'hgb_weight': 0.21084648010087004, 'gb_weight': 0.9048290264504992}. Best is trial 54 with value: 72575.75330247085.\n",
      "[I 2024-09-24 09:06:59,800] Trial 68 finished with value: 72575.87431965327 and parameters: {'lgbm_weight': 0.9966464802822763, 'xgb_weight': 0.7553764859262255, 'cb_weight': 0.1217095130129385, 'hgb_weight': 0.2617354959075564, 'gb_weight': 0.9489354872445024}. Best is trial 54 with value: 72575.75330247085.\n",
      "[I 2024-09-24 09:06:59,836] Trial 69 finished with value: 72575.87510463604 and parameters: {'lgbm_weight': 0.996862088561616, 'xgb_weight': 0.7629232463764377, 'cb_weight': 0.08310203658121, 'hgb_weight': 0.26562869530507244, 'gb_weight': 0.9565890763417174}. Best is trial 54 with value: 72575.75330247085.\n",
      "[I 2024-09-24 09:06:59,870] Trial 70 finished with value: 72580.76003689886 and parameters: {'lgbm_weight': 0.995364376764532, 'xgb_weight': 0.8957771566750614, 'cb_weight': 0.08971316062981216, 'hgb_weight': 0.010140126281922568, 'gb_weight': 0.4558513120150528}. Best is trial 54 with value: 72575.75330247085.\n",
      "[I 2024-09-24 09:06:59,906] Trial 71 finished with value: 72575.82427032218 and parameters: {'lgbm_weight': 0.9555952253476598, 'xgb_weight': 0.7446897413698019, 'cb_weight': 0.1250858731434302, 'hgb_weight': 0.27121719157151325, 'gb_weight': 0.9998830641625852}. Best is trial 54 with value: 72575.75330247085.\n",
      "[I 2024-09-24 09:06:59,941] Trial 72 finished with value: 72575.88515852735 and parameters: {'lgbm_weight': 0.9648436911616828, 'xgb_weight': 0.7684998285660338, 'cb_weight': 0.059056715518890454, 'hgb_weight': 0.26315002562472134, 'gb_weight': 0.9976286821341257}. Best is trial 54 with value: 72575.75330247085.\n",
      "[I 2024-09-24 09:06:59,975] Trial 73 finished with value: 72575.91007853726 and parameters: {'lgbm_weight': 0.9705881933193974, 'xgb_weight': 0.7669555524998398, 'cb_weight': 0.11634520880947576, 'hgb_weight': 0.2693604951440187, 'gb_weight': 0.9470564720036304}. Best is trial 54 with value: 72575.75330247085.\n",
      "[I 2024-09-24 09:07:00,009] Trial 74 finished with value: 72576.12010498538 and parameters: {'lgbm_weight': 0.9916819651279398, 'xgb_weight': 0.7624954131942454, 'cb_weight': 0.2073098953780087, 'hgb_weight': 0.27371227488498323, 'gb_weight': 0.9432413032838713}. Best is trial 54 with value: 72575.75330247085.\n",
      "[I 2024-09-24 09:07:00,046] Trial 75 finished with value: 72575.97765337316 and parameters: {'lgbm_weight': 0.9303256613429706, 'xgb_weight': 0.7336025186639268, 'cb_weight': 0.10491441636129666, 'hgb_weight': 0.32274491946179906, 'gb_weight': 0.9511156931233595}. Best is trial 54 with value: 72575.75330247085.\n",
      "[I 2024-09-24 09:07:00,082] Trial 76 finished with value: 72578.0893749723 and parameters: {'lgbm_weight': 0.9573109805693284, 'xgb_weight': 0.8040700937491155, 'cb_weight': 0.46353761225277434, 'hgb_weight': 0.26023438230833096, 'gb_weight': 0.9080846218301775}. Best is trial 54 with value: 72575.75330247085.\n",
      "[I 2024-09-24 09:07:00,117] Trial 77 finished with value: 72576.04104374257 and parameters: {'lgbm_weight': 0.9112401099581292, 'xgb_weight': 0.7760494610039448, 'cb_weight': 0.12469257191618181, 'hgb_weight': 0.3047025608165371, 'gb_weight': 0.9677896189270058}. Best is trial 54 with value: 72575.75330247085.\n",
      "[I 2024-09-24 09:07:00,152] Trial 78 finished with value: 72576.17767225152 and parameters: {'lgbm_weight': 0.9697563815058834, 'xgb_weight': 0.875665126382921, 'cb_weight': 0.059845582389588245, 'hgb_weight': 0.21724318086256034, 'gb_weight': 0.9374989038583785}. Best is trial 54 with value: 72575.75330247085.\n",
      "[I 2024-09-24 09:07:00,187] Trial 79 finished with value: 72576.76670686956 and parameters: {'lgbm_weight': 0.9966793493520912, 'xgb_weight': 0.7799656895047239, 'cb_weight': 0.17154641133173876, 'hgb_weight': 0.3825824812464921, 'gb_weight': 0.8580144738670663}. Best is trial 54 with value: 72575.75330247085.\n",
      "[I 2024-09-24 09:07:00,221] Trial 80 finished with value: 72576.40038182294 and parameters: {'lgbm_weight': 0.8876864335020943, 'xgb_weight': 0.722515955361216, 'cb_weight': 0.11285669473371482, 'hgb_weight': 0.33706479043689297, 'gb_weight': 0.8234565490116692}. Best is trial 54 with value: 72575.75330247085.\n",
      "[I 2024-09-24 09:07:00,255] Trial 81 finished with value: 72576.00680232815 and parameters: {'lgbm_weight': 0.9367182763043386, 'xgb_weight': 0.7549963445715656, 'cb_weight': 0.09549823109514108, 'hgb_weight': 0.3229411349704247, 'gb_weight': 0.9534415373786215}. Best is trial 54 with value: 72575.75330247085.\n",
      "[I 2024-09-24 09:07:00,291] Trial 82 finished with value: 72575.83906874384 and parameters: {'lgbm_weight': 0.9329997381802154, 'xgb_weight': 0.7369948331119294, 'cb_weight': 0.1247915581514053, 'hgb_weight': 0.25776621118576015, 'gb_weight': 0.967200509087203}. Best is trial 54 with value: 72575.75330247085.\n",
      "[I 2024-09-24 09:07:00,327] Trial 83 finished with value: 72583.84891412106 and parameters: {'lgbm_weight': 0.23563500320569797, 'xgb_weight': 0.6589492103041771, 'cb_weight': 0.01686056186847333, 'hgb_weight': 0.3028792107958482, 'gb_weight': 0.8995557832593899}. Best is trial 54 with value: 72575.75330247085.\n",
      "[I 2024-09-24 09:07:00,364] Trial 84 finished with value: 72575.96814656991 and parameters: {'lgbm_weight': 0.916546923170398, 'xgb_weight': 0.815818059218664, 'cb_weight': 0.12248178152859801, 'hgb_weight': 0.23154137017693577, 'gb_weight': 0.998610401877617}. Best is trial 54 with value: 72575.75330247085.\n",
      "[I 2024-09-24 09:07:00,401] Trial 85 finished with value: 72576.0713044113 and parameters: {'lgbm_weight': 0.9384649011860429, 'xgb_weight': 0.8489883215091767, 'cb_weight': 0.13218843215962645, 'hgb_weight': 0.25525699096206084, 'gb_weight': 0.9710102405939901}. Best is trial 54 with value: 72575.75330247085.\n",
      "[I 2024-09-24 09:07:00,436] Trial 86 finished with value: 72575.86832963354 and parameters: {'lgbm_weight': 0.9763727115781746, 'xgb_weight': 0.7227097787640475, 'cb_weight': 0.16706597090351816, 'hgb_weight': 0.22641769325023675, 'gb_weight': 0.935567308460614}. Best is trial 54 with value: 72575.75330247085.\n",
      "[I 2024-09-24 09:07:00,472] Trial 87 finished with value: 72577.34898808062 and parameters: {'lgbm_weight': 0.9727699624791434, 'xgb_weight': 0.6747549629753866, 'cb_weight': 0.19198945485845914, 'hgb_weight': 0.4233403864407701, 'gb_weight': 0.7799015932405893}. Best is trial 54 with value: 72575.75330247085.\n",
      "[I 2024-09-24 09:07:00,508] Trial 88 finished with value: 72576.58898568031 and parameters: {'lgbm_weight': 0.9983715177797527, 'xgb_weight': 0.7553082769501103, 'cb_weight': 0.16535015385962368, 'hgb_weight': 0.36199263172490215, 'gb_weight': 0.8591613815823416}. Best is trial 54 with value: 72575.75330247085.\n",
      "[I 2024-09-24 09:07:00,548] Trial 89 finished with value: 72576.28522925769 and parameters: {'lgbm_weight': 0.8710103102019708, 'xgb_weight': 0.7086516875250809, 'cb_weight': 0.2290887344689978, 'hgb_weight': 0.28240181610213955, 'gb_weight': 0.9297867008332312}. Best is trial 54 with value: 72575.75330247085.\n",
      "[I 2024-09-24 09:07:00,587] Trial 90 finished with value: 72575.7783874082 and parameters: {'lgbm_weight': 0.9474111271713308, 'xgb_weight': 0.6414211348917773, 'cb_weight': 0.05760761664155553, 'hgb_weight': 0.22318091459324932, 'gb_weight': 0.89966340237198}. Best is trial 54 with value: 72575.75330247085.\n",
      "[I 2024-09-24 09:07:00,621] Trial 91 finished with value: 72575.74810169887 and parameters: {'lgbm_weight': 0.9503443408954837, 'xgb_weight': 0.6412829334940195, 'cb_weight': 0.05586596443932396, 'hgb_weight': 0.2322494506887898, 'gb_weight': 0.9657454005745959}. Best is trial 91 with value: 72575.74810169887.\n",
      "[I 2024-09-24 09:07:00,658] Trial 92 finished with value: 72575.83993772589 and parameters: {'lgbm_weight': 0.9684070278116947, 'xgb_weight': 0.6787699452207303, 'cb_weight': 0.053477588201166236, 'hgb_weight': 0.22794180380107928, 'gb_weight': 0.9014061008956058}. Best is trial 91 with value: 72575.74810169887.\n",
      "[I 2024-09-24 09:07:00,695] Trial 93 finished with value: 72575.90888856651 and parameters: {'lgbm_weight': 0.946518862901971, 'xgb_weight': 0.638849809470276, 'cb_weight': 0.011588409665160476, 'hgb_weight': 0.2298877348571948, 'gb_weight': 0.9014424092014045}. Best is trial 91 with value: 72575.74810169887.\n",
      "[I 2024-09-24 09:07:00,735] Trial 94 finished with value: 72575.89708084296 and parameters: {'lgbm_weight': 0.9793769814882515, 'xgb_weight': 0.6789180836989714, 'cb_weight': 0.0578698167757811, 'hgb_weight': 0.20586964166824062, 'gb_weight': 0.8763552174961737}. Best is trial 91 with value: 72575.74810169887.\n",
      "[I 2024-09-24 09:07:00,771] Trial 95 finished with value: 72581.90173304237 and parameters: {'lgbm_weight': 0.8965861503010754, 'xgb_weight': 0.6133480228333673, 'cb_weight': 0.023192521065036917, 'hgb_weight': 0.12654904678520354, 'gb_weight': 0.33893929462058286}. Best is trial 91 with value: 72575.74810169887.\n",
      "[I 2024-09-24 09:07:00,807] Trial 96 finished with value: 72578.91991462623 and parameters: {'lgbm_weight': 0.853026041182829, 'xgb_weight': 0.6558264245688016, 'cb_weight': 0.528433189749635, 'hgb_weight': 0.25252502468675153, 'gb_weight': 0.9280013031053611}. Best is trial 91 with value: 72575.74810169887.\n",
      "[I 2024-09-24 09:07:00,842] Trial 97 finished with value: 72593.05774433899 and parameters: {'lgbm_weight': 0.006535268265034699, 'xgb_weight': 0.7175778678166145, 'cb_weight': 0.04848634647862106, 'hgb_weight': 0.2886759216695548, 'gb_weight': 0.9738931106620105}. Best is trial 91 with value: 72575.74810169887.\n",
      "[I 2024-09-24 09:07:00,880] Trial 98 finished with value: 72581.52683240411 and parameters: {'lgbm_weight': 0.938294800953526, 'xgb_weight': 0.09444533399009991, 'cb_weight': 0.1670217790127909, 'hgb_weight': 0.34117765120408905, 'gb_weight': 0.5070734862164954}. Best is trial 91 with value: 72575.74810169887.\n",
      "[I 2024-09-24 09:07:00,920] Trial 99 finished with value: 72577.31489952693 and parameters: {'lgbm_weight': 0.9517847722629726, 'xgb_weight': 0.6854663963054412, 'cb_weight': 0.40519212252520936, 'hgb_weight': 0.2276537255199853, 'gb_weight': 0.9235100790439771}. Best is trial 91 with value: 72575.74810169887.\n",
      "[I 2024-09-24 09:07:00,960] Trial 100 finished with value: 72576.07977014492 and parameters: {'lgbm_weight': 0.9787310801743061, 'xgb_weight': 0.7425668370338389, 'cb_weight': 0.1339922010965574, 'hgb_weight': 0.2523230807157286, 'gb_weight': 0.8640478308508612}. Best is trial 91 with value: 72575.74810169887.\n",
      "[I 2024-09-24 09:07:00,996] Trial 101 finished with value: 72575.86072746092 and parameters: {'lgbm_weight': 0.9761557488673556, 'xgb_weight': 0.6904246493888, 'cb_weight': 0.06913338377839887, 'hgb_weight': 0.20180224199587643, 'gb_weight': 0.8896689441804272}. Best is trial 91 with value: 72575.74810169887.\n",
      "[I 2024-09-24 09:07:01,033] Trial 102 finished with value: 72575.83820659696 and parameters: {'lgbm_weight': 0.8805749533178295, 'xgb_weight': 0.6456723965806618, 'cb_weight': 0.06084770940410646, 'hgb_weight': 0.15793753220442383, 'gb_weight': 0.8969400542422485}. Best is trial 91 with value: 72575.74810169887.\n",
      "[I 2024-09-24 09:07:01,070] Trial 103 finished with value: 72575.84060580588 and parameters: {'lgbm_weight': 0.8835778068490736, 'xgb_weight': 0.6467132894529561, 'cb_weight': 0.08078521699756801, 'hgb_weight': 0.16308197458800683, 'gb_weight': 0.8237299783184575}. Best is trial 91 with value: 72575.74810169887.\n",
      "[I 2024-09-24 09:07:01,108] Trial 104 finished with value: 72581.83046800127 and parameters: {'lgbm_weight': 0.8894336123236691, 'xgb_weight': 0.6401770840625298, 'cb_weight': 0.7059477178723192, 'hgb_weight': 0.15757935628142442, 'gb_weight': 0.8268224697255491}. Best is trial 91 with value: 72575.74810169887.\n",
      "[I 2024-09-24 09:07:01,148] Trial 105 finished with value: 72576.11954130142 and parameters: {'lgbm_weight': 0.8367842710374721, 'xgb_weight': 0.6084338010141008, 'cb_weight': 0.025995268089644006, 'hgb_weight': 0.12268820650170753, 'gb_weight': 0.8925174558079081}. Best is trial 91 with value: 72575.74810169887.\n",
      "[I 2024-09-24 09:07:01,185] Trial 106 finished with value: 72575.716390243 and parameters: {'lgbm_weight': 0.878720518135075, 'xgb_weight': 0.5709998108499516, 'cb_weight': 0.09667074716244506, 'hgb_weight': 0.18935013090437783, 'gb_weight': 0.8371061881949539}. Best is trial 106 with value: 72575.716390243.\n",
      "[I 2024-09-24 09:07:01,221] Trial 107 finished with value: 72575.8142442428 and parameters: {'lgbm_weight': 0.869454396895036, 'xgb_weight': 0.5846069951071733, 'cb_weight': 0.04839129586622978, 'hgb_weight': 0.19252320303018708, 'gb_weight': 0.8082853301646965}. Best is trial 106 with value: 72575.716390243.\n",
      "[I 2024-09-24 09:07:01,259] Trial 108 finished with value: 72576.14282506224 and parameters: {'lgbm_weight': 0.8189794721611302, 'xgb_weight': 0.5730523263414541, 'cb_weight': 0.04791166855018042, 'hgb_weight': 0.07889662749123635, 'gb_weight': 0.7363474146397406}. Best is trial 106 with value: 72575.716390243.\n",
      "[I 2024-09-24 09:07:01,298] Trial 109 finished with value: 72575.7553038543 and parameters: {'lgbm_weight': 0.8643962639698206, 'xgb_weight': 0.5470801926940608, 'cb_weight': 0.07446771396240089, 'hgb_weight': 0.18942476813589906, 'gb_weight': 0.797622756423691}. Best is trial 106 with value: 72575.716390243.\n",
      "[I 2024-09-24 09:07:01,340] Trial 110 finished with value: 72575.82683164199 and parameters: {'lgbm_weight': 0.8674142870939979, 'xgb_weight': 0.5964087987293849, 'cb_weight': 0.10235384866776047, 'hgb_weight': 0.19666793700370477, 'gb_weight': 0.7877954235959318}. Best is trial 106 with value: 72575.716390243.\n",
      "[I 2024-09-24 09:07:01,378] Trial 111 finished with value: 72575.88210058112 and parameters: {'lgbm_weight': 0.8714346990979145, 'xgb_weight': 0.5848487598334547, 'cb_weight': 0.0940641116394798, 'hgb_weight': 0.16027079138439526, 'gb_weight': 0.7637836318438871}. Best is trial 106 with value: 72575.716390243.\n",
      "[I 2024-09-24 09:07:01,416] Trial 112 finished with value: 72575.9507962289 and parameters: {'lgbm_weight': 0.7707112238837461, 'xgb_weight': 0.554113609479971, 'cb_weight': 0.003836139688921082, 'hgb_weight': 0.19530062178985863, 'gb_weight': 0.7862151309058534}. Best is trial 106 with value: 72575.716390243.\n",
      "[I 2024-09-24 09:07:01,454] Trial 113 finished with value: 72576.24413703494 and parameters: {'lgbm_weight': 0.8530330270410161, 'xgb_weight': 0.6256272962933267, 'cb_weight': 0.036729246487017274, 'hgb_weight': 0.13154173511644163, 'gb_weight': 0.7078591265761871}. Best is trial 106 with value: 72575.716390243.\n",
      "[I 2024-09-24 09:07:01,491] Trial 114 finished with value: 72575.78310928952 and parameters: {'lgbm_weight': 0.8036589685518227, 'xgb_weight': 0.6035384083046639, 'cb_weight': 0.07468298993785423, 'hgb_weight': 0.1631904301435539, 'gb_weight': 0.8039490315704978}. Best is trial 106 with value: 72575.716390243.\n",
      "[I 2024-09-24 09:07:01,528] Trial 115 finished with value: 72575.76665112645 and parameters: {'lgbm_weight': 0.8185504913704272, 'xgb_weight': 0.5376089752937198, 'cb_weight': 0.14138492367612532, 'hgb_weight': 0.14245553349135853, 'gb_weight': 0.8066762847916484}. Best is trial 106 with value: 72575.716390243.\n",
      "[I 2024-09-24 09:07:01,567] Trial 116 finished with value: 72575.82899397323 and parameters: {'lgbm_weight': 0.8056602331415877, 'xgb_weight': 0.5354812824088514, 'cb_weight': 0.1411253057544427, 'hgb_weight': 0.10555740007891654, 'gb_weight': 0.7949655663999263}. Best is trial 106 with value: 72575.716390243.\n",
      "[I 2024-09-24 09:07:01,606] Trial 117 finished with value: 72576.21666402536 and parameters: {'lgbm_weight': 0.824554499055536, 'xgb_weight': 0.4667969533713908, 'cb_weight': 0.1027477380226291, 'hgb_weight': 0.04948325043014837, 'gb_weight': 0.7968751419343221}. Best is trial 106 with value: 72575.716390243.\n",
      "[I 2024-09-24 09:07:01,645] Trial 118 finished with value: 72575.88989809084 and parameters: {'lgbm_weight': 0.7725839601177855, 'xgb_weight': 0.5234688409944828, 'cb_weight': 0.14606557602507747, 'hgb_weight': 0.10572652352546989, 'gb_weight': 0.7239358646760844}. Best is trial 106 with value: 72575.716390243.\n",
      "[I 2024-09-24 09:07:01,683] Trial 119 finished with value: 72576.43099040526 and parameters: {'lgbm_weight': 0.8083566031015182, 'xgb_weight': 0.5426545196959007, 'cb_weight': 0.202235820403878, 'hgb_weight': 0.08715679289819306, 'gb_weight': 0.6748038460158058}. Best is trial 106 with value: 72575.716390243.\n",
      "[I 2024-09-24 09:07:01,720] Trial 120 finished with value: 72575.81799952073 and parameters: {'lgbm_weight': 0.7865006031408329, 'xgb_weight': 0.5918914241759675, 'cb_weight': 0.07713384963289664, 'hgb_weight': 0.14030974164671942, 'gb_weight': 0.7632895796851256}. Best is trial 106 with value: 72575.716390243.\n",
      "[I 2024-09-24 09:07:01,757] Trial 121 finished with value: 72586.20761833723 and parameters: {'lgbm_weight': 0.794206507974247, 'xgb_weight': 0.5948925061195277, 'cb_weight': 0.8688137558707446, 'hgb_weight': 0.13621083372105916, 'gb_weight': 0.7519748743986956}. Best is trial 106 with value: 72575.716390243.\n",
      "[I 2024-09-24 09:07:01,793] Trial 122 finished with value: 72575.86840109367 and parameters: {'lgbm_weight': 0.849749390937957, 'xgb_weight': 0.5514035887557759, 'cb_weight': 0.07458897748529313, 'hgb_weight': 0.11443157722520948, 'gb_weight': 0.8073149539536741}. Best is trial 106 with value: 72575.716390243.\n",
      "[I 2024-09-24 09:07:01,831] Trial 123 finished with value: 72577.55574085223 and parameters: {'lgbm_weight': 0.4861606058856065, 'xgb_weight': 0.5719991005106144, 'cb_weight': 0.10503261649118782, 'hgb_weight': 0.16977100802637646, 'gb_weight': 0.8379032794066402}. Best is trial 106 with value: 72575.716390243.\n",
      "[I 2024-09-24 09:07:01,871] Trial 124 finished with value: 72576.7621709506 and parameters: {'lgbm_weight': 0.8355614923369592, 'xgb_weight': 0.5003862403500536, 'cb_weight': 0.024434398375280345, 'hgb_weight': 0.02818187755227565, 'gb_weight': 0.7777876562222512}. Best is trial 106 with value: 72575.716390243.\n",
      "[I 2024-09-24 09:07:01,911] Trial 125 finished with value: 72575.96906025849 and parameters: {'lgbm_weight': 0.7491176610324055, 'xgb_weight': 0.6159962291488996, 'cb_weight': 0.14399547652535896, 'hgb_weight': 0.19099082411384688, 'gb_weight': 0.765685541023593}. Best is trial 106 with value: 72575.716390243.\n",
      "[I 2024-09-24 09:07:01,951] Trial 126 finished with value: 72575.8598950951 and parameters: {'lgbm_weight': 0.6963293197662637, 'xgb_weight': 0.5251801161910374, 'cb_weight': 0.09076779347674038, 'hgb_weight': 0.1532876953409666, 'gb_weight': 0.8094913238054355}. Best is trial 106 with value: 72575.716390243.\n",
      "[I 2024-09-24 09:07:01,989] Trial 127 finished with value: 72576.2690610475 and parameters: {'lgbm_weight': 0.8659227338899147, 'xgb_weight': 0.5941168885787955, 'cb_weight': 0.06220419948776103, 'hgb_weight': 0.14915278374278063, 'gb_weight': 0.6808797668308095}. Best is trial 106 with value: 72575.716390243.\n",
      "[I 2024-09-24 09:07:02,028] Trial 128 finished with value: 72576.29523065433 and parameters: {'lgbm_weight': 0.9032519909595036, 'xgb_weight': 0.44250424521450005, 'cb_weight': 0.13330508081714995, 'hgb_weight': 0.06869251258303649, 'gb_weight': 0.8192183409239487}. Best is trial 106 with value: 72575.716390243.\n",
      "[I 2024-09-24 09:07:02,065] Trial 129 finished with value: 72575.7574223724 and parameters: {'lgbm_weight': 0.7737338789218929, 'xgb_weight': 0.5738499122389726, 'cb_weight': 0.11201146667455553, 'hgb_weight': 0.18224905737706368, 'gb_weight': 0.8454633952113999}. Best is trial 106 with value: 72575.716390243.\n",
      "[I 2024-09-24 09:07:02,102] Trial 130 finished with value: 72575.8802069736 and parameters: {'lgbm_weight': 0.7828634135061329, 'xgb_weight': 0.5623412191568585, 'cb_weight': 0.16000082753801168, 'hgb_weight': 0.19302410688778676, 'gb_weight': 0.7844911369312493}. Best is trial 106 with value: 72575.716390243.\n",
      "[I 2024-09-24 09:07:02,141] Trial 131 finished with value: 72575.93391605777 and parameters: {'lgbm_weight': 0.804188605311938, 'xgb_weight': 0.5799562612316781, 'cb_weight': 0.08642113470014676, 'hgb_weight': 0.0947880407160911, 'gb_weight': 0.8524562009219847}. Best is trial 106 with value: 72575.716390243.\n",
      "[I 2024-09-24 09:07:02,181] Trial 132 finished with value: 72575.92194873768 and parameters: {'lgbm_weight': 0.7662160299972955, 'xgb_weight': 0.6107630771034775, 'cb_weight': 0.11464600713211477, 'hgb_weight': 0.17625284802818272, 'gb_weight': 0.733245638643474}. Best is trial 106 with value: 72575.716390243.\n",
      "[I 2024-09-24 09:07:02,218] Trial 133 finished with value: 72580.83199351301 and parameters: {'lgbm_weight': 0.8139110589894551, 'xgb_weight': 0.6314165737016948, 'cb_weight': 0.05299377632349167, 'hgb_weight': 0.8720845323819834, 'gb_weight': 0.835377529623805}. Best is trial 106 with value: 72575.716390243.\n",
      "[I 2024-09-24 09:07:02,256] Trial 134 finished with value: 72575.96283510936 and parameters: {'lgbm_weight': 0.7389865670329407, 'xgb_weight': 0.5370606913113419, 'cb_weight': 0.03605001559781093, 'hgb_weight': 0.13397649964942202, 'gb_weight': 0.8024706159394527}. Best is trial 106 with value: 72575.716390243.\n",
      "[I 2024-09-24 09:07:02,296] Trial 135 finished with value: 72575.68152475996 and parameters: {'lgbm_weight': 0.8353398204111888, 'xgb_weight': 0.5122346531280814, 'cb_weight': 0.10578180106996418, 'hgb_weight': 0.21025076590700553, 'gb_weight': 0.8532751385732102}. Best is trial 135 with value: 72575.68152475996.\n",
      "[I 2024-09-24 09:07:02,335] Trial 136 finished with value: 72575.87583690973 and parameters: {'lgbm_weight': 0.8292651541780779, 'xgb_weight': 0.5105999936500094, 'cb_weight': 0.18177066142902287, 'hgb_weight': 0.20881132817002793, 'gb_weight': 0.8611778415238578}. Best is trial 135 with value: 72575.68152475996.\n",
      "[I 2024-09-24 09:07:02,375] Trial 137 finished with value: 72576.9982919704 and parameters: {'lgbm_weight': 0.8536905944646833, 'xgb_weight': 0.4783557633767302, 'cb_weight': 0.10672510119596006, 'hgb_weight': 0.21596248370677745, 'gb_weight': 0.580146987652192}. Best is trial 135 with value: 72575.68152475996.\n",
      "[I 2024-09-24 09:07:02,416] Trial 138 finished with value: 72576.0185454254 and parameters: {'lgbm_weight': 0.9094209978588084, 'xgb_weight': 0.5565744344262173, 'cb_weight': 0.13549499331940532, 'hgb_weight': 0.18599701170803584, 'gb_weight': 0.7616075210595613}. Best is trial 135 with value: 72575.68152475996.\n",
      "[I 2024-09-24 09:07:02,454] Trial 139 finished with value: 72575.93086064981 and parameters: {'lgbm_weight': 0.7980573495360881, 'xgb_weight': 0.49127921421023923, 'cb_weight': 0.08325082822836803, 'hgb_weight': 0.10753316462522661, 'gb_weight': 0.8411250814931599}. Best is trial 135 with value: 72575.68152475996.\n",
      "[I 2024-09-24 09:07:02,491] Trial 140 finished with value: 72577.46295163444 and parameters: {'lgbm_weight': 0.8412702748180312, 'xgb_weight': 0.5957846487003904, 'cb_weight': 0.11677580107958449, 'hgb_weight': 0.525735025763, 'gb_weight': 0.8108793304017213}. Best is trial 135 with value: 72575.68152475996.\n",
      "[I 2024-09-24 09:07:02,529] Trial 141 finished with value: 72579.61939101566 and parameters: {'lgbm_weight': 0.8849231613686828, 'xgb_weight': 0.011050370067793636, 'cb_weight': 0.07433934525142055, 'hgb_weight': 0.17772330140269543, 'gb_weight': 0.8661061459367831}. Best is trial 135 with value: 72575.68152475996.\n",
      "[I 2024-09-24 09:07:02,566] Trial 142 finished with value: 72590.13532981795 and parameters: {'lgbm_weight': 0.8720121802321228, 'xgb_weight': 0.5751712905257313, 'cb_weight': 0.057406443998476706, 'hgb_weight': 0.6726618603618888, 'gb_weight': 0.21352977131951145}. Best is trial 135 with value: 72575.68152475996.\n",
      "[I 2024-09-24 09:07:02,605] Trial 143 finished with value: 72575.81830384013 and parameters: {'lgbm_weight': 0.8652177331892663, 'xgb_weight': 0.5372721376913726, 'cb_weight': 0.09699592121867295, 'hgb_weight': 0.23690303710213217, 'gb_weight': 0.7840309567658215}. Best is trial 135 with value: 72575.68152475996.\n",
      "[I 2024-09-24 09:07:02,645] Trial 144 finished with value: 72578.08433261748 and parameters: {'lgbm_weight': 0.4186103001991894, 'xgb_weight': 0.5356723745961772, 'cb_weight': 0.10056945610727727, 'hgb_weight': 0.24068539956107432, 'gb_weight': 0.7701110715445969}. Best is trial 135 with value: 72575.68152475996.\n",
      "[I 2024-09-24 09:07:02,687] Trial 145 finished with value: 72575.9787207268 and parameters: {'lgbm_weight': 0.8206163210113289, 'xgb_weight': 0.5146970551139225, 'cb_weight': 0.1494638526180385, 'hgb_weight': 0.22502950394757656, 'gb_weight': 0.7467793458574353}. Best is trial 135 with value: 72575.68152475996.\n",
      "[I 2024-09-24 09:07:02,728] Trial 146 finished with value: 72575.89783092545 and parameters: {'lgbm_weight': 0.9215314320163929, 'xgb_weight': 0.5610522921701454, 'cb_weight': 0.12753798676968928, 'hgb_weight': 0.20310545402946165, 'gb_weight': 0.8001633306633605}. Best is trial 135 with value: 72575.68152475996.\n",
      "[I 2024-09-24 09:07:02,767] Trial 147 finished with value: 72575.9328698653 and parameters: {'lgbm_weight': 0.8649068938786015, 'xgb_weight': 0.6064253676419502, 'cb_weight': 0.03055331277824815, 'hgb_weight': 0.2406530298757616, 'gb_weight': 0.791012525106305}. Best is trial 135 with value: 72575.68152475996.\n",
      "[I 2024-09-24 09:07:02,806] Trial 148 finished with value: 72575.7690575687 and parameters: {'lgbm_weight': 0.7835665559923862, 'xgb_weight': 0.5423547970361433, 'cb_weight': 0.09587438201051354, 'hgb_weight': 0.13820577012087432, 'gb_weight': 0.8356724682679996}. Best is trial 135 with value: 72575.68152475996.\n",
      "[I 2024-09-24 09:07:02,843] Trial 149 finished with value: 72592.58157343564 and parameters: {'lgbm_weight': 0.06003787828452223, 'xgb_weight': 0.5832852688120889, 'cb_weight': 0.004795154331848864, 'hgb_weight': 0.14755384716938752, 'gb_weight': 0.8323413102394889}. Best is trial 135 with value: 72575.68152475996.\n",
      "[I 2024-09-24 09:07:02,880] Trial 150 finished with value: 72577.15357030043 and parameters: {'lgbm_weight': 0.5347796318125073, 'xgb_weight': 0.4598505870404984, 'cb_weight': 0.07656155505579908, 'hgb_weight': 0.2871273208353987, 'gb_weight': 0.8464841418131788}. Best is trial 135 with value: 72575.68152475996.\n",
      "[I 2024-09-24 09:07:02,922] Trial 151 finished with value: 72575.76843597673 and parameters: {'lgbm_weight': 0.7383544690544588, 'xgb_weight': 0.5463251487995217, 'cb_weight': 0.1010896496948909, 'hgb_weight': 0.17092737317310402, 'gb_weight': 0.8188340348018918}. Best is trial 135 with value: 72575.68152475996.\n",
      "[I 2024-09-24 09:07:02,960] Trial 152 finished with value: 72575.78656510438 and parameters: {'lgbm_weight': 0.7844106969549833, 'xgb_weight': 0.5096652754146133, 'cb_weight': 0.09890390808744794, 'hgb_weight': 0.17227543942384463, 'gb_weight': 0.8780878982547546}. Best is trial 135 with value: 72575.68152475996.\n",
      "[I 2024-09-24 09:07:02,998] Trial 153 finished with value: 72575.99155882781 and parameters: {'lgbm_weight': 0.755160884219333, 'xgb_weight': 0.5040530932043359, 'cb_weight': 0.04438425935396964, 'hgb_weight': 0.17105571056524055, 'gb_weight': 0.8765717976666044}. Best is trial 135 with value: 72575.68152475996.\n",
      "[I 2024-09-24 09:07:03,041] Trial 154 finished with value: 72577.09997967891 and parameters: {'lgbm_weight': 0.7714397682596926, 'xgb_weight': 0.5497867565599672, 'cb_weight': 0.34379103416065016, 'hgb_weight': 0.12911811816515797, 'gb_weight': 0.8275915077985485}. Best is trial 135 with value: 72575.68152475996.\n",
      "[I 2024-09-24 09:07:03,081] Trial 155 finished with value: 72575.73167315238 and parameters: {'lgbm_weight': 0.7855321473877008, 'xgb_weight': 0.5219254772569231, 'cb_weight': 0.09321747183197147, 'hgb_weight': 0.2160005341508802, 'gb_weight': 0.8655928345421802}. Best is trial 135 with value: 72575.68152475996.\n",
      "[I 2024-09-24 09:07:03,120] Trial 156 finished with value: 72575.89457757337 and parameters: {'lgbm_weight': 0.72736388931447, 'xgb_weight': 0.47675289505022966, 'cb_weight': 0.09035379131356235, 'hgb_weight': 0.2123411099508903, 'gb_weight': 0.8708317714929906}. Best is trial 135 with value: 72575.68152475996.\n",
      "[I 2024-09-24 09:07:03,158] Trial 157 finished with value: 72576.00935568086 and parameters: {'lgbm_weight': 0.6988313480077756, 'xgb_weight': 0.5179171054675357, 'cb_weight': 0.059985794489362865, 'hgb_weight': 0.17708902729959494, 'gb_weight': 0.8508491947405676}. Best is trial 135 with value: 72575.68152475996.\n",
      "[I 2024-09-24 09:07:03,195] Trial 158 finished with value: 72575.86705092608 and parameters: {'lgbm_weight': 0.7840457145701443, 'xgb_weight': 0.4291603783762512, 'cb_weight': 0.07058303452959373, 'hgb_weight': 0.1450896201809781, 'gb_weight': 0.8163259221488582}. Best is trial 135 with value: 72575.68152475996.\n",
      "[I 2024-09-24 09:07:03,249] Trial 159 finished with value: 72576.3248569578 and parameters: {'lgbm_weight': 0.6368074136868062, 'xgb_weight': 0.49277493532729444, 'cb_weight': 0.1150344941959558, 'hgb_weight': 0.1943689613467232, 'gb_weight': 0.8728883955830953}. Best is trial 135 with value: 72575.68152475996.\n",
      "[I 2024-09-24 09:07:03,304] Trial 160 finished with value: 72576.03435999436 and parameters: {'lgbm_weight': 0.7316298598521869, 'xgb_weight': 0.5655627337645549, 'cb_weight': 0.019691608215457505, 'hgb_weight': 0.16374358850299137, 'gb_weight': 0.816793329860942}. Best is trial 135 with value: 72575.68152475996.\n",
      "[I 2024-09-24 09:07:03,343] Trial 161 finished with value: 72575.82100144129 and parameters: {'lgbm_weight': 0.7863269475066991, 'xgb_weight': 0.5397913478166358, 'cb_weight': 0.10026087531487556, 'hgb_weight': 0.21901795485773526, 'gb_weight': 0.9153219689974569}. Best is trial 135 with value: 72575.68152475996.\n",
      "[I 2024-09-24 09:07:03,382] Trial 162 finished with value: 72575.90084287743 and parameters: {'lgbm_weight': 0.7616701909199174, 'xgb_weight': 0.5334596162243723, 'cb_weight': 0.0928046622723027, 'hgb_weight': 0.20290333760474988, 'gb_weight': 0.9140782033791605}. Best is trial 135 with value: 72575.68152475996.\n",
      "[I 2024-09-24 09:07:03,423] Trial 163 finished with value: 72575.77723459704 and parameters: {'lgbm_weight': 0.788133595801916, 'xgb_weight': 0.5455105959994159, 'cb_weight': 0.0769588880766996, 'hgb_weight': 0.23336086054387664, 'gb_weight': 0.884768616202547}. Best is trial 135 with value: 72575.68152475996.\n",
      "[I 2024-09-24 09:07:03,464] Trial 164 finished with value: 72575.83858373399 and parameters: {'lgbm_weight': 0.830937666855791, 'xgb_weight': 0.62031805035441, 'cb_weight': 0.042713308580489176, 'hgb_weight': 0.24306211124345803, 'gb_weight': 0.8800969375998352}. Best is trial 135 with value: 72575.68152475996.\n",
      "[I 2024-09-24 09:07:03,503] Trial 165 finished with value: 72575.7462517433 and parameters: {'lgbm_weight': 0.8058864531906748, 'xgb_weight': 0.5789034733318291, 'cb_weight': 0.07243959903877002, 'hgb_weight': 0.227499149219844, 'gb_weight': 0.8463587192260053}. Best is trial 135 with value: 72575.68152475996.\n",
      "[I 2024-09-24 09:07:03,543] Trial 166 finished with value: 72575.75308478702 and parameters: {'lgbm_weight': 0.8081718375988672, 'xgb_weight': 0.5739314637262022, 'cb_weight': 0.07083747018374512, 'hgb_weight': 0.1683813847030625, 'gb_weight': 0.8434818257043517}. Best is trial 135 with value: 72575.68152475996.\n",
      "[I 2024-09-24 09:07:03,585] Trial 167 finished with value: 72575.76209751773 and parameters: {'lgbm_weight': 0.8120732489317259, 'xgb_weight': 0.5687831958008054, 'cb_weight': 0.06448442409760198, 'hgb_weight': 0.1711522752306523, 'gb_weight': 0.8501460719652313}. Best is trial 135 with value: 72575.68152475996.\n",
      "[I 2024-09-24 09:07:03,625] Trial 168 finished with value: 72575.72332795784 and parameters: {'lgbm_weight': 0.8037267071031416, 'xgb_weight': 0.5650096140430411, 'cb_weight': 0.1148036712331195, 'hgb_weight': 0.16677472349102984, 'gb_weight': 0.8503077060970369}. Best is trial 135 with value: 72575.68152475996.\n",
      "[I 2024-09-24 09:07:03,666] Trial 169 finished with value: 72575.84161967726 and parameters: {'lgbm_weight': 0.812158913948298, 'xgb_weight': 0.5607914691202035, 'cb_weight': 0.16455655245407896, 'hgb_weight': 0.12021912501861931, 'gb_weight': 0.8490808588682428}. Best is trial 135 with value: 72575.68152475996.\n",
      "[I 2024-09-24 09:07:03,707] Trial 170 finished with value: 72575.92063820985 and parameters: {'lgbm_weight': 0.7529413401291573, 'xgb_weight': 0.6236613176090449, 'cb_weight': 0.06823680860797571, 'hgb_weight': 0.15592336688446876, 'gb_weight': 0.8410418459866726}. Best is trial 135 with value: 72575.68152475996.\n",
      "[I 2024-09-24 09:07:03,753] Trial 171 finished with value: 72575.76854026379 and parameters: {'lgbm_weight': 0.7991407593329055, 'xgb_weight': 0.5136672684092483, 'cb_weight': 0.11978887802509118, 'hgb_weight': 0.17304181983652694, 'gb_weight': 0.8839297047900938}. Best is trial 135 with value: 72575.68152475996.\n",
      "[I 2024-09-24 09:07:03,792] Trial 172 finished with value: 72575.78049831014 and parameters: {'lgbm_weight': 0.8020131812534869, 'xgb_weight': 0.5652073098968521, 'cb_weight': 0.13015233451377078, 'hgb_weight': 0.2231606507961258, 'gb_weight': 0.8926993793076868}. Best is trial 135 with value: 72575.68152475996.\n",
      "[I 2024-09-24 09:07:03,833] Trial 173 finished with value: 72575.721615131 and parameters: {'lgbm_weight': 0.8319655896274186, 'xgb_weight': 0.5525379605138946, 'cb_weight': 0.11882215958405928, 'hgb_weight': 0.22301942905638858, 'gb_weight': 0.9006750219861909}. Best is trial 135 with value: 72575.68152475996.\n",
      "[I 2024-09-24 09:07:03,876] Trial 174 finished with value: 72575.75354139713 and parameters: {'lgbm_weight': 0.777805981159153, 'xgb_weight': 0.5217964222992655, 'cb_weight': 0.1253812896295864, 'hgb_weight': 0.18682969268381397, 'gb_weight': 0.8592121186637952}. Best is trial 135 with value: 72575.68152475996.\n",
      "[I 2024-09-24 09:07:03,917] Trial 175 finished with value: 72575.76507587456 and parameters: {'lgbm_weight': 0.8295735279723692, 'xgb_weight': 0.5210847244917491, 'cb_weight': 0.15480678853113508, 'hgb_weight': 0.19190735908927553, 'gb_weight': 0.8647119548686717}. Best is trial 135 with value: 72575.68152475996.\n",
      "[I 2024-09-24 09:07:03,958] Trial 176 finished with value: 72575.80475598935 and parameters: {'lgbm_weight': 0.8359166548593259, 'xgb_weight': 0.48840751675337707, 'cb_weight': 0.16195772314211088, 'hgb_weight': 0.1829256192510068, 'gb_weight': 0.8549349271820348}. Best is trial 135 with value: 72575.68152475996.\n",
      "[I 2024-09-24 09:07:04,000] Trial 177 finished with value: 72575.74318287538 and parameters: {'lgbm_weight': 0.8236367078814432, 'xgb_weight': 0.518632221998664, 'cb_weight': 0.1454587914485431, 'hgb_weight': 0.188016049716204, 'gb_weight': 0.8578038864054895}. Best is trial 135 with value: 72575.68152475996.\n",
      "[I 2024-09-24 09:07:04,041] Trial 178 finished with value: 72575.95652937116 and parameters: {'lgbm_weight': 0.8256418049592488, 'xgb_weight': 0.45588299661559906, 'cb_weight': 0.19009025492120046, 'hgb_weight': 0.18819654262105054, 'gb_weight': 0.8624174757987824}. Best is trial 135 with value: 72575.68152475996.\n",
      "[I 2024-09-24 09:07:04,082] Trial 179 finished with value: 72575.74279098856 and parameters: {'lgbm_weight': 0.8398373929156766, 'xgb_weight': 0.5162141829152533, 'cb_weight': 0.1454538055852308, 'hgb_weight': 0.20414580940329183, 'gb_weight': 0.8582569573702102}. Best is trial 135 with value: 72575.68152475996.\n",
      "[I 2024-09-24 09:07:04,121] Trial 180 finished with value: 72576.07006186395 and parameters: {'lgbm_weight': 0.8435420437750302, 'xgb_weight': 0.5218403992855761, 'cb_weight': 0.21494101927404674, 'hgb_weight': 0.2031921669735089, 'gb_weight': 0.8307929998220508}. Best is trial 135 with value: 72575.68152475996.\n",
      "[I 2024-09-24 09:07:04,161] Trial 181 finished with value: 72575.72512366076 and parameters: {'lgbm_weight': 0.8180313584624174, 'xgb_weight': 0.5136827601938546, 'cb_weight': 0.1319165943025229, 'hgb_weight': 0.21056642835976117, 'gb_weight': 0.8617894917592642}. Best is trial 135 with value: 72575.68152475996.\n",
      "[I 2024-09-24 09:07:04,202] Trial 182 finished with value: 72575.7850425832 and parameters: {'lgbm_weight': 0.8220172685964455, 'xgb_weight': 0.4799342728449062, 'cb_weight': 0.150407870993286, 'hgb_weight': 0.21264962202257598, 'gb_weight': 0.8587589496720613}. Best is trial 135 with value: 72575.68152475996.\n",
      "[I 2024-09-24 09:07:04,243] Trial 183 finished with value: 72575.81008262365 and parameters: {'lgbm_weight': 0.8469069180713047, 'xgb_weight': 0.502292980860308, 'cb_weight': 0.14182650948122105, 'hgb_weight': 0.25566497857317544, 'gb_weight': 0.8453369685053171}. Best is trial 135 with value: 72575.68152475996.\n",
      "[I 2024-09-24 09:07:04,285] Trial 184 finished with value: 72575.88744761563 and parameters: {'lgbm_weight': 0.817461551813645, 'xgb_weight': 0.5707621705533285, 'cb_weight': 0.18544435329255587, 'hgb_weight': 0.19828911613406755, 'gb_weight': 0.867009269426786}. Best is trial 135 with value: 72575.68152475996.\n",
      "[I 2024-09-24 09:07:04,324] Trial 185 finished with value: 72582.55449536484 and parameters: {'lgbm_weight': 0.2678927296041172, 'xgb_weight': 0.5235460936207432, 'cb_weight': 0.1259188013691436, 'hgb_weight': 0.1622747642732429, 'gb_weight': 0.9046995485412558}. Best is trial 135 with value: 72575.68152475996.\n",
      "[I 2024-09-24 09:07:04,364] Trial 186 finished with value: 72575.85765889398 and parameters: {'lgbm_weight': 0.8439453486155314, 'xgb_weight': 0.555108158662096, 'cb_weight': 0.1612375142483147, 'hgb_weight': 0.225096102278364, 'gb_weight': 0.826815302930693}. Best is trial 135 with value: 72575.68152475996.\n",
      "[I 2024-09-24 09:07:04,404] Trial 187 finished with value: 72575.90257234279 and parameters: {'lgbm_weight': 0.764395559394213, 'xgb_weight': 0.5259968962310121, 'cb_weight': 0.17393797891195611, 'hgb_weight': 0.18736233037017436, 'gb_weight': 0.8613610142325333}. Best is trial 135 with value: 72575.68152475996.\n",
      "[I 2024-09-24 09:07:04,445] Trial 188 finished with value: 72575.76633845364 and parameters: {'lgbm_weight': 0.8216317293031952, 'xgb_weight': 0.5814723838250321, 'cb_weight': 0.11742709537817442, 'hgb_weight': 0.213523400226135, 'gb_weight': 0.9227234567286776}. Best is trial 135 with value: 72575.68152475996.\n",
      "[I 2024-09-24 09:07:04,485] Trial 189 finished with value: 72575.75162173492 and parameters: {'lgbm_weight': 0.8529821526181236, 'xgb_weight': 0.580909671825903, 'cb_weight': 0.13860655311310568, 'hgb_weight': 0.21682474848866956, 'gb_weight': 0.937967190823047}. Best is trial 135 with value: 72575.68152475996.\n",
      "[I 2024-09-24 09:07:04,527] Trial 190 finished with value: 72575.71717319069 and parameters: {'lgbm_weight': 0.8927659354295157, 'xgb_weight': 0.5777190744560264, 'cb_weight': 0.1288588855488181, 'hgb_weight': 0.25056317145506335, 'gb_weight': 0.9263393012416683}. Best is trial 135 with value: 72575.68152475996.\n",
      "[I 2024-09-24 09:07:04,566] Trial 191 finished with value: 72575.72195533545 and parameters: {'lgbm_weight': 0.8894190244645797, 'xgb_weight': 0.5763253499952807, 'cb_weight': 0.13547047593844974, 'hgb_weight': 0.24390708652909068, 'gb_weight': 0.93380987175384}. Best is trial 135 with value: 72575.68152475996.\n",
      "[I 2024-09-24 09:07:04,610] Trial 192 finished with value: 72575.77299353897 and parameters: {'lgbm_weight': 0.8930195758829085, 'xgb_weight': 0.590299834948512, 'cb_weight': 0.1428788214845057, 'hgb_weight': 0.27017000733593627, 'gb_weight': 0.9383540206678082}. Best is trial 135 with value: 72575.68152475996.\n",
      "[I 2024-09-24 09:07:04,651] Trial 193 finished with value: 72575.72282599588 and parameters: {'lgbm_weight': 0.893829727008539, 'xgb_weight': 0.5717588729185735, 'cb_weight': 0.11845151719467968, 'hgb_weight': 0.24735102245034166, 'gb_weight': 0.9743312301208474}. Best is trial 135 with value: 72575.68152475996.\n",
      "[I 2024-09-24 09:07:04,695] Trial 194 finished with value: 72575.73610527246 and parameters: {'lgbm_weight': 0.889131004734888, 'xgb_weight': 0.5739768942138714, 'cb_weight': 0.12360422991574924, 'hgb_weight': 0.24947125687663607, 'gb_weight': 0.9772381143050266}. Best is trial 135 with value: 72575.68152475996.\n",
      "[I 2024-09-24 09:07:04,736] Trial 195 finished with value: 72575.72388026526 and parameters: {'lgbm_weight': 0.8984618257589763, 'xgb_weight': 0.5976175312064103, 'cb_weight': 0.1175772167690775, 'hgb_weight': 0.2465160377472962, 'gb_weight': 0.9809548772706752}. Best is trial 135 with value: 72575.68152475996.\n",
      "[I 2024-09-24 09:07:04,778] Trial 196 finished with value: 72575.78321384295 and parameters: {'lgbm_weight': 0.9056514985675367, 'xgb_weight': 0.5991172243490377, 'cb_weight': 0.13170155991526283, 'hgb_weight': 0.2941316505523994, 'gb_weight': 0.982585492385135}. Best is trial 135 with value: 72575.68152475996.\n",
      "[I 2024-09-24 09:07:04,820] Trial 197 finished with value: 72575.72601501462 and parameters: {'lgbm_weight': 0.8954484941538025, 'xgb_weight': 0.6153866371107346, 'cb_weight': 0.12016183483858801, 'hgb_weight': 0.25051022423708497, 'gb_weight': 0.9623773472859138}. Best is trial 135 with value: 72575.68152475996.\n",
      "[I 2024-09-24 09:07:04,863] Trial 198 finished with value: 72575.7755585331 and parameters: {'lgbm_weight': 0.8859185859095632, 'xgb_weight': 0.6582541338855508, 'cb_weight': 0.11964563438421391, 'hgb_weight': 0.2529835600907606, 'gb_weight': 0.9570032949525322}. Best is trial 135 with value: 72575.68152475996.\n",
      "[I 2024-09-24 09:07:04,903] Trial 199 finished with value: 72575.88299856146 and parameters: {'lgbm_weight': 0.9206263602008236, 'xgb_weight': 0.6113982972648878, 'cb_weight': 0.18508030752365434, 'hgb_weight': 0.28221710370479336, 'gb_weight': 0.9738995145341244}. Best is trial 135 with value: 72575.68152475996.\n",
      "[I 2024-09-24 09:07:04,944] Trial 200 finished with value: 72575.92391451594 and parameters: {'lgbm_weight': 0.8887163839640927, 'xgb_weight': 0.6375847998830829, 'cb_weight': 0.1412263269381582, 'hgb_weight': 0.3151651525462448, 'gb_weight': 0.9360938031862066}. Best is trial 135 with value: 72575.68152475996.\n",
      "[I 2024-09-24 09:07:04,986] Trial 201 finished with value: 72575.77712192204 and parameters: {'lgbm_weight': 0.8596493753020269, 'xgb_weight': 0.5760625763518926, 'cb_weight': 0.11407993794196099, 'hgb_weight': 0.24271206843120824, 'gb_weight': 0.9768984332955247}. Best is trial 135 with value: 72575.68152475996.\n",
      "[I 2024-09-24 09:07:05,030] Trial 202 finished with value: 72577.23493522413 and parameters: {'lgbm_weight': 0.8969040098487778, 'xgb_weight': 0.16720663553711212, 'cb_weight': 0.16734608667552325, 'hgb_weight': 0.262984989753569, 'gb_weight': 0.9592663190579314}. Best is trial 135 with value: 72575.68152475996.\n",
      "[I 2024-09-24 09:07:05,072] Trial 203 finished with value: 72575.76537995932 and parameters: {'lgbm_weight': 0.8581683795975629, 'xgb_weight': 0.6070703805214159, 'cb_weight': 0.1321069238570074, 'hgb_weight': 0.24186016082630418, 'gb_weight': 0.9411171995030996}. Best is trial 135 with value: 72575.68152475996.\n",
      "[I 2024-09-24 09:07:05,114] Trial 204 finished with value: 72575.7173712471 and parameters: {'lgbm_weight': 0.9105886502923513, 'xgb_weight': 0.5601528362685504, 'cb_weight': 0.11076540793493023, 'hgb_weight': 0.25858317555546523, 'gb_weight': 0.9847110133477665}. Best is trial 135 with value: 72575.68152475996.\n",
      "[I 2024-09-24 09:07:05,154] Trial 205 finished with value: 72575.7030285937 and parameters: {'lgbm_weight': 0.9263415743424442, 'xgb_weight': 0.5918947739961166, 'cb_weight': 0.11095956240872563, 'hgb_weight': 0.26896849396336947, 'gb_weight': 0.9763031627018809}. Best is trial 135 with value: 72575.68152475996.\n",
      "[I 2024-09-24 09:07:05,195] Trial 206 finished with value: 72575.70862306461 and parameters: {'lgbm_weight': 0.9281940580863853, 'xgb_weight': 0.5886770302547983, 'cb_weight': 0.10805940980826578, 'hgb_weight': 0.27628333246250575, 'gb_weight': 0.9828461080627809}. Best is trial 135 with value: 72575.68152475996.\n",
      "[I 2024-09-24 09:07:05,239] Trial 207 finished with value: 72575.75419528781 and parameters: {'lgbm_weight': 0.9296324462783638, 'xgb_weight': 0.6165678061836711, 'cb_weight': 0.09744878864130177, 'hgb_weight': 0.30582111980355714, 'gb_weight': 0.9760660024301022}. Best is trial 135 with value: 72575.68152475996.\n",
      "[I 2024-09-24 09:07:05,282] Trial 208 finished with value: 72575.71866415573 and parameters: {'lgbm_weight': 0.9127601623000209, 'xgb_weight': 0.5868371030143014, 'cb_weight': 0.11095974368811265, 'hgb_weight': 0.2777020748087559, 'gb_weight': 0.9484224812630393}. Best is trial 135 with value: 72575.68152475996.\n",
      "[I 2024-09-24 09:07:05,326] Trial 209 finished with value: 72575.82272368959 and parameters: {'lgbm_weight': 0.9071634636858902, 'xgb_weight': 0.6316314931648457, 'cb_weight': 0.15216741361440328, 'hgb_weight': 0.2817696337158812, 'gb_weight': 0.9548529971409112}. Best is trial 135 with value: 72575.68152475996.\n",
      "[I 2024-09-24 09:07:05,368] Trial 210 finished with value: 72575.71030568206 and parameters: {'lgbm_weight': 0.930273516830959, 'xgb_weight': 0.5877020509051438, 'cb_weight': 0.11083666301250363, 'hgb_weight': 0.2682318756000149, 'gb_weight': 0.9988891716757707}. Best is trial 135 with value: 72575.68152475996.\n",
      "[I 2024-09-24 09:07:05,410] Trial 211 finished with value: 72575.69826216849 and parameters: {'lgbm_weight': 0.9357473326563689, 'xgb_weight': 0.5899284538685907, 'cb_weight': 0.10491956692208844, 'hgb_weight': 0.2714925074954575, 'gb_weight': 0.9837085741163364}. Best is trial 135 with value: 72575.68152475996.\n",
      "[I 2024-09-24 09:07:05,452] Trial 212 finished with value: 72575.70493694356 and parameters: {'lgbm_weight': 0.9422339827382646, 'xgb_weight': 0.5944995534423474, 'cb_weight': 0.11167241747537213, 'hgb_weight': 0.27717743985724724, 'gb_weight': 0.994395023615603}. Best is trial 135 with value: 72575.68152475996.\n",
      "[I 2024-09-24 09:07:05,493] Trial 213 finished with value: 72575.71736555948 and parameters: {'lgbm_weight': 0.9315517267041264, 'xgb_weight': 0.5922220528239662, 'cb_weight': 0.1093953908349292, 'hgb_weight': 0.2819517061833558, 'gb_weight': 0.994760248454189}. Best is trial 135 with value: 72575.68152475996.\n",
      "[I 2024-09-24 09:07:05,534] Trial 214 finished with value: 72575.73689671501 and parameters: {'lgbm_weight': 0.9308191449996198, 'xgb_weight': 0.6010986508790293, 'cb_weight': 0.10978608473751014, 'hgb_weight': 0.29609367828310895, 'gb_weight': 0.9930801643673128}. Best is trial 135 with value: 72575.68152475996.\n",
      "[I 2024-09-24 09:07:05,575] Trial 215 finished with value: 72575.72886072122 and parameters: {'lgbm_weight': 0.9375007191942833, 'xgb_weight': 0.596812501416324, 'cb_weight': 0.10197462204772237, 'hgb_weight': 0.29690915390777295, 'gb_weight': 0.9996373950431647}. Best is trial 135 with value: 72575.68152475996.\n",
      "[I 2024-09-24 09:07:05,617] Trial 216 finished with value: 72575.80207018707 and parameters: {'lgbm_weight': 0.9269251321777647, 'xgb_weight': 0.5956769119581817, 'cb_weight': 0.10859902642762001, 'hgb_weight': 0.33083820630664845, 'gb_weight': 0.9976887249787538}. Best is trial 135 with value: 72575.68152475996.\n",
      "[I 2024-09-24 09:07:05,657] Trial 217 finished with value: 72575.72636508325 and parameters: {'lgbm_weight': 0.941338071487853, 'xgb_weight': 0.6130528136645825, 'cb_weight': 0.1042800724647864, 'hgb_weight': 0.2944616623310658, 'gb_weight': 0.9831064243171032}. Best is trial 135 with value: 72575.68152475996.\n",
      "[I 2024-09-24 09:07:05,699] Trial 218 finished with value: 72575.70645452292 and parameters: {'lgbm_weight': 0.949135032141786, 'xgb_weight': 0.6238708982745775, 'cb_weight': 0.08783367047518102, 'hgb_weight': 0.27685659298347115, 'gb_weight': 0.9752518450118624}. Best is trial 135 with value: 72575.68152475996.\n",
      "[I 2024-09-24 09:07:05,741] Trial 219 finished with value: 72575.74670702775 and parameters: {'lgbm_weight': 0.9428435346336893, 'xgb_weight': 0.6178674105007522, 'cb_weight': 0.09812171166669974, 'hgb_weight': 0.3084420288677183, 'gb_weight': 0.9999726139990985}. Best is trial 135 with value: 72575.68152475996.\n",
      "[I 2024-09-24 09:07:05,782] Trial 220 finished with value: 72575.74528738836 and parameters: {'lgbm_weight': 0.9459957279945784, 'xgb_weight': 0.6604518874217062, 'cb_weight': 0.08573132393749965, 'hgb_weight': 0.28089822193080116, 'gb_weight': 0.96658667202878}. Best is trial 135 with value: 72575.68152475996.\n",
      "[I 2024-09-24 09:07:05,825] Trial 221 finished with value: 72575.71964970794 and parameters: {'lgbm_weight': 0.9119748232163063, 'xgb_weight': 0.5950159467497269, 'cb_weight': 0.11378787815726692, 'hgb_weight': 0.26893717692341684, 'gb_weight': 0.9795114522992474}. Best is trial 135 with value: 72575.68152475996.\n",
      "[I 2024-09-24 09:07:05,866] Trial 222 finished with value: 72575.73066637178 and parameters: {'lgbm_weight': 0.9145161758429059, 'xgb_weight': 0.6237587176958209, 'cb_weight': 0.10297243534885644, 'hgb_weight': 0.27389393001569984, 'gb_weight': 0.9801267537621399}. Best is trial 135 with value: 72575.68152475996.\n",
      "[I 2024-09-24 09:07:05,907] Trial 223 finished with value: 72575.7588246773 and parameters: {'lgbm_weight': 0.9152243672237546, 'xgb_weight': 0.6263378760711342, 'cb_weight': 0.11279793234177972, 'hgb_weight': 0.2908333780924053, 'gb_weight': 0.9798259268443441}. Best is trial 135 with value: 72575.68152475996.\n",
      "[I 2024-09-24 09:07:05,951] Trial 224 finished with value: 72575.707402317 and parameters: {'lgbm_weight': 0.9222547807099122, 'xgb_weight': 0.5933577888768397, 'cb_weight': 0.10867028666193795, 'hgb_weight': 0.2735216800506532, 'gb_weight': 0.9564590691208846}. Best is trial 135 with value: 72575.68152475996.\n",
      "[I 2024-09-24 09:07:05,994] Trial 225 finished with value: 72575.79519460502 and parameters: {'lgbm_weight': 0.9589160429820862, 'xgb_weight': 0.5937588681977296, 'cb_weight': 0.12221194564935291, 'hgb_weight': 0.32167875613710795, 'gb_weight': 0.9583077231958419}. Best is trial 135 with value: 72575.68152475996.\n",
      "[I 2024-09-24 09:07:06,036] Trial 226 finished with value: 72575.71152085497 and parameters: {'lgbm_weight': 0.9305890336866713, 'xgb_weight': 0.5985996117035459, 'cb_weight': 0.09067210580096575, 'hgb_weight': 0.2643510879612553, 'gb_weight': 0.9988331116916377}. Best is trial 135 with value: 72575.68152475996.\n",
      "[I 2024-09-24 09:07:06,078] Trial 227 finished with value: 72575.70936972873 and parameters: {'lgbm_weight': 0.9124927222312408, 'xgb_weight': 0.6056656940976843, 'cb_weight': 0.08490062492465661, 'hgb_weight': 0.2654859804379872, 'gb_weight': 0.9525161095719614}. Best is trial 135 with value: 72575.68152475996.\n",
      "[I 2024-09-24 09:07:06,118] Trial 228 finished with value: 72580.5769600097 and parameters: {'lgbm_weight': 0.9243529407074029, 'xgb_weight': 0.5605401737655764, 'cb_weight': 0.6622113791909419, 'hgb_weight': 0.26805491130127823, 'gb_weight': 0.9619976594113685}. Best is trial 135 with value: 72575.68152475996.\n",
      "[I 2024-09-24 09:07:06,158] Trial 229 finished with value: 72575.72537383904 and parameters: {'lgbm_weight': 0.9101067379506623, 'xgb_weight': 0.5881241372933228, 'cb_weight': 0.12421721978966468, 'hgb_weight': 0.2698589305716304, 'gb_weight': 0.9428124452726565}. Best is trial 135 with value: 72575.68152475996.\n",
      "[I 2024-09-24 09:07:06,198] Trial 230 finished with value: 72585.52630381614 and parameters: {'lgbm_weight': 0.9092953445760069, 'xgb_weight': 0.5887013301160319, 'cb_weight': 0.9688765992575993, 'hgb_weight': 0.26665183782045876, 'gb_weight': 0.9459009384729986}. Best is trial 135 with value: 72575.68152475996.\n",
      "[I 2024-09-24 09:07:06,241] Trial 231 finished with value: 72575.70578393585 and parameters: {'lgbm_weight': 0.9034730933088571, 'xgb_weight': 0.6070159947925342, 'cb_weight': 0.0845686757091028, 'hgb_weight': 0.2530356481356658, 'gb_weight': 0.9263882828655797}. Best is trial 135 with value: 72575.68152475996.\n",
      "[I 2024-09-24 09:07:06,285] Trial 232 finished with value: 72575.70070617419 and parameters: {'lgbm_weight': 0.9147702848591168, 'xgb_weight': 0.5558894034858963, 'cb_weight': 0.0846762741761112, 'hgb_weight': 0.27537482473103336, 'gb_weight': 0.930089146272001}. Best is trial 135 with value: 72575.68152475996.\n",
      "[I 2024-09-24 09:07:06,328] Trial 233 finished with value: 72575.70034205359 and parameters: {'lgbm_weight': 0.9587435222578776, 'xgb_weight': 0.5604222443363834, 'cb_weight': 0.09281445209728809, 'hgb_weight': 0.25497957293833506, 'gb_weight': 0.9233687473143304}. Best is trial 135 with value: 72575.68152475996.\n",
      "[I 2024-09-24 09:07:06,370] Trial 234 finished with value: 72575.71995634516 and parameters: {'lgbm_weight': 0.9615605514147059, 'xgb_weight': 0.5586235444665102, 'cb_weight': 0.08247231473533836, 'hgb_weight': 0.2768893949651347, 'gb_weight': 0.9222953968844977}. Best is trial 135 with value: 72575.68152475996.\n",
      "[I 2024-09-24 09:07:06,414] Trial 235 finished with value: 72575.71828612396 and parameters: {'lgbm_weight': 0.9419472123408329, 'xgb_weight': 0.559288070946566, 'cb_weight': 0.0797246399565252, 'hgb_weight': 0.27788984445746984, 'gb_weight': 0.9130995237322799}. Best is trial 135 with value: 72575.68152475996.\n",
      "[I 2024-09-24 09:07:06,456] Trial 236 finished with value: 72575.76456914497 and parameters: {'lgbm_weight': 0.959562700804551, 'xgb_weight': 0.5560541276715762, 'cb_weight': 0.08719290344786175, 'hgb_weight': 0.3098563178099637, 'gb_weight': 0.9232968378792501}. Best is trial 135 with value: 72575.68152475996.\n",
      "[I 2024-09-24 09:07:06,499] Trial 237 finished with value: 72575.85989050836 and parameters: {'lgbm_weight': 0.9551525012753191, 'xgb_weight': 0.5557286119010854, 'cb_weight': 0.08141679694457407, 'hgb_weight': 0.3518679243730217, 'gb_weight': 0.9227937521557883}. Best is trial 135 with value: 72575.68152475996.\n",
      "[I 2024-09-24 09:07:06,541] Trial 238 finished with value: 72575.70982611735 and parameters: {'lgbm_weight': 0.9266338658553829, 'xgb_weight': 0.581357346030758, 'cb_weight': 0.08321768046689568, 'hgb_weight': 0.2831015749911526, 'gb_weight': 0.9424884699366589}. Best is trial 135 with value: 72575.68152475996.\n",
      "[I 2024-09-24 09:07:06,582] Trial 239 finished with value: 72575.79126506964 and parameters: {'lgbm_weight': 0.9721341831225433, 'xgb_weight': 0.6448070297490639, 'cb_weight': 0.08212279350835659, 'hgb_weight': 0.2833270803198759, 'gb_weight': 0.9158681621572597}. Best is trial 135 with value: 72575.68152475996.\n",
      "[I 2024-09-24 09:07:06,625] Trial 240 finished with value: 72575.6963219143 and parameters: {'lgbm_weight': 0.940193037583595, 'xgb_weight': 0.5831790271536723, 'cb_weight': 0.08283298322384482, 'hgb_weight': 0.2718668213133737, 'gb_weight': 0.9441441312891767}. Best is trial 135 with value: 72575.68152475996.\n",
      "[I 2024-09-24 09:07:06,667] Trial 241 finished with value: 72575.6981943139 and parameters: {'lgbm_weight': 0.9364464931394035, 'xgb_weight': 0.5851226659700677, 'cb_weight': 0.08581536272690357, 'hgb_weight': 0.2750718531928346, 'gb_weight': 0.9474694853279421}. Best is trial 135 with value: 72575.68152475996.\n",
      "[I 2024-09-24 09:07:06,709] Trial 242 finished with value: 72575.70514228611 and parameters: {'lgbm_weight': 0.9347544851310635, 'xgb_weight': 0.6026613349795829, 'cb_weight': 0.08355456926870314, 'hgb_weight': 0.27499288019073126, 'gb_weight': 0.9513995066915977}. Best is trial 135 with value: 72575.68152475996.\n",
      "[I 2024-09-24 09:07:06,751] Trial 243 finished with value: 72575.73831875877 and parameters: {'lgbm_weight': 0.9335737411568693, 'xgb_weight': 0.6038167148246208, 'cb_weight': 0.05659855058893435, 'hgb_weight': 0.28226444045637444, 'gb_weight': 0.9488211394266372}. Best is trial 135 with value: 72575.68152475996.\n",
      "[I 2024-09-24 09:07:06,793] Trial 244 finished with value: 72575.73193629795 and parameters: {'lgbm_weight': 0.9530186212944156, 'xgb_weight': 0.5879043870348419, 'cb_weight': 0.07787593654693147, 'hgb_weight': 0.3046723335427599, 'gb_weight': 0.9552726650936989}. Best is trial 135 with value: 72575.68152475996.\n",
      "[I 2024-09-24 09:07:06,834] Trial 245 finished with value: 72575.83306991463 and parameters: {'lgbm_weight': 0.9307321194488151, 'xgb_weight': 0.6325992031673853, 'cb_weight': 0.08899023680396698, 'hgb_weight': 0.32779988945160166, 'gb_weight': 0.9421805069630279}. Best is trial 135 with value: 72575.68152475996.\n",
      "[I 2024-09-24 09:07:06,877] Trial 246 finished with value: 72575.70498917632 and parameters: {'lgbm_weight': 0.9731909925928501, 'xgb_weight': 0.6071265822508328, 'cb_weight': 0.07041690705305055, 'hgb_weight': 0.26527930575769076, 'gb_weight': 0.9613699461585308}. Best is trial 135 with value: 72575.68152475996.\n",
      "[I 2024-09-24 09:07:06,919] Trial 247 finished with value: 72575.73158557314 and parameters: {'lgbm_weight': 0.9411527785791051, 'xgb_weight': 0.6108505965268857, 'cb_weight': 0.057293009590640265, 'hgb_weight': 0.2738895561309427, 'gb_weight': 0.9636716576363883}. Best is trial 135 with value: 72575.68152475996.\n",
      "[I 2024-09-24 09:07:06,965] Trial 248 finished with value: 72575.75234160914 and parameters: {'lgbm_weight': 0.9752285392831729, 'xgb_weight': 0.5880755395803378, 'cb_weight': 0.04293921731467052, 'hgb_weight': 0.2647630680154651, 'gb_weight': 0.9838497765029313}. Best is trial 135 with value: 72575.68152475996.\n",
      "[I 2024-09-24 09:07:07,009] Trial 249 finished with value: 72575.77711696186 and parameters: {'lgbm_weight': 0.921072306081396, 'xgb_weight': 0.6252350299184711, 'cb_weight': 0.06569414249515015, 'hgb_weight': 0.30392333512623876, 'gb_weight': 0.955955935955705}. Best is trial 135 with value: 72575.68152475996.\n",
      "[I 2024-09-24 09:07:07,052] Trial 250 finished with value: 72575.6976185046 and parameters: {'lgbm_weight': 0.9854081832009851, 'xgb_weight': 0.6088799804118845, 'cb_weight': 0.0898607910546569, 'hgb_weight': 0.29059978023840594, 'gb_weight': 0.9973235237990523}. Best is trial 135 with value: 72575.68152475996.\n",
      "[I 2024-09-24 09:07:07,092] Trial 251 finished with value: 72575.70054315444 and parameters: {'lgbm_weight': 0.9812231365731391, 'xgb_weight': 0.610051831750119, 'cb_weight': 0.08970151322259494, 'hgb_weight': 0.29285494657218614, 'gb_weight': 0.9988325291941037}. Best is trial 135 with value: 72575.68152475996.\n",
      "[I 2024-09-24 09:07:07,134] Trial 252 finished with value: 72575.75586334156 and parameters: {'lgbm_weight': 0.9811566980163069, 'xgb_weight': 0.6485004496929548, 'cb_weight': 0.08889931987450093, 'hgb_weight': 0.3181742390457724, 'gb_weight': 0.9952311005562398}. Best is trial 135 with value: 72575.68152475996.\n",
      "[I 2024-09-24 09:07:07,177] Trial 253 finished with value: 72575.7168364722 and parameters: {'lgbm_weight': 0.9984747657560563, 'xgb_weight': 0.6101695428183848, 'cb_weight': 0.06798662873160755, 'hgb_weight': 0.2987418800450141, 'gb_weight': 0.9996979188521972}. Best is trial 135 with value: 72575.68152475996.\n",
      "[I 2024-09-24 09:07:07,223] Trial 254 finished with value: 72578.9229748531 and parameters: {'lgbm_weight': 0.9878092655595251, 'xgb_weight': 0.6199563875288563, 'cb_weight': 0.5673999612465007, 'hgb_weight': 0.2937279077754188, 'gb_weight': 0.9986641345712689}. Best is trial 135 with value: 72575.68152475996.\n",
      "[I 2024-09-24 09:07:07,265] Trial 255 finished with value: 72575.82063068182 and parameters: {'lgbm_weight': 0.9943081588009125, 'xgb_weight': 0.6334267591611111, 'cb_weight': 0.04488313998395502, 'hgb_weight': 0.336022250149156, 'gb_weight': 0.9728892963939134}. Best is trial 135 with value: 72575.68152475996.\n",
      "[I 2024-09-24 09:07:07,309] Trial 256 finished with value: 72575.72626415566 and parameters: {'lgbm_weight': 0.9663883862364108, 'xgb_weight': 0.606509117013791, 'cb_weight': 0.05943360993378814, 'hgb_weight': 0.2564567275028432, 'gb_weight': 0.9981312241543526}. Best is trial 135 with value: 72575.68152475996.\n",
      "[I 2024-09-24 09:07:07,353] Trial 257 finished with value: 72575.73145057645 and parameters: {'lgbm_weight': 0.9616004773945044, 'xgb_weight': 0.6165916763994604, 'cb_weight': 0.07010533495390307, 'hgb_weight': 0.29786731232706204, 'gb_weight': 0.9701840866171851}. Best is trial 135 with value: 72575.68152475996.\n",
      "[I 2024-09-24 09:07:07,400] Trial 258 finished with value: 72575.70811777492 and parameters: {'lgbm_weight': 0.9956190916845555, 'xgb_weight': 0.6535569108534932, 'cb_weight': 0.09104149580260604, 'hgb_weight': 0.25423104672526237, 'gb_weight': 0.9689329382022649}. Best is trial 135 with value: 72575.68152475996.\n",
      "[I 2024-09-24 09:07:07,444] Trial 259 finished with value: 72575.84837461196 and parameters: {'lgbm_weight': 0.9949412459552618, 'xgb_weight': 0.6625273569937936, 'cb_weight': 0.03278064224884758, 'hgb_weight': 0.3160070019364297, 'gb_weight': 0.9628503739637568}. Best is trial 135 with value: 72575.68152475996.\n",
      "[I 2024-09-24 09:07:07,487] Trial 260 finished with value: 72575.77173482788 and parameters: {'lgbm_weight': 0.9820339906891696, 'xgb_weight': 0.638581717117449, 'cb_weight': 0.08709278236751111, 'hgb_weight': 0.2918782106223892, 'gb_weight': 0.9344745460829239}. Best is trial 135 with value: 72575.68152475996.\n",
      "[I 2024-09-24 09:07:07,530] Trial 261 finished with value: 72575.7436454365 and parameters: {'lgbm_weight': 0.9586330710529912, 'xgb_weight': 0.653150613998212, 'cb_weight': 0.058635498586499836, 'hgb_weight': 0.25485955197054594, 'gb_weight': 0.9674860465574515}. Best is trial 135 with value: 72575.68152475996.\n",
      "[I 2024-09-24 09:07:07,572] Trial 262 finished with value: 72575.70374613079 and parameters: {'lgbm_weight': 0.979300416688, 'xgb_weight': 0.6070741863153116, 'cb_weight': 0.09136617814389326, 'hgb_weight': 0.2619822882245359, 'gb_weight': 0.9449992768729382}. Best is trial 135 with value: 72575.68152475996.\n",
      "[I 2024-09-24 09:07:07,616] Trial 263 finished with value: 72575.70485626654 and parameters: {'lgbm_weight': 0.9729937748479655, 'xgb_weight': 0.60678994338787, 'cb_weight': 0.08614365758583235, 'hgb_weight': 0.25044708757109, 'gb_weight': 0.9352050204302793}. Best is trial 135 with value: 72575.68152475996.\n",
      "[I 2024-09-24 09:07:07,660] Trial 264 finished with value: 72575.75928792298 and parameters: {'lgbm_weight': 0.9924358496552493, 'xgb_weight': 0.6669959418930249, 'cb_weight': 0.072439594069692, 'hgb_weight': 0.261682995338857, 'gb_weight': 0.945913536358025}. Best is trial 135 with value: 72575.68152475996.\n",
      "[I 2024-09-24 09:07:07,705] Trial 265 finished with value: 72575.7123976888 and parameters: {'lgbm_weight': 0.9997175540120293, 'xgb_weight': 0.6305098819589803, 'cb_weight': 0.08846534733601975, 'hgb_weight': 0.23964094178064196, 'gb_weight': 0.9522015837794315}. Best is trial 135 with value: 72575.68152475996.\n",
      "[I 2024-09-24 09:07:07,752] Trial 266 finished with value: 72575.71201379271 and parameters: {'lgbm_weight': 0.9683009467075425, 'xgb_weight': 0.6413888928088963, 'cb_weight': 0.09055360543121105, 'hgb_weight': 0.24059293024616074, 'gb_weight': 0.9385919983627521}. Best is trial 135 with value: 72575.68152475996.\n",
      "[I 2024-09-24 09:07:07,798] Trial 267 finished with value: 72575.76264583562 and parameters: {'lgbm_weight': 0.9724667685788576, 'xgb_weight': 0.6884564525928838, 'cb_weight': 0.08578071553991912, 'hgb_weight': 0.2381434362012522, 'gb_weight': 0.9366761136063576}. Best is trial 135 with value: 72575.68152475996.\n",
      "[I 2024-09-24 09:07:07,841] Trial 268 finished with value: 72581.9030444694 and parameters: {'lgbm_weight': 0.3142828545813209, 'xgb_weight': 0.6714605621451661, 'cb_weight': 0.045501178408364554, 'hgb_weight': 0.25820223414651466, 'gb_weight': 0.9504416044745632}. Best is trial 135 with value: 72575.68152475996.\n",
      "[I 2024-09-24 09:07:07,889] Trial 269 finished with value: 72575.69794281397 and parameters: {'lgbm_weight': 0.9749262810451887, 'xgb_weight': 0.642582854264835, 'cb_weight': 0.08909836109161082, 'hgb_weight': 0.23243317081554754, 'gb_weight': 0.9625914435295521}. Best is trial 135 with value: 72575.68152475996.\n",
      "[I 2024-09-24 09:07:07,935] Trial 270 finished with value: 72593.15937625809 and parameters: {'lgbm_weight': 0.9552884973215373, 'xgb_weight': 0.6490276920962861, 'cb_weight': 0.09143480556696273, 'hgb_weight': 0.2679633721787018, 'gb_weight': 0.06998974563617333}. Best is trial 135 with value: 72575.68152475996.\n",
      "[I 2024-09-24 09:07:07,979] Trial 271 finished with value: 72577.39579069239 and parameters: {'lgbm_weight': 0.9707686794050263, 'xgb_weight': 0.639035561722982, 'cb_weight': 0.4269825671108971, 'hgb_weight': 0.24068513309461914, 'gb_weight': 0.9666688119500223}. Best is trial 135 with value: 72575.68152475996.\n",
      "[I 2024-09-24 09:07:08,025] Trial 272 finished with value: 72575.76377589616 and parameters: {'lgbm_weight': 0.9524675272615527, 'xgb_weight': 0.6114937900864992, 'cb_weight': 0.05337473341093771, 'hgb_weight': 0.28613395375462813, 'gb_weight': 0.9256691513940968}. Best is trial 135 with value: 72575.68152475996.\n",
      "[I 2024-09-24 09:07:08,068] Trial 273 finished with value: 72575.70317993764 and parameters: {'lgbm_weight': 0.977941159587704, 'xgb_weight': 0.6230496864261079, 'cb_weight': 0.07156229347803479, 'hgb_weight': 0.25868268795619, 'gb_weight': 0.9762150443454322}. Best is trial 135 with value: 72575.68152475996.\n",
      "[I 2024-09-24 09:07:08,113] Trial 274 finished with value: 72575.72325453351 and parameters: {'lgbm_weight': 0.9423980218002213, 'xgb_weight': 0.6211704015722238, 'cb_weight': 0.06453343998413921, 'hgb_weight': 0.26419226932166245, 'gb_weight': 0.9768590772402439}. Best is trial 135 with value: 72575.68152475996.\n",
      "[I 2024-09-24 09:07:08,155] Trial 275 finished with value: 72575.80557094184 and parameters: {'lgbm_weight': 0.974760017757706, 'xgb_weight': 0.5972661881542752, 'cb_weight': 0.02720365005220436, 'hgb_weight': 0.31404990483440864, 'gb_weight': 0.9729174777348824}. Best is trial 135 with value: 72575.68152475996.\n",
      "[I 2024-09-24 09:07:08,198] Trial 276 finished with value: 72578.65774137012 and parameters: {'lgbm_weight': 0.9445091158221888, 'xgb_weight': 0.604107713058919, 'cb_weight': 0.07326461957881503, 'hgb_weight': 0.7918088300241864, 'gb_weight': 0.9585244677886415}. Best is trial 135 with value: 72575.68152475996.\n",
      "[I 2024-09-24 09:07:08,242] Trial 277 finished with value: 72581.54539717147 and parameters: {'lgbm_weight': 0.9757789399257328, 'xgb_weight': 0.6271504620049576, 'cb_weight': 0.09838683378135078, 'hgb_weight': 0.28359401048192584, 'gb_weight': 0.3861492099579283}. Best is trial 135 with value: 72575.68152475996.\n",
      "[I 2024-09-24 09:07:08,288] Trial 278 finished with value: 72575.78921861245 and parameters: {'lgbm_weight': 0.9462461903956233, 'xgb_weight': 0.6540368394975543, 'cb_weight': 0.042227680963672624, 'hgb_weight': 0.25445281990883484, 'gb_weight': 0.9815995968334875}. Best is trial 135 with value: 72575.68152475996.\n",
      "[I 2024-09-24 09:07:08,332] Trial 279 finished with value: 72584.08108598764 and parameters: {'lgbm_weight': 0.20856869638704634, 'xgb_weight': 0.5823464432848028, 'cb_weight': 0.09561030467490313, 'hgb_weight': 0.2728153318333716, 'gb_weight': 0.9113712991050507}. Best is trial 135 with value: 72575.68152475996.\n",
      "[I 2024-09-24 09:07:08,376] Trial 280 finished with value: 72575.74309534997 and parameters: {'lgbm_weight': 0.9297688571132232, 'xgb_weight': 0.6079023827916311, 'cb_weight': 0.08149730763828715, 'hgb_weight': 0.30044977967880065, 'gb_weight': 0.9552785093775537}. Best is trial 135 with value: 72575.68152475996.\n",
      "[I 2024-09-24 09:07:08,421] Trial 281 finished with value: 72575.79867786614 and parameters: {'lgbm_weight': 0.9814641999477698, 'xgb_weight': 0.6290628588130268, 'cb_weight': 0.062459267306334595, 'hgb_weight': 0.33897704122535693, 'gb_weight': 0.9811581871508688}. Best is trial 135 with value: 72575.68152475996.\n",
      "[I 2024-09-24 09:07:08,467] Trial 282 finished with value: 72575.68711944086 and parameters: {'lgbm_weight': 0.9591901645360943, 'xgb_weight': 0.5838927035272738, 'cb_weight': 0.09916375139344925, 'hgb_weight': 0.23258027061886719, 'gb_weight': 0.9330077880520443}. Best is trial 135 with value: 72575.68152475996.\n",
      "[I 2024-09-24 09:07:08,514] Trial 283 finished with value: 72575.68606994861 and parameters: {'lgbm_weight': 0.9575336310390113, 'xgb_weight': 0.5777105392856458, 'cb_weight': 0.10118291425777373, 'hgb_weight': 0.2271966965393013, 'gb_weight': 0.9343871652286216}. Best is trial 135 with value: 72575.68152475996.\n",
      "[I 2024-09-24 09:07:08,563] Trial 284 finished with value: 72577.08466187991 and parameters: {'lgbm_weight': 0.9597735656553993, 'xgb_weight': 0.5741175455957802, 'cb_weight': 0.0720225892998671, 'hgb_weight': 0.5814726264796277, 'gb_weight': 0.9114009874207071}. Best is trial 135 with value: 72575.68152475996.\n",
      "[I 2024-09-24 09:07:08,609] Trial 285 finished with value: 72575.78421534569 and parameters: {'lgbm_weight': 0.9846351677284795, 'xgb_weight': 0.6109937333672536, 'cb_weight': 0.04326594641712714, 'hgb_weight': 0.23787401924042384, 'gb_weight': 0.9297453826054167}. Best is trial 135 with value: 72575.68152475996.\n",
      "[I 2024-09-24 09:07:08,656] Trial 286 finished with value: 72575.73502745657 and parameters: {'lgbm_weight': 0.958359968866787, 'xgb_weight': 0.6747280731859772, 'cb_weight': 0.10377560641547029, 'hgb_weight': 0.22855396349930895, 'gb_weight': 0.9349400519465751}. Best is trial 135 with value: 72575.68152475996.\n",
      "[I 2024-09-24 09:07:08,701] Trial 287 finished with value: 72575.75932965765 and parameters: {'lgbm_weight': 0.9839797714562193, 'xgb_weight': 0.5791806267253479, 'cb_weight': 0.0712793002548154, 'hgb_weight': 0.22633044701194655, 'gb_weight': 0.9059126170256548}. Best is trial 135 with value: 72575.68152475996.\n",
      "[I 2024-09-24 09:07:08,746] Trial 288 finished with value: 72576.53090693308 and parameters: {'lgbm_weight': 0.9523298072719536, 'xgb_weight': 0.26031839769811616, 'cb_weight': 0.09984134327887086, 'hgb_weight': 0.24773602550967644, 'gb_weight': 0.945389605148279}. Best is trial 135 with value: 72575.68152475996.\n",
      "[I 2024-09-24 09:07:08,790] Trial 289 finished with value: 72575.83225455093 and parameters: {'lgbm_weight': 0.9691149729212799, 'xgb_weight': 0.6361663621698883, 'cb_weight': 0.03037048983805018, 'hgb_weight': 0.28751438448764427, 'gb_weight': 0.9275824378056702}. Best is trial 135 with value: 72575.68152475996.\n",
      "[I 2024-09-24 09:07:08,834] Trial 290 finished with value: 72581.71275289006 and parameters: {'lgbm_weight': 0.9962000748981941, 'xgb_weight': 0.6086784465488041, 'cb_weight': 0.7697849841508516, 'hgb_weight': 0.2301596385148714, 'gb_weight': 0.9588564463819981}. Best is trial 135 with value: 72575.68152475996.\n",
      "[I 2024-09-24 09:07:08,880] Trial 291 finished with value: 72575.7556782356 and parameters: {'lgbm_weight': 0.9423185484436544, 'xgb_weight': 0.5759798453278209, 'cb_weight': 0.07996521593486182, 'hgb_weight': 0.3154672719809074, 'gb_weight': 0.9419860970337427}. Best is trial 135 with value: 72575.68152475996.\n",
      "[I 2024-09-24 09:07:08,924] Trial 292 finished with value: 72578.58679498718 and parameters: {'lgbm_weight': 0.9671631969163574, 'xgb_weight': 0.5457395301691399, 'cb_weight': 0.49563542813014105, 'hgb_weight': 0.2532354778380465, 'gb_weight': 0.9043787742409569}. Best is trial 135 with value: 72575.68152475996.\n",
      "[I 2024-09-24 09:07:08,969] Trial 293 finished with value: 72579.45665426545 and parameters: {'lgbm_weight': 0.92818259481755, 'xgb_weight': 0.6526472776988006, 'cb_weight': 0.05666610762701185, 'hgb_weight': 0.3630697418044644, 'gb_weight': 0.49795141277771593}. Best is trial 135 with value: 72575.68152475996.\n",
      "[I 2024-09-24 09:07:09,017] Trial 294 finished with value: 72575.70385040928 and parameters: {'lgbm_weight': 0.9489576677942503, 'xgb_weight': 0.5947780975011965, 'cb_weight': 0.10272764053308032, 'hgb_weight': 0.28324807376420513, 'gb_weight': 0.9642944477459356}. Best is trial 135 with value: 72575.68152475996.\n",
      "[I 2024-09-24 09:07:09,060] Trial 295 finished with value: 72575.69416079902 and parameters: {'lgbm_weight': 0.9983638717638941, 'xgb_weight': 0.6167671731425987, 'cb_weight': 0.10024685997598808, 'hgb_weight': 0.2576825069554131, 'gb_weight': 0.9673684953550334}. Best is trial 135 with value: 72575.68152475996.\n",
      "[I 2024-09-24 09:07:09,103] Trial 296 finished with value: 72575.68896891954 and parameters: {'lgbm_weight': 0.9980545447240811, 'xgb_weight': 0.6249791311638526, 'cb_weight': 0.10423431894765214, 'hgb_weight': 0.2311129942170099, 'gb_weight': 0.971924402196688}. Best is trial 135 with value: 72575.68152475996.\n",
      "[I 2024-09-24 09:07:09,146] Trial 297 finished with value: 72575.69571073285 and parameters: {'lgbm_weight': 0.9929793998432324, 'xgb_weight': 0.6247866111755708, 'cb_weight': 0.10434632497799672, 'hgb_weight': 0.2276227262230392, 'gb_weight': 0.9582758487398267}. Best is trial 135 with value: 72575.68152475996.\n",
      "[I 2024-09-24 09:07:09,188] Trial 298 finished with value: 72575.72573924728 and parameters: {'lgbm_weight': 0.9821684521410916, 'xgb_weight': 0.626541309767189, 'cb_weight': 0.10609842772539749, 'hgb_weight': 0.22609574812501, 'gb_weight': 0.9228989273426985}. Best is trial 135 with value: 72575.68152475996.\n",
      "[I 2024-09-24 09:07:09,230] Trial 299 finished with value: 72577.23564112693 and parameters: {'lgbm_weight': 0.5872970512027484, 'xgb_weight': 0.6193864579748452, 'cb_weight': 0.13125156243863806, 'hgb_weight': 0.22819730313842526, 'gb_weight': 0.9664242285195793}. Best is trial 135 with value: 72575.68152475996.\n",
      "[I 2024-09-24 09:07:09,273] Trial 300 finished with value: 72577.67433939123 and parameters: {'lgbm_weight': 0.9970844002427025, 'xgb_weight': 0.630987607167163, 'cb_weight': 0.10396315832180142, 'hgb_weight': 0.24220073567538822, 'gb_weight': 0.6108504384768068}. Best is trial 135 with value: 72575.68152475996.\n",
      "[I 2024-09-24 09:07:09,314] Trial 301 finished with value: 72575.75957911757 and parameters: {'lgbm_weight': 0.9669834054332538, 'xgb_weight': 0.6019878411375765, 'cb_weight': 0.05489408048084033, 'hgb_weight': 0.21296956793171792, 'gb_weight': 0.965371642578394}. Best is trial 135 with value: 72575.68152475996.\n",
      "[I 2024-09-24 09:07:09,357] Trial 302 finished with value: 72575.76018983484 and parameters: {'lgbm_weight': 0.9991100782408034, 'xgb_weight': 0.61421023149547, 'cb_weight': 0.12856132757593722, 'hgb_weight': 0.24688865016515107, 'gb_weight': 0.9262853681313555}. Best is trial 135 with value: 72575.68152475996.\n",
      "[I 2024-09-24 09:07:09,399] Trial 303 finished with value: 72575.76018977343 and parameters: {'lgbm_weight': 0.9784202983712719, 'xgb_weight': 0.6386766540017152, 'cb_weight': 0.10646935515182072, 'hgb_weight': 0.2947223720136642, 'gb_weight': 0.9499074021308125}. Best is trial 135 with value: 72575.68152475996.\n",
      "[I 2024-09-24 09:07:09,443] Trial 304 finished with value: 72576.87584666858 and parameters: {'lgbm_weight': 0.9530192683240186, 'xgb_weight': 0.5677153894688478, 'cb_weight': 0.3661907846880269, 'hgb_weight': 0.23094742251410158, 'gb_weight': 0.9781143644480119}. Best is trial 135 with value: 72575.68152475996.\n",
      "[I 2024-09-24 09:07:09,487] Trial 305 finished with value: 72575.73728470554 and parameters: {'lgbm_weight': 0.9613453311943533, 'xgb_weight': 0.5981822618133804, 'cb_weight': 0.07303852685114987, 'hgb_weight': 0.2635749316770165, 'gb_weight': 0.9094989452454293}. Best is trial 135 with value: 72575.68152475996.\n",
      "[I 2024-09-24 09:07:09,529] Trial 306 finished with value: 72575.75167643698 and parameters: {'lgbm_weight': 0.9765798328027959, 'xgb_weight': 0.6218122599102074, 'cb_weight': 0.09812460559924023, 'hgb_weight': 0.30512050921566125, 'gb_weight': 0.9567586702634263}. Best is trial 135 with value: 72575.68152475996.\n",
      "[I 2024-09-24 09:07:09,571] Trial 307 finished with value: 72575.69699529989 and parameters: {'lgbm_weight': 0.9539991380130097, 'xgb_weight': 0.5894202856276003, 'cb_weight': 0.13653016350043273, 'hgb_weight': 0.21430832783149656, 'gb_weight': 0.9794641889374448}. Best is trial 135 with value: 72575.68152475996.\n",
      "[I 2024-09-24 09:07:09,612] Trial 308 finished with value: 72583.72932711222 and parameters: {'lgbm_weight': 0.9495011183629168, 'xgb_weight': 0.6668249328948754, 'cb_weight': 0.13870806404699845, 'hgb_weight': 0.2107831169414721, 'gb_weight': 0.2922415345619301}. Best is trial 135 with value: 72575.68152475996.\n",
      "[I 2024-09-24 09:07:09,654] Trial 309 finished with value: 72579.25580262166 and parameters: {'lgbm_weight': 0.4576844068936951, 'xgb_weight': 0.5445505049610808, 'cb_weight': 0.06336231169896595, 'hgb_weight': 0.2260583078178021, 'gb_weight': 0.9813120678367798}. Best is trial 135 with value: 72575.68152475996.\n",
      "[I 2024-09-24 09:07:09,698] Trial 310 finished with value: 72577.15111032221 and parameters: {'lgbm_weight': 0.9788582461030035, 'xgb_weight': 0.5722724715134924, 'cb_weight': 0.26694325281505005, 'hgb_weight': 0.5017434797823033, 'gb_weight': 0.9813564945534121}. Best is trial 135 with value: 72575.68152475996.\n",
      "[I 2024-09-24 09:07:09,740] Trial 311 finished with value: 72575.69077519585 and parameters: {'lgbm_weight': 0.9535385137512432, 'xgb_weight': 0.5897051875711967, 'cb_weight': 0.08536600088742023, 'hgb_weight': 0.24579134608019737, 'gb_weight': 0.9323261935106134}. Best is trial 135 with value: 72575.68152475996.\n",
      "[I 2024-09-24 09:07:09,783] Trial 312 finished with value: 72580.64918647615 and parameters: {'lgbm_weight': 0.9970517916669419, 'xgb_weight': 0.5893663045156422, 'cb_weight': 0.0487641469585282, 'hgb_weight': 0.9761821562974786, 'gb_weight': 0.9000537931303584}. Best is trial 135 with value: 72575.68152475996.\n",
      "[I 2024-09-24 09:07:09,827] Trial 313 finished with value: 72575.81917863457 and parameters: {'lgbm_weight': 0.9695433367727828, 'xgb_weight': 0.5661082052755094, 'cb_weight': 0.02518841989932198, 'hgb_weight': 0.2432347615843894, 'gb_weight': 0.9332448931644304}. Best is trial 135 with value: 72575.68152475996.\n",
      "[I 2024-09-24 09:07:09,869] Trial 314 finished with value: 72575.7007601185 and parameters: {'lgbm_weight': 0.9496973512593812, 'xgb_weight': 0.5564032959441706, 'cb_weight': 0.12451566486127252, 'hgb_weight': 0.22464375939857986, 'gb_weight': 0.927283872123041}. Best is trial 135 with value: 72575.68152475996.\n",
      "[I 2024-09-24 09:07:09,913] Trial 315 finished with value: 72575.73554624482 and parameters: {'lgbm_weight': 0.9521939794857643, 'xgb_weight': 0.5450148268399628, 'cb_weight': 0.1462491817841553, 'hgb_weight': 0.20487348908557992, 'gb_weight': 0.9424824065830856}. Best is trial 135 with value: 72575.68152475996.\n",
      "[I 2024-09-24 09:07:09,960] Trial 316 finished with value: 72575.81539508446 and parameters: {'lgbm_weight': 0.9999043029953737, 'xgb_weight': 0.5487113565451687, 'cb_weight': 0.12502511413455705, 'hgb_weight': 0.2198988904303051, 'gb_weight': 0.8952136753016006}. Best is trial 135 with value: 72575.68152475996.\n",
      "[I 2024-09-24 09:07:10,004] Trial 317 finished with value: 72576.2431012707 and parameters: {'lgbm_weight': 0.9772420699922233, 'xgb_weight': 0.5607859523851496, 'cb_weight': 0.12715207269995357, 'hgb_weight': 0.4486014866951112, 'gb_weight': 0.9597555709759895}. Best is trial 135 with value: 72575.68152475996.\n",
      "[I 2024-09-24 09:07:10,048] Trial 318 finished with value: 72575.69738785701 and parameters: {'lgbm_weight': 0.9607327946536395, 'xgb_weight': 0.5868420002868342, 'cb_weight': 0.11013692648185724, 'hgb_weight': 0.2176784819612316, 'gb_weight': 0.9240160786551983}. Best is trial 135 with value: 72575.68152475996.\n",
      "[I 2024-09-24 09:07:10,093] Trial 319 finished with value: 72575.75205611113 and parameters: {'lgbm_weight': 0.959949144091491, 'xgb_weight': 0.5831871823176749, 'cb_weight': 0.15012098830104464, 'hgb_weight': 0.21578989942679838, 'gb_weight': 0.9152126879602895}. Best is trial 135 with value: 72575.68152475996.\n",
      "[I 2024-09-24 09:07:10,136] Trial 320 finished with value: 72575.71252076108 and parameters: {'lgbm_weight': 0.9806753402249168, 'xgb_weight': 0.5664687928514148, 'cb_weight': 0.11530216416691756, 'hgb_weight': 0.22898431821374426, 'gb_weight': 0.9325102560485097}. Best is trial 135 with value: 72575.68152475996.\n",
      "[I 2024-09-24 09:07:10,178] Trial 321 finished with value: 72575.74240849428 and parameters: {'lgbm_weight': 0.9644677060177583, 'xgb_weight': 0.5415998697553256, 'cb_weight': 0.1025947487268982, 'hgb_weight': 0.2126730311609345, 'gb_weight': 0.9995338658229314}. Best is trial 135 with value: 72575.68152475996.\n",
      "[I 2024-09-24 09:07:10,222] Trial 322 finished with value: 72575.79175022226 and parameters: {'lgbm_weight': 0.9434629298039438, 'xgb_weight': 0.5864349801418122, 'cb_weight': 0.16092705434459792, 'hgb_weight': 0.20601304452021316, 'gb_weight': 0.892242510383619}. Best is trial 135 with value: 72575.68152475996.\n",
      "[I 2024-09-24 09:07:10,267] Trial 323 finished with value: 72575.70055523598 and parameters: {'lgbm_weight': 0.9823296382801762, 'xgb_weight': 0.5639665195487785, 'cb_weight': 0.12883232322196841, 'hgb_weight': 0.24052928075158259, 'gb_weight': 0.970927090485618}. Best is trial 135 with value: 72575.68152475996.\n",
      "[I 2024-09-24 09:07:10,313] Trial 324 finished with value: 72575.70709038647 and parameters: {'lgbm_weight': 0.9857503333310438, 'xgb_weight': 0.5592573281136773, 'cb_weight': 0.13349228293814827, 'hgb_weight': 0.2387050683984115, 'gb_weight': 0.9807470146643552}. Best is trial 135 with value: 72575.68152475996.\n",
      "[I 2024-09-24 09:07:10,358] Trial 325 finished with value: 72575.81667199793 and parameters: {'lgbm_weight': 0.9984636792575337, 'xgb_weight': 0.542003639001087, 'cb_weight': 0.1553138385843651, 'hgb_weight': 0.23628634186784708, 'gb_weight': 0.9258900190829644}. Best is trial 135 with value: 72575.68152475996.\n",
      "[I 2024-09-24 09:07:10,401] Trial 326 finished with value: 72575.69756546454 and parameters: {'lgbm_weight': 0.9551799626500691, 'xgb_weight': 0.5773683324411519, 'cb_weight': 0.12311434987362888, 'hgb_weight': 0.20256879249222265, 'gb_weight': 0.9418030401321866}. Best is trial 135 with value: 72575.68152475996.\n",
      "[I 2024-09-24 09:07:10,449] Trial 327 finished with value: 72575.73946494026 and parameters: {'lgbm_weight': 0.958302012993512, 'xgb_weight': 0.5636197518789582, 'cb_weight': 0.13857387126974025, 'hgb_weight': 0.19557615017414315, 'gb_weight': 0.914715507175355}. Best is trial 135 with value: 72575.68152475996.\n",
      "[I 2024-09-24 09:07:10,498] Trial 328 finished with value: 72575.73431849055 and parameters: {'lgbm_weight': 0.9711885465791015, 'xgb_weight': 0.5355933549080987, 'cb_weight': 0.12425360156478593, 'hgb_weight': 0.20555509447685938, 'gb_weight': 0.9423579056520669}. Best is trial 135 with value: 72575.68152475996.\n",
      "[I 2024-09-24 09:07:10,543] Trial 329 finished with value: 72575.71826326549 and parameters: {'lgbm_weight': 0.9996979332783449, 'xgb_weight': 0.5749212453130587, 'cb_weight': 0.10325072360528967, 'hgb_weight': 0.22405074705372513, 'gb_weight': 0.9448707528164502}. Best is trial 135 with value: 72575.68152475996.\n",
      "[I 2024-09-24 09:07:10,588] Trial 330 finished with value: 72575.74138991586 and parameters: {'lgbm_weight': 0.9475496292625926, 'xgb_weight': 0.5806870086504522, 'cb_weight': 0.122519269186939, 'hgb_weight': 0.24924955972801513, 'gb_weight': 0.8976258933991066}. Best is trial 135 with value: 72575.68152475996.\n",
      "[I 2024-09-24 09:07:10,632] Trial 331 finished with value: 72575.78730475064 and parameters: {'lgbm_weight': 0.9763344254793556, 'xgb_weight': 0.5525666334287463, 'cb_weight': 0.17330054252883478, 'hgb_weight': 0.20899634854398336, 'gb_weight': 0.9654566396215619}. Best is trial 135 with value: 72575.68152475996.\n",
      "[I 2024-09-24 09:07:10,678] Trial 332 finished with value: 72579.88262706822 and parameters: {'lgbm_weight': 0.37311589216340457, 'xgb_weight': 0.5915931957599854, 'cb_weight': 0.14254164199275363, 'hgb_weight': 0.23301095316038925, 'gb_weight': 0.9209135033072158}. Best is trial 135 with value: 72575.68152475996.\n",
      "[I 2024-09-24 09:07:10,724] Trial 333 finished with value: 72576.46704495113 and parameters: {'lgbm_weight': 0.9572500024413079, 'xgb_weight': 0.6409193889899703, 'cb_weight': 0.3027342798079038, 'hgb_weight': 0.25097272693490474, 'gb_weight': 0.9427645501284957}. Best is trial 135 with value: 72575.68152475996.\n",
      "[I 2024-09-24 09:07:10,769] Trial 334 finished with value: 72575.7465159693 and parameters: {'lgbm_weight': 0.9367396763850653, 'xgb_weight': 0.5325336672133886, 'cb_weight': 0.09413279531096787, 'hgb_weight': 0.20196779134085618, 'gb_weight': 0.9697611499512909}. Best is trial 135 with value: 72575.68152475996.\n",
      "[I 2024-09-24 09:07:10,812] Trial 335 finished with value: 72575.70809340243 and parameters: {'lgbm_weight': 0.9801841889398681, 'xgb_weight': 0.5778811207050619, 'cb_weight': 0.10777415631989107, 'hgb_weight': 0.22594716929735303, 'gb_weight': 0.9307478751891218}. Best is trial 135 with value: 72575.68152475996.\n",
      "[I 2024-09-24 09:07:10,864] Trial 336 finished with value: 72577.65094127523 and parameters: {'lgbm_weight': 0.9600230744615595, 'xgb_weight': 0.33549065499708036, 'cb_weight': 0.1218831061337788, 'hgb_weight': 0.6477991735771358, 'gb_weight': 0.9622309298449249}. Best is trial 135 with value: 72575.68152475996.\n",
      "[I 2024-09-24 09:07:10,910] Trial 337 finished with value: 72575.8340670456 and parameters: {'lgbm_weight': 0.9800335529431652, 'xgb_weight': 0.6169651642843775, 'cb_weight': 0.1586408916569067, 'hgb_weight': 0.25130938605144215, 'gb_weight': 0.9119784024559323}. Best is trial 135 with value: 72575.68152475996.\n",
      "[I 2024-09-24 09:07:10,961] Trial 338 finished with value: 72575.70703035154 and parameters: {'lgbm_weight': 0.9411893501588503, 'xgb_weight': 0.5618054139772662, 'cb_weight': 0.09496187065317414, 'hgb_weight': 0.22193357435058766, 'gb_weight': 0.9820958360649582}. Best is trial 135 with value: 72575.68152475996.\n",
      "[I 2024-09-24 09:07:11,008] Trial 339 finished with value: 72576.01958672752 and parameters: {'lgbm_weight': 0.9263612670393493, 'xgb_weight': 0.5981381502042161, 'cb_weight': 0.07711396420958301, 'hgb_weight': 0.39949111441850754, 'gb_weight': 0.9478763890298888}. Best is trial 135 with value: 72575.68152475996.\n",
      "[I 2024-09-24 09:07:11,053] Trial 340 finished with value: 72575.81645502475 and parameters: {'lgbm_weight': 0.957164601591877, 'xgb_weight': 0.6234124676714765, 'cb_weight': 0.13680325711475372, 'hgb_weight': 0.25585984080854607, 'gb_weight': 0.892470921588386}. Best is trial 135 with value: 72575.68152475996.\n",
      "[I 2024-09-24 09:07:11,097] Trial 341 finished with value: 72575.7031267897 and parameters: {'lgbm_weight': 0.979748917934684, 'xgb_weight': 0.6498394376536047, 'cb_weight': 0.11217110748753553, 'hgb_weight': 0.19833044316941348, 'gb_weight': 0.9687851435097439}. Best is trial 135 with value: 72575.68152475996.\n",
      "[I 2024-09-24 09:07:11,142] Trial 342 finished with value: 72575.71527390623 and parameters: {'lgbm_weight': 0.9837889298719251, 'xgb_weight': 0.67471813779221, 'cb_weight': 0.11477325597365046, 'hgb_weight': 0.19159402312119456, 'gb_weight': 0.9833515506486608}. Best is trial 135 with value: 72575.68152475996.\n",
      "[I 2024-09-24 09:07:11,186] Trial 343 finished with value: 72575.75167416129 and parameters: {'lgbm_weight': 0.9973048039043598, 'xgb_weight': 0.6985910818633723, 'cb_weight': 0.136343180743855, 'hgb_weight': 0.1851991871846061, 'gb_weight': 0.9637744336001673}. Best is trial 135 with value: 72575.68152475996.\n",
      "[I 2024-09-24 09:07:11,232] Trial 344 finished with value: 72579.40941697836 and parameters: {'lgbm_weight': 0.9434172310269902, 'xgb_weight': 0.6592330972780498, 'cb_weight': 0.10141971427778064, 'hgb_weight': 0.47192892311501333, 'gb_weight': 0.568286805929928}. Best is trial 135 with value: 72575.68152475996.\n",
      "[I 2024-09-24 09:07:11,280] Trial 345 finished with value: 72575.73346367963 and parameters: {'lgbm_weight': 0.9180929538590915, 'xgb_weight': 0.6436397934945441, 'cb_weight': 0.12295402105459062, 'hgb_weight': 0.20435345842439537, 'gb_weight': 0.9979744989366881}. Best is trial 135 with value: 72575.68152475996.\n",
      "[I 2024-09-24 09:07:11,329] Trial 346 finished with value: 72575.7291169275 and parameters: {'lgbm_weight': 0.959024226701055, 'xgb_weight': 0.5785637129555827, 'cb_weight': 0.15841803928692952, 'hgb_weight': 0.22876879608421927, 'gb_weight': 0.9791044223460267}. Best is trial 135 with value: 72575.68152475996.\n",
      "[I 2024-09-24 09:07:11,375] Trial 347 finished with value: 72575.770563647 and parameters: {'lgbm_weight': 0.9996523463002037, 'xgb_weight': 0.5540191200561266, 'cb_weight': 0.06720825398186067, 'hgb_weight': 0.2153270237869059, 'gb_weight': 0.9614387900856771}. Best is trial 135 with value: 72575.68152475996.\n",
      "[I 2024-09-24 09:07:11,419] Trial 348 finished with value: 72575.7058573429 and parameters: {'lgbm_weight': 0.9712504028891675, 'xgb_weight': 0.6429009733239676, 'cb_weight': 0.09407257227390627, 'hgb_weight': 0.24109389614039467, 'gb_weight': 0.9465261928953134}. Best is trial 135 with value: 72575.68152475996.\n",
      "[I 2024-09-24 09:07:11,464] Trial 349 finished with value: 72579.5419328706 and parameters: {'lgbm_weight': 0.9381703214316299, 'xgb_weight': 0.5307837879309244, 'cb_weight': 0.11175222764797803, 'hgb_weight': 0.8818480782959667, 'gb_weight': 0.9738230465381993}. Best is trial 135 with value: 72575.68152475996.\n",
      "[I 2024-09-24 09:07:11,509] Trial 350 finished with value: 72575.74779613345 and parameters: {'lgbm_weight': 0.9595300682492793, 'xgb_weight': 0.6237246036301656, 'cb_weight': 0.07150956583155876, 'hgb_weight': 0.19606719800465366, 'gb_weight': 0.9227582503870105}. Best is trial 135 with value: 72575.68152475996.\n",
      "[I 2024-09-24 09:07:11,553] Trial 351 finished with value: 72575.7835627735 and parameters: {'lgbm_weight': 0.9780989270377382, 'xgb_weight': 0.6852217207937866, 'cb_weight': 0.13648296710507504, 'hgb_weight': 0.2654228332173768, 'gb_weight': 0.955252704300448}. Best is trial 135 with value: 72575.68152475996.\n",
      "[I 2024-09-24 09:07:11,598] Trial 352 finished with value: 72575.70392602767 and parameters: {'lgbm_weight': 0.9997405058039611, 'xgb_weight': 0.581618554022999, 'cb_weight': 0.09231080021077075, 'hgb_weight': 0.29090890831533317, 'gb_weight': 0.9818699092876869}. Best is trial 135 with value: 72575.68152475996.\n",
      "[I 2024-09-24 09:07:11,642] Trial 353 finished with value: 72575.74892436698 and parameters: {'lgbm_weight': 0.9221078403158692, 'xgb_weight': 0.5982730658653775, 'cb_weight': 0.049047893639697526, 'hgb_weight': 0.22753611188320763, 'gb_weight': 0.9366796679583372}. Best is trial 135 with value: 72575.68152475996.\n",
      "[I 2024-09-24 09:07:11,686] Trial 354 finished with value: 72575.83164883374 and parameters: {'lgbm_weight': 0.9435863576856324, 'xgb_weight': 0.6582248194260201, 'cb_weight': 0.11467208574336804, 'hgb_weight': 0.33074145058885546, 'gb_weight': 0.9985766412769186}. Best is trial 135 with value: 72575.68152475996.\n",
      "[I 2024-09-24 09:07:11,736] Trial 355 finished with value: 72575.7167503432 and parameters: {'lgbm_weight': 0.9611798063501293, 'xgb_weight': 0.5595800174940089, 'cb_weight': 0.07865822254241359, 'hgb_weight': 0.23832833196381423, 'gb_weight': 0.9099763227302712}. Best is trial 135 with value: 72575.68152475996.\n",
      "[I 2024-09-24 09:07:11,809] Trial 356 finished with value: 72575.76057894653 and parameters: {'lgbm_weight': 0.9777008789968881, 'xgb_weight': 0.6069196981523702, 'cb_weight': 0.17389041346369366, 'hgb_weight': 0.20826640530393184, 'gb_weight': 0.9666219488384943}. Best is trial 135 with value: 72575.68152475996.\n",
      "[I 2024-09-24 09:07:11,857] Trial 357 finished with value: 72575.76940023077 and parameters: {'lgbm_weight': 0.9240517284619999, 'xgb_weight': 0.6326662215918322, 'cb_weight': 0.1465332463430499, 'hgb_weight': 0.26212130646580706, 'gb_weight': 0.9448494407529524}. Best is trial 135 with value: 72575.68152475996.\n",
      "[I 2024-09-24 09:07:11,908] Trial 358 finished with value: 72584.22553577763 and parameters: {'lgbm_weight': 0.9469091818517957, 'xgb_weight': 0.5852187534512955, 'cb_weight': 0.8865960636783609, 'hgb_weight': 0.2882191645883803, 'gb_weight': 0.9246851372266885}. Best is trial 135 with value: 72575.68152475996.\n",
      "[I 2024-09-24 09:07:11,965] Trial 359 finished with value: 72575.7133905492 and parameters: {'lgbm_weight': 0.981250304026532, 'xgb_weight': 0.5404340380829584, 'cb_weight': 0.0969787536895747, 'hgb_weight': 0.24403512829149626, 'gb_weight': 0.9990843470220724}. Best is trial 135 with value: 72575.68152475996.\n",
      "[I 2024-09-24 09:07:12,012] Trial 360 finished with value: 72581.45720973071 and parameters: {'lgbm_weight': 0.9561917532617701, 'xgb_weight': 0.5667720599096432, 'cb_weight': 0.7424544257424708, 'hgb_weight': 0.18263967784245094, 'gb_weight': 0.9650851971373217}. Best is trial 135 with value: 72575.68152475996.\n",
      "[I 2024-09-24 09:07:12,066] Trial 361 finished with value: 72586.34887135729 and parameters: {'lgbm_weight': 0.9156235372659685, 'xgb_weight': 0.6141158700927855, 'cb_weight': 0.1241687728857316, 'hgb_weight': 0.21945550358175075, 'gb_weight': 0.20823353675945167}. Best is trial 135 with value: 72575.68152475996.\n",
      "[I 2024-09-24 09:07:12,122] Trial 362 finished with value: 72580.69929046214 and parameters: {'lgbm_weight': 0.9801956355335271, 'xgb_weight': 0.5934908683623011, 'cb_weight': 0.1098657362850675, 'hgb_weight': 0.3094343434072753, 'gb_weight': 0.4313226637821596}. Best is trial 135 with value: 72575.68152475996.\n",
      "[I 2024-09-24 09:07:12,169] Trial 363 finished with value: 72575.77494697641 and parameters: {'lgbm_weight': 0.9358474944831334, 'xgb_weight': 0.6254366697764179, 'cb_weight': 0.06402095795979579, 'hgb_weight': 0.2614583897067734, 'gb_weight': 0.8903987992056716}. Best is trial 135 with value: 72575.68152475996.\n",
      "[I 2024-09-24 09:07:12,229] Trial 364 finished with value: 72588.49149865103 and parameters: {'lgbm_weight': 0.13508711901704407, 'xgb_weight': 0.5024736763629383, 'cb_weight': 0.0860555640657542, 'hgb_weight': 0.19828694831022, 'gb_weight': 0.9567337162920713}. Best is trial 135 with value: 72575.68152475996.\n",
      "[I 2024-09-24 09:07:12,274] Trial 365 finished with value: 72575.7303211351 and parameters: {'lgbm_weight': 0.9648637094616608, 'xgb_weight': 0.5696159544514271, 'cb_weight': 0.05319421895175307, 'hgb_weight': 0.2775011986456449, 'gb_weight': 0.9794749619200548}. Best is trial 135 with value: 72575.68152475996.\n",
      "[I 2024-09-24 09:07:12,318] Trial 366 finished with value: 72575.7178135962 and parameters: {'lgbm_weight': 0.9463010878048926, 'xgb_weight': 0.6448679117825395, 'cb_weight': 0.12891745427763707, 'hgb_weight': 0.22997717964626135, 'gb_weight': 0.9367291425658485}. Best is trial 135 with value: 72575.68152475996.\n",
      "[I 2024-09-24 09:07:12,362] Trial 367 finished with value: 72576.33358457824 and parameters: {'lgbm_weight': 0.6778008196994416, 'xgb_weight': 0.6018278165940372, 'cb_weight': 0.1033405679794212, 'hgb_weight': 0.2550674706086267, 'gb_weight': 0.9100514181887044}. Best is trial 135 with value: 72575.68152475996.\n",
      "[I 2024-09-24 09:07:12,408] Trial 368 finished with value: 72575.93268373956 and parameters: {'lgbm_weight': 0.9829575617798683, 'xgb_weight': 0.5490063494537667, 'cb_weight': 0.015271770650585138, 'hgb_weight': 0.21385901894403975, 'gb_weight': 0.953014597177405}. Best is trial 135 with value: 72575.68152475996.\n",
      "[I 2024-09-24 09:07:12,454] Trial 369 finished with value: 72575.74755030355 and parameters: {'lgbm_weight': 0.9083595953085254, 'xgb_weight': 0.5854206794701904, 'cb_weight': 0.07436670964875026, 'hgb_weight': 0.29375883572999645, 'gb_weight': 0.9751245596866286}. Best is trial 135 with value: 72575.68152475996.\n",
      "[I 2024-09-24 09:07:12,495] Trial 370 finished with value: 72575.76087813485 and parameters: {'lgbm_weight': 0.9611761111142925, 'xgb_weight': 0.6192833488901349, 'cb_weight': 0.15368970826174427, 'hgb_weight': 0.24242951160356252, 'gb_weight': 0.9336751903516994}. Best is trial 135 with value: 72575.68152475996.\n",
      "[I 2024-09-24 09:07:12,537] Trial 371 finished with value: 72575.78309843017 and parameters: {'lgbm_weight': 0.9392745638497513, 'xgb_weight': 0.5313996851612585, 'cb_weight': 0.03886399893452147, 'hgb_weight': 0.2776903940008881, 'gb_weight': 0.9755142627692437}. Best is trial 135 with value: 72575.68152475996.\n",
      "[I 2024-09-24 09:07:12,578] Trial 372 finished with value: 72575.71543325509 and parameters: {'lgbm_weight': 0.9826950335088213, 'xgb_weight': 0.6592417178539551, 'cb_weight': 0.11497613382928382, 'hgb_weight': 0.23564796478658334, 'gb_weight': 0.9517843926684514}. Best is trial 135 with value: 72575.68152475996.\n",
      "[I 2024-09-24 09:07:12,624] Trial 373 finished with value: 72575.95455429817 and parameters: {'lgbm_weight': 0.9648292160702875, 'xgb_weight': 0.5720105298910774, 'cb_weight': 0.20126564554638987, 'hgb_weight': 0.26358075621525445, 'gb_weight': 0.9264343384987036}. Best is trial 135 with value: 72575.68152475996.\n",
      "[I 2024-09-24 09:07:12,670] Trial 374 finished with value: 72575.73788571583 and parameters: {'lgbm_weight': 0.9990244500037544, 'xgb_weight': 0.5988281437447786, 'cb_weight': 0.09276502360029269, 'hgb_weight': 0.19500001763021488, 'gb_weight': 0.999991038013399}. Best is trial 135 with value: 72575.68152475996.\n",
      "[I 2024-09-24 09:07:12,715] Trial 375 finished with value: 72576.74085132172 and parameters: {'lgbm_weight': 0.927209147252714, 'xgb_weight': 0.9454617172921083, 'cb_weight': 0.14234526805994885, 'hgb_weight': 0.32061832158807163, 'gb_weight': 0.907615690006116}. Best is trial 135 with value: 72575.68152475996.\n",
      "[I 2024-09-24 09:07:12,762] Trial 376 finished with value: 72575.71019990022 and parameters: {'lgbm_weight': 0.9645914702417387, 'xgb_weight': 0.6329318052617259, 'cb_weight': 0.07930501240551038, 'hgb_weight': 0.21853777438641173, 'gb_weight': 0.9808244448347538}. Best is trial 135 with value: 72575.68152475996.\n",
      "[I 2024-09-24 09:07:12,804] Trial 377 finished with value: 72575.78406192116 and parameters: {'lgbm_weight': 0.9989379125986938, 'xgb_weight': 0.557682901331855, 'cb_weight': 0.10769628679271047, 'hgb_weight': 0.17668393302814947, 'gb_weight': 0.9556620433166986}. Best is trial 135 with value: 72575.68152475996.\n",
      "[I 2024-09-24 09:07:12,848] Trial 378 finished with value: 72579.59810679489 and parameters: {'lgbm_weight': 0.9426670288050546, 'xgb_weight': 0.60804191911069, 'cb_weight': 0.5966916244673438, 'hgb_weight': 0.25310947100852177, 'gb_weight': 0.9375877447496167}. Best is trial 135 with value: 72575.68152475996.\n",
      "[I 2024-09-24 09:07:12,891] Trial 379 finished with value: 72575.77291977909 and parameters: {'lgbm_weight': 0.9055232434993614, 'xgb_weight': 0.5809025339167053, 'cb_weight': 0.05544043874031141, 'hgb_weight': 0.2992304004589503, 'gb_weight': 0.9688568955151707}. Best is trial 135 with value: 72575.68152475996.\n",
      "[I 2024-09-24 09:07:12,933] Trial 380 finished with value: 72575.74632487813 and parameters: {'lgbm_weight': 0.9803757042222363, 'xgb_weight': 0.6753054901187128, 'cb_weight': 0.12777578469674392, 'hgb_weight': 0.27789040702311696, 'gb_weight': 0.9835174216575814}. Best is trial 135 with value: 72575.68152475996.\n",
      "[I 2024-09-24 09:07:12,980] Trial 381 finished with value: 72575.7535412954 and parameters: {'lgbm_weight': 0.9542350128382957, 'xgb_weight': 0.6176814336408435, 'cb_weight': 0.0920800744048179, 'hgb_weight': 0.238060401793985, 'gb_weight': 0.8869310605254026}. Best is trial 135 with value: 72575.68152475996.\n",
      "[I 2024-09-24 09:07:13,035] Trial 382 finished with value: 72575.70384804788 and parameters: {'lgbm_weight': 0.9338054561278435, 'xgb_weight': 0.5926860672922218, 'cb_weight': 0.07652469716002559, 'hgb_weight': 0.2127169252548256, 'gb_weight': 0.9190483802607167}. Best is trial 135 with value: 72575.68152475996.\n",
      "[I 2024-09-24 09:07:13,080] Trial 383 finished with value: 72575.8434736084 and parameters: {'lgbm_weight': 0.9236691079634494, 'xgb_weight': 0.531596173463466, 'cb_weight': 0.034918566175517585, 'hgb_weight': 0.1985632746187775, 'gb_weight': 0.9140157358665207}. Best is trial 135 with value: 72575.68152475996.\n",
      "[I 2024-09-24 09:07:13,124] Trial 384 finished with value: 72577.96228628479 and parameters: {'lgbm_weight': 0.9706069832583067, 'xgb_weight': 0.565156738650053, 'cb_weight': 0.45935465905749245, 'hgb_weight': 0.21936355884290146, 'gb_weight': 0.9198269646529462}. Best is trial 135 with value: 72575.68152475996.\n",
      "[I 2024-09-24 09:07:13,172] Trial 385 finished with value: 72575.80834366001 and parameters: {'lgbm_weight': 0.9999140709426055, 'xgb_weight': 0.6424859147551856, 'cb_weight': 0.06381537803628956, 'hgb_weight': 0.18440272044123926, 'gb_weight': 0.9428112918555805}. Best is trial 135 with value: 72575.68152475996.\n",
      "[I 2024-09-24 09:07:13,221] Trial 386 finished with value: 72578.44243336728 and parameters: {'lgbm_weight': 0.9315965705932396, 'xgb_weight': 0.5833783158339317, 'cb_weight': 0.07798143149629991, 'hgb_weight': 0.7279761662078648, 'gb_weight': 0.8965145620881938}. Best is trial 135 with value: 72575.68152475996.\n",
      "[I 2024-09-24 09:07:13,284] Trial 387 finished with value: 72575.74799046142 and parameters: {'lgbm_weight': 0.9002569981991054, 'xgb_weight': 0.5511484660404586, 'cb_weight': 0.06023039850855631, 'hgb_weight': 0.2058622306314079, 'gb_weight': 0.9290081126530496}. Best is trial 135 with value: 72575.68152475996.\n",
      "[I 2024-09-24 09:07:13,333] Trial 388 finished with value: 72576.69090162774 and parameters: {'lgbm_weight': 0.9799793809396142, 'xgb_weight': 0.6133383872955679, 'cb_weight': 0.11678129394692068, 'hgb_weight': 0.5227893137088832, 'gb_weight': 0.9461910889679549}. Best is trial 135 with value: 72575.68152475996.\n",
      "[I 2024-09-24 09:07:13,374] Trial 389 finished with value: 72575.70885431833 and parameters: {'lgbm_weight': 0.950038719905847, 'xgb_weight': 0.5939591732145496, 'cb_weight': 0.07980140245603573, 'hgb_weight': 0.2225944662657563, 'gb_weight': 0.9113829541617676}. Best is trial 135 with value: 72575.68152475996.\n",
      "[I 2024-09-24 09:07:13,419] Trial 390 finished with value: 72575.8961147308 and parameters: {'lgbm_weight': 0.9663508045647465, 'xgb_weight': 0.4913612246575641, 'cb_weight': 0.09846054232770063, 'hgb_weight': 0.16389019798961396, 'gb_weight': 0.8820113336169155}. Best is trial 135 with value: 72575.68152475996.\n",
      "[I 2024-09-24 09:07:13,462] Trial 391 finished with value: 72575.79355176378 and parameters: {'lgbm_weight': 0.9190354217866957, 'xgb_weight': 0.6374582500821829, 'cb_weight': 0.17076680810741723, 'hgb_weight': 0.24048572544245433, 'gb_weight': 0.9580553410091471}. Best is trial 135 with value: 72575.68152475996.\n",
      "[I 2024-09-24 09:07:13,508] Trial 392 finished with value: 72577.02154977049 and parameters: {'lgbm_weight': 0.9384291692686618, 'xgb_weight': 0.5653889107375638, 'cb_weight': 0.13262862438536843, 'hgb_weight': 0.20743280292042518, 'gb_weight': 0.6357378253863115}. Best is trial 135 with value: 72575.68152475996.\n",
      "[I 2024-09-24 09:07:13,556] Trial 393 finished with value: 72575.83067687537 and parameters: {'lgbm_weight': 0.9830384260240164, 'xgb_weight': 0.5128325473296667, 'cb_weight': 0.038672185565298424, 'hgb_weight': 0.2612786601090751, 'gb_weight': 0.9990119481359607}. Best is trial 135 with value: 72575.68152475996.\n",
      "[I 2024-09-24 09:07:13,607] Trial 394 finished with value: 72575.7516019616 and parameters: {'lgbm_weight': 0.9635672882254162, 'xgb_weight': 0.6631512210785051, 'cb_weight': 0.06946239584111907, 'hgb_weight': 0.2321852881171178, 'gb_weight': 0.9331107996448175}. Best is trial 135 with value: 72575.68152475996.\n",
      "[I 2024-09-24 09:07:13,657] Trial 395 finished with value: 72578.14463668497 and parameters: {'lgbm_weight': 0.9986598287877072, 'xgb_weight': 0.7007715172151225, 'cb_weight': 0.5250891447974488, 'hgb_weight': 0.19022605325940647, 'gb_weight': 0.9830528505690759}. Best is trial 135 with value: 72575.68152475996.\n",
      "[I 2024-09-24 09:07:13,707] Trial 396 finished with value: 72575.68307969003 and parameters: {'lgbm_weight': 0.9444155681554625, 'xgb_weight': 0.6092326931286262, 'cb_weight': 0.09541474346753956, 'hgb_weight': 0.24997042938641764, 'gb_weight': 0.9633022224470615}. Best is trial 135 with value: 72575.68152475996.\n",
      "[I 2024-09-24 09:07:13,757] Trial 397 finished with value: 72612.88699225873 and parameters: {'lgbm_weight': 0.9678684638909809, 'xgb_weight': 0.021833905922926222, 'cb_weight': 0.14643004225367368, 'hgb_weight': 0.2588825727772326, 'gb_weight': 0.016203047881147792}. Best is trial 135 with value: 72575.68152475996.\n",
      "[I 2024-09-24 09:07:13,806] Trial 398 finished with value: 72578.05061298625 and parameters: {'lgbm_weight': 0.5167428263938066, 'xgb_weight': 0.6234739801129561, 'cb_weight': 0.1159330502813867, 'hgb_weight': 0.24724054570300213, 'gb_weight': 0.9691504671589546}. Best is trial 135 with value: 72575.68152475996.\n",
      "[I 2024-09-24 09:07:13,856] Trial 399 finished with value: 72575.73152086535 and parameters: {'lgbm_weight': 0.9532237604832193, 'xgb_weight': 0.6518002848691374, 'cb_weight': 0.09835868300100781, 'hgb_weight': 0.2743633340234518, 'gb_weight': 0.9552567637843283}. Best is trial 135 with value: 72575.68152475996.\n",
      "[I 2024-09-24 09:07:13,906] Trial 400 finished with value: 72575.68101593757 and parameters: {'lgbm_weight': 0.9859858424446222, 'xgb_weight': 0.6138870251772909, 'cb_weight': 0.12131485111396578, 'hgb_weight': 0.2374635778908143, 'gb_weight': 0.9819515836252645}. Best is trial 400 with value: 72575.68101593757.\n",
      "[I 2024-09-24 09:07:13,956] Trial 401 finished with value: 72575.72339318962 and parameters: {'lgbm_weight': 0.9821873927742631, 'xgb_weight': 0.6329630101853556, 'cb_weight': 0.15721233474886534, 'hgb_weight': 0.23432476131544897, 'gb_weight': 0.9827873301575626}. Best is trial 400 with value: 72575.68101593757.\n",
      "[I 2024-09-24 09:07:14,008] Trial 402 finished with value: 72575.74374259163 and parameters: {'lgbm_weight': 0.9084312415424716, 'xgb_weight': 0.543930077426088, 'cb_weight': 0.13314798793431876, 'hgb_weight': 0.2271744066326584, 'gb_weight': 0.9875126515206668}. Best is trial 400 with value: 72575.68101593757.\n",
      "[I 2024-09-24 09:07:14,057] Trial 403 finished with value: 72575.68401330721 and parameters: {'lgbm_weight': 0.948984805283181, 'xgb_weight': 0.5807290970714909, 'cb_weight': 0.12248410800617172, 'hgb_weight': 0.24318445029446925, 'gb_weight': 0.9665094613554557}. Best is trial 400 with value: 72575.68101593757.\n",
      "[I 2024-09-24 09:07:14,109] Trial 404 finished with value: 72575.72765969107 and parameters: {'lgbm_weight': 0.927777994758209, 'xgb_weight': 0.5773065627901787, 'cb_weight': 0.15507418896993733, 'hgb_weight': 0.21698931304021526, 'gb_weight': 0.9650929543819652}. Best is trial 400 with value: 72575.68101593757.\n",
      "[I 2024-09-24 09:07:14,162] Trial 405 finished with value: 72576.2395896815 and parameters: {'lgbm_weight': 0.9476267094505244, 'xgb_weight': 0.5560375409840835, 'cb_weight': 0.1791102063571018, 'hgb_weight': 0.41866249716560694, 'gb_weight': 0.9965340081503645}. Best is trial 400 with value: 72575.68101593757.\n",
      "[I 2024-09-24 09:07:14,218] Trial 406 finished with value: 72575.73248438489 and parameters: {'lgbm_weight': 0.8938471036921221, 'xgb_weight': 0.5297900574785848, 'cb_weight': 0.13426306457172035, 'hgb_weight': 0.24331552421559027, 'gb_weight': 0.953024085273555}. Best is trial 400 with value: 72575.68101593757.\n",
      "[I 2024-09-24 09:07:14,271] Trial 407 finished with value: 72590.7277197368 and parameters: {'lgbm_weight': 0.948500570091751, 'xgb_weight': 0.5765021233161294, 'cb_weight': 0.11932566137806568, 'hgb_weight': 0.1746868113558664, 'gb_weight': 0.12195134151576714}. Best is trial 400 with value: 72575.68101593757.\n",
      "[I 2024-09-24 09:07:14,322] Trial 408 finished with value: 72575.73382838276 and parameters: {'lgbm_weight': 0.9175287225763965, 'xgb_weight': 0.6002084513640974, 'cb_weight': 0.1173269396640815, 'hgb_weight': 0.20483176146419135, 'gb_weight': 0.9994886523453428}. Best is trial 400 with value: 72575.68101593757.\n",
      "[I 2024-09-24 09:07:14,372] Trial 409 finished with value: 72575.71181687494 and parameters: {'lgbm_weight': 0.9624951698908972, 'xgb_weight': 0.5762838869472422, 'cb_weight': 0.1443186823993688, 'hgb_weight': 0.24280943017168707, 'gb_weight': 0.9663136530424035}. Best is trial 400 with value: 72575.68101593757.\n",
      "[I 2024-09-24 09:07:14,426] Trial 410 finished with value: 72575.68537896943 and parameters: {'lgbm_weight': 0.9349531062910084, 'xgb_weight': 0.5458215379639805, 'cb_weight': 0.10637040894157543, 'hgb_weight': 0.2267489585187878, 'gb_weight': 0.9402730540406853}. Best is trial 400 with value: 72575.68101593757.\n",
      "[I 2024-09-24 09:07:14,475] Trial 411 finished with value: 72575.7171018129 and parameters: {'lgbm_weight': 0.8845083623983636, 'xgb_weight': 0.5260210113281251, 'cb_weight': 0.1037649779168985, 'hgb_weight': 0.2692365956693574, 'gb_weight': 0.9357901870616658}. Best is trial 400 with value: 72575.68101593757.\n",
      "[I 2024-09-24 09:07:14,524] Trial 412 finished with value: 72575.73236492787 and parameters: {'lgbm_weight': 0.9151760778538047, 'xgb_weight': 0.5053361748734297, 'cb_weight': 0.1319735687379567, 'hgb_weight': 0.22544766265389377, 'gb_weight': 0.9400871058723674}. Best is trial 400 with value: 72575.68101593757.\n",
      "[I 2024-09-24 09:07:14,574] Trial 413 finished with value: 72576.15859277875 and parameters: {'lgbm_weight': 0.9384314002919932, 'xgb_weight': 0.5495804701218481, 'cb_weight': 0.23801044144271297, 'hgb_weight': 0.2507751978028751, 'gb_weight': 0.9035414012473696}. Best is trial 400 with value: 72575.68101593757.\n",
      "[I 2024-09-24 09:07:14,623] Trial 414 finished with value: 72575.84834177511 and parameters: {'lgbm_weight': 0.9283567781696115, 'xgb_weight': 0.5460962467408531, 'cb_weight': 0.16902981768080444, 'hgb_weight': 0.2880982029016994, 'gb_weight': 0.9485818920442151}. Best is trial 400 with value: 72575.68101593757.\n",
      "[I 2024-09-24 09:07:14,674] Trial 415 finished with value: 72576.67786647499 and parameters: {'lgbm_weight': 0.6220466560055543, 'xgb_weight': 0.5279524428253224, 'cb_weight': 0.09617318359708232, 'hgb_weight': 0.23142989063127378, 'gb_weight': 0.9212070863916099}. Best is trial 400 with value: 72575.68101593757.\n",
      "[I 2024-09-24 09:07:14,725] Trial 416 finished with value: 72575.69548721379 and parameters: {'lgbm_weight': 0.9393867761975757, 'xgb_weight': 0.5597632167064867, 'cb_weight': 0.11987895317286795, 'hgb_weight': 0.25535823504824995, 'gb_weight': 0.9773793907296215}. Best is trial 400 with value: 72575.68101593757.\n",
      "[I 2024-09-24 09:07:14,778] Trial 417 finished with value: 72575.72386923578 and parameters: {'lgbm_weight': 0.9517620559529285, 'xgb_weight': 0.5632065913704212, 'cb_weight': 0.15083442785109313, 'hgb_weight': 0.2176402325708212, 'gb_weight': 0.9573729357605836}. Best is trial 400 with value: 72575.68101593757.\n",
      "[I 2024-09-24 09:07:14,828] Trial 418 finished with value: 72575.7498517071 and parameters: {'lgbm_weight': 0.9627675894943627, 'xgb_weight': 0.5004487336817418, 'cb_weight': 0.12694044946085478, 'hgb_weight': 0.25067191457209803, 'gb_weight': 0.9812339541958764}. Best is trial 400 with value: 72575.68101593757.\n",
      "[I 2024-09-24 09:07:14,879] Trial 419 finished with value: 72575.6905670629 and parameters: {'lgbm_weight': 0.9373224264909282, 'xgb_weight': 0.5346619753905049, 'cb_weight': 0.09206188326791656, 'hgb_weight': 0.23613614051235504, 'gb_weight': 0.9290063782386829}. Best is trial 400 with value: 72575.68101593757.\n",
      "[I 2024-09-24 09:07:14,927] Trial 420 finished with value: 72575.75068075438 and parameters: {'lgbm_weight': 0.9084531496275575, 'xgb_weight': 0.4722382485757579, 'cb_weight': 0.08676403659614143, 'hgb_weight': 0.2520041961560342, 'gb_weight': 0.9433482519567258}. Best is trial 400 with value: 72575.68101593757.\n",
      "[I 2024-09-24 09:07:14,985] Trial 421 finished with value: 72575.74604840092 and parameters: {'lgbm_weight': 0.9348052704890366, 'xgb_weight': 0.5163633990181996, 'cb_weight': 0.09087005260524933, 'hgb_weight': 0.30752369972654087, 'gb_weight': 0.974494785577517}. Best is trial 400 with value: 72575.68101593757.\n",
      "[I 2024-09-24 09:07:15,039] Trial 422 finished with value: 72575.82818790221 and parameters: {'lgbm_weight': 0.9998709182357726, 'xgb_weight': 0.532812793196823, 'cb_weight': 0.10547685064843651, 'hgb_weight': 0.274937916600956, 'gb_weight': 0.8953257073841302}. Best is trial 400 with value: 72575.68101593757.\n",
      "[I 2024-09-24 09:07:15,091] Trial 423 finished with value: 72575.85326063073 and parameters: {'lgbm_weight': 0.8996711303114976, 'xgb_weight': 0.5437066905665497, 'cb_weight': 0.052748603877857354, 'hgb_weight': 0.3494032476427161, 'gb_weight': 0.9572006435009874}. Best is trial 400 with value: 72575.68101593757.\n",
      "[I 2024-09-24 09:07:15,140] Trial 424 finished with value: 72575.6900269488 and parameters: {'lgbm_weight': 0.8812453412012892, 'xgb_weight': 0.5695487328242884, 'cb_weight': 0.0906229399059168, 'hgb_weight': 0.23611202182740243, 'gb_weight': 0.9241384784441278}. Best is trial 400 with value: 72575.68101593757.\n",
      "[I 2024-09-24 09:07:15,190] Trial 425 finished with value: 72575.81564184028 and parameters: {'lgbm_weight': 0.8744742936959744, 'xgb_weight': 0.5751470672482141, 'cb_weight': 0.10554897167850101, 'hgb_weight': 0.20105979367134824, 'gb_weight': 0.9977038785054403}. Best is trial 400 with value: 72575.68101593757.\n",
      "[I 2024-09-24 09:07:15,240] Trial 426 finished with value: 72575.72560630218 and parameters: {'lgbm_weight': 0.9723949790632658, 'xgb_weight': 0.5910085984698263, 'cb_weight': 0.08066786516691844, 'hgb_weight': 0.23695282834155976, 'gb_weight': 0.9121212339880708}. Best is trial 400 with value: 72575.68101593757.\n",
      "[I 2024-09-24 09:07:15,292] Trial 427 finished with value: 72575.69327395248 and parameters: {'lgbm_weight': 0.8825960916133199, 'xgb_weight': 0.5700126118601206, 'cb_weight': 0.1202994382951543, 'hgb_weight': 0.21535761043844515, 'gb_weight': 0.8833164381971694}. Best is trial 400 with value: 72575.68101593757.\n",
      "[I 2024-09-24 09:07:15,343] Trial 428 finished with value: 72575.70001967486 and parameters: {'lgbm_weight': 0.8776644259821018, 'xgb_weight': 0.6053331552385789, 'cb_weight': 0.11234999782989269, 'hgb_weight': 0.1933746373839761, 'gb_weight': 0.892695298780683}. Best is trial 400 with value: 72575.68101593757.\n",
      "[I 2024-09-24 09:07:15,393] Trial 429 finished with value: 72575.70011756688 and parameters: {'lgbm_weight': 0.8705584699956536, 'xgb_weight': 0.5854458831765682, 'cb_weight': 0.1159482199249193, 'hgb_weight': 0.17887210049902694, 'gb_weight': 0.8833339492929728}. Best is trial 400 with value: 72575.68101593757.\n",
      "[I 2024-09-24 09:07:15,442] Trial 430 finished with value: 72583.7464606423 and parameters: {'lgbm_weight': 0.8720070316783172, 'xgb_weight': 0.5917282142201028, 'cb_weight': 0.8255059549529551, 'hgb_weight': 0.17522059576327448, 'gb_weight': 0.8712811806828106}. Best is trial 400 with value: 72575.68101593757.\n",
      "[I 2024-09-24 09:07:15,491] Trial 431 finished with value: 72575.75909297228 and parameters: {'lgbm_weight': 0.8830518482257553, 'xgb_weight': 0.607267431073339, 'cb_weight': 0.14789165063366078, 'hgb_weight': 0.15697286384442843, 'gb_weight': 0.8756942667582841}. Best is trial 400 with value: 72575.68101593757.\n",
      "[I 2024-09-24 09:07:15,541] Trial 432 finished with value: 72575.69960777869 and parameters: {'lgbm_weight': 0.8703462178467997, 'xgb_weight': 0.580772680799798, 'cb_weight': 0.11771084571210855, 'hgb_weight': 0.17923815378461483, 'gb_weight': 0.890143383226348}. Best is trial 400 with value: 72575.68101593757.\n",
      "[I 2024-09-24 09:07:15,591] Trial 433 finished with value: 72575.84737946544 and parameters: {'lgbm_weight': 0.8826323387927925, 'xgb_weight': 0.5730562089104471, 'cb_weight': 0.18959121437480075, 'hgb_weight': 0.19250995519206704, 'gb_weight': 0.8929844771267944}. Best is trial 400 with value: 72575.68101593757.\n",
      "[I 2024-09-24 09:07:15,641] Trial 434 finished with value: 72575.7405049477 and parameters: {'lgbm_weight': 0.8652936361918403, 'xgb_weight': 0.6094818180768987, 'cb_weight': 0.12674163242690673, 'hgb_weight': 0.15537043213402382, 'gb_weight': 0.8986186140612891}. Best is trial 400 with value: 72575.68101593757.\n",
      "[I 2024-09-24 09:07:15,690] Trial 435 finished with value: 72575.77759704726 and parameters: {'lgbm_weight': 0.8940387587298159, 'xgb_weight': 0.588615819644612, 'cb_weight': 0.16558890945552407, 'hgb_weight': 0.20131075921900587, 'gb_weight': 0.8904973526688896}. Best is trial 400 with value: 72575.68101593757.\n",
      "[I 2024-09-24 09:07:15,741] Trial 436 finished with value: 72575.74906965607 and parameters: {'lgbm_weight': 0.8944161097755494, 'xgb_weight': 0.5392223531113535, 'cb_weight': 0.14445444528855106, 'hgb_weight': 0.1683478092507273, 'gb_weight': 0.8809461242629354}. Best is trial 400 with value: 72575.68101593757.\n",
      "[I 2024-09-24 09:07:15,790] Trial 437 finished with value: 72575.73808925712 and parameters: {'lgbm_weight': 0.8498600586419647, 'xgb_weight': 0.6204252590085835, 'cb_weight': 0.11094418737448475, 'hgb_weight': 0.18799781349117167, 'gb_weight': 0.9124494329362272}. Best is trial 400 with value: 72575.68101593757.\n",
      "[I 2024-09-24 09:07:15,839] Trial 438 finished with value: 72575.70545469449 and parameters: {'lgbm_weight': 0.8793246322084, 'xgb_weight': 0.5638640560893452, 'cb_weight': 0.13494777768940014, 'hgb_weight': 0.2135472963703296, 'gb_weight': 0.9006494780255182}. Best is trial 400 with value: 72575.68101593757.\n",
      "[I 2024-09-24 09:07:15,889] Trial 439 finished with value: 72575.75847664113 and parameters: {'lgbm_weight': 0.8987026007295513, 'xgb_weight': 0.6022208602213549, 'cb_weight': 0.10827630677999395, 'hgb_weight': 0.14870782738462204, 'gb_weight': 0.9254331411067277}. Best is trial 400 with value: 72575.68101593757.\n",
      "[I 2024-09-24 09:07:15,938] Trial 440 finished with value: 72582.41862002837 and parameters: {'lgbm_weight': 0.8584157038700397, 'xgb_weight': 0.575796792650742, 'cb_weight': 0.06903867954373161, 'hgb_weight': 0.1889700411731216, 'gb_weight': 0.30157118700761065}. Best is trial 400 with value: 72575.68101593757.\n",
      "[I 2024-09-24 09:07:15,990] Trial 441 finished with value: 72576.90125168899 and parameters: {'lgbm_weight': 0.9093282349398603, 'xgb_weight': 0.2077560439156454, 'cb_weight': 0.09917293873529369, 'hgb_weight': 0.21649283486681697, 'gb_weight': 0.9080333611534638}. Best is trial 400 with value: 72575.68101593757.\n",
      "[I 2024-09-24 09:07:16,040] Trial 442 finished with value: 72575.69173352559 and parameters: {'lgbm_weight': 0.9131442225908855, 'xgb_weight': 0.5469307902282372, 'cb_weight': 0.1197312885558742, 'hgb_weight': 0.2066578682898469, 'gb_weight': 0.9251361970804459}. Best is trial 400 with value: 72575.68101593757.\n",
      "[I 2024-09-24 09:07:16,090] Trial 443 finished with value: 72578.29330598666 and parameters: {'lgbm_weight': 0.9142618126869656, 'xgb_weight': 0.5035631989640784, 'cb_weight': 0.14469192605685538, 'hgb_weight': 0.21636305168842812, 'gb_weight': 0.5233638899880518}. Best is trial 400 with value: 72575.68101593757.\n",
      "[I 2024-09-24 09:07:16,140] Trial 444 finished with value: 72575.71269265177 and parameters: {'lgbm_weight': 0.9238471952408958, 'xgb_weight': 0.5252014085336582, 'cb_weight': 0.12620219333318428, 'hgb_weight': 0.20997779215775855, 'gb_weight': 0.9328563476735199}. Best is trial 400 with value: 72575.68101593757.\n",
      "[I 2024-09-24 09:07:16,191] Trial 445 finished with value: 72577.35313716465 and parameters: {'lgbm_weight': 0.903911788251571, 'xgb_weight': 0.5490071533486368, 'cb_weight': 0.400520763474889, 'hgb_weight': 0.22814661143990314, 'gb_weight': 0.9422090244067162}. Best is trial 400 with value: 72575.68101593757.\n",
      "[I 2024-09-24 09:07:16,242] Trial 446 finished with value: 72575.87240448306 and parameters: {'lgbm_weight': 0.9304738178143017, 'xgb_weight': 0.48132674688180677, 'cb_weight': 0.16628839002353324, 'hgb_weight': 0.1765348672448344, 'gb_weight': 0.9235255443372081}. Best is trial 400 with value: 72575.68101593757.\n",
      "[I 2024-09-24 09:07:16,297] Trial 447 finished with value: 72575.70361701463 and parameters: {'lgbm_weight': 0.9321386194066447, 'xgb_weight': 0.5237083800401977, 'cb_weight': 0.08466693994765247, 'hgb_weight': 0.23352558305157467, 'gb_weight': 0.9404752220122267}. Best is trial 400 with value: 72575.68101593757.\n",
      "[I 2024-09-24 09:07:16,350] Trial 448 finished with value: 72576.712356186 and parameters: {'lgbm_weight': 0.8994770301151751, 'xgb_weight': 0.5452125814728176, 'cb_weight': 0.32816536023219445, 'hgb_weight': 0.205440479194343, 'gb_weight': 0.913323127400068}. Best is trial 400 with value: 72575.68101593757.\n",
      "[I 2024-09-24 09:07:16,400] Trial 449 finished with value: 72575.72444631871 and parameters: {'lgbm_weight': 0.9190468420416154, 'xgb_weight': 0.5645143319548267, 'cb_weight': 0.060114108262822534, 'hgb_weight': 0.23326347250001553, 'gb_weight': 0.9475383004623872}. Best is trial 400 with value: 72575.68101593757.\n",
      "[I 2024-09-24 09:07:16,451] Trial 450 finished with value: 72575.68862440228 and parameters: {'lgbm_weight': 0.9399854237846282, 'xgb_weight': 0.5784878434416555, 'cb_weight': 0.11648426626875738, 'hgb_weight': 0.20803519296711034, 'gb_weight': 0.9257460600190052}. Best is trial 400 with value: 72575.68101593757.\n",
      "[I 2024-09-24 09:07:16,501] Trial 451 finished with value: 72577.06059194871 and parameters: {'lgbm_weight': 0.9418467683926953, 'xgb_weight': 0.5403727461326834, 'cb_weight': 0.10209126141983296, 'hgb_weight': 0.5914476774048444, 'gb_weight': 0.9566857076771246}. Best is trial 400 with value: 72575.68101593757.\n",
      "[I 2024-09-24 09:07:16,552] Trial 452 finished with value: 72575.73524758303 and parameters: {'lgbm_weight': 0.9418742123539737, 'xgb_weight': 0.513275168780395, 'cb_weight': 0.13272323491559104, 'hgb_weight': 0.2219900786316215, 'gb_weight': 0.9247482930608969}. Best is trial 400 with value: 72575.68101593757.\n",
      "[I 2024-09-24 09:07:16,600] Trial 453 finished with value: 72575.71781296303 and parameters: {'lgbm_weight': 0.9448832464225974, 'xgb_weight': 0.5558292105375697, 'cb_weight': 0.08322278236292606, 'hgb_weight': 0.20477714306442166, 'gb_weight': 0.9466955484361974}. Best is trial 400 with value: 72575.68101593757.\n",
      "[I 2024-09-24 09:07:16,650] Trial 454 finished with value: 72589.95285364697 and parameters: {'lgbm_weight': 0.06182927558321971, 'xgb_weight': 0.5708508726718241, 'cb_weight': 0.1528273461363283, 'hgb_weight': 0.24737430867073934, 'gb_weight': 0.963631386878181}. Best is trial 400 with value: 72575.68101593757.\n",
      "[I 2024-09-24 09:07:16,700] Trial 455 finished with value: 72577.42380306384 and parameters: {'lgbm_weight': 0.5509187968285951, 'xgb_weight': 0.5876247183663085, 'cb_weight': 0.09214080150308417, 'hgb_weight': 0.22228839987309904, 'gb_weight': 0.9302898841389092}. Best is trial 400 with value: 72575.68101593757.\n",
      "[I 2024-09-24 09:07:16,754] Trial 456 finished with value: 72576.78150265811 and parameters: {'lgbm_weight': 0.9242187737186476, 'xgb_weight': 0.6256832551977272, 'cb_weight': 0.06433164481190412, 'hgb_weight': 0.5468502712916977, 'gb_weight': 0.9612192287854995}. Best is trial 400 with value: 72575.68101593757.\n",
      "[I 2024-09-24 09:07:16,807] Trial 457 finished with value: 72580.21402348545 and parameters: {'lgbm_weight': 0.9587703878066448, 'xgb_weight': 0.5961064970682274, 'cb_weight': 0.634821603428154, 'hgb_weight': 0.24000941214005714, 'gb_weight': 0.9156189310461493}. Best is trial 400 with value: 72575.68101593757.\n",
      "[I 2024-09-24 09:07:16,858] Trial 458 finished with value: 72575.70786140874 and parameters: {'lgbm_weight': 0.9165454371825384, 'xgb_weight': 0.5391483254454619, 'cb_weight': 0.11039806563762615, 'hgb_weight': 0.1998188777313853, 'gb_weight': 0.9413663099054843}. Best is trial 400 with value: 72575.68101593757.\n",
      "[I 2024-09-24 09:07:16,908] Trial 459 finished with value: 72575.7633506109 and parameters: {'lgbm_weight': 0.9489642740167603, 'xgb_weight': 0.4946583187469428, 'cb_weight': 0.13571701643750875, 'hgb_weight': 0.2553021961804579, 'gb_weight': 0.9732844472839434}. Best is trial 400 with value: 72575.68101593757.\n",
      "[I 2024-09-24 09:07:16,959] Trial 460 finished with value: 72575.69614202228 and parameters: {'lgbm_weight': 0.9354038382444074, 'xgb_weight': 0.5639731527767643, 'cb_weight': 0.07714248849830037, 'hgb_weight': 0.22364804195155943, 'gb_weight': 0.9335694723275922}. Best is trial 400 with value: 72575.68101593757.\n",
      "[I 2024-09-24 09:07:17,013] Trial 461 finished with value: 72579.12743952016 and parameters: {'lgbm_weight': 0.434140108234901, 'xgb_weight': 0.556494057109652, 'cb_weight': 0.04639762464688262, 'hgb_weight': 0.21954264760060865, 'gb_weight': 0.9128604506779036}. Best is trial 400 with value: 72575.68101593757.\n",
      "[I 2024-09-24 09:07:17,063] Trial 462 finished with value: 72575.79917963827 and parameters: {'lgbm_weight': 0.9622985003213594, 'xgb_weight': 0.515399455983926, 'cb_weight': 0.07287438061612792, 'hgb_weight': 0.19441847959954275, 'gb_weight': 0.9310728215541398}. Best is trial 400 with value: 72575.68101593757.\n",
      "[I 2024-09-24 09:07:17,113] Trial 463 finished with value: 72575.8342388749 and parameters: {'lgbm_weight': 0.9324437390172364, 'xgb_weight': 0.5685340374134794, 'cb_weight': 0.024111223008157108, 'hgb_weight': 0.21753189806763293, 'gb_weight': 0.9043431401034415}. Best is trial 400 with value: 72575.68101593757.\n",
      "[I 2024-09-24 09:07:17,163] Trial 464 finished with value: 72575.69938233854 and parameters: {'lgbm_weight': 0.9129358131743033, 'xgb_weight': 0.5361811343530233, 'cb_weight': 0.08373328834237216, 'hgb_weight': 0.232178297747817, 'gb_weight': 0.9442435798691349}. Best is trial 400 with value: 72575.68101593757.\n",
      "[I 2024-09-24 09:07:17,215] Trial 465 finished with value: 72576.61288412608 and parameters: {'lgbm_weight': 0.9621429590482016, 'xgb_weight': 0.5726788924943936, 'cb_weight': 0.05077415724651987, 'hgb_weight': 0.20739185221792975, 'gb_weight': 0.688347986173525}. Best is trial 400 with value: 72575.68101593757.\n",
      "[I 2024-09-24 09:07:17,267] Trial 466 finished with value: 72575.68596911056 and parameters: {'lgbm_weight': 0.9431765078519456, 'xgb_weight': 0.5526544792201209, 'cb_weight': 0.09528912354597019, 'hgb_weight': 0.2402025513467463, 'gb_weight': 0.9258174893149947}. Best is trial 400 with value: 72575.68101593757.\n",
      "[I 2024-09-24 09:07:17,318] Trial 467 finished with value: 72576.76553050539 and parameters: {'lgbm_weight': 0.5810174418530508, 'xgb_weight': 0.5235189218989269, 'cb_weight': 0.11929998506977817, 'hgb_weight': 0.185925870289866, 'gb_weight': 0.8780583094523221}. Best is trial 400 with value: 72575.68101593757.\n",
      "[I 2024-09-24 09:07:17,368] Trial 468 finished with value: 72577.82797808091 and parameters: {'lgbm_weight': 0.9996523723563803, 'xgb_weight': 0.11769523475570276, 'cb_weight': 0.09451210844773739, 'hgb_weight': 0.23666059485930888, 'gb_weight': 0.9145741921344276}. Best is trial 400 with value: 72575.68101593757.\n",
      "[I 2024-09-24 09:07:17,421] Trial 469 finished with value: 72575.83745940715 and parameters: {'lgbm_weight': 0.9693160228743678, 'xgb_weight': 0.5483299242675005, 'cb_weight': 0.17997692733958587, 'hgb_weight': 0.21085951563422395, 'gb_weight': 0.925221310328196}. Best is trial 400 with value: 72575.68101593757.\n",
      "[I 2024-09-24 09:07:17,471] Trial 470 finished with value: 72575.73819407047 and parameters: {'lgbm_weight': 0.9472171728808384, 'xgb_weight': 0.5125351604068926, 'cb_weight': 0.06713927453932397, 'hgb_weight': 0.24157184042374982, 'gb_weight': 0.9038648157290817}. Best is trial 400 with value: 72575.68101593757.\n",
      "[I 2024-09-24 09:07:17,523] Trial 471 finished with value: 72575.89435361062 and parameters: {'lgbm_weight': 0.9777376079980973, 'xgb_weight': 0.45446804910046934, 'cb_weight': 0.12009120172889434, 'hgb_weight': 0.1938587838062992, 'gb_weight': 0.938391408987814}. Best is trial 400 with value: 72575.68101593757.\n",
      "[I 2024-09-24 09:07:17,571] Trial 472 finished with value: 72576.01546071793 and parameters: {'lgbm_weight': 0.8992619312683292, 'xgb_weight': 0.5508463841729974, 'cb_weight': 0.0010487813863460094, 'hgb_weight': 0.21874149610381016, 'gb_weight': 0.9612549117825436}. Best is trial 400 with value: 72575.68101593757.\n",
      "[I 2024-09-24 09:07:17,624] Trial 473 finished with value: 72575.76218903768 and parameters: {'lgbm_weight': 0.9305493744123675, 'xgb_weight': 0.561001225283498, 'cb_weight': 0.15129840896415545, 'hgb_weight': 0.1640066540304721, 'gb_weight': 0.9248224777181563}. Best is trial 400 with value: 72575.68101593757.\n",
      "[I 2024-09-24 09:07:17,676] Trial 474 finished with value: 72575.69931707617 and parameters: {'lgbm_weight': 0.9557196875658779, 'xgb_weight': 0.5289238016201612, 'cb_weight': 0.10201128616657937, 'hgb_weight': 0.25559038221535973, 'gb_weight': 0.9504654101670409}. Best is trial 400 with value: 72575.68101593757.\n",
      "[I 2024-09-24 09:07:17,728] Trial 475 finished with value: 72576.74816035447 and parameters: {'lgbm_weight': 0.978232078071352, 'xgb_weight': 0.49482427915387706, 'cb_weight': 0.20981431371545284, 'hgb_weight': 0.0010024208638281795, 'gb_weight': 0.9312837416781488}. Best is trial 400 with value: 72575.68101593757.\n",
      "[I 2024-09-24 09:07:17,781] Trial 476 finished with value: 72575.72899094764 and parameters: {'lgbm_weight': 0.9156116193696592, 'xgb_weight': 0.6099821786090863, 'cb_weight': 0.13331804546522813, 'hgb_weight': 0.2311245511759719, 'gb_weight': 0.9035595364496439}. Best is trial 400 with value: 72575.68101593757.\n",
      "[I 2024-09-24 09:07:17,831] Trial 477 finished with value: 72575.7532520275 and parameters: {'lgbm_weight': 0.9451649620664618, 'xgb_weight': 0.5793806210904319, 'cb_weight': 0.07597794810464133, 'hgb_weight': 0.20103301027049694, 'gb_weight': 0.8762142433888416}. Best is trial 400 with value: 72575.68101593757.\n",
      "[I 2024-09-24 09:07:17,881] Trial 478 finished with value: 72575.68578283726 and parameters: {'lgbm_weight': 0.98301792629765, 'xgb_weight': 0.632037542004699, 'cb_weight': 0.09973397249493465, 'hgb_weight': 0.2404993531217407, 'gb_weight': 0.9710410730121644}. Best is trial 400 with value: 72575.68101593757.\n",
      "[I 2024-09-24 09:07:17,930] Trial 479 finished with value: 72579.53241593386 and parameters: {'lgbm_weight': 0.9844685509272112, 'xgb_weight': 0.6014367462859092, 'cb_weight': 0.12050426026147865, 'hgb_weight': 0.2532542554266906, 'gb_weight': 0.48187842974618555}. Best is trial 400 with value: 72575.68101593757.\n",
      "[I 2024-09-24 09:07:17,985] Trial 480 finished with value: 72582.2090564663 and parameters: {'lgbm_weight': 0.3064969752218601, 'xgb_weight': 0.5422536098983446, 'cb_weight': 0.10189465463164975, 'hgb_weight': 0.2178870718259405, 'gb_weight': 0.9780575218918681}. Best is trial 400 with value: 72575.68101593757.\n",
      "[I 2024-09-24 09:07:18,037] Trial 481 finished with value: 72575.73471060692 and parameters: {'lgbm_weight': 0.9581913907122037, 'xgb_weight': 0.6288746205048751, 'cb_weight': 0.15314093727710004, 'hgb_weight': 0.17556234145213037, 'gb_weight': 0.9583389305071681}. Best is trial 400 with value: 72575.68101593757.\n",
      "[I 2024-09-24 09:07:18,089] Trial 482 finished with value: 72575.70609366965 and parameters: {'lgbm_weight': 0.9308938633055628, 'xgb_weight': 0.5721632684078767, 'cb_weight': 0.1356743507558776, 'hgb_weight': 0.2425555038436515, 'gb_weight': 0.938660005957761}. Best is trial 400 with value: 72575.68101593757.\n",
      "[I 2024-09-24 09:07:18,141] Trial 483 finished with value: 72580.76009822365 and parameters: {'lgbm_weight': 0.9006605965454862, 'xgb_weight': 0.5583104925398303, 'cb_weight': 0.10709586250458733, 'hgb_weight': 0.25562568549156495, 'gb_weight': 0.3884765232006027}. Best is trial 400 with value: 72575.68101593757.\n",
      "[I 2024-09-24 09:07:18,192] Trial 484 finished with value: 72575.7550727766 and parameters: {'lgbm_weight': 0.9971107941982646, 'xgb_weight': 0.5946237222323536, 'cb_weight': 0.056809550805863175, 'hgb_weight': 0.22414431465406368, 'gb_weight': 0.9796575123472835}. Best is trial 400 with value: 72575.68101593757.\n",
      "[I 2024-09-24 09:07:18,243] Trial 485 finished with value: 72575.73002093087 and parameters: {'lgbm_weight': 0.9623478323604725, 'xgb_weight': 0.6158200208373454, 'cb_weight': 0.08691387592097391, 'hgb_weight': 0.1960539384292623, 'gb_weight': 0.9164523769615297}. Best is trial 400 with value: 72575.68101593757.\n",
      "[I 2024-09-24 09:07:18,294] Trial 486 finished with value: 72575.68451838774 and parameters: {'lgbm_weight': 0.9355108045970362, 'xgb_weight': 0.5814029898853161, 'cb_weight': 0.1228800794213901, 'hgb_weight': 0.23696851159023097, 'gb_weight': 0.9494847561425279}. Best is trial 400 with value: 72575.68101593757.\n",
      "[I 2024-09-24 09:07:18,344] Trial 487 finished with value: 72575.7748013082 and parameters: {'lgbm_weight': 0.9212111657180473, 'xgb_weight': 0.5329477352999976, 'cb_weight': 0.16014122930466224, 'hgb_weight': 0.20967081511870872, 'gb_weight': 0.9012177352968206}. Best is trial 400 with value: 72575.68101593757.\n",
      "[I 2024-09-24 09:07:18,393] Trial 488 finished with value: 72576.27290359326 and parameters: {'lgbm_weight': 0.8902107581681672, 'xgb_weight': 0.5647643007490206, 'cb_weight': 0.13793437664766406, 'hgb_weight': 0.033137597937726776, 'gb_weight': 0.9346891026328509}. Best is trial 400 with value: 72575.68101593757.\n",
      "[I 2024-09-24 09:07:18,443] Trial 489 finished with value: 72580.42081697857 and parameters: {'lgbm_weight': 0.9380075711314507, 'xgb_weight': 0.5115169019193044, 'cb_weight': 0.18344661060872053, 'hgb_weight': 0.918998562935702, 'gb_weight': 0.9474451814048881}. Best is trial 400 with value: 72575.68101593757.\n",
      "[I 2024-09-24 09:07:18,493] Trial 490 finished with value: 72575.69284315805 and parameters: {'lgbm_weight': 0.9132785448506445, 'xgb_weight': 0.5824667900859583, 'cb_weight': 0.1226816503776495, 'hgb_weight': 0.23468405237234446, 'gb_weight': 0.9192367267014}. Best is trial 400 with value: 72575.68101593757.\n",
      "[I 2024-09-24 09:07:18,544] Trial 491 finished with value: 72575.70092941134 and parameters: {'lgbm_weight': 0.8900121643030816, 'xgb_weight': 0.5504006377654387, 'cb_weight': 0.12042361306839096, 'hgb_weight': 0.2394369108704102, 'gb_weight': 0.8922693063912649}. Best is trial 400 with value: 72575.68101593757.\n",
      "[I 2024-09-24 09:07:18,593] Trial 492 finished with value: 72577.02670379993 and parameters: {'lgbm_weight': 0.9072331303088037, 'xgb_weight': 0.5869914826824413, 'cb_weight': 0.16631698844928353, 'hgb_weight': 0.25931645263012476, 'gb_weight': 0.6575737209028598}. Best is trial 400 with value: 72575.68101593757.\n",
      "[I 2024-09-24 09:07:18,643] Trial 493 finished with value: 72575.76389789805 and parameters: {'lgbm_weight': 0.9154443168765132, 'xgb_weight': 0.5342683714610493, 'cb_weight': 0.1413467304192056, 'hgb_weight': 0.23231487617046867, 'gb_weight': 0.8751960682406636}. Best is trial 400 with value: 72575.68101593757.\n",
      "[I 2024-09-24 09:07:18,693] Trial 494 finished with value: 72575.69756155247 and parameters: {'lgbm_weight': 0.8848640194249902, 'xgb_weight': 0.5824901091107016, 'cb_weight': 0.10826018961114778, 'hgb_weight': 0.24550940571310864, 'gb_weight': 0.9169130476781461}. Best is trial 400 with value: 72575.68101593757.\n",
      "[I 2024-09-24 09:07:18,744] Trial 495 finished with value: 72575.69851524707 and parameters: {'lgbm_weight': 0.9252039167234999, 'xgb_weight': 0.5592845548867648, 'cb_weight': 0.12248847733502051, 'hgb_weight': 0.22405911829475825, 'gb_weight': 0.903692492160971}. Best is trial 400 with value: 72575.68101593757.\n",
      "[I 2024-09-24 09:07:18,796] Trial 496 finished with value: 72575.70989619079 and parameters: {'lgbm_weight': 0.9077749243199009, 'xgb_weight': 0.6013728118235325, 'cb_weight': 0.09613750407841297, 'hgb_weight': 0.26091205228351344, 'gb_weight': 0.9170654112564086}. Best is trial 400 with value: 72575.68101593757.\n",
      "[I 2024-09-24 09:07:18,847] Trial 497 finished with value: 72583.62991165029 and parameters: {'lgbm_weight': 0.22725197190403024, 'xgb_weight': 0.5733304522012151, 'cb_weight': 0.06960937624735841, 'hgb_weight': 0.21699006574961793, 'gb_weight': 0.885803594880324}. Best is trial 400 with value: 72575.68101593757.\n",
      "[I 2024-09-24 09:07:18,898] Trial 498 finished with value: 72575.73100788813 and parameters: {'lgbm_weight': 0.9380513666718798, 'xgb_weight': 0.624148176207603, 'cb_weight': 0.1393548775022441, 'hgb_weight': 0.2416066600382537, 'gb_weight': 0.9323679941465466}. Best is trial 400 with value: 72575.68101593757.\n",
      "[I 2024-09-24 09:07:18,949] Trial 499 finished with value: 72575.74672283643 and parameters: {'lgbm_weight': 0.9451583320942167, 'xgb_weight': 0.5483445944091416, 'cb_weight': 0.10903444022360935, 'hgb_weight': 0.18023489902894227, 'gb_weight': 0.9587137270835173}. Best is trial 400 with value: 72575.68101593757.\n"
     ]
    }
   ],
   "source": [
    "sampler = optuna.samplers.TPESampler(seed=CFG.seed)\n",
    "study = optuna.create_study(direction='minimize', sampler=sampler)\n",
    "study.optimize(objective, n_trials=500)"
   ]
  },
  {
   "cell_type": "code",
   "execution_count": 21,
   "id": "f19e9dcd",
   "metadata": {
    "execution": {
     "iopub.execute_input": "2024-09-24T09:07:19.050809Z",
     "iopub.status.busy": "2024-09-24T09:07:19.050356Z",
     "iopub.status.idle": "2024-09-24T09:07:19.056413Z",
     "shell.execute_reply": "2024-09-24T09:07:19.055004Z"
    },
    "papermill": {
     "duration": 0.054451,
     "end_time": "2024-09-24T09:07:19.058640",
     "exception": false,
     "start_time": "2024-09-24T09:07:19.004189",
     "status": "completed"
    },
    "tags": []
   },
   "outputs": [],
   "source": [
    "scores['Weighted Averaging'] = [study.best_value] * CFG.n_folds"
   ]
  },
  {
   "cell_type": "code",
   "execution_count": 22,
   "id": "38ead99c",
   "metadata": {
    "execution": {
     "iopub.execute_input": "2024-09-24T09:07:19.147916Z",
     "iopub.status.busy": "2024-09-24T09:07:19.147467Z",
     "iopub.status.idle": "2024-09-24T09:07:19.154196Z",
     "shell.execute_reply": "2024-09-24T09:07:19.153091Z"
    },
    "papermill": {
     "duration": 0.054425,
     "end_time": "2024-09-24T09:07:19.156689",
     "exception": false,
     "start_time": "2024-09-24T09:07:19.102264",
     "status": "completed"
    },
    "tags": []
   },
   "outputs": [],
   "source": [
    "best_weights = study.best_params\n",
    "best_weights = [best_weights[f'{model}_weight'] for model in ['lgbm', 'xgb', 'cb', 'hgb', 'gb']]\n",
    "best_weights /= np.sum(best_weights)"
   ]
  },
  {
   "cell_type": "code",
   "execution_count": 23,
   "id": "6b25162f",
   "metadata": {
    "execution": {
     "iopub.execute_input": "2024-09-24T09:07:19.245445Z",
     "iopub.status.busy": "2024-09-24T09:07:19.245022Z",
     "iopub.status.idle": "2024-09-24T09:07:19.686123Z",
     "shell.execute_reply": "2024-09-24T09:07:19.684652Z"
    },
    "papermill": {
     "duration": 0.488139,
     "end_time": "2024-09-24T09:07:19.688672",
     "exception": false,
     "start_time": "2024-09-24T09:07:19.200533",
     "status": "completed"
    },
    "tags": []
   },
   "outputs": [
    {
     "data": {
      "image/png": "[encoded data removed]",
      "text/plain": [
       "<Figure size 1000x400 with 1 Axes>"
      ]
     },
     "metadata": {},
     "output_type": "display_data"
    }
   ],
   "source": [
    "plot_weights('Optuna Weights', best_weights)"
   ]
  },
  {
   "cell_type": "markdown",
   "id": "48da5c73",
   "metadata": {
    "papermill": {
     "duration": 0.044619,
     "end_time": "2024-09-24T09:07:19.778036",
     "exception": false,
     "start_time": "2024-09-24T09:07:19.733417",
     "status": "completed"
    },
    "tags": []
   },
   "source": [
    "To make predictions with this 'model', we can simply use the weights that we found and take the weighted average of the test predictions of each base model."
   ]
  },
  {
   "cell_type": "code",
   "execution_count": 24,
   "id": "ac2eecfa",
   "metadata": {
    "execution": {
     "iopub.execute_input": "2024-09-24T09:07:19.872468Z",
     "iopub.status.busy": "2024-09-24T09:07:19.872017Z",
     "iopub.status.idle": "2024-09-24T09:07:19.880667Z",
     "shell.execute_reply": "2024-09-24T09:07:19.879329Z"
    },
    "papermill": {
     "duration": 0.059833,
     "end_time": "2024-09-24T09:07:19.883234",
     "exception": false,
     "start_time": "2024-09-24T09:07:19.823401",
     "status": "completed"
    },
    "tags": []
   },
   "outputs": [],
   "source": [
    "weighted_test_preds = np.zeros((test.shape[0]))\n",
    "for model, weight in zip(test_preds.keys(), best_weights):\n",
    "    weighted_test_preds += test_preds[model] * weight"
   ]
  },
  {
   "cell_type": "code",
   "execution_count": 25,
   "id": "6a2b48db",
   "metadata": {
    "execution": {
     "iopub.execute_input": "2024-09-24T09:07:19.977534Z",
     "iopub.status.busy": "2024-09-24T09:07:19.976553Z",
     "iopub.status.idle": "2024-09-24T09:07:20.271137Z",
     "shell.execute_reply": "2024-09-24T09:07:20.270038Z"
    },
    "papermill": {
     "duration": 0.344894,
     "end_time": "2024-09-24T09:07:20.273292",
     "exception": false,
     "start_time": "2024-09-24T09:07:19.928398",
     "status": "completed"
    },
    "tags": []
   },
   "outputs": [
    {
     "data": {
      "text/html": [
       "<div>\n",
       "<style scoped>\n",
       "    .dataframe tbody tr th:only-of-type {\n",
       "        vertical-align: middle;\n",
       "    }\n",
       "\n",
       "    .dataframe tbody tr th {\n",
       "        vertical-align: top;\n",
       "    }\n",
       "\n",
       "    .dataframe thead th {\n",
       "        text-align: right;\n",
       "    }\n",
       "</style>\n",
       "<table border=\"1\" class=\"dataframe\">\n",
       "  <thead>\n",
       "    <tr style=\"text-align: right;\">\n",
       "      <th></th>\n",
       "      <th>id</th>\n",
       "      <th>price</th>\n",
       "    </tr>\n",
       "  </thead>\n",
       "  <tbody>\n",
       "    <tr>\n",
       "      <th>0</th>\n",
       "      <td>188533</td>\n",
       "      <td>17002.016113</td>\n",
       "    </tr>\n",
       "    <tr>\n",
       "      <th>1</th>\n",
       "      <td>188534</td>\n",
       "      <td>81096.010986</td>\n",
       "    </tr>\n",
       "    <tr>\n",
       "      <th>2</th>\n",
       "      <td>188535</td>\n",
       "      <td>53743.075928</td>\n",
       "    </tr>\n",
       "    <tr>\n",
       "      <th>3</th>\n",
       "      <td>188536</td>\n",
       "      <td>25054.089905</td>\n",
       "    </tr>\n",
       "    <tr>\n",
       "      <th>4</th>\n",
       "      <td>188537</td>\n",
       "      <td>29610.761597</td>\n",
       "    </tr>\n",
       "  </tbody>\n",
       "</table>\n",
       "</div>"
      ],
      "text/plain": [
       "       id         price\n",
       "0  188533  17002.016113\n",
       "1  188534  81096.010986\n",
       "2  188535  53743.075928\n",
       "3  188536  25054.089905\n",
       "4  188537  29610.761597"
      ]
     },
     "execution_count": 25,
     "metadata": {},
     "output_type": "execute_result"
    }
   ],
   "source": [
    "save_submission(weighted_test_preds, 'weighted-averaging', study.best_value).head()"
   ]
  },
  {
   "cell_type": "markdown",
   "id": "cf787790",
   "metadata": {
    "papermill": {
     "duration": 0.043739,
     "end_time": "2024-09-24T09:07:20.362118",
     "exception": false,
     "start_time": "2024-09-24T09:07:20.318379",
     "status": "completed"
    },
    "tags": []
   },
   "source": [
    "## Ridge\n",
    "\n",
    "Instead of tuning ensemble weights, we can use a meta-model that uses the predictions of the base models as features and learns the best way to combine them. The regularized linear model, Ridge, is a popular choice for this purpose. It learns a linear combination of the features and assigns weights to each model that minimizes its error. The L2 regularization term in Ridge penalizes large weights (coefficients), ensuring that no single model dominates the ensemble.\n",
    "\n",
    "Since we are using predictions as features, it is likely that these features are highly correlated with each other. Ridge tends to be more effective at handling this multicollinearity than the previous method.\n",
    "\n",
    "Before feeding the predictions to the model, I will create a dataframe out of the prediction and scale the values using `MinMaxScaler`. This gives a small boost to the CV score."
   ]
  },
  {
   "cell_type": "code",
   "execution_count": 26,
   "id": "b0365f14",
   "metadata": {
    "execution": {
     "iopub.execute_input": "2024-09-24T09:07:20.454075Z",
     "iopub.status.busy": "2024-09-24T09:07:20.453608Z",
     "iopub.status.idle": "2024-09-24T09:07:20.472136Z",
     "shell.execute_reply": "2024-09-24T09:07:20.471082Z"
    },
    "papermill": {
     "duration": 0.066646,
     "end_time": "2024-09-24T09:07:20.474798",
     "exception": false,
     "start_time": "2024-09-24T09:07:20.408152",
     "status": "completed"
    },
    "tags": []
   },
   "outputs": [],
   "source": [
    "_X = pd.DataFrame(oof_preds)\n",
    "_X_test = pd.DataFrame(test_preds)\n",
    "\n",
    "scaler = MinMaxScaler().set_output(transform='pandas')\n",
    "_X = scaler.fit_transform(_X)\n",
    "_X_test = scaler.transform(_X_test)"
   ]
  },
  {
   "cell_type": "code",
   "execution_count": 27,
   "id": "2d80f7ac",
   "metadata": {
    "execution": {
     "iopub.execute_input": "2024-09-24T09:07:20.566885Z",
     "iopub.status.busy": "2024-09-24T09:07:20.566409Z",
     "iopub.status.idle": "2024-09-24T09:07:22.116051Z",
     "shell.execute_reply": "2024-09-24T09:07:22.114798Z"
    },
    "papermill": {
     "duration": 1.599645,
     "end_time": "2024-09-24T09:07:22.118722",
     "exception": false,
     "start_time": "2024-09-24T09:07:20.519077",
     "status": "completed"
    },
    "tags": []
   },
   "outputs": [
    {
     "name": "stdout",
     "output_type": "stream",
     "text": [
      "Training Ridge\n",
      "\n",
      "--- Fold 1 - RMSE: 71770\n",
      "--- Fold 2 - RMSE: 73149\n",
      "--- Fold 3 - RMSE: 72607\n",
      "--- Fold 4 - RMSE: 72026\n",
      "--- Fold 5 - RMSE: 73342\n",
      "\n",
      "Overall RMSE: 72581 ± 611\n"
     ]
    }
   ],
   "source": [
    "ridge_model = Ridge(\n",
    "    random_state=CFG.seed,\n",
    "    alpha=6\n",
    ")\n",
    "ridge_trainer = Trainer(ridge_model, CFG, True)\n",
    "_, ridge_test_preds, scores['Ridge'], ridge_coeffs = ridge_trainer.fit_predict(_X, y, _X_test)"
   ]
  },
  {
   "cell_type": "code",
   "execution_count": 28,
   "id": "7941d517",
   "metadata": {
    "execution": {
     "iopub.execute_input": "2024-09-24T09:07:22.211862Z",
     "iopub.status.busy": "2024-09-24T09:07:22.211396Z",
     "iopub.status.idle": "2024-09-24T09:07:22.575538Z",
     "shell.execute_reply": "2024-09-24T09:07:22.573940Z"
    },
    "papermill": {
     "duration": 0.413498,
     "end_time": "2024-09-24T09:07:22.578432",
     "exception": false,
     "start_time": "2024-09-24T09:07:22.164934",
     "status": "completed"
    },
    "tags": []
   },
   "outputs": [
    {
     "data": {
      "image/png": "[encoded data removed]",
      "text/plain": [
       "<Figure size 1000x400 with 1 Axes>"
      ]
     },
     "metadata": {},
     "output_type": "display_data"
    }
   ],
   "source": [
    "plot_weights('Ridge coefficients', ridge_coeffs)"
   ]
  },
  {
   "cell_type": "code",
   "execution_count": 29,
   "id": "cd24db78",
   "metadata": {
    "execution": {
     "iopub.execute_input": "2024-09-24T09:07:22.673096Z",
     "iopub.status.busy": "2024-09-24T09:07:22.672645Z",
     "iopub.status.idle": "2024-09-24T09:07:22.878638Z",
     "shell.execute_reply": "2024-09-24T09:07:22.877299Z"
    },
    "papermill": {
     "duration": 0.256242,
     "end_time": "2024-09-24T09:07:22.881073",
     "exception": false,
     "start_time": "2024-09-24T09:07:22.624831",
     "status": "completed"
    },
    "tags": []
   },
   "outputs": [
    {
     "data": {
      "text/html": [
       "<div>\n",
       "<style scoped>\n",
       "    .dataframe tbody tr th:only-of-type {\n",
       "        vertical-align: middle;\n",
       "    }\n",
       "\n",
       "    .dataframe tbody tr th {\n",
       "        vertical-align: top;\n",
       "    }\n",
       "\n",
       "    .dataframe thead th {\n",
       "        text-align: right;\n",
       "    }\n",
       "</style>\n",
       "<table border=\"1\" class=\"dataframe\">\n",
       "  <thead>\n",
       "    <tr style=\"text-align: right;\">\n",
       "      <th></th>\n",
       "      <th>id</th>\n",
       "      <th>price</th>\n",
       "    </tr>\n",
       "  </thead>\n",
       "  <tbody>\n",
       "    <tr>\n",
       "      <th>0</th>\n",
       "      <td>188533</td>\n",
       "      <td>16556.734375</td>\n",
       "    </tr>\n",
       "    <tr>\n",
       "      <th>1</th>\n",
       "      <td>188534</td>\n",
       "      <td>81550.984375</td>\n",
       "    </tr>\n",
       "    <tr>\n",
       "      <th>2</th>\n",
       "      <td>188535</td>\n",
       "      <td>53778.671875</td>\n",
       "    </tr>\n",
       "    <tr>\n",
       "      <th>3</th>\n",
       "      <td>188536</td>\n",
       "      <td>24844.835938</td>\n",
       "    </tr>\n",
       "    <tr>\n",
       "      <th>4</th>\n",
       "      <td>188537</td>\n",
       "      <td>29413.867188</td>\n",
       "    </tr>\n",
       "  </tbody>\n",
       "</table>\n",
       "</div>"
      ],
      "text/plain": [
       "       id         price\n",
       "0  188533  16556.734375\n",
       "1  188534  81550.984375\n",
       "2  188535  53778.671875\n",
       "3  188536  24844.835938\n",
       "4  188537  29413.867188"
      ]
     },
     "execution_count": 29,
     "metadata": {},
     "output_type": "execute_result"
    }
   ],
   "source": [
    "save_submission(ridge_test_preds, 'ridge', np.mean(scores['Ridge'])).head()"
   ]
  },
  {
   "cell_type": "markdown",
   "id": "c4e4a12c",
   "metadata": {
    "papermill": {
     "duration": 0.045,
     "end_time": "2024-09-24T09:07:22.971437",
     "exception": false,
     "start_time": "2024-09-24T09:07:22.926437",
     "status": "completed"
    },
    "tags": []
   },
   "source": [
    "## Lasso\n",
    "\n",
    "Lasso is another good option when choosing a meta-model for ensembling. Similar to Ridge, Lasso is a regularized linear model. However, unlike Ridge, which includes an L2 regularization term, Lasso has an inbuilt L1 regularization. One interesting property of Lasso is that it can set a models weight to zero, meaning it essentially performs feature selection and discards the least useful features."
   ]
  },
  {
   "cell_type": "code",
   "execution_count": 30,
   "id": "12be1ab8",
   "metadata": {
    "execution": {
     "iopub.execute_input": "2024-09-24T09:07:23.076856Z",
     "iopub.status.busy": "2024-09-24T09:07:23.076428Z",
     "iopub.status.idle": "2024-09-24T09:07:25.901260Z",
     "shell.execute_reply": "2024-09-24T09:07:25.899962Z"
    },
    "papermill": {
     "duration": 2.874593,
     "end_time": "2024-09-24T09:07:25.903360",
     "exception": false,
     "start_time": "2024-09-24T09:07:23.028767",
     "status": "completed"
    },
    "tags": []
   },
   "outputs": [
    {
     "name": "stdout",
     "output_type": "stream",
     "text": [
      "Training Lasso\n",
      "\n",
      "--- Fold 1 - RMSE: 71770\n",
      "--- Fold 2 - RMSE: 73151\n",
      "--- Fold 3 - RMSE: 72606\n",
      "--- Fold 4 - RMSE: 72029\n",
      "--- Fold 5 - RMSE: 73339\n",
      "\n",
      "Overall RMSE: 72582 ± 610\n"
     ]
    }
   ],
   "source": [
    "lasso_model = Lasso()\n",
    "lasso_trainer = Trainer(lasso_model, CFG, True)\n",
    "_, lasso_test_preds, scores['Lasso'], lasso_coeffs = lasso_trainer.fit_predict(_X, y, _X_test)"
   ]
  },
  {
   "cell_type": "code",
   "execution_count": 31,
   "id": "9862c95a",
   "metadata": {
    "execution": {
     "iopub.execute_input": "2024-09-24T09:07:25.997050Z",
     "iopub.status.busy": "2024-09-24T09:07:25.995932Z",
     "iopub.status.idle": "2024-09-24T09:07:26.368208Z",
     "shell.execute_reply": "2024-09-24T09:07:26.367307Z"
    },
    "papermill": {
     "duration": 0.420962,
     "end_time": "2024-09-24T09:07:26.370468",
     "exception": false,
     "start_time": "2024-09-24T09:07:25.949506",
     "status": "completed"
    },
    "tags": []
   },
   "outputs": [
    {
     "data": {
      "image/png": "[encoded data removed]",
      "text/plain": [
       "<Figure size 1000x400 with 1 Axes>"
      ]
     },
     "metadata": {},
     "output_type": "display_data"
    }
   ],
   "source": [
    "plot_weights('Lasso coefficients', lasso_coeffs)"
   ]
  },
  {
   "cell_type": "code",
   "execution_count": 32,
   "id": "0aa81523",
   "metadata": {
    "execution": {
     "iopub.execute_input": "2024-09-24T09:07:26.465386Z",
     "iopub.status.busy": "2024-09-24T09:07:26.465002Z",
     "iopub.status.idle": "2024-09-24T09:07:26.653634Z",
     "shell.execute_reply": "2024-09-24T09:07:26.652636Z"
    },
    "papermill": {
     "duration": 0.238696,
     "end_time": "2024-09-24T09:07:26.656303",
     "exception": false,
     "start_time": "2024-09-24T09:07:26.417607",
     "status": "completed"
    },
    "tags": []
   },
   "outputs": [
    {
     "data": {
      "text/html": [
       "<div>\n",
       "<style scoped>\n",
       "    .dataframe tbody tr th:only-of-type {\n",
       "        vertical-align: middle;\n",
       "    }\n",
       "\n",
       "    .dataframe tbody tr th {\n",
       "        vertical-align: top;\n",
       "    }\n",
       "\n",
       "    .dataframe thead th {\n",
       "        text-align: right;\n",
       "    }\n",
       "</style>\n",
       "<table border=\"1\" class=\"dataframe\">\n",
       "  <thead>\n",
       "    <tr style=\"text-align: right;\">\n",
       "      <th></th>\n",
       "      <th>id</th>\n",
       "      <th>price</th>\n",
       "    </tr>\n",
       "  </thead>\n",
       "  <tbody>\n",
       "    <tr>\n",
       "      <th>0</th>\n",
       "      <td>188533</td>\n",
       "      <td>16550.736328</td>\n",
       "    </tr>\n",
       "    <tr>\n",
       "      <th>1</th>\n",
       "      <td>188534</td>\n",
       "      <td>81551.882812</td>\n",
       "    </tr>\n",
       "    <tr>\n",
       "      <th>2</th>\n",
       "      <td>188535</td>\n",
       "      <td>53822.171875</td>\n",
       "    </tr>\n",
       "    <tr>\n",
       "      <th>3</th>\n",
       "      <td>188536</td>\n",
       "      <td>24791.535156</td>\n",
       "    </tr>\n",
       "    <tr>\n",
       "      <th>4</th>\n",
       "      <td>188537</td>\n",
       "      <td>29398.431641</td>\n",
       "    </tr>\n",
       "  </tbody>\n",
       "</table>\n",
       "</div>"
      ],
      "text/plain": [
       "       id         price\n",
       "0  188533  16550.736328\n",
       "1  188534  81551.882812\n",
       "2  188535  53822.171875\n",
       "3  188536  24791.535156\n",
       "4  188537  29398.431641"
      ]
     },
     "execution_count": 32,
     "metadata": {},
     "output_type": "execute_result"
    }
   ],
   "source": [
    "save_submission(lasso_test_preds, 'lasso', np.mean(scores['Lasso'])).head()"
   ]
  },
  {
   "cell_type": "markdown",
   "id": "f21082ce",
   "metadata": {
    "papermill": {
     "duration": 0.046701,
     "end_time": "2024-09-24T09:07:26.749231",
     "exception": false,
     "start_time": "2024-09-24T09:07:26.702530",
     "status": "completed"
    },
    "tags": []
   },
   "source": [
    "## Hill climbing\n",
    "\n",
    "In my opinion, hill climbing is an underused ensembling method in competitions. It is a simple, yet effective method to create an ensemble from OOF files. I will use the implementation from a fellow Kaggler. You can learn more about this library [here](https://github.com/Matt-OP/hillclimbers/)."
   ]
  },
  {
   "cell_type": "code",
   "execution_count": 33,
   "id": "9bc0db80",
   "metadata": {
    "execution": {
     "iopub.execute_input": "2024-09-24T09:07:26.847498Z",
     "iopub.status.busy": "2024-09-24T09:07:26.847118Z",
     "iopub.status.idle": "2024-09-24T09:07:26.852060Z",
     "shell.execute_reply": "2024-09-24T09:07:26.851055Z"
    },
    "papermill": {
     "duration": 0.057399,
     "end_time": "2024-09-24T09:07:26.854196",
     "exception": false,
     "start_time": "2024-09-24T09:07:26.796797",
     "status": "completed"
    },
    "tags": []
   },
   "outputs": [],
   "source": [
    "def rmse(y_true, y_pred):\n",
    "    return mean_squared_error(y_true, y_pred, squared=False)"
   ]
  },
  {
   "cell_type": "code",
   "execution_count": 34,
   "id": "3b9194d5",
   "metadata": {
    "execution": {
     "iopub.execute_input": "2024-09-24T09:07:26.951360Z",
     "iopub.status.busy": "2024-09-24T09:07:26.950909Z",
     "iopub.status.idle": "2024-09-24T09:07:48.471938Z",
     "shell.execute_reply": "2024-09-24T09:07:48.470674Z"
    },
    "papermill": {
     "duration": 21.5728,
     "end_time": "2024-09-24T09:07:48.474297",
     "exception": false,
     "start_time": "2024-09-24T09:07:26.901497",
     "status": "completed"
    },
    "tags": []
   },
   "outputs": [
    {
     "name": "stdout",
     "output_type": "stream",
     "text": [
      "\u001b[1m\u001b[34m   /\\  \n",
      "  /__\\  hillclimbers\u001b[0m\u001b[1m \n",
      " /    \\\n",
      "/______\\ \n",
      "\u001b[0m\n",
      "\u001b[1m\u001b[33mModels to be ensembled | (5 total):\u001b[0m \n",
      "\n",
      "\u001b[1m\u001b[32mXGBoost:          72628.19713 (best solo model)\u001b[0m\n",
      "\u001b[1mLightGBM:         72647.35699\u001b[0m\n",
      "\u001b[1mGradientBoosting: 72660.97930\u001b[0m\n",
      "\u001b[1mHistGB:           72689.33956\u001b[0m\n",
      "\u001b[1mCatBoost:         72749.33033\u001b[0m\n",
      "\n",
      "\u001b[1m\u001b[33m[Data preparation completed successfully] - [Initiate hill climbing]\u001b[0m \n",
      "\n",
      "\u001b[1m\u001b[32mIteration: 1 | Model added: GradientBoosting | Best weight: 0.411 | Best rmse: 72596.92105\u001b[0m\n",
      "\u001b[1m\u001b[32mIteration: 2 | Model added: LightGBM | Best weight: 0.341 | Best rmse: 72578.41626\u001b[0m\n",
      "\u001b[1m\u001b[32mIteration: 3 | Model added: CatBoost | Best weight: 0.060 | Best rmse: 72577.72361\u001b[0m\n",
      "\u001b[1m\u001b[32mIteration: 4 | Model added: HistGB | Best weight: 0.027 | Best rmse: 72577.64026\u001b[0m\n"
     ]
    },
    {
     "data": {
      "text/html": [
       "        <script type=\"text/javascript\">\n",
       "        window.PlotlyConfig = {MathJaxConfig: 'local'};\n",
       "        if (window.MathJax && window.MathJax.Hub && window.MathJax.Hub.Config) {window.MathJax.Hub.Config({SVG: {font: \"STIX-Web\"}});}\n",
       "        if (typeof require !== 'undefined') {\n",
       "        require.undef(\"plotly\");\n",
       "        requirejs.config({\n",
       "            paths: {\n",
       "                'plotly': ['https://cdn.plot.ly/plotly-2.32.0.min']\n",
       "            }\n",
       "        });\n",
       "        require(['plotly'], function(Plotly) {\n",
       "            window._Plotly = Plotly;\n",
       "        });\n",
       "        }\n",
       "        </script>\n",
       "        "
      ]
     },
     "metadata": {},
     "output_type": "display_data"
    },
    {
     "data": {
      "text/html": [
       "<div>                            <div id=\"cec7ac2f-bc4e-468c-a2de-47f348a6a815\" class=\"plotly-graph-div\" style=\"height:500px; width:900px;\"></div>            <script type=\"text/javascript\">                require([\"plotly\"], function(Plotly) {                    window.PLOTLYENV=window.PLOTLYENV || {};                                    if (document.getElementById(\"cec7ac2f-bc4e-468c-a2de-47f348a6a815\")) {                    Plotly.newPlot(                        \"cec7ac2f-bc4e-468c-a2de-47f348a6a815\",                        [{\"hovertemplate\":\"Number of Models: %{x}\\u003cbr\\u003eCV: %{y}\",\"legendgroup\":\"\",\"line\":{\"color\":\"#009933\",\"dash\":\"solid\"},\"marker\":{\"symbol\":\"circle\",\"line\":{\"color\":\"#FFFFFF\",\"width\":1.5},\"color\":\"#33cc33\",\"size\":10},\"mode\":\"lines+markers+text\",\"name\":\"\",\"orientation\":\"v\",\"showlegend\":false,\"text\":[72628.19713,72596.92105,72578.41626,72577.72361,72577.64026],\"x\":[1,2,3,4,5],\"xaxis\":\"x\",\"y\":[72628.1971335193,72596.92104534875,72578.41626050623,72577.7236112238,72577.64025883834],\"yaxis\":\"y\",\"type\":\"scatter\",\"textfont\":{\"size\":10},\"textposition\":\"top center\"}],                        {\"template\":{\"data\":{\"barpolar\":[{\"marker\":{\"line\":{\"color\":\"rgb(17,17,17)\",\"width\":0.5},\"pattern\":{\"fillmode\":\"overlay\",\"size\":10,\"solidity\":0.2}},\"type\":\"barpolar\"}],\"bar\":[{\"error_x\":{\"color\":\"#f2f5fa\"},\"error_y\":{\"color\":\"#f2f5fa\"},\"marker\":{\"line\":{\"color\":\"rgb(17,17,17)\",\"width\":0.5},\"pattern\":{\"fillmode\":\"overlay\",\"size\":10,\"solidity\":0.2}},\"type\":\"bar\"}],\"carpet\":[{\"aaxis\":{\"endlinecolor\":\"#A2B1C6\",\"gridcolor\":\"#506784\",\"linecolor\":\"#506784\",\"minorgridcolor\":\"#506784\",\"startlinecolor\":\"#A2B1C6\"},\"baxis\":{\"endlinecolor\":\"#A2B1C6\",\"gridcolor\":\"#506784\",\"linecolor\":\"#506784\",\"minorgridcolor\":\"#506784\",\"startlinecolor\":\"#A2B1C6\"},\"type\":\"carpet\"}],\"choropleth\":[{\"colorbar\":{\"outlinewidth\":0,\"ticks\":\"\"},\"type\":\"choropleth\"}],\"contourcarpet\":[{\"colorbar\":{\"outlinewidth\":0,\"ticks\":\"\"},\"type\":\"contourcarpet\"}],\"contour\":[{\"colorbar\":{\"outlinewidth\":0,\"ticks\":\"\"},\"colorscale\":[[0.0,\"#0d0887\"],[0.1111111111111111,\"#46039f\"],[0.2222222222222222,\"#7201a8\"],[0.3333333333333333,\"#9c179e\"],[0.4444444444444444,\"#bd3786\"],[0.5555555555555556,\"#d8576b\"],[0.6666666666666666,\"#ed7953\"],[0.7777777777777778,\"#fb9f3a\"],[0.8888888888888888,\"#fdca26\"],[1.0,\"#f0f921\"]],\"type\":\"contour\"}],\"heatmapgl\":[{\"colorbar\":{\"outlinewidth\":0,\"ticks\":\"\"},\"colorscale\":[[0.0,\"#0d0887\"],[0.1111111111111111,\"#46039f\"],[0.2222222222222222,\"#7201a8\"],[0.3333333333333333,\"#9c179e\"],[0.4444444444444444,\"#bd3786\"],[0.5555555555555556,\"#d8576b\"],[0.6666666666666666,\"#ed7953\"],[0.7777777777777778,\"#fb9f3a\"],[0.8888888888888888,\"#fdca26\"],[1.0,\"#f0f921\"]],\"type\":\"heatmapgl\"}],\"heatmap\":[{\"colorbar\":{\"outlinewidth\":0,\"ticks\":\"\"},\"colorscale\":[[0.0,\"#0d0887\"],[0.1111111111111111,\"#46039f\"],[0.2222222222222222,\"#7201a8\"],[0.3333333333333333,\"#9c179e\"],[0.4444444444444444,\"#bd3786\"],[0.5555555555555556,\"#d8576b\"],[0.6666666666666666,\"#ed7953\"],[0.7777777777777778,\"#fb9f3a\"],[0.8888888888888888,\"#fdca26\"],[1.0,\"#f0f921\"]],\"type\":\"heatmap\"}],\"histogram2dcontour\":[{\"colorbar\":{\"outlinewidth\":0,\"ticks\":\"\"},\"colorscale\":[[0.0,\"#0d0887\"],[0.1111111111111111,\"#46039f\"],[0.2222222222222222,\"#7201a8\"],[0.3333333333333333,\"#9c179e\"],[0.4444444444444444,\"#bd3786\"],[0.5555555555555556,\"#d8576b\"],[0.6666666666666666,\"#ed7953\"],[0.7777777777777778,\"#fb9f3a\"],[0.8888888888888888,\"#fdca26\"],[1.0,\"#f0f921\"]],\"type\":\"histogram2dcontour\"}],\"histogram2d\":[{\"colorbar\":{\"outlinewidth\":0,\"ticks\":\"\"},\"colorscale\":[[0.0,\"#0d0887\"],[0.1111111111111111,\"#46039f\"],[0.2222222222222222,\"#7201a8\"],[0.3333333333333333,\"#9c179e\"],[0.4444444444444444,\"#bd3786\"],[0.5555555555555556,\"#d8576b\"],[0.6666666666666666,\"#ed7953\"],[0.7777777777777778,\"#fb9f3a\"],[0.8888888888888888,\"#fdca26\"],[1.0,\"#f0f921\"]],\"type\":\"histogram2d\"}],\"histogram\":[{\"marker\":{\"pattern\":{\"fillmode\":\"overlay\",\"size\":10,\"solidity\":0.2}},\"type\":\"histogram\"}],\"mesh3d\":[{\"colorbar\":{\"outlinewidth\":0,\"ticks\":\"\"},\"type\":\"mesh3d\"}],\"parcoords\":[{\"line\":{\"colorbar\":{\"outlinewidth\":0,\"ticks\":\"\"}},\"type\":\"parcoords\"}],\"pie\":[{\"automargin\":true,\"type\":\"pie\"}],\"scatter3d\":[{\"line\":{\"colorbar\":{\"outlinewidth\":0,\"ticks\":\"\"}},\"marker\":{\"colorbar\":{\"outlinewidth\":0,\"ticks\":\"\"}},\"type\":\"scatter3d\"}],\"scattercarpet\":[{\"marker\":{\"colorbar\":{\"outlinewidth\":0,\"ticks\":\"\"}},\"type\":\"scattercarpet\"}],\"scattergeo\":[{\"marker\":{\"colorbar\":{\"outlinewidth\":0,\"ticks\":\"\"}},\"type\":\"scattergeo\"}],\"scattergl\":[{\"marker\":{\"line\":{\"color\":\"#283442\"}},\"type\":\"scattergl\"}],\"scattermapbox\":[{\"marker\":{\"colorbar\":{\"outlinewidth\":0,\"ticks\":\"\"}},\"type\":\"scattermapbox\"}],\"scatterpolargl\":[{\"marker\":{\"colorbar\":{\"outlinewidth\":0,\"ticks\":\"\"}},\"type\":\"scatterpolargl\"}],\"scatterpolar\":[{\"marker\":{\"colorbar\":{\"outlinewidth\":0,\"ticks\":\"\"}},\"type\":\"scatterpolar\"}],\"scatter\":[{\"marker\":{\"line\":{\"color\":\"#283442\"}},\"type\":\"scatter\"}],\"scatterternary\":[{\"marker\":{\"colorbar\":{\"outlinewidth\":0,\"ticks\":\"\"}},\"type\":\"scatterternary\"}],\"surface\":[{\"colorbar\":{\"outlinewidth\":0,\"ticks\":\"\"},\"colorscale\":[[0.0,\"#0d0887\"],[0.1111111111111111,\"#46039f\"],[0.2222222222222222,\"#7201a8\"],[0.3333333333333333,\"#9c179e\"],[0.4444444444444444,\"#bd3786\"],[0.5555555555555556,\"#d8576b\"],[0.6666666666666666,\"#ed7953\"],[0.7777777777777778,\"#fb9f3a\"],[0.8888888888888888,\"#fdca26\"],[1.0,\"#f0f921\"]],\"type\":\"surface\"}],\"table\":[{\"cells\":{\"fill\":{\"color\":\"#506784\"},\"line\":{\"color\":\"rgb(17,17,17)\"}},\"header\":{\"fill\":{\"color\":\"#2a3f5f\"},\"line\":{\"color\":\"rgb(17,17,17)\"}},\"type\":\"table\"}]},\"layout\":{\"annotationdefaults\":{\"arrowcolor\":\"#f2f5fa\",\"arrowhead\":0,\"arrowwidth\":1},\"autotypenumbers\":\"strict\",\"coloraxis\":{\"colorbar\":{\"outlinewidth\":0,\"ticks\":\"\"}},\"colorscale\":{\"diverging\":[[0,\"#8e0152\"],[0.1,\"#c51b7d\"],[0.2,\"#de77ae\"],[0.3,\"#f1b6da\"],[0.4,\"#fde0ef\"],[0.5,\"#f7f7f7\"],[0.6,\"#e6f5d0\"],[0.7,\"#b8e186\"],[0.8,\"#7fbc41\"],[0.9,\"#4d9221\"],[1,\"#276419\"]],\"sequential\":[[0.0,\"#0d0887\"],[0.1111111111111111,\"#46039f\"],[0.2222222222222222,\"#7201a8\"],[0.3333333333333333,\"#9c179e\"],[0.4444444444444444,\"#bd3786\"],[0.5555555555555556,\"#d8576b\"],[0.6666666666666666,\"#ed7953\"],[0.7777777777777778,\"#fb9f3a\"],[0.8888888888888888,\"#fdca26\"],[1.0,\"#f0f921\"]],\"sequentialminus\":[[0.0,\"#0d0887\"],[0.1111111111111111,\"#46039f\"],[0.2222222222222222,\"#7201a8\"],[0.3333333333333333,\"#9c179e\"],[0.4444444444444444,\"#bd3786\"],[0.5555555555555556,\"#d8576b\"],[0.6666666666666666,\"#ed7953\"],[0.7777777777777778,\"#fb9f3a\"],[0.8888888888888888,\"#fdca26\"],[1.0,\"#f0f921\"]]},\"colorway\":[\"#636efa\",\"#EF553B\",\"#00cc96\",\"#ab63fa\",\"#FFA15A\",\"#19d3f3\",\"#FF6692\",\"#B6E880\",\"#FF97FF\",\"#FECB52\"],\"font\":{\"color\":\"#f2f5fa\"},\"geo\":{\"bgcolor\":\"rgb(17,17,17)\",\"lakecolor\":\"rgb(17,17,17)\",\"landcolor\":\"rgb(17,17,17)\",\"showlakes\":true,\"showland\":true,\"subunitcolor\":\"#506784\"},\"hoverlabel\":{\"align\":\"left\"},\"hovermode\":\"closest\",\"mapbox\":{\"style\":\"dark\"},\"paper_bgcolor\":\"rgb(17,17,17)\",\"plot_bgcolor\":\"rgb(17,17,17)\",\"polar\":{\"angularaxis\":{\"gridcolor\":\"#506784\",\"linecolor\":\"#506784\",\"ticks\":\"\"},\"bgcolor\":\"rgb(17,17,17)\",\"radialaxis\":{\"gridcolor\":\"#506784\",\"linecolor\":\"#506784\",\"ticks\":\"\"}},\"scene\":{\"xaxis\":{\"backgroundcolor\":\"rgb(17,17,17)\",\"gridcolor\":\"#506784\",\"gridwidth\":2,\"linecolor\":\"#506784\",\"showbackground\":true,\"ticks\":\"\",\"zerolinecolor\":\"#C8D4E3\"},\"yaxis\":{\"backgroundcolor\":\"rgb(17,17,17)\",\"gridcolor\":\"#506784\",\"gridwidth\":2,\"linecolor\":\"#506784\",\"showbackground\":true,\"ticks\":\"\",\"zerolinecolor\":\"#C8D4E3\"},\"zaxis\":{\"backgroundcolor\":\"rgb(17,17,17)\",\"gridcolor\":\"#506784\",\"gridwidth\":2,\"linecolor\":\"#506784\",\"showbackground\":true,\"ticks\":\"\",\"zerolinecolor\":\"#C8D4E3\"}},\"shapedefaults\":{\"line\":{\"color\":\"#f2f5fa\"}},\"sliderdefaults\":{\"bgcolor\":\"#C8D4E3\",\"bordercolor\":\"rgb(17,17,17)\",\"borderwidth\":1,\"tickwidth\":0},\"ternary\":{\"aaxis\":{\"gridcolor\":\"#506784\",\"linecolor\":\"#506784\",\"ticks\":\"\"},\"baxis\":{\"gridcolor\":\"#506784\",\"linecolor\":\"#506784\",\"ticks\":\"\"},\"bgcolor\":\"rgb(17,17,17)\",\"caxis\":{\"gridcolor\":\"#506784\",\"linecolor\":\"#506784\",\"ticks\":\"\"}},\"title\":{\"x\":0.05},\"updatemenudefaults\":{\"bgcolor\":\"#506784\",\"borderwidth\":0},\"xaxis\":{\"automargin\":true,\"gridcolor\":\"#283442\",\"linecolor\":\"#506784\",\"ticks\":\"\",\"title\":{\"standoff\":15},\"zerolinecolor\":\"#283442\",\"zerolinewidth\":2},\"yaxis\":{\"automargin\":true,\"gridcolor\":\"#283442\",\"linecolor\":\"#506784\",\"ticks\":\"\",\"title\":{\"standoff\":15},\"zerolinecolor\":\"#283442\",\"zerolinewidth\":2}}},\"xaxis\":{\"anchor\":\"y\",\"domain\":[0.0,1.0],\"title\":{\"text\":\"Number of models\"},\"tickmode\":\"array\",\"tickvals\":[1,2,3,4,5]},\"yaxis\":{\"anchor\":\"x\",\"domain\":[0.0,1.0],\"title\":{\"text\":\"rmse\"}},\"legend\":{\"tracegroupgap\":0},\"title\":{\"text\":\"Cross Validation rmse vs. Number of Models with Hill Climbing\"},\"autosize\":false,\"width\":900,\"height\":500},                        {\"responsive\": true}                    ).then(function(){\n",
       "                            \n",
       "var gd = document.getElementById('cec7ac2f-bc4e-468c-a2de-47f348a6a815');\n",
       "var x = new MutationObserver(function (mutations, observer) {{\n",
       "        var display = window.getComputedStyle(gd).display;\n",
       "        if (!display || display === 'none') {{\n",
       "            console.log([gd, 'removed!']);\n",
       "            Plotly.purge(gd);\n",
       "            observer.disconnect();\n",
       "        }}\n",
       "}});\n",
       "\n",
       "// Listen for the removal of the full notebook cells\n",
       "var notebookContainer = gd.closest('#notebook-container');\n",
       "if (notebookContainer) {{\n",
       "    x.observe(notebookContainer, {childList: true});\n",
       "}}\n",
       "\n",
       "// Listen for the clearing of the current output cell\n",
       "var outputEl = gd.closest('.output');\n",
       "if (outputEl) {{\n",
       "    x.observe(outputEl, {childList: true});\n",
       "}}\n",
       "\n",
       "                        })                };                });            </script>        </div>"
      ]
     },
     "metadata": {},
     "output_type": "display_data"
    }
   ],
   "source": [
    "hc_test_preds, hc_oof_preds = climb_hill(\n",
    "    train=train, \n",
    "    oof_pred_df=pd.DataFrame(oof_preds), \n",
    "    test_pred_df=pd.DataFrame(test_preds),\n",
    "    target=CFG.target,\n",
    "    objective='minimize', \n",
    "    eval_metric=partial(rmse),\n",
    "    negative_weights=True, \n",
    "    precision=0.001, \n",
    "    plot_hill=True, \n",
    "    plot_hist=False,\n",
    "    return_oof_preds=True\n",
    ")"
   ]
  },
  {
   "cell_type": "code",
   "execution_count": 35,
   "id": "2895701b",
   "metadata": {
    "execution": {
     "iopub.execute_input": "2024-09-24T09:07:48.573619Z",
     "iopub.status.busy": "2024-09-24T09:07:48.573147Z",
     "iopub.status.idle": "2024-09-24T09:07:48.580535Z",
     "shell.execute_reply": "2024-09-24T09:07:48.579528Z"
    },
    "papermill": {
     "duration": 0.059184,
     "end_time": "2024-09-24T09:07:48.582866",
     "exception": false,
     "start_time": "2024-09-24T09:07:48.523682",
     "status": "completed"
    },
    "tags": []
   },
   "outputs": [],
   "source": [
    "hc_score = mean_squared_error(hc_oof_preds, y, squared=False)\n",
    "scores['Hill Climbing'] = [hc_score] * CFG.n_folds"
   ]
  },
  {
   "cell_type": "code",
   "execution_count": 36,
   "id": "4827946d",
   "metadata": {
    "execution": {
     "iopub.execute_input": "2024-09-24T09:07:48.686502Z",
     "iopub.status.busy": "2024-09-24T09:07:48.685415Z",
     "iopub.status.idle": "2024-09-24T09:07:48.886683Z",
     "shell.execute_reply": "2024-09-24T09:07:48.885334Z"
    },
    "papermill": {
     "duration": 0.257715,
     "end_time": "2024-09-24T09:07:48.889304",
     "exception": false,
     "start_time": "2024-09-24T09:07:48.631589",
     "status": "completed"
    },
    "tags": []
   },
   "outputs": [
    {
     "data": {
      "text/html": [
       "<div>\n",
       "<style scoped>\n",
       "    .dataframe tbody tr th:only-of-type {\n",
       "        vertical-align: middle;\n",
       "    }\n",
       "\n",
       "    .dataframe tbody tr th {\n",
       "        vertical-align: top;\n",
       "    }\n",
       "\n",
       "    .dataframe thead th {\n",
       "        text-align: right;\n",
       "    }\n",
       "</style>\n",
       "<table border=\"1\" class=\"dataframe\">\n",
       "  <thead>\n",
       "    <tr style=\"text-align: right;\">\n",
       "      <th></th>\n",
       "      <th>id</th>\n",
       "      <th>price</th>\n",
       "    </tr>\n",
       "  </thead>\n",
       "  <tbody>\n",
       "    <tr>\n",
       "      <th>0</th>\n",
       "      <td>188533</td>\n",
       "      <td>16944.951172</td>\n",
       "    </tr>\n",
       "    <tr>\n",
       "      <th>1</th>\n",
       "      <td>188534</td>\n",
       "      <td>80988.296875</td>\n",
       "    </tr>\n",
       "    <tr>\n",
       "      <th>2</th>\n",
       "      <td>188535</td>\n",
       "      <td>53472.863281</td>\n",
       "    </tr>\n",
       "    <tr>\n",
       "      <th>3</th>\n",
       "      <td>188536</td>\n",
       "      <td>25664.400391</td>\n",
       "    </tr>\n",
       "    <tr>\n",
       "      <th>4</th>\n",
       "      <td>188537</td>\n",
       "      <td>29486.519531</td>\n",
       "    </tr>\n",
       "  </tbody>\n",
       "</table>\n",
       "</div>"
      ],
      "text/plain": [
       "       id         price\n",
       "0  188533  16944.951172\n",
       "1  188534  80988.296875\n",
       "2  188535  53472.863281\n",
       "3  188536  25664.400391\n",
       "4  188537  29486.519531"
      ]
     },
     "execution_count": 36,
     "metadata": {},
     "output_type": "execute_result"
    }
   ],
   "source": [
    "save_submission(hc_test_preds, 'hill-climbing', hc_score).head()"
   ]
  },
  {
   "cell_type": "markdown",
   "id": "e0039f34",
   "metadata": {
    "papermill": {
     "duration": 0.048121,
     "end_time": "2024-09-24T09:07:48.987161",
     "exception": false,
     "start_time": "2024-09-24T09:07:48.939040",
     "status": "completed"
    },
    "tags": []
   },
   "source": [
    "## Voting\n",
    "\n",
    "The methods shown previously all use OOF predictions and are generally faster ways to ensemble. Voting, however, re-fits each model that it is given from scratch. The regression version of the voting model averages the predictions from the base models. It can also accept a list of weights and compute the weighted average. It is not very different from the simple averaging model shown earlier."
   ]
  },
  {
   "cell_type": "code",
   "execution_count": 37,
   "id": "8b1cd187",
   "metadata": {
    "execution": {
     "iopub.execute_input": "2024-09-24T09:07:49.085773Z",
     "iopub.status.busy": "2024-09-24T09:07:49.085292Z",
     "iopub.status.idle": "2024-09-24T09:07:49.092070Z",
     "shell.execute_reply": "2024-09-24T09:07:49.090667Z"
    },
    "papermill": {
     "duration": 0.05836,
     "end_time": "2024-09-24T09:07:49.094514",
     "exception": false,
     "start_time": "2024-09-24T09:07:49.036154",
     "status": "completed"
    },
    "tags": []
   },
   "outputs": [],
   "source": [
    "estimators = [\n",
    "    ('LightGBM',           LGBMRegressor(**lgbm_params)),\n",
    "    ('XGBoost',            XGBRegressor(**xgb_params)),\n",
    "    ('CatBoost',           CatBoostRegressor(**cb_params)),\n",
    "    ('HistGB',             HistGradientBoostingRegressor(**hgb_params)),\n",
    "    ('GradientBoosting',   GradientBoostingRegressor(**gb_params))\n",
    "]"
   ]
  },
  {
   "cell_type": "code",
   "execution_count": 38,
   "id": "c919df39",
   "metadata": {
    "execution": {
     "iopub.execute_input": "2024-09-24T09:07:49.197763Z",
     "iopub.status.busy": "2024-09-24T09:07:49.197299Z",
     "iopub.status.idle": "2024-09-24T09:57:27.674772Z",
     "shell.execute_reply": "2024-09-24T09:57:27.673624Z"
    },
    "papermill": {
     "duration": 2978.585371,
     "end_time": "2024-09-24T09:57:27.729987",
     "exception": false,
     "start_time": "2024-09-24T09:07:49.144616",
     "status": "completed"
    },
    "tags": []
   },
   "outputs": [
    {
     "name": "stdout",
     "output_type": "stream",
     "text": [
      "Training VotingRegressor\n",
      "\n",
      "--- Fold 1 - RMSE: 71766\n",
      "--- Fold 2 - RMSE: 73151\n",
      "--- Fold 3 - RMSE: 72619\n",
      "--- Fold 4 - RMSE: 72016\n",
      "--- Fold 5 - RMSE: 73372\n",
      "\n",
      "Overall RMSE: 72587 ± 622\n"
     ]
    }
   ],
   "source": [
    "voting_model = VotingRegressor(estimators=estimators)\n",
    "voting_trainer = Trainer(voting_model, CFG)\n",
    "_, voting_test_preds, scores['Voting'] = voting_trainer.fit_predict(X, y, X_test)"
   ]
  },
  {
   "cell_type": "code",
   "execution_count": 39,
   "id": "e2c32f55",
   "metadata": {
    "execution": {
     "iopub.execute_input": "2024-09-24T09:57:27.831827Z",
     "iopub.status.busy": "2024-09-24T09:57:27.831023Z",
     "iopub.status.idle": "2024-09-24T09:57:28.046072Z",
     "shell.execute_reply": "2024-09-24T09:57:28.045068Z"
    },
    "papermill": {
     "duration": 0.269876,
     "end_time": "2024-09-24T09:57:28.048430",
     "exception": false,
     "start_time": "2024-09-24T09:57:27.778554",
     "status": "completed"
    },
    "tags": []
   },
   "outputs": [
    {
     "data": {
      "text/html": [
       "<div>\n",
       "<style scoped>\n",
       "    .dataframe tbody tr th:only-of-type {\n",
       "        vertical-align: middle;\n",
       "    }\n",
       "\n",
       "    .dataframe tbody tr th {\n",
       "        vertical-align: top;\n",
       "    }\n",
       "\n",
       "    .dataframe thead th {\n",
       "        text-align: right;\n",
       "    }\n",
       "</style>\n",
       "<table border=\"1\" class=\"dataframe\">\n",
       "  <thead>\n",
       "    <tr style=\"text-align: right;\">\n",
       "      <th></th>\n",
       "      <th>id</th>\n",
       "      <th>price</th>\n",
       "    </tr>\n",
       "  </thead>\n",
       "  <tbody>\n",
       "    <tr>\n",
       "      <th>0</th>\n",
       "      <td>188533</td>\n",
       "      <td>16876.591797</td>\n",
       "    </tr>\n",
       "    <tr>\n",
       "      <th>1</th>\n",
       "      <td>188534</td>\n",
       "      <td>80475.312500</td>\n",
       "    </tr>\n",
       "    <tr>\n",
       "      <th>2</th>\n",
       "      <td>188535</td>\n",
       "      <td>52891.406250</td>\n",
       "    </tr>\n",
       "    <tr>\n",
       "      <th>3</th>\n",
       "      <td>188536</td>\n",
       "      <td>25169.015625</td>\n",
       "    </tr>\n",
       "    <tr>\n",
       "      <th>4</th>\n",
       "      <td>188537</td>\n",
       "      <td>29746.281250</td>\n",
       "    </tr>\n",
       "  </tbody>\n",
       "</table>\n",
       "</div>"
      ],
      "text/plain": [
       "       id         price\n",
       "0  188533  16876.591797\n",
       "1  188534  80475.312500\n",
       "2  188535  52891.406250\n",
       "3  188536  25169.015625\n",
       "4  188537  29746.281250"
      ]
     },
     "execution_count": 39,
     "metadata": {},
     "output_type": "execute_result"
    }
   ],
   "source": [
    "save_submission(voting_test_preds, 'voting', np.mean(scores['Voting'])).head()"
   ]
  },
  {
   "cell_type": "code",
   "execution_count": 40,
   "id": "52204ecf",
   "metadata": {
    "execution": {
     "iopub.execute_input": "2024-09-24T09:57:28.148412Z",
     "iopub.status.busy": "2024-09-24T09:57:28.148035Z",
     "iopub.status.idle": "2024-09-24T10:47:03.352076Z",
     "shell.execute_reply": "2024-09-24T10:47:03.350892Z"
    },
    "papermill": {
     "duration": 2975.307436,
     "end_time": "2024-09-24T10:47:03.405437",
     "exception": false,
     "start_time": "2024-09-24T09:57:28.098001",
     "status": "completed"
    },
    "tags": []
   },
   "outputs": [
    {
     "name": "stdout",
     "output_type": "stream",
     "text": [
      "Training VotingRegressor\n",
      "\n",
      "--- Fold 1 - RMSE: 71766\n",
      "--- Fold 2 - RMSE: 73144\n",
      "--- Fold 3 - RMSE: 72605\n",
      "--- Fold 4 - RMSE: 72014\n",
      "--- Fold 5 - RMSE: 73336\n",
      "\n",
      "Overall RMSE: 72576 ± 612\n"
     ]
    }
   ],
   "source": [
    "weighted_voting_model = VotingRegressor(estimators=estimators, weights=best_weights)\n",
    "weighted_voting_trainer = Trainer(weighted_voting_model, CFG)\n",
    "_, weighted_voting_test_preds, scores['Weighted Voting'] = weighted_voting_trainer.fit_predict(X, y, X_test)"
   ]
  },
  {
   "cell_type": "code",
   "execution_count": 41,
   "id": "141d13c1",
   "metadata": {
    "execution": {
     "iopub.execute_input": "2024-09-24T10:47:03.510189Z",
     "iopub.status.busy": "2024-09-24T10:47:03.509748Z",
     "iopub.status.idle": "2024-09-24T10:47:03.734293Z",
     "shell.execute_reply": "2024-09-24T10:47:03.733156Z"
    },
    "papermill": {
     "duration": 0.281291,
     "end_time": "2024-09-24T10:47:03.736745",
     "exception": false,
     "start_time": "2024-09-24T10:47:03.455454",
     "status": "completed"
    },
    "tags": []
   },
   "outputs": [
    {
     "data": {
      "text/html": [
       "<div>\n",
       "<style scoped>\n",
       "    .dataframe tbody tr th:only-of-type {\n",
       "        vertical-align: middle;\n",
       "    }\n",
       "\n",
       "    .dataframe tbody tr th {\n",
       "        vertical-align: top;\n",
       "    }\n",
       "\n",
       "    .dataframe thead th {\n",
       "        text-align: right;\n",
       "    }\n",
       "</style>\n",
       "<table border=\"1\" class=\"dataframe\">\n",
       "  <thead>\n",
       "    <tr style=\"text-align: right;\">\n",
       "      <th></th>\n",
       "      <th>id</th>\n",
       "      <th>price</th>\n",
       "    </tr>\n",
       "  </thead>\n",
       "  <tbody>\n",
       "    <tr>\n",
       "      <th>0</th>\n",
       "      <td>188533</td>\n",
       "      <td>17002.015625</td>\n",
       "    </tr>\n",
       "    <tr>\n",
       "      <th>1</th>\n",
       "      <td>188534</td>\n",
       "      <td>81096.015625</td>\n",
       "    </tr>\n",
       "    <tr>\n",
       "      <th>2</th>\n",
       "      <td>188535</td>\n",
       "      <td>53743.078125</td>\n",
       "    </tr>\n",
       "    <tr>\n",
       "      <th>3</th>\n",
       "      <td>188536</td>\n",
       "      <td>25054.091797</td>\n",
       "    </tr>\n",
       "    <tr>\n",
       "      <th>4</th>\n",
       "      <td>188537</td>\n",
       "      <td>29610.759766</td>\n",
       "    </tr>\n",
       "  </tbody>\n",
       "</table>\n",
       "</div>"
      ],
      "text/plain": [
       "       id         price\n",
       "0  188533  17002.015625\n",
       "1  188534  81096.015625\n",
       "2  188535  53743.078125\n",
       "3  188536  25054.091797\n",
       "4  188537  29610.759766"
      ]
     },
     "execution_count": 41,
     "metadata": {},
     "output_type": "execute_result"
    }
   ],
   "source": [
    "save_submission(weighted_voting_test_preds, 'weighted-voting', np.mean(scores['Weighted Voting'])).head()"
   ]
  },
  {
   "cell_type": "markdown",
   "id": "97281bd6",
   "metadata": {
    "papermill": {
     "duration": 0.052049,
     "end_time": "2024-09-24T10:47:03.838174",
     "exception": false,
     "start_time": "2024-09-24T10:47:03.786125",
     "status": "completed"
    },
    "tags": []
   },
   "source": [
    "## Stacking\n",
    "\n",
    "Similar to a voting model, a stacking model re-fits a list of models from scratch, and ensembles their predictions. However, unlike voting, it is more complex and uses a meta-model to learn the best combination of the features instead of simply averaging the predictions. Under the hood, it uses `RidgeCV` to ensemble predictions of the base models, however, its meta-model is configurable and can be changed. Here, I will just leave it with the default parameters."
   ]
  },
  {
   "cell_type": "code",
   "execution_count": 42,
   "id": "0f4b5423",
   "metadata": {
    "execution": {
     "iopub.execute_input": "2024-09-24T10:47:03.939954Z",
     "iopub.status.busy": "2024-09-24T10:47:03.939556Z",
     "iopub.status.idle": "2024-09-24T14:38:11.103028Z",
     "shell.execute_reply": "2024-09-24T14:38:11.102141Z"
    },
    "papermill": {
     "duration": 13867.26429,
     "end_time": "2024-09-24T14:38:11.154037",
     "exception": false,
     "start_time": "2024-09-24T10:47:03.889747",
     "status": "completed"
    },
    "tags": []
   },
   "outputs": [
    {
     "name": "stdout",
     "output_type": "stream",
     "text": [
      "Training StackingRegressor\n",
      "\n",
      "--- Fold 1 - RMSE: 71789\n",
      "--- Fold 2 - RMSE: 73162\n",
      "--- Fold 3 - RMSE: 72613\n",
      "--- Fold 4 - RMSE: 72034\n",
      "--- Fold 5 - RMSE: 73359\n",
      "\n",
      "Overall RMSE: 72594 ± 612\n"
     ]
    }
   ],
   "source": [
    "stacking_model = StackingRegressor(estimators=estimators)\n",
    "stacking_trainer = Trainer(stacking_model, CFG)\n",
    "_, stacking_test_preds, scores['Stacking'] = stacking_trainer.fit_predict(X, y, X_test)"
   ]
  },
  {
   "cell_type": "code",
   "execution_count": 43,
   "id": "3ffe66d1",
   "metadata": {
    "execution": {
     "iopub.execute_input": "2024-09-24T14:38:11.252953Z",
     "iopub.status.busy": "2024-09-24T14:38:11.252565Z",
     "iopub.status.idle": "2024-09-24T14:38:11.444807Z",
     "shell.execute_reply": "2024-09-24T14:38:11.443838Z"
    },
    "papermill": {
     "duration": 0.244018,
     "end_time": "2024-09-24T14:38:11.446942",
     "exception": false,
     "start_time": "2024-09-24T14:38:11.202924",
     "status": "completed"
    },
    "tags": []
   },
   "outputs": [
    {
     "data": {
      "text/html": [
       "<div>\n",
       "<style scoped>\n",
       "    .dataframe tbody tr th:only-of-type {\n",
       "        vertical-align: middle;\n",
       "    }\n",
       "\n",
       "    .dataframe tbody tr th {\n",
       "        vertical-align: top;\n",
       "    }\n",
       "\n",
       "    .dataframe thead th {\n",
       "        text-align: right;\n",
       "    }\n",
       "</style>\n",
       "<table border=\"1\" class=\"dataframe\">\n",
       "  <thead>\n",
       "    <tr style=\"text-align: right;\">\n",
       "      <th></th>\n",
       "      <th>id</th>\n",
       "      <th>price</th>\n",
       "    </tr>\n",
       "  </thead>\n",
       "  <tbody>\n",
       "    <tr>\n",
       "      <th>0</th>\n",
       "      <td>188533</td>\n",
       "      <td>16513.083984</td>\n",
       "    </tr>\n",
       "    <tr>\n",
       "      <th>1</th>\n",
       "      <td>188534</td>\n",
       "      <td>80464.531250</td>\n",
       "    </tr>\n",
       "    <tr>\n",
       "      <th>2</th>\n",
       "      <td>188535</td>\n",
       "      <td>53014.531250</td>\n",
       "    </tr>\n",
       "    <tr>\n",
       "      <th>3</th>\n",
       "      <td>188536</td>\n",
       "      <td>26012.148438</td>\n",
       "    </tr>\n",
       "    <tr>\n",
       "      <th>4</th>\n",
       "      <td>188537</td>\n",
       "      <td>29170.062500</td>\n",
       "    </tr>\n",
       "  </tbody>\n",
       "</table>\n",
       "</div>"
      ],
      "text/plain": [
       "       id         price\n",
       "0  188533  16513.083984\n",
       "1  188534  80464.531250\n",
       "2  188535  53014.531250\n",
       "3  188536  26012.148438\n",
       "4  188537  29170.062500"
      ]
     },
     "execution_count": 43,
     "metadata": {},
     "output_type": "execute_result"
    }
   ],
   "source": [
    "save_submission(stacking_test_preds, 'stacking', np.mean(scores['Stacking'])).head()"
   ]
  },
  {
   "cell_type": "markdown",
   "id": "9e246658",
   "metadata": {
    "papermill": {
     "duration": 0.047721,
     "end_time": "2024-09-24T14:38:11.544453",
     "exception": false,
     "start_time": "2024-09-24T14:38:11.496732",
     "status": "completed"
    },
    "tags": []
   },
   "source": [
    "# Results"
   ]
  },
  {
   "cell_type": "markdown",
   "id": "0839ad99",
   "metadata": {
    "papermill": {
     "duration": 0.048069,
     "end_time": "2024-09-24T14:38:11.640620",
     "exception": false,
     "start_time": "2024-09-24T14:38:11.592551",
     "status": "completed"
    },
    "tags": []
   },
   "source": [
    "We can see that all of the ensemble models achieve better scores than the individual models. The difference is not much, but it is enough to give you an edge in the competition. The results also show that some ensembling methods work better than others. There are no general rules for what works best. One has to experiment with different methods and choose an ensembling technique that suits a particular usecase."
   ]
  },
  {
   "cell_type": "code",
   "execution_count": 44,
   "id": "4d539556",
   "metadata": {
    "execution": {
     "iopub.execute_input": "2024-09-24T14:38:11.741381Z",
     "iopub.status.busy": "2024-09-24T14:38:11.740541Z",
     "iopub.status.idle": "2024-09-24T14:38:12.539426Z",
     "shell.execute_reply": "2024-09-24T14:38:12.538349Z"
    },
    "papermill": {
     "duration": 0.854114,
     "end_time": "2024-09-24T14:38:12.543159",
     "exception": false,
     "start_time": "2024-09-24T14:38:11.689045",
     "status": "completed"
    },
    "tags": []
   },
   "outputs": [
    {
     "data": {
      "image/png": "[encoded data removed]",
      "text/plain": [
       "<Figure size 1500x500 with 2 Axes>"
      ]
     },
     "metadata": {},
     "output_type": "display_data"
    }
   ],
   "source": [
    "scores = pd.DataFrame(scores)\n",
    "mean_scores = scores.mean().sort_values(ascending=True)\n",
    "order = scores.mean().sort_values(ascending=True).index.tolist()\n",
    "\n",
    "min_score = mean_scores.min()\n",
    "max_score = mean_scores.max()\n",
    "padding = (max_score - min_score) * 0.5\n",
    "lower_limit = min_score - padding\n",
    "upper_limit = max_score + padding\n",
    "\n",
    "fig, axs = plt.subplots(1, 2, figsize=(15, 5))\n",
    "\n",
    "sns.boxplot(data=scores, order=order, ax=axs[0], orient='h', palette=\"RdYlGn_r\")\n",
    "axs[0].set_title('Fold RMSE')\n",
    "axs[0].set_xlabel('')\n",
    "axs[0].set_ylabel('')\n",
    "\n",
    "barplot = sns.barplot(x=mean_scores.values, y=mean_scores.index, ax=axs[1], palette=\"RdYlGn_r\")\n",
    "axs[1].set_title('Average RMSE')\n",
    "axs[1].set_xlabel('')\n",
    "axs[1].set_xlim(left=lower_limit, right=upper_limit)\n",
    "axs[1].set_ylabel('')\n",
    "\n",
    "for i, score in enumerate(mean_scores.values):\n",
    "    barplot.text(score, i, round(score, 2), va='center')\n",
    "\n",
    "plt.tight_layout()\n",
    "plt.show()"
   ]
  },
  {
   "cell_type": "code",
   "execution_count": 45,
   "id": "cdf1168d",
   "metadata": {
    "execution": {
     "iopub.execute_input": "2024-09-24T14:38:12.651129Z",
     "iopub.status.busy": "2024-09-24T14:38:12.650755Z",
     "iopub.status.idle": "2024-09-24T14:38:12.664346Z",
     "shell.execute_reply": "2024-09-24T14:38:12.663246Z"
    },
    "papermill": {
     "duration": 0.069111,
     "end_time": "2024-09-24T14:38:12.667606",
     "exception": false,
     "start_time": "2024-09-24T14:38:12.598495",
     "status": "completed"
    },
    "tags": []
   },
   "outputs": [],
   "source": [
    "shutil.rmtree('catboost_info')"
   ]
  }
 ],
 "metadata": {
  "kaggle": {
   "accelerator": "none",
   "dataSources": [
    {
     "databundleVersionId": 9057646,
     "sourceId": 76728,
     "sourceType": "competition"
    }
   ],
   "dockerImageVersionId": 30761,
   "isGpuEnabled": false,
   "isInternetEnabled": true,
   "language": "python",
   "sourceType": "notebook"
  },
  "kernelspec": {
   "display_name": "Python 3",
   "language": "python",
   "name": "python3"
  },
  "language_info": {
   "codemirror_mode": {
    "name": "ipython",
    "version": 3
   },
   "file_extension": ".py",
   "mimetype": "text/x-python",
   "name": "python",
   "nbconvert_exporter": "python",
   "pygments_lexer": "ipython3",
   "version": "3.10.14"
  },
  "papermill": {
   "default_parameters": {},
   "duration": 23037.869955,
   "end_time": "2024-09-24T14:38:13.850979",
   "environment_variables": {},
   "exception": null,
   "input_path": "__notebook__.ipynb",
   "output_path": "__notebook__.ipynb",
   "parameters": {},
   "start_time": "2024-09-24T08:14:15.981024",
   "version": "2.6.0"
  }
 },
 "nbformat": 4,
 "nbformat_minor": 5
}
