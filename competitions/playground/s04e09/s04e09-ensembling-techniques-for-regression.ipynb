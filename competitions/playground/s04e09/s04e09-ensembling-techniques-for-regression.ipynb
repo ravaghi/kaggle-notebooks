{
 "cells": [
  {
   "cell_type": "markdown",
   "id": "70857e05",
   "metadata": {
    "papermill": {
     "duration": 0.019631,
     "end_time": "2024-09-17T06:27:42.751417",
     "exception": false,
     "start_time": "2024-09-17T06:27:42.731786",
     "status": "completed"
    },
    "tags": []
   },
   "source": [
    "# Introduction\n",
    "\n",
    "Ensembling is a commonly used technique in Kaggle competitions to combine predictions of multiple models and get stronger predictions that hopefully achieve better score on the leaderboard. The idea is that combining different models with varying strengths and weaknesses can lead to better generalization on unseen data. There are various approaches to ensembling. In this notebook, we will explore a few of these approaches and evaluate their effectiveness in a regression task, and see how they compare to each other. While the focus in this notebook is on regression, with small adjustments, many of the techniques discussed here can be easily adapted for classification problems."
   ]
  },
  {
   "cell_type": "markdown",
   "id": "eaca6d8f",
   "metadata": {
    "papermill": {
     "duration": 0.016937,
     "end_time": "2024-09-17T06:27:42.785684",
     "exception": false,
     "start_time": "2024-09-17T06:27:42.768747",
     "status": "completed"
    },
    "tags": []
   },
   "source": [
    "# Imports and configs"
   ]
  },
  {
   "cell_type": "code",
   "execution_count": 1,
   "id": "0b7dbceb",
   "metadata": {
    "_kg_hide-output": true,
    "execution": {
     "iopub.execute_input": "2024-09-17T06:27:42.822341Z",
     "iopub.status.busy": "2024-09-17T06:27:42.821748Z",
     "iopub.status.idle": "2024-09-17T06:28:03.167531Z",
     "shell.execute_reply": "2024-09-17T06:28:03.166017Z"
    },
    "papermill": {
     "duration": 20.367603,
     "end_time": "2024-09-17T06:28:03.170452",
     "exception": false,
     "start_time": "2024-09-17T06:27:42.802849",
     "status": "completed"
    },
    "tags": []
   },
   "outputs": [],
   "source": [
    "!pip install -q hillclimbers"
   ]
  },
  {
   "cell_type": "code",
   "execution_count": 2,
   "id": "fa674b93",
   "metadata": {
    "_cell_guid": "b1076dfc-b9ad-4769-8c92-a6c4dae69d19",
    "_uuid": "8f2839f25d086af736a60e9eeb907d3b93b6e0e5",
    "execution": {
     "iopub.execute_input": "2024-09-17T06:28:03.207385Z",
     "iopub.status.busy": "2024-09-17T06:28:03.206890Z",
     "iopub.status.idle": "2024-09-17T06:28:08.617573Z",
     "shell.execute_reply": "2024-09-17T06:28:08.616489Z"
    },
    "papermill": {
     "duration": 5.433127,
     "end_time": "2024-09-17T06:28:08.620967",
     "exception": false,
     "start_time": "2024-09-17T06:28:03.187840",
     "status": "completed"
    },
    "tags": []
   },
   "outputs": [],
   "source": [
    "from sklearn.ensemble import HistGradientBoostingRegressor, VotingRegressor, StackingRegressor, GradientBoostingRegressor\n",
    "from sklearn.feature_selection import mutual_info_regression\n",
    "from sklearn.preprocessing import MinMaxScaler, OrdinalEncoder\n",
    "from sklearn.metrics import mean_squared_error\n",
    "from sklearn.linear_model import Ridge, Lasso\n",
    "from sklearn.model_selection import KFold\n",
    "from sklearn.base import clone\n",
    "from hillclimbers import climb_hill, partial\n",
    "from xgboost import XGBRegressor\n",
    "from catboost import CatBoostRegressor\n",
    "from lightgbm import LGBMRegressor\n",
    "import matplotlib.pyplot as plt\n",
    "import seaborn as sns\n",
    "import pandas as pd\n",
    "import numpy as np\n",
    "import warnings\n",
    "import optuna\n",
    "import shutil\n",
    "import pickle\n",
    "import gc\n",
    "import os\n",
    "\n",
    "warnings.filterwarnings('ignore')"
   ]
  },
  {
   "cell_type": "code",
   "execution_count": 3,
   "id": "eaa1c52d",
   "metadata": {
    "execution": {
     "iopub.execute_input": "2024-09-17T06:28:08.667425Z",
     "iopub.status.busy": "2024-09-17T06:28:08.666520Z",
     "iopub.status.idle": "2024-09-17T06:28:08.674098Z",
     "shell.execute_reply": "2024-09-17T06:28:08.672639Z"
    },
    "papermill": {
     "duration": 0.029717,
     "end_time": "2024-09-17T06:28:08.676660",
     "exception": false,
     "start_time": "2024-09-17T06:28:08.646943",
     "status": "completed"
    },
    "tags": []
   },
   "outputs": [],
   "source": [
    "class CFG:\n",
    "    train_path = '/kaggle/input/playground-series-s4e9/train.csv'\n",
    "    test_path = '/kaggle/input/playground-series-s4e9/test.csv'\n",
    "    sample_sub_path = '/kaggle/input/playground-series-s4e9/sample_submission.csv'\n",
    "\n",
    "    target = 'price'\n",
    "    n_folds = 5\n",
    "    seed = 228"
   ]
  },
  {
   "cell_type": "markdown",
   "id": "36050389",
   "metadata": {
    "papermill": {
     "duration": 0.017102,
     "end_time": "2024-09-17T06:28:08.711480",
     "exception": false,
     "start_time": "2024-09-17T06:28:08.694378",
     "status": "completed"
    },
    "tags": []
   },
   "source": [
    "# Data preprocessing\n",
    "\n",
    "The dataset in this competition contains only two numerical features: `model_year` and `mileage`. The rest are categorical and need to be processed accordingly. Additionally, three of the categorical columns—`fuel_type`, `clean_title`, and `accident`—contain missing values and need to be handled for models that can't deal with missing values on their own. \n",
    "\n",
    "I will not add any new features even though there are columns such as `engine` that contain a lot of information about the car. This is due to the synthetic nature of the dataset, which contains noise, and engineering new features often just adds to this noise."
   ]
  },
  {
   "cell_type": "code",
   "execution_count": 4,
   "id": "eb2f943f",
   "metadata": {
    "execution": {
     "iopub.execute_input": "2024-09-17T06:28:08.748282Z",
     "iopub.status.busy": "2024-09-17T06:28:08.747710Z",
     "iopub.status.idle": "2024-09-17T06:28:10.552141Z",
     "shell.execute_reply": "2024-09-17T06:28:10.550805Z"
    },
    "papermill": {
     "duration": 1.82649,
     "end_time": "2024-09-17T06:28:10.555209",
     "exception": false,
     "start_time": "2024-09-17T06:28:08.728719",
     "status": "completed"
    },
    "tags": []
   },
   "outputs": [],
   "source": [
    "train = pd.read_csv(CFG.train_path, index_col='id')\n",
    "test = pd.read_csv(CFG.test_path, index_col='id')"
   ]
  },
  {
   "cell_type": "code",
   "execution_count": 5,
   "id": "2f432296",
   "metadata": {
    "execution": {
     "iopub.execute_input": "2024-09-17T06:28:10.593308Z",
     "iopub.status.busy": "2024-09-17T06:28:10.592815Z",
     "iopub.status.idle": "2024-09-17T06:28:10.603904Z",
     "shell.execute_reply": "2024-09-17T06:28:10.602323Z"
    },
    "papermill": {
     "duration": 0.033942,
     "end_time": "2024-09-17T06:28:10.606793",
     "exception": false,
     "start_time": "2024-09-17T06:28:10.572851",
     "status": "completed"
    },
    "tags": []
   },
   "outputs": [],
   "source": [
    "def get_data(impute=False, encode=False):\n",
    "    train = pd.read_csv(CFG.train_path, index_col='id')\n",
    "    test = pd.read_csv(CFG.test_path, index_col='id')\n",
    "\n",
    "    cat_cols = train.select_dtypes(include=['object']).columns.tolist()\n",
    "    \n",
    "    for col in cat_cols:\n",
    "        if impute:\n",
    "            train[col].fillna('missing', inplace=True)\n",
    "            test[col].fillna('missing', inplace=True)\n",
    "        \n",
    "        train[col] = train[col].astype('category')\n",
    "        test[col] = test[col].astype('category')\n",
    "        \n",
    "    if encode:\n",
    "        encoder = OrdinalEncoder(handle_unknown='use_encoded_value', unknown_value=-1)\n",
    "        train[cat_cols] = encoder.fit_transform(train[cat_cols])\n",
    "        test[cat_cols] = encoder.transform(test[cat_cols])\n",
    "        \n",
    "    X = train.drop(CFG.target, axis=1)\n",
    "    y = train[CFG.target]\n",
    "    X_test = test.copy()\n",
    "    \n",
    "    return X, y, X_test, cat_cols"
   ]
  },
  {
   "cell_type": "markdown",
   "id": "c0b76bb2",
   "metadata": {
    "papermill": {
     "duration": 0.017164,
     "end_time": "2024-09-17T06:28:10.641241",
     "exception": false,
     "start_time": "2024-09-17T06:28:10.624077",
     "status": "completed"
    },
    "tags": []
   },
   "source": [
    "Here, we can see that all features are usefull, thus there is no need to eliminate any of the features."
   ]
  },
  {
   "cell_type": "code",
   "execution_count": 6,
   "id": "b46d6c16",
   "metadata": {
    "execution": {
     "iopub.execute_input": "2024-09-17T06:28:10.677775Z",
     "iopub.status.busy": "2024-09-17T06:28:10.677324Z",
     "iopub.status.idle": "2024-09-17T06:28:35.165987Z",
     "shell.execute_reply": "2024-09-17T06:28:35.164758Z"
    },
    "papermill": {
     "duration": 24.510157,
     "end_time": "2024-09-17T06:28:35.168665",
     "exception": false,
     "start_time": "2024-09-17T06:28:10.658508",
     "status": "completed"
    },
    "tags": []
   },
   "outputs": [
    {
     "data": {
      "text/html": [
       "<style type=\"text/css\">\n",
       "#T_6cc12_row0_col0 {\n",
       "  width: 10em;\n",
       "  background: linear-gradient(90deg, #006837 100.0%, transparent 100.0%);\n",
       "}\n",
       "#T_6cc12_row1_col0 {\n",
       "  width: 10em;\n",
       "  background: linear-gradient(90deg, #148e4b 92.1%, transparent 92.1%);\n",
       "}\n",
       "#T_6cc12_row2_col0 {\n",
       "  width: 10em;\n",
       "  background: linear-gradient(90deg, #51b35e 82.6%, transparent 82.6%);\n",
       "}\n",
       "#T_6cc12_row3_col0 {\n",
       "  width: 10em;\n",
       "  background: linear-gradient(90deg, #b3df72 67.3%, transparent 67.3%);\n",
       "}\n",
       "#T_6cc12_row4_col0 {\n",
       "  width: 10em;\n",
       "  background: linear-gradient(90deg, #c5e67e 63.9%, transparent 63.9%);\n",
       "}\n",
       "#T_6cc12_row5_col0 {\n",
       "  width: 10em;\n",
       "  background: linear-gradient(90deg, #f88950 24.4%, transparent 24.4%);\n",
       "}\n",
       "#T_6cc12_row6_col0 {\n",
       "  width: 10em;\n",
       "  background: linear-gradient(90deg, #f67f4b 22.7%, transparent 22.7%);\n",
       "}\n",
       "#T_6cc12_row7_col0 {\n",
       "  width: 10em;\n",
       "  background: linear-gradient(90deg, #f36b42 19.9%, transparent 19.9%);\n",
       "}\n",
       "#T_6cc12_row8_col0 {\n",
       "  width: 10em;\n",
       "  background: linear-gradient(90deg, #f26841 19.2%, transparent 19.2%);\n",
       "}\n",
       "#T_6cc12_row9_col0 {\n",
       "  width: 10em;\n",
       "  background: linear-gradient(90deg, #d62f27 9.9%, transparent 9.9%);\n",
       "}\n",
       "#T_6cc12_row10_col0 {\n",
       "  width: 10em;\n",
       "  background: linear-gradient(90deg, #bd1726 4.7%, transparent 4.7%);\n",
       "}\n",
       "</style>\n",
       "<table id=\"T_6cc12\">\n",
       "  <thead>\n",
       "    <tr>\n",
       "      <th class=\"blank level0\" >&nbsp;</th>\n",
       "      <th id=\"T_6cc12_level0_col0\" class=\"col_heading level0 col0\" >Mutual Information</th>\n",
       "    </tr>\n",
       "  </thead>\n",
       "  <tbody>\n",
       "    <tr>\n",
       "      <th id=\"T_6cc12_level0_row0\" class=\"row_heading level0 row0\" >milage</th>\n",
       "      <td id=\"T_6cc12_row0_col0\" class=\"data row0 col0\" >0.659162</td>\n",
       "    </tr>\n",
       "    <tr>\n",
       "      <th id=\"T_6cc12_level0_row1\" class=\"row_heading level0 row1\" >engine</th>\n",
       "      <td id=\"T_6cc12_row1_col0\" class=\"data row1 col0\" >0.606871</td>\n",
       "    </tr>\n",
       "    <tr>\n",
       "      <th id=\"T_6cc12_level0_row2\" class=\"row_heading level0 row2\" >model_year</th>\n",
       "      <td id=\"T_6cc12_row2_col0\" class=\"data row2 col0\" >0.544162</td>\n",
       "    </tr>\n",
       "    <tr>\n",
       "      <th id=\"T_6cc12_level0_row3\" class=\"row_heading level0 row3\" >transmission</th>\n",
       "      <td id=\"T_6cc12_row3_col0\" class=\"data row3 col0\" >0.443439</td>\n",
       "    </tr>\n",
       "    <tr>\n",
       "      <th id=\"T_6cc12_level0_row4\" class=\"row_heading level0 row4\" >model</th>\n",
       "      <td id=\"T_6cc12_row4_col0\" class=\"data row4 col0\" >0.421122</td>\n",
       "    </tr>\n",
       "    <tr>\n",
       "      <th id=\"T_6cc12_level0_row5\" class=\"row_heading level0 row5\" >clean_title</th>\n",
       "      <td id=\"T_6cc12_row5_col0\" class=\"data row5 col0\" >0.160905</td>\n",
       "    </tr>\n",
       "    <tr>\n",
       "      <th id=\"T_6cc12_level0_row6\" class=\"row_heading level0 row6\" >brand</th>\n",
       "      <td id=\"T_6cc12_row6_col0\" class=\"data row6 col0\" >0.149762</td>\n",
       "    </tr>\n",
       "    <tr>\n",
       "      <th id=\"T_6cc12_level0_row7\" class=\"row_heading level0 row7\" >ext_col</th>\n",
       "      <td id=\"T_6cc12_row7_col0\" class=\"data row7 col0\" >0.130857</td>\n",
       "    </tr>\n",
       "    <tr>\n",
       "      <th id=\"T_6cc12_level0_row8\" class=\"row_heading level0 row8\" >int_col</th>\n",
       "      <td id=\"T_6cc12_row8_col0\" class=\"data row8 col0\" >0.126786</td>\n",
       "    </tr>\n",
       "    <tr>\n",
       "      <th id=\"T_6cc12_level0_row9\" class=\"row_heading level0 row9\" >accident</th>\n",
       "      <td id=\"T_6cc12_row9_col0\" class=\"data row9 col0\" >0.065448</td>\n",
       "    </tr>\n",
       "    <tr>\n",
       "      <th id=\"T_6cc12_level0_row10\" class=\"row_heading level0 row10\" >fuel_type</th>\n",
       "      <td id=\"T_6cc12_row10_col0\" class=\"data row10 col0\" >0.031248</td>\n",
       "    </tr>\n",
       "  </tbody>\n",
       "</table>\n"
      ],
      "text/plain": [
       "<pandas.io.formats.style.Styler at 0x7933379ef6d0>"
      ]
     },
     "execution_count": 6,
     "metadata": {},
     "output_type": "execute_result"
    }
   ],
   "source": [
    "_X_mi, _y_mi, _, _ = get_data(impute=True, encode=True)\n",
    "\n",
    "mutual_info = mutual_info_regression(_X_mi, _y_mi, random_state=CFG.seed)\n",
    "\n",
    "mutual_info = pd.Series(mutual_info)\n",
    "mutual_info.index = _X_mi.columns\n",
    "mutual_info = pd.DataFrame(mutual_info.sort_values(ascending=False), columns=['Mutual Information'])\n",
    "mutual_info.style.bar(subset=['Mutual Information'], cmap='RdYlGn')"
   ]
  },
  {
   "cell_type": "markdown",
   "id": "3fdd9eee",
   "metadata": {
    "papermill": {
     "duration": 0.017344,
     "end_time": "2024-09-17T06:28:35.203882",
     "exception": false,
     "start_time": "2024-09-17T06:28:35.186538",
     "status": "completed"
    },
    "tags": []
   },
   "source": [
    "# Training base models\n",
    "\n",
    "Here, I have created a class to train and cross-validate the base models. I will use this class to train all five of my base models, as well as some of the ensemble models. The class also contains a function that saves OOF predictions of the base models. Feel free to use these OOF files in your own ensemble."
   ]
  },
  {
   "cell_type": "code",
   "execution_count": 7,
   "id": "047f4666",
   "metadata": {
    "execution": {
     "iopub.execute_input": "2024-09-17T06:28:35.241701Z",
     "iopub.status.busy": "2024-09-17T06:28:35.241231Z",
     "iopub.status.idle": "2024-09-17T06:28:35.247678Z",
     "shell.execute_reply": "2024-09-17T06:28:35.246456Z"
    },
    "papermill": {
     "duration": 0.029011,
     "end_time": "2024-09-17T06:28:35.250602",
     "exception": false,
     "start_time": "2024-09-17T06:28:35.221591",
     "status": "completed"
    },
    "tags": []
   },
   "outputs": [],
   "source": [
    "os.mkdir('oof_preds')\n",
    "os.mkdir('test_preds')"
   ]
  },
  {
   "cell_type": "code",
   "execution_count": 8,
   "id": "16f54385",
   "metadata": {
    "execution": {
     "iopub.execute_input": "2024-09-17T06:28:35.287619Z",
     "iopub.status.busy": "2024-09-17T06:28:35.287160Z",
     "iopub.status.idle": "2024-09-17T06:28:35.304491Z",
     "shell.execute_reply": "2024-09-17T06:28:35.303237Z"
    },
    "papermill": {
     "duration": 0.038846,
     "end_time": "2024-09-17T06:28:35.306995",
     "exception": false,
     "start_time": "2024-09-17T06:28:35.268149",
     "status": "completed"
    },
    "tags": []
   },
   "outputs": [],
   "source": [
    "class Trainer:\n",
    "    def __init__(self, model, CFG, is_ensemble=False, save_preds=False):\n",
    "        self.model = model\n",
    "        self.config = CFG\n",
    "        self.is_ensemble = is_ensemble\n",
    "        self.save_preds = save_preds\n",
    "\n",
    "    def fit_predict(self, X, y, X_test):\n",
    "        print(f'Training {self.model.__class__.__name__}\\n')\n",
    "        \n",
    "        scores = []        \n",
    "        coeffs = np.zeros((1, X.shape[1]))\n",
    "        oof_preds = np.zeros(len(X), dtype=np.float32)\n",
    "        test_preds = np.zeros(len(X_test), dtype=np.float32)\n",
    "        \n",
    "        skf = KFold(n_splits=self.config.n_folds, random_state=self.config.seed, shuffle=True)\n",
    "        for fold_idx, (train_idx, val_idx) in enumerate(skf.split(X, y)):\n",
    "            X_train, X_val = X.iloc[train_idx], X.iloc[val_idx]\n",
    "            y_train, y_val = y[train_idx], y[val_idx]\n",
    "            \n",
    "            model = clone(self.model)\n",
    "            model.fit(X_train, y_train)\n",
    "            \n",
    "            if self.is_ensemble:\n",
    "                coeffs += model.coef_ / self.config.n_folds\n",
    "            \n",
    "            y_preds = model.predict(X_val)\n",
    "            oof_preds[val_idx] = y_preds\n",
    "            \n",
    "            temp_test_preds = model.predict(X_test)\n",
    "            test_preds += temp_test_preds / self.config.n_folds\n",
    "            \n",
    "            score = mean_squared_error(y_val, y_preds, squared=False)\n",
    "            scores.append(score)\n",
    "            \n",
    "            del model, X_train, y_train, X_val, y_val, y_preds, temp_test_preds\n",
    "            gc.collect()\n",
    "            \n",
    "            print(f'--- Fold {fold_idx + 1} - RMSE: {round(score)}')\n",
    "            \n",
    "        overall_score = mean_squared_error(y, oof_preds, squared=False)\n",
    "        \n",
    "        print(f'\\nOverall RMSE: {round(overall_score)} ± {round(np.std(scores))}')\n",
    "        \n",
    "        if self.save_preds:\n",
    "            self._save_preds(oof_preds, overall_score, 'oof')\n",
    "            self._save_preds(test_preds, overall_score, 'test')\n",
    "        \n",
    "        if self.is_ensemble:\n",
    "            return oof_preds, test_preds, scores, coeffs[0]\n",
    "        else:\n",
    "            return oof_preds, test_preds, scores\n",
    "        \n",
    "    def _save_preds(self, preds, cv_score, name):\n",
    "        model_name = self.model.__class__.__name__.lower().replace('regressor', '')\n",
    "        with open(f'{name}_preds/{model_name}_{name}_preds_{round(cv_score)}.pkl', 'wb') as f:\n",
    "            pickle.dump(preds, f)"
   ]
  },
  {
   "cell_type": "code",
   "execution_count": 9,
   "id": "0ea2b83c",
   "metadata": {
    "execution": {
     "iopub.execute_input": "2024-09-17T06:28:35.343716Z",
     "iopub.status.busy": "2024-09-17T06:28:35.343279Z",
     "iopub.status.idle": "2024-09-17T06:28:35.349874Z",
     "shell.execute_reply": "2024-09-17T06:28:35.348715Z"
    },
    "papermill": {
     "duration": 0.027721,
     "end_time": "2024-09-17T06:28:35.352252",
     "exception": false,
     "start_time": "2024-09-17T06:28:35.324531",
     "status": "completed"
    },
    "tags": []
   },
   "outputs": [],
   "source": [
    "def save_submission(test_preds, name, score):\n",
    "    sub = pd.read_csv(CFG.sample_sub_path)\n",
    "    sub[CFG.target] = test_preds\n",
    "    sub.to_csv(f'sub_{name}_{round(score)}.csv', index=False)\n",
    "    return sub"
   ]
  },
  {
   "cell_type": "code",
   "execution_count": 10,
   "id": "3096c8b6",
   "metadata": {
    "_kg_hide-input": true,
    "execution": {
     "iopub.execute_input": "2024-09-17T06:28:35.390013Z",
     "iopub.status.busy": "2024-09-17T06:28:35.389597Z",
     "iopub.status.idle": "2024-09-17T06:28:35.403639Z",
     "shell.execute_reply": "2024-09-17T06:28:35.402542Z"
    },
    "papermill": {
     "duration": 0.03625,
     "end_time": "2024-09-17T06:28:35.406451",
     "exception": false,
     "start_time": "2024-09-17T06:28:35.370201",
     "status": "completed"
    },
    "tags": []
   },
   "outputs": [],
   "source": [
    "lgbm_params = {\n",
    "    'boosting_type': 'gbdt',\n",
    "    'colsample_bytree': 0.2717594655586179,\n",
    "    'learning_rate': 0.00705406676947917,\n",
    "    'min_child_samples': 34,\n",
    "    'min_child_weight': 0.7672936180054919,\n",
    "    'n_estimators': 580,\n",
    "    'n_jobs': -1,\n",
    "    'num_leaves': 331,\n",
    "    'random_state': 228,\n",
    "    'reg_alpha': 2.8735549071327893,\n",
    "    'reg_lambda': 1.9960072700057496,\n",
    "    'subsample': 0.6375282618702655,\n",
    "    'verbose': -1\n",
    "}\n",
    "\n",
    "xgb_params = {\n",
    "    'colsample_bylevel': 0.14970948141821472,\n",
    "    'colsample_bynode': 0.5083254534020931,\n",
    "    'colsample_bytree': 0.3817639329698128,\n",
    "    'enable_categorical': True,\n",
    "    'gamma': 6.6773614554249106,\n",
    "    'learning_rate': 0.006107456820025998,\n",
    "    'max_depth': 126,\n",
    "    'max_leaves': 379,\n",
    "    'min_child_weight': 118.49608777608312,\n",
    "    'n_estimators': 1814,\n",
    "    'n_jobs': -1,\n",
    "    'random_state': 228,\n",
    "    'reg_alpha': 35.81113397502143,\n",
    "    'reg_lambda': 35.720926439337305,\n",
    "    'subsample': 0.9737449115371232,\n",
    "    'verbosity': 0\n",
    "}\n",
    "\n",
    "cb_params = {\n",
    "    'border_count': 169,\n",
    "    'colsample_bylevel': 0.3506195412009915,\n",
    "    'depth': 7,\n",
    "    'iterations': 1109,\n",
    "    'l2_leaf_reg': 6.33868352738131,\n",
    "    'learning_rate': 0.0412667201685212,\n",
    "    'loss_function': 'RMSE',\n",
    "    'min_child_samples': 159,\n",
    "    'random_state': 228,\n",
    "    'random_strength': 0.0012934995235887037,\n",
    "    'subsample': 0.3081065729518836,\n",
    "    'verbose': False\n",
    "}\n",
    "\n",
    "hgb_params = {\n",
    "    'l2_regularization': 97.51474522011571,\n",
    "    'learning_rate': 0.05511555997105186,\n",
    "    'max_depth': 348,\n",
    "    'max_iter': 598,\n",
    "    'max_leaf_nodes': 25,\n",
    "    'min_samples_leaf': 486,\n",
    "    'random_state': 228\n",
    "}\n",
    "\n",
    "gb_params = {\n",
    "    'learning_rate': 0.14639096806064802,\n",
    "    'max_depth': 15,\n",
    "    'max_features': 0.32550565912749474,\n",
    "    'max_leaf_nodes': 78,\n",
    "    'min_samples_leaf': 0.01593884969111692,\n",
    "    'min_samples_split': 0.27675043533613664,\n",
    "    'min_weight_fraction_leaf': 0.01751751484363745,\n",
    "    'n_estimators': 1729,\n",
    "    'random_state': 228,\n",
    "    'subsample': 0.9670345933122722\n",
    "}"
   ]
  },
  {
   "cell_type": "code",
   "execution_count": 11,
   "id": "bb3db8ec",
   "metadata": {
    "execution": {
     "iopub.execute_input": "2024-09-17T06:28:35.444138Z",
     "iopub.status.busy": "2024-09-17T06:28:35.443645Z",
     "iopub.status.idle": "2024-09-17T06:28:35.449730Z",
     "shell.execute_reply": "2024-09-17T06:28:35.448445Z"
    },
    "papermill": {
     "duration": 0.028192,
     "end_time": "2024-09-17T06:28:35.452358",
     "exception": false,
     "start_time": "2024-09-17T06:28:35.424166",
     "status": "completed"
    },
    "tags": []
   },
   "outputs": [],
   "source": [
    "oof_preds = {}\n",
    "test_preds = {}\n",
    "scores = {}"
   ]
  },
  {
   "cell_type": "code",
   "execution_count": 12,
   "id": "c2cb33ea",
   "metadata": {
    "execution": {
     "iopub.execute_input": "2024-09-17T06:28:35.489793Z",
     "iopub.status.busy": "2024-09-17T06:28:35.489327Z",
     "iopub.status.idle": "2024-09-17T06:35:13.701774Z",
     "shell.execute_reply": "2024-09-17T06:35:13.700499Z"
    },
    "papermill": {
     "duration": 398.252576,
     "end_time": "2024-09-17T06:35:13.722458",
     "exception": false,
     "start_time": "2024-09-17T06:28:35.469882",
     "status": "completed"
    },
    "tags": []
   },
   "outputs": [
    {
     "name": "stdout",
     "output_type": "stream",
     "text": [
      "Training LGBMRegressor\n",
      "\n",
      "--- Fold 1 - RMSE: 72158\n",
      "--- Fold 2 - RMSE: 73411\n",
      "--- Fold 3 - RMSE: 72867\n",
      "--- Fold 4 - RMSE: 72357\n",
      "--- Fold 5 - RMSE: 73639\n",
      "\n",
      "Overall RMSE: 72889 ± 575\n"
     ]
    }
   ],
   "source": [
    "X, y, X_test, _ = get_data(impute=False, encode=False)\n",
    "lgbm_model = LGBMRegressor(**lgbm_params)\n",
    "lgbm_trainer = Trainer(lgbm_model, CFG, save_preds=True)\n",
    "oof_preds['LightGBM'], test_preds['LightGBM'], scores['LightGBM'] = lgbm_trainer.fit_predict(X, y, X_test)"
   ]
  },
  {
   "cell_type": "code",
   "execution_count": 13,
   "id": "78a9d13f",
   "metadata": {
    "execution": {
     "iopub.execute_input": "2024-09-17T06:35:13.760965Z",
     "iopub.status.busy": "2024-09-17T06:35:13.760522Z",
     "iopub.status.idle": "2024-09-17T06:51:06.136535Z",
     "shell.execute_reply": "2024-09-17T06:51:06.135335Z"
    },
    "papermill": {
     "duration": 952.417215,
     "end_time": "2024-09-17T06:51:06.158058",
     "exception": false,
     "start_time": "2024-09-17T06:35:13.740843",
     "status": "completed"
    },
    "tags": []
   },
   "outputs": [
    {
     "name": "stdout",
     "output_type": "stream",
     "text": [
      "Training XGBRegressor\n",
      "\n",
      "--- Fold 1 - RMSE: 71945\n",
      "--- Fold 2 - RMSE: 73285\n",
      "--- Fold 3 - RMSE: 72686\n",
      "--- Fold 4 - RMSE: 72176\n",
      "--- Fold 5 - RMSE: 73600\n",
      "\n",
      "Overall RMSE: 72741 ± 631\n"
     ]
    }
   ],
   "source": [
    "X, y, X_test, _ = get_data(impute=False, encode=False)\n",
    "xgb_model = XGBRegressor(**xgb_params)\n",
    "xgb_trainer = Trainer(xgb_model, CFG, save_preds=True)\n",
    "oof_preds['XGBoost'], test_preds['XGBoost'], scores['XGBoost'] = xgb_trainer.fit_predict(X, y, X_test)"
   ]
  },
  {
   "cell_type": "code",
   "execution_count": 14,
   "id": "4ada4cf9",
   "metadata": {
    "execution": {
     "iopub.execute_input": "2024-09-17T06:51:06.197778Z",
     "iopub.status.busy": "2024-09-17T06:51:06.197341Z",
     "iopub.status.idle": "2024-09-17T06:59:48.918315Z",
     "shell.execute_reply": "2024-09-17T06:59:48.916979Z"
    },
    "papermill": {
     "duration": 522.762947,
     "end_time": "2024-09-17T06:59:48.939508",
     "exception": false,
     "start_time": "2024-09-17T06:51:06.176561",
     "status": "completed"
    },
    "tags": []
   },
   "outputs": [
    {
     "name": "stdout",
     "output_type": "stream",
     "text": [
      "Training CatBoostRegressor\n",
      "\n",
      "--- Fold 1 - RMSE: 72019\n",
      "--- Fold 2 - RMSE: 73436\n",
      "--- Fold 3 - RMSE: 72814\n",
      "--- Fold 4 - RMSE: 72201\n",
      "--- Fold 5 - RMSE: 73596\n",
      "\n",
      "Overall RMSE: 72816 ± 634\n"
     ]
    }
   ],
   "source": [
    "X, y, X_test, cat_features = get_data(impute=True, encode=False)\n",
    "cb_model = CatBoostRegressor(**cb_params, cat_features=cat_features)\n",
    "cb_trainer = Trainer(cb_model, CFG, save_preds=True)\n",
    "oof_preds['CatBoost'], test_preds['CatBoost'], scores['CatBoost'] = cb_trainer.fit_predict(X, y, X_test)"
   ]
  },
  {
   "cell_type": "code",
   "execution_count": 15,
   "id": "1c8ee17e",
   "metadata": {
    "execution": {
     "iopub.execute_input": "2024-09-17T06:59:48.980780Z",
     "iopub.status.busy": "2024-09-17T06:59:48.980336Z",
     "iopub.status.idle": "2024-09-17T07:00:28.754878Z",
     "shell.execute_reply": "2024-09-17T07:00:28.753490Z"
    },
    "papermill": {
     "duration": 39.798746,
     "end_time": "2024-09-17T07:00:28.757650",
     "exception": false,
     "start_time": "2024-09-17T06:59:48.958904",
     "status": "completed"
    },
    "tags": []
   },
   "outputs": [
    {
     "name": "stdout",
     "output_type": "stream",
     "text": [
      "Training HistGradientBoostingRegressor\n",
      "\n",
      "--- Fold 1 - RMSE: 71935\n",
      "--- Fold 2 - RMSE: 73373\n",
      "--- Fold 3 - RMSE: 72743\n",
      "--- Fold 4 - RMSE: 72202\n",
      "--- Fold 5 - RMSE: 73586\n",
      "\n",
      "Overall RMSE: 72771 ± 640\n"
     ]
    }
   ],
   "source": [
    "X, y, X_test, _ = get_data(impute=True, encode=True)\n",
    "hgb_model = HistGradientBoostingRegressor(**hgb_params)\n",
    "hgb_trainer = Trainer(hgb_model, CFG, save_preds=True)\n",
    "oof_preds['HistGB'], test_preds['HistGB'], scores['HistGB'] = hgb_trainer.fit_predict(X, y, X_test)"
   ]
  },
  {
   "cell_type": "code",
   "execution_count": 16,
   "id": "1b494c68",
   "metadata": {
    "execution": {
     "iopub.execute_input": "2024-09-17T07:00:28.799349Z",
     "iopub.status.busy": "2024-09-17T07:00:28.798844Z",
     "iopub.status.idle": "2024-09-17T07:19:05.293341Z",
     "shell.execute_reply": "2024-09-17T07:19:05.291992Z"
    },
    "papermill": {
     "duration": 1116.538428,
     "end_time": "2024-09-17T07:19:05.315975",
     "exception": false,
     "start_time": "2024-09-17T07:00:28.777547",
     "status": "completed"
    },
    "tags": []
   },
   "outputs": [
    {
     "name": "stdout",
     "output_type": "stream",
     "text": [
      "Training GradientBoostingRegressor\n",
      "\n",
      "--- Fold 1 - RMSE: 71996\n",
      "--- Fold 2 - RMSE: 73349\n",
      "--- Fold 3 - RMSE: 72747\n",
      "--- Fold 4 - RMSE: 72289\n",
      "--- Fold 5 - RMSE: 73546\n",
      "\n",
      "Overall RMSE: 72788 ± 595\n"
     ]
    }
   ],
   "source": [
    "X, y, X_test, _ = get_data(impute=True, encode=True)\n",
    "gb_model = GradientBoostingRegressor(**gb_params)\n",
    "gb_trainer = Trainer(gb_model, CFG, save_preds=True)\n",
    "oof_preds['GradientBoosting'], test_preds['GradientBoosting'], scores['GradientBoosting'] = gb_trainer.fit_predict(X, y, X_test)"
   ]
  },
  {
   "cell_type": "markdown",
   "id": "a0096f68",
   "metadata": {
    "papermill": {
     "duration": 0.020431,
     "end_time": "2024-09-17T07:19:05.356541",
     "exception": false,
     "start_time": "2024-09-17T07:19:05.336110",
     "status": "completed"
    },
    "tags": []
   },
   "source": [
    "# Ensembling base models"
   ]
  },
  {
   "cell_type": "code",
   "execution_count": 17,
   "id": "81f9ea4b",
   "metadata": {
    "execution": {
     "iopub.execute_input": "2024-09-17T07:19:05.399222Z",
     "iopub.status.busy": "2024-09-17T07:19:05.398777Z",
     "iopub.status.idle": "2024-09-17T07:19:05.409355Z",
     "shell.execute_reply": "2024-09-17T07:19:05.408194Z"
    },
    "papermill": {
     "duration": 0.035148,
     "end_time": "2024-09-17T07:19:05.411866",
     "exception": false,
     "start_time": "2024-09-17T07:19:05.376718",
     "status": "completed"
    },
    "tags": []
   },
   "outputs": [],
   "source": [
    "def plot_weights(title, weights):\n",
    "    plt.figure(figsize=(10, 4))\n",
    "\n",
    "    weights = pd.Series(weights, index=test_preds.keys()).sort_values(ascending=False)\n",
    "    sns.barplot(y=weights.index, x=weights.values, palette='RdYlGn_r')\n",
    "    plt.title(title)\n",
    "    plt.ylabel('')\n",
    "    plt.xlabel('')\n",
    "\n",
    "    for i, (value, name) in enumerate(zip(weights, test_preds.keys())):\n",
    "        if value > 0:\n",
    "            plt.text(value, i, f'{value:.3f}', va='center', ha='left', color='black')\n",
    "        else:\n",
    "            plt.text(value, i, f'{value:.3f}', va='center', ha='right', color='black')\n",
    "\n",
    "    xlim = plt.xlim()\n",
    "    plt.xlim(xlim[0] - 1.2 * abs(xlim[0]), xlim[1] + 0.1 * abs(xlim[1]))\n",
    "\n",
    "    plt.tight_layout()\n",
    "    plt.show()"
   ]
  },
  {
   "cell_type": "markdown",
   "id": "b691eabb",
   "metadata": {
    "papermill": {
     "duration": 0.020081,
     "end_time": "2024-09-17T07:19:05.452184",
     "exception": false,
     "start_time": "2024-09-17T07:19:05.432103",
     "status": "completed"
    },
    "tags": []
   },
   "source": [
    "## Weighted Averaging\n",
    "\n",
    "One simple way to combine the predictions of multiple models is to assign a weight to each model and take the weighted average of the predictions. To find the optimal weights, we can use a hyperparameter optimization tool such as Optuna. Here, I've defined an Optuna run that optimizes the weights assigned to each model based on the overall RMSE achieved for each set of weights.\n"
   ]
  },
  {
   "cell_type": "code",
   "execution_count": 18,
   "id": "16d35072",
   "metadata": {
    "execution": {
     "iopub.execute_input": "2024-09-17T07:19:05.494994Z",
     "iopub.status.busy": "2024-09-17T07:19:05.494521Z",
     "iopub.status.idle": "2024-09-17T07:19:05.503766Z",
     "shell.execute_reply": "2024-09-17T07:19:05.502521Z"
    },
    "papermill": {
     "duration": 0.033913,
     "end_time": "2024-09-17T07:19:05.506477",
     "exception": false,
     "start_time": "2024-09-17T07:19:05.472564",
     "status": "completed"
    },
    "tags": []
   },
   "outputs": [],
   "source": [
    "def objective(trial):\n",
    "    lgbm_weight = trial.suggest_float('lgbm_weight', 0.0, 1.0)\n",
    "    xgb_weight = trial.suggest_float('xgb_weight', 0.0, 1.0)\n",
    "    cb_weight = trial.suggest_float('cb_weight', 0.0, 1.0)\n",
    "    hgb_weight = trial.suggest_float('hgb_weight', 0.0, 1.0)\n",
    "    gb_weight = trial.suggest_float('gb_weight', 0.0, 1.0)\n",
    "\n",
    "    weights = [\n",
    "        lgbm_weight,\n",
    "        xgb_weight,\n",
    "        cb_weight, \n",
    "        hgb_weight,\n",
    "        gb_weight\n",
    "    ]\n",
    "    weights /= np.sum(weights)\n",
    "\n",
    "    preds = np.zeros((X.shape[0]))\n",
    "    for model, weight in zip(oof_preds.keys(), weights):\n",
    "        preds += oof_preds[model] * weight\n",
    "\n",
    "    return mean_squared_error(preds, y, squared=False)"
   ]
  },
  {
   "cell_type": "code",
   "execution_count": 19,
   "id": "c82a5eb3",
   "metadata": {
    "_kg_hide-output": true,
    "execution": {
     "iopub.execute_input": "2024-09-17T07:19:05.609449Z",
     "iopub.status.busy": "2024-09-17T07:19:05.609014Z",
     "iopub.status.idle": "2024-09-17T07:19:32.766124Z",
     "shell.execute_reply": "2024-09-17T07:19:32.764758Z"
    },
    "papermill": {
     "duration": 27.182004,
     "end_time": "2024-09-17T07:19:32.768868",
     "exception": false,
     "start_time": "2024-09-17T07:19:05.586864",
     "status": "completed"
    },
    "scrolled": true,
    "tags": []
   },
   "outputs": [
    {
     "name": "stderr",
     "output_type": "stream",
     "text": [
      "[I 2024-09-17 07:19:05,612] A new study created in memory with name: no-name-959cc053-0a36-4767-9ade-a56a5639e22d\n",
      "[I 2024-09-17 07:19:05,621] Trial 0 finished with value: 72575.90242382411 and parameters: {'lgbm_weight': 0.4238108114695278, 'xgb_weight': 0.5417427669021565, 'cb_weight': 0.6885548977177369, 'hgb_weight': 0.34608302515355915, 'gb_weight': 0.4390290042342089}. Best is trial 0 with value: 72575.90242382411.\n",
      "[I 2024-09-17 07:19:05,628] Trial 1 finished with value: 72593.6874941952 and parameters: {'lgbm_weight': 0.5890490882552291, 'xgb_weight': 0.6536621729379826, 'cb_weight': 0.11026583566095016, 'hgb_weight': 0.14290265496795074, 'gb_weight': 0.8741773566676976}. Best is trial 0 with value: 72575.90242382411.\n",
      "[I 2024-09-17 07:19:05,634] Trial 2 finished with value: 72585.01301548806 and parameters: {'lgbm_weight': 0.3370017886945007, 'xgb_weight': 0.0690762632890779, 'cb_weight': 0.3119193394222002, 'hgb_weight': 0.6127806231598824, 'gb_weight': 0.6540414802670811}. Best is trial 0 with value: 72575.90242382411.\n",
      "[I 2024-09-17 07:19:05,641] Trial 3 finished with value: 72624.05610611344 and parameters: {'lgbm_weight': 0.9019173161265741, 'xgb_weight': 0.09308366220543696, 'cb_weight': 0.9244497226698039, 'hgb_weight': 0.18210112807430978, 'gb_weight': 0.049038918177003565}. Best is trial 0 with value: 72575.90242382411.\n",
      "[I 2024-09-17 07:19:05,647] Trial 4 finished with value: 72580.82001396577 and parameters: {'lgbm_weight': 0.2527441719989775, 'xgb_weight': 0.1826865086609536, 'cb_weight': 0.44111359306734066, 'hgb_weight': 0.7383970181535947, 'gb_weight': 0.29166448974847015}. Best is trial 0 with value: 72575.90242382411.\n",
      "[I 2024-09-17 07:19:05,653] Trial 5 finished with value: 72598.08097816315 and parameters: {'lgbm_weight': 0.2833477186170118, 'xgb_weight': 0.1298766880433775, 'cb_weight': 0.6457086389716167, 'hgb_weight': 0.05455697208908716, 'gb_weight': 0.28154316530908785}. Best is trial 0 with value: 72575.90242382411.\n",
      "[I 2024-09-17 07:19:05,659] Trial 6 finished with value: 72584.60314431373 and parameters: {'lgbm_weight': 0.3434105184743179, 'xgb_weight': 0.21657858910800498, 'cb_weight': 0.12818860512945918, 'hgb_weight': 0.4152257525979104, 'gb_weight': 0.6072169320209568}. Best is trial 0 with value: 72575.90242382411.\n",
      "[I 2024-09-17 07:19:05,665] Trial 7 finished with value: 72584.49203643351 and parameters: {'lgbm_weight': 0.48208289394067116, 'xgb_weight': 0.0056310875634181246, 'cb_weight': 0.47664683270455677, 'hgb_weight': 0.09416782637433863, 'gb_weight': 0.4739188545206965}. Best is trial 0 with value: 72575.90242382411.\n",
      "[I 2024-09-17 07:19:05,671] Trial 8 finished with value: 72573.23203666028 and parameters: {'lgbm_weight': 0.39475752051885105, 'xgb_weight': 0.2725631144869781, 'cb_weight': 0.6919906081588489, 'hgb_weight': 0.6287500848087164, 'gb_weight': 0.5407462328199973}. Best is trial 8 with value: 72573.23203666028.\n",
      "[I 2024-09-17 07:19:05,677] Trial 9 finished with value: 72595.73082938213 and parameters: {'lgbm_weight': 0.9245543572376594, 'xgb_weight': 0.28561500460894307, 'cb_weight': 0.5732866384964466, 'hgb_weight': 0.034174307904028534, 'gb_weight': 0.5758903071098127}. Best is trial 8 with value: 72573.23203666028.\n",
      "[I 2024-09-17 07:19:05,716] Trial 10 finished with value: 72595.28917654857 and parameters: {'lgbm_weight': 0.007924635050871598, 'xgb_weight': 0.9270568148823798, 'cb_weight': 0.8986071872987713, 'hgb_weight': 0.9900432582222168, 'gb_weight': 0.9982624707904182}. Best is trial 8 with value: 72573.23203666028.\n",
      "[I 2024-09-17 07:19:05,756] Trial 11 finished with value: 72576.8444709891 and parameters: {'lgbm_weight': 0.6730618250672594, 'xgb_weight': 0.46969430290492525, 'cb_weight': 0.755595848417244, 'hgb_weight': 0.35615029896503714, 'gb_weight': 0.3850855422349991}. Best is trial 8 with value: 72573.23203666028.\n",
      "[I 2024-09-17 07:19:05,799] Trial 12 finished with value: 72598.35269442071 and parameters: {'lgbm_weight': 0.0030424293759099275, 'xgb_weight': 0.44066442799150773, 'cb_weight': 0.7392876676542295, 'hgb_weight': 0.6438395560995755, 'gb_weight': 0.7948752041557773}. Best is trial 8 with value: 72573.23203666028.\n",
      "[I 2024-09-17 07:19:05,843] Trial 13 finished with value: 72591.29755141676 and parameters: {'lgbm_weight': 0.49570719376179034, 'xgb_weight': 0.6670615811144959, 'cb_weight': 0.7734121721031237, 'hgb_weight': 0.31797034506771926, 'gb_weight': 0.1183435738590134}. Best is trial 8 with value: 72573.23203666028.\n",
      "[I 2024-09-17 07:19:05,888] Trial 14 finished with value: 72571.78878344188 and parameters: {'lgbm_weight': 0.7130444159081308, 'xgb_weight': 0.3535845205391734, 'cb_weight': 0.30873778223851844, 'hgb_weight': 0.8568963443922812, 'gb_weight': 0.4367472959575627}. Best is trial 14 with value: 72571.78878344188.\n",
      "[I 2024-09-17 07:19:05,931] Trial 15 finished with value: 72574.95274974895 and parameters: {'lgbm_weight': 0.7585023149481601, 'xgb_weight': 0.33628666298141074, 'cb_weight': 0.29492830427693806, 'hgb_weight': 0.9122661904993523, 'gb_weight': 0.7314125074031952}. Best is trial 14 with value: 72571.78878344188.\n",
      "[I 2024-09-17 07:19:05,973] Trial 16 finished with value: 72574.264154286 and parameters: {'lgbm_weight': 0.7799357650696372, 'xgb_weight': 0.3588234443936939, 'cb_weight': 0.26454955005617153, 'hgb_weight': 0.7927434809455192, 'gb_weight': 0.2644431188371098}. Best is trial 14 with value: 72571.78878344188.\n",
      "[I 2024-09-17 07:19:06,018] Trial 17 finished with value: 72594.50796826807 and parameters: {'lgbm_weight': 0.19474638786235082, 'xgb_weight': 0.633784918435804, 'cb_weight': 0.02960026540166716, 'hgb_weight': 0.5443173723322743, 'gb_weight': 0.523337354657748}. Best is trial 14 with value: 72571.78878344188.\n",
      "[I 2024-09-17 07:19:06,063] Trial 18 finished with value: 72574.46595675651 and parameters: {'lgbm_weight': 0.6136470424475462, 'xgb_weight': 0.8855808659244769, 'cb_weight': 0.3734419715188853, 'hgb_weight': 0.8087477452868133, 'gb_weight': 0.3858559248744507}. Best is trial 14 with value: 72571.78878344188.\n",
      "[I 2024-09-17 07:19:06,108] Trial 19 finished with value: 72574.00215093403 and parameters: {'lgbm_weight': 0.8184792152626006, 'xgb_weight': 0.26144942114298253, 'cb_weight': 0.545554330849229, 'hgb_weight': 0.6939543931972998, 'gb_weight': 0.19926444937985244}. Best is trial 14 with value: 72571.78878344188.\n",
      "[I 2024-09-17 07:19:06,150] Trial 20 finished with value: 72588.64145089853 and parameters: {'lgbm_weight': 0.12146249885598603, 'xgb_weight': 0.763174754732515, 'cb_weight': 0.9893363367458411, 'hgb_weight': 0.8801013559411859, 'gb_weight': 0.6860748234108252}. Best is trial 14 with value: 72571.78878344188.\n",
      "[I 2024-09-17 07:19:06,194] Trial 21 finished with value: 72578.90779529611 and parameters: {'lgbm_weight': 0.9975811005657966, 'xgb_weight': 0.26028497898917025, 'cb_weight': 0.6011634296930449, 'hgb_weight': 0.7072302650125875, 'gb_weight': 0.17670261047908753}. Best is trial 14 with value: 72571.78878344188.\n",
      "[I 2024-09-17 07:19:06,238] Trial 22 finished with value: 72576.82526262071 and parameters: {'lgbm_weight': 0.7745635183604868, 'xgb_weight': 0.3856360295556501, 'cb_weight': 0.5484360565592845, 'hgb_weight': 0.5369576889899665, 'gb_weight': 0.17659480140331088}. Best is trial 14 with value: 72571.78878344188.\n",
      "[I 2024-09-17 07:19:06,283] Trial 23 finished with value: 72574.40223965606 and parameters: {'lgbm_weight': 0.685168040793234, 'xgb_weight': 0.5447278562241193, 'cb_weight': 0.2202901021585324, 'hgb_weight': 0.6527659935033419, 'gb_weight': 0.31800659695697503}. Best is trial 14 with value: 72571.78878344188.\n",
      "[I 2024-09-17 07:19:06,328] Trial 24 finished with value: 72592.09049357474 and parameters: {'lgbm_weight': 0.8664694233282753, 'xgb_weight': 0.2990632096781423, 'cb_weight': 0.39746848154815706, 'hgb_weight': 0.46211687100787857, 'gb_weight': 0.04932396209310158}. Best is trial 14 with value: 72571.78878344188.\n",
      "[I 2024-09-17 07:19:06,373] Trial 25 finished with value: 72571.3062290203 and parameters: {'lgbm_weight': 0.560265251566966, 'xgb_weight': 0.40811557491086536, 'cb_weight': 0.8358615996305788, 'hgb_weight': 0.8290320968614123, 'gb_weight': 0.5373245228040598}. Best is trial 25 with value: 72571.3062290203.\n",
      "[I 2024-09-17 07:19:06,416] Trial 26 finished with value: 72572.2823982449 and parameters: {'lgbm_weight': 0.5689839988953717, 'xgb_weight': 0.4124820610942708, 'cb_weight': 0.8659833581284112, 'hgb_weight': 0.9819691750628695, 'gb_weight': 0.529315687709073}. Best is trial 25 with value: 72571.3062290203.\n",
      "[I 2024-09-17 07:19:06,459] Trial 27 finished with value: 72572.36631749738 and parameters: {'lgbm_weight': 0.5779727098850153, 'xgb_weight': 0.40321905479748343, 'cb_weight': 0.8434738102086012, 'hgb_weight': 0.9931810606538045, 'gb_weight': 0.44284799928934687}. Best is trial 25 with value: 72571.3062290203.\n",
      "[I 2024-09-17 07:19:06,503] Trial 28 finished with value: 72570.93292574896 and parameters: {'lgbm_weight': 0.7035433011016515, 'xgb_weight': 0.5207756989348897, 'cb_weight': 0.825329231280764, 'hgb_weight': 0.8854035057141859, 'gb_weight': 0.35972071094403835}. Best is trial 28 with value: 72570.93292574896.\n",
      "[I 2024-09-17 07:19:06,546] Trial 29 finished with value: 72570.52928143778 and parameters: {'lgbm_weight': 0.7130915425054307, 'xgb_weight': 0.5543720936392742, 'cb_weight': 0.798445720648596, 'hgb_weight': 0.8621754168902857, 'gb_weight': 0.3810865135182882}. Best is trial 29 with value: 72570.52928143778.\n",
      "[I 2024-09-17 07:19:06,589] Trial 30 finished with value: 72575.05830784571 and parameters: {'lgbm_weight': 0.450337394450019, 'xgb_weight': 0.5386687157003414, 'cb_weight': 0.8071882347862273, 'hgb_weight': 0.921426438487463, 'gb_weight': 0.3522519794515325}. Best is trial 29 with value: 72570.52928143778.\n",
      "[I 2024-09-17 07:19:06,632] Trial 31 finished with value: 72572.63370767009 and parameters: {'lgbm_weight': 0.6915319906660979, 'xgb_weight': 0.5768677375754855, 'cb_weight': 0.9916503633357606, 'hgb_weight': 0.8336274405436219, 'gb_weight': 0.4245561624296942}. Best is trial 29 with value: 72570.52928143778.\n",
      "[I 2024-09-17 07:19:06,675] Trial 32 finished with value: 72569.11890835725 and parameters: {'lgbm_weight': 0.6274047397990822, 'xgb_weight': 0.4971322512499177, 'cb_weight': 0.6462829823719427, 'hgb_weight': 0.7734890631299765, 'gb_weight': 0.472404497178999}. Best is trial 32 with value: 72569.11890835725.\n",
      "[I 2024-09-17 07:19:06,718] Trial 33 finished with value: 72572.06589567209 and parameters: {'lgbm_weight': 0.5301925619092173, 'xgb_weight': 0.7656765935871155, 'cb_weight': 0.6824475997038956, 'hgb_weight': 0.7539874058699386, 'gb_weight': 0.6207362169000947}. Best is trial 32 with value: 72569.11890835725.\n",
      "[I 2024-09-17 07:19:06,762] Trial 34 finished with value: 72571.61320516003 and parameters: {'lgbm_weight': 0.6392414551280469, 'xgb_weight': 0.48553931704003295, 'cb_weight': 0.9333243823867744, 'hgb_weight': 0.93316348442227, 'gb_weight': 0.48248463596530317}. Best is trial 32 with value: 72569.11890835725.\n",
      "[I 2024-09-17 07:19:06,805] Trial 35 finished with value: 72574.70860244814 and parameters: {'lgbm_weight': 0.6278019480100959, 'xgb_weight': 0.6298577613782317, 'cb_weight': 0.835221258297086, 'hgb_weight': 0.7827840159606274, 'gb_weight': 0.23437146307136314}. Best is trial 32 with value: 72569.11890835725.\n",
      "[I 2024-09-17 07:19:06,848] Trial 36 finished with value: 72572.57984074579 and parameters: {'lgbm_weight': 0.5488278443472655, 'xgb_weight': 0.7239253756437409, 'cb_weight': 0.7092786819578354, 'hgb_weight': 0.8601613059947726, 'gb_weight': 0.37627708021956247}. Best is trial 32 with value: 72569.11890835725.\n",
      "[I 2024-09-17 07:19:06,892] Trial 37 finished with value: 72574.36577096299 and parameters: {'lgbm_weight': 0.7408689642161057, 'xgb_weight': 0.5826512271870714, 'cb_weight': 0.7923468063216057, 'hgb_weight': 0.5830103253263738, 'gb_weight': 0.3209989319023707}. Best is trial 32 with value: 72569.11890835725.\n",
      "[I 2024-09-17 07:19:06,937] Trial 38 finished with value: 72572.45940465941 and parameters: {'lgbm_weight': 0.41935207549971615, 'xgb_weight': 0.5131997037302194, 'cb_weight': 0.6359311508025541, 'hgb_weight': 0.7362235592666204, 'gb_weight': 0.5693336133563152}. Best is trial 32 with value: 72569.11890835725.\n",
      "[I 2024-09-17 07:19:06,980] Trial 39 finished with value: 72569.45789347778 and parameters: {'lgbm_weight': 0.8344347742275947, 'xgb_weight': 0.6907579342367349, 'cb_weight': 0.9195909787326785, 'hgb_weight': 0.9083632949536251, 'gb_weight': 0.6762239978525011}. Best is trial 32 with value: 72569.11890835725.\n",
      "[I 2024-09-17 07:19:07,024] Trial 40 finished with value: 72569.95440194254 and parameters: {'lgbm_weight': 0.8424891473485351, 'xgb_weight': 0.8442895505619892, 'cb_weight': 0.9134204611032117, 'hgb_weight': 0.9331678184595125, 'gb_weight': 0.8732679698088432}. Best is trial 32 with value: 72569.11890835725.\n",
      "[I 2024-09-17 07:19:07,067] Trial 41 finished with value: 72569.80212610248 and parameters: {'lgbm_weight': 0.8351912602586169, 'xgb_weight': 0.8028828611078036, 'cb_weight': 0.9339323458961654, 'hgb_weight': 0.9332635161098753, 'gb_weight': 0.8242815169392924}. Best is trial 32 with value: 72569.11890835725.\n",
      "[I 2024-09-17 07:19:07,111] Trial 42 finished with value: 72569.6658309338 and parameters: {'lgbm_weight': 0.8923349680182684, 'xgb_weight': 0.8456973203555107, 'cb_weight': 0.9190675036031831, 'hgb_weight': 0.9500858696131974, 'gb_weight': 0.8632749298082176}. Best is trial 32 with value: 72569.11890835725.\n",
      "[I 2024-09-17 07:19:07,154] Trial 43 finished with value: 72569.55043915563 and parameters: {'lgbm_weight': 0.9200366891311474, 'xgb_weight': 0.8348861868546648, 'cb_weight': 0.9341208047237587, 'hgb_weight': 0.9485594080722531, 'gb_weight': 0.884880415805053}. Best is trial 32 with value: 72569.11890835725.\n",
      "[I 2024-09-17 07:19:07,198] Trial 44 finished with value: 72570.1412128274 and parameters: {'lgbm_weight': 0.9418024380620441, 'xgb_weight': 0.9575616149784975, 'cb_weight': 0.9436539268849348, 'hgb_weight': 0.9551984754939001, 'gb_weight': 0.95856135405059}. Best is trial 32 with value: 72569.11890835725.\n",
      "[I 2024-09-17 07:19:07,242] Trial 45 finished with value: 72569.18734996874 and parameters: {'lgbm_weight': 0.9902479711120021, 'xgb_weight': 0.8315401876223383, 'cb_weight': 0.8936459854717803, 'hgb_weight': 0.9956303395671576, 'gb_weight': 0.8297663359443187}. Best is trial 32 with value: 72569.11890835725.\n",
      "[I 2024-09-17 07:19:07,287] Trial 46 finished with value: 72569.45570039749 and parameters: {'lgbm_weight': 0.9918132663288132, 'xgb_weight': 0.879317693605494, 'cb_weight': 0.8849398616463472, 'hgb_weight': 0.9931459371554698, 'gb_weight': 0.919368284073377}. Best is trial 32 with value: 72569.11890835725.\n",
      "[I 2024-09-17 07:19:07,332] Trial 47 finished with value: 72581.57768471236 and parameters: {'lgbm_weight': 0.9987766341364188, 'xgb_weight': 0.992688806556228, 'cb_weight': 0.8773621171206017, 'hgb_weight': 0.20312293984180474, 'gb_weight': 0.9347163816348555}. Best is trial 32 with value: 72569.11890835725.\n",
      "[I 2024-09-17 07:19:07,375] Trial 48 finished with value: 72569.12829634646 and parameters: {'lgbm_weight': 0.9487833091845432, 'xgb_weight': 0.7134550490300243, 'cb_weight': 0.9834588532482357, 'hgb_weight': 0.9747372364577073, 'gb_weight': 0.7537277426005656}. Best is trial 32 with value: 72569.11890835725.\n",
      "[I 2024-09-17 07:19:07,419] Trial 49 finished with value: 72569.38583683978 and parameters: {'lgbm_weight': 0.9763537996341882, 'xgb_weight': 0.6923900011072985, 'cb_weight': 0.9982930521989486, 'hgb_weight': 0.9003635358381858, 'gb_weight': 0.7547631861371978}. Best is trial 32 with value: 72569.11890835725.\n",
      "[I 2024-09-17 07:19:07,464] Trial 50 finished with value: 72570.0718306518 and parameters: {'lgbm_weight': 0.9426569387672961, 'xgb_weight': 0.9189086136297829, 'cb_weight': 0.9950404718231466, 'hgb_weight': 0.9993354571660139, 'gb_weight': 0.7433984161845185}. Best is trial 32 with value: 72569.11890835725.\n",
      "[I 2024-09-17 07:19:07,508] Trial 51 finished with value: 72569.26817843915 and parameters: {'lgbm_weight': 0.9725517594525807, 'xgb_weight': 0.6969764092972599, 'cb_weight': 0.9786648406313677, 'hgb_weight': 0.8964451034124767, 'gb_weight': 0.7835888788850283}. Best is trial 32 with value: 72569.11890835725.\n",
      "[I 2024-09-17 07:19:07,554] Trial 52 finished with value: 72568.98413118698 and parameters: {'lgbm_weight': 0.9754073307941469, 'xgb_weight': 0.730844761406406, 'cb_weight': 0.9668873942266398, 'hgb_weight': 0.9957857721094229, 'gb_weight': 0.7759187688980388}. Best is trial 52 with value: 72568.98413118698.\n",
      "[I 2024-09-17 07:19:07,598] Trial 53 finished with value: 72569.41573694756 and parameters: {'lgbm_weight': 0.9471383316409401, 'xgb_weight': 0.7254074818359209, 'cb_weight': 0.9657047438165792, 'hgb_weight': 0.8839768830195467, 'gb_weight': 0.7717155087923533}. Best is trial 52 with value: 72568.98413118698.\n",
      "[I 2024-09-17 07:19:07,643] Trial 54 finished with value: 72569.70202513026 and parameters: {'lgbm_weight': 0.8834625466603839, 'xgb_weight': 0.6163415401882324, 'cb_weight': 0.9609487112186441, 'hgb_weight': 0.794031640676194, 'gb_weight': 0.7150736095871222}. Best is trial 52 with value: 72568.98413118698.\n",
      "[I 2024-09-17 07:19:07,687] Trial 55 finished with value: 72569.33442135077 and parameters: {'lgbm_weight': 0.9674483431724711, 'xgb_weight': 0.7081259415813518, 'cb_weight': 0.9968128522087735, 'hgb_weight': 0.8958903706158218, 'gb_weight': 0.81060429051755}. Best is trial 52 with value: 72568.98413118698.\n",
      "[I 2024-09-17 07:19:07,731] Trial 56 finished with value: 72569.65307230272 and parameters: {'lgbm_weight': 0.9603601274120411, 'xgb_weight': 0.7814484720903887, 'cb_weight': 0.751189648688979, 'hgb_weight': 0.843519724028573, 'gb_weight': 0.8115570651364714}. Best is trial 52 with value: 72568.98413118698.\n",
      "[I 2024-09-17 07:19:07,778] Trial 57 finished with value: 72569.25699453749 and parameters: {'lgbm_weight': 0.9060879592388171, 'xgb_weight': 0.7347848012869298, 'cb_weight': 0.8845145677622439, 'hgb_weight': 0.9596519558787124, 'gb_weight': 0.6486632719557257}. Best is trial 52 with value: 72568.98413118698.\n",
      "[I 2024-09-17 07:19:07,824] Trial 58 finished with value: 72569.29918522098 and parameters: {'lgbm_weight': 0.7968713782797888, 'xgb_weight': 0.6612516216334186, 'cb_weight': 0.8649315952221299, 'hgb_weight': 0.9645861467965193, 'gb_weight': 0.6346672787916244}. Best is trial 52 with value: 72568.98413118698.\n",
      "[I 2024-09-17 07:19:07,869] Trial 59 finished with value: 72570.86376815685 and parameters: {'lgbm_weight': 0.9094970297791685, 'xgb_weight': 0.8023289348693979, 'cb_weight': 0.4858155507174448, 'hgb_weight': 0.963907031734646, 'gb_weight': 0.6664483144557237}. Best is trial 52 with value: 72568.98413118698.\n",
      "[I 2024-09-17 07:19:07,916] Trial 60 finished with value: 72577.57720613453 and parameters: {'lgbm_weight': 0.3514312813642673, 'xgb_weight': 0.7471097446223058, 'cb_weight': 0.9016791649545804, 'hgb_weight': 0.7518488771312454, 'gb_weight': 0.7151539172281041}. Best is trial 52 with value: 72568.98413118698.\n",
      "[I 2024-09-17 07:19:07,962] Trial 61 finished with value: 72569.03183704549 and parameters: {'lgbm_weight': 0.8755996981658069, 'xgb_weight': 0.6628447036627481, 'cb_weight': 0.8726230367933889, 'hgb_weight': 0.9681575020684592, 'gb_weight': 0.6276998750463584}. Best is trial 52 with value: 72568.98413118698.\n",
      "[I 2024-09-17 07:19:08,008] Trial 62 finished with value: 72569.49441863144 and parameters: {'lgbm_weight': 0.8646718071573211, 'xgb_weight': 0.6093550071335269, 'cb_weight': 0.9602296760721151, 'hgb_weight': 0.9673768514266683, 'gb_weight': 0.5947724443795338}. Best is trial 52 with value: 72568.98413118698.\n",
      "[I 2024-09-17 07:19:08,053] Trial 63 finished with value: 72569.20550037785 and parameters: {'lgbm_weight': 0.91665719755372, 'xgb_weight': 0.6626706815082081, 'cb_weight': 0.8615221562196884, 'hgb_weight': 0.8197902036956013, 'gb_weight': 0.8420653049311095}. Best is trial 52 with value: 72568.98413118698.\n",
      "[I 2024-09-17 07:19:08,098] Trial 64 finished with value: 72569.32932098804 and parameters: {'lgbm_weight': 0.9102683927728078, 'xgb_weight': 0.6652655992195328, 'cb_weight': 0.7193700845721188, 'hgb_weight': 0.8147384668008593, 'gb_weight': 0.8332784932283901}. Best is trial 52 with value: 72568.98413118698.\n",
      "[I 2024-09-17 07:19:08,143] Trial 65 finished with value: 72569.29170251108 and parameters: {'lgbm_weight': 0.8634850114280588, 'xgb_weight': 0.45453427127656343, 'cb_weight': 0.7806818837191416, 'hgb_weight': 0.6826934531678801, 'gb_weight': 0.7099105729337154}. Best is trial 52 with value: 72568.98413118698.\n",
      "[I 2024-09-17 07:19:08,191] Trial 66 finished with value: 72569.76385668744 and parameters: {'lgbm_weight': 0.8089865556503704, 'xgb_weight': 0.7450749641505345, 'cb_weight': 0.8608944324807747, 'hgb_weight': 0.863284457199277, 'gb_weight': 0.6498676352094429}. Best is trial 52 with value: 72568.98413118698.\n",
      "[I 2024-09-17 07:19:08,238] Trial 67 finished with value: 72570.2319840969 and parameters: {'lgbm_weight': 0.9299847397727533, 'xgb_weight': 0.8003404577519958, 'cb_weight': 0.8923504408971433, 'hgb_weight': 0.9220973555087764, 'gb_weight': 0.5650123549055155}. Best is trial 52 with value: 72568.98413118698.\n",
      "[I 2024-09-17 07:19:08,284] Trial 68 finished with value: 72574.44252976708 and parameters: {'lgbm_weight': 0.8827638125894042, 'xgb_weight': 0.5867700863211028, 'cb_weight': 0.6406927930088855, 'hgb_weight': 0.3753415006148715, 'gb_weight': 0.841268445051685}. Best is trial 52 with value: 72568.98413118698.\n",
      "[I 2024-09-17 07:19:08,351] Trial 69 finished with value: 72570.56379600457 and parameters: {'lgbm_weight': 0.7479822315289176, 'xgb_weight': 0.8759605108254058, 'cb_weight': 0.8133111335847859, 'hgb_weight': 0.9976066733937531, 'gb_weight': 0.7759375229598556}. Best is trial 52 with value: 72568.98413118698.\n",
      "[I 2024-09-17 07:19:08,406] Trial 70 finished with value: 72572.22792041273 and parameters: {'lgbm_weight': 0.9120459626229115, 'xgb_weight': 0.6524923075333461, 'cb_weight': 0.4294665231996925, 'hgb_weight': 0.832570455662302, 'gb_weight': 0.8911496576385156}. Best is trial 52 with value: 72568.98413118698.\n",
      "[I 2024-09-17 07:19:08,451] Trial 71 finished with value: 72569.17536670972 and parameters: {'lgbm_weight': 0.9659418600479216, 'xgb_weight': 0.6925310001804389, 'cb_weight': 0.9655648415753693, 'hgb_weight': 0.9064623322849923, 'gb_weight': 0.7756837072709802}. Best is trial 52 with value: 72568.98413118698.\n",
      "[I 2024-09-17 07:19:08,497] Trial 72 finished with value: 72570.01464252066 and parameters: {'lgbm_weight': 0.9456772316927331, 'xgb_weight': 0.7311695583912851, 'cb_weight': 0.8507266060229327, 'hgb_weight': 0.964747959730377, 'gb_weight': 0.49623501879390136}. Best is trial 52 with value: 72568.98413118698.\n",
      "[I 2024-09-17 07:19:08,542] Trial 73 finished with value: 72569.97428968546 and parameters: {'lgbm_weight': 0.9984712568724842, 'xgb_weight': 0.6401492285864955, 'cb_weight': 0.9006608533515107, 'hgb_weight': 0.7778660636491398, 'gb_weight': 0.685604197365008}. Best is trial 52 with value: 72568.98413118698.\n",
      "[I 2024-09-17 07:19:08,586] Trial 74 finished with value: 72569.4306447924 and parameters: {'lgbm_weight': 0.8736257609232497, 'xgb_weight': 0.6891506079444106, 'cb_weight': 0.9446747053092079, 'hgb_weight': 0.8663252055875115, 'gb_weight': 0.7485968444494114}. Best is trial 52 with value: 72568.98413118698.\n",
      "[I 2024-09-17 07:19:08,631] Trial 75 finished with value: 72570.05186825397 and parameters: {'lgbm_weight': 0.7767000064639052, 'xgb_weight': 0.8161231942659543, 'cb_weight': 0.7651924502770391, 'hgb_weight': 0.9201141933197907, 'gb_weight': 0.6110353847854458}. Best is trial 52 with value: 72568.98413118698.\n",
      "[I 2024-09-17 07:19:08,677] Trial 76 finished with value: 72592.97214356397 and parameters: {'lgbm_weight': 0.2579603985631975, 'xgb_weight': 0.7731528449846823, 'cb_weight': 0.16676673203634929, 'hgb_weight': 0.9783655881907246, 'gb_weight': 0.7976497911445549}. Best is trial 52 with value: 72568.98413118698.\n",
      "[I 2024-09-17 07:19:08,724] Trial 77 finished with value: 72579.62810504594 and parameters: {'lgbm_weight': 0.9616132435544255, 'xgb_weight': 0.6077015960395543, 'cb_weight': 0.5245407451116099, 'hgb_weight': 0.27188167626458276, 'gb_weight': 0.9864053817693876}. Best is trial 52 with value: 72568.98413118698.\n",
      "[I 2024-09-17 07:19:08,771] Trial 78 finished with value: 72574.57895427378 and parameters: {'lgbm_weight': 0.8424321218057919, 'xgb_weight': 0.13987673660410238, 'cb_weight': 0.5857358401541422, 'hgb_weight': 0.46114737752515755, 'gb_weight': 0.8552289630963716}. Best is trial 52 with value: 72568.98413118698.\n",
      "[I 2024-09-17 07:19:08,817] Trial 79 finished with value: 72569.59621902241 and parameters: {'lgbm_weight': 0.899540138646328, 'xgb_weight': 0.551839304029547, 'cb_weight': 0.8196986599684966, 'hgb_weight': 0.9412446327163102, 'gb_weight': 0.4484009417168219}. Best is trial 52 with value: 72568.98413118698.\n",
      "[I 2024-09-17 07:19:08,863] Trial 80 finished with value: 72569.86416205806 and parameters: {'lgbm_weight': 0.9251731346517832, 'xgb_weight': 0.7619116536163906, 'cb_weight': 0.9635513741832777, 'hgb_weight': 0.813313635431487, 'gb_weight': 0.9094389565692818}. Best is trial 52 with value: 72568.98413118698.\n",
      "[I 2024-09-17 07:19:08,911] Trial 81 finished with value: 72569.1917685037 and parameters: {'lgbm_weight': 0.9882266284584503, 'xgb_weight': 0.7025737585455526, 'cb_weight': 0.9546526247253747, 'hgb_weight': 0.9014547155272135, 'gb_weight': 0.7779506424961046}. Best is trial 52 with value: 72568.98413118698.\n",
      "[I 2024-09-17 07:19:08,956] Trial 82 finished with value: 72568.95916269578 and parameters: {'lgbm_weight': 0.9749254383160982, 'xgb_weight': 0.6724269210015987, 'cb_weight': 0.8837604727772657, 'hgb_weight': 0.9095271969720078, 'gb_weight': 0.7262352137429777}. Best is trial 82 with value: 72568.95916269578.\n",
      "[I 2024-09-17 07:19:09,003] Trial 83 finished with value: 72583.92625460941 and parameters: {'lgbm_weight': 0.9783944968476138, 'xgb_weight': 0.6719121451684987, 'cb_weight': 0.003127283519578139, 'hgb_weight': 0.8808136724456467, 'gb_weight': 0.7280842238116965}. Best is trial 82 with value: 72568.95916269578.\n",
      "[I 2024-09-17 07:19:09,049] Trial 84 finished with value: 72568.67307447607 and parameters: {'lgbm_weight': 0.9529567992270781, 'xgb_weight': 0.5046088680771291, 'cb_weight': 0.9143892522377391, 'hgb_weight': 0.9147326710037671, 'gb_weight': 0.7678101199057219}. Best is trial 84 with value: 72568.67307447607.\n",
      "[I 2024-09-17 07:19:09,098] Trial 85 finished with value: 72568.8253373753 and parameters: {'lgbm_weight': 0.9535858645730929, 'xgb_weight': 0.49767888885896316, 'cb_weight': 0.923514704928056, 'hgb_weight': 0.9099488578442972, 'gb_weight': 0.6904682430502029}. Best is trial 84 with value: 72568.67307447607.\n",
      "[I 2024-09-17 07:19:09,144] Trial 86 finished with value: 72568.72549264914 and parameters: {'lgbm_weight': 0.9505713371427907, 'xgb_weight': 0.49615558796660025, 'cb_weight': 0.9172006496523795, 'hgb_weight': 0.926664912174712, 'gb_weight': 0.6998908403502767}. Best is trial 84 with value: 72568.67307447607.\n",
      "[I 2024-09-17 07:19:09,190] Trial 87 finished with value: 72568.87080519722 and parameters: {'lgbm_weight': 0.9531171666752354, 'xgb_weight': 0.4355748183157171, 'cb_weight': 0.9358308221941032, 'hgb_weight': 0.9213704560072801, 'gb_weight': 0.6948524926435216}. Best is trial 84 with value: 72568.67307447607.\n",
      "[I 2024-09-17 07:19:09,235] Trial 88 finished with value: 72569.00754641273 and parameters: {'lgbm_weight': 0.8575693548526289, 'xgb_weight': 0.48908737587489154, 'cb_weight': 0.9110112357592488, 'hgb_weight': 0.8490461712570067, 'gb_weight': 0.6865569317346166}. Best is trial 84 with value: 72568.67307447607.\n",
      "[I 2024-09-17 07:19:09,281] Trial 89 finished with value: 72568.66798295673 and parameters: {'lgbm_weight': 0.8600494979750751, 'xgb_weight': 0.4842373265711752, 'cb_weight': 0.84242118740431, 'hgb_weight': 0.8509849382478787, 'gb_weight': 0.6962965565026248}. Best is trial 89 with value: 72568.66798295673.\n",
      "[I 2024-09-17 07:19:09,328] Trial 90 finished with value: 72594.06998692064 and parameters: {'lgbm_weight': 0.07178160792739208, 'xgb_weight': 0.4342124701889473, 'cb_weight': 0.9204414382808813, 'hgb_weight': 0.8486472816973537, 'gb_weight': 0.7016649174563745}. Best is trial 89 with value: 72568.66798295673.\n",
      "[I 2024-09-17 07:19:09,374] Trial 91 finished with value: 72568.55734777913 and parameters: {'lgbm_weight': 0.8644341503713568, 'xgb_weight': 0.4841000044593311, 'cb_weight': 0.8402444487573719, 'hgb_weight': 0.9302927822821402, 'gb_weight': 0.6829106664985407}. Best is trial 91 with value: 72568.55734777913.\n",
      "[I 2024-09-17 07:19:09,418] Trial 92 finished with value: 72568.6849636203 and parameters: {'lgbm_weight': 0.8247033077493549, 'xgb_weight': 0.4791187445197737, 'cb_weight': 0.8398990380560418, 'hgb_weight': 0.923226773490458, 'gb_weight': 0.6910909415175717}. Best is trial 91 with value: 72568.55734777913.\n",
      "[I 2024-09-17 07:19:09,464] Trial 93 finished with value: 72568.69231745099 and parameters: {'lgbm_weight': 0.8240370852140968, 'xgb_weight': 0.4691973023895948, 'cb_weight': 0.8397227862157927, 'hgb_weight': 0.9250204487331354, 'gb_weight': 0.6914355824273205}. Best is trial 91 with value: 72568.55734777913.\n",
      "[I 2024-09-17 07:19:09,510] Trial 94 finished with value: 72568.87101962368 and parameters: {'lgbm_weight': 0.8246716774485514, 'xgb_weight': 0.38483066709123387, 'cb_weight': 0.837985442557332, 'hgb_weight': 0.9244443787219961, 'gb_weight': 0.5934511086071221}. Best is trial 91 with value: 72568.55734777913.\n",
      "[I 2024-09-17 07:19:09,557] Trial 95 finished with value: 72568.76226833502 and parameters: {'lgbm_weight': 0.8154062734119853, 'xgb_weight': 0.36145215571188155, 'cb_weight': 0.7869048668146169, 'hgb_weight': 0.930283356398281, 'gb_weight': 0.5981702829503254}. Best is trial 91 with value: 72568.55734777913.\n",
      "[I 2024-09-17 07:19:09,603] Trial 96 finished with value: 72569.07058237486 and parameters: {'lgbm_weight': 0.8016949131281274, 'xgb_weight': 0.3727438687445082, 'cb_weight': 0.8321283734882312, 'hgb_weight': 0.9323229372892536, 'gb_weight': 0.5527580653901728}. Best is trial 91 with value: 72568.55734777913.\n",
      "[I 2024-09-17 07:19:09,649] Trial 97 finished with value: 72568.98513696235 and parameters: {'lgbm_weight': 0.739028861493656, 'xgb_weight': 0.4285056737895238, 'cb_weight': 0.8037012132764347, 'hgb_weight': 0.8769869077824236, 'gb_weight': 0.6610753132000246}. Best is trial 91 with value: 72568.55734777913.\n",
      "[I 2024-09-17 07:19:09,696] Trial 98 finished with value: 72569.09330154886 and parameters: {'lgbm_weight': 0.8269277743705703, 'xgb_weight': 0.3209235954563999, 'cb_weight': 0.8424681190935039, 'hgb_weight': 0.9343692540635599, 'gb_weight': 0.6013463908202439}. Best is trial 91 with value: 72568.55734777913.\n",
      "[I 2024-09-17 07:19:09,743] Trial 99 finished with value: 72568.53915712536 and parameters: {'lgbm_weight': 0.7770239133854839, 'xgb_weight': 0.4668264169382204, 'cb_weight': 0.7402905709748725, 'hgb_weight': 0.8665111788665947, 'gb_weight': 0.5939754731483162}. Best is trial 99 with value: 72568.53915712536.\n",
      "[I 2024-09-17 07:19:09,790] Trial 100 finished with value: 72582.9476683769 and parameters: {'lgbm_weight': 0.7745192593009995, 'xgb_weight': 0.4736086383338562, 'cb_weight': 0.7426855999778033, 'hgb_weight': 0.09184615913899064, 'gb_weight': 0.695942513232856}. Best is trial 99 with value: 72568.53915712536.\n",
      "[I 2024-09-17 07:19:09,836] Trial 101 finished with value: 72568.99484073246 and parameters: {'lgbm_weight': 0.7231160665431677, 'xgb_weight': 0.5174696964699284, 'cb_weight': 0.772166447882272, 'hgb_weight': 0.8884533179443949, 'gb_weight': 0.5903562319977823}. Best is trial 99 with value: 72568.53915712536.\n",
      "[I 2024-09-17 07:19:09,886] Trial 102 finished with value: 72568.4985492898 and parameters: {'lgbm_weight': 0.8164875087138259, 'xgb_weight': 0.39386753567150673, 'cb_weight': 0.6779227949241202, 'hgb_weight': 0.8732832091666002, 'gb_weight': 0.6334870540421993}. Best is trial 102 with value: 72568.4985492898.\n",
      "[I 2024-09-17 07:19:09,933] Trial 103 finished with value: 72568.4388050225 and parameters: {'lgbm_weight': 0.8129516142522921, 'xgb_weight': 0.4682013681893569, 'cb_weight': 0.6820744217613051, 'hgb_weight': 0.8558771181124815, 'gb_weight': 0.6381698782599214}. Best is trial 103 with value: 72568.4388050225.\n",
      "[I 2024-09-17 07:19:09,980] Trial 104 finished with value: 72569.25186154843 and parameters: {'lgbm_weight': 0.6623191840757214, 'xgb_weight': 0.46655911254137605, 'cb_weight': 0.6720801351894188, 'hgb_weight': 0.866257919041041, 'gb_weight': 0.6418918521961756}. Best is trial 103 with value: 72568.4388050225.\n",
      "[I 2024-09-17 07:19:10,030] Trial 105 finished with value: 72568.64170630834 and parameters: {'lgbm_weight': 0.7899678919371067, 'xgb_weight': 0.5292755721529322, 'cb_weight': 0.7239749274754763, 'hgb_weight': 0.7986015765194789, 'gb_weight': 0.6683719832407136}. Best is trial 103 with value: 72568.4388050225.\n",
      "[I 2024-09-17 07:19:10,077] Trial 106 finished with value: 72568.53560984411 and parameters: {'lgbm_weight': 0.7911770781061, 'xgb_weight': 0.4054240067320086, 'cb_weight': 0.7258568590307191, 'hgb_weight': 0.8339099160276687, 'gb_weight': 0.6666197448366348}. Best is trial 103 with value: 72568.4388050225.\n",
      "[I 2024-09-17 07:19:10,124] Trial 107 finished with value: 72568.66455827399 and parameters: {'lgbm_weight': 0.7956229438488321, 'xgb_weight': 0.41731496265734136, 'cb_weight': 0.7090096467418457, 'hgb_weight': 0.7310026993323577, 'gb_weight': 0.6618876651673191}. Best is trial 103 with value: 72568.4388050225.\n",
      "[I 2024-09-17 07:19:10,172] Trial 108 finished with value: 72568.73088435513 and parameters: {'lgbm_weight': 0.792242223467796, 'xgb_weight': 0.4112726807460291, 'cb_weight': 0.7195268795013727, 'hgb_weight': 0.719235858372092, 'gb_weight': 0.6685352078586764}. Best is trial 103 with value: 72568.4388050225.\n",
      "[I 2024-09-17 07:19:10,222] Trial 109 finished with value: 72568.71638428984 and parameters: {'lgbm_weight': 0.7629119764625447, 'xgb_weight': 0.5294968608326875, 'cb_weight': 0.6140496872419741, 'hgb_weight': 0.7926954607462907, 'gb_weight': 0.6373514130944731}. Best is trial 103 with value: 72568.4388050225.\n",
      "[I 2024-09-17 07:19:10,270] Trial 110 finished with value: 72568.69619833567 and parameters: {'lgbm_weight': 0.722976040183418, 'xgb_weight': 0.455301575315084, 'cb_weight': 0.6988786810991401, 'hgb_weight': 0.7482643356734674, 'gb_weight': 0.530905446418257}. Best is trial 103 with value: 72568.4388050225.\n",
      "[I 2024-09-17 07:19:10,318] Trial 111 finished with value: 72569.61189738428 and parameters: {'lgbm_weight': 0.8517596819571793, 'xgb_weight': 0.4585928038518778, 'cb_weight': 0.6673211319803805, 'hgb_weight': 0.6710572127473787, 'gb_weight': 0.5378284002160981}. Best is trial 103 with value: 72568.4388050225.\n",
      "[I 2024-09-17 07:19:10,365] Trial 112 finished with value: 72568.62727518434 and parameters: {'lgbm_weight': 0.7225811964582824, 'xgb_weight': 0.33619824664221826, 'cb_weight': 0.685661905968716, 'hgb_weight': 0.7549079020504943, 'gb_weight': 0.5231254570088342}. Best is trial 103 with value: 72568.4388050225.\n",
      "[I 2024-09-17 07:19:10,413] Trial 113 finished with value: 72568.70870956205 and parameters: {'lgbm_weight': 0.7900382555596657, 'xgb_weight': 0.32771518104205877, 'cb_weight': 0.7177179829657195, 'hgb_weight': 0.7644557085294317, 'gb_weight': 0.5663335496847822}. Best is trial 103 with value: 72568.4388050225.\n",
      "[I 2024-09-17 07:19:10,460] Trial 114 finished with value: 72569.12379802382 and parameters: {'lgbm_weight': 0.6887577531855616, 'xgb_weight': 0.28492891742787496, 'cb_weight': 0.6615346105713197, 'hgb_weight': 0.8015001431435836, 'gb_weight': 0.6222954446551024}. Best is trial 103 with value: 72568.4388050225.\n",
      "[I 2024-09-17 07:19:10,509] Trial 115 finished with value: 72568.66871342392 and parameters: {'lgbm_weight': 0.7592635043462312, 'xgb_weight': 0.39117583807923034, 'cb_weight': 0.7390956993099004, 'hgb_weight': 0.8277686314225798, 'gb_weight': 0.6649142394046523}. Best is trial 103 with value: 72568.4388050225.\n",
      "[I 2024-09-17 07:19:10,559] Trial 116 finished with value: 72568.75582725316 and parameters: {'lgbm_weight': 0.751922800866191, 'xgb_weight': 0.3984924559793532, 'cb_weight': 0.7359641830239213, 'hgb_weight': 0.7327034388970973, 'gb_weight': 0.6721338083684552}. Best is trial 103 with value: 72568.4388050225.\n",
      "[I 2024-09-17 07:19:10,610] Trial 117 finished with value: 72569.40392425569 and parameters: {'lgbm_weight': 0.6693432201024984, 'xgb_weight': 0.33975825414506833, 'cb_weight': 0.6192341225258539, 'hgb_weight': 0.8323500681869982, 'gb_weight': 0.6550653347768152}. Best is trial 103 with value: 72568.4388050225.\n",
      "[I 2024-09-17 07:19:10,659] Trial 118 finished with value: 72568.5991688005 and parameters: {'lgbm_weight': 0.7702862974318162, 'xgb_weight': 0.4178910763285401, 'cb_weight': 0.6885085804131307, 'hgb_weight': 0.7809052700502952, 'gb_weight': 0.5128815671048442}. Best is trial 103 with value: 72568.4388050225.\n",
      "[I 2024-09-17 07:19:10,708] Trial 119 finished with value: 72568.77957745055 and parameters: {'lgbm_weight': 0.7372424444669952, 'xgb_weight': 0.41745389645571523, 'cb_weight': 0.6913578776896807, 'hgb_weight': 0.7080980942602891, 'gb_weight': 0.5165542039229152}. Best is trial 103 with value: 72568.4388050225.\n",
      "[I 2024-09-17 07:19:10,757] Trial 120 finished with value: 72568.91279546927 and parameters: {'lgbm_weight': 0.7696574236177124, 'xgb_weight': 0.5688893965376067, 'cb_weight': 0.7404222587658721, 'hgb_weight': 0.772445560701157, 'gb_weight': 0.6172653726934744}. Best is trial 103 with value: 72568.4388050225.\n",
      "[I 2024-09-17 07:19:10,805] Trial 121 finished with value: 72569.47665482672 and parameters: {'lgbm_weight': 0.8050183055815953, 'xgb_weight': 0.3814855417377263, 'cb_weight': 0.6907905481581698, 'hgb_weight': 0.6208040308381585, 'gb_weight': 0.5751735641173833}. Best is trial 103 with value: 72568.4388050225.\n",
      "[I 2024-09-17 07:19:10,855] Trial 122 finished with value: 72568.63153968842 and parameters: {'lgbm_weight': 0.849749390937957, 'xgb_weight': 0.5121486771591618, 'cb_weight': 0.7666333611125427, 'hgb_weight': 0.8211214092910597, 'gb_weight': 0.7326861685480509}. Best is trial 103 with value: 72568.4388050225.\n",
      "[I 2024-09-17 07:19:10,905] Trial 123 finished with value: 72569.24188793327 and parameters: {'lgbm_weight': 0.7091918260896367, 'xgb_weight': 0.305736862881424, 'cb_weight': 0.7598554906242746, 'hgb_weight': 0.8122658698101025, 'gb_weight': 0.5040360404083453}. Best is trial 103 with value: 72568.4388050225.\n",
      "[I 2024-09-17 07:19:10,954] Trial 124 finished with value: 72568.8685827634 and parameters: {'lgbm_weight': 0.7910750937857767, 'xgb_weight': 0.35395310344288133, 'cb_weight': 0.7252450629012059, 'hgb_weight': 0.7905699545017538, 'gb_weight': 0.7314014056614793}. Best is trial 103 with value: 72568.4388050225.\n",
      "[I 2024-09-17 07:19:11,002] Trial 125 finished with value: 72571.5075036142 and parameters: {'lgbm_weight': 0.8497651435389787, 'xgb_weight': 0.50869001553232, 'cb_weight': 0.652908623942935, 'hgb_weight': 0.58703382767815, 'gb_weight': 0.4622071181803239}. Best is trial 103 with value: 72568.4388050225.\n",
      "[I 2024-09-17 07:19:11,050] Trial 126 finished with value: 72568.51248199106 and parameters: {'lgbm_weight': 0.7618236662712826, 'xgb_weight': 0.44543736919446475, 'cb_weight': 0.7036421577292663, 'hgb_weight': 0.8254989771675141, 'gb_weight': 0.6408137630017724}. Best is trial 103 with value: 72568.4388050225.\n",
      "[I 2024-09-17 07:19:11,099] Trial 127 finished with value: 72569.65391699296 and parameters: {'lgbm_weight': 0.7571244664566064, 'xgb_weight': 0.23964516788783063, 'cb_weight': 0.7001325842869581, 'hgb_weight': 0.8309547827819233, 'gb_weight': 0.40952629129307616}. Best is trial 103 with value: 72568.4388050225.\n",
      "[I 2024-09-17 07:19:11,148] Trial 128 finished with value: 72568.58520601368 and parameters: {'lgbm_weight': 0.7821273941445293, 'xgb_weight': 0.39882031051585687, 'cb_weight': 0.6286984069308309, 'hgb_weight': 0.8464619331584997, 'gb_weight': 0.633351638551972}. Best is trial 103 with value: 72568.4388050225.\n",
      "[I 2024-09-17 07:19:11,197] Trial 129 finished with value: 72568.48881927146 and parameters: {'lgbm_weight': 0.8061454011863076, 'xgb_weight': 0.4480195829872252, 'cb_weight': 0.6284303358336099, 'hgb_weight': 0.8505319171195528, 'gb_weight': 0.5501244972093499}. Best is trial 103 with value: 72568.4388050225.\n",
      "[I 2024-09-17 07:19:11,246] Trial 130 finished with value: 72568.78963462322 and parameters: {'lgbm_weight': 0.7827346898279697, 'xgb_weight': 0.4422730095553047, 'cb_weight': 0.5655343961092653, 'hgb_weight': 0.7576846513755756, 'gb_weight': 0.4888803729378266}. Best is trial 103 with value: 72568.4388050225.\n",
      "[I 2024-09-17 07:19:11,296] Trial 131 finished with value: 72568.724340144 and parameters: {'lgbm_weight': 0.8394806782533406, 'xgb_weight': 0.5360135400119852, 'cb_weight': 0.6255233933501488, 'hgb_weight': 0.8536024428348974, 'gb_weight': 0.5534618001435734}. Best is trial 103 with value: 72568.4388050225.\n",
      "[I 2024-09-17 07:19:11,344] Trial 132 finished with value: 72568.50938917622 and parameters: {'lgbm_weight': 0.8115992736188252, 'xgb_weight': 0.4224484796440551, 'cb_weight': 0.6491478559141023, 'hgb_weight': 0.7824884043723672, 'gb_weight': 0.6188657226771759}. Best is trial 103 with value: 72568.4388050225.\n",
      "[I 2024-09-17 07:19:11,393] Trial 133 finished with value: 72568.66965137026 and parameters: {'lgbm_weight': 0.8097230338466141, 'xgb_weight': 0.41149426647461684, 'cb_weight': 0.5912001991166437, 'hgb_weight': 0.803834730836471, 'gb_weight': 0.6248829777521409}. Best is trial 103 with value: 72568.4388050225.\n",
      "[I 2024-09-17 07:19:11,441] Trial 134 finished with value: 72568.63350287758 and parameters: {'lgbm_weight': 0.7387302853691557, 'xgb_weight': 0.4453961891980637, 'cb_weight': 0.6781264407560462, 'hgb_weight': 0.7253560646852144, 'gb_weight': 0.6467251885283665}. Best is trial 103 with value: 72568.4388050225.\n",
      "[I 2024-09-17 07:19:11,491] Trial 135 finished with value: 72568.46301695416 and parameters: {'lgbm_weight': 0.7287060306205811, 'xgb_weight': 0.44869591892951877, 'cb_weight': 0.6500001471441046, 'hgb_weight': 0.7793301397360095, 'gb_weight': 0.5733843926343167}. Best is trial 103 with value: 72568.4388050225.\n",
      "[I 2024-09-17 07:19:11,540] Trial 136 finished with value: 72568.45866325594 and parameters: {'lgbm_weight': 0.7207940097764917, 'xgb_weight': 0.440861205353447, 'cb_weight': 0.6442737249670959, 'hgb_weight': 0.7814438833767463, 'gb_weight': 0.551426009344333}. Best is trial 103 with value: 72568.4388050225.\n",
      "[I 2024-09-17 07:19:11,588] Trial 137 finished with value: 72568.50236063845 and parameters: {'lgbm_weight': 0.6962744974483972, 'xgb_weight': 0.37480179819083936, 'cb_weight': 0.6346741213444821, 'hgb_weight': 0.7871077253758719, 'gb_weight': 0.5130352899673964}. Best is trial 103 with value: 72568.4388050225.\n",
      "[I 2024-09-17 07:19:11,638] Trial 138 finished with value: 72569.17295089061 and parameters: {'lgbm_weight': 0.5967703518051519, 'xgb_weight': 0.37122311469789193, 'cb_weight': 0.6378114715037437, 'hgb_weight': 0.7853287717959407, 'gb_weight': 0.514682457040121}. Best is trial 103 with value: 72568.4388050225.\n",
      "[I 2024-09-17 07:19:11,687] Trial 139 finished with value: 72568.61519310084 and parameters: {'lgbm_weight': 0.7123806029678816, 'xgb_weight': 0.39764152415562376, 'cb_weight': 0.5564826737264669, 'hgb_weight': 0.7703712204161762, 'gb_weight': 0.5800863851206011}. Best is trial 103 with value: 72568.4388050225.\n",
      "[I 2024-09-17 07:19:11,737] Trial 140 finished with value: 72569.42506948636 and parameters: {'lgbm_weight': 0.6486822074538474, 'xgb_weight': 0.3968813658288215, 'cb_weight': 0.5651937361959509, 'hgb_weight': 0.872233978299925, 'gb_weight': 0.5790600456870303}. Best is trial 103 with value: 72568.4388050225.\n",
      "[I 2024-09-17 07:19:11,786] Trial 141 finished with value: 72568.49999279357 and parameters: {'lgbm_weight': 0.6970086542229673, 'xgb_weight': 0.35129214100633, 'cb_weight': 0.6090730302951253, 'hgb_weight': 0.7683418104568855, 'gb_weight': 0.5514729599277929}. Best is trial 103 with value: 72568.4388050225.\n",
      "[I 2024-09-17 07:19:11,833] Trial 142 finished with value: 72568.51619020812 and parameters: {'lgbm_weight': 0.6985125157617442, 'xgb_weight': 0.42710098606974534, 'cb_weight': 0.6063490374053724, 'hgb_weight': 0.6928035305066312, 'gb_weight': 0.5519886793757898}. Best is trial 103 with value: 72568.4388050225.\n",
      "[I 2024-09-17 07:19:11,882] Trial 143 finished with value: 72568.73228775566 and parameters: {'lgbm_weight': 0.6847217308874087, 'xgb_weight': 0.43022235872246806, 'cb_weight': 0.6033644994491495, 'hgb_weight': 0.8442319915647634, 'gb_weight': 0.5485938154912102}. Best is trial 103 with value: 72568.4388050225.\n",
      "[I 2024-09-17 07:19:11,932] Trial 144 finished with value: 72568.68881666065 and parameters: {'lgbm_weight': 0.684484160383667, 'xgb_weight': 0.4482432603985871, 'cb_weight': 0.649172637819704, 'hgb_weight': 0.7010121172174426, 'gb_weight': 0.6133173680688634}. Best is trial 103 with value: 72568.4388050225.\n",
      "[I 2024-09-17 07:19:11,981] Trial 145 finished with value: 72568.61187798387 and parameters: {'lgbm_weight': 0.7022193283136305, 'xgb_weight': 0.4243495275301656, 'cb_weight': 0.5321309896602594, 'hgb_weight': 0.7817276562122449, 'gb_weight': 0.47632534660278675}. Best is trial 103 with value: 72568.4388050225.\n",
      "[I 2024-09-17 07:19:12,030] Trial 146 finished with value: 72568.94192778143 and parameters: {'lgbm_weight': 0.7690753267606015, 'xgb_weight': 0.35292182780694514, 'cb_weight': 0.6023764495574389, 'hgb_weight': 0.6466195231656318, 'gb_weight': 0.5559873452722416}. Best is trial 103 with value: 72568.4388050225.\n",
      "[I 2024-09-17 07:19:12,080] Trial 147 finished with value: 72568.58864049318 and parameters: {'lgbm_weight': 0.7324256678480812, 'xgb_weight': 0.3686240157417583, 'cb_weight': 0.6296573912802585, 'hgb_weight': 0.8193775520344643, 'gb_weight': 0.6012324783071636}. Best is trial 103 with value: 72568.4388050225.\n",
      "[I 2024-09-17 07:19:12,128] Trial 148 finished with value: 72569.23198241631 and parameters: {'lgbm_weight': 0.6476418182911833, 'xgb_weight': 0.36126486837590815, 'cb_weight': 0.5826612261538547, 'hgb_weight': 0.8131830583247281, 'gb_weight': 0.6115343898829905}. Best is trial 103 with value: 72568.4388050225.\n",
      "[I 2024-09-17 07:19:12,177] Trial 149 finished with value: 72568.59431994733 and parameters: {'lgbm_weight': 0.7267618298701086, 'xgb_weight': 0.37869775921211357, 'cb_weight': 0.6272818219416045, 'hgb_weight': 0.8383286358059863, 'gb_weight': 0.5807354492650186}. Best is trial 103 with value: 72568.4388050225.\n",
      "[I 2024-09-17 07:19:12,225] Trial 150 finished with value: 72568.82629208987 and parameters: {'lgbm_weight': 0.7494172634790226, 'xgb_weight': 0.3070309075871344, 'cb_weight': 0.6533412718268884, 'hgb_weight': 0.8764011536510671, 'gb_weight': 0.5412616700709162}. Best is trial 103 with value: 72568.4388050225.\n",
      "[I 2024-09-17 07:19:12,275] Trial 151 finished with value: 72568.57264597705 and parameters: {'lgbm_weight': 0.7342763049797496, 'xgb_weight': 0.3871489836058017, 'cb_weight': 0.6309874716181457, 'hgb_weight': 0.8395754153739965, 'gb_weight': 0.5894472336385681}. Best is trial 103 with value: 72568.4388050225.\n",
      "[I 2024-09-17 07:19:12,325] Trial 152 finished with value: 72568.7443216519 and parameters: {'lgbm_weight': 0.7423853385310041, 'xgb_weight': 0.4609266857844941, 'cb_weight': 0.6109192009143682, 'hgb_weight': 0.861262885153533, 'gb_weight': 0.6353181399347906}. Best is trial 103 with value: 72568.4388050225.\n",
      "[I 2024-09-17 07:19:12,374] Trial 153 finished with value: 72568.65058784181 and parameters: {'lgbm_weight': 0.6987828951130566, 'xgb_weight': 0.4362462461286592, 'cb_weight': 0.6411978520591435, 'hgb_weight': 0.8218897953617924, 'gb_weight': 0.5979085918686871}. Best is trial 103 with value: 72568.4388050225.\n",
      "[I 2024-09-17 07:19:12,423] Trial 154 finished with value: 72568.80309236307 and parameters: {'lgbm_weight': 0.7080118828383509, 'xgb_weight': 0.39734167661488223, 'cb_weight': 0.6693223379406812, 'hgb_weight': 0.8830617894312905, 'gb_weight': 0.5702980629264979}. Best is trial 103 with value: 72568.4388050225.\n",
      "[I 2024-09-17 07:19:12,472] Trial 155 finished with value: 72568.64233499531 and parameters: {'lgbm_weight': 0.8071976221441765, 'xgb_weight': 0.34522846168191723, 'cb_weight': 0.6269663619312198, 'hgb_weight': 0.8429042855038232, 'gb_weight': 0.6057785988496251}. Best is trial 103 with value: 72568.4388050225.\n",
      "[I 2024-09-17 07:19:12,521] Trial 156 finished with value: 72568.90954373815 and parameters: {'lgbm_weight': 0.6667798686503067, 'xgb_weight': 0.48211826396538804, 'cb_weight': 0.5855807307301398, 'hgb_weight': 0.7423155368682419, 'gb_weight': 0.6299789898268451}. Best is trial 103 with value: 72568.4388050225.\n",
      "[I 2024-09-17 07:19:12,569] Trial 157 finished with value: 72568.49116793161 and parameters: {'lgbm_weight': 0.7294623435401115, 'xgb_weight': 0.3794464738793461, 'cb_weight': 0.6617596464326607, 'hgb_weight': 0.7937195898427065, 'gb_weight': 0.5894792186650063}. Best is trial 103 with value: 72568.4388050225.\n",
      "[I 2024-09-17 07:19:12,618] Trial 158 finished with value: 72571.0361362752 and parameters: {'lgbm_weight': 0.48278551802445036, 'xgb_weight': 0.4544715738068076, 'cb_weight': 0.6651201406078886, 'hgb_weight': 0.7651759839117339, 'gb_weight': 0.5345779380830812}. Best is trial 103 with value: 72568.4388050225.\n",
      "[I 2024-09-17 07:19:12,667] Trial 159 finished with value: 72568.41657559304 and parameters: {'lgbm_weight': 0.7774761680878309, 'xgb_weight': 0.4068706026635234, 'cb_weight': 0.6517369423255912, 'hgb_weight': 0.8094140968632875, 'gb_weight': 0.5614432822633518}. Best is trial 159 with value: 72568.41657559304.\n",
      "[I 2024-09-17 07:19:12,717] Trial 160 finished with value: 72568.4166962303 and parameters: {'lgbm_weight': 0.7567693361913537, 'xgb_weight': 0.42342864132428304, 'cb_weight': 0.6596114766140081, 'hgb_weight': 0.8024631333986786, 'gb_weight': 0.5626537252348233}. Best is trial 159 with value: 72568.41657559304.\n",
      "[I 2024-09-17 07:19:12,768] Trial 161 finished with value: 72569.22329733941 and parameters: {'lgbm_weight': 0.6116827627946251, 'xgb_weight': 0.47120816285215555, 'cb_weight': 0.6591901591122907, 'hgb_weight': 0.7959829533230555, 'gb_weight': 0.5575459101356589}. Best is trial 159 with value: 72568.41657559304.\n",
      "[I 2024-09-17 07:19:12,817] Trial 162 finished with value: 72568.44319471458 and parameters: {'lgbm_weight': 0.753725371939684, 'xgb_weight': 0.43215524376865916, 'cb_weight': 0.6812428348551108, 'hgb_weight': 0.8115437006159402, 'gb_weight': 0.5744416409520167}. Best is trial 159 with value: 72568.41657559304.\n",
      "[I 2024-09-17 07:19:12,867] Trial 163 finished with value: 72568.68186363461 and parameters: {'lgbm_weight': 0.7555672979937414, 'xgb_weight': 0.43885464778837147, 'cb_weight': 0.7035024146078476, 'hgb_weight': 0.8073823050828065, 'gb_weight': 0.4964788086850438}. Best is trial 159 with value: 72568.41657559304.\n",
      "[I 2024-09-17 07:19:12,918] Trial 164 finished with value: 72568.46419753048 and parameters: {'lgbm_weight': 0.7707287226719742, 'xgb_weight': 0.4183278365258715, 'cb_weight': 0.6850598386163219, 'hgb_weight': 0.7803109667459388, 'gb_weight': 0.5663240122512948}. Best is trial 159 with value: 72568.41657559304.\n",
      "[I 2024-09-17 07:19:12,968] Trial 165 finished with value: 72568.54214631215 and parameters: {'lgbm_weight': 0.7722297324387821, 'xgb_weight': 0.4172775274855117, 'cb_weight': 0.6810231742153534, 'hgb_weight': 0.744853807251687, 'gb_weight': 0.5649084539116876}. Best is trial 159 with value: 72568.41657559304.\n",
      "[I 2024-09-17 07:19:13,019] Trial 166 finished with value: 72568.47832186174 and parameters: {'lgbm_weight': 0.756929656376409, 'xgb_weight': 0.41990060774444943, 'cb_weight': 0.6731239267035882, 'hgb_weight': 0.7745763075484412, 'gb_weight': 0.5418318186214095}. Best is trial 159 with value: 72568.41657559304.\n",
      "[I 2024-09-17 07:19:13,067] Trial 167 finished with value: 72571.95492023446 and parameters: {'lgbm_weight': 0.8255124886202181, 'xgb_weight': 0.018207235407900146, 'cb_weight': 0.6573889022793631, 'hgb_weight': 0.767805369441452, 'gb_weight': 0.5322812162141212}. Best is trial 159 with value: 72568.41657559304.\n",
      "[I 2024-09-17 07:19:13,116] Trial 168 finished with value: 72568.74125017154 and parameters: {'lgbm_weight': 0.6871293554571103, 'xgb_weight': 0.42191729333075617, 'cb_weight': 0.7076953855202966, 'hgb_weight': 0.7900609635679845, 'gb_weight': 0.5455708782882629}. Best is trial 159 with value: 72568.41657559304.\n",
      "[I 2024-09-17 07:19:13,165] Trial 169 finished with value: 72568.67524908052 and parameters: {'lgbm_weight': 0.7134704148408653, 'xgb_weight': 0.40640408449449766, 'cb_weight': 0.6769054672189775, 'hgb_weight': 0.714473288702094, 'gb_weight': 0.5090058719089937}. Best is trial 159 with value: 72568.41657559304.\n",
      "[I 2024-09-17 07:19:13,214] Trial 170 finished with value: 72568.64071433902 and parameters: {'lgbm_weight': 0.7529119778520624, 'xgb_weight': 0.3753323609647395, 'cb_weight': 0.6116505004171554, 'hgb_weight': 0.680971493818898, 'gb_weight': 0.5669649637675443}. Best is trial 159 with value: 72568.41657559304.\n",
      "[I 2024-09-17 07:19:13,264] Trial 171 finished with value: 72568.42953279174 and parameters: {'lgbm_weight': 0.7806644041768878, 'xgb_weight': 0.44604266175915874, 'cb_weight': 0.6483126810617107, 'hgb_weight': 0.8020310259854571, 'gb_weight': 0.5878783930541952}. Best is trial 159 with value: 72568.41657559304.\n",
      "[I 2024-09-17 07:19:13,314] Trial 172 finished with value: 72577.98208428803 and parameters: {'lgbm_weight': 0.8051860640349086, 'xgb_weight': 0.43993197390314165, 'cb_weight': 0.6444891950280127, 'hgb_weight': 0.8045076390425729, 'gb_weight': 0.025261623733054628}. Best is trial 159 with value: 72568.41657559304.\n",
      "[I 2024-09-17 07:19:13,363] Trial 173 finished with value: 72568.50067931345 and parameters: {'lgbm_weight': 0.7857286742077266, 'xgb_weight': 0.4530388239224231, 'cb_weight': 0.6766958808324218, 'hgb_weight': 0.7705197161942088, 'gb_weight': 0.5833771337829786}. Best is trial 159 with value: 72568.41657559304.\n",
      "[I 2024-09-17 07:19:13,411] Trial 174 finished with value: 72568.48877324247 and parameters: {'lgbm_weight': 0.7576229794191351, 'xgb_weight': 0.44409306950498284, 'cb_weight': 0.6725468723494347, 'hgb_weight': 0.7571317762559255, 'gb_weight': 0.5815088995443607}. Best is trial 159 with value: 72568.41657559304.\n",
      "[I 2024-09-17 07:19:13,460] Trial 175 finished with value: 72568.5461392808 and parameters: {'lgbm_weight': 0.7613609710740273, 'xgb_weight': 0.4528491116742494, 'cb_weight': 0.6908505840608926, 'hgb_weight': 0.7540894678006727, 'gb_weight': 0.5796088795122425}. Best is trial 159 with value: 72568.41657559304.\n",
      "[I 2024-09-17 07:19:13,509] Trial 176 finished with value: 72568.66716768575 and parameters: {'lgbm_weight': 0.7808692767107761, 'xgb_weight': 0.48876698930058926, 'cb_weight': 0.6668306061363759, 'hgb_weight': 0.7743614156772454, 'gb_weight': 0.5268275081698585}. Best is trial 159 with value: 72568.41657559304.\n",
      "[I 2024-09-17 07:19:13,558] Trial 177 finished with value: 72568.77769955211 and parameters: {'lgbm_weight': 0.8205319709707213, 'xgb_weight': 0.4674746729242697, 'cb_weight': 0.649256656310516, 'hgb_weight': 0.733003039697641, 'gb_weight': 0.5821183653879255}. Best is trial 159 with value: 72568.41657559304.\n",
      "[I 2024-09-17 07:19:13,608] Trial 178 finished with value: 72568.52630543237 and parameters: {'lgbm_weight': 0.7329227490920034, 'xgb_weight': 0.4493270515237964, 'cb_weight': 0.6765928858441822, 'hgb_weight': 0.7862969538908912, 'gb_weight': 0.6199874171872239}. Best is trial 159 with value: 72568.41657559304.\n",
      "[I 2024-09-17 07:19:13,657] Trial 179 finished with value: 72568.58108882178 and parameters: {'lgbm_weight': 0.7532779415837428, 'xgb_weight': 0.38357683014580823, 'cb_weight': 0.700112259170444, 'hgb_weight': 0.7568099072740967, 'gb_weight': 0.5419580578183661}. Best is trial 159 with value: 72568.41657559304.\n",
      "[I 2024-09-17 07:19:13,707] Trial 180 finished with value: 72568.8137313504 and parameters: {'lgbm_weight': 0.8057320822576434, 'xgb_weight': 0.3229416247756358, 'cb_weight': 0.6609049591268564, 'hgb_weight': 0.7891599832122983, 'gb_weight': 0.4908778052709144}. Best is trial 159 with value: 72568.41657559304.\n",
      "[I 2024-09-17 07:19:13,756] Trial 181 finished with value: 72568.48109725445 and parameters: {'lgbm_weight': 0.7229616984852468, 'xgb_weight': 0.4296314418435728, 'cb_weight': 0.6059509141615739, 'hgb_weight': 0.8082356750955192, 'gb_weight': 0.5571180685586776}. Best is trial 159 with value: 72568.41657559304.\n",
      "[I 2024-09-17 07:19:13,806] Trial 182 finished with value: 72568.47998943114 and parameters: {'lgbm_weight': 0.7202251863328369, 'xgb_weight': 0.42725040454605706, 'cb_weight': 0.6473313393261697, 'hgb_weight': 0.8107212856826251, 'gb_weight': 0.5649440168417177}. Best is trial 159 with value: 72568.41657559304.\n",
      "[I 2024-09-17 07:19:13,856] Trial 183 finished with value: 72568.45744836697 and parameters: {'lgbm_weight': 0.7237995248214074, 'xgb_weight': 0.42209324026723294, 'cb_weight': 0.6449758960390206, 'hgb_weight': 0.8055091549808953, 'gb_weight': 0.5610455766296614}. Best is trial 159 with value: 72568.41657559304.\n",
      "[I 2024-09-17 07:19:13,907] Trial 184 finished with value: 72570.41679510716 and parameters: {'lgbm_weight': 0.5234544040804436, 'xgb_weight': 0.40634027331161054, 'cb_weight': 0.6153013177741659, 'hgb_weight': 0.7975895506211026, 'gb_weight': 0.5663864621480782}. Best is trial 159 with value: 72568.41657559304.\n",
      "[I 2024-09-17 07:19:13,957] Trial 185 finished with value: 72568.63651263449 and parameters: {'lgbm_weight': 0.6712996736935575, 'xgb_weight': 0.36357630470925273, 'cb_weight': 0.5940967928558337, 'hgb_weight': 0.8051112659517536, 'gb_weight': 0.5117864957397121}. Best is trial 159 with value: 72568.41657559304.\n",
      "[I 2024-09-17 07:19:14,008] Trial 186 finished with value: 72568.55012528658 and parameters: {'lgbm_weight': 0.7180780895748545, 'xgb_weight': 0.4330309076144194, 'cb_weight': 0.6765519965724927, 'hgb_weight': 0.76455720740886, 'gb_weight': 0.5304520885999799}. Best is trial 159 with value: 72568.41657559304.\n",
      "[I 2024-09-17 07:19:14,060] Trial 187 finished with value: 72589.53081580899 and parameters: {'lgbm_weight': 0.7224270362036621, 'xgb_weight': 0.39182809610001024, 'cb_weight': 0.6396546970040451, 'hgb_weight': 0.010389414523079843, 'gb_weight': 0.5617143191291216}. Best is trial 159 with value: 72568.41657559304.\n",
      "[I 2024-09-17 07:19:14,110] Trial 188 finished with value: 72568.6332972183 and parameters: {'lgbm_weight': 0.7430204110391669, 'xgb_weight': 0.47736879994510817, 'cb_weight': 0.5788583654049918, 'hgb_weight': 0.8175726770305661, 'gb_weight': 0.5876600952468806}. Best is trial 159 with value: 72568.41657559304.\n",
      "[I 2024-09-17 07:19:14,161] Trial 189 finished with value: 72568.47099908562 and parameters: {'lgbm_weight': 0.6996726620675096, 'xgb_weight': 0.4066404014435109, 'cb_weight': 0.6467418761387674, 'hgb_weight': 0.7451873655225212, 'gb_weight': 0.5448529526876911}. Best is trial 159 with value: 72568.41657559304.\n",
      "[I 2024-09-17 07:19:14,214] Trial 190 finished with value: 72568.57551739358 and parameters: {'lgbm_weight': 0.7814337264892858, 'xgb_weight': 0.42172278815843883, 'cb_weight': 0.6828389383799739, 'hgb_weight': 0.7536519468833286, 'gb_weight': 0.5482558610002757}. Best is trial 159 with value: 72568.41657559304.\n",
      "[I 2024-09-17 07:19:14,266] Trial 191 finished with value: 72568.47529431053 and parameters: {'lgbm_weight': 0.6954322482399626, 'xgb_weight': 0.405153804708515, 'cb_weight': 0.6321834733308915, 'hgb_weight': 0.7363863019776287, 'gb_weight': 0.5712916162177017}. Best is trial 159 with value: 72568.41657559304.\n",
      "[I 2024-09-17 07:19:14,318] Trial 192 finished with value: 72568.51538506441 and parameters: {'lgbm_weight': 0.7326003310293483, 'xgb_weight': 0.45972937326420693, 'cb_weight': 0.6527811665917544, 'hgb_weight': 0.7449473058294089, 'gb_weight': 0.5771821738617258}. Best is trial 159 with value: 72568.41657559304.\n",
      "[I 2024-09-17 07:19:14,370] Trial 193 finished with value: 72568.5150034962 and parameters: {'lgbm_weight': 0.7094299851221675, 'xgb_weight': 0.41038380989700773, 'cb_weight': 0.6181061342668409, 'hgb_weight': 0.7245509216256877, 'gb_weight': 0.6006463731920937}. Best is trial 159 with value: 72568.41657559304.\n",
      "[I 2024-09-17 07:19:14,422] Trial 194 finished with value: 72568.71063736886 and parameters: {'lgbm_weight': 0.6752156394907319, 'xgb_weight': 0.43882696319807796, 'cb_weight': 0.6680457142088501, 'hgb_weight': 0.8079276272430955, 'gb_weight': 0.5561176680965891}. Best is trial 159 with value: 72568.41657559304.\n",
      "[I 2024-09-17 07:19:14,474] Trial 195 finished with value: 72568.436042079 and parameters: {'lgbm_weight': 0.7480475019649799, 'xgb_weight': 0.40419379509441294, 'cb_weight': 0.6351065162172372, 'hgb_weight': 0.7676262172297629, 'gb_weight': 0.5298945464680479}. Best is trial 159 with value: 72568.41657559304.\n",
      "[I 2024-09-17 07:19:14,526] Trial 196 finished with value: 72568.481317441 and parameters: {'lgbm_weight': 0.7492965248399595, 'xgb_weight': 0.4011231146130752, 'cb_weight': 0.6013752844998822, 'hgb_weight': 0.8260652109186045, 'gb_weight': 0.5249201836396543}. Best is trial 159 with value: 72568.41657559304.\n",
      "[I 2024-09-17 07:19:14,578] Trial 197 finished with value: 72568.44330444977 and parameters: {'lgbm_weight': 0.7486206553669974, 'xgb_weight': 0.39729534502124864, 'cb_weight': 0.6374378455118593, 'hgb_weight': 0.8218178178110165, 'gb_weight': 0.5333821562611955}. Best is trial 159 with value: 72568.41657559304.\n",
      "[I 2024-09-17 07:19:14,630] Trial 198 finished with value: 72568.66930008573 and parameters: {'lgbm_weight': 0.7476906278122439, 'xgb_weight': 0.41155129889113695, 'cb_weight': 0.5434312323256137, 'hgb_weight': 0.8261412369508159, 'gb_weight': 0.5278120810520598}. Best is trial 159 with value: 72568.41657559304.\n",
      "[I 2024-09-17 07:19:14,681] Trial 199 finished with value: 72571.93303021809 and parameters: {'lgbm_weight': 0.7302233268580234, 'xgb_weight': 0.3931908790177383, 'cb_weight': 0.3482296045422735, 'hgb_weight': 0.5199197269103019, 'gb_weight': 0.4913882953755032}. Best is trial 159 with value: 72568.41657559304.\n",
      "[I 2024-09-17 07:19:14,733] Trial 200 finished with value: 72568.64818067859 and parameters: {'lgbm_weight': 0.7667789163418209, 'xgb_weight': 0.4311510562419827, 'cb_weight': 0.6407139249255123, 'hgb_weight': 0.8108653947827682, 'gb_weight': 0.46643218057994346}. Best is trial 159 with value: 72568.41657559304.\n",
      "[I 2024-09-17 07:19:14,784] Trial 201 finished with value: 72568.5149027749 and parameters: {'lgbm_weight': 0.7549495156747765, 'xgb_weight': 0.39256728028517257, 'cb_weight': 0.6307668565525663, 'hgb_weight': 0.8583916709604654, 'gb_weight': 0.5356823422235846}. Best is trial 159 with value: 72568.41657559304.\n",
      "[I 2024-09-17 07:19:14,835] Trial 202 finished with value: 72568.58904199723 and parameters: {'lgbm_weight': 0.7207403107722807, 'xgb_weight': 0.40969311673495606, 'cb_weight': 0.5987372017716276, 'hgb_weight': 0.832596165435958, 'gb_weight': 0.5717772924966142}. Best is trial 159 with value: 72568.41657559304.\n",
      "[I 2024-09-17 07:19:14,889] Trial 203 finished with value: 72568.4622816839 and parameters: {'lgbm_weight': 0.7423917049586838, 'xgb_weight': 0.3784270734907804, 'cb_weight': 0.6457952524319048, 'hgb_weight': 0.798276532756621, 'gb_weight': 0.5164236379899031}. Best is trial 159 with value: 72568.41657559304.\n",
      "[I 2024-09-17 07:19:14,941] Trial 204 finished with value: 72568.48481962978 and parameters: {'lgbm_weight': 0.7455575704892591, 'xgb_weight': 0.43427266677725074, 'cb_weight': 0.6450979881354745, 'hgb_weight': 0.7955855101560592, 'gb_weight': 0.5107031680743991}. Best is trial 159 with value: 72568.41657559304.\n",
      "[I 2024-09-17 07:19:14,994] Trial 205 finished with value: 72583.25367827846 and parameters: {'lgbm_weight': 0.18304690776294763, 'xgb_weight': 0.4321151503173143, 'cb_weight': 0.6194917024766953, 'hgb_weight': 0.7758202893034153, 'gb_weight': 0.504659015461123}. Best is trial 159 with value: 72568.41657559304.\n",
      "[I 2024-09-17 07:19:15,047] Trial 206 finished with value: 72568.52310635369 and parameters: {'lgbm_weight': 0.7691437986657931, 'xgb_weight': 0.46714933535578607, 'cb_weight': 0.6427766953764805, 'hgb_weight': 0.805622729159393, 'gb_weight': 0.5203071214307557}. Best is trial 159 with value: 72568.41657559304.\n",
      "[I 2024-09-17 07:19:15,097] Trial 207 finished with value: 72568.5053156845 and parameters: {'lgbm_weight': 0.7415786303277209, 'xgb_weight': 0.42277085912857215, 'cb_weight': 0.5885385903094797, 'hgb_weight': 0.824458005378793, 'gb_weight': 0.5397622946365331}. Best is trial 159 with value: 72568.41657559304.\n",
      "[I 2024-09-17 07:19:15,150] Trial 208 finished with value: 72571.40012454918 and parameters: {'lgbm_weight': 0.44777794823452877, 'xgb_weight': 0.44302478374958393, 'cb_weight': 0.6392010723101844, 'hgb_weight': 0.7406014797777477, 'gb_weight': 0.48009002368724485}. Best is trial 159 with value: 72568.41657559304.\n",
      "[I 2024-09-17 07:19:15,203] Trial 209 finished with value: 72569.05270032061 and parameters: {'lgbm_weight': 0.7061379994599158, 'xgb_weight': 0.49005052044608766, 'cb_weight': 0.5090189963350353, 'hgb_weight': 0.8464128479878515, 'gb_weight': 0.45692758758144}. Best is trial 159 with value: 72568.41657559304.\n",
      "[I 2024-09-17 07:19:15,256] Trial 210 finished with value: 72568.4227329552 and parameters: {'lgbm_weight': 0.7538901934694732, 'xgb_weight': 0.4178347328221422, 'cb_weight': 0.6545607973455174, 'hgb_weight': 0.7815741428046316, 'gb_weight': 0.5554650153293473}. Best is trial 159 with value: 72568.41657559304.\n",
      "[I 2024-09-17 07:19:15,308] Trial 211 finished with value: 72568.42328280116 and parameters: {'lgbm_weight': 0.746877718414165, 'xgb_weight': 0.4150430854058474, 'cb_weight': 0.6530111086602846, 'hgb_weight': 0.7816099670805241, 'gb_weight': 0.5500435003860582}. Best is trial 159 with value: 72568.41657559304.\n",
      "[I 2024-09-17 07:19:15,360] Trial 212 finished with value: 72568.4736532587 and parameters: {'lgbm_weight': 0.7434533611109341, 'xgb_weight': 0.4135011185012593, 'cb_weight': 0.6564097897721931, 'hgb_weight': 0.776898464970358, 'gb_weight': 0.5201958630343738}. Best is trial 159 with value: 72568.41657559304.\n",
      "[I 2024-09-17 07:19:15,411] Trial 213 finished with value: 72568.4601822348 and parameters: {'lgbm_weight': 0.7423765239793481, 'xgb_weight': 0.40575930151351336, 'cb_weight': 0.6530777309178993, 'hgb_weight': 0.7818486518823738, 'gb_weight': 0.5199645610019558}. Best is trial 159 with value: 72568.41657559304.\n",
      "[I 2024-09-17 07:19:15,463] Trial 214 finished with value: 72568.61511234513 and parameters: {'lgbm_weight': 0.7176861954577122, 'xgb_weight': 0.40422862742562304, 'cb_weight': 0.6998563402042064, 'hgb_weight': 0.7698531641036469, 'gb_weight': 0.5283873098452437}. Best is trial 159 with value: 72568.41657559304.\n",
      "[I 2024-09-17 07:19:15,515] Trial 215 finished with value: 72568.45292412968 and parameters: {'lgbm_weight': 0.76919110486749, 'xgb_weight': 0.3685694464735121, 'cb_weight': 0.6587979480964844, 'hgb_weight': 0.7872324583731957, 'gb_weight': 0.5593727679705639}. Best is trial 159 with value: 72568.41657559304.\n",
      "[I 2024-09-17 07:19:15,566] Trial 216 finished with value: 72568.46809254638 and parameters: {'lgbm_weight': 0.7761940653410521, 'xgb_weight': 0.36427679518665335, 'cb_weight': 0.6568281372027817, 'hgb_weight': 0.7842518023208511, 'gb_weight': 0.5603190588069984}. Best is trial 159 with value: 72568.41657559304.\n",
      "[I 2024-09-17 07:19:15,619] Trial 217 finished with value: 72568.49273713898 and parameters: {'lgbm_weight': 0.7824333100689679, 'xgb_weight': 0.36789224150248845, 'cb_weight': 0.6605008412582428, 'hgb_weight': 0.7812495599035808, 'gb_weight': 0.5474994720985862}. Best is trial 159 with value: 72568.41657559304.\n",
      "[I 2024-09-17 07:19:15,670] Trial 218 finished with value: 72568.63753525073 and parameters: {'lgbm_weight': 0.7709629168802703, 'xgb_weight': 0.3540603682468584, 'cb_weight': 0.6899353914543846, 'hgb_weight': 0.7276874120012946, 'gb_weight': 0.5653623296515549}. Best is trial 159 with value: 72568.41657559304.\n",
      "[I 2024-09-17 07:19:15,723] Trial 219 finished with value: 72574.14205637704 and parameters: {'lgbm_weight': 0.3756684489803599, 'xgb_weight': 0.3805896027986437, 'cb_weight': 0.454218153293417, 'hgb_weight': 0.7833177941123798, 'gb_weight': 0.49578399659583067}. Best is trial 159 with value: 72568.41657559304.\n",
      "[I 2024-09-17 07:19:15,775] Trial 220 finished with value: 72568.78562146002 and parameters: {'lgbm_weight': 0.7946034500133684, 'xgb_weight': 0.3761688932812921, 'cb_weight': 0.7144921487345219, 'hgb_weight': 0.741189056165878, 'gb_weight': 0.5375861768594923}. Best is trial 159 with value: 72568.41657559304.\n",
      "[I 2024-09-17 07:19:15,825] Trial 221 finished with value: 72568.45377121046 and parameters: {'lgbm_weight': 0.7261153702024621, 'xgb_weight': 0.4171675397244823, 'cb_weight': 0.6564467468394265, 'hgb_weight': 0.8004331901010665, 'gb_weight': 0.5594667203660535}. Best is trial 159 with value: 72568.41657559304.\n",
      "[I 2024-09-17 07:19:15,876] Trial 222 finished with value: 72568.5074666074 and parameters: {'lgbm_weight': 0.766811228430135, 'xgb_weight': 0.3396877385843976, 'cb_weight': 0.6538089135683408, 'hgb_weight': 0.7753622822282605, 'gb_weight': 0.5629648296070657}. Best is trial 159 with value: 72568.41657559304.\n",
      "[I 2024-09-17 07:19:15,930] Trial 223 finished with value: 72568.43772525941 and parameters: {'lgbm_weight': 0.7345243739343401, 'xgb_weight': 0.411966663502973, 'cb_weight': 0.6562668707998519, 'hgb_weight': 0.7962419740985658, 'gb_weight': 0.5449969622910922}. Best is trial 159 with value: 72568.41657559304.\n",
      "[I 2024-09-17 07:19:15,984] Trial 224 finished with value: 72574.87497953093 and parameters: {'lgbm_weight': 0.7396919660062328, 'xgb_weight': 0.3966734907562779, 'cb_weight': 0.6872972938008435, 'hgb_weight': 0.7589072630460998, 'gb_weight': 0.11996884038590816}. Best is trial 159 with value: 72568.41657559304.\n",
      "[I 2024-09-17 07:19:16,038] Trial 225 finished with value: 72568.49730887066 and parameters: {'lgbm_weight': 0.7603178168215011, 'xgb_weight': 0.41239079276491375, 'cb_weight': 0.6699310388897657, 'hgb_weight': 0.78781678367372, 'gb_weight': 0.5213960573403329}. Best is trial 159 with value: 72568.41657559304.\n",
      "[I 2024-09-17 07:19:16,092] Trial 226 finished with value: 72568.42554105874 and parameters: {'lgbm_weight': 0.7396618883826497, 'xgb_weight': 0.3860831611096306, 'cb_weight': 0.6275990166700199, 'hgb_weight': 0.7971776388504018, 'gb_weight': 0.5375624330207279}. Best is trial 159 with value: 72568.41657559304.\n",
      "[I 2024-09-17 07:19:16,146] Trial 227 finished with value: 72568.51873578606 and parameters: {'lgbm_weight': 0.7071145610243409, 'xgb_weight': 0.35647565619381455, 'cb_weight': 0.6293908346376376, 'hgb_weight': 0.7965931690442697, 'gb_weight': 0.5030467348534863}. Best is trial 159 with value: 72568.41657559304.\n",
      "[I 2024-09-17 07:19:16,198] Trial 228 finished with value: 72568.58784709648 and parameters: {'lgbm_weight': 0.693148575506194, 'xgb_weight': 0.37692864553938393, 'cb_weight': 0.6578495982025512, 'hgb_weight': 0.8026755397646905, 'gb_weight': 0.5488303420122348}. Best is trial 159 with value: 72568.41657559304.\n",
      "[I 2024-09-17 07:19:16,251] Trial 229 finished with value: 72568.47028296554 and parameters: {'lgbm_weight': 0.7406849846635591, 'xgb_weight': 0.3889538243880115, 'cb_weight': 0.6271672299461126, 'hgb_weight': 0.7583757085089794, 'gb_weight': 0.6005164371884426}. Best is trial 159 with value: 72568.41657559304.\n",
      "[I 2024-09-17 07:19:16,306] Trial 230 finished with value: 72568.49671316521 and parameters: {'lgbm_weight': 0.7818987024597148, 'xgb_weight': 0.37982188388125765, 'cb_weight': 0.6554369493684409, 'hgb_weight': 0.7592137404655028, 'gb_weight': 0.6045591900033841}. Best is trial 159 with value: 72568.41657559304.\n",
      "[I 2024-09-17 07:19:16,359] Trial 231 finished with value: 72568.43450603524 and parameters: {'lgbm_weight': 0.7385756813151065, 'xgb_weight': 0.4011722022362745, 'cb_weight': 0.6265956425990384, 'hgb_weight': 0.788983115284846, 'gb_weight': 0.5782860227393627}. Best is trial 159 with value: 72568.41657559304.\n",
      "[I 2024-09-17 07:19:16,414] Trial 232 finished with value: 72568.51388400621 and parameters: {'lgbm_weight': 0.7444124347158834, 'xgb_weight': 0.39212225917361987, 'cb_weight': 0.6180212381450053, 'hgb_weight': 0.8190907303635768, 'gb_weight': 0.5916747922022164}. Best is trial 159 with value: 72568.41657559304.\n",
      "[I 2024-09-17 07:19:16,469] Trial 233 finished with value: 72568.45026599253 and parameters: {'lgbm_weight': 0.7370559177376155, 'xgb_weight': 0.36197786018084704, 'cb_weight': 0.6413770630665802, 'hgb_weight': 0.7884349669095687, 'gb_weight': 0.5398088671305992}. Best is trial 159 with value: 72568.41657559304.\n",
      "[I 2024-09-17 07:19:16,524] Trial 234 finished with value: 72581.05180027989 and parameters: {'lgbm_weight': 0.7303164165205079, 'xgb_weight': 0.36207327654271965, 'cb_weight': 0.06692897817996113, 'hgb_weight': 0.7933644712839204, 'gb_weight': 0.5520175617963811}. Best is trial 159 with value: 72568.41657559304.\n",
      "[I 2024-09-17 07:19:16,577] Trial 235 finished with value: 72568.53398735459 and parameters: {'lgbm_weight': 0.7756010589490933, 'xgb_weight': 0.34983605708502746, 'cb_weight': 0.6231140409614455, 'hgb_weight': 0.8124290907265019, 'gb_weight': 0.579589994826075}. Best is trial 159 with value: 72568.41657559304.\n",
      "[I 2024-09-17 07:19:16,630] Trial 236 finished with value: 72568.48370711037 and parameters: {'lgbm_weight': 0.7317154959794991, 'xgb_weight': 0.3894703376840108, 'cb_weight': 0.6436871482740647, 'hgb_weight': 0.7882588818288506, 'gb_weight': 0.6001985431809242}. Best is trial 159 with value: 72568.41657559304.\n",
      "[I 2024-09-17 07:19:16,682] Trial 237 finished with value: 72568.5061097759 and parameters: {'lgbm_weight': 0.7879897479549698, 'xgb_weight': 0.3728302676024203, 'cb_weight': 0.6864428066623974, 'hgb_weight': 0.8305597069445487, 'gb_weight': 0.5401954366537345}. Best is trial 159 with value: 72568.41657559304.\n",
      "[I 2024-09-17 07:19:16,737] Trial 238 finished with value: 72575.38584713513 and parameters: {'lgbm_weight': 0.7596073032556631, 'xgb_weight': 0.3236136836126376, 'cb_weight': 0.6204867525576263, 'hgb_weight': 0.29831220946651743, 'gb_weight': 0.5600684149156956}. Best is trial 159 with value: 72568.41657559304.\n",
      "[I 2024-09-17 07:19:16,790] Trial 239 finished with value: 72568.56656299678 and parameters: {'lgbm_weight': 0.7163536457259726, 'xgb_weight': 0.3371628071256159, 'cb_weight': 0.6662040839169956, 'hgb_weight': 0.7580958782484399, 'gb_weight': 0.5816720033960666}. Best is trial 159 with value: 72568.41657559304.\n",
      "[I 2024-09-17 07:19:16,842] Trial 240 finished with value: 72568.42945553771 and parameters: {'lgbm_weight': 0.7394111032830029, 'xgb_weight': 0.3974443683794945, 'cb_weight': 0.6453914598793343, 'hgb_weight': 0.8004132871166906, 'gb_weight': 0.5371377444362772}. Best is trial 159 with value: 72568.41657559304.\n",
      "[I 2024-09-17 07:19:16,894] Trial 241 finished with value: 72568.42392151584 and parameters: {'lgbm_weight': 0.7418003864542432, 'xgb_weight': 0.4058675360737955, 'cb_weight': 0.6400715956065826, 'hgb_weight': 0.7999764467760309, 'gb_weight': 0.5353762582942995}. Best is trial 159 with value: 72568.41657559304.\n",
      "[I 2024-09-17 07:19:16,949] Trial 242 finished with value: 72568.43396633021 and parameters: {'lgbm_weight': 0.7503814960992055, 'xgb_weight': 0.3990586178053466, 'cb_weight': 0.6278995438225476, 'hgb_weight': 0.8028156122606052, 'gb_weight': 0.5238436676149878}. Best is trial 159 with value: 72568.41657559304.\n",
      "[I 2024-09-17 07:19:17,002] Trial 243 finished with value: 72568.47275386636 and parameters: {'lgbm_weight': 0.7707231637709236, 'xgb_weight': 0.418082056050443, 'cb_weight': 0.645120488198328, 'hgb_weight': 0.8028200669355644, 'gb_weight': 0.5179501723009918}. Best is trial 159 with value: 72568.41657559304.\n",
      "[I 2024-09-17 07:19:17,055] Trial 244 finished with value: 72568.52919178344 and parameters: {'lgbm_weight': 0.7547547054074653, 'xgb_weight': 0.3623103610722816, 'cb_weight': 0.6695279030075898, 'hgb_weight': 0.82401255079421, 'gb_weight': 0.5197110987021943}. Best is trial 159 with value: 72568.41657559304.\n",
      "[I 2024-09-17 07:19:17,107] Trial 245 finished with value: 72568.76749416355 and parameters: {'lgbm_weight': 0.7893727668323249, 'xgb_weight': 0.39882040404917185, 'cb_weight': 0.698595574476104, 'hgb_weight': 0.7988489352102685, 'gb_weight': 0.4814916344710163}. Best is trial 159 with value: 72568.41657559304.\n",
      "[I 2024-09-17 07:19:17,162] Trial 246 finished with value: 72568.48170463007 and parameters: {'lgbm_weight': 0.7374740995257246, 'xgb_weight': 0.4242057244530829, 'cb_weight': 0.6322684284034924, 'hgb_weight': 0.8389931706152056, 'gb_weight': 0.5346857769335851}. Best is trial 159 with value: 72568.41657559304.\n",
      "[I 2024-09-17 07:19:17,216] Trial 247 finished with value: 72568.56636239702 and parameters: {'lgbm_weight': 0.761901458577692, 'xgb_weight': 0.4554844802101079, 'cb_weight': 0.6050779392772235, 'hgb_weight': 0.7809096224546986, 'gb_weight': 0.5029391053847699}. Best is trial 159 with value: 72568.41657559304.\n",
      "[I 2024-09-17 07:19:17,268] Trial 248 finished with value: 72568.47490065727 and parameters: {'lgbm_weight': 0.7318688599120605, 'xgb_weight': 0.3849041792372131, 'cb_weight': 0.6608920158729151, 'hgb_weight': 0.8127829213765052, 'gb_weight': 0.5583754049804278}. Best is trial 159 with value: 72568.41657559304.\n",
      "[I 2024-09-17 07:19:17,323] Trial 249 finished with value: 72568.50069243742 and parameters: {'lgbm_weight': 0.7756291752705017, 'xgb_weight': 0.41088136876781634, 'cb_weight': 0.681829103471786, 'hgb_weight': 0.7925899392520064, 'gb_weight': 0.5337814681321238}. Best is trial 159 with value: 72568.41657559304.\n",
      "[I 2024-09-17 07:19:17,378] Trial 250 finished with value: 72568.43343162934 and parameters: {'lgbm_weight': 0.7486551561947308, 'xgb_weight': 0.44037827679856245, 'cb_weight': 0.6425216120147049, 'hgb_weight': 0.8167331444030584, 'gb_weight': 0.5660912430623878}. Best is trial 159 with value: 72568.41657559304.\n",
      "[I 2024-09-17 07:19:17,431] Trial 251 finished with value: 72571.2607725575 and parameters: {'lgbm_weight': 0.723742173755249, 'xgb_weight': 0.4424250985055904, 'cb_weight': 0.5777691700003877, 'hgb_weight': 0.43724611314741246, 'gb_weight': 0.5734233896102252}. Best is trial 159 with value: 72568.41657559304.\n",
      "[I 2024-09-17 07:19:17,485] Trial 252 finished with value: 72568.49623780309 and parameters: {'lgbm_weight': 0.7523710524547395, 'xgb_weight': 0.4589697504448228, 'cb_weight': 0.6121187342898531, 'hgb_weight': 0.8353638942958288, 'gb_weight': 0.5399333079826169}. Best is trial 159 with value: 72568.41657559304.\n",
      "[I 2024-09-17 07:19:17,538] Trial 253 finished with value: 72568.53229598483 and parameters: {'lgbm_weight': 0.7137383647562651, 'xgb_weight': 0.4322992523113416, 'cb_weight': 0.6357094657227773, 'hgb_weight': 0.8148658664772767, 'gb_weight': 0.5004268652644199}. Best is trial 159 with value: 72568.41657559304.\n",
      "[I 2024-09-17 07:19:17,592] Trial 254 finished with value: 72568.500928442 and parameters: {'lgbm_weight': 0.744768445747496, 'xgb_weight': 0.41767185648216715, 'cb_weight': 0.6437238335943171, 'hgb_weight': 0.8488488004432971, 'gb_weight': 0.5205735339704824}. Best is trial 159 with value: 72568.41657559304.\n",
      "[I 2024-09-17 07:19:17,645] Trial 255 finished with value: 72568.45788566644 and parameters: {'lgbm_weight': 0.755208161645866, 'xgb_weight': 0.39518409468180227, 'cb_weight': 0.6850622801322523, 'hgb_weight': 0.8181640353288574, 'gb_weight': 0.5712148662122388}. Best is trial 159 with value: 72568.41657559304.\n",
      "[I 2024-09-17 07:19:17,700] Trial 256 finished with value: 72568.59093750754 and parameters: {'lgbm_weight': 0.7284818224464908, 'xgb_weight': 0.3981671824258379, 'cb_weight': 0.7086781908918238, 'hgb_weight': 0.8245802043609471, 'gb_weight': 0.5832815869376297}. Best is trial 159 with value: 72568.41657559304.\n",
      "[I 2024-09-17 07:19:17,753] Trial 257 finished with value: 72568.48192468467 and parameters: {'lgbm_weight': 0.7496591427594157, 'xgb_weight': 0.4651645561256929, 'cb_weight': 0.612895820622486, 'hgb_weight': 0.8067884082594544, 'gb_weight': 0.5436930741222622}. Best is trial 159 with value: 72568.41657559304.\n",
      "[I 2024-09-17 07:19:17,809] Trial 258 finished with value: 72568.43007976642 and parameters: {'lgbm_weight': 0.7965320026156454, 'xgb_weight': 0.44119752790889916, 'cb_weight': 0.6700422007528429, 'hgb_weight': 0.8573260457415732, 'gb_weight': 0.5625168422143556}. Best is trial 159 with value: 72568.41657559304.\n",
      "[I 2024-09-17 07:19:17,874] Trial 259 finished with value: 72568.53272082079 and parameters: {'lgbm_weight': 0.8147175230107688, 'xgb_weight': 0.39196680854637717, 'cb_weight': 0.6738447402178978, 'hgb_weight': 0.8602118913014435, 'gb_weight': 0.5266437451101267}. Best is trial 159 with value: 72568.41657559304.\n",
      "[I 2024-09-17 07:19:17,935] Trial 260 finished with value: 72568.44222830691 and parameters: {'lgbm_weight': 0.7958966449493955, 'xgb_weight': 0.4287545786655624, 'cb_weight': 0.6899543864244837, 'hgb_weight': 0.8356811110779971, 'gb_weight': 0.5595100537396299}. Best is trial 159 with value: 72568.41657559304.\n",
      "[I 2024-09-17 07:19:17,990] Trial 261 finished with value: 72568.48791217881 and parameters: {'lgbm_weight': 0.797120513554737, 'xgb_weight': 0.43828287692989515, 'cb_weight': 0.7209929243301743, 'hgb_weight': 0.8633384006361993, 'gb_weight': 0.5611055426808877}. Best is trial 159 with value: 72568.41657559304.\n",
      "[I 2024-09-17 07:19:18,053] Trial 262 finished with value: 72568.46064458997 and parameters: {'lgbm_weight': 0.7951728565634412, 'xgb_weight': 0.42354300046517085, 'cb_weight': 0.6981283649766159, 'hgb_weight': 0.8327492447205427, 'gb_weight': 0.5558983096679094}. Best is trial 159 with value: 72568.41657559304.\n",
      "[I 2024-09-17 07:19:18,130] Trial 263 finished with value: 72568.42546423318 and parameters: {'lgbm_weight': 0.7934909666971276, 'xgb_weight': 0.4044278194758586, 'cb_weight': 0.6857693691997628, 'hgb_weight': 0.8393995751286166, 'gb_weight': 0.5970574157342636}. Best is trial 159 with value: 72568.41657559304.\n",
      "[I 2024-09-17 07:19:18,206] Trial 264 finished with value: 72568.41772447283 and parameters: {'lgbm_weight': 0.8274050045350245, 'xgb_weight': 0.44731883871286027, 'cb_weight': 0.6850897394357344, 'hgb_weight': 0.8508955919425251, 'gb_weight': 0.6091207213615307}. Best is trial 159 with value: 72568.41657559304.\n",
      "[I 2024-09-17 07:19:18,283] Trial 265 finished with value: 72568.43481926243 and parameters: {'lgbm_weight': 0.8132678178328412, 'xgb_weight': 0.47348692880955934, 'cb_weight': 0.6925324859714393, 'hgb_weight': 0.891804303473356, 'gb_weight': 0.6027291426477419}. Best is trial 159 with value: 72568.41657559304.\n",
      "[I 2024-09-17 07:19:18,357] Trial 266 finished with value: 72568.42543908603 and parameters: {'lgbm_weight': 0.8396131364757123, 'xgb_weight': 0.4769048503374365, 'cb_weight': 0.7231213463399715, 'hgb_weight': 0.8680743954204256, 'gb_weight': 0.6209357943285544}. Best is trial 159 with value: 72568.41657559304.\n",
      "[I 2024-09-17 07:19:18,428] Trial 267 finished with value: 72568.44746554375 and parameters: {'lgbm_weight': 0.840367450116708, 'xgb_weight': 0.47403232583352467, 'cb_weight': 0.7318705184139112, 'hgb_weight': 0.8571268839171587, 'gb_weight': 0.6142190375206975}. Best is trial 159 with value: 72568.41657559304.\n",
      "[I 2024-09-17 07:19:18,493] Trial 268 finished with value: 72568.49115004152 and parameters: {'lgbm_weight': 0.8179890966759902, 'xgb_weight': 0.4995473608218348, 'cb_weight': 0.7498237791325505, 'hgb_weight': 0.8842657786741122, 'gb_weight': 0.6120868216826064}. Best is trial 159 with value: 72568.41657559304.\n",
      "[I 2024-09-17 07:19:18,573] Trial 269 finished with value: 72568.42537551868 and parameters: {'lgbm_weight': 0.8277494861398779, 'xgb_weight': 0.4776301143418724, 'cb_weight': 0.7248277781618159, 'hgb_weight': 0.8935848204506263, 'gb_weight': 0.62208836574312}. Best is trial 159 with value: 72568.41657559304.\n",
      "[I 2024-09-17 07:19:18,650] Trial 270 finished with value: 72568.43244852264 and parameters: {'lgbm_weight': 0.8387050468706315, 'xgb_weight': 0.4867446339152657, 'cb_weight': 0.7379736404799124, 'hgb_weight': 0.8799081580804555, 'gb_weight': 0.6288425676165365}. Best is trial 159 with value: 72568.41657559304.\n",
      "[I 2024-09-17 07:19:18,726] Trial 271 finished with value: 72568.44742874455 and parameters: {'lgbm_weight': 0.8391736861181031, 'xgb_weight': 0.508095733091704, 'cb_weight': 0.7339531753115323, 'hgb_weight': 0.8991917047373319, 'gb_weight': 0.6234613116864393}. Best is trial 159 with value: 72568.41657559304.\n",
      "[I 2024-09-17 07:19:18,805] Trial 272 finished with value: 72568.45978054716 and parameters: {'lgbm_weight': 0.8356880480793389, 'xgb_weight': 0.514711940334703, 'cb_weight': 0.7434078139859857, 'hgb_weight': 0.8941293518869794, 'gb_weight': 0.6456859479196903}. Best is trial 159 with value: 72568.41657559304.\n",
      "[I 2024-09-17 07:19:18,881] Trial 273 finished with value: 72568.42408905528 and parameters: {'lgbm_weight': 0.872008844033088, 'xgb_weight': 0.4855984174412885, 'cb_weight': 0.7210206143624068, 'hgb_weight': 0.8961666679519725, 'gb_weight': 0.6375128911753899}. Best is trial 159 with value: 72568.41657559304.\n",
      "[I 2024-09-17 07:19:18,959] Trial 274 finished with value: 72568.44993896745 and parameters: {'lgbm_weight': 0.8816174873067039, 'xgb_weight': 0.48040463230606634, 'cb_weight': 0.7628354970970812, 'hgb_weight': 0.8874808064336629, 'gb_weight': 0.6421482216887793}. Best is trial 159 with value: 72568.41657559304.\n",
      "[I 2024-09-17 07:19:19,038] Trial 275 finished with value: 72568.47007062909 and parameters: {'lgbm_weight': 0.871277429259847, 'xgb_weight': 0.4923931249590662, 'cb_weight': 0.7190869272500758, 'hgb_weight': 0.8686255534637571, 'gb_weight': 0.6230864821211733}. Best is trial 159 with value: 72568.41657559304.\n",
      "[I 2024-09-17 07:19:19,117] Trial 276 finished with value: 72568.44884552935 and parameters: {'lgbm_weight': 0.8591959411719776, 'xgb_weight': 0.4787431444377772, 'cb_weight': 0.7246052758150281, 'hgb_weight': 0.8773987781262105, 'gb_weight': 0.6058305000651747}. Best is trial 159 with value: 72568.41657559304.\n",
      "[I 2024-09-17 07:19:19,196] Trial 277 finished with value: 72568.45009620779 and parameters: {'lgbm_weight': 0.8313175184610013, 'xgb_weight': 0.4649137109981905, 'cb_weight': 0.710559983871811, 'hgb_weight': 0.9068210372994613, 'gb_weight': 0.6555400818660102}. Best is trial 159 with value: 72568.41657559304.\n",
      "[I 2024-09-17 07:19:19,275] Trial 278 finished with value: 72568.43840112034 and parameters: {'lgbm_weight': 0.8203398949471782, 'xgb_weight': 0.49257303242687067, 'cb_weight': 0.7040840885532471, 'hgb_weight': 0.8794644864678857, 'gb_weight': 0.6332031325437409}. Best is trial 159 with value: 72568.41657559304.\n",
      "[I 2024-09-17 07:19:19,355] Trial 279 finished with value: 72568.46383249905 and parameters: {'lgbm_weight': 0.8565413227939038, 'xgb_weight': 0.5269990023903235, 'cb_weight': 0.7095579972140719, 'hgb_weight': 0.9033206739670457, 'gb_weight': 0.632776099826492}. Best is trial 159 with value: 72568.41657559304.\n",
      "[I 2024-09-17 07:19:19,434] Trial 280 finished with value: 72568.46587035323 and parameters: {'lgbm_weight': 0.8237691209557837, 'xgb_weight': 0.49812998570556355, 'cb_weight': 0.7431023728064343, 'hgb_weight': 0.8759593793178552, 'gb_weight': 0.6225118841891064}. Best is trial 159 with value: 72568.41657559304.\n",
      "[I 2024-09-17 07:19:19,513] Trial 281 finished with value: 72568.42321923126 and parameters: {'lgbm_weight': 0.8103818362265188, 'xgb_weight': 0.4731757605753528, 'cb_weight': 0.6992072477244062, 'hgb_weight': 0.8567895929065608, 'gb_weight': 0.6098738132562308}. Best is trial 159 with value: 72568.41657559304.\n",
      "[I 2024-09-17 07:19:19,592] Trial 282 finished with value: 72568.54358977641 and parameters: {'lgbm_weight': 0.8124890700208761, 'xgb_weight': 0.4930541745574294, 'cb_weight': 0.7748758447345522, 'hgb_weight': 0.8548088716584751, 'gb_weight': 0.6515200563146385}. Best is trial 159 with value: 72568.41657559304.\n",
      "[I 2024-09-17 07:19:19,672] Trial 283 finished with value: 72568.52987627489 and parameters: {'lgbm_weight': 0.8453616607219986, 'xgb_weight': 0.542782133257897, 'cb_weight': 0.7040038404383269, 'hgb_weight': 0.8918662865659297, 'gb_weight': 0.5980335747476075}. Best is trial 159 with value: 72568.41657559304.\n",
      "[I 2024-09-17 07:19:19,755] Trial 284 finished with value: 72568.4269766973 and parameters: {'lgbm_weight': 0.8282127974063361, 'xgb_weight': 0.4744613752301656, 'cb_weight': 0.7212032238558335, 'hgb_weight': 0.8700575857734646, 'gb_weight': 0.6099117905002148}. Best is trial 159 with value: 72568.41657559304.\n",
      "[I 2024-09-17 07:19:19,834] Trial 285 finished with value: 72568.49184788862 and parameters: {'lgbm_weight': 0.8813979763882727, 'xgb_weight': 0.5077445693117735, 'cb_weight': 0.7565997124687959, 'hgb_weight': 0.877034888607194, 'gb_weight': 0.635395418032553}. Best is trial 159 with value: 72568.41657559304.\n",
      "[I 2024-09-17 07:19:19,912] Trial 286 finished with value: 72568.43216336472 and parameters: {'lgbm_weight': 0.8345909302894495, 'xgb_weight': 0.4808330338180204, 'cb_weight': 0.7289776551885647, 'hgb_weight': 0.9078672992748729, 'gb_weight': 0.6127695941804843}. Best is trial 159 with value: 72568.41657559304.\n",
      "[I 2024-09-17 07:19:19,983] Trial 287 finished with value: 72568.42968718024 and parameters: {'lgbm_weight': 0.8367034552505701, 'xgb_weight': 0.4804924915181887, 'cb_weight': 0.722093016637312, 'hgb_weight': 0.8971411757178812, 'gb_weight': 0.60421917624473}. Best is trial 159 with value: 72568.41657559304.\n",
      "[I 2024-09-17 07:19:20,041] Trial 288 finished with value: 72568.47581464749 and parameters: {'lgbm_weight': 0.8970456686230783, 'xgb_weight': 0.46785544913826943, 'cb_weight': 0.7277798569360421, 'hgb_weight': 0.9145022758931936, 'gb_weight': 0.6040725166626582}. Best is trial 159 with value: 72568.41657559304.\n",
      "[I 2024-09-17 07:19:20,097] Trial 289 finished with value: 72568.43522727654 and parameters: {'lgbm_weight': 0.8486320137694766, 'xgb_weight': 0.46824676228206247, 'cb_weight': 0.7487010235582031, 'hgb_weight': 0.9041180807877028, 'gb_weight': 0.6133782208628707}. Best is trial 159 with value: 72568.41657559304.\n",
      "[I 2024-09-17 07:19:20,152] Trial 290 finished with value: 72568.56846307524 and parameters: {'lgbm_weight': 0.8540353386153998, 'xgb_weight': 0.5239550769565703, 'cb_weight': 0.788224695717709, 'hgb_weight': 0.9060062234120356, 'gb_weight': 0.6065676136954518}. Best is trial 159 with value: 72568.41657559304.\n",
      "[I 2024-09-17 07:19:20,210] Trial 291 finished with value: 72568.48262227605 and parameters: {'lgbm_weight': 0.8327933130885237, 'xgb_weight': 0.47070330609254246, 'cb_weight': 0.7553093008259124, 'hgb_weight': 0.9372814326261094, 'gb_weight': 0.6145517070436978}. Best is trial 159 with value: 72568.41657559304.\n",
      "[I 2024-09-17 07:19:20,269] Trial 292 finished with value: 72568.49168986703 and parameters: {'lgbm_weight': 0.8775033281029706, 'xgb_weight': 0.4821517062288588, 'cb_weight': 0.7331392609716504, 'hgb_weight': 0.8905292697830695, 'gb_weight': 0.5931605545233578}. Best is trial 159 with value: 72568.41657559304.\n",
      "[I 2024-09-17 07:19:20,327] Trial 293 finished with value: 72568.42907903786 and parameters: {'lgbm_weight': 0.8440109532928215, 'xgb_weight': 0.4539799385880834, 'cb_weight': 0.7242989171912503, 'hgb_weight': 0.9210559104552865, 'gb_weight': 0.6147029506196859}. Best is trial 159 with value: 72568.41657559304.\n",
      "[I 2024-09-17 07:19:20,384] Trial 294 finished with value: 72568.49216649152 and parameters: {'lgbm_weight': 0.850814747151663, 'xgb_weight': 0.45498271028759424, 'cb_weight': 0.7753524435441105, 'hgb_weight': 0.9503272095199407, 'gb_weight': 0.6213046638227835}. Best is trial 159 with value: 72568.41657559304.\n",
      "[I 2024-09-17 07:19:20,442] Trial 295 finished with value: 72568.45128500414 and parameters: {'lgbm_weight': 0.8354878969126598, 'xgb_weight': 0.4831529903300815, 'cb_weight': 0.7460998637584524, 'hgb_weight': 0.9128545262026863, 'gb_weight': 0.6113881755960207}. Best is trial 159 with value: 72568.41657559304.\n",
      "[I 2024-09-17 07:19:20,499] Trial 296 finished with value: 72568.44023717268 and parameters: {'lgbm_weight': 0.8647242714808082, 'xgb_weight': 0.5131248242587244, 'cb_weight': 0.7203565780350657, 'hgb_weight': 0.8986888942263799, 'gb_weight': 0.6516817405925316}. Best is trial 159 with value: 72568.41657559304.\n",
      "[I 2024-09-17 07:19:20,556] Trial 297 finished with value: 72568.50754371018 and parameters: {'lgbm_weight': 0.8329776077210099, 'xgb_weight': 0.4537874185998016, 'cb_weight': 0.7588999708568867, 'hgb_weight': 0.9406845787780845, 'gb_weight': 0.6009042248454162}. Best is trial 159 with value: 72568.41657559304.\n",
      "[I 2024-09-17 07:19:20,611] Trial 298 finished with value: 72581.73569374715 and parameters: {'lgbm_weight': 0.8080848458960335, 'xgb_weight': 0.49826720944185054, 'cb_weight': 0.727802457861116, 'hgb_weight': 0.1665069401622601, 'gb_weight': 0.5922242583966515}. Best is trial 159 with value: 72568.41657559304.\n",
      "[I 2024-09-17 07:19:20,667] Trial 299 finished with value: 72568.43790164073 and parameters: {'lgbm_weight': 0.8550754368483212, 'xgb_weight': 0.4796000443692158, 'cb_weight': 0.712403637374907, 'hgb_weight': 0.8639117776616322, 'gb_weight': 0.6267898052277942}. Best is trial 159 with value: 72568.41657559304.\n",
      "[I 2024-09-17 07:19:20,723] Trial 300 finished with value: 72568.50391925403 and parameters: {'lgbm_weight': 0.8956704270470698, 'xgb_weight': 0.45749747993653234, 'cb_weight': 0.740789885382249, 'hgb_weight': 0.9192272355777451, 'gb_weight': 0.588323301344097}. Best is trial 159 with value: 72568.41657559304.\n",
      "[I 2024-09-17 07:19:20,780] Trial 301 finished with value: 72574.74539369401 and parameters: {'lgbm_weight': 0.8189517208067616, 'xgb_weight': 0.4660448446710256, 'cb_weight': 0.23796360747557355, 'hgb_weight': 0.886672808915855, 'gb_weight': 0.6740859180008343}. Best is trial 159 with value: 72568.41657559304.\n",
      "[I 2024-09-17 07:19:20,836] Trial 302 finished with value: 72568.46401285536 and parameters: {'lgbm_weight': 0.8381186685580507, 'xgb_weight': 0.5069297593334715, 'cb_weight': 0.7173189479951777, 'hgb_weight': 0.8632522682556873, 'gb_weight': 0.6168251885851641}. Best is trial 159 with value: 72568.41657559304.\n",
      "[I 2024-09-17 07:19:20,892] Trial 303 finished with value: 72579.11566544679 and parameters: {'lgbm_weight': 0.8663364226299333, 'xgb_weight': 0.4543467424752389, 'cb_weight': 0.785592502704041, 'hgb_weight': 0.23569515711546873, 'gb_weight': 0.644466801861033}. Best is trial 159 with value: 72568.41657559304.\n",
      "[I 2024-09-17 07:19:20,952] Trial 304 finished with value: 72568.54015504214 and parameters: {'lgbm_weight': 0.8030410143939659, 'xgb_weight': 0.4493227908253875, 'cb_weight': 0.7493034042033471, 'hgb_weight': 0.9189815272720359, 'gb_weight': 0.5929562498167511}. Best is trial 159 with value: 72568.41657559304.\n",
      "[I 2024-09-17 07:19:21,009] Trial 305 finished with value: 72568.50477925586 and parameters: {'lgbm_weight': 0.8301279618834041, 'xgb_weight': 0.48219208451227674, 'cb_weight': 0.7114718590869933, 'hgb_weight': 0.9542529993853648, 'gb_weight': 0.627735501985913}. Best is trial 159 with value: 72568.41657559304.\n",
      "[I 2024-09-17 07:19:21,066] Trial 306 finished with value: 72568.7390628322 and parameters: {'lgbm_weight': 0.8049128635473757, 'xgb_weight': 0.5462629835442234, 'cb_weight': 0.8052648636849828, 'hgb_weight': 0.8522229995341121, 'gb_weight': 0.6597835133148072}. Best is trial 159 with value: 72568.41657559304.\n",
      "[I 2024-09-17 07:19:21,122] Trial 307 finished with value: 72568.45161477532 and parameters: {'lgbm_weight': 0.8457212539519448, 'xgb_weight': 0.4885739439198613, 'cb_weight': 0.699416388457867, 'hgb_weight': 0.9016927022590477, 'gb_weight': 0.5881659447812558}. Best is trial 159 with value: 72568.41657559304.\n",
      "[I 2024-09-17 07:19:21,177] Trial 308 finished with value: 72568.49543360753 and parameters: {'lgbm_weight': 0.8662717103537512, 'xgb_weight': 0.44902127998107444, 'cb_weight': 0.7692630498173659, 'hgb_weight': 0.8763002490920154, 'gb_weight': 0.6124773842232099}. Best is trial 159 with value: 72568.41657559304.\n",
      "[I 2024-09-17 07:19:21,234] Trial 309 finished with value: 72568.48117643768 and parameters: {'lgbm_weight': 0.8241402853662493, 'xgb_weight': 0.4700074183207176, 'cb_weight': 0.734477424499077, 'hgb_weight': 0.8488476262077277, 'gb_weight': 0.5915071967113271}. Best is trial 159 with value: 72568.41657559304.\n",
      "[I 2024-09-17 07:19:21,291] Trial 310 finished with value: 72568.49183948002 and parameters: {'lgbm_weight': 0.8931044372326573, 'xgb_weight': 0.5155694255642422, 'cb_weight': 0.6924274938544323, 'hgb_weight': 0.9343717064493557, 'gb_weight': 0.6390137277649763}. Best is trial 159 with value: 72568.41657559304.\n",
      "[I 2024-09-17 07:19:21,346] Trial 311 finished with value: 72569.74952732821 and parameters: {'lgbm_weight': 0.8021618600365181, 'xgb_weight': 0.17756440092935077, 'cb_weight': 0.72614541702307, 'hgb_weight': 0.8885403417973697, 'gb_weight': 0.6111642717316789}. Best is trial 159 with value: 72568.41657559304.\n",
      "[I 2024-09-17 07:19:21,402] Trial 312 finished with value: 72568.45637837551 and parameters: {'lgbm_weight': 0.8468885003212507, 'xgb_weight': 0.47136235815634436, 'cb_weight': 0.6982719110359635, 'hgb_weight': 0.8686595122695049, 'gb_weight': 0.5860798139321614}. Best is trial 159 with value: 72568.41657559304.\n",
      "[I 2024-09-17 07:19:21,458] Trial 313 finished with value: 72568.50839625785 and parameters: {'lgbm_weight': 0.7931551626749376, 'xgb_weight': 0.4430047453530908, 'cb_weight': 0.753024012615281, 'hgb_weight': 0.8501828617890846, 'gb_weight': 0.6231845327937083}. Best is trial 159 with value: 72568.41657559304.\n",
      "[I 2024-09-17 07:19:21,514] Trial 314 finished with value: 72574.90572672331 and parameters: {'lgbm_weight': 0.8160988806515199, 'xgb_weight': 0.4971189672435317, 'cb_weight': 0.6780607502574866, 'hgb_weight': 0.3518546619982509, 'gb_weight': 0.5841374764646943}. Best is trial 159 with value: 72568.41657559304.\n",
      "[I 2024-09-17 07:19:21,571] Trial 315 finished with value: 72570.24987083476 and parameters: {'lgbm_weight': 0.870901666463985, 'xgb_weight': 0.44313419145104427, 'cb_weight': 0.7215605370881885, 'hgb_weight': 0.5899428780393239, 'gb_weight': 0.6511151916824476}. Best is trial 159 with value: 72568.41657559304.\n",
      "[I 2024-09-17 07:19:21,627] Trial 316 finished with value: 72568.5697873234 and parameters: {'lgbm_weight': 0.9170404786851973, 'xgb_weight': 0.474239366680972, 'cb_weight': 0.6968593731541938, 'hgb_weight': 0.9075154990917247, 'gb_weight': 0.6037655681790409}. Best is trial 159 with value: 72568.41657559304.\n",
      "[I 2024-09-17 07:19:21,682] Trial 317 finished with value: 72568.5168630369 and parameters: {'lgbm_weight': 0.7947798549544992, 'xgb_weight': 0.45743926831820747, 'cb_weight': 0.7351419422937202, 'hgb_weight': 0.8949985575880943, 'gb_weight': 0.5777324557683198}. Best is trial 159 with value: 72568.41657559304.\n",
      "[I 2024-09-17 07:19:21,740] Trial 318 finished with value: 72568.48650253999 and parameters: {'lgbm_weight': 0.8306644359347378, 'xgb_weight': 0.43841542840024716, 'cb_weight': 0.6893531824745412, 'hgb_weight': 0.8418570197614309, 'gb_weight': 0.6734522154605745}. Best is trial 159 with value: 72568.41657559304.\n",
      "[I 2024-09-17 07:19:21,798] Trial 319 finished with value: 72571.70988250554 and parameters: {'lgbm_weight': 0.851949349059944, 'xgb_weight': 0.5289391281881862, 'cb_weight': 0.7114081162822243, 'hgb_weight': 0.871874541114215, 'gb_weight': 0.25711683382127387}. Best is trial 159 with value: 72568.41657559304.\n",
      "[I 2024-09-17 07:19:21,854] Trial 320 finished with value: 72597.85117279315 and parameters: {'lgbm_weight': 0.023276726630570788, 'xgb_weight': 0.5011184476370725, 'cb_weight': 0.6761584548496322, 'hgb_weight': 0.9282569944166157, 'gb_weight': 0.6384942378408459}. Best is trial 159 with value: 72568.41657559304.\n",
      "[I 2024-09-17 07:19:21,911] Trial 321 finished with value: 72568.56119657114 and parameters: {'lgbm_weight': 0.8131478879535005, 'xgb_weight': 0.48654171543494373, 'cb_weight': 0.7673297602973869, 'hgb_weight': 0.8447623925866768, 'gb_weight': 0.6087279659623926}. Best is trial 159 with value: 72568.41657559304.\n",
      "[I 2024-09-17 07:19:21,969] Trial 322 finished with value: 72578.5991568956 and parameters: {'lgbm_weight': 0.307088146910299, 'xgb_weight': 0.4382645721754928, 'cb_weight': 0.7371862425304397, 'hgb_weight': 0.8797663255567411, 'gb_weight': 0.5808312260769156}. Best is trial 159 with value: 72568.41657559304.\n",
      "[I 2024-09-17 07:19:22,030] Trial 323 finished with value: 72568.5290091166 and parameters: {'lgbm_weight': 0.7883740740146257, 'xgb_weight': 0.4652205344445459, 'cb_weight': 0.7105168329752266, 'hgb_weight': 0.9111673760171052, 'gb_weight': 0.6248276942951105}. Best is trial 159 with value: 72568.41657559304.\n",
      "[I 2024-09-17 07:19:22,088] Trial 324 finished with value: 72568.42182827726 and parameters: {'lgbm_weight': 0.8336373306397721, 'xgb_weight': 0.43332919464175584, 'cb_weight': 0.6856831470383391, 'hgb_weight': 0.8642510196037952, 'gb_weight': 0.6028297132264501}. Best is trial 159 with value: 72568.41657559304.\n",
      "[I 2024-09-17 07:19:22,145] Trial 325 finished with value: 72568.43072529232 and parameters: {'lgbm_weight': 0.8236382219138078, 'xgb_weight': 0.4363797988997533, 'cb_weight': 0.6768225110381795, 'hgb_weight': 0.8598223925875141, 'gb_weight': 0.5772683880607153}. Best is trial 159 with value: 72568.41657559304.\n",
      "[I 2024-09-17 07:19:22,201] Trial 326 finished with value: 72568.64440735492 and parameters: {'lgbm_weight': 0.8854292091801982, 'xgb_weight': 0.42826968113131797, 'cb_weight': 0.6918724458281442, 'hgb_weight': 0.8377112980635417, 'gb_weight': 0.5775437087656037}. Best is trial 159 with value: 72568.41657559304.\n",
      "[I 2024-09-17 07:19:22,258] Trial 327 finished with value: 72568.43892312646 and parameters: {'lgbm_weight': 0.7851967237900517, 'xgb_weight': 0.42960831567980073, 'cb_weight': 0.6687969856212677, 'hgb_weight': 0.8673428442061277, 'gb_weight': 0.575611714847393}. Best is trial 159 with value: 72568.41657559304.\n",
      "[I 2024-09-17 07:19:22,314] Trial 328 finished with value: 72568.43265982818 and parameters: {'lgbm_weight': 0.828266449237532, 'xgb_weight': 0.445813531212054, 'cb_weight': 0.6700688522086204, 'hgb_weight': 0.8482900115065726, 'gb_weight': 0.5979126898663895}. Best is trial 159 with value: 72568.41657559304.\n",
      "[I 2024-09-17 07:19:22,371] Trial 329 finished with value: 72568.42406697117 and parameters: {'lgbm_weight': 0.8258360072665812, 'xgb_weight': 0.4505441583865383, 'cb_weight': 0.6743187910131465, 'hgb_weight': 0.8606988033292873, 'gb_weight': 0.5944373714902936}. Best is trial 159 with value: 72568.41657559304.\n",
      "[I 2024-09-17 07:19:22,427] Trial 330 finished with value: 72568.4228778286 and parameters: {'lgbm_weight': 0.8279439884074422, 'xgb_weight': 0.4508902573880223, 'cb_weight': 0.6759335515948092, 'hgb_weight': 0.859084843293929, 'gb_weight': 0.6023859896378727}. Best is trial 159 with value: 72568.41657559304.\n",
      "[I 2024-09-17 07:19:22,485] Trial 331 finished with value: 72568.43291085082 and parameters: {'lgbm_weight': 0.8338901573843067, 'xgb_weight': 0.4479867892359403, 'cb_weight': 0.6782891277981993, 'hgb_weight': 0.862804336330686, 'gb_weight': 0.630444631062812}. Best is trial 159 with value: 72568.41657559304.\n",
      "[I 2024-09-17 07:19:22,542] Trial 332 finished with value: 72568.42801583164 and parameters: {'lgbm_weight': 0.8274578780265966, 'xgb_weight': 0.45615284872046846, 'cb_weight': 0.6755870307468177, 'hgb_weight': 0.8514661824842855, 'gb_weight': 0.5995679386794108}. Best is trial 159 with value: 72568.41657559304.\n",
      "[I 2024-09-17 07:19:22,599] Trial 333 finished with value: 72568.45658669485 and parameters: {'lgbm_weight': 0.8516690431123494, 'xgb_weight': 0.49176315943926774, 'cb_weight': 0.6976894338609696, 'hgb_weight': 0.865444929649271, 'gb_weight': 0.657422758914799}. Best is trial 159 with value: 72568.41657559304.\n",
      "[I 2024-09-17 07:19:22,657] Trial 334 finished with value: 72568.47179547191 and parameters: {'lgbm_weight': 0.8683275730895199, 'xgb_weight': 0.45819759992975695, 'cb_weight': 0.6841569587694912, 'hgb_weight': 0.8827226526467228, 'gb_weight': 0.5994712867253146}. Best is trial 159 with value: 72568.41657559304.\n",
      "[I 2024-09-17 07:19:22,716] Trial 335 finished with value: 72568.42509907935 and parameters: {'lgbm_weight': 0.8177228705459316, 'xgb_weight': 0.4553352780997011, 'cb_weight': 0.7165732658942832, 'hgb_weight': 0.8435633870407327, 'gb_weight': 0.6218584038432108}. Best is trial 159 with value: 72568.41657559304.\n",
      "[I 2024-09-17 07:19:22,773] Trial 336 finished with value: 72568.4229972194 and parameters: {'lgbm_weight': 0.8114250793563299, 'xgb_weight': 0.42718564016656374, 'cb_weight': 0.7116509759375217, 'hgb_weight': 0.8419313690924984, 'gb_weight': 0.6132921989175474}. Best is trial 159 with value: 72568.41657559304.\n",
      "[I 2024-09-17 07:19:22,831] Trial 337 finished with value: 72568.44518038309 and parameters: {'lgbm_weight': 0.8087737682901914, 'xgb_weight': 0.4225251605763556, 'cb_weight': 0.7126036302372526, 'hgb_weight': 0.8413556640503602, 'gb_weight': 0.6435554469029201}. Best is trial 159 with value: 72568.41657559304.\n",
      "[I 2024-09-17 07:19:22,888] Trial 338 finished with value: 72568.42092998777 and parameters: {'lgbm_weight': 0.815122042804669, 'xgb_weight': 0.42806155320024636, 'cb_weight': 0.6711105476056748, 'hgb_weight': 0.8372830214677249, 'gb_weight': 0.5987615122505534}. Best is trial 159 with value: 72568.41657559304.\n",
      "[I 2024-09-17 07:19:22,945] Trial 339 finished with value: 72573.19451437329 and parameters: {'lgbm_weight': 0.803115441859112, 'xgb_weight': 0.4527185781199806, 'cb_weight': 0.7061864854559482, 'hgb_weight': 0.39949111441850754, 'gb_weight': 0.6020975355280843}. Best is trial 159 with value: 72568.41657559304.\n",
      "[I 2024-09-17 07:19:23,006] Trial 340 finished with value: 72568.43750308616 and parameters: {'lgbm_weight': 0.8005294750462346, 'xgb_weight': 0.41821785025483804, 'cb_weight': 0.6784532107386905, 'hgb_weight': 0.8350584970906225, 'gb_weight': 0.6289347207239515}. Best is trial 159 with value: 72568.41657559304.\n",
      "[I 2024-09-17 07:19:23,064] Trial 341 finished with value: 72568.43204786032 and parameters: {'lgbm_weight': 0.821116983200808, 'xgb_weight': 0.4343351793735347, 'cb_weight': 0.667759683317458, 'hgb_weight': 0.8347714145297411, 'gb_weight': 0.5956376070757808}. Best is trial 159 with value: 72568.41657559304.\n",
      "[I 2024-09-17 07:19:23,121] Trial 342 finished with value: 72568.43738887443 and parameters: {'lgbm_weight': 0.7883612295010783, 'xgb_weight': 0.4555493356478478, 'cb_weight': 0.6960288686688932, 'hgb_weight': 0.8531477646568819, 'gb_weight': 0.6195838247071755}. Best is trial 159 with value: 72568.41657559304.\n",
      "[I 2024-09-17 07:19:23,178] Trial 343 finished with value: 72568.46395649029 and parameters: {'lgbm_weight': 0.8113520110329094, 'xgb_weight': 0.4211496182204035, 'cb_weight': 0.7133642624126215, 'hgb_weight': 0.8395535783081614, 'gb_weight': 0.6576399124147934}. Best is trial 159 with value: 72568.41657559304.\n",
      "[I 2024-09-17 07:19:23,236] Trial 344 finished with value: 72568.55884575352 and parameters: {'lgbm_weight': 0.861066375780897, 'xgb_weight': 0.45785631323938386, 'cb_weight': 0.6711591893377671, 'hgb_weight': 0.8267705604084068, 'gb_weight': 0.5937280483254351}. Best is trial 159 with value: 72568.41657559304.\n",
      "[I 2024-09-17 07:19:23,294] Trial 345 finished with value: 72571.04340157892 and parameters: {'lgbm_weight': 0.787339318520004, 'xgb_weight': 0.42969392108219173, 'cb_weight': 0.6935820656708817, 'hgb_weight': 0.486007760416937, 'gb_weight': 0.6161841793226662}. Best is trial 159 with value: 72568.41657559304.\n",
      "[I 2024-09-17 07:19:23,351] Trial 346 finished with value: 72568.49604766973 and parameters: {'lgbm_weight': 0.8248940930628622, 'xgb_weight': 0.4121925204049093, 'cb_weight': 0.6635592267877467, 'hgb_weight': 0.8625546789152249, 'gb_weight': 0.6423087053500022}. Best is trial 159 with value: 72568.41657559304.\n",
      "[I 2024-09-17 07:19:23,408] Trial 347 finished with value: 72568.47874965165 and parameters: {'lgbm_weight': 0.8440712270689678, 'xgb_weight': 0.46522930807699303, 'cb_weight': 0.7128674280909132, 'hgb_weight': 0.849113385938497, 'gb_weight': 0.585852191061637}. Best is trial 159 with value: 72568.41657559304.\n",
      "[I 2024-09-17 07:19:23,467] Trial 348 finished with value: 72568.56972156883 and parameters: {'lgbm_weight': 0.8794594527745233, 'xgb_weight': 0.44346466371094734, 'cb_weight': 0.6825652827613633, 'hgb_weight': 0.8349288866197068, 'gb_weight': 0.6127339034612851}. Best is trial 159 with value: 72568.41657559304.\n",
      "[I 2024-09-17 07:19:23,525] Trial 349 finished with value: 72568.52308264509 and parameters: {'lgbm_weight': 0.8078212728557583, 'xgb_weight': 0.4146337478349495, 'cb_weight': 0.6970452423535172, 'hgb_weight': 0.8700776196499178, 'gb_weight': 0.6684084554639154}. Best is trial 159 with value: 72568.41657559304.\n",
      "[I 2024-09-17 07:19:23,582] Trial 350 finished with value: 72568.41608726184 and parameters: {'lgbm_weight': 0.7808887131148107, 'xgb_weight': 0.4431072123999676, 'cb_weight': 0.6664854070642073, 'hgb_weight': 0.8241499989948579, 'gb_weight': 0.5742634829494798}. Best is trial 350 with value: 72568.41608726184.\n",
      "[I 2024-09-17 07:19:23,641] Trial 351 finished with value: 72568.49843545574 and parameters: {'lgbm_weight': 0.7782935660429788, 'xgb_weight': 0.4730646898162245, 'cb_weight': 0.7207324571598003, 'hgb_weight': 0.826835275071746, 'gb_weight': 0.6344197248184869}. Best is trial 350 with value: 72568.41608726184.\n",
      "[I 2024-09-17 07:19:23,698] Trial 352 finished with value: 72568.51984083082 and parameters: {'lgbm_weight': 0.8454654994843003, 'xgb_weight': 0.42782383209118174, 'cb_weight': 0.6633807322771018, 'hgb_weight': 0.8181956488585449, 'gb_weight': 0.5952587002758369}. Best is trial 350 with value: 72568.41608726184.\n",
      "[I 2024-09-17 07:19:23,756] Trial 353 finished with value: 72568.45201792433 and parameters: {'lgbm_weight': 0.8231820938987191, 'xgb_weight': 0.4593969386243155, 'cb_weight': 0.6920211192801926, 'hgb_weight': 0.845349129885211, 'gb_weight': 0.5745087942105312}. Best is trial 350 with value: 72568.41608726184.\n",
      "[I 2024-09-17 07:19:23,815] Trial 354 finished with value: 72568.51632004908 and parameters: {'lgbm_weight': 0.7754420233422807, 'xgb_weight': 0.5089180401851144, 'cb_weight': 0.6622669873291178, 'hgb_weight': 0.8240585241080441, 'gb_weight': 0.608090732018033}. Best is trial 350 with value: 72568.41608726184.\n",
      "[I 2024-09-17 07:19:23,872] Trial 355 finished with value: 72568.45042089443 and parameters: {'lgbm_weight': 0.8570167482831068, 'xgb_weight': 0.4087338179597798, 'cb_weight': 0.7136412708818769, 'hgb_weight': 0.8826158214577539, 'gb_weight': 0.6285090853281116}. Best is trial 350 with value: 72568.41608726184.\n",
      "[I 2024-09-17 07:19:23,930] Trial 356 finished with value: 72568.64932879437 and parameters: {'lgbm_weight': 0.9019660012300746, 'xgb_weight': 0.44653296716532404, 'cb_weight': 0.6876983782581129, 'hgb_weight': 0.8579478834954732, 'gb_weight': 0.5862975240221047}. Best is trial 350 with value: 72568.41608726184.\n",
      "[I 2024-09-17 07:19:23,991] Trial 357 finished with value: 72568.52124957056 and parameters: {'lgbm_weight': 0.8040531540203049, 'xgb_weight': 0.4755343164811273, 'cb_weight': 0.7278152248176862, 'hgb_weight': 0.8390790409023768, 'gb_weight': 0.571470707719789}. Best is trial 350 with value: 72568.41608726184.\n",
      "[I 2024-09-17 07:19:24,049] Trial 358 finished with value: 72571.68909999816 and parameters: {'lgbm_weight': 0.8340519410667911, 'xgb_weight': 0.9784885965291177, 'cb_weight': 0.6621763675283108, 'hgb_weight': 0.8209822694748342, 'gb_weight': 0.6422032022995947}. Best is trial 350 with value: 72568.41608726184.\n",
      "[I 2024-09-17 07:19:24,108] Trial 359 finished with value: 72568.49591411537 and parameters: {'lgbm_weight': 0.7827048121022205, 'xgb_weight': 0.4282385777084963, 'cb_weight': 0.702111292084353, 'hgb_weight': 0.8877968655693608, 'gb_weight': 0.6095325677226431}. Best is trial 350 with value: 72568.41608726184.\n",
      "[I 2024-09-17 07:19:24,168] Trial 360 finished with value: 72568.70214879778 and parameters: {'lgbm_weight': 0.8709903669493386, 'xgb_weight': 0.5652263060671551, 'cb_weight': 0.6793335958656337, 'hgb_weight': 0.8626175314670473, 'gb_weight': 0.594347935048427}. Best is trial 350 with value: 72568.41608726184.\n",
      "[I 2024-09-17 07:19:24,227] Trial 361 finished with value: 72568.4822918342 and parameters: {'lgbm_weight': 0.8204498927158631, 'xgb_weight': 0.38941629273179335, 'cb_weight': 0.7280739252042464, 'hgb_weight': 0.8745385177839322, 'gb_weight': 0.6214830728523837}. Best is trial 350 with value: 72568.41608726184.\n",
      "[I 2024-09-17 07:19:24,286] Trial 362 finished with value: 72568.5514566999 and parameters: {'lgbm_weight': 0.797745967243622, 'xgb_weight': 0.45685028401856326, 'cb_weight': 0.659474301163533, 'hgb_weight': 0.8188887157964323, 'gb_weight': 0.6739625339692178}. Best is trial 350 with value: 72568.41608726184.\n",
      "[I 2024-09-17 07:19:24,344] Trial 363 finished with value: 72568.54066031697 and parameters: {'lgbm_weight': 0.8406410700639093, 'xgb_weight': 0.48717812443567166, 'cb_weight': 0.7052769832844553, 'hgb_weight': 0.8466559390415974, 'gb_weight': 0.5659503724564372}. Best is trial 350 with value: 72568.41608726184.\n",
      "[I 2024-09-17 07:19:24,402] Trial 364 finished with value: 72598.866205393 and parameters: {'lgbm_weight': 0.21710016651605757, 'xgb_weight': 0.08127205901687351, 'cb_weight': 0.38566531948042504, 'hgb_weight': 0.8957067550013981, 'gb_weight': 0.65130769886614}. Best is trial 350 with value: 72568.41608726184.\n",
      "[I 2024-09-17 07:19:24,460] Trial 365 finished with value: 72568.57273773485 and parameters: {'lgbm_weight': 0.7749150389130248, 'xgb_weight': 0.40986060684897574, 'cb_weight': 0.7499155925902651, 'hgb_weight': 0.8285405646943866, 'gb_weight': 0.587671860081347}. Best is trial 350 with value: 72568.41608726184.\n",
      "[I 2024-09-17 07:19:24,520] Trial 366 finished with value: 72568.47483310767 and parameters: {'lgbm_weight': 0.8185575934621765, 'xgb_weight': 0.4392970745896531, 'cb_weight': 0.6478966864013116, 'hgb_weight': 0.8529968284796482, 'gb_weight': 0.5532764522764652}. Best is trial 350 with value: 72568.41608726184.\n",
      "[I 2024-09-17 07:19:24,578] Trial 367 finished with value: 72570.78213834285 and parameters: {'lgbm_weight': 0.8548138458630542, 'xgb_weight': 0.50427276496575, 'cb_weight': 0.6806196833794352, 'hgb_weight': 0.8119859771001964, 'gb_weight': 0.32651574583530074}. Best is trial 350 with value: 72568.41608726184.\n",
      "[I 2024-09-17 07:19:24,637] Trial 368 finished with value: 72570.24768765275 and parameters: {'lgbm_weight': 0.8026482792529345, 'xgb_weight': 0.4693547542055579, 'cb_weight': 0.7237517483265872, 'hgb_weight': 0.5635382244048972, 'gb_weight': 0.6102838140499156}. Best is trial 350 with value: 72568.41608726184.\n",
      "[I 2024-09-17 07:19:24,696] Trial 369 finished with value: 72568.53865834454 and parameters: {'lgbm_weight': 0.8774717465183723, 'xgb_weight': 0.4286598639619107, 'cb_weight': 0.6987647118014431, 'hgb_weight': 0.8758289208253726, 'gb_weight': 0.5742230066777044}. Best is trial 350 with value: 72568.41608726184.\n",
      "[I 2024-09-17 07:19:24,754] Trial 370 finished with value: 72568.56874522082 and parameters: {'lgbm_weight': 0.8406243296048835, 'xgb_weight': 0.5239941948231127, 'cb_weight': 0.6634893413254891, 'hgb_weight': 0.8352756543797427, 'gb_weight': 0.6219899438095922}. Best is trial 350 with value: 72568.41608726184.\n",
      "[I 2024-09-17 07:19:24,812] Trial 371 finished with value: 72570.59030220125 and parameters: {'lgbm_weight': 0.7830215552859137, 'xgb_weight': 0.392208503549927, 'cb_weight': 0.41863884834705356, 'hgb_weight': 0.9201008404220343, 'gb_weight': 0.5916321284087438}. Best is trial 350 with value: 72568.41608726184.\n",
      "[I 2024-09-17 07:19:24,872] Trial 372 finished with value: 72568.72172660091 and parameters: {'lgbm_weight': 0.8190260224563178, 'xgb_weight': 0.45172728835827614, 'cb_weight': 0.6348466403509425, 'hgb_weight': 0.9717511653409695, 'gb_weight': 0.5509736783015604}. Best is trial 350 with value: 72568.41608726184.\n",
      "[I 2024-09-17 07:19:24,931] Trial 373 finished with value: 72571.93207119434 and parameters: {'lgbm_weight': 0.515199849713996, 'xgb_weight': 0.41411840158165664, 'cb_weight': 0.6895108139116665, 'hgb_weight': 0.8914456685238243, 'gb_weight': 0.6374122136061152}. Best is trial 350 with value: 72568.41608726184.\n",
      "[I 2024-09-17 07:19:24,991] Trial 374 finished with value: 72568.61821014939 and parameters: {'lgbm_weight': 0.7690371189049323, 'xgb_weight': 0.48355630447310005, 'cb_weight': 0.7573660639997314, 'hgb_weight': 0.8580018122813526, 'gb_weight': 0.6031793482307424}. Best is trial 350 with value: 72568.41608726184.\n",
      "[I 2024-09-17 07:19:25,053] Trial 375 finished with value: 72584.51909244705 and parameters: {'lgbm_weight': 0.7937030577119045, 'xgb_weight': 0.43697706376822476, 'cb_weight': 0.6497490336895989, 'hgb_weight': 0.10982260716459691, 'gb_weight': 0.5729013202491334}. Best is trial 350 with value: 72568.41608726184.\n",
      "[I 2024-09-17 07:19:25,111] Trial 376 finished with value: 72568.53746967683 and parameters: {'lgbm_weight': 0.8298925239911992, 'xgb_weight': 0.38078383573806407, 'cb_weight': 0.7377734545944024, 'hgb_weight': 0.8230853717886202, 'gb_weight': 0.6551397527124204}. Best is trial 350 with value: 72568.41608726184.\n",
      "[I 2024-09-17 07:19:25,172] Trial 377 finished with value: 72568.4343388866 and parameters: {'lgbm_weight': 0.8622891578883789, 'xgb_weight': 0.46146333010607654, 'cb_weight': 0.7077773263619862, 'hgb_weight': 0.8706982744331982, 'gb_weight': 0.6238092263113522}. Best is trial 350 with value: 72568.41608726184.\n",
      "[I 2024-09-17 07:19:25,232] Trial 378 finished with value: 72576.80782366025 and parameters: {'lgbm_weight': 0.8137001258943991, 'xgb_weight': 0.4153919587126722, 'cb_weight': 0.17545005219176035, 'hgb_weight': 0.9480198250223026, 'gb_weight': 0.5971237591640502}. Best is trial 350 with value: 72568.41608726184.\n",
      "[I 2024-09-17 07:19:25,293] Trial 379 finished with value: 72568.56958608275 and parameters: {'lgbm_weight': 0.7974931377640495, 'xgb_weight': 0.496804936660402, 'cb_weight': 0.6750098052612742, 'hgb_weight': 0.8086070651211245, 'gb_weight': 0.5511376523587684}. Best is trial 350 with value: 72568.41608726184.\n",
      "[I 2024-09-17 07:19:25,351] Trial 380 finished with value: 72568.62357187032 and parameters: {'lgbm_weight': 0.8461644250658265, 'xgb_weight': 0.44115295567999296, 'cb_weight': 0.6097937099405678, 'hgb_weight': 0.8452513596176813, 'gb_weight': 0.5831865552462928}. Best is trial 350 with value: 72568.41608726184.\n",
      "[I 2024-09-17 07:19:25,410] Trial 381 finished with value: 72568.52478565203 and parameters: {'lgbm_weight': 0.7781136131955669, 'xgb_weight': 0.47427085378162626, 'cb_weight': 0.7172483204803546, 'hgb_weight': 0.892708676584564, 'gb_weight': 0.6096840755024372}. Best is trial 350 with value: 72568.41608726184.\n",
      "[I 2024-09-17 07:19:25,468] Trial 382 finished with value: 72568.64324450184 and parameters: {'lgbm_weight': 0.8953985082193363, 'xgb_weight': 0.40294582550075664, 'cb_weight': 0.6884596348668979, 'hgb_weight': 0.8336515456028218, 'gb_weight': 0.6391786548160685}. Best is trial 350 with value: 72568.41608726184.\n",
      "[I 2024-09-17 07:19:25,527] Trial 383 finished with value: 72568.47616778401 and parameters: {'lgbm_weight': 0.830609166269067, 'xgb_weight': 0.45411534812649396, 'cb_weight': 0.6535453158340673, 'hgb_weight': 0.8688230795566856, 'gb_weight': 0.5659509633958014}. Best is trial 350 with value: 72568.41608726184.\n",
      "[I 2024-09-17 07:19:25,587] Trial 384 finished with value: 72568.48769994327 and parameters: {'lgbm_weight': 0.8095724730232277, 'xgb_weight': 0.42706294566418046, 'cb_weight': 0.6280183591435888, 'hgb_weight': 0.8131786083222744, 'gb_weight': 0.5964843713023805}. Best is trial 350 with value: 72568.41608726184.\n",
      "[I 2024-09-17 07:19:25,647] Trial 385 finished with value: 72568.82100181548 and parameters: {'lgbm_weight': 0.9258743512177354, 'xgb_weight': 0.3815891158086156, 'cb_weight': 0.676995958291905, 'hgb_weight': 0.8545701576706649, 'gb_weight': 0.6191263155142063}. Best is trial 350 with value: 72568.41608726184.\n",
      "[I 2024-09-17 07:19:25,707] Trial 386 finished with value: 72568.48726218141 and parameters: {'lgbm_weight': 0.864171471368614, 'xgb_weight': 0.4739019706814037, 'cb_weight': 0.726857366309478, 'hgb_weight': 0.9292958897023542, 'gb_weight': 0.5729430652925401}. Best is trial 350 with value: 72568.41608726184.\n",
      "[I 2024-09-17 07:19:25,766] Trial 387 finished with value: 72568.72154160005 and parameters: {'lgbm_weight': 0.7698452948491016, 'xgb_weight': 0.45449272299474724, 'cb_weight': 0.6999893014383154, 'hgb_weight': 0.9037461389598104, 'gb_weight': 0.681035574069961}. Best is trial 350 with value: 72568.41608726184.\n",
      "[I 2024-09-17 07:19:25,825] Trial 388 finished with value: 72568.63032656336 and parameters: {'lgbm_weight': 0.8440019810267518, 'xgb_weight': 0.41383522559677116, 'cb_weight': 0.6561382616321708, 'hgb_weight': 0.8052978153610356, 'gb_weight': 0.5487996277372579}. Best is trial 350 with value: 72568.41608726184.\n",
      "[I 2024-09-17 07:19:25,884] Trial 389 finished with value: 72568.73300944552 and parameters: {'lgbm_weight': 0.8062056541946564, 'xgb_weight': 0.49679690129304926, 'cb_weight': 0.5946651510742489, 'hgb_weight': 0.8336248604046566, 'gb_weight': 0.6506030869654909}. Best is trial 350 with value: 72568.41608726184.\n",
      "[I 2024-09-17 07:19:25,943] Trial 390 finished with value: 72570.61166397628 and parameters: {'lgbm_weight': 0.8220650674797906, 'xgb_weight': 0.9031498146122464, 'cb_weight': 0.7389529076666234, 'hgb_weight': 0.8831282445924649, 'gb_weight': 0.6280380509276896}. Best is trial 350 with value: 72568.41608726184.\n",
      "[I 2024-09-17 07:19:26,004] Trial 391 finished with value: 72572.58891532938 and parameters: {'lgbm_weight': 0.7861522247958733, 'xgb_weight': 0.4344522813467787, 'cb_weight': 0.29282969454424534, 'hgb_weight': 0.8492994075666577, 'gb_weight': 0.5902676710047594}. Best is trial 350 with value: 72568.41608726184.\n",
      "[I 2024-09-17 07:19:26,064] Trial 392 finished with value: 72568.46893391883 and parameters: {'lgbm_weight': 0.8392234930678109, 'xgb_weight': 0.39958773341983944, 'cb_weight': 0.6755911625376726, 'hgb_weight': 0.8661416286143493, 'gb_weight': 0.6090296548088037}. Best is trial 350 with value: 72568.41608726184.\n",
      "[I 2024-09-17 07:19:26,123] Trial 393 finished with value: 72569.8992600194 and parameters: {'lgbm_weight': 0.874305862355916, 'xgb_weight': 0.44586431607888144, 'cb_weight': 0.467681401959697, 'hgb_weight': 0.8230004072988756, 'gb_weight': 0.5767256825784278}. Best is trial 350 with value: 72568.41608726184.\n",
      "[I 2024-09-17 07:19:26,185] Trial 394 finished with value: 72568.63087547722 and parameters: {'lgbm_weight': 0.7635342240700483, 'xgb_weight': 0.5229596436066632, 'cb_weight': 0.6235797345321141, 'hgb_weight': 0.8073727335482923, 'gb_weight': 0.5422597764297837}. Best is trial 350 with value: 72568.41608726184.\n",
      "[I 2024-09-17 07:19:26,244] Trial 395 finished with value: 72568.64885099107 and parameters: {'lgbm_weight': 0.7985206452265856, 'xgb_weight': 0.4737753627786787, 'cb_weight': 0.7640741684572242, 'hgb_weight': 0.8454965188908345, 'gb_weight': 0.5627585035328143}. Best is trial 350 with value: 72568.41608726184.\n",
      "[I 2024-09-17 07:19:26,304] Trial 396 finished with value: 72568.42713881898 and parameters: {'lgbm_weight': 0.8242305390230287, 'xgb_weight': 0.42587353937471456, 'cb_weight': 0.7108990975549185, 'hgb_weight': 0.8844052445286622, 'gb_weight': 0.6013269925168951}. Best is trial 350 with value: 72568.41608726184.\n",
      "[I 2024-09-17 07:19:26,365] Trial 397 finished with value: 72568.46445084419 and parameters: {'lgbm_weight': 0.8166011492962816, 'xgb_weight': 0.4065690401983813, 'cb_weight': 0.6886878058267354, 'hgb_weight': 0.8749372771165224, 'gb_weight': 0.6317275662784507}. Best is trial 350 with value: 72568.41608726184.\n",
      "[I 2024-09-17 07:19:26,424] Trial 398 finished with value: 72568.41819767578 and parameters: {'lgbm_weight': 0.7870238557800104, 'xgb_weight': 0.42362171146162453, 'cb_weight': 0.6563246801084562, 'hgb_weight': 0.8373209499960641, 'gb_weight': 0.5895615145530909}. Best is trial 350 with value: 72568.41608726184.\n",
      "[I 2024-09-17 07:19:26,485] Trial 399 finished with value: 72589.20091234754 and parameters: {'lgbm_weight': 0.13660551602864202, 'xgb_weight': 0.38984340560857017, 'cb_weight': 0.7080898530074837, 'hgb_weight': 0.8548220555882846, 'gb_weight': 0.6558734727957037}. Best is trial 350 with value: 72568.41608726184.\n",
      "[I 2024-09-17 07:19:26,546] Trial 400 finished with value: 72573.21902152972 and parameters: {'lgbm_weight': 0.7976751303777512, 'xgb_weight': 0.42273433002435123, 'cb_weight': 0.6708703409037554, 'hgb_weight': 0.8342170758154199, 'gb_weight': 0.16232968181475016}. Best is trial 350 with value: 72568.41608726184.\n",
      "[I 2024-09-17 07:19:26,607] Trial 401 finished with value: 72568.62957806185 and parameters: {'lgbm_weight': 0.8530280257898266, 'xgb_weight': 0.3724690541994709, 'cb_weight': 0.6418005802700236, 'hgb_weight': 0.8802093872003919, 'gb_weight': 0.6066361358108048}. Best is trial 350 with value: 72568.41608726184.\n",
      "[I 2024-09-17 07:19:26,668] Trial 402 finished with value: 72568.49115785252 and parameters: {'lgbm_weight': 0.8224252751532042, 'xgb_weight': 0.42513425535787297, 'cb_weight': 0.7020137393613671, 'hgb_weight': 0.8653101115816431, 'gb_weight': 0.5472628833195997}. Best is trial 350 with value: 72568.41608726184.\n",
      "[I 2024-09-17 07:19:26,728] Trial 403 finished with value: 72570.25326661504 and parameters: {'lgbm_weight': 0.5609339324163545, 'xgb_weight': 0.4093393818133087, 'cb_weight': 0.6622022836343566, 'hgb_weight': 0.8416662295866207, 'gb_weight': 0.5835361122905245}. Best is trial 350 with value: 72568.41608726184.\n",
      "[I 2024-09-17 07:19:26,788] Trial 404 finished with value: 72568.64456164025 and parameters: {'lgbm_weight': 0.7793579366836199, 'xgb_weight': 0.3949592728256046, 'cb_weight': 0.688124844071869, 'hgb_weight': 0.9114635212656199, 'gb_weight': 0.6238302514285545}. Best is trial 350 with value: 72568.41608726184.\n",
      "[I 2024-09-17 07:19:26,849] Trial 405 finished with value: 72568.57130254243 and parameters: {'lgbm_weight': 0.7655233025457315, 'xgb_weight': 0.4288107268342277, 'cb_weight': 0.7221389098658119, 'hgb_weight': 0.8896973014126892, 'gb_weight': 0.5936630234593788}. Best is trial 350 with value: 72568.41608726184.\n",
      "[I 2024-09-17 07:19:26,910] Trial 406 finished with value: 72568.80574736033 and parameters: {'lgbm_weight': 0.8868976025054016, 'xgb_weight': 0.38342323186057486, 'cb_weight': 0.747071553116376, 'hgb_weight': 0.8229750958151764, 'gb_weight': 0.5696555851909475}. Best is trial 350 with value: 72568.41608726184.\n",
      "[I 2024-09-17 07:19:26,971] Trial 407 finished with value: 72568.4637785194 and parameters: {'lgbm_weight': 0.8087437198387282, 'xgb_weight': 0.4431690954646128, 'cb_weight': 0.66302423627297, 'hgb_weight': 0.8527144480619928, 'gb_weight': 0.639422643408281}. Best is trial 350 with value: 72568.41608726184.\n",
      "[I 2024-09-17 07:19:27,032] Trial 408 finished with value: 72568.67322512384 and parameters: {'lgbm_weight': 0.8300374733526884, 'xgb_weight': 0.3471235710240898, 'cb_weight': 0.6401063781700082, 'hgb_weight': 0.8714588496625162, 'gb_weight': 0.5326150812540414}. Best is trial 350 with value: 72568.41608726184.\n",
      "[I 2024-09-17 07:19:27,093] Trial 409 finished with value: 72568.58370348936 and parameters: {'lgbm_weight': 0.8564037585619965, 'xgb_weight': 0.40818149587467073, 'cb_weight': 0.7032260665933125, 'hgb_weight': 0.7978468508258093, 'gb_weight': 0.6132693380738711}. Best is trial 350 with value: 72568.41608726184.\n",
      "[I 2024-09-17 07:19:27,154] Trial 410 finished with value: 72568.45550673785 and parameters: {'lgbm_weight': 0.7908830213198926, 'xgb_weight': 0.4569292500582326, 'cb_weight': 0.6830181957686801, 'hgb_weight': 0.8286741934835546, 'gb_weight': 0.5582107744531716}. Best is trial 350 with value: 72568.41608726184.\n",
      "[I 2024-09-17 07:19:27,215] Trial 411 finished with value: 72574.43566612995 and parameters: {'lgbm_weight': 0.3975316606953566, 'xgb_weight': 0.42582498824170356, 'cb_weight': 0.6141598966193728, 'hgb_weight': 0.8526085796987443, 'gb_weight': 0.5885567046814671}. Best is trial 350 with value: 72568.41608726184.\n",
      "[I 2024-09-17 07:19:27,275] Trial 412 finished with value: 72573.42317789995 and parameters: {'lgbm_weight': 0.4531533673218244, 'xgb_weight': 0.44068391077882807, 'cb_weight': 0.7154983852342771, 'hgb_weight': 0.9205256539475359, 'gb_weight': 0.49702884814517945}. Best is trial 350 with value: 72568.41608726184.\n",
      "[I 2024-09-17 07:19:27,335] Trial 413 finished with value: 72568.67037030772 and parameters: {'lgbm_weight': 0.8135221090131782, 'xgb_weight': 0.40135345448524573, 'cb_weight': 0.6542239827488187, 'hgb_weight': 0.8957829705400365, 'gb_weight': 0.6674798701440954}. Best is trial 350 with value: 72568.41608726184.\n",
      "[I 2024-09-17 07:19:27,395] Trial 414 finished with value: 72568.50595637159 and parameters: {'lgbm_weight': 0.7648535848258212, 'xgb_weight': 0.37174463699277494, 'cb_weight': 0.6754014299617007, 'hgb_weight': 0.8178165930954179, 'gb_weight': 0.6155091846763978}. Best is trial 350 with value: 72568.41608726184.\n",
      "[I 2024-09-17 07:19:27,455] Trial 415 finished with value: 72568.561940251 and parameters: {'lgbm_weight': 0.8446709497359743, 'xgb_weight': 0.4577488314731664, 'cb_weight': 0.7335939421249874, 'hgb_weight': 0.835267599585694, 'gb_weight': 0.5728812698546152}. Best is trial 350 with value: 72568.41608726184.\n",
      "[I 2024-09-17 07:19:27,515] Trial 416 finished with value: 72568.96907240622 and parameters: {'lgbm_weight': 0.7815597960333772, 'xgb_weight': 0.41972262389791265, 'cb_weight': 0.6948070587827276, 'hgb_weight': 0.6614286763933314, 'gb_weight': 0.6006904469088932}. Best is trial 350 with value: 72568.41608726184.\n",
      "[I 2024-09-17 07:19:27,574] Trial 417 finished with value: 72568.82834358883 and parameters: {'lgbm_weight': 0.8284176021143163, 'xgb_weight': 0.46467483189874276, 'cb_weight': 0.7941298341205979, 'hgb_weight': 0.8601392599378958, 'gb_weight': 0.5382252538106395}. Best is trial 350 with value: 72568.41608726184.\n",
      "[I 2024-09-17 07:19:27,633] Trial 418 finished with value: 72568.60723833377 and parameters: {'lgbm_weight': 0.8674936233175474, 'xgb_weight': 0.4365242190381771, 'cb_weight': 0.6337558559807039, 'hgb_weight': 0.8788728487629173, 'gb_weight': 0.6324656881108873}. Best is trial 350 with value: 72568.41608726184.\n",
      "[I 2024-09-17 07:19:27,694] Trial 419 finished with value: 72568.45610774981 and parameters: {'lgbm_weight': 0.7966189116270326, 'xgb_weight': 0.389314012654268, 'cb_weight': 0.6663299941223688, 'hgb_weight': 0.8091049114191912, 'gb_weight': 0.559170672197386}. Best is trial 350 with value: 72568.41608726184.\n",
      "[I 2024-09-17 07:19:27,753] Trial 420 finished with value: 72568.5959438623 and parameters: {'lgbm_weight': 0.8102810903385452, 'xgb_weight': 0.49077588079519935, 'cb_weight': 0.7094890167377971, 'hgb_weight': 0.7722630267619566, 'gb_weight': 0.6458259927533117}. Best is trial 350 with value: 72568.41608726184.\n",
      "[I 2024-09-17 07:19:27,812] Trial 421 finished with value: 72568.58285955599 and parameters: {'lgbm_weight': 0.7690498588403344, 'xgb_weight': 0.4191795614518919, 'cb_weight': 0.7505164929188953, 'hgb_weight': 0.8419249435392282, 'gb_weight': 0.587421071331881}. Best is trial 350 with value: 72568.41608726184.\n",
      "[I 2024-09-17 07:19:27,873] Trial 422 finished with value: 72569.30081670586 and parameters: {'lgbm_weight': 0.8359503990425855, 'xgb_weight': 0.4492220083426989, 'cb_weight': 0.5088479971620201, 'hgb_weight': 0.7976839405388649, 'gb_weight': 0.6124171067856139}. Best is trial 350 with value: 72568.41608726184.\n",
      "[I 2024-09-17 07:19:27,933] Trial 423 finished with value: 72568.4515697657 and parameters: {'lgbm_weight': 0.7922367410779355, 'xgb_weight': 0.40525944050357543, 'cb_weight': 0.6820802949759232, 'hgb_weight': 0.8688243989192586, 'gb_weight': 0.5716850449505249}. Best is trial 350 with value: 72568.41608726184.\n",
      "[I 2024-09-17 07:19:27,996] Trial 424 finished with value: 72569.32159868522 and parameters: {'lgbm_weight': 0.8536808151703021, 'xgb_weight': 0.3685851328640125, 'cb_weight': 0.5728039521483711, 'hgb_weight': 0.9051135975451784, 'gb_weight': 0.6903883392736935}. Best is trial 350 with value: 72568.41608726184.\n",
      "[I 2024-09-17 07:19:28,056] Trial 425 finished with value: 72570.27490418979 and parameters: {'lgbm_weight': 0.5871359133067192, 'xgb_weight': 0.46692747542777685, 'cb_weight': 0.7731944950410087, 'hgb_weight': 0.8356613939026971, 'gb_weight': 0.597681430908702}. Best is trial 350 with value: 72568.41608726184.\n",
      "[I 2024-09-17 07:19:28,115] Trial 426 finished with value: 72570.44573800995 and parameters: {'lgbm_weight': 0.9072936471834352, 'xgb_weight': 0.43432420663467936, 'cb_weight': 0.6400912121042072, 'hgb_weight': 0.9382403577088737, 'gb_weight': 0.9597872080061163}. Best is trial 350 with value: 72568.41608726184.\n",
      "[I 2024-09-17 07:19:28,181] Trial 427 finished with value: 72571.63305574417 and parameters: {'lgbm_weight': 0.8252893644719285, 'xgb_weight': 0.04832297473518743, 'cb_weight': 0.6555467982046848, 'hgb_weight': 0.8812773399060533, 'gb_weight': 0.6281369780803797}. Best is trial 350 with value: 72568.41608726184.\n",
      "[I 2024-09-17 07:19:28,241] Trial 428 finished with value: 72568.71230369745 and parameters: {'lgbm_weight': 0.8100726907517724, 'xgb_weight': 0.5086167684886402, 'cb_weight': 0.695494051537531, 'hgb_weight': 0.8543447771670835, 'gb_weight': 0.5075281367723763}. Best is trial 350 with value: 72568.41608726184.\n",
      "[I 2024-09-17 07:19:28,307] Trial 429 finished with value: 72568.86367179251 and parameters: {'lgbm_weight': 0.8791376645365618, 'xgb_weight': 0.47715244869712486, 'cb_weight': 0.7305552724751234, 'hgb_weight': 0.822737769961632, 'gb_weight': 0.5409348522040494}. Best is trial 350 with value: 72568.41608726184.\n",
      "[I 2024-09-17 07:19:28,388] Trial 430 finished with value: 72568.49357775983 and parameters: {'lgbm_weight': 0.761664244993468, 'xgb_weight': 0.4495398508194374, 'cb_weight': 0.6001065568557191, 'hgb_weight': 0.8002415665087506, 'gb_weight': 0.5786995150192771}. Best is trial 350 with value: 72568.41608726184.\n",
      "[I 2024-09-17 07:19:28,450] Trial 431 finished with value: 72568.68968504477 and parameters: {'lgbm_weight': 0.789135185130742, 'xgb_weight': 0.4154131343387412, 'cb_weight': 0.6209563805392961, 'hgb_weight': 0.8627628140678745, 'gb_weight': 0.6568352296721904}. Best is trial 350 with value: 72568.41608726184.\n",
      "[I 2024-09-17 07:19:28,512] Trial 432 finished with value: 72568.47792493057 and parameters: {'lgbm_weight': 0.842598171512995, 'xgb_weight': 0.39386859781032996, 'cb_weight': 0.7143757176913139, 'hgb_weight': 0.9005847596077643, 'gb_weight': 0.6058964444232042}. Best is trial 350 with value: 72568.41608726184.\n",
      "[I 2024-09-17 07:19:28,572] Trial 433 finished with value: 72568.49786648067 and parameters: {'lgbm_weight': 0.8195808639392417, 'xgb_weight': 0.4338055233887899, 'cb_weight': 0.6778628188830056, 'hgb_weight': 0.818725314610572, 'gb_weight': 0.5541436414664566}. Best is trial 350 with value: 72568.41608726184.\n",
      "[I 2024-09-17 07:19:28,635] Trial 434 finished with value: 72568.55221970179 and parameters: {'lgbm_weight': 0.8621514018886409, 'xgb_weight': 0.4678598137095368, 'cb_weight': 0.6508147423873125, 'hgb_weight': 0.8451505933852369, 'gb_weight': 0.6244567908943157}. Best is trial 350 with value: 72568.41608726184.\n",
      "[I 2024-09-17 07:19:28,696] Trial 435 finished with value: 72568.45787965076 and parameters: {'lgbm_weight': 0.7824359066549356, 'xgb_weight': 0.4252729528538593, 'cb_weight': 0.6924456693784529, 'hgb_weight': 0.7852056457963721, 'gb_weight': 0.5899861221001109}. Best is trial 350 with value: 72568.41608726184.\n",
      "[I 2024-09-17 07:19:28,758] Trial 436 finished with value: 72569.07058040545 and parameters: {'lgbm_weight': 0.8075156070044567, 'xgb_weight': 0.48681642211079884, 'cb_weight': 0.670122551512723, 'hgb_weight': 0.8837273240930963, 'gb_weight': 0.4240781701232186}. Best is trial 350 with value: 72568.41608726184.\n",
      "[I 2024-09-17 07:19:28,820] Trial 437 finished with value: 72568.71999307386 and parameters: {'lgbm_weight': 0.8305374945554534, 'xgb_weight': 0.4498511611497975, 'cb_weight': 0.7187339250289253, 'hgb_weight': 0.8292828002112584, 'gb_weight': 0.5148995840950445}. Best is trial 350 with value: 72568.41608726184.\n",
      "[I 2024-09-17 07:19:28,882] Trial 438 finished with value: 72568.71179108511 and parameters: {'lgbm_weight': 0.7586123058540354, 'xgb_weight': 0.5400880924954006, 'cb_weight': 0.7384568195472516, 'hgb_weight': 0.8652737288249712, 'gb_weight': 0.6427620771939497}. Best is trial 350 with value: 72568.41608726184.\n",
      "[I 2024-09-17 07:19:28,943] Trial 439 finished with value: 72568.5759597389 and parameters: {'lgbm_weight': 0.8024690757525066, 'xgb_weight': 0.38810287492905415, 'cb_weight': 0.6971493029313248, 'hgb_weight': 0.7657265338984423, 'gb_weight': 0.5684951595808759}. Best is trial 350 with value: 72568.41608726184.\n",
      "[I 2024-09-17 07:19:29,007] Trial 440 finished with value: 72568.72597729025 and parameters: {'lgbm_weight': 0.8870610871476261, 'xgb_weight': 0.4075221527197968, 'cb_weight': 0.6268220278051457, 'hgb_weight': 0.9097692491619206, 'gb_weight': 0.6160963186317797}. Best is trial 350 with value: 72568.41608726184.\n",
      "[I 2024-09-17 07:19:29,069] Trial 441 finished with value: 72568.65353166983 and parameters: {'lgbm_weight': 0.844422797344911, 'xgb_weight': 0.4395543534489589, 'cb_weight': 0.6619414470974437, 'hgb_weight': 0.8113629375184271, 'gb_weight': 0.5374606114072135}. Best is trial 350 with value: 72568.41608726184.\n",
      "[I 2024-09-17 07:19:29,130] Trial 442 finished with value: 72568.6626405452 and parameters: {'lgbm_weight': 0.772967440132889, 'xgb_weight': 0.3703378779153076, 'cb_weight': 0.7588995777753118, 'hgb_weight': 0.846153104095917, 'gb_weight': 0.5926249971275637}. Best is trial 350 with value: 72568.41608726184.\n",
      "[I 2024-09-17 07:19:29,193] Trial 443 finished with value: 72568.5705714615 and parameters: {'lgbm_weight': 0.8263615160535903, 'xgb_weight': 0.5035631989640784, 'cb_weight': 0.6828297916949906, 'hgb_weight': 0.9301426091705581, 'gb_weight': 0.6722054737548405}. Best is trial 350 with value: 72568.41608726184.\n",
      "[I 2024-09-17 07:19:29,256] Trial 444 finished with value: 72568.82318264648 and parameters: {'lgbm_weight': 0.795307532467906, 'xgb_weight': 0.46562618501669895, 'cb_weight': 0.646145317822374, 'hgb_weight': 0.9529709537258454, 'gb_weight': 0.4750285919249359}. Best is trial 350 with value: 72568.41608726184.\n",
      "[I 2024-09-17 07:19:29,320] Trial 445 finished with value: 72570.03630797462 and parameters: {'lgbm_weight': 0.8544698761023971, 'xgb_weight': 0.3440188646218354, 'cb_weight': 0.7206019218755574, 'hgb_weight': 0.6278983821030721, 'gb_weight': 0.5593095768860947}. Best is trial 350 with value: 72568.41608726184.\n",
      "[I 2024-09-17 07:19:29,383] Trial 446 finished with value: 72568.47554020127 and parameters: {'lgbm_weight': 0.7597326015499781, 'xgb_weight': 0.4202369278833692, 'cb_weight': 0.7028686873425735, 'hgb_weight': 0.7976106573401232, 'gb_weight': 0.6089854435830396}. Best is trial 350 with value: 72568.41608726184.\n",
      "[I 2024-09-17 07:19:29,445] Trial 447 finished with value: 72569.67985027691 and parameters: {'lgbm_weight': 0.6173954456331691, 'xgb_weight': 0.45130948565158385, 'cb_weight': 0.6692127768711402, 'hgb_weight': 0.8857698183608367, 'gb_weight': 0.5819320956680608}. Best is trial 350 with value: 72568.41608726184.\n",
      "[I 2024-09-17 07:19:29,508] Trial 448 finished with value: 72568.52315466749 and parameters: {'lgbm_weight': 0.8161752416792546, 'xgb_weight': 0.401050151448923, 'cb_weight': 0.6428398344611848, 'hgb_weight': 0.840333784881387, 'gb_weight': 0.6320606946927461}. Best is trial 350 with value: 72568.41608726184.\n",
      "[I 2024-09-17 07:19:29,570] Trial 449 finished with value: 72568.47534679096 and parameters: {'lgbm_weight': 0.7819689076683102, 'xgb_weight': 0.48517070575024906, 'cb_weight': 0.7035800687526734, 'hgb_weight': 0.8610172328072184, 'gb_weight': 0.5993657091267495}. Best is trial 350 with value: 72568.41608726184.\n",
      "[I 2024-09-17 07:19:29,632] Trial 450 finished with value: 72568.72370605488 and parameters: {'lgbm_weight': 0.8772503123632148, 'xgb_weight': 0.43133134660795713, 'cb_weight': 0.680331416257986, 'hgb_weight': 0.8226833606614842, 'gb_weight': 0.5535890461928131}. Best is trial 350 with value: 72568.41608726184.\n",
      "[I 2024-09-17 07:19:29,693] Trial 451 finished with value: 72568.94156472928 and parameters: {'lgbm_weight': 0.8433492556569375, 'xgb_weight': 0.38012258898245427, 'cb_weight': 0.7408510367843216, 'hgb_weight': 0.7803094749582459, 'gb_weight': 0.5291068159334886}. Best is trial 350 with value: 72568.41608726184.\n",
      "[I 2024-09-17 07:19:29,755] Trial 452 finished with value: 72568.55237255942 and parameters: {'lgbm_weight': 0.794764148165704, 'xgb_weight': 0.4538783254042811, 'cb_weight': 0.658931085447222, 'hgb_weight': 0.8845164598412929, 'gb_weight': 0.6500559231486107}. Best is trial 350 with value: 72568.41608726184.\n",
      "[I 2024-09-17 07:19:29,817] Trial 453 finished with value: 72575.97300227567 and parameters: {'lgbm_weight': 0.826009069198588, 'xgb_weight': 0.41434203091352767, 'cb_weight': 0.6183021394831014, 'hgb_weight': 0.8671269391802632, 'gb_weight': 0.061139427672052604}. Best is trial 350 with value: 72568.41608726184.\n",
      "[I 2024-09-17 07:19:29,878] Trial 454 finished with value: 72568.51370316827 and parameters: {'lgbm_weight': 0.8050977361030462, 'xgb_weight': 0.47211697653998147, 'cb_weight': 0.7239870154099621, 'hgb_weight': 0.9171317021549418, 'gb_weight': 0.5734137969787236}. Best is trial 350 with value: 72568.41608726184.\n",
      "[I 2024-09-17 07:19:29,940] Trial 455 finished with value: 72568.4930007193 and parameters: {'lgbm_weight': 0.8587188126385201, 'xgb_weight': 0.43672283663616907, 'cb_weight': 0.6890787847103059, 'hgb_weight': 0.8325325654975324, 'gb_weight': 0.6195061247447253}. Best is trial 350 with value: 72568.41608726184.\n",
      "[I 2024-09-17 07:19:30,005] Trial 456 finished with value: 72571.00942911702 and parameters: {'lgbm_weight': 0.5435236345340609, 'xgb_weight': 0.5204892052168696, 'cb_weight': 0.6701058752213406, 'hgb_weight': 0.7935236422364957, 'gb_weight': 0.7129702022518032}. Best is trial 350 with value: 72568.41608726184.\n",
      "[I 2024-09-17 07:19:30,067] Trial 457 finished with value: 72568.5310298037 and parameters: {'lgbm_weight': 0.7662715356805511, 'xgb_weight': 0.4915644457396894, 'cb_weight': 0.6339201398163178, 'hgb_weight': 0.8510053884881568, 'gb_weight': 0.5980303397499943}. Best is trial 350 with value: 72568.41608726184.\n",
      "[I 2024-09-17 07:19:30,132] Trial 458 finished with value: 72568.48805174757 and parameters: {'lgbm_weight': 0.8346310476348582, 'xgb_weight': 0.4014051008131175, 'cb_weight': 0.708145071105302, 'hgb_weight': 0.8139899396241815, 'gb_weight': 0.6322275977532076}. Best is trial 350 with value: 72568.41608726184.\n",
      "[I 2024-09-17 07:19:30,195] Trial 459 finished with value: 72568.79001659578 and parameters: {'lgbm_weight': 0.7781015484343783, 'xgb_weight': 0.35843652505710843, 'cb_weight': 0.6002423604602278, 'hgb_weight': 0.8930774606134663, 'gb_weight': 0.579099873799107}. Best is trial 350 with value: 72568.41608726184.\n",
      "[I 2024-09-17 07:19:30,261] Trial 460 finished with value: 72568.66309588565 and parameters: {'lgbm_weight': 0.8109997508223091, 'xgb_weight': 0.46151083713464286, 'cb_weight': 0.7705774683827409, 'hgb_weight': 0.8740565279549943, 'gb_weight': 0.5493720389705196}. Best is trial 350 with value: 72568.41608726184.\n",
      "[I 2024-09-17 07:19:30,325] Trial 461 finished with value: 72568.5995928975 and parameters: {'lgbm_weight': 0.7564275730800787, 'xgb_weight': 0.4234153567437938, 'cb_weight': 0.7458831527744898, 'hgb_weight': 0.8432221989880943, 'gb_weight': 0.6121435230917996}. Best is trial 350 with value: 72568.41608726184.\n",
      "[I 2024-09-17 07:19:30,389] Trial 462 finished with value: 72568.8438348171 and parameters: {'lgbm_weight': 0.8675907143098426, 'xgb_weight': 0.4433788094110182, 'cb_weight': 0.6492805923389117, 'hgb_weight': 0.8163437165902937, 'gb_weight': 0.5200004416691442}. Best is trial 350 with value: 72568.41608726184.\n",
      "[I 2024-09-17 07:19:30,454] Trial 463 finished with value: 72568.56341332867 and parameters: {'lgbm_weight': 0.7937467514453318, 'xgb_weight': 0.37859667499928373, 'cb_weight': 0.6872282768824746, 'hgb_weight': 0.7576161594208068, 'gb_weight': 0.5689402636334921}. Best is trial 350 with value: 72568.41608726184.\n",
      "[I 2024-09-17 07:19:30,520] Trial 464 finished with value: 72570.48849124591 and parameters: {'lgbm_weight': 0.823167098269508, 'xgb_weight': 0.4061261409246681, 'cb_weight': 0.7158984470813784, 'hgb_weight': 0.5355832692049636, 'gb_weight': 0.6606135646645412}. Best is trial 350 with value: 72568.41608726184.\n",
      "[I 2024-09-17 07:19:30,584] Trial 465 finished with value: 72568.64360397845 and parameters: {'lgbm_weight': 0.8955632407770776, 'xgb_weight': 0.47516421575388423, 'cb_weight': 0.6661544089758523, 'hgb_weight': 0.8593578040005169, 'gb_weight': 0.5949794461240528}. Best is trial 350 with value: 72568.41608726184.\n",
      "[I 2024-09-17 07:19:30,648] Trial 466 finished with value: 72568.52633715927 and parameters: {'lgbm_weight': 0.8441358771202541, 'xgb_weight': 0.43210211622026, 'cb_weight': 0.6986271028104108, 'hgb_weight': 0.7974966363787529, 'gb_weight': 0.6317398775557566}. Best is trial 350 with value: 72568.41608726184.\n",
      "[I 2024-09-17 07:19:30,711] Trial 467 finished with value: 72568.85220603472 and parameters: {'lgbm_weight': 0.786159666445391, 'xgb_weight': 0.4975377146587705, 'cb_weight': 0.6271044314433833, 'hgb_weight': 0.9776709161967906, 'gb_weight': 0.5371783328076704}. Best is trial 350 with value: 72568.41608726184.\n",
      "[I 2024-09-17 07:19:30,774] Trial 468 finished with value: 72570.43638633662 and parameters: {'lgbm_weight': 0.8159946894462807, 'xgb_weight': 0.11769523475570276, 'cb_weight': 0.7362178444818033, 'hgb_weight': 0.9038396462602489, 'gb_weight': 0.5835390969460116}. Best is trial 350 with value: 72568.41608726184.\n",
      "[I 2024-09-17 07:19:30,836] Trial 469 finished with value: 72568.52777403026 and parameters: {'lgbm_weight': 0.744482444369532, 'xgb_weight': 0.4586909313185239, 'cb_weight': 0.6833786506570344, 'hgb_weight': 0.8355525347453634, 'gb_weight': 0.61624316141052}. Best is trial 350 with value: 72568.41608726184.\n",
      "[I 2024-09-17 07:19:30,901] Trial 470 finished with value: 72570.75648299567 and parameters: {'lgbm_weight': 0.7048209011174855, 'xgb_weight': 0.39282142863323855, 'cb_weight': 0.35341727398380157, 'hgb_weight': 0.778111618258436, 'gb_weight': 0.5582229570549414}. Best is trial 350 with value: 72568.41608726184.\n",
      "[I 2024-09-17 07:19:30,964] Trial 471 finished with value: 72568.56932732664 and parameters: {'lgbm_weight': 0.8561357109270298, 'xgb_weight': 0.4200869017109369, 'cb_weight': 0.6470831867140382, 'hgb_weight': 0.8753753979118705, 'gb_weight': 0.6449459738491706}. Best is trial 350 with value: 72568.41608726184.\n",
      "[I 2024-09-17 07:19:31,029] Trial 472 finished with value: 72568.48227842925 and parameters: {'lgbm_weight': 0.8354495914035376, 'xgb_weight': 0.4448314653276364, 'cb_weight': 0.7227031692176807, 'hgb_weight': 0.820746812243094, 'gb_weight': 0.6087183325158319}. Best is trial 350 with value: 72568.41608726184.\n",
      "[I 2024-09-17 07:19:31,092] Trial 473 finished with value: 72568.46093881794 and parameters: {'lgbm_weight': 0.7735641363546251, 'xgb_weight': 0.4743074863711858, 'cb_weight': 0.6684389248859957, 'hgb_weight': 0.855751720042766, 'gb_weight': 0.5894399881434309}. Best is trial 350 with value: 72568.41608726184.\n",
      "[I 2024-09-17 07:19:31,155] Trial 474 finished with value: 72568.71065274766 and parameters: {'lgbm_weight': 0.8050480654028268, 'xgb_weight': 0.4134462225216054, 'cb_weight': 0.7039897050500188, 'hgb_weight': 0.9259221737253251, 'gb_weight': 0.4947822945420719}. Best is trial 350 with value: 72568.41608726184.\n",
      "[I 2024-09-17 07:19:31,218] Trial 475 finished with value: 72578.52659261107 and parameters: {'lgbm_weight': 0.759200539593146, 'xgb_weight': 0.4382523970194289, 'cb_weight': 0.7562767508618571, 'hgb_weight': 0.23418658633297862, 'gb_weight': 0.5637835713007446}. Best is trial 350 with value: 72568.41608726184.\n",
      "[I 2024-09-17 07:19:31,284] Trial 476 finished with value: 72568.6023657735 and parameters: {'lgbm_weight': 0.8242152994550322, 'xgb_weight': 0.5087385957635406, 'cb_weight': 0.6578112738169601, 'hgb_weight': 0.8941005250366365, 'gb_weight': 0.678123880914951}. Best is trial 350 with value: 72568.41608726184.\n",
      "[I 2024-09-17 07:19:31,349] Trial 477 finished with value: 72568.47428816579 and parameters: {'lgbm_weight': 0.795312884126901, 'xgb_weight': 0.38400230589690293, 'cb_weight': 0.6858757650450943, 'hgb_weight': 0.8362247138943028, 'gb_weight': 0.6241861762633466}. Best is trial 350 with value: 72568.41608726184.\n",
      "[I 2024-09-17 07:19:31,413] Trial 478 finished with value: 72568.6760479244 and parameters: {'lgbm_weight': 0.8668006865659563, 'xgb_weight': 0.45347081486855245, 'cb_weight': 0.6107717241588648, 'hgb_weight': 0.8717019358112311, 'gb_weight': 0.5999705915230006}. Best is trial 350 with value: 72568.41608726184.\n",
      "[I 2024-09-17 07:19:31,477] Trial 479 finished with value: 72568.79143596343 and parameters: {'lgbm_weight': 0.7218689751119214, 'xgb_weight': 0.48688121162431763, 'cb_weight': 0.72562672042988, 'hgb_weight': 0.8020406621930538, 'gb_weight': 0.5360499491190087}. Best is trial 350 with value: 72568.41608726184.\n",
      "[I 2024-09-17 07:19:31,540] Trial 480 finished with value: 72577.95959288545 and parameters: {'lgbm_weight': 0.3064969752218601, 'xgb_weight': 0.42251959844940407, 'cb_weight': 0.6445664380274697, 'hgb_weight': 0.8471345752856702, 'gb_weight': 0.5758228943592109}. Best is trial 350 with value: 72568.41608726184.\n",
      "[I 2024-09-17 07:19:31,604] Trial 481 finished with value: 72568.6651723089 and parameters: {'lgbm_weight': 0.8398048220062782, 'xgb_weight': 0.3587293752412575, 'cb_weight': 0.6986983339406847, 'hgb_weight': 0.7743480684259128, 'gb_weight': 0.6455451198439384}. Best is trial 350 with value: 72568.41608726184.\n",
      "[I 2024-09-17 07:19:31,668] Trial 482 finished with value: 72569.73302355052 and parameters: {'lgbm_weight': 0.9196838353918455, 'xgb_weight': 0.4645794210426403, 'cb_weight': 0.5498475134599151, 'hgb_weight': 0.8112496675264892, 'gb_weight': 0.5163404040519809}. Best is trial 350 with value: 72568.41608726184.\n",
      "[I 2024-09-17 07:19:31,732] Trial 483 finished with value: 72570.50891796315 and parameters: {'lgbm_weight': 0.8116981929314311, 'xgb_weight': 0.8597664873906913, 'cb_weight': 0.627570486799825, 'hgb_weight': 0.8825590557887989, 'gb_weight': 0.6029072569692477}. Best is trial 350 with value: 72568.41608726184.\n",
      "[I 2024-09-17 07:19:31,796] Trial 484 finished with value: 72568.43188828076 and parameters: {'lgbm_weight': 0.7778794101815343, 'xgb_weight': 0.40279099751922703, 'cb_weight': 0.6719328883970129, 'hgb_weight': 0.8336647891862009, 'gb_weight': 0.5581448338684804}. Best is trial 350 with value: 72568.41608726184.\n",
      "[I 2024-09-17 07:19:31,859] Trial 485 finished with value: 72568.99058038976 and parameters: {'lgbm_weight': 0.7419097213795586, 'xgb_weight': 0.4369506355245782, 'cb_weight': 0.792950051257625, 'hgb_weight': 0.9177107542691196, 'gb_weight': 0.5804637604200035}. Best is trial 350 with value: 72568.41608726184.\n",
      "[I 2024-09-17 07:19:31,923] Trial 486 finished with value: 72568.76339810432 and parameters: {'lgbm_weight': 0.8502222848682913, 'xgb_weight': 0.4577786509605787, 'cb_weight': 0.5858040883169251, 'hgb_weight': 0.8530219035237809, 'gb_weight': 0.6179023844706274}. Best is trial 350 with value: 72568.41608726184.\n",
      "[I 2024-09-17 07:19:31,987] Trial 487 finished with value: 72569.4500966081 and parameters: {'lgbm_weight': 0.882740607533929, 'xgb_weight': 0.21279000406553972, 'cb_weight': 0.7105582768812331, 'hgb_weight': 0.8189746559951693, 'gb_weight': 0.6379104889089755}. Best is trial 350 with value: 72568.41608726184.\n",
      "[I 2024-09-17 07:19:32,053] Trial 488 finished with value: 72569.00267733228 and parameters: {'lgbm_weight': 0.6756910661347457, 'xgb_weight': 0.3946694525588857, 'cb_weight': 0.7419535162265162, 'hgb_weight': 0.7926114741419972, 'gb_weight': 0.5413467439313105}. Best is trial 350 with value: 72568.41608726184.\n",
      "[I 2024-09-17 07:19:32,117] Trial 489 finished with value: 72568.58748972225 and parameters: {'lgbm_weight': 0.7953697227903733, 'xgb_weight': 0.4173510511359246, 'cb_weight': 0.6868230518955646, 'hgb_weight': 0.8939050930144986, 'gb_weight': 0.6614763256560836}. Best is trial 350 with value: 72568.41608726184.\n",
      "[I 2024-09-17 07:19:32,181] Trial 490 finished with value: 72568.4751015618 and parameters: {'lgbm_weight': 0.8304184018277501, 'xgb_weight': 0.4902931758425785, 'cb_weight': 0.660382947875821, 'hgb_weight': 0.8683474828376351, 'gb_weight': 0.591041480553814}. Best is trial 350 with value: 72568.41608726184.\n",
      "[I 2024-09-17 07:19:32,244] Trial 491 finished with value: 72568.59463096956 and parameters: {'lgbm_weight': 0.7636888281601575, 'xgb_weight': 0.43394269901169075, 'cb_weight': 0.7087177544323126, 'hgb_weight': 0.7516364869046316, 'gb_weight': 0.5684632146048261}. Best is trial 350 with value: 72568.41608726184.\n",
      "[I 2024-09-17 07:19:32,310] Trial 492 finished with value: 72574.76487471024 and parameters: {'lgbm_weight': 0.8033425660391722, 'xgb_weight': 0.47051621868949844, 'cb_weight': 0.6342938226086963, 'hgb_weight': 0.3336817495027283, 'gb_weight': 0.6163223664013859}. Best is trial 350 with value: 72568.41608726184.\n",
      "[I 2024-09-17 07:19:32,375] Trial 493 finished with value: 72568.59957997892 and parameters: {'lgbm_weight': 0.8186146402689268, 'xgb_weight': 0.330147804670372, 'cb_weight': 0.6768421117621665, 'hgb_weight': 0.8311520561205283, 'gb_weight': 0.5975054685316854}. Best is trial 350 with value: 72568.41608726184.\n",
      "[I 2024-09-17 07:19:32,440] Trial 494 finished with value: 72588.9493668226 and parameters: {'lgbm_weight': 0.78425412259406, 'xgb_weight': 0.5215165571063051, 'cb_weight': 0.4898280299670109, 'hgb_weight': 0.06667614258723698, 'gb_weight': 0.549039222359149}. Best is trial 350 with value: 72568.41608726184.\n",
      "[I 2024-09-17 07:19:32,504] Trial 495 finished with value: 72568.7223223998 and parameters: {'lgbm_weight': 0.8530450705282745, 'xgb_weight': 0.3788322475127181, 'cb_weight': 0.6534286211726158, 'hgb_weight': 0.9425795200075283, 'gb_weight': 0.631682258085183}. Best is trial 350 with value: 72568.41608726184.\n",
      "[I 2024-09-17 07:19:32,567] Trial 496 finished with value: 72568.65070367529 and parameters: {'lgbm_weight': 0.7355926489635054, 'xgb_weight': 0.44909457869910774, 'cb_weight': 0.7272154308688988, 'hgb_weight': 0.8594347715964062, 'gb_weight': 0.5808620146993996}. Best is trial 350 with value: 72568.41608726184.\n",
      "[I 2024-09-17 07:19:32,631] Trial 497 finished with value: 72569.09808445738 and parameters: {'lgbm_weight': 0.8708899491755833, 'xgb_weight': 0.41064068976173157, 'cb_weight': 0.7731013064668469, 'hgb_weight': 0.8083461688764061, 'gb_weight': 0.5199785499249768}. Best is trial 350 with value: 72568.41608726184.\n",
      "[I 2024-09-17 07:19:32,695] Trial 498 finished with value: 72569.67740150754 and parameters: {'lgbm_weight': 0.6363454144050724, 'xgb_weight': 0.42949298959831794, 'cb_weight': 0.6874745729241023, 'hgb_weight': 0.9060815074778532, 'gb_weight': 0.6036327923760384}. Best is trial 350 with value: 72568.41608726184.\n",
      "[I 2024-09-17 07:19:32,761] Trial 499 finished with value: 72568.49708514006 and parameters: {'lgbm_weight': 0.755009824901261, 'xgb_weight': 0.4816764408817533, 'cb_weight': 0.6669613430843878, 'hgb_weight': 0.8422004155422379, 'gb_weight': 0.5655218525196909}. Best is trial 350 with value: 72568.41608726184.\n"
     ]
    }
   ],
   "source": [
    "sampler = optuna.samplers.TPESampler(seed=CFG.seed)\n",
    "study = optuna.create_study(direction='minimize', sampler=sampler)\n",
    "study.optimize(objective, n_trials=500)"
   ]
  },
  {
   "cell_type": "code",
   "execution_count": 20,
   "id": "5f3e31c6",
   "metadata": {
    "execution": {
     "iopub.execute_input": "2024-09-17T07:19:32.909194Z",
     "iopub.status.busy": "2024-09-17T07:19:32.908112Z",
     "iopub.status.idle": "2024-09-17T07:19:32.913861Z",
     "shell.execute_reply": "2024-09-17T07:19:32.912926Z"
    },
    "papermill": {
     "duration": 0.077084,
     "end_time": "2024-09-17T07:19:32.916545",
     "exception": false,
     "start_time": "2024-09-17T07:19:32.839461",
     "status": "completed"
    },
    "tags": []
   },
   "outputs": [],
   "source": [
    "scores['Weighted Averaging'] = [study.best_value] * CFG.n_folds"
   ]
  },
  {
   "cell_type": "code",
   "execution_count": 21,
   "id": "0617ddda",
   "metadata": {
    "execution": {
     "iopub.execute_input": "2024-09-17T07:19:33.055310Z",
     "iopub.status.busy": "2024-09-17T07:19:33.054851Z",
     "iopub.status.idle": "2024-09-17T07:19:33.063686Z",
     "shell.execute_reply": "2024-09-17T07:19:33.062229Z"
    },
    "papermill": {
     "duration": 0.081586,
     "end_time": "2024-09-17T07:19:33.066226",
     "exception": false,
     "start_time": "2024-09-17T07:19:32.984640",
     "status": "completed"
    },
    "tags": []
   },
   "outputs": [],
   "source": [
    "best_weights = study.best_params\n",
    "best_weights = [best_weights[f'{model}_weight'] for model in ['lgbm', 'xgb', 'cb', 'hgb', 'gb']]\n",
    "best_weights /= np.sum(best_weights)"
   ]
  },
  {
   "cell_type": "code",
   "execution_count": 22,
   "id": "51e23044",
   "metadata": {
    "execution": {
     "iopub.execute_input": "2024-09-17T07:19:33.202218Z",
     "iopub.status.busy": "2024-09-17T07:19:33.201369Z",
     "iopub.status.idle": "2024-09-17T07:19:33.672481Z",
     "shell.execute_reply": "2024-09-17T07:19:33.671303Z"
    },
    "papermill": {
     "duration": 0.542113,
     "end_time": "2024-09-17T07:19:33.675343",
     "exception": false,
     "start_time": "2024-09-17T07:19:33.133230",
     "status": "completed"
    },
    "tags": []
   },
   "outputs": [
    {
     "data": {
      "image/png": "[encoded data removed]",
      "text/plain": [
       "<Figure size 1000x400 with 1 Axes>"
      ]
     },
     "metadata": {},
     "output_type": "display_data"
    }
   ],
   "source": [
    "plot_weights('Optuna Weights', best_weights)"
   ]
  },
  {
   "cell_type": "markdown",
   "id": "1cc3a28c",
   "metadata": {
    "papermill": {
     "duration": 0.068337,
     "end_time": "2024-09-17T07:19:33.812201",
     "exception": false,
     "start_time": "2024-09-17T07:19:33.743864",
     "status": "completed"
    },
    "tags": []
   },
   "source": [
    "To make predictions with this 'model', we can simply use the weights that we found and take the weighted average of the test predictions of each base model."
   ]
  },
  {
   "cell_type": "code",
   "execution_count": 23,
   "id": "37bcf0cc",
   "metadata": {
    "execution": {
     "iopub.execute_input": "2024-09-17T07:19:33.951008Z",
     "iopub.status.busy": "2024-09-17T07:19:33.949870Z",
     "iopub.status.idle": "2024-09-17T07:19:33.957713Z",
     "shell.execute_reply": "2024-09-17T07:19:33.956667Z"
    },
    "papermill": {
     "duration": 0.079332,
     "end_time": "2024-09-17T07:19:33.960358",
     "exception": false,
     "start_time": "2024-09-17T07:19:33.881026",
     "status": "completed"
    },
    "tags": []
   },
   "outputs": [],
   "source": [
    "weighted_test_preds = np.zeros((test.shape[0]))\n",
    "for model, weight in zip(test_preds.keys(), best_weights):\n",
    "    weighted_test_preds += test_preds[model] * weight"
   ]
  },
  {
   "cell_type": "code",
   "execution_count": 24,
   "id": "7c229068",
   "metadata": {
    "execution": {
     "iopub.execute_input": "2024-09-17T07:19:34.101527Z",
     "iopub.status.busy": "2024-09-17T07:19:34.100629Z",
     "iopub.status.idle": "2024-09-17T07:19:34.597672Z",
     "shell.execute_reply": "2024-09-17T07:19:34.596332Z"
    },
    "papermill": {
     "duration": 0.569228,
     "end_time": "2024-09-17T07:19:34.600628",
     "exception": false,
     "start_time": "2024-09-17T07:19:34.031400",
     "status": "completed"
    },
    "tags": []
   },
   "outputs": [
    {
     "data": {
      "text/html": [
       "<div>\n",
       "<style scoped>\n",
       "    .dataframe tbody tr th:only-of-type {\n",
       "        vertical-align: middle;\n",
       "    }\n",
       "\n",
       "    .dataframe tbody tr th {\n",
       "        vertical-align: top;\n",
       "    }\n",
       "\n",
       "    .dataframe thead th {\n",
       "        text-align: right;\n",
       "    }\n",
       "</style>\n",
       "<table border=\"1\" class=\"dataframe\">\n",
       "  <thead>\n",
       "    <tr style=\"text-align: right;\">\n",
       "      <th></th>\n",
       "      <th>id</th>\n",
       "      <th>price</th>\n",
       "    </tr>\n",
       "  </thead>\n",
       "  <tbody>\n",
       "    <tr>\n",
       "      <th>0</th>\n",
       "      <td>188533</td>\n",
       "      <td>18896.390869</td>\n",
       "    </tr>\n",
       "    <tr>\n",
       "      <th>1</th>\n",
       "      <td>188534</td>\n",
       "      <td>82910.245117</td>\n",
       "    </tr>\n",
       "    <tr>\n",
       "      <th>2</th>\n",
       "      <td>188535</td>\n",
       "      <td>55348.020996</td>\n",
       "    </tr>\n",
       "    <tr>\n",
       "      <th>3</th>\n",
       "      <td>188536</td>\n",
       "      <td>25190.216064</td>\n",
       "    </tr>\n",
       "    <tr>\n",
       "      <th>4</th>\n",
       "      <td>188537</td>\n",
       "      <td>30626.414551</td>\n",
       "    </tr>\n",
       "  </tbody>\n",
       "</table>\n",
       "</div>"
      ],
      "text/plain": [
       "       id         price\n",
       "0  188533  18896.390869\n",
       "1  188534  82910.245117\n",
       "2  188535  55348.020996\n",
       "3  188536  25190.216064\n",
       "4  188537  30626.414551"
      ]
     },
     "execution_count": 24,
     "metadata": {},
     "output_type": "execute_result"
    }
   ],
   "source": [
    "save_submission(weighted_test_preds, 'weighted-averaging', study.best_value).head()"
   ]
  },
  {
   "cell_type": "markdown",
   "id": "c2c88e15",
   "metadata": {
    "papermill": {
     "duration": 0.068405,
     "end_time": "2024-09-17T07:19:34.737402",
     "exception": false,
     "start_time": "2024-09-17T07:19:34.668997",
     "status": "completed"
    },
    "tags": []
   },
   "source": [
    "## Ridge\n",
    "\n",
    "Instead of tuning ensemble weights, we can use a meta-model that uses the predictions of the base models as features and learns the best way to combine them. The regularized linear model, Ridge, is a popular choice for this purpose. It learns a linear combination of the features and assigns weights to each model that minimizes its error. The L2 regularization term in Ridge penalizes large weights (coefficients), ensuring that no single model dominates the ensemble.\n",
    "\n",
    "Since we are using the predictions as features, it is likely that these features are highly correlated with each other. Ridge is especially effective at handling this multicollinearity.\n",
    "\n",
    "Before feeding the predictions to the model, I will create a dataframe out of the prediction and scale the values using `MinMaxScaler`. This gives a small boost to the CV score."
   ]
  },
  {
   "cell_type": "code",
   "execution_count": 25,
   "id": "7054fde5",
   "metadata": {
    "execution": {
     "iopub.execute_input": "2024-09-17T07:19:34.876818Z",
     "iopub.status.busy": "2024-09-17T07:19:34.876392Z",
     "iopub.status.idle": "2024-09-17T07:19:34.895118Z",
     "shell.execute_reply": "2024-09-17T07:19:34.893971Z"
    },
    "papermill": {
     "duration": 0.091339,
     "end_time": "2024-09-17T07:19:34.897890",
     "exception": false,
     "start_time": "2024-09-17T07:19:34.806551",
     "status": "completed"
    },
    "tags": []
   },
   "outputs": [],
   "source": [
    "_X = pd.DataFrame(oof_preds)\n",
    "_X_test = pd.DataFrame(test_preds)\n",
    "\n",
    "scaler = MinMaxScaler().set_output(transform='pandas')\n",
    "_X = scaler.fit_transform(_X)\n",
    "_X_test = scaler.transform(_X_test)"
   ]
  },
  {
   "cell_type": "code",
   "execution_count": 26,
   "id": "45e22f0b",
   "metadata": {
    "execution": {
     "iopub.execute_input": "2024-09-17T07:19:35.038027Z",
     "iopub.status.busy": "2024-09-17T07:19:35.037597Z",
     "iopub.status.idle": "2024-09-17T07:19:36.470630Z",
     "shell.execute_reply": "2024-09-17T07:19:36.469144Z"
    },
    "papermill": {
     "duration": 1.50681,
     "end_time": "2024-09-17T07:19:36.473423",
     "exception": false,
     "start_time": "2024-09-17T07:19:34.966613",
     "status": "completed"
    },
    "tags": []
   },
   "outputs": [
    {
     "name": "stdout",
     "output_type": "stream",
     "text": [
      "Training Ridge\n",
      "\n",
      "--- Fold 1 - RMSE: 71770\n",
      "--- Fold 2 - RMSE: 73136\n",
      "--- Fold 3 - RMSE: 72537\n",
      "--- Fold 4 - RMSE: 72016\n",
      "--- Fold 5 - RMSE: 73350\n",
      "\n",
      "Overall RMSE: 72564 ± 613\n"
     ]
    }
   ],
   "source": [
    "ridge_model = Ridge()\n",
    "ridge_trainer = Trainer(ridge_model, CFG, True)\n",
    "_, ridge_test_preds, scores['Ridge'], ridge_coeffs = ridge_trainer.fit_predict(_X, y, _X_test)"
   ]
  },
  {
   "cell_type": "code",
   "execution_count": 27,
   "id": "668c3ed4",
   "metadata": {
    "execution": {
     "iopub.execute_input": "2024-09-17T07:19:36.615045Z",
     "iopub.status.busy": "2024-09-17T07:19:36.614610Z",
     "iopub.status.idle": "2024-09-17T07:19:37.035133Z",
     "shell.execute_reply": "2024-09-17T07:19:37.034051Z"
    },
    "papermill": {
     "duration": 0.494821,
     "end_time": "2024-09-17T07:19:37.038251",
     "exception": false,
     "start_time": "2024-09-17T07:19:36.543430",
     "status": "completed"
    },
    "tags": []
   },
   "outputs": [
    {
     "data": {
      "image/png": "[encoded data removed]",
      "text/plain": [
       "<Figure size 1000x400 with 1 Axes>"
      ]
     },
     "metadata": {},
     "output_type": "display_data"
    }
   ],
   "source": [
    "plot_weights('Ridge coefficients', ridge_coeffs)"
   ]
  },
  {
   "cell_type": "code",
   "execution_count": 28,
   "id": "2c548e46",
   "metadata": {
    "execution": {
     "iopub.execute_input": "2024-09-17T07:19:37.179399Z",
     "iopub.status.busy": "2024-09-17T07:19:37.178923Z",
     "iopub.status.idle": "2024-09-17T07:19:37.532549Z",
     "shell.execute_reply": "2024-09-17T07:19:37.531359Z"
    },
    "papermill": {
     "duration": 0.42668,
     "end_time": "2024-09-17T07:19:37.535095",
     "exception": false,
     "start_time": "2024-09-17T07:19:37.108415",
     "status": "completed"
    },
    "tags": []
   },
   "outputs": [
    {
     "data": {
      "text/html": [
       "<div>\n",
       "<style scoped>\n",
       "    .dataframe tbody tr th:only-of-type {\n",
       "        vertical-align: middle;\n",
       "    }\n",
       "\n",
       "    .dataframe tbody tr th {\n",
       "        vertical-align: top;\n",
       "    }\n",
       "\n",
       "    .dataframe thead th {\n",
       "        text-align: right;\n",
       "    }\n",
       "</style>\n",
       "<table border=\"1\" class=\"dataframe\">\n",
       "  <thead>\n",
       "    <tr style=\"text-align: right;\">\n",
       "      <th></th>\n",
       "      <th>id</th>\n",
       "      <th>price</th>\n",
       "    </tr>\n",
       "  </thead>\n",
       "  <tbody>\n",
       "    <tr>\n",
       "      <th>0</th>\n",
       "      <td>188533</td>\n",
       "      <td>17899.542969</td>\n",
       "    </tr>\n",
       "    <tr>\n",
       "      <th>1</th>\n",
       "      <td>188534</td>\n",
       "      <td>84385.312500</td>\n",
       "    </tr>\n",
       "    <tr>\n",
       "      <th>2</th>\n",
       "      <td>188535</td>\n",
       "      <td>55736.390625</td>\n",
       "    </tr>\n",
       "    <tr>\n",
       "      <th>3</th>\n",
       "      <td>188536</td>\n",
       "      <td>24629.558594</td>\n",
       "    </tr>\n",
       "    <tr>\n",
       "      <th>4</th>\n",
       "      <td>188537</td>\n",
       "      <td>30135.728516</td>\n",
       "    </tr>\n",
       "  </tbody>\n",
       "</table>\n",
       "</div>"
      ],
      "text/plain": [
       "       id         price\n",
       "0  188533  17899.542969\n",
       "1  188534  84385.312500\n",
       "2  188535  55736.390625\n",
       "3  188536  24629.558594\n",
       "4  188537  30135.728516"
      ]
     },
     "execution_count": 28,
     "metadata": {},
     "output_type": "execute_result"
    }
   ],
   "source": [
    "save_submission(ridge_test_preds, 'ridge', np.mean(scores['Ridge'])).head()"
   ]
  },
  {
   "cell_type": "markdown",
   "id": "7aaef5f0",
   "metadata": {
    "papermill": {
     "duration": 0.071451,
     "end_time": "2024-09-17T07:19:37.676401",
     "exception": false,
     "start_time": "2024-09-17T07:19:37.604950",
     "status": "completed"
    },
    "tags": []
   },
   "source": [
    "## Lasso\n",
    "\n",
    "Lasso is another good option when choosing a meta-model for ensembling. Similar to Ridge, Lasso is a regularized linear model. However, unlike Ridge, which includes an L2 regularization term, Lasso has an inbuilt L1 regularization. One interesting property of Lasso is that it can set a models weight to zero, meaning it essentially performs feature selection and discards the least useful features."
   ]
  },
  {
   "cell_type": "code",
   "execution_count": 29,
   "id": "943aa00f",
   "metadata": {
    "execution": {
     "iopub.execute_input": "2024-09-17T07:19:37.816916Z",
     "iopub.status.busy": "2024-09-17T07:19:37.816499Z",
     "iopub.status.idle": "2024-09-17T07:19:39.523852Z",
     "shell.execute_reply": "2024-09-17T07:19:39.522351Z"
    },
    "papermill": {
     "duration": 1.780758,
     "end_time": "2024-09-17T07:19:39.526617",
     "exception": false,
     "start_time": "2024-09-17T07:19:37.745859",
     "status": "completed"
    },
    "tags": []
   },
   "outputs": [
    {
     "name": "stdout",
     "output_type": "stream",
     "text": [
      "Training Lasso\n",
      "\n",
      "--- Fold 1 - RMSE: 71770\n",
      "--- Fold 2 - RMSE: 73136\n",
      "--- Fold 3 - RMSE: 72537\n",
      "--- Fold 4 - RMSE: 72016\n",
      "--- Fold 5 - RMSE: 73350\n",
      "\n",
      "Overall RMSE: 72564 ± 613\n"
     ]
    }
   ],
   "source": [
    "lasso_model = Lasso()\n",
    "lasso_trainer = Trainer(lasso_model, CFG, True)\n",
    "_, lasso_test_preds, scores['Lasso'], lasso_coeffs = lasso_trainer.fit_predict(_X, y, _X_test)"
   ]
  },
  {
   "cell_type": "code",
   "execution_count": 30,
   "id": "7d38b7ad",
   "metadata": {
    "execution": {
     "iopub.execute_input": "2024-09-17T07:19:39.671523Z",
     "iopub.status.busy": "2024-09-17T07:19:39.671028Z",
     "iopub.status.idle": "2024-09-17T07:19:40.098615Z",
     "shell.execute_reply": "2024-09-17T07:19:40.097418Z"
    },
    "papermill": {
     "duration": 0.503566,
     "end_time": "2024-09-17T07:19:40.101151",
     "exception": false,
     "start_time": "2024-09-17T07:19:39.597585",
     "status": "completed"
    },
    "tags": []
   },
   "outputs": [
    {
     "data": {
      "image/png": "[encoded data removed]",
      "text/plain": [
       "<Figure size 1000x400 with 1 Axes>"
      ]
     },
     "metadata": {},
     "output_type": "display_data"
    }
   ],
   "source": [
    "plot_weights('Lasso coefficients', lasso_coeffs)"
   ]
  },
  {
   "cell_type": "code",
   "execution_count": 31,
   "id": "b003513e",
   "metadata": {
    "execution": {
     "iopub.execute_input": "2024-09-17T07:19:40.247041Z",
     "iopub.status.busy": "2024-09-17T07:19:40.246498Z",
     "iopub.status.idle": "2024-09-17T07:19:40.605694Z",
     "shell.execute_reply": "2024-09-17T07:19:40.604232Z"
    },
    "papermill": {
     "duration": 0.435202,
     "end_time": "2024-09-17T07:19:40.609135",
     "exception": false,
     "start_time": "2024-09-17T07:19:40.173933",
     "status": "completed"
    },
    "tags": []
   },
   "outputs": [
    {
     "data": {
      "text/html": [
       "<div>\n",
       "<style scoped>\n",
       "    .dataframe tbody tr th:only-of-type {\n",
       "        vertical-align: middle;\n",
       "    }\n",
       "\n",
       "    .dataframe tbody tr th {\n",
       "        vertical-align: top;\n",
       "    }\n",
       "\n",
       "    .dataframe thead th {\n",
       "        text-align: right;\n",
       "    }\n",
       "</style>\n",
       "<table border=\"1\" class=\"dataframe\">\n",
       "  <thead>\n",
       "    <tr style=\"text-align: right;\">\n",
       "      <th></th>\n",
       "      <th>id</th>\n",
       "      <th>price</th>\n",
       "    </tr>\n",
       "  </thead>\n",
       "  <tbody>\n",
       "    <tr>\n",
       "      <th>0</th>\n",
       "      <td>188533</td>\n",
       "      <td>17894.437500</td>\n",
       "    </tr>\n",
       "    <tr>\n",
       "      <th>1</th>\n",
       "      <td>188534</td>\n",
       "      <td>84380.351562</td>\n",
       "    </tr>\n",
       "    <tr>\n",
       "      <th>2</th>\n",
       "      <td>188535</td>\n",
       "      <td>55732.539062</td>\n",
       "    </tr>\n",
       "    <tr>\n",
       "      <th>3</th>\n",
       "      <td>188536</td>\n",
       "      <td>24633.019531</td>\n",
       "    </tr>\n",
       "    <tr>\n",
       "      <th>4</th>\n",
       "      <td>188537</td>\n",
       "      <td>30134.214844</td>\n",
       "    </tr>\n",
       "  </tbody>\n",
       "</table>\n",
       "</div>"
      ],
      "text/plain": [
       "       id         price\n",
       "0  188533  17894.437500\n",
       "1  188534  84380.351562\n",
       "2  188535  55732.539062\n",
       "3  188536  24633.019531\n",
       "4  188537  30134.214844"
      ]
     },
     "execution_count": 31,
     "metadata": {},
     "output_type": "execute_result"
    }
   ],
   "source": [
    "save_submission(lasso_test_preds, 'lasso', np.mean(scores['Lasso'])).head()"
   ]
  },
  {
   "cell_type": "markdown",
   "id": "d16ab2a2",
   "metadata": {
    "papermill": {
     "duration": 0.072109,
     "end_time": "2024-09-17T07:19:40.757613",
     "exception": false,
     "start_time": "2024-09-17T07:19:40.685504",
     "status": "completed"
    },
    "tags": []
   },
   "source": [
    "## Hill climbing\n",
    "\n",
    "In my opinion, hill climbing is an underused ensembling method in competitions. It is a simple, yet effective method to create an ensemble from OOF files. I will use the implementation from a fellow Kaggler. You can learn more about this library [here](https://github.com/Matt-OP/hillclimbers/)."
   ]
  },
  {
   "cell_type": "code",
   "execution_count": 32,
   "id": "a444621b",
   "metadata": {
    "execution": {
     "iopub.execute_input": "2024-09-17T07:19:40.906121Z",
     "iopub.status.busy": "2024-09-17T07:19:40.905641Z",
     "iopub.status.idle": "2024-09-17T07:19:40.911453Z",
     "shell.execute_reply": "2024-09-17T07:19:40.910336Z"
    },
    "papermill": {
     "duration": 0.082566,
     "end_time": "2024-09-17T07:19:40.913961",
     "exception": false,
     "start_time": "2024-09-17T07:19:40.831395",
     "status": "completed"
    },
    "tags": []
   },
   "outputs": [],
   "source": [
    "def rmse(y_true, y_pred):\n",
    "    return mean_squared_error(y_true, y_pred, squared=False)"
   ]
  },
  {
   "cell_type": "code",
   "execution_count": 33,
   "id": "27d58369",
   "metadata": {
    "execution": {
     "iopub.execute_input": "2024-09-17T07:19:41.063555Z",
     "iopub.status.busy": "2024-09-17T07:19:41.062443Z",
     "iopub.status.idle": "2024-09-17T07:20:06.577736Z",
     "shell.execute_reply": "2024-09-17T07:20:06.576442Z"
    },
    "papermill": {
     "duration": 25.593783,
     "end_time": "2024-09-17T07:20:06.580688",
     "exception": false,
     "start_time": "2024-09-17T07:19:40.986905",
     "status": "completed"
    },
    "tags": []
   },
   "outputs": [
    {
     "name": "stdout",
     "output_type": "stream",
     "text": [
      "\u001b[1m\u001b[34m   /\\  \n",
      "  /__\\  hillclimbers\u001b[0m\u001b[1m \n",
      " /    \\\n",
      "/______\\ \n",
      "\u001b[0m\n",
      "\u001b[1m\u001b[33mModels to be ensembled | (5 total):\u001b[0m \n",
      "\n",
      "\u001b[1m\u001b[32mXGBoost:          72741.08115 (best solo model)\u001b[0m\n",
      "\u001b[1mHistGB:           72770.69506\u001b[0m\n",
      "\u001b[1mGradientBoosting: 72787.74993\u001b[0m\n",
      "\u001b[1mCatBoost:         72815.98617\u001b[0m\n",
      "\u001b[1mLightGBM:         72888.85263\u001b[0m\n",
      "\n",
      "\u001b[1m\u001b[33m[Data preparation completed successfully] - [Initiate hill climbing]\u001b[0m \n",
      "\n",
      "\u001b[1m\u001b[32mIteration: 1 | Model added: HistGB | Best weight: 0.470 | Best rmse: 72633.50589\u001b[0m\n",
      "\u001b[1m\u001b[32mIteration: 2 | Model added: LightGBM | Best weight: 0.266 | Best rmse: 72594.70204\u001b[0m\n",
      "\u001b[1m\u001b[32mIteration: 3 | Model added: CatBoost | Best weight: 0.187 | Best rmse: 72582.34006\u001b[0m\n",
      "\u001b[1m\u001b[32mIteration: 4 | Model added: GradientBoosting | Best weight: 0.176 | Best rmse: 72572.56824\u001b[0m\n"
     ]
    },
    {
     "data": {
      "text/html": [
       "        <script type=\"text/javascript\">\n",
       "        window.PlotlyConfig = {MathJaxConfig: 'local'};\n",
       "        if (window.MathJax && window.MathJax.Hub && window.MathJax.Hub.Config) {window.MathJax.Hub.Config({SVG: {font: \"STIX-Web\"}});}\n",
       "        if (typeof require !== 'undefined') {\n",
       "        require.undef(\"plotly\");\n",
       "        requirejs.config({\n",
       "            paths: {\n",
       "                'plotly': ['https://cdn.plot.ly/plotly-2.32.0.min']\n",
       "            }\n",
       "        });\n",
       "        require(['plotly'], function(Plotly) {\n",
       "            window._Plotly = Plotly;\n",
       "        });\n",
       "        }\n",
       "        </script>\n",
       "        "
      ]
     },
     "metadata": {},
     "output_type": "display_data"
    },
    {
     "data": {
      "text/html": [
       "<div>                            <div id=\"e4a7a381-ec55-4414-9981-4e30fd8df76c\" class=\"plotly-graph-div\" style=\"height:500px; width:900px;\"></div>            <script type=\"text/javascript\">                require([\"plotly\"], function(Plotly) {                    window.PLOTLYENV=window.PLOTLYENV || {};                                    if (document.getElementById(\"e4a7a381-ec55-4414-9981-4e30fd8df76c\")) {                    Plotly.newPlot(                        \"e4a7a381-ec55-4414-9981-4e30fd8df76c\",                        [{\"hovertemplate\":\"Number of Models: %{x}\\u003cbr\\u003eCV: %{y}\",\"legendgroup\":\"\",\"line\":{\"color\":\"#009933\",\"dash\":\"solid\"},\"marker\":{\"symbol\":\"circle\",\"line\":{\"color\":\"#FFFFFF\",\"width\":1.5},\"color\":\"#33cc33\",\"size\":10},\"mode\":\"lines+markers+text\",\"name\":\"\",\"orientation\":\"v\",\"showlegend\":false,\"text\":[72741.08115,72633.50589,72594.70204,72582.34006,72572.56824],\"x\":[1,2,3,4,5],\"xaxis\":\"x\",\"y\":[72741.0811547534,72633.50589319447,72594.7020394183,72582.34005874176,72572.56823809192],\"yaxis\":\"y\",\"type\":\"scatter\",\"textfont\":{\"size\":10},\"textposition\":\"top center\"}],                        {\"template\":{\"data\":{\"barpolar\":[{\"marker\":{\"line\":{\"color\":\"rgb(17,17,17)\",\"width\":0.5},\"pattern\":{\"fillmode\":\"overlay\",\"size\":10,\"solidity\":0.2}},\"type\":\"barpolar\"}],\"bar\":[{\"error_x\":{\"color\":\"#f2f5fa\"},\"error_y\":{\"color\":\"#f2f5fa\"},\"marker\":{\"line\":{\"color\":\"rgb(17,17,17)\",\"width\":0.5},\"pattern\":{\"fillmode\":\"overlay\",\"size\":10,\"solidity\":0.2}},\"type\":\"bar\"}],\"carpet\":[{\"aaxis\":{\"endlinecolor\":\"#A2B1C6\",\"gridcolor\":\"#506784\",\"linecolor\":\"#506784\",\"minorgridcolor\":\"#506784\",\"startlinecolor\":\"#A2B1C6\"},\"baxis\":{\"endlinecolor\":\"#A2B1C6\",\"gridcolor\":\"#506784\",\"linecolor\":\"#506784\",\"minorgridcolor\":\"#506784\",\"startlinecolor\":\"#A2B1C6\"},\"type\":\"carpet\"}],\"choropleth\":[{\"colorbar\":{\"outlinewidth\":0,\"ticks\":\"\"},\"type\":\"choropleth\"}],\"contourcarpet\":[{\"colorbar\":{\"outlinewidth\":0,\"ticks\":\"\"},\"type\":\"contourcarpet\"}],\"contour\":[{\"colorbar\":{\"outlinewidth\":0,\"ticks\":\"\"},\"colorscale\":[[0.0,\"#0d0887\"],[0.1111111111111111,\"#46039f\"],[0.2222222222222222,\"#7201a8\"],[0.3333333333333333,\"#9c179e\"],[0.4444444444444444,\"#bd3786\"],[0.5555555555555556,\"#d8576b\"],[0.6666666666666666,\"#ed7953\"],[0.7777777777777778,\"#fb9f3a\"],[0.8888888888888888,\"#fdca26\"],[1.0,\"#f0f921\"]],\"type\":\"contour\"}],\"heatmapgl\":[{\"colorbar\":{\"outlinewidth\":0,\"ticks\":\"\"},\"colorscale\":[[0.0,\"#0d0887\"],[0.1111111111111111,\"#46039f\"],[0.2222222222222222,\"#7201a8\"],[0.3333333333333333,\"#9c179e\"],[0.4444444444444444,\"#bd3786\"],[0.5555555555555556,\"#d8576b\"],[0.6666666666666666,\"#ed7953\"],[0.7777777777777778,\"#fb9f3a\"],[0.8888888888888888,\"#fdca26\"],[1.0,\"#f0f921\"]],\"type\":\"heatmapgl\"}],\"heatmap\":[{\"colorbar\":{\"outlinewidth\":0,\"ticks\":\"\"},\"colorscale\":[[0.0,\"#0d0887\"],[0.1111111111111111,\"#46039f\"],[0.2222222222222222,\"#7201a8\"],[0.3333333333333333,\"#9c179e\"],[0.4444444444444444,\"#bd3786\"],[0.5555555555555556,\"#d8576b\"],[0.6666666666666666,\"#ed7953\"],[0.7777777777777778,\"#fb9f3a\"],[0.8888888888888888,\"#fdca26\"],[1.0,\"#f0f921\"]],\"type\":\"heatmap\"}],\"histogram2dcontour\":[{\"colorbar\":{\"outlinewidth\":0,\"ticks\":\"\"},\"colorscale\":[[0.0,\"#0d0887\"],[0.1111111111111111,\"#46039f\"],[0.2222222222222222,\"#7201a8\"],[0.3333333333333333,\"#9c179e\"],[0.4444444444444444,\"#bd3786\"],[0.5555555555555556,\"#d8576b\"],[0.6666666666666666,\"#ed7953\"],[0.7777777777777778,\"#fb9f3a\"],[0.8888888888888888,\"#fdca26\"],[1.0,\"#f0f921\"]],\"type\":\"histogram2dcontour\"}],\"histogram2d\":[{\"colorbar\":{\"outlinewidth\":0,\"ticks\":\"\"},\"colorscale\":[[0.0,\"#0d0887\"],[0.1111111111111111,\"#46039f\"],[0.2222222222222222,\"#7201a8\"],[0.3333333333333333,\"#9c179e\"],[0.4444444444444444,\"#bd3786\"],[0.5555555555555556,\"#d8576b\"],[0.6666666666666666,\"#ed7953\"],[0.7777777777777778,\"#fb9f3a\"],[0.8888888888888888,\"#fdca26\"],[1.0,\"#f0f921\"]],\"type\":\"histogram2d\"}],\"histogram\":[{\"marker\":{\"pattern\":{\"fillmode\":\"overlay\",\"size\":10,\"solidity\":0.2}},\"type\":\"histogram\"}],\"mesh3d\":[{\"colorbar\":{\"outlinewidth\":0,\"ticks\":\"\"},\"type\":\"mesh3d\"}],\"parcoords\":[{\"line\":{\"colorbar\":{\"outlinewidth\":0,\"ticks\":\"\"}},\"type\":\"parcoords\"}],\"pie\":[{\"automargin\":true,\"type\":\"pie\"}],\"scatter3d\":[{\"line\":{\"colorbar\":{\"outlinewidth\":0,\"ticks\":\"\"}},\"marker\":{\"colorbar\":{\"outlinewidth\":0,\"ticks\":\"\"}},\"type\":\"scatter3d\"}],\"scattercarpet\":[{\"marker\":{\"colorbar\":{\"outlinewidth\":0,\"ticks\":\"\"}},\"type\":\"scattercarpet\"}],\"scattergeo\":[{\"marker\":{\"colorbar\":{\"outlinewidth\":0,\"ticks\":\"\"}},\"type\":\"scattergeo\"}],\"scattergl\":[{\"marker\":{\"line\":{\"color\":\"#283442\"}},\"type\":\"scattergl\"}],\"scattermapbox\":[{\"marker\":{\"colorbar\":{\"outlinewidth\":0,\"ticks\":\"\"}},\"type\":\"scattermapbox\"}],\"scatterpolargl\":[{\"marker\":{\"colorbar\":{\"outlinewidth\":0,\"ticks\":\"\"}},\"type\":\"scatterpolargl\"}],\"scatterpolar\":[{\"marker\":{\"colorbar\":{\"outlinewidth\":0,\"ticks\":\"\"}},\"type\":\"scatterpolar\"}],\"scatter\":[{\"marker\":{\"line\":{\"color\":\"#283442\"}},\"type\":\"scatter\"}],\"scatterternary\":[{\"marker\":{\"colorbar\":{\"outlinewidth\":0,\"ticks\":\"\"}},\"type\":\"scatterternary\"}],\"surface\":[{\"colorbar\":{\"outlinewidth\":0,\"ticks\":\"\"},\"colorscale\":[[0.0,\"#0d0887\"],[0.1111111111111111,\"#46039f\"],[0.2222222222222222,\"#7201a8\"],[0.3333333333333333,\"#9c179e\"],[0.4444444444444444,\"#bd3786\"],[0.5555555555555556,\"#d8576b\"],[0.6666666666666666,\"#ed7953\"],[0.7777777777777778,\"#fb9f3a\"],[0.8888888888888888,\"#fdca26\"],[1.0,\"#f0f921\"]],\"type\":\"surface\"}],\"table\":[{\"cells\":{\"fill\":{\"color\":\"#506784\"},\"line\":{\"color\":\"rgb(17,17,17)\"}},\"header\":{\"fill\":{\"color\":\"#2a3f5f\"},\"line\":{\"color\":\"rgb(17,17,17)\"}},\"type\":\"table\"}]},\"layout\":{\"annotationdefaults\":{\"arrowcolor\":\"#f2f5fa\",\"arrowhead\":0,\"arrowwidth\":1},\"autotypenumbers\":\"strict\",\"coloraxis\":{\"colorbar\":{\"outlinewidth\":0,\"ticks\":\"\"}},\"colorscale\":{\"diverging\":[[0,\"#8e0152\"],[0.1,\"#c51b7d\"],[0.2,\"#de77ae\"],[0.3,\"#f1b6da\"],[0.4,\"#fde0ef\"],[0.5,\"#f7f7f7\"],[0.6,\"#e6f5d0\"],[0.7,\"#b8e186\"],[0.8,\"#7fbc41\"],[0.9,\"#4d9221\"],[1,\"#276419\"]],\"sequential\":[[0.0,\"#0d0887\"],[0.1111111111111111,\"#46039f\"],[0.2222222222222222,\"#7201a8\"],[0.3333333333333333,\"#9c179e\"],[0.4444444444444444,\"#bd3786\"],[0.5555555555555556,\"#d8576b\"],[0.6666666666666666,\"#ed7953\"],[0.7777777777777778,\"#fb9f3a\"],[0.8888888888888888,\"#fdca26\"],[1.0,\"#f0f921\"]],\"sequentialminus\":[[0.0,\"#0d0887\"],[0.1111111111111111,\"#46039f\"],[0.2222222222222222,\"#7201a8\"],[0.3333333333333333,\"#9c179e\"],[0.4444444444444444,\"#bd3786\"],[0.5555555555555556,\"#d8576b\"],[0.6666666666666666,\"#ed7953\"],[0.7777777777777778,\"#fb9f3a\"],[0.8888888888888888,\"#fdca26\"],[1.0,\"#f0f921\"]]},\"colorway\":[\"#636efa\",\"#EF553B\",\"#00cc96\",\"#ab63fa\",\"#FFA15A\",\"#19d3f3\",\"#FF6692\",\"#B6E880\",\"#FF97FF\",\"#FECB52\"],\"font\":{\"color\":\"#f2f5fa\"},\"geo\":{\"bgcolor\":\"rgb(17,17,17)\",\"lakecolor\":\"rgb(17,17,17)\",\"landcolor\":\"rgb(17,17,17)\",\"showlakes\":true,\"showland\":true,\"subunitcolor\":\"#506784\"},\"hoverlabel\":{\"align\":\"left\"},\"hovermode\":\"closest\",\"mapbox\":{\"style\":\"dark\"},\"paper_bgcolor\":\"rgb(17,17,17)\",\"plot_bgcolor\":\"rgb(17,17,17)\",\"polar\":{\"angularaxis\":{\"gridcolor\":\"#506784\",\"linecolor\":\"#506784\",\"ticks\":\"\"},\"bgcolor\":\"rgb(17,17,17)\",\"radialaxis\":{\"gridcolor\":\"#506784\",\"linecolor\":\"#506784\",\"ticks\":\"\"}},\"scene\":{\"xaxis\":{\"backgroundcolor\":\"rgb(17,17,17)\",\"gridcolor\":\"#506784\",\"gridwidth\":2,\"linecolor\":\"#506784\",\"showbackground\":true,\"ticks\":\"\",\"zerolinecolor\":\"#C8D4E3\"},\"yaxis\":{\"backgroundcolor\":\"rgb(17,17,17)\",\"gridcolor\":\"#506784\",\"gridwidth\":2,\"linecolor\":\"#506784\",\"showbackground\":true,\"ticks\":\"\",\"zerolinecolor\":\"#C8D4E3\"},\"zaxis\":{\"backgroundcolor\":\"rgb(17,17,17)\",\"gridcolor\":\"#506784\",\"gridwidth\":2,\"linecolor\":\"#506784\",\"showbackground\":true,\"ticks\":\"\",\"zerolinecolor\":\"#C8D4E3\"}},\"shapedefaults\":{\"line\":{\"color\":\"#f2f5fa\"}},\"sliderdefaults\":{\"bgcolor\":\"#C8D4E3\",\"bordercolor\":\"rgb(17,17,17)\",\"borderwidth\":1,\"tickwidth\":0},\"ternary\":{\"aaxis\":{\"gridcolor\":\"#506784\",\"linecolor\":\"#506784\",\"ticks\":\"\"},\"baxis\":{\"gridcolor\":\"#506784\",\"linecolor\":\"#506784\",\"ticks\":\"\"},\"bgcolor\":\"rgb(17,17,17)\",\"caxis\":{\"gridcolor\":\"#506784\",\"linecolor\":\"#506784\",\"ticks\":\"\"}},\"title\":{\"x\":0.05},\"updatemenudefaults\":{\"bgcolor\":\"#506784\",\"borderwidth\":0},\"xaxis\":{\"automargin\":true,\"gridcolor\":\"#283442\",\"linecolor\":\"#506784\",\"ticks\":\"\",\"title\":{\"standoff\":15},\"zerolinecolor\":\"#283442\",\"zerolinewidth\":2},\"yaxis\":{\"automargin\":true,\"gridcolor\":\"#283442\",\"linecolor\":\"#506784\",\"ticks\":\"\",\"title\":{\"standoff\":15},\"zerolinecolor\":\"#283442\",\"zerolinewidth\":2}}},\"xaxis\":{\"anchor\":\"y\",\"domain\":[0.0,1.0],\"title\":{\"text\":\"Number of models\"},\"tickmode\":\"array\",\"tickvals\":[1,2,3,4,5]},\"yaxis\":{\"anchor\":\"x\",\"domain\":[0.0,1.0],\"title\":{\"text\":\"rmse\"}},\"legend\":{\"tracegroupgap\":0},\"title\":{\"text\":\"Cross Validation rmse vs. Number of Models with Hill Climbing\"},\"autosize\":false,\"width\":900,\"height\":500},                        {\"responsive\": true}                    ).then(function(){\n",
       "                            \n",
       "var gd = document.getElementById('e4a7a381-ec55-4414-9981-4e30fd8df76c');\n",
       "var x = new MutationObserver(function (mutations, observer) {{\n",
       "        var display = window.getComputedStyle(gd).display;\n",
       "        if (!display || display === 'none') {{\n",
       "            console.log([gd, 'removed!']);\n",
       "            Plotly.purge(gd);\n",
       "            observer.disconnect();\n",
       "        }}\n",
       "}});\n",
       "\n",
       "// Listen for the removal of the full notebook cells\n",
       "var notebookContainer = gd.closest('#notebook-container');\n",
       "if (notebookContainer) {{\n",
       "    x.observe(notebookContainer, {childList: true});\n",
       "}}\n",
       "\n",
       "// Listen for the clearing of the current output cell\n",
       "var outputEl = gd.closest('.output');\n",
       "if (outputEl) {{\n",
       "    x.observe(outputEl, {childList: true});\n",
       "}}\n",
       "\n",
       "                        })                };                });            </script>        </div>"
      ]
     },
     "metadata": {},
     "output_type": "display_data"
    }
   ],
   "source": [
    "hc_test_preds, hc_oof_preds = climb_hill(\n",
    "    train=train, \n",
    "    oof_pred_df=pd.DataFrame(oof_preds), \n",
    "    test_pred_df=pd.DataFrame(test_preds),\n",
    "    target=CFG.target,\n",
    "    objective='minimize', \n",
    "    eval_metric=partial(rmse),\n",
    "    negative_weights=True, \n",
    "    precision=0.001, \n",
    "    plot_hill=True, \n",
    "    plot_hist=False,\n",
    "    return_oof_preds=True\n",
    ")"
   ]
  },
  {
   "cell_type": "code",
   "execution_count": 34,
   "id": "cb6d290c",
   "metadata": {
    "execution": {
     "iopub.execute_input": "2024-09-17T07:20:06.731295Z",
     "iopub.status.busy": "2024-09-17T07:20:06.730223Z",
     "iopub.status.idle": "2024-09-17T07:20:06.738148Z",
     "shell.execute_reply": "2024-09-17T07:20:06.736959Z"
    },
    "papermill": {
     "duration": 0.08542,
     "end_time": "2024-09-17T07:20:06.740839",
     "exception": false,
     "start_time": "2024-09-17T07:20:06.655419",
     "status": "completed"
    },
    "tags": []
   },
   "outputs": [],
   "source": [
    "hc_score = mean_squared_error(hc_oof_preds, y, squared=False)\n",
    "scores['Hill Climbing'] = [hc_score] * CFG.n_folds"
   ]
  },
  {
   "cell_type": "code",
   "execution_count": 35,
   "id": "a44e6766",
   "metadata": {
    "execution": {
     "iopub.execute_input": "2024-09-17T07:20:06.888198Z",
     "iopub.status.busy": "2024-09-17T07:20:06.887768Z",
     "iopub.status.idle": "2024-09-17T07:20:07.245391Z",
     "shell.execute_reply": "2024-09-17T07:20:07.244134Z"
    },
    "papermill": {
     "duration": 0.434342,
     "end_time": "2024-09-17T07:20:07.248141",
     "exception": false,
     "start_time": "2024-09-17T07:20:06.813799",
     "status": "completed"
    },
    "tags": []
   },
   "outputs": [
    {
     "data": {
      "text/html": [
       "<div>\n",
       "<style scoped>\n",
       "    .dataframe tbody tr th:only-of-type {\n",
       "        vertical-align: middle;\n",
       "    }\n",
       "\n",
       "    .dataframe tbody tr th {\n",
       "        vertical-align: top;\n",
       "    }\n",
       "\n",
       "    .dataframe thead th {\n",
       "        text-align: right;\n",
       "    }\n",
       "</style>\n",
       "<table border=\"1\" class=\"dataframe\">\n",
       "  <thead>\n",
       "    <tr style=\"text-align: right;\">\n",
       "      <th></th>\n",
       "      <th>id</th>\n",
       "      <th>price</th>\n",
       "    </tr>\n",
       "  </thead>\n",
       "  <tbody>\n",
       "    <tr>\n",
       "      <th>0</th>\n",
       "      <td>188533</td>\n",
       "      <td>19620.767578</td>\n",
       "    </tr>\n",
       "    <tr>\n",
       "      <th>1</th>\n",
       "      <td>188534</td>\n",
       "      <td>83063.843750</td>\n",
       "    </tr>\n",
       "    <tr>\n",
       "      <th>2</th>\n",
       "      <td>188535</td>\n",
       "      <td>54896.496094</td>\n",
       "    </tr>\n",
       "    <tr>\n",
       "      <th>3</th>\n",
       "      <td>188536</td>\n",
       "      <td>26109.210938</td>\n",
       "    </tr>\n",
       "    <tr>\n",
       "      <th>4</th>\n",
       "      <td>188537</td>\n",
       "      <td>31218.263672</td>\n",
       "    </tr>\n",
       "  </tbody>\n",
       "</table>\n",
       "</div>"
      ],
      "text/plain": [
       "       id         price\n",
       "0  188533  19620.767578\n",
       "1  188534  83063.843750\n",
       "2  188535  54896.496094\n",
       "3  188536  26109.210938\n",
       "4  188537  31218.263672"
      ]
     },
     "execution_count": 35,
     "metadata": {},
     "output_type": "execute_result"
    }
   ],
   "source": [
    "save_submission(hc_test_preds, 'hill-climbing', hc_score).head()"
   ]
  },
  {
   "cell_type": "markdown",
   "id": "6210a4e8",
   "metadata": {
    "papermill": {
     "duration": 0.073322,
     "end_time": "2024-09-17T07:20:07.395395",
     "exception": false,
     "start_time": "2024-09-17T07:20:07.322073",
     "status": "completed"
    },
    "tags": []
   },
   "source": [
    "## Voting\n",
    "\n",
    "The methods shown previously all use OOF predictions and are generally faster ways to ensemble. Voting, however, re-fits each model that it is given from scratch. The regression version of the voting model averages the predictions from the base models. It can also accept a list of weights and compute the weighted average. It is not very different from the simple averaging model shown earlier."
   ]
  },
  {
   "cell_type": "code",
   "execution_count": 36,
   "id": "03af79b7",
   "metadata": {
    "execution": {
     "iopub.execute_input": "2024-09-17T07:20:07.542830Z",
     "iopub.status.busy": "2024-09-17T07:20:07.542384Z",
     "iopub.status.idle": "2024-09-17T07:20:07.549567Z",
     "shell.execute_reply": "2024-09-17T07:20:07.548244Z"
    },
    "papermill": {
     "duration": 0.083708,
     "end_time": "2024-09-17T07:20:07.552231",
     "exception": false,
     "start_time": "2024-09-17T07:20:07.468523",
     "status": "completed"
    },
    "tags": []
   },
   "outputs": [],
   "source": [
    "estimators = [\n",
    "    ('LightGBM',           LGBMRegressor(**lgbm_params)),\n",
    "    ('XGBoost',            XGBRegressor(**xgb_params)),\n",
    "    ('CatBoost',           CatBoostRegressor(**cb_params)),\n",
    "    ('HistGB',             HistGradientBoostingRegressor(**hgb_params)),\n",
    "    ('GradientBoosting',   GradientBoostingRegressor(**gb_params))\n",
    "]"
   ]
  },
  {
   "cell_type": "code",
   "execution_count": 37,
   "id": "9f840e81",
   "metadata": {
    "execution": {
     "iopub.execute_input": "2024-09-17T07:20:07.699795Z",
     "iopub.status.busy": "2024-09-17T07:20:07.699351Z",
     "iopub.status.idle": "2024-09-17T07:50:33.110930Z",
     "shell.execute_reply": "2024-09-17T07:50:33.109615Z"
    },
    "papermill": {
     "duration": 1825.562446,
     "end_time": "2024-09-17T07:50:33.187143",
     "exception": false,
     "start_time": "2024-09-17T07:20:07.624697",
     "status": "completed"
    },
    "tags": []
   },
   "outputs": [
    {
     "name": "stdout",
     "output_type": "stream",
     "text": [
      "Training VotingRegressor\n",
      "\n",
      "--- Fold 1 - RMSE: 71859\n",
      "--- Fold 2 - RMSE: 73189\n",
      "--- Fold 3 - RMSE: 72606\n",
      "--- Fold 4 - RMSE: 72049\n",
      "--- Fold 5 - RMSE: 73410\n",
      "\n",
      "Overall RMSE: 72625 ± 609\n"
     ]
    }
   ],
   "source": [
    "X, y, X_test, _ = get_data(impute=True, encode=True)\n",
    "voting_model = VotingRegressor(estimators=estimators)\n",
    "voting_trainer = Trainer(voting_model, CFG)\n",
    "_, voting_test_preds, scores['Voting'] = voting_trainer.fit_predict(X, y, X_test)"
   ]
  },
  {
   "cell_type": "code",
   "execution_count": 38,
   "id": "0e3e4bf4",
   "metadata": {
    "execution": {
     "iopub.execute_input": "2024-09-17T07:50:33.340977Z",
     "iopub.status.busy": "2024-09-17T07:50:33.340554Z",
     "iopub.status.idle": "2024-09-17T07:50:33.699039Z",
     "shell.execute_reply": "2024-09-17T07:50:33.697721Z"
    },
    "papermill": {
     "duration": 0.439269,
     "end_time": "2024-09-17T07:50:33.701785",
     "exception": false,
     "start_time": "2024-09-17T07:50:33.262516",
     "status": "completed"
    },
    "tags": []
   },
   "outputs": [
    {
     "data": {
      "text/html": [
       "<div>\n",
       "<style scoped>\n",
       "    .dataframe tbody tr th:only-of-type {\n",
       "        vertical-align: middle;\n",
       "    }\n",
       "\n",
       "    .dataframe tbody tr th {\n",
       "        vertical-align: top;\n",
       "    }\n",
       "\n",
       "    .dataframe thead th {\n",
       "        text-align: right;\n",
       "    }\n",
       "</style>\n",
       "<table border=\"1\" class=\"dataframe\">\n",
       "  <thead>\n",
       "    <tr style=\"text-align: right;\">\n",
       "      <th></th>\n",
       "      <th>id</th>\n",
       "      <th>price</th>\n",
       "    </tr>\n",
       "  </thead>\n",
       "  <tbody>\n",
       "    <tr>\n",
       "      <th>0</th>\n",
       "      <td>188533</td>\n",
       "      <td>18334.384766</td>\n",
       "    </tr>\n",
       "    <tr>\n",
       "      <th>1</th>\n",
       "      <td>188534</td>\n",
       "      <td>81646.250000</td>\n",
       "    </tr>\n",
       "    <tr>\n",
       "      <th>2</th>\n",
       "      <td>188535</td>\n",
       "      <td>56718.191406</td>\n",
       "    </tr>\n",
       "    <tr>\n",
       "      <th>3</th>\n",
       "      <td>188536</td>\n",
       "      <td>22303.082031</td>\n",
       "    </tr>\n",
       "    <tr>\n",
       "      <th>4</th>\n",
       "      <td>188537</td>\n",
       "      <td>29786.677734</td>\n",
       "    </tr>\n",
       "  </tbody>\n",
       "</table>\n",
       "</div>"
      ],
      "text/plain": [
       "       id         price\n",
       "0  188533  18334.384766\n",
       "1  188534  81646.250000\n",
       "2  188535  56718.191406\n",
       "3  188536  22303.082031\n",
       "4  188537  29786.677734"
      ]
     },
     "execution_count": 38,
     "metadata": {},
     "output_type": "execute_result"
    }
   ],
   "source": [
    "save_submission(voting_test_preds, 'voting', np.mean(scores['Voting'])).head()"
   ]
  },
  {
   "cell_type": "code",
   "execution_count": 39,
   "id": "af43d8c0",
   "metadata": {
    "execution": {
     "iopub.execute_input": "2024-09-17T07:50:33.852473Z",
     "iopub.status.busy": "2024-09-17T07:50:33.851976Z",
     "iopub.status.idle": "2024-09-17T08:21:00.818158Z",
     "shell.execute_reply": "2024-09-17T08:21:00.816830Z"
    },
    "papermill": {
     "duration": 1827.121564,
     "end_time": "2024-09-17T08:21:00.897738",
     "exception": false,
     "start_time": "2024-09-17T07:50:33.776174",
     "status": "completed"
    },
    "tags": []
   },
   "outputs": [
    {
     "name": "stdout",
     "output_type": "stream",
     "text": [
      "Training VotingRegressor\n",
      "\n",
      "--- Fold 1 - RMSE: 71859\n",
      "--- Fold 2 - RMSE: 73191\n",
      "--- Fold 3 - RMSE: 72606\n",
      "--- Fold 4 - RMSE: 72049\n",
      "--- Fold 5 - RMSE: 73412\n",
      "\n",
      "Overall RMSE: 72626 ± 610\n"
     ]
    }
   ],
   "source": [
    "weighted_voting_model = VotingRegressor(estimators=estimators, weights=best_weights)\n",
    "weighted_voting_trainer = Trainer(weighted_voting_model, CFG)\n",
    "_, weighted_voting_test_preds, scores['Weighted Voting'] = weighted_voting_trainer.fit_predict(X, y, X_test)"
   ]
  },
  {
   "cell_type": "code",
   "execution_count": 40,
   "id": "bb444e0a",
   "metadata": {
    "execution": {
     "iopub.execute_input": "2024-09-17T08:21:01.049223Z",
     "iopub.status.busy": "2024-09-17T08:21:01.048760Z",
     "iopub.status.idle": "2024-09-17T08:21:01.429072Z",
     "shell.execute_reply": "2024-09-17T08:21:01.427680Z"
    },
    "papermill": {
     "duration": 0.460796,
     "end_time": "2024-09-17T08:21:01.432730",
     "exception": false,
     "start_time": "2024-09-17T08:21:00.971934",
     "status": "completed"
    },
    "tags": []
   },
   "outputs": [
    {
     "data": {
      "text/html": [
       "<div>\n",
       "<style scoped>\n",
       "    .dataframe tbody tr th:only-of-type {\n",
       "        vertical-align: middle;\n",
       "    }\n",
       "\n",
       "    .dataframe tbody tr th {\n",
       "        vertical-align: top;\n",
       "    }\n",
       "\n",
       "    .dataframe thead th {\n",
       "        text-align: right;\n",
       "    }\n",
       "</style>\n",
       "<table border=\"1\" class=\"dataframe\">\n",
       "  <thead>\n",
       "    <tr style=\"text-align: right;\">\n",
       "      <th></th>\n",
       "      <th>id</th>\n",
       "      <th>price</th>\n",
       "    </tr>\n",
       "  </thead>\n",
       "  <tbody>\n",
       "    <tr>\n",
       "      <th>0</th>\n",
       "      <td>188533</td>\n",
       "      <td>18333.101562</td>\n",
       "    </tr>\n",
       "    <tr>\n",
       "      <th>1</th>\n",
       "      <td>188534</td>\n",
       "      <td>81729.382812</td>\n",
       "    </tr>\n",
       "    <tr>\n",
       "      <th>2</th>\n",
       "      <td>188535</td>\n",
       "      <td>56497.972656</td>\n",
       "    </tr>\n",
       "    <tr>\n",
       "      <th>3</th>\n",
       "      <td>188536</td>\n",
       "      <td>22519.892578</td>\n",
       "    </tr>\n",
       "    <tr>\n",
       "      <th>4</th>\n",
       "      <td>188537</td>\n",
       "      <td>29848.031250</td>\n",
       "    </tr>\n",
       "  </tbody>\n",
       "</table>\n",
       "</div>"
      ],
      "text/plain": [
       "       id         price\n",
       "0  188533  18333.101562\n",
       "1  188534  81729.382812\n",
       "2  188535  56497.972656\n",
       "3  188536  22519.892578\n",
       "4  188537  29848.031250"
      ]
     },
     "execution_count": 40,
     "metadata": {},
     "output_type": "execute_result"
    }
   ],
   "source": [
    "save_submission(weighted_voting_test_preds, 'weighted-voting', np.mean(scores['Weighted Voting'])).head()"
   ]
  },
  {
   "cell_type": "markdown",
   "id": "2f454d13",
   "metadata": {
    "papermill": {
     "duration": 0.076112,
     "end_time": "2024-09-17T08:21:01.588664",
     "exception": false,
     "start_time": "2024-09-17T08:21:01.512552",
     "status": "completed"
    },
    "tags": []
   },
   "source": [
    "## Stacking\n",
    "\n",
    "Similar to a voting model, a stacking model re-fits a list of models from scratch, and ensembles their predictions. However, unlike voting, it is more complex and uses a meta-model to learn the best combination of the features instead of simply averaging the predictions. Under the hood, it uses `RidgeCV` to ensemble predictions of the base models, however, its meta-model is configurable and can be changed. Here, I will just leave it with the default parameters."
   ]
  },
  {
   "cell_type": "code",
   "execution_count": 41,
   "id": "67dc751d",
   "metadata": {
    "execution": {
     "iopub.execute_input": "2024-09-17T08:21:01.741236Z",
     "iopub.status.busy": "2024-09-17T08:21:01.740815Z",
     "iopub.status.idle": "2024-09-17T10:33:47.591003Z",
     "shell.execute_reply": "2024-09-17T10:33:47.589537Z"
    },
    "papermill": {
     "duration": 7966.002806,
     "end_time": "2024-09-17T10:33:47.667524",
     "exception": false,
     "start_time": "2024-09-17T08:21:01.664718",
     "status": "completed"
    },
    "tags": []
   },
   "outputs": [
    {
     "name": "stdout",
     "output_type": "stream",
     "text": [
      "Training StackingRegressor\n",
      "\n",
      "--- Fold 1 - RMSE: 72075\n",
      "--- Fold 2 - RMSE: 73187\n",
      "--- Fold 3 - RMSE: 72599\n",
      "--- Fold 4 - RMSE: 72037\n",
      "--- Fold 5 - RMSE: 73432\n",
      "\n",
      "Overall RMSE: 72668 ± 567\n"
     ]
    }
   ],
   "source": [
    "stacking_model = StackingRegressor(estimators=estimators)\n",
    "stacking_trainer = Trainer(stacking_model, CFG)\n",
    "_, stacking_test_preds, scores['Stacking'] = stacking_trainer.fit_predict(X, y, X_test)"
   ]
  },
  {
   "cell_type": "code",
   "execution_count": 42,
   "id": "ab19c5a3",
   "metadata": {
    "execution": {
     "iopub.execute_input": "2024-09-17T10:33:47.822788Z",
     "iopub.status.busy": "2024-09-17T10:33:47.822284Z",
     "iopub.status.idle": "2024-09-17T10:33:48.196978Z",
     "shell.execute_reply": "2024-09-17T10:33:48.195826Z"
    },
    "papermill": {
     "duration": 0.456841,
     "end_time": "2024-09-17T10:33:48.199622",
     "exception": false,
     "start_time": "2024-09-17T10:33:47.742781",
     "status": "completed"
    },
    "tags": []
   },
   "outputs": [
    {
     "data": {
      "text/html": [
       "<div>\n",
       "<style scoped>\n",
       "    .dataframe tbody tr th:only-of-type {\n",
       "        vertical-align: middle;\n",
       "    }\n",
       "\n",
       "    .dataframe tbody tr th {\n",
       "        vertical-align: top;\n",
       "    }\n",
       "\n",
       "    .dataframe thead th {\n",
       "        text-align: right;\n",
       "    }\n",
       "</style>\n",
       "<table border=\"1\" class=\"dataframe\">\n",
       "  <thead>\n",
       "    <tr style=\"text-align: right;\">\n",
       "      <th></th>\n",
       "      <th>id</th>\n",
       "      <th>price</th>\n",
       "    </tr>\n",
       "  </thead>\n",
       "  <tbody>\n",
       "    <tr>\n",
       "      <th>0</th>\n",
       "      <td>188533</td>\n",
       "      <td>17930.416016</td>\n",
       "    </tr>\n",
       "    <tr>\n",
       "      <th>1</th>\n",
       "      <td>188534</td>\n",
       "      <td>79661.062500</td>\n",
       "    </tr>\n",
       "    <tr>\n",
       "      <th>2</th>\n",
       "      <td>188535</td>\n",
       "      <td>55130.386719</td>\n",
       "    </tr>\n",
       "    <tr>\n",
       "      <th>3</th>\n",
       "      <td>188536</td>\n",
       "      <td>24423.458984</td>\n",
       "    </tr>\n",
       "    <tr>\n",
       "      <th>4</th>\n",
       "      <td>188537</td>\n",
       "      <td>29788.292969</td>\n",
       "    </tr>\n",
       "  </tbody>\n",
       "</table>\n",
       "</div>"
      ],
      "text/plain": [
       "       id         price\n",
       "0  188533  17930.416016\n",
       "1  188534  79661.062500\n",
       "2  188535  55130.386719\n",
       "3  188536  24423.458984\n",
       "4  188537  29788.292969"
      ]
     },
     "execution_count": 42,
     "metadata": {},
     "output_type": "execute_result"
    }
   ],
   "source": [
    "save_submission(stacking_test_preds, 'stacking', np.mean(scores['Stacking'])).head()"
   ]
  },
  {
   "cell_type": "markdown",
   "id": "f05a6453",
   "metadata": {
    "papermill": {
     "duration": 0.101089,
     "end_time": "2024-09-17T10:33:48.375925",
     "exception": false,
     "start_time": "2024-09-17T10:33:48.274836",
     "status": "completed"
    },
    "tags": []
   },
   "source": [
    "# Results"
   ]
  },
  {
   "cell_type": "markdown",
   "id": "2caa655d",
   "metadata": {
    "papermill": {
     "duration": 0.078737,
     "end_time": "2024-09-17T10:33:48.535801",
     "exception": false,
     "start_time": "2024-09-17T10:33:48.457064",
     "status": "completed"
    },
    "tags": []
   },
   "source": [
    "We can see that all of the ensemble models achieve better scores than the individual models. The difference is not much, but it is enough to give you an edge in the competition. \n",
    "\n",
    "We can also see that the models that average the prediction are slightly better than the models that use a meta-model. This is not a general outcome that is expected, but just a result that is achieved on this dataset. Some ensembling methods work better than others, and there are no general rules for what works best. One has to experiment with different methods and choose an ensembling technique that suits the competition."
   ]
  },
  {
   "cell_type": "code",
   "execution_count": 43,
   "id": "72720615",
   "metadata": {
    "execution": {
     "iopub.execute_input": "2024-09-17T10:33:48.689076Z",
     "iopub.status.busy": "2024-09-17T10:33:48.688608Z",
     "iopub.status.idle": "2024-09-17T10:33:49.714795Z",
     "shell.execute_reply": "2024-09-17T10:33:49.713625Z"
    },
    "papermill": {
     "duration": 1.106003,
     "end_time": "2024-09-17T10:33:49.717521",
     "exception": false,
     "start_time": "2024-09-17T10:33:48.611518",
     "status": "completed"
    },
    "tags": []
   },
   "outputs": [
    {
     "data": {
      "image/png": "[encoded data removed]",
      "text/plain": [
       "<Figure size 1500x500 with 2 Axes>"
      ]
     },
     "metadata": {},
     "output_type": "display_data"
    }
   ],
   "source": [
    "scores = pd.DataFrame(scores)\n",
    "mean_scores = scores.mean().sort_values(ascending=True)\n",
    "order = scores.mean().sort_values(ascending=True).index.tolist()\n",
    "\n",
    "min_score = mean_scores.min()\n",
    "max_score = mean_scores.max()\n",
    "padding = (max_score - min_score) * 0.5\n",
    "lower_limit = min_score - padding\n",
    "upper_limit = max_score + padding\n",
    "\n",
    "fig, axs = plt.subplots(1, 2, figsize=(15, 5))\n",
    "\n",
    "sns.boxplot(data=scores, order=order, ax=axs[0], orient='h', palette=\"RdYlGn_r\")\n",
    "axs[0].set_title('Fold RMSE')\n",
    "axs[0].set_xlabel('')\n",
    "axs[0].set_ylabel('')\n",
    "\n",
    "barplot = sns.barplot(x=mean_scores.values, y=mean_scores.index, ax=axs[1], palette=\"RdYlGn_r\")\n",
    "axs[1].set_title('Average RMSE')\n",
    "axs[1].set_xlabel('')\n",
    "axs[1].set_xlim(left=lower_limit, right=upper_limit)\n",
    "axs[1].set_ylabel('')\n",
    "\n",
    "for i, score in enumerate(mean_scores.values):\n",
    "    barplot.text(score, i, round(score, 2), va='center')\n",
    "\n",
    "plt.tight_layout()\n",
    "plt.show()"
   ]
  },
  {
   "cell_type": "code",
   "execution_count": 44,
   "id": "dcd38188",
   "metadata": {
    "execution": {
     "iopub.execute_input": "2024-09-17T10:33:49.875256Z",
     "iopub.status.busy": "2024-09-17T10:33:49.874815Z",
     "iopub.status.idle": "2024-09-17T10:33:49.890877Z",
     "shell.execute_reply": "2024-09-17T10:33:49.889472Z"
    },
    "papermill": {
     "duration": 0.097627,
     "end_time": "2024-09-17T10:33:49.893844",
     "exception": false,
     "start_time": "2024-09-17T10:33:49.796217",
     "status": "completed"
    },
    "tags": []
   },
   "outputs": [],
   "source": [
    "shutil.rmtree('catboost_info')"
   ]
  }
 ],
 "metadata": {
  "kaggle": {
   "accelerator": "none",
   "dataSources": [
    {
     "databundleVersionId": 9057646,
     "sourceId": 76728,
     "sourceType": "competition"
    }
   ],
   "dockerImageVersionId": 30761,
   "isGpuEnabled": false,
   "isInternetEnabled": true,
   "language": "python",
   "sourceType": "notebook"
  },
  "kernelspec": {
   "display_name": "Python 3",
   "language": "python",
   "name": "python3"
  },
  "language_info": {
   "codemirror_mode": {
    "name": "ipython",
    "version": 3
   },
   "file_extension": ".py",
   "mimetype": "text/x-python",
   "name": "python",
   "nbconvert_exporter": "python",
   "pygments_lexer": "ipython3",
   "version": "3.10.14"
  },
  "papermill": {
   "default_parameters": {},
   "duration": 14771.504719,
   "end_time": "2024-09-17T10:33:51.095717",
   "environment_variables": {},
   "exception": null,
   "input_path": "__notebook__.ipynb",
   "output_path": "__notebook__.ipynb",
   "parameters": {},
   "start_time": "2024-09-17T06:27:39.590998",
   "version": "2.6.0"
  }
 },
 "nbformat": 4,
 "nbformat_minor": 5
}
