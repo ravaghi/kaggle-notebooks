{
 "cells": [
  {
   "cell_type": "markdown",
   "id": "38b6d4fc",
   "metadata": {
    "papermill": {
     "duration": 0.010954,
     "end_time": "2024-09-17T18:55:59.367014",
     "exception": false,
     "start_time": "2024-09-17T18:55:59.356060",
     "status": "completed"
    },
    "tags": []
   },
   "source": [
    "# Introduction\n",
    "\n",
    "Ensembling is a commonly used technique in Kaggle competitions to combine predictions of multiple models and get stronger predictions that hopefully achieve better score on the leaderboard. The idea is that combining different models with varying strengths and weaknesses can lead to better generalization on unseen data. There are various approaches to ensembling. In this notebook, we will explore a few of these approaches and evaluate their effectiveness in a regression task, and see how they compare to each other. While the focus in this notebook is on regression, with small adjustments, many of the techniques discussed here can be easily adapted for classification problems."
   ]
  },
  {
   "cell_type": "markdown",
   "id": "8c035707",
   "metadata": {
    "papermill": {
     "duration": 0.009949,
     "end_time": "2024-09-17T18:55:59.387299",
     "exception": false,
     "start_time": "2024-09-17T18:55:59.377350",
     "status": "completed"
    },
    "tags": []
   },
   "source": [
    "# Imports and configs"
   ]
  },
  {
   "cell_type": "code",
   "execution_count": 1,
   "id": "5f69ffb1",
   "metadata": {
    "_kg_hide-output": true,
    "execution": {
     "iopub.execute_input": "2024-09-17T18:55:59.409815Z",
     "iopub.status.busy": "2024-09-17T18:55:59.409376Z",
     "iopub.status.idle": "2024-09-17T18:56:17.908142Z",
     "shell.execute_reply": "2024-09-17T18:56:17.906492Z"
    },
    "papermill": {
     "duration": 18.513291,
     "end_time": "2024-09-17T18:56:17.911074",
     "exception": false,
     "start_time": "2024-09-17T18:55:59.397783",
     "status": "completed"
    },
    "tags": []
   },
   "outputs": [],
   "source": [
    "!pip install -q hillclimbers"
   ]
  },
  {
   "cell_type": "code",
   "execution_count": 2,
   "id": "8d785770",
   "metadata": {
    "_cell_guid": "b1076dfc-b9ad-4769-8c92-a6c4dae69d19",
    "_uuid": "8f2839f25d086af736a60e9eeb907d3b93b6e0e5",
    "execution": {
     "iopub.execute_input": "2024-09-17T18:56:17.933732Z",
     "iopub.status.busy": "2024-09-17T18:56:17.933300Z",
     "iopub.status.idle": "2024-09-17T18:56:23.533455Z",
     "shell.execute_reply": "2024-09-17T18:56:23.532187Z"
    },
    "papermill": {
     "duration": 5.614853,
     "end_time": "2024-09-17T18:56:23.536172",
     "exception": false,
     "start_time": "2024-09-17T18:56:17.921319",
     "status": "completed"
    },
    "tags": []
   },
   "outputs": [],
   "source": [
    "from sklearn.ensemble import HistGradientBoostingRegressor, VotingRegressor, StackingRegressor, GradientBoostingRegressor\n",
    "from sklearn.feature_selection import mutual_info_regression\n",
    "from sklearn.preprocessing import MinMaxScaler, OrdinalEncoder\n",
    "from sklearn.metrics import mean_squared_error\n",
    "from sklearn.linear_model import Ridge, Lasso\n",
    "from sklearn.model_selection import KFold\n",
    "from sklearn.base import clone\n",
    "from hillclimbers import climb_hill, partial\n",
    "from xgboost import XGBRegressor\n",
    "from catboost import CatBoostRegressor\n",
    "from lightgbm import LGBMRegressor\n",
    "import matplotlib.pyplot as plt\n",
    "import seaborn as sns\n",
    "import pandas as pd\n",
    "import numpy as np\n",
    "import warnings\n",
    "import optuna\n",
    "import shutil\n",
    "import pickle\n",
    "import gc\n",
    "import os\n",
    "\n",
    "warnings.filterwarnings('ignore')"
   ]
  },
  {
   "cell_type": "code",
   "execution_count": 3,
   "id": "613dc0b8",
   "metadata": {
    "execution": {
     "iopub.execute_input": "2024-09-17T18:56:23.559589Z",
     "iopub.status.busy": "2024-09-17T18:56:23.558148Z",
     "iopub.status.idle": "2024-09-17T18:56:23.564506Z",
     "shell.execute_reply": "2024-09-17T18:56:23.563416Z"
    },
    "papermill": {
     "duration": 0.020347,
     "end_time": "2024-09-17T18:56:23.566868",
     "exception": false,
     "start_time": "2024-09-17T18:56:23.546521",
     "status": "completed"
    },
    "tags": []
   },
   "outputs": [],
   "source": [
    "class CFG:\n",
    "    train_path = '/kaggle/input/playground-series-s4e9/train.csv'\n",
    "    test_path = '/kaggle/input/playground-series-s4e9/test.csv'\n",
    "    sample_sub_path = '/kaggle/input/playground-series-s4e9/sample_submission.csv'\n",
    "\n",
    "    target = 'price'\n",
    "    n_folds = 5\n",
    "    seed = 228"
   ]
  },
  {
   "cell_type": "markdown",
   "id": "44d0529a",
   "metadata": {
    "papermill": {
     "duration": 0.009948,
     "end_time": "2024-09-17T18:56:23.587391",
     "exception": false,
     "start_time": "2024-09-17T18:56:23.577443",
     "status": "completed"
    },
    "tags": []
   },
   "source": [
    "# Data preprocessing\n",
    "\n",
    "The dataset in this competition contains only two numerical features: `model_year` and `milage`. The rest are categorical and need to be processed accordingly. Additionally, three of the categorical columns—`fuel_type`, `clean_title`, and `accident`—contain missing values and need to be handled for models that can't deal with missing values on their own. \n",
    "\n",
    "I will not add any new features even though there are columns such as `engine` that contain a lot of information about the car. This is due to the synthetic nature of the dataset, which contains noise, and engineering new features often just adds to this noise."
   ]
  },
  {
   "cell_type": "code",
   "execution_count": 4,
   "id": "cde559c7",
   "metadata": {
    "execution": {
     "iopub.execute_input": "2024-09-17T18:56:23.609733Z",
     "iopub.status.busy": "2024-09-17T18:56:23.609335Z",
     "iopub.status.idle": "2024-09-17T18:56:25.059016Z",
     "shell.execute_reply": "2024-09-17T18:56:25.057657Z"
    },
    "papermill": {
     "duration": 1.463998,
     "end_time": "2024-09-17T18:56:25.061775",
     "exception": false,
     "start_time": "2024-09-17T18:56:23.597777",
     "status": "completed"
    },
    "tags": []
   },
   "outputs": [],
   "source": [
    "train = pd.read_csv(CFG.train_path, index_col='id')\n",
    "test = pd.read_csv(CFG.test_path, index_col='id')"
   ]
  },
  {
   "cell_type": "code",
   "execution_count": 5,
   "id": "846c3ce8",
   "metadata": {
    "execution": {
     "iopub.execute_input": "2024-09-17T18:56:25.084480Z",
     "iopub.status.busy": "2024-09-17T18:56:25.084019Z",
     "iopub.status.idle": "2024-09-17T18:56:25.094088Z",
     "shell.execute_reply": "2024-09-17T18:56:25.092579Z"
    },
    "papermill": {
     "duration": 0.024545,
     "end_time": "2024-09-17T18:56:25.096779",
     "exception": false,
     "start_time": "2024-09-17T18:56:25.072234",
     "status": "completed"
    },
    "tags": []
   },
   "outputs": [],
   "source": [
    "def get_data(impute=False, encode=False):\n",
    "    train = pd.read_csv(CFG.train_path, index_col='id')\n",
    "    test = pd.read_csv(CFG.test_path, index_col='id')\n",
    "\n",
    "    cat_cols = train.select_dtypes(include=['object']).columns.tolist()\n",
    "    \n",
    "    for col in cat_cols:\n",
    "        if impute:\n",
    "            train[col].fillna('missing', inplace=True)\n",
    "            test[col].fillna('missing', inplace=True)\n",
    "        \n",
    "        train[col] = train[col].astype('category')\n",
    "        test[col] = test[col].astype('category')\n",
    "        \n",
    "    if encode:\n",
    "        encoder = OrdinalEncoder(handle_unknown='use_encoded_value', unknown_value=-1)\n",
    "        train[cat_cols] = encoder.fit_transform(train[cat_cols])\n",
    "        test[cat_cols] = encoder.transform(test[cat_cols])\n",
    "        \n",
    "    X = train.drop(CFG.target, axis=1)\n",
    "    y = train[CFG.target]\n",
    "    X_test = test.copy()\n",
    "    \n",
    "    return X, y, X_test, cat_cols"
   ]
  },
  {
   "cell_type": "markdown",
   "id": "72e4beb8",
   "metadata": {
    "papermill": {
     "duration": 0.009994,
     "end_time": "2024-09-17T18:56:25.117305",
     "exception": false,
     "start_time": "2024-09-17T18:56:25.107311",
     "status": "completed"
    },
    "tags": []
   },
   "source": [
    "Here, we can see that all features are usefull, thus there is no need to eliminate any of the features."
   ]
  },
  {
   "cell_type": "code",
   "execution_count": 6,
   "id": "b4b01e07",
   "metadata": {
    "execution": {
     "iopub.execute_input": "2024-09-17T18:56:25.141537Z",
     "iopub.status.busy": "2024-09-17T18:56:25.141116Z",
     "iopub.status.idle": "2024-09-17T18:56:49.547709Z",
     "shell.execute_reply": "2024-09-17T18:56:49.546557Z"
    },
    "papermill": {
     "duration": 24.422225,
     "end_time": "2024-09-17T18:56:49.550310",
     "exception": false,
     "start_time": "2024-09-17T18:56:25.128085",
     "status": "completed"
    },
    "tags": []
   },
   "outputs": [
    {
     "data": {
      "text/html": [
       "<style type=\"text/css\">\n",
       "#T_c0b42_row0_col0 {\n",
       "  width: 10em;\n",
       "  background: linear-gradient(90deg, #006837 100.0%, transparent 100.0%);\n",
       "}\n",
       "#T_c0b42_row1_col0 {\n",
       "  width: 10em;\n",
       "  background: linear-gradient(90deg, #148e4b 92.1%, transparent 92.1%);\n",
       "}\n",
       "#T_c0b42_row2_col0 {\n",
       "  width: 10em;\n",
       "  background: linear-gradient(90deg, #51b35e 82.6%, transparent 82.6%);\n",
       "}\n",
       "#T_c0b42_row3_col0 {\n",
       "  width: 10em;\n",
       "  background: linear-gradient(90deg, #b3df72 67.3%, transparent 67.3%);\n",
       "}\n",
       "#T_c0b42_row4_col0 {\n",
       "  width: 10em;\n",
       "  background: linear-gradient(90deg, #c5e67e 63.9%, transparent 63.9%);\n",
       "}\n",
       "#T_c0b42_row5_col0 {\n",
       "  width: 10em;\n",
       "  background: linear-gradient(90deg, #f88950 24.4%, transparent 24.4%);\n",
       "}\n",
       "#T_c0b42_row6_col0 {\n",
       "  width: 10em;\n",
       "  background: linear-gradient(90deg, #f67f4b 22.7%, transparent 22.7%);\n",
       "}\n",
       "#T_c0b42_row7_col0 {\n",
       "  width: 10em;\n",
       "  background: linear-gradient(90deg, #f36b42 19.9%, transparent 19.9%);\n",
       "}\n",
       "#T_c0b42_row8_col0 {\n",
       "  width: 10em;\n",
       "  background: linear-gradient(90deg, #f26841 19.2%, transparent 19.2%);\n",
       "}\n",
       "#T_c0b42_row9_col0 {\n",
       "  width: 10em;\n",
       "  background: linear-gradient(90deg, #d62f27 9.9%, transparent 9.9%);\n",
       "}\n",
       "#T_c0b42_row10_col0 {\n",
       "  width: 10em;\n",
       "  background: linear-gradient(90deg, #bd1726 4.7%, transparent 4.7%);\n",
       "}\n",
       "</style>\n",
       "<table id=\"T_c0b42\">\n",
       "  <thead>\n",
       "    <tr>\n",
       "      <th class=\"blank level0\" >&nbsp;</th>\n",
       "      <th id=\"T_c0b42_level0_col0\" class=\"col_heading level0 col0\" >Mutual Information</th>\n",
       "    </tr>\n",
       "  </thead>\n",
       "  <tbody>\n",
       "    <tr>\n",
       "      <th id=\"T_c0b42_level0_row0\" class=\"row_heading level0 row0\" >milage</th>\n",
       "      <td id=\"T_c0b42_row0_col0\" class=\"data row0 col0\" >0.659162</td>\n",
       "    </tr>\n",
       "    <tr>\n",
       "      <th id=\"T_c0b42_level0_row1\" class=\"row_heading level0 row1\" >engine</th>\n",
       "      <td id=\"T_c0b42_row1_col0\" class=\"data row1 col0\" >0.606871</td>\n",
       "    </tr>\n",
       "    <tr>\n",
       "      <th id=\"T_c0b42_level0_row2\" class=\"row_heading level0 row2\" >model_year</th>\n",
       "      <td id=\"T_c0b42_row2_col0\" class=\"data row2 col0\" >0.544162</td>\n",
       "    </tr>\n",
       "    <tr>\n",
       "      <th id=\"T_c0b42_level0_row3\" class=\"row_heading level0 row3\" >transmission</th>\n",
       "      <td id=\"T_c0b42_row3_col0\" class=\"data row3 col0\" >0.443439</td>\n",
       "    </tr>\n",
       "    <tr>\n",
       "      <th id=\"T_c0b42_level0_row4\" class=\"row_heading level0 row4\" >model</th>\n",
       "      <td id=\"T_c0b42_row4_col0\" class=\"data row4 col0\" >0.421122</td>\n",
       "    </tr>\n",
       "    <tr>\n",
       "      <th id=\"T_c0b42_level0_row5\" class=\"row_heading level0 row5\" >clean_title</th>\n",
       "      <td id=\"T_c0b42_row5_col0\" class=\"data row5 col0\" >0.160905</td>\n",
       "    </tr>\n",
       "    <tr>\n",
       "      <th id=\"T_c0b42_level0_row6\" class=\"row_heading level0 row6\" >brand</th>\n",
       "      <td id=\"T_c0b42_row6_col0\" class=\"data row6 col0\" >0.149762</td>\n",
       "    </tr>\n",
       "    <tr>\n",
       "      <th id=\"T_c0b42_level0_row7\" class=\"row_heading level0 row7\" >ext_col</th>\n",
       "      <td id=\"T_c0b42_row7_col0\" class=\"data row7 col0\" >0.130857</td>\n",
       "    </tr>\n",
       "    <tr>\n",
       "      <th id=\"T_c0b42_level0_row8\" class=\"row_heading level0 row8\" >int_col</th>\n",
       "      <td id=\"T_c0b42_row8_col0\" class=\"data row8 col0\" >0.126786</td>\n",
       "    </tr>\n",
       "    <tr>\n",
       "      <th id=\"T_c0b42_level0_row9\" class=\"row_heading level0 row9\" >accident</th>\n",
       "      <td id=\"T_c0b42_row9_col0\" class=\"data row9 col0\" >0.065448</td>\n",
       "    </tr>\n",
       "    <tr>\n",
       "      <th id=\"T_c0b42_level0_row10\" class=\"row_heading level0 row10\" >fuel_type</th>\n",
       "      <td id=\"T_c0b42_row10_col0\" class=\"data row10 col0\" >0.031248</td>\n",
       "    </tr>\n",
       "  </tbody>\n",
       "</table>\n"
      ],
      "text/plain": [
       "<pandas.io.formats.style.Styler at 0x7a36fc742650>"
      ]
     },
     "execution_count": 6,
     "metadata": {},
     "output_type": "execute_result"
    }
   ],
   "source": [
    "_X_mi, _y_mi, _, _ = get_data(impute=True, encode=True)\n",
    "\n",
    "mutual_info = mutual_info_regression(_X_mi, _y_mi, random_state=CFG.seed)\n",
    "\n",
    "mutual_info = pd.Series(mutual_info)\n",
    "mutual_info.index = _X_mi.columns\n",
    "mutual_info = pd.DataFrame(mutual_info.sort_values(ascending=False), columns=['Mutual Information'])\n",
    "mutual_info.style.bar(subset=['Mutual Information'], cmap='RdYlGn')"
   ]
  },
  {
   "cell_type": "markdown",
   "id": "5ad254ab",
   "metadata": {
    "papermill": {
     "duration": 0.010187,
     "end_time": "2024-09-17T18:56:49.571050",
     "exception": false,
     "start_time": "2024-09-17T18:56:49.560863",
     "status": "completed"
    },
    "tags": []
   },
   "source": [
    "# Training base models\n",
    "\n",
    "Here, I have created a class to train and cross-validate the base models. I will use this class to train all five of my base models, as well as some of the ensemble models. The class also contains a function that saves OOF predictions of the base models. Feel free to use these OOF files in your own ensemble."
   ]
  },
  {
   "cell_type": "code",
   "execution_count": 7,
   "id": "1c079967",
   "metadata": {
    "execution": {
     "iopub.execute_input": "2024-09-17T18:56:49.593918Z",
     "iopub.status.busy": "2024-09-17T18:56:49.593441Z",
     "iopub.status.idle": "2024-09-17T18:56:49.599347Z",
     "shell.execute_reply": "2024-09-17T18:56:49.598219Z"
    },
    "papermill": {
     "duration": 0.019952,
     "end_time": "2024-09-17T18:56:49.601606",
     "exception": false,
     "start_time": "2024-09-17T18:56:49.581654",
     "status": "completed"
    },
    "tags": []
   },
   "outputs": [],
   "source": [
    "os.mkdir('oof_preds')\n",
    "os.mkdir('test_preds')"
   ]
  },
  {
   "cell_type": "code",
   "execution_count": 8,
   "id": "ab94cba7",
   "metadata": {
    "execution": {
     "iopub.execute_input": "2024-09-17T18:56:49.624677Z",
     "iopub.status.busy": "2024-09-17T18:56:49.624228Z",
     "iopub.status.idle": "2024-09-17T18:56:49.638895Z",
     "shell.execute_reply": "2024-09-17T18:56:49.637456Z"
    },
    "papermill": {
     "duration": 0.029349,
     "end_time": "2024-09-17T18:56:49.641470",
     "exception": false,
     "start_time": "2024-09-17T18:56:49.612121",
     "status": "completed"
    },
    "tags": []
   },
   "outputs": [],
   "source": [
    "class Trainer:\n",
    "    def __init__(self, model, CFG, is_ensemble=False, save_preds=False):\n",
    "        self.model = model\n",
    "        self.config = CFG\n",
    "        self.is_ensemble = is_ensemble\n",
    "        self.save_preds = save_preds\n",
    "\n",
    "    def fit_predict(self, X, y, X_test):\n",
    "        print(f'Training {self.model.__class__.__name__}\\n')\n",
    "        \n",
    "        scores = []        \n",
    "        coeffs = np.zeros((1, X.shape[1]))\n",
    "        oof_preds = np.zeros(len(X), dtype=np.float32)\n",
    "        test_preds = np.zeros(len(X_test), dtype=np.float32)\n",
    "        \n",
    "        skf = KFold(n_splits=self.config.n_folds, random_state=self.config.seed, shuffle=True)\n",
    "        for fold_idx, (train_idx, val_idx) in enumerate(skf.split(X, y)):\n",
    "            X_train, X_val = X.iloc[train_idx], X.iloc[val_idx]\n",
    "            y_train, y_val = y[train_idx], y[val_idx]\n",
    "            \n",
    "            model = clone(self.model)\n",
    "            model.fit(X_train, y_train)\n",
    "            \n",
    "            if self.is_ensemble:\n",
    "                coeffs += model.coef_ / self.config.n_folds\n",
    "            \n",
    "            y_preds = model.predict(X_val)\n",
    "            oof_preds[val_idx] = y_preds\n",
    "            \n",
    "            temp_test_preds = model.predict(X_test)\n",
    "            test_preds += temp_test_preds / self.config.n_folds\n",
    "            \n",
    "            score = mean_squared_error(y_val, y_preds, squared=False)\n",
    "            scores.append(score)\n",
    "            \n",
    "            del model, X_train, y_train, X_val, y_val, y_preds, temp_test_preds\n",
    "            gc.collect()\n",
    "            \n",
    "            print(f'--- Fold {fold_idx + 1} - RMSE: {round(score)}')\n",
    "            \n",
    "        overall_score = mean_squared_error(y, oof_preds, squared=False)\n",
    "        \n",
    "        print(f'\\nOverall RMSE: {round(overall_score)} ± {round(np.std(scores))}')\n",
    "        \n",
    "        if self.save_preds:\n",
    "            self._save_preds(oof_preds, overall_score, 'oof')\n",
    "            self._save_preds(test_preds, overall_score, 'test')\n",
    "        \n",
    "        if self.is_ensemble:\n",
    "            return oof_preds, test_preds, scores, coeffs[0]\n",
    "        else:\n",
    "            return oof_preds, test_preds, scores\n",
    "        \n",
    "    def _save_preds(self, preds, cv_score, name):\n",
    "        model_name = self.model.__class__.__name__.lower().replace('regressor', '')\n",
    "        with open(f'{name}_preds/{model_name}_{name}_preds_{round(cv_score)}.pkl', 'wb') as f:\n",
    "            pickle.dump(preds, f)"
   ]
  },
  {
   "cell_type": "code",
   "execution_count": 9,
   "id": "9fced34e",
   "metadata": {
    "execution": {
     "iopub.execute_input": "2024-09-17T18:56:49.664397Z",
     "iopub.status.busy": "2024-09-17T18:56:49.663939Z",
     "iopub.status.idle": "2024-09-17T18:56:49.670064Z",
     "shell.execute_reply": "2024-09-17T18:56:49.668686Z"
    },
    "papermill": {
     "duration": 0.020984,
     "end_time": "2024-09-17T18:56:49.672989",
     "exception": false,
     "start_time": "2024-09-17T18:56:49.652005",
     "status": "completed"
    },
    "tags": []
   },
   "outputs": [],
   "source": [
    "def save_submission(test_preds, name, score):\n",
    "    sub = pd.read_csv(CFG.sample_sub_path)\n",
    "    sub[CFG.target] = test_preds\n",
    "    sub.to_csv(f'sub_{name}_{round(score)}.csv', index=False)\n",
    "    return sub"
   ]
  },
  {
   "cell_type": "code",
   "execution_count": 10,
   "id": "8e51fe6f",
   "metadata": {
    "_kg_hide-input": true,
    "execution": {
     "iopub.execute_input": "2024-09-17T18:56:49.696610Z",
     "iopub.status.busy": "2024-09-17T18:56:49.696161Z",
     "iopub.status.idle": "2024-09-17T18:56:49.706225Z",
     "shell.execute_reply": "2024-09-17T18:56:49.705019Z"
    },
    "papermill": {
     "duration": 0.024758,
     "end_time": "2024-09-17T18:56:49.708632",
     "exception": false,
     "start_time": "2024-09-17T18:56:49.683874",
     "status": "completed"
    },
    "tags": []
   },
   "outputs": [],
   "source": [
    "lgbm_params = {\n",
    "    'boosting_type': 'gbdt',\n",
    "    'colsample_bytree': 0.2717594655586179,\n",
    "    'learning_rate': 0.00705406676947917,\n",
    "    'min_child_samples': 34,\n",
    "    'min_child_weight': 0.7672936180054919,\n",
    "    'n_estimators': 580,\n",
    "    'n_jobs': -1,\n",
    "    'num_leaves': 331,\n",
    "    'random_state': 228,\n",
    "    'reg_alpha': 2.8735549071327893,\n",
    "    'reg_lambda': 1.9960072700057496,\n",
    "    'subsample': 0.6375282618702655,\n",
    "    'verbose': -1\n",
    "}\n",
    "\n",
    "xgb_params = {\n",
    "    'colsample_bylevel': 0.14970948141821472,\n",
    "    'colsample_bynode': 0.5083254534020931,\n",
    "    'colsample_bytree': 0.3817639329698128,\n",
    "    'enable_categorical': True,\n",
    "    'gamma': 6.6773614554249106,\n",
    "    'learning_rate': 0.006107456820025998,\n",
    "    'max_depth': 126,\n",
    "    'max_leaves': 379,\n",
    "    'min_child_weight': 118.49608777608312,\n",
    "    'n_estimators': 1814,\n",
    "    'n_jobs': -1,\n",
    "    'random_state': 228,\n",
    "    'reg_alpha': 35.81113397502143,\n",
    "    'reg_lambda': 35.720926439337305,\n",
    "    'subsample': 0.9737449115371232,\n",
    "    'verbosity': 0\n",
    "}\n",
    "\n",
    "cb_params = {\n",
    "    'border_count': 221,\n",
    "    'colsample_bylevel': 0.35771088133149354,\n",
    "    'depth': 7,\n",
    "    'iterations': 2292,\n",
    "    'l2_leaf_reg': 9.75098506954362,\n",
    "    'learning_rate': 0.031859098488984126,\n",
    "    'loss_function': \"RMSE\",\n",
    "    'min_child_samples': 150,\n",
    "    'random_state': 228,\n",
    "    'random_strength': 0.3051044051020332,\n",
    "    'subsample': 0.33772449692605677,\n",
    "    'verbose': False\n",
    "}\n",
    "\n",
    "hgb_params = {\n",
    "    'l2_regularization': 97.51474522011571,\n",
    "    'learning_rate': 0.05511555997105186,\n",
    "    'max_depth': 348,\n",
    "    'max_iter': 598,\n",
    "    'max_leaf_nodes': 25,\n",
    "    'min_samples_leaf': 486,\n",
    "    'random_state': 228\n",
    "}\n",
    "\n",
    "gb_params = {\n",
    "    'learning_rate': 0.14261140559959487,\n",
    "    'max_depth': 40,\n",
    "    'max_features': 0.7889846437929557,\n",
    "    'max_leaf_nodes': 182,\n",
    "    'min_samples_leaf': 0.004425063778675353,\n",
    "    'min_samples_split': 0.3758244041697323,\n",
    "    'min_weight_fraction_leaf': 0.01765422553380447,\n",
    "    'n_estimators': 1081,\n",
    "    'random_state': 228,\n",
    "    'subsample': 0.7791842231840906\n",
    "}"
   ]
  },
  {
   "cell_type": "code",
   "execution_count": 11,
   "id": "b1f78812",
   "metadata": {
    "execution": {
     "iopub.execute_input": "2024-09-17T18:56:49.731914Z",
     "iopub.status.busy": "2024-09-17T18:56:49.731475Z",
     "iopub.status.idle": "2024-09-17T18:56:49.736666Z",
     "shell.execute_reply": "2024-09-17T18:56:49.735642Z"
    },
    "papermill": {
     "duration": 0.019576,
     "end_time": "2024-09-17T18:56:49.738979",
     "exception": false,
     "start_time": "2024-09-17T18:56:49.719403",
     "status": "completed"
    },
    "tags": []
   },
   "outputs": [],
   "source": [
    "oof_preds = {}\n",
    "test_preds = {}\n",
    "scores = {}"
   ]
  },
  {
   "cell_type": "code",
   "execution_count": 12,
   "id": "a9f1e828",
   "metadata": {
    "execution": {
     "iopub.execute_input": "2024-09-17T18:56:49.762684Z",
     "iopub.status.busy": "2024-09-17T18:56:49.761818Z",
     "iopub.status.idle": "2024-09-17T19:03:45.019079Z",
     "shell.execute_reply": "2024-09-17T19:03:45.017533Z"
    },
    "papermill": {
     "duration": 415.282894,
     "end_time": "2024-09-17T19:03:45.032584",
     "exception": false,
     "start_time": "2024-09-17T18:56:49.749690",
     "status": "completed"
    },
    "tags": []
   },
   "outputs": [
    {
     "name": "stdout",
     "output_type": "stream",
     "text": [
      "Training LGBMRegressor\n",
      "\n",
      "--- Fold 1 - RMSE: 72158\n",
      "--- Fold 2 - RMSE: 73411\n",
      "--- Fold 3 - RMSE: 72867\n",
      "--- Fold 4 - RMSE: 72357\n",
      "--- Fold 5 - RMSE: 73639\n",
      "\n",
      "Overall RMSE: 72889 ± 575\n"
     ]
    }
   ],
   "source": [
    "X, y, X_test, _ = get_data(impute=False, encode=False)\n",
    "lgbm_model = LGBMRegressor(**lgbm_params)\n",
    "lgbm_trainer = Trainer(lgbm_model, CFG, save_preds=True)\n",
    "oof_preds['LightGBM'], test_preds['LightGBM'], scores['LightGBM'] = lgbm_trainer.fit_predict(X, y, X_test)"
   ]
  },
  {
   "cell_type": "code",
   "execution_count": 13,
   "id": "209d152c",
   "metadata": {
    "execution": {
     "iopub.execute_input": "2024-09-17T19:03:45.057705Z",
     "iopub.status.busy": "2024-09-17T19:03:45.057185Z",
     "iopub.status.idle": "2024-09-17T19:19:44.057675Z",
     "shell.execute_reply": "2024-09-17T19:19:44.056431Z"
    },
    "papermill": {
     "duration": 959.027634,
     "end_time": "2024-09-17T19:19:44.071760",
     "exception": false,
     "start_time": "2024-09-17T19:03:45.044126",
     "status": "completed"
    },
    "tags": []
   },
   "outputs": [
    {
     "name": "stdout",
     "output_type": "stream",
     "text": [
      "Training XGBRegressor\n",
      "\n",
      "--- Fold 1 - RMSE: 71945\n",
      "--- Fold 2 - RMSE: 73285\n",
      "--- Fold 3 - RMSE: 72686\n",
      "--- Fold 4 - RMSE: 72176\n",
      "--- Fold 5 - RMSE: 73600\n",
      "\n",
      "Overall RMSE: 72741 ± 631\n"
     ]
    }
   ],
   "source": [
    "X, y, X_test, _ = get_data(impute=False, encode=False)\n",
    "xgb_model = XGBRegressor(**xgb_params)\n",
    "xgb_trainer = Trainer(xgb_model, CFG, save_preds=True)\n",
    "oof_preds['XGBoost'], test_preds['XGBoost'], scores['XGBoost'] = xgb_trainer.fit_predict(X, y, X_test)"
   ]
  },
  {
   "cell_type": "code",
   "execution_count": 14,
   "id": "fd3ab1af",
   "metadata": {
    "execution": {
     "iopub.execute_input": "2024-09-17T19:19:44.096902Z",
     "iopub.status.busy": "2024-09-17T19:19:44.096454Z",
     "iopub.status.idle": "2024-09-17T19:38:02.244981Z",
     "shell.execute_reply": "2024-09-17T19:38:02.243502Z"
    },
    "papermill": {
     "duration": 1098.177464,
     "end_time": "2024-09-17T19:38:02.260748",
     "exception": false,
     "start_time": "2024-09-17T19:19:44.083284",
     "status": "completed"
    },
    "tags": []
   },
   "outputs": [
    {
     "name": "stdout",
     "output_type": "stream",
     "text": [
      "Training CatBoostRegressor\n",
      "\n",
      "--- Fold 1 - RMSE: 72035\n",
      "--- Fold 2 - RMSE: 73402\n",
      "--- Fold 3 - RMSE: 72790\n",
      "--- Fold 4 - RMSE: 72206\n",
      "--- Fold 5 - RMSE: 73535\n",
      "\n",
      "Overall RMSE: 72796 ± 607\n"
     ]
    }
   ],
   "source": [
    "X, y, X_test, cat_features = get_data(impute=True, encode=False)\n",
    "cb_model = CatBoostRegressor(**cb_params, cat_features=cat_features)\n",
    "cb_trainer = Trainer(cb_model, CFG, save_preds=True)\n",
    "oof_preds['CatBoost'], test_preds['CatBoost'], scores['CatBoost'] = cb_trainer.fit_predict(X, y, X_test)"
   ]
  },
  {
   "cell_type": "code",
   "execution_count": 15,
   "id": "042260f7",
   "metadata": {
    "execution": {
     "iopub.execute_input": "2024-09-17T19:38:02.287427Z",
     "iopub.status.busy": "2024-09-17T19:38:02.286995Z",
     "iopub.status.idle": "2024-09-17T19:38:40.502055Z",
     "shell.execute_reply": "2024-09-17T19:38:40.500934Z"
    },
    "papermill": {
     "duration": 38.231425,
     "end_time": "2024-09-17T19:38:40.504822",
     "exception": false,
     "start_time": "2024-09-17T19:38:02.273397",
     "status": "completed"
    },
    "tags": []
   },
   "outputs": [
    {
     "name": "stdout",
     "output_type": "stream",
     "text": [
      "Training HistGradientBoostingRegressor\n",
      "\n",
      "--- Fold 1 - RMSE: 71935\n",
      "--- Fold 2 - RMSE: 73373\n",
      "--- Fold 3 - RMSE: 72743\n",
      "--- Fold 4 - RMSE: 72202\n",
      "--- Fold 5 - RMSE: 73586\n",
      "\n",
      "Overall RMSE: 72771 ± 640\n"
     ]
    }
   ],
   "source": [
    "X, y, X_test, _ = get_data(impute=True, encode=True)\n",
    "hgb_model = HistGradientBoostingRegressor(**hgb_params)\n",
    "hgb_trainer = Trainer(hgb_model, CFG, save_preds=True)\n",
    "oof_preds['HistGB'], test_preds['HistGB'], scores['HistGB'] = hgb_trainer.fit_predict(X, y, X_test)"
   ]
  },
  {
   "cell_type": "code",
   "execution_count": 16,
   "id": "91c987a2",
   "metadata": {
    "execution": {
     "iopub.execute_input": "2024-09-17T19:38:40.532047Z",
     "iopub.status.busy": "2024-09-17T19:38:40.531610Z",
     "iopub.status.idle": "2024-09-17T19:56:58.780312Z",
     "shell.execute_reply": "2024-09-17T19:56:58.779117Z"
    },
    "papermill": {
     "duration": 1098.280363,
     "end_time": "2024-09-17T19:56:58.797999",
     "exception": false,
     "start_time": "2024-09-17T19:38:40.517636",
     "status": "completed"
    },
    "tags": []
   },
   "outputs": [
    {
     "name": "stdout",
     "output_type": "stream",
     "text": [
      "Training GradientBoostingRegressor\n",
      "\n",
      "--- Fold 1 - RMSE: 71976\n",
      "--- Fold 2 - RMSE: 73367\n",
      "--- Fold 3 - RMSE: 72740\n",
      "--- Fold 4 - RMSE: 72280\n",
      "--- Fold 5 - RMSE: 73507\n",
      "\n",
      "Overall RMSE: 72777 ± 595\n"
     ]
    }
   ],
   "source": [
    "X, y, X_test, _ = get_data(impute=True, encode=True)\n",
    "gb_model = GradientBoostingRegressor(**gb_params)\n",
    "gb_trainer = Trainer(gb_model, CFG, save_preds=True)\n",
    "oof_preds['GradientBoosting'], test_preds['GradientBoosting'], scores['GradientBoosting'] = gb_trainer.fit_predict(X, y, X_test)"
   ]
  },
  {
   "cell_type": "markdown",
   "id": "5e1da413",
   "metadata": {
    "papermill": {
     "duration": 0.013064,
     "end_time": "2024-09-17T19:56:58.824363",
     "exception": false,
     "start_time": "2024-09-17T19:56:58.811299",
     "status": "completed"
    },
    "tags": []
   },
   "source": [
    "# Ensembling base models"
   ]
  },
  {
   "cell_type": "code",
   "execution_count": 17,
   "id": "0ff64fa0",
   "metadata": {
    "execution": {
     "iopub.execute_input": "2024-09-17T19:56:58.852518Z",
     "iopub.status.busy": "2024-09-17T19:56:58.852108Z",
     "iopub.status.idle": "2024-09-17T19:56:58.861680Z",
     "shell.execute_reply": "2024-09-17T19:56:58.860581Z"
    },
    "papermill": {
     "duration": 0.026926,
     "end_time": "2024-09-17T19:56:58.864158",
     "exception": false,
     "start_time": "2024-09-17T19:56:58.837232",
     "status": "completed"
    },
    "tags": []
   },
   "outputs": [],
   "source": [
    "def plot_weights(title, weights):\n",
    "    plt.figure(figsize=(10, 4))\n",
    "\n",
    "    weights = pd.Series(weights, index=test_preds.keys()).sort_values(ascending=False)\n",
    "    sns.barplot(y=weights.index, x=weights.values, palette='RdYlGn_r')\n",
    "    plt.title(title)\n",
    "    plt.ylabel('')\n",
    "    plt.xlabel('')\n",
    "\n",
    "    for i, (value, name) in enumerate(zip(weights, test_preds.keys())):\n",
    "        if value > 0:\n",
    "            plt.text(value, i, f'{value:.3f}', va='center', ha='left', color='black')\n",
    "        else:\n",
    "            plt.text(value, i, f'{value:.3f}', va='center', ha='right', color='black')\n",
    "\n",
    "    xlim = plt.xlim()\n",
    "    plt.xlim(xlim[0] - 1.2 * abs(xlim[0]), xlim[1] + 0.1 * abs(xlim[1]))\n",
    "\n",
    "    plt.tight_layout()\n",
    "    plt.show()"
   ]
  },
  {
   "cell_type": "markdown",
   "id": "044c0568",
   "metadata": {
    "papermill": {
     "duration": 0.012913,
     "end_time": "2024-09-17T19:56:58.890853",
     "exception": false,
     "start_time": "2024-09-17T19:56:58.877940",
     "status": "completed"
    },
    "tags": []
   },
   "source": [
    "## Weighted Averaging\n",
    "\n",
    "One simple way to combine the predictions of multiple models is to assign a weight to each model and take the weighted average of the predictions. To find the optimal weights, we can use a hyperparameter optimization tool such as Optuna. Here, I've defined an Optuna run that optimizes the weights assigned to each model based on the overall RMSE achieved for each set of weights.\n"
   ]
  },
  {
   "cell_type": "code",
   "execution_count": 18,
   "id": "759fa6c5",
   "metadata": {
    "execution": {
     "iopub.execute_input": "2024-09-17T19:56:58.919034Z",
     "iopub.status.busy": "2024-09-17T19:56:58.918588Z",
     "iopub.status.idle": "2024-09-17T19:56:58.926598Z",
     "shell.execute_reply": "2024-09-17T19:56:58.925274Z"
    },
    "papermill": {
     "duration": 0.025014,
     "end_time": "2024-09-17T19:56:58.929050",
     "exception": false,
     "start_time": "2024-09-17T19:56:58.904036",
     "status": "completed"
    },
    "tags": []
   },
   "outputs": [],
   "source": [
    "def objective(trial):\n",
    "    lgbm_weight = trial.suggest_float('lgbm_weight', 0.0, 1.0)\n",
    "    xgb_weight = trial.suggest_float('xgb_weight', 0.0, 1.0)\n",
    "    cb_weight = trial.suggest_float('cb_weight', 0.0, 1.0)\n",
    "    hgb_weight = trial.suggest_float('hgb_weight', 0.0, 1.0)\n",
    "    gb_weight = trial.suggest_float('gb_weight', 0.0, 1.0)\n",
    "\n",
    "    weights = [\n",
    "        lgbm_weight,\n",
    "        xgb_weight,\n",
    "        cb_weight, \n",
    "        hgb_weight,\n",
    "        gb_weight\n",
    "    ]\n",
    "    weights /= np.sum(weights)\n",
    "\n",
    "    preds = np.zeros((X.shape[0]))\n",
    "    for model, weight in zip(oof_preds.keys(), weights):\n",
    "        preds += oof_preds[model] * weight\n",
    "\n",
    "    return mean_squared_error(preds, y, squared=False)"
   ]
  },
  {
   "cell_type": "code",
   "execution_count": 19,
   "id": "a406e218",
   "metadata": {
    "_kg_hide-output": true,
    "execution": {
     "iopub.execute_input": "2024-09-17T19:56:59.016962Z",
     "iopub.status.busy": "2024-09-17T19:56:59.015696Z",
     "iopub.status.idle": "2024-09-17T19:57:18.915904Z",
     "shell.execute_reply": "2024-09-17T19:57:18.914671Z"
    },
    "papermill": {
     "duration": 19.917367,
     "end_time": "2024-09-17T19:57:18.918484",
     "exception": false,
     "start_time": "2024-09-17T19:56:59.001117",
     "status": "completed"
    },
    "scrolled": true,
    "tags": []
   },
   "outputs": [
    {
     "name": "stderr",
     "output_type": "stream",
     "text": [
      "[I 2024-09-17 19:56:59,019] A new study created in memory with name: no-name-76a61056-2b7c-4490-8d28-3ba9655b6e18\n",
      "[I 2024-09-17 19:56:59,027] Trial 0 finished with value: 72569.56842943263 and parameters: {'lgbm_weight': 0.4238108114695278, 'xgb_weight': 0.5417427669021565, 'cb_weight': 0.6885548977177369, 'hgb_weight': 0.34608302515355915, 'gb_weight': 0.4390290042342089}. Best is trial 0 with value: 72569.56842943263.\n",
      "[I 2024-09-17 19:56:59,032] Trial 1 finished with value: 72584.16237622409 and parameters: {'lgbm_weight': 0.5890490882552291, 'xgb_weight': 0.6536621729379826, 'cb_weight': 0.11026583566095016, 'hgb_weight': 0.14290265496795074, 'gb_weight': 0.8741773566676976}. Best is trial 0 with value: 72569.56842943263.\n",
      "[I 2024-09-17 19:56:59,038] Trial 2 finished with value: 72584.06248863185 and parameters: {'lgbm_weight': 0.3370017886945007, 'xgb_weight': 0.0690762632890779, 'cb_weight': 0.3119193394222002, 'hgb_weight': 0.6127806231598824, 'gb_weight': 0.6540414802670811}. Best is trial 0 with value: 72569.56842943263.\n",
      "[I 2024-09-17 19:56:59,044] Trial 3 finished with value: 72616.0694381946 and parameters: {'lgbm_weight': 0.9019173161265741, 'xgb_weight': 0.09308366220543696, 'cb_weight': 0.9244497226698039, 'hgb_weight': 0.18210112807430978, 'gb_weight': 0.049038918177003565}. Best is trial 0 with value: 72569.56842943263.\n",
      "[I 2024-09-17 19:56:59,049] Trial 4 finished with value: 72578.08950888016 and parameters: {'lgbm_weight': 0.2527441719989775, 'xgb_weight': 0.1826865086609536, 'cb_weight': 0.44111359306734066, 'hgb_weight': 0.7383970181535947, 'gb_weight': 0.29166448974847015}. Best is trial 0 with value: 72569.56842943263.\n",
      "[I 2024-09-17 19:56:59,055] Trial 5 finished with value: 72588.68880560448 and parameters: {'lgbm_weight': 0.2833477186170118, 'xgb_weight': 0.1298766880433775, 'cb_weight': 0.6457086389716167, 'hgb_weight': 0.05455697208908716, 'gb_weight': 0.28154316530908785}. Best is trial 0 with value: 72569.56842943263.\n",
      "[I 2024-09-17 19:56:59,060] Trial 6 finished with value: 72581.68734567713 and parameters: {'lgbm_weight': 0.3434105184743179, 'xgb_weight': 0.21657858910800498, 'cb_weight': 0.12818860512945918, 'hgb_weight': 0.4152257525979104, 'gb_weight': 0.6072169320209568}. Best is trial 0 with value: 72569.56842943263.\n",
      "[I 2024-09-17 19:56:59,066] Trial 7 finished with value: 72575.23501675086 and parameters: {'lgbm_weight': 0.48208289394067116, 'xgb_weight': 0.0056310875634181246, 'cb_weight': 0.47664683270455677, 'hgb_weight': 0.09416782637433863, 'gb_weight': 0.4739188545206965}. Best is trial 0 with value: 72569.56842943263.\n",
      "[I 2024-09-17 19:56:59,071] Trial 8 finished with value: 72568.8751433757 and parameters: {'lgbm_weight': 0.39475752051885105, 'xgb_weight': 0.2725631144869781, 'cb_weight': 0.6919906081588489, 'hgb_weight': 0.6287500848087164, 'gb_weight': 0.5407462328199973}. Best is trial 8 with value: 72568.8751433757.\n",
      "[I 2024-09-17 19:56:59,077] Trial 9 finished with value: 72585.87721091791 and parameters: {'lgbm_weight': 0.9245543572376594, 'xgb_weight': 0.28561500460894307, 'cb_weight': 0.5732866384964466, 'hgb_weight': 0.034174307904028534, 'gb_weight': 0.5758903071098127}. Best is trial 8 with value: 72568.8751433757.\n",
      "[I 2024-09-17 19:56:59,106] Trial 10 finished with value: 72593.06419225797 and parameters: {'lgbm_weight': 0.007924635050871598, 'xgb_weight': 0.9270568148823798, 'cb_weight': 0.8986071872987713, 'hgb_weight': 0.9900432582222168, 'gb_weight': 0.9982624707904182}. Best is trial 8 with value: 72568.8751433757.\n",
      "[I 2024-09-17 19:56:59,137] Trial 11 finished with value: 72570.17648283827 and parameters: {'lgbm_weight': 0.6730618250672594, 'xgb_weight': 0.46969430290492525, 'cb_weight': 0.755595848417244, 'hgb_weight': 0.35615029896503714, 'gb_weight': 0.3850855422349991}. Best is trial 8 with value: 72568.8751433757.\n",
      "[I 2024-09-17 19:56:59,168] Trial 12 finished with value: 72596.306888563 and parameters: {'lgbm_weight': 0.0030424293759099275, 'xgb_weight': 0.44066442799150773, 'cb_weight': 0.7392876676542295, 'hgb_weight': 0.6438395560995755, 'gb_weight': 0.7948752041557773}. Best is trial 8 with value: 72568.8751433757.\n",
      "[I 2024-09-17 19:56:59,199] Trial 13 finished with value: 72584.55171924627 and parameters: {'lgbm_weight': 0.49570719376179034, 'xgb_weight': 0.6670615811144959, 'cb_weight': 0.7734121721031237, 'hgb_weight': 0.31797034506771926, 'gb_weight': 0.1183435738590134}. Best is trial 8 with value: 72568.8751433757.\n",
      "[I 2024-09-17 19:56:59,230] Trial 14 finished with value: 72569.28836327446 and parameters: {'lgbm_weight': 0.7130444159081308, 'xgb_weight': 0.3535845205391734, 'cb_weight': 0.30873778223851844, 'hgb_weight': 0.8568963443922812, 'gb_weight': 0.4367472959575627}. Best is trial 8 with value: 72568.8751433757.\n",
      "[I 2024-09-17 19:56:59,261] Trial 15 finished with value: 72572.63641624538 and parameters: {'lgbm_weight': 0.7585023149481601, 'xgb_weight': 0.33628666298141074, 'cb_weight': 0.29492830427693806, 'hgb_weight': 0.9122661904993523, 'gb_weight': 0.7314125074031952}. Best is trial 8 with value: 72568.8751433757.\n",
      "[I 2024-09-17 19:56:59,293] Trial 16 finished with value: 72571.64805789577 and parameters: {'lgbm_weight': 0.7799357650696372, 'xgb_weight': 0.3588234443936939, 'cb_weight': 0.26454955005617153, 'hgb_weight': 0.7927434809455192, 'gb_weight': 0.2644431188371098}. Best is trial 8 with value: 72568.8751433757.\n",
      "[I 2024-09-17 19:56:59,326] Trial 17 finished with value: 72593.65330563766 and parameters: {'lgbm_weight': 0.19474638786235082, 'xgb_weight': 0.633784918435804, 'cb_weight': 0.02960026540166716, 'hgb_weight': 0.5443173723322743, 'gb_weight': 0.523337354657748}. Best is trial 8 with value: 72568.8751433757.\n",
      "[I 2024-09-17 19:56:59,360] Trial 18 finished with value: 72571.42901764395 and parameters: {'lgbm_weight': 0.6136470424475462, 'xgb_weight': 0.8855808659244769, 'cb_weight': 0.3734419715188853, 'hgb_weight': 0.8087477452868133, 'gb_weight': 0.3858559248744507}. Best is trial 8 with value: 72568.8751433757.\n",
      "[I 2024-09-17 19:56:59,390] Trial 19 finished with value: 72569.3928171715 and parameters: {'lgbm_weight': 0.8184792152626006, 'xgb_weight': 0.26144942114298253, 'cb_weight': 0.545554330849229, 'hgb_weight': 0.6939543931972998, 'gb_weight': 0.19926444937985244}. Best is trial 8 with value: 72568.8751433757.\n",
      "[I 2024-09-17 19:56:59,423] Trial 20 finished with value: 72584.66990202515 and parameters: {'lgbm_weight': 0.12146249885598603, 'xgb_weight': 0.763174754732515, 'cb_weight': 0.9893363367458411, 'hgb_weight': 0.8801013559411859, 'gb_weight': 0.6860748234108252}. Best is trial 8 with value: 72568.8751433757.\n",
      "[I 2024-09-17 19:56:59,455] Trial 21 finished with value: 72574.17625967118 and parameters: {'lgbm_weight': 0.9975811005657966, 'xgb_weight': 0.26028497898917025, 'cb_weight': 0.6011634296930449, 'hgb_weight': 0.7072302650125875, 'gb_weight': 0.17670261047908753}. Best is trial 8 with value: 72568.8751433757.\n",
      "[I 2024-09-17 19:56:59,486] Trial 22 finished with value: 72571.82857217018 and parameters: {'lgbm_weight': 0.7745635183604868, 'xgb_weight': 0.3856360295556501, 'cb_weight': 0.5484360565592845, 'hgb_weight': 0.5369576889899665, 'gb_weight': 0.17659480140331088}. Best is trial 8 with value: 72568.8751433757.\n",
      "[I 2024-09-17 19:56:59,519] Trial 23 finished with value: 72571.5339082208 and parameters: {'lgbm_weight': 0.685168040793234, 'xgb_weight': 0.5447278562241193, 'cb_weight': 0.2202901021585324, 'hgb_weight': 0.6527659935033419, 'gb_weight': 0.31800659695697503}. Best is trial 8 with value: 72568.8751433757.\n",
      "[I 2024-09-17 19:56:59,552] Trial 24 finished with value: 72588.08320127473 and parameters: {'lgbm_weight': 0.8664694233282753, 'xgb_weight': 0.2990632096781423, 'cb_weight': 0.39746848154815706, 'hgb_weight': 0.46211687100787857, 'gb_weight': 0.04932396209310158}. Best is trial 8 with value: 72568.8751433757.\n",
      "[I 2024-09-17 19:56:59,583] Trial 25 finished with value: 72566.69464570627 and parameters: {'lgbm_weight': 0.560265251566966, 'xgb_weight': 0.40811557491086536, 'cb_weight': 0.8358615996305788, 'hgb_weight': 0.8290320968614123, 'gb_weight': 0.5373245228040598}. Best is trial 25 with value: 72566.69464570627.\n",
      "[I 2024-09-17 19:56:59,613] Trial 26 finished with value: 72568.02500394746 and parameters: {'lgbm_weight': 0.5689839988953717, 'xgb_weight': 0.4124820610942708, 'cb_weight': 0.8659833581284112, 'hgb_weight': 0.9819691750628695, 'gb_weight': 0.529315687709073}. Best is trial 25 with value: 72566.69464570627.\n",
      "[I 2024-09-17 19:56:59,644] Trial 27 finished with value: 72567.68853593634 and parameters: {'lgbm_weight': 0.5779727098850153, 'xgb_weight': 0.44816776521843205, 'cb_weight': 0.8552623839400161, 'hgb_weight': 0.9835762404991462, 'gb_weight': 0.5419755535244728}. Best is trial 25 with value: 72566.69464570627.\n",
      "[I 2024-09-17 19:56:59,676] Trial 28 finished with value: 72568.07525793601 and parameters: {'lgbm_weight': 0.5797483822776808, 'xgb_weight': 0.422792901320314, 'cb_weight': 0.8260134043893255, 'hgb_weight': 0.9977119346006185, 'gb_weight': 0.6328143483963151}. Best is trial 25 with value: 72566.69464570627.\n",
      "[I 2024-09-17 19:56:59,708] Trial 29 finished with value: 72571.70764793732 and parameters: {'lgbm_weight': 0.4388446994838814, 'xgb_weight': 0.5594522836919831, 'cb_weight': 0.8935848497187806, 'hgb_weight': 0.9317683353815454, 'gb_weight': 0.7856309157529153}. Best is trial 25 with value: 72566.69464570627.\n",
      "[I 2024-09-17 19:56:59,741] Trial 30 finished with value: 72567.11295061291 and parameters: {'lgbm_weight': 0.5748881373308031, 'xgb_weight': 0.5871352744451865, 'cb_weight': 0.8306485030577373, 'hgb_weight': 0.810080780299353, 'gb_weight': 0.4073507332371853}. Best is trial 25 with value: 72566.69464570627.\n",
      "[I 2024-09-17 19:56:59,772] Trial 31 finished with value: 72567.10552069379 and parameters: {'lgbm_weight': 0.5487301356499511, 'xgb_weight': 0.5122051446236866, 'cb_weight': 0.8369638192770665, 'hgb_weight': 0.8156967436877063, 'gb_weight': 0.43824677923340405}. Best is trial 25 with value: 72566.69464570627.\n",
      "[I 2024-09-17 19:56:59,805] Trial 32 finished with value: 72568.80008027122 and parameters: {'lgbm_weight': 0.550721073003372, 'xgb_weight': 0.510251780200349, 'cb_weight': 0.9950870420703078, 'hgb_weight': 0.7969129762516909, 'gb_weight': 0.4431730215675256}. Best is trial 25 with value: 72566.69464570627.\n",
      "[I 2024-09-17 19:56:59,837] Trial 33 finished with value: 72566.42598656385 and parameters: {'lgbm_weight': 0.6533942530014122, 'xgb_weight': 0.588361774801528, 'cb_weight': 0.8195347888362048, 'hgb_weight': 0.8378016503288799, 'gb_weight': 0.3774165451877083}. Best is trial 33 with value: 72566.42598656385.\n",
      "[I 2024-09-17 19:56:59,868] Trial 34 finished with value: 72566.33290834582 and parameters: {'lgbm_weight': 0.6474211712089756, 'xgb_weight': 0.6115379844081436, 'cb_weight': 0.8050045059525605, 'hgb_weight': 0.8301738574383886, 'gb_weight': 0.3974508166356876}. Best is trial 34 with value: 72566.33290834582.\n",
      "[I 2024-09-17 19:56:59,900] Trial 35 finished with value: 72567.94615116468 and parameters: {'lgbm_weight': 0.6444201143363059, 'xgb_weight': 0.769708052671038, 'cb_weight': 0.6801171471861938, 'hgb_weight': 0.7655878624436911, 'gb_weight': 0.3466008346431768}. Best is trial 34 with value: 72566.33290834582.\n",
      "[I 2024-09-17 19:56:59,932] Trial 36 finished with value: 72569.5689804116 and parameters: {'lgbm_weight': 0.5134658174433575, 'xgb_weight': 0.7081542765951053, 'cb_weight': 0.9528721474901509, 'hgb_weight': 0.8601613059947726, 'gb_weight': 0.47466955712792713}. Best is trial 34 with value: 72566.33290834582.\n",
      "[I 2024-09-17 19:56:59,964] Trial 37 finished with value: 72571.92623513381 and parameters: {'lgbm_weight': 0.4192621299074322, 'xgb_weight': 0.5854785816219399, 'cb_weight': 0.8004626291431489, 'hgb_weight': 0.7211410807084204, 'gb_weight': 0.23675286903002235}. Best is trial 34 with value: 72566.33290834582.\n",
      "[I 2024-09-17 19:56:59,995] Trial 38 finished with value: 72565.898934602 and parameters: {'lgbm_weight': 0.7189893120877265, 'xgb_weight': 0.5042241910157323, 'cb_weight': 0.7162243839985704, 'hgb_weight': 0.928299595193452, 'gb_weight': 0.32459214883099663}. Best is trial 38 with value: 72565.898934602.\n",
      "[I 2024-09-17 19:57:00,030] Trial 39 finished with value: 72566.95024815048 and parameters: {'lgbm_weight': 0.7220699097872966, 'xgb_weight': 0.755471901149669, 'cb_weight': 0.7167619522040203, 'hgb_weight': 0.9386559079834458, 'gb_weight': 0.3743921384035512}. Best is trial 38 with value: 72565.898934602.\n",
      "[I 2024-09-17 19:57:00,064] Trial 40 finished with value: 72581.89763159024 and parameters: {'lgbm_weight': 0.6375905417982746, 'xgb_weight': 0.8393338280246879, 'cb_weight': 0.629497692836657, 'hgb_weight': 0.2242978290689207, 'gb_weight': 0.30338547410418726}. Best is trial 38 with value: 72565.898934602.\n",
      "[I 2024-09-17 19:57:00,098] Trial 41 finished with value: 72566.88704845333 and parameters: {'lgbm_weight': 0.7291181268923347, 'xgb_weight': 0.6979434541145006, 'cb_weight': 0.7124245713704271, 'hgb_weight': 0.935100660201986, 'gb_weight': 0.3295729375387126}. Best is trial 38 with value: 72565.898934602.\n",
      "[I 2024-09-17 19:57:00,132] Trial 42 finished with value: 72566.77460063952 and parameters: {'lgbm_weight': 0.832612633639209, 'xgb_weight': 0.6718187128601668, 'cb_weight': 0.6724668881118299, 'hgb_weight': 0.8825901224645247, 'gb_weight': 0.3268218914788325}. Best is trial 38 with value: 72565.898934602.\n",
      "[I 2024-09-17 19:57:00,165] Trial 43 finished with value: 72567.99577108084 and parameters: {'lgbm_weight': 0.8423842986098358, 'xgb_weight': 0.6171131680139669, 'cb_weight': 0.6530060556698465, 'hgb_weight': 0.875176844278707, 'gb_weight': 0.23191438444985685}. Best is trial 38 with value: 72565.898934602.\n",
      "[I 2024-09-17 19:57:00,199] Trial 44 finished with value: 72565.1799187293 and parameters: {'lgbm_weight': 0.9333617212714442, 'xgb_weight': 0.6732879975167052, 'cb_weight': 0.7843542106402579, 'hgb_weight': 0.7467443560861541, 'gb_weight': 0.5885053480478554}. Best is trial 44 with value: 72565.1799187293.\n",
      "[I 2024-09-17 19:57:00,234] Trial 45 finished with value: 72565.57680428395 and parameters: {'lgbm_weight': 0.9284546762658581, 'xgb_weight': 0.491592445803993, 'cb_weight': 0.9284958930207474, 'hgb_weight': 0.7562949649984895, 'gb_weight': 0.49454209273031813}. Best is trial 44 with value: 72565.1799187293.\n",
      "[I 2024-09-17 19:57:00,267] Trial 46 finished with value: 72564.78312073779 and parameters: {'lgbm_weight': 0.9385085428211558, 'xgb_weight': 0.4997970544082599, 'cb_weight': 0.9239804800850919, 'hgb_weight': 0.7484920619918614, 'gb_weight': 0.5908650681197205}. Best is trial 46 with value: 72564.78312073779.\n",
      "[I 2024-09-17 19:57:00,300] Trial 47 finished with value: 72566.2998214483 and parameters: {'lgbm_weight': 0.9575483708308263, 'xgb_weight': 0.5169857637499145, 'cb_weight': 0.9201168959172127, 'hgb_weight': 0.5889590602917512, 'gb_weight': 0.6050478712788382}. Best is trial 46 with value: 72564.78312073779.\n",
      "[I 2024-09-17 19:57:00,334] Trial 48 finished with value: 72566.68116578365 and parameters: {'lgbm_weight': 0.9650806808143173, 'xgb_weight': 0.4857216830930962, 'cb_weight': 0.9174079093304219, 'hgb_weight': 0.5740600705964058, 'gb_weight': 0.587546242331558}. Best is trial 46 with value: 72564.78312073779.\n",
      "[I 2024-09-17 19:57:00,368] Trial 49 finished with value: 72564.70348633548 and parameters: {'lgbm_weight': 0.8941070913666359, 'xgb_weight': 0.5212448370385657, 'cb_weight': 0.9435578813421659, 'hgb_weight': 0.6733773450967198, 'gb_weight': 0.6812634368088321}. Best is trial 49 with value: 72564.70348633548.\n",
      "[I 2024-09-17 19:57:00,401] Trial 50 finished with value: 72564.21308506772 and parameters: {'lgbm_weight': 0.9041807886827392, 'xgb_weight': 0.47654664520053935, 'cb_weight': 0.7516804634850053, 'hgb_weight': 0.6604409646922683, 'gb_weight': 0.7411947222802774}. Best is trial 50 with value: 72564.21308506772.\n",
      "[I 2024-09-17 19:57:00,435] Trial 51 finished with value: 72564.28095755845 and parameters: {'lgbm_weight': 0.9118878596356328, 'xgb_weight': 0.4675246315488237, 'cb_weight': 0.7665089832297625, 'hgb_weight': 0.6667293911884213, 'gb_weight': 0.6828568091123013}. Best is trial 50 with value: 72564.21308506772.\n",
      "[I 2024-09-17 19:57:00,468] Trial 52 finished with value: 72564.86854240259 and parameters: {'lgbm_weight': 0.8913272739066417, 'xgb_weight': 0.45144284405037793, 'cb_weight': 0.9608009030549259, 'hgb_weight': 0.6537301109461899, 'gb_weight': 0.6752865670374162}. Best is trial 50 with value: 72564.21308506772.\n",
      "[I 2024-09-17 19:57:00,500] Trial 53 finished with value: 72567.76908749522 and parameters: {'lgbm_weight': 0.8786626228236422, 'xgb_weight': 0.9958417280808243, 'cb_weight': 0.962858920239623, 'hgb_weight': 0.6744217306825211, 'gb_weight': 0.6892768972395826}. Best is trial 50 with value: 72564.21308506772.\n",
      "[I 2024-09-17 19:57:00,534] Trial 54 finished with value: 72564.67918119319 and parameters: {'lgbm_weight': 0.9079694571997448, 'xgb_weight': 0.4511090774660991, 'cb_weight': 0.7756997651893994, 'hgb_weight': 0.6018833741960912, 'gb_weight': 0.8967008312597236}. Best is trial 50 with value: 72564.21308506772.\n",
      "[I 2024-09-17 19:57:00,567] Trial 55 finished with value: 72564.84578488412 and parameters: {'lgbm_weight': 0.8954874581980031, 'xgb_weight': 0.4544422450156074, 'cb_weight': 0.7663792166270467, 'hgb_weight': 0.6265834957349589, 'gb_weight': 0.9500126893627607}. Best is trial 50 with value: 72564.21308506772.\n",
      "[I 2024-09-17 19:57:00,601] Trial 56 finished with value: 72566.4416547893 and parameters: {'lgbm_weight': 0.993569946091224, 'xgb_weight': 0.3608364495922718, 'cb_weight': 0.7505590210521668, 'hgb_weight': 0.4845796205366529, 'gb_weight': 0.9575123050956869}. Best is trial 50 with value: 72564.21308506772.\n",
      "[I 2024-09-17 19:57:00,635] Trial 57 finished with value: 72565.74733248878 and parameters: {'lgbm_weight': 0.8053554826102178, 'xgb_weight': 0.19661376563880295, 'cb_weight': 0.8750287106223293, 'hgb_weight': 0.5876289196036534, 'gb_weight': 0.8539958633361269}. Best is trial 50 with value: 72564.21308506772.\n",
      "[I 2024-09-17 19:57:00,669] Trial 58 finished with value: 72567.60448199922 and parameters: {'lgbm_weight': 0.9151327808938139, 'xgb_weight': 0.5464394685139911, 'cb_weight': 0.4741844647307413, 'hgb_weight': 0.6179794495378857, 'gb_weight': 0.9211983240192819}. Best is trial 50 with value: 72564.21308506772.\n",
      "[I 2024-09-17 19:57:00,702] Trial 59 finished with value: 72564.90683707823 and parameters: {'lgbm_weight': 0.8722336080429439, 'xgb_weight': 0.38043128445435004, 'cb_weight': 0.7504533594286207, 'hgb_weight': 0.5336672652783827, 'gb_weight': 0.8347634263911972}. Best is trial 50 with value: 72564.21308506772.\n",
      "[I 2024-09-17 19:57:00,735] Trial 60 finished with value: 72565.51508720571 and parameters: {'lgbm_weight': 0.9641989396855317, 'xgb_weight': 0.3271143747263455, 'cb_weight': 0.6180913546130696, 'hgb_weight': 0.6798300690209593, 'gb_weight': 0.7488981101960379}. Best is trial 50 with value: 72564.21308506772.\n",
      "[I 2024-09-17 19:57:00,769] Trial 61 finished with value: 72565.08923091918 and parameters: {'lgbm_weight': 0.898832106509721, 'xgb_weight': 0.4535680800084718, 'cb_weight': 0.9677732297117184, 'hgb_weight': 0.6343301691394453, 'gb_weight': 0.6744873915401298}. Best is trial 50 with value: 72564.21308506772.\n",
      "[I 2024-09-17 19:57:00,803] Trial 62 finished with value: 72564.75844566584 and parameters: {'lgbm_weight': 0.7914634748056499, 'xgb_weight': 0.45956133740333505, 'cb_weight': 0.8829186499568502, 'hgb_weight': 0.6610855166533088, 'gb_weight': 0.9102816606675681}. Best is trial 50 with value: 72564.21308506772.\n",
      "[I 2024-09-17 19:57:00,837] Trial 63 finished with value: 72564.57682033964 and parameters: {'lgbm_weight': 0.8448802766973806, 'xgb_weight': 0.39391055683493637, 'cb_weight': 0.8874980568451626, 'hgb_weight': 0.7118675660006285, 'gb_weight': 0.9102374478646358}. Best is trial 50 with value: 72564.21308506772.\n",
      "[I 2024-09-17 19:57:00,870] Trial 64 finished with value: 72564.90061035297 and parameters: {'lgbm_weight': 0.7812931354360907, 'xgb_weight': 0.3925179530813767, 'cb_weight': 0.8981079517260364, 'hgb_weight': 0.6932752247866861, 'gb_weight': 0.8943612386013817}. Best is trial 50 with value: 72564.21308506772.\n",
      "[I 2024-09-17 19:57:00,903] Trial 65 finished with value: 72564.50755619902 and parameters: {'lgbm_weight': 0.837200300613858, 'xgb_weight': 0.3085704342954606, 'cb_weight': 0.876525586600083, 'hgb_weight': 0.7207136939792577, 'gb_weight': 0.8164070250469856}. Best is trial 50 with value: 72564.21308506772.\n",
      "[I 2024-09-17 19:57:00,936] Trial 66 finished with value: 72564.92363752972 and parameters: {'lgbm_weight': 0.8064939352845231, 'xgb_weight': 0.3039387335407897, 'cb_weight': 0.871382589180426, 'hgb_weight': 0.5663575848350306, 'gb_weight': 0.8081478552499303}. Best is trial 50 with value: 72564.21308506772.\n",
      "[I 2024-09-17 19:57:00,972] Trial 67 finished with value: 72567.65084352324 and parameters: {'lgbm_weight': 0.8533225141434434, 'xgb_weight': 0.1348031080245252, 'cb_weight': 0.7895650754265897, 'hgb_weight': 0.5148627566915449, 'gb_weight': 0.9972334437533403}. Best is trial 50 with value: 72564.21308506772.\n",
      "[I 2024-09-17 19:57:01,004] Trial 68 finished with value: 72565.89228368172 and parameters: {'lgbm_weight': 0.7735186933853698, 'xgb_weight': 0.421603270432939, 'cb_weight': 0.8538394366337321, 'hgb_weight': 0.42264945342888427, 'gb_weight': 0.729074134621025}. Best is trial 50 with value: 72564.21308506772.\n",
      "[I 2024-09-17 19:57:01,037] Trial 69 finished with value: 72565.30516753467 and parameters: {'lgbm_weight': 0.8260603387862459, 'xgb_weight': 0.24791462280397653, 'cb_weight': 0.8895824623702209, 'hgb_weight': 0.719533775292868, 'gb_weight': 0.885181227345022}. Best is trial 50 with value: 72564.21308506772.\n",
      "[I 2024-09-17 19:57:01,071] Trial 70 finished with value: 72564.42150388777 and parameters: {'lgbm_weight': 0.9953045070903539, 'xgb_weight': 0.35018553661263596, 'cb_weight': 0.994092435178371, 'hgb_weight': 0.7758449091691966, 'gb_weight': 0.7692147866032859}. Best is trial 50 with value: 72564.21308506772.\n",
      "[I 2024-09-17 19:57:01,104] Trial 71 finished with value: 72564.44669981913 and parameters: {'lgbm_weight': 0.9683101705896299, 'xgb_weight': 0.31910230799716655, 'cb_weight': 0.9865926765805565, 'hgb_weight': 0.773866700841848, 'gb_weight': 0.8044289463692677}. Best is trial 50 with value: 72564.21308506772.\n",
      "[I 2024-09-17 19:57:01,138] Trial 72 finished with value: 72564.9931807247 and parameters: {'lgbm_weight': 0.964432705431469, 'xgb_weight': 0.22683084397791664, 'cb_weight': 0.9863839804964102, 'hgb_weight': 0.7707435816350798, 'gb_weight': 0.7639340881188397}. Best is trial 50 with value: 72564.21308506772.\n",
      "[I 2024-09-17 19:57:01,171] Trial 73 finished with value: 72564.4935629412 and parameters: {'lgbm_weight': 0.9980007849110262, 'xgb_weight': 0.3322292460371549, 'cb_weight': 0.9443463526468415, 'hgb_weight': 0.7241869355445066, 'gb_weight': 0.8398552767725553}. Best is trial 50 with value: 72564.21308506772.\n",
      "[I 2024-09-17 19:57:01,204] Trial 74 finished with value: 72564.61691007216 and parameters: {'lgbm_weight': 0.9933523026058761, 'xgb_weight': 0.325605688456966, 'cb_weight': 0.9964255593856134, 'hgb_weight': 0.7279825689751357, 'gb_weight': 0.8365145941702858}. Best is trial 50 with value: 72564.21308506772.\n",
      "[I 2024-09-17 19:57:01,239] Trial 75 finished with value: 72564.64957176553 and parameters: {'lgbm_weight': 0.9971246336138123, 'xgb_weight': 0.3251754308817507, 'cb_weight': 0.9988799573306762, 'hgb_weight': 0.723881347066763, 'gb_weight': 0.8381580613391492}. Best is trial 50 with value: 72564.21308506772.\n",
      "[I 2024-09-17 19:57:01,274] Trial 76 finished with value: 72564.51746951957 and parameters: {'lgbm_weight': 0.9494295044964924, 'xgb_weight': 0.28280843260518346, 'cb_weight': 0.954313772666981, 'hgb_weight': 0.7804566666494795, 'gb_weight': 0.8018879129317935}. Best is trial 50 with value: 72564.21308506772.\n",
      "[I 2024-09-17 19:57:01,308] Trial 77 finished with value: 72564.40152245303 and parameters: {'lgbm_weight': 0.9522118876191749, 'xgb_weight': 0.2935221279849848, 'cb_weight': 0.93774804612771, 'hgb_weight': 0.7917547100778201, 'gb_weight': 0.7896584151111242}. Best is trial 50 with value: 72564.21308506772.\n",
      "[I 2024-09-17 19:57:01,342] Trial 78 finished with value: 72565.43403960431 and parameters: {'lgbm_weight': 0.9534598184671663, 'xgb_weight': 0.15803512682508952, 'cb_weight': 0.9508164756613254, 'hgb_weight': 0.7834509862655324, 'gb_weight': 0.797362853230687}. Best is trial 50 with value: 72564.21308506772.\n",
      "[I 2024-09-17 19:57:01,375] Trial 79 finished with value: 72566.47902600707 and parameters: {'lgbm_weight': 0.9319632766116072, 'xgb_weight': 0.06023763013373484, 'cb_weight': 0.925457446132552, 'hgb_weight': 0.790607746534122, 'gb_weight': 0.7166862523201206}. Best is trial 50 with value: 72564.21308506772.\n",
      "[I 2024-09-17 19:57:01,409] Trial 80 finished with value: 72564.41259567285 and parameters: {'lgbm_weight': 0.9778798736026145, 'xgb_weight': 0.2966270558776548, 'cb_weight': 0.9750575332621761, 'hgb_weight': 0.8484637481603027, 'gb_weight': 0.7684925083912095}. Best is trial 50 with value: 72564.21308506772.\n",
      "[I 2024-09-17 19:57:01,444] Trial 81 finished with value: 72564.4798530501 and parameters: {'lgbm_weight': 0.9874270481875584, 'xgb_weight': 0.28422077671250645, 'cb_weight': 0.972575016271737, 'hgb_weight': 0.8444530056222485, 'gb_weight': 0.7636038229706179}. Best is trial 50 with value: 72564.21308506772.\n",
      "[I 2024-09-17 19:57:01,479] Trial 82 finished with value: 72564.7964073926 and parameters: {'lgbm_weight': 0.9808797921065058, 'xgb_weight': 0.23430082703408112, 'cb_weight': 0.9712110018432191, 'hgb_weight': 0.9080013157053013, 'gb_weight': 0.7696208911826115}. Best is trial 50 with value: 72564.21308506772.\n",
      "[I 2024-09-17 19:57:01,513] Trial 83 finished with value: 72565.36214560355 and parameters: {'lgbm_weight': 0.9221035314605464, 'xgb_weight': 0.19598064312952046, 'cb_weight': 0.9034979228909534, 'hgb_weight': 0.8566688515179038, 'gb_weight': 0.8567576738041777}. Best is trial 50 with value: 72564.21308506772.\n",
      "[I 2024-09-17 19:57:01,547] Trial 84 finished with value: 72564.21926492079 and parameters: {'lgbm_weight': 0.9770996808829975, 'xgb_weight': 0.352755472261251, 'cb_weight': 0.8491241966127945, 'hgb_weight': 0.8367442231459212, 'gb_weight': 0.646859951778693}. Best is trial 50 with value: 72564.21308506772.\n",
      "[I 2024-09-17 19:57:01,583] Trial 85 finished with value: 72564.19370404157 and parameters: {'lgbm_weight': 0.9819744515297917, 'xgb_weight': 0.3614120024287045, 'cb_weight': 0.8443900672264234, 'hgb_weight': 0.8508456696890905, 'gb_weight': 0.647262396932314}. Best is trial 85 with value: 72564.19370404157.\n",
      "[I 2024-09-17 19:57:01,617] Trial 86 finished with value: 72564.07688205958 and parameters: {'lgbm_weight': 0.9753943370168386, 'xgb_weight': 0.3600398460986539, 'cb_weight': 0.8475168783417797, 'hgb_weight': 0.8957302241228611, 'gb_weight': 0.7107326300829756}. Best is trial 86 with value: 72564.07688205958.\n",
      "[I 2024-09-17 19:57:01,651] Trial 87 finished with value: 72564.20754163363 and parameters: {'lgbm_weight': 0.9712841839623209, 'xgb_weight': 0.3752876851244145, 'cb_weight': 0.8391316069912153, 'hgb_weight': 0.9618224570589304, 'gb_weight': 0.6337586441494036}. Best is trial 86 with value: 72564.07688205958.\n",
      "[I 2024-09-17 19:57:01,687] Trial 88 finished with value: 72580.22927533073 and parameters: {'lgbm_weight': 0.2655598773488703, 'xgb_weight': 0.3610238260267823, 'cb_weight': 0.8383578888094965, 'hgb_weight': 0.961371263367102, 'gb_weight': 0.6393255143949208}. Best is trial 86 with value: 72564.07688205958.\n",
      "[I 2024-09-17 19:57:01,721] Trial 89 finished with value: 72576.37936164223 and parameters: {'lgbm_weight': 0.3227863285882986, 'xgb_weight': 0.3494981953604291, 'cb_weight': 0.806210791784043, 'hgb_weight': 0.9122067680734469, 'gb_weight': 0.6257545022184837}. Best is trial 86 with value: 72564.07688205958.\n",
      "[I 2024-09-17 19:57:01,756] Trial 90 finished with value: 72591.40303249608 and parameters: {'lgbm_weight': 0.07178160792739208, 'xgb_weight': 0.3723523361932531, 'cb_weight': 0.8401011171697034, 'hgb_weight': 0.8186780597042601, 'gb_weight': 0.5597760914794636}. Best is trial 86 with value: 72564.07688205958.\n",
      "[I 2024-09-17 19:57:01,791] Trial 91 finished with value: 72563.95291231757 and parameters: {'lgbm_weight': 0.974091900409417, 'xgb_weight': 0.42081843456782064, 'cb_weight': 0.8191351628031917, 'hgb_weight': 0.8788997867378825, 'gb_weight': 0.707068752157076}. Best is trial 91 with value: 72563.95291231757.\n",
      "[I 2024-09-17 19:57:01,827] Trial 92 finished with value: 72564.14210584009 and parameters: {'lgbm_weight': 0.940360646954615, 'xgb_weight': 0.4230735118199085, 'cb_weight': 0.7315884751587638, 'hgb_weight': 0.8669661548228265, 'gb_weight': 0.7110541866600916}. Best is trial 91 with value: 72563.95291231757.\n",
      "[I 2024-09-17 19:57:01,863] Trial 93 finished with value: 72564.53254561995 and parameters: {'lgbm_weight': 0.9415553807193463, 'xgb_weight': 0.42783243848694924, 'cb_weight': 0.7078829976440427, 'hgb_weight': 0.9603349391296766, 'gb_weight': 0.7049583425448345}. Best is trial 91 with value: 72563.95291231757.\n",
      "[I 2024-09-17 19:57:01,897] Trial 94 finished with value: 72563.96466486558 and parameters: {'lgbm_weight': 0.8729658198054218, 'xgb_weight': 0.40649689469633643, 'cb_weight': 0.8218127096093025, 'hgb_weight': 0.885894981029643, 'gb_weight': 0.6593927673462932}. Best is trial 91 with value: 72563.95291231757.\n",
      "[I 2024-09-17 19:57:01,932] Trial 95 finished with value: 72564.14499878787 and parameters: {'lgbm_weight': 0.8744652161502076, 'xgb_weight': 0.4095081299707576, 'cb_weight': 0.7278952485049945, 'hgb_weight': 0.8939128273943717, 'gb_weight': 0.6502969606584662}. Best is trial 91 with value: 72563.95291231757.\n",
      "[I 2024-09-17 19:57:01,968] Trial 96 finished with value: 72563.91987020605 and parameters: {'lgbm_weight': 0.8723602626008329, 'xgb_weight': 0.4813346220138932, 'cb_weight': 0.8169383477173479, 'hgb_weight': 0.8883289142676903, 'gb_weight': 0.6445408646686545}. Best is trial 96 with value: 72563.91987020605.\n",
      "[I 2024-09-17 19:57:02,004] Trial 97 finished with value: 72564.1121126403 and parameters: {'lgbm_weight': 0.8655632897446192, 'xgb_weight': 0.4117689145545689, 'cb_weight': 0.7310167847627632, 'hgb_weight': 0.891662899731987, 'gb_weight': 0.6283552863853332}. Best is trial 96 with value: 72563.91987020605.\n",
      "[I 2024-09-17 19:57:02,040] Trial 98 finished with value: 72564.16994323279 and parameters: {'lgbm_weight': 0.8728160794533636, 'xgb_weight': 0.40822400565374983, 'cb_weight': 0.7223053957868849, 'hgb_weight': 0.8797614898310169, 'gb_weight': 0.5581453052601079}. Best is trial 96 with value: 72563.91987020605.\n",
      "[I 2024-09-17 19:57:02,077] Trial 99 finished with value: 72564.08275948373 and parameters: {'lgbm_weight': 0.8796289875131739, 'xgb_weight': 0.40566262569452943, 'cb_weight': 0.7384401564277278, 'hgb_weight': 0.8872356237288044, 'gb_weight': 0.617260164540344}. Best is trial 96 with value: 72563.91987020605.\n",
      "[I 2024-09-17 19:57:02,113] Trial 100 finished with value: 72564.16072554249 and parameters: {'lgbm_weight': 0.867214420406293, 'xgb_weight': 0.40412686926040775, 'cb_weight': 0.7322274926633201, 'hgb_weight': 0.8885432421319047, 'gb_weight': 0.5613014392651704}. Best is trial 96 with value: 72563.91987020605.\n",
      "[I 2024-09-17 19:57:02,149] Trial 101 finished with value: 72564.10802604858 and parameters: {'lgbm_weight': 0.8559241451186779, 'xgb_weight': 0.4043684482112189, 'cb_weight': 0.7363510535311767, 'hgb_weight': 0.8902307221724074, 'gb_weight': 0.61276829566786}. Best is trial 96 with value: 72563.91987020605.\n",
      "[I 2024-09-17 19:57:02,185] Trial 102 finished with value: 72564.45761365887 and parameters: {'lgbm_weight': 0.8675761814529996, 'xgb_weight': 0.40493836947863737, 'cb_weight': 0.6620640917990278, 'hgb_weight': 0.8993873809086831, 'gb_weight': 0.6152499951527304}. Best is trial 96 with value: 72563.91987020605.\n",
      "[I 2024-09-17 19:57:02,220] Trial 103 finished with value: 72564.13659402949 and parameters: {'lgbm_weight': 0.8814871405077083, 'xgb_weight': 0.42475700906687286, 'cb_weight': 0.7333732360668244, 'hgb_weight': 0.8814939588085087, 'gb_weight': 0.5628817584434878}. Best is trial 96 with value: 72563.91987020605.\n",
      "[I 2024-09-17 19:57:02,258] Trial 104 finished with value: 72564.49953007323 and parameters: {'lgbm_weight': 0.758957530046585, 'xgb_weight': 0.43331148349601256, 'cb_weight': 0.6844265829851764, 'hgb_weight': 0.8922832244004922, 'gb_weight': 0.5041044654799222}. Best is trial 96 with value: 72563.91987020605.\n",
      "[I 2024-09-17 19:57:02,293] Trial 105 finished with value: 72564.29271511895 and parameters: {'lgbm_weight': 0.8575791451425562, 'xgb_weight': 0.430489005908917, 'cb_weight': 0.7346878544134613, 'hgb_weight': 0.940029730022002, 'gb_weight': 0.5740214757216665}. Best is trial 96 with value: 72563.91987020605.\n",
      "[I 2024-09-17 19:57:02,329] Trial 106 finished with value: 72564.91496722511 and parameters: {'lgbm_weight': 0.8843313547689765, 'xgb_weight': 0.479556774246298, 'cb_weight': 0.589607910718443, 'hgb_weight': 0.8717213988676262, 'gb_weight': 0.6647346492680317}. Best is trial 96 with value: 72563.91987020605.\n",
      "[I 2024-09-17 19:57:02,365] Trial 107 finished with value: 72564.60034003813 and parameters: {'lgbm_weight': 0.8176943358432652, 'xgb_weight': 0.5262434385947503, 'cb_weight': 0.6953741537990491, 'hgb_weight': 0.919596919362638, 'gb_weight': 0.7006403309605179}. Best is trial 96 with value: 72563.91987020605.\n",
      "[I 2024-09-17 19:57:02,401] Trial 108 finished with value: 72565.11528784758 and parameters: {'lgbm_weight': 0.8526677023504647, 'xgb_weight': 0.3911948037089449, 'cb_weight': 0.6381638820793974, 'hgb_weight': 0.9746139835935361, 'gb_weight': 0.6080467807308231}. Best is trial 96 with value: 72563.91987020605.\n",
      "[I 2024-09-17 19:57:02,435] Trial 109 finished with value: 72564.73969593285 and parameters: {'lgbm_weight': 0.7381782396398406, 'xgb_weight': 0.4074461241961682, 'cb_weight': 0.8055273047262963, 'hgb_weight': 0.8941880545210943, 'gb_weight': 0.6602095344601174}. Best is trial 96 with value: 72563.91987020605.\n",
      "[I 2024-09-17 19:57:02,472] Trial 110 finished with value: 72565.2670429568 and parameters: {'lgbm_weight': 0.6936037224832147, 'xgb_weight': 0.47399058600281574, 'cb_weight': 0.741559140229566, 'hgb_weight': 0.9465125606730946, 'gb_weight': 0.5128595306156212}. Best is trial 96 with value: 72563.91987020605.\n",
      "[I 2024-09-17 19:57:02,507] Trial 111 finished with value: 72564.13922661147 and parameters: {'lgbm_weight': 0.8746438289792906, 'xgb_weight': 0.40600522716918896, 'cb_weight': 0.7254974527739299, 'hgb_weight': 0.8747785002475168, 'gb_weight': 0.5659712771111132}. Best is trial 96 with value: 72563.91987020605.\n",
      "[I 2024-09-17 19:57:02,542] Trial 112 finished with value: 72564.1942771689 and parameters: {'lgbm_weight': 0.9105746418504084, 'xgb_weight': 0.4170072635603617, 'cb_weight': 0.7786654774771625, 'hgb_weight': 0.8728560941417536, 'gb_weight': 0.5479283271098472}. Best is trial 96 with value: 72563.91987020605.\n",
      "[I 2024-09-17 19:57:02,581] Trial 113 finished with value: 72564.3832416091 and parameters: {'lgbm_weight': 0.7998921216055921, 'xgb_weight': 0.4436068150974296, 'cb_weight': 0.7278761312395658, 'hgb_weight': 0.924663268753706, 'gb_weight': 0.5940627838560106}. Best is trial 96 with value: 72563.91987020605.\n",
      "[I 2024-09-17 19:57:02,617] Trial 114 finished with value: 72564.08452080429 and parameters: {'lgbm_weight': 0.882566895147769, 'xgb_weight': 0.3893813374994676, 'cb_weight': 0.6997729571485892, 'hgb_weight': 0.8159772266084616, 'gb_weight': 0.623823864390985}. Best is trial 96 with value: 72563.91987020605.\n",
      "[I 2024-09-17 19:57:02,654] Trial 115 finished with value: 72565.41251047475 and parameters: {'lgbm_weight': 0.8247106938949512, 'xgb_weight': 0.3796385335355323, 'cb_weight': 0.6986914817141621, 'hgb_weight': 0.9980725302165314, 'gb_weight': 0.7052913056266291}. Best is trial 96 with value: 72563.91987020605.\n",
      "[I 2024-09-17 19:57:02,688] Trial 116 finished with value: 72564.62512979859 and parameters: {'lgbm_weight': 0.8895985163047326, 'xgb_weight': 0.4872123725228569, 'cb_weight': 0.765089093954724, 'hgb_weight': 0.818608311573894, 'gb_weight': 0.48120686152593545}. Best is trial 96 with value: 72563.91987020605.\n",
      "[I 2024-09-17 19:57:02,723] Trial 117 finished with value: 72580.07698407365 and parameters: {'lgbm_weight': 0.9326740333117532, 'xgb_weight': 0.43560140174373724, 'cb_weight': 0.7930464709757542, 'hgb_weight': 0.006897750674627279, 'gb_weight': 0.731554992232364}. Best is trial 96 with value: 72563.91987020605.\n",
      "[I 2024-09-17 19:57:02,758] Trial 118 finished with value: 72564.30061489528 and parameters: {'lgbm_weight': 0.8377074158278646, 'xgb_weight': 0.4640516404292007, 'cb_weight': 0.6740058661833092, 'hgb_weight': 0.8662981665897105, 'gb_weight': 0.5264537243816505}. Best is trial 96 with value: 72563.91987020605.\n",
      "[I 2024-09-17 19:57:02,793] Trial 119 finished with value: 72564.06434216749 and parameters: {'lgbm_weight': 0.9105881320704468, 'xgb_weight': 0.38649376261938856, 'cb_weight': 0.8140226071485283, 'hgb_weight': 0.909917168179132, 'gb_weight': 0.6195609450972868}. Best is trial 96 with value: 72563.91987020605.\n",
      "[I 2024-09-17 19:57:02,830] Trial 120 finished with value: 72570.79345726944 and parameters: {'lgbm_weight': 0.9114105165070135, 'xgb_weight': 0.5635502345341729, 'cb_weight': 0.8189432550713198, 'hgb_weight': 0.30612961048676746, 'gb_weight': 0.6217938415129628}. Best is trial 96 with value: 72563.91987020605.\n",
      "[I 2024-09-17 19:57:02,866] Trial 121 finished with value: 72564.02887680642 and parameters: {'lgbm_weight': 0.8868688160263726, 'xgb_weight': 0.3878719639974587, 'cb_weight': 0.8181233923156914, 'hgb_weight': 0.9023838310451895, 'gb_weight': 0.6604336578280916}. Best is trial 96 with value: 72563.91987020605.\n",
      "[I 2024-09-17 19:57:02,902] Trial 122 finished with value: 72564.22461240007 and parameters: {'lgbm_weight': 0.8955435247396014, 'xgb_weight': 0.3819161036686093, 'cb_weight': 0.7619035094969813, 'hgb_weight': 0.9187446459072233, 'gb_weight': 0.5756226442841408}. Best is trial 96 with value: 72563.91987020605.\n",
      "[I 2024-09-17 19:57:02,938] Trial 123 finished with value: 72564.1871675021 and parameters: {'lgbm_weight': 0.9252216291180837, 'xgb_weight': 0.3407947504991696, 'cb_weight': 0.8117963736504152, 'hgb_weight': 0.8317231841734655, 'gb_weight': 0.602466644843167}. Best is trial 96 with value: 72563.91987020605.\n",
      "[I 2024-09-17 19:57:02,972] Trial 124 finished with value: 72564.23979984058 and parameters: {'lgbm_weight': 0.8568727550640279, 'xgb_weight': 0.4307607463386188, 'cb_weight': 0.7834419216247508, 'hgb_weight': 0.9450598595132776, 'gb_weight': 0.6709059752080702}. Best is trial 96 with value: 72563.91987020605.\n",
      "[I 2024-09-17 19:57:03,007] Trial 125 finished with value: 72565.20344184437 and parameters: {'lgbm_weight': 0.8143245444251523, 'xgb_weight': 0.3887322233711397, 'cb_weight': 0.5559232453080232, 'hgb_weight': 0.8060134379018865, 'gb_weight': 0.693489647092173}. Best is trial 96 with value: 72563.91987020605.\n",
      "[I 2024-09-17 19:57:03,043] Trial 126 finished with value: 72564.06233064755 and parameters: {'lgbm_weight': 0.889208073066695, 'xgb_weight': 0.4468408297240951, 'cb_weight': 0.7513522696664303, 'hgb_weight': 0.9082808532852056, 'gb_weight': 0.6201250306065639}. Best is trial 96 with value: 72563.91987020605.\n",
      "[I 2024-09-17 19:57:03,078] Trial 127 finished with value: 72580.4563051501 and parameters: {'lgbm_weight': 0.21571710489949836, 'xgb_weight': 0.498365125075798, 'cb_weight': 0.8210880272402605, 'hgb_weight': 0.9085718922291391, 'gb_weight': 0.6215688366866883}. Best is trial 96 with value: 72563.91987020605.\n",
      "[I 2024-09-17 19:57:03,112] Trial 128 finished with value: 72580.44270789537 and parameters: {'lgbm_weight': 0.88996389324365, 'xgb_weight': 0.45038112180834083, 'cb_weight': 0.05187339803213509, 'hgb_weight': 0.9770457784924388, 'gb_weight': 0.5847324239456072}. Best is trial 96 with value: 72563.91987020605.\n",
      "[I 2024-09-17 19:57:03,147] Trial 129 finished with value: 72564.12492731327 and parameters: {'lgbm_weight': 0.9147027361361925, 'xgb_weight': 0.3718357553249329, 'cb_weight': 0.8647369147003902, 'hgb_weight': 0.9374065060810673, 'gb_weight': 0.6611059236405813}. Best is trial 96 with value: 72563.91987020605.\n",
      "[I 2024-09-17 19:57:03,183] Trial 130 finished with value: 72564.21920808997 and parameters: {'lgbm_weight': 0.9121252356092198, 'xgb_weight': 0.3430975100497127, 'cb_weight': 0.861673772820839, 'hgb_weight': 0.9337988252330773, 'gb_weight': 0.6603443751089256}. Best is trial 96 with value: 72563.91987020605.\n",
      "[I 2024-09-17 19:57:03,218] Trial 131 finished with value: 72564.12510492027 and parameters: {'lgbm_weight': 0.84649191061255, 'xgb_weight': 0.3935401453566878, 'cb_weight': 0.7900158296546558, 'hgb_weight': 0.9062869507947977, 'gb_weight': 0.6291862678605855}. Best is trial 96 with value: 72563.91987020605.\n",
      "[I 2024-09-17 19:57:03,253] Trial 132 finished with value: 72564.4629921334 and parameters: {'lgbm_weight': 0.8400747146272503, 'xgb_weight': 0.3664014986908473, 'cb_weight': 0.7943633534326098, 'hgb_weight': 0.9556522865755032, 'gb_weight': 0.6276754552928007}. Best is trial 96 with value: 72563.91987020605.\n",
      "[I 2024-09-17 19:57:03,290] Trial 133 finished with value: 72564.16731061741 and parameters: {'lgbm_weight': 0.9241766667132114, 'xgb_weight': 0.38486099583670347, 'cb_weight': 0.7610362887626315, 'hgb_weight': 0.9104303527052817, 'gb_weight': 0.6833916795055663}. Best is trial 96 with value: 72563.91987020605.\n",
      "[I 2024-09-17 19:57:03,324] Trial 134 finished with value: 72563.94285892435 and parameters: {'lgbm_weight': 0.8521128505337556, 'xgb_weight': 0.46655694475541165, 'cb_weight': 0.8608094565573229, 'hgb_weight': 0.8503193907567995, 'gb_weight': 0.6442192795451812}. Best is trial 96 with value: 72563.91987020605.\n",
      "[I 2024-09-17 19:57:03,359] Trial 135 finished with value: 72564.1296353057 and parameters: {'lgbm_weight': 0.7844620329481309, 'xgb_weight': 0.4578706315094329, 'cb_weight': 0.8219126817188458, 'hgb_weight': 0.8524521874930149, 'gb_weight': 0.6525012927457124}. Best is trial 96 with value: 72563.91987020605.\n",
      "[I 2024-09-17 19:57:03,396] Trial 136 finished with value: 72564.07109181116 and parameters: {'lgbm_weight': 0.8390768515685543, 'xgb_weight': 0.36695517757920615, 'cb_weight': 0.8587401217915207, 'hgb_weight': 0.8374908628689662, 'gb_weight': 0.6394376470264007}. Best is trial 96 with value: 72563.91987020605.\n",
      "[I 2024-09-17 19:57:03,431] Trial 137 finished with value: 72564.19049558048 and parameters: {'lgbm_weight': 0.8279248032717644, 'xgb_weight': 0.36385345169259575, 'cb_weight': 0.8681296402274811, 'hgb_weight': 0.832529161600907, 'gb_weight': 0.7249336696554125}. Best is trial 96 with value: 72563.91987020605.\n",
      "[I 2024-09-17 19:57:03,466] Trial 138 finished with value: 72564.18840801419 and parameters: {'lgbm_weight': 0.8926801832555648, 'xgb_weight': 0.33875661249897326, 'cb_weight': 0.863004853005569, 'hgb_weight': 0.8504487276860876, 'gb_weight': 0.6030346427802766}. Best is trial 96 with value: 72563.91987020605.\n",
      "[I 2024-09-17 19:57:03,501] Trial 139 finished with value: 72577.94481060127 and parameters: {'lgbm_weight': 0.9372626395578961, 'xgb_weight': 0.5391093764146135, 'cb_weight': 0.9082037217160783, 'hgb_weight': 0.08951466580237155, 'gb_weight': 0.6751710973258698}. Best is trial 96 with value: 72563.91987020605.\n",
      "[I 2024-09-17 19:57:03,538] Trial 140 finished with value: 72575.38924977701 and parameters: {'lgbm_weight': 0.8596560278328108, 'xgb_weight': 0.3219470612321324, 'cb_weight': 0.1944829465996043, 'hgb_weight': 0.9379384644498041, 'gb_weight': 0.6484964935069712}. Best is trial 96 with value: 72563.91987020605.\n",
      "[I 2024-09-17 19:57:03,574] Trial 141 finished with value: 72564.09879304604 and parameters: {'lgbm_weight': 0.8416290383815663, 'xgb_weight': 0.3956762518340852, 'cb_weight': 0.8261263436316957, 'hgb_weight': 0.8967064403604784, 'gb_weight': 0.6409547486581677}. Best is trial 96 with value: 72563.91987020605.\n",
      "[I 2024-09-17 19:57:03,609] Trial 142 finished with value: 72564.23459103948 and parameters: {'lgbm_weight': 0.8032378227805427, 'xgb_weight': 0.43973034509416375, 'cb_weight': 0.8275266450315331, 'hgb_weight': 0.8891669821848873, 'gb_weight': 0.6918031255055384}. Best is trial 96 with value: 72563.91987020605.\n",
      "[I 2024-09-17 19:57:03,645] Trial 143 finished with value: 72564.1079787247 and parameters: {'lgbm_weight': 0.9110362869661299, 'xgb_weight': 0.36852981362199144, 'cb_weight': 0.8537047798907468, 'hgb_weight': 0.9189702063161499, 'gb_weight': 0.636576785721336}. Best is trial 96 with value: 72563.91987020605.\n",
      "[I 2024-09-17 19:57:03,682] Trial 144 finished with value: 72563.9264979283 and parameters: {'lgbm_weight': 0.8545606287725015, 'xgb_weight': 0.46449135594159535, 'cb_weight': 0.8059116900455054, 'hgb_weight': 0.8600392133872732, 'gb_weight': 0.611557535579442}. Best is trial 96 with value: 72563.91987020605.\n",
      "[I 2024-09-17 19:57:03,717] Trial 145 finished with value: 72568.3538461115 and parameters: {'lgbm_weight': 0.9539504843449579, 'xgb_weight': 0.48450790106586883, 'cb_weight': 0.3810664641909922, 'hgb_weight': 0.8140439568190997, 'gb_weight': 0.5985853938662821}. Best is trial 96 with value: 72563.91987020605.\n",
      "[I 2024-09-17 19:57:03,753] Trial 146 finished with value: 72564.04358645233 and parameters: {'lgbm_weight': 0.8340687407545343, 'xgb_weight': 0.500644159092527, 'cb_weight': 0.8465733908018835, 'hgb_weight': 0.8602212545699448, 'gb_weight': 0.742662093826439}. Best is trial 96 with value: 72563.91987020605.\n",
      "[I 2024-09-17 19:57:03,789] Trial 147 finished with value: 72564.73302131511 and parameters: {'lgbm_weight': 0.7446012069002417, 'xgb_weight': 0.5661956645152172, 'cb_weight': 0.8926913025935372, 'hgb_weight': 0.8538708105387182, 'gb_weight': 0.715095142446613}. Best is trial 96 with value: 72563.91987020605.\n",
      "[I 2024-09-17 19:57:03,827] Trial 148 finished with value: 72564.35069946849 and parameters: {'lgbm_weight': 0.7708570530608934, 'xgb_weight': 0.5036760698020893, 'cb_weight': 0.8386472016898116, 'hgb_weight': 0.8252370285060899, 'gb_weight': 0.7529634870592695}. Best is trial 96 with value: 72563.91987020605.\n",
      "[I 2024-09-17 19:57:03,865] Trial 149 finished with value: 72564.27756781784 and parameters: {'lgbm_weight': 0.8318922575273645, 'xgb_weight': 0.46215278593640374, 'cb_weight': 0.8487540706088421, 'hgb_weight': 0.9205570421821971, 'gb_weight': 0.7395147495697004}. Best is trial 96 with value: 72563.91987020605.\n",
      "[I 2024-09-17 19:57:03,900] Trial 150 finished with value: 72563.89214043463 and parameters: {'lgbm_weight': 0.9070638883608109, 'xgb_weight': 0.4758348255380637, 'cb_weight': 0.8034277713893628, 'hgb_weight': 0.8635150378529601, 'gb_weight': 0.6388281975318789}. Best is trial 150 with value: 72563.89214043463.\n",
      "[I 2024-09-17 19:57:03,936] Trial 151 finished with value: 72563.93731916633 and parameters: {'lgbm_weight': 0.9005658643743948, 'xgb_weight': 0.5315787675908985, 'cb_weight': 0.8008157155131672, 'hgb_weight': 0.8622621444253781, 'gb_weight': 0.6444202084407671}. Best is trial 150 with value: 72563.89214043463.\n",
      "[I 2024-09-17 19:57:03,972] Trial 152 finished with value: 72563.88866879932 and parameters: {'lgbm_weight': 0.8839749689608011, 'xgb_weight': 0.524573455686069, 'cb_weight': 0.8047605730101378, 'hgb_weight': 0.8630718500866603, 'gb_weight': 0.6755188579991367}. Best is trial 152 with value: 72563.88866879932.\n",
      "[I 2024-09-17 19:57:04,008] Trial 153 finished with value: 72563.87918486551 and parameters: {'lgbm_weight': 0.8949460286975851, 'xgb_weight': 0.5264219023725195, 'cb_weight': 0.8041581439008049, 'hgb_weight': 0.8626014070816146, 'gb_weight': 0.6877889438765841}. Best is trial 153 with value: 72563.87918486551.\n",
      "[I 2024-09-17 19:57:04,044] Trial 154 finished with value: 72563.89066624943 and parameters: {'lgbm_weight': 0.899383636576405, 'xgb_weight': 0.5352657814546626, 'cb_weight': 0.8042482568434808, 'hgb_weight': 0.8645420193246122, 'gb_weight': 0.6889329597007615}. Best is trial 153 with value: 72563.87918486551.\n",
      "[I 2024-09-17 19:57:04,081] Trial 155 finished with value: 72563.88406860865 and parameters: {'lgbm_weight': 0.9011573726015907, 'xgb_weight': 0.5283418879124075, 'cb_weight': 0.8081803951829434, 'hgb_weight': 0.864146646659671, 'gb_weight': 0.6772762328297105}. Best is trial 153 with value: 72563.87918486551.\n",
      "[I 2024-09-17 19:57:04,117] Trial 156 finished with value: 72563.88360059621 and parameters: {'lgbm_weight': 0.9041411612094871, 'xgb_weight': 0.5340665041283963, 'cb_weight': 0.8060305758949814, 'hgb_weight': 0.843618228850221, 'gb_weight': 0.6827222550571992}. Best is trial 153 with value: 72563.87918486551.\n",
      "[I 2024-09-17 19:57:04,155] Trial 157 finished with value: 72566.2818585922 and parameters: {'lgbm_weight': 0.6077874974115101, 'xgb_weight': 0.5829568894119824, 'cb_weight': 0.8057703859236709, 'hgb_weight': 0.8619924699276948, 'gb_weight': 0.6862666737513384}. Best is trial 153 with value: 72563.87918486551.\n",
      "[I 2024-09-17 19:57:04,194] Trial 158 finished with value: 72563.9436862133 and parameters: {'lgbm_weight': 0.899776984615662, 'xgb_weight': 0.5319870002287315, 'cb_weight': 0.7773430568136369, 'hgb_weight': 0.8007136208112972, 'gb_weight': 0.6682826569293521}. Best is trial 153 with value: 72563.87918486551.\n",
      "[I 2024-09-17 19:57:04,230] Trial 159 finished with value: 72563.9115888822 and parameters: {'lgbm_weight': 0.8978200752388346, 'xgb_weight': 0.5322501155359827, 'cb_weight': 0.77632164747872, 'hgb_weight': 0.7951018470513823, 'gb_weight': 0.727069316600891}. Best is trial 153 with value: 72563.87918486551.\n",
      "[I 2024-09-17 19:57:04,267] Trial 160 finished with value: 72568.78413710075 and parameters: {'lgbm_weight': 0.47621656889248437, 'xgb_weight': 0.5386348421373206, 'cb_weight': 0.7770866993591109, 'hgb_weight': 0.7934427282247206, 'gb_weight': 0.7304561935478922}. Best is trial 153 with value: 72563.87918486551.\n",
      "[I 2024-09-17 19:57:04,305] Trial 161 finished with value: 72563.89002361352 and parameters: {'lgbm_weight': 0.8969199452774246, 'xgb_weight': 0.5257784386929001, 'cb_weight': 0.796994929330199, 'hgb_weight': 0.8391771898235105, 'gb_weight': 0.6673649054780707}. Best is trial 153 with value: 72563.87918486551.\n",
      "[I 2024-09-17 19:57:04,354] Trial 162 finished with value: 72564.12390757087 and parameters: {'lgbm_weight': 0.9323399766932638, 'xgb_weight': 0.619209108271588, 'cb_weight': 0.7964887591322816, 'hgb_weight': 0.8361297630237794, 'gb_weight': 0.6979722565496098}. Best is trial 153 with value: 72563.87918486551.\n",
      "[I 2024-09-17 19:57:04,400] Trial 163 finished with value: 72563.87755681276 and parameters: {'lgbm_weight': 0.8970607281309637, 'xgb_weight': 0.5217374964497512, 'cb_weight': 0.8016050824204425, 'hgb_weight': 0.8417454977224753, 'gb_weight': 0.6699417956867862}. Best is trial 163 with value: 72563.87755681276.\n",
      "[I 2024-09-17 19:57:04,438] Trial 164 finished with value: 72564.22358013538 and parameters: {'lgbm_weight': 0.9455206397926237, 'xgb_weight': 0.5274581244727149, 'cb_weight': 0.7799162174207008, 'hgb_weight': 0.7480097847697723, 'gb_weight': 0.6689990541915634}. Best is trial 163 with value: 72563.87755681276.\n",
      "[I 2024-09-17 19:57:04,476] Trial 165 finished with value: 72563.98235335478 and parameters: {'lgbm_weight': 0.9038836056195404, 'xgb_weight': 0.5574856278670582, 'cb_weight': 0.8015169360938209, 'hgb_weight': 0.7985657864653407, 'gb_weight': 0.675036015353399}. Best is trial 163 with value: 72563.87755681276.\n",
      "[I 2024-09-17 19:57:04,515] Trial 166 finished with value: 72563.97804913131 and parameters: {'lgbm_weight': 0.9106160046940964, 'xgb_weight': 0.5575368786785211, 'cb_weight': 0.8000605052545751, 'hgb_weight': 0.8023262157992173, 'gb_weight': 0.6809428032147075}. Best is trial 163 with value: 72563.87755681276.\n",
      "[I 2024-09-17 19:57:04,551] Trial 167 finished with value: 72564.20275663014 and parameters: {'lgbm_weight': 0.9538095893471914, 'xgb_weight': 0.5971085832169529, 'cb_weight': 0.7752373055386819, 'hgb_weight': 0.805921412159397, 'gb_weight': 0.6965302626254591}. Best is trial 163 with value: 72563.87755681276.\n",
      "[I 2024-09-17 19:57:04,588] Trial 168 finished with value: 72563.87175431866 and parameters: {'lgbm_weight': 0.8700988519969921, 'xgb_weight': 0.5181906086412862, 'cb_weight': 0.7980298422722942, 'hgb_weight': 0.7643612978072883, 'gb_weight': 0.7186478568338117}. Best is trial 168 with value: 72563.87175431866.\n",
      "[I 2024-09-17 19:57:04,626] Trial 169 finished with value: 72563.9329074318 and parameters: {'lgbm_weight': 0.8707735844500601, 'xgb_weight': 0.5239982972386994, 'cb_weight': 0.7652213126520464, 'hgb_weight': 0.8428317562349744, 'gb_weight': 0.7022510788961217}. Best is trial 168 with value: 72563.87175431866.\n",
      "[I 2024-09-17 19:57:04,664] Trial 170 finished with value: 72563.97415639921 and parameters: {'lgbm_weight': 0.8601325275342239, 'xgb_weight': 0.5258384333567883, 'cb_weight': 0.7605786475309004, 'hgb_weight': 0.8387311001036694, 'gb_weight': 0.7201373111966486}. Best is trial 168 with value: 72563.87175431866.\n",
      "[I 2024-09-17 19:57:04,702] Trial 171 finished with value: 72563.89761177906 and parameters: {'lgbm_weight': 0.8732938765294403, 'xgb_weight': 0.5239968918467186, 'cb_weight': 0.7808908649667894, 'hgb_weight': 0.7623387728688626, 'gb_weight': 0.7046625715509959}. Best is trial 168 with value: 72563.87175431866.\n",
      "[I 2024-09-17 19:57:04,741] Trial 172 finished with value: 72563.91238232171 and parameters: {'lgbm_weight': 0.9012046997680329, 'xgb_weight': 0.5109757021172723, 'cb_weight': 0.780747632586343, 'hgb_weight': 0.7617515165762185, 'gb_weight': 0.7132204424749041}. Best is trial 168 with value: 72563.87175431866.\n",
      "[I 2024-09-17 19:57:04,778] Trial 173 finished with value: 72563.92041195129 and parameters: {'lgbm_weight': 0.8979873151574782, 'xgb_weight': 0.5186271319991917, 'cb_weight': 0.7763929072527771, 'hgb_weight': 0.7695221357663378, 'gb_weight': 0.7483240471891113}. Best is trial 168 with value: 72563.87175431866.\n",
      "[I 2024-09-17 19:57:04,817] Trial 174 finished with value: 72564.05203736293 and parameters: {'lgbm_weight': 0.871049857718124, 'xgb_weight': 0.5750772369531049, 'cb_weight': 0.7934177772835344, 'hgb_weight': 0.7497849287800962, 'gb_weight': 0.7793103318800556}. Best is trial 168 with value: 72563.87175431866.\n",
      "[I 2024-09-17 19:57:04,853] Trial 175 finished with value: 72563.93790321828 and parameters: {'lgbm_weight': 0.8919886598467811, 'xgb_weight': 0.5130896711206634, 'cb_weight': 0.756060795330453, 'hgb_weight': 0.7659622870114511, 'gb_weight': 0.7284828578096285}. Best is trial 168 with value: 72563.87175431866.\n",
      "[I 2024-09-17 19:57:04,893] Trial 176 finished with value: 72564.00789884901 and parameters: {'lgbm_weight': 0.9214022859167664, 'xgb_weight': 0.5124736987425912, 'cb_weight': 0.7560899421871699, 'hgb_weight': 0.7649230724376223, 'gb_weight': 0.7519206866221415}. Best is trial 168 with value: 72563.87175431866.\n",
      "[I 2024-09-17 19:57:04,931] Trial 177 finished with value: 72563.97493305606 and parameters: {'lgbm_weight': 0.8944276770368906, 'xgb_weight': 0.5454472512751232, 'cb_weight': 0.7676278725806525, 'hgb_weight': 0.7673308425361558, 'gb_weight': 0.7192823059515324}. Best is trial 168 with value: 72563.87175431866.\n",
      "[I 2024-09-17 19:57:04,971] Trial 178 finished with value: 72563.93952008596 and parameters: {'lgbm_weight': 0.9343767941142128, 'xgb_weight': 0.5111630078555828, 'cb_weight': 0.7890567156424482, 'hgb_weight': 0.7768702310681693, 'gb_weight': 0.7436788657401385}. Best is trial 168 with value: 72563.87175431866.\n",
      "[I 2024-09-17 19:57:05,008] Trial 179 finished with value: 72563.91791566736 and parameters: {'lgbm_weight': 0.8772623163866518, 'xgb_weight': 0.5165383908508298, 'cb_weight': 0.8048896771334307, 'hgb_weight': 0.739706877085442, 'gb_weight': 0.7049799418061196}. Best is trial 168 with value: 72563.87175431866.\n",
      "[I 2024-09-17 19:57:05,047] Trial 180 finished with value: 72564.01047779182 and parameters: {'lgbm_weight': 0.8668207487284635, 'xgb_weight': 0.553007125807958, 'cb_weight': 0.8097356597200239, 'hgb_weight': 0.7419812382310709, 'gb_weight': 0.6897513649638416}. Best is trial 168 with value: 72563.87175431866.\n",
      "[I 2024-09-17 19:57:05,084] Trial 181 finished with value: 72565.92595281711 and parameters: {'lgbm_weight': 0.894112380994956, 'xgb_weight': 0.5189426170833213, 'cb_weight': 0.5018172281437459, 'hgb_weight': 0.6993971015114735, 'gb_weight': 0.7190442931463501}. Best is trial 168 with value: 72563.87175431866.\n",
      "[I 2024-09-17 19:57:05,122] Trial 182 finished with value: 72564.11090953258 and parameters: {'lgbm_weight': 0.8783847133969054, 'xgb_weight': 0.594289768041722, 'cb_weight': 0.7550981922666758, 'hgb_weight': 0.7811433240435719, 'gb_weight': 0.6999762772897955}. Best is trial 168 with value: 72563.87175431866.\n",
      "[I 2024-09-17 19:57:05,159] Trial 183 finished with value: 72563.99630253697 and parameters: {'lgbm_weight': 0.9264273260232173, 'xgb_weight': 0.49662730276144185, 'cb_weight': 0.7898371178607031, 'hgb_weight': 0.736209546170042, 'gb_weight': 0.7303182935532468}. Best is trial 168 with value: 72563.87175431866.\n",
      "[I 2024-09-17 19:57:05,196] Trial 184 finished with value: 72563.86673522745 and parameters: {'lgbm_weight': 0.9019255766112723, 'xgb_weight': 0.5401504697864848, 'cb_weight': 0.8248991236939016, 'hgb_weight': 0.8236385030115799, 'gb_weight': 0.753423563640893}. Best is trial 184 with value: 72563.86673522745.\n",
      "[I 2024-09-17 19:57:05,234] Trial 185 finished with value: 72563.8543728145 and parameters: {'lgbm_weight': 0.9091879364796963, 'xgb_weight': 0.5356871204922165, 'cb_weight': 0.8369708799178947, 'hgb_weight': 0.8236261122076043, 'gb_weight': 0.7631833441962992}. Best is trial 185 with value: 72563.8543728145.\n",
      "[I 2024-09-17 19:57:05,272] Trial 186 finished with value: 72563.84694140273 and parameters: {'lgbm_weight': 0.9156231418443247, 'xgb_weight': 0.4834416463741709, 'cb_weight': 0.8321856301374201, 'hgb_weight': 0.8163177455747801, 'gb_weight': 0.7815003679547383}. Best is trial 186 with value: 72563.84694140273.\n",
      "[I 2024-09-17 19:57:05,312] Trial 187 finished with value: 72563.85960231166 and parameters: {'lgbm_weight': 0.9196960416622944, 'xgb_weight': 0.4837943360927358, 'cb_weight': 0.8230220827418905, 'hgb_weight': 0.8201812605657826, 'gb_weight': 0.7831384936260685}. Best is trial 186 with value: 72563.84694140273.\n",
      "[I 2024-09-17 19:57:05,350] Trial 188 finished with value: 72563.82770754577 and parameters: {'lgbm_weight': 0.94966888391631, 'xgb_weight': 0.4804116295093674, 'cb_weight': 0.8788043465098719, 'hgb_weight': 0.8197238205637256, 'gb_weight': 0.7844315064240519}. Best is trial 188 with value: 72563.82770754577.\n",
      "[I 2024-09-17 19:57:05,389] Trial 189 finished with value: 72563.90350125908 and parameters: {'lgbm_weight': 0.9531069028374701, 'xgb_weight': 0.4807525113525669, 'cb_weight': 0.831243784354517, 'hgb_weight': 0.826434022715219, 'gb_weight': 0.8149268082387691}. Best is trial 188 with value: 72563.82770754577.\n",
      "[I 2024-09-17 19:57:05,426] Trial 190 finished with value: 72563.86188780196 and parameters: {'lgbm_weight': 0.9557769015944277, 'xgb_weight': 0.4928378477327863, 'cb_weight': 0.8355362239792187, 'hgb_weight': 0.8180433890509683, 'gb_weight': 0.7875807991065285}. Best is trial 188 with value: 72563.82770754577.\n",
      "[I 2024-09-17 19:57:05,464] Trial 191 finished with value: 72563.860712858 and parameters: {'lgbm_weight': 0.9533869513729099, 'xgb_weight': 0.4909908220270144, 'cb_weight': 0.8322994870416417, 'hgb_weight': 0.8201432876658115, 'gb_weight': 0.7852266995644178}. Best is trial 188 with value: 72563.82770754577.\n",
      "[I 2024-09-17 19:57:05,503] Trial 192 finished with value: 72563.89391106353 and parameters: {'lgbm_weight': 0.9481190906557897, 'xgb_weight': 0.49089427912116956, 'cb_weight': 0.8320510147166987, 'hgb_weight': 0.818679270513542, 'gb_weight': 0.813091836161781}. Best is trial 188 with value: 72563.82770754577.\n",
      "[I 2024-09-17 19:57:05,543] Trial 193 finished with value: 72563.85020341212 and parameters: {'lgbm_weight': 0.9601300852210404, 'xgb_weight': 0.4948989563932626, 'cb_weight': 0.8839384281699987, 'hgb_weight': 0.8176053405715903, 'gb_weight': 0.8150224764864977}. Best is trial 188 with value: 72563.82770754577.\n",
      "[I 2024-09-17 19:57:05,581] Trial 194 finished with value: 72563.85731739794 and parameters: {'lgbm_weight': 0.9573971668738376, 'xgb_weight': 0.4885458233397602, 'cb_weight': 0.8853773397514709, 'hgb_weight': 0.8226292373141624, 'gb_weight': 0.8242050017732221}. Best is trial 188 with value: 72563.82770754577.\n",
      "[I 2024-09-17 19:57:05,620] Trial 195 finished with value: 72563.86022723396 and parameters: {'lgbm_weight': 0.9528936106640243, 'xgb_weight': 0.4915528601536558, 'cb_weight': 0.8838936921891934, 'hgb_weight': 0.8162751171869298, 'gb_weight': 0.8233442030094709}. Best is trial 188 with value: 72563.82770754577.\n",
      "[I 2024-09-17 19:57:05,658] Trial 196 finished with value: 72563.85757907823 and parameters: {'lgbm_weight': 0.9691627261778305, 'xgb_weight': 0.4930525532962832, 'cb_weight': 0.8859745265517455, 'hgb_weight': 0.8184474178305975, 'gb_weight': 0.8203989852969018}. Best is trial 188 with value: 72563.82770754577.\n",
      "[I 2024-09-17 19:57:05,696] Trial 197 finished with value: 72563.92159621486 and parameters: {'lgbm_weight': 0.9698870686962245, 'xgb_weight': 0.4900012550591445, 'cb_weight': 0.8983839780034311, 'hgb_weight': 0.8241560674008926, 'gb_weight': 0.87012836136918}. Best is trial 188 with value: 72563.82770754577.\n",
      "[I 2024-09-17 19:57:05,735] Trial 198 finished with value: 72563.88581461794 and parameters: {'lgbm_weight': 0.965874337941809, 'xgb_weight': 0.5536743669398454, 'cb_weight': 0.8814606885246241, 'hgb_weight': 0.814717593154708, 'gb_weight': 0.7917596920611297}. Best is trial 188 with value: 72563.82770754577.\n",
      "[I 2024-09-17 19:57:05,773] Trial 199 finished with value: 72563.88847990752 and parameters: {'lgbm_weight': 0.9676079595552116, 'xgb_weight': 0.5496860270939986, 'cb_weight': 0.8923216450657182, 'hgb_weight': 0.8139512128543881, 'gb_weight': 0.8290156176178757}. Best is trial 188 with value: 72563.82770754577.\n",
      "[I 2024-09-17 19:57:05,813] Trial 200 finished with value: 72563.91626150174 and parameters: {'lgbm_weight': 0.9769649123508317, 'xgb_weight': 0.5742819654080793, 'cb_weight': 0.8845491216953744, 'hgb_weight': 0.8223761995278782, 'gb_weight': 0.7888412768596164}. Best is trial 188 with value: 72563.82770754577.\n",
      "[I 2024-09-17 19:57:05,851] Trial 201 finished with value: 72563.90760705895 and parameters: {'lgbm_weight': 0.9633547321668934, 'xgb_weight': 0.5570356538435541, 'cb_weight': 0.9164647150538885, 'hgb_weight': 0.8084554122805451, 'gb_weight': 0.8273673431253962}. Best is trial 188 with value: 72563.82770754577.\n",
      "[I 2024-09-17 19:57:05,892] Trial 202 finished with value: 72563.91979455318 and parameters: {'lgbm_weight': 0.9423453751419886, 'xgb_weight': 0.5456356776688184, 'cb_weight': 0.880160599141842, 'hgb_weight': 0.8391352320435198, 'gb_weight': 0.8524715341214403}. Best is trial 188 with value: 72563.82770754577.\n",
      "[I 2024-09-17 19:57:05,930] Trial 203 finished with value: 72563.92875197271 and parameters: {'lgbm_weight': 0.9902332205298114, 'xgb_weight': 0.4995045909820396, 'cb_weight': 0.877346206824073, 'hgb_weight': 0.7942252151303103, 'gb_weight': 0.7877276668140787}. Best is trial 188 with value: 72563.82770754577.\n",
      "[I 2024-09-17 19:57:05,969] Trial 204 finished with value: 72563.8911642287 and parameters: {'lgbm_weight': 0.9619424986849634, 'xgb_weight': 0.5457378581453864, 'cb_weight': 0.9094299679496366, 'hgb_weight': 0.8156454799822807, 'gb_weight': 0.7752243834758841}. Best is trial 188 with value: 72563.82770754577.\n",
      "[I 2024-09-17 19:57:06,008] Trial 205 finished with value: 72563.87195843397 and parameters: {'lgbm_weight': 0.9330354394125697, 'xgb_weight': 0.49292705950053256, 'cb_weight': 0.877482678069728, 'hgb_weight': 0.8374713059208148, 'gb_weight': 0.8229694091774703}. Best is trial 188 with value: 72563.82770754577.\n",
      "[I 2024-09-17 19:57:06,049] Trial 206 finished with value: 72563.87925037676 and parameters: {'lgbm_weight': 0.9317261833904215, 'xgb_weight': 0.4841120523446713, 'cb_weight': 0.8889607806645352, 'hgb_weight': 0.827528850500504, 'gb_weight': 0.8263419087762854}. Best is trial 188 with value: 72563.82770754577.\n",
      "[I 2024-09-17 19:57:06,090] Trial 207 finished with value: 72563.90074052809 and parameters: {'lgbm_weight': 0.9374351018261635, 'xgb_weight': 0.49027226475621616, 'cb_weight': 0.9311447374199705, 'hgb_weight': 0.8131115228737383, 'gb_weight': 0.8259058735329765}. Best is trial 188 with value: 72563.82770754577.\n",
      "[I 2024-09-17 19:57:06,129] Trial 208 finished with value: 72563.95215309763 and parameters: {'lgbm_weight': 0.9968447793421493, 'xgb_weight': 0.47547118987007764, 'cb_weight': 0.884286034108224, 'hgb_weight': 0.788674754742637, 'gb_weight': 0.802329012377724}. Best is trial 188 with value: 72563.82770754577.\n",
      "[I 2024-09-17 19:57:06,167] Trial 209 finished with value: 72563.90604189807 and parameters: {'lgbm_weight': 0.9630935668907175, 'xgb_weight': 0.5022903881954647, 'cb_weight': 0.8688127949421132, 'hgb_weight': 0.8303595169125422, 'gb_weight': 0.8516218623039398}. Best is trial 188 with value: 72563.82770754577.\n",
      "[I 2024-09-17 19:57:06,206] Trial 210 finished with value: 72564.00809412362 and parameters: {'lgbm_weight': 0.9366836645333921, 'xgb_weight': 0.5750543508560161, 'cb_weight': 0.9032024681372941, 'hgb_weight': 0.7997237931962583, 'gb_weight': 0.8763503721849382}. Best is trial 188 with value: 72563.82770754577.\n",
      "[I 2024-09-17 19:57:06,247] Trial 211 finished with value: 72563.8213706986 and parameters: {'lgbm_weight': 0.9541283469449185, 'xgb_weight': 0.49866579637851594, 'cb_weight': 0.8960208540657733, 'hgb_weight': 0.8428668056251737, 'gb_weight': 0.7995492003717123}. Best is trial 211 with value: 72563.8213706986.\n",
      "[I 2024-09-17 19:57:06,285] Trial 212 finished with value: 72563.83517989406 and parameters: {'lgbm_weight': 0.9720968572520575, 'xgb_weight': 0.4748191974283061, 'cb_weight': 0.9195001820585422, 'hgb_weight': 0.8453109393078372, 'gb_weight': 0.7935989756872776}. Best is trial 211 with value: 72563.8213706986.\n",
      "[I 2024-09-17 19:57:06,324] Trial 213 finished with value: 72563.8370934921 and parameters: {'lgbm_weight': 0.9757309475384214, 'xgb_weight': 0.48035842507338167, 'cb_weight': 0.8969398289240404, 'hgb_weight': 0.8335263906995435, 'gb_weight': 0.7991608042224194}. Best is trial 211 with value: 72563.8213706986.\n",
      "[I 2024-09-17 19:57:06,362] Trial 214 finished with value: 72563.83492742716 and parameters: {'lgbm_weight': 0.9570699180121172, 'xgb_weight': 0.4702965672777326, 'cb_weight': 0.9137987148956871, 'hgb_weight': 0.8436455738459595, 'gb_weight': 0.7915622576894501}. Best is trial 211 with value: 72563.8213706986.\n",
      "[I 2024-09-17 19:57:06,401] Trial 215 finished with value: 72563.86788176879 and parameters: {'lgbm_weight': 0.9506872280823819, 'xgb_weight': 0.46564771363045165, 'cb_weight': 0.9328219314431917, 'hgb_weight': 0.8359484391572529, 'gb_weight': 0.7678514192206574}. Best is trial 211 with value: 72563.8213706986.\n",
      "[I 2024-09-17 19:57:06,439] Trial 216 finished with value: 72563.86663153775 and parameters: {'lgbm_weight': 0.9819394349005008, 'xgb_weight': 0.46451212417230936, 'cb_weight': 0.9377760186310973, 'hgb_weight': 0.842099794364049, 'gb_weight': 0.8123711663271611}. Best is trial 211 with value: 72563.8213706986.\n",
      "[I 2024-09-17 19:57:06,478] Trial 217 finished with value: 72563.90953380005 and parameters: {'lgbm_weight': 0.9979133153069955, 'xgb_weight': 0.46571247080152955, 'cb_weight': 0.9434317560702095, 'hgb_weight': 0.8386932792377757, 'gb_weight': 0.7706476202099548}. Best is trial 211 with value: 72563.8213706986.\n",
      "[I 2024-09-17 19:57:06,517] Trial 218 finished with value: 72563.87657458759 and parameters: {'lgbm_weight': 0.9802855634179303, 'xgb_weight': 0.45348102443910043, 'cb_weight': 0.9243446853603555, 'hgb_weight': 0.8309031885561701, 'gb_weight': 0.806851742559902}. Best is trial 211 with value: 72563.8213706986.\n",
      "[I 2024-09-17 19:57:06,557] Trial 219 finished with value: 72563.85970236939 and parameters: {'lgbm_weight': 0.9811349328379317, 'xgb_weight': 0.46300343631492863, 'cb_weight': 0.9326290883981774, 'hgb_weight': 0.8448326128317465, 'gb_weight': 0.8077066981499653}. Best is trial 211 with value: 72563.8213706986.\n",
      "[I 2024-09-17 19:57:06,595] Trial 220 finished with value: 72563.9414285725 and parameters: {'lgbm_weight': 0.980167741029369, 'xgb_weight': 0.4501855053621352, 'cb_weight': 0.9215043268228854, 'hgb_weight': 0.7926361703975382, 'gb_weight': 0.7982325152570925}. Best is trial 211 with value: 72563.8213706986.\n",
      "[I 2024-09-17 19:57:06,635] Trial 221 finished with value: 72563.86230248037 and parameters: {'lgbm_weight': 0.9812564252614178, 'xgb_weight': 0.4693141348536746, 'cb_weight': 0.9398731303956305, 'hgb_weight': 0.8435697258469472, 'gb_weight': 0.8103991958892177}. Best is trial 211 with value: 72563.8213706986.\n",
      "[I 2024-09-17 19:57:06,677] Trial 222 finished with value: 72563.85458953038 and parameters: {'lgbm_weight': 0.9813280515943326, 'xgb_weight': 0.47006160835725197, 'cb_weight': 0.9354590442911274, 'hgb_weight': 0.8466858728897132, 'gb_weight': 0.8097177606064966}. Best is trial 211 with value: 72563.8213706986.\n",
      "[I 2024-09-17 19:57:06,717] Trial 223 finished with value: 72563.87603053464 and parameters: {'lgbm_weight': 0.9824470546146457, 'xgb_weight': 0.4672891734268468, 'cb_weight': 0.9338548047657063, 'hgb_weight': 0.8283661339022678, 'gb_weight': 0.8075792857045636}. Best is trial 211 with value: 72563.8213706986.\n",
      "[I 2024-09-17 19:57:06,757] Trial 224 finished with value: 72563.98354007176 and parameters: {'lgbm_weight': 0.9974759161828297, 'xgb_weight': 0.46937949336491297, 'cb_weight': 0.9551156982211089, 'hgb_weight': 0.811827463082756, 'gb_weight': 0.7734613542430911}. Best is trial 211 with value: 72563.8213706986.\n",
      "[I 2024-09-17 19:57:06,795] Trial 225 finished with value: 72563.89509839556 and parameters: {'lgbm_weight': 0.9535135638259544, 'xgb_weight': 0.4800399723179893, 'cb_weight': 0.9365474421019395, 'hgb_weight': 0.8476176117974699, 'gb_weight': 0.842822338191207}. Best is trial 211 with value: 72563.8213706986.\n",
      "[I 2024-09-17 19:57:06,836] Trial 226 finished with value: 72563.94800335605 and parameters: {'lgbm_weight': 0.9773853019148205, 'xgb_weight': 0.4491798455051455, 'cb_weight': 0.9130667845496923, 'hgb_weight': 0.7842085533937552, 'gb_weight': 0.8130583349202365}. Best is trial 211 with value: 72563.8213706986.\n",
      "[I 2024-09-17 19:57:06,875] Trial 227 finished with value: 72563.87247188283 and parameters: {'lgbm_weight': 0.9559478597695442, 'xgb_weight': 0.4715604657651065, 'cb_weight': 0.9475647134577279, 'hgb_weight': 0.8477086838138568, 'gb_weight': 0.7898414169326884}. Best is trial 211 with value: 72563.8213706986.\n",
      "[I 2024-09-17 19:57:06,913] Trial 228 finished with value: 72563.89189181129 and parameters: {'lgbm_weight': 0.9549863706253098, 'xgb_weight': 0.4963599598796274, 'cb_weight': 0.9601974918065846, 'hgb_weight': 0.8441290381326895, 'gb_weight': 0.7830987535302749}. Best is trial 211 with value: 72563.8213706986.\n",
      "[I 2024-09-17 19:57:06,951] Trial 229 finished with value: 72563.81985470385 and parameters: {'lgbm_weight': 0.9498629749198336, 'xgb_weight': 0.4754659848240042, 'cb_weight': 0.908919572521828, 'hgb_weight': 0.8717687936522803, 'gb_weight': 0.7641882207674993}. Best is trial 229 with value: 72563.81985470385.\n",
      "[I 2024-09-17 19:57:06,990] Trial 230 finished with value: 72563.87910459668 and parameters: {'lgbm_weight': 0.9992856589116872, 'xgb_weight': 0.4382415383329855, 'cb_weight': 0.910134120200118, 'hgb_weight': 0.8679165297243051, 'gb_weight': 0.7647512549524332}. Best is trial 229 with value: 72563.81985470385.\n",
      "[I 2024-09-17 19:57:07,028] Trial 231 finished with value: 72563.86170563436 and parameters: {'lgbm_weight': 0.9516406805926241, 'xgb_weight': 0.4770215489270094, 'cb_weight': 0.9424688188492494, 'hgb_weight': 0.8526895263314908, 'gb_weight': 0.7907011421140968}. Best is trial 229 with value: 72563.81985470385.\n",
      "[I 2024-09-17 19:57:07,068] Trial 232 finished with value: 72563.96349560232 and parameters: {'lgbm_weight': 0.946234166610898, 'xgb_weight': 0.4923334503861153, 'cb_weight': 0.9703511886304141, 'hgb_weight': 0.8090175912170616, 'gb_weight': 0.8249742527585137}. Best is trial 229 with value: 72563.81985470385.\n",
      "[I 2024-09-17 19:57:07,107] Trial 233 finished with value: 72563.88882954125 and parameters: {'lgbm_weight': 0.9699513356789132, 'xgb_weight': 0.4673391014688784, 'cb_weight': 0.930751695834258, 'hgb_weight': 0.826068814482857, 'gb_weight': 0.760860208806262}. Best is trial 229 with value: 72563.81985470385.\n",
      "[I 2024-09-17 19:57:07,147] Trial 234 finished with value: 72563.828497914 and parameters: {'lgbm_weight': 0.944658248410766, 'xgb_weight': 0.4984096798011713, 'cb_weight': 0.9024786016862596, 'hgb_weight': 0.8732620672784442, 'gb_weight': 0.794882409395735}. Best is trial 229 with value: 72563.81985470385.\n",
      "[I 2024-09-17 19:57:07,186] Trial 235 finished with value: 72563.85530846516 and parameters: {'lgbm_weight': 0.9527292561593353, 'xgb_weight': 0.44638752704445067, 'cb_weight': 0.904610819526431, 'hgb_weight': 0.8568267954270822, 'gb_weight': 0.7926938871063691}. Best is trial 229 with value: 72563.81985470385.\n",
      "[I 2024-09-17 19:57:07,226] Trial 236 finished with value: 72563.85973673043 and parameters: {'lgbm_weight': 0.9555249749519695, 'xgb_weight': 0.44724469277419787, 'cb_weight': 0.907454273597041, 'hgb_weight': 0.8785398228108099, 'gb_weight': 0.7902114672110331}. Best is trial 229 with value: 72563.81985470385.\n",
      "[I 2024-09-17 19:57:07,266] Trial 237 finished with value: 72563.84235059816 and parameters: {'lgbm_weight': 0.9734200916284343, 'xgb_weight': 0.4531317611766834, 'cb_weight': 0.9040392558295581, 'hgb_weight': 0.8744845500705258, 'gb_weight': 0.7935494595587158}. Best is trial 229 with value: 72563.81985470385.\n",
      "[I 2024-09-17 19:57:07,304] Trial 238 finished with value: 72563.86148920479 and parameters: {'lgbm_weight': 0.9752635659100041, 'xgb_weight': 0.4402929489719092, 'cb_weight': 0.911385409765924, 'hgb_weight': 0.8769084888186237, 'gb_weight': 0.7933245827357361}. Best is trial 229 with value: 72563.81985470385.\n",
      "[I 2024-09-17 19:57:07,344] Trial 239 finished with value: 72563.87306447115 and parameters: {'lgbm_weight': 0.9618202806096907, 'xgb_weight': 0.44017250542838227, 'cb_weight': 0.905231308186445, 'hgb_weight': 0.8867379777719345, 'gb_weight': 0.7925806458780769}. Best is trial 229 with value: 72563.81985470385.\n",
      "[I 2024-09-17 19:57:07,384] Trial 240 finished with value: 72563.98201945603 and parameters: {'lgbm_weight': 0.9743875820468182, 'xgb_weight': 0.43606503589319073, 'cb_weight': 0.9059495050009151, 'hgb_weight': 0.8762432195930017, 'gb_weight': 0.8621742749394795}. Best is trial 229 with value: 72563.81985470385.\n",
      "[I 2024-09-17 19:57:07,424] Trial 241 finished with value: 72563.82476975245 and parameters: {'lgbm_weight': 0.9825544775688541, 'xgb_weight': 0.4762622825199582, 'cb_weight': 0.9172015364324261, 'hgb_weight': 0.8760455318496253, 'gb_weight': 0.8050169237264395}. Best is trial 229 with value: 72563.81985470385.\n",
      "[I 2024-09-17 19:57:07,463] Trial 242 finished with value: 72563.85672575301 and parameters: {'lgbm_weight': 0.9527248373327675, 'xgb_weight': 0.45431209967723185, 'cb_weight': 0.9000439358175423, 'hgb_weight': 0.8788836761639944, 'gb_weight': 0.7946011823039121}. Best is trial 229 with value: 72563.81985470385.\n",
      "[I 2024-09-17 19:57:07,503] Trial 243 finished with value: 72563.85044011517 and parameters: {'lgbm_weight': 0.9468710589687418, 'xgb_weight': 0.45083413704651853, 'cb_weight': 0.8968326215675827, 'hgb_weight': 0.8696370058309659, 'gb_weight': 0.7854185602818814}. Best is trial 229 with value: 72563.81985470385.\n",
      "[I 2024-09-17 19:57:07,543] Trial 244 finished with value: 72563.9059201903 and parameters: {'lgbm_weight': 0.9413285830579997, 'xgb_weight': 0.43260635520737406, 'cb_weight': 0.8955512820919672, 'hgb_weight': 0.8793792368997508, 'gb_weight': 0.7941085791097324}. Best is trial 229 with value: 72563.81985470385.\n",
      "[I 2024-09-17 19:57:07,583] Trial 245 finished with value: 72563.98708065286 and parameters: {'lgbm_weight': 0.9278648381220533, 'xgb_weight': 0.45215571082378575, 'cb_weight': 0.9012303496195179, 'hgb_weight': 0.881697752373713, 'gb_weight': 0.8342673787685139}. Best is trial 229 with value: 72563.81985470385.\n",
      "[I 2024-09-17 19:57:07,623] Trial 246 finished with value: 72563.84196646765 and parameters: {'lgbm_weight': 0.9659579491870992, 'xgb_weight': 0.4499332950374319, 'cb_weight': 0.9133667182837667, 'hgb_weight': 0.8690706785064876, 'gb_weight': 0.7786050974025083}. Best is trial 229 with value: 72563.81985470385.\n",
      "[I 2024-09-17 19:57:07,663] Trial 247 finished with value: 72563.90043829054 and parameters: {'lgbm_weight': 0.9984998416730234, 'xgb_weight': 0.45083674834066123, 'cb_weight': 0.9048135614754989, 'hgb_weight': 0.8699064387406196, 'gb_weight': 0.8439458932882944}. Best is trial 229 with value: 72563.81985470385.\n",
      "[I 2024-09-17 19:57:07,703] Trial 248 finished with value: 72563.87561986902 and parameters: {'lgbm_weight': 0.9683141391154476, 'xgb_weight': 0.4286022316657678, 'cb_weight': 0.9195971633204226, 'hgb_weight': 0.8693560475655482, 'gb_weight': 0.7707071774477637}. Best is trial 229 with value: 72563.81985470385.\n",
      "[I 2024-09-17 19:57:07,742] Trial 249 finished with value: 72563.88553901974 and parameters: {'lgbm_weight': 0.9667695344304904, 'xgb_weight': 0.44632776558465365, 'cb_weight': 0.8721384341003374, 'hgb_weight': 0.8714241232628419, 'gb_weight': 0.8080006359594755}. Best is trial 229 with value: 72563.81985470385.\n",
      "[I 2024-09-17 19:57:07,781] Trial 250 finished with value: 72563.86640028121 and parameters: {'lgbm_weight': 0.9325389470463261, 'xgb_weight': 0.47907390449097137, 'cb_weight': 0.9164745719134908, 'hgb_weight': 0.8951666898208056, 'gb_weight': 0.7755246603865351}. Best is trial 229 with value: 72563.81985470385.\n",
      "[I 2024-09-17 19:57:07,823] Trial 251 finished with value: 72563.81686137327 and parameters: {'lgbm_weight': 0.9795999052752136, 'xgb_weight': 0.49800845357775086, 'cb_weight': 0.8910079278433859, 'hgb_weight': 0.8617240413427786, 'gb_weight': 0.8006529580163991}. Best is trial 251 with value: 72563.81686137327.\n",
      "[I 2024-09-17 19:57:07,864] Trial 252 finished with value: 72563.86764018057 and parameters: {'lgbm_weight': 0.947786361058297, 'xgb_weight': 0.4989501025167138, 'cb_weight': 0.8872672825589999, 'hgb_weight': 0.8641344170969911, 'gb_weight': 0.8285525112782589}. Best is trial 251 with value: 72563.81686137327.\n",
      "[I 2024-09-17 19:57:07,903] Trial 253 finished with value: 72574.13320549307 and parameters: {'lgbm_weight': 0.36146463165119896, 'xgb_weight': 0.4883784030761249, 'cb_weight': 0.8658220936378471, 'hgb_weight': 0.8515321312950018, 'gb_weight': 0.8040941735532229}. Best is trial 251 with value: 72563.81686137327.\n",
      "[I 2024-09-17 19:57:07,945] Trial 254 finished with value: 72563.82512998978 and parameters: {'lgbm_weight': 0.9269831019273171, 'xgb_weight': 0.5010470888671518, 'cb_weight': 0.8928481128668895, 'hgb_weight': 0.8571541774954544, 'gb_weight': 0.7740791352257371}. Best is trial 251 with value: 72563.81686137327.\n",
      "[I 2024-09-17 19:57:07,985] Trial 255 finished with value: 72563.89154563517 and parameters: {'lgbm_weight': 0.9209201018012919, 'xgb_weight': 0.4620032821818225, 'cb_weight': 0.8918192260370881, 'hgb_weight': 0.8993777842824682, 'gb_weight': 0.7655561788159229}. Best is trial 251 with value: 72563.81686137327.\n",
      "[I 2024-09-17 19:57:08,026] Trial 256 finished with value: 72563.89273470515 and parameters: {'lgbm_weight': 0.982504302734313, 'xgb_weight': 0.5008974379785361, 'cb_weight': 0.8659011699369666, 'hgb_weight': 0.8577533965952536, 'gb_weight': 0.8440737670442339}. Best is trial 251 with value: 72563.81686137327.\n",
      "[I 2024-09-17 19:57:08,070] Trial 257 finished with value: 72563.85977353659 and parameters: {'lgbm_weight': 0.9247123820438967, 'xgb_weight': 0.45515547795184896, 'cb_weight': 0.8925344272918886, 'hgb_weight': 0.8843408049955755, 'gb_weight': 0.7546709308817758}. Best is trial 251 with value: 72563.81686137327.\n",
      "[I 2024-09-17 19:57:08,109] Trial 258 finished with value: 72563.90359145317 and parameters: {'lgbm_weight': 0.926645324714727, 'xgb_weight': 0.4550511842987797, 'cb_weight': 0.9210635503318, 'hgb_weight': 0.8881940951301535, 'gb_weight': 0.7798212845675929}. Best is trial 251 with value: 72563.81686137327.\n",
      "[I 2024-09-17 19:57:08,151] Trial 259 finished with value: 72567.29540836194 and parameters: {'lgbm_weight': 0.9978636832169958, 'xgb_weight': 0.42550370230760637, 'cb_weight': 0.8964574883683645, 'hgb_weight': 0.4411914856919589, 'gb_weight': 0.7542404942106647}. Best is trial 251 with value: 72563.81686137327.\n",
      "[I 2024-09-17 19:57:08,190] Trial 260 finished with value: 72563.9198861919 and parameters: {'lgbm_weight': 0.9261155915376316, 'xgb_weight': 0.4780988253020175, 'cb_weight': 0.8586336041600362, 'hgb_weight': 0.8812052530512895, 'gb_weight': 0.807206977842806}. Best is trial 251 with value: 72563.81686137327.\n",
      "[I 2024-09-17 19:57:08,230] Trial 261 finished with value: 72575.02915689367 and parameters: {'lgbm_weight': 0.9662287110575876, 'xgb_weight': 0.4576711136109527, 'cb_weight': 0.9267375051839277, 'hgb_weight': 0.906505435715867, 'gb_weight': 0.012455304027431113}. Best is trial 251 with value: 72563.81686137327.\n",
      "[I 2024-09-17 19:57:08,270] Trial 262 finished with value: 72563.81403368016 and parameters: {'lgbm_weight': 0.9399237292065596, 'xgb_weight': 0.5044807559044191, 'cb_weight': 0.8988270310911322, 'hgb_weight': 0.8592680284378384, 'gb_weight': 0.7530262712164083}. Best is trial 262 with value: 72563.81403368016.\n",
      "[I 2024-09-17 19:57:08,310] Trial 263 finished with value: 72563.8960122759 and parameters: {'lgbm_weight': 0.946086322221096, 'xgb_weight': 0.5005814005776736, 'cb_weight': 0.9633718369611012, 'hgb_weight': 0.8599976831669977, 'gb_weight': 0.7786617070579984}. Best is trial 262 with value: 72563.81403368016.\n",
      "[I 2024-09-17 19:57:08,350] Trial 264 finished with value: 72568.22072487537 and parameters: {'lgbm_weight': 0.9805267965101981, 'xgb_weight': 0.5050863891611937, 'cb_weight': 0.908376154005395, 'hgb_weight': 0.3627638152301943, 'gb_weight': 0.8022602943704112}. Best is trial 262 with value: 72563.81403368016.\n",
      "[I 2024-09-17 19:57:08,390] Trial 265 finished with value: 72563.87707498476 and parameters: {'lgbm_weight': 0.9431225949111302, 'xgb_weight': 0.47193246017958645, 'cb_weight': 0.8717232583438167, 'hgb_weight': 0.8533640791088904, 'gb_weight': 0.8188479048640206}. Best is trial 262 with value: 72563.81403368016.\n",
      "[I 2024-09-17 19:57:08,430] Trial 266 finished with value: 72563.82826918484 and parameters: {'lgbm_weight': 0.969401422205538, 'xgb_weight': 0.4795366199855523, 'cb_weight': 0.9232578504980763, 'hgb_weight': 0.8560584197745194, 'gb_weight': 0.7765591888027522}. Best is trial 262 with value: 72563.81403368016.\n",
      "[I 2024-09-17 19:57:08,470] Trial 267 finished with value: 72563.86520037608 and parameters: {'lgbm_weight': 0.9767330201760736, 'xgb_weight': 0.5085244332784338, 'cb_weight': 0.9508065981076156, 'hgb_weight': 0.8562148491704433, 'gb_weight': 0.7702059655607225}. Best is trial 262 with value: 72563.81403368016.\n",
      "[I 2024-09-17 19:57:08,510] Trial 268 finished with value: 72563.86565591418 and parameters: {'lgbm_weight': 0.9824145674554988, 'xgb_weight': 0.4772355969979328, 'cb_weight': 0.9238301966574193, 'hgb_weight': 0.8499891472560728, 'gb_weight': 0.7491145963890237}. Best is trial 262 with value: 72563.81403368016.\n",
      "[I 2024-09-17 19:57:08,551] Trial 269 finished with value: 72563.87651963807 and parameters: {'lgbm_weight': 0.998342959508056, 'xgb_weight': 0.4793053538782438, 'cb_weight': 0.8925984473893032, 'hgb_weight': 0.8563756525153116, 'gb_weight': 0.8437197576034772}. Best is trial 262 with value: 72563.81403368016.\n",
      "[I 2024-09-17 19:57:08,592] Trial 270 finished with value: 72563.85057195756 and parameters: {'lgbm_weight': 0.9676632919038426, 'xgb_weight': 0.5085761220131393, 'cb_weight': 0.8569367684125412, 'hgb_weight': 0.8353015933446017, 'gb_weight': 0.8045013730070916}. Best is trial 262 with value: 72563.81403368016.\n",
      "[I 2024-09-17 19:57:08,634] Trial 271 finished with value: 72563.83554285642 and parameters: {'lgbm_weight': 0.9391774982776201, 'xgb_weight': 0.5050288294712864, 'cb_weight': 0.8526187717076704, 'hgb_weight': 0.8718221080394949, 'gb_weight': 0.7788750987909268}. Best is trial 262 with value: 72563.81403368016.\n",
      "[I 2024-09-17 19:57:08,679] Trial 272 finished with value: 72563.8142173901 and parameters: {'lgbm_weight': 0.9610653310546654, 'xgb_weight': 0.5096319758956194, 'cb_weight': 0.8724979424058467, 'hgb_weight': 0.8983522264082472, 'gb_weight': 0.7560975370881847}. Best is trial 262 with value: 72563.81403368016.\n",
      "[I 2024-09-17 19:57:08,720] Trial 273 finished with value: 72563.86068982501 and parameters: {'lgbm_weight': 0.9469295066562816, 'xgb_weight': 0.5125485108513332, 'cb_weight': 0.8555483341170274, 'hgb_weight': 0.9207196640587318, 'gb_weight': 0.7523007016847681}. Best is trial 262 with value: 72563.81403368016.\n",
      "[I 2024-09-17 19:57:08,762] Trial 274 finished with value: 72563.87080866504 and parameters: {'lgbm_weight': 0.9335597260711798, 'xgb_weight': 0.5102988747380902, 'cb_weight': 0.8545356458540889, 'hgb_weight': 0.9061006993545453, 'gb_weight': 0.7688853990715233}. Best is trial 262 with value: 72563.81403368016.\n",
      "[I 2024-09-17 19:57:08,802] Trial 275 finished with value: 72563.81602015831 and parameters: {'lgbm_weight': 0.9602325262490636, 'xgb_weight': 0.5075866685503919, 'cb_weight': 0.8689084148466645, 'hgb_weight': 0.8987461090551105, 'gb_weight': 0.7485896049981902}. Best is trial 262 with value: 72563.81403368016.\n",
      "[I 2024-09-17 19:57:08,846] Trial 276 finished with value: 72563.81647881198 and parameters: {'lgbm_weight': 0.9647098306540489, 'xgb_weight': 0.5133586458399424, 'cb_weight': 0.8708136266121086, 'hgb_weight': 0.8993165436673426, 'gb_weight': 0.7454007499962153}. Best is trial 262 with value: 72563.81403368016.\n",
      "[I 2024-09-17 19:57:08,888] Trial 277 finished with value: 72563.83832446008 and parameters: {'lgbm_weight': 0.9643455526603423, 'xgb_weight': 0.5112580859390276, 'cb_weight': 0.8708423829659051, 'hgb_weight': 0.92216930837175, 'gb_weight': 0.7627761069256159}. Best is trial 262 with value: 72563.81403368016.\n",
      "[I 2024-09-17 19:57:08,930] Trial 278 finished with value: 72563.83271844422 and parameters: {'lgbm_weight': 0.9686352542341011, 'xgb_weight': 0.5155999076282861, 'cb_weight': 0.8498225705260025, 'hgb_weight': 0.8888983835106217, 'gb_weight': 0.7525799535955315}. Best is trial 262 with value: 72563.81403368016.\n",
      "[I 2024-09-17 19:57:08,971] Trial 279 finished with value: 72584.67603560694 and parameters: {'lgbm_weight': 0.16099478567362524, 'xgb_weight': 0.5120138749963167, 'cb_weight': 0.8508637930152261, 'hgb_weight': 0.922021864738197, 'gb_weight': 0.7422137417738469}. Best is trial 262 with value: 72563.81403368016.\n",
      "[I 2024-09-17 19:57:09,012] Trial 280 finished with value: 72571.36963049484 and parameters: {'lgbm_weight': 0.9689841558633023, 'xgb_weight': 0.5137652935641274, 'cb_weight': 0.8714499661700453, 'hgb_weight': 0.9304599584727831, 'gb_weight': 0.10720729672083262}. Best is trial 262 with value: 72563.81403368016.\n",
      "[I 2024-09-17 19:57:09,055] Trial 281 finished with value: 72563.84387892965 and parameters: {'lgbm_weight': 0.9345870544280064, 'xgb_weight': 0.5344330438756318, 'cb_weight': 0.8462647005141541, 'hgb_weight': 0.8864705100435608, 'gb_weight': 0.7409803545180896}. Best is trial 262 with value: 72563.81403368016.\n",
      "[I 2024-09-17 19:57:09,096] Trial 282 finished with value: 72563.836563152 and parameters: {'lgbm_weight': 0.933682586481795, 'xgb_weight': 0.5066580403644514, 'cb_weight': 0.8544142566552292, 'hgb_weight': 0.8983680417967452, 'gb_weight': 0.7402962405834315}. Best is trial 262 with value: 72563.81403368016.\n",
      "[I 2024-09-17 19:57:09,137] Trial 283 finished with value: 72563.84590330877 and parameters: {'lgbm_weight': 0.9316751604023208, 'xgb_weight': 0.5339941768331868, 'cb_weight': 0.8747387092716932, 'hgb_weight': 0.9022720062503694, 'gb_weight': 0.7402822940961601}. Best is trial 262 with value: 72563.81403368016.\n",
      "[I 2024-09-17 19:57:09,177] Trial 284 finished with value: 72563.87113268746 and parameters: {'lgbm_weight': 0.9240317558529728, 'xgb_weight': 0.5377999894928116, 'cb_weight': 0.8715304271010711, 'hgb_weight': 0.9108138139498378, 'gb_weight': 0.7424648967090917}. Best is trial 262 with value: 72563.81403368016.\n",
      "[I 2024-09-17 19:57:09,217] Trial 285 finished with value: 72564.92882092338 and parameters: {'lgbm_weight': 0.9342309900407084, 'xgb_weight': 0.8387679276578403, 'cb_weight': 0.8475537978477755, 'hgb_weight': 0.9417272032673084, 'gb_weight': 0.7345165979132001}. Best is trial 262 with value: 72563.81403368016.\n",
      "[I 2024-09-17 19:57:09,258] Trial 286 finished with value: 72563.83236758331 and parameters: {'lgbm_weight': 0.938951554756046, 'xgb_weight': 0.5247240054894251, 'cb_weight': 0.8696700323580823, 'hgb_weight': 0.9006708594921637, 'gb_weight': 0.7431819551619551}. Best is trial 262 with value: 72563.81403368016.\n",
      "[I 2024-09-17 19:57:09,299] Trial 287 finished with value: 72563.86854266342 and parameters: {'lgbm_weight': 0.9210465219038945, 'xgb_weight': 0.5353338119876221, 'cb_weight': 0.8678709823954314, 'hgb_weight': 0.906589036840323, 'gb_weight': 0.7381527155516067}. Best is trial 262 with value: 72563.81403368016.\n",
      "[I 2024-09-17 19:57:09,340] Trial 288 finished with value: 72563.89715713586 and parameters: {'lgbm_weight': 0.9374566326844521, 'xgb_weight': 0.5212609519573869, 'cb_weight': 0.8443978967419254, 'hgb_weight': 0.9261744433094348, 'gb_weight': 0.7526024537735084}. Best is trial 262 with value: 72563.81403368016.\n",
      "[I 2024-09-17 19:57:09,381] Trial 289 finished with value: 72563.86494766982 and parameters: {'lgbm_weight': 0.9393728486904303, 'xgb_weight': 0.5644180026930925, 'cb_weight': 0.8750920098488579, 'hgb_weight': 0.8990248711287832, 'gb_weight': 0.7584962162914636}. Best is trial 262 with value: 72563.81403368016.\n",
      "[I 2024-09-17 19:57:09,421] Trial 290 finished with value: 72572.21915654626 and parameters: {'lgbm_weight': 0.9988174784055489, 'xgb_weight': 0.5155003447455945, 'cb_weight': 0.8592864746214108, 'hgb_weight': 0.22441430130993156, 'gb_weight': 0.7603132159576937}. Best is trial 262 with value: 72563.81403368016.\n",
      "[I 2024-09-17 19:57:09,462] Trial 291 finished with value: 72563.96268264505 and parameters: {'lgbm_weight': 0.9226583718212295, 'xgb_weight': 0.5552657507777392, 'cb_weight': 0.8818878450729083, 'hgb_weight': 0.9559238968048392, 'gb_weight': 0.7371327615535213}. Best is trial 262 with value: 72563.81403368016.\n",
      "[I 2024-09-17 19:57:09,504] Trial 292 finished with value: 72563.83740393996 and parameters: {'lgbm_weight': 0.9631630464443371, 'xgb_weight': 0.50620637151566, 'cb_weight': 0.8472300525766856, 'hgb_weight': 0.8994123375701444, 'gb_weight': 0.7338086857677516}. Best is trial 262 with value: 72563.81403368016.\n",
      "[I 2024-09-17 19:57:09,546] Trial 293 finished with value: 72569.6362969219 and parameters: {'lgbm_weight': 0.9705391100369356, 'xgb_weight': 0.5392396304257221, 'cb_weight': 0.33909295433202347, 'hgb_weight': 0.8994797296944537, 'gb_weight': 0.735119351561656}. Best is trial 262 with value: 72563.81403368016.\n",
      "[I 2024-09-17 19:57:09,587] Trial 294 finished with value: 72563.83760410495 and parameters: {'lgbm_weight': 0.9636799608366005, 'xgb_weight': 0.5039660754391514, 'cb_weight': 0.8713993785167632, 'hgb_weight': 0.9218120266762554, 'gb_weight': 0.7599310018079275}. Best is trial 262 with value: 72563.81403368016.\n",
      "[I 2024-09-17 19:57:09,628] Trial 295 finished with value: 72563.91022533354 and parameters: {'lgbm_weight': 0.9632688469186412, 'xgb_weight': 0.5086789725526712, 'cb_weight': 0.8474575137707165, 'hgb_weight': 0.9458061750680153, 'gb_weight': 0.7619260160786878}. Best is trial 262 with value: 72563.81403368016.\n",
      "[I 2024-09-17 19:57:09,671] Trial 296 finished with value: 72563.8118584627 and parameters: {'lgbm_weight': 0.9849919166594175, 'xgb_weight': 0.5017408515767027, 'cb_weight': 0.9172607856655418, 'hgb_weight': 0.9220102597992582, 'gb_weight': 0.7697054254093219}. Best is trial 296 with value: 72563.8118584627.\n",
      "[I 2024-09-17 19:57:09,713] Trial 297 finished with value: 72567.19926686483 and parameters: {'lgbm_weight': 0.9977768846056149, 'xgb_weight': 0.019240507804121232, 'cb_weight': 0.9119236784527783, 'hgb_weight': 0.9327189066600021, 'gb_weight': 0.7706629092502619}. Best is trial 296 with value: 72563.8118584627.\n",
      "[I 2024-09-17 19:57:09,754] Trial 298 finished with value: 72563.85971061296 and parameters: {'lgbm_weight': 0.9812100235742442, 'xgb_weight': 0.502516387877745, 'cb_weight': 0.9202296570388916, 'hgb_weight': 0.9648215218131903, 'gb_weight': 0.7683702144954135}. Best is trial 296 with value: 72563.8118584627.\n",
      "[I 2024-09-17 19:57:09,795] Trial 299 finished with value: 72563.82077207531 and parameters: {'lgbm_weight': 0.9647225265617685, 'xgb_weight': 0.5024666142051453, 'cb_weight': 0.8910351942993533, 'hgb_weight': 0.9181370554069848, 'gb_weight': 0.7572021662091329}. Best is trial 296 with value: 72563.8118584627.\n",
      "[I 2024-09-17 19:57:09,838] Trial 300 finished with value: 72594.65677087053 and parameters: {'lgbm_weight': 0.02752521158290855, 'xgb_weight': 0.5033976449018824, 'cb_weight': 0.88540987812152, 'hgb_weight': 0.918339166951241, 'gb_weight': 0.7521664958889633}. Best is trial 296 with value: 72563.8118584627.\n",
      "[I 2024-09-17 19:57:09,881] Trial 301 finished with value: 72572.53248358544 and parameters: {'lgbm_weight': 0.9606377228949076, 'xgb_weight': 0.5184255387566216, 'cb_weight': 0.23796360747557355, 'hgb_weight': 0.9201466160958679, 'gb_weight': 0.7253111178267931}. Best is trial 296 with value: 72563.8118584627.\n",
      "[I 2024-09-17 19:57:09,924] Trial 302 finished with value: 72563.85882080573 and parameters: {'lgbm_weight': 0.984928865920345, 'xgb_weight': 0.4912256958880533, 'cb_weight': 0.8683624784505672, 'hgb_weight': 0.9355062215553948, 'gb_weight': 0.7647233757911683}. Best is trial 296 with value: 72563.8118584627.\n",
      "[I 2024-09-17 19:57:09,965] Trial 303 finished with value: 72563.82200184523 and parameters: {'lgbm_weight': 0.9588344365107428, 'xgb_weight': 0.4945884365410532, 'cb_weight': 0.9152156050392553, 'hgb_weight': 0.9055639675348779, 'gb_weight': 0.7690415418152203}. Best is trial 296 with value: 72563.8118584627.\n",
      "[I 2024-09-17 19:57:10,007] Trial 304 finished with value: 72563.85550147867 and parameters: {'lgbm_weight': 0.9999497037746625, 'xgb_weight': 0.5058818941918807, 'cb_weight': 0.8904835017714688, 'hgb_weight': 0.9615928542177197, 'gb_weight': 0.7575092720768339}. Best is trial 296 with value: 72563.8118584627.\n",
      "[I 2024-09-17 19:57:10,050] Trial 305 finished with value: 72567.77504005624 and parameters: {'lgbm_weight': 0.9522632088422526, 'xgb_weight': 0.48477070458594784, 'cb_weight': 0.42410571952965465, 'hgb_weight': 0.9037092484419663, 'gb_weight': 0.7207533354610188}. Best is trial 296 with value: 72563.8118584627.\n",
      "[I 2024-09-17 19:57:10,092] Trial 306 finished with value: 72563.88209017643 and parameters: {'lgbm_weight': 0.9508710447912706, 'xgb_weight': 0.5255105957571271, 'cb_weight': 0.9541453920200191, 'hgb_weight': 0.927138974422195, 'gb_weight': 0.7771663974926665}. Best is trial 296 with value: 72563.8118584627.\n",
      "[I 2024-09-17 19:57:10,135] Trial 307 finished with value: 72575.73907355961 and parameters: {'lgbm_weight': 0.9721801355589086, 'xgb_weight': 0.4945589288185542, 'cb_weight': 0.16162451060230687, 'hgb_weight': 0.9769399513381669, 'gb_weight': 0.7461139242014494}. Best is trial 296 with value: 72563.8118584627.\n",
      "[I 2024-09-17 19:57:10,178] Trial 308 finished with value: 72563.84753464366 and parameters: {'lgbm_weight': 0.9830781122188017, 'xgb_weight': 0.5196919373425535, 'cb_weight': 0.9251449731044605, 'hgb_weight': 0.9462566493934327, 'gb_weight': 0.7320818769348492}. Best is trial 296 with value: 72563.8118584627.\n",
      "[I 2024-09-17 19:57:10,220] Trial 309 finished with value: 72563.84051397048 and parameters: {'lgbm_weight': 0.9476065680697376, 'xgb_weight': 0.4838666032938687, 'cb_weight': 0.8775356880970417, 'hgb_weight': 0.8989018915550611, 'gb_weight': 0.7769521351103609}. Best is trial 296 with value: 72563.8118584627.\n",
      "[I 2024-09-17 19:57:10,264] Trial 310 finished with value: 72563.83607957358 and parameters: {'lgbm_weight': 0.9625916949353307, 'xgb_weight': 0.5491973971613974, 'cb_weight': 0.8972921949572711, 'hgb_weight': 0.9199315528568011, 'gb_weight': 0.7545814223148727}. Best is trial 296 with value: 72563.8118584627.\n",
      "[I 2024-09-17 19:57:10,305] Trial 311 finished with value: 72565.92352329631 and parameters: {'lgbm_weight': 0.946658879261746, 'xgb_weight': 0.9912173217525058, 'cb_weight': 0.9005373005031655, 'hgb_weight': 0.893259204819281, 'gb_weight': 0.7499792849266502}. Best is trial 296 with value: 72563.8118584627.\n",
      "[I 2024-09-17 19:57:10,348] Trial 312 finished with value: 72563.82162297859 and parameters: {'lgbm_weight': 0.9829402802126257, 'xgb_weight': 0.5511647032871674, 'cb_weight': 0.9245791006656074, 'hgb_weight': 0.8909940321932036, 'gb_weight': 0.7817751362078921}. Best is trial 296 with value: 72563.8118584627.\n",
      "[I 2024-09-17 19:57:10,390] Trial 313 finished with value: 72563.85318192822 and parameters: {'lgbm_weight': 0.9855863784117315, 'xgb_weight': 0.5704591517735027, 'cb_weight': 0.9460141915452036, 'hgb_weight': 0.8921023623611871, 'gb_weight': 0.7829781676868605}. Best is trial 296 with value: 72563.8118584627.\n",
      "[I 2024-09-17 19:57:10,433] Trial 314 finished with value: 72563.80994429588 and parameters: {'lgbm_weight': 0.9977404632519059, 'xgb_weight': 0.5288023975794405, 'cb_weight': 0.9208105908240498, 'hgb_weight': 0.8871980164145864, 'gb_weight': 0.7880936559909908}. Best is trial 314 with value: 72563.80994429588.\n",
      "[I 2024-09-17 19:57:10,475] Trial 315 finished with value: 72563.88272621532 and parameters: {'lgbm_weight': 0.9903557026750904, 'xgb_weight': 0.5507109384741458, 'cb_weight': 0.9829336164991729, 'hgb_weight': 0.8830340030422776, 'gb_weight': 0.7940008034272475}. Best is trial 314 with value: 72563.80994429588.\n",
      "[I 2024-09-17 19:57:10,518] Trial 316 finished with value: 72563.85919069742 and parameters: {'lgbm_weight': 0.9998682881948777, 'xgb_weight': 0.5912901727198964, 'cb_weight': 0.9269791679412793, 'hgb_weight': 0.9106705379842542, 'gb_weight': 0.7803895462074413}. Best is trial 314 with value: 72563.80994429588.\n",
      "[I 2024-09-17 19:57:10,561] Trial 317 finished with value: 72569.69561789498 and parameters: {'lgbm_weight': 0.5030940440876686, 'xgb_weight': 0.5488453449752749, 'cb_weight': 0.9610742830845227, 'hgb_weight': 0.8826634725755635, 'gb_weight': 0.8007206797278464}. Best is trial 314 with value: 72563.80994429588.\n",
      "[I 2024-09-17 19:57:10,603] Trial 318 finished with value: 72563.82674095377 and parameters: {'lgbm_weight': 0.9802106139060222, 'xgb_weight': 0.5537469447124473, 'cb_weight': 0.916043519664205, 'hgb_weight': 0.8835458031547253, 'gb_weight': 0.7769427295091514}. Best is trial 314 with value: 72563.80994429588.\n",
      "[I 2024-09-17 19:57:10,646] Trial 319 finished with value: 72572.57095595052 and parameters: {'lgbm_weight': 0.4547749311874687, 'xgb_weight': 0.6180870565934212, 'cb_weight': 0.9230069628752701, 'hgb_weight': 0.890664621321385, 'gb_weight': 0.25711683382127387}. Best is trial 314 with value: 72563.80994429588.\n",
      "[I 2024-09-17 19:57:10,692] Trial 320 finished with value: 72563.85157413088 and parameters: {'lgbm_weight': 0.9817150094556885, 'xgb_weight': 0.5710608116512675, 'cb_weight': 0.9462875630617958, 'hgb_weight': 0.9123345539575485, 'gb_weight': 0.7751158073565004}. Best is trial 314 with value: 72563.80994429588.\n",
      "[I 2024-09-17 19:57:10,733] Trial 321 finished with value: 72563.88567900125 and parameters: {'lgbm_weight': 0.9438065086606516, 'xgb_weight': 0.5577379318935951, 'cb_weight': 0.9144381443526292, 'hgb_weight': 0.9352449885628866, 'gb_weight': 0.7510387299983292}. Best is trial 314 with value: 72563.80994429588.\n",
      "[I 2024-09-17 19:57:10,776] Trial 322 finished with value: 72576.1625680605 and parameters: {'lgbm_weight': 0.307088146910299, 'xgb_weight': 0.5911252905351817, 'cb_weight': 0.9743882616279536, 'hgb_weight': 0.8789882512333359, 'gb_weight': 0.4518411078286536}. Best is trial 314 with value: 72563.80994429588.\n",
      "[I 2024-09-17 19:57:10,820] Trial 323 finished with value: 72564.10430605145 and parameters: {'lgbm_weight': 0.9190413693714381, 'xgb_weight': 0.6517280162722072, 'cb_weight': 0.9371884116511715, 'hgb_weight': 0.9070790616856448, 'gb_weight': 0.7773420593609804}. Best is trial 314 with value: 72563.80994429588.\n",
      "[I 2024-09-17 19:57:10,864] Trial 324 finished with value: 72563.91312088225 and parameters: {'lgbm_weight': 0.9980102190788065, 'xgb_weight': 0.5355985902227436, 'cb_weight': 0.9136607054488871, 'hgb_weight': 0.8746115581261438, 'gb_weight': 0.7205542772750041}. Best is trial 314 with value: 72563.80994429588.\n",
      "[I 2024-09-17 19:57:10,907] Trial 325 finished with value: 72563.81962767399 and parameters: {'lgbm_weight': 0.9618167294843105, 'xgb_weight': 0.5436397477667171, 'cb_weight': 0.9023849886933077, 'hgb_weight': 0.8881673295326084, 'gb_weight': 0.7677912583120651}. Best is trial 314 with value: 72563.80994429588.\n",
      "[I 2024-09-17 19:57:10,951] Trial 326 finished with value: 72564.0973656661 and parameters: {'lgbm_weight': 0.9677550485021553, 'xgb_weight': 0.5666971992946389, 'cb_weight': 0.9342438003485853, 'hgb_weight': 0.8704960038505776, 'gb_weight': 0.9510203776455378}. Best is trial 314 with value: 72563.80994429588.\n",
      "[I 2024-09-17 19:57:10,995] Trial 327 finished with value: 72563.8421470763 and parameters: {'lgbm_weight': 0.9800308943070062, 'xgb_weight': 0.544100092336764, 'cb_weight': 0.8985056101380626, 'hgb_weight': 0.9403813897133496, 'gb_weight': 0.7916529977374708}. Best is trial 314 with value: 72563.80994429588.\n",
      "[I 2024-09-17 19:57:11,037] Trial 328 finished with value: 72563.82483298164 and parameters: {'lgbm_weight': 0.9993740404007975, 'xgb_weight': 0.5485672572303368, 'cb_weight': 0.918042064488017, 'hgb_weight': 0.9171244438162731, 'gb_weight': 0.7613893406474748}. Best is trial 314 with value: 72563.80994429588.\n",
      "[I 2024-09-17 19:57:11,081] Trial 329 finished with value: 72566.26613682669 and parameters: {'lgbm_weight': 0.6676119379827851, 'xgb_weight': 0.5267384196606855, 'cb_weight': 0.9495495947977665, 'hgb_weight': 0.8832617389070299, 'gb_weight': 0.812475394955129}. Best is trial 314 with value: 72563.80994429588.\n",
      "[I 2024-09-17 19:57:11,123] Trial 330 finished with value: 72563.90224955001 and parameters: {'lgbm_weight': 0.9998142462207787, 'xgb_weight': 0.6052542235222006, 'cb_weight': 0.9237609167405316, 'hgb_weight': 0.8920650556192974, 'gb_weight': 0.7753640018982153}. Best is trial 314 with value: 72563.80994429588.\n",
      "[I 2024-09-17 19:57:11,165] Trial 331 finished with value: 72563.89196175901 and parameters: {'lgbm_weight': 0.9739282502169156, 'xgb_weight': 0.5702855594242097, 'cb_weight': 0.9602982520641216, 'hgb_weight': 0.8653621492844196, 'gb_weight': 0.7947016890464961}. Best is trial 314 with value: 72563.80994429588.\n",
      "[I 2024-09-17 19:57:11,206] Trial 332 finished with value: 72563.81344520475 and parameters: {'lgbm_weight': 0.983284002810477, 'xgb_weight': 0.5357339864226147, 'cb_weight': 0.9147006732059135, 'hgb_weight': 0.9138979365801093, 'gb_weight': 0.7634919348957907}. Best is trial 314 with value: 72563.80994429588.\n",
      "[I 2024-09-17 19:57:11,248] Trial 333 finished with value: 72563.85596227772 and parameters: {'lgbm_weight': 0.984372974793076, 'xgb_weight': 0.579762847552771, 'cb_weight': 0.9191204022020395, 'hgb_weight': 0.9166647899937778, 'gb_weight': 0.7608673837603024}. Best is trial 314 with value: 72563.80994429588.\n",
      "[I 2024-09-17 19:57:11,289] Trial 334 finished with value: 72563.8269623343 and parameters: {'lgbm_weight': 0.9865104934588566, 'xgb_weight': 0.5293820002628605, 'cb_weight': 0.9395368172773403, 'hgb_weight': 0.9291149474125491, 'gb_weight': 0.7584866661455839}. Best is trial 314 with value: 72563.80994429588.\n",
      "[I 2024-09-17 19:57:11,331] Trial 335 finished with value: 72567.03883447703 and parameters: {'lgbm_weight': 0.99732317245222, 'xgb_weight': 0.5423895353371095, 'cb_weight': 0.938080136966914, 'hgb_weight': 0.4937397576186376, 'gb_weight': 0.7169894377488037}. Best is trial 314 with value: 72563.80994429588.\n",
      "[I 2024-09-17 19:57:11,373] Trial 336 finished with value: 72563.93535222132 and parameters: {'lgbm_weight': 0.9839491318731409, 'xgb_weight': 0.557587243339956, 'cb_weight': 0.9797552915492538, 'hgb_weight': 0.9936468554671092, 'gb_weight': 0.7455318305189982}. Best is trial 314 with value: 72563.80994429588.\n",
      "[I 2024-09-17 19:57:11,415] Trial 337 finished with value: 72563.85868195885 and parameters: {'lgbm_weight': 0.9587203083240586, 'xgb_weight': 0.5296172783822101, 'cb_weight': 0.9043746673370081, 'hgb_weight': 0.9450169333552352, 'gb_weight': 0.7668678311557693}. Best is trial 314 with value: 72563.80994429588.\n",
      "[I 2024-09-17 19:57:11,457] Trial 338 finished with value: 72563.87134826527 and parameters: {'lgbm_weight': 0.9977480644054771, 'xgb_weight': 0.5263904020820256, 'cb_weight': 0.9637288211454349, 'hgb_weight': 0.9522185929647863, 'gb_weight': 0.7386738829784466}. Best is trial 314 with value: 72563.80994429588.\n",
      "[I 2024-09-17 19:57:11,499] Trial 339 finished with value: 72563.91810363918 and parameters: {'lgbm_weight': 0.9495963604158729, 'xgb_weight': 0.5498712006121217, 'cb_weight': 0.9422239301094943, 'hgb_weight': 0.9293155206811983, 'gb_weight': 0.8280615072143753}. Best is trial 314 with value: 72563.80994429588.\n",
      "[I 2024-09-17 19:57:11,541] Trial 340 finished with value: 72563.81223589517 and parameters: {'lgbm_weight': 0.9799953010896183, 'xgb_weight': 0.5253098357963405, 'cb_weight': 0.8903733319748814, 'hgb_weight': 0.9092220908338338, 'gb_weight': 0.7608743341169786}. Best is trial 314 with value: 72563.80994429588.\n",
      "[I 2024-09-17 19:57:11,584] Trial 341 finished with value: 72563.91982703625 and parameters: {'lgbm_weight': 0.9835106837804328, 'xgb_weight': 0.5780308331762749, 'cb_weight': 0.8896594287811328, 'hgb_weight': 0.9707296767472956, 'gb_weight': 0.7201639476560636}. Best is trial 314 with value: 72563.80994429588.\n",
      "[I 2024-09-17 19:57:11,625] Trial 342 finished with value: 72563.81479907736 and parameters: {'lgbm_weight': 0.9769314085481897, 'xgb_weight': 0.5313657304346735, 'cb_weight': 0.8901249419089897, 'hgb_weight': 0.9101868743861091, 'gb_weight': 0.7610569173300878}. Best is trial 314 with value: 72563.80994429588.\n",
      "[I 2024-09-17 19:57:11,667] Trial 343 finished with value: 72582.12542172302 and parameters: {'lgbm_weight': 0.9973471603746502, 'xgb_weight': 0.5385993596315125, 'cb_weight': 0.009371505220462817, 'hgb_weight': 0.9146555222574946, 'gb_weight': 0.7640371421182272}. Best is trial 314 with value: 72563.80994429588.\n",
      "[I 2024-09-17 19:57:11,709] Trial 344 finished with value: 72566.51573401249 and parameters: {'lgbm_weight': 0.9795757348344617, 'xgb_weight': 0.5587821203351272, 'cb_weight': 0.5171507071595337, 'hgb_weight': 0.9451382518737644, 'gb_weight': 0.7762504643473849}. Best is trial 314 with value: 72563.80994429588.\n",
      "[I 2024-09-17 19:57:11,751] Trial 345 finished with value: 72578.48955746311 and parameters: {'lgbm_weight': 0.9635414398920213, 'xgb_weight': 0.5282551138005999, 'cb_weight': 0.08308740187610264, 'hgb_weight': 0.9280897624152143, 'gb_weight': 0.7386569868505921}. Best is trial 314 with value: 72563.80994429588.\n",
      "[I 2024-09-17 19:57:11,792] Trial 346 finished with value: 72568.35264991787 and parameters: {'lgbm_weight': 0.5472313799051476, 'xgb_weight': 0.543095654691329, 'cb_weight': 0.8903451400328893, 'hgb_weight': 0.9097706913298604, 'gb_weight': 0.7602112735999439}. Best is trial 314 with value: 72563.80994429588.\n",
      "[I 2024-09-17 19:57:11,835] Trial 347 finished with value: 72563.90654547898 and parameters: {'lgbm_weight': 0.9995083942201568, 'xgb_weight': 0.587266713553655, 'cb_weight': 0.9086199466067979, 'hgb_weight': 0.958868935284001, 'gb_weight': 0.7275760795148429}. Best is trial 314 with value: 72563.80994429588.\n",
      "[I 2024-09-17 19:57:11,878] Trial 348 finished with value: 72563.86871640285 and parameters: {'lgbm_weight': 0.9448635240501674, 'xgb_weight': 0.5214911514212142, 'cb_weight': 0.9246844484345916, 'hgb_weight': 0.904830290463511, 'gb_weight': 0.8081452359260796}. Best is trial 314 with value: 72563.80994429588.\n",
      "[I 2024-09-17 19:57:11,920] Trial 349 finished with value: 72563.85286854746 and parameters: {'lgbm_weight': 0.9757457439982167, 'xgb_weight': 0.5611225634764283, 'cb_weight': 0.8855134988571117, 'hgb_weight': 0.9287164501078564, 'gb_weight': 0.7895026297398453}. Best is trial 314 with value: 72563.80994429588.\n",
      "[I 2024-09-17 19:57:11,963] Trial 350 finished with value: 72563.85255421555 and parameters: {'lgbm_weight': 0.9567071081232934, 'xgb_weight': 0.5263490712259232, 'cb_weight': 0.9490393369684187, 'hgb_weight': 0.89678014400964, 'gb_weight': 0.7691977380802844}. Best is trial 314 with value: 72563.80994429588.\n",
      "[I 2024-09-17 19:57:12,005] Trial 351 finished with value: 72563.81533518968 and parameters: {'lgbm_weight': 0.9801143648446582, 'xgb_weight': 0.4962175540762881, 'cb_weight': 0.9120218173809271, 'hgb_weight': 0.913223276188704, 'gb_weight': 0.7508214633122191}. Best is trial 314 with value: 72563.80994429588.\n",
      "[I 2024-09-17 19:57:12,048] Trial 352 finished with value: 72563.81738686273 and parameters: {'lgbm_weight': 0.9997431153549545, 'xgb_weight': 0.4910319341259797, 'cb_weight': 0.930694395661888, 'hgb_weight': 0.9287423181100666, 'gb_weight': 0.7818215943279442}. Best is trial 314 with value: 72563.80994429588.\n",
      "[I 2024-09-17 19:57:12,093] Trial 353 finished with value: 72563.85620678155 and parameters: {'lgbm_weight': 0.9823448652547061, 'xgb_weight': 0.49602690198069016, 'cb_weight': 0.9403686500449574, 'hgb_weight': 0.956383860686623, 'gb_weight': 0.7542013274895385}. Best is trial 314 with value: 72563.80994429588.\n",
      "[I 2024-09-17 19:57:12,137] Trial 354 finished with value: 72567.0084374562 and parameters: {'lgbm_weight': 0.9964158970150492, 'xgb_weight': 0.4882323933927942, 'cb_weight': 0.9989760047880238, 'hgb_weight': 0.9446888915224867, 'gb_weight': 0.3475169380238282}. Best is trial 314 with value: 72563.80994429588.\n",
      "[I 2024-09-17 19:57:12,181] Trial 355 finished with value: 72563.84411474364 and parameters: {'lgbm_weight': 0.9987533438497302, 'xgb_weight': 0.5470490170381114, 'cb_weight': 0.9703930102175823, 'hgb_weight': 0.929324622699586, 'gb_weight': 0.7749567774020822}. Best is trial 314 with value: 72563.80994429588.\n",
      "[I 2024-09-17 19:57:12,225] Trial 356 finished with value: 72563.86694341864 and parameters: {'lgbm_weight': 0.9770047790495184, 'xgb_weight': 0.5165075248619634, 'cb_weight': 0.9259204530936352, 'hgb_weight': 0.9250226971520824, 'gb_weight': 0.7126928758445472}. Best is trial 314 with value: 72563.80994429588.\n",
      "[I 2024-09-17 19:57:12,268] Trial 357 finished with value: 72563.95699076811 and parameters: {'lgbm_weight': 0.9702209521773568, 'xgb_weight': 0.4877455332051831, 'cb_weight': 0.9127836491692668, 'hgb_weight': 0.9723327114257949, 'gb_weight': 0.8124446815035546}. Best is trial 314 with value: 72563.80994429588.\n",
      "[I 2024-09-17 19:57:12,310] Trial 358 finished with value: 72563.8265205434 and parameters: {'lgbm_weight': 0.9776716792221638, 'xgb_weight': 0.5124179890056204, 'cb_weight': 0.9484893297101227, 'hgb_weight': 0.9153479660750979, 'gb_weight': 0.7808552049218035}. Best is trial 314 with value: 72563.80994429588.\n",
      "[I 2024-09-17 19:57:12,353] Trial 359 finished with value: 72563.86012235678 and parameters: {'lgbm_weight': 0.9986089067323602, 'xgb_weight': 0.5446732872133024, 'cb_weight': 0.9575021149054145, 'hgb_weight': 0.9142725000988089, 'gb_weight': 0.7527311848666505}. Best is trial 314 with value: 72563.80994429588.\n",
      "[I 2024-09-17 19:57:12,395] Trial 360 finished with value: 72563.89076660459 and parameters: {'lgbm_weight': 0.9787023000222429, 'xgb_weight': 0.5692002719607606, 'cb_weight': 0.9387882386819681, 'hgb_weight': 0.9523379787147535, 'gb_weight': 0.7328489852202198}. Best is trial 314 with value: 72563.80994429588.\n",
      "[I 2024-09-17 19:57:12,438] Trial 361 finished with value: 72563.85183553696 and parameters: {'lgbm_weight': 0.9635814089714131, 'xgb_weight': 0.5148678655765203, 'cb_weight': 0.9040079466758429, 'hgb_weight': 0.9365825386401107, 'gb_weight': 0.7866121036708944}. Best is trial 314 with value: 72563.80994429588.\n",
      "[I 2024-09-17 19:57:12,481] Trial 362 finished with value: 72563.83059389828 and parameters: {'lgbm_weight': 0.984120834237142, 'xgb_weight': 0.5340521042948835, 'cb_weight': 0.958759884695895, 'hgb_weight': 0.9110764932812558, 'gb_weight': 0.8182678643406189}. Best is trial 314 with value: 72563.80994429588.\n",
      "[I 2024-09-17 19:57:12,523] Trial 363 finished with value: 72563.8614268546 and parameters: {'lgbm_weight': 0.9990360406917145, 'xgb_weight': 0.5035944054418648, 'cb_weight': 0.8856897403203513, 'hgb_weight': 0.8979777903965471, 'gb_weight': 0.836669068663559}. Best is trial 314 with value: 72563.80994429588.\n",
      "[I 2024-09-17 19:57:12,567] Trial 364 finished with value: 72563.97038999439 and parameters: {'lgbm_weight': 0.9584841017016437, 'xgb_weight': 0.5200942611380471, 'cb_weight': 0.9784516247911617, 'hgb_weight': 0.9836671073024358, 'gb_weight': 0.7589225112821719}. Best is trial 314 with value: 72563.80994429588.\n",
      "[I 2024-09-17 19:57:12,610] Trial 365 finished with value: 72563.8684178755 and parameters: {'lgbm_weight': 0.9788570906928572, 'xgb_weight': 0.5964131372403753, 'cb_weight': 0.9340197721813651, 'hgb_weight': 0.9212277701823393, 'gb_weight': 0.7989037065790698}. Best is trial 314 with value: 72563.80994429588.\n",
      "[I 2024-09-17 19:57:12,655] Trial 366 finished with value: 72564.42110898392 and parameters: {'lgbm_weight': 0.9545775049425078, 'xgb_weight': 0.5607136310494334, 'cb_weight': 0.9073962097820868, 'hgb_weight': 0.9386459935918567, 'gb_weight': 0.9807402042093615}. Best is trial 314 with value: 72563.80994429588.\n",
      "[I 2024-09-17 19:57:12,699] Trial 367 finished with value: 72563.80826064528 and parameters: {'lgbm_weight': 0.9813130094390403, 'xgb_weight': 0.498737693070842, 'cb_weight': 0.8892813802320391, 'hgb_weight': 0.89578571577036, 'gb_weight': 0.7762630327849335}. Best is trial 367 with value: 72563.80826064528.\n",
      "[I 2024-09-17 19:57:12,742] Trial 368 finished with value: 72563.84676111842 and parameters: {'lgbm_weight': 0.9820716504017901, 'xgb_weight': 0.5363750482401363, 'cb_weight': 0.9256546397663267, 'hgb_weight': 0.8923587397025982, 'gb_weight': 0.7411763572963562}. Best is trial 367 with value: 72563.80826064528.\n",
      "[I 2024-09-17 19:57:12,785] Trial 369 finished with value: 72563.8124506446 and parameters: {'lgbm_weight': 0.9686284497619978, 'xgb_weight': 0.5071946736197961, 'cb_weight': 0.8948742333870298, 'hgb_weight': 0.9097399898587647, 'gb_weight': 0.7709324885121508}. Best is trial 367 with value: 72563.80826064528.\n",
      "[I 2024-09-17 19:57:12,830] Trial 370 finished with value: 72566.75290215871 and parameters: {'lgbm_weight': 0.6307540994721471, 'xgb_weight': 0.5007513793025005, 'cb_weight': 0.892612746883695, 'hgb_weight': 0.9058557216876276, 'gb_weight': 0.7774711889083086}. Best is trial 367 with value: 72563.80826064528.\n",
      "[I 2024-09-17 19:57:12,876] Trial 371 finished with value: 72563.82264486012 and parameters: {'lgbm_weight': 0.9631739799002256, 'xgb_weight': 0.5067426404846732, 'cb_weight': 0.8967121834343647, 'hgb_weight': 0.8843106838676326, 'gb_weight': 0.8055683788935566}. Best is trial 367 with value: 72563.80826064528.\n",
      "[I 2024-09-17 19:57:12,920] Trial 372 finished with value: 72563.98082880897 and parameters: {'lgbm_weight': 0.9256210376606362, 'xgb_weight': 0.4950399310404017, 'cb_weight': 0.8846208477366502, 'hgb_weight': 0.9102610298040142, 'gb_weight': 0.8251989913541177}. Best is trial 367 with value: 72563.80826064528.\n",
      "[I 2024-09-17 19:57:12,963] Trial 373 finished with value: 72572.72125013269 and parameters: {'lgbm_weight': 0.4080013792994496, 'xgb_weight': 0.5154172171687993, 'cb_weight': 0.9022224956890983, 'hgb_weight': 0.896677193417696, 'gb_weight': 0.8020796538188291}. Best is trial 367 with value: 72563.80826064528.\n",
      "[I 2024-09-17 19:57:13,008] Trial 374 finished with value: 72563.96507756691 and parameters: {'lgbm_weight': 0.9570485522110571, 'xgb_weight': 0.4810375598013632, 'cb_weight': 0.8790311236675161, 'hgb_weight': 0.8842510710481216, 'gb_weight': 0.8588639574076187}. Best is trial 367 with value: 72563.80826064528.\n",
      "[I 2024-09-17 19:57:13,055] Trial 375 finished with value: 72573.45783567443 and parameters: {'lgbm_weight': 0.9417831081567767, 'xgb_weight': 0.4991419115779707, 'cb_weight': 0.898767072356607, 'hgb_weight': 0.13887888808865068, 'gb_weight': 0.8054400480705152}. Best is trial 367 with value: 72563.80826064528.\n",
      "[I 2024-09-17 19:57:13,101] Trial 376 finished with value: 72564.39434750348 and parameters: {'lgbm_weight': 0.9643966346747865, 'xgb_weight': 0.7319152567647746, 'cb_weight': 0.8718991536174352, 'hgb_weight': 0.91413062622523, 'gb_weight': 0.7110483159563138}. Best is trial 367 with value: 72563.80826064528.\n",
      "[I 2024-09-17 19:57:13,147] Trial 377 finished with value: 72563.8922764884 and parameters: {'lgbm_weight': 0.9993452917925515, 'xgb_weight': 0.5104682129172607, 'cb_weight': 0.9155789377171104, 'hgb_weight': 0.9570331821889768, 'gb_weight': 0.8426126562603625}. Best is trial 367 with value: 72563.80826064528.\n",
      "[I 2024-09-17 19:57:13,193] Trial 378 finished with value: 72565.22557351283 and parameters: {'lgbm_weight': 0.9672133912947012, 'xgb_weight': 0.4740229452326158, 'cb_weight': 0.5966916244673438, 'hgb_weight': 0.8835015733263328, 'gb_weight': 0.728282414091754}. Best is trial 367 with value: 72563.80826064528.\n",
      "[I 2024-09-17 19:57:13,236] Trial 379 finished with value: 72565.36447972817 and parameters: {'lgbm_weight': 0.9379633877735064, 'xgb_weight': 0.49289084402382904, 'cb_weight': 0.8924297203743904, 'hgb_weight': 0.9359642516846044, 'gb_weight': 0.4200907972662313}. Best is trial 367 with value: 72563.80826064528.\n",
      "[I 2024-09-17 19:57:13,280] Trial 380 finished with value: 72563.89760591138 and parameters: {'lgbm_weight': 0.9218976695181549, 'xgb_weight': 0.5193222775982343, 'cb_weight': 0.9253622360158923, 'hgb_weight': 0.9112699737813934, 'gb_weight': 0.7592692472951358}. Best is trial 367 with value: 72563.80826064528.\n",
      "[I 2024-09-17 19:57:13,324] Trial 381 finished with value: 72563.8505396871 and parameters: {'lgbm_weight': 0.9588298510033259, 'xgb_weight': 0.5356240512043153, 'cb_weight': 0.9505189457875107, 'hgb_weight': 0.8887549233309765, 'gb_weight': 0.7913109243214279}. Best is trial 367 with value: 72563.80826064528.\n",
      "[I 2024-09-17 19:57:13,370] Trial 382 finished with value: 72563.82040192977 and parameters: {'lgbm_weight': 0.9775936174672156, 'xgb_weight': 0.4688334948559265, 'cb_weight': 0.9015267149818218, 'hgb_weight': 0.867599742988808, 'gb_weight': 0.7720812414555503}. Best is trial 367 with value: 72563.80826064528.\n",
      "[I 2024-09-17 19:57:13,416] Trial 383 finished with value: 72563.80907398707 and parameters: {'lgbm_weight': 0.9470557346276332, 'xgb_weight': 0.47107367032567476, 'cb_weight': 0.8790786563925722, 'hgb_weight': 0.8683396475026184, 'gb_weight': 0.7438142741278376}. Best is trial 367 with value: 72563.80826064528.\n",
      "[I 2024-09-17 19:57:13,460] Trial 384 finished with value: 72563.81602904819 and parameters: {'lgbm_weight': 0.951537416449129, 'xgb_weight': 0.4638694883320639, 'cb_weight': 0.8766030616873308, 'hgb_weight': 0.8745675067636999, 'gb_weight': 0.7369044347913947}. Best is trial 367 with value: 72563.80826064528.\n",
      "[I 2024-09-17 19:57:13,503] Trial 385 finished with value: 72576.91593934607 and parameters: {'lgbm_weight': 0.24122265060487202, 'xgb_weight': 0.4668264558052785, 'cb_weight': 0.8654592940040459, 'hgb_weight': 0.3908227083733258, 'gb_weight': 0.7081775099552987}. Best is trial 367 with value: 72563.80826064528.\n",
      "[I 2024-09-17 19:57:13,547] Trial 386 finished with value: 72569.77727637145 and parameters: {'lgbm_weight': 0.948574150300053, 'xgb_weight': 0.4697121444852992, 'cb_weight': 0.8677390377587857, 'hgb_weight': 0.29966293005248257, 'gb_weight': 0.7308605103439736}. Best is trial 367 with value: 72563.80826064528.\n",
      "[I 2024-09-17 19:57:13,591] Trial 387 finished with value: 72563.82648235469 and parameters: {'lgbm_weight': 0.9163968243068539, 'xgb_weight': 0.46942723243543855, 'cb_weight': 0.8788263018787019, 'hgb_weight': 0.8668626488634426, 'gb_weight': 0.7340970723214052}. Best is trial 367 with value: 72563.80826064528.\n",
      "[I 2024-09-17 19:57:13,637] Trial 388 finished with value: 72565.64225203216 and parameters: {'lgbm_weight': 0.9421188792237726, 'xgb_weight': 0.48102545578702527, 'cb_weight': 0.8857620191372726, 'hgb_weight': 0.5227893137088832, 'gb_weight': 0.747751338352531}. Best is trial 367 with value: 72563.80826064528.\n",
      "[I 2024-09-17 19:57:13,681] Trial 389 finished with value: 72563.89171269146 and parameters: {'lgbm_weight': 0.9642843800256561, 'xgb_weight': 0.4252320844906078, 'cb_weight': 0.9019961369577973, 'hgb_weight': 0.8725161073032005, 'gb_weight': 0.7148441206711139}. Best is trial 367 with value: 72563.80826064528.\n",
      "[I 2024-09-17 19:57:13,725] Trial 390 finished with value: 72569.22512903805 and parameters: {'lgbm_weight': 0.9437351250277496, 'xgb_weight': 0.4842769940426728, 'cb_weight': 0.8564685006483511, 'hgb_weight': 0.8841443901483317, 'gb_weight': 0.19630126143906812}. Best is trial 367 with value: 72563.80826064528.\n",
      "[I 2024-09-17 19:57:13,769] Trial 391 finished with value: 72563.82584066235 and parameters: {'lgbm_weight': 0.9672679425576157, 'xgb_weight': 0.4563169102516295, 'cb_weight': 0.8804577103527947, 'hgb_weight': 0.8729039506103945, 'gb_weight': 0.7502093402406479}. Best is trial 367 with value: 72563.80826064528.\n",
      "[I 2024-09-17 19:57:13,814] Trial 392 finished with value: 72563.9466459251 and parameters: {'lgbm_weight': 0.9790523892907962, 'xgb_weight': 0.4878396174567485, 'cb_weight': 0.9059784569348837, 'hgb_weight': 0.862836166605104, 'gb_weight': 0.8868608311333154}. Best is trial 367 with value: 72563.80826064528.\n",
      "[I 2024-09-17 19:57:13,861] Trial 393 finished with value: 72563.91337286549 and parameters: {'lgbm_weight': 0.9554622732753019, 'xgb_weight': 0.46147867473155996, 'cb_weight': 0.862875052029713, 'hgb_weight': 0.8943685603683704, 'gb_weight': 0.8102076134728409}. Best is trial 367 with value: 72563.80826064528.\n",
      "[I 2024-09-17 19:57:13,908] Trial 394 finished with value: 72563.86767687727 and parameters: {'lgbm_weight': 0.9195213998967566, 'xgb_weight': 0.4958579725751142, 'cb_weight': 0.8937503811169876, 'hgb_weight': 0.8928271313511328, 'gb_weight': 0.7716592214778346}. Best is trial 367 with value: 72563.80826064528.\n",
      "[I 2024-09-17 19:57:13,955] Trial 395 finished with value: 72563.83222076818 and parameters: {'lgbm_weight': 0.937233064601241, 'xgb_weight': 0.4708298410890848, 'cb_weight': 0.9085368552542474, 'hgb_weight': 0.8691528971833503, 'gb_weight': 0.7425772557327343}. Best is trial 367 with value: 72563.80826064528.\n",
      "[I 2024-09-17 19:57:14,000] Trial 396 finished with value: 72563.82706669041 and parameters: {'lgbm_weight': 0.980201538280495, 'xgb_weight': 0.5047402726861461, 'cb_weight': 0.8754119594006028, 'hgb_weight': 0.9010591556387413, 'gb_weight': 0.7908431470187735}. Best is trial 367 with value: 72563.80826064528.\n",
      "[I 2024-09-17 19:57:14,048] Trial 397 finished with value: 72563.86181471216 and parameters: {'lgbm_weight': 0.9628537238875144, 'xgb_weight': 0.4896181686548012, 'cb_weight': 0.9249457271443795, 'hgb_weight': 0.9343883941903544, 'gb_weight': 0.7255569641444385}. Best is trial 367 with value: 72563.80826064528.\n",
      "[I 2024-09-17 19:57:14,096] Trial 398 finished with value: 72564.97611643713 and parameters: {'lgbm_weight': 0.9818481524800418, 'xgb_weight': 0.43249464954993516, 'cb_weight': 0.8941642498242656, 'hgb_weight': 0.6046809305365017, 'gb_weight': 0.7682978014489968}. Best is trial 367 with value: 72563.80826064528.\n",
      "[I 2024-09-17 19:57:14,142] Trial 399 finished with value: 72563.95181452933 and parameters: {'lgbm_weight': 0.9453422503086645, 'xgb_weight': 0.5171800169347609, 'cb_weight': 0.8417737099873981, 'hgb_weight': 0.8821811516139926, 'gb_weight': 0.832076793742926}. Best is trial 367 with value: 72563.80826064528.\n",
      "[I 2024-09-17 19:57:14,194] Trial 400 finished with value: 72567.18509509932 and parameters: {'lgbm_weight': 0.9642666466530222, 'xgb_weight': 0.4708938429689694, 'cb_weight': 0.4658529569956765, 'hgb_weight': 0.9009855545757695, 'gb_weight': 0.7514518258456303}. Best is trial 367 with value: 72563.80826064528.\n",
      "[I 2024-09-17 19:57:14,241] Trial 401 finished with value: 72563.90585474366 and parameters: {'lgbm_weight': 0.9172310263235646, 'xgb_weight': 0.5032630487338012, 'cb_weight': 0.9144743092883848, 'hgb_weight': 0.8607370290003273, 'gb_weight': 0.8160815592970263}. Best is trial 367 with value: 72563.80826064528.\n",
      "[I 2024-09-17 19:57:14,287] Trial 402 finished with value: 72565.57485604692 and parameters: {'lgbm_weight': 0.711551367977842, 'xgb_weight': 0.5312614958853645, 'cb_weight': 0.8692760375728091, 'hgb_weight': 0.9197287086743494, 'gb_weight': 0.7903279013645772}. Best is trial 367 with value: 72563.80826064528.\n",
      "[I 2024-09-17 19:57:14,348] Trial 403 finished with value: 72580.68551310593 and parameters: {'lgbm_weight': 0.37157414782320675, 'xgb_weight': 0.45917400389974905, 'cb_weight': 0.30152851154130683, 'hgb_weight': 0.8821416001009384, 'gb_weight': 0.7020534761860491}. Best is trial 367 with value: 72563.80826064528.\n",
      "[I 2024-09-17 19:57:14,401] Trial 404 finished with value: 72563.85022833527 and parameters: {'lgbm_weight': 0.9996366147208843, 'xgb_weight': 0.4851181730054486, 'cb_weight': 0.8939547944879389, 'hgb_weight': 0.9481724782478748, 'gb_weight': 0.768224914865217}. Best is trial 367 with value: 72563.80826064528.\n",
      "[I 2024-09-17 19:57:14,447] Trial 405 finished with value: 72563.84646877946 and parameters: {'lgbm_weight': 0.9777786363982909, 'xgb_weight': 0.5188913774567289, 'cb_weight': 0.933724934399714, 'hgb_weight': 0.9020992892957769, 'gb_weight': 0.7354613286845391}. Best is trial 367 with value: 72563.80826064528.\n",
      "[I 2024-09-17 19:57:14,493] Trial 406 finished with value: 72563.8747963986 and parameters: {'lgbm_weight': 0.9489481261708891, 'xgb_weight': 0.4418507815583909, 'cb_weight': 0.8606583384532692, 'hgb_weight': 0.8627252658181446, 'gb_weight': 0.7891628987906255}. Best is trial 367 with value: 72563.80826064528.\n",
      "[I 2024-09-17 19:57:14,540] Trial 407 finished with value: 72563.8869266975 and parameters: {'lgbm_weight': 0.9329637645177663, 'xgb_weight': 0.4962653637083934, 'cb_weight': 0.9098513095496511, 'hgb_weight': 0.9286961636457417, 'gb_weight': 0.7591355234005471}. Best is trial 367 with value: 72563.80826064528.\n",
      "[I 2024-09-17 19:57:14,586] Trial 408 finished with value: 72563.84033612217 and parameters: {'lgbm_weight': 0.9635827965259356, 'xgb_weight': 0.47660339608872365, 'cb_weight': 0.8869242765629397, 'hgb_weight': 0.8844874856348, 'gb_weight': 0.8026446451459934}. Best is trial 367 with value: 72563.80826064528.\n",
      "[I 2024-09-17 19:57:14,631] Trial 409 finished with value: 72563.810776211 and parameters: {'lgbm_weight': 0.9814267778589123, 'xgb_weight': 0.5256614716642625, 'cb_weight': 0.9285400017691323, 'hgb_weight': 0.913137583761477, 'gb_weight': 0.7746660740920387}. Best is trial 367 with value: 72563.80826064528.\n",
      "[I 2024-09-17 19:57:14,677] Trial 410 finished with value: 72563.8837460298 and parameters: {'lgbm_weight': 0.9825799058739499, 'xgb_weight': 0.5422769809499395, 'cb_weight': 0.9332078856206706, 'hgb_weight': 0.9679430144736654, 'gb_weight': 0.7240285354122843}. Best is trial 367 with value: 72563.80826064528.\n",
      "[I 2024-09-17 19:57:14,724] Trial 411 finished with value: 72563.84459582584 and parameters: {'lgbm_weight': 0.9994568795505557, 'xgb_weight': 0.5227655275240748, 'cb_weight': 0.8829615438291528, 'hgb_weight': 0.9427655250666739, 'gb_weight': 0.7461332410662392}. Best is trial 367 with value: 72563.80826064528.\n",
      "[I 2024-09-17 19:57:14,770] Trial 412 finished with value: 72565.09472209543 and parameters: {'lgbm_weight': 0.9552923694907601, 'xgb_weight': 0.5355033186025853, 'cb_weight': 0.6233900334983269, 'hgb_weight': 0.9162488598038785, 'gb_weight': 0.7726449987836096}. Best is trial 367 with value: 72563.80826064528.\n",
      "[I 2024-09-17 19:57:14,817] Trial 413 finished with value: 72563.86162527533 and parameters: {'lgbm_weight': 0.9350882658868598, 'xgb_weight': 0.5075046067206519, 'cb_weight': 0.8435198112314737, 'hgb_weight': 0.90175886614481, 'gb_weight': 0.7564293650566162}. Best is trial 367 with value: 72563.80826064528.\n",
      "[I 2024-09-17 19:57:14,866] Trial 414 finished with value: 72563.8567550993 and parameters: {'lgbm_weight': 0.9678237221750657, 'xgb_weight': 0.5752702650181508, 'cb_weight': 0.9125090800482966, 'hgb_weight': 0.9283511791239807, 'gb_weight': 0.7788078670526702}. Best is trial 367 with value: 72563.80826064528.\n",
      "[I 2024-09-17 19:57:14,911] Trial 415 finished with value: 72563.95363344497 and parameters: {'lgbm_weight': 0.9175317263364092, 'xgb_weight': 0.5578265675733414, 'cb_weight': 0.9407771614185042, 'hgb_weight': 0.9041143367224551, 'gb_weight': 0.7386268295458913}. Best is trial 367 with value: 72563.80826064528.\n",
      "[I 2024-09-17 19:57:14,957] Trial 416 finished with value: 72567.2026271485 and parameters: {'lgbm_weight': 0.9994955431982203, 'xgb_weight': 0.5139126720422823, 'cb_weight': 0.8993629228924702, 'hgb_weight': 0.4727544698867041, 'gb_weight': 0.7162106195960946}. Best is trial 367 with value: 72563.80826064528.\n",
      "[I 2024-09-17 19:57:15,004] Trial 417 finished with value: 72563.90764325406 and parameters: {'lgbm_weight': 0.9546226779247016, 'xgb_weight': 0.5380669596576735, 'cb_weight': 0.8738910067535224, 'hgb_weight': 0.957141416949462, 'gb_weight': 0.765628250577523}. Best is trial 367 with value: 72563.80826064528.\n",
      "[I 2024-09-17 19:57:15,051] Trial 418 finished with value: 72587.47132874753 and parameters: {'lgbm_weight': 0.12447038987902459, 'xgb_weight': 0.49652946956389443, 'cb_weight': 0.9594625502013258, 'hgb_weight': 0.9227309507984212, 'gb_weight': 0.7794762654559302}. Best is trial 367 with value: 72563.80826064528.\n",
      "[I 2024-09-17 19:57:15,098] Trial 419 finished with value: 72563.83087437307 and parameters: {'lgbm_weight': 0.9727207597205678, 'xgb_weight': 0.5215806819778014, 'cb_weight': 0.8570156629865935, 'hgb_weight': 0.8899186164395534, 'gb_weight': 0.7459764607176811}. Best is trial 367 with value: 72563.80826064528.\n",
      "[I 2024-09-17 19:57:15,146] Trial 420 finished with value: 72565.393795643 and parameters: {'lgbm_weight': 0.9381132075825066, 'xgb_weight': 0.5529501807046246, 'cb_weight': 0.9276936159721688, 'hgb_weight': 0.5468653812881441, 'gb_weight': 0.8006877126694868}. Best is trial 367 with value: 72563.80826064528.\n",
      "[I 2024-09-17 19:57:15,193] Trial 421 finished with value: 72563.82030788461 and parameters: {'lgbm_weight': 0.9825576221722212, 'xgb_weight': 0.4947202236326358, 'cb_weight': 0.902143070822863, 'hgb_weight': 0.8632992224878431, 'gb_weight': 0.7611458393702665}. Best is trial 367 with value: 72563.80826064528.\n",
      "[I 2024-09-17 19:57:15,239] Trial 422 finished with value: 72563.98001003625 and parameters: {'lgbm_weight': 0.9996444285470981, 'xgb_weight': 0.46347191695876905, 'cb_weight': 0.9197188284955498, 'hgb_weight': 0.8559843410239735, 'gb_weight': 0.703019467884241}. Best is trial 367 with value: 72563.80826064528.\n",
      "[I 2024-09-17 19:57:15,284] Trial 423 finished with value: 72563.84216611918 and parameters: {'lgbm_weight': 0.9803917426282445, 'xgb_weight': 0.4880512621870999, 'cb_weight': 0.8796750491668238, 'hgb_weight': 0.8717994535990002, 'gb_weight': 0.7253803525274934}. Best is trial 367 with value: 72563.80826064528.\n",
      "[I 2024-09-17 19:57:15,331] Trial 424 finished with value: 72563.8239415736 and parameters: {'lgbm_weight': 0.98228103251104, 'xgb_weight': 0.5237531608148714, 'cb_weight': 0.9003403569807737, 'hgb_weight': 0.9360823159350328, 'gb_weight': 0.7564807015612577}. Best is trial 367 with value: 72563.80826064528.\n",
      "[I 2024-09-17 19:57:15,378] Trial 425 finished with value: 72564.74834648678 and parameters: {'lgbm_weight': 0.9527961946533006, 'xgb_weight': 0.4887390822886432, 'cb_weight': 0.9455524563630802, 'hgb_weight': 0.6445665386165893, 'gb_weight': 0.7467555155684656}. Best is trial 367 with value: 72563.80826064528.\n",
      "[I 2024-09-17 19:57:15,426] Trial 426 finished with value: 72564.80057144925 and parameters: {'lgbm_weight': 0.9797170443681074, 'xgb_weight': 0.8133303876064771, 'cb_weight': 0.863815889353661, 'hgb_weight': 0.8534566690694946, 'gb_weight': 0.7688087255358406}. Best is trial 367 with value: 72563.80826064528.\n",
      "[I 2024-09-17 19:57:15,472] Trial 427 finished with value: 72563.87512540772 and parameters: {'lgbm_weight': 0.941666023778088, 'xgb_weight': 0.5360596396387511, 'cb_weight': 0.8309978633216719, 'hgb_weight': 0.9041374856624449, 'gb_weight': 0.7309519160117072}. Best is trial 367 with value: 72563.80826064528.\n",
      "[I 2024-09-17 19:57:15,519] Trial 428 finished with value: 72563.83157268302 and parameters: {'lgbm_weight': 0.9626083447438494, 'xgb_weight': 0.5040398433770863, 'cb_weight': 0.9276855427418087, 'hgb_weight': 0.9149445858374169, 'gb_weight': 0.7838546583516326}. Best is trial 367 with value: 72563.80826064528.\n",
      "[I 2024-09-17 19:57:15,567] Trial 429 finished with value: 72563.86755456282 and parameters: {'lgbm_weight': 0.9156822025732734, 'xgb_weight': 0.46408557325500965, 'cb_weight': 0.9066886392798521, 'hgb_weight': 0.8702465757866922, 'gb_weight': 0.7594128532275032}. Best is trial 367 with value: 72563.80826064528.\n",
      "[I 2024-09-17 19:57:15,614] Trial 430 finished with value: 72563.92756502876 and parameters: {'lgbm_weight': 0.9803629685536482, 'xgb_weight': 0.5715872911666254, 'cb_weight': 0.97596467312042, 'hgb_weight': 0.9497365854972174, 'gb_weight': 0.7399266069461168}. Best is trial 367 with value: 72563.80826064528.\n",
      "[I 2024-09-17 19:57:15,662] Trial 431 finished with value: 72564.00766103846 and parameters: {'lgbm_weight': 0.9985368359273824, 'xgb_weight': 0.4373229787989894, 'cb_weight': 0.8777340127531981, 'hgb_weight': 0.9760234382744801, 'gb_weight': 0.7836748204618486}. Best is trial 367 with value: 72563.80826064528.\n",
      "[I 2024-09-17 19:57:15,709] Trial 432 finished with value: 72563.8443707192 and parameters: {'lgbm_weight': 0.9349711844894797, 'xgb_weight': 0.47932023925020184, 'cb_weight': 0.8925762452354032, 'hgb_weight': 0.8958533744050716, 'gb_weight': 0.7074720214007283}. Best is trial 367 with value: 72563.80826064528.\n",
      "[I 2024-09-17 19:57:15,757] Trial 433 finished with value: 72563.82203044755 and parameters: {'lgbm_weight': 0.9651263179267324, 'xgb_weight': 0.5150156873272799, 'cb_weight': 0.9171434623710862, 'hgb_weight': 0.9199162847958999, 'gb_weight': 0.764630551538624}. Best is trial 367 with value: 72563.80826064528.\n",
      "[I 2024-09-17 19:57:15,803] Trial 434 finished with value: 72563.96811787786 and parameters: {'lgbm_weight': 0.9826816907719704, 'xgb_weight': 0.5458466926454266, 'cb_weight': 0.9376392539703488, 'hgb_weight': 0.8514116310133691, 'gb_weight': 0.7227858638045723}. Best is trial 367 with value: 72563.80826064528.\n",
      "[I 2024-09-17 19:57:15,849] Trial 435 finished with value: 72563.8160087291 and parameters: {'lgbm_weight': 0.9525339534236634, 'xgb_weight': 0.500692142229557, 'cb_weight': 0.8543443757055299, 'hgb_weight': 0.880889694373424, 'gb_weight': 0.7492496200650296}. Best is trial 367 with value: 72563.80826064528.\n",
      "[I 2024-09-17 19:57:15,897] Trial 436 finished with value: 72571.34997069258 and parameters: {'lgbm_weight': 0.9439039241520811, 'xgb_weight': 0.527440125739717, 'cb_weight': 0.27007859381498955, 'hgb_weight': 0.8719216283479808, 'gb_weight': 0.7402062153632077}. Best is trial 367 with value: 72563.80826064528.\n",
      "[I 2024-09-17 19:57:15,944] Trial 437 finished with value: 72564.3534649623 and parameters: {'lgbm_weight': 0.9116748793122162, 'xgb_weight': 0.5031711206686899, 'cb_weight': 0.8461505337360318, 'hgb_weight': 0.8528868548967745, 'gb_weight': 0.9278623585792072}. Best is trial 367 with value: 72563.80826064528.\n",
      "[I 2024-09-17 19:57:15,991] Trial 438 finished with value: 72563.84455411832 and parameters: {'lgbm_weight': 0.9648784702950067, 'xgb_weight': 0.45325112448340216, 'cb_weight': 0.8594471838538851, 'hgb_weight': 0.8847972548328439, 'gb_weight': 0.7556544118903041}. Best is trial 367 with value: 72563.80826064528.\n",
      "[I 2024-09-17 19:57:16,041] Trial 439 finished with value: 72571.48060979125 and parameters: {'lgbm_weight': 0.9991520037326593, 'xgb_weight': 0.553543187371929, 'cb_weight': 0.8758386084910726, 'hgb_weight': 0.23988083524333748, 'gb_weight': 0.7888144556407364}. Best is trial 367 with value: 72563.80826064528.\n",
      "[I 2024-09-17 19:57:16,087] Trial 440 finished with value: 72563.82635147983 and parameters: {'lgbm_weight': 0.9339607636132239, 'xgb_weight': 0.47987787537671384, 'cb_weight': 0.8563972732112393, 'hgb_weight': 0.875292768788213, 'gb_weight': 0.6975381337666802}. Best is trial 367 with value: 72563.80826064528.\n",
      "[I 2024-09-17 19:57:16,134] Trial 441 finished with value: 72578.01950961466 and parameters: {'lgbm_weight': 0.9799121793927568, 'xgb_weight': 0.5205616636007289, 'cb_weight': 0.8348840519413713, 'hgb_weight': 0.06769777229534446, 'gb_weight': 0.7352585528522955}. Best is trial 367 with value: 72563.80826064528.\n",
      "[I 2024-09-17 19:57:16,180] Trial 442 finished with value: 72563.87971997366 and parameters: {'lgbm_weight': 0.949849121984875, 'xgb_weight': 0.4994780419075982, 'cb_weight': 0.8848918727136335, 'hgb_weight': 0.8948159804345215, 'gb_weight': 0.8199583159693357}. Best is trial 367 with value: 72563.80826064528.\n",
      "[I 2024-09-17 19:57:16,226] Trial 443 finished with value: 72563.89479185834 and parameters: {'lgbm_weight': 0.9690180197840733, 'xgb_weight': 0.5804883030002232, 'cb_weight': 0.8942726078517734, 'hgb_weight': 0.8434615890084975, 'gb_weight': 0.7746761386312186}. Best is trial 367 with value: 72563.80826064528.\n",
      "[I 2024-09-17 19:57:16,273] Trial 444 finished with value: 72563.86138173543 and parameters: {'lgbm_weight': 0.9807217391107541, 'xgb_weight': 0.533823341622998, 'cb_weight': 0.8704879153736743, 'hgb_weight': 0.9329724637976251, 'gb_weight': 0.7212818661129797}. Best is trial 367 with value: 72563.80826064528.\n",
      "[I 2024-09-17 19:57:16,319] Trial 445 finished with value: 72563.87208590623 and parameters: {'lgbm_weight': 0.9258680456127469, 'xgb_weight': 0.4676575817195148, 'cb_weight': 0.9054916636211983, 'hgb_weight': 0.8638578512023337, 'gb_weight': 0.794450466799287}. Best is trial 367 with value: 72563.80826064528.\n",
      "[I 2024-09-17 19:57:16,366] Trial 446 finished with value: 72565.60622944504 and parameters: {'lgbm_weight': 0.9529006507253385, 'xgb_weight': 0.14371166563076487, 'cb_weight': 0.9560600779683943, 'hgb_weight': 0.9109754948453868, 'gb_weight': 0.7488248328956172}. Best is trial 367 with value: 72563.80826064528.\n",
      "[I 2024-09-17 19:57:16,414] Trial 447 finished with value: 72568.28040526803 and parameters: {'lgbm_weight': 0.5415794938458474, 'xgb_weight': 0.5116648024089235, 'cb_weight': 0.8441794453009474, 'hgb_weight': 0.8857037704350532, 'gb_weight': 0.7629344773057736}. Best is trial 367 with value: 72563.80826064528.\n",
      "[I 2024-09-17 19:57:16,461] Trial 448 finished with value: 72568.30187739716 and parameters: {'lgbm_weight': 0.5936317840464498, 'xgb_weight': 0.4870097699185021, 'cb_weight': 0.8919145865960407, 'hgb_weight': 0.9960597774239642, 'gb_weight': 0.774837320668604}. Best is trial 367 with value: 72563.80826064528.\n",
      "[I 2024-09-17 19:57:16,510] Trial 449 finished with value: 72563.84960553837 and parameters: {'lgbm_weight': 0.9814831298864172, 'xgb_weight': 0.5615564208707354, 'cb_weight': 0.9264350117361096, 'hgb_weight': 0.9378923153755341, 'gb_weight': 0.7503941151640334}. Best is trial 367 with value: 72563.80826064528.\n",
      "[I 2024-09-17 19:57:16,558] Trial 450 finished with value: 72565.84928032236 and parameters: {'lgbm_weight': 0.959855055157813, 'xgb_weight': 0.534941285460865, 'cb_weight': 0.5700156291874334, 'hgb_weight': 0.907787735680388, 'gb_weight': 0.8208581879225915}. Best is trial 367 with value: 72563.80826064528.\n",
      "[I 2024-09-17 19:57:16,606] Trial 451 finished with value: 72563.8286166776 and parameters: {'lgbm_weight': 0.9345152206750398, 'xgb_weight': 0.446559255847997, 'cb_weight': 0.8611907596708935, 'hgb_weight': 0.8695252138002878, 'gb_weight': 0.7241795653288563}. Best is trial 367 with value: 72563.80826064528.\n",
      "[I 2024-09-17 19:57:16,654] Trial 452 finished with value: 72563.805430517 and parameters: {'lgbm_weight': 0.9978817042505832, 'xgb_weight': 0.5111651450478806, 'cb_weight': 0.9080146446270807, 'hgb_weight': 0.8948830916081674, 'gb_weight': 0.7929375226877938}. Best is trial 452 with value: 72563.805430517.\n",
      "[I 2024-09-17 19:57:16,702] Trial 453 finished with value: 72570.28865245706 and parameters: {'lgbm_weight': 0.9991556509686456, 'xgb_weight': 0.4203404439910738, 'cb_weight': 0.3516020492765878, 'hgb_weight': 0.9179685005605811, 'gb_weight': 0.7956293630645731}. Best is trial 452 with value: 72563.805430517.\n",
      "[I 2024-09-17 19:57:16,749] Trial 454 finished with value: 72563.96038752841 and parameters: {'lgbm_weight': 0.9685574403477009, 'xgb_weight': 0.4897000943069602, 'cb_weight': 0.8786627481241677, 'hgb_weight': 0.9566647980103251, 'gb_weight': 0.8119868092063212}. Best is trial 452 with value: 72563.805430517.\n",
      "[I 2024-09-17 19:57:16,797] Trial 455 finished with value: 72563.85782606386 and parameters: {'lgbm_weight': 0.9988114925856072, 'xgb_weight': 0.5083734624200288, 'cb_weight': 0.9011702052745522, 'hgb_weight': 0.8449491620535353, 'gb_weight': 0.8409081684965273}. Best is trial 452 with value: 72563.805430517.\n",
      "[I 2024-09-17 19:57:16,844] Trial 456 finished with value: 72563.82628178093 and parameters: {'lgbm_weight': 0.9502324581039069, 'xgb_weight': 0.4704977690835685, 'cb_weight': 0.8839460737848346, 'hgb_weight': 0.8962023923291346, 'gb_weight': 0.7542700497082067}. Best is trial 452 with value: 72563.805430517.\n",
      "[I 2024-09-17 19:57:16,894] Trial 457 finished with value: 72563.9381355536 and parameters: {'lgbm_weight': 0.9108821020609562, 'xgb_weight': 0.5148372503752411, 'cb_weight': 0.9061733310383179, 'hgb_weight': 0.9305479822065705, 'gb_weight': 0.7021882623959954}. Best is trial 452 with value: 72563.805430517.\n",
      "[I 2024-09-17 19:57:16,941] Trial 458 finished with value: 72563.84017147863 and parameters: {'lgbm_weight': 0.9822487890679238, 'xgb_weight': 0.48728815094706934, 'cb_weight': 0.8587159703228522, 'hgb_weight': 0.8621823192824576, 'gb_weight': 0.7839306080938457}. Best is trial 452 with value: 72563.805430517.\n",
      "[I 2024-09-17 19:57:16,988] Trial 459 finished with value: 72563.87575098014 and parameters: {'lgbm_weight': 0.9652509275664664, 'xgb_weight': 0.4621708580003096, 'cb_weight': 0.8271213670941864, 'hgb_weight': 0.8895462515945913, 'gb_weight': 0.7330792592323685}. Best is trial 452 with value: 72563.805430517.\n",
      "[I 2024-09-17 19:57:17,036] Trial 460 finished with value: 72563.83467593616 and parameters: {'lgbm_weight': 0.9994593181269178, 'xgb_weight': 0.5013603451101704, 'cb_weight': 0.8745871386276138, 'hgb_weight': 0.9155059541612983, 'gb_weight': 0.765889483954409}. Best is trial 452 with value: 72563.805430517.\n",
      "[I 2024-09-17 19:57:17,085] Trial 461 finished with value: 72571.26812212705 and parameters: {'lgbm_weight': 0.9460797043005672, 'xgb_weight': 0.524887587829966, 'cb_weight': 0.9097475099835605, 'hgb_weight': 0.8779929295605751, 'gb_weight': 0.13436112420255641}. Best is trial 452 with value: 72563.805430517.\n",
      "[I 2024-09-17 19:57:17,132] Trial 462 finished with value: 72563.89566050415 and parameters: {'lgbm_weight': 0.9711608332946466, 'xgb_weight': 0.48185547677476565, 'cb_weight': 0.9490037241398304, 'hgb_weight': 0.9513887013087701, 'gb_weight': 0.7974052321588505}. Best is trial 452 with value: 72563.805430517.\n",
      "[I 2024-09-17 19:57:17,180] Trial 463 finished with value: 72564.5957078669 and parameters: {'lgbm_weight': 0.9264058936282847, 'xgb_weight': 0.44791608560747714, 'cb_weight': 0.6504326652653307, 'hgb_weight': 0.8505511706368691, 'gb_weight': 0.7364724579723169}. Best is trial 452 with value: 72563.805430517.\n",
      "[I 2024-09-17 19:57:17,228] Trial 464 finished with value: 72563.81686476467 and parameters: {'lgbm_weight': 0.9999124239181141, 'xgb_weight': 0.5031363225891778, 'cb_weight': 0.8935294411072416, 'hgb_weight': 0.9049773940304953, 'gb_weight': 0.7652196683368054}. Best is trial 452 with value: 72563.805430517.\n",
      "[I 2024-09-17 19:57:17,275] Trial 465 finished with value: 72563.92481327217 and parameters: {'lgbm_weight': 0.9983989751813167, 'xgb_weight': 0.5278683906900706, 'cb_weight': 0.8385956879054758, 'hgb_weight': 0.9282734891439417, 'gb_weight': 0.7126247549615063}. Best is trial 452 with value: 72563.805430517.\n",
      "[I 2024-09-17 19:57:17,322] Trial 466 finished with value: 72563.82030122842 and parameters: {'lgbm_weight': 0.9816646000193756, 'xgb_weight': 0.5062247711348422, 'cb_weight': 0.9253277820975365, 'hgb_weight': 0.906622417862382, 'gb_weight': 0.7497156420681481}. Best is trial 452 with value: 72563.805430517.\n",
      "[I 2024-09-17 19:57:17,370] Trial 467 finished with value: 72565.15536326892 and parameters: {'lgbm_weight': 0.9819262147014808, 'xgb_weight': 0.8930879366898596, 'cb_weight': 0.9682272107947393, 'hgb_weight': 0.9040477903502206, 'gb_weight': 0.7549510841327917}. Best is trial 452 with value: 72563.805430517.\n",
      "[I 2024-09-17 19:57:17,418] Trial 468 finished with value: 72563.87302549055 and parameters: {'lgbm_weight': 0.9991520770141993, 'xgb_weight': 0.5399375641701397, 'cb_weight': 0.9391823854279999, 'hgb_weight': 0.8971758482059577, 'gb_weight': 0.7392373931976575}. Best is trial 452 with value: 72563.805430517.\n",
      "[I 2024-09-17 19:57:17,465] Trial 469 finished with value: 72563.8240144116 and parameters: {'lgbm_weight': 0.9841884882675794, 'xgb_weight': 0.5099363387436968, 'cb_weight': 0.9278027796739312, 'hgb_weight': 0.9401673744470318, 'gb_weight': 0.7732792669393596}. Best is trial 452 with value: 72563.805430517.\n",
      "[I 2024-09-17 19:57:17,513] Trial 470 finished with value: 72563.86114195363 and parameters: {'lgbm_weight': 0.9802707716943602, 'xgb_weight': 0.4666869076112788, 'cb_weight': 0.912852266476954, 'hgb_weight': 0.881775706466504, 'gb_weight': 0.7221075180025562}. Best is trial 452 with value: 72563.805430517.\n",
      "[I 2024-09-17 19:57:17,562] Trial 471 finished with value: 72563.87444297563 and parameters: {'lgbm_weight': 0.9797836352976704, 'xgb_weight': 0.49207469216799177, 'cb_weight': 0.9371298529224573, 'hgb_weight': 0.966245918894347, 'gb_weight': 0.7469212759593677}. Best is trial 452 with value: 72563.805430517.\n",
      "[I 2024-09-17 19:57:17,608] Trial 472 finished with value: 72563.80472962357 and parameters: {'lgbm_weight': 0.9990849050516784, 'xgb_weight': 0.518980126219573, 'cb_weight': 0.9121555241767723, 'hgb_weight': 0.9054546807335766, 'gb_weight': 0.7799098358507116}. Best is trial 472 with value: 72563.80472962357.\n",
      "[I 2024-09-17 19:57:17,657] Trial 473 finished with value: 72563.98795000529 and parameters: {'lgbm_weight': 0.999691750638919, 'xgb_weight': 0.5354750715506004, 'cb_weight': 0.9576722429592881, 'hgb_weight': 0.9212805040771731, 'gb_weight': 0.6907245806631785}. Best is trial 472 with value: 72563.80472962357.\n",
      "[I 2024-09-17 19:57:17,706] Trial 474 finished with value: 72563.80259666406 and parameters: {'lgbm_weight': 0.9996162250769522, 'xgb_weight': 0.5189806732479, 'cb_weight': 0.9221285480015954, 'hgb_weight': 0.9109725937299596, 'gb_weight': 0.7860401239426149}. Best is trial 474 with value: 72563.80259666406.\n",
      "[I 2024-09-17 19:57:17,754] Trial 475 finished with value: 72563.89439222912 and parameters: {'lgbm_weight': 0.9645925311437911, 'xgb_weight': 0.5527643663613723, 'cb_weight': 0.9323438632067964, 'hgb_weight': 0.9470482367740325, 'gb_weight': 0.8224643279930081}. Best is trial 474 with value: 72563.80259666406.\n",
      "[I 2024-09-17 19:57:17,801] Trial 476 finished with value: 72563.84044426537 and parameters: {'lgbm_weight': 0.9998676499305632, 'xgb_weight': 0.5223174736543895, 'cb_weight': 0.9806411355347089, 'hgb_weight': 0.9149951285163239, 'gb_weight': 0.7958189493050271}. Best is trial 474 with value: 72563.80259666406.\n",
      "[I 2024-09-17 19:57:17,848] Trial 477 finished with value: 72563.88603549312 and parameters: {'lgbm_weight': 0.9631975158974238, 'xgb_weight': 0.560621175500094, 'cb_weight': 0.9619435480564649, 'hgb_weight': 0.9389701187862286, 'gb_weight': 0.7857462583844103}. Best is trial 474 with value: 72563.80259666406.\n",
      "[I 2024-09-17 19:57:17,898] Trial 478 finished with value: 72567.8404452096 and parameters: {'lgbm_weight': 0.9987308599468288, 'xgb_weight': 0.5227763416760615, 'cb_weight': 0.9160628022461861, 'hgb_weight': 0.9047839667895451, 'gb_weight': 0.29261984786178125}. Best is trial 474 with value: 72563.80259666406.\n",
      "[I 2024-09-17 19:57:17,946] Trial 479 finished with value: 72563.83046466832 and parameters: {'lgbm_weight': 0.9815183988922287, 'xgb_weight': 0.5388371504877167, 'cb_weight': 0.9287547410583955, 'hgb_weight': 0.9331351894052775, 'gb_weight': 0.8086752471843225}. Best is trial 474 with value: 72563.80259666406.\n",
      "[I 2024-09-17 19:57:17,994] Trial 480 finished with value: 72563.83195538711 and parameters: {'lgbm_weight': 0.9551736021679612, 'xgb_weight': 0.5161427306888465, 'cb_weight': 0.877921382316339, 'hgb_weight': 0.9062611615281027, 'gb_weight': 0.778717057978296}. Best is trial 474 with value: 72563.80259666406.\n",
      "[I 2024-09-17 19:57:18,043] Trial 481 finished with value: 72563.90324485191 and parameters: {'lgbm_weight': 0.9813641900536324, 'xgb_weight': 0.575977893308024, 'cb_weight': 0.9447164476564411, 'hgb_weight': 0.9740465203028816, 'gb_weight': 0.7410770618141973}. Best is trial 474 with value: 72563.80259666406.\n",
      "[I 2024-09-17 19:57:18,093] Trial 482 finished with value: 72566.40370424927 and parameters: {'lgbm_weight': 0.9989391874419108, 'xgb_weight': 0.09156223607504321, 'cb_weight': 0.9177187669332044, 'hgb_weight': 0.9238943147114463, 'gb_weight': 0.8564337631928344}. Best is trial 474 with value: 72563.80259666406.\n",
      "[I 2024-09-17 19:57:18,142] Trial 483 finished with value: 72567.95325634448 and parameters: {'lgbm_weight': 0.9452178906623624, 'xgb_weight': 0.5465946360626511, 'cb_weight': 0.4162441846572627, 'hgb_weight': 0.8931581052791329, 'gb_weight': 0.7669601488666767}. Best is trial 474 with value: 72563.80259666406.\n",
      "[I 2024-09-17 19:57:18,190] Trial 484 finished with value: 72563.89500702791 and parameters: {'lgbm_weight': 0.9665462034451922, 'xgb_weight': 0.5104883335911381, 'cb_weight': 0.8871202499878602, 'hgb_weight': 0.954246823278837, 'gb_weight': 0.7898560281095283}. Best is trial 474 with value: 72563.80259666406.\n",
      "[I 2024-09-17 19:57:18,237] Trial 485 finished with value: 72563.89718092483 and parameters: {'lgbm_weight': 0.9995401050213294, 'xgb_weight': 0.5347860030763358, 'cb_weight': 0.8593217120901104, 'hgb_weight': 0.9110503716221252, 'gb_weight': 0.828431708266912}. Best is trial 474 with value: 72563.80259666406.\n",
      "[I 2024-09-17 19:57:18,286] Trial 486 finished with value: 72563.85463960165 and parameters: {'lgbm_weight': 0.9485478245843202, 'xgb_weight': 0.5074948682098244, 'cb_weight': 0.9126434920784546, 'hgb_weight': 0.8934114165322429, 'gb_weight': 0.7114798343835379}. Best is trial 474 with value: 72563.80259666406.\n",
      "[I 2024-09-17 19:57:18,332] Trial 487 finished with value: 72563.82745294359 and parameters: {'lgbm_weight': 0.9767094847255443, 'xgb_weight': 0.5260456980936054, 'cb_weight': 0.8890610010659507, 'hgb_weight': 0.9303438231665939, 'gb_weight': 0.7506680743236943}. Best is trial 474 with value: 72563.80259666406.\n",
      "[I 2024-09-17 19:57:18,379] Trial 488 finished with value: 72563.94901769064 and parameters: {'lgbm_weight': 0.9634198489437026, 'xgb_weight': 0.5547068146781965, 'cb_weight': 0.9934114805180159, 'hgb_weight': 0.8842999544049659, 'gb_weight': 0.7758640068843556}. Best is trial 474 with value: 72563.80259666406.\n",
      "[I 2024-09-17 19:57:18,426] Trial 489 finished with value: 72563.9707088284 and parameters: {'lgbm_weight': 0.9344472044379941, 'xgb_weight': 0.605682117883678, 'cb_weight': 0.9376820404387025, 'hgb_weight': 0.91445368875659, 'gb_weight': 0.8038385898350816}. Best is trial 474 with value: 72563.80259666406.\n",
      "[I 2024-09-17 19:57:18,474] Trial 490 finished with value: 72563.83901038948 and parameters: {'lgbm_weight': 0.9826942865882412, 'xgb_weight': 0.4818250215362941, 'cb_weight': 0.8663582822245239, 'hgb_weight': 0.8996988556608991, 'gb_weight': 0.7319195403870399}. Best is trial 474 with value: 72563.80259666406.\n",
      "[I 2024-09-17 19:57:18,521] Trial 491 finished with value: 72563.8781413525 and parameters: {'lgbm_weight': 0.9646680974533446, 'xgb_weight': 0.5006182240505562, 'cb_weight': 0.9537380920146926, 'hgb_weight': 0.9460871433187488, 'gb_weight': 0.7617292978207475}. Best is trial 474 with value: 72563.80259666406.\n",
      "[I 2024-09-17 19:57:18,571] Trial 492 finished with value: 72563.82304431473 and parameters: {'lgbm_weight': 0.9455684381886372, 'xgb_weight': 0.518601235791601, 'cb_weight': 0.9044994024292781, 'hgb_weight': 0.8806633684379135, 'gb_weight': 0.7848978828076032}. Best is trial 474 with value: 72563.80259666406.\n",
      "[I 2024-09-17 19:57:18,618] Trial 493 finished with value: 72563.90406812327 and parameters: {'lgbm_weight': 0.9232895959462194, 'xgb_weight': 0.539862854149782, 'cb_weight': 0.846163171360629, 'hgb_weight': 0.9241272584390614, 'gb_weight': 0.7208885864293115}. Best is trial 474 with value: 72563.80259666406.\n",
      "[I 2024-09-17 19:57:18,667] Trial 494 finished with value: 72571.5252833671 and parameters: {'lgbm_weight': 0.4393778448107416, 'xgb_weight': 0.4884549938086225, 'cb_weight': 0.9238611885137405, 'hgb_weight': 0.9044597993746126, 'gb_weight': 0.747367296778821}. Best is trial 474 with value: 72563.80259666406.\n",
      "[I 2024-09-17 19:57:18,716] Trial 495 finished with value: 72565.32419653551 and parameters: {'lgbm_weight': 0.9994131381767014, 'xgb_weight': 0.5641546013816083, 'cb_weight': 0.8783753072556668, 'hgb_weight': 0.577488119608519, 'gb_weight': 0.8086872413644338}. Best is trial 474 with value: 72563.80259666406.\n",
      "[I 2024-09-17 19:57:18,765] Trial 496 finished with value: 72563.80422365191 and parameters: {'lgbm_weight': 0.9780673623887772, 'xgb_weight': 0.5072754112030244, 'cb_weight': 0.896938489697381, 'hgb_weight': 0.8803544510454024, 'gb_weight': 0.7680844954403182}. Best is trial 474 with value: 72563.80259666406.\n",
      "[I 2024-09-17 19:57:18,814] Trial 497 finished with value: 72563.82841738187 and parameters: {'lgbm_weight': 0.9581936612612078, 'xgb_weight': 0.5253283915756906, 'cb_weight': 0.8627136484105873, 'hgb_weight': 0.8752878476956256, 'gb_weight': 0.7861666273904561}. Best is trial 474 with value: 72563.80259666406.\n",
      "[I 2024-09-17 19:57:18,863] Trial 498 finished with value: 72564.00943229572 and parameters: {'lgbm_weight': 0.9077905891764175, 'xgb_weight': 0.48457237632841027, 'cb_weight': 0.8921998574072647, 'hgb_weight': 0.8816974203007578, 'gb_weight': 0.8336008713953132}. Best is trial 474 with value: 72563.80259666406.\n",
      "[I 2024-09-17 19:57:18,911] Trial 499 finished with value: 72563.8602517199 and parameters: {'lgbm_weight': 0.9997757750483344, 'xgb_weight': 0.5436042236843128, 'cb_weight': 0.881345166521558, 'hgb_weight': 0.8649052554539768, 'gb_weight': 0.7688927722126904}. Best is trial 474 with value: 72563.80259666406.\n"
     ]
    }
   ],
   "source": [
    "sampler = optuna.samplers.TPESampler(seed=CFG.seed)\n",
    "study = optuna.create_study(direction='minimize', sampler=sampler)\n",
    "study.optimize(objective, n_trials=500)"
   ]
  },
  {
   "cell_type": "code",
   "execution_count": 20,
   "id": "13da2d0c",
   "metadata": {
    "execution": {
     "iopub.execute_input": "2024-09-17T19:57:19.013379Z",
     "iopub.status.busy": "2024-09-17T19:57:19.012963Z",
     "iopub.status.idle": "2024-09-17T19:57:19.018758Z",
     "shell.execute_reply": "2024-09-17T19:57:19.017681Z"
    },
    "papermill": {
     "duration": 0.055261,
     "end_time": "2024-09-17T19:57:19.020980",
     "exception": false,
     "start_time": "2024-09-17T19:57:18.965719",
     "status": "completed"
    },
    "tags": []
   },
   "outputs": [],
   "source": [
    "scores['Weighted Averaging'] = [study.best_value] * CFG.n_folds"
   ]
  },
  {
   "cell_type": "code",
   "execution_count": 21,
   "id": "d18dee41",
   "metadata": {
    "execution": {
     "iopub.execute_input": "2024-09-17T19:57:19.113480Z",
     "iopub.status.busy": "2024-09-17T19:57:19.113055Z",
     "iopub.status.idle": "2024-09-17T19:57:19.118888Z",
     "shell.execute_reply": "2024-09-17T19:57:19.117840Z"
    },
    "papermill": {
     "duration": 0.054657,
     "end_time": "2024-09-17T19:57:19.120994",
     "exception": false,
     "start_time": "2024-09-17T19:57:19.066337",
     "status": "completed"
    },
    "tags": []
   },
   "outputs": [],
   "source": [
    "best_weights = study.best_params\n",
    "best_weights = [best_weights[f'{model}_weight'] for model in ['lgbm', 'xgb', 'cb', 'hgb', 'gb']]\n",
    "best_weights /= np.sum(best_weights)"
   ]
  },
  {
   "cell_type": "code",
   "execution_count": 22,
   "id": "3537cd7f",
   "metadata": {
    "execution": {
     "iopub.execute_input": "2024-09-17T19:57:19.213869Z",
     "iopub.status.busy": "2024-09-17T19:57:19.213408Z",
     "iopub.status.idle": "2024-09-17T19:57:19.653445Z",
     "shell.execute_reply": "2024-09-17T19:57:19.652210Z"
    },
    "papermill": {
     "duration": 0.489327,
     "end_time": "2024-09-17T19:57:19.655861",
     "exception": false,
     "start_time": "2024-09-17T19:57:19.166534",
     "status": "completed"
    },
    "tags": []
   },
   "outputs": [
    {
     "data": {
      "image/png": "[encoded data removed]",
      "text/plain": [
       "<Figure size 1000x400 with 1 Axes>"
      ]
     },
     "metadata": {},
     "output_type": "display_data"
    }
   ],
   "source": [
    "plot_weights('Optuna Weights', best_weights)"
   ]
  },
  {
   "cell_type": "markdown",
   "id": "d52269cd",
   "metadata": {
    "papermill": {
     "duration": 0.046519,
     "end_time": "2024-09-17T19:57:19.749943",
     "exception": false,
     "start_time": "2024-09-17T19:57:19.703424",
     "status": "completed"
    },
    "tags": []
   },
   "source": [
    "To make predictions with this 'model', we can simply use the weights that we found and take the weighted average of the test predictions of each base model."
   ]
  },
  {
   "cell_type": "code",
   "execution_count": 23,
   "id": "e9a48dbe",
   "metadata": {
    "execution": {
     "iopub.execute_input": "2024-09-17T19:57:19.846313Z",
     "iopub.status.busy": "2024-09-17T19:57:19.845068Z",
     "iopub.status.idle": "2024-09-17T19:57:19.852843Z",
     "shell.execute_reply": "2024-09-17T19:57:19.851531Z"
    },
    "papermill": {
     "duration": 0.058367,
     "end_time": "2024-09-17T19:57:19.855165",
     "exception": false,
     "start_time": "2024-09-17T19:57:19.796798",
     "status": "completed"
    },
    "tags": []
   },
   "outputs": [],
   "source": [
    "weighted_test_preds = np.zeros((test.shape[0]))\n",
    "for model, weight in zip(test_preds.keys(), best_weights):\n",
    "    weighted_test_preds += test_preds[model] * weight"
   ]
  },
  {
   "cell_type": "code",
   "execution_count": 24,
   "id": "c8bfe12a",
   "metadata": {
    "execution": {
     "iopub.execute_input": "2024-09-17T19:57:19.951681Z",
     "iopub.status.busy": "2024-09-17T19:57:19.951249Z",
     "iopub.status.idle": "2024-09-17T19:57:20.308665Z",
     "shell.execute_reply": "2024-09-17T19:57:20.307459Z"
    },
    "papermill": {
     "duration": 0.407699,
     "end_time": "2024-09-17T19:57:20.311092",
     "exception": false,
     "start_time": "2024-09-17T19:57:19.903393",
     "status": "completed"
    },
    "tags": []
   },
   "outputs": [
    {
     "data": {
      "text/html": [
       "<div>\n",
       "<style scoped>\n",
       "    .dataframe tbody tr th:only-of-type {\n",
       "        vertical-align: middle;\n",
       "    }\n",
       "\n",
       "    .dataframe tbody tr th {\n",
       "        vertical-align: top;\n",
       "    }\n",
       "\n",
       "    .dataframe thead th {\n",
       "        text-align: right;\n",
       "    }\n",
       "</style>\n",
       "<table border=\"1\" class=\"dataframe\">\n",
       "  <thead>\n",
       "    <tr style=\"text-align: right;\">\n",
       "      <th></th>\n",
       "      <th>id</th>\n",
       "      <th>price</th>\n",
       "    </tr>\n",
       "  </thead>\n",
       "  <tbody>\n",
       "    <tr>\n",
       "      <th>0</th>\n",
       "      <td>188533</td>\n",
       "      <td>18914.594238</td>\n",
       "    </tr>\n",
       "    <tr>\n",
       "      <th>1</th>\n",
       "      <td>188534</td>\n",
       "      <td>81754.237305</td>\n",
       "    </tr>\n",
       "    <tr>\n",
       "      <th>2</th>\n",
       "      <td>188535</td>\n",
       "      <td>54673.059082</td>\n",
       "    </tr>\n",
       "    <tr>\n",
       "      <th>3</th>\n",
       "      <td>188536</td>\n",
       "      <td>24966.939209</td>\n",
       "    </tr>\n",
       "    <tr>\n",
       "      <th>4</th>\n",
       "      <td>188537</td>\n",
       "      <td>31082.438477</td>\n",
       "    </tr>\n",
       "  </tbody>\n",
       "</table>\n",
       "</div>"
      ],
      "text/plain": [
       "       id         price\n",
       "0  188533  18914.594238\n",
       "1  188534  81754.237305\n",
       "2  188535  54673.059082\n",
       "3  188536  24966.939209\n",
       "4  188537  31082.438477"
      ]
     },
     "execution_count": 24,
     "metadata": {},
     "output_type": "execute_result"
    }
   ],
   "source": [
    "save_submission(weighted_test_preds, 'weighted-averaging', study.best_value).head()"
   ]
  },
  {
   "cell_type": "markdown",
   "id": "0007fe33",
   "metadata": {
    "papermill": {
     "duration": 0.045989,
     "end_time": "2024-09-17T19:57:20.404053",
     "exception": false,
     "start_time": "2024-09-17T19:57:20.358064",
     "status": "completed"
    },
    "tags": []
   },
   "source": [
    "## Ridge\n",
    "\n",
    "Instead of tuning ensemble weights, we can use a meta-model that uses the predictions of the base models as features and learns the best way to combine them. The regularized linear model, Ridge, is a popular choice for this purpose. It learns a linear combination of the features and assigns weights to each model that minimizes its error. The L2 regularization term in Ridge penalizes large weights (coefficients), ensuring that no single model dominates the ensemble.\n",
    "\n",
    "Since we are using predictions as features, it is likely that these features are highly correlated with each other. Ridge tends to be more effective at handling this multicollinearity than the previous method.\n",
    "\n",
    "Before feeding the predictions to the model, I will create a dataframe out of the prediction and scale the values using `MinMaxScaler`. This gives a small boost to the CV score."
   ]
  },
  {
   "cell_type": "code",
   "execution_count": 25,
   "id": "8e59092b",
   "metadata": {
    "execution": {
     "iopub.execute_input": "2024-09-17T19:57:20.498519Z",
     "iopub.status.busy": "2024-09-17T19:57:20.498083Z",
     "iopub.status.idle": "2024-09-17T19:57:20.514448Z",
     "shell.execute_reply": "2024-09-17T19:57:20.513520Z"
    },
    "papermill": {
     "duration": 0.066528,
     "end_time": "2024-09-17T19:57:20.517034",
     "exception": false,
     "start_time": "2024-09-17T19:57:20.450506",
     "status": "completed"
    },
    "tags": []
   },
   "outputs": [],
   "source": [
    "_X = pd.DataFrame(oof_preds)\n",
    "_X_test = pd.DataFrame(test_preds)\n",
    "\n",
    "scaler = MinMaxScaler().set_output(transform='pandas')\n",
    "_X = scaler.fit_transform(_X)\n",
    "_X_test = scaler.transform(_X_test)"
   ]
  },
  {
   "cell_type": "code",
   "execution_count": 26,
   "id": "117a3f43",
   "metadata": {
    "execution": {
     "iopub.execute_input": "2024-09-17T19:57:20.611780Z",
     "iopub.status.busy": "2024-09-17T19:57:20.611368Z",
     "iopub.status.idle": "2024-09-17T19:57:21.991457Z",
     "shell.execute_reply": "2024-09-17T19:57:21.990456Z"
    },
    "papermill": {
     "duration": 1.430065,
     "end_time": "2024-09-17T19:57:21.993590",
     "exception": false,
     "start_time": "2024-09-17T19:57:20.563525",
     "status": "completed"
    },
    "tags": []
   },
   "outputs": [
    {
     "name": "stdout",
     "output_type": "stream",
     "text": [
      "Training Ridge\n",
      "\n",
      "--- Fold 1 - RMSE: 71774\n",
      "--- Fold 2 - RMSE: 73129\n",
      "--- Fold 3 - RMSE: 72534\n",
      "--- Fold 4 - RMSE: 72013\n",
      "--- Fold 5 - RMSE: 73332\n",
      "\n",
      "Overall RMSE: 72559 ± 606\n"
     ]
    }
   ],
   "source": [
    "ridge_model = Ridge()\n",
    "ridge_trainer = Trainer(ridge_model, CFG, True)\n",
    "_, ridge_test_preds, scores['Ridge'], ridge_coeffs = ridge_trainer.fit_predict(_X, y, _X_test)"
   ]
  },
  {
   "cell_type": "code",
   "execution_count": 27,
   "id": "796c619f",
   "metadata": {
    "execution": {
     "iopub.execute_input": "2024-09-17T19:57:22.090744Z",
     "iopub.status.busy": "2024-09-17T19:57:22.090311Z",
     "iopub.status.idle": "2024-09-17T19:57:22.490570Z",
     "shell.execute_reply": "2024-09-17T19:57:22.489497Z"
    },
    "papermill": {
     "duration": 0.451565,
     "end_time": "2024-09-17T19:57:22.493011",
     "exception": false,
     "start_time": "2024-09-17T19:57:22.041446",
     "status": "completed"
    },
    "tags": []
   },
   "outputs": [
    {
     "data": {
      "image/png": "[encoded data removed]",
      "text/plain": [
       "<Figure size 1000x400 with 1 Axes>"
      ]
     },
     "metadata": {},
     "output_type": "display_data"
    }
   ],
   "source": [
    "plot_weights('Ridge coefficients', ridge_coeffs)"
   ]
  },
  {
   "cell_type": "code",
   "execution_count": 28,
   "id": "1d9b2014",
   "metadata": {
    "execution": {
     "iopub.execute_input": "2024-09-17T19:57:22.591690Z",
     "iopub.status.busy": "2024-09-17T19:57:22.591251Z",
     "iopub.status.idle": "2024-09-17T19:57:22.832900Z",
     "shell.execute_reply": "2024-09-17T19:57:22.831775Z"
    },
    "papermill": {
     "duration": 0.293428,
     "end_time": "2024-09-17T19:57:22.835339",
     "exception": false,
     "start_time": "2024-09-17T19:57:22.541911",
     "status": "completed"
    },
    "tags": []
   },
   "outputs": [
    {
     "data": {
      "text/html": [
       "<div>\n",
       "<style scoped>\n",
       "    .dataframe tbody tr th:only-of-type {\n",
       "        vertical-align: middle;\n",
       "    }\n",
       "\n",
       "    .dataframe tbody tr th {\n",
       "        vertical-align: top;\n",
       "    }\n",
       "\n",
       "    .dataframe thead th {\n",
       "        text-align: right;\n",
       "    }\n",
       "</style>\n",
       "<table border=\"1\" class=\"dataframe\">\n",
       "  <thead>\n",
       "    <tr style=\"text-align: right;\">\n",
       "      <th></th>\n",
       "      <th>id</th>\n",
       "      <th>price</th>\n",
       "    </tr>\n",
       "  </thead>\n",
       "  <tbody>\n",
       "    <tr>\n",
       "      <th>0</th>\n",
       "      <td>188533</td>\n",
       "      <td>17915.552734</td>\n",
       "    </tr>\n",
       "    <tr>\n",
       "      <th>1</th>\n",
       "      <td>188534</td>\n",
       "      <td>83386.171875</td>\n",
       "    </tr>\n",
       "    <tr>\n",
       "      <th>2</th>\n",
       "      <td>188535</td>\n",
       "      <td>55181.238281</td>\n",
       "    </tr>\n",
       "    <tr>\n",
       "      <th>3</th>\n",
       "      <td>188536</td>\n",
       "      <td>24250.074219</td>\n",
       "    </tr>\n",
       "    <tr>\n",
       "      <th>4</th>\n",
       "      <td>188537</td>\n",
       "      <td>30523.830078</td>\n",
       "    </tr>\n",
       "  </tbody>\n",
       "</table>\n",
       "</div>"
      ],
      "text/plain": [
       "       id         price\n",
       "0  188533  17915.552734\n",
       "1  188534  83386.171875\n",
       "2  188535  55181.238281\n",
       "3  188536  24250.074219\n",
       "4  188537  30523.830078"
      ]
     },
     "execution_count": 28,
     "metadata": {},
     "output_type": "execute_result"
    }
   ],
   "source": [
    "save_submission(ridge_test_preds, 'ridge', np.mean(scores['Ridge'])).head()"
   ]
  },
  {
   "cell_type": "markdown",
   "id": "80b5c6d0",
   "metadata": {
    "papermill": {
     "duration": 0.047601,
     "end_time": "2024-09-17T19:57:22.935082",
     "exception": false,
     "start_time": "2024-09-17T19:57:22.887481",
     "status": "completed"
    },
    "tags": []
   },
   "source": [
    "## Lasso\n",
    "\n",
    "Lasso is another good option when choosing a meta-model for ensembling. Similar to Ridge, Lasso is a regularized linear model. However, unlike Ridge, which includes an L2 regularization term, Lasso has an inbuilt L1 regularization. One interesting property of Lasso is that it can set a models weight to zero, meaning it essentially performs feature selection and discards the least useful features."
   ]
  },
  {
   "cell_type": "code",
   "execution_count": 29,
   "id": "29e1db4a",
   "metadata": {
    "execution": {
     "iopub.execute_input": "2024-09-17T19:57:23.033619Z",
     "iopub.status.busy": "2024-09-17T19:57:23.033156Z",
     "iopub.status.idle": "2024-09-17T19:57:24.748900Z",
     "shell.execute_reply": "2024-09-17T19:57:24.747784Z"
    },
    "papermill": {
     "duration": 1.767875,
     "end_time": "2024-09-17T19:57:24.751382",
     "exception": false,
     "start_time": "2024-09-17T19:57:22.983507",
     "status": "completed"
    },
    "tags": []
   },
   "outputs": [
    {
     "name": "stdout",
     "output_type": "stream",
     "text": [
      "Training Lasso\n",
      "\n",
      "--- Fold 1 - RMSE: 71774\n",
      "--- Fold 2 - RMSE: 73129\n",
      "--- Fold 3 - RMSE: 72534\n",
      "--- Fold 4 - RMSE: 72013\n",
      "--- Fold 5 - RMSE: 73332\n",
      "\n",
      "Overall RMSE: 72559 ± 606\n"
     ]
    }
   ],
   "source": [
    "lasso_model = Lasso()\n",
    "lasso_trainer = Trainer(lasso_model, CFG, True)\n",
    "_, lasso_test_preds, scores['Lasso'], lasso_coeffs = lasso_trainer.fit_predict(_X, y, _X_test)"
   ]
  },
  {
   "cell_type": "code",
   "execution_count": 30,
   "id": "f1949db6",
   "metadata": {
    "execution": {
     "iopub.execute_input": "2024-09-17T19:57:24.851189Z",
     "iopub.status.busy": "2024-09-17T19:57:24.850723Z",
     "iopub.status.idle": "2024-09-17T19:57:25.250485Z",
     "shell.execute_reply": "2024-09-17T19:57:25.249360Z"
    },
    "papermill": {
     "duration": 0.452948,
     "end_time": "2024-09-17T19:57:25.253083",
     "exception": false,
     "start_time": "2024-09-17T19:57:24.800135",
     "status": "completed"
    },
    "tags": []
   },
   "outputs": [
    {
     "data": {
      "image/png": "[encoded data removed]",
      "text/plain": [
       "<Figure size 1000x400 with 1 Axes>"
      ]
     },
     "metadata": {},
     "output_type": "display_data"
    }
   ],
   "source": [
    "plot_weights('Lasso coefficients', lasso_coeffs)"
   ]
  },
  {
   "cell_type": "code",
   "execution_count": 31,
   "id": "3a2a1bef",
   "metadata": {
    "execution": {
     "iopub.execute_input": "2024-09-17T19:57:25.355033Z",
     "iopub.status.busy": "2024-09-17T19:57:25.353695Z",
     "iopub.status.idle": "2024-09-17T19:57:25.595188Z",
     "shell.execute_reply": "2024-09-17T19:57:25.593920Z"
    },
    "papermill": {
     "duration": 0.295524,
     "end_time": "2024-09-17T19:57:25.598035",
     "exception": false,
     "start_time": "2024-09-17T19:57:25.302511",
     "status": "completed"
    },
    "tags": []
   },
   "outputs": [
    {
     "data": {
      "text/html": [
       "<div>\n",
       "<style scoped>\n",
       "    .dataframe tbody tr th:only-of-type {\n",
       "        vertical-align: middle;\n",
       "    }\n",
       "\n",
       "    .dataframe tbody tr th {\n",
       "        vertical-align: top;\n",
       "    }\n",
       "\n",
       "    .dataframe thead th {\n",
       "        text-align: right;\n",
       "    }\n",
       "</style>\n",
       "<table border=\"1\" class=\"dataframe\">\n",
       "  <thead>\n",
       "    <tr style=\"text-align: right;\">\n",
       "      <th></th>\n",
       "      <th>id</th>\n",
       "      <th>price</th>\n",
       "    </tr>\n",
       "  </thead>\n",
       "  <tbody>\n",
       "    <tr>\n",
       "      <th>0</th>\n",
       "      <td>188533</td>\n",
       "      <td>17908.060547</td>\n",
       "    </tr>\n",
       "    <tr>\n",
       "      <th>1</th>\n",
       "      <td>188534</td>\n",
       "      <td>83378.664062</td>\n",
       "    </tr>\n",
       "    <tr>\n",
       "      <th>2</th>\n",
       "      <td>188535</td>\n",
       "      <td>55183.808594</td>\n",
       "    </tr>\n",
       "    <tr>\n",
       "      <th>3</th>\n",
       "      <td>188536</td>\n",
       "      <td>24246.191406</td>\n",
       "    </tr>\n",
       "    <tr>\n",
       "      <th>4</th>\n",
       "      <td>188537</td>\n",
       "      <td>30518.199219</td>\n",
       "    </tr>\n",
       "  </tbody>\n",
       "</table>\n",
       "</div>"
      ],
      "text/plain": [
       "       id         price\n",
       "0  188533  17908.060547\n",
       "1  188534  83378.664062\n",
       "2  188535  55183.808594\n",
       "3  188536  24246.191406\n",
       "4  188537  30518.199219"
      ]
     },
     "execution_count": 31,
     "metadata": {},
     "output_type": "execute_result"
    }
   ],
   "source": [
    "save_submission(lasso_test_preds, 'lasso', np.mean(scores['Lasso'])).head()"
   ]
  },
  {
   "cell_type": "markdown",
   "id": "454dec93",
   "metadata": {
    "papermill": {
     "duration": 0.050456,
     "end_time": "2024-09-17T19:57:25.699532",
     "exception": false,
     "start_time": "2024-09-17T19:57:25.649076",
     "status": "completed"
    },
    "tags": []
   },
   "source": [
    "## Hill climbing\n",
    "\n",
    "In my opinion, hill climbing is an underused ensembling method in competitions. It is a simple, yet effective method to create an ensemble from OOF files. I will use the implementation from a fellow Kaggler. You can learn more about this library [here](https://github.com/Matt-OP/hillclimbers/)."
   ]
  },
  {
   "cell_type": "code",
   "execution_count": 32,
   "id": "516845a3",
   "metadata": {
    "execution": {
     "iopub.execute_input": "2024-09-17T19:57:25.800932Z",
     "iopub.status.busy": "2024-09-17T19:57:25.800461Z",
     "iopub.status.idle": "2024-09-17T19:57:25.806010Z",
     "shell.execute_reply": "2024-09-17T19:57:25.804883Z"
    },
    "papermill": {
     "duration": 0.05943,
     "end_time": "2024-09-17T19:57:25.808473",
     "exception": false,
     "start_time": "2024-09-17T19:57:25.749043",
     "status": "completed"
    },
    "tags": []
   },
   "outputs": [],
   "source": [
    "def rmse(y_true, y_pred):\n",
    "    return mean_squared_error(y_true, y_pred, squared=False)"
   ]
  },
  {
   "cell_type": "code",
   "execution_count": 33,
   "id": "9a546f05",
   "metadata": {
    "execution": {
     "iopub.execute_input": "2024-09-17T19:57:25.912417Z",
     "iopub.status.busy": "2024-09-17T19:57:25.911984Z",
     "iopub.status.idle": "2024-09-17T19:57:47.529112Z",
     "shell.execute_reply": "2024-09-17T19:57:47.527908Z"
    },
    "papermill": {
     "duration": 21.673489,
     "end_time": "2024-09-17T19:57:47.532016",
     "exception": false,
     "start_time": "2024-09-17T19:57:25.858527",
     "status": "completed"
    },
    "tags": []
   },
   "outputs": [
    {
     "name": "stdout",
     "output_type": "stream",
     "text": [
      "\u001b[1m\u001b[34m   /\\  \n",
      "  /__\\  hillclimbers\u001b[0m\u001b[1m \n",
      " /    \\\n",
      "/______\\ \n",
      "\u001b[0m\n",
      "\u001b[1m\u001b[33mModels to be ensembled | (5 total):\u001b[0m \n",
      "\n",
      "\u001b[1m\u001b[32mXGBoost:          72741.08115 (best solo model)\u001b[0m\n",
      "\u001b[1mHistGB:           72770.69506\u001b[0m\n",
      "\u001b[1mGradientBoosting: 72776.66979\u001b[0m\n",
      "\u001b[1mCatBoost:         72796.08323\u001b[0m\n",
      "\u001b[1mLightGBM:         72888.85263\u001b[0m\n",
      "\n",
      "\u001b[1m\u001b[33m[Data preparation completed successfully] - [Initiate hill climbing]\u001b[0m \n",
      "\n",
      "\u001b[1m\u001b[32mIteration: 1 | Model added: HistGB | Best weight: 0.470 | Best rmse: 72633.50589\u001b[0m\n",
      "\u001b[1m\u001b[32mIteration: 2 | Model added: LightGBM | Best weight: 0.266 | Best rmse: 72594.70204\u001b[0m\n",
      "\u001b[1m\u001b[32mIteration: 3 | Model added: CatBoost | Best weight: 0.216 | Best rmse: 72578.05370\u001b[0m\n",
      "\u001b[1m\u001b[32mIteration: 4 | Model added: GradientBoosting | Best weight: 0.179 | Best rmse: 72568.07285\u001b[0m\n"
     ]
    },
    {
     "data": {
      "text/html": [
       "        <script type=\"text/javascript\">\n",
       "        window.PlotlyConfig = {MathJaxConfig: 'local'};\n",
       "        if (window.MathJax && window.MathJax.Hub && window.MathJax.Hub.Config) {window.MathJax.Hub.Config({SVG: {font: \"STIX-Web\"}});}\n",
       "        if (typeof require !== 'undefined') {\n",
       "        require.undef(\"plotly\");\n",
       "        requirejs.config({\n",
       "            paths: {\n",
       "                'plotly': ['https://cdn.plot.ly/plotly-2.32.0.min']\n",
       "            }\n",
       "        });\n",
       "        require(['plotly'], function(Plotly) {\n",
       "            window._Plotly = Plotly;\n",
       "        });\n",
       "        }\n",
       "        </script>\n",
       "        "
      ]
     },
     "metadata": {},
     "output_type": "display_data"
    },
    {
     "data": {
      "text/html": [
       "<div>                            <div id=\"a8a3ee8e-0400-45b2-886e-417a9ec3dcd8\" class=\"plotly-graph-div\" style=\"height:500px; width:900px;\"></div>            <script type=\"text/javascript\">                require([\"plotly\"], function(Plotly) {                    window.PLOTLYENV=window.PLOTLYENV || {};                                    if (document.getElementById(\"a8a3ee8e-0400-45b2-886e-417a9ec3dcd8\")) {                    Plotly.newPlot(                        \"a8a3ee8e-0400-45b2-886e-417a9ec3dcd8\",                        [{\"hovertemplate\":\"Number of Models: %{x}\\u003cbr\\u003eCV: %{y}\",\"legendgroup\":\"\",\"line\":{\"color\":\"#009933\",\"dash\":\"solid\"},\"marker\":{\"symbol\":\"circle\",\"line\":{\"color\":\"#FFFFFF\",\"width\":1.5},\"color\":\"#33cc33\",\"size\":10},\"mode\":\"lines+markers+text\",\"name\":\"\",\"orientation\":\"v\",\"showlegend\":false,\"text\":[72741.08115,72633.50589,72594.70204,72578.0537,72568.07285],\"x\":[1,2,3,4,5],\"xaxis\":\"x\",\"y\":[72741.0811547534,72633.50589319447,72594.7020394183,72578.05369962698,72568.0728549867],\"yaxis\":\"y\",\"type\":\"scatter\",\"textfont\":{\"size\":10},\"textposition\":\"top center\"}],                        {\"template\":{\"data\":{\"barpolar\":[{\"marker\":{\"line\":{\"color\":\"rgb(17,17,17)\",\"width\":0.5},\"pattern\":{\"fillmode\":\"overlay\",\"size\":10,\"solidity\":0.2}},\"type\":\"barpolar\"}],\"bar\":[{\"error_x\":{\"color\":\"#f2f5fa\"},\"error_y\":{\"color\":\"#f2f5fa\"},\"marker\":{\"line\":{\"color\":\"rgb(17,17,17)\",\"width\":0.5},\"pattern\":{\"fillmode\":\"overlay\",\"size\":10,\"solidity\":0.2}},\"type\":\"bar\"}],\"carpet\":[{\"aaxis\":{\"endlinecolor\":\"#A2B1C6\",\"gridcolor\":\"#506784\",\"linecolor\":\"#506784\",\"minorgridcolor\":\"#506784\",\"startlinecolor\":\"#A2B1C6\"},\"baxis\":{\"endlinecolor\":\"#A2B1C6\",\"gridcolor\":\"#506784\",\"linecolor\":\"#506784\",\"minorgridcolor\":\"#506784\",\"startlinecolor\":\"#A2B1C6\"},\"type\":\"carpet\"}],\"choropleth\":[{\"colorbar\":{\"outlinewidth\":0,\"ticks\":\"\"},\"type\":\"choropleth\"}],\"contourcarpet\":[{\"colorbar\":{\"outlinewidth\":0,\"ticks\":\"\"},\"type\":\"contourcarpet\"}],\"contour\":[{\"colorbar\":{\"outlinewidth\":0,\"ticks\":\"\"},\"colorscale\":[[0.0,\"#0d0887\"],[0.1111111111111111,\"#46039f\"],[0.2222222222222222,\"#7201a8\"],[0.3333333333333333,\"#9c179e\"],[0.4444444444444444,\"#bd3786\"],[0.5555555555555556,\"#d8576b\"],[0.6666666666666666,\"#ed7953\"],[0.7777777777777778,\"#fb9f3a\"],[0.8888888888888888,\"#fdca26\"],[1.0,\"#f0f921\"]],\"type\":\"contour\"}],\"heatmapgl\":[{\"colorbar\":{\"outlinewidth\":0,\"ticks\":\"\"},\"colorscale\":[[0.0,\"#0d0887\"],[0.1111111111111111,\"#46039f\"],[0.2222222222222222,\"#7201a8\"],[0.3333333333333333,\"#9c179e\"],[0.4444444444444444,\"#bd3786\"],[0.5555555555555556,\"#d8576b\"],[0.6666666666666666,\"#ed7953\"],[0.7777777777777778,\"#fb9f3a\"],[0.8888888888888888,\"#fdca26\"],[1.0,\"#f0f921\"]],\"type\":\"heatmapgl\"}],\"heatmap\":[{\"colorbar\":{\"outlinewidth\":0,\"ticks\":\"\"},\"colorscale\":[[0.0,\"#0d0887\"],[0.1111111111111111,\"#46039f\"],[0.2222222222222222,\"#7201a8\"],[0.3333333333333333,\"#9c179e\"],[0.4444444444444444,\"#bd3786\"],[0.5555555555555556,\"#d8576b\"],[0.6666666666666666,\"#ed7953\"],[0.7777777777777778,\"#fb9f3a\"],[0.8888888888888888,\"#fdca26\"],[1.0,\"#f0f921\"]],\"type\":\"heatmap\"}],\"histogram2dcontour\":[{\"colorbar\":{\"outlinewidth\":0,\"ticks\":\"\"},\"colorscale\":[[0.0,\"#0d0887\"],[0.1111111111111111,\"#46039f\"],[0.2222222222222222,\"#7201a8\"],[0.3333333333333333,\"#9c179e\"],[0.4444444444444444,\"#bd3786\"],[0.5555555555555556,\"#d8576b\"],[0.6666666666666666,\"#ed7953\"],[0.7777777777777778,\"#fb9f3a\"],[0.8888888888888888,\"#fdca26\"],[1.0,\"#f0f921\"]],\"type\":\"histogram2dcontour\"}],\"histogram2d\":[{\"colorbar\":{\"outlinewidth\":0,\"ticks\":\"\"},\"colorscale\":[[0.0,\"#0d0887\"],[0.1111111111111111,\"#46039f\"],[0.2222222222222222,\"#7201a8\"],[0.3333333333333333,\"#9c179e\"],[0.4444444444444444,\"#bd3786\"],[0.5555555555555556,\"#d8576b\"],[0.6666666666666666,\"#ed7953\"],[0.7777777777777778,\"#fb9f3a\"],[0.8888888888888888,\"#fdca26\"],[1.0,\"#f0f921\"]],\"type\":\"histogram2d\"}],\"histogram\":[{\"marker\":{\"pattern\":{\"fillmode\":\"overlay\",\"size\":10,\"solidity\":0.2}},\"type\":\"histogram\"}],\"mesh3d\":[{\"colorbar\":{\"outlinewidth\":0,\"ticks\":\"\"},\"type\":\"mesh3d\"}],\"parcoords\":[{\"line\":{\"colorbar\":{\"outlinewidth\":0,\"ticks\":\"\"}},\"type\":\"parcoords\"}],\"pie\":[{\"automargin\":true,\"type\":\"pie\"}],\"scatter3d\":[{\"line\":{\"colorbar\":{\"outlinewidth\":0,\"ticks\":\"\"}},\"marker\":{\"colorbar\":{\"outlinewidth\":0,\"ticks\":\"\"}},\"type\":\"scatter3d\"}],\"scattercarpet\":[{\"marker\":{\"colorbar\":{\"outlinewidth\":0,\"ticks\":\"\"}},\"type\":\"scattercarpet\"}],\"scattergeo\":[{\"marker\":{\"colorbar\":{\"outlinewidth\":0,\"ticks\":\"\"}},\"type\":\"scattergeo\"}],\"scattergl\":[{\"marker\":{\"line\":{\"color\":\"#283442\"}},\"type\":\"scattergl\"}],\"scattermapbox\":[{\"marker\":{\"colorbar\":{\"outlinewidth\":0,\"ticks\":\"\"}},\"type\":\"scattermapbox\"}],\"scatterpolargl\":[{\"marker\":{\"colorbar\":{\"outlinewidth\":0,\"ticks\":\"\"}},\"type\":\"scatterpolargl\"}],\"scatterpolar\":[{\"marker\":{\"colorbar\":{\"outlinewidth\":0,\"ticks\":\"\"}},\"type\":\"scatterpolar\"}],\"scatter\":[{\"marker\":{\"line\":{\"color\":\"#283442\"}},\"type\":\"scatter\"}],\"scatterternary\":[{\"marker\":{\"colorbar\":{\"outlinewidth\":0,\"ticks\":\"\"}},\"type\":\"scatterternary\"}],\"surface\":[{\"colorbar\":{\"outlinewidth\":0,\"ticks\":\"\"},\"colorscale\":[[0.0,\"#0d0887\"],[0.1111111111111111,\"#46039f\"],[0.2222222222222222,\"#7201a8\"],[0.3333333333333333,\"#9c179e\"],[0.4444444444444444,\"#bd3786\"],[0.5555555555555556,\"#d8576b\"],[0.6666666666666666,\"#ed7953\"],[0.7777777777777778,\"#fb9f3a\"],[0.8888888888888888,\"#fdca26\"],[1.0,\"#f0f921\"]],\"type\":\"surface\"}],\"table\":[{\"cells\":{\"fill\":{\"color\":\"#506784\"},\"line\":{\"color\":\"rgb(17,17,17)\"}},\"header\":{\"fill\":{\"color\":\"#2a3f5f\"},\"line\":{\"color\":\"rgb(17,17,17)\"}},\"type\":\"table\"}]},\"layout\":{\"annotationdefaults\":{\"arrowcolor\":\"#f2f5fa\",\"arrowhead\":0,\"arrowwidth\":1},\"autotypenumbers\":\"strict\",\"coloraxis\":{\"colorbar\":{\"outlinewidth\":0,\"ticks\":\"\"}},\"colorscale\":{\"diverging\":[[0,\"#8e0152\"],[0.1,\"#c51b7d\"],[0.2,\"#de77ae\"],[0.3,\"#f1b6da\"],[0.4,\"#fde0ef\"],[0.5,\"#f7f7f7\"],[0.6,\"#e6f5d0\"],[0.7,\"#b8e186\"],[0.8,\"#7fbc41\"],[0.9,\"#4d9221\"],[1,\"#276419\"]],\"sequential\":[[0.0,\"#0d0887\"],[0.1111111111111111,\"#46039f\"],[0.2222222222222222,\"#7201a8\"],[0.3333333333333333,\"#9c179e\"],[0.4444444444444444,\"#bd3786\"],[0.5555555555555556,\"#d8576b\"],[0.6666666666666666,\"#ed7953\"],[0.7777777777777778,\"#fb9f3a\"],[0.8888888888888888,\"#fdca26\"],[1.0,\"#f0f921\"]],\"sequentialminus\":[[0.0,\"#0d0887\"],[0.1111111111111111,\"#46039f\"],[0.2222222222222222,\"#7201a8\"],[0.3333333333333333,\"#9c179e\"],[0.4444444444444444,\"#bd3786\"],[0.5555555555555556,\"#d8576b\"],[0.6666666666666666,\"#ed7953\"],[0.7777777777777778,\"#fb9f3a\"],[0.8888888888888888,\"#fdca26\"],[1.0,\"#f0f921\"]]},\"colorway\":[\"#636efa\",\"#EF553B\",\"#00cc96\",\"#ab63fa\",\"#FFA15A\",\"#19d3f3\",\"#FF6692\",\"#B6E880\",\"#FF97FF\",\"#FECB52\"],\"font\":{\"color\":\"#f2f5fa\"},\"geo\":{\"bgcolor\":\"rgb(17,17,17)\",\"lakecolor\":\"rgb(17,17,17)\",\"landcolor\":\"rgb(17,17,17)\",\"showlakes\":true,\"showland\":true,\"subunitcolor\":\"#506784\"},\"hoverlabel\":{\"align\":\"left\"},\"hovermode\":\"closest\",\"mapbox\":{\"style\":\"dark\"},\"paper_bgcolor\":\"rgb(17,17,17)\",\"plot_bgcolor\":\"rgb(17,17,17)\",\"polar\":{\"angularaxis\":{\"gridcolor\":\"#506784\",\"linecolor\":\"#506784\",\"ticks\":\"\"},\"bgcolor\":\"rgb(17,17,17)\",\"radialaxis\":{\"gridcolor\":\"#506784\",\"linecolor\":\"#506784\",\"ticks\":\"\"}},\"scene\":{\"xaxis\":{\"backgroundcolor\":\"rgb(17,17,17)\",\"gridcolor\":\"#506784\",\"gridwidth\":2,\"linecolor\":\"#506784\",\"showbackground\":true,\"ticks\":\"\",\"zerolinecolor\":\"#C8D4E3\"},\"yaxis\":{\"backgroundcolor\":\"rgb(17,17,17)\",\"gridcolor\":\"#506784\",\"gridwidth\":2,\"linecolor\":\"#506784\",\"showbackground\":true,\"ticks\":\"\",\"zerolinecolor\":\"#C8D4E3\"},\"zaxis\":{\"backgroundcolor\":\"rgb(17,17,17)\",\"gridcolor\":\"#506784\",\"gridwidth\":2,\"linecolor\":\"#506784\",\"showbackground\":true,\"ticks\":\"\",\"zerolinecolor\":\"#C8D4E3\"}},\"shapedefaults\":{\"line\":{\"color\":\"#f2f5fa\"}},\"sliderdefaults\":{\"bgcolor\":\"#C8D4E3\",\"bordercolor\":\"rgb(17,17,17)\",\"borderwidth\":1,\"tickwidth\":0},\"ternary\":{\"aaxis\":{\"gridcolor\":\"#506784\",\"linecolor\":\"#506784\",\"ticks\":\"\"},\"baxis\":{\"gridcolor\":\"#506784\",\"linecolor\":\"#506784\",\"ticks\":\"\"},\"bgcolor\":\"rgb(17,17,17)\",\"caxis\":{\"gridcolor\":\"#506784\",\"linecolor\":\"#506784\",\"ticks\":\"\"}},\"title\":{\"x\":0.05},\"updatemenudefaults\":{\"bgcolor\":\"#506784\",\"borderwidth\":0},\"xaxis\":{\"automargin\":true,\"gridcolor\":\"#283442\",\"linecolor\":\"#506784\",\"ticks\":\"\",\"title\":{\"standoff\":15},\"zerolinecolor\":\"#283442\",\"zerolinewidth\":2},\"yaxis\":{\"automargin\":true,\"gridcolor\":\"#283442\",\"linecolor\":\"#506784\",\"ticks\":\"\",\"title\":{\"standoff\":15},\"zerolinecolor\":\"#283442\",\"zerolinewidth\":2}}},\"xaxis\":{\"anchor\":\"y\",\"domain\":[0.0,1.0],\"title\":{\"text\":\"Number of models\"},\"tickmode\":\"array\",\"tickvals\":[1,2,3,4,5]},\"yaxis\":{\"anchor\":\"x\",\"domain\":[0.0,1.0],\"title\":{\"text\":\"rmse\"}},\"legend\":{\"tracegroupgap\":0},\"title\":{\"text\":\"Cross Validation rmse vs. Number of Models with Hill Climbing\"},\"autosize\":false,\"width\":900,\"height\":500},                        {\"responsive\": true}                    ).then(function(){\n",
       "                            \n",
       "var gd = document.getElementById('a8a3ee8e-0400-45b2-886e-417a9ec3dcd8');\n",
       "var x = new MutationObserver(function (mutations, observer) {{\n",
       "        var display = window.getComputedStyle(gd).display;\n",
       "        if (!display || display === 'none') {{\n",
       "            console.log([gd, 'removed!']);\n",
       "            Plotly.purge(gd);\n",
       "            observer.disconnect();\n",
       "        }}\n",
       "}});\n",
       "\n",
       "// Listen for the removal of the full notebook cells\n",
       "var notebookContainer = gd.closest('#notebook-container');\n",
       "if (notebookContainer) {{\n",
       "    x.observe(notebookContainer, {childList: true});\n",
       "}}\n",
       "\n",
       "// Listen for the clearing of the current output cell\n",
       "var outputEl = gd.closest('.output');\n",
       "if (outputEl) {{\n",
       "    x.observe(outputEl, {childList: true});\n",
       "}}\n",
       "\n",
       "                        })                };                });            </script>        </div>"
      ]
     },
     "metadata": {},
     "output_type": "display_data"
    }
   ],
   "source": [
    "hc_test_preds, hc_oof_preds = climb_hill(\n",
    "    train=train, \n",
    "    oof_pred_df=pd.DataFrame(oof_preds), \n",
    "    test_pred_df=pd.DataFrame(test_preds),\n",
    "    target=CFG.target,\n",
    "    objective='minimize', \n",
    "    eval_metric=partial(rmse),\n",
    "    negative_weights=True, \n",
    "    precision=0.001, \n",
    "    plot_hill=True, \n",
    "    plot_hist=False,\n",
    "    return_oof_preds=True\n",
    ")"
   ]
  },
  {
   "cell_type": "code",
   "execution_count": 34,
   "id": "15376c4f",
   "metadata": {
    "execution": {
     "iopub.execute_input": "2024-09-17T19:57:47.634591Z",
     "iopub.status.busy": "2024-09-17T19:57:47.634151Z",
     "iopub.status.idle": "2024-09-17T19:57:47.641790Z",
     "shell.execute_reply": "2024-09-17T19:57:47.640747Z"
    },
    "papermill": {
     "duration": 0.061812,
     "end_time": "2024-09-17T19:57:47.644239",
     "exception": false,
     "start_time": "2024-09-17T19:57:47.582427",
     "status": "completed"
    },
    "tags": []
   },
   "outputs": [],
   "source": [
    "hc_score = mean_squared_error(hc_oof_preds, y, squared=False)\n",
    "scores['Hill Climbing'] = [hc_score] * CFG.n_folds"
   ]
  },
  {
   "cell_type": "code",
   "execution_count": 35,
   "id": "cf360b88",
   "metadata": {
    "execution": {
     "iopub.execute_input": "2024-09-17T19:57:47.748030Z",
     "iopub.status.busy": "2024-09-17T19:57:47.747583Z",
     "iopub.status.idle": "2024-09-17T19:57:47.994869Z",
     "shell.execute_reply": "2024-09-17T19:57:47.993576Z"
    },
    "papermill": {
     "duration": 0.302775,
     "end_time": "2024-09-17T19:57:47.997102",
     "exception": false,
     "start_time": "2024-09-17T19:57:47.694327",
     "status": "completed"
    },
    "tags": []
   },
   "outputs": [
    {
     "data": {
      "text/html": [
       "<div>\n",
       "<style scoped>\n",
       "    .dataframe tbody tr th:only-of-type {\n",
       "        vertical-align: middle;\n",
       "    }\n",
       "\n",
       "    .dataframe tbody tr th {\n",
       "        vertical-align: top;\n",
       "    }\n",
       "\n",
       "    .dataframe thead th {\n",
       "        text-align: right;\n",
       "    }\n",
       "</style>\n",
       "<table border=\"1\" class=\"dataframe\">\n",
       "  <thead>\n",
       "    <tr style=\"text-align: right;\">\n",
       "      <th></th>\n",
       "      <th>id</th>\n",
       "      <th>price</th>\n",
       "    </tr>\n",
       "  </thead>\n",
       "  <tbody>\n",
       "    <tr>\n",
       "      <th>0</th>\n",
       "      <td>188533</td>\n",
       "      <td>19582.535156</td>\n",
       "    </tr>\n",
       "    <tr>\n",
       "      <th>1</th>\n",
       "      <td>188534</td>\n",
       "      <td>82106.921875</td>\n",
       "    </tr>\n",
       "    <tr>\n",
       "      <th>2</th>\n",
       "      <td>188535</td>\n",
       "      <td>54360.246094</td>\n",
       "    </tr>\n",
       "    <tr>\n",
       "      <th>3</th>\n",
       "      <td>188536</td>\n",
       "      <td>25861.689453</td>\n",
       "    </tr>\n",
       "    <tr>\n",
       "      <th>4</th>\n",
       "      <td>188537</td>\n",
       "      <td>31702.900391</td>\n",
       "    </tr>\n",
       "  </tbody>\n",
       "</table>\n",
       "</div>"
      ],
      "text/plain": [
       "       id         price\n",
       "0  188533  19582.535156\n",
       "1  188534  82106.921875\n",
       "2  188535  54360.246094\n",
       "3  188536  25861.689453\n",
       "4  188537  31702.900391"
      ]
     },
     "execution_count": 35,
     "metadata": {},
     "output_type": "execute_result"
    }
   ],
   "source": [
    "save_submission(hc_test_preds, 'hill-climbing', hc_score).head()"
   ]
  },
  {
   "cell_type": "markdown",
   "id": "f28c4f8a",
   "metadata": {
    "papermill": {
     "duration": 0.05086,
     "end_time": "2024-09-17T19:57:48.098110",
     "exception": false,
     "start_time": "2024-09-17T19:57:48.047250",
     "status": "completed"
    },
    "tags": []
   },
   "source": [
    "## Voting\n",
    "\n",
    "The methods shown previously all use OOF predictions and are generally faster ways to ensemble. Voting, however, re-fits each model that it is given from scratch. The regression version of the voting model averages the predictions from the base models. It can also accept a list of weights and compute the weighted average. It is not very different from the simple averaging model shown earlier."
   ]
  },
  {
   "cell_type": "code",
   "execution_count": 36,
   "id": "8b2bbc58",
   "metadata": {
    "execution": {
     "iopub.execute_input": "2024-09-17T19:57:48.201785Z",
     "iopub.status.busy": "2024-09-17T19:57:48.201346Z",
     "iopub.status.idle": "2024-09-17T19:57:48.207441Z",
     "shell.execute_reply": "2024-09-17T19:57:48.206417Z"
    },
    "papermill": {
     "duration": 0.060316,
     "end_time": "2024-09-17T19:57:48.209942",
     "exception": false,
     "start_time": "2024-09-17T19:57:48.149626",
     "status": "completed"
    },
    "tags": []
   },
   "outputs": [],
   "source": [
    "estimators = [\n",
    "    ('LightGBM',           LGBMRegressor(**lgbm_params)),\n",
    "    ('XGBoost',            XGBRegressor(**xgb_params)),\n",
    "    ('CatBoost',           CatBoostRegressor(**cb_params)),\n",
    "    ('HistGB',             HistGradientBoostingRegressor(**hgb_params)),\n",
    "    ('GradientBoosting',   GradientBoostingRegressor(**gb_params))\n",
    "]"
   ]
  },
  {
   "cell_type": "code",
   "execution_count": 37,
   "id": "3563617e",
   "metadata": {
    "execution": {
     "iopub.execute_input": "2024-09-17T19:57:48.314349Z",
     "iopub.status.busy": "2024-09-17T19:57:48.313910Z",
     "iopub.status.idle": "2024-09-17T20:29:23.177034Z",
     "shell.execute_reply": "2024-09-17T20:29:23.175613Z"
    },
    "papermill": {
     "duration": 1894.970851,
     "end_time": "2024-09-17T20:29:23.231028",
     "exception": false,
     "start_time": "2024-09-17T19:57:48.260177",
     "status": "completed"
    },
    "tags": []
   },
   "outputs": [
    {
     "name": "stdout",
     "output_type": "stream",
     "text": [
      "Training VotingRegressor\n",
      "\n",
      "--- Fold 1 - RMSE: 71851\n",
      "--- Fold 2 - RMSE: 73207\n",
      "--- Fold 3 - RMSE: 72608\n",
      "--- Fold 4 - RMSE: 72043\n",
      "--- Fold 5 - RMSE: 73410\n",
      "\n",
      "Overall RMSE: 72626 ± 615\n"
     ]
    }
   ],
   "source": [
    "X, y, X_test, _ = get_data(impute=True, encode=True)\n",
    "voting_model = VotingRegressor(estimators=estimators)\n",
    "voting_trainer = Trainer(voting_model, CFG)\n",
    "_, voting_test_preds, scores['Voting'] = voting_trainer.fit_predict(X, y, X_test)"
   ]
  },
  {
   "cell_type": "code",
   "execution_count": 38,
   "id": "6d4ca49c",
   "metadata": {
    "execution": {
     "iopub.execute_input": "2024-09-17T20:29:23.336662Z",
     "iopub.status.busy": "2024-09-17T20:29:23.336203Z",
     "iopub.status.idle": "2024-09-17T20:29:23.596334Z",
     "shell.execute_reply": "2024-09-17T20:29:23.595230Z"
    },
    "papermill": {
     "duration": 0.317431,
     "end_time": "2024-09-17T20:29:23.599488",
     "exception": false,
     "start_time": "2024-09-17T20:29:23.282057",
     "status": "completed"
    },
    "tags": []
   },
   "outputs": [
    {
     "data": {
      "text/html": [
       "<div>\n",
       "<style scoped>\n",
       "    .dataframe tbody tr th:only-of-type {\n",
       "        vertical-align: middle;\n",
       "    }\n",
       "\n",
       "    .dataframe tbody tr th {\n",
       "        vertical-align: top;\n",
       "    }\n",
       "\n",
       "    .dataframe thead th {\n",
       "        text-align: right;\n",
       "    }\n",
       "</style>\n",
       "<table border=\"1\" class=\"dataframe\">\n",
       "  <thead>\n",
       "    <tr style=\"text-align: right;\">\n",
       "      <th></th>\n",
       "      <th>id</th>\n",
       "      <th>price</th>\n",
       "    </tr>\n",
       "  </thead>\n",
       "  <tbody>\n",
       "    <tr>\n",
       "      <th>0</th>\n",
       "      <td>188533</td>\n",
       "      <td>18226.753906</td>\n",
       "    </tr>\n",
       "    <tr>\n",
       "      <th>1</th>\n",
       "      <td>188534</td>\n",
       "      <td>80645.195312</td>\n",
       "    </tr>\n",
       "    <tr>\n",
       "      <th>2</th>\n",
       "      <td>188535</td>\n",
       "      <td>56191.140625</td>\n",
       "    </tr>\n",
       "    <tr>\n",
       "      <th>3</th>\n",
       "      <td>188536</td>\n",
       "      <td>22090.472656</td>\n",
       "    </tr>\n",
       "    <tr>\n",
       "      <th>4</th>\n",
       "      <td>188537</td>\n",
       "      <td>30429.148438</td>\n",
       "    </tr>\n",
       "  </tbody>\n",
       "</table>\n",
       "</div>"
      ],
      "text/plain": [
       "       id         price\n",
       "0  188533  18226.753906\n",
       "1  188534  80645.195312\n",
       "2  188535  56191.140625\n",
       "3  188536  22090.472656\n",
       "4  188537  30429.148438"
      ]
     },
     "execution_count": 38,
     "metadata": {},
     "output_type": "execute_result"
    }
   ],
   "source": [
    "save_submission(voting_test_preds, 'voting', np.mean(scores['Voting'])).head()"
   ]
  },
  {
   "cell_type": "code",
   "execution_count": 39,
   "id": "5da5a707",
   "metadata": {
    "execution": {
     "iopub.execute_input": "2024-09-17T20:29:23.708669Z",
     "iopub.status.busy": "2024-09-17T20:29:23.708228Z",
     "iopub.status.idle": "2024-09-17T21:00:43.517428Z",
     "shell.execute_reply": "2024-09-17T21:00:43.516261Z"
    },
    "papermill": {
     "duration": 1879.919308,
     "end_time": "2024-09-17T21:00:43.573627",
     "exception": false,
     "start_time": "2024-09-17T20:29:23.654319",
     "status": "completed"
    },
    "tags": []
   },
   "outputs": [
    {
     "name": "stdout",
     "output_type": "stream",
     "text": [
      "Training VotingRegressor\n",
      "\n",
      "--- Fold 1 - RMSE: 71853\n",
      "--- Fold 2 - RMSE: 73209\n",
      "--- Fold 3 - RMSE: 72609\n",
      "--- Fold 4 - RMSE: 72042\n",
      "--- Fold 5 - RMSE: 73410\n",
      "\n",
      "Overall RMSE: 72627 ± 615\n"
     ]
    }
   ],
   "source": [
    "weighted_voting_model = VotingRegressor(estimators=estimators, weights=best_weights)\n",
    "weighted_voting_trainer = Trainer(weighted_voting_model, CFG)\n",
    "_, weighted_voting_test_preds, scores['Weighted Voting'] = weighted_voting_trainer.fit_predict(X, y, X_test)"
   ]
  },
  {
   "cell_type": "code",
   "execution_count": 40,
   "id": "b2214078",
   "metadata": {
    "execution": {
     "iopub.execute_input": "2024-09-17T21:00:43.679396Z",
     "iopub.status.busy": "2024-09-17T21:00:43.678967Z",
     "iopub.status.idle": "2024-09-17T21:00:43.929637Z",
     "shell.execute_reply": "2024-09-17T21:00:43.928350Z"
    },
    "papermill": {
     "duration": 0.306094,
     "end_time": "2024-09-17T21:00:43.932407",
     "exception": false,
     "start_time": "2024-09-17T21:00:43.626313",
     "status": "completed"
    },
    "tags": []
   },
   "outputs": [
    {
     "data": {
      "text/html": [
       "<div>\n",
       "<style scoped>\n",
       "    .dataframe tbody tr th:only-of-type {\n",
       "        vertical-align: middle;\n",
       "    }\n",
       "\n",
       "    .dataframe tbody tr th {\n",
       "        vertical-align: top;\n",
       "    }\n",
       "\n",
       "    .dataframe thead th {\n",
       "        text-align: right;\n",
       "    }\n",
       "</style>\n",
       "<table border=\"1\" class=\"dataframe\">\n",
       "  <thead>\n",
       "    <tr style=\"text-align: right;\">\n",
       "      <th></th>\n",
       "      <th>id</th>\n",
       "      <th>price</th>\n",
       "    </tr>\n",
       "  </thead>\n",
       "  <tbody>\n",
       "    <tr>\n",
       "      <th>0</th>\n",
       "      <td>188533</td>\n",
       "      <td>18269.644531</td>\n",
       "    </tr>\n",
       "    <tr>\n",
       "      <th>1</th>\n",
       "      <td>188534</td>\n",
       "      <td>80599.164062</td>\n",
       "    </tr>\n",
       "    <tr>\n",
       "      <th>2</th>\n",
       "      <td>188535</td>\n",
       "      <td>55919.648438</td>\n",
       "    </tr>\n",
       "    <tr>\n",
       "      <th>3</th>\n",
       "      <td>188536</td>\n",
       "      <td>22241.259766</td>\n",
       "    </tr>\n",
       "    <tr>\n",
       "      <th>4</th>\n",
       "      <td>188537</td>\n",
       "      <td>30472.917969</td>\n",
       "    </tr>\n",
       "  </tbody>\n",
       "</table>\n",
       "</div>"
      ],
      "text/plain": [
       "       id         price\n",
       "0  188533  18269.644531\n",
       "1  188534  80599.164062\n",
       "2  188535  55919.648438\n",
       "3  188536  22241.259766\n",
       "4  188537  30472.917969"
      ]
     },
     "execution_count": 40,
     "metadata": {},
     "output_type": "execute_result"
    }
   ],
   "source": [
    "save_submission(weighted_voting_test_preds, 'weighted-voting', np.mean(scores['Weighted Voting'])).head()"
   ]
  },
  {
   "cell_type": "markdown",
   "id": "7b6b0050",
   "metadata": {
    "papermill": {
     "duration": 0.051385,
     "end_time": "2024-09-17T21:00:44.038119",
     "exception": false,
     "start_time": "2024-09-17T21:00:43.986734",
     "status": "completed"
    },
    "tags": []
   },
   "source": [
    "## Stacking\n",
    "\n",
    "Similar to a voting model, a stacking model re-fits a list of models from scratch, and ensembles their predictions. However, unlike voting, it is more complex and uses a meta-model to learn the best combination of the features instead of simply averaging the predictions. Under the hood, it uses `RidgeCV` to ensemble predictions of the base models, however, its meta-model is configurable and can be changed. Here, I will just leave it with the default parameters."
   ]
  },
  {
   "cell_type": "code",
   "execution_count": 41,
   "id": "4aa76f0a",
   "metadata": {
    "execution": {
     "iopub.execute_input": "2024-09-17T21:00:44.143791Z",
     "iopub.status.busy": "2024-09-17T21:00:44.143355Z",
     "iopub.status.idle": "2024-09-17T23:21:20.423110Z",
     "shell.execute_reply": "2024-09-17T23:21:20.421635Z"
    },
    "papermill": {
     "duration": 8436.387667,
     "end_time": "2024-09-17T23:21:20.477542",
     "exception": false,
     "start_time": "2024-09-17T21:00:44.089875",
     "status": "completed"
    },
    "tags": []
   },
   "outputs": [
    {
     "name": "stdout",
     "output_type": "stream",
     "text": [
      "Training StackingRegressor\n",
      "\n",
      "--- Fold 1 - RMSE: 71860\n",
      "--- Fold 2 - RMSE: 73228\n",
      "--- Fold 3 - RMSE: 72591\n",
      "--- Fold 4 - RMSE: 72045\n",
      "--- Fold 5 - RMSE: 73427\n",
      "\n",
      "Overall RMSE: 72633 ± 621\n"
     ]
    }
   ],
   "source": [
    "stacking_model = StackingRegressor(estimators=estimators)\n",
    "stacking_trainer = Trainer(stacking_model, CFG)\n",
    "_, stacking_test_preds, scores['Stacking'] = stacking_trainer.fit_predict(X, y, X_test)"
   ]
  },
  {
   "cell_type": "code",
   "execution_count": 42,
   "id": "242cec2a",
   "metadata": {
    "execution": {
     "iopub.execute_input": "2024-09-17T23:21:20.584171Z",
     "iopub.status.busy": "2024-09-17T23:21:20.583576Z",
     "iopub.status.idle": "2024-09-17T23:21:20.838686Z",
     "shell.execute_reply": "2024-09-17T23:21:20.837278Z"
    },
    "papermill": {
     "duration": 0.311132,
     "end_time": "2024-09-17T23:21:20.841351",
     "exception": false,
     "start_time": "2024-09-17T23:21:20.530219",
     "status": "completed"
    },
    "tags": []
   },
   "outputs": [
    {
     "data": {
      "text/html": [
       "<div>\n",
       "<style scoped>\n",
       "    .dataframe tbody tr th:only-of-type {\n",
       "        vertical-align: middle;\n",
       "    }\n",
       "\n",
       "    .dataframe tbody tr th {\n",
       "        vertical-align: top;\n",
       "    }\n",
       "\n",
       "    .dataframe thead th {\n",
       "        text-align: right;\n",
       "    }\n",
       "</style>\n",
       "<table border=\"1\" class=\"dataframe\">\n",
       "  <thead>\n",
       "    <tr style=\"text-align: right;\">\n",
       "      <th></th>\n",
       "      <th>id</th>\n",
       "      <th>price</th>\n",
       "    </tr>\n",
       "  </thead>\n",
       "  <tbody>\n",
       "    <tr>\n",
       "      <th>0</th>\n",
       "      <td>188533</td>\n",
       "      <td>17283.722656</td>\n",
       "    </tr>\n",
       "    <tr>\n",
       "      <th>1</th>\n",
       "      <td>188534</td>\n",
       "      <td>80522.343750</td>\n",
       "    </tr>\n",
       "    <tr>\n",
       "      <th>2</th>\n",
       "      <td>188535</td>\n",
       "      <td>55481.515625</td>\n",
       "    </tr>\n",
       "    <tr>\n",
       "      <th>3</th>\n",
       "      <td>188536</td>\n",
       "      <td>22987.128906</td>\n",
       "    </tr>\n",
       "    <tr>\n",
       "      <th>4</th>\n",
       "      <td>188537</td>\n",
       "      <td>29648.898438</td>\n",
       "    </tr>\n",
       "  </tbody>\n",
       "</table>\n",
       "</div>"
      ],
      "text/plain": [
       "       id         price\n",
       "0  188533  17283.722656\n",
       "1  188534  80522.343750\n",
       "2  188535  55481.515625\n",
       "3  188536  22987.128906\n",
       "4  188537  29648.898438"
      ]
     },
     "execution_count": 42,
     "metadata": {},
     "output_type": "execute_result"
    }
   ],
   "source": [
    "save_submission(stacking_test_preds, 'stacking', np.mean(scores['Stacking'])).head()"
   ]
  },
  {
   "cell_type": "markdown",
   "id": "044e3f5b",
   "metadata": {
    "papermill": {
     "duration": 0.052142,
     "end_time": "2024-09-17T23:21:20.945841",
     "exception": false,
     "start_time": "2024-09-17T23:21:20.893699",
     "status": "completed"
    },
    "tags": []
   },
   "source": [
    "# Results"
   ]
  },
  {
   "cell_type": "markdown",
   "id": "cdd3439a",
   "metadata": {
    "papermill": {
     "duration": 0.051926,
     "end_time": "2024-09-17T23:21:21.049650",
     "exception": false,
     "start_time": "2024-09-17T23:21:20.997724",
     "status": "completed"
    },
    "tags": []
   },
   "source": [
    "We can see that all of the ensemble models achieve better scores than the individual models. The difference is not much, but it is enough to give you an edge in the competition. The results also show that some ensembling methods work better than others. There are no general rules for what works best. One has to experiment with different methods and choose an ensembling technique that suits a particular usecase."
   ]
  },
  {
   "cell_type": "code",
   "execution_count": 43,
   "id": "987e3105",
   "metadata": {
    "execution": {
     "iopub.execute_input": "2024-09-17T23:21:21.157048Z",
     "iopub.status.busy": "2024-09-17T23:21:21.156086Z",
     "iopub.status.idle": "2024-09-17T23:21:22.033640Z",
     "shell.execute_reply": "2024-09-17T23:21:22.032267Z"
    },
    "papermill": {
     "duration": 0.934126,
     "end_time": "2024-09-17T23:21:22.036270",
     "exception": false,
     "start_time": "2024-09-17T23:21:21.102144",
     "status": "completed"
    },
    "tags": []
   },
   "outputs": [
    {
     "data": {
      "image/png": "[encoded data removed]",
      "text/plain": [
       "<Figure size 1500x500 with 2 Axes>"
      ]
     },
     "metadata": {},
     "output_type": "display_data"
    }
   ],
   "source": [
    "scores = pd.DataFrame(scores)\n",
    "mean_scores = scores.mean().sort_values(ascending=True)\n",
    "order = scores.mean().sort_values(ascending=True).index.tolist()\n",
    "\n",
    "min_score = mean_scores.min()\n",
    "max_score = mean_scores.max()\n",
    "padding = (max_score - min_score) * 0.5\n",
    "lower_limit = min_score - padding\n",
    "upper_limit = max_score + padding\n",
    "\n",
    "fig, axs = plt.subplots(1, 2, figsize=(15, 5))\n",
    "\n",
    "sns.boxplot(data=scores, order=order, ax=axs[0], orient='h', palette=\"RdYlGn_r\")\n",
    "axs[0].set_title('Fold RMSE')\n",
    "axs[0].set_xlabel('')\n",
    "axs[0].set_ylabel('')\n",
    "\n",
    "barplot = sns.barplot(x=mean_scores.values, y=mean_scores.index, ax=axs[1], palette=\"RdYlGn_r\")\n",
    "axs[1].set_title('Average RMSE')\n",
    "axs[1].set_xlabel('')\n",
    "axs[1].set_xlim(left=lower_limit, right=upper_limit)\n",
    "axs[1].set_ylabel('')\n",
    "\n",
    "for i, score in enumerate(mean_scores.values):\n",
    "    barplot.text(score, i, round(score, 2), va='center')\n",
    "\n",
    "plt.tight_layout()\n",
    "plt.show()"
   ]
  },
  {
   "cell_type": "code",
   "execution_count": 44,
   "id": "7197a59d",
   "metadata": {
    "execution": {
     "iopub.execute_input": "2024-09-17T23:21:22.147223Z",
     "iopub.status.busy": "2024-09-17T23:21:22.146719Z",
     "iopub.status.idle": "2024-09-17T23:21:22.158895Z",
     "shell.execute_reply": "2024-09-17T23:21:22.157556Z"
    },
    "papermill": {
     "duration": 0.070668,
     "end_time": "2024-09-17T23:21:22.161765",
     "exception": false,
     "start_time": "2024-09-17T23:21:22.091097",
     "status": "completed"
    },
    "tags": []
   },
   "outputs": [],
   "source": [
    "shutil.rmtree('catboost_info')"
   ]
  }
 ],
 "metadata": {
  "kaggle": {
   "accelerator": "none",
   "dataSources": [
    {
     "databundleVersionId": 9057646,
     "sourceId": 76728,
     "sourceType": "competition"
    }
   ],
   "dockerImageVersionId": 30761,
   "isGpuEnabled": false,
   "isInternetEnabled": true,
   "language": "python",
   "sourceType": "notebook"
  },
  "kernelspec": {
   "display_name": "Python 3",
   "language": "python",
   "name": "python3"
  },
  "language_info": {
   "codemirror_mode": {
    "name": "ipython",
    "version": 3
   },
   "file_extension": ".py",
   "mimetype": "text/x-python",
   "name": "python",
   "nbconvert_exporter": "python",
   "pygments_lexer": "ipython3",
   "version": "3.10.14"
  },
  "papermill": {
   "default_parameters": {},
   "duration": 15927.286287,
   "end_time": "2024-09-17T23:21:23.341225",
   "environment_variables": {},
   "exception": null,
   "input_path": "__notebook__.ipynb",
   "output_path": "__notebook__.ipynb",
   "parameters": {},
   "start_time": "2024-09-17T18:55:56.054938",
   "version": "2.6.0"
  }
 },
 "nbformat": 4,
 "nbformat_minor": 5
}
