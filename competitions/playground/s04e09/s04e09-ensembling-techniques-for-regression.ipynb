{
 "cells": [
  {
   "cell_type": "markdown",
   "id": "f63cde66",
   "metadata": {
    "papermill": {
     "duration": 0.01681,
     "end_time": "2024-09-16T12:58:16.888961",
     "exception": false,
     "start_time": "2024-09-16T12:58:16.872151",
     "status": "completed"
    },
    "tags": []
   },
   "source": [
    "# Introduction\n",
    "\n",
    "Ensembling is a commonly used technique in Kaggle competitions to combine predictions of multiple models and get stronger predictions that hopefully achieve better score on the leaderboard. The idea is that combining different models with varying strengths and weaknesses can lead to better generalization on unseen data. There are various approaches to ensembling. In this notebook, we will explore a few of these approaches and evaluate their effectiveness in a regression task, and see how they compare to each other. While the focus in this notebook is on regression, with small adjustments, many of the techniques discussed here can be easily adapted for classification problems."
   ]
  },
  {
   "cell_type": "markdown",
   "id": "d7828809",
   "metadata": {
    "papermill": {
     "duration": 0.013838,
     "end_time": "2024-09-16T12:58:16.917147",
     "exception": false,
     "start_time": "2024-09-16T12:58:16.903309",
     "status": "completed"
    },
    "tags": []
   },
   "source": [
    "# Imports and configs"
   ]
  },
  {
   "cell_type": "code",
   "execution_count": 1,
   "id": "03daa7c9",
   "metadata": {
    "_kg_hide-output": true,
    "execution": {
     "iopub.execute_input": "2024-09-16T12:58:16.948894Z",
     "iopub.status.busy": "2024-09-16T12:58:16.948447Z",
     "iopub.status.idle": "2024-09-16T12:58:38.332667Z",
     "shell.execute_reply": "2024-09-16T12:58:38.331085Z"
    },
    "papermill": {
     "duration": 21.404782,
     "end_time": "2024-09-16T12:58:38.335953",
     "exception": false,
     "start_time": "2024-09-16T12:58:16.931171",
     "status": "completed"
    },
    "tags": []
   },
   "outputs": [],
   "source": [
    "!pip install -q hillclimbers"
   ]
  },
  {
   "cell_type": "code",
   "execution_count": 2,
   "id": "f78e18be",
   "metadata": {
    "_cell_guid": "b1076dfc-b9ad-4769-8c92-a6c4dae69d19",
    "_uuid": "8f2839f25d086af736a60e9eeb907d3b93b6e0e5",
    "execution": {
     "iopub.execute_input": "2024-09-16T12:58:38.368327Z",
     "iopub.status.busy": "2024-09-16T12:58:38.367827Z",
     "iopub.status.idle": "2024-09-16T12:58:44.475038Z",
     "shell.execute_reply": "2024-09-16T12:58:44.473822Z"
    },
    "papermill": {
     "duration": 6.12774,
     "end_time": "2024-09-16T12:58:44.478101",
     "exception": false,
     "start_time": "2024-09-16T12:58:38.350361",
     "status": "completed"
    },
    "tags": []
   },
   "outputs": [],
   "source": [
    "from sklearn.ensemble import HistGradientBoostingRegressor, VotingRegressor, StackingRegressor\n",
    "from sklearn.feature_selection import mutual_info_regression\n",
    "from sklearn.preprocessing import MinMaxScaler, OrdinalEncoder\n",
    "from sklearn.metrics import mean_squared_error\n",
    "from sklearn.linear_model import Ridge, Lasso\n",
    "from sklearn.model_selection import KFold\n",
    "from sklearn.base import clone\n",
    "from hillclimbers import climb_hill, partial\n",
    "from xgboost import XGBRFRegressor, XGBRegressor\n",
    "from catboost import CatBoostRegressor\n",
    "from lightgbm import LGBMRegressor\n",
    "import matplotlib.pyplot as plt\n",
    "import seaborn as sns\n",
    "import pandas as pd\n",
    "import numpy as np\n",
    "import warnings\n",
    "import optuna\n",
    "import shutil\n",
    "import pickle\n",
    "import gc\n",
    "import os\n",
    "\n",
    "warnings.filterwarnings('ignore')"
   ]
  },
  {
   "cell_type": "code",
   "execution_count": 3,
   "id": "7a7ca7c3",
   "metadata": {
    "execution": {
     "iopub.execute_input": "2024-09-16T12:58:44.510411Z",
     "iopub.status.busy": "2024-09-16T12:58:44.509707Z",
     "iopub.status.idle": "2024-09-16T12:58:44.515917Z",
     "shell.execute_reply": "2024-09-16T12:58:44.514843Z"
    },
    "papermill": {
     "duration": 0.025275,
     "end_time": "2024-09-16T12:58:44.518319",
     "exception": false,
     "start_time": "2024-09-16T12:58:44.493044",
     "status": "completed"
    },
    "tags": []
   },
   "outputs": [],
   "source": [
    "class CFG:\n",
    "    train_path = '/kaggle/input/playground-series-s4e9/train.csv'\n",
    "    test_path = '/kaggle/input/playground-series-s4e9/test.csv'\n",
    "    sample_sub_path = '/kaggle/input/playground-series-s4e9/sample_submission.csv'\n",
    "\n",
    "    target = 'price'\n",
    "    n_folds = 5\n",
    "    seed = 228"
   ]
  },
  {
   "cell_type": "markdown",
   "id": "1d0334b5",
   "metadata": {
    "papermill": {
     "duration": 0.014268,
     "end_time": "2024-09-16T12:58:44.547297",
     "exception": false,
     "start_time": "2024-09-16T12:58:44.533029",
     "status": "completed"
    },
    "tags": []
   },
   "source": [
    "# Data preprocessing\n",
    "\n",
    "The dataset in this competition contains only two numerical features: `model_year` and `mileage`. The rest are categorical and need to be processed accordingly. Additionally, three of the categorical columns—`fuel_type`, `clean_title`, and `accident`—contain missing values and need to be handled for models that can't deal with missing values on their own. \n",
    "\n",
    "I will not add any new features even though there are columns such as `engine` that contain a lot of information about the car. This is due to the synthetic nature of the dataset, which contains noise, and engineering new features often just adds to this noise."
   ]
  },
  {
   "cell_type": "code",
   "execution_count": 4,
   "id": "dcb7c58a",
   "metadata": {
    "execution": {
     "iopub.execute_input": "2024-09-16T12:58:44.578268Z",
     "iopub.status.busy": "2024-09-16T12:58:44.577817Z",
     "iopub.status.idle": "2024-09-16T12:58:46.197199Z",
     "shell.execute_reply": "2024-09-16T12:58:46.195981Z"
    },
    "papermill": {
     "duration": 1.63846,
     "end_time": "2024-09-16T12:58:46.200532",
     "exception": false,
     "start_time": "2024-09-16T12:58:44.562072",
     "status": "completed"
    },
    "tags": []
   },
   "outputs": [],
   "source": [
    "train = pd.read_csv(CFG.train_path, index_col='id')\n",
    "test = pd.read_csv(CFG.test_path, index_col='id')"
   ]
  },
  {
   "cell_type": "code",
   "execution_count": 5,
   "id": "9c6f2436",
   "metadata": {
    "execution": {
     "iopub.execute_input": "2024-09-16T12:58:46.233099Z",
     "iopub.status.busy": "2024-09-16T12:58:46.232559Z",
     "iopub.status.idle": "2024-09-16T12:58:46.243694Z",
     "shell.execute_reply": "2024-09-16T12:58:46.242501Z"
    },
    "papermill": {
     "duration": 0.030245,
     "end_time": "2024-09-16T12:58:46.246412",
     "exception": false,
     "start_time": "2024-09-16T12:58:46.216167",
     "status": "completed"
    },
    "tags": []
   },
   "outputs": [],
   "source": [
    "def get_data(train=train, test=test, impute=False, encode=False):\n",
    "    cat_cols = train.select_dtypes(include=['object']).columns.tolist()\n",
    "    \n",
    "    for col in cat_cols:\n",
    "        if impute:\n",
    "            train[col].fillna('missing', inplace=True)\n",
    "            test[col].fillna('missing', inplace=True)\n",
    "        \n",
    "        train[col] = train[col].astype('category')\n",
    "        test[col] = test[col].astype('category')\n",
    "        \n",
    "    if encode:\n",
    "        encoder = OrdinalEncoder(handle_unknown='use_encoded_value', unknown_value=-1)\n",
    "        train[cat_cols] = encoder.fit_transform(train[cat_cols])\n",
    "        test[cat_cols] = encoder.transform(test[cat_cols])\n",
    "        \n",
    "    X = train.drop(CFG.target, axis=1)\n",
    "    y = train[CFG.target]\n",
    "    X_test = test.copy()\n",
    "    \n",
    "    return X, y, X_test, cat_cols"
   ]
  },
  {
   "cell_type": "markdown",
   "id": "3e156df0",
   "metadata": {
    "papermill": {
     "duration": 0.014101,
     "end_time": "2024-09-16T12:58:46.275373",
     "exception": false,
     "start_time": "2024-09-16T12:58:46.261272",
     "status": "completed"
    },
    "tags": []
   },
   "source": [
    "Here, we can see that all features are usefull, thus there is no need to eliminate any of the features."
   ]
  },
  {
   "cell_type": "code",
   "execution_count": 6,
   "id": "1b1219cc",
   "metadata": {
    "execution": {
     "iopub.execute_input": "2024-09-16T12:58:46.309087Z",
     "iopub.status.busy": "2024-09-16T12:58:46.308379Z",
     "iopub.status.idle": "2024-09-16T12:59:10.647568Z",
     "shell.execute_reply": "2024-09-16T12:59:10.645863Z"
    },
    "papermill": {
     "duration": 24.3615,
     "end_time": "2024-09-16T12:59:10.651779",
     "exception": false,
     "start_time": "2024-09-16T12:58:46.290279",
     "status": "completed"
    },
    "tags": []
   },
   "outputs": [
    {
     "data": {
      "text/html": [
       "<style type=\"text/css\">\n",
       "#T_3809b_row0_col0 {\n",
       "  width: 10em;\n",
       "  background: linear-gradient(90deg, #006837 100.0%, transparent 100.0%);\n",
       "}\n",
       "#T_3809b_row1_col0 {\n",
       "  width: 10em;\n",
       "  background: linear-gradient(90deg, #148e4b 92.1%, transparent 92.1%);\n",
       "}\n",
       "#T_3809b_row2_col0 {\n",
       "  width: 10em;\n",
       "  background: linear-gradient(90deg, #51b35e 82.6%, transparent 82.6%);\n",
       "}\n",
       "#T_3809b_row3_col0 {\n",
       "  width: 10em;\n",
       "  background: linear-gradient(90deg, #b3df72 67.3%, transparent 67.3%);\n",
       "}\n",
       "#T_3809b_row4_col0 {\n",
       "  width: 10em;\n",
       "  background: linear-gradient(90deg, #c5e67e 63.9%, transparent 63.9%);\n",
       "}\n",
       "#T_3809b_row5_col0 {\n",
       "  width: 10em;\n",
       "  background: linear-gradient(90deg, #f88950 24.4%, transparent 24.4%);\n",
       "}\n",
       "#T_3809b_row6_col0 {\n",
       "  width: 10em;\n",
       "  background: linear-gradient(90deg, #f67f4b 22.7%, transparent 22.7%);\n",
       "}\n",
       "#T_3809b_row7_col0 {\n",
       "  width: 10em;\n",
       "  background: linear-gradient(90deg, #f36b42 19.9%, transparent 19.9%);\n",
       "}\n",
       "#T_3809b_row8_col0 {\n",
       "  width: 10em;\n",
       "  background: linear-gradient(90deg, #f26841 19.2%, transparent 19.2%);\n",
       "}\n",
       "#T_3809b_row9_col0 {\n",
       "  width: 10em;\n",
       "  background: linear-gradient(90deg, #d62f27 9.9%, transparent 9.9%);\n",
       "}\n",
       "#T_3809b_row10_col0 {\n",
       "  width: 10em;\n",
       "  background: linear-gradient(90deg, #bd1726 4.7%, transparent 4.7%);\n",
       "}\n",
       "</style>\n",
       "<table id=\"T_3809b\">\n",
       "  <thead>\n",
       "    <tr>\n",
       "      <th class=\"blank level0\" >&nbsp;</th>\n",
       "      <th id=\"T_3809b_level0_col0\" class=\"col_heading level0 col0\" >Mutual Information</th>\n",
       "    </tr>\n",
       "  </thead>\n",
       "  <tbody>\n",
       "    <tr>\n",
       "      <th id=\"T_3809b_level0_row0\" class=\"row_heading level0 row0\" >milage</th>\n",
       "      <td id=\"T_3809b_row0_col0\" class=\"data row0 col0\" >0.659162</td>\n",
       "    </tr>\n",
       "    <tr>\n",
       "      <th id=\"T_3809b_level0_row1\" class=\"row_heading level0 row1\" >engine</th>\n",
       "      <td id=\"T_3809b_row1_col0\" class=\"data row1 col0\" >0.606871</td>\n",
       "    </tr>\n",
       "    <tr>\n",
       "      <th id=\"T_3809b_level0_row2\" class=\"row_heading level0 row2\" >model_year</th>\n",
       "      <td id=\"T_3809b_row2_col0\" class=\"data row2 col0\" >0.544162</td>\n",
       "    </tr>\n",
       "    <tr>\n",
       "      <th id=\"T_3809b_level0_row3\" class=\"row_heading level0 row3\" >transmission</th>\n",
       "      <td id=\"T_3809b_row3_col0\" class=\"data row3 col0\" >0.443439</td>\n",
       "    </tr>\n",
       "    <tr>\n",
       "      <th id=\"T_3809b_level0_row4\" class=\"row_heading level0 row4\" >model</th>\n",
       "      <td id=\"T_3809b_row4_col0\" class=\"data row4 col0\" >0.421122</td>\n",
       "    </tr>\n",
       "    <tr>\n",
       "      <th id=\"T_3809b_level0_row5\" class=\"row_heading level0 row5\" >clean_title</th>\n",
       "      <td id=\"T_3809b_row5_col0\" class=\"data row5 col0\" >0.160905</td>\n",
       "    </tr>\n",
       "    <tr>\n",
       "      <th id=\"T_3809b_level0_row6\" class=\"row_heading level0 row6\" >brand</th>\n",
       "      <td id=\"T_3809b_row6_col0\" class=\"data row6 col0\" >0.149762</td>\n",
       "    </tr>\n",
       "    <tr>\n",
       "      <th id=\"T_3809b_level0_row7\" class=\"row_heading level0 row7\" >ext_col</th>\n",
       "      <td id=\"T_3809b_row7_col0\" class=\"data row7 col0\" >0.130857</td>\n",
       "    </tr>\n",
       "    <tr>\n",
       "      <th id=\"T_3809b_level0_row8\" class=\"row_heading level0 row8\" >int_col</th>\n",
       "      <td id=\"T_3809b_row8_col0\" class=\"data row8 col0\" >0.126786</td>\n",
       "    </tr>\n",
       "    <tr>\n",
       "      <th id=\"T_3809b_level0_row9\" class=\"row_heading level0 row9\" >accident</th>\n",
       "      <td id=\"T_3809b_row9_col0\" class=\"data row9 col0\" >0.065448</td>\n",
       "    </tr>\n",
       "    <tr>\n",
       "      <th id=\"T_3809b_level0_row10\" class=\"row_heading level0 row10\" >fuel_type</th>\n",
       "      <td id=\"T_3809b_row10_col0\" class=\"data row10 col0\" >0.031248</td>\n",
       "    </tr>\n",
       "  </tbody>\n",
       "</table>\n"
      ],
      "text/plain": [
       "<pandas.io.formats.style.Styler at 0x791011a9fbb0>"
      ]
     },
     "execution_count": 6,
     "metadata": {},
     "output_type": "execute_result"
    }
   ],
   "source": [
    "_X_mi, _y_mi, _, _ = get_data(impute=True, encode=True)\n",
    "\n",
    "mutual_info = mutual_info_regression(_X_mi, _y_mi, random_state=CFG.seed)\n",
    "\n",
    "mutual_info = pd.Series(mutual_info)\n",
    "mutual_info.index = _X_mi.columns\n",
    "mutual_info = pd.DataFrame(mutual_info.sort_values(ascending=False), columns=['Mutual Information'])\n",
    "mutual_info.style.bar(subset=['Mutual Information'], cmap='RdYlGn')"
   ]
  },
  {
   "cell_type": "markdown",
   "id": "ed36db27",
   "metadata": {
    "papermill": {
     "duration": 0.014637,
     "end_time": "2024-09-16T12:59:10.682986",
     "exception": false,
     "start_time": "2024-09-16T12:59:10.668349",
     "status": "completed"
    },
    "tags": []
   },
   "source": [
    "# Training base models\n",
    "\n",
    "Here, I have created a class to train and cross-validate the base models. I will use this class to train all five of my base models, as well as some of the ensemble models. The class also contains a function that saves OOF predictions of the base models. Feel free to use these OOF files in your own ensemble."
   ]
  },
  {
   "cell_type": "code",
   "execution_count": 7,
   "id": "9f4bdc46",
   "metadata": {
    "execution": {
     "iopub.execute_input": "2024-09-16T12:59:10.714887Z",
     "iopub.status.busy": "2024-09-16T12:59:10.714386Z",
     "iopub.status.idle": "2024-09-16T12:59:10.720133Z",
     "shell.execute_reply": "2024-09-16T12:59:10.718890Z"
    },
    "papermill": {
     "duration": 0.024605,
     "end_time": "2024-09-16T12:59:10.722570",
     "exception": false,
     "start_time": "2024-09-16T12:59:10.697965",
     "status": "completed"
    },
    "tags": []
   },
   "outputs": [],
   "source": [
    "os.mkdir('oof_preds')\n",
    "os.mkdir('test_preds')"
   ]
  },
  {
   "cell_type": "code",
   "execution_count": 8,
   "id": "951f3b6c",
   "metadata": {
    "execution": {
     "iopub.execute_input": "2024-09-16T12:59:10.756547Z",
     "iopub.status.busy": "2024-09-16T12:59:10.756026Z",
     "iopub.status.idle": "2024-09-16T12:59:10.774796Z",
     "shell.execute_reply": "2024-09-16T12:59:10.772957Z"
    },
    "papermill": {
     "duration": 0.039351,
     "end_time": "2024-09-16T12:59:10.777670",
     "exception": false,
     "start_time": "2024-09-16T12:59:10.738319",
     "status": "completed"
    },
    "tags": []
   },
   "outputs": [],
   "source": [
    "class Trainer:\n",
    "    def __init__(self, model, CFG, is_ensemble=False, save_preds=False):\n",
    "        self.model = model\n",
    "        self.config = CFG\n",
    "        self.is_ensemble = is_ensemble\n",
    "        self.save_preds = save_preds\n",
    "\n",
    "    def fit_predict(self, X, y, X_test):\n",
    "        print(f'Training {self.model.__class__.__name__}\\n')\n",
    "        \n",
    "        scores = []        \n",
    "        coeffs = np.zeros((1, X.shape[1]))\n",
    "        oof_preds = np.zeros(len(X), dtype=np.float32)\n",
    "        test_preds = np.zeros(len(X_test), dtype=np.float32)\n",
    "        \n",
    "        skf = KFold(n_splits=self.config.n_folds, random_state=self.config.seed, shuffle=True)\n",
    "        for fold_idx, (train_idx, val_idx) in enumerate(skf.split(X, y)):\n",
    "            X_train, X_val = X.iloc[train_idx], X.iloc[val_idx]\n",
    "            y_train, y_val = y[train_idx], y[val_idx]\n",
    "            \n",
    "            model = clone(self.model)\n",
    "            model.fit(X_train, y_train)\n",
    "            \n",
    "            if self.is_ensemble:\n",
    "                coeffs += model.coef_ / self.config.n_folds\n",
    "            \n",
    "            y_preds = model.predict(X_val)\n",
    "            oof_preds[val_idx] = y_preds\n",
    "            \n",
    "            temp_test_preds = model.predict(X_test)\n",
    "            test_preds += temp_test_preds / self.config.n_folds\n",
    "            \n",
    "            score = mean_squared_error(y_val, y_preds, squared=False)\n",
    "            scores.append(score)\n",
    "            \n",
    "            del model, X_train, y_train, X_val, y_val, y_preds, temp_test_preds\n",
    "            gc.collect()\n",
    "            \n",
    "            print(f'--- Fold {fold_idx + 1} - RMSE: {round(score)}')\n",
    "            \n",
    "        overall_score = mean_squared_error(y, oof_preds, squared=False)\n",
    "        \n",
    "        print(f'\\nOverall RMSE: {round(overall_score)} ± {round(np.std(scores))}')\n",
    "        \n",
    "        if self.save_preds:\n",
    "            self._save_preds(oof_preds, overall_score, 'oof')\n",
    "            self._save_preds(test_preds, overall_score, 'test')\n",
    "        \n",
    "        if self.is_ensemble:\n",
    "            return oof_preds, test_preds, scores, coeffs[0]\n",
    "        else:\n",
    "            return oof_preds, test_preds, scores\n",
    "        \n",
    "    def _save_preds(self, preds, cv_score, name):\n",
    "        model_name = self.model.__class__.__name__.lower().replace('regressor', '')\n",
    "        with open(f'{name}_preds/{model_name}_{name}_preds_{round(cv_score)}.pkl', 'wb') as f:\n",
    "            pickle.dump(preds, f)"
   ]
  },
  {
   "cell_type": "code",
   "execution_count": 9,
   "id": "eea97dc7",
   "metadata": {
    "execution": {
     "iopub.execute_input": "2024-09-16T12:59:10.809501Z",
     "iopub.status.busy": "2024-09-16T12:59:10.809040Z",
     "iopub.status.idle": "2024-09-16T12:59:10.814975Z",
     "shell.execute_reply": "2024-09-16T12:59:10.813889Z"
    },
    "papermill": {
     "duration": 0.02472,
     "end_time": "2024-09-16T12:59:10.817531",
     "exception": false,
     "start_time": "2024-09-16T12:59:10.792811",
     "status": "completed"
    },
    "tags": []
   },
   "outputs": [],
   "source": [
    "def save_submission(test_preds, name, score):\n",
    "    sub = pd.read_csv(CFG.sample_sub_path)\n",
    "    sub[CFG.target] = test_preds\n",
    "    sub.to_csv(f'sub_{name}_{round(score)}.csv', index=False)\n",
    "    return sub"
   ]
  },
  {
   "cell_type": "code",
   "execution_count": 10,
   "id": "539f0dcb",
   "metadata": {
    "_kg_hide-input": true,
    "execution": {
     "iopub.execute_input": "2024-09-16T12:59:10.849741Z",
     "iopub.status.busy": "2024-09-16T12:59:10.849268Z",
     "iopub.status.idle": "2024-09-16T12:59:10.863758Z",
     "shell.execute_reply": "2024-09-16T12:59:10.862290Z"
    },
    "papermill": {
     "duration": 0.033763,
     "end_time": "2024-09-16T12:59:10.866393",
     "exception": false,
     "start_time": "2024-09-16T12:59:10.832630",
     "status": "completed"
    },
    "tags": []
   },
   "outputs": [],
   "source": [
    "lgbm_params = {\n",
    "    'boosting_type': 'gbdt',\n",
    "    'colsample_bytree': 0.34013409754670304,\n",
    "    'learning_rate': 0.0021360305932962035,\n",
    "    'min_child_samples': 126,\n",
    "    'min_child_weight': 0.9901247757842696,\n",
    "    'n_estimators': 1249,\n",
    "    'n_jobs': -1,\n",
    "    'num_leaves': 158,\n",
    "    'random_state': 228,\n",
    "    'reg_alpha': 9.740034669445125,\n",
    "    'reg_lambda': 7.097360733142808,\n",
    "    'subsample': 0.11257701514970046,\n",
    "    'verbose': -1\n",
    "}\n",
    "\n",
    "xgb_params = {\n",
    "    'colsample_bylevel': 0.30431478133543655,\n",
    "    'colsample_bynode': 0.469654307882196,\n",
    "    'colsample_bytree': 0.9252578895263296,\n",
    "    'enable_categorical': True,\n",
    "    'gamma': 9.367870783795906,\n",
    "    'max_depth': 2,\n",
    "    'max_leaves': 180,\n",
    "    'min_child_weight': 99.17968107073874,\n",
    "    'n_estimators': 267,\n",
    "    'n_jobs': -1,\n",
    "    'random_state': 228,\n",
    "    'reg_alpha': 2.0931358492937377,\n",
    "    'reg_lambda': 4.8457688158406445,\n",
    "    'subsample': 0.8976197759611917,\n",
    "    'verbosity': 0\n",
    "}\n",
    "\n",
    "xgbrf_params = {\n",
    "    'colsample_bylevel': 0.5959756989749774,\n",
    "    'colsample_bynode': 0.9442929118978668,\n",
    "    'colsample_bytree': 0.935619039540816,\n",
    "    'enable_categorical': True,\n",
    "    'gamma': 2.3838032192843372,\n",
    "    'max_depth': 17,\n",
    "    'max_leaves': 236,\n",
    "    'min_child_weight': 13.907243756231846,\n",
    "    'n_estimators': 1706,\n",
    "    'n_jobs': -1,\n",
    "    'random_state': 228,\n",
    "    'reg_alpha': 1.852200661668254,\n",
    "    'reg_lambda': 7.431701903343088,\n",
    "    'subsample': 0.8625852478298098,\n",
    "    'verbosity': 0\n",
    "}\n",
    "\n",
    "cb_params = {\n",
    "    'border_count': 160,\n",
    "    'colsample_bylevel': 0.6224237086295239,\n",
    "    'depth': 7,\n",
    "    'iterations': 1537,\n",
    "    'l2_leaf_reg': 6.222727345696355,\n",
    "    'learning_rate': 0.03966994979315638,\n",
    "    'loss_function': 'RMSE',\n",
    "    'min_child_samples': 82,\n",
    "    'random_state': 228,\n",
    "    'random_strength': 0.5190504396230375,\n",
    "    'subsample': 0.3558148077472265,\n",
    "    'verbose': False\n",
    "}\n",
    "\n",
    "hgb_params = {\n",
    "    'l2_regularization': 9.286722364795253,\n",
    "    'learning_rate': 0.05310819986889207,\n",
    "    'max_depth': 8,\n",
    "    'max_iter': 1904,\n",
    "    'max_leaf_nodes': 28,\n",
    "    'min_samples_leaf': 198,\n",
    "    'random_state': 228\n",
    "}"
   ]
  },
  {
   "cell_type": "code",
   "execution_count": 11,
   "id": "cedc34a1",
   "metadata": {
    "execution": {
     "iopub.execute_input": "2024-09-16T12:59:10.901011Z",
     "iopub.status.busy": "2024-09-16T12:59:10.900553Z",
     "iopub.status.idle": "2024-09-16T12:59:10.906244Z",
     "shell.execute_reply": "2024-09-16T12:59:10.905128Z"
    },
    "papermill": {
     "duration": 0.026032,
     "end_time": "2024-09-16T12:59:10.908900",
     "exception": false,
     "start_time": "2024-09-16T12:59:10.882868",
     "status": "completed"
    },
    "tags": []
   },
   "outputs": [],
   "source": [
    "oof_preds = {}\n",
    "test_preds = {}\n",
    "scores = {}"
   ]
  },
  {
   "cell_type": "code",
   "execution_count": 12,
   "id": "e7888c83",
   "metadata": {
    "execution": {
     "iopub.execute_input": "2024-09-16T12:59:10.942749Z",
     "iopub.status.busy": "2024-09-16T12:59:10.942271Z",
     "iopub.status.idle": "2024-09-16T13:05:22.225393Z",
     "shell.execute_reply": "2024-09-16T13:05:22.224310Z"
    },
    "papermill": {
     "duration": 371.319633,
     "end_time": "2024-09-16T13:05:22.244294",
     "exception": false,
     "start_time": "2024-09-16T12:59:10.924661",
     "status": "completed"
    },
    "tags": []
   },
   "outputs": [
    {
     "name": "stdout",
     "output_type": "stream",
     "text": [
      "Training LGBMRegressor\n",
      "\n",
      "--- Fold 1 - RMSE: 72137\n",
      "--- Fold 2 - RMSE: 73403\n",
      "--- Fold 3 - RMSE: 72852\n",
      "--- Fold 4 - RMSE: 72347\n",
      "--- Fold 5 - RMSE: 73703\n",
      "\n",
      "Overall RMSE: 72891 ± 598\n"
     ]
    }
   ],
   "source": [
    "X, y, X_test, _ = get_data(impute=False, encode=False)\n",
    "lgbm_model = LGBMRegressor(**lgbm_params)\n",
    "lgbm_trainer = Trainer(lgbm_model, CFG, save_preds=True)\n",
    "oof_preds['LightGBM'], test_preds['LightGBM'], scores['LightGBM'] = lgbm_trainer.fit_predict(X, y, X_test)"
   ]
  },
  {
   "cell_type": "code",
   "execution_count": 13,
   "id": "b607f15d",
   "metadata": {
    "execution": {
     "iopub.execute_input": "2024-09-16T13:05:22.281175Z",
     "iopub.status.busy": "2024-09-16T13:05:22.280559Z",
     "iopub.status.idle": "2024-09-16T13:05:41.462366Z",
     "shell.execute_reply": "2024-09-16T13:05:41.461015Z"
    },
    "papermill": {
     "duration": 19.203916,
     "end_time": "2024-09-16T13:05:41.465212",
     "exception": false,
     "start_time": "2024-09-16T13:05:22.261296",
     "status": "completed"
    },
    "tags": []
   },
   "outputs": [
    {
     "name": "stdout",
     "output_type": "stream",
     "text": [
      "Training XGBRegressor\n",
      "\n",
      "--- Fold 1 - RMSE: 72281\n",
      "--- Fold 2 - RMSE: 73534\n",
      "--- Fold 3 - RMSE: 72995\n",
      "--- Fold 4 - RMSE: 72338\n",
      "--- Fold 5 - RMSE: 73801\n",
      "\n",
      "Overall RMSE: 72993 ± 613\n"
     ]
    }
   ],
   "source": [
    "X, y, X_test, _ = get_data(impute=False, encode=False)\n",
    "xgb_model = XGBRegressor(**xgb_params)\n",
    "xgb_trainer = Trainer(xgb_model, CFG, save_preds=True)\n",
    "oof_preds['XGBoost'], test_preds['XGBoost'], scores['XGBoost'] = xgb_trainer.fit_predict(X, y, X_test)"
   ]
  },
  {
   "cell_type": "code",
   "execution_count": 14,
   "id": "260a289e",
   "metadata": {
    "execution": {
     "iopub.execute_input": "2024-09-16T13:05:41.500564Z",
     "iopub.status.busy": "2024-09-16T13:05:41.500010Z",
     "iopub.status.idle": "2024-09-16T13:13:43.081515Z",
     "shell.execute_reply": "2024-09-16T13:13:43.080270Z"
    },
    "papermill": {
     "duration": 481.619228,
     "end_time": "2024-09-16T13:13:43.101309",
     "exception": false,
     "start_time": "2024-09-16T13:05:41.482081",
     "status": "completed"
    },
    "tags": []
   },
   "outputs": [
    {
     "name": "stdout",
     "output_type": "stream",
     "text": [
      "Training XGBRFRegressor\n",
      "\n",
      "--- Fold 1 - RMSE: 72340\n",
      "--- Fold 2 - RMSE: 73566\n",
      "--- Fold 3 - RMSE: 73138\n",
      "--- Fold 4 - RMSE: 72457\n",
      "--- Fold 5 - RMSE: 73857\n",
      "\n",
      "Overall RMSE: 73074 ± 596\n"
     ]
    }
   ],
   "source": [
    "X, y, X_test, _ = get_data(impute=False, encode=False)\n",
    "xgbrf_model = XGBRFRegressor(**xgbrf_params)\n",
    "xgbrf_trainer = Trainer(xgbrf_model, CFG, save_preds=True)\n",
    "oof_preds['XGBoost (RF)'], test_preds['XGBoost (RF)'], scores['XGBoost (RF)'] = xgbrf_trainer.fit_predict(X, y, X_test)"
   ]
  },
  {
   "cell_type": "code",
   "execution_count": 15,
   "id": "c24eda8f",
   "metadata": {
    "execution": {
     "iopub.execute_input": "2024-09-16T13:13:43.137476Z",
     "iopub.status.busy": "2024-09-16T13:13:43.137014Z",
     "iopub.status.idle": "2024-09-16T13:15:30.145897Z",
     "shell.execute_reply": "2024-09-16T13:15:30.143819Z"
    },
    "papermill": {
     "duration": 107.031172,
     "end_time": "2024-09-16T13:15:30.149801",
     "exception": false,
     "start_time": "2024-09-16T13:13:43.118629",
     "status": "completed"
    },
    "tags": []
   },
   "outputs": [
    {
     "name": "stdout",
     "output_type": "stream",
     "text": [
      "Training CatBoostRegressor\n",
      "\n",
      "--- Fold 1 - RMSE: 72154\n",
      "--- Fold 2 - RMSE: 73502\n",
      "--- Fold 3 - RMSE: 72986\n",
      "--- Fold 4 - RMSE: 72281\n",
      "--- Fold 5 - RMSE: 73579\n",
      "\n",
      "Overall RMSE: 72903 ± 595\n"
     ]
    }
   ],
   "source": [
    "X, y, X_test, cat_features = get_data(impute=True, encode=False)\n",
    "cb_model = CatBoostRegressor(**cb_params, cat_features=cat_features)\n",
    "cb_trainer = Trainer(cb_model, CFG, save_preds=True)\n",
    "oof_preds['CatBoost'], test_preds['CatBoost'], scores['CatBoost'] = cb_trainer.fit_predict(X, y, X_test)"
   ]
  },
  {
   "cell_type": "code",
   "execution_count": 16,
   "id": "323fc360",
   "metadata": {
    "execution": {
     "iopub.execute_input": "2024-09-16T13:15:30.188684Z",
     "iopub.status.busy": "2024-09-16T13:15:30.188240Z",
     "iopub.status.idle": "2024-09-16T13:16:01.728182Z",
     "shell.execute_reply": "2024-09-16T13:16:01.726901Z"
    },
    "papermill": {
     "duration": 31.581991,
     "end_time": "2024-09-16T13:16:01.749713",
     "exception": false,
     "start_time": "2024-09-16T13:15:30.167722",
     "status": "completed"
    },
    "tags": []
   },
   "outputs": [
    {
     "name": "stdout",
     "output_type": "stream",
     "text": [
      "Training HistGradientBoostingRegressor\n",
      "\n",
      "--- Fold 1 - RMSE: 71930\n",
      "--- Fold 2 - RMSE: 73336\n",
      "--- Fold 3 - RMSE: 72767\n",
      "--- Fold 4 - RMSE: 72253\n",
      "--- Fold 5 - RMSE: 73587\n",
      "\n",
      "Overall RMSE: 72777 ± 626\n"
     ]
    }
   ],
   "source": [
    "X, y, X_test, _ = get_data(impute=True, encode=True)\n",
    "hgb_model = HistGradientBoostingRegressor(**hgb_params)\n",
    "hgb_trainer = Trainer(hgb_model, CFG, save_preds=True)\n",
    "oof_preds['HistGB'], test_preds['HistGB'], scores['HistGB'] = hgb_trainer.fit_predict(X, y, X_test)"
   ]
  },
  {
   "cell_type": "markdown",
   "id": "7ba1683f",
   "metadata": {
    "papermill": {
     "duration": 0.018648,
     "end_time": "2024-09-16T13:16:01.787792",
     "exception": false,
     "start_time": "2024-09-16T13:16:01.769144",
     "status": "completed"
    },
    "tags": []
   },
   "source": [
    "# Ensembling base models"
   ]
  },
  {
   "cell_type": "code",
   "execution_count": 17,
   "id": "ef8faf7a",
   "metadata": {
    "execution": {
     "iopub.execute_input": "2024-09-16T13:16:01.825887Z",
     "iopub.status.busy": "2024-09-16T13:16:01.825446Z",
     "iopub.status.idle": "2024-09-16T13:16:01.837828Z",
     "shell.execute_reply": "2024-09-16T13:16:01.836701Z"
    },
    "papermill": {
     "duration": 0.035018,
     "end_time": "2024-09-16T13:16:01.840953",
     "exception": false,
     "start_time": "2024-09-16T13:16:01.805935",
     "status": "completed"
    },
    "tags": []
   },
   "outputs": [],
   "source": [
    "def plot_weights(title, weights):\n",
    "    plt.figure(figsize=(10, 4))\n",
    "\n",
    "    weights = pd.Series(weights, index=test_preds.keys()).sort_values(ascending=False)\n",
    "    sns.barplot(y=weights.index, x=weights.values, palette='RdYlGn_r')\n",
    "    plt.title(title)\n",
    "    plt.ylabel('')\n",
    "    plt.xlabel('')\n",
    "\n",
    "    for i, (value, name) in enumerate(zip(weights, test_preds.keys())):\n",
    "        if value > 0:\n",
    "            plt.text(value, i, f'{value:.3f}', va='center', ha='left', color='black')\n",
    "        else:\n",
    "            plt.text(value, i, f'{value:.3f}', va='center', ha='right', color='black')\n",
    "\n",
    "    xlim = plt.xlim()\n",
    "    plt.xlim(xlim[0] - 1.2 * abs(xlim[0]), xlim[1] + 0.1 * abs(xlim[1]))\n",
    "\n",
    "    plt.tight_layout()\n",
    "    plt.show()"
   ]
  },
  {
   "cell_type": "markdown",
   "id": "285ae16b",
   "metadata": {
    "papermill": {
     "duration": 0.018875,
     "end_time": "2024-09-16T13:16:01.878242",
     "exception": false,
     "start_time": "2024-09-16T13:16:01.859367",
     "status": "completed"
    },
    "tags": []
   },
   "source": [
    "## Weighted Averaging\n",
    "\n",
    "One simple way to combine the predictions of multiple models is to assign a weight to each model and take the weighted average of the predictions. To find the optimal weights, we can use a hyperparameter optimization tool such as Optuna. Here, I've defined an Optuna run that optimizes the weights assigned to each model based on the overall RMSE achieved for each set of weights.\n"
   ]
  },
  {
   "cell_type": "code",
   "execution_count": 18,
   "id": "d50ee3c1",
   "metadata": {
    "execution": {
     "iopub.execute_input": "2024-09-16T13:16:01.917735Z",
     "iopub.status.busy": "2024-09-16T13:16:01.917268Z",
     "iopub.status.idle": "2024-09-16T13:16:01.926168Z",
     "shell.execute_reply": "2024-09-16T13:16:01.924986Z"
    },
    "papermill": {
     "duration": 0.031588,
     "end_time": "2024-09-16T13:16:01.928703",
     "exception": false,
     "start_time": "2024-09-16T13:16:01.897115",
     "status": "completed"
    },
    "tags": []
   },
   "outputs": [],
   "source": [
    "def objective(trial):\n",
    "    lgbm_weight = trial.suggest_float('lgbm_weight', 0.0, 1.0)\n",
    "    xgb_weight = trial.suggest_float('xgb_weight', 0.0, 1.0)\n",
    "    xgbrf_weight = trial.suggest_float('xgbrf_weight', 0.0, 1.0)\n",
    "    cb_weight = trial.suggest_float('cb_weight', 0.0, 1.0)\n",
    "    hgb_weight = trial.suggest_float('hgb_weight', 0.0, 1.0)\n",
    "\n",
    "    weights = [\n",
    "        lgbm_weight,\n",
    "        xgb_weight,\n",
    "        xgbrf_weight, \n",
    "        cb_weight, \n",
    "        hgb_weight\n",
    "    ]\n",
    "    weights /= np.sum(weights)\n",
    "\n",
    "    preds = np.zeros((X.shape[0]))\n",
    "    for model, weight in zip(oof_preds.keys(), weights):\n",
    "        preds += oof_preds[model] * weight\n",
    "\n",
    "    return mean_squared_error(preds, y, squared=False)"
   ]
  },
  {
   "cell_type": "code",
   "execution_count": 19,
   "id": "31957322",
   "metadata": {
    "_kg_hide-output": true,
    "execution": {
     "iopub.execute_input": "2024-09-16T13:16:01.967576Z",
     "iopub.status.busy": "2024-09-16T13:16:01.967094Z",
     "iopub.status.idle": "2024-09-16T13:16:28.865293Z",
     "shell.execute_reply": "2024-09-16T13:16:28.863522Z"
    },
    "papermill": {
     "duration": 26.921548,
     "end_time": "2024-09-16T13:16:28.868658",
     "exception": false,
     "start_time": "2024-09-16T13:16:01.947110",
     "status": "completed"
    },
    "scrolled": true,
    "tags": []
   },
   "outputs": [
    {
     "name": "stderr",
     "output_type": "stream",
     "text": [
      "[I 2024-09-16 13:16:01,971] A new study created in memory with name: no-name-c6ebbb1d-64a1-466f-818e-a29ad573eaa5\n",
      "[I 2024-09-16 13:16:01,979] Trial 0 finished with value: 72763.92190902305 and parameters: {'lgbm_weight': 0.4238108114695278, 'xgb_weight': 0.5417427669021565, 'xgbrf_weight': 0.6885548977177369, 'cb_weight': 0.34608302515355915, 'hgb_weight': 0.4390290042342089}. Best is trial 0 with value: 72763.92190902305.\n",
      "[I 2024-09-16 13:16:01,986] Trial 1 finished with value: 72726.44946677845 and parameters: {'lgbm_weight': 0.5890490882552291, 'xgb_weight': 0.6536621729379826, 'xgbrf_weight': 0.11026583566095016, 'cb_weight': 0.14290265496795074, 'hgb_weight': 0.8741773566676976}. Best is trial 1 with value: 72726.44946677845.\n",
      "[I 2024-09-16 13:16:01,993] Trial 2 finished with value: 72713.01369204531 and parameters: {'lgbm_weight': 0.3370017886945007, 'xgb_weight': 0.0690762632890779, 'xgbrf_weight': 0.3119193394222002, 'cb_weight': 0.6127806231598824, 'hgb_weight': 0.6540414802670811}. Best is trial 2 with value: 72713.01369204531.\n",
      "[I 2024-09-16 13:16:01,999] Trial 3 finished with value: 72846.78593883963 and parameters: {'lgbm_weight': 0.9019173161265741, 'xgb_weight': 0.09308366220543696, 'xgbrf_weight': 0.9244497226698039, 'cb_weight': 0.18210112807430978, 'hgb_weight': 0.049038918177003565}. Best is trial 2 with value: 72713.01369204531.\n",
      "[I 2024-09-16 13:16:02,007] Trial 4 finished with value: 72733.6943293569 and parameters: {'lgbm_weight': 0.2527441719989775, 'xgb_weight': 0.1826865086609536, 'xgbrf_weight': 0.44111359306734066, 'cb_weight': 0.7383970181535947, 'hgb_weight': 0.29166448974847015}. Best is trial 2 with value: 72713.01369204531.\n",
      "[I 2024-09-16 13:16:02,014] Trial 5 finished with value: 72825.00240729409 and parameters: {'lgbm_weight': 0.2833477186170118, 'xgb_weight': 0.1298766880433775, 'xgbrf_weight': 0.6457086389716167, 'cb_weight': 0.05455697208908716, 'hgb_weight': 0.28154316530908785}. Best is trial 2 with value: 72713.01369204531.\n",
      "[I 2024-09-16 13:16:02,020] Trial 6 finished with value: 72702.3281778838 and parameters: {'lgbm_weight': 0.3434105184743179, 'xgb_weight': 0.21657858910800498, 'xgbrf_weight': 0.12818860512945918, 'cb_weight': 0.4152257525979104, 'hgb_weight': 0.6072169320209568}. Best is trial 6 with value: 72702.3281778838.\n",
      "[I 2024-09-16 13:16:02,026] Trial 7 finished with value: 72774.66395025965 and parameters: {'lgbm_weight': 0.48208289394067116, 'xgb_weight': 0.0056310875634181246, 'xgbrf_weight': 0.47664683270455677, 'cb_weight': 0.09416782637433863, 'hgb_weight': 0.4739188545206965}. Best is trial 6 with value: 72702.3281778838.\n",
      "[I 2024-09-16 13:16:02,032] Trial 8 finished with value: 72740.20125790994 and parameters: {'lgbm_weight': 0.39475752051885105, 'xgb_weight': 0.2725631144869781, 'xgbrf_weight': 0.6919906081588489, 'cb_weight': 0.6287500848087164, 'hgb_weight': 0.5407462328199973}. Best is trial 6 with value: 72702.3281778838.\n",
      "[I 2024-09-16 13:16:02,039] Trial 9 finished with value: 72780.13920753497 and parameters: {'lgbm_weight': 0.9245543572376594, 'xgb_weight': 0.28561500460894307, 'xgbrf_weight': 0.5732866384964466, 'cb_weight': 0.034174307904028534, 'hgb_weight': 0.5758903071098127}. Best is trial 6 with value: 72702.3281778838.\n",
      "[I 2024-09-16 13:16:02,077] Trial 10 finished with value: 72723.14146552962 and parameters: {'lgbm_weight': 0.006526275111689239, 'xgb_weight': 0.9270568148823798, 'xgbrf_weight': 0.05143292135437512, 'cb_weight': 0.9900432582222168, 'hgb_weight': 0.9982624707904182}. Best is trial 6 with value: 72702.3281778838.\n",
      "[I 2024-09-16 13:16:02,116] Trial 11 finished with value: 72710.42814464791 and parameters: {'lgbm_weight': 0.6730618250672594, 'xgb_weight': 0.3618946320153169, 'xgbrf_weight': 0.24262300821049862, 'cb_weight': 0.4992563471602202, 'hgb_weight': 0.7300160990155762}. Best is trial 6 with value: 72702.3281778838.\n",
      "[I 2024-09-16 13:16:02,162] Trial 12 finished with value: 72714.75285239701 and parameters: {'lgbm_weight': 0.6937877655167495, 'xgb_weight': 0.4145773835476413, 'xgbrf_weight': 0.22853916839175192, 'cb_weight': 0.3832061128541677, 'hgb_weight': 0.75962637032167}. Best is trial 6 with value: 72702.3281778838.\n",
      "[I 2024-09-16 13:16:02,204] Trial 13 finished with value: 72714.34274339859 and parameters: {'lgbm_weight': 0.731885414052661, 'xgb_weight': 0.4298489583996764, 'xgbrf_weight': 0.22898035078545018, 'cb_weight': 0.41473010718914094, 'hgb_weight': 0.7468165663816011}. Best is trial 6 with value: 72702.3281778838.\n",
      "[I 2024-09-16 13:16:02,243] Trial 14 finished with value: 72714.4916627481 and parameters: {'lgbm_weight': 0.11360297205266001, 'xgb_weight': 0.6374372907263154, 'xgbrf_weight': 0.024629092893121984, 'cb_weight': 0.5474753546378592, 'hgb_weight': 0.8026849117254963}. Best is trial 6 with value: 72702.3281778838.\n",
      "[I 2024-09-16 13:16:02,284] Trial 15 finished with value: 72719.63660734285 and parameters: {'lgbm_weight': 0.6240643349866623, 'xgb_weight': 0.342757529572156, 'xgbrf_weight': 0.34649585447685977, 'cb_weight': 0.7840568402610806, 'hgb_weight': 0.34982362555644764}. Best is trial 6 with value: 72702.3281778838.\n",
      "[I 2024-09-16 13:16:02,329] Trial 16 finished with value: 72736.86713554688 and parameters: {'lgbm_weight': 0.7538340124571241, 'xgb_weight': 0.847972053279856, 'xgbrf_weight': 0.17873042701241837, 'cb_weight': 0.23698429876827465, 'hgb_weight': 0.6612674410845283}. Best is trial 6 with value: 72702.3281778838.\n",
      "[I 2024-09-16 13:16:02,385] Trial 17 finished with value: 72717.12837148565 and parameters: {'lgbm_weight': 0.16315940787605965, 'xgb_weight': 0.21572105306856715, 'xgbrf_weight': 0.3228023074645371, 'cb_weight': 0.4756106393434988, 'hgb_weight': 0.9696879001661701}. Best is trial 6 with value: 72702.3281778838.\n",
      "[I 2024-09-16 13:16:02,433] Trial 18 finished with value: 72718.24386061005 and parameters: {'lgbm_weight': 0.5486893258455365, 'xgb_weight': 0.5362116200054543, 'xgbrf_weight': 0.1466683799058991, 'cb_weight': 0.3016431452251518, 'hgb_weight': 0.6438971525869875}. Best is trial 6 with value: 72702.3281778838.\n",
      "[I 2024-09-16 13:16:02,475] Trial 19 finished with value: 72714.35094166077 and parameters: {'lgbm_weight': 0.8406406552895742, 'xgb_weight': 0.3689695995427043, 'xgbrf_weight': 0.012107854822592523, 'cb_weight': 0.7692679084942031, 'hgb_weight': 0.11713608860769709}. Best is trial 6 with value: 72702.3281778838.\n",
      "[I 2024-09-16 13:16:02,517] Trial 20 finished with value: 72735.7686593432 and parameters: {'lgbm_weight': 0.5052738898317689, 'xgb_weight': 0.7003932165855452, 'xgbrf_weight': 0.9121564576586795, 'cb_weight': 0.9328103528086099, 'hgb_weight': 0.8806721804484046}. Best is trial 6 with value: 72702.3281778838.\n",
      "[I 2024-09-16 13:16:02,559] Trial 21 finished with value: 72715.65856333521 and parameters: {'lgbm_weight': 0.3178135576323846, 'xgb_weight': 0.016731456437493693, 'xgbrf_weight': 0.3268236421041253, 'cb_weight': 0.6070027599380674, 'hgb_weight': 0.6477755176156379}. Best is trial 6 with value: 72702.3281778838.\n",
      "[I 2024-09-16 13:16:02,602] Trial 22 finished with value: 72710.67832880853 and parameters: {'lgbm_weight': 0.3856040026328244, 'xgb_weight': 0.113377965957839, 'xgbrf_weight': 0.2705608479736619, 'cb_weight': 0.4648278298494656, 'hgb_weight': 0.695139352982552}. Best is trial 6 with value: 72702.3281778838.\n",
      "[I 2024-09-16 13:16:02,645] Trial 23 finished with value: 72719.07955253999 and parameters: {'lgbm_weight': 0.4184067601821265, 'xgb_weight': 0.2100323410981632, 'xgbrf_weight': 0.40681204023428696, 'cb_weight': 0.4638781694443422, 'hgb_weight': 0.8134307664273668}. Best is trial 6 with value: 72702.3281778838.\n",
      "[I 2024-09-16 13:16:02,688] Trial 24 finished with value: 72720.90445480934 and parameters: {'lgbm_weight': 0.20256356431119737, 'xgb_weight': 0.30279101320076973, 'xgbrf_weight': 0.2440927734293049, 'cb_weight': 0.2627761881670526, 'hgb_weight': 0.7306590182221426}. Best is trial 6 with value: 72702.3281778838.\n",
      "[I 2024-09-16 13:16:02,730] Trial 25 finished with value: 72703.52153057289 and parameters: {'lgbm_weight': 0.6128245568929027, 'xgb_weight': 0.14660068950202368, 'xgbrf_weight': 0.10283680826677966, 'cb_weight': 0.5329917877075655, 'hgb_weight': 0.41505298236801524}. Best is trial 6 with value: 72702.3281778838.\n",
      "[I 2024-09-16 13:16:02,774] Trial 26 finished with value: 72710.29953770708 and parameters: {'lgbm_weight': 0.6595727861072274, 'xgb_weight': 0.4649382852094079, 'xgbrf_weight': 0.13523908494621564, 'cb_weight': 0.6858244773720333, 'hgb_weight': 0.3679675978536761}. Best is trial 6 with value: 72702.3281778838.\n",
      "[I 2024-09-16 13:16:02,818] Trial 27 finished with value: 72707.60501014124 and parameters: {'lgbm_weight': 0.6267944844941987, 'xgb_weight': 0.4557250151035296, 'xgbrf_weight': 0.10635643471713839, 'cb_weight': 0.6946226393599247, 'hgb_weight': 0.3880000234062384}. Best is trial 6 with value: 72702.3281778838.\n",
      "[I 2024-09-16 13:16:02,862] Trial 28 finished with value: 72712.66318032387 and parameters: {'lgbm_weight': 0.8081848682539561, 'xgb_weight': 0.16937072585246601, 'xgbrf_weight': 0.08260841492563412, 'cb_weight': 0.8636673725512, 'hgb_weight': 0.20799745897726674}. Best is trial 6 with value: 72702.3281778838.\n",
      "[I 2024-09-16 13:16:02,906] Trial 29 finished with value: 72757.0549353369 and parameters: {'lgbm_weight': 0.4850045022379761, 'xgb_weight': 0.5877772777976215, 'xgbrf_weight': 0.7704202776305882, 'cb_weight': 0.5488507267822188, 'hgb_weight': 0.4037502158716021}. Best is trial 6 with value: 72702.3281778838.\n",
      "[I 2024-09-16 13:16:02,952] Trial 30 finished with value: 72722.10349968304 and parameters: {'lgbm_weight': 0.6156300049813936, 'xgb_weight': 0.7387519674202067, 'xgbrf_weight': 0.0015186312621697784, 'cb_weight': 0.34272775238268305, 'hgb_weight': 0.47276671012811483}. Best is trial 6 with value: 72702.3281778838.\n",
      "[I 2024-09-16 13:16:02,996] Trial 31 finished with value: 72711.19899995257 and parameters: {'lgbm_weight': 0.535495080412149, 'xgb_weight': 0.47768975455134477, 'xgbrf_weight': 0.1526612855338736, 'cb_weight': 0.6898928998100146, 'hgb_weight': 0.37702767809381066}. Best is trial 6 with value: 72702.3281778838.\n",
      "[I 2024-09-16 13:16:03,038] Trial 32 finished with value: 72703.35101260764 and parameters: {'lgbm_weight': 0.6602503437397135, 'xgb_weight': 0.4624893900391681, 'xgbrf_weight': 0.1015977812095353, 'cb_weight': 0.6959662970654563, 'hgb_weight': 0.5536378169374059}. Best is trial 6 with value: 72702.3281778838.\n",
      "[I 2024-09-16 13:16:03,080] Trial 33 finished with value: 72703.5764077203 and parameters: {'lgbm_weight': 0.5687969462077495, 'xgb_weight': 0.5392413846792595, 'xgbrf_weight': 0.09137960580699513, 'cb_weight': 0.8369893800888568, 'hgb_weight': 0.5897005760366008}. Best is trial 6 with value: 72702.3281778838.\n",
      "[I 2024-09-16 13:16:03,124] Trial 34 finished with value: 72705.174746239 and parameters: {'lgbm_weight': 0.9945367780149045, 'xgb_weight': 0.5757379860677327, 'xgbrf_weight': 0.07818413605917751, 'cb_weight': 0.8404562282001565, 'hgb_weight': 0.5609893389671994}. Best is trial 6 with value: 72702.3281778838.\n",
      "[I 2024-09-16 13:16:03,168] Trial 35 finished with value: 72716.42060378274 and parameters: {'lgbm_weight': 0.5798391423325264, 'xgb_weight': 0.7887508144941614, 'xgbrf_weight': 0.2002239342594897, 'cb_weight': 0.8270470919445075, 'hgb_weight': 0.5193796140666799}. Best is trial 6 with value: 72702.3281778838.\n",
      "[I 2024-09-16 13:16:03,213] Trial 36 finished with value: 72705.72311688947 and parameters: {'lgbm_weight': 0.4498019380939163, 'xgb_weight': 0.5328832919757287, 'xgbrf_weight': 0.0932835530872736, 'cb_weight': 0.5807331630744262, 'hgb_weight': 0.6110059244392856}. Best is trial 6 with value: 72702.3281778838.\n",
      "[I 2024-09-16 13:16:03,255] Trial 37 finished with value: 72723.75033717991 and parameters: {'lgbm_weight': 0.34795146915898384, 'xgb_weight': 0.06200585709242892, 'xgbrf_weight': 0.3874842412926557, 'cb_weight': 0.90929502371285, 'hgb_weight': 0.4556654595905515}. Best is trial 6 with value: 72702.3281778838.\n",
      "[I 2024-09-16 13:16:03,297] Trial 38 finished with value: 72712.98581934525 and parameters: {'lgbm_weight': 0.7646018111614067, 'xgb_weight': 0.2526582042043979, 'xgbrf_weight': 0.18582754974589188, 'cb_weight': 0.7327312861417521, 'hgb_weight': 0.3022548643548412}. Best is trial 6 with value: 72702.3281778838.\n",
      "[I 2024-09-16 13:16:03,338] Trial 39 finished with value: 72710.93359224925 and parameters: {'lgbm_weight': 0.5633941636602023, 'xgb_weight': 0.15547665133538724, 'xgbrf_weight': 0.2749679415626709, 'cb_weight': 0.6371338095285755, 'hgb_weight': 0.5158522357651317}. Best is trial 6 with value: 72702.3281778838.\n",
      "[I 2024-09-16 13:16:03,383] Trial 40 finished with value: 72738.41942361345 and parameters: {'lgbm_weight': 0.2689648463813146, 'xgb_weight': 0.6274484915698426, 'xgbrf_weight': 0.5229497568151042, 'cb_weight': 0.5379595620598296, 'hgb_weight': 0.5927404108418897}. Best is trial 6 with value: 72702.3281778838.\n",
      "[I 2024-09-16 13:16:03,427] Trial 41 finished with value: 72705.68282136688 and parameters: {'lgbm_weight': 0.9919920178551755, 'xgb_weight': 0.610246456378345, 'xgbrf_weight': 0.07824279260851222, 'cb_weight': 0.8513731835304571, 'hgb_weight': 0.5594167512121505}. Best is trial 6 with value: 72702.3281778838.\n",
      "[I 2024-09-16 13:16:03,471] Trial 42 finished with value: 72707.5618896347 and parameters: {'lgbm_weight': 0.9058442509114852, 'xgb_weight': 0.5701314019220154, 'xgbrf_weight': 0.06863815885508759, 'cb_weight': 0.808744945617901, 'hgb_weight': 0.42987580337833786}. Best is trial 6 with value: 72702.3281778838.\n",
      "[I 2024-09-16 13:16:03,515] Trial 43 finished with value: 72708.91420399478 and parameters: {'lgbm_weight': 0.9678025161877561, 'xgb_weight': 0.696463536076835, 'xgbrf_weight': 0.12582851808364132, 'cb_weight': 0.9967912417975041, 'hgb_weight': 0.49847407396459537}. Best is trial 6 with value: 72702.3281778838.\n",
      "[I 2024-09-16 13:16:03,559] Trial 44 finished with value: 72700.40701082838 and parameters: {'lgbm_weight': 0.84982583043464, 'xgb_weight': 0.5091544907478683, 'xgbrf_weight': 0.023790736886226113, 'cb_weight': 0.9164255313633558, 'hgb_weight': 0.5598544849420514}. Best is trial 44 with value: 72700.40701082838.\n",
      "[I 2024-09-16 13:16:03,602] Trial 45 finished with value: 72698.49743147873 and parameters: {'lgbm_weight': 0.7002919314874149, 'xgb_weight': 0.40761841089262507, 'xgbrf_weight': 0.04041764390788857, 'cb_weight': 0.8889499559215486, 'hgb_weight': 0.6080063748027766}. Best is trial 45 with value: 72698.49743147873.\n",
      "[I 2024-09-16 13:16:03,649] Trial 46 finished with value: 72697.58488482052 and parameters: {'lgbm_weight': 0.8099060041418908, 'xgb_weight': 0.40712132749122854, 'xgbrf_weight': 0.021743175609446382, 'cb_weight': 0.9186474780745898, 'hgb_weight': 0.6310276749013738}. Best is trial 46 with value: 72697.58488482052.\n",
      "[I 2024-09-16 13:16:03,697] Trial 47 finished with value: 72697.57294089824 and parameters: {'lgbm_weight': 0.8678394059053502, 'xgb_weight': 0.40807575534479856, 'xgbrf_weight': 0.038181619226875546, 'cb_weight': 0.9337891294323223, 'hgb_weight': 0.6854872219961129}. Best is trial 47 with value: 72697.57294089824.\n",
      "[I 2024-09-16 13:16:03,741] Trial 48 finished with value: 72697.58956555616 and parameters: {'lgbm_weight': 0.8369261614076728, 'xgb_weight': 0.40212376142319733, 'xgbrf_weight': 0.0401393720266784, 'cb_weight': 0.9364873081522763, 'hgb_weight': 0.6790039843338114}. Best is trial 47 with value: 72697.57294089824.\n",
      "[I 2024-09-16 13:16:03,786] Trial 49 finished with value: 72696.90762156517 and parameters: {'lgbm_weight': 0.8506981659798585, 'xgb_weight': 0.39727287960474644, 'xgbrf_weight': 0.024231241113582734, 'cb_weight': 0.9350416092261866, 'hgb_weight': 0.6856912191283476}. Best is trial 49 with value: 72696.90762156517.\n",
      "[I 2024-09-16 13:16:03,829] Trial 50 finished with value: 72695.50612740045 and parameters: {'lgbm_weight': 0.8652788051041034, 'xgb_weight': 0.37935952971217823, 'xgbrf_weight': 0.027916086918865917, 'cb_weight': 0.9572461992282635, 'hgb_weight': 0.8067390205117162}. Best is trial 50 with value: 72695.50612740045.\n",
      "[I 2024-09-16 13:16:03,876] Trial 51 finished with value: 72695.17168285398 and parameters: {'lgbm_weight': 0.8512709723953542, 'xgb_weight': 0.4061140699483255, 'xgbrf_weight': 0.031204899255345208, 'cb_weight': 0.9544618084816243, 'hgb_weight': 0.8693488755437252}. Best is trial 51 with value: 72695.17168285398.\n",
      "[I 2024-09-16 13:16:03,919] Trial 52 finished with value: 72695.12161868667 and parameters: {'lgbm_weight': 0.8545730258165387, 'xgb_weight': 0.3218904947982407, 'xgbrf_weight': 0.044865413837796145, 'cb_weight': 0.9623587322946776, 'hgb_weight': 0.8807047444143413}. Best is trial 52 with value: 72695.12161868667.\n",
      "[I 2024-09-16 13:16:03,964] Trial 53 finished with value: 72694.11096310303 and parameters: {'lgbm_weight': 0.938415394516267, 'xgb_weight': 0.3347487359365193, 'xgbrf_weight': 0.010236901870801975, 'cb_weight': 0.9613981946944691, 'hgb_weight': 0.8974207753388898}. Best is trial 53 with value: 72694.11096310303.\n",
      "[I 2024-09-16 13:16:04,011] Trial 54 finished with value: 72693.78488388562 and parameters: {'lgbm_weight': 0.9456232958568297, 'xgb_weight': 0.3354095207263009, 'xgbrf_weight': 0.0009641453183352154, 'cb_weight': 0.9636954346570896, 'hgb_weight': 0.9047693410439342}. Best is trial 54 with value: 72693.78488388562.\n",
      "[I 2024-09-16 13:16:04,055] Trial 55 finished with value: 72693.72550142779 and parameters: {'lgbm_weight': 0.9328228525049398, 'xgb_weight': 0.3168221649866849, 'xgbrf_weight': 0.005978930117376959, 'cb_weight': 0.971607346931176, 'hgb_weight': 0.9235089806779756}. Best is trial 55 with value: 72693.72550142779.\n",
      "[I 2024-09-16 13:16:04,100] Trial 56 finished with value: 72699.97118602846 and parameters: {'lgbm_weight': 0.9414419748126148, 'xgb_weight': 0.34177037903184515, 'xgbrf_weight': 0.1791081693145828, 'cb_weight': 0.9601469054866474, 'hgb_weight': 0.9179534857671678}. Best is trial 55 with value: 72693.72550142779.\n",
      "[I 2024-09-16 13:16:04,142] Trial 57 finished with value: 72694.20790006942 and parameters: {'lgbm_weight': 0.8864412686258661, 'xgb_weight': 0.32895629756511463, 'xgbrf_weight': 0.0005087065191130315, 'cb_weight': 0.9742779128163358, 'hgb_weight': 0.8338405679910086}. Best is trial 55 with value: 72693.72550142779.\n",
      "[I 2024-09-16 13:16:04,187] Trial 58 finished with value: 72693.52524821056 and parameters: {'lgbm_weight': 0.9399345788084232, 'xgb_weight': 0.316625894149148, 'xgbrf_weight': 0.00018088267640367292, 'cb_weight': 0.9923877694130732, 'hgb_weight': 0.9378701793167247}. Best is trial 58 with value: 72693.52524821056.\n",
      "[I 2024-09-16 13:16:04,230] Trial 59 finished with value: 72698.17194059299 and parameters: {'lgbm_weight': 0.9365448284265323, 'xgb_weight': 0.30882203017813786, 'xgbrf_weight': 0.14426244700615273, 'cb_weight': 0.9930084526605656, 'hgb_weight': 0.9559814189072688}. Best is trial 58 with value: 72693.52524821056.\n",
      "[I 2024-09-16 13:16:04,273] Trial 60 finished with value: 72695.85276348324 and parameters: {'lgbm_weight': 0.9058901504593231, 'xgb_weight': 0.2738467803937564, 'xgbrf_weight': 0.05772772994106784, 'cb_weight': 0.8795897774064151, 'hgb_weight': 0.8472147665532108}. Best is trial 58 with value: 72693.52524821056.\n",
      "[I 2024-09-16 13:16:04,318] Trial 61 finished with value: 72694.12082741567 and parameters: {'lgbm_weight': 0.9515054456999728, 'xgb_weight': 0.32044994318230774, 'xgbrf_weight': 0.009330271337382689, 'cb_weight': 0.9712143801349362, 'hgb_weight': 0.8973767844035636}. Best is trial 58 with value: 72693.52524821056.\n",
      "[I 2024-09-16 13:16:04,362] Trial 62 finished with value: 72733.65645789074 and parameters: {'lgbm_weight': 0.9590019961448015, 'xgb_weight': 0.23450095553693312, 'xgbrf_weight': 0.9813774897121175, 'cb_weight': 0.9719487086643243, 'hgb_weight': 0.9229603772866546}. Best is trial 58 with value: 72693.52524821056.\n",
      "[I 2024-09-16 13:16:04,405] Trial 63 finished with value: 72693.46808122657 and parameters: {'lgbm_weight': 0.8920958974963639, 'xgb_weight': 0.32820779179288945, 'xgbrf_weight': 0.003854254602567705, 'cb_weight': 0.8929224013982726, 'hgb_weight': 0.9116430941677774}. Best is trial 63 with value: 72693.46808122657.\n",
      "[I 2024-09-16 13:16:04,448] Trial 64 finished with value: 72693.2708866454 and parameters: {'lgbm_weight': 0.8932036985020928, 'xgb_weight': 0.1920513407793302, 'xgbrf_weight': 0.005801850365327323, 'cb_weight': 0.8905269561281248, 'hgb_weight': 0.9644462816651262}. Best is trial 64 with value: 72693.2708866454.\n",
      "[I 2024-09-16 13:16:04,492] Trial 65 finished with value: 72692.64260802101 and parameters: {'lgbm_weight': 0.7939374156261113, 'xgb_weight': 0.2729871698577836, 'xgbrf_weight': 0.0005088594963939615, 'cb_weight': 0.8922046419553482, 'hgb_weight': 0.9845539423703825}. Best is trial 65 with value: 72692.64260802101.\n",
      "[I 2024-09-16 13:16:04,537] Trial 66 finished with value: 72721.93018887455 and parameters: {'lgbm_weight': 0.798191548331879, 'xgb_weight': 0.1867622373945498, 'xgbrf_weight': 0.6685466535527383, 'cb_weight': 0.8005249001454732, 'hgb_weight': 0.9994864805083609}. Best is trial 65 with value: 72692.64260802101.\n",
      "[I 2024-09-16 13:16:04,583] Trial 67 finished with value: 72725.26522399238 and parameters: {'lgbm_weight': 0.9076983460754885, 'xgb_weight': 0.25436872812840816, 'xgbrf_weight': 0.7736758227099476, 'cb_weight': 0.8961074685186657, 'hgb_weight': 0.9629448155789891}. Best is trial 65 with value: 72692.64260802101.\n",
      "[I 2024-09-16 13:16:04,629] Trial 68 finished with value: 72697.04943161727 and parameters: {'lgbm_weight': 0.9956669925596069, 'xgb_weight': 0.2017169138694348, 'xgbrf_weight': 0.06623442685879019, 'cb_weight': 0.7521951542850186, 'hgb_weight': 0.9369375463068695}. Best is trial 65 with value: 72692.64260802101.\n",
      "[I 2024-09-16 13:16:04,677] Trial 69 finished with value: 72698.70067139038 and parameters: {'lgbm_weight': 0.7760467096909726, 'xgb_weight': 0.2877854388662398, 'xgbrf_weight': 0.12819461523516473, 'cb_weight': 0.8665076137671184, 'hgb_weight': 0.7818155427349965}. Best is trial 65 with value: 72692.64260802101.\n",
      "[I 2024-09-16 13:16:04,725] Trial 70 finished with value: 72692.96286798005 and parameters: {'lgbm_weight': 0.7295704784673862, 'xgb_weight': 0.2395276058366973, 'xgbrf_weight': 0.004354579939007613, 'cb_weight': 0.895939386408345, 'hgb_weight': 0.9806273367278276}. Best is trial 65 with value: 72692.64260802101.\n",
      "[I 2024-09-16 13:16:04,770] Trial 71 finished with value: 72709.80317040016 and parameters: {'lgbm_weight': 0.7276675912501145, 'xgb_weight': 0.2450573955219203, 'xgbrf_weight': 0.0011660221875353996, 'cb_weight': 0.14902341367414684, 'hgb_weight': 0.9753767238573281}. Best is trial 65 with value: 72692.64260802101.\n",
      "[I 2024-09-16 13:16:04,816] Trial 72 finished with value: 72695.32928915975 and parameters: {'lgbm_weight': 0.9201613487271431, 'xgb_weight': 0.28110389314077056, 'xgbrf_weight': 0.06078633060300495, 'cb_weight': 0.8880242341254247, 'hgb_weight': 0.9383843697314511}. Best is trial 65 with value: 72692.64260802101.\n",
      "[I 2024-09-16 13:16:04,862] Trial 73 finished with value: 72698.38899162623 and parameters: {'lgbm_weight': 0.8764711235502771, 'xgb_weight': 0.11883240843060963, 'xgbrf_weight': 0.11779353700859699, 'cb_weight': 0.9989528431088666, 'hgb_weight': 0.900958294912714}. Best is trial 65 with value: 72692.64260802101.\n",
      "[I 2024-09-16 13:16:04,907] Trial 74 finished with value: 72700.96919177985 and parameters: {'lgbm_weight': 0.8163206831419346, 'xgb_weight': 0.0672041445619441, 'xgbrf_weight': 0.1652293160247451, 'cb_weight': 0.7819735646746182, 'hgb_weight': 0.8503115959618912}. Best is trial 65 with value: 72692.64260802101.\n",
      "[I 2024-09-16 13:16:04,951] Trial 75 finished with value: 72693.78774907946 and parameters: {'lgbm_weight': 0.9669476390575982, 'xgb_weight': 0.36743267319020667, 'xgbrf_weight': 0.0002056425436290886, 'cb_weight': 0.8182167610564448, 'hgb_weight': 0.984577939544102}. Best is trial 65 with value: 72692.64260802101.\n",
      "[I 2024-09-16 13:16:04,994] Trial 76 finished with value: 72697.33577755044 and parameters: {'lgbm_weight': 0.9641860119594508, 'xgb_weight': 0.37406654762030006, 'xgbrf_weight': 0.0968408331637356, 'cb_weight': 0.8323678660730203, 'hgb_weight': 0.9870101013052284}. Best is trial 65 with value: 72692.64260802101.\n",
      "[I 2024-09-16 13:16:05,038] Trial 77 finished with value: 72695.05376490614 and parameters: {'lgbm_weight': 0.8856246980327945, 'xgb_weight': 0.21930788791813804, 'xgbrf_weight': 0.061186712133103595, 'cb_weight': 0.8641613054985225, 'hgb_weight': 0.9638274773839307}. Best is trial 65 with value: 72692.64260802101.\n",
      "[I 2024-09-16 13:16:05,087] Trial 78 finished with value: 72692.84665876254 and parameters: {'lgbm_weight': 0.7305157713194873, 'xgb_weight': 0.36315899544267216, 'xgbrf_weight': 0.0010587351065409166, 'cb_weight': 0.8052533017806777, 'hgb_weight': 0.9984517064674687}. Best is trial 65 with value: 72692.64260802101.\n",
      "[I 2024-09-16 13:16:05,133] Trial 79 finished with value: 72696.2903790648 and parameters: {'lgbm_weight': 0.7102113560316241, 'xgb_weight': 0.1748337187160302, 'xgbrf_weight': 0.08738966686559446, 'cb_weight': 0.9059353366146378, 'hgb_weight': 0.934415618849696}. Best is trial 65 with value: 72692.64260802101.\n",
      "[I 2024-09-16 13:16:05,179] Trial 80 finished with value: 72703.98321818744 and parameters: {'lgbm_weight': 0.7588523450214788, 'xgb_weight': 0.43402620460492464, 'xgbrf_weight': 0.21970071320770684, 'cb_weight': 0.7344138368923943, 'hgb_weight': 0.8674077469136823}. Best is trial 65 with value: 72692.64260802101.\n",
      "[I 2024-09-16 13:16:05,224] Trial 81 finished with value: 72695.95102782024 and parameters: {'lgbm_weight': 0.971888790173196, 'xgb_weight': 0.3642817717632689, 'xgbrf_weight': 0.053930313542488485, 'cb_weight': 0.8001286549775285, 'hgb_weight': 0.9858471723132806}. Best is trial 65 with value: 72692.64260802101.\n",
      "[I 2024-09-16 13:16:05,270] Trial 82 finished with value: 72692.72987881201 and parameters: {'lgbm_weight': 0.7832199840338868, 'xgb_weight': 0.26572115656475415, 'xgbrf_weight': 0.004277805269554854, 'cb_weight': 0.8487374973058373, 'hgb_weight': 0.9509115357353813}. Best is trial 65 with value: 72692.64260802101.\n",
      "[I 2024-09-16 13:16:05,315] Trial 83 finished with value: 72718.73142480296 and parameters: {'lgbm_weight': 0.7903552927266978, 'xgb_weight': 0.26612277231248266, 'xgbrf_weight': 0.6126768003321549, 'cb_weight': 0.8531601893349533, 'hgb_weight': 0.9474160086639568}. Best is trial 65 with value: 72692.64260802101.\n",
      "[I 2024-09-16 13:16:05,359] Trial 84 finished with value: 72696.92442442662 and parameters: {'lgbm_weight': 0.7324378810556128, 'xgb_weight': 0.2957475811681148, 'xgbrf_weight': 0.111058040473591, 'cb_weight': 0.9230524354147116, 'hgb_weight': 0.9259813519589144}. Best is trial 65 with value: 72692.64260802101.\n",
      "[I 2024-09-16 13:16:05,406] Trial 85 finished with value: 72695.0919285128 and parameters: {'lgbm_weight': 0.8210033237641217, 'xgb_weight': 0.22094133655186574, 'xgbrf_weight': 0.042886462442046136, 'cb_weight': 0.8860474276617539, 'hgb_weight': 0.8279922392559015}. Best is trial 65 with value: 72692.64260802101.\n",
      "[I 2024-09-16 13:16:05,453] Trial 86 finished with value: 72695.9594337413 and parameters: {'lgbm_weight': 0.6822487937481311, 'xgb_weight': 0.19573105952883058, 'xgbrf_weight': 0.07316371724595455, 'cb_weight': 0.9077753023495467, 'hgb_weight': 0.9091930651937044}. Best is trial 65 with value: 72692.64260802101.\n",
      "[I 2024-09-16 13:16:05,504] Trial 87 finished with value: 72725.20127331422 and parameters: {'lgbm_weight': 0.7374336200046822, 'xgb_weight': 0.14141531545686978, 'xgbrf_weight': 0.026189895564310253, 'cb_weight': 0.7614894508224087, 'hgb_weight': 0.0010864680415180183}. Best is trial 65 with value: 72692.64260802101.\n",
      "[I 2024-09-16 13:16:05,551] Trial 88 finished with value: 72718.01154960495 and parameters: {'lgbm_weight': 0.015281287772184293, 'xgb_weight': 0.3507802161561024, 'xgbrf_weight': 0.05066204477312344, 'cb_weight': 0.932409342944108, 'hgb_weight': 0.9571825975572954}. Best is trial 65 with value: 72692.64260802101.\n",
      "[I 2024-09-16 13:16:05,596] Trial 89 finished with value: 72706.96421169362 and parameters: {'lgbm_weight': 0.7770057297071437, 'xgb_weight': 0.9435799165069558, 'xgbrf_weight': 0.11661814551931098, 'cb_weight': 0.8664770920600886, 'hgb_weight': 0.9995598775226079}. Best is trial 65 with value: 72692.64260802101.\n",
      "[I 2024-09-16 13:16:05,642] Trial 90 finished with value: 72714.05715130095 and parameters: {'lgbm_weight': 0.8334224155258385, 'xgb_weight': 0.3038848021245285, 'xgbrf_weight': 0.4838314649981883, 'cb_weight': 0.9459143168475223, 'hgb_weight': 0.7817640814606016}. Best is trial 65 with value: 72692.64260802101.\n",
      "[I 2024-09-16 13:16:05,688] Trial 91 finished with value: 72693.21446715556 and parameters: {'lgbm_weight': 0.9212906719016519, 'xgb_weight': 0.2345726179153566, 'xgbrf_weight': 0.005267829040269373, 'cb_weight': 0.8443949141319753, 'hgb_weight': 0.9704955282789657}. Best is trial 65 with value: 72692.64260802101.\n",
      "[I 2024-09-16 13:16:05,734] Trial 92 finished with value: 72694.23153136921 and parameters: {'lgbm_weight': 0.8938332421290762, 'xgb_weight': 0.23843168031410894, 'xgbrf_weight': 0.023911320896653838, 'cb_weight': 0.8366996952303835, 'hgb_weight': 0.8828110323598588}. Best is trial 65 with value: 72692.64260802101.\n",
      "[I 2024-09-16 13:16:05,782] Trial 93 finished with value: 72696.44192600789 and parameters: {'lgbm_weight': 0.9223666394196486, 'xgb_weight': 0.2681073223192763, 'xgbrf_weight': 0.08025308576610526, 'cb_weight': 0.7886528484673636, 'hgb_weight': 0.9489467338445768}. Best is trial 65 with value: 72692.64260802101.\n",
      "[I 2024-09-16 13:16:05,828] Trial 94 finished with value: 72703.93459160352 and parameters: {'lgbm_weight': 0.9196705275795587, 'xgb_weight': 0.9852849315803824, 'xgbrf_weight': 0.002190128835115404, 'cb_weight': 0.9010154699351975, 'hgb_weight': 0.9671919483305256}. Best is trial 65 with value: 72692.64260802101.\n",
      "[I 2024-09-16 13:16:05,877] Trial 95 finished with value: 72694.38116541758 and parameters: {'lgbm_weight': 0.6603007023982574, 'xgb_weight': 0.29692814904830256, 'xgbrf_weight': 0.034684553531947306, 'cb_weight': 0.8761519438389326, 'hgb_weight': 0.9131885905025263}. Best is trial 65 with value: 72692.64260802101.\n",
      "[I 2024-09-16 13:16:05,922] Trial 96 finished with value: 72696.93891227148 and parameters: {'lgbm_weight': 0.8736027539044552, 'xgb_weight': 0.09920436843161069, 'xgbrf_weight': 0.05578084832389017, 'cb_weight': 0.982343817072218, 'hgb_weight': 0.8585854935863477}. Best is trial 65 with value: 72692.64260802101.\n",
      "[I 2024-09-16 13:16:05,968] Trial 97 finished with value: 72695.38260614936 and parameters: {'lgbm_weight': 0.9834158573118231, 'xgb_weight': 0.43455322177987615, 'xgbrf_weight': 0.022077815935427018, 'cb_weight': 0.8150558256158082, 'hgb_weight': 0.9743579256182566}. Best is trial 65 with value: 72692.64260802101.\n",
      "[I 2024-09-16 13:16:06,016] Trial 98 finished with value: 72696.80010015391 and parameters: {'lgbm_weight': 0.9411801924160736, 'xgb_weight': 0.23001554217434655, 'xgbrf_weight': 0.08996916020098643, 'cb_weight': 0.9236212946892325, 'hgb_weight': 0.898512324085327}. Best is trial 65 with value: 72692.64260802101.\n",
      "[I 2024-09-16 13:16:06,064] Trial 99 finished with value: 72698.4440501946 and parameters: {'lgbm_weight': 0.8260897946380389, 'xgb_weight': 0.16507522258473742, 'xgbrf_weight': 0.14377110988718755, 'cb_weight': 0.8403795967325861, 'hgb_weight': 0.9216325854855272}. Best is trial 65 with value: 72692.64260802101.\n",
      "[I 2024-09-16 13:16:06,111] Trial 100 finished with value: 72718.8232129289 and parameters: {'lgbm_weight': 0.7965725783982106, 'xgb_weight': 0.2557294435465238, 'xgbrf_weight': 0.016619823160453934, 'cb_weight': 0.07324168202007808, 'hgb_weight': 0.9456985275911417}. Best is trial 65 with value: 72692.64260802101.\n",
      "[I 2024-09-16 13:16:06,157] Trial 101 finished with value: 72694.22880433625 and parameters: {'lgbm_weight': 0.8995710044583852, 'xgb_weight': 0.3593035501649454, 'xgbrf_weight': 0.006590474496872292, 'cb_weight': 0.7098877942651529, 'hgb_weight': 0.9934331117834788}. Best is trial 65 with value: 72692.64260802101.\n",
      "[I 2024-09-16 13:16:06,205] Trial 102 finished with value: 72693.49187621319 and parameters: {'lgbm_weight': 0.9484853958799496, 'xgb_weight': 0.3214320674921356, 'xgbrf_weight': 0.0016975637372813566, 'cb_weight': 0.815826006984363, 'hgb_weight': 0.9760206673804873}. Best is trial 65 with value: 72692.64260802101.\n",
      "[I 2024-09-16 13:16:06,252] Trial 103 finished with value: 72697.07467065298 and parameters: {'lgbm_weight': 0.9356257310319194, 'xgb_weight': 0.3207625014754564, 'xgbrf_weight': 0.04285354348914838, 'cb_weight': 0.6637910079759757, 'hgb_weight': 0.8825097004342691}. Best is trial 65 with value: 72692.64260802101.\n",
      "[I 2024-09-16 13:16:06,298] Trial 104 finished with value: 72695.27168868744 and parameters: {'lgbm_weight': 0.8621346759120936, 'xgb_weight': 0.2813855432081502, 'xgbrf_weight': 0.06410980644451088, 'cb_weight': 0.946563739521127, 'hgb_weight': 0.933855478293732}. Best is trial 65 with value: 72692.64260802101.\n",
      "[I 2024-09-16 13:16:06,347] Trial 105 finished with value: 72695.14990051484 and parameters: {'lgbm_weight': 0.9800917356533653, 'xgb_weight': 0.3308116916531063, 'xgbrf_weight': 0.04191188655769732, 'cb_weight': 0.8500765645730589, 'hgb_weight': 0.966463675023056}. Best is trial 65 with value: 72692.64260802101.\n",
      "[I 2024-09-16 13:16:06,394] Trial 106 finished with value: 72695.19097507537 and parameters: {'lgbm_weight': 0.9996842235534013, 'xgb_weight': 0.38506217130574094, 'xgbrf_weight': 0.021329239493535376, 'cb_weight': 0.7819187739539883, 'hgb_weight': 0.9993675509436176}. Best is trial 65 with value: 72692.64260802101.\n",
      "[I 2024-09-16 13:16:06,440] Trial 107 finished with value: 72697.19646291723 and parameters: {'lgbm_weight': 0.9171422779141927, 'xgb_weight': 0.3411602999260517, 'xgbrf_weight': 0.08107966244570325, 'cb_weight': 0.8879340692608441, 'hgb_weight': 0.8307146206506715}. Best is trial 65 with value: 72692.64260802101.\n",
      "[I 2024-09-16 13:16:06,486] Trial 108 finished with value: 72697.4011234678 and parameters: {'lgbm_weight': 0.9522322919063245, 'xgb_weight': 0.308009419682057, 'xgbrf_weight': 0.10402063727069294, 'cb_weight': 0.9852687860293885, 'hgb_weight': 0.8903850678639015}. Best is trial 65 with value: 72692.64260802101.\n",
      "[I 2024-09-16 13:16:06,533] Trial 109 finished with value: 72749.06853365048 and parameters: {'lgbm_weight': 0.8910818279884484, 'xgb_weight': 0.19914786482264685, 'xgbrf_weight': 0.7547820006707895, 'cb_weight': 0.9136380419009896, 'hgb_weight': 0.1783605775130216}. Best is trial 65 with value: 72692.64260802101.\n",
      "[I 2024-09-16 13:16:06,582] Trial 110 finished with value: 72693.924743324 and parameters: {'lgbm_weight': 0.7534247033856981, 'xgb_weight': 0.2568795509855163, 'xgbrf_weight': 0.03657588815325469, 'cb_weight': 0.8215865837365623, 'hgb_weight': 0.9150742174076738}. Best is trial 65 with value: 72692.64260802101.\n",
      "[I 2024-09-16 13:16:06,628] Trial 111 finished with value: 72694.09787718455 and parameters: {'lgbm_weight': 0.9649175850160782, 'xgb_weight': 0.3881101234869789, 'xgbrf_weight': 0.0025661049002837326, 'cb_weight': 0.8121553080338978, 'hgb_weight': 0.9760826551544606}. Best is trial 65 with value: 72692.64260802101.\n",
      "[I 2024-09-16 13:16:06,677] Trial 112 finished with value: 72694.75586960826 and parameters: {'lgbm_weight': 0.9329086917541493, 'xgb_weight': 0.48571368810163823, 'xgbrf_weight': 0.001797321781342462, 'cb_weight': 0.857945469510649, 'hgb_weight': 0.9497121324171844}. Best is trial 65 with value: 72692.64260802101.\n",
      "[I 2024-09-16 13:16:06,725] Trial 113 finished with value: 72693.29629559339 and parameters: {'lgbm_weight': 0.9531988490922421, 'xgb_weight': 0.35065079174041347, 'xgbrf_weight': 0.0004025177673965423, 'cb_weight': 0.9461630062667031, 'hgb_weight': 0.9816704337041311}. Best is trial 65 with value: 72692.64260802101.\n",
      "[I 2024-09-16 13:16:06,775] Trial 114 finished with value: 72695.09890723984 and parameters: {'lgbm_weight': 0.8822498316171759, 'xgb_weight': 0.35084787020721986, 'xgbrf_weight': 0.06059421690136352, 'cb_weight': 0.9435788279509103, 'hgb_weight': 0.9758925757825928}. Best is trial 65 with value: 72692.64260802101.\n",
      "[I 2024-09-16 13:16:06,823] Trial 115 finished with value: 72694.84815682408 and parameters: {'lgbm_weight': 0.7084798717825249, 'xgb_weight': 0.281996261667171, 'xgbrf_weight': 0.028804685789432176, 'cb_weight': 0.9996528329963462, 'hgb_weight': 0.9327425664971303}. Best is trial 65 with value: 72692.64260802101.\n",
      "[I 2024-09-16 13:16:06,872] Trial 116 finished with value: 72709.8710819854 and parameters: {'lgbm_weight': 0.8434348486625143, 'xgb_weight': 0.2362214223344707, 'xgbrf_weight': 0.4466939112599291, 'cb_weight': 0.9644272781038277, 'hgb_weight': 0.9511348571496712}. Best is trial 65 with value: 72692.64260802101.\n",
      "[I 2024-09-16 13:16:06,920] Trial 117 finished with value: 72733.51994292506 and parameters: {'lgbm_weight': 0.9483691570499323, 'xgb_weight': 0.3121871230552209, 'xgbrf_weight': 0.07189848264043268, 'cb_weight': 0.006897750674627279, 'hgb_weight': 0.9062089286456614}. Best is trial 65 with value: 72692.64260802101.\n",
      "[I 2024-09-16 13:16:06,967] Trial 118 finished with value: 72694.34478572082 and parameters: {'lgbm_weight': 0.9027690168533808, 'xgb_weight': 0.21400495236167427, 'xgbrf_weight': 0.021466869433836425, 'cb_weight': 0.8859879440455527, 'hgb_weight': 0.8724454586329807}. Best is trial 65 with value: 72692.64260802101.\n",
      "[I 2024-09-16 13:16:07,014] Trial 119 finished with value: 72706.74657346963 and parameters: {'lgbm_weight': 0.8655731097824616, 'xgb_weight': 0.2711575360131053, 'xgbrf_weight': 0.3615759655629704, 'cb_weight': 0.9031645543892369, 'hgb_weight': 0.9631249994402783}. Best is trial 65 with value: 72692.64260802101.\n",
      "[I 2024-09-16 13:16:07,061] Trial 120 finished with value: 72695.93667296511 and parameters: {'lgbm_weight': 0.9830238517265424, 'xgb_weight': 0.42521404335239016, 'xgbrf_weight': 0.0495091833051011, 'cb_weight': 0.946496015556327, 'hgb_weight': 0.9270867045972175}. Best is trial 65 with value: 72692.64260802101.\n",
      "[I 2024-09-16 13:16:07,110] Trial 121 finished with value: 72693.73164808298 and parameters: {'lgbm_weight': 0.9537348275136062, 'xgb_weight': 0.35578275408804344, 'xgbrf_weight': 0.007730280469259657, 'cb_weight': 0.8733071560295022, 'hgb_weight': 0.9697394855518167}. Best is trial 65 with value: 72692.64260802101.\n",
      "[I 2024-09-16 13:16:07,158] Trial 122 finished with value: 72693.1594676692 and parameters: {'lgbm_weight': 0.9216329490470311, 'xgb_weight': 0.3403109400292562, 'xgbrf_weight': 0.0005905804699665061, 'cb_weight': 0.8706057593248526, 'hgb_weight': 0.9806122868949945}. Best is trial 65 with value: 72692.64260802101.\n",
      "[I 2024-09-16 13:16:07,208] Trial 123 finished with value: 72694.22241329223 and parameters: {'lgbm_weight': 0.916099095482479, 'xgb_weight': 0.2946765001769518, 'xgbrf_weight': 0.0370095937459796, 'cb_weight': 0.872860429285754, 'hgb_weight': 0.9849443374411571}. Best is trial 65 with value: 72692.64260802101.\n",
      "[I 2024-09-16 13:16:07,254] Trial 124 finished with value: 72694.70279458196 and parameters: {'lgbm_weight': 0.9272476649597493, 'xgb_weight': 0.45025551929079954, 'xgbrf_weight': 0.019357293689036333, 'cb_weight': 0.8465547442557956, 'hgb_weight': 0.9979047743451387}. Best is trial 65 with value: 72692.64260802101.\n",
      "[I 2024-09-16 13:16:07,302] Trial 125 finished with value: 72693.27468233176 and parameters: {'lgbm_weight': 0.7800423053276189, 'xgb_weight': 0.3761452563097466, 'xgbrf_weight': 7.961894714431268e-05, 'cb_weight': 0.9250302087817454, 'hgb_weight': 0.9506498907732128}. Best is trial 65 with value: 72692.64260802101.\n",
      "[I 2024-09-16 13:16:07,348] Trial 126 finished with value: 72695.11714715922 and parameters: {'lgbm_weight': 0.7752043219494665, 'xgb_weight': 0.3819698018559569, 'xgbrf_weight': 0.0528204339729724, 'cb_weight': 0.9249675725682631, 'hgb_weight': 0.9413021799670618}. Best is trial 65 with value: 72692.64260802101.\n",
      "[I 2024-09-16 13:16:07,396] Trial 127 finished with value: 72695.53345302753 and parameters: {'lgbm_weight': 0.7999484466904047, 'xgb_weight': 0.324150697969099, 'xgbrf_weight': 0.07639028229333206, 'cb_weight': 0.9134598686143669, 'hgb_weight': 0.9523528023055644}. Best is trial 65 with value: 72692.64260802101.\n",
      "[I 2024-09-16 13:16:07,444] Trial 128 finished with value: 72698.93769152954 and parameters: {'lgbm_weight': 0.7413997985295515, 'xgb_weight': 0.24253777945300226, 'xgbrf_weight': 0.03690978769503284, 'cb_weight': 0.40648226055245995, 'hgb_weight': 0.9839776242579541}. Best is trial 65 with value: 72692.64260802101.\n",
      "[I 2024-09-16 13:16:07,492] Trial 129 finished with value: 72696.71040803341 and parameters: {'lgbm_weight': 0.8249027106322282, 'xgb_weight': 0.18995347636481644, 'xgbrf_weight': 0.0977332873879153, 'cb_weight': 0.7683597243087829, 'hgb_weight': 0.9223342533769383}. Best is trial 65 with value: 72692.64260802101.\n",
      "[I 2024-09-16 13:16:07,539] Trial 130 finished with value: 72693.57493816162 and parameters: {'lgbm_weight': 0.7138403168074361, 'xgb_weight': 0.3107607555413195, 'xgbrf_weight': 0.018432988388267332, 'cb_weight': 0.8979527472995592, 'hgb_weight': 0.9580979450832758}. Best is trial 65 with value: 72692.64260802101.\n",
      "[I 2024-09-16 13:16:07,589] Trial 131 finished with value: 72692.88541509517 and parameters: {'lgbm_weight': 0.7519952336834701, 'xgb_weight': 0.30240903139791814, 'xgbrf_weight': 0.0013140538067688788, 'cb_weight': 0.8975540122567918, 'hgb_weight': 0.9577452091073608}. Best is trial 65 with value: 72692.64260802101.\n",
      "[I 2024-09-16 13:16:07,637] Trial 132 finished with value: 72692.99947919702 and parameters: {'lgbm_weight': 0.6796957593471782, 'xgb_weight': 0.29507103259626877, 'xgbrf_weight': 0.0005700057630283349, 'cb_weight': 0.8937393997958507, 'hgb_weight': 0.9992141195268499}. Best is trial 65 with value: 72692.64260802101.\n",
      "[I 2024-09-16 13:16:07,686] Trial 133 finished with value: 72692.6231933233 and parameters: {'lgbm_weight': 0.6907739554847091, 'xgb_weight': 0.28651031290452544, 'xgbrf_weight': 0.000994146658997057, 'cb_weight': 0.8365167771331858, 'hgb_weight': 0.9955116883785894}. Best is trial 133 with value: 72692.6231933233.\n",
      "[I 2024-09-16 13:16:07,737] Trial 134 finished with value: 72692.47362771007 and parameters: {'lgbm_weight': 0.6770141493988109, 'xgb_weight': 0.2718425657597565, 'xgbrf_weight': 8.46083322708943e-05, 'cb_weight': 0.7942557820835282, 'hgb_weight': 0.9764548055340566}. Best is trial 134 with value: 72692.47362771007.\n",
      "[I 2024-09-16 13:16:07,786] Trial 135 finished with value: 72693.96555068824 and parameters: {'lgbm_weight': 0.6423721871292023, 'xgb_weight': 0.26130423211488163, 'xgbrf_weight': 0.034202456513642863, 'cb_weight': 0.8421177934664253, 'hgb_weight': 0.9995403498295062}. Best is trial 134 with value: 72692.47362771007.\n",
      "[I 2024-09-16 13:16:07,834] Trial 136 finished with value: 72694.81736011048 and parameters: {'lgbm_weight': 0.6822845412731575, 'xgb_weight': 0.2872557899826769, 'xgbrf_weight': 0.0625093699095636, 'cb_weight': 0.8604265863389008, 'hgb_weight': 0.9996594636512572}. Best is trial 134 with value: 72692.47362771007.\n",
      "[I 2024-09-16 13:16:07,886] Trial 137 finished with value: 72715.43218398385 and parameters: {'lgbm_weight': 0.6067493031424757, 'xgb_weight': 0.17462290771659555, 'xgbrf_weight': 0.5239328431118269, 'cb_weight': 0.7975492933553184, 'hgb_weight': 0.9754436650792612}. Best is trial 134 with value: 72692.47362771007.\n",
      "[I 2024-09-16 13:16:07,932] Trial 138 finished with value: 72693.43224295863 and parameters: {'lgbm_weight': 0.687787887664941, 'xgb_weight': 0.22164918184798865, 'xgbrf_weight': 0.023892631070412566, 'cb_weight': 0.8260108210331848, 'hgb_weight': 0.9579694997944405}. Best is trial 134 with value: 72692.47362771007.\n",
      "[I 2024-09-16 13:16:07,981] Trial 139 finished with value: 72694.92799000982 and parameters: {'lgbm_weight': 0.6507232353671119, 'xgb_weight': 0.13528088890995937, 'xgbrf_weight': 0.04652520428694443, 'cb_weight': 0.827260059194935, 'hgb_weight': 0.9572322236281257}. Best is trial 134 with value: 72692.47362771007.\n",
      "[I 2024-09-16 13:16:08,029] Trial 140 finished with value: 72693.18846180629 and parameters: {'lgbm_weight': 0.6922133809870994, 'xgb_weight': 0.2233509509830872, 'xgbrf_weight': 0.023181979992140382, 'cb_weight': 0.7417905198140993, 'hgb_weight': 0.9387833275480009}. Best is trial 134 with value: 72692.47362771007.\n",
      "[I 2024-09-16 13:16:08,079] Trial 141 finished with value: 72693.14921400057 and parameters: {'lgbm_weight': 0.6872956565024275, 'xgb_weight': 0.21294201103054186, 'xgbrf_weight': 0.02221384917957952, 'cb_weight': 0.7283623187076311, 'hgb_weight': 0.9411376219124369}. Best is trial 134 with value: 72692.47362771007.\n",
      "[I 2024-09-16 13:16:08,128] Trial 142 finished with value: 72693.340680015 and parameters: {'lgbm_weight': 0.6305716744968486, 'xgb_weight': 0.20921177471559305, 'xgbrf_weight': 0.02341352405611281, 'cb_weight': 0.747736252096476, 'hgb_weight': 0.9807724319692522}. Best is trial 134 with value: 72692.47362771007.\n",
      "[I 2024-09-16 13:16:08,178] Trial 143 finished with value: 72704.66881193746 and parameters: {'lgbm_weight': 0.7220569845107421, 'xgb_weight': 0.2434023870526634, 'xgbrf_weight': 0.29413878765864604, 'cb_weight': 0.7852044838100578, 'hgb_weight': 0.9434412518015689}. Best is trial 134 with value: 72692.47362771007.\n",
      "[I 2024-09-16 13:16:08,230] Trial 144 finished with value: 72694.53444372577 and parameters: {'lgbm_weight': 0.7501520126743354, 'xgb_weight': 0.16172794838247895, 'xgbrf_weight': 0.04869826104675236, 'cb_weight': 0.7174384104844266, 'hgb_weight': 0.9334891742200748}. Best is trial 134 with value: 72692.47362771007.\n",
      "[I 2024-09-16 13:16:08,278] Trial 145 finished with value: 72692.43463824366 and parameters: {'lgbm_weight': 0.690448573615105, 'xgb_weight': 0.27001078540153, 'xgbrf_weight': 0.0016751923716650293, 'cb_weight': 0.7719981951423295, 'hgb_weight': 0.9769625447870063}. Best is trial 145 with value: 72692.43463824366.\n",
      "[I 2024-09-16 13:16:08,326] Trial 146 finished with value: 72703.09773446013 and parameters: {'lgbm_weight': 0.692936481512431, 'xgb_weight': 0.2620498810661868, 'xgbrf_weight': 0.02524719191799389, 'cb_weight': 0.7625910589284727, 'hgb_weight': 0.3192161566139424}. Best is trial 145 with value: 72692.43463824366.\n",
      "[I 2024-09-16 13:16:08,376] Trial 147 finished with value: 72695.19984903018 and parameters: {'lgbm_weight': 0.6637161560454822, 'xgb_weight': 0.22928713498603598, 'xgbrf_weight': 0.07466931401905005, 'cb_weight': 0.7339008567632808, 'hgb_weight': 0.9654367134961637}. Best is trial 145 with value: 72692.43463824366.\n",
      "[I 2024-09-16 13:16:08,424] Trial 148 finished with value: 72694.82889222397 and parameters: {'lgbm_weight': 0.5986316100898418, 'xgb_weight': 0.19865481575547955, 'xgbrf_weight': 0.05280732068230475, 'cb_weight': 0.8008191884727813, 'hgb_weight': 0.999946318348952}. Best is trial 145 with value: 72692.43463824366.\n",
      "[I 2024-09-16 13:16:08,473] Trial 149 finished with value: 72693.14620412649 and parameters: {'lgbm_weight': 0.7693104991973184, 'xgb_weight': 0.28297407390059215, 'xgbrf_weight': 0.0007319183314615139, 'cb_weight': 0.6572455613081561, 'hgb_weight': 0.8953419975841893}. Best is trial 145 with value: 72692.43463824366.\n",
      "[I 2024-09-16 13:16:08,522] Trial 150 finished with value: 72693.90079879008 and parameters: {'lgbm_weight': 0.6737568521606064, 'xgb_weight': 0.2762039321087281, 'xgbrf_weight': 0.03355911807312545, 'cb_weight': 0.6776355806725591, 'hgb_weight': 0.9052278695640649}. Best is trial 145 with value: 72692.43463824366.\n",
      "[I 2024-09-16 13:16:08,571] Trial 151 finished with value: 72694.21698227011 and parameters: {'lgbm_weight': 0.7583990955960997, 'xgb_weight': 0.2526662527822662, 'xgbrf_weight': 0.017913147458294074, 'cb_weight': 0.5915796784860685, 'hgb_weight': 0.9420286074472991}. Best is trial 145 with value: 72692.43463824366.\n",
      "[I 2024-09-16 13:16:08,620] Trial 152 finished with value: 72693.19620775674 and parameters: {'lgbm_weight': 0.78235392500277, 'xgb_weight': 0.28562365539460355, 'xgbrf_weight': 0.0018697011416004255, 'cb_weight': 0.6512486911465836, 'hgb_weight': 0.9689947862290685}. Best is trial 145 with value: 72692.43463824366.\n",
      "[I 2024-09-16 13:16:08,671] Trial 153 finished with value: 72693.70526119364 and parameters: {'lgbm_weight': 0.7032589369559474, 'xgb_weight': 0.29654343657086324, 'xgbrf_weight': 0.020994151533786552, 'cb_weight': 0.6457776343244169, 'hgb_weight': 0.9745277111261965}. Best is trial 145 with value: 72692.43463824366.\n",
      "[I 2024-09-16 13:16:08,720] Trial 154 finished with value: 72694.82555359446 and parameters: {'lgbm_weight': 0.7354789199716107, 'xgb_weight': 0.2200068266501451, 'xgbrf_weight': 0.04283530326613682, 'cb_weight': 0.6203806054902776, 'hgb_weight': 0.8892268018459999}. Best is trial 145 with value: 72692.43463824366.\n",
      "[I 2024-09-16 13:16:08,770] Trial 155 finished with value: 72695.3541749245 and parameters: {'lgbm_weight': 0.7163873758761338, 'xgb_weight': 0.273779256335828, 'xgbrf_weight': 0.06910084416233411, 'cb_weight': 0.7069806966188307, 'hgb_weight': 0.9207976318182826}. Best is trial 145 with value: 72692.43463824366.\n",
      "[I 2024-09-16 13:16:08,820] Trial 156 finished with value: 72743.93273325013 and parameters: {'lgbm_weight': 0.7681162929281548, 'xgb_weight': 0.18190811628428574, 'xgbrf_weight': 0.8763365077914422, 'cb_weight': 0.4992099375310608, 'hgb_weight': 0.9804223385357352}. Best is trial 145 with value: 72692.43463824366.\n",
      "[I 2024-09-16 13:16:08,874] Trial 157 finished with value: 72692.90373032719 and parameters: {'lgbm_weight': 0.6344519545217979, 'xgb_weight': 0.24111504982969326, 'xgbrf_weight': 0.014173637731108527, 'cb_weight': 0.7205545070104928, 'hgb_weight': 0.9354694265438586}. Best is trial 145 with value: 72692.43463824366.\n",
      "[I 2024-09-16 13:16:08,923] Trial 158 finished with value: 72693.7895569913 and parameters: {'lgbm_weight': 0.6303236246787849, 'xgb_weight': 0.24385040546355383, 'xgbrf_weight': 0.03578676755953554, 'cb_weight': 0.680469749216995, 'hgb_weight': 0.9311991165955369}. Best is trial 145 with value: 72692.43463824366.\n",
      "[I 2024-09-16 13:16:08,971] Trial 159 finished with value: 72692.49155812383 and parameters: {'lgbm_weight': 0.6880573175001297, 'xgb_weight': 0.29060928744050885, 'xgbrf_weight': 0.0012530340432655794, 'cb_weight': 0.7281411176873558, 'hgb_weight': 0.9625803694691667}. Best is trial 145 with value: 72692.43463824366.\n",
      "[I 2024-09-16 13:16:09,020] Trial 160 finished with value: 72693.12650299742 and parameters: {'lgbm_weight': 0.5155081777088961, 'xgb_weight': 0.29055692495686064, 'xgbrf_weight': 0.00037223116578870155, 'cb_weight': 0.6600224978711976, 'hgb_weight': 0.9034186543830018}. Best is trial 145 with value: 72692.43463824366.\n",
      "[I 2024-09-16 13:16:09,071] Trial 161 finished with value: 72694.1779380859 and parameters: {'lgbm_weight': 0.5058910253679412, 'xgb_weight': 0.2923416823794177, 'xgbrf_weight': 0.020367315419768994, 'cb_weight': 0.7159463416014209, 'hgb_weight': 0.9083574610974665}. Best is trial 145 with value: 72692.43463824366.\n",
      "[I 2024-09-16 13:16:09,122] Trial 162 finished with value: 72692.56611699279 and parameters: {'lgbm_weight': 0.6764148927968681, 'xgb_weight': 0.26475287206403353, 'xgbrf_weight': 2.9044588079890762e-05, 'cb_weight': 0.6531608385700899, 'hgb_weight': 0.9992479202503027}. Best is trial 145 with value: 72692.43463824366.\n",
      "[I 2024-09-16 13:16:09,170] Trial 163 finished with value: 72694.32880535879 and parameters: {'lgbm_weight': 0.6750118468102677, 'xgb_weight': 0.26200130388516796, 'xgbrf_weight': 0.0525434724279082, 'cb_weight': 0.7364220371614777, 'hgb_weight': 0.997451785244767}. Best is trial 145 with value: 72692.43463824366.\n",
      "[I 2024-09-16 13:16:09,219] Trial 164 finished with value: 72693.42477873634 and parameters: {'lgbm_weight': 0.644926169110837, 'xgb_weight': 0.30071319465355967, 'xgbrf_weight': 9.911031387536701e-05, 'cb_weight': 0.6953219799780533, 'hgb_weight': 0.7173812954674132}. Best is trial 145 with value: 72692.43463824366.\n",
      "[I 2024-09-16 13:16:09,269] Trial 165 finished with value: 72693.58685391356 and parameters: {'lgbm_weight': 0.6953430825751936, 'xgb_weight': 0.2704360986578219, 'xgbrf_weight': 0.02550585324503047, 'cb_weight': 0.6650876454505625, 'hgb_weight': 0.9490881499247197}. Best is trial 145 with value: 72692.43463824366.\n",
      "[I 2024-09-16 13:16:09,320] Trial 166 finished with value: 72696.20943910397 and parameters: {'lgbm_weight': 0.5838961577571851, 'xgb_weight': 0.25047270338152705, 'xgbrf_weight': 0.08662618645815866, 'cb_weight': 0.7497383875162633, 'hgb_weight': 0.860657528505047}. Best is trial 145 with value: 72692.43463824366.\n",
      "[I 2024-09-16 13:16:09,371] Trial 167 finished with value: 72696.29869669299 and parameters: {'lgbm_weight': 0.42194356804012767, 'xgb_weight': 0.33800562291499653, 'xgbrf_weight': 0.03954241277444335, 'cb_weight': 0.5970385462205942, 'hgb_weight': 0.8852110354643731}. Best is trial 145 with value: 72692.43463824366.\n",
      "[I 2024-09-16 13:16:09,421] Trial 168 finished with value: 72694.78693610519 and parameters: {'lgbm_weight': 0.7274281012282265, 'xgb_weight': 0.21818416368240784, 'xgbrf_weight': 0.06250844440337612, 'cb_weight': 0.7713675554291507, 'hgb_weight': 0.9281263228416888}. Best is trial 145 with value: 72692.43463824366.\n",
      "[I 2024-09-16 13:16:09,471] Trial 169 finished with value: 72705.71108564877 and parameters: {'lgbm_weight': 0.6632290735503553, 'xgb_weight': 0.3047877718372169, 'xgbrf_weight': 0.019538672509471337, 'cb_weight': 0.7060277046681671, 'hgb_weight': 0.24423951808029976}. Best is trial 145 with value: 72692.43463824366.\n",
      "[I 2024-09-16 13:16:09,521] Trial 170 finished with value: 72695.35906404501 and parameters: {'lgbm_weight': 0.37933822238449943, 'xgb_weight': 0.27525628770687105, 'xgbrf_weight': 0.0012422631165431308, 'cb_weight': 0.5656984605434523, 'hgb_weight': 0.981458926948378}. Best is trial 145 with value: 72692.43463824366.\n",
      "[I 2024-09-16 13:16:09,573] Trial 171 finished with value: 72693.60590725084 and parameters: {'lgbm_weight': 0.7010960850391782, 'xgb_weight': 0.28362194021810194, 'xgbrf_weight': 0.01994113181613863, 'cb_weight': 0.640881898846702, 'hgb_weight': 0.9611758104223395}. Best is trial 145 with value: 72692.43463824366.\n",
      "[I 2024-09-16 13:16:09,623] Trial 172 finished with value: 72692.75941594156 and parameters: {'lgbm_weight': 0.7400637822579361, 'xgb_weight': 0.24112292162703786, 'xgbrf_weight': 0.002134522652358024, 'cb_weight': 0.6523431090386718, 'hgb_weight': 0.9989178921312173}. Best is trial 145 with value: 72692.43463824366.\n",
      "[I 2024-09-16 13:16:09,681] Trial 173 finished with value: 72694.68445957356 and parameters: {'lgbm_weight': 0.73759243886989, 'xgb_weight': 0.23682243337191314, 'xgbrf_weight': 0.039803920864652245, 'cb_weight': 0.6143636150690361, 'hgb_weight': 0.9993366944526618}. Best is trial 145 with value: 72692.43463824366.\n",
      "[I 2024-09-16 13:16:09,735] Trial 174 finished with value: 72693.11318595239 and parameters: {'lgbm_weight': 0.6832419846431844, 'xgb_weight': 0.25557815929868405, 'xgbrf_weight': 0.01745535552039543, 'cb_weight': 0.6741752229869038, 'hgb_weight': 0.943357730143595}. Best is trial 145 with value: 72692.43463824366.\n",
      "[I 2024-09-16 13:16:09,789] Trial 175 finished with value: 72692.89200006911 and parameters: {'lgbm_weight': 0.5560877112928427, 'xgb_weight': 0.25648848574114286, 'xgbrf_weight': 0.0026573419538588015, 'cb_weight': 0.6647662497163113, 'hgb_weight': 0.9793937052127878}. Best is trial 145 with value: 72692.43463824366.\n",
      "[I 2024-09-16 13:16:09,838] Trial 176 finished with value: 72695.7296219242 and parameters: {'lgbm_weight': 0.45618087804865093, 'xgb_weight': 0.25640275662909806, 'xgbrf_weight': 0.05230325314932207, 'cb_weight': 0.6620367962959066, 'hgb_weight': 0.950098712400439}. Best is trial 145 with value: 72692.43463824366.\n",
      "[I 2024-09-16 13:16:09,894] Trial 177 finished with value: 72693.56317615348 and parameters: {'lgbm_weight': 0.5579362069730088, 'xgb_weight': 0.25143971257233244, 'xgbrf_weight': 0.01864135672780666, 'cb_weight': 0.6279715034821921, 'hgb_weight': 0.9824349210271052}. Best is trial 145 with value: 72692.43463824366.\n",
      "[I 2024-09-16 13:16:09,949] Trial 178 finished with value: 72692.38678002227 and parameters: {'lgbm_weight': 0.6232864982662515, 'xgb_weight': 0.209118712827209, 'xgbrf_weight': 0.00029262535026624886, 'cb_weight': 0.6828381828058814, 'hgb_weight': 0.9622100873298524}. Best is trial 178 with value: 72692.38678002227.\n",
      "[I 2024-09-16 13:16:10,002] Trial 179 finished with value: 72694.76121903326 and parameters: {'lgbm_weight': 0.519995484891961, 'xgb_weight': 0.3043039862554021, 'xgbrf_weight': 0.03805048090124684, 'cb_weight': 0.6732601218600518, 'hgb_weight': 0.9661113799623617}. Best is trial 178 with value: 72692.38678002227.\n",
      "[I 2024-09-16 13:16:10,058] Trial 180 finished with value: 72692.5236216988 and parameters: {'lgbm_weight': 0.6378152788549699, 'xgb_weight': 0.27142042616975315, 'xgbrf_weight': 0.001041001567414239, 'cb_weight': 0.6928205238749877, 'hgb_weight': 0.9988640873456153}. Best is trial 178 with value: 72692.38678002227.\n",
      "[I 2024-09-16 13:16:10,119] Trial 181 finished with value: 72693.1451565619 and parameters: {'lgbm_weight': 0.5347114686973719, 'xgb_weight': 0.27382465274614626, 'xgbrf_weight': 0.0009448539050397101, 'cb_weight': 0.6904426438065918, 'hgb_weight': 0.9982220340716897}. Best is trial 178 with value: 72692.38678002227.\n",
      "[I 2024-09-16 13:16:10,177] Trial 182 finished with value: 72693.82192396754 and parameters: {'lgbm_weight': 0.5321774864709561, 'xgb_weight': 0.26292795821967535, 'xgbrf_weight': 0.0200535380453121, 'cb_weight': 0.6884033436461141, 'hgb_weight': 0.9979080748204473}. Best is trial 178 with value: 72692.38678002227.\n",
      "[I 2024-09-16 13:16:10,231] Trial 183 finished with value: 72692.47756182122 and parameters: {'lgbm_weight': 0.6192076728741159, 'xgb_weight': 0.24244251868109493, 'xgbrf_weight': 0.00019945388975120158, 'cb_weight': 0.6900956149176675, 'hgb_weight': 0.9991332755862127}. Best is trial 178 with value: 72692.38678002227.\n",
      "[I 2024-09-16 13:16:10,283] Trial 184 finished with value: 72692.49403155188 and parameters: {'lgbm_weight': 0.6184575837417128, 'xgb_weight': 0.2361259953822657, 'xgbrf_weight': 4.9395932766449106e-05, 'cb_weight': 0.6311562745032107, 'hgb_weight': 0.9632532203756488}. Best is trial 178 with value: 72692.38678002227.\n",
      "[I 2024-09-16 13:16:10,333] Trial 185 finished with value: 72694.13021310033 and parameters: {'lgbm_weight': 0.6057285090020206, 'xgb_weight': 0.23178971510339835, 'xgbrf_weight': 0.03864064602096168, 'cb_weight': 0.6298919840135523, 'hgb_weight': 0.9700210593992027}. Best is trial 178 with value: 72692.38678002227.\n",
      "[I 2024-09-16 13:16:10,384] Trial 186 finished with value: 72694.84102155958 and parameters: {'lgbm_weight': 0.6185500748454497, 'xgb_weight': 0.20661787206043936, 'xgbrf_weight': 0.0626858280670812, 'cb_weight': 0.7251313876972356, 'hgb_weight': 0.9818050611232949}. Best is trial 178 with value: 72692.38678002227.\n",
      "[I 2024-09-16 13:16:10,433] Trial 187 finished with value: 72693.73243678758 and parameters: {'lgbm_weight': 0.6377814083869596, 'xgb_weight': 0.24121820165741129, 'xgbrf_weight': 0.03553969539995531, 'cb_weight': 0.6978245811352446, 'hgb_weight': 0.9545694066369559}. Best is trial 178 with value: 72692.38678002227.\n",
      "[I 2024-09-16 13:16:10,483] Trial 188 finished with value: 72693.08613664868 and parameters: {'lgbm_weight': 0.6553762093643507, 'xgb_weight': 0.191802586443522, 'xgbrf_weight': 0.018883054279755413, 'cb_weight': 0.6808482328101548, 'hgb_weight': 0.9602594931863282}. Best is trial 178 with value: 72692.38678002227.\n",
      "[I 2024-09-16 13:16:10,532] Trial 189 finished with value: 72694.58613959268 and parameters: {'lgbm_weight': 0.5764836327055991, 'xgb_weight': 0.18258287494005884, 'xgbrf_weight': 0.048775381292175166, 'cb_weight': 0.7096673281935245, 'hgb_weight': 0.981737942990856}. Best is trial 178 with value: 72692.38678002227.\n",
      "[I 2024-09-16 13:16:10,585] Trial 190 finished with value: 72693.22142844055 and parameters: {'lgbm_weight': 0.6482367869524177, 'xgb_weight': 0.20688630028664395, 'xgbrf_weight': 0.01986597632025411, 'cb_weight': 0.7716982168885421, 'hgb_weight': 0.9990153377550042}. Best is trial 178 with value: 72692.38678002227.\n",
      "[I 2024-09-16 13:16:10,637] Trial 191 finished with value: 72692.5149466401 and parameters: {'lgbm_weight': 0.6211029949807011, 'xgb_weight': 0.24920113683675943, 'xgbrf_weight': 0.0007275354996108531, 'cb_weight': 0.6423526037138279, 'hgb_weight': 0.9619911082801987}. Best is trial 178 with value: 72692.38678002227.\n",
      "[I 2024-09-16 13:16:10,687] Trial 192 finished with value: 72693.31298734696 and parameters: {'lgbm_weight': 0.6134280097172897, 'xgb_weight': 0.24006634525374598, 'xgbrf_weight': 0.019951708368658217, 'cb_weight': 0.6351589250700969, 'hgb_weight': 0.9624053773018381}. Best is trial 178 with value: 72692.38678002227.\n",
      "[I 2024-09-16 13:16:10,737] Trial 193 finished with value: 72693.71177879605 and parameters: {'lgbm_weight': 0.6593961873340862, 'xgb_weight': 0.2209189984177162, 'xgbrf_weight': 0.03445068316098839, 'cb_weight': 0.6739469784136206, 'hgb_weight': 0.9664302782929813}. Best is trial 178 with value: 72692.38678002227.\n",
      "[I 2024-09-16 13:16:10,790] Trial 194 finished with value: 72693.33863532043 and parameters: {'lgbm_weight': 0.6258529602866656, 'xgb_weight': 0.15281955626007587, 'xgbrf_weight': 0.013774558304745358, 'cb_weight': 0.6083859812999759, 'hgb_weight': 0.9823421092604139}. Best is trial 178 with value: 72692.38678002227.\n",
      "[I 2024-09-16 13:16:10,839] Trial 195 finished with value: 72706.9965441715 and parameters: {'lgbm_weight': 0.5860343300718541, 'xgb_weight': 0.8416069504832503, 'xgbrf_weight': 0.060478870433595636, 'cb_weight': 0.6498279118997242, 'hgb_weight': 0.9998551750865913}. Best is trial 178 with value: 72692.38678002227.\n",
      "[I 2024-09-16 13:16:10,893] Trial 196 finished with value: 72692.36570458359 and parameters: {'lgbm_weight': 0.6545476181693342, 'xgb_weight': 0.19620338326550404, 'xgbrf_weight': 0.0008520380142011333, 'cb_weight': 0.6913505904431934, 'hgb_weight': 0.9585396907765183}. Best is trial 196 with value: 72692.36570458359.\n",
      "[I 2024-09-16 13:16:10,943] Trial 197 finished with value: 72692.44814221053 and parameters: {'lgbm_weight': 0.6347446881790986, 'xgb_weight': 0.26461357527802964, 'xgbrf_weight': 0.000819867054944003, 'cb_weight': 0.7165236269036312, 'hgb_weight': 0.9296871092368736}. Best is trial 196 with value: 72692.36570458359.\n",
      "[I 2024-09-16 13:16:10,997] Trial 198 finished with value: 72692.63763971363 and parameters: {'lgbm_weight': 0.5920263853876521, 'xgb_weight': 0.2601165670332323, 'xgbrf_weight': 0.0014843569495342666, 'cb_weight': 0.7194217850653036, 'hgb_weight': 0.9238650513234518}. Best is trial 196 with value: 72692.36570458359.\n",
      "[I 2024-09-16 13:16:11,048] Trial 199 finished with value: 72692.71638568754 and parameters: {'lgbm_weight': 0.6115203568790343, 'xgb_weight': 0.2708831125648211, 'xgbrf_weight': 0.0022313244657509827, 'cb_weight': 0.752454864452421, 'hgb_weight': 0.9245088176908417}. Best is trial 196 with value: 72692.36570458359.\n",
      "[I 2024-09-16 13:16:11,098] Trial 200 finished with value: 72693.05671982183 and parameters: {'lgbm_weight': 0.5575903709940466, 'xgb_weight': 0.26844749343434593, 'xgbrf_weight': 0.0004707385033122077, 'cb_weight': 0.7548260111125712, 'hgb_weight': 0.9192558268828745}. Best is trial 196 with value: 72692.36570458359.\n",
      "[I 2024-09-16 13:16:11,148] Trial 201 finished with value: 72692.59574126045 and parameters: {'lgbm_weight': 0.5922933077960493, 'xgb_weight': 0.2529870605083439, 'xgbrf_weight': 0.0009215387304112874, 'cb_weight': 0.7183660075197235, 'hgb_weight': 0.9322703994722789}. Best is trial 196 with value: 72692.36570458359.\n",
      "[I 2024-09-16 13:16:11,199] Trial 202 finished with value: 72694.12947022222 and parameters: {'lgbm_weight': 0.5860128243789828, 'xgb_weight': 0.2630296997829185, 'xgbrf_weight': 0.03875718997474567, 'cb_weight': 0.7346158808699554, 'hgb_weight': 0.9272622184718252}. Best is trial 196 with value: 72692.36570458359.\n",
      "[I 2024-09-16 13:16:11,249] Trial 203 finished with value: 72693.68076075408 and parameters: {'lgbm_weight': 0.6031567292055124, 'xgb_weight': 0.2241069933385087, 'xgbrf_weight': 0.03220544967521374, 'cb_weight': 0.7059940395266123, 'hgb_weight': 0.9558941900407439}. Best is trial 196 with value: 72692.36570458359.\n",
      "[I 2024-09-16 13:16:11,301] Trial 204 finished with value: 72692.52412223324 and parameters: {'lgbm_weight': 0.6220140132292556, 'xgb_weight': 0.27496974460874474, 'xgbrf_weight': 0.0011113060533627604, 'cb_weight': 0.6938316059379765, 'hgb_weight': 0.9449259233781775}. Best is trial 196 with value: 72692.36570458359.\n",
      "[I 2024-09-16 13:16:11,353] Trial 205 finished with value: 72692.8905023325 and parameters: {'lgbm_weight': 0.6181300078959477, 'xgb_weight': 0.3161049160964079, 'xgbrf_weight': 0.001990033091155134, 'cb_weight': 0.7445909401083636, 'hgb_weight': 0.9173432930127297}. Best is trial 196 with value: 72692.36570458359.\n",
      "[I 2024-09-16 13:16:11,406] Trial 206 finished with value: 72693.67768532738 and parameters: {'lgbm_weight': 0.5940448188811431, 'xgb_weight': 0.27800021517633944, 'xgbrf_weight': 0.027789599257374908, 'cb_weight': 0.6967870039631546, 'hgb_weight': 0.9400962109476254}. Best is trial 196 with value: 72692.36570458359.\n",
      "[I 2024-09-16 13:16:11,456] Trial 207 finished with value: 72694.47284740784 and parameters: {'lgbm_weight': 0.6329995039159322, 'xgb_weight': 0.2964455833805463, 'xgbrf_weight': 0.0490698821072615, 'cb_weight': 0.7771367736965937, 'hgb_weight': 0.9528938647371612}. Best is trial 196 with value: 72692.36570458359.\n",
      "[I 2024-09-16 13:16:11,506] Trial 208 finished with value: 72692.32218772602 and parameters: {'lgbm_weight': 0.6651134699637633, 'xgb_weight': 0.24173299902240192, 'xgbrf_weight': 0.0003853862089318491, 'cb_weight': 0.7211758306801975, 'hgb_weight': 0.9653881229536829}. Best is trial 208 with value: 72692.32218772602.\n",
      "[I 2024-09-16 13:16:11,557] Trial 209 finished with value: 72692.35257680574 and parameters: {'lgbm_weight': 0.6664358025610766, 'xgb_weight': 0.20453559091466386, 'xgbrf_weight': 0.0007051215670966188, 'cb_weight': 0.7221907133063367, 'hgb_weight': 0.923180982294011}. Best is trial 208 with value: 72692.32218772602.\n",
      "[I 2024-09-16 13:16:11,609] Trial 210 finished with value: 72693.50052541596 and parameters: {'lgbm_weight': 0.6665562513758599, 'xgb_weight': 0.1919450647458112, 'xgbrf_weight': 0.029528813195154345, 'cb_weight': 0.7227230837623047, 'hgb_weight': 0.9159555959809851}. Best is trial 208 with value: 72692.32218772602.\n",
      "[I 2024-09-16 13:16:11,661] Trial 211 finished with value: 72693.07336045802 and parameters: {'lgbm_weight': 0.6460787931657658, 'xgb_weight': 0.2326490429267688, 'xgbrf_weight': 0.017456214559841515, 'cb_weight': 0.7569389946351647, 'hgb_weight': 0.9362136514334432}. Best is trial 208 with value: 72692.32218772602.\n",
      "[I 2024-09-16 13:16:11,713] Trial 212 finished with value: 72693.16029427655 and parameters: {'lgbm_weight': 0.615936185608509, 'xgb_weight': 0.2069060325254408, 'xgbrf_weight': 0.01894720424824633, 'cb_weight': 0.7135569634453119, 'hgb_weight': 0.9682703078902701}. Best is trial 208 with value: 72692.32218772602.\n",
      "[I 2024-09-16 13:16:11,765] Trial 213 finished with value: 72692.39057425142 and parameters: {'lgbm_weight': 0.6636514603877197, 'xgb_weight': 0.2451312415285971, 'xgbrf_weight': 0.0014265740343027862, 'cb_weight': 0.6928612716423006, 'hgb_weight': 0.9772680858373333}. Best is trial 208 with value: 72692.32218772602.\n",
      "[I 2024-09-16 13:16:11,817] Trial 214 finished with value: 72693.82456508736 and parameters: {'lgbm_weight': 0.6604115383728776, 'xgb_weight': 0.24780838703527075, 'xgbrf_weight': 0.03882479367420648, 'cb_weight': 0.7273759830653769, 'hgb_weight': 0.9451064651610998}. Best is trial 208 with value: 72692.32218772602.\n",
      "[I 2024-09-16 13:16:11,871] Trial 215 finished with value: 72693.00390843896 and parameters: {'lgbm_weight': 0.6334061648456158, 'xgb_weight': 0.22733655324453766, 'xgbrf_weight': 0.016771863842098743, 'cb_weight': 0.6875388642343636, 'hgb_weight': 0.9714867677436142}. Best is trial 208 with value: 72692.32218772602.\n",
      "[I 2024-09-16 13:16:11,924] Trial 216 finished with value: 72692.43078590115 and parameters: {'lgbm_weight': 0.6733573835243811, 'xgb_weight': 0.26558056239349553, 'xgbrf_weight': 0.0009489663973159495, 'cb_weight': 0.6928027426251495, 'hgb_weight': 0.9215172288104196}. Best is trial 208 with value: 72692.32218772602.\n",
      "[I 2024-09-16 13:16:11,976] Trial 217 finished with value: 72694.40082510686 and parameters: {'lgbm_weight': 0.6502679567354991, 'xgb_weight': 0.2711074039505361, 'xgbrf_weight': 0.048804202325488766, 'cb_weight': 0.7013969314668997, 'hgb_weight': 0.9140881715576809}. Best is trial 208 with value: 72692.32218772602.\n",
      "[I 2024-09-16 13:16:12,027] Trial 218 finished with value: 72692.82715526229 and parameters: {'lgbm_weight': 0.6018386459862165, 'xgb_weight': 0.17278328472547144, 'xgbrf_weight': 0.0009514687592338748, 'cb_weight': 0.7436793065744681, 'hgb_weight': 0.9284842616079929}. Best is trial 208 with value: 72692.32218772602.\n",
      "[I 2024-09-16 13:16:12,082] Trial 219 finished with value: 72693.61329432017 and parameters: {'lgbm_weight': 0.6657652310952229, 'xgb_weight': 0.25983388358956494, 'xgbrf_weight': 0.028573607886542726, 'cb_weight': 0.6918687401707617, 'hgb_weight': 0.8741737511617398}. Best is trial 208 with value: 72692.32218772602.\n",
      "[I 2024-09-16 13:16:12,135] Trial 220 finished with value: 72693.22837525552 and parameters: {'lgbm_weight': 0.6222443311619023, 'xgb_weight': 0.27576705705959725, 'xgbrf_weight': 0.01796504177149566, 'cb_weight': 0.7239624950236185, 'hgb_weight': 0.900209165167918}. Best is trial 208 with value: 72692.32218772602.\n",
      "[I 2024-09-16 13:16:12,192] Trial 221 finished with value: 72693.0387759161 and parameters: {'lgbm_weight': 0.6746659984729017, 'xgb_weight': 0.2452060748540321, 'xgbrf_weight': 0.014610532586882587, 'cb_weight': 0.6523987339698647, 'hgb_weight': 0.9519319804436968}. Best is trial 208 with value: 72692.32218772602.\n",
      "[I 2024-09-16 13:16:12,244] Trial 222 finished with value: 72692.42879897064 and parameters: {'lgbm_weight': 0.6441988651569037, 'xgb_weight': 0.21122599952729879, 'xgbrf_weight': 0.0017474992637115227, 'cb_weight': 0.6806343713988285, 'hgb_weight': 0.9808689687080598}. Best is trial 208 with value: 72692.32218772602.\n",
      "[I 2024-09-16 13:16:12,297] Trial 223 finished with value: 72694.74826020235 and parameters: {'lgbm_weight': 0.6445272643054377, 'xgb_weight': 0.0199587226780098, 'xgbrf_weight': 0.002066845058371139, 'cb_weight': 0.7052402790168559, 'hgb_weight': 0.9728365054879806}. Best is trial 208 with value: 72692.32218772602.\n",
      "[I 2024-09-16 13:16:12,360] Trial 224 finished with value: 72711.20607175273 and parameters: {'lgbm_weight': 0.5741561964211218, 'xgb_weight': 0.21395262874160964, 'xgbrf_weight': 0.0008054947938255466, 'cb_weight': 0.6803436586971128, 'hgb_weight': 0.11996884038590816}. Best is trial 208 with value: 72692.32218772602.\n",
      "[I 2024-09-16 13:16:12,423] Trial 225 finished with value: 72693.73590746093 and parameters: {'lgbm_weight': 0.6221163954974165, 'xgb_weight': 0.2033951970920506, 'xgbrf_weight': 0.03221725489361041, 'cb_weight': 0.7518063863474874, 'hgb_weight': 0.9332430833614516}. Best is trial 208 with value: 72692.32218772602.\n",
      "[I 2024-09-16 13:16:12,478] Trial 226 finished with value: 72692.29116089665 and parameters: {'lgbm_weight': 0.6967090926226848, 'xgb_weight': 0.2282468998818451, 'xgbrf_weight': 0.000110316300762, 'cb_weight': 0.7155668253970389, 'hgb_weight': 0.9559687591689928}. Best is trial 226 with value: 72692.29116089665.\n",
      "[I 2024-09-16 13:16:12,533] Trial 227 finished with value: 72693.5865711342 and parameters: {'lgbm_weight': 0.7025201098190769, 'xgb_weight': 0.22640505247896647, 'xgbrf_weight': 0.03341994042256994, 'cb_weight': 0.7182318534041833, 'hgb_weight': 0.9630434266847635}. Best is trial 226 with value: 72692.29116089665.\n",
      "[I 2024-09-16 13:16:12,588] Trial 228 finished with value: 72692.37478250705 and parameters: {'lgbm_weight': 0.6768515935104376, 'xgb_weight': 0.19723651583709098, 'xgbrf_weight': 0.0008649112074572553, 'cb_weight': 0.6910835984520383, 'hgb_weight': 0.9778903374699233}. Best is trial 226 with value: 72692.29116089665.\n",
      "[I 2024-09-16 13:16:12,645] Trial 229 finished with value: 72694.51441807144 and parameters: {'lgbm_weight': 0.6725534662998464, 'xgb_weight': 0.17861684933929134, 'xgbrf_weight': 0.052869585526433914, 'cb_weight': 0.681093928934887, 'hgb_weight': 0.9803754942348056}. Best is trial 226 with value: 72692.29116089665.\n",
      "[I 2024-09-16 13:16:12,701] Trial 230 finished with value: 72692.33274569604 and parameters: {'lgbm_weight': 0.6871971699281058, 'xgb_weight': 0.1993834452583916, 'xgbrf_weight': 0.00010993581177704665, 'cb_weight': 0.7021385059770517, 'hgb_weight': 0.9795011039431027}. Best is trial 226 with value: 72692.29116089665.\n",
      "[I 2024-09-16 13:16:12,760] Trial 231 finished with value: 72692.53393027144 and parameters: {'lgbm_weight': 0.6869173851618346, 'xgb_weight': 0.1592977815227673, 'xgbrf_weight': 0.0010055453773772543, 'cb_weight': 0.6934069796737398, 'hgb_weight': 0.973826731540996}. Best is trial 226 with value: 72692.29116089665.\n",
      "[I 2024-09-16 13:16:12,815] Trial 232 finished with value: 72693.58087668907 and parameters: {'lgbm_weight': 0.6767906178449016, 'xgb_weight': 0.15345260469879354, 'xgbrf_weight': 0.027521176882983393, 'cb_weight': 0.6905013814684599, 'hgb_weight': 0.9618806218869429}. Best is trial 226 with value: 72692.29116089665.\n",
      "[I 2024-09-16 13:16:12,868] Trial 233 finished with value: 72693.14501109 and parameters: {'lgbm_weight': 0.6974367442422861, 'xgb_weight': 0.19093258629529108, 'xgbrf_weight': 0.02092250348147776, 'cb_weight': 0.7114126618675745, 'hgb_weight': 0.983803810573916}. Best is trial 226 with value: 72692.29116089665.\n",
      "[I 2024-09-16 13:16:12,923] Trial 234 finished with value: 72692.72991875513 and parameters: {'lgbm_weight': 0.7155552570304249, 'xgb_weight': 0.13903675886296687, 'xgbrf_weight': 0.0007529935235183109, 'cb_weight': 0.6696806898173618, 'hgb_weight': 0.9465941511440353}. Best is trial 226 with value: 72692.29116089665.\n",
      "[I 2024-09-16 13:16:12,975] Trial 235 finished with value: 72692.90008987303 and parameters: {'lgbm_weight': 0.651936445545294, 'xgb_weight': 0.11930334402826279, 'xgbrf_weight': 0.0003014727989891456, 'cb_weight': 0.6977797558741038, 'hgb_weight': 0.978053217735334}. Best is trial 226 with value: 72692.29116089665.\n",
      "[I 2024-09-16 13:16:13,028] Trial 236 finished with value: 72693.28772106864 and parameters: {'lgbm_weight': 0.6808843821069714, 'xgb_weight': 0.16498165530618436, 'xgbrf_weight': 0.021809696545441626, 'cb_weight': 0.7299665555748054, 'hgb_weight': 0.9611508102138588}. Best is trial 226 with value: 72692.29116089665.\n",
      "[I 2024-09-16 13:16:13,083] Trial 237 finished with value: 72693.95814638931 and parameters: {'lgbm_weight': 0.6979005882127127, 'xgb_weight': 0.20317757707493428, 'xgbrf_weight': 0.038847483207016476, 'cb_weight': 0.674159013933622, 'hgb_weight': 0.9451050084537643}. Best is trial 226 with value: 72692.29116089665.\n",
      "[I 2024-09-16 13:16:13,134] Trial 238 finished with value: 72692.43602671644 and parameters: {'lgbm_weight': 0.6575706557324945, 'xgb_weight': 0.1800763365756143, 'xgbrf_weight': 0.0005527574460959424, 'cb_weight': 0.7061582424843359, 'hgb_weight': 0.9758333730566063}. Best is trial 226 with value: 72692.29116089665.\n",
      "[I 2024-09-16 13:16:13,189] Trial 239 finished with value: 72693.60987628487 and parameters: {'lgbm_weight': 0.6635980210911414, 'xgb_weight': 0.1869482876086182, 'xgbrf_weight': 0.02728169169512945, 'cb_weight': 0.6382970620808007, 'hgb_weight': 0.9748922808724627}. Best is trial 226 with value: 72692.29116089665.\n",
      "[I 2024-09-16 13:16:13,241] Trial 240 finished with value: 72693.45020021994 and parameters: {'lgbm_weight': 0.6526732751730003, 'xgb_weight': 0.14737354712550116, 'xgbrf_weight': 0.022064829170524266, 'cb_weight': 0.6991835835004276, 'hgb_weight': 0.9843604997553234}. Best is trial 226 with value: 72692.29116089665.\n",
      "[I 2024-09-16 13:16:13,295] Trial 241 finished with value: 72693.00904828943 and parameters: {'lgbm_weight': 0.6410819632328201, 'xgb_weight': 0.21175853945412174, 'xgbrf_weight': 0.01741471326867941, 'cb_weight': 0.7167908375045009, 'hgb_weight': 0.9640820274957861}. Best is trial 226 with value: 72692.29116089665.\n",
      "[I 2024-09-16 13:16:13,348] Trial 242 finished with value: 72692.33342978408 and parameters: {'lgbm_weight': 0.6853131535298429, 'xgb_weight': 0.21664732820886892, 'xgbrf_weight': 0.000721624516830264, 'cb_weight': 0.6862723459527977, 'hgb_weight': 0.9464466897727741}. Best is trial 226 with value: 72692.29116089665.\n",
      "[I 2024-09-16 13:16:13,401] Trial 243 finished with value: 72692.54401824772 and parameters: {'lgbm_weight': 0.6893410796861509, 'xgb_weight': 0.17088394750863276, 'xgbrf_weight': 0.0009991424207413486, 'cb_weight': 0.6627956723345083, 'hgb_weight': 0.9818274898431327}. Best is trial 226 with value: 72692.29116089665.\n",
      "[I 2024-09-16 13:16:13,455] Trial 244 finished with value: 72692.44752348559 and parameters: {'lgbm_weight': 0.7112492950670518, 'xgb_weight': 0.19362813715334382, 'xgbrf_weight': 2.5248369566518948e-05, 'cb_weight': 0.6651444064778969, 'hgb_weight': 0.95049960229467}. Best is trial 226 with value: 72692.29116089665.\n",
      "[I 2024-09-16 13:16:13,507] Trial 245 finished with value: 72694.20955102386 and parameters: {'lgbm_weight': 0.7128541754010759, 'xgb_weight': 0.19140596075492522, 'xgbrf_weight': 0.042718967429498315, 'cb_weight': 0.6687967815772796, 'hgb_weight': 0.9513072527873064}. Best is trial 226 with value: 72692.29116089665.\n",
      "[I 2024-09-16 13:16:13,562] Trial 246 finished with value: 72692.50636639915 and parameters: {'lgbm_weight': 0.6834647617325066, 'xgb_weight': 0.17509835475918795, 'xgbrf_weight': 0.00013109048272833402, 'cb_weight': 0.6530031248993613, 'hgb_weight': 0.9765861030453497}. Best is trial 226 with value: 72692.29116089665.\n",
      "[I 2024-09-16 13:16:13,616] Trial 247 finished with value: 72693.27059714592 and parameters: {'lgbm_weight': 0.6910852428124071, 'xgb_weight': 0.1605822461933354, 'xgbrf_weight': 0.02002808101125875, 'cb_weight': 0.6836021853598275, 'hgb_weight': 0.9647230617153072}. Best is trial 226 with value: 72692.29116089665.\n",
      "[I 2024-09-16 13:16:13,669] Trial 248 finished with value: 72693.49537627498 and parameters: {'lgbm_weight': 0.7155129949325467, 'xgb_weight': 0.1747682746955792, 'xgbrf_weight': 0.0195486508962685, 'cb_weight': 0.6323247496232538, 'hgb_weight': 0.9477167748576478}. Best is trial 226 with value: 72692.29116089665.\n",
      "[I 2024-09-16 13:16:13,723] Trial 249 finished with value: 72694.44459787112 and parameters: {'lgbm_weight': 0.6703758833417773, 'xgb_weight': 0.13322174908086315, 'xgbrf_weight': 0.04323735405033348, 'cb_weight': 0.6597598937230289, 'hgb_weight': 0.9765294537684746}. Best is trial 226 with value: 72692.29116089665.\n",
      "[I 2024-09-16 13:16:13,776] Trial 250 finished with value: 72693.11411415218 and parameters: {'lgbm_weight': 0.6882082147020241, 'xgb_weight': 0.16622897805731082, 'xgbrf_weight': 0.017230677044361476, 'cb_weight': 0.6884167099984916, 'hgb_weight': 0.9570820753368414}. Best is trial 226 with value: 72692.29116089665.\n",
      "[I 2024-09-16 13:16:13,829] Trial 251 finished with value: 72693.78229295713 and parameters: {'lgbm_weight': 0.6593585438739368, 'xgb_weight': 0.1959448594690513, 'xgbrf_weight': 0.034832724577261595, 'cb_weight': 0.6654878688986382, 'hgb_weight': 0.9787291938656925}. Best is trial 226 with value: 72692.29116089665.\n",
      "[I 2024-09-16 13:16:13,882] Trial 252 finished with value: 72692.46906188621 and parameters: {'lgbm_weight': 0.7085927229780272, 'xgb_weight': 0.1727994481728837, 'xgbrf_weight': 0.0009731425480213214, 'cb_weight': 0.6983942521112692, 'hgb_weight': 0.9389767134282883}. Best is trial 226 with value: 72692.29116089665.\n",
      "[I 2024-09-16 13:16:13,937] Trial 253 finished with value: 72693.05009339265 and parameters: {'lgbm_weight': 0.7075569992053735, 'xgb_weight': 0.20986119838261555, 'xgbrf_weight': 0.018420347682283334, 'cb_weight': 0.701476468028774, 'hgb_weight': 0.9462699409863358}. Best is trial 226 with value: 72692.29116089665.\n",
      "[I 2024-09-16 13:16:13,992] Trial 254 finished with value: 72694.88852887908 and parameters: {'lgbm_weight': 0.6323111345944459, 'xgb_weight': 0.17911518853621816, 'xgbrf_weight': 0.06257628558184938, 'cb_weight': 0.6942705310001521, 'hgb_weight': 0.9349431503131733}. Best is trial 226 with value: 72692.29116089665.\n",
      "[I 2024-09-16 13:16:14,045] Trial 255 finished with value: 72694.04282908484 and parameters: {'lgbm_weight': 0.6481716798489059, 'xgb_weight': 0.22192005970178588, 'xgbrf_weight': 0.04326680220365621, 'cb_weight': 0.7325710127710485, 'hgb_weight': 0.9087680147815125}. Best is trial 226 with value: 72692.29116089665.\n",
      "[I 2024-09-16 13:16:14,101] Trial 256 finished with value: 72721.21611508122 and parameters: {'lgbm_weight': 0.7160162049519663, 'xgb_weight': 0.19453982626729505, 'xgbrf_weight': 0.588120669182429, 'cb_weight': 0.6801729288744932, 'hgb_weight': 0.9592435898615964}. Best is trial 226 with value: 72692.29116089665.\n",
      "[I 2024-09-16 13:16:14,157] Trial 257 finished with value: 72693.72888570033 and parameters: {'lgbm_weight': 0.6692172269065306, 'xgb_weight': 0.09543445942637996, 'xgbrf_weight': 0.01682617749588124, 'cb_weight': 0.704356572234713, 'hgb_weight': 0.935652290604379}. Best is trial 226 with value: 72692.29116089665.\n",
      "[I 2024-09-16 13:16:14,212] Trial 258 finished with value: 72692.62542279987 and parameters: {'lgbm_weight': 0.6823902626337992, 'xgb_weight': 0.15974202999847298, 'xgbrf_weight': 0.0009207043211733979, 'cb_weight': 0.6423009851073869, 'hgb_weight': 0.9662443943232051}. Best is trial 226 with value: 72692.29116089665.\n",
      "[I 2024-09-16 13:16:14,265] Trial 259 finished with value: 72693.64172740426 and parameters: {'lgbm_weight': 0.6367928452074162, 'xgb_weight': 0.21994598799872003, 'xgbrf_weight': 0.033088414938344524, 'cb_weight': 0.7396428257484146, 'hgb_weight': 0.9426388375904783}. Best is trial 226 with value: 72692.29116089665.\n",
      "[I 2024-09-16 13:16:14,318] Trial 260 finished with value: 72693.45256875474 and parameters: {'lgbm_weight': 0.6992835591638398, 'xgb_weight': 0.1446709639066674, 'xgbrf_weight': 0.021151264022372142, 'cb_weight': 0.6800151654054998, 'hgb_weight': 0.9855935315742143}. Best is trial 226 with value: 72692.29116089665.\n",
      "[I 2024-09-16 13:16:14,372] Trial 261 finished with value: 72694.67955993945 and parameters: {'lgbm_weight': 0.6628191375120508, 'xgb_weight': 0.2022396388412142, 'xgbrf_weight': 0.058981072530612785, 'cb_weight': 0.7038583834429245, 'hgb_weight': 0.9184826777487931}. Best is trial 226 with value: 72692.29116089665.\n",
      "[I 2024-09-16 13:16:14,425] Trial 262 finished with value: 72697.59339496907 and parameters: {'lgbm_weight': 0.629402964744368, 'xgb_weight': 0.23012479050903567, 'xgbrf_weight': 0.0007022054537804246, 'cb_weight': 0.347295233477418, 'hgb_weight': 0.9650394446896097}. Best is trial 226 with value: 72692.29116089665.\n",
      "[I 2024-09-16 13:16:14,479] Trial 263 finished with value: 72729.43693913937 and parameters: {'lgbm_weight': 0.7272385642205542, 'xgb_weight': 0.18915471058754943, 'xgbrf_weight': 0.7147939587692246, 'cb_weight': 0.6473555439367624, 'hgb_weight': 0.9406283840503579}. Best is trial 226 with value: 72692.29116089665.\n",
      "[I 2024-09-16 13:16:14,533] Trial 264 finished with value: 72692.31714642912 and parameters: {'lgbm_weight': 0.6762682407328756, 'xgb_weight': 0.2134482885470579, 'xgbrf_weight': 0.0002664146456678125, 'cb_weight': 0.7206004326001921, 'hgb_weight': 0.9832966618864813}. Best is trial 226 with value: 72692.29116089665.\n",
      "[I 2024-09-16 13:16:14,588] Trial 265 finished with value: 72693.71384039072 and parameters: {'lgbm_weight': 0.6530346375114271, 'xgb_weight': 0.22658933682261898, 'xgbrf_weight': 0.03663721001332465, 'cb_weight': 0.7372653925455146, 'hgb_weight': 0.988103047580212}. Best is trial 226 with value: 72692.29116089665.\n",
      "[I 2024-09-16 13:16:14,640] Trial 266 finished with value: 72693.22120533642 and parameters: {'lgbm_weight': 0.672764485845974, 'xgb_weight': 0.2079380226340034, 'xgbrf_weight': 0.01943740564841317, 'cb_weight': 0.7677758500384878, 'hgb_weight': 0.8976116305611797}. Best is trial 226 with value: 72692.29116089665.\n",
      "[I 2024-09-16 13:16:14,702] Trial 267 finished with value: 72734.51966434075 and parameters: {'lgbm_weight': 0.6399443788052199, 'xgb_weight': 0.24043674397094533, 'xgbrf_weight': 0.8692874944886169, 'cb_weight': 0.7069957873111516, 'hgb_weight': 0.9998706641072804}. Best is trial 226 with value: 72692.29116089665.\n",
      "[I 2024-09-16 13:16:14,759] Trial 268 finished with value: 72713.84869328118 and parameters: {'lgbm_weight': 0.7098112845706885, 'xgb_weight': 0.21622407225978457, 'xgbrf_weight': 0.42120882036909146, 'cb_weight': 0.6155216589142877, 'hgb_weight': 0.958020646899584}. Best is trial 226 with value: 72692.29116089665.\n",
      "[I 2024-09-16 13:16:14,817] Trial 269 finished with value: 72692.5207987613 and parameters: {'lgbm_weight': 0.6249394012850905, 'xgb_weight': 0.17935748046781233, 'xgbrf_weight': 0.00015248396315049157, 'cb_weight': 0.7224150967299715, 'hgb_weight': 0.9286914715537985}. Best is trial 226 with value: 72692.29116089665.\n",
      "[I 2024-09-16 13:16:14,875] Trial 270 finished with value: 72694.2167059167 and parameters: {'lgbm_weight': 0.683193659290956, 'xgb_weight': 0.18581690345444454, 'xgbrf_weight': 0.04710337713211799, 'cb_weight': 0.7318068398552573, 'hgb_weight': 0.9197917900612304}. Best is trial 226 with value: 72692.29116089665.\n",
      "[I 2024-09-16 13:16:14,933] Trial 271 finished with value: 72702.96241445665 and parameters: {'lgbm_weight': 0.6562898821089532, 'xgb_weight': 0.17581022007744598, 'xgbrf_weight': 0.2497657739551319, 'cb_weight': 0.7227373493575137, 'hgb_weight': 0.9804657096091949}. Best is trial 226 with value: 72692.29116089665.\n",
      "[I 2024-09-16 13:16:14,991] Trial 272 finished with value: 72695.25892854939 and parameters: {'lgbm_weight': 0.6113992720766958, 'xgb_weight': 0.20375065464237846, 'xgbrf_weight': 0.021161698483538858, 'cb_weight': 0.45400366629665295, 'hgb_weight': 0.9256943951229994}. Best is trial 226 with value: 72692.29116089665.\n",
      "[I 2024-09-16 13:16:15,047] Trial 273 finished with value: 72692.98735278791 and parameters: {'lgbm_weight': 0.7040453632178458, 'xgb_weight': 0.11628614092973766, 'xgbrf_weight': 0.0006748156336132921, 'cb_weight': 0.756043396435198, 'hgb_weight': 0.9630116084191896}. Best is trial 226 with value: 72692.29116089665.\n",
      "[I 2024-09-16 13:16:15,106] Trial 274 finished with value: 72695.32349022827 and parameters: {'lgbm_weight': 0.6686833665174613, 'xgb_weight': 0.223721814387427, 'xgbrf_weight': 0.07193521268951321, 'cb_weight': 0.6717945701583101, 'hgb_weight': 0.9494178840990009}. Best is trial 226 with value: 72692.29116089665.\n",
      "[I 2024-09-16 13:16:15,165] Trial 275 finished with value: 72693.65361035238 and parameters: {'lgbm_weight': 0.6424876427513524, 'xgb_weight': 0.23753316833577265, 'xgbrf_weight': 0.033084992293836636, 'cb_weight': 0.7160781624301944, 'hgb_weight': 0.9010413431729348}. Best is trial 226 with value: 72692.29116089665.\n",
      "[I 2024-09-16 13:16:15,222] Trial 276 finished with value: 72699.04445495504 and parameters: {'lgbm_weight': 0.7248099114761313, 'xgb_weight': 0.18512948412859873, 'xgbrf_weight': 0.0175844136007038, 'cb_weight': 0.5744262713870789, 'hgb_weight': 0.44387641530778205}. Best is trial 226 with value: 72692.29116089665.\n",
      "[I 2024-09-16 13:16:15,276] Trial 277 finished with value: 72694.32322352736 and parameters: {'lgbm_weight': 0.6717847095218467, 'xgb_weight': 0.20806453845198225, 'xgbrf_weight': 0.05300560281617388, 'cb_weight': 0.7418004142057048, 'hgb_weight': 0.9828451549364932}. Best is trial 226 with value: 72692.29116089665.\n",
      "[I 2024-09-16 13:16:15,331] Trial 278 finished with value: 72692.38519803238 and parameters: {'lgbm_weight': 0.6974652790170214, 'xgb_weight': 0.24410915741873493, 'xgbrf_weight': 0.0003176541679919627, 'cb_weight': 0.68165716859498, 'hgb_weight': 0.9674059280453535}. Best is trial 226 with value: 72692.29116089665.\n",
      "[I 2024-09-16 13:16:15,392] Trial 279 finished with value: 72693.28866604845 and parameters: {'lgbm_weight': 0.6989418635845525, 'xgb_weight': 0.23753882954827438, 'xgbrf_weight': 0.023900708229366352, 'cb_weight': 0.7828792123847136, 'hgb_weight': 0.9318162411930769}. Best is trial 226 with value: 72692.29116089665.\n",
      "[I 2024-09-16 13:16:15,447] Trial 280 finished with value: 72694.07893033898 and parameters: {'lgbm_weight': 0.68912239467415, 'xgb_weight': 0.16569208255528242, 'xgbrf_weight': 0.038005149430815795, 'cb_weight': 0.6544702953702414, 'hgb_weight': 0.9594954848349182}. Best is trial 226 with value: 72692.29116089665.\n",
      "[I 2024-09-16 13:16:15,504] Trial 281 finished with value: 72692.45171653458 and parameters: {'lgbm_weight': 0.722477408865357, 'xgb_weight': 0.20201263092794755, 'xgbrf_weight': 0.00029907889985454064, 'cb_weight': 0.6820193410853559, 'hgb_weight': 0.9129314124711068}. Best is trial 226 with value: 72692.29116089665.\n",
      "[I 2024-09-16 13:16:15,559] Trial 282 finished with value: 72693.52106050409 and parameters: {'lgbm_weight': 0.735248033815149, 'xgb_weight': 0.21358456603864256, 'xgbrf_weight': 0.017329627040870845, 'cb_weight': 0.6265468908360059, 'hgb_weight': 0.9692549302880392}. Best is trial 226 with value: 72692.29116089665.\n",
      "[I 2024-09-16 13:16:15,614] Trial 283 finished with value: 72709.52923897191 and parameters: {'lgbm_weight': 0.10764350717193727, 'xgb_weight': 0.24444709348597393, 'xgbrf_weight': 0.0003432093767510287, 'cb_weight': 0.6782343430048939, 'hgb_weight': 0.6569401578508363}. Best is trial 226 with value: 72692.29116089665.\n",
      "[I 2024-09-16 13:16:15,670] Trial 284 finished with value: 72694.04929029173 and parameters: {'lgbm_weight': 0.719584296254536, 'xgb_weight': 0.19785814902374477, 'xgbrf_weight': 0.03534022470335211, 'cb_weight': 0.6641414643117693, 'hgb_weight': 0.8823729101583943}. Best is trial 226 with value: 72692.29116089665.\n",
      "[I 2024-09-16 13:16:15,728] Trial 285 finished with value: 72693.66806610921 and parameters: {'lgbm_weight': 0.7435177321382043, 'xgb_weight': 0.22437251149812332, 'xgbrf_weight': 0.021072137761643562, 'cb_weight': 0.642409731441442, 'hgb_weight': 0.9108311680531485}. Best is trial 226 with value: 72692.29116089665.\n",
      "[I 2024-09-16 13:16:15,785] Trial 286 finished with value: 72694.65433908577 and parameters: {'lgbm_weight': 0.7020209982000136, 'xgb_weight': 0.23951238206565448, 'xgbrf_weight': 0.05548863945496021, 'cb_weight': 0.6842074608581507, 'hgb_weight': 0.9494172942353685}. Best is trial 226 with value: 72692.29116089665.\n",
      "[I 2024-09-16 13:16:15,841] Trial 287 finished with value: 72693.10095010142 and parameters: {'lgbm_weight': 0.6783902731376844, 'xgb_weight': 0.19803635825932533, 'xgbrf_weight': 0.020399223257114293, 'cb_weight': 0.7070463027330619, 'hgb_weight': 0.9697356124987979}. Best is trial 226 with value: 72692.29116089665.\n",
      "[I 2024-09-16 13:16:15,897] Trial 288 finished with value: 72694.89341316694 and parameters: {'lgbm_weight': 0.7165530640521168, 'xgb_weight': 0.22310629835410611, 'xgbrf_weight': 0.04135078186368764, 'cb_weight': 0.6687811386989445, 'hgb_weight': 0.7601904026255838}. Best is trial 226 with value: 72692.29116089665.\n",
      "[I 2024-09-16 13:16:15,953] Trial 289 finished with value: 72693.47010105597 and parameters: {'lgbm_weight': 0.65964207132935, 'xgb_weight': 0.2503826659700279, 'xgbrf_weight': 0.017509072021618746, 'cb_weight': 0.6028582343913853, 'hgb_weight': 0.9448999010676228}. Best is trial 226 with value: 72692.29116089665.\n",
      "[I 2024-09-16 13:16:16,009] Trial 290 finished with value: 72738.63540042438 and parameters: {'lgbm_weight': 0.6966938507541348, 'xgb_weight': 0.14880007776213888, 'xgbrf_weight': 0.5244202283055794, 'cb_weight': 0.22441430130993156, 'hgb_weight': 0.9828660331665386}. Best is trial 226 with value: 72692.29116089665.\n",
      "[I 2024-09-16 13:16:16,064] Trial 291 finished with value: 72695.34460823526 and parameters: {'lgbm_weight': 0.6772811211571959, 'xgb_weight': 0.19396489488557053, 'xgbrf_weight': 0.07480942592581315, 'cb_weight': 0.7066249111331656, 'hgb_weight': 0.9306356259559156}. Best is trial 226 with value: 72692.29116089665.\n",
      "[I 2024-09-16 13:16:16,121] Trial 292 finished with value: 72692.49483372062 and parameters: {'lgbm_weight': 0.6530087330770536, 'xgb_weight': 0.21295161540173013, 'xgbrf_weight': 0.0009010130601480653, 'cb_weight': 0.6520932930093808, 'hgb_weight': 0.9992567768240778}. Best is trial 226 with value: 72692.29116089665.\n",
      "[I 2024-09-16 13:16:16,177] Trial 293 finished with value: 72707.74528801776 and parameters: {'lgbm_weight': 0.654336193444954, 'xgb_weight': 0.21014258228324262, 'xgbrf_weight': 0.34005108300017156, 'cb_weight': 0.6849639942083509, 'hgb_weight': 0.9865318106965569}. Best is trial 226 with value: 72692.29116089665.\n",
      "[I 2024-09-16 13:16:16,234] Trial 294 finished with value: 72693.68852403323 and parameters: {'lgbm_weight': 0.6918990872383356, 'xgb_weight': 0.17491366503271405, 'xgbrf_weight': 0.03379874386766194, 'cb_weight': 0.7565403933634143, 'hgb_weight': 0.9972267876683737}. Best is trial 226 with value: 72692.29116089665.\n",
      "[I 2024-09-16 13:16:16,290] Trial 295 finished with value: 72692.54436248892 and parameters: {'lgbm_weight': 0.721897931300765, 'xgb_weight': 0.2224925911552187, 'xgbrf_weight': 9.733504207862231e-05, 'cb_weight': 0.6574710757138943, 'hgb_weight': 0.9984320394012919}. Best is trial 226 with value: 72692.29116089665.\n",
      "[I 2024-09-16 13:16:16,345] Trial 296 finished with value: 72700.90458868959 and parameters: {'lgbm_weight': 0.7472855942408574, 'xgb_weight': 0.682938837302935, 'xgbrf_weight': 0.05460927673203844, 'cb_weight': 0.7172173061520543, 'hgb_weight': 0.9714345011093478}. Best is trial 226 with value: 72692.29116089665.\n",
      "[I 2024-09-16 13:16:16,401] Trial 297 finished with value: 72692.35227242306 and parameters: {'lgbm_weight': 0.6655332788948328, 'xgb_weight': 0.18429696388416697, 'xgbrf_weight': 8.91768406075694e-05, 'cb_weight': 0.6918695423063852, 'hgb_weight': 0.9464373106124252}. Best is trial 226 with value: 72692.29116089665.\n",
      "[I 2024-09-16 13:16:16,457] Trial 298 finished with value: 72693.22297160648 and parameters: {'lgbm_weight': 0.65753377318874, 'xgb_weight': 0.19928036210341915, 'xgbrf_weight': 0.021132088974647707, 'cb_weight': 0.7367068614769344, 'hgb_weight': 0.8953268405444537}. Best is trial 226 with value: 72692.29116089665.\n",
      "[I 2024-09-16 13:16:16,513] Trial 299 finished with value: 72693.08377047519 and parameters: {'lgbm_weight': 0.6687279241609161, 'xgb_weight': 0.23587146520712024, 'xgbrf_weight': 0.019832151216289007, 'cb_weight': 0.6929154487057299, 'hgb_weight': 0.9431455460914706}. Best is trial 226 with value: 72692.29116089665.\n",
      "[I 2024-09-16 13:16:16,576] Trial 300 finished with value: 72693.79067773701 and parameters: {'lgbm_weight': 0.7058144851776105, 'xgb_weight': 0.21198391977593023, 'xgbrf_weight': 0.0360968734981514, 'cb_weight': 0.7060404472748436, 'hgb_weight': 0.9171034930506691}. Best is trial 226 with value: 72692.29116089665.\n",
      "[I 2024-09-16 13:16:16,634] Trial 301 finished with value: 72693.07138546967 and parameters: {'lgbm_weight': 0.6458553186580489, 'xgb_weight': 0.18917252803139042, 'xgbrf_weight': 0.018459769714054254, 'cb_weight': 0.6859601399116255, 'hgb_weight': 0.9533306505437947}. Best is trial 226 with value: 72692.29116089665.\n",
      "[I 2024-09-16 13:16:16,695] Trial 302 finished with value: 72703.30010663279 and parameters: {'lgbm_weight': 0.6789988620151135, 'xgb_weight': 0.7689815200959277, 'xgbrf_weight': 0.05175441338783393, 'cb_weight': 0.7289710696006069, 'hgb_weight': 0.9334663908355569}. Best is trial 226 with value: 72692.29116089665.\n",
      "[I 2024-09-16 13:16:16,750] Trial 303 finished with value: 72700.03266563416 and parameters: {'lgbm_weight': 0.6445771201848631, 'xgb_weight': 0.5083275432005065, 'xgbrf_weight': 0.00010552087151592313, 'cb_weight': 0.7670732968470791, 'hgb_weight': 0.5225875021423397}. Best is trial 226 with value: 72692.29116089665.\n",
      "[I 2024-09-16 13:16:16,806] Trial 304 finished with value: 72743.49626120445 and parameters: {'lgbm_weight': 0.7006975362147427, 'xgb_weight': 0.1502244930698925, 'xgbrf_weight': 0.9914866637699945, 'cb_weight': 0.6718327956220325, 'hgb_weight': 0.9592299422084576}. Best is trial 226 with value: 72692.29116089665.\n",
      "[I 2024-09-16 13:16:16,862] Trial 305 finished with value: 72693.7944016286 and parameters: {'lgbm_weight': 0.7272229458589132, 'xgb_weight': 0.24977132287463016, 'xgbrf_weight': 0.03348494720329454, 'cb_weight': 0.7102915126666305, 'hgb_weight': 0.9150184552859187}. Best is trial 226 with value: 72692.29116089665.\n",
      "[I 2024-09-16 13:16:16,920] Trial 306 finished with value: 72693.05946707171 and parameters: {'lgbm_weight': 0.6580997352570597, 'xgb_weight': 0.22655801643130477, 'xgbrf_weight': 0.01930810704874822, 'cb_weight': 0.744616703116024, 'hgb_weight': 0.9750765562101481}. Best is trial 226 with value: 72692.29116089665.\n",
      "[I 2024-09-16 13:16:16,976] Trial 307 finished with value: 72692.53347539433 and parameters: {'lgbm_weight': 0.674009993715953, 'xgb_weight': 0.20747362587401016, 'xgbrf_weight': 8.639976871490339e-05, 'cb_weight': 0.7900140442986524, 'hgb_weight': 0.9501546138555953}. Best is trial 226 with value: 72692.29116089665.\n",
      "[I 2024-09-16 13:16:17,030] Trial 308 finished with value: 72700.97309670606 and parameters: {'lgbm_weight': 0.6910184904804378, 'xgb_weight': 0.17682949930656983, 'xgbrf_weight': 0.20025133210280255, 'cb_weight': 0.6917141054245834, 'hgb_weight': 0.9847605529511746}. Best is trial 226 with value: 72692.29116089665.\n",
      "[I 2024-09-16 13:16:17,092] Trial 309 finished with value: 72692.3599510397 and parameters: {'lgbm_weight': 0.6336112692849594, 'xgb_weight': 0.22656410878890532, 'xgbrf_weight': 6.727340765318732e-06, 'cb_weight': 0.7189498540904106, 'hgb_weight': 0.9413588577124825}. Best is trial 226 with value: 72692.29116089665.\n",
      "[I 2024-09-16 13:16:17,147] Trial 310 finished with value: 72693.94507855829 and parameters: {'lgbm_weight': 0.6284935977538193, 'xgb_weight': 0.2522109017778987, 'xgbrf_weight': 0.03927161403766144, 'cb_weight': 0.7181422640395552, 'hgb_weight': 0.9114041306209092}. Best is trial 226 with value: 72692.29116089665.\n",
      "[I 2024-09-16 13:16:17,205] Trial 311 finished with value: 72695.17825852017 and parameters: {'lgbm_weight': 0.6093521112447564, 'xgb_weight': 0.13217541225923884, 'xgbrf_weight': 0.05934288441214935, 'cb_weight': 0.7349370037431395, 'hgb_weight': 0.9328111192314902}. Best is trial 226 with value: 72692.29116089665.\n",
      "[I 2024-09-16 13:16:17,262] Trial 312 finished with value: 72693.26139311904 and parameters: {'lgbm_weight': 0.7126884659142125, 'xgb_weight': 0.23814011548474479, 'xgbrf_weight': 0.01885741938971643, 'cb_weight': 0.6960059221347181, 'hgb_weight': 0.8710279721545391}. Best is trial 226 with value: 72692.29116089665.\n",
      "[I 2024-09-16 13:16:17,318] Trial 313 finished with value: 72700.45874200325 and parameters: {'lgbm_weight': 0.6336574815054984, 'xgb_weight': 0.18905537153987062, 'xgbrf_weight': 0.00019283609077755805, 'cb_weight': 0.7515638979466092, 'hgb_weight': 0.3557085706364557}. Best is trial 226 with value: 72692.29116089665.\n",
      "[I 2024-09-16 13:16:17,375] Trial 314 finished with value: 72693.5975469346 and parameters: {'lgbm_weight': 0.6694320033014799, 'xgb_weight': 0.2291304660520705, 'xgbrf_weight': 0.033546203444296104, 'cb_weight': 0.7188131387641703, 'hgb_weight': 0.936519899591712}. Best is trial 226 with value: 72692.29116089665.\n",
      "[I 2024-09-16 13:16:17,433] Trial 315 finished with value: 72693.39080373014 and parameters: {'lgbm_weight': 0.6925780698180736, 'xgb_weight': 0.16647178346101743, 'xgbrf_weight': 0.022664205836582095, 'cb_weight': 0.6802171805592182, 'hgb_weight': 0.8902489349475659}. Best is trial 226 with value: 72692.29116089665.\n",
      "[I 2024-09-16 13:16:17,489] Trial 316 finished with value: 72695.76759405225 and parameters: {'lgbm_weight': 0.7430728926458453, 'xgb_weight': 0.2550438071477253, 'xgbrf_weight': 0.08041920590462326, 'cb_weight': 0.7052832036205374, 'hgb_weight': 0.9577405395315182}. Best is trial 226 with value: 72692.29116089665.\n",
      "[I 2024-09-16 13:16:17,547] Trial 317 finished with value: 72694.32038889303 and parameters: {'lgbm_weight': 0.6049355669377422, 'xgb_weight': 0.20514161423390742, 'xgbrf_weight': 0.04692079727413996, 'cb_weight': 0.7317864141795548, 'hgb_weight': 0.9104037138854809}. Best is trial 226 with value: 72692.29116089665.\n",
      "[I 2024-09-16 13:16:17,606] Trial 318 finished with value: 72694.15310318202 and parameters: {'lgbm_weight': 0.6429308333541114, 'xgb_weight': 0.2218504599291774, 'xgbrf_weight': 0.01945727363344244, 'cb_weight': 0.5317359011050447, 'hgb_weight': 0.945364958692704}. Best is trial 226 with value: 72692.29116089665.\n",
      "[I 2024-09-16 13:16:17,664] Trial 319 finished with value: 72692.4191833895 and parameters: {'lgbm_weight': 0.7074306076010851, 'xgb_weight': 0.19315617294131776, 'xgbrf_weight': 8.450540345086171e-05, 'cb_weight': 0.6734308447854999, 'hgb_weight': 0.9657696381154637}. Best is trial 226 with value: 72692.29116089665.\n",
      "[I 2024-09-16 13:16:17,722] Trial 320 finished with value: 72693.43203887624 and parameters: {'lgbm_weight': 0.7264492950570903, 'xgb_weight': 0.15855813607748348, 'xgbrf_weight': 0.02135853264674495, 'cb_weight': 0.7721759762980949, 'hgb_weight': 0.9282392124117679}. Best is trial 226 with value: 72692.29116089665.\n",
      "[I 2024-09-16 13:16:17,781] Trial 321 finished with value: 72695.0938509712 and parameters: {'lgbm_weight': 0.705912774045266, 'xgb_weight': 0.18673114908866242, 'xgbrf_weight': 0.06474531192947508, 'cb_weight': 0.674355808530439, 'hgb_weight': 0.9621133003853293}. Best is trial 226 with value: 72692.29116089665.\n",
      "[I 2024-09-16 13:16:17,838] Trial 322 finished with value: 72702.42131955786 and parameters: {'lgbm_weight': 0.307088146910299, 'xgb_weight': 0.19547582885202566, 'xgbrf_weight': 0.03833589450084583, 'cb_weight': 0.7063846505166703, 'hgb_weight': 0.4910599627669429}. Best is trial 226 with value: 72692.29116089665.\n",
      "[I 2024-09-16 13:16:17,895] Trial 323 finished with value: 72697.87437651384 and parameters: {'lgbm_weight': 0.7623048719150776, 'xgb_weight': 0.5998323154437452, 'xgbrf_weight': 0.01636782399806401, 'cb_weight': 0.6915353904321913, 'hgb_weight': 0.9761632521715752}. Best is trial 226 with value: 72692.29116089665.\n",
      "[I 2024-09-16 13:16:17,952] Trial 324 finished with value: 72693.10903328813 and parameters: {'lgbm_weight': 0.6793233228096938, 'xgb_weight': 0.17217722622956666, 'xgbrf_weight': 0.018164781497812293, 'cb_weight': 0.7229687166111691, 'hgb_weight': 0.9439490747020537}. Best is trial 226 with value: 72692.29116089665.\n",
      "[I 2024-09-16 13:16:18,010] Trial 325 finished with value: 72694.43999541746 and parameters: {'lgbm_weight': 0.711524848757323, 'xgb_weight': 0.21254388219311687, 'xgbrf_weight': 0.05218628487287823, 'cb_weight': 0.7526187249341734, 'hgb_weight': 0.9039728015737138}. Best is trial 226 with value: 72692.29116089665.\n",
      "[I 2024-09-16 13:16:18,068] Trial 326 finished with value: 72692.40169153646 and parameters: {'lgbm_weight': 0.6637914617612267, 'xgb_weight': 0.18966268545259393, 'xgbrf_weight': 0.0009736706226621618, 'cb_weight': 0.674836124390714, 'hgb_weight': 0.9651420715511494}. Best is trial 226 with value: 72692.29116089665.\n",
      "[I 2024-09-16 13:16:18,125] Trial 327 finished with value: 72692.52785460842 and parameters: {'lgbm_weight': 0.663040178673442, 'xgb_weight': 0.14834488842668755, 'xgbrf_weight': 0.0003301036277515063, 'cb_weight': 0.6676568888850534, 'hgb_weight': 0.9229903466851429}. Best is trial 226 with value: 72692.29116089665.\n",
      "[I 2024-09-16 13:16:18,184] Trial 328 finished with value: 72693.8480324369 and parameters: {'lgbm_weight': 0.6670886202843918, 'xgb_weight': 0.1868389170954364, 'xgbrf_weight': 0.03650674524375555, 'cb_weight': 0.6711469460194596, 'hgb_weight': 0.9744807090906299}. Best is trial 226 with value: 72692.29116089665.\n",
      "[I 2024-09-16 13:16:18,241] Trial 329 finished with value: 72693.43484207394 and parameters: {'lgbm_weight': 0.6891950017535939, 'xgb_weight': 0.12486568963933167, 'xgbrf_weight': 0.018044875814308928, 'cb_weight': 0.6924545877145339, 'hgb_weight': 0.9496365326624505}. Best is trial 226 with value: 72692.29116089665.\n",
      "[I 2024-09-16 13:16:18,304] Trial 330 finished with value: 72694.05127115059 and parameters: {'lgbm_weight': 0.7331083380979713, 'xgb_weight': 0.16130091696438545, 'xgbrf_weight': 0.035705212875299486, 'cb_weight': 0.6750811058594622, 'hgb_weight': 0.9766367453587121}. Best is trial 226 with value: 72692.29116089665.\n",
      "[I 2024-09-16 13:16:18,360] Trial 331 finished with value: 72701.29384090943 and parameters: {'lgbm_weight': 0.23163409136500124, 'xgb_weight': 0.20305229614619946, 'xgbrf_weight': 0.0006611169814867296, 'cb_weight': 0.7026653771401742, 'hgb_weight': 0.9354310109151359}. Best is trial 226 with value: 72692.29116089665.\n",
      "[I 2024-09-16 13:16:18,417] Trial 332 finished with value: 72692.43603029412 and parameters: {'lgbm_weight': 0.6403723047826482, 'xgb_weight': 0.18022256283885307, 'xgbrf_weight': 0.00029639177531948945, 'cb_weight': 0.647594106967208, 'hgb_weight': 0.9546303265390726}. Best is trial 226 with value: 72692.29116089665.\n",
      "[I 2024-09-16 13:16:18,475] Trial 333 finished with value: 72693.26002799397 and parameters: {'lgbm_weight': 0.6524197204641099, 'xgb_weight': 0.17254350009836195, 'xgbrf_weight': 0.020129132938574445, 'cb_weight': 0.6450475492465665, 'hgb_weight': 0.8457463781276616}. Best is trial 226 with value: 72692.29116089665.\n",
      "[I 2024-09-16 13:16:18,533] Trial 334 finished with value: 72694.86976103186 and parameters: {'lgbm_weight': 0.7068626924356874, 'xgb_weight': 0.14224753647670094, 'xgbrf_weight': 0.05117572120443015, 'cb_weight': 0.6610434407166947, 'hgb_weight': 0.8847521177475555}. Best is trial 226 with value: 72692.29116089665.\n",
      "[I 2024-09-16 13:16:18,592] Trial 335 finished with value: 72692.35279259649 and parameters: {'lgbm_weight': 0.6791872308944295, 'xgb_weight': 0.18343474792615533, 'xgbrf_weight': 7.973686799002829e-05, 'cb_weight': 0.6845975969244998, 'hgb_weight': 0.9241141375063929}. Best is trial 226 with value: 72692.29116089665.\n",
      "[I 2024-09-16 13:16:18,647] Trial 336 finished with value: 72697.9402666441 and parameters: {'lgbm_weight': 0.6787415446662525, 'xgb_weight': 0.5479352962267136, 'xgbrf_weight': 0.019011888192927817, 'cb_weight': 0.6297308114197314, 'hgb_weight': 0.9095364065103874}. Best is trial 226 with value: 72692.29116089665.\n",
      "[I 2024-09-16 13:16:18,706] Trial 337 finished with value: 72695.3189452747 and parameters: {'lgbm_weight': 0.6368695607360065, 'xgb_weight': 0.1835166339442013, 'xgbrf_weight': 0.07235587560743889, 'cb_weight': 0.681544755914053, 'hgb_weight': 0.9208920643740863}. Best is trial 226 with value: 72692.29116089665.\n",
      "[I 2024-09-16 13:16:18,764] Trial 338 finished with value: 72710.6881930575 and parameters: {'lgbm_weight': 0.6966374195450333, 'xgb_weight': 0.16157140453509922, 'xgbrf_weight': 0.3851509239897846, 'cb_weight': 0.709608679849561, 'hgb_weight': 0.8908438144066833}. Best is trial 226 with value: 72692.29116089665.\n",
      "[I 2024-09-16 13:16:18,821] Trial 339 finished with value: 72692.33310992106 and parameters: {'lgbm_weight': 0.6601362621334965, 'xgb_weight': 0.1913165501041114, 'xgbrf_weight': 0.000312973937553734, 'cb_weight': 0.67571159670392, 'hgb_weight': 0.9322357771528894}. Best is trial 226 with value: 72692.29116089665.\n",
      "[I 2024-09-16 13:16:18,879] Trial 340 finished with value: 72713.98325044783 and parameters: {'lgbm_weight': 0.6559802949162499, 'xgb_weight': 0.1969688554975188, 'xgbrf_weight': 0.034069335270738584, 'cb_weight': 0.10846189445152554, 'hgb_weight': 0.9207605979747518}. Best is trial 226 with value: 72692.29116089665.\n",
      "[I 2024-09-16 13:16:18,937] Trial 341 finished with value: 72693.11120907457 and parameters: {'lgbm_weight': 0.6400877904489954, 'xgb_weight': 0.2030955974998693, 'xgbrf_weight': 0.018645717251427482, 'cb_weight': 0.6537860485881214, 'hgb_weight': 0.9516695720887532}. Best is trial 226 with value: 72692.29116089665.\n",
      "[I 2024-09-16 13:16:18,994] Trial 342 finished with value: 72695.70974227643 and parameters: {'lgbm_weight': 0.6661440480421326, 'xgb_weight': 0.18541849437973326, 'xgbrf_weight': 0.037123774360138626, 'cb_weight': 0.6172229969757886, 'hgb_weight': 0.6152414449164404}. Best is trial 226 with value: 72692.29116089665.\n",
      "[I 2024-09-16 13:16:19,055] Trial 343 finished with value: 72693.08647392865 and parameters: {'lgbm_weight': 0.6786739876919796, 'xgb_weight': 0.2163449636293714, 'xgbrf_weight': 0.01764875558987826, 'cb_weight': 0.6625803380175428, 'hgb_weight': 0.897862090294111}. Best is trial 226 with value: 72692.29116089665.\n",
      "[I 2024-09-16 13:16:19,115] Trial 344 finished with value: 72733.71071016009 and parameters: {'lgbm_weight': 0.6555019612262987, 'xgb_weight': 0.1909209595675231, 'xgbrf_weight': 0.8097013706954536, 'cb_weight': 0.6813869079079472, 'hgb_weight': 0.9313577442293618}. Best is trial 226 with value: 72692.29116089665.\n",
      "[I 2024-09-16 13:16:19,173] Trial 345 finished with value: 72694.47167510414 and parameters: {'lgbm_weight': 0.6400157465083808, 'xgb_weight': 0.15214251834935297, 'xgbrf_weight': 0.0476887635309593, 'cb_weight': 0.6563966891691766, 'hgb_weight': 0.952454269715674}. Best is trial 226 with value: 72692.29116089665.\n",
      "[I 2024-09-16 13:16:19,233] Trial 346 finished with value: 72693.11008687559 and parameters: {'lgbm_weight': 0.6850105088814396, 'xgb_weight': 0.22480572430861567, 'xgbrf_weight': 0.017822105244383785, 'cb_weight': 0.7162591122873994, 'hgb_weight': 0.8667315566062738}. Best is trial 226 with value: 72692.29116089665.\n",
      "[I 2024-09-16 13:16:19,291] Trial 347 finished with value: 72692.49920622945 and parameters: {'lgbm_weight': 0.6257868704251152, 'xgb_weight': 0.1741231229491832, 'xgbrf_weight': 0.0004494303074345783, 'cb_weight': 0.6363597372917686, 'hgb_weight': 0.9548368837391988}. Best is trial 226 with value: 72692.29116089665.\n",
      "[I 2024-09-16 13:16:19,348] Trial 348 finished with value: 72706.57385738133 and parameters: {'lgbm_weight': 0.6657145273651617, 'xgb_weight': 0.20370664615024764, 'xgbrf_weight': 0.305182752432107, 'cb_weight': 0.6806203300582914, 'hgb_weight': 0.9148661980650238}. Best is trial 226 with value: 72692.29116089665.\n",
      "[I 2024-09-16 13:16:19,409] Trial 349 finished with value: 72726.31368050295 and parameters: {'lgbm_weight': 0.7207936784797464, 'xgb_weight': 0.10716501671542915, 'xgbrf_weight': 0.034336530659864924, 'cb_weight': 0.700315570407865, 'hgb_weight': 0.006065007734816552}. Best is trial 226 with value: 72692.29116089665.\n",
      "[I 2024-09-16 13:16:19,467] Trial 350 finished with value: 72697.88744055391 and parameters: {'lgbm_weight': 0.6941082619819472, 'xgb_weight': 0.21701430039886158, 'xgbrf_weight': 0.06589829463046037, 'cb_weight': 0.7341357972065797, 'hgb_weight': 0.5843615445913727}. Best is trial 226 with value: 72692.29116089665.\n",
      "[I 2024-09-16 13:16:19,525] Trial 351 finished with value: 72693.33913827116 and parameters: {'lgbm_weight': 0.6516221253671125, 'xgb_weight': 0.0795757280388888, 'xgbrf_weight': 0.00063004897762842, 'cb_weight': 0.6781793690708356, 'hgb_weight': 0.9352581541585434}. Best is trial 226 with value: 72692.29116089665.\n",
      "[I 2024-09-16 13:16:19,585] Trial 352 finished with value: 72692.37738443034 and parameters: {'lgbm_weight': 0.6743727659314824, 'xgb_weight': 0.18613093639845943, 'xgbrf_weight': 0.00013037463215712975, 'cb_weight': 0.7213072964316153, 'hgb_weight': 0.967194813620141}. Best is trial 226 with value: 72692.29116089665.\n",
      "[I 2024-09-16 13:16:19,643] Trial 353 finished with value: 72700.23195892159 and parameters: {'lgbm_weight': 0.6693032908064293, 'xgb_weight': 0.14459597598054402, 'xgbrf_weight': 0.031052865415929175, 'cb_weight': 0.7232499609149229, 'hgb_weight': 0.409707801906418}. Best is trial 226 with value: 72692.29116089665.\n",
      "[I 2024-09-16 13:16:19,708] Trial 354 finished with value: 72722.65325759554 and parameters: {'lgbm_weight': 0.6231808949613025, 'xgb_weight': 0.17039031774739877, 'xgbrf_weight': 0.6398821890042901, 'cb_weight': 0.7366111105262997, 'hgb_weight': 0.9615662800227477}. Best is trial 226 with value: 72692.29116089665.\n",
      "[I 2024-09-16 13:16:19,765] Trial 355 finished with value: 72697.02809547482 and parameters: {'lgbm_weight': 0.4880239514402409, 'xgb_weight': 0.18549260351967317, 'xgbrf_weight': 0.09142889835732766, 'cb_weight': 0.7113153119190266, 'hgb_weight': 0.9700720737255955}. Best is trial 226 with value: 72692.29116089665.\n",
      "[I 2024-09-16 13:16:19,824] Trial 356 finished with value: 72693.11455794724 and parameters: {'lgbm_weight': 0.6455767857442224, 'xgb_weight': 0.22232926488159854, 'xgbrf_weight': 0.01942853867181106, 'cb_weight': 0.7484998597755433, 'hgb_weight': 0.9831269494947663}. Best is trial 226 with value: 72692.29116089665.\n",
      "[I 2024-09-16 13:16:19,885] Trial 357 finished with value: 72694.76161205795 and parameters: {'lgbm_weight': 0.5999926691314852, 'xgb_weight': 0.13505151469212406, 'xgbrf_weight': 0.05024835520070275, 'cb_weight': 0.6937114396056929, 'hgb_weight': 0.9589331569570061}. Best is trial 226 with value: 72692.29116089665.\n",
      "[I 2024-09-16 13:16:19,945] Trial 358 finished with value: 72692.30900047447 and parameters: {'lgbm_weight': 0.678364643109883, 'xgb_weight': 0.2321841162013719, 'xgbrf_weight': 0.0005723195478941894, 'cb_weight': 0.7163547284055126, 'hgb_weight': 0.9414508922431812}. Best is trial 226 with value: 72692.29116089665.\n",
      "[I 2024-09-16 13:16:20,005] Trial 359 finished with value: 72693.22019306364 and parameters: {'lgbm_weight': 0.6835887600484668, 'xgb_weight': 0.22916810123561182, 'xgbrf_weight': 0.019975608296367752, 'cb_weight': 0.6612400326644919, 'hgb_weight': 0.9837172685018272}. Best is trial 226 with value: 72692.29116089665.\n",
      "[I 2024-09-16 13:16:20,064] Trial 360 finished with value: 72692.35063088193 and parameters: {'lgbm_weight': 0.6954682178340539, 'xgb_weight': 0.1928583145872376, 'xgbrf_weight': 0.0002849662712433516, 'cb_weight': 0.7016769783461264, 'hgb_weight': 0.9656658379045556}. Best is trial 226 with value: 72692.29116089665.\n",
      "[I 2024-09-16 13:16:20,126] Trial 361 finished with value: 72693.80855694682 and parameters: {'lgbm_weight': 0.671702672566842, 'xgb_weight': 0.1626205715885884, 'xgbrf_weight': 0.03514765778899802, 'cb_weight': 0.7150679118514882, 'hgb_weight': 0.9682925654999593}. Best is trial 226 with value: 72692.29116089665.\n",
      "[I 2024-09-16 13:16:20,184] Trial 362 finished with value: 72692.3161654792 and parameters: {'lgbm_weight': 0.6934126520354474, 'xgb_weight': 0.20701100771557923, 'xgbrf_weight': 9.550564434387352e-05, 'cb_weight': 0.7343179621810186, 'hgb_weight': 0.9853549094713783}. Best is trial 226 with value: 72692.29116089665.\n",
      "[I 2024-09-16 13:16:20,246] Trial 363 finished with value: 72693.07437293744 and parameters: {'lgbm_weight': 0.69303790257078, 'xgb_weight': 0.23636215917362136, 'xgbrf_weight': 0.021052640357046015, 'cb_weight': 0.7662726343803881, 'hgb_weight': 0.9901605455420152}. Best is trial 226 with value: 72692.29116089665.\n",
      "[I 2024-09-16 13:16:20,309] Trial 364 finished with value: 72693.85737143463 and parameters: {'lgbm_weight': 0.6952092946522795, 'xgb_weight': 0.20501621445093007, 'xgbrf_weight': 0.041420802979142204, 'cb_weight': 0.7444589404047381, 'hgb_weight': 0.9986435678108435}. Best is trial 226 with value: 72692.29116089665.\n",
      "[I 2024-09-16 13:16:20,367] Trial 365 finished with value: 72692.30111542043 and parameters: {'lgbm_weight': 0.6779191524579679, 'xgb_weight': 0.21584165814689385, 'xgbrf_weight': 4.0082766481705024e-05, 'cb_weight': 0.7266297246921232, 'hgb_weight': 0.9728099006598959}. Best is trial 226 with value: 72692.29116089665.\n",
      "[I 2024-09-16 13:16:20,427] Trial 366 finished with value: 72712.90943606837 and parameters: {'lgbm_weight': 0.702600741620705, 'xgb_weight': 0.22588648742563727, 'xgbrf_weight': 0.05520918807433651, 'cb_weight': 0.7716426718252452, 'hgb_weight': 0.14879831482188355}. Best is trial 226 with value: 72692.29116089665.\n",
      "[I 2024-09-16 13:16:20,486] Trial 367 finished with value: 72693.0387750331 and parameters: {'lgbm_weight': 0.6778008196994416, 'xgb_weight': 0.24366171767081743, 'xgbrf_weight': 0.019697547267936016, 'cb_weight': 0.7365588918775606, 'hgb_weight': 0.9729110275931939}. Best is trial 226 with value: 72692.29116089665.\n",
      "[I 2024-09-16 13:16:20,546] Trial 368 finished with value: 72692.95144861638 and parameters: {'lgbm_weight': 0.6801797088584413, 'xgb_weight': 0.21095712104556316, 'xgbrf_weight': 0.01661670044145054, 'cb_weight': 0.7441889246634168, 'hgb_weight': 0.9450220908849271}. Best is trial 226 with value: 72692.29116089665.\n",
      "[I 2024-09-16 13:16:20,606] Trial 369 finished with value: 72693.70031693057 and parameters: {'lgbm_weight': 0.7381136577441064, 'xgb_weight': 0.23301653387426915, 'xgbrf_weight': 0.03524301661276449, 'cb_weight': 0.723679086353382, 'hgb_weight': 0.9826674399875135}. Best is trial 226 with value: 72692.29116089665.\n",
      "[I 2024-09-16 13:16:20,666] Trial 370 finished with value: 72694.84936309831 and parameters: {'lgbm_weight': 0.7109654473081973, 'xgb_weight': 0.2090246944541976, 'xgbrf_weight': 0.06797403435193852, 'cb_weight': 0.7583011059552953, 'hgb_weight': 0.9993524457904033}. Best is trial 226 with value: 72692.29116089665.\n",
      "[I 2024-09-16 13:16:20,727] Trial 371 finished with value: 72692.30800149882 and parameters: {'lgbm_weight': 0.6720695214696081, 'xgb_weight': 0.24365046970876786, 'xgbrf_weight': 0.00010630681720784764, 'cb_weight': 0.7268336770509161, 'hgb_weight': 0.9647915332099986}. Best is trial 226 with value: 72692.29116089665.\n",
      "[I 2024-09-16 13:16:20,788] Trial 372 finished with value: 72693.00881759234 and parameters: {'lgbm_weight': 0.6680039829232398, 'xgb_weight': 0.24816439325194867, 'xgbrf_weight': 0.018030806942633537, 'cb_weight': 0.7277070102207003, 'hgb_weight': 0.9419162033673549}. Best is trial 226 with value: 72692.29116089665.\n",
      "[I 2024-09-16 13:16:20,847] Trial 373 finished with value: 72692.37231155993 and parameters: {'lgbm_weight': 0.6567777799594906, 'xgb_weight': 0.19394376984910552, 'xgbrf_weight': 0.0006451906365920915, 'cb_weight': 0.7006329170902764, 'hgb_weight': 0.9656752736243676}. Best is trial 226 with value: 72692.29116089665.\n",
      "[I 2024-09-16 13:16:20,906] Trial 374 finished with value: 72693.72864705666 and parameters: {'lgbm_weight': 0.6668154008844958, 'xgb_weight': 0.19272391449502813, 'xgbrf_weight': 0.03611577928106888, 'cb_weight': 0.7083743180432543, 'hgb_weight': 0.9655072456386219}. Best is trial 226 with value: 72692.29116089665.\n",
      "[I 2024-09-16 13:16:20,965] Trial 375 finished with value: 72738.67890572501 and parameters: {'lgbm_weight': 0.6533365531578474, 'xgb_weight': 0.1994936219383174, 'xgbrf_weight': 0.9479287908589102, 'cb_weight': 0.7288575935162661, 'hgb_weight': 0.968226006248134}. Best is trial 226 with value: 72692.29116089665.\n",
      "[I 2024-09-16 13:16:21,025] Trial 376 finished with value: 72693.00891597975 and parameters: {'lgbm_weight': 0.6900586207307836, 'xgb_weight': 0.21913722203408814, 'xgbrf_weight': 0.018666227165912968, 'cb_weight': 0.7101596285567855, 'hgb_weight': 0.9547356612644132}. Best is trial 226 with value: 72692.29116089665.\n",
      "[I 2024-09-16 13:16:21,084] Trial 377 finished with value: 72705.27767519606 and parameters: {'lgbm_weight': 0.6570729880584049, 'xgb_weight': 0.16610817503323025, 'xgbrf_weight': 0.05533689015970462, 'cb_weight': 0.6965179975317158, 'hgb_weight': 0.288662152783981}. Best is trial 226 with value: 72692.29116089665.\n",
      "[I 2024-09-16 13:16:21,142] Trial 378 finished with value: 72693.02150987368 and parameters: {'lgbm_weight': 0.7091187515542042, 'xgb_weight': 0.19312754194144444, 'xgbrf_weight': 0.01827034637523884, 'cb_weight': 0.7439757682159425, 'hgb_weight': 0.9998116244247611}. Best is trial 226 with value: 72692.29116089665.\n",
      "[I 2024-09-16 13:16:21,202] Trial 379 finished with value: 72693.75070838245 and parameters: {'lgbm_weight': 0.6861207503076779, 'xgb_weight': 0.21842287519665488, 'xgbrf_weight': 0.0374715024411177, 'cb_weight': 0.7246424088490134, 'hgb_weight': 0.9372307035825055}. Best is trial 226 with value: 72692.29116089665.\n",
      "[I 2024-09-16 13:16:21,260] Trial 380 finished with value: 72692.50434918112 and parameters: {'lgbm_weight': 0.6454450105106475, 'xgb_weight': 0.17881965130226785, 'xgbrf_weight': 0.0016992475448895843, 'cb_weight': 0.6882251703454731, 'hgb_weight': 0.979226383601627}. Best is trial 226 with value: 72692.29116089665.\n",
      "[I 2024-09-16 13:16:21,320] Trial 381 finished with value: 72705.14438125397 and parameters: {'lgbm_weight': 0.7276863333923684, 'xgb_weight': 0.896006281475182, 'xgbrf_weight': 0.0006397549641603273, 'cb_weight': 0.6965195148383351, 'hgb_weight': 0.961593181440971}. Best is trial 226 with value: 72692.29116089665.\n",
      "[I 2024-09-16 13:16:21,380] Trial 382 finished with value: 72695.3666676136 and parameters: {'lgbm_weight': 0.6680524339803456, 'xgb_weight': 0.03862317341333865, 'xgbrf_weight': 0.03149060483496554, 'cb_weight': 0.7484188100261673, 'hgb_weight': 0.94340694841226}. Best is trial 226 with value: 72692.29116089665.\n",
      "[I 2024-09-16 13:16:21,441] Trial 383 finished with value: 72695.08586486985 and parameters: {'lgbm_weight': 0.4464661476038443, 'xgb_weight': 0.20567563594940552, 'xgbrf_weight': 0.01888456561390266, 'cb_weight': 0.7180767239821525, 'hgb_weight': 0.9782803676961157}. Best is trial 226 with value: 72692.29116089665.\n",
      "[I 2024-09-16 13:16:21,500] Trial 384 finished with value: 72694.30937728773 and parameters: {'lgbm_weight': 0.6229574580855181, 'xgb_weight': 0.23482202978534145, 'xgbrf_weight': 0.049608229587591965, 'cb_weight': 0.7047690835476421, 'hgb_weight': 0.9631842559406101}. Best is trial 226 with value: 72692.29116089665.\n",
      "[I 2024-09-16 13:16:21,559] Trial 385 finished with value: 72693.21816589925 and parameters: {'lgbm_weight': 0.7009718954315776, 'xgb_weight': 0.15602793127994644, 'xgbrf_weight': 0.01813652654767388, 'cb_weight': 0.7315144101555282, 'hgb_weight': 0.9369508665293913}. Best is trial 226 with value: 72692.29116089665.\n",
      "[I 2024-09-16 13:16:21,618] Trial 386 finished with value: 72704.7152553061 and parameters: {'lgbm_weight': 0.6831715453733633, 'xgb_weight': 0.18553349072239372, 'xgbrf_weight': 0.08205820737073095, 'cb_weight': 0.29966293005248257, 'hgb_weight': 0.999739503811592}. Best is trial 226 with value: 72692.29116089665.\n",
      "[I 2024-09-16 13:16:21,678] Trial 387 finished with value: 72692.60118982766 and parameters: {'lgbm_weight': 0.7513200066948205, 'xgb_weight': 0.2145090743167104, 'xgbrf_weight': 0.00152874938466509, 'cb_weight': 0.6771925404854349, 'hgb_weight': 0.9810947044276155}. Best is trial 226 with value: 72692.29116089665.\n",
      "[I 2024-09-16 13:16:21,738] Trial 388 finished with value: 72693.67228419137 and parameters: {'lgbm_weight': 0.6584671462203333, 'xgb_weight': 0.23066559545325002, 'xgbrf_weight': 0.035111215058056124, 'cb_weight': 0.7561493375231247, 'hgb_weight': 0.957105877459797}. Best is trial 226 with value: 72692.29116089665.\n",
      "[I 2024-09-16 13:16:21,799] Trial 389 finished with value: 72692.31925684489 and parameters: {'lgbm_weight': 0.6396048140338264, 'xgb_weight': 0.19997549135724665, 'xgbrf_weight': 1.4741186694670167e-05, 'cb_weight': 0.6921663228856951, 'hgb_weight': 0.9288548767560177}. Best is trial 226 with value: 72692.29116089665.\n",
      "[I 2024-09-16 13:16:21,858] Trial 390 finished with value: 72692.36300823162 and parameters: {'lgbm_weight': 0.6977164438941464, 'xgb_weight': 0.18880075516774686, 'xgbrf_weight': 0.00019374157182525518, 'cb_weight': 0.7046699476849542, 'hgb_weight': 0.9247169483902273}. Best is trial 226 with value: 72692.29116089665.\n",
      "[I 2024-09-16 13:16:21,918] Trial 391 finished with value: 72693.27692986884 and parameters: {'lgbm_weight': 0.636116535230557, 'xgb_weight': 0.16509795837718008, 'xgbrf_weight': 0.01987624932563677, 'cb_weight': 0.7181643594356628, 'hgb_weight': 0.915073850346117}. Best is trial 226 with value: 72692.29116089665.\n",
      "[I 2024-09-16 13:16:21,980] Trial 392 finished with value: 72694.44273231772 and parameters: {'lgbm_weight': 0.6737917141483989, 'xgb_weight': 0.18416689863409963, 'xgbrf_weight': 0.051316200176817706, 'cb_weight': 0.7356516625041123, 'hgb_weight': 0.8967711104029585}. Best is trial 226 with value: 72692.29116089665.\n",
      "[I 2024-09-16 13:16:22,040] Trial 393 finished with value: 72693.43891561603 and parameters: {'lgbm_weight': 0.693421226066952, 'xgb_weight': 0.20204929768302593, 'xgbrf_weight': 0.028266818654784028, 'cb_weight': 0.7044227867348977, 'hgb_weight': 0.9266239988551118}. Best is trial 226 with value: 72692.29116089665.\n",
      "[I 2024-09-16 13:16:22,102] Trial 394 finished with value: 72693.39107350633 and parameters: {'lgbm_weight': 0.612824878250241, 'xgb_weight': 0.1401574477881566, 'xgbrf_weight': 0.01747531154828213, 'cb_weight': 0.7003394201372353, 'hgb_weight': 0.9283390388314127}. Best is trial 226 with value: 72692.29116089665.\n",
      "[I 2024-09-16 13:16:22,167] Trial 395 finished with value: 72694.94090451939 and parameters: {'lgbm_weight': 0.6593545604379683, 'xgb_weight': 0.2527484538654934, 'xgbrf_weight': 0.0639223782466626, 'cb_weight': 0.7569160126259041, 'hgb_weight': 0.899806275428955}. Best is trial 226 with value: 72692.29116089665.\n",
      "[I 2024-09-16 13:16:22,227] Trial 396 finished with value: 72693.83479278111 and parameters: {'lgbm_weight': 0.7189966692657958, 'xgb_weight': 0.23470745534204676, 'xgbrf_weight': 0.038372701168033235, 'cb_weight': 0.7259864728828479, 'hgb_weight': 0.9412802779909207}. Best is trial 226 with value: 72692.29116089665.\n",
      "[I 2024-09-16 13:16:22,288] Trial 397 finished with value: 72692.41980000268 and parameters: {'lgbm_weight': 0.6818755129369308, 'xgb_weight': 0.18023002108002528, 'xgbrf_weight': 0.0007144186382473256, 'cb_weight': 0.6917146334823441, 'hgb_weight': 0.8827784039550954}. Best is trial 226 with value: 72692.29116089665.\n",
      "[I 2024-09-16 13:16:22,362] Trial 398 finished with value: 72693.6253022561 and parameters: {'lgbm_weight': 0.6336369640047379, 'xgb_weight': 0.12508530342284355, 'xgbrf_weight': 0.020862980582335423, 'cb_weight': 0.7127881779438381, 'hgb_weight': 0.9144681758114993}. Best is trial 226 with value: 72692.29116089665.\n",
      "[I 2024-09-16 13:16:22,436] Trial 399 finished with value: 72693.8989138233 and parameters: {'lgbm_weight': 0.6576271402917233, 'xgb_weight': 0.21678193078718816, 'xgbrf_weight': 0.04030983766616516, 'cb_weight': 0.6905577673026121, 'hgb_weight': 0.9455218161730413}. Best is trial 226 with value: 72692.29116089665.\n",
      "[I 2024-09-16 13:16:22,499] Trial 400 finished with value: 72715.78444663517 and parameters: {'lgbm_weight': 0.695401461373845, 'xgb_weight': 0.1596785438036042, 'xgbrf_weight': 0.4658529569956765, 'cb_weight': 0.7443043832612413, 'hgb_weight': 0.7913054341271079}. Best is trial 226 with value: 72692.29116089665.\n",
      "[I 2024-09-16 13:16:22,562] Trial 401 finished with value: 72725.3472579716 and parameters: {'lgbm_weight': 0.12028618855629492, 'xgb_weight': 0.6382036755997211, 'xgbrf_weight': 0.017275451547266684, 'cb_weight': 0.7231027191619478, 'hgb_weight': 0.3875972144990776}. Best is trial 226 with value: 72692.29116089665.\n",
      "[I 2024-09-16 13:16:22,621] Trial 402 finished with value: 72693.50637944395 and parameters: {'lgbm_weight': 0.6679055266758729, 'xgb_weight': 0.1992362089178607, 'xgbrf_weight': 0.00047573346877326044, 'cb_weight': 0.7748827352466399, 'hgb_weight': 0.725080302706479}. Best is trial 226 with value: 72692.29116089665.\n",
      "[I 2024-09-16 13:16:22,687] Trial 403 finished with value: 72693.71276797773 and parameters: {'lgbm_weight': 0.7269598881695041, 'xgb_weight': 0.24333281499858458, 'xgbrf_weight': 0.03258159762046092, 'cb_weight': 0.7077868904547906, 'hgb_weight': 0.9299177678357681}. Best is trial 226 with value: 72692.29116089665.\n",
      "[I 2024-09-16 13:16:22,751] Trial 404 finished with value: 72692.31847164579 and parameters: {'lgbm_weight': 0.6464112225173874, 'xgb_weight': 0.21815296078262505, 'xgbrf_weight': 0.00011404027090533591, 'cb_weight': 0.6716920580295652, 'hgb_weight': 0.9488728751558866}. Best is trial 226 with value: 72692.29116089665.\n",
      "[I 2024-09-16 13:16:22,812] Trial 405 finished with value: 72694.62394211855 and parameters: {'lgbm_weight': 0.6008259913494414, 'xgb_weight': 0.22197269911664824, 'xgbrf_weight': 0.05401909842329761, 'cb_weight': 0.7386767267010447, 'hgb_weight': 0.906829002133618}. Best is trial 226 with value: 72692.29116089665.\n",
      "[I 2024-09-16 13:16:22,874] Trial 406 finished with value: 72701.56273022169 and parameters: {'lgbm_weight': 0.6406076674223835, 'xgb_weight': 0.25442109705918564, 'xgbrf_weight': 0.021698718262294657, 'cb_weight': 0.6892107242147126, 'hgb_weight': 0.3315313987966649}. Best is trial 226 with value: 72692.29116089665.\n",
      "[I 2024-09-16 13:16:22,938] Trial 407 finished with value: 72692.42849128928 and parameters: {'lgbm_weight': 0.6256496314634917, 'xgb_weight': 0.22990034555894037, 'xgbrf_weight': 0.0007800858253830449, 'cb_weight': 0.7231738818625545, 'hgb_weight': 0.9464806961237251}. Best is trial 226 with value: 72692.29116089665.\n",
      "[I 2024-09-16 13:16:23,002] Trial 408 finished with value: 72693.25129580019 and parameters: {'lgbm_weight': 0.6980072071361834, 'xgb_weight': 0.2118431657093677, 'xgbrf_weight': 0.020741968384919117, 'cb_weight': 0.663570469423436, 'hgb_weight': 0.9264799496748188}. Best is trial 226 with value: 72692.29116089665.\n",
      "[I 2024-09-16 13:16:23,063] Trial 409 finished with value: 72692.30411190997 and parameters: {'lgbm_weight': 0.6781488065241312, 'xgb_weight': 0.20445762756435187, 'xgbrf_weight': 0.00014802617323843073, 'cb_weight': 0.7033897259819589, 'hgb_weight': 0.9507365149026624}. Best is trial 226 with value: 72692.29116089665.\n",
      "[I 2024-09-16 13:16:23,126] Trial 410 finished with value: 72695.20253697617 and parameters: {'lgbm_weight': 0.6872922593894113, 'xgb_weight': 0.19642925041055134, 'xgbrf_weight': 0.0724569429963528, 'cb_weight': 0.7625312111137228, 'hgb_weight': 0.9232717735430741}. Best is trial 226 with value: 72692.29116089665.\n",
      "[I 2024-09-16 13:16:23,191] Trial 411 finished with value: 72692.52982122498 and parameters: {'lgbm_weight': 0.7172439547815784, 'xgb_weight': 0.1661539927012697, 'xgbrf_weight': 0.00016156287236906202, 'cb_weight': 0.7084415029971097, 'hgb_weight': 0.898543287532401}. Best is trial 226 with value: 72692.29116089665.\n",
      "[I 2024-09-16 13:16:23,253] Trial 412 finished with value: 72693.96052247543 and parameters: {'lgbm_weight': 0.6464642745761006, 'xgb_weight': 0.18188333392763148, 'xgbrf_weight': 0.03948590294139105, 'cb_weight': 0.7429426156452266, 'hgb_weight': 0.9425522891373709}. Best is trial 226 with value: 72692.29116089665.\n",
      "[I 2024-09-16 13:16:23,315] Trial 413 finished with value: 72693.22731105925 and parameters: {'lgbm_weight': 0.6800385425398925, 'xgb_weight': 0.2068316521065979, 'xgbrf_weight': 0.02129312003485677, 'cb_weight': 0.7186828132734225, 'hgb_weight': 0.873865940503498}. Best is trial 226 with value: 72692.29116089665.\n",
      "[I 2024-09-16 13:16:23,377] Trial 414 finished with value: 72694.17652346134 and parameters: {'lgbm_weight': 0.7056825807225718, 'xgb_weight': 0.2146145809240555, 'xgbrf_weight': 0.048238796906801044, 'cb_weight': 0.7892521498540005, 'hgb_weight': 0.9507900833059522}. Best is trial 226 with value: 72692.29116089665.\n",
      "[I 2024-09-16 13:16:23,438] Trial 415 finished with value: 72693.29236078987 and parameters: {'lgbm_weight': 0.5839991929875225, 'xgb_weight': 0.17952938712222385, 'xgbrf_weight': 0.01893999222490491, 'cb_weight': 0.692232066364804, 'hgb_weight': 0.9200385859478278}. Best is trial 226 with value: 72692.29116089665.\n",
      "[I 2024-09-16 13:16:23,499] Trial 416 finished with value: 72704.92169651385 and parameters: {'lgbm_weight': 0.7362478923274851, 'xgb_weight': 0.14912301924879573, 'xgbrf_weight': 2.3104765939384333e-05, 'cb_weight': 0.7318102704529023, 'hgb_weight': 0.26735362584272476}. Best is trial 226 with value: 72692.29116089665.\n",
      "[I 2024-09-16 13:16:23,560] Trial 417 finished with value: 72696.68457086933 and parameters: {'lgbm_weight': 0.6492679653785994, 'xgb_weight': 0.22957323854186285, 'xgbrf_weight': 0.10357775322745105, 'cb_weight': 0.6732771884146651, 'hgb_weight': 0.9588717502673759}. Best is trial 226 with value: 72692.29116089665.\n",
      "[I 2024-09-16 13:16:23,622] Trial 418 finished with value: 72693.83909999314 and parameters: {'lgbm_weight': 0.616810287481908, 'xgb_weight': 0.19861729141348258, 'xgbrf_weight': 0.03713389728275008, 'cb_weight': 0.7052821290672041, 'hgb_weight': 0.9345373948922917}. Best is trial 226 with value: 72692.29116089665.\n",
      "[I 2024-09-16 13:16:23,685] Trial 419 finished with value: 72693.3215915493 and parameters: {'lgbm_weight': 0.6775983016219295, 'xgb_weight': 0.17111700166152852, 'xgbrf_weight': 0.020698118870936085, 'cb_weight': 0.7521526316144184, 'hgb_weight': 0.9074826854001862}. Best is trial 226 with value: 72692.29116089665.\n",
      "[I 2024-09-16 13:16:23,746] Trial 420 finished with value: 72705.53179657714 and parameters: {'lgbm_weight': 0.7017408519304491, 'xgb_weight': 0.22447354227976074, 'xgbrf_weight': 0.2777776368224951, 'cb_weight': 0.6460490882661918, 'hgb_weight': 0.9616319893926137}. Best is trial 226 with value: 72692.29116089665.\n",
      "[I 2024-09-16 13:16:23,807] Trial 421 finished with value: 72694.43642196347 and parameters: {'lgbm_weight': 0.6688608527822751, 'xgb_weight': 0.19834944780478408, 'xgbrf_weight': 0.05289096439300666, 'cb_weight': 0.6907918627681353, 'hgb_weight': 0.942972543569703}. Best is trial 226 with value: 72692.29116089665.\n",
      "[I 2024-09-16 13:16:23,869] Trial 422 finished with value: 72693.07416518527 and parameters: {'lgbm_weight': 0.6312592353726731, 'xgb_weight': 0.24929836431629962, 'xgbrf_weight': 0.01777064818222581, 'cb_weight': 0.7214031613759605, 'hgb_weight': 0.9809422452405052}. Best is trial 226 with value: 72692.29116089665.\n",
      "[I 2024-09-16 13:16:23,930] Trial 423 finished with value: 72693.69264659152 and parameters: {'lgbm_weight': 0.6541197829358089, 'xgb_weight': 0.20740856052986018, 'xgbrf_weight': 0.03372414806332085, 'cb_weight': 0.6680804615683188, 'hgb_weight': 0.9572852137522584}. Best is trial 226 with value: 72692.29116089665.\n",
      "[I 2024-09-16 13:16:23,993] Trial 424 finished with value: 72693.62039332997 and parameters: {'lgbm_weight': 0.6840433618278302, 'xgb_weight': 0.15750138914258513, 'xgbrf_weight': 5.417999520904561e-05, 'cb_weight': 0.713630776668673, 'hgb_weight': 0.682623733006211}. Best is trial 226 with value: 72692.29116089665.\n",
      "[I 2024-09-16 13:16:24,053] Trial 425 finished with value: 72699.23353898533 and parameters: {'lgbm_weight': 0.7550391831010874, 'xgb_weight': 0.17892144192704612, 'xgbrf_weight': 0.16129744398256163, 'cb_weight': 0.7358143397686728, 'hgb_weight': 0.935312832030883}. Best is trial 226 with value: 72692.29116089665.\n",
      "[I 2024-09-16 13:16:24,115] Trial 426 finished with value: 72692.48466201399 and parameters: {'lgbm_weight': 0.7202385275570761, 'xgb_weight': 0.22372865504744818, 'xgbrf_weight': 0.0004921177196941257, 'cb_weight': 0.6865886306131577, 'hgb_weight': 0.8856722116061222}. Best is trial 226 with value: 72692.29116089665.\n",
      "[I 2024-09-16 13:16:24,175] Trial 427 finished with value: 72693.61739953325 and parameters: {'lgbm_weight': 0.7000455858046518, 'xgb_weight': 0.24018208372313646, 'xgbrf_weight': 0.03255786074312075, 'cb_weight': 0.7669476358067975, 'hgb_weight': 0.9196305178615314}. Best is trial 226 with value: 72692.29116089665.\n",
      "[I 2024-09-16 13:16:24,238] Trial 428 finished with value: 72716.8792681413 and parameters: {'lgbm_weight': 0.022681881605538412, 'xgb_weight': 0.19368969319183205, 'xgbrf_weight': 0.0635265819831088, 'cb_weight': 0.7033660272909543, 'hgb_weight': 0.8530879776189726}. Best is trial 226 with value: 72692.29116089665.\n",
      "[I 2024-09-16 13:16:24,300] Trial 429 finished with value: 72693.00616794008 and parameters: {'lgbm_weight': 0.6651435796144006, 'xgb_weight': 0.2132656309693086, 'xgbrf_weight': 0.016926580911549003, 'cb_weight': 0.674466890612201, 'hgb_weight': 0.9728307675192884}. Best is trial 226 with value: 72692.29116089665.\n",
      "[I 2024-09-16 13:16:24,362] Trial 430 finished with value: 72693.0608422959 and parameters: {'lgbm_weight': 0.6121211829489009, 'xgb_weight': 0.1349117058320942, 'xgbrf_weight': 0.0004849326786349772, 'cb_weight': 0.7408223128699942, 'hgb_weight': 0.9511533438369848}. Best is trial 226 with value: 72692.29116089665.\n",
      "[I 2024-09-16 13:16:24,423] Trial 431 finished with value: 72695.3202759323 and parameters: {'lgbm_weight': 0.6520839453268692, 'xgb_weight': 0.16974481653653806, 'xgbrf_weight': 0.03619712195893623, 'cb_weight': 0.5159447065819565, 'hgb_weight': 0.9859575482230868}. Best is trial 226 with value: 72692.29116089665.\n",
      "[I 2024-09-16 13:16:24,486] Trial 432 finished with value: 72693.27381462272 and parameters: {'lgbm_weight': 0.6803483141069608, 'xgb_weight': 0.25545605746525274, 'xgbrf_weight': 0.01847889017844385, 'cb_weight': 0.6523729034739613, 'hgb_weight': 0.9050184171533184}. Best is trial 226 with value: 72692.29116089665.\n",
      "[I 2024-09-16 13:16:24,548] Trial 433 finished with value: 72694.26071539614 and parameters: {'lgbm_weight': 0.7106888801930524, 'xgb_weight': 0.19846618008192746, 'xgbrf_weight': 0.04833231192103059, 'cb_weight': 0.7026939093673494, 'hgb_weight': 0.9672499193279985}. Best is trial 226 with value: 72692.29116089665.\n",
      "[I 2024-09-16 13:16:24,609] Trial 434 finished with value: 72693.05672511089 and parameters: {'lgbm_weight': 0.6375239771178892, 'xgb_weight': 0.2354965411344212, 'xgbrf_weight': 0.018455194214842357, 'cb_weight': 0.7227958703785414, 'hgb_weight': 0.934912324208304}. Best is trial 226 with value: 72692.29116089665.\n",
      "[I 2024-09-16 13:16:24,671] Trial 435 finished with value: 72692.40045320007 and parameters: {'lgbm_weight': 0.6891033552200888, 'xgb_weight': 0.1831455805979977, 'xgbrf_weight': 0.0006038522371033309, 'cb_weight': 0.6822144506691731, 'hgb_weight': 0.9531232126174516}. Best is trial 226 with value: 72692.29116089665.\n",
      "[I 2024-09-16 13:16:24,734] Trial 436 finished with value: 72729.31501441008 and parameters: {'lgbm_weight': 0.6693970049828463, 'xgb_weight': 0.0004322785220495229, 'xgbrf_weight': 0.5629919130714306, 'cb_weight': 0.45071941474962507, 'hgb_weight': 0.998795199759334}. Best is trial 226 with value: 72692.29116089665.\n",
      "[I 2024-09-16 13:16:24,799] Trial 437 finished with value: 72693.56163053015 and parameters: {'lgbm_weight': 0.7272442589196466, 'xgb_weight': 0.21918492737912634, 'xgbrf_weight': 0.030943313326641724, 'cb_weight': 0.7572464070596723, 'hgb_weight': 0.9241923423385087}. Best is trial 226 with value: 72692.29116089665.\n",
      "[I 2024-09-16 13:16:24,861] Trial 438 finished with value: 72696.27855743705 and parameters: {'lgbm_weight': 0.6301845322931849, 'xgb_weight': 0.15270443204382766, 'xgbrf_weight': 0.08526546194763591, 'cb_weight': 0.6254437376795803, 'hgb_weight': 0.9675608535753439}. Best is trial 226 with value: 72692.29116089665.\n",
      "[I 2024-09-16 13:16:24,928] Trial 439 finished with value: 72693.05210408097 and parameters: {'lgbm_weight': 0.6479426201817816, 'xgb_weight': 0.1957587357943168, 'xgbrf_weight': 0.01778668584787524, 'cb_weight': 0.6617388871480512, 'hgb_weight': 0.9420867062298846}. Best is trial 226 with value: 72692.29116089665.\n",
      "[I 2024-09-16 13:16:24,996] Trial 440 finished with value: 72692.32379502407 and parameters: {'lgbm_weight': 0.695771452386433, 'xgb_weight': 0.23036268660819986, 'xgbrf_weight': 0.00047544178264118873, 'cb_weight': 0.70447513014164, 'hgb_weight': 0.9856858705475451}. Best is trial 226 with value: 72692.29116089665.\n",
      "[I 2024-09-16 13:16:25,061] Trial 441 finished with value: 72694.70057852354 and parameters: {'lgbm_weight': 0.7081605572761903, 'xgb_weight': 0.23726349194464572, 'xgbrf_weight': 0.06244602747789105, 'cb_weight': 0.7311145288274019, 'hgb_weight': 0.9871681656469118}. Best is trial 226 with value: 72692.29116089665.\n",
      "[I 2024-09-16 13:16:25,124] Trial 442 finished with value: 72693.81429290882 and parameters: {'lgbm_weight': 0.6954401328986807, 'xgb_weight': 0.2623399461325311, 'xgbrf_weight': 0.037706959772284006, 'cb_weight': 0.7113936247034043, 'hgb_weight': 0.9998991760025042}. Best is trial 226 with value: 72692.29116089665.\n",
      "[I 2024-09-16 13:16:25,186] Trial 443 finished with value: 72693.2588408036 and parameters: {'lgbm_weight': 0.7433367394923848, 'xgb_weight': 0.25518968235602935, 'xgbrf_weight': 0.019883695465927186, 'cb_weight': 0.6976137335821225, 'hgb_weight': 0.9763493437355754}. Best is trial 226 with value: 72692.29116089665.\n",
      "[I 2024-09-16 13:16:25,252] Trial 444 finished with value: 72707.2317084632 and parameters: {'lgbm_weight': 0.6831572018327163, 'xgb_weight': 0.9905837671708904, 'xgbrf_weight': 0.00018215094656661302, 'cb_weight': 0.7429423280420623, 'hgb_weight': 0.9788661053431178}. Best is trial 226 with value: 72692.29116089665.\n",
      "[I 2024-09-16 13:16:25,315] Trial 445 finished with value: 72694.01904008785 and parameters: {'lgbm_weight': 0.7204378621597152, 'xgb_weight': 0.22229015572109115, 'xgbrf_weight': 0.042711171125561095, 'cb_weight': 0.7132754593806299, 'hgb_weight': 0.9538001473994819}. Best is trial 226 with value: 72692.29116089665.\n",
      "[I 2024-09-16 13:16:25,381] Trial 446 finished with value: 72729.78385094006 and parameters: {'lgbm_weight': 0.6714930637382484, 'xgb_weight': 0.48132674688180677, 'xgbrf_weight': 0.7066480966881328, 'cb_weight': 0.7261869605704158, 'hgb_weight': 0.8111202669724851}. Best is trial 226 with value: 72692.29116089665.\n",
      "[I 2024-09-16 13:16:25,446] Trial 447 finished with value: 72693.26405232979 and parameters: {'lgbm_weight': 0.7039956685649713, 'xgb_weight': 0.1764525944409883, 'xgbrf_weight': 0.02034395072332417, 'cb_weight': 0.689878106517402, 'hgb_weight': 0.8988880397135737}. Best is trial 226 with value: 72692.29116089665.\n",
      "[I 2024-09-16 13:16:25,516] Trial 448 finished with value: 72693.0533411884 and parameters: {'lgbm_weight': 0.6844580362731577, 'xgb_weight': 0.23595066098803458, 'xgbrf_weight': 0.018505121961288055, 'cb_weight': 0.7579013204392461, 'hgb_weight': 0.926986994793597}. Best is trial 226 with value: 72692.29116089665.\n",
      "[I 2024-09-16 13:16:25,579] Trial 449 finished with value: 72709.36923674124 and parameters: {'lgbm_weight': 0.7291538092182833, 'xgb_weight': 0.20949430297509522, 'xgbrf_weight': 0.051213528339947904, 'cb_weight': 0.19782178660277394, 'hgb_weight': 0.9653533090112254}. Best is trial 226 with value: 72692.29116089665.\n",
      "[I 2024-09-16 13:16:25,642] Trial 450 finished with value: 72692.40099073321 and parameters: {'lgbm_weight': 0.6664928064852396, 'xgb_weight': 0.18226643277709767, 'xgbrf_weight': 0.0009989570971922785, 'cb_weight': 0.7048895772500916, 'hgb_weight': 0.9446741563356171}. Best is trial 226 with value: 72692.29116089665.\n",
      "[I 2024-09-16 13:16:25,705] Trial 451 finished with value: 72693.8824474858 and parameters: {'lgbm_weight': 0.7018905038413601, 'xgb_weight': 0.2128262700497041, 'xgbrf_weight': 0.03701669503766956, 'cb_weight': 0.6742154352857392, 'hgb_weight': 0.9836183761553821}. Best is trial 226 with value: 72692.29116089665.\n",
      "[I 2024-09-16 13:16:25,771] Trial 452 finished with value: 72693.22020291582 and parameters: {'lgbm_weight': 0.6539514312888092, 'xgb_weight': 0.2670821398887474, 'xgbrf_weight': 0.018424457580979835, 'cb_weight': 0.7743486906559216, 'hgb_weight': 0.9161879428213254}. Best is trial 226 with value: 72692.29116089665.\n",
      "[I 2024-09-16 13:16:25,833] Trial 453 finished with value: 72717.89159323474 and parameters: {'lgbm_weight': 0.6896174264513443, 'xgb_weight': 0.15377607432352527, 'xgbrf_weight': 0.00023989360155909326, 'cb_weight': 0.7299275300617376, 'hgb_weight': 0.061139427672052604}. Best is trial 226 with value: 72692.29116089665.\n",
      "[I 2024-09-16 13:16:25,897] Trial 454 finished with value: 72695.13535983182 and parameters: {'lgbm_weight': 0.7465499957173711, 'xgb_weight': 0.2385290488361418, 'xgbrf_weight': 0.06553326327873805, 'cb_weight': 0.6981349543483152, 'hgb_weight': 0.9649920348790991}. Best is trial 226 with value: 72692.29116089665.\n",
      "[I 2024-09-16 13:16:25,964] Trial 455 finished with value: 72694.15733815868 and parameters: {'lgbm_weight': 0.6723340491172469, 'xgb_weight': 0.11808034493062085, 'xgbrf_weight': 0.03382717948278852, 'cb_weight': 0.7397500186213858, 'hgb_weight': 0.9999871094248932}. Best is trial 226 with value: 72692.29116089665.\n",
      "[I 2024-09-16 13:16:26,031] Trial 456 finished with value: 72696.7328758647 and parameters: {'lgbm_weight': 0.36985749702065274, 'xgb_weight': 0.19720124613351303, 'xgbrf_weight': 0.018199037319125866, 'cb_weight': 0.7162180554346699, 'hgb_weight': 0.9345089844561874}. Best is trial 226 with value: 72692.29116089665.\n",
      "[I 2024-09-16 13:16:26,098] Trial 457 finished with value: 72693.1938199001 and parameters: {'lgbm_weight': 0.7106713589230581, 'xgb_weight': 0.2248659477402013, 'xgbrf_weight': 0.01790973246800772, 'cb_weight': 0.6606217765785897, 'hgb_weight': 0.9521510949522453}. Best is trial 226 with value: 72692.29116089665.\n",
      "[I 2024-09-16 13:16:26,161] Trial 458 finished with value: 72692.43438875226 and parameters: {'lgbm_weight': 0.6548096549905061, 'xgb_weight': 0.17488607526786823, 'xgbrf_weight': 9.066821574266147e-05, 'cb_weight': 0.6964667145668402, 'hgb_weight': 0.9718259086520347}. Best is trial 226 with value: 72692.29116089665.\n",
      "[I 2024-09-16 13:16:26,225] Trial 459 finished with value: 72693.95027445327 and parameters: {'lgbm_weight': 0.6899569073634841, 'xgb_weight': 0.19827686263639283, 'xgbrf_weight': 0.03861181852885703, 'cb_weight': 0.6787999798773009, 'hgb_weight': 0.9070862770072001}. Best is trial 226 with value: 72692.29116089665.\n",
      "[I 2024-09-16 13:16:26,288] Trial 460 finished with value: 72693.24537534351 and parameters: {'lgbm_weight': 0.6767445722773806, 'xgb_weight': 0.25560023603837373, 'xgbrf_weight': 0.01739354883698235, 'cb_weight': 0.6438947199782034, 'hgb_weight': 0.9462505484624404}. Best is trial 226 with value: 72692.29116089665.\n",
      "[I 2024-09-16 13:16:26,352] Trial 461 finished with value: 72698.14919563042 and parameters: {'lgbm_weight': 0.7269929691077656, 'xgb_weight': 0.2172123293075202, 'xgbrf_weight': 0.05377337108971494, 'cb_weight': 0.7212342076611806, 'hgb_weight': 0.5500465938890009}. Best is trial 226 with value: 72692.29116089665.\n",
      "[I 2024-09-16 13:16:26,417] Trial 462 finished with value: 72693.28895328991 and parameters: {'lgbm_weight': 0.6433208178070029, 'xgb_weight': 0.1599333597810611, 'xgbrf_weight': 0.00037286838023002964, 'cb_weight': 0.7527406229381752, 'hgb_weight': 0.756623438665512}. Best is trial 226 with value: 72692.29116089665.\n",
      "[I 2024-09-16 13:16:26,480] Trial 463 finished with value: 72693.65672017769 and parameters: {'lgbm_weight': 0.7003672465286305, 'xgb_weight': 0.190028072599046, 'xgbrf_weight': 0.03368439942715236, 'cb_weight': 0.7845538903335816, 'hgb_weight': 0.9820617366148299}. Best is trial 226 with value: 72692.29116089665.\n",
      "[I 2024-09-16 13:16:26,544] Trial 464 finished with value: 72693.09191038356 and parameters: {'lgbm_weight': 0.6718081842889994, 'xgb_weight': 0.2353313451212309, 'xgbrf_weight': 0.018804869707427552, 'cb_weight': 0.7062574970094014, 'hgb_weight': 0.8875468815244189}. Best is trial 226 with value: 72692.29116089665.\n",
      "[I 2024-09-16 13:16:26,612] Trial 465 finished with value: 72695.81809150954 and parameters: {'lgbm_weight': 0.7656242869118407, 'xgb_weight': 0.21281535177670463, 'xgbrf_weight': 0.07450125301610591, 'cb_weight': 0.6798464059191337, 'hgb_weight': 0.9328787487745098}. Best is trial 226 with value: 72692.29116089665.\n",
      "[I 2024-09-16 13:16:26,680] Trial 466 finished with value: 72692.50521951055 and parameters: {'lgbm_weight': 0.6472717633513844, 'xgb_weight': 0.28339028323975063, 'xgbrf_weight': 0.0007040654196125602, 'cb_weight': 0.7414995778381728, 'hgb_weight': 0.9624555314676286}. Best is trial 226 with value: 72692.29116089665.\n",
      "[I 2024-09-16 13:16:26,745] Trial 467 finished with value: 72694.30619494617 and parameters: {'lgbm_weight': 0.7134278104198025, 'xgb_weight': 0.17188586535094297, 'xgbrf_weight': 0.04658005834744122, 'cb_weight': 0.7200676017830768, 'hgb_weight': 0.9168137164804753}. Best is trial 226 with value: 72692.29116089665.\n",
      "[I 2024-09-16 13:16:26,813] Trial 468 finished with value: 72698.17411288142 and parameters: {'lgbm_weight': 0.6635495563394175, 'xgb_weight': 0.1384437014477909, 'xgbrf_weight': 0.13143408923928868, 'cb_weight': 0.664557205024638, 'hgb_weight': 0.984659052470997}. Best is trial 226 with value: 72692.29116089665.\n",
      "[I 2024-09-16 13:16:26,879] Trial 469 finished with value: 72693.57133858424 and parameters: {'lgbm_weight': 0.6879837915159703, 'xgb_weight': 0.24998986179368302, 'xgbrf_weight': 0.03098927457522465, 'cb_weight': 0.6948048546115991, 'hgb_weight': 0.9998290939447547}. Best is trial 226 with value: 72692.29116089665.\n",
      "[I 2024-09-16 13:16:26,944] Trial 470 finished with value: 72705.20914636707 and parameters: {'lgbm_weight': 0.6292107598813581, 'xgb_weight': 0.20012832062482327, 'xgbrf_weight': 0.01825693910624305, 'cb_weight': 0.5888605903902896, 'hgb_weight': 0.227506131836946}. Best is trial 226 with value: 72692.29116089665.\n",
      "[I 2024-09-16 13:16:27,011] Trial 471 finished with value: 72692.32613017314 and parameters: {'lgbm_weight': 0.6626717993507453, 'xgb_weight': 0.22475067401181514, 'xgbrf_weight': 0.00018080621031039433, 'cb_weight': 0.7329437444784104, 'hgb_weight': 0.9573059925982709}. Best is trial 226 with value: 72692.29116089665.\n",
      "[I 2024-09-16 13:16:27,078] Trial 472 finished with value: 72692.9045232836 and parameters: {'lgbm_weight': 0.6347271065188098, 'xgb_weight': 0.19084598449182966, 'xgbrf_weight': 0.0005963944684310154, 'cb_weight': 0.8021790349250837, 'hgb_weight': 0.9437858363558829}. Best is trial 226 with value: 72692.29116089665.\n",
      "[I 2024-09-16 13:16:27,144] Trial 473 finished with value: 72693.77666558922 and parameters: {'lgbm_weight': 0.6562122282839841, 'xgb_weight': 0.2214998720853128, 'xgbrf_weight': 0.032405981127358575, 'cb_weight': 0.757639205299663, 'hgb_weight': 0.8663274986129226}. Best is trial 226 with value: 72692.29116089665.\n",
      "[I 2024-09-16 13:16:27,210] Trial 474 finished with value: 72694.54512677497 and parameters: {'lgbm_weight': 0.5968247977576696, 'xgb_weight': 0.17491298941020825, 'xgbrf_weight': 0.04843900462488165, 'cb_weight': 0.7407007869796279, 'hgb_weight': 0.9254445962038598}. Best is trial 226 with value: 72692.29116089665.\n",
      "[I 2024-09-16 13:16:27,274] Trial 475 finished with value: 72693.31989012056 and parameters: {'lgbm_weight': 0.6140479202628563, 'xgb_weight': 0.20719733209714744, 'xgbrf_weight': 0.018669315221165578, 'cb_weight': 0.7634337689213877, 'hgb_weight': 0.9564834310223999}. Best is trial 226 with value: 72692.29116089665.\n",
      "[I 2024-09-16 13:16:27,338] Trial 476 finished with value: 72720.51552652319 and parameters: {'lgbm_weight': 0.6671706253521221, 'xgb_weight': 0.2300658902857202, 'xgbrf_weight': 0.02019685411234254, 'cb_weight': 0.03756762551025117, 'hgb_weight': 0.9003932619922289}. Best is trial 226 with value: 72692.29116089665.\n",
      "[I 2024-09-16 13:16:27,406] Trial 477 finished with value: 72701.65937957345 and parameters: {'lgbm_weight': 0.6530795075116804, 'xgb_weight': 0.1951556630710804, 'xgbrf_weight': 0.2196956408685153, 'cb_weight': 0.7282336503505142, 'hgb_weight': 0.939505801163249}. Best is trial 226 with value: 72692.29116089665.\n",
      "[I 2024-09-16 13:16:27,472] Trial 478 finished with value: 72692.49657662725 and parameters: {'lgbm_weight': 0.6821269142648467, 'xgb_weight': 0.15995861495685768, 'xgbrf_weight': 8.203464312821134e-05, 'cb_weight': 0.7147033363660801, 'hgb_weight': 0.9679185472525884}. Best is trial 226 with value: 72692.29116089665.\n",
      "[I 2024-09-16 13:16:27,538] Trial 479 finished with value: 72694.45141867276 and parameters: {'lgbm_weight': 0.6340626308598808, 'xgb_weight': 0.2153849674935441, 'xgbrf_weight': 0.05436456043056499, 'cb_weight': 0.7321454059389352, 'hgb_weight': 0.9825178346914283}. Best is trial 226 with value: 72692.29116089665.\n",
      "[I 2024-09-16 13:16:27,605] Trial 480 finished with value: 72706.22827687595 and parameters: {'lgbm_weight': 0.6734908864517093, 'xgb_weight': 0.7201911678622818, 'xgbrf_weight': 0.032582183043838794, 'cb_weight': 0.48464997125411785, 'hgb_weight': 0.9511725767070927}. Best is trial 226 with value: 72692.29116089665.\n",
      "[I 2024-09-16 13:16:27,669] Trial 481 finished with value: 72693.737015123 and parameters: {'lgbm_weight': 0.6574039137081013, 'xgb_weight': 0.1833522303600795, 'xgbrf_weight': 0.018959487336340033, 'cb_weight': 0.5605746059112409, 'hgb_weight': 0.9196042225498932}. Best is trial 226 with value: 72692.29116089665.\n",
      "[I 2024-09-16 13:16:27,737] Trial 482 finished with value: 72695.14903184993 and parameters: {'lgbm_weight': 0.6955775084553507, 'xgb_weight': 0.22990950751414002, 'xgbrf_weight': 0.07090891006578952, 'cb_weight': 0.705155628533072, 'hgb_weight': 0.9655244332230077}. Best is trial 226 with value: 72692.29116089665.\n",
      "[I 2024-09-16 13:16:27,805] Trial 483 finished with value: 72694.25238511479 and parameters: {'lgbm_weight': 0.5671786763201454, 'xgb_weight': 0.14174579031359097, 'xgbrf_weight': 0.017941964942521826, 'cb_weight': 0.7781828260384082, 'hgb_weight': 0.9340993091969921}. Best is trial 226 with value: 72692.29116089665.\n",
      "[I 2024-09-16 13:16:27,870] Trial 484 finished with value: 72693.87750790911 and parameters: {'lgbm_weight': 0.6124433928876909, 'xgb_weight': 0.2064134074991568, 'xgbrf_weight': 0.03525468860928611, 'cb_weight': 0.7504986727806762, 'hgb_weight': 0.9835102168047312}. Best is trial 226 with value: 72692.29116089665.\n",
      "[I 2024-09-16 13:16:27,936] Trial 485 finished with value: 72697.96286732625 and parameters: {'lgbm_weight': 0.7151137905903474, 'xgb_weight': 0.1693069958506045, 'xgbrf_weight': 0.00024209321230740655, 'cb_weight': 0.393091737228341, 'hgb_weight': 0.632954416730813}. Best is trial 226 with value: 72692.29116089665.\n",
      "[I 2024-09-16 13:16:28,002] Trial 486 finished with value: 72692.33010212681 and parameters: {'lgbm_weight': 0.6801857777179305, 'xgb_weight': 0.2460329957397665, 'xgbrf_weight': 0.0007606739982093472, 'cb_weight': 0.720790978560564, 'hgb_weight': 0.9510041440632655}. Best is trial 226 with value: 72692.29116089665.\n",
      "[I 2024-09-16 13:16:28,069] Trial 487 finished with value: 72694.63829904945 and parameters: {'lgbm_weight': 0.6406091550503976, 'xgb_weight': 0.2622364828650572, 'xgbrf_weight': 0.05451539687109985, 'cb_weight': 0.6948672660730892, 'hgb_weight': 0.9025849415181838}. Best is trial 226 with value: 72692.29116089665.\n",
      "[I 2024-09-16 13:16:28,135] Trial 488 finished with value: 72731.60906174112 and parameters: {'lgbm_weight': 0.7341654818225282, 'xgb_weight': 0.28246922543401765, 'xgbrf_weight': 0.8089578173330164, 'cb_weight': 0.7361592221444019, 'hgb_weight': 0.9252748416974956}. Best is trial 226 with value: 72692.29116089665.\n",
      "[I 2024-09-16 13:16:28,205] Trial 489 finished with value: 72693.75400258678 and parameters: {'lgbm_weight': 0.6885316449781003, 'xgb_weight': 0.25152781162729154, 'xgbrf_weight': 0.03250202621335115, 'cb_weight': 0.7053413564394283, 'hgb_weight': 0.8789389890507122}. Best is trial 226 with value: 72692.29116089665.\n",
      "[I 2024-09-16 13:16:28,270] Trial 490 finished with value: 72692.33774662796 and parameters: {'lgbm_weight': 0.6538731462522219, 'xgb_weight': 0.24474023636842748, 'xgbrf_weight': 0.0002998245139965962, 'cb_weight': 0.6854984180724197, 'hgb_weight': 0.9466668561408301}. Best is trial 226 with value: 72692.29116089665.\n",
      "[I 2024-09-16 13:16:28,335] Trial 491 finished with value: 72693.22067852801 and parameters: {'lgbm_weight': 0.6274150165213553, 'xgb_weight': 0.27271377437933, 'xgbrf_weight': 0.018186407822355276, 'cb_weight': 0.6669952717362615, 'hgb_weight': 0.9129107464664984}. Best is trial 226 with value: 72692.29116089665.\n",
      "[I 2024-09-16 13:16:28,403] Trial 492 finished with value: 72695.97179245789 and parameters: {'lgbm_weight': 0.6530713365670553, 'xgb_weight': 0.2475871016734169, 'xgbrf_weight': 0.0908726821156802, 'cb_weight': 0.7235890314235975, 'hgb_weight': 0.940227322971402}. Best is trial 226 with value: 72692.29116089665.\n",
      "[I 2024-09-16 13:16:28,468] Trial 493 finished with value: 72693.31211643724 and parameters: {'lgbm_weight': 0.6600683443458857, 'xgb_weight': 0.2656224172709167, 'xgbrf_weight': 0.017577068110687807, 'cb_weight': 0.6386688562615205, 'hgb_weight': 0.8912773054965395}. Best is trial 226 with value: 72692.29116089665.\n",
      "[I 2024-09-16 13:16:28,533] Trial 494 finished with value: 72708.78975712575 and parameters: {'lgbm_weight': 0.5923333690345534, 'xgb_weight': 0.2385668664100306, 'xgbrf_weight': 0.37352727449044476, 'cb_weight': 0.760159713777666, 'hgb_weight': 0.9426059163299075}. Best is trial 226 with value: 72692.29116089665.\n",
      "[I 2024-09-16 13:16:28,601] Trial 495 finished with value: 72698.71056491458 and parameters: {'lgbm_weight': 0.620285833203862, 'xgb_weight': 0.23618681863820834, 'xgbrf_weight': 0.044314321983620654, 'cb_weight': 0.6823715222578199, 'hgb_weight': 0.45821531302039553}. Best is trial 226 with value: 72692.29116089665.\n",
      "[I 2024-09-16 13:16:28,665] Trial 496 finished with value: 72693.08095959497 and parameters: {'lgbm_weight': 0.70082521625705, 'xgb_weight': 0.2625748675684876, 'xgbrf_weight': 0.017230633196850663, 'cb_weight': 0.7089666865089986, 'hgb_weight': 0.9234150946487933}. Best is trial 226 with value: 72692.29116089665.\n",
      "[I 2024-09-16 13:16:28,729] Trial 497 finished with value: 72694.92652558319 and parameters: {'lgbm_weight': 0.6787246992842465, 'xgb_weight': 0.2836280161389044, 'xgbrf_weight': 0.032244421579263646, 'cb_weight': 0.7255946103145632, 'hgb_weight': 0.7078858829906964}. Best is trial 226 with value: 72692.29116089665.\n",
      "[I 2024-09-16 13:16:28,794] Trial 498 finished with value: 72697.72284334539 and parameters: {'lgbm_weight': 0.6407838044654945, 'xgb_weight': 0.5645760509779043, 'xgbrf_weight': 0.016919064525938932, 'cb_weight': 0.7450750035294517, 'hgb_weight': 0.8312870275535296}. Best is trial 226 with value: 72692.29116089665.\n",
      "[I 2024-09-16 13:16:28,859] Trial 499 finished with value: 72692.32213947148 and parameters: {'lgbm_weight': 0.6580934621584704, 'xgb_weight': 0.2290989407894264, 'xgbrf_weight': 0.0006576505183943147, 'cb_weight': 0.6901694738150685, 'hgb_weight': 0.9503396389105147}. Best is trial 226 with value: 72692.29116089665.\n"
     ]
    }
   ],
   "source": [
    "sampler = optuna.samplers.TPESampler(seed=CFG.seed)\n",
    "study = optuna.create_study(direction='minimize', sampler=sampler)\n",
    "study.optimize(objective, n_trials=500)"
   ]
  },
  {
   "cell_type": "code",
   "execution_count": 20,
   "id": "88d9122d",
   "metadata": {
    "execution": {
     "iopub.execute_input": "2024-09-16T13:16:29.065385Z",
     "iopub.status.busy": "2024-09-16T13:16:29.064300Z",
     "iopub.status.idle": "2024-09-16T13:16:29.071310Z",
     "shell.execute_reply": "2024-09-16T13:16:29.070119Z"
    },
    "papermill": {
     "duration": 0.137894,
     "end_time": "2024-09-16T13:16:29.073844",
     "exception": false,
     "start_time": "2024-09-16T13:16:28.935950",
     "status": "completed"
    },
    "tags": []
   },
   "outputs": [],
   "source": [
    "scores['Weighted Averaging'] = [study.best_value] * CFG.n_folds"
   ]
  },
  {
   "cell_type": "code",
   "execution_count": 21,
   "id": "356e9414",
   "metadata": {
    "execution": {
     "iopub.execute_input": "2024-09-16T13:16:29.211846Z",
     "iopub.status.busy": "2024-09-16T13:16:29.211370Z",
     "iopub.status.idle": "2024-09-16T13:16:29.217789Z",
     "shell.execute_reply": "2024-09-16T13:16:29.216642Z"
    },
    "papermill": {
     "duration": 0.079426,
     "end_time": "2024-09-16T13:16:29.220191",
     "exception": false,
     "start_time": "2024-09-16T13:16:29.140765",
     "status": "completed"
    },
    "tags": []
   },
   "outputs": [],
   "source": [
    "best_weights = study.best_params\n",
    "best_weights = [best_weights[f'{model}_weight'] for model in ['lgbm', 'xgb', 'xgbrf', 'cb', 'hgb']]\n",
    "best_weights /= np.sum(best_weights)"
   ]
  },
  {
   "cell_type": "code",
   "execution_count": 22,
   "id": "e16a8747",
   "metadata": {
    "execution": {
     "iopub.execute_input": "2024-09-16T13:16:29.362133Z",
     "iopub.status.busy": "2024-09-16T13:16:29.361336Z",
     "iopub.status.idle": "2024-09-16T13:16:29.921965Z",
     "shell.execute_reply": "2024-09-16T13:16:29.920729Z"
    },
    "papermill": {
     "duration": 0.639742,
     "end_time": "2024-09-16T13:16:29.925234",
     "exception": false,
     "start_time": "2024-09-16T13:16:29.285492",
     "status": "completed"
    },
    "tags": []
   },
   "outputs": [
    {
     "data": {
      "image/png": "[encoded data removed]",
      "text/plain": [
       "<Figure size 1000x400 with 1 Axes>"
      ]
     },
     "metadata": {},
     "output_type": "display_data"
    }
   ],
   "source": [
    "plot_weights('Optuna Weights', best_weights)"
   ]
  },
  {
   "cell_type": "markdown",
   "id": "58990dc9",
   "metadata": {
    "papermill": {
     "duration": 0.070631,
     "end_time": "2024-09-16T13:16:30.073928",
     "exception": false,
     "start_time": "2024-09-16T13:16:30.003297",
     "status": "completed"
    },
    "tags": []
   },
   "source": [
    "To make predictions with this 'model', we can simply use the weights that we found and take the weighted average of the test predictions of each base model."
   ]
  },
  {
   "cell_type": "code",
   "execution_count": 23,
   "id": "39f979c6",
   "metadata": {
    "execution": {
     "iopub.execute_input": "2024-09-16T13:16:30.215254Z",
     "iopub.status.busy": "2024-09-16T13:16:30.214801Z",
     "iopub.status.idle": "2024-09-16T13:16:30.222562Z",
     "shell.execute_reply": "2024-09-16T13:16:30.221487Z"
    },
    "papermill": {
     "duration": 0.080913,
     "end_time": "2024-09-16T13:16:30.225138",
     "exception": false,
     "start_time": "2024-09-16T13:16:30.144225",
     "status": "completed"
    },
    "tags": []
   },
   "outputs": [],
   "source": [
    "weighted_test_preds = np.zeros((test.shape[0]))\n",
    "for model, weight in zip(test_preds.keys(), best_weights):\n",
    "    weighted_test_preds += test_preds[model] * weight"
   ]
  },
  {
   "cell_type": "code",
   "execution_count": 24,
   "id": "135bf728",
   "metadata": {
    "execution": {
     "iopub.execute_input": "2024-09-16T13:16:30.365977Z",
     "iopub.status.busy": "2024-09-16T13:16:30.364594Z",
     "iopub.status.idle": "2024-09-16T13:16:30.852248Z",
     "shell.execute_reply": "2024-09-16T13:16:30.851095Z"
    },
    "papermill": {
     "duration": 0.559721,
     "end_time": "2024-09-16T13:16:30.854940",
     "exception": false,
     "start_time": "2024-09-16T13:16:30.295219",
     "status": "completed"
    },
    "tags": []
   },
   "outputs": [
    {
     "data": {
      "text/html": [
       "<div>\n",
       "<style scoped>\n",
       "    .dataframe tbody tr th:only-of-type {\n",
       "        vertical-align: middle;\n",
       "    }\n",
       "\n",
       "    .dataframe tbody tr th {\n",
       "        vertical-align: top;\n",
       "    }\n",
       "\n",
       "    .dataframe thead th {\n",
       "        text-align: right;\n",
       "    }\n",
       "</style>\n",
       "<table border=\"1\" class=\"dataframe\">\n",
       "  <thead>\n",
       "    <tr style=\"text-align: right;\">\n",
       "      <th></th>\n",
       "      <th>id</th>\n",
       "      <th>price</th>\n",
       "    </tr>\n",
       "  </thead>\n",
       "  <tbody>\n",
       "    <tr>\n",
       "      <th>0</th>\n",
       "      <td>188533</td>\n",
       "      <td>18693.046225</td>\n",
       "    </tr>\n",
       "    <tr>\n",
       "      <th>1</th>\n",
       "      <td>188534</td>\n",
       "      <td>79319.622540</td>\n",
       "    </tr>\n",
       "    <tr>\n",
       "      <th>2</th>\n",
       "      <td>188535</td>\n",
       "      <td>56234.762282</td>\n",
       "    </tr>\n",
       "    <tr>\n",
       "      <th>3</th>\n",
       "      <td>188536</td>\n",
       "      <td>24788.028081</td>\n",
       "    </tr>\n",
       "    <tr>\n",
       "      <th>4</th>\n",
       "      <td>188537</td>\n",
       "      <td>31109.522422</td>\n",
       "    </tr>\n",
       "  </tbody>\n",
       "</table>\n",
       "</div>"
      ],
      "text/plain": [
       "       id         price\n",
       "0  188533  18693.046225\n",
       "1  188534  79319.622540\n",
       "2  188535  56234.762282\n",
       "3  188536  24788.028081\n",
       "4  188537  31109.522422"
      ]
     },
     "execution_count": 24,
     "metadata": {},
     "output_type": "execute_result"
    }
   ],
   "source": [
    "save_submission(weighted_test_preds, 'weighted-averaging', study.best_value).head()"
   ]
  },
  {
   "cell_type": "markdown",
   "id": "0fbd8159",
   "metadata": {
    "papermill": {
     "duration": 0.067377,
     "end_time": "2024-09-16T13:16:30.994082",
     "exception": false,
     "start_time": "2024-09-16T13:16:30.926705",
     "status": "completed"
    },
    "tags": []
   },
   "source": [
    "## Ridge\n",
    "\n",
    "Instead of tuning ensemble weights, we can use a meta-model that uses the predictions of the base models as features and learns the best way to combine them. The regularized linear model, Ridge, is a popular choice for this purpose. It learns a linear combination of the features and assigns weights to each model that minimizes its error. The L2 regularization term in Ridge penalizes large weights (coefficients), ensuring that no single model dominates the ensemble.\n",
    "\n",
    "Since we are using the predictions as features, it is likely that these features are highly correlated with each other. Ridge is especially effective at handling this multicollinearity.\n",
    "\n",
    "Before feeding the predictions to the model, I will create a dataframe out of the prediction and scale the values using `MinMaxScaler`. This gives a small boost to the CV score."
   ]
  },
  {
   "cell_type": "code",
   "execution_count": 25,
   "id": "04a311aa",
   "metadata": {
    "execution": {
     "iopub.execute_input": "2024-09-16T13:16:31.131373Z",
     "iopub.status.busy": "2024-09-16T13:16:31.130943Z",
     "iopub.status.idle": "2024-09-16T13:16:31.149662Z",
     "shell.execute_reply": "2024-09-16T13:16:31.148498Z"
    },
    "papermill": {
     "duration": 0.091083,
     "end_time": "2024-09-16T13:16:31.152649",
     "exception": false,
     "start_time": "2024-09-16T13:16:31.061566",
     "status": "completed"
    },
    "tags": []
   },
   "outputs": [],
   "source": [
    "_X = pd.DataFrame(oof_preds)\n",
    "_X_test = pd.DataFrame(test_preds)\n",
    "\n",
    "scaler = MinMaxScaler().set_output(transform='pandas')\n",
    "_X = scaler.fit_transform(_X)\n",
    "_X_test = scaler.transform(_X_test)"
   ]
  },
  {
   "cell_type": "code",
   "execution_count": 26,
   "id": "ce1b0543",
   "metadata": {
    "execution": {
     "iopub.execute_input": "2024-09-16T13:16:31.292536Z",
     "iopub.status.busy": "2024-09-16T13:16:31.291466Z",
     "iopub.status.idle": "2024-09-16T13:16:32.755919Z",
     "shell.execute_reply": "2024-09-16T13:16:32.754084Z"
    },
    "papermill": {
     "duration": 1.537259,
     "end_time": "2024-09-16T13:16:32.758821",
     "exception": false,
     "start_time": "2024-09-16T13:16:31.221562",
     "status": "completed"
    },
    "tags": []
   },
   "outputs": [
    {
     "name": "stdout",
     "output_type": "stream",
     "text": [
      "Training Ridge\n",
      "\n",
      "--- Fold 1 - RMSE: 71876\n",
      "--- Fold 2 - RMSE: 73200\n",
      "--- Fold 3 - RMSE: 72662\n",
      "--- Fold 4 - RMSE: 72149\n",
      "--- Fold 5 - RMSE: 73453\n",
      "\n",
      "Overall RMSE: 72670 ± 599\n"
     ]
    }
   ],
   "source": [
    "ridge_model = Ridge()\n",
    "ridge_trainer = Trainer(ridge_model, CFG, True)\n",
    "_, ridge_test_preds, scores['Ridge'], ridge_coeffs = ridge_trainer.fit_predict(_X, y, _X_test)"
   ]
  },
  {
   "cell_type": "code",
   "execution_count": 27,
   "id": "f1c1f6c7",
   "metadata": {
    "execution": {
     "iopub.execute_input": "2024-09-16T13:16:32.901043Z",
     "iopub.status.busy": "2024-09-16T13:16:32.900581Z",
     "iopub.status.idle": "2024-09-16T13:16:33.325398Z",
     "shell.execute_reply": "2024-09-16T13:16:33.324184Z"
    },
    "papermill": {
     "duration": 0.498871,
     "end_time": "2024-09-16T13:16:33.327971",
     "exception": false,
     "start_time": "2024-09-16T13:16:32.829100",
     "status": "completed"
    },
    "tags": []
   },
   "outputs": [
    {
     "data": {
      "image/png": "[encoded data removed]",
      "text/plain": [
       "<Figure size 1000x400 with 1 Axes>"
      ]
     },
     "metadata": {},
     "output_type": "display_data"
    }
   ],
   "source": [
    "plot_weights('Ridge coefficients', ridge_coeffs)"
   ]
  },
  {
   "cell_type": "code",
   "execution_count": 28,
   "id": "9a9d8b6a",
   "metadata": {
    "execution": {
     "iopub.execute_input": "2024-09-16T13:16:33.470491Z",
     "iopub.status.busy": "2024-09-16T13:16:33.470021Z",
     "iopub.status.idle": "2024-09-16T13:16:33.820454Z",
     "shell.execute_reply": "2024-09-16T13:16:33.819319Z"
    },
    "papermill": {
     "duration": 0.422703,
     "end_time": "2024-09-16T13:16:33.823097",
     "exception": false,
     "start_time": "2024-09-16T13:16:33.400394",
     "status": "completed"
    },
    "tags": []
   },
   "outputs": [
    {
     "data": {
      "text/html": [
       "<div>\n",
       "<style scoped>\n",
       "    .dataframe tbody tr th:only-of-type {\n",
       "        vertical-align: middle;\n",
       "    }\n",
       "\n",
       "    .dataframe tbody tr th {\n",
       "        vertical-align: top;\n",
       "    }\n",
       "\n",
       "    .dataframe thead th {\n",
       "        text-align: right;\n",
       "    }\n",
       "</style>\n",
       "<table border=\"1\" class=\"dataframe\">\n",
       "  <thead>\n",
       "    <tr style=\"text-align: right;\">\n",
       "      <th></th>\n",
       "      <th>id</th>\n",
       "      <th>price</th>\n",
       "    </tr>\n",
       "  </thead>\n",
       "  <tbody>\n",
       "    <tr>\n",
       "      <th>0</th>\n",
       "      <td>188533</td>\n",
       "      <td>17375.089844</td>\n",
       "    </tr>\n",
       "    <tr>\n",
       "      <th>1</th>\n",
       "      <td>188534</td>\n",
       "      <td>80519.906250</td>\n",
       "    </tr>\n",
       "    <tr>\n",
       "      <th>2</th>\n",
       "      <td>188535</td>\n",
       "      <td>57168.882812</td>\n",
       "    </tr>\n",
       "    <tr>\n",
       "      <th>3</th>\n",
       "      <td>188536</td>\n",
       "      <td>25458.623047</td>\n",
       "    </tr>\n",
       "    <tr>\n",
       "      <th>4</th>\n",
       "      <td>188537</td>\n",
       "      <td>30151.386719</td>\n",
       "    </tr>\n",
       "  </tbody>\n",
       "</table>\n",
       "</div>"
      ],
      "text/plain": [
       "       id         price\n",
       "0  188533  17375.089844\n",
       "1  188534  80519.906250\n",
       "2  188535  57168.882812\n",
       "3  188536  25458.623047\n",
       "4  188537  30151.386719"
      ]
     },
     "execution_count": 28,
     "metadata": {},
     "output_type": "execute_result"
    }
   ],
   "source": [
    "save_submission(ridge_test_preds, 'ridge', np.mean(scores['Ridge'])).head()"
   ]
  },
  {
   "cell_type": "markdown",
   "id": "5a66a0f8",
   "metadata": {
    "papermill": {
     "duration": 0.069345,
     "end_time": "2024-09-16T13:16:33.960465",
     "exception": false,
     "start_time": "2024-09-16T13:16:33.891120",
     "status": "completed"
    },
    "tags": []
   },
   "source": [
    "## Lasso\n",
    "\n",
    "Lasso is another good option when choosing a meta-model for ensembling. Similar to Ridge, Lasso is a regularized linear model. However, unlike Ridge, which includes an L2 regularization term, Lasso has an inbuilt L1 regularization. One interesting property of Lasso is that it can set a models weight to zero, meaning it essentially performs feature selection and discards the least useful features."
   ]
  },
  {
   "cell_type": "code",
   "execution_count": 29,
   "id": "a83c7c0e",
   "metadata": {
    "execution": {
     "iopub.execute_input": "2024-09-16T13:16:34.105311Z",
     "iopub.status.busy": "2024-09-16T13:16:34.104874Z",
     "iopub.status.idle": "2024-09-16T13:16:36.075708Z",
     "shell.execute_reply": "2024-09-16T13:16:36.074060Z"
    },
    "papermill": {
     "duration": 2.044581,
     "end_time": "2024-09-16T13:16:36.078338",
     "exception": false,
     "start_time": "2024-09-16T13:16:34.033757",
     "status": "completed"
    },
    "tags": []
   },
   "outputs": [
    {
     "name": "stdout",
     "output_type": "stream",
     "text": [
      "Training Lasso\n",
      "\n",
      "--- Fold 1 - RMSE: 71877\n",
      "--- Fold 2 - RMSE: 73199\n",
      "--- Fold 3 - RMSE: 72663\n",
      "--- Fold 4 - RMSE: 72149\n",
      "--- Fold 5 - RMSE: 73453\n",
      "\n",
      "Overall RMSE: 72671 ± 599\n"
     ]
    }
   ],
   "source": [
    "lasso_model = Lasso()\n",
    "lasso_trainer = Trainer(lasso_model, CFG, True)\n",
    "_, lasso_test_preds, scores['Lasso'], lasso_coeffs = lasso_trainer.fit_predict(_X, y, _X_test)"
   ]
  },
  {
   "cell_type": "code",
   "execution_count": 30,
   "id": "3001a2bd",
   "metadata": {
    "execution": {
     "iopub.execute_input": "2024-09-16T13:16:36.216691Z",
     "iopub.status.busy": "2024-09-16T13:16:36.216243Z",
     "iopub.status.idle": "2024-09-16T13:16:36.631860Z",
     "shell.execute_reply": "2024-09-16T13:16:36.630737Z"
    },
    "papermill": {
     "duration": 0.487945,
     "end_time": "2024-09-16T13:16:36.634467",
     "exception": false,
     "start_time": "2024-09-16T13:16:36.146522",
     "status": "completed"
    },
    "tags": []
   },
   "outputs": [
    {
     "data": {
      "image/png": "[encoded data removed]",
      "text/plain": [
       "<Figure size 1000x400 with 1 Axes>"
      ]
     },
     "metadata": {},
     "output_type": "display_data"
    }
   ],
   "source": [
    "plot_weights('Lasso coefficients', lasso_coeffs)"
   ]
  },
  {
   "cell_type": "code",
   "execution_count": 31,
   "id": "62d928f3",
   "metadata": {
    "execution": {
     "iopub.execute_input": "2024-09-16T13:16:36.779347Z",
     "iopub.status.busy": "2024-09-16T13:16:36.778906Z",
     "iopub.status.idle": "2024-09-16T13:16:37.125298Z",
     "shell.execute_reply": "2024-09-16T13:16:37.124180Z"
    },
    "papermill": {
     "duration": 0.421926,
     "end_time": "2024-09-16T13:16:37.127833",
     "exception": false,
     "start_time": "2024-09-16T13:16:36.705907",
     "status": "completed"
    },
    "tags": []
   },
   "outputs": [
    {
     "data": {
      "text/html": [
       "<div>\n",
       "<style scoped>\n",
       "    .dataframe tbody tr th:only-of-type {\n",
       "        vertical-align: middle;\n",
       "    }\n",
       "\n",
       "    .dataframe tbody tr th {\n",
       "        vertical-align: top;\n",
       "    }\n",
       "\n",
       "    .dataframe thead th {\n",
       "        text-align: right;\n",
       "    }\n",
       "</style>\n",
       "<table border=\"1\" class=\"dataframe\">\n",
       "  <thead>\n",
       "    <tr style=\"text-align: right;\">\n",
       "      <th></th>\n",
       "      <th>id</th>\n",
       "      <th>price</th>\n",
       "    </tr>\n",
       "  </thead>\n",
       "  <tbody>\n",
       "    <tr>\n",
       "      <th>0</th>\n",
       "      <td>188533</td>\n",
       "      <td>17350.841797</td>\n",
       "    </tr>\n",
       "    <tr>\n",
       "      <th>1</th>\n",
       "      <td>188534</td>\n",
       "      <td>80555.820312</td>\n",
       "    </tr>\n",
       "    <tr>\n",
       "      <th>2</th>\n",
       "      <td>188535</td>\n",
       "      <td>57156.273438</td>\n",
       "    </tr>\n",
       "    <tr>\n",
       "      <th>3</th>\n",
       "      <td>188536</td>\n",
       "      <td>25424.228516</td>\n",
       "    </tr>\n",
       "    <tr>\n",
       "      <th>4</th>\n",
       "      <td>188537</td>\n",
       "      <td>30163.605469</td>\n",
       "    </tr>\n",
       "  </tbody>\n",
       "</table>\n",
       "</div>"
      ],
      "text/plain": [
       "       id         price\n",
       "0  188533  17350.841797\n",
       "1  188534  80555.820312\n",
       "2  188535  57156.273438\n",
       "3  188536  25424.228516\n",
       "4  188537  30163.605469"
      ]
     },
     "execution_count": 31,
     "metadata": {},
     "output_type": "execute_result"
    }
   ],
   "source": [
    "save_submission(lasso_test_preds, 'lasso', np.mean(scores['Lasso'])).head()"
   ]
  },
  {
   "cell_type": "markdown",
   "id": "b211dc15",
   "metadata": {
    "papermill": {
     "duration": 0.071037,
     "end_time": "2024-09-16T13:16:37.269077",
     "exception": false,
     "start_time": "2024-09-16T13:16:37.198040",
     "status": "completed"
    },
    "tags": []
   },
   "source": [
    "## Hill climbing\n",
    "\n",
    "In my opinion, hill climbing is an underused ensembling method in competitions. It is a simple, yet effective method to create an ensemble from OOF files. I will use the implementation from a fellow Kaggler. You can learn more about this library [here](https://github.com/Matt-OP/hillclimbers/)."
   ]
  },
  {
   "cell_type": "code",
   "execution_count": 32,
   "id": "055b6665",
   "metadata": {
    "execution": {
     "iopub.execute_input": "2024-09-16T13:16:37.412412Z",
     "iopub.status.busy": "2024-09-16T13:16:37.411563Z",
     "iopub.status.idle": "2024-09-16T13:16:37.417019Z",
     "shell.execute_reply": "2024-09-16T13:16:37.415851Z"
    },
    "papermill": {
     "duration": 0.07996,
     "end_time": "2024-09-16T13:16:37.419407",
     "exception": false,
     "start_time": "2024-09-16T13:16:37.339447",
     "status": "completed"
    },
    "tags": []
   },
   "outputs": [],
   "source": [
    "def rmse(y_true, y_pred):\n",
    "    return mean_squared_error(y_true, y_pred, squared=False)"
   ]
  },
  {
   "cell_type": "code",
   "execution_count": 33,
   "id": "db63f495",
   "metadata": {
    "execution": {
     "iopub.execute_input": "2024-09-16T13:16:37.560483Z",
     "iopub.status.busy": "2024-09-16T13:16:37.559377Z",
     "iopub.status.idle": "2024-09-16T13:17:01.656599Z",
     "shell.execute_reply": "2024-09-16T13:17:01.655267Z"
    },
    "papermill": {
     "duration": 24.170679,
     "end_time": "2024-09-16T13:17:01.659300",
     "exception": false,
     "start_time": "2024-09-16T13:16:37.488621",
     "status": "completed"
    },
    "tags": []
   },
   "outputs": [
    {
     "name": "stdout",
     "output_type": "stream",
     "text": [
      "\u001b[1m\u001b[34m   /\\  \n",
      "  /__\\  hillclimbers\u001b[0m\u001b[1m \n",
      " /    \\\n",
      "/______\\ \n",
      "\u001b[0m\n",
      "\u001b[1m\u001b[33mModels to be ensembled | (5 total):\u001b[0m \n",
      "\n",
      "\u001b[1m\u001b[32mHistGB:       72777.40205 (best solo model)\u001b[0m\n",
      "\u001b[1mLightGBM:     72890.84300\u001b[0m\n",
      "\u001b[1mCatBoost:     72902.58206\u001b[0m\n",
      "\u001b[1mXGBoost:      72992.63323\u001b[0m\n",
      "\u001b[1mXGBoost (RF): 73074.14028\u001b[0m\n",
      "\n",
      "\u001b[1m\u001b[33m[Data preparation completed successfully] - [Initiate hill climbing]\u001b[0m \n",
      "\n",
      "\u001b[1m\u001b[32mIteration: 1 | Model added: LightGBM | Best weight: 0.355 | Best rmse: 72727.95751\u001b[0m\n",
      "\u001b[1m\u001b[32mIteration: 2 | Model added: CatBoost | Best weight: 0.282 | Best rmse: 72695.92379\u001b[0m\n",
      "\u001b[1m\u001b[31mIteration: 3 | Model added: XGBoost (RF) | Best weight: -0.110 | Best rmse: 72692.13029\u001b[0m\n",
      "\u001b[1m\u001b[32mIteration: 4 | Model added: XGBoost | Best weight: 0.120 | Best rmse: 72686.42450\u001b[0m\n"
     ]
    },
    {
     "data": {
      "text/html": [
       "        <script type=\"text/javascript\">\n",
       "        window.PlotlyConfig = {MathJaxConfig: 'local'};\n",
       "        if (window.MathJax && window.MathJax.Hub && window.MathJax.Hub.Config) {window.MathJax.Hub.Config({SVG: {font: \"STIX-Web\"}});}\n",
       "        if (typeof require !== 'undefined') {\n",
       "        require.undef(\"plotly\");\n",
       "        requirejs.config({\n",
       "            paths: {\n",
       "                'plotly': ['https://cdn.plot.ly/plotly-2.32.0.min']\n",
       "            }\n",
       "        });\n",
       "        require(['plotly'], function(Plotly) {\n",
       "            window._Plotly = Plotly;\n",
       "        });\n",
       "        }\n",
       "        </script>\n",
       "        "
      ]
     },
     "metadata": {},
     "output_type": "display_data"
    },
    {
     "data": {
      "text/html": [
       "<div>                            <div id=\"44a574ae-1340-4a5d-83ac-3925027e8537\" class=\"plotly-graph-div\" style=\"height:500px; width:900px;\"></div>            <script type=\"text/javascript\">                require([\"plotly\"], function(Plotly) {                    window.PLOTLYENV=window.PLOTLYENV || {};                                    if (document.getElementById(\"44a574ae-1340-4a5d-83ac-3925027e8537\")) {                    Plotly.newPlot(                        \"44a574ae-1340-4a5d-83ac-3925027e8537\",                        [{\"hovertemplate\":\"Number of Models: %{x}\\u003cbr\\u003eCV: %{y}\",\"legendgroup\":\"\",\"line\":{\"color\":\"#009933\",\"dash\":\"solid\"},\"marker\":{\"symbol\":\"circle\",\"line\":{\"color\":\"#FFFFFF\",\"width\":1.5},\"color\":\"#33cc33\",\"size\":10},\"mode\":\"lines+markers+text\",\"name\":\"\",\"orientation\":\"v\",\"showlegend\":false,\"text\":[72777.40205,72727.95751,72695.92379,72692.13029,72686.4245],\"x\":[1,2,3,4,5],\"xaxis\":\"x\",\"y\":[72777.40204650212,72727.9575130524,72695.92379383775,72692.1302906853,72686.42449687372],\"yaxis\":\"y\",\"type\":\"scatter\",\"textfont\":{\"size\":10},\"textposition\":\"top center\"}],                        {\"template\":{\"data\":{\"barpolar\":[{\"marker\":{\"line\":{\"color\":\"rgb(17,17,17)\",\"width\":0.5},\"pattern\":{\"fillmode\":\"overlay\",\"size\":10,\"solidity\":0.2}},\"type\":\"barpolar\"}],\"bar\":[{\"error_x\":{\"color\":\"#f2f5fa\"},\"error_y\":{\"color\":\"#f2f5fa\"},\"marker\":{\"line\":{\"color\":\"rgb(17,17,17)\",\"width\":0.5},\"pattern\":{\"fillmode\":\"overlay\",\"size\":10,\"solidity\":0.2}},\"type\":\"bar\"}],\"carpet\":[{\"aaxis\":{\"endlinecolor\":\"#A2B1C6\",\"gridcolor\":\"#506784\",\"linecolor\":\"#506784\",\"minorgridcolor\":\"#506784\",\"startlinecolor\":\"#A2B1C6\"},\"baxis\":{\"endlinecolor\":\"#A2B1C6\",\"gridcolor\":\"#506784\",\"linecolor\":\"#506784\",\"minorgridcolor\":\"#506784\",\"startlinecolor\":\"#A2B1C6\"},\"type\":\"carpet\"}],\"choropleth\":[{\"colorbar\":{\"outlinewidth\":0,\"ticks\":\"\"},\"type\":\"choropleth\"}],\"contourcarpet\":[{\"colorbar\":{\"outlinewidth\":0,\"ticks\":\"\"},\"type\":\"contourcarpet\"}],\"contour\":[{\"colorbar\":{\"outlinewidth\":0,\"ticks\":\"\"},\"colorscale\":[[0.0,\"#0d0887\"],[0.1111111111111111,\"#46039f\"],[0.2222222222222222,\"#7201a8\"],[0.3333333333333333,\"#9c179e\"],[0.4444444444444444,\"#bd3786\"],[0.5555555555555556,\"#d8576b\"],[0.6666666666666666,\"#ed7953\"],[0.7777777777777778,\"#fb9f3a\"],[0.8888888888888888,\"#fdca26\"],[1.0,\"#f0f921\"]],\"type\":\"contour\"}],\"heatmapgl\":[{\"colorbar\":{\"outlinewidth\":0,\"ticks\":\"\"},\"colorscale\":[[0.0,\"#0d0887\"],[0.1111111111111111,\"#46039f\"],[0.2222222222222222,\"#7201a8\"],[0.3333333333333333,\"#9c179e\"],[0.4444444444444444,\"#bd3786\"],[0.5555555555555556,\"#d8576b\"],[0.6666666666666666,\"#ed7953\"],[0.7777777777777778,\"#fb9f3a\"],[0.8888888888888888,\"#fdca26\"],[1.0,\"#f0f921\"]],\"type\":\"heatmapgl\"}],\"heatmap\":[{\"colorbar\":{\"outlinewidth\":0,\"ticks\":\"\"},\"colorscale\":[[0.0,\"#0d0887\"],[0.1111111111111111,\"#46039f\"],[0.2222222222222222,\"#7201a8\"],[0.3333333333333333,\"#9c179e\"],[0.4444444444444444,\"#bd3786\"],[0.5555555555555556,\"#d8576b\"],[0.6666666666666666,\"#ed7953\"],[0.7777777777777778,\"#fb9f3a\"],[0.8888888888888888,\"#fdca26\"],[1.0,\"#f0f921\"]],\"type\":\"heatmap\"}],\"histogram2dcontour\":[{\"colorbar\":{\"outlinewidth\":0,\"ticks\":\"\"},\"colorscale\":[[0.0,\"#0d0887\"],[0.1111111111111111,\"#46039f\"],[0.2222222222222222,\"#7201a8\"],[0.3333333333333333,\"#9c179e\"],[0.4444444444444444,\"#bd3786\"],[0.5555555555555556,\"#d8576b\"],[0.6666666666666666,\"#ed7953\"],[0.7777777777777778,\"#fb9f3a\"],[0.8888888888888888,\"#fdca26\"],[1.0,\"#f0f921\"]],\"type\":\"histogram2dcontour\"}],\"histogram2d\":[{\"colorbar\":{\"outlinewidth\":0,\"ticks\":\"\"},\"colorscale\":[[0.0,\"#0d0887\"],[0.1111111111111111,\"#46039f\"],[0.2222222222222222,\"#7201a8\"],[0.3333333333333333,\"#9c179e\"],[0.4444444444444444,\"#bd3786\"],[0.5555555555555556,\"#d8576b\"],[0.6666666666666666,\"#ed7953\"],[0.7777777777777778,\"#fb9f3a\"],[0.8888888888888888,\"#fdca26\"],[1.0,\"#f0f921\"]],\"type\":\"histogram2d\"}],\"histogram\":[{\"marker\":{\"pattern\":{\"fillmode\":\"overlay\",\"size\":10,\"solidity\":0.2}},\"type\":\"histogram\"}],\"mesh3d\":[{\"colorbar\":{\"outlinewidth\":0,\"ticks\":\"\"},\"type\":\"mesh3d\"}],\"parcoords\":[{\"line\":{\"colorbar\":{\"outlinewidth\":0,\"ticks\":\"\"}},\"type\":\"parcoords\"}],\"pie\":[{\"automargin\":true,\"type\":\"pie\"}],\"scatter3d\":[{\"line\":{\"colorbar\":{\"outlinewidth\":0,\"ticks\":\"\"}},\"marker\":{\"colorbar\":{\"outlinewidth\":0,\"ticks\":\"\"}},\"type\":\"scatter3d\"}],\"scattercarpet\":[{\"marker\":{\"colorbar\":{\"outlinewidth\":0,\"ticks\":\"\"}},\"type\":\"scattercarpet\"}],\"scattergeo\":[{\"marker\":{\"colorbar\":{\"outlinewidth\":0,\"ticks\":\"\"}},\"type\":\"scattergeo\"}],\"scattergl\":[{\"marker\":{\"line\":{\"color\":\"#283442\"}},\"type\":\"scattergl\"}],\"scattermapbox\":[{\"marker\":{\"colorbar\":{\"outlinewidth\":0,\"ticks\":\"\"}},\"type\":\"scattermapbox\"}],\"scatterpolargl\":[{\"marker\":{\"colorbar\":{\"outlinewidth\":0,\"ticks\":\"\"}},\"type\":\"scatterpolargl\"}],\"scatterpolar\":[{\"marker\":{\"colorbar\":{\"outlinewidth\":0,\"ticks\":\"\"}},\"type\":\"scatterpolar\"}],\"scatter\":[{\"marker\":{\"line\":{\"color\":\"#283442\"}},\"type\":\"scatter\"}],\"scatterternary\":[{\"marker\":{\"colorbar\":{\"outlinewidth\":0,\"ticks\":\"\"}},\"type\":\"scatterternary\"}],\"surface\":[{\"colorbar\":{\"outlinewidth\":0,\"ticks\":\"\"},\"colorscale\":[[0.0,\"#0d0887\"],[0.1111111111111111,\"#46039f\"],[0.2222222222222222,\"#7201a8\"],[0.3333333333333333,\"#9c179e\"],[0.4444444444444444,\"#bd3786\"],[0.5555555555555556,\"#d8576b\"],[0.6666666666666666,\"#ed7953\"],[0.7777777777777778,\"#fb9f3a\"],[0.8888888888888888,\"#fdca26\"],[1.0,\"#f0f921\"]],\"type\":\"surface\"}],\"table\":[{\"cells\":{\"fill\":{\"color\":\"#506784\"},\"line\":{\"color\":\"rgb(17,17,17)\"}},\"header\":{\"fill\":{\"color\":\"#2a3f5f\"},\"line\":{\"color\":\"rgb(17,17,17)\"}},\"type\":\"table\"}]},\"layout\":{\"annotationdefaults\":{\"arrowcolor\":\"#f2f5fa\",\"arrowhead\":0,\"arrowwidth\":1},\"autotypenumbers\":\"strict\",\"coloraxis\":{\"colorbar\":{\"outlinewidth\":0,\"ticks\":\"\"}},\"colorscale\":{\"diverging\":[[0,\"#8e0152\"],[0.1,\"#c51b7d\"],[0.2,\"#de77ae\"],[0.3,\"#f1b6da\"],[0.4,\"#fde0ef\"],[0.5,\"#f7f7f7\"],[0.6,\"#e6f5d0\"],[0.7,\"#b8e186\"],[0.8,\"#7fbc41\"],[0.9,\"#4d9221\"],[1,\"#276419\"]],\"sequential\":[[0.0,\"#0d0887\"],[0.1111111111111111,\"#46039f\"],[0.2222222222222222,\"#7201a8\"],[0.3333333333333333,\"#9c179e\"],[0.4444444444444444,\"#bd3786\"],[0.5555555555555556,\"#d8576b\"],[0.6666666666666666,\"#ed7953\"],[0.7777777777777778,\"#fb9f3a\"],[0.8888888888888888,\"#fdca26\"],[1.0,\"#f0f921\"]],\"sequentialminus\":[[0.0,\"#0d0887\"],[0.1111111111111111,\"#46039f\"],[0.2222222222222222,\"#7201a8\"],[0.3333333333333333,\"#9c179e\"],[0.4444444444444444,\"#bd3786\"],[0.5555555555555556,\"#d8576b\"],[0.6666666666666666,\"#ed7953\"],[0.7777777777777778,\"#fb9f3a\"],[0.8888888888888888,\"#fdca26\"],[1.0,\"#f0f921\"]]},\"colorway\":[\"#636efa\",\"#EF553B\",\"#00cc96\",\"#ab63fa\",\"#FFA15A\",\"#19d3f3\",\"#FF6692\",\"#B6E880\",\"#FF97FF\",\"#FECB52\"],\"font\":{\"color\":\"#f2f5fa\"},\"geo\":{\"bgcolor\":\"rgb(17,17,17)\",\"lakecolor\":\"rgb(17,17,17)\",\"landcolor\":\"rgb(17,17,17)\",\"showlakes\":true,\"showland\":true,\"subunitcolor\":\"#506784\"},\"hoverlabel\":{\"align\":\"left\"},\"hovermode\":\"closest\",\"mapbox\":{\"style\":\"dark\"},\"paper_bgcolor\":\"rgb(17,17,17)\",\"plot_bgcolor\":\"rgb(17,17,17)\",\"polar\":{\"angularaxis\":{\"gridcolor\":\"#506784\",\"linecolor\":\"#506784\",\"ticks\":\"\"},\"bgcolor\":\"rgb(17,17,17)\",\"radialaxis\":{\"gridcolor\":\"#506784\",\"linecolor\":\"#506784\",\"ticks\":\"\"}},\"scene\":{\"xaxis\":{\"backgroundcolor\":\"rgb(17,17,17)\",\"gridcolor\":\"#506784\",\"gridwidth\":2,\"linecolor\":\"#506784\",\"showbackground\":true,\"ticks\":\"\",\"zerolinecolor\":\"#C8D4E3\"},\"yaxis\":{\"backgroundcolor\":\"rgb(17,17,17)\",\"gridcolor\":\"#506784\",\"gridwidth\":2,\"linecolor\":\"#506784\",\"showbackground\":true,\"ticks\":\"\",\"zerolinecolor\":\"#C8D4E3\"},\"zaxis\":{\"backgroundcolor\":\"rgb(17,17,17)\",\"gridcolor\":\"#506784\",\"gridwidth\":2,\"linecolor\":\"#506784\",\"showbackground\":true,\"ticks\":\"\",\"zerolinecolor\":\"#C8D4E3\"}},\"shapedefaults\":{\"line\":{\"color\":\"#f2f5fa\"}},\"sliderdefaults\":{\"bgcolor\":\"#C8D4E3\",\"bordercolor\":\"rgb(17,17,17)\",\"borderwidth\":1,\"tickwidth\":0},\"ternary\":{\"aaxis\":{\"gridcolor\":\"#506784\",\"linecolor\":\"#506784\",\"ticks\":\"\"},\"baxis\":{\"gridcolor\":\"#506784\",\"linecolor\":\"#506784\",\"ticks\":\"\"},\"bgcolor\":\"rgb(17,17,17)\",\"caxis\":{\"gridcolor\":\"#506784\",\"linecolor\":\"#506784\",\"ticks\":\"\"}},\"title\":{\"x\":0.05},\"updatemenudefaults\":{\"bgcolor\":\"#506784\",\"borderwidth\":0},\"xaxis\":{\"automargin\":true,\"gridcolor\":\"#283442\",\"linecolor\":\"#506784\",\"ticks\":\"\",\"title\":{\"standoff\":15},\"zerolinecolor\":\"#283442\",\"zerolinewidth\":2},\"yaxis\":{\"automargin\":true,\"gridcolor\":\"#283442\",\"linecolor\":\"#506784\",\"ticks\":\"\",\"title\":{\"standoff\":15},\"zerolinecolor\":\"#283442\",\"zerolinewidth\":2}}},\"xaxis\":{\"anchor\":\"y\",\"domain\":[0.0,1.0],\"title\":{\"text\":\"Number of models\"},\"tickmode\":\"array\",\"tickvals\":[1,2,3,4,5]},\"yaxis\":{\"anchor\":\"x\",\"domain\":[0.0,1.0],\"title\":{\"text\":\"rmse\"}},\"legend\":{\"tracegroupgap\":0},\"title\":{\"text\":\"Cross Validation rmse vs. Number of Models with Hill Climbing\"},\"autosize\":false,\"width\":900,\"height\":500},                        {\"responsive\": true}                    ).then(function(){\n",
       "                            \n",
       "var gd = document.getElementById('44a574ae-1340-4a5d-83ac-3925027e8537');\n",
       "var x = new MutationObserver(function (mutations, observer) {{\n",
       "        var display = window.getComputedStyle(gd).display;\n",
       "        if (!display || display === 'none') {{\n",
       "            console.log([gd, 'removed!']);\n",
       "            Plotly.purge(gd);\n",
       "            observer.disconnect();\n",
       "        }}\n",
       "}});\n",
       "\n",
       "// Listen for the removal of the full notebook cells\n",
       "var notebookContainer = gd.closest('#notebook-container');\n",
       "if (notebookContainer) {{\n",
       "    x.observe(notebookContainer, {childList: true});\n",
       "}}\n",
       "\n",
       "// Listen for the clearing of the current output cell\n",
       "var outputEl = gd.closest('.output');\n",
       "if (outputEl) {{\n",
       "    x.observe(outputEl, {childList: true});\n",
       "}}\n",
       "\n",
       "                        })                };                });            </script>        </div>"
      ]
     },
     "metadata": {},
     "output_type": "display_data"
    }
   ],
   "source": [
    "hc_test_preds, hc_oof_preds = climb_hill(\n",
    "    train=train, \n",
    "    oof_pred_df=pd.DataFrame(oof_preds), \n",
    "    test_pred_df=pd.DataFrame(test_preds),\n",
    "    target=CFG.target,\n",
    "    objective='minimize', \n",
    "    eval_metric=partial(rmse),\n",
    "    negative_weights=True, \n",
    "    precision=0.001, \n",
    "    plot_hill=True, \n",
    "    plot_hist=False,\n",
    "    return_oof_preds=True\n",
    ")"
   ]
  },
  {
   "cell_type": "code",
   "execution_count": 34,
   "id": "590a8451",
   "metadata": {
    "execution": {
     "iopub.execute_input": "2024-09-16T13:17:01.808833Z",
     "iopub.status.busy": "2024-09-16T13:17:01.808329Z",
     "iopub.status.idle": "2024-09-16T13:17:01.815717Z",
     "shell.execute_reply": "2024-09-16T13:17:01.814730Z"
    },
    "papermill": {
     "duration": 0.085399,
     "end_time": "2024-09-16T13:17:01.818054",
     "exception": false,
     "start_time": "2024-09-16T13:17:01.732655",
     "status": "completed"
    },
    "tags": []
   },
   "outputs": [],
   "source": [
    "hc_score = mean_squared_error(hc_oof_preds, y, squared=False)\n",
    "scores['Hill Climbing'] = [hc_score] * CFG.n_folds"
   ]
  },
  {
   "cell_type": "code",
   "execution_count": 35,
   "id": "02dc5393",
   "metadata": {
    "execution": {
     "iopub.execute_input": "2024-09-16T13:17:01.965063Z",
     "iopub.status.busy": "2024-09-16T13:17:01.964624Z",
     "iopub.status.idle": "2024-09-16T13:17:02.339653Z",
     "shell.execute_reply": "2024-09-16T13:17:02.337631Z"
    },
    "papermill": {
     "duration": 0.450903,
     "end_time": "2024-09-16T13:17:02.342641",
     "exception": false,
     "start_time": "2024-09-16T13:17:01.891738",
     "status": "completed"
    },
    "tags": []
   },
   "outputs": [
    {
     "data": {
      "text/html": [
       "<div>\n",
       "<style scoped>\n",
       "    .dataframe tbody tr th:only-of-type {\n",
       "        vertical-align: middle;\n",
       "    }\n",
       "\n",
       "    .dataframe tbody tr th {\n",
       "        vertical-align: top;\n",
       "    }\n",
       "\n",
       "    .dataframe thead th {\n",
       "        text-align: right;\n",
       "    }\n",
       "</style>\n",
       "<table border=\"1\" class=\"dataframe\">\n",
       "  <thead>\n",
       "    <tr style=\"text-align: right;\">\n",
       "      <th></th>\n",
       "      <th>id</th>\n",
       "      <th>price</th>\n",
       "    </tr>\n",
       "  </thead>\n",
       "  <tbody>\n",
       "    <tr>\n",
       "      <th>0</th>\n",
       "      <td>188533</td>\n",
       "      <td>18638.642578</td>\n",
       "    </tr>\n",
       "    <tr>\n",
       "      <th>1</th>\n",
       "      <td>188534</td>\n",
       "      <td>79317.742188</td>\n",
       "    </tr>\n",
       "    <tr>\n",
       "      <th>2</th>\n",
       "      <td>188535</td>\n",
       "      <td>56545.847656</td>\n",
       "    </tr>\n",
       "    <tr>\n",
       "      <th>3</th>\n",
       "      <td>188536</td>\n",
       "      <td>24469.253906</td>\n",
       "    </tr>\n",
       "    <tr>\n",
       "      <th>4</th>\n",
       "      <td>188537</td>\n",
       "      <td>30912.455078</td>\n",
       "    </tr>\n",
       "  </tbody>\n",
       "</table>\n",
       "</div>"
      ],
      "text/plain": [
       "       id         price\n",
       "0  188533  18638.642578\n",
       "1  188534  79317.742188\n",
       "2  188535  56545.847656\n",
       "3  188536  24469.253906\n",
       "4  188537  30912.455078"
      ]
     },
     "execution_count": 35,
     "metadata": {},
     "output_type": "execute_result"
    }
   ],
   "source": [
    "save_submission(hc_test_preds, 'hill-climbing', hc_score).head()"
   ]
  },
  {
   "cell_type": "markdown",
   "id": "29b5ce96",
   "metadata": {
    "papermill": {
     "duration": 0.072131,
     "end_time": "2024-09-16T13:17:02.514666",
     "exception": false,
     "start_time": "2024-09-16T13:17:02.442535",
     "status": "completed"
    },
    "tags": []
   },
   "source": [
    "## Voting\n",
    "\n",
    "The methods shown previously all use OOF predictions and are generally faster ways to ensemble. Voting, however, re-fits each model that it is given from scratch. The regression version of the voting model averages the predictions from the base models. It can also accept a list of weights and compute the weighted average. It is not very different from the simple averaging model shown earlier."
   ]
  },
  {
   "cell_type": "code",
   "execution_count": 36,
   "id": "2e756877",
   "metadata": {
    "execution": {
     "iopub.execute_input": "2024-09-16T13:17:02.665611Z",
     "iopub.status.busy": "2024-09-16T13:17:02.664442Z",
     "iopub.status.idle": "2024-09-16T13:17:02.671648Z",
     "shell.execute_reply": "2024-09-16T13:17:02.669980Z"
    },
    "papermill": {
     "duration": 0.085173,
     "end_time": "2024-09-16T13:17:02.674957",
     "exception": false,
     "start_time": "2024-09-16T13:17:02.589784",
     "status": "completed"
    },
    "tags": []
   },
   "outputs": [],
   "source": [
    "estimators = [\n",
    "    ('LightGBM', lgbm_model),\n",
    "    ('XGBoost', xgb_model),\n",
    "    ('XGBoost(rf)', xgbrf_model),\n",
    "    ('CatBoost', cb_model),\n",
    "    ('HistGB', hgb_model),\n",
    "]"
   ]
  },
  {
   "cell_type": "code",
   "execution_count": 37,
   "id": "a3b553b9",
   "metadata": {
    "execution": {
     "iopub.execute_input": "2024-09-16T13:17:02.827085Z",
     "iopub.status.busy": "2024-09-16T13:17:02.826636Z",
     "iopub.status.idle": "2024-09-16T13:33:06.686047Z",
     "shell.execute_reply": "2024-09-16T13:33:06.684834Z"
    },
    "papermill": {
     "duration": 964.012057,
     "end_time": "2024-09-16T13:33:06.761366",
     "exception": false,
     "start_time": "2024-09-16T13:17:02.749309",
     "status": "completed"
    },
    "tags": []
   },
   "outputs": [
    {
     "name": "stdout",
     "output_type": "stream",
     "text": [
      "Training VotingRegressor\n",
      "\n",
      "--- Fold 1 - RMSE: 71978\n",
      "--- Fold 2 - RMSE: 73265\n",
      "--- Fold 3 - RMSE: 72751\n",
      "--- Fold 4 - RMSE: 72152\n",
      "--- Fold 5 - RMSE: 73520\n",
      "\n",
      "Overall RMSE: 72736 ± 602\n"
     ]
    }
   ],
   "source": [
    "voting_model = VotingRegressor(estimators=estimators)\n",
    "voting_trainer = Trainer(voting_model, CFG)\n",
    "_, voting_test_preds, scores['Voting'] = voting_trainer.fit_predict(X, y, X_test)"
   ]
  },
  {
   "cell_type": "code",
   "execution_count": 38,
   "id": "da049fc6",
   "metadata": {
    "execution": {
     "iopub.execute_input": "2024-09-16T13:33:06.908708Z",
     "iopub.status.busy": "2024-09-16T13:33:06.908240Z",
     "iopub.status.idle": "2024-09-16T13:33:07.265816Z",
     "shell.execute_reply": "2024-09-16T13:33:07.264530Z"
    },
    "papermill": {
     "duration": 0.435056,
     "end_time": "2024-09-16T13:33:07.268578",
     "exception": false,
     "start_time": "2024-09-16T13:33:06.833522",
     "status": "completed"
    },
    "tags": []
   },
   "outputs": [
    {
     "data": {
      "text/html": [
       "<div>\n",
       "<style scoped>\n",
       "    .dataframe tbody tr th:only-of-type {\n",
       "        vertical-align: middle;\n",
       "    }\n",
       "\n",
       "    .dataframe tbody tr th {\n",
       "        vertical-align: top;\n",
       "    }\n",
       "\n",
       "    .dataframe thead th {\n",
       "        text-align: right;\n",
       "    }\n",
       "</style>\n",
       "<table border=\"1\" class=\"dataframe\">\n",
       "  <thead>\n",
       "    <tr style=\"text-align: right;\">\n",
       "      <th></th>\n",
       "      <th>id</th>\n",
       "      <th>price</th>\n",
       "    </tr>\n",
       "  </thead>\n",
       "  <tbody>\n",
       "    <tr>\n",
       "      <th>0</th>\n",
       "      <td>188533</td>\n",
       "      <td>18695.244141</td>\n",
       "    </tr>\n",
       "    <tr>\n",
       "      <th>1</th>\n",
       "      <td>188534</td>\n",
       "      <td>80577.867188</td>\n",
       "    </tr>\n",
       "    <tr>\n",
       "      <th>2</th>\n",
       "      <td>188535</td>\n",
       "      <td>55538.496094</td>\n",
       "    </tr>\n",
       "    <tr>\n",
       "      <th>3</th>\n",
       "      <td>188536</td>\n",
       "      <td>25652.531250</td>\n",
       "    </tr>\n",
       "    <tr>\n",
       "      <th>4</th>\n",
       "      <td>188537</td>\n",
       "      <td>31354.062500</td>\n",
       "    </tr>\n",
       "  </tbody>\n",
       "</table>\n",
       "</div>"
      ],
      "text/plain": [
       "       id         price\n",
       "0  188533  18695.244141\n",
       "1  188534  80577.867188\n",
       "2  188535  55538.496094\n",
       "3  188536  25652.531250\n",
       "4  188537  31354.062500"
      ]
     },
     "execution_count": 38,
     "metadata": {},
     "output_type": "execute_result"
    }
   ],
   "source": [
    "save_submission(voting_test_preds, 'voting', np.mean(scores['Voting'])).head()"
   ]
  },
  {
   "cell_type": "code",
   "execution_count": 39,
   "id": "c4498e5c",
   "metadata": {
    "execution": {
     "iopub.execute_input": "2024-09-16T13:33:07.415108Z",
     "iopub.status.busy": "2024-09-16T13:33:07.414668Z",
     "iopub.status.idle": "2024-09-16T13:48:54.266572Z",
     "shell.execute_reply": "2024-09-16T13:48:54.265165Z"
    },
    "papermill": {
     "duration": 946.992926,
     "end_time": "2024-09-16T13:48:54.333777",
     "exception": false,
     "start_time": "2024-09-16T13:33:07.340851",
     "status": "completed"
    },
    "tags": []
   },
   "outputs": [
    {
     "name": "stdout",
     "output_type": "stream",
     "text": [
      "Training VotingRegressor\n",
      "\n",
      "--- Fold 1 - RMSE: 71909\n",
      "--- Fold 2 - RMSE: 73234\n",
      "--- Fold 3 - RMSE: 72695\n",
      "--- Fold 4 - RMSE: 72137\n",
      "--- Fold 5 - RMSE: 73474\n",
      "\n",
      "Overall RMSE: 72692 ± 605\n"
     ]
    }
   ],
   "source": [
    "weighted_voting_model = VotingRegressor(estimators=estimators, weights=best_weights)\n",
    "weighted_voting_trainer = Trainer(weighted_voting_model, CFG)\n",
    "_, weighted_voting_test_preds, scores['Weighted Voting'] = weighted_voting_trainer.fit_predict(X, y, X_test)"
   ]
  },
  {
   "cell_type": "code",
   "execution_count": 40,
   "id": "d9044391",
   "metadata": {
    "execution": {
     "iopub.execute_input": "2024-09-16T13:48:54.484107Z",
     "iopub.status.busy": "2024-09-16T13:48:54.483647Z",
     "iopub.status.idle": "2024-09-16T13:48:54.841486Z",
     "shell.execute_reply": "2024-09-16T13:48:54.839721Z"
    },
    "papermill": {
     "duration": 0.434678,
     "end_time": "2024-09-16T13:48:54.844182",
     "exception": false,
     "start_time": "2024-09-16T13:48:54.409504",
     "status": "completed"
    },
    "tags": []
   },
   "outputs": [
    {
     "data": {
      "text/html": [
       "<div>\n",
       "<style scoped>\n",
       "    .dataframe tbody tr th:only-of-type {\n",
       "        vertical-align: middle;\n",
       "    }\n",
       "\n",
       "    .dataframe tbody tr th {\n",
       "        vertical-align: top;\n",
       "    }\n",
       "\n",
       "    .dataframe thead th {\n",
       "        text-align: right;\n",
       "    }\n",
       "</style>\n",
       "<table border=\"1\" class=\"dataframe\">\n",
       "  <thead>\n",
       "    <tr style=\"text-align: right;\">\n",
       "      <th></th>\n",
       "      <th>id</th>\n",
       "      <th>price</th>\n",
       "    </tr>\n",
       "  </thead>\n",
       "  <tbody>\n",
       "    <tr>\n",
       "      <th>0</th>\n",
       "      <td>188533</td>\n",
       "      <td>18693.046875</td>\n",
       "    </tr>\n",
       "    <tr>\n",
       "      <th>1</th>\n",
       "      <td>188534</td>\n",
       "      <td>79319.625000</td>\n",
       "    </tr>\n",
       "    <tr>\n",
       "      <th>2</th>\n",
       "      <td>188535</td>\n",
       "      <td>56234.761719</td>\n",
       "    </tr>\n",
       "    <tr>\n",
       "      <th>3</th>\n",
       "      <td>188536</td>\n",
       "      <td>24788.029297</td>\n",
       "    </tr>\n",
       "    <tr>\n",
       "      <th>4</th>\n",
       "      <td>188537</td>\n",
       "      <td>31109.523438</td>\n",
       "    </tr>\n",
       "  </tbody>\n",
       "</table>\n",
       "</div>"
      ],
      "text/plain": [
       "       id         price\n",
       "0  188533  18693.046875\n",
       "1  188534  79319.625000\n",
       "2  188535  56234.761719\n",
       "3  188536  24788.029297\n",
       "4  188537  31109.523438"
      ]
     },
     "execution_count": 40,
     "metadata": {},
     "output_type": "execute_result"
    }
   ],
   "source": [
    "save_submission(weighted_voting_test_preds, 'weighted-voting', np.mean(scores['Weighted Voting'])).head()"
   ]
  },
  {
   "cell_type": "markdown",
   "id": "ba2c9560",
   "metadata": {
    "papermill": {
     "duration": 0.076492,
     "end_time": "2024-09-16T13:48:54.995054",
     "exception": false,
     "start_time": "2024-09-16T13:48:54.918562",
     "status": "completed"
    },
    "tags": []
   },
   "source": [
    "## Stacking\n",
    "\n",
    "Similar to a voting model, a stacking model re-fits a list of models from scratch, and ensembles their predictions. However, unlike voting, it is more complex and uses a meta-model to learn the best combination of the features instead of simply averaging the predictions. Under the hood, it uses `RidgeCV` to ensemble predictions of the base models, however, its meta-model is configurable and can be changed. Here, I will just leave it with the default parameters."
   ]
  },
  {
   "cell_type": "code",
   "execution_count": 41,
   "id": "61b91594",
   "metadata": {
    "execution": {
     "iopub.execute_input": "2024-09-16T13:48:55.150309Z",
     "iopub.status.busy": "2024-09-16T13:48:55.149868Z",
     "iopub.status.idle": "2024-09-16T14:52:33.249453Z",
     "shell.execute_reply": "2024-09-16T14:52:33.248216Z"
    },
    "papermill": {
     "duration": 3818.251602,
     "end_time": "2024-09-16T14:52:33.325886",
     "exception": false,
     "start_time": "2024-09-16T13:48:55.074284",
     "status": "completed"
    },
    "tags": []
   },
   "outputs": [
    {
     "name": "stdout",
     "output_type": "stream",
     "text": [
      "Training StackingRegressor\n",
      "\n",
      "--- Fold 1 - RMSE: 71899\n",
      "--- Fold 2 - RMSE: 73215\n",
      "--- Fold 3 - RMSE: 72672\n",
      "--- Fold 4 - RMSE: 72171\n",
      "--- Fold 5 - RMSE: 73453\n",
      "\n",
      "Overall RMSE: 72684 ± 592\n"
     ]
    }
   ],
   "source": [
    "stacking_model = StackingRegressor(estimators=estimators)\n",
    "stacking_trainer = Trainer(stacking_model, CFG)\n",
    "_, stacking_test_preds, scores['Stacking'] = stacking_trainer.fit_predict(X, y, X_test)"
   ]
  },
  {
   "cell_type": "code",
   "execution_count": 42,
   "id": "6265eec4",
   "metadata": {
    "execution": {
     "iopub.execute_input": "2024-09-16T14:52:33.478058Z",
     "iopub.status.busy": "2024-09-16T14:52:33.477583Z",
     "iopub.status.idle": "2024-09-16T14:52:33.836476Z",
     "shell.execute_reply": "2024-09-16T14:52:33.835235Z"
    },
    "papermill": {
     "duration": 0.43838,
     "end_time": "2024-09-16T14:52:33.839185",
     "exception": false,
     "start_time": "2024-09-16T14:52:33.400805",
     "status": "completed"
    },
    "tags": []
   },
   "outputs": [
    {
     "data": {
      "text/html": [
       "<div>\n",
       "<style scoped>\n",
       "    .dataframe tbody tr th:only-of-type {\n",
       "        vertical-align: middle;\n",
       "    }\n",
       "\n",
       "    .dataframe tbody tr th {\n",
       "        vertical-align: top;\n",
       "    }\n",
       "\n",
       "    .dataframe thead th {\n",
       "        text-align: right;\n",
       "    }\n",
       "</style>\n",
       "<table border=\"1\" class=\"dataframe\">\n",
       "  <thead>\n",
       "    <tr style=\"text-align: right;\">\n",
       "      <th></th>\n",
       "      <th>id</th>\n",
       "      <th>price</th>\n",
       "    </tr>\n",
       "  </thead>\n",
       "  <tbody>\n",
       "    <tr>\n",
       "      <th>0</th>\n",
       "      <td>188533</td>\n",
       "      <td>16710.570312</td>\n",
       "    </tr>\n",
       "    <tr>\n",
       "      <th>1</th>\n",
       "      <td>188534</td>\n",
       "      <td>81976.953125</td>\n",
       "    </tr>\n",
       "    <tr>\n",
       "      <th>2</th>\n",
       "      <td>188535</td>\n",
       "      <td>57447.187500</td>\n",
       "    </tr>\n",
       "    <tr>\n",
       "      <th>3</th>\n",
       "      <td>188536</td>\n",
       "      <td>25239.390625</td>\n",
       "    </tr>\n",
       "    <tr>\n",
       "      <th>4</th>\n",
       "      <td>188537</td>\n",
       "      <td>29863.925781</td>\n",
       "    </tr>\n",
       "  </tbody>\n",
       "</table>\n",
       "</div>"
      ],
      "text/plain": [
       "       id         price\n",
       "0  188533  16710.570312\n",
       "1  188534  81976.953125\n",
       "2  188535  57447.187500\n",
       "3  188536  25239.390625\n",
       "4  188537  29863.925781"
      ]
     },
     "execution_count": 42,
     "metadata": {},
     "output_type": "execute_result"
    }
   ],
   "source": [
    "save_submission(stacking_test_preds, 'stacking', np.mean(scores['Stacking'])).head()"
   ]
  },
  {
   "cell_type": "markdown",
   "id": "790f2e72",
   "metadata": {
    "papermill": {
     "duration": 0.074827,
     "end_time": "2024-09-16T14:52:33.988634",
     "exception": false,
     "start_time": "2024-09-16T14:52:33.913807",
     "status": "completed"
    },
    "tags": []
   },
   "source": [
    "# Results"
   ]
  },
  {
   "cell_type": "markdown",
   "id": "0221bdfb",
   "metadata": {
    "papermill": {
     "duration": 0.074638,
     "end_time": "2024-09-16T14:52:34.138829",
     "exception": false,
     "start_time": "2024-09-16T14:52:34.064191",
     "status": "completed"
    },
    "tags": []
   },
   "source": [
    "We can see that all of the ensemble models achieve better scores than the individual models. The difference is not much, but it is enough to give you an edge in the competition. \n",
    "\n",
    "We can also see that the models that average the prediction are slightly better than the models that use a meta-model. This is not a general outcome that is expected, but just a result that is achieved on this dataset. Some ensembling methods work better than others, and there are no general rules for what works best. One has to experiment with different methods and choose an ensembling technique that suits the competition."
   ]
  },
  {
   "cell_type": "code",
   "execution_count": 43,
   "id": "1644afb0",
   "metadata": {
    "execution": {
     "iopub.execute_input": "2024-09-16T14:52:34.290576Z",
     "iopub.status.busy": "2024-09-16T14:52:34.290110Z",
     "iopub.status.idle": "2024-09-16T14:52:35.311355Z",
     "shell.execute_reply": "2024-09-16T14:52:35.310058Z"
    },
    "papermill": {
     "duration": 1.09925,
     "end_time": "2024-09-16T14:52:35.314245",
     "exception": false,
     "start_time": "2024-09-16T14:52:34.214995",
     "status": "completed"
    },
    "tags": []
   },
   "outputs": [
    {
     "data": {
      "image/png": "[encoded data removed]",
      "text/plain": [
       "<Figure size 1500x500 with 2 Axes>"
      ]
     },
     "metadata": {},
     "output_type": "display_data"
    }
   ],
   "source": [
    "scores = pd.DataFrame(scores)\n",
    "mean_scores = scores.mean().sort_values(ascending=True)\n",
    "order = scores.mean().sort_values(ascending=True).index.tolist()\n",
    "\n",
    "min_score = mean_scores.min()\n",
    "max_score = mean_scores.max()\n",
    "padding = (max_score - min_score) * 0.5\n",
    "lower_limit = min_score - padding\n",
    "upper_limit = max_score + padding\n",
    "\n",
    "fig, axs = plt.subplots(1, 2, figsize=(15, 5))\n",
    "\n",
    "sns.boxplot(data=scores, order=order, ax=axs[0], orient='h', palette=\"RdYlGn_r\")\n",
    "axs[0].set_title('Fold RMSE')\n",
    "axs[0].set_xlabel('')\n",
    "axs[0].set_ylabel('')\n",
    "\n",
    "barplot = sns.barplot(x=mean_scores.values, y=mean_scores.index, ax=axs[1], palette=\"RdYlGn_r\")\n",
    "axs[1].set_title('Average RMSE')\n",
    "axs[1].set_xlabel('')\n",
    "axs[1].set_xlim(left=lower_limit, right=upper_limit)\n",
    "axs[1].set_ylabel('')\n",
    "\n",
    "for i, score in enumerate(mean_scores.values):\n",
    "    barplot.text(score, i, round(score, 2), va='center')\n",
    "\n",
    "plt.tight_layout()\n",
    "plt.show()"
   ]
  },
  {
   "cell_type": "code",
   "execution_count": 44,
   "id": "13859d16",
   "metadata": {
    "execution": {
     "iopub.execute_input": "2024-09-16T14:52:35.473696Z",
     "iopub.status.busy": "2024-09-16T14:52:35.473237Z",
     "iopub.status.idle": "2024-09-16T14:52:35.487453Z",
     "shell.execute_reply": "2024-09-16T14:52:35.486031Z"
    },
    "papermill": {
     "duration": 0.101174,
     "end_time": "2024-09-16T14:52:35.491236",
     "exception": false,
     "start_time": "2024-09-16T14:52:35.390062",
     "status": "completed"
    },
    "tags": []
   },
   "outputs": [],
   "source": [
    "shutil.rmtree('catboost_info')"
   ]
  }
 ],
 "metadata": {
  "kaggle": {
   "accelerator": "none",
   "dataSources": [
    {
     "databundleVersionId": 9057646,
     "sourceId": 76728,
     "sourceType": "competition"
    }
   ],
   "dockerImageVersionId": 30761,
   "isGpuEnabled": false,
   "isInternetEnabled": true,
   "language": "python",
   "sourceType": "notebook"
  },
  "kernelspec": {
   "display_name": "Python 3",
   "language": "python",
   "name": "python3"
  },
  "language_info": {
   "codemirror_mode": {
    "name": "ipython",
    "version": 3
   },
   "file_extension": ".py",
   "mimetype": "text/x-python",
   "name": "python",
   "nbconvert_exporter": "python",
   "pygments_lexer": "ipython3",
   "version": "3.10.14"
  },
  "papermill": {
   "default_parameters": {},
   "duration": 6862.990063,
   "end_time": "2024-09-16T14:52:36.594478",
   "environment_variables": {},
   "exception": null,
   "input_path": "__notebook__.ipynb",
   "output_path": "__notebook__.ipynb",
   "parameters": {},
   "start_time": "2024-09-16T12:58:13.604415",
   "version": "2.6.0"
  }
 },
 "nbformat": 4,
 "nbformat_minor": 5
}
