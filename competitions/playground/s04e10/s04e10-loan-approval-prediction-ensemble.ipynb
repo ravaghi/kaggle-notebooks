{
 "cells": [
  {
   "cell_type": "markdown",
   "id": "d86eeb4c",
   "metadata": {
    "papermill": {
     "duration": 0.009349,
     "end_time": "2024-10-24T19:10:32.806569",
     "exception": false,
     "start_time": "2024-10-24T19:10:32.797220",
     "status": "completed"
    },
    "tags": []
   },
   "source": [
    "# Imports and configs"
   ]
  },
  {
   "cell_type": "code",
   "execution_count": 1,
   "id": "0dec3ded",
   "metadata": {
    "_kg_hide-output": true,
    "execution": {
     "iopub.execute_input": "2024-10-24T19:10:32.825987Z",
     "iopub.status.busy": "2024-10-24T19:10:32.825384Z",
     "iopub.status.idle": "2024-10-24T19:10:54.673502Z",
     "shell.execute_reply": "2024-10-24T19:10:54.672011Z"
    },
    "papermill": {
     "duration": 21.861216,
     "end_time": "2024-10-24T19:10:54.676451",
     "exception": false,
     "start_time": "2024-10-24T19:10:32.815235",
     "status": "completed"
    },
    "tags": []
   },
   "outputs": [
    {
     "name": "stdout",
     "output_type": "stream",
     "text": [
      "\u001b[31mERROR: pip's dependency resolver does not currently take into account all the packages that are installed. This behaviour is the source of the following dependency conflicts.\r\n",
      "bigframes 0.22.0 requires google-cloud-bigquery[bqstorage,pandas]>=3.10.0, but you have google-cloud-bigquery 2.34.4 which is incompatible.\r\n",
      "bigframes 0.22.0 requires google-cloud-storage>=2.0.0, but you have google-cloud-storage 1.44.0 which is incompatible.\r\n",
      "bigframes 0.22.0 requires pandas<2.1.4,>=1.5.0, but you have pandas 2.2.2 which is incompatible.\r\n",
      "cesium 0.12.3 requires numpy<3.0,>=2.0, but you have numpy 1.26.4 which is incompatible.\r\n",
      "dataproc-jupyter-plugin 0.1.79 requires pydantic~=1.10.0, but you have pydantic 2.9.2 which is incompatible.\u001b[0m\u001b[31m\r\n",
      "\u001b[0m"
     ]
    }
   ],
   "source": [
    "!pip install -q hillclimbers scikit-learn==1.5.1"
   ]
  },
  {
   "cell_type": "code",
   "execution_count": 2,
   "id": "89f61f1d",
   "metadata": {
    "execution": {
     "iopub.execute_input": "2024-10-24T19:10:54.697037Z",
     "iopub.status.busy": "2024-10-24T19:10:54.696557Z",
     "iopub.status.idle": "2024-10-24T19:10:59.548067Z",
     "shell.execute_reply": "2024-10-24T19:10:59.547038Z"
    },
    "papermill": {
     "duration": 4.865516,
     "end_time": "2024-10-24T19:10:59.550956",
     "exception": false,
     "start_time": "2024-10-24T19:10:54.685440",
     "status": "completed"
    },
    "tags": []
   },
   "outputs": [],
   "source": [
    "from sklearn.ensemble import HistGradientBoostingClassifier, GradientBoostingClassifier\n",
    "from sklearn.feature_selection import mutual_info_classif\n",
    "from sklearn.linear_model import LogisticRegression\n",
    "from sklearn.model_selection import StratifiedKFold\n",
    "from sklearn.preprocessing import OrdinalEncoder\n",
    "from sklearn.metrics import roc_auc_score\n",
    "from sklearn.base import clone\n",
    "from hillclimbers import climb_hill, partial\n",
    "from scipy.special import logit\n",
    "from catboost import CatBoostClassifier\n",
    "from lightgbm import LGBMClassifier\n",
    "from xgboost import XGBClassifier\n",
    "import matplotlib.pyplot as plt\n",
    "import seaborn as sns\n",
    "import pandas as pd\n",
    "import numpy as np\n",
    "import warnings\n",
    "import pickle\n",
    "import shutil\n",
    "import optuna\n",
    "import json\n",
    "import os\n",
    "import gc\n",
    "\n",
    "warnings.filterwarnings('ignore')"
   ]
  },
  {
   "cell_type": "code",
   "execution_count": 3,
   "id": "b6a5f674",
   "metadata": {
    "execution": {
     "iopub.execute_input": "2024-10-24T19:10:59.571070Z",
     "iopub.status.busy": "2024-10-24T19:10:59.570363Z",
     "iopub.status.idle": "2024-10-24T19:10:59.576737Z",
     "shell.execute_reply": "2024-10-24T19:10:59.575616Z"
    },
    "papermill": {
     "duration": 0.019199,
     "end_time": "2024-10-24T19:10:59.579198",
     "exception": false,
     "start_time": "2024-10-24T19:10:59.559999",
     "status": "completed"
    },
    "tags": []
   },
   "outputs": [],
   "source": [
    "class CFG:\n",
    "    train_path = '/kaggle/input/playground-series-s4e10/train.csv'\n",
    "    test_path = '/kaggle/input/playground-series-s4e10/test.csv'\n",
    "    sample_sub_path = '/kaggle/input/playground-series-s4e10/sample_submission.csv'\n",
    "    original_data_path = '/kaggle/input/loan-approval-prediction/credit_risk_dataset.csv'\n",
    "    \n",
    "    target = 'loan_status'\n",
    "    n_folds = 10\n",
    "    seed = 42"
   ]
  },
  {
   "cell_type": "markdown",
   "id": "e4896c8b",
   "metadata": {
    "papermill": {
     "duration": 0.009543,
     "end_time": "2024-10-24T19:10:59.597707",
     "exception": false,
     "start_time": "2024-10-24T19:10:59.588164",
     "status": "completed"
    },
    "tags": []
   },
   "source": [
    "# Data loading and preprocessing"
   ]
  },
  {
   "cell_type": "code",
   "execution_count": 4,
   "id": "1550f742",
   "metadata": {
    "execution": {
     "iopub.execute_input": "2024-10-24T19:10:59.623096Z",
     "iopub.status.busy": "2024-10-24T19:10:59.621835Z",
     "iopub.status.idle": "2024-10-24T19:10:59.893341Z",
     "shell.execute_reply": "2024-10-24T19:10:59.892078Z"
    },
    "papermill": {
     "duration": 0.288632,
     "end_time": "2024-10-24T19:10:59.897248",
     "exception": false,
     "start_time": "2024-10-24T19:10:59.608616",
     "status": "completed"
    },
    "tags": []
   },
   "outputs": [
    {
     "data": {
      "text/plain": [
       "((58645, 12), (39098, 11))"
      ]
     },
     "execution_count": 4,
     "metadata": {},
     "output_type": "execute_result"
    }
   ],
   "source": [
    "train = pd.read_csv(CFG.train_path, index_col='id')\n",
    "test = pd.read_csv(CFG.test_path, index_col='id')\n",
    "\n",
    "train.shape, test.shape"
   ]
  },
  {
   "cell_type": "code",
   "execution_count": 5,
   "id": "34ff1b60",
   "metadata": {
    "execution": {
     "iopub.execute_input": "2024-10-24T19:10:59.917841Z",
     "iopub.status.busy": "2024-10-24T19:10:59.917410Z",
     "iopub.status.idle": "2024-10-24T19:10:59.946828Z",
     "shell.execute_reply": "2024-10-24T19:10:59.945818Z"
    },
    "papermill": {
     "duration": 0.043629,
     "end_time": "2024-10-24T19:10:59.950304",
     "exception": false,
     "start_time": "2024-10-24T19:10:59.906675",
     "status": "completed"
    },
    "tags": []
   },
   "outputs": [
    {
     "name": "stdout",
     "output_type": "stream",
     "text": [
      "<class 'pandas.core.frame.DataFrame'>\n",
      "Index: 58645 entries, 0 to 58644\n",
      "Data columns (total 12 columns):\n",
      " #   Column                      Non-Null Count  Dtype  \n",
      "---  ------                      --------------  -----  \n",
      " 0   person_age                  58645 non-null  int64  \n",
      " 1   person_income               58645 non-null  int64  \n",
      " 2   person_home_ownership       58645 non-null  object \n",
      " 3   person_emp_length           58645 non-null  float64\n",
      " 4   loan_intent                 58645 non-null  object \n",
      " 5   loan_grade                  58645 non-null  object \n",
      " 6   loan_amnt                   58645 non-null  int64  \n",
      " 7   loan_int_rate               58645 non-null  float64\n",
      " 8   loan_percent_income         58645 non-null  float64\n",
      " 9   cb_person_default_on_file   58645 non-null  object \n",
      " 10  cb_person_cred_hist_length  58645 non-null  int64  \n",
      " 11  loan_status                 58645 non-null  int64  \n",
      "dtypes: float64(3), int64(5), object(4)\n",
      "memory usage: 5.8+ MB\n"
     ]
    }
   ],
   "source": [
    "train.info()"
   ]
  },
  {
   "cell_type": "code",
   "execution_count": 6,
   "id": "9083f9ae",
   "metadata": {
    "execution": {
     "iopub.execute_input": "2024-10-24T19:10:59.974563Z",
     "iopub.status.busy": "2024-10-24T19:10:59.974120Z",
     "iopub.status.idle": "2024-10-24T19:10:59.993726Z",
     "shell.execute_reply": "2024-10-24T19:10:59.992473Z"
    },
    "papermill": {
     "duration": 0.033714,
     "end_time": "2024-10-24T19:10:59.997158",
     "exception": false,
     "start_time": "2024-10-24T19:10:59.963444",
     "status": "completed"
    },
    "tags": []
   },
   "outputs": [
    {
     "name": "stdout",
     "output_type": "stream",
     "text": [
      "<class 'pandas.core.frame.DataFrame'>\n",
      "Index: 39098 entries, 58645 to 97742\n",
      "Data columns (total 11 columns):\n",
      " #   Column                      Non-Null Count  Dtype  \n",
      "---  ------                      --------------  -----  \n",
      " 0   person_age                  39098 non-null  int64  \n",
      " 1   person_income               39098 non-null  int64  \n",
      " 2   person_home_ownership       39098 non-null  object \n",
      " 3   person_emp_length           39098 non-null  float64\n",
      " 4   loan_intent                 39098 non-null  object \n",
      " 5   loan_grade                  39098 non-null  object \n",
      " 6   loan_amnt                   39098 non-null  int64  \n",
      " 7   loan_int_rate               39098 non-null  float64\n",
      " 8   loan_percent_income         39098 non-null  float64\n",
      " 9   cb_person_default_on_file   39098 non-null  object \n",
      " 10  cb_person_cred_hist_length  39098 non-null  int64  \n",
      "dtypes: float64(3), int64(4), object(4)\n",
      "memory usage: 3.6+ MB\n"
     ]
    }
   ],
   "source": [
    "test.info()"
   ]
  },
  {
   "cell_type": "code",
   "execution_count": 7,
   "id": "20fe5204",
   "metadata": {
    "execution": {
     "iopub.execute_input": "2024-10-24T19:11:00.017814Z",
     "iopub.status.busy": "2024-10-24T19:11:00.017343Z",
     "iopub.status.idle": "2024-10-24T19:11:00.030412Z",
     "shell.execute_reply": "2024-10-24T19:11:00.029168Z"
    },
    "papermill": {
     "duration": 0.02628,
     "end_time": "2024-10-24T19:11:00.032858",
     "exception": false,
     "start_time": "2024-10-24T19:11:00.006578",
     "status": "completed"
    },
    "tags": []
   },
   "outputs": [
    {
     "data": {
      "text/plain": [
       "loan_status\n",
       "0    0.857618\n",
       "1    0.142382\n",
       "Name: proportion, dtype: float64"
      ]
     },
     "execution_count": 7,
     "metadata": {},
     "output_type": "execute_result"
    }
   ],
   "source": [
    "train.loan_status.value_counts(normalize=True)"
   ]
  },
  {
   "cell_type": "code",
   "execution_count": 8,
   "id": "c716ff29",
   "metadata": {
    "execution": {
     "iopub.execute_input": "2024-10-24T19:11:00.054674Z",
     "iopub.status.busy": "2024-10-24T19:11:00.053610Z",
     "iopub.status.idle": "2024-10-24T19:11:01.410920Z",
     "shell.execute_reply": "2024-10-24T19:11:01.409635Z"
    },
    "papermill": {
     "duration": 1.371483,
     "end_time": "2024-10-24T19:11:01.414085",
     "exception": false,
     "start_time": "2024-10-24T19:11:00.042602",
     "status": "completed"
    },
    "tags": []
   },
   "outputs": [
    {
     "data": {
      "image/png": "[encoded data removed]",
      "text/plain": [
       "<Figure size 2000x1000 with 4 Axes>"
      ]
     },
     "metadata": {},
     "output_type": "display_data"
    }
   ],
   "source": [
    "cat_cols = train.select_dtypes(include='object').columns.tolist()\n",
    "\n",
    "palette = {0: sns.color_palette(\"Set2\")[1], 1: sns.color_palette(\"Set2\")[0]}\n",
    "fig, axes = plt.subplots(2, 2, figsize=(20, 10))\n",
    "axes = axes.flatten()\n",
    "for i, col in enumerate(cat_cols):\n",
    "    sns.countplot(data=train, x=col, hue=CFG.target, ax=axes[i], palette=palette)\n",
    "    axes[i].set_title(f'{col} distribution')\n",
    "    axes[i].set_ylabel('')\n",
    "    axes[i].set_xlabel('')\n",
    "\n",
    "plt.tight_layout()\n",
    "plt.show()"
   ]
  },
  {
   "cell_type": "markdown",
   "id": "d6021963",
   "metadata": {
    "papermill": {
     "duration": 0.01082,
     "end_time": "2024-10-24T19:11:01.436269",
     "exception": false,
     "start_time": "2024-10-24T19:11:01.425449",
     "status": "completed"
    },
    "tags": []
   },
   "source": [
    "**Observations**:\n",
    "- The dataset is relatively small compared to those we've seen in recent months in the playground series. It is also imbalanced, with the minority class representing less than 15%.\n",
    "- It contains 4 categorical features, all of which have low cardinality. The remaining features are numerical.\n",
    "- There are no missing values.\n",
    "\n",
    "Most of the models I plan to use can by default handle categorical features. However, `HistGradientBoostingClassifier` only accepts numerical features. For this model, I will encode the categorical features using `OrdinalEncoder`.\n",
    "\n",
    "Below, I have created a small function that converts the data types of categorical features to the `category` type and encodes them into numerical values if necessary. The same preprocessing steps are also applied to the original dataset. Note that the original dataset will only be used for training, for validation during training only the competition data is used."
   ]
  },
  {
   "cell_type": "code",
   "execution_count": 9,
   "id": "c9db5101",
   "metadata": {
    "execution": {
     "iopub.execute_input": "2024-10-24T19:11:01.460075Z",
     "iopub.status.busy": "2024-10-24T19:11:01.459617Z",
     "iopub.status.idle": "2024-10-24T19:11:01.471133Z",
     "shell.execute_reply": "2024-10-24T19:11:01.470083Z"
    },
    "papermill": {
     "duration": 0.026374,
     "end_time": "2024-10-24T19:11:01.473716",
     "exception": false,
     "start_time": "2024-10-24T19:11:01.447342",
     "status": "completed"
    },
    "tags": []
   },
   "outputs": [],
   "source": [
    "def get_data(encode=False, impute=False, for_catboost=False):\n",
    "    train = pd.read_csv(CFG.train_path, index_col='id')\n",
    "    test = pd.read_csv(CFG.test_path, index_col='id')\n",
    "    original = pd.read_csv(CFG.original_data_path)\n",
    "    \n",
    "    if impute:\n",
    "        original['person_emp_length'] = original['person_emp_length'].fillna(original['person_emp_length'].median())\n",
    "        original['loan_int_rate'] = original['loan_int_rate'].fillna(original['loan_int_rate'].mean())\n",
    "    \n",
    "    if for_catboost:\n",
    "        cat_cols = test.columns.tolist()\n",
    "    else:\n",
    "        cat_cols = test.select_dtypes(include='object').columns.tolist()\n",
    "        \n",
    "    train[cat_cols] = train[cat_cols].astype(str).astype('category')\n",
    "    test[cat_cols] = test[cat_cols].astype(str).astype('category')\n",
    "    original[cat_cols] = original[cat_cols].astype(str).astype('category')\n",
    "    \n",
    "    if encode:\n",
    "        encoder = OrdinalEncoder()\n",
    "        train[cat_cols] = encoder.fit_transform(train[cat_cols])\n",
    "        test[cat_cols] = encoder.transform(test[cat_cols])\n",
    "        original[cat_cols] = encoder.transform(original[cat_cols])\n",
    "        \n",
    "    X = train.drop(CFG.target, axis=1)\n",
    "    y = train[CFG.target]\n",
    "    X_test = test\n",
    "    \n",
    "    X_original = original.drop(CFG.target, axis=1)\n",
    "    y_original = original[CFG.target]\n",
    "    \n",
    "    return X, y, X_test, X_original, y_original"
   ]
  },
  {
   "cell_type": "markdown",
   "id": "a7c9e48b",
   "metadata": {
    "papermill": {
     "duration": 0.010722,
     "end_time": "2024-10-24T19:11:01.495464",
     "exception": false,
     "start_time": "2024-10-24T19:11:01.484742",
     "status": "completed"
    },
    "tags": []
   },
   "source": [
    "Both correlation and mutual information show that there is little signal in `person_age` and `cb_person_cred_hist_length`. However, I'll leave both of them in the dataset since there is some signal in them."
   ]
  },
  {
   "cell_type": "code",
   "execution_count": 10,
   "id": "182aae53",
   "metadata": {
    "execution": {
     "iopub.execute_input": "2024-10-24T19:11:01.520289Z",
     "iopub.status.busy": "2024-10-24T19:11:01.519179Z",
     "iopub.status.idle": "2024-10-24T19:11:05.904974Z",
     "shell.execute_reply": "2024-10-24T19:11:05.903862Z"
    },
    "papermill": {
     "duration": 4.400799,
     "end_time": "2024-10-24T19:11:05.907631",
     "exception": false,
     "start_time": "2024-10-24T19:11:01.506832",
     "status": "completed"
    },
    "tags": []
   },
   "outputs": [
    {
     "data": {
      "text/html": [
       "<style type=\"text/css\">\n",
       "#T_c77d3_row0_col0 {\n",
       "  width: 10em;\n",
       "  background: linear-gradient(90deg, #006837 100.0%, transparent 100.0%);\n",
       "}\n",
       "#T_c77d3_row1_col0 {\n",
       "  width: 10em;\n",
       "  background: linear-gradient(90deg, #36a657 86.0%, transparent 86.0%);\n",
       "}\n",
       "#T_c77d3_row2_col0 {\n",
       "  width: 10em;\n",
       "  background: linear-gradient(90deg, #45ad5b 84.4%, transparent 84.4%);\n",
       "}\n",
       "#T_c77d3_row3_col0 {\n",
       "  width: 10em;\n",
       "  background: linear-gradient(90deg, #54b45f 82.3%, transparent 82.3%);\n",
       "}\n",
       "#T_c77d3_row4_col0 {\n",
       "  width: 10em;\n",
       "  background: linear-gradient(90deg, #fee797 42.4%, transparent 42.4%);\n",
       "}\n",
       "#T_c77d3_row5_col0 {\n",
       "  width: 10em;\n",
       "  background: linear-gradient(90deg, #ea5739 16.5%, transparent 16.5%);\n",
       "}\n",
       "#T_c77d3_row6_col0 {\n",
       "  width: 10em;\n",
       "  background: linear-gradient(90deg, #e34933 14.4%, transparent 14.4%);\n",
       "}\n",
       "#T_c77d3_row7_col0 {\n",
       "  width: 10em;\n",
       "  background: linear-gradient(90deg, #ce2827 8.6%, transparent 8.6%);\n",
       "}\n",
       "#T_c77d3_row8_col0 {\n",
       "  width: 10em;\n",
       "  background: linear-gradient(90deg, #c41e27 6.4%, transparent 6.4%);\n",
       "}\n",
       "#T_c77d3_row9_col0 {\n",
       "  width: 10em;\n",
       "  background: linear-gradient(90deg, #ad0826 1.7%, transparent 1.7%);\n",
       "}\n",
       "#T_c77d3_row10_col0 {\n",
       "  width: 10em;\n",
       "  background: linear-gradient(90deg, #a70226 0.8%, transparent 0.8%);\n",
       "}\n",
       "</style>\n",
       "<table id=\"T_c77d3\">\n",
       "  <thead>\n",
       "    <tr>\n",
       "      <th class=\"blank level0\" >&nbsp;</th>\n",
       "      <th id=\"T_c77d3_level0_col0\" class=\"col_heading level0 col0\" >Mutual Information</th>\n",
       "    </tr>\n",
       "  </thead>\n",
       "  <tbody>\n",
       "    <tr>\n",
       "      <th id=\"T_c77d3_level0_row0\" class=\"row_heading level0 row0\" >person_income</th>\n",
       "      <td id=\"T_c77d3_row0_col0\" class=\"data row0 col0\" >0.097826</td>\n",
       "    </tr>\n",
       "    <tr>\n",
       "      <th id=\"T_c77d3_level0_row1\" class=\"row_heading level0 row1\" >loan_int_rate</th>\n",
       "      <td id=\"T_c77d3_row1_col0\" class=\"data row1 col0\" >0.084167</td>\n",
       "    </tr>\n",
       "    <tr>\n",
       "      <th id=\"T_c77d3_level0_row2\" class=\"row_heading level0 row2\" >loan_percent_income</th>\n",
       "      <td id=\"T_c77d3_row2_col0\" class=\"data row2 col0\" >0.082536</td>\n",
       "    </tr>\n",
       "    <tr>\n",
       "      <th id=\"T_c77d3_level0_row3\" class=\"row_heading level0 row3\" >loan_grade</th>\n",
       "      <td id=\"T_c77d3_row3_col0\" class=\"data row3 col0\" >0.080511</td>\n",
       "    </tr>\n",
       "    <tr>\n",
       "      <th id=\"T_c77d3_level0_row4\" class=\"row_heading level0 row4\" >person_home_ownership</th>\n",
       "      <td id=\"T_c77d3_row4_col0\" class=\"data row4 col0\" >0.041433</td>\n",
       "    </tr>\n",
       "    <tr>\n",
       "      <th id=\"T_c77d3_level0_row5\" class=\"row_heading level0 row5\" >loan_amnt</th>\n",
       "      <td id=\"T_c77d3_row5_col0\" class=\"data row5 col0\" >0.016160</td>\n",
       "    </tr>\n",
       "    <tr>\n",
       "      <th id=\"T_c77d3_level0_row6\" class=\"row_heading level0 row6\" >cb_person_default_on_file</th>\n",
       "      <td id=\"T_c77d3_row6_col0\" class=\"data row6 col0\" >0.014135</td>\n",
       "    </tr>\n",
       "    <tr>\n",
       "      <th id=\"T_c77d3_level0_row7\" class=\"row_heading level0 row7\" >person_emp_length</th>\n",
       "      <td id=\"T_c77d3_row7_col0\" class=\"data row7 col0\" >0.008371</td>\n",
       "    </tr>\n",
       "    <tr>\n",
       "      <th id=\"T_c77d3_level0_row8\" class=\"row_heading level0 row8\" >loan_intent</th>\n",
       "      <td id=\"T_c77d3_row8_col0\" class=\"data row8 col0\" >0.006237</td>\n",
       "    </tr>\n",
       "    <tr>\n",
       "      <th id=\"T_c77d3_level0_row9\" class=\"row_heading level0 row9\" >cb_person_cred_hist_length</th>\n",
       "      <td id=\"T_c77d3_row9_col0\" class=\"data row9 col0\" >0.001656</td>\n",
       "    </tr>\n",
       "    <tr>\n",
       "      <th id=\"T_c77d3_level0_row10\" class=\"row_heading level0 row10\" >person_age</th>\n",
       "      <td id=\"T_c77d3_row10_col0\" class=\"data row10 col0\" >0.000739</td>\n",
       "    </tr>\n",
       "  </tbody>\n",
       "</table>\n"
      ],
      "text/plain": [
       "<pandas.io.formats.style.Styler at 0x798186c392d0>"
      ]
     },
     "execution_count": 10,
     "metadata": {},
     "output_type": "execute_result"
    }
   ],
   "source": [
    "X_mi, y_mi, _, _, _ = get_data(encode=True)\n",
    "\n",
    "mutual_info = mutual_info_classif(X_mi, y_mi, random_state=CFG.seed)\n",
    "\n",
    "mutual_info = pd.Series(mutual_info)\n",
    "mutual_info.index = X_mi.columns\n",
    "mutual_info = pd.DataFrame(mutual_info.sort_values(ascending=False), columns=['Mutual Information'])\n",
    "mutual_info.style.bar(subset=['Mutual Information'], cmap='RdYlGn')"
   ]
  },
  {
   "cell_type": "code",
   "execution_count": 11,
   "id": "9a667f43",
   "metadata": {
    "execution": {
     "iopub.execute_input": "2024-10-24T19:11:05.933213Z",
     "iopub.status.busy": "2024-10-24T19:11:05.932253Z",
     "iopub.status.idle": "2024-10-24T19:11:06.646135Z",
     "shell.execute_reply": "2024-10-24T19:11:06.644839Z"
    },
    "papermill": {
     "duration": 0.730076,
     "end_time": "2024-10-24T19:11:06.649361",
     "exception": false,
     "start_time": "2024-10-24T19:11:05.919285",
     "status": "completed"
    },
    "tags": []
   },
   "outputs": [
    {
     "data": {
      "image/png": "[encoded data removed]",
      "text/plain": [
       "<Figure size 800x800 with 1 Axes>"
      ]
     },
     "metadata": {},
     "output_type": "display_data"
    }
   ],
   "source": [
    "sns.set_style(\"white\")\n",
    "plt.figure(figsize=(8, 8))\n",
    "\n",
    "corr_train = pd.concat([X_mi, y_mi], axis=1).corr()\n",
    "mask_train = np.triu(np.ones_like(corr_train, dtype=bool), k=1)\n",
    "\n",
    "sns.heatmap(\n",
    "    data=corr_train,\n",
    "    annot=True,\n",
    "    fmt='.4f',\n",
    "    mask=mask_train,\n",
    "    square=True,\n",
    "    cmap='coolwarm',\n",
    "    annot_kws={'size': 8},\n",
    "    cbar=False\n",
    ")\n",
    "\n",
    "plt.tight_layout()\n",
    "plt.show()"
   ]
  },
  {
   "cell_type": "markdown",
   "id": "7faca6ab",
   "metadata": {
    "papermill": {
     "duration": 0.012946,
     "end_time": "2024-10-24T19:11:06.676153",
     "exception": false,
     "start_time": "2024-10-24T19:11:06.663207",
     "status": "completed"
    },
    "tags": []
   },
   "source": [
    "# Training base models\n",
    "\n",
    "To simplify the process of training, cross-validation, and inference, etc. I will create a class that handles all the necessary logic. This class will do cross-validation using `StratifiedKFold`, train the models, save their out-of-fold predictions, and create a submission file for the final ensemble model."
   ]
  },
  {
   "cell_type": "code",
   "execution_count": 12,
   "id": "e86f1481",
   "metadata": {
    "execution": {
     "iopub.execute_input": "2024-10-24T19:11:06.704597Z",
     "iopub.status.busy": "2024-10-24T19:11:06.704147Z",
     "iopub.status.idle": "2024-10-24T19:11:06.727116Z",
     "shell.execute_reply": "2024-10-24T19:11:06.725947Z"
    },
    "papermill": {
     "duration": 0.040193,
     "end_time": "2024-10-24T19:11:06.729567",
     "exception": false,
     "start_time": "2024-10-24T19:11:06.689374",
     "status": "completed"
    },
    "tags": []
   },
   "outputs": [],
   "source": [
    "class Trainer:\n",
    "    def __init__(self, model, config=CFG, is_ensemble_model=False):\n",
    "        self.model = model\n",
    "        self.config = config\n",
    "        self.is_ensemble_model = is_ensemble_model\n",
    "\n",
    "    def fit_predict(self, X, y, X_test, X_original=None, y_original=None):\n",
    "        print(f'Training {self.model.__class__.__name__}\\n')\n",
    "        \n",
    "        scores = []        \n",
    "        coeffs = np.zeros((1, X.shape[1]))\n",
    "        oof_pred_probs = np.zeros((X.shape[0], len(np.unique(y))))\n",
    "        test_pred_probs = np.zeros((X_test.shape[0], len(np.unique(y))))\n",
    "        \n",
    "        skf = StratifiedKFold(n_splits=self.config.n_folds, random_state=self.config.seed, shuffle=True)\n",
    "        for fold_idx, (train_idx, val_idx) in enumerate(skf.split(X, y)):\n",
    "            X_train, X_val = X.iloc[train_idx], X.iloc[val_idx]\n",
    "            y_train, y_val = y[train_idx], y[val_idx]\n",
    "            \n",
    "            if not self.is_ensemble_model:\n",
    "                X_train = pd.concat([X_train, X_original], ignore_index=True)\n",
    "                y_train = pd.concat([y_train, y_original], ignore_index=True)\n",
    "            \n",
    "            model = clone(self.model)\n",
    "            model.fit(X_train, y_train)\n",
    "            \n",
    "            if self.is_ensemble_model:\n",
    "                coeffs += model.coef_ / self.config.n_folds\n",
    "                n_iters = model.n_iter_[0]\n",
    "            \n",
    "            y_pred_probs = model.predict_proba(X_val)\n",
    "            oof_pred_probs[val_idx] = y_pred_probs \n",
    "            \n",
    "            temp_test_pred_probs = model.predict_proba(X_test)\n",
    "            test_pred_probs += temp_test_pred_probs / self.config.n_folds\n",
    "            \n",
    "            score = roc_auc_score(y_val, y_pred_probs[:, 1])\n",
    "            scores.append(score)\n",
    "            \n",
    "            del model, X_train, y_train, X_val, y_val, y_pred_probs\n",
    "            gc.collect()\n",
    "            \n",
    "            if self.is_ensemble_model:\n",
    "                print(f'--- Fold {fold_idx + 1} - AUC: {score:.6f} ({n_iters} iterations)')\n",
    "            else:\n",
    "                print(f'--- Fold {fold_idx + 1} - AUC: {score:.6f}')\n",
    "            \n",
    "        overall_score = roc_auc_score(y, oof_pred_probs[:, 1])\n",
    "            \n",
    "        print(f'\\n------ Overall: {overall_score:.6f} | Average: {np.mean(scores):.6f} ± {np.std(scores):.6f}')\n",
    "        \n",
    "        if self.is_ensemble_model:\n",
    "            self._save_submission(test_pred_probs, np.mean(scores))\n",
    "            return scores, coeffs\n",
    "        else:\n",
    "            os.makedirs('oof_pred_probs', exist_ok=True)\n",
    "            os.makedirs('test_pred_probs', exist_ok=True)\n",
    "            self._save_pred_probs(oof_pred_probs, np.mean(scores), 'oof')\n",
    "            self._save_pred_probs(test_pred_probs, np.mean(scores), 'test')\n",
    "            return oof_pred_probs[:, 1], test_pred_probs[:, 1], scores\n",
    "        \n",
    "    def fit(self, X, y):\n",
    "        scores = []                \n",
    "        skf = StratifiedKFold(n_splits=self.config.n_folds, random_state=self.config.seed, shuffle=True)\n",
    "        for fold_idx, (train_idx, val_idx) in enumerate(skf.split(X, y)):\n",
    "            X_train, X_val = X.iloc[train_idx], X.iloc[val_idx]\n",
    "            y_train, y_val = y[train_idx], y[val_idx]\n",
    "            \n",
    "            model = clone(self.model)\n",
    "            model.fit(X_train, y_train)\n",
    "            \n",
    "            y_pred_probs = model.predict_proba(X_val)[:, 1]            \n",
    "            score = roc_auc_score(y_val, y_pred_probs)\n",
    "            scores.append(score)\n",
    "            \n",
    "            del model, X_train, y_train, X_val, y_val, y_pred_probs\n",
    "            gc.collect() \n",
    "        \n",
    "        return np.mean(scores)\n",
    "        \n",
    "    def _save_pred_probs(self, pred_probs, cv_score, name):\n",
    "        model_name = self.model.__class__.__name__.lower().replace('classifier', '')\n",
    "        with open(f'{name}_pred_probs/{model_name}_{name}_pred_probs_{cv_score:.6f}.pkl', 'wb') as f:\n",
    "            pickle.dump(pred_probs, f)\n",
    "    \n",
    "    def _save_submission(self, test_pred_probs, score):\n",
    "        name = self.model.__class__.__name__.lower().replace('classifier', '')\n",
    "        sub = pd.read_csv(self.config.sample_sub_path)\n",
    "        sub[self.config.target] = test_pred_probs[:, 1]\n",
    "        sub.to_csv(f'sub_{name}_{score:.6f}.csv', index=False)"
   ]
  },
  {
   "cell_type": "code",
   "execution_count": 13,
   "id": "06c89cda",
   "metadata": {
    "_kg_hide-input": true,
    "execution": {
     "iopub.execute_input": "2024-10-24T19:11:06.757871Z",
     "iopub.status.busy": "2024-10-24T19:11:06.757427Z",
     "iopub.status.idle": "2024-10-24T19:11:06.771946Z",
     "shell.execute_reply": "2024-10-24T19:11:06.770822Z"
    },
    "papermill": {
     "duration": 0.031307,
     "end_time": "2024-10-24T19:11:06.774287",
     "exception": false,
     "start_time": "2024-10-24T19:11:06.742980",
     "status": "completed"
    },
    "tags": []
   },
   "outputs": [],
   "source": [
    "hgb_params = {\n",
    "    'categorical_features': 'from_dtype',\n",
    "    'l2_regularization': 3.2797348813056515,\n",
    "    'learning_rate': 0.04290001508632896,\n",
    "    'max_depth': 292,\n",
    "    'max_features': 0.9605841946578942,\n",
    "    'max_iter': 2978,\n",
    "    'max_leaf_nodes': 38,\n",
    "    'min_samples_leaf': 254,\n",
    "    'random_state': 42\n",
    "}\n",
    "\n",
    "gb_params = {\n",
    "    'learning_rate': 0.08833803004190711,\n",
    "    'max_depth': 43,\n",
    "    'max_features': 0.9108379326449616,\n",
    "    'max_leaf_nodes': 90,\n",
    "    'min_samples_leaf': 0.001406080753553085,\n",
    "    'min_samples_split': 0.2161329645048441,\n",
    "    'min_weight_fraction_leaf': 0.0084269442985479,\n",
    "    'n_estimators': 1007,\n",
    "    'random_state': 1859,\n",
    "    'subsample': 0.8524736400390328\n",
    "}\n",
    "\n",
    "xgb_params = {\n",
    "    'colsample_bylevel': 0.8287361902765281,\n",
    "    'colsample_bynode': 0.9423662188378386,\n",
    "    'colsample_bytree': 0.5290351130333819,\n",
    "    'enable_categorical': True,\n",
    "    'gamma': 2.0820586756868225,\n",
    "    'max_depth': 38,\n",
    "    'max_leaves': 13,\n",
    "    'min_child_weight': 39.97571206223997,\n",
    "    'n_estimators': 1108,\n",
    "    'n_jobs': -1,\n",
    "    'random_state': 1859,\n",
    "    'reg_alpha': 2.0350480894293685,\n",
    "    'reg_lambda': 5.736601364769634,\n",
    "    'scale_pos_weight': 8.694642665692317,\n",
    "    'subsample': 0.9781226079064314,\n",
    "    'verbosity': 0\n",
    "}\n",
    "\n",
    "lgbm_params = {\n",
    "    'boosting_type': 'gbdt',\n",
    "    'colsample_bytree': 0.26277977207676884,\n",
    "    'learning_rate': 0.07940835097768287,\n",
    "    'max_bins': 2960,\n",
    "    'min_child_samples': 153,\n",
    "    'min_child_weight': 0.6647684362329642,\n",
    "    'n_estimators': 1430,\n",
    "    'n_jobs': -1,\n",
    "    'num_leaves': 476,\n",
    "    'random_state': 42,\n",
    "    'reg_alpha': 43.81436264889119,\n",
    "    'reg_lambda': 23.726449306831626,\n",
    "    'scale_pos_weight': 31.815372683135543,\n",
    "    'subsample': 0.8741989238718226,\n",
    "    'verbose': -1\n",
    "}\n",
    "\n",
    "lgbm_dart_params = {\n",
    "    'boosting_type': 'dart',\n",
    "    'colsample_bytree': 0.46939540409784575,\n",
    "    'learning_rate': 0.0877911638744417,\n",
    "    'min_child_samples': 61,\n",
    "    'min_child_weight': 0.7580677713575383,\n",
    "    'n_estimators': 877,\n",
    "    'n_jobs': -1,\n",
    "    'num_leaves': 35,\n",
    "    'random_state': 1859,\n",
    "    'reg_alpha': 2.5638237507752457,\n",
    "    'reg_lambda': 1.8975230326974724,\n",
    "    'scale_pos_weight': 2.7023753131827455,\n",
    "    'subsample': 0.8009452917870442,\n",
    "    'verbose': -1\n",
    "}\n",
    "\n",
    "lgbm_goss_params = {\n",
    "    'boosting_type': 'goss',\n",
    "    'colsample_bytree': 0.24954643970263424,\n",
    "    'learning_rate': 0.07188725215845243,\n",
    "    'max_bins': 5626,\n",
    "    'min_child_samples': 22,\n",
    "    'min_child_weight': 0.7179252102190649,\n",
    "    'n_estimators': 1319,\n",
    "    'n_jobs': -1,\n",
    "    'num_leaves': 21,\n",
    "    'random_state': 42,\n",
    "    'reg_alpha': 6.047743594793198,\n",
    "    'reg_lambda': 5.277073776908381,\n",
    "    'scale_pos_weight': 5.885539605359165,\n",
    "    'subsample': 0.16046944461130142,\n",
    "    'verbose': -1\n",
    "}\n",
    "\n",
    "cb_params = {\n",
    "    'border_count': 233,\n",
    "    'colsample_bylevel': 0.411551721028093,\n",
    "    'depth': 8,\n",
    "    'iterations': 1664,\n",
    "    'l2_leaf_reg': 1.5162407257384525,\n",
    "    'learning_rate': 0.01380027964891961,\n",
    "    'min_child_samples': 218,\n",
    "    'random_state': 1859,\n",
    "    'random_strength': 0.4028418793015393,\n",
    "    'scale_pos_weight': 1.7183429881588008,\n",
    "    'subsample': 0.996166121986487,\n",
    "    'verbose': False\n",
    "}"
   ]
  },
  {
   "cell_type": "code",
   "execution_count": 14,
   "id": "146300ca",
   "metadata": {
    "execution": {
     "iopub.execute_input": "2024-10-24T19:11:06.803901Z",
     "iopub.status.busy": "2024-10-24T19:11:06.803242Z",
     "iopub.status.idle": "2024-10-24T19:11:06.808604Z",
     "shell.execute_reply": "2024-10-24T19:11:06.807573Z"
    },
    "papermill": {
     "duration": 0.022277,
     "end_time": "2024-10-24T19:11:06.811097",
     "exception": false,
     "start_time": "2024-10-24T19:11:06.788820",
     "status": "completed"
    },
    "tags": []
   },
   "outputs": [],
   "source": [
    "scores = {}\n",
    "oof_pred_probs = {}\n",
    "test_pred_probs = {}"
   ]
  },
  {
   "cell_type": "code",
   "execution_count": 15,
   "id": "f125a58d",
   "metadata": {
    "execution": {
     "iopub.execute_input": "2024-10-24T19:11:06.839647Z",
     "iopub.status.busy": "2024-10-24T19:11:06.839225Z",
     "iopub.status.idle": "2024-10-24T19:12:32.139045Z",
     "shell.execute_reply": "2024-10-24T19:12:32.137949Z"
    },
    "papermill": {
     "duration": 85.316801,
     "end_time": "2024-10-24T19:12:32.141433",
     "exception": false,
     "start_time": "2024-10-24T19:11:06.824632",
     "status": "completed"
    },
    "tags": []
   },
   "outputs": [
    {
     "name": "stdout",
     "output_type": "stream",
     "text": [
      "Training HistGradientBoostingClassifier\n",
      "\n",
      "--- Fold 1 - AUC: 0.956944\n",
      "--- Fold 2 - AUC: 0.952018\n",
      "--- Fold 3 - AUC: 0.963487\n",
      "--- Fold 4 - AUC: 0.962160\n",
      "--- Fold 5 - AUC: 0.958239\n",
      "--- Fold 6 - AUC: 0.953267\n",
      "--- Fold 7 - AUC: 0.959733\n",
      "--- Fold 8 - AUC: 0.959716\n",
      "--- Fold 9 - AUC: 0.960395\n",
      "--- Fold 10 - AUC: 0.955602\n",
      "\n",
      "------ Overall: 0.958084 | Average: 0.958156 ± 0.003521\n"
     ]
    }
   ],
   "source": [
    "X, y, X_test, X_original, y_original = get_data(encode=False, impute=False)\n",
    "hgb_model = HistGradientBoostingClassifier(**hgb_params)\n",
    "hgb_trainer = Trainer(hgb_model)\n",
    "oof_pred_probs['HistGB'], test_pred_probs['HistGB'], scores['HistGB'] = hgb_trainer.fit_predict(X, y, X_test, X_original, y_original)"
   ]
  },
  {
   "cell_type": "code",
   "execution_count": 16,
   "id": "2529beb0",
   "metadata": {
    "execution": {
     "iopub.execute_input": "2024-10-24T19:12:32.171214Z",
     "iopub.status.busy": "2024-10-24T19:12:32.170800Z",
     "iopub.status.idle": "2024-10-24T19:50:41.089935Z",
     "shell.execute_reply": "2024-10-24T19:50:41.088709Z"
    },
    "papermill": {
     "duration": 2288.95139,
     "end_time": "2024-10-24T19:50:41.106994",
     "exception": false,
     "start_time": "2024-10-24T19:12:32.155604",
     "status": "completed"
    },
    "tags": []
   },
   "outputs": [
    {
     "name": "stdout",
     "output_type": "stream",
     "text": [
      "Training GradientBoostingClassifier\n",
      "\n",
      "--- Fold 1 - AUC: 0.959789\n",
      "--- Fold 2 - AUC: 0.954711\n",
      "--- Fold 3 - AUC: 0.967951\n",
      "--- Fold 4 - AUC: 0.965224\n",
      "--- Fold 5 - AUC: 0.961328\n",
      "--- Fold 6 - AUC: 0.958538\n",
      "--- Fold 7 - AUC: 0.961706\n",
      "--- Fold 8 - AUC: 0.964061\n",
      "--- Fold 9 - AUC: 0.963288\n",
      "--- Fold 10 - AUC: 0.960343\n",
      "\n",
      "------ Overall: 0.961688 | Average: 0.961694 ± 0.003522\n"
     ]
    }
   ],
   "source": [
    "X, y, X_test, X_original, y_original = get_data(encode=True, impute=True)\n",
    "gb_model = GradientBoostingClassifier(**gb_params)\n",
    "gb_trainer = Trainer(gb_model)\n",
    "oof_pred_probs['GradientBoosting'], test_pred_probs['GradientBoosting'], scores['GradientBoosting'] = gb_trainer.fit_predict(X, y, X_test, X_original, y_original)"
   ]
  },
  {
   "cell_type": "code",
   "execution_count": 17,
   "id": "9dd459b7",
   "metadata": {
    "execution": {
     "iopub.execute_input": "2024-10-24T19:50:41.139317Z",
     "iopub.status.busy": "2024-10-24T19:50:41.138436Z",
     "iopub.status.idle": "2024-10-24T19:51:26.372826Z",
     "shell.execute_reply": "2024-10-24T19:51:26.371800Z"
    },
    "papermill": {
     "duration": 45.253226,
     "end_time": "2024-10-24T19:51:26.375293",
     "exception": false,
     "start_time": "2024-10-24T19:50:41.122067",
     "status": "completed"
    },
    "tags": []
   },
   "outputs": [
    {
     "name": "stdout",
     "output_type": "stream",
     "text": [
      "Training XGBClassifier\n",
      "\n",
      "--- Fold 1 - AUC: 0.955595\n",
      "--- Fold 2 - AUC: 0.954150\n",
      "--- Fold 3 - AUC: 0.966609\n",
      "--- Fold 4 - AUC: 0.966479\n",
      "--- Fold 5 - AUC: 0.959810\n",
      "--- Fold 6 - AUC: 0.955758\n",
      "--- Fold 7 - AUC: 0.959522\n",
      "--- Fold 8 - AUC: 0.960249\n",
      "--- Fold 9 - AUC: 0.963413\n",
      "--- Fold 10 - AUC: 0.958134\n",
      "\n",
      "------ Overall: 0.959940 | Average: 0.959972 ± 0.004156\n"
     ]
    }
   ],
   "source": [
    "X, y, X_test, X_original, y_original = get_data(encode=False, impute=False)\n",
    "xgb_model = XGBClassifier(**xgb_params)\n",
    "xgb_trainer = Trainer(xgb_model)\n",
    "oof_pred_probs['XGBoost'], test_pred_probs['XGBoost'], scores['XGBoost'] = xgb_trainer.fit_predict(X, y, X_test, X_original, y_original)"
   ]
  },
  {
   "cell_type": "code",
   "execution_count": 18,
   "id": "016ebd30",
   "metadata": {
    "execution": {
     "iopub.execute_input": "2024-10-24T19:51:26.410290Z",
     "iopub.status.busy": "2024-10-24T19:51:26.408937Z",
     "iopub.status.idle": "2024-10-24T19:55:49.804805Z",
     "shell.execute_reply": "2024-10-24T19:55:49.803580Z"
    },
    "papermill": {
     "duration": 263.415843,
     "end_time": "2024-10-24T19:55:49.807352",
     "exception": false,
     "start_time": "2024-10-24T19:51:26.391509",
     "status": "completed"
    },
    "tags": []
   },
   "outputs": [
    {
     "name": "stdout",
     "output_type": "stream",
     "text": [
      "Training LGBMClassifier\n",
      "\n",
      "--- Fold 1 - AUC: 0.959673\n",
      "--- Fold 2 - AUC: 0.958470\n",
      "--- Fold 3 - AUC: 0.967989\n",
      "--- Fold 4 - AUC: 0.969271\n",
      "--- Fold 5 - AUC: 0.963728\n",
      "--- Fold 6 - AUC: 0.961545\n",
      "--- Fold 7 - AUC: 0.964018\n",
      "--- Fold 8 - AUC: 0.966450\n",
      "--- Fold 9 - AUC: 0.963968\n",
      "--- Fold 10 - AUC: 0.962493\n",
      "\n",
      "------ Overall: 0.963772 | Average: 0.963760 ± 0.003268\n"
     ]
    }
   ],
   "source": [
    "X, y, X_test, X_original, y_original = get_data(encode=False, impute=False)\n",
    "lgbm_model = LGBMClassifier(**lgbm_params)\n",
    "lgbm_trainer = Trainer(lgbm_model)\n",
    "oof_pred_probs['LightGBM'], test_pred_probs['LightGBM'], scores['LightGBM'] = lgbm_trainer.fit_predict(X, y, X_test, X_original, y_original)"
   ]
  },
  {
   "cell_type": "code",
   "execution_count": 19,
   "id": "dc3e84c4",
   "metadata": {
    "execution": {
     "iopub.execute_input": "2024-10-24T19:55:49.843889Z",
     "iopub.status.busy": "2024-10-24T19:55:49.842747Z",
     "iopub.status.idle": "2024-10-24T20:40:23.432118Z",
     "shell.execute_reply": "2024-10-24T20:40:23.430991Z"
    },
    "papermill": {
     "duration": 2673.627151,
     "end_time": "2024-10-24T20:40:23.451556",
     "exception": false,
     "start_time": "2024-10-24T19:55:49.824405",
     "status": "completed"
    },
    "tags": []
   },
   "outputs": [
    {
     "name": "stdout",
     "output_type": "stream",
     "text": [
      "Training LGBMClassifier\n",
      "\n",
      "--- Fold 1 - AUC: 0.959358\n",
      "--- Fold 2 - AUC: 0.956724\n",
      "--- Fold 3 - AUC: 0.968584\n",
      "--- Fold 4 - AUC: 0.966795\n",
      "--- Fold 5 - AUC: 0.962158\n",
      "--- Fold 6 - AUC: 0.959463\n",
      "--- Fold 7 - AUC: 0.963890\n",
      "--- Fold 8 - AUC: 0.964115\n",
      "--- Fold 9 - AUC: 0.964546\n",
      "--- Fold 10 - AUC: 0.961203\n",
      "\n",
      "------ Overall: 0.962673 | Average: 0.962684 ± 0.003437\n"
     ]
    }
   ],
   "source": [
    "X, y, X_test, X_original, y_original = get_data(encode=False, impute=False)\n",
    "lgbm_dart_model = LGBMClassifier(**lgbm_dart_params)\n",
    "lgbm_dart_trainer = Trainer(lgbm_dart_model)\n",
    "oof_pred_probs['LightGBM (dart)'], test_pred_probs['LightGBM (dart)'], scores['LightGBM (dart)'] = lgbm_dart_trainer.fit_predict(X, y, X_test, X_original, y_original)"
   ]
  },
  {
   "cell_type": "code",
   "execution_count": 20,
   "id": "a1ffbc7a",
   "metadata": {
    "execution": {
     "iopub.execute_input": "2024-10-24T20:40:23.490146Z",
     "iopub.status.busy": "2024-10-24T20:40:23.489218Z",
     "iopub.status.idle": "2024-10-24T20:45:04.809711Z",
     "shell.execute_reply": "2024-10-24T20:45:04.808651Z"
    },
    "papermill": {
     "duration": 281.361805,
     "end_time": "2024-10-24T20:45:04.831319",
     "exception": false,
     "start_time": "2024-10-24T20:40:23.469514",
     "status": "completed"
    },
    "tags": []
   },
   "outputs": [
    {
     "name": "stdout",
     "output_type": "stream",
     "text": [
      "Training LGBMClassifier\n",
      "\n",
      "--- Fold 1 - AUC: 0.961387\n",
      "--- Fold 2 - AUC: 0.958823\n",
      "--- Fold 3 - AUC: 0.970367\n",
      "--- Fold 4 - AUC: 0.969422\n",
      "--- Fold 5 - AUC: 0.964222\n",
      "--- Fold 6 - AUC: 0.962810\n",
      "--- Fold 7 - AUC: 0.965342\n",
      "--- Fold 8 - AUC: 0.965717\n",
      "--- Fold 9 - AUC: 0.966621\n",
      "--- Fold 10 - AUC: 0.963515\n",
      "\n",
      "------ Overall: 0.964812 | Average: 0.964823 ± 0.003318\n"
     ]
    }
   ],
   "source": [
    "X, y, X_test, X_original, y_original = get_data(encode=False, impute=False, for_catboost=False)\n",
    "lgbm_goss_model = LGBMClassifier(**lgbm_goss_params)\n",
    "lgbm_goss_trainer = Trainer(lgbm_goss_model)\n",
    "oof_pred_probs['LightGBM (goss)'], test_pred_probs['LightGBM (goss)'], scores['LightGBM (goss)'] = lgbm_goss_trainer.fit_predict(X, y, X_test, X_original, y_original)"
   ]
  },
  {
   "cell_type": "code",
   "execution_count": 21,
   "id": "3ec90954",
   "metadata": {
    "execution": {
     "iopub.execute_input": "2024-10-24T20:45:04.871425Z",
     "iopub.status.busy": "2024-10-24T20:45:04.870370Z",
     "iopub.status.idle": "2024-10-24T21:36:30.119728Z",
     "shell.execute_reply": "2024-10-24T21:36:30.118651Z"
    },
    "papermill": {
     "duration": 3085.290508,
     "end_time": "2024-10-24T21:36:30.140759",
     "exception": false,
     "start_time": "2024-10-24T20:45:04.850251",
     "status": "completed"
    },
    "tags": []
   },
   "outputs": [
    {
     "name": "stdout",
     "output_type": "stream",
     "text": [
      "Training CatBoostClassifier\n",
      "\n",
      "--- Fold 1 - AUC: 0.966326\n",
      "--- Fold 2 - AUC: 0.961392\n",
      "--- Fold 3 - AUC: 0.973456\n",
      "--- Fold 4 - AUC: 0.971025\n",
      "--- Fold 5 - AUC: 0.968864\n",
      "--- Fold 6 - AUC: 0.968688\n",
      "--- Fold 7 - AUC: 0.969571\n",
      "--- Fold 8 - AUC: 0.972164\n",
      "--- Fold 9 - AUC: 0.968920\n",
      "--- Fold 10 - AUC: 0.966357\n",
      "\n",
      "------ Overall: 0.968637 | Average: 0.968676 ± 0.003246\n"
     ]
    }
   ],
   "source": [
    "X, y, X_test, X_original, y_original = get_data(encode=False, impute=True, for_catboost=True)\n",
    "cb_model = CatBoostClassifier(**cb_params, cat_features=X.columns.tolist())\n",
    "cb_trainer = Trainer(cb_model)\n",
    "oof_pred_probs['CatBoost'], test_pred_probs['CatBoost'], scores['CatBoost'] = cb_trainer.fit_predict(X, y, X_test, X_original, y_original)"
   ]
  },
  {
   "cell_type": "markdown",
   "id": "2f8b0b97",
   "metadata": {
    "papermill": {
     "duration": 0.019329,
     "end_time": "2024-10-24T21:36:30.179587",
     "exception": false,
     "start_time": "2024-10-24T21:36:30.160258",
     "status": "completed"
    },
    "tags": []
   },
   "source": [
    "# Ensembling with Logistic Regression\n",
    "\n",
    "I will use `LogisticRegression` to ensemble the predictions of the base models. The predictions are converted to logits and fed into the logistic regression model as features."
   ]
  },
  {
   "cell_type": "code",
   "execution_count": 22,
   "id": "a9b4923e",
   "metadata": {
    "execution": {
     "iopub.execute_input": "2024-10-24T21:36:30.221012Z",
     "iopub.status.busy": "2024-10-24T21:36:30.220119Z",
     "iopub.status.idle": "2024-10-24T21:36:30.247302Z",
     "shell.execute_reply": "2024-10-24T21:36:30.246167Z"
    },
    "papermill": {
     "duration": 0.050763,
     "end_time": "2024-10-24T21:36:30.249920",
     "exception": false,
     "start_time": "2024-10-24T21:36:30.199157",
     "status": "completed"
    },
    "tags": []
   },
   "outputs": [],
   "source": [
    "X = logit(pd.DataFrame(oof_pred_probs).clip(1e-15, 1-1e-15))\n",
    "X_test = logit(pd.DataFrame(test_pred_probs).clip(1e-15, 1-1e-15))"
   ]
  },
  {
   "cell_type": "code",
   "execution_count": 23,
   "id": "cd26d057",
   "metadata": {
    "_kg_hide-input": false,
    "_kg_hide-output": true,
    "execution": {
     "iopub.execute_input": "2024-10-24T21:36:30.290927Z",
     "iopub.status.busy": "2024-10-24T21:36:30.290448Z",
     "iopub.status.idle": "2024-10-24T21:45:43.165923Z",
     "shell.execute_reply": "2024-10-24T21:45:43.164865Z"
    },
    "papermill": {
     "duration": 552.898861,
     "end_time": "2024-10-24T21:45:43.168496",
     "exception": false,
     "start_time": "2024-10-24T21:36:30.269635",
     "status": "completed"
    },
    "scrolled": true,
    "tags": []
   },
   "outputs": [
    {
     "name": "stderr",
     "output_type": "stream",
     "text": [
      "[I 2024-10-24 21:36:30,295] A new study created in memory with name: no-name-9525541c-f3c9-4b76-9aee-68314f4cb234\n",
      "[I 2024-10-24 21:36:36,221] Trial 1 finished with value: 0.9690090883904178 and parameters: {'C': 0.7350964590796711, 'tol': 0.003512426791053035}. Best is trial 1 with value: 0.9690090883904178.\n",
      "[I 2024-10-24 21:36:36,439] Trial 0 finished with value: 0.9689985641427835 and parameters: {'C': 0.14555568511299288, 'tol': 0.004475269274945804}. Best is trial 1 with value: 0.9690090883904178.\n",
      "[I 2024-10-24 21:36:36,785] Trial 3 finished with value: 0.9689948005784258 and parameters: {'C': 0.030670334738361338, 'tol': 0.007251766403556271}. Best is trial 1 with value: 0.9690090883904178.\n",
      "[I 2024-10-24 21:36:36,931] Trial 2 finished with value: 0.9690458528733485 and parameters: {'C': 0.026719351516745538, 'tol': 0.0018923281789207705}. Best is trial 2 with value: 0.9690458528733485.\n",
      "[I 2024-10-24 21:36:42,333] Trial 4 finished with value: 0.9689907535472839 and parameters: {'C': 0.48558354783849533, 'tol': 0.00627048077088137}. Best is trial 2 with value: 0.9690458528733485.\n",
      "[I 2024-10-24 21:36:42,678] Trial 5 finished with value: 0.968989562663905 and parameters: {'C': 0.21360873231471922, 'tol': 0.006227130667599244}. Best is trial 2 with value: 0.9690458528733485.\n",
      "[I 2024-10-24 21:36:42,860] Trial 7 finished with value: 0.968937325768137 and parameters: {'C': 0.6544215293479121, 'tol': 0.007825461001112831}. Best is trial 2 with value: 0.9690458528733485.\n",
      "[I 2024-10-24 21:36:46,165] Trial 6 finished with value: 0.9695063721284514 and parameters: {'C': 0.7161364709414247, 'tol': 0.0008970040722699656}. Best is trial 6 with value: 0.9695063721284514.\n",
      "[I 2024-10-24 21:36:47,520] Trial 8 finished with value: 0.9680244192521366 and parameters: {'C': 0.6134015706366249, 'tol': 0.009474067863264221}. Best is trial 6 with value: 0.9695063721284514.\n",
      "[I 2024-10-24 21:36:48,199] Trial 9 finished with value: 0.9680243716289214 and parameters: {'C': 0.6233030235152776, 'tol': 0.009205069176702644}. Best is trial 6 with value: 0.9695063721284514.\n",
      "[I 2024-10-24 21:36:49,327] Trial 10 finished with value: 0.9689913727863777 and parameters: {'C': 0.7967871794710338, 'tol': 0.005528630731335067}. Best is trial 6 with value: 0.9695063721284514.\n",
      "[I 2024-10-24 21:36:52,670] Trial 11 finished with value: 0.9689909441300978 and parameters: {'C': 0.5865770749093403, 'tol': 0.00615105605439215}. Best is trial 6 with value: 0.9695063721284514.\n",
      "[I 2024-10-24 21:36:53,813] Trial 12 finished with value: 0.9690090646143181 and parameters: {'C': 0.953679033928968, 'tol': 0.003592867391305526}. Best is trial 6 with value: 0.9695063721284514.\n",
      "[I 2024-10-24 21:36:59,229] Trial 14 finished with value: 0.9695756830333826 and parameters: {'C': 0.9619872117500208, 'tol': 0.00041230761877361546}. Best is trial 14 with value: 0.9695756830333826.\n",
      "[I 2024-10-24 21:37:01,002] Trial 15 finished with value: 0.969511324417307 and parameters: {'C': 0.9183614996528711, 'tol': 0.0007261616070444741}. Best is trial 14 with value: 0.9695756830333826.\n",
      "[I 2024-10-24 21:37:02,000] Trial 13 finished with value: 0.969583709024627 and parameters: {'C': 0.9634752222934839, 'tol': 9.003396612177611e-06}. Best is trial 13 with value: 0.969583709024627.\n",
      "[I 2024-10-24 21:37:03,569] Trial 16 finished with value: 0.9695682069603141 and parameters: {'C': 0.3663111901960116, 'tol': 0.0004162888118645115}. Best is trial 13 with value: 0.969583709024627.\n",
      "[I 2024-10-24 21:37:09,210] Trial 17 finished with value: 0.9695766355876385 and parameters: {'C': 0.9874439208370653, 'tol': 0.0003679043555977778}. Best is trial 13 with value: 0.969583709024627.\n",
      "[I 2024-10-24 21:37:09,411] Trial 20 finished with value: 0.9690278748800226 and parameters: {'C': 0.8761843196772091, 'tol': 0.0024236445232486904}. Best is trial 13 with value: 0.969583709024627.\n",
      "[I 2024-10-24 21:37:10,826] Trial 18 finished with value: 0.9695446348986145 and parameters: {'C': 0.9655463588411309, 'tol': 0.00047583608890367944}. Best is trial 13 with value: 0.969583709024627.\n",
      "[I 2024-10-24 21:37:12,827] Trial 19 finished with value: 0.9695773273244253 and parameters: {'C': 0.4283483803117615, 'tol': 0.00018205981648819095}. Best is trial 13 with value: 0.969583709024627.\n",
      "[I 2024-10-24 21:37:15,930] Trial 21 finished with value: 0.9690338748180638 and parameters: {'C': 0.8424848495167042, 'tol': 0.002044288804805708}. Best is trial 13 with value: 0.969583709024627.\n",
      "[I 2024-10-24 21:37:16,194] Trial 22 finished with value: 0.9690338033808737 and parameters: {'C': 0.8685524273173183, 'tol': 0.0022603607183962413}. Best is trial 13 with value: 0.969583709024627.\n",
      "[I 2024-10-24 21:37:17,422] Trial 23 finished with value: 0.9690338271948485 and parameters: {'C': 0.8331747288631277, 'tol': 0.00194716793627275}. Best is trial 13 with value: 0.969583709024627.\n",
      "[I 2024-10-24 21:37:19,382] Trial 24 finished with value: 0.9690348272302879 and parameters: {'C': 0.39176654443691805, 'tol': 0.0019508322860255045}. Best is trial 13 with value: 0.969583709024627.\n",
      "[I 2024-10-24 21:37:22,440] Trial 26 finished with value: 0.9690226594538478 and parameters: {'C': 0.3970676838531605, 'tol': 0.0031083451596908684}. Best is trial 13 with value: 0.969583709024627.\n",
      "[I 2024-10-24 21:37:23,361] Trial 25 finished with value: 0.969357034082028 and parameters: {'C': 0.42145028506415355, 'tol': 0.0016083052578456244}. Best is trial 13 with value: 0.969583709024627.\n",
      "[I 2024-10-24 21:37:29,609] Trial 27 finished with value: 0.9695816372940425 and parameters: {'C': 0.38658048830004615, 'tol': 3.78814700821733e-05}. Best is trial 13 with value: 0.969583709024627.\n",
      "[I 2024-10-24 21:37:30,989] Trial 30 finished with value: 0.9695160147997841 and parameters: {'C': 0.260497200531386, 'tol': 0.0011484533643315}. Best is trial 13 with value: 0.969583709024627.\n",
      "[I 2024-10-24 21:37:31,417] Trial 28 finished with value: 0.9695828755307762 and parameters: {'C': 0.5051515943499776, 'tol': 2.510210251535952e-05}. Best is trial 13 with value: 0.969583709024627.\n",
      "[I 2024-10-24 21:37:33,911] Trial 29 finished with value: 0.9695829707203938 and parameters: {'C': 0.3073130053459261, 'tol': 2.674735051699423e-05}. Best is trial 13 with value: 0.969583709024627.\n",
      "[I 2024-10-24 21:37:37,073] Trial 32 finished with value: 0.9689986360155374 and parameters: {'C': 0.522085692864183, 'tol': 0.00454712060238271}. Best is trial 13 with value: 0.969583709024627.\n",
      "[I 2024-10-24 21:37:37,480] Trial 33 finished with value: 0.9689990882538069 and parameters: {'C': 0.28236481130738966, 'tol': 0.004269794916155541}. Best is trial 13 with value: 0.969583709024627.\n",
      "[I 2024-10-24 21:37:37,802] Trial 31 finished with value: 0.96951653811543 and parameters: {'C': 0.22821116242151415, 'tol': 0.001131126325557726}. Best is trial 13 with value: 0.969583709024627.\n",
      "[I 2024-10-24 21:37:45,053] Trial 35 finished with value: 0.9694882717701173 and parameters: {'C': 0.2802067333460693, 'tol': 0.001234626635180338}. Best is trial 13 with value: 0.969583709024627.\n",
      "[I 2024-10-24 21:37:45,900] Trial 36 finished with value: 0.9695423967590042 and parameters: {'C': 0.11820880268205763, 'tol': 0.0012200739499762096}. Best is trial 13 with value: 0.969583709024627.\n",
      "[I 2024-10-24 21:37:46,909] Trial 34 finished with value: 0.9695817801920941 and parameters: {'C': 0.29341347799990114, 'tol': 3.3681846100763066e-05}. Best is trial 13 with value: 0.969583709024627.\n",
      "[I 2024-10-24 21:37:49,889] Trial 37 finished with value: 0.9695833991636263 and parameters: {'C': 0.1477022701980817, 'tol': 4.5649930270579186e-05}. Best is trial 13 with value: 0.969583709024627.\n",
      "[I 2024-10-24 21:37:52,750] Trial 40 finished with value: 0.9690318036129961 and parameters: {'C': 0.12842789300294022, 'tol': 0.0027558966712239114}. Best is trial 13 with value: 0.969583709024627.\n",
      "[I 2024-10-24 21:37:55,943] Trial 38 finished with value: 0.9695798745391278 and parameters: {'C': 0.10748040939387549, 'tol': 0.00018399508391108934}. Best is trial 13 with value: 0.969583709024627.\n",
      "[I 2024-10-24 21:37:56,269] Trial 41 finished with value: 0.9690311605031148 and parameters: {'C': 0.10661918671091775, 'tol': 0.0029207557703680967}. Best is trial 13 with value: 0.969583709024627.\n",
      "[I 2024-10-24 21:37:57,911] Trial 39 finished with value: 0.969583232588897 and parameters: {'C': 0.32020409677899486, 'tol': 3.86821254182123e-05}. Best is trial 13 with value: 0.969583709024627.\n",
      "[I 2024-10-24 21:38:01,306] Trial 42 finished with value: 0.9694954168620775 and parameters: {'C': 0.1924775403507063, 'tol': 0.001394130893330935}. Best is trial 13 with value: 0.969583709024627.\n",
      "[I 2024-10-24 21:38:03,649] Trial 43 finished with value: 0.9693370363890482 and parameters: {'C': 0.057282096890286266, 'tol': 0.0014892006053895408}. Best is trial 13 with value: 0.969583709024627.\n",
      "[I 2024-10-24 21:38:04,231] Trial 44 finished with value: 0.9694508839433775 and parameters: {'C': 0.028114234640393865, 'tol': 0.0015377242330487917}. Best is trial 13 with value: 0.969583709024627.\n",
      "[I 2024-10-24 21:38:05,615] Trial 45 finished with value: 0.9695766811608632 and parameters: {'C': 0.005424317116057814, 'tol': 0.0015188858077580412}. Best is trial 13 with value: 0.969583709024627.\n",
      "[I 2024-10-24 21:38:09,922] Trial 47 finished with value: 0.9672518415487525 and parameters: {'C': 6.550870204621861e-05, 'tol': 0.008073784217459173}. Best is trial 13 with value: 0.969583709024627.\n",
      "[I 2024-10-24 21:38:10,776] Trial 46 finished with value: 0.969577491082193 and parameters: {'C': 0.014078013639535092, 'tol': 0.0008094677774019684}. Best is trial 13 with value: 0.969583709024627.\n",
      "[I 2024-10-24 21:38:13,518] Trial 48 finished with value: 0.9695054911439487 and parameters: {'C': 0.7469995846927108, 'tol': 0.0008604420088119745}. Best is trial 13 with value: 0.969583709024627.\n",
      "[I 2024-10-24 21:38:14,725] Trial 49 finished with value: 0.9695063959660983 and parameters: {'C': 0.6953657692701762, 'tol': 0.0007937337420293481}. Best is trial 13 with value: 0.969583709024627.\n",
      "[I 2024-10-24 21:38:19,177] Trial 50 finished with value: 0.9695313956637485 and parameters: {'C': 0.3373163066687032, 'tol': 0.0007345357509749807}. Best is trial 13 with value: 0.969583709024627.\n",
      "[I 2024-10-24 21:38:19,664] Trial 51 finished with value: 0.9695060864317704 and parameters: {'C': 0.7260084514848356, 'tol': 0.0007697572303658071}. Best is trial 13 with value: 0.969583709024627.\n",
      "[I 2024-10-24 21:38:22,082] Trial 52 finished with value: 0.9695317767015474 and parameters: {'C': 0.34602251678846613, 'tol': 0.0006788417533778828}. Best is trial 13 with value: 0.969583709024627.\n",
      "[I 2024-10-24 21:38:28,377] Trial 53 finished with value: 0.9695846614699919 and parameters: {'C': 0.508323249551416, 'tol': 2.537934854243564e-06}. Best is trial 53 with value: 0.9695846614699919.\n",
      "[I 2024-10-24 21:38:28,820] Trial 55 finished with value: 0.9695780653824702 and parameters: {'C': 0.4754641247451664, 'tol': 0.00019491016469202677}. Best is trial 53 with value: 0.9695846614699919.\n",
      "[I 2024-10-24 21:38:30,587] Trial 54 finished with value: 0.9695844468885619 and parameters: {'C': 0.17524466166480296, 'tol': 1.772854026396922e-05}. Best is trial 53 with value: 0.9695846614699919.\n",
      "[I 2024-10-24 21:38:32,473] Trial 56 finished with value: 0.9695804706744051 and parameters: {'C': 0.5268752320172747, 'tol': 6.393774301001313e-05}. Best is trial 53 with value: 0.9695846614699919.\n",
      "[I 2024-10-24 21:38:37,394] Trial 58 finished with value: 0.9695505636551225 and parameters: {'C': 0.581522344774642, 'tol': 0.0004489779539482984}. Best is trial 53 with value: 0.9695846614699919.\n",
      "[I 2024-10-24 21:38:38,348] Trial 57 finished with value: 0.9695835184370788 and parameters: {'C': 0.458603959859918, 'tol': 9.896603298796392e-05}. Best is trial 53 with value: 0.9695846614699919.\n",
      "[I 2024-10-24 21:38:39,899] Trial 59 finished with value: 0.9695750874520286 and parameters: {'C': 0.18308911818772122, 'tol': 0.0005174428539896059}. Best is trial 53 with value: 0.9695846614699919.\n",
      "[I 2024-10-24 21:38:42,300] Trial 60 finished with value: 0.9695757071787646 and parameters: {'C': 0.17856994844957538, 'tol': 0.00044356637124544584}. Best is trial 53 with value: 0.9695846614699919.\n",
      "[I 2024-10-24 21:38:42,580] Trial 61 finished with value: 0.9679047966432257 and parameters: {'C': 0.0717863416046644, 'tol': 0.009920974999919422}. Best is trial 53 with value: 0.9695846614699919.\n",
      "[I 2024-10-24 21:38:45,797] Trial 63 finished with value: 0.9690021112556282 and parameters: {'C': 0.07039101634988892, 'tol': 0.006826886033248412}. Best is trial 53 with value: 0.9695846614699919.\n",
      "[I 2024-10-24 21:38:48,137] Trial 62 finished with value: 0.9695503735031382 and parameters: {'C': 0.17118263791474483, 'tol': 0.0005165313109709689}. Best is trial 53 with value: 0.9695846614699919.\n",
      "[I 2024-10-24 21:38:50,995] Trial 64 finished with value: 0.9695094200426257 and parameters: {'C': 0.4531544688031018, 'tol': 0.0011231430114982516}. Best is trial 53 with value: 0.9695846614699919.\n",
      "[I 2024-10-24 21:38:51,349] Trial 65 finished with value: 0.9695090629087545 and parameters: {'C': 0.44530005042198817, 'tol': 0.000994082421848504}. Best is trial 53 with value: 0.9695846614699919.\n",
      "[I 2024-10-24 21:38:53,695] Trial 66 finished with value: 0.9695093010200957 and parameters: {'C': 0.46963451840146275, 'tol': 0.0010349729851051748}. Best is trial 53 with value: 0.9695846614699919.\n",
      "[I 2024-10-24 21:38:56,352] Trial 67 finished with value: 0.9695167291290732 and parameters: {'C': 0.2368055821067384, 'tol': 0.0009363256979022094}. Best is trial 53 with value: 0.9695846614699919.\n",
      "[I 2024-10-24 21:38:56,677] Trial 68 finished with value: 0.9689984452812229 and parameters: {'C': 0.23422826622848314, 'tol': 0.0056735946733466195}. Best is trial 53 with value: 0.9695846614699919.\n",
      "[I 2024-10-24 21:38:59,696] Trial 70 finished with value: 0.9689898008131212 and parameters: {'C': 0.24479551206978645, 'tol': 0.005761243401963781}. Best is trial 53 with value: 0.9695846614699919.\n",
      "[I 2024-10-24 21:39:02,611] Trial 71 finished with value: 0.9689991358864909 and parameters: {'C': 0.32012233580281274, 'tol': 0.005442388662406518}. Best is trial 53 with value: 0.9695846614699919.\n",
      "[I 2024-10-24 21:39:03,421] Trial 72 finished with value: 0.9691190936711784 and parameters: {'C': 0.33384000540192926, 'tol': 0.0017309892760901885}. Best is trial 53 with value: 0.9695846614699919.\n",
      "[I 2024-10-24 21:39:05,899] Trial 73 finished with value: 0.9690802314942755 and parameters: {'C': 0.32325134146870793, 'tol': 0.0018248727322037962}. Best is trial 53 with value: 0.9695846614699919.\n",
      "[I 2024-10-24 21:39:06,107] Trial 69 finished with value: 0.969585494675045 and parameters: {'C': 0.24043325206592353, 'tol': 1.3566164885658497e-06}. Best is trial 69 with value: 0.969585494675045.\n",
      "[I 2024-10-24 21:39:13,128] Trial 74 finished with value: 0.9695838280566255 and parameters: {'C': 0.5397047304856077, 'tol': 7.137209868055581e-05}. Best is trial 69 with value: 0.969585494675045.\n",
      "[I 2024-10-24 21:39:15,296] Trial 77 finished with value: 0.9695773033258094 and parameters: {'C': 0.558595111821381, 'tol': 0.00027465503110361687}. Best is trial 69 with value: 0.969585494675045.\n",
      "[I 2024-10-24 21:39:17,116] Trial 76 finished with value: 0.9695805182076669 and parameters: {'C': 0.49808618811494093, 'tol': 5.278867543506515e-05}. Best is trial 69 with value: 0.969585494675045.\n",
      "[I 2024-10-24 21:39:17,308] Trial 75 finished with value: 0.9695845661667489 and parameters: {'C': 0.5920246310712132, 'tol': 1.1757453708575934e-06}. Best is trial 69 with value: 0.969585494675045.\n",
      "[I 2024-10-24 21:39:23,002] Trial 78 finished with value: 0.9695728026597529 and parameters: {'C': 0.5117956364400327, 'tol': 0.0003900706523318641}. Best is trial 69 with value: 0.969585494675045.\n",
      "[I 2024-10-24 21:39:25,143] Trial 79 finished with value: 0.9695736588739348 and parameters: {'C': 0.14867441538955606, 'tol': 0.0005496533453266026}. Best is trial 69 with value: 0.969585494675045.\n",
      "[I 2024-10-24 21:39:26,844] Trial 81 finished with value: 0.9695746595343134 and parameters: {'C': 0.6463889355260695, 'tol': 0.000353284049388988}. Best is trial 69 with value: 0.969585494675045.\n",
      "[I 2024-10-24 21:39:27,013] Trial 80 finished with value: 0.969550540840104 and parameters: {'C': 0.616208353487117, 'tol': 0.00038260658632279513}. Best is trial 69 with value: 0.969585494675045.\n",
      "[I 2024-10-24 21:39:29,032] Trial 82 finished with value: 0.9690091836415823 and parameters: {'C': 0.6658672515424574, 'tol': 0.0036705401695391483}. Best is trial 69 with value: 0.969585494675045.\n",
      "[I 2024-10-24 21:39:31,561] Trial 83 finished with value: 0.9690339224412787 and parameters: {'C': 0.6323960248270923, 'tol': 0.002283972317417491}. Best is trial 69 with value: 0.969585494675045.\n",
      "[I 2024-10-24 21:39:36,300] Trial 84 finished with value: 0.9695768269752983 and parameters: {'C': 0.6157558256615869, 'tol': 0.00028259442401790683}. Best is trial 69 with value: 0.969585494675045.\n",
      "[I 2024-10-24 21:39:37,877] Trial 86 finished with value: 0.9695783035837648 and parameters: {'C': 0.5683114089225558, 'tol': 0.00023521889375654564}. Best is trial 69 with value: 0.969585494675045.\n",
      "[I 2024-10-24 21:39:38,284] Trial 85 finished with value: 0.9695801610122485 and parameters: {'C': 0.5662446390136026, 'tol': 5.561052198353848e-05}. Best is trial 69 with value: 0.969585494675045.\n",
      "[I 2024-10-24 21:39:43,223] Trial 87 finished with value: 0.9695817326114884 and parameters: {'C': 0.5598038432211234, 'tol': 2.5756990818261376e-05}. Best is trial 69 with value: 0.969585494675045.\n",
      "[I 2024-10-24 21:39:43,875] Trial 88 finished with value: 0.9694932990990323 and parameters: {'C': 0.5507832303167635, 'tol': 0.0013027990476595559}. Best is trial 69 with value: 0.969585494675045.\n",
      "[I 2024-10-24 21:39:46,095] Trial 90 finished with value: 0.9694936799805968 and parameters: {'C': 0.414062162243753, 'tol': 0.0012850889334551708}. Best is trial 69 with value: 0.969585494675045.\n",
      "[I 2024-10-24 21:39:46,382] Trial 89 finished with value: 0.9695165889864359 and parameters: {'C': 0.5417717933822864, 'tol': 0.0006405838044136616}. Best is trial 69 with value: 0.969585494675045.\n",
      "[I 2024-10-24 21:39:51,655] Trial 91 finished with value: 0.9694922989925772 and parameters: {'C': 0.9243914748353923, 'tol': 0.0013848935980107094}. Best is trial 69 with value: 0.969585494675045.\n",
      "[I 2024-10-24 21:39:52,714] Trial 92 finished with value: 0.969529229202782 and parameters: {'C': 0.4082563527617742, 'tol': 0.0007176497568011264}. Best is trial 69 with value: 0.969585494675045.\n",
      "[I 2024-10-24 21:39:55,191] Trial 93 finished with value: 0.9695333243589841 and parameters: {'C': 0.372573591348605, 'tol': 0.0007677171904505222}. Best is trial 69 with value: 0.969585494675045.\n",
      "[I 2024-10-24 21:39:55,801] Trial 94 finished with value: 0.9695239184638952 and parameters: {'C': 0.21517414701534643, 'tol': 0.0007049557014426791}. Best is trial 69 with value: 0.969585494675045.\n",
      "[I 2024-10-24 21:40:00,283] Trial 95 finished with value: 0.9695324434170907 and parameters: {'C': 0.3690515241710655, 'tol': 0.0006776428025470486}. Best is trial 69 with value: 0.969585494675045.\n",
      "[I 2024-10-24 21:40:03,128] Trial 96 finished with value: 0.9695748505763628 and parameters: {'C': 0.3733375546565808, 'tol': 0.00023849966362243774}. Best is trial 69 with value: 0.969585494675045.\n",
      "[I 2024-10-24 21:40:05,686] Trial 98 finished with value: 0.9695773983449888 and parameters: {'C': 0.7736348448814856, 'tol': 0.0001890233331486299}. Best is trial 69 with value: 0.969585494675045.\n",
      "[I 2024-10-24 21:40:07,486] Trial 97 finished with value: 0.9695856852199837 and parameters: {'C': 0.21176107142328918, 'tol': 2.3674445039186795e-05}. Best is trial 97 with value: 0.9695856852199837.\n",
      "[I 2024-10-24 21:40:10,474] Trial 99 finished with value: 0.9695748033745083 and parameters: {'C': 0.2979717059607482, 'tol': 0.00022505218350322948}. Best is trial 97 with value: 0.9695856852199837.\n",
      "[I 2024-10-24 21:40:11,219] Trial 100 finished with value: 0.9695172058678041 and parameters: {'C': 0.29434602923187164, 'tol': 0.0009596998931640517}. Best is trial 97 with value: 0.9695856852199837.\n",
      "[I 2024-10-24 21:40:13,768] Trial 101 finished with value: 0.9695378008559864 and parameters: {'C': 0.3059690779456729, 'tol': 0.0009373304980393837}. Best is trial 97 with value: 0.9695856852199837.\n",
      "[I 2024-10-24 21:40:16,229] Trial 102 finished with value: 0.9695493973668926 and parameters: {'C': 0.2016204309426971, 'tol': 0.0005329800653447468}. Best is trial 97 with value: 0.9695856852199837.\n",
      "[I 2024-10-24 21:40:19,175] Trial 103 finished with value: 0.9695424448745957 and parameters: {'C': 0.2631998562566234, 'tol': 0.0005251936240552969}. Best is trial 97 with value: 0.9695856852199837.\n",
      "[I 2024-10-24 21:40:22,653] Trial 104 finished with value: 0.9695851136325112 and parameters: {'C': 0.2049220120859056, 'tol': 2.0821433240403865e-05}. Best is trial 97 with value: 0.9695856852199837.\n",
      "[I 2024-10-24 21:40:26,272] Trial 105 finished with value: 0.9695853754631394 and parameters: {'C': 0.13415711979444256, 'tol': 1.5394766245630734e-06}. Best is trial 97 with value: 0.9695856852199837.\n",
      "[I 2024-10-24 21:40:28,353] Trial 106 finished with value: 0.9695853994475522 and parameters: {'C': 0.27302891723781486, 'tol': 3.883023649223673e-06}. Best is trial 97 with value: 0.9695856852199837.\n",
      "[I 2024-10-24 21:40:30,256] Trial 107 finished with value: 0.9695856850732177 and parameters: {'C': 0.152546687309092, 'tol': 1.3220217460648398e-05}. Best is trial 97 with value: 0.9695856852199837.\n",
      "[I 2024-10-24 21:40:34,233] Trial 108 finished with value: 0.9695856374405338 and parameters: {'C': 0.16040590216028278, 'tol': 3.31790493991003e-06}. Best is trial 97 with value: 0.9695856852199837.\n",
      "[I 2024-10-24 21:40:37,327] Trial 109 finished with value: 0.9695841373068903 and parameters: {'C': 0.14788380278572621, 'tol': 3.045622459052476e-05}. Best is trial 97 with value: 0.9695856852199837.\n",
      "[I 2024-10-24 21:40:38,818] Trial 111 finished with value: 0.9695760408916152 and parameters: {'C': 0.1626266120339212, 'tol': 0.0003495331873379486}. Best is trial 97 with value: 0.9695856852199837.\n",
      "[I 2024-10-24 21:40:40,317] Trial 110 finished with value: 0.9695863993551631 and parameters: {'C': 0.16007715230708014, 'tol': 1.4920328332869511e-05}. Best is trial 110 with value: 0.9695863993551631.\n",
      "[I 2024-10-24 21:40:43,618] Trial 112 finished with value: 0.9695763502839115 and parameters: {'C': 0.16367394292671, 'tol': 0.0003343570545256533}. Best is trial 110 with value: 0.9695863993551631.\n",
      "[I 2024-10-24 21:40:47,013] Trial 113 finished with value: 0.9695836124857087 and parameters: {'C': 0.15283183786913782, 'tol': 0.000345209203225117}. Best is trial 110 with value: 0.9695863993551631.\n",
      "[I 2024-10-24 21:40:50,017] Trial 115 finished with value: 0.9695780896651494 and parameters: {'C': 0.0982085887499068, 'tol': 0.00037189279229094755}. Best is trial 110 with value: 0.9695863993551631.\n",
      "[I 2024-10-24 21:40:51,042] Trial 114 finished with value: 0.9695861374251127 and parameters: {'C': 0.09429792849786905, 'tol': 2.2802156813382154e-05}. Best is trial 110 with value: 0.9695863993551631.\n",
      "[I 2024-10-24 21:40:52,534] Trial 116 finished with value: 0.9695933038691656 and parameters: {'C': 0.1349054456536076, 'tol': 0.0005643875886517102}. Best is trial 116 with value: 0.9695933038691656.\n",
      "[I 2024-10-24 21:40:55,575] Trial 118 finished with value: 0.9684656138454771 and parameters: {'C': 0.1352183057553098, 'tol': 0.008427472133220048}. Best is trial 116 with value: 0.9695933038691656.\n",
      "[I 2024-10-24 21:40:56,647] Trial 119 finished with value: 0.9681970929059546 and parameters: {'C': 0.11767395183369093, 'tol': 0.008929270480261086}. Best is trial 116 with value: 0.9695933038691656.\n",
      "[I 2024-10-24 21:40:58,411] Trial 120 finished with value: 0.968453328178026 and parameters: {'C': 0.12210726522838397, 'tol': 0.008725437133829023}. Best is trial 116 with value: 0.9695933038691656.\n",
      "[I 2024-10-24 21:41:00,653] Trial 117 finished with value: 0.9695847324526804 and parameters: {'C': 0.1309820196642816, 'tol': 8.715262120595003e-06}. Best is trial 116 with value: 0.9695933038691656.\n",
      "[I 2024-10-24 21:41:04,182] Trial 121 finished with value: 0.9695750909980857 and parameters: {'C': 0.11972177136098772, 'tol': 0.0005762731916486044}. Best is trial 116 with value: 0.9695933038691656.\n",
      "[I 2024-10-24 21:41:05,119] Trial 122 finished with value: 0.9695454933710994 and parameters: {'C': 0.05462734379827806, 'tol': 0.0005779984492630745}. Best is trial 116 with value: 0.9695933038691656.\n",
      "[I 2024-10-24 21:41:07,424] Trial 123 finished with value: 0.969550541706497 and parameters: {'C': 0.05086327727035598, 'tol': 0.0005218119142055642}. Best is trial 116 with value: 0.9695933038691656.\n",
      "[I 2024-10-24 21:41:09,347] Trial 124 finished with value: 0.969589233317581 and parameters: {'C': 0.09168284291353142, 'tol': 0.0005108120886995503}. Best is trial 116 with value: 0.9695933038691656.\n",
      "[I 2024-10-24 21:41:14,355] Trial 126 finished with value: 0.9695786367190202 and parameters: {'C': 0.2099135574227993, 'tol': 0.0002499168207225597}. Best is trial 116 with value: 0.9695933038691656.\n",
      "[I 2024-10-24 21:41:16,576] Trial 127 finished with value: 0.9695851133389792 and parameters: {'C': 0.08487921346722416, 'tol': 0.0002344572814002522}. Best is trial 116 with value: 0.9695933038691656.\n",
      "[I 2024-10-24 21:41:16,989] Trial 125 finished with value: 0.9695876611786212 and parameters: {'C': 0.07335664580527446, 'tol': 3.637298891245937e-06}. Best is trial 116 with value: 0.9695933038691656.\n",
      "[I 2024-10-24 21:41:18,523] Trial 128 finished with value: 0.9695793747107837 and parameters: {'C': 0.08615682090634216, 'tol': 0.00022255858181292204}. Best is trial 116 with value: 0.9695933038691656.\n",
      "[I 2024-10-24 21:41:22,488] Trial 129 finished with value: 0.9695348004040583 and parameters: {'C': 0.093387983258933, 'tol': 0.000935073645181458}. Best is trial 116 with value: 0.9695933038691656.\n",
      "[I 2024-10-24 21:41:24,942] Trial 130 finished with value: 0.9695332524341522 and parameters: {'C': 0.10450145548347607, 'tol': 0.0008937075483681762}. Best is trial 116 with value: 0.9695933038691656.\n",
      "[I 2024-10-24 21:41:25,143] Trial 131 finished with value: 0.9695359672840869 and parameters: {'C': 0.09341155834027731, 'tol': 0.0009595580612870795}. Best is trial 116 with value: 0.9695933038691656.\n",
      "[I 2024-10-24 21:41:26,566] Trial 132 finished with value: 0.9694949899101774 and parameters: {'C': 0.0840942590787493, 'tol': 0.0010865085024555575}. Best is trial 116 with value: 0.9695933038691656.\n",
      "[I 2024-10-24 21:41:28,074] Trial 133 finished with value: 0.9689909664432712 and parameters: {'C': 0.07786854525764218, 'tol': 0.006992361286002536}. Best is trial 116 with value: 0.9695933038691656.\n",
      "[I 2024-10-24 21:41:34,645] Trial 134 finished with value: 0.9695869224104177 and parameters: {'C': 0.03728598806978757, 'tol': 0.00021264954987608323}. Best is trial 116 with value: 0.9695933038691656.\n",
      "[I 2024-10-24 21:41:34,675] Trial 135 finished with value: 0.969588851077247 and parameters: {'C': 0.04124725614169218, 'tol': 0.00021893343178397312}. Best is trial 116 with value: 0.9695933038691656.\n",
      "[I 2024-10-24 21:41:36,168] Trial 136 finished with value: 0.9695917557382903 and parameters: {'C': 0.034208277824423594, 'tol': 0.00024009203012706766}. Best is trial 116 with value: 0.9695933038691656.\n",
      "[I 2024-10-24 21:41:37,303] Trial 137 finished with value: 0.9695867556841881 and parameters: {'C': 0.037518715569762065, 'tol': 0.00022326209194416634}. Best is trial 116 with value: 0.9695933038691656.\n",
      "[I 2024-10-24 21:41:43,061] Trial 139 finished with value: 0.9695759917202551 and parameters: {'C': 0.015309748444392868, 'tol': 0.0004553632288529637}. Best is trial 116 with value: 0.9695933038691656.\n",
      "[I 2024-10-24 21:41:43,603] Trial 138 finished with value: 0.9695988267512717 and parameters: {'C': 0.03794292855214182, 'tol': 0.00044572113583895385}. Best is trial 138 with value: 0.9695988267512717.\n",
      "[I 2024-10-24 21:41:44,999] Trial 140 finished with value: 0.9695913509717353 and parameters: {'C': 0.03381611075920347, 'tol': 0.0004616457801439904}. Best is trial 138 with value: 0.9695988267512717.\n",
      "[I 2024-10-24 21:41:45,943] Trial 141 finished with value: 0.9696118035400392 and parameters: {'C': 0.031196200816036128, 'tol': 0.00048748288390266256}. Best is trial 141 with value: 0.9696118035400392.\n",
      "[I 2024-10-24 21:41:51,778] Trial 142 finished with value: 0.9695703739799384 and parameters: {'C': 0.034231761208609233, 'tol': 0.0007222473224752396}. Best is trial 141 with value: 0.9696118035400392.\n",
      "[I 2024-10-24 21:41:52,219] Trial 143 finished with value: 0.9695666121436325 and parameters: {'C': 0.04353637662807982, 'tol': 0.0006844160616768863}. Best is trial 141 with value: 0.9696118035400392.\n",
      "[I 2024-10-24 21:41:53,301] Trial 144 finished with value: 0.9695790878967866 and parameters: {'C': 0.03741889311347353, 'tol': 0.0006737041608914032}. Best is trial 141 with value: 0.9696118035400392.\n",
      "[I 2024-10-24 21:41:54,375] Trial 145 finished with value: 0.9695668502833801 and parameters: {'C': 0.038543112083263505, 'tol': 0.0007104266132685528}. Best is trial 141 with value: 0.9696118035400392.\n",
      "[I 2024-10-24 21:41:59,917] Trial 147 finished with value: 0.9689042633498557 and parameters: {'C': 0.0006125421521362695, 'tol': 0.00044732424541478976}. Best is trial 141 with value: 0.9696118035400392.\n",
      "[I 2024-10-24 21:42:01,585] Trial 146 finished with value: 0.9695821830506903 and parameters: {'C': 0.04187685260536768, 'tol': 0.0005978855522995651}. Best is trial 141 with value: 0.9696118035400392.\n",
      "[I 2024-10-24 21:42:03,881] Trial 148 finished with value: 0.9696005412248911 and parameters: {'C': 0.015943346374045382, 'tol': 0.0004014392729121763}. Best is trial 141 with value: 0.9696118035400392.\n",
      "[I 2024-10-24 21:42:05,319] Trial 149 finished with value: 0.9695892318830612 and parameters: {'C': 0.07033571440681025, 'tol': 0.00043342714987138896}. Best is trial 141 with value: 0.9696118035400392.\n",
      "[I 2024-10-24 21:42:09,589] Trial 152 finished with value: 0.9690114701950507 and parameters: {'C': 0.07107279468421736, 'tol': 0.004648108976634652}. Best is trial 141 with value: 0.9696118035400392.\n",
      "[I 2024-10-24 21:42:10,406] Trial 150 finished with value: 0.9695993268352728 and parameters: {'C': 0.01735745084159762, 'tol': 0.00026809543529140317}. Best is trial 141 with value: 0.9696118035400392.\n",
      "[I 2024-10-24 21:42:11,935] Trial 151 finished with value: 0.9695854938559958 and parameters: {'C': 0.06723504092427313, 'tol': 0.0002849985932658113}. Best is trial 141 with value: 0.9696118035400392.\n",
      "[I 2024-10-24 21:42:13,425] Trial 153 finished with value: 0.9694828684313237 and parameters: {'C': 0.062086677591910576, 'tol': 0.0011925434741063474}. Best is trial 141 with value: 0.9696118035400392.\n",
      "[I 2024-10-24 21:42:17,133] Trial 154 finished with value: 0.9694832970497286 and parameters: {'C': 0.06271509731574962, 'tol': 0.001156399657722951}. Best is trial 141 with value: 0.9696118035400392.\n",
      "[I 2024-10-24 21:42:17,941] Trial 155 finished with value: 0.9695423251135014 and parameters: {'C': 0.020447228419723563, 'tol': 0.0011499791985256072}. Best is trial 141 with value: 0.9696118035400392.\n",
      "[I 2024-10-24 21:42:19,424] Trial 156 finished with value: 0.9695208685518093 and parameters: {'C': 0.018150940919396882, 'tol': 0.001196782693885495}. Best is trial 141 with value: 0.9696118035400392.\n",
      "[I 2024-10-24 21:42:22,699] Trial 157 finished with value: 0.9695936125134285 and parameters: {'C': 0.02028182596532232, 'tol': 0.0004086252932736489}. Best is trial 141 with value: 0.9696118035400392.\n",
      "[I 2024-10-24 21:42:26,071] Trial 158 finished with value: 0.969585443496304 and parameters: {'C': 0.015009731656168365, 'tol': 0.0004686854932344701}. Best is trial 141 with value: 0.9696118035400392.\n",
      "[I 2024-10-24 21:42:27,594] Trial 159 finished with value: 0.9695922545676783 and parameters: {'C': 0.01976451123633735, 'tol': 0.0004273195439994282}. Best is trial 141 with value: 0.9696118035400392.\n",
      "[I 2024-10-24 21:42:29,093] Trial 160 finished with value: 0.9695971127037474 and parameters: {'C': 0.02425184774802936, 'tol': 0.00042962081205683396}. Best is trial 141 with value: 0.9696118035400392.\n",
      "[I 2024-10-24 21:42:29,827] Trial 161 finished with value: 0.9694860431845033 and parameters: {'C': 0.0019425345732785385, 'tol': 0.00041815367687325004}. Best is trial 141 with value: 0.9696118035400392.\n",
      "[I 2024-10-24 21:42:33,944] Trial 162 finished with value: 0.9692627065113981 and parameters: {'C': 0.0010575847473516045, 'tol': 0.00037975972437688174}. Best is trial 141 with value: 0.9696118035400392.\n",
      "[I 2024-10-24 21:42:35,272] Trial 163 finished with value: 0.9690270382662097 and parameters: {'C': 0.0007102364814414903, 'tol': 0.000458734035734525}. Best is trial 141 with value: 0.9696118035400392.\n",
      "[I 2024-10-24 21:42:37,474] Trial 164 finished with value: 0.9695591094064872 and parameters: {'C': 0.022731701187781485, 'tol': 0.0008187514589548843}. Best is trial 141 with value: 0.9696118035400392.\n",
      "[I 2024-10-24 21:42:38,488] Trial 165 finished with value: 0.9695893035853768 and parameters: {'C': 0.03208794813768191, 'tol': 0.0008332142504463772}. Best is trial 141 with value: 0.9696118035400392.\n",
      "[I 2024-10-24 21:42:42,368] Trial 166 finished with value: 0.9695717558012102 and parameters: {'C': 0.02745971777349933, 'tol': 0.0008297728721985049}. Best is trial 141 with value: 0.9696118035400392.\n",
      "[I 2024-10-24 21:42:43,635] Trial 167 finished with value: 0.9695674940324036 and parameters: {'C': 0.027150580116623354, 'tol': 0.0008227521119550001}. Best is trial 141 with value: 0.9696118035400392.\n",
      "[I 2024-10-24 21:42:45,968] Trial 168 finished with value: 0.9695390623527717 and parameters: {'C': 0.04944486213339819, 'tol': 0.0008239024750195071}. Best is trial 141 with value: 0.9696118035400392.\n",
      "[I 2024-10-24 21:42:46,841] Trial 169 finished with value: 0.9695144915197146 and parameters: {'C': 0.04412129365104188, 'tol': 0.0008511158283459186}. Best is trial 141 with value: 0.9696118035400392.\n",
      "[I 2024-10-24 21:42:52,108] Trial 170 finished with value: 0.969586541609338 and parameters: {'C': 0.04939973149118183, 'tol': 0.00023582320757251874}. Best is trial 141 with value: 0.9696118035400392.\n",
      "[I 2024-10-24 21:42:52,831] Trial 171 finished with value: 0.9695477074458125 and parameters: {'C': 0.045689512152940655, 'tol': 0.0005863573967152564}. Best is trial 141 with value: 0.9696118035400392.\n",
      "[I 2024-10-24 21:42:56,129] Trial 172 finished with value: 0.9695848273203597 and parameters: {'C': 0.05520425106557512, 'tol': 0.00027059942398042716}. Best is trial 141 with value: 0.9696118035400392.\n",
      "[I 2024-10-24 21:42:56,579] Trial 173 finished with value: 0.9695832076292001 and parameters: {'C': 0.06006296355014891, 'tol': 0.0002741224610318261}. Best is trial 141 with value: 0.9696118035400392.\n",
      "[I 2024-10-24 21:43:00,854] Trial 174 finished with value: 0.9695532552497405 and parameters: {'C': 0.058446531426792556, 'tol': 0.0005686369554242795}. Best is trial 141 with value: 0.9696118035400392.\n",
      "[I 2024-10-24 21:43:02,658] Trial 175 finished with value: 0.9695921130568026 and parameters: {'C': 0.030382480400084247, 'tol': 0.00031575379728344776}. Best is trial 141 with value: 0.9696118035400392.\n",
      "[I 2024-10-24 21:43:05,578] Trial 177 finished with value: 0.9695535172318692 and parameters: {'C': 0.07279726874909163, 'tol': 0.0005508548554995645}. Best is trial 141 with value: 0.9696118035400392.\n",
      "[I 2024-10-24 21:43:06,125] Trial 176 finished with value: 0.9695853983539084 and parameters: {'C': 0.07005791694977236, 'tol': 0.00025542716826806503}. Best is trial 141 with value: 0.9696118035400392.\n",
      "[I 2024-10-24 21:43:11,102] Trial 178 finished with value: 0.9695927318461294 and parameters: {'C': 0.030771581554481443, 'tol': 0.0002566942327823288}. Best is trial 141 with value: 0.9696118035400392.\n",
      "[I 2024-10-24 21:43:12,130] Trial 179 finished with value: 0.9695531359242097 and parameters: {'C': 0.027239659012387587, 'tol': 0.0005549261155788947}. Best is trial 141 with value: 0.9696118035400392.\n",
      "[I 2024-10-24 21:43:15,762] Trial 180 finished with value: 0.9695956365639853 and parameters: {'C': 0.026099912080180053, 'tol': 0.00025543889870486127}. Best is trial 141 with value: 0.9696118035400392.\n",
      "[I 2024-10-24 21:43:15,764] Trial 181 finished with value: 0.9695784700259311 and parameters: {'C': 0.028394567717123606, 'tol': 0.0005398215897286568}. Best is trial 141 with value: 0.9696118035400392.\n",
      "[I 2024-10-24 21:43:19,061] Trial 182 finished with value: 0.9695568476280745 and parameters: {'C': 0.022890530904591946, 'tol': 0.001001519793425279}. Best is trial 141 with value: 0.9696118035400392.\n",
      "[I 2024-10-24 21:43:21,528] Trial 183 finished with value: 0.9695891355098464 and parameters: {'C': 0.02108031162821302, 'tol': 0.000397518018336773}. Best is trial 141 with value: 0.9696118035400392.\n",
      "[I 2024-10-24 21:43:24,729] Trial 184 finished with value: 0.969610397776964 and parameters: {'C': 0.009788804190188849, 'tol': 0.0003757363846337434}. Best is trial 141 with value: 0.9696118035400392.\n",
      "[I 2024-10-24 21:43:25,009] Trial 185 finished with value: 0.9696009937424899 and parameters: {'C': 0.015498268598484525, 'tol': 0.00038520344657583423}. Best is trial 141 with value: 0.9696118035400392.\n",
      "[I 2024-10-24 21:43:28,630] Trial 186 finished with value: 0.9696066599913523 and parameters: {'C': 0.014634035878610872, 'tol': 0.00027854162156162193}. Best is trial 141 with value: 0.9696118035400392.\n",
      "[I 2024-10-24 21:43:30,059] Trial 187 finished with value: 0.9693515500077053 and parameters: {'C': 0.001283839859836662, 'tol': 0.0003979429835751895}. Best is trial 141 with value: 0.9696118035400392.\n",
      "[I 2024-10-24 21:43:31,562] Trial 188 finished with value: 0.9686451898733537 and parameters: {'C': 0.00044171108360450614, 'tol': 0.0004062844691845326}. Best is trial 141 with value: 0.9696118035400392.\n",
      "[I 2024-10-24 21:43:33,138] Trial 189 finished with value: 0.969471945889044 and parameters: {'C': 0.0018159099869985151, 'tol': 0.000710859958829667}. Best is trial 141 with value: 0.9696118035400392.\n",
      "[I 2024-10-24 21:43:35,841] Trial 190 finished with value: 0.9687658919607453 and parameters: {'C': 0.0005056598921498699, 'tol': 0.0006881570981851715}. Best is trial 141 with value: 0.9696118035400392.\n",
      "[I 2024-10-24 21:43:38,505] Trial 191 finished with value: 0.9696013965300706 and parameters: {'C': 0.012559320890797136, 'tol': 0.0007290329121550066}. Best is trial 141 with value: 0.9696118035400392.\n",
      "[I 2024-10-24 21:43:41,066] Trial 192 finished with value: 0.9695963015846172 and parameters: {'C': 0.01474941002045624, 'tol': 0.0007063060463804892}. Best is trial 141 with value: 0.9696118035400392.\n",
      "[I 2024-10-24 21:43:42,431] Trial 193 finished with value: 0.9695776130069031 and parameters: {'C': 0.024403777759815237, 'tol': 0.0006795509488990747}. Best is trial 141 with value: 0.9696118035400392.\n",
      "[I 2024-10-24 21:43:46,285] Trial 194 finished with value: 0.9695908030514715 and parameters: {'C': 0.026624215017900382, 'tol': 0.00041278523304946464}. Best is trial 141 with value: 0.9696118035400392.\n",
      "[I 2024-10-24 21:43:47,117] Trial 196 finished with value: 0.9690456623426129 and parameters: {'C': 0.02367882248170184, 'tol': 0.003413234549003012}. Best is trial 141 with value: 0.9696118035400392.\n",
      "[I 2024-10-24 21:43:47,438] Trial 195 finished with value: 0.9695546092328072 and parameters: {'C': 0.02319608917253733, 'tol': 0.0010045023616869016}. Best is trial 141 with value: 0.9696118035400392.\n",
      "[I 2024-10-24 21:43:47,877] Trial 197 finished with value: 0.9690486147546998 and parameters: {'C': 0.020189116498342607, 'tol': 0.0033652243725553585}. Best is trial 141 with value: 0.9696118035400392.\n",
      "[I 2024-10-24 21:43:54,535] Trial 200 finished with value: 0.9692636081993827 and parameters: {'C': 0.048702191648901404, 'tol': 0.0015340822073965966}. Best is trial 141 with value: 0.9696118035400392.\n",
      "[I 2024-10-24 21:43:54,728] Trial 198 finished with value: 0.9695511810099298 and parameters: {'C': 0.022746799348239942, 'tol': 0.0010371958712362464}. Best is trial 141 with value: 0.9696118035400392.\n",
      "[I 2024-10-24 21:43:55,253] Trial 199 finished with value: 0.9695648256173526 and parameters: {'C': 0.021237616688367253, 'tol': 0.0009230731674959147}. Best is trial 141 with value: 0.9696118035400392.\n",
      "[I 2024-10-24 21:43:56,097] Trial 201 finished with value: 0.9695173019522212 and parameters: {'C': 0.04804424793012471, 'tol': 0.0009513879279531743}. Best is trial 141 with value: 0.9696118035400392.\n",
      "[I 2024-10-24 21:44:02,721] Trial 202 finished with value: 0.9695233971177549 and parameters: {'C': 0.04014339107338776, 'tol': 0.0009010155294420317}. Best is trial 141 with value: 0.9696118035400392.\n",
      "[I 2024-10-24 21:44:03,188] Trial 203 finished with value: 0.9695517548651745 and parameters: {'C': 0.04101425497587313, 'tol': 0.0007952970093049695}. Best is trial 141 with value: 0.9696118035400392.\n",
      "[I 2024-10-24 21:44:04,431] Trial 204 finished with value: 0.9695837070929963 and parameters: {'C': 0.04497218952814455, 'tol': 0.000617724580273875}. Best is trial 141 with value: 0.9696118035400392.\n",
      "[I 2024-10-24 21:44:05,107] Trial 205 finished with value: 0.9695575408988033 and parameters: {'C': 0.040840887035064596, 'tol': 0.0006167752401658079}. Best is trial 141 with value: 0.9696118035400392.\n",
      "[I 2024-10-24 21:44:10,509] Trial 209 finished with value: 0.968988444363438 and parameters: {'C': 0.014754414488718446, 'tol': 0.007620998833661077}. Best is trial 141 with value: 0.9696118035400392.\n",
      "[I 2024-10-24 21:44:12,000] Trial 206 finished with value: 0.9695585421131053 and parameters: {'C': 0.05871501451926341, 'tol': 0.00047180675677022685}. Best is trial 141 with value: 0.9696118035400392.\n",
      "[I 2024-10-24 21:44:12,335] Trial 207 finished with value: 0.9695981379119308 and parameters: {'C': 0.08651812406132632, 'tol': 0.0005686539494876034}. Best is trial 141 with value: 0.9696118035400392.\n",
      "[I 2024-10-24 21:44:14,705] Trial 208 finished with value: 0.9695825179850133 and parameters: {'C': 0.0866273057313149, 'tol': 0.0002572605073639173}. Best is trial 141 with value: 0.9696118035400392.\n",
      "[I 2024-10-24 21:44:16,413] Trial 210 finished with value: 0.9690190416281748 and parameters: {'C': 0.0937135284736302, 'tol': 0.004029324655750267}. Best is trial 141 with value: 0.9696118035400392.\n",
      "[I 2024-10-24 21:44:22,551] Trial 211 finished with value: 0.9695855416543833 and parameters: {'C': 0.08416932945799635, 'tol': 0.0002010385419753001}. Best is trial 141 with value: 0.9696118035400392.\n",
      "[I 2024-10-24 21:44:22,810] Trial 213 finished with value: 0.9694895910027718 and parameters: {'C': 0.0019556400379207757, 'tol': 0.00021301491659411322}. Best is trial 141 with value: 0.9696118035400392.\n",
      "[I 2024-10-24 21:44:23,020] Trial 212 finished with value: 0.9695835652412447 and parameters: {'C': 0.08037226605209163, 'tol': 0.0001961429934141073}. Best is trial 141 with value: 0.9696118035400392.\n",
      "[I 2024-10-24 21:44:25,556] Trial 214 finished with value: 0.9696067785830531 and parameters: {'C': 0.00942025433764649, 'tol': 0.00034878412152565964}. Best is trial 141 with value: 0.9696118035400392.\n",
      "[I 2024-10-24 21:44:30,045] Trial 215 finished with value: 0.9689982972368909 and parameters: {'C': 0.000689201184075075, 'tol': 0.00036800235375059574}. Best is trial 141 with value: 0.9696118035400392.\n",
      "[I 2024-10-24 21:44:31,661] Trial 218 finished with value: 0.9690704724800773 and parameters: {'C': 0.013206444443756654, 'tol': 0.0025546275870254004}. Best is trial 141 with value: 0.9696118035400392.\n",
      "[I 2024-10-24 21:44:32,606] Trial 217 finished with value: 0.969555756001153 and parameters: {'C': 0.05760885948685539, 'tol': 0.00043707278131423894}. Best is trial 141 with value: 0.9696118035400392.\n",
      "[I 2024-10-24 21:44:32,616] Trial 216 finished with value: 0.9695693988899926 and parameters: {'C': 0.06396278632841709, 'tol': 0.0004272310133105558}. Best is trial 141 with value: 0.9696118035400392.\n",
      "[I 2024-10-24 21:44:39,323] Trial 219 finished with value: 0.9695943752423727 and parameters: {'C': 0.03072345205504066, 'tol': 0.00041205803786799534}. Best is trial 141 with value: 0.9696118035400392.\n",
      "[I 2024-10-24 21:44:40,802] Trial 222 finished with value: 0.9695628039339901 and parameters: {'C': 0.028613957191108645, 'tol': 0.0006857709884472272}. Best is trial 141 with value: 0.9696118035400392.\n",
      "[I 2024-10-24 21:44:40,818] Trial 220 finished with value: 0.9695878510512767 and parameters: {'C': 0.032832067148501835, 'tol': 0.00042887758105264397}. Best is trial 141 with value: 0.9696118035400392.\n",
      "[I 2024-10-24 21:44:41,085] Trial 221 finished with value: 0.9695746598278454 and parameters: {'C': 0.03347258989975529, 'tol': 0.0006787247103162322}. Best is trial 141 with value: 0.9696118035400392.\n",
      "[I 2024-10-24 21:44:48,204] Trial 223 finished with value: 0.9695889451637519 and parameters: {'C': 0.03289561112125267, 'tol': 0.0006037625226113646}. Best is trial 141 with value: 0.9696118035400392.\n",
      "[I 2024-10-24 21:44:48,655] Trial 225 finished with value: 0.9695995412557334 and parameters: {'C': 0.01588169928529943, 'tol': 0.0006359118441561943}. Best is trial 141 with value: 0.9696118035400392.\n",
      "[I 2024-10-24 21:44:48,928] Trial 224 finished with value: 0.969581443856392 and parameters: {'C': 0.016662050212374588, 'tol': 0.0006637523739037698}. Best is trial 141 with value: 0.9696118035400392.\n",
      "[I 2024-10-24 21:44:50,129] Trial 226 finished with value: 0.9695984218758257 and parameters: {'C': 0.016455864396479825, 'tol': 0.00026676557823614313}. Best is trial 141 with value: 0.9696118035400392.\n",
      "[I 2024-10-24 21:44:54,925] Trial 229 finished with value: 0.9688956429703234 and parameters: {'C': 0.001902136238162223, 'tol': 0.006456634562292996}. Best is trial 141 with value: 0.9696118035400392.\n",
      "[I 2024-10-24 21:44:57,971] Trial 227 finished with value: 0.9696006838436141 and parameters: {'C': 0.01492416437779682, 'tol': 0.0002153907624500669}. Best is trial 141 with value: 0.9696118035400392.\n",
      "[I 2024-10-24 21:44:58,652] Trial 228 finished with value: 0.9696019696798912 and parameters: {'C': 0.014174837767787767, 'tol': 0.00019431650429165784}. Best is trial 141 with value: 0.9696118035400392.\n",
      "[I 2024-10-24 21:44:58,654] Trial 230 finished with value: 0.9695269051008774 and parameters: {'C': 0.0023258363006115994, 'tol': 0.00019928500340366187}. Best is trial 141 with value: 0.9696118035400392.\n",
      "[I 2024-10-24 21:45:04,043] Trial 231 finished with value: 0.9695828032319277 and parameters: {'C': 0.05778425538171019, 'tol': 0.00019974749873481564}. Best is trial 141 with value: 0.9696118035400392.\n",
      "[I 2024-10-24 21:45:06,976] Trial 232 finished with value: 0.9696023742760081 and parameters: {'C': 0.013607889102469174, 'tol': 0.0002477441261288842}. Best is trial 141 with value: 0.9696118035400392.\n",
      "[I 2024-10-24 21:45:07,734] Trial 233 finished with value: 0.969598302938515 and parameters: {'C': 0.015635830154146123, 'tol': 0.00021135712837367336}. Best is trial 141 with value: 0.9696118035400392.\n",
      "[I 2024-10-24 21:45:08,516] Trial 234 finished with value: 0.9695868748156089 and parameters: {'C': 0.05613050176126267, 'tol': 0.00020813605113776634}. Best is trial 141 with value: 0.9696118035400392.\n",
      "[I 2024-10-24 21:45:13,749] Trial 235 finished with value: 0.9695994222332036 and parameters: {'C': 0.017554494223751937, 'tol': 0.00021083364244819965}. Best is trial 141 with value: 0.9696118035400392.\n",
      "[I 2024-10-24 21:45:16,518] Trial 236 finished with value: 0.969605874565749 and parameters: {'C': 0.014548340450833783, 'tol': 0.00016731504850091335}. Best is trial 141 with value: 0.9696118035400392.\n",
      "[I 2024-10-24 21:45:16,837] Trial 237 finished with value: 0.9696060883707392 and parameters: {'C': 0.012101315975662177, 'tol': 0.00022748654881292758}. Best is trial 141 with value: 0.9696118035400392.\n",
      "[I 2024-10-24 21:45:18,035] Trial 238 finished with value: 0.9696077078677886 and parameters: {'C': 0.016699957715231747, 'tol': 0.0003505544592206613}. Best is trial 141 with value: 0.9696118035400392.\n",
      "[I 2024-10-24 21:45:20,486] Trial 239 finished with value: 0.9669957931950781 and parameters: {'C': 4.01716836773789e-05, 'tol': 0.00015807621950090803}. Best is trial 141 with value: 0.9696118035400392.\n",
      "[I 2024-10-24 21:45:26,609] Trial 240 finished with value: 0.9696054219581971 and parameters: {'C': 0.012867356059573752, 'tol': 0.00014449809765316817}. Best is trial 141 with value: 0.9696118035400392.\n",
      "[I 2024-10-24 21:45:27,314] Trial 241 finished with value: 0.9696031838990713 and parameters: {'C': 0.013795228784871072, 'tol': 0.00012223786776077093}. Best is trial 141 with value: 0.9696118035400392.\n",
      "[I 2024-10-24 21:45:27,633] Trial 243 finished with value: 0.9682484838469607 and parameters: {'C': 0.0002844368302245756, 'tol': 0.00014846250332654784}. Best is trial 141 with value: 0.9696118035400392.\n",
      "[I 2024-10-24 21:45:27,800] Trial 242 finished with value: 0.9696044929385872 and parameters: {'C': 0.010638569080592238, 'tol': 0.0001238164696428823}. Best is trial 141 with value: 0.9696118035400392.\n",
      "[I 2024-10-24 21:45:36,607] Trial 244 finished with value: 0.969603731487928 and parameters: {'C': 0.013883382064054749, 'tol': 0.00012382071909232823}. Best is trial 141 with value: 0.9696118035400392.\n",
      "[I 2024-10-24 21:45:36,886] Trial 245 finished with value: 0.9696075886416798 and parameters: {'C': 0.011828189916327066, 'tol': 0.0001454297824868746}. Best is trial 141 with value: 0.9696118035400392.\n",
      "[I 2024-10-24 21:45:38,636] Trial 247 finished with value: 0.9696065410919165 and parameters: {'C': 0.012322217790940436, 'tol': 4.331466551954651e-05}. Best is trial 141 with value: 0.9696118035400392.\n",
      "[I 2024-10-24 21:45:40,309] Trial 246 finished with value: 0.9696015650932429 and parameters: {'C': 0.015727716924981473, 'tol': 1.8602647948499592e-06}. Best is trial 141 with value: 0.9696118035400392.\n",
      "[I 2024-10-24 21:45:42,208] Trial 249 finished with value: 0.9688089440668415 and parameters: {'C': 0.0005385500525978779, 'tol': 4.695588427626636e-05}. Best is trial 141 with value: 0.9696118035400392.\n",
      "[I 2024-10-24 21:45:43,161] Trial 248 finished with value: 0.9696083979664769 and parameters: {'C': 0.009863163887934963, 'tol': 2.4587445846321017e-05}. Best is trial 141 with value: 0.9696118035400392.\n"
     ]
    }
   ],
   "source": [
    "def objective(trial):    \n",
    "    params = {\n",
    "        'random_state': CFG.seed,\n",
    "        'max_iter': 500,\n",
    "        'C': trial.suggest_float('C', 0, 1),\n",
    "        'tol': trial.suggest_float('tol', 1e-6, 1e-2)\n",
    "    }\n",
    "    \n",
    "    model = LogisticRegression(**params)\n",
    "    trainer = Trainer(model)\n",
    "    return trainer.fit(X, y)\n",
    "\n",
    "sampler = optuna.samplers.TPESampler(seed=CFG.seed)\n",
    "study = optuna.create_study(direction='maximize', sampler=sampler)\n",
    "study.optimize(objective, n_trials=250, n_jobs=-1)\n",
    "best_params = study.best_params"
   ]
  },
  {
   "cell_type": "code",
   "execution_count": 24,
   "id": "e186e42d",
   "metadata": {
    "execution": {
     "iopub.execute_input": "2024-10-24T21:45:43.248370Z",
     "iopub.status.busy": "2024-10-24T21:45:43.247595Z",
     "iopub.status.idle": "2024-10-24T21:45:43.253955Z",
     "shell.execute_reply": "2024-10-24T21:45:43.252867Z"
    },
    "papermill": {
     "duration": 0.049593,
     "end_time": "2024-10-24T21:45:43.257096",
     "exception": false,
     "start_time": "2024-10-24T21:45:43.207503",
     "status": "completed"
    },
    "tags": []
   },
   "outputs": [
    {
     "name": "stdout",
     "output_type": "stream",
     "text": [
      "{\n",
      "  \"random_state\": 42,\n",
      "  \"max_iter\": 500,\n",
      "  \"C\": 0.031196200816036128,\n",
      "  \"tol\": 0.00048748288390266256\n",
      "}\n"
     ]
    }
   ],
   "source": [
    "lr_params = {\n",
    "    'random_state': CFG.seed,\n",
    "    'max_iter': 500,\n",
    "    'C': best_params['C'],\n",
    "    'tol': best_params['tol']\n",
    "}\n",
    "print(json.dumps(lr_params, indent=2))"
   ]
  },
  {
   "cell_type": "code",
   "execution_count": 25,
   "id": "f3ce4cc5",
   "metadata": {
    "execution": {
     "iopub.execute_input": "2024-10-24T21:45:43.337360Z",
     "iopub.status.busy": "2024-10-24T21:45:43.336476Z",
     "iopub.status.idle": "2024-10-24T21:45:46.031526Z",
     "shell.execute_reply": "2024-10-24T21:45:46.030392Z"
    },
    "papermill": {
     "duration": 2.737959,
     "end_time": "2024-10-24T21:45:46.034133",
     "exception": false,
     "start_time": "2024-10-24T21:45:43.296174",
     "status": "completed"
    },
    "tags": []
   },
   "outputs": [
    {
     "name": "stdout",
     "output_type": "stream",
     "text": [
      "Training LogisticRegression\n",
      "\n",
      "--- Fold 1 - AUC: 0.966822 (18 iterations)\n",
      "--- Fold 2 - AUC: 0.963055 (28 iterations)\n",
      "--- Fold 3 - AUC: 0.974295 (19 iterations)\n",
      "--- Fold 4 - AUC: 0.972491 (25 iterations)\n",
      "--- Fold 5 - AUC: 0.969689 (29 iterations)\n",
      "--- Fold 6 - AUC: 0.969213 (25 iterations)\n",
      "--- Fold 7 - AUC: 0.970501 (29 iterations)\n",
      "--- Fold 8 - AUC: 0.972673 (25 iterations)\n",
      "--- Fold 9 - AUC: 0.969781 (30 iterations)\n",
      "--- Fold 10 - AUC: 0.967598 (28 iterations)\n",
      "\n",
      "------ Overall: 0.969572 | Average: 0.969612 ± 0.003089\n"
     ]
    }
   ],
   "source": [
    "lr_model = LogisticRegression(**lr_params)\n",
    "lr_trainer = Trainer(lr_model, is_ensemble_model=True)\n",
    "scores['Ensemble (LR)'], coeffs = lr_trainer.fit_predict(X, y, X_test)"
   ]
  },
  {
   "cell_type": "markdown",
   "id": "71bfef7b",
   "metadata": {
    "papermill": {
     "duration": 0.039407,
     "end_time": "2024-10-24T21:45:46.113709",
     "exception": false,
     "start_time": "2024-10-24T21:45:46.074302",
     "status": "completed"
    },
    "tags": []
   },
   "source": [
    "Here, we can see the coefficients of the logistic regression model, which represent the contribution of each base model's prediction to the final ensemble output. A positive coefficient indicates that the corresponding base model's predictions positively influence the final prediction, and a negative coefficient suggests a negative impact."
   ]
  },
  {
   "cell_type": "code",
   "execution_count": 26,
   "id": "4db63f13",
   "metadata": {
    "_kg_hide-input": false,
    "execution": {
     "iopub.execute_input": "2024-10-24T21:45:46.196300Z",
     "iopub.status.busy": "2024-10-24T21:45:46.195521Z",
     "iopub.status.idle": "2024-10-24T21:45:46.543012Z",
     "shell.execute_reply": "2024-10-24T21:45:46.541837Z"
    },
    "papermill": {
     "duration": 0.391816,
     "end_time": "2024-10-24T21:45:46.545624",
     "exception": false,
     "start_time": "2024-10-24T21:45:46.153808",
     "status": "completed"
    },
    "tags": []
   },
   "outputs": [
    {
     "data": {
      "image/png": "[encoded data removed]",
      "text/plain": [
       "<Figure size 800x420 with 1 Axes>"
      ]
     },
     "metadata": {},
     "output_type": "display_data"
    }
   ],
   "source": [
    "sorted_indices = np.argsort(coeffs[0])[::-1]\n",
    "sorted_coeffs = np.array(coeffs[0])[sorted_indices]\n",
    "sorted_model_names = np.array(list(oof_pred_probs.keys()))[sorted_indices]\n",
    "\n",
    "plt.figure(figsize=(8, coeffs.shape[1] * 0.6))\n",
    "ax = sns.barplot(x=sorted_coeffs, y=sorted_model_names, palette=\"RdYlGn_r\")\n",
    "\n",
    "for i, (value, name) in enumerate(zip(sorted_coeffs, sorted_model_names)):\n",
    "    if value > 0:\n",
    "        ax.text(value, i, f'{value:.3f}', va='center', ha='left', color='black')\n",
    "    else:\n",
    "        ax.text(value, i, f'{value:.3f}', va='center', ha='right', color='black')\n",
    "\n",
    "xlim = ax.get_xlim()\n",
    "ax.set_xlim(xlim[0] - 0.1 * abs(xlim[0]), xlim[1] + 0.1 * abs(xlim[1]))\n",
    "        \n",
    "plt.title('Logistic Regression Coefficients')\n",
    "plt.xlabel('')\n",
    "plt.ylabel('')\n",
    "plt.tight_layout()\n",
    "plt.show()"
   ]
  },
  {
   "cell_type": "markdown",
   "id": "6b6a3d0f",
   "metadata": {
    "papermill": {
     "duration": 0.040759,
     "end_time": "2024-10-24T21:45:46.627142",
     "exception": false,
     "start_time": "2024-10-24T21:45:46.586383",
     "status": "completed"
    },
    "tags": []
   },
   "source": [
    "# Ensembling with hill climbing"
   ]
  },
  {
   "cell_type": "code",
   "execution_count": 27,
   "id": "8690503f",
   "metadata": {
    "execution": {
     "iopub.execute_input": "2024-10-24T21:45:46.712508Z",
     "iopub.status.busy": "2024-10-24T21:45:46.711587Z",
     "iopub.status.idle": "2024-10-24T21:53:52.028642Z",
     "shell.execute_reply": "2024-10-24T21:53:52.027493Z"
    },
    "papermill": {
     "duration": 485.361674,
     "end_time": "2024-10-24T21:53:52.031088",
     "exception": false,
     "start_time": "2024-10-24T21:45:46.669414",
     "status": "completed"
    },
    "tags": []
   },
   "outputs": [
    {
     "name": "stdout",
     "output_type": "stream",
     "text": [
      "\u001b[1m\u001b[34m   /\\  \n",
      "  /__\\  hillclimbers\u001b[0m\u001b[1m \n",
      " /    \\\n",
      "/______\\ \n",
      "\u001b[0m\n",
      "\u001b[1m\u001b[33mModels to be ensembled | (7 total):\u001b[0m \n",
      "\n",
      "\u001b[1m\u001b[32mCatBoost:         0.96864 (best solo model)\u001b[0m\n",
      "\u001b[1mLightGBM (goss):  0.96481\u001b[0m\n",
      "\u001b[1mLightGBM:         0.96377\u001b[0m\n",
      "\u001b[1mLightGBM (dart):  0.96267\u001b[0m\n",
      "\u001b[1mGradientBoosting: 0.96169\u001b[0m\n",
      "\u001b[1mXGBoost:          0.95994\u001b[0m\n",
      "\u001b[1mHistGB:           0.95808\u001b[0m\n",
      "\n",
      "\u001b[1m\u001b[33m[Data preparation completed successfully] - [Initiate hill climbing]\u001b[0m \n",
      "\n",
      "\u001b[1m\u001b[32mIteration: 1 | Model added: LightGBM (goss) | Best weight: 0.205 | Best roc_auc_score: 0.96957\u001b[0m\n",
      "\u001b[1m\u001b[32mIteration: 2 | Model added: LightGBM | Best weight: 0.039 | Best roc_auc_score: 0.96963\u001b[0m\n",
      "\u001b[1m\u001b[31mIteration: 3 | Model added: GradientBoosting | Best weight: -0.057 | Best roc_auc_score: 0.96964\u001b[0m\n",
      "\u001b[1m\u001b[32mIteration: 4 | Model added: HistGB | Best weight: 0.058 | Best roc_auc_score: 0.96965\u001b[0m\n",
      "\u001b[1m\u001b[31mIteration: 5 | Model added: XGBoost | Best weight: -0.017 | Best roc_auc_score: 0.96966\u001b[0m\n",
      "\u001b[1m\u001b[32mIteration: 6 | Model added: LightGBM (dart) | Best weight: 0.016 | Best roc_auc_score: 0.96966\u001b[0m\n"
     ]
    },
    {
     "data": {
      "text/html": [
       "        <script type=\"text/javascript\">\n",
       "        window.PlotlyConfig = {MathJaxConfig: 'local'};\n",
       "        if (window.MathJax && window.MathJax.Hub && window.MathJax.Hub.Config) {window.MathJax.Hub.Config({SVG: {font: \"STIX-Web\"}});}\n",
       "        if (typeof require !== 'undefined') {\n",
       "        require.undef(\"plotly\");\n",
       "        requirejs.config({\n",
       "            paths: {\n",
       "                'plotly': ['https://cdn.plot.ly/plotly-2.32.0.min']\n",
       "            }\n",
       "        });\n",
       "        require(['plotly'], function(Plotly) {\n",
       "            window._Plotly = Plotly;\n",
       "        });\n",
       "        }\n",
       "        </script>\n",
       "        "
      ]
     },
     "metadata": {},
     "output_type": "display_data"
    },
    {
     "data": {
      "text/html": [
       "<div>                            <div id=\"ea1c8843-0fc4-4bea-a070-53b8f597b358\" class=\"plotly-graph-div\" style=\"height:500px; width:900px;\"></div>            <script type=\"text/javascript\">                require([\"plotly\"], function(Plotly) {                    window.PLOTLYENV=window.PLOTLYENV || {};                                    if (document.getElementById(\"ea1c8843-0fc4-4bea-a070-53b8f597b358\")) {                    Plotly.newPlot(                        \"ea1c8843-0fc4-4bea-a070-53b8f597b358\",                        [{\"hovertemplate\":\"Number of Models: %{x}\\u003cbr\\u003eCV: %{y}\",\"legendgroup\":\"\",\"line\":{\"color\":\"#009933\",\"dash\":\"solid\"},\"marker\":{\"symbol\":\"circle\",\"line\":{\"color\":\"#FFFFFF\",\"width\":1.5},\"color\":\"#33cc33\",\"size\":10},\"mode\":\"lines+markers+text\",\"name\":\"\",\"orientation\":\"v\",\"showlegend\":false,\"text\":[0.96864,0.96957,0.96963,0.96964,0.96965,0.96966,0.96966],\"x\":[1,2,3,4,5,6,7],\"xaxis\":\"x\",\"y\":[0.9686373652932727,0.9695726971348089,0.9696256946292324,0.9696434128462431,0.9696531636994428,0.969661538241739,0.9696617334969191],\"yaxis\":\"y\",\"type\":\"scatter\",\"textfont\":{\"size\":10},\"textposition\":\"top center\"}],                        {\"template\":{\"data\":{\"barpolar\":[{\"marker\":{\"line\":{\"color\":\"rgb(17,17,17)\",\"width\":0.5},\"pattern\":{\"fillmode\":\"overlay\",\"size\":10,\"solidity\":0.2}},\"type\":\"barpolar\"}],\"bar\":[{\"error_x\":{\"color\":\"#f2f5fa\"},\"error_y\":{\"color\":\"#f2f5fa\"},\"marker\":{\"line\":{\"color\":\"rgb(17,17,17)\",\"width\":0.5},\"pattern\":{\"fillmode\":\"overlay\",\"size\":10,\"solidity\":0.2}},\"type\":\"bar\"}],\"carpet\":[{\"aaxis\":{\"endlinecolor\":\"#A2B1C6\",\"gridcolor\":\"#506784\",\"linecolor\":\"#506784\",\"minorgridcolor\":\"#506784\",\"startlinecolor\":\"#A2B1C6\"},\"baxis\":{\"endlinecolor\":\"#A2B1C6\",\"gridcolor\":\"#506784\",\"linecolor\":\"#506784\",\"minorgridcolor\":\"#506784\",\"startlinecolor\":\"#A2B1C6\"},\"type\":\"carpet\"}],\"choropleth\":[{\"colorbar\":{\"outlinewidth\":0,\"ticks\":\"\"},\"type\":\"choropleth\"}],\"contourcarpet\":[{\"colorbar\":{\"outlinewidth\":0,\"ticks\":\"\"},\"type\":\"contourcarpet\"}],\"contour\":[{\"colorbar\":{\"outlinewidth\":0,\"ticks\":\"\"},\"colorscale\":[[0.0,\"#0d0887\"],[0.1111111111111111,\"#46039f\"],[0.2222222222222222,\"#7201a8\"],[0.3333333333333333,\"#9c179e\"],[0.4444444444444444,\"#bd3786\"],[0.5555555555555556,\"#d8576b\"],[0.6666666666666666,\"#ed7953\"],[0.7777777777777778,\"#fb9f3a\"],[0.8888888888888888,\"#fdca26\"],[1.0,\"#f0f921\"]],\"type\":\"contour\"}],\"heatmapgl\":[{\"colorbar\":{\"outlinewidth\":0,\"ticks\":\"\"},\"colorscale\":[[0.0,\"#0d0887\"],[0.1111111111111111,\"#46039f\"],[0.2222222222222222,\"#7201a8\"],[0.3333333333333333,\"#9c179e\"],[0.4444444444444444,\"#bd3786\"],[0.5555555555555556,\"#d8576b\"],[0.6666666666666666,\"#ed7953\"],[0.7777777777777778,\"#fb9f3a\"],[0.8888888888888888,\"#fdca26\"],[1.0,\"#f0f921\"]],\"type\":\"heatmapgl\"}],\"heatmap\":[{\"colorbar\":{\"outlinewidth\":0,\"ticks\":\"\"},\"colorscale\":[[0.0,\"#0d0887\"],[0.1111111111111111,\"#46039f\"],[0.2222222222222222,\"#7201a8\"],[0.3333333333333333,\"#9c179e\"],[0.4444444444444444,\"#bd3786\"],[0.5555555555555556,\"#d8576b\"],[0.6666666666666666,\"#ed7953\"],[0.7777777777777778,\"#fb9f3a\"],[0.8888888888888888,\"#fdca26\"],[1.0,\"#f0f921\"]],\"type\":\"heatmap\"}],\"histogram2dcontour\":[{\"colorbar\":{\"outlinewidth\":0,\"ticks\":\"\"},\"colorscale\":[[0.0,\"#0d0887\"],[0.1111111111111111,\"#46039f\"],[0.2222222222222222,\"#7201a8\"],[0.3333333333333333,\"#9c179e\"],[0.4444444444444444,\"#bd3786\"],[0.5555555555555556,\"#d8576b\"],[0.6666666666666666,\"#ed7953\"],[0.7777777777777778,\"#fb9f3a\"],[0.8888888888888888,\"#fdca26\"],[1.0,\"#f0f921\"]],\"type\":\"histogram2dcontour\"}],\"histogram2d\":[{\"colorbar\":{\"outlinewidth\":0,\"ticks\":\"\"},\"colorscale\":[[0.0,\"#0d0887\"],[0.1111111111111111,\"#46039f\"],[0.2222222222222222,\"#7201a8\"],[0.3333333333333333,\"#9c179e\"],[0.4444444444444444,\"#bd3786\"],[0.5555555555555556,\"#d8576b\"],[0.6666666666666666,\"#ed7953\"],[0.7777777777777778,\"#fb9f3a\"],[0.8888888888888888,\"#fdca26\"],[1.0,\"#f0f921\"]],\"type\":\"histogram2d\"}],\"histogram\":[{\"marker\":{\"pattern\":{\"fillmode\":\"overlay\",\"size\":10,\"solidity\":0.2}},\"type\":\"histogram\"}],\"mesh3d\":[{\"colorbar\":{\"outlinewidth\":0,\"ticks\":\"\"},\"type\":\"mesh3d\"}],\"parcoords\":[{\"line\":{\"colorbar\":{\"outlinewidth\":0,\"ticks\":\"\"}},\"type\":\"parcoords\"}],\"pie\":[{\"automargin\":true,\"type\":\"pie\"}],\"scatter3d\":[{\"line\":{\"colorbar\":{\"outlinewidth\":0,\"ticks\":\"\"}},\"marker\":{\"colorbar\":{\"outlinewidth\":0,\"ticks\":\"\"}},\"type\":\"scatter3d\"}],\"scattercarpet\":[{\"marker\":{\"colorbar\":{\"outlinewidth\":0,\"ticks\":\"\"}},\"type\":\"scattercarpet\"}],\"scattergeo\":[{\"marker\":{\"colorbar\":{\"outlinewidth\":0,\"ticks\":\"\"}},\"type\":\"scattergeo\"}],\"scattergl\":[{\"marker\":{\"line\":{\"color\":\"#283442\"}},\"type\":\"scattergl\"}],\"scattermapbox\":[{\"marker\":{\"colorbar\":{\"outlinewidth\":0,\"ticks\":\"\"}},\"type\":\"scattermapbox\"}],\"scatterpolargl\":[{\"marker\":{\"colorbar\":{\"outlinewidth\":0,\"ticks\":\"\"}},\"type\":\"scatterpolargl\"}],\"scatterpolar\":[{\"marker\":{\"colorbar\":{\"outlinewidth\":0,\"ticks\":\"\"}},\"type\":\"scatterpolar\"}],\"scatter\":[{\"marker\":{\"line\":{\"color\":\"#283442\"}},\"type\":\"scatter\"}],\"scatterternary\":[{\"marker\":{\"colorbar\":{\"outlinewidth\":0,\"ticks\":\"\"}},\"type\":\"scatterternary\"}],\"surface\":[{\"colorbar\":{\"outlinewidth\":0,\"ticks\":\"\"},\"colorscale\":[[0.0,\"#0d0887\"],[0.1111111111111111,\"#46039f\"],[0.2222222222222222,\"#7201a8\"],[0.3333333333333333,\"#9c179e\"],[0.4444444444444444,\"#bd3786\"],[0.5555555555555556,\"#d8576b\"],[0.6666666666666666,\"#ed7953\"],[0.7777777777777778,\"#fb9f3a\"],[0.8888888888888888,\"#fdca26\"],[1.0,\"#f0f921\"]],\"type\":\"surface\"}],\"table\":[{\"cells\":{\"fill\":{\"color\":\"#506784\"},\"line\":{\"color\":\"rgb(17,17,17)\"}},\"header\":{\"fill\":{\"color\":\"#2a3f5f\"},\"line\":{\"color\":\"rgb(17,17,17)\"}},\"type\":\"table\"}]},\"layout\":{\"annotationdefaults\":{\"arrowcolor\":\"#f2f5fa\",\"arrowhead\":0,\"arrowwidth\":1},\"autotypenumbers\":\"strict\",\"coloraxis\":{\"colorbar\":{\"outlinewidth\":0,\"ticks\":\"\"}},\"colorscale\":{\"diverging\":[[0,\"#8e0152\"],[0.1,\"#c51b7d\"],[0.2,\"#de77ae\"],[0.3,\"#f1b6da\"],[0.4,\"#fde0ef\"],[0.5,\"#f7f7f7\"],[0.6,\"#e6f5d0\"],[0.7,\"#b8e186\"],[0.8,\"#7fbc41\"],[0.9,\"#4d9221\"],[1,\"#276419\"]],\"sequential\":[[0.0,\"#0d0887\"],[0.1111111111111111,\"#46039f\"],[0.2222222222222222,\"#7201a8\"],[0.3333333333333333,\"#9c179e\"],[0.4444444444444444,\"#bd3786\"],[0.5555555555555556,\"#d8576b\"],[0.6666666666666666,\"#ed7953\"],[0.7777777777777778,\"#fb9f3a\"],[0.8888888888888888,\"#fdca26\"],[1.0,\"#f0f921\"]],\"sequentialminus\":[[0.0,\"#0d0887\"],[0.1111111111111111,\"#46039f\"],[0.2222222222222222,\"#7201a8\"],[0.3333333333333333,\"#9c179e\"],[0.4444444444444444,\"#bd3786\"],[0.5555555555555556,\"#d8576b\"],[0.6666666666666666,\"#ed7953\"],[0.7777777777777778,\"#fb9f3a\"],[0.8888888888888888,\"#fdca26\"],[1.0,\"#f0f921\"]]},\"colorway\":[\"#636efa\",\"#EF553B\",\"#00cc96\",\"#ab63fa\",\"#FFA15A\",\"#19d3f3\",\"#FF6692\",\"#B6E880\",\"#FF97FF\",\"#FECB52\"],\"font\":{\"color\":\"#f2f5fa\"},\"geo\":{\"bgcolor\":\"rgb(17,17,17)\",\"lakecolor\":\"rgb(17,17,17)\",\"landcolor\":\"rgb(17,17,17)\",\"showlakes\":true,\"showland\":true,\"subunitcolor\":\"#506784\"},\"hoverlabel\":{\"align\":\"left\"},\"hovermode\":\"closest\",\"mapbox\":{\"style\":\"dark\"},\"paper_bgcolor\":\"rgb(17,17,17)\",\"plot_bgcolor\":\"rgb(17,17,17)\",\"polar\":{\"angularaxis\":{\"gridcolor\":\"#506784\",\"linecolor\":\"#506784\",\"ticks\":\"\"},\"bgcolor\":\"rgb(17,17,17)\",\"radialaxis\":{\"gridcolor\":\"#506784\",\"linecolor\":\"#506784\",\"ticks\":\"\"}},\"scene\":{\"xaxis\":{\"backgroundcolor\":\"rgb(17,17,17)\",\"gridcolor\":\"#506784\",\"gridwidth\":2,\"linecolor\":\"#506784\",\"showbackground\":true,\"ticks\":\"\",\"zerolinecolor\":\"#C8D4E3\"},\"yaxis\":{\"backgroundcolor\":\"rgb(17,17,17)\",\"gridcolor\":\"#506784\",\"gridwidth\":2,\"linecolor\":\"#506784\",\"showbackground\":true,\"ticks\":\"\",\"zerolinecolor\":\"#C8D4E3\"},\"zaxis\":{\"backgroundcolor\":\"rgb(17,17,17)\",\"gridcolor\":\"#506784\",\"gridwidth\":2,\"linecolor\":\"#506784\",\"showbackground\":true,\"ticks\":\"\",\"zerolinecolor\":\"#C8D4E3\"}},\"shapedefaults\":{\"line\":{\"color\":\"#f2f5fa\"}},\"sliderdefaults\":{\"bgcolor\":\"#C8D4E3\",\"bordercolor\":\"rgb(17,17,17)\",\"borderwidth\":1,\"tickwidth\":0},\"ternary\":{\"aaxis\":{\"gridcolor\":\"#506784\",\"linecolor\":\"#506784\",\"ticks\":\"\"},\"baxis\":{\"gridcolor\":\"#506784\",\"linecolor\":\"#506784\",\"ticks\":\"\"},\"bgcolor\":\"rgb(17,17,17)\",\"caxis\":{\"gridcolor\":\"#506784\",\"linecolor\":\"#506784\",\"ticks\":\"\"}},\"title\":{\"x\":0.05},\"updatemenudefaults\":{\"bgcolor\":\"#506784\",\"borderwidth\":0},\"xaxis\":{\"automargin\":true,\"gridcolor\":\"#283442\",\"linecolor\":\"#506784\",\"ticks\":\"\",\"title\":{\"standoff\":15},\"zerolinecolor\":\"#283442\",\"zerolinewidth\":2},\"yaxis\":{\"automargin\":true,\"gridcolor\":\"#283442\",\"linecolor\":\"#506784\",\"ticks\":\"\",\"title\":{\"standoff\":15},\"zerolinecolor\":\"#283442\",\"zerolinewidth\":2}}},\"xaxis\":{\"anchor\":\"y\",\"domain\":[0.0,1.0],\"title\":{\"text\":\"Number of models\"},\"tickmode\":\"array\",\"tickvals\":[1,2,3,4,5,6,7]},\"yaxis\":{\"anchor\":\"x\",\"domain\":[0.0,1.0],\"title\":{\"text\":\"roc_auc_score\"}},\"legend\":{\"tracegroupgap\":0},\"title\":{\"text\":\"Cross Validation roc_auc_score vs. Number of Models with Hill Climbing\"},\"autosize\":false,\"width\":900,\"height\":500},                        {\"responsive\": true}                    ).then(function(){\n",
       "                            \n",
       "var gd = document.getElementById('ea1c8843-0fc4-4bea-a070-53b8f597b358');\n",
       "var x = new MutationObserver(function (mutations, observer) {{\n",
       "        var display = window.getComputedStyle(gd).display;\n",
       "        if (!display || display === 'none') {{\n",
       "            console.log([gd, 'removed!']);\n",
       "            Plotly.purge(gd);\n",
       "            observer.disconnect();\n",
       "        }}\n",
       "}});\n",
       "\n",
       "// Listen for the removal of the full notebook cells\n",
       "var notebookContainer = gd.closest('#notebook-container');\n",
       "if (notebookContainer) {{\n",
       "    x.observe(notebookContainer, {childList: true});\n",
       "}}\n",
       "\n",
       "// Listen for the clearing of the current output cell\n",
       "var outputEl = gd.closest('.output');\n",
       "if (outputEl) {{\n",
       "    x.observe(outputEl, {childList: true});\n",
       "}}\n",
       "\n",
       "                        })                };                });            </script>        </div>"
      ]
     },
     "metadata": {},
     "output_type": "display_data"
    }
   ],
   "source": [
    "hc_test_pred_probs, hc_oof_pred_probs = climb_hill(\n",
    "    train=train, \n",
    "    oof_pred_df=pd.DataFrame(oof_pred_probs), \n",
    "    test_pred_df=pd.DataFrame(test_pred_probs),\n",
    "    target=CFG.target,\n",
    "    objective='maximize', \n",
    "    eval_metric=partial(roc_auc_score),\n",
    "    negative_weights=True, \n",
    "    precision=0.001, \n",
    "    plot_hill=True, \n",
    "    plot_hist=False,\n",
    "    return_oof_preds=True\n",
    ")"
   ]
  },
  {
   "cell_type": "code",
   "execution_count": 28,
   "id": "16b42235",
   "metadata": {
    "execution": {
     "iopub.execute_input": "2024-10-24T21:53:52.116802Z",
     "iopub.status.busy": "2024-10-24T21:53:52.115783Z",
     "iopub.status.idle": "2024-10-24T21:53:52.144959Z",
     "shell.execute_reply": "2024-10-24T21:53:52.143950Z"
    },
    "papermill": {
     "duration": 0.074719,
     "end_time": "2024-10-24T21:53:52.147610",
     "exception": false,
     "start_time": "2024-10-24T21:53:52.072891",
     "status": "completed"
    },
    "tags": []
   },
   "outputs": [],
   "source": [
    "hc_score = roc_auc_score(y, hc_oof_pred_probs)\n",
    "scores['Hill Climbing'] = [hc_score] * CFG.n_folds"
   ]
  },
  {
   "cell_type": "code",
   "execution_count": 29,
   "id": "0c35a20e",
   "metadata": {
    "execution": {
     "iopub.execute_input": "2024-10-24T21:53:52.233006Z",
     "iopub.status.busy": "2024-10-24T21:53:52.232214Z",
     "iopub.status.idle": "2024-10-24T21:53:52.347322Z",
     "shell.execute_reply": "2024-10-24T21:53:52.346329Z"
    },
    "papermill": {
     "duration": 0.160636,
     "end_time": "2024-10-24T21:53:52.349902",
     "exception": false,
     "start_time": "2024-10-24T21:53:52.189266",
     "status": "completed"
    },
    "tags": []
   },
   "outputs": [
    {
     "data": {
      "text/html": [
       "<div>\n",
       "<style scoped>\n",
       "    .dataframe tbody tr th:only-of-type {\n",
       "        vertical-align: middle;\n",
       "    }\n",
       "\n",
       "    .dataframe tbody tr th {\n",
       "        vertical-align: top;\n",
       "    }\n",
       "\n",
       "    .dataframe thead th {\n",
       "        text-align: right;\n",
       "    }\n",
       "</style>\n",
       "<table border=\"1\" class=\"dataframe\">\n",
       "  <thead>\n",
       "    <tr style=\"text-align: right;\">\n",
       "      <th></th>\n",
       "      <th>id</th>\n",
       "      <th>loan_status</th>\n",
       "    </tr>\n",
       "  </thead>\n",
       "  <tbody>\n",
       "    <tr>\n",
       "      <th>0</th>\n",
       "      <td>58645</td>\n",
       "      <td>1.000112</td>\n",
       "    </tr>\n",
       "    <tr>\n",
       "      <th>1</th>\n",
       "      <td>58646</td>\n",
       "      <td>0.064488</td>\n",
       "    </tr>\n",
       "    <tr>\n",
       "      <th>2</th>\n",
       "      <td>58647</td>\n",
       "      <td>0.603205</td>\n",
       "    </tr>\n",
       "    <tr>\n",
       "      <th>3</th>\n",
       "      <td>58648</td>\n",
       "      <td>0.015107</td>\n",
       "    </tr>\n",
       "    <tr>\n",
       "      <th>4</th>\n",
       "      <td>58649</td>\n",
       "      <td>0.079901</td>\n",
       "    </tr>\n",
       "  </tbody>\n",
       "</table>\n",
       "</div>"
      ],
      "text/plain": [
       "      id  loan_status\n",
       "0  58645     1.000112\n",
       "1  58646     0.064488\n",
       "2  58647     0.603205\n",
       "3  58648     0.015107\n",
       "4  58649     0.079901"
      ]
     },
     "execution_count": 29,
     "metadata": {},
     "output_type": "execute_result"
    }
   ],
   "source": [
    "hc_sub = pd.read_csv(CFG.sample_sub_path)\n",
    "hc_sub[CFG.target] = hc_test_pred_probs\n",
    "hc_sub.to_csv(f'sub_hill-climbing_{hc_score:.6f}.csv', index=False)\n",
    "hc_sub.head()"
   ]
  },
  {
   "cell_type": "markdown",
   "id": "62964f89",
   "metadata": {
    "papermill": {
     "duration": 0.042038,
     "end_time": "2024-10-24T21:53:52.434690",
     "exception": false,
     "start_time": "2024-10-24T21:53:52.392652",
     "status": "completed"
    },
    "tags": []
   },
   "source": [
    "# Results"
   ]
  },
  {
   "cell_type": "code",
   "execution_count": 30,
   "id": "e70d1180",
   "metadata": {
    "_kg_hide-input": false,
    "execution": {
     "iopub.execute_input": "2024-10-24T21:53:52.522839Z",
     "iopub.status.busy": "2024-10-24T21:53:52.522052Z",
     "iopub.status.idle": "2024-10-24T21:53:53.338596Z",
     "shell.execute_reply": "2024-10-24T21:53:53.337298Z"
    },
    "papermill": {
     "duration": 0.865814,
     "end_time": "2024-10-24T21:53:53.342821",
     "exception": false,
     "start_time": "2024-10-24T21:53:52.477007",
     "status": "completed"
    },
    "tags": []
   },
   "outputs": [
    {
     "data": {
      "image/png": "[encoded data removed]",
      "text/plain": [
       "<Figure size 1500x540 with 2 Axes>"
      ]
     },
     "metadata": {},
     "output_type": "display_data"
    }
   ],
   "source": [
    "scores = pd.DataFrame(scores)\n",
    "mean_scores = scores.mean().sort_values(ascending=False)\n",
    "order = scores.mean().sort_values(ascending=False).index.tolist()\n",
    "\n",
    "min_score = mean_scores.min()\n",
    "max_score = mean_scores.max()\n",
    "padding = (max_score - min_score) * 0.5\n",
    "lower_limit = min_score - padding\n",
    "upper_limit = max_score + padding\n",
    "\n",
    "fig, axs = plt.subplots(1, 2, figsize=(15, scores.shape[1] * 0.6))\n",
    "\n",
    "sns.boxplot(data=scores, order=order, ax=axs[0], orient='h', palette='RdYlGn_r')\n",
    "axs[0].set_title('Fold AUC')\n",
    "axs[0].set_xlabel('')\n",
    "axs[0].set_ylabel('')\n",
    "\n",
    "barplot = sns.barplot(x=mean_scores.values, y=mean_scores.index, ax=axs[1], palette='RdYlGn_r')\n",
    "axs[1].set_title('Average AUC')\n",
    "axs[1].set_xlabel('')\n",
    "axs[1].set_xlim(left=lower_limit, right=upper_limit)\n",
    "axs[1].set_ylabel('')\n",
    "\n",
    "for i, score in enumerate(mean_scores.values):\n",
    "    barplot.text(score, i, round(score, 6), va='center')\n",
    "\n",
    "plt.tight_layout()\n",
    "plt.show()"
   ]
  },
  {
   "cell_type": "code",
   "execution_count": 31,
   "id": "55fccafb",
   "metadata": {
    "execution": {
     "iopub.execute_input": "2024-10-24T21:53:53.434901Z",
     "iopub.status.busy": "2024-10-24T21:53:53.433897Z",
     "iopub.status.idle": "2024-10-24T21:53:53.441074Z",
     "shell.execute_reply": "2024-10-24T21:53:53.440021Z"
    },
    "papermill": {
     "duration": 0.05541,
     "end_time": "2024-10-24T21:53:53.443568",
     "exception": false,
     "start_time": "2024-10-24T21:53:53.388158",
     "status": "completed"
    },
    "tags": []
   },
   "outputs": [],
   "source": [
    "shutil.rmtree('catboost_info', ignore_errors=True)"
   ]
  }
 ],
 "metadata": {
  "kaggle": {
   "accelerator": "none",
   "dataSources": [
    {
     "databundleVersionId": 9709193,
     "sourceId": 84894,
     "sourceType": "competition"
    },
    {
     "datasetId": 4675026,
     "sourceId": 7949759,
     "sourceType": "datasetVersion"
    }
   ],
   "dockerImageVersionId": 30775,
   "isGpuEnabled": false,
   "isInternetEnabled": true,
   "language": "python",
   "sourceType": "notebook"
  },
  "kernelspec": {
   "display_name": "Python 3",
   "language": "python",
   "name": "python3"
  },
  "language_info": {
   "codemirror_mode": {
    "name": "ipython",
    "version": 3
   },
   "file_extension": ".py",
   "mimetype": "text/x-python",
   "name": "python",
   "nbconvert_exporter": "python",
   "pygments_lexer": "ipython3",
   "version": "3.10.14"
  },
  "papermill": {
   "default_parameters": {},
   "duration": 9804.513408,
   "end_time": "2024-10-24T21:53:54.511668",
   "environment_variables": {},
   "exception": null,
   "input_path": "__notebook__.ipynb",
   "output_path": "__notebook__.ipynb",
   "parameters": {},
   "start_time": "2024-10-24T19:10:29.998260",
   "version": "2.6.0"
  }
 },
 "nbformat": 4,
 "nbformat_minor": 5
}
