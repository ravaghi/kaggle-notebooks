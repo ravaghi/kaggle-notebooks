{
 "cells": [
  {
   "cell_type": "markdown",
   "id": "f64258df",
   "metadata": {
    "papermill": {
     "duration": 0.007366,
     "end_time": "2024-10-02T06:02:09.344293",
     "exception": false,
     "start_time": "2024-10-02T06:02:09.336927",
     "status": "completed"
    },
    "tags": []
   },
   "source": [
    "# Imports and configs"
   ]
  },
  {
   "cell_type": "code",
   "execution_count": 1,
   "id": "db1384fe",
   "metadata": {
    "execution": {
     "iopub.execute_input": "2024-10-02T06:02:09.360355Z",
     "iopub.status.busy": "2024-10-02T06:02:09.359933Z",
     "iopub.status.idle": "2024-10-02T06:02:14.560069Z",
     "shell.execute_reply": "2024-10-02T06:02:14.558783Z"
    },
    "papermill": {
     "duration": 5.212059,
     "end_time": "2024-10-02T06:02:14.562789",
     "exception": false,
     "start_time": "2024-10-02T06:02:09.350730",
     "status": "completed"
    },
    "tags": []
   },
   "outputs": [],
   "source": [
    "from sklearn.ensemble import HistGradientBoostingClassifier\n",
    "from sklearn.linear_model import LogisticRegression\n",
    "from sklearn.model_selection import StratifiedKFold\n",
    "from sklearn.preprocessing import OrdinalEncoder\n",
    "from sklearn.metrics import roc_auc_score\n",
    "from sklearn.base import clone\n",
    "from scipy.special import logit\n",
    "from catboost import CatBoostClassifier\n",
    "from lightgbm import LGBMClassifier\n",
    "from xgboost import XGBClassifier\n",
    "import matplotlib.pyplot as plt\n",
    "import seaborn as sns\n",
    "import pandas as pd\n",
    "import numpy as np\n",
    "import warnings\n",
    "import pickle\n",
    "import shutil\n",
    "import os\n",
    "import gc\n",
    "\n",
    "warnings.filterwarnings('ignore')"
   ]
  },
  {
   "cell_type": "code",
   "execution_count": 2,
   "id": "e43d8ee1",
   "metadata": {
    "execution": {
     "iopub.execute_input": "2024-10-02T06:02:14.576520Z",
     "iopub.status.busy": "2024-10-02T06:02:14.575880Z",
     "iopub.status.idle": "2024-10-02T06:02:14.582347Z",
     "shell.execute_reply": "2024-10-02T06:02:14.581168Z"
    },
    "papermill": {
     "duration": 0.015982,
     "end_time": "2024-10-02T06:02:14.584770",
     "exception": false,
     "start_time": "2024-10-02T06:02:14.568788",
     "status": "completed"
    },
    "tags": []
   },
   "outputs": [],
   "source": [
    "class CFG:\n",
    "    train_path = '/kaggle/input/playground-series-s4e10/train.csv'\n",
    "    test_path = '/kaggle/input/playground-series-s4e10/test.csv'\n",
    "    sample_sub_path = '/kaggle/input/playground-series-s4e10/sample_submission.csv'\n",
    "    \n",
    "    target = 'loan_status'\n",
    "    n_folds = 5\n",
    "    seed = 1859"
   ]
  },
  {
   "cell_type": "markdown",
   "id": "c29b3ac0",
   "metadata": {
    "papermill": {
     "duration": 0.005356,
     "end_time": "2024-10-02T06:02:14.596149",
     "exception": false,
     "start_time": "2024-10-02T06:02:14.590793",
     "status": "completed"
    },
    "tags": []
   },
   "source": [
    "# Data loading and preprocessing"
   ]
  },
  {
   "cell_type": "code",
   "execution_count": 3,
   "id": "5a0dfb3a",
   "metadata": {
    "execution": {
     "iopub.execute_input": "2024-10-02T06:02:14.609434Z",
     "iopub.status.busy": "2024-10-02T06:02:14.608995Z",
     "iopub.status.idle": "2024-10-02T06:02:14.874724Z",
     "shell.execute_reply": "2024-10-02T06:02:14.873645Z"
    },
    "papermill": {
     "duration": 0.275224,
     "end_time": "2024-10-02T06:02:14.877069",
     "exception": false,
     "start_time": "2024-10-02T06:02:14.601845",
     "status": "completed"
    },
    "tags": []
   },
   "outputs": [
    {
     "data": {
      "text/plain": [
       "((58645, 12), (39098, 11))"
      ]
     },
     "execution_count": 3,
     "metadata": {},
     "output_type": "execute_result"
    }
   ],
   "source": [
    "train = pd.read_csv(CFG.train_path, index_col='id')\n",
    "test = pd.read_csv(CFG.test_path, index_col='id')\n",
    "\n",
    "train.shape, test.shape"
   ]
  },
  {
   "cell_type": "code",
   "execution_count": 4,
   "id": "b13e0776",
   "metadata": {
    "execution": {
     "iopub.execute_input": "2024-10-02T06:02:14.891021Z",
     "iopub.status.busy": "2024-10-02T06:02:14.890534Z",
     "iopub.status.idle": "2024-10-02T06:02:14.923044Z",
     "shell.execute_reply": "2024-10-02T06:02:14.921771Z"
    },
    "papermill": {
     "duration": 0.042964,
     "end_time": "2024-10-02T06:02:14.926291",
     "exception": false,
     "start_time": "2024-10-02T06:02:14.883327",
     "status": "completed"
    },
    "tags": []
   },
   "outputs": [
    {
     "name": "stdout",
     "output_type": "stream",
     "text": [
      "<class 'pandas.core.frame.DataFrame'>\n",
      "Index: 58645 entries, 0 to 58644\n",
      "Data columns (total 12 columns):\n",
      " #   Column                      Non-Null Count  Dtype  \n",
      "---  ------                      --------------  -----  \n",
      " 0   person_age                  58645 non-null  int64  \n",
      " 1   person_income               58645 non-null  int64  \n",
      " 2   person_home_ownership       58645 non-null  object \n",
      " 3   person_emp_length           58645 non-null  float64\n",
      " 4   loan_intent                 58645 non-null  object \n",
      " 5   loan_grade                  58645 non-null  object \n",
      " 6   loan_amnt                   58645 non-null  int64  \n",
      " 7   loan_int_rate               58645 non-null  float64\n",
      " 8   loan_percent_income         58645 non-null  float64\n",
      " 9   cb_person_default_on_file   58645 non-null  object \n",
      " 10  cb_person_cred_hist_length  58645 non-null  int64  \n",
      " 11  loan_status                 58645 non-null  int64  \n",
      "dtypes: float64(3), int64(5), object(4)\n",
      "memory usage: 5.8+ MB\n"
     ]
    }
   ],
   "source": [
    "train.info()"
   ]
  },
  {
   "cell_type": "code",
   "execution_count": 5,
   "id": "d7b909a3",
   "metadata": {
    "execution": {
     "iopub.execute_input": "2024-10-02T06:02:14.942752Z",
     "iopub.status.busy": "2024-10-02T06:02:14.941771Z",
     "iopub.status.idle": "2024-10-02T06:02:14.963061Z",
     "shell.execute_reply": "2024-10-02T06:02:14.961104Z"
    },
    "papermill": {
     "duration": 0.032688,
     "end_time": "2024-10-02T06:02:14.965932",
     "exception": false,
     "start_time": "2024-10-02T06:02:14.933244",
     "status": "completed"
    },
    "tags": []
   },
   "outputs": [
    {
     "name": "stdout",
     "output_type": "stream",
     "text": [
      "<class 'pandas.core.frame.DataFrame'>\n",
      "Index: 39098 entries, 58645 to 97742\n",
      "Data columns (total 11 columns):\n",
      " #   Column                      Non-Null Count  Dtype  \n",
      "---  ------                      --------------  -----  \n",
      " 0   person_age                  39098 non-null  int64  \n",
      " 1   person_income               39098 non-null  int64  \n",
      " 2   person_home_ownership       39098 non-null  object \n",
      " 3   person_emp_length           39098 non-null  float64\n",
      " 4   loan_intent                 39098 non-null  object \n",
      " 5   loan_grade                  39098 non-null  object \n",
      " 6   loan_amnt                   39098 non-null  int64  \n",
      " 7   loan_int_rate               39098 non-null  float64\n",
      " 8   loan_percent_income         39098 non-null  float64\n",
      " 9   cb_person_default_on_file   39098 non-null  object \n",
      " 10  cb_person_cred_hist_length  39098 non-null  int64  \n",
      "dtypes: float64(3), int64(4), object(4)\n",
      "memory usage: 3.6+ MB\n"
     ]
    }
   ],
   "source": [
    "test.info()"
   ]
  },
  {
   "cell_type": "code",
   "execution_count": 6,
   "id": "24683e2d",
   "metadata": {
    "execution": {
     "iopub.execute_input": "2024-10-02T06:02:14.979989Z",
     "iopub.status.busy": "2024-10-02T06:02:14.979560Z",
     "iopub.status.idle": "2024-10-02T06:02:14.993522Z",
     "shell.execute_reply": "2024-10-02T06:02:14.992339Z"
    },
    "papermill": {
     "duration": 0.024062,
     "end_time": "2024-10-02T06:02:14.996221",
     "exception": false,
     "start_time": "2024-10-02T06:02:14.972159",
     "status": "completed"
    },
    "tags": []
   },
   "outputs": [
    {
     "data": {
      "text/plain": [
       "loan_status\n",
       "0    0.857618\n",
       "1    0.142382\n",
       "Name: proportion, dtype: float64"
      ]
     },
     "execution_count": 6,
     "metadata": {},
     "output_type": "execute_result"
    }
   ],
   "source": [
    "train.loan_status.value_counts(normalize=True)"
   ]
  },
  {
   "cell_type": "code",
   "execution_count": 7,
   "id": "0709f967",
   "metadata": {
    "execution": {
     "iopub.execute_input": "2024-10-02T06:02:15.011085Z",
     "iopub.status.busy": "2024-10-02T06:02:15.010649Z",
     "iopub.status.idle": "2024-10-02T06:02:16.399456Z",
     "shell.execute_reply": "2024-10-02T06:02:16.398006Z"
    },
    "papermill": {
     "duration": 1.399425,
     "end_time": "2024-10-02T06:02:16.402382",
     "exception": false,
     "start_time": "2024-10-02T06:02:15.002957",
     "status": "completed"
    },
    "tags": []
   },
   "outputs": [
    {
     "data": {
      "image/png": "[encoded data removed]",
      "text/plain": [
       "<Figure size 2000x1000 with 4 Axes>"
      ]
     },
     "metadata": {},
     "output_type": "display_data"
    }
   ],
   "source": [
    "cat_cols = train.select_dtypes(include='object').columns.tolist()\n",
    "\n",
    "palette = {0: sns.color_palette(\"Set2\")[1], 1: sns.color_palette(\"Set2\")[0]}\n",
    "fig, axes = plt.subplots(2, 2, figsize=(20, 10))\n",
    "axes = axes.flatten()\n",
    "for i, col in enumerate(cat_cols):\n",
    "    sns.countplot(data=train, x=col, hue=CFG.target, ax=axes[i], palette=palette)\n",
    "    axes[i].set_title(f'{col} distribution')\n",
    "    axes[i].set_ylabel('')\n",
    "    axes[i].set_xlabel('')\n",
    "\n",
    "plt.tight_layout()\n",
    "plt.show()"
   ]
  },
  {
   "cell_type": "markdown",
   "id": "50af9df0",
   "metadata": {
    "papermill": {
     "duration": 0.00737,
     "end_time": "2024-10-02T06:02:16.417308",
     "exception": false,
     "start_time": "2024-10-02T06:02:16.409938",
     "status": "completed"
    },
    "tags": []
   },
   "source": [
    "**Observations**:\n",
    "- The dataset is relatively small compared to those we've seen in recent months in the playground series. It is also imbalanced, with the minority class representing less than 15%.\n",
    "- It contains 4 categorical features, all of which have low cardinality. The remaining features are numerical.\n",
    "- There are no missing values.\n",
    "\n",
    "Most of the models I plan to use can by default handle categorical features. However, `HistGradientBoostingClassifier` only accepts numerical features. For this model, I will encode the categorical features using `OrdinalEncoder`.\n",
    "\n",
    "Below, I have created a small function that converts the data types of categorical features to the `category` type and encodes them into numerical values if necessary."
   ]
  },
  {
   "cell_type": "code",
   "execution_count": 8,
   "id": "95bd9bec",
   "metadata": {
    "execution": {
     "iopub.execute_input": "2024-10-02T06:02:16.435035Z",
     "iopub.status.busy": "2024-10-02T06:02:16.434563Z",
     "iopub.status.idle": "2024-10-02T06:02:16.442463Z",
     "shell.execute_reply": "2024-10-02T06:02:16.441188Z"
    },
    "papermill": {
     "duration": 0.019588,
     "end_time": "2024-10-02T06:02:16.445061",
     "exception": false,
     "start_time": "2024-10-02T06:02:16.425473",
     "status": "completed"
    },
    "tags": []
   },
   "outputs": [],
   "source": [
    "def get_data(encode):\n",
    "    train = pd.read_csv(CFG.train_path, index_col='id')\n",
    "    test = pd.read_csv(CFG.test_path, index_col='id')\n",
    "    \n",
    "    cat_cols = test.select_dtypes(include='object').columns.tolist()\n",
    "    train[cat_cols] = train[cat_cols].astype('category')\n",
    "    test[cat_cols] = test[cat_cols].astype('category')\n",
    "    \n",
    "    if encode:\n",
    "        encoder = OrdinalEncoder()\n",
    "        train[cat_cols] = encoder.fit_transform(train[cat_cols])\n",
    "        test[cat_cols] = encoder.transform(test[cat_cols])\n",
    "        \n",
    "    X = train.drop(CFG.target, axis=1)\n",
    "    y = train[CFG.target]\n",
    "    X_test = test\n",
    "    \n",
    "    return X, y, X_test"
   ]
  },
  {
   "cell_type": "markdown",
   "id": "cafba6c9",
   "metadata": {
    "papermill": {
     "duration": 0.008061,
     "end_time": "2024-10-02T06:02:16.462556",
     "exception": false,
     "start_time": "2024-10-02T06:02:16.454495",
     "status": "completed"
    },
    "tags": []
   },
   "source": [
    "# Training base models\n",
    "\n",
    "To simplify the process of training, cross-validation, and inference, etc. I will create a class that handles all the necessary logic. This class will do cross-validation using `StratifiedKFold`, train the models, save their out-of-fold predictions, and create a submission file for the final ensemble model."
   ]
  },
  {
   "cell_type": "code",
   "execution_count": 9,
   "id": "a9418d9a",
   "metadata": {
    "execution": {
     "iopub.execute_input": "2024-10-02T06:02:16.481014Z",
     "iopub.status.busy": "2024-10-02T06:02:16.480494Z",
     "iopub.status.idle": "2024-10-02T06:02:16.498755Z",
     "shell.execute_reply": "2024-10-02T06:02:16.497329Z"
    },
    "papermill": {
     "duration": 0.031588,
     "end_time": "2024-10-02T06:02:16.502195",
     "exception": false,
     "start_time": "2024-10-02T06:02:16.470607",
     "status": "completed"
    },
    "tags": []
   },
   "outputs": [],
   "source": [
    "class Trainer:\n",
    "    def __init__(self, model, config=CFG, is_ensemble_model=False):\n",
    "        self.model = model\n",
    "        self.config = config\n",
    "        self.is_ensemble_model = is_ensemble_model\n",
    "\n",
    "    def fit_predict(self, X, y, X_test):\n",
    "        print(f'Training {self.model.__class__.__name__}\\n')\n",
    "        \n",
    "        scores = []        \n",
    "        coeffs = np.zeros((1, X.shape[1]))\n",
    "        oof_pred_probs = np.zeros((X.shape[0], len(np.unique(y))))\n",
    "        test_pred_probs = np.zeros((X_test.shape[0], len(np.unique(y))))\n",
    "        \n",
    "        skf = StratifiedKFold(n_splits=self.config.n_folds, random_state=self.config.seed, shuffle=True)\n",
    "        for fold_idx, (train_idx, val_idx) in enumerate(skf.split(X, y)):\n",
    "            X_train, X_val = X.iloc[train_idx], X.iloc[val_idx]\n",
    "            y_train, y_val = y[train_idx], y[val_idx]\n",
    "            \n",
    "            model = clone(self.model)\n",
    "            model.fit(X_train, y_train)\n",
    "            \n",
    "            if self.is_ensemble_model:\n",
    "                coeffs += model.coef_ / self.config.n_folds\n",
    "            \n",
    "            y_pred_probs = model.predict_proba(X_val)\n",
    "            oof_pred_probs[val_idx] = y_pred_probs \n",
    "            \n",
    "            temp_test_pred_probs = model.predict_proba(X_test)\n",
    "            test_pred_probs += temp_test_pred_probs / self.config.n_folds\n",
    "            \n",
    "            score = roc_auc_score(y_val, y_pred_probs[:, 1])\n",
    "            scores.append(score)\n",
    "            \n",
    "            del model, X_train, y_train, X_val, y_val, y_pred_probs\n",
    "            gc.collect()\n",
    "            \n",
    "            print(f'--- Fold {fold_idx + 1} - AUC: {score:.6f}')\n",
    "            \n",
    "        overall_score = roc_auc_score(y, oof_pred_probs[:, 1])\n",
    "            \n",
    "        print(f'\\n------ Overall: {overall_score:.6f} | Average: {np.mean(scores):.6f} ± {np.std(scores):.6f}')\n",
    "        \n",
    "        if self.is_ensemble_model:\n",
    "            self._save_submission(test_pred_probs, np.mean(scores))\n",
    "            return scores, coeffs\n",
    "        else:\n",
    "            os.makedirs('oof_pred_probs', exist_ok=True)\n",
    "            os.makedirs('test_pred_probs', exist_ok=True)\n",
    "            self._save_pred_probs(oof_pred_probs, np.mean(scores), 'oof')\n",
    "            self._save_pred_probs(test_pred_probs, np.mean(scores), 'test')\n",
    "            return oof_pred_probs[:, 1], test_pred_probs[:, 1], scores\n",
    "        \n",
    "    def _save_pred_probs(self, pred_probs, cv_score, name):\n",
    "        model_name = self.model.__class__.__name__.lower().replace('classifier', '')\n",
    "        with open(f'{name}_pred_probs/{model_name}_{name}_pred_probs_{cv_score:.6f}.pkl', 'wb') as f:\n",
    "            pickle.dump(pred_probs, f)\n",
    "    \n",
    "    def _save_submission(self, test_pred_probs, score):\n",
    "        name = self.model.__class__.__name__.lower().replace('classifier', '')\n",
    "        sub = pd.read_csv(self.config.sample_sub_path)\n",
    "        sub[self.config.target] = test_pred_probs[:, 1]\n",
    "        sub.to_csv(f'sub_{name}_{score:.6f}.csv', index=False)"
   ]
  },
  {
   "cell_type": "code",
   "execution_count": 10,
   "id": "b51dcc2b",
   "metadata": {
    "_kg_hide-input": true,
    "execution": {
     "iopub.execute_input": "2024-10-02T06:02:16.519933Z",
     "iopub.status.busy": "2024-10-02T06:02:16.519474Z",
     "iopub.status.idle": "2024-10-02T06:02:16.530947Z",
     "shell.execute_reply": "2024-10-02T06:02:16.529671Z"
    },
    "papermill": {
     "duration": 0.023606,
     "end_time": "2024-10-02T06:02:16.533472",
     "exception": false,
     "start_time": "2024-10-02T06:02:16.509866",
     "status": "completed"
    },
    "tags": []
   },
   "outputs": [],
   "source": [
    "hgb_params = {\n",
    "    'l2_regularization': 18.936024747438683,\n",
    "    'learning_rate': 0.09659889512539407,\n",
    "    'max_depth': 282,\n",
    "    'max_iter': 782,\n",
    "    'max_leaf_nodes': 17,\n",
    "    'min_samples_leaf': 27,\n",
    "    'random_state': 1859\n",
    "}\n",
    "\n",
    "xgb_params = {\n",
    "    'colsample_bylevel': 0.891682515878179,\n",
    "    'colsample_bynode': 0.9692022033782264,\n",
    "    'colsample_bytree': 0.5741212531177258,\n",
    "    'enable_categorical': True,\n",
    "    'gamma': 3.3732530314473403,\n",
    "    'max_depth': 28,\n",
    "    'max_leaves': 5,\n",
    "    'min_child_weight': 11.394380268039894,\n",
    "    'n_estimators': 1494,\n",
    "    'n_jobs': -1,\n",
    "    'random_state': 1859,\n",
    "    'reg_alpha': 3.9898421425365447,\n",
    "    'reg_lambda': 5.872485568309149,\n",
    "    'scale_pos_weight': 6.3669510043139965,\n",
    "    'subsample': 0.9291585219816468,\n",
    "    'verbosity': 0\n",
    "}\n",
    "\n",
    "lgbm_params = {\n",
    "    'boosting_type': 'gbdt',\n",
    "    'colsample_bytree': 0.4102117160463167,\n",
    "    'learning_rate': 0.018429467144621937,\n",
    "    'min_child_samples': 152,\n",
    "    'min_child_weight': 0.3352178855961433,\n",
    "    'n_estimators': 1830,\n",
    "    'n_jobs': -1,\n",
    "    'num_leaves': 24,\n",
    "    'random_state': 1859,\n",
    "    'reg_alpha': 4.467573158371641,\n",
    "    'reg_lambda': 7.274798299326913,\n",
    "    'scale_pos_weight': 9.782647775062838,\n",
    "    'subsample': 0.5849708880697966,\n",
    "    'verbose': -1\n",
    "}\n",
    "\n",
    "lgbm_dart_params = {\n",
    "    'boosting_type': 'dart',\n",
    "    'colsample_bytree': 0.4342375371792583,\n",
    "    'learning_rate': 0.09198605888855686,\n",
    "    'min_child_samples': 50,\n",
    "    'min_child_weight': 0.8796787910068157,\n",
    "    'n_estimators': 997,\n",
    "    'n_jobs': -1,\n",
    "    'num_leaves': 30,\n",
    "    'random_state': 1859,\n",
    "    'reg_alpha': 4.256638460413229,\n",
    "    'reg_lambda': 1.002971761999517,\n",
    "    'scale_pos_weight': 6.623252385677123,\n",
    "    'subsample': 0.7401348503074506,\n",
    "    'verbose': -1\n",
    "}\n",
    "\n",
    "cb_params = {\n",
    "    'border_count': 252,\n",
    "    'colsample_bylevel': 0.9356479997390588,\n",
    "    'depth': 3,\n",
    "    'iterations': 1850,\n",
    "    'l2_leaf_reg': 8.788769876568756,\n",
    "    'learning_rate': 0.09410360347348852,\n",
    "    'min_child_samples': 90,\n",
    "    'random_state': 1859,\n",
    "    'random_strength': 0.4864716464902107,\n",
    "    'scale_pos_weight': 4.779448110538476,\n",
    "    'subsample': 0.964472122725783,\n",
    "    'verbose': False\n",
    "}"
   ]
  },
  {
   "cell_type": "code",
   "execution_count": 11,
   "id": "28d350fc",
   "metadata": {
    "execution": {
     "iopub.execute_input": "2024-10-02T06:02:16.553122Z",
     "iopub.status.busy": "2024-10-02T06:02:16.551823Z",
     "iopub.status.idle": "2024-10-02T06:02:16.557585Z",
     "shell.execute_reply": "2024-10-02T06:02:16.556265Z"
    },
    "papermill": {
     "duration": 0.018374,
     "end_time": "2024-10-02T06:02:16.560257",
     "exception": false,
     "start_time": "2024-10-02T06:02:16.541883",
     "status": "completed"
    },
    "tags": []
   },
   "outputs": [],
   "source": [
    "scores = {}\n",
    "oof_pred_probs = {}\n",
    "test_pred_probs = {}"
   ]
  },
  {
   "cell_type": "code",
   "execution_count": 12,
   "id": "43f5f60b",
   "metadata": {
    "execution": {
     "iopub.execute_input": "2024-10-02T06:02:16.577974Z",
     "iopub.status.busy": "2024-10-02T06:02:16.577502Z",
     "iopub.status.idle": "2024-10-02T06:02:30.741661Z",
     "shell.execute_reply": "2024-10-02T06:02:30.740211Z"
    },
    "papermill": {
     "duration": 14.176144,
     "end_time": "2024-10-02T06:02:30.744374",
     "exception": false,
     "start_time": "2024-10-02T06:02:16.568230",
     "status": "completed"
    },
    "tags": []
   },
   "outputs": [
    {
     "name": "stdout",
     "output_type": "stream",
     "text": [
      "Training HistGradientBoostingClassifier\n",
      "\n",
      "--- Fold 1 - AUC: 0.957051\n",
      "--- Fold 2 - AUC: 0.953220\n",
      "--- Fold 3 - AUC: 0.954798\n",
      "--- Fold 4 - AUC: 0.952367\n",
      "--- Fold 5 - AUC: 0.952535\n",
      "\n",
      "------ Overall: 0.953967 | Average: 0.953994 ± 0.001753\n"
     ]
    }
   ],
   "source": [
    "X, y, X_test = get_data(encode=True)\n",
    "hgb_model = HistGradientBoostingClassifier(**hgb_params)\n",
    "hgb_trainer = Trainer(hgb_model)\n",
    "oof_pred_probs['HistGB'], test_pred_probs['HistGB'], scores['HistGB'] = hgb_trainer.fit_predict(X, y, X_test)"
   ]
  },
  {
   "cell_type": "code",
   "execution_count": 13,
   "id": "312bea8d",
   "metadata": {
    "execution": {
     "iopub.execute_input": "2024-10-02T06:02:30.762553Z",
     "iopub.status.busy": "2024-10-02T06:02:30.762116Z",
     "iopub.status.idle": "2024-10-02T06:02:45.147433Z",
     "shell.execute_reply": "2024-10-02T06:02:45.146145Z"
    },
    "papermill": {
     "duration": 14.39754,
     "end_time": "2024-10-02T06:02:45.150118",
     "exception": false,
     "start_time": "2024-10-02T06:02:30.752578",
     "status": "completed"
    },
    "tags": []
   },
   "outputs": [
    {
     "name": "stdout",
     "output_type": "stream",
     "text": [
      "Training XGBClassifier\n",
      "\n",
      "--- Fold 1 - AUC: 0.960093\n",
      "--- Fold 2 - AUC: 0.956461\n",
      "--- Fold 3 - AUC: 0.957642\n",
      "--- Fold 4 - AUC: 0.953255\n",
      "--- Fold 5 - AUC: 0.954998\n",
      "\n",
      "------ Overall: 0.956471 | Average: 0.956490 ± 0.002324\n"
     ]
    }
   ],
   "source": [
    "X, y, X_test = get_data(encode=False)\n",
    "xgb_model = XGBClassifier(**xgb_params)\n",
    "xgb_trainer = Trainer(xgb_model)\n",
    "oof_pred_probs['XGBoost'], test_pred_probs['XGBoost'], scores['XGBoost'] = xgb_trainer.fit_predict(X, y, X_test)"
   ]
  },
  {
   "cell_type": "code",
   "execution_count": 14,
   "id": "98d0dca1",
   "metadata": {
    "execution": {
     "iopub.execute_input": "2024-10-02T06:02:45.169698Z",
     "iopub.status.busy": "2024-10-02T06:02:45.169288Z",
     "iopub.status.idle": "2024-10-02T06:04:39.019414Z",
     "shell.execute_reply": "2024-10-02T06:04:39.018017Z"
    },
    "papermill": {
     "duration": 113.862692,
     "end_time": "2024-10-02T06:04:39.022103",
     "exception": false,
     "start_time": "2024-10-02T06:02:45.159411",
     "status": "completed"
    },
    "tags": []
   },
   "outputs": [
    {
     "name": "stdout",
     "output_type": "stream",
     "text": [
      "Training LGBMClassifier\n",
      "\n",
      "--- Fold 1 - AUC: 0.962374\n",
      "--- Fold 2 - AUC: 0.957469\n",
      "--- Fold 3 - AUC: 0.958923\n",
      "--- Fold 4 - AUC: 0.957478\n",
      "--- Fold 5 - AUC: 0.958431\n",
      "\n",
      "------ Overall: 0.958903 | Average: 0.958935 ± 0.001808\n"
     ]
    }
   ],
   "source": [
    "lgbm_model = LGBMClassifier(**lgbm_params)\n",
    "lgbm_trainer = Trainer(lgbm_model)\n",
    "oof_pred_probs['LightGBM'], test_pred_probs['LightGBM'], scores['LightGBM'] = lgbm_trainer.fit_predict(X, y, X_test)"
   ]
  },
  {
   "cell_type": "code",
   "execution_count": 15,
   "id": "cc826d16",
   "metadata": {
    "execution": {
     "iopub.execute_input": "2024-10-02T06:04:39.044116Z",
     "iopub.status.busy": "2024-10-02T06:04:39.043619Z",
     "iopub.status.idle": "2024-10-02T06:16:01.557343Z",
     "shell.execute_reply": "2024-10-02T06:16:01.555993Z"
    },
    "papermill": {
     "duration": 682.536121,
     "end_time": "2024-10-02T06:16:01.569206",
     "exception": false,
     "start_time": "2024-10-02T06:04:39.033085",
     "status": "completed"
    },
    "tags": []
   },
   "outputs": [
    {
     "name": "stdout",
     "output_type": "stream",
     "text": [
      "Training LGBMClassifier\n",
      "\n",
      "--- Fold 1 - AUC: 0.962325\n",
      "--- Fold 2 - AUC: 0.957521\n",
      "--- Fold 3 - AUC: 0.958261\n",
      "--- Fold 4 - AUC: 0.956896\n",
      "--- Fold 5 - AUC: 0.958349\n",
      "\n",
      "------ Overall: 0.958646 | Average: 0.958670 ± 0.001903\n"
     ]
    }
   ],
   "source": [
    "lgbm_dart_model = LGBMClassifier(**lgbm_dart_params)\n",
    "lgbm_dart_trainer = Trainer(lgbm_dart_model)\n",
    "oof_pred_probs['LightGBM (dart)'], test_pred_probs['LightGBM (dart)'], scores['LightGBM (dart)'] = lgbm_dart_trainer.fit_predict(X, y, X_test)"
   ]
  },
  {
   "cell_type": "code",
   "execution_count": 16,
   "id": "2575ec92",
   "metadata": {
    "execution": {
     "iopub.execute_input": "2024-10-02T06:16:01.591613Z",
     "iopub.status.busy": "2024-10-02T06:16:01.591190Z",
     "iopub.status.idle": "2024-10-02T06:19:50.204535Z",
     "shell.execute_reply": "2024-10-02T06:19:50.202940Z"
    },
    "papermill": {
     "duration": 228.637691,
     "end_time": "2024-10-02T06:19:50.217189",
     "exception": false,
     "start_time": "2024-10-02T06:16:01.579498",
     "status": "completed"
    },
    "tags": []
   },
   "outputs": [
    {
     "name": "stdout",
     "output_type": "stream",
     "text": [
      "Training CatBoostClassifier\n",
      "\n",
      "--- Fold 1 - AUC: 0.961941\n",
      "--- Fold 2 - AUC: 0.958731\n",
      "--- Fold 3 - AUC: 0.958679\n",
      "--- Fold 4 - AUC: 0.954503\n",
      "--- Fold 5 - AUC: 0.957845\n",
      "\n",
      "------ Overall: 0.958307 | Average: 0.958340 ± 0.002375\n"
     ]
    }
   ],
   "source": [
    "cb_model = CatBoostClassifier(**cb_params, cat_features=cat_cols)\n",
    "cb_trainer = Trainer(cb_model)\n",
    "oof_pred_probs['CatBoost'], test_pred_probs['CatBoost'], scores['CatBoost'] = cb_trainer.fit_predict(X, y, X_test)"
   ]
  },
  {
   "cell_type": "markdown",
   "id": "6fbc4ff7",
   "metadata": {
    "papermill": {
     "duration": 0.009479,
     "end_time": "2024-10-02T06:19:50.236732",
     "exception": false,
     "start_time": "2024-10-02T06:19:50.227253",
     "status": "completed"
    },
    "tags": []
   },
   "source": [
    "# Ensembling with Logistic Regression\n",
    "\n",
    "I will use `LogisticRegression` to ensemble the predictions of the base models. The predictions are converted to logits and fed into the logistic regression model as features."
   ]
  },
  {
   "cell_type": "code",
   "execution_count": 17,
   "id": "6dae03c2",
   "metadata": {
    "execution": {
     "iopub.execute_input": "2024-10-02T06:19:50.266175Z",
     "iopub.status.busy": "2024-10-02T06:19:50.265700Z",
     "iopub.status.idle": "2024-10-02T06:19:52.065203Z",
     "shell.execute_reply": "2024-10-02T06:19:52.063643Z"
    },
    "papermill": {
     "duration": 1.818089,
     "end_time": "2024-10-02T06:19:52.067687",
     "exception": false,
     "start_time": "2024-10-02T06:19:50.249598",
     "status": "completed"
    },
    "tags": []
   },
   "outputs": [
    {
     "name": "stdout",
     "output_type": "stream",
     "text": [
      "Training LogisticRegression\n",
      "\n",
      "--- Fold 1 - AUC: 0.963361\n",
      "--- Fold 2 - AUC: 0.959064\n",
      "--- Fold 3 - AUC: 0.959791\n",
      "--- Fold 4 - AUC: 0.957224\n",
      "--- Fold 5 - AUC: 0.959149\n",
      "\n",
      "------ Overall: 0.959671 | Average: 0.959718 ± 0.002012\n"
     ]
    }
   ],
   "source": [
    "X = pd.DataFrame(np.column_stack(list(oof_pred_probs.values())))\n",
    "X_test = pd.DataFrame(np.column_stack(list(test_pred_probs.values())))\n",
    "\n",
    "X = logit(X)\n",
    "X_test = logit(X_test)\n",
    "\n",
    "lr_model = LogisticRegression(random_state=CFG.seed)\n",
    "lr_trainer = Trainer(lr_model, is_ensemble_model=True)\n",
    "scores['Ensemble'], coeffs = lr_trainer.fit_predict(X, y, X_test)"
   ]
  },
  {
   "cell_type": "markdown",
   "id": "8d7857f8",
   "metadata": {
    "papermill": {
     "duration": 0.009854,
     "end_time": "2024-10-02T06:19:52.087663",
     "exception": false,
     "start_time": "2024-10-02T06:19:52.077809",
     "status": "completed"
    },
    "tags": []
   },
   "source": [
    "Here, we can see the coefficients of the logistic regression model, which represent the contribution of each base model's prediction to the final ensemble output. A positive coefficient indicates that the corresponding base model's predictions positively influence the final prediction, and a negative coefficient suggests a negative impact."
   ]
  },
  {
   "cell_type": "code",
   "execution_count": 18,
   "id": "1c5bfc9b",
   "metadata": {
    "_kg_hide-input": true,
    "execution": {
     "iopub.execute_input": "2024-10-02T06:19:52.110805Z",
     "iopub.status.busy": "2024-10-02T06:19:52.110371Z",
     "iopub.status.idle": "2024-10-02T06:19:52.426005Z",
     "shell.execute_reply": "2024-10-02T06:19:52.424640Z"
    },
    "papermill": {
     "duration": 0.330586,
     "end_time": "2024-10-02T06:19:52.428339",
     "exception": false,
     "start_time": "2024-10-02T06:19:52.097753",
     "status": "completed"
    },
    "tags": []
   },
   "outputs": [
    {
     "data": {
      "image/png": "[encoded data removed]",
      "text/plain": [
       "<Figure size 1000x300 with 1 Axes>"
      ]
     },
     "metadata": {},
     "output_type": "display_data"
    }
   ],
   "source": [
    "sorted_indices = np.argsort(coeffs[0])[::-1]\n",
    "sorted_coeffs = np.array(coeffs[0])[sorted_indices]\n",
    "sorted_model_names = np.array(list(oof_pred_probs.keys()))[sorted_indices]\n",
    "\n",
    "plt.figure(figsize=(10, coeffs.shape[1] * 0.6))\n",
    "ax = sns.barplot(x=sorted_coeffs, y=sorted_model_names, palette=\"RdYlGn_r\")\n",
    "\n",
    "for i, (value, name) in enumerate(zip(sorted_coeffs, sorted_model_names)):\n",
    "    if value > 0:\n",
    "        ax.text(value, i, f'{value:.3f}', va='center', ha='left', color='black')\n",
    "    else:\n",
    "        ax.text(value, i, f'{value:.3f}', va='center', ha='right', color='black')\n",
    "\n",
    "xlim = ax.get_xlim()\n",
    "ax.set_xlim(xlim[0] - 0.1 * abs(xlim[0]), xlim[1] + 0.1 * abs(xlim[1]))\n",
    "        \n",
    "plt.title('Logistic Regression Coefficients')\n",
    "plt.xlabel('')\n",
    "plt.ylabel('')\n",
    "plt.tight_layout()\n",
    "plt.show()"
   ]
  },
  {
   "cell_type": "markdown",
   "id": "6953fc98",
   "metadata": {
    "papermill": {
     "duration": 0.010628,
     "end_time": "2024-10-02T06:19:52.449765",
     "exception": false,
     "start_time": "2024-10-02T06:19:52.439137",
     "status": "completed"
    },
    "tags": []
   },
   "source": [
    "# Results"
   ]
  },
  {
   "cell_type": "code",
   "execution_count": 19,
   "id": "9945655f",
   "metadata": {
    "_kg_hide-input": true,
    "execution": {
     "iopub.execute_input": "2024-10-02T06:19:52.473034Z",
     "iopub.status.busy": "2024-10-02T06:19:52.472582Z",
     "iopub.status.idle": "2024-10-02T06:19:53.028303Z",
     "shell.execute_reply": "2024-10-02T06:19:53.026845Z"
    },
    "papermill": {
     "duration": 0.570445,
     "end_time": "2024-10-02T06:19:53.030951",
     "exception": false,
     "start_time": "2024-10-02T06:19:52.460506",
     "status": "completed"
    },
    "tags": []
   },
   "outputs": [
    {
     "data": {
      "image/png": "[encoded data removed]",
      "text/plain": [
       "<Figure size 1500x360 with 2 Axes>"
      ]
     },
     "metadata": {},
     "output_type": "display_data"
    }
   ],
   "source": [
    "scores = pd.DataFrame(scores)\n",
    "mean_scores = scores.mean().sort_values(ascending=False)\n",
    "order = scores.mean().sort_values(ascending=False).index.tolist()\n",
    "\n",
    "min_score = mean_scores.min()\n",
    "max_score = mean_scores.max()\n",
    "padding = (max_score - min_score) * 0.5\n",
    "lower_limit = min_score - padding\n",
    "upper_limit = max_score + padding\n",
    "\n",
    "fig, axs = plt.subplots(1, 2, figsize=(15, scores.shape[1] * 0.6))\n",
    "\n",
    "sns.boxplot(data=scores, order=order, ax=axs[0], orient='h', palette='RdYlGn_r')\n",
    "axs[0].set_title('Fold AUC')\n",
    "axs[0].set_xlabel('')\n",
    "axs[0].set_ylabel('')\n",
    "\n",
    "barplot = sns.barplot(x=mean_scores.values, y=mean_scores.index, ax=axs[1], palette='RdYlGn_r')\n",
    "axs[1].set_title('Average AUC')\n",
    "axs[1].set_xlabel('')\n",
    "axs[1].set_xlim(left=lower_limit, right=upper_limit)\n",
    "axs[1].set_ylabel('')\n",
    "\n",
    "for i, score in enumerate(mean_scores.values):\n",
    "    barplot.text(score, i, round(score, 6), va='center')\n",
    "\n",
    "plt.tight_layout()\n",
    "plt.show()"
   ]
  },
  {
   "cell_type": "code",
   "execution_count": 20,
   "id": "062663ec",
   "metadata": {
    "execution": {
     "iopub.execute_input": "2024-10-02T06:19:53.057597Z",
     "iopub.status.busy": "2024-10-02T06:19:53.056627Z",
     "iopub.status.idle": "2024-10-02T06:19:53.063457Z",
     "shell.execute_reply": "2024-10-02T06:19:53.062205Z"
    },
    "papermill": {
     "duration": 0.023338,
     "end_time": "2024-10-02T06:19:53.066109",
     "exception": false,
     "start_time": "2024-10-02T06:19:53.042771",
     "status": "completed"
    },
    "tags": []
   },
   "outputs": [],
   "source": [
    "shutil.rmtree('catboost_info', ignore_errors=True)"
   ]
  }
 ],
 "metadata": {
  "kaggle": {
   "accelerator": "none",
   "dataSources": [
    {
     "databundleVersionId": 9709193,
     "sourceId": 84894,
     "sourceType": "competition"
    }
   ],
   "dockerImageVersionId": 30775,
   "isGpuEnabled": false,
   "isInternetEnabled": true,
   "language": "python",
   "sourceType": "notebook"
  },
  "kernelspec": {
   "display_name": "Python 3",
   "language": "python",
   "name": "python3"
  },
  "language_info": {
   "codemirror_mode": {
    "name": "ipython",
    "version": 3
   },
   "file_extension": ".py",
   "mimetype": "text/x-python",
   "name": "python",
   "nbconvert_exporter": "python",
   "pygments_lexer": "ipython3",
   "version": "3.10.14"
  },
  "papermill": {
   "default_parameters": {},
   "duration": 1067.520684,
   "end_time": "2024-10-02T06:19:53.902424",
   "environment_variables": {},
   "exception": null,
   "input_path": "__notebook__.ipynb",
   "output_path": "__notebook__.ipynb",
   "parameters": {},
   "start_time": "2024-10-02T06:02:06.381740",
   "version": "2.6.0"
  }
 },
 "nbformat": 4,
 "nbformat_minor": 5
}
