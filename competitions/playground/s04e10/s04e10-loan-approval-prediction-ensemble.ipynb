{
 "cells": [
  {
   "cell_type": "markdown",
   "id": "b2717ffa",
   "metadata": {
    "papermill": {
     "duration": 0.007987,
     "end_time": "2024-10-01T18:14:22.882776",
     "exception": false,
     "start_time": "2024-10-01T18:14:22.874789",
     "status": "completed"
    },
    "tags": []
   },
   "source": [
    "# Imports and configs"
   ]
  },
  {
   "cell_type": "code",
   "execution_count": 1,
   "id": "7981d46c",
   "metadata": {
    "execution": {
     "iopub.execute_input": "2024-10-01T18:14:22.899634Z",
     "iopub.status.busy": "2024-10-01T18:14:22.898834Z",
     "iopub.status.idle": "2024-10-01T18:14:27.310596Z",
     "shell.execute_reply": "2024-10-01T18:14:27.309390Z"
    },
    "papermill": {
     "duration": 4.423234,
     "end_time": "2024-10-01T18:14:27.313590",
     "exception": false,
     "start_time": "2024-10-01T18:14:22.890356",
     "status": "completed"
    },
    "tags": []
   },
   "outputs": [],
   "source": [
    "from sklearn.ensemble import HistGradientBoostingClassifier\n",
    "from sklearn.linear_model import LogisticRegression\n",
    "from sklearn.model_selection import StratifiedKFold\n",
    "from sklearn.preprocessing import OrdinalEncoder\n",
    "from sklearn.metrics import roc_auc_score\n",
    "from sklearn.base import clone\n",
    "from scipy.special import logit\n",
    "from catboost import CatBoostClassifier\n",
    "from lightgbm import LGBMClassifier\n",
    "from xgboost import XGBClassifier\n",
    "import matplotlib.pyplot as plt\n",
    "import seaborn as sns\n",
    "import pandas as pd\n",
    "import numpy as np\n",
    "import warnings\n",
    "import pickle\n",
    "import shutil\n",
    "import os\n",
    "import gc\n",
    "\n",
    "warnings.filterwarnings('ignore')"
   ]
  },
  {
   "cell_type": "code",
   "execution_count": 2,
   "id": "80ee6af8",
   "metadata": {
    "execution": {
     "iopub.execute_input": "2024-10-01T18:14:27.330886Z",
     "iopub.status.busy": "2024-10-01T18:14:27.330261Z",
     "iopub.status.idle": "2024-10-01T18:14:27.336154Z",
     "shell.execute_reply": "2024-10-01T18:14:27.334968Z"
    },
    "papermill": {
     "duration": 0.017021,
     "end_time": "2024-10-01T18:14:27.338348",
     "exception": false,
     "start_time": "2024-10-01T18:14:27.321327",
     "status": "completed"
    },
    "tags": []
   },
   "outputs": [],
   "source": [
    "class CFG:\n",
    "    train_path = '/kaggle/input/playground-series-s4e10/train.csv'\n",
    "    test_path = '/kaggle/input/playground-series-s4e10/test.csv'\n",
    "    sample_sub_path = '/kaggle/input/playground-series-s4e10/sample_submission.csv'\n",
    "    \n",
    "    target = 'loan_status'\n",
    "    n_folds = 5\n",
    "    seed = 1859"
   ]
  },
  {
   "cell_type": "markdown",
   "id": "e3908fa1",
   "metadata": {
    "papermill": {
     "duration": 0.006878,
     "end_time": "2024-10-01T18:14:27.352697",
     "exception": false,
     "start_time": "2024-10-01T18:14:27.345819",
     "status": "completed"
    },
    "tags": []
   },
   "source": [
    "# Data loading and preprocessing"
   ]
  },
  {
   "cell_type": "code",
   "execution_count": 3,
   "id": "049fea99",
   "metadata": {
    "execution": {
     "iopub.execute_input": "2024-10-01T18:14:27.369239Z",
     "iopub.status.busy": "2024-10-01T18:14:27.368649Z",
     "iopub.status.idle": "2024-10-01T18:14:27.629172Z",
     "shell.execute_reply": "2024-10-01T18:14:27.628043Z"
    },
    "papermill": {
     "duration": 0.271479,
     "end_time": "2024-10-01T18:14:27.631493",
     "exception": false,
     "start_time": "2024-10-01T18:14:27.360014",
     "status": "completed"
    },
    "tags": []
   },
   "outputs": [
    {
     "data": {
      "text/plain": [
       "((58645, 12), (39098, 11))"
      ]
     },
     "execution_count": 3,
     "metadata": {},
     "output_type": "execute_result"
    }
   ],
   "source": [
    "train = pd.read_csv(CFG.train_path, index_col='id')\n",
    "test = pd.read_csv(CFG.test_path, index_col='id')\n",
    "\n",
    "train.shape, test.shape"
   ]
  },
  {
   "cell_type": "code",
   "execution_count": 4,
   "id": "bd767eec",
   "metadata": {
    "execution": {
     "iopub.execute_input": "2024-10-01T18:14:27.648644Z",
     "iopub.status.busy": "2024-10-01T18:14:27.647856Z",
     "iopub.status.idle": "2024-10-01T18:14:27.693839Z",
     "shell.execute_reply": "2024-10-01T18:14:27.692651Z"
    },
    "papermill": {
     "duration": 0.05723,
     "end_time": "2024-10-01T18:14:27.696344",
     "exception": false,
     "start_time": "2024-10-01T18:14:27.639114",
     "status": "completed"
    },
    "tags": []
   },
   "outputs": [
    {
     "name": "stdout",
     "output_type": "stream",
     "text": [
      "<class 'pandas.core.frame.DataFrame'>\n",
      "Index: 58645 entries, 0 to 58644\n",
      "Data columns (total 12 columns):\n",
      " #   Column                      Non-Null Count  Dtype  \n",
      "---  ------                      --------------  -----  \n",
      " 0   person_age                  58645 non-null  int64  \n",
      " 1   person_income               58645 non-null  int64  \n",
      " 2   person_home_ownership       58645 non-null  object \n",
      " 3   person_emp_length           58645 non-null  float64\n",
      " 4   loan_intent                 58645 non-null  object \n",
      " 5   loan_grade                  58645 non-null  object \n",
      " 6   loan_amnt                   58645 non-null  int64  \n",
      " 7   loan_int_rate               58645 non-null  float64\n",
      " 8   loan_percent_income         58645 non-null  float64\n",
      " 9   cb_person_default_on_file   58645 non-null  object \n",
      " 10  cb_person_cred_hist_length  58645 non-null  int64  \n",
      " 11  loan_status                 58645 non-null  int64  \n",
      "dtypes: float64(3), int64(5), object(4)\n",
      "memory usage: 5.8+ MB\n"
     ]
    }
   ],
   "source": [
    "train.info()"
   ]
  },
  {
   "cell_type": "code",
   "execution_count": 5,
   "id": "cdb3ba2e",
   "metadata": {
    "execution": {
     "iopub.execute_input": "2024-10-01T18:14:27.715038Z",
     "iopub.status.busy": "2024-10-01T18:14:27.714082Z",
     "iopub.status.idle": "2024-10-01T18:14:27.742847Z",
     "shell.execute_reply": "2024-10-01T18:14:27.741718Z"
    },
    "papermill": {
     "duration": 0.041014,
     "end_time": "2024-10-01T18:14:27.745293",
     "exception": false,
     "start_time": "2024-10-01T18:14:27.704279",
     "status": "completed"
    },
    "tags": []
   },
   "outputs": [
    {
     "name": "stdout",
     "output_type": "stream",
     "text": [
      "<class 'pandas.core.frame.DataFrame'>\n",
      "Index: 39098 entries, 58645 to 97742\n",
      "Data columns (total 11 columns):\n",
      " #   Column                      Non-Null Count  Dtype  \n",
      "---  ------                      --------------  -----  \n",
      " 0   person_age                  39098 non-null  int64  \n",
      " 1   person_income               39098 non-null  int64  \n",
      " 2   person_home_ownership       39098 non-null  object \n",
      " 3   person_emp_length           39098 non-null  float64\n",
      " 4   loan_intent                 39098 non-null  object \n",
      " 5   loan_grade                  39098 non-null  object \n",
      " 6   loan_amnt                   39098 non-null  int64  \n",
      " 7   loan_int_rate               39098 non-null  float64\n",
      " 8   loan_percent_income         39098 non-null  float64\n",
      " 9   cb_person_default_on_file   39098 non-null  object \n",
      " 10  cb_person_cred_hist_length  39098 non-null  int64  \n",
      "dtypes: float64(3), int64(4), object(4)\n",
      "memory usage: 3.6+ MB\n"
     ]
    }
   ],
   "source": [
    "test.info()"
   ]
  },
  {
   "cell_type": "code",
   "execution_count": 6,
   "id": "4ef4b12d",
   "metadata": {
    "execution": {
     "iopub.execute_input": "2024-10-01T18:14:27.762547Z",
     "iopub.status.busy": "2024-10-01T18:14:27.762197Z",
     "iopub.status.idle": "2024-10-01T18:14:27.774092Z",
     "shell.execute_reply": "2024-10-01T18:14:27.773041Z"
    },
    "papermill": {
     "duration": 0.023021,
     "end_time": "2024-10-01T18:14:27.776270",
     "exception": false,
     "start_time": "2024-10-01T18:14:27.753249",
     "status": "completed"
    },
    "tags": []
   },
   "outputs": [
    {
     "data": {
      "text/plain": [
       "loan_status\n",
       "0    0.857618\n",
       "1    0.142382\n",
       "Name: proportion, dtype: float64"
      ]
     },
     "execution_count": 6,
     "metadata": {},
     "output_type": "execute_result"
    }
   ],
   "source": [
    "train.loan_status.value_counts(normalize=True)"
   ]
  },
  {
   "cell_type": "code",
   "execution_count": 7,
   "id": "c76c26ca",
   "metadata": {
    "execution": {
     "iopub.execute_input": "2024-10-01T18:14:27.793876Z",
     "iopub.status.busy": "2024-10-01T18:14:27.793178Z",
     "iopub.status.idle": "2024-10-01T18:14:29.288983Z",
     "shell.execute_reply": "2024-10-01T18:14:29.287793Z"
    },
    "papermill": {
     "duration": 1.50772,
     "end_time": "2024-10-01T18:14:29.291855",
     "exception": false,
     "start_time": "2024-10-01T18:14:27.784135",
     "status": "completed"
    },
    "tags": []
   },
   "outputs": [
    {
     "data": {
      "image/png": "[encoded data removed]",
      "text/plain": [
       "<Figure size 2000x1000 with 4 Axes>"
      ]
     },
     "metadata": {},
     "output_type": "display_data"
    }
   ],
   "source": [
    "cat_cols = train.select_dtypes(include='object').columns.tolist()\n",
    "\n",
    "palette = {0: sns.color_palette(\"Set2\")[1], 1: sns.color_palette(\"Set2\")[0]}\n",
    "fig, axes = plt.subplots(2, 2, figsize=(20, 10))\n",
    "axes = axes.flatten()\n",
    "for i, col in enumerate(cat_cols):\n",
    "    sns.countplot(data=train, x=col, hue=CFG.target, ax=axes[i], palette=palette)\n",
    "    axes[i].set_title(f'{col} distribution')\n",
    "    axes[i].set_ylabel('')\n",
    "    axes[i].set_xlabel('')\n",
    "\n",
    "plt.tight_layout()\n",
    "plt.show()"
   ]
  },
  {
   "cell_type": "markdown",
   "id": "49a58080",
   "metadata": {
    "papermill": {
     "duration": 0.009991,
     "end_time": "2024-10-01T18:14:29.311829",
     "exception": false,
     "start_time": "2024-10-01T18:14:29.301838",
     "status": "completed"
    },
    "tags": []
   },
   "source": [
    "**Observations**:\n",
    "- The dataset is relatively small compared to those we've seen in recent months in the playground series. It is also imbalanced, with the minority class representing less than 15%.\n",
    "- It contains 4 categorical features, all of which have low cardinality. The remaining features are numerical.\n",
    "- There are no missing values.\n",
    "\n",
    "Most of the models I plan to use can by default handle categorical features. However, `HistGradientBoostingClassifier` only accepts numerical features. For this model, I will encode the categorical features using `OrdinalEncoder`.\n",
    "\n",
    "Below, I have created a small function that converts the data types of categorical features to the `category` type and encodes them into numerical values if necessary."
   ]
  },
  {
   "cell_type": "code",
   "execution_count": 8,
   "id": "968d8956",
   "metadata": {
    "execution": {
     "iopub.execute_input": "2024-10-01T18:14:29.332359Z",
     "iopub.status.busy": "2024-10-01T18:14:29.331930Z",
     "iopub.status.idle": "2024-10-01T18:14:29.340555Z",
     "shell.execute_reply": "2024-10-01T18:14:29.339517Z"
    },
    "papermill": {
     "duration": 0.021673,
     "end_time": "2024-10-01T18:14:29.342878",
     "exception": false,
     "start_time": "2024-10-01T18:14:29.321205",
     "status": "completed"
    },
    "tags": []
   },
   "outputs": [],
   "source": [
    "def get_data(encode):\n",
    "    train = pd.read_csv(CFG.train_path, index_col='id')\n",
    "    test = pd.read_csv(CFG.test_path, index_col='id')\n",
    "    \n",
    "    cat_cols = test.select_dtypes(include='object').columns.tolist()\n",
    "    train[cat_cols] = train[cat_cols].astype('category')\n",
    "    test[cat_cols] = test[cat_cols].astype('category')\n",
    "    \n",
    "    if encode:\n",
    "        encoder = OrdinalEncoder()\n",
    "        train[cat_cols] = encoder.fit_transform(train[cat_cols])\n",
    "        test[cat_cols] = encoder.transform(test[cat_cols])\n",
    "        \n",
    "    X = train.drop(CFG.target, axis=1)\n",
    "    y = train[CFG.target]\n",
    "    X_test = test\n",
    "    \n",
    "    return X, y, X_test"
   ]
  },
  {
   "cell_type": "markdown",
   "id": "62de6df1",
   "metadata": {
    "papermill": {
     "duration": 0.009172,
     "end_time": "2024-10-01T18:14:29.361897",
     "exception": false,
     "start_time": "2024-10-01T18:14:29.352725",
     "status": "completed"
    },
    "tags": []
   },
   "source": [
    "# Training base models\n",
    "\n",
    "To simplify the process of training, cross-validation, and inference, etc. I will create a class that handles all the necessary logic. This class will do cross-validation using `StratifiedKFold`, train the models, save their out-of-fold predictions, and create a submission file for the final ensemble model."
   ]
  },
  {
   "cell_type": "code",
   "execution_count": 9,
   "id": "290d154d",
   "metadata": {
    "execution": {
     "iopub.execute_input": "2024-10-01T18:14:29.383279Z",
     "iopub.status.busy": "2024-10-01T18:14:29.382841Z",
     "iopub.status.idle": "2024-10-01T18:14:29.402220Z",
     "shell.execute_reply": "2024-10-01T18:14:29.401304Z"
    },
    "papermill": {
     "duration": 0.033375,
     "end_time": "2024-10-01T18:14:29.404820",
     "exception": false,
     "start_time": "2024-10-01T18:14:29.371445",
     "status": "completed"
    },
    "tags": []
   },
   "outputs": [],
   "source": [
    "class Trainer:\n",
    "    def __init__(self, model, config=CFG, is_ensemble_model=False):\n",
    "        self.model = model\n",
    "        self.config = config\n",
    "        self.is_ensemble_model = is_ensemble_model\n",
    "\n",
    "    def fit_predict(self, X, y, X_test):\n",
    "        print(f'Training {self.model.__class__.__name__}\\n')\n",
    "        \n",
    "        scores = []        \n",
    "        coeffs = np.zeros((1, X.shape[1]))\n",
    "        oof_pred_probs = np.zeros((X.shape[0], len(np.unique(y))))\n",
    "        test_pred_probs = np.zeros((X_test.shape[0], len(np.unique(y))))\n",
    "        \n",
    "        skf = StratifiedKFold(n_splits=self.config.n_folds, random_state=self.config.seed, shuffle=True)\n",
    "        for fold_idx, (train_idx, val_idx) in enumerate(skf.split(X, y)):\n",
    "            X_train, X_val = X.iloc[train_idx], X.iloc[val_idx]\n",
    "            y_train, y_val = y[train_idx], y[val_idx]\n",
    "            \n",
    "            model = clone(self.model)\n",
    "            model.fit(X_train, y_train)\n",
    "            \n",
    "            if self.is_ensemble_model:\n",
    "                coeffs += model.coef_ / self.config.n_folds\n",
    "            \n",
    "            y_pred_probs = model.predict_proba(X_val)\n",
    "            oof_pred_probs[val_idx] = y_pred_probs \n",
    "            \n",
    "            temp_test_pred_probs = model.predict_proba(X_test)\n",
    "            test_pred_probs += temp_test_pred_probs / self.config.n_folds\n",
    "            \n",
    "            score = roc_auc_score(y_val, y_pred_probs[:, 1])\n",
    "            scores.append(score)\n",
    "            \n",
    "            del model, X_train, y_train, X_val, y_val, y_pred_probs\n",
    "            gc.collect()\n",
    "            \n",
    "            print(f'--- Fold {fold_idx + 1} - AUC: {score:.6f}')\n",
    "            \n",
    "        overall_score = roc_auc_score(y, oof_pred_probs[:, 1])\n",
    "            \n",
    "        print(f'\\n------ Overall: {overall_score:.6f} | Average: {np.mean(scores):.6f} ± {np.std(scores):.6f}')\n",
    "        \n",
    "        if self.is_ensemble_model:\n",
    "            self._save_submission(test_pred_probs, np.mean(scores))\n",
    "            return scores, coeffs\n",
    "        else:\n",
    "            os.makedirs('oof_pred_probs', exist_ok=True)\n",
    "            os.makedirs('test_pred_probs', exist_ok=True)\n",
    "            self._save_pred_probs(oof_pred_probs, np.mean(scores), 'oof')\n",
    "            self._save_pred_probs(test_pred_probs, np.mean(scores), 'test')\n",
    "            return oof_pred_probs[:, 1], test_pred_probs[:, 1], scores\n",
    "        \n",
    "    def _save_pred_probs(self, pred_probs, cv_score, name):\n",
    "        model_name = self.model.__class__.__name__.lower().replace('classifier', '')\n",
    "        with open(f'{name}_pred_probs/{model_name}_{name}_pred_probs_{cv_score:.6f}.pkl', 'wb') as f:\n",
    "            pickle.dump(pred_probs, f)\n",
    "    \n",
    "    def _save_submission(self, test_pred_probs, score):\n",
    "        name = self.model.__class__.__name__.lower().replace('classifier', '')\n",
    "        sub = pd.read_csv(self.config.sample_sub_path)\n",
    "        sub[self.config.target] = test_pred_probs[:, 1]\n",
    "        sub.to_csv(f'sub_{name}_{score:.6f}.csv', index=False)"
   ]
  },
  {
   "cell_type": "code",
   "execution_count": 10,
   "id": "ca5570dc",
   "metadata": {
    "_kg_hide-input": true,
    "execution": {
     "iopub.execute_input": "2024-10-01T18:14:29.425933Z",
     "iopub.status.busy": "2024-10-01T18:14:29.425521Z",
     "iopub.status.idle": "2024-10-01T18:14:29.438231Z",
     "shell.execute_reply": "2024-10-01T18:14:29.437026Z"
    },
    "papermill": {
     "duration": 0.026249,
     "end_time": "2024-10-01T18:14:29.440854",
     "exception": false,
     "start_time": "2024-10-01T18:14:29.414605",
     "status": "completed"
    },
    "tags": []
   },
   "outputs": [],
   "source": [
    "hgb_params = {\n",
    "    'l2_regularization': 43.29469083866011,\n",
    "    'learning_rate': 0.08420088943835126,\n",
    "    'max_depth': 170,\n",
    "    'max_iter': 1453,\n",
    "    'max_leaf_nodes': 18,\n",
    "    'min_samples_leaf': 50,\n",
    "    'random_state': 1859\n",
    "}\n",
    "\n",
    "xgb_params = {\n",
    "    'colsample_bylevel': 0.96257874322605,\n",
    "    'colsample_bynode': 0.9610574372029148,\n",
    "    'colsample_bytree': 0.86593265517419,\n",
    "    'enable_categorical': True,\n",
    "    'gamma': 1.764060118514582,\n",
    "    'max_depth': 3,\n",
    "    'max_leaves': 149,\n",
    "    'min_child_weight': 10.28119246957897,\n",
    "    'n_estimators': 1841,\n",
    "    'n_jobs': -1,\n",
    "    'random_state': 1859,\n",
    "    'reg_alpha': 0.050913165081981626,\n",
    "    'reg_lambda': 3.7563977796164414,\n",
    "    'subsample': 0.9095025492014588,\n",
    "    'verbosity': 0\n",
    "}\n",
    "\n",
    "lgbm_params = {\n",
    "    'boosting_type': 'gbdt',\n",
    "    'colsample_bytree': 0.29378327900127654,\n",
    "    'learning_rate': 0.09586831652181324,\n",
    "    'min_child_samples': 185,\n",
    "    'min_child_weight': 0.5877782403005783,\n",
    "    'n_estimators': 1884,\n",
    "    'n_jobs': -1,\n",
    "    'num_leaves': 431,\n",
    "    'random_state': 1859,\n",
    "    'reg_alpha': 5.6296501877901886,\n",
    "    'reg_lambda': 1.770139420553013,\n",
    "    'subsample': 0.6261803886163071,\n",
    "    'verbose': -1\n",
    "}\n",
    "\n",
    "lgbm_dart_params = {\n",
    "    'boosting_type': 'dart',\n",
    "    'colsample_bytree': 0.492799048738611,\n",
    "    'learning_rate': 0.09882138320170612,\n",
    "    'min_child_samples': 186,\n",
    "    'min_child_weight': 0.7662927227089905,\n",
    "    'n_estimators': 1683,\n",
    "    'n_jobs': -1,\n",
    "    'num_leaves': 198,\n",
    "    'random_state': 1859,\n",
    "    'reg_alpha': 7.90765088232642,\n",
    "    'reg_lambda': 8.929630870734034,\n",
    "    'subsample': 0.6555234126871917,\n",
    "    'verbose': -1\n",
    "}\n",
    "\n",
    "cb_params = {\n",
    "    'border_count': 255,\n",
    "    'colsample_bylevel': 0.5423953061112798,\n",
    "    'depth': 4,\n",
    "    'iterations': 1722,\n",
    "    'l2_leaf_reg': 7.942728042668517,\n",
    "    'learning_rate': 0.09029656251287914,\n",
    "    'min_child_samples': 72,\n",
    "    'random_state': 1859,\n",
    "    'random_strength': 0.6187584385138069,\n",
    "    'subsample': 0.7661066007464652,\n",
    "    'verbose': False\n",
    "}"
   ]
  },
  {
   "cell_type": "code",
   "execution_count": 11,
   "id": "d91b211a",
   "metadata": {
    "execution": {
     "iopub.execute_input": "2024-10-01T18:14:29.461522Z",
     "iopub.status.busy": "2024-10-01T18:14:29.461121Z",
     "iopub.status.idle": "2024-10-01T18:14:29.466318Z",
     "shell.execute_reply": "2024-10-01T18:14:29.465137Z"
    },
    "papermill": {
     "duration": 0.018157,
     "end_time": "2024-10-01T18:14:29.468657",
     "exception": false,
     "start_time": "2024-10-01T18:14:29.450500",
     "status": "completed"
    },
    "tags": []
   },
   "outputs": [],
   "source": [
    "scores = {}\n",
    "oof_pred_probs = {}\n",
    "test_pred_probs = {}"
   ]
  },
  {
   "cell_type": "code",
   "execution_count": 12,
   "id": "2824856e",
   "metadata": {
    "execution": {
     "iopub.execute_input": "2024-10-01T18:14:29.490894Z",
     "iopub.status.busy": "2024-10-01T18:14:29.489602Z",
     "iopub.status.idle": "2024-10-01T18:14:48.168154Z",
     "shell.execute_reply": "2024-10-01T18:14:48.167036Z"
    },
    "papermill": {
     "duration": 18.692159,
     "end_time": "2024-10-01T18:14:48.170753",
     "exception": false,
     "start_time": "2024-10-01T18:14:29.478594",
     "status": "completed"
    },
    "tags": []
   },
   "outputs": [
    {
     "name": "stdout",
     "output_type": "stream",
     "text": [
      "Training HistGradientBoostingClassifier\n",
      "\n",
      "--- Fold 1 - AUC: 0.957627\n",
      "--- Fold 2 - AUC: 0.952492\n",
      "--- Fold 3 - AUC: 0.954646\n",
      "--- Fold 4 - AUC: 0.952910\n",
      "--- Fold 5 - AUC: 0.952144\n",
      "\n",
      "------ Overall: 0.953945 | Average: 0.953964 ± 0.002023\n"
     ]
    }
   ],
   "source": [
    "X, y, X_test = get_data(encode=True)\n",
    "hgb_model = HistGradientBoostingClassifier(**hgb_params)\n",
    "hgb_trainer = Trainer(hgb_model)\n",
    "oof_pred_probs['HistGB'], test_pred_probs['HistGB'], scores['HistGB'] = hgb_trainer.fit_predict(X, y, X_test)"
   ]
  },
  {
   "cell_type": "code",
   "execution_count": 13,
   "id": "f07b9054",
   "metadata": {
    "execution": {
     "iopub.execute_input": "2024-10-01T18:14:48.193676Z",
     "iopub.status.busy": "2024-10-01T18:14:48.193261Z",
     "iopub.status.idle": "2024-10-01T18:15:03.494888Z",
     "shell.execute_reply": "2024-10-01T18:15:03.493795Z"
    },
    "papermill": {
     "duration": 15.31617,
     "end_time": "2024-10-01T18:15:03.497712",
     "exception": false,
     "start_time": "2024-10-01T18:14:48.181542",
     "status": "completed"
    },
    "tags": []
   },
   "outputs": [
    {
     "name": "stdout",
     "output_type": "stream",
     "text": [
      "Training XGBClassifier\n",
      "\n",
      "--- Fold 1 - AUC: 0.958199\n",
      "--- Fold 2 - AUC: 0.956078\n",
      "--- Fold 3 - AUC: 0.956868\n",
      "--- Fold 4 - AUC: 0.954045\n",
      "--- Fold 5 - AUC: 0.956983\n",
      "\n",
      "------ Overall: 0.956451 | Average: 0.956435 ± 0.001374\n"
     ]
    }
   ],
   "source": [
    "X, y, X_test = get_data(encode=False)\n",
    "xgb_model = XGBClassifier(**xgb_params)\n",
    "xgb_trainer = Trainer(xgb_model)\n",
    "oof_pred_probs['XGBoost'], test_pred_probs['XGBoost'], scores['XGBoost'] = xgb_trainer.fit_predict(X, y, X_test)"
   ]
  },
  {
   "cell_type": "code",
   "execution_count": 14,
   "id": "8d210476",
   "metadata": {
    "execution": {
     "iopub.execute_input": "2024-10-01T18:15:03.523048Z",
     "iopub.status.busy": "2024-10-01T18:15:03.522054Z",
     "iopub.status.idle": "2024-10-01T18:15:57.220805Z",
     "shell.execute_reply": "2024-10-01T18:15:57.219770Z"
    },
    "papermill": {
     "duration": 53.713602,
     "end_time": "2024-10-01T18:15:57.223148",
     "exception": false,
     "start_time": "2024-10-01T18:15:03.509546",
     "status": "completed"
    },
    "tags": []
   },
   "outputs": [
    {
     "name": "stdout",
     "output_type": "stream",
     "text": [
      "Training LGBMClassifier\n",
      "\n",
      "--- Fold 1 - AUC: 0.961672\n",
      "--- Fold 2 - AUC: 0.957192\n",
      "--- Fold 3 - AUC: 0.959395\n",
      "--- Fold 4 - AUC: 0.956002\n",
      "--- Fold 5 - AUC: 0.958409\n",
      "\n",
      "------ Overall: 0.958526 | Average: 0.958534 ± 0.001940\n"
     ]
    }
   ],
   "source": [
    "lgbm_model = LGBMClassifier(**lgbm_params)\n",
    "lgbm_trainer = Trainer(lgbm_model)\n",
    "oof_pred_probs['LightGBM'], test_pred_probs['LightGBM'], scores['LightGBM'] = lgbm_trainer.fit_predict(X, y, X_test)"
   ]
  },
  {
   "cell_type": "code",
   "execution_count": 15,
   "id": "b01e0cb0",
   "metadata": {
    "execution": {
     "iopub.execute_input": "2024-10-01T18:15:57.248216Z",
     "iopub.status.busy": "2024-10-01T18:15:57.247775Z",
     "iopub.status.idle": "2024-10-01T18:46:14.030042Z",
     "shell.execute_reply": "2024-10-01T18:46:14.028823Z"
    },
    "papermill": {
     "duration": 1816.809372,
     "end_time": "2024-10-01T18:46:14.044183",
     "exception": false,
     "start_time": "2024-10-01T18:15:57.234811",
     "status": "completed"
    },
    "tags": []
   },
   "outputs": [
    {
     "name": "stdout",
     "output_type": "stream",
     "text": [
      "Training LGBMClassifier\n",
      "\n",
      "--- Fold 1 - AUC: 0.959260\n",
      "--- Fold 2 - AUC: 0.955658\n",
      "--- Fold 3 - AUC: 0.957523\n",
      "--- Fold 4 - AUC: 0.954963\n",
      "--- Fold 5 - AUC: 0.957603\n",
      "\n",
      "------ Overall: 0.956986 | Average: 0.957001 ± 0.001529\n"
     ]
    }
   ],
   "source": [
    "lgbm_dart_model = LGBMClassifier(**lgbm_dart_params)\n",
    "lgbm_dart_trainer = Trainer(lgbm_dart_model)\n",
    "oof_pred_probs['LightGBM (dart)'], test_pred_probs['LightGBM (dart)'], scores['LightGBM (dart)'] = lgbm_dart_trainer.fit_predict(X, y, X_test)"
   ]
  },
  {
   "cell_type": "code",
   "execution_count": 16,
   "id": "e73f8b11",
   "metadata": {
    "execution": {
     "iopub.execute_input": "2024-10-01T18:46:14.071365Z",
     "iopub.status.busy": "2024-10-01T18:46:14.070320Z",
     "iopub.status.idle": "2024-10-01T18:49:46.297695Z",
     "shell.execute_reply": "2024-10-01T18:49:46.296545Z"
    },
    "papermill": {
     "duration": 212.256755,
     "end_time": "2024-10-01T18:49:46.313186",
     "exception": false,
     "start_time": "2024-10-01T18:46:14.056431",
     "status": "completed"
    },
    "tags": []
   },
   "outputs": [
    {
     "name": "stdout",
     "output_type": "stream",
     "text": [
      "Training CatBoostClassifier\n",
      "\n",
      "--- Fold 1 - AUC: 0.959451\n",
      "--- Fold 2 - AUC: 0.957541\n",
      "--- Fold 3 - AUC: 0.956692\n",
      "--- Fold 4 - AUC: 0.954016\n",
      "--- Fold 5 - AUC: 0.958280\n",
      "\n",
      "------ Overall: 0.957162 | Average: 0.957196 ± 0.001830\n"
     ]
    }
   ],
   "source": [
    "cb_model = CatBoostClassifier(**cb_params, cat_features=cat_cols)\n",
    "cb_trainer = Trainer(cb_model)\n",
    "oof_pred_probs['CatBoost'], test_pred_probs['CatBoost'], scores['CatBoost'] = cb_trainer.fit_predict(X, y, X_test)"
   ]
  },
  {
   "cell_type": "markdown",
   "id": "5c1d9a9a",
   "metadata": {
    "papermill": {
     "duration": 0.012686,
     "end_time": "2024-10-01T18:49:46.338989",
     "exception": false,
     "start_time": "2024-10-01T18:49:46.326303",
     "status": "completed"
    },
    "tags": []
   },
   "source": [
    "# Ensembling with Logistic Regression\n",
    "\n",
    "I will use `LogisticRegression` to ensemble the predictions of the base models. The predictions are converted to logits and fed into the logistic regression model as features."
   ]
  },
  {
   "cell_type": "code",
   "execution_count": 17,
   "id": "ff653ab9",
   "metadata": {
    "execution": {
     "iopub.execute_input": "2024-10-01T18:49:46.366686Z",
     "iopub.status.busy": "2024-10-01T18:49:46.366224Z",
     "iopub.status.idle": "2024-10-01T18:49:48.423166Z",
     "shell.execute_reply": "2024-10-01T18:49:48.421795Z"
    },
    "papermill": {
     "duration": 2.073778,
     "end_time": "2024-10-01T18:49:48.425499",
     "exception": false,
     "start_time": "2024-10-01T18:49:46.351721",
     "status": "completed"
    },
    "tags": []
   },
   "outputs": [
    {
     "name": "stdout",
     "output_type": "stream",
     "text": [
      "Training LogisticRegression\n",
      "\n",
      "--- Fold 1 - AUC: 0.962069\n",
      "--- Fold 2 - AUC: 0.958660\n",
      "--- Fold 3 - AUC: 0.959600\n",
      "--- Fold 4 - AUC: 0.956446\n",
      "--- Fold 5 - AUC: 0.959550\n",
      "\n",
      "------ Overall: 0.959243 | Average: 0.959265 ± 0.001809\n"
     ]
    }
   ],
   "source": [
    "X = pd.DataFrame(np.column_stack(list(oof_pred_probs.values())))\n",
    "X_test = pd.DataFrame(np.column_stack(list(test_pred_probs.values())))\n",
    "\n",
    "X = logit(X)\n",
    "X_test = logit(X_test)\n",
    "\n",
    "lr_model = LogisticRegression(random_state=CFG.seed)\n",
    "lr_trainer = Trainer(lr_model, is_ensemble_model=True)\n",
    "scores['Ensemble'], coeffs = lr_trainer.fit_predict(X, y, X_test)"
   ]
  },
  {
   "cell_type": "markdown",
   "id": "444e9c06",
   "metadata": {
    "papermill": {
     "duration": 0.013439,
     "end_time": "2024-10-01T18:49:48.452575",
     "exception": false,
     "start_time": "2024-10-01T18:49:48.439136",
     "status": "completed"
    },
    "tags": []
   },
   "source": [
    "Here, we can see the coefficients of the logistic regression model, which represent the contribution of each base model's prediction to the final ensemble output. A positive coefficient indicates that the corresponding base model's predictions positively influence the final prediction, and a negative coefficient suggests a negative impact."
   ]
  },
  {
   "cell_type": "code",
   "execution_count": 18,
   "id": "5bccc5d1",
   "metadata": {
    "_kg_hide-input": true,
    "execution": {
     "iopub.execute_input": "2024-10-01T18:49:48.481889Z",
     "iopub.status.busy": "2024-10-01T18:49:48.480885Z",
     "iopub.status.idle": "2024-10-01T18:49:48.838043Z",
     "shell.execute_reply": "2024-10-01T18:49:48.836914Z"
    },
    "papermill": {
     "duration": 0.374576,
     "end_time": "2024-10-01T18:49:48.840429",
     "exception": false,
     "start_time": "2024-10-01T18:49:48.465853",
     "status": "completed"
    },
    "tags": []
   },
   "outputs": [
    {
     "data": {
      "image/png": "[encoded data removed]",
      "text/plain": [
       "<Figure size 1000x300 with 1 Axes>"
      ]
     },
     "metadata": {},
     "output_type": "display_data"
    }
   ],
   "source": [
    "sorted_indices = np.argsort(coeffs[0])[::-1]\n",
    "sorted_coeffs = np.array(coeffs[0])[sorted_indices]\n",
    "sorted_model_names = np.array(list(oof_pred_probs.keys()))[sorted_indices]\n",
    "\n",
    "plt.figure(figsize=(10, coeffs.shape[1] * 0.6))\n",
    "ax = sns.barplot(x=sorted_coeffs, y=sorted_model_names, palette=\"RdYlGn_r\")\n",
    "\n",
    "for i, (value, name) in enumerate(zip(sorted_coeffs, sorted_model_names)):\n",
    "    if value > 0:\n",
    "        ax.text(value, i, f'{value:.3f}', va='center', ha='left', color='black')\n",
    "    else:\n",
    "        ax.text(value, i, f'{value:.3f}', va='center', ha='right', color='black')\n",
    "\n",
    "xlim = ax.get_xlim()\n",
    "ax.set_xlim(xlim[0] - 0.1 * abs(xlim[0]), xlim[1] + 0.1 * abs(xlim[1]))\n",
    "        \n",
    "plt.title('Logistic Regression Coefficients')\n",
    "plt.xlabel('')\n",
    "plt.ylabel('')\n",
    "plt.tight_layout()\n",
    "plt.show()"
   ]
  },
  {
   "cell_type": "markdown",
   "id": "927facce",
   "metadata": {
    "papermill": {
     "duration": 0.013947,
     "end_time": "2024-10-01T18:49:48.868705",
     "exception": false,
     "start_time": "2024-10-01T18:49:48.854758",
     "status": "completed"
    },
    "tags": []
   },
   "source": [
    "# Results"
   ]
  },
  {
   "cell_type": "code",
   "execution_count": 19,
   "id": "153e4e13",
   "metadata": {
    "_kg_hide-input": true,
    "execution": {
     "iopub.execute_input": "2024-10-01T18:49:48.898866Z",
     "iopub.status.busy": "2024-10-01T18:49:48.898406Z",
     "iopub.status.idle": "2024-10-01T18:49:49.522873Z",
     "shell.execute_reply": "2024-10-01T18:49:49.521604Z"
    },
    "papermill": {
     "duration": 0.642392,
     "end_time": "2024-10-01T18:49:49.525339",
     "exception": false,
     "start_time": "2024-10-01T18:49:48.882947",
     "status": "completed"
    },
    "tags": []
   },
   "outputs": [
    {
     "data": {
      "image/png": "[encoded data removed]",
      "text/plain": [
       "<Figure size 1500x360 with 2 Axes>"
      ]
     },
     "metadata": {},
     "output_type": "display_data"
    }
   ],
   "source": [
    "scores = pd.DataFrame(scores)\n",
    "mean_scores = scores.mean().sort_values(ascending=False)\n",
    "order = scores.mean().sort_values(ascending=False).index.tolist()\n",
    "\n",
    "min_score = mean_scores.min()\n",
    "max_score = mean_scores.max()\n",
    "padding = (max_score - min_score) * 0.5\n",
    "lower_limit = min_score - padding\n",
    "upper_limit = max_score + padding\n",
    "\n",
    "fig, axs = plt.subplots(1, 2, figsize=(15, scores.shape[1] * 0.6))\n",
    "\n",
    "sns.boxplot(data=scores, order=order, ax=axs[0], orient='h', palette='RdYlGn')\n",
    "axs[0].set_title('Fold AUC')\n",
    "axs[0].set_xlabel('')\n",
    "axs[0].set_ylabel('')\n",
    "\n",
    "barplot = sns.barplot(x=mean_scores.values, y=mean_scores.index, ax=axs[1], palette='RdYlGn_r')\n",
    "axs[1].set_title('Average AUC')\n",
    "axs[1].set_xlabel('')\n",
    "axs[1].set_xlim(left=lower_limit, right=upper_limit)\n",
    "axs[1].set_ylabel('')\n",
    "\n",
    "for i, score in enumerate(mean_scores.values):\n",
    "    barplot.text(score, i, round(score, 6), va='center')\n",
    "\n",
    "plt.tight_layout()\n",
    "plt.show()"
   ]
  },
  {
   "cell_type": "code",
   "execution_count": 20,
   "id": "124d2f79",
   "metadata": {
    "execution": {
     "iopub.execute_input": "2024-10-01T18:49:49.558418Z",
     "iopub.status.busy": "2024-10-01T18:49:49.557364Z",
     "iopub.status.idle": "2024-10-01T18:49:49.566335Z",
     "shell.execute_reply": "2024-10-01T18:49:49.565062Z"
    },
    "papermill": {
     "duration": 0.027952,
     "end_time": "2024-10-01T18:49:49.569068",
     "exception": false,
     "start_time": "2024-10-01T18:49:49.541116",
     "status": "completed"
    },
    "tags": []
   },
   "outputs": [],
   "source": [
    "shutil.rmtree('catboost_info', ignore_errors=True)"
   ]
  }
 ],
 "metadata": {
  "kaggle": {
   "accelerator": "none",
   "dataSources": [
    {
     "databundleVersionId": 9709193,
     "sourceId": 84894,
     "sourceType": "competition"
    }
   ],
   "dockerImageVersionId": 30775,
   "isGpuEnabled": false,
   "isInternetEnabled": true,
   "language": "python",
   "sourceType": "notebook"
  },
  "kernelspec": {
   "display_name": "Python 3",
   "language": "python",
   "name": "python3"
  },
  "language_info": {
   "codemirror_mode": {
    "name": "ipython",
    "version": 3
   },
   "file_extension": ".py",
   "mimetype": "text/x-python",
   "name": "python",
   "nbconvert_exporter": "python",
   "pygments_lexer": "ipython3",
   "version": "3.10.14"
  },
  "papermill": {
   "default_parameters": {},
   "duration": 2130.3462,
   "end_time": "2024-10-01T18:49:50.406935",
   "environment_variables": {},
   "exception": null,
   "input_path": "__notebook__.ipynb",
   "output_path": "__notebook__.ipynb",
   "parameters": {},
   "start_time": "2024-10-01T18:14:20.060735",
   "version": "2.6.0"
  }
 },
 "nbformat": 4,
 "nbformat_minor": 5
}
