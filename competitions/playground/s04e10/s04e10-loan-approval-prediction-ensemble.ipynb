{
 "cells": [
  {
   "cell_type": "markdown",
   "id": "3374ca4f",
   "metadata": {
    "papermill": {
     "duration": 0.006642,
     "end_time": "2024-10-02T07:52:01.791039",
     "exception": false,
     "start_time": "2024-10-02T07:52:01.784397",
     "status": "completed"
    },
    "tags": []
   },
   "source": [
    "# Imports and configs"
   ]
  },
  {
   "cell_type": "code",
   "execution_count": 1,
   "id": "ab93fccb",
   "metadata": {
    "execution": {
     "iopub.execute_input": "2024-10-02T07:52:01.804732Z",
     "iopub.status.busy": "2024-10-02T07:52:01.804343Z",
     "iopub.status.idle": "2024-10-02T07:52:07.716373Z",
     "shell.execute_reply": "2024-10-02T07:52:07.715599Z"
    },
    "papermill": {
     "duration": 5.921535,
     "end_time": "2024-10-02T07:52:07.718720",
     "exception": false,
     "start_time": "2024-10-02T07:52:01.797185",
     "status": "completed"
    },
    "tags": []
   },
   "outputs": [],
   "source": [
    "from sklearn.ensemble import HistGradientBoostingClassifier\n",
    "from sklearn.linear_model import LogisticRegression\n",
    "from sklearn.model_selection import StratifiedKFold\n",
    "from sklearn.preprocessing import OrdinalEncoder\n",
    "from sklearn.metrics import roc_auc_score\n",
    "from sklearn.base import clone\n",
    "from scipy.special import logit\n",
    "from catboost import CatBoostClassifier\n",
    "from lightgbm import LGBMClassifier\n",
    "from xgboost import XGBClassifier\n",
    "import matplotlib.pyplot as plt\n",
    "import seaborn as sns\n",
    "import pandas as pd\n",
    "import numpy as np\n",
    "import warnings\n",
    "import pickle\n",
    "import shutil\n",
    "import os\n",
    "import gc\n",
    "\n",
    "warnings.filterwarnings('ignore')"
   ]
  },
  {
   "cell_type": "code",
   "execution_count": 2,
   "id": "03e5154d",
   "metadata": {
    "execution": {
     "iopub.execute_input": "2024-10-02T07:52:07.732783Z",
     "iopub.status.busy": "2024-10-02T07:52:07.732045Z",
     "iopub.status.idle": "2024-10-02T07:52:07.736960Z",
     "shell.execute_reply": "2024-10-02T07:52:07.736070Z"
    },
    "papermill": {
     "duration": 0.013708,
     "end_time": "2024-10-02T07:52:07.738833",
     "exception": false,
     "start_time": "2024-10-02T07:52:07.725125",
     "status": "completed"
    },
    "tags": []
   },
   "outputs": [],
   "source": [
    "class CFG:\n",
    "    train_path = '/kaggle/input/playground-series-s4e10/train.csv'\n",
    "    test_path = '/kaggle/input/playground-series-s4e10/test.csv'\n",
    "    sample_sub_path = '/kaggle/input/playground-series-s4e10/sample_submission.csv'\n",
    "    \n",
    "    target = 'loan_status'\n",
    "    n_folds = 5\n",
    "    seed = 1859"
   ]
  },
  {
   "cell_type": "markdown",
   "id": "79c42d42",
   "metadata": {
    "papermill": {
     "duration": 0.00687,
     "end_time": "2024-10-02T07:52:07.751751",
     "exception": false,
     "start_time": "2024-10-02T07:52:07.744881",
     "status": "completed"
    },
    "tags": []
   },
   "source": [
    "# Data loading and preprocessing"
   ]
  },
  {
   "cell_type": "code",
   "execution_count": 3,
   "id": "60f7665d",
   "metadata": {
    "execution": {
     "iopub.execute_input": "2024-10-02T07:52:07.765289Z",
     "iopub.status.busy": "2024-10-02T07:52:07.764998Z",
     "iopub.status.idle": "2024-10-02T07:52:07.995781Z",
     "shell.execute_reply": "2024-10-02T07:52:07.994788Z"
    },
    "papermill": {
     "duration": 0.240067,
     "end_time": "2024-10-02T07:52:07.997827",
     "exception": false,
     "start_time": "2024-10-02T07:52:07.757760",
     "status": "completed"
    },
    "tags": []
   },
   "outputs": [
    {
     "data": {
      "text/plain": [
       "((58645, 12), (39098, 11))"
      ]
     },
     "execution_count": 3,
     "metadata": {},
     "output_type": "execute_result"
    }
   ],
   "source": [
    "train = pd.read_csv(CFG.train_path, index_col='id')\n",
    "test = pd.read_csv(CFG.test_path, index_col='id')\n",
    "\n",
    "train.shape, test.shape"
   ]
  },
  {
   "cell_type": "code",
   "execution_count": 4,
   "id": "fcd6a6f6",
   "metadata": {
    "execution": {
     "iopub.execute_input": "2024-10-02T07:52:08.011967Z",
     "iopub.status.busy": "2024-10-02T07:52:08.011626Z",
     "iopub.status.idle": "2024-10-02T07:52:08.048836Z",
     "shell.execute_reply": "2024-10-02T07:52:08.047792Z"
    },
    "papermill": {
     "duration": 0.046334,
     "end_time": "2024-10-02T07:52:08.050772",
     "exception": false,
     "start_time": "2024-10-02T07:52:08.004438",
     "status": "completed"
    },
    "tags": []
   },
   "outputs": [
    {
     "name": "stdout",
     "output_type": "stream",
     "text": [
      "<class 'pandas.core.frame.DataFrame'>\n",
      "Index: 58645 entries, 0 to 58644\n",
      "Data columns (total 12 columns):\n",
      " #   Column                      Non-Null Count  Dtype  \n",
      "---  ------                      --------------  -----  \n",
      " 0   person_age                  58645 non-null  int64  \n",
      " 1   person_income               58645 non-null  int64  \n",
      " 2   person_home_ownership       58645 non-null  object \n",
      " 3   person_emp_length           58645 non-null  float64\n",
      " 4   loan_intent                 58645 non-null  object \n",
      " 5   loan_grade                  58645 non-null  object \n",
      " 6   loan_amnt                   58645 non-null  int64  \n",
      " 7   loan_int_rate               58645 non-null  float64\n",
      " 8   loan_percent_income         58645 non-null  float64\n",
      " 9   cb_person_default_on_file   58645 non-null  object \n",
      " 10  cb_person_cred_hist_length  58645 non-null  int64  \n",
      " 11  loan_status                 58645 non-null  int64  \n",
      "dtypes: float64(3), int64(5), object(4)\n",
      "memory usage: 5.8+ MB\n"
     ]
    }
   ],
   "source": [
    "train.info()"
   ]
  },
  {
   "cell_type": "code",
   "execution_count": 5,
   "id": "7901af90",
   "metadata": {
    "execution": {
     "iopub.execute_input": "2024-10-02T07:52:08.064831Z",
     "iopub.status.busy": "2024-10-02T07:52:08.064524Z",
     "iopub.status.idle": "2024-10-02T07:52:08.088261Z",
     "shell.execute_reply": "2024-10-02T07:52:08.087247Z"
    },
    "papermill": {
     "duration": 0.033057,
     "end_time": "2024-10-02T07:52:08.090197",
     "exception": false,
     "start_time": "2024-10-02T07:52:08.057140",
     "status": "completed"
    },
    "tags": []
   },
   "outputs": [
    {
     "name": "stdout",
     "output_type": "stream",
     "text": [
      "<class 'pandas.core.frame.DataFrame'>\n",
      "Index: 39098 entries, 58645 to 97742\n",
      "Data columns (total 11 columns):\n",
      " #   Column                      Non-Null Count  Dtype  \n",
      "---  ------                      --------------  -----  \n",
      " 0   person_age                  39098 non-null  int64  \n",
      " 1   person_income               39098 non-null  int64  \n",
      " 2   person_home_ownership       39098 non-null  object \n",
      " 3   person_emp_length           39098 non-null  float64\n",
      " 4   loan_intent                 39098 non-null  object \n",
      " 5   loan_grade                  39098 non-null  object \n",
      " 6   loan_amnt                   39098 non-null  int64  \n",
      " 7   loan_int_rate               39098 non-null  float64\n",
      " 8   loan_percent_income         39098 non-null  float64\n",
      " 9   cb_person_default_on_file   39098 non-null  object \n",
      " 10  cb_person_cred_hist_length  39098 non-null  int64  \n",
      "dtypes: float64(3), int64(4), object(4)\n",
      "memory usage: 3.6+ MB\n"
     ]
    }
   ],
   "source": [
    "test.info()"
   ]
  },
  {
   "cell_type": "code",
   "execution_count": 6,
   "id": "3f68d601",
   "metadata": {
    "execution": {
     "iopub.execute_input": "2024-10-02T07:52:08.104277Z",
     "iopub.status.busy": "2024-10-02T07:52:08.104004Z",
     "iopub.status.idle": "2024-10-02T07:52:08.113781Z",
     "shell.execute_reply": "2024-10-02T07:52:08.112853Z"
    },
    "papermill": {
     "duration": 0.018939,
     "end_time": "2024-10-02T07:52:08.115627",
     "exception": false,
     "start_time": "2024-10-02T07:52:08.096688",
     "status": "completed"
    },
    "tags": []
   },
   "outputs": [
    {
     "data": {
      "text/plain": [
       "loan_status\n",
       "0    0.857618\n",
       "1    0.142382\n",
       "Name: proportion, dtype: float64"
      ]
     },
     "execution_count": 6,
     "metadata": {},
     "output_type": "execute_result"
    }
   ],
   "source": [
    "train.loan_status.value_counts(normalize=True)"
   ]
  },
  {
   "cell_type": "code",
   "execution_count": 7,
   "id": "e7ded2e4",
   "metadata": {
    "execution": {
     "iopub.execute_input": "2024-10-02T07:52:08.130138Z",
     "iopub.status.busy": "2024-10-02T07:52:08.129848Z",
     "iopub.status.idle": "2024-10-02T07:52:09.413155Z",
     "shell.execute_reply": "2024-10-02T07:52:09.412160Z"
    },
    "papermill": {
     "duration": 1.292913,
     "end_time": "2024-10-02T07:52:09.415245",
     "exception": false,
     "start_time": "2024-10-02T07:52:08.122332",
     "status": "completed"
    },
    "tags": []
   },
   "outputs": [
    {
     "data": {
      "image/png": "[encoded data removed]",
      "text/plain": [
       "<Figure size 2000x1000 with 4 Axes>"
      ]
     },
     "metadata": {},
     "output_type": "display_data"
    }
   ],
   "source": [
    "cat_cols = train.select_dtypes(include='object').columns.tolist()\n",
    "\n",
    "palette = {0: sns.color_palette(\"Set2\")[1], 1: sns.color_palette(\"Set2\")[0]}\n",
    "fig, axes = plt.subplots(2, 2, figsize=(20, 10))\n",
    "axes = axes.flatten()\n",
    "for i, col in enumerate(cat_cols):\n",
    "    sns.countplot(data=train, x=col, hue=CFG.target, ax=axes[i], palette=palette)\n",
    "    axes[i].set_title(f'{col} distribution')\n",
    "    axes[i].set_ylabel('')\n",
    "    axes[i].set_xlabel('')\n",
    "\n",
    "plt.tight_layout()\n",
    "plt.show()"
   ]
  },
  {
   "cell_type": "markdown",
   "id": "f0249bff",
   "metadata": {
    "papermill": {
     "duration": 0.007666,
     "end_time": "2024-10-02T07:52:09.430875",
     "exception": false,
     "start_time": "2024-10-02T07:52:09.423209",
     "status": "completed"
    },
    "tags": []
   },
   "source": [
    "**Observations**:\n",
    "- The dataset is relatively small compared to those we've seen in recent months in the playground series. It is also imbalanced, with the minority class representing less than 15%.\n",
    "- It contains 4 categorical features, all of which have low cardinality. The remaining features are numerical.\n",
    "- There are no missing values.\n",
    "\n",
    "Most of the models I plan to use can by default handle categorical features. However, `HistGradientBoostingClassifier` only accepts numerical features. For this model, I will encode the categorical features using `OrdinalEncoder`.\n",
    "\n",
    "Below, I have created a small function that converts the data types of categorical features to the `category` type and encodes them into numerical values if necessary."
   ]
  },
  {
   "cell_type": "code",
   "execution_count": 8,
   "id": "7c21371d",
   "metadata": {
    "execution": {
     "iopub.execute_input": "2024-10-02T07:52:09.448582Z",
     "iopub.status.busy": "2024-10-02T07:52:09.448116Z",
     "iopub.status.idle": "2024-10-02T07:52:09.455795Z",
     "shell.execute_reply": "2024-10-02T07:52:09.454927Z"
    },
    "papermill": {
     "duration": 0.019242,
     "end_time": "2024-10-02T07:52:09.458118",
     "exception": false,
     "start_time": "2024-10-02T07:52:09.438876",
     "status": "completed"
    },
    "tags": []
   },
   "outputs": [],
   "source": [
    "def get_data(encode=False, for_catboost=False):\n",
    "    train = pd.read_csv(CFG.train_path, index_col='id')\n",
    "    test = pd.read_csv(CFG.test_path, index_col='id')\n",
    "    \n",
    "    if for_catboost:\n",
    "        cat_cols = test.columns.tolist()\n",
    "    else:\n",
    "        cat_cols = test.select_dtypes(include='object').columns.tolist()\n",
    "        \n",
    "    train[cat_cols] = train[cat_cols].astype(str).astype('category')\n",
    "    test[cat_cols] = test[cat_cols].astype(str).astype('category')\n",
    "    \n",
    "    if encode:\n",
    "        encoder = OrdinalEncoder()\n",
    "        train[cat_cols] = encoder.fit_transform(train[cat_cols])\n",
    "        test[cat_cols] = encoder.transform(test[cat_cols])\n",
    "        \n",
    "    X = train.drop(CFG.target, axis=1)\n",
    "    y = train[CFG.target]\n",
    "    X_test = test\n",
    "    \n",
    "    return X, y, X_test"
   ]
  },
  {
   "cell_type": "markdown",
   "id": "5b48b9ae",
   "metadata": {
    "papermill": {
     "duration": 0.00752,
     "end_time": "2024-10-02T07:52:09.474470",
     "exception": false,
     "start_time": "2024-10-02T07:52:09.466950",
     "status": "completed"
    },
    "tags": []
   },
   "source": [
    "# Training base models\n",
    "\n",
    "To simplify the process of training, cross-validation, and inference, etc. I will create a class that handles all the necessary logic. This class will do cross-validation using `StratifiedKFold`, train the models, save their out-of-fold predictions, and create a submission file for the final ensemble model."
   ]
  },
  {
   "cell_type": "code",
   "execution_count": 9,
   "id": "0c4abefd",
   "metadata": {
    "execution": {
     "iopub.execute_input": "2024-10-02T07:52:09.491383Z",
     "iopub.status.busy": "2024-10-02T07:52:09.491065Z",
     "iopub.status.idle": "2024-10-02T07:52:09.508499Z",
     "shell.execute_reply": "2024-10-02T07:52:09.507657Z"
    },
    "papermill": {
     "duration": 0.028257,
     "end_time": "2024-10-02T07:52:09.510464",
     "exception": false,
     "start_time": "2024-10-02T07:52:09.482207",
     "status": "completed"
    },
    "tags": []
   },
   "outputs": [],
   "source": [
    "class Trainer:\n",
    "    def __init__(self, model, config=CFG, is_ensemble_model=False):\n",
    "        self.model = model\n",
    "        self.config = config\n",
    "        self.is_ensemble_model = is_ensemble_model\n",
    "\n",
    "    def fit_predict(self, X, y, X_test):\n",
    "        print(f'Training {self.model.__class__.__name__}\\n')\n",
    "        \n",
    "        scores = []        \n",
    "        coeffs = np.zeros((1, X.shape[1]))\n",
    "        oof_pred_probs = np.zeros((X.shape[0], len(np.unique(y))))\n",
    "        test_pred_probs = np.zeros((X_test.shape[0], len(np.unique(y))))\n",
    "        \n",
    "        skf = StratifiedKFold(n_splits=self.config.n_folds, random_state=self.config.seed, shuffle=True)\n",
    "        for fold_idx, (train_idx, val_idx) in enumerate(skf.split(X, y)):\n",
    "            X_train, X_val = X.iloc[train_idx], X.iloc[val_idx]\n",
    "            y_train, y_val = y[train_idx], y[val_idx]\n",
    "            \n",
    "            model = clone(self.model)\n",
    "            model.fit(X_train, y_train)\n",
    "            \n",
    "            if self.is_ensemble_model:\n",
    "                coeffs += model.coef_ / self.config.n_folds\n",
    "            \n",
    "            y_pred_probs = model.predict_proba(X_val)\n",
    "            oof_pred_probs[val_idx] = y_pred_probs \n",
    "            \n",
    "            temp_test_pred_probs = model.predict_proba(X_test)\n",
    "            test_pred_probs += temp_test_pred_probs / self.config.n_folds\n",
    "            \n",
    "            score = roc_auc_score(y_val, y_pred_probs[:, 1])\n",
    "            scores.append(score)\n",
    "            \n",
    "            del model, X_train, y_train, X_val, y_val, y_pred_probs\n",
    "            gc.collect()\n",
    "            \n",
    "            print(f'--- Fold {fold_idx + 1} - AUC: {score:.6f}')\n",
    "            \n",
    "        overall_score = roc_auc_score(y, oof_pred_probs[:, 1])\n",
    "            \n",
    "        print(f'\\n------ Overall: {overall_score:.6f} | Average: {np.mean(scores):.6f} ± {np.std(scores):.6f}')\n",
    "        \n",
    "        if self.is_ensemble_model:\n",
    "            self._save_submission(test_pred_probs, np.mean(scores))\n",
    "            return scores, coeffs\n",
    "        else:\n",
    "            os.makedirs('oof_pred_probs', exist_ok=True)\n",
    "            os.makedirs('test_pred_probs', exist_ok=True)\n",
    "            self._save_pred_probs(oof_pred_probs, np.mean(scores), 'oof')\n",
    "            self._save_pred_probs(test_pred_probs, np.mean(scores), 'test')\n",
    "            return oof_pred_probs[:, 1], test_pred_probs[:, 1], scores\n",
    "        \n",
    "    def _save_pred_probs(self, pred_probs, cv_score, name):\n",
    "        model_name = self.model.__class__.__name__.lower().replace('classifier', '')\n",
    "        with open(f'{name}_pred_probs/{model_name}_{name}_pred_probs_{cv_score:.6f}.pkl', 'wb') as f:\n",
    "            pickle.dump(pred_probs, f)\n",
    "    \n",
    "    def _save_submission(self, test_pred_probs, score):\n",
    "        name = self.model.__class__.__name__.lower().replace('classifier', '')\n",
    "        sub = pd.read_csv(self.config.sample_sub_path)\n",
    "        sub[self.config.target] = test_pred_probs[:, 1]\n",
    "        sub.to_csv(f'sub_{name}_{score:.6f}.csv', index=False)"
   ]
  },
  {
   "cell_type": "code",
   "execution_count": 10,
   "id": "755c376d",
   "metadata": {
    "_kg_hide-input": true,
    "execution": {
     "iopub.execute_input": "2024-10-02T07:52:09.527428Z",
     "iopub.status.busy": "2024-10-02T07:52:09.527107Z",
     "iopub.status.idle": "2024-10-02T07:52:09.537837Z",
     "shell.execute_reply": "2024-10-02T07:52:09.537056Z"
    },
    "papermill": {
     "duration": 0.021301,
     "end_time": "2024-10-02T07:52:09.539664",
     "exception": false,
     "start_time": "2024-10-02T07:52:09.518363",
     "status": "completed"
    },
    "tags": []
   },
   "outputs": [],
   "source": [
    "hgb_params = {\n",
    "    'l2_regularization': 18.936024747438683,\n",
    "    'learning_rate': 0.09659889512539407,\n",
    "    'max_depth': 282,\n",
    "    'max_iter': 782,\n",
    "    'max_leaf_nodes': 17,\n",
    "    'min_samples_leaf': 27,\n",
    "    'random_state': 1859\n",
    "}\n",
    "\n",
    "xgb_params = {\n",
    "    'colsample_bylevel': 0.891682515878179,\n",
    "    'colsample_bynode': 0.9692022033782264,\n",
    "    'colsample_bytree': 0.5741212531177258,\n",
    "    'enable_categorical': True,\n",
    "    'gamma': 3.3732530314473403,\n",
    "    'max_depth': 28,\n",
    "    'max_leaves': 5,\n",
    "    'min_child_weight': 11.394380268039894,\n",
    "    'n_estimators': 1494,\n",
    "    'n_jobs': -1,\n",
    "    'random_state': 1859,\n",
    "    'reg_alpha': 3.9898421425365447,\n",
    "    'reg_lambda': 5.872485568309149,\n",
    "    'scale_pos_weight': 6.3669510043139965,\n",
    "    'subsample': 0.9291585219816468,\n",
    "    'verbosity': 0\n",
    "}\n",
    "\n",
    "lgbm_params = {\n",
    "    'boosting_type': 'gbdt',\n",
    "    'colsample_bytree': 0.4102117160463167,\n",
    "    'learning_rate': 0.018429467144621937,\n",
    "    'min_child_samples': 152,\n",
    "    'min_child_weight': 0.3352178855961433,\n",
    "    'n_estimators': 1830,\n",
    "    'n_jobs': -1,\n",
    "    'num_leaves': 24,\n",
    "    'random_state': 1859,\n",
    "    'reg_alpha': 4.467573158371641,\n",
    "    'reg_lambda': 7.274798299326913,\n",
    "    'scale_pos_weight': 9.782647775062838,\n",
    "    'subsample': 0.5849708880697966,\n",
    "    'verbose': -1\n",
    "}\n",
    "\n",
    "lgbm_dart_params = {\n",
    "    'boosting_type': 'dart',\n",
    "    'colsample_bytree': 0.4342375371792583,\n",
    "    'learning_rate': 0.09198605888855686,\n",
    "    'min_child_samples': 50,\n",
    "    'min_child_weight': 0.8796787910068157,\n",
    "    'n_estimators': 997,\n",
    "    'n_jobs': -1,\n",
    "    'num_leaves': 30,\n",
    "    'random_state': 1859,\n",
    "    'reg_alpha': 4.256638460413229,\n",
    "    'reg_lambda': 1.002971761999517,\n",
    "    'scale_pos_weight': 6.623252385677123,\n",
    "    'subsample': 0.7401348503074506,\n",
    "    'verbose': -1\n",
    "}\n",
    "\n",
    "cb_params = {\n",
    "    'border_count': 252,\n",
    "    'colsample_bylevel': 0.9356479997390588,\n",
    "    'depth': 3,\n",
    "    'iterations': 1850,\n",
    "    'l2_leaf_reg': 8.788769876568756,\n",
    "    'learning_rate': 0.09410360347348852,\n",
    "    'min_child_samples': 90,\n",
    "    'random_state': 1859,\n",
    "    'random_strength': 0.4864716464902107,\n",
    "    'scale_pos_weight': 4.779448110538476,\n",
    "    'subsample': 0.964472122725783,\n",
    "    'verbose': False\n",
    "}"
   ]
  },
  {
   "cell_type": "code",
   "execution_count": 11,
   "id": "45106848",
   "metadata": {
    "execution": {
     "iopub.execute_input": "2024-10-02T07:52:09.556436Z",
     "iopub.status.busy": "2024-10-02T07:52:09.556125Z",
     "iopub.status.idle": "2024-10-02T07:52:09.560002Z",
     "shell.execute_reply": "2024-10-02T07:52:09.559161Z"
    },
    "papermill": {
     "duration": 0.014332,
     "end_time": "2024-10-02T07:52:09.561819",
     "exception": false,
     "start_time": "2024-10-02T07:52:09.547487",
     "status": "completed"
    },
    "tags": []
   },
   "outputs": [],
   "source": [
    "scores = {}\n",
    "oof_pred_probs = {}\n",
    "test_pred_probs = {}"
   ]
  },
  {
   "cell_type": "code",
   "execution_count": 12,
   "id": "155ac3ee",
   "metadata": {
    "execution": {
     "iopub.execute_input": "2024-10-02T07:52:09.579087Z",
     "iopub.status.busy": "2024-10-02T07:52:09.578361Z",
     "iopub.status.idle": "2024-10-02T07:52:21.200488Z",
     "shell.execute_reply": "2024-10-02T07:52:21.199365Z"
    },
    "papermill": {
     "duration": 11.633091,
     "end_time": "2024-10-02T07:52:21.202864",
     "exception": false,
     "start_time": "2024-10-02T07:52:09.569773",
     "status": "completed"
    },
    "tags": []
   },
   "outputs": [
    {
     "name": "stdout",
     "output_type": "stream",
     "text": [
      "Training HistGradientBoostingClassifier\n",
      "\n",
      "--- Fold 1 - AUC: 0.957051\n",
      "--- Fold 2 - AUC: 0.953220\n",
      "--- Fold 3 - AUC: 0.954798\n",
      "--- Fold 4 - AUC: 0.952367\n",
      "--- Fold 5 - AUC: 0.952535\n",
      "\n",
      "------ Overall: 0.953967 | Average: 0.953994 ± 0.001753\n"
     ]
    }
   ],
   "source": [
    "X, y, X_test = get_data(encode=True)\n",
    "hgb_model = HistGradientBoostingClassifier(**hgb_params)\n",
    "hgb_trainer = Trainer(hgb_model)\n",
    "oof_pred_probs['HistGB'], test_pred_probs['HistGB'], scores['HistGB'] = hgb_trainer.fit_predict(X, y, X_test)"
   ]
  },
  {
   "cell_type": "code",
   "execution_count": 13,
   "id": "3bd1f5cc",
   "metadata": {
    "execution": {
     "iopub.execute_input": "2024-10-02T07:52:21.221802Z",
     "iopub.status.busy": "2024-10-02T07:52:21.221216Z",
     "iopub.status.idle": "2024-10-02T07:52:32.738386Z",
     "shell.execute_reply": "2024-10-02T07:52:32.737294Z"
    },
    "papermill": {
     "duration": 11.528979,
     "end_time": "2024-10-02T07:52:32.740538",
     "exception": false,
     "start_time": "2024-10-02T07:52:21.211559",
     "status": "completed"
    },
    "tags": []
   },
   "outputs": [
    {
     "name": "stdout",
     "output_type": "stream",
     "text": [
      "Training XGBClassifier\n",
      "\n",
      "--- Fold 1 - AUC: 0.960093\n",
      "--- Fold 2 - AUC: 0.956461\n",
      "--- Fold 3 - AUC: 0.957642\n",
      "--- Fold 4 - AUC: 0.953255\n",
      "--- Fold 5 - AUC: 0.954998\n",
      "\n",
      "------ Overall: 0.956471 | Average: 0.956490 ± 0.002324\n"
     ]
    }
   ],
   "source": [
    "X, y, X_test = get_data(encode=False)\n",
    "xgb_model = XGBClassifier(**xgb_params)\n",
    "xgb_trainer = Trainer(xgb_model)\n",
    "oof_pred_probs['XGBoost'], test_pred_probs['XGBoost'], scores['XGBoost'] = xgb_trainer.fit_predict(X, y, X_test)"
   ]
  },
  {
   "cell_type": "code",
   "execution_count": 14,
   "id": "5f0a4858",
   "metadata": {
    "execution": {
     "iopub.execute_input": "2024-10-02T07:52:32.760139Z",
     "iopub.status.busy": "2024-10-02T07:52:32.759818Z",
     "iopub.status.idle": "2024-10-02T07:53:10.310982Z",
     "shell.execute_reply": "2024-10-02T07:53:10.310088Z"
    },
    "papermill": {
     "duration": 37.563609,
     "end_time": "2024-10-02T07:53:10.313549",
     "exception": false,
     "start_time": "2024-10-02T07:52:32.749940",
     "status": "completed"
    },
    "tags": []
   },
   "outputs": [
    {
     "name": "stdout",
     "output_type": "stream",
     "text": [
      "Training LGBMClassifier\n",
      "\n",
      "--- Fold 1 - AUC: 0.962374\n",
      "--- Fold 2 - AUC: 0.957469\n",
      "--- Fold 3 - AUC: 0.958923\n",
      "--- Fold 4 - AUC: 0.957478\n",
      "--- Fold 5 - AUC: 0.958431\n",
      "\n",
      "------ Overall: 0.958903 | Average: 0.958935 ± 0.001808\n"
     ]
    }
   ],
   "source": [
    "lgbm_model = LGBMClassifier(**lgbm_params)\n",
    "lgbm_trainer = Trainer(lgbm_model)\n",
    "oof_pred_probs['LightGBM'], test_pred_probs['LightGBM'], scores['LightGBM'] = lgbm_trainer.fit_predict(X, y, X_test)"
   ]
  },
  {
   "cell_type": "code",
   "execution_count": 15,
   "id": "24acd1e4",
   "metadata": {
    "execution": {
     "iopub.execute_input": "2024-10-02T07:53:10.335457Z",
     "iopub.status.busy": "2024-10-02T07:53:10.334745Z",
     "iopub.status.idle": "2024-10-02T07:58:18.131721Z",
     "shell.execute_reply": "2024-10-02T07:58:18.130722Z"
    },
    "papermill": {
     "duration": 307.820496,
     "end_time": "2024-10-02T07:58:18.144312",
     "exception": false,
     "start_time": "2024-10-02T07:53:10.323816",
     "status": "completed"
    },
    "tags": []
   },
   "outputs": [
    {
     "name": "stdout",
     "output_type": "stream",
     "text": [
      "Training LGBMClassifier\n",
      "\n",
      "--- Fold 1 - AUC: 0.962325\n",
      "--- Fold 2 - AUC: 0.957521\n",
      "--- Fold 3 - AUC: 0.958261\n",
      "--- Fold 4 - AUC: 0.956896\n",
      "--- Fold 5 - AUC: 0.958349\n",
      "\n",
      "------ Overall: 0.958646 | Average: 0.958670 ± 0.001903\n"
     ]
    }
   ],
   "source": [
    "lgbm_dart_model = LGBMClassifier(**lgbm_dart_params)\n",
    "lgbm_dart_trainer = Trainer(lgbm_dart_model)\n",
    "oof_pred_probs['LightGBM (dart)'], test_pred_probs['LightGBM (dart)'], scores['LightGBM (dart)'] = lgbm_dart_trainer.fit_predict(X, y, X_test)"
   ]
  },
  {
   "cell_type": "code",
   "execution_count": 16,
   "id": "8b081646",
   "metadata": {
    "execution": {
     "iopub.execute_input": "2024-10-02T07:58:18.166362Z",
     "iopub.status.busy": "2024-10-02T07:58:18.165612Z",
     "iopub.status.idle": "2024-10-02T08:03:36.755234Z",
     "shell.execute_reply": "2024-10-02T08:03:36.754299Z"
    },
    "papermill": {
     "duration": 318.613482,
     "end_time": "2024-10-02T08:03:36.767880",
     "exception": false,
     "start_time": "2024-10-02T07:58:18.154398",
     "status": "completed"
    },
    "tags": []
   },
   "outputs": [
    {
     "name": "stdout",
     "output_type": "stream",
     "text": [
      "Training CatBoostClassifier\n",
      "\n",
      "--- Fold 1 - AUC: 0.965498\n",
      "--- Fold 2 - AUC: 0.961866\n",
      "--- Fold 3 - AUC: 0.966197\n",
      "--- Fold 4 - AUC: 0.959428\n",
      "--- Fold 5 - AUC: 0.964800\n",
      "\n",
      "------ Overall: 0.963497 | Average: 0.963558 ± 0.002537\n"
     ]
    }
   ],
   "source": [
    "X, y, X_test = get_data(encode=False, for_catboost=True)\n",
    "cb_model = CatBoostClassifier(**cb_params, cat_features=X.columns.tolist())\n",
    "cb_trainer = Trainer(cb_model)\n",
    "oof_pred_probs['CatBoost'], test_pred_probs['CatBoost'], scores['CatBoost'] = cb_trainer.fit_predict(X, y, X_test)"
   ]
  },
  {
   "cell_type": "markdown",
   "id": "916af760",
   "metadata": {
    "papermill": {
     "duration": 0.010362,
     "end_time": "2024-10-02T08:03:36.788827",
     "exception": false,
     "start_time": "2024-10-02T08:03:36.778465",
     "status": "completed"
    },
    "tags": []
   },
   "source": [
    "# Ensembling with Logistic Regression\n",
    "\n",
    "I will use `LogisticRegression` to ensemble the predictions of the base models. The predictions are converted to logits and fed into the logistic regression model as features."
   ]
  },
  {
   "cell_type": "code",
   "execution_count": 17,
   "id": "6ec2e3e6",
   "metadata": {
    "execution": {
     "iopub.execute_input": "2024-10-02T08:03:36.811735Z",
     "iopub.status.busy": "2024-10-02T08:03:36.810871Z",
     "iopub.status.idle": "2024-10-02T08:03:38.582965Z",
     "shell.execute_reply": "2024-10-02T08:03:38.581875Z"
    },
    "papermill": {
     "duration": 1.785711,
     "end_time": "2024-10-02T08:03:38.585076",
     "exception": false,
     "start_time": "2024-10-02T08:03:36.799365",
     "status": "completed"
    },
    "tags": []
   },
   "outputs": [
    {
     "name": "stdout",
     "output_type": "stream",
     "text": [
      "Training LogisticRegression\n",
      "\n",
      "--- Fold 1 - AUC: 0.967165\n",
      "--- Fold 2 - AUC: 0.963009\n",
      "--- Fold 3 - AUC: 0.966743\n",
      "--- Fold 4 - AUC: 0.961244\n",
      "--- Fold 5 - AUC: 0.965309\n",
      "\n",
      "------ Overall: 0.964634 | Average: 0.964694 ± 0.002255\n"
     ]
    }
   ],
   "source": [
    "X = pd.DataFrame(np.column_stack(list(oof_pred_probs.values())))\n",
    "X_test = pd.DataFrame(np.column_stack(list(test_pred_probs.values())))\n",
    "\n",
    "X = logit(X)\n",
    "X_test = logit(X_test)\n",
    "\n",
    "lr_model = LogisticRegression(random_state=CFG.seed)\n",
    "lr_trainer = Trainer(lr_model, is_ensemble_model=True)\n",
    "scores['Ensemble'], coeffs = lr_trainer.fit_predict(X, y, X_test)"
   ]
  },
  {
   "cell_type": "markdown",
   "id": "a9ab3386",
   "metadata": {
    "papermill": {
     "duration": 0.010733,
     "end_time": "2024-10-02T08:03:38.607019",
     "exception": false,
     "start_time": "2024-10-02T08:03:38.596286",
     "status": "completed"
    },
    "tags": []
   },
   "source": [
    "Here, we can see the coefficients of the logistic regression model, which represent the contribution of each base model's prediction to the final ensemble output. A positive coefficient indicates that the corresponding base model's predictions positively influence the final prediction, and a negative coefficient suggests a negative impact."
   ]
  },
  {
   "cell_type": "code",
   "execution_count": 18,
   "id": "a72a24be",
   "metadata": {
    "_kg_hide-input": false,
    "execution": {
     "iopub.execute_input": "2024-10-02T08:03:38.630226Z",
     "iopub.status.busy": "2024-10-02T08:03:38.629921Z",
     "iopub.status.idle": "2024-10-02T08:03:38.942762Z",
     "shell.execute_reply": "2024-10-02T08:03:38.941863Z"
    },
    "papermill": {
     "duration": 0.326803,
     "end_time": "2024-10-02T08:03:38.944764",
     "exception": false,
     "start_time": "2024-10-02T08:03:38.617961",
     "status": "completed"
    },
    "tags": []
   },
   "outputs": [
    {
     "data": {
      "image/png": "[encoded data removed]",
      "text/plain": [
       "<Figure size 1000x300 with 1 Axes>"
      ]
     },
     "metadata": {},
     "output_type": "display_data"
    }
   ],
   "source": [
    "sorted_indices = np.argsort(coeffs[0])[::-1]\n",
    "sorted_coeffs = np.array(coeffs[0])[sorted_indices]\n",
    "sorted_model_names = np.array(list(oof_pred_probs.keys()))[sorted_indices]\n",
    "\n",
    "plt.figure(figsize=(10, coeffs.shape[1] * 0.6))\n",
    "ax = sns.barplot(x=sorted_coeffs, y=sorted_model_names, palette=\"RdYlGn_r\")\n",
    "\n",
    "for i, (value, name) in enumerate(zip(sorted_coeffs, sorted_model_names)):\n",
    "    if value > 0:\n",
    "        ax.text(value, i, f'{value:.3f}', va='center', ha='left', color='black')\n",
    "    else:\n",
    "        ax.text(value, i, f'{value:.3f}', va='center', ha='right', color='black')\n",
    "\n",
    "xlim = ax.get_xlim()\n",
    "ax.set_xlim(xlim[0] - 0.1 * abs(xlim[0]), xlim[1] + 0.1 * abs(xlim[1]))\n",
    "        \n",
    "plt.title('Logistic Regression Coefficients')\n",
    "plt.xlabel('')\n",
    "plt.ylabel('')\n",
    "plt.tight_layout()\n",
    "plt.show()"
   ]
  },
  {
   "cell_type": "markdown",
   "id": "f3df20f6",
   "metadata": {
    "papermill": {
     "duration": 0.011362,
     "end_time": "2024-10-02T08:03:38.967877",
     "exception": false,
     "start_time": "2024-10-02T08:03:38.956515",
     "status": "completed"
    },
    "tags": []
   },
   "source": [
    "# Results"
   ]
  },
  {
   "cell_type": "code",
   "execution_count": 19,
   "id": "e738aae5",
   "metadata": {
    "_kg_hide-input": false,
    "execution": {
     "iopub.execute_input": "2024-10-02T08:03:38.992407Z",
     "iopub.status.busy": "2024-10-02T08:03:38.991776Z",
     "iopub.status.idle": "2024-10-02T08:03:39.571319Z",
     "shell.execute_reply": "2024-10-02T08:03:39.570397Z"
    },
    "papermill": {
     "duration": 0.594329,
     "end_time": "2024-10-02T08:03:39.573647",
     "exception": false,
     "start_time": "2024-10-02T08:03:38.979318",
     "status": "completed"
    },
    "tags": []
   },
   "outputs": [
    {
     "data": {
      "image/png": "[encoded data removed]",
      "text/plain": [
       "<Figure size 1500x360 with 2 Axes>"
      ]
     },
     "metadata": {},
     "output_type": "display_data"
    }
   ],
   "source": [
    "scores = pd.DataFrame(scores)\n",
    "mean_scores = scores.mean().sort_values(ascending=False)\n",
    "order = scores.mean().sort_values(ascending=False).index.tolist()\n",
    "\n",
    "min_score = mean_scores.min()\n",
    "max_score = mean_scores.max()\n",
    "padding = (max_score - min_score) * 0.5\n",
    "lower_limit = min_score - padding\n",
    "upper_limit = max_score + padding\n",
    "\n",
    "fig, axs = plt.subplots(1, 2, figsize=(15, scores.shape[1] * 0.6))\n",
    "\n",
    "sns.boxplot(data=scores, order=order, ax=axs[0], orient='h', palette='RdYlGn_r')\n",
    "axs[0].set_title('Fold AUC')\n",
    "axs[0].set_xlabel('')\n",
    "axs[0].set_ylabel('')\n",
    "\n",
    "barplot = sns.barplot(x=mean_scores.values, y=mean_scores.index, ax=axs[1], palette='RdYlGn_r')\n",
    "axs[1].set_title('Average AUC')\n",
    "axs[1].set_xlabel('')\n",
    "axs[1].set_xlim(left=lower_limit, right=upper_limit)\n",
    "axs[1].set_ylabel('')\n",
    "\n",
    "for i, score in enumerate(mean_scores.values):\n",
    "    barplot.text(score, i, round(score, 6), va='center')\n",
    "\n",
    "plt.tight_layout()\n",
    "plt.show()"
   ]
  },
  {
   "cell_type": "code",
   "execution_count": 20,
   "id": "f421c5b8",
   "metadata": {
    "execution": {
     "iopub.execute_input": "2024-10-02T08:03:39.599754Z",
     "iopub.status.busy": "2024-10-02T08:03:39.599394Z",
     "iopub.status.idle": "2024-10-02T08:03:39.604507Z",
     "shell.execute_reply": "2024-10-02T08:03:39.603768Z"
    },
    "papermill": {
     "duration": 0.020073,
     "end_time": "2024-10-02T08:03:39.606325",
     "exception": false,
     "start_time": "2024-10-02T08:03:39.586252",
     "status": "completed"
    },
    "tags": []
   },
   "outputs": [],
   "source": [
    "shutil.rmtree('catboost_info', ignore_errors=True)"
   ]
  }
 ],
 "metadata": {
  "kaggle": {
   "accelerator": "gpu",
   "dataSources": [
    {
     "databundleVersionId": 9709193,
     "sourceId": 84894,
     "sourceType": "competition"
    }
   ],
   "dockerImageVersionId": 30775,
   "isGpuEnabled": true,
   "isInternetEnabled": true,
   "language": "python",
   "sourceType": "notebook"
  },
  "kernelspec": {
   "display_name": "Python 3",
   "language": "python",
   "name": "python3"
  },
  "language_info": {
   "codemirror_mode": {
    "name": "ipython",
    "version": 3
   },
   "file_extension": ".py",
   "mimetype": "text/x-python",
   "name": "python",
   "nbconvert_exporter": "python",
   "pygments_lexer": "ipython3",
   "version": "3.10.14"
  },
  "papermill": {
   "default_parameters": {},
   "duration": 701.219051,
   "end_time": "2024-10-02T08:03:40.337889",
   "environment_variables": {},
   "exception": null,
   "input_path": "__notebook__.ipynb",
   "output_path": "__notebook__.ipynb",
   "parameters": {},
   "start_time": "2024-10-02T07:51:59.118838",
   "version": "2.6.0"
  }
 },
 "nbformat": 4,
 "nbformat_minor": 5
}
