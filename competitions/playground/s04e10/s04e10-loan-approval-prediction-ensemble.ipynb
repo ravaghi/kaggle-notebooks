{
 "cells": [
  {
   "cell_type": "markdown",
   "id": "5d7a9b1e",
   "metadata": {
    "papermill": {
     "duration": 0.008102,
     "end_time": "2024-10-20T18:19:27.871579",
     "exception": false,
     "start_time": "2024-10-20T18:19:27.863477",
     "status": "completed"
    },
    "tags": []
   },
   "source": [
    "# Imports and configs"
   ]
  },
  {
   "cell_type": "code",
   "execution_count": 1,
   "id": "3e2e8cea",
   "metadata": {
    "_kg_hide-output": true,
    "execution": {
     "iopub.execute_input": "2024-10-20T18:19:27.888383Z",
     "iopub.status.busy": "2024-10-20T18:19:27.887984Z",
     "iopub.status.idle": "2024-10-20T18:19:48.519949Z",
     "shell.execute_reply": "2024-10-20T18:19:48.518325Z"
    },
    "papermill": {
     "duration": 20.643721,
     "end_time": "2024-10-20T18:19:48.522843",
     "exception": false,
     "start_time": "2024-10-20T18:19:27.879122",
     "status": "completed"
    },
    "tags": []
   },
   "outputs": [
    {
     "name": "stdout",
     "output_type": "stream",
     "text": [
      "\u001b[31mERROR: pip's dependency resolver does not currently take into account all the packages that are installed. This behaviour is the source of the following dependency conflicts.\r\n",
      "bigframes 0.22.0 requires google-cloud-bigquery[bqstorage,pandas]>=3.10.0, but you have google-cloud-bigquery 2.34.4 which is incompatible.\r\n",
      "bigframes 0.22.0 requires google-cloud-storage>=2.0.0, but you have google-cloud-storage 1.44.0 which is incompatible.\r\n",
      "bigframes 0.22.0 requires pandas<2.1.4,>=1.5.0, but you have pandas 2.2.2 which is incompatible.\r\n",
      "cesium 0.12.3 requires numpy<3.0,>=2.0, but you have numpy 1.26.4 which is incompatible.\r\n",
      "dataproc-jupyter-plugin 0.1.79 requires pydantic~=1.10.0, but you have pydantic 2.9.2 which is incompatible.\u001b[0m\u001b[31m\r\n",
      "\u001b[0m"
     ]
    }
   ],
   "source": [
    "!pip install -q hillclimbers scikit-learn==1.5.1"
   ]
  },
  {
   "cell_type": "code",
   "execution_count": 2,
   "id": "b1cc80e5",
   "metadata": {
    "execution": {
     "iopub.execute_input": "2024-10-20T18:19:48.542228Z",
     "iopub.status.busy": "2024-10-20T18:19:48.541648Z",
     "iopub.status.idle": "2024-10-20T18:19:53.851077Z",
     "shell.execute_reply": "2024-10-20T18:19:53.849895Z"
    },
    "papermill": {
     "duration": 5.323226,
     "end_time": "2024-10-20T18:19:53.853768",
     "exception": false,
     "start_time": "2024-10-20T18:19:48.530542",
     "status": "completed"
    },
    "tags": []
   },
   "outputs": [],
   "source": [
    "from sklearn.ensemble import HistGradientBoostingClassifier, GradientBoostingClassifier\n",
    "from sklearn.feature_selection import mutual_info_classif\n",
    "from sklearn.linear_model import LogisticRegression\n",
    "from sklearn.model_selection import StratifiedKFold\n",
    "from sklearn.preprocessing import OrdinalEncoder\n",
    "from sklearn.metrics import roc_auc_score\n",
    "from sklearn.base import clone\n",
    "from hillclimbers import climb_hill, partial\n",
    "from scipy.special import logit\n",
    "from catboost import CatBoostClassifier\n",
    "from lightgbm import LGBMClassifier\n",
    "from xgboost import XGBClassifier\n",
    "import matplotlib.pyplot as plt\n",
    "import seaborn as sns\n",
    "import pandas as pd\n",
    "import numpy as np\n",
    "import warnings\n",
    "import pickle\n",
    "import shutil\n",
    "import optuna\n",
    "import json\n",
    "import os\n",
    "import gc\n",
    "\n",
    "warnings.filterwarnings('ignore')"
   ]
  },
  {
   "cell_type": "code",
   "execution_count": 3,
   "id": "138e5f86",
   "metadata": {
    "execution": {
     "iopub.execute_input": "2024-10-20T18:19:53.872278Z",
     "iopub.status.busy": "2024-10-20T18:19:53.871601Z",
     "iopub.status.idle": "2024-10-20T18:19:53.877681Z",
     "shell.execute_reply": "2024-10-20T18:19:53.876507Z"
    },
    "papermill": {
     "duration": 0.018154,
     "end_time": "2024-10-20T18:19:53.880122",
     "exception": false,
     "start_time": "2024-10-20T18:19:53.861968",
     "status": "completed"
    },
    "tags": []
   },
   "outputs": [],
   "source": [
    "class CFG:\n",
    "    train_path = '/kaggle/input/playground-series-s4e10/train.csv'\n",
    "    test_path = '/kaggle/input/playground-series-s4e10/test.csv'\n",
    "    sample_sub_path = '/kaggle/input/playground-series-s4e10/sample_submission.csv'\n",
    "    original_data_path = '/kaggle/input/loan-approval-prediction/credit_risk_dataset.csv'\n",
    "    \n",
    "    target = 'loan_status'\n",
    "    n_folds = 10\n",
    "    seed = 42"
   ]
  },
  {
   "cell_type": "markdown",
   "id": "e17f6fbc",
   "metadata": {
    "papermill": {
     "duration": 0.008418,
     "end_time": "2024-10-20T18:19:53.896238",
     "exception": false,
     "start_time": "2024-10-20T18:19:53.887820",
     "status": "completed"
    },
    "tags": []
   },
   "source": [
    "# Data loading and preprocessing"
   ]
  },
  {
   "cell_type": "code",
   "execution_count": 4,
   "id": "4c26db39",
   "metadata": {
    "execution": {
     "iopub.execute_input": "2024-10-20T18:19:53.913207Z",
     "iopub.status.busy": "2024-10-20T18:19:53.912723Z",
     "iopub.status.idle": "2024-10-20T18:19:54.161604Z",
     "shell.execute_reply": "2024-10-20T18:19:54.160491Z"
    },
    "papermill": {
     "duration": 0.260474,
     "end_time": "2024-10-20T18:19:54.164216",
     "exception": false,
     "start_time": "2024-10-20T18:19:53.903742",
     "status": "completed"
    },
    "tags": []
   },
   "outputs": [
    {
     "data": {
      "text/plain": [
       "((58645, 12), (39098, 11))"
      ]
     },
     "execution_count": 4,
     "metadata": {},
     "output_type": "execute_result"
    }
   ],
   "source": [
    "train = pd.read_csv(CFG.train_path, index_col='id')\n",
    "test = pd.read_csv(CFG.test_path, index_col='id')\n",
    "\n",
    "train.shape, test.shape"
   ]
  },
  {
   "cell_type": "code",
   "execution_count": 5,
   "id": "546ce9d4",
   "metadata": {
    "execution": {
     "iopub.execute_input": "2024-10-20T18:19:54.182208Z",
     "iopub.status.busy": "2024-10-20T18:19:54.181754Z",
     "iopub.status.idle": "2024-10-20T18:19:54.214957Z",
     "shell.execute_reply": "2024-10-20T18:19:54.213460Z"
    },
    "papermill": {
     "duration": 0.045479,
     "end_time": "2024-10-20T18:19:54.217722",
     "exception": false,
     "start_time": "2024-10-20T18:19:54.172243",
     "status": "completed"
    },
    "tags": []
   },
   "outputs": [
    {
     "name": "stdout",
     "output_type": "stream",
     "text": [
      "<class 'pandas.core.frame.DataFrame'>\n",
      "Index: 58645 entries, 0 to 58644\n",
      "Data columns (total 12 columns):\n",
      " #   Column                      Non-Null Count  Dtype  \n",
      "---  ------                      --------------  -----  \n",
      " 0   person_age                  58645 non-null  int64  \n",
      " 1   person_income               58645 non-null  int64  \n",
      " 2   person_home_ownership       58645 non-null  object \n",
      " 3   person_emp_length           58645 non-null  float64\n",
      " 4   loan_intent                 58645 non-null  object \n",
      " 5   loan_grade                  58645 non-null  object \n",
      " 6   loan_amnt                   58645 non-null  int64  \n",
      " 7   loan_int_rate               58645 non-null  float64\n",
      " 8   loan_percent_income         58645 non-null  float64\n",
      " 9   cb_person_default_on_file   58645 non-null  object \n",
      " 10  cb_person_cred_hist_length  58645 non-null  int64  \n",
      " 11  loan_status                 58645 non-null  int64  \n",
      "dtypes: float64(3), int64(5), object(4)\n",
      "memory usage: 5.8+ MB\n"
     ]
    }
   ],
   "source": [
    "train.info()"
   ]
  },
  {
   "cell_type": "code",
   "execution_count": 6,
   "id": "9a5da734",
   "metadata": {
    "execution": {
     "iopub.execute_input": "2024-10-20T18:19:54.235318Z",
     "iopub.status.busy": "2024-10-20T18:19:54.234927Z",
     "iopub.status.idle": "2024-10-20T18:19:54.255581Z",
     "shell.execute_reply": "2024-10-20T18:19:54.254394Z"
    },
    "papermill": {
     "duration": 0.032339,
     "end_time": "2024-10-20T18:19:54.258021",
     "exception": false,
     "start_time": "2024-10-20T18:19:54.225682",
     "status": "completed"
    },
    "tags": []
   },
   "outputs": [
    {
     "name": "stdout",
     "output_type": "stream",
     "text": [
      "<class 'pandas.core.frame.DataFrame'>\n",
      "Index: 39098 entries, 58645 to 97742\n",
      "Data columns (total 11 columns):\n",
      " #   Column                      Non-Null Count  Dtype  \n",
      "---  ------                      --------------  -----  \n",
      " 0   person_age                  39098 non-null  int64  \n",
      " 1   person_income               39098 non-null  int64  \n",
      " 2   person_home_ownership       39098 non-null  object \n",
      " 3   person_emp_length           39098 non-null  float64\n",
      " 4   loan_intent                 39098 non-null  object \n",
      " 5   loan_grade                  39098 non-null  object \n",
      " 6   loan_amnt                   39098 non-null  int64  \n",
      " 7   loan_int_rate               39098 non-null  float64\n",
      " 8   loan_percent_income         39098 non-null  float64\n",
      " 9   cb_person_default_on_file   39098 non-null  object \n",
      " 10  cb_person_cred_hist_length  39098 non-null  int64  \n",
      "dtypes: float64(3), int64(4), object(4)\n",
      "memory usage: 3.6+ MB\n"
     ]
    }
   ],
   "source": [
    "test.info()"
   ]
  },
  {
   "cell_type": "code",
   "execution_count": 7,
   "id": "57043928",
   "metadata": {
    "execution": {
     "iopub.execute_input": "2024-10-20T18:19:54.276711Z",
     "iopub.status.busy": "2024-10-20T18:19:54.275556Z",
     "iopub.status.idle": "2024-10-20T18:19:54.288637Z",
     "shell.execute_reply": "2024-10-20T18:19:54.287591Z"
    },
    "papermill": {
     "duration": 0.024896,
     "end_time": "2024-10-20T18:19:54.290963",
     "exception": false,
     "start_time": "2024-10-20T18:19:54.266067",
     "status": "completed"
    },
    "tags": []
   },
   "outputs": [
    {
     "data": {
      "text/plain": [
       "loan_status\n",
       "0    0.857618\n",
       "1    0.142382\n",
       "Name: proportion, dtype: float64"
      ]
     },
     "execution_count": 7,
     "metadata": {},
     "output_type": "execute_result"
    }
   ],
   "source": [
    "train.loan_status.value_counts(normalize=True)"
   ]
  },
  {
   "cell_type": "code",
   "execution_count": 8,
   "id": "a3984f03",
   "metadata": {
    "execution": {
     "iopub.execute_input": "2024-10-20T18:19:54.309973Z",
     "iopub.status.busy": "2024-10-20T18:19:54.309534Z",
     "iopub.status.idle": "2024-10-20T18:19:55.641621Z",
     "shell.execute_reply": "2024-10-20T18:19:55.640445Z"
    },
    "papermill": {
     "duration": 1.344034,
     "end_time": "2024-10-20T18:19:55.643875",
     "exception": false,
     "start_time": "2024-10-20T18:19:54.299841",
     "status": "completed"
    },
    "tags": []
   },
   "outputs": [
    {
     "data": {
      "image/png": "[encoded data removed]",
      "text/plain": [
       "<Figure size 2000x1000 with 4 Axes>"
      ]
     },
     "metadata": {},
     "output_type": "display_data"
    }
   ],
   "source": [
    "cat_cols = train.select_dtypes(include='object').columns.tolist()\n",
    "\n",
    "palette = {0: sns.color_palette(\"Set2\")[1], 1: sns.color_palette(\"Set2\")[0]}\n",
    "fig, axes = plt.subplots(2, 2, figsize=(20, 10))\n",
    "axes = axes.flatten()\n",
    "for i, col in enumerate(cat_cols):\n",
    "    sns.countplot(data=train, x=col, hue=CFG.target, ax=axes[i], palette=palette)\n",
    "    axes[i].set_title(f'{col} distribution')\n",
    "    axes[i].set_ylabel('')\n",
    "    axes[i].set_xlabel('')\n",
    "\n",
    "plt.tight_layout()\n",
    "plt.show()"
   ]
  },
  {
   "cell_type": "markdown",
   "id": "7a1e93ac",
   "metadata": {
    "papermill": {
     "duration": 0.009191,
     "end_time": "2024-10-20T18:19:55.662734",
     "exception": false,
     "start_time": "2024-10-20T18:19:55.653543",
     "status": "completed"
    },
    "tags": []
   },
   "source": [
    "**Observations**:\n",
    "- The dataset is relatively small compared to those we've seen in recent months in the playground series. It is also imbalanced, with the minority class representing less than 15%.\n",
    "- It contains 4 categorical features, all of which have low cardinality. The remaining features are numerical.\n",
    "- There are no missing values.\n",
    "\n",
    "Most of the models I plan to use can by default handle categorical features. However, `HistGradientBoostingClassifier` only accepts numerical features. For this model, I will encode the categorical features using `OrdinalEncoder`.\n",
    "\n",
    "Below, I have created a small function that converts the data types of categorical features to the `category` type and encodes them into numerical values if necessary. The same preprocessing steps are also applied to the original dataset. Note that the original dataset will only be used for training, for validation during training only the competition data is used."
   ]
  },
  {
   "cell_type": "code",
   "execution_count": 9,
   "id": "8a65fbcc",
   "metadata": {
    "execution": {
     "iopub.execute_input": "2024-10-20T18:19:55.683727Z",
     "iopub.status.busy": "2024-10-20T18:19:55.683244Z",
     "iopub.status.idle": "2024-10-20T18:19:55.695341Z",
     "shell.execute_reply": "2024-10-20T18:19:55.694030Z"
    },
    "papermill": {
     "duration": 0.026054,
     "end_time": "2024-10-20T18:19:55.698303",
     "exception": false,
     "start_time": "2024-10-20T18:19:55.672249",
     "status": "completed"
    },
    "tags": []
   },
   "outputs": [],
   "source": [
    "def get_data(encode=False, impute=False, for_catboost=False):\n",
    "    train = pd.read_csv(CFG.train_path, index_col='id')\n",
    "    test = pd.read_csv(CFG.test_path, index_col='id')\n",
    "    original = pd.read_csv(CFG.original_data_path)\n",
    "    \n",
    "    if impute:\n",
    "        original['person_emp_length'] = original['person_emp_length'].fillna(original['person_emp_length'].median())\n",
    "        original['loan_int_rate'] = original['loan_int_rate'].fillna(original['loan_int_rate'].mean())\n",
    "    \n",
    "    if for_catboost:\n",
    "        cat_cols = test.columns.tolist()\n",
    "    else:\n",
    "        cat_cols = test.select_dtypes(include='object').columns.tolist()\n",
    "        \n",
    "    train[cat_cols] = train[cat_cols].astype(str).astype('category')\n",
    "    test[cat_cols] = test[cat_cols].astype(str).astype('category')\n",
    "    original[cat_cols] = original[cat_cols].astype(str).astype('category')\n",
    "    \n",
    "    if encode:\n",
    "        encoder = OrdinalEncoder()\n",
    "        train[cat_cols] = encoder.fit_transform(train[cat_cols])\n",
    "        test[cat_cols] = encoder.transform(test[cat_cols])\n",
    "        original[cat_cols] = encoder.transform(original[cat_cols])\n",
    "        \n",
    "    X = train.drop(CFG.target, axis=1)\n",
    "    y = train[CFG.target]\n",
    "    X_test = test\n",
    "    \n",
    "    X_original = original.drop(CFG.target, axis=1)\n",
    "    y_original = original[CFG.target]\n",
    "    \n",
    "    return X, y, X_test, X_original, y_original"
   ]
  },
  {
   "cell_type": "markdown",
   "id": "43c13a40",
   "metadata": {
    "papermill": {
     "duration": 0.009162,
     "end_time": "2024-10-20T18:19:55.717157",
     "exception": false,
     "start_time": "2024-10-20T18:19:55.707995",
     "status": "completed"
    },
    "tags": []
   },
   "source": [
    "Both correlation and mutual information show that there is little signal in `person_age` and `cb_person_cred_hist_length`. However, I'll leave both of them in the dataset since there is some signal in them."
   ]
  },
  {
   "cell_type": "code",
   "execution_count": 10,
   "id": "68c2d15e",
   "metadata": {
    "execution": {
     "iopub.execute_input": "2024-10-20T18:19:55.737854Z",
     "iopub.status.busy": "2024-10-20T18:19:55.737396Z",
     "iopub.status.idle": "2024-10-20T18:19:59.732342Z",
     "shell.execute_reply": "2024-10-20T18:19:59.731268Z"
    },
    "papermill": {
     "duration": 4.008399,
     "end_time": "2024-10-20T18:19:59.735129",
     "exception": false,
     "start_time": "2024-10-20T18:19:55.726730",
     "status": "completed"
    },
    "tags": []
   },
   "outputs": [
    {
     "data": {
      "text/html": [
       "<style type=\"text/css\">\n",
       "#T_ecec6_row0_col0 {\n",
       "  width: 10em;\n",
       "  background: linear-gradient(90deg, #006837 100.0%, transparent 100.0%);\n",
       "}\n",
       "#T_ecec6_row1_col0 {\n",
       "  width: 10em;\n",
       "  background: linear-gradient(90deg, #36a657 86.0%, transparent 86.0%);\n",
       "}\n",
       "#T_ecec6_row2_col0 {\n",
       "  width: 10em;\n",
       "  background: linear-gradient(90deg, #45ad5b 84.4%, transparent 84.4%);\n",
       "}\n",
       "#T_ecec6_row3_col0 {\n",
       "  width: 10em;\n",
       "  background: linear-gradient(90deg, #54b45f 82.3%, transparent 82.3%);\n",
       "}\n",
       "#T_ecec6_row4_col0 {\n",
       "  width: 10em;\n",
       "  background: linear-gradient(90deg, #fee797 42.4%, transparent 42.4%);\n",
       "}\n",
       "#T_ecec6_row5_col0 {\n",
       "  width: 10em;\n",
       "  background: linear-gradient(90deg, #ea5739 16.5%, transparent 16.5%);\n",
       "}\n",
       "#T_ecec6_row6_col0 {\n",
       "  width: 10em;\n",
       "  background: linear-gradient(90deg, #e34933 14.4%, transparent 14.4%);\n",
       "}\n",
       "#T_ecec6_row7_col0 {\n",
       "  width: 10em;\n",
       "  background: linear-gradient(90deg, #ce2827 8.6%, transparent 8.6%);\n",
       "}\n",
       "#T_ecec6_row8_col0 {\n",
       "  width: 10em;\n",
       "  background: linear-gradient(90deg, #c41e27 6.4%, transparent 6.4%);\n",
       "}\n",
       "#T_ecec6_row9_col0 {\n",
       "  width: 10em;\n",
       "  background: linear-gradient(90deg, #ad0826 1.7%, transparent 1.7%);\n",
       "}\n",
       "#T_ecec6_row10_col0 {\n",
       "  width: 10em;\n",
       "  background: linear-gradient(90deg, #a70226 0.8%, transparent 0.8%);\n",
       "}\n",
       "</style>\n",
       "<table id=\"T_ecec6\">\n",
       "  <thead>\n",
       "    <tr>\n",
       "      <th class=\"blank level0\" >&nbsp;</th>\n",
       "      <th id=\"T_ecec6_level0_col0\" class=\"col_heading level0 col0\" >Mutual Information</th>\n",
       "    </tr>\n",
       "  </thead>\n",
       "  <tbody>\n",
       "    <tr>\n",
       "      <th id=\"T_ecec6_level0_row0\" class=\"row_heading level0 row0\" >person_income</th>\n",
       "      <td id=\"T_ecec6_row0_col0\" class=\"data row0 col0\" >0.097826</td>\n",
       "    </tr>\n",
       "    <tr>\n",
       "      <th id=\"T_ecec6_level0_row1\" class=\"row_heading level0 row1\" >loan_int_rate</th>\n",
       "      <td id=\"T_ecec6_row1_col0\" class=\"data row1 col0\" >0.084167</td>\n",
       "    </tr>\n",
       "    <tr>\n",
       "      <th id=\"T_ecec6_level0_row2\" class=\"row_heading level0 row2\" >loan_percent_income</th>\n",
       "      <td id=\"T_ecec6_row2_col0\" class=\"data row2 col0\" >0.082536</td>\n",
       "    </tr>\n",
       "    <tr>\n",
       "      <th id=\"T_ecec6_level0_row3\" class=\"row_heading level0 row3\" >loan_grade</th>\n",
       "      <td id=\"T_ecec6_row3_col0\" class=\"data row3 col0\" >0.080511</td>\n",
       "    </tr>\n",
       "    <tr>\n",
       "      <th id=\"T_ecec6_level0_row4\" class=\"row_heading level0 row4\" >person_home_ownership</th>\n",
       "      <td id=\"T_ecec6_row4_col0\" class=\"data row4 col0\" >0.041433</td>\n",
       "    </tr>\n",
       "    <tr>\n",
       "      <th id=\"T_ecec6_level0_row5\" class=\"row_heading level0 row5\" >loan_amnt</th>\n",
       "      <td id=\"T_ecec6_row5_col0\" class=\"data row5 col0\" >0.016160</td>\n",
       "    </tr>\n",
       "    <tr>\n",
       "      <th id=\"T_ecec6_level0_row6\" class=\"row_heading level0 row6\" >cb_person_default_on_file</th>\n",
       "      <td id=\"T_ecec6_row6_col0\" class=\"data row6 col0\" >0.014135</td>\n",
       "    </tr>\n",
       "    <tr>\n",
       "      <th id=\"T_ecec6_level0_row7\" class=\"row_heading level0 row7\" >person_emp_length</th>\n",
       "      <td id=\"T_ecec6_row7_col0\" class=\"data row7 col0\" >0.008371</td>\n",
       "    </tr>\n",
       "    <tr>\n",
       "      <th id=\"T_ecec6_level0_row8\" class=\"row_heading level0 row8\" >loan_intent</th>\n",
       "      <td id=\"T_ecec6_row8_col0\" class=\"data row8 col0\" >0.006237</td>\n",
       "    </tr>\n",
       "    <tr>\n",
       "      <th id=\"T_ecec6_level0_row9\" class=\"row_heading level0 row9\" >cb_person_cred_hist_length</th>\n",
       "      <td id=\"T_ecec6_row9_col0\" class=\"data row9 col0\" >0.001656</td>\n",
       "    </tr>\n",
       "    <tr>\n",
       "      <th id=\"T_ecec6_level0_row10\" class=\"row_heading level0 row10\" >person_age</th>\n",
       "      <td id=\"T_ecec6_row10_col0\" class=\"data row10 col0\" >0.000739</td>\n",
       "    </tr>\n",
       "  </tbody>\n",
       "</table>\n"
      ],
      "text/plain": [
       "<pandas.io.formats.style.Styler at 0x7cc45459e110>"
      ]
     },
     "execution_count": 10,
     "metadata": {},
     "output_type": "execute_result"
    }
   ],
   "source": [
    "X_mi, y_mi, _, _, _ = get_data(encode=True)\n",
    "\n",
    "mutual_info = mutual_info_classif(X_mi, y_mi, random_state=CFG.seed)\n",
    "\n",
    "mutual_info = pd.Series(mutual_info)\n",
    "mutual_info.index = X_mi.columns\n",
    "mutual_info = pd.DataFrame(mutual_info.sort_values(ascending=False), columns=['Mutual Information'])\n",
    "mutual_info.style.bar(subset=['Mutual Information'], cmap='RdYlGn')"
   ]
  },
  {
   "cell_type": "code",
   "execution_count": 11,
   "id": "ece800c9",
   "metadata": {
    "execution": {
     "iopub.execute_input": "2024-10-20T18:19:59.758162Z",
     "iopub.status.busy": "2024-10-20T18:19:59.757652Z",
     "iopub.status.idle": "2024-10-20T18:20:00.497181Z",
     "shell.execute_reply": "2024-10-20T18:20:00.495752Z"
    },
    "papermill": {
     "duration": 0.755745,
     "end_time": "2024-10-20T18:20:00.501023",
     "exception": false,
     "start_time": "2024-10-20T18:19:59.745278",
     "status": "completed"
    },
    "tags": []
   },
   "outputs": [
    {
     "data": {
      "image/png": "[encoded data removed]",
      "text/plain": [
       "<Figure size 800x800 with 1 Axes>"
      ]
     },
     "metadata": {},
     "output_type": "display_data"
    }
   ],
   "source": [
    "sns.set_style(\"white\")\n",
    "plt.figure(figsize=(8, 8))\n",
    "\n",
    "corr_train = pd.concat([X_mi, y_mi], axis=1).corr()\n",
    "mask_train = np.triu(np.ones_like(corr_train, dtype=bool), k=1)\n",
    "\n",
    "sns.heatmap(\n",
    "    data=corr_train,\n",
    "    annot=True,\n",
    "    fmt='.4f',\n",
    "    mask=mask_train,\n",
    "    square=True,\n",
    "    cmap='coolwarm',\n",
    "    annot_kws={'size': 8},\n",
    "    cbar=False\n",
    ")\n",
    "\n",
    "plt.tight_layout()\n",
    "plt.show()"
   ]
  },
  {
   "cell_type": "markdown",
   "id": "6a2760bf",
   "metadata": {
    "papermill": {
     "duration": 0.011684,
     "end_time": "2024-10-20T18:20:00.524870",
     "exception": false,
     "start_time": "2024-10-20T18:20:00.513186",
     "status": "completed"
    },
    "tags": []
   },
   "source": [
    "# Training base models\n",
    "\n",
    "To simplify the process of training, cross-validation, and inference, etc. I will create a class that handles all the necessary logic. This class will do cross-validation using `StratifiedKFold`, train the models, save their out-of-fold predictions, and create a submission file for the final ensemble model."
   ]
  },
  {
   "cell_type": "code",
   "execution_count": 12,
   "id": "159fb169",
   "metadata": {
    "execution": {
     "iopub.execute_input": "2024-10-20T18:20:00.550811Z",
     "iopub.status.busy": "2024-10-20T18:20:00.550336Z",
     "iopub.status.idle": "2024-10-20T18:20:00.571051Z",
     "shell.execute_reply": "2024-10-20T18:20:00.569901Z"
    },
    "papermill": {
     "duration": 0.036863,
     "end_time": "2024-10-20T18:20:00.573534",
     "exception": false,
     "start_time": "2024-10-20T18:20:00.536671",
     "status": "completed"
    },
    "tags": []
   },
   "outputs": [],
   "source": [
    "class Trainer:\n",
    "    def __init__(self, model, config=CFG, is_ensemble_model=False):\n",
    "        self.model = model\n",
    "        self.config = config\n",
    "        self.is_ensemble_model = is_ensemble_model\n",
    "\n",
    "    def fit_predict(self, X, y, X_test, X_original=None, y_original=None):\n",
    "        print(f'Training {self.model.__class__.__name__}\\n')\n",
    "        \n",
    "        scores = []        \n",
    "        coeffs = np.zeros((1, X.shape[1]))\n",
    "        oof_pred_probs = np.zeros((X.shape[0], len(np.unique(y))))\n",
    "        test_pred_probs = np.zeros((X_test.shape[0], len(np.unique(y))))\n",
    "        \n",
    "        skf = StratifiedKFold(n_splits=self.config.n_folds, random_state=self.config.seed, shuffle=True)\n",
    "        for fold_idx, (train_idx, val_idx) in enumerate(skf.split(X, y)):\n",
    "            X_train, X_val = X.iloc[train_idx], X.iloc[val_idx]\n",
    "            y_train, y_val = y[train_idx], y[val_idx]\n",
    "            \n",
    "            if not self.is_ensemble_model:\n",
    "                X_train = pd.concat([X_train, X_original], ignore_index=True)\n",
    "                y_train = pd.concat([y_train, y_original], ignore_index=True)\n",
    "            \n",
    "            model = clone(self.model)\n",
    "            model.fit(X_train, y_train)\n",
    "            \n",
    "            if self.is_ensemble_model:\n",
    "                coeffs += model.coef_ / self.config.n_folds\n",
    "                n_iters = model.n_iter_[0]\n",
    "            \n",
    "            y_pred_probs = model.predict_proba(X_val)\n",
    "            oof_pred_probs[val_idx] = y_pred_probs \n",
    "            \n",
    "            temp_test_pred_probs = model.predict_proba(X_test)\n",
    "            test_pred_probs += temp_test_pred_probs / self.config.n_folds\n",
    "            \n",
    "            score = roc_auc_score(y_val, y_pred_probs[:, 1])\n",
    "            scores.append(score)\n",
    "            \n",
    "            del model, X_train, y_train, X_val, y_val, y_pred_probs\n",
    "            gc.collect()\n",
    "            \n",
    "            if self.is_ensemble_model:\n",
    "                print(f'--- Fold {fold_idx + 1} - AUC: {score:.6f} ({n_iters} iterations)')\n",
    "            else:\n",
    "                print(f'--- Fold {fold_idx + 1} - AUC: {score:.6f}')\n",
    "            \n",
    "        overall_score = roc_auc_score(y, oof_pred_probs[:, 1])\n",
    "            \n",
    "        print(f'\\n------ Overall: {overall_score:.6f} | Average: {np.mean(scores):.6f} ± {np.std(scores):.6f}')\n",
    "        \n",
    "        if self.is_ensemble_model:\n",
    "            self._save_submission(test_pred_probs, np.mean(scores))\n",
    "            return scores, coeffs\n",
    "        else:\n",
    "            os.makedirs('oof_pred_probs', exist_ok=True)\n",
    "            os.makedirs('test_pred_probs', exist_ok=True)\n",
    "            self._save_pred_probs(oof_pred_probs, np.mean(scores), 'oof')\n",
    "            self._save_pred_probs(test_pred_probs, np.mean(scores), 'test')\n",
    "            return oof_pred_probs[:, 1], test_pred_probs[:, 1], scores\n",
    "        \n",
    "    def fit(self, X, y):\n",
    "        scores = []                \n",
    "        skf = StratifiedKFold(n_splits=self.config.n_folds, random_state=self.config.seed, shuffle=True)\n",
    "        for fold_idx, (train_idx, val_idx) in enumerate(skf.split(X, y)):\n",
    "            X_train, X_val = X.iloc[train_idx], X.iloc[val_idx]\n",
    "            y_train, y_val = y[train_idx], y[val_idx]\n",
    "            \n",
    "            model = clone(self.model)\n",
    "            model.fit(X_train, y_train)\n",
    "            \n",
    "            y_pred_probs = model.predict_proba(X_val)[:, 1]            \n",
    "            score = roc_auc_score(y_val, y_pred_probs)\n",
    "            scores.append(score)\n",
    "            \n",
    "            del model, X_train, y_train, X_val, y_val, y_pred_probs\n",
    "            gc.collect() \n",
    "        \n",
    "        return np.mean(scores)\n",
    "        \n",
    "    def _save_pred_probs(self, pred_probs, cv_score, name):\n",
    "        model_name = self.model.__class__.__name__.lower().replace('classifier', '')\n",
    "        with open(f'{name}_pred_probs/{model_name}_{name}_pred_probs_{cv_score:.6f}.pkl', 'wb') as f:\n",
    "            pickle.dump(pred_probs, f)\n",
    "    \n",
    "    def _save_submission(self, test_pred_probs, score):\n",
    "        name = self.model.__class__.__name__.lower().replace('classifier', '')\n",
    "        sub = pd.read_csv(self.config.sample_sub_path)\n",
    "        sub[self.config.target] = test_pred_probs[:, 1]\n",
    "        sub.to_csv(f'sub_{name}_{score:.6f}.csv', index=False)"
   ]
  },
  {
   "cell_type": "code",
   "execution_count": 13,
   "id": "b5e3b1d3",
   "metadata": {
    "_kg_hide-input": true,
    "execution": {
     "iopub.execute_input": "2024-10-20T18:20:00.600639Z",
     "iopub.status.busy": "2024-10-20T18:20:00.600170Z",
     "iopub.status.idle": "2024-10-20T18:20:00.614330Z",
     "shell.execute_reply": "2024-10-20T18:20:00.613150Z"
    },
    "papermill": {
     "duration": 0.029947,
     "end_time": "2024-10-20T18:20:00.616949",
     "exception": false,
     "start_time": "2024-10-20T18:20:00.587002",
     "status": "completed"
    },
    "tags": []
   },
   "outputs": [],
   "source": [
    "hgb_params = {\n",
    "    'categorical_features': 'from_dtype',\n",
    "    'l2_regularization': 3.2797348813056515,\n",
    "    'learning_rate': 0.04290001508632896,\n",
    "    'max_depth': 292,\n",
    "    'max_features': 0.9605841946578942,\n",
    "    'max_iter': 2978,\n",
    "    'max_leaf_nodes': 38,\n",
    "    'min_samples_leaf': 254,\n",
    "    'random_state': 42\n",
    "}\n",
    "\n",
    "gb_params = {\n",
    "    'learning_rate': 0.0929927230799728,\n",
    "    'max_depth': 46,\n",
    "    'max_features': 0.7073263633125294,\n",
    "    'max_leaf_nodes': 408,\n",
    "    'min_samples_leaf': 0.0018335824201980433,\n",
    "    'min_samples_split': 0.17352901754483685,\n",
    "    'min_weight_fraction_leaf': 0.016722738886520927,\n",
    "    'n_estimators': 2120,\n",
    "    'random_state': 42,\n",
    "    'subsample': 0.868409007375847\n",
    "}\n",
    "\n",
    "xgb_params = {\n",
    "    'colsample_bylevel': 0.93159652435532,\n",
    "    'colsample_bynode': 0.9012036415835556,\n",
    "    'colsample_bytree': 0.9909890863363436,\n",
    "    'enable_categorical': True,\n",
    "    'gamma': 6.457792834776649,\n",
    "    'max_bins': 33675,\n",
    "    'max_depth': 23,\n",
    "    'max_leaves': 5,\n",
    "    'min_child_weight': 20,\n",
    "    'n_estimators': 3031,\n",
    "    'n_jobs': -1,\n",
    "    'random_state': 42,\n",
    "    'reg_alpha': 17.607188923896334,\n",
    "    'reg_lambda': 30.7564708642023,\n",
    "    'scale_pos_weight': 11.00960680481492,\n",
    "    'subsample': 0.7417586136297359,\n",
    "    'verbosity': 0\n",
    "}\n",
    "\n",
    "lgbm_params = {\n",
    "    'boosting_type': 'gbdt',\n",
    "    'colsample_bytree': 0.26277977207676884,\n",
    "    'learning_rate': 0.07940835097768287,\n",
    "    'max_bins': 2960,\n",
    "    'min_child_samples': 153,\n",
    "    'min_child_weight': 0.6647684362329642,\n",
    "    'n_estimators': 1430,\n",
    "    'n_jobs': -1,\n",
    "    'num_leaves': 476,\n",
    "    'random_state': 42,\n",
    "    'reg_alpha': 43.81436264889119,\n",
    "    'reg_lambda': 23.726449306831626,\n",
    "    'scale_pos_weight': 31.815372683135543,\n",
    "    'subsample': 0.8741989238718226,\n",
    "    'verbose': -1\n",
    "}\n",
    "\n",
    "lgbm_dart_params = {\n",
    "    'boosting_type': 'dart',\n",
    "    'colsample_bytree': 0.4998417018939473,\n",
    "    'learning_rate': 0.06819848153735264,\n",
    "    'max_bins': 10436,\n",
    "    'min_child_samples': 52,\n",
    "    'min_child_weight': 0.6461467790934307,\n",
    "    'n_estimators': 928,\n",
    "    'n_jobs': -1,\n",
    "    'num_leaves': 429,\n",
    "    'random_state': 42,\n",
    "    'reg_alpha': 13.03141729777626,\n",
    "    'reg_lambda': 3.854665343860664,\n",
    "    'scale_pos_weight': 95.82194265786988,\n",
    "    'subsample': 0.022099973935828632,\n",
    "    'verbose': -1\n",
    "}\n",
    "\n",
    "lgbm_goss_params = {\n",
    "    'boosting_type': 'goss',\n",
    "    'colsample_bytree': 0.24954643970263424,\n",
    "    'learning_rate': 0.07188725215845243,\n",
    "    'max_bins': 5626,\n",
    "    'min_child_samples': 22,\n",
    "    'min_child_weight': 0.7179252102190649,\n",
    "    'n_estimators': 1319,\n",
    "    'n_jobs': -1,\n",
    "    'num_leaves': 21,\n",
    "    'random_state': 42,\n",
    "    'reg_alpha': 6.047743594793198,\n",
    "    'reg_lambda': 5.277073776908381,\n",
    "    'scale_pos_weight': 5.885539605359165,\n",
    "    'subsample': 0.16046944461130142,\n",
    "    'verbose': -1\n",
    "}\n",
    "\n",
    "cb_params = {\n",
    "    'border_count': 251,\n",
    "    'colsample_bylevel': 0.9531954623783588,\n",
    "    'depth': 10,\n",
    "    'iterations': 2449,\n",
    "    'l2_leaf_reg': 25.467671075277774,\n",
    "    'learning_rate': 0.012957839148184347,\n",
    "    'min_child_samples': 15,\n",
    "    'random_state': 42,\n",
    "    'random_strength': 0.3368255365490398,\n",
    "    'scale_pos_weight': 2.401239823207424,\n",
    "    'subsample': 0.4952940169573198,\n",
    "    'verbose': False\n",
    "}"
   ]
  },
  {
   "cell_type": "code",
   "execution_count": 14,
   "id": "99d39c9c",
   "metadata": {
    "execution": {
     "iopub.execute_input": "2024-10-20T18:20:00.642541Z",
     "iopub.status.busy": "2024-10-20T18:20:00.642098Z",
     "iopub.status.idle": "2024-10-20T18:20:00.647246Z",
     "shell.execute_reply": "2024-10-20T18:20:00.646010Z"
    },
    "papermill": {
     "duration": 0.020492,
     "end_time": "2024-10-20T18:20:00.649575",
     "exception": false,
     "start_time": "2024-10-20T18:20:00.629083",
     "status": "completed"
    },
    "tags": []
   },
   "outputs": [],
   "source": [
    "scores = {}\n",
    "oof_pred_probs = {}\n",
    "test_pred_probs = {}"
   ]
  },
  {
   "cell_type": "code",
   "execution_count": 15,
   "id": "09f61cb7",
   "metadata": {
    "execution": {
     "iopub.execute_input": "2024-10-20T18:20:00.674934Z",
     "iopub.status.busy": "2024-10-20T18:20:00.674420Z",
     "iopub.status.idle": "2024-10-20T18:21:18.248676Z",
     "shell.execute_reply": "2024-10-20T18:21:18.247524Z"
    },
    "papermill": {
     "duration": 77.589755,
     "end_time": "2024-10-20T18:21:18.251144",
     "exception": false,
     "start_time": "2024-10-20T18:20:00.661389",
     "status": "completed"
    },
    "tags": []
   },
   "outputs": [
    {
     "name": "stdout",
     "output_type": "stream",
     "text": [
      "Training HistGradientBoostingClassifier\n",
      "\n",
      "--- Fold 1 - AUC: 0.956944\n",
      "--- Fold 2 - AUC: 0.952018\n",
      "--- Fold 3 - AUC: 0.963487\n",
      "--- Fold 4 - AUC: 0.962160\n",
      "--- Fold 5 - AUC: 0.958239\n",
      "--- Fold 6 - AUC: 0.953267\n",
      "--- Fold 7 - AUC: 0.959733\n",
      "--- Fold 8 - AUC: 0.959716\n",
      "--- Fold 9 - AUC: 0.960395\n",
      "--- Fold 10 - AUC: 0.955602\n",
      "\n",
      "------ Overall: 0.958084 | Average: 0.958156 ± 0.003521\n"
     ]
    }
   ],
   "source": [
    "X, y, X_test, X_original, y_original = get_data(encode=False, impute=False)\n",
    "hgb_model = HistGradientBoostingClassifier(**hgb_params)\n",
    "hgb_trainer = Trainer(hgb_model)\n",
    "oof_pred_probs['HistGB'], test_pred_probs['HistGB'], scores['HistGB'] = hgb_trainer.fit_predict(X, y, X_test, X_original, y_original)"
   ]
  },
  {
   "cell_type": "code",
   "execution_count": 16,
   "id": "6e966bf8",
   "metadata": {
    "execution": {
     "iopub.execute_input": "2024-10-20T18:21:18.278600Z",
     "iopub.status.busy": "2024-10-20T18:21:18.277532Z",
     "iopub.status.idle": "2024-10-20T19:12:14.203520Z",
     "shell.execute_reply": "2024-10-20T19:12:14.202356Z"
    },
    "papermill": {
     "duration": 3055.955854,
     "end_time": "2024-10-20T19:12:14.219635",
     "exception": false,
     "start_time": "2024-10-20T18:21:18.263781",
     "status": "completed"
    },
    "tags": []
   },
   "outputs": [
    {
     "name": "stdout",
     "output_type": "stream",
     "text": [
      "Training GradientBoostingClassifier\n",
      "\n",
      "--- Fold 1 - AUC: 0.959705\n",
      "--- Fold 2 - AUC: 0.954591\n",
      "--- Fold 3 - AUC: 0.968224\n",
      "--- Fold 4 - AUC: 0.965454\n",
      "--- Fold 5 - AUC: 0.960972\n",
      "--- Fold 6 - AUC: 0.959515\n",
      "--- Fold 7 - AUC: 0.961042\n",
      "--- Fold 8 - AUC: 0.964604\n",
      "--- Fold 9 - AUC: 0.963814\n",
      "--- Fold 10 - AUC: 0.959230\n",
      "\n",
      "------ Overall: 0.961713 | Average: 0.961715 ± 0.003687\n"
     ]
    }
   ],
   "source": [
    "X, y, X_test, X_original, y_original = get_data(encode=True, impute=True)\n",
    "gb_model = GradientBoostingClassifier(**gb_params)\n",
    "gb_trainer = Trainer(gb_model)\n",
    "oof_pred_probs['GradientBoosting'], test_pred_probs['GradientBoosting'], scores['GradientBoosting'] = gb_trainer.fit_predict(X, y, X_test, X_original, y_original)"
   ]
  },
  {
   "cell_type": "code",
   "execution_count": 17,
   "id": "04b29c02",
   "metadata": {
    "execution": {
     "iopub.execute_input": "2024-10-20T19:12:14.248166Z",
     "iopub.status.busy": "2024-10-20T19:12:14.247742Z",
     "iopub.status.idle": "2024-10-20T19:14:21.929056Z",
     "shell.execute_reply": "2024-10-20T19:14:21.927888Z"
    },
    "papermill": {
     "duration": 127.698524,
     "end_time": "2024-10-20T19:14:21.931555",
     "exception": false,
     "start_time": "2024-10-20T19:12:14.233031",
     "status": "completed"
    },
    "tags": []
   },
   "outputs": [
    {
     "name": "stdout",
     "output_type": "stream",
     "text": [
      "Training XGBClassifier\n",
      "\n",
      "--- Fold 1 - AUC: 0.955607\n",
      "--- Fold 2 - AUC: 0.954350\n",
      "--- Fold 3 - AUC: 0.965867\n",
      "--- Fold 4 - AUC: 0.965983\n",
      "--- Fold 5 - AUC: 0.960843\n",
      "--- Fold 6 - AUC: 0.956940\n",
      "--- Fold 7 - AUC: 0.958027\n",
      "--- Fold 8 - AUC: 0.960912\n",
      "--- Fold 9 - AUC: 0.960739\n",
      "--- Fold 10 - AUC: 0.960065\n",
      "\n",
      "------ Overall: 0.959930 | Average: 0.959933 ± 0.003698\n"
     ]
    }
   ],
   "source": [
    "X, y, X_test, X_original, y_original = get_data(encode=False, impute=False)\n",
    "xgb_model = XGBClassifier(**xgb_params)\n",
    "xgb_trainer = Trainer(xgb_model)\n",
    "oof_pred_probs['XGBoost'], test_pred_probs['XGBoost'], scores['XGBoost'] = xgb_trainer.fit_predict(X, y, X_test, X_original, y_original)"
   ]
  },
  {
   "cell_type": "code",
   "execution_count": 18,
   "id": "95ef17ef",
   "metadata": {
    "execution": {
     "iopub.execute_input": "2024-10-20T19:14:21.961687Z",
     "iopub.status.busy": "2024-10-20T19:14:21.961256Z",
     "iopub.status.idle": "2024-10-20T19:18:16.248817Z",
     "shell.execute_reply": "2024-10-20T19:18:16.247536Z"
    },
    "papermill": {
     "duration": 234.305547,
     "end_time": "2024-10-20T19:18:16.251378",
     "exception": false,
     "start_time": "2024-10-20T19:14:21.945831",
     "status": "completed"
    },
    "tags": []
   },
   "outputs": [
    {
     "name": "stdout",
     "output_type": "stream",
     "text": [
      "Training LGBMClassifier\n",
      "\n",
      "--- Fold 1 - AUC: 0.959673\n",
      "--- Fold 2 - AUC: 0.958470\n",
      "--- Fold 3 - AUC: 0.967989\n",
      "--- Fold 4 - AUC: 0.969271\n",
      "--- Fold 5 - AUC: 0.963728\n",
      "--- Fold 6 - AUC: 0.961545\n",
      "--- Fold 7 - AUC: 0.964018\n",
      "--- Fold 8 - AUC: 0.966450\n",
      "--- Fold 9 - AUC: 0.963968\n",
      "--- Fold 10 - AUC: 0.962493\n",
      "\n",
      "------ Overall: 0.963772 | Average: 0.963760 ± 0.003268\n"
     ]
    }
   ],
   "source": [
    "X, y, X_test, X_original, y_original = get_data(encode=False, impute=False)\n",
    "lgbm_model = LGBMClassifier(**lgbm_params)\n",
    "lgbm_trainer = Trainer(lgbm_model)\n",
    "oof_pred_probs['LightGBM'], test_pred_probs['LightGBM'], scores['LightGBM'] = lgbm_trainer.fit_predict(X, y, X_test, X_original, y_original)"
   ]
  },
  {
   "cell_type": "code",
   "execution_count": 19,
   "id": "80437117",
   "metadata": {
    "execution": {
     "iopub.execute_input": "2024-10-20T19:18:16.283483Z",
     "iopub.status.busy": "2024-10-20T19:18:16.282739Z",
     "iopub.status.idle": "2024-10-20T20:25:04.800741Z",
     "shell.execute_reply": "2024-10-20T20:25:04.799323Z"
    },
    "papermill": {
     "duration": 4008.553703,
     "end_time": "2024-10-20T20:25:04.820377",
     "exception": false,
     "start_time": "2024-10-20T19:18:16.266674",
     "status": "completed"
    },
    "tags": []
   },
   "outputs": [
    {
     "name": "stdout",
     "output_type": "stream",
     "text": [
      "Training LGBMClassifier\n",
      "\n",
      "--- Fold 1 - AUC: 0.959131\n",
      "--- Fold 2 - AUC: 0.958615\n",
      "--- Fold 3 - AUC: 0.968783\n",
      "--- Fold 4 - AUC: 0.968823\n",
      "--- Fold 5 - AUC: 0.962299\n",
      "--- Fold 6 - AUC: 0.959713\n",
      "--- Fold 7 - AUC: 0.963177\n",
      "--- Fold 8 - AUC: 0.964671\n",
      "--- Fold 9 - AUC: 0.963280\n",
      "--- Fold 10 - AUC: 0.959685\n",
      "\n",
      "------ Overall: 0.962780 | Average: 0.962818 ± 0.003555\n"
     ]
    }
   ],
   "source": [
    "X, y, X_test, X_original, y_original = get_data(encode=False, impute=False)\n",
    "lgbm_dart_model = LGBMClassifier(**lgbm_dart_params)\n",
    "lgbm_dart_trainer = Trainer(lgbm_dart_model)\n",
    "oof_pred_probs['LightGBM (dart)'], test_pred_probs['LightGBM (dart)'], scores['LightGBM (dart)'] = lgbm_dart_trainer.fit_predict(X, y, X_test, X_original, y_original)"
   ]
  },
  {
   "cell_type": "code",
   "execution_count": 20,
   "id": "019db8e9",
   "metadata": {
    "execution": {
     "iopub.execute_input": "2024-10-20T20:25:04.854299Z",
     "iopub.status.busy": "2024-10-20T20:25:04.853900Z",
     "iopub.status.idle": "2024-10-20T20:29:08.457013Z",
     "shell.execute_reply": "2024-10-20T20:29:08.455663Z"
    },
    "papermill": {
     "duration": 243.639209,
     "end_time": "2024-10-20T20:29:08.475806",
     "exception": false,
     "start_time": "2024-10-20T20:25:04.836597",
     "status": "completed"
    },
    "tags": []
   },
   "outputs": [
    {
     "name": "stdout",
     "output_type": "stream",
     "text": [
      "Training LGBMClassifier\n",
      "\n",
      "--- Fold 1 - AUC: 0.961387\n",
      "--- Fold 2 - AUC: 0.958823\n",
      "--- Fold 3 - AUC: 0.970367\n",
      "--- Fold 4 - AUC: 0.969422\n",
      "--- Fold 5 - AUC: 0.964222\n",
      "--- Fold 6 - AUC: 0.962810\n",
      "--- Fold 7 - AUC: 0.965342\n",
      "--- Fold 8 - AUC: 0.965717\n",
      "--- Fold 9 - AUC: 0.966621\n",
      "--- Fold 10 - AUC: 0.963515\n",
      "\n",
      "------ Overall: 0.964812 | Average: 0.964823 ± 0.003318\n"
     ]
    }
   ],
   "source": [
    "X, y, X_test, X_original, y_original = get_data(encode=False, impute=False, for_catboost=False)\n",
    "lgbm_goss_model = LGBMClassifier(**lgbm_goss_params)\n",
    "lgbm_goss_trainer = Trainer(lgbm_goss_model)\n",
    "oof_pred_probs['LightGBM (goss)'], test_pred_probs['LightGBM (goss)'], scores['LightGBM (goss)'] = lgbm_goss_trainer.fit_predict(X, y, X_test, X_original, y_original)"
   ]
  },
  {
   "cell_type": "code",
   "execution_count": 21,
   "id": "0155ea76",
   "metadata": {
    "execution": {
     "iopub.execute_input": "2024-10-20T20:29:08.511596Z",
     "iopub.status.busy": "2024-10-20T20:29:08.511147Z",
     "iopub.status.idle": "2024-10-20T22:29:30.506924Z",
     "shell.execute_reply": "2024-10-20T22:29:30.505647Z"
    },
    "papermill": {
     "duration": 7222.034077,
     "end_time": "2024-10-20T22:29:30.527228",
     "exception": false,
     "start_time": "2024-10-20T20:29:08.493151",
     "status": "completed"
    },
    "tags": []
   },
   "outputs": [
    {
     "name": "stdout",
     "output_type": "stream",
     "text": [
      "Training CatBoostClassifier\n",
      "\n",
      "--- Fold 1 - AUC: 0.966233\n",
      "--- Fold 2 - AUC: 0.961757\n",
      "--- Fold 3 - AUC: 0.973922\n",
      "--- Fold 4 - AUC: 0.971018\n",
      "--- Fold 5 - AUC: 0.969053\n",
      "--- Fold 6 - AUC: 0.968938\n",
      "--- Fold 7 - AUC: 0.969258\n",
      "--- Fold 8 - AUC: 0.972646\n",
      "--- Fold 9 - AUC: 0.968546\n",
      "--- Fold 10 - AUC: 0.966266\n",
      "\n",
      "------ Overall: 0.968720 | Average: 0.968764 ± 0.003300\n"
     ]
    }
   ],
   "source": [
    "X, y, X_test, X_original, y_original = get_data(encode=False, impute=True, for_catboost=True)\n",
    "cb_model = CatBoostClassifier(**cb_params, cat_features=X.columns.tolist())\n",
    "cb_trainer = Trainer(cb_model)\n",
    "oof_pred_probs['CatBoost'], test_pred_probs['CatBoost'], scores['CatBoost'] = cb_trainer.fit_predict(X, y, X_test, X_original, y_original)"
   ]
  },
  {
   "cell_type": "markdown",
   "id": "0cc8daf9",
   "metadata": {
    "papermill": {
     "duration": 0.016765,
     "end_time": "2024-10-20T22:29:30.560964",
     "exception": false,
     "start_time": "2024-10-20T22:29:30.544199",
     "status": "completed"
    },
    "tags": []
   },
   "source": [
    "# Ensembling with Logistic Regression\n",
    "\n",
    "I will use `LogisticRegression` to ensemble the predictions of the base models. The predictions are converted to logits and fed into the logistic regression model as features."
   ]
  },
  {
   "cell_type": "code",
   "execution_count": 22,
   "id": "5abbb553",
   "metadata": {
    "execution": {
     "iopub.execute_input": "2024-10-20T22:29:30.597625Z",
     "iopub.status.busy": "2024-10-20T22:29:30.597205Z",
     "iopub.status.idle": "2024-10-20T22:29:30.642940Z",
     "shell.execute_reply": "2024-10-20T22:29:30.641416Z"
    },
    "papermill": {
     "duration": 0.0673,
     "end_time": "2024-10-20T22:29:30.645716",
     "exception": false,
     "start_time": "2024-10-20T22:29:30.578416",
     "status": "completed"
    },
    "tags": []
   },
   "outputs": [],
   "source": [
    "X = logit(pd.DataFrame(oof_pred_probs).clip(1e-15, 1-1e-15))\n",
    "X_test = logit(pd.DataFrame(test_pred_probs).clip(1e-15, 1-1e-15))"
   ]
  },
  {
   "cell_type": "code",
   "execution_count": 23,
   "id": "c074c794",
   "metadata": {
    "_kg_hide-input": false,
    "_kg_hide-output": true,
    "execution": {
     "iopub.execute_input": "2024-10-20T22:29:30.682291Z",
     "iopub.status.busy": "2024-10-20T22:29:30.681901Z",
     "iopub.status.idle": "2024-10-20T22:42:00.890759Z",
     "shell.execute_reply": "2024-10-20T22:42:00.889585Z"
    },
    "papermill": {
     "duration": 750.229701,
     "end_time": "2024-10-20T22:42:00.893281",
     "exception": false,
     "start_time": "2024-10-20T22:29:30.663580",
     "status": "completed"
    },
    "scrolled": true,
    "tags": []
   },
   "outputs": [
    {
     "name": "stderr",
     "output_type": "stream",
     "text": [
      "[I 2024-10-20 22:29:30,686] A new study created in memory with name: no-name-1cbed5a3-5af1-4f13-83c6-7060e518b9a5\n",
      "[I 2024-10-20 22:29:38,604] Trial 2 finished with value: 0.9678991691216622 and parameters: {'C': 0.4223173485599262, 'tol': 0.009277385559826096}. Best is trial 2 with value: 0.9678991691216622.\n",
      "[I 2024-10-20 22:29:38,909] Trial 0 finished with value: 0.9679258116284911 and parameters: {'C': 0.2510607522015432, 'tol': 0.008533589192743307}. Best is trial 0 with value: 0.9679258116284911.\n",
      "[I 2024-10-20 22:29:39,748] Trial 3 finished with value: 0.9687946501285507 and parameters: {'C': 0.2232878432494192, 'tol': 0.008016787455128167}. Best is trial 3 with value: 0.9687946501285507.\n",
      "[I 2024-10-20 22:29:40,147] Trial 1 finished with value: 0.968993606968039 and parameters: {'C': 0.9067669883066011, 'tol': 0.002521936376719942}. Best is trial 1 with value: 0.968993606968039.\n",
      "[I 2024-10-20 22:29:47,409] Trial 4 finished with value: 0.9690204414637954 and parameters: {'C': 0.03171360482335295, 'tol': 0.00718205754803329}. Best is trial 4 with value: 0.9690204414637954.\n",
      "[I 2024-10-20 22:29:47,843] Trial 6 finished with value: 0.9687936262459962 and parameters: {'C': 0.848151326280934, 'tol': 0.008028454414803245}. Best is trial 4 with value: 0.9690204414637954.\n",
      "[I 2024-10-20 22:29:48,060] Trial 5 finished with value: 0.968996797467795 and parameters: {'C': 0.47443786052426284, 'tol': 0.0019024103318248298}. Best is trial 4 with value: 0.9690204414637954.\n",
      "[I 2024-10-20 22:29:48,761] Trial 7 finished with value: 0.9689820343989363 and parameters: {'C': 0.6550129175723213, 'tol': 0.0059502494377629556}. Best is trial 4 with value: 0.9690204414637954.\n",
      "[I 2024-10-20 22:29:55,925] Trial 10 finished with value: 0.9678992643633579 and parameters: {'C': 0.7475146583488543, 'tol': 0.009203921445104417}. Best is trial 4 with value: 0.9690204414637954.\n",
      "[I 2024-10-20 22:29:56,589] Trial 8 finished with value: 0.9690039167194625 and parameters: {'C': 0.8137052725150289, 'tol': 0.007425932718703718}. Best is trial 4 with value: 0.9690204414637954.\n",
      "[I 2024-10-20 22:29:56,835] Trial 9 finished with value: 0.9689961074022475 and parameters: {'C': 0.33365246436342655, 'tol': 0.006514592188912049}. Best is trial 4 with value: 0.9690204414637954.\n",
      "[I 2024-10-20 22:29:58,442] Trial 11 finished with value: 0.9690132752138524 and parameters: {'C': 0.02717017679986289, 'tol': 0.0027753255805386084}. Best is trial 4 with value: 0.9690204414637954.\n",
      "[I 2024-10-20 22:30:04,646] Trial 12 finished with value: 0.9683314763443585 and parameters: {'C': 0.7144261275982855, 'tol': 0.008140047818288402}. Best is trial 4 with value: 0.9690204414637954.\n",
      "[I 2024-10-20 22:30:06,527] Trial 13 finished with value: 0.969013108577576 and parameters: {'C': 0.027786488587125846, 'tol': 0.004082460333779164}. Best is trial 4 with value: 0.9690204414637954.\n",
      "[I 2024-10-20 22:30:06,780] Trial 14 finished with value: 0.969050989168952 and parameters: {'C': 0.009229359452248342, 'tol': 0.0042605550148726735}. Best is trial 14 with value: 0.969050989168952.\n",
      "[I 2024-10-20 22:30:08,160] Trial 15 finished with value: 0.9690678952256789 and parameters: {'C': 0.007545827341472473, 'tol': 0.0040100847081086565}. Best is trial 15 with value: 0.9690678952256789.\n",
      "[I 2024-10-20 22:30:13,686] Trial 16 finished with value: 0.9690310618053152 and parameters: {'C': 0.016458503456862505, 'tol': 0.004321234654109582}. Best is trial 15 with value: 0.9690678952256789.\n",
      "[I 2024-10-20 22:30:15,888] Trial 18 finished with value: 0.9689923215720601 and parameters: {'C': 0.14307167683111177, 'tol': 0.004393978943686375}. Best is trial 15 with value: 0.9690678952256789.\n",
      "[I 2024-10-20 22:30:16,918] Trial 19 finished with value: 0.9689912023767937 and parameters: {'C': 0.1577156361950156, 'tol': 0.004470126848285966}. Best is trial 15 with value: 0.9690678952256789.\n",
      "[I 2024-10-20 22:30:21,238] Trial 17 finished with value: 0.9696331529246418 and parameters: {'C': 0.035114121494268985, 'tol': 0.00030674627963602234}. Best is trial 17 with value: 0.9696331529246418.\n",
      "[I 2024-10-20 22:30:25,636] Trial 20 finished with value: 0.9695891746064277 and parameters: {'C': 0.1999473935798724, 'tol': 0.0010526420589404366}. Best is trial 17 with value: 0.9696331529246418.\n",
      "[I 2024-10-20 22:30:27,807] Trial 21 finished with value: 0.9695879838840181 and parameters: {'C': 0.5921868432652703, 'tol': 0.0009164197151124739}. Best is trial 17 with value: 0.9696331529246418.\n",
      "[I 2024-10-20 22:30:29,670] Trial 22 finished with value: 0.9695911477812444 and parameters: {'C': 0.6220021839994289, 'tol': 0.0005053339056831684}. Best is trial 17 with value: 0.9696331529246418.\n",
      "[I 2024-10-20 22:30:33,045] Trial 23 finished with value: 0.969585745820158 and parameters: {'C': 0.5862405714869383, 'tol': 0.0010218247410983417}. Best is trial 17 with value: 0.9696331529246418.\n",
      "[I 2024-10-20 22:30:40,371] Trial 24 finished with value: 0.9696286773461107 and parameters: {'C': 0.18825112994184237, 'tol': 7.041906723146004e-05}. Best is trial 17 with value: 0.9696331529246418.\n",
      "[I 2024-10-20 22:30:41,691] Trial 25 finished with value: 0.9696264391260158 and parameters: {'C': 0.5677225041675928, 'tol': 0.000123787191565555}. Best is trial 17 with value: 0.9696331529246418.\n",
      "[I 2024-10-20 22:30:45,237] Trial 26 finished with value: 0.9696289156420932 and parameters: {'C': 0.3580963081150895, 'tol': 4.7022014976684035e-05}. Best is trial 17 with value: 0.9696331529246418.\n",
      "[I 2024-10-20 22:30:46,118] Trial 27 finished with value: 0.9696204387003329 and parameters: {'C': 0.34599058755273127, 'tol': 0.0002542993334648762}. Best is trial 17 with value: 0.9696331529246418.\n",
      "[I 2024-10-20 22:30:53,583] Trial 30 finished with value: 0.9689960355531658 and parameters: {'C': 0.3550386545949025, 'tol': 0.0020246455049907765}. Best is trial 17 with value: 0.9696331529246418.\n",
      "[I 2024-10-20 22:30:54,824] Trial 31 finished with value: 0.9690709397168902 and parameters: {'C': 0.12432730504910781, 'tol': 0.0017367086075642181}. Best is trial 17 with value: 0.9696331529246418.\n",
      "[I 2024-10-20 22:30:56,972] Trial 28 finished with value: 0.9696281774041413 and parameters: {'C': 0.3420907842358075, 'tol': 4.911635900237203e-05}. Best is trial 17 with value: 0.9696331529246418.\n",
      "[I 2024-10-20 22:30:57,206] Trial 29 finished with value: 0.969627606024982 and parameters: {'C': 0.353221087904142, 'tol': 0.00010455832671266092}. Best is trial 17 with value: 0.9696331529246418.\n",
      "[I 2024-10-20 22:31:03,540] Trial 33 finished with value: 0.9689898213224927 and parameters: {'C': 0.2538431444845307, 'tol': 0.0030892756313414802}. Best is trial 17 with value: 0.9696331529246418.\n",
      "[I 2024-10-20 22:31:03,757] Trial 32 finished with value: 0.969201797072604 and parameters: {'C': 0.27617192082876485, 'tol': 0.0016631779317731288}. Best is trial 17 with value: 0.9696331529246418.\n",
      "[I 2024-10-20 22:31:06,767] Trial 35 finished with value: 0.9689899165594543 and parameters: {'C': 0.26618123730784654, 'tol': 0.003071671180809531}. Best is trial 17 with value: 0.9696331529246418.\n",
      "[I 2024-10-20 22:31:10,379] Trial 34 finished with value: 0.9695873411954974 and parameters: {'C': 0.2817828120697214, 'tol': 0.0011252141130366291}. Best is trial 17 with value: 0.9696331529246418.\n",
      "[I 2024-10-20 22:31:15,677] Trial 36 finished with value: 0.9695859839125616 and parameters: {'C': 0.42849553969101456, 'tol': 0.0011955711944021475}. Best is trial 17 with value: 0.9696331529246418.\n",
      "[I 2024-10-20 22:31:15,920] Trial 37 finished with value: 0.9695846980242063 and parameters: {'C': 0.4967537200995451, 'tol': 0.0010873837514778501}. Best is trial 17 with value: 0.9696331529246418.\n",
      "[I 2024-10-20 22:31:19,107] Trial 38 finished with value: 0.969586245866284 and parameters: {'C': 0.4466711669752318, 'tol': 0.0010386425006223333}. Best is trial 17 with value: 0.9696331529246418.\n",
      "[I 2024-10-20 22:31:23,690] Trial 39 finished with value: 0.9695879337515769 and parameters: {'C': 0.4281707644964901, 'tol': 0.0006730454545354455}. Best is trial 17 with value: 0.9696331529246418.\n",
      "[I 2024-10-20 22:31:24,748] Trial 40 finished with value: 0.9690020121412022 and parameters: {'C': 0.08903942669150942, 'tol': 0.002300334787748209}. Best is trial 17 with value: 0.9696331529246418.\n",
      "[I 2024-10-20 22:31:25,057] Trial 41 finished with value: 0.9690000358558921 and parameters: {'C': 0.11987716480021765, 'tol': 0.0024766684903779423}. Best is trial 17 with value: 0.9696331529246418.\n",
      "[I 2024-10-20 22:31:30,948] Trial 42 finished with value: 0.9696033159790453 and parameters: {'C': 0.08459492416711062, 'tol': 0.0006201425209900303}. Best is trial 17 with value: 0.9696331529246418.\n",
      "[I 2024-10-20 22:31:39,423] Trial 45 finished with value: 0.969627034357025 and parameters: {'C': 0.9993398983674976, 'tol': 7.884638397779568e-05}. Best is trial 17 with value: 0.9696331529246418.\n",
      "[I 2024-10-20 22:31:40,119] Trial 44 finished with value: 0.969629153909669 and parameters: {'C': 0.3747275507930119, 'tol': 3.563672161956177e-05}. Best is trial 17 with value: 0.9696331529246418.\n",
      "[I 2024-10-20 22:31:40,647] Trial 43 finished with value: 0.9696293444119984 and parameters: {'C': 0.9938166173917791, 'tol': 3.630731100562188e-06}. Best is trial 17 with value: 0.9696331529246418.\n",
      "[I 2024-10-20 22:31:44,729] Trial 46 finished with value: 0.9696292724350883 and parameters: {'C': 0.1935950269600404, 'tol': 0.0001655613927612544}. Best is trial 17 with value: 0.9696331529246418.\n",
      "[I 2024-10-20 22:31:50,618] Trial 48 finished with value: 0.9694516761912345 and parameters: {'C': 0.21423325760608974, 'tol': 0.0015664711388891132}. Best is trial 17 with value: 0.9696331529246418.\n",
      "[I 2024-10-20 22:31:51,500] Trial 49 finished with value: 0.9695892460388832 and parameters: {'C': 0.19863954729754046, 'tol': 0.0014895583619370647}. Best is trial 17 with value: 0.9696331529246418.\n",
      "[I 2024-10-20 22:31:54,329] Trial 47 finished with value: 0.9696302489879599 and parameters: {'C': 0.3837780096985473, 'tol': 8.61579847635653e-05}. Best is trial 17 with value: 0.9696331529246418.\n",
      "[I 2024-10-20 22:31:55,180] Trial 50 finished with value: 0.9694479140519278 and parameters: {'C': 0.5381248163155006, 'tol': 0.0015411584483352285}. Best is trial 17 with value: 0.9696331529246418.\n",
      "[I 2024-10-20 22:31:58,200] Trial 51 finished with value: 0.9689815582188632 and parameters: {'C': 0.8943359113885598, 'tol': 0.005604302879933833}. Best is trial 17 with value: 0.9696331529246418.\n",
      "[I 2024-10-20 22:31:58,777] Trial 52 finished with value: 0.9689815582188631 and parameters: {'C': 0.8898506986403087, 'tol': 0.006204240072946101}. Best is trial 17 with value: 0.9696331529246418.\n",
      "[I 2024-10-20 22:32:02,091] Trial 53 finished with value: 0.9689821058124541 and parameters: {'C': 0.5345786806733525, 'tol': 0.005652492961772193}. Best is trial 17 with value: 0.9696331529246418.\n",
      "[I 2024-10-20 22:32:07,307] Trial 54 finished with value: 0.9696021744137926 and parameters: {'C': 0.39815950286926505, 'tol': 0.0007253413707529482}. Best is trial 17 with value: 0.9696331529246418.\n",
      "[I 2024-10-20 22:32:11,064] Trial 55 finished with value: 0.9696048634849813 and parameters: {'C': 0.3916369709627636, 'tol': 0.0005404549549274709}. Best is trial 17 with value: 0.9696331529246418.\n",
      "[I 2024-10-20 22:32:11,597] Trial 56 finished with value: 0.9696051247900923 and parameters: {'C': 0.3113064083788424, 'tol': 0.0005542193373725588}. Best is trial 17 with value: 0.9696331529246418.\n",
      "[I 2024-10-20 22:32:14,891] Trial 57 finished with value: 0.9696011964784794 and parameters: {'C': 0.39184572009935553, 'tol': 0.0004506954751196322}. Best is trial 17 with value: 0.9696331529246418.\n",
      "[I 2024-10-20 22:32:20,778] Trial 58 finished with value: 0.9696011964926825 and parameters: {'C': 0.38551831122003566, 'tol': 0.00045307208636965015}. Best is trial 17 with value: 0.9696331529246418.\n",
      "[I 2024-10-20 22:32:22,644] Trial 61 finished with value: 0.9678992881773327 and parameters: {'C': 0.7303147012051223, 'tol': 0.00968491611424818}. Best is trial 17 with value: 0.9696331529246418.\n",
      "[I 2024-10-20 22:32:24,756] Trial 59 finished with value: 0.9696114601927077 and parameters: {'C': 0.29976358293726685, 'tol': 0.0004011357677358041}. Best is trial 17 with value: 0.9696331529246418.\n",
      "[I 2024-10-20 22:32:25,371] Trial 60 finished with value: 0.9695997440059262 and parameters: {'C': 0.7276790478773548, 'tol': 0.00044815165892863695}. Best is trial 17 with value: 0.9696331529246418.\n",
      "[I 2024-10-20 22:32:30,214] Trial 63 finished with value: 0.9690116552528328 and parameters: {'C': 0.06568830012995755, 'tol': 0.00730045862769883}. Best is trial 17 with value: 0.9696331529246418.\n",
      "[I 2024-10-20 22:32:32,282] Trial 62 finished with value: 0.9695854600903362 and parameters: {'C': 0.6938655333254202, 'tol': 0.0014038164538221056}. Best is trial 17 with value: 0.9696331529246418.\n",
      "[I 2024-10-20 22:32:38,953] Trial 64 finished with value: 0.9696342251784451 and parameters: {'C': 0.061350580313532466, 'tol': 9.318625267987542e-05}. Best is trial 64 with value: 0.9696342251784451.\n",
      "[I 2024-10-20 22:32:41,049] Trial 65 finished with value: 0.969633725302757 and parameters: {'C': 0.06368298871002077, 'tol': 3.3465021110595415e-05}. Best is trial 64 with value: 0.9696342251784451.\n",
      "[I 2024-10-20 22:32:46,797] Trial 66 finished with value: 0.9696297015127289 and parameters: {'C': 0.162380777542044, 'tol': 1.2572428950952016e-05}. Best is trial 64 with value: 0.9696342251784451.\n",
      "[I 2024-10-20 22:32:47,133] Trial 68 finished with value: 0.9690074410646321 and parameters: {'C': 0.05745574096325516, 'tol': 0.001996422655141895}. Best is trial 64 with value: 0.9696342251784451.\n",
      "[I 2024-10-20 22:32:48,918] Trial 67 finished with value: 0.9696298205163213 and parameters: {'C': 0.17288283087572842, 'tol': 1.3813102776663602e-05}. Best is trial 64 with value: 0.9696342251784451.\n",
      "[I 2024-10-20 22:32:49,244] Trial 69 finished with value: 0.9690065600327851 and parameters: {'C': 0.06099303698781977, 'tol': 0.00201424746771078}. Best is trial 64 with value: 0.9696342251784451.\n",
      "[I 2024-10-20 22:32:59,004] Trial 70 finished with value: 0.9696038187190382 and parameters: {'C': 0.053907783778083224, 'tol': 0.0012684230034221368}. Best is trial 64 with value: 0.9696342251784451.\n",
      "[I 2024-10-20 22:32:59,622] Trial 71 finished with value: 0.9695921745991202 and parameters: {'C': 0.16741126754173505, 'tol': 0.00088490633428543}. Best is trial 64 with value: 0.9696342251784451.\n",
      "[I 2024-10-20 22:33:01,178] Trial 72 finished with value: 0.9695928889662844 and parameters: {'C': 0.15844506146416384, 'tol': 0.0008471706019315505}. Best is trial 64 with value: 0.9696342251784451.\n",
      "[I 2024-10-20 22:33:01,453] Trial 73 finished with value: 0.9695930794307388 and parameters: {'C': 0.1587958268703079, 'tol': 0.0008409548138098665}. Best is trial 64 with value: 0.9696342251784451.\n",
      "[I 2024-10-20 22:33:11,131] Trial 74 finished with value: 0.9696037936267787 and parameters: {'C': 0.1554224501151901, 'tol': 0.0007803783969854827}. Best is trial 64 with value: 0.9696342251784451.\n",
      "[I 2024-10-20 22:33:11,485] Trial 75 finished with value: 0.9695893173435101 and parameters: {'C': 0.23542319212419283, 'tol': 0.0008458817946485051}. Best is trial 64 with value: 0.9696342251784451.\n",
      "[I 2024-10-20 22:33:14,771] Trial 76 finished with value: 0.9696364636731344 and parameters: {'C': 0.10674578108558447, 'tol': 0.0002893464282474473}. Best is trial 76 with value: 0.9696364636731344.\n",
      "[I 2024-10-20 22:33:15,060] Trial 77 finished with value: 0.9696358683853127 and parameters: {'C': 0.11500306931888749, 'tol': 0.000302399596736854}. Best is trial 76 with value: 0.9696364636731344.\n",
      "[I 2024-10-20 22:33:25,016] Trial 78 finished with value: 0.9696210334673718 and parameters: {'C': 0.7784807382496827, 'tol': 0.0002900211416364238}. Best is trial 76 with value: 0.9696364636731344.\n",
      "[I 2024-10-20 22:33:25,493] Trial 79 finished with value: 0.9696284631907759 and parameters: {'C': 0.11244814129949711, 'tol': 0.00024225217754426568}. Best is trial 76 with value: 0.9696364636731344.\n",
      "[I 2024-10-20 22:33:28,239] Trial 81 finished with value: 0.9696351059356975 and parameters: {'C': 0.11037160307672335, 'tol': 0.00038906474085252825}. Best is trial 76 with value: 0.9696364636731344.\n",
      "[I 2024-10-20 22:33:28,576] Trial 80 finished with value: 0.9696336775091041 and parameters: {'C': 0.11519010960939595, 'tol': 0.0003407181767611396}. Best is trial 76 with value: 0.9696364636731344.\n",
      "[I 2024-10-20 22:33:34,296] Trial 83 finished with value: 0.9690097274855376 and parameters: {'C': 0.033018216467388395, 'tol': 0.003495870411939777}. Best is trial 76 with value: 0.9696364636731344.\n",
      "[I 2024-10-20 22:33:37,101] Trial 84 finished with value: 0.9691008454200125 and parameters: {'C': 0.0031627496579373984, 'tol': 0.006841203783276322}. Best is trial 76 with value: 0.9696364636731344.\n",
      "[I 2024-10-20 22:33:39,478] Trial 82 finished with value: 0.9696338918112046 and parameters: {'C': 0.1139447535559968, 'tol': 0.00031654403623567536}. Best is trial 76 with value: 0.9696364636731344.\n",
      "[I 2024-10-20 22:33:41,138] Trial 85 finished with value: 0.969595103727484 and parameters: {'C': 0.025714252013487156, 'tol': 0.0012215945197208001}. Best is trial 76 with value: 0.9696364636731344.\n",
      "[I 2024-10-20 22:33:45,922] Trial 86 finished with value: 0.9695974372176808 and parameters: {'C': 0.09339903848711388, 'tol': 0.0013095778275885785}. Best is trial 76 with value: 0.9696364636731344.\n",
      "[I 2024-10-20 22:33:48,174] Trial 87 finished with value: 0.9695966513849203 and parameters: {'C': 0.10442563849616184, 'tol': 0.0011479819196958635}. Best is trial 76 with value: 0.9696364636731344.\n",
      "[I 2024-10-20 22:33:50,875] Trial 88 finished with value: 0.9695970324227197 and parameters: {'C': 0.0971160384764286, 'tol': 0.0012284219085588945}. Best is trial 76 with value: 0.9696364636731344.\n",
      "[I 2024-10-20 22:33:54,370] Trial 89 finished with value: 0.9696336299474357 and parameters: {'C': 0.10178137856973304, 'tol': 0.0003761345713684237}. Best is trial 76 with value: 0.9696364636731344.\n",
      "[I 2024-10-20 22:33:55,520] Trial 91 finished with value: 0.9680785955144522 and parameters: {'C': 0.134595409177819, 'tol': 0.008408685953688566}. Best is trial 76 with value: 0.9696364636731344.\n",
      "[I 2024-10-20 22:34:00,132] Trial 90 finished with value: 0.9696339395101701 and parameters: {'C': 0.13272350491691132, 'tol': 0.00033380587031852076}. Best is trial 76 with value: 0.9696364636731344.\n",
      "[I 2024-10-20 22:34:00,381] Trial 92 finished with value: 0.9690700111233751 and parameters: {'C': 0.1361045480695141, 'tol': 0.0017907775508034024}. Best is trial 76 with value: 0.9696364636731344.\n",
      "[I 2024-10-20 22:34:02,492] Trial 93 finished with value: 0.9689934406726388 and parameters: {'C': 0.11950343670378427, 'tol': 0.004778073676055056}. Best is trial 76 with value: 0.9696364636731344.\n",
      "[I 2024-10-20 22:34:09,265] Trial 94 finished with value: 0.9696202233235256 and parameters: {'C': 0.08185053119248768, 'tol': 0.00028094277188451335}. Best is trial 76 with value: 0.9696364636731344.\n",
      "[I 2024-10-20 22:34:13,233] Trial 96 finished with value: 0.9696344626127686 and parameters: {'C': 0.04506758509805642, 'tol': 0.0003447570133999576}. Best is trial 76 with value: 0.9696364636731344.\n",
      "[I 2024-10-20 22:34:13,242] Trial 95 finished with value: 0.9696287004215207 and parameters: {'C': 0.12861001236112846, 'tol': 0.00031010667362692555}. Best is trial 76 with value: 0.9696364636731344.\n",
      "[I 2024-10-20 22:34:15,293] Trial 97 finished with value: 0.969623842687875 and parameters: {'C': 0.07672420776935429, 'tol': 0.0003099129081051037}. Best is trial 76 with value: 0.9696364636731344.\n",
      "[I 2024-10-20 22:34:20,790] Trial 98 finished with value: 0.9696193899764409 and parameters: {'C': 0.04236464362182618, 'tol': 0.0006132246343287196}. Best is trial 76 with value: 0.9696364636731344.\n",
      "[I 2024-10-20 22:34:25,239] Trial 99 finished with value: 0.9696190804089723 and parameters: {'C': 0.04455385008301471, 'tol': 0.0006081369197702629}. Best is trial 76 with value: 0.9696364636731344.\n",
      "[I 2024-10-20 22:34:25,815] Trial 100 finished with value: 0.9696167468951036 and parameters: {'C': 0.07301335114353101, 'tol': 0.0005476117967120115}. Best is trial 76 with value: 0.9696364636731344.\n",
      "[I 2024-10-20 22:34:27,863] Trial 101 finished with value: 0.9696196041885884 and parameters: {'C': 0.03719821973404011, 'tol': 0.000632672274576586}. Best is trial 76 with value: 0.9696364636731344.\n",
      "[I 2024-10-20 22:34:33,331] Trial 102 finished with value: 0.9695906243377699 and parameters: {'C': 0.22081302902691965, 'tol': 0.0006357792815442874}. Best is trial 76 with value: 0.9696364636731344.\n",
      "[I 2024-10-20 22:34:36,092] Trial 104 finished with value: 0.9696102814814422 and parameters: {'C': 0.0024621269666348505, 'tol': 0.0009898988619642648}. Best is trial 76 with value: 0.9696364636731344.\n",
      "[I 2024-10-20 22:34:36,714] Trial 103 finished with value: 0.9695901957430368 and parameters: {'C': 0.23068800584784616, 'tol': 0.0006483340454050572}. Best is trial 76 with value: 0.9696364636731344.\n",
      "[I 2024-10-20 22:34:38,818] Trial 105 finished with value: 0.9696345102170462 and parameters: {'C': 0.011430452950908353, 'tol': 0.0010221237889118796}. Best is trial 76 with value: 0.9696364636731344.\n",
      "[I 2024-10-20 22:34:44,094] Trial 106 finished with value: 0.9696002579474827 and parameters: {'C': 0.002442192275911567, 'tol': 0.0003100678441295533}. Best is trial 76 with value: 0.9696364636731344.\n",
      "[I 2024-10-20 22:34:49,033] Trial 107 finished with value: 0.9696350110017367 and parameters: {'C': 0.10364503757780127, 'tol': 0.0003045451978971641}. Best is trial 76 with value: 0.9696364636731344.\n",
      "[I 2024-10-20 22:34:49,570] Trial 108 finished with value: 0.9696164130686273 and parameters: {'C': 0.182140886689757, 'tol': 0.0003549247772399221}. Best is trial 76 with value: 0.9696364636731344.\n",
      "[I 2024-10-20 22:34:51,584] Trial 109 finished with value: 0.9696171751158197 and parameters: {'C': 0.18567614532943516, 'tol': 0.0003598080623592039}. Best is trial 76 with value: 0.9696364636731344.\n",
      "[I 2024-10-20 22:34:55,497] Trial 110 finished with value: 0.9695914364605906 and parameters: {'C': 0.18337652302833085, 'tol': 0.0009215260808564116}. Best is trial 76 with value: 0.9696364636731344.\n",
      "[I 2024-10-20 22:35:00,492] Trial 111 finished with value: 0.9695918651736832 and parameters: {'C': 0.1427052886063386, 'tol': 0.001037616043145854}. Best is trial 76 with value: 0.9696364636731344.\n",
      "[I 2024-10-20 22:35:01,140] Trial 112 finished with value: 0.9696195812646786 and parameters: {'C': 0.019852534310699423, 'tol': 0.0010368941260672404}. Best is trial 76 with value: 0.9696364636731344.\n",
      "[I 2024-10-20 22:35:03,061] Trial 113 finished with value: 0.9695941032517463 and parameters: {'C': 0.14121487908833635, 'tol': 0.0008773719386434516}. Best is trial 76 with value: 0.9696364636731344.\n",
      "[I 2024-10-20 22:35:10,035] Trial 114 finished with value: 0.969632487004476 and parameters: {'C': 0.107665943194002, 'tol': 0.00015378677520206136}. Best is trial 76 with value: 0.9696364636731344.\n",
      "[I 2024-10-20 22:35:15,058] Trial 115 finished with value: 0.9696279153699345 and parameters: {'C': 0.10532578980412045, 'tol': 0.00018010100076675117}. Best is trial 76 with value: 0.9696364636731344.\n",
      "[I 2024-10-20 22:35:15,365] Trial 116 finished with value: 0.9696296299382414 and parameters: {'C': 0.10850179879287523, 'tol': 0.00023489134050836135}. Best is trial 76 with value: 0.9696364636731344.\n",
      "[I 2024-10-20 22:35:17,684] Trial 117 finished with value: 0.9696312249537675 and parameters: {'C': 0.1043435686922386, 'tol': 0.00015165200989523004}. Best is trial 76 with value: 0.9696364636731344.\n",
      "[I 2024-10-20 22:35:24,330] Trial 118 finished with value: 0.9696302963933932 and parameters: {'C': 0.068775187440705, 'tol': 0.00018147368086971204}. Best is trial 76 with value: 0.9696364636731344.\n",
      "[I 2024-10-20 22:35:27,612] Trial 119 finished with value: 0.9696221025349315 and parameters: {'C': 0.0679711073052806, 'tol': 0.00046920148833011315}. Best is trial 76 with value: 0.9696364636731344.\n",
      "[I 2024-10-20 22:35:28,224] Trial 120 finished with value: 0.9696214353459498 and parameters: {'C': 0.060322172141727075, 'tol': 0.0004698833706590945}. Best is trial 76 with value: 0.9696364636731344.\n",
      "[I 2024-10-20 22:35:30,408] Trial 121 finished with value: 0.9696195304599545 and parameters: {'C': 0.06453169364390449, 'tol': 0.00047026766664336216}. Best is trial 76 with value: 0.9696364636731344.\n",
      "[I 2024-10-20 22:35:36,745] Trial 122 finished with value: 0.9696293179278286 and parameters: {'C': 0.04870998637288522, 'tol': 0.0004720224177458719}. Best is trial 76 with value: 0.9696364636731344.\n",
      "[I 2024-10-20 22:35:38,982] Trial 123 finished with value: 0.9696185327112248 and parameters: {'C': 0.0508184058188617, 'tol': 0.0007619795247974183}. Best is trial 76 with value: 0.9696364636731344.\n",
      "[I 2024-10-20 22:35:39,691] Trial 124 finished with value: 0.9696217945913583 and parameters: {'C': 0.029290206881294148, 'tol': 0.0007592579518321652}. Best is trial 76 with value: 0.9696364636731344.\n",
      "[I 2024-10-20 22:35:41,589] Trial 125 finished with value: 0.9696224853339233 and parameters: {'C': 0.02656691499020579, 'tol': 0.0007576005564466739}. Best is trial 76 with value: 0.9696364636731344.\n",
      "[I 2024-10-20 22:35:46,985] Trial 128 finished with value: 0.9690094169995973 and parameters: {'C': 0.08618669594202066, 'tol': 0.007668345716342371}. Best is trial 76 with value: 0.9696364636731344.\n",
      "[I 2024-10-20 22:35:47,978] Trial 126 finished with value: 0.9696237950551909 and parameters: {'C': 0.024281908010293562, 'tol': 0.0007320609271443928}. Best is trial 76 with value: 0.9696364636731344.\n",
      "[I 2024-10-20 22:35:54,741] Trial 127 finished with value: 0.9696418679161962 and parameters: {'C': 0.02291839644597171, 'tol': 1.5777816431375652e-05}. Best is trial 127 with value: 0.9696418679161962.\n",
      "[I 2024-10-20 22:35:56,686] Trial 129 finished with value: 0.969632773136721 and parameters: {'C': 0.09100869565820001, 'tol': 3.650255671425537e-05}. Best is trial 127 with value: 0.9696418679161962.\n",
      "[I 2024-10-20 22:36:00,860] Trial 130 finished with value: 0.9696290106802102 and parameters: {'C': 0.12096443372403105, 'tol': 7.832233384299201e-05}. Best is trial 127 with value: 0.9696418679161962.\n",
      "[I 2024-10-20 22:36:03,664] Trial 131 finished with value: 0.9696313922055142 and parameters: {'C': 0.12085537096780205, 'tol': 2.9795578252070625e-05}. Best is trial 127 with value: 0.9696418679161962.\n",
      "[I 2024-10-20 22:36:07,485] Trial 133 finished with value: 0.9695944847061719 and parameters: {'C': 0.13145607423377598, 'tol': 0.0014880516797179844}. Best is trial 127 with value: 0.9696418679161962.\n",
      "[I 2024-10-20 22:36:10,652] Trial 132 finished with value: 0.969631368287383 and parameters: {'C': 0.08620255822919853, 'tol': 3.125788847487595e-05}. Best is trial 127 with value: 0.9696418679161962.\n",
      "[I 2024-10-20 22:36:15,975] Trial 135 finished with value: 0.9696250571532434 and parameters: {'C': 0.07391868948907854, 'tol': 0.00033527031779611633}. Best is trial 127 with value: 0.9696418679161962.\n",
      "[I 2024-10-20 22:36:17,499] Trial 134 finished with value: 0.9696315349283935 and parameters: {'C': 0.08420468831227362, 'tol': 1.074300013537339e-05}. Best is trial 127 with value: 0.9696418679161962.\n",
      "[I 2024-10-20 22:36:19,511] Trial 136 finished with value: 0.9696317243418132 and parameters: {'C': 0.08056268383948254, 'tol': 0.00037440922811516903}. Best is trial 127 with value: 0.9696418679161962.\n",
      "[I 2024-10-20 22:36:23,457] Trial 137 finished with value: 0.9696347008803446 and parameters: {'C': 0.04256188239697848, 'tol': 0.0003453291413594807}. Best is trial 127 with value: 0.9696418679161962.\n",
      "[I 2024-10-20 22:36:28,159] Trial 138 finished with value: 0.9696173897824684 and parameters: {'C': 0.044293989217827824, 'tol': 0.0004948864480429075}. Best is trial 127 with value: 0.9696418679161962.\n",
      "[I 2024-10-20 22:36:30,120] Trial 139 finished with value: 0.9696285566665448 and parameters: {'C': 0.041567725821200815, 'tol': 0.00039818321812779163}. Best is trial 127 with value: 0.9696418679161962.\n",
      "[I 2024-10-20 22:36:31,308] Trial 140 finished with value: 0.969636750288287 and parameters: {'C': 0.03887313992636302, 'tol': 0.0005374296001187278}. Best is trial 127 with value: 0.9696418679161962.\n",
      "[I 2024-10-20 22:36:36,153] Trial 141 finished with value: 0.9695963390241624 and parameters: {'C': 0.14935308178403892, 'tol': 0.0005839941667206311}. Best is trial 127 with value: 0.9696418679161962.\n",
      "[I 2024-10-20 22:36:40,504] Trial 144 finished with value: 0.9687655459242809 and parameters: {'C': 0.0004811414385521573, 'tol': 0.0006080573220468566}. Best is trial 127 with value: 0.9696418679161962.\n",
      "[I 2024-10-20 22:36:40,511] Trial 142 finished with value: 0.9696250099892639 and parameters: {'C': 0.016242699630121392, 'tol': 0.0006499200087228844}. Best is trial 127 with value: 0.9696418679161962.\n",
      "[I 2024-10-20 22:36:42,263] Trial 143 finished with value: 0.9695917223182411 and parameters: {'C': 0.14899315284197306, 'tol': 0.001025819014660799}. Best is trial 127 with value: 0.9696418679161962.\n",
      "[I 2024-10-20 22:36:47,358] Trial 145 finished with value: 0.9696387712188818 and parameters: {'C': 0.007929795011006019, 'tol': 0.0009105137020467201}. Best is trial 127 with value: 0.9696418679161962.\n",
      "[I 2024-10-20 22:36:51,297] Trial 146 finished with value: 0.9696050089585404 and parameters: {'C': 0.055720682919220395, 'tol': 0.0010483201829161342}. Best is trial 127 with value: 0.9696418679161962.\n",
      "[I 2024-10-20 22:36:51,489] Trial 147 finished with value: 0.9696046994478845 and parameters: {'C': 0.05553247158521174, 'tol': 0.000969124271541504}. Best is trial 127 with value: 0.9696418679161962.\n",
      "[I 2024-10-20 22:36:55,325] Trial 148 finished with value: 0.9696328919272659 and parameters: {'C': 0.056245828528656235, 'tol': 0.0002503845553424881}. Best is trial 127 with value: 0.9696418679161962.\n",
      "[I 2024-10-20 22:36:59,032] Trial 149 finished with value: 0.9696193906155836 and parameters: {'C': 0.02115769742911303, 'tol': 0.0009085429242850572}. Best is trial 127 with value: 0.9696418679161962.\n",
      "[I 2024-10-20 22:37:03,004] Trial 150 finished with value: 0.9696320344253302 and parameters: {'C': 0.014743929326847871, 'tol': 0.0013526932296737296}. Best is trial 127 with value: 0.9696418679161962.\n",
      "[I 2024-10-20 22:37:03,226] Trial 151 finished with value: 0.969601795113514 and parameters: {'C': 0.028413508776792204, 'tol': 0.001340429493317486}. Best is trial 127 with value: 0.9696418679161962.\n",
      "[I 2024-10-20 22:37:03,725] Trial 152 finished with value: 0.9690313951820244 and parameters: {'C': 0.016405913079217103, 'tol': 0.00378697640788988}. Best is trial 127 with value: 0.9696418679161962.\n",
      "[I 2024-10-20 22:37:10,624] Trial 153 finished with value: 0.9696372258907644 and parameters: {'C': 0.014407657946714864, 'tol': 0.0013171800416207035}. Best is trial 127 with value: 0.9696418679161962.\n",
      "[I 2024-10-20 22:37:16,294] Trial 155 finished with value: 0.9696247482580581 and parameters: {'C': 0.11606790818901101, 'tol': 0.00026981820187253205}. Best is trial 127 with value: 0.9696418679161962.\n",
      "[I 2024-10-20 22:37:16,304] Trial 154 finished with value: 0.9696296777082226 and parameters: {'C': 0.09998894008684665, 'tol': 0.00026307409407610484}. Best is trial 127 with value: 0.9696418679161962.\n",
      "[I 2024-10-20 22:37:17,069] Trial 156 finished with value: 0.969629630113414 and parameters: {'C': 0.099693913351265, 'tol': 0.00027659688136099503}. Best is trial 127 with value: 0.9696418679161962.\n",
      "[I 2024-10-20 22:37:24,023] Trial 157 finished with value: 0.9696340343541774 and parameters: {'C': 0.04180030088701325, 'tol': 0.00026755367874187793}. Best is trial 127 with value: 0.9696418679161962.\n",
      "[I 2024-10-20 22:37:27,138] Trial 158 finished with value: 0.9695433687952691 and parameters: {'C': 0.0018460738126173815, 'tol': 0.0008074501578100138}. Best is trial 127 with value: 0.9696418679161962.\n",
      "[I 2024-10-20 22:37:28,535] Trial 159 finished with value: 0.9696214613235401 and parameters: {'C': 0.03412477174178319, 'tol': 0.0007882315046034851}. Best is trial 127 with value: 0.9696418679161962.\n",
      "[I 2024-10-20 22:37:29,317] Trial 160 finished with value: 0.9696181994954852 and parameters: {'C': 0.04109186512839068, 'tol': 0.0008497507256187874}. Best is trial 127 with value: 0.9696418679161962.\n",
      "[I 2024-10-20 22:37:36,692] Trial 161 finished with value: 0.9696212469788298 and parameters: {'C': 0.03810634430296042, 'tol': 0.0007720655068203108}. Best is trial 127 with value: 0.9696418679161962.\n",
      "[I 2024-10-20 22:37:40,018] Trial 162 finished with value: 0.9696436319020518 and parameters: {'C': 0.0320488476014994, 'tol': 0.0005782090990773614}. Best is trial 162 with value: 0.9696436319020518.\n",
      "[I 2024-10-20 22:37:41,623] Trial 163 finished with value: 0.9696262721772699 and parameters: {'C': 0.040796512297808785, 'tol': 0.0005412702783643702}. Best is trial 162 with value: 0.9696436319020518.\n",
      "[I 2024-10-20 22:37:42,387] Trial 164 finished with value: 0.9696181040502105 and parameters: {'C': 0.06851988230559519, 'tol': 0.0005411793284222986}. Best is trial 162 with value: 0.9696436319020518.\n",
      "[I 2024-10-20 22:37:49,138] Trial 165 finished with value: 0.9696095548474768 and parameters: {'C': 0.0654822357923073, 'tol': 0.0005246219018910701}. Best is trial 162 with value: 0.9696436319020518.\n",
      "[I 2024-10-20 22:37:52,030] Trial 168 finished with value: 0.9687929301583061 and parameters: {'C': 0.0004974679469609486, 'tol': 2.4452704028539787e-05}. Best is trial 162 with value: 0.9696436319020518.\n",
      "[I 2024-10-20 22:37:52,289] Trial 166 finished with value: 0.9696168897458112 and parameters: {'C': 0.0737227579061365, 'tol': 0.0005519049488999852}. Best is trial 162 with value: 0.9696436319020518.\n",
      "[I 2024-10-20 22:37:59,331] Trial 167 finished with value: 0.9696319158999114 and parameters: {'C': 0.0786723999538598, 'tol': 1.0074332731463257e-05}. Best is trial 162 with value: 0.9696436319020518.\n",
      "[I 2024-10-20 22:37:59,598] Trial 169 finished with value: 0.9694591460480512 and parameters: {'C': 0.0014356014116535948, 'tol': 0.0011328578258852351}. Best is trial 162 with value: 0.9696436319020518.\n",
      "[I 2024-10-20 22:38:04,307] Trial 171 finished with value: 0.9696183433072738 and parameters: {'C': 0.02165080337033381, 'tol': 0.0012097873002202412}. Best is trial 162 with value: 0.9696436319020518.\n",
      "[I 2024-10-20 22:38:06,569] Trial 170 finished with value: 0.969623319045556 and parameters: {'C': 0.08342356561576102, 'tol': 0.00022147618061016682}. Best is trial 162 with value: 0.9696436319020518.\n",
      "[I 2024-10-20 22:38:06,603] Trial 173 finished with value: 0.9678963355664015 and parameters: {'C': 0.027451363804234713, 'tol': 0.008953151836288822}. Best is trial 162 with value: 0.9696436319020518.\n",
      "[I 2024-10-20 22:38:12,286] Trial 172 finished with value: 0.9696372959502473 and parameters: {'C': 0.02054459872864859, 'tol': 0.00027774896581943536}. Best is trial 162 with value: 0.9696436319020518.\n",
      "[I 2024-10-20 22:38:17,105] Trial 174 finished with value: 0.9696337491309348 and parameters: {'C': 0.05359568817163974, 'tol': 0.0002110260382645939}. Best is trial 162 with value: 0.9696436319020518.\n",
      "[I 2024-10-20 22:38:18,285] Trial 175 finished with value: 0.969632985308347 and parameters: {'C': 0.04961301404169255, 'tol': 0.0003972967451199622}. Best is trial 162 with value: 0.9696436319020518.\n",
      "[I 2024-10-20 22:38:18,556] Trial 176 finished with value: 0.9696348440245846 and parameters: {'C': 0.1267512576843171, 'tol': 0.0004112719764523304}. Best is trial 162 with value: 0.9696436319020518.\n",
      "[I 2024-10-20 22:38:25,521] Trial 177 finished with value: 0.9696312966608176 and parameters: {'C': 0.051159169431330594, 'tol': 0.00023087478564391738}. Best is trial 162 with value: 0.9696436319020518.\n",
      "[I 2024-10-20 22:38:30,095] Trial 180 finished with value: 0.9696000063147275 and parameters: {'C': 0.13176120844759215, 'tol': 0.0006769254593205765}. Best is trial 162 with value: 0.9696436319020518.\n",
      "[I 2024-10-20 22:38:30,389] Trial 178 finished with value: 0.9696334152713181 and parameters: {'C': 0.041346869550370216, 'tol': 0.00021794919154807005}. Best is trial 162 with value: 0.9696436319020518.\n",
      "[I 2024-10-20 22:38:32,247] Trial 179 finished with value: 0.9696376058680606 and parameters: {'C': 0.0459311942517155, 'tol': 0.0001821880830524542}. Best is trial 162 with value: 0.9696436319020518.\n",
      "[I 2024-10-20 22:38:37,573] Trial 181 finished with value: 0.9696003158443212 and parameters: {'C': 0.12448716529145726, 'tol': 0.0006840711649632233}. Best is trial 162 with value: 0.9696436319020518.\n",
      "[I 2024-10-20 22:38:38,144] Trial 182 finished with value: 0.9690233947233379 and parameters: {'C': 0.021006145258937695, 'tol': 0.002921703785419634}. Best is trial 162 with value: 0.9696436319020518.\n",
      "[I 2024-10-20 22:38:43,140] Trial 183 finished with value: 0.9696406520210422 and parameters: {'C': 0.014478649566977985, 'tol': 0.00040567314471773503}. Best is trial 162 with value: 0.9696436319020518.\n",
      "[I 2024-10-20 22:38:45,249] Trial 184 finished with value: 0.9696417716992162 and parameters: {'C': 0.018087426449235555, 'tol': 0.00042841869012871553}. Best is trial 162 with value: 0.9696436319020518.\n",
      "[I 2024-10-20 22:38:50,632] Trial 185 finished with value: 0.9696407717726678 and parameters: {'C': 0.02007116043270952, 'tol': 0.0004369706442285338}. Best is trial 162 with value: 0.9696436319020518.\n",
      "[I 2024-10-20 22:38:51,083] Trial 186 finished with value: 0.9696347959421339 and parameters: {'C': 0.08949573186181185, 'tol': 0.00042037460390884854}. Best is trial 162 with value: 0.9696436319020518.\n",
      "[I 2024-10-20 22:38:53,385] Trial 188 finished with value: 0.9690205595915259 and parameters: {'C': 0.014995126925950859, 'tol': 0.005254365657628721}. Best is trial 162 with value: 0.9696436319020518.\n",
      "[I 2024-10-20 22:38:56,772] Trial 187 finished with value: 0.9696399648340028 and parameters: {'C': 0.028598252495582527, 'tol': 0.0004366376822550141}. Best is trial 162 with value: 0.9696436319020518.\n",
      "[I 2024-10-20 22:38:59,437] Trial 189 finished with value: 0.9684613499272581 and parameters: {'C': 0.00033889394865431813, 'tol': 0.0005268596052247115}. Best is trial 162 with value: 0.9696436319020518.\n",
      "[I 2024-10-20 22:39:02,082] Trial 190 finished with value: 0.9694410950267806 and parameters: {'C': 0.0013380907165987197, 'tol': 0.00046125463856763445}. Best is trial 162 with value: 0.9696436319020518.\n",
      "[I 2024-10-20 22:39:05,480] Trial 191 finished with value: 0.9696418924166572 and parameters: {'C': 0.00948201434220081, 'tol': 0.000553617655912474}. Best is trial 162 with value: 0.9696436319020518.\n",
      "[I 2024-10-20 22:39:09,008] Trial 192 finished with value: 0.9696312256781289 and parameters: {'C': 0.014867804618608307, 'tol': 0.0005409844978917835}. Best is trial 162 with value: 0.9696436319020518.\n",
      "[I 2024-10-20 22:39:11,027] Trial 193 finished with value: 0.9696191288370336 and parameters: {'C': 0.020047165168415593, 'tol': 0.0009925473200535833}. Best is trial 162 with value: 0.9696436319020518.\n",
      "[I 2024-10-20 22:39:13,448] Trial 194 finished with value: 0.9696194619296792 and parameters: {'C': 0.021899549958749463, 'tol': 0.0008967278354399827}. Best is trial 162 with value: 0.9696436319020518.\n",
      "[I 2024-10-20 22:39:16,921] Trial 195 finished with value: 0.9696221041020143 and parameters: {'C': 0.02961717404233234, 'tol': 0.0006988729399639573}. Best is trial 162 with value: 0.9696436319020518.\n",
      "[I 2024-10-20 22:39:20,025] Trial 196 finished with value: 0.9696175337504916 and parameters: {'C': 0.028915286425905618, 'tol': 0.0009172838293302}. Best is trial 162 with value: 0.9696436319020518.\n",
      "[I 2024-10-20 22:39:22,240] Trial 197 finished with value: 0.9696268429030838 and parameters: {'C': 0.02237290467299143, 'tol': 0.0007401888102068945}. Best is trial 162 with value: 0.9696436319020518.\n",
      "[I 2024-10-20 22:39:25,451] Trial 198 finished with value: 0.9696016268012642 and parameters: {'C': 0.4714187228631835, 'tol': 0.000718866300416449}. Best is trial 162 with value: 0.9696436319020518.\n",
      "[I 2024-10-20 22:39:29,951] Trial 199 finished with value: 0.9695997439964572 and parameters: {'C': 0.6483543878476612, 'tol': 0.00042755643443426693}. Best is trial 162 with value: 0.9696436319020518.\n",
      "[I 2024-10-20 22:39:32,389] Trial 200 finished with value: 0.9696177944069916 and parameters: {'C': 0.0634101111454418, 'tol': 0.0006984291160111017}. Best is trial 162 with value: 0.9696436319020518.\n",
      "[I 2024-10-20 22:39:35,805] Trial 201 finished with value: 0.9695991963602569 and parameters: {'C': 0.95163477486095, 'tol': 0.0004224577762747888}. Best is trial 162 with value: 0.9696436319020518.\n",
      "[I 2024-10-20 22:39:38,611] Trial 202 finished with value: 0.9696213883192677 and parameters: {'C': 0.06437397075134199, 'tol': 0.0004273848198250181}. Best is trial 162 with value: 0.9696436319020518.\n",
      "[I 2024-10-20 22:39:43,248] Trial 203 finished with value: 0.9696191019977844 and parameters: {'C': 0.06116929420399751, 'tol': 0.0004497365657084048}. Best is trial 162 with value: 0.9696436319020518.\n",
      "[I 2024-10-20 22:39:45,201] Trial 204 finished with value: 0.9696281753825573 and parameters: {'C': 0.04582888184526687, 'tol': 0.00041970026631849136}. Best is trial 162 with value: 0.9696436319020518.\n",
      "[I 2024-10-20 22:39:49,605] Trial 205 finished with value: 0.9696364867864196 and parameters: {'C': 0.04366504625228959, 'tol': 0.00016467698008252557}. Best is trial 162 with value: 0.9696436319020518.\n",
      "[I 2024-10-20 22:39:51,711] Trial 206 finished with value: 0.9696327723602813 and parameters: {'C': 0.04110750487050839, 'tol': 0.00019835330223173678}. Best is trial 162 with value: 0.9696436319020518.\n",
      "[I 2024-10-20 22:39:55,903] Trial 207 finished with value: 0.9696327008615443 and parameters: {'C': 0.04071060206865066, 'tol': 0.00019001994846996613}. Best is trial 162 with value: 0.9696436319020518.\n",
      "[I 2024-10-20 22:39:59,131] Trial 209 finished with value: 0.9692123074626824 and parameters: {'C': 0.0008513808755012189, 'tol': 0.00014946063903846212}. Best is trial 162 with value: 0.9696436319020518.\n",
      "[I 2024-10-20 22:40:02,222] Trial 208 finished with value: 0.9696316301464174 and parameters: {'C': 0.08533694590000959, 'tol': 3.4892730055752895e-06}. Best is trial 162 with value: 0.9696436319020518.\n",
      "[I 2024-10-20 22:40:07,118] Trial 211 finished with value: 0.9695149849140245 and parameters: {'C': 0.0016795160897877075, 'tol': 3.0466994056904326e-05}. Best is trial 162 with value: 0.9696436319020518.\n",
      "[I 2024-10-20 22:40:07,590] Trial 210 finished with value: 0.9696307015197615 and parameters: {'C': 0.08735176386340646, 'tol': 1.7026966740483357e-05}. Best is trial 162 with value: 0.9696436319020518.\n",
      "[I 2024-10-20 22:40:13,860] Trial 213 finished with value: 0.9696025302030973 and parameters: {'C': 0.09016335433944822, 'tol': 0.0006183243130448693}. Best is trial 162 with value: 0.9696436319020518.\n",
      "[I 2024-10-20 22:40:14,943] Trial 212 finished with value: 0.9696313682873828 and parameters: {'C': 0.08649376389839264, 'tol': 3.1936252114202874e-05}. Best is trial 162 with value: 0.9696436319020518.\n",
      "[I 2024-10-20 22:40:18,658] Trial 214 finished with value: 0.9696217468308458 and parameters: {'C': 0.03138463808941348, 'tol': 0.000600368703937602}. Best is trial 162 with value: 0.9696436319020518.\n",
      "[I 2024-10-20 22:40:20,863] Trial 215 finished with value: 0.9696301059431421 and parameters: {'C': 0.032204077563321096, 'tol': 0.00036336804145991925}. Best is trial 162 with value: 0.9696436319020518.\n",
      "[I 2024-10-20 22:40:26,492] Trial 216 finished with value: 0.9696303916492923 and parameters: {'C': 0.03250902915914354, 'tol': 0.0003521673626854944}. Best is trial 162 with value: 0.9696436319020518.\n",
      "[I 2024-10-20 22:40:28,012] Trial 217 finished with value: 0.9696340100336229 and parameters: {'C': 0.03543361148661113, 'tol': 0.0002699930812472731}. Best is trial 162 with value: 0.9696436319020518.\n",
      "[I 2024-10-20 22:40:31,546] Trial 218 finished with value: 0.969637272311445 and parameters: {'C': 0.022486226528869856, 'tol': 0.00035374339236287315}. Best is trial 162 with value: 0.9696436319020518.\n",
      "[I 2024-10-20 22:40:33,776] Trial 219 finished with value: 0.969639367609816 and parameters: {'C': 0.053800992269495335, 'tol': 0.0003022500382939356}. Best is trial 162 with value: 0.9696436319020518.\n",
      "[I 2024-10-20 22:40:39,483] Trial 221 finished with value: 0.9696047707619802 and parameters: {'C': 0.05861518603415887, 'tol': 0.0008836504230666432}. Best is trial 162 with value: 0.9696436319020518.\n",
      "[I 2024-10-20 22:40:40,338] Trial 220 finished with value: 0.9696297485536141 and parameters: {'C': 0.05910179053868688, 'tol': 0.00025484932944708796}. Best is trial 162 with value: 0.9696436319020518.\n",
      "[I 2024-10-20 22:40:42,746] Trial 222 finished with value: 0.9696319622969197 and parameters: {'C': 0.013128094717583054, 'tol': 0.0009203293816438}. Best is trial 162 with value: 0.9696436319020518.\n",
      "[I 2024-10-20 22:40:45,863] Trial 223 finished with value: 0.9696182468772463 and parameters: {'C': 0.06364415767946227, 'tol': 0.0005510061936364239}. Best is trial 162 with value: 0.9696436319020518.\n",
      "[I 2024-10-20 22:40:50,763] Trial 224 finished with value: 0.9696394640540469 and parameters: {'C': 0.017786767092477992, 'tol': 0.0005816568915429641}. Best is trial 162 with value: 0.9696436319020518.\n",
      "[I 2024-10-20 22:40:51,708] Trial 225 finished with value: 0.9696218667150346 and parameters: {'C': 0.016704695397745377, 'tol': 0.0005513535630279801}. Best is trial 162 with value: 0.9696436319020518.\n",
      "[I 2024-10-20 22:40:54,243] Trial 226 finished with value: 0.9696410591926667 and parameters: {'C': 0.01721686257983499, 'tol': 0.0005568641702963098}. Best is trial 162 with value: 0.9696436319020518.\n",
      "[I 2024-10-20 22:40:57,949] Trial 227 finished with value: 0.9696346304657826 and parameters: {'C': 0.01910479187214858, 'tol': 0.0005703576748278521}. Best is trial 162 with value: 0.9696436319020518.\n",
      "[I 2024-10-20 22:41:03,652] Trial 228 finished with value: 0.9696395582447084 and parameters: {'C': 0.016540192964413555, 'tol': 0.0005272579369758407}. Best is trial 162 with value: 0.9696436319020518.\n",
      "[I 2024-10-20 22:41:05,035] Trial 230 finished with value: 0.9693968519520864 and parameters: {'C': 0.0011938531919641338, 'tol': 0.0006422667611199871}. Best is trial 162 with value: 0.9696436319020518.\n",
      "[I 2024-10-20 22:41:05,433] Trial 229 finished with value: 0.969642081290357 and parameters: {'C': 0.018141334652353645, 'tol': 0.0003796646111166288}. Best is trial 162 with value: 0.9696436319020518.\n",
      "[I 2024-10-20 22:41:10,076] Trial 231 finished with value: 0.9696261051575084 and parameters: {'C': 0.01643711520325122, 'tol': 0.0007277472039089986}. Best is trial 162 with value: 0.9696436319020518.\n",
      "[I 2024-10-20 22:41:13,792] Trial 234 finished with value: 0.9690331328210074 and parameters: {'C': 0.01918322462601462, 'tol': 0.0023598071926591714}. Best is trial 162 with value: 0.9696436319020518.\n",
      "[I 2024-10-20 22:41:15,184] Trial 232 finished with value: 0.9696316525826851 and parameters: {'C': 0.015560237302484823, 'tol': 0.0007799539258587312}. Best is trial 162 with value: 0.9696436319020518.\n",
      "[I 2024-10-20 22:41:18,258] Trial 233 finished with value: 0.969637248142391 and parameters: {'C': 0.018239535398479348, 'tol': 0.00020748566896975143}. Best is trial 162 with value: 0.9696436319020518.\n",
      "[I 2024-10-20 22:41:23,262] Trial 235 finished with value: 0.9696378912712097 and parameters: {'C': 0.03381845030742536, 'tol': 0.00017504567576542284}. Best is trial 162 with value: 0.9696436319020518.\n",
      "[I 2024-10-20 22:41:27,425] Trial 236 finished with value: 0.9696344626790498 and parameters: {'C': 0.038739496765657966, 'tol': 0.00018964784518496312}. Best is trial 162 with value: 0.9696436319020518.\n",
      "[I 2024-10-20 22:41:29,119] Trial 237 finished with value: 0.9696356056172754 and parameters: {'C': 0.04126101573593868, 'tol': 0.0001764944624492218}. Best is trial 162 with value: 0.9696436319020518.\n",
      "[I 2024-10-20 22:41:31,924] Trial 238 finished with value: 0.9696355578804349 and parameters: {'C': 0.03414400932645752, 'tol': 0.00019533150402388025}. Best is trial 162 with value: 0.9696436319020518.\n",
      "[I 2024-10-20 22:41:32,323] Trial 239 finished with value: 0.9682514239070278 and parameters: {'C': 0.0002732382878561975, 'tol': 0.00016324346636770198}. Best is trial 162 with value: 0.9696436319020518.\n",
      "[I 2024-10-20 22:41:38,884] Trial 240 finished with value: 0.9696061875041024 and parameters: {'C': 0.002541077272356928, 'tol': 0.00019889007343281404}. Best is trial 162 with value: 0.9696436319020518.\n",
      "[I 2024-10-20 22:41:39,798] Trial 241 finished with value: 0.969513865704555 and parameters: {'C': 0.0016610178559931209, 'tol': 0.0001706815094902292}. Best is trial 162 with value: 0.9696436319020518.\n",
      "[I 2024-10-20 22:41:42,484] Trial 242 finished with value: 0.9693880652724193 and parameters: {'C': 0.0011671594737253169, 'tol': 0.00016415343253799538}. Best is trial 162 with value: 0.9696436319020518.\n",
      "[I 2024-10-20 22:41:44,997] Trial 243 finished with value: 0.9696287465107941 and parameters: {'C': 0.04769575130244528, 'tol': 0.000409506463343495}. Best is trial 162 with value: 0.9696436319020518.\n",
      "[I 2024-10-20 22:41:52,778] Trial 244 finished with value: 0.969635272089066 and parameters: {'C': 0.03632562278175737, 'tol': 0.00026706109207004817}. Best is trial 162 with value: 0.9696436319020518.\n",
      "[I 2024-10-20 22:41:53,101] Trial 245 finished with value: 0.9696220329394187 and parameters: {'C': 0.03641639421091053, 'tol': 0.00042004434519643747}. Best is trial 162 with value: 0.9696436319020518.\n",
      "[I 2024-10-20 22:41:55,208] Trial 246 finished with value: 0.9696224377201771 and parameters: {'C': 0.03477321940308743, 'tol': 0.0004242454188344064}. Best is trial 162 with value: 0.9696436319020518.\n",
      "[I 2024-10-20 22:41:56,760] Trial 247 finished with value: 0.9696232472722247 and parameters: {'C': 0.03230581367061048, 'tol': 0.0004791155091172307}. Best is trial 162 with value: 0.9696436319020518.\n",
      "[I 2024-10-20 22:42:00,686] Trial 248 finished with value: 0.9696442747752136 and parameters: {'C': 0.03055709608598595, 'tol': 0.000546210095506421}. Best is trial 248 with value: 0.9696442747752136.\n",
      "[I 2024-10-20 22:42:00,885] Trial 249 finished with value: 0.9696361304621289 and parameters: {'C': 0.029680982128635142, 'tol': 0.0005967490497488403}. Best is trial 248 with value: 0.9696442747752136.\n"
     ]
    }
   ],
   "source": [
    "def objective(trial):    \n",
    "    params = {\n",
    "        'random_state': CFG.seed,\n",
    "        'max_iter': 500,\n",
    "        'C': trial.suggest_float('C', 0, 1),\n",
    "        'tol': trial.suggest_float('tol', 1e-6, 1e-2)\n",
    "    }\n",
    "    \n",
    "    model = LogisticRegression(**params)\n",
    "    trainer = Trainer(model)\n",
    "    return trainer.fit(X, y)\n",
    "\n",
    "sampler = optuna.samplers.TPESampler(seed=CFG.seed)\n",
    "study = optuna.create_study(direction='maximize', sampler=sampler)\n",
    "study.optimize(objective, n_trials=250, n_jobs=-1)\n",
    "best_params = study.best_params"
   ]
  },
  {
   "cell_type": "code",
   "execution_count": 24,
   "id": "ea344cb2",
   "metadata": {
    "execution": {
     "iopub.execute_input": "2024-10-20T22:42:00.962020Z",
     "iopub.status.busy": "2024-10-20T22:42:00.961609Z",
     "iopub.status.idle": "2024-10-20T22:42:00.967552Z",
     "shell.execute_reply": "2024-10-20T22:42:00.966525Z"
    },
    "papermill": {
     "duration": 0.042787,
     "end_time": "2024-10-20T22:42:00.969550",
     "exception": false,
     "start_time": "2024-10-20T22:42:00.926763",
     "status": "completed"
    },
    "tags": []
   },
   "outputs": [
    {
     "name": "stdout",
     "output_type": "stream",
     "text": [
      "{\n",
      "  \"random_state\": 42,\n",
      "  \"max_iter\": 500,\n",
      "  \"C\": 0.03055709608598595,\n",
      "  \"tol\": 0.000546210095506421\n",
      "}\n"
     ]
    }
   ],
   "source": [
    "lr_params = {\n",
    "    'random_state': CFG.seed,\n",
    "    'max_iter': 500,\n",
    "    'C': best_params['C'],\n",
    "    'tol': best_params['tol']\n",
    "}\n",
    "print(json.dumps(lr_params, indent=2))"
   ]
  },
  {
   "cell_type": "code",
   "execution_count": 25,
   "id": "24bdd1c0",
   "metadata": {
    "execution": {
     "iopub.execute_input": "2024-10-20T22:42:01.039335Z",
     "iopub.status.busy": "2024-10-20T22:42:01.038879Z",
     "iopub.status.idle": "2024-10-20T22:42:04.387446Z",
     "shell.execute_reply": "2024-10-20T22:42:04.386044Z"
    },
    "papermill": {
     "duration": 3.386029,
     "end_time": "2024-10-20T22:42:04.389952",
     "exception": false,
     "start_time": "2024-10-20T22:42:01.003923",
     "status": "completed"
    },
    "tags": []
   },
   "outputs": [
    {
     "name": "stdout",
     "output_type": "stream",
     "text": [
      "Training LogisticRegression\n",
      "\n",
      "--- Fold 1 - AUC: 0.966762 (22 iterations)\n",
      "--- Fold 2 - AUC: 0.963309 (22 iterations)\n",
      "--- Fold 3 - AUC: 0.974579 (23 iterations)\n",
      "--- Fold 4 - AUC: 0.972442 (23 iterations)\n",
      "--- Fold 5 - AUC: 0.969814 (26 iterations)\n",
      "--- Fold 6 - AUC: 0.969443 (27 iterations)\n",
      "--- Fold 7 - AUC: 0.970146 (24 iterations)\n",
      "--- Fold 8 - AUC: 0.972971 (29 iterations)\n",
      "--- Fold 9 - AUC: 0.969711 (23 iterations)\n",
      "--- Fold 10 - AUC: 0.967265 (23 iterations)\n",
      "\n",
      "------ Overall: 0.969597 | Average: 0.969644 ± 0.003125\n"
     ]
    }
   ],
   "source": [
    "lr_model = LogisticRegression(**lr_params)\n",
    "lr_trainer = Trainer(lr_model, is_ensemble_model=True)\n",
    "scores['Ensemble (LR)'], coeffs = lr_trainer.fit_predict(X, y, X_test)"
   ]
  },
  {
   "cell_type": "markdown",
   "id": "418a4201",
   "metadata": {
    "papermill": {
     "duration": 0.033155,
     "end_time": "2024-10-20T22:42:04.457184",
     "exception": false,
     "start_time": "2024-10-20T22:42:04.424029",
     "status": "completed"
    },
    "tags": []
   },
   "source": [
    "Here, we can see the coefficients of the logistic regression model, which represent the contribution of each base model's prediction to the final ensemble output. A positive coefficient indicates that the corresponding base model's predictions positively influence the final prediction, and a negative coefficient suggests a negative impact."
   ]
  },
  {
   "cell_type": "code",
   "execution_count": 26,
   "id": "fd1d7f4c",
   "metadata": {
    "_kg_hide-input": false,
    "execution": {
     "iopub.execute_input": "2024-10-20T22:42:04.532908Z",
     "iopub.status.busy": "2024-10-20T22:42:04.531240Z",
     "iopub.status.idle": "2024-10-20T22:42:04.951623Z",
     "shell.execute_reply": "2024-10-20T22:42:04.950512Z"
    },
    "papermill": {
     "duration": 0.459766,
     "end_time": "2024-10-20T22:42:04.954115",
     "exception": false,
     "start_time": "2024-10-20T22:42:04.494349",
     "status": "completed"
    },
    "tags": []
   },
   "outputs": [
    {
     "data": {
      "image/png": "[encoded data removed]",
      "text/plain": [
       "<Figure size 800x420 with 1 Axes>"
      ]
     },
     "metadata": {},
     "output_type": "display_data"
    }
   ],
   "source": [
    "sorted_indices = np.argsort(coeffs[0])[::-1]\n",
    "sorted_coeffs = np.array(coeffs[0])[sorted_indices]\n",
    "sorted_model_names = np.array(list(oof_pred_probs.keys()))[sorted_indices]\n",
    "\n",
    "plt.figure(figsize=(8, coeffs.shape[1] * 0.6))\n",
    "ax = sns.barplot(x=sorted_coeffs, y=sorted_model_names, palette=\"RdYlGn_r\")\n",
    "\n",
    "for i, (value, name) in enumerate(zip(sorted_coeffs, sorted_model_names)):\n",
    "    if value > 0:\n",
    "        ax.text(value, i, f'{value:.3f}', va='center', ha='left', color='black')\n",
    "    else:\n",
    "        ax.text(value, i, f'{value:.3f}', va='center', ha='right', color='black')\n",
    "\n",
    "xlim = ax.get_xlim()\n",
    "ax.set_xlim(xlim[0] - 0.1 * abs(xlim[0]), xlim[1] + 0.1 * abs(xlim[1]))\n",
    "        \n",
    "plt.title('Logistic Regression Coefficients')\n",
    "plt.xlabel('')\n",
    "plt.ylabel('')\n",
    "plt.tight_layout()\n",
    "plt.show()"
   ]
  },
  {
   "cell_type": "markdown",
   "id": "a687b4a5",
   "metadata": {
    "papermill": {
     "duration": 0.034934,
     "end_time": "2024-10-20T22:42:05.024646",
     "exception": false,
     "start_time": "2024-10-20T22:42:04.989712",
     "status": "completed"
    },
    "tags": []
   },
   "source": [
    "# Ensembling with hill climbing"
   ]
  },
  {
   "cell_type": "code",
   "execution_count": 27,
   "id": "2a07f99d",
   "metadata": {
    "execution": {
     "iopub.execute_input": "2024-10-20T22:42:05.098383Z",
     "iopub.status.busy": "2024-10-20T22:42:05.097968Z",
     "iopub.status.idle": "2024-10-20T22:49:46.799378Z",
     "shell.execute_reply": "2024-10-20T22:49:46.798272Z"
    },
    "papermill": {
     "duration": 461.742536,
     "end_time": "2024-10-20T22:49:46.802302",
     "exception": false,
     "start_time": "2024-10-20T22:42:05.059766",
     "status": "completed"
    },
    "tags": []
   },
   "outputs": [
    {
     "name": "stdout",
     "output_type": "stream",
     "text": [
      "\u001b[1m\u001b[34m   /\\  \n",
      "  /__\\  hillclimbers\u001b[0m\u001b[1m \n",
      " /    \\\n",
      "/______\\ \n",
      "\u001b[0m\n",
      "\u001b[1m\u001b[33mModels to be ensembled | (7 total):\u001b[0m \n",
      "\n",
      "\u001b[1m\u001b[32mCatBoost:         0.96872 (best solo model)\u001b[0m\n",
      "\u001b[1mLightGBM (goss):  0.96481\u001b[0m\n",
      "\u001b[1mLightGBM:         0.96377\u001b[0m\n",
      "\u001b[1mLightGBM (dart):  0.96278\u001b[0m\n",
      "\u001b[1mGradientBoosting: 0.96171\u001b[0m\n",
      "\u001b[1mXGBoost:          0.95993\u001b[0m\n",
      "\u001b[1mHistGB:           0.95808\u001b[0m\n",
      "\n",
      "\u001b[1m\u001b[33m[Data preparation completed successfully] - [Initiate hill climbing]\u001b[0m \n",
      "\n",
      "\u001b[1m\u001b[32mIteration: 1 | Model added: LightGBM (goss) | Best weight: 0.231 | Best roc_auc_score: 0.96966\u001b[0m\n",
      "\u001b[1m\u001b[32mIteration: 2 | Model added: LightGBM (dart) | Best weight: 0.043 | Best roc_auc_score: 0.96973\u001b[0m\n",
      "\u001b[1m\u001b[31mIteration: 3 | Model added: GradientBoosting | Best weight: -0.031 | Best roc_auc_score: 0.96974\u001b[0m\n",
      "\u001b[1m\u001b[32mIteration: 4 | Model added: HistGB | Best weight: 0.020 | Best roc_auc_score: 0.96975\u001b[0m\n",
      "\u001b[1m\u001b[31mIteration: 5 | Model added: XGBoost | Best weight: -0.008 | Best roc_auc_score: 0.96975\u001b[0m\n",
      "\u001b[1m\u001b[32mIteration: 6 | Model added: LightGBM | Best weight: 0.007 | Best roc_auc_score: 0.96975\u001b[0m\n"
     ]
    },
    {
     "data": {
      "text/html": [
       "        <script type=\"text/javascript\">\n",
       "        window.PlotlyConfig = {MathJaxConfig: 'local'};\n",
       "        if (window.MathJax && window.MathJax.Hub && window.MathJax.Hub.Config) {window.MathJax.Hub.Config({SVG: {font: \"STIX-Web\"}});}\n",
       "        if (typeof require !== 'undefined') {\n",
       "        require.undef(\"plotly\");\n",
       "        requirejs.config({\n",
       "            paths: {\n",
       "                'plotly': ['https://cdn.plot.ly/plotly-2.32.0.min']\n",
       "            }\n",
       "        });\n",
       "        require(['plotly'], function(Plotly) {\n",
       "            window._Plotly = Plotly;\n",
       "        });\n",
       "        }\n",
       "        </script>\n",
       "        "
      ]
     },
     "metadata": {},
     "output_type": "display_data"
    },
    {
     "data": {
      "text/html": [
       "<div>                            <div id=\"8fc82c48-f131-4462-9314-7fa297734cb5\" class=\"plotly-graph-div\" style=\"height:500px; width:900px;\"></div>            <script type=\"text/javascript\">                require([\"plotly\"], function(Plotly) {                    window.PLOTLYENV=window.PLOTLYENV || {};                                    if (document.getElementById(\"8fc82c48-f131-4462-9314-7fa297734cb5\")) {                    Plotly.newPlot(                        \"8fc82c48-f131-4462-9314-7fa297734cb5\",                        [{\"hovertemplate\":\"Number of Models: %{x}\\u003cbr\\u003eCV: %{y}\",\"legendgroup\":\"\",\"line\":{\"color\":\"#009933\",\"dash\":\"solid\"},\"marker\":{\"symbol\":\"circle\",\"line\":{\"color\":\"#FFFFFF\",\"width\":1.5},\"color\":\"#33cc33\",\"size\":10},\"mode\":\"lines+markers+text\",\"name\":\"\",\"orientation\":\"v\",\"showlegend\":false,\"text\":[0.96872,0.96966,0.96973,0.96974,0.96975,0.96975,0.96975],\"x\":[1,2,3,4,5,6,7],\"xaxis\":\"x\",\"y\":[0.9687199082300655,0.9696592594709179,0.9697334397712181,0.9697431191895958,0.9697472505034668,0.9697495864221454,0.9697511889433182],\"yaxis\":\"y\",\"type\":\"scatter\",\"textfont\":{\"size\":10},\"textposition\":\"top center\"}],                        {\"template\":{\"data\":{\"barpolar\":[{\"marker\":{\"line\":{\"color\":\"rgb(17,17,17)\",\"width\":0.5},\"pattern\":{\"fillmode\":\"overlay\",\"size\":10,\"solidity\":0.2}},\"type\":\"barpolar\"}],\"bar\":[{\"error_x\":{\"color\":\"#f2f5fa\"},\"error_y\":{\"color\":\"#f2f5fa\"},\"marker\":{\"line\":{\"color\":\"rgb(17,17,17)\",\"width\":0.5},\"pattern\":{\"fillmode\":\"overlay\",\"size\":10,\"solidity\":0.2}},\"type\":\"bar\"}],\"carpet\":[{\"aaxis\":{\"endlinecolor\":\"#A2B1C6\",\"gridcolor\":\"#506784\",\"linecolor\":\"#506784\",\"minorgridcolor\":\"#506784\",\"startlinecolor\":\"#A2B1C6\"},\"baxis\":{\"endlinecolor\":\"#A2B1C6\",\"gridcolor\":\"#506784\",\"linecolor\":\"#506784\",\"minorgridcolor\":\"#506784\",\"startlinecolor\":\"#A2B1C6\"},\"type\":\"carpet\"}],\"choropleth\":[{\"colorbar\":{\"outlinewidth\":0,\"ticks\":\"\"},\"type\":\"choropleth\"}],\"contourcarpet\":[{\"colorbar\":{\"outlinewidth\":0,\"ticks\":\"\"},\"type\":\"contourcarpet\"}],\"contour\":[{\"colorbar\":{\"outlinewidth\":0,\"ticks\":\"\"},\"colorscale\":[[0.0,\"#0d0887\"],[0.1111111111111111,\"#46039f\"],[0.2222222222222222,\"#7201a8\"],[0.3333333333333333,\"#9c179e\"],[0.4444444444444444,\"#bd3786\"],[0.5555555555555556,\"#d8576b\"],[0.6666666666666666,\"#ed7953\"],[0.7777777777777778,\"#fb9f3a\"],[0.8888888888888888,\"#fdca26\"],[1.0,\"#f0f921\"]],\"type\":\"contour\"}],\"heatmapgl\":[{\"colorbar\":{\"outlinewidth\":0,\"ticks\":\"\"},\"colorscale\":[[0.0,\"#0d0887\"],[0.1111111111111111,\"#46039f\"],[0.2222222222222222,\"#7201a8\"],[0.3333333333333333,\"#9c179e\"],[0.4444444444444444,\"#bd3786\"],[0.5555555555555556,\"#d8576b\"],[0.6666666666666666,\"#ed7953\"],[0.7777777777777778,\"#fb9f3a\"],[0.8888888888888888,\"#fdca26\"],[1.0,\"#f0f921\"]],\"type\":\"heatmapgl\"}],\"heatmap\":[{\"colorbar\":{\"outlinewidth\":0,\"ticks\":\"\"},\"colorscale\":[[0.0,\"#0d0887\"],[0.1111111111111111,\"#46039f\"],[0.2222222222222222,\"#7201a8\"],[0.3333333333333333,\"#9c179e\"],[0.4444444444444444,\"#bd3786\"],[0.5555555555555556,\"#d8576b\"],[0.6666666666666666,\"#ed7953\"],[0.7777777777777778,\"#fb9f3a\"],[0.8888888888888888,\"#fdca26\"],[1.0,\"#f0f921\"]],\"type\":\"heatmap\"}],\"histogram2dcontour\":[{\"colorbar\":{\"outlinewidth\":0,\"ticks\":\"\"},\"colorscale\":[[0.0,\"#0d0887\"],[0.1111111111111111,\"#46039f\"],[0.2222222222222222,\"#7201a8\"],[0.3333333333333333,\"#9c179e\"],[0.4444444444444444,\"#bd3786\"],[0.5555555555555556,\"#d8576b\"],[0.6666666666666666,\"#ed7953\"],[0.7777777777777778,\"#fb9f3a\"],[0.8888888888888888,\"#fdca26\"],[1.0,\"#f0f921\"]],\"type\":\"histogram2dcontour\"}],\"histogram2d\":[{\"colorbar\":{\"outlinewidth\":0,\"ticks\":\"\"},\"colorscale\":[[0.0,\"#0d0887\"],[0.1111111111111111,\"#46039f\"],[0.2222222222222222,\"#7201a8\"],[0.3333333333333333,\"#9c179e\"],[0.4444444444444444,\"#bd3786\"],[0.5555555555555556,\"#d8576b\"],[0.6666666666666666,\"#ed7953\"],[0.7777777777777778,\"#fb9f3a\"],[0.8888888888888888,\"#fdca26\"],[1.0,\"#f0f921\"]],\"type\":\"histogram2d\"}],\"histogram\":[{\"marker\":{\"pattern\":{\"fillmode\":\"overlay\",\"size\":10,\"solidity\":0.2}},\"type\":\"histogram\"}],\"mesh3d\":[{\"colorbar\":{\"outlinewidth\":0,\"ticks\":\"\"},\"type\":\"mesh3d\"}],\"parcoords\":[{\"line\":{\"colorbar\":{\"outlinewidth\":0,\"ticks\":\"\"}},\"type\":\"parcoords\"}],\"pie\":[{\"automargin\":true,\"type\":\"pie\"}],\"scatter3d\":[{\"line\":{\"colorbar\":{\"outlinewidth\":0,\"ticks\":\"\"}},\"marker\":{\"colorbar\":{\"outlinewidth\":0,\"ticks\":\"\"}},\"type\":\"scatter3d\"}],\"scattercarpet\":[{\"marker\":{\"colorbar\":{\"outlinewidth\":0,\"ticks\":\"\"}},\"type\":\"scattercarpet\"}],\"scattergeo\":[{\"marker\":{\"colorbar\":{\"outlinewidth\":0,\"ticks\":\"\"}},\"type\":\"scattergeo\"}],\"scattergl\":[{\"marker\":{\"line\":{\"color\":\"#283442\"}},\"type\":\"scattergl\"}],\"scattermapbox\":[{\"marker\":{\"colorbar\":{\"outlinewidth\":0,\"ticks\":\"\"}},\"type\":\"scattermapbox\"}],\"scatterpolargl\":[{\"marker\":{\"colorbar\":{\"outlinewidth\":0,\"ticks\":\"\"}},\"type\":\"scatterpolargl\"}],\"scatterpolar\":[{\"marker\":{\"colorbar\":{\"outlinewidth\":0,\"ticks\":\"\"}},\"type\":\"scatterpolar\"}],\"scatter\":[{\"marker\":{\"line\":{\"color\":\"#283442\"}},\"type\":\"scatter\"}],\"scatterternary\":[{\"marker\":{\"colorbar\":{\"outlinewidth\":0,\"ticks\":\"\"}},\"type\":\"scatterternary\"}],\"surface\":[{\"colorbar\":{\"outlinewidth\":0,\"ticks\":\"\"},\"colorscale\":[[0.0,\"#0d0887\"],[0.1111111111111111,\"#46039f\"],[0.2222222222222222,\"#7201a8\"],[0.3333333333333333,\"#9c179e\"],[0.4444444444444444,\"#bd3786\"],[0.5555555555555556,\"#d8576b\"],[0.6666666666666666,\"#ed7953\"],[0.7777777777777778,\"#fb9f3a\"],[0.8888888888888888,\"#fdca26\"],[1.0,\"#f0f921\"]],\"type\":\"surface\"}],\"table\":[{\"cells\":{\"fill\":{\"color\":\"#506784\"},\"line\":{\"color\":\"rgb(17,17,17)\"}},\"header\":{\"fill\":{\"color\":\"#2a3f5f\"},\"line\":{\"color\":\"rgb(17,17,17)\"}},\"type\":\"table\"}]},\"layout\":{\"annotationdefaults\":{\"arrowcolor\":\"#f2f5fa\",\"arrowhead\":0,\"arrowwidth\":1},\"autotypenumbers\":\"strict\",\"coloraxis\":{\"colorbar\":{\"outlinewidth\":0,\"ticks\":\"\"}},\"colorscale\":{\"diverging\":[[0,\"#8e0152\"],[0.1,\"#c51b7d\"],[0.2,\"#de77ae\"],[0.3,\"#f1b6da\"],[0.4,\"#fde0ef\"],[0.5,\"#f7f7f7\"],[0.6,\"#e6f5d0\"],[0.7,\"#b8e186\"],[0.8,\"#7fbc41\"],[0.9,\"#4d9221\"],[1,\"#276419\"]],\"sequential\":[[0.0,\"#0d0887\"],[0.1111111111111111,\"#46039f\"],[0.2222222222222222,\"#7201a8\"],[0.3333333333333333,\"#9c179e\"],[0.4444444444444444,\"#bd3786\"],[0.5555555555555556,\"#d8576b\"],[0.6666666666666666,\"#ed7953\"],[0.7777777777777778,\"#fb9f3a\"],[0.8888888888888888,\"#fdca26\"],[1.0,\"#f0f921\"]],\"sequentialminus\":[[0.0,\"#0d0887\"],[0.1111111111111111,\"#46039f\"],[0.2222222222222222,\"#7201a8\"],[0.3333333333333333,\"#9c179e\"],[0.4444444444444444,\"#bd3786\"],[0.5555555555555556,\"#d8576b\"],[0.6666666666666666,\"#ed7953\"],[0.7777777777777778,\"#fb9f3a\"],[0.8888888888888888,\"#fdca26\"],[1.0,\"#f0f921\"]]},\"colorway\":[\"#636efa\",\"#EF553B\",\"#00cc96\",\"#ab63fa\",\"#FFA15A\",\"#19d3f3\",\"#FF6692\",\"#B6E880\",\"#FF97FF\",\"#FECB52\"],\"font\":{\"color\":\"#f2f5fa\"},\"geo\":{\"bgcolor\":\"rgb(17,17,17)\",\"lakecolor\":\"rgb(17,17,17)\",\"landcolor\":\"rgb(17,17,17)\",\"showlakes\":true,\"showland\":true,\"subunitcolor\":\"#506784\"},\"hoverlabel\":{\"align\":\"left\"},\"hovermode\":\"closest\",\"mapbox\":{\"style\":\"dark\"},\"paper_bgcolor\":\"rgb(17,17,17)\",\"plot_bgcolor\":\"rgb(17,17,17)\",\"polar\":{\"angularaxis\":{\"gridcolor\":\"#506784\",\"linecolor\":\"#506784\",\"ticks\":\"\"},\"bgcolor\":\"rgb(17,17,17)\",\"radialaxis\":{\"gridcolor\":\"#506784\",\"linecolor\":\"#506784\",\"ticks\":\"\"}},\"scene\":{\"xaxis\":{\"backgroundcolor\":\"rgb(17,17,17)\",\"gridcolor\":\"#506784\",\"gridwidth\":2,\"linecolor\":\"#506784\",\"showbackground\":true,\"ticks\":\"\",\"zerolinecolor\":\"#C8D4E3\"},\"yaxis\":{\"backgroundcolor\":\"rgb(17,17,17)\",\"gridcolor\":\"#506784\",\"gridwidth\":2,\"linecolor\":\"#506784\",\"showbackground\":true,\"ticks\":\"\",\"zerolinecolor\":\"#C8D4E3\"},\"zaxis\":{\"backgroundcolor\":\"rgb(17,17,17)\",\"gridcolor\":\"#506784\",\"gridwidth\":2,\"linecolor\":\"#506784\",\"showbackground\":true,\"ticks\":\"\",\"zerolinecolor\":\"#C8D4E3\"}},\"shapedefaults\":{\"line\":{\"color\":\"#f2f5fa\"}},\"sliderdefaults\":{\"bgcolor\":\"#C8D4E3\",\"bordercolor\":\"rgb(17,17,17)\",\"borderwidth\":1,\"tickwidth\":0},\"ternary\":{\"aaxis\":{\"gridcolor\":\"#506784\",\"linecolor\":\"#506784\",\"ticks\":\"\"},\"baxis\":{\"gridcolor\":\"#506784\",\"linecolor\":\"#506784\",\"ticks\":\"\"},\"bgcolor\":\"rgb(17,17,17)\",\"caxis\":{\"gridcolor\":\"#506784\",\"linecolor\":\"#506784\",\"ticks\":\"\"}},\"title\":{\"x\":0.05},\"updatemenudefaults\":{\"bgcolor\":\"#506784\",\"borderwidth\":0},\"xaxis\":{\"automargin\":true,\"gridcolor\":\"#283442\",\"linecolor\":\"#506784\",\"ticks\":\"\",\"title\":{\"standoff\":15},\"zerolinecolor\":\"#283442\",\"zerolinewidth\":2},\"yaxis\":{\"automargin\":true,\"gridcolor\":\"#283442\",\"linecolor\":\"#506784\",\"ticks\":\"\",\"title\":{\"standoff\":15},\"zerolinecolor\":\"#283442\",\"zerolinewidth\":2}}},\"xaxis\":{\"anchor\":\"y\",\"domain\":[0.0,1.0],\"title\":{\"text\":\"Number of models\"},\"tickmode\":\"array\",\"tickvals\":[1,2,3,4,5,6,7]},\"yaxis\":{\"anchor\":\"x\",\"domain\":[0.0,1.0],\"title\":{\"text\":\"roc_auc_score\"}},\"legend\":{\"tracegroupgap\":0},\"title\":{\"text\":\"Cross Validation roc_auc_score vs. Number of Models with Hill Climbing\"},\"autosize\":false,\"width\":900,\"height\":500},                        {\"responsive\": true}                    ).then(function(){\n",
       "                            \n",
       "var gd = document.getElementById('8fc82c48-f131-4462-9314-7fa297734cb5');\n",
       "var x = new MutationObserver(function (mutations, observer) {{\n",
       "        var display = window.getComputedStyle(gd).display;\n",
       "        if (!display || display === 'none') {{\n",
       "            console.log([gd, 'removed!']);\n",
       "            Plotly.purge(gd);\n",
       "            observer.disconnect();\n",
       "        }}\n",
       "}});\n",
       "\n",
       "// Listen for the removal of the full notebook cells\n",
       "var notebookContainer = gd.closest('#notebook-container');\n",
       "if (notebookContainer) {{\n",
       "    x.observe(notebookContainer, {childList: true});\n",
       "}}\n",
       "\n",
       "// Listen for the clearing of the current output cell\n",
       "var outputEl = gd.closest('.output');\n",
       "if (outputEl) {{\n",
       "    x.observe(outputEl, {childList: true});\n",
       "}}\n",
       "\n",
       "                        })                };                });            </script>        </div>"
      ]
     },
     "metadata": {},
     "output_type": "display_data"
    }
   ],
   "source": [
    "hc_test_pred_probs, hc_oof_pred_probs = climb_hill(\n",
    "    train=train, \n",
    "    oof_pred_df=pd.DataFrame(oof_pred_probs), \n",
    "    test_pred_df=pd.DataFrame(test_pred_probs),\n",
    "    target=CFG.target,\n",
    "    objective='maximize', \n",
    "    eval_metric=partial(roc_auc_score),\n",
    "    negative_weights=True, \n",
    "    precision=0.001, \n",
    "    plot_hill=True, \n",
    "    plot_hist=False,\n",
    "    return_oof_preds=True\n",
    ")"
   ]
  },
  {
   "cell_type": "code",
   "execution_count": 28,
   "id": "bce1d397",
   "metadata": {
    "execution": {
     "iopub.execute_input": "2024-10-20T22:49:46.876261Z",
     "iopub.status.busy": "2024-10-20T22:49:46.875832Z",
     "iopub.status.idle": "2024-10-20T22:49:46.902335Z",
     "shell.execute_reply": "2024-10-20T22:49:46.900986Z"
    },
    "papermill": {
     "duration": 0.066775,
     "end_time": "2024-10-20T22:49:46.905371",
     "exception": false,
     "start_time": "2024-10-20T22:49:46.838596",
     "status": "completed"
    },
    "tags": []
   },
   "outputs": [],
   "source": [
    "hc_score = roc_auc_score(y, hc_oof_pred_probs)\n",
    "scores['Hill Climbing'] = [hc_score] * CFG.n_folds"
   ]
  },
  {
   "cell_type": "code",
   "execution_count": 29,
   "id": "d3d84c0f",
   "metadata": {
    "execution": {
     "iopub.execute_input": "2024-10-20T22:49:46.979928Z",
     "iopub.status.busy": "2024-10-20T22:49:46.979487Z",
     "iopub.status.idle": "2024-10-20T22:49:47.091647Z",
     "shell.execute_reply": "2024-10-20T22:49:47.090462Z"
    },
    "papermill": {
     "duration": 0.152198,
     "end_time": "2024-10-20T22:49:47.094063",
     "exception": false,
     "start_time": "2024-10-20T22:49:46.941865",
     "status": "completed"
    },
    "tags": []
   },
   "outputs": [
    {
     "data": {
      "text/html": [
       "<div>\n",
       "<style scoped>\n",
       "    .dataframe tbody tr th:only-of-type {\n",
       "        vertical-align: middle;\n",
       "    }\n",
       "\n",
       "    .dataframe tbody tr th {\n",
       "        vertical-align: top;\n",
       "    }\n",
       "\n",
       "    .dataframe thead th {\n",
       "        text-align: right;\n",
       "    }\n",
       "</style>\n",
       "<table border=\"1\" class=\"dataframe\">\n",
       "  <thead>\n",
       "    <tr style=\"text-align: right;\">\n",
       "      <th></th>\n",
       "      <th>id</th>\n",
       "      <th>loan_status</th>\n",
       "    </tr>\n",
       "  </thead>\n",
       "  <tbody>\n",
       "    <tr>\n",
       "      <th>0</th>\n",
       "      <td>58645</td>\n",
       "      <td>0.998173</td>\n",
       "    </tr>\n",
       "    <tr>\n",
       "      <th>1</th>\n",
       "      <td>58646</td>\n",
       "      <td>0.070448</td>\n",
       "    </tr>\n",
       "    <tr>\n",
       "      <th>2</th>\n",
       "      <td>58647</td>\n",
       "      <td>0.697841</td>\n",
       "    </tr>\n",
       "    <tr>\n",
       "      <th>3</th>\n",
       "      <td>58648</td>\n",
       "      <td>0.017278</td>\n",
       "    </tr>\n",
       "    <tr>\n",
       "      <th>4</th>\n",
       "      <td>58649</td>\n",
       "      <td>0.096065</td>\n",
       "    </tr>\n",
       "  </tbody>\n",
       "</table>\n",
       "</div>"
      ],
      "text/plain": [
       "      id  loan_status\n",
       "0  58645     0.998173\n",
       "1  58646     0.070448\n",
       "2  58647     0.697841\n",
       "3  58648     0.017278\n",
       "4  58649     0.096065"
      ]
     },
     "execution_count": 29,
     "metadata": {},
     "output_type": "execute_result"
    }
   ],
   "source": [
    "hc_sub = pd.read_csv(CFG.sample_sub_path)\n",
    "hc_sub[CFG.target] = hc_test_pred_probs\n",
    "hc_sub.to_csv(f'sub_hill-climbing_{hc_score:.6f}.csv', index=False)\n",
    "hc_sub.head()"
   ]
  },
  {
   "cell_type": "markdown",
   "id": "445e3db6",
   "metadata": {
    "papermill": {
     "duration": 0.036763,
     "end_time": "2024-10-20T22:49:47.167294",
     "exception": false,
     "start_time": "2024-10-20T22:49:47.130531",
     "status": "completed"
    },
    "tags": []
   },
   "source": [
    "# Results"
   ]
  },
  {
   "cell_type": "code",
   "execution_count": 30,
   "id": "8998c0a8",
   "metadata": {
    "_kg_hide-input": false,
    "execution": {
     "iopub.execute_input": "2024-10-20T22:49:47.254703Z",
     "iopub.status.busy": "2024-10-20T22:49:47.254262Z",
     "iopub.status.idle": "2024-10-20T22:49:48.105234Z",
     "shell.execute_reply": "2024-10-20T22:49:48.103918Z"
    },
    "papermill": {
     "duration": 0.892543,
     "end_time": "2024-10-20T22:49:48.108296",
     "exception": false,
     "start_time": "2024-10-20T22:49:47.215753",
     "status": "completed"
    },
    "tags": []
   },
   "outputs": [
    {
     "data": {
      "image/png": "[encoded data removed]",
      "text/plain": [
       "<Figure size 1500x540 with 2 Axes>"
      ]
     },
     "metadata": {},
     "output_type": "display_data"
    }
   ],
   "source": [
    "scores = pd.DataFrame(scores)\n",
    "mean_scores = scores.mean().sort_values(ascending=False)\n",
    "order = scores.mean().sort_values(ascending=False).index.tolist()\n",
    "\n",
    "min_score = mean_scores.min()\n",
    "max_score = mean_scores.max()\n",
    "padding = (max_score - min_score) * 0.5\n",
    "lower_limit = min_score - padding\n",
    "upper_limit = max_score + padding\n",
    "\n",
    "fig, axs = plt.subplots(1, 2, figsize=(15, scores.shape[1] * 0.6))\n",
    "\n",
    "sns.boxplot(data=scores, order=order, ax=axs[0], orient='h', palette='RdYlGn_r')\n",
    "axs[0].set_title('Fold AUC')\n",
    "axs[0].set_xlabel('')\n",
    "axs[0].set_ylabel('')\n",
    "\n",
    "barplot = sns.barplot(x=mean_scores.values, y=mean_scores.index, ax=axs[1], palette='RdYlGn_r')\n",
    "axs[1].set_title('Average AUC')\n",
    "axs[1].set_xlabel('')\n",
    "axs[1].set_xlim(left=lower_limit, right=upper_limit)\n",
    "axs[1].set_ylabel('')\n",
    "\n",
    "for i, score in enumerate(mean_scores.values):\n",
    "    barplot.text(score, i, round(score, 6), va='center')\n",
    "\n",
    "plt.tight_layout()\n",
    "plt.show()"
   ]
  },
  {
   "cell_type": "code",
   "execution_count": 31,
   "id": "33bd6a28",
   "metadata": {
    "execution": {
     "iopub.execute_input": "2024-10-20T22:49:48.184262Z",
     "iopub.status.busy": "2024-10-20T22:49:48.183872Z",
     "iopub.status.idle": "2024-10-20T22:49:48.190787Z",
     "shell.execute_reply": "2024-10-20T22:49:48.189702Z"
    },
    "papermill": {
     "duration": 0.047438,
     "end_time": "2024-10-20T22:49:48.193280",
     "exception": false,
     "start_time": "2024-10-20T22:49:48.145842",
     "status": "completed"
    },
    "tags": []
   },
   "outputs": [],
   "source": [
    "shutil.rmtree('catboost_info', ignore_errors=True)"
   ]
  }
 ],
 "metadata": {
  "kaggle": {
   "accelerator": "none",
   "dataSources": [
    {
     "databundleVersionId": 9709193,
     "sourceId": 84894,
     "sourceType": "competition"
    },
    {
     "datasetId": 4675026,
     "sourceId": 7949759,
     "sourceType": "datasetVersion"
    }
   ],
   "dockerImageVersionId": 30775,
   "isGpuEnabled": false,
   "isInternetEnabled": true,
   "language": "python",
   "sourceType": "notebook"
  },
  "kernelspec": {
   "display_name": "Python 3",
   "language": "python",
   "name": "python3"
  },
  "language_info": {
   "codemirror_mode": {
    "name": "ipython",
    "version": 3
   },
   "file_extension": ".py",
   "mimetype": "text/x-python",
   "name": "python",
   "nbconvert_exporter": "python",
   "pygments_lexer": "ipython3",
   "version": "3.10.14"
  },
  "papermill": {
   "default_parameters": {},
   "duration": 16224.366365,
   "end_time": "2024-10-20T22:49:49.356286",
   "environment_variables": {},
   "exception": null,
   "input_path": "__notebook__.ipynb",
   "output_path": "__notebook__.ipynb",
   "parameters": {},
   "start_time": "2024-10-20T18:19:24.989921",
   "version": "2.6.0"
  }
 },
 "nbformat": 4,
 "nbformat_minor": 5
}
