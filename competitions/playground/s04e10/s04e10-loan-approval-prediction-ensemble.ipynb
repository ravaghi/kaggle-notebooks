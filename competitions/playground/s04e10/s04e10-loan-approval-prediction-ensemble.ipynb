{
 "cells": [
  {
   "cell_type": "markdown",
   "id": "8f8350c3",
   "metadata": {
    "papermill": {
     "duration": 0.008097,
     "end_time": "2024-10-26T21:26:00.862309",
     "exception": false,
     "start_time": "2024-10-26T21:26:00.854212",
     "status": "completed"
    },
    "tags": []
   },
   "source": [
    "# Imports and configs"
   ]
  },
  {
   "cell_type": "code",
   "execution_count": 1,
   "id": "a1b5ae7a",
   "metadata": {
    "_kg_hide-output": true,
    "execution": {
     "iopub.execute_input": "2024-10-26T21:26:00.878616Z",
     "iopub.status.busy": "2024-10-26T21:26:00.878082Z",
     "iopub.status.idle": "2024-10-26T21:26:21.591781Z",
     "shell.execute_reply": "2024-10-26T21:26:21.590650Z"
    },
    "papermill": {
     "duration": 20.724695,
     "end_time": "2024-10-26T21:26:21.594304",
     "exception": false,
     "start_time": "2024-10-26T21:26:00.869609",
     "status": "completed"
    },
    "tags": []
   },
   "outputs": [
    {
     "name": "stdout",
     "output_type": "stream",
     "text": [
      "\u001b[31mERROR: pip's dependency resolver does not currently take into account all the packages that are installed. This behaviour is the source of the following dependency conflicts.\r\n",
      "bigframes 0.22.0 requires google-cloud-bigquery[bqstorage,pandas]>=3.10.0, but you have google-cloud-bigquery 2.34.4 which is incompatible.\r\n",
      "bigframes 0.22.0 requires google-cloud-storage>=2.0.0, but you have google-cloud-storage 1.44.0 which is incompatible.\r\n",
      "bigframes 0.22.0 requires pandas<2.1.4,>=1.5.0, but you have pandas 2.2.2 which is incompatible.\r\n",
      "cesium 0.12.3 requires numpy<3.0,>=2.0, but you have numpy 1.26.4 which is incompatible.\r\n",
      "dataproc-jupyter-plugin 0.1.79 requires pydantic~=1.10.0, but you have pydantic 2.9.2 which is incompatible.\u001b[0m\u001b[31m\r\n",
      "\u001b[0m"
     ]
    }
   ],
   "source": [
    "!pip install -q hillclimbers scikit-learn==1.5.1"
   ]
  },
  {
   "cell_type": "code",
   "execution_count": 2,
   "id": "b6a5b3cb",
   "metadata": {
    "execution": {
     "iopub.execute_input": "2024-10-26T21:26:21.610868Z",
     "iopub.status.busy": "2024-10-26T21:26:21.610474Z",
     "iopub.status.idle": "2024-10-26T21:26:26.446223Z",
     "shell.execute_reply": "2024-10-26T21:26:26.445345Z"
    },
    "papermill": {
     "duration": 4.846861,
     "end_time": "2024-10-26T21:26:26.448661",
     "exception": false,
     "start_time": "2024-10-26T21:26:21.601800",
     "status": "completed"
    },
    "tags": []
   },
   "outputs": [],
   "source": [
    "from sklearn.ensemble import HistGradientBoostingClassifier, GradientBoostingClassifier\n",
    "from sklearn.feature_selection import mutual_info_classif\n",
    "from sklearn.linear_model import LogisticRegression\n",
    "from sklearn.model_selection import StratifiedKFold\n",
    "from sklearn.preprocessing import OrdinalEncoder\n",
    "from sklearn.metrics import roc_auc_score\n",
    "from sklearn.base import clone\n",
    "from hillclimbers import climb_hill, partial\n",
    "from scipy.special import logit\n",
    "from catboost import CatBoostClassifier\n",
    "from lightgbm import LGBMClassifier\n",
    "from xgboost import XGBClassifier\n",
    "import matplotlib.pyplot as plt\n",
    "import seaborn as sns\n",
    "import pandas as pd\n",
    "import numpy as np\n",
    "import warnings\n",
    "import pickle\n",
    "import shutil\n",
    "import optuna\n",
    "import json\n",
    "import os\n",
    "import gc\n",
    "\n",
    "warnings.filterwarnings('ignore')"
   ]
  },
  {
   "cell_type": "code",
   "execution_count": 3,
   "id": "2728956c",
   "metadata": {
    "execution": {
     "iopub.execute_input": "2024-10-26T21:26:26.465259Z",
     "iopub.status.busy": "2024-10-26T21:26:26.464642Z",
     "iopub.status.idle": "2024-10-26T21:26:26.469887Z",
     "shell.execute_reply": "2024-10-26T21:26:26.468964Z"
    },
    "papermill": {
     "duration": 0.015864,
     "end_time": "2024-10-26T21:26:26.471911",
     "exception": false,
     "start_time": "2024-10-26T21:26:26.456047",
     "status": "completed"
    },
    "tags": []
   },
   "outputs": [],
   "source": [
    "class CFG:\n",
    "    train_path = '/kaggle/input/playground-series-s4e10/train.csv'\n",
    "    test_path = '/kaggle/input/playground-series-s4e10/test.csv'\n",
    "    sample_sub_path = '/kaggle/input/playground-series-s4e10/sample_submission.csv'\n",
    "    original_data_path = '/kaggle/input/loan-approval-prediction/credit_risk_dataset.csv'\n",
    "    \n",
    "    target = 'loan_status'\n",
    "    n_folds = 10\n",
    "    seed = 42"
   ]
  },
  {
   "cell_type": "markdown",
   "id": "a5462db7",
   "metadata": {
    "papermill": {
     "duration": 0.007827,
     "end_time": "2024-10-26T21:26:26.486981",
     "exception": false,
     "start_time": "2024-10-26T21:26:26.479154",
     "status": "completed"
    },
    "tags": []
   },
   "source": [
    "# Data loading and preprocessing"
   ]
  },
  {
   "cell_type": "code",
   "execution_count": 4,
   "id": "2eeb8603",
   "metadata": {
    "execution": {
     "iopub.execute_input": "2024-10-26T21:26:26.503232Z",
     "iopub.status.busy": "2024-10-26T21:26:26.502310Z",
     "iopub.status.idle": "2024-10-26T21:26:26.721935Z",
     "shell.execute_reply": "2024-10-26T21:26:26.720891Z"
    },
    "papermill": {
     "duration": 0.230146,
     "end_time": "2024-10-26T21:26:26.724227",
     "exception": false,
     "start_time": "2024-10-26T21:26:26.494081",
     "status": "completed"
    },
    "tags": []
   },
   "outputs": [
    {
     "data": {
      "text/plain": [
       "((58645, 12), (39098, 11))"
      ]
     },
     "execution_count": 4,
     "metadata": {},
     "output_type": "execute_result"
    }
   ],
   "source": [
    "train = pd.read_csv(CFG.train_path, index_col='id')\n",
    "test = pd.read_csv(CFG.test_path, index_col='id')\n",
    "\n",
    "train.shape, test.shape"
   ]
  },
  {
   "cell_type": "code",
   "execution_count": 5,
   "id": "75872791",
   "metadata": {
    "execution": {
     "iopub.execute_input": "2024-10-26T21:26:26.742174Z",
     "iopub.status.busy": "2024-10-26T21:26:26.741261Z",
     "iopub.status.idle": "2024-10-26T21:26:26.771608Z",
     "shell.execute_reply": "2024-10-26T21:26:26.770563Z"
    },
    "papermill": {
     "duration": 0.041713,
     "end_time": "2024-10-26T21:26:26.773731",
     "exception": false,
     "start_time": "2024-10-26T21:26:26.732018",
     "status": "completed"
    },
    "tags": []
   },
   "outputs": [
    {
     "name": "stdout",
     "output_type": "stream",
     "text": [
      "<class 'pandas.core.frame.DataFrame'>\n",
      "Index: 58645 entries, 0 to 58644\n",
      "Data columns (total 12 columns):\n",
      " #   Column                      Non-Null Count  Dtype  \n",
      "---  ------                      --------------  -----  \n",
      " 0   person_age                  58645 non-null  int64  \n",
      " 1   person_income               58645 non-null  int64  \n",
      " 2   person_home_ownership       58645 non-null  object \n",
      " 3   person_emp_length           58645 non-null  float64\n",
      " 4   loan_intent                 58645 non-null  object \n",
      " 5   loan_grade                  58645 non-null  object \n",
      " 6   loan_amnt                   58645 non-null  int64  \n",
      " 7   loan_int_rate               58645 non-null  float64\n",
      " 8   loan_percent_income         58645 non-null  float64\n",
      " 9   cb_person_default_on_file   58645 non-null  object \n",
      " 10  cb_person_cred_hist_length  58645 non-null  int64  \n",
      " 11  loan_status                 58645 non-null  int64  \n",
      "dtypes: float64(3), int64(5), object(4)\n",
      "memory usage: 5.8+ MB\n"
     ]
    }
   ],
   "source": [
    "train.info()"
   ]
  },
  {
   "cell_type": "code",
   "execution_count": 6,
   "id": "f18d26f1",
   "metadata": {
    "execution": {
     "iopub.execute_input": "2024-10-26T21:26:26.790166Z",
     "iopub.status.busy": "2024-10-26T21:26:26.789835Z",
     "iopub.status.idle": "2024-10-26T21:26:26.808475Z",
     "shell.execute_reply": "2024-10-26T21:26:26.807369Z"
    },
    "papermill": {
     "duration": 0.029661,
     "end_time": "2024-10-26T21:26:26.811016",
     "exception": false,
     "start_time": "2024-10-26T21:26:26.781355",
     "status": "completed"
    },
    "tags": []
   },
   "outputs": [
    {
     "name": "stdout",
     "output_type": "stream",
     "text": [
      "<class 'pandas.core.frame.DataFrame'>\n",
      "Index: 39098 entries, 58645 to 97742\n",
      "Data columns (total 11 columns):\n",
      " #   Column                      Non-Null Count  Dtype  \n",
      "---  ------                      --------------  -----  \n",
      " 0   person_age                  39098 non-null  int64  \n",
      " 1   person_income               39098 non-null  int64  \n",
      " 2   person_home_ownership       39098 non-null  object \n",
      " 3   person_emp_length           39098 non-null  float64\n",
      " 4   loan_intent                 39098 non-null  object \n",
      " 5   loan_grade                  39098 non-null  object \n",
      " 6   loan_amnt                   39098 non-null  int64  \n",
      " 7   loan_int_rate               39098 non-null  float64\n",
      " 8   loan_percent_income         39098 non-null  float64\n",
      " 9   cb_person_default_on_file   39098 non-null  object \n",
      " 10  cb_person_cred_hist_length  39098 non-null  int64  \n",
      "dtypes: float64(3), int64(4), object(4)\n",
      "memory usage: 3.6+ MB\n"
     ]
    }
   ],
   "source": [
    "test.info()"
   ]
  },
  {
   "cell_type": "code",
   "execution_count": 7,
   "id": "55c8a7c0",
   "metadata": {
    "execution": {
     "iopub.execute_input": "2024-10-26T21:26:26.831825Z",
     "iopub.status.busy": "2024-10-26T21:26:26.830708Z",
     "iopub.status.idle": "2024-10-26T21:26:26.842795Z",
     "shell.execute_reply": "2024-10-26T21:26:26.841860Z"
    },
    "papermill": {
     "duration": 0.022752,
     "end_time": "2024-10-26T21:26:26.844721",
     "exception": false,
     "start_time": "2024-10-26T21:26:26.821969",
     "status": "completed"
    },
    "tags": []
   },
   "outputs": [
    {
     "data": {
      "text/plain": [
       "loan_status\n",
       "0    0.857618\n",
       "1    0.142382\n",
       "Name: proportion, dtype: float64"
      ]
     },
     "execution_count": 7,
     "metadata": {},
     "output_type": "execute_result"
    }
   ],
   "source": [
    "train.loan_status.value_counts(normalize=True)"
   ]
  },
  {
   "cell_type": "code",
   "execution_count": 8,
   "id": "e44fcc99",
   "metadata": {
    "execution": {
     "iopub.execute_input": "2024-10-26T21:26:26.862412Z",
     "iopub.status.busy": "2024-10-26T21:26:26.861789Z",
     "iopub.status.idle": "2024-10-26T21:26:28.106765Z",
     "shell.execute_reply": "2024-10-26T21:26:28.105686Z"
    },
    "papermill": {
     "duration": 1.256225,
     "end_time": "2024-10-26T21:26:28.108959",
     "exception": false,
     "start_time": "2024-10-26T21:26:26.852734",
     "status": "completed"
    },
    "tags": []
   },
   "outputs": [
    {
     "data": {
      "image/png": "[encoded data removed]",
      "text/plain": [
       "<Figure size 2000x1000 with 4 Axes>"
      ]
     },
     "metadata": {},
     "output_type": "display_data"
    }
   ],
   "source": [
    "cat_cols = train.select_dtypes(include='object').columns.tolist()\n",
    "\n",
    "palette = {0: sns.color_palette(\"Set2\")[1], 1: sns.color_palette(\"Set2\")[0]}\n",
    "fig, axes = plt.subplots(2, 2, figsize=(20, 10))\n",
    "axes = axes.flatten()\n",
    "for i, col in enumerate(cat_cols):\n",
    "    sns.countplot(data=train, x=col, hue=CFG.target, ax=axes[i], palette=palette)\n",
    "    axes[i].set_title(f'{col} distribution')\n",
    "    axes[i].set_ylabel('')\n",
    "    axes[i].set_xlabel('')\n",
    "\n",
    "plt.tight_layout()\n",
    "plt.show()"
   ]
  },
  {
   "cell_type": "markdown",
   "id": "cc3a2806",
   "metadata": {
    "papermill": {
     "duration": 0.008723,
     "end_time": "2024-10-26T21:26:28.127559",
     "exception": false,
     "start_time": "2024-10-26T21:26:28.118836",
     "status": "completed"
    },
    "tags": []
   },
   "source": [
    "**Observations**:\n",
    "- The dataset is relatively small compared to those we've seen in recent months in the playground series. It is also imbalanced, with the minority class representing less than 15%.\n",
    "- It contains 4 categorical features, all of which have low cardinality. The remaining features are numerical.\n",
    "- There are no missing values.\n",
    "\n",
    "Most of the models I plan to use can by default handle categorical features. However, `HistGradientBoostingClassifier` only accepts numerical features. For this model, I will encode the categorical features using `OrdinalEncoder`.\n",
    "\n",
    "Below, I have created a small function that converts the data types of categorical features to the `category` type and encodes them into numerical values if necessary. The same preprocessing steps are also applied to the original dataset. Note that the original dataset will only be used for training, for validation during training only the competition data is used."
   ]
  },
  {
   "cell_type": "code",
   "execution_count": 9,
   "id": "cbc0bb59",
   "metadata": {
    "execution": {
     "iopub.execute_input": "2024-10-26T21:26:28.147903Z",
     "iopub.status.busy": "2024-10-26T21:26:28.146840Z",
     "iopub.status.idle": "2024-10-26T21:26:28.157355Z",
     "shell.execute_reply": "2024-10-26T21:26:28.156475Z"
    },
    "papermill": {
     "duration": 0.023061,
     "end_time": "2024-10-26T21:26:28.159546",
     "exception": false,
     "start_time": "2024-10-26T21:26:28.136485",
     "status": "completed"
    },
    "tags": []
   },
   "outputs": [],
   "source": [
    "def get_data(encode=False, impute=False, for_catboost=False):\n",
    "    train = pd.read_csv(CFG.train_path, index_col='id')\n",
    "    test = pd.read_csv(CFG.test_path, index_col='id')\n",
    "    original = pd.read_csv(CFG.original_data_path)\n",
    "    \n",
    "    if impute:\n",
    "        original['person_emp_length'] = original['person_emp_length'].fillna(original['person_emp_length'].median())\n",
    "        original['loan_int_rate'] = original['loan_int_rate'].fillna(original['loan_int_rate'].mean())\n",
    "    \n",
    "    if for_catboost:\n",
    "        cat_cols = test.columns.tolist()\n",
    "    else:\n",
    "        cat_cols = test.select_dtypes(include='object').columns.tolist()\n",
    "        \n",
    "    train[cat_cols] = train[cat_cols].astype(str).astype('category')\n",
    "    test[cat_cols] = test[cat_cols].astype(str).astype('category')\n",
    "    original[cat_cols] = original[cat_cols].astype(str).astype('category')\n",
    "    \n",
    "    if encode:\n",
    "        encoder = OrdinalEncoder()\n",
    "        train[cat_cols] = encoder.fit_transform(train[cat_cols])\n",
    "        test[cat_cols] = encoder.transform(test[cat_cols])\n",
    "        original[cat_cols] = encoder.transform(original[cat_cols])\n",
    "        \n",
    "    X = train.drop(CFG.target, axis=1)\n",
    "    y = train[CFG.target]\n",
    "    X_test = test\n",
    "    \n",
    "    X_original = original.drop(CFG.target, axis=1)\n",
    "    y_original = original[CFG.target]\n",
    "    \n",
    "    return X, y, X_test, X_original, y_original"
   ]
  },
  {
   "cell_type": "markdown",
   "id": "cc955857",
   "metadata": {
    "papermill": {
     "duration": 0.009029,
     "end_time": "2024-10-26T21:26:28.177970",
     "exception": false,
     "start_time": "2024-10-26T21:26:28.168941",
     "status": "completed"
    },
    "tags": []
   },
   "source": [
    "Both correlation and mutual information show that there is little signal in `person_age` and `cb_person_cred_hist_length`. However, I'll leave both of them in the dataset since there is some signal in them."
   ]
  },
  {
   "cell_type": "code",
   "execution_count": 10,
   "id": "2728484c",
   "metadata": {
    "execution": {
     "iopub.execute_input": "2024-10-26T21:26:28.198208Z",
     "iopub.status.busy": "2024-10-26T21:26:28.197557Z",
     "iopub.status.idle": "2024-10-26T21:26:32.058655Z",
     "shell.execute_reply": "2024-10-26T21:26:32.057478Z"
    },
    "papermill": {
     "duration": 3.875107,
     "end_time": "2024-10-26T21:26:32.062272",
     "exception": false,
     "start_time": "2024-10-26T21:26:28.187165",
     "status": "completed"
    },
    "tags": []
   },
   "outputs": [
    {
     "data": {
      "text/html": [
       "<style type=\"text/css\">\n",
       "#T_64677_row0_col0 {\n",
       "  width: 10em;\n",
       "  background: linear-gradient(90deg, #006837 100.0%, transparent 100.0%);\n",
       "}\n",
       "#T_64677_row1_col0 {\n",
       "  width: 10em;\n",
       "  background: linear-gradient(90deg, #36a657 86.0%, transparent 86.0%);\n",
       "}\n",
       "#T_64677_row2_col0 {\n",
       "  width: 10em;\n",
       "  background: linear-gradient(90deg, #45ad5b 84.4%, transparent 84.4%);\n",
       "}\n",
       "#T_64677_row3_col0 {\n",
       "  width: 10em;\n",
       "  background: linear-gradient(90deg, #54b45f 82.3%, transparent 82.3%);\n",
       "}\n",
       "#T_64677_row4_col0 {\n",
       "  width: 10em;\n",
       "  background: linear-gradient(90deg, #fee797 42.4%, transparent 42.4%);\n",
       "}\n",
       "#T_64677_row5_col0 {\n",
       "  width: 10em;\n",
       "  background: linear-gradient(90deg, #ea5739 16.5%, transparent 16.5%);\n",
       "}\n",
       "#T_64677_row6_col0 {\n",
       "  width: 10em;\n",
       "  background: linear-gradient(90deg, #e34933 14.4%, transparent 14.4%);\n",
       "}\n",
       "#T_64677_row7_col0 {\n",
       "  width: 10em;\n",
       "  background: linear-gradient(90deg, #ce2827 8.6%, transparent 8.6%);\n",
       "}\n",
       "#T_64677_row8_col0 {\n",
       "  width: 10em;\n",
       "  background: linear-gradient(90deg, #c41e27 6.4%, transparent 6.4%);\n",
       "}\n",
       "#T_64677_row9_col0 {\n",
       "  width: 10em;\n",
       "  background: linear-gradient(90deg, #ad0826 1.7%, transparent 1.7%);\n",
       "}\n",
       "#T_64677_row10_col0 {\n",
       "  width: 10em;\n",
       "  background: linear-gradient(90deg, #a70226 0.8%, transparent 0.8%);\n",
       "}\n",
       "</style>\n",
       "<table id=\"T_64677\">\n",
       "  <thead>\n",
       "    <tr>\n",
       "      <th class=\"blank level0\" >&nbsp;</th>\n",
       "      <th id=\"T_64677_level0_col0\" class=\"col_heading level0 col0\" >Mutual Information</th>\n",
       "    </tr>\n",
       "  </thead>\n",
       "  <tbody>\n",
       "    <tr>\n",
       "      <th id=\"T_64677_level0_row0\" class=\"row_heading level0 row0\" >person_income</th>\n",
       "      <td id=\"T_64677_row0_col0\" class=\"data row0 col0\" >0.097826</td>\n",
       "    </tr>\n",
       "    <tr>\n",
       "      <th id=\"T_64677_level0_row1\" class=\"row_heading level0 row1\" >loan_int_rate</th>\n",
       "      <td id=\"T_64677_row1_col0\" class=\"data row1 col0\" >0.084167</td>\n",
       "    </tr>\n",
       "    <tr>\n",
       "      <th id=\"T_64677_level0_row2\" class=\"row_heading level0 row2\" >loan_percent_income</th>\n",
       "      <td id=\"T_64677_row2_col0\" class=\"data row2 col0\" >0.082536</td>\n",
       "    </tr>\n",
       "    <tr>\n",
       "      <th id=\"T_64677_level0_row3\" class=\"row_heading level0 row3\" >loan_grade</th>\n",
       "      <td id=\"T_64677_row3_col0\" class=\"data row3 col0\" >0.080511</td>\n",
       "    </tr>\n",
       "    <tr>\n",
       "      <th id=\"T_64677_level0_row4\" class=\"row_heading level0 row4\" >person_home_ownership</th>\n",
       "      <td id=\"T_64677_row4_col0\" class=\"data row4 col0\" >0.041433</td>\n",
       "    </tr>\n",
       "    <tr>\n",
       "      <th id=\"T_64677_level0_row5\" class=\"row_heading level0 row5\" >loan_amnt</th>\n",
       "      <td id=\"T_64677_row5_col0\" class=\"data row5 col0\" >0.016160</td>\n",
       "    </tr>\n",
       "    <tr>\n",
       "      <th id=\"T_64677_level0_row6\" class=\"row_heading level0 row6\" >cb_person_default_on_file</th>\n",
       "      <td id=\"T_64677_row6_col0\" class=\"data row6 col0\" >0.014135</td>\n",
       "    </tr>\n",
       "    <tr>\n",
       "      <th id=\"T_64677_level0_row7\" class=\"row_heading level0 row7\" >person_emp_length</th>\n",
       "      <td id=\"T_64677_row7_col0\" class=\"data row7 col0\" >0.008371</td>\n",
       "    </tr>\n",
       "    <tr>\n",
       "      <th id=\"T_64677_level0_row8\" class=\"row_heading level0 row8\" >loan_intent</th>\n",
       "      <td id=\"T_64677_row8_col0\" class=\"data row8 col0\" >0.006237</td>\n",
       "    </tr>\n",
       "    <tr>\n",
       "      <th id=\"T_64677_level0_row9\" class=\"row_heading level0 row9\" >cb_person_cred_hist_length</th>\n",
       "      <td id=\"T_64677_row9_col0\" class=\"data row9 col0\" >0.001656</td>\n",
       "    </tr>\n",
       "    <tr>\n",
       "      <th id=\"T_64677_level0_row10\" class=\"row_heading level0 row10\" >person_age</th>\n",
       "      <td id=\"T_64677_row10_col0\" class=\"data row10 col0\" >0.000739</td>\n",
       "    </tr>\n",
       "  </tbody>\n",
       "</table>\n"
      ],
      "text/plain": [
       "<pandas.io.formats.style.Styler at 0x7ed1dbc2cbe0>"
      ]
     },
     "execution_count": 10,
     "metadata": {},
     "output_type": "execute_result"
    }
   ],
   "source": [
    "X_mi, y_mi, _, _, _ = get_data(encode=True)\n",
    "\n",
    "mutual_info = mutual_info_classif(X_mi, y_mi, random_state=CFG.seed)\n",
    "\n",
    "mutual_info = pd.Series(mutual_info)\n",
    "mutual_info.index = X_mi.columns\n",
    "mutual_info = pd.DataFrame(mutual_info.sort_values(ascending=False), columns=['Mutual Information'])\n",
    "mutual_info.style.bar(subset=['Mutual Information'], cmap='RdYlGn')"
   ]
  },
  {
   "cell_type": "code",
   "execution_count": 11,
   "id": "cddbfdc2",
   "metadata": {
    "execution": {
     "iopub.execute_input": "2024-10-26T21:26:32.091466Z",
     "iopub.status.busy": "2024-10-26T21:26:32.090964Z",
     "iopub.status.idle": "2024-10-26T21:26:32.784333Z",
     "shell.execute_reply": "2024-10-26T21:26:32.783260Z"
    },
    "papermill": {
     "duration": 0.713557,
     "end_time": "2024-10-26T21:26:32.787834",
     "exception": false,
     "start_time": "2024-10-26T21:26:32.074277",
     "status": "completed"
    },
    "tags": []
   },
   "outputs": [
    {
     "data": {
      "image/png": "[encoded data removed]",
      "text/plain": [
       "<Figure size 800x800 with 1 Axes>"
      ]
     },
     "metadata": {},
     "output_type": "display_data"
    }
   ],
   "source": [
    "sns.set_style(\"white\")\n",
    "plt.figure(figsize=(8, 8))\n",
    "\n",
    "corr_train = pd.concat([X_mi, y_mi], axis=1).corr()\n",
    "mask_train = np.triu(np.ones_like(corr_train, dtype=bool), k=1)\n",
    "\n",
    "sns.heatmap(\n",
    "    data=corr_train,\n",
    "    annot=True,\n",
    "    fmt='.4f',\n",
    "    mask=mask_train,\n",
    "    square=True,\n",
    "    cmap='coolwarm',\n",
    "    annot_kws={'size': 8},\n",
    "    cbar=False\n",
    ")\n",
    "\n",
    "plt.tight_layout()\n",
    "plt.show()"
   ]
  },
  {
   "cell_type": "markdown",
   "id": "3c35aea9",
   "metadata": {
    "papermill": {
     "duration": 0.010907,
     "end_time": "2024-10-26T21:26:32.810417",
     "exception": false,
     "start_time": "2024-10-26T21:26:32.799510",
     "status": "completed"
    },
    "tags": []
   },
   "source": [
    "# Training base models\n",
    "\n",
    "To simplify the process of training, cross-validation, and inference, etc. I will create a class that handles all the necessary logic. This class will do cross-validation using `StratifiedKFold`, train the models, save their out-of-fold predictions, and create a submission file for the final ensemble model."
   ]
  },
  {
   "cell_type": "code",
   "execution_count": 12,
   "id": "4a911882",
   "metadata": {
    "execution": {
     "iopub.execute_input": "2024-10-26T21:26:32.834801Z",
     "iopub.status.busy": "2024-10-26T21:26:32.834317Z",
     "iopub.status.idle": "2024-10-26T21:26:32.853624Z",
     "shell.execute_reply": "2024-10-26T21:26:32.852507Z"
    },
    "papermill": {
     "duration": 0.034159,
     "end_time": "2024-10-26T21:26:32.855741",
     "exception": false,
     "start_time": "2024-10-26T21:26:32.821582",
     "status": "completed"
    },
    "tags": []
   },
   "outputs": [],
   "source": [
    "class Trainer:\n",
    "    def __init__(self, model, config=CFG, is_ensemble_model=False):\n",
    "        self.model = model\n",
    "        self.config = config\n",
    "        self.is_ensemble_model = is_ensemble_model\n",
    "\n",
    "    def fit_predict(self, X, y, X_test, X_original=None, y_original=None):\n",
    "        print(f'Training {self.model.__class__.__name__}\\n')\n",
    "        \n",
    "        scores = []        \n",
    "        coeffs = np.zeros((1, X.shape[1]))\n",
    "        oof_pred_probs = np.zeros((X.shape[0], len(np.unique(y))))\n",
    "        test_pred_probs = np.zeros((X_test.shape[0], len(np.unique(y))))\n",
    "        \n",
    "        skf = StratifiedKFold(n_splits=self.config.n_folds, random_state=self.config.seed, shuffle=True)\n",
    "        for fold_idx, (train_idx, val_idx) in enumerate(skf.split(X, y)):\n",
    "            X_train, X_val = X.iloc[train_idx], X.iloc[val_idx]\n",
    "            y_train, y_val = y[train_idx], y[val_idx]\n",
    "            \n",
    "            if not self.is_ensemble_model:\n",
    "                X_train = pd.concat([X_train, X_original], ignore_index=True)\n",
    "                y_train = pd.concat([y_train, y_original], ignore_index=True)\n",
    "            \n",
    "            model = clone(self.model)\n",
    "            model.fit(X_train, y_train)\n",
    "            \n",
    "            if self.is_ensemble_model:\n",
    "                coeffs += model.coef_ / self.config.n_folds\n",
    "                n_iters = model.n_iter_[0]\n",
    "            \n",
    "            y_pred_probs = model.predict_proba(X_val)\n",
    "            oof_pred_probs[val_idx] = y_pred_probs \n",
    "            \n",
    "            temp_test_pred_probs = model.predict_proba(X_test)\n",
    "            test_pred_probs += temp_test_pred_probs / self.config.n_folds\n",
    "            \n",
    "            score = roc_auc_score(y_val, y_pred_probs[:, 1])\n",
    "            scores.append(score)\n",
    "            \n",
    "            del model, X_train, y_train, X_val, y_val, y_pred_probs\n",
    "            gc.collect()\n",
    "            \n",
    "            if self.is_ensemble_model:\n",
    "                print(f'--- Fold {fold_idx + 1} - AUC: {score:.6f} ({n_iters} iterations)')\n",
    "            else:\n",
    "                print(f'--- Fold {fold_idx + 1} - AUC: {score:.6f}')\n",
    "            \n",
    "        overall_score = roc_auc_score(y, oof_pred_probs[:, 1])\n",
    "            \n",
    "        print(f'\\n------ Overall: {overall_score:.6f} | Average: {np.mean(scores):.6f} ± {np.std(scores):.6f}')\n",
    "        \n",
    "        if self.is_ensemble_model:\n",
    "            self._save_submission(test_pred_probs, np.mean(scores))\n",
    "            return scores, coeffs\n",
    "        else:\n",
    "            os.makedirs('oof_pred_probs', exist_ok=True)\n",
    "            os.makedirs('test_pred_probs', exist_ok=True)\n",
    "            self._save_pred_probs(oof_pred_probs, np.mean(scores), 'oof')\n",
    "            self._save_pred_probs(test_pred_probs, np.mean(scores), 'test')\n",
    "            return oof_pred_probs[:, 1], test_pred_probs[:, 1], scores\n",
    "        \n",
    "    def fit(self, X, y):\n",
    "        scores = []                \n",
    "        skf = StratifiedKFold(n_splits=self.config.n_folds, random_state=self.config.seed, shuffle=True)\n",
    "        for fold_idx, (train_idx, val_idx) in enumerate(skf.split(X, y)):\n",
    "            X_train, X_val = X.iloc[train_idx], X.iloc[val_idx]\n",
    "            y_train, y_val = y[train_idx], y[val_idx]\n",
    "            \n",
    "            model = clone(self.model)\n",
    "            model.fit(X_train, y_train)\n",
    "            \n",
    "            y_pred_probs = model.predict_proba(X_val)[:, 1]            \n",
    "            score = roc_auc_score(y_val, y_pred_probs)\n",
    "            scores.append(score)\n",
    "            \n",
    "            del model, X_train, y_train, X_val, y_val, y_pred_probs\n",
    "            gc.collect() \n",
    "        \n",
    "        return np.mean(scores)\n",
    "        \n",
    "    def _save_pred_probs(self, pred_probs, cv_score, name):\n",
    "        model_name = self.model.__class__.__name__.lower().replace('classifier', '')\n",
    "        with open(f'{name}_pred_probs/{model_name}_{name}_pred_probs_{cv_score:.6f}.pkl', 'wb') as f:\n",
    "            pickle.dump(pred_probs, f)\n",
    "    \n",
    "    def _save_submission(self, test_pred_probs, score):\n",
    "        name = self.model.__class__.__name__.lower().replace('classifier', '')\n",
    "        sub = pd.read_csv(self.config.sample_sub_path)\n",
    "        sub[self.config.target] = test_pred_probs[:, 1]\n",
    "        sub.to_csv(f'sub_{name}_{score:.6f}.csv', index=False)"
   ]
  },
  {
   "cell_type": "code",
   "execution_count": 13,
   "id": "5dbf21b6",
   "metadata": {
    "_kg_hide-input": true,
    "execution": {
     "iopub.execute_input": "2024-10-26T21:26:32.880265Z",
     "iopub.status.busy": "2024-10-26T21:26:32.879878Z",
     "iopub.status.idle": "2024-10-26T21:26:32.892369Z",
     "shell.execute_reply": "2024-10-26T21:26:32.891266Z"
    },
    "papermill": {
     "duration": 0.027309,
     "end_time": "2024-10-26T21:26:32.894576",
     "exception": false,
     "start_time": "2024-10-26T21:26:32.867267",
     "status": "completed"
    },
    "tags": []
   },
   "outputs": [],
   "source": [
    "hgb_params = {\n",
    "    'categorical_features': 'from_dtype',\n",
    "    'l2_regularization': 3.2797348813056515,\n",
    "    'learning_rate': 0.04290001508632896,\n",
    "    'max_depth': 292,\n",
    "    'max_features': 0.9605841946578942,\n",
    "    'max_iter': 2978,\n",
    "    'max_leaf_nodes': 38,\n",
    "    'min_samples_leaf': 254,\n",
    "    'random_state': 42\n",
    "}\n",
    "\n",
    "gb_params = {\n",
    "    'learning_rate': 0.08833803004190711,\n",
    "    'max_depth': 43,\n",
    "    'max_features': 0.9108379326449616,\n",
    "    'max_leaf_nodes': 90,\n",
    "    'min_samples_leaf': 0.001406080753553085,\n",
    "    'min_samples_split': 0.2161329645048441,\n",
    "    'min_weight_fraction_leaf': 0.0084269442985479,\n",
    "    'n_estimators': 1007,\n",
    "    'random_state': 1859,\n",
    "    'subsample': 0.8524736400390328\n",
    "}\n",
    "\n",
    "xgb_params = {\n",
    "    'colsample_bylevel': 0.8287361902765281,\n",
    "    'colsample_bynode': 0.9423662188378386,\n",
    "    'colsample_bytree': 0.5290351130333819,\n",
    "    'enable_categorical': True,\n",
    "    'gamma': 2.0820586756868225,\n",
    "    'max_depth': 38,\n",
    "    'max_leaves': 13,\n",
    "    'min_child_weight': 39.97571206223997,\n",
    "    'n_estimators': 1108,\n",
    "    'n_jobs': -1,\n",
    "    'random_state': 1859,\n",
    "    'reg_alpha': 2.0350480894293685,\n",
    "    'reg_lambda': 5.736601364769634,\n",
    "    'scale_pos_weight': 8.694642665692317,\n",
    "    'subsample': 0.9781226079064314,\n",
    "    'verbosity': 0\n",
    "}\n",
    "\n",
    "lgbm_params = {\n",
    "    'boosting_type': 'gbdt',\n",
    "    'colsample_bytree': 0.26277977207676884,\n",
    "    'learning_rate': 0.07940835097768287,\n",
    "    'max_bins': 2960,\n",
    "    'min_child_samples': 153,\n",
    "    'min_child_weight': 0.6647684362329642,\n",
    "    'n_estimators': 1430,\n",
    "    'n_jobs': -1,\n",
    "    'num_leaves': 476,\n",
    "    'random_state': 42,\n",
    "    'reg_alpha': 43.81436264889119,\n",
    "    'reg_lambda': 23.726449306831626,\n",
    "    'scale_pos_weight': 31.815372683135543,\n",
    "    'subsample': 0.8741989238718226,\n",
    "    'verbose': -1\n",
    "}\n",
    "\n",
    "lgbm_dart_params = {\n",
    "    'boosting_type': 'dart',\n",
    "    'colsample_bytree': 0.46939540409784575,\n",
    "    'learning_rate': 0.0877911638744417,\n",
    "    'min_child_samples': 61,\n",
    "    'min_child_weight': 0.7580677713575383,\n",
    "    'n_estimators': 877,\n",
    "    'n_jobs': -1,\n",
    "    'num_leaves': 35,\n",
    "    'random_state': 1859,\n",
    "    'reg_alpha': 2.5638237507752457,\n",
    "    'reg_lambda': 1.8975230326974724,\n",
    "    'scale_pos_weight': 2.7023753131827455,\n",
    "    'subsample': 0.8009452917870442,\n",
    "    'verbose': -1\n",
    "}\n",
    "\n",
    "lgbm_goss_params = {\n",
    "    'boosting_type': 'goss',\n",
    "    'colsample_bytree': 0.24954643970263424,\n",
    "    'learning_rate': 0.07188725215845243,\n",
    "    'max_bins': 5626,\n",
    "    'min_child_samples': 22,\n",
    "    'min_child_weight': 0.7179252102190649,\n",
    "    'n_estimators': 1319,\n",
    "    'n_jobs': -1,\n",
    "    'num_leaves': 21,\n",
    "    'random_state': 42,\n",
    "    'reg_alpha': 6.047743594793198,\n",
    "    'reg_lambda': 5.277073776908381,\n",
    "    'scale_pos_weight': 5.885539605359165,\n",
    "    'subsample': 0.16046944461130142,\n",
    "    'verbose': -1\n",
    "}\n",
    "\n",
    "cb_params = {\n",
    "    'border_count': 233,\n",
    "    'colsample_bylevel': 0.411551721028093,\n",
    "    'depth': 8,\n",
    "    'iterations': 1664,\n",
    "    'l2_leaf_reg': 1.5162407257384525,\n",
    "    'learning_rate': 0.01380027964891961,\n",
    "    'min_child_samples': 218,\n",
    "    'random_state': 1859,\n",
    "    'random_strength': 0.4028418793015393,\n",
    "    'scale_pos_weight': 1.7183429881588008,\n",
    "    'subsample': 0.996166121986487,\n",
    "    'verbose': False\n",
    "}"
   ]
  },
  {
   "cell_type": "code",
   "execution_count": 14,
   "id": "5fb30cee",
   "metadata": {
    "execution": {
     "iopub.execute_input": "2024-10-26T21:26:32.919114Z",
     "iopub.status.busy": "2024-10-26T21:26:32.918717Z",
     "iopub.status.idle": "2024-10-26T21:26:32.923397Z",
     "shell.execute_reply": "2024-10-26T21:26:32.922484Z"
    },
    "papermill": {
     "duration": 0.019409,
     "end_time": "2024-10-26T21:26:32.925522",
     "exception": false,
     "start_time": "2024-10-26T21:26:32.906113",
     "status": "completed"
    },
    "tags": []
   },
   "outputs": [],
   "source": [
    "scores = {}\n",
    "oof_pred_probs = {}\n",
    "test_pred_probs = {}"
   ]
  },
  {
   "cell_type": "code",
   "execution_count": 15,
   "id": "4eeaf630",
   "metadata": {
    "execution": {
     "iopub.execute_input": "2024-10-26T21:26:32.951456Z",
     "iopub.status.busy": "2024-10-26T21:26:32.951037Z",
     "iopub.status.idle": "2024-10-26T21:27:45.928397Z",
     "shell.execute_reply": "2024-10-26T21:27:45.927347Z"
    },
    "papermill": {
     "duration": 72.993593,
     "end_time": "2024-10-26T21:27:45.930699",
     "exception": false,
     "start_time": "2024-10-26T21:26:32.937106",
     "status": "completed"
    },
    "tags": []
   },
   "outputs": [
    {
     "name": "stdout",
     "output_type": "stream",
     "text": [
      "Training HistGradientBoostingClassifier\n",
      "\n",
      "--- Fold 1 - AUC: 0.956944\n",
      "--- Fold 2 - AUC: 0.952018\n",
      "--- Fold 3 - AUC: 0.963487\n",
      "--- Fold 4 - AUC: 0.962160\n",
      "--- Fold 5 - AUC: 0.958239\n",
      "--- Fold 6 - AUC: 0.953267\n",
      "--- Fold 7 - AUC: 0.959733\n",
      "--- Fold 8 - AUC: 0.959716\n",
      "--- Fold 9 - AUC: 0.960395\n",
      "--- Fold 10 - AUC: 0.955602\n",
      "\n",
      "------ Overall: 0.958084 | Average: 0.958156 ± 0.003521\n"
     ]
    }
   ],
   "source": [
    "X, y, X_test, X_original, y_original = get_data(encode=False, impute=False)\n",
    "hgb_model = HistGradientBoostingClassifier(**hgb_params)\n",
    "hgb_trainer = Trainer(hgb_model)\n",
    "oof_pred_probs['HistGB'], test_pred_probs['HistGB'], scores['HistGB'] = hgb_trainer.fit_predict(X, y, X_test, X_original, y_original)"
   ]
  },
  {
   "cell_type": "code",
   "execution_count": 16,
   "id": "7afdfedb",
   "metadata": {
    "execution": {
     "iopub.execute_input": "2024-10-26T21:27:45.956447Z",
     "iopub.status.busy": "2024-10-26T21:27:45.956068Z",
     "iopub.status.idle": "2024-10-26T21:58:56.043108Z",
     "shell.execute_reply": "2024-10-26T21:58:56.042076Z"
    },
    "papermill": {
     "duration": 1870.115201,
     "end_time": "2024-10-26T21:58:56.058087",
     "exception": false,
     "start_time": "2024-10-26T21:27:45.942886",
     "status": "completed"
    },
    "tags": []
   },
   "outputs": [
    {
     "name": "stdout",
     "output_type": "stream",
     "text": [
      "Training GradientBoostingClassifier\n",
      "\n",
      "--- Fold 1 - AUC: 0.959789\n",
      "--- Fold 2 - AUC: 0.954711\n",
      "--- Fold 3 - AUC: 0.967951\n",
      "--- Fold 4 - AUC: 0.965224\n",
      "--- Fold 5 - AUC: 0.961328\n",
      "--- Fold 6 - AUC: 0.958538\n",
      "--- Fold 7 - AUC: 0.961706\n",
      "--- Fold 8 - AUC: 0.964061\n",
      "--- Fold 9 - AUC: 0.963288\n",
      "--- Fold 10 - AUC: 0.960343\n",
      "\n",
      "------ Overall: 0.961688 | Average: 0.961694 ± 0.003522\n"
     ]
    }
   ],
   "source": [
    "X, y, X_test, X_original, y_original = get_data(encode=True, impute=True)\n",
    "gb_model = GradientBoostingClassifier(**gb_params)\n",
    "gb_trainer = Trainer(gb_model)\n",
    "oof_pred_probs['GradientBoosting'], test_pred_probs['GradientBoosting'], scores['GradientBoosting'] = gb_trainer.fit_predict(X, y, X_test, X_original, y_original)"
   ]
  },
  {
   "cell_type": "code",
   "execution_count": 17,
   "id": "6d11fa27",
   "metadata": {
    "execution": {
     "iopub.execute_input": "2024-10-26T21:58:56.085621Z",
     "iopub.status.busy": "2024-10-26T21:58:56.084708Z",
     "iopub.status.idle": "2024-10-26T21:59:32.895193Z",
     "shell.execute_reply": "2024-10-26T21:59:32.894087Z"
    },
    "papermill": {
     "duration": 36.82663,
     "end_time": "2024-10-26T21:59:32.897448",
     "exception": false,
     "start_time": "2024-10-26T21:58:56.070818",
     "status": "completed"
    },
    "tags": []
   },
   "outputs": [
    {
     "name": "stdout",
     "output_type": "stream",
     "text": [
      "Training XGBClassifier\n",
      "\n",
      "--- Fold 1 - AUC: 0.955595\n",
      "--- Fold 2 - AUC: 0.954150\n",
      "--- Fold 3 - AUC: 0.966609\n",
      "--- Fold 4 - AUC: 0.966479\n",
      "--- Fold 5 - AUC: 0.959810\n",
      "--- Fold 6 - AUC: 0.955758\n",
      "--- Fold 7 - AUC: 0.959522\n",
      "--- Fold 8 - AUC: 0.960249\n",
      "--- Fold 9 - AUC: 0.963413\n",
      "--- Fold 10 - AUC: 0.958134\n",
      "\n",
      "------ Overall: 0.959940 | Average: 0.959972 ± 0.004156\n"
     ]
    }
   ],
   "source": [
    "X, y, X_test, X_original, y_original = get_data(encode=False, impute=False)\n",
    "xgb_model = XGBClassifier(**xgb_params)\n",
    "xgb_trainer = Trainer(xgb_model)\n",
    "oof_pred_probs['XGBoost'], test_pred_probs['XGBoost'], scores['XGBoost'] = xgb_trainer.fit_predict(X, y, X_test, X_original, y_original)"
   ]
  },
  {
   "cell_type": "code",
   "execution_count": 18,
   "id": "7598c6f1",
   "metadata": {
    "execution": {
     "iopub.execute_input": "2024-10-26T21:59:32.926476Z",
     "iopub.status.busy": "2024-10-26T21:59:32.926050Z",
     "iopub.status.idle": "2024-10-26T22:03:12.300789Z",
     "shell.execute_reply": "2024-10-26T22:03:12.299786Z"
    },
    "papermill": {
     "duration": 219.406417,
     "end_time": "2024-10-26T22:03:12.317633",
     "exception": false,
     "start_time": "2024-10-26T21:59:32.911216",
     "status": "completed"
    },
    "tags": []
   },
   "outputs": [
    {
     "name": "stdout",
     "output_type": "stream",
     "text": [
      "Training LGBMClassifier\n",
      "\n",
      "--- Fold 1 - AUC: 0.959673\n",
      "--- Fold 2 - AUC: 0.958470\n",
      "--- Fold 3 - AUC: 0.967989\n",
      "--- Fold 4 - AUC: 0.969271\n",
      "--- Fold 5 - AUC: 0.963728\n",
      "--- Fold 6 - AUC: 0.961545\n",
      "--- Fold 7 - AUC: 0.964018\n",
      "--- Fold 8 - AUC: 0.966450\n",
      "--- Fold 9 - AUC: 0.963968\n",
      "--- Fold 10 - AUC: 0.962493\n",
      "\n",
      "------ Overall: 0.963772 | Average: 0.963760 ± 0.003268\n"
     ]
    }
   ],
   "source": [
    "X, y, X_test, X_original, y_original = get_data(encode=False, impute=False)\n",
    "lgbm_model = LGBMClassifier(**lgbm_params)\n",
    "lgbm_trainer = Trainer(lgbm_model)\n",
    "oof_pred_probs['LightGBM'], test_pred_probs['LightGBM'], scores['LightGBM'] = lgbm_trainer.fit_predict(X, y, X_test, X_original, y_original)"
   ]
  },
  {
   "cell_type": "code",
   "execution_count": 19,
   "id": "9575ca46",
   "metadata": {
    "execution": {
     "iopub.execute_input": "2024-10-26T22:03:12.348384Z",
     "iopub.status.busy": "2024-10-26T22:03:12.347487Z",
     "iopub.status.idle": "2024-10-26T22:37:59.550671Z",
     "shell.execute_reply": "2024-10-26T22:37:59.549674Z"
    },
    "papermill": {
     "duration": 2087.235962,
     "end_time": "2024-10-26T22:37:59.567709",
     "exception": false,
     "start_time": "2024-10-26T22:03:12.331747",
     "status": "completed"
    },
    "tags": []
   },
   "outputs": [
    {
     "name": "stdout",
     "output_type": "stream",
     "text": [
      "Training LGBMClassifier\n",
      "\n",
      "--- Fold 1 - AUC: 0.959358\n",
      "--- Fold 2 - AUC: 0.956724\n",
      "--- Fold 3 - AUC: 0.968584\n",
      "--- Fold 4 - AUC: 0.966795\n",
      "--- Fold 5 - AUC: 0.962158\n",
      "--- Fold 6 - AUC: 0.959463\n",
      "--- Fold 7 - AUC: 0.963890\n",
      "--- Fold 8 - AUC: 0.964115\n",
      "--- Fold 9 - AUC: 0.964546\n",
      "--- Fold 10 - AUC: 0.961203\n",
      "\n",
      "------ Overall: 0.962673 | Average: 0.962684 ± 0.003437\n"
     ]
    }
   ],
   "source": [
    "X, y, X_test, X_original, y_original = get_data(encode=False, impute=False)\n",
    "lgbm_dart_model = LGBMClassifier(**lgbm_dart_params)\n",
    "lgbm_dart_trainer = Trainer(lgbm_dart_model)\n",
    "oof_pred_probs['LightGBM (dart)'], test_pred_probs['LightGBM (dart)'], scores['LightGBM (dart)'] = lgbm_dart_trainer.fit_predict(X, y, X_test, X_original, y_original)"
   ]
  },
  {
   "cell_type": "code",
   "execution_count": 20,
   "id": "c828c143",
   "metadata": {
    "execution": {
     "iopub.execute_input": "2024-10-26T22:37:59.599800Z",
     "iopub.status.busy": "2024-10-26T22:37:59.599116Z",
     "iopub.status.idle": "2024-10-26T22:41:55.807040Z",
     "shell.execute_reply": "2024-10-26T22:41:55.805965Z"
    },
    "papermill": {
     "duration": 236.242556,
     "end_time": "2024-10-26T22:41:55.824867",
     "exception": false,
     "start_time": "2024-10-26T22:37:59.582311",
     "status": "completed"
    },
    "tags": []
   },
   "outputs": [
    {
     "name": "stdout",
     "output_type": "stream",
     "text": [
      "Training LGBMClassifier\n",
      "\n",
      "--- Fold 1 - AUC: 0.961387\n",
      "--- Fold 2 - AUC: 0.958823\n",
      "--- Fold 3 - AUC: 0.970367\n",
      "--- Fold 4 - AUC: 0.969422\n",
      "--- Fold 5 - AUC: 0.964222\n",
      "--- Fold 6 - AUC: 0.962810\n",
      "--- Fold 7 - AUC: 0.965342\n",
      "--- Fold 8 - AUC: 0.965717\n",
      "--- Fold 9 - AUC: 0.966621\n",
      "--- Fold 10 - AUC: 0.963515\n",
      "\n",
      "------ Overall: 0.964812 | Average: 0.964823 ± 0.003318\n"
     ]
    }
   ],
   "source": [
    "X, y, X_test, X_original, y_original = get_data(encode=False, impute=False, for_catboost=False)\n",
    "lgbm_goss_model = LGBMClassifier(**lgbm_goss_params)\n",
    "lgbm_goss_trainer = Trainer(lgbm_goss_model)\n",
    "oof_pred_probs['LightGBM (goss)'], test_pred_probs['LightGBM (goss)'], scores['LightGBM (goss)'] = lgbm_goss_trainer.fit_predict(X, y, X_test, X_original, y_original)"
   ]
  },
  {
   "cell_type": "code",
   "execution_count": 21,
   "id": "d031c4c2",
   "metadata": {
    "execution": {
     "iopub.execute_input": "2024-10-26T22:41:55.858207Z",
     "iopub.status.busy": "2024-10-26T22:41:55.857809Z",
     "iopub.status.idle": "2024-10-26T23:24:32.659122Z",
     "shell.execute_reply": "2024-10-26T23:24:32.658073Z"
    },
    "papermill": {
     "duration": 2556.836614,
     "end_time": "2024-10-26T23:24:32.677347",
     "exception": false,
     "start_time": "2024-10-26T22:41:55.840733",
     "status": "completed"
    },
    "tags": []
   },
   "outputs": [
    {
     "name": "stdout",
     "output_type": "stream",
     "text": [
      "Training CatBoostClassifier\n",
      "\n",
      "--- Fold 1 - AUC: 0.966326\n",
      "--- Fold 2 - AUC: 0.961392\n",
      "--- Fold 3 - AUC: 0.973456\n",
      "--- Fold 4 - AUC: 0.971025\n",
      "--- Fold 5 - AUC: 0.968864\n",
      "--- Fold 6 - AUC: 0.968688\n",
      "--- Fold 7 - AUC: 0.969571\n",
      "--- Fold 8 - AUC: 0.972164\n",
      "--- Fold 9 - AUC: 0.968920\n",
      "--- Fold 10 - AUC: 0.966357\n",
      "\n",
      "------ Overall: 0.968637 | Average: 0.968676 ± 0.003246\n"
     ]
    }
   ],
   "source": [
    "X, y, X_test, X_original, y_original = get_data(encode=False, impute=True, for_catboost=True)\n",
    "cb_model = CatBoostClassifier(**cb_params, cat_features=X.columns.tolist())\n",
    "cb_trainer = Trainer(cb_model)\n",
    "oof_pred_probs['CatBoost'], test_pred_probs['CatBoost'], scores['CatBoost'] = cb_trainer.fit_predict(X, y, X_test, X_original, y_original)"
   ]
  },
  {
   "cell_type": "markdown",
   "id": "88850786",
   "metadata": {
    "papermill": {
     "duration": 0.015975,
     "end_time": "2024-10-26T23:24:32.709505",
     "exception": false,
     "start_time": "2024-10-26T23:24:32.693530",
     "status": "completed"
    },
    "tags": []
   },
   "source": [
    "# Ensembling with Logistic Regression\n",
    "\n",
    "I will use `LogisticRegression` to ensemble the predictions of the base models. The predictions are converted to logits and fed into the logistic regression model as features."
   ]
  },
  {
   "cell_type": "code",
   "execution_count": 22,
   "id": "e873da40",
   "metadata": {
    "execution": {
     "iopub.execute_input": "2024-10-26T23:24:32.744279Z",
     "iopub.status.busy": "2024-10-26T23:24:32.743398Z",
     "iopub.status.idle": "2024-10-26T23:24:32.770753Z",
     "shell.execute_reply": "2024-10-26T23:24:32.769865Z"
    },
    "papermill": {
     "duration": 0.047266,
     "end_time": "2024-10-26T23:24:32.773006",
     "exception": false,
     "start_time": "2024-10-26T23:24:32.725740",
     "status": "completed"
    },
    "tags": []
   },
   "outputs": [],
   "source": [
    "X = logit(pd.DataFrame(oof_pred_probs).clip(1e-15, 1-1e-15))\n",
    "X_test = logit(pd.DataFrame(test_pred_probs).clip(1e-15, 1-1e-15))"
   ]
  },
  {
   "cell_type": "code",
   "execution_count": 23,
   "id": "20fce05e",
   "metadata": {
    "_kg_hide-input": false,
    "_kg_hide-output": true,
    "execution": {
     "iopub.execute_input": "2024-10-26T23:24:32.807762Z",
     "iopub.status.busy": "2024-10-26T23:24:32.806888Z",
     "iopub.status.idle": "2024-10-26T23:43:18.152942Z",
     "shell.execute_reply": "2024-10-26T23:43:18.151836Z"
    },
    "papermill": {
     "duration": 1125.365729,
     "end_time": "2024-10-26T23:43:18.155126",
     "exception": false,
     "start_time": "2024-10-26T23:24:32.789397",
     "status": "completed"
    },
    "scrolled": true,
    "tags": []
   },
   "outputs": [
    {
     "name": "stderr",
     "output_type": "stream",
     "text": [
      "[I 2024-10-26 23:24:32,812] A new study created in memory with name: no-name-3274e798-5716-47d0-88ba-7fd1d638473f\n",
      "[I 2024-10-26 23:24:35,813] Trial 1 finished with value: 0.9665986362371066 and parameters: {'C': 8.947327796194683, 'tol': 0.0742738992037443}. Best is trial 1 with value: 0.9665986362371066.\n",
      "[I 2024-10-26 23:24:35,844] Trial 2 finished with value: 0.9665986362371066 and parameters: {'C': 6.679165795675028, 'tol': 0.07841583114101283}. Best is trial 1 with value: 0.9665986362371066.\n",
      "[I 2024-10-26 23:24:38,957] Trial 0 finished with value: 0.9671397866990802 and parameters: {'C': 0.5939028278599823, 'tol': 0.0334529739322726}. Best is trial 0 with value: 0.9671397866990802.\n",
      "[I 2024-10-26 23:24:39,660] Trial 3 finished with value: 0.9674997978049145 and parameters: {'C': 2.0742302207403296, 'tol': 0.015232174230557918}. Best is trial 3 with value: 0.9674997978049145.\n",
      "[I 2024-10-26 23:24:42,312] Trial 5 finished with value: 0.967156691307084 and parameters: {'C': 5.3241850326645155, 'tol': 0.039443976021046136}. Best is trial 3 with value: 0.9674997978049145.\n",
      "[I 2024-10-26 23:24:43,578] Trial 4 finished with value: 0.9678525130143077 and parameters: {'C': 6.424427796271911, 'tol': 0.01068719370765469}. Best is trial 4 with value: 0.9678525130143077.\n",
      "[I 2024-10-26 23:24:43,779] Trial 7 finished with value: 0.9665986362371066 and parameters: {'C': 2.5482797802223622, 'tol': 0.0868367212559948}. Best is trial 4 with value: 0.9678525130143077.\n",
      "[I 2024-10-26 23:24:45,291] Trial 6 finished with value: 0.9671562388652358 and parameters: {'C': 0.7229790363751376, 'tol': 0.050860955192975746}. Best is trial 4 with value: 0.9678525130143077.\n",
      "[I 2024-10-26 23:24:47,923] Trial 9 finished with value: 0.9665986362371066 and parameters: {'C': 0.5188401995558012, 'tol': 0.0727474403346771}. Best is trial 4 with value: 0.9678525130143077.\n",
      "[I 2024-10-26 23:24:49,841] Trial 8 finished with value: 0.9678525368235482 and parameters: {'C': 8.684563080489397, 'tol': 0.012195676030947487}. Best is trial 8 with value: 0.9678525368235482.\n",
      "[I 2024-10-26 23:24:50,935] Trial 11 finished with value: 0.966846183626733 and parameters: {'C': 9.014213034223356, 'tol': 0.06479635763275335}. Best is trial 8 with value: 0.9678525368235482.\n",
      "[I 2024-10-26 23:24:52,245] Trial 10 finished with value: 0.9690330175907228 and parameters: {'C': 9.201555369848196, 'tol': 0.002143714361571512}. Best is trial 10 with value: 0.9690330175907228.\n",
      "[I 2024-10-26 23:24:53,719] Trial 12 finished with value: 0.9672294870534461 and parameters: {'C': 5.906377715237446, 'tol': 0.02997821158440185}. Best is trial 10 with value: 0.9690330175907228.\n",
      "[I 2024-10-26 23:24:56,281] Trial 13 finished with value: 0.9684690669665044 and parameters: {'C': 9.186684794502526, 'tol': 0.00826076171800027}. Best is trial 10 with value: 0.9690330175907228.\n",
      "[I 2024-10-26 23:24:59,066] Trial 15 finished with value: 0.9689985409868889 and parameters: {'C': 9.796995747345793, 'tol': 0.004439692889694272}. Best is trial 10 with value: 0.9690330175907228.\n",
      "[I 2024-10-26 23:25:00,384] Trial 14 finished with value: 0.9694912273779165 and parameters: {'C': 7.101450926209933, 'tol': 0.0013693190326289906}. Best is trial 14 with value: 0.9694912273779165.\n",
      "[I 2024-10-26 23:25:03,322] Trial 16 finished with value: 0.9695011816288327 and parameters: {'C': 9.864594743541614, 'tol': 0.0010913793372973133}. Best is trial 16 with value: 0.9695011816288327.\n",
      "[I 2024-10-26 23:25:06,877] Trial 19 finished with value: 0.9674587430000793 and parameters: {'C': 7.449395593947724, 'tol': 0.022244927436673827}. Best is trial 16 with value: 0.9695011816288327.\n",
      "[I 2024-10-26 23:25:09,681] Trial 18 finished with value: 0.9694913464619933 and parameters: {'C': 9.982555045015163, 'tol': 0.0012532122324480366}. Best is trial 16 with value: 0.9695011816288327.\n",
      "[I 2024-10-26 23:25:09,717] Trial 20 finished with value: 0.9674587430000793 and parameters: {'C': 7.639467011786847, 'tol': 0.023024944091956892}. Best is trial 16 with value: 0.9695011816288327.\n",
      "[I 2024-10-26 23:25:11,235] Trial 17 finished with value: 0.969578756328614 and parameters: {'C': 7.76343137723938, 'tol': 6.401651777304153e-05}. Best is trial 17 with value: 0.969578756328614.\n",
      "[I 2024-10-26 23:25:12,721] Trial 21 finished with value: 0.9671567151115902 and parameters: {'C': 4.129211009779557, 'tol': 0.04763521912187813}. Best is trial 17 with value: 0.969578756328614.\n",
      "[I 2024-10-26 23:25:13,480] Trial 23 finished with value: 0.9665986362371066 and parameters: {'C': 4.83934972335894, 'tol': 0.09821963521217573}. Best is trial 17 with value: 0.969578756328614.\n",
      "[I 2024-10-26 23:25:13,674] Trial 22 finished with value: 0.9665986362371066 and parameters: {'C': 4.113315137213931, 'tol': 0.0975887806648492}. Best is trial 17 with value: 0.969578756328614.\n",
      "[I 2024-10-26 23:25:18,622] Trial 24 finished with value: 0.9674587191861045 and parameters: {'C': 9.938753304137625, 'tol': 0.019021660949187367}. Best is trial 17 with value: 0.969578756328614.\n",
      "[I 2024-10-26 23:25:19,396] Trial 25 finished with value: 0.9674587430000793 and parameters: {'C': 8.045502685722077, 'tol': 0.01958740177988918}. Best is trial 17 with value: 0.969578756328614.\n",
      "[I 2024-10-26 23:25:20,631] Trial 26 finished with value: 0.9674587430000793 and parameters: {'C': 8.275931815091099, 'tol': 0.021248956251237384}. Best is trial 17 with value: 0.969578756328614.\n",
      "[I 2024-10-26 23:25:20,861] Trial 27 finished with value: 0.9674587191861045 and parameters: {'C': 9.95554578853374, 'tol': 0.02138420677683725}. Best is trial 17 with value: 0.969578756328614.\n",
      "[I 2024-10-26 23:25:27,446] Trial 30 finished with value: 0.9680252289130753 and parameters: {'C': 8.181873040533073, 'tol': 0.00918773401990098}. Best is trial 17 with value: 0.969578756328614.\n",
      "[I 2024-10-26 23:25:29,685] Trial 31 finished with value: 0.9692149741070724 and parameters: {'C': 8.417681949798254, 'tol': 0.0016735681660563968}. Best is trial 17 with value: 0.969578756328614.\n",
      "[I 2024-10-26 23:25:30,490] Trial 28 finished with value: 0.969509681475565 and parameters: {'C': 7.891819418345106, 'tol': 0.0007143525569581356}. Best is trial 17 with value: 0.969578756328614.\n",
      "[I 2024-10-26 23:25:31,489] Trial 29 finished with value: 0.9695428270297108 and parameters: {'C': 8.276901753088602, 'tol': 0.0005872840418046597}. Best is trial 17 with value: 0.969578756328614.\n",
      "[I 2024-10-26 23:25:33,972] Trial 32 finished with value: 0.9671400962618145 and parameters: {'C': 9.495007171896102, 'tol': 0.033762833222541797}. Best is trial 17 with value: 0.969578756328614.\n",
      "[I 2024-10-26 23:25:35,255] Trial 33 finished with value: 0.9668412551139772 and parameters: {'C': 9.50446445837077, 'tol': 0.05677695297307987}. Best is trial 17 with value: 0.969578756328614.\n",
      "[I 2024-10-26 23:25:37,223] Trial 34 finished with value: 0.9672295346813957 and parameters: {'C': 9.243600455847899, 'tol': 0.029848311281748724}. Best is trial 17 with value: 0.969578756328614.\n",
      "[I 2024-10-26 23:25:38,634] Trial 35 finished with value: 0.9684689717200741 and parameters: {'C': 7.078713845929542, 'tol': 0.008304149025618117}. Best is trial 17 with value: 0.969578756328614.\n",
      "[I 2024-10-26 23:25:41,724] Trial 36 finished with value: 0.9689535875550572 and parameters: {'C': 6.873611597903645, 'tol': 0.007419665790914888}. Best is trial 17 with value: 0.969578756328614.\n",
      "[I 2024-10-26 23:25:43,075] Trial 37 finished with value: 0.9689845395580645 and parameters: {'C': 6.745803397869061, 'tol': 0.007282671380090803}. Best is trial 17 with value: 0.969578756328614.\n",
      "[I 2024-10-26 23:25:44,280] Trial 38 finished with value: 0.9674999644790659 and parameters: {'C': 6.534056789223552, 'tol': 0.014927675209381005}. Best is trial 17 with value: 0.969578756328614.\n",
      "[I 2024-10-26 23:25:45,931] Trial 39 finished with value: 0.9676341800502527 and parameters: {'C': 6.052422153153159, 'tol': 0.01343307050212965}. Best is trial 17 with value: 0.969578756328614.\n",
      "[I 2024-10-26 23:25:48,689] Trial 40 finished with value: 0.9674613143980387 and parameters: {'C': 6.265088254279231, 'tol': 0.016198064282671495}. Best is trial 17 with value: 0.969578756328614.\n",
      "[I 2024-10-26 23:25:50,216] Trial 41 finished with value: 0.9674999406650912 and parameters: {'C': 6.3092592156309, 'tol': 0.01503241607903695}. Best is trial 17 with value: 0.969578756328614.\n",
      "[I 2024-10-26 23:25:51,053] Trial 42 finished with value: 0.9674998930466103 and parameters: {'C': 5.935014664493821, 'tol': 0.015353757981087374}. Best is trial 17 with value: 0.969578756328614.\n",
      "[I 2024-10-26 23:25:51,961] Trial 43 finished with value: 0.9671566674931092 and parameters: {'C': 7.723840884982272, 'tol': 0.03878457440588792}. Best is trial 17 with value: 0.969578756328614.\n",
      "[I 2024-10-26 23:25:55,966] Trial 44 finished with value: 0.96902699385291 and parameters: {'C': 7.840768051415218, 'tol': 0.0024010022081827082}. Best is trial 17 with value: 0.969578756328614.\n",
      "[I 2024-10-26 23:26:00,009] Trial 45 finished with value: 0.9694913226148779 and parameters: {'C': 7.648531258164476, 'tol': 0.0013273671029208735}. Best is trial 17 with value: 0.969578756328614.\n",
      "[I 2024-10-26 23:26:02,866] Trial 47 finished with value: 0.9695752545664782 and parameters: {'C': 8.905434703355546, 'tol': 0.00038245468805018194}. Best is trial 17 with value: 0.969578756328614.\n",
      "[I 2024-10-26 23:26:03,190] Trial 46 finished with value: 0.9695758031495563 and parameters: {'C': 8.671372869781761, 'tol': 0.00011423961995357733}. Best is trial 17 with value: 0.969578756328614.\n",
      "[I 2024-10-26 23:26:06,668] Trial 49 finished with value: 0.9689907299842316 and parameters: {'C': 8.751565603837316, 'tol': 0.0051590271015161246}. Best is trial 17 with value: 0.969578756328614.\n",
      "[I 2024-10-26 23:26:08,565] Trial 48 finished with value: 0.9695763984089718 and parameters: {'C': 8.7516920160697, 'tol': 0.00020640379701798023}. Best is trial 17 with value: 0.969578756328614.\n",
      "[I 2024-10-26 23:26:09,418] Trial 51 finished with value: 0.967307882658339 and parameters: {'C': 8.653694220712289, 'tol': 0.027259821389443724}. Best is trial 17 with value: 0.969578756328614.\n",
      "[I 2024-10-26 23:26:10,963] Trial 50 finished with value: 0.9689907061749914 and parameters: {'C': 8.468259446848455, 'tol': 0.0060061044073756835}. Best is trial 17 with value: 0.969578756328614.\n",
      "[I 2024-10-26 23:26:14,177] Trial 52 finished with value: 0.9678525368235482 and parameters: {'C': 8.693682629911036, 'tol': 0.011041569982642293}. Best is trial 17 with value: 0.969578756328614.\n",
      "[I 2024-10-26 23:26:16,149] Trial 53 finished with value: 0.9678525368235482 and parameters: {'C': 8.628047813289458, 'tol': 0.010870576917656494}. Best is trial 17 with value: 0.969578756328614.\n",
      "[I 2024-10-26 23:26:16,769] Trial 54 finished with value: 0.9678525368235482 and parameters: {'C': 8.779569155542507, 'tol': 0.01139782592982699}. Best is trial 17 with value: 0.969578756328614.\n",
      "[I 2024-10-26 23:26:18,304] Trial 55 finished with value: 0.9678525368282825 and parameters: {'C': 7.264269342263479, 'tol': 0.010256286569899253}. Best is trial 17 with value: 0.969578756328614.\n",
      "[I 2024-10-26 23:26:25,807] Trial 56 finished with value: 0.9695763746423409 and parameters: {'C': 7.478262546436238, 'tol': 0.0001732252623780375}. Best is trial 17 with value: 0.969578756328614.\n",
      "[I 2024-10-26 23:26:26,850] Trial 57 finished with value: 0.9695755879195153 and parameters: {'C': 7.32054420250886, 'tol': 0.0003454092876944672}. Best is trial 17 with value: 0.969578756328614.\n",
      "[I 2024-10-26 23:26:28,011] Trial 58 finished with value: 0.969575779340316 and parameters: {'C': 7.408953458460688, 'tol': 0.00010404545418806895}. Best is trial 17 with value: 0.969578756328614.\n",
      "[I 2024-10-26 23:26:32,846] Trial 59 finished with value: 0.9695803753995685 and parameters: {'C': 2.183292684319066, 'tol': 3.533927840989363e-05}. Best is trial 59 with value: 0.9695803753995685.\n",
      "[I 2024-10-26 23:26:33,659] Trial 60 finished with value: 0.9689988981018225 and parameters: {'C': 1.6853011350084026, 'tol': 0.005004902239519328}. Best is trial 59 with value: 0.9695803753995685.\n",
      "[I 2024-10-26 23:26:35,035] Trial 61 finished with value: 0.9689985409821545 and parameters: {'C': 9.147773293921016, 'tol': 0.004311715770096399}. Best is trial 59 with value: 0.9695803753995685.\n",
      "[I 2024-10-26 23:26:35,900] Trial 62 finished with value: 0.9689986838328624 and parameters: {'C': 5.39284849936092, 'tol': 0.004723876108047899}. Best is trial 59 with value: 0.9695803753995685.\n",
      "[I 2024-10-26 23:26:40,479] Trial 66 finished with value: 0.9665986362371066 and parameters: {'C': 1.4652293538996797, 'tol': 0.07815492410460964}. Best is trial 59 with value: 0.9695803753995685.\n",
      "[I 2024-10-26 23:26:41,092] Trial 63 finished with value: 0.9689987075900243 and parameters: {'C': 2.1820217569058533, 'tol': 0.004917788030515953}. Best is trial 59 with value: 0.9695803753995685.\n",
      "[I 2024-10-26 23:26:42,669] Trial 64 finished with value: 0.9690685443245617 and parameters: {'C': 0.011154315799203118, 'tol': 0.004994691009523445}. Best is trial 59 with value: 0.9695803753995685.\n",
      "[I 2024-10-26 23:26:44,000] Trial 65 finished with value: 0.9689988504928106 and parameters: {'C': 3.1811753539469114, 'tol': 0.005091816060514162}. Best is trial 59 with value: 0.9695803753995685.\n",
      "[I 2024-10-26 23:26:47,131] Trial 68 finished with value: 0.9668461121895431 and parameters: {'C': 3.4001247653578073, 'tol': 0.06654850297453191}. Best is trial 59 with value: 0.9695803753995685.\n",
      "[I 2024-10-26 23:26:47,946] Trial 69 finished with value: 0.966827870684881 and parameters: {'C': 3.480545237706716, 'tol': 0.06864264935581937}. Best is trial 59 with value: 0.9695803753995685.\n",
      "[I 2024-10-26 23:26:49,214] Trial 67 finished with value: 0.9689988504880761 and parameters: {'C': 3.035619775109016, 'tol': 0.004552543412896709}. Best is trial 59 with value: 0.9695803753995685.\n",
      "[I 2024-10-26 23:26:49,912] Trial 70 finished with value: 0.9668461598127582 and parameters: {'C': 7.458894048634858, 'tol': 0.06419336879126628}. Best is trial 59 with value: 0.9695803753995685.\n",
      "[I 2024-10-26 23:26:53,440] Trial 73 finished with value: 0.9665986362371066 and parameters: {'C': 7.393162190451984, 'tol': 0.08721996572915472}. Best is trial 59 with value: 0.9695803753995685.\n",
      "[I 2024-10-26 23:26:54,049] Trial 71 finished with value: 0.9674587430000793 and parameters: {'C': 7.44672949315031, 'tol': 0.01747308220023795}. Best is trial 59 with value: 0.9695803753995685.\n",
      "[I 2024-10-26 23:26:55,801] Trial 72 finished with value: 0.9684574480430024 and parameters: {'C': 7.522547614340924, 'tol': 0.00884606528840087}. Best is trial 59 with value: 0.9695803753995685.\n",
      "[I 2024-10-26 23:27:02,834] Trial 74 finished with value: 0.9695763745997314 and parameters: {'C': 8.059802069681517, 'tol': 0.00022494064313768823}. Best is trial 59 with value: 0.9695803753995685.\n",
      "[I 2024-10-26 23:27:03,857] Trial 75 finished with value: 0.9695095862670101 and parameters: {'C': 9.535739963422243, 'tol': 0.0007297795277711377}. Best is trial 59 with value: 0.9695803753995685.\n",
      "[I 2024-10-26 23:27:04,164] Trial 77 finished with value: 0.9693374828418951 and parameters: {'C': 9.469516674476893, 'tol': 0.0015975544741458944}. Best is trial 59 with value: 0.9695803753995685.\n",
      "[I 2024-10-26 23:27:05,968] Trial 76 finished with value: 0.9695762317726956 and parameters: {'C': 9.527441940899516, 'tol': 0.00010950803687003828}. Best is trial 59 with value: 0.9695803753995685.\n",
      "[I 2024-10-26 23:27:09,788] Trial 78 finished with value: 0.9690268985922768 and parameters: {'C': 6.989765433245323, 'tol': 0.002337909010757675}. Best is trial 59 with value: 0.9695803753995685.\n",
      "[I 2024-10-26 23:27:10,888] Trial 80 finished with value: 0.9689372068166229 and parameters: {'C': 8.087057750608002, 'tol': 0.007635850365639539}. Best is trial 59 with value: 0.9695803753995685.\n",
      "[I 2024-10-26 23:27:12,970] Trial 81 finished with value: 0.9689371830026481 and parameters: {'C': 8.195948081330469, 'tol': 0.007912812564037102}. Best is trial 59 with value: 0.9695803753995685.\n",
      "[I 2024-10-26 23:27:16,428] Trial 83 finished with value: 0.9671566674931092 and parameters: {'C': 5.514494869968481, 'tol': 0.050621809114210554}. Best is trial 59 with value: 0.9695803753995685.\n",
      "[I 2024-10-26 23:27:16,961] Trial 82 finished with value: 0.9689372068166229 and parameters: {'C': 8.07933829641485, 'tol': 0.007841591266237149}. Best is trial 59 with value: 0.9695803753995685.\n",
      "[I 2024-10-26 23:27:19,433] Trial 79 finished with value: 0.9695802801578728 and parameters: {'C': 8.075847477477685, 'tol': 4.2889949762397786e-05}. Best is trial 59 with value: 0.9695803753995685.\n",
      "[I 2024-10-26 23:27:23,408] Trial 85 finished with value: 0.967634346724404 and parameters: {'C': 7.8728506079559635, 'tol': 0.013487826850359775}. Best is trial 59 with value: 0.9695803753995685.\n",
      "[I 2024-10-26 23:27:23,697] Trial 86 finished with value: 0.9676343229104294 and parameters: {'C': 9.041931889474256, 'tol': 0.013295398584352393}. Best is trial 59 with value: 0.9695803753995685.\n",
      "[I 2024-10-26 23:27:25,873] Trial 87 finished with value: 0.967634346724404 and parameters: {'C': 8.389318365865556, 'tol': 0.01348864086184119}. Best is trial 59 with value: 0.9695803753995685.\n",
      "[I 2024-10-26 23:27:29,825] Trial 84 finished with value: 0.9695827566076684 and parameters: {'C': 7.9407832946300765, 'tol': 1.3867601661448037e-05}. Best is trial 84 with value: 0.9695827566076684.\n",
      "[I 2024-10-26 23:27:30,699] Trial 89 finished with value: 0.9690210403592214 and parameters: {'C': 9.66358934533147, 'tol': 0.0032073564449106406}. Best is trial 84 with value: 0.9695827566076684.\n",
      "[I 2024-10-26 23:27:30,716] Trial 88 finished with value: 0.9690068976515063 and parameters: {'C': 4.683635088996422, 'tol': 0.003518547241956968}. Best is trial 84 with value: 0.9695827566076684.\n",
      "[I 2024-10-26 23:27:32,714] Trial 90 finished with value: 0.9690068976515063 and parameters: {'C': 4.777096333130222, 'tol': 0.003479754195305611}. Best is trial 84 with value: 0.9695827566076684.\n",
      "[I 2024-10-26 23:27:36,447] Trial 92 finished with value: 0.9671566913023497 and parameters: {'C': 9.244258474642896, 'tol': 0.04571150298651921}. Best is trial 84 with value: 0.9695827566076684.\n",
      "[I 2024-10-26 23:27:37,453] Trial 91 finished with value: 0.9690210403544871 and parameters: {'C': 8.49311106695975, 'tol': 0.003362927456422879}. Best is trial 84 with value: 0.9695827566076684.\n",
      "[I 2024-10-26 23:27:38,398] Trial 93 finished with value: 0.9689845395817365 and parameters: {'C': 9.301638160850517, 'tol': 0.006686448413273564}. Best is trial 84 with value: 0.9695827566076684.\n",
      "[I 2024-10-26 23:27:38,408] Trial 94 finished with value: 0.9671566913023497 and parameters: {'C': 8.487018243585995, 'tol': 0.04591604034158472}. Best is trial 84 with value: 0.9695827566076684.\n",
      "[I 2024-10-26 23:27:43,335] Trial 95 finished with value: 0.9679134884788855 and parameters: {'C': 8.469037942135012, 'tol': 0.009907991509131717}. Best is trial 84 with value: 0.9695827566076684.\n",
      "[I 2024-10-26 23:27:44,377] Trial 96 finished with value: 0.9680252050991005 and parameters: {'C': 7.9206896854758515, 'tol': 0.009511068980270562}. Best is trial 84 with value: 0.9695827566076684.\n",
      "[I 2024-10-26 23:27:49,954] Trial 98 finished with value: 0.9695645642459603 and parameters: {'C': 7.7995849358944, 'tol': 0.00045369869809725263}. Best is trial 84 with value: 0.9695827566076684.\n",
      "[I 2024-10-26 23:27:50,498] Trial 97 finished with value: 0.9695755164917941 and parameters: {'C': 6.7529160676637465, 'tol': 0.00033654273983539944}. Best is trial 84 with value: 0.9695827566076684.\n",
      "[I 2024-10-26 23:27:54,237] Trial 99 finished with value: 0.9695754688733136 and parameters: {'C': 7.939716211541195, 'tol': 0.00038782862125919817}. Best is trial 84 with value: 0.9695827566076684.\n",
      "[I 2024-10-26 23:28:00,369] Trial 100 finished with value: 0.9695834471466549 and parameters: {'C': 8.94522849226395, 'tol': 3.6398411824824513e-06}. Best is trial 100 with value: 0.9695834471466549.\n",
      "[I 2024-10-26 23:28:01,134] Trial 103 finished with value: 0.9689846110094577 and parameters: {'C': 8.867513995206178, 'tol': 0.007018160664310333}. Best is trial 100 with value: 0.9695834471466549.\n",
      "[I 2024-10-26 23:28:01,362] Trial 101 finished with value: 0.9695754212690358 and parameters: {'C': 8.910835092982815, 'tol': 0.000318157248042956}. Best is trial 100 with value: 0.9695834471466549.\n",
      "[I 2024-10-26 23:28:07,305] Trial 102 finished with value: 0.9695827327842249 and parameters: {'C': 8.990558695441406, 'tol': 1.3596842487185182e-05}. Best is trial 100 with value: 0.9695834471466549.\n",
      "[I 2024-10-26 23:28:08,330] Trial 104 finished with value: 0.9689846110094577 and parameters: {'C': 8.891547929375728, 'tol': 0.006958577208847143}. Best is trial 100 with value: 0.9695834471466549.\n",
      "[I 2024-10-26 23:28:09,837] Trial 105 finished with value: 0.9690229931051514 and parameters: {'C': 8.98141415181499, 'tol': 0.0027441721032895826}. Best is trial 100 with value: 0.9695834471466549.\n",
      "[I 2024-10-26 23:28:10,082] Trial 106 finished with value: 0.9690269224062515 and parameters: {'C': 7.1586145574474385, 'tol': 0.002506926434767487}. Best is trial 100 with value: 0.9695834471466549.\n",
      "[I 2024-10-26 23:28:15,388] Trial 107 finished with value: 0.9690229216584927 and parameters: {'C': 7.147770780934634, 'tol': 0.002840828348419596}. Best is trial 100 with value: 0.9695834471466549.\n",
      "[I 2024-10-26 23:28:16,487] Trial 108 finished with value: 0.9690210403592214 and parameters: {'C': 9.639060799553594, 'tol': 0.0030497444114741313}. Best is trial 100 with value: 0.9695834471466549.\n",
      "[I 2024-10-26 23:28:17,353] Trial 109 finished with value: 0.9690210641684617 and parameters: {'C': 9.813489993192317, 'tol': 0.00302613911511763}. Best is trial 100 with value: 0.9695834471466549.\n",
      "[I 2024-10-26 23:28:17,360] Trial 110 finished with value: 0.9689906347472703 and parameters: {'C': 9.755436418504171, 'tol': 0.005990191247820999}. Best is trial 100 with value: 0.9695834471466549.\n",
      "[I 2024-10-26 23:28:22,233] Trial 111 finished with value: 0.9678525368282825 and parameters: {'C': 9.77384511149743, 'tol': 0.01195534955455905}. Best is trial 100 with value: 0.9695834471466549.\n",
      "[I 2024-10-26 23:28:24,130] Trial 112 finished with value: 0.9689906347472703 and parameters: {'C': 9.74985134651941, 'tol': 0.005787040923088961}. Best is trial 100 with value: 0.9695834471466549.\n",
      "[I 2024-10-26 23:28:24,937] Trial 114 finished with value: 0.9689907061749914 and parameters: {'C': 8.237046733279957, 'tol': 0.005427177667655225}. Best is trial 100 with value: 0.9695834471466549.\n",
      "[I 2024-10-26 23:28:25,358] Trial 113 finished with value: 0.9689907061749914 and parameters: {'C': 8.284260370979112, 'tol': 0.005776117413536297}. Best is trial 100 with value: 0.9695834471466549.\n",
      "[I 2024-10-26 23:28:30,283] Trial 115 finished with value: 0.9689907061749914 and parameters: {'C': 8.254539680829112, 'tol': 0.005969755770462655}. Best is trial 100 with value: 0.9695834471466549.\n",
      "[I 2024-10-26 23:28:31,126] Trial 116 finished with value: 0.9680252289130753 and parameters: {'C': 8.275674980600783, 'tol': 0.00928564761692254}. Best is trial 100 with value: 0.9695834471466549.\n",
      "[I 2024-10-26 23:28:37,238] Trial 117 finished with value: 0.9695769698544124 and parameters: {'C': 9.346386499254807, 'tol': 0.00014560923993273142}. Best is trial 100 with value: 0.9695834471466549.\n",
      "[I 2024-10-26 23:28:37,425] Trial 118 finished with value: 0.9695763508851787 and parameters: {'C': 1.0665885887059137, 'tol': 0.00022008414514594138}. Best is trial 100 with value: 0.9695834471466549.\n",
      "[I 2024-10-26 23:28:42,001] Trial 119 finished with value: 0.9695738268216367 and parameters: {'C': 7.571376524850136, 'tol': 0.0002357205673820287}. Best is trial 100 with value: 0.9695834471466549.\n",
      "[I 2024-10-26 23:28:42,887] Trial 120 finished with value: 0.9695738744448519 and parameters: {'C': 7.599466542759826, 'tol': 0.00026685573694753276}. Best is trial 100 with value: 0.9695834471466549.\n",
      "[I 2024-10-26 23:28:45,183] Trial 122 finished with value: 0.9690330175907228 and parameters: {'C': 9.30746427791058, 'tol': 0.0022352939107515464}. Best is trial 100 with value: 0.9695834471466549.\n",
      "[I 2024-10-26 23:28:45,653] Trial 121 finished with value: 0.9690919692698694 and parameters: {'C': 9.256985379809445, 'tol': 0.0017672705791691049}. Best is trial 100 with value: 0.9695834471466549.\n",
      "[I 2024-10-26 23:28:50,044] Trial 123 finished with value: 0.969027589069716 and parameters: {'C': 0.7225295024467626, 'tol': 0.0027482825006188926}. Best is trial 100 with value: 0.9695834471466549.\n",
      "[I 2024-10-26 23:28:51,341] Trial 124 finished with value: 0.9690339224223413 and parameters: {'C': 0.7362303278678057, 'tol': 0.0019881825786144027}. Best is trial 100 with value: 0.9695834471466549.\n",
      "[I 2024-10-26 23:28:53,313] Trial 125 finished with value: 0.9689990885378702 and parameters: {'C': 0.912268914108256, 'tol': 0.004049272104996548}. Best is trial 100 with value: 0.9695834471466549.\n",
      "[I 2024-10-26 23:28:53,620] Trial 126 finished with value: 0.9690088265503206 and parameters: {'C': 1.6700376389391005, 'tol': 0.003948876019164727}. Best is trial 100 with value: 0.9695834471466549.\n",
      "[I 2024-10-26 23:28:57,494] Trial 127 finished with value: 0.9689992552120217 and parameters: {'C': 0.965926580228696, 'tol': 0.004434474667555503}. Best is trial 100 with value: 0.9695834471466549.\n",
      "[I 2024-10-26 23:28:58,754] Trial 128 finished with value: 0.9689986124098755 and parameters: {'C': 8.616786988222358, 'tol': 0.004106848749534461}. Best is trial 100 with value: 0.9695834471466549.\n",
      "[I 2024-10-26 23:29:00,762] Trial 129 finished with value: 0.9684686621526055 and parameters: {'C': 2.3027574861856044, 'tol': 0.008344638941509058}. Best is trial 100 with value: 0.9695834471466549.\n",
      "[I 2024-10-26 23:29:01,024] Trial 130 finished with value: 0.9688887549746026 and parameters: {'C': 1.111593743538466, 'tol': 0.007962074817207251}. Best is trial 100 with value: 0.9695834471466549.\n",
      "[I 2024-10-26 23:29:04,375] Trial 131 finished with value: 0.9686057558154465 and parameters: {'C': 8.635037224992022, 'tol': 0.008221952896147515}. Best is trial 100 with value: 0.9695834471466549.\n",
      "[I 2024-10-26 23:29:05,547] Trial 132 finished with value: 0.9684690669665044 and parameters: {'C': 9.067006167543271, 'tol': 0.00843057749424457}. Best is trial 100 with value: 0.9695834471466549.\n",
      "[I 2024-10-26 23:29:06,894] Trial 133 finished with value: 0.9678525368235482 and parameters: {'C': 9.100153464459762, 'tol': 0.010752319805237998}. Best is trial 100 with value: 0.9695834471466549.\n",
      "[I 2024-10-26 23:29:15,758] Trial 134 finished with value: 0.9695808278603545 and parameters: {'C': 8.685026449284754, 'tol': 3.9108601885061775e-05}. Best is trial 100 with value: 0.9695834471466549.\n",
      "[I 2024-10-26 23:29:16,625] Trial 135 finished with value: 0.9695859227158545 and parameters: {'C': 0.08741880862849793, 'tol': 0.00012881981570882542}. Best is trial 135 with value: 0.9695859227158545.\n",
      "[I 2024-10-26 23:29:17,204] Trial 136 finished with value: 0.9695800410002315 and parameters: {'C': 2.670231511298957, 'tol': 0.0002796284006445666}. Best is trial 135 with value: 0.9695859227158545.\n",
      "[I 2024-10-26 23:29:19,330] Trial 137 finished with value: 0.969576184144746 and parameters: {'C': 9.454691937126244, 'tol': 0.00010193557858145525}. Best is trial 135 with value: 0.9695859227158545.\n",
      "[I 2024-10-26 23:29:24,872] Trial 139 finished with value: 0.9690349224956558 and parameters: {'C': 0.35941232741542406, 'tol': 0.0018713623808912475}. Best is trial 135 with value: 0.9695859227158545.\n",
      "[I 2024-10-26 23:29:25,422] Trial 140 finished with value: 0.9690330890042407 and parameters: {'C': 2.840203872809029, 'tol': 0.0020957963719778943}. Best is trial 135 with value: 0.9695859227158545.\n",
      "[I 2024-10-26 23:29:27,037] Trial 141 finished with value: 0.969037898754858 and parameters: {'C': 0.11131449760039713, 'tol': 0.0020498870369777635}. Best is trial 135 with value: 0.9695859227158545.\n",
      "[I 2024-10-26 23:29:28,819] Trial 138 finished with value: 0.9695796837764069 and parameters: {'C': 2.747588645316668, 'tol': 0.00030558033593369255}. Best is trial 135 with value: 0.9695859227158545.\n",
      "[I 2024-10-26 23:29:30,916] Trial 143 finished with value: 0.967135449232134 and parameters: {'C': 3.8798578820330327, 'tol': 0.05326073899310925}. Best is trial 135 with value: 0.9695859227158545.\n",
      "[I 2024-10-26 23:29:32,404] Trial 144 finished with value: 0.9668411836815217 and parameters: {'C': 3.873628257974702, 'tol': 0.05605792469547517}. Best is trial 135 with value: 0.9695859227158545.\n",
      "[I 2024-10-26 23:29:32,660] Trial 142 finished with value: 0.9689906580878063 and parameters: {'C': 0.2798600918980205, 'tol': 0.0061336017756023695}. Best is trial 135 with value: 0.9695859227158545.\n",
      "[I 2024-10-26 23:29:37,212] Trial 148 finished with value: 0.9665986362371066 and parameters: {'C': 2.5634995400169203, 'tol': 0.09532329274206637}. Best is trial 135 with value: 0.9695859227158545.\n",
      "[I 2024-10-26 23:29:37,793] Trial 145 finished with value: 0.9689988742925821 and parameters: {'C': 2.833652050093769, 'tol': 0.004753865611536771}. Best is trial 135 with value: 0.9695859227158545.\n",
      "[I 2024-10-26 23:29:39,605] Trial 146 finished with value: 0.9689988028317202 and parameters: {'C': 1.3809062629110147, 'tol': 0.005029998556127629}. Best is trial 135 with value: 0.9695859227158545.\n",
      "[I 2024-10-26 23:29:40,592] Trial 147 finished with value: 0.9689988504833418 and parameters: {'C': 2.7721593424798896, 'tol': 0.00430414581215425}. Best is trial 135 with value: 0.9695859227158545.\n",
      "[I 2024-10-26 23:29:45,045] Trial 150 finished with value: 0.9690088503264203 and parameters: {'C': 1.3121427643140187, 'tol': 0.003923143743631788}. Best is trial 135 with value: 0.9695859227158545.\n",
      "[I 2024-10-26 23:29:47,306] Trial 151 finished with value: 0.969081731249168 and parameters: {'C': 2.140380333559201, 'tol': 0.0017917435009635319}. Best is trial 135 with value: 0.9695859227158545.\n",
      "[I 2024-10-26 23:29:48,404] Trial 152 finished with value: 0.9690269461965542 and parameters: {'C': 2.021596573780954, 'tol': 0.0025510455695947044}. Best is trial 135 with value: 0.9695859227158545.\n",
      "[I 2024-10-26 23:29:52,206] Trial 149 finished with value: 0.9695817562597595 and parameters: {'C': 1.7878349978293149, 'tol': 3.879147221391702e-05}. Best is trial 135 with value: 0.9695859227158545.\n",
      "[I 2024-10-26 23:29:55,493] Trial 153 finished with value: 0.969574778481093 and parameters: {'C': 1.8500198415344773, 'tol': 0.00039606643908017005}. Best is trial 135 with value: 0.9695859227158545.\n",
      "[I 2024-10-26 23:29:57,873] Trial 154 finished with value: 0.9695773023457909 and parameters: {'C': 2.3126205566845854, 'tol': 0.0003501840490269756}. Best is trial 135 with value: 0.9695859227158545.\n",
      "[I 2024-10-26 23:29:59,906] Trial 155 finished with value: 0.9695756843306051 and parameters: {'C': 2.5075986877502596, 'tol': 0.00015608630094835158}. Best is trial 135 with value: 0.9695859227158545.\n",
      "[I 2024-10-26 23:30:04,761] Trial 156 finished with value: 0.9695794466734904 and parameters: {'C': 1.8389695537844557, 'tol': 7.137608803580011e-05}. Best is trial 135 with value: 0.9695859227158545.\n",
      "[I 2024-10-26 23:30:06,417] Trial 159 finished with value: 0.9690329461582671 and parameters: {'C': 1.828490022252868, 'tol': 0.002276227630186925}. Best is trial 135 with value: 0.9695859227158545.\n",
      "[I 2024-10-26 23:30:07,490] Trial 157 finished with value: 0.9695748268854822 and parameters: {'C': 2.638393510115695, 'tol': 0.0001932658502892038}. Best is trial 135 with value: 0.9695859227158545.\n",
      "[I 2024-10-26 23:30:10,890] Trial 160 finished with value: 0.9673412393898889 and parameters: {'C': 1.7922654735300245, 'tol': 0.025801200361870797}. Best is trial 135 with value: 0.9695859227158545.\n",
      "[I 2024-10-26 23:30:11,093] Trial 158 finished with value: 0.9695808753888817 and parameters: {'C': 2.540488891827038, 'tol': 7.503332959372658e-05}. Best is trial 135 with value: 0.9695859227158545.\n",
      "[I 2024-10-26 23:30:14,255] Trial 161 finished with value: 0.9689909680482289 and parameters: {'C': 2.539730443290533, 'tol': 0.006212856256853876}. Best is trial 135 with value: 0.9695859227158545.\n",
      "[I 2024-10-26 23:30:15,154] Trial 162 finished with value: 0.9689847538222903 and parameters: {'C': 2.4138501009630176, 'tol': 0.006790442490294451}. Best is trial 135 with value: 0.9695859227158545.\n",
      "[I 2024-10-26 23:30:16,659] Trial 163 finished with value: 0.9671565246187296 and parameters: {'C': 1.5491260425230846, 'tol': 0.035651513426421554}. Best is trial 135 with value: 0.9695859227158545.\n",
      "[I 2024-10-26 23:30:18,868] Trial 164 finished with value: 0.9690209450417753 and parameters: {'C': 2.3395004916033737, 'tol': 0.003035901971236134}. Best is trial 135 with value: 0.9695859227158545.\n",
      "[I 2024-10-26 23:30:21,229] Trial 166 finished with value: 0.9671566436791348 and parameters: {'C': 3.278744135439844, 'tol': 0.039886152925693905}. Best is trial 135 with value: 0.9695859227158545.\n",
      "[I 2024-10-26 23:30:22,089] Trial 165 finished with value: 0.9690209688510156 and parameters: {'C': 2.3572390782411237, 'tol': 0.003247024490425595}. Best is trial 135 with value: 0.9695859227158545.\n",
      "[I 2024-10-26 23:30:24,471] Trial 167 finished with value: 0.9690211355630423 and parameters: {'C': 3.116763013444888, 'tol': 0.003307390068600811}. Best is trial 135 with value: 0.9695859227158545.\n",
      "[I 2024-10-26 23:30:26,843] Trial 168 finished with value: 0.9690228025507437 and parameters: {'C': 2.165334847079603, 'tol': 0.0027832965401239787}. Best is trial 135 with value: 0.9695859227158545.\n",
      "[I 2024-10-26 23:30:28,580] Trial 169 finished with value: 0.9690269699963258 and parameters: {'C': 2.167098478300413, 'tol': 0.0024108977853869898}. Best is trial 135 with value: 0.9695859227158545.\n",
      "[I 2024-10-26 23:30:29,427] Trial 170 finished with value: 0.9690331366274558 and parameters: {'C': 3.067422891707792, 'tol': 0.002053881647084977}. Best is trial 135 with value: 0.9695859227158545.\n",
      "[I 2024-10-26 23:30:37,412] Trial 171 finished with value: 0.9695789706401836 and parameters: {'C': 2.0744843848022, 'tol': 4.935396170470345e-05}. Best is trial 135 with value: 0.9695859227158545.\n",
      "[I 2024-10-26 23:30:37,804] Trial 172 finished with value: 0.9695749457754491 and parameters: {'C': 3.6507593032237264, 'tol': 0.00018637194683253117}. Best is trial 135 with value: 0.9695859227158545.\n",
      "[I 2024-10-26 23:30:40,394] Trial 174 finished with value: 0.9695761603165682 and parameters: {'C': 8.06714804694243, 'tol': 0.0001760522003452395}. Best is trial 135 with value: 0.9695859227158545.\n",
      "[I 2024-10-26 23:30:42,029] Trial 173 finished with value: 0.9695800658983812 and parameters: {'C': 2.945435605216598, 'tol': 3.7698627215331095e-05}. Best is trial 135 with value: 0.9695859227158545.\n",
      "[I 2024-10-26 23:30:47,825] Trial 177 finished with value: 0.9689988028553922 and parameters: {'C': 2.0064722574593237, 'tol': 0.0045091200454923834}. Best is trial 135 with value: 0.9695859227158545.\n",
      "[I 2024-10-26 23:30:48,800] Trial 175 finished with value: 0.9695619920715609 and parameters: {'C': 5.115530237988242, 'tol': 0.0004904386453795721}. Best is trial 135 with value: 0.9695859227158545.\n",
      "[I 2024-10-26 23:30:49,466] Trial 178 finished with value: 0.9689987790461518 and parameters: {'C': 1.9752459648202516, 'tol': 0.004933410328072053}. Best is trial 135 with value: 0.9695859227158545.\n",
      "[I 2024-10-26 23:30:50,355] Trial 176 finished with value: 0.9695783511312296 and parameters: {'C': 1.9076099701428206, 'tol': 0.00011809263053517506}. Best is trial 135 with value: 0.9695859227158545.\n",
      "[I 2024-10-26 23:30:55,685] Trial 180 finished with value: 0.9689909204202796 and parameters: {'C': 2.6210192259323812, 'tol': 0.005789075630080129}. Best is trial 135 with value: 0.9695859227158545.\n",
      "[I 2024-10-26 23:30:57,575] Trial 182 finished with value: 0.9690818503427137 and parameters: {'C': 2.662212464074199, 'tol': 0.0018404726229924052}. Best is trial 135 with value: 0.9695859227158545.\n",
      "[I 2024-10-26 23:31:03,173] Trial 179 finished with value: 0.9695809944966307 and parameters: {'C': 1.653350667529658, 'tol': 3.7973787885347876e-05}. Best is trial 135 with value: 0.9695859227158545.\n",
      "[I 2024-10-26 23:31:03,437] Trial 183 finished with value: 0.9690329461487984 and parameters: {'C': 1.613091716221018, 'tol': 0.0021447038166447587}. Best is trial 135 with value: 0.9695859227158545.\n",
      "[I 2024-10-26 23:31:05,356] Trial 184 finished with value: 0.9690331366274559 and parameters: {'C': 2.8939075890776302, 'tol': 0.0019162370072568235}. Best is trial 135 with value: 0.9695859227158545.\n",
      "[I 2024-10-26 23:31:06,718] Trial 181 finished with value: 0.969583137527108 and parameters: {'C': 8.76245683766025, 'tol': 1.0664771351435282e-05}. Best is trial 135 with value: 0.9695859227158545.\n",
      "[I 2024-10-26 23:31:10,686] Trial 185 finished with value: 0.9690329937625448 and parameters: {'C': 1.6829180729770878, 'tol': 0.002004793436621744}. Best is trial 135 with value: 0.9695859227158545.\n",
      "[I 2024-10-26 23:31:12,707] Trial 187 finished with value: 0.969008826507711 and parameters: {'C': 1.2820303779850328, 'tol': 0.0038236076933234535}. Best is trial 135 with value: 0.9695859227158545.\n",
      "[I 2024-10-26 23:31:14,038] Trial 188 finished with value: 0.969006873842266 and parameters: {'C': 4.4683538392336555, 'tol': 0.0036321061167911223}. Best is trial 135 with value: 0.9695859227158545.\n",
      "[I 2024-10-26 23:31:16,680] Trial 186 finished with value: 0.9695788748824394 and parameters: {'C': 2.2844159907041757, 'tol': 0.00011337995173845697}. Best is trial 135 with value: 0.9695859227158545.\n",
      "[I 2024-10-26 23:31:19,954] Trial 190 finished with value: 0.9690086122292824 and parameters: {'C': 2.289133401468992, 'tol': 0.003882936358545389}. Best is trial 135 with value: 0.9695859227158545.\n",
      "[I 2024-10-26 23:31:23,432] Trial 192 finished with value: 0.9689987552274426 and parameters: {'C': 1.9048234101636643, 'tol': 0.004967698811118831}. Best is trial 135 with value: 0.9695859227158545.\n",
      "[I 2024-10-26 23:31:25,782] Trial 191 finished with value: 0.9695765174504392 and parameters: {'C': 1.9133105612331753, 'tol': 0.00019711064243737916}. Best is trial 135 with value: 0.9695859227158545.\n",
      "[I 2024-10-26 23:31:26,733] Trial 189 finished with value: 0.9695831137936178 and parameters: {'C': 2.183587427482284, 'tol': 6.334123209520112e-06}. Best is trial 135 with value: 0.9695859227158545.\n",
      "[I 2024-10-26 23:31:31,415] Trial 193 finished with value: 0.9695780892248514 and parameters: {'C': 1.9272412834542965, 'tol': 0.00010043144810574774}. Best is trial 135 with value: 0.9695859227158545.\n",
      "[I 2024-10-26 23:31:33,208] Trial 196 finished with value: 0.9690328984971769 and parameters: {'C': 2.216294505143086, 'tol': 0.001947124708967443}. Best is trial 135 with value: 0.9695859227158545.\n",
      "[I 2024-10-26 23:31:37,080] Trial 194 finished with value: 0.9695802324825792 and parameters: {'C': 2.1013204121612197, 'tol': 4.997886937807344e-05}. Best is trial 135 with value: 0.9695859227158545.\n",
      "[I 2024-10-26 23:31:37,708] Trial 195 finished with value: 0.9695770653470308 and parameters: {'C': 2.15928991873739, 'tol': 0.00023363216229244397}. Best is trial 135 with value: 0.9695859227158545.\n",
      "[I 2024-10-26 23:31:39,235] Trial 197 finished with value: 0.9690328270741903 and parameters: {'C': 2.102431326751527, 'tol': 0.0020804893755214313}. Best is trial 135 with value: 0.9695859227158545.\n",
      "[I 2024-10-26 23:31:41,131] Trial 198 finished with value: 0.969027255740351 and parameters: {'C': 2.450700128592287, 'tol': 0.0023143270040001432}. Best is trial 135 with value: 0.9695859227158545.\n",
      "[I 2024-10-26 23:31:45,403] Trial 199 finished with value: 0.9689908966157736 and parameters: {'C': 2.47497121282396, 'tol': 0.006617078711447542}. Best is trial 135 with value: 0.9695859227158545.\n",
      "[I 2024-10-26 23:31:46,682] Trial 200 finished with value: 0.9689848490734552 and parameters: {'C': 2.8539718806714034, 'tol': 0.006922839426437154}. Best is trial 135 with value: 0.9695859227158545.\n",
      "[I 2024-10-26 23:31:47,812] Trial 201 finished with value: 0.9689848252594802 and parameters: {'C': 2.9058244389265453, 'tol': 0.006976742130116774}. Best is trial 135 with value: 0.9695859227158545.\n",
      "[I 2024-10-26 23:31:49,303] Trial 202 finished with value: 0.9689909442389888 and parameters: {'C': 2.8205073553279387, 'tol': 0.0065467251866318295}. Best is trial 135 with value: 0.9695859227158545.\n",
      "[I 2024-10-26 23:31:52,537] Trial 203 finished with value: 0.9690087789176369 and parameters: {'C': 1.5036419913808152, 'tol': 0.003882048142025029}. Best is trial 135 with value: 0.9695859227158545.\n",
      "[I 2024-10-26 23:31:53,734] Trial 204 finished with value: 0.9690088027221428 and parameters: {'C': 1.5187356148834963, 'tol': 0.003895179189147158}. Best is trial 135 with value: 0.9695859227158545.\n",
      "[I 2024-10-26 23:31:59,403] Trial 207 finished with value: 0.96903296994857 and parameters: {'C': 1.7239049647587241, 'tol': 0.0018937000731661878}. Best is trial 135 with value: 0.9695859227158545.\n",
      "[I 2024-10-26 23:32:01,333] Trial 205 finished with value: 0.9695820660024005 and parameters: {'C': 1.3468582588832032, 'tol': 5.043043287059323e-05}. Best is trial 135 with value: 0.9695859227158545.\n",
      "[I 2024-10-26 23:32:04,083] Trial 206 finished with value: 0.9695828756586046 and parameters: {'C': 1.4585221268452644, 'tol': 1.0780356280819116e-05}. Best is trial 135 with value: 0.9695859227158545.\n",
      "[I 2024-10-26 23:32:05,230] Trial 208 finished with value: 0.969578494109766 and parameters: {'C': 1.774816653348044, 'tol': 9.283287299480911e-05}. Best is trial 135 with value: 0.9695859227158545.\n",
      "[I 2024-10-26 23:32:10,815] Trial 209 finished with value: 0.9695772555700313 and parameters: {'C': 2.0967100562865073, 'tol': 0.0002517066909789792}. Best is trial 135 with value: 0.9695859227158545.\n",
      "[I 2024-10-26 23:32:12,338] Trial 212 finished with value: 0.9690331128418874 and parameters: {'C': 8.872942746466624, 'tol': 0.0022184403580288374}. Best is trial 135 with value: 0.9695859227158545.\n",
      "[I 2024-10-26 23:32:13,567] Trial 210 finished with value: 0.9695749460453094 and parameters: {'C': 8.834727954214513, 'tol': 0.0001152322828670613}. Best is trial 135 with value: 0.9695859227158545.\n",
      "[I 2024-10-26 23:32:16,240] Trial 211 finished with value: 0.969576731861431 and parameters: {'C': 1.4368391088856907, 'tol': 0.0001303918115693478}. Best is trial 135 with value: 0.9695859227158545.\n",
      "[I 2024-10-26 23:32:18,143] Trial 213 finished with value: 0.9690333986001155 and parameters: {'C': 1.275261734717465, 'tol': 0.0022995093566976943}. Best is trial 135 with value: 0.9695859227158545.\n",
      "[I 2024-10-26 23:32:19,344] Trial 214 finished with value: 0.969027351034125 and parameters: {'C': 1.211867638619788, 'tol': 0.002511129483940002}. Best is trial 135 with value: 0.9695859227158545.\n",
      "[I 2024-10-26 23:32:20,947] Trial 215 finished with value: 0.9690332319212297 and parameters: {'C': 1.2638236153262168, 'tol': 0.00212745112554918}. Best is trial 135 with value: 0.9695859227158545.\n",
      "[I 2024-10-26 23:32:24,473] Trial 216 finished with value: 0.9690269700057946 and parameters: {'C': 1.0709585628639888, 'tol': 0.0026918055379565437}. Best is trial 135 with value: 0.9695859227158545.\n",
      "[I 2024-10-26 23:32:26,262] Trial 217 finished with value: 0.9690086836664722 and parameters: {'C': 2.3963184368605526, 'tol': 0.0038920303833640713}. Best is trial 135 with value: 0.9695859227158545.\n",
      "[I 2024-10-26 23:32:27,606] Trial 218 finished with value: 0.9690209450465097 and parameters: {'C': 2.324508090354202, 'tol': 0.0033311395751912986}. Best is trial 135 with value: 0.9695859227158545.\n",
      "[I 2024-10-26 23:32:28,470] Trial 219 finished with value: 0.968999112328173 and parameters: {'C': 0.8137389833254765, 'tol': 0.004312430902826908}. Best is trial 135 with value: 0.9695859227158545.\n",
      "[I 2024-10-26 23:32:32,125] Trial 220 finished with value: 0.9689987552179741 and parameters: {'C': 2.4160716219718523, 'tol': 0.004731979630678727}. Best is trial 135 with value: 0.9695859227158545.\n",
      "[I 2024-10-26 23:32:34,099] Trial 221 finished with value: 0.9690068976373031 and parameters: {'C': 5.777565218487134, 'tol': 0.0035555209347606456}. Best is trial 135 with value: 0.9695859227158545.\n",
      "[I 2024-10-26 23:32:34,952] Trial 222 finished with value: 0.968998898097088 and parameters: {'C': 1.6663496184159368, 'tol': 0.005124159593205909}. Best is trial 135 with value: 0.9695859227158545.\n",
      "[I 2024-10-26 23:32:43,152] Trial 223 finished with value: 0.9695818038498338 and parameters: {'C': 1.7596526884425163, 'tol': 3.541311305999224e-05}. Best is trial 135 with value: 0.9695859227158545.\n",
      "[I 2024-10-26 23:32:45,503] Trial 225 finished with value: 0.9695775413803378 and parameters: {'C': 1.63833282609101, 'tol': 0.00013558859842829196}. Best is trial 135 with value: 0.9695859227158545.\n",
      "[I 2024-10-26 23:32:46,240] Trial 226 finished with value: 0.9695760411851474 and parameters: {'C': 1.9797493755750932, 'tol': 0.00017248133373446643}. Best is trial 135 with value: 0.9695859227158545.\n",
      "[I 2024-10-26 23:32:47,131] Trial 224 finished with value: 0.9695819469183237 and parameters: {'C': 1.8053411454865311, 'tol': 2.5419703900824044e-05}. Best is trial 135 with value: 0.9695859227158545.\n",
      "[I 2024-10-26 23:32:51,409] Trial 227 finished with value: 0.969355105140604 and parameters: {'C': 1.7694604494257966, 'tol': 0.0015811547680104827}. Best is trial 135 with value: 0.9695859227158545.\n",
      "[I 2024-10-26 23:32:53,823] Trial 229 finished with value: 0.9690816598214468 and parameters: {'C': 2.1113441207992105, 'tol': 0.0018645335886544607}. Best is trial 135 with value: 0.9695859227158545.\n",
      "[I 2024-10-26 23:32:54,201] Trial 230 finished with value: 0.9690820171020841 and parameters: {'C': 0.5583150405301814, 'tol': 0.0018514121323470424}. Best is trial 135 with value: 0.9695859227158545.\n",
      "[I 2024-10-26 23:32:57,968] Trial 228 finished with value: 0.9695762317679613 and parameters: {'C': 2.041711022394971, 'tol': 9.740776854063189e-05}. Best is trial 135 with value: 0.9695859227158545.\n",
      "[I 2024-10-26 23:33:02,147] Trial 233 finished with value: 0.9690920168788812 and parameters: {'C': 2.6186358719291345, 'tol': 0.0017636431063115796}. Best is trial 135 with value: 0.9695859227158545.\n",
      "[I 2024-10-26 23:33:02,362] Trial 232 finished with value: 0.969234311064042 and parameters: {'C': 1.9947525178636534, 'tol': 0.0016420860198302608}. Best is trial 135 with value: 0.9695859227158545.\n",
      "[I 2024-10-26 23:33:05,152] Trial 234 finished with value: 0.9690331366416588 and parameters: {'C': 2.680460660640056, 'tol': 0.001904886195740817}. Best is trial 135 with value: 0.9695859227158545.\n",
      "[I 2024-10-26 23:33:07,427] Trial 231 finished with value: 0.9695824708352369 and parameters: {'C': 2.0957936027108914, 'tol': 1.610966786616441e-05}. Best is trial 135 with value: 0.9695859227158545.\n",
      "[I 2024-10-26 23:33:10,474] Trial 237 finished with value: 0.9668461121848086 and parameters: {'C': 1.4857763217577828, 'tol': 0.06123520339367018}. Best is trial 135 with value: 0.9695859227158545.\n",
      "[I 2024-10-26 23:33:10,915] Trial 235 finished with value: 0.9692149264885916 and parameters: {'C': 8.649335436290885, 'tol': 0.0016883597232586007}. Best is trial 135 with value: 0.9695859227158545.\n",
      "[I 2024-10-26 23:33:14,792] Trial 236 finished with value: 0.9695774223151984 and parameters: {'C': 1.4893722058295322, 'tol': 0.00019147845452777764}. Best is trial 135 with value: 0.9695859227158545.\n",
      "[I 2024-10-26 23:33:19,664] Trial 238 finished with value: 0.9695766366150007 and parameters: {'C': 1.4310959669038366, 'tol': 0.00011251457836055853}. Best is trial 135 with value: 0.9695859227158545.\n",
      "[I 2024-10-26 23:33:21,645] Trial 241 finished with value: 0.9690085884247763 and parameters: {'C': 2.1796992010719807, 'tol': 0.0038536172869134415}. Best is trial 135 with value: 0.9695859227158545.\n",
      "[I 2024-10-26 23:33:22,388] Trial 239 finished with value: 0.9695766602680063 and parameters: {'C': 1.7725683321425791, 'tol': 0.00016921530118556204}. Best is trial 135 with value: 0.9695859227158545.\n",
      "[I 2024-10-26 23:33:23,757] Trial 240 finished with value: 0.9695779465114407 and parameters: {'C': 1.7946268549885385, 'tol': 6.351257373223579e-05}. Best is trial 135 with value: 0.9695859227158545.\n",
      "[I 2024-10-26 23:33:27,707] Trial 242 finished with value: 0.9690086598667007 and parameters: {'C': 1.79872971859432, 'tol': 0.003905257837938037}. Best is trial 135 with value: 0.9695859227158545.\n",
      "[I 2024-10-26 23:33:29,857] Trial 243 finished with value: 0.9690068023766697 and parameters: {'C': 1.8188893379167426, 'tol': 0.0034716905280074116}. Best is trial 135 with value: 0.9695859227158545.\n",
      "[I 2024-10-26 23:33:31,637] Trial 245 finished with value: 0.9690210165452466 and parameters: {'C': 9.03055120315629, 'tol': 0.0029949215473814056}. Best is trial 135 with value: 0.9695859227158545.\n",
      "[I 2024-10-26 23:33:35,340] Trial 246 finished with value: 0.9690329461251265 and parameters: {'C': 2.2723748961638917, 'tol': 0.0020761525980226383}. Best is trial 135 with value: 0.9695859227158545.\n",
      "[I 2024-10-26 23:33:37,524] Trial 247 finished with value: 0.9690330414046974 and parameters: {'C': 9.046676284599101, 'tol': 0.0019971711628228063}. Best is trial 135 with value: 0.9695859227158545.\n",
      "[I 2024-10-26 23:33:39,918] Trial 244 finished with value: 0.9695818992903741 and parameters: {'C': 1.8830091035246228, 'tol': 2.722859986631847e-05}. Best is trial 135 with value: 0.9695859227158545.\n",
      "[I 2024-10-26 23:33:40,176] Trial 248 finished with value: 0.969091969241463 and parameters: {'C': 2.2915407525316396, 'tol': 0.0017455896054050274}. Best is trial 135 with value: 0.9695859227158545.\n",
      "[I 2024-10-26 23:33:46,014] Trial 250 finished with value: 0.9692149264838573 and parameters: {'C': 8.49427318483053, 'tol': 0.0016513018075254905}. Best is trial 135 with value: 0.9695859227158545.\n",
      "[I 2024-10-26 23:33:47,589] Trial 251 finished with value: 0.969081707444662 and parameters: {'C': 2.1018157665906, 'tol': 0.0018089378916268802}. Best is trial 135 with value: 0.9695859227158545.\n",
      "[I 2024-10-26 23:33:48,050] Trial 249 finished with value: 0.969576969835475 and parameters: {'C': 8.533563638312007, 'tol': 0.00015321860377438785}. Best is trial 135 with value: 0.9695859227158545.\n",
      "[I 2024-10-26 23:33:48,051] Trial 252 finished with value: 0.9692157837822141 and parameters: {'C': 2.0139097702725364, 'tol': 0.0017231135058392538}. Best is trial 135 with value: 0.9695859227158545.\n",
      "[I 2024-10-26 23:33:53,896] Trial 254 finished with value: 0.9689909204344828 and parameters: {'C': 1.9631852022062073, 'tol': 0.005186734317779314}. Best is trial 135 with value: 0.9695859227158545.\n",
      "[I 2024-10-26 23:33:54,724] Trial 255 finished with value: 0.9689908966157736 and parameters: {'C': 2.505080723462992, 'tol': 0.005137858299389067}. Best is trial 135 with value: 0.9695859227158545.\n",
      "[I 2024-10-26 23:33:57,734] Trial 253 finished with value: 0.9695743030253816 and parameters: {'C': 2.014991602663316, 'tol': 0.00023592056711991703}. Best is trial 135 with value: 0.9695859227158545.\n",
      "[I 2024-10-26 23:34:01,980] Trial 256 finished with value: 0.9695804230227836 and parameters: {'C': 1.583505303387124, 'tol': 4.686235513467212e-05}. Best is trial 135 with value: 0.9695859227158545.\n",
      "[I 2024-10-26 23:34:04,602] Trial 259 finished with value: 0.9690087789271056 and parameters: {'C': 1.6139189332911932, 'tol': 0.0035797559670898123}. Best is trial 135 with value: 0.9695859227158545.\n",
      "[I 2024-10-26 23:34:07,133] Trial 258 finished with value: 0.969576136341624 and parameters: {'C': 1.7143610315802866, 'tol': 0.00012501483191125896}. Best is trial 135 with value: 0.9695859227158545.\n",
      "[I 2024-10-26 23:34:08,514] Trial 261 finished with value: 0.9665986362371066 and parameters: {'C': 1.5751485086750137, 'tol': 0.08079422910042405}. Best is trial 135 with value: 0.9695859227158545.\n",
      "[I 2024-10-26 23:34:09,307] Trial 260 finished with value: 0.9690087789129024 and parameters: {'C': 1.5280282150192714, 'tol': 0.0036767612191568435}. Best is trial 135 with value: 0.9695859227158545.\n",
      "[I 2024-10-26 23:34:10,261] Trial 257 finished with value: 0.9695831137273363 and parameters: {'C': 1.6254520604411438, 'tol': 1.2419631668995875e-05}. Best is trial 135 with value: 0.9695859227158545.\n",
      "[I 2024-10-26 23:34:14,676] Trial 262 finished with value: 0.9690068023577322 and parameters: {'C': 1.3860262329089383, 'tol': 0.0033736143189524986}. Best is trial 135 with value: 0.9695859227158545.\n",
      "[I 2024-10-26 23:34:16,113] Trial 263 finished with value: 0.9690068023482633 and parameters: {'C': 1.349861026131594, 'tol': 0.0034942297129130053}. Best is trial 135 with value: 0.9695859227158545.\n",
      "[I 2024-10-26 23:34:18,313] Trial 265 finished with value: 0.9690069452179086 and parameters: {'C': 1.1461992760235977, 'tol': 0.0033549749626952683}. Best is trial 135 with value: 0.9695859227158545.\n",
      "[I 2024-10-26 23:34:22,339] Trial 266 finished with value: 0.9690351129743128 and parameters: {'C': 0.33601641656320114, 'tol': 0.0022534156193758296}. Best is trial 135 with value: 0.9695859227158545.\n",
      "[I 2024-10-26 23:34:26,049] Trial 264 finished with value: 0.9695833279962965 and parameters: {'C': 1.0480950355683922, 'tol': 1.604619059365976e-05}. Best is trial 135 with value: 0.9695859227158545.\n",
      "[I 2024-10-26 23:34:28,930] Trial 267 finished with value: 0.969578922387295 and parameters: {'C': 1.1158203845521526, 'tol': 9.006548166794301e-05}. Best is trial 135 with value: 0.9695859227158545.\n",
      "[I 2024-10-26 23:34:29,202] Trial 269 finished with value: 0.9689910156714442 and parameters: {'C': 1.6714584493641191, 'tol': 0.0052354116449526}. Best is trial 135 with value: 0.9695859227158545.\n",
      "[I 2024-10-26 23:34:33,662] Trial 270 finished with value: 0.9689911823171892 and parameters: {'C': 1.1038794479838394, 'tol': 0.005735490845263995}. Best is trial 135 with value: 0.9695859227158545.\n",
      "[I 2024-10-26 23:34:33,709] Trial 268 finished with value: 0.9695811135570358 and parameters: {'C': 8.756168183535594, 'tol': 5.777916326600647e-05}. Best is trial 135 with value: 0.9695859227158545.\n",
      "[I 2024-10-26 23:34:37,445] Trial 271 finished with value: 0.9689986600236219 and parameters: {'C': 6.472786503465943, 'tol': 0.005061843719441249}. Best is trial 135 with value: 0.9695859227158545.\n",
      "[I 2024-10-26 23:34:37,710] Trial 272 finished with value: 0.9690339700360875 and parameters: {'C': 0.7469315265536212, 'tol': 0.0019127962055516849}. Best is trial 135 with value: 0.9695859227158545.\n",
      "[I 2024-10-26 23:34:41,368] Trial 274 finished with value: 0.9690432802491825 and parameters: {'C': 0.07150993514057154, 'tol': 0.0020113631768394783}. Best is trial 135 with value: 0.9695859227158545.\n",
      "[I 2024-10-26 23:34:41,795] Trial 273 finished with value: 0.9691832063594372 and parameters: {'C': 0.7333259083943009, 'tol': 0.0017192412987309788}. Best is trial 135 with value: 0.9695859227158545.\n",
      "[I 2024-10-26 23:34:44,519] Trial 275 finished with value: 0.9690331128418874 and parameters: {'C': 8.825065084634307, 'tol': 0.0019924180232621424}. Best is trial 135 with value: 0.9695859227158545.\n",
      "[I 2024-10-26 23:34:44,520] Trial 276 finished with value: 0.9690331128418874 and parameters: {'C': 8.721721100832994, 'tol': 0.0020760324532432583}. Best is trial 135 with value: 0.9695859227158545.\n",
      "[I 2024-10-26 23:34:48,346] Trial 277 finished with value: 0.9690331128418874 and parameters: {'C': 8.808364644298846, 'tol': 0.001997265630974819}. Best is trial 135 with value: 0.9695859227158545.\n",
      "[I 2024-10-26 23:34:53,973] Trial 278 finished with value: 0.9695759936518856 and parameters: {'C': 8.857391709463503, 'tol': 9.828198856552602e-05}. Best is trial 135 with value: 0.9695859227158545.\n",
      "[I 2024-10-26 23:34:55,836] Trial 280 finished with value: 0.9695763269859852 and parameters: {'C': 9.058515488071166, 'tol': 0.00022165249798365594}. Best is trial 135 with value: 0.9695859227158545.\n",
      "[I 2024-10-26 23:34:56,077] Trial 279 finished with value: 0.9695757793355815 and parameters: {'C': 8.382851549342892, 'tol': 0.0001023558979960485}. Best is trial 135 with value: 0.9695859227158545.\n",
      "[I 2024-10-26 23:35:00,360] Trial 281 finished with value: 0.9695765651778109 and parameters: {'C': 1.3427260306789413, 'tol': 0.00018910521324451857}. Best is trial 135 with value: 0.9695859227158545.\n",
      "[I 2024-10-26 23:35:03,795] Trial 283 finished with value: 0.9689988266362262 and parameters: {'C': 1.3678613724238051, 'tol': 0.004192622550382852}. Best is trial 135 with value: 0.9695859227158545.\n",
      "[I 2024-10-26 23:35:04,222] Trial 284 finished with value: 0.9689989933009088 and parameters: {'C': 1.3367586120873127, 'tol': 0.004275233746323048}. Best is trial 135 with value: 0.9695859227158545.\n",
      "[I 2024-10-26 23:35:08,313] Trial 282 finished with value: 0.9695767080143154 and parameters: {'C': 1.2767919172879274, 'tol': 0.00016864135227703206}. Best is trial 135 with value: 0.9695859227158545.\n",
      "[I 2024-10-26 23:35:08,876] Trial 285 finished with value: 0.9690088265503206 and parameters: {'C': 1.6509195357406599, 'tol': 0.003920461651204469}. Best is trial 135 with value: 0.9695859227158545.\n",
      "[I 2024-10-26 23:35:12,289] Trial 286 finished with value: 0.9690088503642954 and parameters: {'C': 1.636618317481228, 'tol': 0.003699478699793635}. Best is trial 135 with value: 0.9695859227158545.\n",
      "[I 2024-10-26 23:35:12,853] Trial 287 finished with value: 0.9690210165452466 and parameters: {'C': 9.22150212184987, 'tol': 0.003278939686325604}. Best is trial 135 with value: 0.9695859227158545.\n",
      "[I 2024-10-26 23:35:17,015] Trial 288 finished with value: 0.9690069214749499 and parameters: {'C': 9.14118778564855, 'tol': 0.0034377450878954694}. Best is trial 135 with value: 0.9695859227158545.\n",
      "[I 2024-10-26 23:35:17,268] Trial 289 finished with value: 0.9690273033825036 and parameters: {'C': 0.9317910764955788, 'tol': 0.0026767071902031895}. Best is trial 135 with value: 0.9695859227158545.\n",
      "[I 2024-10-26 23:35:19,107] Trial 291 finished with value: 0.9672293679930413 and parameters: {'C': 1.8679638782297738, 'tol': 0.02948996344913}. Best is trial 135 with value: 0.9695859227158545.\n",
      "[I 2024-10-26 23:35:20,324] Trial 290 finished with value: 0.9689908728017989 and parameters: {'C': 1.883192522493869, 'tol': 0.006286213068005673}. Best is trial 135 with value: 0.9695859227158545.\n",
      "[I 2024-10-26 23:35:22,508] Trial 292 finished with value: 0.9671565960559194 and parameters: {'C': 1.8358658862158128, 'tol': 0.04099715043313766}. Best is trial 135 with value: 0.9695859227158545.\n",
      "[I 2024-10-26 23:35:24,607] Trial 294 finished with value: 0.9671566913023497 and parameters: {'C': 8.612499312392636, 'tol': 0.04238492134714468}. Best is trial 135 with value: 0.9695859227158545.\n",
      "[I 2024-10-26 23:35:24,875] Trial 293 finished with value: 0.9689908013646088 and parameters: {'C': 1.8554975792977697, 'tol': 0.006376552735944339}. Best is trial 135 with value: 0.9695859227158545.\n",
      "[I 2024-10-26 23:35:28,850] Trial 295 finished with value: 0.9690331128418874 and parameters: {'C': 8.67161110224706, 'tol': 0.0018943169258230394}. Best is trial 135 with value: 0.9695859227158545.\n",
      "[I 2024-10-26 23:35:31,193] Trial 296 finished with value: 0.9690817789244616 and parameters: {'C': 8.592559144759367, 'tol': 0.0017928212949894868}. Best is trial 135 with value: 0.9695859227158545.\n",
      "[I 2024-10-26 23:35:32,882] Trial 297 finished with value: 0.9690328984971769 and parameters: {'C': 2.217776055901153, 'tol': 0.0018860794101403827}. Best is trial 135 with value: 0.9695859227158545.\n",
      "[I 2024-10-26 23:35:33,888] Trial 298 finished with value: 0.9692156409125687 and parameters: {'C': 2.1841876348305345, 'tol': 0.0017129142121160503}. Best is trial 135 with value: 0.9695859227158545.\n",
      "[I 2024-10-26 23:35:37,610] Trial 301 finished with value: 0.9667846569183507 and parameters: {'C': 4.215212572820765, 'tol': 0.07028743716029821}. Best is trial 135 with value: 0.9695859227158545.\n",
      "[I 2024-10-26 23:35:42,345] Trial 299 finished with value: 0.9695789940422668 and parameters: {'C': 2.2195581331399206, 'tol': 9.766565098740537e-05}. Best is trial 135 with value: 0.9695859227158545.\n",
      "[I 2024-10-26 23:35:44,249] Trial 300 finished with value: 0.9695775176515822 and parameters: {'C': 1.5636264515884757, 'tol': 0.00016111960624462594}. Best is trial 135 with value: 0.9695859227158545.\n",
      "[I 2024-10-26 23:35:44,666] Trial 303 finished with value: 0.9689909442389887 and parameters: {'C': 1.6204791284202396, 'tol': 0.005249957529866349}. Best is trial 135 with value: 0.9695859227158545.\n",
      "[I 2024-10-26 23:35:46,135] Trial 302 finished with value: 0.9695750172931238 and parameters: {'C': 1.534138841348492, 'tol': 0.00022830580208007756}. Best is trial 135 with value: 0.9695859227158545.\n",
      "[I 2024-10-26 23:35:51,685] Trial 306 finished with value: 0.9690331366274556 and parameters: {'C': 2.521788024076128, 'tol': 0.0021477313968332455}. Best is trial 135 with value: 0.9695859227158545.\n",
      "[I 2024-10-26 23:35:53,693] Trial 307 finished with value: 0.969028398626498 and parameters: {'C': 0.42705832367276814, 'tol': 0.00279754610163068}. Best is trial 135 with value: 0.9695859227158545.\n",
      "[I 2024-10-26 23:35:56,872] Trial 304 finished with value: 0.9695821611872837 and parameters: {'C': 1.4914142176193435, 'tol': 3.264627089203495e-05}. Best is trial 135 with value: 0.9695859227158545.\n",
      "[I 2024-10-26 23:35:58,526] Trial 308 finished with value: 0.9690085644782387 and parameters: {'C': 0.5317012981898073, 'tol': 0.003374999830840118}. Best is trial 135 with value: 0.9695859227158545.\n",
      "[I 2024-10-26 23:35:58,783] Trial 305 finished with value: 0.9695808276094319 and parameters: {'C': 0.5435634092087458, 'tol': 3.858542481306126e-05}. Best is trial 135 with value: 0.9695859227158545.\n",
      "[I 2024-10-26 23:36:05,039] Trial 312 finished with value: 0.968937278197 and parameters: {'C': 1.0947553883704972, 'tol': 0.007818447443345028}. Best is trial 135 with value: 0.9695859227158545.\n",
      "[I 2024-10-26 23:36:05,529] Trial 309 finished with value: 0.96957585070649 and parameters: {'C': 2.004185097705708, 'tol': 0.00012794271016629405}. Best is trial 135 with value: 0.9695859227158545.\n",
      "[I 2024-10-26 23:36:09,438] Trial 314 finished with value: 0.9665986362371066 and parameters: {'C': 0.2667673495628011, 'tol': 0.09176176597206638}. Best is trial 135 with value: 0.9695859227158545.\n",
      "[I 2024-10-26 23:36:11,685] Trial 311 finished with value: 0.9695771603330698 and parameters: {'C': 1.0094742875928202, 'tol': 0.00013575951604058627}. Best is trial 135 with value: 0.9695859227158545.\n",
      "[I 2024-10-26 23:36:11,999] Trial 310 finished with value: 0.9695814469195415 and parameters: {'C': 0.9665954065219392, 'tol': 5.6234848962307115e-05}. Best is trial 135 with value: 0.9695859227158545.\n",
      "[I 2024-10-26 23:36:13,040] Trial 313 finished with value: 0.968991110572264 and parameters: {'C': 0.31363963417318175, 'tol': 0.005544338953904013}. Best is trial 135 with value: 0.9695859227158545.\n",
      "[I 2024-10-26 23:36:17,395] Trial 315 finished with value: 0.9690001590920279 and parameters: {'C': 0.09060852498041229, 'tol': 0.00563982422683987}. Best is trial 135 with value: 0.9695859227158545.\n",
      "[I 2024-10-26 23:36:19,554] Trial 316 finished with value: 0.9689986830942978 and parameters: {'C': 0.1272634105653352, 'tol': 0.005382048118886997}. Best is trial 135 with value: 0.9695859227158545.\n",
      "[I 2024-10-26 23:36:20,060] Trial 317 finished with value: 0.9689910631857686 and parameters: {'C': 0.6251317593202542, 'tol': 0.005467626851855706}. Best is trial 135 with value: 0.9695859227158545.\n",
      "[I 2024-10-26 23:36:21,241] Trial 318 finished with value: 0.9690278034665047 and parameters: {'C': 0.92016861228567, 'tol': 0.002409393042063359}. Best is trial 135 with value: 0.9695859227158545.\n",
      "[I 2024-10-26 23:36:25,546] Trial 319 finished with value: 0.9690280415352366 and parameters: {'C': 0.6948264402199619, 'tol': 0.002457869622614829}. Best is trial 135 with value: 0.9695859227158545.\n",
      "[I 2024-10-26 23:36:27,533] Trial 320 finished with value: 0.9690280891584514 and parameters: {'C': 0.6965796813124374, 'tol': 0.0026079622225614286}. Best is trial 135 with value: 0.9695859227158545.\n",
      "[I 2024-10-26 23:36:28,335] Trial 321 finished with value: 0.9690276367734159 and parameters: {'C': 0.9860228786097551, 'tol': 0.0023615964924349076}. Best is trial 135 with value: 0.9695859227158545.\n",
      "[I 2024-10-26 23:36:29,119] Trial 322 finished with value: 0.9690228501597558 and parameters: {'C': 0.9504125255154522, 'tol': 0.002769436625874256}. Best is trial 135 with value: 0.9695859227158545.\n",
      "[I 2024-10-26 23:36:32,125] Trial 323 finished with value: 0.9674582667773967 and parameters: {'C': 1.205115317244993, 'tol': 0.022705279728590096}. Best is trial 135 with value: 0.9695859227158545.\n",
      "[I 2024-10-26 23:36:35,066] Trial 324 finished with value: 0.9690087788939648 and parameters: {'C': 1.1563164803877828, 'tol': 0.0035202121727766003}. Best is trial 135 with value: 0.9695859227158545.\n",
      "[I 2024-10-26 23:36:35,670] Trial 325 finished with value: 0.9689989932914399 and parameters: {'C': 1.2582139145896363, 'tol': 0.004096807281887044}. Best is trial 135 with value: 0.9695859227158545.\n",
      "[I 2024-10-26 23:36:38,842] Trial 327 finished with value: 0.9674587430000793 and parameters: {'C': 8.33014457673528, 'tol': 0.01825993331506096}. Best is trial 135 with value: 0.9695859227158545.\n",
      "[I 2024-10-26 23:36:44,243] Trial 328 finished with value: 0.969355295699746 and parameters: {'C': 1.4471979315384216, 'tol': 0.001534626213568483}. Best is trial 135 with value: 0.9695859227158545.\n",
      "[I 2024-10-26 23:36:44,479] Trial 329 finished with value: 0.9692161648910291 and parameters: {'C': 1.4269441936211924, 'tol': 0.0017092340522224592}. Best is trial 135 with value: 0.9695859227158545.\n",
      "[I 2024-10-26 23:36:46,685] Trial 326 finished with value: 0.9695833518481465 and parameters: {'C': 1.3098443977225407, 'tol': 5.3457171862681035e-06}. Best is trial 135 with value: 0.9695859227158545.\n",
      "[I 2024-10-26 23:36:51,491] Trial 330 finished with value: 0.9695770413768214 and parameters: {'C': 1.41075721392593, 'tol': 0.00018990260209958312}. Best is trial 135 with value: 0.9695859227158545.\n",
      "[I 2024-10-26 23:36:52,411] Trial 331 finished with value: 0.9692343349632357 and parameters: {'C': 1.440969732697794, 'tol': 0.00164875802303256}. Best is trial 135 with value: 0.9695859227158545.\n",
      "[I 2024-10-26 23:36:58,906] Trial 333 finished with value: 0.9695768747310763 and parameters: {'C': 1.4511573995778304, 'tol': 0.00013064571825513303}. Best is trial 135 with value: 0.9695859227158545.\n",
      "[I 2024-10-26 23:36:59,146] Trial 332 finished with value: 0.9695818041481005 and parameters: {'C': 8.906599126089445, 'tol': 4.582374513198829e-05}. Best is trial 135 with value: 0.9695859227158545.\n",
      "[I 2024-10-26 23:36:59,575] Trial 335 finished with value: 0.9689985171729141 and parameters: {'C': 9.305543739862538, 'tol': 0.004255768925495676}. Best is trial 135 with value: 0.9695859227158545.\n",
      "[I 2024-10-26 23:37:05,194] Trial 334 finished with value: 0.9695828280590615 and parameters: {'C': 1.6931492990994803, 'tol': 6.983511121590356e-05}. Best is trial 135 with value: 0.9695859227158545.\n",
      "[I 2024-10-26 23:37:06,052] Trial 336 finished with value: 0.9689985171729141 and parameters: {'C': 9.348804028173674, 'tol': 0.004078799123687497}. Best is trial 135 with value: 0.9695859227158545.\n",
      "[I 2024-10-26 23:37:11,895] Trial 340 finished with value: 0.9671400962618145 and parameters: {'C': 8.976640155084384, 'tol': 0.033838555092869226}. Best is trial 135 with value: 0.9695859227158545.\n",
      "[I 2024-10-26 23:37:12,336] Trial 339 finished with value: 0.9689536113785009 and parameters: {'C': 8.832945078422217, 'tol': 0.007474178394548486}. Best is trial 135 with value: 0.9695859227158545.\n",
      "[I 2024-10-26 23:37:14,550] Trial 337 finished with value: 0.9695811135901764 and parameters: {'C': 9.258872762288007, 'tol': 4.217187018470633e-05}. Best is trial 135 with value: 0.9695859227158545.\n",
      "[I 2024-10-26 23:37:14,583] Trial 338 finished with value: 0.9695811850036945 and parameters: {'C': 8.940924369278266, 'tol': 5.184107068584417e-05}. Best is trial 135 with value: 0.9695859227158545.\n",
      "[I 2024-10-26 23:37:19,277] Trial 341 finished with value: 0.9690817551152211 and parameters: {'C': 8.937457455810536, 'tol': 0.0018504756145653774}. Best is trial 135 with value: 0.9695859227158545.\n",
      "[I 2024-10-26 23:37:20,253] Trial 342 finished with value: 0.9691829921046802 and parameters: {'C': 0.5347854022112682, 'tol': 0.0017081942389682429}. Best is trial 135 with value: 0.9695859227158545.\n",
      "[I 2024-10-26 23:37:21,987] Trial 344 finished with value: 0.969032993776748 and parameters: {'C': 9.103103326813999, 'tol': 0.002256259165116163}. Best is trial 135 with value: 0.9695859227158545.\n",
      "[I 2024-10-26 23:37:22,187] Trial 343 finished with value: 0.9690330175907228 and parameters: {'C': 9.602103929345509, 'tol': 0.00208432682495967}. Best is trial 135 with value: 0.9695859227158545.\n",
      "[I 2024-10-26 23:37:23,724] Trial 345 finished with value: 0.9665986362371066 and parameters: {'C': 9.446285136622999, 'tol': 0.07754559432291828}. Best is trial 135 with value: 0.9695859227158545.\n",
      "[I 2024-10-26 23:37:28,976] Trial 346 finished with value: 0.9690087313370312 and parameters: {'C': 9.198049738511425, 'tol': 0.003912547157720597}. Best is trial 135 with value: 0.9695859227158545.\n",
      "[I 2024-10-26 23:37:30,171] Trial 347 finished with value: 0.9689985409821545 and parameters: {'C': 9.278353916681029, 'tol': 0.004132143594281278}. Best is trial 135 with value: 0.9695859227158545.\n",
      "[I 2024-10-26 23:37:30,989] Trial 348 finished with value: 0.9689985409821545 and parameters: {'C': 9.198806436253648, 'tol': 0.004028086410672165}. Best is trial 135 with value: 0.9695859227158545.\n",
      "[I 2024-10-26 23:37:31,966] Trial 349 finished with value: 0.9689985409821545 and parameters: {'C': 9.13825406528618, 'tol': 0.004192691948766963}. Best is trial 135 with value: 0.9695859227158545.\n",
      "[I 2024-10-26 23:37:36,158] Trial 350 finished with value: 0.9690088027647523 and parameters: {'C': 5.059337308972626, 'tol': 0.003886632532478538}. Best is trial 135 with value: 0.9695859227158545.\n",
      "[I 2024-10-26 23:37:37,520] Trial 352 finished with value: 0.9682097857592332 and parameters: {'C': 1.7183757497485654, 'tol': 0.008938602862961671}. Best is trial 135 with value: 0.9695859227158545.\n",
      "[I 2024-10-26 23:37:42,624] Trial 351 finished with value: 0.9695764461126715 and parameters: {'C': 1.6532739171438728, 'tol': 0.0001140671664925568}. Best is trial 135 with value: 0.9695859227158545.\n",
      "[I 2024-10-26 23:37:46,473] Trial 353 finished with value: 0.9695838755567465 and parameters: {'C': 1.7064714782660126, 'tol': 2.541611677708754e-05}. Best is trial 135 with value: 0.9695859227158545.\n",
      "[I 2024-10-26 23:37:47,533] Trial 354 finished with value: 0.969576684081981 and parameters: {'C': 1.768159383562047, 'tol': 0.00015954117210980088}. Best is trial 135 with value: 0.9695859227158545.\n",
      "[I 2024-10-26 23:37:51,914] Trial 355 finished with value: 0.9695806610299684 and parameters: {'C': 1.7278713501701306, 'tol': 4.739702302683023e-05}. Best is trial 135 with value: 0.9695859227158545.\n",
      "[I 2024-10-26 23:37:54,139] Trial 357 finished with value: 0.9689910870660248 and parameters: {'C': 1.208255128996282, 'tol': 0.006425158703696526}. Best is trial 135 with value: 0.9695859227158545.\n",
      "[I 2024-10-26 23:37:54,929] Trial 358 finished with value: 0.9689912061169605 and parameters: {'C': 1.2762930185091053, 'tol': 0.00666450283896185}. Best is trial 135 with value: 0.9695859227158545.\n",
      "[I 2024-10-26 23:37:59,541] Trial 356 finished with value: 0.9695827804358462 and parameters: {'C': 9.543170558731807, 'tol': 1.8114323646367783e-05}. Best is trial 135 with value: 0.9695859227158545.\n",
      "[I 2024-10-26 23:37:59,792] Trial 359 finished with value: 0.9689911823077203 and parameters: {'C': 1.1746617455780988, 'tol': 0.006374440813816476}. Best is trial 135 with value: 0.9695859227158545.\n",
      "[I 2024-10-26 23:38:02,946] Trial 361 finished with value: 0.9690330652186722 and parameters: {'C': 8.955949982541796, 'tol': 0.00210769377904232}. Best is trial 135 with value: 0.9695859227158545.\n",
      "[I 2024-10-26 23:38:03,208] Trial 360 finished with value: 0.9692343111303234 and parameters: {'C': 1.5647885940610415, 'tol': 0.0016750747557135685}. Best is trial 135 with value: 0.9695859227158545.\n",
      "[I 2024-10-26 23:38:07,695] Trial 362 finished with value: 0.9690330175907228 and parameters: {'C': 9.610938560194766, 'tol': 0.0019892422668394416}. Best is trial 135 with value: 0.9695859227158545.\n",
      "[I 2024-10-26 23:38:08,058] Trial 363 finished with value: 0.9690330175907228 and parameters: {'C': 9.558631704996536, 'tol': 0.0018664206292133534}. Best is trial 135 with value: 0.9695859227158545.\n",
      "[I 2024-10-26 23:38:11,559] Trial 364 finished with value: 0.9690330175907228 and parameters: {'C': 9.532273086360158, 'tol': 0.0021021674757122017}. Best is trial 135 with value: 0.9695859227158545.\n",
      "[I 2024-10-26 23:38:11,784] Trial 365 finished with value: 0.9690328747021398 and parameters: {'C': 6.177818568201416, 'tol': 0.0019143278372357668}. Best is trial 135 with value: 0.9695859227158545.\n",
      "[I 2024-10-26 23:38:15,780] Trial 366 finished with value: 0.9690270176621505 and parameters: {'C': 9.910211742746245, 'tol': 0.0023803944478498493}. Best is trial 135 with value: 0.9695859227158545.\n",
      "[I 2024-10-26 23:38:18,462] Trial 368 finished with value: 0.9690087313370312 and parameters: {'C': 9.401945115634678, 'tol': 0.0038978423194992212}. Best is trial 135 with value: 0.9695859227158545.\n",
      "[I 2024-10-26 23:38:24,096] Trial 367 finished with value: 0.9695832566395911 and parameters: {'C': 9.866123966616831, 'tol': 9.574477970869749e-06}. Best is trial 135 with value: 0.9695859227158545.\n",
      "[I 2024-10-26 23:38:24,764] Trial 369 finished with value: 0.969578327767022 and parameters: {'C': 9.94651266239256, 'tol': 6.365425210912017e-05}. Best is trial 135 with value: 0.9695859227158545.\n",
      "[I 2024-10-26 23:38:30,558] Trial 372 finished with value: 0.9689906347472703 and parameters: {'C': 9.916469431665776, 'tol': 0.005317082179710597}. Best is trial 135 with value: 0.9695859227158545.\n",
      "[I 2024-10-26 23:38:31,313] Trial 370 finished with value: 0.9695833042628064 and parameters: {'C': 9.453336050153366, 'tol': 4.689440528744123e-06}. Best is trial 135 with value: 0.9695859227158545.\n",
      "[I 2024-10-26 23:38:31,854] Trial 371 finished with value: 0.9695811611849852 and parameters: {'C': 8.978160720536179, 'tol': 4.8598117407785545e-05}. Best is trial 135 with value: 0.9695859227158545.\n",
      "[I 2024-10-26 23:38:38,386] Trial 374 finished with value: 0.9690069452889245 and parameters: {'C': 9.684346660965456, 'tol': 0.0033978237548029627}. Best is trial 135 with value: 0.9695859227158545.\n",
      "[I 2024-10-26 23:38:39,765] Trial 375 finished with value: 0.9690069452889245 and parameters: {'C': 9.702605442655708, 'tol': 0.003394965199818603}. Best is trial 135 with value: 0.9695859227158545.\n",
      "[I 2024-10-26 23:38:40,075] Trial 376 finished with value: 0.9690069452889245 and parameters: {'C': 9.596094212330728, 'tol': 0.0034081444246746914}. Best is trial 135 with value: 0.9695859227158545.\n",
      "[I 2024-10-26 23:38:40,517] Trial 373 finished with value: 0.9695806135819256 and parameters: {'C': 9.822216300932649, 'tol': 4.575588443084002e-05}. Best is trial 135 with value: 0.9695859227158545.\n",
      "[I 2024-10-26 23:38:46,200] Trial 379 finished with value: 0.9671566674931092 and parameters: {'C': 5.653392230082489, 'tol': 0.04738696999965736}. Best is trial 135 with value: 0.9695859227158545.\n",
      "[I 2024-10-26 23:38:46,205] Trial 377 finished with value: 0.9690072785709459 and parameters: {'C': 0.9350996092186734, 'tol': 0.003352165292173893}. Best is trial 135 with value: 0.9695859227158545.\n",
      "[I 2024-10-26 23:38:47,919] Trial 378 finished with value: 0.9690330413999633 and parameters: {'C': 9.74749766630602, 'tol': 0.001900840428490059}. Best is trial 135 with value: 0.9695859227158545.\n",
      "[I 2024-10-26 23:38:49,974] Trial 380 finished with value: 0.9692350732295939 and parameters: {'C': 0.8687244234527134, 'tol': 0.0016885088572801865}. Best is trial 135 with value: 0.9695859227158545.\n",
      "[I 2024-10-26 23:38:54,012] Trial 382 finished with value: 0.9690330175907228 and parameters: {'C': 9.442081367179664, 'tol': 0.0018697505698166527}. Best is trial 135 with value: 0.9695859227158545.\n",
      "[I 2024-10-26 23:38:54,027] Trial 381 finished with value: 0.9690329699675075 and parameters: {'C': 1.8241629477481769, 'tol': 0.0019894725717796596}. Best is trial 135 with value: 0.9695859227158545.\n",
      "[I 2024-10-26 23:38:55,923] Trial 383 finished with value: 0.9689908251738493 and parameters: {'C': 1.8085107190614134, 'tol': 0.005224570023509324}. Best is trial 135 with value: 0.9695859227158545.\n",
      "[I 2024-10-26 23:38:58,076] Trial 384 finished with value: 0.9689985171729141 and parameters: {'C': 9.497850809886248, 'tol': 0.004566933293703744}. Best is trial 135 with value: 0.9695859227158545.\n",
      "[I 2024-10-26 23:39:01,849] Trial 385 finished with value: 0.9689908489878241 and parameters: {'C': 1.8712198502568538, 'tol': 0.005717506896661871}. Best is trial 135 with value: 0.9695859227158545.\n",
      "[I 2024-10-26 23:39:02,188] Trial 386 finished with value: 0.9689990409193895 and parameters: {'C': 1.3085992199653464, 'tol': 0.0051690800262656}. Best is trial 135 with value: 0.9695859227158545.\n",
      "[I 2024-10-26 23:39:05,124] Trial 388 finished with value: 0.9684690669712387 and parameters: {'C': 9.989178773178049, 'tol': 0.008489754686788831}. Best is trial 135 with value: 0.9695859227158545.\n",
      "[I 2024-10-26 23:39:08,998] Trial 389 finished with value: 0.9684689717200741 and parameters: {'C': 6.840095886030989, 'tol': 0.008695591706771373}. Best is trial 135 with value: 0.9695859227158545.\n",
      "[I 2024-10-26 23:39:10,379] Trial 390 finished with value: 0.9690817074825372 and parameters: {'C': 1.5215249656905399, 'tol': 0.0017875693859455842}. Best is trial 135 with value: 0.9695859227158545.\n",
      "[I 2024-10-26 23:39:12,199] Trial 387 finished with value: 0.9695815659136651 and parameters: {'C': 1.4166454280401561, 'tol': 3.879182988047319e-05}. Best is trial 135 with value: 0.9695859227158545.\n",
      "[I 2024-10-26 23:39:12,824] Trial 391 finished with value: 0.9690330890184438 and parameters: {'C': 1.5106427397644289, 'tol': 0.0019354610687989113}. Best is trial 135 with value: 0.9695859227158545.\n",
      "[I 2024-10-26 23:39:20,335] Trial 394 finished with value: 0.9690330652186722 and parameters: {'C': 1.4114570217259101, 'tol': 0.0019378415332948736}. Best is trial 135 with value: 0.9695859227158545.\n",
      "[I 2024-10-26 23:39:20,914] Trial 395 finished with value: 0.9690208736282575 and parameters: {'C': 1.0873060072378886, 'tol': 0.0031538679008356794}. Best is trial 135 with value: 0.9695859227158545.\n",
      "[I 2024-10-26 23:39:25,244] Trial 392 finished with value: 0.9695834232285236 and parameters: {'C': 1.4780666418941264, 'tol': 1.6699656615492105e-05}. Best is trial 135 with value: 0.9695859227158545.\n",
      "[I 2024-10-26 23:39:25,643] Trial 397 finished with value: 0.966846135994049 and parameters: {'C': 1.2278286562063963, 'tol': 0.06409682418212051}. Best is trial 135 with value: 0.9695859227158545.\n",
      "[I 2024-10-26 23:39:26,007] Trial 393 finished with value: 0.9695794231341104 and parameters: {'C': 1.081571145636286, 'tol': 5.599035540497498e-05}. Best is trial 135 with value: 0.9695859227158545.\n",
      "[I 2024-10-26 23:39:33,174] Trial 399 finished with value: 0.9690088503642954 and parameters: {'C': 1.6711601982955524, 'tol': 0.003625243170683276}. Best is trial 135 with value: 0.9695859227158545.\n",
      "[I 2024-10-26 23:39:33,741] Trial 400 finished with value: 0.9690088265503206 and parameters: {'C': 1.6534326363821308, 'tol': 0.003624375978085795}. Best is trial 135 with value: 0.9695859227158545.\n",
      "[I 2024-10-26 23:39:33,940] Trial 396 finished with value: 0.9695780176598328 and parameters: {'C': 1.2610204144061896, 'tol': 0.00011240145733301923}. Best is trial 135 with value: 0.9695859227158545.\n",
      "[I 2024-10-26 23:39:38,846] Trial 401 finished with value: 0.9671353301764635 and parameters: {'C': 1.9369596962636195, 'tol': 0.053265904082252076}. Best is trial 135 with value: 0.9695859227158545.\n",
      "[I 2024-10-26 23:39:39,801] Trial 403 finished with value: 0.9673413346363191 and parameters: {'C': 5.292876006504395, 'tol': 0.025575750507971028}. Best is trial 135 with value: 0.9695859227158545.\n",
      "[I 2024-10-26 23:39:40,265] Trial 398 finished with value: 0.9695775180634738 and parameters: {'C': 5.315307268838698, 'tol': 6.246761757514488e-05}. Best is trial 135 with value: 0.9695859227158545.\n",
      "[I 2024-10-26 23:39:42,913] Trial 402 finished with value: 0.96935534333243 and parameters: {'C': 1.4336774175900533, 'tol': 0.0016018522107463535}. Best is trial 135 with value: 0.9695859227158545.\n",
      "[I 2024-10-26 23:39:43,701] Trial 405 finished with value: 0.9665986362371066 and parameters: {'C': 1.4628595907282085, 'tol': 0.08526341110604627}. Best is trial 135 with value: 0.9695859227158545.\n",
      "[I 2024-10-26 23:39:48,102] Trial 406 finished with value: 0.9690331366511277 and parameters: {'C': 1.4650261069246941, 'tol': 0.0018704207915377984}. Best is trial 135 with value: 0.9695859227158545.\n",
      "[I 2024-10-26 23:39:50,630] Trial 408 finished with value: 0.9689908728017989 and parameters: {'C': 1.9046079386326984, 'tol': 0.006704428895632277}. Best is trial 135 with value: 0.9695859227158545.\n",
      "[I 2024-10-26 23:39:54,980] Trial 404 finished with value: 0.9695830899275648 and parameters: {'C': 1.4909247195608695, 'tol': 4.870668071274942e-06}. Best is trial 135 with value: 0.9695859227158545.\n",
      "[I 2024-10-26 23:39:55,226] Trial 409 finished with value: 0.9689909442484576 and parameters: {'C': 1.945621887398594, 'tol': 0.005667442743147462}. Best is trial 135 with value: 0.9695859227158545.\n",
      "[I 2024-10-26 23:39:57,456] Trial 410 finished with value: 0.9689987790461518 and parameters: {'C': 1.934412899407834, 'tol': 0.003989504788590951}. Best is trial 135 with value: 0.9695859227158545.\n",
      "[I 2024-10-26 23:39:57,710] Trial 407 finished with value: 0.969581161085563 and parameters: {'C': 1.9818489278797884, 'tol': 4.83302995801991e-05}. Best is trial 135 with value: 0.9695859227158545.\n",
      "[I 2024-10-26 23:40:02,489] Trial 411 finished with value: 0.9689988028553922 and parameters: {'C': 2.002388084035767, 'tol': 0.004579855408720387}. Best is trial 135 with value: 0.9695859227158545.\n",
      "[I 2024-10-26 23:40:03,031] Trial 412 finished with value: 0.9690210641211179 and parameters: {'C': 1.6907427854284818, 'tol': 0.003275151151669916}. Best is trial 135 with value: 0.9695859227158545.\n",
      "[I 2024-10-26 23:40:05,286] Trial 413 finished with value: 0.9690271366846803 and parameters: {'C': 1.6945990328213432, 'tol': 0.002518985177741584}. Best is trial 135 with value: 0.9695859227158545.\n",
      "[I 2024-10-26 23:40:05,481] Trial 414 finished with value: 0.9690209450654471 and parameters: {'C': 1.821071163953697, 'tol': 0.002866405978284092}. Best is trial 135 with value: 0.9695859227158545.\n",
      "[I 2024-10-26 23:40:09,279] Trial 415 finished with value: 0.9690329461393297 and parameters: {'C': 1.7099736599177546, 'tol': 0.002256158177051175}. Best is trial 135 with value: 0.9695859227158545.\n",
      "[I 2024-10-26 23:40:12,880] Trial 418 finished with value: 0.9690817789149927 and parameters: {'C': 9.761072271853536, 'tol': 0.0018373845689575795}. Best is trial 135 with value: 0.9695859227158545.\n",
      "[I 2024-10-26 23:40:17,028] Trial 419 finished with value: 0.9690817551625649 and parameters: {'C': 1.2908677405464133, 'tol': 0.0018181277762354454}. Best is trial 135 with value: 0.9695859227158545.\n",
      "[I 2024-10-26 23:40:18,869] Trial 416 finished with value: 0.9695815422464564 and parameters: {'C': 4.60337202722792, 'tol': 2.2437367978284273e-05}. Best is trial 135 with value: 0.9695859227158545.\n",
      "[I 2024-10-26 23:40:20,517] Trial 417 finished with value: 0.9695806136055974 and parameters: {'C': 9.755415785472525, 'tol': 4.625706212437918e-05}. Best is trial 135 with value: 0.9695859227158545.\n",
      "[I 2024-10-26 23:40:20,519] Trial 420 finished with value: 0.9690329461487984 and parameters: {'C': 1.5592224445930938, 'tol': 0.002220743574536344}. Best is trial 135 with value: 0.9695859227158545.\n",
      "[I 2024-10-26 23:40:24,124] Trial 421 finished with value: 0.9689906347472702 and parameters: {'C': 9.370178308355689, 'tol': 0.005639051585208443}. Best is trial 135 with value: 0.9695859227158545.\n",
      "[I 2024-10-26 23:40:27,525] Trial 423 finished with value: 0.9689988266598982 and parameters: {'C': 1.5625935826948834, 'tol': 0.005126474696502833}. Best is trial 135 with value: 0.9695859227158545.\n",
      "[I 2024-10-26 23:40:27,755] Trial 424 finished with value: 0.9689985171729141 and parameters: {'C': 9.455526845206062, 'tol': 0.004878753060053183}. Best is trial 135 with value: 0.9695859227158545.\n",
      "[I 2024-10-26 23:40:31,245] Trial 425 finished with value: 0.9689988742689101 and parameters: {'C': 1.5314860930361625, 'tol': 0.004070917789622004}. Best is trial 135 with value: 0.9695859227158545.\n",
      "[I 2024-10-26 23:40:33,455] Trial 422 finished with value: 0.9695781610123859 and parameters: {'C': 9.414377526413025, 'tol': 6.775920599062912e-05}. Best is trial 135 with value: 0.9695859227158545.\n",
      "[I 2024-10-26 23:40:35,350] Trial 427 finished with value: 0.9690817789765397 and parameters: {'C': 1.2813885648155212, 'tol': 0.0018454847159513049}. Best is trial 135 with value: 0.9695859227158545.\n",
      "[I 2024-10-26 23:40:40,640] Trial 429 finished with value: 0.9690330413999633 and parameters: {'C': 9.999661594272867, 'tol': 0.00211066392154854}. Best is trial 135 with value: 0.9695859227158545.\n",
      "[I 2024-10-26 23:40:40,992] Trial 426 finished with value: 0.969580566124414 and parameters: {'C': 1.264089612655959, 'tol': 7.886850910513338e-05}. Best is trial 135 with value: 0.9695859227158545.\n",
      "[I 2024-10-26 23:40:44,359] Trial 428 finished with value: 0.9695773272581437 and parameters: {'C': 2.1149929062495922, 'tol': 9.440155527396391e-05}. Best is trial 135 with value: 0.9695859227158545.\n",
      "[I 2024-10-26 23:40:48,129] Trial 432 finished with value: 0.9689848966872013 and parameters: {'C': 2.0816516036906365, 'tol': 0.007102254455677713}. Best is trial 135 with value: 0.9695859227158545.\n",
      "[I 2024-10-26 23:40:49,542] Trial 430 finished with value: 0.9695793751984259 and parameters: {'C': 2.1321023117908893, 'tol': 6.161996817695725e-05}. Best is trial 135 with value: 0.9695859227158545.\n",
      "[I 2024-10-26 23:40:50,503] Trial 433 finished with value: 0.967851917717017 and parameters: {'C': 1.764245523691498, 'tol': 0.011039758486971252}. Best is trial 135 with value: 0.9695859227158545.\n",
      "[I 2024-10-26 23:40:54,792] Trial 434 finished with value: 0.9690068738138595 and parameters: {'C': 1.7459785057434176, 'tol': 0.003434712942457586}. Best is trial 135 with value: 0.9695859227158545.\n",
      "[I 2024-10-26 23:40:56,503] Trial 431 finished with value: 0.9695813754208045 and parameters: {'C': 2.123972582624351, 'tol': 2.722641586207472e-05}. Best is trial 135 with value: 0.9695859227158545.\n",
      "[I 2024-10-26 23:40:57,029] Trial 435 finished with value: 0.9690210641163833 and parameters: {'C': 1.6955253180290741, 'tol': 0.0030840766588790046}. Best is trial 135 with value: 0.9695859227158545.\n",
      "[I 2024-10-26 23:40:57,935] Trial 436 finished with value: 0.9690209689078284 and parameters: {'C': 6.620234702365758, 'tol': 0.0033261734763235934}. Best is trial 135 with value: 0.9695859227158545.\n",
      "[I 2024-10-26 23:41:02,817] Trial 437 finished with value: 0.969033184288546 and parameters: {'C': 1.1328541386100732, 'tol': 0.002070917508754216}. Best is trial 135 with value: 0.9695859227158545.\n",
      "[I 2024-10-26 23:41:03,030] Trial 438 finished with value: 0.9674582667773969 and parameters: {'C': 1.0786207678811446, 'tol': 0.02022110884166358}. Best is trial 135 with value: 0.9695859227158545.\n",
      "[I 2024-10-26 23:41:05,171] Trial 439 finished with value: 0.9690269462107575 and parameters: {'C': 3.75813919215133, 'tol': 0.0024411855841949444}. Best is trial 135 with value: 0.9695859227158545.\n",
      "[I 2024-10-26 23:41:05,994] Trial 440 finished with value: 0.9690330175907228 and parameters: {'C': 9.179432171875623, 'tol': 0.001922550826629797}. Best is trial 135 with value: 0.9695859227158545.\n",
      "[I 2024-10-26 23:41:10,833] Trial 441 finished with value: 0.9690330175907228 and parameters: {'C': 9.194096997634134, 'tol': 0.0019008002057146354}. Best is trial 135 with value: 0.9695859227158545.\n",
      "[I 2024-10-26 23:41:11,216] Trial 442 finished with value: 0.9690330413762911 and parameters: {'C': 3.4513204831613127, 'tol': 0.001868539863756937}. Best is trial 135 with value: 0.9695859227158545.\n",
      "[I 2024-10-26 23:41:13,633] Trial 444 finished with value: 0.9689537303868276 and parameters: {'C': 1.4254753975853478, 'tol': 0.007436145156953911}. Best is trial 135 with value: 0.9695859227158545.\n",
      "[I 2024-10-26 23:41:14,700] Trial 443 finished with value: 0.9692149741260099 and parameters: {'C': 9.133523868834764, 'tol': 0.0016404208713011472}. Best is trial 135 with value: 0.9695859227158545.\n",
      "[I 2024-10-26 23:41:18,829] Trial 445 finished with value: 0.9689988742736444 and parameters: {'C': 1.4981017925855036, 'tol': 0.005151553351168897}. Best is trial 135 with value: 0.9695859227158545.\n",
      "[I 2024-10-26 23:41:19,657] Trial 446 finished with value: 0.9689371591934078 and parameters: {'C': 7.779053145149063, 'tol': 0.007615138721343818}. Best is trial 135 with value: 0.9695859227158545.\n",
      "[I 2024-10-26 23:41:22,380] Trial 447 finished with value: 0.9689909680387603 and parameters: {'C': 1.5380499398679628, 'tol': 0.00550269977055004}. Best is trial 135 with value: 0.9695859227158545.\n",
      "[I 2024-10-26 23:41:23,290] Trial 448 finished with value: 0.9689991123234387 and parameters: {'C': 0.8200533966193331, 'tol': 0.004744197656010502}. Best is trial 135 with value: 0.9695859227158545.\n",
      "[I 2024-10-26 23:41:26,154] Trial 449 finished with value: 0.9689985886006353 and parameters: {'C': 8.416997524051883, 'tol': 0.004755773704325541}. Best is trial 135 with value: 0.9695859227158545.\n",
      "[I 2024-10-26 23:41:27,076] Trial 450 finished with value: 0.9689985886006353 and parameters: {'C': 8.50435506450614, 'tol': 0.004135747054991193}. Best is trial 135 with value: 0.9695859227158545.\n",
      "[I 2024-10-26 23:41:29,603] Trial 451 finished with value: 0.9690087551462716 and parameters: {'C': 8.564312507079846, 'tol': 0.0039832996165757514}. Best is trial 135 with value: 0.9695859227158545.\n",
      "[I 2024-10-26 23:41:30,467] Trial 452 finished with value: 0.9690086360574602 and parameters: {'C': 1.855929951787146, 'tol': 0.003974463930690003}. Best is trial 135 with value: 0.9695859227158545.\n",
      "[I 2024-10-26 23:41:35,970] Trial 456 finished with value: 0.9674611953471025 and parameters: {'C': 4.068688120631295, 'tol': 0.015599584418201896}. Best is trial 135 with value: 0.9695859227158545.\n",
      "[I 2024-10-26 23:41:38,260] Trial 453 finished with value: 0.9695793039364082 and parameters: {'C': 8.763640379657994, 'tol': 9.501821865362426e-05}. Best is trial 135 with value: 0.9695859227158545.\n",
      "[I 2024-10-26 23:41:40,906] Trial 454 finished with value: 0.9695802562776163 and parameters: {'C': 1.839257877277933, 'tol': 3.918011571115943e-05}. Best is trial 135 with value: 0.9695859227158545.\n",
      "[I 2024-10-26 23:41:45,401] Trial 455 finished with value: 0.9695831851976668 and parameters: {'C': 1.8773480868545525, 'tol': 8.764949942924794e-06}. Best is trial 135 with value: 0.9695859227158545.\n",
      "[I 2024-10-26 23:41:45,848] Trial 459 finished with value: 0.966846183626733 and parameters: {'C': 9.674619568470401, 'tol': 0.05949721145306586}. Best is trial 135 with value: 0.9695859227158545.\n",
      "[I 2024-10-26 23:41:46,252] Trial 458 finished with value: 0.9692156171554066 and parameters: {'C': 1.648576636015051, 'tol': 0.0017090945853394817}. Best is trial 135 with value: 0.9695859227158545.\n",
      "[I 2024-10-26 23:41:51,614] Trial 457 finished with value: 0.9695824470212621 and parameters: {'C': 9.673999672440448, 'tol': 1.8705274281527793e-05}. Best is trial 135 with value: 0.9695859227158545.\n",
      "[I 2024-10-26 23:41:53,136] Trial 461 finished with value: 0.96903332716766 and parameters: {'C': 1.3067944934606004, 'tol': 0.0020870490887156985}. Best is trial 135 with value: 0.9695859227158545.\n",
      "[I 2024-10-26 23:41:53,639] Trial 462 finished with value: 0.9690332080930519 and parameters: {'C': 1.345648271772554, 'tol': 0.0022440870559111256}. Best is trial 135 with value: 0.9695859227158545.\n",
      "[I 2024-10-26 23:41:59,241] Trial 463 finished with value: 0.9690817789149927 and parameters: {'C': 9.864481769612501, 'tol': 0.0018259330845719786}. Best is trial 135 with value: 0.9695859227158545.\n",
      "[I 2024-10-26 23:42:01,478] Trial 464 finished with value: 0.9690920168883501 and parameters: {'C': 9.649642504260997, 'tol': 0.0017778500497703615}. Best is trial 135 with value: 0.9695859227158545.\n",
      "[I 2024-10-26 23:42:02,685] Trial 465 finished with value: 0.9693374113999708 and parameters: {'C': 9.81523396141719, 'tol': 0.0015367634121487333}. Best is trial 135 with value: 0.9695859227158545.\n",
      "[I 2024-10-26 23:42:02,989] Trial 466 finished with value: 0.9665986362371066 and parameters: {'C': 9.69699617701134, 'tol': 0.07368660036504819}. Best is trial 135 with value: 0.9695859227158545.\n",
      "[I 2024-10-26 23:42:03,226] Trial 460 finished with value: 0.9695832804346285 and parameters: {'C': 9.620317942468443, 'tol': 5.880904571055458e-06}. Best is trial 135 with value: 0.9695859227158545.\n",
      "[I 2024-10-26 23:42:09,623] Trial 470 finished with value: 0.9690069452889245 and parameters: {'C': 9.672539802462682, 'tol': 0.0034647846520938484}. Best is trial 135 with value: 0.9695859227158545.\n",
      "[I 2024-10-26 23:42:13,572] Trial 467 finished with value: 0.9695769222311975 and parameters: {'C': 9.441537296730164, 'tol': 0.00014866821442897368}. Best is trial 135 with value: 0.9695859227158545.\n",
      "[I 2024-10-26 23:42:14,964] Trial 468 finished with value: 0.9695795182669154 and parameters: {'C': 9.511070856388429, 'tol': 9.05184410933129e-05}. Best is trial 135 with value: 0.9695859227158545.\n",
      "[I 2024-10-26 23:42:17,391] Trial 469 finished with value: 0.9695807088662308 and parameters: {'C': 9.539612514202995, 'tol': 3.3574054629786765e-05}. Best is trial 135 with value: 0.9695859227158545.\n",
      "[I 2024-10-26 23:42:21,494] Trial 473 finished with value: 0.9690069214749499 and parameters: {'C': 9.462198721044317, 'tol': 0.003563646545261616}. Best is trial 135 with value: 0.9695859227158545.\n",
      "[I 2024-10-26 23:42:21,909] Trial 471 finished with value: 0.9695789229128122 and parameters: {'C': 9.297982807160713, 'tol': 8.959896633998349e-05}. Best is trial 135 with value: 0.9695859227158545.\n",
      "[I 2024-10-26 23:42:24,201] Trial 474 finished with value: 0.9690069452889245 and parameters: {'C': 9.980143133639867, 'tol': 0.003503548577836876}. Best is trial 135 with value: 0.9695859227158545.\n",
      "[I 2024-10-26 23:42:28,677] Trial 475 finished with value: 0.9690069452889245 and parameters: {'C': 9.875980320729223, 'tol': 0.003492603575573688}. Best is trial 135 with value: 0.9695859227158545.\n",
      "[I 2024-10-26 23:42:28,931] Trial 472 finished with value: 0.9695809469775721 and parameters: {'C': 9.545661278983173, 'tol': 4.307014213304228e-05}. Best is trial 135 with value: 0.9695859227158545.\n",
      "[I 2024-10-26 23:42:29,222] Trial 476 finished with value: 0.9689906347472703 and parameters: {'C': 9.90462285787532, 'tol': 0.006574711604240998}. Best is trial 135 with value: 0.9695859227158545.\n",
      "[I 2024-10-26 23:42:31,760] Trial 477 finished with value: 0.9689906347472703 and parameters: {'C': 9.767200951902616, 'tol': 0.0060550890072627464}. Best is trial 135 with value: 0.9695859227158545.\n",
      "[I 2024-10-26 23:42:36,096] Trial 478 finished with value: 0.9689906347472703 and parameters: {'C': 9.652026290604624, 'tol': 0.006283559248062606}. Best is trial 135 with value: 0.9695859227158545.\n",
      "[I 2024-10-26 23:42:36,540] Trial 479 finished with value: 0.9689846586090007 and parameters: {'C': 5.9808305691469394, 'tol': 0.006724626813835009}. Best is trial 135 with value: 0.9695859227158545.\n",
      "[I 2024-10-26 23:42:36,894] Trial 480 finished with value: 0.9690330175907228 and parameters: {'C': 9.31662922895976, 'tol': 0.00203220799642932}. Best is trial 135 with value: 0.9695859227158545.\n",
      "[I 2024-10-26 23:42:39,688] Trial 481 finished with value: 0.9690332795397106 and parameters: {'C': 1.0570284504085152, 'tol': 0.001979929247679254}. Best is trial 135 with value: 0.9695859227158545.\n",
      "[I 2024-10-26 23:42:44,309] Trial 482 finished with value: 0.9690816837537815 and parameters: {'C': 1.017410017274488, 'tol': 0.001799180965181392}. Best is trial 135 with value: 0.9695859227158545.\n",
      "[I 2024-10-26 23:42:44,345] Trial 483 finished with value: 0.9690334462280651 and parameters: {'C': 1.0253336349177389, 'tol': 0.0021063335122033107}. Best is trial 135 with value: 0.9695859227158545.\n",
      "[I 2024-10-26 23:42:44,641] Trial 484 finished with value: 0.9690328270883934 and parameters: {'C': 1.994382910969437, 'tol': 0.002026313125626591}. Best is trial 135 with value: 0.9695859227158545.\n",
      "[I 2024-10-26 23:42:46,828] Trial 485 finished with value: 0.969021159329673 and parameters: {'C': 0.8497801657121437, 'tol': 0.0033323803260241007}. Best is trial 135 with value: 0.9695859227158545.\n",
      "[I 2024-10-26 23:42:52,571] Trial 486 finished with value: 0.9690067547392515 and parameters: {'C': 2.3051961867275743, 'tol': 0.0035722976671288737}. Best is trial 135 with value: 0.9695859227158545.\n",
      "[I 2024-10-26 23:42:53,121] Trial 488 finished with value: 0.9690087789176369 and parameters: {'C': 1.4894725659162034, 'tol': 0.0038651049414313377}. Best is trial 135 with value: 0.9695859227158545.\n",
      "[I 2024-10-26 23:42:54,870] Trial 489 finished with value: 0.9689987313992647 and parameters: {'C': 2.3408650283511694, 'tol': 0.004264281598084041}. Best is trial 135 with value: 0.9695859227158545.\n",
      "[I 2024-10-26 23:42:59,168] Trial 487 finished with value: 0.9695781609934484 and parameters: {'C': 2.27794119544156, 'tol': 5.400983442458428e-05}. Best is trial 135 with value: 0.9695859227158545.\n",
      "[I 2024-10-26 23:43:05,471] Trial 491 finished with value: 0.9695918278430289 and parameters: {'C': 0.03408199655453448, 'tol': 5.828895831538566e-05}. Best is trial 491 with value: 0.9695918278430289.\n",
      "[I 2024-10-26 23:43:05,871] Trial 492 finished with value: 0.9695784701206188 and parameters: {'C': 4.842909169308911, 'tol': 0.00013141131776761068}. Best is trial 491 with value: 0.9695918278430289.\n",
      "[I 2024-10-26 23:43:06,175] Trial 493 finished with value: 0.9690920883208056 and parameters: {'C': 8.071004342301205, 'tol': 0.0017653403001100687}. Best is trial 491 with value: 0.9695918278430289.\n",
      "[I 2024-10-26 23:43:06,752] Trial 490 finished with value: 0.9695841137580414 and parameters: {'C': 1.3017279200192897, 'tol': 1.7327279088656867e-05}. Best is trial 491 with value: 0.9695918278430289.\n",
      "[I 2024-10-26 23:43:12,209] Trial 494 finished with value: 0.9678504412979262 and parameters: {'C': 0.37740795016161444, 'tol': 0.010175659353774796}. Best is trial 491 with value: 0.9695918278430289.\n",
      "[I 2024-10-26 23:43:13,359] Trial 497 finished with value: 0.9679123223468903 and parameters: {'C': 0.03439114758977424, 'tol': 0.009725906093290626}. Best is trial 491 with value: 0.9695918278430289.\n",
      "[I 2024-10-26 23:43:13,834] Trial 495 finished with value: 0.9690365892939816 and parameters: {'C': 0.17289164848013186, 'tol': 0.00200202395949863}. Best is trial 491 with value: 0.9695918278430289.\n",
      "[I 2024-10-26 23:43:14,365] Trial 496 finished with value: 0.969117095853869 and parameters: {'C': 0.21082005118650393, 'tol': 0.0018579951269988512}. Best is trial 491 with value: 0.9695918278430289.\n",
      "[I 2024-10-26 23:43:17,717] Trial 498 finished with value: 0.9690388749053067 and parameters: {'C': 0.0863656151879155, 'tol': 0.00207532789610041}. Best is trial 491 with value: 0.9695918278430289.\n",
      "[I 2024-10-26 23:43:18,148] Trial 499 finished with value: 0.9690332319212297 and parameters: {'C': 1.2230117731429717, 'tol': 0.0019255511802781298}. Best is trial 491 with value: 0.9695918278430289.\n"
     ]
    }
   ],
   "source": [
    "def objective(trial):    \n",
    "    params = {\n",
    "        'random_state': CFG.seed,\n",
    "        'max_iter': 500,\n",
    "        'C': trial.suggest_float('C', 0, 10),\n",
    "        'tol': trial.suggest_float('tol', 1e-7, 1e-1)\n",
    "    }\n",
    "    \n",
    "    model = LogisticRegression(**params)\n",
    "    trainer = Trainer(model)\n",
    "    return trainer.fit(X, y)\n",
    "\n",
    "sampler = optuna.samplers.TPESampler(seed=CFG.seed)\n",
    "study = optuna.create_study(direction='maximize', sampler=sampler)\n",
    "study.optimize(objective, n_trials=500, n_jobs=-1)\n",
    "best_params = study.best_params"
   ]
  },
  {
   "cell_type": "code",
   "execution_count": 24,
   "id": "a08a22b5",
   "metadata": {
    "execution": {
     "iopub.execute_input": "2024-10-26T23:43:18.254769Z",
     "iopub.status.busy": "2024-10-26T23:43:18.254338Z",
     "iopub.status.idle": "2024-10-26T23:43:18.260394Z",
     "shell.execute_reply": "2024-10-26T23:43:18.259480Z"
    },
    "papermill": {
     "duration": 0.057449,
     "end_time": "2024-10-26T23:43:18.262681",
     "exception": false,
     "start_time": "2024-10-26T23:43:18.205232",
     "status": "completed"
    },
    "tags": []
   },
   "outputs": [
    {
     "name": "stdout",
     "output_type": "stream",
     "text": [
      "{\n",
      "  \"random_state\": 42,\n",
      "  \"max_iter\": 500,\n",
      "  \"C\": 0.03408199655453448,\n",
      "  \"tol\": 5.828895831538566e-05\n",
      "}\n"
     ]
    }
   ],
   "source": [
    "lr_params = {\n",
    "    'random_state': CFG.seed,\n",
    "    'max_iter': 500,\n",
    "    'C': best_params['C'],\n",
    "    'tol': best_params['tol']\n",
    "}\n",
    "print(json.dumps(lr_params, indent=2))"
   ]
  },
  {
   "cell_type": "code",
   "execution_count": 25,
   "id": "4d50f4bd",
   "metadata": {
    "execution": {
     "iopub.execute_input": "2024-10-26T23:43:18.360303Z",
     "iopub.status.busy": "2024-10-26T23:43:18.359439Z",
     "iopub.status.idle": "2024-10-26T23:43:21.747806Z",
     "shell.execute_reply": "2024-10-26T23:43:21.746608Z"
    },
    "papermill": {
     "duration": 3.438739,
     "end_time": "2024-10-26T23:43:21.749799",
     "exception": false,
     "start_time": "2024-10-26T23:43:18.311060",
     "status": "completed"
    },
    "tags": []
   },
   "outputs": [
    {
     "name": "stdout",
     "output_type": "stream",
     "text": [
      "Training LogisticRegression\n",
      "\n",
      "--- Fold 1 - AUC: 0.966695 (35 iterations)\n",
      "--- Fold 2 - AUC: 0.963053 (38 iterations)\n",
      "--- Fold 3 - AUC: 0.974230 (30 iterations)\n",
      "--- Fold 4 - AUC: 0.972485 (35 iterations)\n",
      "--- Fold 5 - AUC: 0.969677 (33 iterations)\n",
      "--- Fold 6 - AUC: 0.969221 (32 iterations)\n",
      "--- Fold 7 - AUC: 0.970510 (36 iterations)\n",
      "--- Fold 8 - AUC: 0.972678 (26 iterations)\n",
      "--- Fold 9 - AUC: 0.969778 (38 iterations)\n",
      "--- Fold 10 - AUC: 0.967592 (35 iterations)\n",
      "\n",
      "------ Overall: 0.969561 | Average: 0.969592 ± 0.003092\n"
     ]
    }
   ],
   "source": [
    "lr_model = LogisticRegression(**lr_params)\n",
    "lr_trainer = Trainer(lr_model, is_ensemble_model=True)\n",
    "scores['Ensemble (LR)'], coeffs = lr_trainer.fit_predict(X, y, X_test)"
   ]
  },
  {
   "cell_type": "markdown",
   "id": "985911dc",
   "metadata": {
    "papermill": {
     "duration": 0.048246,
     "end_time": "2024-10-26T23:43:21.846488",
     "exception": false,
     "start_time": "2024-10-26T23:43:21.798242",
     "status": "completed"
    },
    "tags": []
   },
   "source": [
    "Here, we can see the coefficients of the logistic regression model, which represent the contribution of each base model's prediction to the final ensemble output. A positive coefficient indicates that the corresponding base model's predictions positively influence the final prediction, and a negative coefficient suggests a negative impact."
   ]
  },
  {
   "cell_type": "code",
   "execution_count": 26,
   "id": "c79b9412",
   "metadata": {
    "_kg_hide-input": false,
    "execution": {
     "iopub.execute_input": "2024-10-26T23:43:21.944842Z",
     "iopub.status.busy": "2024-10-26T23:43:21.943690Z",
     "iopub.status.idle": "2024-10-26T23:43:22.332109Z",
     "shell.execute_reply": "2024-10-26T23:43:22.331089Z"
    },
    "papermill": {
     "duration": 0.439563,
     "end_time": "2024-10-26T23:43:22.334155",
     "exception": false,
     "start_time": "2024-10-26T23:43:21.894592",
     "status": "completed"
    },
    "tags": []
   },
   "outputs": [
    {
     "data": {
      "image/png": "[encoded data removed]",
      "text/plain": [
       "<Figure size 800x420 with 1 Axes>"
      ]
     },
     "metadata": {},
     "output_type": "display_data"
    }
   ],
   "source": [
    "sorted_indices = np.argsort(coeffs[0])[::-1]\n",
    "sorted_coeffs = np.array(coeffs[0])[sorted_indices]\n",
    "sorted_model_names = np.array(list(oof_pred_probs.keys()))[sorted_indices]\n",
    "\n",
    "plt.figure(figsize=(8, coeffs.shape[1] * 0.6))\n",
    "ax = sns.barplot(x=sorted_coeffs, y=sorted_model_names, palette=\"RdYlGn_r\")\n",
    "\n",
    "for i, (value, name) in enumerate(zip(sorted_coeffs, sorted_model_names)):\n",
    "    if value > 0:\n",
    "        ax.text(value, i, f'{value:.3f}', va='center', ha='left', color='black')\n",
    "    else:\n",
    "        ax.text(value, i, f'{value:.3f}', va='center', ha='right', color='black')\n",
    "\n",
    "xlim = ax.get_xlim()\n",
    "ax.set_xlim(xlim[0] - 0.1 * abs(xlim[0]), xlim[1] + 0.1 * abs(xlim[1]))\n",
    "        \n",
    "plt.title('Logistic Regression Coefficients')\n",
    "plt.xlabel('')\n",
    "plt.ylabel('')\n",
    "plt.tight_layout()\n",
    "plt.show()"
   ]
  },
  {
   "cell_type": "markdown",
   "id": "db249afe",
   "metadata": {
    "papermill": {
     "duration": 0.048103,
     "end_time": "2024-10-26T23:43:22.430941",
     "exception": false,
     "start_time": "2024-10-26T23:43:22.382838",
     "status": "completed"
    },
    "tags": []
   },
   "source": [
    "# Ensembling with hill climbing"
   ]
  },
  {
   "cell_type": "code",
   "execution_count": 27,
   "id": "b21fc797",
   "metadata": {
    "execution": {
     "iopub.execute_input": "2024-10-26T23:43:22.529845Z",
     "iopub.status.busy": "2024-10-26T23:43:22.529092Z",
     "iopub.status.idle": "2024-10-26T23:50:32.516691Z",
     "shell.execute_reply": "2024-10-26T23:50:32.515382Z"
    },
    "papermill": {
     "duration": 430.040347,
     "end_time": "2024-10-26T23:50:32.519738",
     "exception": false,
     "start_time": "2024-10-26T23:43:22.479391",
     "status": "completed"
    },
    "tags": []
   },
   "outputs": [
    {
     "name": "stdout",
     "output_type": "stream",
     "text": [
      "\u001b[1m\u001b[34m   /\\  \n",
      "  /__\\  hillclimbers\u001b[0m\u001b[1m \n",
      " /    \\\n",
      "/______\\ \n",
      "\u001b[0m\n",
      "\u001b[1m\u001b[33mModels to be ensembled | (7 total):\u001b[0m \n",
      "\n",
      "\u001b[1m\u001b[32mCatBoost:         0.96864 (best solo model)\u001b[0m\n",
      "\u001b[1mLightGBM (goss):  0.96481\u001b[0m\n",
      "\u001b[1mLightGBM:         0.96377\u001b[0m\n",
      "\u001b[1mLightGBM (dart):  0.96267\u001b[0m\n",
      "\u001b[1mGradientBoosting: 0.96169\u001b[0m\n",
      "\u001b[1mXGBoost:          0.95994\u001b[0m\n",
      "\u001b[1mHistGB:           0.95808\u001b[0m\n",
      "\n",
      "\u001b[1m\u001b[33m[Data preparation completed successfully] - [Initiate hill climbing]\u001b[0m \n",
      "\n",
      "\u001b[1m\u001b[32mIteration: 1 | Model added: LightGBM (goss) | Best weight: 0.205 | Best roc_auc_score: 0.96957\u001b[0m\n",
      "\u001b[1m\u001b[32mIteration: 2 | Model added: LightGBM | Best weight: 0.039 | Best roc_auc_score: 0.96963\u001b[0m\n",
      "\u001b[1m\u001b[31mIteration: 3 | Model added: GradientBoosting | Best weight: -0.057 | Best roc_auc_score: 0.96964\u001b[0m\n",
      "\u001b[1m\u001b[32mIteration: 4 | Model added: HistGB | Best weight: 0.058 | Best roc_auc_score: 0.96965\u001b[0m\n",
      "\u001b[1m\u001b[31mIteration: 5 | Model added: XGBoost | Best weight: -0.017 | Best roc_auc_score: 0.96966\u001b[0m\n",
      "\u001b[1m\u001b[32mIteration: 6 | Model added: LightGBM (dart) | Best weight: 0.016 | Best roc_auc_score: 0.96966\u001b[0m\n"
     ]
    },
    {
     "data": {
      "text/html": [
       "        <script type=\"text/javascript\">\n",
       "        window.PlotlyConfig = {MathJaxConfig: 'local'};\n",
       "        if (window.MathJax && window.MathJax.Hub && window.MathJax.Hub.Config) {window.MathJax.Hub.Config({SVG: {font: \"STIX-Web\"}});}\n",
       "        if (typeof require !== 'undefined') {\n",
       "        require.undef(\"plotly\");\n",
       "        requirejs.config({\n",
       "            paths: {\n",
       "                'plotly': ['https://cdn.plot.ly/plotly-2.32.0.min']\n",
       "            }\n",
       "        });\n",
       "        require(['plotly'], function(Plotly) {\n",
       "            window._Plotly = Plotly;\n",
       "        });\n",
       "        }\n",
       "        </script>\n",
       "        "
      ]
     },
     "metadata": {},
     "output_type": "display_data"
    },
    {
     "data": {
      "text/html": [
       "<div>                            <div id=\"cc1b8dec-0c55-469b-a4a1-881e51f3ece1\" class=\"plotly-graph-div\" style=\"height:500px; width:900px;\"></div>            <script type=\"text/javascript\">                require([\"plotly\"], function(Plotly) {                    window.PLOTLYENV=window.PLOTLYENV || {};                                    if (document.getElementById(\"cc1b8dec-0c55-469b-a4a1-881e51f3ece1\")) {                    Plotly.newPlot(                        \"cc1b8dec-0c55-469b-a4a1-881e51f3ece1\",                        [{\"hovertemplate\":\"Number of Models: %{x}\\u003cbr\\u003eCV: %{y}\",\"legendgroup\":\"\",\"line\":{\"color\":\"#009933\",\"dash\":\"solid\"},\"marker\":{\"symbol\":\"circle\",\"line\":{\"color\":\"#FFFFFF\",\"width\":1.5},\"color\":\"#33cc33\",\"size\":10},\"mode\":\"lines+markers+text\",\"name\":\"\",\"orientation\":\"v\",\"showlegend\":false,\"text\":[0.96864,0.96957,0.96963,0.96964,0.96965,0.96966,0.96966],\"x\":[1,2,3,4,5,6,7],\"xaxis\":\"x\",\"y\":[0.9686373652932727,0.9695726971348089,0.9696256946292324,0.9696434128462431,0.9696531636994428,0.969661538241739,0.9696617334969191],\"yaxis\":\"y\",\"type\":\"scatter\",\"textfont\":{\"size\":10},\"textposition\":\"top center\"}],                        {\"template\":{\"data\":{\"barpolar\":[{\"marker\":{\"line\":{\"color\":\"rgb(17,17,17)\",\"width\":0.5},\"pattern\":{\"fillmode\":\"overlay\",\"size\":10,\"solidity\":0.2}},\"type\":\"barpolar\"}],\"bar\":[{\"error_x\":{\"color\":\"#f2f5fa\"},\"error_y\":{\"color\":\"#f2f5fa\"},\"marker\":{\"line\":{\"color\":\"rgb(17,17,17)\",\"width\":0.5},\"pattern\":{\"fillmode\":\"overlay\",\"size\":10,\"solidity\":0.2}},\"type\":\"bar\"}],\"carpet\":[{\"aaxis\":{\"endlinecolor\":\"#A2B1C6\",\"gridcolor\":\"#506784\",\"linecolor\":\"#506784\",\"minorgridcolor\":\"#506784\",\"startlinecolor\":\"#A2B1C6\"},\"baxis\":{\"endlinecolor\":\"#A2B1C6\",\"gridcolor\":\"#506784\",\"linecolor\":\"#506784\",\"minorgridcolor\":\"#506784\",\"startlinecolor\":\"#A2B1C6\"},\"type\":\"carpet\"}],\"choropleth\":[{\"colorbar\":{\"outlinewidth\":0,\"ticks\":\"\"},\"type\":\"choropleth\"}],\"contourcarpet\":[{\"colorbar\":{\"outlinewidth\":0,\"ticks\":\"\"},\"type\":\"contourcarpet\"}],\"contour\":[{\"colorbar\":{\"outlinewidth\":0,\"ticks\":\"\"},\"colorscale\":[[0.0,\"#0d0887\"],[0.1111111111111111,\"#46039f\"],[0.2222222222222222,\"#7201a8\"],[0.3333333333333333,\"#9c179e\"],[0.4444444444444444,\"#bd3786\"],[0.5555555555555556,\"#d8576b\"],[0.6666666666666666,\"#ed7953\"],[0.7777777777777778,\"#fb9f3a\"],[0.8888888888888888,\"#fdca26\"],[1.0,\"#f0f921\"]],\"type\":\"contour\"}],\"heatmapgl\":[{\"colorbar\":{\"outlinewidth\":0,\"ticks\":\"\"},\"colorscale\":[[0.0,\"#0d0887\"],[0.1111111111111111,\"#46039f\"],[0.2222222222222222,\"#7201a8\"],[0.3333333333333333,\"#9c179e\"],[0.4444444444444444,\"#bd3786\"],[0.5555555555555556,\"#d8576b\"],[0.6666666666666666,\"#ed7953\"],[0.7777777777777778,\"#fb9f3a\"],[0.8888888888888888,\"#fdca26\"],[1.0,\"#f0f921\"]],\"type\":\"heatmapgl\"}],\"heatmap\":[{\"colorbar\":{\"outlinewidth\":0,\"ticks\":\"\"},\"colorscale\":[[0.0,\"#0d0887\"],[0.1111111111111111,\"#46039f\"],[0.2222222222222222,\"#7201a8\"],[0.3333333333333333,\"#9c179e\"],[0.4444444444444444,\"#bd3786\"],[0.5555555555555556,\"#d8576b\"],[0.6666666666666666,\"#ed7953\"],[0.7777777777777778,\"#fb9f3a\"],[0.8888888888888888,\"#fdca26\"],[1.0,\"#f0f921\"]],\"type\":\"heatmap\"}],\"histogram2dcontour\":[{\"colorbar\":{\"outlinewidth\":0,\"ticks\":\"\"},\"colorscale\":[[0.0,\"#0d0887\"],[0.1111111111111111,\"#46039f\"],[0.2222222222222222,\"#7201a8\"],[0.3333333333333333,\"#9c179e\"],[0.4444444444444444,\"#bd3786\"],[0.5555555555555556,\"#d8576b\"],[0.6666666666666666,\"#ed7953\"],[0.7777777777777778,\"#fb9f3a\"],[0.8888888888888888,\"#fdca26\"],[1.0,\"#f0f921\"]],\"type\":\"histogram2dcontour\"}],\"histogram2d\":[{\"colorbar\":{\"outlinewidth\":0,\"ticks\":\"\"},\"colorscale\":[[0.0,\"#0d0887\"],[0.1111111111111111,\"#46039f\"],[0.2222222222222222,\"#7201a8\"],[0.3333333333333333,\"#9c179e\"],[0.4444444444444444,\"#bd3786\"],[0.5555555555555556,\"#d8576b\"],[0.6666666666666666,\"#ed7953\"],[0.7777777777777778,\"#fb9f3a\"],[0.8888888888888888,\"#fdca26\"],[1.0,\"#f0f921\"]],\"type\":\"histogram2d\"}],\"histogram\":[{\"marker\":{\"pattern\":{\"fillmode\":\"overlay\",\"size\":10,\"solidity\":0.2}},\"type\":\"histogram\"}],\"mesh3d\":[{\"colorbar\":{\"outlinewidth\":0,\"ticks\":\"\"},\"type\":\"mesh3d\"}],\"parcoords\":[{\"line\":{\"colorbar\":{\"outlinewidth\":0,\"ticks\":\"\"}},\"type\":\"parcoords\"}],\"pie\":[{\"automargin\":true,\"type\":\"pie\"}],\"scatter3d\":[{\"line\":{\"colorbar\":{\"outlinewidth\":0,\"ticks\":\"\"}},\"marker\":{\"colorbar\":{\"outlinewidth\":0,\"ticks\":\"\"}},\"type\":\"scatter3d\"}],\"scattercarpet\":[{\"marker\":{\"colorbar\":{\"outlinewidth\":0,\"ticks\":\"\"}},\"type\":\"scattercarpet\"}],\"scattergeo\":[{\"marker\":{\"colorbar\":{\"outlinewidth\":0,\"ticks\":\"\"}},\"type\":\"scattergeo\"}],\"scattergl\":[{\"marker\":{\"line\":{\"color\":\"#283442\"}},\"type\":\"scattergl\"}],\"scattermapbox\":[{\"marker\":{\"colorbar\":{\"outlinewidth\":0,\"ticks\":\"\"}},\"type\":\"scattermapbox\"}],\"scatterpolargl\":[{\"marker\":{\"colorbar\":{\"outlinewidth\":0,\"ticks\":\"\"}},\"type\":\"scatterpolargl\"}],\"scatterpolar\":[{\"marker\":{\"colorbar\":{\"outlinewidth\":0,\"ticks\":\"\"}},\"type\":\"scatterpolar\"}],\"scatter\":[{\"marker\":{\"line\":{\"color\":\"#283442\"}},\"type\":\"scatter\"}],\"scatterternary\":[{\"marker\":{\"colorbar\":{\"outlinewidth\":0,\"ticks\":\"\"}},\"type\":\"scatterternary\"}],\"surface\":[{\"colorbar\":{\"outlinewidth\":0,\"ticks\":\"\"},\"colorscale\":[[0.0,\"#0d0887\"],[0.1111111111111111,\"#46039f\"],[0.2222222222222222,\"#7201a8\"],[0.3333333333333333,\"#9c179e\"],[0.4444444444444444,\"#bd3786\"],[0.5555555555555556,\"#d8576b\"],[0.6666666666666666,\"#ed7953\"],[0.7777777777777778,\"#fb9f3a\"],[0.8888888888888888,\"#fdca26\"],[1.0,\"#f0f921\"]],\"type\":\"surface\"}],\"table\":[{\"cells\":{\"fill\":{\"color\":\"#506784\"},\"line\":{\"color\":\"rgb(17,17,17)\"}},\"header\":{\"fill\":{\"color\":\"#2a3f5f\"},\"line\":{\"color\":\"rgb(17,17,17)\"}},\"type\":\"table\"}]},\"layout\":{\"annotationdefaults\":{\"arrowcolor\":\"#f2f5fa\",\"arrowhead\":0,\"arrowwidth\":1},\"autotypenumbers\":\"strict\",\"coloraxis\":{\"colorbar\":{\"outlinewidth\":0,\"ticks\":\"\"}},\"colorscale\":{\"diverging\":[[0,\"#8e0152\"],[0.1,\"#c51b7d\"],[0.2,\"#de77ae\"],[0.3,\"#f1b6da\"],[0.4,\"#fde0ef\"],[0.5,\"#f7f7f7\"],[0.6,\"#e6f5d0\"],[0.7,\"#b8e186\"],[0.8,\"#7fbc41\"],[0.9,\"#4d9221\"],[1,\"#276419\"]],\"sequential\":[[0.0,\"#0d0887\"],[0.1111111111111111,\"#46039f\"],[0.2222222222222222,\"#7201a8\"],[0.3333333333333333,\"#9c179e\"],[0.4444444444444444,\"#bd3786\"],[0.5555555555555556,\"#d8576b\"],[0.6666666666666666,\"#ed7953\"],[0.7777777777777778,\"#fb9f3a\"],[0.8888888888888888,\"#fdca26\"],[1.0,\"#f0f921\"]],\"sequentialminus\":[[0.0,\"#0d0887\"],[0.1111111111111111,\"#46039f\"],[0.2222222222222222,\"#7201a8\"],[0.3333333333333333,\"#9c179e\"],[0.4444444444444444,\"#bd3786\"],[0.5555555555555556,\"#d8576b\"],[0.6666666666666666,\"#ed7953\"],[0.7777777777777778,\"#fb9f3a\"],[0.8888888888888888,\"#fdca26\"],[1.0,\"#f0f921\"]]},\"colorway\":[\"#636efa\",\"#EF553B\",\"#00cc96\",\"#ab63fa\",\"#FFA15A\",\"#19d3f3\",\"#FF6692\",\"#B6E880\",\"#FF97FF\",\"#FECB52\"],\"font\":{\"color\":\"#f2f5fa\"},\"geo\":{\"bgcolor\":\"rgb(17,17,17)\",\"lakecolor\":\"rgb(17,17,17)\",\"landcolor\":\"rgb(17,17,17)\",\"showlakes\":true,\"showland\":true,\"subunitcolor\":\"#506784\"},\"hoverlabel\":{\"align\":\"left\"},\"hovermode\":\"closest\",\"mapbox\":{\"style\":\"dark\"},\"paper_bgcolor\":\"rgb(17,17,17)\",\"plot_bgcolor\":\"rgb(17,17,17)\",\"polar\":{\"angularaxis\":{\"gridcolor\":\"#506784\",\"linecolor\":\"#506784\",\"ticks\":\"\"},\"bgcolor\":\"rgb(17,17,17)\",\"radialaxis\":{\"gridcolor\":\"#506784\",\"linecolor\":\"#506784\",\"ticks\":\"\"}},\"scene\":{\"xaxis\":{\"backgroundcolor\":\"rgb(17,17,17)\",\"gridcolor\":\"#506784\",\"gridwidth\":2,\"linecolor\":\"#506784\",\"showbackground\":true,\"ticks\":\"\",\"zerolinecolor\":\"#C8D4E3\"},\"yaxis\":{\"backgroundcolor\":\"rgb(17,17,17)\",\"gridcolor\":\"#506784\",\"gridwidth\":2,\"linecolor\":\"#506784\",\"showbackground\":true,\"ticks\":\"\",\"zerolinecolor\":\"#C8D4E3\"},\"zaxis\":{\"backgroundcolor\":\"rgb(17,17,17)\",\"gridcolor\":\"#506784\",\"gridwidth\":2,\"linecolor\":\"#506784\",\"showbackground\":true,\"ticks\":\"\",\"zerolinecolor\":\"#C8D4E3\"}},\"shapedefaults\":{\"line\":{\"color\":\"#f2f5fa\"}},\"sliderdefaults\":{\"bgcolor\":\"#C8D4E3\",\"bordercolor\":\"rgb(17,17,17)\",\"borderwidth\":1,\"tickwidth\":0},\"ternary\":{\"aaxis\":{\"gridcolor\":\"#506784\",\"linecolor\":\"#506784\",\"ticks\":\"\"},\"baxis\":{\"gridcolor\":\"#506784\",\"linecolor\":\"#506784\",\"ticks\":\"\"},\"bgcolor\":\"rgb(17,17,17)\",\"caxis\":{\"gridcolor\":\"#506784\",\"linecolor\":\"#506784\",\"ticks\":\"\"}},\"title\":{\"x\":0.05},\"updatemenudefaults\":{\"bgcolor\":\"#506784\",\"borderwidth\":0},\"xaxis\":{\"automargin\":true,\"gridcolor\":\"#283442\",\"linecolor\":\"#506784\",\"ticks\":\"\",\"title\":{\"standoff\":15},\"zerolinecolor\":\"#283442\",\"zerolinewidth\":2},\"yaxis\":{\"automargin\":true,\"gridcolor\":\"#283442\",\"linecolor\":\"#506784\",\"ticks\":\"\",\"title\":{\"standoff\":15},\"zerolinecolor\":\"#283442\",\"zerolinewidth\":2}}},\"xaxis\":{\"anchor\":\"y\",\"domain\":[0.0,1.0],\"title\":{\"text\":\"Number of models\"},\"tickmode\":\"array\",\"tickvals\":[1,2,3,4,5,6,7]},\"yaxis\":{\"anchor\":\"x\",\"domain\":[0.0,1.0],\"title\":{\"text\":\"roc_auc_score\"}},\"legend\":{\"tracegroupgap\":0},\"title\":{\"text\":\"Cross Validation roc_auc_score vs. Number of Models with Hill Climbing\"},\"autosize\":false,\"width\":900,\"height\":500},                        {\"responsive\": true}                    ).then(function(){\n",
       "                            \n",
       "var gd = document.getElementById('cc1b8dec-0c55-469b-a4a1-881e51f3ece1');\n",
       "var x = new MutationObserver(function (mutations, observer) {{\n",
       "        var display = window.getComputedStyle(gd).display;\n",
       "        if (!display || display === 'none') {{\n",
       "            console.log([gd, 'removed!']);\n",
       "            Plotly.purge(gd);\n",
       "            observer.disconnect();\n",
       "        }}\n",
       "}});\n",
       "\n",
       "// Listen for the removal of the full notebook cells\n",
       "var notebookContainer = gd.closest('#notebook-container');\n",
       "if (notebookContainer) {{\n",
       "    x.observe(notebookContainer, {childList: true});\n",
       "}}\n",
       "\n",
       "// Listen for the clearing of the current output cell\n",
       "var outputEl = gd.closest('.output');\n",
       "if (outputEl) {{\n",
       "    x.observe(outputEl, {childList: true});\n",
       "}}\n",
       "\n",
       "                        })                };                });            </script>        </div>"
      ]
     },
     "metadata": {},
     "output_type": "display_data"
    }
   ],
   "source": [
    "hc_test_pred_probs, hc_oof_pred_probs = climb_hill(\n",
    "    train=train, \n",
    "    oof_pred_df=pd.DataFrame(oof_pred_probs), \n",
    "    test_pred_df=pd.DataFrame(test_pred_probs),\n",
    "    target=CFG.target,\n",
    "    objective='maximize', \n",
    "    eval_metric=partial(roc_auc_score),\n",
    "    negative_weights=True, \n",
    "    precision=0.001, \n",
    "    plot_hill=True, \n",
    "    plot_hist=False,\n",
    "    return_oof_preds=True\n",
    ")"
   ]
  },
  {
   "cell_type": "code",
   "execution_count": 28,
   "id": "cf6e0640",
   "metadata": {
    "execution": {
     "iopub.execute_input": "2024-10-26T23:50:32.626201Z",
     "iopub.status.busy": "2024-10-26T23:50:32.625283Z",
     "iopub.status.idle": "2024-10-26T23:50:32.652388Z",
     "shell.execute_reply": "2024-10-26T23:50:32.651551Z"
    },
    "papermill": {
     "duration": 0.082123,
     "end_time": "2024-10-26T23:50:32.654654",
     "exception": false,
     "start_time": "2024-10-26T23:50:32.572531",
     "status": "completed"
    },
    "tags": []
   },
   "outputs": [],
   "source": [
    "hc_score = roc_auc_score(y, hc_oof_pred_probs)\n",
    "scores['Hill Climbing'] = [hc_score] * CFG.n_folds"
   ]
  },
  {
   "cell_type": "code",
   "execution_count": 29,
   "id": "5276f848",
   "metadata": {
    "execution": {
     "iopub.execute_input": "2024-10-26T23:50:32.756498Z",
     "iopub.status.busy": "2024-10-26T23:50:32.755725Z",
     "iopub.status.idle": "2024-10-26T23:50:32.876280Z",
     "shell.execute_reply": "2024-10-26T23:50:32.875238Z"
    },
    "papermill": {
     "duration": 0.173532,
     "end_time": "2024-10-26T23:50:32.878410",
     "exception": false,
     "start_time": "2024-10-26T23:50:32.704878",
     "status": "completed"
    },
    "tags": []
   },
   "outputs": [
    {
     "data": {
      "text/html": [
       "<div>\n",
       "<style scoped>\n",
       "    .dataframe tbody tr th:only-of-type {\n",
       "        vertical-align: middle;\n",
       "    }\n",
       "\n",
       "    .dataframe tbody tr th {\n",
       "        vertical-align: top;\n",
       "    }\n",
       "\n",
       "    .dataframe thead th {\n",
       "        text-align: right;\n",
       "    }\n",
       "</style>\n",
       "<table border=\"1\" class=\"dataframe\">\n",
       "  <thead>\n",
       "    <tr style=\"text-align: right;\">\n",
       "      <th></th>\n",
       "      <th>id</th>\n",
       "      <th>loan_status</th>\n",
       "    </tr>\n",
       "  </thead>\n",
       "  <tbody>\n",
       "    <tr>\n",
       "      <th>0</th>\n",
       "      <td>58645</td>\n",
       "      <td>1.000112</td>\n",
       "    </tr>\n",
       "    <tr>\n",
       "      <th>1</th>\n",
       "      <td>58646</td>\n",
       "      <td>0.064488</td>\n",
       "    </tr>\n",
       "    <tr>\n",
       "      <th>2</th>\n",
       "      <td>58647</td>\n",
       "      <td>0.603205</td>\n",
       "    </tr>\n",
       "    <tr>\n",
       "      <th>3</th>\n",
       "      <td>58648</td>\n",
       "      <td>0.015107</td>\n",
       "    </tr>\n",
       "    <tr>\n",
       "      <th>4</th>\n",
       "      <td>58649</td>\n",
       "      <td>0.079901</td>\n",
       "    </tr>\n",
       "  </tbody>\n",
       "</table>\n",
       "</div>"
      ],
      "text/plain": [
       "      id  loan_status\n",
       "0  58645     1.000112\n",
       "1  58646     0.064488\n",
       "2  58647     0.603205\n",
       "3  58648     0.015107\n",
       "4  58649     0.079901"
      ]
     },
     "execution_count": 29,
     "metadata": {},
     "output_type": "execute_result"
    }
   ],
   "source": [
    "hc_sub = pd.read_csv(CFG.sample_sub_path)\n",
    "hc_sub[CFG.target] = hc_test_pred_probs\n",
    "hc_sub.to_csv(f'sub_hill-climbing_{hc_score:.6f}.csv', index=False)\n",
    "hc_sub.head()"
   ]
  },
  {
   "cell_type": "markdown",
   "id": "20fbe1be",
   "metadata": {
    "papermill": {
     "duration": 0.050787,
     "end_time": "2024-10-26T23:50:32.979362",
     "exception": false,
     "start_time": "2024-10-26T23:50:32.928575",
     "status": "completed"
    },
    "tags": []
   },
   "source": [
    "# Results"
   ]
  },
  {
   "cell_type": "code",
   "execution_count": 30,
   "id": "01da1ad0",
   "metadata": {
    "_kg_hide-input": false,
    "execution": {
     "iopub.execute_input": "2024-10-26T23:50:33.083686Z",
     "iopub.status.busy": "2024-10-26T23:50:33.083252Z",
     "iopub.status.idle": "2024-10-26T23:50:33.888455Z",
     "shell.execute_reply": "2024-10-26T23:50:33.887410Z"
    },
    "papermill": {
     "duration": 0.860461,
     "end_time": "2024-10-26T23:50:33.890574",
     "exception": false,
     "start_time": "2024-10-26T23:50:33.030113",
     "status": "completed"
    },
    "tags": []
   },
   "outputs": [
    {
     "data": {
      "image/png": "[encoded data removed]",
      "text/plain": [
       "<Figure size 1500x540 with 2 Axes>"
      ]
     },
     "metadata": {},
     "output_type": "display_data"
    }
   ],
   "source": [
    "scores = pd.DataFrame(scores)\n",
    "mean_scores = scores.mean().sort_values(ascending=False)\n",
    "order = scores.mean().sort_values(ascending=False).index.tolist()\n",
    "\n",
    "min_score = mean_scores.min()\n",
    "max_score = mean_scores.max()\n",
    "padding = (max_score - min_score) * 0.5\n",
    "lower_limit = min_score - padding\n",
    "upper_limit = max_score + padding\n",
    "\n",
    "fig, axs = plt.subplots(1, 2, figsize=(15, scores.shape[1] * 0.6))\n",
    "\n",
    "sns.boxplot(data=scores, order=order, ax=axs[0], orient='h', palette='RdYlGn_r')\n",
    "axs[0].set_title('Fold AUC')\n",
    "axs[0].set_xlabel('')\n",
    "axs[0].set_ylabel('')\n",
    "\n",
    "barplot = sns.barplot(x=mean_scores.values, y=mean_scores.index, ax=axs[1], palette='RdYlGn_r')\n",
    "axs[1].set_title('Average AUC')\n",
    "axs[1].set_xlabel('')\n",
    "axs[1].set_xlim(left=lower_limit, right=upper_limit)\n",
    "axs[1].set_ylabel('')\n",
    "\n",
    "for i, score in enumerate(mean_scores.values):\n",
    "    barplot.text(score, i, round(score, 6), va='center')\n",
    "\n",
    "plt.tight_layout()\n",
    "plt.show()"
   ]
  },
  {
   "cell_type": "code",
   "execution_count": 31,
   "id": "a71161cb",
   "metadata": {
    "execution": {
     "iopub.execute_input": "2024-10-26T23:50:33.994676Z",
     "iopub.status.busy": "2024-10-26T23:50:33.994250Z",
     "iopub.status.idle": "2024-10-26T23:50:34.000537Z",
     "shell.execute_reply": "2024-10-26T23:50:33.999547Z"
    },
    "papermill": {
     "duration": 0.060842,
     "end_time": "2024-10-26T23:50:34.002583",
     "exception": false,
     "start_time": "2024-10-26T23:50:33.941741",
     "status": "completed"
    },
    "tags": []
   },
   "outputs": [],
   "source": [
    "shutil.rmtree('catboost_info', ignore_errors=True)"
   ]
  }
 ],
 "metadata": {
  "kaggle": {
   "accelerator": "none",
   "dataSources": [
    {
     "databundleVersionId": 9709193,
     "sourceId": 84894,
     "sourceType": "competition"
    },
    {
     "datasetId": 4675026,
     "sourceId": 7949759,
     "sourceType": "datasetVersion"
    }
   ],
   "dockerImageVersionId": 30775,
   "isGpuEnabled": false,
   "isInternetEnabled": true,
   "language": "python",
   "sourceType": "notebook"
  },
  "kernelspec": {
   "display_name": "Python 3",
   "language": "python",
   "name": "python3"
  },
  "language_info": {
   "codemirror_mode": {
    "name": "ipython",
    "version": 3
   },
   "file_extension": ".py",
   "mimetype": "text/x-python",
   "name": "python",
   "nbconvert_exporter": "python",
   "pygments_lexer": "ipython3",
   "version": "3.10.14"
  },
  "papermill": {
   "default_parameters": {},
   "duration": 8677.109394,
   "end_time": "2024-10-26T23:50:35.176937",
   "environment_variables": {},
   "exception": null,
   "input_path": "__notebook__.ipynb",
   "output_path": "__notebook__.ipynb",
   "parameters": {},
   "start_time": "2024-10-26T21:25:58.067543",
   "version": "2.6.0"
  }
 },
 "nbformat": 4,
 "nbformat_minor": 5
}
