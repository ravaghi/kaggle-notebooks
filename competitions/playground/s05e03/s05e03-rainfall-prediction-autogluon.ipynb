{
 "cells": [
  {
   "cell_type": "markdown",
   "id": "144f4cfa",
   "metadata": {
    "papermill": {
     "duration": 0.004462,
     "end_time": "2025-03-12T12:31:45.518927",
     "exception": false,
     "start_time": "2025-03-12T12:31:45.514465",
     "status": "completed"
    },
    "tags": []
   },
   "source": [
    "# Imports and configs"
   ]
  },
  {
   "cell_type": "code",
   "execution_count": 1,
   "id": "ad88ef19",
   "metadata": {
    "execution": {
     "iopub.execute_input": "2025-03-12T12:31:45.527427Z",
     "iopub.status.busy": "2025-03-12T12:31:45.527023Z",
     "iopub.status.idle": "2025-03-12T12:31:48.775415Z",
     "shell.execute_reply": "2025-03-12T12:31:48.774675Z"
    },
    "papermill": {
     "duration": 3.254438,
     "end_time": "2025-03-12T12:31:48.777062",
     "exception": false,
     "start_time": "2025-03-12T12:31:45.522624",
     "status": "completed"
    },
    "tags": []
   },
   "outputs": [],
   "source": [
    "from sklearn.model_selection import StratifiedKFold\n",
    "from sklearn.metrics import roc_auc_score\n",
    "from autogluon.tabular import TabularPredictor\n",
    "import matplotlib.pyplot as plt\n",
    "import seaborn as sns\n",
    "import pandas as pd\n",
    "import warnings\n",
    "import pickle\n",
    "import shutil\n",
    "import os\n",
    "\n",
    "warnings.filterwarnings('ignore')"
   ]
  },
  {
   "cell_type": "code",
   "execution_count": 2,
   "id": "c2802b73",
   "metadata": {
    "execution": {
     "iopub.execute_input": "2025-03-12T12:31:48.785167Z",
     "iopub.status.busy": "2025-03-12T12:31:48.784744Z",
     "iopub.status.idle": "2025-03-12T12:31:48.788615Z",
     "shell.execute_reply": "2025-03-12T12:31:48.787938Z"
    },
    "papermill": {
     "duration": 0.009053,
     "end_time": "2025-03-12T12:31:48.789888",
     "exception": false,
     "start_time": "2025-03-12T12:31:48.780835",
     "status": "completed"
    },
    "tags": []
   },
   "outputs": [],
   "source": [
    "class CFG:\n",
    "    train_path = '/kaggle/input/playground-series-s5e3/train.csv'\n",
    "    test_path = '/kaggle/input/playground-series-s5e3/test.csv'\n",
    "    sample_sub_path = '/kaggle/input/playground-series-s5e3/sample_submission.csv'\n",
    "    \n",
    "    original_path = \"/kaggle/input/hongkongrainfall/hongkong.csv\"\n",
    "    original_path_2 = \"/kaggle/input/rainfall-prediction-using-machine-learning/Rainfall.csv\"\n",
    "    \n",
    "    target = 'rainfall'\n",
    "    n_folds = 10\n",
    "    seed = 2100\n",
    "    time_limit = 3600 * 11\n",
    "\n",
    "    pipeline = 1"
   ]
  },
  {
   "cell_type": "markdown",
   "id": "2afd9eb5",
   "metadata": {
    "papermill": {
     "duration": 0.002899,
     "end_time": "2025-03-12T12:31:48.796018",
     "exception": false,
     "start_time": "2025-03-12T12:31:48.793119",
     "status": "completed"
    },
    "tags": []
   },
   "source": [
    "# Loading data and predefining folds"
   ]
  },
  {
   "cell_type": "code",
   "execution_count": 3,
   "id": "a8597c3b",
   "metadata": {
    "execution": {
     "iopub.execute_input": "2025-03-12T12:31:48.802929Z",
     "iopub.status.busy": "2025-03-12T12:31:48.802681Z",
     "iopub.status.idle": "2025-03-12T12:31:48.810653Z",
     "shell.execute_reply": "2025-03-12T12:31:48.809936Z"
    },
    "papermill": {
     "duration": 0.012857,
     "end_time": "2025-03-12T12:31:48.811896",
     "exception": false,
     "start_time": "2025-03-12T12:31:48.799039",
     "status": "completed"
    },
    "tags": []
   },
   "outputs": [],
   "source": [
    "def get_data(pipeline):\n",
    "    train = pd.read_csv(CFG.train_path, index_col=\"id\")\n",
    "    test = pd.read_csv(CFG.test_path, index_col=\"id\")\n",
    "\n",
    "    test.winddirection = test.winddirection.fillna(test.winddirection.median())\n",
    "    \n",
    "    if pipeline == 1:\n",
    "        return train, test, None\n",
    "    \n",
    "    original = pd.read_csv(CFG.original_path, encoding=\"gbk\")\n",
    "    original[\"date\"] = pd.to_datetime(original[[\"year\", \"month\", \"day\"]])\n",
    "    original = original.drop([\"year\", \"month\", \"day\", \"low visibility hour\", \"radiation\", \"evaporation\"], axis=1)\n",
    "    original[\"day\"] = original.date.dt.dayofyear\n",
    "    original = original.drop(\"date\", axis=1)\n",
    "    original.rainfall = original.rainfall.apply(lambda x: 1 if str(x).replace('.', '', 1).isdigit() else x)\n",
    "    original.rainfall = original.rainfall.replace({'微量': 1, '-': 0}).astype(int)\n",
    "    original.sunshine = original.sunshine.replace('-', 0).astype(float)\n",
    "    original.windspeed = original.windspeed.fillna(original.windspeed.mean())\n",
    "    for col in original.columns:\n",
    "        original[col] = original[col].astype(train[col].dtype)\n",
    "        \n",
    "    if pipeline == 2:\n",
    "        return train, test, original\n",
    "        \n",
    "    original_2 = pd.read_csv(CFG.original_path_2)\n",
    "    original_2.columns = original_2.columns.str.replace(\" \", \"\")\n",
    "    original_2[CFG.target] = original_2[CFG.target].map({\"yes\": 1, \"no\": 0})\n",
    "    original_2.winddirection = original_2.winddirection.fillna(original_2.winddirection.mean())\n",
    "    original_2.windspeed = original_2.windspeed.fillna(original_2.windspeed.mean())\n",
    "    original_2.day = original_2.index + 1\n",
    "    for col in original_2.columns:\n",
    "        original_2[col] = original_2[col].astype(train[col].dtype)\n",
    "        \n",
    "    if pipeline == 3:\n",
    "        return train, test, original_2\n",
    "        \n",
    "    original_combined = pd.concat([original, original_2], axis=0).reset_index(drop=True)\n",
    "    original_combined = original_combined.drop_duplicates().reset_index(drop=True)\n",
    "\n",
    "    return train, test, original_combined"
   ]
  },
  {
   "cell_type": "code",
   "execution_count": 4,
   "id": "07fa6c89",
   "metadata": {
    "execution": {
     "iopub.execute_input": "2025-03-12T12:31:48.818760Z",
     "iopub.status.busy": "2025-03-12T12:31:48.818547Z",
     "iopub.status.idle": "2025-03-12T12:31:48.852074Z",
     "shell.execute_reply": "2025-03-12T12:31:48.851361Z"
    },
    "papermill": {
     "duration": 0.038261,
     "end_time": "2025-03-12T12:31:48.853290",
     "exception": false,
     "start_time": "2025-03-12T12:31:48.815029",
     "status": "completed"
    },
    "tags": []
   },
   "outputs": [],
   "source": [
    "train, test, original = get_data(CFG.pipeline)"
   ]
  },
  {
   "cell_type": "code",
   "execution_count": 5,
   "id": "026451fc",
   "metadata": {
    "execution": {
     "iopub.execute_input": "2025-03-12T12:31:48.860254Z",
     "iopub.status.busy": "2025-03-12T12:31:48.859990Z",
     "iopub.status.idle": "2025-03-12T12:31:48.874113Z",
     "shell.execute_reply": "2025-03-12T12:31:48.873178Z"
    },
    "papermill": {
     "duration": 0.019053,
     "end_time": "2025-03-12T12:31:48.875582",
     "exception": false,
     "start_time": "2025-03-12T12:31:48.856529",
     "status": "completed"
    },
    "tags": []
   },
   "outputs": [],
   "source": [
    "skf = StratifiedKFold(n_splits=CFG.n_folds, random_state=CFG.seed, shuffle=True)\n",
    "split = skf.split(train, train[CFG.target])\n",
    "for i, (_, val_index) in enumerate(split):\n",
    "    train.loc[val_index, 'fold'] = i"
   ]
  },
  {
   "cell_type": "markdown",
   "id": "364f1b37",
   "metadata": {
    "papermill": {
     "duration": 0.003078,
     "end_time": "2025-03-12T12:31:48.881874",
     "exception": false,
     "start_time": "2025-03-12T12:31:48.878796",
     "status": "completed"
    },
    "tags": []
   },
   "source": [
    "# Fitting the predictor"
   ]
  },
  {
   "cell_type": "code",
   "execution_count": 6,
   "id": "ffcb1dd8",
   "metadata": {
    "_kg_hide-output": false,
    "execution": {
     "iopub.execute_input": "2025-03-12T12:31:48.888987Z",
     "iopub.status.busy": "2025-03-12T12:31:48.888722Z",
     "iopub.status.idle": "2025-03-12T12:31:48.892984Z",
     "shell.execute_reply": "2025-03-12T12:31:48.892187Z"
    },
    "papermill": {
     "duration": 0.009202,
     "end_time": "2025-03-12T12:31:48.894342",
     "exception": false,
     "start_time": "2025-03-12T12:31:48.885140",
     "status": "completed"
    },
    "tags": []
   },
   "outputs": [],
   "source": [
    "predictor = TabularPredictor(\n",
    "    path='/AutoGluonModels',\n",
    "    problem_type='binary',\n",
    "    eval_metric='roc_auc',\n",
    "    label=CFG.target,\n",
    "    groups='fold',\n",
    "    verbosity=2\n",
    ")"
   ]
  },
  {
   "cell_type": "code",
   "execution_count": 7,
   "id": "3c96c0e4",
   "metadata": {
    "_kg_hide-output": true,
    "execution": {
     "iopub.execute_input": "2025-03-12T12:31:48.901553Z",
     "iopub.status.busy": "2025-03-12T12:31:48.901320Z",
     "iopub.status.idle": "2025-03-12T15:41:34.535058Z",
     "shell.execute_reply": "2025-03-12T15:41:34.534175Z"
    },
    "papermill": {
     "duration": 11385.639046,
     "end_time": "2025-03-12T15:41:34.536469",
     "exception": false,
     "start_time": "2025-03-12T12:31:48.897423",
     "status": "completed"
    },
    "scrolled": true,
    "tags": []
   },
   "outputs": [
    {
     "name": "stderr",
     "output_type": "stream",
     "text": [
      "Verbosity: 2 (Standard Logging)\n",
      "=================== System Info ===================\n",
      "AutoGluon Version:  1.2\n",
      "Python Version:     3.10.12\n",
      "Operating System:   Linux\n",
      "Platform Machine:   x86_64\n",
      "Platform Version:   #1 SMP PREEMPT_DYNAMIC Sun Nov 10 10:07:59 UTC 2024\n",
      "CPU Count:          4\n",
      "Memory Avail:       30.19 GB / 31.35 GB (96.3%)\n",
      "Disk Space Avail:   1892.13 GB / 8062.39 GB (23.5%)\n",
      "===================================================\n",
      "Presets specified: ['best_quality']\n",
      "Setting dynamic_stacking from 'auto' to True. Reason: Enable dynamic_stacking when use_bag_holdout is disabled. (use_bag_holdout=False)\n",
      "Stack configuration (auto_stack=True): num_stack_levels=1, num_bag_folds=8, num_bag_sets=1\n",
      "DyStack is enabled (dynamic_stacking=True). AutoGluon will try to determine whether the input data is affected by stacked overfitting and enable or disable stacking as a consequence.\n",
      "\tThis is used to identify the optimal `num_stack_levels` value. Copies of AutoGluon will be fit on subsets of the data. Then holdout validation data is used to detect stacked overfitting.\n",
      "\tRunning DyStack for up to 9900s of the 39600s of remaining time (25%).\n",
      "\tRunning DyStack sub-fit in a ray process to avoid memory leakage. Enabling ray logging (enable_ray_logging=True). Specify `ds_args={'enable_ray_logging': False}` if you experience logging issues.\n",
      "2025-03-12 12:31:51,328\tINFO worker.py:1819 -- Started a local Ray instance.\n",
      "\t\tContext path: \"/AutoGluonModels/ds_sub_fit/sub_fit_ho\"\n",
      "\u001b[36m(_dystack pid=166)\u001b[0m Running DyStack sub-fit ...\n",
      "\u001b[36m(_dystack pid=166)\u001b[0m Values in column 'fold' used as split folds instead of being automatically set. Bagged models will have 10 splits.\n",
      "\u001b[36m(_dystack pid=166)\u001b[0m Beginning AutoGluon training ... Time limit = 9896s\n",
      "\u001b[36m(_dystack pid=166)\u001b[0m AutoGluon will save models to \"/AutoGluonModels/ds_sub_fit/sub_fit_ho\"\n",
      "\u001b[36m(_dystack pid=166)\u001b[0m Train Data Rows:    1946\n",
      "\u001b[36m(_dystack pid=166)\u001b[0m Train Data Columns: 12\n",
      "\u001b[36m(_dystack pid=166)\u001b[0m Label Column:       rainfall\n",
      "\u001b[36m(_dystack pid=166)\u001b[0m Problem Type:       binary\n",
      "\u001b[36m(_dystack pid=166)\u001b[0m Preprocessing data ...\n",
      "\u001b[36m(_dystack pid=166)\u001b[0m Selected class <--> label mapping:  class 1 = 1, class 0 = 0\n",
      "\u001b[36m(_dystack pid=166)\u001b[0m Using Feature Generators to preprocess the data ...\n",
      "\u001b[36m(_dystack pid=166)\u001b[0m Fitting AutoMLPipelineFeatureGenerator...\n",
      "\u001b[36m(_dystack pid=166)\u001b[0m \tAvailable Memory:                    30469.84 MB\n",
      "\u001b[36m(_dystack pid=166)\u001b[0m \tTrain Data (Original)  Memory Usage: 0.16 MB (0.0% of available memory)\n",
      "\u001b[36m(_dystack pid=166)\u001b[0m \tInferring data type of each feature based on column values. Set feature_metadata_in to manually specify special dtypes of the features.\n",
      "\u001b[36m(_dystack pid=166)\u001b[0m \tStage 1 Generators:\n",
      "\u001b[36m(_dystack pid=166)\u001b[0m \t\tFitting AsTypeFeatureGenerator...\n",
      "\u001b[36m(_dystack pid=166)\u001b[0m \tStage 2 Generators:\n",
      "\u001b[36m(_dystack pid=166)\u001b[0m \t\tFitting FillNaFeatureGenerator...\n",
      "\u001b[36m(_dystack pid=166)\u001b[0m \tStage 3 Generators:\n",
      "\u001b[36m(_dystack pid=166)\u001b[0m \t\tFitting IdentityFeatureGenerator...\n",
      "\u001b[36m(_dystack pid=166)\u001b[0m \tStage 4 Generators:\n",
      "\u001b[36m(_dystack pid=166)\u001b[0m \t\tFitting DropUniqueFeatureGenerator...\n",
      "\u001b[36m(_dystack pid=166)\u001b[0m \tStage 5 Generators:\n",
      "\u001b[36m(_dystack pid=166)\u001b[0m \t\tFitting DropDuplicatesFeatureGenerator...\n",
      "\u001b[36m(_dystack pid=166)\u001b[0m \tTypes of features in original data (raw dtype, special dtypes):\n",
      "\u001b[36m(_dystack pid=166)\u001b[0m \t\t('float', []) : 10 | ['pressure', 'maxtemp', 'temparature', 'mintemp', 'dewpoint', ...]\n",
      "\u001b[36m(_dystack pid=166)\u001b[0m \t\t('int', [])   :  1 | ['day']\n",
      "\u001b[36m(_dystack pid=166)\u001b[0m \tTypes of features in processed data (raw dtype, special dtypes):\n",
      "\u001b[36m(_dystack pid=166)\u001b[0m \t\t('float', []) : 10 | ['pressure', 'maxtemp', 'temparature', 'mintemp', 'dewpoint', ...]\n",
      "\u001b[36m(_dystack pid=166)\u001b[0m \t\t('int', [])   :  1 | ['day']\n",
      "\u001b[36m(_dystack pid=166)\u001b[0m \t0.0s = Fit runtime\n",
      "\u001b[36m(_dystack pid=166)\u001b[0m \t11 features in original data used to generate 11 features in processed data.\n",
      "\u001b[36m(_dystack pid=166)\u001b[0m \tTrain Data (Processed) Memory Usage: 0.16 MB (0.0% of available memory)\n",
      "\u001b[36m(_dystack pid=166)\u001b[0m Data preprocessing and feature engineering runtime = 0.03s ...\n",
      "\u001b[36m(_dystack pid=166)\u001b[0m AutoGluon will gauge predictive performance using evaluation metric: 'roc_auc'\n",
      "\u001b[36m(_dystack pid=166)\u001b[0m \tThis metric expects predicted probabilities rather than predicted class labels, so you'll need to use predict_proba() instead of predict()\n",
      "\u001b[36m(_dystack pid=166)\u001b[0m \tTo change this, specify the eval_metric parameter of Predictor()\n",
      "\u001b[36m(_dystack pid=166)\u001b[0m Large model count detected (112 configs) ... Only displaying the first 3 models of each family. To see all, set `verbosity=3`.\n",
      "\u001b[36m(_dystack pid=166)\u001b[0m User-specified model hyperparameters to be fit:\n",
      "\u001b[36m(_dystack pid=166)\u001b[0m {\n",
      "\u001b[36m(_dystack pid=166)\u001b[0m \t'NN_TORCH': [{}, {'activation': 'elu', 'dropout_prob': 0.10077639529843717, 'hidden_size': 108, 'learning_rate': 0.002735937344002146, 'num_layers': 4, 'use_batchnorm': True, 'weight_decay': 1.356433327634438e-12, 'ag_args': {'name_suffix': '_r79', 'priority': -2}}, {'activation': 'elu', 'dropout_prob': 0.11897478034205347, 'hidden_size': 213, 'learning_rate': 0.0010474382260641949, 'num_layers': 4, 'use_batchnorm': False, 'weight_decay': 5.594471067786272e-10, 'ag_args': {'name_suffix': '_r22', 'priority': -7}}],\n",
      "\u001b[36m(_dystack pid=166)\u001b[0m \t'GBM': [{'extra_trees': True, 'ag_args': {'name_suffix': 'XT'}}, {}, {'learning_rate': 0.03, 'num_leaves': 128, 'feature_fraction': 0.9, 'min_data_in_leaf': 3, 'ag_args': {'name_suffix': 'Large', 'priority': 0, 'hyperparameter_tune_kwargs': None}}],\n",
      "\u001b[36m(_dystack pid=166)\u001b[0m \t'CAT': [{}, {'depth': 6, 'grow_policy': 'SymmetricTree', 'l2_leaf_reg': 2.1542798306067823, 'learning_rate': 0.06864209415792857, 'max_ctr_complexity': 4, 'one_hot_max_size': 10, 'ag_args': {'name_suffix': '_r177', 'priority': -1}}, {'depth': 8, 'grow_policy': 'Depthwise', 'l2_leaf_reg': 2.7997999596449104, 'learning_rate': 0.031375015734637225, 'max_ctr_complexity': 2, 'one_hot_max_size': 3, 'ag_args': {'name_suffix': '_r9', 'priority': -5}}],\n",
      "\u001b[36m(_dystack pid=166)\u001b[0m \t'XGB': [{}, {'colsample_bytree': 0.6917311125174739, 'enable_categorical': False, 'learning_rate': 0.018063876087523967, 'max_depth': 10, 'min_child_weight': 0.6028633586934382, 'ag_args': {'name_suffix': '_r33', 'priority': -8}}, {'colsample_bytree': 0.6628423832084077, 'enable_categorical': False, 'learning_rate': 0.08775715546881824, 'max_depth': 5, 'min_child_weight': 0.6294123374222513, 'ag_args': {'name_suffix': '_r89', 'priority': -16}}],\n",
      "\u001b[36m(_dystack pid=166)\u001b[0m \t'FASTAI': [{}, {'bs': 256, 'emb_drop': 0.5411770367537934, 'epochs': 43, 'layers': [800, 400], 'lr': 0.01519848858318159, 'ps': 0.23782946566604385, 'ag_args': {'name_suffix': '_r191', 'priority': -4}}, {'bs': 2048, 'emb_drop': 0.05070411322605811, 'epochs': 29, 'layers': [200, 100], 'lr': 0.08974235041576624, 'ps': 0.10393466140748028, 'ag_args': {'name_suffix': '_r102', 'priority': -11}}],\n",
      "\u001b[36m(_dystack pid=166)\u001b[0m \t'RF': [{'criterion': 'gini', 'ag_args': {'name_suffix': 'Gini', 'problem_types': ['binary', 'multiclass']}}, {'criterion': 'entropy', 'ag_args': {'name_suffix': 'Entr', 'problem_types': ['binary', 'multiclass']}}, {'criterion': 'squared_error', 'ag_args': {'name_suffix': 'MSE', 'problem_types': ['regression', 'quantile']}}],\n",
      "\u001b[36m(_dystack pid=166)\u001b[0m \t'XT': [{'criterion': 'gini', 'ag_args': {'name_suffix': 'Gini', 'problem_types': ['binary', 'multiclass']}}, {'criterion': 'entropy', 'ag_args': {'name_suffix': 'Entr', 'problem_types': ['binary', 'multiclass']}}, {'criterion': 'squared_error', 'ag_args': {'name_suffix': 'MSE', 'problem_types': ['regression', 'quantile']}}],\n",
      "\u001b[36m(_dystack pid=166)\u001b[0m \t'KNN': [{'weights': 'uniform', 'ag_args': {'name_suffix': 'Unif'}}, {'weights': 'distance', 'ag_args': {'name_suffix': 'Dist'}}],\n",
      "\u001b[36m(_dystack pid=166)\u001b[0m }\n",
      "\u001b[36m(_dystack pid=166)\u001b[0m AutoGluon will fit 2 stack levels (L1 to L2) ...\n",
      "\u001b[36m(_dystack pid=166)\u001b[0m Fitting 110 L1 models, fit_strategy=\"sequential\" ...\n",
      "\u001b[36m(_dystack pid=166)\u001b[0m Fitting model: KNeighborsUnif_BAG_L1 ... Training model for up to 6595.65s of the 9895.94s of remaining time.\n",
      "\u001b[36m(_dystack pid=166)\u001b[0m \tForcing `use_child_oof=False` because `groups` is specified\n",
      "\u001b[36m(_dystack pid=166)\u001b[0m \tFitting 10 child models (S1F1 - S1F10) | Fitting with ParallelLocalFoldFittingStrategy (4 workers, per: cpus=1, gpus=0, memory=0.00%)\n",
      "\u001b[36m(_dystack pid=166)\u001b[0m \t0.8403\t = Validation score   (roc_auc)\n",
      "\u001b[36m(_dystack pid=166)\u001b[0m \t7.08s\t = Training   runtime\n",
      "\u001b[36m(_dystack pid=166)\u001b[0m \t0.05s\t = Validation runtime\n",
      "\u001b[36m(_dystack pid=166)\u001b[0m Fitting model: KNeighborsDist_BAG_L1 ... Training model for up to 6585.50s of the 9885.79s of remaining time.\n",
      "\u001b[36m(_dystack pid=166)\u001b[0m \tForcing `use_child_oof=False` because `groups` is specified\n",
      "\u001b[36m(_dystack pid=166)\u001b[0m \tFitting 10 child models (S1F1 - S1F10) | Fitting with ParallelLocalFoldFittingStrategy (4 workers, per: cpus=1, gpus=0, memory=0.00%)\n",
      "\u001b[36m(_dystack pid=166)\u001b[0m \t0.842\t = Validation score   (roc_auc)\n",
      "\u001b[36m(_dystack pid=166)\u001b[0m \t6.92s\t = Training   runtime\n",
      "\u001b[36m(_dystack pid=166)\u001b[0m \t0.05s\t = Validation runtime\n",
      "\u001b[36m(_dystack pid=166)\u001b[0m Fitting model: LightGBMXT_BAG_L1 ... Training model for up to 6575.47s of the 9875.76s of remaining time.\n",
      "\u001b[36m(_dystack pid=166)\u001b[0m \tFitting 10 child models (S1F1 - S1F10) | Fitting with ParallelLocalFoldFittingStrategy (4 workers, per: cpus=1, gpus=0, memory=0.01%)\n",
      "\u001b[36m(_dystack pid=166)\u001b[0m \t0.8975\t = Validation score   (roc_auc)\n",
      "\u001b[36m(_dystack pid=166)\u001b[0m \t18.01s\t = Training   runtime\n",
      "\u001b[36m(_dystack pid=166)\u001b[0m \t0.05s\t = Validation runtime\n",
      "\u001b[36m(_dystack pid=166)\u001b[0m Fitting model: LightGBM_BAG_L1 ... Training model for up to 6554.28s of the 9854.57s of remaining time.\n",
      "\u001b[36m(_dystack pid=166)\u001b[0m \tFitting 10 child models (S1F1 - S1F10) | Fitting with ParallelLocalFoldFittingStrategy (4 workers, per: cpus=1, gpus=0, memory=0.01%)\n",
      "\u001b[36m(_dystack pid=166)\u001b[0m \t0.8881\t = Validation score   (roc_auc)\n",
      "\u001b[36m(_dystack pid=166)\u001b[0m \t14.61s\t = Training   runtime\n",
      "\u001b[36m(_dystack pid=166)\u001b[0m \t0.02s\t = Validation runtime\n",
      "\u001b[36m(_dystack pid=166)\u001b[0m Fitting model: RandomForestGini_BAG_L1 ... Training model for up to 6536.47s of the 9836.75s of remaining time.\n",
      "\u001b[36m(_dystack pid=166)\u001b[0m \tForcing `use_child_oof=False` because `groups` is specified\n",
      "\u001b[36m(_dystack pid=166)\u001b[0m \tFitting 10 child models (S1F1 - S1F10) | Fitting with ParallelLocalFoldFittingStrategy (4 workers, per: cpus=1, gpus=0, memory=0.00%)\n",
      "\u001b[36m(_dystack pid=166)\u001b[0m \t0.8824\t = Validation score   (roc_auc)\n",
      "\u001b[36m(_dystack pid=166)\u001b[0m \t13.78s\t = Training   runtime\n",
      "\u001b[36m(_dystack pid=166)\u001b[0m \t1.02s\t = Validation runtime\n",
      "\u001b[36m(_dystack pid=166)\u001b[0m Fitting model: RandomForestEntr_BAG_L1 ... Training model for up to 6519.13s of the 9819.42s of remaining time.\n",
      "\u001b[36m(_dystack pid=166)\u001b[0m \tForcing `use_child_oof=False` because `groups` is specified\n",
      "\u001b[36m(_dystack pid=166)\u001b[0m \tFitting 10 child models (S1F1 - S1F10) | Fitting with ParallelLocalFoldFittingStrategy (4 workers, per: cpus=1, gpus=0, memory=0.00%)\n",
      "\u001b[36m(_dystack pid=166)\u001b[0m \t0.8828\t = Validation score   (roc_auc)\n",
      "\u001b[36m(_dystack pid=166)\u001b[0m \t14.87s\t = Training   runtime\n",
      "\u001b[36m(_dystack pid=166)\u001b[0m \t1.36s\t = Validation runtime\n",
      "\u001b[36m(_dystack pid=166)\u001b[0m Fitting model: CatBoost_BAG_L1 ... Training model for up to 6500.81s of the 9801.10s of remaining time.\n",
      "\u001b[36m(_dystack pid=166)\u001b[0m \tFitting 10 child models (S1F1 - S1F10) | Fitting with ParallelLocalFoldFittingStrategy (4 workers, per: cpus=1, gpus=0, memory=0.02%)\n",
      "\u001b[36m(_dystack pid=166)\u001b[0m \t0.8955\t = Validation score   (roc_auc)\n",
      "\u001b[36m(_dystack pid=166)\u001b[0m \t15.81s\t = Training   runtime\n",
      "\u001b[36m(_dystack pid=166)\u001b[0m \t0.02s\t = Validation runtime\n",
      "\u001b[36m(_dystack pid=166)\u001b[0m Fitting model: ExtraTreesGini_BAG_L1 ... Training model for up to 6481.83s of the 9782.12s of remaining time.\n",
      "\u001b[36m(_dystack pid=166)\u001b[0m \tForcing `use_child_oof=False` because `groups` is specified\n",
      "\u001b[36m(_dystack pid=166)\u001b[0m \tFitting 10 child models (S1F1 - S1F10) | Fitting with ParallelLocalFoldFittingStrategy (4 workers, per: cpus=1, gpus=0, memory=0.00%)\n",
      "\u001b[36m(_dystack pid=166)\u001b[0m \t0.886\t = Validation score   (roc_auc)\n",
      "\u001b[36m(_dystack pid=166)\u001b[0m \t13.2s\t = Training   runtime\n",
      "\u001b[36m(_dystack pid=166)\u001b[0m \t1.08s\t = Validation runtime\n",
      "\u001b[36m(_dystack pid=166)\u001b[0m Fitting model: ExtraTreesEntr_BAG_L1 ... Training model for up to 6465.39s of the 9765.68s of remaining time.\n",
      "\u001b[36m(_dystack pid=166)\u001b[0m \tForcing `use_child_oof=False` because `groups` is specified\n",
      "\u001b[36m(_dystack pid=166)\u001b[0m \tFitting 10 child models (S1F1 - S1F10) | Fitting with ParallelLocalFoldFittingStrategy (4 workers, per: cpus=1, gpus=0, memory=0.00%)\n",
      "\u001b[36m(_dystack pid=166)\u001b[0m \t0.8881\t = Validation score   (roc_auc)\n",
      "\u001b[36m(_dystack pid=166)\u001b[0m \t12.34s\t = Training   runtime\n",
      "\u001b[36m(_dystack pid=166)\u001b[0m \t1.0s\t = Validation runtime\n",
      "\u001b[36m(_dystack pid=166)\u001b[0m Fitting model: NeuralNetFastAI_BAG_L1 ... Training model for up to 6449.79s of the 9750.08s of remaining time.\n",
      "\u001b[36m(_dystack pid=166)\u001b[0m \tFitting 10 child models (S1F1 - S1F10) | Fitting with ParallelLocalFoldFittingStrategy (4 workers, per: cpus=1, gpus=0, memory=0.01%)\n"
     ]
    },
    {
     "name": "stdout",
     "output_type": "stream",
     "text": [
      "\u001b[36m(autoscaler +2m36s)\u001b[0m Tip: use `ray status` to view detailed cluster status. To disable these messages, set RAY_SCHEDULER_EVENTS=0.\n",
      "\u001b[33m(autoscaler +2m36s)\u001b[0m Warning: The following resource request cannot be scheduled right now: {'CPU': 1.0}. This is likely due to all cluster resources being claimed by actors. Consider creating fewer actors or adding more nodes to this Ray cluster.\n"
     ]
    },
    {
     "name": "stderr",
     "output_type": "stream",
     "text": [
      "\u001b[36m(_ray_fit pid=4300)\u001b[0m No improvement since epoch 9: early stopping\n",
      "\u001b[36m(_dystack pid=166)\u001b[0m \t0.8882\t = Validation score   (roc_auc)\n",
      "\u001b[36m(_dystack pid=166)\u001b[0m \t32.28s\t = Training   runtime\n",
      "\u001b[36m(_dystack pid=166)\u001b[0m \t0.16s\t = Validation runtime\n",
      "\u001b[36m(_dystack pid=166)\u001b[0m Fitting model: XGBoost_BAG_L1 ... Training model for up to 6414.10s of the 9714.39s of remaining time.\n",
      "\u001b[36m(_dystack pid=166)\u001b[0m \tFitting 10 child models (S1F1 - S1F10) | Fitting with ParallelLocalFoldFittingStrategy (4 workers, per: cpus=1, gpus=0, memory=0.02%)\n"
     ]
    },
    {
     "name": "stdout",
     "output_type": "stream",
     "text": [
      "\u001b[33m(autoscaler +3m11s)\u001b[0m Warning: The following resource request cannot be scheduled right now: {'CPU': 1.0}. This is likely due to all cluster resources being claimed by actors. Consider creating fewer actors or adding more nodes to this Ray cluster.\n"
     ]
    },
    {
     "name": "stderr",
     "output_type": "stream",
     "text": [
      "\u001b[36m(_dystack pid=166)\u001b[0m \t0.8885\t = Validation score   (roc_auc)\n",
      "\u001b[36m(_dystack pid=166)\u001b[0m \t10.09s\t = Training   runtime\n",
      "\u001b[36m(_dystack pid=166)\u001b[0m \t0.1s\t = Validation runtime\n",
      "\u001b[36m(_dystack pid=166)\u001b[0m Fitting model: NeuralNetTorch_BAG_L1 ... Training model for up to 6400.57s of the 9700.86s of remaining time.\n",
      "\u001b[36m(_dystack pid=166)\u001b[0m \tFitting 10 child models (S1F1 - S1F10) | Fitting with ParallelLocalFoldFittingStrategy (4 workers, per: cpus=1, gpus=0, memory=0.00%)\n"
     ]
    },
    {
     "name": "stdout",
     "output_type": "stream",
     "text": [
      "\u001b[33m(autoscaler +3m46s)\u001b[0m Warning: The following resource request cannot be scheduled right now: {'CPU': 1.0}. This is likely due to all cluster resources being claimed by actors. Consider creating fewer actors or adding more nodes to this Ray cluster.\n"
     ]
    },
    {
     "name": "stderr",
     "output_type": "stream",
     "text": [
      "\u001b[36m(_dystack pid=166)\u001b[0m \t0.891\t = Validation score   (roc_auc)\n",
      "\u001b[36m(_dystack pid=166)\u001b[0m \t42.72s\t = Training   runtime\n",
      "\u001b[36m(_dystack pid=166)\u001b[0m \t0.12s\t = Validation runtime\n",
      "\u001b[36m(_dystack pid=166)\u001b[0m Fitting model: LightGBMLarge_BAG_L1 ... Training model for up to 6354.66s of the 9654.95s of remaining time.\n",
      "\u001b[36m(_dystack pid=166)\u001b[0m \tFitting 10 child models (S1F1 - S1F10) | Fitting with ParallelLocalFoldFittingStrategy (4 workers, per: cpus=1, gpus=0, memory=0.03%)\n"
     ]
    },
    {
     "name": "stdout",
     "output_type": "stream",
     "text": [
      "\u001b[33m(autoscaler +4m21s)\u001b[0m Warning: The following resource request cannot be scheduled right now: {'CPU': 1.0}. This is likely due to all cluster resources being claimed by actors. Consider creating fewer actors or adding more nodes to this Ray cluster.\n"
     ]
    },
    {
     "name": "stderr",
     "output_type": "stream",
     "text": [
      "\u001b[36m(_dystack pid=166)\u001b[0m \t0.8664\t = Validation score   (roc_auc)\n",
      "\u001b[36m(_dystack pid=166)\u001b[0m \t18.29s\t = Training   runtime\n",
      "\u001b[36m(_dystack pid=166)\u001b[0m \t0.03s\t = Validation runtime\n",
      "\u001b[36m(_dystack pid=166)\u001b[0m Fitting model: CatBoost_r177_BAG_L1 ... Training model for up to 6333.13s of the 9633.42s of remaining time.\n",
      "\u001b[36m(_dystack pid=166)\u001b[0m \tFitting 10 child models (S1F1 - S1F10) | Fitting with ParallelLocalFoldFittingStrategy (4 workers, per: cpus=1, gpus=0, memory=0.02%)\n",
      "\u001b[36m(_dystack pid=166)\u001b[0m \t0.8975\t = Validation score   (roc_auc)\n",
      "\u001b[36m(_dystack pid=166)\u001b[0m \t14.17s\t = Training   runtime\n",
      "\u001b[36m(_dystack pid=166)\u001b[0m \t0.02s\t = Validation runtime\n",
      "\u001b[36m(_dystack pid=166)\u001b[0m Fitting model: NeuralNetTorch_r79_BAG_L1 ... Training model for up to 6315.73s of the 9616.02s of remaining time.\n",
      "\u001b[36m(_dystack pid=166)\u001b[0m \tFitting 10 child models (S1F1 - S1F10) | Fitting with ParallelLocalFoldFittingStrategy (4 workers, per: cpus=1, gpus=0, memory=0.00%)\n"
     ]
    },
    {
     "name": "stdout",
     "output_type": "stream",
     "text": [
      "\u001b[33m(autoscaler +4m56s)\u001b[0m Warning: The following resource request cannot be scheduled right now: {'CPU': 1.0}. This is likely due to all cluster resources being claimed by actors. Consider creating fewer actors or adding more nodes to this Ray cluster.\n"
     ]
    },
    {
     "name": "stderr",
     "output_type": "stream",
     "text": [
      "\u001b[36m(_dystack pid=166)\u001b[0m \t0.891\t = Validation score   (roc_auc)\n",
      "\u001b[36m(_dystack pid=166)\u001b[0m \t41.59s\t = Training   runtime\n",
      "\u001b[36m(_dystack pid=166)\u001b[0m \t0.15s\t = Validation runtime\n",
      "\u001b[36m(_dystack pid=166)\u001b[0m Fitting model: LightGBM_r131_BAG_L1 ... Training model for up to 6271.12s of the 9571.40s of remaining time.\n",
      "\u001b[36m(_dystack pid=166)\u001b[0m \tFitting 10 child models (S1F1 - S1F10) | Fitting with ParallelLocalFoldFittingStrategy (4 workers, per: cpus=1, gpus=0, memory=0.02%)\n"
     ]
    },
    {
     "name": "stdout",
     "output_type": "stream",
     "text": [
      "\u001b[33m(autoscaler +5m31s)\u001b[0m Warning: The following resource request cannot be scheduled right now: {'CPU': 1.0}. This is likely due to all cluster resources being claimed by actors. Consider creating fewer actors or adding more nodes to this Ray cluster.\n"
     ]
    },
    {
     "name": "stderr",
     "output_type": "stream",
     "text": [
      "\u001b[36m(_dystack pid=166)\u001b[0m \t0.8869\t = Validation score   (roc_auc)\n",
      "\u001b[36m(_dystack pid=166)\u001b[0m \t15.94s\t = Training   runtime\n",
      "\u001b[36m(_dystack pid=166)\u001b[0m \t0.06s\t = Validation runtime\n",
      "\u001b[36m(_dystack pid=166)\u001b[0m Fitting model: NeuralNetFastAI_r191_BAG_L1 ... Training model for up to 6251.79s of the 9552.08s of remaining time.\n",
      "\u001b[36m(_dystack pid=166)\u001b[0m \tFitting 10 child models (S1F1 - S1F10) | Fitting with ParallelLocalFoldFittingStrategy (4 workers, per: cpus=1, gpus=0, memory=0.01%)\n",
      "\u001b[36m(_ray_fit pid=6525)\u001b[0m No improvement since epoch 11: early stopping\n"
     ]
    },
    {
     "name": "stdout",
     "output_type": "stream",
     "text": [
      "\u001b[33m(autoscaler +6m6s)\u001b[0m Warning: The following resource request cannot be scheduled right now: {'CPU': 1.0}. This is likely due to all cluster resources being claimed by actors. Consider creating fewer actors or adding more nodes to this Ray cluster.\n"
     ]
    },
    {
     "name": "stderr",
     "output_type": "stream",
     "text": [
      "\u001b[36m(_ray_fit pid=6712)\u001b[0m No improvement since epoch 13: early stopping\u001b[32m [repeated 4x across cluster] (Ray deduplicates logs by default. Set RAY_DEDUP_LOGS=0 to disable log deduplication, or see https://docs.ray.io/en/master/ray-observability/user-guides/configure-logging.html#log-deduplication for more options.)\u001b[0m\n",
      "\u001b[36m(_ray_fit pid=6897)\u001b[0m No improvement since epoch 14: early stopping\u001b[32m [repeated 4x across cluster]\u001b[0m\n",
      "\u001b[36m(_dystack pid=166)\u001b[0m \t0.8911\t = Validation score   (roc_auc)\n",
      "\u001b[36m(_dystack pid=166)\u001b[0m \t41.55s\t = Training   runtime\n",
      "\u001b[36m(_dystack pid=166)\u001b[0m \t0.18s\t = Validation runtime\n",
      "\u001b[36m(_dystack pid=166)\u001b[0m Fitting model: CatBoost_r9_BAG_L1 ... Training model for up to 6206.99s of the 9507.28s of remaining time.\n",
      "\u001b[36m(_dystack pid=166)\u001b[0m \tFitting 10 child models (S1F1 - S1F10) | Fitting with ParallelLocalFoldFittingStrategy (4 workers, per: cpus=1, gpus=0, memory=0.06%)\n"
     ]
    },
    {
     "name": "stdout",
     "output_type": "stream",
     "text": [
      "\u001b[33m(autoscaler +6m41s)\u001b[0m Warning: The following resource request cannot be scheduled right now: {'CPU': 1.0}. This is likely due to all cluster resources being claimed by actors. Consider creating fewer actors or adding more nodes to this Ray cluster.\n"
     ]
    },
    {
     "name": "stderr",
     "output_type": "stream",
     "text": [
      "\u001b[36m(_dystack pid=166)\u001b[0m \t0.8934\t = Validation score   (roc_auc)\n",
      "\u001b[36m(_dystack pid=166)\u001b[0m \t41.11s\t = Training   runtime\n",
      "\u001b[36m(_dystack pid=166)\u001b[0m \t0.03s\t = Validation runtime\n",
      "\u001b[36m(_dystack pid=166)\u001b[0m Fitting model: LightGBM_r96_BAG_L1 ... Training model for up to 6162.43s of the 9462.72s of remaining time.\n",
      "\u001b[36m(_dystack pid=166)\u001b[0m \tFitting 10 child models (S1F1 - S1F10) | Fitting with ParallelLocalFoldFittingStrategy (4 workers, per: cpus=1, gpus=0, memory=0.01%)\n",
      "\u001b[36m(_ray_fit pid=6927)\u001b[0m No improvement since epoch 15: early stopping\n"
     ]
    },
    {
     "name": "stdout",
     "output_type": "stream",
     "text": [
      "\u001b[33m(autoscaler +7m22s)\u001b[0m Warning: The following resource request cannot be scheduled right now: {'CPU': 1.0}. This is likely due to all cluster resources being claimed by actors. Consider creating fewer actors or adding more nodes to this Ray cluster.\n",
      "\u001b[36m(_ray_fit pid=7385)\u001b[0m [1000]\tvalid_set's binary_logloss: 0.303317\n",
      "\u001b[36m(_ray_fit pid=7517)\u001b[0m [1000]\tvalid_set's binary_logloss: 0.346226\u001b[32m [repeated 8x across cluster]\u001b[0m\n",
      "\u001b[36m(_ray_fit pid=7646)\u001b[0m [1000]\tvalid_set's binary_logloss: 0.290323\n",
      "\u001b[36m(_ray_fit pid=7649)\u001b[0m [1000]\tvalid_set's binary_logloss: 0.320026\n"
     ]
    },
    {
     "name": "stderr",
     "output_type": "stream",
     "text": [
      "\u001b[36m(_dystack pid=166)\u001b[0m \t0.8987\t = Validation score   (roc_auc)\n",
      "\u001b[36m(_dystack pid=166)\u001b[0m \t15.89s\t = Training   runtime\n",
      "\u001b[36m(_dystack pid=166)\u001b[0m \t0.25s\t = Validation runtime\n",
      "\u001b[36m(_dystack pid=166)\u001b[0m Fitting model: NeuralNetTorch_r22_BAG_L1 ... Training model for up to 6143.33s of the 9443.62s of remaining time.\n",
      "\u001b[36m(_dystack pid=166)\u001b[0m \tFitting 10 child models (S1F1 - S1F10) | Fitting with ParallelLocalFoldFittingStrategy (4 workers, per: cpus=1, gpus=0, memory=0.00%)\n"
     ]
    },
    {
     "name": "stdout",
     "output_type": "stream",
     "text": [
      "\u001b[33m(autoscaler +7m57s)\u001b[0m Warning: The following resource request cannot be scheduled right now: {'CPU': 1.0}. This is likely due to all cluster resources being claimed by actors. Consider creating fewer actors or adding more nodes to this Ray cluster.\n"
     ]
    },
    {
     "name": "stderr",
     "output_type": "stream",
     "text": [
      "\u001b[36m(_dystack pid=166)\u001b[0m \t0.8961\t = Validation score   (roc_auc)\n",
      "\u001b[36m(_dystack pid=166)\u001b[0m \t40.42s\t = Training   runtime\n",
      "\u001b[36m(_dystack pid=166)\u001b[0m \t0.12s\t = Validation runtime\n",
      "\u001b[36m(_dystack pid=166)\u001b[0m Fitting model: XGBoost_r33_BAG_L1 ... Training model for up to 6099.72s of the 9400.01s of remaining time.\n",
      "\u001b[36m(_dystack pid=166)\u001b[0m \tFitting 10 child models (S1F1 - S1F10) | Fitting with ParallelLocalFoldFittingStrategy (4 workers, per: cpus=1, gpus=0, memory=0.11%)\n"
     ]
    },
    {
     "name": "stdout",
     "output_type": "stream",
     "text": [
      "\u001b[33m(autoscaler +8m32s)\u001b[0m Warning: The following resource request cannot be scheduled right now: {'CPU': 1.0}. This is likely due to all cluster resources being claimed by actors. Consider creating fewer actors or adding more nodes to this Ray cluster.\n"
     ]
    },
    {
     "name": "stderr",
     "output_type": "stream",
     "text": [
      "\u001b[36m(_dystack pid=166)\u001b[0m \t0.8885\t = Validation score   (roc_auc)\n",
      "\u001b[36m(_dystack pid=166)\u001b[0m \t12.66s\t = Training   runtime\n",
      "\u001b[36m(_dystack pid=166)\u001b[0m \t0.1s\t = Validation runtime\n",
      "\u001b[36m(_dystack pid=166)\u001b[0m Fitting model: ExtraTrees_r42_BAG_L1 ... Training model for up to 6083.82s of the 9384.10s of remaining time.\n",
      "\u001b[36m(_dystack pid=166)\u001b[0m \tForcing `use_child_oof=False` because `groups` is specified\n",
      "\u001b[36m(_dystack pid=166)\u001b[0m \tFitting 10 child models (S1F1 - S1F10) | Fitting with ParallelLocalFoldFittingStrategy (4 workers, per: cpus=1, gpus=0, memory=0.00%)\n",
      "\u001b[36m(_dystack pid=166)\u001b[0m \t0.8856\t = Validation score   (roc_auc)\n",
      "\u001b[36m(_dystack pid=166)\u001b[0m \t13.54s\t = Training   runtime\n",
      "\u001b[36m(_dystack pid=166)\u001b[0m \t1.08s\t = Validation runtime\n",
      "\u001b[36m(_dystack pid=166)\u001b[0m Fitting model: CatBoost_r137_BAG_L1 ... Training model for up to 6066.80s of the 9367.09s of remaining time.\n",
      "\u001b[36m(_dystack pid=166)\u001b[0m \tFitting 10 child models (S1F1 - S1F10) | Fitting with ParallelLocalFoldFittingStrategy (4 workers, per: cpus=1, gpus=0, memory=0.01%)\n",
      "\u001b[36m(_dystack pid=166)\u001b[0m \t0.8974\t = Validation score   (roc_auc)\n",
      "\u001b[36m(_dystack pid=166)\u001b[0m \t14.23s\t = Training   runtime\n",
      "\u001b[36m(_dystack pid=166)\u001b[0m \t0.02s\t = Validation runtime\n",
      "\u001b[36m(_dystack pid=166)\u001b[0m Fitting model: NeuralNetFastAI_r102_BAG_L1 ... Training model for up to 6049.45s of the 9349.73s of remaining time.\n",
      "\u001b[36m(_dystack pid=166)\u001b[0m \tFitting 10 child models (S1F1 - S1F10) | Fitting with ParallelLocalFoldFittingStrategy (4 workers, per: cpus=1, gpus=0, memory=0.01%)\n"
     ]
    },
    {
     "name": "stdout",
     "output_type": "stream",
     "text": [
      "\u001b[33m(autoscaler +9m17s)\u001b[0m Warning: The following resource request cannot be scheduled right now: {'CPU': 1.0}. This is likely due to all cluster resources being claimed by actors. Consider creating fewer actors or adding more nodes to this Ray cluster.\n"
     ]
    },
    {
     "name": "stderr",
     "output_type": "stream",
     "text": [
      "\u001b[36m(_ray_fit pid=9277)\u001b[0m No improvement since epoch 2: early stopping\n"
     ]
    },
    {
     "name": "stdout",
     "output_type": "stream",
     "text": [
      "\u001b[33m(autoscaler +9m52s)\u001b[0m Warning: The following resource request cannot be scheduled right now: {'CPU': 1.0}. This is likely due to all cluster resources being claimed by actors. Consider creating fewer actors or adding more nodes to this Ray cluster.\n"
     ]
    },
    {
     "name": "stderr",
     "output_type": "stream",
     "text": [
      "\u001b[36m(_ray_fit pid=9644)\u001b[0m No improvement since epoch 2: early stopping\n",
      "\u001b[36m(_dystack pid=166)\u001b[0m \t0.8982\t = Validation score   (roc_auc)\n",
      "\u001b[36m(_dystack pid=166)\u001b[0m \t74.4s\t = Training   runtime\n",
      "\u001b[36m(_dystack pid=166)\u001b[0m \t0.41s\t = Validation runtime\n",
      "\u001b[36m(_dystack pid=166)\u001b[0m Fitting model: CatBoost_r13_BAG_L1 ... Training model for up to 5971.89s of the 9272.18s of remaining time.\n",
      "\u001b[36m(_dystack pid=166)\u001b[0m \tFitting 10 child models (S1F1 - S1F10) | Fitting with ParallelLocalFoldFittingStrategy (4 workers, per: cpus=1, gpus=0, memory=0.06%)\n"
     ]
    },
    {
     "name": "stdout",
     "output_type": "stream",
     "text": [
      "\u001b[33m(autoscaler +10m32s)\u001b[0m Warning: The following resource request cannot be scheduled right now: {'CPU': 1.0}. This is likely due to all cluster resources being claimed by actors. Consider creating fewer actors or adding more nodes to this Ray cluster.\n"
     ]
    },
    {
     "name": "stderr",
     "output_type": "stream",
     "text": [
      "\u001b[36m(_dystack pid=166)\u001b[0m \t0.8977\t = Validation score   (roc_auc)\n",
      "\u001b[36m(_dystack pid=166)\u001b[0m \t31.41s\t = Training   runtime\n",
      "\u001b[36m(_dystack pid=166)\u001b[0m \t0.02s\t = Validation runtime\n",
      "\u001b[36m(_dystack pid=166)\u001b[0m Fitting model: RandomForest_r195_BAG_L1 ... Training model for up to 5937.30s of the 9237.59s of remaining time.\n",
      "\u001b[36m(_dystack pid=166)\u001b[0m \tForcing `use_child_oof=False` because `groups` is specified\n",
      "\u001b[36m(_dystack pid=166)\u001b[0m \tFitting 10 child models (S1F1 - S1F10) | Fitting with ParallelLocalFoldFittingStrategy (4 workers, per: cpus=1, gpus=0, memory=0.00%)\n"
     ]
    },
    {
     "name": "stdout",
     "output_type": "stream",
     "text": [
      "\u001b[33m(autoscaler +11m7s)\u001b[0m Warning: The following resource request cannot be scheduled right now: {'CPU': 1.0}. This is likely due to all cluster resources being claimed by actors. Consider creating fewer actors or adding more nodes to this Ray cluster.\n"
     ]
    },
    {
     "name": "stderr",
     "output_type": "stream",
     "text": [
      "\u001b[36m(_dystack pid=166)\u001b[0m \t0.8804\t = Validation score   (roc_auc)\n",
      "\u001b[36m(_dystack pid=166)\u001b[0m \t21.18s\t = Training   runtime\n",
      "\u001b[36m(_dystack pid=166)\u001b[0m \t0.94s\t = Validation runtime\n",
      "\u001b[36m(_dystack pid=166)\u001b[0m Fitting model: LightGBM_r188_BAG_L1 ... Training model for up to 5912.99s of the 9213.27s of remaining time.\n",
      "\u001b[36m(_dystack pid=166)\u001b[0m \tFitting 10 child models (S1F1 - S1F10) | Fitting with ParallelLocalFoldFittingStrategy (4 workers, per: cpus=1, gpus=0, memory=0.03%)\n",
      "\u001b[36m(_dystack pid=166)\u001b[0m \t0.895\t = Validation score   (roc_auc)\n",
      "\u001b[36m(_dystack pid=166)\u001b[0m \t14.48s\t = Training   runtime\n",
      "\u001b[36m(_dystack pid=166)\u001b[0m \t0.09s\t = Validation runtime\n",
      "\u001b[36m(_dystack pid=166)\u001b[0m Fitting model: NeuralNetFastAI_r145_BAG_L1 ... Training model for up to 5895.45s of the 9195.74s of remaining time.\n",
      "\u001b[36m(_dystack pid=166)\u001b[0m \tFitting 10 child models (S1F1 - S1F10) | Fitting with ParallelLocalFoldFittingStrategy (4 workers, per: cpus=1, gpus=0, memory=0.01%)\n"
     ]
    },
    {
     "name": "stdout",
     "output_type": "stream",
     "text": [
      "\u001b[33m(autoscaler +11m47s)\u001b[0m Warning: The following resource request cannot be scheduled right now: {'CPU': 1.0}. This is likely due to all cluster resources being claimed by actors. Consider creating fewer actors or adding more nodes to this Ray cluster.\n"
     ]
    },
    {
     "name": "stderr",
     "output_type": "stream",
     "text": [
      "\u001b[36m(_ray_fit pid=10935)\u001b[0m No improvement since epoch 9: early stopping\n",
      "\u001b[36m(_ray_fit pid=11118)\u001b[0m No improvement since epoch 7: early stopping\n",
      "\u001b[36m(_ray_fit pid=11120)\u001b[0m No improvement since epoch 9: early stopping\n",
      "\u001b[36m(_ray_fit pid=11305)\u001b[0m No improvement since epoch 10: early stopping\n",
      "\u001b[36m(_dystack pid=166)\u001b[0m \t0.8918\t = Validation score   (roc_auc)\n",
      "\u001b[36m(_dystack pid=166)\u001b[0m \t41.28s\t = Training   runtime\n",
      "\u001b[36m(_dystack pid=166)\u001b[0m \t0.19s\t = Validation runtime\n",
      "\u001b[36m(_dystack pid=166)\u001b[0m Fitting model: XGBoost_r89_BAG_L1 ... Training model for up to 5850.96s of the 9151.25s of remaining time.\n",
      "\u001b[36m(_dystack pid=166)\u001b[0m \tFitting 10 child models (S1F1 - S1F10) | Fitting with ParallelLocalFoldFittingStrategy (4 workers, per: cpus=1, gpus=0, memory=0.02%)\n"
     ]
    },
    {
     "name": "stdout",
     "output_type": "stream",
     "text": [
      "\u001b[33m(autoscaler +12m32s)\u001b[0m Warning: The following resource request cannot be scheduled right now: {'CPU': 1.0}. This is likely due to all cluster resources being claimed by actors. Consider creating fewer actors or adding more nodes to this Ray cluster.\n"
     ]
    },
    {
     "name": "stderr",
     "output_type": "stream",
     "text": [
      "\u001b[36m(_dystack pid=166)\u001b[0m \t0.8967\t = Validation score   (roc_auc)\n",
      "\u001b[36m(_dystack pid=166)\u001b[0m \t8.74s\t = Training   runtime\n",
      "\u001b[36m(_dystack pid=166)\u001b[0m \t0.1s\t = Validation runtime\n",
      "\u001b[36m(_dystack pid=166)\u001b[0m Fitting model: NeuralNetTorch_r30_BAG_L1 ... Training model for up to 5838.90s of the 9139.19s of remaining time.\n",
      "\u001b[36m(_dystack pid=166)\u001b[0m \tFitting 10 child models (S1F1 - S1F10) | Fitting with ParallelLocalFoldFittingStrategy (4 workers, per: cpus=1, gpus=0, memory=0.00%)\n"
     ]
    },
    {
     "name": "stdout",
     "output_type": "stream",
     "text": [
      "\u001b[33m(autoscaler +13m7s)\u001b[0m Warning: The following resource request cannot be scheduled right now: {'CPU': 1.0}. This is likely due to all cluster resources being claimed by actors. Consider creating fewer actors or adding more nodes to this Ray cluster.\n"
     ]
    },
    {
     "name": "stderr",
     "output_type": "stream",
     "text": [
      "\u001b[36m(_dystack pid=166)\u001b[0m \t0.895\t = Validation score   (roc_auc)\n",
      "\u001b[36m(_dystack pid=166)\u001b[0m \t65.05s\t = Training   runtime\n",
      "\u001b[36m(_dystack pid=166)\u001b[0m \t0.12s\t = Validation runtime\n",
      "\u001b[36m(_dystack pid=166)\u001b[0m Fitting model: LightGBM_r130_BAG_L1 ... Training model for up to 5770.85s of the 9071.14s of remaining time.\n",
      "\u001b[36m(_dystack pid=166)\u001b[0m \tFitting 10 child models (S1F1 - S1F10) | Fitting with ParallelLocalFoldFittingStrategy (4 workers, per: cpus=1, gpus=0, memory=0.02%)\n"
     ]
    },
    {
     "name": "stdout",
     "output_type": "stream",
     "text": [
      "\u001b[33m(autoscaler +13m53s)\u001b[0m Warning: The following resource request cannot be scheduled right now: {'CPU': 1.0}. This is likely due to all cluster resources being claimed by actors. Consider creating fewer actors or adding more nodes to this Ray cluster.\n"
     ]
    },
    {
     "name": "stderr",
     "output_type": "stream",
     "text": [
      "\u001b[36m(_dystack pid=166)\u001b[0m \t0.8945\t = Validation score   (roc_auc)\n",
      "\u001b[36m(_dystack pid=166)\u001b[0m \t14.05s\t = Training   runtime\n",
      "\u001b[36m(_dystack pid=166)\u001b[0m \t0.03s\t = Validation runtime\n",
      "\u001b[36m(_dystack pid=166)\u001b[0m Fitting model: NeuralNetTorch_r86_BAG_L1 ... Training model for up to 5753.59s of the 9053.88s of remaining time.\n",
      "\u001b[36m(_dystack pid=166)\u001b[0m \tFitting 10 child models (S1F1 - S1F10) | Fitting with ParallelLocalFoldFittingStrategy (4 workers, per: cpus=1, gpus=0, memory=0.00%)\n"
     ]
    },
    {
     "name": "stdout",
     "output_type": "stream",
     "text": [
      "\u001b[33m(autoscaler +14m28s)\u001b[0m Warning: The following resource request cannot be scheduled right now: {'CPU': 1.0}. This is likely due to all cluster resources being claimed by actors. Consider creating fewer actors or adding more nodes to this Ray cluster.\n"
     ]
    },
    {
     "name": "stderr",
     "output_type": "stream",
     "text": [
      "\u001b[36m(_dystack pid=166)\u001b[0m \t0.8911\t = Validation score   (roc_auc)\n",
      "\u001b[36m(_dystack pid=166)\u001b[0m \t36.28s\t = Training   runtime\n",
      "\u001b[36m(_dystack pid=166)\u001b[0m \t0.12s\t = Validation runtime\n",
      "\u001b[36m(_dystack pid=166)\u001b[0m Fitting model: CatBoost_r50_BAG_L1 ... Training model for up to 5714.19s of the 9014.48s of remaining time.\n",
      "\u001b[36m(_dystack pid=166)\u001b[0m \tFitting 10 child models (S1F1 - S1F10) | Fitting with ParallelLocalFoldFittingStrategy (4 workers, per: cpus=1, gpus=0, memory=0.01%)\n",
      "\u001b[36m(_dystack pid=166)\u001b[0m \t0.9004\t = Validation score   (roc_auc)\n",
      "\u001b[36m(_dystack pid=166)\u001b[0m \t13.95s\t = Training   runtime\n",
      "\u001b[36m(_dystack pid=166)\u001b[0m \t0.03s\t = Validation runtime\n",
      "\u001b[36m(_dystack pid=166)\u001b[0m Fitting model: NeuralNetFastAI_r11_BAG_L1 ... Training model for up to 5697.11s of the 8997.40s of remaining time.\n",
      "\u001b[36m(_dystack pid=166)\u001b[0m \tFitting 10 child models (S1F1 - S1F10) | Fitting with ParallelLocalFoldFittingStrategy (4 workers, per: cpus=1, gpus=0, memory=0.01%)\n"
     ]
    },
    {
     "name": "stdout",
     "output_type": "stream",
     "text": [
      "\u001b[33m(autoscaler +15m8s)\u001b[0m Warning: The following resource request cannot be scheduled right now: {'CPU': 1.0}. This is likely due to all cluster resources being claimed by actors. Consider creating fewer actors or adding more nodes to this Ray cluster.\n"
     ]
    },
    {
     "name": "stderr",
     "output_type": "stream",
     "text": [
      "\u001b[36m(_ray_fit pid=13183)\u001b[0m No improvement since epoch 6: early stopping\n",
      "\u001b[36m(_ray_fit pid=13401)\u001b[0m No improvement since epoch 9: early stopping\u001b[32m [repeated 3x across cluster]\u001b[0m\n",
      "\u001b[36m(_ray_fit pid=13555)\u001b[0m No improvement since epoch 10: early stopping\n",
      "\u001b[36m(_dystack pid=166)\u001b[0m \t0.9003\t = Validation score   (roc_auc)\n",
      "\u001b[36m(_dystack pid=166)\u001b[0m \t47.2s\t = Training   runtime\n",
      "\u001b[36m(_dystack pid=166)\u001b[0m \t0.25s\t = Validation runtime\n",
      "\u001b[36m(_dystack pid=166)\u001b[0m Fitting model: XGBoost_r194_BAG_L1 ... Training model for up to 5646.78s of the 8947.07s of remaining time.\n",
      "\u001b[36m(_dystack pid=166)\u001b[0m \tFitting 10 child models (S1F1 - S1F10) | Fitting with ParallelLocalFoldFittingStrategy (4 workers, per: cpus=1, gpus=0, memory=0.03%)\n"
     ]
    },
    {
     "name": "stdout",
     "output_type": "stream",
     "text": [
      "\u001b[33m(autoscaler +15m58s)\u001b[0m Warning: The following resource request cannot be scheduled right now: {'CPU': 1.0}. This is likely due to all cluster resources being claimed by actors. Consider creating fewer actors or adding more nodes to this Ray cluster.\n"
     ]
    },
    {
     "name": "stderr",
     "output_type": "stream",
     "text": [
      "\u001b[36m(_dystack pid=166)\u001b[0m \t0.8865\t = Validation score   (roc_auc)\n",
      "\u001b[36m(_dystack pid=166)\u001b[0m \t9.44s\t = Training   runtime\n",
      "\u001b[36m(_dystack pid=166)\u001b[0m \t0.06s\t = Validation runtime\n",
      "\u001b[36m(_dystack pid=166)\u001b[0m Fitting model: ExtraTrees_r172_BAG_L1 ... Training model for up to 5634.13s of the 8934.42s of remaining time.\n",
      "\u001b[36m(_dystack pid=166)\u001b[0m \tForcing `use_child_oof=False` because `groups` is specified\n",
      "\u001b[36m(_dystack pid=166)\u001b[0m \tFitting 10 child models (S1F1 - S1F10) | Fitting with ParallelLocalFoldFittingStrategy (4 workers, per: cpus=1, gpus=0, memory=0.00%)\n",
      "\u001b[36m(_dystack pid=166)\u001b[0m \t0.891\t = Validation score   (roc_auc)\n",
      "\u001b[36m(_dystack pid=166)\u001b[0m \t12.65s\t = Training   runtime\n",
      "\u001b[36m(_dystack pid=166)\u001b[0m \t0.96s\t = Validation runtime\n",
      "\u001b[36m(_dystack pid=166)\u001b[0m Fitting model: CatBoost_r69_BAG_L1 ... Training model for up to 5618.29s of the 8918.58s of remaining time.\n",
      "\u001b[36m(_dystack pid=166)\u001b[0m \tFitting 10 child models (S1F1 - S1F10) | Fitting with ParallelLocalFoldFittingStrategy (4 workers, per: cpus=1, gpus=0, memory=0.01%)\n"
     ]
    },
    {
     "name": "stdout",
     "output_type": "stream",
     "text": [
      "\u001b[33m(autoscaler +16m33s)\u001b[0m Warning: The following resource request cannot be scheduled right now: {'CPU': 1.0}. This is likely due to all cluster resources being claimed by actors. Consider creating fewer actors or adding more nodes to this Ray cluster.\n"
     ]
    },
    {
     "name": "stderr",
     "output_type": "stream",
     "text": [
      "\u001b[36m(_dystack pid=166)\u001b[0m \t0.8987\t = Validation score   (roc_auc)\n",
      "\u001b[36m(_dystack pid=166)\u001b[0m \t13.37s\t = Training   runtime\n",
      "\u001b[36m(_dystack pid=166)\u001b[0m \t0.01s\t = Validation runtime\n",
      "\u001b[36m(_dystack pid=166)\u001b[0m Fitting model: NeuralNetFastAI_r103_BAG_L1 ... Training model for up to 5601.93s of the 8902.22s of remaining time.\n",
      "\u001b[36m(_dystack pid=166)\u001b[0m \tFitting 10 child models (S1F1 - S1F10) | Fitting with ParallelLocalFoldFittingStrategy (4 workers, per: cpus=1, gpus=0, memory=0.01%)\n",
      "\u001b[36m(_ray_fit pid=14837)\u001b[0m No improvement since epoch 16: early stopping\n",
      "\u001b[36m(_ray_fit pid=15022)\u001b[0m No improvement since epoch 14: early stopping\u001b[32m [repeated 2x across cluster]\u001b[0m\n",
      "\u001b[36m(_ray_fit pid=15210)\u001b[0m No improvement since epoch 20: early stopping\u001b[32m [repeated 4x across cluster]\u001b[0m\n",
      "\u001b[36m(_dystack pid=166)\u001b[0m \t0.8954\t = Validation score   (roc_auc)\n",
      "\u001b[36m(_dystack pid=166)\u001b[0m \t34.0s\t = Training   runtime\n",
      "\u001b[36m(_dystack pid=166)\u001b[0m \t0.18s\t = Validation runtime\n",
      "\u001b[36m(_dystack pid=166)\u001b[0m Fitting model: NeuralNetTorch_r14_BAG_L1 ... Training model for up to 5564.88s of the 8865.17s of remaining time.\n",
      "\u001b[36m(_dystack pid=166)\u001b[0m \tFitting 10 child models (S1F1 - S1F10) | Fitting with ParallelLocalFoldFittingStrategy (4 workers, per: cpus=1, gpus=0, memory=0.00%)\n"
     ]
    },
    {
     "name": "stdout",
     "output_type": "stream",
     "text": [
      "\u001b[33m(autoscaler +17m18s)\u001b[0m Warning: The following resource request cannot be scheduled right now: {'CPU': 1.0}. This is likely due to all cluster resources being claimed by actors. Consider creating fewer actors or adding more nodes to this Ray cluster.\n"
     ]
    },
    {
     "name": "stderr",
     "output_type": "stream",
     "text": [
      "\u001b[36m(_dystack pid=166)\u001b[0m \t0.8975\t = Validation score   (roc_auc)\n",
      "\u001b[36m(_dystack pid=166)\u001b[0m \t30.56s\t = Training   runtime\n",
      "\u001b[36m(_dystack pid=166)\u001b[0m \t0.12s\t = Validation runtime\n",
      "\u001b[36m(_dystack pid=166)\u001b[0m Fitting model: LightGBM_r161_BAG_L1 ... Training model for up to 5530.49s of the 8830.77s of remaining time.\n",
      "\u001b[36m(_dystack pid=166)\u001b[0m \tFitting 10 child models (S1F1 - S1F10) | Fitting with ParallelLocalFoldFittingStrategy (4 workers, per: cpus=1, gpus=0, memory=0.06%)\n"
     ]
    },
    {
     "name": "stdout",
     "output_type": "stream",
     "text": [
      "\u001b[33m(autoscaler +17m53s)\u001b[0m Warning: The following resource request cannot be scheduled right now: {'CPU': 1.0}. This is likely due to all cluster resources being claimed by actors. Consider creating fewer actors or adding more nodes to this Ray cluster.\n"
     ]
    },
    {
     "name": "stderr",
     "output_type": "stream",
     "text": [
      "\u001b[36m(_dystack pid=166)\u001b[0m \t0.8902\t = Validation score   (roc_auc)\n",
      "\u001b[36m(_dystack pid=166)\u001b[0m \t19.77s\t = Training   runtime\n",
      "\u001b[36m(_dystack pid=166)\u001b[0m \t0.11s\t = Validation runtime\n",
      "\u001b[36m(_dystack pid=166)\u001b[0m Fitting model: NeuralNetFastAI_r143_BAG_L1 ... Training model for up to 5506.99s of the 8807.28s of remaining time.\n",
      "\u001b[36m(_dystack pid=166)\u001b[0m \tFitting 10 child models (S1F1 - S1F10) | Fitting with ParallelLocalFoldFittingStrategy (4 workers, per: cpus=1, gpus=0, memory=0.01%)\n"
     ]
    },
    {
     "name": "stdout",
     "output_type": "stream",
     "text": [
      "\u001b[33m(autoscaler +18m28s)\u001b[0m Warning: The following resource request cannot be scheduled right now: {'CPU': 1.0}. This is likely due to all cluster resources being claimed by actors. Consider creating fewer actors or adding more nodes to this Ray cluster.\n"
     ]
    },
    {
     "name": "stderr",
     "output_type": "stream",
     "text": [
      "\u001b[36m(_dystack pid=166)\u001b[0m \t0.8924\t = Validation score   (roc_auc)\n",
      "\u001b[36m(_dystack pid=166)\u001b[0m \t26.9s\t = Training   runtime\n",
      "\u001b[36m(_dystack pid=166)\u001b[0m \t0.16s\t = Validation runtime\n",
      "\u001b[36m(_dystack pid=166)\u001b[0m Fitting model: CatBoost_r70_BAG_L1 ... Training model for up to 5476.75s of the 8777.04s of remaining time.\n",
      "\u001b[36m(_dystack pid=166)\u001b[0m \tFitting 10 child models (S1F1 - S1F10) | Fitting with ParallelLocalFoldFittingStrategy (4 workers, per: cpus=1, gpus=0, memory=0.02%)\n"
     ]
    },
    {
     "name": "stdout",
     "output_type": "stream",
     "text": [
      "\u001b[33m(autoscaler +19m3s)\u001b[0m Warning: The following resource request cannot be scheduled right now: {'CPU': 1.0}. This is likely due to all cluster resources being claimed by actors. Consider creating fewer actors or adding more nodes to this Ray cluster.\n"
     ]
    },
    {
     "name": "stderr",
     "output_type": "stream",
     "text": [
      "\u001b[36m(_dystack pid=166)\u001b[0m \t0.8953\t = Validation score   (roc_auc)\n",
      "\u001b[36m(_dystack pid=166)\u001b[0m \t25.13s\t = Training   runtime\n",
      "\u001b[36m(_dystack pid=166)\u001b[0m \t0.03s\t = Validation runtime\n",
      "\u001b[36m(_dystack pid=166)\u001b[0m Fitting model: NeuralNetFastAI_r156_BAG_L1 ... Training model for up to 5448.25s of the 8748.54s of remaining time.\n",
      "\u001b[36m(_dystack pid=166)\u001b[0m \tFitting 10 child models (S1F1 - S1F10) | Fitting with ParallelLocalFoldFittingStrategy (4 workers, per: cpus=1, gpus=0, memory=0.01%)\n",
      "\u001b[36m(_ray_fit pid=16864)\u001b[0m No improvement since epoch 3: early stopping\n"
     ]
    },
    {
     "name": "stdout",
     "output_type": "stream",
     "text": [
      "\u001b[33m(autoscaler +19m38s)\u001b[0m Warning: The following resource request cannot be scheduled right now: {'CPU': 1.0}. This is likely due to all cluster resources being claimed by actors. Consider creating fewer actors or adding more nodes to this Ray cluster.\n"
     ]
    },
    {
     "name": "stderr",
     "output_type": "stream",
     "text": [
      "\u001b[36m(_ray_fit pid=16865)\u001b[0m No improvement since epoch 16: early stopping\n",
      "\u001b[36m(_ray_fit pid=16867)\u001b[0m No improvement since epoch 23: early stopping\n",
      "\u001b[36m(_ray_fit pid=17047)\u001b[0m No improvement since epoch 3: early stopping\n",
      "\u001b[36m(_ray_fit pid=17079)\u001b[0m No improvement since epoch 3: early stopping\n",
      "\u001b[36m(_ray_fit pid=17126)\u001b[0m No improvement since epoch 8: early stopping\u001b[32m [repeated 2x across cluster]\u001b[0m\n",
      "\u001b[36m(_dystack pid=166)\u001b[0m \t0.8932\t = Validation score   (roc_auc)\n",
      "\u001b[36m(_dystack pid=166)\u001b[0m \t82.0s\t = Training   runtime\n",
      "\u001b[36m(_dystack pid=166)\u001b[0m \t0.32s\t = Validation runtime\n",
      "\u001b[36m(_dystack pid=166)\u001b[0m Fitting model: LightGBM_r196_BAG_L1 ... Training model for up to 5362.92s of the 8663.21s of remaining time.\n",
      "\u001b[36m(_ray_fit pid=17234)\u001b[0m No improvement since epoch 4: early stopping\n",
      "\u001b[36m(_dystack pid=166)\u001b[0m \tFitting 10 child models (S1F1 - S1F10) | Fitting with ParallelLocalFoldFittingStrategy (4 workers, per: cpus=1, gpus=0, memory=0.03%)\n"
     ]
    },
    {
     "name": "stdout",
     "output_type": "stream",
     "text": [
      "\u001b[33m(autoscaler +20m39s)\u001b[0m Warning: The following resource request cannot be scheduled right now: {'CPU': 1.0}. This is likely due to all cluster resources being claimed by actors. Consider creating fewer actors or adding more nodes to this Ray cluster.\n",
      "\u001b[36m(_ray_fit pid=17329)\u001b[0m [1000]\tvalid_set's binary_logloss: 0.303465\n",
      "\u001b[36m(_ray_fit pid=17332)\u001b[0m [1000]\tvalid_set's binary_logloss: 0.35315\n",
      "\u001b[36m(_ray_fit pid=17460)\u001b[0m [1000]\tvalid_set's binary_logloss: 0.359795\u001b[32m [repeated 6x across cluster]\u001b[0m\n",
      "\u001b[36m(_ray_fit pid=17591)\u001b[0m [1000]\tvalid_set's binary_logloss: 0.294934\u001b[32m [repeated 3x across cluster]\u001b[0m\n"
     ]
    },
    {
     "name": "stderr",
     "output_type": "stream",
     "text": [
      "\u001b[36m(_dystack pid=166)\u001b[0m \t0.897\t = Validation score   (roc_auc)\n",
      "\u001b[36m(_dystack pid=166)\u001b[0m \t21.35s\t = Training   runtime\n",
      "\u001b[36m(_dystack pid=166)\u001b[0m \t0.54s\t = Validation runtime\n",
      "\u001b[36m(_dystack pid=166)\u001b[0m Fitting model: RandomForest_r39_BAG_L1 ... Training model for up to 5337.96s of the 8638.25s of remaining time.\n",
      "\u001b[36m(_dystack pid=166)\u001b[0m \tForcing `use_child_oof=False` because `groups` is specified\n",
      "\u001b[36m(_dystack pid=166)\u001b[0m \tFitting 10 child models (S1F1 - S1F10) | Fitting with ParallelLocalFoldFittingStrategy (4 workers, per: cpus=1, gpus=0, memory=0.00%)\n"
     ]
    },
    {
     "name": "stdout",
     "output_type": "stream",
     "text": [
      "\u001b[33m(autoscaler +21m14s)\u001b[0m Warning: The following resource request cannot be scheduled right now: {'CPU': 1.0}. This is likely due to all cluster resources being claimed by actors. Consider creating fewer actors or adding more nodes to this Ray cluster.\n"
     ]
    },
    {
     "name": "stderr",
     "output_type": "stream",
     "text": [
      "\u001b[36m(_dystack pid=166)\u001b[0m \t0.8823\t = Validation score   (roc_auc)\n",
      "\u001b[36m(_dystack pid=166)\u001b[0m \t19.95s\t = Training   runtime\n",
      "\u001b[36m(_dystack pid=166)\u001b[0m \t1.16s\t = Validation runtime\n",
      "\u001b[36m(_dystack pid=166)\u001b[0m Fitting model: CatBoost_r167_BAG_L1 ... Training model for up to 5314.55s of the 8614.83s of remaining time.\n",
      "\u001b[36m(_dystack pid=166)\u001b[0m \tFitting 10 child models (S1F1 - S1F10) | Fitting with ParallelLocalFoldFittingStrategy (4 workers, per: cpus=1, gpus=0, memory=0.03%)\n",
      "\u001b[36m(_dystack pid=166)\u001b[0m \t0.8944\t = Validation score   (roc_auc)\n",
      "\u001b[36m(_dystack pid=166)\u001b[0m \t18.16s\t = Training   runtime\n",
      "\u001b[36m(_dystack pid=166)\u001b[0m \t0.02s\t = Validation runtime\n",
      "\u001b[36m(_dystack pid=166)\u001b[0m Fitting model: NeuralNetFastAI_r95_BAG_L1 ... Training model for up to 5293.26s of the 8593.55s of remaining time.\n",
      "\u001b[36m(_dystack pid=166)\u001b[0m \tFitting 10 child models (S1F1 - S1F10) | Fitting with ParallelLocalFoldFittingStrategy (4 workers, per: cpus=1, gpus=0, memory=0.01%)\n"
     ]
    },
    {
     "name": "stdout",
     "output_type": "stream",
     "text": [
      "\u001b[33m(autoscaler +21m49s)\u001b[0m Warning: The following resource request cannot be scheduled right now: {'CPU': 1.0}. This is likely due to all cluster resources being claimed by actors. Consider creating fewer actors or adding more nodes to this Ray cluster.\n"
     ]
    },
    {
     "name": "stderr",
     "output_type": "stream",
     "text": [
      "\u001b[36m(_ray_fit pid=18708)\u001b[0m No improvement since epoch 8: early stopping\n",
      "\u001b[36m(_ray_fit pid=18890)\u001b[0m No improvement since epoch 10: early stopping\u001b[32m [repeated 3x across cluster]\u001b[0m\n",
      "\u001b[36m(_dystack pid=166)\u001b[0m \t0.8911\t = Validation score   (roc_auc)\n",
      "\u001b[36m(_dystack pid=166)\u001b[0m \t43.23s\t = Training   runtime\n",
      "\u001b[36m(_dystack pid=166)\u001b[0m \t0.23s\t = Validation runtime\n",
      "\u001b[36m(_dystack pid=166)\u001b[0m Fitting model: NeuralNetTorch_r41_BAG_L1 ... Training model for up to 5246.93s of the 8547.21s of remaining time.\n",
      "\u001b[36m(_dystack pid=166)\u001b[0m \tFitting 10 child models (S1F1 - S1F10) | Fitting with ParallelLocalFoldFittingStrategy (4 workers, per: cpus=1, gpus=0, memory=0.00%)\n"
     ]
    },
    {
     "name": "stdout",
     "output_type": "stream",
     "text": [
      "\u001b[33m(autoscaler +22m39s)\u001b[0m Warning: The following resource request cannot be scheduled right now: {'CPU': 1.0}. This is likely due to all cluster resources being claimed by actors. Consider creating fewer actors or adding more nodes to this Ray cluster.\n"
     ]
    },
    {
     "name": "stderr",
     "output_type": "stream",
     "text": [
      "\u001b[36m(_dystack pid=166)\u001b[0m \t0.8947\t = Validation score   (roc_auc)\n",
      "\u001b[36m(_dystack pid=166)\u001b[0m \t47.12s\t = Training   runtime\n",
      "\u001b[36m(_dystack pid=166)\u001b[0m \t0.2s\t = Validation runtime\n",
      "\u001b[36m(_dystack pid=166)\u001b[0m Fitting model: XGBoost_r98_BAG_L1 ... Training model for up to 5196.67s of the 8496.96s of remaining time.\n",
      "\u001b[36m(_dystack pid=166)\u001b[0m \tFitting 10 child models (S1F1 - S1F10) | Fitting with ParallelLocalFoldFittingStrategy (4 workers, per: cpus=1, gpus=0, memory=0.06%)\n"
     ]
    },
    {
     "name": "stdout",
     "output_type": "stream",
     "text": [
      "\u001b[33m(autoscaler +23m29s)\u001b[0m Warning: The following resource request cannot be scheduled right now: {'CPU': 1.0}. This is likely due to all cluster resources being claimed by actors. Consider creating fewer actors or adding more nodes to this Ray cluster.\n"
     ]
    },
    {
     "name": "stderr",
     "output_type": "stream",
     "text": [
      "\u001b[36m(_dystack pid=166)\u001b[0m \t0.8912\t = Validation score   (roc_auc)\n",
      "\u001b[36m(_dystack pid=166)\u001b[0m \t15.38s\t = Training   runtime\n",
      "\u001b[36m(_dystack pid=166)\u001b[0m \t0.18s\t = Validation runtime\n",
      "\u001b[36m(_dystack pid=166)\u001b[0m Fitting model: LightGBM_r15_BAG_L1 ... Training model for up to 5177.82s of the 8478.11s of remaining time.\n",
      "\u001b[36m(_dystack pid=166)\u001b[0m \tFitting 10 child models (S1F1 - S1F10) | Fitting with ParallelLocalFoldFittingStrategy (4 workers, per: cpus=1, gpus=0, memory=0.01%)\n",
      "\u001b[36m(_dystack pid=166)\u001b[0m \t0.8932\t = Validation score   (roc_auc)\n",
      "\u001b[36m(_dystack pid=166)\u001b[0m \t15.53s\t = Training   runtime\n",
      "\u001b[36m(_dystack pid=166)\u001b[0m \t0.05s\t = Validation runtime\n",
      "\u001b[36m(_dystack pid=166)\u001b[0m Fitting model: NeuralNetTorch_r158_BAG_L1 ... Training model for up to 5158.96s of the 8459.25s of remaining time.\n",
      "\u001b[36m(_dystack pid=166)\u001b[0m \tFitting 10 child models (S1F1 - S1F10) | Fitting with ParallelLocalFoldFittingStrategy (4 workers, per: cpus=1, gpus=0, memory=0.00%)\n"
     ]
    },
    {
     "name": "stdout",
     "output_type": "stream",
     "text": [
      "\u001b[33m(autoscaler +24m4s)\u001b[0m Warning: The following resource request cannot be scheduled right now: {'CPU': 1.0}. This is likely due to all cluster resources being claimed by actors. Consider creating fewer actors or adding more nodes to this Ray cluster.\n",
      "\u001b[33m(autoscaler +24m39s)\u001b[0m Warning: The following resource request cannot be scheduled right now: {'CPU': 1.0}. This is likely due to all cluster resources being claimed by actors. Consider creating fewer actors or adding more nodes to this Ray cluster.\n"
     ]
    },
    {
     "name": "stderr",
     "output_type": "stream",
     "text": [
      "\u001b[36m(_dystack pid=166)\u001b[0m \t0.885\t = Validation score   (roc_auc)\n",
      "\u001b[36m(_dystack pid=166)\u001b[0m \t49.09s\t = Training   runtime\n",
      "\u001b[36m(_dystack pid=166)\u001b[0m \t0.15s\t = Validation runtime\n",
      "\u001b[36m(_dystack pid=166)\u001b[0m Fitting model: CatBoost_r86_BAG_L1 ... Training model for up to 5106.35s of the 8406.64s of remaining time.\n",
      "\u001b[36m(_dystack pid=166)\u001b[0m \tFitting 10 child models (S1F1 - S1F10) | Fitting with ParallelLocalFoldFittingStrategy (4 workers, per: cpus=1, gpus=0, memory=0.06%)\n"
     ]
    },
    {
     "name": "stdout",
     "output_type": "stream",
     "text": [
      "\u001b[33m(autoscaler +25m14s)\u001b[0m Warning: The following resource request cannot be scheduled right now: {'CPU': 1.0}. This is likely due to all cluster resources being claimed by actors. Consider creating fewer actors or adding more nodes to this Ray cluster.\n"
     ]
    },
    {
     "name": "stderr",
     "output_type": "stream",
     "text": [
      "\u001b[36m(_dystack pid=166)\u001b[0m \t0.8936\t = Validation score   (roc_auc)\n",
      "\u001b[36m(_dystack pid=166)\u001b[0m \t25.24s\t = Training   runtime\n",
      "\u001b[36m(_dystack pid=166)\u001b[0m \t0.02s\t = Validation runtime\n",
      "\u001b[36m(_dystack pid=166)\u001b[0m Fitting model: NeuralNetFastAI_r37_BAG_L1 ... Training model for up to 5077.25s of the 8377.54s of remaining time.\n",
      "\u001b[36m(_dystack pid=166)\u001b[0m \tFitting 10 child models (S1F1 - S1F10) | Fitting with ParallelLocalFoldFittingStrategy (4 workers, per: cpus=1, gpus=0, memory=0.01%)\n"
     ]
    },
    {
     "name": "stdout",
     "output_type": "stream",
     "text": [
      "\u001b[33m(autoscaler +25m49s)\u001b[0m Warning: The following resource request cannot be scheduled right now: {'CPU': 1.0}. This is likely due to all cluster resources being claimed by actors. Consider creating fewer actors or adding more nodes to this Ray cluster.\n"
     ]
    },
    {
     "name": "stderr",
     "output_type": "stream",
     "text": [
      "\u001b[36m(_ray_fit pid=21152)\u001b[0m No improvement since epoch 20: early stopping\n",
      "\u001b[36m(_dystack pid=166)\u001b[0m \t0.8934\t = Validation score   (roc_auc)\n",
      "\u001b[36m(_dystack pid=166)\u001b[0m \t33.33s\t = Training   runtime\n",
      "\u001b[36m(_dystack pid=166)\u001b[0m \t0.21s\t = Validation runtime\n",
      "\u001b[36m(_dystack pid=166)\u001b[0m Fitting model: NeuralNetTorch_r197_BAG_L1 ... Training model for up to 5040.75s of the 8341.04s of remaining time.\n",
      "\u001b[36m(_dystack pid=166)\u001b[0m \tFitting 10 child models (S1F1 - S1F10) | Fitting with ParallelLocalFoldFittingStrategy (4 workers, per: cpus=1, gpus=0, memory=0.00%)\n",
      "\u001b[36m(_dystack pid=166)\u001b[0m \t0.8978\t = Validation score   (roc_auc)\n",
      "\u001b[36m(_dystack pid=166)\u001b[0m \t30.88s\t = Training   runtime\n",
      "\u001b[36m(_dystack pid=166)\u001b[0m \t0.12s\t = Validation runtime\n",
      "\u001b[36m(_dystack pid=166)\u001b[0m Fitting model: CatBoost_r49_BAG_L1 ... Training model for up to 5005.95s of the 8306.24s of remaining time.\n",
      "\u001b[36m(_dystack pid=166)\u001b[0m \tFitting 10 child models (S1F1 - S1F10) | Fitting with ParallelLocalFoldFittingStrategy (4 workers, per: cpus=1, gpus=0, memory=0.01%)\n"
     ]
    },
    {
     "name": "stdout",
     "output_type": "stream",
     "text": [
      "\u001b[33m(autoscaler +26m40s)\u001b[0m Warning: The following resource request cannot be scheduled right now: {'CPU': 1.0}. This is likely due to all cluster resources being claimed by actors. Consider creating fewer actors or adding more nodes to this Ray cluster.\n"
     ]
    },
    {
     "name": "stderr",
     "output_type": "stream",
     "text": [
      "\u001b[36m(_dystack pid=166)\u001b[0m \t0.8963\t = Validation score   (roc_auc)\n",
      "\u001b[36m(_dystack pid=166)\u001b[0m \t14.3s\t = Training   runtime\n",
      "\u001b[36m(_dystack pid=166)\u001b[0m \t0.02s\t = Validation runtime\n",
      "\u001b[36m(_dystack pid=166)\u001b[0m Fitting model: ExtraTrees_r49_BAG_L1 ... Training model for up to 4988.23s of the 8288.52s of remaining time.\n",
      "\u001b[36m(_dystack pid=166)\u001b[0m \tForcing `use_child_oof=False` because `groups` is specified\n",
      "\u001b[36m(_dystack pid=166)\u001b[0m \tFitting 10 child models (S1F1 - S1F10) | Fitting with ParallelLocalFoldFittingStrategy (4 workers, per: cpus=1, gpus=0, memory=0.00%)\n",
      "\u001b[36m(_dystack pid=166)\u001b[0m \t0.886\t = Validation score   (roc_auc)\n",
      "\u001b[36m(_dystack pid=166)\u001b[0m \t16.2s\t = Training   runtime\n",
      "\u001b[36m(_dystack pid=166)\u001b[0m \t1.08s\t = Validation runtime\n",
      "\u001b[36m(_dystack pid=166)\u001b[0m Fitting model: LightGBM_r143_BAG_L1 ... Training model for up to 4968.58s of the 8268.87s of remaining time.\n",
      "\u001b[36m(_dystack pid=166)\u001b[0m \tFitting 10 child models (S1F1 - S1F10) | Fitting with ParallelLocalFoldFittingStrategy (4 workers, per: cpus=1, gpus=0, memory=0.04%)\n"
     ]
    },
    {
     "name": "stdout",
     "output_type": "stream",
     "text": [
      "\u001b[33m(autoscaler +27m15s)\u001b[0m Warning: The following resource request cannot be scheduled right now: {'CPU': 1.0}. This is likely due to all cluster resources being claimed by actors. Consider creating fewer actors or adding more nodes to this Ray cluster.\n"
     ]
    },
    {
     "name": "stderr",
     "output_type": "stream",
     "text": [
      "\u001b[36m(_dystack pid=166)\u001b[0m \t0.8851\t = Validation score   (roc_auc)\n",
      "\u001b[36m(_dystack pid=166)\u001b[0m \t17.8s\t = Training   runtime\n",
      "\u001b[36m(_dystack pid=166)\u001b[0m \t0.1s\t = Validation runtime\n",
      "\u001b[36m(_dystack pid=166)\u001b[0m Fitting model: RandomForest_r127_BAG_L1 ... Training model for up to 4947.32s of the 8247.61s of remaining time.\n",
      "\u001b[36m(_dystack pid=166)\u001b[0m \tForcing `use_child_oof=False` because `groups` is specified\n",
      "\u001b[36m(_dystack pid=166)\u001b[0m \tFitting 10 child models (S1F1 - S1F10) | Fitting with ParallelLocalFoldFittingStrategy (4 workers, per: cpus=1, gpus=0, memory=0.00%)\n"
     ]
    },
    {
     "name": "stdout",
     "output_type": "stream",
     "text": [
      "\u001b[33m(autoscaler +27m50s)\u001b[0m Warning: The following resource request cannot be scheduled right now: {'CPU': 1.0}. This is likely due to all cluster resources being claimed by actors. Consider creating fewer actors or adding more nodes to this Ray cluster.\n"
     ]
    },
    {
     "name": "stderr",
     "output_type": "stream",
     "text": [
      "\u001b[36m(_dystack pid=166)\u001b[0m \t0.8878\t = Validation score   (roc_auc)\n",
      "\u001b[36m(_dystack pid=166)\u001b[0m \t22.91s\t = Training   runtime\n",
      "\u001b[36m(_dystack pid=166)\u001b[0m \t1.08s\t = Validation runtime\n",
      "\u001b[36m(_dystack pid=166)\u001b[0m Fitting model: NeuralNetFastAI_r134_BAG_L1 ... Training model for up to 4920.89s of the 8221.18s of remaining time.\n",
      "\u001b[36m(_dystack pid=166)\u001b[0m \tFitting 10 child models (S1F1 - S1F10) | Fitting with ParallelLocalFoldFittingStrategy (4 workers, per: cpus=1, gpus=0, memory=0.01%)\n"
     ]
    },
    {
     "name": "stdout",
     "output_type": "stream",
     "text": [
      "\u001b[33m(autoscaler +28m25s)\u001b[0m Warning: The following resource request cannot be scheduled right now: {'CPU': 1.0}. This is likely due to all cluster resources being claimed by actors. Consider creating fewer actors or adding more nodes to this Ray cluster.\n"
     ]
    },
    {
     "name": "stderr",
     "output_type": "stream",
     "text": [
      "\u001b[36m(_ray_fit pid=23275)\u001b[0m No improvement since epoch 18: early stopping\n",
      "\u001b[36m(_ray_fit pid=23277)\u001b[0m No improvement since epoch 23: early stopping\u001b[32m [repeated 2x across cluster]\u001b[0m\n"
     ]
    },
    {
     "name": "stdout",
     "output_type": "stream",
     "text": [
      "\u001b[33m(autoscaler +29m0s)\u001b[0m Warning: The following resource request cannot be scheduled right now: {'CPU': 1.0}. This is likely due to all cluster resources being claimed by actors. Consider creating fewer actors or adding more nodes to this Ray cluster.\n",
      "\u001b[33m(autoscaler +29m35s)\u001b[0m Warning: The following resource request cannot be scheduled right now: {'CPU': 1.0}. This is likely due to all cluster resources being claimed by actors. Consider creating fewer actors or adding more nodes to this Ray cluster.\n"
     ]
    },
    {
     "name": "stderr",
     "output_type": "stream",
     "text": [
      "\u001b[36m(_ray_fit pid=23525)\u001b[0m No improvement since epoch 13: early stopping\n",
      "\u001b[36m(_ray_fit pid=23459)\u001b[0m No improvement since epoch 25: early stopping\n",
      "\u001b[36m(_ray_fit pid=23585)\u001b[0m No improvement since epoch 22: early stopping\n",
      "\u001b[36m(_ray_fit pid=23678)\u001b[0m No improvement since epoch 25: early stopping\n",
      "\u001b[36m(_dystack pid=166)\u001b[0m \t0.8951\t = Validation score   (roc_auc)\n",
      "\u001b[36m(_dystack pid=166)\u001b[0m \t143.83s\t = Training   runtime\n",
      "\u001b[36m(_dystack pid=166)\u001b[0m \t0.41s\t = Validation runtime\n",
      "\u001b[36m(_dystack pid=166)\u001b[0m Fitting model: RandomForest_r34_BAG_L1 ... Training model for up to 4773.77s of the 8074.06s of remaining time.\n",
      "\u001b[36m(_dystack pid=166)\u001b[0m \tForcing `use_child_oof=False` because `groups` is specified\n",
      "\u001b[36m(_dystack pid=166)\u001b[0m \tFitting 10 child models (S1F1 - S1F10) | Fitting with ParallelLocalFoldFittingStrategy (4 workers, per: cpus=1, gpus=0, memory=0.00%)\n"
     ]
    },
    {
     "name": "stdout",
     "output_type": "stream",
     "text": [
      "\u001b[33m(autoscaler +30m30s)\u001b[0m Warning: The following resource request cannot be scheduled right now: {'CPU': 1.0}. This is likely due to all cluster resources being claimed by actors. Consider creating fewer actors or adding more nodes to this Ray cluster.\n"
     ]
    },
    {
     "name": "stderr",
     "output_type": "stream",
     "text": [
      "\u001b[36m(_dystack pid=166)\u001b[0m \t0.8925\t = Validation score   (roc_auc)\n",
      "\u001b[36m(_dystack pid=166)\u001b[0m \t14.75s\t = Training   runtime\n",
      "\u001b[36m(_dystack pid=166)\u001b[0m \t0.91s\t = Validation runtime\n",
      "\u001b[36m(_dystack pid=166)\u001b[0m Fitting model: LightGBM_r94_BAG_L1 ... Training model for up to 4755.62s of the 8055.91s of remaining time.\n",
      "\u001b[36m(_dystack pid=166)\u001b[0m \tFitting 10 child models (S1F1 - S1F10) | Fitting with ParallelLocalFoldFittingStrategy (4 workers, per: cpus=1, gpus=0, memory=0.01%)\n"
     ]
    },
    {
     "name": "stdout",
     "output_type": "stream",
     "text": [
      "\u001b[36m(_ray_fit pid=24210)\u001b[0m [1000]\tvalid_set's binary_logloss: 0.294527\u001b[32m [repeated 5x across cluster]\u001b[0m\n"
     ]
    },
    {
     "name": "stderr",
     "output_type": "stream",
     "text": [
      "\u001b[36m(_dystack pid=166)\u001b[0m \t0.8978\t = Validation score   (roc_auc)\n",
      "\u001b[36m(_dystack pid=166)\u001b[0m \t14.65s\t = Training   runtime\n",
      "\u001b[36m(_dystack pid=166)\u001b[0m \t0.12s\t = Validation runtime\n",
      "\u001b[36m(_dystack pid=166)\u001b[0m Fitting model: NeuralNetTorch_r143_BAG_L1 ... Training model for up to 4737.70s of the 8037.98s of remaining time.\n",
      "\u001b[36m(_dystack pid=166)\u001b[0m \tFitting 10 child models (S1F1 - S1F10) | Fitting with ParallelLocalFoldFittingStrategy (4 workers, per: cpus=1, gpus=0, memory=0.00%)\n"
     ]
    },
    {
     "name": "stdout",
     "output_type": "stream",
     "text": [
      "\u001b[33m(autoscaler +31m5s)\u001b[0m Warning: The following resource request cannot be scheduled right now: {'CPU': 1.0}. This is likely due to all cluster resources being claimed by actors. Consider creating fewer actors or adding more nodes to this Ray cluster.\n",
      "\u001b[33m(autoscaler +31m40s)\u001b[0m Warning: The following resource request cannot be scheduled right now: {'CPU': 1.0}. This is likely due to all cluster resources being claimed by actors. Consider creating fewer actors or adding more nodes to this Ray cluster.\n"
     ]
    },
    {
     "name": "stderr",
     "output_type": "stream",
     "text": [
      "\u001b[36m(_dystack pid=166)\u001b[0m \t0.8929\t = Validation score   (roc_auc)\n",
      "\u001b[36m(_dystack pid=166)\u001b[0m \t52.72s\t = Training   runtime\n",
      "\u001b[36m(_dystack pid=166)\u001b[0m \t0.15s\t = Validation runtime\n",
      "\u001b[36m(_dystack pid=166)\u001b[0m Fitting model: CatBoost_r128_BAG_L1 ... Training model for up to 4681.60s of the 7981.88s of remaining time.\n",
      "\u001b[36m(_dystack pid=166)\u001b[0m \tFitting 10 child models (S1F1 - S1F10) | Fitting with ParallelLocalFoldFittingStrategy (4 workers, per: cpus=1, gpus=0, memory=0.06%)\n"
     ]
    },
    {
     "name": "stdout",
     "output_type": "stream",
     "text": [
      "\u001b[33m(autoscaler +32m15s)\u001b[0m Warning: The following resource request cannot be scheduled right now: {'CPU': 1.0}. This is likely due to all cluster resources being claimed by actors. Consider creating fewer actors or adding more nodes to this Ray cluster.\n"
     ]
    },
    {
     "name": "stderr",
     "output_type": "stream",
     "text": [
      "\u001b[36m(_dystack pid=166)\u001b[0m \t0.8928\t = Validation score   (roc_auc)\n",
      "\u001b[36m(_dystack pid=166)\u001b[0m \t38.38s\t = Training   runtime\n",
      "\u001b[36m(_dystack pid=166)\u001b[0m \t0.03s\t = Validation runtime\n",
      "\u001b[36m(_dystack pid=166)\u001b[0m Fitting model: NeuralNetFastAI_r111_BAG_L1 ... Training model for up to 4639.32s of the 7939.61s of remaining time.\n",
      "\u001b[36m(_dystack pid=166)\u001b[0m \tFitting 10 child models (S1F1 - S1F10) | Fitting with ParallelLocalFoldFittingStrategy (4 workers, per: cpus=1, gpus=0, memory=0.01%)\n"
     ]
    },
    {
     "name": "stdout",
     "output_type": "stream",
     "text": [
      "\u001b[33m(autoscaler +32m50s)\u001b[0m Warning: The following resource request cannot be scheduled right now: {'CPU': 1.0}. This is likely due to all cluster resources being claimed by actors. Consider creating fewer actors or adding more nodes to this Ray cluster.\n",
      "\u001b[33m(autoscaler +33m26s)\u001b[0m Warning: The following resource request cannot be scheduled right now: {'CPU': 1.0}. This is likely due to all cluster resources being claimed by actors. Consider creating fewer actors or adding more nodes to this Ray cluster.\n"
     ]
    },
    {
     "name": "stderr",
     "output_type": "stream",
     "text": [
      "\u001b[36m(_dystack pid=166)\u001b[0m \t0.8957\t = Validation score   (roc_auc)\n",
      "\u001b[36m(_dystack pid=166)\u001b[0m \t67.86s\t = Training   runtime\n",
      "\u001b[36m(_dystack pid=166)\u001b[0m \t0.49s\t = Validation runtime\n",
      "\u001b[36m(_dystack pid=166)\u001b[0m Fitting model: NeuralNetTorch_r31_BAG_L1 ... Training model for up to 4568.20s of the 7868.49s of remaining time.\n",
      "\u001b[36m(_dystack pid=166)\u001b[0m \tFitting 10 child models (S1F1 - S1F10) | Fitting with ParallelLocalFoldFittingStrategy (4 workers, per: cpus=1, gpus=0, memory=0.00%)\n"
     ]
    },
    {
     "name": "stdout",
     "output_type": "stream",
     "text": [
      "\u001b[33m(autoscaler +34m1s)\u001b[0m Warning: The following resource request cannot be scheduled right now: {'CPU': 1.0}. This is likely due to all cluster resources being claimed by actors. Consider creating fewer actors or adding more nodes to this Ray cluster.\n"
     ]
    },
    {
     "name": "stderr",
     "output_type": "stream",
     "text": [
      "\u001b[36m(_dystack pid=166)\u001b[0m \t0.895\t = Validation score   (roc_auc)\n",
      "\u001b[36m(_dystack pid=166)\u001b[0m \t35.42s\t = Training   runtime\n",
      "\u001b[36m(_dystack pid=166)\u001b[0m \t0.14s\t = Validation runtime\n",
      "\u001b[36m(_dystack pid=166)\u001b[0m Fitting model: ExtraTrees_r4_BAG_L1 ... Training model for up to 4528.98s of the 7829.27s of remaining time.\n",
      "\u001b[36m(_dystack pid=166)\u001b[0m \tForcing `use_child_oof=False` because `groups` is specified\n",
      "\u001b[36m(_dystack pid=166)\u001b[0m \tFitting 10 child models (S1F1 - S1F10) | Fitting with ParallelLocalFoldFittingStrategy (4 workers, per: cpus=1, gpus=0, memory=0.00%)\n"
     ]
    },
    {
     "name": "stdout",
     "output_type": "stream",
     "text": [
      "\u001b[33m(autoscaler +34m36s)\u001b[0m Warning: The following resource request cannot be scheduled right now: {'CPU': 1.0}. This is likely due to all cluster resources being claimed by actors. Consider creating fewer actors or adding more nodes to this Ray cluster.\n"
     ]
    },
    {
     "name": "stderr",
     "output_type": "stream",
     "text": [
      "\u001b[36m(_dystack pid=166)\u001b[0m \t0.8926\t = Validation score   (roc_auc)\n",
      "\u001b[36m(_dystack pid=166)\u001b[0m \t13.78s\t = Training   runtime\n",
      "\u001b[36m(_dystack pid=166)\u001b[0m \t1.01s\t = Validation runtime\n",
      "\u001b[36m(_dystack pid=166)\u001b[0m Fitting model: NeuralNetFastAI_r65_BAG_L1 ... Training model for up to 4511.83s of the 7812.12s of remaining time.\n",
      "\u001b[36m(_dystack pid=166)\u001b[0m \tFitting 10 child models (S1F1 - S1F10) | Fitting with ParallelLocalFoldFittingStrategy (4 workers, per: cpus=1, gpus=0, memory=0.01%)\n",
      "\u001b[36m(_dystack pid=166)\u001b[0m \t0.8895\t = Validation score   (roc_auc)\n",
      "\u001b[36m(_dystack pid=166)\u001b[0m \t26.08s\t = Training   runtime\n",
      "\u001b[36m(_dystack pid=166)\u001b[0m \t0.15s\t = Validation runtime\n",
      "\u001b[36m(_dystack pid=166)\u001b[0m Fitting model: NeuralNetFastAI_r88_BAG_L1 ... Training model for up to 4482.56s of the 7782.85s of remaining time.\n",
      "\u001b[36m(_dystack pid=166)\u001b[0m \tFitting 10 child models (S1F1 - S1F10) | Fitting with ParallelLocalFoldFittingStrategy (4 workers, per: cpus=1, gpus=0, memory=0.01%)\n"
     ]
    },
    {
     "name": "stdout",
     "output_type": "stream",
     "text": [
      "\u001b[33m(autoscaler +35m21s)\u001b[0m Warning: The following resource request cannot be scheduled right now: {'CPU': 1.0}. This is likely due to all cluster resources being claimed by actors. Consider creating fewer actors or adding more nodes to this Ray cluster.\n"
     ]
    },
    {
     "name": "stderr",
     "output_type": "stream",
     "text": [
      "\u001b[36m(_ray_fit pid=27064)\u001b[0m No improvement since epoch 7: early stopping\n",
      "\u001b[36m(_ray_fit pid=27248)\u001b[0m No improvement since epoch 5: early stopping\u001b[32m [repeated 4x across cluster]\u001b[0m\n",
      "\u001b[36m(_dystack pid=166)\u001b[0m \t0.8739\t = Validation score   (roc_auc)\n",
      "\u001b[36m(_dystack pid=166)\u001b[0m \t24.78s\t = Training   runtime\n",
      "\u001b[36m(_dystack pid=166)\u001b[0m \t0.17s\t = Validation runtime\n",
      "\u001b[36m(_dystack pid=166)\u001b[0m Fitting model: LightGBM_r30_BAG_L1 ... Training model for up to 4454.56s of the 7754.85s of remaining time.\n",
      "\u001b[36m(_ray_fit pid=27342)\u001b[0m No improvement since epoch 5: early stopping\u001b[32m [repeated 3x across cluster]\u001b[0m\n",
      "\u001b[36m(_dystack pid=166)\u001b[0m \tFitting 10 child models (S1F1 - S1F10) | Fitting with ParallelLocalFoldFittingStrategy (4 workers, per: cpus=1, gpus=0, memory=0.03%)\n"
     ]
    },
    {
     "name": "stdout",
     "output_type": "stream",
     "text": [
      "\u001b[36m(_ray_fit pid=27535)\u001b[0m [1000]\tvalid_set's binary_logloss: 0.296375\n",
      "\u001b[36m(_ray_fit pid=27534)\u001b[0m [1000]\tvalid_set's binary_logloss: 0.304081\n",
      "\u001b[33m(autoscaler +35m56s)\u001b[0m Warning: The following resource request cannot be scheduled right now: {'CPU': 1.0}. This is likely due to all cluster resources being claimed by actors. Consider creating fewer actors or adding more nodes to this Ray cluster.\n",
      "\u001b[36m(_ray_fit pid=27799)\u001b[0m [1000]\tvalid_set's binary_logloss: 0.317417\n"
     ]
    },
    {
     "name": "stderr",
     "output_type": "stream",
     "text": [
      "\u001b[36m(_dystack pid=166)\u001b[0m \t0.8967\t = Validation score   (roc_auc)\n",
      "\u001b[36m(_dystack pid=166)\u001b[0m \t16.41s\t = Training   runtime\n",
      "\u001b[36m(_dystack pid=166)\u001b[0m \t0.26s\t = Validation runtime\n",
      "\u001b[36m(_dystack pid=166)\u001b[0m Fitting model: XGBoost_r49_BAG_L1 ... Training model for up to 4433.90s of the 7734.19s of remaining time.\n",
      "\u001b[36m(_dystack pid=166)\u001b[0m \tFitting 10 child models (S1F1 - S1F10) | Fitting with ParallelLocalFoldFittingStrategy (4 workers, per: cpus=1, gpus=0, memory=0.03%)\n",
      "\u001b[36m(_dystack pid=166)\u001b[0m \t0.8913\t = Validation score   (roc_auc)\n",
      "\u001b[36m(_dystack pid=166)\u001b[0m \t10.43s\t = Training   runtime\n",
      "\u001b[36m(_dystack pid=166)\u001b[0m \t0.11s\t = Validation runtime\n",
      "\u001b[36m(_dystack pid=166)\u001b[0m Fitting model: CatBoost_r5_BAG_L1 ... Training model for up to 4420.33s of the 7720.62s of remaining time.\n",
      "\u001b[36m(_dystack pid=166)\u001b[0m \tFitting 10 child models (S1F1 - S1F10) | Fitting with ParallelLocalFoldFittingStrategy (4 workers, per: cpus=1, gpus=0, memory=0.01%)\n"
     ]
    },
    {
     "name": "stdout",
     "output_type": "stream",
     "text": [
      "\u001b[33m(autoscaler +36m31s)\u001b[0m Warning: The following resource request cannot be scheduled right now: {'CPU': 1.0}. This is likely due to all cluster resources being claimed by actors. Consider creating fewer actors or adding more nodes to this Ray cluster.\n"
     ]
    },
    {
     "name": "stderr",
     "output_type": "stream",
     "text": [
      "\u001b[36m(_dystack pid=166)\u001b[0m \t0.8973\t = Validation score   (roc_auc)\n",
      "\u001b[36m(_dystack pid=166)\u001b[0m \t13.31s\t = Training   runtime\n",
      "\u001b[36m(_dystack pid=166)\u001b[0m \t0.02s\t = Validation runtime\n",
      "\u001b[36m(_dystack pid=166)\u001b[0m Fitting model: NeuralNetTorch_r87_BAG_L1 ... Training model for up to 4403.35s of the 7703.64s of remaining time.\n",
      "\u001b[36m(_dystack pid=166)\u001b[0m \tFitting 10 child models (S1F1 - S1F10) | Fitting with ParallelLocalFoldFittingStrategy (4 workers, per: cpus=1, gpus=0, memory=0.00%)\n"
     ]
    },
    {
     "name": "stdout",
     "output_type": "stream",
     "text": [
      "\u001b[33m(autoscaler +37m6s)\u001b[0m Warning: The following resource request cannot be scheduled right now: {'CPU': 1.0}. This is likely due to all cluster resources being claimed by actors. Consider creating fewer actors or adding more nodes to this Ray cluster.\n"
     ]
    },
    {
     "name": "stderr",
     "output_type": "stream",
     "text": [
      "\u001b[36m(_dystack pid=166)\u001b[0m \t0.8969\t = Validation score   (roc_auc)\n",
      "\u001b[36m(_dystack pid=166)\u001b[0m \t48.49s\t = Training   runtime\n",
      "\u001b[36m(_dystack pid=166)\u001b[0m \t0.14s\t = Validation runtime\n",
      "\u001b[36m(_dystack pid=166)\u001b[0m Fitting model: NeuralNetTorch_r71_BAG_L1 ... Training model for up to 4351.88s of the 7652.17s of remaining time.\n",
      "\u001b[36m(_dystack pid=166)\u001b[0m \tFitting 10 child models (S1F1 - S1F10) | Fitting with ParallelLocalFoldFittingStrategy (4 workers, per: cpus=1, gpus=0, memory=0.00%)\n"
     ]
    },
    {
     "name": "stdout",
     "output_type": "stream",
     "text": [
      "\u001b[33m(autoscaler +37m41s)\u001b[0m Warning: The following resource request cannot be scheduled right now: {'CPU': 1.0}. This is likely due to all cluster resources being claimed by actors. Consider creating fewer actors or adding more nodes to this Ray cluster.\n"
     ]
    },
    {
     "name": "stderr",
     "output_type": "stream",
     "text": [
      "\u001b[36m(_dystack pid=166)\u001b[0m \t0.8967\t = Validation score   (roc_auc)\n",
      "\u001b[36m(_dystack pid=166)\u001b[0m \t26.71s\t = Training   runtime\n",
      "\u001b[36m(_dystack pid=166)\u001b[0m \t0.13s\t = Validation runtime\n",
      "\u001b[36m(_dystack pid=166)\u001b[0m Fitting model: CatBoost_r143_BAG_L1 ... Training model for up to 4321.81s of the 7622.10s of remaining time.\n",
      "\u001b[36m(_dystack pid=166)\u001b[0m \tFitting 10 child models (S1F1 - S1F10) | Fitting with ParallelLocalFoldFittingStrategy (4 workers, per: cpus=1, gpus=0, memory=0.03%)\n",
      "\u001b[36m(_dystack pid=166)\u001b[0m \t0.8955\t = Validation score   (roc_auc)\n",
      "\u001b[36m(_dystack pid=166)\u001b[0m \t17.86s\t = Training   runtime\n",
      "\u001b[36m(_dystack pid=166)\u001b[0m \t0.03s\t = Validation runtime\n",
      "\u001b[36m(_dystack pid=166)\u001b[0m Fitting model: ExtraTrees_r178_BAG_L1 ... Training model for up to 4300.19s of the 7600.48s of remaining time.\n",
      "\u001b[36m(_dystack pid=166)\u001b[0m \tForcing `use_child_oof=False` because `groups` is specified\n",
      "\u001b[36m(_dystack pid=166)\u001b[0m \tFitting 10 child models (S1F1 - S1F10) | Fitting with ParallelLocalFoldFittingStrategy (4 workers, per: cpus=1, gpus=0, memory=0.00%)\n"
     ]
    },
    {
     "name": "stdout",
     "output_type": "stream",
     "text": [
      "\u001b[33m(autoscaler +38m21s)\u001b[0m Warning: The following resource request cannot be scheduled right now: {'CPU': 1.0}. This is likely due to all cluster resources being claimed by actors. Consider creating fewer actors or adding more nodes to this Ray cluster.\n"
     ]
    },
    {
     "name": "stderr",
     "output_type": "stream",
     "text": [
      "\u001b[36m(_dystack pid=166)\u001b[0m \t0.8912\t = Validation score   (roc_auc)\n",
      "\u001b[36m(_dystack pid=166)\u001b[0m \t16.12s\t = Training   runtime\n",
      "\u001b[36m(_dystack pid=166)\u001b[0m \t1.05s\t = Validation runtime\n",
      "\u001b[36m(_dystack pid=166)\u001b[0m Fitting model: RandomForest_r166_BAG_L1 ... Training model for up to 4280.60s of the 7580.89s of remaining time.\n",
      "\u001b[36m(_dystack pid=166)\u001b[0m \tForcing `use_child_oof=False` because `groups` is specified\n",
      "\u001b[36m(_dystack pid=166)\u001b[0m \tFitting 10 child models (S1F1 - S1F10) | Fitting with ParallelLocalFoldFittingStrategy (4 workers, per: cpus=1, gpus=0, memory=0.00%)\n"
     ]
    },
    {
     "name": "stdout",
     "output_type": "stream",
     "text": [
      "\u001b[33m(autoscaler +38m56s)\u001b[0m Warning: The following resource request cannot be scheduled right now: {'CPU': 1.0}. This is likely due to all cluster resources being claimed by actors. Consider creating fewer actors or adding more nodes to this Ray cluster.\n"
     ]
    },
    {
     "name": "stderr",
     "output_type": "stream",
     "text": [
      "\u001b[36m(_dystack pid=166)\u001b[0m \t0.8824\t = Validation score   (roc_auc)\n",
      "\u001b[36m(_dystack pid=166)\u001b[0m \t20.78s\t = Training   runtime\n",
      "\u001b[36m(_dystack pid=166)\u001b[0m \t1.03s\t = Validation runtime\n",
      "\u001b[36m(_dystack pid=166)\u001b[0m Fitting model: XGBoost_r31_BAG_L1 ... Training model for up to 4256.34s of the 7556.63s of remaining time.\n",
      "\u001b[36m(_dystack pid=166)\u001b[0m \tFitting 10 child models (S1F1 - S1F10) | Fitting with ParallelLocalFoldFittingStrategy (4 workers, per: cpus=1, gpus=0, memory=0.02%)\n",
      "\u001b[36m(_dystack pid=166)\u001b[0m \t0.8973\t = Validation score   (roc_auc)\n",
      "\u001b[36m(_dystack pid=166)\u001b[0m \t11.45s\t = Training   runtime\n",
      "\u001b[36m(_dystack pid=166)\u001b[0m \t0.15s\t = Validation runtime\n",
      "\u001b[36m(_dystack pid=166)\u001b[0m Fitting model: NeuralNetTorch_r185_BAG_L1 ... Training model for up to 4241.33s of the 7541.62s of remaining time.\n",
      "\u001b[36m(_dystack pid=166)\u001b[0m \tFitting 10 child models (S1F1 - S1F10) | Fitting with ParallelLocalFoldFittingStrategy (4 workers, per: cpus=1, gpus=0, memory=0.00%)\n"
     ]
    },
    {
     "name": "stdout",
     "output_type": "stream",
     "text": [
      "\u001b[33m(autoscaler +39m31s)\u001b[0m Warning: The following resource request cannot be scheduled right now: {'CPU': 1.0}. This is likely due to all cluster resources being claimed by actors. Consider creating fewer actors or adding more nodes to this Ray cluster.\n"
     ]
    },
    {
     "name": "stderr",
     "output_type": "stream",
     "text": [
      "\u001b[36m(_dystack pid=166)\u001b[0m \t0.8924\t = Validation score   (roc_auc)\n",
      "\u001b[36m(_dystack pid=166)\u001b[0m \t38.53s\t = Training   runtime\n",
      "\u001b[36m(_dystack pid=166)\u001b[0m \t0.17s\t = Validation runtime\n",
      "\u001b[36m(_dystack pid=166)\u001b[0m Fitting model: NeuralNetFastAI_r160_BAG_L1 ... Training model for up to 4199.67s of the 7499.96s of remaining time.\n",
      "\u001b[36m(_dystack pid=166)\u001b[0m \tFitting 10 child models (S1F1 - S1F10) | Fitting with ParallelLocalFoldFittingStrategy (4 workers, per: cpus=1, gpus=0, memory=0.01%)\n"
     ]
    },
    {
     "name": "stdout",
     "output_type": "stream",
     "text": [
      "\u001b[33m(autoscaler +40m7s)\u001b[0m Warning: The following resource request cannot be scheduled right now: {'CPU': 1.0}. This is likely due to all cluster resources being claimed by actors. Consider creating fewer actors or adding more nodes to this Ray cluster.\n"
     ]
    },
    {
     "name": "stderr",
     "output_type": "stream",
     "text": [
      "\u001b[36m(_dystack pid=166)\u001b[0m \t0.897\t = Validation score   (roc_auc)\n",
      "\u001b[36m(_dystack pid=166)\u001b[0m \t36.91s\t = Training   runtime\n",
      "\u001b[36m(_dystack pid=166)\u001b[0m \t0.23s\t = Validation runtime\n",
      "\u001b[36m(_dystack pid=166)\u001b[0m Fitting model: CatBoost_r60_BAG_L1 ... Training model for up to 4159.23s of the 7459.52s of remaining time.\n",
      "\u001b[36m(_dystack pid=166)\u001b[0m \tFitting 10 child models (S1F1 - S1F10) | Fitting with ParallelLocalFoldFittingStrategy (4 workers, per: cpus=1, gpus=0, memory=0.01%)\n"
     ]
    },
    {
     "name": "stdout",
     "output_type": "stream",
     "text": [
      "\u001b[33m(autoscaler +40m42s)\u001b[0m Warning: The following resource request cannot be scheduled right now: {'CPU': 1.0}. This is likely due to all cluster resources being claimed by actors. Consider creating fewer actors or adding more nodes to this Ray cluster.\n"
     ]
    },
    {
     "name": "stderr",
     "output_type": "stream",
     "text": [
      "\u001b[36m(_dystack pid=166)\u001b[0m \t0.8984\t = Validation score   (roc_auc)\n",
      "\u001b[36m(_dystack pid=166)\u001b[0m \t15.78s\t = Training   runtime\n",
      "\u001b[36m(_dystack pid=166)\u001b[0m \t0.02s\t = Validation runtime\n",
      "\u001b[36m(_dystack pid=166)\u001b[0m Fitting model: RandomForest_r15_BAG_L1 ... Training model for up to 4139.50s of the 7439.79s of remaining time.\n",
      "\u001b[36m(_dystack pid=166)\u001b[0m \tForcing `use_child_oof=False` because `groups` is specified\n",
      "\u001b[36m(_dystack pid=166)\u001b[0m \tFitting 10 child models (S1F1 - S1F10) | Fitting with ParallelLocalFoldFittingStrategy (4 workers, per: cpus=1, gpus=0, memory=0.00%)\n"
     ]
    },
    {
     "name": "stdout",
     "output_type": "stream",
     "text": [
      "\u001b[33m(autoscaler +41m17s)\u001b[0m Warning: The following resource request cannot be scheduled right now: {'CPU': 1.0}. This is likely due to all cluster resources being claimed by actors. Consider creating fewer actors or adding more nodes to this Ray cluster.\n"
     ]
    },
    {
     "name": "stderr",
     "output_type": "stream",
     "text": [
      "\u001b[36m(_dystack pid=166)\u001b[0m \t0.8847\t = Validation score   (roc_auc)\n",
      "\u001b[36m(_dystack pid=166)\u001b[0m \t21.54s\t = Training   runtime\n",
      "\u001b[36m(_dystack pid=166)\u001b[0m \t1.05s\t = Validation runtime\n",
      "\u001b[36m(_dystack pid=166)\u001b[0m Fitting model: LightGBM_r135_BAG_L1 ... Training model for up to 4114.61s of the 7414.90s of remaining time.\n",
      "\u001b[36m(_dystack pid=166)\u001b[0m \tFitting 10 child models (S1F1 - S1F10) | Fitting with ParallelLocalFoldFittingStrategy (4 workers, per: cpus=1, gpus=0, memory=0.05%)\n",
      "\u001b[36m(_dystack pid=166)\u001b[0m \t0.8911\t = Validation score   (roc_auc)\n",
      "\u001b[36m(_dystack pid=166)\u001b[0m \t15.2s\t = Training   runtime\n",
      "\u001b[36m(_dystack pid=166)\u001b[0m \t0.07s\t = Validation runtime\n",
      "\u001b[36m(_dystack pid=166)\u001b[0m Fitting model: XGBoost_r22_BAG_L1 ... Training model for up to 4096.15s of the 7396.44s of remaining time.\n",
      "\u001b[36m(_dystack pid=166)\u001b[0m \tFitting 10 child models (S1F1 - S1F10) | Fitting with ParallelLocalFoldFittingStrategy (4 workers, per: cpus=1, gpus=0, memory=0.02%)\n"
     ]
    },
    {
     "name": "stdout",
     "output_type": "stream",
     "text": [
      "\u001b[33m(autoscaler +41m52s)\u001b[0m Warning: The following resource request cannot be scheduled right now: {'CPU': 1.0}. This is likely due to all cluster resources being claimed by actors. Consider creating fewer actors or adding more nodes to this Ray cluster.\n"
     ]
    },
    {
     "name": "stderr",
     "output_type": "stream",
     "text": [
      "\u001b[36m(_dystack pid=166)\u001b[0m \t0.8915\t = Validation score   (roc_auc)\n",
      "\u001b[36m(_dystack pid=166)\u001b[0m \t9.61s\t = Training   runtime\n",
      "\u001b[36m(_dystack pid=166)\u001b[0m \t0.07s\t = Validation runtime\n",
      "\u001b[36m(_dystack pid=166)\u001b[0m Fitting model: NeuralNetFastAI_r69_BAG_L1 ... Training model for up to 4082.48s of the 7382.77s of remaining time.\n",
      "\u001b[36m(_dystack pid=166)\u001b[0m \tFitting 10 child models (S1F1 - S1F10) | Fitting with ParallelLocalFoldFittingStrategy (4 workers, per: cpus=1, gpus=0, memory=0.01%)\n"
     ]
    },
    {
     "name": "stdout",
     "output_type": "stream",
     "text": [
      "\u001b[33m(autoscaler +42m27s)\u001b[0m Warning: The following resource request cannot be scheduled right now: {'CPU': 1.0}. This is likely due to all cluster resources being claimed by actors. Consider creating fewer actors or adding more nodes to this Ray cluster.\n"
     ]
    },
    {
     "name": "stderr",
     "output_type": "stream",
     "text": [
      "\u001b[36m(_dystack pid=166)\u001b[0m \t0.8957\t = Validation score   (roc_auc)\n",
      "\u001b[36m(_dystack pid=166)\u001b[0m \t35.69s\t = Training   runtime\n",
      "\u001b[36m(_dystack pid=166)\u001b[0m \t0.25s\t = Validation runtime\n",
      "\u001b[36m(_dystack pid=166)\u001b[0m Fitting model: CatBoost_r6_BAG_L1 ... Training model for up to 4043.47s of the 7343.76s of remaining time.\n",
      "\u001b[36m(_dystack pid=166)\u001b[0m \tFitting 10 child models (S1F1 - S1F10) | Fitting with ParallelLocalFoldFittingStrategy (4 workers, per: cpus=1, gpus=0, memory=0.01%)\n",
      "\u001b[36m(_dystack pid=166)\u001b[0m \t0.8962\t = Validation score   (roc_auc)\n",
      "\u001b[36m(_dystack pid=166)\u001b[0m \t15.3s\t = Training   runtime\n",
      "\u001b[36m(_dystack pid=166)\u001b[0m \t0.02s\t = Validation runtime\n",
      "\u001b[36m(_dystack pid=166)\u001b[0m Fitting model: NeuralNetFastAI_r138_BAG_L1 ... Training model for up to 4024.37s of the 7324.66s of remaining time.\n",
      "\u001b[36m(_dystack pid=166)\u001b[0m \tFitting 10 child models (S1F1 - S1F10) | Fitting with ParallelLocalFoldFittingStrategy (4 workers, per: cpus=1, gpus=0, memory=0.01%)\n"
     ]
    },
    {
     "name": "stdout",
     "output_type": "stream",
     "text": [
      "\u001b[33m(autoscaler +43m2s)\u001b[0m Warning: The following resource request cannot be scheduled right now: {'CPU': 1.0}. This is likely due to all cluster resources being claimed by actors. Consider creating fewer actors or adding more nodes to this Ray cluster.\n"
     ]
    },
    {
     "name": "stderr",
     "output_type": "stream",
     "text": [
      "\u001b[36m(_ray_fit pid=34179)\u001b[0m No improvement since epoch 16: early stopping\n"
     ]
    },
    {
     "name": "stdout",
     "output_type": "stream",
     "text": [
      "\u001b[33m(autoscaler +43m37s)\u001b[0m Warning: The following resource request cannot be scheduled right now: {'CPU': 1.0}. This is likely due to all cluster resources being claimed by actors. Consider creating fewer actors or adding more nodes to this Ray cluster.\n"
     ]
    },
    {
     "name": "stderr",
     "output_type": "stream",
     "text": [
      "\u001b[36m(_ray_fit pid=34394)\u001b[0m No improvement since epoch 17: early stopping\u001b[32m [repeated 3x across cluster]\u001b[0m\n",
      "\u001b[36m(_ray_fit pid=34552)\u001b[0m No improvement since epoch 15: early stopping\u001b[32m [repeated 4x across cluster]\u001b[0m\n",
      "\u001b[36m(_dystack pid=166)\u001b[0m \t0.8916\t = Validation score   (roc_auc)\n",
      "\u001b[36m(_dystack pid=166)\u001b[0m \t60.45s\t = Training   runtime\n",
      "\u001b[36m(_dystack pid=166)\u001b[0m \t0.24s\t = Validation runtime\n",
      "\u001b[36m(_dystack pid=166)\u001b[0m Fitting model: LightGBM_r121_BAG_L1 ... Training model for up to 3960.52s of the 7260.81s of remaining time.\n",
      "\u001b[36m(_dystack pid=166)\u001b[0m \tFitting 10 child models (S1F1 - S1F10) | Fitting with ParallelLocalFoldFittingStrategy (4 workers, per: cpus=1, gpus=0, memory=0.05%)\n"
     ]
    },
    {
     "name": "stdout",
     "output_type": "stream",
     "text": [
      "\u001b[33m(autoscaler +44m12s)\u001b[0m Warning: The following resource request cannot be scheduled right now: {'CPU': 1.0}. This is likely due to all cluster resources being claimed by actors. Consider creating fewer actors or adding more nodes to this Ray cluster.\n"
     ]
    },
    {
     "name": "stderr",
     "output_type": "stream",
     "text": [
      "\u001b[36m(_dystack pid=166)\u001b[0m \t0.8893\t = Validation score   (roc_auc)\n",
      "\u001b[36m(_dystack pid=166)\u001b[0m \t21.0s\t = Training   runtime\n",
      "\u001b[36m(_dystack pid=166)\u001b[0m \t0.11s\t = Validation runtime\n",
      "\u001b[36m(_dystack pid=166)\u001b[0m Fitting model: NeuralNetFastAI_r172_BAG_L1 ... Training model for up to 3936.06s of the 7236.35s of remaining time.\n",
      "\u001b[36m(_dystack pid=166)\u001b[0m \tFitting 10 child models (S1F1 - S1F10) | Fitting with ParallelLocalFoldFittingStrategy (4 workers, per: cpus=1, gpus=0, memory=0.01%)\n",
      "\u001b[36m(_ray_fit pid=34981)\u001b[0m No improvement since epoch 9: early stopping\n"
     ]
    },
    {
     "name": "stdout",
     "output_type": "stream",
     "text": [
      "\u001b[33m(autoscaler +44m47s)\u001b[0m Warning: The following resource request cannot be scheduled right now: {'CPU': 1.0}. This is likely due to all cluster resources being claimed by actors. Consider creating fewer actors or adding more nodes to this Ray cluster.\n"
     ]
    },
    {
     "name": "stderr",
     "output_type": "stream",
     "text": [
      "\u001b[36m(_ray_fit pid=35163)\u001b[0m No improvement since epoch 4: early stopping\u001b[32m [repeated 3x across cluster]\u001b[0m\n",
      "\u001b[36m(_dystack pid=166)\u001b[0m \t0.8917\t = Validation score   (roc_auc)\n",
      "\u001b[36m(_dystack pid=166)\u001b[0m \t28.16s\t = Training   runtime\n",
      "\u001b[36m(_dystack pid=166)\u001b[0m \t0.19s\t = Validation runtime\n",
      "\u001b[36m(_dystack pid=166)\u001b[0m Fitting model: CatBoost_r180_BAG_L1 ... Training model for up to 3904.37s of the 7204.65s of remaining time.\n",
      "\u001b[36m(_dystack pid=166)\u001b[0m \tFitting 10 child models (S1F1 - S1F10) | Fitting with ParallelLocalFoldFittingStrategy (4 workers, per: cpus=1, gpus=0, memory=0.03%)\n",
      "\u001b[36m(_ray_fit pid=35351)\u001b[0m No improvement since epoch 11: early stopping\n",
      "\u001b[36m(_dystack pid=166)\u001b[0m \t0.8966\t = Validation score   (roc_auc)\n",
      "\u001b[36m(_dystack pid=166)\u001b[0m \t31.42s\t = Training   runtime\n",
      "\u001b[36m(_dystack pid=166)\u001b[0m \t0.02s\t = Validation runtime\n",
      "\u001b[36m(_dystack pid=166)\u001b[0m Fitting model: NeuralNetTorch_r76_BAG_L1 ... Training model for up to 3869.27s of the 7169.55s of remaining time.\n",
      "\u001b[36m(_dystack pid=166)\u001b[0m \tFitting 10 child models (S1F1 - S1F10) | Fitting with ParallelLocalFoldFittingStrategy (4 workers, per: cpus=1, gpus=0, memory=0.00%)\n"
     ]
    },
    {
     "name": "stdout",
     "output_type": "stream",
     "text": [
      "\u001b[33m(autoscaler +45m32s)\u001b[0m Warning: The following resource request cannot be scheduled right now: {'CPU': 1.0}. This is likely due to all cluster resources being claimed by actors. Consider creating fewer actors or adding more nodes to this Ray cluster.\n"
     ]
    },
    {
     "name": "stderr",
     "output_type": "stream",
     "text": [
      "\u001b[36m(_dystack pid=166)\u001b[0m \t0.8953\t = Validation score   (roc_auc)\n",
      "\u001b[36m(_dystack pid=166)\u001b[0m \t29.56s\t = Training   runtime\n",
      "\u001b[36m(_dystack pid=166)\u001b[0m \t0.13s\t = Validation runtime\n",
      "\u001b[36m(_dystack pid=166)\u001b[0m Fitting model: ExtraTrees_r197_BAG_L1 ... Training model for up to 3836.31s of the 7136.60s of remaining time.\n",
      "\u001b[36m(_dystack pid=166)\u001b[0m \tForcing `use_child_oof=False` because `groups` is specified\n",
      "\u001b[36m(_dystack pid=166)\u001b[0m \tFitting 10 child models (S1F1 - S1F10) | Fitting with ParallelLocalFoldFittingStrategy (4 workers, per: cpus=1, gpus=0, memory=0.00%)\n"
     ]
    },
    {
     "name": "stdout",
     "output_type": "stream",
     "text": [
      "\u001b[33m(autoscaler +46m8s)\u001b[0m Warning: The following resource request cannot be scheduled right now: {'CPU': 1.0}. This is likely due to all cluster resources being claimed by actors. Consider creating fewer actors or adding more nodes to this Ray cluster.\n"
     ]
    },
    {
     "name": "stderr",
     "output_type": "stream",
     "text": [
      "\u001b[36m(_dystack pid=166)\u001b[0m \t0.8856\t = Validation score   (roc_auc)\n",
      "\u001b[36m(_dystack pid=166)\u001b[0m \t18.64s\t = Training   runtime\n",
      "\u001b[36m(_dystack pid=166)\u001b[0m \t1.09s\t = Validation runtime\n",
      "\u001b[36m(_dystack pid=166)\u001b[0m Fitting model: NeuralNetTorch_r121_BAG_L1 ... Training model for up to 3813.80s of the 7114.09s of remaining time.\n",
      "\u001b[36m(_dystack pid=166)\u001b[0m \tFitting 10 child models (S1F1 - S1F10) | Fitting with ParallelLocalFoldFittingStrategy (4 workers, per: cpus=1, gpus=0, memory=0.00%)\n"
     ]
    },
    {
     "name": "stdout",
     "output_type": "stream",
     "text": [
      "\u001b[33m(autoscaler +46m43s)\u001b[0m Warning: The following resource request cannot be scheduled right now: {'CPU': 1.0}. This is likely due to all cluster resources being claimed by actors. Consider creating fewer actors or adding more nodes to this Ray cluster.\n"
     ]
    },
    {
     "name": "stderr",
     "output_type": "stream",
     "text": [
      "\u001b[36m(_dystack pid=166)\u001b[0m \t0.888\t = Validation score   (roc_auc)\n",
      "\u001b[36m(_dystack pid=166)\u001b[0m \t50.48s\t = Training   runtime\n",
      "\u001b[36m(_dystack pid=166)\u001b[0m \t0.17s\t = Validation runtime\n",
      "\u001b[36m(_dystack pid=166)\u001b[0m Fitting model: NeuralNetFastAI_r127_BAG_L1 ... Training model for up to 3760.06s of the 7060.35s of remaining time.\n",
      "\u001b[36m(_dystack pid=166)\u001b[0m \tFitting 10 child models (S1F1 - S1F10) | Fitting with ParallelLocalFoldFittingStrategy (4 workers, per: cpus=1, gpus=0, memory=0.01%)\n"
     ]
    },
    {
     "name": "stdout",
     "output_type": "stream",
     "text": [
      "\u001b[33m(autoscaler +47m23s)\u001b[0m Warning: The following resource request cannot be scheduled right now: {'CPU': 1.0}. This is likely due to all cluster resources being claimed by actors. Consider creating fewer actors or adding more nodes to this Ray cluster.\n"
     ]
    },
    {
     "name": "stderr",
     "output_type": "stream",
     "text": [
      "\u001b[36m(_dystack pid=166)\u001b[0m \t0.891\t = Validation score   (roc_auc)\n",
      "\u001b[36m(_dystack pid=166)\u001b[0m \t25.35s\t = Training   runtime\n",
      "\u001b[36m(_dystack pid=166)\u001b[0m \t0.23s\t = Validation runtime\n",
      "\u001b[36m(_dystack pid=166)\u001b[0m Fitting model: RandomForest_r16_BAG_L1 ... Training model for up to 3730.86s of the 7031.15s of remaining time.\n",
      "\u001b[36m(_dystack pid=166)\u001b[0m \tForcing `use_child_oof=False` because `groups` is specified\n",
      "\u001b[36m(_dystack pid=166)\u001b[0m \tFitting 10 child models (S1F1 - S1F10) | Fitting with ParallelLocalFoldFittingStrategy (4 workers, per: cpus=1, gpus=0, memory=0.00%)\n"
     ]
    },
    {
     "name": "stdout",
     "output_type": "stream",
     "text": [
      "\u001b[33m(autoscaler +47m58s)\u001b[0m Warning: The following resource request cannot be scheduled right now: {'CPU': 1.0}. This is likely due to all cluster resources being claimed by actors. Consider creating fewer actors or adding more nodes to this Ray cluster.\n"
     ]
    },
    {
     "name": "stderr",
     "output_type": "stream",
     "text": [
      "\u001b[36m(_dystack pid=166)\u001b[0m \t0.8789\t = Validation score   (roc_auc)\n",
      "\u001b[36m(_dystack pid=166)\u001b[0m \t28.57s\t = Training   runtime\n",
      "\u001b[36m(_dystack pid=166)\u001b[0m \t1.1s\t = Validation runtime\n",
      "\u001b[36m(_dystack pid=166)\u001b[0m Fitting model: NeuralNetFastAI_r194_BAG_L1 ... Training model for up to 3698.63s of the 6998.91s of remaining time.\n",
      "\u001b[36m(_dystack pid=166)\u001b[0m \tFitting 10 child models (S1F1 - S1F10) | Fitting with ParallelLocalFoldFittingStrategy (4 workers, per: cpus=1, gpus=0, memory=0.01%)\n"
     ]
    },
    {
     "name": "stdout",
     "output_type": "stream",
     "text": [
      "\u001b[33m(autoscaler +48m33s)\u001b[0m Warning: The following resource request cannot be scheduled right now: {'CPU': 1.0}. This is likely due to all cluster resources being claimed by actors. Consider creating fewer actors or adding more nodes to this Ray cluster.\n"
     ]
    },
    {
     "name": "stderr",
     "output_type": "stream",
     "text": [
      "\u001b[36m(_dystack pid=166)\u001b[0m \t0.8934\t = Validation score   (roc_auc)\n",
      "\u001b[36m(_dystack pid=166)\u001b[0m \t31.14s\t = Training   runtime\n",
      "\u001b[36m(_dystack pid=166)\u001b[0m \t0.21s\t = Validation runtime\n",
      "\u001b[36m(_dystack pid=166)\u001b[0m Fitting model: CatBoost_r12_BAG_L1 ... Training model for up to 3663.99s of the 6964.28s of remaining time.\n",
      "\u001b[36m(_dystack pid=166)\u001b[0m \tFitting 10 child models (S1F1 - S1F10) | Fitting with ParallelLocalFoldFittingStrategy (4 workers, per: cpus=1, gpus=0, memory=0.03%)\n"
     ]
    },
    {
     "name": "stdout",
     "output_type": "stream",
     "text": [
      "\u001b[33m(autoscaler +49m8s)\u001b[0m Warning: The following resource request cannot be scheduled right now: {'CPU': 1.0}. This is likely due to all cluster resources being claimed by actors. Consider creating fewer actors or adding more nodes to this Ray cluster.\n"
     ]
    },
    {
     "name": "stderr",
     "output_type": "stream",
     "text": [
      "\u001b[36m(_dystack pid=166)\u001b[0m \t0.8961\t = Validation score   (roc_auc)\n",
      "\u001b[36m(_dystack pid=166)\u001b[0m \t21.41s\t = Training   runtime\n",
      "\u001b[36m(_dystack pid=166)\u001b[0m \t0.02s\t = Validation runtime\n",
      "\u001b[36m(_dystack pid=166)\u001b[0m Fitting model: NeuralNetTorch_r135_BAG_L1 ... Training model for up to 3638.87s of the 6939.15s of remaining time.\n",
      "\u001b[36m(_dystack pid=166)\u001b[0m \tFitting 10 child models (S1F1 - S1F10) | Fitting with ParallelLocalFoldFittingStrategy (4 workers, per: cpus=1, gpus=0, memory=0.00%)\n"
     ]
    },
    {
     "name": "stdout",
     "output_type": "stream",
     "text": [
      "\u001b[33m(autoscaler +49m43s)\u001b[0m Warning: The following resource request cannot be scheduled right now: {'CPU': 1.0}. This is likely due to all cluster resources being claimed by actors. Consider creating fewer actors or adding more nodes to this Ray cluster.\n"
     ]
    },
    {
     "name": "stderr",
     "output_type": "stream",
     "text": [
      "\u001b[36m(_dystack pid=166)\u001b[0m \t0.8954\t = Validation score   (roc_auc)\n",
      "\u001b[36m(_dystack pid=166)\u001b[0m \t49.98s\t = Training   runtime\n",
      "\u001b[36m(_dystack pid=166)\u001b[0m \t0.14s\t = Validation runtime\n",
      "\u001b[36m(_dystack pid=166)\u001b[0m Fitting model: NeuralNetFastAI_r4_BAG_L1 ... Training model for up to 3585.50s of the 6885.79s of remaining time.\n",
      "\u001b[36m(_dystack pid=166)\u001b[0m \tFitting 10 child models (S1F1 - S1F10) | Fitting with ParallelLocalFoldFittingStrategy (4 workers, per: cpus=1, gpus=0, memory=0.01%)\n"
     ]
    },
    {
     "name": "stdout",
     "output_type": "stream",
     "text": [
      "\u001b[33m(autoscaler +50m18s)\u001b[0m Warning: The following resource request cannot be scheduled right now: {'CPU': 1.0}. This is likely due to all cluster resources being claimed by actors. Consider creating fewer actors or adding more nodes to this Ray cluster.\n"
     ]
    },
    {
     "name": "stderr",
     "output_type": "stream",
     "text": [
      "\u001b[36m(_ray_fit pid=39376)\u001b[0m No improvement since epoch 17: early stopping\n",
      "\u001b[36m(_ray_fit pid=39562)\u001b[0m No improvement since epoch 11: early stopping\u001b[32m [repeated 2x across cluster]\u001b[0m\n",
      "\u001b[36m(_dystack pid=166)\u001b[0m \t0.8959\t = Validation score   (roc_auc)\n",
      "\u001b[36m(_dystack pid=166)\u001b[0m \t31.28s\t = Training   runtime\n",
      "\u001b[36m(_dystack pid=166)\u001b[0m \t0.18s\t = Validation runtime\n",
      "\u001b[36m(_dystack pid=166)\u001b[0m Fitting model: ExtraTrees_r126_BAG_L1 ... Training model for up to 3550.73s of the 6851.02s of remaining time.\n",
      "\u001b[36m(_dystack pid=166)\u001b[0m \tForcing `use_child_oof=False` because `groups` is specified\n",
      "\u001b[36m(_dystack pid=166)\u001b[0m \tFitting 10 child models (S1F1 - S1F10) | Fitting with ParallelLocalFoldFittingStrategy (4 workers, per: cpus=1, gpus=0, memory=0.00%)\n"
     ]
    },
    {
     "name": "stdout",
     "output_type": "stream",
     "text": [
      "\u001b[33m(autoscaler +50m53s)\u001b[0m Warning: The following resource request cannot be scheduled right now: {'CPU': 1.0}. This is likely due to all cluster resources being claimed by actors. Consider creating fewer actors or adding more nodes to this Ray cluster.\n"
     ]
    },
    {
     "name": "stderr",
     "output_type": "stream",
     "text": [
      "\u001b[36m(_dystack pid=166)\u001b[0m \t0.8901\t = Validation score   (roc_auc)\n",
      "\u001b[36m(_dystack pid=166)\u001b[0m \t15.74s\t = Training   runtime\n",
      "\u001b[36m(_dystack pid=166)\u001b[0m \t1.08s\t = Validation runtime\n",
      "\u001b[36m(_dystack pid=166)\u001b[0m Fitting model: NeuralNetTorch_r36_BAG_L1 ... Training model for up to 3531.33s of the 6831.62s of remaining time.\n",
      "\u001b[36m(_dystack pid=166)\u001b[0m \tFitting 10 child models (S1F1 - S1F10) | Fitting with ParallelLocalFoldFittingStrategy (4 workers, per: cpus=1, gpus=0, memory=0.00%)\n"
     ]
    },
    {
     "name": "stdout",
     "output_type": "stream",
     "text": [
      "\u001b[33m(autoscaler +51m28s)\u001b[0m Warning: The following resource request cannot be scheduled right now: {'CPU': 1.0}. This is likely due to all cluster resources being claimed by actors. Consider creating fewer actors or adding more nodes to this Ray cluster.\n"
     ]
    },
    {
     "name": "stderr",
     "output_type": "stream",
     "text": [
      "\u001b[36m(_dystack pid=166)\u001b[0m \t0.8956\t = Validation score   (roc_auc)\n",
      "\u001b[36m(_dystack pid=166)\u001b[0m \t44.94s\t = Training   runtime\n",
      "\u001b[36m(_dystack pid=166)\u001b[0m \t0.13s\t = Validation runtime\n",
      "\u001b[36m(_dystack pid=166)\u001b[0m Fitting model: NeuralNetFastAI_r100_BAG_L1 ... Training model for up to 3483.20s of the 6783.49s of remaining time.\n",
      "\u001b[36m(_dystack pid=166)\u001b[0m \tFitting 10 child models (S1F1 - S1F10) | Fitting with ParallelLocalFoldFittingStrategy (4 workers, per: cpus=1, gpus=0, memory=0.01%)\n"
     ]
    },
    {
     "name": "stdout",
     "output_type": "stream",
     "text": [
      "\u001b[33m(autoscaler +52m4s)\u001b[0m Warning: The following resource request cannot be scheduled right now: {'CPU': 1.0}. This is likely due to all cluster resources being claimed by actors. Consider creating fewer actors or adding more nodes to this Ray cluster.\n",
      "\u001b[33m(autoscaler +52m39s)\u001b[0m Warning: The following resource request cannot be scheduled right now: {'CPU': 1.0}. This is likely due to all cluster resources being claimed by actors. Consider creating fewer actors or adding more nodes to this Ray cluster.\n"
     ]
    },
    {
     "name": "stderr",
     "output_type": "stream",
     "text": [
      "\u001b[36m(_ray_fit pid=40497)\u001b[0m No improvement since epoch 9: early stopping\n",
      "\u001b[36m(_ray_fit pid=40494)\u001b[0m No improvement since epoch 14: early stopping\u001b[32m [repeated 2x across cluster]\u001b[0m\n"
     ]
    },
    {
     "name": "stdout",
     "output_type": "stream",
     "text": [
      "\u001b[33m(autoscaler +53m14s)\u001b[0m Warning: The following resource request cannot be scheduled right now: {'CPU': 1.0}. This is likely due to all cluster resources being claimed by actors. Consider creating fewer actors or adding more nodes to this Ray cluster.\n"
     ]
    },
    {
     "name": "stderr",
     "output_type": "stream",
     "text": [
      "\u001b[36m(_ray_fit pid=40742)\u001b[0m No improvement since epoch 7: early stopping\n",
      "\u001b[36m(_ray_fit pid=40709)\u001b[0m No improvement since epoch 13: early stopping\n",
      "\u001b[36m(_ray_fit pid=40775)\u001b[0m No improvement since epoch 10: early stopping\u001b[32m [repeated 2x across cluster]\u001b[0m\n",
      "\u001b[36m(_dystack pid=166)\u001b[0m \t0.8855\t = Validation score   (roc_auc)\n",
      "\u001b[36m(_dystack pid=166)\u001b[0m \t121.6s\t = Training   runtime\n",
      "\u001b[36m(_dystack pid=166)\u001b[0m \t0.5s\t = Validation runtime\n",
      "\u001b[36m(_dystack pid=166)\u001b[0m Fitting model: CatBoost_r163_BAG_L1 ... Training model for up to 3358.21s of the 6658.50s of remaining time.\n",
      "\u001b[36m(_dystack pid=166)\u001b[0m \tFitting 10 child models (S1F1 - S1F10) | Fitting with ParallelLocalFoldFittingStrategy (4 workers, per: cpus=1, gpus=0, memory=0.01%)\n"
     ]
    },
    {
     "name": "stdout",
     "output_type": "stream",
     "text": [
      "\u001b[33m(autoscaler +54m4s)\u001b[0m Warning: The following resource request cannot be scheduled right now: {'CPU': 1.0}. This is likely due to all cluster resources being claimed by actors. Consider creating fewer actors or adding more nodes to this Ray cluster.\n"
     ]
    },
    {
     "name": "stderr",
     "output_type": "stream",
     "text": [
      "\u001b[36m(_dystack pid=166)\u001b[0m \t0.8977\t = Validation score   (roc_auc)\n",
      "\u001b[36m(_dystack pid=166)\u001b[0m \t14.24s\t = Training   runtime\n",
      "\u001b[36m(_dystack pid=166)\u001b[0m \t0.02s\t = Validation runtime\n",
      "\u001b[36m(_dystack pid=166)\u001b[0m Fitting model: CatBoost_r198_BAG_L1 ... Training model for up to 3340.46s of the 6640.75s of remaining time.\n",
      "\u001b[36m(_dystack pid=166)\u001b[0m \tFitting 10 child models (S1F1 - S1F10) | Fitting with ParallelLocalFoldFittingStrategy (4 workers, per: cpus=1, gpus=0, memory=0.02%)\n",
      "\u001b[36m(_dystack pid=166)\u001b[0m \t0.8966\t = Validation score   (roc_auc)\n",
      "\u001b[36m(_dystack pid=166)\u001b[0m \t16.62s\t = Training   runtime\n",
      "\u001b[36m(_dystack pid=166)\u001b[0m \t0.02s\t = Validation runtime\n",
      "\u001b[36m(_dystack pid=166)\u001b[0m Fitting model: NeuralNetFastAI_r187_BAG_L1 ... Training model for up to 3320.38s of the 6620.67s of remaining time.\n",
      "\u001b[36m(_dystack pid=166)\u001b[0m \tFitting 10 child models (S1F1 - S1F10) | Fitting with ParallelLocalFoldFittingStrategy (4 workers, per: cpus=1, gpus=0, memory=0.01%)\n"
     ]
    },
    {
     "name": "stdout",
     "output_type": "stream",
     "text": [
      "\u001b[33m(autoscaler +54m44s)\u001b[0m Warning: The following resource request cannot be scheduled right now: {'CPU': 1.0}. This is likely due to all cluster resources being claimed by actors. Consider creating fewer actors or adding more nodes to this Ray cluster.\n"
     ]
    },
    {
     "name": "stderr",
     "output_type": "stream",
     "text": [
      "\u001b[36m(_dystack pid=166)\u001b[0m \t0.89\t = Validation score   (roc_auc)\n",
      "\u001b[36m(_dystack pid=166)\u001b[0m \t28.01s\t = Training   runtime\n",
      "\u001b[36m(_dystack pid=166)\u001b[0m \t0.18s\t = Validation runtime\n",
      "\u001b[36m(_dystack pid=166)\u001b[0m Fitting model: NeuralNetTorch_r19_BAG_L1 ... Training model for up to 3288.97s of the 6589.26s of remaining time.\n",
      "\u001b[36m(_dystack pid=166)\u001b[0m \tFitting 10 child models (S1F1 - S1F10) | Fitting with ParallelLocalFoldFittingStrategy (4 workers, per: cpus=1, gpus=0, memory=0.00%)\n"
     ]
    },
    {
     "name": "stdout",
     "output_type": "stream",
     "text": [
      "\u001b[33m(autoscaler +55m19s)\u001b[0m Warning: The following resource request cannot be scheduled right now: {'CPU': 1.0}. This is likely due to all cluster resources being claimed by actors. Consider creating fewer actors or adding more nodes to this Ray cluster.\n"
     ]
    },
    {
     "name": "stderr",
     "output_type": "stream",
     "text": [
      "\u001b[36m(_dystack pid=166)\u001b[0m \t0.8941\t = Validation score   (roc_auc)\n",
      "\u001b[36m(_dystack pid=166)\u001b[0m \t29.37s\t = Training   runtime\n",
      "\u001b[36m(_dystack pid=166)\u001b[0m \t0.11s\t = Validation runtime\n",
      "\u001b[36m(_dystack pid=166)\u001b[0m Fitting model: XGBoost_r95_BAG_L1 ... Training model for up to 3256.04s of the 6556.33s of remaining time.\n",
      "\u001b[36m(_dystack pid=166)\u001b[0m \tFitting 10 child models (S1F1 - S1F10) | Fitting with ParallelLocalFoldFittingStrategy (4 workers, per: cpus=1, gpus=0, memory=0.02%)\n"
     ]
    },
    {
     "name": "stdout",
     "output_type": "stream",
     "text": [
      "\u001b[33m(autoscaler +55m54s)\u001b[0m Warning: The following resource request cannot be scheduled right now: {'CPU': 1.0}. This is likely due to all cluster resources being claimed by actors. Consider creating fewer actors or adding more nodes to this Ray cluster.\n"
     ]
    },
    {
     "name": "stderr",
     "output_type": "stream",
     "text": [
      "\u001b[36m(_dystack pid=166)\u001b[0m \t0.892\t = Validation score   (roc_auc)\n",
      "\u001b[36m(_dystack pid=166)\u001b[0m \t10.41s\t = Training   runtime\n",
      "\u001b[36m(_dystack pid=166)\u001b[0m \t0.08s\t = Validation runtime\n",
      "\u001b[36m(_dystack pid=166)\u001b[0m Fitting model: XGBoost_r34_BAG_L1 ... Training model for up to 3242.22s of the 6542.51s of remaining time.\n",
      "\u001b[36m(_dystack pid=166)\u001b[0m \tFitting 10 child models (S1F1 - S1F10) | Fitting with ParallelLocalFoldFittingStrategy (4 workers, per: cpus=1, gpus=0, memory=0.11%)\n",
      "\u001b[36m(_dystack pid=166)\u001b[0m \t0.8907\t = Validation score   (roc_auc)\n",
      "\u001b[36m(_dystack pid=166)\u001b[0m \t11.39s\t = Training   runtime\n",
      "\u001b[36m(_dystack pid=166)\u001b[0m \t0.09s\t = Validation runtime\n",
      "\u001b[36m(_dystack pid=166)\u001b[0m Fitting model: LightGBM_r42_BAG_L1 ... Training model for up to 3227.54s of the 6527.82s of remaining time.\n",
      "\u001b[36m(_dystack pid=166)\u001b[0m \tFitting 10 child models (S1F1 - S1F10) | Fitting with ParallelLocalFoldFittingStrategy (4 workers, per: cpus=1, gpus=0, memory=0.05%)\n",
      "\u001b[36m(_dystack pid=166)\u001b[0m \t0.8972\t = Validation score   (roc_auc)\n",
      "\u001b[36m(_dystack pid=166)\u001b[0m \t15.17s\t = Training   runtime\n",
      "\u001b[36m(_dystack pid=166)\u001b[0m \t0.06s\t = Validation runtime\n",
      "\u001b[36m(_dystack pid=166)\u001b[0m Fitting model: NeuralNetTorch_r1_BAG_L1 ... Training model for up to 3208.98s of the 6509.27s of remaining time.\n",
      "\u001b[36m(_dystack pid=166)\u001b[0m \tFitting 10 child models (S1F1 - S1F10) | Fitting with ParallelLocalFoldFittingStrategy (4 workers, per: cpus=1, gpus=0, memory=0.00%)\n"
     ]
    },
    {
     "name": "stdout",
     "output_type": "stream",
     "text": [
      "\u001b[33m(autoscaler +56m34s)\u001b[0m Warning: The following resource request cannot be scheduled right now: {'CPU': 1.0}. This is likely due to all cluster resources being claimed by actors. Consider creating fewer actors or adding more nodes to this Ray cluster.\n"
     ]
    },
    {
     "name": "stderr",
     "output_type": "stream",
     "text": [
      "\u001b[36m(_dystack pid=166)\u001b[0m \t0.8903\t = Validation score   (roc_auc)\n",
      "\u001b[36m(_dystack pid=166)\u001b[0m \t41.24s\t = Training   runtime\n",
      "\u001b[36m(_dystack pid=166)\u001b[0m \t0.14s\t = Validation runtime\n",
      "\u001b[36m(_dystack pid=166)\u001b[0m Fitting model: NeuralNetTorch_r89_BAG_L1 ... Training model for up to 3164.41s of the 6464.70s of remaining time.\n",
      "\u001b[36m(_dystack pid=166)\u001b[0m \tFitting 10 child models (S1F1 - S1F10) | Fitting with ParallelLocalFoldFittingStrategy (4 workers, per: cpus=1, gpus=0, memory=0.00%)\n"
     ]
    },
    {
     "name": "stdout",
     "output_type": "stream",
     "text": [
      "\u001b[33m(autoscaler +57m19s)\u001b[0m Warning: The following resource request cannot be scheduled right now: {'CPU': 1.0}. This is likely due to all cluster resources being claimed by actors. Consider creating fewer actors or adding more nodes to this Ray cluster.\n"
     ]
    },
    {
     "name": "stderr",
     "output_type": "stream",
     "text": [
      "\u001b[36m(_dystack pid=166)\u001b[0m \t0.8935\t = Validation score   (roc_auc)\n",
      "\u001b[36m(_dystack pid=166)\u001b[0m \t46.54s\t = Training   runtime\n",
      "\u001b[36m(_dystack pid=166)\u001b[0m \t0.17s\t = Validation runtime\n",
      "\u001b[36m(_dystack pid=166)\u001b[0m Fitting model: WeightedEnsemble_L2 ... Training model for up to 659.56s of the 6414.89s of remaining time.\n",
      "\u001b[36m(_dystack pid=166)\u001b[0m \tEnsemble Weights: {'CatBoost_r50_BAG_L1': 0.4, 'NeuralNetFastAI_r11_BAG_L1': 0.28, 'NeuralNetTorch_r197_BAG_L1': 0.12, 'KNeighborsDist_BAG_L1': 0.04, 'NeuralNetFastAI_r102_BAG_L1': 0.04, 'XGBoost_r89_BAG_L1': 0.04, 'CatBoost_r69_BAG_L1': 0.04, 'NeuralNetTorch_r14_BAG_L1': 0.04}\n",
      "\u001b[36m(_dystack pid=166)\u001b[0m \t0.9061\t = Validation score   (roc_auc)\n",
      "\u001b[36m(_dystack pid=166)\u001b[0m \t0.22s\t = Training   runtime\n",
      "\u001b[36m(_dystack pid=166)\u001b[0m \t0.0s\t = Validation runtime\n",
      "\u001b[36m(_dystack pid=166)\u001b[0m Fitting 108 L2 models, fit_strategy=\"sequential\" ...\n",
      "\u001b[36m(_dystack pid=166)\u001b[0m Fitting model: LightGBMXT_BAG_L2 ... Training model for up to 6414.65s of the 6414.17s of remaining time.\n",
      "\u001b[36m(_dystack pid=166)\u001b[0m \tFitting 10 child models (S1F1 - S1F10) | Fitting with ParallelLocalFoldFittingStrategy (4 workers, per: cpus=1, gpus=0, memory=0.09%)\n"
     ]
    },
    {
     "name": "stdout",
     "output_type": "stream",
     "text": [
      "\u001b[33m(autoscaler +58m10s)\u001b[0m Warning: The following resource request cannot be scheduled right now: {'CPU': 1.0}. This is likely due to all cluster resources being claimed by actors. Consider creating fewer actors or adding more nodes to this Ray cluster.\n"
     ]
    },
    {
     "name": "stderr",
     "output_type": "stream",
     "text": [
      "\u001b[36m(_dystack pid=166)\u001b[0m \t0.9033\t = Validation score   (roc_auc)\n",
      "\u001b[36m(_dystack pid=166)\u001b[0m \t15.05s\t = Training   runtime\n",
      "\u001b[36m(_dystack pid=166)\u001b[0m \t0.06s\t = Validation runtime\n",
      "\u001b[36m(_dystack pid=166)\u001b[0m Fitting model: LightGBM_BAG_L2 ... Training model for up to 6395.97s of the 6395.49s of remaining time.\n",
      "\u001b[36m(_dystack pid=166)\u001b[0m \tFitting 10 child models (S1F1 - S1F10) | Fitting with ParallelLocalFoldFittingStrategy (4 workers, per: cpus=1, gpus=0, memory=0.09%)\n",
      "\u001b[36m(_dystack pid=166)\u001b[0m \t0.8992\t = Validation score   (roc_auc)\n",
      "\u001b[36m(_dystack pid=166)\u001b[0m \t17.14s\t = Training   runtime\n",
      "\u001b[36m(_dystack pid=166)\u001b[0m \t0.1s\t = Validation runtime\n",
      "\u001b[36m(_dystack pid=166)\u001b[0m Fitting model: RandomForestGini_BAG_L2 ... Training model for up to 6375.39s of the 6374.91s of remaining time.\n",
      "\u001b[36m(_dystack pid=166)\u001b[0m \tForcing `use_child_oof=False` because `groups` is specified\n",
      "\u001b[36m(_dystack pid=166)\u001b[0m \tFitting 10 child models (S1F1 - S1F10) | Fitting with ParallelLocalFoldFittingStrategy (4 workers, per: cpus=1, gpus=0, memory=0.01%)\n"
     ]
    },
    {
     "name": "stdout",
     "output_type": "stream",
     "text": [
      "\u001b[33m(autoscaler +58m50s)\u001b[0m Warning: The following resource request cannot be scheduled right now: {'CPU': 1.0}. This is likely due to all cluster resources being claimed by actors. Consider creating fewer actors or adding more nodes to this Ray cluster.\n"
     ]
    },
    {
     "name": "stderr",
     "output_type": "stream",
     "text": [
      "\u001b[36m(_dystack pid=166)\u001b[0m \t0.8974\t = Validation score   (roc_auc)\n",
      "\u001b[36m(_dystack pid=166)\u001b[0m \t16.8s\t = Training   runtime\n",
      "\u001b[36m(_dystack pid=166)\u001b[0m \t1.01s\t = Validation runtime\n",
      "\u001b[36m(_dystack pid=166)\u001b[0m Fitting model: RandomForestEntr_BAG_L2 ... Training model for up to 6355.12s of the 6354.64s of remaining time.\n",
      "\u001b[36m(_dystack pid=166)\u001b[0m \tForcing `use_child_oof=False` because `groups` is specified\n",
      "\u001b[36m(_dystack pid=166)\u001b[0m \tFitting 10 child models (S1F1 - S1F10) | Fitting with ParallelLocalFoldFittingStrategy (4 workers, per: cpus=1, gpus=0, memory=0.01%)\n",
      "\u001b[36m(_dystack pid=166)\u001b[0m \t0.9009\t = Validation score   (roc_auc)\n",
      "\u001b[36m(_dystack pid=166)\u001b[0m \t18.6s\t = Training   runtime\n",
      "\u001b[36m(_dystack pid=166)\u001b[0m \t1.19s\t = Validation runtime\n",
      "\u001b[36m(_dystack pid=166)\u001b[0m Fitting model: CatBoost_BAG_L2 ... Training model for up to 6333.18s of the 6332.71s of remaining time.\n",
      "\u001b[36m(_dystack pid=166)\u001b[0m \tFitting 10 child models (S1F1 - S1F10) | Fitting with ParallelLocalFoldFittingStrategy (4 workers, per: cpus=1, gpus=0, memory=0.17%)\n"
     ]
    },
    {
     "name": "stdout",
     "output_type": "stream",
     "text": [
      "\u001b[33m(autoscaler +59m30s)\u001b[0m Warning: The following resource request cannot be scheduled right now: {'CPU': 1.0}. This is likely due to all cluster resources being claimed by actors. Consider creating fewer actors or adding more nodes to this Ray cluster.\n"
     ]
    },
    {
     "name": "stderr",
     "output_type": "stream",
     "text": [
      "\u001b[36m(_dystack pid=166)\u001b[0m \t0.9051\t = Validation score   (roc_auc)\n",
      "\u001b[36m(_dystack pid=166)\u001b[0m \t23.03s\t = Training   runtime\n",
      "\u001b[36m(_dystack pid=166)\u001b[0m \t0.05s\t = Validation runtime\n",
      "\u001b[36m(_dystack pid=166)\u001b[0m Fitting model: ExtraTreesGini_BAG_L2 ... Training model for up to 6307.12s of the 6306.64s of remaining time.\n",
      "\u001b[36m(_dystack pid=166)\u001b[0m \tForcing `use_child_oof=False` because `groups` is specified\n",
      "\u001b[36m(_dystack pid=166)\u001b[0m \tFitting 10 child models (S1F1 - S1F10) | Fitting with ParallelLocalFoldFittingStrategy (4 workers, per: cpus=1, gpus=0, memory=0.01%)\n"
     ]
    },
    {
     "name": "stdout",
     "output_type": "stream",
     "text": [
      "\u001b[33m(autoscaler +1h5s)\u001b[0m Warning: The following resource request cannot be scheduled right now: {'CPU': 1.0}. This is likely due to all cluster resources being claimed by actors. Consider creating fewer actors or adding more nodes to this Ray cluster.\n"
     ]
    },
    {
     "name": "stderr",
     "output_type": "stream",
     "text": [
      "\u001b[36m(_dystack pid=166)\u001b[0m \t0.9007\t = Validation score   (roc_auc)\n",
      "\u001b[36m(_dystack pid=166)\u001b[0m \t12.45s\t = Training   runtime\n",
      "\u001b[36m(_dystack pid=166)\u001b[0m \t1.03s\t = Validation runtime\n",
      "\u001b[36m(_dystack pid=166)\u001b[0m Fitting model: ExtraTreesEntr_BAG_L2 ... Training model for up to 6291.33s of the 6290.86s of remaining time.\n",
      "\u001b[36m(_dystack pid=166)\u001b[0m \tForcing `use_child_oof=False` because `groups` is specified\n",
      "\u001b[36m(_dystack pid=166)\u001b[0m \tFitting 10 child models (S1F1 - S1F10) | Fitting with ParallelLocalFoldFittingStrategy (4 workers, per: cpus=1, gpus=0, memory=0.01%)\n",
      "\u001b[36m(_dystack pid=166)\u001b[0m \t0.9028\t = Validation score   (roc_auc)\n",
      "\u001b[36m(_dystack pid=166)\u001b[0m \t13.25s\t = Training   runtime\n",
      "\u001b[36m(_dystack pid=166)\u001b[0m \t1.03s\t = Validation runtime\n",
      "\u001b[36m(_dystack pid=166)\u001b[0m Fitting model: NeuralNetFastAI_BAG_L2 ... Training model for up to 6274.67s of the 6274.20s of remaining time.\n",
      "\u001b[36m(_dystack pid=166)\u001b[0m \tFitting 10 child models (S1F1 - S1F10) | Fitting with ParallelLocalFoldFittingStrategy (4 workers, per: cpus=1, gpus=0, memory=0.04%)\n",
      "\u001b[36m(_ray_fit pid=47218)\u001b[0m No improvement since epoch 9: early stopping\n"
     ]
    },
    {
     "name": "stdout",
     "output_type": "stream",
     "text": [
      "\u001b[33m(autoscaler +1h40s)\u001b[0m Warning: The following resource request cannot be scheduled right now: {'CPU': 1.0}. This is likely due to all cluster resources being claimed by actors. Consider creating fewer actors or adding more nodes to this Ray cluster.\n"
     ]
    },
    {
     "name": "stderr",
     "output_type": "stream",
     "text": [
      "\u001b[36m(_ray_fit pid=47405)\u001b[0m No improvement since epoch 7: early stopping\n",
      "\u001b[36m(_ray_fit pid=47401)\u001b[0m No improvement since epoch 8: early stopping\n",
      "\u001b[36m(_dystack pid=166)\u001b[0m \t0.8965\t = Validation score   (roc_auc)\n",
      "\u001b[36m(_dystack pid=166)\u001b[0m \t30.18s\t = Training   runtime\n",
      "\u001b[36m(_dystack pid=166)\u001b[0m \t0.22s\t = Validation runtime\n",
      "\u001b[36m(_dystack pid=166)\u001b[0m Fitting model: XGBoost_BAG_L2 ... Training model for up to 6241.29s of the 6240.82s of remaining time.\n",
      "\u001b[36m(_dystack pid=166)\u001b[0m \tFitting 10 child models (S1F1 - S1F10) | Fitting with ParallelLocalFoldFittingStrategy (4 workers, per: cpus=1, gpus=0, memory=0.18%)\n",
      "\u001b[36m(_dystack pid=166)\u001b[0m \t0.9002\t = Validation score   (roc_auc)\n",
      "\u001b[36m(_dystack pid=166)\u001b[0m \t11.87s\t = Training   runtime\n",
      "\u001b[36m(_dystack pid=166)\u001b[0m \t0.09s\t = Validation runtime\n",
      "\u001b[36m(_dystack pid=166)\u001b[0m Fitting model: NeuralNetTorch_BAG_L2 ... Training model for up to 6225.98s of the 6225.50s of remaining time.\n",
      "\u001b[36m(_dystack pid=166)\u001b[0m \tFitting 10 child models (S1F1 - S1F10) | Fitting with ParallelLocalFoldFittingStrategy (4 workers, per: cpus=1, gpus=0, memory=0.02%)\n"
     ]
    },
    {
     "name": "stdout",
     "output_type": "stream",
     "text": [
      "\u001b[33m(autoscaler +1h1m20s)\u001b[0m Warning: The following resource request cannot be scheduled right now: {'CPU': 1.0}. This is likely due to all cluster resources being claimed by actors. Consider creating fewer actors or adding more nodes to this Ray cluster.\n"
     ]
    },
    {
     "name": "stderr",
     "output_type": "stream",
     "text": [
      "\u001b[36m(_dystack pid=166)\u001b[0m \t0.9026\t = Validation score   (roc_auc)\n",
      "\u001b[36m(_dystack pid=166)\u001b[0m \t41.21s\t = Training   runtime\n",
      "\u001b[36m(_dystack pid=166)\u001b[0m \t0.34s\t = Validation runtime\n",
      "\u001b[36m(_dystack pid=166)\u001b[0m Fitting model: LightGBMLarge_BAG_L2 ... Training model for up to 6181.35s of the 6180.87s of remaining time.\n",
      "\u001b[36m(_dystack pid=166)\u001b[0m \tFitting 10 child models (S1F1 - S1F10) | Fitting with ParallelLocalFoldFittingStrategy (4 workers, per: cpus=1, gpus=0, memory=0.32%)\n"
     ]
    },
    {
     "name": "stdout",
     "output_type": "stream",
     "text": [
      "\u001b[33m(autoscaler +1h2m0s)\u001b[0m Warning: The following resource request cannot be scheduled right now: {'CPU': 1.0}. This is likely due to all cluster resources being claimed by actors. Consider creating fewer actors or adding more nodes to this Ray cluster.\n"
     ]
    },
    {
     "name": "stderr",
     "output_type": "stream",
     "text": [
      "\u001b[36m(_dystack pid=166)\u001b[0m \t0.8803\t = Validation score   (roc_auc)\n",
      "\u001b[36m(_dystack pid=166)\u001b[0m \t23.62s\t = Training   runtime\n",
      "\u001b[36m(_dystack pid=166)\u001b[0m \t0.06s\t = Validation runtime\n",
      "\u001b[36m(_dystack pid=166)\u001b[0m Fitting model: CatBoost_r177_BAG_L2 ... Training model for up to 6154.38s of the 6153.90s of remaining time.\n",
      "\u001b[36m(_dystack pid=166)\u001b[0m \tFitting 10 child models (S1F1 - S1F10) | Fitting with ParallelLocalFoldFittingStrategy (4 workers, per: cpus=1, gpus=0, memory=0.17%)\n"
     ]
    },
    {
     "name": "stdout",
     "output_type": "stream",
     "text": [
      "\u001b[33m(autoscaler +1h2m35s)\u001b[0m Warning: The following resource request cannot be scheduled right now: {'CPU': 1.0}. This is likely due to all cluster resources being claimed by actors. Consider creating fewer actors or adding more nodes to this Ray cluster.\n"
     ]
    },
    {
     "name": "stderr",
     "output_type": "stream",
     "text": [
      "\u001b[36m(_dystack pid=166)\u001b[0m \t0.9034\t = Validation score   (roc_auc)\n",
      "\u001b[36m(_dystack pid=166)\u001b[0m \t22.29s\t = Training   runtime\n",
      "\u001b[36m(_dystack pid=166)\u001b[0m \t0.06s\t = Validation runtime\n",
      "\u001b[36m(_dystack pid=166)\u001b[0m Fitting model: NeuralNetTorch_r79_BAG_L2 ... Training model for up to 6128.41s of the 6127.94s of remaining time.\n",
      "\u001b[36m(_dystack pid=166)\u001b[0m \tFitting 10 child models (S1F1 - S1F10) | Fitting with ParallelLocalFoldFittingStrategy (4 workers, per: cpus=1, gpus=0, memory=0.02%)\n"
     ]
    },
    {
     "name": "stdout",
     "output_type": "stream",
     "text": [
      "\u001b[33m(autoscaler +1h3m10s)\u001b[0m Warning: The following resource request cannot be scheduled right now: {'CPU': 1.0}. This is likely due to all cluster resources being claimed by actors. Consider creating fewer actors or adding more nodes to this Ray cluster.\n"
     ]
    },
    {
     "name": "stderr",
     "output_type": "stream",
     "text": [
      "\u001b[36m(_dystack pid=166)\u001b[0m \t0.906\t = Validation score   (roc_auc)\n",
      "\u001b[36m(_dystack pid=166)\u001b[0m \t54.39s\t = Training   runtime\n",
      "\u001b[36m(_dystack pid=166)\u001b[0m \t0.34s\t = Validation runtime\n",
      "\u001b[36m(_dystack pid=166)\u001b[0m Fitting model: LightGBM_r131_BAG_L2 ... Training model for up to 6070.68s of the 6070.21s of remaining time.\n",
      "\u001b[36m(_dystack pid=166)\u001b[0m \tFitting 10 child models (S1F1 - S1F10) | Fitting with ParallelLocalFoldFittingStrategy (4 workers, per: cpus=1, gpus=0, memory=0.15%)\n"
     ]
    },
    {
     "name": "stdout",
     "output_type": "stream",
     "text": [
      "\u001b[33m(autoscaler +1h3m55s)\u001b[0m Warning: The following resource request cannot be scheduled right now: {'CPU': 1.0}. This is likely due to all cluster resources being claimed by actors. Consider creating fewer actors or adding more nodes to this Ray cluster.\n"
     ]
    },
    {
     "name": "stderr",
     "output_type": "stream",
     "text": [
      "\u001b[36m(_dystack pid=166)\u001b[0m \t0.9011\t = Validation score   (roc_auc)\n",
      "\u001b[36m(_dystack pid=166)\u001b[0m \t19.21s\t = Training   runtime\n",
      "\u001b[36m(_dystack pid=166)\u001b[0m \t0.13s\t = Validation runtime\n",
      "\u001b[36m(_dystack pid=166)\u001b[0m Fitting model: NeuralNetFastAI_r191_BAG_L2 ... Training model for up to 6048.15s of the 6047.67s of remaining time.\n",
      "\u001b[36m(_dystack pid=166)\u001b[0m \tFitting 10 child models (S1F1 - S1F10) | Fitting with ParallelLocalFoldFittingStrategy (4 workers, per: cpus=1, gpus=0, memory=0.04%)\n",
      "\u001b[36m(_ray_fit pid=49812)\u001b[0m No improvement since epoch 14: early stopping\n"
     ]
    },
    {
     "name": "stdout",
     "output_type": "stream",
     "text": [
      "\u001b[33m(autoscaler +1h4m30s)\u001b[0m Warning: The following resource request cannot be scheduled right now: {'CPU': 1.0}. This is likely due to all cluster resources being claimed by actors. Consider creating fewer actors or adding more nodes to this Ray cluster.\n"
     ]
    },
    {
     "name": "stderr",
     "output_type": "stream",
     "text": [
      "\u001b[36m(_ray_fit pid=50060)\u001b[0m No improvement since epoch 4: early stopping\n",
      "\u001b[36m(_ray_fit pid=50028)\u001b[0m No improvement since epoch 13: early stopping\n",
      "\u001b[36m(_ray_fit pid=50184)\u001b[0m No improvement since epoch 16: early stopping\n",
      "\u001b[36m(_ray_fit pid=50216)\u001b[0m No improvement since epoch 22: early stopping\n",
      "\u001b[36m(_dystack pid=166)\u001b[0m \t0.8963\t = Validation score   (roc_auc)\n",
      "\u001b[36m(_dystack pid=166)\u001b[0m \t43.79s\t = Training   runtime\n",
      "\u001b[36m(_dystack pid=166)\u001b[0m \t0.21s\t = Validation runtime\n",
      "\u001b[36m(_dystack pid=166)\u001b[0m Fitting model: CatBoost_r9_BAG_L2 ... Training model for up to 6001.13s of the 6000.65s of remaining time.\n",
      "\u001b[36m(_dystack pid=166)\u001b[0m \tFitting 10 child models (S1F1 - S1F10) | Fitting with ParallelLocalFoldFittingStrategy (4 workers, per: cpus=1, gpus=0, memory=0.63%)\n"
     ]
    },
    {
     "name": "stdout",
     "output_type": "stream",
     "text": [
      "\u001b[33m(autoscaler +1h5m6s)\u001b[0m Warning: The following resource request cannot be scheduled right now: {'CPU': 1.0}. This is likely due to all cluster resources being claimed by actors. Consider creating fewer actors or adding more nodes to this Ray cluster.\n",
      "\u001b[33m(autoscaler +1h5m41s)\u001b[0m Warning: The following resource request cannot be scheduled right now: {'CPU': 1.0}. This is likely due to all cluster resources being claimed by actors. Consider creating fewer actors or adding more nodes to this Ray cluster.\n"
     ]
    },
    {
     "name": "stderr",
     "output_type": "stream",
     "text": [
      "\u001b[36m(_dystack pid=166)\u001b[0m \t0.9042\t = Validation score   (roc_auc)\n",
      "\u001b[36m(_dystack pid=166)\u001b[0m \t93.67s\t = Training   runtime\n",
      "\u001b[36m(_dystack pid=166)\u001b[0m \t0.06s\t = Validation runtime\n",
      "\u001b[36m(_dystack pid=166)\u001b[0m Fitting model: LightGBM_r96_BAG_L2 ... Training model for up to 5904.07s of the 5903.59s of remaining time.\n",
      "\u001b[36m(_dystack pid=166)\u001b[0m \tFitting 10 child models (S1F1 - S1F10) | Fitting with ParallelLocalFoldFittingStrategy (4 workers, per: cpus=1, gpus=0, memory=0.06%)\n"
     ]
    },
    {
     "name": "stdout",
     "output_type": "stream",
     "text": [
      "\u001b[33m(autoscaler +1h6m41s)\u001b[0m Warning: The following resource request cannot be scheduled right now: {'CPU': 1.0}. This is likely due to all cluster resources being claimed by actors. Consider creating fewer actors or adding more nodes to this Ray cluster.\n",
      "\u001b[36m(_ray_fit pid=50670)\u001b[0m [1000]\tvalid_set's binary_logloss: 0.272771\n",
      "\u001b[36m(_ray_fit pid=50670)\u001b[0m [2000]\tvalid_set's binary_logloss: 0.272125\n",
      "\u001b[36m(_ray_fit pid=50670)\u001b[0m [3000]\tvalid_set's binary_logloss: 0.270808\n",
      "\u001b[36m(_ray_fit pid=50670)\u001b[0m [4000]\tvalid_set's binary_logloss: 0.270575\n",
      "\u001b[36m(_ray_fit pid=50801)\u001b[0m [1000]\tvalid_set's binary_logloss: 0.336464\n"
     ]
    },
    {
     "name": "stderr",
     "output_type": "stream",
     "text": [
      "\u001b[36m(_dystack pid=166)\u001b[0m \t0.9044\t = Validation score   (roc_auc)\n",
      "\u001b[36m(_dystack pid=166)\u001b[0m \t17.29s\t = Training   runtime\n",
      "\u001b[36m(_dystack pid=166)\u001b[0m \t0.25s\t = Validation runtime\n",
      "\u001b[36m(_dystack pid=166)\u001b[0m Fitting model: NeuralNetTorch_r22_BAG_L2 ... Training model for up to 5883.28s of the 5882.80s of remaining time.\n",
      "\u001b[36m(_dystack pid=166)\u001b[0m \tFitting 10 child models (S1F1 - S1F10) | Fitting with ParallelLocalFoldFittingStrategy (4 workers, per: cpus=1, gpus=0, memory=0.02%)\n"
     ]
    },
    {
     "name": "stdout",
     "output_type": "stream",
     "text": [
      "\u001b[33m(autoscaler +1h7m16s)\u001b[0m Warning: The following resource request cannot be scheduled right now: {'CPU': 1.0}. This is likely due to all cluster resources being claimed by actors. Consider creating fewer actors or adding more nodes to this Ray cluster.\n"
     ]
    },
    {
     "name": "stderr",
     "output_type": "stream",
     "text": [
      "\u001b[36m(_dystack pid=166)\u001b[0m \t0.9047\t = Validation score   (roc_auc)\n",
      "\u001b[36m(_dystack pid=166)\u001b[0m \t50.98s\t = Training   runtime\n",
      "\u001b[36m(_dystack pid=166)\u001b[0m \t0.35s\t = Validation runtime\n",
      "\u001b[36m(_dystack pid=166)\u001b[0m Fitting model: XGBoost_r33_BAG_L2 ... Training model for up to 5829.12s of the 5828.65s of remaining time.\n",
      "\u001b[36m(_dystack pid=166)\u001b[0m \tFitting 10 child models (S1F1 - S1F10) | Fitting with ParallelLocalFoldFittingStrategy (4 workers, per: cpus=1, gpus=0, memory=1.23%)\n"
     ]
    },
    {
     "name": "stdout",
     "output_type": "stream",
     "text": [
      "\u001b[33m(autoscaler +1h7m56s)\u001b[0m Warning: The following resource request cannot be scheduled right now: {'CPU': 1.0}. This is likely due to all cluster resources being claimed by actors. Consider creating fewer actors or adding more nodes to this Ray cluster.\n"
     ]
    },
    {
     "name": "stderr",
     "output_type": "stream",
     "text": [
      "\u001b[36m(_dystack pid=166)\u001b[0m \t0.9021\t = Validation score   (roc_auc)\n",
      "\u001b[36m(_dystack pid=166)\u001b[0m \t19.38s\t = Training   runtime\n",
      "\u001b[36m(_dystack pid=166)\u001b[0m \t0.13s\t = Validation runtime\n",
      "\u001b[36m(_dystack pid=166)\u001b[0m Fitting model: ExtraTrees_r42_BAG_L2 ... Training model for up to 5806.10s of the 5805.62s of remaining time.\n",
      "\u001b[36m(_dystack pid=166)\u001b[0m \tForcing `use_child_oof=False` because `groups` is specified\n",
      "\u001b[36m(_dystack pid=166)\u001b[0m \tFitting 10 child models (S1F1 - S1F10) | Fitting with ParallelLocalFoldFittingStrategy (4 workers, per: cpus=1, gpus=0, memory=0.01%)\n",
      "\u001b[36m(_dystack pid=166)\u001b[0m \t0.899\t = Validation score   (roc_auc)\n",
      "\u001b[36m(_dystack pid=166)\u001b[0m \t15.38s\t = Training   runtime\n",
      "\u001b[36m(_dystack pid=166)\u001b[0m \t1.19s\t = Validation runtime\n",
      "\u001b[36m(_dystack pid=166)\u001b[0m Fitting model: CatBoost_r137_BAG_L2 ... Training model for up to 5787.34s of the 5786.86s of remaining time.\n",
      "\u001b[36m(_dystack pid=166)\u001b[0m \tFitting 10 child models (S1F1 - S1F10) | Fitting with ParallelLocalFoldFittingStrategy (4 workers, per: cpus=1, gpus=0, memory=0.06%)\n"
     ]
    },
    {
     "name": "stdout",
     "output_type": "stream",
     "text": [
      "\u001b[33m(autoscaler +1h8m36s)\u001b[0m Warning: The following resource request cannot be scheduled right now: {'CPU': 1.0}. This is likely due to all cluster resources being claimed by actors. Consider creating fewer actors or adding more nodes to this Ray cluster.\n"
     ]
    },
    {
     "name": "stderr",
     "output_type": "stream",
     "text": [
      "\u001b[36m(_dystack pid=166)\u001b[0m \t0.9039\t = Validation score   (roc_auc)\n",
      "\u001b[36m(_dystack pid=166)\u001b[0m \t16.01s\t = Training   runtime\n",
      "\u001b[36m(_dystack pid=166)\u001b[0m \t0.06s\t = Validation runtime\n",
      "\u001b[36m(_dystack pid=166)\u001b[0m Fitting model: NeuralNetFastAI_r102_BAG_L2 ... Training model for up to 5768.10s of the 5767.63s of remaining time.\n",
      "\u001b[36m(_dystack pid=166)\u001b[0m \tFitting 10 child models (S1F1 - S1F10) | Fitting with ParallelLocalFoldFittingStrategy (4 workers, per: cpus=1, gpus=0, memory=0.04%)\n"
     ]
    },
    {
     "name": "stdout",
     "output_type": "stream",
     "text": [
      "\u001b[33m(autoscaler +1h9m11s)\u001b[0m Warning: The following resource request cannot be scheduled right now: {'CPU': 1.0}. This is likely due to all cluster resources being claimed by actors. Consider creating fewer actors or adding more nodes to this Ray cluster.\n",
      "\u001b[33m(autoscaler +1h9m46s)\u001b[0m Warning: The following resource request cannot be scheduled right now: {'CPU': 1.0}. This is likely due to all cluster resources being claimed by actors. Consider creating fewer actors or adding more nodes to this Ray cluster.\n"
     ]
    },
    {
     "name": "stderr",
     "output_type": "stream",
     "text": [
      "\u001b[36m(_dystack pid=166)\u001b[0m \t0.9067\t = Validation score   (roc_auc)\n",
      "\u001b[36m(_dystack pid=166)\u001b[0m \t80.08s\t = Training   runtime\n",
      "\u001b[36m(_dystack pid=166)\u001b[0m \t0.58s\t = Validation runtime\n",
      "\u001b[36m(_dystack pid=166)\u001b[0m Fitting model: CatBoost_r13_BAG_L2 ... Training model for up to 5684.75s of the 5684.27s of remaining time.\n",
      "\u001b[36m(_dystack pid=166)\u001b[0m \tFitting 10 child models (S1F1 - S1F10) | Fitting with ParallelLocalFoldFittingStrategy (4 workers, per: cpus=1, gpus=0, memory=0.63%)\n"
     ]
    },
    {
     "name": "stdout",
     "output_type": "stream",
     "text": [
      "\u001b[33m(autoscaler +1h10m21s)\u001b[0m Warning: The following resource request cannot be scheduled right now: {'CPU': 1.0}. This is likely due to all cluster resources being claimed by actors. Consider creating fewer actors or adding more nodes to this Ray cluster.\n",
      "\u001b[33m(autoscaler +1h10m56s)\u001b[0m Warning: The following resource request cannot be scheduled right now: {'CPU': 1.0}. This is likely due to all cluster resources being claimed by actors. Consider creating fewer actors or adding more nodes to this Ray cluster.\n"
     ]
    },
    {
     "name": "stderr",
     "output_type": "stream",
     "text": [
      "\u001b[36m(_dystack pid=166)\u001b[0m \t0.9037\t = Validation score   (roc_auc)\n",
      "\u001b[36m(_dystack pid=166)\u001b[0m \t66.37s\t = Training   runtime\n",
      "\u001b[36m(_dystack pid=166)\u001b[0m \t0.06s\t = Validation runtime\n",
      "\u001b[36m(_dystack pid=166)\u001b[0m Fitting model: RandomForest_r195_BAG_L2 ... Training model for up to 5614.94s of the 5614.46s of remaining time.\n",
      "\u001b[36m(_dystack pid=166)\u001b[0m \tForcing `use_child_oof=False` because `groups` is specified\n",
      "\u001b[36m(_dystack pid=166)\u001b[0m \tFitting 10 child models (S1F1 - S1F10) | Fitting with ParallelLocalFoldFittingStrategy (4 workers, per: cpus=1, gpus=0, memory=0.01%)\n"
     ]
    },
    {
     "name": "stdout",
     "output_type": "stream",
     "text": [
      "\u001b[33m(autoscaler +1h11m31s)\u001b[0m Warning: The following resource request cannot be scheduled right now: {'CPU': 1.0}. This is likely due to all cluster resources being claimed by actors. Consider creating fewer actors or adding more nodes to this Ray cluster.\n"
     ]
    },
    {
     "name": "stderr",
     "output_type": "stream",
     "text": [
      "\u001b[36m(_dystack pid=166)\u001b[0m \t0.896\t = Validation score   (roc_auc)\n",
      "\u001b[36m(_dystack pid=166)\u001b[0m \t37.99s\t = Training   runtime\n",
      "\u001b[36m(_dystack pid=166)\u001b[0m \t1.15s\t = Validation runtime\n",
      "\u001b[36m(_dystack pid=166)\u001b[0m Fitting model: LightGBM_r188_BAG_L2 ... Training model for up to 5573.66s of the 5573.19s of remaining time.\n",
      "\u001b[36m(_dystack pid=166)\u001b[0m \tFitting 10 child models (S1F1 - S1F10) | Fitting with ParallelLocalFoldFittingStrategy (4 workers, per: cpus=1, gpus=0, memory=0.32%)\n"
     ]
    },
    {
     "name": "stdout",
     "output_type": "stream",
     "text": [
      "\u001b[33m(autoscaler +1h12m12s)\u001b[0m Warning: The following resource request cannot be scheduled right now: {'CPU': 1.0}. This is likely due to all cluster resources being claimed by actors. Consider creating fewer actors or adding more nodes to this Ray cluster.\n"
     ]
    },
    {
     "name": "stderr",
     "output_type": "stream",
     "text": [
      "\u001b[36m(_dystack pid=166)\u001b[0m \t0.9\t = Validation score   (roc_auc)\n",
      "\u001b[36m(_dystack pid=166)\u001b[0m \t16.73s\t = Training   runtime\n",
      "\u001b[36m(_dystack pid=166)\u001b[0m \t0.09s\t = Validation runtime\n",
      "\u001b[36m(_dystack pid=166)\u001b[0m Fitting model: NeuralNetFastAI_r145_BAG_L2 ... Training model for up to 5553.84s of the 5553.36s of remaining time.\n",
      "\u001b[36m(_dystack pid=166)\u001b[0m \tFitting 10 child models (S1F1 - S1F10) | Fitting with ParallelLocalFoldFittingStrategy (4 workers, per: cpus=1, gpus=0, memory=0.04%)\n",
      "\u001b[36m(_ray_fit pid=54217)\u001b[0m No improvement since epoch 9: early stopping\n"
     ]
    },
    {
     "name": "stdout",
     "output_type": "stream",
     "text": [
      "\u001b[33m(autoscaler +1h12m47s)\u001b[0m Warning: The following resource request cannot be scheduled right now: {'CPU': 1.0}. This is likely due to all cluster resources being claimed by actors. Consider creating fewer actors or adding more nodes to this Ray cluster.\n"
     ]
    },
    {
     "name": "stderr",
     "output_type": "stream",
     "text": [
      "\u001b[36m(_ray_fit pid=54405)\u001b[0m No improvement since epoch 9: early stopping\n",
      "\u001b[36m(_ray_fit pid=54593)\u001b[0m No improvement since epoch 10: early stopping\n",
      "\u001b[36m(_dystack pid=166)\u001b[0m \t0.9022\t = Validation score   (roc_auc)\n",
      "\u001b[36m(_dystack pid=166)\u001b[0m \t42.31s\t = Training   runtime\n",
      "\u001b[36m(_dystack pid=166)\u001b[0m \t0.24s\t = Validation runtime\n",
      "\u001b[36m(_dystack pid=166)\u001b[0m Fitting model: XGBoost_r89_BAG_L2 ... Training model for up to 5508.18s of the 5507.71s of remaining time.\n",
      "\u001b[36m(_dystack pid=166)\u001b[0m \tFitting 10 child models (S1F1 - S1F10) | Fitting with ParallelLocalFoldFittingStrategy (4 workers, per: cpus=1, gpus=0, memory=0.18%)\n"
     ]
    },
    {
     "name": "stdout",
     "output_type": "stream",
     "text": [
      "\u001b[33m(autoscaler +1h13m22s)\u001b[0m Warning: The following resource request cannot be scheduled right now: {'CPU': 1.0}. This is likely due to all cluster resources being claimed by actors. Consider creating fewer actors or adding more nodes to this Ray cluster.\n"
     ]
    },
    {
     "name": "stderr",
     "output_type": "stream",
     "text": [
      "\u001b[36m(_dystack pid=166)\u001b[0m \t0.904\t = Validation score   (roc_auc)\n",
      "\u001b[36m(_dystack pid=166)\u001b[0m \t11.33s\t = Training   runtime\n",
      "\u001b[36m(_dystack pid=166)\u001b[0m \t0.1s\t = Validation runtime\n",
      "\u001b[36m(_ray_fit pid=54590)\u001b[0m No improvement since epoch 10: early stopping\n",
      "\u001b[36m(_dystack pid=166)\u001b[0m Fitting model: NeuralNetTorch_r30_BAG_L2 ... Training model for up to 5493.26s of the 5492.79s of remaining time.\n",
      "\u001b[36m(_dystack pid=166)\u001b[0m \tFitting 10 child models (S1F1 - S1F10) | Fitting with ParallelLocalFoldFittingStrategy (4 workers, per: cpus=1, gpus=0, memory=0.02%)\n"
     ]
    },
    {
     "name": "stdout",
     "output_type": "stream",
     "text": [
      "\u001b[33m(autoscaler +1h13m57s)\u001b[0m Warning: The following resource request cannot be scheduled right now: {'CPU': 1.0}. This is likely due to all cluster resources being claimed by actors. Consider creating fewer actors or adding more nodes to this Ray cluster.\n"
     ]
    },
    {
     "name": "stderr",
     "output_type": "stream",
     "text": [
      "\u001b[36m(_dystack pid=166)\u001b[0m \t0.898\t = Validation score   (roc_auc)\n",
      "\u001b[36m(_dystack pid=166)\u001b[0m \t102.92s\t = Training   runtime\n",
      "\u001b[36m(_dystack pid=166)\u001b[0m \t0.35s\t = Validation runtime\n",
      "\u001b[36m(_dystack pid=166)\u001b[0m Fitting model: LightGBM_r130_BAG_L2 ... Training model for up to 5386.96s of the 5386.48s of remaining time.\n",
      "\u001b[36m(_dystack pid=166)\u001b[0m \tFitting 10 child models (S1F1 - S1F10) | Fitting with ParallelLocalFoldFittingStrategy (4 workers, per: cpus=1, gpus=0, memory=0.23%)\n"
     ]
    },
    {
     "name": "stdout",
     "output_type": "stream",
     "text": [
      "\u001b[33m(autoscaler +1h15m17s)\u001b[0m Warning: The following resource request cannot be scheduled right now: {'CPU': 1.0}. This is likely due to all cluster resources being claimed by actors. Consider creating fewer actors or adding more nodes to this Ray cluster.\n"
     ]
    },
    {
     "name": "stderr",
     "output_type": "stream",
     "text": [
      "\u001b[36m(_dystack pid=166)\u001b[0m \t0.9015\t = Validation score   (roc_auc)\n",
      "\u001b[36m(_dystack pid=166)\u001b[0m \t15.57s\t = Training   runtime\n",
      "\u001b[36m(_dystack pid=166)\u001b[0m \t0.07s\t = Validation runtime\n",
      "\u001b[36m(_dystack pid=166)\u001b[0m Fitting model: NeuralNetTorch_r86_BAG_L2 ... Training model for up to 5368.22s of the 5367.74s of remaining time.\n",
      "\u001b[36m(_dystack pid=166)\u001b[0m \tFitting 10 child models (S1F1 - S1F10) | Fitting with ParallelLocalFoldFittingStrategy (4 workers, per: cpus=1, gpus=0, memory=0.02%)\n"
     ]
    },
    {
     "name": "stdout",
     "output_type": "stream",
     "text": [
      "\u001b[33m(autoscaler +1h15m52s)\u001b[0m Warning: The following resource request cannot be scheduled right now: {'CPU': 1.0}. This is likely due to all cluster resources being claimed by actors. Consider creating fewer actors or adding more nodes to this Ray cluster.\n"
     ]
    },
    {
     "name": "stderr",
     "output_type": "stream",
     "text": [
      "\u001b[36m(_dystack pid=166)\u001b[0m \t0.8977\t = Validation score   (roc_auc)\n",
      "\u001b[36m(_dystack pid=166)\u001b[0m \t38.91s\t = Training   runtime\n",
      "\u001b[36m(_dystack pid=166)\u001b[0m \t0.34s\t = Validation runtime\n",
      "\u001b[36m(_dystack pid=166)\u001b[0m Fitting model: CatBoost_r50_BAG_L2 ... Training model for up to 5325.99s of the 5325.52s of remaining time.\n",
      "\u001b[36m(_dystack pid=166)\u001b[0m \tFitting 10 child models (S1F1 - S1F10) | Fitting with ParallelLocalFoldFittingStrategy (4 workers, per: cpus=1, gpus=0, memory=0.06%)\n"
     ]
    },
    {
     "name": "stdout",
     "output_type": "stream",
     "text": [
      "\u001b[33m(autoscaler +1h16m27s)\u001b[0m Warning: The following resource request cannot be scheduled right now: {'CPU': 1.0}. This is likely due to all cluster resources being claimed by actors. Consider creating fewer actors or adding more nodes to this Ray cluster.\n"
     ]
    },
    {
     "name": "stderr",
     "output_type": "stream",
     "text": [
      "\u001b[36m(_dystack pid=166)\u001b[0m \t0.9066\t = Validation score   (roc_auc)\n",
      "\u001b[36m(_dystack pid=166)\u001b[0m \t21.06s\t = Training   runtime\n",
      "\u001b[36m(_dystack pid=166)\u001b[0m \t0.06s\t = Validation runtime\n",
      "\u001b[36m(_dystack pid=166)\u001b[0m Fitting model: NeuralNetFastAI_r11_BAG_L2 ... Training model for up to 5301.35s of the 5300.87s of remaining time.\n",
      "\u001b[36m(_dystack pid=166)\u001b[0m \tFitting 10 child models (S1F1 - S1F10) | Fitting with ParallelLocalFoldFittingStrategy (4 workers, per: cpus=1, gpus=0, memory=0.04%)\n"
     ]
    },
    {
     "name": "stdout",
     "output_type": "stream",
     "text": [
      "\u001b[33m(autoscaler +1h17m2s)\u001b[0m Warning: The following resource request cannot be scheduled right now: {'CPU': 1.0}. This is likely due to all cluster resources being claimed by actors. Consider creating fewer actors or adding more nodes to this Ray cluster.\n"
     ]
    },
    {
     "name": "stderr",
     "output_type": "stream",
     "text": [
      "\u001b[36m(_ray_fit pid=56662)\u001b[0m No improvement since epoch 1: early stopping\n",
      "\u001b[36m(_dystack pid=166)\u001b[0m \t0.9014\t = Validation score   (roc_auc)\n",
      "\u001b[36m(_dystack pid=166)\u001b[0m \t48.84s\t = Training   runtime\n",
      "\u001b[36m(_dystack pid=166)\u001b[0m \t0.27s\t = Validation runtime\n",
      "\u001b[36m(_dystack pid=166)\u001b[0m Fitting model: XGBoost_r194_BAG_L2 ... Training model for up to 5249.18s of the 5248.71s of remaining time.\n",
      "\u001b[36m(_dystack pid=166)\u001b[0m \tFitting 10 child models (S1F1 - S1F10) | Fitting with ParallelLocalFoldFittingStrategy (4 workers, per: cpus=1, gpus=0, memory=0.33%)\n",
      "\u001b[36m(_ray_fit pid=56660)\u001b[0m No improvement since epoch 10: early stopping\n"
     ]
    },
    {
     "name": "stdout",
     "output_type": "stream",
     "text": [
      "\u001b[33m(autoscaler +1h17m37s)\u001b[0m Warning: The following resource request cannot be scheduled right now: {'CPU': 1.0}. This is likely due to all cluster resources being claimed by actors. Consider creating fewer actors or adding more nodes to this Ray cluster.\n"
     ]
    },
    {
     "name": "stderr",
     "output_type": "stream",
     "text": [
      "\u001b[36m(_dystack pid=166)\u001b[0m \t0.8986\t = Validation score   (roc_auc)\n",
      "\u001b[36m(_dystack pid=166)\u001b[0m \t11.98s\t = Training   runtime\n",
      "\u001b[36m(_dystack pid=166)\u001b[0m \t0.11s\t = Validation runtime\n",
      "\u001b[36m(_dystack pid=166)\u001b[0m Fitting model: ExtraTrees_r172_BAG_L2 ... Training model for up to 5233.95s of the 5233.47s of remaining time.\n",
      "\u001b[36m(_dystack pid=166)\u001b[0m \tForcing `use_child_oof=False` because `groups` is specified\n",
      "\u001b[36m(_dystack pid=166)\u001b[0m \tFitting 10 child models (S1F1 - S1F10) | Fitting with ParallelLocalFoldFittingStrategy (4 workers, per: cpus=1, gpus=0, memory=0.01%)\n",
      "\u001b[36m(_dystack pid=166)\u001b[0m \t0.9017\t = Validation score   (roc_auc)\n",
      "\u001b[36m(_dystack pid=166)\u001b[0m \t13.45s\t = Training   runtime\n",
      "\u001b[36m(_dystack pid=166)\u001b[0m \t0.97s\t = Validation runtime\n",
      "\u001b[36m(_dystack pid=166)\u001b[0m Fitting model: CatBoost_r69_BAG_L2 ... Training model for up to 5217.17s of the 5216.69s of remaining time.\n",
      "\u001b[36m(_dystack pid=166)\u001b[0m \tFitting 10 child models (S1F1 - S1F10) | Fitting with ParallelLocalFoldFittingStrategy (4 workers, per: cpus=1, gpus=0, memory=0.10%)\n"
     ]
    },
    {
     "name": "stdout",
     "output_type": "stream",
     "text": [
      "\u001b[33m(autoscaler +1h18m13s)\u001b[0m Warning: The following resource request cannot be scheduled right now: {'CPU': 1.0}. This is likely due to all cluster resources being claimed by actors. Consider creating fewer actors or adding more nodes to this Ray cluster.\n"
     ]
    },
    {
     "name": "stderr",
     "output_type": "stream",
     "text": [
      "\u001b[36m(_dystack pid=166)\u001b[0m \t0.9041\t = Validation score   (roc_auc)\n",
      "\u001b[36m(_dystack pid=166)\u001b[0m \t18.73s\t = Training   runtime\n",
      "\u001b[36m(_dystack pid=166)\u001b[0m \t0.05s\t = Validation runtime\n",
      "\u001b[36m(_dystack pid=166)\u001b[0m Fitting model: NeuralNetFastAI_r103_BAG_L2 ... Training model for up to 5195.26s of the 5194.78s of remaining time.\n",
      "\u001b[36m(_dystack pid=166)\u001b[0m \tFitting 10 child models (S1F1 - S1F10) | Fitting with ParallelLocalFoldFittingStrategy (4 workers, per: cpus=1, gpus=0, memory=0.04%)\n",
      "\u001b[36m(_ray_fit pid=58131)\u001b[0m No improvement since epoch 17: early stopping\n"
     ]
    },
    {
     "name": "stdout",
     "output_type": "stream",
     "text": [
      "\u001b[33m(autoscaler +1h18m48s)\u001b[0m Warning: The following resource request cannot be scheduled right now: {'CPU': 1.0}. This is likely due to all cluster resources being claimed by actors. Consider creating fewer actors or adding more nodes to this Ray cluster.\n"
     ]
    },
    {
     "name": "stderr",
     "output_type": "stream",
     "text": [
      "\u001b[36m(_ray_fit pid=58346)\u001b[0m No improvement since epoch 13: early stopping\u001b[32m [repeated 2x across cluster]\u001b[0m\n",
      "\u001b[36m(_ray_fit pid=58503)\u001b[0m No improvement since epoch 10: early stopping\u001b[32m [repeated 2x across cluster]\u001b[0m\n",
      "\u001b[36m(_dystack pid=166)\u001b[0m \t0.8992\t = Validation score   (roc_auc)\n",
      "\u001b[36m(_dystack pid=166)\u001b[0m \t35.34s\t = Training   runtime\n",
      "\u001b[36m(_dystack pid=166)\u001b[0m \t0.2s\t = Validation runtime\n",
      "\u001b[36m(_dystack pid=166)\u001b[0m Fitting model: NeuralNetTorch_r14_BAG_L2 ... Training model for up to 5156.55s of the 5156.07s of remaining time.\n",
      "\u001b[36m(_dystack pid=166)\u001b[0m \tFitting 10 child models (S1F1 - S1F10) | Fitting with ParallelLocalFoldFittingStrategy (4 workers, per: cpus=1, gpus=0, memory=0.02%)\n"
     ]
    },
    {
     "name": "stdout",
     "output_type": "stream",
     "text": [
      "\u001b[33m(autoscaler +1h19m23s)\u001b[0m Warning: The following resource request cannot be scheduled right now: {'CPU': 1.0}. This is likely due to all cluster resources being claimed by actors. Consider creating fewer actors or adding more nodes to this Ray cluster.\n"
     ]
    },
    {
     "name": "stderr",
     "output_type": "stream",
     "text": [
      "\u001b[36m(_dystack pid=166)\u001b[0m \t0.9014\t = Validation score   (roc_auc)\n",
      "\u001b[36m(_dystack pid=166)\u001b[0m \t31.7s\t = Training   runtime\n",
      "\u001b[36m(_dystack pid=166)\u001b[0m \t0.29s\t = Validation runtime\n",
      "\u001b[36m(_dystack pid=166)\u001b[0m Fitting model: LightGBM_r161_BAG_L2 ... Training model for up to 5121.08s of the 5120.61s of remaining time.\n",
      "\u001b[36m(_dystack pid=166)\u001b[0m \tFitting 10 child models (S1F1 - S1F10) | Fitting with ParallelLocalFoldFittingStrategy (4 workers, per: cpus=1, gpus=0, memory=0.62%)\n",
      "\u001b[36m(_ray_fit pid=58501)\u001b[0m No improvement since epoch 16: early stopping\n"
     ]
    },
    {
     "name": "stdout",
     "output_type": "stream",
     "text": [
      "\u001b[33m(autoscaler +1h19m58s)\u001b[0m Warning: The following resource request cannot be scheduled right now: {'CPU': 1.0}. This is likely due to all cluster resources being claimed by actors. Consider creating fewer actors or adding more nodes to this Ray cluster.\n"
     ]
    },
    {
     "name": "stderr",
     "output_type": "stream",
     "text": [
      "\u001b[36m(_dystack pid=166)\u001b[0m \t0.901\t = Validation score   (roc_auc)\n",
      "\u001b[36m(_dystack pid=166)\u001b[0m \t24.88s\t = Training   runtime\n",
      "\u001b[36m(_dystack pid=166)\u001b[0m \t0.15s\t = Validation runtime\n",
      "\u001b[36m(_dystack pid=166)\u001b[0m Fitting model: NeuralNetFastAI_r143_BAG_L2 ... Training model for up to 5092.55s of the 5092.08s of remaining time.\n",
      "\u001b[36m(_dystack pid=166)\u001b[0m \tFitting 10 child models (S1F1 - S1F10) | Fitting with ParallelLocalFoldFittingStrategy (4 workers, per: cpus=1, gpus=0, memory=0.04%)\n",
      "\u001b[36m(_dystack pid=166)\u001b[0m \t0.8959\t = Validation score   (roc_auc)\n",
      "\u001b[36m(_dystack pid=166)\u001b[0m \t27.27s\t = Training   runtime\n",
      "\u001b[36m(_dystack pid=166)\u001b[0m \t0.24s\t = Validation runtime\n",
      "\u001b[36m(_dystack pid=166)\u001b[0m Fitting model: CatBoost_r70_BAG_L2 ... Training model for up to 5061.91s of the 5061.43s of remaining time.\n",
      "\u001b[36m(_dystack pid=166)\u001b[0m \tFitting 10 child models (S1F1 - S1F10) | Fitting with ParallelLocalFoldFittingStrategy (4 workers, per: cpus=1, gpus=0, memory=0.17%)\n"
     ]
    },
    {
     "name": "stdout",
     "output_type": "stream",
     "text": [
      "\u001b[33m(autoscaler +1h20m43s)\u001b[0m Warning: The following resource request cannot be scheduled right now: {'CPU': 1.0}. This is likely due to all cluster resources being claimed by actors. Consider creating fewer actors or adding more nodes to this Ray cluster.\n"
     ]
    },
    {
     "name": "stderr",
     "output_type": "stream",
     "text": [
      "\u001b[36m(_dystack pid=166)\u001b[0m \t0.9054\t = Validation score   (roc_auc)\n",
      "\u001b[36m(_dystack pid=166)\u001b[0m \t46.33s\t = Training   runtime\n",
      "\u001b[36m(_dystack pid=166)\u001b[0m \t0.06s\t = Validation runtime\n",
      "\u001b[36m(_dystack pid=166)\u001b[0m Fitting model: NeuralNetFastAI_r156_BAG_L2 ... Training model for up to 5011.85s of the 5011.37s of remaining time.\n",
      "\u001b[36m(_dystack pid=166)\u001b[0m \tFitting 10 child models (S1F1 - S1F10) | Fitting with ParallelLocalFoldFittingStrategy (4 workers, per: cpus=1, gpus=0, memory=0.04%)\n"
     ]
    },
    {
     "name": "stdout",
     "output_type": "stream",
     "text": [
      "\u001b[33m(autoscaler +1h21m33s)\u001b[0m Warning: The following resource request cannot be scheduled right now: {'CPU': 1.0}. This is likely due to all cluster resources being claimed by actors. Consider creating fewer actors or adding more nodes to this Ray cluster.\n"
     ]
    },
    {
     "name": "stderr",
     "output_type": "stream",
     "text": [
      "\u001b[36m(_ray_fit pid=60155)\u001b[0m No improvement since epoch 3: early stopping\n",
      "\u001b[36m(_ray_fit pid=60152)\u001b[0m No improvement since epoch 23: early stopping\n",
      "\u001b[36m(_ray_fit pid=60153)\u001b[0m No improvement since epoch 21: early stopping\n"
     ]
    },
    {
     "name": "stdout",
     "output_type": "stream",
     "text": [
      "\u001b[33m(autoscaler +1h22m8s)\u001b[0m Warning: The following resource request cannot be scheduled right now: {'CPU': 1.0}. This is likely due to all cluster resources being claimed by actors. Consider creating fewer actors or adding more nodes to this Ray cluster.\n"
     ]
    },
    {
     "name": "stderr",
     "output_type": "stream",
     "text": [
      "\u001b[36m(_ray_fit pid=60336)\u001b[0m No improvement since epoch 10: early stopping\n",
      "\u001b[36m(_ray_fit pid=60385)\u001b[0m No improvement since epoch 5: early stopping\n",
      "\u001b[36m(_ray_fit pid=60554)\u001b[0m No improvement since epoch 13: early stopping\u001b[32m [repeated 3x across cluster]\u001b[0m\n",
      "\u001b[36m(_dystack pid=166)\u001b[0m \t0.8993\t = Validation score   (roc_auc)\n",
      "\u001b[36m(_dystack pid=166)\u001b[0m \t82.89s\t = Training   runtime\n",
      "\u001b[36m(_dystack pid=166)\u001b[0m \t0.34s\t = Validation runtime\n",
      "\u001b[36m(_dystack pid=166)\u001b[0m Fitting model: LightGBM_r196_BAG_L2 ... Training model for up to 4925.53s of the 4925.06s of remaining time.\n",
      "\u001b[36m(_dystack pid=166)\u001b[0m \tFitting 10 child models (S1F1 - S1F10) | Fitting with ParallelLocalFoldFittingStrategy (4 workers, per: cpus=1, gpus=0, memory=0.34%)\n"
     ]
    },
    {
     "name": "stdout",
     "output_type": "stream",
     "text": [
      "\u001b[33m(autoscaler +1h22m58s)\u001b[0m Warning: The following resource request cannot be scheduled right now: {'CPU': 1.0}. This is likely due to all cluster resources being claimed by actors. Consider creating fewer actors or adding more nodes to this Ray cluster.\n",
      "\u001b[36m(_ray_fit pid=60618)\u001b[0m [1000]\tvalid_set's binary_logloss: 0.351755\n",
      "\u001b[36m(_ray_fit pid=60750)\u001b[0m [1000]\tvalid_set's binary_logloss: 0.337676\u001b[32m [repeated 4x across cluster]\u001b[0m\n",
      "\u001b[36m(_ray_fit pid=60882)\u001b[0m [1000]\tvalid_set's binary_logloss: 0.286556\n",
      "\u001b[36m(_ray_fit pid=60884)\u001b[0m [1000]\tvalid_set's binary_logloss: 0.32237\n"
     ]
    },
    {
     "name": "stderr",
     "output_type": "stream",
     "text": [
      "\u001b[36m(_dystack pid=166)\u001b[0m \t0.9026\t = Validation score   (roc_auc)\n",
      "\u001b[36m(_dystack pid=166)\u001b[0m \t22.72s\t = Training   runtime\n",
      "\u001b[36m(_dystack pid=166)\u001b[0m \t0.42s\t = Validation runtime\n",
      "\u001b[36m(_dystack pid=166)\u001b[0m Fitting model: RandomForest_r39_BAG_L2 ... Training model for up to 4899.02s of the 4898.54s of remaining time.\n",
      "\u001b[36m(_dystack pid=166)\u001b[0m \tForcing `use_child_oof=False` because `groups` is specified\n",
      "\u001b[36m(_dystack pid=166)\u001b[0m \tFitting 10 child models (S1F1 - S1F10) | Fitting with ParallelLocalFoldFittingStrategy (4 workers, per: cpus=1, gpus=0, memory=0.01%)\n"
     ]
    },
    {
     "name": "stdout",
     "output_type": "stream",
     "text": [
      "\u001b[33m(autoscaler +1h23m33s)\u001b[0m Warning: The following resource request cannot be scheduled right now: {'CPU': 1.0}. This is likely due to all cluster resources being claimed by actors. Consider creating fewer actors or adding more nodes to this Ray cluster.\n"
     ]
    },
    {
     "name": "stderr",
     "output_type": "stream",
     "text": [
      "\u001b[36m(_dystack pid=166)\u001b[0m \t0.8971\t = Validation score   (roc_auc)\n",
      "\u001b[36m(_dystack pid=166)\u001b[0m \t35.89s\t = Training   runtime\n",
      "\u001b[36m(_dystack pid=166)\u001b[0m \t1.37s\t = Validation runtime\n",
      "\u001b[36m(_dystack pid=166)\u001b[0m Fitting model: CatBoost_r167_BAG_L2 ... Training model for up to 4859.52s of the 4859.04s of remaining time.\n",
      "\u001b[36m(_dystack pid=166)\u001b[0m \tFitting 10 child models (S1F1 - S1F10) | Fitting with ParallelLocalFoldFittingStrategy (4 workers, per: cpus=1, gpus=0, memory=0.32%)\n"
     ]
    },
    {
     "name": "stdout",
     "output_type": "stream",
     "text": [
      "\u001b[33m(autoscaler +1h24m8s)\u001b[0m Warning: The following resource request cannot be scheduled right now: {'CPU': 1.0}. This is likely due to all cluster resources being claimed by actors. Consider creating fewer actors or adding more nodes to this Ray cluster.\n"
     ]
    },
    {
     "name": "stderr",
     "output_type": "stream",
     "text": [
      "\u001b[36m(_dystack pid=166)\u001b[0m \t0.9032\t = Validation score   (roc_auc)\n",
      "\u001b[36m(_dystack pid=166)\u001b[0m \t30.39s\t = Training   runtime\n",
      "\u001b[36m(_dystack pid=166)\u001b[0m \t0.05s\t = Validation runtime\n",
      "\u001b[36m(_dystack pid=166)\u001b[0m Fitting model: NeuralNetFastAI_r95_BAG_L2 ... Training model for up to 4825.87s of the 4825.39s of remaining time.\n",
      "\u001b[36m(_dystack pid=166)\u001b[0m \tFitting 10 child models (S1F1 - S1F10) | Fitting with ParallelLocalFoldFittingStrategy (4 workers, per: cpus=1, gpus=0, memory=0.04%)\n"
     ]
    },
    {
     "name": "stdout",
     "output_type": "stream",
     "text": [
      "\u001b[33m(autoscaler +1h24m44s)\u001b[0m Warning: The following resource request cannot be scheduled right now: {'CPU': 1.0}. This is likely due to all cluster resources being claimed by actors. Consider creating fewer actors or adding more nodes to this Ray cluster.\n"
     ]
    },
    {
     "name": "stderr",
     "output_type": "stream",
     "text": [
      "\u001b[36m(_ray_fit pid=61992)\u001b[0m No improvement since epoch 10: early stopping\n",
      "\u001b[36m(_ray_fit pid=62180)\u001b[0m No improvement since epoch 9: early stopping\u001b[32m [repeated 2x across cluster]\u001b[0m\n",
      "\u001b[36m(_dystack pid=166)\u001b[0m \t0.899\t = Validation score   (roc_auc)\n",
      "\u001b[36m(_dystack pid=166)\u001b[0m \t43.88s\t = Training   runtime\n",
      "\u001b[36m(_dystack pid=166)\u001b[0m \t0.25s\t = Validation runtime\n",
      "\u001b[36m(_dystack pid=166)\u001b[0m Fitting model: NeuralNetTorch_r41_BAG_L2 ... Training model for up to 4778.81s of the 4778.33s of remaining time.\n",
      "\u001b[36m(_dystack pid=166)\u001b[0m \tFitting 10 child models (S1F1 - S1F10) | Fitting with ParallelLocalFoldFittingStrategy (4 workers, per: cpus=1, gpus=0, memory=0.02%)\n"
     ]
    },
    {
     "name": "stdout",
     "output_type": "stream",
     "text": [
      "\u001b[33m(autoscaler +1h25m24s)\u001b[0m Warning: The following resource request cannot be scheduled right now: {'CPU': 1.0}. This is likely due to all cluster resources being claimed by actors. Consider creating fewer actors or adding more nodes to this Ray cluster.\n"
     ]
    },
    {
     "name": "stderr",
     "output_type": "stream",
     "text": [
      "\u001b[36m(_dystack pid=166)\u001b[0m \t0.9063\t = Validation score   (roc_auc)\n",
      "\u001b[36m(_dystack pid=166)\u001b[0m \t44.56s\t = Training   runtime\n",
      "\u001b[36m(_dystack pid=166)\u001b[0m \t0.34s\t = Validation runtime\n",
      "\u001b[36m(_dystack pid=166)\u001b[0m Fitting model: XGBoost_r98_BAG_L2 ... Training model for up to 4730.45s of the 4729.98s of remaining time.\n",
      "\u001b[36m(_dystack pid=166)\u001b[0m \tFitting 10 child models (S1F1 - S1F10) | Fitting with ParallelLocalFoldFittingStrategy (4 workers, per: cpus=1, gpus=0, memory=0.63%)\n"
     ]
    },
    {
     "name": "stdout",
     "output_type": "stream",
     "text": [
      "\u001b[33m(autoscaler +1h26m14s)\u001b[0m Warning: The following resource request cannot be scheduled right now: {'CPU': 1.0}. This is likely due to all cluster resources being claimed by actors. Consider creating fewer actors or adding more nodes to this Ray cluster.\n"
     ]
    },
    {
     "name": "stderr",
     "output_type": "stream",
     "text": [
      "\u001b[36m(_dystack pid=166)\u001b[0m \t0.9024\t = Validation score   (roc_auc)\n",
      "\u001b[36m(_dystack pid=166)\u001b[0m \t22.25s\t = Training   runtime\n",
      "\u001b[36m(_dystack pid=166)\u001b[0m \t0.19s\t = Validation runtime\n",
      "\u001b[36m(_dystack pid=166)\u001b[0m Fitting model: LightGBM_r15_BAG_L2 ... Training model for up to 4704.84s of the 4704.36s of remaining time.\n",
      "\u001b[36m(_dystack pid=166)\u001b[0m \tFitting 10 child models (S1F1 - S1F10) | Fitting with ParallelLocalFoldFittingStrategy (4 workers, per: cpus=1, gpus=0, memory=0.07%)\n"
     ]
    },
    {
     "name": "stdout",
     "output_type": "stream",
     "text": [
      "\u001b[33m(autoscaler +1h26m49s)\u001b[0m Warning: The following resource request cannot be scheduled right now: {'CPU': 1.0}. This is likely due to all cluster resources being claimed by actors. Consider creating fewer actors or adding more nodes to this Ray cluster.\n"
     ]
    },
    {
     "name": "stderr",
     "output_type": "stream",
     "text": [
      "\u001b[36m(_dystack pid=166)\u001b[0m \t0.9044\t = Validation score   (roc_auc)\n",
      "\u001b[36m(_dystack pid=166)\u001b[0m \t16.25s\t = Training   runtime\n",
      "\u001b[36m(_dystack pid=166)\u001b[0m \t0.06s\t = Validation runtime\n",
      "\u001b[36m(_dystack pid=166)\u001b[0m Fitting model: NeuralNetTorch_r158_BAG_L2 ... Training model for up to 4685.45s of the 4684.98s of remaining time.\n",
      "\u001b[36m(_dystack pid=166)\u001b[0m \tFitting 10 child models (S1F1 - S1F10) | Fitting with ParallelLocalFoldFittingStrategy (4 workers, per: cpus=1, gpus=0, memory=0.02%)\n"
     ]
    },
    {
     "name": "stdout",
     "output_type": "stream",
     "text": [
      "\u001b[33m(autoscaler +1h27m24s)\u001b[0m Warning: The following resource request cannot be scheduled right now: {'CPU': 1.0}. This is likely due to all cluster resources being claimed by actors. Consider creating fewer actors or adding more nodes to this Ray cluster.\n"
     ]
    },
    {
     "name": "stderr",
     "output_type": "stream",
     "text": [
      "\u001b[36m(_dystack pid=166)\u001b[0m \t0.8938\t = Validation score   (roc_auc)\n",
      "\u001b[36m(_dystack pid=166)\u001b[0m \t110.64s\t = Training   runtime\n",
      "\u001b[36m(_dystack pid=166)\u001b[0m \t0.3s\t = Validation runtime\n",
      "\u001b[36m(_dystack pid=166)\u001b[0m Fitting model: CatBoost_r86_BAG_L2 ... Training model for up to 4571.52s of the 4571.05s of remaining time.\n",
      "\u001b[36m(_dystack pid=166)\u001b[0m \tFitting 10 child models (S1F1 - S1F10) | Fitting with ParallelLocalFoldFittingStrategy (4 workers, per: cpus=1, gpus=0, memory=0.62%)\n"
     ]
    },
    {
     "name": "stdout",
     "output_type": "stream",
     "text": [
      "\u001b[33m(autoscaler +1h28m54s)\u001b[0m Warning: The following resource request cannot be scheduled right now: {'CPU': 1.0}. This is likely due to all cluster resources being claimed by actors. Consider creating fewer actors or adding more nodes to this Ray cluster.\n",
      "\u001b[33m(autoscaler +1h29m29s)\u001b[0m Warning: The following resource request cannot be scheduled right now: {'CPU': 1.0}. This is likely due to all cluster resources being claimed by actors. Consider creating fewer actors or adding more nodes to this Ray cluster.\n"
     ]
    },
    {
     "name": "stderr",
     "output_type": "stream",
     "text": [
      "\u001b[36m(_dystack pid=166)\u001b[0m \t0.9046\t = Validation score   (roc_auc)\n",
      "\u001b[36m(_dystack pid=166)\u001b[0m \t56.14s\t = Training   runtime\n",
      "\u001b[36m(_dystack pid=166)\u001b[0m \t0.06s\t = Validation runtime\n",
      "\u001b[36m(_dystack pid=166)\u001b[0m Fitting model: NeuralNetFastAI_r37_BAG_L2 ... Training model for up to 4512.12s of the 4511.64s of remaining time.\n",
      "\u001b[36m(_dystack pid=166)\u001b[0m \tFitting 10 child models (S1F1 - S1F10) | Fitting with ParallelLocalFoldFittingStrategy (4 workers, per: cpus=1, gpus=0, memory=0.04%)\n"
     ]
    },
    {
     "name": "stdout",
     "output_type": "stream",
     "text": [
      "\u001b[33m(autoscaler +1h30m4s)\u001b[0m Warning: The following resource request cannot be scheduled right now: {'CPU': 1.0}. This is likely due to all cluster resources being claimed by actors. Consider creating fewer actors or adding more nodes to this Ray cluster.\n"
     ]
    },
    {
     "name": "stderr",
     "output_type": "stream",
     "text": [
      "\u001b[36m(_ray_fit pid=64255)\u001b[0m No improvement since epoch 18: early stopping\n",
      "\u001b[36m(_dystack pid=166)\u001b[0m \t0.8999\t = Validation score   (roc_auc)\n",
      "\u001b[36m(_dystack pid=166)\u001b[0m \t33.18s\t = Training   runtime\n",
      "\u001b[36m(_dystack pid=166)\u001b[0m \t0.21s\t = Validation runtime\n",
      "\u001b[36m(_dystack pid=166)\u001b[0m Fitting model: NeuralNetTorch_r197_BAG_L2 ... Training model for up to 4475.64s of the 4475.16s of remaining time.\n",
      "\u001b[36m(_dystack pid=166)\u001b[0m \tFitting 10 child models (S1F1 - S1F10) | Fitting with ParallelLocalFoldFittingStrategy (4 workers, per: cpus=1, gpus=0, memory=0.02%)\n"
     ]
    },
    {
     "name": "stdout",
     "output_type": "stream",
     "text": [
      "\u001b[33m(autoscaler +1h30m39s)\u001b[0m Warning: The following resource request cannot be scheduled right now: {'CPU': 1.0}. This is likely due to all cluster resources being claimed by actors. Consider creating fewer actors or adding more nodes to this Ray cluster.\n"
     ]
    },
    {
     "name": "stderr",
     "output_type": "stream",
     "text": [
      "\u001b[36m(_dystack pid=166)\u001b[0m \t0.9024\t = Validation score   (roc_auc)\n",
      "\u001b[36m(_dystack pid=166)\u001b[0m \t28.03s\t = Training   runtime\n",
      "\u001b[36m(_dystack pid=166)\u001b[0m \t0.4s\t = Validation runtime\n",
      "\u001b[36m(_dystack pid=166)\u001b[0m Fitting model: CatBoost_r49_BAG_L2 ... Training model for up to 4444.12s of the 4443.64s of remaining time.\n",
      "\u001b[36m(_dystack pid=166)\u001b[0m \tFitting 10 child models (S1F1 - S1F10) | Fitting with ParallelLocalFoldFittingStrategy (4 workers, per: cpus=1, gpus=0, memory=0.06%)\n",
      "\u001b[36m(_dystack pid=166)\u001b[0m \t0.9067\t = Validation score   (roc_auc)\n",
      "\u001b[36m(_dystack pid=166)\u001b[0m \t15.92s\t = Training   runtime\n",
      "\u001b[36m(_dystack pid=166)\u001b[0m \t0.07s\t = Validation runtime\n",
      "\u001b[36m(_dystack pid=166)\u001b[0m Fitting model: ExtraTrees_r49_BAG_L2 ... Training model for up to 4424.78s of the 4424.31s of remaining time.\n",
      "\u001b[36m(_dystack pid=166)\u001b[0m \tForcing `use_child_oof=False` because `groups` is specified\n",
      "\u001b[36m(_dystack pid=166)\u001b[0m \tFitting 10 child models (S1F1 - S1F10) | Fitting with ParallelLocalFoldFittingStrategy (4 workers, per: cpus=1, gpus=0, memory=0.01%)\n"
     ]
    },
    {
     "name": "stdout",
     "output_type": "stream",
     "text": [
      "\u001b[33m(autoscaler +1h31m20s)\u001b[0m Warning: The following resource request cannot be scheduled right now: {'CPU': 1.0}. This is likely due to all cluster resources being claimed by actors. Consider creating fewer actors or adding more nodes to this Ray cluster.\n"
     ]
    },
    {
     "name": "stderr",
     "output_type": "stream",
     "text": [
      "\u001b[36m(_dystack pid=166)\u001b[0m \t0.9007\t = Validation score   (roc_auc)\n",
      "\u001b[36m(_dystack pid=166)\u001b[0m \t15.35s\t = Training   runtime\n",
      "\u001b[36m(_dystack pid=166)\u001b[0m \t1.04s\t = Validation runtime\n",
      "\u001b[36m(_dystack pid=166)\u001b[0m Fitting model: LightGBM_r143_BAG_L2 ... Training model for up to 4405.93s of the 4405.46s of remaining time.\n",
      "\u001b[36m(_dystack pid=166)\u001b[0m \tFitting 10 child models (S1F1 - S1F10) | Fitting with ParallelLocalFoldFittingStrategy (4 workers, per: cpus=1, gpus=0, memory=0.44%)\n"
     ]
    },
    {
     "name": "stdout",
     "output_type": "stream",
     "text": [
      "\u001b[33m(autoscaler +1h31m55s)\u001b[0m Warning: The following resource request cannot be scheduled right now: {'CPU': 1.0}. This is likely due to all cluster resources being claimed by actors. Consider creating fewer actors or adding more nodes to this Ray cluster.\n"
     ]
    },
    {
     "name": "stderr",
     "output_type": "stream",
     "text": [
      "\u001b[36m(_dystack pid=166)\u001b[0m \t0.9004\t = Validation score   (roc_auc)\n",
      "\u001b[36m(_dystack pid=166)\u001b[0m \t22.26s\t = Training   runtime\n",
      "\u001b[36m(_dystack pid=166)\u001b[0m \t0.12s\t = Validation runtime\n",
      "\u001b[36m(_dystack pid=166)\u001b[0m Fitting model: RandomForest_r127_BAG_L2 ... Training model for up to 4380.44s of the 4379.96s of remaining time.\n",
      "\u001b[36m(_dystack pid=166)\u001b[0m \tForcing `use_child_oof=False` because `groups` is specified\n",
      "\u001b[36m(_dystack pid=166)\u001b[0m \tFitting 10 child models (S1F1 - S1F10) | Fitting with ParallelLocalFoldFittingStrategy (4 workers, per: cpus=1, gpus=0, memory=0.01%)\n"
     ]
    },
    {
     "name": "stdout",
     "output_type": "stream",
     "text": [
      "\u001b[33m(autoscaler +1h32m30s)\u001b[0m Warning: The following resource request cannot be scheduled right now: {'CPU': 1.0}. This is likely due to all cluster resources being claimed by actors. Consider creating fewer actors or adding more nodes to this Ray cluster.\n"
     ]
    },
    {
     "name": "stderr",
     "output_type": "stream",
     "text": [
      "\u001b[36m(_dystack pid=166)\u001b[0m \t0.8979\t = Validation score   (roc_auc)\n",
      "\u001b[36m(_dystack pid=166)\u001b[0m \t40.38s\t = Training   runtime\n",
      "\u001b[36m(_dystack pid=166)\u001b[0m \t1.1s\t = Validation runtime\n",
      "\u001b[36m(_dystack pid=166)\u001b[0m Fitting model: NeuralNetFastAI_r134_BAG_L2 ... Training model for up to 4336.53s of the 4336.05s of remaining time.\n",
      "\u001b[36m(_dystack pid=166)\u001b[0m \tFitting 10 child models (S1F1 - S1F10) | Fitting with ParallelLocalFoldFittingStrategy (4 workers, per: cpus=1, gpus=0, memory=0.04%)\n"
     ]
    },
    {
     "name": "stdout",
     "output_type": "stream",
     "text": [
      "\u001b[33m(autoscaler +1h33m5s)\u001b[0m Warning: The following resource request cannot be scheduled right now: {'CPU': 1.0}. This is likely due to all cluster resources being claimed by actors. Consider creating fewer actors or adding more nodes to this Ray cluster.\n"
     ]
    },
    {
     "name": "stderr",
     "output_type": "stream",
     "text": [
      "\u001b[36m(_ray_fit pid=66562)\u001b[0m No improvement since epoch 11: early stopping\n"
     ]
    },
    {
     "name": "stdout",
     "output_type": "stream",
     "text": [
      "\u001b[33m(autoscaler +1h33m40s)\u001b[0m Warning: The following resource request cannot be scheduled right now: {'CPU': 1.0}. This is likely due to all cluster resources being claimed by actors. Consider creating fewer actors or adding more nodes to this Ray cluster.\n"
     ]
    },
    {
     "name": "stderr",
     "output_type": "stream",
     "text": [
      "\u001b[36m(_ray_fit pid=66561)\u001b[0m No improvement since epoch 22: early stopping\n"
     ]
    },
    {
     "name": "stdout",
     "output_type": "stream",
     "text": [
      "\u001b[33m(autoscaler +1h34m15s)\u001b[0m Warning: The following resource request cannot be scheduled right now: {'CPU': 1.0}. This is likely due to all cluster resources being claimed by actors. Consider creating fewer actors or adding more nodes to this Ray cluster.\n"
     ]
    },
    {
     "name": "stderr",
     "output_type": "stream",
     "text": [
      "\u001b[36m(_ray_fit pid=66824)\u001b[0m No improvement since epoch 17: early stopping\n",
      "\u001b[36m(_ray_fit pid=66932)\u001b[0m No improvement since epoch 25: early stopping\n",
      "\u001b[36m(_dystack pid=166)\u001b[0m \t0.9023\t = Validation score   (roc_auc)\n",
      "\u001b[36m(_dystack pid=166)\u001b[0m \t149.54s\t = Training   runtime\n",
      "\u001b[36m(_dystack pid=166)\u001b[0m \t0.46s\t = Validation runtime\n",
      "\u001b[36m(_dystack pid=166)\u001b[0m Fitting model: RandomForest_r34_BAG_L2 ... Training model for up to 4183.72s of the 4183.24s of remaining time.\n",
      "\u001b[36m(_dystack pid=166)\u001b[0m \tForcing `use_child_oof=False` because `groups` is specified\n",
      "\u001b[36m(_dystack pid=166)\u001b[0m \tFitting 10 child models (S1F1 - S1F10) | Fitting with ParallelLocalFoldFittingStrategy (4 workers, per: cpus=1, gpus=0, memory=0.01%)\n"
     ]
    },
    {
     "name": "stdout",
     "output_type": "stream",
     "text": [
      "\u001b[33m(autoscaler +1h35m20s)\u001b[0m Warning: The following resource request cannot be scheduled right now: {'CPU': 1.0}. This is likely due to all cluster resources being claimed by actors. Consider creating fewer actors or adding more nodes to this Ray cluster.\n"
     ]
    },
    {
     "name": "stderr",
     "output_type": "stream",
     "text": [
      "\u001b[36m(_dystack pid=166)\u001b[0m \t0.9007\t = Validation score   (roc_auc)\n",
      "\u001b[36m(_dystack pid=166)\u001b[0m \t22.96s\t = Training   runtime\n",
      "\u001b[36m(_dystack pid=166)\u001b[0m \t1.0s\t = Validation runtime\n",
      "\u001b[36m(_dystack pid=166)\u001b[0m Fitting model: LightGBM_r94_BAG_L2 ... Training model for up to 4157.25s of the 4156.78s of remaining time.\n",
      "\u001b[36m(_dystack pid=166)\u001b[0m \tFitting 10 child models (S1F1 - S1F10) | Fitting with ParallelLocalFoldFittingStrategy (4 workers, per: cpus=1, gpus=0, memory=0.06%)\n"
     ]
    },
    {
     "name": "stdout",
     "output_type": "stream",
     "text": [
      "\u001b[33m(autoscaler +1h35m55s)\u001b[0m Warning: The following resource request cannot be scheduled right now: {'CPU': 1.0}. This is likely due to all cluster resources being claimed by actors. Consider creating fewer actors or adding more nodes to this Ray cluster.\n",
      "\u001b[36m(_ray_fit pid=67628)\u001b[0m [1000]\tvalid_set's binary_logloss: 0.33728\n"
     ]
    },
    {
     "name": "stderr",
     "output_type": "stream",
     "text": [
      "\u001b[36m(_dystack pid=166)\u001b[0m \t0.9047\t = Validation score   (roc_auc)\n",
      "\u001b[36m(_dystack pid=166)\u001b[0m \t14.51s\t = Training   runtime\n",
      "\u001b[36m(_dystack pid=166)\u001b[0m \t0.07s\t = Validation runtime\n",
      "\u001b[36m(_dystack pid=166)\u001b[0m Fitting model: NeuralNetTorch_r143_BAG_L2 ... Training model for up to 4139.41s of the 4138.94s of remaining time.\n",
      "\u001b[36m(_dystack pid=166)\u001b[0m \tFitting 10 child models (S1F1 - S1F10) | Fitting with ParallelLocalFoldFittingStrategy (4 workers, per: cpus=1, gpus=0, memory=0.02%)\n"
     ]
    },
    {
     "name": "stdout",
     "output_type": "stream",
     "text": [
      "\u001b[33m(autoscaler +1h36m30s)\u001b[0m Warning: The following resource request cannot be scheduled right now: {'CPU': 1.0}. This is likely due to all cluster resources being claimed by actors. Consider creating fewer actors or adding more nodes to this Ray cluster.\n"
     ]
    },
    {
     "name": "stderr",
     "output_type": "stream",
     "text": [
      "\u001b[36m(_dystack pid=166)\u001b[0m \t0.9036\t = Validation score   (roc_auc)\n",
      "\u001b[36m(_dystack pid=166)\u001b[0m \t95.44s\t = Training   runtime\n",
      "\u001b[36m(_dystack pid=166)\u001b[0m \t0.33s\t = Validation runtime\n",
      "\u001b[36m(_dystack pid=166)\u001b[0m Fitting model: CatBoost_r128_BAG_L2 ... Training model for up to 4040.41s of the 4039.94s of remaining time.\n",
      "\u001b[36m(_dystack pid=166)\u001b[0m \tFitting 10 child models (S1F1 - S1F10) | Fitting with ParallelLocalFoldFittingStrategy (4 workers, per: cpus=1, gpus=0, memory=0.62%)\n"
     ]
    },
    {
     "name": "stdout",
     "output_type": "stream",
     "text": [
      "\u001b[33m(autoscaler +1h37m46s)\u001b[0m Warning: The following resource request cannot be scheduled right now: {'CPU': 1.0}. This is likely due to all cluster resources being claimed by actors. Consider creating fewer actors or adding more nodes to this Ray cluster.\n",
      "\u001b[33m(autoscaler +1h38m21s)\u001b[0m Warning: The following resource request cannot be scheduled right now: {'CPU': 1.0}. This is likely due to all cluster resources being claimed by actors. Consider creating fewer actors or adding more nodes to this Ray cluster.\n"
     ]
    },
    {
     "name": "stderr",
     "output_type": "stream",
     "text": [
      "\u001b[36m(_dystack pid=166)\u001b[0m \t0.902\t = Validation score   (roc_auc)\n",
      "\u001b[36m(_dystack pid=166)\u001b[0m \t91.33s\t = Training   runtime\n",
      "\u001b[36m(_dystack pid=166)\u001b[0m \t0.06s\t = Validation runtime\n",
      "\u001b[36m(_dystack pid=166)\u001b[0m Fitting model: NeuralNetFastAI_r111_BAG_L2 ... Training model for up to 3945.70s of the 3945.23s of remaining time.\n",
      "\u001b[36m(_dystack pid=166)\u001b[0m \tFitting 10 child models (S1F1 - S1F10) | Fitting with ParallelLocalFoldFittingStrategy (4 workers, per: cpus=1, gpus=0, memory=0.04%)\n"
     ]
    },
    {
     "name": "stdout",
     "output_type": "stream",
     "text": [
      "\u001b[33m(autoscaler +1h39m21s)\u001b[0m Warning: The following resource request cannot be scheduled right now: {'CPU': 1.0}. This is likely due to all cluster resources being claimed by actors. Consider creating fewer actors or adding more nodes to this Ray cluster.\n",
      "\u001b[33m(autoscaler +1h39m56s)\u001b[0m Warning: The following resource request cannot be scheduled right now: {'CPU': 1.0}. This is likely due to all cluster resources being claimed by actors. Consider creating fewer actors or adding more nodes to this Ray cluster.\n"
     ]
    },
    {
     "name": "stderr",
     "output_type": "stream",
     "text": [
      "\u001b[36m(_dystack pid=166)\u001b[0m \t0.903\t = Validation score   (roc_auc)\n",
      "\u001b[36m(_dystack pid=166)\u001b[0m \t67.86s\t = Training   runtime\n",
      "\u001b[36m(_dystack pid=166)\u001b[0m \t0.48s\t = Validation runtime\n",
      "\u001b[36m(_dystack pid=166)\u001b[0m Fitting model: NeuralNetTorch_r31_BAG_L2 ... Training model for up to 3874.57s of the 3874.10s of remaining time.\n",
      "\u001b[36m(_dystack pid=166)\u001b[0m \tFitting 10 child models (S1F1 - S1F10) | Fitting with ParallelLocalFoldFittingStrategy (4 workers, per: cpus=1, gpus=0, memory=0.02%)\n"
     ]
    },
    {
     "name": "stdout",
     "output_type": "stream",
     "text": [
      "\u001b[33m(autoscaler +1h40m31s)\u001b[0m Warning: The following resource request cannot be scheduled right now: {'CPU': 1.0}. This is likely due to all cluster resources being claimed by actors. Consider creating fewer actors or adding more nodes to this Ray cluster.\n"
     ]
    },
    {
     "name": "stderr",
     "output_type": "stream",
     "text": [
      "\u001b[36m(_dystack pid=166)\u001b[0m \t0.8969\t = Validation score   (roc_auc)\n",
      "\u001b[36m(_dystack pid=166)\u001b[0m \t43.49s\t = Training   runtime\n",
      "\u001b[36m(_dystack pid=166)\u001b[0m \t0.32s\t = Validation runtime\n",
      "\u001b[36m(_dystack pid=166)\u001b[0m Fitting model: ExtraTrees_r4_BAG_L2 ... Training model for up to 3827.71s of the 3827.23s of remaining time.\n",
      "\u001b[36m(_dystack pid=166)\u001b[0m \tForcing `use_child_oof=False` because `groups` is specified\n",
      "\u001b[36m(_dystack pid=166)\u001b[0m \tFitting 10 child models (S1F1 - S1F10) | Fitting with ParallelLocalFoldFittingStrategy (4 workers, per: cpus=1, gpus=0, memory=0.01%)\n"
     ]
    },
    {
     "name": "stdout",
     "output_type": "stream",
     "text": [
      "\u001b[33m(autoscaler +1h41m16s)\u001b[0m Warning: The following resource request cannot be scheduled right now: {'CPU': 1.0}. This is likely due to all cluster resources being claimed by actors. Consider creating fewer actors or adding more nodes to this Ray cluster.\n"
     ]
    },
    {
     "name": "stderr",
     "output_type": "stream",
     "text": [
      "\u001b[36m(_dystack pid=166)\u001b[0m \t0.9007\t = Validation score   (roc_auc)\n",
      "\u001b[36m(_dystack pid=166)\u001b[0m \t14.2s\t = Training   runtime\n",
      "\u001b[36m(_dystack pid=166)\u001b[0m \t1.07s\t = Validation runtime\n",
      "\u001b[36m(_dystack pid=166)\u001b[0m Fitting model: NeuralNetFastAI_r65_BAG_L2 ... Training model for up to 3809.96s of the 3809.48s of remaining time.\n",
      "\u001b[36m(_dystack pid=166)\u001b[0m \tFitting 10 child models (S1F1 - S1F10) | Fitting with ParallelLocalFoldFittingStrategy (4 workers, per: cpus=1, gpus=0, memory=0.04%)\n"
     ]
    },
    {
     "name": "stdout",
     "output_type": "stream",
     "text": [
      "\u001b[33m(autoscaler +1h41m51s)\u001b[0m Warning: The following resource request cannot be scheduled right now: {'CPU': 1.0}. This is likely due to all cluster resources being claimed by actors. Consider creating fewer actors or adding more nodes to this Ray cluster.\n"
     ]
    },
    {
     "name": "stderr",
     "output_type": "stream",
     "text": [
      "\u001b[36m(_dystack pid=166)\u001b[0m \t0.8908\t = Validation score   (roc_auc)\n",
      "\u001b[36m(_dystack pid=166)\u001b[0m \t27.05s\t = Training   runtime\n",
      "\u001b[36m(_dystack pid=166)\u001b[0m \t0.21s\t = Validation runtime\n",
      "\u001b[36m(_dystack pid=166)\u001b[0m Fitting model: NeuralNetFastAI_r88_BAG_L2 ... Training model for up to 3779.44s of the 3778.96s of remaining time.\n",
      "\u001b[36m(_dystack pid=166)\u001b[0m \tFitting 10 child models (S1F1 - S1F10) | Fitting with ParallelLocalFoldFittingStrategy (4 workers, per: cpus=1, gpus=0, memory=0.04%)\n",
      "\u001b[36m(_ray_fit pid=70363)\u001b[0m No improvement since epoch 1: early stopping\n",
      "\u001b[36m(_ray_fit pid=70544)\u001b[0m No improvement since epoch 1: early stopping\u001b[32m [repeated 3x across cluster]\u001b[0m\n",
      "\u001b[36m(_dystack pid=166)\u001b[0m \t0.8662\t = Validation score   (roc_auc)\n",
      "\u001b[36m(_dystack pid=166)\u001b[0m \t26.73s\t = Training   runtime\n",
      "\u001b[36m(_dystack pid=166)\u001b[0m \t0.19s\t = Validation runtime\n",
      "\u001b[36m(_dystack pid=166)\u001b[0m Fitting model: LightGBM_r30_BAG_L2 ... Training model for up to 3748.91s of the 3748.44s of remaining time.\n",
      "\u001b[36m(_ray_fit pid=70639)\u001b[0m No improvement since epoch 1: early stopping\u001b[32m [repeated 2x across cluster]\u001b[0m\n",
      "\u001b[36m(_dystack pid=166)\u001b[0m \tFitting 10 child models (S1F1 - S1F10) | Fitting with ParallelLocalFoldFittingStrategy (4 workers, per: cpus=1, gpus=0, memory=0.29%)\n"
     ]
    },
    {
     "name": "stdout",
     "output_type": "stream",
     "text": [
      "\u001b[33m(autoscaler +1h42m36s)\u001b[0m Warning: The following resource request cannot be scheduled right now: {'CPU': 1.0}. This is likely due to all cluster resources being claimed by actors. Consider creating fewer actors or adding more nodes to this Ray cluster.\n",
      "\u001b[36m(_ray_fit pid=70830)\u001b[0m [1000]\tvalid_set's binary_logloss: 0.267845\n",
      "\u001b[36m(_ray_fit pid=70830)\u001b[0m [2000]\tvalid_set's binary_logloss: 0.264825\n",
      "\u001b[36m(_ray_fit pid=70960)\u001b[0m [1000]\tvalid_set's binary_logloss: 0.335016\n"
     ]
    },
    {
     "name": "stderr",
     "output_type": "stream",
     "text": [
      "\u001b[36m(_dystack pid=166)\u001b[0m \t0.9027\t = Validation score   (roc_auc)\n",
      "\u001b[36m(_dystack pid=166)\u001b[0m \t19.64s\t = Training   runtime\n",
      "\u001b[36m(_dystack pid=166)\u001b[0m \t0.23s\t = Validation runtime\n",
      "\u001b[36m(_dystack pid=166)\u001b[0m Fitting model: XGBoost_r49_BAG_L2 ... Training model for up to 3725.55s of the 3725.07s of remaining time.\n",
      "\u001b[36m(_dystack pid=166)\u001b[0m \tFitting 10 child models (S1F1 - S1F10) | Fitting with ParallelLocalFoldFittingStrategy (4 workers, per: cpus=1, gpus=0, memory=0.33%)\n",
      "\u001b[36m(_dystack pid=166)\u001b[0m \t0.9026\t = Validation score   (roc_auc)\n",
      "\u001b[36m(_dystack pid=166)\u001b[0m \t13.59s\t = Training   runtime\n",
      "\u001b[36m(_dystack pid=166)\u001b[0m \t0.1s\t = Validation runtime\n",
      "\u001b[36m(_dystack pid=166)\u001b[0m Fitting model: CatBoost_r5_BAG_L2 ... Training model for up to 3708.63s of the 3708.15s of remaining time.\n",
      "\u001b[36m(_dystack pid=166)\u001b[0m \tFitting 10 child models (S1F1 - S1F10) | Fitting with ParallelLocalFoldFittingStrategy (4 workers, per: cpus=1, gpus=0, memory=0.06%)\n"
     ]
    },
    {
     "name": "stdout",
     "output_type": "stream",
     "text": [
      "\u001b[33m(autoscaler +1h43m16s)\u001b[0m Warning: The following resource request cannot be scheduled right now: {'CPU': 1.0}. This is likely due to all cluster resources being claimed by actors. Consider creating fewer actors or adding more nodes to this Ray cluster.\n"
     ]
    },
    {
     "name": "stderr",
     "output_type": "stream",
     "text": [
      "\u001b[36m(_dystack pid=166)\u001b[0m \t0.9035\t = Validation score   (roc_auc)\n",
      "\u001b[36m(_dystack pid=166)\u001b[0m \t16.07s\t = Training   runtime\n",
      "\u001b[36m(_dystack pid=166)\u001b[0m \t0.06s\t = Validation runtime\n",
      "\u001b[36m(_dystack pid=166)\u001b[0m Fitting model: NeuralNetTorch_r87_BAG_L2 ... Training model for up to 3689.34s of the 3688.86s of remaining time.\n",
      "\u001b[36m(_dystack pid=166)\u001b[0m \tFitting 10 child models (S1F1 - S1F10) | Fitting with ParallelLocalFoldFittingStrategy (4 workers, per: cpus=1, gpus=0, memory=0.02%)\n"
     ]
    },
    {
     "name": "stdout",
     "output_type": "stream",
     "text": [
      "\u001b[33m(autoscaler +1h43m52s)\u001b[0m Warning: The following resource request cannot be scheduled right now: {'CPU': 1.0}. This is likely due to all cluster resources being claimed by actors. Consider creating fewer actors or adding more nodes to this Ray cluster.\n"
     ]
    },
    {
     "name": "stderr",
     "output_type": "stream",
     "text": [
      "\u001b[36m(_dystack pid=166)\u001b[0m \t0.9012\t = Validation score   (roc_auc)\n",
      "\u001b[36m(_dystack pid=166)\u001b[0m \t42.44s\t = Training   runtime\n",
      "\u001b[36m(_dystack pid=166)\u001b[0m \t0.32s\t = Validation runtime\n",
      "\u001b[36m(_dystack pid=166)\u001b[0m Fitting model: NeuralNetTorch_r71_BAG_L2 ... Training model for up to 3643.57s of the 3643.09s of remaining time.\n",
      "\u001b[36m(_dystack pid=166)\u001b[0m \tFitting 10 child models (S1F1 - S1F10) | Fitting with ParallelLocalFoldFittingStrategy (4 workers, per: cpus=1, gpus=0, memory=0.02%)\n"
     ]
    },
    {
     "name": "stdout",
     "output_type": "stream",
     "text": [
      "\u001b[33m(autoscaler +1h44m27s)\u001b[0m Warning: The following resource request cannot be scheduled right now: {'CPU': 1.0}. This is likely due to all cluster resources being claimed by actors. Consider creating fewer actors or adding more nodes to this Ray cluster.\n"
     ]
    },
    {
     "name": "stderr",
     "output_type": "stream",
     "text": [
      "\u001b[36m(_dystack pid=166)\u001b[0m \t0.8967\t = Validation score   (roc_auc)\n",
      "\u001b[36m(_dystack pid=166)\u001b[0m \t32.52s\t = Training   runtime\n",
      "\u001b[36m(_dystack pid=166)\u001b[0m \t0.32s\t = Validation runtime\n",
      "\u001b[36m(_dystack pid=166)\u001b[0m Fitting model: CatBoost_r143_BAG_L2 ... Training model for up to 3607.83s of the 3607.36s of remaining time.\n",
      "\u001b[36m(_dystack pid=166)\u001b[0m \tFitting 10 child models (S1F1 - S1F10) | Fitting with ParallelLocalFoldFittingStrategy (4 workers, per: cpus=1, gpus=0, memory=0.32%)\n"
     ]
    },
    {
     "name": "stdout",
     "output_type": "stream",
     "text": [
      "\u001b[33m(autoscaler +1h45m2s)\u001b[0m Warning: The following resource request cannot be scheduled right now: {'CPU': 1.0}. This is likely due to all cluster resources being claimed by actors. Consider creating fewer actors or adding more nodes to this Ray cluster.\n"
     ]
    },
    {
     "name": "stderr",
     "output_type": "stream",
     "text": [
      "\u001b[36m(_dystack pid=166)\u001b[0m \t0.904\t = Validation score   (roc_auc)\n",
      "\u001b[36m(_dystack pid=166)\u001b[0m \t30.34s\t = Training   runtime\n",
      "\u001b[36m(_dystack pid=166)\u001b[0m \t0.05s\t = Validation runtime\n",
      "\u001b[36m(_dystack pid=166)\u001b[0m Fitting model: ExtraTrees_r178_BAG_L2 ... Training model for up to 3573.61s of the 3573.13s of remaining time.\n",
      "\u001b[36m(_dystack pid=166)\u001b[0m \tForcing `use_child_oof=False` because `groups` is specified\n",
      "\u001b[36m(_dystack pid=166)\u001b[0m \tFitting 10 child models (S1F1 - S1F10) | Fitting with ParallelLocalFoldFittingStrategy (4 workers, per: cpus=1, gpus=0, memory=0.01%)\n"
     ]
    },
    {
     "name": "stdout",
     "output_type": "stream",
     "text": [
      "\u001b[33m(autoscaler +1h45m37s)\u001b[0m Warning: The following resource request cannot be scheduled right now: {'CPU': 1.0}. This is likely due to all cluster resources being claimed by actors. Consider creating fewer actors or adding more nodes to this Ray cluster.\n"
     ]
    },
    {
     "name": "stderr",
     "output_type": "stream",
     "text": [
      "\u001b[36m(_dystack pid=166)\u001b[0m \t0.9004\t = Validation score   (roc_auc)\n",
      "\u001b[36m(_dystack pid=166)\u001b[0m \t16.1s\t = Training   runtime\n",
      "\u001b[36m(_dystack pid=166)\u001b[0m \t1.01s\t = Validation runtime\n",
      "\u001b[36m(_dystack pid=166)\u001b[0m Fitting model: RandomForest_r166_BAG_L2 ... Training model for up to 3554.12s of the 3553.64s of remaining time.\n",
      "\u001b[36m(_dystack pid=166)\u001b[0m \tForcing `use_child_oof=False` because `groups` is specified\n",
      "\u001b[36m(_dystack pid=166)\u001b[0m \tFitting 10 child models (S1F1 - S1F10) | Fitting with ParallelLocalFoldFittingStrategy (4 workers, per: cpus=1, gpus=0, memory=0.01%)\n",
      "\u001b[36m(_dystack pid=166)\u001b[0m \t0.8968\t = Validation score   (roc_auc)\n",
      "\u001b[36m(_dystack pid=166)\u001b[0m \t23.12s\t = Training   runtime\n",
      "\u001b[36m(_dystack pid=166)\u001b[0m \t1.26s\t = Validation runtime\n",
      "\u001b[36m(_dystack pid=166)\u001b[0m Fitting model: XGBoost_r31_BAG_L2 ... Training model for up to 3527.57s of the 3527.10s of remaining time.\n",
      "\u001b[36m(_dystack pid=166)\u001b[0m \tFitting 10 child models (S1F1 - S1F10) | Fitting with ParallelLocalFoldFittingStrategy (4 workers, per: cpus=1, gpus=0, memory=0.18%)\n"
     ]
    },
    {
     "name": "stdout",
     "output_type": "stream",
     "text": [
      "\u001b[33m(autoscaler +1h46m17s)\u001b[0m Warning: The following resource request cannot be scheduled right now: {'CPU': 1.0}. This is likely due to all cluster resources being claimed by actors. Consider creating fewer actors or adding more nodes to this Ray cluster.\n"
     ]
    },
    {
     "name": "stderr",
     "output_type": "stream",
     "text": [
      "\u001b[36m(_dystack pid=166)\u001b[0m \t0.9027\t = Validation score   (roc_auc)\n",
      "\u001b[36m(_dystack pid=166)\u001b[0m \t14.8s\t = Training   runtime\n",
      "\u001b[36m(_dystack pid=166)\u001b[0m \t0.13s\t = Validation runtime\n",
      "\u001b[36m(_dystack pid=166)\u001b[0m Fitting model: NeuralNetTorch_r185_BAG_L2 ... Training model for up to 3509.40s of the 3508.93s of remaining time.\n",
      "\u001b[36m(_dystack pid=166)\u001b[0m \tFitting 10 child models (S1F1 - S1F10) | Fitting with ParallelLocalFoldFittingStrategy (4 workers, per: cpus=1, gpus=0, memory=0.02%)\n"
     ]
    },
    {
     "name": "stdout",
     "output_type": "stream",
     "text": [
      "\u001b[33m(autoscaler +1h46m52s)\u001b[0m Warning: The following resource request cannot be scheduled right now: {'CPU': 1.0}. This is likely due to all cluster resources being claimed by actors. Consider creating fewer actors or adding more nodes to this Ray cluster.\n"
     ]
    },
    {
     "name": "stderr",
     "output_type": "stream",
     "text": [
      "\u001b[36m(_dystack pid=166)\u001b[0m \t0.901\t = Validation score   (roc_auc)\n",
      "\u001b[36m(_dystack pid=166)\u001b[0m \t43.69s\t = Training   runtime\n",
      "\u001b[36m(_dystack pid=166)\u001b[0m \t0.35s\t = Validation runtime\n",
      "\u001b[36m(_dystack pid=166)\u001b[0m Fitting model: NeuralNetFastAI_r160_BAG_L2 ... Training model for up to 3461.97s of the 3461.50s of remaining time.\n",
      "\u001b[36m(_dystack pid=166)\u001b[0m \tFitting 10 child models (S1F1 - S1F10) | Fitting with ParallelLocalFoldFittingStrategy (4 workers, per: cpus=1, gpus=0, memory=0.04%)\n"
     ]
    },
    {
     "name": "stdout",
     "output_type": "stream",
     "text": [
      "\u001b[33m(autoscaler +1h47m27s)\u001b[0m Warning: The following resource request cannot be scheduled right now: {'CPU': 1.0}. This is likely due to all cluster resources being claimed by actors. Consider creating fewer actors or adding more nodes to this Ray cluster.\n"
     ]
    },
    {
     "name": "stderr",
     "output_type": "stream",
     "text": [
      "\u001b[36m(_dystack pid=166)\u001b[0m \t0.8987\t = Validation score   (roc_auc)\n",
      "\u001b[36m(_dystack pid=166)\u001b[0m \t36.84s\t = Training   runtime\n",
      "\u001b[36m(_dystack pid=166)\u001b[0m \t0.31s\t = Validation runtime\n",
      "\u001b[36m(_dystack pid=166)\u001b[0m Fitting model: CatBoost_r60_BAG_L2 ... Training model for up to 3421.40s of the 3420.92s of remaining time.\n",
      "\u001b[36m(_dystack pid=166)\u001b[0m \tFitting 10 child models (S1F1 - S1F10) | Fitting with ParallelLocalFoldFittingStrategy (4 workers, per: cpus=1, gpus=0, memory=0.10%)\n"
     ]
    },
    {
     "name": "stdout",
     "output_type": "stream",
     "text": [
      "\u001b[33m(autoscaler +1h48m2s)\u001b[0m Warning: The following resource request cannot be scheduled right now: {'CPU': 1.0}. This is likely due to all cluster resources being claimed by actors. Consider creating fewer actors or adding more nodes to this Ray cluster.\n"
     ]
    },
    {
     "name": "stderr",
     "output_type": "stream",
     "text": [
      "\u001b[36m(_dystack pid=166)\u001b[0m \t0.9061\t = Validation score   (roc_auc)\n",
      "\u001b[36m(_dystack pid=166)\u001b[0m \t19.21s\t = Training   runtime\n",
      "\u001b[36m(_dystack pid=166)\u001b[0m \t0.05s\t = Validation runtime\n",
      "\u001b[36m(_dystack pid=166)\u001b[0m Fitting model: RandomForest_r15_BAG_L2 ... Training model for up to 3398.45s of the 3397.98s of remaining time.\n",
      "\u001b[36m(_dystack pid=166)\u001b[0m \tForcing `use_child_oof=False` because `groups` is specified\n",
      "\u001b[36m(_dystack pid=166)\u001b[0m \tFitting 10 child models (S1F1 - S1F10) | Fitting with ParallelLocalFoldFittingStrategy (4 workers, per: cpus=1, gpus=0, memory=0.01%)\n"
     ]
    },
    {
     "name": "stdout",
     "output_type": "stream",
     "text": [
      "\u001b[33m(autoscaler +1h48m37s)\u001b[0m Warning: The following resource request cannot be scheduled right now: {'CPU': 1.0}. This is likely due to all cluster resources being claimed by actors. Consider creating fewer actors or adding more nodes to this Ray cluster.\n"
     ]
    },
    {
     "name": "stderr",
     "output_type": "stream",
     "text": [
      "\u001b[36m(_dystack pid=166)\u001b[0m \t0.8969\t = Validation score   (roc_auc)\n",
      "\u001b[36m(_dystack pid=166)\u001b[0m \t35.69s\t = Training   runtime\n",
      "\u001b[36m(_dystack pid=166)\u001b[0m \t1.35s\t = Validation runtime\n",
      "\u001b[36m(_dystack pid=166)\u001b[0m Fitting model: LightGBM_r135_BAG_L2 ... Training model for up to 3359.40s of the 3358.92s of remaining time.\n",
      "\u001b[36m(_dystack pid=166)\u001b[0m \tFitting 10 child models (S1F1 - S1F10) | Fitting with ParallelLocalFoldFittingStrategy (4 workers, per: cpus=1, gpus=0, memory=0.51%)\n"
     ]
    },
    {
     "name": "stdout",
     "output_type": "stream",
     "text": [
      "\u001b[33m(autoscaler +1h49m12s)\u001b[0m Warning: The following resource request cannot be scheduled right now: {'CPU': 1.0}. This is likely due to all cluster resources being claimed by actors. Consider creating fewer actors or adding more nodes to this Ray cluster.\n"
     ]
    },
    {
     "name": "stderr",
     "output_type": "stream",
     "text": [
      "\u001b[36m(_dystack pid=166)\u001b[0m \t0.9018\t = Validation score   (roc_auc)\n",
      "\u001b[36m(_dystack pid=166)\u001b[0m \t17.45s\t = Training   runtime\n",
      "\u001b[36m(_dystack pid=166)\u001b[0m \t0.07s\t = Validation runtime\n",
      "\u001b[36m(_dystack pid=166)\u001b[0m Fitting model: XGBoost_r22_BAG_L2 ... Training model for up to 3338.63s of the 3338.15s of remaining time.\n",
      "\u001b[36m(_dystack pid=166)\u001b[0m \tFitting 10 child models (S1F1 - S1F10) | Fitting with ParallelLocalFoldFittingStrategy (4 workers, per: cpus=1, gpus=0, memory=0.18%)\n",
      "\u001b[36m(_dystack pid=166)\u001b[0m \t0.9026\t = Validation score   (roc_auc)\n",
      "\u001b[36m(_dystack pid=166)\u001b[0m \t10.87s\t = Training   runtime\n",
      "\u001b[36m(_dystack pid=166)\u001b[0m \t0.08s\t = Validation runtime\n",
      "\u001b[36m(_dystack pid=166)\u001b[0m Fitting model: NeuralNetFastAI_r69_BAG_L2 ... Training model for up to 3324.30s of the 3323.82s of remaining time.\n",
      "\u001b[36m(_dystack pid=166)\u001b[0m \tFitting 10 child models (S1F1 - S1F10) | Fitting with ParallelLocalFoldFittingStrategy (4 workers, per: cpus=1, gpus=0, memory=0.04%)\n"
     ]
    },
    {
     "name": "stdout",
     "output_type": "stream",
     "text": [
      "\u001b[33m(autoscaler +1h49m48s)\u001b[0m Warning: The following resource request cannot be scheduled right now: {'CPU': 1.0}. This is likely due to all cluster resources being claimed by actors. Consider creating fewer actors or adding more nodes to this Ray cluster.\n"
     ]
    },
    {
     "name": "stderr",
     "output_type": "stream",
     "text": [
      "\u001b[36m(_dystack pid=166)\u001b[0m \t0.902\t = Validation score   (roc_auc)\n",
      "\u001b[36m(_dystack pid=166)\u001b[0m \t35.06s\t = Training   runtime\n",
      "\u001b[36m(_dystack pid=166)\u001b[0m \t0.22s\t = Validation runtime\n",
      "\u001b[36m(_dystack pid=166)\u001b[0m Fitting model: CatBoost_r6_BAG_L2 ... Training model for up to 3285.99s of the 3285.51s of remaining time.\n",
      "\u001b[36m(_dystack pid=166)\u001b[0m \tFitting 10 child models (S1F1 - S1F10) | Fitting with ParallelLocalFoldFittingStrategy (4 workers, per: cpus=1, gpus=0, memory=0.06%)\n"
     ]
    },
    {
     "name": "stdout",
     "output_type": "stream",
     "text": [
      "\u001b[33m(autoscaler +1h50m23s)\u001b[0m Warning: The following resource request cannot be scheduled right now: {'CPU': 1.0}. This is likely due to all cluster resources being claimed by actors. Consider creating fewer actors or adding more nodes to this Ray cluster.\n"
     ]
    },
    {
     "name": "stderr",
     "output_type": "stream",
     "text": [
      "\u001b[36m(_dystack pid=166)\u001b[0m \t0.9062\t = Validation score   (roc_auc)\n",
      "\u001b[36m(_dystack pid=166)\u001b[0m \t20.93s\t = Training   runtime\n",
      "\u001b[36m(_dystack pid=166)\u001b[0m \t0.05s\t = Validation runtime\n",
      "\u001b[36m(_dystack pid=166)\u001b[0m Fitting model: NeuralNetFastAI_r138_BAG_L2 ... Training model for up to 3261.61s of the 3261.13s of remaining time.\n",
      "\u001b[36m(_dystack pid=166)\u001b[0m \tFitting 10 child models (S1F1 - S1F10) | Fitting with ParallelLocalFoldFittingStrategy (4 workers, per: cpus=1, gpus=0, memory=0.04%)\n"
     ]
    },
    {
     "name": "stdout",
     "output_type": "stream",
     "text": [
      "\u001b[33m(autoscaler +1h50m58s)\u001b[0m Warning: The following resource request cannot be scheduled right now: {'CPU': 1.0}. This is likely due to all cluster resources being claimed by actors. Consider creating fewer actors or adding more nodes to this Ray cluster.\n"
     ]
    },
    {
     "name": "stderr",
     "output_type": "stream",
     "text": [
      "\u001b[36m(_ray_fit pid=77473)\u001b[0m No improvement since epoch 10: early stopping\n",
      "\u001b[36m(_ray_fit pid=77474)\u001b[0m No improvement since epoch 22: early stopping\u001b[32m [repeated 3x across cluster]\u001b[0m\n",
      "\u001b[36m(_ray_fit pid=77655)\u001b[0m No improvement since epoch 10: early stopping\n",
      "\u001b[36m(_ray_fit pid=77657)\u001b[0m No improvement since epoch 8: early stopping\n",
      "\u001b[36m(_ray_fit pid=77748)\u001b[0m No improvement since epoch 12: early stopping\n",
      "\u001b[36m(_ray_fit pid=77718)\u001b[0m No improvement since epoch 23: early stopping\n",
      "\u001b[36m(_ray_fit pid=77839)\u001b[0m No improvement since epoch 11: early stopping\n",
      "\u001b[36m(_ray_fit pid=77871)\u001b[0m No improvement since epoch 10: early stopping\n",
      "\u001b[36m(_dystack pid=166)\u001b[0m \t0.8948\t = Validation score   (roc_auc)\n",
      "\u001b[36m(_dystack pid=166)\u001b[0m \t55.12s\t = Training   runtime\n",
      "\u001b[36m(_dystack pid=166)\u001b[0m \t0.28s\t = Validation runtime\n",
      "\u001b[36m(_dystack pid=166)\u001b[0m Fitting model: LightGBM_r121_BAG_L2 ... Training model for up to 3203.20s of the 3202.72s of remaining time.\n",
      "\u001b[36m(_dystack pid=166)\u001b[0m \tFitting 10 child models (S1F1 - S1F10) | Fitting with ParallelLocalFoldFittingStrategy (4 workers, per: cpus=1, gpus=0, memory=0.53%)\n"
     ]
    },
    {
     "name": "stdout",
     "output_type": "stream",
     "text": [
      "\u001b[33m(autoscaler +1h51m43s)\u001b[0m Warning: The following resource request cannot be scheduled right now: {'CPU': 1.0}. This is likely due to all cluster resources being claimed by actors. Consider creating fewer actors or adding more nodes to this Ray cluster.\n"
     ]
    },
    {
     "name": "stderr",
     "output_type": "stream",
     "text": [
      "\u001b[36m(_dystack pid=166)\u001b[0m \t0.902\t = Validation score   (roc_auc)\n",
      "\u001b[36m(_dystack pid=166)\u001b[0m \t26.12s\t = Training   runtime\n",
      "\u001b[36m(_dystack pid=166)\u001b[0m \t0.2s\t = Validation runtime\n",
      "\u001b[36m(_dystack pid=166)\u001b[0m Fitting model: NeuralNetFastAI_r172_BAG_L2 ... Training model for up to 3173.47s of the 3172.99s of remaining time.\n",
      "\u001b[36m(_dystack pid=166)\u001b[0m \tFitting 10 child models (S1F1 - S1F10) | Fitting with ParallelLocalFoldFittingStrategy (4 workers, per: cpus=1, gpus=0, memory=0.04%)\n"
     ]
    },
    {
     "name": "stdout",
     "output_type": "stream",
     "text": [
      "\u001b[33m(autoscaler +1h52m18s)\u001b[0m Warning: The following resource request cannot be scheduled right now: {'CPU': 1.0}. This is likely due to all cluster resources being claimed by actors. Consider creating fewer actors or adding more nodes to this Ray cluster.\n"
     ]
    },
    {
     "name": "stderr",
     "output_type": "stream",
     "text": [
      "\u001b[36m(_ray_fit pid=78459)\u001b[0m No improvement since epoch 11: early stopping\n",
      "\u001b[36m(_ray_fit pid=78647)\u001b[0m No improvement since epoch 11: early stopping\u001b[32m [repeated 3x across cluster]\u001b[0m\n",
      "\u001b[36m(_dystack pid=166)\u001b[0m \t0.8982\t = Validation score   (roc_auc)\n",
      "\u001b[36m(_dystack pid=166)\u001b[0m \t28.25s\t = Training   runtime\n",
      "\u001b[36m(_dystack pid=166)\u001b[0m \t0.29s\t = Validation runtime\n",
      "\u001b[36m(_dystack pid=166)\u001b[0m Fitting model: CatBoost_r180_BAG_L2 ... Training model for up to 3141.90s of the 3141.43s of remaining time.\n",
      "\u001b[36m(_dystack pid=166)\u001b[0m \tFitting 10 child models (S1F1 - S1F10) | Fitting with ParallelLocalFoldFittingStrategy (4 workers, per: cpus=1, gpus=0, memory=0.32%)\n"
     ]
    },
    {
     "name": "stdout",
     "output_type": "stream",
     "text": [
      "\u001b[33m(autoscaler +1h52m53s)\u001b[0m Warning: The following resource request cannot be scheduled right now: {'CPU': 1.0}. This is likely due to all cluster resources being claimed by actors. Consider creating fewer actors or adding more nodes to this Ray cluster.\n",
      "\u001b[33m(autoscaler +1h53m28s)\u001b[0m Warning: The following resource request cannot be scheduled right now: {'CPU': 1.0}. This is likely due to all cluster resources being claimed by actors. Consider creating fewer actors or adding more nodes to this Ray cluster.\n"
     ]
    },
    {
     "name": "stderr",
     "output_type": "stream",
     "text": [
      "\u001b[36m(_dystack pid=166)\u001b[0m \t0.9068\t = Validation score   (roc_auc)\n",
      "\u001b[36m(_dystack pid=166)\u001b[0m \t64.77s\t = Training   runtime\n",
      "\u001b[36m(_dystack pid=166)\u001b[0m \t0.05s\t = Validation runtime\n",
      "\u001b[36m(_dystack pid=166)\u001b[0m Fitting model: NeuralNetTorch_r76_BAG_L2 ... Training model for up to 3073.69s of the 3073.22s of remaining time.\n",
      "\u001b[36m(_dystack pid=166)\u001b[0m \tFitting 10 child models (S1F1 - S1F10) | Fitting with ParallelLocalFoldFittingStrategy (4 workers, per: cpus=1, gpus=0, memory=0.02%)\n"
     ]
    },
    {
     "name": "stdout",
     "output_type": "stream",
     "text": [
      "\u001b[33m(autoscaler +1h54m3s)\u001b[0m Warning: The following resource request cannot be scheduled right now: {'CPU': 1.0}. This is likely due to all cluster resources being claimed by actors. Consider creating fewer actors or adding more nodes to this Ray cluster.\n"
     ]
    },
    {
     "name": "stderr",
     "output_type": "stream",
     "text": [
      "\u001b[36m(_dystack pid=166)\u001b[0m \t0.9019\t = Validation score   (roc_auc)\n",
      "\u001b[36m(_dystack pid=166)\u001b[0m \t29.98s\t = Training   runtime\n",
      "\u001b[36m(_dystack pid=166)\u001b[0m \t0.33s\t = Validation runtime\n",
      "\u001b[36m(_dystack pid=166)\u001b[0m Fitting model: ExtraTrees_r197_BAG_L2 ... Training model for up to 3040.51s of the 3040.04s of remaining time.\n",
      "\u001b[36m(_dystack pid=166)\u001b[0m \tForcing `use_child_oof=False` because `groups` is specified\n",
      "\u001b[36m(_dystack pid=166)\u001b[0m \tFitting 10 child models (S1F1 - S1F10) | Fitting with ParallelLocalFoldFittingStrategy (4 workers, per: cpus=1, gpus=0, memory=0.01%)\n"
     ]
    },
    {
     "name": "stdout",
     "output_type": "stream",
     "text": [
      "\u001b[33m(autoscaler +1h54m38s)\u001b[0m Warning: The following resource request cannot be scheduled right now: {'CPU': 1.0}. This is likely due to all cluster resources being claimed by actors. Consider creating fewer actors or adding more nodes to this Ray cluster.\n"
     ]
    },
    {
     "name": "stderr",
     "output_type": "stream",
     "text": [
      "\u001b[36m(_dystack pid=166)\u001b[0m \t0.8983\t = Validation score   (roc_auc)\n",
      "\u001b[36m(_dystack pid=166)\u001b[0m \t19.06s\t = Training   runtime\n",
      "\u001b[36m(_dystack pid=166)\u001b[0m \t1.02s\t = Validation runtime\n",
      "\u001b[36m(_dystack pid=166)\u001b[0m Fitting model: NeuralNetTorch_r121_BAG_L2 ... Training model for up to 3017.62s of the 3017.14s of remaining time.\n",
      "\u001b[36m(_dystack pid=166)\u001b[0m \tFitting 10 child models (S1F1 - S1F10) | Fitting with ParallelLocalFoldFittingStrategy (4 workers, per: cpus=1, gpus=0, memory=0.02%)\n"
     ]
    },
    {
     "name": "stdout",
     "output_type": "stream",
     "text": [
      "\u001b[33m(autoscaler +1h55m13s)\u001b[0m Warning: The following resource request cannot be scheduled right now: {'CPU': 1.0}. This is likely due to all cluster resources being claimed by actors. Consider creating fewer actors or adding more nodes to this Ray cluster.\n"
     ]
    },
    {
     "name": "stderr",
     "output_type": "stream",
     "text": [
      "\u001b[36m(_dystack pid=166)\u001b[0m \t0.8987\t = Validation score   (roc_auc)\n",
      "\u001b[36m(_dystack pid=166)\u001b[0m \t83.07s\t = Training   runtime\n",
      "\u001b[36m(_dystack pid=166)\u001b[0m \t0.34s\t = Validation runtime\n",
      "\u001b[36m(_dystack pid=166)\u001b[0m Fitting model: NeuralNetFastAI_r127_BAG_L2 ... Training model for up to 2931.39s of the 2930.92s of remaining time.\n",
      "\u001b[36m(_dystack pid=166)\u001b[0m \tFitting 10 child models (S1F1 - S1F10) | Fitting with ParallelLocalFoldFittingStrategy (4 workers, per: cpus=1, gpus=0, memory=0.04%)\n"
     ]
    },
    {
     "name": "stdout",
     "output_type": "stream",
     "text": [
      "\u001b[33m(autoscaler +1h56m13s)\u001b[0m Warning: The following resource request cannot be scheduled right now: {'CPU': 1.0}. This is likely due to all cluster resources being claimed by actors. Consider creating fewer actors or adding more nodes to this Ray cluster.\n"
     ]
    },
    {
     "name": "stderr",
     "output_type": "stream",
     "text": [
      "\u001b[36m(_dystack pid=166)\u001b[0m \t0.8929\t = Validation score   (roc_auc)\n",
      "\u001b[36m(_dystack pid=166)\u001b[0m \t25.29s\t = Training   runtime\n",
      "\u001b[36m(_dystack pid=166)\u001b[0m \t0.18s\t = Validation runtime\n",
      "\u001b[36m(_dystack pid=166)\u001b[0m Fitting model: RandomForest_r16_BAG_L2 ... Training model for up to 2902.69s of the 2902.22s of remaining time.\n",
      "\u001b[36m(_dystack pid=166)\u001b[0m \tForcing `use_child_oof=False` because `groups` is specified\n",
      "\u001b[36m(_dystack pid=166)\u001b[0m \tFitting 10 child models (S1F1 - S1F10) | Fitting with ParallelLocalFoldFittingStrategy (4 workers, per: cpus=1, gpus=0, memory=0.01%)\n"
     ]
    },
    {
     "name": "stdout",
     "output_type": "stream",
     "text": [
      "\u001b[33m(autoscaler +1h56m49s)\u001b[0m Warning: The following resource request cannot be scheduled right now: {'CPU': 1.0}. This is likely due to all cluster resources being claimed by actors. Consider creating fewer actors or adding more nodes to this Ray cluster.\n"
     ]
    },
    {
     "name": "stderr",
     "output_type": "stream",
     "text": [
      "\u001b[36m(_dystack pid=166)\u001b[0m \t0.8946\t = Validation score   (roc_auc)\n",
      "\u001b[36m(_dystack pid=166)\u001b[0m \t50.57s\t = Training   runtime\n",
      "\u001b[36m(_dystack pid=166)\u001b[0m \t1.23s\t = Validation runtime\n",
      "\u001b[36m(_dystack pid=166)\u001b[0m Fitting model: NeuralNetFastAI_r194_BAG_L2 ... Training model for up to 2848.52s of the 2848.04s of remaining time.\n",
      "\u001b[36m(_dystack pid=166)\u001b[0m \tFitting 10 child models (S1F1 - S1F10) | Fitting with ParallelLocalFoldFittingStrategy (4 workers, per: cpus=1, gpus=0, memory=0.04%)\n"
     ]
    },
    {
     "name": "stdout",
     "output_type": "stream",
     "text": [
      "\u001b[33m(autoscaler +1h57m34s)\u001b[0m Warning: The following resource request cannot be scheduled right now: {'CPU': 1.0}. This is likely due to all cluster resources being claimed by actors. Consider creating fewer actors or adding more nodes to this Ray cluster.\n"
     ]
    },
    {
     "name": "stderr",
     "output_type": "stream",
     "text": [
      "\u001b[36m(_dystack pid=166)\u001b[0m \t0.8942\t = Validation score   (roc_auc)\n",
      "\u001b[36m(_dystack pid=166)\u001b[0m \t30.51s\t = Training   runtime\n",
      "\u001b[36m(_dystack pid=166)\u001b[0m \t0.28s\t = Validation runtime\n",
      "\u001b[36m(_dystack pid=166)\u001b[0m Fitting model: CatBoost_r12_BAG_L2 ... Training model for up to 2814.79s of the 2814.31s of remaining time.\n",
      "\u001b[36m(_dystack pid=166)\u001b[0m \tFitting 10 child models (S1F1 - S1F10) | Fitting with ParallelLocalFoldFittingStrategy (4 workers, per: cpus=1, gpus=0, memory=0.33%)\n"
     ]
    },
    {
     "name": "stdout",
     "output_type": "stream",
     "text": [
      "\u001b[33m(autoscaler +1h58m9s)\u001b[0m Warning: The following resource request cannot be scheduled right now: {'CPU': 1.0}. This is likely due to all cluster resources being claimed by actors. Consider creating fewer actors or adding more nodes to this Ray cluster.\n"
     ]
    },
    {
     "name": "stderr",
     "output_type": "stream",
     "text": [
      "\u001b[36m(_dystack pid=166)\u001b[0m \t0.9046\t = Validation score   (roc_auc)\n",
      "\u001b[36m(_dystack pid=166)\u001b[0m \t42.53s\t = Training   runtime\n",
      "\u001b[36m(_dystack pid=166)\u001b[0m \t0.06s\t = Validation runtime\n",
      "\u001b[36m(_dystack pid=166)\u001b[0m Fitting model: NeuralNetTorch_r135_BAG_L2 ... Training model for up to 2768.67s of the 2768.19s of remaining time.\n",
      "\u001b[36m(_dystack pid=166)\u001b[0m \tFitting 10 child models (S1F1 - S1F10) | Fitting with ParallelLocalFoldFittingStrategy (4 workers, per: cpus=1, gpus=0, memory=0.02%)\n"
     ]
    },
    {
     "name": "stdout",
     "output_type": "stream",
     "text": [
      "\u001b[33m(autoscaler +1h58m54s)\u001b[0m Warning: The following resource request cannot be scheduled right now: {'CPU': 1.0}. This is likely due to all cluster resources being claimed by actors. Consider creating fewer actors or adding more nodes to this Ray cluster.\n",
      "\u001b[33m(autoscaler +1h59m29s)\u001b[0m Warning: The following resource request cannot be scheduled right now: {'CPU': 1.0}. This is likely due to all cluster resources being claimed by actors. Consider creating fewer actors or adding more nodes to this Ray cluster.\n"
     ]
    },
    {
     "name": "stderr",
     "output_type": "stream",
     "text": [
      "\u001b[36m(_dystack pid=166)\u001b[0m \t0.9063\t = Validation score   (roc_auc)\n",
      "\u001b[36m(_dystack pid=166)\u001b[0m \t63.1s\t = Training   runtime\n",
      "\u001b[36m(_dystack pid=166)\u001b[0m \t0.35s\t = Validation runtime\n",
      "\u001b[36m(_dystack pid=166)\u001b[0m Fitting model: NeuralNetFastAI_r4_BAG_L2 ... Training model for up to 2702.28s of the 2701.80s of remaining time.\n",
      "\u001b[36m(_dystack pid=166)\u001b[0m \tFitting 10 child models (S1F1 - S1F10) | Fitting with ParallelLocalFoldFittingStrategy (4 workers, per: cpus=1, gpus=0, memory=0.04%)\n"
     ]
    },
    {
     "name": "stdout",
     "output_type": "stream",
     "text": [
      "\u001b[33m(autoscaler +2h4s)\u001b[0m Warning: The following resource request cannot be scheduled right now: {'CPU': 1.0}. This is likely due to all cluster resources being claimed by actors. Consider creating fewer actors or adding more nodes to this Ray cluster.\n"
     ]
    },
    {
     "name": "stderr",
     "output_type": "stream",
     "text": [
      "\u001b[36m(_ray_fit pid=82481)\u001b[0m No improvement since epoch 18: early stopping\n",
      "\u001b[36m(_ray_fit pid=82665)\u001b[0m No improvement since epoch 13: early stopping\u001b[32m [repeated 2x across cluster]\u001b[0m\n",
      "\u001b[36m(_dystack pid=166)\u001b[0m \t0.9017\t = Validation score   (roc_auc)\n",
      "\u001b[36m(_dystack pid=166)\u001b[0m \t30.66s\t = Training   runtime\n",
      "\u001b[36m(_dystack pid=166)\u001b[0m \t0.19s\t = Validation runtime\n",
      "\u001b[36m(_dystack pid=166)\u001b[0m Fitting model: ExtraTrees_r126_BAG_L2 ... Training model for up to 2668.33s of the 2667.85s of remaining time.\n",
      "\u001b[36m(_ray_fit pid=82667)\u001b[0m No improvement since epoch 18: early stopping\u001b[32m [repeated 3x across cluster]\u001b[0m\n",
      "\u001b[36m(_dystack pid=166)\u001b[0m \tForcing `use_child_oof=False` because `groups` is specified\n",
      "\u001b[36m(_dystack pid=166)\u001b[0m \tFitting 10 child models (S1F1 - S1F10) | Fitting with ParallelLocalFoldFittingStrategy (4 workers, per: cpus=1, gpus=0, memory=0.01%)\n"
     ]
    },
    {
     "name": "stdout",
     "output_type": "stream",
     "text": [
      "\u001b[33m(autoscaler +2h39s)\u001b[0m Warning: The following resource request cannot be scheduled right now: {'CPU': 1.0}. This is likely due to all cluster resources being claimed by actors. Consider creating fewer actors or adding more nodes to this Ray cluster.\n"
     ]
    },
    {
     "name": "stderr",
     "output_type": "stream",
     "text": [
      "\u001b[36m(_dystack pid=166)\u001b[0m \t0.9014\t = Validation score   (roc_auc)\n",
      "\u001b[36m(_dystack pid=166)\u001b[0m \t15.79s\t = Training   runtime\n",
      "\u001b[36m(_dystack pid=166)\u001b[0m \t1.01s\t = Validation runtime\n",
      "\u001b[36m(_dystack pid=166)\u001b[0m Fitting model: NeuralNetTorch_r36_BAG_L2 ... Training model for up to 2648.91s of the 2648.43s of remaining time.\n",
      "\u001b[36m(_dystack pid=166)\u001b[0m \tFitting 10 child models (S1F1 - S1F10) | Fitting with ParallelLocalFoldFittingStrategy (4 workers, per: cpus=1, gpus=0, memory=0.02%)\n"
     ]
    },
    {
     "name": "stdout",
     "output_type": "stream",
     "text": [
      "\u001b[33m(autoscaler +2h1m14s)\u001b[0m Warning: The following resource request cannot be scheduled right now: {'CPU': 1.0}. This is likely due to all cluster resources being claimed by actors. Consider creating fewer actors or adding more nodes to this Ray cluster.\n"
     ]
    },
    {
     "name": "stderr",
     "output_type": "stream",
     "text": [
      "\u001b[36m(_dystack pid=166)\u001b[0m \t0.9003\t = Validation score   (roc_auc)\n",
      "\u001b[36m(_dystack pid=166)\u001b[0m \t47.63s\t = Training   runtime\n",
      "\u001b[36m(_dystack pid=166)\u001b[0m \t0.3s\t = Validation runtime\n",
      "\u001b[36m(_dystack pid=166)\u001b[0m Fitting model: NeuralNetFastAI_r100_BAG_L2 ... Training model for up to 2598.01s of the 2597.53s of remaining time.\n",
      "\u001b[36m(_dystack pid=166)\u001b[0m \tFitting 10 child models (S1F1 - S1F10) | Fitting with ParallelLocalFoldFittingStrategy (4 workers, per: cpus=1, gpus=0, memory=0.04%)\n"
     ]
    },
    {
     "name": "stdout",
     "output_type": "stream",
     "text": [
      "\u001b[33m(autoscaler +2h1m49s)\u001b[0m Warning: The following resource request cannot be scheduled right now: {'CPU': 1.0}. This is likely due to all cluster resources being claimed by actors. Consider creating fewer actors or adding more nodes to this Ray cluster.\n",
      "\u001b[33m(autoscaler +2h2m24s)\u001b[0m Warning: The following resource request cannot be scheduled right now: {'CPU': 1.0}. This is likely due to all cluster resources being claimed by actors. Consider creating fewer actors or adding more nodes to this Ray cluster.\n"
     ]
    },
    {
     "name": "stderr",
     "output_type": "stream",
     "text": [
      "\u001b[36m(_ray_fit pid=83774)\u001b[0m No improvement since epoch 11: early stopping\n"
     ]
    },
    {
     "name": "stdout",
     "output_type": "stream",
     "text": [
      "\u001b[33m(autoscaler +2h2m59s)\u001b[0m Warning: The following resource request cannot be scheduled right now: {'CPU': 1.0}. This is likely due to all cluster resources being claimed by actors. Consider creating fewer actors or adding more nodes to this Ray cluster.\n"
     ]
    },
    {
     "name": "stderr",
     "output_type": "stream",
     "text": [
      "\u001b[36m(_ray_fit pid=83957)\u001b[0m No improvement since epoch 11: early stopping\n",
      "\u001b[36m(_ray_fit pid=83989)\u001b[0m No improvement since epoch 9: early stopping\n",
      "\u001b[36m(_ray_fit pid=84176)\u001b[0m No improvement since epoch 9: early stopping\u001b[32m [repeated 2x across cluster]\u001b[0m\n",
      "\u001b[36m(_dystack pid=166)\u001b[0m \t0.8927\t = Validation score   (roc_auc)\n",
      "\u001b[36m(_dystack pid=166)\u001b[0m \t119.29s\t = Training   runtime\n",
      "\u001b[36m(_dystack pid=166)\u001b[0m \t0.42s\t = Validation runtime\n",
      "\u001b[36m(_dystack pid=166)\u001b[0m Fitting model: CatBoost_r163_BAG_L2 ... Training model for up to 2474.80s of the 2474.33s of remaining time.\n",
      "\u001b[36m(_dystack pid=166)\u001b[0m \tFitting 10 child models (S1F1 - S1F10) | Fitting with ParallelLocalFoldFittingStrategy (4 workers, per: cpus=1, gpus=0, memory=0.10%)\n"
     ]
    },
    {
     "name": "stdout",
     "output_type": "stream",
     "text": [
      "\u001b[33m(autoscaler +2h3m50s)\u001b[0m Warning: The following resource request cannot be scheduled right now: {'CPU': 1.0}. This is likely due to all cluster resources being claimed by actors. Consider creating fewer actors or adding more nodes to this Ray cluster.\n"
     ]
    },
    {
     "name": "stderr",
     "output_type": "stream",
     "text": [
      "\u001b[36m(_dystack pid=166)\u001b[0m \t0.9042\t = Validation score   (roc_auc)\n",
      "\u001b[36m(_dystack pid=166)\u001b[0m \t17.07s\t = Training   runtime\n",
      "\u001b[36m(_dystack pid=166)\u001b[0m \t0.05s\t = Validation runtime\n",
      "\u001b[36m(_dystack pid=166)\u001b[0m Fitting model: CatBoost_r198_BAG_L2 ... Training model for up to 2454.45s of the 2453.97s of remaining time.\n",
      "\u001b[36m(_dystack pid=166)\u001b[0m \tFitting 10 child models (S1F1 - S1F10) | Fitting with ParallelLocalFoldFittingStrategy (4 workers, per: cpus=1, gpus=0, memory=0.17%)\n"
     ]
    },
    {
     "name": "stdout",
     "output_type": "stream",
     "text": [
      "\u001b[33m(autoscaler +2h4m25s)\u001b[0m Warning: The following resource request cannot be scheduled right now: {'CPU': 1.0}. This is likely due to all cluster resources being claimed by actors. Consider creating fewer actors or adding more nodes to this Ray cluster.\n"
     ]
    },
    {
     "name": "stderr",
     "output_type": "stream",
     "text": [
      "\u001b[36m(_dystack pid=166)\u001b[0m \t0.9045\t = Validation score   (roc_auc)\n",
      "\u001b[36m(_dystack pid=166)\u001b[0m \t25.16s\t = Training   runtime\n",
      "\u001b[36m(_dystack pid=166)\u001b[0m \t0.05s\t = Validation runtime\n",
      "\u001b[36m(_dystack pid=166)\u001b[0m Fitting model: NeuralNetFastAI_r187_BAG_L2 ... Training model for up to 2425.94s of the 2425.47s of remaining time.\n",
      "\u001b[36m(_dystack pid=166)\u001b[0m \tFitting 10 child models (S1F1 - S1F10) | Fitting with ParallelLocalFoldFittingStrategy (4 workers, per: cpus=1, gpus=0, memory=0.04%)\n",
      "\u001b[36m(_dystack pid=166)\u001b[0m \t0.8973\t = Validation score   (roc_auc)\n",
      "\u001b[36m(_dystack pid=166)\u001b[0m \t26.81s\t = Training   runtime\n",
      "\u001b[36m(_dystack pid=166)\u001b[0m \t0.22s\t = Validation runtime\n",
      "\u001b[36m(_dystack pid=166)\u001b[0m Fitting model: NeuralNetTorch_r19_BAG_L2 ... Training model for up to 2395.95s of the 2395.48s of remaining time.\n",
      "\u001b[36m(_dystack pid=166)\u001b[0m \tFitting 10 child models (S1F1 - S1F10) | Fitting with ParallelLocalFoldFittingStrategy (4 workers, per: cpus=1, gpus=0, memory=0.02%)\n"
     ]
    },
    {
     "name": "stdout",
     "output_type": "stream",
     "text": [
      "\u001b[33m(autoscaler +2h5m10s)\u001b[0m Warning: The following resource request cannot be scheduled right now: {'CPU': 1.0}. This is likely due to all cluster resources being claimed by actors. Consider creating fewer actors or adding more nodes to this Ray cluster.\n"
     ]
    },
    {
     "name": "stderr",
     "output_type": "stream",
     "text": [
      "\u001b[36m(_dystack pid=166)\u001b[0m \t0.9019\t = Validation score   (roc_auc)\n",
      "\u001b[36m(_dystack pid=166)\u001b[0m \t29.62s\t = Training   runtime\n",
      "\u001b[36m(_dystack pid=166)\u001b[0m \t0.3s\t = Validation runtime\n",
      "\u001b[36m(_dystack pid=166)\u001b[0m Fitting model: XGBoost_r95_BAG_L2 ... Training model for up to 2362.81s of the 2362.34s of remaining time.\n",
      "\u001b[36m(_dystack pid=166)\u001b[0m \tFitting 10 child models (S1F1 - S1F10) | Fitting with ParallelLocalFoldFittingStrategy (4 workers, per: cpus=1, gpus=0, memory=0.18%)\n"
     ]
    },
    {
     "name": "stdout",
     "output_type": "stream",
     "text": [
      "\u001b[33m(autoscaler +2h5m45s)\u001b[0m Warning: The following resource request cannot be scheduled right now: {'CPU': 1.0}. This is likely due to all cluster resources being claimed by actors. Consider creating fewer actors or adding more nodes to this Ray cluster.\n"
     ]
    },
    {
     "name": "stderr",
     "output_type": "stream",
     "text": [
      "\u001b[36m(_dystack pid=166)\u001b[0m \t0.9019\t = Validation score   (roc_auc)\n",
      "\u001b[36m(_dystack pid=166)\u001b[0m \t10.6s\t = Training   runtime\n",
      "\u001b[36m(_dystack pid=166)\u001b[0m \t0.07s\t = Validation runtime\n",
      "\u001b[36m(_dystack pid=166)\u001b[0m Fitting model: XGBoost_r34_BAG_L2 ... Training model for up to 2348.85s of the 2348.37s of remaining time.\n",
      "\u001b[36m(_dystack pid=166)\u001b[0m \tFitting 10 child models (S1F1 - S1F10) | Fitting with ParallelLocalFoldFittingStrategy (4 workers, per: cpus=1, gpus=0, memory=1.23%)\n",
      "\u001b[36m(_dystack pid=166)\u001b[0m \t0.9015\t = Validation score   (roc_auc)\n",
      "\u001b[36m(_dystack pid=166)\u001b[0m \t14.0s\t = Training   runtime\n",
      "\u001b[36m(_dystack pid=166)\u001b[0m \t0.1s\t = Validation runtime\n",
      "\u001b[36m(_dystack pid=166)\u001b[0m Fitting model: LightGBM_r42_BAG_L2 ... Training model for up to 2331.58s of the 2331.11s of remaining time.\n",
      "\u001b[36m(_dystack pid=166)\u001b[0m \tFitting 10 child models (S1F1 - S1F10) | Fitting with ParallelLocalFoldFittingStrategy (4 workers, per: cpus=1, gpus=0, memory=0.49%)\n"
     ]
    },
    {
     "name": "stdout",
     "output_type": "stream",
     "text": [
      "\u001b[33m(autoscaler +2h6m20s)\u001b[0m Warning: The following resource request cannot be scheduled right now: {'CPU': 1.0}. This is likely due to all cluster resources being claimed by actors. Consider creating fewer actors or adding more nodes to this Ray cluster.\n"
     ]
    },
    {
     "name": "stderr",
     "output_type": "stream",
     "text": [
      "\u001b[36m(_dystack pid=166)\u001b[0m \t0.9036\t = Validation score   (roc_auc)\n",
      "\u001b[36m(_dystack pid=166)\u001b[0m \t13.95s\t = Training   runtime\n",
      "\u001b[36m(_dystack pid=166)\u001b[0m \t0.05s\t = Validation runtime\n",
      "\u001b[36m(_dystack pid=166)\u001b[0m Fitting model: NeuralNetTorch_r1_BAG_L2 ... Training model for up to 2314.39s of the 2313.92s of remaining time.\n",
      "\u001b[36m(_dystack pid=166)\u001b[0m \tFitting 10 child models (S1F1 - S1F10) | Fitting with ParallelLocalFoldFittingStrategy (4 workers, per: cpus=1, gpus=0, memory=0.02%)\n"
     ]
    },
    {
     "name": "stdout",
     "output_type": "stream",
     "text": [
      "\u001b[33m(autoscaler +2h6m55s)\u001b[0m Warning: The following resource request cannot be scheduled right now: {'CPU': 1.0}. This is likely due to all cluster resources being claimed by actors. Consider creating fewer actors or adding more nodes to this Ray cluster.\n"
     ]
    },
    {
     "name": "stderr",
     "output_type": "stream",
     "text": [
      "\u001b[36m(_dystack pid=166)\u001b[0m \t0.906\t = Validation score   (roc_auc)\n",
      "\u001b[36m(_dystack pid=166)\u001b[0m \t48.56s\t = Training   runtime\n",
      "\u001b[36m(_dystack pid=166)\u001b[0m \t0.32s\t = Validation runtime\n",
      "\u001b[36m(_dystack pid=166)\u001b[0m Fitting model: NeuralNetTorch_r89_BAG_L2 ... Training model for up to 2262.56s of the 2262.08s of remaining time.\n",
      "\u001b[36m(_dystack pid=166)\u001b[0m \tFitting 10 child models (S1F1 - S1F10) | Fitting with ParallelLocalFoldFittingStrategy (4 workers, per: cpus=1, gpus=0, memory=0.02%)\n"
     ]
    },
    {
     "name": "stdout",
     "output_type": "stream",
     "text": [
      "\u001b[33m(autoscaler +2h7m30s)\u001b[0m Warning: The following resource request cannot be scheduled right now: {'CPU': 1.0}. This is likely due to all cluster resources being claimed by actors. Consider creating fewer actors or adding more nodes to this Ray cluster.\n"
     ]
    },
    {
     "name": "stderr",
     "output_type": "stream",
     "text": [
      "\u001b[36m(_dystack pid=166)\u001b[0m \t0.9011\t = Validation score   (roc_auc)\n",
      "\u001b[36m(_dystack pid=166)\u001b[0m \t45.46s\t = Training   runtime\n",
      "\u001b[36m(_dystack pid=166)\u001b[0m \t0.29s\t = Validation runtime\n",
      "\u001b[36m(_dystack pid=166)\u001b[0m Fitting model: WeightedEnsemble_L3 ... Training model for up to 641.46s of the 2213.14s of remaining time.\n",
      "\u001b[36m(_dystack pid=166)\u001b[0m \tEnsemble Weights: {'XGBoost_r89_BAG_L2': 0.208, 'CatBoost_r180_BAG_L2': 0.208, 'NeuralNetTorch_r135_BAG_L2': 0.208, 'NeuralNetFastAI_r102_BAG_L2': 0.167, 'NeuralNetTorch_r41_BAG_L2': 0.125, 'NeuralNetFastAI_r111_BAG_L2': 0.083}\n",
      "\u001b[36m(_dystack pid=166)\u001b[0m \t0.9129\t = Validation score   (roc_auc)\n",
      "\u001b[36m(_dystack pid=166)\u001b[0m \t0.23s\t = Training   runtime\n",
      "\u001b[36m(_dystack pid=166)\u001b[0m \t0.0s\t = Validation runtime\n",
      "\u001b[36m(_dystack pid=166)\u001b[0m AutoGluon training complete, total runtime = 7683.12s ... Best model: WeightedEnsemble_L3 | Estimated inference throughput: 25.7 rows/s (195 batch size)\n",
      "\u001b[36m(_dystack pid=166)\u001b[0m TabularPredictor saved. To load, use: predictor = TabularPredictor.load(\"/AutoGluonModels/ds_sub_fit/sub_fit_ho\")\n",
      "\u001b[36m(_dystack pid=166)\u001b[0m INFO:sklearnex: sklearn.neighbors.KNeighborsClassifier.predict_proba: running accelerated version on CPU\n",
      "\u001b[36m(_dystack pid=166)\u001b[0m INFO:sklearnex: sklearn.neighbors.KNeighborsClassifier.predict_proba: running accelerated version on CPU\n",
      "\u001b[36m(_dystack pid=166)\u001b[0m INFO:sklearnex: sklearn.neighbors.KNeighborsClassifier.predict_proba: running accelerated version on CPU\n",
      "\u001b[36m(_dystack pid=166)\u001b[0m INFO:sklearnex: sklearn.neighbors.KNeighborsClassifier.predict_proba: running accelerated version on CPU\n",
      "\u001b[36m(_dystack pid=166)\u001b[0m INFO:sklearnex: sklearn.neighbors.KNeighborsClassifier.predict_proba: running accelerated version on CPU\n",
      "\u001b[36m(_dystack pid=166)\u001b[0m INFO:sklearnex: sklearn.neighbors.KNeighborsClassifier.predict_proba: running accelerated version on CPU\n",
      "\u001b[36m(_dystack pid=166)\u001b[0m INFO:sklearnex: sklearn.neighbors.KNeighborsClassifier.predict_proba: running accelerated version on CPU\n",
      "\u001b[36m(_dystack pid=166)\u001b[0m INFO:sklearnex: sklearn.neighbors.KNeighborsClassifier.predict_proba: running accelerated version on CPU\n",
      "\u001b[36m(_dystack pid=166)\u001b[0m INFO:sklearnex: sklearn.neighbors.KNeighborsClassifier.predict_proba: running accelerated version on CPU\n",
      "\u001b[36m(_dystack pid=166)\u001b[0m INFO:sklearnex: sklearn.neighbors.KNeighborsClassifier.predict_proba: running accelerated version on CPU\n",
      "\u001b[36m(_dystack pid=166)\u001b[0m INFO:sklearnex: sklearn.neighbors.KNeighborsClassifier.predict_proba: running accelerated version on CPU\n",
      "\u001b[36m(_dystack pid=166)\u001b[0m INFO:sklearnex: sklearn.neighbors.KNeighborsClassifier.predict_proba: running accelerated version on CPU\n",
      "\u001b[36m(_dystack pid=166)\u001b[0m INFO:sklearnex: sklearn.neighbors.KNeighborsClassifier.predict_proba: running accelerated version on CPU\n",
      "\u001b[36m(_dystack pid=166)\u001b[0m INFO:sklearnex: sklearn.neighbors.KNeighborsClassifier.predict_proba: running accelerated version on CPU\n",
      "\u001b[36m(_dystack pid=166)\u001b[0m INFO:sklearnex: sklearn.neighbors.KNeighborsClassifier.predict_proba: running accelerated version on CPU\n",
      "\u001b[36m(_dystack pid=166)\u001b[0m INFO:sklearnex: sklearn.neighbors.KNeighborsClassifier.predict_proba: running accelerated version on CPU\n",
      "\u001b[36m(_dystack pid=166)\u001b[0m INFO:sklearnex: sklearn.neighbors.KNeighborsClassifier.predict_proba: running accelerated version on CPU\n",
      "\u001b[36m(_dystack pid=166)\u001b[0m INFO:sklearnex: sklearn.neighbors.KNeighborsClassifier.predict_proba: running accelerated version on CPU\n",
      "\u001b[36m(_dystack pid=166)\u001b[0m INFO:sklearnex: sklearn.neighbors.KNeighborsClassifier.predict_proba: running accelerated version on CPU\n",
      "\u001b[36m(_dystack pid=166)\u001b[0m INFO:sklearnex: sklearn.neighbors.KNeighborsClassifier.predict_proba: running accelerated version on CPU\n",
      "\u001b[36m(_dystack pid=166)\u001b[0m Deleting DyStack predictor artifacts (clean_up_fits=True) ...\n",
      "Leaderboard on holdout data (DyStack):\n",
      "                           model  score_holdout  score_val eval_metric  pred_time_test  pred_time_val    fit_time  pred_time_test_marginal  pred_time_val_marginal  fit_time_marginal  stack_level  can_infer  fit_order\n",
      "0     NeuralNetFastAI_r65_BAG_L1       0.889674   0.889501     roc_auc        0.101406       0.154688   26.077647                 0.101406                0.154688          26.077647            1       True         67\n",
      "1     NeuralNetFastAI_r88_BAG_L2       0.887047   0.866228     roc_auc        5.323749       5.883270  369.379601                 0.102425                0.189587          26.725414            2       True        177\n",
      "2    NeuralNetFastAI_r187_BAG_L1       0.885779   0.890005     roc_auc        0.113793       0.179354   28.008141                 0.113793                0.179354          28.008141            1       True        104\n",
      "3     NeuralNetTorch_r143_BAG_L1       0.884964   0.892904     roc_auc        0.125440       0.152745   52.721927                 0.125440                0.152745          52.721927            1       True         62\n",
      "4         ExtraTrees_r126_BAG_L1       0.884692   0.890095     roc_auc        0.949564       1.075994   15.741523                 0.949564                1.075994          15.741523            1       True         99\n",
      "5            CatBoost_r86_BAG_L1       0.884420   0.893612     roc_auc        0.022334       0.020889   25.237360                 0.022334                0.020889          25.237360            1       True         52\n",
      "6     NeuralNetTorch_r158_BAG_L1       0.884239   0.884951     roc_auc        0.119822       0.147751   49.087739                 0.119822                0.147751          49.087739            1       True         51\n",
      "7          ExtraTrees_r42_BAG_L2       0.883605   0.899013     roc_auc        6.153254       6.884968  358.034168                 0.931929                1.191285          15.379982            2       True        131\n",
      "8      NeuralNetTorch_r30_BAG_L1       0.883514   0.895041     roc_auc        0.125958       0.122484   65.049097                 0.125958                0.122484          65.049097            1       True         30\n",
      "9    NeuralNetFastAI_r111_BAG_L1       0.883333   0.895678     roc_auc        0.321848       0.486924   67.862187                 0.321848                0.486924          67.862187            1       True         64\n",
      "10     NeuralNetTorch_r36_BAG_L1       0.883152   0.895610     roc_auc        0.296408       0.131380   44.940901                 0.296408                0.131380          44.940901            1       True        100\n",
      "11          LightGBM_r130_BAG_L1       0.882880   0.894526     roc_auc        0.033368       0.034785   14.052600                 0.033368                0.034785          14.052600            1       True         31\n",
      "12        ExtraTrees_r172_BAG_L2       0.882790   0.901729     roc_auc        6.204831       6.666694  356.107545                 0.983506                0.973011          13.453358            2       True        145\n",
      "13          ExtraTrees_r4_BAG_L1       0.882699   0.892606     roc_auc        0.858109       1.006846   13.777369                 0.858109                1.006846          13.777369            1       True         66\n",
      "14            XGBoost_r98_BAG_L1       0.882609   0.891220     roc_auc        0.231868       0.176687   15.382511                 0.231868                0.176687          15.382511            1       True         49\n",
      "15      RandomForest_r166_BAG_L2       0.882609   0.896828     roc_auc        6.122658       6.955212  365.773068                 0.901333                1.261529          23.118882            2       True        185\n",
      "16        ExtraTrees_r197_BAG_L2       0.882609   0.898285     roc_auc        6.140608       6.712446  361.709201                 0.919284                1.018763          19.055015            2       True        200\n",
      "17         ExtraTrees_r49_BAG_L1       0.882518   0.885975     roc_auc        0.979318       1.083446   16.204034                 0.979318                1.083446          16.204034            1       True         56\n",
      "18         ExtraTreesGini_BAG_L1       0.882518   0.885975     roc_auc        1.015950       1.082743   13.198026                 1.015950                1.082743          13.198026            1       True          8\n",
      "19       RandomForest_r39_BAG_L2       0.882428   0.897096     roc_auc        6.108347       7.062635  378.540318                 0.887023                1.368952          35.886131            2       True        154\n",
      "20   NeuralNetFastAI_r143_BAG_L1       0.882337   0.892450     roc_auc        0.125139       0.161903   26.898716                 0.125139                0.161903          26.898716            1       True         41\n",
      "21            XGBoost_r31_BAG_L1       0.882337   0.897303     roc_auc        0.205446       0.148816   11.452019                 0.205446                0.148816          11.452019            1       True         77\n",
      "22       RandomForestGini_BAG_L2       0.882201   0.897442     roc_auc        6.120829       6.699337  359.458446                 0.899504                1.005654          16.804259            2       True        114\n",
      "23          LightGBM_r130_BAG_L2       0.882065   0.901478     roc_auc        5.255441       5.761953  358.220283                 0.034116                0.068271          15.566096            2       True        140\n",
      "24            XGBoost_r22_BAG_L1       0.881975   0.891508     roc_auc        0.090422       0.066748    9.606227                 0.090422                0.066748           9.606227            1       True         83\n",
      "25          LightGBM_r121_BAG_L1       0.881431   0.889278     roc_auc        0.222286       0.114125   20.995725                 0.222286                0.114125          20.995725            1       True         87\n",
      "26          LightGBM_r161_BAG_L1       0.881431   0.890226     roc_auc        0.243849       0.105712   19.768252                 0.243849                0.105712          19.768252            1       True         40\n",
      "27   NeuralNetFastAI_r160_BAG_L2       0.881431   0.898710     roc_auc        5.377355       6.002792  379.490744                 0.156031                0.309109          36.836557            2       True        188\n",
      "28          LightGBM_r135_BAG_L1       0.881341   0.891124     roc_auc        0.040567       0.066607   15.197383                 0.040567                0.066607          15.197383            1       True         82\n",
      "29           LightGBM_r15_BAG_L2       0.881250   0.904365     roc_auc        5.278271       5.751150  358.906130                 0.056947                0.057467          16.251943            2       True        159\n",
      "30     NeuralNetTorch_r22_BAG_L1       0.881250   0.896103     roc_auc        0.126156       0.123095   40.424325                 0.126156                0.123095          40.424325            1       True         20\n",
      "31   NeuralNetFastAI_r187_BAG_L2       0.881159   0.897341     roc_auc        5.346766       5.913514  369.463745                 0.125442                0.219831          26.809558            2       True        213\n",
      "32        ExtraTrees_r178_BAG_L2       0.881159   0.900402     roc_auc        6.115324       6.701701  358.754227                 0.893999                1.008018          16.100040            2       True        184\n",
      "33         ExtraTreesEntr_BAG_L1       0.881114   0.888125     roc_auc        0.980539       0.995456   12.343457                 0.980539                0.995456          12.343457            1       True          9\n",
      "34            XGBoost_r34_BAG_L1       0.880978   0.890700     roc_auc        0.120663       0.090201   11.393190                 0.120663                0.090201          11.393190            1       True        107\n",
      "35          ExtraTrees_r4_BAG_L2       0.880978   0.900651     roc_auc        6.104594       6.760071  356.851177                 0.883270                1.066388          14.196990            2       True        175\n",
      "36     NeuralNetTorch_r14_BAG_L1       0.880797   0.897458     roc_auc        0.082650       0.122854   30.562135                 0.082650                0.122854          30.562135            1       True         39\n",
      "37           CatBoost_r13_BAG_L1       0.880707   0.897691     roc_auc        0.029121       0.017462   31.408503                 0.029121                0.017462          31.408503            1       True         25\n",
      "38   NeuralNetFastAI_r143_BAG_L2       0.880435   0.895876     roc_auc        5.344583       5.929803  369.921231                 0.123258                0.236120          27.267044            2       True        150\n",
      "39      RandomForest_r127_BAG_L2       0.880435   0.897910     roc_auc        6.095167       6.793503  383.032914                 0.873843                1.099820          40.378727            2       True        167\n",
      "40       RandomForest_r15_BAG_L2       0.880435   0.896859     roc_auc        6.112756       7.045708  378.347648                 0.891431                1.352026          35.693461            2       True        190\n",
      "41           LightGBM_r96_BAG_L1       0.880435   0.898724     roc_auc        0.357360       0.247444   15.888569                 0.357360                0.247444          15.888569            1       True         19\n",
      "42            CatBoost_r5_BAG_L1       0.880344   0.897296     roc_auc        0.022548       0.018198   13.307631                 0.022548                0.018198          13.307631            1       True         71\n",
      "43           LightGBM_r94_BAG_L1       0.880254   0.897847     roc_auc        0.088080       0.118219   14.647346                 0.088080                0.118219          14.647346            1       True         61\n",
      "44        ExtraTrees_r178_BAG_L1       0.880254   0.891208     roc_auc        0.894833       1.053587   16.116597                 0.894833                1.053587          16.116597            1       True         75\n",
      "45     NeuralNetTorch_r31_BAG_L1       0.880163   0.895018     roc_auc        0.076997       0.137841   35.421075                 0.076997                0.137841          35.421075            1       True         65\n",
      "46      RandomForest_r195_BAG_L2       0.879937   0.895960     roc_auc        6.130434       6.838794  380.644498                 0.909110                1.145112          37.990312            2       True        135\n",
      "47       RandomForestEntr_BAG_L2       0.879846   0.900912     roc_auc        6.135681       6.888585  361.256060                 0.914356                1.194902          18.601873            2       True        115\n",
      "48           LightGBM_r42_BAG_L1       0.879801   0.897225     roc_auc        0.046288       0.059060   15.171123                 0.046288                0.059060          15.171123            1       True        108\n",
      "49           LightGBM_r15_BAG_L1       0.879801   0.893221     roc_auc        0.055010       0.049005   15.530193                 0.055010                0.049005          15.530193            1       True         50\n",
      "50        ExtraTrees_r126_BAG_L2       0.879801   0.901373     roc_auc        6.193164       6.706217  358.444025                 0.971839                1.012534          15.789839            2       True        208\n",
      "51      NeuralNetTorch_r1_BAG_L1       0.879710   0.890295     roc_auc        0.114531       0.142113   41.240320                 0.114531                0.142113          41.240320            1       True        109\n",
      "52    NeuralNetTorch_r197_BAG_L1       0.879620   0.897812     roc_auc        0.070010       0.117915   30.882980                 0.070010                0.117915          30.882980            1       True         54\n",
      "53           CatBoost_r69_BAG_L2       0.879620   0.904147     roc_auc        5.251951       5.747534  361.382890                 0.030626                0.053852          18.728703            2       True        146\n",
      "54       RandomForest_r34_BAG_L2       0.879620   0.900703     roc_auc        6.060189       6.695145  365.611763                 0.838865                1.001463          22.957576            2       True        169\n",
      "55          LightGBM_r135_BAG_L2       0.879529   0.901826     roc_auc        5.264450       5.759064  360.107582                 0.043125                0.065382          17.453396            2       True        191\n",
      "56    NeuralNetTorch_r143_BAG_L2       0.879438   0.903560     roc_auc        5.443358       6.020892  438.097381                 0.222034                0.327210          95.443194            2       True        171\n",
      "57            CatBoost_r6_BAG_L1       0.879348   0.896238     roc_auc        0.022475       0.018461   15.296948                 0.022475                0.018461          15.296948            1       True         85\n",
      "58   NeuralNetFastAI_r127_BAG_L1       0.879257   0.890989     roc_auc        0.108539       0.234277   25.348603                 0.108539                0.234277          25.348603            1       True         93\n",
      "59    NeuralNetFastAI_r37_BAG_L1       0.879257   0.893388     roc_auc        0.125854       0.214790   33.334010                 0.125854                0.214790          33.334010            1       True         53\n",
      "60       RandomForest_r16_BAG_L2       0.879257   0.894576     roc_auc        6.120923       6.926285  393.223980                 0.899598                1.232602          50.569793            2       True        203\n",
      "61               CatBoost_BAG_L1       0.879167   0.895465     roc_auc        0.329509       0.022408   15.807033                 0.329509                0.022408          15.807033            1       True          7\n",
      "62     NeuralNetTorch_r79_BAG_L2       0.879076   0.905987     roc_auc        5.425650       6.037550  397.046432                 0.204325                0.343867          54.392245            2       True        124\n",
      "63            XGBoost_r89_BAG_L1       0.879076   0.896725     roc_auc        0.096467       0.096019    8.741954                 0.096467                0.096019           8.741954            1       True         29\n",
      "64          CatBoost_r198_BAG_L1       0.878986   0.896609     roc_auc        0.019601       0.020768   16.623502                 0.019601                0.020768          16.623502            1       True        103\n",
      "65     NeuralNetTorch_r31_BAG_L2       0.878986   0.896851     roc_auc        5.391060       6.009768  386.141318                 0.169736                0.316085          43.487131            2       True        174\n",
      "66            XGBoost_r49_BAG_L1       0.878895   0.891264     roc_auc        0.117223       0.107430   10.428234                 0.117223                0.107430          10.428234            1       True         70\n",
      "67    NeuralNetTorch_r121_BAG_L1       0.878804   0.888006     roc_auc        0.100498       0.168422   50.478339                 0.100498                0.168422          50.478339            1       True         92\n",
      "68    NeuralNetFastAI_r11_BAG_L1       0.878714   0.900341     roc_auc        0.167497       0.246408   47.203624                 0.167497                0.246408          47.203624            1       True         34\n",
      "69         ExtraTrees_r49_BAG_L2       0.878714   0.900708     roc_auc        6.159689       6.733594  358.008272                 0.938364                1.039912          15.354086            2       True        165\n",
      "70         ExtraTreesGini_BAG_L2       0.878714   0.900708     roc_auc        6.227660       6.722767  355.100024                 1.006335                1.029084          12.445837            2       True        117\n",
      "71   NeuralNetFastAI_r160_BAG_L1       0.878623   0.897030     roc_auc        0.153579       0.225974   36.907781                 0.153579                0.225974          36.907781            1       True         79\n",
      "72            XGBoost_r33_BAG_L1       0.878623   0.888466     roc_auc        0.240758       0.102324   12.663652                 0.240758                0.102324          12.663652            1       True         21\n",
      "73          CatBoost_r128_BAG_L1       0.878442   0.892752     roc_auc        0.027717       0.026189   38.380813                 0.027717                0.026189          38.380813            1       True         63\n",
      "74          LightGBM_r131_BAG_L1       0.878442   0.886882     roc_auc        0.160625       0.061471   15.941112                 0.160625                0.061471          15.941112            1       True         16\n",
      "75   NeuralNetFastAI_r127_BAG_L2       0.878351   0.892867     roc_auc        5.336685       5.874013  367.945162                 0.115360                0.180330          25.290976            2       True        202\n",
      "76       RandomForest_r34_BAG_L1       0.878261   0.892477     roc_auc        0.860356       0.911561   14.751041                 0.860356                0.911561          14.751041            1       True         60\n",
      "77           CatBoost_r13_BAG_L2       0.878170   0.903672     roc_auc        5.254178       5.752064  409.019419                 0.032853                0.058381          66.365232            2       True        134\n",
      "78        ExtraTrees_r172_BAG_L1       0.878080   0.890967     roc_auc        0.907803       0.955254   12.654094                 0.907803                0.955254          12.654094            1       True         36\n",
      "79   NeuralNetFastAI_r172_BAG_L2       0.878034   0.898224     roc_auc        5.335809       5.981714  370.904740                 0.114485                0.288032          28.250553            2       True        197\n",
      "80         NeuralNetTorch_BAG_L1       0.877989   0.891019     roc_auc        0.097495       0.120206   42.721776                 0.097495                0.120206          42.721776            1       True         12\n",
      "81           LightGBM_r42_BAG_L2       0.877989   0.903649     roc_auc        5.254876       5.742221  356.607115                 0.033551                0.048539          13.952928            2       True        217\n",
      "82           LightGBM_r96_BAG_L2       0.877989   0.904435     roc_auc        5.396473       5.947344  359.948269                 0.175148                0.253661          17.294083            2       True        128\n",
      "83          CatBoost_r137_BAG_L2       0.877627   0.903861     roc_auc        5.248220       5.756794  358.661295                 0.026895                0.063112          16.007108            2       True        132\n",
      "84     NeuralNetFastAI_r4_BAG_L2       0.877627   0.901661     roc_auc        5.332929       5.879142  373.317460                 0.111604                0.185459          30.663274            2       True        207\n",
      "85     NeuralNetTorch_r22_BAG_L2       0.877627   0.904744     roc_auc        5.413401       6.039989  393.629260                 0.192076                0.346307          50.975073            2       True        129\n",
      "86           CatBoost_r60_BAG_L2       0.877536   0.906138     roc_auc        5.247525       5.748336  361.860344                 0.026200                0.054653          19.206158            2       True        189\n",
      "87            CatBoost_r9_BAG_L1       0.877536   0.893384     roc_auc        0.052632       0.030638   41.105562                 0.052632                0.030638          41.105562            1       True         18\n",
      "88     NeuralNetTorch_r79_BAG_L1       0.877536   0.891040     roc_auc        0.158526       0.148657   41.592102                 0.158526                0.148657          41.592102            1       True         15\n",
      "89     NeuralNetTorch_r41_BAG_L2       0.877446   0.906294     roc_auc        5.416540       6.034284  387.214612                 0.195215                0.340602          44.560425            2       True        157\n",
      "90     NeuralNetTorch_r87_BAG_L1       0.877355   0.896897     roc_auc        0.092871       0.143852   48.494336                 0.092871                0.143852          48.494336            1       True         72\n",
      "91      RandomForest_r127_BAG_L1       0.877355   0.887818     roc_auc        0.879481       1.075499   22.914287                 0.879481                1.075499          22.914287            1       True         58\n",
      "92            XGBoost_r49_BAG_L2       0.877264   0.902589     roc_auc        5.323808       5.798681  356.246908                 0.102483                0.104998          13.592721            2       True        179\n",
      "93          LightGBM_r188_BAG_L1       0.877174   0.895005     roc_auc        0.076988       0.089687   14.479812                 0.076988                0.089687          14.479812            1       True         27\n",
      "94               LightGBM_BAG_L2       0.877083   0.899160     roc_auc        5.249267       5.790660  359.797323                 0.027943                0.096977          17.143136            2       True        113\n",
      "95                XGBoost_BAG_L2       0.877083   0.900212     roc_auc        5.313594       5.784361  354.519921                 0.092269                0.090678          11.865735            2       True        120\n",
      "96            CatBoost_r5_BAG_L2       0.877083   0.903509     roc_auc        5.247257       5.751126  358.721592                 0.025933                0.057443          16.067406            2       True        180\n",
      "97          LightGBMLarge_BAG_L2       0.877083   0.880326     roc_auc        5.279230       5.757108  366.270801                 0.057905                0.063425          23.616614            2       True        122\n",
      "98         ExtraTreesEntr_BAG_L2       0.877038   0.902806     roc_auc        6.188505       6.725317  355.908554                 0.967181                1.031634          13.254367            2       True        118\n",
      "99     NeuralNetTorch_r19_BAG_L1       0.876993   0.894098     roc_auc        0.073590       0.109527   29.372647                 0.073590                0.109527          29.372647            1       True        105\n",
      "100         LightGBM_r196_BAG_L1       0.876993   0.896953     roc_auc        0.586106       0.543483   21.345568                 0.586106                0.543483          21.345568            1       True         44\n",
      "101         CatBoost_r163_BAG_L2       0.876812   0.904187     roc_auc        5.246630       5.745610  359.723176                 0.025305                0.051927          17.068990            2       True        211\n",
      "102            LightGBMXT_BAG_L2       0.876812   0.903350     roc_auc        5.266067       5.756713  357.704192                 0.044742                0.063031          15.050006            2       True        112\n",
      "103    NeuralNetTorch_r71_BAG_L1       0.876812   0.896739     roc_auc        0.070283       0.130200   26.714000                 0.070283                0.130200          26.714000            1       True         73\n",
      "104  NeuralNetFastAI_r172_BAG_L1       0.876540   0.891668     roc_auc        0.112215       0.186121   28.161858                 0.112215                0.186121          28.161858            1       True         88\n",
      "105   NeuralNetTorch_r135_BAG_L1       0.876449   0.895389     roc_auc        0.114410       0.143805   49.978382                 0.114410                0.143805          49.978382            1       True         97\n",
      "106           XGBoost_r33_BAG_L2       0.876449   0.902082     roc_auc        5.362493       5.823060  362.032932                 0.141169                0.129377          19.378745            2       True        130\n",
      "107       NeuralNetFastAI_BAG_L2       0.876449   0.896547     roc_auc        5.351912       5.912039  372.835170                 0.130587                0.218356          30.180984            2       True        119\n",
      "108    NeuralNetTorch_r86_BAG_L1       0.876359   0.891073     roc_auc        0.089603       0.124595   36.276762                 0.089603                0.124595          36.276762            1       True         32\n",
      "109         LightGBM_r143_BAG_L1       0.876268   0.885060     roc_auc        0.100172       0.100389   17.798089                 0.100172                0.100389          17.798089            1       True         57\n",
      "110          WeightedEnsemble_L2       0.876268   0.906058     roc_auc        0.823297       1.078042  226.250103                 0.004151                0.000848           0.222872            2       True        111\n",
      "111           XGBoost_r95_BAG_L2       0.876268   0.901865     roc_auc        5.322486       5.759368  353.259081                 0.101162                0.065685          10.604894            2       True        215\n",
      "112    NeuralNetTorch_r36_BAG_L2       0.876087   0.900254     roc_auc        5.418356       5.991842  390.283487                 0.197031                0.298159          47.629300            2       True        209\n",
      "113          CatBoost_r49_BAG_L1       0.875996   0.896278     roc_auc        0.020801       0.016161   14.300424                 0.020801                0.016161          14.300424            1       True         55\n",
      "114    NeuralNetFastAI_r4_BAG_L1       0.875996   0.895855     roc_auc        0.107201       0.184664   31.276254                 0.107201                0.184664          31.276254            1       True         98\n",
      "115           XGBoost_r34_BAG_L2       0.875996   0.901479     roc_auc        5.338382       5.794481  356.654319                 0.117057                0.100798          14.000132            2       True        216\n",
      "116          LightGBM_r30_BAG_L1       0.875906   0.896670     roc_auc        0.174861       0.255906   16.411666                 0.174861                0.255906          16.411666            1       True         69\n",
      "117          CatBoost_r12_BAG_L1       0.875815   0.896109     roc_auc        0.024531       0.018559   21.408486                 0.024531                0.018559          21.408486            1       True         96\n",
      "118              CatBoost_BAG_L2       0.875725   0.905112     roc_auc        5.247184       5.747927  365.682089                 0.025859                0.054245          23.027902            2       True        116\n",
      "119          CatBoost_r50_BAG_L2       0.875725   0.906556     roc_auc        5.251673       5.750410  363.718633                 0.030349                0.056727          21.064446            2       True        142\n",
      "120          LightGBM_r94_BAG_L2       0.875725   0.904710     roc_auc        5.288805       5.768618  357.159524                 0.067480                0.074936          14.505337            2       True        170\n",
      "121         LightGBM_r121_BAG_L2       0.875725   0.902008     roc_auc        5.429805       5.892517  368.776426                 0.208480                0.198835          26.122240            2       True        196\n",
      "122         LightGBM_r196_BAG_L2       0.875725   0.902642     roc_auc        5.686173       6.111159  365.378201                 0.464848                0.417476          22.724014            2       True        153\n",
      "123          XGBoost_r194_BAG_L1       0.875543   0.886545     roc_auc        0.098191       0.057089    9.437149                 0.098191                0.057089           9.437149            1       True         35\n",
      "124         CatBoost_r177_BAG_L1       0.875543   0.897517     roc_auc        0.032508       0.018848   14.172713                 0.032508                0.018848          14.172713            1       True         14\n",
      "125          CatBoost_r49_BAG_L2       0.875498   0.906654     roc_auc        5.251987       5.763209  358.576275                 0.030663                0.069526          15.922089            2       True        164\n",
      "126          CatBoost_r86_BAG_L2       0.875453   0.904611     roc_auc        5.251079       5.749087  398.793629                 0.029755                0.055404          56.139442            2       True        161\n",
      "127           CatBoost_r6_BAG_L2       0.875362   0.906166     roc_auc        5.250559       5.742381  363.580658                 0.029234                0.048699          20.926472            2       True        194\n",
      "128           CatBoost_r9_BAG_L2       0.875362   0.904245     roc_auc        5.262409       5.750243  436.319952                 0.041085                0.056561          93.665765            2       True        127\n",
      "129   NeuralNetFastAI_r65_BAG_L2       0.875272   0.890777     roc_auc        5.328540       5.904251  369.706787                 0.107215                0.210569          27.052601            2       True        176\n",
      "130           XGBoost_r31_BAG_L2       0.875181   0.902702     roc_auc        5.423033       5.826143  357.458928                 0.201709                0.132460          14.804741            2       True        186\n",
      "131           XGBoost_r22_BAG_L2       0.875181   0.902628     roc_auc        5.349318       5.774027  353.519579                 0.127994                0.080345          10.865392            2       True        192\n",
      "132  NeuralNetFastAI_r102_BAG_L1       0.875091   0.898164     roc_auc        0.325281       0.408339   74.402495                 0.325281                0.408339          74.402495            1       True         24\n",
      "133   NeuralNetFastAI_r69_BAG_L2       0.875091   0.902039     roc_auc        5.375595       5.917624  377.711859                 0.154271                0.223941          35.057672            2       True        193\n",
      "134         CatBoost_r167_BAG_L2       0.875000   0.903217     roc_auc        5.246443       5.744082  373.040987                 0.025118                0.050400          30.386801            2       True        155\n",
      "135         CatBoost_r198_BAG_L2       0.875000   0.904540     roc_auc        5.248492       5.743359  367.817217                 0.027168                0.049677          25.163030            2       True        212\n",
      "136           XGBoost_r89_BAG_L2       0.875000   0.903966     roc_auc        5.319612       5.790543  353.982235                 0.098287                0.096861          11.328048            2       True        138\n",
      "137  NeuralNetFastAI_r111_BAG_L2       0.875000   0.902979     roc_auc        5.552548       6.177393  410.515243                 0.331223                0.483710          67.861056            2       True        173\n",
      "138   NeuralNetFastAI_r37_BAG_L2       0.874728   0.899918     roc_auc        5.347512       5.900944  375.836785                 0.126187                0.207262          33.182598            2       True        162\n",
      "139              LightGBM_BAG_L1       0.874547   0.888102     roc_auc        0.023324       0.022631   14.613509                 0.023324                0.022631          14.613509            1       True          4\n",
      "140         LightGBM_r143_BAG_L2       0.874547   0.900422     roc_auc        5.349905       5.812424  364.909380                 0.128580                0.118742          22.255193            2       True        166\n",
      "141          CatBoost_r69_BAG_L1       0.874547   0.898690     roc_auc        0.020707       0.014374   13.367862                 0.020707                0.014374          13.367862            1       True         37\n",
      "142    NeuralNetTorch_r86_BAG_L2       0.874457   0.897715     roc_auc        5.407808       6.038443  381.559840                 0.186483                0.344760          38.905653            2       True        141\n",
      "143          CatBoost_r70_BAG_L2       0.874457   0.905382     roc_auc        5.255547       5.750409  388.986304                 0.034222                0.056726          46.332117            2       True        151\n",
      "144      RandomForestEntr_BAG_L1       0.874411   0.882848     roc_auc        0.910014       1.360636   14.868732                 0.910014                1.360636          14.868732            1       True          6\n",
      "145  NeuralNetFastAI_r145_BAG_L1       0.874275   0.891846     roc_auc        0.157201       0.194932   41.279827                 0.157201                0.194932          41.279827            1       True         28\n",
      "146  NeuralNetFastAI_r138_BAG_L1       0.874275   0.891613     roc_auc        0.159643       0.241450   60.445736                 0.159643                0.241450          60.445736            1       True         86\n",
      "147      RandomForestGini_BAG_L1       0.874275   0.882373     roc_auc        0.924817       1.018550   13.776445                 0.924817                1.018550          13.776445            1       True          5\n",
      "148     RandomForest_r166_BAG_L1       0.874275   0.882373     roc_auc        0.955251       1.025719   20.782981                 0.955251                1.025719          20.782981            1       True         76\n",
      "149    NeuralNetTorch_r76_BAG_L1       0.874185   0.895309     roc_auc        0.074376       0.125574   29.555223                 0.074376                0.125574          29.555223            1       True         90\n",
      "150         LightGBM_r188_BAG_L2       0.874185   0.900010     roc_auc        5.295357       5.786430  359.379733                 0.074032                0.092747          16.725546            2       True        136\n",
      "151          LightGBM_r30_BAG_L2       0.874185   0.902714     roc_auc        5.446431       5.920256  362.298268                 0.225107                0.226574          19.644082            2       True        178\n",
      "152         CatBoost_r128_BAG_L2       0.874185   0.901970     roc_auc        5.256316       5.750917  433.983198                 0.034992                0.057235          91.329011            2       True        172\n",
      "153          WeightedEnsemble_L3       0.874094   0.912864     roc_auc        6.435372       7.593775  674.586697                 0.003660                0.000810           0.232937            3       True        220\n",
      "154         LightGBM_r131_BAG_L2       0.874004   0.901079     roc_auc        5.316691       5.824089  361.860395                 0.095366                0.130406          19.206209            2       True        125\n",
      "155           XGBoost_r98_BAG_L2       0.873913   0.902386     roc_auc        5.468633       5.886902  364.900734                 0.247308                0.193219          22.246548            2       True        158\n",
      "156         CatBoost_r163_BAG_L1       0.873913   0.897698     roc_auc        0.019376       0.016835   14.239190                 0.019376                0.016835          14.239190            1       True        102\n",
      "157          CatBoost_r70_BAG_L1       0.873913   0.895316     roc_auc        0.032456       0.025893   25.132130                 0.032456                0.025893          25.132130            1       True         42\n",
      "158         CatBoost_r180_BAG_L1       0.873822   0.896618     roc_auc        0.027882       0.019279   31.423456                 0.027882                0.019279          31.423456            1       True         89\n",
      "159         CatBoost_r137_BAG_L1       0.873732   0.897408     roc_auc        0.023650       0.021219   14.226107                 0.023650                0.021219          14.226107            1       True         23\n",
      "160   NeuralNetFastAI_r95_BAG_L1       0.873732   0.891093     roc_auc        0.163404       0.232643   43.230812                 0.163404                0.232643          43.230812            1       True         47\n",
      "161         CatBoost_r180_BAG_L2       0.873732   0.906767     roc_auc        5.254095       5.742718  407.421053                 0.032771                0.049036          64.766866            2       True        198\n",
      "162   NeuralNetTorch_r135_BAG_L2       0.873641   0.906308     roc_auc        5.442860       6.047146  405.754078                 0.221535                0.353464          63.099891            2       True        206\n",
      "163           XGBoost_r95_BAG_L1       0.873641   0.891987     roc_auc        0.096004       0.077444   10.405865                 0.096004                0.077444          10.405865            1       True        106\n",
      "164      RandomForest_r15_BAG_L1       0.873551   0.884735     roc_auc        0.897613       1.046254   21.541963                 0.897613                1.046254          21.541963            1       True         81\n",
      "165    NeuralNetTorch_r71_BAG_L2       0.873279   0.896706     roc_auc        5.392022       6.014220  375.169362                 0.170697                0.320537          32.515176            2       True        182\n",
      "166          CatBoost_r50_BAG_L1       0.873188   0.900425     roc_auc        0.025833       0.025017   13.950607                 0.025833                0.025017          13.950607            1       True         33\n",
      "167          CatBoost_r12_BAG_L2       0.873188   0.904624     roc_auc        5.252313       5.750313  385.188071                 0.030988                0.056630          42.533884            2       True        205\n",
      "168          XGBoost_r194_BAG_L2       0.873188   0.898553     roc_auc        5.401691       5.806745  354.630042                 0.180366                0.113062          11.975855            2       True        144\n",
      "169         LightGBM_r161_BAG_L2       0.873188   0.901046     roc_auc        5.481152       5.847173  367.530976                 0.259827                0.153490          24.876789            2       True        149\n",
      "170  NeuralNetFastAI_r100_BAG_L1       0.873098   0.885530     roc_auc        0.368319       0.496492  121.595153                 0.368319                0.496492         121.595153            1       True        101\n",
      "171          CatBoost_r60_BAG_L1       0.872917   0.898394     roc_auc        0.022114       0.018096   15.775516                 0.022114                0.018096          15.775516            1       True         80\n",
      "172            LightGBMXT_BAG_L1       0.872917   0.897479     roc_auc        1.370548       0.047251   18.013692                 1.370548                0.047251          18.013692            1       True          3\n",
      "173    NeuralNetTorch_r87_BAG_L2       0.872826   0.901219     roc_auc        5.421411       6.012677  385.089281                 0.200086                0.318994          42.435095            2       True        181\n",
      "174    NeuralNetTorch_r14_BAG_L2       0.872826   0.901381     roc_auc        5.422881       5.988617  374.357984                 0.201557                0.294935          31.703798            2       True        148\n",
      "175  NeuralNetFastAI_r102_BAG_L2       0.872736   0.906702     roc_auc        5.552681       6.269293  422.737474                 0.331356                0.575610          80.083287            2       True        133\n",
      "176   NeuralNetTorch_r197_BAG_L2       0.872464   0.902368     roc_auc        5.388924       6.094456  370.685763                 0.167599                0.400774          28.031576            2       True        163\n",
      "177   NeuralNetTorch_r121_BAG_L2       0.872283   0.898748     roc_auc        5.423972       6.038633  425.723117                 0.202647                0.344950          83.068931            2       True        201\n",
      "178               XGBoost_BAG_L1       0.872283   0.888500     roc_auc        0.126806       0.100157   10.092979                 0.126806                0.100157          10.092979            1       True         11\n",
      "179    NeuralNetTorch_r76_BAG_L2       0.872283   0.901923     roc_auc        5.395251       6.025980  372.634427                 0.173926                0.332298          29.980240            2       True        199\n",
      "180         CatBoost_r177_BAG_L2       0.872101   0.903378     roc_auc        5.247792       5.750298  364.944737                 0.026467                0.056615          22.290550            2       True        123\n",
      "181         CatBoost_r143_BAG_L1       0.871920   0.895451     roc_auc        0.020186       0.031076   17.862963                 0.020186                0.031076          17.862963            1       True         74\n",
      "182        ExtraTrees_r42_BAG_L1       0.871920   0.885648     roc_auc        0.961530       1.075026   13.540779                 0.961530                1.075026          13.540779            1       True         22\n",
      "183      RandomForest_r39_BAG_L1       0.871830   0.882271     roc_auc        0.909789       1.164885   19.951839                 0.909789                1.164885          19.951839            1       True         45\n",
      "184       ExtraTrees_r197_BAG_L1       0.871830   0.885579     roc_auc        0.921298       1.085984   18.637663                 0.921298                1.085984          18.637663            1       True         91\n",
      "185         CatBoost_r143_BAG_L2       0.871830   0.904030     roc_auc        5.248925       5.740716  372.993499                 0.027601                0.047033          30.339312            2       True        183\n",
      "186  NeuralNetFastAI_r156_BAG_L1       0.871649   0.893233     roc_auc        0.330071       0.320250   81.998008                 0.330071                0.320250          81.998008            1       True         43\n",
      "187         CatBoost_r167_BAG_L1       0.871196   0.894367     roc_auc        0.020271       0.019950   18.164648                 0.020271                0.019950          18.164648            1       True         46\n",
      "188  NeuralNetFastAI_r103_BAG_L1       0.871196   0.895371     roc_auc        0.127809       0.181026   34.001916                 0.127809                0.181026          34.001916            1       True         38\n",
      "189    NeuralNetTorch_r30_BAG_L2       0.871196   0.898023     roc_auc        5.442599       6.040092  445.576610                 0.221274                0.346409         102.922423            2       True        139\n",
      "190  NeuralNetFastAI_r145_BAG_L2       0.871014   0.902159     roc_auc        5.389588       5.935401  384.963927                 0.168263                0.241719          42.309740            2       True        137\n",
      "191  NeuralNetFastAI_r194_BAG_L1       0.870833   0.893419     roc_auc        0.125602       0.209309   31.140445                 0.125602                0.209309          31.140445            1       True         95\n",
      "192    NeuralNetTorch_r89_BAG_L2       0.870743   0.901101     roc_auc        5.428441       5.986547  388.116610                 0.207116                0.292864          45.462423            2       True        219\n",
      "193  NeuralNetFastAI_r103_BAG_L2       0.870471   0.899226     roc_auc        5.361831       5.896083  377.997257                 0.140507                0.202400          35.343070            2       True        147\n",
      "194       NeuralNetFastAI_BAG_L1       0.870380   0.888245     roc_auc        2.648782       0.162161   32.275073                 2.648782                0.162161          32.275073            1       True         10\n",
      "195  NeuralNetFastAI_r156_BAG_L2       0.870380   0.899284     roc_auc        5.536759       6.037758  425.547550                 0.315434                0.344075          82.893363            2       True        152\n",
      "196      RandomForest_r16_BAG_L1       0.870290   0.878895     roc_auc        0.903883       1.102240   28.573607                 0.903883                1.102240          28.573607            1       True         94\n",
      "197        NeuralNetTorch_BAG_L2       0.870199   0.902561     roc_auc        5.398895       6.032826  383.865214                 0.177570                0.339144          41.211028            2       True        121\n",
      "198  NeuralNetFastAI_r194_BAG_L2       0.869565   0.894249     roc_auc        5.350131       5.972199  373.165270                 0.128806                0.278517          30.511083            2       True        204\n",
      "199  NeuralNetFastAI_r191_BAG_L1       0.869475   0.891095     roc_auc        0.193928       0.175856   41.550333                 0.193928                0.175856          41.550333            1       True         17\n",
      "200     RandomForest_r195_BAG_L1       0.868841   0.880417     roc_auc        0.908637       0.940284   21.177455                 0.908637                0.940284          21.177455            1       True         26\n",
      "201   NeuralNetFastAI_r69_BAG_L1       0.868659   0.895673     roc_auc        0.140017       0.251817   35.694969                 0.140017                0.251817          35.694969            1       True         84\n",
      "202   NeuralNetFastAI_r95_BAG_L2       0.868569   0.898988     roc_auc        5.379526       5.948350  386.529429                 0.158202                0.254668          43.875243            2       True        156\n",
      "203  NeuralNetFastAI_r191_BAG_L2       0.868478   0.896254     roc_auc        5.357584       5.906867  386.446997                 0.136259                0.213184          43.792811            2       True        126\n",
      "204   NeuralNetTorch_r158_BAG_L2       0.868478   0.893756     roc_auc        5.451632       5.994697  453.295651                 0.230308                0.301015         110.641464            2       True        160\n",
      "205    NeuralNetTorch_r89_BAG_L1       0.868207   0.893545     roc_auc        0.097645       0.173955   46.536825                 0.097645                0.173955          46.536825            1       True        110\n",
      "206    NeuralNetTorch_r19_BAG_L2       0.867844   0.901863     roc_auc        5.396091       5.992088  372.273484                 0.174767                0.298405          29.619298            2       True        214\n",
      "207     NeuralNetTorch_r1_BAG_L2       0.867663   0.905989     roc_auc        5.431302       6.013165  391.210538                 0.209977                0.319483          48.556352            2       True        218\n",
      "208    NeuralNetTorch_r41_BAG_L1       0.866848   0.894722     roc_auc        0.103768       0.198288   47.124502                 0.103768                0.198288          47.124502            1       True         48\n",
      "209   NeuralNetTorch_r185_BAG_L1       0.866848   0.892362     roc_auc        0.103789       0.168863   38.534221                 0.103789                0.168863          38.534221            1       True         78\n",
      "210  NeuralNetFastAI_r138_BAG_L2       0.866576   0.894804     roc_auc        5.392738       5.978289  397.778879                 0.171413                0.284606          55.124693            2       True        195\n",
      "211   NeuralNetFastAI_r88_BAG_L1       0.866304   0.873853     roc_auc        0.097882       0.170845   24.782618                 0.097882                0.170845          24.782618            1       True         68\n",
      "212  NeuralNetFastAI_r100_BAG_L2       0.865942   0.892701     roc_auc        5.589346       6.117046  461.939936                 0.368022                0.423364         119.285749            2       True        210\n",
      "213   NeuralNetTorch_r185_BAG_L2       0.864946   0.901022     roc_auc        5.419645       6.042543  386.341693                 0.198320                0.348861          43.687507            2       True        187\n",
      "214   NeuralNetFastAI_r11_BAG_L2       0.864674   0.901354     roc_auc        5.395078       5.959112  391.489448                 0.173753                0.265429          48.835261            2       True        143\n",
      "215  NeuralNetFastAI_r134_BAG_L1       0.864493   0.895128     roc_auc        0.392376       0.410611  143.833791                 0.392376                0.410611         143.833791            1       True         59\n",
      "216  NeuralNetFastAI_r134_BAG_L2       0.862681   0.902341     roc_auc        5.611802       6.151554  492.197161                 0.390477                0.457872         149.542975            2       True        168\n",
      "217         LightGBMLarge_BAG_L1       0.854710   0.866446     roc_auc        0.096938       0.032657   18.290468                 0.096938                0.032657          18.290468            1       True         13\n",
      "218        KNeighborsUnif_BAG_L1       0.829438   0.840295     roc_auc        0.258514       0.054515    7.079727                 0.258514                0.054515           7.079727            1       True          1\n",
      "219        KNeighborsDist_BAG_L1       0.827672   0.841958     roc_auc        0.030700       0.046268    6.915574                 0.030700                0.046268           6.915574            1       True          2\n",
      "\t0\t = Optimal   num_stack_levels (Stacked Overfitting Occurred: True)\n",
      "\t7751s\t = DyStack   runtime |\t31849s\t = Remaining runtime\n",
      "Starting main fit with num_stack_levels=0.\n",
      "\tFor future fit calls on this dataset, you can skip DyStack to save time: `predictor.fit(..., dynamic_stacking=False, num_stack_levels=0)`\n",
      "Values in column 'fold' used as split folds instead of being automatically set. Bagged models will have 10 splits.\n",
      "Beginning AutoGluon training ... Time limit = 31849s\n",
      "AutoGluon will save models to \"/AutoGluonModels\"\n",
      "Train Data Rows:    2190\n",
      "Train Data Columns: 12\n",
      "Label Column:       rainfall\n",
      "Problem Type:       binary\n",
      "Preprocessing data ...\n",
      "Selected class <--> label mapping:  class 1 = 1, class 0 = 0\n",
      "Using Feature Generators to preprocess the data ...\n",
      "Fitting AutoMLPipelineFeatureGenerator...\n",
      "\tAvailable Memory:                    30054.77 MB\n",
      "\tTrain Data (Original)  Memory Usage: 0.18 MB (0.0% of available memory)\n",
      "\tInferring data type of each feature based on column values. Set feature_metadata_in to manually specify special dtypes of the features.\n",
      "\tStage 1 Generators:\n",
      "\t\tFitting AsTypeFeatureGenerator...\n",
      "\tStage 2 Generators:\n",
      "\t\tFitting FillNaFeatureGenerator...\n",
      "\tStage 3 Generators:\n",
      "\t\tFitting IdentityFeatureGenerator...\n",
      "\tStage 4 Generators:\n",
      "\t\tFitting DropUniqueFeatureGenerator...\n",
      "\tStage 5 Generators:\n",
      "\t\tFitting DropDuplicatesFeatureGenerator...\n",
      "\tTypes of features in original data (raw dtype, special dtypes):\n",
      "\t\t('float', []) : 10 | ['pressure', 'maxtemp', 'temparature', 'mintemp', 'dewpoint', ...]\n",
      "\t\t('int', [])   :  1 | ['day']\n",
      "\tTypes of features in processed data (raw dtype, special dtypes):\n",
      "\t\t('float', []) : 10 | ['pressure', 'maxtemp', 'temparature', 'mintemp', 'dewpoint', ...]\n",
      "\t\t('int', [])   :  1 | ['day']\n",
      "\t0.0s = Fit runtime\n",
      "\t11 features in original data used to generate 11 features in processed data.\n",
      "\tTrain Data (Processed) Memory Usage: 0.18 MB (0.0% of available memory)\n",
      "Data preprocessing and feature engineering runtime = 0.07s ...\n",
      "AutoGluon will gauge predictive performance using evaluation metric: 'roc_auc'\n",
      "\tThis metric expects predicted probabilities rather than predicted class labels, so you'll need to use predict_proba() instead of predict()\n",
      "\tTo change this, specify the eval_metric parameter of Predictor()\n",
      "Large model count detected (112 configs) ... Only displaying the first 3 models of each family. To see all, set `verbosity=3`.\n",
      "User-specified model hyperparameters to be fit:\n",
      "{\n",
      "\t'NN_TORCH': [{}, {'activation': 'elu', 'dropout_prob': 0.10077639529843717, 'hidden_size': 108, 'learning_rate': 0.002735937344002146, 'num_layers': 4, 'use_batchnorm': True, 'weight_decay': 1.356433327634438e-12, 'ag_args': {'name_suffix': '_r79', 'priority': -2}}, {'activation': 'elu', 'dropout_prob': 0.11897478034205347, 'hidden_size': 213, 'learning_rate': 0.0010474382260641949, 'num_layers': 4, 'use_batchnorm': False, 'weight_decay': 5.594471067786272e-10, 'ag_args': {'name_suffix': '_r22', 'priority': -7}}],\n",
      "\t'GBM': [{'extra_trees': True, 'ag_args': {'name_suffix': 'XT'}}, {}, {'learning_rate': 0.03, 'num_leaves': 128, 'feature_fraction': 0.9, 'min_data_in_leaf': 3, 'ag_args': {'name_suffix': 'Large', 'priority': 0, 'hyperparameter_tune_kwargs': None}}],\n",
      "\t'CAT': [{}, {'depth': 6, 'grow_policy': 'SymmetricTree', 'l2_leaf_reg': 2.1542798306067823, 'learning_rate': 0.06864209415792857, 'max_ctr_complexity': 4, 'one_hot_max_size': 10, 'ag_args': {'name_suffix': '_r177', 'priority': -1}}, {'depth': 8, 'grow_policy': 'Depthwise', 'l2_leaf_reg': 2.7997999596449104, 'learning_rate': 0.031375015734637225, 'max_ctr_complexity': 2, 'one_hot_max_size': 3, 'ag_args': {'name_suffix': '_r9', 'priority': -5}}],\n",
      "\t'XGB': [{}, {'colsample_bytree': 0.6917311125174739, 'enable_categorical': False, 'learning_rate': 0.018063876087523967, 'max_depth': 10, 'min_child_weight': 0.6028633586934382, 'ag_args': {'name_suffix': '_r33', 'priority': -8}}, {'colsample_bytree': 0.6628423832084077, 'enable_categorical': False, 'learning_rate': 0.08775715546881824, 'max_depth': 5, 'min_child_weight': 0.6294123374222513, 'ag_args': {'name_suffix': '_r89', 'priority': -16}}],\n",
      "\t'FASTAI': [{}, {'bs': 256, 'emb_drop': 0.5411770367537934, 'epochs': 43, 'layers': [800, 400], 'lr': 0.01519848858318159, 'ps': 0.23782946566604385, 'ag_args': {'name_suffix': '_r191', 'priority': -4}}, {'bs': 2048, 'emb_drop': 0.05070411322605811, 'epochs': 29, 'layers': [200, 100], 'lr': 0.08974235041576624, 'ps': 0.10393466140748028, 'ag_args': {'name_suffix': '_r102', 'priority': -11}}],\n",
      "\t'RF': [{'criterion': 'gini', 'ag_args': {'name_suffix': 'Gini', 'problem_types': ['binary', 'multiclass']}}, {'criterion': 'entropy', 'ag_args': {'name_suffix': 'Entr', 'problem_types': ['binary', 'multiclass']}}, {'criterion': 'squared_error', 'ag_args': {'name_suffix': 'MSE', 'problem_types': ['regression', 'quantile']}}],\n",
      "\t'XT': [{'criterion': 'gini', 'ag_args': {'name_suffix': 'Gini', 'problem_types': ['binary', 'multiclass']}}, {'criterion': 'entropy', 'ag_args': {'name_suffix': 'Entr', 'problem_types': ['binary', 'multiclass']}}, {'criterion': 'squared_error', 'ag_args': {'name_suffix': 'MSE', 'problem_types': ['regression', 'quantile']}}],\n",
      "\t'KNN': [{'weights': 'uniform', 'ag_args': {'name_suffix': 'Unif'}}, {'weights': 'distance', 'ag_args': {'name_suffix': 'Dist'}}],\n",
      "}\n",
      "Fitting 110 L1 models, fit_strategy=\"sequential\" ...\n",
      "Fitting model: KNeighborsUnif_BAG_L1 ... Training model for up to 31848.86s of the 31848.85s of remaining time.\n",
      "\tForcing `use_child_oof=False` because `groups` is specified\n",
      "\tFitting 10 child models (S1F1 - S1F10) | Fitting with ParallelLocalFoldFittingStrategy (4 workers, per: cpus=1, gpus=0, memory=0.00%)\n",
      "\t0.8409\t = Validation score   (roc_auc)\n",
      "\t6.87s\t = Training   runtime\n",
      "\t0.04s\t = Validation runtime\n",
      "Fitting model: KNeighborsDist_BAG_L1 ... Training model for up to 31838.72s of the 31838.70s of remaining time.\n",
      "\tForcing `use_child_oof=False` because `groups` is specified\n",
      "\tFitting 10 child models (S1F1 - S1F10) | Fitting with ParallelLocalFoldFittingStrategy (4 workers, per: cpus=1, gpus=0, memory=0.00%)\n",
      "\t0.8427\t = Validation score   (roc_auc)\n",
      "\t6.67s\t = Training   runtime\n",
      "\t0.05s\t = Validation runtime\n",
      "Fitting model: LightGBMXT_BAG_L1 ... Training model for up to 31828.17s of the 31828.16s of remaining time.\n",
      "\tFitting 10 child models (S1F1 - S1F10) | Fitting with ParallelLocalFoldFittingStrategy (4 workers, per: cpus=1, gpus=0, memory=0.01%)\n",
      "\t0.8965\t = Validation score   (roc_auc)\n",
      "\t13.97s\t = Training   runtime\n",
      "\t0.05s\t = Validation runtime\n",
      "Fitting model: LightGBM_BAG_L1 ... Training model for up to 31810.76s of the 31810.74s of remaining time.\n",
      "\tFitting 10 child models (S1F1 - S1F10) | Fitting with ParallelLocalFoldFittingStrategy (4 workers, per: cpus=1, gpus=0, memory=0.01%)\n",
      "\t0.8886\t = Validation score   (roc_auc)\n",
      "\t14.89s\t = Training   runtime\n",
      "\t0.03s\t = Validation runtime\n",
      "Fitting model: RandomForestGini_BAG_L1 ... Training model for up to 31792.55s of the 31792.53s of remaining time.\n",
      "\tForcing `use_child_oof=False` because `groups` is specified\n",
      "\tFitting 10 child models (S1F1 - S1F10) | Fitting with ParallelLocalFoldFittingStrategy (4 workers, per: cpus=1, gpus=0, memory=0.01%)\n",
      "\t0.8818\t = Validation score   (roc_auc)\n",
      "\t14.12s\t = Training   runtime\n",
      "\t1.02s\t = Validation runtime\n",
      "Fitting model: RandomForestEntr_BAG_L1 ... Training model for up to 31774.80s of the 31774.78s of remaining time.\n",
      "\tForcing `use_child_oof=False` because `groups` is specified\n",
      "\tFitting 10 child models (S1F1 - S1F10) | Fitting with ParallelLocalFoldFittingStrategy (4 workers, per: cpus=1, gpus=0, memory=0.01%)\n",
      "\t0.8829\t = Validation score   (roc_auc)\n",
      "\t14.67s\t = Training   runtime\n",
      "\t1.25s\t = Validation runtime\n",
      "Fitting model: CatBoost_BAG_L1 ... Training model for up to 31756.20s of the 31756.18s of remaining time.\n",
      "\tFitting 10 child models (S1F1 - S1F10) | Fitting with ParallelLocalFoldFittingStrategy (4 workers, per: cpus=1, gpus=0, memory=0.02%)\n",
      "\t0.8958\t = Validation score   (roc_auc)\n",
      "\t15.72s\t = Training   runtime\n",
      "\t0.02s\t = Validation runtime\n",
      "Fitting model: ExtraTreesGini_BAG_L1 ... Training model for up to 31737.27s of the 31737.25s of remaining time.\n",
      "\tForcing `use_child_oof=False` because `groups` is specified\n",
      "\tFitting 10 child models (S1F1 - S1F10) | Fitting with ParallelLocalFoldFittingStrategy (4 workers, per: cpus=1, gpus=0, memory=0.01%)\n",
      "\t0.8876\t = Validation score   (roc_auc)\n",
      "\t12.4s\t = Training   runtime\n",
      "\t1.01s\t = Validation runtime\n",
      "Fitting model: ExtraTreesEntr_BAG_L1 ... Training model for up to 31721.33s of the 31721.31s of remaining time.\n",
      "\tForcing `use_child_oof=False` because `groups` is specified\n",
      "\tFitting 10 child models (S1F1 - S1F10) | Fitting with ParallelLocalFoldFittingStrategy (4 workers, per: cpus=1, gpus=0, memory=0.01%)\n",
      "\t0.8884\t = Validation score   (roc_auc)\n",
      "\t12.72s\t = Training   runtime\n",
      "\t1.04s\t = Validation runtime\n",
      "Fitting model: NeuralNetFastAI_BAG_L1 ... Training model for up to 31705.21s of the 31705.19s of remaining time.\n",
      "\tFitting 10 child models (S1F1 - S1F10) | Fitting with ParallelLocalFoldFittingStrategy (4 workers, per: cpus=1, gpus=0, memory=0.01%)\n",
      "\t0.8911\t = Validation score   (roc_auc)\n",
      "\t30.12s\t = Training   runtime\n",
      "\t0.18s\t = Validation runtime\n",
      "Fitting model: XGBoost_BAG_L1 ... Training model for up to 31671.85s of the 31671.84s of remaining time.\n",
      "\tFitting 10 child models (S1F1 - S1F10) | Fitting with ParallelLocalFoldFittingStrategy (4 workers, per: cpus=1, gpus=0, memory=0.02%)\n",
      "\t0.8847\t = Validation score   (roc_auc)\n",
      "\t9.42s\t = Training   runtime\n",
      "\t0.08s\t = Validation runtime\n",
      "Fitting model: NeuralNetTorch_BAG_L1 ... Training model for up to 31659.07s of the 31659.06s of remaining time.\n",
      "\tFitting 10 child models (S1F1 - S1F10) | Fitting with ParallelLocalFoldFittingStrategy (4 workers, per: cpus=1, gpus=0, memory=0.00%)\n",
      "\t0.8881\t = Validation score   (roc_auc)\n",
      "\t41.42s\t = Training   runtime\n",
      "\t0.13s\t = Validation runtime\n",
      "Fitting model: LightGBMLarge_BAG_L1 ... Training model for up to 31614.29s of the 31614.27s of remaining time.\n",
      "\tFitting 10 child models (S1F1 - S1F10) | Fitting with ParallelLocalFoldFittingStrategy (4 workers, per: cpus=1, gpus=0, memory=0.03%)\n",
      "\t0.8663\t = Validation score   (roc_auc)\n",
      "\t18.32s\t = Training   runtime\n",
      "\t0.03s\t = Validation runtime\n",
      "Fitting model: CatBoost_r177_BAG_L1 ... Training model for up to 31591.82s of the 31591.80s of remaining time.\n",
      "\tFitting 10 child models (S1F1 - S1F10) | Fitting with ParallelLocalFoldFittingStrategy (4 workers, per: cpus=1, gpus=0, memory=0.02%)\n",
      "\t0.8926\t = Validation score   (roc_auc)\n",
      "\t15.34s\t = Training   runtime\n",
      "\t0.02s\t = Validation runtime\n",
      "Fitting model: NeuralNetTorch_r79_BAG_L1 ... Training model for up to 31573.11s of the 31573.09s of remaining time.\n",
      "\tFitting 10 child models (S1F1 - S1F10) | Fitting with ParallelLocalFoldFittingStrategy (4 workers, per: cpus=1, gpus=0, memory=0.00%)\n",
      "\t0.8938\t = Validation score   (roc_auc)\n",
      "\t51.77s\t = Training   runtime\n",
      "\t0.13s\t = Validation runtime\n",
      "Fitting model: LightGBM_r131_BAG_L1 ... Training model for up to 31518.11s of the 31518.09s of remaining time.\n",
      "\tFitting 10 child models (S1F1 - S1F10) | Fitting with ParallelLocalFoldFittingStrategy (4 workers, per: cpus=1, gpus=0, memory=0.02%)\n",
      "\t0.8864\t = Validation score   (roc_auc)\n",
      "\t16.53s\t = Training   runtime\n",
      "\t0.08s\t = Validation runtime\n",
      "Fitting model: NeuralNetFastAI_r191_BAG_L1 ... Training model for up to 31497.70s of the 31497.69s of remaining time.\n",
      "\tFitting 10 child models (S1F1 - S1F10) | Fitting with ParallelLocalFoldFittingStrategy (4 workers, per: cpus=1, gpus=0, memory=0.01%)\n",
      "\t0.8888\t = Validation score   (roc_auc)\n",
      "\t46.93s\t = Training   runtime\n",
      "\t0.27s\t = Validation runtime\n",
      "Fitting model: CatBoost_r9_BAG_L1 ... Training model for up to 31447.34s of the 31447.33s of remaining time.\n",
      "\tFitting 10 child models (S1F1 - S1F10) | Fitting with ParallelLocalFoldFittingStrategy (4 workers, per: cpus=1, gpus=0, memory=0.06%)\n",
      "\t0.8927\t = Validation score   (roc_auc)\n",
      "\t38.76s\t = Training   runtime\n",
      "\t0.03s\t = Validation runtime\n",
      "Fitting model: LightGBM_r96_BAG_L1 ... Training model for up to 31404.75s of the 31404.74s of remaining time.\n",
      "\tFitting 10 child models (S1F1 - S1F10) | Fitting with ParallelLocalFoldFittingStrategy (4 workers, per: cpus=1, gpus=0, memory=0.01%)\n",
      "\t0.8968\t = Validation score   (roc_auc)\n",
      "\t14.69s\t = Training   runtime\n",
      "\t0.19s\t = Validation runtime\n",
      "Fitting model: NeuralNetTorch_r22_BAG_L1 ... Training model for up to 31386.64s of the 31386.62s of remaining time.\n",
      "\tFitting 10 child models (S1F1 - S1F10) | Fitting with ParallelLocalFoldFittingStrategy (4 workers, per: cpus=1, gpus=0, memory=0.00%)\n",
      "\t0.8935\t = Validation score   (roc_auc)\n",
      "\t44.75s\t = Training   runtime\n",
      "\t0.19s\t = Validation runtime\n",
      "Fitting model: XGBoost_r33_BAG_L1 ... Training model for up to 31337.84s of the 31337.82s of remaining time.\n",
      "\tFitting 10 child models (S1F1 - S1F10) | Fitting with ParallelLocalFoldFittingStrategy (4 workers, per: cpus=1, gpus=0, memory=0.12%)\n",
      "\t0.8871\t = Validation score   (roc_auc)\n",
      "\t13.46s\t = Training   runtime\n",
      "\t0.11s\t = Validation runtime\n",
      "Fitting model: ExtraTrees_r42_BAG_L1 ... Training model for up to 31320.69s of the 31320.67s of remaining time.\n",
      "\tForcing `use_child_oof=False` because `groups` is specified\n",
      "\tFitting 10 child models (S1F1 - S1F10) | Fitting with ParallelLocalFoldFittingStrategy (4 workers, per: cpus=1, gpus=0, memory=0.01%)\n",
      "\t0.8855\t = Validation score   (roc_auc)\n",
      "\t14.19s\t = Training   runtime\n",
      "\t1.1s\t = Validation runtime\n",
      "Fitting model: CatBoost_r137_BAG_L1 ... Training model for up to 31302.52s of the 31302.50s of remaining time.\n",
      "\tFitting 10 child models (S1F1 - S1F10) | Fitting with ParallelLocalFoldFittingStrategy (4 workers, per: cpus=1, gpus=0, memory=0.01%)\n",
      "\t0.8974\t = Validation score   (roc_auc)\n",
      "\t13.36s\t = Training   runtime\n",
      "\t0.02s\t = Validation runtime\n",
      "Fitting model: NeuralNetFastAI_r102_BAG_L1 ... Training model for up to 31285.91s of the 31285.90s of remaining time.\n",
      "\tFitting 10 child models (S1F1 - S1F10) | Fitting with ParallelLocalFoldFittingStrategy (4 workers, per: cpus=1, gpus=0, memory=0.01%)\n",
      "\t0.8957\t = Validation score   (roc_auc)\n",
      "\t83.33s\t = Training   runtime\n",
      "\t0.36s\t = Validation runtime\n",
      "Fitting model: CatBoost_r13_BAG_L1 ... Training model for up to 31199.02s of the 31199.00s of remaining time.\n",
      "\tFitting 10 child models (S1F1 - S1F10) | Fitting with ParallelLocalFoldFittingStrategy (4 workers, per: cpus=1, gpus=0, memory=0.06%)\n",
      "\t0.8948\t = Validation score   (roc_auc)\n",
      "\t30.35s\t = Training   runtime\n",
      "\t0.02s\t = Validation runtime\n",
      "Fitting model: RandomForest_r195_BAG_L1 ... Training model for up to 31165.59s of the 31165.57s of remaining time.\n",
      "\tForcing `use_child_oof=False` because `groups` is specified\n",
      "\tFitting 10 child models (S1F1 - S1F10) | Fitting with ParallelLocalFoldFittingStrategy (4 workers, per: cpus=1, gpus=0, memory=0.01%)\n",
      "\t0.8789\t = Validation score   (roc_auc)\n",
      "\t22.27s\t = Training   runtime\n",
      "\t1.17s\t = Validation runtime\n",
      "Fitting model: LightGBM_r188_BAG_L1 ... Training model for up to 31139.96s of the 31139.94s of remaining time.\n",
      "\tFitting 10 child models (S1F1 - S1F10) | Fitting with ParallelLocalFoldFittingStrategy (4 workers, per: cpus=1, gpus=0, memory=0.03%)\n",
      "\t0.8948\t = Validation score   (roc_auc)\n",
      "\t15.45s\t = Training   runtime\n",
      "\t0.06s\t = Validation runtime\n",
      "Fitting model: NeuralNetFastAI_r145_BAG_L1 ... Training model for up to 31121.29s of the 31121.27s of remaining time.\n",
      "\tFitting 10 child models (S1F1 - S1F10) | Fitting with ParallelLocalFoldFittingStrategy (4 workers, per: cpus=1, gpus=0, memory=0.01%)\n",
      "\t0.8885\t = Validation score   (roc_auc)\n",
      "\t43.84s\t = Training   runtime\n",
      "\t0.24s\t = Validation runtime\n",
      "Fitting model: XGBoost_r89_BAG_L1 ... Training model for up to 31073.99s of the 31073.97s of remaining time.\n",
      "\tFitting 10 child models (S1F1 - S1F10) | Fitting with ParallelLocalFoldFittingStrategy (4 workers, per: cpus=1, gpus=0, memory=0.02%)\n",
      "\t0.8932\t = Validation score   (roc_auc)\n",
      "\t9.14s\t = Training   runtime\n",
      "\t0.06s\t = Validation runtime\n",
      "Fitting model: NeuralNetTorch_r30_BAG_L1 ... Training model for up to 31061.28s of the 31061.26s of remaining time.\n",
      "\tFitting 10 child models (S1F1 - S1F10) | Fitting with ParallelLocalFoldFittingStrategy (4 workers, per: cpus=1, gpus=0, memory=0.00%)\n",
      "\t0.8897\t = Validation score   (roc_auc)\n",
      "\t51.83s\t = Training   runtime\n",
      "\t0.13s\t = Validation runtime\n",
      "Fitting model: LightGBM_r130_BAG_L1 ... Training model for up to 31005.66s of the 31005.64s of remaining time.\n",
      "\tFitting 10 child models (S1F1 - S1F10) | Fitting with ParallelLocalFoldFittingStrategy (4 workers, per: cpus=1, gpus=0, memory=0.02%)\n",
      "\t0.8946\t = Validation score   (roc_auc)\n",
      "\t14.66s\t = Training   runtime\n",
      "\t0.04s\t = Validation runtime\n",
      "Fitting model: NeuralNetTorch_r86_BAG_L1 ... Training model for up to 30987.57s of the 30987.55s of remaining time.\n",
      "\tFitting 10 child models (S1F1 - S1F10) | Fitting with ParallelLocalFoldFittingStrategy (4 workers, per: cpus=1, gpus=0, memory=0.00%)\n",
      "\t0.8864\t = Validation score   (roc_auc)\n",
      "\t39.25s\t = Training   runtime\n",
      "\t0.13s\t = Validation runtime\n",
      "Fitting model: CatBoost_r50_BAG_L1 ... Training model for up to 30944.69s of the 30944.67s of remaining time.\n",
      "\tFitting 10 child models (S1F1 - S1F10) | Fitting with ParallelLocalFoldFittingStrategy (4 workers, per: cpus=1, gpus=0, memory=0.01%)\n",
      "\t0.8991\t = Validation score   (roc_auc)\n",
      "\t14.98s\t = Training   runtime\n",
      "\t0.03s\t = Validation runtime\n",
      "Fitting model: NeuralNetFastAI_r11_BAG_L1 ... Training model for up to 30926.07s of the 30926.05s of remaining time.\n",
      "\tFitting 10 child models (S1F1 - S1F10) | Fitting with ParallelLocalFoldFittingStrategy (4 workers, per: cpus=1, gpus=0, memory=0.01%)\n",
      "\t0.8929\t = Validation score   (roc_auc)\n",
      "\t54.01s\t = Training   runtime\n",
      "\t0.23s\t = Validation runtime\n",
      "Fitting model: XGBoost_r194_BAG_L1 ... Training model for up to 30868.73s of the 30868.71s of remaining time.\n",
      "\tFitting 10 child models (S1F1 - S1F10) | Fitting with ParallelLocalFoldFittingStrategy (4 workers, per: cpus=1, gpus=0, memory=0.03%)\n",
      "\t0.887\t = Validation score   (roc_auc)\n",
      "\t10.78s\t = Training   runtime\n",
      "\t0.07s\t = Validation runtime\n",
      "Fitting model: ExtraTrees_r172_BAG_L1 ... Training model for up to 30854.37s of the 30854.35s of remaining time.\n",
      "\tForcing `use_child_oof=False` because `groups` is specified\n",
      "\tFitting 10 child models (S1F1 - S1F10) | Fitting with ParallelLocalFoldFittingStrategy (4 workers, per: cpus=1, gpus=0, memory=0.01%)\n",
      "\t0.8912\t = Validation score   (roc_auc)\n",
      "\t12.68s\t = Training   runtime\n",
      "\t0.97s\t = Validation runtime\n",
      "Fitting model: CatBoost_r69_BAG_L1 ... Training model for up to 30838.06s of the 30838.04s of remaining time.\n",
      "\tFitting 10 child models (S1F1 - S1F10) | Fitting with ParallelLocalFoldFittingStrategy (4 workers, per: cpus=1, gpus=0, memory=0.01%)\n",
      "\t0.8971\t = Validation score   (roc_auc)\n",
      "\t15.13s\t = Training   runtime\n",
      "\t0.02s\t = Validation runtime\n",
      "Fitting model: NeuralNetFastAI_r103_BAG_L1 ... Training model for up to 30819.30s of the 30819.28s of remaining time.\n",
      "\tFitting 10 child models (S1F1 - S1F10) | Fitting with ParallelLocalFoldFittingStrategy (4 workers, per: cpus=1, gpus=0, memory=0.01%)\n",
      "\t0.8904\t = Validation score   (roc_auc)\n",
      "\t38.51s\t = Training   runtime\n",
      "\t0.16s\t = Validation runtime\n",
      "Fitting model: NeuralNetTorch_r14_BAG_L1 ... Training model for up to 30777.41s of the 30777.39s of remaining time.\n",
      "\tFitting 10 child models (S1F1 - S1F10) | Fitting with ParallelLocalFoldFittingStrategy (4 workers, per: cpus=1, gpus=0, memory=0.00%)\n",
      "\t0.8948\t = Validation score   (roc_auc)\n",
      "\t36.57s\t = Training   runtime\n",
      "\t0.12s\t = Validation runtime\n",
      "Fitting model: LightGBM_r161_BAG_L1 ... Training model for up to 30737.22s of the 30737.21s of remaining time.\n",
      "\tFitting 10 child models (S1F1 - S1F10) | Fitting with ParallelLocalFoldFittingStrategy (4 workers, per: cpus=1, gpus=0, memory=0.06%)\n",
      "\t0.888\t = Validation score   (roc_auc)\n",
      "\t20.49s\t = Training   runtime\n",
      "\t0.21s\t = Validation runtime\n",
      "Fitting model: NeuralNetFastAI_r143_BAG_L1 ... Training model for up to 30713.05s of the 30713.03s of remaining time.\n",
      "\tFitting 10 child models (S1F1 - S1F10) | Fitting with ParallelLocalFoldFittingStrategy (4 workers, per: cpus=1, gpus=0, memory=0.01%)\n",
      "\t0.894\t = Validation score   (roc_auc)\n",
      "\t26.47s\t = Training   runtime\n",
      "\t0.17s\t = Validation runtime\n",
      "Fitting model: CatBoost_r70_BAG_L1 ... Training model for up to 30683.02s of the 30683.00s of remaining time.\n",
      "\tFitting 10 child models (S1F1 - S1F10) | Fitting with ParallelLocalFoldFittingStrategy (4 workers, per: cpus=1, gpus=0, memory=0.02%)\n",
      "\t0.8942\t = Validation score   (roc_auc)\n",
      "\t23.19s\t = Training   runtime\n",
      "\t0.02s\t = Validation runtime\n",
      "Fitting model: NeuralNetFastAI_r156_BAG_L1 ... Training model for up to 30656.19s of the 30656.17s of remaining time.\n",
      "\tFitting 10 child models (S1F1 - S1F10) | Fitting with ParallelLocalFoldFittingStrategy (4 workers, per: cpus=1, gpus=0, memory=0.01%)\n",
      "\t0.8913\t = Validation score   (roc_auc)\n",
      "\t85.05s\t = Training   runtime\n",
      "\t0.34s\t = Validation runtime\n",
      "Fitting model: LightGBM_r196_BAG_L1 ... Training model for up to 30567.68s of the 30567.66s of remaining time.\n",
      "\tFitting 10 child models (S1F1 - S1F10) | Fitting with ParallelLocalFoldFittingStrategy (4 workers, per: cpus=1, gpus=0, memory=0.03%)\n",
      "\t0.8946\t = Validation score   (roc_auc)\n",
      "\t20.74s\t = Training   runtime\n",
      "\t0.54s\t = Validation runtime\n",
      "Fitting model: RandomForest_r39_BAG_L1 ... Training model for up to 30542.90s of the 30542.88s of remaining time.\n",
      "\tForcing `use_child_oof=False` because `groups` is specified\n",
      "\tFitting 10 child models (S1F1 - S1F10) | Fitting with ParallelLocalFoldFittingStrategy (4 workers, per: cpus=1, gpus=0, memory=0.01%)\n",
      "\t0.8835\t = Validation score   (roc_auc)\n",
      "\t21.68s\t = Training   runtime\n",
      "\t1.24s\t = Validation runtime\n",
      "Fitting model: CatBoost_r167_BAG_L1 ... Training model for up to 30517.70s of the 30517.68s of remaining time.\n",
      "\tFitting 10 child models (S1F1 - S1F10) | Fitting with ParallelLocalFoldFittingStrategy (4 workers, per: cpus=1, gpus=0, memory=0.03%)\n",
      "\t0.895\t = Validation score   (roc_auc)\n",
      "\t17.53s\t = Training   runtime\n",
      "\t0.02s\t = Validation runtime\n",
      "Fitting model: NeuralNetFastAI_r95_BAG_L1 ... Training model for up to 30496.86s of the 30496.84s of remaining time.\n",
      "\tFitting 10 child models (S1F1 - S1F10) | Fitting with ParallelLocalFoldFittingStrategy (4 workers, per: cpus=1, gpus=0, memory=0.01%)\n",
      "\t0.8878\t = Validation score   (roc_auc)\n",
      "\t44.91s\t = Training   runtime\n",
      "\t0.19s\t = Validation runtime\n",
      "Fitting model: NeuralNetTorch_r41_BAG_L1 ... Training model for up to 30448.48s of the 30448.47s of remaining time.\n",
      "\tFitting 10 child models (S1F1 - S1F10) | Fitting with ParallelLocalFoldFittingStrategy (4 workers, per: cpus=1, gpus=0, memory=0.00%)\n",
      "\t0.8907\t = Validation score   (roc_auc)\n",
      "\t41.58s\t = Training   runtime\n",
      "\t0.13s\t = Validation runtime\n",
      "Fitting model: XGBoost_r98_BAG_L1 ... Training model for up to 30403.22s of the 30403.20s of remaining time.\n",
      "\tFitting 10 child models (S1F1 - S1F10) | Fitting with ParallelLocalFoldFittingStrategy (4 workers, per: cpus=1, gpus=0, memory=0.06%)\n",
      "\t0.8898\t = Validation score   (roc_auc)\n",
      "\t15.07s\t = Training   runtime\n",
      "\t0.13s\t = Validation runtime\n",
      "Fitting model: LightGBM_r15_BAG_L1 ... Training model for up to 30384.80s of the 30384.79s of remaining time.\n",
      "\tFitting 10 child models (S1F1 - S1F10) | Fitting with ParallelLocalFoldFittingStrategy (4 workers, per: cpus=1, gpus=0, memory=0.01%)\n",
      "\t0.889\t = Validation score   (roc_auc)\n",
      "\t15.21s\t = Training   runtime\n",
      "\t0.07s\t = Validation runtime\n",
      "Fitting model: NeuralNetTorch_r158_BAG_L1 ... Training model for up to 30366.24s of the 30366.22s of remaining time.\n",
      "\tFitting 10 child models (S1F1 - S1F10) | Fitting with ParallelLocalFoldFittingStrategy (4 workers, per: cpus=1, gpus=0, memory=0.00%)\n",
      "\t0.878\t = Validation score   (roc_auc)\n",
      "\t72.42s\t = Training   runtime\n",
      "\t0.19s\t = Validation runtime\n",
      "Fitting model: CatBoost_r86_BAG_L1 ... Training model for up to 30290.43s of the 30290.41s of remaining time.\n",
      "\tFitting 10 child models (S1F1 - S1F10) | Fitting with ParallelLocalFoldFittingStrategy (4 workers, per: cpus=1, gpus=0, memory=0.06%)\n",
      "\t0.893\t = Validation score   (roc_auc)\n",
      "\t24.13s\t = Training   runtime\n",
      "\t0.02s\t = Validation runtime\n",
      "Fitting model: NeuralNetFastAI_r37_BAG_L1 ... Training model for up to 30262.83s of the 30262.81s of remaining time.\n",
      "\tFitting 10 child models (S1F1 - S1F10) | Fitting with ParallelLocalFoldFittingStrategy (4 workers, per: cpus=1, gpus=0, memory=0.01%)\n",
      "\t0.8897\t = Validation score   (roc_auc)\n",
      "\t32.56s\t = Training   runtime\n",
      "\t0.15s\t = Validation runtime\n",
      "Fitting model: NeuralNetTorch_r197_BAG_L1 ... Training model for up to 30227.00s of the 30226.98s of remaining time.\n",
      "\tFitting 10 child models (S1F1 - S1F10) | Fitting with ParallelLocalFoldFittingStrategy (4 workers, per: cpus=1, gpus=0, memory=0.00%)\n",
      "\t0.8948\t = Validation score   (roc_auc)\n",
      "\t33.02s\t = Training   runtime\n",
      "\t0.12s\t = Validation runtime\n",
      "Fitting model: CatBoost_r49_BAG_L1 ... Training model for up to 30190.27s of the 30190.25s of remaining time.\n",
      "\tFitting 10 child models (S1F1 - S1F10) | Fitting with ParallelLocalFoldFittingStrategy (4 workers, per: cpus=1, gpus=0, memory=0.01%)\n",
      "\t0.8956\t = Validation score   (roc_auc)\n",
      "\t12.93s\t = Training   runtime\n",
      "\t0.02s\t = Validation runtime\n",
      "Fitting model: ExtraTrees_r49_BAG_L1 ... Training model for up to 30173.95s of the 30173.93s of remaining time.\n",
      "\tForcing `use_child_oof=False` because `groups` is specified\n",
      "\tFitting 10 child models (S1F1 - S1F10) | Fitting with ParallelLocalFoldFittingStrategy (4 workers, per: cpus=1, gpus=0, memory=0.01%)\n",
      "\t0.8876\t = Validation score   (roc_auc)\n",
      "\t14.66s\t = Training   runtime\n",
      "\t1.14s\t = Validation runtime\n",
      "Fitting model: LightGBM_r143_BAG_L1 ... Training model for up to 30155.72s of the 30155.70s of remaining time.\n",
      "\tFitting 10 child models (S1F1 - S1F10) | Fitting with ParallelLocalFoldFittingStrategy (4 workers, per: cpus=1, gpus=0, memory=0.04%)\n",
      "\t0.8883\t = Validation score   (roc_auc)\n",
      "\t17.92s\t = Training   runtime\n",
      "\t0.11s\t = Validation runtime\n",
      "Fitting model: RandomForest_r127_BAG_L1 ... Training model for up to 30134.42s of the 30134.40s of remaining time.\n",
      "\tForcing `use_child_oof=False` because `groups` is specified\n",
      "\tFitting 10 child models (S1F1 - S1F10) | Fitting with ParallelLocalFoldFittingStrategy (4 workers, per: cpus=1, gpus=0, memory=0.01%)\n",
      "\t0.8868\t = Validation score   (roc_auc)\n",
      "\t23.82s\t = Training   runtime\n",
      "\t1.18s\t = Validation runtime\n",
      "Fitting model: NeuralNetFastAI_r134_BAG_L1 ... Training model for up to 30107.18s of the 30107.17s of remaining time.\n",
      "\tFitting 10 child models (S1F1 - S1F10) | Fitting with ParallelLocalFoldFittingStrategy (4 workers, per: cpus=1, gpus=0, memory=0.01%)\n",
      "\t0.8931\t = Validation score   (roc_auc)\n",
      "\t142.66s\t = Training   runtime\n",
      "\t0.39s\t = Validation runtime\n",
      "Fitting model: RandomForest_r34_BAG_L1 ... Training model for up to 29961.05s of the 29961.03s of remaining time.\n",
      "\tForcing `use_child_oof=False` because `groups` is specified\n",
      "\tFitting 10 child models (S1F1 - S1F10) | Fitting with ParallelLocalFoldFittingStrategy (4 workers, per: cpus=1, gpus=0, memory=0.01%)\n",
      "\t0.8912\t = Validation score   (roc_auc)\n",
      "\t15.67s\t = Training   runtime\n",
      "\t1.23s\t = Validation runtime\n",
      "Fitting model: LightGBM_r94_BAG_L1 ... Training model for up to 29941.93s of the 29941.91s of remaining time.\n",
      "\tFitting 10 child models (S1F1 - S1F10) | Fitting with ParallelLocalFoldFittingStrategy (4 workers, per: cpus=1, gpus=0, memory=0.01%)\n",
      "\t0.8962\t = Validation score   (roc_auc)\n",
      "\t14.03s\t = Training   runtime\n",
      "\t0.12s\t = Validation runtime\n",
      "Fitting model: NeuralNetTorch_r143_BAG_L1 ... Training model for up to 29924.56s of the 29924.54s of remaining time.\n",
      "\tFitting 10 child models (S1F1 - S1F10) | Fitting with ParallelLocalFoldFittingStrategy (4 workers, per: cpus=1, gpus=0, memory=0.00%)\n",
      "\t0.8945\t = Validation score   (roc_auc)\n",
      "\t54.2s\t = Training   runtime\n",
      "\t0.19s\t = Validation runtime\n",
      "Fitting model: CatBoost_r128_BAG_L1 ... Training model for up to 29866.89s of the 29866.87s of remaining time.\n",
      "\tFitting 10 child models (S1F1 - S1F10) | Fitting with ParallelLocalFoldFittingStrategy (4 workers, per: cpus=1, gpus=0, memory=0.06%)\n",
      "\t0.8915\t = Validation score   (roc_auc)\n",
      "\t38.18s\t = Training   runtime\n",
      "\t0.02s\t = Validation runtime\n",
      "Fitting model: NeuralNetFastAI_r111_BAG_L1 ... Training model for up to 29825.29s of the 29825.27s of remaining time.\n",
      "\tFitting 10 child models (S1F1 - S1F10) | Fitting with ParallelLocalFoldFittingStrategy (4 workers, per: cpus=1, gpus=0, memory=0.01%)\n",
      "\t0.8941\t = Validation score   (roc_auc)\n",
      "\t70.97s\t = Training   runtime\n",
      "\t0.53s\t = Validation runtime\n",
      "Fitting model: NeuralNetTorch_r31_BAG_L1 ... Training model for up to 29750.97s of the 29750.95s of remaining time.\n",
      "\tFitting 10 child models (S1F1 - S1F10) | Fitting with ParallelLocalFoldFittingStrategy (4 workers, per: cpus=1, gpus=0, memory=0.00%)\n",
      "\t0.889\t = Validation score   (roc_auc)\n",
      "\t40.92s\t = Training   runtime\n",
      "\t0.13s\t = Validation runtime\n",
      "Fitting model: ExtraTrees_r4_BAG_L1 ... Training model for up to 29706.45s of the 29706.43s of remaining time.\n",
      "\tForcing `use_child_oof=False` because `groups` is specified\n",
      "\tFitting 10 child models (S1F1 - S1F10) | Fitting with ParallelLocalFoldFittingStrategy (4 workers, per: cpus=1, gpus=0, memory=0.01%)\n",
      "\t0.8922\t = Validation score   (roc_auc)\n",
      "\t13.34s\t = Training   runtime\n",
      "\t0.93s\t = Validation runtime\n",
      "Fitting model: NeuralNetFastAI_r65_BAG_L1 ... Training model for up to 29689.27s of the 29689.25s of remaining time.\n",
      "\tFitting 10 child models (S1F1 - S1F10) | Fitting with ParallelLocalFoldFittingStrategy (4 workers, per: cpus=1, gpus=0, memory=0.01%)\n",
      "\t0.8896\t = Validation score   (roc_auc)\n",
      "\t25.56s\t = Training   runtime\n",
      "\t0.23s\t = Validation runtime\n",
      "Fitting model: NeuralNetFastAI_r88_BAG_L1 ... Training model for up to 29660.27s of the 29660.25s of remaining time.\n",
      "\tFitting 10 child models (S1F1 - S1F10) | Fitting with ParallelLocalFoldFittingStrategy (4 workers, per: cpus=1, gpus=0, memory=0.01%)\n",
      "\t0.8797\t = Validation score   (roc_auc)\n",
      "\t25.28s\t = Training   runtime\n",
      "\t0.18s\t = Validation runtime\n",
      "Fitting model: LightGBM_r30_BAG_L1 ... Training model for up to 29630.74s of the 29630.72s of remaining time.\n",
      "\tFitting 10 child models (S1F1 - S1F10) | Fitting with ParallelLocalFoldFittingStrategy (4 workers, per: cpus=1, gpus=0, memory=0.03%)\n",
      "\t0.894\t = Validation score   (roc_auc)\n",
      "\t16.78s\t = Training   runtime\n",
      "\t0.21s\t = Validation runtime\n",
      "Fitting model: XGBoost_r49_BAG_L1 ... Training model for up to 29609.64s of the 29609.62s of remaining time.\n",
      "\tFitting 10 child models (S1F1 - S1F10) | Fitting with ParallelLocalFoldFittingStrategy (4 workers, per: cpus=1, gpus=0, memory=0.03%)\n",
      "\t0.8904\t = Validation score   (roc_auc)\n",
      "\t10.71s\t = Training   runtime\n",
      "\t0.11s\t = Validation runtime\n",
      "Fitting model: CatBoost_r5_BAG_L1 ... Training model for up to 29595.50s of the 29595.48s of remaining time.\n",
      "\tFitting 10 child models (S1F1 - S1F10) | Fitting with ParallelLocalFoldFittingStrategy (4 workers, per: cpus=1, gpus=0, memory=0.01%)\n",
      "\t0.8978\t = Validation score   (roc_auc)\n",
      "\t12.57s\t = Training   runtime\n",
      "\t0.02s\t = Validation runtime\n",
      "Fitting model: NeuralNetTorch_r87_BAG_L1 ... Training model for up to 29579.17s of the 29579.15s of remaining time.\n",
      "\tFitting 10 child models (S1F1 - S1F10) | Fitting with ParallelLocalFoldFittingStrategy (4 workers, per: cpus=1, gpus=0, memory=0.00%)\n",
      "\t0.8881\t = Validation score   (roc_auc)\n",
      "\t34.27s\t = Training   runtime\n",
      "\t0.13s\t = Validation runtime\n",
      "Fitting model: NeuralNetTorch_r71_BAG_L1 ... Training model for up to 29541.46s of the 29541.44s of remaining time.\n",
      "\tFitting 10 child models (S1F1 - S1F10) | Fitting with ParallelLocalFoldFittingStrategy (4 workers, per: cpus=1, gpus=0, memory=0.00%)\n",
      "\t0.8912\t = Validation score   (roc_auc)\n",
      "\t27.71s\t = Training   runtime\n",
      "\t0.11s\t = Validation runtime\n",
      "Fitting model: CatBoost_r143_BAG_L1 ... Training model for up to 29510.42s of the 29510.40s of remaining time.\n",
      "\tFitting 10 child models (S1F1 - S1F10) | Fitting with ParallelLocalFoldFittingStrategy (4 workers, per: cpus=1, gpus=0, memory=0.03%)\n",
      "\t0.8925\t = Validation score   (roc_auc)\n",
      "\t17.21s\t = Training   runtime\n",
      "\t0.02s\t = Validation runtime\n",
      "Fitting model: ExtraTrees_r178_BAG_L1 ... Training model for up to 29489.51s of the 29489.49s of remaining time.\n",
      "\tForcing `use_child_oof=False` because `groups` is specified\n",
      "\tFitting 10 child models (S1F1 - S1F10) | Fitting with ParallelLocalFoldFittingStrategy (4 workers, per: cpus=1, gpus=0, memory=0.01%)\n",
      "\t0.8907\t = Validation score   (roc_auc)\n",
      "\t14.68s\t = Training   runtime\n",
      "\t1.04s\t = Validation runtime\n",
      "Fitting model: RandomForest_r166_BAG_L1 ... Training model for up to 29471.28s of the 29471.26s of remaining time.\n",
      "\tForcing `use_child_oof=False` because `groups` is specified\n",
      "\tFitting 10 child models (S1F1 - S1F10) | Fitting with ParallelLocalFoldFittingStrategy (4 workers, per: cpus=1, gpus=0, memory=0.01%)\n",
      "\t0.8818\t = Validation score   (roc_auc)\n",
      "\t20.54s\t = Training   runtime\n",
      "\t1.19s\t = Validation runtime\n",
      "Fitting model: XGBoost_r31_BAG_L1 ... Training model for up to 29447.27s of the 29447.25s of remaining time.\n",
      "\tFitting 10 child models (S1F1 - S1F10) | Fitting with ParallelLocalFoldFittingStrategy (4 workers, per: cpus=1, gpus=0, memory=0.02%)\n",
      "\t0.8965\t = Validation score   (roc_auc)\n",
      "\t12.02s\t = Training   runtime\n",
      "\t0.17s\t = Validation runtime\n",
      "Fitting model: NeuralNetTorch_r185_BAG_L1 ... Training model for up to 29431.98s of the 29431.96s of remaining time.\n",
      "\tFitting 10 child models (S1F1 - S1F10) | Fitting with ParallelLocalFoldFittingStrategy (4 workers, per: cpus=1, gpus=0, memory=0.00%)\n",
      "\t0.8886\t = Validation score   (roc_auc)\n",
      "\t44.34s\t = Training   runtime\n",
      "\t0.17s\t = Validation runtime\n",
      "Fitting model: NeuralNetFastAI_r160_BAG_L1 ... Training model for up to 29384.21s of the 29384.19s of remaining time.\n",
      "\tFitting 10 child models (S1F1 - S1F10) | Fitting with ParallelLocalFoldFittingStrategy (4 workers, per: cpus=1, gpus=0, memory=0.01%)\n",
      "\t0.8945\t = Validation score   (roc_auc)\n",
      "\t36.42s\t = Training   runtime\n",
      "\t0.2s\t = Validation runtime\n",
      "Fitting model: CatBoost_r60_BAG_L1 ... Training model for up to 29344.02s of the 29344.01s of remaining time.\n",
      "\tFitting 10 child models (S1F1 - S1F10) | Fitting with ParallelLocalFoldFittingStrategy (4 workers, per: cpus=1, gpus=0, memory=0.01%)\n",
      "\t0.8954\t = Validation score   (roc_auc)\n",
      "\t13.96s\t = Training   runtime\n",
      "\t0.02s\t = Validation runtime\n",
      "Fitting model: RandomForest_r15_BAG_L1 ... Training model for up to 29326.36s of the 29326.34s of remaining time.\n",
      "\tForcing `use_child_oof=False` because `groups` is specified\n",
      "\tFitting 10 child models (S1F1 - S1F10) | Fitting with ParallelLocalFoldFittingStrategy (4 workers, per: cpus=1, gpus=0, memory=0.01%)\n",
      "\t0.885\t = Validation score   (roc_auc)\n",
      "\t21.17s\t = Training   runtime\n",
      "\t1.2s\t = Validation runtime\n",
      "Fitting model: LightGBM_r135_BAG_L1 ... Training model for up to 29301.83s of the 29301.81s of remaining time.\n",
      "\tFitting 10 child models (S1F1 - S1F10) | Fitting with ParallelLocalFoldFittingStrategy (4 workers, per: cpus=1, gpus=0, memory=0.05%)\n",
      "\t0.892\t = Validation score   (roc_auc)\n",
      "\t14.52s\t = Training   runtime\n",
      "\t0.05s\t = Validation runtime\n",
      "Fitting model: XGBoost_r22_BAG_L1 ... Training model for up to 29284.16s of the 29284.14s of remaining time.\n",
      "\tFitting 10 child models (S1F1 - S1F10) | Fitting with ParallelLocalFoldFittingStrategy (4 workers, per: cpus=1, gpus=0, memory=0.02%)\n",
      "\t0.8896\t = Validation score   (roc_auc)\n",
      "\t9.24s\t = Training   runtime\n",
      "\t0.06s\t = Validation runtime\n",
      "Fitting model: NeuralNetFastAI_r69_BAG_L1 ... Training model for up to 29271.59s of the 29271.57s of remaining time.\n",
      "\tFitting 10 child models (S1F1 - S1F10) | Fitting with ParallelLocalFoldFittingStrategy (4 workers, per: cpus=1, gpus=0, memory=0.01%)\n",
      "\t0.8896\t = Validation score   (roc_auc)\n",
      "\t34.44s\t = Training   runtime\n",
      "\t0.3s\t = Validation runtime\n",
      "Fitting model: CatBoost_r6_BAG_L1 ... Training model for up to 29233.21s of the 29233.19s of remaining time.\n",
      "\tFitting 10 child models (S1F1 - S1F10) | Fitting with ParallelLocalFoldFittingStrategy (4 workers, per: cpus=1, gpus=0, memory=0.01%)\n",
      "\t0.8994\t = Validation score   (roc_auc)\n",
      "\t13.63s\t = Training   runtime\n",
      "\t0.03s\t = Validation runtime\n",
      "Fitting model: NeuralNetFastAI_r138_BAG_L1 ... Training model for up to 29216.16s of the 29216.14s of remaining time.\n",
      "\tFitting 10 child models (S1F1 - S1F10) | Fitting with ParallelLocalFoldFittingStrategy (4 workers, per: cpus=1, gpus=0, memory=0.01%)\n",
      "\t0.8893\t = Validation score   (roc_auc)\n",
      "\t59.74s\t = Training   runtime\n",
      "\t0.21s\t = Validation runtime\n",
      "Fitting model: LightGBM_r121_BAG_L1 ... Training model for up to 29153.27s of the 29153.25s of remaining time.\n",
      "\tFitting 10 child models (S1F1 - S1F10) | Fitting with ParallelLocalFoldFittingStrategy (4 workers, per: cpus=1, gpus=0, memory=0.05%)\n",
      "\t0.8882\t = Validation score   (roc_auc)\n",
      "\t20.99s\t = Training   runtime\n",
      "\t0.14s\t = Validation runtime\n",
      "Fitting model: NeuralNetFastAI_r172_BAG_L1 ... Training model for up to 29128.88s of the 29128.86s of remaining time.\n",
      "\tFitting 10 child models (S1F1 - S1F10) | Fitting with ParallelLocalFoldFittingStrategy (4 workers, per: cpus=1, gpus=0, memory=0.01%)\n",
      "\t0.8903\t = Validation score   (roc_auc)\n",
      "\t26.42s\t = Training   runtime\n",
      "\t0.16s\t = Validation runtime\n",
      "Fitting model: CatBoost_r180_BAG_L1 ... Training model for up to 29099.00s of the 29098.98s of remaining time.\n",
      "\tFitting 10 child models (S1F1 - S1F10) | Fitting with ParallelLocalFoldFittingStrategy (4 workers, per: cpus=1, gpus=0, memory=0.03%)\n",
      "\t0.8934\t = Validation score   (roc_auc)\n",
      "\t27.29s\t = Training   runtime\n",
      "\t0.02s\t = Validation runtime\n",
      "Fitting model: NeuralNetTorch_r76_BAG_L1 ... Training model for up to 29068.25s of the 29068.23s of remaining time.\n",
      "\tFitting 10 child models (S1F1 - S1F10) | Fitting with ParallelLocalFoldFittingStrategy (4 workers, per: cpus=1, gpus=0, memory=0.00%)\n",
      "\t0.8937\t = Validation score   (roc_auc)\n",
      "\t28.17s\t = Training   runtime\n",
      "\t0.14s\t = Validation runtime\n",
      "Fitting model: ExtraTrees_r197_BAG_L1 ... Training model for up to 29036.78s of the 29036.76s of remaining time.\n",
      "\tForcing `use_child_oof=False` because `groups` is specified\n",
      "\tFitting 10 child models (S1F1 - S1F10) | Fitting with ParallelLocalFoldFittingStrategy (4 workers, per: cpus=1, gpus=0, memory=0.01%)\n",
      "\t0.8838\t = Validation score   (roc_auc)\n",
      "\t17.36s\t = Training   runtime\n",
      "\t1.15s\t = Validation runtime\n",
      "Fitting model: NeuralNetTorch_r121_BAG_L1 ... Training model for up to 29015.76s of the 29015.74s of remaining time.\n",
      "\tFitting 10 child models (S1F1 - S1F10) | Fitting with ParallelLocalFoldFittingStrategy (4 workers, per: cpus=1, gpus=0, memory=0.00%)\n",
      "\t0.8896\t = Validation score   (roc_auc)\n",
      "\t173.8s\t = Training   runtime\n",
      "\t0.24s\t = Validation runtime\n",
      "Fitting model: NeuralNetFastAI_r127_BAG_L1 ... Training model for up to 28838.73s of the 28838.71s of remaining time.\n",
      "\tFitting 10 child models (S1F1 - S1F10) | Fitting with ParallelLocalFoldFittingStrategy (4 workers, per: cpus=1, gpus=0, memory=0.01%)\n",
      "\t0.8928\t = Validation score   (roc_auc)\n",
      "\t24.16s\t = Training   runtime\n",
      "\t0.23s\t = Validation runtime\n",
      "Fitting model: RandomForest_r16_BAG_L1 ... Training model for up to 28811.05s of the 28811.03s of remaining time.\n",
      "\tForcing `use_child_oof=False` because `groups` is specified\n",
      "\tFitting 10 child models (S1F1 - S1F10) | Fitting with ParallelLocalFoldFittingStrategy (4 workers, per: cpus=1, gpus=0, memory=0.01%)\n",
      "\t0.878\t = Validation score   (roc_auc)\n",
      "\t27.97s\t = Training   runtime\n",
      "\t1.16s\t = Validation runtime\n",
      "Fitting model: NeuralNetFastAI_r194_BAG_L1 ... Training model for up to 28779.40s of the 28779.38s of remaining time.\n",
      "\tFitting 10 child models (S1F1 - S1F10) | Fitting with ParallelLocalFoldFittingStrategy (4 workers, per: cpus=1, gpus=0, memory=0.01%)\n",
      "\t0.8855\t = Validation score   (roc_auc)\n",
      "\t30.49s\t = Training   runtime\n",
      "\t0.2s\t = Validation runtime\n",
      "Fitting model: CatBoost_r12_BAG_L1 ... Training model for up to 28745.56s of the 28745.55s of remaining time.\n",
      "\tFitting 10 child models (S1F1 - S1F10) | Fitting with ParallelLocalFoldFittingStrategy (4 workers, per: cpus=1, gpus=0, memory=0.03%)\n",
      "\t0.8949\t = Validation score   (roc_auc)\n",
      "\t18.65s\t = Training   runtime\n",
      "\t0.02s\t = Validation runtime\n",
      "Fitting model: NeuralNetTorch_r135_BAG_L1 ... Training model for up to 28723.17s of the 28723.15s of remaining time.\n",
      "\tFitting 10 child models (S1F1 - S1F10) | Fitting with ParallelLocalFoldFittingStrategy (4 workers, per: cpus=1, gpus=0, memory=0.00%)\n",
      "\t0.8951\t = Validation score   (roc_auc)\n",
      "\t46.52s\t = Training   runtime\n",
      "\t0.14s\t = Validation runtime\n",
      "Fitting model: NeuralNetFastAI_r4_BAG_L1 ... Training model for up to 28673.41s of the 28673.40s of remaining time.\n",
      "\tFitting 10 child models (S1F1 - S1F10) | Fitting with ParallelLocalFoldFittingStrategy (4 workers, per: cpus=1, gpus=0, memory=0.01%)\n",
      "\t0.8943\t = Validation score   (roc_auc)\n",
      "\t30.48s\t = Training   runtime\n",
      "\t0.16s\t = Validation runtime\n",
      "Fitting model: ExtraTrees_r126_BAG_L1 ... Training model for up to 28639.44s of the 28639.42s of remaining time.\n",
      "\tForcing `use_child_oof=False` because `groups` is specified\n",
      "\tFitting 10 child models (S1F1 - S1F10) | Fitting with ParallelLocalFoldFittingStrategy (4 workers, per: cpus=1, gpus=0, memory=0.01%)\n",
      "\t0.8904\t = Validation score   (roc_auc)\n",
      "\t14.39s\t = Training   runtime\n",
      "\t1.1s\t = Validation runtime\n",
      "Fitting model: NeuralNetTorch_r36_BAG_L1 ... Training model for up to 28621.39s of the 28621.37s of remaining time.\n",
      "\tFitting 10 child models (S1F1 - S1F10) | Fitting with ParallelLocalFoldFittingStrategy (4 workers, per: cpus=1, gpus=0, memory=0.00%)\n",
      "\t0.8926\t = Validation score   (roc_auc)\n",
      "\t34.67s\t = Training   runtime\n",
      "\t0.14s\t = Validation runtime\n",
      "Fitting model: NeuralNetFastAI_r100_BAG_L1 ... Training model for up to 28583.63s of the 28583.61s of remaining time.\n",
      "\tFitting 10 child models (S1F1 - S1F10) | Fitting with ParallelLocalFoldFittingStrategy (4 workers, per: cpus=1, gpus=0, memory=0.01%)\n",
      "\t0.8866\t = Validation score   (roc_auc)\n",
      "\t122.99s\t = Training   runtime\n",
      "\t0.45s\t = Validation runtime\n",
      "Fitting model: CatBoost_r163_BAG_L1 ... Training model for up to 28457.24s of the 28457.22s of remaining time.\n",
      "\tFitting 10 child models (S1F1 - S1F10) | Fitting with ParallelLocalFoldFittingStrategy (4 workers, per: cpus=1, gpus=0, memory=0.01%)\n",
      "\t0.8953\t = Validation score   (roc_auc)\n",
      "\t12.5s\t = Training   runtime\n",
      "\t0.02s\t = Validation runtime\n",
      "Fitting model: CatBoost_r198_BAG_L1 ... Training model for up to 28441.26s of the 28441.24s of remaining time.\n",
      "\tFitting 10 child models (S1F1 - S1F10) | Fitting with ParallelLocalFoldFittingStrategy (4 workers, per: cpus=1, gpus=0, memory=0.02%)\n",
      "\t0.8962\t = Validation score   (roc_auc)\n",
      "\t15.74s\t = Training   runtime\n",
      "\t0.01s\t = Validation runtime\n",
      "Fitting model: NeuralNetFastAI_r187_BAG_L1 ... Training model for up to 28422.29s of the 28422.27s of remaining time.\n",
      "\tFitting 10 child models (S1F1 - S1F10) | Fitting with ParallelLocalFoldFittingStrategy (4 workers, per: cpus=1, gpus=0, memory=0.01%)\n",
      "\t0.8892\t = Validation score   (roc_auc)\n",
      "\t25.88s\t = Training   runtime\n",
      "\t0.18s\t = Validation runtime\n",
      "Fitting model: NeuralNetTorch_r19_BAG_L1 ... Training model for up to 28393.24s of the 28393.23s of remaining time.\n",
      "\tFitting 10 child models (S1F1 - S1F10) | Fitting with ParallelLocalFoldFittingStrategy (4 workers, per: cpus=1, gpus=0, memory=0.00%)\n",
      "\t0.8924\t = Validation score   (roc_auc)\n",
      "\t26.56s\t = Training   runtime\n",
      "\t0.17s\t = Validation runtime\n",
      "Fitting model: XGBoost_r95_BAG_L1 ... Training model for up to 28363.15s of the 28363.13s of remaining time.\n",
      "\tFitting 10 child models (S1F1 - S1F10) | Fitting with ParallelLocalFoldFittingStrategy (4 workers, per: cpus=1, gpus=0, memory=0.02%)\n",
      "\t0.893\t = Validation score   (roc_auc)\n",
      "\t9.17s\t = Training   runtime\n",
      "\t0.07s\t = Validation runtime\n",
      "Fitting model: XGBoost_r34_BAG_L1 ... Training model for up to 28350.30s of the 28350.28s of remaining time.\n",
      "\tFitting 10 child models (S1F1 - S1F10) | Fitting with ParallelLocalFoldFittingStrategy (4 workers, per: cpus=1, gpus=0, memory=0.11%)\n",
      "\t0.8896\t = Validation score   (roc_auc)\n",
      "\t10.8s\t = Training   runtime\n",
      "\t0.12s\t = Validation runtime\n",
      "Fitting model: LightGBM_r42_BAG_L1 ... Training model for up to 28336.27s of the 28336.25s of remaining time.\n",
      "\tFitting 10 child models (S1F1 - S1F10) | Fitting with ParallelLocalFoldFittingStrategy (4 workers, per: cpus=1, gpus=0, memory=0.05%)\n",
      "\t0.8957\t = Validation score   (roc_auc)\n",
      "\t14.02s\t = Training   runtime\n",
      "\t0.04s\t = Validation runtime\n",
      "Fitting model: NeuralNetTorch_r1_BAG_L1 ... Training model for up to 28318.95s of the 28318.93s of remaining time.\n",
      "\tFitting 10 child models (S1F1 - S1F10) | Fitting with ParallelLocalFoldFittingStrategy (4 workers, per: cpus=1, gpus=0, memory=0.00%)\n",
      "\t0.8926\t = Validation score   (roc_auc)\n",
      "\t49.47s\t = Training   runtime\n",
      "\t0.14s\t = Validation runtime\n",
      "Fitting model: NeuralNetTorch_r89_BAG_L1 ... Training model for up to 28266.08s of the 28266.06s of remaining time.\n",
      "\tFitting 10 child models (S1F1 - S1F10) | Fitting with ParallelLocalFoldFittingStrategy (4 workers, per: cpus=1, gpus=0, memory=0.00%)\n",
      "\t0.8917\t = Validation score   (roc_auc)\n",
      "\t47.68s\t = Training   runtime\n",
      "\t0.15s\t = Validation runtime\n",
      "Fitting model: WeightedEnsemble_L2 ... Training model for up to 3184.89s of the 28214.93s of remaining time.\n",
      "\tEnsemble Weights: {'CatBoost_r6_BAG_L1': 0.467, 'NeuralNetTorch_r135_BAG_L1': 0.2, 'NeuralNetFastAI_r102_BAG_L1': 0.133, 'CatBoost_r50_BAG_L1': 0.133, 'NeuralNetTorch_r14_BAG_L1': 0.067}\n",
      "\t0.9025\t = Validation score   (roc_auc)\n",
      "\t0.22s\t = Training   runtime\n",
      "\t0.0s\t = Validation runtime\n",
      "AutoGluon training complete, total runtime = 3634.27s ... Best model: WeightedEnsemble_L2 | Estimated inference throughput: 321.5 rows/s (219 batch size)\n",
      "TabularPredictor saved. To load, use: predictor = TabularPredictor.load(\"/AutoGluonModels\")\n"
     ]
    }
   ],
   "source": [
    "if original is None:\n",
    "    predictor.fit(\n",
    "        train_data=train,\n",
    "        time_limit=CFG.time_limit,\n",
    "        presets='best_quality'\n",
    "    )\n",
    "else:\n",
    "    predictor.fit_pseudolabel(\n",
    "        pseudo_data=original,\n",
    "        train_data=train,\n",
    "        time_limit=CFG.time_limit,\n",
    "        presets='best_quality'\n",
    "    )"
   ]
  },
  {
   "cell_type": "code",
   "execution_count": 8,
   "id": "e026c0d2",
   "metadata": {
    "execution": {
     "iopub.execute_input": "2025-03-12T15:41:34.665973Z",
     "iopub.status.busy": "2025-03-12T15:41:34.665160Z",
     "iopub.status.idle": "2025-03-12T15:41:34.671513Z",
     "shell.execute_reply": "2025-03-12T15:41:34.670561Z"
    },
    "papermill": {
     "duration": 0.07457,
     "end_time": "2025-03-12T15:41:34.672957",
     "exception": false,
     "start_time": "2025-03-12T15:41:34.598387",
     "status": "completed"
    },
    "tags": []
   },
   "outputs": [],
   "source": [
    "def get_ensemble_weights(predictor):\n",
    "    selected_models = []\n",
    "    info = predictor.info()\n",
    "    ensemble_weights = {}\n",
    "    for model_name, values in info[\"model_info\"].items():\n",
    "        if \"Ensemble\" in model_name:\n",
    "            children_info = values[\"children_info\"]\n",
    "            ensemble_weights[model_name] = values[\"children_info\"][list(children_info.keys())[0]][\"model_weights\"]\n",
    "            selected_models.extend(values[\"children_info\"][list(children_info.keys())[0]][\"model_weights\"].keys())\n",
    "            selected_models.append(model_name)\n",
    "    return ensemble_weights, list(set(selected_models))"
   ]
  },
  {
   "cell_type": "code",
   "execution_count": 9,
   "id": "f784aaf4",
   "metadata": {
    "execution": {
     "iopub.execute_input": "2025-03-12T15:41:34.815100Z",
     "iopub.status.busy": "2025-03-12T15:41:34.814687Z",
     "iopub.status.idle": "2025-03-12T15:46:08.818352Z",
     "shell.execute_reply": "2025-03-12T15:46:08.817370Z"
    },
    "papermill": {
     "duration": 274.147803,
     "end_time": "2025-03-12T15:46:08.880580",
     "exception": false,
     "start_time": "2025-03-12T15:41:34.732777",
     "status": "completed"
    },
    "tags": []
   },
   "outputs": [
    {
     "data": {
      "image/png": "[encoded data removed]",
      "text/plain": [
       "<Figure size 600x600 with 1 Axes>"
      ]
     },
     "metadata": {},
     "output_type": "display_data"
    }
   ],
   "source": [
    "ensemble_weights, selected_models = get_ensemble_weights(predictor)\n",
    "\n",
    "for key, value in ensemble_weights.items():\n",
    "    plt.figure(figsize=(6, 6))\n",
    "    plt.pie(value.values(), labels=value.keys(), autopct='%1.1f%%', colors=sns.color_palette('Set2', len(value)))\n",
    "    plt.title(key)\n",
    "    plt.tight_layout()\n",
    "    plt.show()"
   ]
  },
  {
   "cell_type": "code",
   "execution_count": 10,
   "id": "d249a4d0",
   "metadata": {
    "execution": {
     "iopub.execute_input": "2025-03-12T15:46:09.008935Z",
     "iopub.status.busy": "2025-03-12T15:46:09.008096Z",
     "iopub.status.idle": "2025-03-12T15:46:09.104202Z",
     "shell.execute_reply": "2025-03-12T15:46:09.103273Z"
    },
    "papermill": {
     "duration": 0.163498,
     "end_time": "2025-03-12T15:46:09.105779",
     "exception": false,
     "start_time": "2025-03-12T15:46:08.942281",
     "status": "completed"
    },
    "tags": []
   },
   "outputs": [
    {
     "data": {
      "text/html": [
       "<style type=\"text/css\">\n",
       "#T_091f1_row0_col1 {\n",
       "  background-color: #006837;\n",
       "  color: #f1f1f1;\n",
       "}\n",
       "#T_091f1_row1_col1 {\n",
       "  background-color: #dcf08f;\n",
       "  color: #000000;\n",
       "}\n",
       "#T_091f1_row2_col1 {\n",
       "  background-color: #e8f59f;\n",
       "  color: #000000;\n",
       "}\n",
       "#T_091f1_row3_col1 {\n",
       "  background-color: #da362a;\n",
       "  color: #f1f1f1;\n",
       "}\n",
       "#T_091f1_row4_col1 {\n",
       "  background-color: #b30d26;\n",
       "  color: #f1f1f1;\n",
       "}\n",
       "#T_091f1_row5_col1 {\n",
       "  background-color: #a50026;\n",
       "  color: #f1f1f1;\n",
       "}\n",
       "</style>\n",
       "<table id=\"T_091f1\">\n",
       "  <thead>\n",
       "    <tr>\n",
       "      <th class=\"blank level0\" >&nbsp;</th>\n",
       "      <th id=\"T_091f1_level0_col0\" class=\"col_heading level0 col0\" >model</th>\n",
       "      <th id=\"T_091f1_level0_col1\" class=\"col_heading level0 col1\" >score_val</th>\n",
       "      <th id=\"T_091f1_level0_col2\" class=\"col_heading level0 col2\" >eval_metric</th>\n",
       "      <th id=\"T_091f1_level0_col3\" class=\"col_heading level0 col3\" >pred_time_val</th>\n",
       "      <th id=\"T_091f1_level0_col4\" class=\"col_heading level0 col4\" >fit_time</th>\n",
       "      <th id=\"T_091f1_level0_col5\" class=\"col_heading level0 col5\" >pred_time_val_marginal</th>\n",
       "      <th id=\"T_091f1_level0_col6\" class=\"col_heading level0 col6\" >fit_time_marginal</th>\n",
       "      <th id=\"T_091f1_level0_col7\" class=\"col_heading level0 col7\" >stack_level</th>\n",
       "      <th id=\"T_091f1_level0_col8\" class=\"col_heading level0 col8\" >can_infer</th>\n",
       "      <th id=\"T_091f1_level0_col9\" class=\"col_heading level0 col9\" >fit_order</th>\n",
       "    </tr>\n",
       "  </thead>\n",
       "  <tbody>\n",
       "    <tr>\n",
       "      <th id=\"T_091f1_level0_row0\" class=\"row_heading level0 row0\" >0</th>\n",
       "      <td id=\"T_091f1_row0_col0\" class=\"data row0 col0\" >WeightedEnsemble_L2</td>\n",
       "      <td id=\"T_091f1_row0_col1\" class=\"data row0 col1\" >0.902516</td>\n",
       "      <td id=\"T_091f1_row0_col2\" class=\"data row0 col2\" >roc_auc</td>\n",
       "      <td id=\"T_091f1_row0_col3\" class=\"data row0 col3\" >0.681894</td>\n",
       "      <td id=\"T_091f1_row0_col4\" class=\"data row0 col4\" >195.247421</td>\n",
       "      <td id=\"T_091f1_row0_col5\" class=\"data row0 col5\" >0.000776</td>\n",
       "      <td id=\"T_091f1_row0_col6\" class=\"data row0 col6\" >0.217047</td>\n",
       "      <td id=\"T_091f1_row0_col7\" class=\"data row0 col7\" >2</td>\n",
       "      <td id=\"T_091f1_row0_col8\" class=\"data row0 col8\" >True</td>\n",
       "      <td id=\"T_091f1_row0_col9\" class=\"data row0 col9\" >111</td>\n",
       "    </tr>\n",
       "    <tr>\n",
       "      <th id=\"T_091f1_level0_row1\" class=\"row_heading level0 row1\" >1</th>\n",
       "      <td id=\"T_091f1_row1_col0\" class=\"data row1 col0\" >CatBoost_r6_BAG_L1</td>\n",
       "      <td id=\"T_091f1_row1_col1\" class=\"data row1 col1\" >0.899394</td>\n",
       "      <td id=\"T_091f1_row1_col2\" class=\"data row1 col2\" >roc_auc</td>\n",
       "      <td id=\"T_091f1_row1_col3\" class=\"data row1 col3\" >0.026242</td>\n",
       "      <td id=\"T_091f1_row1_col4\" class=\"data row1 col4\" >13.633388</td>\n",
       "      <td id=\"T_091f1_row1_col5\" class=\"data row1 col5\" >0.026242</td>\n",
       "      <td id=\"T_091f1_row1_col6\" class=\"data row1 col6\" >13.633388</td>\n",
       "      <td id=\"T_091f1_row1_col7\" class=\"data row1 col7\" >1</td>\n",
       "      <td id=\"T_091f1_row1_col8\" class=\"data row1 col8\" >True</td>\n",
       "      <td id=\"T_091f1_row1_col9\" class=\"data row1 col9\" >85</td>\n",
       "    </tr>\n",
       "    <tr>\n",
       "      <th id=\"T_091f1_level0_row2\" class=\"row_heading level0 row2\" >2</th>\n",
       "      <td id=\"T_091f1_row2_col0\" class=\"data row2 col0\" >CatBoost_r50_BAG_L1</td>\n",
       "      <td id=\"T_091f1_row2_col1\" class=\"data row2 col1\" >0.899127</td>\n",
       "      <td id=\"T_091f1_row2_col2\" class=\"data row2 col2\" >roc_auc</td>\n",
       "      <td id=\"T_091f1_row2_col3\" class=\"data row2 col3\" >0.029441</td>\n",
       "      <td id=\"T_091f1_row2_col4\" class=\"data row2 col4\" >14.982305</td>\n",
       "      <td id=\"T_091f1_row2_col5\" class=\"data row2 col5\" >0.029441</td>\n",
       "      <td id=\"T_091f1_row2_col6\" class=\"data row2 col6\" >14.982305</td>\n",
       "      <td id=\"T_091f1_row2_col7\" class=\"data row2 col7\" >1</td>\n",
       "      <td id=\"T_091f1_row2_col8\" class=\"data row2 col8\" >True</td>\n",
       "      <td id=\"T_091f1_row2_col9\" class=\"data row2 col9\" >33</td>\n",
       "    </tr>\n",
       "    <tr>\n",
       "      <th id=\"T_091f1_level0_row3\" class=\"row_heading level0 row3\" >13</th>\n",
       "      <td id=\"T_091f1_row3_col0\" class=\"data row3 col0\" >NeuralNetFastAI_r102_BAG_L1</td>\n",
       "      <td id=\"T_091f1_row3_col1\" class=\"data row3 col1\" >0.895684</td>\n",
       "      <td id=\"T_091f1_row3_col2\" class=\"data row3 col2\" >roc_auc</td>\n",
       "      <td id=\"T_091f1_row3_col3\" class=\"data row3 col3\" >0.363908</td>\n",
       "      <td id=\"T_091f1_row3_col4\" class=\"data row3 col4\" >83.334416</td>\n",
       "      <td id=\"T_091f1_row3_col5\" class=\"data row3 col5\" >0.363908</td>\n",
       "      <td id=\"T_091f1_row3_col6\" class=\"data row3 col6\" >83.334416</td>\n",
       "      <td id=\"T_091f1_row3_col7\" class=\"data row3 col7\" >1</td>\n",
       "      <td id=\"T_091f1_row3_col8\" class=\"data row3 col8\" >True</td>\n",
       "      <td id=\"T_091f1_row3_col9\" class=\"data row3 col9\" >24</td>\n",
       "    </tr>\n",
       "    <tr>\n",
       "      <th id=\"T_091f1_level0_row4\" class=\"row_heading level0 row4\" >17</th>\n",
       "      <td id=\"T_091f1_row4_col0\" class=\"data row4 col0\" >NeuralNetTorch_r135_BAG_L1</td>\n",
       "      <td id=\"T_091f1_row4_col1\" class=\"data row4 col1\" >0.895062</td>\n",
       "      <td id=\"T_091f1_row4_col2\" class=\"data row4 col2\" >roc_auc</td>\n",
       "      <td id=\"T_091f1_row4_col3\" class=\"data row4 col3\" >0.143142</td>\n",
       "      <td id=\"T_091f1_row4_col4\" class=\"data row4 col4\" >46.515099</td>\n",
       "      <td id=\"T_091f1_row4_col5\" class=\"data row4 col5\" >0.143142</td>\n",
       "      <td id=\"T_091f1_row4_col6\" class=\"data row4 col6\" >46.515099</td>\n",
       "      <td id=\"T_091f1_row4_col7\" class=\"data row4 col7\" >1</td>\n",
       "      <td id=\"T_091f1_row4_col8\" class=\"data row4 col8\" >True</td>\n",
       "      <td id=\"T_091f1_row4_col9\" class=\"data row4 col9\" >97</td>\n",
       "    </tr>\n",
       "    <tr>\n",
       "      <th id=\"T_091f1_level0_row5\" class=\"row_heading level0 row5\" >20</th>\n",
       "      <td id=\"T_091f1_row5_col0\" class=\"data row5 col0\" >NeuralNetTorch_r14_BAG_L1</td>\n",
       "      <td id=\"T_091f1_row5_col1\" class=\"data row5 col1\" >0.894833</td>\n",
       "      <td id=\"T_091f1_row5_col2\" class=\"data row5 col2\" >roc_auc</td>\n",
       "      <td id=\"T_091f1_row5_col3\" class=\"data row5 col3\" >0.118385</td>\n",
       "      <td id=\"T_091f1_row5_col4\" class=\"data row5 col4\" >36.565166</td>\n",
       "      <td id=\"T_091f1_row5_col5\" class=\"data row5 col5\" >0.118385</td>\n",
       "      <td id=\"T_091f1_row5_col6\" class=\"data row5 col6\" >36.565166</td>\n",
       "      <td id=\"T_091f1_row5_col7\" class=\"data row5 col7\" >1</td>\n",
       "      <td id=\"T_091f1_row5_col8\" class=\"data row5 col8\" >True</td>\n",
       "      <td id=\"T_091f1_row5_col9\" class=\"data row5 col9\" >39</td>\n",
       "    </tr>\n",
       "  </tbody>\n",
       "</table>\n"
      ],
      "text/plain": [
       "<pandas.io.formats.style.Styler at 0x788e049e8cd0>"
      ]
     },
     "execution_count": 10,
     "metadata": {},
     "output_type": "execute_result"
    }
   ],
   "source": [
    "predictor.leaderboard(silent=True)[predictor.leaderboard(silent=True).model.isin(selected_models)].style.background_gradient(subset=['score_val'], cmap='RdYlGn')"
   ]
  },
  {
   "cell_type": "markdown",
   "id": "fb44b7c2",
   "metadata": {
    "papermill": {
     "duration": 0.061423,
     "end_time": "2025-03-12T15:46:09.231838",
     "exception": false,
     "start_time": "2025-03-12T15:46:09.170415",
     "status": "completed"
    },
    "tags": []
   },
   "source": [
    "# Collecting and saving OOF files"
   ]
  },
  {
   "cell_type": "code",
   "execution_count": 11,
   "id": "32c663d3",
   "metadata": {
    "execution": {
     "iopub.execute_input": "2025-03-12T15:46:09.357052Z",
     "iopub.status.busy": "2025-03-12T15:46:09.356736Z",
     "iopub.status.idle": "2025-03-12T15:46:09.362177Z",
     "shell.execute_reply": "2025-03-12T15:46:09.361414Z"
    },
    "papermill": {
     "duration": 0.070767,
     "end_time": "2025-03-12T15:46:09.363528",
     "exception": false,
     "start_time": "2025-03-12T15:46:09.292761",
     "status": "completed"
    },
    "tags": []
   },
   "outputs": [],
   "source": [
    "def save_pred_probs(pred_probs, cv_score, name, type, is_ensemble):\n",
    "    base_path = 'oof_pred_probs' if type == 'oof' else 'test_pred_probs'\n",
    "    base_path = '.' if is_ensemble else base_path\n",
    "    with open(f'{base_path}/{name}_{type}_pred_probs_{cv_score:.6f}.pkl', 'wb') as f:\n",
    "        pickle.dump(pred_probs, f)\n",
    "\n",
    "def save_submission(test_pred_probs, score):\n",
    "    sub = pd.read_csv(CFG.sample_sub_path)\n",
    "    sub[CFG.target] = test_pred_probs\n",
    "    sub.to_csv(f'sub_autogluon_{score:.6f}.csv', index=False)\n",
    "    \n",
    "os.makedirs('oof_pred_probs', exist_ok=True)\n",
    "os.makedirs('test_pred_probs', exist_ok=True)"
   ]
  },
  {
   "cell_type": "code",
   "execution_count": 12,
   "id": "a02d0ebf",
   "metadata": {
    "execution": {
     "iopub.execute_input": "2025-03-12T15:46:09.494122Z",
     "iopub.status.busy": "2025-03-12T15:46:09.493774Z",
     "iopub.status.idle": "2025-03-12T15:46:09.497431Z",
     "shell.execute_reply": "2025-03-12T15:46:09.496678Z"
    },
    "papermill": {
     "duration": 0.069841,
     "end_time": "2025-03-12T15:46:09.498828",
     "exception": false,
     "start_time": "2025-03-12T15:46:09.428987",
     "status": "completed"
    },
    "tags": []
   },
   "outputs": [],
   "source": [
    "oof_pred_probs = {}\n",
    "test_pred_probs = {}"
   ]
  },
  {
   "cell_type": "code",
   "execution_count": 13,
   "id": "afd188bf",
   "metadata": {
    "_kg_hide-output": true,
    "execution": {
     "iopub.execute_input": "2025-03-12T15:46:09.629624Z",
     "iopub.status.busy": "2025-03-12T15:46:09.629306Z",
     "iopub.status.idle": "2025-03-12T15:46:45.552543Z",
     "shell.execute_reply": "2025-03-12T15:46:45.551580Z"
    },
    "papermill": {
     "duration": 35.989367,
     "end_time": "2025-03-12T15:46:45.554235",
     "exception": false,
     "start_time": "2025-03-12T15:46:09.564868",
     "status": "completed"
    },
    "tags": []
   },
   "outputs": [
    {
     "name": "stderr",
     "output_type": "stream",
     "text": [
      "INFO:sklearnex: sklearn.neighbors.KNeighborsClassifier.predict_proba: running accelerated version on CPU\n",
      "INFO:sklearnex: sklearn.neighbors.KNeighborsClassifier.predict_proba: running accelerated version on CPU\n",
      "INFO:sklearnex: sklearn.neighbors.KNeighborsClassifier.predict_proba: running accelerated version on CPU\n",
      "INFO:sklearnex: sklearn.neighbors.KNeighborsClassifier.predict_proba: running accelerated version on CPU\n",
      "INFO:sklearnex: sklearn.neighbors.KNeighborsClassifier.predict_proba: running accelerated version on CPU\n",
      "INFO:sklearnex: sklearn.neighbors.KNeighborsClassifier.predict_proba: running accelerated version on CPU\n",
      "INFO:sklearnex: sklearn.neighbors.KNeighborsClassifier.predict_proba: running accelerated version on CPU\n",
      "INFO:sklearnex: sklearn.neighbors.KNeighborsClassifier.predict_proba: running accelerated version on CPU\n",
      "INFO:sklearnex: sklearn.neighbors.KNeighborsClassifier.predict_proba: running accelerated version on CPU\n",
      "INFO:sklearnex: sklearn.neighbors.KNeighborsClassifier.predict_proba: running accelerated version on CPU\n",
      "INFO:sklearnex: sklearn.neighbors.KNeighborsClassifier.predict_proba: running accelerated version on CPU\n",
      "INFO:sklearnex: sklearn.neighbors.KNeighborsClassifier.predict_proba: running accelerated version on CPU\n",
      "INFO:sklearnex: sklearn.neighbors.KNeighborsClassifier.predict_proba: running accelerated version on CPU\n",
      "INFO:sklearnex: sklearn.neighbors.KNeighborsClassifier.predict_proba: running accelerated version on CPU\n",
      "INFO:sklearnex: sklearn.neighbors.KNeighborsClassifier.predict_proba: running accelerated version on CPU\n",
      "INFO:sklearnex: sklearn.neighbors.KNeighborsClassifier.predict_proba: running accelerated version on CPU\n",
      "INFO:sklearnex: sklearn.neighbors.KNeighborsClassifier.predict_proba: running accelerated version on CPU\n",
      "INFO:sklearnex: sklearn.neighbors.KNeighborsClassifier.predict_proba: running accelerated version on CPU\n",
      "INFO:sklearnex: sklearn.neighbors.KNeighborsClassifier.predict_proba: running accelerated version on CPU\n",
      "INFO:sklearnex: sklearn.neighbors.KNeighborsClassifier.predict_proba: running accelerated version on CPU\n"
     ]
    }
   ],
   "source": [
    "best_model = predictor.model_best\n",
    "test_pred_probs = predictor.predict_proba_multi(test)\n",
    "for model in predictor.model_names():\n",
    "    model_oof_pred_probs = predictor.predict_proba_oof(model).values[:, 1]\n",
    "    model_test_pred_probs = test_pred_probs[model].values[:, 1]\n",
    "    \n",
    "    cv_score = roc_auc_score(train[CFG.target], model_oof_pred_probs)\n",
    "    if model != best_model:\n",
    "        save_pred_probs(model_oof_pred_probs, cv_score, model, 'oof', False)\n",
    "        save_pred_probs(model_test_pred_probs, cv_score, model, 'test', False)\n",
    "    else:\n",
    "        save_pred_probs(model_oof_pred_probs, cv_score, model, 'oof', True)\n",
    "        save_pred_probs(model_test_pred_probs, cv_score, model, 'test', True)\n",
    "        save_submission(model_test_pred_probs, cv_score)\n",
    "        \n",
    "    oof_pred_probs[model] = model_oof_pred_probs\n",
    "    test_pred_probs[model] = model_test_pred_probs"
   ]
  },
  {
   "cell_type": "markdown",
   "id": "a4bd0621",
   "metadata": {
    "papermill": {
     "duration": 0.065162,
     "end_time": "2025-03-12T15:46:45.683732",
     "exception": false,
     "start_time": "2025-03-12T15:46:45.618570",
     "status": "completed"
    },
    "tags": []
   },
   "source": [
    "# Visualizing the results"
   ]
  },
  {
   "cell_type": "code",
   "execution_count": 14,
   "id": "55d5a2f6",
   "metadata": {
    "execution": {
     "iopub.execute_input": "2025-03-12T15:46:45.820700Z",
     "iopub.status.busy": "2025-03-12T15:46:45.820358Z",
     "iopub.status.idle": "2025-03-12T15:46:48.088418Z",
     "shell.execute_reply": "2025-03-12T15:46:48.087566Z"
    },
    "papermill": {
     "duration": 2.338601,
     "end_time": "2025-03-12T15:46:48.090163",
     "exception": false,
     "start_time": "2025-03-12T15:46:45.751562",
     "status": "completed"
    },
    "tags": []
   },
   "outputs": [],
   "source": [
    "scores = {}\n",
    "split = StratifiedKFold(n_splits=CFG.n_folds, random_state=CFG.seed, shuffle=True).split(train, train[CFG.target])\n",
    "for fold_idx, (train_index, val_index) in enumerate(split):\n",
    "    for model in predictor.model_names():\n",
    "        fold_score = roc_auc_score(train.loc[val_index, CFG.target], oof_pred_probs[model][val_index])\n",
    "        if model not in scores:\n",
    "            scores[model] = []\n",
    "        scores[model].append(fold_score)"
   ]
  },
  {
   "cell_type": "code",
   "execution_count": 15,
   "id": "30c246ae",
   "metadata": {
    "execution": {
     "iopub.execute_input": "2025-03-12T15:46:48.225210Z",
     "iopub.status.busy": "2025-03-12T15:46:48.224698Z",
     "iopub.status.idle": "2025-03-12T15:46:48.644895Z",
     "shell.execute_reply": "2025-03-12T15:46:48.643953Z"
    },
    "papermill": {
     "duration": 0.48908,
     "end_time": "2025-03-12T15:46:48.646399",
     "exception": false,
     "start_time": "2025-03-12T15:46:48.157319",
     "status": "completed"
    },
    "tags": []
   },
   "outputs": [
    {
     "data": {
      "image/png": "[encoded data removed]",
      "text/plain": [
       "<Figure size 1500x120 with 2 Axes>"
      ]
     },
     "metadata": {},
     "output_type": "display_data"
    }
   ],
   "source": [
    "scores = pd.DataFrame(scores)[selected_models]\n",
    "mean_scores = scores.mean().sort_values(ascending=False)\n",
    "order = scores.mean().sort_values(ascending=False).index.tolist()\n",
    "\n",
    "min_score = mean_scores.min()\n",
    "max_score = mean_scores.max()\n",
    "padding = (max_score - min_score) * 0.5\n",
    "lower_limit = min_score - padding\n",
    "upper_limit = max_score + padding\n",
    "\n",
    "fig, axs = plt.subplots(1, 2, figsize=(15, scores.shape[1] * 0.2))\n",
    "\n",
    "sns.boxplot(data=scores, order=order, ax=axs[0], orient='h', palette='RdYlGn_r')\n",
    "axs[0].set_title('Fold AUC')\n",
    "axs[0].set_xlabel('')\n",
    "axs[0].set_ylabel('')\n",
    "\n",
    "barplot = sns.barplot(x=mean_scores.values, y=mean_scores.index, ax=axs[1], palette='RdYlGn_r')\n",
    "axs[1].set_title('Average AUC')\n",
    "axs[1].set_xlabel('')\n",
    "axs[1].set_xlim(left=lower_limit, right=upper_limit)\n",
    "axs[1].set_ylabel('')\n",
    "\n",
    "for i, score in enumerate(mean_scores.values):\n",
    "    barplot.text(score, i, round(score, 6), va='center')\n",
    "\n",
    "plt.tight_layout()\n",
    "plt.show()"
   ]
  }
 ],
 "metadata": {
  "kaggle": {
   "accelerator": "gpu",
   "dataSources": [
    {
     "databundleVersionId": 11251744,
     "isSourceIdPinned": false,
     "sourceId": 91714,
     "sourceType": "competition"
    },
    {
     "datasetId": 5651545,
     "sourceId": 9328134,
     "sourceType": "datasetVersion"
    },
    {
     "datasetId": 6808865,
     "sourceId": 10950387,
     "sourceType": "datasetVersion"
    }
   ],
   "dockerImageVersionId": 30918,
   "isGpuEnabled": true,
   "isInternetEnabled": true,
   "language": "python",
   "sourceType": "notebook"
  },
  "kernelspec": {
   "display_name": "Python 3",
   "language": "python",
   "name": "python3"
  },
  "language_info": {
   "codemirror_mode": {
    "name": "ipython",
    "version": 3
   },
   "file_extension": ".py",
   "mimetype": "text/x-python",
   "name": "python",
   "nbconvert_exporter": "python",
   "pygments_lexer": "ipython3",
   "version": "3.10.12"
  },
  "papermill": {
   "default_parameters": {},
   "duration": 11708.564774,
   "end_time": "2025-03-12T15:46:51.348498",
   "environment_variables": {},
   "exception": null,
   "input_path": "__notebook__.ipynb",
   "output_path": "__notebook__.ipynb",
   "parameters": {},
   "start_time": "2025-03-12T12:31:42.783724",
   "version": "2.6.0"
  }
 },
 "nbformat": 4,
 "nbformat_minor": 5
}
