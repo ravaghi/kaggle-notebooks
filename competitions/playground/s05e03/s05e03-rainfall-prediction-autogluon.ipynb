{
 "cells": [
  {
   "cell_type": "markdown",
   "id": "a85c3939",
   "metadata": {
    "papermill": {
     "duration": 0.003932,
     "end_time": "2025-03-13T11:21:17.094165",
     "exception": false,
     "start_time": "2025-03-13T11:21:17.090233",
     "status": "completed"
    },
    "tags": []
   },
   "source": [
    "# Imports and configs"
   ]
  },
  {
   "cell_type": "code",
   "execution_count": 1,
   "id": "f89d7efd",
   "metadata": {
    "execution": {
     "iopub.execute_input": "2025-03-13T11:21:17.101417Z",
     "iopub.status.busy": "2025-03-13T11:21:17.101207Z",
     "iopub.status.idle": "2025-03-13T11:21:20.039267Z",
     "shell.execute_reply": "2025-03-13T11:21:20.038314Z"
    },
    "papermill": {
     "duration": 2.943139,
     "end_time": "2025-03-13T11:21:20.040838",
     "exception": false,
     "start_time": "2025-03-13T11:21:17.097699",
     "status": "completed"
    },
    "tags": []
   },
   "outputs": [],
   "source": [
    "from sklearn.model_selection import StratifiedKFold\n",
    "from sklearn.metrics import roc_auc_score\n",
    "from autogluon.tabular import TabularPredictor\n",
    "import matplotlib.pyplot as plt\n",
    "import seaborn as sns\n",
    "import pandas as pd\n",
    "import warnings\n",
    "import pickle\n",
    "import shutil\n",
    "import os\n",
    "\n",
    "warnings.filterwarnings('ignore')"
   ]
  },
  {
   "cell_type": "code",
   "execution_count": 2,
   "id": "c5604719",
   "metadata": {
    "execution": {
     "iopub.execute_input": "2025-03-13T11:21:20.048247Z",
     "iopub.status.busy": "2025-03-13T11:21:20.047906Z",
     "iopub.status.idle": "2025-03-13T11:21:20.051513Z",
     "shell.execute_reply": "2025-03-13T11:21:20.050894Z"
    },
    "papermill": {
     "duration": 0.008595,
     "end_time": "2025-03-13T11:21:20.052823",
     "exception": false,
     "start_time": "2025-03-13T11:21:20.044228",
     "status": "completed"
    },
    "tags": []
   },
   "outputs": [],
   "source": [
    "class CFG:\n",
    "    train_path = '/kaggle/input/playground-series-s5e3/train.csv'\n",
    "    test_path = '/kaggle/input/playground-series-s5e3/test.csv'\n",
    "    sample_sub_path = '/kaggle/input/playground-series-s5e3/sample_submission.csv'\n",
    "    \n",
    "    original_path = \"/kaggle/input/hongkongrainfall/hongkong.csv\"\n",
    "    original_path_2 = \"/kaggle/input/rainfall-prediction-using-machine-learning/Rainfall.csv\"\n",
    "    \n",
    "    target = 'rainfall'\n",
    "    n_folds = 10\n",
    "    seed = 2100\n",
    "    time_limit = 3600 * 11\n",
    "\n",
    "    pipeline = 3"
   ]
  },
  {
   "cell_type": "markdown",
   "id": "7e31e347",
   "metadata": {
    "papermill": {
     "duration": 0.002723,
     "end_time": "2025-03-13T11:21:20.058542",
     "exception": false,
     "start_time": "2025-03-13T11:21:20.055819",
     "status": "completed"
    },
    "tags": []
   },
   "source": [
    "# Loading data and predefining folds"
   ]
  },
  {
   "cell_type": "code",
   "execution_count": 3,
   "id": "204f65a8",
   "metadata": {
    "execution": {
     "iopub.execute_input": "2025-03-13T11:21:20.065122Z",
     "iopub.status.busy": "2025-03-13T11:21:20.064911Z",
     "iopub.status.idle": "2025-03-13T11:21:20.071560Z",
     "shell.execute_reply": "2025-03-13T11:21:20.070985Z"
    },
    "papermill": {
     "duration": 0.011293,
     "end_time": "2025-03-13T11:21:20.072795",
     "exception": false,
     "start_time": "2025-03-13T11:21:20.061502",
     "status": "completed"
    },
    "tags": []
   },
   "outputs": [],
   "source": [
    "def get_data(pipeline):\n",
    "    train = pd.read_csv(CFG.train_path, index_col=\"id\")\n",
    "    test = pd.read_csv(CFG.test_path, index_col=\"id\")\n",
    "    \n",
    "    if pipeline == 1:\n",
    "        return train, test, None\n",
    "    \n",
    "    original = pd.read_csv(CFG.original_path, encoding=\"gbk\")\n",
    "    original[\"date\"] = pd.to_datetime(original[[\"year\", \"month\", \"day\"]])\n",
    "    original = original.drop([\"year\", \"month\", \"day\", \"low visibility hour\", \"radiation\", \"evaporation\"], axis=1)\n",
    "    original[\"day\"] = original.date.dt.dayofyear\n",
    "    original = original.drop(\"date\", axis=1)\n",
    "    original.rainfall = original.rainfall.apply(lambda x: 1 if str(x).replace('.', '', 1).isdigit() else x)\n",
    "    original.rainfall = original.rainfall.replace({'微量': 1, '-': 0}).astype(int)\n",
    "    original.sunshine = original.sunshine.replace('-', 0).astype(float)\n",
    "    for col in original.columns:\n",
    "        original[col] = original[col].astype(train[col].dtype)\n",
    "        \n",
    "    if pipeline == 2:\n",
    "        return train, test, original\n",
    "        \n",
    "    original_2 = pd.read_csv(CFG.original_path_2)\n",
    "    original_2.columns = original_2.columns.str.replace(\" \", \"\")\n",
    "    original_2[CFG.target] = original_2[CFG.target].map({\"yes\": 1, \"no\": 0})\n",
    "    original_2.day = original_2.index + 1\n",
    "    for col in original_2.columns:\n",
    "        original_2[col] = original_2[col].astype(train[col].dtype)\n",
    "        \n",
    "    if pipeline == 3:\n",
    "        return train, test, original_2\n",
    "        \n",
    "    original_combined = pd.concat([original, original_2], axis=0).reset_index(drop=True)\n",
    "    original_combined = original_combined.drop_duplicates().reset_index(drop=True)\n",
    "\n",
    "    return train, test, original_combined"
   ]
  },
  {
   "cell_type": "code",
   "execution_count": 4,
   "id": "ba8c1709",
   "metadata": {
    "execution": {
     "iopub.execute_input": "2025-03-13T11:21:20.079489Z",
     "iopub.status.busy": "2025-03-13T11:21:20.079293Z",
     "iopub.status.idle": "2025-03-13T11:21:20.159562Z",
     "shell.execute_reply": "2025-03-13T11:21:20.158753Z"
    },
    "papermill": {
     "duration": 0.08508,
     "end_time": "2025-03-13T11:21:20.160897",
     "exception": false,
     "start_time": "2025-03-13T11:21:20.075817",
     "status": "completed"
    },
    "tags": []
   },
   "outputs": [],
   "source": [
    "train, test, original = get_data(CFG.pipeline)"
   ]
  },
  {
   "cell_type": "code",
   "execution_count": 5,
   "id": "09470fcc",
   "metadata": {
    "execution": {
     "iopub.execute_input": "2025-03-13T11:21:20.168041Z",
     "iopub.status.busy": "2025-03-13T11:21:20.167794Z",
     "iopub.status.idle": "2025-03-13T11:21:20.178798Z",
     "shell.execute_reply": "2025-03-13T11:21:20.178212Z"
    },
    "papermill": {
     "duration": 0.015969,
     "end_time": "2025-03-13T11:21:20.180035",
     "exception": false,
     "start_time": "2025-03-13T11:21:20.164066",
     "status": "completed"
    },
    "tags": []
   },
   "outputs": [],
   "source": [
    "skf = StratifiedKFold(n_splits=CFG.n_folds, random_state=CFG.seed, shuffle=True)\n",
    "split = skf.split(train, train[CFG.target])\n",
    "for i, (_, val_index) in enumerate(split):\n",
    "    train.loc[val_index, 'fold'] = i"
   ]
  },
  {
   "cell_type": "markdown",
   "id": "0aa6d492",
   "metadata": {
    "papermill": {
     "duration": 0.002869,
     "end_time": "2025-03-13T11:21:20.186022",
     "exception": false,
     "start_time": "2025-03-13T11:21:20.183153",
     "status": "completed"
    },
    "tags": []
   },
   "source": [
    "# Fitting the predictor"
   ]
  },
  {
   "cell_type": "code",
   "execution_count": 6,
   "id": "e176b287",
   "metadata": {
    "_kg_hide-output": false,
    "execution": {
     "iopub.execute_input": "2025-03-13T11:21:20.192862Z",
     "iopub.status.busy": "2025-03-13T11:21:20.192615Z",
     "iopub.status.idle": "2025-03-13T11:21:20.196244Z",
     "shell.execute_reply": "2025-03-13T11:21:20.195650Z"
    },
    "papermill": {
     "duration": 0.008287,
     "end_time": "2025-03-13T11:21:20.197381",
     "exception": false,
     "start_time": "2025-03-13T11:21:20.189094",
     "status": "completed"
    },
    "tags": []
   },
   "outputs": [],
   "source": [
    "predictor = TabularPredictor(\n",
    "    path='/AutoGluonModels',\n",
    "    problem_type='binary',\n",
    "    eval_metric='roc_auc',\n",
    "    label=CFG.target,\n",
    "    groups='fold',\n",
    "    verbosity=2\n",
    ")"
   ]
  },
  {
   "cell_type": "code",
   "execution_count": 7,
   "id": "39dfa69d",
   "metadata": {
    "_kg_hide-output": true,
    "execution": {
     "iopub.execute_input": "2025-03-13T11:21:20.204223Z",
     "iopub.status.busy": "2025-03-13T11:21:20.204029Z",
     "iopub.status.idle": "2025-03-13T20:26:16.108744Z",
     "shell.execute_reply": "2025-03-13T20:26:16.107840Z"
    },
    "papermill": {
     "duration": 32695.91015,
     "end_time": "2025-03-13T20:26:16.110627",
     "exception": false,
     "start_time": "2025-03-13T11:21:20.200477",
     "status": "completed"
    },
    "scrolled": true,
    "tags": []
   },
   "outputs": [
    {
     "name": "stderr",
     "output_type": "stream",
     "text": [
      "Predictor not fit prior to pseudolabeling. Fitting now...\n",
      "Verbosity: 2 (Standard Logging)\n",
      "=================== System Info ===================\n",
      "AutoGluon Version:  1.2\n",
      "Python Version:     3.10.12\n",
      "Operating System:   Linux\n",
      "Platform Machine:   x86_64\n",
      "Platform Version:   #1 SMP PREEMPT_DYNAMIC Sun Nov 10 10:07:59 UTC 2024\n",
      "CPU Count:          4\n",
      "Memory Avail:       30.21 GB / 31.35 GB (96.4%)\n",
      "Disk Space Avail:   1892.13 GB / 8062.39 GB (23.5%)\n",
      "===================================================\n",
      "Presets specified: ['experimental_quality']\n",
      "Setting dynamic_stacking from 'auto' to True. Reason: Enable dynamic_stacking when use_bag_holdout is disabled. (use_bag_holdout=False)\n",
      "Stack configuration (auto_stack=True): num_stack_levels=1, num_bag_folds=8, num_bag_sets=1\n",
      "DyStack is enabled (dynamic_stacking=True). AutoGluon will try to determine whether the input data is affected by stacked overfitting and enable or disable stacking as a consequence.\n",
      "\tThis is used to identify the optimal `num_stack_levels` value. Copies of AutoGluon will be fit on subsets of the data. Then holdout validation data is used to detect stacked overfitting.\n",
      "\tRunning DyStack for up to 9900s of the 39600s of remaining time (25%).\n",
      "\tRunning DyStack sub-fit in a ray process to avoid memory leakage. Enabling ray logging (enable_ray_logging=True). Specify `ds_args={'enable_ray_logging': False}` if you experience logging issues.\n",
      "2025-03-13 11:21:22,671\tINFO worker.py:1819 -- Started a local Ray instance.\n",
      "\t\tContext path: \"/AutoGluonModels/ds_sub_fit/sub_fit_ho\"\n",
      "\u001b[36m(_dystack pid=166)\u001b[0m Running DyStack sub-fit ...\n",
      "\u001b[36m(_dystack pid=166)\u001b[0m Values in column 'fold' used as split folds instead of being automatically set. Bagged models will have 10 splits.\n",
      "\u001b[36m(_dystack pid=166)\u001b[0m Beginning AutoGluon training ... Time limit = 9896s\n",
      "\u001b[36m(_dystack pid=166)\u001b[0m AutoGluon will save models to \"/AutoGluonModels/ds_sub_fit/sub_fit_ho\"\n",
      "\u001b[36m(_dystack pid=166)\u001b[0m Train Data Rows:    1946\n",
      "\u001b[36m(_dystack pid=166)\u001b[0m Train Data Columns: 12\n",
      "\u001b[36m(_dystack pid=166)\u001b[0m Label Column:       rainfall\n",
      "\u001b[36m(_dystack pid=166)\u001b[0m Problem Type:       binary\n",
      "\u001b[36m(_dystack pid=166)\u001b[0m Preprocessing data ...\n",
      "\u001b[36m(_dystack pid=166)\u001b[0m Selected class <--> label mapping:  class 1 = 1, class 0 = 0\n",
      "\u001b[36m(_dystack pid=166)\u001b[0m Using Feature Generators to preprocess the data ...\n",
      "\u001b[36m(_dystack pid=166)\u001b[0m Fitting AutoMLPipelineFeatureGenerator...\n",
      "\u001b[36m(_dystack pid=166)\u001b[0m \tAvailable Memory:                    30445.25 MB\n",
      "\u001b[36m(_dystack pid=166)\u001b[0m \tTrain Data (Original)  Memory Usage: 0.16 MB (0.0% of available memory)\n",
      "\u001b[36m(_dystack pid=166)\u001b[0m \tInferring data type of each feature based on column values. Set feature_metadata_in to manually specify special dtypes of the features.\n",
      "\u001b[36m(_dystack pid=166)\u001b[0m \tStage 1 Generators:\n",
      "\u001b[36m(_dystack pid=166)\u001b[0m \t\tFitting AsTypeFeatureGenerator...\n",
      "\u001b[36m(_dystack pid=166)\u001b[0m \tStage 2 Generators:\n",
      "\u001b[36m(_dystack pid=166)\u001b[0m \t\tFitting FillNaFeatureGenerator...\n",
      "\u001b[36m(_dystack pid=166)\u001b[0m \tStage 3 Generators:\n",
      "\u001b[36m(_dystack pid=166)\u001b[0m \t\tFitting IdentityFeatureGenerator...\n",
      "\u001b[36m(_dystack pid=166)\u001b[0m \tStage 4 Generators:\n",
      "\u001b[36m(_dystack pid=166)\u001b[0m \t\tFitting DropUniqueFeatureGenerator...\n",
      "\u001b[36m(_dystack pid=166)\u001b[0m \tStage 5 Generators:\n",
      "\u001b[36m(_dystack pid=166)\u001b[0m \t\tFitting DropDuplicatesFeatureGenerator...\n",
      "\u001b[36m(_dystack pid=166)\u001b[0m \tTypes of features in original data (raw dtype, special dtypes):\n",
      "\u001b[36m(_dystack pid=166)\u001b[0m \t\t('float', []) : 10 | ['pressure', 'maxtemp', 'temparature', 'mintemp', 'dewpoint', ...]\n",
      "\u001b[36m(_dystack pid=166)\u001b[0m \t\t('int', [])   :  1 | ['day']\n",
      "\u001b[36m(_dystack pid=166)\u001b[0m \tTypes of features in processed data (raw dtype, special dtypes):\n",
      "\u001b[36m(_dystack pid=166)\u001b[0m \t\t('float', []) : 10 | ['pressure', 'maxtemp', 'temparature', 'mintemp', 'dewpoint', ...]\n",
      "\u001b[36m(_dystack pid=166)\u001b[0m \t\t('int', [])   :  1 | ['day']\n",
      "\u001b[36m(_dystack pid=166)\u001b[0m \t0.0s = Fit runtime\n",
      "\u001b[36m(_dystack pid=166)\u001b[0m \t11 features in original data used to generate 11 features in processed data.\n",
      "\u001b[36m(_dystack pid=166)\u001b[0m \tTrain Data (Processed) Memory Usage: 0.16 MB (0.0% of available memory)\n",
      "\u001b[36m(_dystack pid=166)\u001b[0m Data preprocessing and feature engineering runtime = 0.03s ...\n",
      "\u001b[36m(_dystack pid=166)\u001b[0m AutoGluon will gauge predictive performance using evaluation metric: 'roc_auc'\n",
      "\u001b[36m(_dystack pid=166)\u001b[0m \tThis metric expects predicted probabilities rather than predicted class labels, so you'll need to use predict_proba() instead of predict()\n",
      "\u001b[36m(_dystack pid=166)\u001b[0m \tTo change this, specify the eval_metric parameter of Predictor()\n",
      "\u001b[36m(_dystack pid=166)\u001b[0m Large model count detected (119 configs) ... Only displaying the first 3 models of each family. To see all, set `verbosity=3`.\n",
      "\u001b[36m(_dystack pid=166)\u001b[0m User-specified model hyperparameters to be fit:\n",
      "\u001b[36m(_dystack pid=166)\u001b[0m {\n",
      "\u001b[36m(_dystack pid=166)\u001b[0m \t'TABPFNMIX': [{'model_path_classifier': 'autogluon/tabpfn-mix-1.0-classifier', 'model_path_regressor': 'autogluon/tabpfn-mix-1.0-regressor', 'n_ensembles': 1, 'max_epochs': 30, 'ag.sample_rows_val': 5000, 'ag.max_rows': 50000, 'ag_args': {'name_suffix': '_v1'}}],\n",
      "\u001b[36m(_dystack pid=166)\u001b[0m \t'NN_TORCH': [{}, {'activation': 'elu', 'dropout_prob': 0.10077639529843717, 'hidden_size': 108, 'learning_rate': 0.002735937344002146, 'num_layers': 4, 'use_batchnorm': True, 'weight_decay': 1.356433327634438e-12, 'ag_args': {'name_suffix': '_r79', 'priority': -2}}, {'activation': 'elu', 'dropout_prob': 0.11897478034205347, 'hidden_size': 213, 'learning_rate': 0.0010474382260641949, 'num_layers': 4, 'use_batchnorm': False, 'weight_decay': 5.594471067786272e-10, 'ag_args': {'name_suffix': '_r22', 'priority': -7}}],\n",
      "\u001b[36m(_dystack pid=166)\u001b[0m \t'GBM': [{'extra_trees': True, 'ag_args': {'name_suffix': 'XT'}}, {}, {'learning_rate': 0.03, 'num_leaves': 128, 'feature_fraction': 0.9, 'min_data_in_leaf': 3, 'ag_args': {'name_suffix': 'Large', 'priority': 0, 'hyperparameter_tune_kwargs': None}}],\n",
      "\u001b[36m(_dystack pid=166)\u001b[0m \t'CAT': [{}, {'depth': 6, 'grow_policy': 'SymmetricTree', 'l2_leaf_reg': 2.1542798306067823, 'learning_rate': 0.06864209415792857, 'max_ctr_complexity': 4, 'one_hot_max_size': 10, 'ag_args': {'name_suffix': '_r177', 'priority': -1}}, {'depth': 8, 'grow_policy': 'Depthwise', 'l2_leaf_reg': 2.7997999596449104, 'learning_rate': 0.031375015734637225, 'max_ctr_complexity': 2, 'one_hot_max_size': 3, 'ag_args': {'name_suffix': '_r9', 'priority': -5}}],\n",
      "\u001b[36m(_dystack pid=166)\u001b[0m \t'XGB': [{}, {'colsample_bytree': 0.6917311125174739, 'enable_categorical': False, 'learning_rate': 0.018063876087523967, 'max_depth': 10, 'min_child_weight': 0.6028633586934382, 'ag_args': {'name_suffix': '_r33', 'priority': -8}}, {'colsample_bytree': 0.6628423832084077, 'enable_categorical': False, 'learning_rate': 0.08775715546881824, 'max_depth': 5, 'min_child_weight': 0.6294123374222513, 'ag_args': {'name_suffix': '_r89', 'priority': -16}}],\n",
      "\u001b[36m(_dystack pid=166)\u001b[0m \t'FASTAI': [{}, {'bs': 256, 'emb_drop': 0.5411770367537934, 'epochs': 43, 'layers': [800, 400], 'lr': 0.01519848858318159, 'ps': 0.23782946566604385, 'ag_args': {'name_suffix': '_r191', 'priority': -4}}, {'bs': 2048, 'emb_drop': 0.05070411322605811, 'epochs': 29, 'layers': [200, 100], 'lr': 0.08974235041576624, 'ps': 0.10393466140748028, 'ag_args': {'name_suffix': '_r102', 'priority': -11}}],\n",
      "\u001b[36m(_dystack pid=166)\u001b[0m \t'RF': [{'criterion': 'gini', 'ag_args': {'name_suffix': 'Gini', 'problem_types': ['binary', 'multiclass']}}, {'criterion': 'entropy', 'ag_args': {'name_suffix': 'Entr', 'problem_types': ['binary', 'multiclass']}}, {'criterion': 'squared_error', 'ag_args': {'name_suffix': 'MSE', 'problem_types': ['regression', 'quantile']}}],\n",
      "\u001b[36m(_dystack pid=166)\u001b[0m \t'XT': [{'criterion': 'gini', 'ag_args': {'name_suffix': 'Gini', 'problem_types': ['binary', 'multiclass']}}, {'criterion': 'entropy', 'ag_args': {'name_suffix': 'Entr', 'problem_types': ['binary', 'multiclass']}}, {'criterion': 'squared_error', 'ag_args': {'name_suffix': 'MSE', 'problem_types': ['regression', 'quantile']}}],\n",
      "\u001b[36m(_dystack pid=166)\u001b[0m \t'KNN': [{'weights': 'uniform', 'ag_args': {'name_suffix': 'Unif'}}, {'weights': 'distance', 'ag_args': {'name_suffix': 'Dist'}}],\n",
      "\u001b[36m(_dystack pid=166)\u001b[0m }\n",
      "\u001b[36m(_dystack pid=166)\u001b[0m AutoGluon will fit 2 stack levels (L1 to L2) ...\n",
      "\u001b[36m(_dystack pid=166)\u001b[0m Fitting 111 L1 models, fit_strategy=\"parallel\" ...\n",
      "\u001b[36m(_dystack pid=166)\u001b[0m Note: fit_strategy='parallel', but `num_cpus=4`. Running parallel mode with fewer than 12 CPUs is not recommended and has been disabled. You can override this by specifying `os.environ[\"AG_FORCE_PARALLEL\"] = \"True\"`. Falling back to fit_strategy='sequential' ...\n",
      "\u001b[36m(_dystack pid=166)\u001b[0m Fitting model: KNeighborsUnif_BAG_L1 ... Training model for up to 6595.76s of the 9896.10s of remaining time.\n",
      "\u001b[36m(_dystack pid=166)\u001b[0m \tForcing `use_child_oof=False` because `groups` is specified\n",
      "\u001b[36m(_dystack pid=166)\u001b[0m \tFitting 10 child models (S1F1 - S1F10) | Fitting with ParallelLocalFoldFittingStrategy (4 workers, per: cpus=1, gpus=0, memory=0.00%)\n",
      "\u001b[36m(_dystack pid=166)\u001b[0m \t0.8403\t = Validation score   (roc_auc)\n",
      "\u001b[36m(_dystack pid=166)\u001b[0m \t6.46s\t = Training   runtime\n",
      "\u001b[36m(_dystack pid=166)\u001b[0m \t0.04s\t = Validation runtime\n",
      "\u001b[36m(_dystack pid=166)\u001b[0m Fitting model: KNeighborsDist_BAG_L1 ... Training model for up to 6586.62s of the 9886.96s of remaining time.\n",
      "\u001b[36m(_dystack pid=166)\u001b[0m \tForcing `use_child_oof=False` because `groups` is specified\n",
      "\u001b[36m(_dystack pid=166)\u001b[0m \tFitting 10 child models (S1F1 - S1F10) | Fitting with ParallelLocalFoldFittingStrategy (4 workers, per: cpus=1, gpus=0, memory=0.00%)\n",
      "\u001b[36m(_dystack pid=166)\u001b[0m \t0.842\t = Validation score   (roc_auc)\n",
      "\u001b[36m(_dystack pid=166)\u001b[0m \t6.59s\t = Training   runtime\n",
      "\u001b[36m(_dystack pid=166)\u001b[0m \t0.03s\t = Validation runtime\n",
      "\u001b[36m(_dystack pid=166)\u001b[0m Fitting model: LightGBMXT_BAG_L1 ... Training model for up to 6577.15s of the 9877.49s of remaining time.\n",
      "\u001b[36m(_dystack pid=166)\u001b[0m \tFitting 10 child models (S1F1 - S1F10) | Fitting with ParallelLocalFoldFittingStrategy (4 workers, per: cpus=1, gpus=0, memory=0.01%)\n",
      "\u001b[36m(_dystack pid=166)\u001b[0m \t0.8975\t = Validation score   (roc_auc)\n",
      "\u001b[36m(_dystack pid=166)\u001b[0m \t17.11s\t = Training   runtime\n",
      "\u001b[36m(_dystack pid=166)\u001b[0m \t0.06s\t = Validation runtime\n",
      "\u001b[36m(_dystack pid=166)\u001b[0m Fitting model: LightGBM_BAG_L1 ... Training model for up to 6557.01s of the 9857.35s of remaining time.\n",
      "\u001b[36m(_dystack pid=166)\u001b[0m \tFitting 10 child models (S1F1 - S1F10) | Fitting with ParallelLocalFoldFittingStrategy (4 workers, per: cpus=1, gpus=0, memory=0.01%)\n",
      "\u001b[36m(_dystack pid=166)\u001b[0m \t0.8881\t = Validation score   (roc_auc)\n",
      "\u001b[36m(_dystack pid=166)\u001b[0m \t13.54s\t = Training   runtime\n",
      "\u001b[36m(_dystack pid=166)\u001b[0m \t0.03s\t = Validation runtime\n",
      "\u001b[36m(_dystack pid=166)\u001b[0m Fitting model: RandomForestGini_BAG_L1 ... Training model for up to 6540.30s of the 9840.64s of remaining time.\n",
      "\u001b[36m(_dystack pid=166)\u001b[0m \tForcing `use_child_oof=False` because `groups` is specified\n",
      "\u001b[36m(_dystack pid=166)\u001b[0m \tFitting 10 child models (S1F1 - S1F10) | Fitting with ParallelLocalFoldFittingStrategy (4 workers, per: cpus=1, gpus=0, memory=0.00%)\n",
      "\u001b[36m(_dystack pid=166)\u001b[0m \t0.8824\t = Validation score   (roc_auc)\n",
      "\u001b[36m(_dystack pid=166)\u001b[0m \t12.26s\t = Training   runtime\n",
      "\u001b[36m(_dystack pid=166)\u001b[0m \t0.9s\t = Validation runtime\n",
      "\u001b[36m(_dystack pid=166)\u001b[0m Fitting model: RandomForestEntr_BAG_L1 ... Training model for up to 6524.91s of the 9825.25s of remaining time.\n",
      "\u001b[36m(_dystack pid=166)\u001b[0m \tForcing `use_child_oof=False` because `groups` is specified\n",
      "\u001b[36m(_dystack pid=166)\u001b[0m \tFitting 10 child models (S1F1 - S1F10) | Fitting with ParallelLocalFoldFittingStrategy (4 workers, per: cpus=1, gpus=0, memory=0.00%)\n",
      "\u001b[36m(_dystack pid=166)\u001b[0m \t0.8828\t = Validation score   (roc_auc)\n",
      "\u001b[36m(_dystack pid=166)\u001b[0m \t13.12s\t = Training   runtime\n",
      "\u001b[36m(_dystack pid=166)\u001b[0m \t0.94s\t = Validation runtime\n",
      "\u001b[36m(_dystack pid=166)\u001b[0m Fitting model: CatBoost_BAG_L1 ... Training model for up to 6508.85s of the 9809.19s of remaining time.\n",
      "\u001b[36m(_dystack pid=166)\u001b[0m \tFitting 10 child models (S1F1 - S1F10) | Fitting with ParallelLocalFoldFittingStrategy (4 workers, per: cpus=1, gpus=0, memory=0.02%)\n",
      "\u001b[36m(_dystack pid=166)\u001b[0m \t0.8955\t = Validation score   (roc_auc)\n",
      "\u001b[36m(_dystack pid=166)\u001b[0m \t13.7s\t = Training   runtime\n",
      "\u001b[36m(_dystack pid=166)\u001b[0m \t0.03s\t = Validation runtime\n",
      "\u001b[36m(_dystack pid=166)\u001b[0m Fitting model: ExtraTreesGini_BAG_L1 ... Training model for up to 6492.08s of the 9792.42s of remaining time.\n",
      "\u001b[36m(_dystack pid=166)\u001b[0m \tForcing `use_child_oof=False` because `groups` is specified\n",
      "\u001b[36m(_dystack pid=166)\u001b[0m \tFitting 10 child models (S1F1 - S1F10) | Fitting with ParallelLocalFoldFittingStrategy (4 workers, per: cpus=1, gpus=0, memory=0.00%)\n",
      "\u001b[36m(_dystack pid=166)\u001b[0m \t0.886\t = Validation score   (roc_auc)\n",
      "\u001b[36m(_dystack pid=166)\u001b[0m \t11.56s\t = Training   runtime\n",
      "\u001b[36m(_dystack pid=166)\u001b[0m \t0.94s\t = Validation runtime\n",
      "\u001b[36m(_dystack pid=166)\u001b[0m Fitting model: ExtraTreesEntr_BAG_L1 ... Training model for up to 6477.55s of the 9777.89s of remaining time.\n",
      "\u001b[36m(_dystack pid=166)\u001b[0m \tForcing `use_child_oof=False` because `groups` is specified\n",
      "\u001b[36m(_dystack pid=166)\u001b[0m \tFitting 10 child models (S1F1 - S1F10) | Fitting with ParallelLocalFoldFittingStrategy (4 workers, per: cpus=1, gpus=0, memory=0.00%)\n",
      "\u001b[36m(_dystack pid=166)\u001b[0m \t0.8881\t = Validation score   (roc_auc)\n",
      "\u001b[36m(_dystack pid=166)\u001b[0m \t10.92s\t = Training   runtime\n",
      "\u001b[36m(_dystack pid=166)\u001b[0m \t0.86s\t = Validation runtime\n",
      "\u001b[36m(_dystack pid=166)\u001b[0m Fitting model: NeuralNetFastAI_BAG_L1 ... Training model for up to 6463.48s of the 9763.82s of remaining time.\n",
      "\u001b[36m(_dystack pid=166)\u001b[0m \tFitting 10 child models (S1F1 - S1F10) | Fitting with ParallelLocalFoldFittingStrategy (4 workers, per: cpus=1, gpus=0, memory=0.01%)\n",
      "\u001b[36m(_ray_fit pid=4305)\u001b[0m No improvement since epoch 9: early stopping\n",
      "\u001b[36m(_dystack pid=166)\u001b[0m \t0.8882\t = Validation score   (roc_auc)\n",
      "\u001b[36m(_dystack pid=166)\u001b[0m \t29.25s\t = Training   runtime\n",
      "\u001b[36m(_dystack pid=166)\u001b[0m \t0.14s\t = Validation runtime\n",
      "\u001b[36m(_dystack pid=166)\u001b[0m Fitting model: TabPFNMix_v1_BAG_L1 ... Training model for up to 6431.38s of the 9731.72s of remaining time.\n",
      "\u001b[36m(_dystack pid=166)\u001b[0m \tMemory not enough to fit 10 folds in parallel. Will train 2 folds in parallel instead (Estimated 28.26% memory usage per fold, 56.52%/80.00% total).\n",
      "\u001b[36m(_dystack pid=166)\u001b[0m \tFitting 10 child models (S1F1 - S1F10) | Fitting with ParallelLocalFoldFittingStrategy (2 workers, per: cpus=2, gpus=0, memory=28.26%)\n",
      "\u001b[36m(_dystack pid=166)\u001b[0m \t0.896\t = Validation score   (roc_auc)\n",
      "\u001b[36m(_dystack pid=166)\u001b[0m \t1604.84s\t = Training   runtime\n",
      "\u001b[36m(_dystack pid=166)\u001b[0m \t34.02s\t = Validation runtime\n",
      "\u001b[36m(_dystack pid=166)\u001b[0m Fitting model: XGBoost_BAG_L1 ... Training model for up to 4822.30s of the 8122.64s of remaining time.\n",
      "\u001b[36m(_dystack pid=166)\u001b[0m \tFitting 10 child models (S1F1 - S1F10) | Fitting with ParallelLocalFoldFittingStrategy (4 workers, per: cpus=1, gpus=0, memory=0.02%)\n",
      "\u001b[36m(_dystack pid=166)\u001b[0m \t0.8885\t = Validation score   (roc_auc)\n",
      "\u001b[36m(_dystack pid=166)\u001b[0m \t8.57s\t = Training   runtime\n",
      "\u001b[36m(_dystack pid=166)\u001b[0m \t0.08s\t = Validation runtime\n",
      "\u001b[36m(_dystack pid=166)\u001b[0m Fitting model: NeuralNetTorch_BAG_L1 ... Training model for up to 4810.77s of the 8111.11s of remaining time.\n",
      "\u001b[36m(_dystack pid=166)\u001b[0m \tFitting 10 child models (S1F1 - S1F10) | Fitting with ParallelLocalFoldFittingStrategy (4 workers, per: cpus=1, gpus=0, memory=0.00%)\n",
      "\u001b[36m(_dystack pid=166)\u001b[0m \t0.891\t = Validation score   (roc_auc)\n",
      "\u001b[36m(_dystack pid=166)\u001b[0m \t34.01s\t = Training   runtime\n",
      "\u001b[36m(_dystack pid=166)\u001b[0m \t0.1s\t = Validation runtime\n",
      "\u001b[36m(_dystack pid=166)\u001b[0m Fitting model: LightGBMLarge_BAG_L1 ... Training model for up to 4773.94s of the 8074.28s of remaining time.\n",
      "\u001b[36m(_dystack pid=166)\u001b[0m \tFitting 10 child models (S1F1 - S1F10) | Fitting with ParallelLocalFoldFittingStrategy (4 workers, per: cpus=1, gpus=0, memory=0.03%)\n",
      "\u001b[36m(_dystack pid=166)\u001b[0m \t0.8664\t = Validation score   (roc_auc)\n",
      "\u001b[36m(_dystack pid=166)\u001b[0m \t16.62s\t = Training   runtime\n",
      "\u001b[36m(_dystack pid=166)\u001b[0m \t0.03s\t = Validation runtime\n",
      "\u001b[36m(_dystack pid=166)\u001b[0m Fitting model: CatBoost_r177_BAG_L1 ... Training model for up to 4754.30s of the 8054.64s of remaining time.\n",
      "\u001b[36m(_dystack pid=166)\u001b[0m \tFitting 10 child models (S1F1 - S1F10) | Fitting with ParallelLocalFoldFittingStrategy (4 workers, per: cpus=1, gpus=0, memory=0.02%)\n",
      "\u001b[36m(_dystack pid=166)\u001b[0m \t0.8975\t = Validation score   (roc_auc)\n",
      "\u001b[36m(_dystack pid=166)\u001b[0m \t12.78s\t = Training   runtime\n",
      "\u001b[36m(_dystack pid=166)\u001b[0m \t0.02s\t = Validation runtime\n",
      "\u001b[36m(_dystack pid=166)\u001b[0m Fitting model: NeuralNetTorch_r79_BAG_L1 ... Training model for up to 4738.57s of the 8038.91s of remaining time.\n",
      "\u001b[36m(_dystack pid=166)\u001b[0m \tFitting 10 child models (S1F1 - S1F10) | Fitting with ParallelLocalFoldFittingStrategy (4 workers, per: cpus=1, gpus=0, memory=0.00%)\n",
      "\u001b[36m(_dystack pid=166)\u001b[0m \t0.891\t = Validation score   (roc_auc)\n",
      "\u001b[36m(_dystack pid=166)\u001b[0m \t35.67s\t = Training   runtime\n",
      "\u001b[36m(_dystack pid=166)\u001b[0m \t0.12s\t = Validation runtime\n",
      "\u001b[36m(_dystack pid=166)\u001b[0m Fitting model: LightGBM_r131_BAG_L1 ... Training model for up to 4700.00s of the 8000.34s of remaining time.\n",
      "\u001b[36m(_dystack pid=166)\u001b[0m \tFitting 10 child models (S1F1 - S1F10) | Fitting with ParallelLocalFoldFittingStrategy (4 workers, per: cpus=1, gpus=0, memory=0.02%)\n",
      "\u001b[36m(_dystack pid=166)\u001b[0m \t0.8869\t = Validation score   (roc_auc)\n",
      "\u001b[36m(_dystack pid=166)\u001b[0m \t14.86s\t = Training   runtime\n",
      "\u001b[36m(_dystack pid=166)\u001b[0m \t0.07s\t = Validation runtime\n",
      "\u001b[36m(_dystack pid=166)\u001b[0m Fitting model: NeuralNetFastAI_r191_BAG_L1 ... Training model for up to 4681.52s of the 7981.86s of remaining time.\n",
      "\u001b[36m(_dystack pid=166)\u001b[0m \tFitting 10 child models (S1F1 - S1F10) | Fitting with ParallelLocalFoldFittingStrategy (4 workers, per: cpus=1, gpus=0, memory=0.01%)\n",
      "\u001b[36m(_ray_fit pid=6891)\u001b[0m No improvement since epoch 9: early stopping\n",
      "\u001b[36m(_ray_fit pid=7075)\u001b[0m No improvement since epoch 13: early stopping\u001b[32m [repeated 4x across cluster] (Ray deduplicates logs by default. Set RAY_DEDUP_LOGS=0 to disable log deduplication, or see https://docs.ray.io/en/master/ray-observability/user-guides/configure-logging.html#log-deduplication for more options.)\u001b[0m\n",
      "\u001b[36m(_ray_fit pid=7262)\u001b[0m No improvement since epoch 14: early stopping\u001b[32m [repeated 4x across cluster]\u001b[0m\n",
      "\u001b[36m(_dystack pid=166)\u001b[0m \t0.8911\t = Validation score   (roc_auc)\n",
      "\u001b[36m(_dystack pid=166)\u001b[0m \t37.18s\t = Training   runtime\n",
      "\u001b[36m(_dystack pid=166)\u001b[0m \t0.14s\t = Validation runtime\n",
      "\u001b[36m(_dystack pid=166)\u001b[0m Fitting model: CatBoost_r9_BAG_L1 ... Training model for up to 4641.32s of the 7941.66s of remaining time.\n",
      "\u001b[36m(_dystack pid=166)\u001b[0m \tFitting 10 child models (S1F1 - S1F10) | Fitting with ParallelLocalFoldFittingStrategy (4 workers, per: cpus=1, gpus=0, memory=0.06%)\n",
      "\u001b[36m(_dystack pid=166)\u001b[0m \t0.8934\t = Validation score   (roc_auc)\n",
      "\u001b[36m(_dystack pid=166)\u001b[0m \t37.28s\t = Training   runtime\n",
      "\u001b[36m(_dystack pid=166)\u001b[0m \t0.02s\t = Validation runtime\n",
      "\u001b[36m(_dystack pid=166)\u001b[0m Fitting model: LightGBM_r96_BAG_L1 ... Training model for up to 4600.86s of the 7901.20s of remaining time.\n",
      "\u001b[36m(_dystack pid=166)\u001b[0m \tFitting 10 child models (S1F1 - S1F10) | Fitting with ParallelLocalFoldFittingStrategy (4 workers, per: cpus=1, gpus=0, memory=0.01%)\n",
      "\u001b[36m(_ray_fit pid=7265)\u001b[0m No improvement since epoch 15: early stopping\n"
     ]
    },
    {
     "name": "stdout",
     "output_type": "stream",
     "text": [
      "\u001b[36m(_ray_fit pid=7750)\u001b[0m [1000]\tvalid_set's binary_logloss: 0.303317\n",
      "\u001b[36m(_ray_fit pid=7879)\u001b[0m [1000]\tvalid_set's binary_logloss: 0.346226\u001b[32m [repeated 8x across cluster]\u001b[0m\n",
      "\u001b[36m(_ray_fit pid=8012)\u001b[0m [1000]\tvalid_set's binary_logloss: 0.290323\n",
      "\u001b[36m(_ray_fit pid=8015)\u001b[0m [1000]\tvalid_set's binary_logloss: 0.320026\n"
     ]
    },
    {
     "name": "stderr",
     "output_type": "stream",
     "text": [
      "\u001b[36m(_dystack pid=166)\u001b[0m \t0.8987\t = Validation score   (roc_auc)\n",
      "\u001b[36m(_dystack pid=166)\u001b[0m \t13.99s\t = Training   runtime\n",
      "\u001b[36m(_dystack pid=166)\u001b[0m \t0.29s\t = Validation runtime\n",
      "\u001b[36m(_dystack pid=166)\u001b[0m Fitting model: NeuralNetTorch_r22_BAG_L1 ... Training model for up to 4583.80s of the 7884.14s of remaining time.\n",
      "\u001b[36m(_dystack pid=166)\u001b[0m \tFitting 10 child models (S1F1 - S1F10) | Fitting with ParallelLocalFoldFittingStrategy (4 workers, per: cpus=1, gpus=0, memory=0.00%)\n",
      "\u001b[36m(_dystack pid=166)\u001b[0m \t0.8961\t = Validation score   (roc_auc)\n",
      "\u001b[36m(_dystack pid=166)\u001b[0m \t36.3s\t = Training   runtime\n",
      "\u001b[36m(_dystack pid=166)\u001b[0m \t0.15s\t = Validation runtime\n",
      "\u001b[36m(_dystack pid=166)\u001b[0m Fitting model: XGBoost_r33_BAG_L1 ... Training model for up to 4544.48s of the 7844.82s of remaining time.\n",
      "\u001b[36m(_dystack pid=166)\u001b[0m \tFitting 10 child models (S1F1 - S1F10) | Fitting with ParallelLocalFoldFittingStrategy (4 workers, per: cpus=1, gpus=0, memory=0.12%)\n",
      "\u001b[36m(_dystack pid=166)\u001b[0m \t0.8885\t = Validation score   (roc_auc)\n",
      "\u001b[36m(_dystack pid=166)\u001b[0m \t12.25s\t = Training   runtime\n",
      "\u001b[36m(_dystack pid=166)\u001b[0m \t0.1s\t = Validation runtime\n",
      "\u001b[36m(_dystack pid=166)\u001b[0m Fitting model: ExtraTrees_r42_BAG_L1 ... Training model for up to 4529.19s of the 7829.53s of remaining time.\n",
      "\u001b[36m(_dystack pid=166)\u001b[0m \tForcing `use_child_oof=False` because `groups` is specified\n",
      "\u001b[36m(_dystack pid=166)\u001b[0m \tFitting 10 child models (S1F1 - S1F10) | Fitting with ParallelLocalFoldFittingStrategy (4 workers, per: cpus=1, gpus=0, memory=0.00%)\n"
     ]
    },
    {
     "name": "stdout",
     "output_type": "stream",
     "text": [
      "\u001b[36m(autoscaler +34m35s)\u001b[0m Tip: use `ray status` to view detailed cluster status. To disable these messages, set RAY_SCHEDULER_EVENTS=0.\n",
      "\u001b[33m(autoscaler +34m35s)\u001b[0m Warning: The following resource request cannot be scheduled right now: {'CPU': 1.0}. This is likely due to all cluster resources being claimed by actors. Consider creating fewer actors or adding more nodes to this Ray cluster.\n"
     ]
    },
    {
     "name": "stderr",
     "output_type": "stream",
     "text": [
      "\u001b[36m(_dystack pid=166)\u001b[0m \t0.8856\t = Validation score   (roc_auc)\n",
      "\u001b[36m(_dystack pid=166)\u001b[0m \t11.99s\t = Training   runtime\n",
      "\u001b[36m(_dystack pid=166)\u001b[0m \t0.8s\t = Validation runtime\n",
      "\u001b[36m(_dystack pid=166)\u001b[0m Fitting model: CatBoost_r137_BAG_L1 ... Training model for up to 4514.08s of the 7814.42s of remaining time.\n",
      "\u001b[36m(_dystack pid=166)\u001b[0m \tFitting 10 child models (S1F1 - S1F10) | Fitting with ParallelLocalFoldFittingStrategy (4 workers, per: cpus=1, gpus=0, memory=0.01%)\n",
      "\u001b[36m(_dystack pid=166)\u001b[0m \t0.8974\t = Validation score   (roc_auc)\n",
      "\u001b[36m(_dystack pid=166)\u001b[0m \t13.02s\t = Training   runtime\n",
      "\u001b[36m(_dystack pid=166)\u001b[0m \t0.02s\t = Validation runtime\n",
      "\u001b[36m(_dystack pid=166)\u001b[0m Fitting model: NeuralNetFastAI_r102_BAG_L1 ... Training model for up to 4498.14s of the 7798.48s of remaining time.\n",
      "\u001b[36m(_dystack pid=166)\u001b[0m \tFitting 10 child models (S1F1 - S1F10) | Fitting with ParallelLocalFoldFittingStrategy (4 workers, per: cpus=1, gpus=0, memory=0.01%)\n"
     ]
    },
    {
     "name": "stdout",
     "output_type": "stream",
     "text": [
      "\u001b[33m(autoscaler +35m10s)\u001b[0m Warning: The following resource request cannot be scheduled right now: {'CPU': 1.0}. This is likely due to all cluster resources being claimed by actors. Consider creating fewer actors or adding more nodes to this Ray cluster.\n"
     ]
    },
    {
     "name": "stderr",
     "output_type": "stream",
     "text": [
      "\u001b[36m(_ray_fit pid=9646)\u001b[0m No improvement since epoch 2: early stopping\n"
     ]
    },
    {
     "name": "stdout",
     "output_type": "stream",
     "text": [
      "\u001b[33m(autoscaler +35m45s)\u001b[0m Warning: The following resource request cannot be scheduled right now: {'CPU': 1.0}. This is likely due to all cluster resources being claimed by actors. Consider creating fewer actors or adding more nodes to this Ray cluster.\n"
     ]
    },
    {
     "name": "stderr",
     "output_type": "stream",
     "text": [
      "\u001b[36m(_ray_fit pid=10017)\u001b[0m No improvement since epoch 2: early stopping\n",
      "\u001b[36m(_dystack pid=166)\u001b[0m \t0.8982\t = Validation score   (roc_auc)\n",
      "\u001b[36m(_dystack pid=166)\u001b[0m \t66.81s\t = Training   runtime\n",
      "\u001b[36m(_dystack pid=166)\u001b[0m \t0.3s\t = Validation runtime\n",
      "\u001b[36m(_dystack pid=166)\u001b[0m Fitting model: CatBoost_r13_BAG_L1 ... Training model for up to 4428.36s of the 7728.70s of remaining time.\n",
      "\u001b[36m(_dystack pid=166)\u001b[0m \tFitting 10 child models (S1F1 - S1F10) | Fitting with ParallelLocalFoldFittingStrategy (4 workers, per: cpus=1, gpus=0, memory=0.06%)\n"
     ]
    },
    {
     "name": "stdout",
     "output_type": "stream",
     "text": [
      "\u001b[33m(autoscaler +36m20s)\u001b[0m Warning: The following resource request cannot be scheduled right now: {'CPU': 1.0}. This is likely due to all cluster resources being claimed by actors. Consider creating fewer actors or adding more nodes to this Ray cluster.\n"
     ]
    },
    {
     "name": "stderr",
     "output_type": "stream",
     "text": [
      "\u001b[36m(_dystack pid=166)\u001b[0m \t0.8977\t = Validation score   (roc_auc)\n",
      "\u001b[36m(_dystack pid=166)\u001b[0m \t29.74s\t = Training   runtime\n",
      "\u001b[36m(_dystack pid=166)\u001b[0m \t0.02s\t = Validation runtime\n",
      "\u001b[36m(_dystack pid=166)\u001b[0m Fitting model: RandomForest_r195_BAG_L1 ... Training model for up to 4395.66s of the 7696.00s of remaining time.\n",
      "\u001b[36m(_dystack pid=166)\u001b[0m \tForcing `use_child_oof=False` because `groups` is specified\n",
      "\u001b[36m(_dystack pid=166)\u001b[0m \tFitting 10 child models (S1F1 - S1F10) | Fitting with ParallelLocalFoldFittingStrategy (4 workers, per: cpus=1, gpus=0, memory=0.00%)\n"
     ]
    },
    {
     "name": "stdout",
     "output_type": "stream",
     "text": [
      "\u001b[33m(autoscaler +36m55s)\u001b[0m Warning: The following resource request cannot be scheduled right now: {'CPU': 1.0}. This is likely due to all cluster resources being claimed by actors. Consider creating fewer actors or adding more nodes to this Ray cluster.\n"
     ]
    },
    {
     "name": "stderr",
     "output_type": "stream",
     "text": [
      "\u001b[36m(_dystack pid=166)\u001b[0m \t0.8804\t = Validation score   (roc_auc)\n",
      "\u001b[36m(_dystack pid=166)\u001b[0m \t19.16s\t = Training   runtime\n",
      "\u001b[36m(_dystack pid=166)\u001b[0m \t0.86s\t = Validation runtime\n",
      "\u001b[36m(_dystack pid=166)\u001b[0m Fitting model: LightGBM_r188_BAG_L1 ... Training model for up to 4373.53s of the 7673.87s of remaining time.\n",
      "\u001b[36m(_dystack pid=166)\u001b[0m \tFitting 10 child models (S1F1 - S1F10) | Fitting with ParallelLocalFoldFittingStrategy (4 workers, per: cpus=1, gpus=0, memory=0.03%)\n",
      "\u001b[36m(_dystack pid=166)\u001b[0m \t0.895\t = Validation score   (roc_auc)\n",
      "\u001b[36m(_dystack pid=166)\u001b[0m \t13.92s\t = Training   runtime\n",
      "\u001b[36m(_dystack pid=166)\u001b[0m \t0.07s\t = Validation runtime\n",
      "\u001b[36m(_dystack pid=166)\u001b[0m Fitting model: NeuralNetFastAI_r145_BAG_L1 ... Training model for up to 4356.62s of the 7656.96s of remaining time.\n",
      "\u001b[36m(_dystack pid=166)\u001b[0m \tFitting 10 child models (S1F1 - S1F10) | Fitting with ParallelLocalFoldFittingStrategy (4 workers, per: cpus=1, gpus=0, memory=0.01%)\n"
     ]
    },
    {
     "name": "stdout",
     "output_type": "stream",
     "text": [
      "\u001b[33m(autoscaler +37m30s)\u001b[0m Warning: The following resource request cannot be scheduled right now: {'CPU': 1.0}. This is likely due to all cluster resources being claimed by actors. Consider creating fewer actors or adding more nodes to this Ray cluster.\n"
     ]
    },
    {
     "name": "stderr",
     "output_type": "stream",
     "text": [
      "\u001b[36m(_ray_fit pid=11303)\u001b[0m No improvement since epoch 9: early stopping\n",
      "\u001b[36m(_ray_fit pid=11492)\u001b[0m No improvement since epoch 7: early stopping\n",
      "\u001b[36m(_ray_fit pid=11494)\u001b[0m No improvement since epoch 9: early stopping\n",
      "\u001b[36m(_ray_fit pid=11677)\u001b[0m No improvement since epoch 10: early stopping\n",
      "\u001b[36m(_dystack pid=166)\u001b[0m \t0.8918\t = Validation score   (roc_auc)\n",
      "\u001b[36m(_dystack pid=166)\u001b[0m \t37.51s\t = Training   runtime\n",
      "\u001b[36m(_dystack pid=166)\u001b[0m \t0.25s\t = Validation runtime\n",
      "\u001b[36m(_dystack pid=166)\u001b[0m Fitting model: XGBoost_r89_BAG_L1 ... Training model for up to 4316.14s of the 7616.48s of remaining time.\n",
      "\u001b[36m(_dystack pid=166)\u001b[0m \tFitting 10 child models (S1F1 - S1F10) | Fitting with ParallelLocalFoldFittingStrategy (4 workers, per: cpus=1, gpus=0, memory=0.02%)\n"
     ]
    },
    {
     "name": "stdout",
     "output_type": "stream",
     "text": [
      "\u001b[33m(autoscaler +38m6s)\u001b[0m Warning: The following resource request cannot be scheduled right now: {'CPU': 1.0}. This is likely due to all cluster resources being claimed by actors. Consider creating fewer actors or adding more nodes to this Ray cluster.\n"
     ]
    },
    {
     "name": "stderr",
     "output_type": "stream",
     "text": [
      "\u001b[36m(_dystack pid=166)\u001b[0m \t0.8967\t = Validation score   (roc_auc)\n",
      "\u001b[36m(_dystack pid=166)\u001b[0m \t8.87s\t = Training   runtime\n",
      "\u001b[36m(_dystack pid=166)\u001b[0m \t0.07s\t = Validation runtime\n",
      "\u001b[36m(_dystack pid=166)\u001b[0m Fitting model: NeuralNetTorch_r30_BAG_L1 ... Training model for up to 4304.07s of the 7604.41s of remaining time.\n",
      "\u001b[36m(_dystack pid=166)\u001b[0m \tFitting 10 child models (S1F1 - S1F10) | Fitting with ParallelLocalFoldFittingStrategy (4 workers, per: cpus=1, gpus=0, memory=0.00%)\n"
     ]
    },
    {
     "name": "stdout",
     "output_type": "stream",
     "text": [
      "\u001b[33m(autoscaler +38m41s)\u001b[0m Warning: The following resource request cannot be scheduled right now: {'CPU': 1.0}. This is likely due to all cluster resources being claimed by actors. Consider creating fewer actors or adding more nodes to this Ray cluster.\n"
     ]
    },
    {
     "name": "stderr",
     "output_type": "stream",
     "text": [
      "\u001b[36m(_dystack pid=166)\u001b[0m \t0.895\t = Validation score   (roc_auc)\n",
      "\u001b[36m(_dystack pid=166)\u001b[0m \t57.22s\t = Training   runtime\n",
      "\u001b[36m(_dystack pid=166)\u001b[0m \t0.12s\t = Validation runtime\n",
      "\u001b[36m(_dystack pid=166)\u001b[0m Fitting model: LightGBM_r130_BAG_L1 ... Training model for up to 4243.90s of the 7544.24s of remaining time.\n",
      "\u001b[36m(_dystack pid=166)\u001b[0m \tFitting 10 child models (S1F1 - S1F10) | Fitting with ParallelLocalFoldFittingStrategy (4 workers, per: cpus=1, gpus=0, memory=0.02%)\n"
     ]
    },
    {
     "name": "stdout",
     "output_type": "stream",
     "text": [
      "\u001b[33m(autoscaler +39m21s)\u001b[0m Warning: The following resource request cannot be scheduled right now: {'CPU': 1.0}. This is likely due to all cluster resources being claimed by actors. Consider creating fewer actors or adding more nodes to this Ray cluster.\n"
     ]
    },
    {
     "name": "stderr",
     "output_type": "stream",
     "text": [
      "\u001b[36m(_dystack pid=166)\u001b[0m \t0.8945\t = Validation score   (roc_auc)\n",
      "\u001b[36m(_dystack pid=166)\u001b[0m \t12.81s\t = Training   runtime\n",
      "\u001b[36m(_dystack pid=166)\u001b[0m \t0.03s\t = Validation runtime\n",
      "\u001b[36m(_dystack pid=166)\u001b[0m Fitting model: NeuralNetTorch_r86_BAG_L1 ... Training model for up to 4228.02s of the 7528.36s of remaining time.\n",
      "\u001b[36m(_dystack pid=166)\u001b[0m \tFitting 10 child models (S1F1 - S1F10) | Fitting with ParallelLocalFoldFittingStrategy (4 workers, per: cpus=1, gpus=0, memory=0.00%)\n"
     ]
    },
    {
     "name": "stdout",
     "output_type": "stream",
     "text": [
      "\u001b[33m(autoscaler +39m56s)\u001b[0m Warning: The following resource request cannot be scheduled right now: {'CPU': 1.0}. This is likely due to all cluster resources being claimed by actors. Consider creating fewer actors or adding more nodes to this Ray cluster.\n"
     ]
    },
    {
     "name": "stderr",
     "output_type": "stream",
     "text": [
      "\u001b[36m(_dystack pid=166)\u001b[0m \t0.8911\t = Validation score   (roc_auc)\n",
      "\u001b[36m(_dystack pid=166)\u001b[0m \t32.19s\t = Training   runtime\n",
      "\u001b[36m(_dystack pid=166)\u001b[0m \t0.1s\t = Validation runtime\n",
      "\u001b[36m(_dystack pid=166)\u001b[0m Fitting model: CatBoost_r50_BAG_L1 ... Training model for up to 4192.81s of the 7493.15s of remaining time.\n",
      "\u001b[36m(_dystack pid=166)\u001b[0m \tFitting 10 child models (S1F1 - S1F10) | Fitting with ParallelLocalFoldFittingStrategy (4 workers, per: cpus=1, gpus=0, memory=0.01%)\n",
      "\u001b[36m(_dystack pid=166)\u001b[0m \t0.9004\t = Validation score   (roc_auc)\n",
      "\u001b[36m(_dystack pid=166)\u001b[0m \t13.7s\t = Training   runtime\n",
      "\u001b[36m(_dystack pid=166)\u001b[0m \t0.02s\t = Validation runtime\n",
      "\u001b[36m(_dystack pid=166)\u001b[0m Fitting model: NeuralNetFastAI_r11_BAG_L1 ... Training model for up to 4176.22s of the 7476.56s of remaining time.\n",
      "\u001b[36m(_dystack pid=166)\u001b[0m \tFitting 10 child models (S1F1 - S1F10) | Fitting with ParallelLocalFoldFittingStrategy (4 workers, per: cpus=1, gpus=0, memory=0.01%)\n"
     ]
    },
    {
     "name": "stdout",
     "output_type": "stream",
     "text": [
      "\u001b[33m(autoscaler +40m31s)\u001b[0m Warning: The following resource request cannot be scheduled right now: {'CPU': 1.0}. This is likely due to all cluster resources being claimed by actors. Consider creating fewer actors or adding more nodes to this Ray cluster.\n"
     ]
    },
    {
     "name": "stderr",
     "output_type": "stream",
     "text": [
      "\u001b[36m(_ray_fit pid=13564)\u001b[0m No improvement since epoch 6: early stopping\n",
      "\u001b[36m(_ray_fit pid=13777)\u001b[0m No improvement since epoch 9: early stopping\u001b[32m [repeated 3x across cluster]\u001b[0m\n",
      "\u001b[36m(_ray_fit pid=13932)\u001b[0m No improvement since epoch 10: early stopping\n",
      "\u001b[36m(_dystack pid=166)\u001b[0m \t0.9003\t = Validation score   (roc_auc)\n",
      "\u001b[36m(_dystack pid=166)\u001b[0m \t44.46s\t = Training   runtime\n",
      "\u001b[36m(_dystack pid=166)\u001b[0m \t0.18s\t = Validation runtime\n",
      "\u001b[36m(_dystack pid=166)\u001b[0m Fitting model: XGBoost_r194_BAG_L1 ... Training model for up to 4128.92s of the 7429.26s of remaining time.\n",
      "\u001b[36m(_dystack pid=166)\u001b[0m \tFitting 10 child models (S1F1 - S1F10) | Fitting with ParallelLocalFoldFittingStrategy (4 workers, per: cpus=1, gpus=0, memory=0.03%)\n"
     ]
    },
    {
     "name": "stdout",
     "output_type": "stream",
     "text": [
      "\u001b[33m(autoscaler +41m16s)\u001b[0m Warning: The following resource request cannot be scheduled right now: {'CPU': 1.0}. This is likely due to all cluster resources being claimed by actors. Consider creating fewer actors or adding more nodes to this Ray cluster.\n"
     ]
    },
    {
     "name": "stderr",
     "output_type": "stream",
     "text": [
      "\u001b[36m(_dystack pid=166)\u001b[0m \t0.8865\t = Validation score   (roc_auc)\n",
      "\u001b[36m(_dystack pid=166)\u001b[0m \t8.73s\t = Training   runtime\n",
      "\u001b[36m(_dystack pid=166)\u001b[0m \t0.07s\t = Validation runtime\n",
      "\u001b[36m(_dystack pid=166)\u001b[0m Fitting model: ExtraTrees_r172_BAG_L1 ... Training model for up to 4117.14s of the 7417.48s of remaining time.\n",
      "\u001b[36m(_dystack pid=166)\u001b[0m \tForcing `use_child_oof=False` because `groups` is specified\n",
      "\u001b[36m(_dystack pid=166)\u001b[0m \tFitting 10 child models (S1F1 - S1F10) | Fitting with ParallelLocalFoldFittingStrategy (4 workers, per: cpus=1, gpus=0, memory=0.00%)\n",
      "\u001b[36m(_dystack pid=166)\u001b[0m \t0.891\t = Validation score   (roc_auc)\n",
      "\u001b[36m(_dystack pid=166)\u001b[0m \t10.94s\t = Training   runtime\n",
      "\u001b[36m(_dystack pid=166)\u001b[0m \t0.89s\t = Validation runtime\n",
      "\u001b[36m(_dystack pid=166)\u001b[0m Fitting model: CatBoost_r69_BAG_L1 ... Training model for up to 4102.68s of the 7403.02s of remaining time.\n",
      "\u001b[36m(_dystack pid=166)\u001b[0m \tFitting 10 child models (S1F1 - S1F10) | Fitting with ParallelLocalFoldFittingStrategy (4 workers, per: cpus=1, gpus=0, memory=0.01%)\n",
      "\u001b[36m(_dystack pid=166)\u001b[0m \t0.8987\t = Validation score   (roc_auc)\n",
      "\u001b[36m(_dystack pid=166)\u001b[0m \t12.54s\t = Training   runtime\n",
      "\u001b[36m(_dystack pid=166)\u001b[0m \t0.01s\t = Validation runtime\n",
      "\u001b[36m(_dystack pid=166)\u001b[0m Fitting model: NeuralNetFastAI_r103_BAG_L1 ... Training model for up to 4087.18s of the 7387.52s of remaining time.\n",
      "\u001b[36m(_dystack pid=166)\u001b[0m \tFitting 10 child models (S1F1 - S1F10) | Fitting with ParallelLocalFoldFittingStrategy (4 workers, per: cpus=1, gpus=0, memory=0.01%)\n"
     ]
    },
    {
     "name": "stdout",
     "output_type": "stream",
     "text": [
      "\u001b[33m(autoscaler +41m56s)\u001b[0m Warning: The following resource request cannot be scheduled right now: {'CPU': 1.0}. This is likely due to all cluster resources being claimed by actors. Consider creating fewer actors or adding more nodes to this Ray cluster.\n"
     ]
    },
    {
     "name": "stderr",
     "output_type": "stream",
     "text": [
      "\u001b[36m(_ray_fit pid=15208)\u001b[0m No improvement since epoch 16: early stopping\n",
      "\u001b[36m(_ray_fit pid=15392)\u001b[0m No improvement since epoch 17: early stopping\u001b[32m [repeated 2x across cluster]\u001b[0m\n",
      "\u001b[36m(_ray_fit pid=15611)\u001b[0m No improvement since epoch 20: early stopping\u001b[32m [repeated 4x across cluster]\u001b[0m\n",
      "\u001b[36m(_dystack pid=166)\u001b[0m \t0.8954\t = Validation score   (roc_auc)\n",
      "\u001b[36m(_dystack pid=166)\u001b[0m \t31.21s\t = Training   runtime\n",
      "\u001b[36m(_dystack pid=166)\u001b[0m \t0.15s\t = Validation runtime\n",
      "\u001b[36m(_dystack pid=166)\u001b[0m Fitting model: NeuralNetTorch_r14_BAG_L1 ... Training model for up to 4053.09s of the 7353.43s of remaining time.\n",
      "\u001b[36m(_dystack pid=166)\u001b[0m \tFitting 10 child models (S1F1 - S1F10) | Fitting with ParallelLocalFoldFittingStrategy (4 workers, per: cpus=1, gpus=0, memory=0.00%)\n"
     ]
    },
    {
     "name": "stdout",
     "output_type": "stream",
     "text": [
      "\u001b[33m(autoscaler +42m31s)\u001b[0m Warning: The following resource request cannot be scheduled right now: {'CPU': 1.0}. This is likely due to all cluster resources being claimed by actors. Consider creating fewer actors or adding more nodes to this Ray cluster.\n"
     ]
    },
    {
     "name": "stderr",
     "output_type": "stream",
     "text": [
      "\u001b[36m(_dystack pid=166)\u001b[0m \t0.8975\t = Validation score   (roc_auc)\n",
      "\u001b[36m(_dystack pid=166)\u001b[0m \t27.46s\t = Training   runtime\n",
      "\u001b[36m(_dystack pid=166)\u001b[0m \t0.11s\t = Validation runtime\n",
      "\u001b[36m(_dystack pid=166)\u001b[0m Fitting model: LightGBM_r161_BAG_L1 ... Training model for up to 4022.25s of the 7322.59s of remaining time.\n",
      "\u001b[36m(_dystack pid=166)\u001b[0m \tFitting 10 child models (S1F1 - S1F10) | Fitting with ParallelLocalFoldFittingStrategy (4 workers, per: cpus=1, gpus=0, memory=0.06%)\n"
     ]
    },
    {
     "name": "stdout",
     "output_type": "stream",
     "text": [
      "\u001b[33m(autoscaler +43m6s)\u001b[0m Warning: The following resource request cannot be scheduled right now: {'CPU': 1.0}. This is likely due to all cluster resources being claimed by actors. Consider creating fewer actors or adding more nodes to this Ray cluster.\n"
     ]
    },
    {
     "name": "stderr",
     "output_type": "stream",
     "text": [
      "\u001b[36m(_dystack pid=166)\u001b[0m \t0.8902\t = Validation score   (roc_auc)\n",
      "\u001b[36m(_dystack pid=166)\u001b[0m \t18.31s\t = Training   runtime\n",
      "\u001b[36m(_dystack pid=166)\u001b[0m \t0.1s\t = Validation runtime\n",
      "\u001b[36m(_dystack pid=166)\u001b[0m Fitting model: NeuralNetFastAI_r143_BAG_L1 ... Training model for up to 4000.67s of the 7301.01s of remaining time.\n",
      "\u001b[36m(_dystack pid=166)\u001b[0m \tFitting 10 child models (S1F1 - S1F10) | Fitting with ParallelLocalFoldFittingStrategy (4 workers, per: cpus=1, gpus=0, memory=0.01%)\n",
      "\u001b[36m(_dystack pid=166)\u001b[0m \t0.8924\t = Validation score   (roc_auc)\n",
      "\u001b[36m(_dystack pid=166)\u001b[0m \t24.09s\t = Training   runtime\n",
      "\u001b[36m(_dystack pid=166)\u001b[0m \t0.15s\t = Validation runtime\n",
      "\u001b[36m(_dystack pid=166)\u001b[0m Fitting model: CatBoost_r70_BAG_L1 ... Training model for up to 3973.55s of the 7273.89s of remaining time.\n",
      "\u001b[36m(_dystack pid=166)\u001b[0m \tFitting 10 child models (S1F1 - S1F10) | Fitting with ParallelLocalFoldFittingStrategy (4 workers, per: cpus=1, gpus=0, memory=0.02%)\n"
     ]
    },
    {
     "name": "stdout",
     "output_type": "stream",
     "text": [
      "\u001b[33m(autoscaler +43m51s)\u001b[0m Warning: The following resource request cannot be scheduled right now: {'CPU': 1.0}. This is likely due to all cluster resources being claimed by actors. Consider creating fewer actors or adding more nodes to this Ray cluster.\n"
     ]
    },
    {
     "name": "stderr",
     "output_type": "stream",
     "text": [
      "\u001b[36m(_dystack pid=166)\u001b[0m \t0.8953\t = Validation score   (roc_auc)\n",
      "\u001b[36m(_dystack pid=166)\u001b[0m \t20.87s\t = Training   runtime\n",
      "\u001b[36m(_dystack pid=166)\u001b[0m \t0.02s\t = Validation runtime\n",
      "\u001b[36m(_dystack pid=166)\u001b[0m Fitting model: NeuralNetFastAI_r156_BAG_L1 ... Training model for up to 3949.53s of the 7249.87s of remaining time.\n",
      "\u001b[36m(_dystack pid=166)\u001b[0m \tFitting 10 child models (S1F1 - S1F10) | Fitting with ParallelLocalFoldFittingStrategy (4 workers, per: cpus=1, gpus=0, memory=0.01%)\n"
     ]
    },
    {
     "name": "stdout",
     "output_type": "stream",
     "text": [
      "\u001b[33m(autoscaler +44m26s)\u001b[0m Warning: The following resource request cannot be scheduled right now: {'CPU': 1.0}. This is likely due to all cluster resources being claimed by actors. Consider creating fewer actors or adding more nodes to this Ray cluster.\n"
     ]
    },
    {
     "name": "stderr",
     "output_type": "stream",
     "text": [
      "\u001b[36m(_ray_fit pid=17239)\u001b[0m No improvement since epoch 3: early stopping\n",
      "\u001b[36m(_ray_fit pid=17240)\u001b[0m No improvement since epoch 16: early stopping\n",
      "\u001b[36m(_ray_fit pid=17237)\u001b[0m No improvement since epoch 23: early stopping\n",
      "\u001b[36m(_ray_fit pid=17420)\u001b[0m No improvement since epoch 3: early stopping\n"
     ]
    },
    {
     "name": "stdout",
     "output_type": "stream",
     "text": [
      "\u001b[33m(autoscaler +45m2s)\u001b[0m Warning: The following resource request cannot be scheduled right now: {'CPU': 1.0}. This is likely due to all cluster resources being claimed by actors. Consider creating fewer actors or adding more nodes to this Ray cluster.\n"
     ]
    },
    {
     "name": "stderr",
     "output_type": "stream",
     "text": [
      "\u001b[36m(_ray_fit pid=17453)\u001b[0m No improvement since epoch 3: early stopping\n",
      "\u001b[36m(_ray_fit pid=17499)\u001b[0m No improvement since epoch 8: early stopping\u001b[32m [repeated 2x across cluster]\u001b[0m\n",
      "\u001b[36m(_dystack pid=166)\u001b[0m \t0.8932\t = Validation score   (roc_auc)\n",
      "\u001b[36m(_dystack pid=166)\u001b[0m \t71.74s\t = Training   runtime\n",
      "\u001b[36m(_dystack pid=166)\u001b[0m \t0.3s\t = Validation runtime\n",
      "\u001b[36m(_dystack pid=166)\u001b[0m Fitting model: LightGBM_r196_BAG_L1 ... Training model for up to 3874.86s of the 7175.20s of remaining time.\n",
      "\u001b[36m(_dystack pid=166)\u001b[0m \tFitting 10 child models (S1F1 - S1F10) | Fitting with ParallelLocalFoldFittingStrategy (4 workers, per: cpus=1, gpus=0, memory=0.03%)\n",
      "\u001b[36m(_ray_fit pid=17608)\u001b[0m No improvement since epoch 4: early stopping\n"
     ]
    },
    {
     "name": "stdout",
     "output_type": "stream",
     "text": [
      "\u001b[36m(_ray_fit pid=17705)\u001b[0m [1000]\tvalid_set's binary_logloss: 0.331665\n",
      "\u001b[36m(_ray_fit pid=17707)\u001b[0m [1000]\tvalid_set's binary_logloss: 0.312991\n",
      "\u001b[33m(autoscaler +45m37s)\u001b[0m Warning: The following resource request cannot be scheduled right now: {'CPU': 1.0}. This is likely due to all cluster resources being claimed by actors. Consider creating fewer actors or adding more nodes to this Ray cluster.\n",
      "\u001b[36m(_ray_fit pid=17836)\u001b[0m [1000]\tvalid_set's binary_logloss: 0.349358\u001b[32m [repeated 6x across cluster]\u001b[0m\n",
      "\u001b[36m(_ray_fit pid=17966)\u001b[0m [1000]\tvalid_set's binary_logloss: 0.294934\u001b[32m [repeated 3x across cluster]\u001b[0m\n"
     ]
    },
    {
     "name": "stderr",
     "output_type": "stream",
     "text": [
      "\u001b[36m(_dystack pid=166)\u001b[0m \t0.897\t = Validation score   (roc_auc)\n",
      "\u001b[36m(_dystack pid=166)\u001b[0m \t19.4s\t = Training   runtime\n",
      "\u001b[36m(_dystack pid=166)\u001b[0m \t0.52s\t = Validation runtime\n",
      "\u001b[36m(_dystack pid=166)\u001b[0m Fitting model: RandomForest_r39_BAG_L1 ... Training model for up to 3852.10s of the 7152.44s of remaining time.\n",
      "\u001b[36m(_dystack pid=166)\u001b[0m \tForcing `use_child_oof=False` because `groups` is specified\n",
      "\u001b[36m(_dystack pid=166)\u001b[0m \tFitting 10 child models (S1F1 - S1F10) | Fitting with ParallelLocalFoldFittingStrategy (4 workers, per: cpus=1, gpus=0, memory=0.00%)\n",
      "\u001b[36m(_dystack pid=166)\u001b[0m \t0.8823\t = Validation score   (roc_auc)\n",
      "\u001b[36m(_dystack pid=166)\u001b[0m \t17.37s\t = Training   runtime\n",
      "\u001b[36m(_dystack pid=166)\u001b[0m \t1.03s\t = Validation runtime\n",
      "\u001b[36m(_dystack pid=166)\u001b[0m Fitting model: CatBoost_r167_BAG_L1 ... Training model for up to 3831.75s of the 7132.09s of remaining time.\n",
      "\u001b[36m(_dystack pid=166)\u001b[0m \tFitting 10 child models (S1F1 - S1F10) | Fitting with ParallelLocalFoldFittingStrategy (4 workers, per: cpus=1, gpus=0, memory=0.03%)\n"
     ]
    },
    {
     "name": "stdout",
     "output_type": "stream",
     "text": [
      "\u001b[33m(autoscaler +46m12s)\u001b[0m Warning: The following resource request cannot be scheduled right now: {'CPU': 1.0}. This is likely due to all cluster resources being claimed by actors. Consider creating fewer actors or adding more nodes to this Ray cluster.\n"
     ]
    },
    {
     "name": "stderr",
     "output_type": "stream",
     "text": [
      "\u001b[36m(_dystack pid=166)\u001b[0m \t0.8944\t = Validation score   (roc_auc)\n",
      "\u001b[36m(_dystack pid=166)\u001b[0m \t16.09s\t = Training   runtime\n",
      "\u001b[36m(_dystack pid=166)\u001b[0m \t0.02s\t = Validation runtime\n",
      "\u001b[36m(_dystack pid=166)\u001b[0m Fitting model: NeuralNetFastAI_r95_BAG_L1 ... Training model for up to 3812.78s of the 7113.12s of remaining time.\n",
      "\u001b[36m(_dystack pid=166)\u001b[0m \tFitting 10 child models (S1F1 - S1F10) | Fitting with ParallelLocalFoldFittingStrategy (4 workers, per: cpus=1, gpus=0, memory=0.01%)\n"
     ]
    },
    {
     "name": "stdout",
     "output_type": "stream",
     "text": [
      "\u001b[33m(autoscaler +46m47s)\u001b[0m Warning: The following resource request cannot be scheduled right now: {'CPU': 1.0}. This is likely due to all cluster resources being claimed by actors. Consider creating fewer actors or adding more nodes to this Ray cluster.\n"
     ]
    },
    {
     "name": "stderr",
     "output_type": "stream",
     "text": [
      "\u001b[36m(_ray_fit pid=19075)\u001b[0m No improvement since epoch 11: early stopping\n",
      "\u001b[36m(_ray_fit pid=19261)\u001b[0m No improvement since epoch 10: early stopping\u001b[32m [repeated 3x across cluster]\u001b[0m\n",
      "\u001b[36m(_dystack pid=166)\u001b[0m \t0.8911\t = Validation score   (roc_auc)\n",
      "\u001b[36m(_dystack pid=166)\u001b[0m \t38.22s\t = Training   runtime\n",
      "\u001b[36m(_dystack pid=166)\u001b[0m \t0.15s\t = Validation runtime\n",
      "\u001b[36m(_dystack pid=166)\u001b[0m Fitting model: NeuralNetTorch_r41_BAG_L1 ... Training model for up to 3771.75s of the 7072.09s of remaining time.\n",
      "\u001b[36m(_dystack pid=166)\u001b[0m \tFitting 10 child models (S1F1 - S1F10) | Fitting with ParallelLocalFoldFittingStrategy (4 workers, per: cpus=1, gpus=0, memory=0.00%)\n"
     ]
    },
    {
     "name": "stdout",
     "output_type": "stream",
     "text": [
      "\u001b[33m(autoscaler +47m22s)\u001b[0m Warning: The following resource request cannot be scheduled right now: {'CPU': 1.0}. This is likely due to all cluster resources being claimed by actors. Consider creating fewer actors or adding more nodes to this Ray cluster.\n"
     ]
    },
    {
     "name": "stderr",
     "output_type": "stream",
     "text": [
      "\u001b[36m(_dystack pid=166)\u001b[0m \t0.8947\t = Validation score   (roc_auc)\n",
      "\u001b[36m(_dystack pid=166)\u001b[0m \t39.14s\t = Training   runtime\n",
      "\u001b[36m(_dystack pid=166)\u001b[0m \t0.11s\t = Validation runtime\n",
      "\u001b[36m(_dystack pid=166)\u001b[0m Fitting model: XGBoost_r98_BAG_L1 ... Training model for up to 3729.48s of the 7029.82s of remaining time.\n",
      "\u001b[36m(_dystack pid=166)\u001b[0m \tFitting 10 child models (S1F1 - S1F10) | Fitting with ParallelLocalFoldFittingStrategy (4 workers, per: cpus=1, gpus=0, memory=0.06%)\n"
     ]
    },
    {
     "name": "stdout",
     "output_type": "stream",
     "text": [
      "\u001b[33m(autoscaler +47m57s)\u001b[0m Warning: The following resource request cannot be scheduled right now: {'CPU': 1.0}. This is likely due to all cluster resources being claimed by actors. Consider creating fewer actors or adding more nodes to this Ray cluster.\n"
     ]
    },
    {
     "name": "stderr",
     "output_type": "stream",
     "text": [
      "\u001b[36m(_dystack pid=166)\u001b[0m \t0.8912\t = Validation score   (roc_auc)\n",
      "\u001b[36m(_dystack pid=166)\u001b[0m \t13.36s\t = Training   runtime\n",
      "\u001b[36m(_dystack pid=166)\u001b[0m \t0.15s\t = Validation runtime\n",
      "\u001b[36m(_dystack pid=166)\u001b[0m Fitting model: LightGBM_r15_BAG_L1 ... Training model for up to 3712.69s of the 7013.03s of remaining time.\n",
      "\u001b[36m(_dystack pid=166)\u001b[0m \tFitting 10 child models (S1F1 - S1F10) | Fitting with ParallelLocalFoldFittingStrategy (4 workers, per: cpus=1, gpus=0, memory=0.01%)\n",
      "\u001b[36m(_dystack pid=166)\u001b[0m \t0.8932\t = Validation score   (roc_auc)\n",
      "\u001b[36m(_dystack pid=166)\u001b[0m \t12.84s\t = Training   runtime\n",
      "\u001b[36m(_dystack pid=166)\u001b[0m \t0.05s\t = Validation runtime\n",
      "\u001b[36m(_dystack pid=166)\u001b[0m Fitting model: NeuralNetTorch_r158_BAG_L1 ... Training model for up to 3696.94s of the 6997.28s of remaining time.\n",
      "\u001b[36m(_dystack pid=166)\u001b[0m \tFitting 10 child models (S1F1 - S1F10) | Fitting with ParallelLocalFoldFittingStrategy (4 workers, per: cpus=1, gpus=0, memory=0.00%)\n"
     ]
    },
    {
     "name": "stdout",
     "output_type": "stream",
     "text": [
      "\u001b[33m(autoscaler +48m32s)\u001b[0m Warning: The following resource request cannot be scheduled right now: {'CPU': 1.0}. This is likely due to all cluster resources being claimed by actors. Consider creating fewer actors or adding more nodes to this Ray cluster.\n"
     ]
    },
    {
     "name": "stderr",
     "output_type": "stream",
     "text": [
      "\u001b[36m(_dystack pid=166)\u001b[0m \t0.885\t = Validation score   (roc_auc)\n",
      "\u001b[36m(_dystack pid=166)\u001b[0m \t40.97s\t = Training   runtime\n",
      "\u001b[36m(_dystack pid=166)\u001b[0m \t0.11s\t = Validation runtime\n",
      "\u001b[36m(_dystack pid=166)\u001b[0m Fitting model: CatBoost_r86_BAG_L1 ... Training model for up to 3652.89s of the 6953.23s of remaining time.\n",
      "\u001b[36m(_dystack pid=166)\u001b[0m \tFitting 10 child models (S1F1 - S1F10) | Fitting with ParallelLocalFoldFittingStrategy (4 workers, per: cpus=1, gpus=0, memory=0.06%)\n"
     ]
    },
    {
     "name": "stdout",
     "output_type": "stream",
     "text": [
      "\u001b[33m(autoscaler +49m12s)\u001b[0m Warning: The following resource request cannot be scheduled right now: {'CPU': 1.0}. This is likely due to all cluster resources being claimed by actors. Consider creating fewer actors or adding more nodes to this Ray cluster.\n"
     ]
    },
    {
     "name": "stderr",
     "output_type": "stream",
     "text": [
      "\u001b[36m(_dystack pid=166)\u001b[0m \t0.8936\t = Validation score   (roc_auc)\n",
      "\u001b[36m(_dystack pid=166)\u001b[0m \t21.31s\t = Training   runtime\n",
      "\u001b[36m(_dystack pid=166)\u001b[0m \t0.02s\t = Validation runtime\n",
      "\u001b[36m(_dystack pid=166)\u001b[0m Fitting model: NeuralNetFastAI_r37_BAG_L1 ... Training model for up to 3628.64s of the 6928.98s of remaining time.\n",
      "\u001b[36m(_dystack pid=166)\u001b[0m \tFitting 10 child models (S1F1 - S1F10) | Fitting with ParallelLocalFoldFittingStrategy (4 workers, per: cpus=1, gpus=0, memory=0.01%)\n"
     ]
    },
    {
     "name": "stdout",
     "output_type": "stream",
     "text": [
      "\u001b[33m(autoscaler +49m47s)\u001b[0m Warning: The following resource request cannot be scheduled right now: {'CPU': 1.0}. This is likely due to all cluster resources being claimed by actors. Consider creating fewer actors or adding more nodes to this Ray cluster.\n"
     ]
    },
    {
     "name": "stderr",
     "output_type": "stream",
     "text": [
      "\u001b[36m(_ray_fit pid=21524)\u001b[0m No improvement since epoch 20: early stopping\n",
      "\u001b[36m(_dystack pid=166)\u001b[0m \t0.8934\t = Validation score   (roc_auc)\n",
      "\u001b[36m(_dystack pid=166)\u001b[0m \t28.3s\t = Training   runtime\n",
      "\u001b[36m(_dystack pid=166)\u001b[0m \t0.2s\t = Validation runtime\n",
      "\u001b[36m(_dystack pid=166)\u001b[0m Fitting model: NeuralNetTorch_r197_BAG_L1 ... Training model for up to 3597.27s of the 6897.61s of remaining time.\n",
      "\u001b[36m(_dystack pid=166)\u001b[0m \tFitting 10 child models (S1F1 - S1F10) | Fitting with ParallelLocalFoldFittingStrategy (4 workers, per: cpus=1, gpus=0, memory=0.00%)\n"
     ]
    },
    {
     "name": "stdout",
     "output_type": "stream",
     "text": [
      "\u001b[33m(autoscaler +50m22s)\u001b[0m Warning: The following resource request cannot be scheduled right now: {'CPU': 1.0}. This is likely due to all cluster resources being claimed by actors. Consider creating fewer actors or adding more nodes to this Ray cluster.\n"
     ]
    },
    {
     "name": "stderr",
     "output_type": "stream",
     "text": [
      "\u001b[36m(_dystack pid=166)\u001b[0m \t0.8978\t = Validation score   (roc_auc)\n",
      "\u001b[36m(_dystack pid=166)\u001b[0m \t25.1s\t = Training   runtime\n",
      "\u001b[36m(_dystack pid=166)\u001b[0m \t0.1s\t = Validation runtime\n",
      "\u001b[36m(_dystack pid=166)\u001b[0m Fitting model: CatBoost_r49_BAG_L1 ... Training model for up to 3568.39s of the 6868.73s of remaining time.\n",
      "\u001b[36m(_dystack pid=166)\u001b[0m \tFitting 10 child models (S1F1 - S1F10) | Fitting with ParallelLocalFoldFittingStrategy (4 workers, per: cpus=1, gpus=0, memory=0.01%)\n",
      "\u001b[36m(_dystack pid=166)\u001b[0m \t0.8963\t = Validation score   (roc_auc)\n",
      "\u001b[36m(_dystack pid=166)\u001b[0m \t12.84s\t = Training   runtime\n",
      "\u001b[36m(_dystack pid=166)\u001b[0m \t0.03s\t = Validation runtime\n",
      "\u001b[36m(_dystack pid=166)\u001b[0m Fitting model: ExtraTrees_r49_BAG_L1 ... Training model for up to 3552.56s of the 6852.90s of remaining time.\n",
      "\u001b[36m(_dystack pid=166)\u001b[0m \tForcing `use_child_oof=False` because `groups` is specified\n",
      "\u001b[36m(_dystack pid=166)\u001b[0m \tFitting 10 child models (S1F1 - S1F10) | Fitting with ParallelLocalFoldFittingStrategy (4 workers, per: cpus=1, gpus=0, memory=0.00%)\n"
     ]
    },
    {
     "name": "stdout",
     "output_type": "stream",
     "text": [
      "\u001b[33m(autoscaler +50m57s)\u001b[0m Warning: The following resource request cannot be scheduled right now: {'CPU': 1.0}. This is likely due to all cluster resources being claimed by actors. Consider creating fewer actors or adding more nodes to this Ray cluster.\n"
     ]
    },
    {
     "name": "stderr",
     "output_type": "stream",
     "text": [
      "\u001b[36m(_dystack pid=166)\u001b[0m \t0.886\t = Validation score   (roc_auc)\n",
      "\u001b[36m(_dystack pid=166)\u001b[0m \t12.74s\t = Training   runtime\n",
      "\u001b[36m(_dystack pid=166)\u001b[0m \t0.86s\t = Validation runtime\n",
      "\u001b[36m(_dystack pid=166)\u001b[0m Fitting model: LightGBM_r143_BAG_L1 ... Training model for up to 3536.94s of the 6837.28s of remaining time.\n",
      "\u001b[36m(_dystack pid=166)\u001b[0m \tFitting 10 child models (S1F1 - S1F10) | Fitting with ParallelLocalFoldFittingStrategy (4 workers, per: cpus=1, gpus=0, memory=0.04%)\n",
      "\u001b[36m(_dystack pid=166)\u001b[0m \t0.8851\t = Validation score   (roc_auc)\n",
      "\u001b[36m(_dystack pid=166)\u001b[0m \t15.59s\t = Training   runtime\n",
      "\u001b[36m(_dystack pid=166)\u001b[0m \t0.07s\t = Validation runtime\n",
      "\u001b[36m(_dystack pid=166)\u001b[0m Fitting model: RandomForest_r127_BAG_L1 ... Training model for up to 3518.42s of the 6818.76s of remaining time.\n",
      "\u001b[36m(_dystack pid=166)\u001b[0m \tForcing `use_child_oof=False` because `groups` is specified\n",
      "\u001b[36m(_dystack pid=166)\u001b[0m \tFitting 10 child models (S1F1 - S1F10) | Fitting with ParallelLocalFoldFittingStrategy (4 workers, per: cpus=1, gpus=0, memory=0.00%)\n"
     ]
    },
    {
     "name": "stdout",
     "output_type": "stream",
     "text": [
      "\u001b[33m(autoscaler +51m33s)\u001b[0m Warning: The following resource request cannot be scheduled right now: {'CPU': 1.0}. This is likely due to all cluster resources being claimed by actors. Consider creating fewer actors or adding more nodes to this Ray cluster.\n"
     ]
    },
    {
     "name": "stderr",
     "output_type": "stream",
     "text": [
      "\u001b[36m(_dystack pid=166)\u001b[0m \t0.8878\t = Validation score   (roc_auc)\n",
      "\u001b[36m(_dystack pid=166)\u001b[0m \t19.58s\t = Training   runtime\n",
      "\u001b[36m(_dystack pid=166)\u001b[0m \t0.95s\t = Validation runtime\n",
      "\u001b[36m(_dystack pid=166)\u001b[0m Fitting model: NeuralNetFastAI_r134_BAG_L1 ... Training model for up to 3495.80s of the 6796.14s of remaining time.\n",
      "\u001b[36m(_dystack pid=166)\u001b[0m \tFitting 10 child models (S1F1 - S1F10) | Fitting with ParallelLocalFoldFittingStrategy (4 workers, per: cpus=1, gpus=0, memory=0.01%)\n"
     ]
    },
    {
     "name": "stdout",
     "output_type": "stream",
     "text": [
      "\u001b[33m(autoscaler +52m8s)\u001b[0m Warning: The following resource request cannot be scheduled right now: {'CPU': 1.0}. This is likely due to all cluster resources being claimed by actors. Consider creating fewer actors or adding more nodes to this Ray cluster.\n"
     ]
    },
    {
     "name": "stderr",
     "output_type": "stream",
     "text": [
      "\u001b[36m(_ray_fit pid=23649)\u001b[0m No improvement since epoch 16: early stopping\n",
      "\u001b[36m(_ray_fit pid=23648)\u001b[0m No improvement since epoch 23: early stopping\u001b[32m [repeated 2x across cluster]\u001b[0m\n"
     ]
    },
    {
     "name": "stdout",
     "output_type": "stream",
     "text": [
      "\u001b[33m(autoscaler +52m43s)\u001b[0m Warning: The following resource request cannot be scheduled right now: {'CPU': 1.0}. This is likely due to all cluster resources being claimed by actors. Consider creating fewer actors or adding more nodes to this Ray cluster.\n"
     ]
    },
    {
     "name": "stderr",
     "output_type": "stream",
     "text": [
      "\u001b[36m(_ray_fit pid=23897)\u001b[0m No improvement since epoch 13: early stopping\n"
     ]
    },
    {
     "name": "stdout",
     "output_type": "stream",
     "text": [
      "\u001b[33m(autoscaler +53m18s)\u001b[0m Warning: The following resource request cannot be scheduled right now: {'CPU': 1.0}. This is likely due to all cluster resources being claimed by actors. Consider creating fewer actors or adding more nodes to this Ray cluster.\n"
     ]
    },
    {
     "name": "stderr",
     "output_type": "stream",
     "text": [
      "\u001b[36m(_ray_fit pid=23833)\u001b[0m No improvement since epoch 25: early stopping\n",
      "\u001b[36m(_ray_fit pid=23940)\u001b[0m No improvement since epoch 22: early stopping\n",
      "\u001b[36m(_ray_fit pid=24051)\u001b[0m No improvement since epoch 25: early stopping\n",
      "\u001b[36m(_dystack pid=166)\u001b[0m \t0.8951\t = Validation score   (roc_auc)\n",
      "\u001b[36m(_dystack pid=166)\u001b[0m \t127.72s\t = Training   runtime\n",
      "\u001b[36m(_dystack pid=166)\u001b[0m \t0.34s\t = Validation runtime\n",
      "\u001b[36m(_dystack pid=166)\u001b[0m Fitting model: RandomForest_r34_BAG_L1 ... Training model for up to 3365.21s of the 6665.55s of remaining time.\n",
      "\u001b[36m(_dystack pid=166)\u001b[0m \tForcing `use_child_oof=False` because `groups` is specified\n",
      "\u001b[36m(_dystack pid=166)\u001b[0m \tFitting 10 child models (S1F1 - S1F10) | Fitting with ParallelLocalFoldFittingStrategy (4 workers, per: cpus=1, gpus=0, memory=0.00%)\n"
     ]
    },
    {
     "name": "stdout",
     "output_type": "stream",
     "text": [
      "\u001b[33m(autoscaler +53m58s)\u001b[0m Warning: The following resource request cannot be scheduled right now: {'CPU': 1.0}. This is likely due to all cluster resources being claimed by actors. Consider creating fewer actors or adding more nodes to this Ray cluster.\n"
     ]
    },
    {
     "name": "stderr",
     "output_type": "stream",
     "text": [
      "\u001b[36m(_dystack pid=166)\u001b[0m \t0.8925\t = Validation score   (roc_auc)\n",
      "\u001b[36m(_dystack pid=166)\u001b[0m \t13.17s\t = Training   runtime\n",
      "\u001b[36m(_dystack pid=166)\u001b[0m \t0.89s\t = Validation runtime\n",
      "\u001b[36m(_dystack pid=166)\u001b[0m Fitting model: LightGBM_r94_BAG_L1 ... Training model for up to 3348.93s of the 6649.27s of remaining time.\n",
      "\u001b[36m(_dystack pid=166)\u001b[0m \tFitting 10 child models (S1F1 - S1F10) | Fitting with ParallelLocalFoldFittingStrategy (4 workers, per: cpus=1, gpus=0, memory=0.01%)\n"
     ]
    },
    {
     "name": "stdout",
     "output_type": "stream",
     "text": [
      "\u001b[36m(_ray_fit pid=24584)\u001b[0m [1000]\tvalid_set's binary_logloss: 0.294527\u001b[32m [repeated 5x across cluster]\u001b[0m\n"
     ]
    },
    {
     "name": "stderr",
     "output_type": "stream",
     "text": [
      "\u001b[36m(_dystack pid=166)\u001b[0m \t0.8978\t = Validation score   (roc_auc)\n",
      "\u001b[36m(_dystack pid=166)\u001b[0m \t13.47s\t = Training   runtime\n",
      "\u001b[36m(_dystack pid=166)\u001b[0m \t0.09s\t = Validation runtime\n",
      "\u001b[36m(_dystack pid=166)\u001b[0m Fitting model: NeuralNetTorch_r143_BAG_L1 ... Training model for up to 3332.43s of the 6632.77s of remaining time.\n",
      "\u001b[36m(_dystack pid=166)\u001b[0m \tFitting 10 child models (S1F1 - S1F10) | Fitting with ParallelLocalFoldFittingStrategy (4 workers, per: cpus=1, gpus=0, memory=0.00%)\n"
     ]
    },
    {
     "name": "stdout",
     "output_type": "stream",
     "text": [
      "\u001b[33m(autoscaler +54m33s)\u001b[0m Warning: The following resource request cannot be scheduled right now: {'CPU': 1.0}. This is likely due to all cluster resources being claimed by actors. Consider creating fewer actors or adding more nodes to this Ray cluster.\n"
     ]
    },
    {
     "name": "stderr",
     "output_type": "stream",
     "text": [
      "\u001b[36m(_dystack pid=166)\u001b[0m \t0.8929\t = Validation score   (roc_auc)\n",
      "\u001b[36m(_dystack pid=166)\u001b[0m \t44.88s\t = Training   runtime\n",
      "\u001b[36m(_dystack pid=166)\u001b[0m \t0.12s\t = Validation runtime\n",
      "\u001b[36m(_dystack pid=166)\u001b[0m Fitting model: CatBoost_r128_BAG_L1 ... Training model for up to 3284.47s of the 6584.81s of remaining time.\n",
      "\u001b[36m(_dystack pid=166)\u001b[0m \tFitting 10 child models (S1F1 - S1F10) | Fitting with ParallelLocalFoldFittingStrategy (4 workers, per: cpus=1, gpus=0, memory=0.06%)\n"
     ]
    },
    {
     "name": "stdout",
     "output_type": "stream",
     "text": [
      "\u001b[33m(autoscaler +55m18s)\u001b[0m Warning: The following resource request cannot be scheduled right now: {'CPU': 1.0}. This is likely due to all cluster resources being claimed by actors. Consider creating fewer actors or adding more nodes to this Ray cluster.\n"
     ]
    },
    {
     "name": "stderr",
     "output_type": "stream",
     "text": [
      "\u001b[36m(_dystack pid=166)\u001b[0m \t0.8928\t = Validation score   (roc_auc)\n",
      "\u001b[36m(_dystack pid=166)\u001b[0m \t33.93s\t = Training   runtime\n",
      "\u001b[36m(_dystack pid=166)\u001b[0m \t0.03s\t = Validation runtime\n",
      "\u001b[36m(_dystack pid=166)\u001b[0m Fitting model: NeuralNetFastAI_r111_BAG_L1 ... Training model for up to 3247.32s of the 6547.66s of remaining time.\n",
      "\u001b[36m(_dystack pid=166)\u001b[0m \tFitting 10 child models (S1F1 - S1F10) | Fitting with ParallelLocalFoldFittingStrategy (4 workers, per: cpus=1, gpus=0, memory=0.01%)\n"
     ]
    },
    {
     "name": "stdout",
     "output_type": "stream",
     "text": [
      "\u001b[33m(autoscaler +55m58s)\u001b[0m Warning: The following resource request cannot be scheduled right now: {'CPU': 1.0}. This is likely due to all cluster resources being claimed by actors. Consider creating fewer actors or adding more nodes to this Ray cluster.\n",
      "\u001b[33m(autoscaler +56m33s)\u001b[0m Warning: The following resource request cannot be scheduled right now: {'CPU': 1.0}. This is likely due to all cluster resources being claimed by actors. Consider creating fewer actors or adding more nodes to this Ray cluster.\n"
     ]
    },
    {
     "name": "stderr",
     "output_type": "stream",
     "text": [
      "\u001b[36m(_dystack pid=166)\u001b[0m \t0.8957\t = Validation score   (roc_auc)\n",
      "\u001b[36m(_dystack pid=166)\u001b[0m \t58.43s\t = Training   runtime\n",
      "\u001b[36m(_dystack pid=166)\u001b[0m \t0.36s\t = Validation runtime\n",
      "\u001b[36m(_dystack pid=166)\u001b[0m Fitting model: NeuralNetTorch_r31_BAG_L1 ... Training model for up to 3186.04s of the 6486.38s of remaining time.\n",
      "\u001b[36m(_dystack pid=166)\u001b[0m \tFitting 10 child models (S1F1 - S1F10) | Fitting with ParallelLocalFoldFittingStrategy (4 workers, per: cpus=1, gpus=0, memory=0.00%)\n"
     ]
    },
    {
     "name": "stdout",
     "output_type": "stream",
     "text": [
      "\u001b[33m(autoscaler +57m8s)\u001b[0m Warning: The following resource request cannot be scheduled right now: {'CPU': 1.0}. This is likely due to all cluster resources being claimed by actors. Consider creating fewer actors or adding more nodes to this Ray cluster.\n"
     ]
    },
    {
     "name": "stderr",
     "output_type": "stream",
     "text": [
      "\u001b[36m(_dystack pid=166)\u001b[0m \t0.895\t = Validation score   (roc_auc)\n",
      "\u001b[36m(_dystack pid=166)\u001b[0m \t30.81s\t = Training   runtime\n",
      "\u001b[36m(_dystack pid=166)\u001b[0m \t0.11s\t = Validation runtime\n",
      "\u001b[36m(_dystack pid=166)\u001b[0m Fitting model: ExtraTrees_r4_BAG_L1 ... Training model for up to 3152.18s of the 6452.52s of remaining time.\n",
      "\u001b[36m(_dystack pid=166)\u001b[0m \tForcing `use_child_oof=False` because `groups` is specified\n",
      "\u001b[36m(_dystack pid=166)\u001b[0m \tFitting 10 child models (S1F1 - S1F10) | Fitting with ParallelLocalFoldFittingStrategy (4 workers, per: cpus=1, gpus=0, memory=0.00%)\n",
      "\u001b[36m(_dystack pid=166)\u001b[0m \t0.8926\t = Validation score   (roc_auc)\n",
      "\u001b[36m(_dystack pid=166)\u001b[0m \t12.48s\t = Training   runtime\n",
      "\u001b[36m(_dystack pid=166)\u001b[0m \t1.07s\t = Validation runtime\n",
      "\u001b[36m(_dystack pid=166)\u001b[0m Fitting model: NeuralNetFastAI_r65_BAG_L1 ... Training model for up to 3136.61s of the 6436.95s of remaining time.\n",
      "\u001b[36m(_dystack pid=166)\u001b[0m \tFitting 10 child models (S1F1 - S1F10) | Fitting with ParallelLocalFoldFittingStrategy (4 workers, per: cpus=1, gpus=0, memory=0.01%)\n"
     ]
    },
    {
     "name": "stdout",
     "output_type": "stream",
     "text": [
      "\u001b[33m(autoscaler +57m48s)\u001b[0m Warning: The following resource request cannot be scheduled right now: {'CPU': 1.0}. This is likely due to all cluster resources being claimed by actors. Consider creating fewer actors or adding more nodes to this Ray cluster.\n"
     ]
    },
    {
     "name": "stderr",
     "output_type": "stream",
     "text": [
      "\u001b[36m(_dystack pid=166)\u001b[0m \t0.8895\t = Validation score   (roc_auc)\n",
      "\u001b[36m(_dystack pid=166)\u001b[0m \t23.33s\t = Training   runtime\n",
      "\u001b[36m(_dystack pid=166)\u001b[0m \t0.15s\t = Validation runtime\n",
      "\u001b[36m(_dystack pid=166)\u001b[0m Fitting model: NeuralNetFastAI_r88_BAG_L1 ... Training model for up to 3110.51s of the 6410.85s of remaining time.\n",
      "\u001b[36m(_dystack pid=166)\u001b[0m \tFitting 10 child models (S1F1 - S1F10) | Fitting with ParallelLocalFoldFittingStrategy (4 workers, per: cpus=1, gpus=0, memory=0.01%)\n",
      "\u001b[36m(_ray_fit pid=27436)\u001b[0m No improvement since epoch 4: early stopping\n"
     ]
    },
    {
     "name": "stdout",
     "output_type": "stream",
     "text": [
      "\u001b[33m(autoscaler +58m24s)\u001b[0m Warning: The following resource request cannot be scheduled right now: {'CPU': 1.0}. This is likely due to all cluster resources being claimed by actors. Consider creating fewer actors or adding more nodes to this Ray cluster.\n"
     ]
    },
    {
     "name": "stderr",
     "output_type": "stream",
     "text": [
      "\u001b[36m(_ray_fit pid=27621)\u001b[0m No improvement since epoch 4: early stopping\u001b[32m [repeated 4x across cluster]\u001b[0m\n",
      "\u001b[36m(_dystack pid=166)\u001b[0m \t0.8739\t = Validation score   (roc_auc)\n",
      "\u001b[36m(_dystack pid=166)\u001b[0m \t22.65s\t = Training   runtime\n",
      "\u001b[36m(_dystack pid=166)\u001b[0m \t0.2s\t = Validation runtime\n",
      "\u001b[36m(_dystack pid=166)\u001b[0m Fitting model: LightGBM_r30_BAG_L1 ... Training model for up to 3084.12s of the 6384.46s of remaining time.\n",
      "\u001b[36m(_dystack pid=166)\u001b[0m \tFitting 10 child models (S1F1 - S1F10) | Fitting with ParallelLocalFoldFittingStrategy (4 workers, per: cpus=1, gpus=0, memory=0.03%)\n",
      "\u001b[36m(_ray_fit pid=27619)\u001b[0m No improvement since epoch 5: early stopping\u001b[32m [repeated 3x across cluster]\u001b[0m\n"
     ]
    },
    {
     "name": "stdout",
     "output_type": "stream",
     "text": [
      "\u001b[36m(_ray_fit pid=27905)\u001b[0m [1000]\tvalid_set's binary_logloss: 0.296375\n",
      "\u001b[36m(_ray_fit pid=27904)\u001b[0m [1000]\tvalid_set's binary_logloss: 0.304081\n",
      "\u001b[36m(_ray_fit pid=28170)\u001b[0m [1000]\tvalid_set's binary_logloss: 0.317417\n"
     ]
    },
    {
     "name": "stderr",
     "output_type": "stream",
     "text": [
      "\u001b[36m(_dystack pid=166)\u001b[0m \t0.8967\t = Validation score   (roc_auc)\n",
      "\u001b[36m(_dystack pid=166)\u001b[0m \t15.31s\t = Training   runtime\n",
      "\u001b[36m(_dystack pid=166)\u001b[0m \t0.16s\t = Validation runtime\n",
      "\u001b[36m(_dystack pid=166)\u001b[0m Fitting model: XGBoost_r49_BAG_L1 ... Training model for up to 3065.60s of the 6365.94s of remaining time.\n",
      "\u001b[36m(_dystack pid=166)\u001b[0m \tFitting 10 child models (S1F1 - S1F10) | Fitting with ParallelLocalFoldFittingStrategy (4 workers, per: cpus=1, gpus=0, memory=0.03%)\n"
     ]
    },
    {
     "name": "stdout",
     "output_type": "stream",
     "text": [
      "\u001b[33m(autoscaler +58m59s)\u001b[0m Warning: The following resource request cannot be scheduled right now: {'CPU': 1.0}. This is likely due to all cluster resources being claimed by actors. Consider creating fewer actors or adding more nodes to this Ray cluster.\n"
     ]
    },
    {
     "name": "stderr",
     "output_type": "stream",
     "text": [
      "\u001b[36m(_dystack pid=166)\u001b[0m \t0.8913\t = Validation score   (roc_auc)\n",
      "\u001b[36m(_dystack pid=166)\u001b[0m \t9.64s\t = Training   runtime\n",
      "\u001b[36m(_dystack pid=166)\u001b[0m \t0.1s\t = Validation runtime\n",
      "\u001b[36m(_dystack pid=166)\u001b[0m Fitting model: CatBoost_r5_BAG_L1 ... Training model for up to 3053.14s of the 6353.48s of remaining time.\n",
      "\u001b[36m(_dystack pid=166)\u001b[0m \tFitting 10 child models (S1F1 - S1F10) | Fitting with ParallelLocalFoldFittingStrategy (4 workers, per: cpus=1, gpus=0, memory=0.01%)\n",
      "\u001b[36m(_dystack pid=166)\u001b[0m \t0.8973\t = Validation score   (roc_auc)\n",
      "\u001b[36m(_dystack pid=166)\u001b[0m \t12.68s\t = Training   runtime\n",
      "\u001b[36m(_dystack pid=166)\u001b[0m \t0.02s\t = Validation runtime\n",
      "\u001b[36m(_dystack pid=166)\u001b[0m Fitting model: NeuralNetTorch_r87_BAG_L1 ... Training model for up to 3037.69s of the 6338.03s of remaining time.\n",
      "\u001b[36m(_dystack pid=166)\u001b[0m \tFitting 10 child models (S1F1 - S1F10) | Fitting with ParallelLocalFoldFittingStrategy (4 workers, per: cpus=1, gpus=0, memory=0.00%)\n"
     ]
    },
    {
     "name": "stdout",
     "output_type": "stream",
     "text": [
      "\u001b[33m(autoscaler +59m34s)\u001b[0m Warning: The following resource request cannot be scheduled right now: {'CPU': 1.0}. This is likely due to all cluster resources being claimed by actors. Consider creating fewer actors or adding more nodes to this Ray cluster.\n"
     ]
    },
    {
     "name": "stderr",
     "output_type": "stream",
     "text": [
      "\u001b[36m(_dystack pid=166)\u001b[0m \t0.8969\t = Validation score   (roc_auc)\n",
      "\u001b[36m(_dystack pid=166)\u001b[0m \t39.94s\t = Training   runtime\n",
      "\u001b[36m(_dystack pid=166)\u001b[0m \t0.11s\t = Validation runtime\n",
      "\u001b[36m(_dystack pid=166)\u001b[0m Fitting model: NeuralNetTorch_r71_BAG_L1 ... Training model for up to 2994.95s of the 6295.29s of remaining time.\n",
      "\u001b[36m(_dystack pid=166)\u001b[0m \tFitting 10 child models (S1F1 - S1F10) | Fitting with ParallelLocalFoldFittingStrategy (4 workers, per: cpus=1, gpus=0, memory=0.00%)\n"
     ]
    },
    {
     "name": "stdout",
     "output_type": "stream",
     "text": [
      "\u001b[33m(autoscaler +1h9s)\u001b[0m Warning: The following resource request cannot be scheduled right now: {'CPU': 1.0}. This is likely due to all cluster resources being claimed by actors. Consider creating fewer actors or adding more nodes to this Ray cluster.\n"
     ]
    },
    {
     "name": "stderr",
     "output_type": "stream",
     "text": [
      "\u001b[36m(_dystack pid=166)\u001b[0m \t0.8967\t = Validation score   (roc_auc)\n",
      "\u001b[36m(_dystack pid=166)\u001b[0m \t23.98s\t = Training   runtime\n",
      "\u001b[36m(_dystack pid=166)\u001b[0m \t0.1s\t = Validation runtime\n",
      "\u001b[36m(_dystack pid=166)\u001b[0m Fitting model: CatBoost_r143_BAG_L1 ... Training model for up to 2967.88s of the 6268.22s of remaining time.\n",
      "\u001b[36m(_dystack pid=166)\u001b[0m \tFitting 10 child models (S1F1 - S1F10) | Fitting with ParallelLocalFoldFittingStrategy (4 workers, per: cpus=1, gpus=0, memory=0.03%)\n"
     ]
    },
    {
     "name": "stdout",
     "output_type": "stream",
     "text": [
      "\u001b[33m(autoscaler +1h44s)\u001b[0m Warning: The following resource request cannot be scheduled right now: {'CPU': 1.0}. This is likely due to all cluster resources being claimed by actors. Consider creating fewer actors or adding more nodes to this Ray cluster.\n"
     ]
    },
    {
     "name": "stderr",
     "output_type": "stream",
     "text": [
      "\u001b[36m(_dystack pid=166)\u001b[0m \t0.8955\t = Validation score   (roc_auc)\n",
      "\u001b[36m(_dystack pid=166)\u001b[0m \t15.12s\t = Training   runtime\n",
      "\u001b[36m(_dystack pid=166)\u001b[0m \t0.02s\t = Validation runtime\n",
      "\u001b[36m(_dystack pid=166)\u001b[0m Fitting model: ExtraTrees_r178_BAG_L1 ... Training model for up to 2949.66s of the 6250.00s of remaining time.\n",
      "\u001b[36m(_dystack pid=166)\u001b[0m \tForcing `use_child_oof=False` because `groups` is specified\n",
      "\u001b[36m(_dystack pid=166)\u001b[0m \tFitting 10 child models (S1F1 - S1F10) | Fitting with ParallelLocalFoldFittingStrategy (4 workers, per: cpus=1, gpus=0, memory=0.00%)\n",
      "\u001b[36m(_dystack pid=166)\u001b[0m \t0.8912\t = Validation score   (roc_auc)\n",
      "\u001b[36m(_dystack pid=166)\u001b[0m \t13.85s\t = Training   runtime\n",
      "\u001b[36m(_dystack pid=166)\u001b[0m \t0.97s\t = Validation runtime\n",
      "\u001b[36m(_dystack pid=166)\u001b[0m Fitting model: RandomForest_r166_BAG_L1 ... Training model for up to 2932.43s of the 6232.77s of remaining time.\n",
      "\u001b[36m(_dystack pid=166)\u001b[0m \tForcing `use_child_oof=False` because `groups` is specified\n",
      "\u001b[36m(_dystack pid=166)\u001b[0m \tFitting 10 child models (S1F1 - S1F10) | Fitting with ParallelLocalFoldFittingStrategy (4 workers, per: cpus=1, gpus=0, memory=0.00%)\n"
     ]
    },
    {
     "name": "stdout",
     "output_type": "stream",
     "text": [
      "\u001b[33m(autoscaler +1h1m19s)\u001b[0m Warning: The following resource request cannot be scheduled right now: {'CPU': 1.0}. This is likely due to all cluster resources being claimed by actors. Consider creating fewer actors or adding more nodes to this Ray cluster.\n"
     ]
    },
    {
     "name": "stderr",
     "output_type": "stream",
     "text": [
      "\u001b[36m(_dystack pid=166)\u001b[0m \t0.8824\t = Validation score   (roc_auc)\n",
      "\u001b[36m(_dystack pid=166)\u001b[0m \t18.2s\t = Training   runtime\n",
      "\u001b[36m(_dystack pid=166)\u001b[0m \t0.92s\t = Validation runtime\n",
      "\u001b[36m(_dystack pid=166)\u001b[0m Fitting model: XGBoost_r31_BAG_L1 ... Training model for up to 2911.33s of the 6211.67s of remaining time.\n",
      "\u001b[36m(_dystack pid=166)\u001b[0m \tFitting 10 child models (S1F1 - S1F10) | Fitting with ParallelLocalFoldFittingStrategy (4 workers, per: cpus=1, gpus=0, memory=0.02%)\n",
      "\u001b[36m(_dystack pid=166)\u001b[0m \t0.8973\t = Validation score   (roc_auc)\n",
      "\u001b[36m(_dystack pid=166)\u001b[0m \t10.13s\t = Training   runtime\n",
      "\u001b[36m(_dystack pid=166)\u001b[0m \t0.12s\t = Validation runtime\n",
      "\u001b[36m(_dystack pid=166)\u001b[0m Fitting model: NeuralNetTorch_r185_BAG_L1 ... Training model for up to 2898.33s of the 6198.67s of remaining time.\n",
      "\u001b[36m(_dystack pid=166)\u001b[0m \tFitting 10 child models (S1F1 - S1F10) | Fitting with ParallelLocalFoldFittingStrategy (4 workers, per: cpus=1, gpus=0, memory=0.00%)\n"
     ]
    },
    {
     "name": "stdout",
     "output_type": "stream",
     "text": [
      "\u001b[33m(autoscaler +1h1m54s)\u001b[0m Warning: The following resource request cannot be scheduled right now: {'CPU': 1.0}. This is likely due to all cluster resources being claimed by actors. Consider creating fewer actors or adding more nodes to this Ray cluster.\n"
     ]
    },
    {
     "name": "stderr",
     "output_type": "stream",
     "text": [
      "\u001b[36m(_dystack pid=166)\u001b[0m \t0.8924\t = Validation score   (roc_auc)\n",
      "\u001b[36m(_dystack pid=166)\u001b[0m \t33.98s\t = Training   runtime\n",
      "\u001b[36m(_dystack pid=166)\u001b[0m \t0.15s\t = Validation runtime\n",
      "\u001b[36m(_dystack pid=166)\u001b[0m Fitting model: NeuralNetFastAI_r160_BAG_L1 ... Training model for up to 2861.51s of the 6161.85s of remaining time.\n",
      "\u001b[36m(_dystack pid=166)\u001b[0m \tFitting 10 child models (S1F1 - S1F10) | Fitting with ParallelLocalFoldFittingStrategy (4 workers, per: cpus=1, gpus=0, memory=0.01%)\n"
     ]
    },
    {
     "name": "stdout",
     "output_type": "stream",
     "text": [
      "\u001b[33m(autoscaler +1h2m29s)\u001b[0m Warning: The following resource request cannot be scheduled right now: {'CPU': 1.0}. This is likely due to all cluster resources being claimed by actors. Consider creating fewer actors or adding more nodes to this Ray cluster.\n"
     ]
    },
    {
     "name": "stderr",
     "output_type": "stream",
     "text": [
      "\u001b[36m(_dystack pid=166)\u001b[0m \t0.897\t = Validation score   (roc_auc)\n",
      "\u001b[36m(_dystack pid=166)\u001b[0m \t31.77s\t = Training   runtime\n",
      "\u001b[36m(_dystack pid=166)\u001b[0m \t0.16s\t = Validation runtime\n",
      "\u001b[36m(_dystack pid=166)\u001b[0m Fitting model: CatBoost_r60_BAG_L1 ... Training model for up to 2826.59s of the 6126.93s of remaining time.\n",
      "\u001b[36m(_dystack pid=166)\u001b[0m \tFitting 10 child models (S1F1 - S1F10) | Fitting with ParallelLocalFoldFittingStrategy (4 workers, per: cpus=1, gpus=0, memory=0.01%)\n"
     ]
    },
    {
     "name": "stdout",
     "output_type": "stream",
     "text": [
      "\u001b[33m(autoscaler +1h3m4s)\u001b[0m Warning: The following resource request cannot be scheduled right now: {'CPU': 1.0}. This is likely due to all cluster resources being claimed by actors. Consider creating fewer actors or adding more nodes to this Ray cluster.\n"
     ]
    },
    {
     "name": "stderr",
     "output_type": "stream",
     "text": [
      "\u001b[36m(_dystack pid=166)\u001b[0m \t0.8984\t = Validation score   (roc_auc)\n",
      "\u001b[36m(_dystack pid=166)\u001b[0m \t13.96s\t = Training   runtime\n",
      "\u001b[36m(_dystack pid=166)\u001b[0m \t0.02s\t = Validation runtime\n",
      "\u001b[36m(_dystack pid=166)\u001b[0m Fitting model: RandomForest_r15_BAG_L1 ... Training model for up to 2809.37s of the 6109.71s of remaining time.\n",
      "\u001b[36m(_dystack pid=166)\u001b[0m \tForcing `use_child_oof=False` because `groups` is specified\n",
      "\u001b[36m(_dystack pid=166)\u001b[0m \tFitting 10 child models (S1F1 - S1F10) | Fitting with ParallelLocalFoldFittingStrategy (4 workers, per: cpus=1, gpus=0, memory=0.00%)\n",
      "\u001b[36m(_dystack pid=166)\u001b[0m \t0.8847\t = Validation score   (roc_auc)\n",
      "\u001b[36m(_dystack pid=166)\u001b[0m \t18.11s\t = Training   runtime\n",
      "\u001b[36m(_dystack pid=166)\u001b[0m \t0.87s\t = Validation runtime\n",
      "\u001b[36m(_dystack pid=166)\u001b[0m Fitting model: LightGBM_r135_BAG_L1 ... Training model for up to 2788.27s of the 6088.61s of remaining time.\n",
      "\u001b[36m(_dystack pid=166)\u001b[0m \tFitting 10 child models (S1F1 - S1F10) | Fitting with ParallelLocalFoldFittingStrategy (4 workers, per: cpus=1, gpus=0, memory=0.05%)\n"
     ]
    },
    {
     "name": "stdout",
     "output_type": "stream",
     "text": [
      "\u001b[33m(autoscaler +1h3m39s)\u001b[0m Warning: The following resource request cannot be scheduled right now: {'CPU': 1.0}. This is likely due to all cluster resources being claimed by actors. Consider creating fewer actors or adding more nodes to this Ray cluster.\n"
     ]
    },
    {
     "name": "stderr",
     "output_type": "stream",
     "text": [
      "\u001b[36m(_dystack pid=166)\u001b[0m \t0.8911\t = Validation score   (roc_auc)\n",
      "\u001b[36m(_dystack pid=166)\u001b[0m \t13.72s\t = Training   runtime\n",
      "\u001b[36m(_dystack pid=166)\u001b[0m \t0.04s\t = Validation runtime\n",
      "\u001b[36m(_dystack pid=166)\u001b[0m Fitting model: XGBoost_r22_BAG_L1 ... Training model for up to 2771.46s of the 6071.80s of remaining time.\n",
      "\u001b[36m(_dystack pid=166)\u001b[0m \tFitting 10 child models (S1F1 - S1F10) | Fitting with ParallelLocalFoldFittingStrategy (4 workers, per: cpus=1, gpus=0, memory=0.02%)\n",
      "\u001b[36m(_dystack pid=166)\u001b[0m \t0.8915\t = Validation score   (roc_auc)\n",
      "\u001b[36m(_dystack pid=166)\u001b[0m \t8.43s\t = Training   runtime\n",
      "\u001b[36m(_dystack pid=166)\u001b[0m \t0.05s\t = Validation runtime\n",
      "\u001b[36m(_dystack pid=166)\u001b[0m Fitting model: NeuralNetFastAI_r69_BAG_L1 ... Training model for up to 2759.91s of the 6060.25s of remaining time.\n",
      "\u001b[36m(_dystack pid=166)\u001b[0m \tFitting 10 child models (S1F1 - S1F10) | Fitting with ParallelLocalFoldFittingStrategy (4 workers, per: cpus=1, gpus=0, memory=0.01%)\n"
     ]
    },
    {
     "name": "stdout",
     "output_type": "stream",
     "text": [
      "\u001b[33m(autoscaler +1h4m14s)\u001b[0m Warning: The following resource request cannot be scheduled right now: {'CPU': 1.0}. This is likely due to all cluster resources being claimed by actors. Consider creating fewer actors or adding more nodes to this Ray cluster.\n"
     ]
    },
    {
     "name": "stderr",
     "output_type": "stream",
     "text": [
      "\u001b[36m(_dystack pid=166)\u001b[0m \t0.8957\t = Validation score   (roc_auc)\n",
      "\u001b[36m(_dystack pid=166)\u001b[0m \t30.71s\t = Training   runtime\n",
      "\u001b[36m(_dystack pid=166)\u001b[0m \t0.19s\t = Validation runtime\n",
      "\u001b[36m(_dystack pid=166)\u001b[0m Fitting model: CatBoost_r6_BAG_L1 ... Training model for up to 2726.16s of the 6026.50s of remaining time.\n",
      "\u001b[36m(_dystack pid=166)\u001b[0m \tFitting 10 child models (S1F1 - S1F10) | Fitting with ParallelLocalFoldFittingStrategy (4 workers, per: cpus=1, gpus=0, memory=0.01%)\n",
      "\u001b[36m(_dystack pid=166)\u001b[0m \t0.8962\t = Validation score   (roc_auc)\n",
      "\u001b[36m(_dystack pid=166)\u001b[0m \t13.03s\t = Training   runtime\n",
      "\u001b[36m(_dystack pid=166)\u001b[0m \t0.02s\t = Validation runtime\n",
      "\u001b[36m(_dystack pid=166)\u001b[0m Fitting model: NeuralNetFastAI_r138_BAG_L1 ... Training model for up to 2709.79s of the 6010.13s of remaining time.\n",
      "\u001b[36m(_dystack pid=166)\u001b[0m \tFitting 10 child models (S1F1 - S1F10) | Fitting with ParallelLocalFoldFittingStrategy (4 workers, per: cpus=1, gpus=0, memory=0.01%)\n"
     ]
    },
    {
     "name": "stdout",
     "output_type": "stream",
     "text": [
      "\u001b[33m(autoscaler +1h4m55s)\u001b[0m Warning: The following resource request cannot be scheduled right now: {'CPU': 1.0}. This is likely due to all cluster resources being claimed by actors. Consider creating fewer actors or adding more nodes to this Ray cluster.\n"
     ]
    },
    {
     "name": "stderr",
     "output_type": "stream",
     "text": [
      "\u001b[36m(_ray_fit pid=34534)\u001b[0m No improvement since epoch 16: early stopping\n"
     ]
    },
    {
     "name": "stdout",
     "output_type": "stream",
     "text": [
      "\u001b[33m(autoscaler +1h5m30s)\u001b[0m Warning: The following resource request cannot be scheduled right now: {'CPU': 1.0}. This is likely due to all cluster resources being claimed by actors. Consider creating fewer actors or adding more nodes to this Ray cluster.\n"
     ]
    },
    {
     "name": "stderr",
     "output_type": "stream",
     "text": [
      "\u001b[36m(_ray_fit pid=34810)\u001b[0m No improvement since epoch 14: early stopping\u001b[32m [repeated 3x across cluster]\u001b[0m\n",
      "\u001b[36m(_ray_fit pid=34905)\u001b[0m No improvement since epoch 15: early stopping\u001b[32m [repeated 4x across cluster]\u001b[0m\n",
      "\u001b[36m(_dystack pid=166)\u001b[0m \t0.8916\t = Validation score   (roc_auc)\n",
      "\u001b[36m(_dystack pid=166)\u001b[0m \t53.33s\t = Training   runtime\n",
      "\u001b[36m(_dystack pid=166)\u001b[0m \t0.23s\t = Validation runtime\n",
      "\u001b[36m(_dystack pid=166)\u001b[0m Fitting model: LightGBM_r121_BAG_L1 ... Training model for up to 2653.56s of the 5953.90s of remaining time.\n",
      "\u001b[36m(_dystack pid=166)\u001b[0m \tFitting 10 child models (S1F1 - S1F10) | Fitting with ParallelLocalFoldFittingStrategy (4 workers, per: cpus=1, gpus=0, memory=0.05%)\n",
      "\u001b[36m(_dystack pid=166)\u001b[0m \t0.8893\t = Validation score   (roc_auc)\n",
      "\u001b[36m(_dystack pid=166)\u001b[0m \t18.11s\t = Training   runtime\n",
      "\u001b[36m(_dystack pid=166)\u001b[0m \t0.12s\t = Validation runtime\n",
      "\u001b[36m(_dystack pid=166)\u001b[0m Fitting model: NeuralNetFastAI_r172_BAG_L1 ... Training model for up to 2632.48s of the 5932.82s of remaining time.\n",
      "\u001b[36m(_dystack pid=166)\u001b[0m \tFitting 10 child models (S1F1 - S1F10) | Fitting with ParallelLocalFoldFittingStrategy (4 workers, per: cpus=1, gpus=0, memory=0.01%)\n"
     ]
    },
    {
     "name": "stdout",
     "output_type": "stream",
     "text": [
      "\u001b[33m(autoscaler +1h6m10s)\u001b[0m Warning: The following resource request cannot be scheduled right now: {'CPU': 1.0}. This is likely due to all cluster resources being claimed by actors. Consider creating fewer actors or adding more nodes to this Ray cluster.\n"
     ]
    },
    {
     "name": "stderr",
     "output_type": "stream",
     "text": [
      "\u001b[36m(_ray_fit pid=35339)\u001b[0m No improvement since epoch 8: early stopping\n",
      "\u001b[36m(_ray_fit pid=35525)\u001b[0m No improvement since epoch 4: early stopping\u001b[32m [repeated 3x across cluster]\u001b[0m\n",
      "\u001b[36m(_ray_fit pid=35710)\u001b[0m No improvement since epoch 11: early stopping\n",
      "\u001b[36m(_dystack pid=166)\u001b[0m \t0.8917\t = Validation score   (roc_auc)\n",
      "\u001b[36m(_dystack pid=166)\u001b[0m \t24.93s\t = Training   runtime\n",
      "\u001b[36m(_dystack pid=166)\u001b[0m \t0.17s\t = Validation runtime\n",
      "\u001b[36m(_dystack pid=166)\u001b[0m Fitting model: CatBoost_r180_BAG_L1 ... Training model for up to 2604.47s of the 5904.81s of remaining time.\n",
      "\u001b[36m(_dystack pid=166)\u001b[0m \tFitting 10 child models (S1F1 - S1F10) | Fitting with ParallelLocalFoldFittingStrategy (4 workers, per: cpus=1, gpus=0, memory=0.03%)\n"
     ]
    },
    {
     "name": "stdout",
     "output_type": "stream",
     "text": [
      "\u001b[33m(autoscaler +1h6m45s)\u001b[0m Warning: The following resource request cannot be scheduled right now: {'CPU': 1.0}. This is likely due to all cluster resources being claimed by actors. Consider creating fewer actors or adding more nodes to this Ray cluster.\n"
     ]
    },
    {
     "name": "stderr",
     "output_type": "stream",
     "text": [
      "\u001b[36m(_dystack pid=166)\u001b[0m \t0.8966\t = Validation score   (roc_auc)\n",
      "\u001b[36m(_dystack pid=166)\u001b[0m \t26.97s\t = Training   runtime\n",
      "\u001b[36m(_dystack pid=166)\u001b[0m \t0.02s\t = Validation runtime\n",
      "\u001b[36m(_dystack pid=166)\u001b[0m Fitting model: NeuralNetTorch_r76_BAG_L1 ... Training model for up to 2574.37s of the 5874.71s of remaining time.\n",
      "\u001b[36m(_dystack pid=166)\u001b[0m \tFitting 10 child models (S1F1 - S1F10) | Fitting with ParallelLocalFoldFittingStrategy (4 workers, per: cpus=1, gpus=0, memory=0.00%)\n"
     ]
    },
    {
     "name": "stdout",
     "output_type": "stream",
     "text": [
      "\u001b[33m(autoscaler +1h7m20s)\u001b[0m Warning: The following resource request cannot be scheduled right now: {'CPU': 1.0}. This is likely due to all cluster resources being claimed by actors. Consider creating fewer actors or adding more nodes to this Ray cluster.\n"
     ]
    },
    {
     "name": "stderr",
     "output_type": "stream",
     "text": [
      "\u001b[36m(_dystack pid=166)\u001b[0m \t0.8953\t = Validation score   (roc_auc)\n",
      "\u001b[36m(_dystack pid=166)\u001b[0m \t25.74s\t = Training   runtime\n",
      "\u001b[36m(_dystack pid=166)\u001b[0m \t0.12s\t = Validation runtime\n",
      "\u001b[36m(_dystack pid=166)\u001b[0m Fitting model: ExtraTrees_r197_BAG_L1 ... Training model for up to 2545.74s of the 5846.08s of remaining time.\n",
      "\u001b[36m(_dystack pid=166)\u001b[0m \tForcing `use_child_oof=False` because `groups` is specified\n",
      "\u001b[36m(_dystack pid=166)\u001b[0m \tFitting 10 child models (S1F1 - S1F10) | Fitting with ParallelLocalFoldFittingStrategy (4 workers, per: cpus=1, gpus=0, memory=0.00%)\n",
      "\u001b[36m(_dystack pid=166)\u001b[0m \t0.8856\t = Validation score   (roc_auc)\n",
      "\u001b[36m(_dystack pid=166)\u001b[0m \t15.77s\t = Training   runtime\n",
      "\u001b[36m(_dystack pid=166)\u001b[0m \t0.93s\t = Validation runtime\n",
      "\u001b[36m(_dystack pid=166)\u001b[0m Fitting model: NeuralNetTorch_r121_BAG_L1 ... Training model for up to 2526.85s of the 5827.19s of remaining time.\n",
      "\u001b[36m(_dystack pid=166)\u001b[0m \tFitting 10 child models (S1F1 - S1F10) | Fitting with ParallelLocalFoldFittingStrategy (4 workers, per: cpus=1, gpus=0, memory=0.00%)\n"
     ]
    },
    {
     "name": "stdout",
     "output_type": "stream",
     "text": [
      "\u001b[33m(autoscaler +1h7m55s)\u001b[0m Warning: The following resource request cannot be scheduled right now: {'CPU': 1.0}. This is likely due to all cluster resources being claimed by actors. Consider creating fewer actors or adding more nodes to this Ray cluster.\n"
     ]
    },
    {
     "name": "stderr",
     "output_type": "stream",
     "text": [
      "\u001b[36m(_dystack pid=166)\u001b[0m \t0.888\t = Validation score   (roc_auc)\n",
      "\u001b[36m(_dystack pid=166)\u001b[0m \t43.86s\t = Training   runtime\n",
      "\u001b[36m(_dystack pid=166)\u001b[0m \t0.13s\t = Validation runtime\n",
      "\u001b[36m(_dystack pid=166)\u001b[0m Fitting model: NeuralNetFastAI_r127_BAG_L1 ... Training model for up to 2479.84s of the 5780.18s of remaining time.\n",
      "\u001b[36m(_dystack pid=166)\u001b[0m \tFitting 10 child models (S1F1 - S1F10) | Fitting with ParallelLocalFoldFittingStrategy (4 workers, per: cpus=1, gpus=0, memory=0.01%)\n"
     ]
    },
    {
     "name": "stdout",
     "output_type": "stream",
     "text": [
      "\u001b[33m(autoscaler +1h8m45s)\u001b[0m Warning: The following resource request cannot be scheduled right now: {'CPU': 1.0}. This is likely due to all cluster resources being claimed by actors. Consider creating fewer actors or adding more nodes to this Ray cluster.\n"
     ]
    },
    {
     "name": "stderr",
     "output_type": "stream",
     "text": [
      "\u001b[36m(_dystack pid=166)\u001b[0m \t0.891\t = Validation score   (roc_auc)\n",
      "\u001b[36m(_dystack pid=166)\u001b[0m \t22.71s\t = Training   runtime\n",
      "\u001b[36m(_dystack pid=166)\u001b[0m \t0.21s\t = Validation runtime\n",
      "\u001b[36m(_dystack pid=166)\u001b[0m Fitting model: RandomForest_r16_BAG_L1 ... Training model for up to 2454.12s of the 5754.46s of remaining time.\n",
      "\u001b[36m(_dystack pid=166)\u001b[0m \tForcing `use_child_oof=False` because `groups` is specified\n",
      "\u001b[36m(_dystack pid=166)\u001b[0m \tFitting 10 child models (S1F1 - S1F10) | Fitting with ParallelLocalFoldFittingStrategy (4 workers, per: cpus=1, gpus=0, memory=0.00%)\n"
     ]
    },
    {
     "name": "stdout",
     "output_type": "stream",
     "text": [
      "\u001b[33m(autoscaler +1h9m20s)\u001b[0m Warning: The following resource request cannot be scheduled right now: {'CPU': 1.0}. This is likely due to all cluster resources being claimed by actors. Consider creating fewer actors or adding more nodes to this Ray cluster.\n"
     ]
    },
    {
     "name": "stderr",
     "output_type": "stream",
     "text": [
      "\u001b[36m(_dystack pid=166)\u001b[0m \t0.8789\t = Validation score   (roc_auc)\n",
      "\u001b[36m(_dystack pid=166)\u001b[0m \t25.27s\t = Training   runtime\n",
      "\u001b[36m(_dystack pid=166)\u001b[0m \t0.94s\t = Validation runtime\n",
      "\u001b[36m(_dystack pid=166)\u001b[0m Fitting model: NeuralNetFastAI_r194_BAG_L1 ... Training model for up to 2425.64s of the 5725.98s of remaining time.\n",
      "\u001b[36m(_dystack pid=166)\u001b[0m \tFitting 10 child models (S1F1 - S1F10) | Fitting with ParallelLocalFoldFittingStrategy (4 workers, per: cpus=1, gpus=0, memory=0.01%)\n"
     ]
    },
    {
     "name": "stdout",
     "output_type": "stream",
     "text": [
      "\u001b[33m(autoscaler +1h9m55s)\u001b[0m Warning: The following resource request cannot be scheduled right now: {'CPU': 1.0}. This is likely due to all cluster resources being claimed by actors. Consider creating fewer actors or adding more nodes to this Ray cluster.\n"
     ]
    },
    {
     "name": "stderr",
     "output_type": "stream",
     "text": [
      "\u001b[36m(_dystack pid=166)\u001b[0m \t0.8934\t = Validation score   (roc_auc)\n",
      "\u001b[36m(_dystack pid=166)\u001b[0m \t26.74s\t = Training   runtime\n",
      "\u001b[36m(_dystack pid=166)\u001b[0m \t0.14s\t = Validation runtime\n",
      "\u001b[36m(_dystack pid=166)\u001b[0m Fitting model: CatBoost_r12_BAG_L1 ... Training model for up to 2396.02s of the 5696.36s of remaining time.\n",
      "\u001b[36m(_dystack pid=166)\u001b[0m \tFitting 10 child models (S1F1 - S1F10) | Fitting with ParallelLocalFoldFittingStrategy (4 workers, per: cpus=1, gpus=0, memory=0.03%)\n",
      "\u001b[36m(_dystack pid=166)\u001b[0m \t0.8961\t = Validation score   (roc_auc)\n",
      "\u001b[36m(_dystack pid=166)\u001b[0m \t18.72s\t = Training   runtime\n",
      "\u001b[36m(_dystack pid=166)\u001b[0m \t0.02s\t = Validation runtime\n",
      "\u001b[36m(_dystack pid=166)\u001b[0m Fitting model: NeuralNetTorch_r135_BAG_L1 ... Training model for up to 2373.59s of the 5673.93s of remaining time.\n",
      "\u001b[36m(_dystack pid=166)\u001b[0m \tFitting 10 child models (S1F1 - S1F10) | Fitting with ParallelLocalFoldFittingStrategy (4 workers, per: cpus=1, gpus=0, memory=0.00%)\n"
     ]
    },
    {
     "name": "stdout",
     "output_type": "stream",
     "text": [
      "\u001b[33m(autoscaler +1h10m30s)\u001b[0m Warning: The following resource request cannot be scheduled right now: {'CPU': 1.0}. This is likely due to all cluster resources being claimed by actors. Consider creating fewer actors or adding more nodes to this Ray cluster.\n"
     ]
    },
    {
     "name": "stderr",
     "output_type": "stream",
     "text": [
      "\u001b[36m(_dystack pid=166)\u001b[0m \t0.8954\t = Validation score   (roc_auc)\n",
      "\u001b[36m(_dystack pid=166)\u001b[0m \t43.54s\t = Training   runtime\n",
      "\u001b[36m(_dystack pid=166)\u001b[0m \t0.15s\t = Validation runtime\n",
      "\u001b[36m(_dystack pid=166)\u001b[0m Fitting model: NeuralNetFastAI_r4_BAG_L1 ... Training model for up to 2327.14s of the 5627.48s of remaining time.\n",
      "\u001b[36m(_dystack pid=166)\u001b[0m \tFitting 10 child models (S1F1 - S1F10) | Fitting with ParallelLocalFoldFittingStrategy (4 workers, per: cpus=1, gpus=0, memory=0.01%)\n"
     ]
    },
    {
     "name": "stdout",
     "output_type": "stream",
     "text": [
      "\u001b[33m(autoscaler +1h11m15s)\u001b[0m Warning: The following resource request cannot be scheduled right now: {'CPU': 1.0}. This is likely due to all cluster resources being claimed by actors. Consider creating fewer actors or adding more nodes to this Ray cluster.\n"
     ]
    },
    {
     "name": "stderr",
     "output_type": "stream",
     "text": [
      "\u001b[36m(_ray_fit pid=39736)\u001b[0m No improvement since epoch 18: early stopping\n",
      "\u001b[36m(_ray_fit pid=39920)\u001b[0m No improvement since epoch 11: early stopping\u001b[32m [repeated 2x across cluster]\u001b[0m\n",
      "\u001b[36m(_dystack pid=166)\u001b[0m \t0.8959\t = Validation score   (roc_auc)\n",
      "\u001b[36m(_dystack pid=166)\u001b[0m \t27.6s\t = Training   runtime\n",
      "\u001b[36m(_dystack pid=166)\u001b[0m \t0.16s\t = Validation runtime\n",
      "\u001b[36m(_dystack pid=166)\u001b[0m Fitting model: ExtraTrees_r126_BAG_L1 ... Training model for up to 2296.29s of the 5596.63s of remaining time.\n",
      "\u001b[36m(_dystack pid=166)\u001b[0m \tForcing `use_child_oof=False` because `groups` is specified\n",
      "\u001b[36m(_dystack pid=166)\u001b[0m \tFitting 10 child models (S1F1 - S1F10) | Fitting with ParallelLocalFoldFittingStrategy (4 workers, per: cpus=1, gpus=0, memory=0.00%)\n"
     ]
    },
    {
     "name": "stdout",
     "output_type": "stream",
     "text": [
      "\u001b[33m(autoscaler +1h11m51s)\u001b[0m Warning: The following resource request cannot be scheduled right now: {'CPU': 1.0}. This is likely due to all cluster resources being claimed by actors. Consider creating fewer actors or adding more nodes to this Ray cluster.\n"
     ]
    },
    {
     "name": "stderr",
     "output_type": "stream",
     "text": [
      "\u001b[36m(_dystack pid=166)\u001b[0m \t0.8901\t = Validation score   (roc_auc)\n",
      "\u001b[36m(_dystack pid=166)\u001b[0m \t12.95s\t = Training   runtime\n",
      "\u001b[36m(_dystack pid=166)\u001b[0m \t0.88s\t = Validation runtime\n",
      "\u001b[36m(_dystack pid=166)\u001b[0m Fitting model: NeuralNetTorch_r36_BAG_L1 ... Training model for up to 2280.14s of the 5580.48s of remaining time.\n",
      "\u001b[36m(_dystack pid=166)\u001b[0m \tFitting 10 child models (S1F1 - S1F10) | Fitting with ParallelLocalFoldFittingStrategy (4 workers, per: cpus=1, gpus=0, memory=0.00%)\n"
     ]
    },
    {
     "name": "stdout",
     "output_type": "stream",
     "text": [
      "\u001b[33m(autoscaler +1h12m26s)\u001b[0m Warning: The following resource request cannot be scheduled right now: {'CPU': 1.0}. This is likely due to all cluster resources being claimed by actors. Consider creating fewer actors or adding more nodes to this Ray cluster.\n"
     ]
    },
    {
     "name": "stderr",
     "output_type": "stream",
     "text": [
      "\u001b[36m(_dystack pid=166)\u001b[0m \t0.8956\t = Validation score   (roc_auc)\n",
      "\u001b[36m(_dystack pid=166)\u001b[0m \t37.65s\t = Training   runtime\n",
      "\u001b[36m(_dystack pid=166)\u001b[0m \t0.1s\t = Validation runtime\n",
      "\u001b[36m(_dystack pid=166)\u001b[0m Fitting model: NeuralNetFastAI_r100_BAG_L1 ... Training model for up to 2239.46s of the 5539.80s of remaining time.\n",
      "\u001b[36m(_dystack pid=166)\u001b[0m \tFitting 10 child models (S1F1 - S1F10) | Fitting with ParallelLocalFoldFittingStrategy (4 workers, per: cpus=1, gpus=0, memory=0.01%)\n"
     ]
    },
    {
     "name": "stdout",
     "output_type": "stream",
     "text": [
      "\u001b[33m(autoscaler +1h13m1s)\u001b[0m Warning: The following resource request cannot be scheduled right now: {'CPU': 1.0}. This is likely due to all cluster resources being claimed by actors. Consider creating fewer actors or adding more nodes to this Ray cluster.\n"
     ]
    },
    {
     "name": "stderr",
     "output_type": "stream",
     "text": [
      "\u001b[36m(_ray_fit pid=40848)\u001b[0m No improvement since epoch 9: early stopping\n",
      "\u001b[36m(_ray_fit pid=40850)\u001b[0m No improvement since epoch 14: early stopping\u001b[32m [repeated 2x across cluster]\u001b[0m\n"
     ]
    },
    {
     "name": "stdout",
     "output_type": "stream",
     "text": [
      "\u001b[33m(autoscaler +1h13m36s)\u001b[0m Warning: The following resource request cannot be scheduled right now: {'CPU': 1.0}. This is likely due to all cluster resources being claimed by actors. Consider creating fewer actors or adding more nodes to this Ray cluster.\n"
     ]
    },
    {
     "name": "stderr",
     "output_type": "stream",
     "text": [
      "\u001b[36m(_ray_fit pid=41095)\u001b[0m No improvement since epoch 7: early stopping\n",
      "\u001b[36m(_ray_fit pid=41034)\u001b[0m No improvement since epoch 13: early stopping\n",
      "\u001b[36m(_dystack pid=166)\u001b[0m \t0.8855\t = Validation score   (roc_auc)\n",
      "\u001b[36m(_dystack pid=166)\u001b[0m \t105.52s\t = Training   runtime\n",
      "\u001b[36m(_dystack pid=166)\u001b[0m \t0.42s\t = Validation runtime\n",
      "\u001b[36m(_dystack pid=166)\u001b[0m Fitting model: CatBoost_r163_BAG_L1 ... Training model for up to 2130.90s of the 5431.24s of remaining time.\n",
      "\u001b[36m(_dystack pid=166)\u001b[0m \tFitting 10 child models (S1F1 - S1F10) | Fitting with ParallelLocalFoldFittingStrategy (4 workers, per: cpus=1, gpus=0, memory=0.01%)\n",
      "\u001b[36m(_ray_fit pid=41128)\u001b[0m No improvement since epoch 10: early stopping\u001b[32m [repeated 2x across cluster]\u001b[0m\n"
     ]
    },
    {
     "name": "stdout",
     "output_type": "stream",
     "text": [
      "\u001b[33m(autoscaler +1h14m31s)\u001b[0m Warning: The following resource request cannot be scheduled right now: {'CPU': 1.0}. This is likely due to all cluster resources being claimed by actors. Consider creating fewer actors or adding more nodes to this Ray cluster.\n"
     ]
    },
    {
     "name": "stderr",
     "output_type": "stream",
     "text": [
      "\u001b[36m(_dystack pid=166)\u001b[0m \t0.8977\t = Validation score   (roc_auc)\n",
      "\u001b[36m(_dystack pid=166)\u001b[0m \t12.03s\t = Training   runtime\n",
      "\u001b[36m(_dystack pid=166)\u001b[0m \t0.02s\t = Validation runtime\n",
      "\u001b[36m(_dystack pid=166)\u001b[0m Fitting model: CatBoost_r198_BAG_L1 ... Training model for up to 2115.64s of the 5415.98s of remaining time.\n",
      "\u001b[36m(_dystack pid=166)\u001b[0m \tFitting 10 child models (S1F1 - S1F10) | Fitting with ParallelLocalFoldFittingStrategy (4 workers, per: cpus=1, gpus=0, memory=0.02%)\n",
      "\u001b[36m(_dystack pid=166)\u001b[0m \t0.8966\t = Validation score   (roc_auc)\n",
      "\u001b[36m(_dystack pid=166)\u001b[0m \t14.47s\t = Training   runtime\n",
      "\u001b[36m(_dystack pid=166)\u001b[0m \t0.02s\t = Validation runtime\n",
      "\u001b[36m(_dystack pid=166)\u001b[0m Fitting model: NeuralNetFastAI_r187_BAG_L1 ... Training model for up to 2098.32s of the 5398.66s of remaining time.\n",
      "\u001b[36m(_dystack pid=166)\u001b[0m \tFitting 10 child models (S1F1 - S1F10) | Fitting with ParallelLocalFoldFittingStrategy (4 workers, per: cpus=1, gpus=0, memory=0.01%)\n"
     ]
    },
    {
     "name": "stdout",
     "output_type": "stream",
     "text": [
      "\u001b[33m(autoscaler +1h15m6s)\u001b[0m Warning: The following resource request cannot be scheduled right now: {'CPU': 1.0}. This is likely due to all cluster resources being claimed by actors. Consider creating fewer actors or adding more nodes to this Ray cluster.\n"
     ]
    },
    {
     "name": "stderr",
     "output_type": "stream",
     "text": [
      "\u001b[36m(_dystack pid=166)\u001b[0m \t0.89\t = Validation score   (roc_auc)\n",
      "\u001b[36m(_dystack pid=166)\u001b[0m \t24.0s\t = Training   runtime\n",
      "\u001b[36m(_dystack pid=166)\u001b[0m \t0.12s\t = Validation runtime\n",
      "\u001b[36m(_dystack pid=166)\u001b[0m Fitting model: NeuralNetTorch_r19_BAG_L1 ... Training model for up to 2071.42s of the 5371.76s of remaining time.\n",
      "\u001b[36m(_dystack pid=166)\u001b[0m \tFitting 10 child models (S1F1 - S1F10) | Fitting with ParallelLocalFoldFittingStrategy (4 workers, per: cpus=1, gpus=0, memory=0.00%)\n"
     ]
    },
    {
     "name": "stdout",
     "output_type": "stream",
     "text": [
      "\u001b[33m(autoscaler +1h15m41s)\u001b[0m Warning: The following resource request cannot be scheduled right now: {'CPU': 1.0}. This is likely due to all cluster resources being claimed by actors. Consider creating fewer actors or adding more nodes to this Ray cluster.\n"
     ]
    },
    {
     "name": "stderr",
     "output_type": "stream",
     "text": [
      "\u001b[36m(_dystack pid=166)\u001b[0m \t0.8941\t = Validation score   (roc_auc)\n",
      "\u001b[36m(_dystack pid=166)\u001b[0m \t24.6s\t = Training   runtime\n",
      "\u001b[36m(_dystack pid=166)\u001b[0m \t0.11s\t = Validation runtime\n",
      "\u001b[36m(_dystack pid=166)\u001b[0m Fitting model: XGBoost_r95_BAG_L1 ... Training model for up to 2043.46s of the 5343.80s of remaining time.\n",
      "\u001b[36m(_dystack pid=166)\u001b[0m \tFitting 10 child models (S1F1 - S1F10) | Fitting with ParallelLocalFoldFittingStrategy (4 workers, per: cpus=1, gpus=0, memory=0.02%)\n",
      "\u001b[36m(_dystack pid=166)\u001b[0m \t0.892\t = Validation score   (roc_auc)\n",
      "\u001b[36m(_dystack pid=166)\u001b[0m \t9.0s\t = Training   runtime\n",
      "\u001b[36m(_dystack pid=166)\u001b[0m \t0.08s\t = Validation runtime\n",
      "\u001b[36m(_dystack pid=166)\u001b[0m Fitting model: XGBoost_r34_BAG_L1 ... Training model for up to 2031.47s of the 5331.81s of remaining time.\n",
      "\u001b[36m(_dystack pid=166)\u001b[0m \tFitting 10 child models (S1F1 - S1F10) | Fitting with ParallelLocalFoldFittingStrategy (4 workers, per: cpus=1, gpus=0, memory=0.11%)\n"
     ]
    },
    {
     "name": "stdout",
     "output_type": "stream",
     "text": [
      "\u001b[33m(autoscaler +1h16m16s)\u001b[0m Warning: The following resource request cannot be scheduled right now: {'CPU': 1.0}. This is likely due to all cluster resources being claimed by actors. Consider creating fewer actors or adding more nodes to this Ray cluster.\n"
     ]
    },
    {
     "name": "stderr",
     "output_type": "stream",
     "text": [
      "\u001b[36m(_dystack pid=166)\u001b[0m \t0.8907\t = Validation score   (roc_auc)\n",
      "\u001b[36m(_dystack pid=166)\u001b[0m \t9.81s\t = Training   runtime\n",
      "\u001b[36m(_dystack pid=166)\u001b[0m \t0.09s\t = Validation runtime\n",
      "\u001b[36m(_dystack pid=166)\u001b[0m Fitting model: LightGBM_r42_BAG_L1 ... Training model for up to 2018.85s of the 5319.19s of remaining time.\n",
      "\u001b[36m(_dystack pid=166)\u001b[0m \tFitting 10 child models (S1F1 - S1F10) | Fitting with ParallelLocalFoldFittingStrategy (4 workers, per: cpus=1, gpus=0, memory=0.05%)\n",
      "\u001b[36m(_dystack pid=166)\u001b[0m \t0.8972\t = Validation score   (roc_auc)\n",
      "\u001b[36m(_dystack pid=166)\u001b[0m \t12.87s\t = Training   runtime\n",
      "\u001b[36m(_dystack pid=166)\u001b[0m \t0.06s\t = Validation runtime\n",
      "\u001b[36m(_dystack pid=166)\u001b[0m Fitting model: NeuralNetTorch_r1_BAG_L1 ... Training model for up to 2003.11s of the 5303.45s of remaining time.\n",
      "\u001b[36m(_dystack pid=166)\u001b[0m \tFitting 10 child models (S1F1 - S1F10) | Fitting with ParallelLocalFoldFittingStrategy (4 workers, per: cpus=1, gpus=0, memory=0.00%)\n"
     ]
    },
    {
     "name": "stdout",
     "output_type": "stream",
     "text": [
      "\u001b[33m(autoscaler +1h16m51s)\u001b[0m Warning: The following resource request cannot be scheduled right now: {'CPU': 1.0}. This is likely due to all cluster resources being claimed by actors. Consider creating fewer actors or adding more nodes to this Ray cluster.\n"
     ]
    },
    {
     "name": "stderr",
     "output_type": "stream",
     "text": [
      "\u001b[36m(_dystack pid=166)\u001b[0m \t0.8903\t = Validation score   (roc_auc)\n",
      "\u001b[36m(_dystack pid=166)\u001b[0m \t34.54s\t = Training   runtime\n",
      "\u001b[36m(_dystack pid=166)\u001b[0m \t0.13s\t = Validation runtime\n",
      "\u001b[36m(_dystack pid=166)\u001b[0m Fitting model: NeuralNetTorch_r89_BAG_L1 ... Training model for up to 1965.60s of the 5265.94s of remaining time.\n",
      "\u001b[36m(_dystack pid=166)\u001b[0m \tFitting 10 child models (S1F1 - S1F10) | Fitting with ParallelLocalFoldFittingStrategy (4 workers, per: cpus=1, gpus=0, memory=0.00%)\n"
     ]
    },
    {
     "name": "stdout",
     "output_type": "stream",
     "text": [
      "\u001b[33m(autoscaler +1h17m26s)\u001b[0m Warning: The following resource request cannot be scheduled right now: {'CPU': 1.0}. This is likely due to all cluster resources being claimed by actors. Consider creating fewer actors or adding more nodes to this Ray cluster.\n"
     ]
    },
    {
     "name": "stderr",
     "output_type": "stream",
     "text": [
      "\u001b[36m(_dystack pid=166)\u001b[0m \t0.8935\t = Validation score   (roc_auc)\n",
      "\u001b[36m(_dystack pid=166)\u001b[0m \t39.85s\t = Training   runtime\n",
      "\u001b[36m(_dystack pid=166)\u001b[0m \t0.12s\t = Validation runtime\n",
      "\u001b[36m(_dystack pid=166)\u001b[0m Fitting model: WeightedEnsemble_L2 ... Training model for up to 659.57s of the 5223.18s of remaining time.\n",
      "\u001b[36m(_dystack pid=166)\u001b[0m \tEnsemble Weights: {'CatBoost_r50_BAG_L1': 0.4, 'NeuralNetFastAI_r11_BAG_L1': 0.28, 'NeuralNetTorch_r197_BAG_L1': 0.12, 'KNeighborsDist_BAG_L1': 0.04, 'NeuralNetFastAI_r102_BAG_L1': 0.04, 'XGBoost_r89_BAG_L1': 0.04, 'CatBoost_r69_BAG_L1': 0.04, 'NeuralNetTorch_r14_BAG_L1': 0.04}\n",
      "\u001b[36m(_dystack pid=166)\u001b[0m \t0.9061\t = Validation score   (roc_auc)\n",
      "\u001b[36m(_dystack pid=166)\u001b[0m \t0.2s\t = Training   runtime\n",
      "\u001b[36m(_dystack pid=166)\u001b[0m \t0.0s\t = Validation runtime\n",
      "\u001b[36m(_dystack pid=166)\u001b[0m Fitting 109 L2 models, fit_strategy=\"parallel\" ...\n",
      "\u001b[36m(_dystack pid=166)\u001b[0m Note: fit_strategy='parallel', but `num_cpus=4`. Running parallel mode with fewer than 12 CPUs is not recommended and has been disabled. You can override this by specifying `os.environ[\"AG_FORCE_PARALLEL\"] = \"True\"`. Falling back to fit_strategy='sequential' ...\n",
      "\u001b[36m(_dystack pid=166)\u001b[0m Fitting model: LightGBMXT_BAG_L2 ... Training model for up to 5222.97s of the 5222.71s of remaining time.\n",
      "\u001b[36m(_dystack pid=166)\u001b[0m \tFitting 10 child models (S1F1 - S1F10) | Fitting with ParallelLocalFoldFittingStrategy (4 workers, per: cpus=1, gpus=0, memory=0.10%)\n"
     ]
    },
    {
     "name": "stdout",
     "output_type": "stream",
     "text": [
      "\u001b[33m(autoscaler +1h18m1s)\u001b[0m Warning: The following resource request cannot be scheduled right now: {'CPU': 1.0}. This is likely due to all cluster resources being claimed by actors. Consider creating fewer actors or adding more nodes to this Ray cluster.\n"
     ]
    },
    {
     "name": "stderr",
     "output_type": "stream",
     "text": [
      "\u001b[36m(_dystack pid=166)\u001b[0m \t0.9046\t = Validation score   (roc_auc)\n",
      "\u001b[36m(_dystack pid=166)\u001b[0m \t14.32s\t = Training   runtime\n",
      "\u001b[36m(_dystack pid=166)\u001b[0m \t0.06s\t = Validation runtime\n",
      "\u001b[36m(_dystack pid=166)\u001b[0m Fitting model: LightGBM_BAG_L2 ... Training model for up to 5205.86s of the 5205.60s of remaining time.\n",
      "\u001b[36m(_dystack pid=166)\u001b[0m \tFitting 10 child models (S1F1 - S1F10) | Fitting with ParallelLocalFoldFittingStrategy (4 workers, per: cpus=1, gpus=0, memory=0.10%)\n",
      "\u001b[36m(_dystack pid=166)\u001b[0m \t0.8983\t = Validation score   (roc_auc)\n",
      "\u001b[36m(_dystack pid=166)\u001b[0m \t14.97s\t = Training   runtime\n",
      "\u001b[36m(_dystack pid=166)\u001b[0m \t0.03s\t = Validation runtime\n",
      "\u001b[36m(_dystack pid=166)\u001b[0m Fitting model: RandomForestGini_BAG_L2 ... Training model for up to 5187.77s of the 5187.51s of remaining time.\n",
      "\u001b[36m(_dystack pid=166)\u001b[0m \tForcing `use_child_oof=False` because `groups` is specified\n",
      "\u001b[36m(_dystack pid=166)\u001b[0m \tFitting 10 child models (S1F1 - S1F10) | Fitting with ParallelLocalFoldFittingStrategy (4 workers, per: cpus=1, gpus=0, memory=0.01%)\n"
     ]
    },
    {
     "name": "stdout",
     "output_type": "stream",
     "text": [
      "\u001b[33m(autoscaler +1h18m37s)\u001b[0m Warning: The following resource request cannot be scheduled right now: {'CPU': 1.0}. This is likely due to all cluster resources being claimed by actors. Consider creating fewer actors or adding more nodes to this Ray cluster.\n"
     ]
    },
    {
     "name": "stderr",
     "output_type": "stream",
     "text": [
      "\u001b[36m(_dystack pid=166)\u001b[0m \t0.8967\t = Validation score   (roc_auc)\n",
      "\u001b[36m(_dystack pid=166)\u001b[0m \t16.19s\t = Training   runtime\n",
      "\u001b[36m(_dystack pid=166)\u001b[0m \t1.0s\t = Validation runtime\n",
      "\u001b[36m(_dystack pid=166)\u001b[0m Fitting model: RandomForestEntr_BAG_L2 ... Training model for up to 5168.45s of the 5168.19s of remaining time.\n",
      "\u001b[36m(_dystack pid=166)\u001b[0m \tForcing `use_child_oof=False` because `groups` is specified\n",
      "\u001b[36m(_dystack pid=166)\u001b[0m \tFitting 10 child models (S1F1 - S1F10) | Fitting with ParallelLocalFoldFittingStrategy (4 workers, per: cpus=1, gpus=0, memory=0.01%)\n",
      "\u001b[36m(_dystack pid=166)\u001b[0m \t0.9016\t = Validation score   (roc_auc)\n",
      "\u001b[36m(_dystack pid=166)\u001b[0m \t16.17s\t = Training   runtime\n",
      "\u001b[36m(_dystack pid=166)\u001b[0m \t0.94s\t = Validation runtime\n",
      "\u001b[36m(_dystack pid=166)\u001b[0m Fitting model: CatBoost_BAG_L2 ... Training model for up to 5149.18s of the 5148.92s of remaining time.\n",
      "\u001b[36m(_dystack pid=166)\u001b[0m \tFitting 10 child models (S1F1 - S1F10) | Fitting with ParallelLocalFoldFittingStrategy (4 workers, per: cpus=1, gpus=0, memory=0.17%)\n"
     ]
    },
    {
     "name": "stdout",
     "output_type": "stream",
     "text": [
      "\u001b[33m(autoscaler +1h19m17s)\u001b[0m Warning: The following resource request cannot be scheduled right now: {'CPU': 1.0}. This is likely due to all cluster resources being claimed by actors. Consider creating fewer actors or adding more nodes to this Ray cluster.\n"
     ]
    },
    {
     "name": "stderr",
     "output_type": "stream",
     "text": [
      "\u001b[36m(_dystack pid=166)\u001b[0m \t0.9054\t = Validation score   (roc_auc)\n",
      "\u001b[36m(_dystack pid=166)\u001b[0m \t23.22s\t = Training   runtime\n",
      "\u001b[36m(_dystack pid=166)\u001b[0m \t0.04s\t = Validation runtime\n",
      "\u001b[36m(_dystack pid=166)\u001b[0m Fitting model: ExtraTreesGini_BAG_L2 ... Training model for up to 5122.92s of the 5122.66s of remaining time.\n",
      "\u001b[36m(_dystack pid=166)\u001b[0m \tForcing `use_child_oof=False` because `groups` is specified\n",
      "\u001b[36m(_dystack pid=166)\u001b[0m \tFitting 10 child models (S1F1 - S1F10) | Fitting with ParallelLocalFoldFittingStrategy (4 workers, per: cpus=1, gpus=0, memory=0.01%)\n",
      "\u001b[36m(_dystack pid=166)\u001b[0m \t0.8962\t = Validation score   (roc_auc)\n",
      "\u001b[36m(_dystack pid=166)\u001b[0m \t11.89s\t = Training   runtime\n",
      "\u001b[36m(_dystack pid=166)\u001b[0m \t0.86s\t = Validation runtime\n",
      "\u001b[36m(_dystack pid=166)\u001b[0m Fitting model: ExtraTreesEntr_BAG_L2 ... Training model for up to 5108.09s of the 5107.83s of remaining time.\n",
      "\u001b[36m(_dystack pid=166)\u001b[0m \tForcing `use_child_oof=False` because `groups` is specified\n",
      "\u001b[36m(_dystack pid=166)\u001b[0m \tFitting 10 child models (S1F1 - S1F10) | Fitting with ParallelLocalFoldFittingStrategy (4 workers, per: cpus=1, gpus=0, memory=0.01%)\n"
     ]
    },
    {
     "name": "stdout",
     "output_type": "stream",
     "text": [
      "\u001b[33m(autoscaler +1h19m57s)\u001b[0m Warning: The following resource request cannot be scheduled right now: {'CPU': 1.0}. This is likely due to all cluster resources being claimed by actors. Consider creating fewer actors or adding more nodes to this Ray cluster.\n"
     ]
    },
    {
     "name": "stderr",
     "output_type": "stream",
     "text": [
      "\u001b[36m(_dystack pid=166)\u001b[0m \t0.9012\t = Validation score   (roc_auc)\n",
      "\u001b[36m(_dystack pid=166)\u001b[0m \t11.39s\t = Training   runtime\n",
      "\u001b[36m(_dystack pid=166)\u001b[0m \t0.86s\t = Validation runtime\n",
      "\u001b[36m(_dystack pid=166)\u001b[0m Fitting model: NeuralNetFastAI_BAG_L2 ... Training model for up to 5093.59s of the 5093.33s of remaining time.\n",
      "\u001b[36m(_dystack pid=166)\u001b[0m \tFitting 10 child models (S1F1 - S1F10) | Fitting with ParallelLocalFoldFittingStrategy (4 workers, per: cpus=1, gpus=0, memory=0.04%)\n",
      "\u001b[36m(_dystack pid=166)\u001b[0m \t0.8991\t = Validation score   (roc_auc)\n",
      "\u001b[36m(_dystack pid=166)\u001b[0m \t27.84s\t = Training   runtime\n",
      "\u001b[36m(_dystack pid=166)\u001b[0m \t0.21s\t = Validation runtime\n",
      "\u001b[36m(_dystack pid=166)\u001b[0m Fitting model: TabPFNMix_v1_BAG_L2 ... Training model for up to 5062.85s of the 5062.59s of remaining time.\n",
      "\u001b[36m(_dystack pid=166)\u001b[0m \tMemory not enough to fit 10 folds in parallel. Will train 2 folds in parallel instead (Estimated 28.27% memory usage per fold, 56.53%/80.00% total).\n",
      "\u001b[36m(_dystack pid=166)\u001b[0m \tFitting 10 child models (S1F1 - S1F10) | Fitting with ParallelLocalFoldFittingStrategy (2 workers, per: cpus=2, gpus=0, memory=28.27%)\n"
     ]
    },
    {
     "name": "stdout",
     "output_type": "stream",
     "text": [
      "\u001b[33m(autoscaler +1h20m42s)\u001b[0m Warning: The following resource request cannot be scheduled right now: {'CPU': 2.0}. This is likely due to all cluster resources being claimed by actors. Consider creating fewer actors or adding more nodes to this Ray cluster.\n",
      "\u001b[33m(autoscaler +1h21m17s)\u001b[0m Warning: The following resource request cannot be scheduled right now: {'CPU': 2.0}. This is likely due to all cluster resources being claimed by actors. Consider creating fewer actors or adding more nodes to this Ray cluster.\n",
      "\u001b[33m(autoscaler +1h21m52s)\u001b[0m Warning: The following resource request cannot be scheduled right now: {'CPU': 2.0}. This is likely due to all cluster resources being claimed by actors. Consider creating fewer actors or adding more nodes to this Ray cluster.\n",
      "\u001b[33m(autoscaler +1h22m27s)\u001b[0m Warning: The following resource request cannot be scheduled right now: {'CPU': 2.0}. This is likely due to all cluster resources being claimed by actors. Consider creating fewer actors or adding more nodes to this Ray cluster.\n",
      "\u001b[33m(autoscaler +1h23m2s)\u001b[0m Warning: The following resource request cannot be scheduled right now: {'CPU': 2.0}. This is likely due to all cluster resources being claimed by actors. Consider creating fewer actors or adding more nodes to this Ray cluster.\n",
      "\u001b[33m(autoscaler +1h23m37s)\u001b[0m Warning: The following resource request cannot be scheduled right now: {'CPU': 2.0}. This is likely due to all cluster resources being claimed by actors. Consider creating fewer actors or adding more nodes to this Ray cluster.\n",
      "\u001b[33m(autoscaler +1h24m12s)\u001b[0m Warning: The following resource request cannot be scheduled right now: {'CPU': 2.0}. This is likely due to all cluster resources being claimed by actors. Consider creating fewer actors or adding more nodes to this Ray cluster.\n",
      "\u001b[33m(autoscaler +1h24m47s)\u001b[0m Warning: The following resource request cannot be scheduled right now: {'CPU': 2.0}. This is likely due to all cluster resources being claimed by actors. Consider creating fewer actors or adding more nodes to this Ray cluster.\n",
      "\u001b[33m(autoscaler +1h25m23s)\u001b[0m Warning: The following resource request cannot be scheduled right now: {'CPU': 2.0}. This is likely due to all cluster resources being claimed by actors. Consider creating fewer actors or adding more nodes to this Ray cluster.\n",
      "\u001b[33m(autoscaler +1h25m58s)\u001b[0m Warning: The following resource request cannot be scheduled right now: {'CPU': 2.0}. This is likely due to all cluster resources being claimed by actors. Consider creating fewer actors or adding more nodes to this Ray cluster.\n",
      "\u001b[33m(autoscaler +1h26m33s)\u001b[0m Warning: The following resource request cannot be scheduled right now: {'CPU': 2.0}. This is likely due to all cluster resources being claimed by actors. Consider creating fewer actors or adding more nodes to this Ray cluster.\n",
      "\u001b[33m(autoscaler +1h27m8s)\u001b[0m Warning: The following resource request cannot be scheduled right now: {'CPU': 2.0}. This is likely due to all cluster resources being claimed by actors. Consider creating fewer actors or adding more nodes to this Ray cluster.\n",
      "\u001b[33m(autoscaler +1h27m43s)\u001b[0m Warning: The following resource request cannot be scheduled right now: {'CPU': 2.0}. This is likely due to all cluster resources being claimed by actors. Consider creating fewer actors or adding more nodes to this Ray cluster.\n",
      "\u001b[33m(autoscaler +1h28m18s)\u001b[0m Warning: The following resource request cannot be scheduled right now: {'CPU': 2.0}. This is likely due to all cluster resources being claimed by actors. Consider creating fewer actors or adding more nodes to this Ray cluster.\n",
      "\u001b[33m(autoscaler +1h28m53s)\u001b[0m Warning: The following resource request cannot be scheduled right now: {'CPU': 2.0}. This is likely due to all cluster resources being claimed by actors. Consider creating fewer actors or adding more nodes to this Ray cluster.\n",
      "\u001b[33m(autoscaler +1h29m28s)\u001b[0m Warning: The following resource request cannot be scheduled right now: {'CPU': 2.0}. This is likely due to all cluster resources being claimed by actors. Consider creating fewer actors or adding more nodes to this Ray cluster.\n",
      "\u001b[33m(autoscaler +1h30m3s)\u001b[0m Warning: The following resource request cannot be scheduled right now: {'CPU': 2.0}. This is likely due to all cluster resources being claimed by actors. Consider creating fewer actors or adding more nodes to this Ray cluster.\n",
      "\u001b[33m(autoscaler +1h30m38s)\u001b[0m Warning: The following resource request cannot be scheduled right now: {'CPU': 2.0}. This is likely due to all cluster resources being claimed by actors. Consider creating fewer actors or adding more nodes to this Ray cluster.\n",
      "\u001b[33m(autoscaler +1h31m13s)\u001b[0m Warning: The following resource request cannot be scheduled right now: {'CPU': 2.0}. This is likely due to all cluster resources being claimed by actors. Consider creating fewer actors or adding more nodes to this Ray cluster.\n",
      "\u001b[33m(autoscaler +1h31m48s)\u001b[0m Warning: The following resource request cannot be scheduled right now: {'CPU': 2.0}. This is likely due to all cluster resources being claimed by actors. Consider creating fewer actors or adding more nodes to this Ray cluster.\n",
      "\u001b[33m(autoscaler +1h32m24s)\u001b[0m Warning: The following resource request cannot be scheduled right now: {'CPU': 2.0}. This is likely due to all cluster resources being claimed by actors. Consider creating fewer actors or adding more nodes to this Ray cluster.\n",
      "\u001b[33m(autoscaler +1h32m59s)\u001b[0m Warning: The following resource request cannot be scheduled right now: {'CPU': 2.0}. This is likely due to all cluster resources being claimed by actors. Consider creating fewer actors or adding more nodes to this Ray cluster.\n",
      "\u001b[33m(autoscaler +1h33m34s)\u001b[0m Warning: The following resource request cannot be scheduled right now: {'CPU': 2.0}. This is likely due to all cluster resources being claimed by actors. Consider creating fewer actors or adding more nodes to this Ray cluster.\n",
      "\u001b[33m(autoscaler +1h34m9s)\u001b[0m Warning: The following resource request cannot be scheduled right now: {'CPU': 2.0}. This is likely due to all cluster resources being claimed by actors. Consider creating fewer actors or adding more nodes to this Ray cluster.\n",
      "\u001b[33m(autoscaler +1h34m44s)\u001b[0m Warning: The following resource request cannot be scheduled right now: {'CPU': 2.0}. This is likely due to all cluster resources being claimed by actors. Consider creating fewer actors or adding more nodes to this Ray cluster.\n",
      "\u001b[33m(autoscaler +1h35m19s)\u001b[0m Warning: The following resource request cannot be scheduled right now: {'CPU': 2.0}. This is likely due to all cluster resources being claimed by actors. Consider creating fewer actors or adding more nodes to this Ray cluster.\n",
      "\u001b[33m(autoscaler +1h35m54s)\u001b[0m Warning: The following resource request cannot be scheduled right now: {'CPU': 2.0}. This is likely due to all cluster resources being claimed by actors. Consider creating fewer actors or adding more nodes to this Ray cluster.\n",
      "\u001b[33m(autoscaler +1h36m29s)\u001b[0m Warning: The following resource request cannot be scheduled right now: {'CPU': 2.0}. This is likely due to all cluster resources being claimed by actors. Consider creating fewer actors or adding more nodes to this Ray cluster.\n",
      "\u001b[33m(autoscaler +1h37m4s)\u001b[0m Warning: The following resource request cannot be scheduled right now: {'CPU': 2.0}. This is likely due to all cluster resources being claimed by actors. Consider creating fewer actors or adding more nodes to this Ray cluster.\n",
      "\u001b[33m(autoscaler +1h37m39s)\u001b[0m Warning: The following resource request cannot be scheduled right now: {'CPU': 2.0}. This is likely due to all cluster resources being claimed by actors. Consider creating fewer actors or adding more nodes to this Ray cluster.\n",
      "\u001b[33m(autoscaler +1h38m14s)\u001b[0m Warning: The following resource request cannot be scheduled right now: {'CPU': 2.0}. This is likely due to all cluster resources being claimed by actors. Consider creating fewer actors or adding more nodes to this Ray cluster.\n",
      "\u001b[33m(autoscaler +1h38m50s)\u001b[0m Warning: The following resource request cannot be scheduled right now: {'CPU': 2.0}. This is likely due to all cluster resources being claimed by actors. Consider creating fewer actors or adding more nodes to this Ray cluster.\n",
      "\u001b[33m(autoscaler +1h39m25s)\u001b[0m Warning: The following resource request cannot be scheduled right now: {'CPU': 2.0}. This is likely due to all cluster resources being claimed by actors. Consider creating fewer actors or adding more nodes to this Ray cluster.\n",
      "\u001b[33m(autoscaler +1h40m0s)\u001b[0m Warning: The following resource request cannot be scheduled right now: {'CPU': 2.0}. This is likely due to all cluster resources being claimed by actors. Consider creating fewer actors or adding more nodes to this Ray cluster.\n",
      "\u001b[33m(autoscaler +1h40m35s)\u001b[0m Warning: The following resource request cannot be scheduled right now: {'CPU': 2.0}. This is likely due to all cluster resources being claimed by actors. Consider creating fewer actors or adding more nodes to this Ray cluster.\n",
      "\u001b[33m(autoscaler +1h41m10s)\u001b[0m Warning: The following resource request cannot be scheduled right now: {'CPU': 2.0}. This is likely due to all cluster resources being claimed by actors. Consider creating fewer actors or adding more nodes to this Ray cluster.\n",
      "\u001b[33m(autoscaler +1h41m45s)\u001b[0m Warning: The following resource request cannot be scheduled right now: {'CPU': 2.0}. This is likely due to all cluster resources being claimed by actors. Consider creating fewer actors or adding more nodes to this Ray cluster.\n",
      "\u001b[33m(autoscaler +1h42m20s)\u001b[0m Warning: The following resource request cannot be scheduled right now: {'CPU': 2.0}. This is likely due to all cluster resources being claimed by actors. Consider creating fewer actors or adding more nodes to this Ray cluster.\n",
      "\u001b[33m(autoscaler +1h42m55s)\u001b[0m Warning: The following resource request cannot be scheduled right now: {'CPU': 2.0}. This is likely due to all cluster resources being claimed by actors. Consider creating fewer actors or adding more nodes to this Ray cluster.\n",
      "\u001b[33m(autoscaler +1h43m30s)\u001b[0m Warning: The following resource request cannot be scheduled right now: {'CPU': 2.0}. This is likely due to all cluster resources being claimed by actors. Consider creating fewer actors or adding more nodes to this Ray cluster.\n",
      "\u001b[33m(autoscaler +1h44m5s)\u001b[0m Warning: The following resource request cannot be scheduled right now: {'CPU': 2.0}. This is likely due to all cluster resources being claimed by actors. Consider creating fewer actors or adding more nodes to this Ray cluster.\n"
     ]
    },
    {
     "name": "stderr",
     "output_type": "stream",
     "text": [
      "\u001b[36m(_dystack pid=166)\u001b[0m \t0.9035\t = Validation score   (roc_auc)\n",
      "\u001b[36m(_dystack pid=166)\u001b[0m \t1759.1s\t = Training   runtime\n",
      "\u001b[36m(_dystack pid=166)\u001b[0m \t39.08s\t = Validation runtime\n",
      "\u001b[36m(_dystack pid=166)\u001b[0m Fitting model: XGBoost_BAG_L2 ... Training model for up to 3299.39s of the 3299.14s of remaining time.\n",
      "\u001b[36m(_dystack pid=166)\u001b[0m \tFitting 10 child models (S1F1 - S1F10) | Fitting with ParallelLocalFoldFittingStrategy (4 workers, per: cpus=1, gpus=0, memory=0.19%)\n"
     ]
    },
    {
     "name": "stdout",
     "output_type": "stream",
     "text": [
      "\u001b[33m(autoscaler +1h50m6s)\u001b[0m Warning: The following resource request cannot be scheduled right now: {'CPU': 1.0}. This is likely due to all cluster resources being claimed by actors. Consider creating fewer actors or adding more nodes to this Ray cluster.\n"
     ]
    },
    {
     "name": "stderr",
     "output_type": "stream",
     "text": [
      "\u001b[36m(_dystack pid=166)\u001b[0m \t0.9025\t = Validation score   (roc_auc)\n",
      "\u001b[36m(_dystack pid=166)\u001b[0m \t11.0s\t = Training   runtime\n",
      "\u001b[36m(_dystack pid=166)\u001b[0m \t0.07s\t = Validation runtime\n",
      "\u001b[36m(_dystack pid=166)\u001b[0m Fitting model: NeuralNetTorch_BAG_L2 ... Training model for up to 3285.29s of the 3285.03s of remaining time.\n",
      "\u001b[36m(_dystack pid=166)\u001b[0m \tFitting 10 child models (S1F1 - S1F10) | Fitting with ParallelLocalFoldFittingStrategy (4 workers, per: cpus=1, gpus=0, memory=0.02%)\n"
     ]
    },
    {
     "name": "stdout",
     "output_type": "stream",
     "text": [
      "\u001b[33m(autoscaler +1h50m41s)\u001b[0m Warning: The following resource request cannot be scheduled right now: {'CPU': 1.0}. This is likely due to all cluster resources being claimed by actors. Consider creating fewer actors or adding more nodes to this Ray cluster.\n"
     ]
    },
    {
     "name": "stderr",
     "output_type": "stream",
     "text": [
      "\u001b[36m(_dystack pid=166)\u001b[0m \t0.903\t = Validation score   (roc_auc)\n",
      "\u001b[36m(_dystack pid=166)\u001b[0m \t34.26s\t = Training   runtime\n",
      "\u001b[36m(_dystack pid=166)\u001b[0m \t0.35s\t = Validation runtime\n",
      "\u001b[36m(_dystack pid=166)\u001b[0m Fitting model: LightGBMLarge_BAG_L2 ... Training model for up to 3248.07s of the 3247.81s of remaining time.\n",
      "\u001b[36m(_dystack pid=166)\u001b[0m \tFitting 10 child models (S1F1 - S1F10) | Fitting with ParallelLocalFoldFittingStrategy (4 workers, per: cpus=1, gpus=0, memory=0.33%)\n",
      "\u001b[36m(_dystack pid=166)\u001b[0m \t0.8858\t = Validation score   (roc_auc)\n",
      "\u001b[36m(_dystack pid=166)\u001b[0m \t22.03s\t = Training   runtime\n",
      "\u001b[36m(_dystack pid=166)\u001b[0m \t0.04s\t = Validation runtime\n",
      "\u001b[36m(_dystack pid=166)\u001b[0m Fitting model: CatBoost_r177_BAG_L2 ... Training model for up to 3222.99s of the 3222.73s of remaining time.\n",
      "\u001b[36m(_dystack pid=166)\u001b[0m \tFitting 10 child models (S1F1 - S1F10) | Fitting with ParallelLocalFoldFittingStrategy (4 workers, per: cpus=1, gpus=0, memory=0.17%)\n"
     ]
    },
    {
     "name": "stdout",
     "output_type": "stream",
     "text": [
      "\u001b[33m(autoscaler +1h51m21s)\u001b[0m Warning: The following resource request cannot be scheduled right now: {'CPU': 1.0}. This is likely due to all cluster resources being claimed by actors. Consider creating fewer actors or adding more nodes to this Ray cluster.\n"
     ]
    },
    {
     "name": "stderr",
     "output_type": "stream",
     "text": [
      "\u001b[36m(_dystack pid=166)\u001b[0m \t0.9053\t = Validation score   (roc_auc)\n",
      "\u001b[36m(_dystack pid=166)\u001b[0m \t19.65s\t = Training   runtime\n",
      "\u001b[36m(_dystack pid=166)\u001b[0m \t0.05s\t = Validation runtime\n",
      "\u001b[36m(_dystack pid=166)\u001b[0m Fitting model: NeuralNetTorch_r79_BAG_L2 ... Training model for up to 3200.20s of the 3199.94s of remaining time.\n",
      "\u001b[36m(_dystack pid=166)\u001b[0m \tFitting 10 child models (S1F1 - S1F10) | Fitting with ParallelLocalFoldFittingStrategy (4 workers, per: cpus=1, gpus=0, memory=0.02%)\n"
     ]
    },
    {
     "name": "stdout",
     "output_type": "stream",
     "text": [
      "\u001b[33m(autoscaler +1h51m56s)\u001b[0m Warning: The following resource request cannot be scheduled right now: {'CPU': 1.0}. This is likely due to all cluster resources being claimed by actors. Consider creating fewer actors or adding more nodes to this Ray cluster.\n"
     ]
    },
    {
     "name": "stderr",
     "output_type": "stream",
     "text": [
      "\u001b[36m(_dystack pid=166)\u001b[0m \t0.9039\t = Validation score   (roc_auc)\n",
      "\u001b[36m(_dystack pid=166)\u001b[0m \t48.01s\t = Training   runtime\n",
      "\u001b[36m(_dystack pid=166)\u001b[0m \t0.28s\t = Validation runtime\n",
      "\u001b[36m(_dystack pid=166)\u001b[0m Fitting model: LightGBM_r131_BAG_L2 ... Training model for up to 3149.18s of the 3148.92s of remaining time.\n",
      "\u001b[36m(_dystack pid=166)\u001b[0m \tFitting 10 child models (S1F1 - S1F10) | Fitting with ParallelLocalFoldFittingStrategy (4 workers, per: cpus=1, gpus=0, memory=0.15%)\n"
     ]
    },
    {
     "name": "stdout",
     "output_type": "stream",
     "text": [
      "\u001b[33m(autoscaler +1h52m36s)\u001b[0m Warning: The following resource request cannot be scheduled right now: {'CPU': 1.0}. This is likely due to all cluster resources being claimed by actors. Consider creating fewer actors or adding more nodes to this Ray cluster.\n"
     ]
    },
    {
     "name": "stderr",
     "output_type": "stream",
     "text": [
      "\u001b[36m(_dystack pid=166)\u001b[0m \t0.9026\t = Validation score   (roc_auc)\n",
      "\u001b[36m(_dystack pid=166)\u001b[0m \t17.03s\t = Training   runtime\n",
      "\u001b[36m(_dystack pid=166)\u001b[0m \t0.07s\t = Validation runtime\n",
      "\u001b[36m(_dystack pid=166)\u001b[0m Fitting model: NeuralNetFastAI_r191_BAG_L2 ... Training model for up to 3129.16s of the 3128.90s of remaining time.\n",
      "\u001b[36m(_dystack pid=166)\u001b[0m \tFitting 10 child models (S1F1 - S1F10) | Fitting with ParallelLocalFoldFittingStrategy (4 workers, per: cpus=1, gpus=0, memory=0.04%)\n",
      "\u001b[36m(_ray_fit pid=50556)\u001b[0m No improvement since epoch 12: early stopping\n"
     ]
    },
    {
     "name": "stdout",
     "output_type": "stream",
     "text": [
      "\u001b[33m(autoscaler +1h53m12s)\u001b[0m Warning: The following resource request cannot be scheduled right now: {'CPU': 1.0}. This is likely due to all cluster resources being claimed by actors. Consider creating fewer actors or adding more nodes to this Ray cluster.\n"
     ]
    },
    {
     "name": "stderr",
     "output_type": "stream",
     "text": [
      "\u001b[36m(_ray_fit pid=50742)\u001b[0m No improvement since epoch 13: early stopping\u001b[32m [repeated 3x across cluster]\u001b[0m\n",
      "\u001b[36m(_ray_fit pid=50933)\u001b[0m No improvement since epoch 10: early stopping\u001b[32m [repeated 3x across cluster]\u001b[0m\n",
      "\u001b[36m(_dystack pid=166)\u001b[0m \t0.8957\t = Validation score   (roc_auc)\n",
      "\u001b[36m(_dystack pid=166)\u001b[0m \t39.2s\t = Training   runtime\n",
      "\u001b[36m(_dystack pid=166)\u001b[0m \t0.17s\t = Validation runtime\n",
      "\u001b[36m(_dystack pid=166)\u001b[0m Fitting model: CatBoost_r9_BAG_L2 ... Training model for up to 3086.83s of the 3086.58s of remaining time.\n",
      "\u001b[36m(_dystack pid=166)\u001b[0m \tFitting 10 child models (S1F1 - S1F10) | Fitting with ParallelLocalFoldFittingStrategy (4 workers, per: cpus=1, gpus=0, memory=0.63%)\n"
     ]
    },
    {
     "name": "stdout",
     "output_type": "stream",
     "text": [
      "\u001b[33m(autoscaler +1h53m47s)\u001b[0m Warning: The following resource request cannot be scheduled right now: {'CPU': 1.0}. This is likely due to all cluster resources being claimed by actors. Consider creating fewer actors or adding more nodes to this Ray cluster.\n",
      "\u001b[33m(autoscaler +1h54m22s)\u001b[0m Warning: The following resource request cannot be scheduled right now: {'CPU': 1.0}. This is likely due to all cluster resources being claimed by actors. Consider creating fewer actors or adding more nodes to this Ray cluster.\n"
     ]
    },
    {
     "name": "stderr",
     "output_type": "stream",
     "text": [
      "\u001b[36m(_dystack pid=166)\u001b[0m \t0.9037\t = Validation score   (roc_auc)\n",
      "\u001b[36m(_dystack pid=166)\u001b[0m \t79.1s\t = Training   runtime\n",
      "\u001b[36m(_dystack pid=166)\u001b[0m \t0.05s\t = Validation runtime\n",
      "\u001b[36m(_dystack pid=166)\u001b[0m Fitting model: LightGBM_r96_BAG_L2 ... Training model for up to 3004.82s of the 3004.56s of remaining time.\n",
      "\u001b[36m(_ray_fit pid=50931)\u001b[0m No improvement since epoch 18: early stopping\n",
      "\u001b[36m(_dystack pid=166)\u001b[0m \tFitting 10 child models (S1F1 - S1F10) | Fitting with ParallelLocalFoldFittingStrategy (4 workers, per: cpus=1, gpus=0, memory=0.06%)\n"
     ]
    },
    {
     "name": "stdout",
     "output_type": "stream",
     "text": [
      "\u001b[33m(autoscaler +1h54m57s)\u001b[0m Warning: The following resource request cannot be scheduled right now: {'CPU': 1.0}. This is likely due to all cluster resources being claimed by actors. Consider creating fewer actors or adding more nodes to this Ray cluster.\n",
      "\u001b[36m(_ray_fit pid=51416)\u001b[0m [1000]\tvalid_set's binary_logloss: 0.272396\n",
      "\u001b[36m(_ray_fit pid=51540)\u001b[0m [1000]\tvalid_set's binary_logloss: 0.335796\n",
      "\u001b[36m(_ray_fit pid=51540)\u001b[0m [2000]\tvalid_set's binary_logloss: 0.335077\n"
     ]
    },
    {
     "name": "stderr",
     "output_type": "stream",
     "text": [
      "\u001b[36m(_dystack pid=166)\u001b[0m \t0.9044\t = Validation score   (roc_auc)\n",
      "\u001b[36m(_dystack pid=166)\u001b[0m \t14.09s\t = Training   runtime\n",
      "\u001b[36m(_dystack pid=166)\u001b[0m \t0.15s\t = Validation runtime\n",
      "\u001b[36m(_dystack pid=166)\u001b[0m Fitting model: NeuralNetTorch_r22_BAG_L2 ... Training model for up to 2987.86s of the 2987.60s of remaining time.\n",
      "\u001b[36m(_dystack pid=166)\u001b[0m \tFitting 10 child models (S1F1 - S1F10) | Fitting with ParallelLocalFoldFittingStrategy (4 workers, per: cpus=1, gpus=0, memory=0.02%)\n"
     ]
    },
    {
     "name": "stdout",
     "output_type": "stream",
     "text": [
      "\u001b[33m(autoscaler +1h55m32s)\u001b[0m Warning: The following resource request cannot be scheduled right now: {'CPU': 1.0}. This is likely due to all cluster resources being claimed by actors. Consider creating fewer actors or adding more nodes to this Ray cluster.\n"
     ]
    },
    {
     "name": "stderr",
     "output_type": "stream",
     "text": [
      "\u001b[36m(_dystack pid=166)\u001b[0m \t0.9051\t = Validation score   (roc_auc)\n",
      "\u001b[36m(_dystack pid=166)\u001b[0m \t49.58s\t = Training   runtime\n",
      "\u001b[36m(_dystack pid=166)\u001b[0m \t0.31s\t = Validation runtime\n",
      "\u001b[36m(_dystack pid=166)\u001b[0m Fitting model: XGBoost_r33_BAG_L2 ... Training model for up to 2935.31s of the 2935.05s of remaining time.\n",
      "\u001b[36m(_dystack pid=166)\u001b[0m \tFitting 10 child models (S1F1 - S1F10) | Fitting with ParallelLocalFoldFittingStrategy (4 workers, per: cpus=1, gpus=0, memory=1.25%)\n"
     ]
    },
    {
     "name": "stdout",
     "output_type": "stream",
     "text": [
      "\u001b[33m(autoscaler +1h56m7s)\u001b[0m Warning: The following resource request cannot be scheduled right now: {'CPU': 1.0}. This is likely due to all cluster resources being claimed by actors. Consider creating fewer actors or adding more nodes to this Ray cluster.\n"
     ]
    },
    {
     "name": "stderr",
     "output_type": "stream",
     "text": [
      "\u001b[36m(_dystack pid=166)\u001b[0m \t0.9028\t = Validation score   (roc_auc)\n",
      "\u001b[36m(_dystack pid=166)\u001b[0m \t17.74s\t = Training   runtime\n",
      "\u001b[36m(_dystack pid=166)\u001b[0m \t0.13s\t = Validation runtime\n",
      "\u001b[36m(_dystack pid=166)\u001b[0m Fitting model: ExtraTrees_r42_BAG_L2 ... Training model for up to 2914.74s of the 2914.48s of remaining time.\n",
      "\u001b[36m(_dystack pid=166)\u001b[0m \tForcing `use_child_oof=False` because `groups` is specified\n",
      "\u001b[36m(_dystack pid=166)\u001b[0m \tFitting 10 child models (S1F1 - S1F10) | Fitting with ParallelLocalFoldFittingStrategy (4 workers, per: cpus=1, gpus=0, memory=0.01%)\n",
      "\u001b[36m(_dystack pid=166)\u001b[0m \t0.899\t = Validation score   (roc_auc)\n",
      "\u001b[36m(_dystack pid=166)\u001b[0m \t12.95s\t = Training   runtime\n",
      "\u001b[36m(_dystack pid=166)\u001b[0m \t0.9s\t = Validation runtime\n",
      "\u001b[36m(_dystack pid=166)\u001b[0m Fitting model: CatBoost_r137_BAG_L2 ... Training model for up to 2898.76s of the 2898.50s of remaining time.\n",
      "\u001b[36m(_dystack pid=166)\u001b[0m \tFitting 10 child models (S1F1 - S1F10) | Fitting with ParallelLocalFoldFittingStrategy (4 workers, per: cpus=1, gpus=0, memory=0.06%)\n"
     ]
    },
    {
     "name": "stdout",
     "output_type": "stream",
     "text": [
      "\u001b[33m(autoscaler +1h56m47s)\u001b[0m Warning: The following resource request cannot be scheduled right now: {'CPU': 1.0}. This is likely due to all cluster resources being claimed by actors. Consider creating fewer actors or adding more nodes to this Ray cluster.\n"
     ]
    },
    {
     "name": "stderr",
     "output_type": "stream",
     "text": [
      "\u001b[36m(_dystack pid=166)\u001b[0m \t0.9044\t = Validation score   (roc_auc)\n",
      "\u001b[36m(_dystack pid=166)\u001b[0m \t14.47s\t = Training   runtime\n",
      "\u001b[36m(_dystack pid=166)\u001b[0m \t0.05s\t = Validation runtime\n",
      "\u001b[36m(_dystack pid=166)\u001b[0m Fitting model: NeuralNetFastAI_r102_BAG_L2 ... Training model for up to 2881.01s of the 2880.75s of remaining time.\n",
      "\u001b[36m(_dystack pid=166)\u001b[0m \tFitting 10 child models (S1F1 - S1F10) | Fitting with ParallelLocalFoldFittingStrategy (4 workers, per: cpus=1, gpus=0, memory=0.04%)\n"
     ]
    },
    {
     "name": "stdout",
     "output_type": "stream",
     "text": [
      "\u001b[33m(autoscaler +1h57m22s)\u001b[0m Warning: The following resource request cannot be scheduled right now: {'CPU': 1.0}. This is likely due to all cluster resources being claimed by actors. Consider creating fewer actors or adding more nodes to this Ray cluster.\n"
     ]
    },
    {
     "name": "stderr",
     "output_type": "stream",
     "text": [
      "\u001b[36m(_ray_fit pid=53304)\u001b[0m No improvement since epoch 3: early stopping\n",
      "\u001b[36m(_ray_fit pid=53523)\u001b[0m No improvement since epoch 6: early stopping\u001b[32m [repeated 2x across cluster]\u001b[0m\n",
      "\u001b[36m(_dystack pid=166)\u001b[0m \t0.9048\t = Validation score   (roc_auc)\n",
      "\u001b[36m(_dystack pid=166)\u001b[0m \t65.51s\t = Training   runtime\n",
      "\u001b[36m(_dystack pid=166)\u001b[0m \t0.33s\t = Validation runtime\n",
      "\u001b[36m(_dystack pid=166)\u001b[0m Fitting model: CatBoost_r13_BAG_L2 ... Training model for up to 2812.62s of the 2812.36s of remaining time.\n",
      "\u001b[36m(_dystack pid=166)\u001b[0m \tFitting 10 child models (S1F1 - S1F10) | Fitting with ParallelLocalFoldFittingStrategy (4 workers, per: cpus=1, gpus=0, memory=0.63%)\n"
     ]
    },
    {
     "name": "stdout",
     "output_type": "stream",
     "text": [
      "\u001b[33m(autoscaler +1h58m12s)\u001b[0m Warning: The following resource request cannot be scheduled right now: {'CPU': 1.0}. This is likely due to all cluster resources being claimed by actors. Consider creating fewer actors or adding more nodes to this Ray cluster.\n",
      "\u001b[33m(autoscaler +1h58m47s)\u001b[0m Warning: The following resource request cannot be scheduled right now: {'CPU': 1.0}. This is likely due to all cluster resources being claimed by actors. Consider creating fewer actors or adding more nodes to this Ray cluster.\n"
     ]
    },
    {
     "name": "stderr",
     "output_type": "stream",
     "text": [
      "\u001b[36m(_dystack pid=166)\u001b[0m \t0.9039\t = Validation score   (roc_auc)\n",
      "\u001b[36m(_dystack pid=166)\u001b[0m \t65.71s\t = Training   runtime\n",
      "\u001b[36m(_dystack pid=166)\u001b[0m \t0.05s\t = Validation runtime\n",
      "\u001b[36m(_dystack pid=166)\u001b[0m Fitting model: RandomForest_r195_BAG_L2 ... Training model for up to 2743.70s of the 2743.44s of remaining time.\n",
      "\u001b[36m(_dystack pid=166)\u001b[0m \tForcing `use_child_oof=False` because `groups` is specified\n",
      "\u001b[36m(_dystack pid=166)\u001b[0m \tFitting 10 child models (S1F1 - S1F10) | Fitting with ParallelLocalFoldFittingStrategy (4 workers, per: cpus=1, gpus=0, memory=0.01%)\n"
     ]
    },
    {
     "name": "stdout",
     "output_type": "stream",
     "text": [
      "\u001b[33m(autoscaler +1h59m22s)\u001b[0m Warning: The following resource request cannot be scheduled right now: {'CPU': 1.0}. This is likely due to all cluster resources being claimed by actors. Consider creating fewer actors or adding more nodes to this Ray cluster.\n"
     ]
    },
    {
     "name": "stderr",
     "output_type": "stream",
     "text": [
      "\u001b[36m(_dystack pid=166)\u001b[0m \t0.8953\t = Validation score   (roc_auc)\n",
      "\u001b[36m(_dystack pid=166)\u001b[0m \t34.6s\t = Training   runtime\n",
      "\u001b[36m(_dystack pid=166)\u001b[0m \t1.27s\t = Validation runtime\n",
      "\u001b[36m(_dystack pid=166)\u001b[0m Fitting model: LightGBM_r188_BAG_L2 ... Training model for up to 2706.18s of the 2705.92s of remaining time.\n",
      "\u001b[36m(_dystack pid=166)\u001b[0m \tFitting 10 child models (S1F1 - S1F10) | Fitting with ParallelLocalFoldFittingStrategy (4 workers, per: cpus=1, gpus=0, memory=0.32%)\n"
     ]
    },
    {
     "name": "stdout",
     "output_type": "stream",
     "text": [
      "\u001b[33m(autoscaler +1h59m57s)\u001b[0m Warning: The following resource request cannot be scheduled right now: {'CPU': 1.0}. This is likely due to all cluster resources being claimed by actors. Consider creating fewer actors or adding more nodes to this Ray cluster.\n"
     ]
    },
    {
     "name": "stderr",
     "output_type": "stream",
     "text": [
      "\u001b[36m(_dystack pid=166)\u001b[0m \t0.9016\t = Validation score   (roc_auc)\n",
      "\u001b[36m(_dystack pid=166)\u001b[0m \t14.78s\t = Training   runtime\n",
      "\u001b[36m(_dystack pid=166)\u001b[0m \t0.05s\t = Validation runtime\n",
      "\u001b[36m(_dystack pid=166)\u001b[0m Fitting model: NeuralNetFastAI_r145_BAG_L2 ... Training model for up to 2688.34s of the 2688.09s of remaining time.\n",
      "\u001b[36m(_dystack pid=166)\u001b[0m \tFitting 10 child models (S1F1 - S1F10) | Fitting with ParallelLocalFoldFittingStrategy (4 workers, per: cpus=1, gpus=0, memory=0.04%)\n"
     ]
    },
    {
     "name": "stdout",
     "output_type": "stream",
     "text": [
      "\u001b[33m(autoscaler +2h33s)\u001b[0m Warning: The following resource request cannot be scheduled right now: {'CPU': 1.0}. This is likely due to all cluster resources being claimed by actors. Consider creating fewer actors or adding more nodes to this Ray cluster.\n"
     ]
    },
    {
     "name": "stderr",
     "output_type": "stream",
     "text": [
      "\u001b[36m(_ray_fit pid=55151)\u001b[0m No improvement since epoch 10: early stopping\n",
      "\u001b[36m(_ray_fit pid=55336)\u001b[0m No improvement since epoch 10: early stopping\u001b[32m [repeated 3x across cluster]\u001b[0m\n",
      "\u001b[36m(_dystack pid=166)\u001b[0m \t0.8998\t = Validation score   (roc_auc)\n",
      "\u001b[36m(_dystack pid=166)\u001b[0m \t37.01s\t = Training   runtime\n",
      "\u001b[36m(_dystack pid=166)\u001b[0m \t0.23s\t = Validation runtime\n",
      "\u001b[36m(_dystack pid=166)\u001b[0m Fitting model: XGBoost_r89_BAG_L2 ... Training model for up to 2648.34s of the 2648.08s of remaining time.\n",
      "\u001b[36m(_dystack pid=166)\u001b[0m \tFitting 10 child models (S1F1 - S1F10) | Fitting with ParallelLocalFoldFittingStrategy (4 workers, per: cpus=1, gpus=0, memory=0.18%)\n",
      "\u001b[36m(_dystack pid=166)\u001b[0m \t0.9018\t = Validation score   (roc_auc)\n",
      "\u001b[36m(_dystack pid=166)\u001b[0m \t10.03s\t = Training   runtime\n",
      "\u001b[36m(_dystack pid=166)\u001b[0m \t0.07s\t = Validation runtime\n",
      "\u001b[36m(_dystack pid=166)\u001b[0m Fitting model: NeuralNetTorch_r30_BAG_L2 ... Training model for up to 2635.23s of the 2634.98s of remaining time.\n",
      "\u001b[36m(_dystack pid=166)\u001b[0m \tFitting 10 child models (S1F1 - S1F10) | Fitting with ParallelLocalFoldFittingStrategy (4 workers, per: cpus=1, gpus=0, memory=0.02%)\n"
     ]
    },
    {
     "name": "stdout",
     "output_type": "stream",
     "text": [
      "\u001b[33m(autoscaler +2h1m8s)\u001b[0m Warning: The following resource request cannot be scheduled right now: {'CPU': 1.0}. This is likely due to all cluster resources being claimed by actors. Consider creating fewer actors or adding more nodes to this Ray cluster.\n",
      "\u001b[33m(autoscaler +2h1m43s)\u001b[0m Warning: The following resource request cannot be scheduled right now: {'CPU': 1.0}. This is likely due to all cluster resources being claimed by actors. Consider creating fewer actors or adding more nodes to this Ray cluster.\n"
     ]
    },
    {
     "name": "stderr",
     "output_type": "stream",
     "text": [
      "\u001b[36m(_dystack pid=166)\u001b[0m \t0.8983\t = Validation score   (roc_auc)\n",
      "\u001b[36m(_dystack pid=166)\u001b[0m \t62.35s\t = Training   runtime\n",
      "\u001b[36m(_dystack pid=166)\u001b[0m \t0.28s\t = Validation runtime\n",
      "\u001b[36m(_dystack pid=166)\u001b[0m Fitting model: LightGBM_r130_BAG_L2 ... Training model for up to 2569.98s of the 2569.73s of remaining time.\n",
      "\u001b[36m(_dystack pid=166)\u001b[0m \tFitting 10 child models (S1F1 - S1F10) | Fitting with ParallelLocalFoldFittingStrategy (4 workers, per: cpus=1, gpus=0, memory=0.23%)\n"
     ]
    },
    {
     "name": "stdout",
     "output_type": "stream",
     "text": [
      "\u001b[33m(autoscaler +2h2m18s)\u001b[0m Warning: The following resource request cannot be scheduled right now: {'CPU': 1.0}. This is likely due to all cluster resources being claimed by actors. Consider creating fewer actors or adding more nodes to this Ray cluster.\n"
     ]
    },
    {
     "name": "stderr",
     "output_type": "stream",
     "text": [
      "\u001b[36m(_dystack pid=166)\u001b[0m \t0.9008\t = Validation score   (roc_auc)\n",
      "\u001b[36m(_dystack pid=166)\u001b[0m \t13.84s\t = Training   runtime\n",
      "\u001b[36m(_dystack pid=166)\u001b[0m \t0.06s\t = Validation runtime\n",
      "\u001b[36m(_dystack pid=166)\u001b[0m Fitting model: NeuralNetTorch_r86_BAG_L2 ... Training model for up to 2553.07s of the 2552.81s of remaining time.\n",
      "\u001b[36m(_dystack pid=166)\u001b[0m \tFitting 10 child models (S1F1 - S1F10) | Fitting with ParallelLocalFoldFittingStrategy (4 workers, per: cpus=1, gpus=0, memory=0.02%)\n",
      "\u001b[36m(_dystack pid=166)\u001b[0m \t0.9019\t = Validation score   (roc_auc)\n",
      "\u001b[36m(_dystack pid=166)\u001b[0m \t32.59s\t = Training   runtime\n",
      "\u001b[36m(_dystack pid=166)\u001b[0m \t0.52s\t = Validation runtime\n",
      "\u001b[36m(_dystack pid=166)\u001b[0m Fitting model: CatBoost_r50_BAG_L2 ... Training model for up to 2517.52s of the 2517.26s of remaining time.\n",
      "\u001b[36m(_dystack pid=166)\u001b[0m \tFitting 10 child models (S1F1 - S1F10) | Fitting with ParallelLocalFoldFittingStrategy (4 workers, per: cpus=1, gpus=0, memory=0.06%)\n"
     ]
    },
    {
     "name": "stdout",
     "output_type": "stream",
     "text": [
      "\u001b[33m(autoscaler +2h3m8s)\u001b[0m Warning: The following resource request cannot be scheduled right now: {'CPU': 1.0}. This is likely due to all cluster resources being claimed by actors. Consider creating fewer actors or adding more nodes to this Ray cluster.\n"
     ]
    },
    {
     "name": "stderr",
     "output_type": "stream",
     "text": [
      "\u001b[36m(_dystack pid=166)\u001b[0m \t0.9055\t = Validation score   (roc_auc)\n",
      "\u001b[36m(_dystack pid=166)\u001b[0m \t18.52s\t = Training   runtime\n",
      "\u001b[36m(_dystack pid=166)\u001b[0m \t0.06s\t = Validation runtime\n",
      "\u001b[36m(_dystack pid=166)\u001b[0m Fitting model: NeuralNetFastAI_r11_BAG_L2 ... Training model for up to 2495.92s of the 2495.66s of remaining time.\n",
      "\u001b[36m(_dystack pid=166)\u001b[0m \tFitting 10 child models (S1F1 - S1F10) | Fitting with ParallelLocalFoldFittingStrategy (4 workers, per: cpus=1, gpus=0, memory=0.04%)\n"
     ]
    },
    {
     "name": "stdout",
     "output_type": "stream",
     "text": [
      "\u001b[33m(autoscaler +2h3m43s)\u001b[0m Warning: The following resource request cannot be scheduled right now: {'CPU': 1.0}. This is likely due to all cluster resources being claimed by actors. Consider creating fewer actors or adding more nodes to this Ray cluster.\n"
     ]
    },
    {
     "name": "stderr",
     "output_type": "stream",
     "text": [
      "\u001b[36m(_ray_fit pid=57597)\u001b[0m No improvement since epoch 7: early stopping\n",
      "\u001b[36m(_dystack pid=166)\u001b[0m \t0.8996\t = Validation score   (roc_auc)\n",
      "\u001b[36m(_dystack pid=166)\u001b[0m \t43.64s\t = Training   runtime\n",
      "\u001b[36m(_dystack pid=166)\u001b[0m \t0.21s\t = Validation runtime\n",
      "\u001b[36m(_dystack pid=166)\u001b[0m Fitting model: XGBoost_r194_BAG_L2 ... Training model for up to 2449.57s of the 2449.31s of remaining time.\n",
      "\u001b[36m(_dystack pid=166)\u001b[0m \tFitting 10 child models (S1F1 - S1F10) | Fitting with ParallelLocalFoldFittingStrategy (4 workers, per: cpus=1, gpus=0, memory=0.34%)\n"
     ]
    },
    {
     "name": "stdout",
     "output_type": "stream",
     "text": [
      "\u001b[33m(autoscaler +2h4m18s)\u001b[0m Warning: The following resource request cannot be scheduled right now: {'CPU': 1.0}. This is likely due to all cluster resources being claimed by actors. Consider creating fewer actors or adding more nodes to this Ray cluster.\n"
     ]
    },
    {
     "name": "stderr",
     "output_type": "stream",
     "text": [
      "\u001b[36m(_dystack pid=166)\u001b[0m \t0.9023\t = Validation score   (roc_auc)\n",
      "\u001b[36m(_dystack pid=166)\u001b[0m \t11.23s\t = Training   runtime\n",
      "\u001b[36m(_dystack pid=166)\u001b[0m \t0.17s\t = Validation runtime\n",
      "\u001b[36m(_dystack pid=166)\u001b[0m Fitting model: ExtraTrees_r172_BAG_L2 ... Training model for up to 2435.32s of the 2435.06s of remaining time.\n",
      "\u001b[36m(_dystack pid=166)\u001b[0m \tForcing `use_child_oof=False` because `groups` is specified\n",
      "\u001b[36m(_dystack pid=166)\u001b[0m \tFitting 10 child models (S1F1 - S1F10) | Fitting with ParallelLocalFoldFittingStrategy (4 workers, per: cpus=1, gpus=0, memory=0.01%)\n",
      "\u001b[36m(_dystack pid=166)\u001b[0m \t0.9009\t = Validation score   (roc_auc)\n",
      "\u001b[36m(_dystack pid=166)\u001b[0m \t11.64s\t = Training   runtime\n",
      "\u001b[36m(_dystack pid=166)\u001b[0m \t0.94s\t = Validation runtime\n",
      "\u001b[36m(_dystack pid=166)\u001b[0m Fitting model: CatBoost_r69_BAG_L2 ... Training model for up to 2420.69s of the 2420.44s of remaining time.\n",
      "\u001b[36m(_dystack pid=166)\u001b[0m \tFitting 10 child models (S1F1 - S1F10) | Fitting with ParallelLocalFoldFittingStrategy (4 workers, per: cpus=1, gpus=0, memory=0.10%)\n"
     ]
    },
    {
     "name": "stdout",
     "output_type": "stream",
     "text": [
      "\u001b[33m(autoscaler +2h4m53s)\u001b[0m Warning: The following resource request cannot be scheduled right now: {'CPU': 1.0}. This is likely due to all cluster resources being claimed by actors. Consider creating fewer actors or adding more nodes to this Ray cluster.\n"
     ]
    },
    {
     "name": "stderr",
     "output_type": "stream",
     "text": [
      "\u001b[36m(_dystack pid=166)\u001b[0m \t0.9069\t = Validation score   (roc_auc)\n",
      "\u001b[36m(_dystack pid=166)\u001b[0m \t16.72s\t = Training   runtime\n",
      "\u001b[36m(_dystack pid=166)\u001b[0m \t0.05s\t = Validation runtime\n",
      "\u001b[36m(_dystack pid=166)\u001b[0m Fitting model: NeuralNetFastAI_r103_BAG_L2 ... Training model for up to 2401.06s of the 2400.80s of remaining time.\n",
      "\u001b[36m(_dystack pid=166)\u001b[0m \tFitting 10 child models (S1F1 - S1F10) | Fitting with ParallelLocalFoldFittingStrategy (4 workers, per: cpus=1, gpus=0, memory=0.04%)\n",
      "\u001b[36m(_ray_fit pid=58881)\u001b[0m No improvement since epoch 14: early stopping\n",
      "\u001b[36m(_ray_fit pid=59067)\u001b[0m No improvement since epoch 18: early stopping\u001b[32m [repeated 3x across cluster]\u001b[0m\n",
      "\u001b[36m(_ray_fit pid=59254)\u001b[0m No improvement since epoch 10: early stopping\n",
      "\u001b[36m(_ray_fit pid=59252)\u001b[0m No improvement since epoch 13: early stopping\n",
      "\u001b[36m(_dystack pid=166)\u001b[0m \t0.9047\t = Validation score   (roc_auc)\n",
      "\u001b[36m(_dystack pid=166)\u001b[0m \t30.68s\t = Training   runtime\n",
      "\u001b[36m(_dystack pid=166)\u001b[0m \t0.14s\t = Validation runtime\n",
      "\u001b[36m(_dystack pid=166)\u001b[0m Fitting model: NeuralNetTorch_r14_BAG_L2 ... Training model for up to 2367.56s of the 2367.30s of remaining time.\n",
      "\u001b[36m(_dystack pid=166)\u001b[0m \tFitting 10 child models (S1F1 - S1F10) | Fitting with ParallelLocalFoldFittingStrategy (4 workers, per: cpus=1, gpus=0, memory=0.02%)\n"
     ]
    },
    {
     "name": "stdout",
     "output_type": "stream",
     "text": [
      "\u001b[33m(autoscaler +2h5m38s)\u001b[0m Warning: The following resource request cannot be scheduled right now: {'CPU': 1.0}. This is likely due to all cluster resources being claimed by actors. Consider creating fewer actors or adding more nodes to this Ray cluster.\n"
     ]
    },
    {
     "name": "stderr",
     "output_type": "stream",
     "text": [
      "\u001b[36m(_dystack pid=166)\u001b[0m \t0.9011\t = Validation score   (roc_auc)\n",
      "\u001b[36m(_dystack pid=166)\u001b[0m \t28.28s\t = Training   runtime\n",
      "\u001b[36m(_dystack pid=166)\u001b[0m \t0.28s\t = Validation runtime\n",
      "\u001b[36m(_dystack pid=166)\u001b[0m Fitting model: LightGBM_r161_BAG_L2 ... Training model for up to 2336.12s of the 2335.86s of remaining time.\n",
      "\u001b[36m(_dystack pid=166)\u001b[0m \tFitting 10 child models (S1F1 - S1F10) | Fitting with ParallelLocalFoldFittingStrategy (4 workers, per: cpus=1, gpus=0, memory=0.63%)\n"
     ]
    },
    {
     "name": "stdout",
     "output_type": "stream",
     "text": [
      "\u001b[33m(autoscaler +2h6m13s)\u001b[0m Warning: The following resource request cannot be scheduled right now: {'CPU': 1.0}. This is likely due to all cluster resources being claimed by actors. Consider creating fewer actors or adding more nodes to this Ray cluster.\n"
     ]
    },
    {
     "name": "stderr",
     "output_type": "stream",
     "text": [
      "\u001b[36m(_dystack pid=166)\u001b[0m \t0.903\t = Validation score   (roc_auc)\n",
      "\u001b[36m(_dystack pid=166)\u001b[0m \t22.26s\t = Training   runtime\n",
      "\u001b[36m(_dystack pid=166)\u001b[0m \t0.2s\t = Validation runtime\n",
      "\u001b[36m(_dystack pid=166)\u001b[0m Fitting model: NeuralNetFastAI_r143_BAG_L2 ... Training model for up to 2310.58s of the 2310.32s of remaining time.\n",
      "\u001b[36m(_dystack pid=166)\u001b[0m \tFitting 10 child models (S1F1 - S1F10) | Fitting with ParallelLocalFoldFittingStrategy (4 workers, per: cpus=1, gpus=0, memory=0.04%)\n",
      "\u001b[36m(_ray_fit pid=60054)\u001b[0m No improvement since epoch 3: early stopping\n"
     ]
    },
    {
     "name": "stdout",
     "output_type": "stream",
     "text": [
      "\u001b[33m(autoscaler +2h6m48s)\u001b[0m Warning: The following resource request cannot be scheduled right now: {'CPU': 1.0}. This is likely due to all cluster resources being claimed by actors. Consider creating fewer actors or adding more nodes to this Ray cluster.\n"
     ]
    },
    {
     "name": "stderr",
     "output_type": "stream",
     "text": [
      "\u001b[36m(_ray_fit pid=60237)\u001b[0m No improvement since epoch 2: early stopping\n",
      "\u001b[36m(_dystack pid=166)\u001b[0m \t0.8806\t = Validation score   (roc_auc)\n",
      "\u001b[36m(_dystack pid=166)\u001b[0m \t23.2s\t = Training   runtime\n",
      "\u001b[36m(_dystack pid=166)\u001b[0m \t0.18s\t = Validation runtime\n",
      "\u001b[36m(_dystack pid=166)\u001b[0m Fitting model: CatBoost_r70_BAG_L2 ... Training model for up to 2284.40s of the 2284.14s of remaining time.\n",
      "\u001b[36m(_dystack pid=166)\u001b[0m \tFitting 10 child models (S1F1 - S1F10) | Fitting with ParallelLocalFoldFittingStrategy (4 workers, per: cpus=1, gpus=0, memory=0.18%)\n"
     ]
    },
    {
     "name": "stdout",
     "output_type": "stream",
     "text": [
      "\u001b[33m(autoscaler +2h7m23s)\u001b[0m Warning: The following resource request cannot be scheduled right now: {'CPU': 1.0}. This is likely due to all cluster resources being claimed by actors. Consider creating fewer actors or adding more nodes to this Ray cluster.\n"
     ]
    },
    {
     "name": "stderr",
     "output_type": "stream",
     "text": [
      "\u001b[36m(_dystack pid=166)\u001b[0m \t0.9068\t = Validation score   (roc_auc)\n",
      "\u001b[36m(_dystack pid=166)\u001b[0m \t39.54s\t = Training   runtime\n",
      "\u001b[36m(_dystack pid=166)\u001b[0m \t0.05s\t = Validation runtime\n",
      "\u001b[36m(_dystack pid=166)\u001b[0m Fitting model: NeuralNetFastAI_r156_BAG_L2 ... Training model for up to 2241.19s of the 2240.93s of remaining time.\n",
      "\u001b[36m(_dystack pid=166)\u001b[0m \tFitting 10 child models (S1F1 - S1F10) | Fitting with ParallelLocalFoldFittingStrategy (4 workers, per: cpus=1, gpus=0, memory=0.04%)\n"
     ]
    },
    {
     "name": "stdout",
     "output_type": "stream",
     "text": [
      "\u001b[33m(autoscaler +2h7m59s)\u001b[0m Warning: The following resource request cannot be scheduled right now: {'CPU': 1.0}. This is likely due to all cluster resources being claimed by actors. Consider creating fewer actors or adding more nodes to this Ray cluster.\n"
     ]
    },
    {
     "name": "stderr",
     "output_type": "stream",
     "text": [
      "\u001b[36m(_ray_fit pid=60908)\u001b[0m No improvement since epoch 23: early stopping\n"
     ]
    },
    {
     "name": "stdout",
     "output_type": "stream",
     "text": [
      "\u001b[33m(autoscaler +2h8m34s)\u001b[0m Warning: The following resource request cannot be scheduled right now: {'CPU': 1.0}. This is likely due to all cluster resources being claimed by actors. Consider creating fewer actors or adding more nodes to this Ray cluster.\n"
     ]
    },
    {
     "name": "stderr",
     "output_type": "stream",
     "text": [
      "\u001b[36m(_ray_fit pid=61150)\u001b[0m No improvement since epoch 5: early stopping\u001b[32m [repeated 2x across cluster]\u001b[0m\n",
      "\u001b[36m(_ray_fit pid=61308)\u001b[0m No improvement since epoch 10: early stopping\u001b[32m [repeated 3x across cluster]\u001b[0m\n",
      "\u001b[36m(_dystack pid=166)\u001b[0m \t0.9004\t = Validation score   (roc_auc)\n",
      "\u001b[36m(_dystack pid=166)\u001b[0m \t74.21s\t = Training   runtime\n",
      "\u001b[36m(_dystack pid=166)\u001b[0m \t0.35s\t = Validation runtime\n",
      "\u001b[36m(_dystack pid=166)\u001b[0m Fitting model: LightGBM_r196_BAG_L2 ... Training model for up to 2164.17s of the 2163.91s of remaining time.\n",
      "\u001b[36m(_dystack pid=166)\u001b[0m \tFitting 10 child models (S1F1 - S1F10) | Fitting with ParallelLocalFoldFittingStrategy (4 workers, per: cpus=1, gpus=0, memory=0.34%)\n"
     ]
    },
    {
     "name": "stdout",
     "output_type": "stream",
     "text": [
      "\u001b[36m(_ray_fit pid=61373)\u001b[0m [1000]\tvalid_set's binary_logloss: 0.300645\u001b[32m [repeated 2x across cluster]\u001b[0m\n",
      "\u001b[33m(autoscaler +2h9m9s)\u001b[0m Warning: The following resource request cannot be scheduled right now: {'CPU': 1.0}. This is likely due to all cluster resources being claimed by actors. Consider creating fewer actors or adding more nodes to this Ray cluster.\n",
      "\u001b[36m(_ray_fit pid=61505)\u001b[0m [1000]\tvalid_set's binary_logloss: 0.336684\u001b[32m [repeated 2x across cluster]\u001b[0m\n",
      "\u001b[36m(_ray_fit pid=61636)\u001b[0m [1000]\tvalid_set's binary_logloss: 0.286128\u001b[32m [repeated 2x across cluster]\u001b[0m\n"
     ]
    },
    {
     "name": "stderr",
     "output_type": "stream",
     "text": [
      "\u001b[36m(_dystack pid=166)\u001b[0m \t0.9023\t = Validation score   (roc_auc)\n",
      "\u001b[36m(_dystack pid=166)\u001b[0m \t19.48s\t = Training   runtime\n",
      "\u001b[36m(_dystack pid=166)\u001b[0m \t0.35s\t = Validation runtime\n",
      "\u001b[36m(_dystack pid=166)\u001b[0m Fitting model: RandomForest_r39_BAG_L2 ... Training model for up to 2141.58s of the 2141.32s of remaining time.\n",
      "\u001b[36m(_dystack pid=166)\u001b[0m \tForcing `use_child_oof=False` because `groups` is specified\n",
      "\u001b[36m(_dystack pid=166)\u001b[0m \tFitting 10 child models (S1F1 - S1F10) | Fitting with ParallelLocalFoldFittingStrategy (4 workers, per: cpus=1, gpus=0, memory=0.01%)\n"
     ]
    },
    {
     "name": "stdout",
     "output_type": "stream",
     "text": [
      "\u001b[33m(autoscaler +2h9m44s)\u001b[0m Warning: The following resource request cannot be scheduled right now: {'CPU': 1.0}. This is likely due to all cluster resources being claimed by actors. Consider creating fewer actors or adding more nodes to this Ray cluster.\n"
     ]
    },
    {
     "name": "stderr",
     "output_type": "stream",
     "text": [
      "\u001b[36m(_dystack pid=166)\u001b[0m \t0.8962\t = Validation score   (roc_auc)\n",
      "\u001b[36m(_dystack pid=166)\u001b[0m \t31.97s\t = Training   runtime\n",
      "\u001b[36m(_dystack pid=166)\u001b[0m \t1.01s\t = Validation runtime\n",
      "\u001b[36m(_dystack pid=166)\u001b[0m Fitting model: CatBoost_r167_BAG_L2 ... Training model for up to 2106.69s of the 2106.43s of remaining time.\n",
      "\u001b[36m(_dystack pid=166)\u001b[0m \tFitting 10 child models (S1F1 - S1F10) | Fitting with ParallelLocalFoldFittingStrategy (4 workers, per: cpus=1, gpus=0, memory=0.32%)\n",
      "\u001b[36m(_dystack pid=166)\u001b[0m \t0.9016\t = Validation score   (roc_auc)\n",
      "\u001b[36m(_dystack pid=166)\u001b[0m \t26.73s\t = Training   runtime\n",
      "\u001b[36m(_dystack pid=166)\u001b[0m \t0.06s\t = Validation runtime\n",
      "\u001b[36m(_dystack pid=166)\u001b[0m Fitting model: NeuralNetFastAI_r95_BAG_L2 ... Training model for up to 2077.10s of the 2076.84s of remaining time.\n",
      "\u001b[36m(_dystack pid=166)\u001b[0m \tFitting 10 child models (S1F1 - S1F10) | Fitting with ParallelLocalFoldFittingStrategy (4 workers, per: cpus=1, gpus=0, memory=0.04%)\n"
     ]
    },
    {
     "name": "stdout",
     "output_type": "stream",
     "text": [
      "\u001b[33m(autoscaler +2h10m29s)\u001b[0m Warning: The following resource request cannot be scheduled right now: {'CPU': 1.0}. This is likely due to all cluster resources being claimed by actors. Consider creating fewer actors or adding more nodes to this Ray cluster.\n"
     ]
    },
    {
     "name": "stderr",
     "output_type": "stream",
     "text": [
      "\u001b[36m(_ray_fit pid=62569)\u001b[0m No improvement since epoch 11: early stopping\n",
      "\u001b[36m(_ray_fit pid=62756)\u001b[0m No improvement since epoch 10: early stopping\n",
      "\u001b[36m(_ray_fit pid=62754)\u001b[0m No improvement since epoch 10: early stopping\n",
      "\u001b[36m(_ray_fit pid=62941)\u001b[0m No improvement since epoch 9: early stopping\n",
      "\u001b[36m(_dystack pid=166)\u001b[0m \t0.8983\t = Validation score   (roc_auc)\n",
      "\u001b[36m(_dystack pid=166)\u001b[0m \t37.01s\t = Training   runtime\n",
      "\u001b[36m(_dystack pid=166)\u001b[0m \t0.33s\t = Validation runtime\n",
      "\u001b[36m(_dystack pid=166)\u001b[0m Fitting model: NeuralNetTorch_r41_BAG_L2 ... Training model for up to 2037.24s of the 2036.98s of remaining time.\n",
      "\u001b[36m(_dystack pid=166)\u001b[0m \tFitting 10 child models (S1F1 - S1F10) | Fitting with ParallelLocalFoldFittingStrategy (4 workers, per: cpus=1, gpus=0, memory=0.02%)\n"
     ]
    },
    {
     "name": "stdout",
     "output_type": "stream",
     "text": [
      "\u001b[33m(autoscaler +2h11m4s)\u001b[0m Warning: The following resource request cannot be scheduled right now: {'CPU': 1.0}. This is likely due to all cluster resources being claimed by actors. Consider creating fewer actors or adding more nodes to this Ray cluster.\n"
     ]
    },
    {
     "name": "stderr",
     "output_type": "stream",
     "text": [
      "\u001b[36m(_dystack pid=166)\u001b[0m \t0.905\t = Validation score   (roc_auc)\n",
      "\u001b[36m(_dystack pid=166)\u001b[0m \t35.13s\t = Training   runtime\n",
      "\u001b[36m(_dystack pid=166)\u001b[0m \t0.28s\t = Validation runtime\n",
      "\u001b[36m(_dystack pid=166)\u001b[0m Fitting model: XGBoost_r98_BAG_L2 ... Training model for up to 1998.93s of the 1998.67s of remaining time.\n",
      "\u001b[36m(_dystack pid=166)\u001b[0m \tFitting 10 child models (S1F1 - S1F10) | Fitting with ParallelLocalFoldFittingStrategy (4 workers, per: cpus=1, gpus=0, memory=0.64%)\n"
     ]
    },
    {
     "name": "stdout",
     "output_type": "stream",
     "text": [
      "\u001b[33m(autoscaler +2h11m44s)\u001b[0m Warning: The following resource request cannot be scheduled right now: {'CPU': 1.0}. This is likely due to all cluster resources being claimed by actors. Consider creating fewer actors or adding more nodes to this Ray cluster.\n"
     ]
    },
    {
     "name": "stderr",
     "output_type": "stream",
     "text": [
      "\u001b[36m(_dystack pid=166)\u001b[0m \t0.9022\t = Validation score   (roc_auc)\n",
      "\u001b[36m(_dystack pid=166)\u001b[0m \t20.13s\t = Training   runtime\n",
      "\u001b[36m(_dystack pid=166)\u001b[0m \t0.15s\t = Validation runtime\n",
      "\u001b[36m(_dystack pid=166)\u001b[0m Fitting model: LightGBM_r15_BAG_L2 ... Training model for up to 1975.80s of the 1975.54s of remaining time.\n",
      "\u001b[36m(_dystack pid=166)\u001b[0m \tFitting 10 child models (S1F1 - S1F10) | Fitting with ParallelLocalFoldFittingStrategy (4 workers, per: cpus=1, gpus=0, memory=0.07%)\n",
      "\u001b[36m(_dystack pid=166)\u001b[0m \t0.9038\t = Validation score   (roc_auc)\n",
      "\u001b[36m(_dystack pid=166)\u001b[0m \t14.84s\t = Training   runtime\n",
      "\u001b[36m(_dystack pid=166)\u001b[0m \t0.07s\t = Validation runtime\n",
      "\u001b[36m(_dystack pid=166)\u001b[0m Fitting model: NeuralNetTorch_r158_BAG_L2 ... Training model for up to 1958.07s of the 1957.82s of remaining time.\n",
      "\u001b[36m(_dystack pid=166)\u001b[0m \tFitting 10 child models (S1F1 - S1F10) | Fitting with ParallelLocalFoldFittingStrategy (4 workers, per: cpus=1, gpus=0, memory=0.02%)\n"
     ]
    },
    {
     "name": "stdout",
     "output_type": "stream",
     "text": [
      "\u001b[33m(autoscaler +2h12m24s)\u001b[0m Warning: The following resource request cannot be scheduled right now: {'CPU': 1.0}. This is likely due to all cluster resources being claimed by actors. Consider creating fewer actors or adding more nodes to this Ray cluster.\n"
     ]
    },
    {
     "name": "stderr",
     "output_type": "stream",
     "text": [
      "\u001b[36m(_dystack pid=166)\u001b[0m \t0.898\t = Validation score   (roc_auc)\n",
      "\u001b[36m(_dystack pid=166)\u001b[0m \t51.16s\t = Training   runtime\n",
      "\u001b[36m(_dystack pid=166)\u001b[0m \t0.31s\t = Validation runtime\n",
      "\u001b[36m(_dystack pid=166)\u001b[0m Fitting model: CatBoost_r86_BAG_L2 ... Training model for up to 1903.71s of the 1903.46s of remaining time.\n",
      "\u001b[36m(_dystack pid=166)\u001b[0m \tFitting 10 child models (S1F1 - S1F10) | Fitting with ParallelLocalFoldFittingStrategy (4 workers, per: cpus=1, gpus=0, memory=0.63%)\n"
     ]
    },
    {
     "name": "stdout",
     "output_type": "stream",
     "text": [
      "\u001b[33m(autoscaler +2h13m19s)\u001b[0m Warning: The following resource request cannot be scheduled right now: {'CPU': 1.0}. This is likely due to all cluster resources being claimed by actors. Consider creating fewer actors or adding more nodes to this Ray cluster.\n",
      "\u001b[33m(autoscaler +2h13m54s)\u001b[0m Warning: The following resource request cannot be scheduled right now: {'CPU': 1.0}. This is likely due to all cluster resources being claimed by actors. Consider creating fewer actors or adding more nodes to this Ray cluster.\n"
     ]
    },
    {
     "name": "stderr",
     "output_type": "stream",
     "text": [
      "\u001b[36m(_dystack pid=166)\u001b[0m \t0.9034\t = Validation score   (roc_auc)\n",
      "\u001b[36m(_dystack pid=166)\u001b[0m \t48.48s\t = Training   runtime\n",
      "\u001b[36m(_dystack pid=166)\u001b[0m \t0.04s\t = Validation runtime\n",
      "\u001b[36m(_dystack pid=166)\u001b[0m Fitting model: NeuralNetFastAI_r37_BAG_L2 ... Training model for up to 1852.33s of the 1852.07s of remaining time.\n",
      "\u001b[36m(_dystack pid=166)\u001b[0m \tFitting 10 child models (S1F1 - S1F10) | Fitting with ParallelLocalFoldFittingStrategy (4 workers, per: cpus=1, gpus=0, memory=0.04%)\n"
     ]
    },
    {
     "name": "stdout",
     "output_type": "stream",
     "text": [
      "\u001b[33m(autoscaler +2h14m30s)\u001b[0m Warning: The following resource request cannot be scheduled right now: {'CPU': 1.0}. This is likely due to all cluster resources being claimed by actors. Consider creating fewer actors or adding more nodes to this Ray cluster.\n"
     ]
    },
    {
     "name": "stderr",
     "output_type": "stream",
     "text": [
      "\u001b[36m(_ray_fit pid=65013)\u001b[0m No improvement since epoch 14: early stopping\n",
      "\u001b[36m(_ray_fit pid=65201)\u001b[0m No improvement since epoch 20: early stopping\n",
      "\u001b[36m(_ray_fit pid=65203)\u001b[0m No improvement since epoch 18: early stopping\n",
      "\u001b[36m(_dystack pid=166)\u001b[0m \t0.9017\t = Validation score   (roc_auc)\n",
      "\u001b[36m(_dystack pid=166)\u001b[0m \t28.6s\t = Training   runtime\n",
      "\u001b[36m(_dystack pid=166)\u001b[0m \t0.26s\t = Validation runtime\n",
      "\u001b[36m(_dystack pid=166)\u001b[0m Fitting model: NeuralNetTorch_r197_BAG_L2 ... Training model for up to 1820.80s of the 1820.54s of remaining time.\n",
      "\u001b[36m(_dystack pid=166)\u001b[0m \tFitting 10 child models (S1F1 - S1F10) | Fitting with ParallelLocalFoldFittingStrategy (4 workers, per: cpus=1, gpus=0, memory=0.02%)\n",
      "\u001b[36m(_dystack pid=166)\u001b[0m \t0.9019\t = Validation score   (roc_auc)\n",
      "\u001b[36m(_dystack pid=166)\u001b[0m \t26.6s\t = Training   runtime\n",
      "\u001b[36m(_dystack pid=166)\u001b[0m \t0.3s\t = Validation runtime\n",
      "\u001b[36m(_dystack pid=166)\u001b[0m Fitting model: CatBoost_r49_BAG_L2 ... Training model for up to 1790.90s of the 1790.65s of remaining time.\n",
      "\u001b[36m(_dystack pid=166)\u001b[0m \tFitting 10 child models (S1F1 - S1F10) | Fitting with ParallelLocalFoldFittingStrategy (4 workers, per: cpus=1, gpus=0, memory=0.06%)\n"
     ]
    },
    {
     "name": "stdout",
     "output_type": "stream",
     "text": [
      "\u001b[33m(autoscaler +2h15m15s)\u001b[0m Warning: The following resource request cannot be scheduled right now: {'CPU': 1.0}. This is likely due to all cluster resources being claimed by actors. Consider creating fewer actors or adding more nodes to this Ray cluster.\n"
     ]
    },
    {
     "name": "stderr",
     "output_type": "stream",
     "text": [
      "\u001b[36m(_dystack pid=166)\u001b[0m \t0.904\t = Validation score   (roc_auc)\n",
      "\u001b[36m(_dystack pid=166)\u001b[0m \t13.84s\t = Training   runtime\n",
      "\u001b[36m(_dystack pid=166)\u001b[0m \t0.05s\t = Validation runtime\n",
      "\u001b[36m(_dystack pid=166)\u001b[0m Fitting model: ExtraTrees_r49_BAG_L2 ... Training model for up to 1774.26s of the 1774.00s of remaining time.\n",
      "\u001b[36m(_dystack pid=166)\u001b[0m \tForcing `use_child_oof=False` because `groups` is specified\n",
      "\u001b[36m(_dystack pid=166)\u001b[0m \tFitting 10 child models (S1F1 - S1F10) | Fitting with ParallelLocalFoldFittingStrategy (4 workers, per: cpus=1, gpus=0, memory=0.01%)\n",
      "\u001b[36m(_dystack pid=166)\u001b[0m \t0.8962\t = Validation score   (roc_auc)\n",
      "\u001b[36m(_dystack pid=166)\u001b[0m \t13.32s\t = Training   runtime\n",
      "\u001b[36m(_dystack pid=166)\u001b[0m \t0.82s\t = Validation runtime\n",
      "\u001b[36m(_dystack pid=166)\u001b[0m Fitting model: LightGBM_r143_BAG_L2 ... Training model for up to 1758.00s of the 1757.74s of remaining time.\n",
      "\u001b[36m(_dystack pid=166)\u001b[0m \tFitting 10 child models (S1F1 - S1F10) | Fitting with ParallelLocalFoldFittingStrategy (4 workers, per: cpus=1, gpus=0, memory=0.44%)\n"
     ]
    },
    {
     "name": "stdout",
     "output_type": "stream",
     "text": [
      "\u001b[33m(autoscaler +2h15m50s)\u001b[0m Warning: The following resource request cannot be scheduled right now: {'CPU': 1.0}. This is likely due to all cluster resources being claimed by actors. Consider creating fewer actors or adding more nodes to this Ray cluster.\n"
     ]
    },
    {
     "name": "stderr",
     "output_type": "stream",
     "text": [
      "\u001b[36m(_dystack pid=166)\u001b[0m \t0.9\t = Validation score   (roc_auc)\n",
      "\u001b[36m(_dystack pid=166)\u001b[0m \t19.13s\t = Training   runtime\n",
      "\u001b[36m(_dystack pid=166)\u001b[0m \t0.12s\t = Validation runtime\n",
      "\u001b[36m(_dystack pid=166)\u001b[0m Fitting model: RandomForest_r127_BAG_L2 ... Training model for up to 1735.90s of the 1735.64s of remaining time.\n",
      "\u001b[36m(_dystack pid=166)\u001b[0m \tForcing `use_child_oof=False` because `groups` is specified\n",
      "\u001b[36m(_dystack pid=166)\u001b[0m \tFitting 10 child models (S1F1 - S1F10) | Fitting with ParallelLocalFoldFittingStrategy (4 workers, per: cpus=1, gpus=0, memory=0.01%)\n"
     ]
    },
    {
     "name": "stdout",
     "output_type": "stream",
     "text": [
      "\u001b[33m(autoscaler +2h16m25s)\u001b[0m Warning: The following resource request cannot be scheduled right now: {'CPU': 1.0}. This is likely due to all cluster resources being claimed by actors. Consider creating fewer actors or adding more nodes to this Ray cluster.\n"
     ]
    },
    {
     "name": "stderr",
     "output_type": "stream",
     "text": [
      "\u001b[36m(_dystack pid=166)\u001b[0m \t0.8983\t = Validation score   (roc_auc)\n",
      "\u001b[36m(_dystack pid=166)\u001b[0m \t37.15s\t = Training   runtime\n",
      "\u001b[36m(_dystack pid=166)\u001b[0m \t1.1s\t = Validation runtime\n",
      "\u001b[36m(_dystack pid=166)\u001b[0m Fitting model: NeuralNetFastAI_r134_BAG_L2 ... Training model for up to 1695.69s of the 1695.43s of remaining time.\n",
      "\u001b[36m(_dystack pid=166)\u001b[0m \tFitting 10 child models (S1F1 - S1F10) | Fitting with ParallelLocalFoldFittingStrategy (4 workers, per: cpus=1, gpus=0, memory=0.04%)\n"
     ]
    },
    {
     "name": "stdout",
     "output_type": "stream",
     "text": [
      "\u001b[33m(autoscaler +2h17m0s)\u001b[0m Warning: The following resource request cannot be scheduled right now: {'CPU': 1.0}. This is likely due to all cluster resources being claimed by actors. Consider creating fewer actors or adding more nodes to this Ray cluster.\n"
     ]
    },
    {
     "name": "stderr",
     "output_type": "stream",
     "text": [
      "\u001b[36m(_ray_fit pid=67312)\u001b[0m No improvement since epoch 9: early stopping\n",
      "\u001b[36m(_ray_fit pid=67313)\u001b[0m No improvement since epoch 17: early stopping\n",
      "\u001b[36m(_ray_fit pid=67315)\u001b[0m No improvement since epoch 23: early stopping\n"
     ]
    },
    {
     "name": "stdout",
     "output_type": "stream",
     "text": [
      "\u001b[33m(autoscaler +2h17m35s)\u001b[0m Warning: The following resource request cannot be scheduled right now: {'CPU': 1.0}. This is likely due to all cluster resources being claimed by actors. Consider creating fewer actors or adding more nodes to this Ray cluster.\n",
      "\u001b[33m(autoscaler +2h18m10s)\u001b[0m Warning: The following resource request cannot be scheduled right now: {'CPU': 1.0}. This is likely due to all cluster resources being claimed by actors. Consider creating fewer actors or adding more nodes to this Ray cluster.\n"
     ]
    },
    {
     "name": "stderr",
     "output_type": "stream",
     "text": [
      "\u001b[36m(_ray_fit pid=67495)\u001b[0m No improvement since epoch 26: early stopping\u001b[32m [repeated 2x across cluster]\u001b[0m\n",
      "\u001b[36m(_ray_fit pid=67606)\u001b[0m No improvement since epoch 22: early stopping\u001b[32m [repeated 2x across cluster]\u001b[0m\n",
      "\u001b[36m(_ray_fit pid=67682)\u001b[0m No improvement since epoch 25: early stopping\n",
      "\u001b[36m(_dystack pid=166)\u001b[0m \t0.9037\t = Validation score   (roc_auc)\n",
      "\u001b[36m(_dystack pid=166)\u001b[0m \t122.83s\t = Training   runtime\n",
      "\u001b[36m(_dystack pid=166)\u001b[0m \t0.35s\t = Validation runtime\n",
      "\u001b[36m(_dystack pid=166)\u001b[0m Fitting model: RandomForest_r34_BAG_L2 ... Training model for up to 1569.93s of the 1569.68s of remaining time.\n",
      "\u001b[36m(_dystack pid=166)\u001b[0m \tForcing `use_child_oof=False` because `groups` is specified\n",
      "\u001b[36m(_dystack pid=166)\u001b[0m \tFitting 10 child models (S1F1 - S1F10) | Fitting with ParallelLocalFoldFittingStrategy (4 workers, per: cpus=1, gpus=0, memory=0.01%)\n"
     ]
    },
    {
     "name": "stdout",
     "output_type": "stream",
     "text": [
      "\u001b[33m(autoscaler +2h18m55s)\u001b[0m Warning: The following resource request cannot be scheduled right now: {'CPU': 1.0}. This is likely due to all cluster resources being claimed by actors. Consider creating fewer actors or adding more nodes to this Ray cluster.\n"
     ]
    },
    {
     "name": "stderr",
     "output_type": "stream",
     "text": [
      "\u001b[36m(_dystack pid=166)\u001b[0m \t0.9005\t = Validation score   (roc_auc)\n",
      "\u001b[36m(_dystack pid=166)\u001b[0m \t20.46s\t = Training   runtime\n",
      "\u001b[36m(_dystack pid=166)\u001b[0m \t1.06s\t = Validation runtime\n",
      "\u001b[36m(_dystack pid=166)\u001b[0m Fitting model: LightGBM_r94_BAG_L2 ... Training model for up to 1546.21s of the 1545.96s of remaining time.\n",
      "\u001b[36m(_dystack pid=166)\u001b[0m \tFitting 10 child models (S1F1 - S1F10) | Fitting with ParallelLocalFoldFittingStrategy (4 workers, per: cpus=1, gpus=0, memory=0.06%)\n"
     ]
    },
    {
     "name": "stdout",
     "output_type": "stream",
     "text": [
      "\u001b[36m(_ray_fit pid=68245)\u001b[0m [1000]\tvalid_set's binary_logloss: 0.268123\u001b[32m [repeated 2x across cluster]\u001b[0m\n"
     ]
    },
    {
     "name": "stderr",
     "output_type": "stream",
     "text": [
      "\u001b[36m(_dystack pid=166)\u001b[0m \t0.9047\t = Validation score   (roc_auc)\n",
      "\u001b[36m(_dystack pid=166)\u001b[0m \t13.52s\t = Training   runtime\n",
      "\u001b[36m(_dystack pid=166)\u001b[0m \t0.06s\t = Validation runtime\n",
      "\u001b[36m(_dystack pid=166)\u001b[0m Fitting model: NeuralNetTorch_r143_BAG_L2 ... Training model for up to 1529.90s of the 1529.64s of remaining time.\n",
      "\u001b[36m(_dystack pid=166)\u001b[0m \tFitting 10 child models (S1F1 - S1F10) | Fitting with ParallelLocalFoldFittingStrategy (4 workers, per: cpus=1, gpus=0, memory=0.02%)\n"
     ]
    },
    {
     "name": "stdout",
     "output_type": "stream",
     "text": [
      "\u001b[33m(autoscaler +2h19m35s)\u001b[0m Warning: The following resource request cannot be scheduled right now: {'CPU': 1.0}. This is likely due to all cluster resources being claimed by actors. Consider creating fewer actors or adding more nodes to this Ray cluster.\n",
      "\u001b[33m(autoscaler +2h20m10s)\u001b[0m Warning: The following resource request cannot be scheduled right now: {'CPU': 1.0}. This is likely due to all cluster resources being claimed by actors. Consider creating fewer actors or adding more nodes to this Ray cluster.\n"
     ]
    },
    {
     "name": "stderr",
     "output_type": "stream",
     "text": [
      "\u001b[36m(_dystack pid=166)\u001b[0m \t0.9\t = Validation score   (roc_auc)\n",
      "\u001b[36m(_dystack pid=166)\u001b[0m \t50.24s\t = Training   runtime\n",
      "\u001b[36m(_dystack pid=166)\u001b[0m \t0.31s\t = Validation runtime\n",
      "\u001b[36m(_dystack pid=166)\u001b[0m Fitting model: CatBoost_r128_BAG_L2 ... Training model for up to 1476.53s of the 1476.27s of remaining time.\n",
      "\u001b[36m(_dystack pid=166)\u001b[0m \tFitting 10 child models (S1F1 - S1F10) | Fitting with ParallelLocalFoldFittingStrategy (4 workers, per: cpus=1, gpus=0, memory=0.63%)\n"
     ]
    },
    {
     "name": "stdout",
     "output_type": "stream",
     "text": [
      "\u001b[33m(autoscaler +2h20m45s)\u001b[0m Warning: The following resource request cannot be scheduled right now: {'CPU': 1.0}. This is likely due to all cluster resources being claimed by actors. Consider creating fewer actors or adding more nodes to this Ray cluster.\n",
      "\u001b[33m(autoscaler +2h21m20s)\u001b[0m Warning: The following resource request cannot be scheduled right now: {'CPU': 1.0}. This is likely due to all cluster resources being claimed by actors. Consider creating fewer actors or adding more nodes to this Ray cluster.\n"
     ]
    },
    {
     "name": "stderr",
     "output_type": "stream",
     "text": [
      "\u001b[36m(_dystack pid=166)\u001b[0m \t0.9035\t = Validation score   (roc_auc)\n",
      "\u001b[36m(_dystack pid=166)\u001b[0m \t79.4s\t = Training   runtime\n",
      "\u001b[36m(_dystack pid=166)\u001b[0m \t0.05s\t = Validation runtime\n",
      "\u001b[36m(_dystack pid=166)\u001b[0m Fitting model: NeuralNetFastAI_r111_BAG_L2 ... Training model for up to 1394.12s of the 1393.86s of remaining time.\n",
      "\u001b[36m(_dystack pid=166)\u001b[0m \tFitting 10 child models (S1F1 - S1F10) | Fitting with ParallelLocalFoldFittingStrategy (4 workers, per: cpus=1, gpus=0, memory=0.04%)\n"
     ]
    },
    {
     "name": "stdout",
     "output_type": "stream",
     "text": [
      "\u001b[33m(autoscaler +2h21m56s)\u001b[0m Warning: The following resource request cannot be scheduled right now: {'CPU': 1.0}. This is likely due to all cluster resources being claimed by actors. Consider creating fewer actors or adding more nodes to this Ray cluster.\n",
      "\u001b[33m(autoscaler +2h22m31s)\u001b[0m Warning: The following resource request cannot be scheduled right now: {'CPU': 1.0}. This is likely due to all cluster resources being claimed by actors. Consider creating fewer actors or adding more nodes to this Ray cluster.\n"
     ]
    },
    {
     "name": "stderr",
     "output_type": "stream",
     "text": [
      "\u001b[36m(_dystack pid=166)\u001b[0m \t0.9009\t = Validation score   (roc_auc)\n",
      "\u001b[36m(_dystack pid=166)\u001b[0m \t57.49s\t = Training   runtime\n",
      "\u001b[36m(_dystack pid=166)\u001b[0m \t0.33s\t = Validation runtime\n",
      "\u001b[36m(_dystack pid=166)\u001b[0m Fitting model: NeuralNetTorch_r31_BAG_L2 ... Training model for up to 1333.81s of the 1333.55s of remaining time.\n",
      "\u001b[36m(_dystack pid=166)\u001b[0m \tFitting 10 child models (S1F1 - S1F10) | Fitting with ParallelLocalFoldFittingStrategy (4 workers, per: cpus=1, gpus=0, memory=0.02%)\n"
     ]
    },
    {
     "name": "stdout",
     "output_type": "stream",
     "text": [
      "\u001b[33m(autoscaler +2h23m6s)\u001b[0m Warning: The following resource request cannot be scheduled right now: {'CPU': 1.0}. This is likely due to all cluster resources being claimed by actors. Consider creating fewer actors or adding more nodes to this Ray cluster.\n"
     ]
    },
    {
     "name": "stderr",
     "output_type": "stream",
     "text": [
      "\u001b[36m(_dystack pid=166)\u001b[0m \t0.9009\t = Validation score   (roc_auc)\n",
      "\u001b[36m(_dystack pid=166)\u001b[0m \t34.92s\t = Training   runtime\n",
      "\u001b[36m(_dystack pid=166)\u001b[0m \t0.3s\t = Validation runtime\n",
      "\u001b[36m(_dystack pid=166)\u001b[0m Fitting model: ExtraTrees_r4_BAG_L2 ... Training model for up to 1295.73s of the 1295.47s of remaining time.\n",
      "\u001b[36m(_dystack pid=166)\u001b[0m \tForcing `use_child_oof=False` because `groups` is specified\n",
      "\u001b[36m(_dystack pid=166)\u001b[0m \tFitting 10 child models (S1F1 - S1F10) | Fitting with ParallelLocalFoldFittingStrategy (4 workers, per: cpus=1, gpus=0, memory=0.01%)\n",
      "\u001b[36m(_dystack pid=166)\u001b[0m \t0.9007\t = Validation score   (roc_auc)\n",
      "\u001b[36m(_dystack pid=166)\u001b[0m \t12.06s\t = Training   runtime\n",
      "\u001b[36m(_dystack pid=166)\u001b[0m \t0.82s\t = Validation runtime\n",
      "\u001b[36m(_dystack pid=166)\u001b[0m Fitting model: NeuralNetFastAI_r65_BAG_L2 ... Training model for up to 1280.61s of the 1280.36s of remaining time.\n",
      "\u001b[36m(_dystack pid=166)\u001b[0m \tFitting 10 child models (S1F1 - S1F10) | Fitting with ParallelLocalFoldFittingStrategy (4 workers, per: cpus=1, gpus=0, memory=0.04%)\n"
     ]
    },
    {
     "name": "stdout",
     "output_type": "stream",
     "text": [
      "\u001b[33m(autoscaler +2h23m46s)\u001b[0m Warning: The following resource request cannot be scheduled right now: {'CPU': 1.0}. This is likely due to all cluster resources being claimed by actors. Consider creating fewer actors or adding more nodes to this Ray cluster.\n"
     ]
    },
    {
     "name": "stderr",
     "output_type": "stream",
     "text": [
      "\u001b[36m(_dystack pid=166)\u001b[0m \t0.8947\t = Validation score   (roc_auc)\n",
      "\u001b[36m(_dystack pid=166)\u001b[0m \t23.78s\t = Training   runtime\n",
      "\u001b[36m(_dystack pid=166)\u001b[0m \t0.13s\t = Validation runtime\n",
      "\u001b[36m(_dystack pid=166)\u001b[0m Fitting model: NeuralNetFastAI_r88_BAG_L2 ... Training model for up to 1253.88s of the 1253.62s of remaining time.\n",
      "\u001b[36m(_dystack pid=166)\u001b[0m \tFitting 10 child models (S1F1 - S1F10) | Fitting with ParallelLocalFoldFittingStrategy (4 workers, per: cpus=1, gpus=0, memory=0.04%)\n",
      "\u001b[36m(_ray_fit pid=71104)\u001b[0m No improvement since epoch 1: early stopping\n"
     ]
    },
    {
     "name": "stdout",
     "output_type": "stream",
     "text": [
      "\u001b[33m(autoscaler +2h24m21s)\u001b[0m Warning: The following resource request cannot be scheduled right now: {'CPU': 1.0}. This is likely due to all cluster resources being claimed by actors. Consider creating fewer actors or adding more nodes to this Ray cluster.\n"
     ]
    },
    {
     "name": "stderr",
     "output_type": "stream",
     "text": [
      "\u001b[36m(_ray_fit pid=71294)\u001b[0m No improvement since epoch 1: early stopping\u001b[32m [repeated 4x across cluster]\u001b[0m\n",
      "\u001b[36m(_dystack pid=166)\u001b[0m \t0.8758\t = Validation score   (roc_auc)\n",
      "\u001b[36m(_dystack pid=166)\u001b[0m \t23.11s\t = Training   runtime\n",
      "\u001b[36m(_dystack pid=166)\u001b[0m \t0.38s\t = Validation runtime\n",
      "\u001b[36m(_dystack pid=166)\u001b[0m Fitting model: LightGBM_r30_BAG_L2 ... Training model for up to 1227.60s of the 1227.34s of remaining time.\n",
      "\u001b[36m(_ray_fit pid=71292)\u001b[0m No improvement since epoch 7: early stopping\u001b[32m [repeated 2x across cluster]\u001b[0m\n",
      "\u001b[36m(_dystack pid=166)\u001b[0m \tFitting 10 child models (S1F1 - S1F10) | Fitting with ParallelLocalFoldFittingStrategy (4 workers, per: cpus=1, gpus=0, memory=0.29%)\n"
     ]
    },
    {
     "name": "stdout",
     "output_type": "stream",
     "text": [
      "\u001b[36m(_ray_fit pid=71572)\u001b[0m [1000]\tvalid_set's binary_logloss: 0.267434\n",
      "\u001b[36m(_ray_fit pid=71706)\u001b[0m [1000]\tvalid_set's binary_logloss: 0.335404\n"
     ]
    },
    {
     "name": "stderr",
     "output_type": "stream",
     "text": [
      "\u001b[36m(_dystack pid=166)\u001b[0m \t0.9037\t = Validation score   (roc_auc)\n",
      "\u001b[36m(_dystack pid=166)\u001b[0m \t16.15s\t = Training   runtime\n",
      "\u001b[36m(_dystack pid=166)\u001b[0m \t0.19s\t = Validation runtime\n",
      "\u001b[36m(_dystack pid=166)\u001b[0m Fitting model: XGBoost_r49_BAG_L2 ... Training model for up to 1208.14s of the 1207.88s of remaining time.\n",
      "\u001b[36m(_dystack pid=166)\u001b[0m \tFitting 10 child models (S1F1 - S1F10) | Fitting with ParallelLocalFoldFittingStrategy (4 workers, per: cpus=1, gpus=0, memory=0.34%)\n"
     ]
    },
    {
     "name": "stdout",
     "output_type": "stream",
     "text": [
      "\u001b[33m(autoscaler +2h24m56s)\u001b[0m Warning: The following resource request cannot be scheduled right now: {'CPU': 1.0}. This is likely due to all cluster resources being claimed by actors. Consider creating fewer actors or adding more nodes to this Ray cluster.\n"
     ]
    },
    {
     "name": "stderr",
     "output_type": "stream",
     "text": [
      "\u001b[36m(_dystack pid=166)\u001b[0m \t0.9036\t = Validation score   (roc_auc)\n",
      "\u001b[36m(_dystack pid=166)\u001b[0m \t11.82s\t = Training   runtime\n",
      "\u001b[36m(_dystack pid=166)\u001b[0m \t0.1s\t = Validation runtime\n",
      "\u001b[36m(_dystack pid=166)\u001b[0m Fitting model: CatBoost_r5_BAG_L2 ... Training model for up to 1193.34s of the 1193.08s of remaining time.\n",
      "\u001b[36m(_dystack pid=166)\u001b[0m \tFitting 10 child models (S1F1 - S1F10) | Fitting with ParallelLocalFoldFittingStrategy (4 workers, per: cpus=1, gpus=0, memory=0.06%)\n",
      "\u001b[36m(_dystack pid=166)\u001b[0m \t0.9055\t = Validation score   (roc_auc)\n",
      "\u001b[36m(_dystack pid=166)\u001b[0m \t14.35s\t = Training   runtime\n",
      "\u001b[36m(_dystack pid=166)\u001b[0m \t0.06s\t = Validation runtime\n",
      "\u001b[36m(_dystack pid=166)\u001b[0m Fitting model: NeuralNetTorch_r87_BAG_L2 ... Training model for up to 1176.05s of the 1175.79s of remaining time.\n",
      "\u001b[36m(_dystack pid=166)\u001b[0m \tFitting 10 child models (S1F1 - S1F10) | Fitting with ParallelLocalFoldFittingStrategy (4 workers, per: cpus=1, gpus=0, memory=0.02%)\n"
     ]
    },
    {
     "name": "stdout",
     "output_type": "stream",
     "text": [
      "\u001b[33m(autoscaler +2h25m31s)\u001b[0m Warning: The following resource request cannot be scheduled right now: {'CPU': 1.0}. This is likely due to all cluster resources being claimed by actors. Consider creating fewer actors or adding more nodes to this Ray cluster.\n"
     ]
    },
    {
     "name": "stderr",
     "output_type": "stream",
     "text": [
      "\u001b[36m(_dystack pid=166)\u001b[0m \t0.9001\t = Validation score   (roc_auc)\n",
      "\u001b[36m(_dystack pid=166)\u001b[0m \t35.95s\t = Training   runtime\n",
      "\u001b[36m(_dystack pid=166)\u001b[0m \t0.38s\t = Validation runtime\n",
      "\u001b[36m(_dystack pid=166)\u001b[0m Fitting model: NeuralNetTorch_r71_BAG_L2 ... Training model for up to 1137.29s of the 1137.03s of remaining time.\n",
      "\u001b[36m(_dystack pid=166)\u001b[0m \tFitting 10 child models (S1F1 - S1F10) | Fitting with ParallelLocalFoldFittingStrategy (4 workers, per: cpus=1, gpus=0, memory=0.02%)\n"
     ]
    },
    {
     "name": "stdout",
     "output_type": "stream",
     "text": [
      "\u001b[33m(autoscaler +2h26m6s)\u001b[0m Warning: The following resource request cannot be scheduled right now: {'CPU': 1.0}. This is likely due to all cluster resources being claimed by actors. Consider creating fewer actors or adding more nodes to this Ray cluster.\n"
     ]
    },
    {
     "name": "stderr",
     "output_type": "stream",
     "text": [
      "\u001b[36m(_dystack pid=166)\u001b[0m \t0.9013\t = Validation score   (roc_auc)\n",
      "\u001b[36m(_dystack pid=166)\u001b[0m \t24.64s\t = Training   runtime\n",
      "\u001b[36m(_dystack pid=166)\u001b[0m \t0.28s\t = Validation runtime\n",
      "\u001b[36m(_dystack pid=166)\u001b[0m Fitting model: CatBoost_r143_BAG_L2 ... Training model for up to 1109.68s of the 1109.42s of remaining time.\n",
      "\u001b[36m(_dystack pid=166)\u001b[0m \tFitting 10 child models (S1F1 - S1F10) | Fitting with ParallelLocalFoldFittingStrategy (4 workers, per: cpus=1, gpus=0, memory=0.33%)\n"
     ]
    },
    {
     "name": "stdout",
     "output_type": "stream",
     "text": [
      "\u001b[33m(autoscaler +2h26m41s)\u001b[0m Warning: The following resource request cannot be scheduled right now: {'CPU': 1.0}. This is likely due to all cluster resources being claimed by actors. Consider creating fewer actors or adding more nodes to this Ray cluster.\n"
     ]
    },
    {
     "name": "stderr",
     "output_type": "stream",
     "text": [
      "\u001b[36m(_dystack pid=166)\u001b[0m \t0.9016\t = Validation score   (roc_auc)\n",
      "\u001b[36m(_dystack pid=166)\u001b[0m \t26.62s\t = Training   runtime\n",
      "\u001b[36m(_dystack pid=166)\u001b[0m \t0.06s\t = Validation runtime\n",
      "\u001b[36m(_dystack pid=166)\u001b[0m Fitting model: ExtraTrees_r178_BAG_L2 ... Training model for up to 1079.94s of the 1079.68s of remaining time.\n",
      "\u001b[36m(_dystack pid=166)\u001b[0m \tForcing `use_child_oof=False` because `groups` is specified\n",
      "\u001b[36m(_dystack pid=166)\u001b[0m \tFitting 10 child models (S1F1 - S1F10) | Fitting with ParallelLocalFoldFittingStrategy (4 workers, per: cpus=1, gpus=0, memory=0.01%)\n",
      "\u001b[36m(_dystack pid=166)\u001b[0m \t0.901\t = Validation score   (roc_auc)\n",
      "\u001b[36m(_dystack pid=166)\u001b[0m \t14.12s\t = Training   runtime\n",
      "\u001b[36m(_dystack pid=166)\u001b[0m \t0.84s\t = Validation runtime\n",
      "\u001b[36m(_dystack pid=166)\u001b[0m Fitting model: RandomForest_r166_BAG_L2 ... Training model for up to 1062.82s of the 1062.56s of remaining time.\n",
      "\u001b[36m(_dystack pid=166)\u001b[0m \tForcing `use_child_oof=False` because `groups` is specified\n",
      "\u001b[36m(_dystack pid=166)\u001b[0m \tFitting 10 child models (S1F1 - S1F10) | Fitting with ParallelLocalFoldFittingStrategy (4 workers, per: cpus=1, gpus=0, memory=0.01%)\n"
     ]
    },
    {
     "name": "stdout",
     "output_type": "stream",
     "text": [
      "\u001b[33m(autoscaler +2h27m21s)\u001b[0m Warning: The following resource request cannot be scheduled right now: {'CPU': 1.0}. This is likely due to all cluster resources being claimed by actors. Consider creating fewer actors or adding more nodes to this Ray cluster.\n"
     ]
    },
    {
     "name": "stderr",
     "output_type": "stream",
     "text": [
      "\u001b[36m(_dystack pid=166)\u001b[0m \t0.8967\t = Validation score   (roc_auc)\n",
      "\u001b[36m(_dystack pid=166)\u001b[0m \t19.97s\t = Training   runtime\n",
      "\u001b[36m(_dystack pid=166)\u001b[0m \t0.9s\t = Validation runtime\n",
      "\u001b[36m(_dystack pid=166)\u001b[0m Fitting model: XGBoost_r31_BAG_L2 ... Training model for up to 1039.76s of the 1039.50s of remaining time.\n",
      "\u001b[36m(_dystack pid=166)\u001b[0m \tFitting 10 child models (S1F1 - S1F10) | Fitting with ParallelLocalFoldFittingStrategy (4 workers, per: cpus=1, gpus=0, memory=0.18%)\n",
      "\u001b[36m(_dystack pid=166)\u001b[0m \t0.9032\t = Validation score   (roc_auc)\n",
      "\u001b[36m(_dystack pid=166)\u001b[0m \t13.19s\t = Training   runtime\n",
      "\u001b[36m(_dystack pid=166)\u001b[0m \t0.16s\t = Validation runtime\n",
      "\u001b[36m(_dystack pid=166)\u001b[0m Fitting model: NeuralNetTorch_r185_BAG_L2 ... Training model for up to 1023.52s of the 1023.26s of remaining time.\n",
      "\u001b[36m(_dystack pid=166)\u001b[0m \tFitting 10 child models (S1F1 - S1F10) | Fitting with ParallelLocalFoldFittingStrategy (4 workers, per: cpus=1, gpus=0, memory=0.02%)\n"
     ]
    },
    {
     "name": "stdout",
     "output_type": "stream",
     "text": [
      "\u001b[33m(autoscaler +2h28m2s)\u001b[0m Warning: The following resource request cannot be scheduled right now: {'CPU': 1.0}. This is likely due to all cluster resources being claimed by actors. Consider creating fewer actors or adding more nodes to this Ray cluster.\n"
     ]
    },
    {
     "name": "stderr",
     "output_type": "stream",
     "text": [
      "\u001b[36m(_dystack pid=166)\u001b[0m \t0.8957\t = Validation score   (roc_auc)\n",
      "\u001b[36m(_dystack pid=166)\u001b[0m \t40.92s\t = Training   runtime\n",
      "\u001b[36m(_dystack pid=166)\u001b[0m \t0.34s\t = Validation runtime\n",
      "\u001b[36m(_dystack pid=166)\u001b[0m Fitting model: NeuralNetFastAI_r160_BAG_L2 ... Training model for up to 979.67s of the 979.41s of remaining time.\n",
      "\u001b[36m(_dystack pid=166)\u001b[0m \tFitting 10 child models (S1F1 - S1F10) | Fitting with ParallelLocalFoldFittingStrategy (4 workers, per: cpus=1, gpus=0, memory=0.04%)\n"
     ]
    },
    {
     "name": "stdout",
     "output_type": "stream",
     "text": [
      "\u001b[33m(autoscaler +2h28m47s)\u001b[0m Warning: The following resource request cannot be scheduled right now: {'CPU': 1.0}. This is likely due to all cluster resources being claimed by actors. Consider creating fewer actors or adding more nodes to this Ray cluster.\n"
     ]
    },
    {
     "name": "stderr",
     "output_type": "stream",
     "text": [
      "\u001b[36m(_dystack pid=166)\u001b[0m \t0.8989\t = Validation score   (roc_auc)\n",
      "\u001b[36m(_dystack pid=166)\u001b[0m \t32.71s\t = Training   runtime\n",
      "\u001b[36m(_dystack pid=166)\u001b[0m \t0.32s\t = Validation runtime\n",
      "\u001b[36m(_dystack pid=166)\u001b[0m Fitting model: CatBoost_r60_BAG_L2 ... Training model for up to 943.84s of the 943.58s of remaining time.\n",
      "\u001b[36m(_dystack pid=166)\u001b[0m \tFitting 10 child models (S1F1 - S1F10) | Fitting with ParallelLocalFoldFittingStrategy (4 workers, per: cpus=1, gpus=0, memory=0.10%)\n"
     ]
    },
    {
     "name": "stdout",
     "output_type": "stream",
     "text": [
      "\u001b[33m(autoscaler +2h29m22s)\u001b[0m Warning: The following resource request cannot be scheduled right now: {'CPU': 1.0}. This is likely due to all cluster resources being claimed by actors. Consider creating fewer actors or adding more nodes to this Ray cluster.\n"
     ]
    },
    {
     "name": "stderr",
     "output_type": "stream",
     "text": [
      "\u001b[36m(_dystack pid=166)\u001b[0m \t0.9063\t = Validation score   (roc_auc)\n",
      "\u001b[36m(_dystack pid=166)\u001b[0m \t17.79s\t = Training   runtime\n",
      "\u001b[36m(_dystack pid=166)\u001b[0m \t0.05s\t = Validation runtime\n",
      "\u001b[36m(_dystack pid=166)\u001b[0m Fitting model: RandomForest_r15_BAG_L2 ... Training model for up to 922.77s of the 922.51s of remaining time.\n",
      "\u001b[36m(_dystack pid=166)\u001b[0m \tForcing `use_child_oof=False` because `groups` is specified\n",
      "\u001b[36m(_dystack pid=166)\u001b[0m \tFitting 10 child models (S1F1 - S1F10) | Fitting with ParallelLocalFoldFittingStrategy (4 workers, per: cpus=1, gpus=0, memory=0.01%)\n"
     ]
    },
    {
     "name": "stdout",
     "output_type": "stream",
     "text": [
      "\u001b[33m(autoscaler +2h29m57s)\u001b[0m Warning: The following resource request cannot be scheduled right now: {'CPU': 1.0}. This is likely due to all cluster resources being claimed by actors. Consider creating fewer actors or adding more nodes to this Ray cluster.\n"
     ]
    },
    {
     "name": "stderr",
     "output_type": "stream",
     "text": [
      "\u001b[36m(_dystack pid=166)\u001b[0m \t0.8967\t = Validation score   (roc_auc)\n",
      "\u001b[36m(_dystack pid=166)\u001b[0m \t32.07s\t = Training   runtime\n",
      "\u001b[36m(_dystack pid=166)\u001b[0m \t1.07s\t = Validation runtime\n",
      "\u001b[36m(_dystack pid=166)\u001b[0m Fitting model: LightGBM_r135_BAG_L2 ... Training model for up to 887.46s of the 887.20s of remaining time.\n",
      "\u001b[36m(_dystack pid=166)\u001b[0m \tFitting 10 child models (S1F1 - S1F10) | Fitting with ParallelLocalFoldFittingStrategy (4 workers, per: cpus=1, gpus=0, memory=0.52%)\n",
      "\u001b[36m(_dystack pid=166)\u001b[0m \t0.9036\t = Validation score   (roc_auc)\n",
      "\u001b[36m(_dystack pid=166)\u001b[0m \t15.6s\t = Training   runtime\n",
      "\u001b[36m(_dystack pid=166)\u001b[0m \t0.05s\t = Validation runtime\n",
      "\u001b[36m(_dystack pid=166)\u001b[0m Fitting model: XGBoost_r22_BAG_L2 ... Training model for up to 868.70s of the 868.44s of remaining time.\n",
      "\u001b[36m(_dystack pid=166)\u001b[0m \tFitting 10 child models (S1F1 - S1F10) | Fitting with ParallelLocalFoldFittingStrategy (4 workers, per: cpus=1, gpus=0, memory=0.18%)\n"
     ]
    },
    {
     "name": "stdout",
     "output_type": "stream",
     "text": [
      "\u001b[33m(autoscaler +2h30m37s)\u001b[0m Warning: The following resource request cannot be scheduled right now: {'CPU': 1.0}. This is likely due to all cluster resources being claimed by actors. Consider creating fewer actors or adding more nodes to this Ray cluster.\n"
     ]
    },
    {
     "name": "stderr",
     "output_type": "stream",
     "text": [
      "\u001b[36m(_dystack pid=166)\u001b[0m \t0.9011\t = Validation score   (roc_auc)\n",
      "\u001b[36m(_dystack pid=166)\u001b[0m \t9.9s\t = Training   runtime\n",
      "\u001b[36m(_dystack pid=166)\u001b[0m \t0.06s\t = Validation runtime\n",
      "\u001b[36m(_dystack pid=166)\u001b[0m Fitting model: NeuralNetFastAI_r69_BAG_L2 ... Training model for up to 855.67s of the 855.41s of remaining time.\n",
      "\u001b[36m(_dystack pid=166)\u001b[0m \tFitting 10 child models (S1F1 - S1F10) | Fitting with ParallelLocalFoldFittingStrategy (4 workers, per: cpus=1, gpus=0, memory=0.04%)\n",
      "\u001b[36m(_dystack pid=166)\u001b[0m \t0.9023\t = Validation score   (roc_auc)\n",
      "\u001b[36m(_dystack pid=166)\u001b[0m \t31.27s\t = Training   runtime\n",
      "\u001b[36m(_dystack pid=166)\u001b[0m \t0.3s\t = Validation runtime\n",
      "\u001b[36m(_dystack pid=166)\u001b[0m Fitting model: CatBoost_r6_BAG_L2 ... Training model for up to 821.05s of the 820.79s of remaining time.\n",
      "\u001b[36m(_dystack pid=166)\u001b[0m \tFitting 10 child models (S1F1 - S1F10) | Fitting with ParallelLocalFoldFittingStrategy (4 workers, per: cpus=1, gpus=0, memory=0.06%)\n"
     ]
    },
    {
     "name": "stdout",
     "output_type": "stream",
     "text": [
      "\u001b[33m(autoscaler +2h31m22s)\u001b[0m Warning: The following resource request cannot be scheduled right now: {'CPU': 1.0}. This is likely due to all cluster resources being claimed by actors. Consider creating fewer actors or adding more nodes to this Ray cluster.\n"
     ]
    },
    {
     "name": "stderr",
     "output_type": "stream",
     "text": [
      "\u001b[36m(_dystack pid=166)\u001b[0m \t0.9067\t = Validation score   (roc_auc)\n",
      "\u001b[36m(_dystack pid=166)\u001b[0m \t18.33s\t = Training   runtime\n",
      "\u001b[36m(_dystack pid=166)\u001b[0m \t0.06s\t = Validation runtime\n",
      "\u001b[36m(_dystack pid=166)\u001b[0m Fitting model: NeuralNetFastAI_r138_BAG_L2 ... Training model for up to 799.69s of the 799.43s of remaining time.\n",
      "\u001b[36m(_dystack pid=166)\u001b[0m \tFitting 10 child models (S1F1 - S1F10) | Fitting with ParallelLocalFoldFittingStrategy (4 workers, per: cpus=1, gpus=0, memory=0.04%)\n"
     ]
    },
    {
     "name": "stdout",
     "output_type": "stream",
     "text": [
      "\u001b[33m(autoscaler +2h31m57s)\u001b[0m Warning: The following resource request cannot be scheduled right now: {'CPU': 1.0}. This is likely due to all cluster resources being claimed by actors. Consider creating fewer actors or adding more nodes to this Ray cluster.\n"
     ]
    },
    {
     "name": "stderr",
     "output_type": "stream",
     "text": [
      "\u001b[36m(_ray_fit pid=78232)\u001b[0m No improvement since epoch 9: early stopping\n",
      "\u001b[36m(_ray_fit pid=78479)\u001b[0m No improvement since epoch 6: early stopping\u001b[32m [repeated 4x across cluster]\u001b[0m\n",
      "\u001b[36m(_ray_fit pid=78603)\u001b[0m No improvement since epoch 10: early stopping\u001b[32m [repeated 4x across cluster]\u001b[0m\n",
      "\u001b[36m(_dystack pid=166)\u001b[0m \t0.8922\t = Validation score   (roc_auc)\n",
      "\u001b[36m(_dystack pid=166)\u001b[0m \t48.36s\t = Training   runtime\n",
      "\u001b[36m(_dystack pid=166)\u001b[0m \t0.22s\t = Validation runtime\n",
      "\u001b[36m(_dystack pid=166)\u001b[0m Fitting model: LightGBM_r121_BAG_L2 ... Training model for up to 748.47s of the 748.21s of remaining time.\n",
      "\u001b[36m(_dystack pid=166)\u001b[0m \tFitting 10 child models (S1F1 - S1F10) | Fitting with ParallelLocalFoldFittingStrategy (4 workers, per: cpus=1, gpus=0, memory=0.53%)\n"
     ]
    },
    {
     "name": "stdout",
     "output_type": "stream",
     "text": [
      "\u001b[33m(autoscaler +2h32m37s)\u001b[0m Warning: The following resource request cannot be scheduled right now: {'CPU': 1.0}. This is likely due to all cluster resources being claimed by actors. Consider creating fewer actors or adding more nodes to this Ray cluster.\n"
     ]
    },
    {
     "name": "stderr",
     "output_type": "stream",
     "text": [
      "\u001b[36m(_dystack pid=166)\u001b[0m \t0.903\t = Validation score   (roc_auc)\n",
      "\u001b[36m(_dystack pid=166)\u001b[0m \t23.5s\t = Training   runtime\n",
      "\u001b[36m(_dystack pid=166)\u001b[0m \t0.13s\t = Validation runtime\n",
      "\u001b[36m(_dystack pid=166)\u001b[0m Fitting model: NeuralNetFastAI_r172_BAG_L2 ... Training model for up to 721.85s of the 721.59s of remaining time.\n",
      "\u001b[36m(_ray_fit pid=78601)\u001b[0m No improvement since epoch 17: early stopping\n",
      "\u001b[36m(_dystack pid=166)\u001b[0m \tFitting 10 child models (S1F1 - S1F10) | Fitting with ParallelLocalFoldFittingStrategy (4 workers, per: cpus=1, gpus=0, memory=0.04%)\n"
     ]
    },
    {
     "name": "stdout",
     "output_type": "stream",
     "text": [
      "\u001b[33m(autoscaler +2h33m12s)\u001b[0m Warning: The following resource request cannot be scheduled right now: {'CPU': 1.0}. This is likely due to all cluster resources being claimed by actors. Consider creating fewer actors or adding more nodes to this Ray cluster.\n"
     ]
    },
    {
     "name": "stderr",
     "output_type": "stream",
     "text": [
      "\u001b[36m(_ray_fit pid=79407)\u001b[0m No improvement since epoch 9: early stopping\n",
      "\u001b[36m(_dystack pid=166)\u001b[0m \t0.8972\t = Validation score   (roc_auc)\n",
      "\u001b[36m(_dystack pid=166)\u001b[0m \t25.12s\t = Training   runtime\n",
      "\u001b[36m(_dystack pid=166)\u001b[0m \t0.15s\t = Validation runtime\n",
      "\u001b[36m(_dystack pid=166)\u001b[0m Fitting model: CatBoost_r180_BAG_L2 ... Training model for up to 693.76s of the 693.50s of remaining time.\n",
      "\u001b[36m(_dystack pid=166)\u001b[0m \tFitting 10 child models (S1F1 - S1F10) | Fitting with ParallelLocalFoldFittingStrategy (4 workers, per: cpus=1, gpus=0, memory=0.33%)\n"
     ]
    },
    {
     "name": "stdout",
     "output_type": "stream",
     "text": [
      "\u001b[33m(autoscaler +2h33m47s)\u001b[0m Warning: The following resource request cannot be scheduled right now: {'CPU': 1.0}. This is likely due to all cluster resources being claimed by actors. Consider creating fewer actors or adding more nodes to this Ray cluster.\n"
     ]
    },
    {
     "name": "stderr",
     "output_type": "stream",
     "text": [
      "\u001b[36m(_dystack pid=166)\u001b[0m \t0.9073\t = Validation score   (roc_auc)\n",
      "\u001b[36m(_dystack pid=166)\u001b[0m \t57.17s\t = Training   runtime\n",
      "\u001b[36m(_dystack pid=166)\u001b[0m \t0.05s\t = Validation runtime\n",
      "\u001b[36m(_dystack pid=166)\u001b[0m Fitting model: NeuralNetTorch_r76_BAG_L2 ... Training model for up to 633.06s of the 632.80s of remaining time.\n",
      "\u001b[36m(_dystack pid=166)\u001b[0m \tFitting 10 child models (S1F1 - S1F10) | Fitting with ParallelLocalFoldFittingStrategy (4 workers, per: cpus=1, gpus=0, memory=0.02%)\n"
     ]
    },
    {
     "name": "stdout",
     "output_type": "stream",
     "text": [
      "\u001b[33m(autoscaler +2h34m32s)\u001b[0m Warning: The following resource request cannot be scheduled right now: {'CPU': 1.0}. This is likely due to all cluster resources being claimed by actors. Consider creating fewer actors or adding more nodes to this Ray cluster.\n"
     ]
    },
    {
     "name": "stderr",
     "output_type": "stream",
     "text": [
      "\u001b[36m(_dystack pid=166)\u001b[0m \t0.9019\t = Validation score   (roc_auc)\n",
      "\u001b[36m(_dystack pid=166)\u001b[0m \t26.81s\t = Training   runtime\n",
      "\u001b[36m(_dystack pid=166)\u001b[0m \t0.23s\t = Validation runtime\n",
      "\u001b[36m(_dystack pid=166)\u001b[0m Fitting model: ExtraTrees_r197_BAG_L2 ... Training model for up to 603.20s of the 602.94s of remaining time.\n",
      "\u001b[36m(_dystack pid=166)\u001b[0m \tForcing `use_child_oof=False` because `groups` is specified\n",
      "\u001b[36m(_dystack pid=166)\u001b[0m \tFitting 10 child models (S1F1 - S1F10) | Fitting with ParallelLocalFoldFittingStrategy (4 workers, per: cpus=1, gpus=0, memory=0.01%)\n"
     ]
    },
    {
     "name": "stdout",
     "output_type": "stream",
     "text": [
      "\u001b[33m(autoscaler +2h35m8s)\u001b[0m Warning: The following resource request cannot be scheduled right now: {'CPU': 1.0}. This is likely due to all cluster resources being claimed by actors. Consider creating fewer actors or adding more nodes to this Ray cluster.\n"
     ]
    },
    {
     "name": "stderr",
     "output_type": "stream",
     "text": [
      "\u001b[36m(_dystack pid=166)\u001b[0m \t0.8994\t = Validation score   (roc_auc)\n",
      "\u001b[36m(_dystack pid=166)\u001b[0m \t17.61s\t = Training   runtime\n",
      "\u001b[36m(_dystack pid=166)\u001b[0m \t1.05s\t = Validation runtime\n",
      "\u001b[36m(_dystack pid=166)\u001b[0m Fitting model: NeuralNetTorch_r121_BAG_L2 ... Training model for up to 582.49s of the 582.23s of remaining time.\n",
      "\u001b[36m(_dystack pid=166)\u001b[0m \tFitting 10 child models (S1F1 - S1F10) | Fitting with ParallelLocalFoldFittingStrategy (4 workers, per: cpus=1, gpus=0, memory=0.02%)\n"
     ]
    },
    {
     "name": "stdout",
     "output_type": "stream",
     "text": [
      "\u001b[33m(autoscaler +2h35m43s)\u001b[0m Warning: The following resource request cannot be scheduled right now: {'CPU': 1.0}. This is likely due to all cluster resources being claimed by actors. Consider creating fewer actors or adding more nodes to this Ray cluster.\n"
     ]
    },
    {
     "name": "stderr",
     "output_type": "stream",
     "text": [
      "\u001b[36m(_dystack pid=166)\u001b[0m \t0.8978\t = Validation score   (roc_auc)\n",
      "\u001b[36m(_dystack pid=166)\u001b[0m \t127.52s\t = Training   runtime\n",
      "\u001b[36m(_dystack pid=166)\u001b[0m \t0.42s\t = Validation runtime\n",
      "\u001b[36m(_dystack pid=166)\u001b[0m Fitting model: NeuralNetFastAI_r127_BAG_L2 ... Training model for up to 452.08s of the 451.82s of remaining time.\n",
      "\u001b[36m(_dystack pid=166)\u001b[0m \tFitting 10 child models (S1F1 - S1F10) | Fitting with ParallelLocalFoldFittingStrategy (4 workers, per: cpus=1, gpus=0, memory=0.04%)\n"
     ]
    },
    {
     "name": "stdout",
     "output_type": "stream",
     "text": [
      "\u001b[33m(autoscaler +2h37m33s)\u001b[0m Warning: The following resource request cannot be scheduled right now: {'CPU': 1.0}. This is likely due to all cluster resources being claimed by actors. Consider creating fewer actors or adding more nodes to this Ray cluster.\n"
     ]
    },
    {
     "name": "stderr",
     "output_type": "stream",
     "text": [
      "\u001b[36m(_dystack pid=166)\u001b[0m \t0.8882\t = Validation score   (roc_auc)\n",
      "\u001b[36m(_dystack pid=166)\u001b[0m \t23.31s\t = Training   runtime\n",
      "\u001b[36m(_dystack pid=166)\u001b[0m \t0.19s\t = Validation runtime\n",
      "\u001b[36m(_dystack pid=166)\u001b[0m Fitting model: RandomForest_r16_BAG_L2 ... Training model for up to 425.69s of the 425.43s of remaining time.\n",
      "\u001b[36m(_dystack pid=166)\u001b[0m \tForcing `use_child_oof=False` because `groups` is specified\n",
      "\u001b[36m(_dystack pid=166)\u001b[0m \tFitting 10 child models (S1F1 - S1F10) | Fitting with ParallelLocalFoldFittingStrategy (4 workers, per: cpus=1, gpus=0, memory=0.01%)\n"
     ]
    },
    {
     "name": "stdout",
     "output_type": "stream",
     "text": [
      "\u001b[33m(autoscaler +2h38m8s)\u001b[0m Warning: The following resource request cannot be scheduled right now: {'CPU': 1.0}. This is likely due to all cluster resources being claimed by actors. Consider creating fewer actors or adding more nodes to this Ray cluster.\n"
     ]
    },
    {
     "name": "stderr",
     "output_type": "stream",
     "text": [
      "\u001b[36m(_dystack pid=166)\u001b[0m \t0.8951\t = Validation score   (roc_auc)\n",
      "\u001b[36m(_dystack pid=166)\u001b[0m \t45.72s\t = Training   runtime\n",
      "\u001b[36m(_dystack pid=166)\u001b[0m \t1.0s\t = Validation runtime\n",
      "\u001b[36m(_dystack pid=166)\u001b[0m Fitting model: NeuralNetFastAI_r194_BAG_L2 ... Training model for up to 376.63s of the 376.37s of remaining time.\n",
      "\u001b[36m(_dystack pid=166)\u001b[0m \tFitting 10 child models (S1F1 - S1F10) | Fitting with ParallelLocalFoldFittingStrategy (4 workers, per: cpus=1, gpus=0, memory=0.04%)\n"
     ]
    },
    {
     "name": "stdout",
     "output_type": "stream",
     "text": [
      "\u001b[33m(autoscaler +2h38m48s)\u001b[0m Warning: The following resource request cannot be scheduled right now: {'CPU': 1.0}. This is likely due to all cluster resources being claimed by actors. Consider creating fewer actors or adding more nodes to this Ray cluster.\n"
     ]
    },
    {
     "name": "stderr",
     "output_type": "stream",
     "text": [
      "\u001b[36m(_dystack pid=166)\u001b[0m \t0.8952\t = Validation score   (roc_auc)\n",
      "\u001b[36m(_dystack pid=166)\u001b[0m \t28.01s\t = Training   runtime\n",
      "\u001b[36m(_dystack pid=166)\u001b[0m \t0.2s\t = Validation runtime\n",
      "\u001b[36m(_dystack pid=166)\u001b[0m Fitting model: CatBoost_r12_BAG_L2 ... Training model for up to 345.70s of the 345.44s of remaining time.\n",
      "\u001b[36m(_dystack pid=166)\u001b[0m \tFitting 10 child models (S1F1 - S1F10) | Fitting with ParallelLocalFoldFittingStrategy (4 workers, per: cpus=1, gpus=0, memory=0.33%)\n"
     ]
    },
    {
     "name": "stdout",
     "output_type": "stream",
     "text": [
      "\u001b[33m(autoscaler +2h39m23s)\u001b[0m Warning: The following resource request cannot be scheduled right now: {'CPU': 1.0}. This is likely due to all cluster resources being claimed by actors. Consider creating fewer actors or adding more nodes to this Ray cluster.\n"
     ]
    },
    {
     "name": "stderr",
     "output_type": "stream",
     "text": [
      "\u001b[36m(_dystack pid=166)\u001b[0m \t0.9029\t = Validation score   (roc_auc)\n",
      "\u001b[36m(_dystack pid=166)\u001b[0m \t32.22s\t = Training   runtime\n",
      "\u001b[36m(_dystack pid=166)\u001b[0m \t0.04s\t = Validation runtime\n",
      "\u001b[36m(_dystack pid=166)\u001b[0m Fitting model: NeuralNetTorch_r135_BAG_L2 ... Training model for up to 310.25s of the 309.99s of remaining time.\n",
      "\u001b[36m(_dystack pid=166)\u001b[0m \tFitting 10 child models (S1F1 - S1F10) | Fitting with ParallelLocalFoldFittingStrategy (4 workers, per: cpus=1, gpus=0, memory=0.02%)\n"
     ]
    },
    {
     "name": "stdout",
     "output_type": "stream",
     "text": [
      "\u001b[33m(autoscaler +2h39m58s)\u001b[0m Warning: The following resource request cannot be scheduled right now: {'CPU': 1.0}. This is likely due to all cluster resources being claimed by actors. Consider creating fewer actors or adding more nodes to this Ray cluster.\n"
     ]
    },
    {
     "name": "stderr",
     "output_type": "stream",
     "text": [
      "\u001b[36m(_dystack pid=166)\u001b[0m \t0.8997\t = Validation score   (roc_auc)\n",
      "\u001b[36m(_dystack pid=166)\u001b[0m \t64.2s\t = Training   runtime\n",
      "\u001b[36m(_dystack pid=166)\u001b[0m \t0.27s\t = Validation runtime\n",
      "\u001b[36m(_dystack pid=166)\u001b[0m Fitting model: NeuralNetFastAI_r4_BAG_L2 ... Training model for up to 242.99s of the 242.73s of remaining time.\n",
      "\u001b[36m(_dystack pid=166)\u001b[0m \tFitting 10 child models (S1F1 - S1F10) | Fitting with ParallelLocalFoldFittingStrategy (4 workers, per: cpus=1, gpus=0, memory=0.04%)\n"
     ]
    },
    {
     "name": "stdout",
     "output_type": "stream",
     "text": [
      "\u001b[33m(autoscaler +2h41m3s)\u001b[0m Warning: The following resource request cannot be scheduled right now: {'CPU': 1.0}. This is likely due to all cluster resources being claimed by actors. Consider creating fewer actors or adding more nodes to this Ray cluster.\n"
     ]
    },
    {
     "name": "stderr",
     "output_type": "stream",
     "text": [
      "\u001b[36m(_ray_fit pid=83246)\u001b[0m No improvement since epoch 7: early stopping\n",
      "\u001b[36m(_ray_fit pid=83493)\u001b[0m No improvement since epoch 4: early stopping\n",
      "\u001b[36m(_ray_fit pid=83430)\u001b[0m No improvement since epoch 18: early stopping\n",
      "\u001b[36m(_dystack pid=166)\u001b[0m \t0.9029\t = Validation score   (roc_auc)\n",
      "\u001b[36m(_dystack pid=166)\u001b[0m \t27.54s\t = Training   runtime\n",
      "\u001b[36m(_dystack pid=166)\u001b[0m \t0.2s\t = Validation runtime\n",
      "\u001b[36m(_dystack pid=166)\u001b[0m Fitting model: ExtraTrees_r126_BAG_L2 ... Training model for up to 212.17s of the 211.91s of remaining time.\n",
      "\u001b[36m(_dystack pid=166)\u001b[0m \tForcing `use_child_oof=False` because `groups` is specified\n",
      "\u001b[36m(_dystack pid=166)\u001b[0m \tFitting 10 child models (S1F1 - S1F10) | Fitting with ParallelLocalFoldFittingStrategy (4 workers, per: cpus=1, gpus=0, memory=0.01%)\n"
     ]
    },
    {
     "name": "stdout",
     "output_type": "stream",
     "text": [
      "\u001b[33m(autoscaler +2h41m38s)\u001b[0m Warning: The following resource request cannot be scheduled right now: {'CPU': 1.0}. This is likely due to all cluster resources being claimed by actors. Consider creating fewer actors or adding more nodes to this Ray cluster.\n"
     ]
    },
    {
     "name": "stderr",
     "output_type": "stream",
     "text": [
      "\u001b[36m(_dystack pid=166)\u001b[0m \t0.9011\t = Validation score   (roc_auc)\n",
      "\u001b[36m(_dystack pid=166)\u001b[0m \t13.64s\t = Training   runtime\n",
      "\u001b[36m(_dystack pid=166)\u001b[0m \t0.9s\t = Validation runtime\n",
      "\u001b[36m(_dystack pid=166)\u001b[0m Fitting model: NeuralNetTorch_r36_BAG_L2 ... Training model for up to 194.76s of the 194.50s of remaining time.\n",
      "\u001b[36m(_dystack pid=166)\u001b[0m \tFitting 10 child models (S1F1 - S1F10) | Fitting with ParallelLocalFoldFittingStrategy (4 workers, per: cpus=1, gpus=0, memory=0.02%)\n"
     ]
    },
    {
     "name": "stdout",
     "output_type": "stream",
     "text": [
      "\u001b[33m(autoscaler +2h42m14s)\u001b[0m Warning: The following resource request cannot be scheduled right now: {'CPU': 1.0}. This is likely due to all cluster resources being claimed by actors. Consider creating fewer actors or adding more nodes to this Ray cluster.\n"
     ]
    },
    {
     "name": "stderr",
     "output_type": "stream",
     "text": [
      "\u001b[36m(_dystack pid=166)\u001b[0m \t0.9019\t = Validation score   (roc_auc)\n",
      "\u001b[36m(_dystack pid=166)\u001b[0m \t36.65s\t = Training   runtime\n",
      "\u001b[36m(_dystack pid=166)\u001b[0m \t0.25s\t = Validation runtime\n",
      "\u001b[36m(_dystack pid=166)\u001b[0m Fitting model: NeuralNetFastAI_r100_BAG_L2 ... Training model for up to 155.24s of the 154.99s of remaining time.\n",
      "\u001b[36m(_dystack pid=166)\u001b[0m \tFitting 10 child models (S1F1 - S1F10) | Fitting with ParallelLocalFoldFittingStrategy (4 workers, per: cpus=1, gpus=0, memory=0.04%)\n"
     ]
    },
    {
     "name": "stdout",
     "output_type": "stream",
     "text": [
      "\u001b[33m(autoscaler +2h42m49s)\u001b[0m Warning: The following resource request cannot be scheduled right now: {'CPU': 1.0}. This is likely due to all cluster resources being claimed by actors. Consider creating fewer actors or adding more nodes to this Ray cluster.\n"
     ]
    },
    {
     "name": "stderr",
     "output_type": "stream",
     "text": [
      "\u001b[36m(_ray_fit pid=84546)\u001b[0m No improvement since epoch 10: early stopping\n",
      "\u001b[36m(_ray_fit pid=84545)\u001b[0m No improvement since epoch 17: early stopping\u001b[32m [repeated 2x across cluster]\u001b[0m\n"
     ]
    },
    {
     "name": "stdout",
     "output_type": "stream",
     "text": [
      "\u001b[33m(autoscaler +2h43m24s)\u001b[0m Warning: The following resource request cannot be scheduled right now: {'CPU': 1.0}. This is likely due to all cluster resources being claimed by actors. Consider creating fewer actors or adding more nodes to this Ray cluster.\n"
     ]
    },
    {
     "name": "stderr",
     "output_type": "stream",
     "text": [
      "\u001b[36m(_ray_fit pid=84758)\u001b[0m No improvement since epoch 9: early stopping\n",
      "\u001b[36m(_ray_fit pid=84791)\u001b[0m No improvement since epoch 7: early stopping\n",
      "\u001b[36m(_ray_fit pid=84914)\u001b[0m No improvement since epoch 11: early stopping\u001b[32m [repeated 3x across cluster]\u001b[0m\n",
      "\u001b[36m(_dystack pid=166)\u001b[0m \t0.898\t = Validation score   (roc_auc)\n",
      "\u001b[36m(_dystack pid=166)\u001b[0m \t102.51s\t = Training   runtime\n",
      "\u001b[36m(_dystack pid=166)\u001b[0m \t0.4s\t = Validation runtime\n",
      "\u001b[36m(_dystack pid=166)\u001b[0m Fitting model: CatBoost_r163_BAG_L2 ... Training model for up to 49.47s of the 49.21s of remaining time.\n",
      "\u001b[36m(_dystack pid=166)\u001b[0m \tFitting 10 child models (S1F1 - S1F10) | Fitting with ParallelLocalFoldFittingStrategy (4 workers, per: cpus=1, gpus=0, memory=0.10%)\n"
     ]
    },
    {
     "name": "stdout",
     "output_type": "stream",
     "text": [
      "\u001b[33m(autoscaler +2h44m14s)\u001b[0m Warning: The following resource request cannot be scheduled right now: {'CPU': 1.0}. This is likely due to all cluster resources being claimed by actors. Consider creating fewer actors or adding more nodes to this Ray cluster.\n"
     ]
    },
    {
     "name": "stderr",
     "output_type": "stream",
     "text": [
      "\u001b[36m(_dystack pid=166)\u001b[0m \t0.9047\t = Validation score   (roc_auc)\n",
      "\u001b[36m(_dystack pid=166)\u001b[0m \t15.32s\t = Training   runtime\n",
      "\u001b[36m(_dystack pid=166)\u001b[0m \t0.05s\t = Validation runtime\n",
      "\u001b[36m(_dystack pid=166)\u001b[0m Fitting model: CatBoost_r198_BAG_L2 ... Training model for up to 30.75s of the 30.49s of remaining time.\n",
      "\u001b[36m(_ray_fit pid=84945)\u001b[0m No improvement since epoch 13: early stopping\n",
      "\u001b[36m(_dystack pid=166)\u001b[0m \tFitting 10 child models (S1F1 - S1F10) | Fitting with ParallelLocalFoldFittingStrategy (4 workers, per: cpus=1, gpus=0, memory=0.17%)\n",
      "\u001b[36m(_ray_fit pid=85398)\u001b[0m \tRan out of time, early stopping on iteration 594.\n",
      "\u001b[36m(_dystack pid=166)\u001b[0m \t0.9042\t = Validation score   (roc_auc)\n",
      "\u001b[36m(_dystack pid=166)\u001b[0m \t21.72s\t = Training   runtime\n",
      "\u001b[36m(_dystack pid=166)\u001b[0m \t0.04s\t = Validation runtime\n",
      "\u001b[36m(_dystack pid=166)\u001b[0m Fitting model: WeightedEnsemble_L3 ... Training model for up to 522.30s of the 5.91s of remaining time.\n",
      "\u001b[36m(_dystack pid=166)\u001b[0m \tEnsemble Weights: {'CatBoost_r69_BAG_L2': 0.24, 'NeuralNetTorch_r22_BAG_L2': 0.2, 'NeuralNetFastAI_r102_BAG_L2': 0.16, 'NeuralNetTorch_r41_BAG_L2': 0.12, 'XGBoost_r49_BAG_L2': 0.12, 'CatBoost_r180_BAG_L2': 0.08, 'LightGBMXT_BAG_L2': 0.04, 'NeuralNetFastAI_r103_BAG_L2': 0.04}\n",
      "\u001b[36m(_dystack pid=166)\u001b[0m \t0.9114\t = Validation score   (roc_auc)\n",
      "\u001b[36m(_dystack pid=166)\u001b[0m \t0.21s\t = Training   runtime\n",
      "\u001b[36m(_dystack pid=166)\u001b[0m \t0.0s\t = Validation runtime\n",
      "\u001b[36m(_dystack pid=166)\u001b[0m AutoGluon training complete, total runtime = 9890.47s ... Best model: WeightedEnsemble_L3 | Estimated inference throughput: 4.8 rows/s (195 batch size)\n",
      "\u001b[36m(_dystack pid=166)\u001b[0m TabularPredictor saved. To load, use: predictor = TabularPredictor.load(\"/AutoGluonModels/ds_sub_fit/sub_fit_ho\")\n",
      "\u001b[36m(_dystack pid=166)\u001b[0m INFO:sklearnex: sklearn.neighbors.KNeighborsClassifier.predict_proba: running accelerated version on CPU\n",
      "\u001b[36m(_dystack pid=166)\u001b[0m INFO:sklearnex: sklearn.neighbors.KNeighborsClassifier.predict_proba: running accelerated version on CPU\n",
      "\u001b[36m(_dystack pid=166)\u001b[0m INFO:sklearnex: sklearn.neighbors.KNeighborsClassifier.predict_proba: running accelerated version on CPU\n",
      "\u001b[36m(_dystack pid=166)\u001b[0m INFO:sklearnex: sklearn.neighbors.KNeighborsClassifier.predict_proba: running accelerated version on CPU\n",
      "\u001b[36m(_dystack pid=166)\u001b[0m INFO:sklearnex: sklearn.neighbors.KNeighborsClassifier.predict_proba: running accelerated version on CPU\n",
      "\u001b[36m(_dystack pid=166)\u001b[0m INFO:sklearnex: sklearn.neighbors.KNeighborsClassifier.predict_proba: running accelerated version on CPU\n",
      "\u001b[36m(_dystack pid=166)\u001b[0m INFO:sklearnex: sklearn.neighbors.KNeighborsClassifier.predict_proba: running accelerated version on CPU\n",
      "\u001b[36m(_dystack pid=166)\u001b[0m INFO:sklearnex: sklearn.neighbors.KNeighborsClassifier.predict_proba: running accelerated version on CPU\n",
      "\u001b[36m(_dystack pid=166)\u001b[0m INFO:sklearnex: sklearn.neighbors.KNeighborsClassifier.predict_proba: running accelerated version on CPU\n",
      "\u001b[36m(_dystack pid=166)\u001b[0m INFO:sklearnex: sklearn.neighbors.KNeighborsClassifier.predict_proba: running accelerated version on CPU\n",
      "\u001b[36m(_dystack pid=166)\u001b[0m INFO:sklearnex: sklearn.neighbors.KNeighborsClassifier.predict_proba: running accelerated version on CPU\n",
      "\u001b[36m(_dystack pid=166)\u001b[0m INFO:sklearnex: sklearn.neighbors.KNeighborsClassifier.predict_proba: running accelerated version on CPU\n",
      "\u001b[36m(_dystack pid=166)\u001b[0m INFO:sklearnex: sklearn.neighbors.KNeighborsClassifier.predict_proba: running accelerated version on CPU\n",
      "\u001b[36m(_dystack pid=166)\u001b[0m INFO:sklearnex: sklearn.neighbors.KNeighborsClassifier.predict_proba: running accelerated version on CPU\n",
      "\u001b[36m(_dystack pid=166)\u001b[0m INFO:sklearnex: sklearn.neighbors.KNeighborsClassifier.predict_proba: running accelerated version on CPU\n",
      "\u001b[36m(_dystack pid=166)\u001b[0m INFO:sklearnex: sklearn.neighbors.KNeighborsClassifier.predict_proba: running accelerated version on CPU\n",
      "\u001b[36m(_dystack pid=166)\u001b[0m INFO:sklearnex: sklearn.neighbors.KNeighborsClassifier.predict_proba: running accelerated version on CPU\n",
      "\u001b[36m(_dystack pid=166)\u001b[0m INFO:sklearnex: sklearn.neighbors.KNeighborsClassifier.predict_proba: running accelerated version on CPU\n",
      "\u001b[36m(_dystack pid=166)\u001b[0m INFO:sklearnex: sklearn.neighbors.KNeighborsClassifier.predict_proba: running accelerated version on CPU\n",
      "\u001b[36m(_dystack pid=166)\u001b[0m INFO:sklearnex: sklearn.neighbors.KNeighborsClassifier.predict_proba: running accelerated version on CPU\n",
      "\u001b[36m(_dystack pid=166)\u001b[0m Deleting DyStack predictor artifacts (clean_up_fits=True) ...\n",
      "Leaderboard on holdout data (DyStack):\n",
      "                           model  score_holdout  score_val eval_metric  pred_time_test  pred_time_val     fit_time  pred_time_test_marginal  pred_time_val_marginal  fit_time_marginal  stack_level  can_infer  fit_order\n",
      "0     NeuralNetFastAI_r65_BAG_L1       0.889674   0.889501     roc_auc        0.103294       0.151587    23.331831                 0.103294                0.151587          23.331831            1       True         68\n",
      "1     NeuralNetFastAI_r88_BAG_L2       0.888043   0.875766     roc_auc       37.012401      39.652107  1936.617035                 0.094797                0.382902          23.109784            2       True        179\n",
      "2    NeuralNetFastAI_r187_BAG_L1       0.885779   0.890005     roc_auc        0.103965       0.122385    23.998252                 0.103965                0.122385          23.998252            1       True        105\n",
      "3     NeuralNetTorch_r143_BAG_L1       0.884964   0.892904     roc_auc        0.112899       0.120251    44.879647                 0.112899                0.120251          44.879647            1       True         63\n",
      "4         ExtraTrees_r126_BAG_L1       0.884692   0.890095     roc_auc        0.924235       0.877929    12.948706                 0.924235                0.877929          12.948706            1       True        100\n",
      "5     NeuralNetFastAI_r65_BAG_L2       0.884692   0.894652     roc_auc       37.016201      39.397346  1937.282871                 0.098596                0.128141          23.775620            2       True        178\n",
      "6            CatBoost_r86_BAG_L1       0.884420   0.893612     roc_auc        0.020303       0.018476    21.308760                 0.020303                0.018476          21.308760            1       True         53\n",
      "7     NeuralNetTorch_r158_BAG_L1       0.884239   0.884951     roc_auc        0.110275       0.105308    40.968911                 0.110275                0.105308          40.968911            1       True         52\n",
      "8         NeuralNetFastAI_BAG_L2       0.883786   0.899100     roc_auc       37.036512      39.481324  1941.342769                 0.118907                0.212119          27.835518            2       True        120\n",
      "9    NeuralNetFastAI_r191_BAG_L2       0.883696   0.895747     roc_auc       37.042073      39.437987  1952.708387                 0.124469                0.168782          39.201136            2       True        128\n",
      "10     NeuralNetTorch_r30_BAG_L1       0.883514   0.895041     roc_auc        0.121032       0.121647    57.223308                 0.121032                0.121647          57.223308            1       True         31\n",
      "11   NeuralNetFastAI_r111_BAG_L1       0.883333   0.895678     roc_auc        0.289513       0.361766    58.429573                 0.289513                0.361766          58.429573            1       True         65\n",
      "12     NeuralNetTorch_r36_BAG_L1       0.883152   0.895610     roc_auc        0.086083       0.102322    37.653656                 0.086083                0.102322          37.653656            1       True        101\n",
      "13           TabPFNMix_v1_BAG_L1       0.883062   0.895958     roc_auc       32.293009      34.016638  1604.840639                32.293009               34.016638        1604.840639            1       True         11\n",
      "14          LightGBM_r130_BAG_L1       0.882880   0.894526     roc_auc        0.031158       0.031925    12.811500                 0.031158                0.031925          12.811500            1       True         32\n",
      "15          ExtraTrees_r4_BAG_L1       0.882699   0.892606     roc_auc        0.765834       1.069790    12.482437                 0.765834                1.069790          12.482437            1       True         67\n",
      "16            XGBoost_r98_BAG_L1       0.882609   0.891220     roc_auc        0.229815       0.152351    13.362102                 0.229815                0.152351          13.362102            1       True         50\n",
      "17         ExtraTrees_r49_BAG_L1       0.882518   0.885975     roc_auc        0.931388       0.857094    12.735334                 0.931388                0.857094          12.735334            1       True         57\n",
      "18         ExtraTreesGini_BAG_L1       0.882518   0.885975     roc_auc        0.970695       0.943050    11.560337                 0.970695                0.943050          11.560337            1       True          8\n",
      "19   NeuralNetFastAI_r143_BAG_L1       0.882337   0.892450     roc_auc        0.106647       0.150502    24.092141                 0.106647                0.150502          24.092141            1       True         42\n",
      "20            XGBoost_r31_BAG_L1       0.882337   0.897303     roc_auc        0.207153       0.117704    10.131187                 0.207153                0.117704          10.131187            1       True         78\n",
      "21            XGBoost_r22_BAG_L1       0.881975   0.891508     roc_auc        0.102365       0.053552     8.427490                 0.102365                0.053552           8.427490            1       True         84\n",
      "22       RandomForestGini_BAG_L2       0.881884   0.896697     roc_auc       37.824123      40.268392  1929.698825                 0.906519                0.999187          16.191575            2       True        115\n",
      "23           LightGBM_r15_BAG_L2       0.881612   0.903846     roc_auc       36.971951      39.341127  1928.348278                 0.054347                0.071922          14.841028            2       True        161\n",
      "24      RandomForest_r166_BAG_L2       0.881431   0.896749     roc_auc       37.820665      40.173417  1933.473696                 0.903060                0.904212          19.966445            2       True        187\n",
      "25          LightGBM_r161_BAG_L1       0.881431   0.890226     roc_auc        0.206877       0.101362    18.313436                 0.206877                0.101362          18.313436            1       True         41\n",
      "26          LightGBM_r121_BAG_L1       0.881431   0.889278     roc_auc        0.216133       0.117493    18.111066                 0.216133                0.117493          18.111066            1       True         88\n",
      "27          LightGBM_r135_BAG_L1       0.881341   0.891124     roc_auc        0.050128       0.037657    13.717772                 0.050128                0.037657          13.717772            1       True         83\n",
      "28        ExtraTrees_r172_BAG_L2       0.881250   0.900942     roc_auc       37.787404      40.210693  1925.145730                 0.869800                0.941488          11.638480            2       True        147\n",
      "29        ExtraTrees_r178_BAG_L2       0.881250   0.900954     roc_auc       37.792813      40.111957  1927.627491                 0.875209                0.842752          14.120240            2       True        186\n",
      "30           CatBoost_r49_BAG_L2       0.881250   0.903961     roc_auc       36.940734      39.315298  1927.344980                 0.023129                0.046093          13.837729            2       True        166\n",
      "31     NeuralNetTorch_r22_BAG_L1       0.881250   0.896103     roc_auc        0.082988       0.147216    36.301687                 0.082988                0.147216          36.301687            1       True         21\n",
      "32         ExtraTreesEntr_BAG_L1       0.881114   0.888125     roc_auc        0.960614       0.857318    10.920365                 0.960614                0.857318          10.920365            1       True          9\n",
      "33            XGBoost_r34_BAG_L1       0.880978   0.890700     roc_auc        0.119663       0.092871     9.810743                 0.119663                0.092871           9.810743            1       True        108\n",
      "34          ExtraTrees_r4_BAG_L2       0.880888   0.900723     roc_auc       37.763709      40.091386  1925.570248                 0.846104                0.822181          12.062998            2       True        177\n",
      "35     NeuralNetTorch_r14_BAG_L1       0.880797   0.897458     roc_auc        0.066524       0.110521    27.464777                 0.066524                0.110521          27.464777            1       True         40\n",
      "36       RandomForest_r34_BAG_L2       0.880797   0.900513     roc_auc       37.988812      40.332701  1933.965933                 1.071208                1.063497          20.458683            2       True        171\n",
      "37           CatBoost_r13_BAG_L1       0.880707   0.897691     roc_auc        0.028448       0.017846    29.743822                 0.028448                0.017846          29.743822            1       True         26\n",
      "38        ExtraTrees_r197_BAG_L2       0.880480   0.899361     roc_auc       37.811291      40.318311  1931.114469                 0.893687                1.049106          17.607218            2       True        202\n",
      "39     NeuralNetTorch_r22_BAG_L2       0.880435   0.905073     roc_auc       37.099249      39.574642  1963.088344                 0.181644                0.305437          49.581093            2       True        131\n",
      "40           LightGBM_r96_BAG_L1       0.880435   0.898724     roc_auc        0.213680       0.285194    13.986938                 0.213680                0.285194          13.986938            1       True         20\n",
      "41          CatBoost_r143_BAG_L2       0.880435   0.901650     roc_auc       36.939281      39.326615  1940.125521                 0.021677                0.057410          26.618271            2       True        185\n",
      "42          LightGBM_r130_BAG_L2       0.880344   0.900843     roc_auc       36.945243      39.330780  1927.348169                 0.027639                0.061575          13.840918            2       True        142\n",
      "43            CatBoost_r5_BAG_L1       0.880344   0.897296     roc_auc        0.019107       0.015518    12.680280                 0.019107                0.015518          12.680280            1       True         72\n",
      "44     NeuralNetTorch_r36_BAG_L2       0.880254   0.901850     roc_auc       37.115412      39.516477  1950.156853                 0.197808                0.247272          36.649602            2       True        211\n",
      "45           LightGBM_r94_BAG_L1       0.880254   0.897847     roc_auc        0.075578       0.093765    13.471611                 0.075578                0.093765          13.471611            1       True         62\n",
      "46        ExtraTrees_r178_BAG_L1       0.880254   0.891208     roc_auc        0.838222       0.972025    13.850744                 0.838222                0.972025          13.850744            1       True         76\n",
      "47     NeuralNetTorch_r31_BAG_L1       0.880163   0.895018     roc_auc        0.075197       0.109646    30.806710                 0.075197                0.109646          30.806710            1       True         66\n",
      "48            CatBoost_r5_BAG_L2       0.880163   0.905493     roc_auc       36.939203      39.330255  1927.853288                 0.021599                0.061050          14.346037            2       True        182\n",
      "49   NeuralNetFastAI_r160_BAG_L2       0.880072   0.898863     roc_auc       37.054538      39.588127  1946.215119                 0.136933                0.318922          32.707869            2       True        190\n",
      "50       RandomForest_r15_BAG_L2       0.879891   0.896717     roc_auc       37.740894      40.340250  1945.576321                 0.823289                1.071045          32.069070            2       True        192\n",
      "51         ExtraTrees_r49_BAG_L2       0.879891   0.896189     roc_auc       37.851516      40.085679  1926.825832                 0.933912                0.816474          13.318581            2       True        167\n",
      "52         ExtraTreesGini_BAG_L2       0.879891   0.896189     roc_auc       37.892338      40.129479  1925.394737                 0.974733                0.860274          11.887487            2       True        118\n",
      "53         ExtraTrees_r42_BAG_L2       0.879846   0.899005     roc_auc       37.846709      40.173986  1926.461671                 0.929105                0.904781          12.954421            2       True        133\n",
      "54       RandomForestEntr_BAG_L2       0.879846   0.901629     roc_auc       37.817711      40.213429  1929.681587                 0.900106                0.944224          16.174337            2       True        116\n",
      "55          CatBoost_r163_BAG_L2       0.879801   0.904660     roc_auc       36.939073      39.316351  1928.827739                 0.021468                0.047146          15.320488            2       True        213\n",
      "56           LightGBM_r42_BAG_L1       0.879801   0.897225     roc_auc        0.040844       0.064120    12.871500                 0.040844                0.064120          12.871500            1       True        109\n",
      "57           LightGBM_r15_BAG_L1       0.879801   0.893221     roc_auc        0.049987       0.052051    12.835355                 0.049987                0.052051          12.835355            1       True         51\n",
      "58      NeuralNetTorch_r1_BAG_L1       0.879710   0.890295     roc_auc        0.100137       0.131155    34.541009                 0.100137                0.131155          34.541009            1       True        110\n",
      "59    NeuralNetTorch_r197_BAG_L1       0.879620   0.897812     roc_auc        0.072932       0.103666    25.095428                 0.072932                0.103666          25.095428            1       True         55\n",
      "60            CatBoost_r6_BAG_L1       0.879348   0.896238     roc_auc        0.023415       0.017031    13.033021                 0.023415                0.017031          13.033021            1       True         86\n",
      "61           CatBoost_r12_BAG_L2       0.879348   0.902909     roc_auc       36.942313      39.310036  1945.724075                 0.024709                0.040831          32.216824            2       True        207\n",
      "62   NeuralNetFastAI_r127_BAG_L1       0.879257   0.890989     roc_auc        0.100618       0.212526    22.713802                 0.100618                0.212526          22.713802            1       True         94\n",
      "63    NeuralNetFastAI_r37_BAG_L1       0.879257   0.893388     roc_auc        0.121330       0.195938    28.296884                 0.121330                0.195938          28.296884            1       True         54\n",
      "64               CatBoost_BAG_L1       0.879167   0.895465     roc_auc        0.318020       0.026472    13.703807                 0.318020                0.026472          13.703807            1       True          7\n",
      "65        ExtraTrees_r126_BAG_L2       0.879076   0.901142     roc_auc       37.834256      40.169730  1927.149327                 0.916651                0.900525          13.642077            2       True        210\n",
      "66            XGBoost_r89_BAG_L1       0.879076   0.896725     roc_auc        0.085605       0.066102     8.870326                 0.085605                0.066102           8.870326            1       True         30\n",
      "67      RandomForest_r195_BAG_L2       0.879031   0.895253     roc_auc       37.807132      40.534864  1948.109907                 0.889528                1.265659          34.602657            2       True        137\n",
      "68          CatBoost_r198_BAG_L1       0.878986   0.896609     roc_auc        0.018146       0.018516    14.465344                 0.018146                0.018516          14.465344            1       True        104\n",
      "69            XGBoost_r49_BAG_L1       0.878895   0.891264     roc_auc        0.106336       0.095680     9.636603                 0.106336                0.095680           9.636603            1       True         71\n",
      "70    NeuralNetTorch_r121_BAG_L1       0.878804   0.888006     roc_auc        0.091114       0.128416    43.864269                 0.091114                0.128416          43.864269            1       True         93\n",
      "71          CatBoost_r137_BAG_L2       0.878804   0.904351     roc_auc       36.942747      39.315025  1927.979282                 0.025143                0.045820          14.472032            2       True        134\n",
      "72      RandomForest_r127_BAG_L2       0.878804   0.898312     roc_auc       37.774765      40.366425  1950.653341                 0.857161                1.097220          37.146090            2       True        169\n",
      "73       RandomForest_r39_BAG_L2       0.878759   0.896240     roc_auc       37.807798      40.280741  1945.479933                 0.890194                1.011536          31.972682            2       True        156\n",
      "74    NeuralNetFastAI_r11_BAG_L1       0.878714   0.900341     roc_auc        0.142794       0.180031    44.456250                 0.142794                0.180031          44.456250            1       True         35\n",
      "75            XGBoost_r33_BAG_L1       0.878623   0.888466     roc_auc        0.147177       0.097865    12.246952                 0.147177                0.097865          12.246952            1       True         22\n",
      "76   NeuralNetFastAI_r160_BAG_L1       0.878623   0.897030     roc_auc        0.188762       0.157811    31.767355                 0.188762                0.157811          31.767355            1       True         80\n",
      "77          LightGBM_r135_BAG_L2       0.878623   0.903624     roc_auc       36.957176      39.320848  1929.104559                 0.039572                0.051643          15.597308            2       True        193\n",
      "78          CatBoost_r128_BAG_L1       0.878442   0.892752     roc_auc        0.025941       0.028598    33.927006                 0.025941                0.028598          33.927006            1       True         64\n",
      "79          CatBoost_r180_BAG_L2       0.878442   0.907297     roc_auc       36.954519      39.317504  1970.678914                 0.036914                0.048300          57.171664            2       True        200\n",
      "80          LightGBM_r131_BAG_L1       0.878442   0.886882     roc_auc        0.092882       0.072512    14.861747                 0.092882                0.072512          14.861747            1       True         17\n",
      "81       RandomForest_r34_BAG_L1       0.878261   0.892477     roc_auc        0.768893       0.891171    13.168620                 0.768893                0.891171          13.168620            1       True         61\n",
      "82           WeightedEnsemble_L3       0.878261   0.911356     roc_auc       37.934797      40.578869  2194.646721                 0.003609                0.000664           0.205765            3       True        215\n",
      "83           TabPFNMix_v1_BAG_L2       0.878261   0.903466     roc_auc       67.867510      78.353572  3672.607932                30.949905               39.084367        1759.100682            2       True        121\n",
      "84            CatBoost_r9_BAG_L2       0.878170   0.903681     roc_auc       36.953971      39.315291  1992.602641                 0.036367                0.046086          79.095391            2       True        129\n",
      "85        ExtraTrees_r172_BAG_L1       0.878080   0.890967     roc_auc        0.781573       0.888309    10.941604                 0.781573                0.888309          10.941604            1       True         37\n",
      "86   NeuralNetFastAI_r111_BAG_L2       0.878080   0.900912     roc_auc       37.217675      39.603405  1970.997038                 0.300071                0.334200          57.489787            2       True        175\n",
      "87         NeuralNetTorch_BAG_L1       0.877989   0.891019     roc_auc        0.079650       0.102784    34.007503                 0.079650                0.102784          34.007503            1       True         13\n",
      "88           LightGBM_r94_BAG_L2       0.877989   0.904748     roc_auc       36.977484      39.330110  1927.028933                 0.059879                0.060905          13.521682            2       True        172\n",
      "89       RandomForest_r16_BAG_L2       0.877944   0.895133     roc_auc       37.798671      40.271410  1959.226598                 0.881067                1.002205          45.719347            2       True        205\n",
      "90   NeuralNetFastAI_r143_BAG_L2       0.877899   0.880622     roc_auc       37.029120      39.449542  1936.704436                 0.111515                0.180337          23.197185            2       True        152\n",
      "91          LightGBM_r121_BAG_L2       0.877899   0.903040     roc_auc       37.117121      39.399251  1937.002991                 0.199517                0.130046          23.495740            2       True        198\n",
      "92   NeuralNetFastAI_r145_BAG_L2       0.877808   0.899781     roc_auc       37.080981      39.498641  1950.519099                 0.163377                0.229436          37.011848            2       True        139\n",
      "93            CatBoost_r9_BAG_L1       0.877536   0.893384     roc_auc        0.032430       0.021985    37.280094                 0.032430                0.021985          37.280094            1       True         19\n",
      "94     NeuralNetTorch_r79_BAG_L1       0.877536   0.891040     roc_auc        0.094296       0.123018    35.670717                 0.094296                0.123018          35.670717            1       True         16\n",
      "95     NeuralNetTorch_r87_BAG_L1       0.877355   0.896897     roc_auc        0.088232       0.105518    39.943722                 0.088232                0.105518          39.943722            1       True         73\n",
      "96      RandomForest_r127_BAG_L1       0.877355   0.887818     roc_auc        0.766380       0.945607    19.582120                 0.766380                0.945607          19.582120            1       True         59\n",
      "97          CatBoost_r198_BAG_L2       0.877174   0.904204     roc_auc       36.941075      39.309492  1935.229668                 0.023471                0.040287          21.722417            2       True        214\n",
      "98   NeuralNetFastAI_r102_BAG_L2       0.877174   0.904816     roc_auc       37.228982      39.598067  1979.019392                 0.311378                0.328862          65.512141            2       True        135\n",
      "99          LightGBM_r188_BAG_L1       0.877174   0.895005     roc_auc        0.072695       0.065599    13.924784                 0.072695                0.065599          13.924784            1       True         28\n",
      "100          CatBoost_r50_BAG_L2       0.877174   0.905509     roc_auc       36.946077      39.325127  1932.024007                 0.028472                0.055922          18.516756            2       True        144\n",
      "101           XGBoost_r89_BAG_L2       0.877083   0.901818     roc_auc       37.009231      39.341229  1923.534376                 0.091626                0.072024          10.027125            2       True        140\n",
      "102         CatBoost_r177_BAG_L2       0.877083   0.905282     roc_auc       36.939902      39.316232  1933.155154                 0.022297                0.047028          19.647904            2       True        125\n",
      "103        ExtraTreesEntr_BAG_L2       0.877083   0.901246     roc_auc       37.848818      40.131789  1924.894764                 0.931213                0.862585          11.387514            2       True        119\n",
      "104    NeuralNetTorch_r19_BAG_L1       0.876993   0.894098     roc_auc        0.065064       0.112025    24.600459                 0.065064                0.112025          24.600459            1       True        106\n",
      "105         LightGBM_r196_BAG_L1       0.876993   0.896953     roc_auc        0.516805       0.518838    19.401484                 0.516805                0.518838          19.401484            1       True         45\n",
      "106           CatBoost_r6_BAG_L2       0.876993   0.906685     roc_auc       36.942423      39.329737  1931.841552                 0.024818                0.060532          18.334301            2       True        196\n",
      "107  NeuralNetFastAI_r172_BAG_L2       0.876993   0.897247     roc_auc       37.016831      39.416118  1938.632170                 0.099226                0.146913          25.124919            2       True        199\n",
      "108           XGBoost_r22_BAG_L2       0.876812   0.901140     roc_auc       37.008983      39.329569  1923.409986                 0.091378                0.060364           9.902736            2       True        194\n",
      "109         CatBoost_r167_BAG_L2       0.876812   0.901555     roc_auc       36.940658      39.332467  1940.232729                 0.023053                0.063262          26.725479            2       True        157\n",
      "110          CatBoost_r70_BAG_L2       0.876812   0.906821     roc_auc       36.948261      39.319420  1953.049983                 0.030656                0.050215          39.542732            2       True        153\n",
      "111    NeuralNetTorch_r41_BAG_L2       0.876812   0.904964     roc_auc       37.112183      39.549251  1948.635929                 0.194579                0.280046          35.128678            2       True        159\n",
      "112    NeuralNetTorch_r71_BAG_L1       0.876812   0.896739     roc_auc        0.061494       0.097658    23.980329                 0.061494                0.097658          23.980329            1       True         74\n",
      "113         CatBoost_r128_BAG_L2       0.876721   0.903510     roc_auc       36.949943      39.318068  1992.902791                 0.032339                0.048863          79.395540            2       True        174\n",
      "114              LightGBM_BAG_L2       0.876721   0.898252     roc_auc       36.940803      39.304016  1928.479155                 0.023198                0.034811          14.971905            2       True        114\n",
      "115  NeuralNetFastAI_r127_BAG_L2       0.876721   0.888239     roc_auc       37.021511      39.457307  1936.821331                 0.103906                0.188102          23.314081            2       True        204\n",
      "116         LightGBM_r131_BAG_L2       0.876630   0.902613     roc_auc       37.003488      39.343865  1930.534496                 0.085884                0.074660          17.027246            2       True        127\n",
      "117  NeuralNetFastAI_r172_BAG_L1       0.876540   0.891668     roc_auc        0.109904       0.166850    24.927634                 0.109904                0.166850          24.927634            1       True         89\n",
      "118   NeuralNetTorch_r143_BAG_L2       0.876540   0.900020     roc_auc       37.113177      39.578821  1963.747351                 0.195573                0.309616          50.240100            2       True        173\n",
      "119   NeuralNetTorch_r135_BAG_L1       0.876449   0.895389     roc_auc        0.104512       0.146637    43.542505                 0.104512                0.146637          43.542505            1       True         98\n",
      "120    NeuralNetTorch_r31_BAG_L2       0.876449   0.900867     roc_auc       37.076699      39.565634  1948.426289                 0.159094                0.296429          34.919038            2       True        176\n",
      "121   NeuralNetTorch_r197_BAG_L2       0.876359   0.901904     roc_auc       37.073114      39.564259  1940.105700                 0.155510                0.295054          26.598449            2       True        165\n",
      "122    NeuralNetTorch_r86_BAG_L1       0.876359   0.891073     roc_auc        0.081627       0.102352    32.186763                 0.081627                0.102352          32.186763            1       True         33\n",
      "123         LightGBM_r143_BAG_L1       0.876268   0.885060     roc_auc        0.099570       0.065811    15.589718                 0.099570                0.065811          15.589718            1       True         58\n",
      "124         LightGBM_r161_BAG_L2       0.876268   0.902999     roc_auc       37.107401      39.467992  1935.766160                 0.189797                0.198787          22.258909            2       True        151\n",
      "125   NeuralNetTorch_r158_BAG_L2       0.876268   0.898025     roc_auc       37.125603      39.574925  1964.670085                 0.207999                0.305720          51.162834            2       True        162\n",
      "126          WeightedEnsemble_L2       0.876268   0.906058     roc_auc        0.747211       0.834548   205.727587                 0.003963                0.000702           0.195317            2       True        112\n",
      "127         LightGBM_r143_BAG_L2       0.876087   0.899977     roc_auc       37.023584      39.391158  1932.642222                 0.105980                0.121953          19.134971            2       True        168\n",
      "128          CatBoost_r49_BAG_L1       0.875996   0.896278     roc_auc        0.019452       0.025389    12.835192                 0.019452                0.025389          12.835192            1       True         56\n",
      "129    NeuralNetFastAI_r4_BAG_L1       0.875996   0.895855     roc_auc        0.096160       0.165000    27.596232                 0.096160                0.165000          27.596232            1       True         99\n",
      "130          LightGBM_r96_BAG_L2       0.875996   0.904376     roc_auc       37.048148      39.417495  1927.599054                 0.130543                0.148291          14.091803            2       True        130\n",
      "131          LightGBM_r30_BAG_L1       0.875906   0.896670     roc_auc        0.170742       0.160791    15.313655                 0.170742                0.160791          15.313655            1       True         70\n",
      "132          CatBoost_r60_BAG_L2       0.875906   0.906268     roc_auc       36.941061      39.316581  1931.293856                 0.023457                0.047376          17.786605            2       True        191\n",
      "133          CatBoost_r12_BAG_L1       0.875815   0.896109     roc_auc        0.022075       0.021065    18.716360                 0.022075                0.021065          18.716360            1       True         97\n",
      "134         LightGBM_r196_BAG_L2       0.875815   0.902261     roc_auc       37.351290      39.614433  1932.989734                 0.433686                0.345228          19.482483            2       True        155\n",
      "135           XGBoost_r33_BAG_L2       0.875634   0.902760     roc_auc       37.054591      39.394944  1931.248410                 0.136986                0.125739          17.741159            2       True        132\n",
      "136          XGBoost_r194_BAG_L1       0.875543   0.886545     roc_auc        0.089570       0.069366     8.732621                 0.089570                0.069366           8.732621            1       True         36\n",
      "137           XGBoost_r31_BAG_L2       0.875543   0.903182     roc_auc       37.107043      39.424907  1926.699586                 0.189439                0.155703          13.192336            2       True        188\n",
      "138         CatBoost_r177_BAG_L1       0.875543   0.897517     roc_auc        0.017693       0.016549    12.776259                 0.017693                0.016549          12.776259            1       True         15\n",
      "139          CatBoost_r69_BAG_L2       0.875362   0.906948     roc_auc       36.941328      39.318053  1930.229294                 0.023723                0.048848          16.722043            2       True        148\n",
      "140          LightGBM_r30_BAG_L2       0.875181   0.903719     roc_auc       37.088947      39.461036  1929.655967                 0.171343                0.191832          16.148717            2       True        180\n",
      "141  NeuralNetFastAI_r102_BAG_L1       0.875091   0.898164     roc_auc        0.308193       0.302409    66.807684                 0.308193                0.302409          66.807684            1       True         25\n",
      "142          CatBoost_r86_BAG_L2       0.875091   0.903426     roc_auc       36.942584      39.311289  1961.985682                 0.024980                0.042084          48.478432            2       True        163\n",
      "143         LightGBM_r188_BAG_L2       0.875000   0.901626     roc_auc       36.992519      39.322128  1928.286830                 0.074915                0.052923          14.779579            2       True        138\n",
      "144   NeuralNetTorch_r121_BAG_L2       0.874819   0.897833     roc_auc       37.115723      39.685530  2041.029891                 0.198118                0.416325         127.522640            2       True        203\n",
      "145           XGBoost_r98_BAG_L2       0.874728   0.902225     roc_auc       37.140206      39.423986  1933.640943                 0.222601                0.154781          20.133692            2       True        160\n",
      "146          CatBoost_r13_BAG_L2       0.874638   0.903860     roc_auc       36.949651      39.315570  1979.221738                 0.032046                0.046365          65.714488            2       True        136\n",
      "147              LightGBM_BAG_L1       0.874547   0.888102     roc_auc        0.020705       0.026479    13.536434                 0.020705                0.026479          13.536434            1       True          4\n",
      "148          CatBoost_r69_BAG_L1       0.874547   0.898690     roc_auc        0.019033       0.013671    12.544800                 0.019033                0.013671          12.544800            1       True         38\n",
      "149      RandomForestEntr_BAG_L1       0.874411   0.882848     roc_auc        0.880287       0.944320    13.122054                 0.880287                0.944320          13.122054            1       True          6\n",
      "150         LightGBMLarge_BAG_L2       0.874366   0.885842     roc_auc       36.973025      39.311250  1935.535028                 0.055421                0.042045          22.027778            2       True        124\n",
      "151  NeuralNetFastAI_r145_BAG_L1       0.874275   0.891846     roc_auc        0.142040       0.253960    37.510475                 0.142040                0.253960          37.510475            1       True         29\n",
      "152  NeuralNetFastAI_r138_BAG_L1       0.874275   0.891613     roc_auc        0.155221       0.226563    53.328777                 0.155221                0.226563          53.328777            1       True         87\n",
      "153      RandomForestGini_BAG_L1       0.874275   0.882373     roc_auc        0.910236       0.903786    12.260457                 0.910236                0.903786          12.260457            1       True          5\n",
      "154     RandomForest_r166_BAG_L1       0.874275   0.882373     roc_auc        0.921380       0.917715    18.201090                 0.921380                0.917715          18.201090            1       True         77\n",
      "155    NeuralNetTorch_r76_BAG_L1       0.874185   0.895309     roc_auc        0.071030       0.118807    25.743701                 0.071030                0.118807          25.743701            1       True         91\n",
      "156    NeuralNetFastAI_r4_BAG_L2       0.874185   0.902930     roc_auc       37.022976      39.467975  1941.049504                 0.105372                0.198770          27.542253            2       True        209\n",
      "157               XGBoost_BAG_L2       0.874094   0.902486     roc_auc       37.016678      39.336179  1924.502978                 0.099074                0.066974          10.995727            2       True        122\n",
      "158         CatBoost_r163_BAG_L1       0.873913   0.897698     roc_auc        0.018058       0.021246    12.026574                 0.018058                0.021246          12.026574            1       True        103\n",
      "159          CatBoost_r70_BAG_L1       0.873913   0.895316     roc_auc        0.026890       0.022188    20.871512                 0.026890                0.022188          20.871512            1       True         43\n",
      "160         CatBoost_r180_BAG_L1       0.873822   0.896618     roc_auc        0.026901       0.020353    26.966646                 0.026901                0.020353          26.966646            1       True         90\n",
      "161  NeuralNetFastAI_r194_BAG_L2       0.873822   0.895182     roc_auc       37.039651      39.468893  1941.514123                 0.122047                0.199688          28.006872            2       True        206\n",
      "162         CatBoost_r137_BAG_L1       0.873732   0.897408     roc_auc        0.021568       0.018926    13.023297                 0.021568                0.018926          13.023297            1       True         24\n",
      "163   NeuralNetFastAI_r95_BAG_L1       0.873732   0.891093     roc_auc        0.142041       0.154536    38.216057                 0.142041                0.154536          38.216057            1       True         48\n",
      "164           XGBoost_r95_BAG_L1       0.873641   0.891987     roc_auc        0.091907       0.079802     8.996376                 0.091907                0.079802           8.996376            1       True        107\n",
      "165           XGBoost_r49_BAG_L2       0.873641   0.903631     roc_auc       37.015591      39.365840  1925.322710                 0.097987                0.096636          11.815459            2       True        181\n",
      "166      RandomForest_r15_BAG_L1       0.873551   0.884735     roc_auc        0.921270       0.869179    18.114359                 0.921270                0.869179          18.114359            1       True         82\n",
      "167          CatBoost_r50_BAG_L1       0.873188   0.900425     roc_auc        0.023052       0.024126    13.702675                 0.023052                0.024126          13.702675            1       True         34\n",
      "168              CatBoost_BAG_L2       0.873188   0.905434     roc_auc       36.942099      39.312612  1936.727285                 0.024494                0.043407          23.220034            2       True        117\n",
      "169  NeuralNetFastAI_r100_BAG_L1       0.873098   0.885530     roc_auc        0.337657       0.424387   105.521689                 0.337657                0.424387         105.521689            1       True        102\n",
      "170          CatBoost_r60_BAG_L1       0.872917   0.898394     roc_auc        0.022815       0.017846    13.960582                 0.022815                0.017846          13.960582            1       True         81\n",
      "171  NeuralNetFastAI_r138_BAG_L2       0.872917   0.892242     roc_auc       37.070103      39.484904  1961.871347                 0.152498                0.215699          48.364097            2       True        197\n",
      "172            LightGBMXT_BAG_L1       0.872917   0.897479     roc_auc        1.280227       0.063190    17.111599                 1.280227                0.063190          17.111599            1       True          3\n",
      "173            LightGBMXT_BAG_L2       0.872826   0.904583     roc_auc       36.972114      39.333981  1927.828578                 0.054509                0.064776          14.321327            2       True        113\n",
      "174    NeuralNetTorch_r79_BAG_L2       0.872736   0.903894     roc_auc       37.106438      39.545606  1961.521538                 0.188833                0.276401          48.014287            2       True        126\n",
      "175    NeuralNetTorch_r86_BAG_L2       0.872645   0.901897     roc_auc       37.094365      39.794028  1946.098752                 0.176761                0.524823          32.591501            2       True        143\n",
      "176               XGBoost_BAG_L1       0.872283   0.888500     roc_auc        0.090938       0.081106     8.566021                 0.090938                0.081106           8.566021            1       True         12\n",
      "177    NeuralNetTorch_r76_BAG_L2       0.872192   0.901921     roc_auc       37.071796      39.503195  1940.319666                 0.154192                0.233990          26.812416            2       True        201\n",
      "178         CatBoost_r143_BAG_L1       0.871920   0.895451     roc_auc        0.018239       0.015875    15.118617                 0.018239                0.015875          15.118617            1       True         75\n",
      "179        ExtraTrees_r42_BAG_L1       0.871920   0.885648     roc_auc        0.930340       0.804594    11.991998                 0.930340                0.804594          11.991998            1       True         23\n",
      "180    NeuralNetTorch_r71_BAG_L2       0.871920   0.901323     roc_auc       37.062674      39.548319  1938.147985                 0.145069                0.279114          24.640734            2       True        184\n",
      "181      RandomForest_r39_BAG_L1       0.871830   0.882271     roc_auc        0.810825       1.027838    17.366738                 0.810825                1.027838          17.366738            1       True         46\n",
      "182       ExtraTrees_r197_BAG_L1       0.871830   0.885579     roc_auc        0.934495       0.932933    15.765053                 0.934495                0.932933          15.765053            1       True         92\n",
      "183  NeuralNetFastAI_r103_BAG_L2       0.871739   0.904695     roc_auc       37.030454      39.405300  1944.188550                 0.112849                0.136095          30.681300            2       True        149\n",
      "184  NeuralNetFastAI_r156_BAG_L1       0.871649   0.893233     roc_auc        0.282366       0.297267    71.736850                 0.282366                0.297267          71.736850            1       True         44\n",
      "185    NeuralNetTorch_r87_BAG_L2       0.871649   0.900115     roc_auc       37.088878      39.644622  1949.456733                 0.171274                0.375417          35.949482            2       True        183\n",
      "186          XGBoost_r194_BAG_L2       0.871649   0.902255     roc_auc       37.022534      39.443597  1924.737494                 0.104930                0.174392          11.230243            2       True        146\n",
      "187         CatBoost_r167_BAG_L1       0.871196   0.894367     roc_auc        0.018582       0.022130    16.089291                 0.018582                0.022130          16.089291            1       True         47\n",
      "188  NeuralNetFastAI_r103_BAG_L1       0.871196   0.895371     roc_auc        0.112439       0.153831    31.209401                 0.112439                0.153831          31.209401            1       True         39\n",
      "189   NeuralNetFastAI_r69_BAG_L2       0.870924   0.902267     roc_auc       37.064697      39.569561  1944.774297                 0.147092                0.300356          31.267046            2       True        195\n",
      "190  NeuralNetFastAI_r194_BAG_L1       0.870833   0.893419     roc_auc        0.112101       0.136877    26.742657                 0.112101                0.136877          26.742657            1       True         96\n",
      "191        NeuralNetTorch_BAG_L2       0.870652   0.903041     roc_auc       37.087047      39.616703  1947.771479                 0.169443                0.347498          34.264229            2       True        123\n",
      "192   NeuralNetFastAI_r37_BAG_L2       0.870652   0.901742     roc_auc       37.035864      39.528806  1942.105114                 0.118259                0.259601          28.597864            2       True        164\n",
      "193    NeuralNetTorch_r30_BAG_L2       0.870471   0.898330     roc_auc       37.117268      39.549870  1975.858489                 0.199663                0.280665          62.351238            2       True        141\n",
      "194       NeuralNetFastAI_BAG_L1       0.870380   0.888245     roc_auc        2.445522       0.144986    29.246326                 2.445522                0.144986          29.246326            1       True         10\n",
      "195      RandomForest_r16_BAG_L1       0.870290   0.878895     roc_auc        0.916903       0.939537    25.265276                 0.916903                0.939537          25.265276            1       True         95\n",
      "196   NeuralNetFastAI_r11_BAG_L2       0.870109   0.899619     roc_auc       37.070067      39.478225  1957.147101                 0.152463                0.209020          43.639850            2       True        145\n",
      "197  NeuralNetFastAI_r191_BAG_L1       0.869475   0.891095     roc_auc        0.121671       0.140408    37.184813                 0.121671                0.140408          37.184813            1       True         18\n",
      "198    NeuralNetTorch_r14_BAG_L2       0.869112   0.901133     roc_auc       37.078086      39.553080  1941.786335                 0.160481                0.283875          28.279085            2       True        150\n",
      "199     RandomForest_r195_BAG_L1       0.868841   0.880417     roc_auc        0.881082       0.860236    19.158076                 0.881082                0.860236          19.158076            1       True         27\n",
      "200   NeuralNetFastAI_r69_BAG_L1       0.868659   0.895673     roc_auc        0.154698       0.191841    30.712860                 0.154698                0.191841          30.712860            1       True         85\n",
      "201    NeuralNetTorch_r89_BAG_L1       0.868207   0.893545     roc_auc        0.090994       0.119012    39.849334                 0.090994                0.119012          39.849334            1       True        111\n",
      "202  NeuralNetFastAI_r100_BAG_L2       0.867935   0.898022     roc_auc       37.235642      39.674201  2016.013364                 0.318037                0.404996         102.506113            2       True        212\n",
      "203   NeuralNetFastAI_r95_BAG_L2       0.867844   0.898342     roc_auc       37.067221      39.598602  1950.521125                 0.149616                0.329397          37.013874            2       True        158\n",
      "204    NeuralNetTorch_r41_BAG_L1       0.866848   0.894722     roc_auc        0.091858       0.110449    39.138991                 0.091858                0.110449          39.138991            1       True         49\n",
      "205   NeuralNetTorch_r185_BAG_L1       0.866848   0.892362     roc_auc        0.143449       0.149632    33.977661                 0.143449                0.149632          33.977661            1       True         79\n",
      "206   NeuralNetFastAI_r88_BAG_L1       0.866304   0.873853     roc_auc        0.091933       0.201100    22.647678                 0.091933                0.201100          22.647678            1       True         69\n",
      "207  NeuralNetFastAI_r134_BAG_L2       0.866214   0.903692     roc_auc       37.265267      39.617129  2036.332863                 0.347663                0.347924         122.825612            2       True        170\n",
      "208   NeuralNetTorch_r135_BAG_L2       0.866123   0.899747     roc_auc       37.115065      39.544017  1977.706124                 0.197460                0.274812          64.198874            2       True        208\n",
      "209   NeuralNetTorch_r185_BAG_L2       0.865399   0.895704     roc_auc       37.104192      39.612068  1954.429510                 0.186587                0.342863          40.922260            2       True        189\n",
      "210  NeuralNetFastAI_r134_BAG_L1       0.864493   0.895128     roc_auc        0.358232       0.344811   127.724157                 0.358232                0.344811         127.724157            1       True         60\n",
      "211  NeuralNetFastAI_r156_BAG_L2       0.856069   0.900372     roc_auc       37.218314      39.617015  1987.718022                 0.300709                0.347811          74.210771            2       True        154\n",
      "212         LightGBMLarge_BAG_L1       0.854710   0.866446     roc_auc        0.054122       0.027328    16.615273                 0.054122                0.027328          16.615273            1       True         14\n",
      "213        KNeighborsUnif_BAG_L1       0.829438   0.840295     roc_auc        0.245608       0.043463     6.460685                 0.245608                0.043463           6.460685            1       True          1\n",
      "214        KNeighborsDist_BAG_L1       0.827672   0.841958     roc_auc        0.025114       0.033320     6.590330                 0.025114                0.033320           6.590330            1       True          2\n",
      "\t1\t = Optimal   num_stack_levels (Stacked Overfitting Occurred: False)\n",
      "\t10017s\t = DyStack   runtime |\t29583s\t = Remaining runtime\n",
      "Starting main fit with num_stack_levels=1.\n",
      "\tFor future fit calls on this dataset, you can skip DyStack to save time: `predictor.fit(..., dynamic_stacking=False, num_stack_levels=1)`\n",
      "Values in column 'fold' used as split folds instead of being automatically set. Bagged models will have 10 splits.\n",
      "Beginning AutoGluon training ... Time limit = 29583s\n",
      "AutoGluon will save models to \"/AutoGluonModels\"\n",
      "Train Data Rows:    2190\n",
      "Train Data Columns: 12\n",
      "Label Column:       rainfall\n",
      "Problem Type:       binary\n",
      "Preprocessing data ...\n",
      "Selected class <--> label mapping:  class 1 = 1, class 0 = 0\n",
      "Using Feature Generators to preprocess the data ...\n",
      "Fitting AutoMLPipelineFeatureGenerator...\n",
      "\tAvailable Memory:                    29818.09 MB\n",
      "\tTrain Data (Original)  Memory Usage: 0.18 MB (0.0% of available memory)\n",
      "\tInferring data type of each feature based on column values. Set feature_metadata_in to manually specify special dtypes of the features.\n",
      "\tStage 1 Generators:\n",
      "\t\tFitting AsTypeFeatureGenerator...\n",
      "\tStage 2 Generators:\n",
      "\t\tFitting FillNaFeatureGenerator...\n",
      "\tStage 3 Generators:\n",
      "\t\tFitting IdentityFeatureGenerator...\n",
      "\tStage 4 Generators:\n",
      "\t\tFitting DropUniqueFeatureGenerator...\n",
      "\tStage 5 Generators:\n",
      "\t\tFitting DropDuplicatesFeatureGenerator...\n",
      "\tTypes of features in original data (raw dtype, special dtypes):\n",
      "\t\t('float', []) : 10 | ['pressure', 'maxtemp', 'temparature', 'mintemp', 'dewpoint', ...]\n",
      "\t\t('int', [])   :  1 | ['day']\n",
      "\tTypes of features in processed data (raw dtype, special dtypes):\n",
      "\t\t('float', []) : 10 | ['pressure', 'maxtemp', 'temparature', 'mintemp', 'dewpoint', ...]\n",
      "\t\t('int', [])   :  1 | ['day']\n",
      "\t0.0s = Fit runtime\n",
      "\t11 features in original data used to generate 11 features in processed data.\n",
      "\tTrain Data (Processed) Memory Usage: 0.18 MB (0.0% of available memory)\n",
      "Data preprocessing and feature engineering runtime = 0.06s ...\n",
      "AutoGluon will gauge predictive performance using evaluation metric: 'roc_auc'\n",
      "\tThis metric expects predicted probabilities rather than predicted class labels, so you'll need to use predict_proba() instead of predict()\n",
      "\tTo change this, specify the eval_metric parameter of Predictor()\n",
      "Large model count detected (119 configs) ... Only displaying the first 3 models of each family. To see all, set `verbosity=3`.\n",
      "User-specified model hyperparameters to be fit:\n",
      "{\n",
      "\t'TABPFNMIX': [{'model_path_classifier': 'autogluon/tabpfn-mix-1.0-classifier', 'model_path_regressor': 'autogluon/tabpfn-mix-1.0-regressor', 'n_ensembles': 1, 'max_epochs': 30, 'ag.sample_rows_val': 5000, 'ag.max_rows': 50000, 'ag_args': {'name_suffix': '_v1'}}],\n",
      "\t'NN_TORCH': [{}, {'activation': 'elu', 'dropout_prob': 0.10077639529843717, 'hidden_size': 108, 'learning_rate': 0.002735937344002146, 'num_layers': 4, 'use_batchnorm': True, 'weight_decay': 1.356433327634438e-12, 'ag_args': {'name_suffix': '_r79', 'priority': -2}}, {'activation': 'elu', 'dropout_prob': 0.11897478034205347, 'hidden_size': 213, 'learning_rate': 0.0010474382260641949, 'num_layers': 4, 'use_batchnorm': False, 'weight_decay': 5.594471067786272e-10, 'ag_args': {'name_suffix': '_r22', 'priority': -7}}],\n",
      "\t'GBM': [{'extra_trees': True, 'ag_args': {'name_suffix': 'XT'}}, {}, {'learning_rate': 0.03, 'num_leaves': 128, 'feature_fraction': 0.9, 'min_data_in_leaf': 3, 'ag_args': {'name_suffix': 'Large', 'priority': 0, 'hyperparameter_tune_kwargs': None}}],\n",
      "\t'CAT': [{}, {'depth': 6, 'grow_policy': 'SymmetricTree', 'l2_leaf_reg': 2.1542798306067823, 'learning_rate': 0.06864209415792857, 'max_ctr_complexity': 4, 'one_hot_max_size': 10, 'ag_args': {'name_suffix': '_r177', 'priority': -1}}, {'depth': 8, 'grow_policy': 'Depthwise', 'l2_leaf_reg': 2.7997999596449104, 'learning_rate': 0.031375015734637225, 'max_ctr_complexity': 2, 'one_hot_max_size': 3, 'ag_args': {'name_suffix': '_r9', 'priority': -5}}],\n",
      "\t'XGB': [{}, {'colsample_bytree': 0.6917311125174739, 'enable_categorical': False, 'learning_rate': 0.018063876087523967, 'max_depth': 10, 'min_child_weight': 0.6028633586934382, 'ag_args': {'name_suffix': '_r33', 'priority': -8}}, {'colsample_bytree': 0.6628423832084077, 'enable_categorical': False, 'learning_rate': 0.08775715546881824, 'max_depth': 5, 'min_child_weight': 0.6294123374222513, 'ag_args': {'name_suffix': '_r89', 'priority': -16}}],\n",
      "\t'FASTAI': [{}, {'bs': 256, 'emb_drop': 0.5411770367537934, 'epochs': 43, 'layers': [800, 400], 'lr': 0.01519848858318159, 'ps': 0.23782946566604385, 'ag_args': {'name_suffix': '_r191', 'priority': -4}}, {'bs': 2048, 'emb_drop': 0.05070411322605811, 'epochs': 29, 'layers': [200, 100], 'lr': 0.08974235041576624, 'ps': 0.10393466140748028, 'ag_args': {'name_suffix': '_r102', 'priority': -11}}],\n",
      "\t'RF': [{'criterion': 'gini', 'ag_args': {'name_suffix': 'Gini', 'problem_types': ['binary', 'multiclass']}}, {'criterion': 'entropy', 'ag_args': {'name_suffix': 'Entr', 'problem_types': ['binary', 'multiclass']}}, {'criterion': 'squared_error', 'ag_args': {'name_suffix': 'MSE', 'problem_types': ['regression', 'quantile']}}],\n",
      "\t'XT': [{'criterion': 'gini', 'ag_args': {'name_suffix': 'Gini', 'problem_types': ['binary', 'multiclass']}}, {'criterion': 'entropy', 'ag_args': {'name_suffix': 'Entr', 'problem_types': ['binary', 'multiclass']}}, {'criterion': 'squared_error', 'ag_args': {'name_suffix': 'MSE', 'problem_types': ['regression', 'quantile']}}],\n",
      "\t'KNN': [{'weights': 'uniform', 'ag_args': {'name_suffix': 'Unif'}}, {'weights': 'distance', 'ag_args': {'name_suffix': 'Dist'}}],\n",
      "}\n",
      "AutoGluon will fit 2 stack levels (L1 to L2) ...\n",
      "Fitting 111 L1 models, fit_strategy=\"parallel\" ...\n",
      "Note: fit_strategy='parallel', but `num_cpus=4`. Running parallel mode with fewer than 12 CPUs is not recommended and has been disabled. You can override this by specifying `os.environ[\"AG_FORCE_PARALLEL\"] = \"True\"`. Falling back to fit_strategy='sequential' ...\n",
      "Fitting model: KNeighborsUnif_BAG_L1 ... Training model for up to 19716.92s of the 29582.77s of remaining time.\n",
      "\tForcing `use_child_oof=False` because `groups` is specified\n",
      "\tFitting 10 child models (S1F1 - S1F10) | Fitting with ParallelLocalFoldFittingStrategy (4 workers, per: cpus=1, gpus=0, memory=0.00%)\n",
      "\t0.8409\t = Validation score   (roc_auc)\n",
      "\t6.4s\t = Training   runtime\n",
      "\t0.05s\t = Validation runtime\n",
      "Fitting model: KNeighborsDist_BAG_L1 ... Training model for up to 19707.32s of the 29573.17s of remaining time.\n",
      "\tForcing `use_child_oof=False` because `groups` is specified\n",
      "\tFitting 10 child models (S1F1 - S1F10) | Fitting with ParallelLocalFoldFittingStrategy (4 workers, per: cpus=1, gpus=0, memory=0.00%)\n",
      "\t0.8427\t = Validation score   (roc_auc)\n",
      "\t6.48s\t = Training   runtime\n",
      "\t0.05s\t = Validation runtime\n",
      "Fitting model: LightGBMXT_BAG_L1 ... Training model for up to 19697.77s of the 29563.62s of remaining time.\n",
      "\tFitting 10 child models (S1F1 - S1F10) | Fitting with ParallelLocalFoldFittingStrategy (4 workers, per: cpus=1, gpus=0, memory=0.01%)\n",
      "\t0.8965\t = Validation score   (roc_auc)\n",
      "\t13.7s\t = Training   runtime\n",
      "\t0.04s\t = Validation runtime\n",
      "Fitting model: LightGBM_BAG_L1 ... Training model for up to 19680.99s of the 29546.83s of remaining time.\n",
      "\tFitting 10 child models (S1F1 - S1F10) | Fitting with ParallelLocalFoldFittingStrategy (4 workers, per: cpus=1, gpus=0, memory=0.01%)\n",
      "\t0.8886\t = Validation score   (roc_auc)\n",
      "\t13.33s\t = Training   runtime\n",
      "\t0.03s\t = Validation runtime\n",
      "Fitting model: RandomForestGini_BAG_L1 ... Training model for up to 19664.37s of the 29530.21s of remaining time.\n",
      "\tForcing `use_child_oof=False` because `groups` is specified\n",
      "\tFitting 10 child models (S1F1 - S1F10) | Fitting with ParallelLocalFoldFittingStrategy (4 workers, per: cpus=1, gpus=0, memory=0.01%)\n",
      "\t0.8818\t = Validation score   (roc_auc)\n",
      "\t13.61s\t = Training   runtime\n",
      "\t0.93s\t = Validation runtime\n",
      "Fitting model: RandomForestEntr_BAG_L1 ... Training model for up to 19647.50s of the 29513.34s of remaining time.\n",
      "\tForcing `use_child_oof=False` because `groups` is specified\n",
      "\tFitting 10 child models (S1F1 - S1F10) | Fitting with ParallelLocalFoldFittingStrategy (4 workers, per: cpus=1, gpus=0, memory=0.01%)\n",
      "\t0.8829\t = Validation score   (roc_auc)\n",
      "\t13.12s\t = Training   runtime\n",
      "\t1.05s\t = Validation runtime\n",
      "Fitting model: CatBoost_BAG_L1 ... Training model for up to 19631.32s of the 29497.17s of remaining time.\n",
      "\tFitting 10 child models (S1F1 - S1F10) | Fitting with ParallelLocalFoldFittingStrategy (4 workers, per: cpus=1, gpus=0, memory=0.02%)\n",
      "\t0.8958\t = Validation score   (roc_auc)\n",
      "\t14.32s\t = Training   runtime\n",
      "\t0.02s\t = Validation runtime\n",
      "Fitting model: ExtraTreesGini_BAG_L1 ... Training model for up to 19613.90s of the 29479.75s of remaining time.\n",
      "\tForcing `use_child_oof=False` because `groups` is specified\n",
      "\tFitting 10 child models (S1F1 - S1F10) | Fitting with ParallelLocalFoldFittingStrategy (4 workers, per: cpus=1, gpus=0, memory=0.01%)\n",
      "\t0.8876\t = Validation score   (roc_auc)\n",
      "\t11.34s\t = Training   runtime\n",
      "\t0.89s\t = Validation runtime\n",
      "Fitting model: ExtraTreesEntr_BAG_L1 ... Training model for up to 19599.28s of the 29465.13s of remaining time.\n",
      "\tForcing `use_child_oof=False` because `groups` is specified\n",
      "\tFitting 10 child models (S1F1 - S1F10) | Fitting with ParallelLocalFoldFittingStrategy (4 workers, per: cpus=1, gpus=0, memory=0.01%)\n",
      "\t0.8884\t = Validation score   (roc_auc)\n",
      "\t11.87s\t = Training   runtime\n",
      "\t0.87s\t = Validation runtime\n",
      "Fitting model: NeuralNetFastAI_BAG_L1 ... Training model for up to 19584.07s of the 29449.92s of remaining time.\n",
      "\tFitting 10 child models (S1F1 - S1F10) | Fitting with ParallelLocalFoldFittingStrategy (4 workers, per: cpus=1, gpus=0, memory=0.01%)\n",
      "\t0.8911\t = Validation score   (roc_auc)\n",
      "\t28.87s\t = Training   runtime\n",
      "\t0.17s\t = Validation runtime\n",
      "Fitting model: TabPFNMix_v1_BAG_L1 ... Training model for up to 19552.14s of the 29417.99s of remaining time.\n",
      "\tMemory not enough to fit 10 folds in parallel. Will train 2 folds in parallel instead (Estimated 28.13% memory usage per fold, 56.27%/80.00% total).\n",
      "\tFitting 10 child models (S1F1 - S1F10) | Fitting with ParallelLocalFoldFittingStrategy (2 workers, per: cpus=2, gpus=0, memory=28.13%)\n",
      "\t0.8962\t = Validation score   (roc_auc)\n",
      "\t2005.03s\t = Training   runtime\n",
      "\t40.69s\t = Validation runtime\n",
      "Fitting model: XGBoost_BAG_L1 ... Training model for up to 17541.76s of the 27407.61s of remaining time.\n",
      "\tFitting 10 child models (S1F1 - S1F10) | Fitting with ParallelLocalFoldFittingStrategy (4 workers, per: cpus=1, gpus=0, memory=0.02%)\n",
      "\t0.8847\t = Validation score   (roc_auc)\n",
      "\t8.77s\t = Training   runtime\n",
      "\t0.05s\t = Validation runtime\n",
      "Fitting model: NeuralNetTorch_BAG_L1 ... Training model for up to 17529.80s of the 27395.64s of remaining time.\n",
      "\tFitting 10 child models (S1F1 - S1F10) | Fitting with ParallelLocalFoldFittingStrategy (4 workers, per: cpus=1, gpus=0, memory=0.00%)\n",
      "\t0.8881\t = Validation score   (roc_auc)\n",
      "\t35.71s\t = Training   runtime\n",
      "\t0.1s\t = Validation runtime\n",
      "Fitting model: LightGBMLarge_BAG_L1 ... Training model for up to 17490.99s of the 27356.84s of remaining time.\n",
      "\tFitting 10 child models (S1F1 - S1F10) | Fitting with ParallelLocalFoldFittingStrategy (4 workers, per: cpus=1, gpus=0, memory=0.03%)\n",
      "\t0.8663\t = Validation score   (roc_auc)\n",
      "\t16.89s\t = Training   runtime\n",
      "\t0.03s\t = Validation runtime\n",
      "Fitting model: CatBoost_r177_BAG_L1 ... Training model for up to 17470.37s of the 27336.21s of remaining time.\n",
      "\tFitting 10 child models (S1F1 - S1F10) | Fitting with ParallelLocalFoldFittingStrategy (4 workers, per: cpus=1, gpus=0, memory=0.02%)\n",
      "\t0.8926\t = Validation score   (roc_auc)\n",
      "\t12.88s\t = Training   runtime\n",
      "\t0.02s\t = Validation runtime\n",
      "Fitting model: NeuralNetTorch_r79_BAG_L1 ... Training model for up to 17454.18s of the 27320.02s of remaining time.\n",
      "\tFitting 10 child models (S1F1 - S1F10) | Fitting with ParallelLocalFoldFittingStrategy (4 workers, per: cpus=1, gpus=0, memory=0.00%)\n",
      "\t0.8938\t = Validation score   (roc_auc)\n",
      "\t43.46s\t = Training   runtime\n",
      "\t0.12s\t = Validation runtime\n",
      "Fitting model: LightGBM_r131_BAG_L1 ... Training model for up to 17407.64s of the 27273.49s of remaining time.\n",
      "\tFitting 10 child models (S1F1 - S1F10) | Fitting with ParallelLocalFoldFittingStrategy (4 workers, per: cpus=1, gpus=0, memory=0.02%)\n",
      "\t0.8864\t = Validation score   (roc_auc)\n",
      "\t14.35s\t = Training   runtime\n",
      "\t0.09s\t = Validation runtime\n",
      "Fitting model: NeuralNetFastAI_r191_BAG_L1 ... Training model for up to 17390.16s of the 27256.00s of remaining time.\n",
      "\tFitting 10 child models (S1F1 - S1F10) | Fitting with ParallelLocalFoldFittingStrategy (4 workers, per: cpus=1, gpus=0, memory=0.01%)\n",
      "\t0.8888\t = Validation score   (roc_auc)\n",
      "\t40.15s\t = Training   runtime\n",
      "\t0.15s\t = Validation runtime\n",
      "Fitting model: CatBoost_r9_BAG_L1 ... Training model for up to 17346.75s of the 27212.60s of remaining time.\n",
      "\tFitting 10 child models (S1F1 - S1F10) | Fitting with ParallelLocalFoldFittingStrategy (4 workers, per: cpus=1, gpus=0, memory=0.06%)\n",
      "\t0.8927\t = Validation score   (roc_auc)\n",
      "\t33.5s\t = Training   runtime\n",
      "\t0.03s\t = Validation runtime\n",
      "Fitting model: LightGBM_r96_BAG_L1 ... Training model for up to 17310.03s of the 27175.88s of remaining time.\n",
      "\tFitting 10 child models (S1F1 - S1F10) | Fitting with ParallelLocalFoldFittingStrategy (4 workers, per: cpus=1, gpus=0, memory=0.01%)\n",
      "\t0.8968\t = Validation score   (roc_auc)\n",
      "\t13.29s\t = Training   runtime\n",
      "\t0.18s\t = Validation runtime\n",
      "Fitting model: NeuralNetTorch_r22_BAG_L1 ... Training model for up to 17293.55s of the 27159.40s of remaining time.\n",
      "\tFitting 10 child models (S1F1 - S1F10) | Fitting with ParallelLocalFoldFittingStrategy (4 workers, per: cpus=1, gpus=0, memory=0.00%)\n",
      "\t0.8935\t = Validation score   (roc_auc)\n",
      "\t40.0s\t = Training   runtime\n",
      "\t0.13s\t = Validation runtime\n",
      "Fitting model: XGBoost_r33_BAG_L1 ... Training model for up to 17250.52s of the 27116.37s of remaining time.\n",
      "\tFitting 10 child models (S1F1 - S1F10) | Fitting with ParallelLocalFoldFittingStrategy (4 workers, per: cpus=1, gpus=0, memory=0.12%)\n",
      "\t0.8871\t = Validation score   (roc_auc)\n",
      "\t11.99s\t = Training   runtime\n",
      "\t0.15s\t = Validation runtime\n",
      "Fitting model: ExtraTrees_r42_BAG_L1 ... Training model for up to 17235.32s of the 27101.16s of remaining time.\n",
      "\tForcing `use_child_oof=False` because `groups` is specified\n",
      "\tFitting 10 child models (S1F1 - S1F10) | Fitting with ParallelLocalFoldFittingStrategy (4 workers, per: cpus=1, gpus=0, memory=0.01%)\n",
      "\t0.8855\t = Validation score   (roc_auc)\n",
      "\t11.99s\t = Training   runtime\n",
      "\t0.86s\t = Validation runtime\n",
      "Fitting model: CatBoost_r137_BAG_L1 ... Training model for up to 17220.17s of the 27086.02s of remaining time.\n",
      "\tFitting 10 child models (S1F1 - S1F10) | Fitting with ParallelLocalFoldFittingStrategy (4 workers, per: cpus=1, gpus=0, memory=0.01%)\n",
      "\t0.8974\t = Validation score   (roc_auc)\n",
      "\t11.89s\t = Training   runtime\n",
      "\t0.02s\t = Validation runtime\n",
      "Fitting model: NeuralNetFastAI_r102_BAG_L1 ... Training model for up to 17205.14s of the 27070.99s of remaining time.\n",
      "\tFitting 10 child models (S1F1 - S1F10) | Fitting with ParallelLocalFoldFittingStrategy (4 workers, per: cpus=1, gpus=0, memory=0.01%)\n",
      "\t0.8957\t = Validation score   (roc_auc)\n",
      "\t70.08s\t = Training   runtime\n",
      "\t0.33s\t = Validation runtime\n",
      "Fitting model: CatBoost_r13_BAG_L1 ... Training model for up to 17132.08s of the 26997.93s of remaining time.\n",
      "\tFitting 10 child models (S1F1 - S1F10) | Fitting with ParallelLocalFoldFittingStrategy (4 workers, per: cpus=1, gpus=0, memory=0.06%)\n",
      "\t0.8948\t = Validation score   (roc_auc)\n",
      "\t26.42s\t = Training   runtime\n",
      "\t0.01s\t = Validation runtime\n",
      "Fitting model: RandomForest_r195_BAG_L1 ... Training model for up to 17102.52s of the 26968.37s of remaining time.\n",
      "\tForcing `use_child_oof=False` because `groups` is specified\n",
      "\tFitting 10 child models (S1F1 - S1F10) | Fitting with ParallelLocalFoldFittingStrategy (4 workers, per: cpus=1, gpus=0, memory=0.01%)\n",
      "\t0.8789\t = Validation score   (roc_auc)\n",
      "\t19.59s\t = Training   runtime\n",
      "\t0.99s\t = Validation runtime\n",
      "Fitting model: LightGBM_r188_BAG_L1 ... Training model for up to 17079.78s of the 26945.63s of remaining time.\n",
      "\tFitting 10 child models (S1F1 - S1F10) | Fitting with ParallelLocalFoldFittingStrategy (4 workers, per: cpus=1, gpus=0, memory=0.03%)\n",
      "\t0.8948\t = Validation score   (roc_auc)\n",
      "\t13.52s\t = Training   runtime\n",
      "\t0.06s\t = Validation runtime\n",
      "Fitting model: NeuralNetFastAI_r145_BAG_L1 ... Training model for up to 17063.30s of the 26929.14s of remaining time.\n",
      "\tFitting 10 child models (S1F1 - S1F10) | Fitting with ParallelLocalFoldFittingStrategy (4 workers, per: cpus=1, gpus=0, memory=0.01%)\n",
      "\t0.8885\t = Validation score   (roc_auc)\n",
      "\t38.73s\t = Training   runtime\n",
      "\t0.19s\t = Validation runtime\n",
      "Fitting model: XGBoost_r89_BAG_L1 ... Training model for up to 17021.29s of the 26887.14s of remaining time.\n",
      "\tFitting 10 child models (S1F1 - S1F10) | Fitting with ParallelLocalFoldFittingStrategy (4 workers, per: cpus=1, gpus=0, memory=0.02%)\n",
      "\t0.8932\t = Validation score   (roc_auc)\n",
      "\t8.6s\t = Training   runtime\n",
      "\t0.06s\t = Validation runtime\n",
      "Fitting model: NeuralNetTorch_r30_BAG_L1 ... Training model for up to 17009.43s of the 26875.28s of remaining time.\n",
      "\tFitting 10 child models (S1F1 - S1F10) | Fitting with ParallelLocalFoldFittingStrategy (4 workers, per: cpus=1, gpus=0, memory=0.00%)\n",
      "\t0.8897\t = Validation score   (roc_auc)\n",
      "\t45.6s\t = Training   runtime\n",
      "\t0.13s\t = Validation runtime\n",
      "Fitting model: LightGBM_r130_BAG_L1 ... Training model for up to 16960.71s of the 26826.55s of remaining time.\n",
      "\tFitting 10 child models (S1F1 - S1F10) | Fitting with ParallelLocalFoldFittingStrategy (4 workers, per: cpus=1, gpus=0, memory=0.02%)\n",
      "\t0.8946\t = Validation score   (roc_auc)\n",
      "\t13.03s\t = Training   runtime\n",
      "\t0.04s\t = Validation runtime\n",
      "Fitting model: NeuralNetTorch_r86_BAG_L1 ... Training model for up to 16944.46s of the 26810.30s of remaining time.\n",
      "\tFitting 10 child models (S1F1 - S1F10) | Fitting with ParallelLocalFoldFittingStrategy (4 workers, per: cpus=1, gpus=0, memory=0.00%)\n",
      "\t0.8864\t = Validation score   (roc_auc)\n",
      "\t33.21s\t = Training   runtime\n",
      "\t0.14s\t = Validation runtime\n",
      "Fitting model: CatBoost_r50_BAG_L1 ... Training model for up to 16908.07s of the 26773.91s of remaining time.\n",
      "\tFitting 10 child models (S1F1 - S1F10) | Fitting with ParallelLocalFoldFittingStrategy (4 workers, per: cpus=1, gpus=0, memory=0.01%)\n",
      "\t0.8991\t = Validation score   (roc_auc)\n",
      "\t13.27s\t = Training   runtime\n",
      "\t0.02s\t = Validation runtime\n",
      "Fitting model: NeuralNetFastAI_r11_BAG_L1 ... Training model for up to 16891.29s of the 26757.14s of remaining time.\n",
      "\tFitting 10 child models (S1F1 - S1F10) | Fitting with ParallelLocalFoldFittingStrategy (4 workers, per: cpus=1, gpus=0, memory=0.01%)\n",
      "\t0.8929\t = Validation score   (roc_auc)\n",
      "\t46.18s\t = Training   runtime\n",
      "\t0.28s\t = Validation runtime\n",
      "Fitting model: XGBoost_r194_BAG_L1 ... Training model for up to 16842.02s of the 26707.86s of remaining time.\n",
      "\tFitting 10 child models (S1F1 - S1F10) | Fitting with ParallelLocalFoldFittingStrategy (4 workers, per: cpus=1, gpus=0, memory=0.03%)\n",
      "\t0.887\t = Validation score   (roc_auc)\n",
      "\t9.35s\t = Training   runtime\n",
      "\t0.07s\t = Validation runtime\n",
      "Fitting model: ExtraTrees_r172_BAG_L1 ... Training model for up to 16829.45s of the 26695.30s of remaining time.\n",
      "\tForcing `use_child_oof=False` because `groups` is specified\n",
      "\tFitting 10 child models (S1F1 - S1F10) | Fitting with ParallelLocalFoldFittingStrategy (4 workers, per: cpus=1, gpus=0, memory=0.01%)\n",
      "\t0.8912\t = Validation score   (roc_auc)\n",
      "\t11.12s\t = Training   runtime\n",
      "\t0.8s\t = Validation runtime\n",
      "Fitting model: CatBoost_r69_BAG_L1 ... Training model for up to 16815.17s of the 26681.02s of remaining time.\n",
      "\tFitting 10 child models (S1F1 - S1F10) | Fitting with ParallelLocalFoldFittingStrategy (4 workers, per: cpus=1, gpus=0, memory=0.01%)\n",
      "\t0.8971\t = Validation score   (roc_auc)\n",
      "\t13.05s\t = Training   runtime\n",
      "\t0.02s\t = Validation runtime\n",
      "Fitting model: NeuralNetFastAI_r103_BAG_L1 ... Training model for up to 16798.98s of the 26664.83s of remaining time.\n",
      "\tFitting 10 child models (S1F1 - S1F10) | Fitting with ParallelLocalFoldFittingStrategy (4 workers, per: cpus=1, gpus=0, memory=0.01%)\n",
      "\t0.8904\t = Validation score   (roc_auc)\n",
      "\t33.06s\t = Training   runtime\n",
      "\t0.15s\t = Validation runtime\n",
      "Fitting model: NeuralNetTorch_r14_BAG_L1 ... Training model for up to 16762.87s of the 26628.71s of remaining time.\n",
      "\tFitting 10 child models (S1F1 - S1F10) | Fitting with ParallelLocalFoldFittingStrategy (4 workers, per: cpus=1, gpus=0, memory=0.00%)\n",
      "\t0.8948\t = Validation score   (roc_auc)\n",
      "\t31.87s\t = Training   runtime\n",
      "\t0.11s\t = Validation runtime\n",
      "Fitting model: LightGBM_r161_BAG_L1 ... Training model for up to 16727.76s of the 26593.60s of remaining time.\n",
      "\tFitting 10 child models (S1F1 - S1F10) | Fitting with ParallelLocalFoldFittingStrategy (4 workers, per: cpus=1, gpus=0, memory=0.06%)\n",
      "\t0.888\t = Validation score   (roc_auc)\n",
      "\t18.38s\t = Training   runtime\n",
      "\t0.14s\t = Validation runtime\n",
      "Fitting model: NeuralNetFastAI_r143_BAG_L1 ... Training model for up to 16706.09s of the 26571.93s of remaining time.\n",
      "\tFitting 10 child models (S1F1 - S1F10) | Fitting with ParallelLocalFoldFittingStrategy (4 workers, per: cpus=1, gpus=0, memory=0.01%)\n",
      "\t0.894\t = Validation score   (roc_auc)\n",
      "\t23.9s\t = Training   runtime\n",
      "\t0.12s\t = Validation runtime\n",
      "Fitting model: CatBoost_r70_BAG_L1 ... Training model for up to 16678.61s of the 26544.46s of remaining time.\n",
      "\tFitting 10 child models (S1F1 - S1F10) | Fitting with ParallelLocalFoldFittingStrategy (4 workers, per: cpus=1, gpus=0, memory=0.02%)\n",
      "\t0.8942\t = Validation score   (roc_auc)\n",
      "\t20.74s\t = Training   runtime\n",
      "\t0.03s\t = Validation runtime\n",
      "Fitting model: NeuralNetFastAI_r156_BAG_L1 ... Training model for up to 16654.51s of the 26520.35s of remaining time.\n",
      "\tFitting 10 child models (S1F1 - S1F10) | Fitting with ParallelLocalFoldFittingStrategy (4 workers, per: cpus=1, gpus=0, memory=0.01%)\n",
      "\t0.8913\t = Validation score   (roc_auc)\n",
      "\t74.64s\t = Training   runtime\n",
      "\t0.29s\t = Validation runtime\n",
      "Fitting model: LightGBM_r196_BAG_L1 ... Training model for up to 16576.82s of the 26442.67s of remaining time.\n",
      "\tFitting 10 child models (S1F1 - S1F10) | Fitting with ParallelLocalFoldFittingStrategy (4 workers, per: cpus=1, gpus=0, memory=0.03%)\n",
      "\t0.8946\t = Validation score   (roc_auc)\n",
      "\t19.59s\t = Training   runtime\n",
      "\t0.54s\t = Validation runtime\n",
      "Fitting model: RandomForest_r39_BAG_L1 ... Training model for up to 16553.87s of the 26419.72s of remaining time.\n",
      "\tForcing `use_child_oof=False` because `groups` is specified\n",
      "\tFitting 10 child models (S1F1 - S1F10) | Fitting with ParallelLocalFoldFittingStrategy (4 workers, per: cpus=1, gpus=0, memory=0.01%)\n",
      "\t0.8835\t = Validation score   (roc_auc)\n",
      "\t18.41s\t = Training   runtime\n",
      "\t1.01s\t = Validation runtime\n",
      "Fitting model: CatBoost_r167_BAG_L1 ... Training model for up to 16532.27s of the 26398.12s of remaining time.\n",
      "\tFitting 10 child models (S1F1 - S1F10) | Fitting with ParallelLocalFoldFittingStrategy (4 workers, per: cpus=1, gpus=0, memory=0.03%)\n",
      "\t0.895\t = Validation score   (roc_auc)\n",
      "\t14.76s\t = Training   runtime\n",
      "\t0.02s\t = Validation runtime\n",
      "Fitting model: NeuralNetFastAI_r95_BAG_L1 ... Training model for up to 16514.50s of the 26380.35s of remaining time.\n",
      "\tFitting 10 child models (S1F1 - S1F10) | Fitting with ParallelLocalFoldFittingStrategy (4 workers, per: cpus=1, gpus=0, memory=0.01%)\n",
      "\t0.8878\t = Validation score   (roc_auc)\n",
      "\t40.15s\t = Training   runtime\n",
      "\t0.18s\t = Validation runtime\n",
      "Fitting model: NeuralNetTorch_r41_BAG_L1 ... Training model for up to 16471.17s of the 26337.02s of remaining time.\n",
      "\tFitting 10 child models (S1F1 - S1F10) | Fitting with ParallelLocalFoldFittingStrategy (4 workers, per: cpus=1, gpus=0, memory=0.00%)\n",
      "\t0.8907\t = Validation score   (roc_auc)\n",
      "\t35.92s\t = Training   runtime\n",
      "\t0.13s\t = Validation runtime\n",
      "Fitting model: XGBoost_r98_BAG_L1 ... Training model for up to 16431.79s of the 26297.64s of remaining time.\n",
      "\tFitting 10 child models (S1F1 - S1F10) | Fitting with ParallelLocalFoldFittingStrategy (4 workers, per: cpus=1, gpus=0, memory=0.06%)\n",
      "\t0.8898\t = Validation score   (roc_auc)\n",
      "\t13.63s\t = Training   runtime\n",
      "\t0.15s\t = Validation runtime\n",
      "Fitting model: LightGBM_r15_BAG_L1 ... Training model for up to 16415.12s of the 26280.97s of remaining time.\n",
      "\tFitting 10 child models (S1F1 - S1F10) | Fitting with ParallelLocalFoldFittingStrategy (4 workers, per: cpus=1, gpus=0, memory=0.01%)\n",
      "\t0.889\t = Validation score   (roc_auc)\n",
      "\t13.82s\t = Training   runtime\n",
      "\t0.09s\t = Validation runtime\n",
      "Fitting model: NeuralNetTorch_r158_BAG_L1 ... Training model for up to 16398.14s of the 26263.98s of remaining time.\n",
      "\tFitting 10 child models (S1F1 - S1F10) | Fitting with ParallelLocalFoldFittingStrategy (4 workers, per: cpus=1, gpus=0, memory=0.00%)\n",
      "\t0.878\t = Validation score   (roc_auc)\n",
      "\t62.76s\t = Training   runtime\n",
      "\t0.13s\t = Validation runtime\n",
      "Fitting model: CatBoost_r86_BAG_L1 ... Training model for up to 16332.10s of the 26197.94s of remaining time.\n",
      "\tFitting 10 child models (S1F1 - S1F10) | Fitting with ParallelLocalFoldFittingStrategy (4 workers, per: cpus=1, gpus=0, memory=0.06%)\n",
      "\t0.893\t = Validation score   (roc_auc)\n",
      "\t22.13s\t = Training   runtime\n",
      "\t0.02s\t = Validation runtime\n",
      "Fitting model: NeuralNetFastAI_r37_BAG_L1 ... Training model for up to 16307.06s of the 26172.91s of remaining time.\n",
      "\tFitting 10 child models (S1F1 - S1F10) | Fitting with ParallelLocalFoldFittingStrategy (4 workers, per: cpus=1, gpus=0, memory=0.01%)\n",
      "\t0.8897\t = Validation score   (roc_auc)\n",
      "\t28.97s\t = Training   runtime\n",
      "\t0.18s\t = Validation runtime\n",
      "Fitting model: NeuralNetTorch_r197_BAG_L1 ... Training model for up to 16275.08s of the 26140.93s of remaining time.\n",
      "\tFitting 10 child models (S1F1 - S1F10) | Fitting with ParallelLocalFoldFittingStrategy (4 workers, per: cpus=1, gpus=0, memory=0.00%)\n",
      "\t0.8948\t = Validation score   (roc_auc)\n",
      "\t28.36s\t = Training   runtime\n",
      "\t0.12s\t = Validation runtime\n",
      "Fitting model: CatBoost_r49_BAG_L1 ... Training model for up to 16243.32s of the 26109.16s of remaining time.\n",
      "\tFitting 10 child models (S1F1 - S1F10) | Fitting with ParallelLocalFoldFittingStrategy (4 workers, per: cpus=1, gpus=0, memory=0.01%)\n",
      "\t0.8956\t = Validation score   (roc_auc)\n",
      "\t10.99s\t = Training   runtime\n",
      "\t0.02s\t = Validation runtime\n",
      "Fitting model: ExtraTrees_r49_BAG_L1 ... Training model for up to 16228.80s of the 26094.65s of remaining time.\n",
      "\tForcing `use_child_oof=False` because `groups` is specified\n",
      "\tFitting 10 child models (S1F1 - S1F10) | Fitting with ParallelLocalFoldFittingStrategy (4 workers, per: cpus=1, gpus=0, memory=0.01%)\n",
      "\t0.8876\t = Validation score   (roc_auc)\n",
      "\t13.37s\t = Training   runtime\n",
      "\t1.21s\t = Validation runtime\n",
      "Fitting model: LightGBM_r143_BAG_L1 ... Training model for up to 16212.17s of the 26078.01s of remaining time.\n",
      "\tFitting 10 child models (S1F1 - S1F10) | Fitting with ParallelLocalFoldFittingStrategy (4 workers, per: cpus=1, gpus=0, memory=0.04%)\n",
      "\t0.8883\t = Validation score   (roc_auc)\n",
      "\t15.58s\t = Training   runtime\n",
      "\t0.06s\t = Validation runtime\n",
      "Fitting model: RandomForest_r127_BAG_L1 ... Training model for up to 16193.40s of the 26059.25s of remaining time.\n",
      "\tForcing `use_child_oof=False` because `groups` is specified\n",
      "\tFitting 10 child models (S1F1 - S1F10) | Fitting with ParallelLocalFoldFittingStrategy (4 workers, per: cpus=1, gpus=0, memory=0.01%)\n",
      "\t0.8868\t = Validation score   (roc_auc)\n",
      "\t21.26s\t = Training   runtime\n",
      "\t1.57s\t = Validation runtime\n",
      "Fitting model: NeuralNetFastAI_r134_BAG_L1 ... Training model for up to 16169.11s of the 26034.96s of remaining time.\n",
      "\tFitting 10 child models (S1F1 - S1F10) | Fitting with ParallelLocalFoldFittingStrategy (4 workers, per: cpus=1, gpus=0, memory=0.01%)\n",
      "\t0.8931\t = Validation score   (roc_auc)\n",
      "\t124.05s\t = Training   runtime\n",
      "\t0.36s\t = Validation runtime\n",
      "Fitting model: RandomForest_r34_BAG_L1 ... Training model for up to 16041.98s of the 25907.83s of remaining time.\n",
      "\tForcing `use_child_oof=False` because `groups` is specified\n",
      "\tFitting 10 child models (S1F1 - S1F10) | Fitting with ParallelLocalFoldFittingStrategy (4 workers, per: cpus=1, gpus=0, memory=0.01%)\n",
      "\t0.8912\t = Validation score   (roc_auc)\n",
      "\t13.27s\t = Training   runtime\n",
      "\t0.86s\t = Validation runtime\n",
      "Fitting model: LightGBM_r94_BAG_L1 ... Training model for up to 16025.52s of the 25891.37s of remaining time.\n",
      "\tFitting 10 child models (S1F1 - S1F10) | Fitting with ParallelLocalFoldFittingStrategy (4 workers, per: cpus=1, gpus=0, memory=0.01%)\n",
      "\t0.8962\t = Validation score   (roc_auc)\n",
      "\t13.17s\t = Training   runtime\n",
      "\t0.11s\t = Validation runtime\n",
      "Fitting model: NeuralNetTorch_r143_BAG_L1 ... Training model for up to 16009.21s of the 25875.06s of remaining time.\n",
      "\tFitting 10 child models (S1F1 - S1F10) | Fitting with ParallelLocalFoldFittingStrategy (4 workers, per: cpus=1, gpus=0, memory=0.00%)\n",
      "\t0.8945\t = Validation score   (roc_auc)\n",
      "\t45.96s\t = Training   runtime\n",
      "\t0.12s\t = Validation runtime\n",
      "Fitting model: CatBoost_r128_BAG_L1 ... Training model for up to 15960.03s of the 25825.88s of remaining time.\n",
      "\tFitting 10 child models (S1F1 - S1F10) | Fitting with ParallelLocalFoldFittingStrategy (4 workers, per: cpus=1, gpus=0, memory=0.06%)\n",
      "\t0.8915\t = Validation score   (roc_auc)\n",
      "\t33.74s\t = Training   runtime\n",
      "\t0.02s\t = Validation runtime\n",
      "Fitting model: NeuralNetFastAI_r111_BAG_L1 ... Training model for up to 15922.67s of the 25788.52s of remaining time.\n",
      "\tFitting 10 child models (S1F1 - S1F10) | Fitting with ParallelLocalFoldFittingStrategy (4 workers, per: cpus=1, gpus=0, memory=0.01%)\n",
      "\t0.8941\t = Validation score   (roc_auc)\n",
      "\t60.01s\t = Training   runtime\n",
      "\t0.37s\t = Validation runtime\n",
      "Fitting model: NeuralNetTorch_r31_BAG_L1 ... Training model for up to 15859.63s of the 25725.48s of remaining time.\n",
      "\tFitting 10 child models (S1F1 - S1F10) | Fitting with ParallelLocalFoldFittingStrategy (4 workers, per: cpus=1, gpus=0, memory=0.00%)\n",
      "\t0.889\t = Validation score   (roc_auc)\n",
      "\t35.3s\t = Training   runtime\n",
      "\t0.11s\t = Validation runtime\n",
      "Fitting model: ExtraTrees_r4_BAG_L1 ... Training model for up to 15821.07s of the 25686.92s of remaining time.\n",
      "\tForcing `use_child_oof=False` because `groups` is specified\n",
      "\tFitting 10 child models (S1F1 - S1F10) | Fitting with ParallelLocalFoldFittingStrategy (4 workers, per: cpus=1, gpus=0, memory=0.01%)\n",
      "\t0.8922\t = Validation score   (roc_auc)\n",
      "\t11.29s\t = Training   runtime\n",
      "\t0.85s\t = Validation runtime\n",
      "Fitting model: NeuralNetFastAI_r65_BAG_L1 ... Training model for up to 15806.31s of the 25672.15s of remaining time.\n",
      "\tFitting 10 child models (S1F1 - S1F10) | Fitting with ParallelLocalFoldFittingStrategy (4 workers, per: cpus=1, gpus=0, memory=0.01%)\n",
      "\t0.8896\t = Validation score   (roc_auc)\n",
      "\t23.77s\t = Training   runtime\n",
      "\t0.15s\t = Validation runtime\n",
      "Fitting model: NeuralNetFastAI_r88_BAG_L1 ... Training model for up to 15779.53s of the 25645.38s of remaining time.\n",
      "\tFitting 10 child models (S1F1 - S1F10) | Fitting with ParallelLocalFoldFittingStrategy (4 workers, per: cpus=1, gpus=0, memory=0.01%)\n",
      "\t0.8797\t = Validation score   (roc_auc)\n",
      "\t23.08s\t = Training   runtime\n",
      "\t0.16s\t = Validation runtime\n",
      "Fitting model: LightGBM_r30_BAG_L1 ... Training model for up to 15752.99s of the 25618.83s of remaining time.\n",
      "\tFitting 10 child models (S1F1 - S1F10) | Fitting with ParallelLocalFoldFittingStrategy (4 workers, per: cpus=1, gpus=0, memory=0.03%)\n",
      "\t0.894\t = Validation score   (roc_auc)\n",
      "\t15.25s\t = Training   runtime\n",
      "\t0.24s\t = Validation runtime\n",
      "Fitting model: XGBoost_r49_BAG_L1 ... Training model for up to 15734.17s of the 25600.01s of remaining time.\n",
      "\tFitting 10 child models (S1F1 - S1F10) | Fitting with ParallelLocalFoldFittingStrategy (4 workers, per: cpus=1, gpus=0, memory=0.03%)\n",
      "\t0.8904\t = Validation score   (roc_auc)\n",
      "\t9.7s\t = Training   runtime\n",
      "\t0.08s\t = Validation runtime\n",
      "Fitting model: CatBoost_r5_BAG_L1 ... Training model for up to 15720.97s of the 25586.82s of remaining time.\n",
      "\tFitting 10 child models (S1F1 - S1F10) | Fitting with ParallelLocalFoldFittingStrategy (4 workers, per: cpus=1, gpus=0, memory=0.01%)\n",
      "\t0.8978\t = Validation score   (roc_auc)\n",
      "\t11.19s\t = Training   runtime\n",
      "\t0.02s\t = Validation runtime\n",
      "Fitting model: NeuralNetTorch_r87_BAG_L1 ... Training model for up to 15706.67s of the 25572.51s of remaining time.\n",
      "\tFitting 10 child models (S1F1 - S1F10) | Fitting with ParallelLocalFoldFittingStrategy (4 workers, per: cpus=1, gpus=0, memory=0.00%)\n",
      "\t0.8881\t = Validation score   (roc_auc)\n",
      "\t30.12s\t = Training   runtime\n",
      "\t0.13s\t = Validation runtime\n",
      "Fitting model: NeuralNetTorch_r71_BAG_L1 ... Training model for up to 15673.44s of the 25539.28s of remaining time.\n",
      "\tFitting 10 child models (S1F1 - S1F10) | Fitting with ParallelLocalFoldFittingStrategy (4 workers, per: cpus=1, gpus=0, memory=0.00%)\n",
      "\t0.8912\t = Validation score   (roc_auc)\n",
      "\t25.12s\t = Training   runtime\n",
      "\t0.13s\t = Validation runtime\n",
      "Fitting model: CatBoost_r143_BAG_L1 ... Training model for up to 15645.18s of the 25511.02s of remaining time.\n",
      "\tFitting 10 child models (S1F1 - S1F10) | Fitting with ParallelLocalFoldFittingStrategy (4 workers, per: cpus=1, gpus=0, memory=0.03%)\n",
      "\t0.8925\t = Validation score   (roc_auc)\n",
      "\t15.21s\t = Training   runtime\n",
      "\t0.03s\t = Validation runtime\n",
      "Fitting model: ExtraTrees_r178_BAG_L1 ... Training model for up to 15626.90s of the 25492.74s of remaining time.\n",
      "\tForcing `use_child_oof=False` because `groups` is specified\n",
      "\tFitting 10 child models (S1F1 - S1F10) | Fitting with ParallelLocalFoldFittingStrategy (4 workers, per: cpus=1, gpus=0, memory=0.01%)\n",
      "\t0.8907\t = Validation score   (roc_auc)\n",
      "\t13.14s\t = Training   runtime\n",
      "\t0.84s\t = Validation runtime\n",
      "Fitting model: RandomForest_r166_BAG_L1 ... Training model for up to 15610.66s of the 25476.50s of remaining time.\n",
      "\tForcing `use_child_oof=False` because `groups` is specified\n",
      "\tFitting 10 child models (S1F1 - S1F10) | Fitting with ParallelLocalFoldFittingStrategy (4 workers, per: cpus=1, gpus=0, memory=0.01%)\n",
      "\t0.8818\t = Validation score   (roc_auc)\n",
      "\t18.26s\t = Training   runtime\n",
      "\t0.92s\t = Validation runtime\n",
      "Fitting model: XGBoost_r31_BAG_L1 ... Training model for up to 15589.24s of the 25455.09s of remaining time.\n",
      "\tFitting 10 child models (S1F1 - S1F10) | Fitting with ParallelLocalFoldFittingStrategy (4 workers, per: cpus=1, gpus=0, memory=0.02%)\n",
      "\t0.8965\t = Validation score   (roc_auc)\n",
      "\t10.74s\t = Training   runtime\n",
      "\t0.16s\t = Validation runtime\n",
      "Fitting model: NeuralNetTorch_r185_BAG_L1 ... Training model for up to 15575.38s of the 25441.22s of remaining time.\n",
      "\tFitting 10 child models (S1F1 - S1F10) | Fitting with ParallelLocalFoldFittingStrategy (4 workers, per: cpus=1, gpus=0, memory=0.00%)\n",
      "\t0.8886\t = Validation score   (roc_auc)\n",
      "\t39.31s\t = Training   runtime\n",
      "\t0.14s\t = Validation runtime\n",
      "Fitting model: NeuralNetFastAI_r160_BAG_L1 ... Training model for up to 15533.18s of the 25399.03s of remaining time.\n",
      "\tFitting 10 child models (S1F1 - S1F10) | Fitting with ParallelLocalFoldFittingStrategy (4 workers, per: cpus=1, gpus=0, memory=0.01%)\n",
      "\t0.8945\t = Validation score   (roc_auc)\n",
      "\t32.66s\t = Training   runtime\n",
      "\t0.28s\t = Validation runtime\n",
      "Fitting model: CatBoost_r60_BAG_L1 ... Training model for up to 15497.28s of the 25363.12s of remaining time.\n",
      "\tFitting 10 child models (S1F1 - S1F10) | Fitting with ParallelLocalFoldFittingStrategy (4 workers, per: cpus=1, gpus=0, memory=0.01%)\n",
      "\t0.8954\t = Validation score   (roc_auc)\n",
      "\t11.91s\t = Training   runtime\n",
      "\t0.02s\t = Validation runtime\n",
      "Fitting model: RandomForest_r15_BAG_L1 ... Training model for up to 15482.03s of the 25347.88s of remaining time.\n",
      "\tForcing `use_child_oof=False` because `groups` is specified\n",
      "\tFitting 10 child models (S1F1 - S1F10) | Fitting with ParallelLocalFoldFittingStrategy (4 workers, per: cpus=1, gpus=0, memory=0.01%)\n",
      "\t0.885\t = Validation score   (roc_auc)\n",
      "\t19.21s\t = Training   runtime\n",
      "\t0.98s\t = Validation runtime\n",
      "Fitting model: LightGBM_r135_BAG_L1 ... Training model for up to 15459.46s of the 25325.31s of remaining time.\n",
      "\tFitting 10 child models (S1F1 - S1F10) | Fitting with ParallelLocalFoldFittingStrategy (4 workers, per: cpus=1, gpus=0, memory=0.05%)\n",
      "\t0.892\t = Validation score   (roc_auc)\n",
      "\t13.39s\t = Training   runtime\n",
      "\t0.04s\t = Validation runtime\n",
      "Fitting model: XGBoost_r22_BAG_L1 ... Training model for up to 15443.26s of the 25309.11s of remaining time.\n",
      "\tFitting 10 child models (S1F1 - S1F10) | Fitting with ParallelLocalFoldFittingStrategy (4 workers, per: cpus=1, gpus=0, memory=0.02%)\n",
      "\t0.8896\t = Validation score   (roc_auc)\n",
      "\t8.91s\t = Training   runtime\n",
      "\t0.07s\t = Validation runtime\n",
      "Fitting model: NeuralNetFastAI_r69_BAG_L1 ... Training model for up to 15431.16s of the 25297.00s of remaining time.\n",
      "\tFitting 10 child models (S1F1 - S1F10) | Fitting with ParallelLocalFoldFittingStrategy (4 workers, per: cpus=1, gpus=0, memory=0.01%)\n",
      "\t0.8896\t = Validation score   (roc_auc)\n",
      "\t31.66s\t = Training   runtime\n",
      "\t0.23s\t = Validation runtime\n",
      "Fitting model: CatBoost_r6_BAG_L1 ... Training model for up to 15396.40s of the 25262.24s of remaining time.\n",
      "\tFitting 10 child models (S1F1 - S1F10) | Fitting with ParallelLocalFoldFittingStrategy (4 workers, per: cpus=1, gpus=0, memory=0.01%)\n",
      "\t0.8994\t = Validation score   (roc_auc)\n",
      "\t12.69s\t = Training   runtime\n",
      "\t0.02s\t = Validation runtime\n",
      "Fitting model: NeuralNetFastAI_r138_BAG_L1 ... Training model for up to 15380.58s of the 25246.42s of remaining time.\n",
      "\tFitting 10 child models (S1F1 - S1F10) | Fitting with ParallelLocalFoldFittingStrategy (4 workers, per: cpus=1, gpus=0, memory=0.01%)\n",
      "\t0.8893\t = Validation score   (roc_auc)\n",
      "\t53.25s\t = Training   runtime\n",
      "\t0.17s\t = Validation runtime\n",
      "Fitting model: LightGBM_r121_BAG_L1 ... Training model for up to 15324.24s of the 25190.09s of remaining time.\n",
      "\tFitting 10 child models (S1F1 - S1F10) | Fitting with ParallelLocalFoldFittingStrategy (4 workers, per: cpus=1, gpus=0, memory=0.05%)\n",
      "\t0.8882\t = Validation score   (roc_auc)\n",
      "\t18.97s\t = Training   runtime\n",
      "\t0.18s\t = Validation runtime\n",
      "Fitting model: NeuralNetFastAI_r172_BAG_L1 ... Training model for up to 15301.63s of the 25167.48s of remaining time.\n",
      "\tFitting 10 child models (S1F1 - S1F10) | Fitting with ParallelLocalFoldFittingStrategy (4 workers, per: cpus=1, gpus=0, memory=0.01%)\n",
      "\t0.8903\t = Validation score   (roc_auc)\n",
      "\t24.44s\t = Training   runtime\n",
      "\t0.15s\t = Validation runtime\n",
      "Fitting model: CatBoost_r180_BAG_L1 ... Training model for up to 15273.89s of the 25139.74s of remaining time.\n",
      "\tFitting 10 child models (S1F1 - S1F10) | Fitting with ParallelLocalFoldFittingStrategy (4 workers, per: cpus=1, gpus=0, memory=0.03%)\n",
      "\t0.8934\t = Validation score   (roc_auc)\n",
      "\t23.97s\t = Training   runtime\n",
      "\t0.02s\t = Validation runtime\n",
      "Fitting model: NeuralNetTorch_r76_BAG_L1 ... Training model for up to 15246.57s of the 25112.41s of remaining time.\n",
      "\tFitting 10 child models (S1F1 - S1F10) | Fitting with ParallelLocalFoldFittingStrategy (4 workers, per: cpus=1, gpus=0, memory=0.00%)\n",
      "\t0.8937\t = Validation score   (roc_auc)\n",
      "\t25.17s\t = Training   runtime\n",
      "\t0.13s\t = Validation runtime\n",
      "Fitting model: ExtraTrees_r197_BAG_L1 ... Training model for up to 15217.78s of the 25083.63s of remaining time.\n",
      "\tForcing `use_child_oof=False` because `groups` is specified\n",
      "\tFitting 10 child models (S1F1 - S1F10) | Fitting with ParallelLocalFoldFittingStrategy (4 workers, per: cpus=1, gpus=0, memory=0.01%)\n",
      "\t0.8838\t = Validation score   (roc_auc)\n",
      "\t15.96s\t = Training   runtime\n",
      "\t1.11s\t = Validation runtime\n",
      "Fitting model: NeuralNetTorch_r121_BAG_L1 ... Training model for up to 15198.19s of the 25064.04s of remaining time.\n",
      "\tFitting 10 child models (S1F1 - S1F10) | Fitting with ParallelLocalFoldFittingStrategy (4 workers, per: cpus=1, gpus=0, memory=0.00%)\n",
      "\t0.8896\t = Validation score   (roc_auc)\n",
      "\t147.4s\t = Training   runtime\n",
      "\t0.19s\t = Validation runtime\n",
      "Fitting model: NeuralNetFastAI_r127_BAG_L1 ... Training model for up to 15047.80s of the 24913.65s of remaining time.\n",
      "\tFitting 10 child models (S1F1 - S1F10) | Fitting with ParallelLocalFoldFittingStrategy (4 workers, per: cpus=1, gpus=0, memory=0.01%)\n",
      "\t0.8928\t = Validation score   (roc_auc)\n",
      "\t21.88s\t = Training   runtime\n",
      "\t0.13s\t = Validation runtime\n",
      "Fitting model: RandomForest_r16_BAG_L1 ... Training model for up to 15022.80s of the 24888.65s of remaining time.\n",
      "\tForcing `use_child_oof=False` because `groups` is specified\n",
      "\tFitting 10 child models (S1F1 - S1F10) | Fitting with ParallelLocalFoldFittingStrategy (4 workers, per: cpus=1, gpus=0, memory=0.01%)\n",
      "\t0.878\t = Validation score   (roc_auc)\n",
      "\t25.18s\t = Training   runtime\n",
      "\t1.05s\t = Validation runtime\n",
      "Fitting model: NeuralNetFastAI_r194_BAG_L1 ... Training model for up to 14994.10s of the 24859.94s of remaining time.\n",
      "\tFitting 10 child models (S1F1 - S1F10) | Fitting with ParallelLocalFoldFittingStrategy (4 workers, per: cpus=1, gpus=0, memory=0.01%)\n",
      "\t0.8855\t = Validation score   (roc_auc)\n",
      "\t27.57s\t = Training   runtime\n",
      "\t0.17s\t = Validation runtime\n",
      "Fitting model: CatBoost_r12_BAG_L1 ... Training model for up to 14963.36s of the 24829.20s of remaining time.\n",
      "\tFitting 10 child models (S1F1 - S1F10) | Fitting with ParallelLocalFoldFittingStrategy (4 workers, per: cpus=1, gpus=0, memory=0.03%)\n",
      "\t0.8949\t = Validation score   (roc_auc)\n",
      "\t17.57s\t = Training   runtime\n",
      "\t0.03s\t = Validation runtime\n",
      "Fitting model: NeuralNetTorch_r135_BAG_L1 ... Training model for up to 14942.48s of the 24808.32s of remaining time.\n",
      "\tFitting 10 child models (S1F1 - S1F10) | Fitting with ParallelLocalFoldFittingStrategy (4 workers, per: cpus=1, gpus=0, memory=0.00%)\n",
      "\t0.8951\t = Validation score   (roc_auc)\n",
      "\t40.21s\t = Training   runtime\n",
      "\t0.13s\t = Validation runtime\n",
      "Fitting model: NeuralNetFastAI_r4_BAG_L1 ... Training model for up to 14899.18s of the 24765.02s of remaining time.\n",
      "\tFitting 10 child models (S1F1 - S1F10) | Fitting with ParallelLocalFoldFittingStrategy (4 workers, per: cpus=1, gpus=0, memory=0.01%)\n",
      "\t0.8943\t = Validation score   (roc_auc)\n",
      "\t28.07s\t = Training   runtime\n",
      "\t0.24s\t = Validation runtime\n",
      "Fitting model: ExtraTrees_r126_BAG_L1 ... Training model for up to 14867.94s of the 24733.78s of remaining time.\n",
      "\tForcing `use_child_oof=False` because `groups` is specified\n",
      "\tFitting 10 child models (S1F1 - S1F10) | Fitting with ParallelLocalFoldFittingStrategy (4 workers, per: cpus=1, gpus=0, memory=0.01%)\n",
      "\t0.8904\t = Validation score   (roc_auc)\n",
      "\t13.54s\t = Training   runtime\n",
      "\t1.02s\t = Validation runtime\n",
      "Fitting model: NeuralNetTorch_r36_BAG_L1 ... Training model for up to 14850.93s of the 24716.77s of remaining time.\n",
      "\tFitting 10 child models (S1F1 - S1F10) | Fitting with ParallelLocalFoldFittingStrategy (4 workers, per: cpus=1, gpus=0, memory=0.00%)\n",
      "\t0.8926\t = Validation score   (roc_auc)\n",
      "\t30.54s\t = Training   runtime\n",
      "\t0.09s\t = Validation runtime\n",
      "Fitting model: NeuralNetFastAI_r100_BAG_L1 ... Training model for up to 14817.14s of the 24682.99s of remaining time.\n",
      "\tFitting 10 child models (S1F1 - S1F10) | Fitting with ParallelLocalFoldFittingStrategy (4 workers, per: cpus=1, gpus=0, memory=0.01%)\n",
      "\t0.8866\t = Validation score   (roc_auc)\n",
      "\t109.89s\t = Training   runtime\n",
      "\t0.42s\t = Validation runtime\n",
      "Fitting model: CatBoost_r163_BAG_L1 ... Training model for up to 14704.06s of the 24569.91s of remaining time.\n",
      "\tFitting 10 child models (S1F1 - S1F10) | Fitting with ParallelLocalFoldFittingStrategy (4 workers, per: cpus=1, gpus=0, memory=0.01%)\n",
      "\t0.8953\t = Validation score   (roc_auc)\n",
      "\t12.05s\t = Training   runtime\n",
      "\t0.02s\t = Validation runtime\n",
      "Fitting model: CatBoost_r198_BAG_L1 ... Training model for up to 14688.71s of the 24554.56s of remaining time.\n",
      "\tFitting 10 child models (S1F1 - S1F10) | Fitting with ParallelLocalFoldFittingStrategy (4 workers, per: cpus=1, gpus=0, memory=0.02%)\n",
      "\t0.8962\t = Validation score   (roc_auc)\n",
      "\t13.88s\t = Training   runtime\n",
      "\t0.02s\t = Validation runtime\n",
      "Fitting model: NeuralNetFastAI_r187_BAG_L1 ... Training model for up to 14671.85s of the 24537.70s of remaining time.\n",
      "\tFitting 10 child models (S1F1 - S1F10) | Fitting with ParallelLocalFoldFittingStrategy (4 workers, per: cpus=1, gpus=0, memory=0.01%)\n",
      "\t0.8892\t = Validation score   (roc_auc)\n",
      "\t24.0s\t = Training   runtime\n",
      "\t0.18s\t = Validation runtime\n",
      "Fitting model: NeuralNetTorch_r19_BAG_L1 ... Training model for up to 14644.69s of the 24510.54s of remaining time.\n",
      "\tFitting 10 child models (S1F1 - S1F10) | Fitting with ParallelLocalFoldFittingStrategy (4 workers, per: cpus=1, gpus=0, memory=0.00%)\n",
      "\t0.8924\t = Validation score   (roc_auc)\n",
      "\t25.02s\t = Training   runtime\n",
      "\t0.1s\t = Validation runtime\n",
      "Fitting model: XGBoost_r95_BAG_L1 ... Training model for up to 14616.20s of the 24482.05s of remaining time.\n",
      "\tFitting 10 child models (S1F1 - S1F10) | Fitting with ParallelLocalFoldFittingStrategy (4 workers, per: cpus=1, gpus=0, memory=0.02%)\n",
      "\t0.893\t = Validation score   (roc_auc)\n",
      "\t8.81s\t = Training   runtime\n",
      "\t0.05s\t = Validation runtime\n",
      "Fitting model: XGBoost_r34_BAG_L1 ... Training model for up to 14604.13s of the 24469.98s of remaining time.\n",
      "\tFitting 10 child models (S1F1 - S1F10) | Fitting with ParallelLocalFoldFittingStrategy (4 workers, per: cpus=1, gpus=0, memory=0.11%)\n",
      "\t0.8896\t = Validation score   (roc_auc)\n",
      "\t10.58s\t = Training   runtime\n",
      "\t0.12s\t = Validation runtime\n",
      "Fitting model: LightGBM_r42_BAG_L1 ... Training model for up to 14590.57s of the 24456.42s of remaining time.\n",
      "\tFitting 10 child models (S1F1 - S1F10) | Fitting with ParallelLocalFoldFittingStrategy (4 workers, per: cpus=1, gpus=0, memory=0.05%)\n",
      "\t0.8957\t = Validation score   (roc_auc)\n",
      "\t12.66s\t = Training   runtime\n",
      "\t0.04s\t = Validation runtime\n",
      "Fitting model: NeuralNetTorch_r1_BAG_L1 ... Training model for up to 14574.74s of the 24440.58s of remaining time.\n",
      "\tFitting 10 child models (S1F1 - S1F10) | Fitting with ParallelLocalFoldFittingStrategy (4 workers, per: cpus=1, gpus=0, memory=0.00%)\n",
      "\t0.8926\t = Validation score   (roc_auc)\n",
      "\t44.24s\t = Training   runtime\n",
      "\t0.13s\t = Validation runtime\n",
      "Fitting model: NeuralNetTorch_r89_BAG_L1 ... Training model for up to 14527.20s of the 24393.05s of remaining time.\n",
      "\tFitting 10 child models (S1F1 - S1F10) | Fitting with ParallelLocalFoldFittingStrategy (4 workers, per: cpus=1, gpus=0, memory=0.00%)\n",
      "\t0.8917\t = Validation score   (roc_auc)\n",
      "\t42.59s\t = Training   runtime\n",
      "\t0.12s\t = Validation runtime\n",
      "Fitting model: WeightedEnsemble_L2 ... Training model for up to 1971.69s of the 24347.29s of remaining time.\n",
      "\tEnsemble Weights: {'CatBoost_r6_BAG_L1': 0.467, 'NeuralNetTorch_r135_BAG_L1': 0.2, 'NeuralNetFastAI_r102_BAG_L1': 0.133, 'CatBoost_r50_BAG_L1': 0.133, 'NeuralNetTorch_r14_BAG_L1': 0.067}\n",
      "\t0.9025\t = Validation score   (roc_auc)\n",
      "\t0.21s\t = Training   runtime\n",
      "\t0.0s\t = Validation runtime\n",
      "Fitting 109 L2 models, fit_strategy=\"parallel\" ...\n",
      "Note: fit_strategy='parallel', but `num_cpus=4`. Running parallel mode with fewer than 12 CPUs is not recommended and has been disabled. You can override this by specifying `os.environ[\"AG_FORCE_PARALLEL\"] = \"True\"`. Falling back to fit_strategy='sequential' ...\n",
      "Fitting model: LightGBMXT_BAG_L2 ... Training model for up to 24347.06s of the 24346.79s of remaining time.\n",
      "\tFitting 10 child models (S1F1 - S1F10) | Fitting with ParallelLocalFoldFittingStrategy (4 workers, per: cpus=1, gpus=0, memory=0.10%)\n",
      "\t0.898\t = Validation score   (roc_auc)\n",
      "\t13.89s\t = Training   runtime\n",
      "\t0.06s\t = Validation runtime\n",
      "Fitting model: LightGBM_BAG_L2 ... Training model for up to 24330.22s of the 24329.96s of remaining time.\n",
      "\tFitting 10 child models (S1F1 - S1F10) | Fitting with ParallelLocalFoldFittingStrategy (4 workers, per: cpus=1, gpus=0, memory=0.10%)\n",
      "\t0.8931\t = Validation score   (roc_auc)\n",
      "\t14.94s\t = Training   runtime\n",
      "\t0.05s\t = Validation runtime\n",
      "Fitting model: RandomForestGini_BAG_L2 ... Training model for up to 24312.42s of the 24312.16s of remaining time.\n",
      "\tForcing `use_child_oof=False` because `groups` is specified\n",
      "\tFitting 10 child models (S1F1 - S1F10) | Fitting with ParallelLocalFoldFittingStrategy (4 workers, per: cpus=1, gpus=0, memory=0.01%)\n",
      "\t0.8853\t = Validation score   (roc_auc)\n",
      "\t16.49s\t = Training   runtime\n",
      "\t1.18s\t = Validation runtime\n",
      "Fitting model: RandomForestEntr_BAG_L2 ... Training model for up to 24292.78s of the 24292.52s of remaining time.\n",
      "\tForcing `use_child_oof=False` because `groups` is specified\n",
      "\tFitting 10 child models (S1F1 - S1F10) | Fitting with ParallelLocalFoldFittingStrategy (4 workers, per: cpus=1, gpus=0, memory=0.01%)\n",
      "\t0.8862\t = Validation score   (roc_auc)\n",
      "\t17.21s\t = Training   runtime\n",
      "\t1.14s\t = Validation runtime\n",
      "Fitting model: CatBoost_BAG_L2 ... Training model for up to 24272.41s of the 24272.14s of remaining time.\n",
      "\tFitting 10 child models (S1F1 - S1F10) | Fitting with ParallelLocalFoldFittingStrategy (4 workers, per: cpus=1, gpus=0, memory=0.17%)\n",
      "\t0.8981\t = Validation score   (roc_auc)\n",
      "\t20.23s\t = Training   runtime\n",
      "\t0.04s\t = Validation runtime\n",
      "Fitting model: ExtraTreesGini_BAG_L2 ... Training model for up to 24249.24s of the 24248.98s of remaining time.\n",
      "\tForcing `use_child_oof=False` because `groups` is specified\n",
      "\tFitting 10 child models (S1F1 - S1F10) | Fitting with ParallelLocalFoldFittingStrategy (4 workers, per: cpus=1, gpus=0, memory=0.01%)\n",
      "\t0.8912\t = Validation score   (roc_auc)\n",
      "\t11.36s\t = Training   runtime\n",
      "\t0.91s\t = Validation runtime\n",
      "Fitting model: ExtraTreesEntr_BAG_L2 ... Training model for up to 24234.87s of the 24234.61s of remaining time.\n",
      "\tForcing `use_child_oof=False` because `groups` is specified\n",
      "\tFitting 10 child models (S1F1 - S1F10) | Fitting with ParallelLocalFoldFittingStrategy (4 workers, per: cpus=1, gpus=0, memory=0.01%)\n",
      "\t0.8895\t = Validation score   (roc_auc)\n",
      "\t11.15s\t = Training   runtime\n",
      "\t0.88s\t = Validation runtime\n",
      "Fitting model: NeuralNetFastAI_BAG_L2 ... Training model for up to 24220.55s of the 24220.29s of remaining time.\n",
      "\tFitting 10 child models (S1F1 - S1F10) | Fitting with ParallelLocalFoldFittingStrategy (4 workers, per: cpus=1, gpus=0, memory=0.04%)\n",
      "\t0.8949\t = Validation score   (roc_auc)\n",
      "\t27.66s\t = Training   runtime\n",
      "\t0.15s\t = Validation runtime\n",
      "Fitting model: TabPFNMix_v1_BAG_L2 ... Training model for up to 24189.71s of the 24189.45s of remaining time.\n",
      "\tMemory not enough to fit 10 folds in parallel. Will train 2 folds in parallel instead (Estimated 28.19% memory usage per fold, 56.38%/80.00% total).\n",
      "\tFitting 10 child models (S1F1 - S1F10) | Fitting with ParallelLocalFoldFittingStrategy (2 workers, per: cpus=2, gpus=0, memory=28.19%)\n",
      "\t0.9001\t = Validation score   (roc_auc)\n",
      "\t1983.53s\t = Training   runtime\n",
      "\t42.24s\t = Validation runtime\n",
      "Fitting model: XGBoost_BAG_L2 ... Training model for up to 22201.30s of the 22201.04s of remaining time.\n",
      "\tFitting 10 child models (S1F1 - S1F10) | Fitting with ParallelLocalFoldFittingStrategy (4 workers, per: cpus=1, gpus=0, memory=0.20%)\n",
      "\t0.8926\t = Validation score   (roc_auc)\n",
      "\t11.24s\t = Training   runtime\n",
      "\t0.09s\t = Validation runtime\n",
      "Fitting model: NeuralNetTorch_BAG_L2 ... Training model for up to 22186.82s of the 22186.56s of remaining time.\n",
      "\tFitting 10 child models (S1F1 - S1F10) | Fitting with ParallelLocalFoldFittingStrategy (4 workers, per: cpus=1, gpus=0, memory=0.02%)\n",
      "\t0.8964\t = Validation score   (roc_auc)\n",
      "\t30.71s\t = Training   runtime\n",
      "\t0.33s\t = Validation runtime\n",
      "Fitting model: LightGBMLarge_BAG_L2 ... Training model for up to 22152.91s of the 22152.65s of remaining time.\n",
      "\tFitting 10 child models (S1F1 - S1F10) | Fitting with ParallelLocalFoldFittingStrategy (4 workers, per: cpus=1, gpus=0, memory=0.33%)\n",
      "\t0.8696\t = Validation score   (roc_auc)\n",
      "\t22.79s\t = Training   runtime\n",
      "\t0.05s\t = Validation runtime\n",
      "Fitting model: CatBoost_r177_BAG_L2 ... Training model for up to 22126.97s of the 22126.71s of remaining time.\n",
      "\tFitting 10 child models (S1F1 - S1F10) | Fitting with ParallelLocalFoldFittingStrategy (4 workers, per: cpus=1, gpus=0, memory=0.18%)\n",
      "\t0.8981\t = Validation score   (roc_auc)\n",
      "\t18.31s\t = Training   runtime\n",
      "\t0.04s\t = Validation runtime\n",
      "Fitting model: NeuralNetTorch_r79_BAG_L2 ... Training model for up to 22105.56s of the 22105.29s of remaining time.\n",
      "\tFitting 10 child models (S1F1 - S1F10) | Fitting with ParallelLocalFoldFittingStrategy (4 workers, per: cpus=1, gpus=0, memory=0.02%)\n",
      "\t0.8992\t = Validation score   (roc_auc)\n",
      "\t38.46s\t = Training   runtime\n",
      "\t0.32s\t = Validation runtime\n",
      "Fitting model: LightGBM_r131_BAG_L2 ... Training model for up to 22064.03s of the 22063.77s of remaining time.\n",
      "\tFitting 10 child models (S1F1 - S1F10) | Fitting with ParallelLocalFoldFittingStrategy (4 workers, per: cpus=1, gpus=0, memory=0.15%)\n",
      "\t0.8899\t = Validation score   (roc_auc)\n",
      "\t17.06s\t = Training   runtime\n",
      "\t0.1s\t = Validation runtime\n",
      "Fitting model: NeuralNetFastAI_r191_BAG_L2 ... Training model for up to 22043.52s of the 22043.25s of remaining time.\n",
      "\tFitting 10 child models (S1F1 - S1F10) | Fitting with ParallelLocalFoldFittingStrategy (4 workers, per: cpus=1, gpus=0, memory=0.04%)\n",
      "\t0.8929\t = Validation score   (roc_auc)\n",
      "\t39.41s\t = Training   runtime\n",
      "\t0.15s\t = Validation runtime\n",
      "Fitting model: CatBoost_r9_BAG_L2 ... Training model for up to 22000.94s of the 22000.68s of remaining time.\n",
      "\tFitting 10 child models (S1F1 - S1F10) | Fitting with ParallelLocalFoldFittingStrategy (4 workers, per: cpus=1, gpus=0, memory=0.63%)\n",
      "\t0.8974\t = Validation score   (roc_auc)\n",
      "\t80.13s\t = Training   runtime\n",
      "\t0.05s\t = Validation runtime\n",
      "Fitting model: LightGBM_r96_BAG_L2 ... Training model for up to 21917.59s of the 21917.33s of remaining time.\n",
      "\tFitting 10 child models (S1F1 - S1F10) | Fitting with ParallelLocalFoldFittingStrategy (4 workers, per: cpus=1, gpus=0, memory=0.06%)\n",
      "\t0.8965\t = Validation score   (roc_auc)\n",
      "\t14.8s\t = Training   runtime\n",
      "\t0.15s\t = Validation runtime\n",
      "Fitting model: NeuralNetTorch_r22_BAG_L2 ... Training model for up to 21899.49s of the 21899.23s of remaining time.\n",
      "\tFitting 10 child models (S1F1 - S1F10) | Fitting with ParallelLocalFoldFittingStrategy (4 workers, per: cpus=1, gpus=0, memory=0.02%)\n",
      "\t0.8987\t = Validation score   (roc_auc)\n",
      "\t34.84s\t = Training   runtime\n",
      "\t0.4s\t = Validation runtime\n",
      "Fitting model: XGBoost_r33_BAG_L2 ... Training model for up to 21861.55s of the 21861.29s of remaining time.\n",
      "\tFitting 10 child models (S1F1 - S1F10) | Fitting with ParallelLocalFoldFittingStrategy (4 workers, per: cpus=1, gpus=0, memory=1.25%)\n",
      "\t0.8879\t = Validation score   (roc_auc)\n",
      "\t18.87s\t = Training   runtime\n",
      "\t0.13s\t = Validation runtime\n",
      "Fitting model: ExtraTrees_r42_BAG_L2 ... Training model for up to 21839.53s of the 21839.27s of remaining time.\n",
      "\tForcing `use_child_oof=False` because `groups` is specified\n",
      "\tFitting 10 child models (S1F1 - S1F10) | Fitting with ParallelLocalFoldFittingStrategy (4 workers, per: cpus=1, gpus=0, memory=0.01%)\n",
      "\t0.8887\t = Validation score   (roc_auc)\n",
      "\t13.49s\t = Training   runtime\n",
      "\t1.11s\t = Validation runtime\n",
      "Fitting model: CatBoost_r137_BAG_L2 ... Training model for up to 21822.34s of the 21822.08s of remaining time.\n",
      "\tFitting 10 child models (S1F1 - S1F10) | Fitting with ParallelLocalFoldFittingStrategy (4 workers, per: cpus=1, gpus=0, memory=0.06%)\n",
      "\t0.8978\t = Validation score   (roc_auc)\n",
      "\t13.92s\t = Training   runtime\n",
      "\t0.06s\t = Validation runtime\n",
      "Fitting model: NeuralNetFastAI_r102_BAG_L2 ... Training model for up to 21805.23s of the 21804.97s of remaining time.\n",
      "\tFitting 10 child models (S1F1 - S1F10) | Fitting with ParallelLocalFoldFittingStrategy (4 workers, per: cpus=1, gpus=0, memory=0.04%)\n",
      "\t0.8993\t = Validation score   (roc_auc)\n",
      "\t74.15s\t = Training   runtime\n",
      "\t0.37s\t = Validation runtime\n",
      "Fitting model: CatBoost_r13_BAG_L2 ... Training model for up to 21727.67s of the 21727.41s of remaining time.\n",
      "\tFitting 10 child models (S1F1 - S1F10) | Fitting with ParallelLocalFoldFittingStrategy (4 workers, per: cpus=1, gpus=0, memory=0.63%)\n",
      "\t0.8976\t = Validation score   (roc_auc)\n",
      "\t64.32s\t = Training   runtime\n",
      "\t0.05s\t = Validation runtime\n",
      "Fitting model: RandomForest_r195_BAG_L2 ... Training model for up to 21659.95s of the 21659.69s of remaining time.\n",
      "\tForcing `use_child_oof=False` because `groups` is specified\n",
      "\tFitting 10 child models (S1F1 - S1F10) | Fitting with ParallelLocalFoldFittingStrategy (4 workers, per: cpus=1, gpus=0, memory=0.01%)\n",
      "\t0.8812\t = Validation score   (roc_auc)\n",
      "\t39.73s\t = Training   runtime\n",
      "\t1.22s\t = Validation runtime\n",
      "Fitting model: LightGBM_r188_BAG_L2 ... Training model for up to 21617.10s of the 21616.84s of remaining time.\n",
      "\tFitting 10 child models (S1F1 - S1F10) | Fitting with ParallelLocalFoldFittingStrategy (4 workers, per: cpus=1, gpus=0, memory=0.32%)\n",
      "\t0.8951\t = Validation score   (roc_auc)\n",
      "\t15.28s\t = Training   runtime\n",
      "\t0.08s\t = Validation runtime\n",
      "Fitting model: NeuralNetFastAI_r145_BAG_L2 ... Training model for up to 21598.54s of the 21598.28s of remaining time.\n",
      "\tFitting 10 child models (S1F1 - S1F10) | Fitting with ParallelLocalFoldFittingStrategy (4 workers, per: cpus=1, gpus=0, memory=0.04%)\n",
      "\t0.8965\t = Validation score   (roc_auc)\n",
      "\t38.0s\t = Training   runtime\n",
      "\t0.29s\t = Validation runtime\n",
      "Fitting model: XGBoost_r89_BAG_L2 ... Training model for up to 21557.24s of the 21556.98s of remaining time.\n",
      "\tFitting 10 child models (S1F1 - S1F10) | Fitting with ParallelLocalFoldFittingStrategy (4 workers, per: cpus=1, gpus=0, memory=0.19%)\n",
      "\t0.8947\t = Validation score   (roc_auc)\n",
      "\t9.68s\t = Training   runtime\n",
      "\t0.06s\t = Validation runtime\n",
      "Fitting model: NeuralNetTorch_r30_BAG_L2 ... Training model for up to 21544.07s of the 21543.81s of remaining time.\n",
      "\tFitting 10 child models (S1F1 - S1F10) | Fitting with ParallelLocalFoldFittingStrategy (4 workers, per: cpus=1, gpus=0, memory=0.02%)\n",
      "\t0.8993\t = Validation score   (roc_auc)\n",
      "\t53.66s\t = Training   runtime\n",
      "\t0.33s\t = Validation runtime\n",
      "Fitting model: LightGBM_r130_BAG_L2 ... Training model for up to 21487.41s of the 21487.15s of remaining time.\n",
      "\tFitting 10 child models (S1F1 - S1F10) | Fitting with ParallelLocalFoldFittingStrategy (4 workers, per: cpus=1, gpus=0, memory=0.23%)\n",
      "\t0.892\t = Validation score   (roc_auc)\n",
      "\t14.18s\t = Training   runtime\n",
      "\t0.05s\t = Validation runtime\n",
      "Fitting model: NeuralNetTorch_r86_BAG_L2 ... Training model for up to 21470.05s of the 21469.79s of remaining time.\n",
      "\tFitting 10 child models (S1F1 - S1F10) | Fitting with ParallelLocalFoldFittingStrategy (4 workers, per: cpus=1, gpus=0, memory=0.02%)\n",
      "\t0.8917\t = Validation score   (roc_auc)\n",
      "\t41.24s\t = Training   runtime\n",
      "\t0.3s\t = Validation runtime\n",
      "Fitting model: CatBoost_r50_BAG_L2 ... Training model for up to 21425.69s of the 21425.43s of remaining time.\n",
      "\tFitting 10 child models (S1F1 - S1F10) | Fitting with ParallelLocalFoldFittingStrategy (4 workers, per: cpus=1, gpus=0, memory=0.06%)\n",
      "\t0.8987\t = Validation score   (roc_auc)\n",
      "\t17.44s\t = Training   runtime\n",
      "\t0.06s\t = Validation runtime\n",
      "Fitting model: NeuralNetFastAI_r11_BAG_L2 ... Training model for up to 21405.19s of the 21404.93s of remaining time.\n",
      "\tFitting 10 child models (S1F1 - S1F10) | Fitting with ParallelLocalFoldFittingStrategy (4 workers, per: cpus=1, gpus=0, memory=0.04%)\n",
      "\t0.8954\t = Validation score   (roc_auc)\n",
      "\t46.71s\t = Training   runtime\n",
      "\t0.27s\t = Validation runtime\n",
      "Fitting model: XGBoost_r194_BAG_L2 ... Training model for up to 21354.96s of the 21354.70s of remaining time.\n",
      "\tFitting 10 child models (S1F1 - S1F10) | Fitting with ParallelLocalFoldFittingStrategy (4 workers, per: cpus=1, gpus=0, memory=0.34%)\n",
      "\t0.8916\t = Validation score   (roc_auc)\n",
      "\t12.07s\t = Training   runtime\n",
      "\t0.09s\t = Validation runtime\n",
      "Fitting model: ExtraTrees_r172_BAG_L2 ... Training model for up to 21339.34s of the 21339.08s of remaining time.\n",
      "\tForcing `use_child_oof=False` because `groups` is specified\n",
      "\tFitting 10 child models (S1F1 - S1F10) | Fitting with ParallelLocalFoldFittingStrategy (4 workers, per: cpus=1, gpus=0, memory=0.01%)\n",
      "\t0.8898\t = Validation score   (roc_auc)\n",
      "\t12.55s\t = Training   runtime\n",
      "\t0.79s\t = Validation runtime\n",
      "Fitting model: CatBoost_r69_BAG_L2 ... Training model for up to 21323.18s of the 21322.92s of remaining time.\n",
      "\tFitting 10 child models (S1F1 - S1F10) | Fitting with ParallelLocalFoldFittingStrategy (4 workers, per: cpus=1, gpus=0, memory=0.10%)\n",
      "\t0.8985\t = Validation score   (roc_auc)\n",
      "\t17.44s\t = Training   runtime\n",
      "\t0.05s\t = Validation runtime\n",
      "Fitting model: NeuralNetFastAI_r103_BAG_L2 ... Training model for up to 21302.54s of the 21302.28s of remaining time.\n",
      "\tFitting 10 child models (S1F1 - S1F10) | Fitting with ParallelLocalFoldFittingStrategy (4 workers, per: cpus=1, gpus=0, memory=0.04%)\n",
      "\t0.8983\t = Validation score   (roc_auc)\n",
      "\t32.27s\t = Training   runtime\n",
      "\t0.2s\t = Validation runtime\n",
      "Fitting model: NeuralNetTorch_r14_BAG_L2 ... Training model for up to 21267.21s of the 21266.95s of remaining time.\n",
      "\tFitting 10 child models (S1F1 - S1F10) | Fitting with ParallelLocalFoldFittingStrategy (4 workers, per: cpus=1, gpus=0, memory=0.02%)\n",
      "\t0.8979\t = Validation score   (roc_auc)\n",
      "\t27.57s\t = Training   runtime\n",
      "\t0.33s\t = Validation runtime\n",
      "Fitting model: LightGBM_r161_BAG_L2 ... Training model for up to 21236.42s of the 21236.16s of remaining time.\n",
      "\tFitting 10 child models (S1F1 - S1F10) | Fitting with ParallelLocalFoldFittingStrategy (4 workers, per: cpus=1, gpus=0, memory=0.62%)\n",
      "\t0.8885\t = Validation score   (roc_auc)\n",
      "\t23.66s\t = Training   runtime\n",
      "\t0.15s\t = Validation runtime\n",
      "Fitting model: NeuralNetFastAI_r143_BAG_L2 ... Training model for up to 21209.46s of the 21209.20s of remaining time.\n",
      "\tFitting 10 child models (S1F1 - S1F10) | Fitting with ParallelLocalFoldFittingStrategy (4 workers, per: cpus=1, gpus=0, memory=0.04%)\n",
      "\t0.8795\t = Validation score   (roc_auc)\n",
      "\t23.03s\t = Training   runtime\n",
      "\t0.16s\t = Validation runtime\n",
      "Fitting model: CatBoost_r70_BAG_L2 ... Training model for up to 21182.98s of the 21182.72s of remaining time.\n",
      "\tFitting 10 child models (S1F1 - S1F10) | Fitting with ParallelLocalFoldFittingStrategy (4 workers, per: cpus=1, gpus=0, memory=0.18%)\n",
      "\t0.9009\t = Validation score   (roc_auc)\n",
      "\t38.31s\t = Training   runtime\n",
      "\t0.05s\t = Validation runtime\n",
      "Fitting model: NeuralNetFastAI_r156_BAG_L2 ... Training model for up to 21141.27s of the 21141.01s of remaining time.\n",
      "\tFitting 10 child models (S1F1 - S1F10) | Fitting with ParallelLocalFoldFittingStrategy (4 workers, per: cpus=1, gpus=0, memory=0.04%)\n",
      "\t0.8954\t = Validation score   (roc_auc)\n",
      "\t81.57s\t = Training   runtime\n",
      "\t0.3s\t = Validation runtime\n",
      "Fitting model: LightGBM_r196_BAG_L2 ... Training model for up to 21056.62s of the 21056.36s of remaining time.\n",
      "\tFitting 10 child models (S1F1 - S1F10) | Fitting with ParallelLocalFoldFittingStrategy (4 workers, per: cpus=1, gpus=0, memory=0.34%)\n",
      "\t0.8958\t = Validation score   (roc_auc)\n",
      "\t21.0s\t = Training   runtime\n",
      "\t0.49s\t = Validation runtime\n",
      "Fitting model: RandomForest_r39_BAG_L2 ... Training model for up to 21031.83s of the 21031.57s of remaining time.\n",
      "\tForcing `use_child_oof=False` because `groups` is specified\n",
      "\tFitting 10 child models (S1F1 - S1F10) | Fitting with ParallelLocalFoldFittingStrategy (4 workers, per: cpus=1, gpus=0, memory=0.01%)\n",
      "\t0.8814\t = Validation score   (roc_auc)\n",
      "\t35.98s\t = Training   runtime\n",
      "\t1.28s\t = Validation runtime\n",
      "Fitting model: CatBoost_r167_BAG_L2 ... Training model for up to 20992.65s of the 20992.39s of remaining time.\n",
      "\tFitting 10 child models (S1F1 - S1F10) | Fitting with ParallelLocalFoldFittingStrategy (4 workers, per: cpus=1, gpus=0, memory=0.33%)\n",
      "\t0.8983\t = Validation score   (roc_auc)\n",
      "\t26.66s\t = Training   runtime\n",
      "\t0.05s\t = Validation runtime\n",
      "Fitting model: NeuralNetFastAI_r95_BAG_L2 ... Training model for up to 20962.89s of the 20962.63s of remaining time.\n",
      "\tFitting 10 child models (S1F1 - S1F10) | Fitting with ParallelLocalFoldFittingStrategy (4 workers, per: cpus=1, gpus=0, memory=0.04%)\n",
      "\t0.8978\t = Validation score   (roc_auc)\n",
      "\t39.42s\t = Training   runtime\n",
      "\t0.26s\t = Validation runtime\n",
      "Fitting model: NeuralNetTorch_r41_BAG_L2 ... Training model for up to 20920.60s of the 20920.33s of remaining time.\n",
      "\tFitting 10 child models (S1F1 - S1F10) | Fitting with ParallelLocalFoldFittingStrategy (4 workers, per: cpus=1, gpus=0, memory=0.02%)\n",
      "\t0.9025\t = Validation score   (roc_auc)\n",
      "\t33.31s\t = Training   runtime\n",
      "\t0.3s\t = Validation runtime\n",
      "Fitting model: XGBoost_r98_BAG_L2 ... Training model for up to 20883.74s of the 20883.48s of remaining time.\n",
      "\tFitting 10 child models (S1F1 - S1F10) | Fitting with ParallelLocalFoldFittingStrategy (4 workers, per: cpus=1, gpus=0, memory=0.64%)\n",
      "\t0.892\t = Validation score   (roc_auc)\n",
      "\t21.79s\t = Training   runtime\n",
      "\t0.16s\t = Validation runtime\n",
      "Fitting model: LightGBM_r15_BAG_L2 ... Training model for up to 20858.73s of the 20858.47s of remaining time.\n",
      "\tFitting 10 child models (S1F1 - S1F10) | Fitting with ParallelLocalFoldFittingStrategy (4 workers, per: cpus=1, gpus=0, memory=0.08%)\n",
      "\t0.8947\t = Validation score   (roc_auc)\n",
      "\t14.74s\t = Training   runtime\n",
      "\t0.06s\t = Validation runtime\n",
      "Fitting model: NeuralNetTorch_r158_BAG_L2 ... Training model for up to 20840.52s of the 20840.26s of remaining time.\n",
      "\tFitting 10 child models (S1F1 - S1F10) | Fitting with ParallelLocalFoldFittingStrategy (4 workers, per: cpus=1, gpus=0, memory=0.02%)\n",
      "\t0.8986\t = Validation score   (roc_auc)\n",
      "\t47.75s\t = Training   runtime\n",
      "\t0.35s\t = Validation runtime\n",
      "Fitting model: CatBoost_r86_BAG_L2 ... Training model for up to 20789.54s of the 20789.28s of remaining time.\n",
      "\tFitting 10 child models (S1F1 - S1F10) | Fitting with ParallelLocalFoldFittingStrategy (4 workers, per: cpus=1, gpus=0, memory=0.63%)\n",
      "\t0.9007\t = Validation score   (roc_auc)\n",
      "\t48.74s\t = Training   runtime\n",
      "\t0.05s\t = Validation runtime\n",
      "Fitting model: NeuralNetFastAI_r37_BAG_L2 ... Training model for up to 20737.64s of the 20737.38s of remaining time.\n",
      "\tFitting 10 child models (S1F1 - S1F10) | Fitting with ParallelLocalFoldFittingStrategy (4 workers, per: cpus=1, gpus=0, memory=0.04%)\n",
      "\t0.8975\t = Validation score   (roc_auc)\n",
      "\t29.68s\t = Training   runtime\n",
      "\t0.16s\t = Validation runtime\n",
      "Fitting model: NeuralNetTorch_r197_BAG_L2 ... Training model for up to 20704.92s of the 20704.66s of remaining time.\n",
      "\tFitting 10 child models (S1F1 - S1F10) | Fitting with ParallelLocalFoldFittingStrategy (4 workers, per: cpus=1, gpus=0, memory=0.02%)\n",
      "\t0.8992\t = Validation score   (roc_auc)\n",
      "\t27.26s\t = Training   runtime\n",
      "\t0.34s\t = Validation runtime\n",
      "Fitting model: CatBoost_r49_BAG_L2 ... Training model for up to 20674.12s of the 20673.86s of remaining time.\n",
      "\tFitting 10 child models (S1F1 - S1F10) | Fitting with ParallelLocalFoldFittingStrategy (4 workers, per: cpus=1, gpus=0, memory=0.06%)\n",
      "\t0.8976\t = Validation score   (roc_auc)\n",
      "\t14.76s\t = Training   runtime\n",
      "\t0.05s\t = Validation runtime\n",
      "Fitting model: ExtraTrees_r49_BAG_L2 ... Training model for up to 20656.10s of the 20655.84s of remaining time.\n",
      "\tForcing `use_child_oof=False` because `groups` is specified\n",
      "\tFitting 10 child models (S1F1 - S1F10) | Fitting with ParallelLocalFoldFittingStrategy (4 workers, per: cpus=1, gpus=0, memory=0.01%)\n",
      "\t0.8912\t = Validation score   (roc_auc)\n",
      "\t13.56s\t = Training   runtime\n",
      "\t0.98s\t = Validation runtime\n",
      "Fitting model: LightGBM_r143_BAG_L2 ... Training model for up to 20639.31s of the 20639.04s of remaining time.\n",
      "\tFitting 10 child models (S1F1 - S1F10) | Fitting with ParallelLocalFoldFittingStrategy (4 workers, per: cpus=1, gpus=0, memory=0.45%)\n",
      "\t0.8906\t = Validation score   (roc_auc)\n",
      "\t21.1s\t = Training   runtime\n",
      "\t0.49s\t = Validation runtime\n",
      "Fitting model: RandomForest_r127_BAG_L2 ... Training model for up to 20614.92s of the 20614.66s of remaining time.\n",
      "\tForcing `use_child_oof=False` because `groups` is specified\n",
      "\tFitting 10 child models (S1F1 - S1F10) | Fitting with ParallelLocalFoldFittingStrategy (4 workers, per: cpus=1, gpus=0, memory=0.01%)\n",
      "\t0.8834\t = Validation score   (roc_auc)\n",
      "\t41.4s\t = Training   runtime\n",
      "\t1.54s\t = Validation runtime\n",
      "Fitting model: NeuralNetFastAI_r134_BAG_L2 ... Training model for up to 20570.27s of the 20570.01s of remaining time.\n",
      "\tFitting 10 child models (S1F1 - S1F10) | Fitting with ParallelLocalFoldFittingStrategy (4 workers, per: cpus=1, gpus=0, memory=0.04%)\n",
      "\t0.8973\t = Validation score   (roc_auc)\n",
      "\t127.07s\t = Training   runtime\n",
      "\t0.4s\t = Validation runtime\n",
      "Fitting model: RandomForest_r34_BAG_L2 ... Training model for up to 20439.93s of the 20439.67s of remaining time.\n",
      "\tForcing `use_child_oof=False` because `groups` is specified\n",
      "\tFitting 10 child models (S1F1 - S1F10) | Fitting with ParallelLocalFoldFittingStrategy (4 workers, per: cpus=1, gpus=0, memory=0.01%)\n",
      "\t0.8904\t = Validation score   (roc_auc)\n",
      "\t22.46s\t = Training   runtime\n",
      "\t0.94s\t = Validation runtime\n",
      "Fitting model: LightGBM_r94_BAG_L2 ... Training model for up to 20414.30s of the 20414.03s of remaining time.\n",
      "\tFitting 10 child models (S1F1 - S1F10) | Fitting with ParallelLocalFoldFittingStrategy (4 workers, per: cpus=1, gpus=0, memory=0.06%)\n",
      "\t0.8973\t = Validation score   (roc_auc)\n",
      "\t13.41s\t = Training   runtime\n",
      "\t0.05s\t = Validation runtime\n",
      "Fitting model: NeuralNetTorch_r143_BAG_L2 ... Training model for up to 20397.82s of the 20397.55s of remaining time.\n",
      "\tFitting 10 child models (S1F1 - S1F10) | Fitting with ParallelLocalFoldFittingStrategy (4 workers, per: cpus=1, gpus=0, memory=0.02%)\n",
      "\t0.8984\t = Validation score   (roc_auc)\n",
      "\t47.95s\t = Training   runtime\n",
      "\t0.36s\t = Validation runtime\n",
      "Fitting model: CatBoost_r128_BAG_L2 ... Training model for up to 20346.56s of the 20346.29s of remaining time.\n",
      "\tFitting 10 child models (S1F1 - S1F10) | Fitting with ParallelLocalFoldFittingStrategy (4 workers, per: cpus=1, gpus=0, memory=0.63%)\n",
      "\t0.8968\t = Validation score   (roc_auc)\n",
      "\t79.15s\t = Training   runtime\n",
      "\t0.05s\t = Validation runtime\n",
      "Fitting model: NeuralNetFastAI_r111_BAG_L2 ... Training model for up to 20264.09s of the 20263.83s of remaining time.\n",
      "\tFitting 10 child models (S1F1 - S1F10) | Fitting with ParallelLocalFoldFittingStrategy (4 workers, per: cpus=1, gpus=0, memory=0.04%)\n",
      "\t0.8971\t = Validation score   (roc_auc)\n",
      "\t63.28s\t = Training   runtime\n",
      "\t0.41s\t = Validation runtime\n",
      "Fitting model: NeuralNetTorch_r31_BAG_L2 ... Training model for up to 20197.50s of the 20197.24s of remaining time.\n",
      "\tFitting 10 child models (S1F1 - S1F10) | Fitting with ParallelLocalFoldFittingStrategy (4 workers, per: cpus=1, gpus=0, memory=0.02%)\n",
      "\t0.8918\t = Validation score   (roc_auc)\n",
      "\t28.35s\t = Training   runtime\n",
      "\t0.27s\t = Validation runtime\n",
      "Fitting model: ExtraTrees_r4_BAG_L2 ... Training model for up to 20165.70s of the 20165.44s of remaining time.\n",
      "\tForcing `use_child_oof=False` because `groups` is specified\n",
      "\tFitting 10 child models (S1F1 - S1F10) | Fitting with ParallelLocalFoldFittingStrategy (4 workers, per: cpus=1, gpus=0, memory=0.01%)\n",
      "\t0.8928\t = Validation score   (roc_auc)\n",
      "\t12.61s\t = Training   runtime\n",
      "\t0.89s\t = Validation runtime\n",
      "Fitting model: NeuralNetFastAI_r65_BAG_L2 ... Training model for up to 20149.58s of the 20149.32s of remaining time.\n",
      "\tFitting 10 child models (S1F1 - S1F10) | Fitting with ParallelLocalFoldFittingStrategy (4 workers, per: cpus=1, gpus=0, memory=0.04%)\n",
      "\t0.8934\t = Validation score   (roc_auc)\n",
      "\t23.81s\t = Training   runtime\n",
      "\t0.18s\t = Validation runtime\n",
      "Fitting model: NeuralNetFastAI_r88_BAG_L2 ... Training model for up to 20122.50s of the 20122.24s of remaining time.\n",
      "\tFitting 10 child models (S1F1 - S1F10) | Fitting with ParallelLocalFoldFittingStrategy (4 workers, per: cpus=1, gpus=0, memory=0.04%)\n",
      "\t0.8627\t = Validation score   (roc_auc)\n",
      "\t23.61s\t = Training   runtime\n",
      "\t0.2s\t = Validation runtime\n",
      "Fitting model: LightGBM_r30_BAG_L2 ... Training model for up to 20095.63s of the 20095.37s of remaining time.\n",
      "\tFitting 10 child models (S1F1 - S1F10) | Fitting with ParallelLocalFoldFittingStrategy (4 workers, per: cpus=1, gpus=0, memory=0.29%)\n",
      "\t0.8939\t = Validation score   (roc_auc)\n",
      "\t17.46s\t = Training   runtime\n",
      "\t0.24s\t = Validation runtime\n",
      "Fitting model: XGBoost_r49_BAG_L2 ... Training model for up to 20074.58s of the 20074.32s of remaining time.\n",
      "\tFitting 10 child models (S1F1 - S1F10) | Fitting with ParallelLocalFoldFittingStrategy (4 workers, per: cpus=1, gpus=0, memory=0.33%)\n",
      "\t0.8907\t = Validation score   (roc_auc)\n",
      "\t12.46s\t = Training   runtime\n",
      "\t0.08s\t = Validation runtime\n",
      "Fitting model: CatBoost_r5_BAG_L2 ... Training model for up to 20058.95s of the 20058.69s of remaining time.\n",
      "\tFitting 10 child models (S1F1 - S1F10) | Fitting with ParallelLocalFoldFittingStrategy (4 workers, per: cpus=1, gpus=0, memory=0.06%)\n",
      "\t0.8989\t = Validation score   (roc_auc)\n",
      "\t14.17s\t = Training   runtime\n",
      "\t0.04s\t = Validation runtime\n",
      "Fitting model: NeuralNetTorch_r87_BAG_L2 ... Training model for up to 20041.60s of the 20041.34s of remaining time.\n",
      "\tFitting 10 child models (S1F1 - S1F10) | Fitting with ParallelLocalFoldFittingStrategy (4 workers, per: cpus=1, gpus=0, memory=0.02%)\n",
      "\t0.899\t = Validation score   (roc_auc)\n",
      "\t42.18s\t = Training   runtime\n",
      "\t0.3s\t = Validation runtime\n",
      "Fitting model: NeuralNetTorch_r71_BAG_L2 ... Training model for up to 19996.20s of the 19995.94s of remaining time.\n",
      "\tFitting 10 child models (S1F1 - S1F10) | Fitting with ParallelLocalFoldFittingStrategy (4 workers, per: cpus=1, gpus=0, memory=0.02%)\n",
      "\t0.899\t = Validation score   (roc_auc)\n",
      "\t26.46s\t = Training   runtime\n",
      "\t0.34s\t = Validation runtime\n",
      "Fitting model: CatBoost_r143_BAG_L2 ... Training model for up to 19966.44s of the 19966.18s of remaining time.\n",
      "\tFitting 10 child models (S1F1 - S1F10) | Fitting with ParallelLocalFoldFittingStrategy (4 workers, per: cpus=1, gpus=0, memory=0.33%)\n",
      "\t0.8985\t = Validation score   (roc_auc)\n",
      "\t27.28s\t = Training   runtime\n",
      "\t0.05s\t = Validation runtime\n",
      "Fitting model: ExtraTrees_r178_BAG_L2 ... Training model for up to 19936.01s of the 19935.74s of remaining time.\n",
      "\tForcing `use_child_oof=False` because `groups` is specified\n",
      "\tFitting 10 child models (S1F1 - S1F10) | Fitting with ParallelLocalFoldFittingStrategy (4 workers, per: cpus=1, gpus=0, memory=0.01%)\n",
      "\t0.8906\t = Validation score   (roc_auc)\n",
      "\t14.56s\t = Training   runtime\n",
      "\t0.83s\t = Validation runtime\n",
      "Fitting model: RandomForest_r166_BAG_L2 ... Training model for up to 19918.29s of the 19918.03s of remaining time.\n",
      "\tForcing `use_child_oof=False` because `groups` is specified\n",
      "\tFitting 10 child models (S1F1 - S1F10) | Fitting with ParallelLocalFoldFittingStrategy (4 workers, per: cpus=1, gpus=0, memory=0.01%)\n",
      "\t0.8865\t = Validation score   (roc_auc)\n",
      "\t20.15s\t = Training   runtime\n",
      "\t1.03s\t = Validation runtime\n",
      "Fitting model: XGBoost_r31_BAG_L2 ... Training model for up to 19894.98s of the 19894.72s of remaining time.\n",
      "\tFitting 10 child models (S1F1 - S1F10) | Fitting with ParallelLocalFoldFittingStrategy (4 workers, per: cpus=1, gpus=0, memory=0.18%)\n",
      "\t0.8953\t = Validation score   (roc_auc)\n",
      "\t12.01s\t = Training   runtime\n",
      "\t0.14s\t = Validation runtime\n",
      "Fitting model: NeuralNetTorch_r185_BAG_L2 ... Training model for up to 19879.89s of the 19879.63s of remaining time.\n",
      "\tFitting 10 child models (S1F1 - S1F10) | Fitting with ParallelLocalFoldFittingStrategy (4 workers, per: cpus=1, gpus=0, memory=0.02%)\n",
      "\t0.898\t = Validation score   (roc_auc)\n",
      "\t42.21s\t = Training   runtime\n",
      "\t0.28s\t = Validation runtime\n",
      "Fitting model: NeuralNetFastAI_r160_BAG_L2 ... Training model for up to 19834.62s of the 19834.36s of remaining time.\n",
      "\tFitting 10 child models (S1F1 - S1F10) | Fitting with ParallelLocalFoldFittingStrategy (4 workers, per: cpus=1, gpus=0, memory=0.04%)\n",
      "\t0.8976\t = Validation score   (roc_auc)\n",
      "\t32.23s\t = Training   runtime\n",
      "\t0.19s\t = Validation runtime\n",
      "Fitting model: CatBoost_r60_BAG_L2 ... Training model for up to 19799.28s of the 19799.01s of remaining time.\n",
      "\tFitting 10 child models (S1F1 - S1F10) | Fitting with ParallelLocalFoldFittingStrategy (4 workers, per: cpus=1, gpus=0, memory=0.10%)\n",
      "\t0.8987\t = Validation score   (roc_auc)\n",
      "\t16.7s\t = Training   runtime\n",
      "\t0.04s\t = Validation runtime\n",
      "Fitting model: RandomForest_r15_BAG_L2 ... Training model for up to 19779.14s of the 19778.88s of remaining time.\n",
      "\tForcing `use_child_oof=False` because `groups` is specified\n",
      "\tFitting 10 child models (S1F1 - S1F10) | Fitting with ParallelLocalFoldFittingStrategy (4 workers, per: cpus=1, gpus=0, memory=0.01%)\n",
      "\t0.8833\t = Validation score   (roc_auc)\n",
      "\t36.66s\t = Training   runtime\n",
      "\t1.38s\t = Validation runtime\n",
      "Fitting model: LightGBM_r135_BAG_L2 ... Training model for up to 19739.51s of the 19739.25s of remaining time.\n",
      "\tFitting 10 child models (S1F1 - S1F10) | Fitting with ParallelLocalFoldFittingStrategy (4 workers, per: cpus=1, gpus=0, memory=0.52%)\n",
      "\t0.8911\t = Validation score   (roc_auc)\n",
      "\t16.13s\t = Training   runtime\n",
      "\t0.05s\t = Validation runtime\n",
      "Fitting model: XGBoost_r22_BAG_L2 ... Training model for up to 19720.14s of the 19719.88s of remaining time.\n",
      "\tFitting 10 child models (S1F1 - S1F10) | Fitting with ParallelLocalFoldFittingStrategy (4 workers, per: cpus=1, gpus=0, memory=0.19%)\n",
      "\t0.8938\t = Validation score   (roc_auc)\n",
      "\t9.91s\t = Training   runtime\n",
      "\t0.07s\t = Validation runtime\n",
      "Fitting model: NeuralNetFastAI_r69_BAG_L2 ... Training model for up to 19707.02s of the 19706.75s of remaining time.\n",
      "\tFitting 10 child models (S1F1 - S1F10) | Fitting with ParallelLocalFoldFittingStrategy (4 workers, per: cpus=1, gpus=0, memory=0.04%)\n",
      "\t0.8998\t = Validation score   (roc_auc)\n",
      "\t31.86s\t = Training   runtime\n",
      "\t0.22s\t = Validation runtime\n",
      "Fitting model: CatBoost_r6_BAG_L2 ... Training model for up to 19672.00s of the 19671.74s of remaining time.\n",
      "\tFitting 10 child models (S1F1 - S1F10) | Fitting with ParallelLocalFoldFittingStrategy (4 workers, per: cpus=1, gpus=0, memory=0.06%)\n",
      "\t0.9005\t = Validation score   (roc_auc)\n",
      "\t17.88s\t = Training   runtime\n",
      "\t0.05s\t = Validation runtime\n",
      "Fitting model: NeuralNetFastAI_r138_BAG_L2 ... Training model for up to 19650.68s of the 19650.42s of remaining time.\n",
      "\tFitting 10 child models (S1F1 - S1F10) | Fitting with ParallelLocalFoldFittingStrategy (4 workers, per: cpus=1, gpus=0, memory=0.04%)\n",
      "\t0.8916\t = Validation score   (roc_auc)\n",
      "\t55.71s\t = Training   runtime\n",
      "\t0.2s\t = Validation runtime\n",
      "Fitting model: LightGBM_r121_BAG_L2 ... Training model for up to 19591.70s of the 19591.44s of remaining time.\n",
      "\tFitting 10 child models (S1F1 - S1F10) | Fitting with ParallelLocalFoldFittingStrategy (4 workers, per: cpus=1, gpus=0, memory=0.53%)\n",
      "\t0.8871\t = Validation score   (roc_auc)\n",
      "\t23.69s\t = Training   runtime\n",
      "\t0.17s\t = Validation runtime\n",
      "Fitting model: NeuralNetFastAI_r172_BAG_L2 ... Training model for up to 19564.54s of the 19564.28s of remaining time.\n",
      "\tFitting 10 child models (S1F1 - S1F10) | Fitting with ParallelLocalFoldFittingStrategy (4 workers, per: cpus=1, gpus=0, memory=0.04%)\n",
      "\t0.8916\t = Validation score   (roc_auc)\n",
      "\t24.17s\t = Training   runtime\n",
      "\t0.13s\t = Validation runtime\n",
      "Fitting model: CatBoost_r180_BAG_L2 ... Training model for up to 19536.78s of the 19536.52s of remaining time.\n",
      "\tFitting 10 child models (S1F1 - S1F10) | Fitting with ParallelLocalFoldFittingStrategy (4 workers, per: cpus=1, gpus=0, memory=0.33%)\n",
      "\t0.8969\t = Validation score   (roc_auc)\n",
      "\t53.09s\t = Training   runtime\n",
      "\t0.05s\t = Validation runtime\n",
      "Fitting model: NeuralNetTorch_r76_BAG_L2 ... Training model for up to 19480.25s of the 19479.99s of remaining time.\n",
      "\tFitting 10 child models (S1F1 - S1F10) | Fitting with ParallelLocalFoldFittingStrategy (4 workers, per: cpus=1, gpus=0, memory=0.02%)\n",
      "\t0.8996\t = Validation score   (roc_auc)\n",
      "\t25.03s\t = Training   runtime\n",
      "\t0.26s\t = Validation runtime\n",
      "Fitting model: ExtraTrees_r197_BAG_L2 ... Training model for up to 19452.08s of the 19451.82s of remaining time.\n",
      "\tForcing `use_child_oof=False` because `groups` is specified\n",
      "\tFitting 10 child models (S1F1 - S1F10) | Fitting with ParallelLocalFoldFittingStrategy (4 workers, per: cpus=1, gpus=0, memory=0.01%)\n",
      "\t0.8866\t = Validation score   (roc_auc)\n",
      "\t17.68s\t = Training   runtime\n",
      "\t1.14s\t = Validation runtime\n",
      "Fitting model: NeuralNetTorch_r121_BAG_L2 ... Training model for up to 19430.90s of the 19430.64s of remaining time.\n",
      "\tFitting 10 child models (S1F1 - S1F10) | Fitting with ParallelLocalFoldFittingStrategy (4 workers, per: cpus=1, gpus=0, memory=0.02%)\n",
      "\t0.8984\t = Validation score   (roc_auc)\n",
      "\t132.48s\t = Training   runtime\n",
      "\t0.32s\t = Validation runtime\n",
      "Fitting model: NeuralNetFastAI_r127_BAG_L2 ... Training model for up to 19295.34s of the 19295.08s of remaining time.\n",
      "\tFitting 10 child models (S1F1 - S1F10) | Fitting with ParallelLocalFoldFittingStrategy (4 workers, per: cpus=1, gpus=0, memory=0.04%)\n",
      "\t0.8853\t = Validation score   (roc_auc)\n",
      "\t22.45s\t = Training   runtime\n",
      "\t0.21s\t = Validation runtime\n",
      "Fitting model: RandomForest_r16_BAG_L2 ... Training model for up to 19269.75s of the 19269.49s of remaining time.\n",
      "\tForcing `use_child_oof=False` because `groups` is specified\n",
      "\tFitting 10 child models (S1F1 - S1F10) | Fitting with ParallelLocalFoldFittingStrategy (4 workers, per: cpus=1, gpus=0, memory=0.01%)\n",
      "\t0.8783\t = Validation score   (roc_auc)\n",
      "\t51.7s\t = Training   runtime\n",
      "\t0.98s\t = Validation runtime\n",
      "Fitting model: NeuralNetFastAI_r194_BAG_L2 ... Training model for up to 19214.63s of the 19214.36s of remaining time.\n",
      "\tFitting 10 child models (S1F1 - S1F10) | Fitting with ParallelLocalFoldFittingStrategy (4 workers, per: cpus=1, gpus=0, memory=0.04%)\n",
      "\t0.8947\t = Validation score   (roc_auc)\n",
      "\t27.33s\t = Training   runtime\n",
      "\t0.21s\t = Validation runtime\n",
      "Fitting model: CatBoost_r12_BAG_L2 ... Training model for up to 19184.11s of the 19183.85s of remaining time.\n",
      "\tFitting 10 child models (S1F1 - S1F10) | Fitting with ParallelLocalFoldFittingStrategy (4 workers, per: cpus=1, gpus=0, memory=0.33%)\n",
      "\t0.8988\t = Validation score   (roc_auc)\n",
      "\t31.69s\t = Training   runtime\n",
      "\t0.04s\t = Validation runtime\n",
      "Fitting model: NeuralNetTorch_r135_BAG_L2 ... Training model for up to 19149.05s of the 19148.79s of remaining time.\n",
      "\tFitting 10 child models (S1F1 - S1F10) | Fitting with ParallelLocalFoldFittingStrategy (4 workers, per: cpus=1, gpus=0, memory=0.02%)\n",
      "\t0.8952\t = Validation score   (roc_auc)\n",
      "\t50.73s\t = Training   runtime\n",
      "\t0.37s\t = Validation runtime\n",
      "Fitting model: NeuralNetFastAI_r4_BAG_L2 ... Training model for up to 19094.75s of the 19094.49s of remaining time.\n",
      "\tFitting 10 child models (S1F1 - S1F10) | Fitting with ParallelLocalFoldFittingStrategy (4 workers, per: cpus=1, gpus=0, memory=0.04%)\n",
      "\t0.8994\t = Validation score   (roc_auc)\n",
      "\t28.66s\t = Training   runtime\n",
      "\t0.13s\t = Validation runtime\n",
      "Fitting model: ExtraTrees_r126_BAG_L2 ... Training model for up to 19062.28s of the 19062.02s of remaining time.\n",
      "\tForcing `use_child_oof=False` because `groups` is specified\n",
      "\tFitting 10 child models (S1F1 - S1F10) | Fitting with ParallelLocalFoldFittingStrategy (4 workers, per: cpus=1, gpus=0, memory=0.01%)\n",
      "\t0.8926\t = Validation score   (roc_auc)\n",
      "\t14.11s\t = Training   runtime\n",
      "\t1.06s\t = Validation runtime\n",
      "Fitting model: NeuralNetTorch_r36_BAG_L2 ... Training model for up to 19044.71s of the 19044.45s of remaining time.\n",
      "\tFitting 10 child models (S1F1 - S1F10) | Fitting with ParallelLocalFoldFittingStrategy (4 workers, per: cpus=1, gpus=0, memory=0.02%)\n",
      "\t0.8993\t = Validation score   (roc_auc)\n",
      "\t54.9s\t = Training   runtime\n",
      "\t0.3s\t = Validation runtime\n",
      "Fitting model: NeuralNetFastAI_r100_BAG_L2 ... Training model for up to 18986.65s of the 18986.39s of remaining time.\n",
      "\tFitting 10 child models (S1F1 - S1F10) | Fitting with ParallelLocalFoldFittingStrategy (4 workers, per: cpus=1, gpus=0, memory=0.04%)\n",
      "\t0.8938\t = Validation score   (roc_auc)\n",
      "\t103.48s\t = Training   runtime\n",
      "\t0.35s\t = Validation runtime\n",
      "Fitting model: CatBoost_r163_BAG_L2 ... Training model for up to 18879.34s of the 18879.07s of remaining time.\n",
      "\tFitting 10 child models (S1F1 - S1F10) | Fitting with ParallelLocalFoldFittingStrategy (4 workers, per: cpus=1, gpus=0, memory=0.10%)\n",
      "\t0.8996\t = Validation score   (roc_auc)\n",
      "\t14.56s\t = Training   runtime\n",
      "\t0.05s\t = Validation runtime\n",
      "Fitting model: CatBoost_r198_BAG_L2 ... Training model for up to 18861.36s of the 18861.10s of remaining time.\n",
      "\tFitting 10 child models (S1F1 - S1F10) | Fitting with ParallelLocalFoldFittingStrategy (4 workers, per: cpus=1, gpus=0, memory=0.17%)\n",
      "\t0.8978\t = Validation score   (roc_auc)\n",
      "\t22.05s\t = Training   runtime\n",
      "\t0.05s\t = Validation runtime\n",
      "Fitting model: NeuralNetFastAI_r187_BAG_L2 ... Training model for up to 18836.24s of the 18835.98s of remaining time.\n",
      "\tFitting 10 child models (S1F1 - S1F10) | Fitting with ParallelLocalFoldFittingStrategy (4 workers, per: cpus=1, gpus=0, memory=0.04%)\n",
      "\t0.8936\t = Validation score   (roc_auc)\n",
      "\t24.49s\t = Training   runtime\n",
      "\t0.24s\t = Validation runtime\n",
      "Fitting model: NeuralNetTorch_r19_BAG_L2 ... Training model for up to 18808.63s of the 18808.37s of remaining time.\n",
      "\tFitting 10 child models (S1F1 - S1F10) | Fitting with ParallelLocalFoldFittingStrategy (4 workers, per: cpus=1, gpus=0, memory=0.02%)\n",
      "\t0.8972\t = Validation score   (roc_auc)\n",
      "\t29.12s\t = Training   runtime\n",
      "\t0.26s\t = Validation runtime\n",
      "Fitting model: XGBoost_r95_BAG_L2 ... Training model for up to 18776.26s of the 18776.00s of remaining time.\n",
      "\tFitting 10 child models (S1F1 - S1F10) | Fitting with ParallelLocalFoldFittingStrategy (4 workers, per: cpus=1, gpus=0, memory=0.18%)\n",
      "\t0.8949\t = Validation score   (roc_auc)\n",
      "\t10.15s\t = Training   runtime\n",
      "\t0.07s\t = Validation runtime\n",
      "Fitting model: XGBoost_r34_BAG_L2 ... Training model for up to 18762.76s of the 18762.50s of remaining time.\n",
      "\tFitting 10 child models (S1F1 - S1F10) | Fitting with ParallelLocalFoldFittingStrategy (4 workers, per: cpus=1, gpus=0, memory=1.24%)\n",
      "\t0.8882\t = Validation score   (roc_auc)\n",
      "\t13.32s\t = Training   runtime\n",
      "\t0.09s\t = Validation runtime\n",
      "Fitting model: LightGBM_r42_BAG_L2 ... Training model for up to 18746.24s of the 18745.98s of remaining time.\n",
      "\tFitting 10 child models (S1F1 - S1F10) | Fitting with ParallelLocalFoldFittingStrategy (4 workers, per: cpus=1, gpus=0, memory=0.49%)\n",
      "\t0.8963\t = Validation score   (roc_auc)\n",
      "\t13.22s\t = Training   runtime\n",
      "\t0.04s\t = Validation runtime\n",
      "Fitting model: NeuralNetTorch_r1_BAG_L2 ... Training model for up to 18730.02s of the 18729.76s of remaining time.\n",
      "\tFitting 10 child models (S1F1 - S1F10) | Fitting with ParallelLocalFoldFittingStrategy (4 workers, per: cpus=1, gpus=0, memory=0.02%)\n",
      "\t0.8992\t = Validation score   (roc_auc)\n",
      "\t43.17s\t = Training   runtime\n",
      "\t0.29s\t = Validation runtime\n",
      "Fitting model: NeuralNetTorch_r89_BAG_L2 ... Training model for up to 18683.08s of the 18682.81s of remaining time.\n",
      "\tFitting 10 child models (S1F1 - S1F10) | Fitting with ParallelLocalFoldFittingStrategy (4 workers, per: cpus=1, gpus=0, memory=0.02%)\n",
      "\t0.9024\t = Validation score   (roc_auc)\n",
      "\t43.29s\t = Training   runtime\n",
      "\t0.27s\t = Validation runtime\n",
      "Fitting model: WeightedEnsemble_L3 ... Training model for up to 2434.70s of the 18636.32s of remaining time.\n",
      "\tEnsemble Weights: {'CatBoost_r70_BAG_L2': 0.267, 'NeuralNetTorch_r89_BAG_L2': 0.267, 'NeuralNetTorch_r41_BAG_L2': 0.2, 'NeuralNetFastAI_r69_BAG_L2': 0.2, 'NeuralNetFastAI_r4_BAG_L2': 0.067}\n",
      "\t0.9065\t = Validation score   (roc_auc)\n",
      "\t0.24s\t = Training   runtime\n",
      "\t0.0s\t = Validation runtime\n",
      "AutoGluon training complete, total runtime = 10946.82s ... Best model: WeightedEnsemble_L3 | Estimated inference throughput: 4.6 rows/s (219 batch size)\n",
      "TabularPredictor saved. To load, use: predictor = TabularPredictor.load(\"/AutoGluonModels\")\n",
      "Fitting predictor using the provided pseudolabeled examples as extra training data...\n",
      "AutoGluon will fit 2 stack levels (L1 to L2) ...\n",
      "Fitting 111 L1 models, fit_strategy=\"parallel\" ...\n",
      "Note: fit_strategy='parallel', but `num_cpus=4`. Running parallel mode with fewer than 12 CPUs is not recommended and has been disabled. You can override this by specifying `os.environ[\"AG_FORCE_PARALLEL\"] = \"True\"`. Falling back to fit_strategy='sequential' ...\n",
      "Fitting model: KNeighborsUnif_BAG_L1_PSEUDO ... Training model for up to 26393.40s of the 39599.90s of remaining time.\n",
      "\tForcing `use_child_oof=False` because `groups` is specified\n",
      "\tFitting 10 child models (S1F1 - S1F10) | Fitting with ParallelLocalFoldFittingStrategy (4 workers, per: cpus=1, gpus=0, memory=0.00%)\n",
      "\t0.8429\t = Validation score   (roc_auc)\n",
      "\t6.74s\t = Training   runtime\n",
      "\t0.04s\t = Validation runtime\n",
      "Fitting model: KNeighborsDist_BAG_L1_PSEUDO ... Training model for up to 26383.53s of the 39590.03s of remaining time.\n",
      "\tForcing `use_child_oof=False` because `groups` is specified\n",
      "\tFitting 10 child models (S1F1 - S1F10) | Fitting with ParallelLocalFoldFittingStrategy (4 workers, per: cpus=1, gpus=0, memory=0.00%)\n",
      "\t0.8444\t = Validation score   (roc_auc)\n",
      "\t6.17s\t = Training   runtime\n",
      "\t0.04s\t = Validation runtime\n",
      "Fitting model: LightGBMXT_BAG_L1_PSEUDO ... Training model for up to 26374.24s of the 39580.75s of remaining time.\n",
      "\tFitting 10 child models (S1F1 - S1F10) | Fitting with ParallelLocalFoldFittingStrategy (4 workers, per: cpus=1, gpus=0, memory=0.01%)\n",
      "\t0.8954\t = Validation score   (roc_auc)\n",
      "\t13.12s\t = Training   runtime\n",
      "\t0.05s\t = Validation runtime\n",
      "Fitting model: LightGBM_BAG_L1_PSEUDO ... Training model for up to 26358.09s of the 39564.60s of remaining time.\n",
      "\tFitting 10 child models (S1F1 - S1F10) | Fitting with ParallelLocalFoldFittingStrategy (4 workers, per: cpus=1, gpus=0, memory=0.01%)\n",
      "\t0.8943\t = Validation score   (roc_auc)\n",
      "\t13.48s\t = Training   runtime\n",
      "\t0.03s\t = Validation runtime\n",
      "Fitting model: RandomForestGini_BAG_L1_PSEUDO ... Training model for up to 26341.10s of the 39547.61s of remaining time.\n",
      "\tForcing `use_child_oof=False` because `groups` is specified\n",
      "\tFitting 10 child models (S1F1 - S1F10) | Fitting with ParallelLocalFoldFittingStrategy (4 workers, per: cpus=1, gpus=0, memory=0.01%)\n",
      "\t0.8866\t = Validation score   (roc_auc)\n",
      "\t13.01s\t = Training   runtime\n",
      "\t0.93s\t = Validation runtime\n",
      "Fitting model: RandomForestEntr_BAG_L1_PSEUDO ... Training model for up to 26324.81s of the 39531.32s of remaining time.\n",
      "\tForcing `use_child_oof=False` because `groups` is specified\n",
      "\tFitting 10 child models (S1F1 - S1F10) | Fitting with ParallelLocalFoldFittingStrategy (4 workers, per: cpus=1, gpus=0, memory=0.01%)\n",
      "\t0.8886\t = Validation score   (roc_auc)\n",
      "\t13.77s\t = Training   runtime\n",
      "\t0.97s\t = Validation runtime\n",
      "Fitting model: CatBoost_BAG_L1_PSEUDO ... Training model for up to 26307.36s of the 39513.86s of remaining time.\n",
      "\tFitting 10 child models (S1F1 - S1F10) | Fitting with ParallelLocalFoldFittingStrategy (4 workers, per: cpus=1, gpus=0, memory=0.02%)\n",
      "\t0.8955\t = Validation score   (roc_auc)\n",
      "\t14.71s\t = Training   runtime\n",
      "\t0.02s\t = Validation runtime\n",
      "Fitting model: ExtraTreesGini_BAG_L1_PSEUDO ... Training model for up to 26289.55s of the 39496.06s of remaining time.\n",
      "\tForcing `use_child_oof=False` because `groups` is specified\n",
      "\tFitting 10 child models (S1F1 - S1F10) | Fitting with ParallelLocalFoldFittingStrategy (4 workers, per: cpus=1, gpus=0, memory=0.01%)\n",
      "\t0.8879\t = Validation score   (roc_auc)\n",
      "\t11.11s\t = Training   runtime\n",
      "\t0.85s\t = Validation runtime\n",
      "Fitting model: ExtraTreesEntr_BAG_L1_PSEUDO ... Training model for up to 26275.27s of the 39481.78s of remaining time.\n",
      "\tForcing `use_child_oof=False` because `groups` is specified\n",
      "\tFitting 10 child models (S1F1 - S1F10) | Fitting with ParallelLocalFoldFittingStrategy (4 workers, per: cpus=1, gpus=0, memory=0.01%)\n",
      "\t0.8917\t = Validation score   (roc_auc)\n",
      "\t11.33s\t = Training   runtime\n",
      "\t0.97s\t = Validation runtime\n",
      "Fitting model: NeuralNetFastAI_BAG_L1_PSEUDO ... Training model for up to 26260.88s of the 39467.39s of remaining time.\n",
      "\tFitting 10 child models (S1F1 - S1F10) | Fitting with ParallelLocalFoldFittingStrategy (4 workers, per: cpus=1, gpus=0, memory=0.01%)\n",
      "\t0.8926\t = Validation score   (roc_auc)\n",
      "\t30.24s\t = Training   runtime\n",
      "\t0.11s\t = Validation runtime\n",
      "Fitting model: TabPFNMix_v1_BAG_L1_PSEUDO ... Training model for up to 26227.31s of the 39433.82s of remaining time.\n",
      "\tMemory not enough to fit 10 folds in parallel. Will train 2 folds in parallel instead (Estimated 28.19% memory usage per fold, 56.39%/80.00% total).\n",
      "\tFitting 10 child models (S1F1 - S1F10) | Fitting with ParallelLocalFoldFittingStrategy (2 workers, per: cpus=2, gpus=0, memory=28.19%)\n",
      "\t0.8958\t = Validation score   (roc_auc)\n",
      "\t2661.97s\t = Training   runtime\n",
      "\t54.67s\t = Validation runtime\n",
      "Fitting model: XGBoost_BAG_L1_PSEUDO ... Training model for up to 23559.18s of the 36765.69s of remaining time.\n",
      "\tFitting 10 child models (S1F1 - S1F10) | Fitting with ParallelLocalFoldFittingStrategy (4 workers, per: cpus=1, gpus=0, memory=0.02%)\n",
      "\t0.8885\t = Validation score   (roc_auc)\n",
      "\t10.34s\t = Training   runtime\n",
      "\t0.06s\t = Validation runtime\n",
      "Fitting model: NeuralNetTorch_BAG_L1_PSEUDO ... Training model for up to 23545.40s of the 36751.91s of remaining time.\n",
      "\tFitting 10 child models (S1F1 - S1F10) | Fitting with ParallelLocalFoldFittingStrategy (4 workers, per: cpus=1, gpus=0, memory=0.00%)\n",
      "\t0.8926\t = Validation score   (roc_auc)\n",
      "\t41.86s\t = Training   runtime\n",
      "\t0.15s\t = Validation runtime\n",
      "Fitting model: LightGBMLarge_BAG_L1_PSEUDO ... Training model for up to 23500.22s of the 36706.72s of remaining time.\n",
      "\tFitting 10 child models (S1F1 - S1F10) | Fitting with ParallelLocalFoldFittingStrategy (4 workers, per: cpus=1, gpus=0, memory=0.03%)\n",
      "\t0.877\t = Validation score   (roc_auc)\n",
      "\t18.36s\t = Training   runtime\n",
      "\t0.03s\t = Validation runtime\n",
      "Fitting model: CatBoost_r177_BAG_L1_PSEUDO ... Training model for up to 23478.73s of the 36685.23s of remaining time.\n",
      "\tFitting 10 child models (S1F1 - S1F10) | Fitting with ParallelLocalFoldFittingStrategy (4 workers, per: cpus=1, gpus=0, memory=0.02%)\n",
      "\t0.8954\t = Validation score   (roc_auc)\n",
      "\t13.72s\t = Training   runtime\n",
      "\t0.03s\t = Validation runtime\n",
      "Fitting model: NeuralNetTorch_r79_BAG_L1_PSEUDO ... Training model for up to 23461.82s of the 36668.32s of remaining time.\n",
      "\tFitting 10 child models (S1F1 - S1F10) | Fitting with ParallelLocalFoldFittingStrategy (4 workers, per: cpus=1, gpus=0, memory=0.00%)\n",
      "\t0.8942\t = Validation score   (roc_auc)\n",
      "\t54.54s\t = Training   runtime\n",
      "\t0.11s\t = Validation runtime\n",
      "Fitting model: LightGBM_r131_BAG_L1_PSEUDO ... Training model for up to 23404.28s of the 36610.79s of remaining time.\n",
      "\tFitting 10 child models (S1F1 - S1F10) | Fitting with ParallelLocalFoldFittingStrategy (4 workers, per: cpus=1, gpus=0, memory=0.02%)\n",
      "\t0.8929\t = Validation score   (roc_auc)\n",
      "\t15.67s\t = Training   runtime\n",
      "\t0.08s\t = Validation runtime\n",
      "Fitting model: NeuralNetFastAI_r191_BAG_L1_PSEUDO ... Training model for up to 23385.34s of the 36591.85s of remaining time.\n",
      "\tFitting 10 child models (S1F1 - S1F10) | Fitting with ParallelLocalFoldFittingStrategy (4 workers, per: cpus=1, gpus=0, memory=0.01%)\n",
      "\t0.8949\t = Validation score   (roc_auc)\n",
      "\t44.79s\t = Training   runtime\n",
      "\t0.17s\t = Validation runtime\n",
      "Fitting model: CatBoost_r9_BAG_L1_PSEUDO ... Training model for up to 23337.27s of the 36543.77s of remaining time.\n",
      "\tFitting 10 child models (S1F1 - S1F10) | Fitting with ParallelLocalFoldFittingStrategy (4 workers, per: cpus=1, gpus=0, memory=0.06%)\n",
      "\t0.8963\t = Validation score   (roc_auc)\n",
      "\t36.49s\t = Training   runtime\n",
      "\t0.03s\t = Validation runtime\n",
      "Fitting model: LightGBM_r96_BAG_L1_PSEUDO ... Training model for up to 23297.25s of the 36503.75s of remaining time.\n",
      "\tFitting 10 child models (S1F1 - S1F10) | Fitting with ParallelLocalFoldFittingStrategy (4 workers, per: cpus=1, gpus=0, memory=0.01%)\n",
      "\t0.897\t = Validation score   (roc_auc)\n",
      "\t14.56s\t = Training   runtime\n",
      "\t0.23s\t = Validation runtime\n",
      "Fitting model: NeuralNetTorch_r22_BAG_L1_PSEUDO ... Training model for up to 23279.50s of the 36486.01s of remaining time.\n",
      "\tFitting 10 child models (S1F1 - S1F10) | Fitting with ParallelLocalFoldFittingStrategy (4 workers, per: cpus=1, gpus=0, memory=0.00%)\n",
      "\t0.8924\t = Validation score   (roc_auc)\n",
      "\t38.63s\t = Training   runtime\n",
      "\t0.12s\t = Validation runtime\n",
      "Fitting model: XGBoost_r33_BAG_L1_PSEUDO ... Training model for up to 23237.56s of the 36444.07s of remaining time.\n",
      "\tFitting 10 child models (S1F1 - S1F10) | Fitting with ParallelLocalFoldFittingStrategy (4 workers, per: cpus=1, gpus=0, memory=0.12%)\n",
      "\t0.8908\t = Validation score   (roc_auc)\n",
      "\t14.24s\t = Training   runtime\n",
      "\t0.15s\t = Validation runtime\n",
      "Fitting model: ExtraTrees_r42_BAG_L1_PSEUDO ... Training model for up to 23219.88s of the 36426.38s of remaining time.\n",
      "\tForcing `use_child_oof=False` because `groups` is specified\n",
      "\tFitting 10 child models (S1F1 - S1F10) | Fitting with ParallelLocalFoldFittingStrategy (4 workers, per: cpus=1, gpus=0, memory=0.01%)\n",
      "\t0.8881\t = Validation score   (roc_auc)\n",
      "\t12.3s\t = Training   runtime\n",
      "\t0.93s\t = Validation runtime\n",
      "Fitting model: CatBoost_r137_BAG_L1_PSEUDO ... Training model for up to 23204.40s of the 36410.90s of remaining time.\n",
      "\tFitting 10 child models (S1F1 - S1F10) | Fitting with ParallelLocalFoldFittingStrategy (4 workers, per: cpus=1, gpus=0, memory=0.01%)\n",
      "\t0.8993\t = Validation score   (roc_auc)\n",
      "\t14.09s\t = Training   runtime\n",
      "\t0.02s\t = Validation runtime\n",
      "Fitting model: NeuralNetFastAI_r102_BAG_L1_PSEUDO ... Training model for up to 23187.13s of the 36393.64s of remaining time.\n",
      "\tFitting 10 child models (S1F1 - S1F10) | Fitting with ParallelLocalFoldFittingStrategy (4 workers, per: cpus=1, gpus=0, memory=0.01%)\n",
      "\t0.8937\t = Validation score   (roc_auc)\n",
      "\t24.04s\t = Training   runtime\n",
      "\t0.17s\t = Validation runtime\n",
      "Fitting model: CatBoost_r13_BAG_L1_PSEUDO ... Training model for up to 23160.11s of the 36366.62s of remaining time.\n",
      "\tFitting 10 child models (S1F1 - S1F10) | Fitting with ParallelLocalFoldFittingStrategy (4 workers, per: cpus=1, gpus=0, memory=0.06%)\n",
      "\t0.8972\t = Validation score   (roc_auc)\n",
      "\t33.85s\t = Training   runtime\n",
      "\t0.02s\t = Validation runtime\n",
      "Fitting model: RandomForest_r195_BAG_L1_PSEUDO ... Training model for up to 23123.05s of the 36329.56s of remaining time.\n",
      "\tForcing `use_child_oof=False` because `groups` is specified\n",
      "\tFitting 10 child models (S1F1 - S1F10) | Fitting with ParallelLocalFoldFittingStrategy (4 workers, per: cpus=1, gpus=0, memory=0.01%)\n",
      "\t0.8842\t = Validation score   (roc_auc)\n",
      "\t21.13s\t = Training   runtime\n",
      "\t1.17s\t = Validation runtime\n",
      "Fitting model: LightGBM_r188_BAG_L1_PSEUDO ... Training model for up to 23098.68s of the 36305.19s of remaining time.\n",
      "\tFitting 10 child models (S1F1 - S1F10) | Fitting with ParallelLocalFoldFittingStrategy (4 workers, per: cpus=1, gpus=0, memory=0.03%)\n",
      "\t0.8948\t = Validation score   (roc_auc)\n",
      "\t14.29s\t = Training   runtime\n",
      "\t0.08s\t = Validation runtime\n",
      "Fitting model: NeuralNetFastAI_r145_BAG_L1_PSEUDO ... Training model for up to 23080.99s of the 36287.50s of remaining time.\n",
      "\tFitting 10 child models (S1F1 - S1F10) | Fitting with ParallelLocalFoldFittingStrategy (4 workers, per: cpus=1, gpus=0, memory=0.01%)\n",
      "\t0.8954\t = Validation score   (roc_auc)\n",
      "\t41.8s\t = Training   runtime\n",
      "\t0.2s\t = Validation runtime\n",
      "Fitting model: XGBoost_r89_BAG_L1_PSEUDO ... Training model for up to 23035.84s of the 36242.35s of remaining time.\n",
      "\tFitting 10 child models (S1F1 - S1F10) | Fitting with ParallelLocalFoldFittingStrategy (4 workers, per: cpus=1, gpus=0, memory=0.02%)\n",
      "\t0.8986\t = Validation score   (roc_auc)\n",
      "\t9.0s\t = Training   runtime\n",
      "\t0.07s\t = Validation runtime\n",
      "Fitting model: NeuralNetTorch_r30_BAG_L1_PSEUDO ... Training model for up to 23023.22s of the 36229.72s of remaining time.\n",
      "\tFitting 10 child models (S1F1 - S1F10) | Fitting with ParallelLocalFoldFittingStrategy (4 workers, per: cpus=1, gpus=0, memory=0.00%)\n",
      "\t0.8923\t = Validation score   (roc_auc)\n",
      "\t73.77s\t = Training   runtime\n",
      "\t0.15s\t = Validation runtime\n",
      "Fitting model: LightGBM_r130_BAG_L1_PSEUDO ... Training model for up to 22946.46s of the 36152.97s of remaining time.\n",
      "\tFitting 10 child models (S1F1 - S1F10) | Fitting with ParallelLocalFoldFittingStrategy (4 workers, per: cpus=1, gpus=0, memory=0.02%)\n",
      "\t0.8953\t = Validation score   (roc_auc)\n",
      "\t14.06s\t = Training   runtime\n",
      "\t0.03s\t = Validation runtime\n",
      "Fitting model: NeuralNetTorch_r86_BAG_L1_PSEUDO ... Training model for up to 22929.13s of the 36135.64s of remaining time.\n",
      "\tFitting 10 child models (S1F1 - S1F10) | Fitting with ParallelLocalFoldFittingStrategy (4 workers, per: cpus=1, gpus=0, memory=0.00%)\n",
      "\t0.8906\t = Validation score   (roc_auc)\n",
      "\t39.4s\t = Training   runtime\n",
      "\t0.12s\t = Validation runtime\n",
      "Fitting model: CatBoost_r50_BAG_L1_PSEUDO ... Training model for up to 22886.61s of the 36093.12s of remaining time.\n",
      "\tFitting 10 child models (S1F1 - S1F10) | Fitting with ParallelLocalFoldFittingStrategy (4 workers, per: cpus=1, gpus=0, memory=0.01%)\n",
      "\t0.9031\t = Validation score   (roc_auc)\n",
      "\t14.12s\t = Training   runtime\n",
      "\t0.03s\t = Validation runtime\n",
      "Fitting model: NeuralNetFastAI_r11_BAG_L1_PSEUDO ... Training model for up to 22869.27s of the 36075.78s of remaining time.\n",
      "\tFitting 10 child models (S1F1 - S1F10) | Fitting with ParallelLocalFoldFittingStrategy (4 workers, per: cpus=1, gpus=0, memory=0.01%)\n",
      "\t0.896\t = Validation score   (roc_auc)\n",
      "\t51.72s\t = Training   runtime\n",
      "\t0.27s\t = Validation runtime\n",
      "Fitting model: XGBoost_r194_BAG_L1_PSEUDO ... Training model for up to 22814.42s of the 36020.92s of remaining time.\n",
      "\tFitting 10 child models (S1F1 - S1F10) | Fitting with ParallelLocalFoldFittingStrategy (4 workers, per: cpus=1, gpus=0, memory=0.03%)\n",
      "\t0.8911\t = Validation score   (roc_auc)\n",
      "\t10.02s\t = Training   runtime\n",
      "\t0.06s\t = Validation runtime\n",
      "Fitting model: ExtraTrees_r172_BAG_L1_PSEUDO ... Training model for up to 22801.01s of the 36007.52s of remaining time.\n",
      "\tForcing `use_child_oof=False` because `groups` is specified\n",
      "\tFitting 10 child models (S1F1 - S1F10) | Fitting with ParallelLocalFoldFittingStrategy (4 workers, per: cpus=1, gpus=0, memory=0.01%)\n",
      "\t0.8937\t = Validation score   (roc_auc)\n",
      "\t11.55s\t = Training   runtime\n",
      "\t0.96s\t = Validation runtime\n",
      "Fitting model: CatBoost_r69_BAG_L1_PSEUDO ... Training model for up to 22786.36s of the 35992.87s of remaining time.\n",
      "\tFitting 10 child models (S1F1 - S1F10) | Fitting with ParallelLocalFoldFittingStrategy (4 workers, per: cpus=1, gpus=0, memory=0.01%)\n",
      "\t0.8981\t = Validation score   (roc_auc)\n",
      "\t13.39s\t = Training   runtime\n",
      "\t0.01s\t = Validation runtime\n",
      "Fitting model: NeuralNetFastAI_r103_BAG_L1_PSEUDO ... Training model for up to 22769.77s of the 35976.28s of remaining time.\n",
      "\tFitting 10 child models (S1F1 - S1F10) | Fitting with ParallelLocalFoldFittingStrategy (4 workers, per: cpus=1, gpus=0, memory=0.01%)\n",
      "\t0.8938\t = Validation score   (roc_auc)\n",
      "\t35.89s\t = Training   runtime\n",
      "\t0.14s\t = Validation runtime\n",
      "Fitting model: NeuralNetTorch_r14_BAG_L1_PSEUDO ... Training model for up to 22730.73s of the 35937.24s of remaining time.\n",
      "\tFitting 10 child models (S1F1 - S1F10) | Fitting with ParallelLocalFoldFittingStrategy (4 workers, per: cpus=1, gpus=0, memory=0.00%)\n",
      "\t0.8951\t = Validation score   (roc_auc)\n",
      "\t34.36s\t = Training   runtime\n",
      "\t0.11s\t = Validation runtime\n",
      "Fitting model: LightGBM_r161_BAG_L1_PSEUDO ... Training model for up to 22693.11s of the 35899.62s of remaining time.\n",
      "\tFitting 10 child models (S1F1 - S1F10) | Fitting with ParallelLocalFoldFittingStrategy (4 workers, per: cpus=1, gpus=0, memory=0.06%)\n",
      "\t0.8933\t = Validation score   (roc_auc)\n",
      "\t20.61s\t = Training   runtime\n",
      "\t0.17s\t = Validation runtime\n",
      "Fitting model: NeuralNetFastAI_r143_BAG_L1_PSEUDO ... Training model for up to 22668.72s of the 35875.23s of remaining time.\n",
      "\tFitting 10 child models (S1F1 - S1F10) | Fitting with ParallelLocalFoldFittingStrategy (4 workers, per: cpus=1, gpus=0, memory=0.01%)\n",
      "\t0.8949\t = Validation score   (roc_auc)\n",
      "\t26.12s\t = Training   runtime\n",
      "\t0.18s\t = Validation runtime\n",
      "Fitting model: CatBoost_r70_BAG_L1_PSEUDO ... Training model for up to 22639.35s of the 35845.86s of remaining time.\n",
      "\tFitting 10 child models (S1F1 - S1F10) | Fitting with ParallelLocalFoldFittingStrategy (4 workers, per: cpus=1, gpus=0, memory=0.02%)\n",
      "\t0.8968\t = Validation score   (roc_auc)\n",
      "\t21.89s\t = Training   runtime\n",
      "\t0.03s\t = Validation runtime\n",
      "Fitting model: NeuralNetFastAI_r156_BAG_L1_PSEUDO ... Training model for up to 22614.11s of the 35820.62s of remaining time.\n",
      "\tFitting 10 child models (S1F1 - S1F10) | Fitting with ParallelLocalFoldFittingStrategy (4 workers, per: cpus=1, gpus=0, memory=0.01%)\n",
      "\t0.8937\t = Validation score   (roc_auc)\n",
      "\t25.98s\t = Training   runtime\n",
      "\t0.17s\t = Validation runtime\n",
      "Fitting model: LightGBM_r196_BAG_L1_PSEUDO ... Training model for up to 22584.64s of the 35791.15s of remaining time.\n",
      "\tFitting 10 child models (S1F1 - S1F10) | Fitting with ParallelLocalFoldFittingStrategy (4 workers, per: cpus=1, gpus=0, memory=0.03%)\n",
      "\t0.8963\t = Validation score   (roc_auc)\n",
      "\t20.49s\t = Training   runtime\n",
      "\t0.71s\t = Validation runtime\n",
      "Fitting model: RandomForest_r39_BAG_L1_PSEUDO ... Training model for up to 22559.87s of the 35766.37s of remaining time.\n",
      "\tForcing `use_child_oof=False` because `groups` is specified\n",
      "\tFitting 10 child models (S1F1 - S1F10) | Fitting with ParallelLocalFoldFittingStrategy (4 workers, per: cpus=1, gpus=0, memory=0.01%)\n",
      "\t0.8855\t = Validation score   (roc_auc)\n",
      "\t19.85s\t = Training   runtime\n",
      "\t1.15s\t = Validation runtime\n",
      "Fitting model: CatBoost_r167_BAG_L1_PSEUDO ... Training model for up to 22536.82s of the 35743.33s of remaining time.\n",
      "\tFitting 10 child models (S1F1 - S1F10) | Fitting with ParallelLocalFoldFittingStrategy (4 workers, per: cpus=1, gpus=0, memory=0.03%)\n",
      "\t0.8981\t = Validation score   (roc_auc)\n",
      "\t16.37s\t = Training   runtime\n",
      "\t0.02s\t = Validation runtime\n",
      "Fitting model: NeuralNetFastAI_r95_BAG_L1_PSEUDO ... Training model for up to 22517.28s of the 35723.79s of remaining time.\n",
      "\tFitting 10 child models (S1F1 - S1F10) | Fitting with ParallelLocalFoldFittingStrategy (4 workers, per: cpus=1, gpus=0, memory=0.01%)\n",
      "\t0.8943\t = Validation score   (roc_auc)\n",
      "\t43.93s\t = Training   runtime\n",
      "\t0.17s\t = Validation runtime\n",
      "Fitting model: NeuralNetTorch_r41_BAG_L1_PSEUDO ... Training model for up to 22470.02s of the 35676.53s of remaining time.\n",
      "\tFitting 10 child models (S1F1 - S1F10) | Fitting with ParallelLocalFoldFittingStrategy (4 workers, per: cpus=1, gpus=0, memory=0.00%)\n",
      "\t0.8963\t = Validation score   (roc_auc)\n",
      "\t38.49s\t = Training   runtime\n",
      "\t0.15s\t = Validation runtime\n",
      "Fitting model: XGBoost_r98_BAG_L1_PSEUDO ... Training model for up to 22428.33s of the 35634.83s of remaining time.\n",
      "\tFitting 10 child models (S1F1 - S1F10) | Fitting with ParallelLocalFoldFittingStrategy (4 workers, per: cpus=1, gpus=0, memory=0.06%)\n",
      "\t0.895\t = Validation score   (roc_auc)\n",
      "\t15.61s\t = Training   runtime\n",
      "\t0.17s\t = Validation runtime\n",
      "Fitting model: LightGBM_r15_BAG_L1_PSEUDO ... Training model for up to 22409.45s of the 35615.96s of remaining time.\n",
      "\tFitting 10 child models (S1F1 - S1F10) | Fitting with ParallelLocalFoldFittingStrategy (4 workers, per: cpus=1, gpus=0, memory=0.01%)\n",
      "\t0.8955\t = Validation score   (roc_auc)\n",
      "\t13.69s\t = Training   runtime\n",
      "\t0.1s\t = Validation runtime\n",
      "Fitting model: NeuralNetTorch_r158_BAG_L1_PSEUDO ... Training model for up to 22392.73s of the 35599.24s of remaining time.\n",
      "\tFitting 10 child models (S1F1 - S1F10) | Fitting with ParallelLocalFoldFittingStrategy (4 workers, per: cpus=1, gpus=0, memory=0.00%)\n",
      "\t0.8854\t = Validation score   (roc_auc)\n",
      "\t48.73s\t = Training   runtime\n",
      "\t0.14s\t = Validation runtime\n",
      "Fitting model: CatBoost_r86_BAG_L1_PSEUDO ... Training model for up to 22340.73s of the 35547.24s of remaining time.\n",
      "\tFitting 10 child models (S1F1 - S1F10) | Fitting with ParallelLocalFoldFittingStrategy (4 workers, per: cpus=1, gpus=0, memory=0.06%)\n",
      "\t0.8956\t = Validation score   (roc_auc)\n",
      "\t23.79s\t = Training   runtime\n",
      "\t0.02s\t = Validation runtime\n",
      "Fitting model: NeuralNetFastAI_r37_BAG_L1_PSEUDO ... Training model for up to 22313.93s of the 35520.43s of remaining time.\n",
      "\tFitting 10 child models (S1F1 - S1F10) | Fitting with ParallelLocalFoldFittingStrategy (4 workers, per: cpus=1, gpus=0, memory=0.01%)\n",
      "\t0.8942\t = Validation score   (roc_auc)\n",
      "\t31.53s\t = Training   runtime\n",
      "\t0.16s\t = Validation runtime\n",
      "Fitting model: NeuralNetTorch_r197_BAG_L1_PSEUDO ... Training model for up to 22279.37s of the 35485.88s of remaining time.\n",
      "\tFitting 10 child models (S1F1 - S1F10) | Fitting with ParallelLocalFoldFittingStrategy (4 workers, per: cpus=1, gpus=0, memory=0.00%)\n",
      "\t0.8928\t = Validation score   (roc_auc)\n",
      "\t29.22s\t = Training   runtime\n",
      "\t0.1s\t = Validation runtime\n",
      "Fitting model: CatBoost_r49_BAG_L1_PSEUDO ... Training model for up to 22246.77s of the 35453.28s of remaining time.\n",
      "\tFitting 10 child models (S1F1 - S1F10) | Fitting with ParallelLocalFoldFittingStrategy (4 workers, per: cpus=1, gpus=0, memory=0.01%)\n",
      "\t0.8995\t = Validation score   (roc_auc)\n",
      "\t13.07s\t = Training   runtime\n",
      "\t0.02s\t = Validation runtime\n",
      "Fitting model: ExtraTrees_r49_BAG_L1_PSEUDO ... Training model for up to 22230.67s of the 35437.18s of remaining time.\n",
      "\tForcing `use_child_oof=False` because `groups` is specified\n",
      "\tFitting 10 child models (S1F1 - S1F10) | Fitting with ParallelLocalFoldFittingStrategy (4 workers, per: cpus=1, gpus=0, memory=0.01%)\n",
      "\t0.8879\t = Validation score   (roc_auc)\n",
      "\t14.0s\t = Training   runtime\n",
      "\t1.1s\t = Validation runtime\n",
      "Fitting model: LightGBM_r143_BAG_L1_PSEUDO ... Training model for up to 22213.52s of the 35420.03s of remaining time.\n",
      "\tFitting 10 child models (S1F1 - S1F10) | Fitting with ParallelLocalFoldFittingStrategy (4 workers, per: cpus=1, gpus=0, memory=0.04%)\n",
      "\t0.8913\t = Validation score   (roc_auc)\n",
      "\t17.35s\t = Training   runtime\n",
      "\t0.08s\t = Validation runtime\n",
      "Fitting model: RandomForest_r127_BAG_L1_PSEUDO ... Training model for up to 22192.85s of the 35399.35s of remaining time.\n",
      "\tForcing `use_child_oof=False` because `groups` is specified\n",
      "\tFitting 10 child models (S1F1 - S1F10) | Fitting with ParallelLocalFoldFittingStrategy (4 workers, per: cpus=1, gpus=0, memory=0.01%)\n",
      "\t0.8907\t = Validation score   (roc_auc)\n",
      "\t22.38s\t = Training   runtime\n",
      "\t0.95s\t = Validation runtime\n",
      "Fitting model: NeuralNetFastAI_r134_BAG_L1_PSEUDO ... Training model for up to 22167.12s of the 35373.63s of remaining time.\n",
      "\tFitting 10 child models (S1F1 - S1F10) | Fitting with ParallelLocalFoldFittingStrategy (4 workers, per: cpus=1, gpus=0, memory=0.01%)\n",
      "\t0.8896\t = Validation score   (roc_auc)\n",
      "\t40.78s\t = Training   runtime\n",
      "\t0.14s\t = Validation runtime\n",
      "Fitting model: RandomForest_r34_BAG_L1_PSEUDO ... Training model for up to 22123.24s of the 35329.75s of remaining time.\n",
      "\tForcing `use_child_oof=False` because `groups` is specified\n",
      "\tFitting 10 child models (S1F1 - S1F10) | Fitting with ParallelLocalFoldFittingStrategy (4 workers, per: cpus=1, gpus=0, memory=0.01%)\n",
      "\t0.8939\t = Validation score   (roc_auc)\n",
      "\t14.05s\t = Training   runtime\n",
      "\t0.93s\t = Validation runtime\n",
      "Fitting model: LightGBM_r94_BAG_L1_PSEUDO ... Training model for up to 22105.64s of the 35312.15s of remaining time.\n",
      "\tFitting 10 child models (S1F1 - S1F10) | Fitting with ParallelLocalFoldFittingStrategy (4 workers, per: cpus=1, gpus=0, memory=0.01%)\n",
      "\t0.8973\t = Validation score   (roc_auc)\n",
      "\t13.57s\t = Training   runtime\n",
      "\t0.11s\t = Validation runtime\n",
      "Fitting model: NeuralNetTorch_r143_BAG_L1_PSEUDO ... Training model for up to 22088.99s of the 35295.50s of remaining time.\n",
      "\tFitting 10 child models (S1F1 - S1F10) | Fitting with ParallelLocalFoldFittingStrategy (4 workers, per: cpus=1, gpus=0, memory=0.00%)\n",
      "\t0.8921\t = Validation score   (roc_auc)\n",
      "\t62.17s\t = Training   runtime\n",
      "\t0.13s\t = Validation runtime\n",
      "Fitting model: CatBoost_r128_BAG_L1_PSEUDO ... Training model for up to 22023.51s of the 35230.02s of remaining time.\n",
      "\tFitting 10 child models (S1F1 - S1F10) | Fitting with ParallelLocalFoldFittingStrategy (4 workers, per: cpus=1, gpus=0, memory=0.06%)\n",
      "\t0.8975\t = Validation score   (roc_auc)\n",
      "\t36.05s\t = Training   runtime\n",
      "\t0.02s\t = Validation runtime\n",
      "Fitting model: NeuralNetFastAI_r111_BAG_L1_PSEUDO ... Training model for up to 21984.32s of the 35190.83s of remaining time.\n",
      "\tFitting 10 child models (S1F1 - S1F10) | Fitting with ParallelLocalFoldFittingStrategy (4 workers, per: cpus=1, gpus=0, memory=0.01%)\n",
      "\t0.8792\t = Validation score   (roc_auc)\n",
      "\t24.73s\t = Training   runtime\n",
      "\t0.18s\t = Validation runtime\n",
      "Fitting model: NeuralNetTorch_r31_BAG_L1_PSEUDO ... Training model for up to 21956.42s of the 35162.93s of remaining time.\n",
      "\tFitting 10 child models (S1F1 - S1F10) | Fitting with ParallelLocalFoldFittingStrategy (4 workers, per: cpus=1, gpus=0, memory=0.00%)\n",
      "\t0.8921\t = Validation score   (roc_auc)\n",
      "\t31.33s\t = Training   runtime\n",
      "\t0.11s\t = Validation runtime\n",
      "Fitting model: ExtraTrees_r4_BAG_L1_PSEUDO ... Training model for up to 21921.73s of the 35128.24s of remaining time.\n",
      "\tForcing `use_child_oof=False` because `groups` is specified\n",
      "\tFitting 10 child models (S1F1 - S1F10) | Fitting with ParallelLocalFoldFittingStrategy (4 workers, per: cpus=1, gpus=0, memory=0.01%)\n",
      "\t0.8944\t = Validation score   (roc_auc)\n",
      "\t11.77s\t = Training   runtime\n",
      "\t0.9s\t = Validation runtime\n",
      "Fitting model: NeuralNetFastAI_r65_BAG_L1_PSEUDO ... Training model for up to 21906.58s of the 35113.09s of remaining time.\n",
      "\tFitting 10 child models (S1F1 - S1F10) | Fitting with ParallelLocalFoldFittingStrategy (4 workers, per: cpus=1, gpus=0, memory=0.01%)\n",
      "\t0.8913\t = Validation score   (roc_auc)\n",
      "\t26.03s\t = Training   runtime\n",
      "\t0.11s\t = Validation runtime\n",
      "Fitting model: NeuralNetFastAI_r88_BAG_L1_PSEUDO ... Training model for up to 21877.36s of the 35083.87s of remaining time.\n",
      "\tFitting 10 child models (S1F1 - S1F10) | Fitting with ParallelLocalFoldFittingStrategy (4 workers, per: cpus=1, gpus=0, memory=0.01%)\n",
      "\t0.8931\t = Validation score   (roc_auc)\n",
      "\t26.93s\t = Training   runtime\n",
      "\t0.13s\t = Validation runtime\n",
      "Fitting model: LightGBM_r30_BAG_L1_PSEUDO ... Training model for up to 21847.06s of the 35053.57s of remaining time.\n",
      "\tFitting 10 child models (S1F1 - S1F10) | Fitting with ParallelLocalFoldFittingStrategy (4 workers, per: cpus=1, gpus=0, memory=0.03%)\n",
      "\t0.897\t = Validation score   (roc_auc)\n",
      "\t16.43s\t = Training   runtime\n",
      "\t0.21s\t = Validation runtime\n",
      "Fitting model: XGBoost_r49_BAG_L1_PSEUDO ... Training model for up to 21827.15s of the 35033.66s of remaining time.\n",
      "\tFitting 10 child models (S1F1 - S1F10) | Fitting with ParallelLocalFoldFittingStrategy (4 workers, per: cpus=1, gpus=0, memory=0.03%)\n",
      "\t0.8922\t = Validation score   (roc_auc)\n",
      "\t10.19s\t = Training   runtime\n",
      "\t0.07s\t = Validation runtime\n",
      "Fitting model: CatBoost_r5_BAG_L1_PSEUDO ... Training model for up to 21813.95s of the 35020.46s of remaining time.\n",
      "\tFitting 10 child models (S1F1 - S1F10) | Fitting with ParallelLocalFoldFittingStrategy (4 workers, per: cpus=1, gpus=0, memory=0.01%)\n",
      "\t0.8996\t = Validation score   (roc_auc)\n",
      "\t13.21s\t = Training   runtime\n",
      "\t0.02s\t = Validation runtime\n",
      "Fitting model: NeuralNetTorch_r87_BAG_L1_PSEUDO ... Training model for up to 21797.76s of the 35004.27s of remaining time.\n",
      "\tFitting 10 child models (S1F1 - S1F10) | Fitting with ParallelLocalFoldFittingStrategy (4 workers, per: cpus=1, gpus=0, memory=0.00%)\n",
      "\t0.8967\t = Validation score   (roc_auc)\n",
      "\t44.91s\t = Training   runtime\n",
      "\t0.14s\t = Validation runtime\n",
      "Fitting model: NeuralNetTorch_r71_BAG_L1_PSEUDO ... Training model for up to 21749.65s of the 34956.16s of remaining time.\n",
      "\tFitting 10 child models (S1F1 - S1F10) | Fitting with ParallelLocalFoldFittingStrategy (4 workers, per: cpus=1, gpus=0, memory=0.00%)\n",
      "\t0.8927\t = Validation score   (roc_auc)\n",
      "\t24.86s\t = Training   runtime\n",
      "\t0.16s\t = Validation runtime\n",
      "Fitting model: CatBoost_r143_BAG_L1_PSEUDO ... Training model for up to 21721.46s of the 34927.97s of remaining time.\n",
      "\tFitting 10 child models (S1F1 - S1F10) | Fitting with ParallelLocalFoldFittingStrategy (4 workers, per: cpus=1, gpus=0, memory=0.03%)\n",
      "\t0.896\t = Validation score   (roc_auc)\n",
      "\t15.9s\t = Training   runtime\n",
      "\t0.05s\t = Validation runtime\n",
      "Fitting model: ExtraTrees_r178_BAG_L1_PSEUDO ... Training model for up to 21702.26s of the 34908.77s of remaining time.\n",
      "\tForcing `use_child_oof=False` because `groups` is specified\n",
      "\tFitting 10 child models (S1F1 - S1F10) | Fitting with ParallelLocalFoldFittingStrategy (4 workers, per: cpus=1, gpus=0, memory=0.01%)\n",
      "\t0.8925\t = Validation score   (roc_auc)\n",
      "\t13.7s\t = Training   runtime\n",
      "\t1.02s\t = Validation runtime\n",
      "Fitting model: RandomForest_r166_BAG_L1_PSEUDO ... Training model for up to 21685.47s of the 34891.98s of remaining time.\n",
      "\tForcing `use_child_oof=False` because `groups` is specified\n",
      "\tFitting 10 child models (S1F1 - S1F10) | Fitting with ParallelLocalFoldFittingStrategy (4 workers, per: cpus=1, gpus=0, memory=0.01%)\n",
      "\t0.8866\t = Validation score   (roc_auc)\n",
      "\t19.21s\t = Training   runtime\n",
      "\t1.04s\t = Validation runtime\n",
      "Fitting model: XGBoost_r31_BAG_L1_PSEUDO ... Training model for up to 21663.04s of the 34869.55s of remaining time.\n",
      "\tFitting 10 child models (S1F1 - S1F10) | Fitting with ParallelLocalFoldFittingStrategy (4 workers, per: cpus=1, gpus=0, memory=0.02%)\n",
      "\t0.898\t = Validation score   (roc_auc)\n",
      "\t11.57s\t = Training   runtime\n",
      "\t0.16s\t = Validation runtime\n",
      "Fitting model: NeuralNetTorch_r185_BAG_L1_PSEUDO ... Training model for up to 21648.19s of the 34854.70s of remaining time.\n",
      "\tFitting 10 child models (S1F1 - S1F10) | Fitting with ParallelLocalFoldFittingStrategy (4 workers, per: cpus=1, gpus=0, memory=0.00%)\n",
      "\t0.8928\t = Validation score   (roc_auc)\n",
      "\t40.11s\t = Training   runtime\n",
      "\t0.14s\t = Validation runtime\n",
      "Fitting model: NeuralNetFastAI_r160_BAG_L1_PSEUDO ... Training model for up to 21604.88s of the 34811.39s of remaining time.\n",
      "\tFitting 10 child models (S1F1 - S1F10) | Fitting with ParallelLocalFoldFittingStrategy (4 workers, per: cpus=1, gpus=0, memory=0.01%)\n",
      "\t0.8961\t = Validation score   (roc_auc)\n",
      "\t34.85s\t = Training   runtime\n",
      "\t0.26s\t = Validation runtime\n",
      "Fitting model: CatBoost_r60_BAG_L1_PSEUDO ... Training model for up to 21566.75s of the 34773.26s of remaining time.\n",
      "\tFitting 10 child models (S1F1 - S1F10) | Fitting with ParallelLocalFoldFittingStrategy (4 workers, per: cpus=1, gpus=0, memory=0.01%)\n",
      "\t0.8985\t = Validation score   (roc_auc)\n",
      "\t13.27s\t = Training   runtime\n",
      "\t0.02s\t = Validation runtime\n",
      "Fitting model: RandomForest_r15_BAG_L1_PSEUDO ... Training model for up to 21550.06s of the 34756.57s of remaining time.\n",
      "\tForcing `use_child_oof=False` because `groups` is specified\n",
      "\tFitting 10 child models (S1F1 - S1F10) | Fitting with ParallelLocalFoldFittingStrategy (4 workers, per: cpus=1, gpus=0, memory=0.01%)\n",
      "\t0.8888\t = Validation score   (roc_auc)\n",
      "\t20.2s\t = Training   runtime\n",
      "\t1.11s\t = Validation runtime\n",
      "Fitting model: LightGBM_r135_BAG_L1_PSEUDO ... Training model for up to 21526.38s of the 34732.88s of remaining time.\n",
      "\tFitting 10 child models (S1F1 - S1F10) | Fitting with ParallelLocalFoldFittingStrategy (4 workers, per: cpus=1, gpus=0, memory=0.05%)\n",
      "\t0.8957\t = Validation score   (roc_auc)\n",
      "\t14.16s\t = Training   runtime\n",
      "\t0.04s\t = Validation runtime\n",
      "Fitting model: XGBoost_r22_BAG_L1_PSEUDO ... Training model for up to 21509.08s of the 34715.59s of remaining time.\n",
      "\tFitting 10 child models (S1F1 - S1F10) | Fitting with ParallelLocalFoldFittingStrategy (4 workers, per: cpus=1, gpus=0, memory=0.02%)\n",
      "\t0.8965\t = Validation score   (roc_auc)\n",
      "\t8.5s\t = Training   runtime\n",
      "\t0.05s\t = Validation runtime\n",
      "Fitting model: NeuralNetFastAI_r69_BAG_L1_PSEUDO ... Training model for up to 21497.23s of the 34703.73s of remaining time.\n",
      "\tFitting 10 child models (S1F1 - S1F10) | Fitting with ParallelLocalFoldFittingStrategy (4 workers, per: cpus=1, gpus=0, memory=0.01%)\n",
      "\t0.8943\t = Validation score   (roc_auc)\n",
      "\t33.77s\t = Training   runtime\n",
      "\t0.28s\t = Validation runtime\n",
      "Fitting model: CatBoost_r6_BAG_L1_PSEUDO ... Training model for up to 21460.28s of the 34666.79s of remaining time.\n",
      "\tFitting 10 child models (S1F1 - S1F10) | Fitting with ParallelLocalFoldFittingStrategy (4 workers, per: cpus=1, gpus=0, memory=0.01%)\n",
      "\t0.8973\t = Validation score   (roc_auc)\n",
      "\t13.74s\t = Training   runtime\n",
      "\t0.03s\t = Validation runtime\n",
      "Fitting model: NeuralNetFastAI_r138_BAG_L1_PSEUDO ... Training model for up to 21443.05s of the 34649.56s of remaining time.\n",
      "\tFitting 10 child models (S1F1 - S1F10) | Fitting with ParallelLocalFoldFittingStrategy (4 workers, per: cpus=1, gpus=0, memory=0.01%)\n",
      "\t0.8941\t = Validation score   (roc_auc)\n",
      "\t60.23s\t = Training   runtime\n",
      "\t0.2s\t = Validation runtime\n",
      "Fitting model: LightGBM_r121_BAG_L1_PSEUDO ... Training model for up to 21379.93s of the 34586.44s of remaining time.\n",
      "\tFitting 10 child models (S1F1 - S1F10) | Fitting with ParallelLocalFoldFittingStrategy (4 workers, per: cpus=1, gpus=0, memory=0.05%)\n",
      "\t0.893\t = Validation score   (roc_auc)\n",
      "\t20.74s\t = Training   runtime\n",
      "\t0.14s\t = Validation runtime\n",
      "Fitting model: NeuralNetFastAI_r172_BAG_L1_PSEUDO ... Training model for up to 21355.73s of the 34562.24s of remaining time.\n",
      "\tFitting 10 child models (S1F1 - S1F10) | Fitting with ParallelLocalFoldFittingStrategy (4 workers, per: cpus=1, gpus=0, memory=0.01%)\n",
      "\t0.8928\t = Validation score   (roc_auc)\n",
      "\t25.42s\t = Training   runtime\n",
      "\t0.15s\t = Validation runtime\n",
      "Fitting model: CatBoost_r180_BAG_L1_PSEUDO ... Training model for up to 21326.91s of the 34533.42s of remaining time.\n",
      "\tFitting 10 child models (S1F1 - S1F10) | Fitting with ParallelLocalFoldFittingStrategy (4 workers, per: cpus=1, gpus=0, memory=0.03%)\n",
      "\t0.8972\t = Validation score   (roc_auc)\n",
      "\t26.61s\t = Training   runtime\n",
      "\t0.03s\t = Validation runtime\n",
      "Fitting model: NeuralNetTorch_r76_BAG_L1_PSEUDO ... Training model for up to 21296.88s of the 34503.39s of remaining time.\n",
      "\tFitting 10 child models (S1F1 - S1F10) | Fitting with ParallelLocalFoldFittingStrategy (4 workers, per: cpus=1, gpus=0, memory=0.00%)\n",
      "\t0.8924\t = Validation score   (roc_auc)\n",
      "\t30.54s\t = Training   runtime\n",
      "\t0.1s\t = Validation runtime\n",
      "Fitting model: ExtraTrees_r197_BAG_L1_PSEUDO ... Training model for up to 21263.39s of the 34469.90s of remaining time.\n",
      "\tForcing `use_child_oof=False` because `groups` is specified\n",
      "\tFitting 10 child models (S1F1 - S1F10) | Fitting with ParallelLocalFoldFittingStrategy (4 workers, per: cpus=1, gpus=0, memory=0.01%)\n",
      "\t0.888\t = Validation score   (roc_auc)\n",
      "\t17.06s\t = Training   runtime\n",
      "\t1.01s\t = Validation runtime\n",
      "Fitting model: NeuralNetTorch_r121_BAG_L1_PSEUDO ... Training model for up to 21243.07s of the 34449.58s of remaining time.\n",
      "\tFitting 10 child models (S1F1 - S1F10) | Fitting with ParallelLocalFoldFittingStrategy (4 workers, per: cpus=1, gpus=0, memory=0.00%)\n",
      "\t0.8953\t = Validation score   (roc_auc)\n",
      "\t120.53s\t = Training   runtime\n",
      "\t0.19s\t = Validation runtime\n",
      "Fitting model: NeuralNetFastAI_r127_BAG_L1_PSEUDO ... Training model for up to 21119.43s of the 34325.93s of remaining time.\n",
      "\tFitting 10 child models (S1F1 - S1F10) | Fitting with ParallelLocalFoldFittingStrategy (4 workers, per: cpus=1, gpus=0, memory=0.01%)\n",
      "\t0.8923\t = Validation score   (roc_auc)\n",
      "\t23.61s\t = Training   runtime\n",
      "\t0.21s\t = Validation runtime\n",
      "Fitting model: RandomForest_r16_BAG_L1_PSEUDO ... Training model for up to 21092.56s of the 34299.07s of remaining time.\n",
      "\tForcing `use_child_oof=False` because `groups` is specified\n",
      "\tFitting 10 child models (S1F1 - S1F10) | Fitting with ParallelLocalFoldFittingStrategy (4 workers, per: cpus=1, gpus=0, memory=0.01%)\n",
      "\t0.8831\t = Validation score   (roc_auc)\n",
      "\t27.65s\t = Training   runtime\n",
      "\t1.12s\t = Validation runtime\n",
      "Fitting model: NeuralNetFastAI_r194_BAG_L1_PSEUDO ... Training model for up to 21061.33s of the 34267.84s of remaining time.\n",
      "\tFitting 10 child models (S1F1 - S1F10) | Fitting with ParallelLocalFoldFittingStrategy (4 workers, per: cpus=1, gpus=0, memory=0.01%)\n",
      "\t0.8923\t = Validation score   (roc_auc)\n",
      "\t29.76s\t = Training   runtime\n",
      "\t0.17s\t = Validation runtime\n",
      "Fitting model: CatBoost_r12_BAG_L1_PSEUDO ... Training model for up to 21028.58s of the 34235.09s of remaining time.\n",
      "\tFitting 10 child models (S1F1 - S1F10) | Fitting with ParallelLocalFoldFittingStrategy (4 workers, per: cpus=1, gpus=0, memory=0.03%)\n",
      "\t0.8979\t = Validation score   (roc_auc)\n",
      "\t18.17s\t = Training   runtime\n",
      "\t0.02s\t = Validation runtime\n",
      "Fitting model: NeuralNetTorch_r135_BAG_L1_PSEUDO ... Training model for up to 21007.01s of the 34213.52s of remaining time.\n",
      "\tFitting 10 child models (S1F1 - S1F10) | Fitting with ParallelLocalFoldFittingStrategy (4 workers, per: cpus=1, gpus=0, memory=0.00%)\n",
      "\t0.8916\t = Validation score   (roc_auc)\n",
      "\t56.86s\t = Training   runtime\n",
      "\t0.13s\t = Validation runtime\n",
      "Fitting model: NeuralNetFastAI_r4_BAG_L1_PSEUDO ... Training model for up to 20947.21s of the 34153.72s of remaining time.\n",
      "\tFitting 10 child models (S1F1 - S1F10) | Fitting with ParallelLocalFoldFittingStrategy (4 workers, per: cpus=1, gpus=0, memory=0.01%)\n",
      "\t0.8984\t = Validation score   (roc_auc)\n",
      "\t30.46s\t = Training   runtime\n",
      "\t0.11s\t = Validation runtime\n",
      "Fitting model: ExtraTrees_r126_BAG_L1_PSEUDO ... Training model for up to 20913.52s of the 34120.03s of remaining time.\n",
      "\tForcing `use_child_oof=False` because `groups` is specified\n",
      "\tFitting 10 child models (S1F1 - S1F10) | Fitting with ParallelLocalFoldFittingStrategy (4 workers, per: cpus=1, gpus=0, memory=0.01%)\n",
      "\t0.8929\t = Validation score   (roc_auc)\n",
      "\t13.74s\t = Training   runtime\n",
      "\t0.88s\t = Validation runtime\n",
      "Fitting model: NeuralNetTorch_r36_BAG_L1_PSEUDO ... Training model for up to 20896.28s of the 34102.79s of remaining time.\n",
      "\tFitting 10 child models (S1F1 - S1F10) | Fitting with ParallelLocalFoldFittingStrategy (4 workers, per: cpus=1, gpus=0, memory=0.00%)\n",
      "\t0.8957\t = Validation score   (roc_auc)\n",
      "\t42.82s\t = Training   runtime\n",
      "\t0.1s\t = Validation runtime\n",
      "Fitting model: NeuralNetFastAI_r100_BAG_L1_PSEUDO ... Training model for up to 20850.30s of the 34056.81s of remaining time.\n",
      "\tFitting 10 child models (S1F1 - S1F10) | Fitting with ParallelLocalFoldFittingStrategy (4 workers, per: cpus=1, gpus=0, memory=0.01%)\n",
      "\t0.8772\t = Validation score   (roc_auc)\n",
      "\t37.58s\t = Training   runtime\n",
      "\t0.23s\t = Validation runtime\n",
      "Fitting model: CatBoost_r163_BAG_L1_PSEUDO ... Training model for up to 20809.12s of the 34015.63s of remaining time.\n",
      "\tFitting 10 child models (S1F1 - S1F10) | Fitting with ParallelLocalFoldFittingStrategy (4 workers, per: cpus=1, gpus=0, memory=0.01%)\n",
      "\t0.8961\t = Validation score   (roc_auc)\n",
      "\t14.96s\t = Training   runtime\n",
      "\t0.01s\t = Validation runtime\n",
      "Fitting model: CatBoost_r198_BAG_L1_PSEUDO ... Training model for up to 20790.50s of the 33997.01s of remaining time.\n",
      "\tFitting 10 child models (S1F1 - S1F10) | Fitting with ParallelLocalFoldFittingStrategy (4 workers, per: cpus=1, gpus=0, memory=0.02%)\n",
      "\t0.8967\t = Validation score   (roc_auc)\n",
      "\t15.32s\t = Training   runtime\n",
      "\t0.02s\t = Validation runtime\n",
      "Fitting model: NeuralNetFastAI_r187_BAG_L1_PSEUDO ... Training model for up to 20772.07s of the 33978.58s of remaining time.\n",
      "\tFitting 10 child models (S1F1 - S1F10) | Fitting with ParallelLocalFoldFittingStrategy (4 workers, per: cpus=1, gpus=0, memory=0.01%)\n",
      "\t0.8935\t = Validation score   (roc_auc)\n",
      "\t25.58s\t = Training   runtime\n",
      "\t0.16s\t = Validation runtime\n",
      "Fitting model: NeuralNetTorch_r19_BAG_L1_PSEUDO ... Training model for up to 20743.28s of the 33949.79s of remaining time.\n",
      "\tFitting 10 child models (S1F1 - S1F10) | Fitting with ParallelLocalFoldFittingStrategy (4 workers, per: cpus=1, gpus=0, memory=0.00%)\n",
      "\t0.8932\t = Validation score   (roc_auc)\n",
      "\t29.25s\t = Training   runtime\n",
      "\t0.13s\t = Validation runtime\n",
      "Fitting model: XGBoost_r95_BAG_L1_PSEUDO ... Training model for up to 20710.04s of the 33916.55s of remaining time.\n",
      "\tFitting 10 child models (S1F1 - S1F10) | Fitting with ParallelLocalFoldFittingStrategy (4 workers, per: cpus=1, gpus=0, memory=0.02%)\n",
      "\t0.8938\t = Validation score   (roc_auc)\n",
      "\t9.03s\t = Training   runtime\n",
      "\t0.07s\t = Validation runtime\n",
      "Fitting model: XGBoost_r34_BAG_L1_PSEUDO ... Training model for up to 20697.04s of the 33903.55s of remaining time.\n",
      "\tFitting 10 child models (S1F1 - S1F10) | Fitting with ParallelLocalFoldFittingStrategy (4 workers, per: cpus=1, gpus=0, memory=0.11%)\n",
      "\t0.8934\t = Validation score   (roc_auc)\n",
      "\t10.51s\t = Training   runtime\n",
      "\t0.09s\t = Validation runtime\n",
      "Fitting model: LightGBM_r42_BAG_L1_PSEUDO ... Training model for up to 20683.48s of the 33889.98s of remaining time.\n",
      "\tFitting 10 child models (S1F1 - S1F10) | Fitting with ParallelLocalFoldFittingStrategy (4 workers, per: cpus=1, gpus=0, memory=0.05%)\n",
      "\t0.897\t = Validation score   (roc_auc)\n",
      "\t13.33s\t = Training   runtime\n",
      "\t0.07s\t = Validation runtime\n",
      "Fitting model: NeuralNetTorch_r1_BAG_L1_PSEUDO ... Training model for up to 20666.98s of the 33873.49s of remaining time.\n",
      "\tFitting 10 child models (S1F1 - S1F10) | Fitting with ParallelLocalFoldFittingStrategy (4 workers, per: cpus=1, gpus=0, memory=0.00%)\n",
      "\t0.8923\t = Validation score   (roc_auc)\n",
      "\t44.64s\t = Training   runtime\n",
      "\t0.11s\t = Validation runtime\n",
      "Fitting model: NeuralNetTorch_r89_BAG_L1_PSEUDO ... Training model for up to 20619.19s of the 33825.70s of remaining time.\n",
      "\tFitting 10 child models (S1F1 - S1F10) | Fitting with ParallelLocalFoldFittingStrategy (4 workers, per: cpus=1, gpus=0, memory=0.00%)\n",
      "\t0.897\t = Validation score   (roc_auc)\n",
      "\t54.3s\t = Training   runtime\n",
      "\t0.13s\t = Validation runtime\n",
      "Fitting model: WeightedEnsemble_L2_PSEUDO ... Training model for up to 2639.34s of the 33768.24s of remaining time.\n",
      "\tEnsemble Weights: {'CatBoost_r50_BAG_L1_PSEUDO': 0.474, 'XGBoost_r89_BAG_L1_PSEUDO': 0.158, 'NeuralNetTorch_r89_BAG_L1_PSEUDO': 0.158, 'NeuralNetTorch_r87_BAG_L1_PSEUDO': 0.105, 'NeuralNetFastAI_r4_BAG_L1_PSEUDO': 0.105}\n",
      "\t0.906\t = Validation score   (roc_auc)\n",
      "\t0.28s\t = Training   runtime\n",
      "\t0.0s\t = Validation runtime\n",
      "Fitting 109 L2 models, fit_strategy=\"parallel\" ...\n",
      "Note: fit_strategy='parallel', but `num_cpus=4`. Running parallel mode with fewer than 12 CPUs is not recommended and has been disabled. You can override this by specifying `os.environ[\"AG_FORCE_PARALLEL\"] = \"True\"`. Falling back to fit_strategy='sequential' ...\n",
      "Fitting model: LightGBMXT_BAG_L2_PSEUDO ... Training model for up to 33767.94s of the 33767.69s of remaining time.\n",
      "\tFitting 10 child models (S1F1 - S1F10) | Fitting with ParallelLocalFoldFittingStrategy (4 workers, per: cpus=1, gpus=0, memory=0.10%)\n",
      "\t0.8985\t = Validation score   (roc_auc)\n",
      "\t14.35s\t = Training   runtime\n",
      "\t0.09s\t = Validation runtime\n",
      "Fitting model: LightGBM_BAG_L2_PSEUDO ... Training model for up to 33750.52s of the 33750.28s of remaining time.\n",
      "\tFitting 10 child models (S1F1 - S1F10) | Fitting with ParallelLocalFoldFittingStrategy (4 workers, per: cpus=1, gpus=0, memory=0.10%)\n",
      "\t0.8951\t = Validation score   (roc_auc)\n",
      "\t15.29s\t = Training   runtime\n",
      "\t0.04s\t = Validation runtime\n",
      "Fitting model: RandomForestGini_BAG_L2_PSEUDO ... Training model for up to 33731.85s of the 33731.60s of remaining time.\n",
      "\tForcing `use_child_oof=False` because `groups` is specified\n",
      "\tFitting 10 child models (S1F1 - S1F10) | Fitting with ParallelLocalFoldFittingStrategy (4 workers, per: cpus=1, gpus=0, memory=0.01%)\n",
      "\t0.8948\t = Validation score   (roc_auc)\n",
      "\t17.07s\t = Training   runtime\n",
      "\t1.14s\t = Validation runtime\n",
      "Fitting model: RandomForestEntr_BAG_L2_PSEUDO ... Training model for up to 33711.24s of the 33711.00s of remaining time.\n",
      "\tForcing `use_child_oof=False` because `groups` is specified\n",
      "\tFitting 10 child models (S1F1 - S1F10) | Fitting with ParallelLocalFoldFittingStrategy (4 workers, per: cpus=1, gpus=0, memory=0.01%)\n",
      "\t0.896\t = Validation score   (roc_auc)\n",
      "\t18.32s\t = Training   runtime\n",
      "\t1.2s\t = Validation runtime\n",
      "Fitting model: CatBoost_BAG_L2_PSEUDO ... Training model for up to 33689.61s of the 33689.37s of remaining time.\n",
      "\tFitting 10 child models (S1F1 - S1F10) | Fitting with ParallelLocalFoldFittingStrategy (4 workers, per: cpus=1, gpus=0, memory=0.18%)\n",
      "\t0.9027\t = Validation score   (roc_auc)\n",
      "\t21.01s\t = Training   runtime\n",
      "\t0.06s\t = Validation runtime\n",
      "Fitting model: ExtraTreesGini_BAG_L2_PSEUDO ... Training model for up to 33665.41s of the 33665.17s of remaining time.\n",
      "\tForcing `use_child_oof=False` because `groups` is specified\n",
      "\tFitting 10 child models (S1F1 - S1F10) | Fitting with ParallelLocalFoldFittingStrategy (4 workers, per: cpus=1, gpus=0, memory=0.01%)\n",
      "\t0.8985\t = Validation score   (roc_auc)\n",
      "\t12.13s\t = Training   runtime\n",
      "\t0.91s\t = Validation runtime\n",
      "Fitting model: ExtraTreesEntr_BAG_L2_PSEUDO ... Training model for up to 33650.11s of the 33649.87s of remaining time.\n",
      "\tForcing `use_child_oof=False` because `groups` is specified\n",
      "\tFitting 10 child models (S1F1 - S1F10) | Fitting with ParallelLocalFoldFittingStrategy (4 workers, per: cpus=1, gpus=0, memory=0.01%)\n",
      "\t0.8977\t = Validation score   (roc_auc)\n",
      "\t11.38s\t = Training   runtime\n",
      "\t1.01s\t = Validation runtime\n",
      "Fitting model: NeuralNetFastAI_BAG_L2_PSEUDO ... Training model for up to 33635.57s of the 33635.32s of remaining time.\n",
      "\tFitting 10 child models (S1F1 - S1F10) | Fitting with ParallelLocalFoldFittingStrategy (4 workers, per: cpus=1, gpus=0, memory=0.04%)\n",
      "\t0.8928\t = Validation score   (roc_auc)\n",
      "\t28.78s\t = Training   runtime\n",
      "\t0.17s\t = Validation runtime\n",
      "Fitting model: TabPFNMix_v1_BAG_L2_PSEUDO ... Training model for up to 33603.63s of the 33603.39s of remaining time.\n",
      "\tMemory not enough to fit 10 folds in parallel. Will train 2 folds in parallel instead (Estimated 28.24% memory usage per fold, 56.48%/80.00% total).\n",
      "\tFitting 10 child models (S1F1 - S1F10) | Fitting with ParallelLocalFoldFittingStrategy (2 workers, per: cpus=2, gpus=0, memory=28.24%)\n",
      "\t0.9052\t = Validation score   (roc_auc)\n",
      "\t2067.69s\t = Training   runtime\n",
      "\t44.67s\t = Validation runtime\n",
      "Fitting model: XGBoost_BAG_L2_PSEUDO ... Training model for up to 31530.79s of the 31530.54s of remaining time.\n",
      "\tFitting 10 child models (S1F1 - S1F10) | Fitting with ParallelLocalFoldFittingStrategy (4 workers, per: cpus=1, gpus=0, memory=0.20%)\n",
      "\t0.8995\t = Validation score   (roc_auc)\n",
      "\t11.12s\t = Training   runtime\n",
      "\t0.07s\t = Validation runtime\n",
      "Fitting model: NeuralNetTorch_BAG_L2_PSEUDO ... Training model for up to 31515.98s of the 31515.73s of remaining time.\n",
      "\tFitting 10 child models (S1F1 - S1F10) | Fitting with ParallelLocalFoldFittingStrategy (4 workers, per: cpus=1, gpus=0, memory=0.02%)\n",
      "\t0.8994\t = Validation score   (roc_auc)\n",
      "\t33.9s\t = Training   runtime\n",
      "\t0.32s\t = Validation runtime\n",
      "Fitting model: LightGBMLarge_BAG_L2_PSEUDO ... Training model for up to 31478.93s of the 31478.69s of remaining time.\n",
      "\tFitting 10 child models (S1F1 - S1F10) | Fitting with ParallelLocalFoldFittingStrategy (4 workers, per: cpus=1, gpus=0, memory=0.33%)\n",
      "\t0.8841\t = Validation score   (roc_auc)\n",
      "\t23.08s\t = Training   runtime\n",
      "\t0.04s\t = Validation runtime\n",
      "Fitting model: CatBoost_r177_BAG_L2_PSEUDO ... Training model for up to 31452.58s of the 31452.34s of remaining time.\n",
      "\tFitting 10 child models (S1F1 - S1F10) | Fitting with ParallelLocalFoldFittingStrategy (4 workers, per: cpus=1, gpus=0, memory=0.18%)\n",
      "\t0.9005\t = Validation score   (roc_auc)\n",
      "\t20.32s\t = Training   runtime\n",
      "\t0.05s\t = Validation runtime\n",
      "Fitting model: NeuralNetTorch_r79_BAG_L2_PSEUDO ... Training model for up to 31429.11s of the 31428.86s of remaining time.\n",
      "\tFitting 10 child models (S1F1 - S1F10) | Fitting with ParallelLocalFoldFittingStrategy (4 workers, per: cpus=1, gpus=0, memory=0.02%)\n",
      "\t0.8983\t = Validation score   (roc_auc)\n",
      "\t36.06s\t = Training   runtime\n",
      "\t0.3s\t = Validation runtime\n",
      "Fitting model: LightGBM_r131_BAG_L2_PSEUDO ... Training model for up to 31389.95s of the 31389.71s of remaining time.\n",
      "\tFitting 10 child models (S1F1 - S1F10) | Fitting with ParallelLocalFoldFittingStrategy (4 workers, per: cpus=1, gpus=0, memory=0.15%)\n",
      "\t0.8958\t = Validation score   (roc_auc)\n",
      "\t17.55s\t = Training   runtime\n",
      "\t0.1s\t = Validation runtime\n",
      "Fitting model: NeuralNetFastAI_r191_BAG_L2_PSEUDO ... Training model for up to 31368.78s of the 31368.54s of remaining time.\n",
      "\tFitting 10 child models (S1F1 - S1F10) | Fitting with ParallelLocalFoldFittingStrategy (4 workers, per: cpus=1, gpus=0, memory=0.04%)\n",
      "\t0.8942\t = Validation score   (roc_auc)\n",
      "\t41.02s\t = Training   runtime\n",
      "\t0.23s\t = Validation runtime\n",
      "Fitting model: CatBoost_r9_BAG_L2_PSEUDO ... Training model for up to 31324.11s of the 31323.87s of remaining time.\n",
      "\tFitting 10 child models (S1F1 - S1F10) | Fitting with ParallelLocalFoldFittingStrategy (4 workers, per: cpus=1, gpus=0, memory=0.63%)\n",
      "\t0.901\t = Validation score   (roc_auc)\n",
      "\t81.69s\t = Training   runtime\n",
      "\t0.05s\t = Validation runtime\n",
      "Fitting model: LightGBM_r96_BAG_L2_PSEUDO ... Training model for up to 31239.15s of the 31238.91s of remaining time.\n",
      "\tFitting 10 child models (S1F1 - S1F10) | Fitting with ParallelLocalFoldFittingStrategy (4 workers, per: cpus=1, gpus=0, memory=0.06%)\n",
      "\t0.9015\t = Validation score   (roc_auc)\n",
      "\t13.95s\t = Training   runtime\n",
      "\t0.12s\t = Validation runtime\n",
      "Fitting model: NeuralNetTorch_r22_BAG_L2_PSEUDO ... Training model for up to 31221.59s of the 31221.35s of remaining time.\n",
      "\tFitting 10 child models (S1F1 - S1F10) | Fitting with ParallelLocalFoldFittingStrategy (4 workers, per: cpus=1, gpus=0, memory=0.02%)\n",
      "\t0.9038\t = Validation score   (roc_auc)\n",
      "\t40.76s\t = Training   runtime\n",
      "\t0.29s\t = Validation runtime\n",
      "Fitting model: XGBoost_r33_BAG_L2_PSEUDO ... Training model for up to 31177.72s of the 31177.48s of remaining time.\n",
      "\tFitting 10 child models (S1F1 - S1F10) | Fitting with ParallelLocalFoldFittingStrategy (4 workers, per: cpus=1, gpus=0, memory=1.25%)\n",
      "\t0.8956\t = Validation score   (roc_auc)\n",
      "\t19.09s\t = Training   runtime\n",
      "\t0.13s\t = Validation runtime\n",
      "Fitting model: ExtraTrees_r42_BAG_L2_PSEUDO ... Training model for up to 31155.43s of the 31155.19s of remaining time.\n",
      "\tForcing `use_child_oof=False` because `groups` is specified\n",
      "\tFitting 10 child models (S1F1 - S1F10) | Fitting with ParallelLocalFoldFittingStrategy (4 workers, per: cpus=1, gpus=0, memory=0.01%)\n",
      "\t0.8971\t = Validation score   (roc_auc)\n",
      "\t13.77s\t = Training   runtime\n",
      "\t1.09s\t = Validation runtime\n",
      "Fitting model: CatBoost_r137_BAG_L2_PSEUDO ... Training model for up to 31138.37s of the 31138.13s of remaining time.\n",
      "\tFitting 10 child models (S1F1 - S1F10) | Fitting with ParallelLocalFoldFittingStrategy (4 workers, per: cpus=1, gpus=0, memory=0.06%)\n",
      "\t0.9018\t = Validation score   (roc_auc)\n",
      "\t14.87s\t = Training   runtime\n",
      "\t0.04s\t = Validation runtime\n",
      "Fitting model: NeuralNetFastAI_r102_BAG_L2_PSEUDO ... Training model for up to 31120.50s of the 31120.26s of remaining time.\n",
      "\tFitting 10 child models (S1F1 - S1F10) | Fitting with ParallelLocalFoldFittingStrategy (4 workers, per: cpus=1, gpus=0, memory=0.04%)\n",
      "\t0.9039\t = Validation score   (roc_auc)\n",
      "\t75.55s\t = Training   runtime\n",
      "\t0.56s\t = Validation runtime\n",
      "Fitting model: CatBoost_r13_BAG_L2_PSEUDO ... Training model for up to 31041.77s of the 31041.52s of remaining time.\n",
      "\tFitting 10 child models (S1F1 - S1F10) | Fitting with ParallelLocalFoldFittingStrategy (4 workers, per: cpus=1, gpus=0, memory=0.63%)\n",
      "\t0.9027\t = Validation score   (roc_auc)\n",
      "\t63.35s\t = Training   runtime\n",
      "\t0.05s\t = Validation runtime\n",
      "Fitting model: RandomForest_r195_BAG_L2_PSEUDO ... Training model for up to 30974.95s of the 30974.70s of remaining time.\n",
      "\tForcing `use_child_oof=False` because `groups` is specified\n",
      "\tFitting 10 child models (S1F1 - S1F10) | Fitting with ParallelLocalFoldFittingStrategy (4 workers, per: cpus=1, gpus=0, memory=0.01%)\n",
      "\t0.8916\t = Validation score   (roc_auc)\n",
      "\t41.25s\t = Training   runtime\n",
      "\t1.25s\t = Validation runtime\n",
      "Fitting model: LightGBM_r188_BAG_L2_PSEUDO ... Training model for up to 30930.44s of the 30930.20s of remaining time.\n",
      "\tFitting 10 child models (S1F1 - S1F10) | Fitting with ParallelLocalFoldFittingStrategy (4 workers, per: cpus=1, gpus=0, memory=0.32%)\n",
      "\t0.9005\t = Validation score   (roc_auc)\n",
      "\t15.47s\t = Training   runtime\n",
      "\t0.07s\t = Validation runtime\n",
      "Fitting model: NeuralNetFastAI_r145_BAG_L2_PSEUDO ... Training model for up to 30911.59s of the 30911.35s of remaining time.\n",
      "\tFitting 10 child models (S1F1 - S1F10) | Fitting with ParallelLocalFoldFittingStrategy (4 workers, per: cpus=1, gpus=0, memory=0.04%)\n",
      "\t0.8971\t = Validation score   (roc_auc)\n",
      "\t38.9s\t = Training   runtime\n",
      "\t0.18s\t = Validation runtime\n",
      "Fitting model: XGBoost_r89_BAG_L2_PSEUDO ... Training model for up to 30869.31s of the 30869.07s of remaining time.\n",
      "\tFitting 10 child models (S1F1 - S1F10) | Fitting with ParallelLocalFoldFittingStrategy (4 workers, per: cpus=1, gpus=0, memory=0.19%)\n",
      "\t0.8997\t = Validation score   (roc_auc)\n",
      "\t9.91s\t = Training   runtime\n",
      "\t0.07s\t = Validation runtime\n",
      "Fitting model: NeuralNetTorch_r30_BAG_L2_PSEUDO ... Training model for up to 30855.93s of the 30855.69s of remaining time.\n",
      "\tFitting 10 child models (S1F1 - S1F10) | Fitting with ParallelLocalFoldFittingStrategy (4 workers, per: cpus=1, gpus=0, memory=0.02%)\n",
      "\t0.902\t = Validation score   (roc_auc)\n",
      "\t76.3s\t = Training   runtime\n",
      "\t0.31s\t = Validation runtime\n",
      "Fitting model: LightGBM_r130_BAG_L2_PSEUDO ... Training model for up to 30776.42s of the 30776.18s of remaining time.\n",
      "\tFitting 10 child models (S1F1 - S1F10) | Fitting with ParallelLocalFoldFittingStrategy (4 workers, per: cpus=1, gpus=0, memory=0.23%)\n",
      "\t0.9004\t = Validation score   (roc_auc)\n",
      "\t15.42s\t = Training   runtime\n",
      "\t0.05s\t = Validation runtime\n",
      "Fitting model: NeuralNetTorch_r86_BAG_L2_PSEUDO ... Training model for up to 30757.68s of the 30757.44s of remaining time.\n",
      "\tFitting 10 child models (S1F1 - S1F10) | Fitting with ParallelLocalFoldFittingStrategy (4 workers, per: cpus=1, gpus=0, memory=0.02%)\n",
      "\t0.8996\t = Validation score   (roc_auc)\n",
      "\t35.92s\t = Training   runtime\n",
      "\t0.29s\t = Validation runtime\n",
      "Fitting model: CatBoost_r50_BAG_L2_PSEUDO ... Training model for up to 30718.16s of the 30717.92s of remaining time.\n",
      "\tFitting 10 child models (S1F1 - S1F10) | Fitting with ParallelLocalFoldFittingStrategy (4 workers, per: cpus=1, gpus=0, memory=0.06%)\n",
      "\t0.9039\t = Validation score   (roc_auc)\n",
      "\t19.2s\t = Training   runtime\n",
      "\t0.06s\t = Validation runtime\n",
      "Fitting model: NeuralNetFastAI_r11_BAG_L2_PSEUDO ... Training model for up to 30695.51s of the 30695.27s of remaining time.\n",
      "\tFitting 10 child models (S1F1 - S1F10) | Fitting with ParallelLocalFoldFittingStrategy (4 workers, per: cpus=1, gpus=0, memory=0.04%)\n",
      "\t0.8995\t = Validation score   (roc_auc)\n",
      "\t51.09s\t = Training   runtime\n",
      "\t0.2s\t = Validation runtime\n",
      "Fitting model: XGBoost_r194_BAG_L2_PSEUDO ... Training model for up to 30641.33s of the 30641.09s of remaining time.\n",
      "\tFitting 10 child models (S1F1 - S1F10) | Fitting with ParallelLocalFoldFittingStrategy (4 workers, per: cpus=1, gpus=0, memory=0.34%)\n",
      "\t0.8995\t = Validation score   (roc_auc)\n",
      "\t11.64s\t = Training   runtime\n",
      "\t0.09s\t = Validation runtime\n",
      "Fitting model: ExtraTrees_r172_BAG_L2_PSEUDO ... Training model for up to 30625.99s of the 30625.75s of remaining time.\n",
      "\tForcing `use_child_oof=False` because `groups` is specified\n",
      "\tFitting 10 child models (S1F1 - S1F10) | Fitting with ParallelLocalFoldFittingStrategy (4 workers, per: cpus=1, gpus=0, memory=0.01%)\n",
      "\t0.8983\t = Validation score   (roc_auc)\n",
      "\t13.11s\t = Training   runtime\n",
      "\t0.77s\t = Validation runtime\n",
      "Fitting model: CatBoost_r69_BAG_L2_PSEUDO ... Training model for up to 30609.31s of the 30609.07s of remaining time.\n",
      "\tFitting 10 child models (S1F1 - S1F10) | Fitting with ParallelLocalFoldFittingStrategy (4 workers, per: cpus=1, gpus=0, memory=0.10%)\n",
      "\t0.9016\t = Validation score   (roc_auc)\n",
      "\t16.72s\t = Training   runtime\n",
      "\t0.05s\t = Validation runtime\n",
      "Fitting model: NeuralNetFastAI_r103_BAG_L2_PSEUDO ... Training model for up to 30589.24s of the 30589.00s of remaining time.\n",
      "\tFitting 10 child models (S1F1 - S1F10) | Fitting with ParallelLocalFoldFittingStrategy (4 workers, per: cpus=1, gpus=0, memory=0.04%)\n",
      "\t0.8994\t = Validation score   (roc_auc)\n",
      "\t35.34s\t = Training   runtime\n",
      "\t0.18s\t = Validation runtime\n",
      "Fitting model: NeuralNetTorch_r14_BAG_L2_PSEUDO ... Training model for up to 30550.74s of the 30550.49s of remaining time.\n",
      "\tFitting 10 child models (S1F1 - S1F10) | Fitting with ParallelLocalFoldFittingStrategy (4 workers, per: cpus=1, gpus=0, memory=0.02%)\n",
      "\t0.9002\t = Validation score   (roc_auc)\n",
      "\t31.58s\t = Training   runtime\n",
      "\t0.28s\t = Validation runtime\n",
      "Fitting model: LightGBM_r161_BAG_L2_PSEUDO ... Training model for up to 30515.50s of the 30515.26s of remaining time.\n",
      "\tFitting 10 child models (S1F1 - S1F10) | Fitting with ParallelLocalFoldFittingStrategy (4 workers, per: cpus=1, gpus=0, memory=0.62%)\n",
      "\t0.8957\t = Validation score   (roc_auc)\n",
      "\t24.65s\t = Training   runtime\n",
      "\t0.13s\t = Validation runtime\n",
      "Fitting model: NeuralNetFastAI_r143_BAG_L2_PSEUDO ... Training model for up to 30487.35s of the 30487.11s of remaining time.\n",
      "\tFitting 10 child models (S1F1 - S1F10) | Fitting with ParallelLocalFoldFittingStrategy (4 workers, per: cpus=1, gpus=0, memory=0.04%)\n",
      "\t0.878\t = Validation score   (roc_auc)\n",
      "\t24.34s\t = Training   runtime\n",
      "\t0.19s\t = Validation runtime\n",
      "Fitting model: CatBoost_r70_BAG_L2_PSEUDO ... Training model for up to 30459.66s of the 30459.42s of remaining time.\n",
      "\tFitting 10 child models (S1F1 - S1F10) | Fitting with ParallelLocalFoldFittingStrategy (4 workers, per: cpus=1, gpus=0, memory=0.18%)\n",
      "\t0.9021\t = Validation score   (roc_auc)\n",
      "\t38.26s\t = Training   runtime\n",
      "\t0.05s\t = Validation runtime\n",
      "Fitting model: NeuralNetFastAI_r156_BAG_L2_PSEUDO ... Training model for up to 30417.71s of the 30417.46s of remaining time.\n",
      "\tFitting 10 child models (S1F1 - S1F10) | Fitting with ParallelLocalFoldFittingStrategy (4 workers, per: cpus=1, gpus=0, memory=0.04%)\n",
      "\t0.8968\t = Validation score   (roc_auc)\n",
      "\t83.83s\t = Training   runtime\n",
      "\t0.34s\t = Validation runtime\n",
      "Fitting model: LightGBM_r196_BAG_L2_PSEUDO ... Training model for up to 30330.63s of the 30330.38s of remaining time.\n",
      "\tFitting 10 child models (S1F1 - S1F10) | Fitting with ParallelLocalFoldFittingStrategy (4 workers, per: cpus=1, gpus=0, memory=0.34%)\n",
      "\t0.8998\t = Validation score   (roc_auc)\n",
      "\t20.33s\t = Training   runtime\n",
      "\t0.43s\t = Validation runtime\n",
      "Fitting model: RandomForest_r39_BAG_L2_PSEUDO ... Training model for up to 30306.68s of the 30306.43s of remaining time.\n",
      "\tForcing `use_child_oof=False` because `groups` is specified\n",
      "\tFitting 10 child models (S1F1 - S1F10) | Fitting with ParallelLocalFoldFittingStrategy (4 workers, per: cpus=1, gpus=0, memory=0.01%)\n",
      "\t0.8935\t = Validation score   (roc_auc)\n",
      "\t39.16s\t = Training   runtime\n",
      "\t1.15s\t = Validation runtime\n",
      "Fitting model: CatBoost_r167_BAG_L2_PSEUDO ... Training model for up to 30263.99s of the 30263.74s of remaining time.\n",
      "\tFitting 10 child models (S1F1 - S1F10) | Fitting with ParallelLocalFoldFittingStrategy (4 workers, per: cpus=1, gpus=0, memory=0.32%)\n",
      "\t0.9041\t = Validation score   (roc_auc)\n",
      "\t27.04s\t = Training   runtime\n",
      "\t0.05s\t = Validation runtime\n",
      "Fitting model: NeuralNetFastAI_r95_BAG_L2_PSEUDO ... Training model for up to 30233.93s of the 30233.69s of remaining time.\n",
      "\tFitting 10 child models (S1F1 - S1F10) | Fitting with ParallelLocalFoldFittingStrategy (4 workers, per: cpus=1, gpus=0, memory=0.04%)\n",
      "\t0.8984\t = Validation score   (roc_auc)\n",
      "\t40.25s\t = Training   runtime\n",
      "\t0.23s\t = Validation runtime\n",
      "Fitting model: NeuralNetTorch_r41_BAG_L2_PSEUDO ... Training model for up to 30190.55s of the 30190.30s of remaining time.\n",
      "\tFitting 10 child models (S1F1 - S1F10) | Fitting with ParallelLocalFoldFittingStrategy (4 workers, per: cpus=1, gpus=0, memory=0.02%)\n",
      "\t0.9025\t = Validation score   (roc_auc)\n",
      "\t43.17s\t = Training   runtime\n",
      "\t0.26s\t = Validation runtime\n",
      "Fitting model: XGBoost_r98_BAG_L2_PSEUDO ... Training model for up to 30143.81s of the 30143.57s of remaining time.\n",
      "\tFitting 10 child models (S1F1 - S1F10) | Fitting with ParallelLocalFoldFittingStrategy (4 workers, per: cpus=1, gpus=0, memory=0.64%)\n",
      "\t0.8973\t = Validation score   (roc_auc)\n",
      "\t21.54s\t = Training   runtime\n",
      "\t0.19s\t = Validation runtime\n",
      "Fitting model: LightGBM_r15_BAG_L2_PSEUDO ... Training model for up to 30118.61s of the 30118.36s of remaining time.\n",
      "\tFitting 10 child models (S1F1 - S1F10) | Fitting with ParallelLocalFoldFittingStrategy (4 workers, per: cpus=1, gpus=0, memory=0.08%)\n",
      "\t0.9001\t = Validation score   (roc_auc)\n",
      "\t15.76s\t = Training   runtime\n",
      "\t0.07s\t = Validation runtime\n",
      "Fitting model: NeuralNetTorch_r158_BAG_L2_PSEUDO ... Training model for up to 30099.80s of the 30099.56s of remaining time.\n",
      "\tFitting 10 child models (S1F1 - S1F10) | Fitting with ParallelLocalFoldFittingStrategy (4 workers, per: cpus=1, gpus=0, memory=0.02%)\n",
      "\t0.8952\t = Validation score   (roc_auc)\n",
      "\t71.88s\t = Training   runtime\n",
      "\t0.35s\t = Validation runtime\n",
      "Fitting model: CatBoost_r86_BAG_L2_PSEUDO ... Training model for up to 30024.83s of the 30024.58s of remaining time.\n",
      "\tFitting 10 child models (S1F1 - S1F10) | Fitting with ParallelLocalFoldFittingStrategy (4 workers, per: cpus=1, gpus=0, memory=0.63%)\n",
      "\t0.9018\t = Validation score   (roc_auc)\n",
      "\t49.92s\t = Training   runtime\n",
      "\t0.05s\t = Validation runtime\n",
      "Fitting model: NeuralNetFastAI_r37_BAG_L2_PSEUDO ... Training model for up to 29971.65s of the 29971.41s of remaining time.\n",
      "\tFitting 10 child models (S1F1 - S1F10) | Fitting with ParallelLocalFoldFittingStrategy (4 workers, per: cpus=1, gpus=0, memory=0.04%)\n",
      "\t0.8997\t = Validation score   (roc_auc)\n",
      "\t29.96s\t = Training   runtime\n",
      "\t0.19s\t = Validation runtime\n",
      "Fitting model: NeuralNetTorch_r197_BAG_L2_PSEUDO ... Training model for up to 29938.55s of the 29938.31s of remaining time.\n",
      "\tFitting 10 child models (S1F1 - S1F10) | Fitting with ParallelLocalFoldFittingStrategy (4 workers, per: cpus=1, gpus=0, memory=0.02%)\n",
      "\t0.9008\t = Validation score   (roc_auc)\n",
      "\t26.34s\t = Training   runtime\n",
      "\t0.26s\t = Validation runtime\n",
      "Fitting model: CatBoost_r49_BAG_L2_PSEUDO ... Training model for up to 29908.80s of the 29908.56s of remaining time.\n",
      "\tFitting 10 child models (S1F1 - S1F10) | Fitting with ParallelLocalFoldFittingStrategy (4 workers, per: cpus=1, gpus=0, memory=0.06%)\n",
      "\t0.9037\t = Validation score   (roc_auc)\n",
      "\t14.05s\t = Training   runtime\n",
      "\t0.06s\t = Validation runtime\n",
      "Fitting model: ExtraTrees_r49_BAG_L2_PSEUDO ... Training model for up to 29891.26s of the 29891.02s of remaining time.\n",
      "\tForcing `use_child_oof=False` because `groups` is specified\n",
      "\tFitting 10 child models (S1F1 - S1F10) | Fitting with ParallelLocalFoldFittingStrategy (4 workers, per: cpus=1, gpus=0, memory=0.01%)\n",
      "\t0.8985\t = Validation score   (roc_auc)\n",
      "\t13.75s\t = Training   runtime\n",
      "\t0.95s\t = Validation runtime\n",
      "Fitting model: LightGBM_r143_BAG_L2_PSEUDO ... Training model for up to 29874.29s of the 29874.05s of remaining time.\n",
      "\tFitting 10 child models (S1F1 - S1F10) | Fitting with ParallelLocalFoldFittingStrategy (4 workers, per: cpus=1, gpus=0, memory=0.44%)\n",
      "\t0.8957\t = Validation score   (roc_auc)\n",
      "\t20.78s\t = Training   runtime\n",
      "\t0.1s\t = Validation runtime\n",
      "Fitting model: RandomForest_r127_BAG_L2_PSEUDO ... Training model for up to 29850.17s of the 29849.93s of remaining time.\n",
      "\tForcing `use_child_oof=False` because `groups` is specified\n",
      "\tFitting 10 child models (S1F1 - S1F10) | Fitting with ParallelLocalFoldFittingStrategy (4 workers, per: cpus=1, gpus=0, memory=0.01%)\n",
      "\t0.8932\t = Validation score   (roc_auc)\n",
      "\t42.89s\t = Training   runtime\n",
      "\t1.14s\t = Validation runtime\n",
      "Fitting model: NeuralNetFastAI_r134_BAG_L2_PSEUDO ... Training model for up to 29803.82s of the 29803.57s of remaining time.\n",
      "\tFitting 10 child models (S1F1 - S1F10) | Fitting with ParallelLocalFoldFittingStrategy (4 workers, per: cpus=1, gpus=0, memory=0.04%)\n",
      "\t0.9006\t = Validation score   (roc_auc)\n",
      "\t133.63s\t = Training   runtime\n",
      "\t0.36s\t = Validation runtime\n",
      "Fitting model: RandomForest_r34_BAG_L2_PSEUDO ... Training model for up to 29667.07s of the 29666.83s of remaining time.\n",
      "\tForcing `use_child_oof=False` because `groups` is specified\n",
      "\tFitting 10 child models (S1F1 - S1F10) | Fitting with ParallelLocalFoldFittingStrategy (4 workers, per: cpus=1, gpus=0, memory=0.01%)\n",
      "\t0.898\t = Validation score   (roc_auc)\n",
      "\t23.09s\t = Training   runtime\n",
      "\t1.13s\t = Validation runtime\n",
      "Fitting model: LightGBM_r94_BAG_L2_PSEUDO ... Training model for up to 29640.48s of the 29640.24s of remaining time.\n",
      "\tFitting 10 child models (S1F1 - S1F10) | Fitting with ParallelLocalFoldFittingStrategy (4 workers, per: cpus=1, gpus=0, memory=0.06%)\n",
      "\t0.9016\t = Validation score   (roc_auc)\n",
      "\t13.66s\t = Training   runtime\n",
      "\t0.06s\t = Validation runtime\n",
      "Fitting model: NeuralNetTorch_r143_BAG_L2_PSEUDO ... Training model for up to 29623.66s of the 29623.42s of remaining time.\n",
      "\tFitting 10 child models (S1F1 - S1F10) | Fitting with ParallelLocalFoldFittingStrategy (4 workers, per: cpus=1, gpus=0, memory=0.02%)\n",
      "\t0.9018\t = Validation score   (roc_auc)\n",
      "\t57.71s\t = Training   runtime\n",
      "\t0.32s\t = Validation runtime\n",
      "Fitting model: CatBoost_r128_BAG_L2_PSEUDO ... Training model for up to 29562.60s of the 29562.36s of remaining time.\n",
      "\tFitting 10 child models (S1F1 - S1F10) | Fitting with ParallelLocalFoldFittingStrategy (4 workers, per: cpus=1, gpus=0, memory=0.63%)\n",
      "\t0.901\t = Validation score   (roc_auc)\n",
      "\t75.74s\t = Training   runtime\n",
      "\t0.05s\t = Validation runtime\n",
      "Fitting model: NeuralNetFastAI_r111_BAG_L2_PSEUDO ... Training model for up to 29483.06s of the 29482.82s of remaining time.\n",
      "\tFitting 10 child models (S1F1 - S1F10) | Fitting with ParallelLocalFoldFittingStrategy (4 workers, per: cpus=1, gpus=0, memory=0.04%)\n",
      "\t0.902\t = Validation score   (roc_auc)\n",
      "\t63.31s\t = Training   runtime\n",
      "\t0.51s\t = Validation runtime\n",
      "Fitting model: NeuralNetTorch_r31_BAG_L2_PSEUDO ... Training model for up to 29416.73s of the 29416.48s of remaining time.\n",
      "\tFitting 10 child models (S1F1 - S1F10) | Fitting with ParallelLocalFoldFittingStrategy (4 workers, per: cpus=1, gpus=0, memory=0.02%)\n",
      "\t0.895\t = Validation score   (roc_auc)\n",
      "\t35.21s\t = Training   runtime\n",
      "\t0.26s\t = Validation runtime\n",
      "Fitting model: ExtraTrees_r4_BAG_L2_PSEUDO ... Training model for up to 29378.05s of the 29377.81s of remaining time.\n",
      "\tForcing `use_child_oof=False` because `groups` is specified\n",
      "\tFitting 10 child models (S1F1 - S1F10) | Fitting with ParallelLocalFoldFittingStrategy (4 workers, per: cpus=1, gpus=0, memory=0.01%)\n",
      "\t0.8994\t = Validation score   (roc_auc)\n",
      "\t13.13s\t = Training   runtime\n",
      "\t0.87s\t = Validation runtime\n",
      "Fitting model: NeuralNetFastAI_r65_BAG_L2_PSEUDO ... Training model for up to 29361.75s of the 29361.51s of remaining time.\n",
      "\tFitting 10 child models (S1F1 - S1F10) | Fitting with ParallelLocalFoldFittingStrategy (4 workers, per: cpus=1, gpus=0, memory=0.04%)\n",
      "\t0.8964\t = Validation score   (roc_auc)\n",
      "\t24.22s\t = Training   runtime\n",
      "\t0.13s\t = Validation runtime\n",
      "Fitting model: NeuralNetFastAI_r88_BAG_L2_PSEUDO ... Training model for up to 29334.18s of the 29333.94s of remaining time.\n",
      "\tFitting 10 child models (S1F1 - S1F10) | Fitting with ParallelLocalFoldFittingStrategy (4 workers, per: cpus=1, gpus=0, memory=0.04%)\n",
      "\t0.871\t = Validation score   (roc_auc)\n",
      "\t23.09s\t = Training   runtime\n",
      "\t0.15s\t = Validation runtime\n",
      "Fitting model: LightGBM_r30_BAG_L2_PSEUDO ... Training model for up to 29307.63s of the 29307.39s of remaining time.\n",
      "\tFitting 10 child models (S1F1 - S1F10) | Fitting with ParallelLocalFoldFittingStrategy (4 workers, per: cpus=1, gpus=0, memory=0.29%)\n",
      "\t0.8989\t = Validation score   (roc_auc)\n",
      "\t16.71s\t = Training   runtime\n",
      "\t0.19s\t = Validation runtime\n",
      "Fitting model: XGBoost_r49_BAG_L2_PSEUDO ... Training model for up to 29287.30s of the 29287.06s of remaining time.\n",
      "\tFitting 10 child models (S1F1 - S1F10) | Fitting with ParallelLocalFoldFittingStrategy (4 workers, per: cpus=1, gpus=0, memory=0.33%)\n",
      "\t0.8988\t = Validation score   (roc_auc)\n",
      "\t12.72s\t = Training   runtime\n",
      "\t0.11s\t = Validation runtime\n",
      "Fitting model: CatBoost_r5_BAG_L2_PSEUDO ... Training model for up to 29271.41s of the 29271.17s of remaining time.\n",
      "\tFitting 10 child models (S1F1 - S1F10) | Fitting with ParallelLocalFoldFittingStrategy (4 workers, per: cpus=1, gpus=0, memory=0.06%)\n",
      "\t0.9029\t = Validation score   (roc_auc)\n",
      "\t14.52s\t = Training   runtime\n",
      "\t0.05s\t = Validation runtime\n",
      "Fitting model: NeuralNetTorch_r87_BAG_L2_PSEUDO ... Training model for up to 29253.48s of the 29253.24s of remaining time.\n",
      "\tFitting 10 child models (S1F1 - S1F10) | Fitting with ParallelLocalFoldFittingStrategy (4 workers, per: cpus=1, gpus=0, memory=0.02%)\n",
      "\t0.8963\t = Validation score   (roc_auc)\n",
      "\t45.26s\t = Training   runtime\n",
      "\t0.31s\t = Validation runtime\n",
      "Fitting model: NeuralNetTorch_r71_BAG_L2_PSEUDO ... Training model for up to 29205.08s of the 29204.84s of remaining time.\n",
      "\tFitting 10 child models (S1F1 - S1F10) | Fitting with ParallelLocalFoldFittingStrategy (4 workers, per: cpus=1, gpus=0, memory=0.02%)\n",
      "\t0.8986\t = Validation score   (roc_auc)\n",
      "\t26.89s\t = Training   runtime\n",
      "\t0.33s\t = Validation runtime\n",
      "Fitting model: CatBoost_r143_BAG_L2_PSEUDO ... Training model for up to 29174.82s of the 29174.57s of remaining time.\n",
      "\tFitting 10 child models (S1F1 - S1F10) | Fitting with ParallelLocalFoldFittingStrategy (4 workers, per: cpus=1, gpus=0, memory=0.33%)\n",
      "\t0.9057\t = Validation score   (roc_auc)\n",
      "\t29.13s\t = Training   runtime\n",
      "\t0.05s\t = Validation runtime\n",
      "Fitting model: ExtraTrees_r178_BAG_L2_PSEUDO ... Training model for up to 29141.84s of the 29141.60s of remaining time.\n",
      "\tForcing `use_child_oof=False` because `groups` is specified\n",
      "\tFitting 10 child models (S1F1 - S1F10) | Fitting with ParallelLocalFoldFittingStrategy (4 workers, per: cpus=1, gpus=0, memory=0.01%)\n",
      "\t0.899\t = Validation score   (roc_auc)\n",
      "\t14.72s\t = Training   runtime\n",
      "\t0.84s\t = Validation runtime\n",
      "Fitting model: RandomForest_r166_BAG_L2_PSEUDO ... Training model for up to 29123.88s of the 29123.63s of remaining time.\n",
      "\tForcing `use_child_oof=False` because `groups` is specified\n",
      "\tFitting 10 child models (S1F1 - S1F10) | Fitting with ParallelLocalFoldFittingStrategy (4 workers, per: cpus=1, gpus=0, memory=0.01%)\n",
      "\t0.8949\t = Validation score   (roc_auc)\n",
      "\t21.08s\t = Training   runtime\n",
      "\t0.82s\t = Validation runtime\n",
      "Fitting model: XGBoost_r31_BAG_L2_PSEUDO ... Training model for up to 29099.34s of the 29099.10s of remaining time.\n",
      "\tFitting 10 child models (S1F1 - S1F10) | Fitting with ParallelLocalFoldFittingStrategy (4 workers, per: cpus=1, gpus=0, memory=0.18%)\n",
      "\t0.8993\t = Validation score   (roc_auc)\n",
      "\t11.78s\t = Training   runtime\n",
      "\t0.11s\t = Validation runtime\n",
      "Fitting model: NeuralNetTorch_r185_BAG_L2_PSEUDO ... Training model for up to 29084.24s of the 29084.00s of remaining time.\n",
      "\tFitting 10 child models (S1F1 - S1F10) | Fitting with ParallelLocalFoldFittingStrategy (4 workers, per: cpus=1, gpus=0, memory=0.02%)\n",
      "\t0.8966\t = Validation score   (roc_auc)\n",
      "\t39.65s\t = Training   runtime\n",
      "\t0.29s\t = Validation runtime\n",
      "Fitting model: NeuralNetFastAI_r160_BAG_L2_PSEUDO ... Training model for up to 29041.28s of the 29041.04s of remaining time.\n",
      "\tFitting 10 child models (S1F1 - S1F10) | Fitting with ParallelLocalFoldFittingStrategy (4 workers, per: cpus=1, gpus=0, memory=0.04%)\n",
      "\t0.9018\t = Validation score   (roc_auc)\n",
      "\t34.49s\t = Training   runtime\n",
      "\t0.19s\t = Validation runtime\n",
      "Fitting model: CatBoost_r60_BAG_L2_PSEUDO ... Training model for up to 29003.23s of the 29002.99s of remaining time.\n",
      "\tFitting 10 child models (S1F1 - S1F10) | Fitting with ParallelLocalFoldFittingStrategy (4 workers, per: cpus=1, gpus=0, memory=0.10%)\n",
      "\t0.9014\t = Validation score   (roc_auc)\n",
      "\t15.89s\t = Training   runtime\n",
      "\t0.06s\t = Validation runtime\n",
      "Fitting model: RandomForest_r15_BAG_L2_PSEUDO ... Training model for up to 28983.83s of the 28983.59s of remaining time.\n",
      "\tForcing `use_child_oof=False` because `groups` is specified\n",
      "\tFitting 10 child models (S1F1 - S1F10) | Fitting with ParallelLocalFoldFittingStrategy (4 workers, per: cpus=1, gpus=0, memory=0.01%)\n",
      "\t0.8946\t = Validation score   (roc_auc)\n",
      "\t38.06s\t = Training   runtime\n",
      "\t1.36s\t = Validation runtime\n",
      "Fitting model: LightGBM_r135_BAG_L2_PSEUDO ... Training model for up to 28942.05s of the 28941.80s of remaining time.\n",
      "\tFitting 10 child models (S1F1 - S1F10) | Fitting with ParallelLocalFoldFittingStrategy (4 workers, per: cpus=1, gpus=0, memory=0.52%)\n",
      "\t0.8979\t = Validation score   (roc_auc)\n",
      "\t15.99s\t = Training   runtime\n",
      "\t0.05s\t = Validation runtime\n",
      "Fitting model: XGBoost_r22_BAG_L2_PSEUDO ... Training model for up to 28922.78s of the 28922.53s of remaining time.\n",
      "\tFitting 10 child models (S1F1 - S1F10) | Fitting with ParallelLocalFoldFittingStrategy (4 workers, per: cpus=1, gpus=0, memory=0.19%)\n",
      "\t0.8989\t = Validation score   (roc_auc)\n",
      "\t10.82s\t = Training   runtime\n",
      "\t0.06s\t = Validation runtime\n",
      "Fitting model: NeuralNetFastAI_r69_BAG_L2_PSEUDO ... Training model for up to 28908.46s of the 28908.22s of remaining time.\n",
      "\tFitting 10 child models (S1F1 - S1F10) | Fitting with ParallelLocalFoldFittingStrategy (4 workers, per: cpus=1, gpus=0, memory=0.04%)\n",
      "\t0.8996\t = Validation score   (roc_auc)\n",
      "\t33.56s\t = Training   runtime\n",
      "\t0.27s\t = Validation runtime\n",
      "Fitting model: CatBoost_r6_BAG_L2_PSEUDO ... Training model for up to 28871.59s of the 28871.34s of remaining time.\n",
      "\tFitting 10 child models (S1F1 - S1F10) | Fitting with ParallelLocalFoldFittingStrategy (4 workers, per: cpus=1, gpus=0, memory=0.06%)\n",
      "\t0.9046\t = Validation score   (roc_auc)\n",
      "\t19.77s\t = Training   runtime\n",
      "\t0.05s\t = Validation runtime\n",
      "Fitting model: NeuralNetFastAI_r138_BAG_L2_PSEUDO ... Training model for up to 28848.22s of the 28847.98s of remaining time.\n",
      "\tFitting 10 child models (S1F1 - S1F10) | Fitting with ParallelLocalFoldFittingStrategy (4 workers, per: cpus=1, gpus=0, memory=0.04%)\n",
      "\t0.891\t = Validation score   (roc_auc)\n",
      "\t56.61s\t = Training   runtime\n",
      "\t0.19s\t = Validation runtime\n",
      "Fitting model: LightGBM_r121_BAG_L2_PSEUDO ... Training model for up to 28788.50s of the 28788.26s of remaining time.\n",
      "\tFitting 10 child models (S1F1 - S1F10) | Fitting with ParallelLocalFoldFittingStrategy (4 workers, per: cpus=1, gpus=0, memory=0.53%)\n",
      "\t0.8962\t = Validation score   (roc_auc)\n",
      "\t24.66s\t = Training   runtime\n",
      "\t0.14s\t = Validation runtime\n",
      "Fitting model: NeuralNetFastAI_r172_BAG_L2_PSEUDO ... Training model for up to 28760.40s of the 28760.16s of remaining time.\n",
      "\tFitting 10 child models (S1F1 - S1F10) | Fitting with ParallelLocalFoldFittingStrategy (4 workers, per: cpus=1, gpus=0, memory=0.04%)\n",
      "\t0.8945\t = Validation score   (roc_auc)\n",
      "\t25.33s\t = Training   runtime\n",
      "\t0.17s\t = Validation runtime\n",
      "Fitting model: CatBoost_r180_BAG_L2_PSEUDO ... Training model for up to 28731.42s of the 28731.18s of remaining time.\n",
      "\tFitting 10 child models (S1F1 - S1F10) | Fitting with ParallelLocalFoldFittingStrategy (4 workers, per: cpus=1, gpus=0, memory=0.33%)\n",
      "\t0.9014\t = Validation score   (roc_auc)\n",
      "\t55.95s\t = Training   runtime\n",
      "\t0.05s\t = Validation runtime\n",
      "Fitting model: NeuralNetTorch_r76_BAG_L2_PSEUDO ... Training model for up to 28671.88s of the 28671.64s of remaining time.\n",
      "\tFitting 10 child models (S1F1 - S1F10) | Fitting with ParallelLocalFoldFittingStrategy (4 workers, per: cpus=1, gpus=0, memory=0.02%)\n",
      "\t0.8963\t = Validation score   (roc_auc)\n",
      "\t27.08s\t = Training   runtime\n",
      "\t0.42s\t = Validation runtime\n",
      "Fitting model: ExtraTrees_r197_BAG_L2_PSEUDO ... Training model for up to 28641.57s of the 28641.33s of remaining time.\n",
      "\tForcing `use_child_oof=False` because `groups` is specified\n",
      "\tFitting 10 child models (S1F1 - S1F10) | Fitting with ParallelLocalFoldFittingStrategy (4 workers, per: cpus=1, gpus=0, memory=0.01%)\n",
      "\t0.8979\t = Validation score   (roc_auc)\n",
      "\t18.3s\t = Training   runtime\n",
      "\t1.17s\t = Validation runtime\n",
      "Fitting model: NeuralNetTorch_r121_BAG_L2_PSEUDO ... Training model for up to 28619.64s of the 28619.40s of remaining time.\n",
      "\tFitting 10 child models (S1F1 - S1F10) | Fitting with ParallelLocalFoldFittingStrategy (4 workers, per: cpus=1, gpus=0, memory=0.02%)\n",
      "\t0.8962\t = Validation score   (roc_auc)\n",
      "\t75.65s\t = Training   runtime\n",
      "\t0.33s\t = Validation runtime\n",
      "Fitting model: NeuralNetFastAI_r127_BAG_L2_PSEUDO ... Training model for up to 28540.90s of the 28540.66s of remaining time.\n",
      "\tFitting 10 child models (S1F1 - S1F10) | Fitting with ParallelLocalFoldFittingStrategy (4 workers, per: cpus=1, gpus=0, memory=0.04%)\n",
      "\t0.8908\t = Validation score   (roc_auc)\n",
      "\t23.18s\t = Training   runtime\n",
      "\t0.2s\t = Validation runtime\n",
      "Fitting model: RandomForest_r16_BAG_L2_PSEUDO ... Training model for up to 28514.22s of the 28513.97s of remaining time.\n",
      "\tForcing `use_child_oof=False` because `groups` is specified\n",
      "\tFitting 10 child models (S1F1 - S1F10) | Fitting with ParallelLocalFoldFittingStrategy (4 workers, per: cpus=1, gpus=0, memory=0.01%)\n",
      "\t0.891\t = Validation score   (roc_auc)\n",
      "\t54.71s\t = Training   runtime\n",
      "\t1.12s\t = Validation runtime\n",
      "Fitting model: NeuralNetFastAI_r194_BAG_L2_PSEUDO ... Training model for up to 28455.87s of the 28455.63s of remaining time.\n",
      "\tFitting 10 child models (S1F1 - S1F10) | Fitting with ParallelLocalFoldFittingStrategy (4 workers, per: cpus=1, gpus=0, memory=0.04%)\n",
      "\t0.8951\t = Validation score   (roc_auc)\n",
      "\t29.01s\t = Training   runtime\n",
      "\t0.14s\t = Validation runtime\n",
      "Fitting model: CatBoost_r12_BAG_L2_PSEUDO ... Training model for up to 28424.02s of the 28423.78s of remaining time.\n",
      "\tFitting 10 child models (S1F1 - S1F10) | Fitting with ParallelLocalFoldFittingStrategy (4 workers, per: cpus=1, gpus=0, memory=0.33%)\n",
      "\t0.9035\t = Validation score   (roc_auc)\n",
      "\t31.47s\t = Training   runtime\n",
      "\t0.04s\t = Validation runtime\n",
      "Fitting model: NeuralNetTorch_r135_BAG_L2_PSEUDO ... Training model for up to 28389.03s of the 28388.79s of remaining time.\n",
      "\tFitting 10 child models (S1F1 - S1F10) | Fitting with ParallelLocalFoldFittingStrategy (4 workers, per: cpus=1, gpus=0, memory=0.02%)\n",
      "\t0.8996\t = Validation score   (roc_auc)\n",
      "\t52.57s\t = Training   runtime\n",
      "\t0.3s\t = Validation runtime\n",
      "Fitting model: NeuralNetFastAI_r4_BAG_L2_PSEUDO ... Training model for up to 28333.17s of the 28332.93s of remaining time.\n",
      "\tFitting 10 child models (S1F1 - S1F10) | Fitting with ParallelLocalFoldFittingStrategy (4 workers, per: cpus=1, gpus=0, memory=0.04%)\n",
      "\t0.8994\t = Validation score   (roc_auc)\n",
      "\t28.72s\t = Training   runtime\n",
      "\t0.14s\t = Validation runtime\n",
      "Fitting model: ExtraTrees_r126_BAG_L2_PSEUDO ... Training model for up to 28301.16s of the 28300.91s of remaining time.\n",
      "\tForcing `use_child_oof=False` because `groups` is specified\n",
      "\tFitting 10 child models (S1F1 - S1F10) | Fitting with ParallelLocalFoldFittingStrategy (4 workers, per: cpus=1, gpus=0, memory=0.01%)\n",
      "\t0.898\t = Validation score   (roc_auc)\n",
      "\t13.5s\t = Training   runtime\n",
      "\t0.92s\t = Validation runtime\n",
      "Fitting model: NeuralNetTorch_r36_BAG_L2_PSEUDO ... Training model for up to 28283.94s of the 28283.70s of remaining time.\n",
      "\tFitting 10 child models (S1F1 - S1F10) | Fitting with ParallelLocalFoldFittingStrategy (4 workers, per: cpus=1, gpus=0, memory=0.02%)\n",
      "\t0.9004\t = Validation score   (roc_auc)\n",
      "\t38.7s\t = Training   runtime\n",
      "\t0.24s\t = Validation runtime\n",
      "Fitting model: NeuralNetFastAI_r100_BAG_L2_PSEUDO ... Training model for up to 28242.09s of the 28241.85s of remaining time.\n",
      "\tFitting 10 child models (S1F1 - S1F10) | Fitting with ParallelLocalFoldFittingStrategy (4 workers, per: cpus=1, gpus=0, memory=0.04%)\n",
      "\t0.894\t = Validation score   (roc_auc)\n",
      "\t112.03s\t = Training   runtime\n",
      "\t0.39s\t = Validation runtime\n",
      "Fitting model: CatBoost_r163_BAG_L2_PSEUDO ... Training model for up to 28126.06s of the 28125.82s of remaining time.\n",
      "\tFitting 10 child models (S1F1 - S1F10) | Fitting with ParallelLocalFoldFittingStrategy (4 workers, per: cpus=1, gpus=0, memory=0.10%)\n",
      "\t0.9013\t = Validation score   (roc_auc)\n",
      "\t16.25s\t = Training   runtime\n",
      "\t0.06s\t = Validation runtime\n",
      "Fitting model: CatBoost_r198_BAG_L2_PSEUDO ... Training model for up to 28106.43s of the 28106.19s of remaining time.\n",
      "\tFitting 10 child models (S1F1 - S1F10) | Fitting with ParallelLocalFoldFittingStrategy (4 workers, per: cpus=1, gpus=0, memory=0.17%)\n",
      "\t0.9021\t = Validation score   (roc_auc)\n",
      "\t21.33s\t = Training   runtime\n",
      "\t0.05s\t = Validation runtime\n",
      "Fitting model: NeuralNetFastAI_r187_BAG_L2_PSEUDO ... Training model for up to 28081.94s of the 28081.69s of remaining time.\n",
      "\tFitting 10 child models (S1F1 - S1F10) | Fitting with ParallelLocalFoldFittingStrategy (4 workers, per: cpus=1, gpus=0, memory=0.04%)\n",
      "\t0.8968\t = Validation score   (roc_auc)\n",
      "\t25.4s\t = Training   runtime\n",
      "\t0.19s\t = Validation runtime\n",
      "Fitting model: NeuralNetTorch_r19_BAG_L2_PSEUDO ... Training model for up to 28053.16s of the 28052.92s of remaining time.\n",
      "\tFitting 10 child models (S1F1 - S1F10) | Fitting with ParallelLocalFoldFittingStrategy (4 workers, per: cpus=1, gpus=0, memory=0.02%)\n",
      "\t0.8969\t = Validation score   (roc_auc)\n",
      "\t26.35s\t = Training   runtime\n",
      "\t0.36s\t = Validation runtime\n",
      "Fitting model: XGBoost_r95_BAG_L2_PSEUDO ... Training model for up to 28023.45s of the 28023.21s of remaining time.\n",
      "\tFitting 10 child models (S1F1 - S1F10) | Fitting with ParallelLocalFoldFittingStrategy (4 workers, per: cpus=1, gpus=0, memory=0.19%)\n",
      "\t0.8996\t = Validation score   (roc_auc)\n",
      "\t11.01s\t = Training   runtime\n",
      "\t0.1s\t = Validation runtime\n",
      "Fitting model: XGBoost_r34_BAG_L2_PSEUDO ... Training model for up to 28008.89s of the 28008.65s of remaining time.\n",
      "\tFitting 10 child models (S1F1 - S1F10) | Fitting with ParallelLocalFoldFittingStrategy (4 workers, per: cpus=1, gpus=0, memory=1.24%)\n",
      "\t0.8968\t = Validation score   (roc_auc)\n",
      "\t13.24s\t = Training   runtime\n",
      "\t0.12s\t = Validation runtime\n",
      "Fitting model: LightGBM_r42_BAG_L2_PSEUDO ... Training model for up to 27992.41s of the 27992.16s of remaining time.\n",
      "\tFitting 10 child models (S1F1 - S1F10) | Fitting with ParallelLocalFoldFittingStrategy (4 workers, per: cpus=1, gpus=0, memory=0.49%)\n",
      "\t0.8988\t = Validation score   (roc_auc)\n",
      "\t14.54s\t = Training   runtime\n",
      "\t0.08s\t = Validation runtime\n",
      "Fitting model: NeuralNetTorch_r1_BAG_L2_PSEUDO ... Training model for up to 27974.82s of the 27974.58s of remaining time.\n",
      "\tFitting 10 child models (S1F1 - S1F10) | Fitting with ParallelLocalFoldFittingStrategy (4 workers, per: cpus=1, gpus=0, memory=0.02%)\n",
      "\t0.899\t = Validation score   (roc_auc)\n",
      "\t53.81s\t = Training   runtime\n",
      "\t0.33s\t = Validation runtime\n",
      "Fitting model: NeuralNetTorch_r89_BAG_L2_PSEUDO ... Training model for up to 27917.72s of the 27917.48s of remaining time.\n",
      "\tFitting 10 child models (S1F1 - S1F10) | Fitting with ParallelLocalFoldFittingStrategy (4 workers, per: cpus=1, gpus=0, memory=0.02%)\n",
      "\t0.9053\t = Validation score   (roc_auc)\n",
      "\t45.3s\t = Training   runtime\n",
      "\t0.33s\t = Validation runtime\n",
      "Fitting model: WeightedEnsemble_L3_PSEUDO ... Training model for up to 3376.79s of the 27868.75s of remaining time.\n",
      "\tEnsemble Weights: {'CatBoost_r143_BAG_L2_PSEUDO': 0.3, 'NeuralNetTorch_r89_BAG_L2_PSEUDO': 0.3, 'CatBoost_r6_BAG_L2_PSEUDO': 0.2, 'NeuralNetTorch_r22_BAG_L2_PSEUDO': 0.1, 'NeuralNetFastAI_r102_BAG_L2_PSEUDO': 0.05, 'NeuralNetFastAI_r111_BAG_L2_PSEUDO': 0.05}\n",
      "\t0.9098\t = Validation score   (roc_auc)\n",
      "\t0.26s\t = Training   runtime\n",
      "\t0.0s\t = Validation runtime\n",
      "TabularPredictor saved. To load, use: predictor = TabularPredictor.load(\"/AutoGluonModels\")\n"
     ]
    }
   ],
   "source": [
    "if original is None:\n",
    "    predictor.fit(\n",
    "        train_data=train,\n",
    "        time_limit=CFG.time_limit,\n",
    "        presets='best_quality'\n",
    "    )\n",
    "else:\n",
    "    predictor.fit_pseudolabel(\n",
    "        pseudo_data=original,\n",
    "        train_data=train,\n",
    "        time_limit=CFG.time_limit,\n",
    "        presets='experimental_quality'\n",
    "    )"
   ]
  },
  {
   "cell_type": "code",
   "execution_count": 8,
   "id": "a45cad76",
   "metadata": {
    "execution": {
     "iopub.execute_input": "2025-03-13T20:26:16.399817Z",
     "iopub.status.busy": "2025-03-13T20:26:16.398934Z",
     "iopub.status.idle": "2025-03-13T20:26:16.404672Z",
     "shell.execute_reply": "2025-03-13T20:26:16.403851Z"
    },
    "papermill": {
     "duration": 0.148303,
     "end_time": "2025-03-13T20:26:16.406251",
     "exception": false,
     "start_time": "2025-03-13T20:26:16.257948",
     "status": "completed"
    },
    "tags": []
   },
   "outputs": [],
   "source": [
    "def get_ensemble_weights(predictor):\n",
    "    selected_models = []\n",
    "    info = predictor.info()\n",
    "    ensemble_weights = {}\n",
    "    for model_name, values in info[\"model_info\"].items():\n",
    "        if \"Ensemble\" in model_name:\n",
    "            children_info = values[\"children_info\"]\n",
    "            ensemble_weights[model_name] = values[\"children_info\"][list(children_info.keys())[0]][\"model_weights\"]\n",
    "            selected_models.extend(values[\"children_info\"][list(children_info.keys())[0]][\"model_weights\"].keys())\n",
    "            selected_models.append(model_name)\n",
    "    return ensemble_weights, list(set(selected_models))"
   ]
  },
  {
   "cell_type": "code",
   "execution_count": 9,
   "id": "df23fcb6",
   "metadata": {
    "execution": {
     "iopub.execute_input": "2025-03-13T20:26:16.705135Z",
     "iopub.status.busy": "2025-03-13T20:26:16.704752Z",
     "iopub.status.idle": "2025-03-13T20:47:27.753749Z",
     "shell.execute_reply": "2025-03-13T20:47:27.752922Z"
    },
    "papermill": {
     "duration": 1271.205005,
     "end_time": "2025-03-13T20:47:27.756807",
     "exception": false,
     "start_time": "2025-03-13T20:26:16.551802",
     "status": "completed"
    },
    "tags": []
   },
   "outputs": [
    {
     "data": {
      "image/png": "[encoded data removed]",
      "text/plain": [
       "<Figure size 600x600 with 1 Axes>"
      ]
     },
     "metadata": {},
     "output_type": "display_data"
    },
    {
     "data": {
      "image/png": "[encoded data removed]",
      "text/plain": [
       "<Figure size 600x600 with 1 Axes>"
      ]
     },
     "metadata": {},
     "output_type": "display_data"
    },
    {
     "data": {
      "image/png": "[encoded data removed]",
      "text/plain": [
       "<Figure size 600x600 with 1 Axes>"
      ]
     },
     "metadata": {},
     "output_type": "display_data"
    },
    {
     "data": {
      "image/png": "[encoded data removed]",
      "text/plain": [
       "<Figure size 600x600 with 1 Axes>"
      ]
     },
     "metadata": {},
     "output_type": "display_data"
    }
   ],
   "source": [
    "ensemble_weights, selected_models = get_ensemble_weights(predictor)\n",
    "\n",
    "for key, value in ensemble_weights.items():\n",
    "    plt.figure(figsize=(6, 6))\n",
    "    plt.pie(value.values(), labels=value.keys(), autopct='%1.1f%%', colors=sns.color_palette('Set2', len(value)))\n",
    "    plt.title(key)\n",
    "    plt.tight_layout()\n",
    "    plt.show()"
   ]
  },
  {
   "cell_type": "code",
   "execution_count": 10,
   "id": "40761fc0",
   "metadata": {
    "execution": {
     "iopub.execute_input": "2025-03-13T20:47:28.041299Z",
     "iopub.status.busy": "2025-03-13T20:47:28.040381Z",
     "iopub.status.idle": "2025-03-13T20:47:28.261426Z",
     "shell.execute_reply": "2025-03-13T20:47:28.260551Z"
    },
    "papermill": {
     "duration": 0.36368,
     "end_time": "2025-03-13T20:47:28.263065",
     "exception": false,
     "start_time": "2025-03-13T20:47:27.899385",
     "status": "completed"
    },
    "tags": []
   },
   "outputs": [
    {
     "data": {
      "text/html": [
       "<style type=\"text/css\">\n",
       "#T_4b948_row0_col1 {\n",
       "  background-color: #006837;\n",
       "  color: #f1f1f1;\n",
       "}\n",
       "#T_4b948_row1_col1 {\n",
       "  background-color: #75c465;\n",
       "  color: #000000;\n",
       "}\n",
       "#T_4b948_row2_col1 {\n",
       "  background-color: #89cc67;\n",
       "  color: #000000;\n",
       "}\n",
       "#T_4b948_row3_col1 {\n",
       "  background-color: #98d368;\n",
       "  color: #000000;\n",
       "}\n",
       "#T_4b948_row4_col1 {\n",
       "  background-color: #a5d86a;\n",
       "  color: #000000;\n",
       "}\n",
       "#T_4b948_row5_col1 {\n",
       "  background-color: #bfe47a;\n",
       "  color: #000000;\n",
       "}\n",
       "#T_4b948_row6_col1 {\n",
       "  background-color: #d7ee8a;\n",
       "  color: #000000;\n",
       "}\n",
       "#T_4b948_row7_col1 {\n",
       "  background-color: #d9ef8b;\n",
       "  color: #000000;\n",
       "}\n",
       "#T_4b948_row8_col1 {\n",
       "  background-color: #ebf7a3;\n",
       "  color: #000000;\n",
       "}\n",
       "#T_4b948_row9_col1 {\n",
       "  background-color: #fafdb8;\n",
       "  color: #000000;\n",
       "}\n",
       "#T_4b948_row10_col1 {\n",
       "  background-color: #fbfdba;\n",
       "  color: #000000;\n",
       "}\n",
       "#T_4b948_row11_col1 {\n",
       "  background-color: #feffbe;\n",
       "  color: #000000;\n",
       "}\n",
       "#T_4b948_row12_col1 {\n",
       "  background-color: #fff7b2;\n",
       "  color: #000000;\n",
       "}\n",
       "#T_4b948_row13_col1 {\n",
       "  background-color: #fee28f;\n",
       "  color: #000000;\n",
       "}\n",
       "#T_4b948_row14_col1 {\n",
       "  background-color: #fdbf6f;\n",
       "  color: #000000;\n",
       "}\n",
       "#T_4b948_row15_col1 {\n",
       "  background-color: #fdb163;\n",
       "  color: #000000;\n",
       "}\n",
       "#T_4b948_row16_col1 {\n",
       "  background-color: #fdaf62;\n",
       "  color: #000000;\n",
       "}\n",
       "#T_4b948_row17_col1 {\n",
       "  background-color: #fca55d;\n",
       "  color: #000000;\n",
       "}\n",
       "#T_4b948_row18_col1 {\n",
       "  background-color: #f98e52;\n",
       "  color: #f1f1f1;\n",
       "}\n",
       "#T_4b948_row19_col1 {\n",
       "  background-color: #f8864f;\n",
       "  color: #f1f1f1;\n",
       "}\n",
       "#T_4b948_row20_col1 {\n",
       "  background-color: #e44c34;\n",
       "  color: #f1f1f1;\n",
       "}\n",
       "#T_4b948_row21_col1 {\n",
       "  background-color: #dd3d2d;\n",
       "  color: #f1f1f1;\n",
       "}\n",
       "#T_4b948_row22_col1 {\n",
       "  background-color: #c01a27;\n",
       "  color: #f1f1f1;\n",
       "}\n",
       "#T_4b948_row23_col1 {\n",
       "  background-color: #ab0626;\n",
       "  color: #f1f1f1;\n",
       "}\n",
       "#T_4b948_row24_col1 {\n",
       "  background-color: #a50026;\n",
       "  color: #f1f1f1;\n",
       "}\n",
       "</style>\n",
       "<table id=\"T_4b948\">\n",
       "  <thead>\n",
       "    <tr>\n",
       "      <th class=\"blank level0\" >&nbsp;</th>\n",
       "      <th id=\"T_4b948_level0_col0\" class=\"col_heading level0 col0\" >model</th>\n",
       "      <th id=\"T_4b948_level0_col1\" class=\"col_heading level0 col1\" >score_val</th>\n",
       "      <th id=\"T_4b948_level0_col2\" class=\"col_heading level0 col2\" >eval_metric</th>\n",
       "      <th id=\"T_4b948_level0_col3\" class=\"col_heading level0 col3\" >pred_time_val</th>\n",
       "      <th id=\"T_4b948_level0_col4\" class=\"col_heading level0 col4\" >fit_time</th>\n",
       "      <th id=\"T_4b948_level0_col5\" class=\"col_heading level0 col5\" >pred_time_val_marginal</th>\n",
       "      <th id=\"T_4b948_level0_col6\" class=\"col_heading level0 col6\" >fit_time_marginal</th>\n",
       "      <th id=\"T_4b948_level0_col7\" class=\"col_heading level0 col7\" >stack_level</th>\n",
       "      <th id=\"T_4b948_level0_col8\" class=\"col_heading level0 col8\" >can_infer</th>\n",
       "      <th id=\"T_4b948_level0_col9\" class=\"col_heading level0 col9\" >fit_order</th>\n",
       "    </tr>\n",
       "  </thead>\n",
       "  <tbody>\n",
       "    <tr>\n",
       "      <th id=\"T_4b948_level0_row0\" class=\"row_heading level0 row0\" >0</th>\n",
       "      <td id=\"T_4b948_row0_col0\" class=\"data row0 col0\" >WeightedEnsemble_L3_PSEUDO</td>\n",
       "      <td id=\"T_4b948_row0_col1\" class=\"data row0 col1\" >0.909844</td>\n",
       "      <td id=\"T_4b948_row0_col2\" class=\"data row0 col2\" >roc_auc</td>\n",
       "      <td id=\"T_4b948_row0_col3\" class=\"data row0 col3\" >61.535590</td>\n",
       "      <td id=\"T_4b948_row0_col4\" class=\"data row0 col4\" >3249.257376</td>\n",
       "      <td id=\"T_4b948_row0_col5\" class=\"data row0 col5\" >0.000698</td>\n",
       "      <td id=\"T_4b948_row0_col6\" class=\"data row0 col6\" >0.260899</td>\n",
       "      <td id=\"T_4b948_row0_col7\" class=\"data row0 col7\" >3</td>\n",
       "      <td id=\"T_4b948_row0_col8\" class=\"data row0 col8\" >True</td>\n",
       "      <td id=\"T_4b948_row0_col9\" class=\"data row0 col9\" >444</td>\n",
       "    </tr>\n",
       "    <tr>\n",
       "      <th id=\"T_4b948_level0_row1\" class=\"row_heading level0 row1\" >1</th>\n",
       "      <td id=\"T_4b948_row1_col0\" class=\"data row1 col0\" >WeightedEnsemble_L3</td>\n",
       "      <td id=\"T_4b948_row1_col1\" class=\"data row1 col1\" >0.906462</td>\n",
       "      <td id=\"T_4b948_row1_col2\" class=\"data row1 col2\" >roc_auc</td>\n",
       "      <td id=\"T_4b948_row1_col3\" class=\"data row1 col3\" >47.190052</td>\n",
       "      <td id=\"T_4b948_row1_col4\" class=\"data row1 col4\" >2497.589911</td>\n",
       "      <td id=\"T_4b948_row1_col5\" class=\"data row1 col5\" >0.000696</td>\n",
       "      <td id=\"T_4b948_row1_col6\" class=\"data row1 col6\" >0.240614</td>\n",
       "      <td id=\"T_4b948_row1_col7\" class=\"data row1 col7\" >3</td>\n",
       "      <td id=\"T_4b948_row1_col8\" class=\"data row1 col8\" >True</td>\n",
       "      <td id=\"T_4b948_row1_col9\" class=\"data row1 col9\" >222</td>\n",
       "    </tr>\n",
       "    <tr>\n",
       "      <th id=\"T_4b948_level0_row2\" class=\"row_heading level0 row2\" >2</th>\n",
       "      <td id=\"T_4b948_row2_col0\" class=\"data row2 col0\" >WeightedEnsemble_L2_PSEUDO</td>\n",
       "      <td id=\"T_4b948_row2_col1\" class=\"data row2 col1\" >0.906022</td>\n",
       "      <td id=\"T_4b948_row2_col2\" class=\"data row2 col2\" >roc_auc</td>\n",
       "      <td id=\"T_4b948_row2_col3\" class=\"data row2 col3\" >0.472463</td>\n",
       "      <td id=\"T_4b948_row2_col4\" class=\"data row2 col4\" >153.066481</td>\n",
       "      <td id=\"T_4b948_row2_col5\" class=\"data row2 col5\" >0.000685</td>\n",
       "      <td id=\"T_4b948_row2_col6\" class=\"data row2 col6\" >0.275906</td>\n",
       "      <td id=\"T_4b948_row2_col7\" class=\"data row2 col7\" >2</td>\n",
       "      <td id=\"T_4b948_row2_col8\" class=\"data row2 col8\" >True</td>\n",
       "      <td id=\"T_4b948_row2_col9\" class=\"data row2 col9\" >334</td>\n",
       "    </tr>\n",
       "    <tr>\n",
       "      <th id=\"T_4b948_level0_row3\" class=\"row_heading level0 row3\" >3</th>\n",
       "      <td id=\"T_4b948_row3_col0\" class=\"data row3 col0\" >CatBoost_r143_BAG_L2_PSEUDO</td>\n",
       "      <td id=\"T_4b948_row3_col1\" class=\"data row3 col1\" >0.905659</td>\n",
       "      <td id=\"T_4b948_row3_col2\" class=\"data row3 col2\" >roc_auc</td>\n",
       "      <td id=\"T_4b948_row3_col3\" class=\"data row3 col3\" >59.789769</td>\n",
       "      <td id=\"T_4b948_row3_col4\" class=\"data row3 col4\" >3004.307627</td>\n",
       "      <td id=\"T_4b948_row3_col5\" class=\"data row3 col5\" >0.046313</td>\n",
       "      <td id=\"T_4b948_row3_col6\" class=\"data row3 col6\" >29.129184</td>\n",
       "      <td id=\"T_4b948_row3_col7\" class=\"data row3 col7\" >2</td>\n",
       "      <td id=\"T_4b948_row3_col8\" class=\"data row3 col8\" >True</td>\n",
       "      <td id=\"T_4b948_row3_col9\" class=\"data row3 col9\" >407</td>\n",
       "    </tr>\n",
       "    <tr>\n",
       "      <th id=\"T_4b948_level0_row4\" class=\"row_heading level0 row4\" >4</th>\n",
       "      <td id=\"T_4b948_row4_col0\" class=\"data row4 col0\" >NeuralNetTorch_r89_BAG_L2_PSEUDO</td>\n",
       "      <td id=\"T_4b948_row4_col1\" class=\"data row4 col1\" >0.905346</td>\n",
       "      <td id=\"T_4b948_row4_col2\" class=\"data row4 col2\" >roc_auc</td>\n",
       "      <td id=\"T_4b948_row4_col3\" class=\"data row4 col3\" >60.075463</td>\n",
       "      <td id=\"T_4b948_row4_col4\" class=\"data row4 col4\" >3020.482649</td>\n",
       "      <td id=\"T_4b948_row4_col5\" class=\"data row4 col5\" >0.332007</td>\n",
       "      <td id=\"T_4b948_row4_col6\" class=\"data row4 col6\" >45.304205</td>\n",
       "      <td id=\"T_4b948_row4_col7\" class=\"data row4 col7\" >2</td>\n",
       "      <td id=\"T_4b948_row4_col8\" class=\"data row4 col8\" >True</td>\n",
       "      <td id=\"T_4b948_row4_col9\" class=\"data row4 col9\" >443</td>\n",
       "    </tr>\n",
       "    <tr>\n",
       "      <th id=\"T_4b948_level0_row5\" class=\"row_heading level0 row5\" >6</th>\n",
       "      <td id=\"T_4b948_row5_col0\" class=\"data row5 col0\" >CatBoost_r6_BAG_L2_PSEUDO</td>\n",
       "      <td id=\"T_4b948_row5_col1\" class=\"data row5 col1\" >0.904606</td>\n",
       "      <td id=\"T_4b948_row5_col2\" class=\"data row5 col2\" >roc_auc</td>\n",
       "      <td id=\"T_4b948_row5_col3\" class=\"data row5 col3\" >59.795557</td>\n",
       "      <td id=\"T_4b948_row5_col4\" class=\"data row5 col4\" >2994.948148</td>\n",
       "      <td id=\"T_4b948_row5_col5\" class=\"data row5 col5\" >0.052101</td>\n",
       "      <td id=\"T_4b948_row5_col6\" class=\"data row5 col6\" >19.769704</td>\n",
       "      <td id=\"T_4b948_row5_col7\" class=\"data row5 col7\" >2</td>\n",
       "      <td id=\"T_4b948_row5_col8\" class=\"data row5 col8\" >True</td>\n",
       "      <td id=\"T_4b948_row5_col9\" class=\"data row5 col9\" >418</td>\n",
       "    </tr>\n",
       "    <tr>\n",
       "      <th id=\"T_4b948_level0_row6\" class=\"row_heading level0 row6\" >9</th>\n",
       "      <td id=\"T_4b948_row6_col0\" class=\"data row6 col0\" >NeuralNetFastAI_r102_BAG_L2_PSEUDO</td>\n",
       "      <td id=\"T_4b948_row6_col1\" class=\"data row6 col1\" >0.903890</td>\n",
       "      <td id=\"T_4b948_row6_col2\" class=\"data row6 col2\" >roc_auc</td>\n",
       "      <td id=\"T_4b948_row6_col3\" class=\"data row6 col3\" >60.301323</td>\n",
       "      <td id=\"T_4b948_row6_col4\" class=\"data row6 col4\" >3050.724870</td>\n",
       "      <td id=\"T_4b948_row6_col5\" class=\"data row6 col5\" >0.557867</td>\n",
       "      <td id=\"T_4b948_row6_col6\" class=\"data row6 col6\" >75.546427</td>\n",
       "      <td id=\"T_4b948_row6_col7\" class=\"data row6 col7\" >2</td>\n",
       "      <td id=\"T_4b948_row6_col8\" class=\"data row6 col8\" >True</td>\n",
       "      <td id=\"T_4b948_row6_col9\" class=\"data row6 col9\" >357</td>\n",
       "    </tr>\n",
       "    <tr>\n",
       "      <th id=\"T_4b948_level0_row7\" class=\"row_heading level0 row7\" >10</th>\n",
       "      <td id=\"T_4b948_row7_col0\" class=\"data row7 col0\" >NeuralNetTorch_r22_BAG_L2_PSEUDO</td>\n",
       "      <td id=\"T_4b948_row7_col1\" class=\"data row7 col1\" >0.903828</td>\n",
       "      <td id=\"T_4b948_row7_col2\" class=\"data row7 col2\" >roc_auc</td>\n",
       "      <td id=\"T_4b948_row7_col3\" class=\"data row7 col3\" >60.035119</td>\n",
       "      <td id=\"T_4b948_row7_col4\" class=\"data row7 col4\" >3015.941259</td>\n",
       "      <td id=\"T_4b948_row7_col5\" class=\"data row7 col5\" >0.291663</td>\n",
       "      <td id=\"T_4b948_row7_col6\" class=\"data row7 col6\" >40.762815</td>\n",
       "      <td id=\"T_4b948_row7_col7\" class=\"data row7 col7\" >2</td>\n",
       "      <td id=\"T_4b948_row7_col8\" class=\"data row7 col8\" >True</td>\n",
       "      <td id=\"T_4b948_row7_col9\" class=\"data row7 col9\" >353</td>\n",
       "    </tr>\n",
       "    <tr>\n",
       "      <th id=\"T_4b948_level0_row8\" class=\"row_heading level0 row8\" >13</th>\n",
       "      <td id=\"T_4b948_row8_col0\" class=\"data row8 col0\" >CatBoost_r50_BAG_L1_PSEUDO</td>\n",
       "      <td id=\"T_4b948_row8_col1\" class=\"data row8 col1\" >0.903131</td>\n",
       "      <td id=\"T_4b948_row8_col2\" class=\"data row8 col2\" >roc_auc</td>\n",
       "      <td id=\"T_4b948_row8_col3\" class=\"data row8 col3\" >0.025588</td>\n",
       "      <td id=\"T_4b948_row8_col4\" class=\"data row8 col4\" >14.116782</td>\n",
       "      <td id=\"T_4b948_row8_col5\" class=\"data row8 col5\" >0.025588</td>\n",
       "      <td id=\"T_4b948_row8_col6\" class=\"data row8 col6\" >14.116782</td>\n",
       "      <td id=\"T_4b948_row8_col7\" class=\"data row8 col7\" >1</td>\n",
       "      <td id=\"T_4b948_row8_col8\" class=\"data row8 col8\" >True</td>\n",
       "      <td id=\"T_4b948_row8_col9\" class=\"data row8 col9\" >256</td>\n",
       "    </tr>\n",
       "    <tr>\n",
       "      <th id=\"T_4b948_level0_row9\" class=\"row_heading level0 row9\" >17</th>\n",
       "      <td id=\"T_4b948_row9_col0\" class=\"data row9 col0\" >WeightedEnsemble_L2</td>\n",
       "      <td id=\"T_4b948_row9_col1\" class=\"data row9 col1\" >0.902516</td>\n",
       "      <td id=\"T_4b948_row9_col2\" class=\"data row9 col2\" >roc_auc</td>\n",
       "      <td id=\"T_4b948_row9_col3\" class=\"data row9 col3\" >0.618416</td>\n",
       "      <td id=\"T_4b948_row9_col4\" class=\"data row9 col4\" >168.316141</td>\n",
       "      <td id=\"T_4b948_row9_col5\" class=\"data row9 col5\" >0.000706</td>\n",
       "      <td id=\"T_4b948_row9_col6\" class=\"data row9 col6\" >0.207659</td>\n",
       "      <td id=\"T_4b948_row9_col7\" class=\"data row9 col7\" >2</td>\n",
       "      <td id=\"T_4b948_row9_col8\" class=\"data row9 col8\" >True</td>\n",
       "      <td id=\"T_4b948_row9_col9\" class=\"data row9 col9\" >112</td>\n",
       "    </tr>\n",
       "    <tr>\n",
       "      <th id=\"T_4b948_level0_row10\" class=\"row_heading level0 row10\" >19</th>\n",
       "      <td id=\"T_4b948_row10_col0\" class=\"data row10 col0\" >NeuralNetTorch_r41_BAG_L2</td>\n",
       "      <td id=\"T_4b948_row10_col1\" class=\"data row10 col1\" >0.902508</td>\n",
       "      <td id=\"T_4b948_row10_col2\" class=\"data row10 col2\" >roc_auc</td>\n",
       "      <td id=\"T_4b948_row10_col3\" class=\"data row10 col3\" >46.515827</td>\n",
       "      <td id=\"T_4b948_row10_col4\" class=\"data row10 col4\" >2355.233313</td>\n",
       "      <td id=\"T_4b948_row10_col5\" class=\"data row10 col5\" >0.300726</td>\n",
       "      <td id=\"T_4b948_row10_col6\" class=\"data row10 col6\" >33.310320</td>\n",
       "      <td id=\"T_4b948_row10_col7\" class=\"data row10 col7\" >2</td>\n",
       "      <td id=\"T_4b948_row10_col8\" class=\"data row10 col8\" >True</td>\n",
       "      <td id=\"T_4b948_row10_col9\" class=\"data row10 col9\" >159</td>\n",
       "    </tr>\n",
       "    <tr>\n",
       "      <th id=\"T_4b948_level0_row11\" class=\"row_heading level0 row11\" >20</th>\n",
       "      <td id=\"T_4b948_row11_col0\" class=\"data row11 col0\" >NeuralNetTorch_r89_BAG_L2</td>\n",
       "      <td id=\"T_4b948_row11_col1\" class=\"data row11 col1\" >0.902397</td>\n",
       "      <td id=\"T_4b948_row11_col2\" class=\"data row11 col2\" >roc_auc</td>\n",
       "      <td id=\"T_4b948_row11_col3\" class=\"data row11 col3\" >46.489807</td>\n",
       "      <td id=\"T_4b948_row11_col4\" class=\"data row11 col4\" >2365.212294</td>\n",
       "      <td id=\"T_4b948_row11_col5\" class=\"data row11 col5\" >0.274706</td>\n",
       "      <td id=\"T_4b948_row11_col6\" class=\"data row11 col6\" >43.289302</td>\n",
       "      <td id=\"T_4b948_row11_col7\" class=\"data row11 col7\" >2</td>\n",
       "      <td id=\"T_4b948_row11_col8\" class=\"data row11 col8\" >True</td>\n",
       "      <td id=\"T_4b948_row11_col9\" class=\"data row11 col9\" >221</td>\n",
       "    </tr>\n",
       "    <tr>\n",
       "      <th id=\"T_4b948_level0_row12\" class=\"row_heading level0 row12\" >24</th>\n",
       "      <td id=\"T_4b948_row12_col0\" class=\"data row12 col0\" >NeuralNetFastAI_r111_BAG_L2_PSEUDO</td>\n",
       "      <td id=\"T_4b948_row12_col1\" class=\"data row12 col1\" >0.901979</td>\n",
       "      <td id=\"T_4b948_row12_col2\" class=\"data row12 col2\" >roc_auc</td>\n",
       "      <td id=\"T_4b948_row12_col3\" class=\"data row12 col3\" >60.254941</td>\n",
       "      <td id=\"T_4b948_row12_col4\" class=\"data row12 col4\" >3038.484143</td>\n",
       "      <td id=\"T_4b948_row12_col5\" class=\"data row12 col5\" >0.511485</td>\n",
       "      <td id=\"T_4b948_row12_col6\" class=\"data row12 col6\" >63.305700</td>\n",
       "      <td id=\"T_4b948_row12_col7\" class=\"data row12 col7\" >2</td>\n",
       "      <td id=\"T_4b948_row12_col8\" class=\"data row12 col8\" >True</td>\n",
       "      <td id=\"T_4b948_row12_col9\" class=\"data row12 col9\" >397</td>\n",
       "    </tr>\n",
       "    <tr>\n",
       "      <th id=\"T_4b948_level0_row13\" class=\"row_heading level0 row13\" >37</th>\n",
       "      <td id=\"T_4b948_row13_col0\" class=\"data row13 col0\" >CatBoost_r70_BAG_L2</td>\n",
       "      <td id=\"T_4b948_row13_col1\" class=\"data row13 col1\" >0.900947</td>\n",
       "      <td id=\"T_4b948_row13_col2\" class=\"data row13 col2\" >roc_auc</td>\n",
       "      <td id=\"T_4b948_row13_col3\" class=\"data row13 col3\" >46.262606</td>\n",
       "      <td id=\"T_4b948_row13_col4\" class=\"data row13 col4\" >2360.228426</td>\n",
       "      <td id=\"T_4b948_row13_col5\" class=\"data row13 col5\" >0.047505</td>\n",
       "      <td id=\"T_4b948_row13_col6\" class=\"data row13 col6\" >38.305433</td>\n",
       "      <td id=\"T_4b948_row13_col7\" class=\"data row13 col7\" >2</td>\n",
       "      <td id=\"T_4b948_row13_col8\" class=\"data row13 col8\" >True</td>\n",
       "      <td id=\"T_4b948_row13_col9\" class=\"data row13 col9\" >153</td>\n",
       "    </tr>\n",
       "    <tr>\n",
       "      <th id=\"T_4b948_level0_row14\" class=\"row_heading level0 row14\" >49</th>\n",
       "      <td id=\"T_4b948_row14_col0\" class=\"data row14 col0\" >NeuralNetFastAI_r69_BAG_L2</td>\n",
       "      <td id=\"T_4b948_row14_col1\" class=\"data row14 col1\" >0.899841</td>\n",
       "      <td id=\"T_4b948_row14_col2\" class=\"data row14 col2\" >roc_auc</td>\n",
       "      <td id=\"T_4b948_row14_col3\" class=\"data row14 col3\" >46.433544</td>\n",
       "      <td id=\"T_4b948_row14_col4\" class=\"data row14 col4\" >2353.779791</td>\n",
       "      <td id=\"T_4b948_row14_col5\" class=\"data row14 col5\" >0.218443</td>\n",
       "      <td id=\"T_4b948_row14_col6\" class=\"data row14 col6\" >31.856798</td>\n",
       "      <td id=\"T_4b948_row14_col7\" class=\"data row14 col7\" >2</td>\n",
       "      <td id=\"T_4b948_row14_col8\" class=\"data row14 col8\" >True</td>\n",
       "      <td id=\"T_4b948_row14_col9\" class=\"data row14 col9\" >195</td>\n",
       "    </tr>\n",
       "    <tr>\n",
       "      <th id=\"T_4b948_level0_row15\" class=\"row_heading level0 row15\" >64</th>\n",
       "      <td id=\"T_4b948_row15_col0\" class=\"data row15 col0\" >NeuralNetFastAI_r4_BAG_L2</td>\n",
       "      <td id=\"T_4b948_row15_col1\" class=\"data row15 col1\" >0.899447</td>\n",
       "      <td id=\"T_4b948_row15_col2\" class=\"data row15 col2\" >roc_auc</td>\n",
       "      <td id=\"T_4b948_row15_col3\" class=\"data row15 col3\" >46.347976</td>\n",
       "      <td id=\"T_4b948_row15_col4\" class=\"data row15 col4\" >2350.587444</td>\n",
       "      <td id=\"T_4b948_row15_col5\" class=\"data row15 col5\" >0.132875</td>\n",
       "      <td id=\"T_4b948_row15_col6\" class=\"data row15 col6\" >28.664451</td>\n",
       "      <td id=\"T_4b948_row15_col7\" class=\"data row15 col7\" >2</td>\n",
       "      <td id=\"T_4b948_row15_col8\" class=\"data row15 col8\" >True</td>\n",
       "      <td id=\"T_4b948_row15_col9\" class=\"data row15 col9\" >209</td>\n",
       "    </tr>\n",
       "    <tr>\n",
       "      <th id=\"T_4b948_level0_row16\" class=\"row_heading level0 row16\" >68</th>\n",
       "      <td id=\"T_4b948_row16_col0\" class=\"data row16 col0\" >CatBoost_r6_BAG_L1</td>\n",
       "      <td id=\"T_4b948_row16_col1\" class=\"data row16 col1\" >0.899394</td>\n",
       "      <td id=\"T_4b948_row16_col2\" class=\"data row16 col2\" >roc_auc</td>\n",
       "      <td id=\"T_4b948_row16_col3\" class=\"data row16 col3\" >0.019560</td>\n",
       "      <td id=\"T_4b948_row16_col4\" class=\"data row16 col4\" >12.685262</td>\n",
       "      <td id=\"T_4b948_row16_col5\" class=\"data row16 col5\" >0.019560</td>\n",
       "      <td id=\"T_4b948_row16_col6\" class=\"data row16 col6\" >12.685262</td>\n",
       "      <td id=\"T_4b948_row16_col7\" class=\"data row16 col7\" >1</td>\n",
       "      <td id=\"T_4b948_row16_col8\" class=\"data row16 col8\" >True</td>\n",
       "      <td id=\"T_4b948_row16_col9\" class=\"data row16 col9\" >86</td>\n",
       "    </tr>\n",
       "    <tr>\n",
       "      <th id=\"T_4b948_level0_row17\" class=\"row_heading level0 row17\" >78</th>\n",
       "      <td id=\"T_4b948_row17_col0\" class=\"data row17 col0\" >CatBoost_r50_BAG_L1</td>\n",
       "      <td id=\"T_4b948_row17_col1\" class=\"data row17 col1\" >0.899127</td>\n",
       "      <td id=\"T_4b948_row17_col2\" class=\"data row17 col2\" >roc_auc</td>\n",
       "      <td id=\"T_4b948_row17_col3\" class=\"data row17 col3\" >0.021393</td>\n",
       "      <td id=\"T_4b948_row17_col4\" class=\"data row17 col4\" >13.269850</td>\n",
       "      <td id=\"T_4b948_row17_col5\" class=\"data row17 col5\" >0.021393</td>\n",
       "      <td id=\"T_4b948_row17_col6\" class=\"data row17 col6\" >13.269850</td>\n",
       "      <td id=\"T_4b948_row17_col7\" class=\"data row17 col7\" >1</td>\n",
       "      <td id=\"T_4b948_row17_col8\" class=\"data row17 col8\" >True</td>\n",
       "      <td id=\"T_4b948_row17_col9\" class=\"data row17 col9\" >34</td>\n",
       "    </tr>\n",
       "    <tr>\n",
       "      <th id=\"T_4b948_level0_row18\" class=\"row_heading level0 row18\" >92</th>\n",
       "      <td id=\"T_4b948_row18_col0\" class=\"data row18 col0\" >XGBoost_r89_BAG_L1_PSEUDO</td>\n",
       "      <td id=\"T_4b948_row18_col1\" class=\"data row18 col1\" >0.898604</td>\n",
       "      <td id=\"T_4b948_row18_col2\" class=\"data row18 col2\" >roc_auc</td>\n",
       "      <td id=\"T_4b948_row18_col3\" class=\"data row18 col3\" >0.070734</td>\n",
       "      <td id=\"T_4b948_row18_col4\" class=\"data row18 col4\" >9.002009</td>\n",
       "      <td id=\"T_4b948_row18_col5\" class=\"data row18 col5\" >0.070734</td>\n",
       "      <td id=\"T_4b948_row18_col6\" class=\"data row18 col6\" >9.002009</td>\n",
       "      <td id=\"T_4b948_row18_col7\" class=\"data row18 col7\" >1</td>\n",
       "      <td id=\"T_4b948_row18_col8\" class=\"data row18 col8\" >True</td>\n",
       "      <td id=\"T_4b948_row18_col9\" class=\"data row18 col9\" >252</td>\n",
       "    </tr>\n",
       "    <tr>\n",
       "      <th id=\"T_4b948_level0_row19\" class=\"row_heading level0 row19\" >101</th>\n",
       "      <td id=\"T_4b948_row19_col0\" class=\"data row19 col0\" >NeuralNetFastAI_r4_BAG_L1_PSEUDO</td>\n",
       "      <td id=\"T_4b948_row19_col1\" class=\"data row19 col1\" >0.898437</td>\n",
       "      <td id=\"T_4b948_row19_col2\" class=\"data row19 col2\" >roc_auc</td>\n",
       "      <td id=\"T_4b948_row19_col3\" class=\"data row19 col3\" >0.106631</td>\n",
       "      <td id=\"T_4b948_row19_col4\" class=\"data row19 col4\" >30.459594</td>\n",
       "      <td id=\"T_4b948_row19_col5\" class=\"data row19 col5\" >0.106631</td>\n",
       "      <td id=\"T_4b948_row19_col6\" class=\"data row19 col6\" >30.459594</td>\n",
       "      <td id=\"T_4b948_row19_col7\" class=\"data row19 col7\" >1</td>\n",
       "      <td id=\"T_4b948_row19_col8\" class=\"data row19 col8\" >True</td>\n",
       "      <td id=\"T_4b948_row19_col9\" class=\"data row19 col9\" >321</td>\n",
       "    </tr>\n",
       "    <tr>\n",
       "      <th id=\"T_4b948_level0_row20\" class=\"row_heading level0 row20\" >147</th>\n",
       "      <td id=\"T_4b948_row20_col0\" class=\"data row20 col0\" >NeuralNetTorch_r89_BAG_L1_PSEUDO</td>\n",
       "      <td id=\"T_4b948_row20_col1\" class=\"data row20 col1\" >0.897008</td>\n",
       "      <td id=\"T_4b948_row20_col2\" class=\"data row20 col2\" >roc_auc</td>\n",
       "      <td id=\"T_4b948_row20_col3\" class=\"data row20 col3\" >0.130185</td>\n",
       "      <td id=\"T_4b948_row20_col4\" class=\"data row20 col4\" >54.304729</td>\n",
       "      <td id=\"T_4b948_row20_col5\" class=\"data row20 col5\" >0.130185</td>\n",
       "      <td id=\"T_4b948_row20_col6\" class=\"data row20 col6\" >54.304729</td>\n",
       "      <td id=\"T_4b948_row20_col7\" class=\"data row20 col7\" >1</td>\n",
       "      <td id=\"T_4b948_row20_col8\" class=\"data row20 col8\" >True</td>\n",
       "      <td id=\"T_4b948_row20_col9\" class=\"data row20 col9\" >333</td>\n",
       "    </tr>\n",
       "    <tr>\n",
       "      <th id=\"T_4b948_level0_row21\" class=\"row_heading level0 row21\" >159</th>\n",
       "      <td id=\"T_4b948_row21_col0\" class=\"data row21 col0\" >NeuralNetTorch_r87_BAG_L1_PSEUDO</td>\n",
       "      <td id=\"T_4b948_row21_col1\" class=\"data row21 col1\" >0.896699</td>\n",
       "      <td id=\"T_4b948_row21_col2\" class=\"data row21 col2\" >roc_auc</td>\n",
       "      <td id=\"T_4b948_row21_col3\" class=\"data row21 col3\" >0.138641</td>\n",
       "      <td id=\"T_4b948_row21_col4\" class=\"data row21 col4\" >44.907462</td>\n",
       "      <td id=\"T_4b948_row21_col5\" class=\"data row21 col5\" >0.138641</td>\n",
       "      <td id=\"T_4b948_row21_col6\" class=\"data row21 col6\" >44.907462</td>\n",
       "      <td id=\"T_4b948_row21_col7\" class=\"data row21 col7\" >1</td>\n",
       "      <td id=\"T_4b948_row21_col8\" class=\"data row21 col8\" >True</td>\n",
       "      <td id=\"T_4b948_row21_col9\" class=\"data row21 col9\" >295</td>\n",
       "    </tr>\n",
       "    <tr>\n",
       "      <th id=\"T_4b948_level0_row22\" class=\"row_heading level0 row22\" >192</th>\n",
       "      <td id=\"T_4b948_row22_col0\" class=\"data row22 col0\" >NeuralNetFastAI_r102_BAG_L1</td>\n",
       "      <td id=\"T_4b948_row22_col1\" class=\"data row22 col1\" >0.895684</td>\n",
       "      <td id=\"T_4b948_row22_col2\" class=\"data row22 col2\" >roc_auc</td>\n",
       "      <td id=\"T_4b948_row22_col3\" class=\"data row22 col3\" >0.334928</td>\n",
       "      <td id=\"T_4b948_row22_col4\" class=\"data row22 col4\" >70.077164</td>\n",
       "      <td id=\"T_4b948_row22_col5\" class=\"data row22 col5\" >0.334928</td>\n",
       "      <td id=\"T_4b948_row22_col6\" class=\"data row22 col6\" >70.077164</td>\n",
       "      <td id=\"T_4b948_row22_col7\" class=\"data row22 col7\" >1</td>\n",
       "      <td id=\"T_4b948_row22_col8\" class=\"data row22 col8\" >True</td>\n",
       "      <td id=\"T_4b948_row22_col9\" class=\"data row22 col9\" >25</td>\n",
       "    </tr>\n",
       "    <tr>\n",
       "      <th id=\"T_4b948_level0_row23\" class=\"row_heading level0 row23\" >215</th>\n",
       "      <td id=\"T_4b948_row23_col0\" class=\"data row23 col0\" >NeuralNetTorch_r135_BAG_L1</td>\n",
       "      <td id=\"T_4b948_row23_col1\" class=\"data row23 col1\" >0.895062</td>\n",
       "      <td id=\"T_4b948_row23_col2\" class=\"data row23 col2\" >roc_auc</td>\n",
       "      <td id=\"T_4b948_row23_col3\" class=\"data row23 col3\" >0.127105</td>\n",
       "      <td id=\"T_4b948_row23_col4\" class=\"data row23 col4\" >40.210073</td>\n",
       "      <td id=\"T_4b948_row23_col5\" class=\"data row23 col5\" >0.127105</td>\n",
       "      <td id=\"T_4b948_row23_col6\" class=\"data row23 col6\" >40.210073</td>\n",
       "      <td id=\"T_4b948_row23_col7\" class=\"data row23 col7\" >1</td>\n",
       "      <td id=\"T_4b948_row23_col8\" class=\"data row23 col8\" >True</td>\n",
       "      <td id=\"T_4b948_row23_col9\" class=\"data row23 col9\" >98</td>\n",
       "    </tr>\n",
       "    <tr>\n",
       "      <th id=\"T_4b948_level0_row24\" class=\"row_heading level0 row24\" >226</th>\n",
       "      <td id=\"T_4b948_row24_col0\" class=\"data row24 col0\" >NeuralNetTorch_r14_BAG_L1</td>\n",
       "      <td id=\"T_4b948_row24_col1\" class=\"data row24 col1\" >0.894833</td>\n",
       "      <td id=\"T_4b948_row24_col2\" class=\"data row24 col2\" >roc_auc</td>\n",
       "      <td id=\"T_4b948_row24_col3\" class=\"data row24 col3\" >0.114724</td>\n",
       "      <td id=\"T_4b948_row24_col4\" class=\"data row24 col4\" >31.866133</td>\n",
       "      <td id=\"T_4b948_row24_col5\" class=\"data row24 col5\" >0.114724</td>\n",
       "      <td id=\"T_4b948_row24_col6\" class=\"data row24 col6\" >31.866133</td>\n",
       "      <td id=\"T_4b948_row24_col7\" class=\"data row24 col7\" >1</td>\n",
       "      <td id=\"T_4b948_row24_col8\" class=\"data row24 col8\" >True</td>\n",
       "      <td id=\"T_4b948_row24_col9\" class=\"data row24 col9\" >40</td>\n",
       "    </tr>\n",
       "  </tbody>\n",
       "</table>\n"
      ],
      "text/plain": [
       "<pandas.io.formats.style.Styler at 0x7ba79935b010>"
      ]
     },
     "execution_count": 10,
     "metadata": {},
     "output_type": "execute_result"
    }
   ],
   "source": [
    "predictor.leaderboard(silent=True)[predictor.leaderboard(silent=True).model.isin(selected_models)].style.background_gradient(subset=['score_val'], cmap='RdYlGn')"
   ]
  },
  {
   "cell_type": "markdown",
   "id": "e3fb8715",
   "metadata": {
    "papermill": {
     "duration": 0.140004,
     "end_time": "2025-03-13T20:47:28.548189",
     "exception": false,
     "start_time": "2025-03-13T20:47:28.408185",
     "status": "completed"
    },
    "tags": []
   },
   "source": [
    "# Collecting and saving OOF files"
   ]
  },
  {
   "cell_type": "code",
   "execution_count": 11,
   "id": "781eedf0",
   "metadata": {
    "execution": {
     "iopub.execute_input": "2025-03-13T20:47:28.878112Z",
     "iopub.status.busy": "2025-03-13T20:47:28.877809Z",
     "iopub.status.idle": "2025-03-13T20:47:28.883345Z",
     "shell.execute_reply": "2025-03-13T20:47:28.882524Z"
    },
    "papermill": {
     "duration": 0.157822,
     "end_time": "2025-03-13T20:47:28.884619",
     "exception": false,
     "start_time": "2025-03-13T20:47:28.726797",
     "status": "completed"
    },
    "tags": []
   },
   "outputs": [],
   "source": [
    "def save_pred_probs(pred_probs, cv_score, name, type, is_ensemble):\n",
    "    base_path = 'oof_pred_probs' if type == 'oof' else 'test_pred_probs'\n",
    "    base_path = '.' if is_ensemble else base_path\n",
    "    with open(f'{base_path}/{name}_{type}_pred_probs_{cv_score:.6f}.pkl', 'wb') as f:\n",
    "        pickle.dump(pred_probs, f)\n",
    "\n",
    "def save_submission(test_pred_probs, score):\n",
    "    sub = pd.read_csv(CFG.sample_sub_path)\n",
    "    sub[CFG.target] = test_pred_probs\n",
    "    sub.to_csv(f'sub_autogluon_{score:.6f}.csv', index=False)\n",
    "    \n",
    "os.makedirs('oof_pred_probs', exist_ok=True)\n",
    "os.makedirs('test_pred_probs', exist_ok=True)"
   ]
  },
  {
   "cell_type": "code",
   "execution_count": 12,
   "id": "d4096f23",
   "metadata": {
    "execution": {
     "iopub.execute_input": "2025-03-13T20:47:29.227747Z",
     "iopub.status.busy": "2025-03-13T20:47:29.227399Z",
     "iopub.status.idle": "2025-03-13T20:47:29.230974Z",
     "shell.execute_reply": "2025-03-13T20:47:29.230192Z"
    },
    "papermill": {
     "duration": 0.174842,
     "end_time": "2025-03-13T20:47:29.232254",
     "exception": false,
     "start_time": "2025-03-13T20:47:29.057412",
     "status": "completed"
    },
    "tags": []
   },
   "outputs": [],
   "source": [
    "oof_pred_probs = {}\n",
    "test_pred_probs = {}"
   ]
  },
  {
   "cell_type": "code",
   "execution_count": 13,
   "id": "dcd9262d",
   "metadata": {
    "_kg_hide-output": true,
    "execution": {
     "iopub.execute_input": "2025-03-13T20:47:29.514809Z",
     "iopub.status.busy": "2025-03-13T20:47:29.514393Z",
     "iopub.status.idle": "2025-03-13T20:52:57.916927Z",
     "shell.execute_reply": "2025-03-13T20:52:57.916188Z"
    },
    "papermill": {
     "duration": 328.545515,
     "end_time": "2025-03-13T20:52:57.918630",
     "exception": false,
     "start_time": "2025-03-13T20:47:29.373115",
     "status": "completed"
    },
    "tags": []
   },
   "outputs": [
    {
     "name": "stderr",
     "output_type": "stream",
     "text": [
      "INFO:sklearnex: sklearn.neighbors.KNeighborsClassifier.predict_proba: running accelerated version on CPU\n",
      "INFO:sklearnex: sklearn.neighbors.KNeighborsClassifier.predict_proba: running accelerated version on CPU\n",
      "INFO:sklearnex: sklearn.neighbors.KNeighborsClassifier.predict_proba: running accelerated version on CPU\n",
      "INFO:sklearnex: sklearn.neighbors.KNeighborsClassifier.predict_proba: running accelerated version on CPU\n",
      "INFO:sklearnex: sklearn.neighbors.KNeighborsClassifier.predict_proba: running accelerated version on CPU\n",
      "INFO:sklearnex: sklearn.neighbors.KNeighborsClassifier.predict_proba: running accelerated version on CPU\n",
      "INFO:sklearnex: sklearn.neighbors.KNeighborsClassifier.predict_proba: running accelerated version on CPU\n",
      "INFO:sklearnex: sklearn.neighbors.KNeighborsClassifier.predict_proba: running accelerated version on CPU\n",
      "INFO:sklearnex: sklearn.neighbors.KNeighborsClassifier.predict_proba: running accelerated version on CPU\n",
      "INFO:sklearnex: sklearn.neighbors.KNeighborsClassifier.predict_proba: running accelerated version on CPU\n",
      "INFO:sklearnex: sklearn.neighbors.KNeighborsClassifier.predict_proba: running accelerated version on CPU\n",
      "INFO:sklearnex: sklearn.neighbors.KNeighborsClassifier.predict_proba: running accelerated version on CPU\n",
      "INFO:sklearnex: sklearn.neighbors.KNeighborsClassifier.predict_proba: running accelerated version on CPU\n",
      "INFO:sklearnex: sklearn.neighbors.KNeighborsClassifier.predict_proba: running accelerated version on CPU\n",
      "INFO:sklearnex: sklearn.neighbors.KNeighborsClassifier.predict_proba: running accelerated version on CPU\n",
      "INFO:sklearnex: sklearn.neighbors.KNeighborsClassifier.predict_proba: running accelerated version on CPU\n",
      "INFO:sklearnex: sklearn.neighbors.KNeighborsClassifier.predict_proba: running accelerated version on CPU\n",
      "INFO:sklearnex: sklearn.neighbors.KNeighborsClassifier.predict_proba: running accelerated version on CPU\n",
      "INFO:sklearnex: sklearn.neighbors.KNeighborsClassifier.predict_proba: running accelerated version on CPU\n",
      "INFO:sklearnex: sklearn.neighbors.KNeighborsClassifier.predict_proba: running accelerated version on CPU\n",
      "INFO:sklearnex: sklearn.neighbors.KNeighborsClassifier.predict_proba: running accelerated version on CPU\n",
      "INFO:sklearnex: sklearn.neighbors.KNeighborsClassifier.predict_proba: running accelerated version on CPU\n",
      "INFO:sklearnex: sklearn.neighbors.KNeighborsClassifier.predict_proba: running accelerated version on CPU\n",
      "INFO:sklearnex: sklearn.neighbors.KNeighborsClassifier.predict_proba: running accelerated version on CPU\n",
      "INFO:sklearnex: sklearn.neighbors.KNeighborsClassifier.predict_proba: running accelerated version on CPU\n",
      "INFO:sklearnex: sklearn.neighbors.KNeighborsClassifier.predict_proba: running accelerated version on CPU\n",
      "INFO:sklearnex: sklearn.neighbors.KNeighborsClassifier.predict_proba: running accelerated version on CPU\n",
      "INFO:sklearnex: sklearn.neighbors.KNeighborsClassifier.predict_proba: running accelerated version on CPU\n",
      "INFO:sklearnex: sklearn.neighbors.KNeighborsClassifier.predict_proba: running accelerated version on CPU\n",
      "INFO:sklearnex: sklearn.neighbors.KNeighborsClassifier.predict_proba: running accelerated version on CPU\n",
      "INFO:sklearnex: sklearn.neighbors.KNeighborsClassifier.predict_proba: running accelerated version on CPU\n",
      "INFO:sklearnex: sklearn.neighbors.KNeighborsClassifier.predict_proba: running accelerated version on CPU\n",
      "INFO:sklearnex: sklearn.neighbors.KNeighborsClassifier.predict_proba: running accelerated version on CPU\n",
      "INFO:sklearnex: sklearn.neighbors.KNeighborsClassifier.predict_proba: running accelerated version on CPU\n",
      "INFO:sklearnex: sklearn.neighbors.KNeighborsClassifier.predict_proba: running accelerated version on CPU\n",
      "INFO:sklearnex: sklearn.neighbors.KNeighborsClassifier.predict_proba: running accelerated version on CPU\n",
      "INFO:sklearnex: sklearn.neighbors.KNeighborsClassifier.predict_proba: running accelerated version on CPU\n",
      "INFO:sklearnex: sklearn.neighbors.KNeighborsClassifier.predict_proba: running accelerated version on CPU\n",
      "INFO:sklearnex: sklearn.neighbors.KNeighborsClassifier.predict_proba: running accelerated version on CPU\n",
      "INFO:sklearnex: sklearn.neighbors.KNeighborsClassifier.predict_proba: running accelerated version on CPU\n"
     ]
    }
   ],
   "source": [
    "overall_scores = {}\n",
    "best_model = predictor.model_best\n",
    "test_pred_probs = predictor.predict_proba_multi(test)\n",
    "for model in predictor.model_names():\n",
    "    model_oof_pred_probs = predictor.predict_proba_oof(model).values[:, 1]\n",
    "    model_test_pred_probs = test_pred_probs[model].values[:, 1]\n",
    "    \n",
    "    cv_score = roc_auc_score(train[CFG.target], model_oof_pred_probs)\n",
    "    overall_scores[model] = cv_score\n",
    "    \n",
    "    if model != best_model:\n",
    "        save_pred_probs(model_oof_pred_probs, cv_score, model, 'oof', False)\n",
    "        save_pred_probs(model_test_pred_probs, cv_score, model, 'test', False)\n",
    "    else:\n",
    "        save_pred_probs(model_oof_pred_probs, cv_score, model, 'oof', True)\n",
    "        save_pred_probs(model_test_pred_probs, cv_score, model, 'test', True)\n",
    "        save_submission(model_test_pred_probs, cv_score)\n",
    "        \n",
    "    oof_pred_probs[model] = model_oof_pred_probs\n",
    "    test_pred_probs[model] = model_test_pred_probs"
   ]
  },
  {
   "cell_type": "markdown",
   "id": "3a226b24",
   "metadata": {
    "papermill": {
     "duration": 0.139816,
     "end_time": "2025-03-13T20:52:58.201212",
     "exception": false,
     "start_time": "2025-03-13T20:52:58.061396",
     "status": "completed"
    },
    "tags": []
   },
   "source": [
    "# Visualizing the results"
   ]
  },
  {
   "cell_type": "code",
   "execution_count": 14,
   "id": "7d8bdf6b",
   "metadata": {
    "execution": {
     "iopub.execute_input": "2025-03-13T20:52:58.482567Z",
     "iopub.status.busy": "2025-03-13T20:52:58.482270Z",
     "iopub.status.idle": "2025-03-13T20:53:06.412270Z",
     "shell.execute_reply": "2025-03-13T20:53:06.411130Z"
    },
    "papermill": {
     "duration": 8.072368,
     "end_time": "2025-03-13T20:53:06.414511",
     "exception": false,
     "start_time": "2025-03-13T20:52:58.342143",
     "status": "completed"
    },
    "tags": []
   },
   "outputs": [],
   "source": [
    "scores = {}\n",
    "split = StratifiedKFold(n_splits=CFG.n_folds, random_state=CFG.seed, shuffle=True).split(train, train[CFG.target])\n",
    "for fold_idx, (train_index, val_index) in enumerate(split):\n",
    "    for model in predictor.model_names():\n",
    "        fold_score = roc_auc_score(train.loc[val_index, CFG.target], oof_pred_probs[model][val_index])\n",
    "        if model not in scores:\n",
    "            scores[model] = []\n",
    "        scores[model].append(fold_score)"
   ]
  },
  {
   "cell_type": "code",
   "execution_count": 15,
   "id": "c22198d0",
   "metadata": {
    "execution": {
     "iopub.execute_input": "2025-03-13T20:53:06.715037Z",
     "iopub.status.busy": "2025-03-13T20:53:06.714737Z",
     "iopub.status.idle": "2025-03-13T20:53:07.560159Z",
     "shell.execute_reply": "2025-03-13T20:53:07.559158Z"
    },
    "papermill": {
     "duration": 0.996117,
     "end_time": "2025-03-13T20:53:07.564347",
     "exception": false,
     "start_time": "2025-03-13T20:53:06.568230",
     "status": "completed"
    },
    "tags": []
   },
   "outputs": [
    {
     "data": {
      "image/png": "[encoded data removed]",
      "text/plain": [
       "<Figure size 1500x300 with 2 Axes>"
      ]
     },
     "metadata": {},
     "output_type": "display_data"
    }
   ],
   "source": [
    "scores_df = pd.DataFrame(scores)[selected_models]\n",
    "overall_scores_series = pd.Series({k: v for k, v in overall_scores.items()})[selected_models]\n",
    "order = overall_scores_series.sort_values(ascending=False).index.tolist()\n",
    "\n",
    "min_score = min(scores_df.min().min(), overall_scores_series.min())\n",
    "max_score = max(scores_df.max().max(), overall_scores_series.max())\n",
    "padding = (max_score - min_score) * 0.5\n",
    "lower_limit = min_score - padding\n",
    "upper_limit = max_score + padding\n",
    "\n",
    "fig, axs = plt.subplots(1, 2, figsize=(15, len(scores_df) * 0.3))\n",
    "\n",
    "sns.boxplot(data=scores_df, order=order, ax=axs[0], orient=\"h\", palette=\"RdYlGn_r\")\n",
    "axs[0].set_title(\"Fold ROC AUC\")\n",
    "axs[0].set_xlabel(\"\")\n",
    "axs[0].set_ylabel(\"\")\n",
    "\n",
    "barplot = sns.barplot(x=overall_scores_series, y=overall_scores_series.index, ax=axs[1], palette=\"RdYlGn_r\", order=order)\n",
    "axs[1].set_title(\"Overall ROC AUC\")\n",
    "axs[1].set_xlabel(\"\")\n",
    "axs[1].set_xlim(left=lower_limit, right=upper_limit)\n",
    "axs[1].set_ylabel(\"\")\n",
    "\n",
    "for i, score in enumerate(overall_scores_series[order]):\n",
    "    barplot.text(score, i, f\"{score:.6f}\", va=\"center\")\n",
    "\n",
    "plt.tight_layout()\n",
    "plt.show()"
   ]
  }
 ],
 "metadata": {
  "kaggle": {
   "accelerator": "gpu",
   "dataSources": [
    {
     "databundleVersionId": 11251744,
     "isSourceIdPinned": false,
     "sourceId": 91714,
     "sourceType": "competition"
    },
    {
     "datasetId": 5651545,
     "sourceId": 9328134,
     "sourceType": "datasetVersion"
    },
    {
     "datasetId": 6808865,
     "sourceId": 10950387,
     "sourceType": "datasetVersion"
    }
   ],
   "dockerImageVersionId": 30918,
   "isGpuEnabled": true,
   "isInternetEnabled": true,
   "language": "python",
   "sourceType": "notebook"
  },
  "kernelspec": {
   "display_name": "Python 3",
   "language": "python",
   "name": "python3"
  },
  "language_info": {
   "codemirror_mode": {
    "name": "ipython",
    "version": 3
   },
   "file_extension": ".py",
   "mimetype": "text/x-python",
   "name": "python",
   "nbconvert_exporter": "python",
   "pygments_lexer": "ipython3",
   "version": "3.10.12"
  },
  "papermill": {
   "default_parameters": {},
   "duration": 34315.886391,
   "end_time": "2025-03-13T20:53:10.472378",
   "environment_variables": {},
   "exception": null,
   "input_path": "__notebook__.ipynb",
   "output_path": "__notebook__.ipynb",
   "parameters": {},
   "start_time": "2025-03-13T11:21:14.585987",
   "version": "2.6.0"
  }
 },
 "nbformat": 4,
 "nbformat_minor": 5
}
