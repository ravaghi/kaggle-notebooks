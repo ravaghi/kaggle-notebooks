{
 "cells": [
  {
   "cell_type": "markdown",
   "id": "d1b01725",
   "metadata": {
    "papermill": {
     "duration": 0.011504,
     "end_time": "2025-03-10T15:59:39.590965",
     "exception": false,
     "start_time": "2025-03-10T15:59:39.579461",
     "status": "completed"
    },
    "tags": []
   },
   "source": [
    "# Imports and configs"
   ]
  },
  {
   "cell_type": "code",
   "execution_count": 1,
   "id": "5eb85643",
   "metadata": {
    "execution": {
     "iopub.execute_input": "2025-03-10T15:59:39.613112Z",
     "iopub.status.busy": "2025-03-10T15:59:39.612619Z",
     "iopub.status.idle": "2025-03-10T15:59:55.117799Z",
     "shell.execute_reply": "2025-03-10T15:59:55.116593Z"
    },
    "papermill": {
     "duration": 15.519379,
     "end_time": "2025-03-10T15:59:55.119916",
     "exception": false,
     "start_time": "2025-03-10T15:59:39.600537",
     "status": "completed"
    },
    "tags": []
   },
   "outputs": [],
   "source": [
    "from sklearn.ensemble import RandomForestClassifier, ExtraTreesClassifier, HistGradientBoostingClassifier, GradientBoostingClassifier, AdaBoostClassifier\n",
    "from sklearn.linear_model import LogisticRegression, Ridge\n",
    "from sklearn.model_selection import StratifiedKFold\n",
    "from sklearn.metrics import roc_auc_score\n",
    "from sklearn.base import clone\n",
    "from autogluon.tabular import TabularPredictor\n",
    "from catboost import CatBoostClassifier\n",
    "from lightgbm import LGBMClassifier\n",
    "from tabpfn import TabPFNClassifier\n",
    "from xgboost import XGBClassifier\n",
    "from scipy.special import logit\n",
    "import matplotlib.pyplot as plt\n",
    "import seaborn as sns\n",
    "import pandas as pd\n",
    "import numpy as np\n",
    "import warnings\n",
    "import pickle\n",
    "import shutil\n",
    "import optuna\n",
    "import glob\n",
    "import json\n",
    "import os\n",
    "import gc\n",
    "\n",
    "warnings.filterwarnings(\"ignore\")"
   ]
  },
  {
   "cell_type": "code",
   "execution_count": 2,
   "id": "fe65618f",
   "metadata": {
    "execution": {
     "iopub.execute_input": "2025-03-10T15:59:55.135627Z",
     "iopub.status.busy": "2025-03-10T15:59:55.134903Z",
     "iopub.status.idle": "2025-03-10T15:59:55.140047Z",
     "shell.execute_reply": "2025-03-10T15:59:55.138954Z"
    },
    "papermill": {
     "duration": 0.014703,
     "end_time": "2025-03-10T15:59:55.141843",
     "exception": false,
     "start_time": "2025-03-10T15:59:55.127140",
     "status": "completed"
    },
    "tags": []
   },
   "outputs": [],
   "source": [
    "class CFG:\n",
    "    train_path = \"/kaggle/input/playground-series-s5e3/train.csv\"\n",
    "    test_path = \"/kaggle/input/playground-series-s5e3/test.csv\"\n",
    "    sample_sub_path = \"/kaggle/input/playground-series-s5e3/sample_submission.csv\"\n",
    "    \n",
    "    target = \"rainfall\"\n",
    "    n_folds = 5\n",
    "    seed = 42\n",
    "    \n",
    "    run_optuna = True\n",
    "    optuna_trials = 250"
   ]
  },
  {
   "cell_type": "markdown",
   "id": "3aaff582",
   "metadata": {
    "papermill": {
     "duration": 0.006039,
     "end_time": "2025-03-10T15:59:55.154555",
     "exception": false,
     "start_time": "2025-03-10T15:59:55.148516",
     "status": "completed"
    },
    "tags": []
   },
   "source": [
    "# Data loading and preprocessing"
   ]
  },
  {
   "cell_type": "code",
   "execution_count": 3,
   "id": "3ba819f1",
   "metadata": {
    "execution": {
     "iopub.execute_input": "2025-03-10T15:59:55.169118Z",
     "iopub.status.busy": "2025-03-10T15:59:55.168640Z",
     "iopub.status.idle": "2025-03-10T15:59:55.219265Z",
     "shell.execute_reply": "2025-03-10T15:59:55.217982Z"
    },
    "papermill": {
     "duration": 0.060494,
     "end_time": "2025-03-10T15:59:55.221364",
     "exception": false,
     "start_time": "2025-03-10T15:59:55.160870",
     "status": "completed"
    },
    "tags": []
   },
   "outputs": [],
   "source": [
    "train = pd.read_csv(CFG.train_path, index_col=\"id\")\n",
    "test = pd.read_csv(CFG.test_path, index_col=\"id\")\n",
    "\n",
    "test[\"winddirection\"] = test[\"winddirection\"].fillna(test[\"winddirection\"].median())"
   ]
  },
  {
   "cell_type": "code",
   "execution_count": 4,
   "id": "2003d936",
   "metadata": {
    "execution": {
     "iopub.execute_input": "2025-03-10T15:59:55.236401Z",
     "iopub.status.busy": "2025-03-10T15:59:55.235966Z",
     "iopub.status.idle": "2025-03-10T15:59:55.246423Z",
     "shell.execute_reply": "2025-03-10T15:59:55.245192Z"
    },
    "papermill": {
     "duration": 0.020191,
     "end_time": "2025-03-10T15:59:55.248381",
     "exception": false,
     "start_time": "2025-03-10T15:59:55.228190",
     "status": "completed"
    },
    "tags": []
   },
   "outputs": [],
   "source": [
    "X = train.drop(CFG.target, axis=1)\n",
    "y = train[CFG.target]\n",
    "X_test = test.copy()"
   ]
  },
  {
   "cell_type": "markdown",
   "id": "836ea903",
   "metadata": {
    "papermill": {
     "duration": 0.006656,
     "end_time": "2025-03-10T15:59:55.262288",
     "exception": false,
     "start_time": "2025-03-10T15:59:55.255632",
     "status": "completed"
    },
    "tags": []
   },
   "source": [
    "# Training base models"
   ]
  },
  {
   "cell_type": "code",
   "execution_count": 5,
   "id": "56f17c28",
   "metadata": {
    "execution": {
     "iopub.execute_input": "2025-03-10T15:59:55.278530Z",
     "iopub.status.busy": "2025-03-10T15:59:55.278084Z",
     "iopub.status.idle": "2025-03-10T15:59:55.296062Z",
     "shell.execute_reply": "2025-03-10T15:59:55.294472Z"
    },
    "papermill": {
     "duration": 0.028136,
     "end_time": "2025-03-10T15:59:55.298101",
     "exception": false,
     "start_time": "2025-03-10T15:59:55.269965",
     "status": "completed"
    },
    "tags": []
   },
   "outputs": [],
   "source": [
    "class Trainer:\n",
    "    def __init__(self, model, config=CFG, is_ensemble_model=False):\n",
    "        self.model = model\n",
    "        self.config = config\n",
    "        self.is_ensemble_model = is_ensemble_model\n",
    "\n",
    "    def fit_predict(self, X, y, X_test, X_original=None, y_original=None):\n",
    "        print(f\"Training {self.model.__class__.__name__}\\n\")\n",
    "        \n",
    "        scores = []        \n",
    "        coeffs = np.zeros((1, X.shape[1]))\n",
    "        oof_pred_probs = np.zeros(X.shape[0])\n",
    "        test_pred_probs = np.zeros(X_test.shape[0])\n",
    "        \n",
    "        skf = StratifiedKFold(n_splits=self.config.n_folds, random_state=self.config.seed, shuffle=True)\n",
    "        for fold_idx, (train_idx, val_idx) in enumerate(skf.split(X, y)):\n",
    "            X_train, X_val = X.iloc[train_idx], X.iloc[val_idx]\n",
    "            y_train, y_val = y[train_idx], y[val_idx]\n",
    "            \n",
    "            if X_original is not None and y_original is not None:                            \n",
    "                X_train = pd.concat([X_train, X_original], ignore_index=True)\n",
    "                y_train = pd.concat([y_train, y_original], ignore_index=True)\n",
    "            \n",
    "            model = clone(self.model)\n",
    "            model.fit(X_train, y_train)\n",
    "            \n",
    "            if self.is_ensemble_model:\n",
    "                coeffs += model.coef_ / self.config.n_folds\n",
    "                if isinstance(self.model, LogisticRegression):\n",
    "                    n_iters = model.n_iter_[0]\n",
    "            \n",
    "            y_pred_probs = model.predict(X_val) if isinstance(self.model, Ridge) else model.predict_proba(X_val)[: ,1]\n",
    "            oof_pred_probs[val_idx] = y_pred_probs \n",
    "            \n",
    "            temp_test_pred_probs = model.predict(X_test) if isinstance(self.model, Ridge) else model.predict_proba(X_test)[:, 1]\n",
    "            test_pred_probs += temp_test_pred_probs / self.config.n_folds\n",
    "            \n",
    "            score = roc_auc_score(y_val, y_pred_probs)\n",
    "            scores.append(score)\n",
    "            \n",
    "            del model, X_train, y_train, X_val, y_val, y_pred_probs\n",
    "            gc.collect()\n",
    "            \n",
    "            if self.is_ensemble_model and isinstance(self.model, LogisticRegression):\n",
    "                print(f\"--- Fold {fold_idx + 1} - ROC AUC: {score:.6f} ({n_iters} iterations)\")\n",
    "            else:\n",
    "                print(f\"--- Fold {fold_idx + 1} - ROC AUC: {score:.6f}\")\n",
    "            \n",
    "        overall_score = roc_auc_score(y, oof_pred_probs)\n",
    "            \n",
    "        print(f\"\\n------ Overall: {overall_score:.6f} | Average: {np.mean(scores):.6f} ± {np.std(scores):.6f}\")\n",
    "        \n",
    "        if self.is_ensemble_model:\n",
    "            return oof_pred_probs, test_pred_probs, scores, coeffs\n",
    "        else:\n",
    "            os.makedirs(\"oof_pred_probs\", exist_ok=True)\n",
    "            os.makedirs(\"test_pred_probs\", exist_ok=True)\n",
    "            self._save_pred_probs(oof_pred_probs, np.mean(scores), \"oof\")\n",
    "            self._save_pred_probs(test_pred_probs, np.mean(scores), \"test\")\n",
    "            return oof_pred_probs, test_pred_probs, scores\n",
    "        \n",
    "    def tune(self, X, y):        \n",
    "        scores = []        \n",
    "        skf = StratifiedKFold(n_splits=self.config.n_folds, random_state=self.config.seed, shuffle=True)\n",
    "        for fold_idx, (train_idx, val_idx) in enumerate(skf.split(X, y)):\n",
    "            X_train, X_val = X.iloc[train_idx], X.iloc[val_idx]\n",
    "            y_train, y_val = y[train_idx], y[val_idx]\n",
    "            \n",
    "            model = clone(self.model)\n",
    "            model.fit(X_train, y_train)\n",
    "            \n",
    "            y_pred_probs = model.predict(X_val) if isinstance(self.model, Ridge) else model.predict_proba(X_val)[: ,1]\n",
    "            score = roc_auc_score(y_val, y_pred_probs)\n",
    "            scores.append(score)\n",
    "            \n",
    "            del model, X_train, y_train, X_val, y_val, y_pred_probs\n",
    "            gc.collect()\n",
    "            \n",
    "        return np.mean(scores)\n",
    "        \n",
    "    def _save_pred_probs(self, pred_probs, cv_score, name):\n",
    "        model_name = self.model.__class__.__name__.lower().replace(\"classifier\", \"\")\n",
    "        with open(f\"{name}_pred_probs/{model_name}_{name}_pred_probs_{cv_score:.6f}.pkl\", \"wb\") as f:\n",
    "            pickle.dump(pred_probs, f)"
   ]
  },
  {
   "cell_type": "code",
   "execution_count": 6,
   "id": "278e4817",
   "metadata": {
    "execution": {
     "iopub.execute_input": "2025-03-10T15:59:55.314608Z",
     "iopub.status.busy": "2025-03-10T15:59:55.314133Z",
     "iopub.status.idle": "2025-03-10T15:59:55.319240Z",
     "shell.execute_reply": "2025-03-10T15:59:55.318097Z"
    },
    "papermill": {
     "duration": 0.015463,
     "end_time": "2025-03-10T15:59:55.321156",
     "exception": false,
     "start_time": "2025-03-10T15:59:55.305693",
     "status": "completed"
    },
    "tags": []
   },
   "outputs": [],
   "source": [
    "def save_submission(name, test_pred_probs, score):\n",
    "    sub = pd.read_csv(CFG.sample_sub_path)\n",
    "    sub[CFG.target] = test_pred_probs\n",
    "    sub.to_csv(f\"sub_{name}_{score:.6f}.csv\", index=False)\n",
    "    return sub.head()"
   ]
  },
  {
   "cell_type": "code",
   "execution_count": 7,
   "id": "ed069fa3",
   "metadata": {
    "execution": {
     "iopub.execute_input": "2025-03-10T15:59:55.336640Z",
     "iopub.status.busy": "2025-03-10T15:59:55.336232Z",
     "iopub.status.idle": "2025-03-10T15:59:55.341148Z",
     "shell.execute_reply": "2025-03-10T15:59:55.339897Z"
    },
    "papermill": {
     "duration": 0.01465,
     "end_time": "2025-03-10T15:59:55.342858",
     "exception": false,
     "start_time": "2025-03-10T15:59:55.328208",
     "status": "completed"
    },
    "tags": []
   },
   "outputs": [],
   "source": [
    "scores = {}\n",
    "oof_pred_probs = {}\n",
    "test_pred_probs = {}"
   ]
  },
  {
   "cell_type": "code",
   "execution_count": 8,
   "id": "0e59c6b5",
   "metadata": {
    "_kg_hide-input": true,
    "execution": {
     "iopub.execute_input": "2025-03-10T15:59:55.358167Z",
     "iopub.status.busy": "2025-03-10T15:59:55.357687Z",
     "iopub.status.idle": "2025-03-10T15:59:55.368478Z",
     "shell.execute_reply": "2025-03-10T15:59:55.367486Z"
    },
    "papermill": {
     "duration": 0.02058,
     "end_time": "2025-03-10T15:59:55.370496",
     "exception": false,
     "start_time": "2025-03-10T15:59:55.349916",
     "status": "completed"
    },
    "tags": []
   },
   "outputs": [],
   "source": [
    "xgb_params = {\n",
    "    \"colsample_bylevel\": 0.5759002656759072,\n",
    "    \"colsample_bynode\": 0.42460592745733416,\n",
    "    \"colsample_bytree\": 0.6681903658062955,\n",
    "    \"gamma\": 1.6606282492625313,\n",
    "    \"learning_rate\": 0.05197817807184489,\n",
    "    \"max_depth\": 177,\n",
    "    \"max_leaves\": 208,\n",
    "    \"min_child_weight\": 3,\n",
    "    \"n_estimators\": 3373,\n",
    "    \"n_jobs\": -1,\n",
    "    \"random_state\": 42,\n",
    "    \"reg_alpha\": 3.647027988459395,\n",
    "    \"reg_lambda\": 9.48338781598732,\n",
    "    \"subsample\": 0.903408474763426,\n",
    "    \"verbosity\": 0\n",
    "}\n",
    "\n",
    "lgbm_params = {\n",
    "    \"boosting_type\": \"gbdt\",\n",
    "    \"colsample_bytree\": 0.8476377775404691,\n",
    "    \"learning_rate\": 0.05535905415032254,\n",
    "    \"min_child_samples\": 94,\n",
    "    \"min_child_weight\": 0.7742412548324099,\n",
    "    \"n_estimators\": 293,\n",
    "    \"n_jobs\": -1,\n",
    "    \"num_leaves\": 409,\n",
    "    \"random_state\": 42,\n",
    "    \"reg_alpha\": 10.371296888060456,\n",
    "    \"reg_lambda\": 28.33161504781989,\n",
    "    \"subsample\": 0.28341373258437474,\n",
    "    \"verbose\": -1\n",
    "}\n",
    "\n",
    "lgbm_goss_params = {\n",
    "    \"boosting_type\": \"goss\",\n",
    "    \"colsample_bytree\": 0.8208408104268429,\n",
    "    \"learning_rate\": 0.04530694055021972,\n",
    "    \"min_child_samples\": 53,\n",
    "    \"min_child_weight\": 0.9986857129449946,\n",
    "    \"n_estimators\": 260,\n",
    "    \"n_jobs\": -1,\n",
    "    \"num_leaves\": 20,\n",
    "    \"random_state\": 42,\n",
    "    \"reg_alpha\": 2.522154852594183,\n",
    "    \"reg_lambda\": 72.61906225209607,\n",
    "    \"subsample\": 0.8052111283468785,\n",
    "    \"verbose\": -1\n",
    "}\n",
    "\n",
    "cb_params = {\n",
    "    \"border_count\": 181,\n",
    "    \"colsample_bylevel\": 0.5017762060861627,\n",
    "    \"depth\": 5,\n",
    "    \"iterations\": 417,\n",
    "    \"l2_leaf_reg\": 97.619408459123,\n",
    "    \"learning_rate\": 0.015603843064139295,\n",
    "    \"min_child_samples\": 438,\n",
    "    \"random_state\": 42,\n",
    "    \"random_strength\": 0.973489470246637,\n",
    "    \"subsample\": 0.2777982603536663,\n",
    "    \"verbose\": False\n",
    "}\n",
    "\n",
    "adb_params = {\n",
    "    \"learning_rate\": 0.02849860787991116,\n",
    "    \"n_estimators\": 421,\n",
    "    \"random_state\": 42\n",
    "}\n",
    "\n",
    "rf_params = {\n",
    "    \"min_samples_leaf\": 10,\n",
    "    \"min_samples_split\": 3,\n",
    "    \"n_estimators\": 248,\n",
    "    \"n_jobs\": -1,\n",
    "    \"random_state\": 42\n",
    "}\n",
    "\n",
    "et_params = {\n",
    "    \"class_weight\": None,\n",
    "    \"criterion\": \"entropy\",\n",
    "    \"min_samples_leaf\": 3,\n",
    "    \"min_samples_split\": 69,\n",
    "    \"n_estimators\": 1199,\n",
    "    \"random_state\": 42\n",
    "}\n",
    "\n",
    "histgb_params = {\n",
    "    \"l2_regularization\": 99.57362071334332,\n",
    "    \"learning_rate\": 0.08951727018193958,\n",
    "    \"max_depth\": 325,\n",
    "    \"max_iter\": 101,\n",
    "    \"max_leaf_nodes\": 238,\n",
    "    \"min_samples_leaf\": 80,\n",
    "    \"random_state\": 42\n",
    "}\n",
    "\n",
    "gb_params = {\n",
    "    \"learning_rate\": 0.014719110111196282,\n",
    "    \"max_depth\": 42,\n",
    "    \"max_features\": 0.785890517657601,\n",
    "    \"max_leaf_nodes\": 41,\n",
    "    \"min_samples_leaf\": 0.004529940310436742,\n",
    "    \"min_samples_split\": 0.01824257250689731,\n",
    "    \"min_weight_fraction_leaf\": 0.07901583438561444,\n",
    "    \"n_estimators\": 193,\n",
    "    \"random_state\": 42,\n",
    "    \"subsample\": 0.5689877287369915\n",
    "}\n",
    "\n",
    "lr_params = {\n",
    "  \"random_state\": 42,\n",
    "  \"max_iter\": 500,\n",
    "  \"C\": 32.07196413616409,\n",
    "  \"tol\": 0.004832450591427355,\n",
    "  \"fit_intercept\": True,\n",
    "  \"class_weight\": None,\n",
    "  \"solver\": \"newton-cholesky\",\n",
    "  \"penalty\": None\n",
    "}"
   ]
  },
  {
   "cell_type": "code",
   "execution_count": 9,
   "id": "cf051a59",
   "metadata": {
    "execution": {
     "iopub.execute_input": "2025-03-10T15:59:55.386376Z",
     "iopub.status.busy": "2025-03-10T15:59:55.385979Z",
     "iopub.status.idle": "2025-03-10T16:00:00.620940Z",
     "shell.execute_reply": "2025-03-10T16:00:00.619412Z"
    },
    "papermill": {
     "duration": 5.245216,
     "end_time": "2025-03-10T16:00:00.622974",
     "exception": false,
     "start_time": "2025-03-10T15:59:55.377758",
     "status": "completed"
    },
    "tags": []
   },
   "outputs": [
    {
     "name": "stdout",
     "output_type": "stream",
     "text": [
      "Training XGBClassifier\n",
      "\n",
      "--- Fold 1 - ROC AUC: 0.923737\n",
      "--- Fold 2 - ROC AUC: 0.857926\n",
      "--- Fold 3 - ROC AUC: 0.877441\n",
      "--- Fold 4 - ROC AUC: 0.908530\n",
      "--- Fold 5 - ROC AUC: 0.899355\n",
      "\n",
      "------ Overall: 0.892126 | Average: 0.893398 ± 0.023228\n"
     ]
    }
   ],
   "source": [
    "xgb_model = XGBClassifier(**xgb_params)\n",
    "xgb_trainer = Trainer(xgb_model)\n",
    "oof_pred_probs[\"XGBoost\"], test_pred_probs[\"XGBoost\"], scores[\"XGBoost\"] = xgb_trainer.fit_predict(X, y, X_test)"
   ]
  },
  {
   "cell_type": "code",
   "execution_count": 10,
   "id": "27b65ef5",
   "metadata": {
    "execution": {
     "iopub.execute_input": "2025-03-10T16:00:00.639891Z",
     "iopub.status.busy": "2025-03-10T16:00:00.639443Z",
     "iopub.status.idle": "2025-03-10T16:00:02.583216Z",
     "shell.execute_reply": "2025-03-10T16:00:02.582006Z"
    },
    "papermill": {
     "duration": 1.954686,
     "end_time": "2025-03-10T16:00:02.585237",
     "exception": false,
     "start_time": "2025-03-10T16:00:00.630551",
     "status": "completed"
    },
    "tags": []
   },
   "outputs": [
    {
     "name": "stdout",
     "output_type": "stream",
     "text": [
      "Training LGBMClassifier\n",
      "\n",
      "--- Fold 1 - ROC AUC: 0.926599\n",
      "--- Fold 2 - ROC AUC: 0.854938\n",
      "--- Fold 3 - ROC AUC: 0.873906\n",
      "--- Fold 4 - ROC AUC: 0.912724\n",
      "--- Fold 5 - ROC AUC: 0.904209\n",
      "\n",
      "------ Overall: 0.892497 | Average: 0.894475 ± 0.026253\n"
     ]
    }
   ],
   "source": [
    "lgbm_model = LGBMClassifier(**lgbm_params)\n",
    "lgbm_trainer = Trainer(lgbm_model)\n",
    "oof_pred_probs[\"LightGBM\"], test_pred_probs[\"LightGBM\"], scores[\"LightGBM\"] = lgbm_trainer.fit_predict(X, y, X_test)"
   ]
  },
  {
   "cell_type": "code",
   "execution_count": 11,
   "id": "5c3c8054",
   "metadata": {
    "execution": {
     "iopub.execute_input": "2025-03-10T16:00:02.602544Z",
     "iopub.status.busy": "2025-03-10T16:00:02.602175Z",
     "iopub.status.idle": "2025-03-10T16:00:04.262762Z",
     "shell.execute_reply": "2025-03-10T16:00:04.261189Z"
    },
    "papermill": {
     "duration": 1.671658,
     "end_time": "2025-03-10T16:00:04.264771",
     "exception": false,
     "start_time": "2025-03-10T16:00:02.593113",
     "status": "completed"
    },
    "tags": []
   },
   "outputs": [
    {
     "name": "stdout",
     "output_type": "stream",
     "text": [
      "Training LGBMClassifier\n",
      "\n",
      "--- Fold 1 - ROC AUC: 0.922559\n",
      "--- Fold 2 - ROC AUC: 0.850028\n",
      "--- Fold 3 - ROC AUC: 0.880177\n",
      "--- Fold 4 - ROC AUC: 0.911841\n",
      "--- Fold 5 - ROC AUC: 0.901263\n",
      "\n",
      "------ Overall: 0.891866 | Average: 0.893173 ± 0.025721\n"
     ]
    }
   ],
   "source": [
    "lgbm_goss_model = LGBMClassifier(**lgbm_goss_params)\n",
    "lgbm_goss_trainer = Trainer(lgbm_goss_model)\n",
    "oof_pred_probs[\"LightGBM (goss)\"], test_pred_probs[\"LightGBM (goss)\"], scores[\"LightGBM (goss)\"] = lgbm_goss_trainer.fit_predict(X, y, X_test)"
   ]
  },
  {
   "cell_type": "code",
   "execution_count": 12,
   "id": "b7a301cf",
   "metadata": {
    "execution": {
     "iopub.execute_input": "2025-03-10T16:00:04.282087Z",
     "iopub.status.busy": "2025-03-10T16:00:04.281696Z",
     "iopub.status.idle": "2025-03-10T16:00:09.128751Z",
     "shell.execute_reply": "2025-03-10T16:00:09.127245Z"
    },
    "papermill": {
     "duration": 4.857901,
     "end_time": "2025-03-10T16:00:09.130829",
     "exception": false,
     "start_time": "2025-03-10T16:00:04.272928",
     "status": "completed"
    },
    "tags": []
   },
   "outputs": [
    {
     "name": "stdout",
     "output_type": "stream",
     "text": [
      "Training CatBoostClassifier\n",
      "\n",
      "--- Fold 1 - ROC AUC: 0.923934\n",
      "--- Fold 2 - ROC AUC: 0.858053\n",
      "--- Fold 3 - ROC AUC: 0.874467\n",
      "--- Fold 4 - ROC AUC: 0.912177\n",
      "--- Fold 5 - ROC AUC: 0.900224\n",
      "\n",
      "------ Overall: 0.891793 | Average: 0.893771 ± 0.024243\n"
     ]
    }
   ],
   "source": [
    "cb_model = CatBoostClassifier(**cb_params)\n",
    "cb_trainer = Trainer(cb_model)\n",
    "oof_pred_probs[\"CatBoost\"], test_pred_probs[\"CatBoost\"], scores[\"CatBoost\"] = cb_trainer.fit_predict(X, y, X_test)"
   ]
  },
  {
   "cell_type": "code",
   "execution_count": 13,
   "id": "23f608c4",
   "metadata": {
    "execution": {
     "iopub.execute_input": "2025-03-10T16:00:09.150917Z",
     "iopub.status.busy": "2025-03-10T16:00:09.150520Z",
     "iopub.status.idle": "2025-03-10T16:00:18.411801Z",
     "shell.execute_reply": "2025-03-10T16:00:18.410543Z"
    },
    "papermill": {
     "duration": 9.273238,
     "end_time": "2025-03-10T16:00:18.413927",
     "exception": false,
     "start_time": "2025-03-10T16:00:09.140689",
     "status": "completed"
    },
    "tags": []
   },
   "outputs": [
    {
     "name": "stdout",
     "output_type": "stream",
     "text": [
      "Training AdaBoostClassifier\n",
      "\n",
      "--- Fold 1 - ROC AUC: 0.925786\n",
      "--- Fold 2 - ROC AUC: 0.846184\n",
      "--- Fold 3 - ROC AUC: 0.853465\n",
      "--- Fold 4 - ROC AUC: 0.901950\n",
      "--- Fold 5 - ROC AUC: 0.895847\n",
      "\n",
      "------ Overall: 0.882266 | Average: 0.884646 ± 0.030229\n"
     ]
    }
   ],
   "source": [
    "adb_model = AdaBoostClassifier(**adb_params)\n",
    "adb_trainer = Trainer(adb_model)\n",
    "oof_pred_probs[\"AdaBoost\"], test_pred_probs[\"AdaBoost\"], scores[\"AdaBoost\"] = adb_trainer.fit_predict(X, y, X_test)"
   ]
  },
  {
   "cell_type": "code",
   "execution_count": 14,
   "id": "8741f7e4",
   "metadata": {
    "execution": {
     "iopub.execute_input": "2025-03-10T16:00:18.434122Z",
     "iopub.status.busy": "2025-03-10T16:00:18.433662Z",
     "iopub.status.idle": "2025-03-10T16:00:25.512773Z",
     "shell.execute_reply": "2025-03-10T16:00:25.511506Z"
    },
    "papermill": {
     "duration": 7.091091,
     "end_time": "2025-03-10T16:00:25.514951",
     "exception": false,
     "start_time": "2025-03-10T16:00:18.423860",
     "status": "completed"
    },
    "tags": []
   },
   "outputs": [
    {
     "name": "stdout",
     "output_type": "stream",
     "text": [
      "Training RandomForestClassifier\n",
      "\n",
      "--- Fold 1 - ROC AUC: 0.925645\n",
      "--- Fold 2 - ROC AUC: 0.854181\n",
      "--- Fold 3 - ROC AUC: 0.871296\n",
      "--- Fold 4 - ROC AUC: 0.908754\n",
      "--- Fold 5 - ROC AUC: 0.901459\n",
      "\n",
      "------ Overall: 0.890584 | Average: 0.892267 ± 0.025926\n"
     ]
    }
   ],
   "source": [
    "rf_model = RandomForestClassifier(**rf_params)\n",
    "rf_trainer = Trainer(rf_model)\n",
    "oof_pred_probs[\"RandomForest\"], test_pred_probs[\"RandomForest\"], scores[\"RandomForest\"] = rf_trainer.fit_predict(X, y, X_test)"
   ]
  },
  {
   "cell_type": "code",
   "execution_count": 15,
   "id": "7832686f",
   "metadata": {
    "execution": {
     "iopub.execute_input": "2025-03-10T16:00:25.535534Z",
     "iopub.status.busy": "2025-03-10T16:00:25.535168Z",
     "iopub.status.idle": "2025-03-10T16:00:38.177607Z",
     "shell.execute_reply": "2025-03-10T16:00:38.176188Z"
    },
    "papermill": {
     "duration": 12.654991,
     "end_time": "2025-03-10T16:00:38.179652",
     "exception": false,
     "start_time": "2025-03-10T16:00:25.524661",
     "status": "completed"
    },
    "tags": []
   },
   "outputs": [
    {
     "name": "stdout",
     "output_type": "stream",
     "text": [
      "Training ExtraTreesClassifier\n",
      "\n",
      "--- Fold 1 - ROC AUC: 0.926263\n",
      "--- Fold 2 - ROC AUC: 0.860382\n",
      "--- Fold 3 - ROC AUC: 0.872615\n",
      "--- Fold 4 - ROC AUC: 0.905359\n",
      "--- Fold 5 - ROC AUC: 0.900168\n",
      "\n",
      "------ Overall: 0.892296 | Average: 0.892957 ± 0.023622\n"
     ]
    }
   ],
   "source": [
    "et_model = ExtraTreesClassifier(**et_params)\n",
    "et_trainer = Trainer(et_model)\n",
    "oof_pred_probs[\"ExtraTrees\"], test_pred_probs[\"ExtraTrees\"], scores[\"ExtraTrees\"] = et_trainer.fit_predict(X, y, X_test)"
   ]
  },
  {
   "cell_type": "code",
   "execution_count": 16,
   "id": "27bd5f1c",
   "metadata": {
    "execution": {
     "iopub.execute_input": "2025-03-10T16:00:38.200986Z",
     "iopub.status.busy": "2025-03-10T16:00:38.200621Z",
     "iopub.status.idle": "2025-03-10T16:00:40.242886Z",
     "shell.execute_reply": "2025-03-10T16:00:40.241278Z"
    },
    "papermill": {
     "duration": 2.055196,
     "end_time": "2025-03-10T16:00:40.244799",
     "exception": false,
     "start_time": "2025-03-10T16:00:38.189603",
     "status": "completed"
    },
    "tags": []
   },
   "outputs": [
    {
     "name": "stdout",
     "output_type": "stream",
     "text": [
      "Training HistGradientBoostingClassifier\n",
      "\n",
      "--- Fold 1 - ROC AUC: 0.925800\n",
      "--- Fold 2 - ROC AUC: 0.855626\n",
      "--- Fold 3 - ROC AUC: 0.870188\n",
      "--- Fold 4 - ROC AUC: 0.911967\n",
      "--- Fold 5 - ROC AUC: 0.906033\n",
      "\n",
      "------ Overall: 0.891762 | Average: 0.893923 ± 0.026527\n"
     ]
    }
   ],
   "source": [
    "histgb_model = HistGradientBoostingClassifier(**histgb_params)\n",
    "histgb_trainer = Trainer(histgb_model)\n",
    "oof_pred_probs[\"HistGradientBoosting\"], test_pred_probs[\"HistGradientBoosting\"], scores[\"HistGradientBoosting\"] = histgb_trainer.fit_predict(X, y, X_test)"
   ]
  },
  {
   "cell_type": "code",
   "execution_count": 17,
   "id": "d1dc80e6",
   "metadata": {
    "execution": {
     "iopub.execute_input": "2025-03-10T16:00:40.266938Z",
     "iopub.status.busy": "2025-03-10T16:00:40.266421Z",
     "iopub.status.idle": "2025-03-10T16:00:45.498166Z",
     "shell.execute_reply": "2025-03-10T16:00:45.496683Z"
    },
    "papermill": {
     "duration": 5.244422,
     "end_time": "2025-03-10T16:00:45.499931",
     "exception": false,
     "start_time": "2025-03-10T16:00:40.255509",
     "status": "completed"
    },
    "tags": []
   },
   "outputs": [
    {
     "name": "stdout",
     "output_type": "stream",
     "text": [
      "Training GradientBoostingClassifier\n",
      "\n",
      "--- Fold 1 - ROC AUC: 0.925505\n",
      "--- Fold 2 - ROC AUC: 0.851655\n",
      "--- Fold 3 - ROC AUC: 0.872363\n",
      "--- Fold 4 - ROC AUC: 0.909540\n",
      "--- Fold 5 - ROC AUC: 0.906538\n",
      "\n",
      "------ Overall: 0.891314 | Average: 0.893120 ± 0.027013\n"
     ]
    }
   ],
   "source": [
    "gb_model = GradientBoostingClassifier(**gb_params)\n",
    "gb_trainer = Trainer(gb_model)\n",
    "oof_pred_probs[\"GradientBoosting\"], test_pred_probs[\"GradientBoosting\"], scores[\"GradientBoosting\"] = gb_trainer.fit_predict(X, y, X_test)"
   ]
  },
  {
   "cell_type": "code",
   "execution_count": 18,
   "id": "6dde8807",
   "metadata": {
    "execution": {
     "iopub.execute_input": "2025-03-10T16:00:45.520894Z",
     "iopub.status.busy": "2025-03-10T16:00:45.520527Z",
     "iopub.status.idle": "2025-03-10T16:00:46.729446Z",
     "shell.execute_reply": "2025-03-10T16:00:46.728235Z"
    },
    "papermill": {
     "duration": 1.221292,
     "end_time": "2025-03-10T16:00:46.731198",
     "exception": false,
     "start_time": "2025-03-10T16:00:45.509906",
     "status": "completed"
    },
    "tags": []
   },
   "outputs": [
    {
     "name": "stdout",
     "output_type": "stream",
     "text": [
      "Training LogisticRegression\n",
      "\n",
      "--- Fold 1 - ROC AUC: 0.921409\n",
      "--- Fold 2 - ROC AUC: 0.860382\n",
      "--- Fold 3 - ROC AUC: 0.882379\n",
      "--- Fold 4 - ROC AUC: 0.910045\n",
      "--- Fold 5 - ROC AUC: 0.898064\n",
      "\n",
      "------ Overall: 0.893404 | Average: 0.894456 ± 0.021398\n"
     ]
    }
   ],
   "source": [
    "lr_model = LogisticRegression(**lr_params)\n",
    "lr_trainer = Trainer(lr_model)\n",
    "oof_pred_probs[\"LogisticRegression\"], test_pred_probs[\"LogisticRegression\"], scores[\"LogisticRegression\"] = lr_trainer.fit_predict(X, y, X_test)"
   ]
  },
  {
   "cell_type": "code",
   "execution_count": 19,
   "id": "60949aa5",
   "metadata": {
    "execution": {
     "iopub.execute_input": "2025-03-10T16:00:46.752543Z",
     "iopub.status.busy": "2025-03-10T16:00:46.752208Z",
     "iopub.status.idle": "2025-03-10T16:45:03.009006Z",
     "shell.execute_reply": "2025-03-10T16:45:03.006183Z"
    },
    "papermill": {
     "duration": 2656.281605,
     "end_time": "2025-03-10T16:45:03.022958",
     "exception": false,
     "start_time": "2025-03-10T16:00:46.741353",
     "status": "completed"
    },
    "tags": []
   },
   "outputs": [
    {
     "name": "stdout",
     "output_type": "stream",
     "text": [
      "Training TabPFNClassifier\n",
      "\n"
     ]
    },
    {
     "data": {
      "application/vnd.jupyter.widget-view+json": {
       "model_id": "b7eb5855dfd34393a37a70acb3d274de",
       "version_major": 2,
       "version_minor": 0
      },
      "text/plain": [
       "tabpfn-v2-classifier.ckpt:   0%|          | 0.00/29.0M [00:00<?, ?B/s]"
      ]
     },
     "metadata": {},
     "output_type": "display_data"
    },
    {
     "data": {
      "application/vnd.jupyter.widget-view+json": {
       "model_id": "73361141fe054dff9e604712a9aa996a",
       "version_major": 2,
       "version_minor": 0
      },
      "text/plain": [
       "config.json:   0%|          | 0.00/37.0 [00:00<?, ?B/s]"
      ]
     },
     "metadata": {},
     "output_type": "display_data"
    },
    {
     "name": "stdout",
     "output_type": "stream",
     "text": [
      "--- Fold 1 - ROC AUC: 0.924411\n",
      "--- Fold 2 - ROC AUC: 0.857800\n",
      "--- Fold 3 - ROC AUC: 0.874270\n",
      "--- Fold 4 - ROC AUC: 0.912654\n",
      "--- Fold 5 - ROC AUC: 0.900309\n",
      "\n",
      "------ Overall: 0.891639 | Average: 0.893889 ± 0.024545\n"
     ]
    }
   ],
   "source": [
    "tabpfn_model = TabPFNClassifier(random_state=CFG.seed, n_jobs=-1)\n",
    "tabpfn_trainer = Trainer(tabpfn_model)\n",
    "oof_pred_probs[\"TabPFN\"], test_pred_probs[\"TabPFN\"], scores[\"TabPFN\"] = tabpfn_trainer.fit_predict(X, y, X_test)"
   ]
  },
  {
   "cell_type": "code",
   "execution_count": 20,
   "id": "1750a866",
   "metadata": {
    "execution": {
     "iopub.execute_input": "2025-03-10T16:45:03.046333Z",
     "iopub.status.busy": "2025-03-10T16:45:03.045893Z",
     "iopub.status.idle": "2025-03-10T16:45:03.109889Z",
     "shell.execute_reply": "2025-03-10T16:45:03.108290Z"
    },
    "papermill": {
     "duration": 0.078207,
     "end_time": "2025-03-10T16:45:03.112026",
     "exception": false,
     "start_time": "2025-03-10T16:45:03.033819",
     "status": "completed"
    },
    "tags": []
   },
   "outputs": [
    {
     "name": "stdout",
     "output_type": "stream",
     "text": [
      "Running inference on AutoGluon\n",
      "\n",
      "--- Fold 1 - ROC AUC: 0.930247\n",
      "--- Fold 2 - ROC AUC: 0.862795\n",
      "--- Fold 3 - ROC AUC: 0.877806\n",
      "--- Fold 4 - ROC AUC: 0.916891\n",
      "--- Fold 5 - ROC AUC: 0.902778\n",
      "\n",
      "------ Overall: 0.899698 | Average: 0.898103 ± 0.024766\n"
     ]
    }
   ],
   "source": [
    "print(\"Running inference on AutoGluon\\n\")\n",
    "\n",
    "ag_oof_files = glob.glob('/kaggle/input/s05e03-rainfall-prediction-autogluon/WeightedEnsemble_L2_oof_pred_probs_*.pkl')\n",
    "ag_test_files = glob.glob('/kaggle/input/s05e03-rainfall-prediction-autogluon/WeightedEnsemble_L2_test_pred_probs_*.pkl')\n",
    "\n",
    "ag_oof_pred_probs = pickle.load(open(ag_oof_files[0], 'rb'))\n",
    "ag_test_pred_probs = pickle.load(open(ag_test_files[0], 'rb'))\n",
    "\n",
    "ag_scores = []\n",
    "split = StratifiedKFold(n_splits=CFG.n_folds, random_state=CFG.seed, shuffle=True).split(X, y)\n",
    "for fold_idx, (_, val_idx) in enumerate(split):\n",
    "    y_val = y[val_idx]\n",
    "    y_pred_probs = ag_oof_pred_probs[val_idx]   \n",
    "    score = roc_auc_score(y_val, y_pred_probs)\n",
    "    ag_scores.append(score)\n",
    "\n",
    "    print(f\"--- Fold {fold_idx + 1} - ROC AUC: {score:.6f}\")\n",
    "            \n",
    "overall_score = roc_auc_score(y, ag_oof_pred_probs)            \n",
    "print(f\"\\n------ Overall: {overall_score:.6f} | Average: {np.mean(ag_scores):.6f} ± {np.std(ag_scores):.6f}\")\n",
    "    \n",
    "# oof_pred_probs[\"AutoGluon\"], test_pred_probs[\"AutoGluon\"], scores[\"AutoGluon\"] = ag_oof_pred_probs, ag_test_pred_probs, ag_scores"
   ]
  },
  {
   "cell_type": "markdown",
   "id": "c8ef3640",
   "metadata": {
    "papermill": {
     "duration": 0.011801,
     "end_time": "2025-03-10T16:45:03.136226",
     "exception": false,
     "start_time": "2025-03-10T16:45:03.124425",
     "status": "completed"
    },
    "tags": []
   },
   "source": [
    "# Ensembling with LogisticRegression"
   ]
  },
  {
   "cell_type": "code",
   "execution_count": 21,
   "id": "6d724a69",
   "metadata": {
    "_kg_hide-input": true,
    "execution": {
     "iopub.execute_input": "2025-03-10T16:45:03.161461Z",
     "iopub.status.busy": "2025-03-10T16:45:03.161044Z",
     "iopub.status.idle": "2025-03-10T16:45:03.169360Z",
     "shell.execute_reply": "2025-03-10T16:45:03.168193Z"
    },
    "papermill": {
     "duration": 0.023326,
     "end_time": "2025-03-10T16:45:03.170966",
     "exception": false,
     "start_time": "2025-03-10T16:45:03.147640",
     "status": "completed"
    },
    "tags": []
   },
   "outputs": [],
   "source": [
    "def plot_weights(weights, title):\n",
    "    sorted_indices = np.argsort(weights[0])[::-1]\n",
    "    sorted_coeffs = np.array(weights[0])[sorted_indices]\n",
    "    sorted_model_names = np.array(list(oof_pred_probs.keys()))[sorted_indices]\n",
    "\n",
    "    plt.figure(figsize=(10, weights.shape[1] * 0.5))\n",
    "    ax = sns.barplot(x=sorted_coeffs, y=sorted_model_names, palette=\"RdYlGn_r\")\n",
    "\n",
    "    for i, (value, name) in enumerate(zip(sorted_coeffs, sorted_model_names)):\n",
    "        if value >= 0:\n",
    "            ax.text(value, i, f\"{value:.3f}\", va=\"center\", ha=\"left\", color=\"black\")\n",
    "        else:\n",
    "            ax.text(value, i, f\"{value:.3f}\", va=\"center\", ha=\"right\", color=\"black\")\n",
    "\n",
    "    xlim = ax.get_xlim()\n",
    "    ax.set_xlim(xlim[0] - 0.1 * abs(xlim[0]), xlim[1] + 0.1 * abs(xlim[1]))\n",
    "\n",
    "    plt.title(title)\n",
    "    plt.xlabel(\"\")\n",
    "    plt.ylabel(\"\")\n",
    "    plt.tight_layout()\n",
    "    plt.show()"
   ]
  },
  {
   "cell_type": "code",
   "execution_count": 22,
   "id": "9c0ca665",
   "metadata": {
    "execution": {
     "iopub.execute_input": "2025-03-10T16:45:03.194477Z",
     "iopub.status.busy": "2025-03-10T16:45:03.194110Z",
     "iopub.status.idle": "2025-03-10T16:45:03.206661Z",
     "shell.execute_reply": "2025-03-10T16:45:03.205472Z"
    },
    "papermill": {
     "duration": 0.026245,
     "end_time": "2025-03-10T16:45:03.208514",
     "exception": false,
     "start_time": "2025-03-10T16:45:03.182269",
     "status": "completed"
    },
    "tags": []
   },
   "outputs": [],
   "source": [
    "X = logit(pd.DataFrame(oof_pred_probs).clip(1e-15, 1-1e-15))\n",
    "X_test = logit(pd.DataFrame(test_pred_probs).clip(1e-15, 1-1e-15))"
   ]
  },
  {
   "cell_type": "code",
   "execution_count": 23,
   "id": "2c644532",
   "metadata": {
    "_kg_hide-output": true,
    "execution": {
     "iopub.execute_input": "2025-03-10T16:45:03.232217Z",
     "iopub.status.busy": "2025-03-10T16:45:03.231855Z",
     "iopub.status.idle": "2025-03-10T16:52:04.210131Z",
     "shell.execute_reply": "2025-03-10T16:52:04.208996Z"
    },
    "papermill": {
     "duration": 420.992607,
     "end_time": "2025-03-10T16:52:04.212238",
     "exception": false,
     "start_time": "2025-03-10T16:45:03.219631",
     "status": "completed"
    },
    "scrolled": true,
    "tags": []
   },
   "outputs": [
    {
     "name": "stderr",
     "output_type": "stream",
     "text": [
      "[I 2025-03-10 16:45:03,239] A new study created in memory with name: no-name-2346b6c8-6005-4a61-9205-4005fc5bbf94\n",
      "[I 2025-03-10 16:45:07,065] Trial 3 finished with value: 0.8924803591470258 and parameters: {'solver_penalty': ('liblinear', 'l1'), 'C': 54.98454217483205, 'tol': 0.000897968887480615, 'fit_intercept': True, 'class_weight': None}. Best is trial 3 with value: 0.8924803591470258.\n",
      "[I 2025-03-10 16:45:08,236] Trial 1 finished with value: 0.8927328843995511 and parameters: {'solver_penalty': ('newton-cholesky', 'l2'), 'C': 50.29071764772463, 'tol': 0.00807072088364077, 'fit_intercept': False, 'class_weight': None}. Best is trial 1 with value: 0.8927328843995511.\n",
      "[I 2025-03-10 16:45:11,638] Trial 0 finished with value: 0.8917957351290685 and parameters: {'solver_penalty': ('lbfgs', None), 'C': 69.6328223709045, 'tol': 0.0009866312440508524, 'fit_intercept': True, 'class_weight': None}. Best is trial 1 with value: 0.8927328843995511.\n",
      "[I 2025-03-10 16:45:11,907] Trial 4 finished with value: 0.8917227833894501 and parameters: {'solver_penalty': ('newton-cholesky', 'l2'), 'C': 94.64622783352456, 'tol': 0.008833404576885204, 'fit_intercept': True, 'class_weight': 'balanced'}. Best is trial 1 with value: 0.8927328843995511.\n",
      "[I 2025-03-10 16:45:12,870] Trial 5 finished with value: 0.8944725028058361 and parameters: {'solver_penalty': ('lbfgs', None), 'C': 22.812556744810962, 'tol': 0.002186774952512017, 'fit_intercept': False, 'class_weight': None}. Best is trial 5 with value: 0.8944725028058361.\n",
      "[I 2025-03-10 16:45:16,274] Trial 6 finished with value: 0.8960942760942763 and parameters: {'solver_penalty': ('lbfgs', 'l2'), 'C': 20.230499913401513, 'tol': 0.008056780750773887, 'fit_intercept': True, 'class_weight': 'balanced'}. Best is trial 6 with value: 0.8960942760942763.\n",
      "[I 2025-03-10 16:45:17,880] Trial 8 finished with value: 0.8954264870931539 and parameters: {'solver_penalty': ('lbfgs', 'l2'), 'C': 46.91899469452652, 'tol': 0.004143566994561999, 'fit_intercept': False, 'class_weight': None}. Best is trial 6 with value: 0.8960942760942763.\n",
      "[I 2025-03-10 16:45:18,788] Trial 7 finished with value: 0.8835185185185184 and parameters: {'solver_penalty': ('lbfgs', None), 'C': 37.542362596837634, 'tol': 0.007152017447887385, 'fit_intercept': False, 'class_weight': 'balanced'}. Best is trial 6 with value: 0.8960942760942763.\n",
      "[I 2025-03-10 16:45:21,777] Trial 11 finished with value: 0.8929236812570146 and parameters: {'solver_penalty': ('liblinear', 'l2'), 'C': 61.24351907062216, 'tol': 0.0013278468437029772, 'fit_intercept': False, 'class_weight': None}. Best is trial 6 with value: 0.8960942760942763.\n",
      "[I 2025-03-10 16:45:22,030] Trial 9 finished with value: 0.892283950617284 and parameters: {'solver_penalty': ('newton-cholesky', None), 'C': 58.98048077460136, 'tol': 0.0007576305767973521, 'fit_intercept': True, 'class_weight': None}. Best is trial 6 with value: 0.8960942760942763.\n",
      "[I 2025-03-10 16:45:22,299] Trial 2 finished with value: 0.8916273849607181 and parameters: {'solver_penalty': ('newton-cg', None), 'C': 96.54439013924721, 'tol': 0.0011400361329158264, 'fit_intercept': True, 'class_weight': 'balanced'}. Best is trial 6 with value: 0.8960942760942763.\n",
      "[I 2025-03-10 16:45:25,444] Trial 12 finished with value: 0.8952356902356902 and parameters: {'solver_penalty': ('liblinear', 'l2'), 'C': 51.794865361181486, 'tol': 0.006908357716200132, 'fit_intercept': True, 'class_weight': None}. Best is trial 6 with value: 0.8960942760942763.\n",
      "[I 2025-03-10 16:45:27,819] Trial 10 finished with value: 0.894584736251403 and parameters: {'solver_penalty': ('newton-cg', None), 'C': 41.860142701455, 'tol': 0.005230327797083454, 'fit_intercept': True, 'class_weight': None}. Best is trial 6 with value: 0.8960942760942763.\n",
      "[I 2025-03-10 16:45:28,513] Trial 14 finished with value: 0.8812962962962964 and parameters: {'solver_penalty': ('newton-cholesky', 'l2'), 'C': 23.165814895429428, 'tol': 0.006013881613770317, 'fit_intercept': False, 'class_weight': 'balanced'}. Best is trial 6 with value: 0.8960942760942763.\n",
      "[I 2025-03-10 16:45:30,830] Trial 13 finished with value: 0.883395061728395 and parameters: {'solver_penalty': ('lbfgs', None), 'C': 34.78522070322744, 'tol': 0.008859381121979894, 'fit_intercept': False, 'class_weight': 'balanced'}. Best is trial 6 with value: 0.8960942760942763.\n",
      "[I 2025-03-10 16:45:31,518] Trial 15 finished with value: 0.8957239057239057 and parameters: {'solver_penalty': ('lbfgs', 'l2'), 'C': 86.66537328578544, 'tol': 0.007190061624064315, 'fit_intercept': True, 'class_weight': None}. Best is trial 6 with value: 0.8960942760942763.\n",
      "[I 2025-03-10 16:45:34,943] Trial 19 finished with value: 0.8944500561167228 and parameters: {'solver_penalty': ('liblinear', 'l1'), 'C': 53.6241396424812, 'tol': 0.005646136536444095, 'fit_intercept': False, 'class_weight': None}. Best is trial 6 with value: 0.8960942760942763.\n",
      "[I 2025-03-10 16:45:35,498] Trial 17 finished with value: 0.8931986531986531 and parameters: {'solver_penalty': ('newton-cholesky', 'l2'), 'C': 2.122271236340434, 'tol': 0.005288905393522516, 'fit_intercept': False, 'class_weight': None}. Best is trial 6 with value: 0.8960942760942763.\n",
      "[I 2025-03-10 16:45:36,141] Trial 16 finished with value: 0.8834848484848484 and parameters: {'solver_penalty': ('lbfgs', 'l2'), 'C': 10.761557658910448, 'tol': 0.009563130040672298, 'fit_intercept': False, 'class_weight': 'balanced'}. Best is trial 6 with value: 0.8960942760942763.\n",
      "[I 2025-03-10 16:45:38,637] Trial 22 finished with value: 0.8810381593714925 and parameters: {'solver_penalty': ('liblinear', 'l2'), 'C': 38.59727998488566, 'tol': 0.0006511844050578399, 'fit_intercept': False, 'class_weight': 'balanced'}. Best is trial 6 with value: 0.8960942760942763.\n",
      "[I 2025-03-10 16:45:40,218] Trial 18 finished with value: 0.8931986531986531 and parameters: {'solver_penalty': ('newton-cg', 'l2'), 'C': 87.06316942612153, 'tol': 0.0016946009504989477, 'fit_intercept': False, 'class_weight': None}. Best is trial 6 with value: 0.8960942760942763.\n",
      "[I 2025-03-10 16:45:43,367] Trial 20 finished with value: 0.8868799102132435 and parameters: {'solver_penalty': ('newton-cg', None), 'C': 98.41192840836686, 'tol': 0.006451877185138052, 'fit_intercept': False, 'class_weight': 'balanced'}. Best is trial 6 with value: 0.8960942760942763.\n",
      "[I 2025-03-10 16:45:44,027] Trial 23 finished with value: 0.8945959595959595 and parameters: {'solver_penalty': ('newton-cg', 'l2'), 'C': 13.057468536339057, 'tol': 0.0041177614739872975, 'fit_intercept': True, 'class_weight': None}. Best is trial 6 with value: 0.8960942760942763.\n",
      "[I 2025-03-10 16:45:44,601] Trial 24 finished with value: 0.8955667789001123 and parameters: {'solver_penalty': ('newton-cg', None), 'C': 18.303902673202867, 'tol': 0.009840357816963217, 'fit_intercept': False, 'class_weight': None}. Best is trial 6 with value: 0.8960942760942763.\n",
      "[I 2025-03-10 16:45:46,314] Trial 21 finished with value: 0.8941470258136925 and parameters: {'solver_penalty': ('newton-cg', 'l2'), 'C': 33.67122865655281, 'tol': 0.004364201498562357, 'fit_intercept': True, 'class_weight': 'balanced'}. Best is trial 6 with value: 0.8960942760942763.\n",
      "[I 2025-03-10 16:45:49,085] Trial 26 finished with value: 0.8839337822671155 and parameters: {'solver_penalty': ('lbfgs', 'l2'), 'C': 7.162715211396142, 'tol': 0.003822964747291559, 'fit_intercept': False, 'class_weight': 'balanced'}. Best is trial 6 with value: 0.8960942760942763.\n",
      "[I 2025-03-10 16:45:51,236] Trial 28 finished with value: 0.8955667789001123 and parameters: {'solver_penalty': ('newton-cg', None), 'C': 8.669330609944463, 'tol': 0.009692780573102768, 'fit_intercept': False, 'class_weight': None}. Best is trial 6 with value: 0.8960942760942763.\n",
      "[I 2025-03-10 16:45:53,070] Trial 25 finished with value: 0.8816947250280585 and parameters: {'solver_penalty': ('newton-cg', 'l2'), 'C': 60.02965840259179, 'tol': 0.0023486853577077047, 'fit_intercept': False, 'class_weight': 'balanced'}. Best is trial 6 with value: 0.8960942760942763.\n",
      "[I 2025-03-10 16:45:53,663] Trial 29 finished with value: 0.8955218855218854 and parameters: {'solver_penalty': ('lbfgs', 'l2'), 'C': 90.7524507284751, 'tol': 0.005173036865076402, 'fit_intercept': True, 'class_weight': None}. Best is trial 6 with value: 0.8960942760942763.\n",
      "[I 2025-03-10 16:45:54,308] Trial 27 finished with value: 0.881672278338945 and parameters: {'solver_penalty': ('newton-cg', None), 'C': 13.890949924147266, 'tol': 0.0017639894792862367, 'fit_intercept': False, 'class_weight': 'balanced'}. Best is trial 6 with value: 0.8960942760942763.\n",
      "[I 2025-03-10 16:45:57,936] Trial 30 finished with value: 0.8960942760942763 and parameters: {'solver_penalty': ('lbfgs', 'l2'), 'C': 35.49907537062326, 'tol': 0.008287224676014253, 'fit_intercept': True, 'class_weight': 'balanced'}. Best is trial 6 with value: 0.8960942760942763.\n",
      "[I 2025-03-10 16:45:58,248] Trial 31 finished with value: 0.8960606060606061 and parameters: {'solver_penalty': ('lbfgs', 'l2'), 'C': 81.20822101846164, 'tol': 0.009747066413217764, 'fit_intercept': True, 'class_weight': None}. Best is trial 6 with value: 0.8960942760942763.\n",
      "[I 2025-03-10 16:46:01,039] Trial 32 finished with value: 0.8960942760942763 and parameters: {'solver_penalty': ('lbfgs', 'l2'), 'C': 45.934465423883594, 'tol': 0.00853122368846734, 'fit_intercept': True, 'class_weight': 'balanced'}. Best is trial 6 with value: 0.8960942760942763.\n",
      "[I 2025-03-10 16:46:01,341] Trial 33 finished with value: 0.8960942760942763 and parameters: {'solver_penalty': ('lbfgs', 'l2'), 'C': 43.41455831400545, 'tol': 0.008190120716863248, 'fit_intercept': True, 'class_weight': 'balanced'}. Best is trial 6 with value: 0.8960942760942763.\n",
      "[I 2025-03-10 16:46:04,069] Trial 35 finished with value: 0.8960493827160493 and parameters: {'solver_penalty': ('lbfgs', 'l2'), 'C': 68.17735166984451, 'tol': 0.00879613086836583, 'fit_intercept': True, 'class_weight': None}. Best is trial 6 with value: 0.8960942760942763.\n",
      "[I 2025-03-10 16:46:04,778] Trial 34 finished with value: 0.8960942760942763 and parameters: {'solver_penalty': ('lbfgs', 'l2'), 'C': 40.2588418811156, 'tol': 0.009181328155154976, 'fit_intercept': True, 'class_weight': 'balanced'}. Best is trial 6 with value: 0.8960942760942763.\n",
      "[I 2025-03-10 16:46:08,153] Trial 36 finished with value: 0.8960942760942763 and parameters: {'solver_penalty': ('lbfgs', 'l2'), 'C': 40.544781591254136, 'tol': 0.007468872365997713, 'fit_intercept': True, 'class_weight': 'balanced'}. Best is trial 6 with value: 0.8960942760942763.\n",
      "[I 2025-03-10 16:46:08,562] Trial 37 finished with value: 0.8960942760942763 and parameters: {'solver_penalty': ('lbfgs', 'l2'), 'C': 43.85153939561023, 'tol': 0.007746267622008471, 'fit_intercept': True, 'class_weight': 'balanced'}. Best is trial 6 with value: 0.8960942760942763.\n",
      "[I 2025-03-10 16:46:09,662] Trial 39 finished with value: 0.8941806958473626 and parameters: {'solver_penalty': ('liblinear', 'l1'), 'C': 37.037741521496386, 'tol': 0.008230231145108858, 'fit_intercept': True, 'class_weight': 'balanced'}. Best is trial 6 with value: 0.8960942760942763.\n",
      "[I 2025-03-10 16:46:10,829] Trial 38 finished with value: 0.8960998877665546 and parameters: {'solver_penalty': ('lbfgs', 'l2'), 'C': 40.31074140418021, 'tol': 0.006856250115047093, 'fit_intercept': True, 'class_weight': 'balanced'}. Best is trial 38 with value: 0.8960998877665546.\n",
      "[I 2025-03-10 16:46:13,281] Trial 41 finished with value: 0.8942760942760943 and parameters: {'solver_penalty': ('liblinear', 'l1'), 'C': 7.455409189859887, 'tol': 0.00848199250843003, 'fit_intercept': True, 'class_weight': 'balanced'}. Best is trial 38 with value: 0.8960998877665546.\n",
      "[I 2025-03-10 16:46:15,814] Trial 43 finished with value: 0.8960942760942763 and parameters: {'solver_penalty': ('lbfgs', None), 'C': 4.424724240458408, 'tol': 0.008608245275698416, 'fit_intercept': True, 'class_weight': 'balanced'}. Best is trial 38 with value: 0.8960998877665546.\n",
      "[I 2025-03-10 16:46:18,668] Trial 44 finished with value: 0.8960998877665546 and parameters: {'solver_penalty': ('lbfgs', 'l2'), 'C': 10.056522674788235, 'tol': 0.006483554725528753, 'fit_intercept': True, 'class_weight': 'balanced'}. Best is trial 38 with value: 0.8960998877665546.\n",
      "[I 2025-03-10 16:46:19,482] Trial 42 finished with value: 0.8960998877665546 and parameters: {'solver_penalty': ('newton-cg', 'l2'), 'C': 6.817766681714412, 'tol': 0.009881535523799063, 'fit_intercept': True, 'class_weight': 'balanced'}. Best is trial 38 with value: 0.8960998877665546.\n",
      "[I 2025-03-10 16:46:20,501] Trial 45 finished with value: 0.8960998877665546 and parameters: {'solver_penalty': ('lbfgs', 'l2'), 'C': 8.929081418120774, 'tol': 0.006914344146246854, 'fit_intercept': True, 'class_weight': 'balanced'}. Best is trial 38 with value: 0.8960998877665546.\n",
      "[I 2025-03-10 16:46:20,770] Trial 40 finished with value: 0.8960269360269362 and parameters: {'solver_penalty': ('newton-cg', None), 'C': 21.63207085515332, 'tol': 0.00819102452406954, 'fit_intercept': True, 'class_weight': 'balanced'}. Best is trial 38 with value: 0.8960998877665546.\n",
      "[I 2025-03-10 16:46:24,386] Trial 46 finished with value: 0.8960942760942763 and parameters: {'solver_penalty': ('lbfgs', 'l2'), 'C': 2.454353135738823, 'tol': 0.006639707192762781, 'fit_intercept': True, 'class_weight': 'balanced'}. Best is trial 38 with value: 0.8960998877665546.\n",
      "[I 2025-03-10 16:46:25,893] Trial 48 finished with value: 0.8957014590347923 and parameters: {'solver_penalty': ('lbfgs', 'l2'), 'C': 3.0136993476317846, 'tol': 0.008026712921419826, 'fit_intercept': True, 'class_weight': None}. Best is trial 38 with value: 0.8960998877665546.\n",
      "[I 2025-03-10 16:46:26,273] Trial 47 finished with value: 0.895976430976431 and parameters: {'solver_penalty': ('lbfgs', 'l2'), 'C': 1.8945409462365905, 'tol': 0.004986561630416726, 'fit_intercept': True, 'class_weight': 'balanced'}. Best is trial 38 with value: 0.8960998877665546.\n",
      "[I 2025-03-10 16:46:30,222] Trial 52 finished with value: 0.8917115600448934 and parameters: {'solver_penalty': ('newton-cholesky', None), 'C': 16.043620640674042, 'tol': 0.005666825864390283, 'fit_intercept': True, 'class_weight': 'balanced'}. Best is trial 38 with value: 0.8960998877665546.\n",
      "[I 2025-03-10 16:46:30,497] Trial 49 finished with value: 0.8960998877665546 and parameters: {'solver_penalty': ('newton-cg', 'l2'), 'C': 6.964524739777556, 'tol': 0.009612503364801208, 'fit_intercept': True, 'class_weight': 'balanced'}. Best is trial 38 with value: 0.8960998877665546.\n",
      "[I 2025-03-10 16:46:33,136] Trial 50 finished with value: 0.8960269360269362 and parameters: {'solver_penalty': ('newton-cg', 'l2'), 'C': 10.90096539810089, 'tol': 0.008120793140007585, 'fit_intercept': True, 'class_weight': 'balanced'}. Best is trial 38 with value: 0.8960998877665546.\n",
      "[I 2025-03-10 16:46:33,494] Trial 51 finished with value: 0.8960269360269362 and parameters: {'solver_penalty': ('newton-cg', 'l2'), 'C': 18.119744453447044, 'tol': 0.00819693621551966, 'fit_intercept': True, 'class_weight': 'balanced'}. Best is trial 38 with value: 0.8960998877665546.\n",
      "[I 2025-03-10 16:46:36,659] Trial 55 finished with value: 0.8933221099887767 and parameters: {'solver_penalty': ('liblinear', 'l2'), 'C': 20.17342953685546, 'tol': 0.009619374504384801, 'fit_intercept': True, 'class_weight': 'balanced'}. Best is trial 38 with value: 0.8960998877665546.\n",
      "[I 2025-03-10 16:46:38,325] Trial 53 finished with value: 0.8959988776655443 and parameters: {'solver_penalty': ('newton-cg', 'l2'), 'C': 3.2674139184502824, 'tol': 0.008312628685949123, 'fit_intercept': True, 'class_weight': 'balanced'}. Best is trial 38 with value: 0.8960998877665546.\n",
      "[I 2025-03-10 16:46:40,709] Trial 54 finished with value: 0.8957912457912458 and parameters: {'solver_penalty': ('newton-cg', 'l2'), 'C': 12.765282529179814, 'tol': 0.007126301101032559, 'fit_intercept': True, 'class_weight': 'balanced'}. Best is trial 38 with value: 0.8960998877665546.\n",
      "[I 2025-03-10 16:46:40,987] Trial 57 finished with value: 0.891969696969697 and parameters: {'solver_penalty': ('newton-cholesky', 'l2'), 'C': 5.822972081341801, 'tol': 0.008376472447602238, 'fit_intercept': True, 'class_weight': 'balanced'}. Best is trial 38 with value: 0.8960998877665546.\n",
      "[I 2025-03-10 16:46:42,688] Trial 56 finished with value: 0.8886026936026935 and parameters: {'solver_penalty': ('newton-cg', 'l2'), 'C': 10.775765155565287, 'tol': 0.008735468632155647, 'fit_intercept': False, 'class_weight': 'balanced'}. Best is trial 38 with value: 0.8960998877665546.\n",
      "[I 2025-03-10 16:46:43,077] Trial 58 finished with value: 0.895993265993266 and parameters: {'solver_penalty': ('lbfgs', None), 'C': 59.08743480713159, 'tol': 0.0046386545325358824, 'fit_intercept': True, 'class_weight': 'balanced'}. Best is trial 38 with value: 0.8960998877665546.\n",
      "[I 2025-03-10 16:46:47,202] Trial 59 finished with value: 0.8954826038159371 and parameters: {'solver_penalty': ('newton-cg', 'l2'), 'C': 3.1354358037881207, 'tol': 0.009851873914099005, 'fit_intercept': True, 'class_weight': None}. Best is trial 38 with value: 0.8960998877665546.\n",
      "[I 2025-03-10 16:46:48,534] Trial 62 finished with value: 0.8917115600448934 and parameters: {'solver_penalty': ('newton-cholesky', None), 'C': 19.86150986547854, 'tol': 0.009031547508733067, 'fit_intercept': True, 'class_weight': 'balanced'}. Best is trial 38 with value: 0.8960998877665546.\n",
      "[I 2025-03-10 16:46:49,143] Trial 61 finished with value: 0.8960942760942763 and parameters: {'solver_penalty': ('lbfgs', 'l2'), 'C': 5.0292452578047735, 'tol': 0.009666997303705956, 'fit_intercept': True, 'class_weight': 'balanced'}. Best is trial 38 with value: 0.8960998877665546.\n",
      "[I 2025-03-10 16:46:52,348] Trial 65 finished with value: 0.8917901234567902 and parameters: {'solver_penalty': ('liblinear', 'l2'), 'C': 27.611206617690357, 'tol': 0.004341876424686654, 'fit_intercept': True, 'class_weight': 'balanced'}. Best is trial 38 with value: 0.8960998877665546.\n",
      "[I 2025-03-10 16:46:52,726] Trial 60 finished with value: 0.8868237934904603 and parameters: {'solver_penalty': ('newton-cg', 'l2'), 'C': 28.59638341765652, 'tol': 0.008328973055347636, 'fit_intercept': False, 'class_weight': 'balanced'}. Best is trial 38 with value: 0.8960998877665546.\n",
      "[I 2025-03-10 16:46:53,059] Trial 63 finished with value: 0.8960942760942763 and parameters: {'solver_penalty': ('lbfgs', 'l2'), 'C': 9.351694888099498, 'tol': 0.009112066768895446, 'fit_intercept': True, 'class_weight': 'balanced'}. Best is trial 38 with value: 0.8960998877665546.\n",
      "[I 2025-03-10 16:46:56,828] Trial 67 finished with value: 0.8960830527497194 and parameters: {'solver_penalty': ('lbfgs', 'l2'), 'C': 24.109505004707255, 'tol': 0.00691777905359677, 'fit_intercept': False, 'class_weight': None}. Best is trial 38 with value: 0.8960998877665546.\n",
      "[I 2025-03-10 16:46:58,636] Trial 68 finished with value: 0.895993265993266 and parameters: {'solver_penalty': ('lbfgs', 'l2'), 'C': 25.99939968006775, 'tol': 0.00527441744505854, 'fit_intercept': True, 'class_weight': 'balanced'}. Best is trial 38 with value: 0.8960998877665546.\n",
      "[I 2025-03-10 16:46:59,722] Trial 64 finished with value: 0.8960998877665546 and parameters: {'solver_penalty': ('newton-cg', 'l2'), 'C': 40.839626159126354, 'tol': 0.009676319804344195, 'fit_intercept': True, 'class_weight': 'balanced'}. Best is trial 38 with value: 0.8960998877665546.\n",
      "[I 2025-03-10 16:47:01,256] Trial 69 finished with value: 0.895993265993266 and parameters: {'solver_penalty': ('lbfgs', 'l2'), 'C': 26.992895447070175, 'tol': 0.004816702939307467, 'fit_intercept': True, 'class_weight': 'balanced'}. Best is trial 38 with value: 0.8960998877665546.\n",
      "[I 2025-03-10 16:47:02,334] Trial 66 finished with value: 0.8960942760942763 and parameters: {'solver_penalty': ('newton-cg', 'l2'), 'C': 5.642937204035849, 'tol': 0.009742389650549924, 'fit_intercept': True, 'class_weight': 'balanced'}. Best is trial 38 with value: 0.8960998877665546.\n",
      "[I 2025-03-10 16:47:04,641] Trial 70 finished with value: 0.8839057239057239 and parameters: {'solver_penalty': ('lbfgs', 'l2'), 'C': 43.51626412124559, 'tol': 0.005089393147287251, 'fit_intercept': False, 'class_weight': 'balanced'}. Best is trial 38 with value: 0.8960998877665546.\n",
      "[I 2025-03-10 16:47:06,976] Trial 71 finished with value: 0.8960998877665546 and parameters: {'solver_penalty': ('newton-cg', 'l2'), 'C': 49.80085520862879, 'tol': 0.009030574943123194, 'fit_intercept': True, 'class_weight': 'balanced'}. Best is trial 38 with value: 0.8960998877665546.\n",
      "[I 2025-03-10 16:47:08,892] Trial 72 finished with value: 0.8961167227833895 and parameters: {'solver_penalty': ('newton-cg', 'l2'), 'C': 62.68608474328893, 'tol': 0.008535787050745064, 'fit_intercept': True, 'class_weight': 'balanced'}. Best is trial 72 with value: 0.8961167227833895.\n",
      "[I 2025-03-10 16:47:09,598] Trial 73 finished with value: 0.8960998877665546 and parameters: {'solver_penalty': ('newton-cg', 'l2'), 'C': 56.1312742623855, 'tol': 0.00934872383185057, 'fit_intercept': True, 'class_weight': 'balanced'}. Best is trial 72 with value: 0.8961167227833895.\n",
      "[I 2025-03-10 16:47:11,430] Trial 74 finished with value: 0.8961167227833895 and parameters: {'solver_penalty': ('newton-cg', 'l2'), 'C': 45.60108227301448, 'tol': 0.00836009975335142, 'fit_intercept': True, 'class_weight': 'balanced'}. Best is trial 72 with value: 0.8961167227833895.\n",
      "[I 2025-03-10 16:47:14,715] Trial 75 finished with value: 0.8958754208754209 and parameters: {'solver_penalty': ('newton-cg', 'l2'), 'C': 54.15208341883134, 'tol': 0.00782124251918017, 'fit_intercept': True, 'class_weight': 'balanced'}. Best is trial 72 with value: 0.8961167227833895.\n",
      "[I 2025-03-10 16:47:15,770] Trial 78 finished with value: 0.8955667789001123 and parameters: {'solver_penalty': ('newton-cg', 'l2'), 'C': 68.80719531225941, 'tol': 0.009678562855183311, 'fit_intercept': False, 'class_weight': None}. Best is trial 72 with value: 0.8961167227833895.\n",
      "[I 2025-03-10 16:47:17,389] Trial 76 finished with value: 0.8960998877665546 and parameters: {'solver_penalty': ('newton-cg', 'l2'), 'C': 55.959877020104564, 'tol': 0.009232354450627516, 'fit_intercept': True, 'class_weight': 'balanced'}. Best is trial 72 with value: 0.8961167227833895.\n",
      "[I 2025-03-10 16:47:18,544] Trial 79 finished with value: 0.8941470258136924 and parameters: {'solver_penalty': ('liblinear', 'l1'), 'C': 95.49756822569965, 'tol': 0.0069351259640838174, 'fit_intercept': True, 'class_weight': 'balanced'}. Best is trial 72 with value: 0.8961167227833895.\n",
      "[I 2025-03-10 16:47:19,440] Trial 77 finished with value: 0.8951851851851853 and parameters: {'solver_penalty': ('newton-cg', 'l2'), 'C': 78.84882683326367, 'tol': 0.006065529832463528, 'fit_intercept': True, 'class_weight': 'balanced'}. Best is trial 72 with value: 0.8961167227833895.\n",
      "[I 2025-03-10 16:47:21,871] Trial 82 finished with value: 0.8818462401795735 and parameters: {'solver_penalty': ('liblinear', 'l2'), 'C': 66.19769113864231, 'tol': 0.007831460826925993, 'fit_intercept': False, 'class_weight': 'balanced'}. Best is trial 72 with value: 0.8961167227833895.\n",
      "[I 2025-03-10 16:47:24,119] Trial 80 finished with value: 0.8945791245791245 and parameters: {'solver_penalty': ('newton-cg', 'l2'), 'C': 42.8834351608376, 'tol': 0.007671273208745892, 'fit_intercept': True, 'class_weight': None}. Best is trial 72 with value: 0.8961167227833895.\n",
      "[I 2025-03-10 16:47:25,060] Trial 81 finished with value: 0.8945791245791245 and parameters: {'solver_penalty': ('newton-cg', 'l2'), 'C': 45.169991186864706, 'tol': 0.007458710728384623, 'fit_intercept': True, 'class_weight': None}. Best is trial 72 with value: 0.8961167227833895.\n",
      "[I 2025-03-10 16:47:25,583] Trial 84 finished with value: 0.8915937149270483 and parameters: {'solver_penalty': ('liblinear', 'l2'), 'C': 69.8879164532808, 'tol': 0.007860017736484502, 'fit_intercept': True, 'class_weight': 'balanced'}. Best is trial 72 with value: 0.8961167227833895.\n",
      "[I 2025-03-10 16:47:29,358] Trial 86 finished with value: 0.8915937149270483 and parameters: {'solver_penalty': ('liblinear', 'l2'), 'C': 63.882922046137516, 'tol': 0.00831890949735229, 'fit_intercept': True, 'class_weight': 'balanced'}. Best is trial 72 with value: 0.8961167227833895.\n",
      "[I 2025-03-10 16:47:31,207] Trial 85 finished with value: 0.8917115600448934 and parameters: {'solver_penalty': ('newton-cholesky', None), 'C': 49.96464955658819, 'tol': 0.006899844439065511, 'fit_intercept': True, 'class_weight': 'balanced'}. Best is trial 72 with value: 0.8961167227833895.\n",
      "[I 2025-03-10 16:47:31,488] Trial 83 finished with value: 0.8960998877665546 and parameters: {'solver_penalty': ('newton-cg', 'l2'), 'C': 34.22537753482426, 'tol': 0.009868238193151843, 'fit_intercept': True, 'class_weight': 'balanced'}. Best is trial 72 with value: 0.8961167227833895.\n",
      "[I 2025-03-10 16:47:31,782] Trial 87 finished with value: 0.8917676767676769 and parameters: {'solver_penalty': ('newton-cholesky', 'l2'), 'C': 35.95623310662725, 'tol': 0.008734285999562694, 'fit_intercept': True, 'class_weight': 'balanced'}. Best is trial 72 with value: 0.8961167227833895.\n",
      "[I 2025-03-10 16:47:33,897] Trial 88 finished with value: 0.8917340067340067 and parameters: {'solver_penalty': ('newton-cholesky', 'l2'), 'C': 67.30417800864916, 'tol': 0.008499391582650758, 'fit_intercept': True, 'class_weight': 'balanced'}. Best is trial 72 with value: 0.8961167227833895.\n",
      "[I 2025-03-10 16:47:36,149] Trial 89 finished with value: 0.8917452300785633 and parameters: {'solver_penalty': ('newton-cholesky', 'l2'), 'C': 52.723506889030766, 'tol': 0.006000090697747015, 'fit_intercept': True, 'class_weight': 'balanced'}. Best is trial 72 with value: 0.8961167227833895.\n",
      "[I 2025-03-10 16:47:36,866] Trial 91 finished with value: 0.8929124579124579 and parameters: {'solver_penalty': ('newton-cholesky', 'l2'), 'C': 19.5924895815731, 'tol': 0.00044293213664540077, 'fit_intercept': False, 'class_weight': None}. Best is trial 72 with value: 0.8961167227833895.\n",
      "[I 2025-03-10 16:47:40,429] Trial 93 finished with value: 0.895993265993266 and parameters: {'solver_penalty': ('lbfgs', None), 'C': 26.781815723487977, 'tol': 0.0057111150845489435, 'fit_intercept': True, 'class_weight': 'balanced'}. Best is trial 72 with value: 0.8961167227833895.\n",
      "[I 2025-03-10 16:47:42,103] Trial 92 finished with value: 0.8960998877665546 and parameters: {'solver_penalty': ('newton-cg', None), 'C': 0.1725617151999943, 'tol': 0.009431621654305156, 'fit_intercept': True, 'class_weight': 'balanced'}. Best is trial 72 with value: 0.8961167227833895.\n",
      "[I 2025-03-10 16:47:42,504] Trial 90 finished with value: 0.8951795735129069 and parameters: {'solver_penalty': ('newton-cg', None), 'C': 47.04986578850729, 'tol': 0.005946393544622596, 'fit_intercept': True, 'class_weight': 'balanced'}. Best is trial 72 with value: 0.8961167227833895.\n",
      "[I 2025-03-10 16:47:43,633] Trial 94 finished with value: 0.8960998877665546 and parameters: {'solver_penalty': ('newton-cg', 'l2'), 'C': 78.62516921943921, 'tol': 0.00960388441425566, 'fit_intercept': True, 'class_weight': 'balanced'}. Best is trial 72 with value: 0.8961167227833895.\n",
      "[I 2025-03-10 16:47:46,925] Trial 95 finished with value: 0.8868799102132435 and parameters: {'solver_penalty': ('newton-cg', 'l2'), 'C': 58.157100611130026, 'tol': 0.006912069958071299, 'fit_intercept': False, 'class_weight': 'balanced'}. Best is trial 72 with value: 0.8961167227833895.\n",
      "[I 2025-03-10 16:47:48,584] Trial 97 finished with value: 0.8960998877665546 and parameters: {'solver_penalty': ('newton-cg', 'l2'), 'C': 49.601020489951225, 'tol': 0.008889744904705949, 'fit_intercept': True, 'class_weight': 'balanced'}. Best is trial 72 with value: 0.8961167227833895.\n",
      "[I 2025-03-10 16:47:48,846] Trial 96 finished with value: 0.8960998877665546 and parameters: {'solver_penalty': ('newton-cg', 'l2'), 'C': 69.95832404981431, 'tol': 0.009650647831907142, 'fit_intercept': True, 'class_weight': 'balanced'}. Best is trial 72 with value: 0.8961167227833895.\n",
      "[I 2025-03-10 16:47:52,503] Trial 99 finished with value: 0.8836700336700336 and parameters: {'solver_penalty': ('lbfgs', 'l2'), 'C': 4.33277866047406, 'tol': 0.006853869341947018, 'fit_intercept': False, 'class_weight': 'balanced'}. Best is trial 72 with value: 0.8961167227833895.\n",
      "[I 2025-03-10 16:47:52,742] Trial 100 finished with value: 0.8960942760942763 and parameters: {'solver_penalty': ('lbfgs', None), 'C': 49.85709675956995, 'tol': 0.008838871644854519, 'fit_intercept': True, 'class_weight': 'balanced'}. Best is trial 72 with value: 0.8961167227833895.\n",
      "[I 2025-03-10 16:47:53,150] Trial 98 finished with value: 0.8958810325476992 and parameters: {'solver_penalty': ('newton-cg', 'l2'), 'C': 46.130593926965766, 'tol': 0.007948101361410748, 'fit_intercept': True, 'class_weight': 'balanced'}. Best is trial 72 with value: 0.8961167227833895.\n",
      "[I 2025-03-10 16:47:56,991] Trial 103 finished with value: 0.8917115600448934 and parameters: {'solver_penalty': ('newton-cholesky', None), 'C': 64.81215180199271, 'tol': 0.00973823820008698, 'fit_intercept': True, 'class_weight': 'balanced'}. Best is trial 72 with value: 0.8961167227833895.\n",
      "[I 2025-03-10 16:47:57,406] Trial 101 finished with value: 0.8961167227833895 and parameters: {'solver_penalty': ('newton-cg', None), 'C': 58.992453767186404, 'tol': 0.008556043264370167, 'fit_intercept': True, 'class_weight': 'balanced'}. Best is trial 72 with value: 0.8961167227833895.\n",
      "[I 2025-03-10 16:48:00,637] Trial 104 finished with value: 0.8960998877665546 and parameters: {'solver_penalty': ('newton-cg', None), 'C': 52.890819175830536, 'tol': 0.008896940835600747, 'fit_intercept': True, 'class_weight': 'balanced'}. Best is trial 72 with value: 0.8961167227833895.\n",
      "[I 2025-03-10 16:48:02,041] Trial 102 finished with value: 0.881672278338945 and parameters: {'solver_penalty': ('newton-cg', None), 'C': 92.37017771581034, 'tol': 0.0014067501328982653, 'fit_intercept': False, 'class_weight': 'balanced'}. Best is trial 72 with value: 0.8961167227833895.\n",
      "[I 2025-03-10 16:48:03,580] Trial 105 finished with value: 0.8960998877665546 and parameters: {'solver_penalty': ('newton-cg', 'l2'), 'C': 45.589166626747236, 'tol': 0.009280190310506822, 'fit_intercept': True, 'class_weight': 'balanced'}. Best is trial 72 with value: 0.8961167227833895.\n",
      "[I 2025-03-10 16:48:04,278] Trial 106 finished with value: 0.8960998877665546 and parameters: {'solver_penalty': ('newton-cg', None), 'C': 51.69211220013856, 'tol': 0.009044232357440564, 'fit_intercept': True, 'class_weight': 'balanced'}. Best is trial 72 with value: 0.8961167227833895.\n",
      "[I 2025-03-10 16:48:08,068] Trial 110 finished with value: 0.8941750841750842 and parameters: {'solver_penalty': ('liblinear', 'l1'), 'C': 59.248210691306234, 'tol': 0.008457159337822144, 'fit_intercept': True, 'class_weight': 'balanced'}. Best is trial 72 with value: 0.8961167227833895.\n",
      "[I 2025-03-10 16:48:09,087] Trial 107 finished with value: 0.8960998877665546 and parameters: {'solver_penalty': ('newton-cg', 'l2'), 'C': 36.614006663292926, 'tol': 0.009160842959618184, 'fit_intercept': True, 'class_weight': 'balanced'}. Best is trial 72 with value: 0.8961167227833895.\n",
      "[I 2025-03-10 16:48:09,088] Trial 109 finished with value: 0.8960942760942763 and parameters: {'solver_penalty': ('lbfgs', 'l2'), 'C': 18.300498151491922, 'tol': 0.007068814991004048, 'fit_intercept': True, 'class_weight': 'balanced'}. Best is trial 72 with value: 0.8961167227833895.\n",
      "[I 2025-03-10 16:48:12,689] Trial 108 finished with value: 0.8958754208754209 and parameters: {'solver_penalty': ('newton-cg', None), 'C': 67.63129261616915, 'tol': 0.007930093317970722, 'fit_intercept': True, 'class_weight': 'balanced'}. Best is trial 72 with value: 0.8961167227833895.\n",
      "[I 2025-03-10 16:48:14,081] Trial 113 finished with value: 0.8843771043771043 and parameters: {'solver_penalty': ('liblinear', 'l1'), 'C': 25.360981106014293, 'tol': 0.004149339793130764, 'fit_intercept': False, 'class_weight': 'balanced'}. Best is trial 72 with value: 0.8961167227833895.\n",
      "[I 2025-03-10 16:48:14,834] Trial 112 finished with value: 0.8957239057239057 and parameters: {'solver_penalty': ('lbfgs', 'l2'), 'C': 35.88122172733946, 'tol': 0.0068271584875892405, 'fit_intercept': True, 'class_weight': None}. Best is trial 72 with value: 0.8961167227833895.\n",
      "[I 2025-03-10 16:48:15,269] Trial 111 finished with value: 0.8954601571268237 and parameters: {'solver_penalty': ('newton-cg', 'l2'), 'C': 60.226599813068624, 'tol': 0.009870342655274988, 'fit_intercept': True, 'class_weight': None}. Best is trial 72 with value: 0.8961167227833895.\n",
      "[I 2025-03-10 16:48:21,034] Trial 114 finished with value: 0.8867676767676766 and parameters: {'solver_penalty': ('newton-cg', None), 'C': 72.87923217978194, 'tol': 0.008266228468097641, 'fit_intercept': False, 'class_weight': 'balanced'}. Best is trial 72 with value: 0.8961167227833895.\n",
      "[I 2025-03-10 16:48:22,728] Trial 115 finished with value: 0.8957856341189675 and parameters: {'solver_penalty': ('newton-cg', 'l2'), 'C': 67.28071156287254, 'tol': 0.007163099925927788, 'fit_intercept': True, 'class_weight': 'balanced'}. Best is trial 72 with value: 0.8961167227833895.\n",
      "[I 2025-03-10 16:48:23,474] Trial 116 finished with value: 0.8957856341189675 and parameters: {'solver_penalty': ('newton-cg', 'l2'), 'C': 61.58830995537534, 'tol': 0.0072011513428216324, 'fit_intercept': True, 'class_weight': 'balanced'}. Best is trial 72 with value: 0.8961167227833895.\n",
      "[I 2025-03-10 16:48:23,771] Trial 117 finished with value: 0.8957912457912458 and parameters: {'solver_penalty': ('newton-cg', 'l2'), 'C': 49.20360149720433, 'tol': 0.00730745729905674, 'fit_intercept': True, 'class_weight': 'balanced'}. Best is trial 72 with value: 0.8961167227833895.\n",
      "[I 2025-03-10 16:48:24,335] Trial 118 finished with value: 0.8916778900112232 and parameters: {'solver_penalty': ('newton-cholesky', 'l2'), 'C': 93.9889843456358, 'tol': 0.002771898057070975, 'fit_intercept': True, 'class_weight': 'balanced'}. Best is trial 72 with value: 0.8961167227833895.\n",
      "[I 2025-03-10 16:48:29,869] Trial 119 finished with value: 0.8885634118967453 and parameters: {'solver_penalty': ('newton-cg', 'l2'), 'C': 63.71075373268961, 'tol': 0.009707662937534675, 'fit_intercept': False, 'class_weight': 'balanced'}. Best is trial 72 with value: 0.8961167227833895.\n",
      "[I 2025-03-10 16:48:31,341] Trial 121 finished with value: 0.8960998877665546 and parameters: {'solver_penalty': ('newton-cg', 'l2'), 'C': 21.31903438682992, 'tol': 0.009808290235253177, 'fit_intercept': True, 'class_weight': 'balanced'}. Best is trial 72 with value: 0.8961167227833895.\n",
      "[I 2025-03-10 16:48:31,639] Trial 120 finished with value: 0.8960998877665546 and parameters: {'solver_penalty': ('newton-cg', 'l2'), 'C': 11.589238346357075, 'tol': 0.009890987712141237, 'fit_intercept': True, 'class_weight': 'balanced'}. Best is trial 72 with value: 0.8961167227833895.\n",
      "[I 2025-03-10 16:48:32,156] Trial 122 finished with value: 0.8960998877665546 and parameters: {'solver_penalty': ('newton-cg', 'l2'), 'C': 57.81267467666206, 'tol': 0.009353346571593315, 'fit_intercept': True, 'class_weight': 'balanced'}. Best is trial 72 with value: 0.8961167227833895.\n",
      "[I 2025-03-10 16:48:32,957] Trial 123 finished with value: 0.8922727272727273 and parameters: {'solver_penalty': ('liblinear', 'l2'), 'C': 85.057811853585, 'tol': 0.001171680148996814, 'fit_intercept': True, 'class_weight': None}. Best is trial 72 with value: 0.8961167227833895.\n",
      "[I 2025-03-10 16:48:35,220] Trial 125 finished with value: 0.8952356902356902 and parameters: {'solver_penalty': ('liblinear', 'l2'), 'C': 18.403391574595844, 'tol': 0.00845635191733155, 'fit_intercept': True, 'class_weight': None}. Best is trial 72 with value: 0.8961167227833895.\n",
      "[I 2025-03-10 16:48:38,523] Trial 126 finished with value: 0.8960942760942763 and parameters: {'solver_penalty': ('lbfgs', 'l2'), 'C': 66.68704830833906, 'tol': 0.009725092231610572, 'fit_intercept': True, 'class_weight': 'balanced'}. Best is trial 72 with value: 0.8961167227833895.\n",
      "[I 2025-03-10 16:48:39,441] Trial 128 finished with value: 0.8960718294051627 and parameters: {'solver_penalty': ('lbfgs', None), 'C': 47.119299568255315, 'tol': 0.00954140937508255, 'fit_intercept': True, 'class_weight': None}. Best is trial 72 with value: 0.8961167227833895.\n",
      "[I 2025-03-10 16:48:42,103] Trial 129 finished with value: 0.8920819304152637 and parameters: {'solver_penalty': ('liblinear', 'l2'), 'C': 1.4472173128386387, 'tol': 0.006146830986448979, 'fit_intercept': True, 'class_weight': 'balanced'}. Best is trial 72 with value: 0.8961167227833895.\n",
      "[I 2025-03-10 16:48:42,507] Trial 124 finished with value: 0.8960998877665546 and parameters: {'solver_penalty': ('newton-cg', 'l2'), 'C': 54.53872692448127, 'tol': 0.008941066291985912, 'fit_intercept': True, 'class_weight': 'balanced'}. Best is trial 72 with value: 0.8961167227833895.\n",
      "[I 2025-03-10 16:48:43,618] Trial 127 finished with value: 0.8960998877665546 and parameters: {'solver_penalty': ('newton-cg', 'l2'), 'C': 40.718938689347766, 'tol': 0.009918649031846924, 'fit_intercept': True, 'class_weight': 'balanced'}. Best is trial 72 with value: 0.8961167227833895.\n",
      "[I 2025-03-10 16:48:45,861] Trial 130 finished with value: 0.8942929292929293 and parameters: {'solver_penalty': ('lbfgs', 'l2'), 'C': 8.440339572009513, 'tol': 0.002784311734511762, 'fit_intercept': True, 'class_weight': None}. Best is trial 72 with value: 0.8961167227833895.\n",
      "[I 2025-03-10 16:48:48,035] Trial 133 finished with value: 0.8873232323232323 and parameters: {'solver_penalty': ('liblinear', 'l1'), 'C': 12.038459927549333, 'tol': 0.009584304864239116, 'fit_intercept': False, 'class_weight': 'balanced'}. Best is trial 72 with value: 0.8961167227833895.\n",
      "[I 2025-03-10 16:48:48,438] Trial 132 finished with value: 0.895993265993266 and parameters: {'solver_penalty': ('lbfgs', 'l2'), 'C': 54.217767542209764, 'tol': 0.005688721831393385, 'fit_intercept': True, 'class_weight': 'balanced'}. Best is trial 72 with value: 0.8961167227833895.\n",
      "[I 2025-03-10 16:48:52,150] Trial 135 finished with value: 0.8917957351290685 and parameters: {'solver_penalty': ('newton-cholesky', 'l2'), 'C': 20.095493060034066, 'tol': 0.005417107982045024, 'fit_intercept': True, 'class_weight': 'balanced'}. Best is trial 72 with value: 0.8961167227833895.\n",
      "[I 2025-03-10 16:48:52,661] Trial 131 finished with value: 0.8960998877665546 and parameters: {'solver_penalty': ('newton-cg', 'l2'), 'C': 40.545641634780374, 'tol': 0.009959367737904526, 'fit_intercept': True, 'class_weight': 'balanced'}. Best is trial 72 with value: 0.8961167227833895.\n",
      "[I 2025-03-10 16:48:54,201] Trial 134 finished with value: 0.8960998877665546 and parameters: {'solver_penalty': ('newton-cg', None), 'C': 8.705289760510741, 'tol': 0.009429587754451907, 'fit_intercept': True, 'class_weight': 'balanced'}. Best is trial 72 with value: 0.8961167227833895.\n",
      "[I 2025-03-10 16:48:55,593] Trial 136 finished with value: 0.8960998877665546 and parameters: {'solver_penalty': ('newton-cg', None), 'C': 13.034723058580322, 'tol': 0.009835487155815774, 'fit_intercept': True, 'class_weight': 'balanced'}. Best is trial 72 with value: 0.8961167227833895.\n",
      "[I 2025-03-10 16:48:58,952] Trial 138 finished with value: 0.8960998877665546 and parameters: {'solver_penalty': ('newton-cg', None), 'C': 12.282918653980953, 'tol': 0.009246067116007721, 'fit_intercept': True, 'class_weight': 'balanced'}. Best is trial 72 with value: 0.8961167227833895.\n",
      "[I 2025-03-10 16:49:00,412] Trial 137 finished with value: 0.8954096520763187 and parameters: {'solver_penalty': ('newton-cg', None), 'C': 6.516418965548956, 'tol': 0.006966902854663871, 'fit_intercept': True, 'class_weight': 'balanced'}. Best is trial 72 with value: 0.8961167227833895.\n",
      "[I 2025-03-10 16:49:00,714] Trial 140 finished with value: 0.8834399551066218 and parameters: {'solver_penalty': ('lbfgs', 'l2'), 'C': 48.74870521859719, 'tol': 0.009213218643828503, 'fit_intercept': False, 'class_weight': 'balanced'}. Best is trial 72 with value: 0.8961167227833895.\n",
      "[I 2025-03-10 16:49:01,396] Trial 139 finished with value: 0.8960998877665546 and parameters: {'solver_penalty': ('newton-cg', None), 'C': 6.775784129153756, 'tol': 0.00908043632335873, 'fit_intercept': True, 'class_weight': 'balanced'}. Best is trial 72 with value: 0.8961167227833895.\n",
      "[I 2025-03-10 16:49:04,685] Trial 142 finished with value: 0.895993265993266 and parameters: {'solver_penalty': ('lbfgs', 'l2'), 'C': 17.98492916432456, 'tol': 0.005807203769703873, 'fit_intercept': True, 'class_weight': 'balanced'}. Best is trial 72 with value: 0.8961167227833895.\n",
      "[I 2025-03-10 16:49:05,014] Trial 141 finished with value: 0.894584736251403 and parameters: {'solver_penalty': ('newton-cg', None), 'C': 5.540873455147232, 'tol': 0.00752550330457079, 'fit_intercept': True, 'class_weight': None}. Best is trial 72 with value: 0.8961167227833895.\n",
      "[I 2025-03-10 16:49:08,555] Trial 143 finished with value: 0.8868799102132435 and parameters: {'solver_penalty': ('newton-cg', None), 'C': 3.774483601040884, 'tol': 0.0076182430949433486, 'fit_intercept': False, 'class_weight': 'balanced'}. Best is trial 72 with value: 0.8961167227833895.\n",
      "[I 2025-03-10 16:49:09,281] Trial 144 finished with value: 0.8960998877665546 and parameters: {'solver_penalty': ('newton-cg', 'l2'), 'C': 87.22615955603577, 'tol': 0.009725669548373216, 'fit_intercept': True, 'class_weight': 'balanced'}. Best is trial 72 with value: 0.8961167227833895.\n",
      "[I 2025-03-10 16:49:11,021] Trial 145 finished with value: 0.894584736251403 and parameters: {'solver_penalty': ('newton-cg', None), 'C': 63.18737860714471, 'tol': 0.007370456089790932, 'fit_intercept': True, 'class_weight': None}. Best is trial 72 with value: 0.8961167227833895.\n",
      "[I 2025-03-10 16:49:14,100] Trial 149 finished with value: 0.8933108866442201 and parameters: {'solver_penalty': ('liblinear', 'l2'), 'C': 44.19029949197646, 'tol': 0.009426294834625627, 'fit_intercept': True, 'class_weight': 'balanced'}. Best is trial 72 with value: 0.8961167227833895.\n",
      "[I 2025-03-10 16:49:14,380] Trial 146 finished with value: 0.8960998877665546 and parameters: {'solver_penalty': ('newton-cg', 'l2'), 'C': 89.01599248420533, 'tol': 0.008929403707805055, 'fit_intercept': True, 'class_weight': 'balanced'}. Best is trial 72 with value: 0.8961167227833895.\n",
      "[I 2025-03-10 16:49:14,771] Trial 148 finished with value: 0.892267115600449 and parameters: {'solver_penalty': ('newton-cholesky', 'l2'), 'C': 71.74180580528471, 'tol': 0.007508199124390747, 'fit_intercept': True, 'class_weight': None}. Best is trial 72 with value: 0.8961167227833895.\n",
      "[I 2025-03-10 16:49:18,820] Trial 152 finished with value: 0.8949551066217734 and parameters: {'solver_penalty': ('liblinear', 'l1'), 'C': 27.01010292914148, 'tol': 0.009875295186621266, 'fit_intercept': True, 'class_weight': 'balanced'}. Best is trial 72 with value: 0.8961167227833895.\n",
      "[I 2025-03-10 16:49:19,212] Trial 150 finished with value: 0.8941526374859707 and parameters: {'solver_penalty': ('liblinear', 'l1'), 'C': 8.996643636805677, 'tol': 0.006034770107617644, 'fit_intercept': True, 'class_weight': 'balanced'}. Best is trial 72 with value: 0.8961167227833895.\n",
      "[I 2025-03-10 16:49:19,643] Trial 147 finished with value: 0.8885353535353534 and parameters: {'solver_penalty': ('newton-cg', None), 'C': 43.07634529827182, 'tol': 0.009735535680677934, 'fit_intercept': False, 'class_weight': 'balanced'}. Best is trial 72 with value: 0.8961167227833895.\n",
      "[I 2025-03-10 16:49:23,268] Trial 153 finished with value: 0.891885521885522 and parameters: {'solver_penalty': ('liblinear', 'l2'), 'C': 55.23221976903558, 'tol': 0.0008100340423148498, 'fit_intercept': True, 'class_weight': 'balanced'}. Best is trial 72 with value: 0.8961167227833895.\n",
      "[I 2025-03-10 16:49:25,352] Trial 154 finished with value: 0.8960942760942763 and parameters: {'solver_penalty': ('lbfgs', None), 'C': 70.73003589674236, 'tol': 0.009336755430459668, 'fit_intercept': True, 'class_weight': 'balanced'}. Best is trial 72 with value: 0.8961167227833895.\n",
      "[I 2025-03-10 16:49:26,041] Trial 155 finished with value: 0.8960942760942763 and parameters: {'solver_penalty': ('lbfgs', None), 'C': 69.83984333228169, 'tol': 0.009361306656010964, 'fit_intercept': True, 'class_weight': 'balanced'}. Best is trial 72 with value: 0.8961167227833895.\n",
      "[I 2025-03-10 16:49:26,395] Trial 151 finished with value: 0.8960942760942763 and parameters: {'solver_penalty': ('newton-cg', 'l2'), 'C': 5.562360540472696, 'tol': 0.009890355996314652, 'fit_intercept': True, 'class_weight': 'balanced'}. Best is trial 72 with value: 0.8961167227833895.\n",
      "[I 2025-03-10 16:49:30,971] Trial 156 finished with value: 0.8961167227833895 and parameters: {'solver_penalty': ('newton-cg', 'l2'), 'C': 75.81262486097373, 'tol': 0.008516110741788338, 'fit_intercept': True, 'class_weight': 'balanced'}. Best is trial 72 with value: 0.8961167227833895.\n",
      "[I 2025-03-10 16:49:31,975] Trial 157 finished with value: 0.8960998877665546 and parameters: {'solver_penalty': ('newton-cg', 'l2'), 'C': 53.06522253511393, 'tol': 0.009529020439157383, 'fit_intercept': True, 'class_weight': 'balanced'}. Best is trial 72 with value: 0.8961167227833895.\n",
      "[I 2025-03-10 16:49:32,371] Trial 158 finished with value: 0.8960998877665546 and parameters: {'solver_penalty': ('newton-cg', 'l2'), 'C': 67.44985691407089, 'tol': 0.009608325588882709, 'fit_intercept': True, 'class_weight': 'balanced'}. Best is trial 72 with value: 0.8961167227833895.\n",
      "[I 2025-03-10 16:49:32,751] Trial 159 finished with value: 0.8885465768799101 and parameters: {'solver_penalty': ('newton-cg', 'l2'), 'C': 96.59120292363554, 'tol': 0.008942839302023194, 'fit_intercept': False, 'class_weight': 'balanced'}. Best is trial 72 with value: 0.8961167227833895.\n",
      "[I 2025-03-10 16:49:37,681] Trial 161 finished with value: 0.8960998877665546 and parameters: {'solver_penalty': ('lbfgs', 'l2'), 'C': 10.380635329276704, 'tol': 0.007045933166175572, 'fit_intercept': True, 'class_weight': 'balanced'}. Best is trial 72 with value: 0.8961167227833895.\n",
      "[I 2025-03-10 16:49:38,278] Trial 162 finished with value: 0.8960998877665546 and parameters: {'solver_penalty': ('lbfgs', 'l2'), 'C': 3.558462926190882, 'tol': 0.006736798538925642, 'fit_intercept': True, 'class_weight': 'balanced'}. Best is trial 72 with value: 0.8961167227833895.\n",
      "[I 2025-03-10 16:49:38,807] Trial 163 finished with value: 0.8960998877665546 and parameters: {'solver_penalty': ('lbfgs', 'l2'), 'C': 91.83118582029539, 'tol': 0.006687498620171271, 'fit_intercept': True, 'class_weight': 'balanced'}. Best is trial 72 with value: 0.8961167227833895.\n",
      "[I 2025-03-10 16:49:39,546] Trial 160 finished with value: 0.8960998877665546 and parameters: {'solver_penalty': ('newton-cg', 'l2'), 'C': 67.5764327223788, 'tol': 0.009644203071049988, 'fit_intercept': True, 'class_weight': 'balanced'}. Best is trial 72 with value: 0.8961167227833895.\n",
      "[I 2025-03-10 16:49:43,278] Trial 167 finished with value: 0.8921885521885521 and parameters: {'solver_penalty': ('newton-cholesky', None), 'C': 42.85709843689086, 'tol': 0.00964366677213501, 'fit_intercept': True, 'class_weight': None}. Best is trial 72 with value: 0.8961167227833895.\n",
      "[I 2025-03-10 16:49:45,219] Trial 164 finished with value: 0.8960269360269362 and parameters: {'solver_penalty': ('newton-cg', 'l2'), 'C': 76.84574126290033, 'tol': 0.008037800241526099, 'fit_intercept': True, 'class_weight': 'balanced'}. Best is trial 72 with value: 0.8961167227833895.\n",
      "[I 2025-03-10 16:49:45,747] Trial 165 finished with value: 0.8960998877665546 and parameters: {'solver_penalty': ('newton-cg', 'l2'), 'C': 74.81570158150109, 'tol': 0.009093005680624733, 'fit_intercept': True, 'class_weight': 'balanced'}. Best is trial 72 with value: 0.8961167227833895.\n",
      "[I 2025-03-10 16:49:46,099] Trial 166 finished with value: 0.8961167227833895 and parameters: {'solver_penalty': ('newton-cg', 'l2'), 'C': 72.43759431839527, 'tol': 0.008433048558944894, 'fit_intercept': True, 'class_weight': 'balanced'}. Best is trial 72 with value: 0.8961167227833895.\n",
      "[I 2025-03-10 16:49:49,178] Trial 171 finished with value: 0.8932940516273851 and parameters: {'solver_penalty': ('liblinear', 'l2'), 'C': 88.2427655163865, 'tol': 0.00953846471596468, 'fit_intercept': True, 'class_weight': 'balanced'}. Best is trial 72 with value: 0.8961167227833895.\n",
      "[I 2025-03-10 16:49:49,698] Trial 168 finished with value: 0.8931257014590347 and parameters: {'solver_penalty': ('lbfgs', None), 'C': 89.65440589954339, 'tol': 0.0010662463402134961, 'fit_intercept': False, 'class_weight': None}. Best is trial 72 with value: 0.8961167227833895.\n",
      "[I 2025-03-10 16:49:53,669] Trial 173 finished with value: 0.8960942760942763 and parameters: {'solver_penalty': ('lbfgs', None), 'C': 0.2952712377704634, 'tol': 0.009977275246764887, 'fit_intercept': True, 'class_weight': 'balanced'}. Best is trial 72 with value: 0.8961167227833895.\n",
      "[I 2025-03-10 16:49:54,007] Trial 169 finished with value: 0.8960998877665546 and parameters: {'solver_penalty': ('newton-cg', None), 'C': 66.59199143040027, 'tol': 0.009592954060300163, 'fit_intercept': True, 'class_weight': 'balanced'}. Best is trial 72 with value: 0.8961167227833895.\n",
      "[I 2025-03-10 16:49:54,706] Trial 170 finished with value: 0.8960269360269362 and parameters: {'solver_penalty': ('newton-cg', 'l2'), 'C': 33.20342300529619, 'tol': 0.0080185708032377, 'fit_intercept': True, 'class_weight': 'balanced'}. Best is trial 72 with value: 0.8961167227833895.\n",
      "[I 2025-03-10 16:49:57,321] Trial 172 finished with value: 0.8960998877665546 and parameters: {'solver_penalty': ('newton-cg', 'l2'), 'C': 28.801010563033042, 'tol': 0.009032010224853964, 'fit_intercept': True, 'class_weight': 'balanced'}. Best is trial 72 with value: 0.8961167227833895.\n",
      "[I 2025-03-10 16:49:57,726] Trial 175 finished with value: 0.8922502805836139 and parameters: {'solver_penalty': ('newton-cholesky', 'l2'), 'C': 14.560231605730406, 'tol': 0.00958272792809187, 'fit_intercept': True, 'class_weight': None}. Best is trial 72 with value: 0.8961167227833895.\n",
      "[I 2025-03-10 16:50:01,331] Trial 177 finished with value: 0.8812401795735129 and parameters: {'solver_penalty': ('newton-cholesky', None), 'C': 72.46778437949945, 'tol': 0.00982333891038888, 'fit_intercept': False, 'class_weight': 'balanced'}. Best is trial 72 with value: 0.8961167227833895.\n",
      "[I 2025-03-10 16:50:03,415] Trial 174 finished with value: 0.8957912457912458 and parameters: {'solver_penalty': ('newton-cg', 'l2'), 'C': 30.30105976388761, 'tol': 0.007293632753458519, 'fit_intercept': True, 'class_weight': 'balanced'}. Best is trial 72 with value: 0.8961167227833895.\n",
      "[I 2025-03-10 16:50:03,683] Trial 176 finished with value: 0.8961167227833895 and parameters: {'solver_penalty': ('newton-cg', 'l2'), 'C': 66.4236016525152, 'tol': 0.0084022951137071, 'fit_intercept': True, 'class_weight': 'balanced'}. Best is trial 72 with value: 0.8961167227833895.\n",
      "[I 2025-03-10 16:50:05,728] Trial 178 finished with value: 0.8960998877665546 and parameters: {'solver_penalty': ('newton-cg', 'l2'), 'C': 65.09895767511975, 'tol': 0.009646223611163136, 'fit_intercept': True, 'class_weight': 'balanced'}. Best is trial 72 with value: 0.8961167227833895.\n",
      "[I 2025-03-10 16:50:07,214] Trial 180 finished with value: 0.8954264870931539 and parameters: {'solver_penalty': ('lbfgs', 'l2'), 'C': 94.06885746482943, 'tol': 0.004334503504951652, 'fit_intercept': False, 'class_weight': None}. Best is trial 72 with value: 0.8961167227833895.\n",
      "[I 2025-03-10 16:50:09,283] Trial 179 finished with value: 0.8961167227833895 and parameters: {'solver_penalty': ('newton-cg', 'l2'), 'C': 71.72391435580772, 'tol': 0.008693020338944268, 'fit_intercept': True, 'class_weight': 'balanced'}. Best is trial 72 with value: 0.8961167227833895.\n",
      "[I 2025-03-10 16:50:12,278] Trial 181 finished with value: 0.8961167227833895 and parameters: {'solver_penalty': ('newton-cg', 'l2'), 'C': 57.82486424964912, 'tol': 0.00863807443428695, 'fit_intercept': True, 'class_weight': 'balanced'}. Best is trial 72 with value: 0.8961167227833895.\n",
      "[I 2025-03-10 16:50:12,909] Trial 184 finished with value: 0.8837093153759821 and parameters: {'solver_penalty': ('liblinear', 'l1'), 'C': 74.4713959744856, 'tol': 0.0033731023597787964, 'fit_intercept': False, 'class_weight': 'balanced'}. Best is trial 72 with value: 0.8961167227833895.\n",
      "[I 2025-03-10 16:50:15,019] Trial 182 finished with value: 0.8958754208754209 and parameters: {'solver_penalty': ('newton-cg', 'l2'), 'C': 54.40343017675522, 'tol': 0.007555149842171898, 'fit_intercept': True, 'class_weight': 'balanced'}. Best is trial 72 with value: 0.8961167227833895.\n",
      "[I 2025-03-10 16:50:16,157] Trial 183 finished with value: 0.8958754208754209 and parameters: {'solver_penalty': ('newton-cg', 'l2'), 'C': 66.85264437494327, 'tol': 0.007543247736885118, 'fit_intercept': True, 'class_weight': 'balanced'}. Best is trial 72 with value: 0.8961167227833895.\n",
      "[I 2025-03-10 16:50:16,531] Trial 185 finished with value: 0.8812514029180696 and parameters: {'solver_penalty': ('newton-cholesky', 'l2'), 'C': 52.567786044709166, 'tol': 0.008397005798849631, 'fit_intercept': False, 'class_weight': 'balanced'}. Best is trial 72 with value: 0.8961167227833895.\n",
      "[I 2025-03-10 16:50:21,097] Trial 188 finished with value: 0.8917115600448934 and parameters: {'solver_penalty': ('newton-cholesky', None), 'C': 38.38271416502835, 'tol': 0.009696917584742514, 'fit_intercept': True, 'class_weight': 'balanced'}. Best is trial 72 with value: 0.8961167227833895.\n",
      "[I 2025-03-10 16:50:21,427] Trial 189 finished with value: 0.8917115600448934 and parameters: {'solver_penalty': ('newton-cholesky', None), 'C': 42.33874519429095, 'tol': 0.009059669465381512, 'fit_intercept': True, 'class_weight': 'balanced'}. Best is trial 72 with value: 0.8961167227833895.\n",
      "[I 2025-03-10 16:50:23,067] Trial 186 finished with value: 0.8957856341189675 and parameters: {'solver_penalty': ('newton-cg', 'l2'), 'C': 63.274484426426, 'tol': 0.007207821724774047, 'fit_intercept': True, 'class_weight': 'balanced'}. Best is trial 72 with value: 0.8961167227833895.\n",
      "[I 2025-03-10 16:50:24,853] Trial 187 finished with value: 0.8957856341189675 and parameters: {'solver_penalty': ('newton-cg', 'l2'), 'C': 61.0402147335605, 'tol': 0.007360618494972623, 'fit_intercept': True, 'class_weight': 'balanced'}. Best is trial 72 with value: 0.8961167227833895.\n",
      "[I 2025-03-10 16:50:28,687] Trial 193 finished with value: 0.8960830527497194 and parameters: {'solver_penalty': ('lbfgs', None), 'C': 93.87831083225853, 'tol': 0.006370429109886797, 'fit_intercept': False, 'class_weight': None}. Best is trial 72 with value: 0.8961167227833895.\n",
      "[I 2025-03-10 16:50:29,452] Trial 192 finished with value: 0.8954601571268237 and parameters: {'solver_penalty': ('newton-cg', 'l2'), 'C': 29.02014651336159, 'tol': 0.009991916013203747, 'fit_intercept': True, 'class_weight': None}. Best is trial 72 with value: 0.8961167227833895.\n",
      "[I 2025-03-10 16:50:29,862] Trial 191 finished with value: 0.8960269360269362 and parameters: {'solver_penalty': ('newton-cg', 'l2'), 'C': 48.57746127256307, 'tol': 0.008149667231064698, 'fit_intercept': True, 'class_weight': 'balanced'}. Best is trial 72 with value: 0.8961167227833895.\n",
      "[I 2025-03-10 16:50:30,628] Trial 190 finished with value: 0.8957856341189675 and parameters: {'solver_penalty': ('newton-cg', 'l2'), 'C': 75.36677248848409, 'tol': 0.007288481209108451, 'fit_intercept': True, 'class_weight': 'balanced'}. Best is trial 72 with value: 0.8961167227833895.\n",
      "[I 2025-03-10 16:50:33,556] Trial 194 finished with value: 0.8952244668911336 and parameters: {'solver_penalty': ('newton-cg', 'l2'), 'C': 21.53769260351609, 'tol': 0.00515293953243417, 'fit_intercept': False, 'class_weight': None}. Best is trial 72 with value: 0.8961167227833895.\n",
      "[I 2025-03-10 16:50:36,165] Trial 197 finished with value: 0.8945679012345679 and parameters: {'solver_penalty': ('newton-cg', 'l2'), 'C': 89.44447498147659, 'tol': 0.008238924033969749, 'fit_intercept': True, 'class_weight': None}. Best is trial 72 with value: 0.8961167227833895.\n",
      "[I 2025-03-10 16:50:37,666] Trial 196 finished with value: 0.8960998877665546 and parameters: {'solver_penalty': ('newton-cg', 'l2'), 'C': 0.2614814900257807, 'tol': 0.008903290161450146, 'fit_intercept': True, 'class_weight': 'balanced'}. Best is trial 72 with value: 0.8961167227833895.\n",
      "[I 2025-03-10 16:50:38,262] Trial 198 finished with value: 0.8923512906846242 and parameters: {'solver_penalty': ('newton-cholesky', 'l2'), 'C': 1.3840334234694094, 'tol': 0.009887066252589677, 'fit_intercept': True, 'class_weight': 'balanced'}. Best is trial 72 with value: 0.8961167227833895.\n",
      "[I 2025-03-10 16:50:39,914] Trial 195 finished with value: 0.8957856341189675 and parameters: {'solver_penalty': ('newton-cg', 'l2'), 'C': 84.99088446409795, 'tol': 0.007144437311352727, 'fit_intercept': True, 'class_weight': 'balanced'}. Best is trial 72 with value: 0.8961167227833895.\n",
      "[I 2025-03-10 16:50:39,915] Trial 199 finished with value: 0.8809147025813692 and parameters: {'solver_penalty': ('liblinear', 'l2'), 'C': 86.54032204097052, 'tol': 0.000199179393263426, 'fit_intercept': False, 'class_weight': 'balanced'}. Best is trial 72 with value: 0.8961167227833895.\n",
      "[I 2025-03-10 16:50:42,023] Trial 200 finished with value: 0.8917115600448934 and parameters: {'solver_penalty': ('newton-cholesky', None), 'C': 0.7905501552872511, 'tol': 0.00898172268904698, 'fit_intercept': True, 'class_weight': 'balanced'}. Best is trial 72 with value: 0.8961167227833895.\n",
      "[I 2025-03-10 16:50:45,460] Trial 201 finished with value: 0.8960998877665546 and parameters: {'solver_penalty': ('newton-cg', 'l2'), 'C': 41.61020838139509, 'tol': 0.009990719869777032, 'fit_intercept': True, 'class_weight': 'balanced'}. Best is trial 72 with value: 0.8961167227833895.\n",
      "[I 2025-03-10 16:50:45,877] Trial 202 finished with value: 0.8960998877665546 and parameters: {'solver_penalty': ('newton-cg', 'l2'), 'C': 55.41612514206304, 'tol': 0.009730285468006873, 'fit_intercept': True, 'class_weight': 'balanced'}. Best is trial 72 with value: 0.8961167227833895.\n",
      "[I 2025-03-10 16:50:49,496] Trial 205 finished with value: 0.8952693602693602 and parameters: {'solver_penalty': ('liblinear', 'l1'), 'C': 65.04634334144646, 'tol': 0.00974825209206936, 'fit_intercept': True, 'class_weight': 'balanced'}. Best is trial 72 with value: 0.8961167227833895.\n",
      "[I 2025-03-10 16:50:49,793] Trial 206 finished with value: 0.8933950617283951 and parameters: {'solver_penalty': ('liblinear', 'l2'), 'C': 38.31918173831351, 'tol': 0.0033615207543991393, 'fit_intercept': True, 'class_weight': None}. Best is trial 72 with value: 0.8961167227833895.\n",
      "[I 2025-03-10 16:50:50,191] Trial 203 finished with value: 0.8951795735129069 and parameters: {'solver_penalty': ('newton-cg', None), 'C': 96.7613156294841, 'tol': 0.006269174200434291, 'fit_intercept': True, 'class_weight': 'balanced'}. Best is trial 72 with value: 0.8961167227833895.\n",
      "[I 2025-03-10 16:50:50,500] Trial 204 finished with value: 0.8960998877665546 and parameters: {'solver_penalty': ('newton-cg', 'l2'), 'C': 58.67049786259378, 'tol': 0.009155265093590829, 'fit_intercept': True, 'class_weight': 'balanced'}. Best is trial 72 with value: 0.8961167227833895.\n",
      "[I 2025-03-10 16:50:52,829] Trial 210 finished with value: 0.8945342312008979 and parameters: {'solver_penalty': ('liblinear', 'l1'), 'C': 61.728933024117325, 'tol': 0.00800741907982868, 'fit_intercept': True, 'class_weight': None}. Best is trial 72 with value: 0.8961167227833895.\n",
      "[I 2025-03-10 16:50:57,156] Trial 207 finished with value: 0.8961167227833895 and parameters: {'solver_penalty': ('newton-cg', 'l2'), 'C': 66.86489070853213, 'tol': 0.008719434791072081, 'fit_intercept': True, 'class_weight': 'balanced'}. Best is trial 72 with value: 0.8961167227833895.\n",
      "[I 2025-03-10 16:50:57,782] Trial 209 finished with value: 0.8960998877665546 and parameters: {'solver_penalty': ('newton-cg', 'l2'), 'C': 76.92236524960437, 'tol': 0.009193226860809187, 'fit_intercept': True, 'class_weight': 'balanced'}. Best is trial 72 with value: 0.8961167227833895.\n",
      "[I 2025-03-10 16:50:58,482] Trial 208 finished with value: 0.8960269360269362 and parameters: {'solver_penalty': ('newton-cg', 'l2'), 'C': 79.13370080499934, 'tol': 0.008060369323522837, 'fit_intercept': True, 'class_weight': 'balanced'}. Best is trial 72 with value: 0.8961167227833895.\n",
      "[I 2025-03-10 16:51:01,512] Trial 213 finished with value: 0.894152637485971 and parameters: {'solver_penalty': ('liblinear', 'l1'), 'C': 42.588913114154956, 'tol': 0.005896915544206214, 'fit_intercept': True, 'class_weight': 'balanced'}. Best is trial 72 with value: 0.8961167227833895.\n",
      "[I 2025-03-10 16:51:02,603] Trial 211 finished with value: 0.8808024691358025 and parameters: {'solver_penalty': ('lbfgs', None), 'C': 35.69594192218594, 'tol': 0.0005584151153469894, 'fit_intercept': False, 'class_weight': 'balanced'}. Best is trial 72 with value: 0.8961167227833895.\n",
      "[I 2025-03-10 16:51:03,710] Trial 214 finished with value: 0.8917115600448934 and parameters: {'solver_penalty': ('newton-cholesky', None), 'C': 78.96805498567777, 'tol': 0.006283034157058108, 'fit_intercept': True, 'class_weight': 'balanced'}. Best is trial 72 with value: 0.8961167227833895.\n",
      "[I 2025-03-10 16:51:07,984] Trial 215 finished with value: 0.8917508417508418 and parameters: {'solver_penalty': ('newton-cholesky', 'l2'), 'C': 47.73551713396896, 'tol': 0.009756030343885926, 'fit_intercept': True, 'class_weight': 'balanced'}. Best is trial 72 with value: 0.8961167227833895.\n",
      "[I 2025-03-10 16:51:08,705] Trial 216 finished with value: 0.8917283950617285 and parameters: {'solver_penalty': ('newton-cholesky', 'l2'), 'C': 82.76485096685047, 'tol': 0.00672813571624856, 'fit_intercept': True, 'class_weight': 'balanced'}. Best is trial 72 with value: 0.8961167227833895.\n",
      "[I 2025-03-10 16:51:09,049] Trial 212 finished with value: 0.8961167227833895 and parameters: {'solver_penalty': ('newton-cg', 'l2'), 'C': 66.72084298927757, 'tol': 0.008460799318264633, 'fit_intercept': True, 'class_weight': 'balanced'}. Best is trial 72 with value: 0.8961167227833895.\n",
      "[I 2025-03-10 16:51:09,861] Trial 217 finished with value: 0.8917452300785633 and parameters: {'solver_penalty': ('newton-cholesky', 'l2'), 'C': 58.96405410462459, 'tol': 0.009608826363102806, 'fit_intercept': True, 'class_weight': 'balanced'}. Best is trial 72 with value: 0.8961167227833895.\n",
      "[I 2025-03-10 16:51:12,778] Trial 218 finished with value: 0.8922951739618407 and parameters: {'solver_penalty': ('newton-cholesky', 'l2'), 'C': 74.4857725389558, 'tol': 0.0002201273140694125, 'fit_intercept': True, 'class_weight': None}. Best is trial 72 with value: 0.8961167227833895.\n",
      "[I 2025-03-10 16:51:17,422] Trial 222 finished with value: 0.8960998877665546 and parameters: {'solver_penalty': ('lbfgs', 'l2'), 'C': 39.109857987618675, 'tol': 0.00700840298385963, 'fit_intercept': True, 'class_weight': 'balanced'}. Best is trial 72 with value: 0.8961167227833895.\n",
      "[I 2025-03-10 16:51:17,804] Trial 219 finished with value: 0.8961167227833895 and parameters: {'solver_penalty': ('newton-cg', 'l2'), 'C': 72.53806402388764, 'tol': 0.008846969554837717, 'fit_intercept': True, 'class_weight': 'balanced'}. Best is trial 72 with value: 0.8961167227833895.\n",
      "[I 2025-03-10 16:51:18,171] Trial 220 finished with value: 0.8960269360269362 and parameters: {'solver_penalty': ('newton-cg', 'l2'), 'C': 69.10274981163208, 'tol': 0.008050287147366034, 'fit_intercept': True, 'class_weight': 'balanced'}. Best is trial 72 with value: 0.8961167227833895.\n",
      "[I 2025-03-10 16:51:18,506] Trial 221 finished with value: 0.8958754208754209 and parameters: {'solver_penalty': ('newton-cg', None), 'C': 51.010972096150326, 'tol': 0.007644657256064041, 'fit_intercept': True, 'class_weight': 'balanced'}. Best is trial 72 with value: 0.8961167227833895.\n",
      "[I 2025-03-10 16:51:24,137] Trial 224 finished with value: 0.8960269360269362 and parameters: {'solver_penalty': ('newton-cg', 'l2'), 'C': 70.71507304962846, 'tol': 0.00818491421018697, 'fit_intercept': True, 'class_weight': 'balanced'}. Best is trial 72 with value: 0.8961167227833895.\n",
      "[I 2025-03-10 16:51:24,435] Trial 225 finished with value: 0.8961167227833895 and parameters: {'solver_penalty': ('newton-cg', 'l2'), 'C': 65.42348383406663, 'tol': 0.008677791326583044, 'fit_intercept': True, 'class_weight': 'balanced'}. Best is trial 72 with value: 0.8961167227833895.\n",
      "[I 2025-03-10 16:51:25,304] Trial 223 finished with value: 0.8951795735129069 and parameters: {'solver_penalty': ('newton-cg', None), 'C': 56.69784378818587, 'tol': 0.006553740393342293, 'fit_intercept': True, 'class_weight': 'balanced'}. Best is trial 72 with value: 0.8961167227833895.\n",
      "[I 2025-03-10 16:51:25,671] Trial 226 finished with value: 0.8961167227833895 and parameters: {'solver_penalty': ('newton-cg', 'l2'), 'C': 67.29687324959554, 'tol': 0.008693569043249189, 'fit_intercept': True, 'class_weight': 'balanced'}. Best is trial 72 with value: 0.8961167227833895.\n",
      "[I 2025-03-10 16:51:30,566] Trial 227 finished with value: 0.8961167227833895 and parameters: {'solver_penalty': ('newton-cg', 'l2'), 'C': 62.377471604749736, 'tol': 0.008380861016971447, 'fit_intercept': True, 'class_weight': 'balanced'}. Best is trial 72 with value: 0.8961167227833895.\n",
      "[I 2025-03-10 16:51:31,241] Trial 228 finished with value: 0.8960269360269362 and parameters: {'solver_penalty': ('newton-cg', 'l2'), 'C': 63.86944185493619, 'tol': 0.0082596624168861, 'fit_intercept': True, 'class_weight': 'balanced'}. Best is trial 72 with value: 0.8961167227833895.\n",
      "[I 2025-03-10 16:51:31,954] Trial 229 finished with value: 0.8961167227833895 and parameters: {'solver_penalty': ('newton-cg', 'l2'), 'C': 61.91753988638065, 'tol': 0.00860168610175426, 'fit_intercept': True, 'class_weight': 'balanced'}. Best is trial 72 with value: 0.8961167227833895.\n",
      "[I 2025-03-10 16:51:32,823] Trial 230 finished with value: 0.8960269360269362 and parameters: {'solver_penalty': ('newton-cg', 'l2'), 'C': 51.39445924156937, 'tol': 0.008202248269879588, 'fit_intercept': True, 'class_weight': 'balanced'}. Best is trial 72 with value: 0.8961167227833895.\n",
      "[I 2025-03-10 16:51:37,589] Trial 232 finished with value: 0.8961167227833895 and parameters: {'solver_penalty': ('newton-cg', 'l2'), 'C': 62.42012615985979, 'tol': 0.008415995857885234, 'fit_intercept': True, 'class_weight': 'balanced'}. Best is trial 72 with value: 0.8961167227833895.\n",
      "[I 2025-03-10 16:51:37,883] Trial 231 finished with value: 0.8960269360269362 and parameters: {'solver_penalty': ('newton-cg', 'l2'), 'C': 61.73024943899754, 'tol': 0.00827310196564827, 'fit_intercept': True, 'class_weight': 'balanced'}. Best is trial 72 with value: 0.8961167227833895.\n",
      "[I 2025-03-10 16:51:38,549] Trial 233 finished with value: 0.8961167227833895 and parameters: {'solver_penalty': ('newton-cg', 'l2'), 'C': 57.93121431726811, 'tol': 0.008374808267856068, 'fit_intercept': True, 'class_weight': 'balanced'}. Best is trial 72 with value: 0.8961167227833895.\n",
      "[I 2025-03-10 16:51:39,321] Trial 234 finished with value: 0.8960998877665546 and parameters: {'solver_penalty': ('newton-cg', 'l2'), 'C': 64.15886111956254, 'tol': 0.008896342850568822, 'fit_intercept': True, 'class_weight': 'balanced'}. Best is trial 72 with value: 0.8961167227833895.\n",
      "[I 2025-03-10 16:51:43,759] Trial 237 finished with value: 0.8945791245791245 and parameters: {'solver_penalty': ('newton-cg', 'l2'), 'C': 67.90310933438907, 'tol': 0.008081348822377165, 'fit_intercept': True, 'class_weight': None}. Best is trial 72 with value: 0.8961167227833895.\n",
      "[I 2025-03-10 16:51:45,308] Trial 235 finished with value: 0.8961167227833895 and parameters: {'solver_penalty': ('newton-cg', 'l2'), 'C': 65.32214212420308, 'tol': 0.00869123026838025, 'fit_intercept': True, 'class_weight': 'balanced'}. Best is trial 72 with value: 0.8961167227833895.\n",
      "[I 2025-03-10 16:51:45,587] Trial 236 finished with value: 0.8961167227833895 and parameters: {'solver_penalty': ('newton-cg', 'l2'), 'C': 72.36792838907739, 'tol': 0.008854037811230316, 'fit_intercept': True, 'class_weight': 'balanced'}. Best is trial 72 with value: 0.8961167227833895.\n",
      "[I 2025-03-10 16:51:46,753] Trial 238 finished with value: 0.8961167227833895 and parameters: {'solver_penalty': ('newton-cg', 'l2'), 'C': 59.71133644183772, 'tol': 0.008511974513079362, 'fit_intercept': True, 'class_weight': 'balanced'}. Best is trial 72 with value: 0.8961167227833895.\n",
      "[I 2025-03-10 16:51:51,044] Trial 239 finished with value: 0.8958754208754209 and parameters: {'solver_penalty': ('newton-cg', 'l2'), 'C': 69.52309197822673, 'tol': 0.007908601006981085, 'fit_intercept': True, 'class_weight': 'balanced'}. Best is trial 72 with value: 0.8961167227833895.\n",
      "[I 2025-03-10 16:51:52,243] Trial 240 finished with value: 0.8960269360269362 and parameters: {'solver_penalty': ('newton-cg', 'l2'), 'C': 73.75915033298433, 'tol': 0.00829411813198033, 'fit_intercept': True, 'class_weight': 'balanced'}. Best is trial 72 with value: 0.8961167227833895.\n",
      "[I 2025-03-10 16:51:52,823] Trial 241 finished with value: 0.8958754208754209 and parameters: {'solver_penalty': ('newton-cg', 'l2'), 'C': 66.95574004470427, 'tol': 0.007627289917706073, 'fit_intercept': True, 'class_weight': 'balanced'}. Best is trial 72 with value: 0.8961167227833895.\n",
      "[I 2025-03-10 16:51:53,367] Trial 242 finished with value: 0.8961167227833895 and parameters: {'solver_penalty': ('newton-cg', 'l2'), 'C': 71.1486577943435, 'tol': 0.008341109918660276, 'fit_intercept': True, 'class_weight': 'balanced'}. Best is trial 72 with value: 0.8961167227833895.\n",
      "[I 2025-03-10 16:51:55,737] Trial 243 finished with value: 0.8945791245791245 and parameters: {'solver_penalty': ('newton-cg', 'l2'), 'C': 76.30619832286222, 'tol': 0.003734939231897834, 'fit_intercept': True, 'class_weight': None}. Best is trial 72 with value: 0.8961167227833895.\n",
      "[I 2025-03-10 16:51:58,171] Trial 246 finished with value: 0.8916722783389449 and parameters: {'solver_penalty': ('newton-cholesky', None), 'C': 95.53818557611478, 'tol': 0.0011679757325097693, 'fit_intercept': True, 'class_weight': 'balanced'}. Best is trial 72 with value: 0.8961167227833895.\n",
      "[I 2025-03-10 16:52:00,148] Trial 244 finished with value: 0.8960998877665546 and parameters: {'solver_penalty': ('newton-cg', None), 'C': 90.37017637588403, 'tol': 0.00924650778938971, 'fit_intercept': True, 'class_weight': 'balanced'}. Best is trial 72 with value: 0.8961167227833895.\n",
      "[I 2025-03-10 16:52:00,527] Trial 247 finished with value: 0.8960942760942763 and parameters: {'solver_penalty': ('lbfgs', 'l2'), 'C': 77.75939362632695, 'tol': 0.008547752766876034, 'fit_intercept': True, 'class_weight': 'balanced'}. Best is trial 72 with value: 0.8961167227833895.\n",
      "[I 2025-03-10 16:52:02,908] Trial 245 finished with value: 0.8948484848484849 and parameters: {'solver_penalty': ('newton-cg', 'l2'), 'C': 57.330543330014116, 'tol': 0.004936350507645704, 'fit_intercept': True, 'class_weight': 'balanced'}. Best is trial 72 with value: 0.8961167227833895.\n",
      "[I 2025-03-10 16:52:03,828] Trial 249 finished with value: 0.8960942760942763 and parameters: {'solver_penalty': ('lbfgs', 'l2'), 'C': 62.54256457162107, 'tol': 0.008054618504982751, 'fit_intercept': True, 'class_weight': 'balanced'}. Best is trial 72 with value: 0.8961167227833895.\n",
      "[I 2025-03-10 16:52:04,204] Trial 248 finished with value: 0.8867957351290684 and parameters: {'solver_penalty': ('newton-cg', 'l2'), 'C': 68.06450599302201, 'tol': 0.008336746361154918, 'fit_intercept': False, 'class_weight': 'balanced'}. Best is trial 72 with value: 0.8961167227833895.\n"
     ]
    }
   ],
   "source": [
    "def objective(trial):\n",
    "    solver_penalty_options = [\n",
    "        (\"liblinear\", \"l1\"),\n",
    "        (\"liblinear\", \"l2\"),\n",
    "        (\"lbfgs\", \"l2\"),\n",
    "        (\"lbfgs\", None),\n",
    "        (\"newton-cg\", \"l2\"),\n",
    "        (\"newton-cg\", None),\n",
    "        (\"newton-cholesky\", \"l2\"),\n",
    "        (\"newton-cholesky\", None)\n",
    "    ]\n",
    "    solver, penalty = trial.suggest_categorical(\"solver_penalty\", solver_penalty_options)\n",
    "    \n",
    "    params = {\n",
    "        \"random_state\": CFG.seed,\n",
    "        \"max_iter\": 500,\n",
    "        \"C\": trial.suggest_float(\"C\", 0, 100),\n",
    "        \"tol\": trial.suggest_float(\"tol\", 1e-6, 1e-2),\n",
    "        \"fit_intercept\": trial.suggest_categorical(\"fit_intercept\", [True, False]),\n",
    "        \"class_weight\": trial.suggest_categorical(\"class_weight\", [\"balanced\", None]),\n",
    "        \"solver\": solver,\n",
    "        \"penalty\": penalty\n",
    "    }\n",
    "    \n",
    "    model = LogisticRegression(**params)\n",
    "    trainer = Trainer(model, is_ensemble_model=True)\n",
    "    return trainer.tune(X, y)\n",
    "\n",
    "if CFG.run_optuna:\n",
    "    sampler = optuna.samplers.TPESampler(seed=CFG.seed, multivariate=True, n_startup_trials=CFG.optuna_trials // 10)\n",
    "    study = optuna.create_study(direction=\"maximize\", sampler=sampler)\n",
    "    study.optimize(objective, n_trials=CFG.optuna_trials, n_jobs=-1)\n",
    "    best_params = study.best_params\n",
    "    \n",
    "    solver, penalty = best_params[\"solver_penalty\"]\n",
    "    lr_params = {\n",
    "        \"random_state\": CFG.seed,\n",
    "        \"max_iter\": 500,\n",
    "        \"C\": best_params[\"C\"],\n",
    "        \"tol\": best_params[\"tol\"],\n",
    "        \"fit_intercept\": best_params[\"fit_intercept\"],\n",
    "        \"class_weight\": best_params[\"class_weight\"],\n",
    "        \"solver\": solver,\n",
    "        \"penalty\": penalty\n",
    "    }\n",
    "else:\n",
    "    lr_params = {\n",
    "        \"random_state\": CFG.seed,\n",
    "        \"max_iter\": 500\n",
    "    }"
   ]
  },
  {
   "cell_type": "code",
   "execution_count": 24,
   "id": "4ed63e70",
   "metadata": {
    "execution": {
     "iopub.execute_input": "2025-03-10T16:52:04.265234Z",
     "iopub.status.busy": "2025-03-10T16:52:04.264887Z",
     "iopub.status.idle": "2025-03-10T16:52:04.270902Z",
     "shell.execute_reply": "2025-03-10T16:52:04.269670Z"
    },
    "papermill": {
     "duration": 0.034324,
     "end_time": "2025-03-10T16:52:04.272574",
     "exception": false,
     "start_time": "2025-03-10T16:52:04.238250",
     "status": "completed"
    },
    "tags": []
   },
   "outputs": [
    {
     "name": "stdout",
     "output_type": "stream",
     "text": [
      "{\n",
      "  \"random_state\": 42,\n",
      "  \"max_iter\": 500,\n",
      "  \"C\": 62.68608474328893,\n",
      "  \"tol\": 0.008535787050745064,\n",
      "  \"fit_intercept\": true,\n",
      "  \"class_weight\": \"balanced\",\n",
      "  \"solver\": \"newton-cg\",\n",
      "  \"penalty\": \"l2\"\n",
      "}\n"
     ]
    }
   ],
   "source": [
    "print(json.dumps(lr_params, indent=2))"
   ]
  },
  {
   "cell_type": "code",
   "execution_count": 25,
   "id": "aa4fe3e3",
   "metadata": {
    "execution": {
     "iopub.execute_input": "2025-03-10T16:52:04.325256Z",
     "iopub.status.busy": "2025-03-10T16:52:04.324915Z",
     "iopub.status.idle": "2025-03-10T16:52:05.836258Z",
     "shell.execute_reply": "2025-03-10T16:52:05.834847Z"
    },
    "papermill": {
     "duration": 1.539773,
     "end_time": "2025-03-10T16:52:05.838167",
     "exception": false,
     "start_time": "2025-03-10T16:52:04.298394",
     "status": "completed"
    },
    "tags": []
   },
   "outputs": [
    {
     "name": "stdout",
     "output_type": "stream",
     "text": [
      "Training LogisticRegression\n",
      "\n",
      "--- Fold 1 - ROC AUC: 0.925701 (6 iterations)\n",
      "--- Fold 2 - ROC AUC: 0.858221 (6 iterations)\n",
      "--- Fold 3 - ROC AUC: 0.880275 (5 iterations)\n",
      "--- Fold 4 - ROC AUC: 0.914646 (6 iterations)\n",
      "--- Fold 5 - ROC AUC: 0.901740 (6 iterations)\n",
      "\n",
      "------ Overall: 0.891969 | Average: 0.896117 ± 0.024237\n"
     ]
    }
   ],
   "source": [
    "lr_model = LogisticRegression(**lr_params)\n",
    "lr_trainer = Trainer(lr_model, is_ensemble_model=True)\n",
    "lr_oof_pred_probs, lr_test_pred_probs, scores[\"Ensemble LR\"], lr_coeffs = lr_trainer.fit_predict(X, y, X_test)"
   ]
  },
  {
   "cell_type": "code",
   "execution_count": 26,
   "id": "41f8a080",
   "metadata": {
    "execution": {
     "iopub.execute_input": "2025-03-10T16:52:05.891532Z",
     "iopub.status.busy": "2025-03-10T16:52:05.891192Z",
     "iopub.status.idle": "2025-03-10T16:52:05.934824Z",
     "shell.execute_reply": "2025-03-10T16:52:05.933571Z"
    },
    "papermill": {
     "duration": 0.072712,
     "end_time": "2025-03-10T16:52:05.936772",
     "exception": false,
     "start_time": "2025-03-10T16:52:05.864060",
     "status": "completed"
    },
    "tags": []
   },
   "outputs": [
    {
     "data": {
      "text/html": [
       "<div>\n",
       "<style scoped>\n",
       "    .dataframe tbody tr th:only-of-type {\n",
       "        vertical-align: middle;\n",
       "    }\n",
       "\n",
       "    .dataframe tbody tr th {\n",
       "        vertical-align: top;\n",
       "    }\n",
       "\n",
       "    .dataframe thead th {\n",
       "        text-align: right;\n",
       "    }\n",
       "</style>\n",
       "<table border=\"1\" class=\"dataframe\">\n",
       "  <thead>\n",
       "    <tr style=\"text-align: right;\">\n",
       "      <th></th>\n",
       "      <th>id</th>\n",
       "      <th>rainfall</th>\n",
       "    </tr>\n",
       "  </thead>\n",
       "  <tbody>\n",
       "    <tr>\n",
       "      <th>0</th>\n",
       "      <td>2190</td>\n",
       "      <td>0.938973</td>\n",
       "    </tr>\n",
       "    <tr>\n",
       "      <th>1</th>\n",
       "      <td>2191</td>\n",
       "      <td>0.947654</td>\n",
       "    </tr>\n",
       "    <tr>\n",
       "      <th>2</th>\n",
       "      <td>2192</td>\n",
       "      <td>0.801457</td>\n",
       "    </tr>\n",
       "    <tr>\n",
       "      <th>3</th>\n",
       "      <td>2193</td>\n",
       "      <td>0.047924</td>\n",
       "    </tr>\n",
       "    <tr>\n",
       "      <th>4</th>\n",
       "      <td>2194</td>\n",
       "      <td>0.028206</td>\n",
       "    </tr>\n",
       "  </tbody>\n",
       "</table>\n",
       "</div>"
      ],
      "text/plain": [
       "     id  rainfall\n",
       "0  2190  0.938973\n",
       "1  2191  0.947654\n",
       "2  2192  0.801457\n",
       "3  2193  0.047924\n",
       "4  2194  0.028206"
      ]
     },
     "execution_count": 26,
     "metadata": {},
     "output_type": "execute_result"
    }
   ],
   "source": [
    "save_submission(\"ensemble-lr\", lr_test_pred_probs, np.mean(scores[\"Ensemble LR\"]))"
   ]
  },
  {
   "cell_type": "code",
   "execution_count": 27,
   "id": "6090df24",
   "metadata": {
    "_kg_hide-input": false,
    "execution": {
     "iopub.execute_input": "2025-03-10T16:52:05.989526Z",
     "iopub.status.busy": "2025-03-10T16:52:05.989161Z",
     "iopub.status.idle": "2025-03-10T16:52:06.362582Z",
     "shell.execute_reply": "2025-03-10T16:52:06.361303Z"
    },
    "papermill": {
     "duration": 0.401593,
     "end_time": "2025-03-10T16:52:06.364515",
     "exception": false,
     "start_time": "2025-03-10T16:52:05.962922",
     "status": "completed"
    },
    "tags": []
   },
   "outputs": [
    {
     "data": {
      "image/png": "[encoded data removed]",
      "text/plain": [
       "<Figure size 1000x550 with 1 Axes>"
      ]
     },
     "metadata": {},
     "output_type": "display_data"
    }
   ],
   "source": [
    "plot_weights(lr_coeffs, \"LR Coefficients\")"
   ]
  },
  {
   "cell_type": "markdown",
   "id": "52e3438e",
   "metadata": {
    "papermill": {
     "duration": 0.027331,
     "end_time": "2025-03-10T16:52:06.420490",
     "exception": false,
     "start_time": "2025-03-10T16:52:06.393159",
     "status": "completed"
    },
    "tags": []
   },
   "source": [
    "# Ensembling with Ridge"
   ]
  },
  {
   "cell_type": "code",
   "execution_count": 28,
   "id": "49f5bcb4",
   "metadata": {
    "execution": {
     "iopub.execute_input": "2025-03-10T16:52:06.478208Z",
     "iopub.status.busy": "2025-03-10T16:52:06.477858Z",
     "iopub.status.idle": "2025-03-10T16:52:06.483971Z",
     "shell.execute_reply": "2025-03-10T16:52:06.482728Z"
    },
    "papermill": {
     "duration": 0.036336,
     "end_time": "2025-03-10T16:52:06.485966",
     "exception": false,
     "start_time": "2025-03-10T16:52:06.449630",
     "status": "completed"
    },
    "tags": []
   },
   "outputs": [],
   "source": [
    "X = pd.DataFrame(oof_pred_probs)\n",
    "X_test = pd.DataFrame(test_pred_probs)"
   ]
  },
  {
   "cell_type": "code",
   "execution_count": 29,
   "id": "ecdd00ba",
   "metadata": {
    "_kg_hide-output": true,
    "execution": {
     "iopub.execute_input": "2025-03-10T16:52:06.554870Z",
     "iopub.status.busy": "2025-03-10T16:52:06.554441Z",
     "iopub.status.idle": "2025-03-10T16:58:52.174047Z",
     "shell.execute_reply": "2025-03-10T16:58:52.172933Z"
    },
    "papermill": {
     "duration": 405.662576,
     "end_time": "2025-03-10T16:58:52.176136",
     "exception": false,
     "start_time": "2025-03-10T16:52:06.513560",
     "status": "completed"
    },
    "scrolled": true,
    "tags": []
   },
   "outputs": [
    {
     "name": "stderr",
     "output_type": "stream",
     "text": [
      "[I 2025-03-10 16:52:06,562] A new study created in memory with name: no-name-b0815daa-f0b6-42df-9f3f-b7a22c374e28\n",
      "[I 2025-03-10 16:52:10,826] Trial 0 finished with value: 0.8956958473625141 and parameters: {'alpha': 19.564782863295104, 'tol': 0.005853707531073994, 'positive': False, 'fit_intercept': True}. Best is trial 0 with value: 0.8956958473625141.\n",
      "[I 2025-03-10 16:52:11,213] Trial 3 finished with value: 0.8953086419753087 and parameters: {'alpha': 1.9301336717843565, 'tol': 0.009116743530625453, 'positive': False, 'fit_intercept': False}. Best is trial 0 with value: 0.8956958473625141.\n",
      "[I 2025-03-10 16:52:13,346] Trial 1 finished with value: 0.8958080808080808 and parameters: {'alpha': 24.33265599449252, 'tol': 0.003766797650804189, 'positive': True, 'fit_intercept': True}. Best is trial 1 with value: 0.8958080808080808.\n",
      "[I 2025-03-10 16:52:14,293] Trial 2 finished with value: 0.8958080808080808 and parameters: {'alpha': 12.841898569327626, 'tol': 0.0051061224111150156, 'positive': True, 'fit_intercept': True}. Best is trial 1 with value: 0.8958080808080808.\n",
      "[I 2025-03-10 16:52:16,822] Trial 5 finished with value: 0.8956677890011223 and parameters: {'alpha': 16.20700427118387, 'tol': 0.005498830667541651, 'positive': False, 'fit_intercept': True}. Best is trial 1 with value: 0.8958080808080808.\n",
      "[I 2025-03-10 16:52:17,088] Trial 4 finished with value: 0.8956790123456789 and parameters: {'alpha': 17.176642752331958, 'tol': 0.006805615342700431, 'positive': False, 'fit_intercept': True}. Best is trial 1 with value: 0.8958080808080808.\n",
      "[I 2025-03-10 16:52:19,197] Trial 6 finished with value: 0.8960381593714928 and parameters: {'alpha': 21.372884856196023, 'tol': 0.0004528481248188006, 'positive': False, 'fit_intercept': False}. Best is trial 6 with value: 0.8960381593714928.\n",
      "[I 2025-03-10 16:52:20,594] Trial 7 finished with value: 0.896094276094276 and parameters: {'alpha': 11.356633364948173, 'tol': 0.004299258801291315, 'positive': False, 'fit_intercept': False}. Best is trial 7 with value: 0.896094276094276.\n",
      "[I 2025-03-10 16:52:22,296] Trial 8 finished with value: 0.8960381593714928 and parameters: {'alpha': 18.322266214426616, 'tol': 0.008888516427805434, 'positive': False, 'fit_intercept': False}. Best is trial 7 with value: 0.896094276094276.\n",
      "[I 2025-03-10 16:52:26,123] Trial 11 finished with value: 0.895662177328844 and parameters: {'alpha': 16.345871729758247, 'tol': 3.229089485601714e-05, 'positive': False, 'fit_intercept': True}. Best is trial 7 with value: 0.896094276094276.\n",
      "[I 2025-03-10 16:52:27,494] Trial 10 finished with value: 0.8957968574635242 and parameters: {'alpha': 2.1375036002886927, 'tol': 0.005897166359288727, 'positive': True, 'fit_intercept': True}. Best is trial 7 with value: 0.896094276094276.\n",
      "[I 2025-03-10 16:52:27,804] Trial 9 finished with value: 0.895993265993266 and parameters: {'alpha': 0.47934319126672065, 'tol': 0.001020350142322022, 'positive': True, 'fit_intercept': False}. Best is trial 7 with value: 0.896094276094276.\n",
      "[I 2025-03-10 16:52:30,179] Trial 12 finished with value: 0.8958080808080808 and parameters: {'alpha': 23.98805946772153, 'tol': 0.007809680016984669, 'positive': True, 'fit_intercept': True}. Best is trial 7 with value: 0.896094276094276.\n",
      "[I 2025-03-10 16:52:32,131] Trial 13 finished with value: 0.896094276094276 and parameters: {'alpha': 13.397306462588233, 'tol': 0.007866422145429139, 'positive': False, 'fit_intercept': False}. Best is trial 7 with value: 0.896094276094276.\n",
      "[I 2025-03-10 16:52:33,297] Trial 14 finished with value: 0.8960662177328844 and parameters: {'alpha': 22.76476584600887, 'tol': 0.009679083830630528, 'positive': False, 'fit_intercept': False}. Best is trial 7 with value: 0.896094276094276.\n",
      "[I 2025-03-10 16:52:33,810] Trial 15 finished with value: 0.8957070707070708 and parameters: {'alpha': 22.781418618740695, 'tol': 0.005456268073375606, 'positive': False, 'fit_intercept': True}. Best is trial 7 with value: 0.896094276094276.\n",
      "[I 2025-03-10 16:52:35,591] Trial 16 finished with value: 0.8956958473625141 and parameters: {'alpha': 19.4926563855319, 'tol': 0.006341389025205429, 'positive': False, 'fit_intercept': True}. Best is trial 7 with value: 0.896094276094276.\n",
      "[I 2025-03-10 16:52:40,354] Trial 17 finished with value: 0.8958305274971942 and parameters: {'alpha': 23.67697623794426, 'tol': 0.009507158639713072, 'positive': True, 'fit_intercept': False}. Best is trial 7 with value: 0.896094276094276.\n",
      "[I 2025-03-10 16:52:41,092] Trial 20 finished with value: 0.8957070707070706 and parameters: {'alpha': 18.93248775364455, 'tol': 0.0039049763320704077, 'positive': False, 'fit_intercept': True}. Best is trial 7 with value: 0.896094276094276.\n",
      "[I 2025-03-10 16:52:41,375] Trial 19 finished with value: 0.8956958473625141 and parameters: {'alpha': 1.9741934758727486, 'tol': 0.003885067814903498, 'positive': True, 'fit_intercept': False}. Best is trial 7 with value: 0.896094276094276.\n",
      "[I 2025-03-10 16:52:41,870] Trial 18 finished with value: 0.8958305274971942 and parameters: {'alpha': 18.086761502284652, 'tol': 0.0029607564715134903, 'positive': True, 'fit_intercept': False}. Best is trial 7 with value: 0.896094276094276.\n",
      "[I 2025-03-10 16:52:44,078] Trial 21 finished with value: 0.8960718294051627 and parameters: {'alpha': 10.16325775234154, 'tol': 0.0021625832246574537, 'positive': False, 'fit_intercept': False}. Best is trial 7 with value: 0.896094276094276.\n",
      "[I 2025-03-10 16:52:45,900] Trial 23 finished with value: 0.8960269360269362 and parameters: {'alpha': 20.954970270655853, 'tol': 0.00851400672204963, 'positive': False, 'fit_intercept': False}. Best is trial 7 with value: 0.896094276094276.\n",
      "[I 2025-03-10 16:52:49,380] Trial 22 finished with value: 0.8956341189674524 and parameters: {'alpha': 1.0279177314116095, 'tol': 0.009127669465140303, 'positive': True, 'fit_intercept': True}. Best is trial 7 with value: 0.896094276094276.\n",
      "[I 2025-03-10 16:52:50,136] Trial 26 finished with value: 0.895695847362514 and parameters: {'alpha': 17.835754117758142, 'tol': 0.006347920291130695, 'positive': False, 'fit_intercept': True}. Best is trial 7 with value: 0.896094276094276.\n",
      "[I 2025-03-10 16:52:50,419] Trial 24 finished with value: 0.8958080808080808 and parameters: {'alpha': 20.83382278408831, 'tol': 0.007386189179827749, 'positive': True, 'fit_intercept': True}. Best is trial 7 with value: 0.896094276094276.\n",
      "[I 2025-03-10 16:52:52,714] Trial 25 finished with value: 0.8958080808080808 and parameters: {'alpha': 21.47960803200043, 'tol': 0.007617888734018402, 'positive': True, 'fit_intercept': True}. Best is trial 7 with value: 0.896094276094276.\n",
      "[I 2025-03-10 16:52:54,737] Trial 27 finished with value: 0.8959259259259259 and parameters: {'alpha': 7.003516237281712, 'tol': 0.002195388595333358, 'positive': False, 'fit_intercept': False}. Best is trial 7 with value: 0.896094276094276.\n",
      "[I 2025-03-10 16:52:55,782] Trial 28 finished with value: 0.8960157126823795 and parameters: {'alpha': 9.5385675262205, 'tol': 0.003767159634849072, 'positive': False, 'fit_intercept': False}. Best is trial 7 with value: 0.896094276094276.\n",
      "[I 2025-03-10 16:52:57,276] Trial 29 finished with value: 0.8961223344556679 and parameters: {'alpha': 11.873512258834634, 'tol': 0.0025630268609617398, 'positive': False, 'fit_intercept': False}. Best is trial 29 with value: 0.8961223344556679.\n",
      "[I 2025-03-10 16:52:58,278] Trial 30 finished with value: 0.8960830527497194 and parameters: {'alpha': 10.60727914225502, 'tol': 0.0028650766291401244, 'positive': False, 'fit_intercept': False}. Best is trial 29 with value: 0.8961223344556679.\n",
      "[I 2025-03-10 16:53:01,614] Trial 31 finished with value: 0.8960830527497194 and parameters: {'alpha': 10.630855328579367, 'tol': 0.0053074608291946825, 'positive': False, 'fit_intercept': False}. Best is trial 29 with value: 0.8961223344556679.\n",
      "[I 2025-03-10 16:53:03,647] Trial 33 finished with value: 0.8960662177328844 and parameters: {'alpha': 14.457977781819714, 'tol': 0.005478892689661617, 'positive': False, 'fit_intercept': False}. Best is trial 29 with value: 0.8961223344556679.\n",
      "[I 2025-03-10 16:53:04,316] Trial 34 finished with value: 0.8961447811447811 and parameters: {'alpha': 12.316198988542993, 'tol': 0.006133844539682824, 'positive': False, 'fit_intercept': False}. Best is trial 34 with value: 0.8961447811447811.\n",
      "[I 2025-03-10 16:53:04,666] Trial 32 finished with value: 0.8958305274971942 and parameters: {'alpha': 11.591032608371044, 'tol': 0.008482500549913868, 'positive': True, 'fit_intercept': False}. Best is trial 34 with value: 0.8961447811447811.\n",
      "[I 2025-03-10 16:53:08,475] Trial 35 finished with value: 0.8953815937149271 and parameters: {'alpha': 7.834807557256389, 'tol': 0.00309089718547805, 'positive': False, 'fit_intercept': True}. Best is trial 34 with value: 0.8961447811447811.\n",
      "[I 2025-03-10 16:53:10,734] Trial 38 finished with value: 0.8960718294051627 and parameters: {'alpha': 10.78361114498691, 'tol': 0.00795173322688702, 'positive': False, 'fit_intercept': False}. Best is trial 34 with value: 0.8961447811447811.\n",
      "[I 2025-03-10 16:53:11,693] Trial 36 finished with value: 0.8958305274971942 and parameters: {'alpha': 9.436356842895893, 'tol': 0.00449316881262212, 'positive': True, 'fit_intercept': False}. Best is trial 34 with value: 0.8961447811447811.\n",
      "[I 2025-03-10 16:53:12,236] Trial 37 finished with value: 0.8958305274971942 and parameters: {'alpha': 15.232322329815549, 'tol': 0.005980921099028884, 'positive': True, 'fit_intercept': False}. Best is trial 34 with value: 0.8961447811447811.\n",
      "[I 2025-03-10 16:53:13,690] Trial 39 finished with value: 0.896077441077441 and parameters: {'alpha': 10.797136138356223, 'tol': 0.008430679971655726, 'positive': False, 'fit_intercept': False}. Best is trial 34 with value: 0.8961447811447811.\n",
      "[I 2025-03-10 16:53:15,914] Trial 40 finished with value: 0.8960157126823795 and parameters: {'alpha': 9.502238459447021, 'tol': 0.006602516211097236, 'positive': False, 'fit_intercept': False}. Best is trial 34 with value: 0.8961447811447811.\n",
      "[I 2025-03-10 16:53:18,661] Trial 42 finished with value: 0.8960437710437711 and parameters: {'alpha': 19.31860297820368, 'tol': 0.003578876258016543, 'positive': False, 'fit_intercept': False}. Best is trial 34 with value: 0.8961447811447811.\n",
      "[I 2025-03-10 16:53:19,336] Trial 41 finished with value: 0.895611672278339 and parameters: {'alpha': 14.490017198074714, 'tol': 0.009627360532849313, 'positive': False, 'fit_intercept': True}. Best is trial 34 with value: 0.8961447811447811.\n",
      "[I 2025-03-10 16:53:20,804] Trial 43 finished with value: 0.8960774410774413 and parameters: {'alpha': 19.725147439710085, 'tol': 0.0034330639481477527, 'positive': False, 'fit_intercept': False}. Best is trial 34 with value: 0.8961447811447811.\n",
      "[I 2025-03-10 16:53:23,122] Trial 44 finished with value: 0.8960493827160494 and parameters: {'alpha': 16.711046362849107, 'tol': 0.002753044356578954, 'positive': False, 'fit_intercept': False}. Best is trial 34 with value: 0.8961447811447811.\n",
      "[I 2025-03-10 16:53:25,057] Trial 45 finished with value: 0.8953759820426488 and parameters: {'alpha': 6.917197753508836, 'tol': 0.007178077479749291, 'positive': False, 'fit_intercept': True}. Best is trial 34 with value: 0.8961447811447811.\n",
      "[I 2025-03-10 16:53:26,869] Trial 46 finished with value: 0.8960662177328844 and parameters: {'alpha': 14.042635647741822, 'tol': 0.001867737883095887, 'positive': False, 'fit_intercept': False}. Best is trial 34 with value: 0.8961447811447811.\n",
      "[I 2025-03-10 16:53:27,648] Trial 47 finished with value: 0.8960998877665544 and parameters: {'alpha': 12.717705487477453, 'tol': 0.0015529506796117373, 'positive': False, 'fit_intercept': False}. Best is trial 34 with value: 0.8961447811447811.\n",
      "[I 2025-03-10 16:53:29,970] Trial 48 finished with value: 0.8961054994388327 and parameters: {'alpha': 12.4846216020747, 'tol': 0.0007971911401195649, 'positive': False, 'fit_intercept': False}. Best is trial 34 with value: 0.8961447811447811.\n",
      "[I 2025-03-10 16:53:31,527] Trial 49 finished with value: 0.8961335578002245 and parameters: {'alpha': 12.398661509915003, 'tol': 0.00014805086994482217, 'positive': False, 'fit_intercept': False}. Best is trial 34 with value: 0.8961447811447811.\n",
      "[I 2025-03-10 16:53:32,338] Trial 50 finished with value: 0.8960606060606061 and parameters: {'alpha': 13.92825937272348, 'tol': 0.006567389020427469, 'positive': False, 'fit_intercept': False}. Best is trial 34 with value: 0.8961447811447811.\n",
      "[I 2025-03-10 16:53:33,503] Trial 51 finished with value: 0.8960606060606061 and parameters: {'alpha': 14.461476343118871, 'tol': 0.0002523323585165932, 'positive': False, 'fit_intercept': False}. Best is trial 34 with value: 0.8961447811447811.\n",
      "[I 2025-03-10 16:53:35,440] Trial 52 finished with value: 0.8961503928170595 and parameters: {'alpha': 12.237385905836229, 'tol': 3.966339940318945e-05, 'positive': False, 'fit_intercept': False}. Best is trial 52 with value: 0.8961503928170595.\n",
      "[I 2025-03-10 16:53:37,161] Trial 54 finished with value: 0.8960886644219977 and parameters: {'alpha': 11.011071105720251, 'tol': 0.00025310978246051864, 'positive': False, 'fit_intercept': False}. Best is trial 52 with value: 0.8961503928170595.\n",
      "[I 2025-03-10 16:53:38,593] Trial 55 finished with value: 0.8960157126823793 and parameters: {'alpha': 9.202157111606791, 'tol': 0.0004690129517944237, 'positive': False, 'fit_intercept': False}. Best is trial 52 with value: 0.8961503928170595.\n",
      "[I 2025-03-10 16:53:39,861] Trial 53 finished with value: 0.896026936026936 and parameters: {'alpha': 12.65318794901181, 'tol': 0.0005277472662326356, 'positive': True, 'fit_intercept': False}. Best is trial 52 with value: 0.8961503928170595.\n",
      "[I 2025-03-10 16:53:43,735] Trial 56 finished with value: 0.8956902356902358 and parameters: {'alpha': 8.990611910996929, 'tol': 0.000930753913553969, 'positive': True, 'fit_intercept': False}. Best is trial 52 with value: 0.8961503928170595.\n",
      "[I 2025-03-10 16:53:44,860] Trial 57 finished with value: 0.8958305274971942 and parameters: {'alpha': 9.679708987266935, 'tol': 0.001782221694290774, 'positive': True, 'fit_intercept': False}. Best is trial 52 with value: 0.8961503928170595.\n",
      "[I 2025-03-10 16:53:45,275] Trial 58 finished with value: 0.8954769921436588 and parameters: {'alpha': 9.500704686924653, 'tol': 0.00027257108857318534, 'positive': False, 'fit_intercept': True}. Best is trial 52 with value: 0.8961503928170595.\n",
      "[I 2025-03-10 16:53:45,573] Trial 59 finished with value: 0.896077441077441 and parameters: {'alpha': 13.583560573070832, 'tol': 0.0008670138952157873, 'positive': False, 'fit_intercept': False}. Best is trial 52 with value: 0.8961503928170595.\n",
      "[I 2025-03-10 16:53:49,922] Trial 60 finished with value: 0.8960381593714928 and parameters: {'alpha': 15.053452487535726, 'tol': 0.0001466623295154178, 'positive': False, 'fit_intercept': False}. Best is trial 52 with value: 0.8961503928170595.\n",
      "[I 2025-03-10 16:53:50,746] Trial 61 finished with value: 0.8960662177328844 and parameters: {'alpha': 15.601835699370463, 'tol': 0.0006107544024705309, 'positive': False, 'fit_intercept': False}. Best is trial 52 with value: 0.8961503928170595.\n",
      "[I 2025-03-10 16:53:51,705] Trial 63 finished with value: 0.8958080808080808 and parameters: {'alpha': 12.096632178800387, 'tol': 0.002792485993798681, 'positive': True, 'fit_intercept': True}. Best is trial 52 with value: 0.8961503928170595.\n",
      "[I 2025-03-10 16:53:52,478] Trial 62 finished with value: 0.8956677890011223 and parameters: {'alpha': 12.129827194455881, 'tol': 0.00041018504931724135, 'positive': True, 'fit_intercept': True}. Best is trial 52 with value: 0.8961503928170595.\n",
      "[I 2025-03-10 16:53:55,756] Trial 66 finished with value: 0.8960549943883278 and parameters: {'alpha': 9.878472807576358, 'tol': 5.585267317848323e-05, 'positive': False, 'fit_intercept': False}. Best is trial 52 with value: 0.8961503928170595.\n",
      "[I 2025-03-10 16:53:57,144] Trial 65 finished with value: 0.8958080808080808 and parameters: {'alpha': 14.105238466794185, 'tol': 0.0018594107707969863, 'positive': True, 'fit_intercept': True}. Best is trial 52 with value: 0.8961503928170595.\n",
      "[I 2025-03-10 16:53:57,408] Trial 64 finished with value: 0.8953703703703703 and parameters: {'alpha': 3.5791563802200237, 'tol': 0.00048022007272131395, 'positive': True, 'fit_intercept': True}. Best is trial 52 with value: 0.8961503928170595.\n",
      "[I 2025-03-10 16:53:57,778] Trial 67 finished with value: 0.8960830527497194 and parameters: {'alpha': 13.13462139941161, 'tol': 0.0021832431444042035, 'positive': False, 'fit_intercept': False}. Best is trial 52 with value: 0.8961503928170595.\n",
      "[I 2025-03-10 16:54:01,328] Trial 68 finished with value: 0.8956172839506173 and parameters: {'alpha': 13.686498105663496, 'tol': 0.003014592739209927, 'positive': False, 'fit_intercept': True}. Best is trial 52 with value: 0.8961503928170595.\n",
      "[I 2025-03-10 16:54:02,646] Trial 69 finished with value: 0.8958866442199775 and parameters: {'alpha': 3.8166918020029605, 'tol': 0.005185839763951327, 'positive': False, 'fit_intercept': False}. Best is trial 52 with value: 0.8961503928170595.\n",
      "[I 2025-03-10 16:54:03,028] Trial 70 finished with value: 0.8961167227833894 and parameters: {'alpha': 11.444895761312756, 'tol': 0.0032598522986105657, 'positive': False, 'fit_intercept': False}. Best is trial 52 with value: 0.8961503928170595.\n",
      "[I 2025-03-10 16:54:04,355] Trial 71 finished with value: 0.8959483726150392 and parameters: {'alpha': 7.1862661591693255, 'tol': 0.004228276948294677, 'positive': False, 'fit_intercept': False}. Best is trial 52 with value: 0.8961503928170595.\n",
      "[I 2025-03-10 16:54:06,847] Trial 72 finished with value: 0.8959820426487093 and parameters: {'alpha': 8.772503870352923, 'tol': 0.004672639671232744, 'positive': False, 'fit_intercept': False}. Best is trial 52 with value: 0.8961503928170595.\n",
      "[I 2025-03-10 16:54:09,106] Trial 73 finished with value: 0.8961503928170595 and parameters: {'alpha': 12.217682230115123, 'tol': 0.003161317818845845, 'positive': False, 'fit_intercept': False}. Best is trial 52 with value: 0.8961503928170595.\n",
      "[I 2025-03-10 16:54:09,873] Trial 74 finished with value: 0.8961391694725028 and parameters: {'alpha': 11.891544263504219, 'tol': 0.003984788073496097, 'positive': False, 'fit_intercept': False}. Best is trial 52 with value: 0.8961503928170595.\n",
      "[I 2025-03-10 16:54:10,680] Trial 75 finished with value: 0.8960718294051627 and parameters: {'alpha': 13.828684122189424, 'tol': 0.0030111596798182505, 'positive': False, 'fit_intercept': False}. Best is trial 52 with value: 0.8961503928170595.\n",
      "[I 2025-03-10 16:54:15,422] Trial 76 finished with value: 0.8960662177328844 and parameters: {'alpha': 13.712089064629222, 'tol': 0.0037043750916161216, 'positive': False, 'fit_intercept': False}. Best is trial 52 with value: 0.8961503928170595.\n",
      "[I 2025-03-10 16:54:16,050] Trial 77 finished with value: 0.8960606060606061 and parameters: {'alpha': 9.897592089883673, 'tol': 0.002763431066902898, 'positive': False, 'fit_intercept': False}. Best is trial 52 with value: 0.8961503928170595.\n",
      "[I 2025-03-10 16:54:16,743] Trial 78 finished with value: 0.8960325476992145 and parameters: {'alpha': 14.975826085093773, 'tol': 0.005096847785714129, 'positive': False, 'fit_intercept': False}. Best is trial 52 with value: 0.8961503928170595.\n",
      "[I 2025-03-10 16:54:17,071] Trial 79 finished with value: 0.8961335578002245 and parameters: {'alpha': 12.350528870523725, 'tol': 0.003775152650297533, 'positive': False, 'fit_intercept': False}. Best is trial 52 with value: 0.8961503928170595.\n",
      "[I 2025-03-10 16:54:20,913] Trial 80 finished with value: 0.8960662177328844 and parameters: {'alpha': 9.94519698879666, 'tol': 0.003705724671504723, 'positive': False, 'fit_intercept': False}. Best is trial 52 with value: 0.8961503928170595.\n",
      "[I 2025-03-10 16:54:22,173] Trial 82 finished with value: 0.896077441077441 and parameters: {'alpha': 10.456265857607722, 'tol': 0.002997609892744114, 'positive': False, 'fit_intercept': False}. Best is trial 52 with value: 0.8961503928170595.\n",
      "[I 2025-03-10 16:54:22,853] Trial 81 finished with value: 0.8960830527497194 and parameters: {'alpha': 11.029866872889935, 'tol': 0.0037477999065260023, 'positive': False, 'fit_intercept': False}. Best is trial 52 with value: 0.8961503928170595.\n",
      "[I 2025-03-10 16:54:23,678] Trial 83 finished with value: 0.8961054994388327 and parameters: {'alpha': 12.557465398664418, 'tol': 0.004622361404847392, 'positive': False, 'fit_intercept': False}. Best is trial 52 with value: 0.8961503928170595.\n",
      "[I 2025-03-10 16:54:27,037] Trial 84 finished with value: 0.8961503928170595 and parameters: {'alpha': 12.230393911906203, 'tol': 0.004156458371979759, 'positive': False, 'fit_intercept': False}. Best is trial 52 with value: 0.8961503928170595.\n",
      "[I 2025-03-10 16:54:28,217] Trial 86 finished with value: 0.8960718294051627 and parameters: {'alpha': 13.602665742625621, 'tol': 0.0035190252702604298, 'positive': False, 'fit_intercept': False}. Best is trial 52 with value: 0.8961503928170595.\n",
      "[I 2025-03-10 16:54:29,812] Trial 87 finished with value: 0.8960718294051627 and parameters: {'alpha': 10.045032773633762, 'tol': 0.001675468091640224, 'positive': False, 'fit_intercept': False}. Best is trial 52 with value: 0.8961503928170595.\n",
      "[I 2025-03-10 16:54:30,457] Trial 85 finished with value: 0.8958305274971942 and parameters: {'alpha': 23.18039115624846, 'tol': 0.005462246133705407, 'positive': True, 'fit_intercept': False}. Best is trial 52 with value: 0.8961503928170595.\n",
      "[I 2025-03-10 16:54:32,857] Trial 88 finished with value: 0.8955331088664422 and parameters: {'alpha': 11.411103346419871, 'tol': 0.006082596100780276, 'positive': False, 'fit_intercept': True}. Best is trial 52 with value: 0.8961503928170595.\n",
      "[I 2025-03-10 16:54:36,923] Trial 91 finished with value: 0.8956060606060607 and parameters: {'alpha': 12.429482713939677, 'tol': 0.005514451622953838, 'positive': False, 'fit_intercept': True}. Best is trial 52 with value: 0.8961503928170595.\n",
      "[I 2025-03-10 16:54:37,652] Trial 90 finished with value: 0.8961054994388327 and parameters: {'alpha': 12.955452742237334, 'tol': 0.005349773983308126, 'positive': False, 'fit_intercept': False}. Best is trial 52 with value: 0.8961503928170595.\n",
      "[I 2025-03-10 16:54:37,655] Trial 89 finished with value: 0.8960493827160494 and parameters: {'alpha': 21.61553575335119, 'tol': 0.00044256945283615776, 'positive': True, 'fit_intercept': False}. Best is trial 52 with value: 0.8961503928170595.\n",
      "[I 2025-03-10 16:54:38,327] Trial 92 finished with value: 0.8960998877665544 and parameters: {'alpha': 11.104366850770312, 'tol': 0.0049290470795014365, 'positive': False, 'fit_intercept': False}. Best is trial 52 with value: 0.8961503928170595.\n",
      "[I 2025-03-10 16:54:41,933] Trial 93 finished with value: 0.8960886644219977 and parameters: {'alpha': 13.204615853113808, 'tol': 0.003824114609084387, 'positive': False, 'fit_intercept': False}. Best is trial 52 with value: 0.8961503928170595.\n",
      "[I 2025-03-10 16:54:44,065] Trial 96 finished with value: 0.8961560044893379 and parameters: {'alpha': 11.97535413693703, 'tol': 0.0002690793871212262, 'positive': False, 'fit_intercept': False}. Best is trial 96 with value: 0.8961560044893379.\n",
      "[I 2025-03-10 16:54:44,452] Trial 95 finished with value: 0.8961503928170595 and parameters: {'alpha': 11.916476702258816, 'tol': 2.4156197088689123e-05, 'positive': False, 'fit_intercept': False}. Best is trial 96 with value: 0.8961560044893379.\n",
      "[I 2025-03-10 16:54:44,824] Trial 94 finished with value: 0.8960830527497194 and parameters: {'alpha': 13.497112065527318, 'tol': 0.003365647324289702, 'positive': False, 'fit_intercept': False}. Best is trial 96 with value: 0.8961560044893379.\n",
      "[I 2025-03-10 16:54:49,110] Trial 99 finished with value: 0.8960325476992145 and parameters: {'alpha': 9.635049615928697, 'tol': 0.000261124522186747, 'positive': False, 'fit_intercept': False}. Best is trial 96 with value: 0.8961560044893379.\n",
      "[I 2025-03-10 16:54:50,037] Trial 100 finished with value: 0.8960718294051627 and parameters: {'alpha': 10.272297082136065, 'tol': 0.00020119814091740403, 'positive': False, 'fit_intercept': False}. Best is trial 96 with value: 0.8961560044893379.\n",
      "[I 2025-03-10 16:54:51,260] Trial 98 finished with value: 0.8958305274971942 and parameters: {'alpha': 4.447339394224393, 'tol': 0.006565209811041908, 'positive': True, 'fit_intercept': False}. Best is trial 96 with value: 0.8961560044893379.\n",
      "[I 2025-03-10 16:54:51,620] Trial 97 finished with value: 0.8958305274971942 and parameters: {'alpha': 15.428857702537815, 'tol': 0.0042321093537123254, 'positive': True, 'fit_intercept': False}. Best is trial 96 with value: 0.8961560044893379.\n",
      "[I 2025-03-10 16:54:54,932] Trial 101 finished with value: 0.8961279461279462 and parameters: {'alpha': 11.700314731271567, 'tol': 1.877048482582487e-06, 'positive': False, 'fit_intercept': False}. Best is trial 96 with value: 0.8961560044893379.\n",
      "[I 2025-03-10 16:54:56,338] Trial 102 finished with value: 0.8960662177328844 and parameters: {'alpha': 14.059749571477282, 'tol': 0.0002269258772325685, 'positive': False, 'fit_intercept': False}. Best is trial 96 with value: 0.8961560044893379.\n",
      "[I 2025-03-10 16:54:57,958] Trial 103 finished with value: 0.8960437710437711 and parameters: {'alpha': 14.784371144911894, 'tol': 0.00022893834153345856, 'positive': False, 'fit_intercept': False}. Best is trial 96 with value: 0.8961560044893379.\n",
      "[I 2025-03-10 16:54:58,247] Trial 104 finished with value: 0.8960886644219977 and parameters: {'alpha': 13.349685707581695, 'tol': 0.0010192044900676502, 'positive': False, 'fit_intercept': False}. Best is trial 96 with value: 0.8961560044893379.\n",
      "[I 2025-03-10 16:55:01,737] Trial 105 finished with value: 0.8957070707070708 and parameters: {'alpha': 2.9481574121177268, 'tol': 9.039164777095574e-05, 'positive': False, 'fit_intercept': False}. Best is trial 96 with value: 0.8961560044893379.\n",
      "[I 2025-03-10 16:55:02,135] Trial 106 finished with value: 0.8956060606060607 and parameters: {'alpha': 15.089158975650474, 'tol': 0.00014749867055425882, 'positive': False, 'fit_intercept': True}. Best is trial 96 with value: 0.8961560044893379.\n",
      "[I 2025-03-10 16:55:04,464] Trial 107 finished with value: 0.8960718294051627 and parameters: {'alpha': 10.670767467640093, 'tol': 0.00021842686977595894, 'positive': False, 'fit_intercept': False}. Best is trial 96 with value: 0.8961560044893379.\n",
      "[I 2025-03-10 16:55:05,229] Trial 108 finished with value: 0.8956004489337823 and parameters: {'alpha': 14.998330021582436, 'tol': 0.00041592687306688685, 'positive': False, 'fit_intercept': True}. Best is trial 96 with value: 0.8961560044893379.\n",
      "[I 2025-03-10 16:55:08,061] Trial 110 finished with value: 0.896094276094276 and parameters: {'alpha': 11.245133176278957, 'tol': 0.00030045352632764787, 'positive': False, 'fit_intercept': False}. Best is trial 96 with value: 0.8961560044893379.\n",
      "[I 2025-03-10 16:55:08,429] Trial 109 finished with value: 0.8960998877665544 and parameters: {'alpha': 12.998986481094057, 'tol': 5.250149844881923e-05, 'positive': False, 'fit_intercept': False}. Best is trial 96 with value: 0.8961560044893379.\n",
      "[I 2025-03-10 16:55:10,271] Trial 111 finished with value: 0.8960830527497194 and parameters: {'alpha': 10.613374527755628, 'tol': 0.00022343350899024208, 'positive': False, 'fit_intercept': False}. Best is trial 96 with value: 0.8961560044893379.\n",
      "[I 2025-03-10 16:55:10,797] Trial 112 finished with value: 0.8960998877665544 and parameters: {'alpha': 11.148099963214339, 'tol': 0.00035250434254437504, 'positive': False, 'fit_intercept': False}. Best is trial 96 with value: 0.8961560044893379.\n",
      "[I 2025-03-10 16:55:13,751] Trial 114 finished with value: 0.8961279461279462 and parameters: {'alpha': 11.796284226135242, 'tol': 0.00233285458662381, 'positive': False, 'fit_intercept': False}. Best is trial 96 with value: 0.8961560044893379.\n",
      "[I 2025-03-10 16:55:16,104] Trial 116 finished with value: 0.8959820426487093 and parameters: {'alpha': 8.662149148533954, 'tol': 0.002903947800245716, 'positive': False, 'fit_intercept': False}. Best is trial 96 with value: 0.8961560044893379.\n",
      "[I 2025-03-10 16:55:17,097] Trial 113 finished with value: 0.8958080808080808 and parameters: {'alpha': 22.325611943545717, 'tol': 0.00369762958115375, 'positive': True, 'fit_intercept': True}. Best is trial 96 with value: 0.8961560044893379.\n",
      "[I 2025-03-10 16:55:18,787] Trial 115 finished with value: 0.8958080808080808 and parameters: {'alpha': 13.678853640238435, 'tol': 0.008207726126828345, 'positive': True, 'fit_intercept': True}. Best is trial 96 with value: 0.8961560044893379.\n",
      "[I 2025-03-10 16:55:19,128] Trial 117 finished with value: 0.8960493827160494 and parameters: {'alpha': 18.775843144017642, 'tol': 0.006300950528994689, 'positive': False, 'fit_intercept': False}. Best is trial 96 with value: 0.8961560044893379.\n",
      "[I 2025-03-10 16:55:22,607] Trial 118 finished with value: 0.8960886644219979 and parameters: {'alpha': 16.067605093586526, 'tol': 0.0020650367443608457, 'positive': False, 'fit_intercept': False}. Best is trial 96 with value: 0.8961560044893379.\n",
      "[I 2025-03-10 16:55:22,893] Trial 119 finished with value: 0.896094276094276 and parameters: {'alpha': 13.387196040619926, 'tol': 0.002630773134653967, 'positive': False, 'fit_intercept': False}. Best is trial 96 with value: 0.8961560044893379.\n",
      "[I 2025-03-10 16:55:25,328] Trial 120 finished with value: 0.8960437710437711 and parameters: {'alpha': 14.684105540137999, 'tol': 0.0028832281888761194, 'positive': False, 'fit_intercept': False}. Best is trial 96 with value: 0.8961560044893379.\n",
      "[I 2025-03-10 16:55:26,016] Trial 121 finished with value: 0.8960662177328844 and parameters: {'alpha': 14.339579353650574, 'tol': 0.0024722843598641714, 'positive': False, 'fit_intercept': False}. Best is trial 96 with value: 0.8961560044893379.\n",
      "[I 2025-03-10 16:55:29,659] Trial 122 finished with value: 0.8961279461279462 and parameters: {'alpha': 11.772118531137965, 'tol': 0.0020736815672453587, 'positive': False, 'fit_intercept': False}. Best is trial 96 with value: 0.8961560044893379.\n",
      "[I 2025-03-10 16:55:30,430] Trial 123 finished with value: 0.8959595959595958 and parameters: {'alpha': 7.795031078957363, 'tol': 0.0019057482627421447, 'positive': False, 'fit_intercept': False}. Best is trial 96 with value: 0.8961560044893379.\n",
      "[I 2025-03-10 16:55:31,377] Trial 124 finished with value: 0.8959371492704825 and parameters: {'alpha': 7.316020153923062, 'tol': 0.0021665514548365903, 'positive': False, 'fit_intercept': False}. Best is trial 96 with value: 0.8961560044893379.\n",
      "[I 2025-03-10 16:55:32,837] Trial 125 finished with value: 0.8960886644219977 and parameters: {'alpha': 10.89010843787782, 'tol': 0.002819682746916473, 'positive': False, 'fit_intercept': False}. Best is trial 96 with value: 0.8961560044893379.\n",
      "[I 2025-03-10 16:55:35,018] Trial 126 finished with value: 0.895993265993266 and parameters: {'alpha': 8.002899436334786, 'tol': 0.002444616074388452, 'positive': False, 'fit_intercept': False}. Best is trial 96 with value: 0.8961560044893379.\n",
      "[I 2025-03-10 16:55:37,029] Trial 127 finished with value: 0.8961223344556679 and parameters: {'alpha': 11.723293334510378, 'tol': 0.002057539627237239, 'positive': False, 'fit_intercept': False}. Best is trial 96 with value: 0.8961560044893379.\n",
      "[I 2025-03-10 16:55:37,791] Trial 129 finished with value: 0.8960325476992145 and parameters: {'alpha': 9.219396174155417, 'tol': 0.006767634464257056, 'positive': False, 'fit_intercept': False}. Best is trial 96 with value: 0.8961560044893379.\n",
      "[I 2025-03-10 16:55:41,452] Trial 130 finished with value: 0.8936980920314254 and parameters: {'alpha': 1.0028236764280116, 'tol': 0.009009695185590293, 'positive': False, 'fit_intercept': True}. Best is trial 96 with value: 0.8961560044893379.\n",
      "[I 2025-03-10 16:55:42,401] Trial 128 finished with value: 0.8957070707070708 and parameters: {'alpha': 23.176949057957437, 'tol': 0.00026553034576006114, 'positive': True, 'fit_intercept': True}. Best is trial 96 with value: 0.8961560044893379.\n",
      "[I 2025-03-10 16:55:43,029] Trial 131 finished with value: 0.8960437710437711 and parameters: {'alpha': 20.79090731530548, 'tol': 0.00034045639199804757, 'positive': False, 'fit_intercept': False}. Best is trial 96 with value: 0.8961560044893379.\n",
      "[I 2025-03-10 16:55:44,384] Trial 132 finished with value: 0.8960886644219977 and parameters: {'alpha': 11.08397999126879, 'tol': 0.005560686698215777, 'positive': False, 'fit_intercept': False}. Best is trial 96 with value: 0.8961560044893379.\n",
      "[I 2025-03-10 16:55:47,246] Trial 133 finished with value: 0.8961616161616162 and parameters: {'alpha': 12.072456309992196, 'tol': 5.612594590800168e-05, 'positive': False, 'fit_intercept': False}. Best is trial 133 with value: 0.8961616161616162.\n",
      "[I 2025-03-10 16:55:48,624] Trial 135 finished with value: 0.8961054994388327 and parameters: {'alpha': 12.536009941446371, 'tol': 0.002162007944353741, 'positive': False, 'fit_intercept': False}. Best is trial 133 with value: 0.8961616161616162.\n",
      "[I 2025-03-10 16:55:49,229] Trial 134 finished with value: 0.8961167227833894 and parameters: {'alpha': 11.481198734804785, 'tol': 0.002772787108810956, 'positive': False, 'fit_intercept': False}. Best is trial 133 with value: 0.8961616161616162.\n",
      "[I 2025-03-10 16:55:50,479] Trial 136 finished with value: 0.8961447811447811 and parameters: {'alpha': 11.937725195229177, 'tol': 0.001549499588642238, 'positive': False, 'fit_intercept': False}. Best is trial 133 with value: 0.8961616161616162.\n",
      "[I 2025-03-10 16:55:53,602] Trial 137 finished with value: 0.895976430976431 and parameters: {'alpha': 8.236161973610217, 'tol': 7.326053022452053e-05, 'positive': False, 'fit_intercept': False}. Best is trial 133 with value: 0.8961616161616162.\n",
      "[I 2025-03-10 16:55:54,689] Trial 138 finished with value: 0.8960718294051627 and parameters: {'alpha': 10.488495361170072, 'tol': 6.950284839595197e-05, 'positive': False, 'fit_intercept': False}. Best is trial 133 with value: 0.8961616161616162.\n",
      "[I 2025-03-10 16:55:55,345] Trial 139 finished with value: 0.8960325476992145 and parameters: {'alpha': 9.728488635816348, 'tol': 3.988950989867696e-05, 'positive': False, 'fit_intercept': False}. Best is trial 133 with value: 0.8961616161616162.\n",
      "[I 2025-03-10 16:55:57,083] Trial 140 finished with value: 0.8961279461279462 and parameters: {'alpha': 11.746498969809169, 'tol': 0.0002631541544118322, 'positive': False, 'fit_intercept': False}. Best is trial 133 with value: 0.8961616161616162.\n",
      "[I 2025-03-10 16:55:58,484] Trial 141 finished with value: 0.8960718294051627 and parameters: {'alpha': 14.300321411640894, 'tol': 3.031222208966805e-05, 'positive': False, 'fit_intercept': False}. Best is trial 133 with value: 0.8961616161616162.\n",
      "[I 2025-03-10 16:56:00,640] Trial 142 finished with value: 0.8960718294051627 and parameters: {'alpha': 14.32579942064607, 'tol': 0.00031190691086713983, 'positive': False, 'fit_intercept': False}. Best is trial 133 with value: 0.8961616161616162.\n",
      "[I 2025-03-10 16:56:01,581] Trial 143 finished with value: 0.8960493827160494 and parameters: {'alpha': 14.587508670804121, 'tol': 0.0002197684877914767, 'positive': False, 'fit_intercept': False}. Best is trial 133 with value: 0.8961616161616162.\n",
      "[I 2025-03-10 16:56:02,564] Trial 144 finished with value: 0.8960437710437711 and parameters: {'alpha': 15.196077029411033, 'tol': 0.0007663985421332964, 'positive': False, 'fit_intercept': False}. Best is trial 133 with value: 0.8961616161616162.\n",
      "[I 2025-03-10 16:56:06,325] Trial 146 finished with value: 0.8958305274971942 and parameters: {'alpha': 14.93462896044316, 'tol': 0.0021179148061107743, 'positive': True, 'fit_intercept': False}. Best is trial 133 with value: 0.8961616161616162.\n",
      "[I 2025-03-10 16:56:07,287] Trial 145 finished with value: 0.8960269360269362 and parameters: {'alpha': 16.06040691574777, 'tol': 5.814952439098532e-05, 'positive': True, 'fit_intercept': False}. Best is trial 133 with value: 0.8961616161616162.\n",
      "[I 2025-03-10 16:56:08,675] Trial 147 finished with value: 0.8960269360269362 and parameters: {'alpha': 15.026241523956143, 'tol': 0.0005610663841299277, 'positive': True, 'fit_intercept': False}. Best is trial 133 with value: 0.8961616161616162.\n",
      "[I 2025-03-10 16:56:10,612] Trial 148 finished with value: 0.8958698092031424 and parameters: {'alpha': 14.680012860655017, 'tol': 0.0012361364073081992, 'positive': True, 'fit_intercept': False}. Best is trial 133 with value: 0.8961616161616162.\n",
      "[I 2025-03-10 16:56:11,263] Trial 149 finished with value: 0.8960718294051627 and parameters: {'alpha': 10.690899001199114, 'tol': 0.0016116203193251469, 'positive': False, 'fit_intercept': False}. Best is trial 133 with value: 0.8961616161616162.\n",
      "[I 2025-03-10 16:56:12,402] Trial 150 finished with value: 0.8961560044893379 and parameters: {'alpha': 12.06584060837939, 'tol': 0.00011128214813671349, 'positive': False, 'fit_intercept': False}. Best is trial 133 with value: 0.8961616161616162.\n",
      "[I 2025-03-10 16:56:14,794] Trial 151 finished with value: 0.8961616161616162 and parameters: {'alpha': 12.17773125462379, 'tol': 0.0012307180806510466, 'positive': False, 'fit_intercept': False}. Best is trial 133 with value: 0.8961616161616162.\n",
      "[I 2025-03-10 16:56:17,125] Trial 152 finished with value: 0.8954601571268237 and parameters: {'alpha': 9.25960601010975, 'tol': 0.0023777108513731745, 'positive': False, 'fit_intercept': True}. Best is trial 133 with value: 0.8961616161616162.\n",
      "[I 2025-03-10 16:56:18,677] Trial 154 finished with value: 0.8961111111111111 and parameters: {'alpha': 11.42966289232407, 'tol': 0.0003068196848757704, 'positive': False, 'fit_intercept': False}. Best is trial 133 with value: 0.8961616161616162.\n",
      "[I 2025-03-10 16:56:18,956] Trial 153 finished with value: 0.8957126823793491 and parameters: {'alpha': 23.39900107589311, 'tol': 0.002110000310855393, 'positive': False, 'fit_intercept': True}. Best is trial 133 with value: 0.8961616161616162.\n",
      "[I 2025-03-10 16:56:20,780] Trial 155 finished with value: 0.8961054994388327 and parameters: {'alpha': 12.496604828779569, 'tol': 0.0018883243479356556, 'positive': False, 'fit_intercept': False}. Best is trial 133 with value: 0.8961616161616162.\n",
      "[I 2025-03-10 16:56:23,329] Trial 156 finished with value: 0.8960886644219977 and parameters: {'alpha': 10.935357332731755, 'tol': 0.0013335902226267828, 'positive': False, 'fit_intercept': False}. Best is trial 133 with value: 0.8961616161616162.\n",
      "[I 2025-03-10 16:56:24,973] Trial 157 finished with value: 0.896094276094276 and parameters: {'alpha': 11.39120587404628, 'tol': 0.0015289723644274517, 'positive': False, 'fit_intercept': False}. Best is trial 133 with value: 0.8961616161616162.\n",
      "[I 2025-03-10 16:56:25,254] Trial 158 finished with value: 0.8961447811447811 and parameters: {'alpha': 12.310318844091093, 'tol': 0.0018252922327098484, 'positive': False, 'fit_intercept': False}. Best is trial 133 with value: 0.8961616161616162.\n",
      "[I 2025-03-10 16:56:27,027] Trial 159 finished with value: 0.8960998877665544 and parameters: {'alpha': 11.154834075503135, 'tol': 0.0013148105183423782, 'positive': False, 'fit_intercept': False}. Best is trial 133 with value: 0.8961616161616162.\n",
      "[I 2025-03-10 16:56:30,366] Trial 160 finished with value: 0.8960437710437711 and parameters: {'alpha': 15.37705608609848, 'tol': 0.004594481229790165, 'positive': False, 'fit_intercept': False}. Best is trial 133 with value: 0.8961616161616162.\n",
      "[I 2025-03-10 16:56:31,124] Trial 161 finished with value: 0.8960437710437711 and parameters: {'alpha': 17.03312562919899, 'tol': 0.00439656330504353, 'positive': False, 'fit_intercept': False}. Best is trial 133 with value: 0.8961616161616162.\n",
      "[I 2025-03-10 16:56:32,102] Trial 162 finished with value: 0.8960830527497194 and parameters: {'alpha': 13.065707246304383, 'tol': 0.0006586218742082781, 'positive': False, 'fit_intercept': False}. Best is trial 133 with value: 0.8961616161616162.\n",
      "[I 2025-03-10 16:56:33,127] Trial 163 finished with value: 0.8960493827160493 and parameters: {'alpha': 16.89890164742482, 'tol': 0.004221649637596448, 'positive': False, 'fit_intercept': False}. Best is trial 133 with value: 0.8961616161616162.\n",
      "[I 2025-03-10 16:56:36,400] Trial 164 finished with value: 0.8961447811447811 and parameters: {'alpha': 12.315496539591187, 'tol': 9.663427562313278e-05, 'positive': False, 'fit_intercept': False}. Best is trial 133 with value: 0.8961616161616162.\n",
      "[I 2025-03-10 16:56:37,354] Trial 165 finished with value: 0.8960998877665544 and parameters: {'alpha': 12.700623113564662, 'tol': 6.77771588656862e-05, 'positive': False, 'fit_intercept': False}. Best is trial 133 with value: 0.8961616161616162.\n",
      "[I 2025-03-10 16:56:37,864] Trial 166 finished with value: 0.8960886644219977 and parameters: {'alpha': 13.35673885949919, 'tol': 5.776892119854309e-07, 'positive': False, 'fit_intercept': False}. Best is trial 133 with value: 0.8961616161616162.\n",
      "[I 2025-03-10 16:56:39,966] Trial 167 finished with value: 0.8961335578002245 and parameters: {'alpha': 12.382985014769089, 'tol': 0.00014596254384793223, 'positive': False, 'fit_intercept': False}. Best is trial 133 with value: 0.8961616161616162.\n",
      "[I 2025-03-10 16:56:41,850] Trial 168 finished with value: 0.8960606060606061 and parameters: {'alpha': 14.475434939720863, 'tol': 4.031428159728458e-05, 'positive': False, 'fit_intercept': False}. Best is trial 133 with value: 0.8961616161616162.\n",
      "[I 2025-03-10 16:56:43,175] Trial 169 finished with value: 0.8959708193041527 and parameters: {'alpha': 7.704218051958868, 'tol': 0.00010433648214699855, 'positive': False, 'fit_intercept': False}. Best is trial 133 with value: 0.8961616161616162.\n",
      "[I 2025-03-10 16:56:44,086] Trial 170 finished with value: 0.8960718294051627 and parameters: {'alpha': 10.654200935980931, 'tol': 7.492283960024526e-05, 'positive': False, 'fit_intercept': False}. Best is trial 133 with value: 0.8961616161616162.\n",
      "[I 2025-03-10 16:56:46,909] Trial 171 finished with value: 0.8960325476992145 and parameters: {'alpha': 9.678445386394346, 'tol': 0.00010065096395381177, 'positive': False, 'fit_intercept': False}. Best is trial 133 with value: 0.8961616161616162.\n",
      "[I 2025-03-10 16:56:48,741] Trial 173 finished with value: 0.896077441077441 and parameters: {'alpha': 13.565746087504646, 'tol': 6.978397564919297e-05, 'positive': False, 'fit_intercept': False}. Best is trial 133 with value: 0.8961616161616162.\n",
      "[I 2025-03-10 16:56:49,917] Trial 174 finished with value: 0.8960998877665544 and parameters: {'alpha': 11.185121366812371, 'tol': 2.3148708194444673e-05, 'positive': False, 'fit_intercept': False}. Best is trial 133 with value: 0.8961616161616162.\n",
      "[I 2025-03-10 16:56:51,705] Trial 172 finished with value: 0.8958305274971942 and parameters: {'alpha': 17.69954680572, 'tol': 0.00977143395123329, 'positive': True, 'fit_intercept': False}. Best is trial 133 with value: 0.8961616161616162.\n",
      "[I 2025-03-10 16:56:52,935] Trial 175 finished with value: 0.895415263748597 and parameters: {'alpha': 8.24615359430003, 'tol': 0.00010303416689157356, 'positive': False, 'fit_intercept': True}. Best is trial 133 with value: 0.8961616161616162.\n",
      "[I 2025-03-10 16:56:55,523] Trial 176 finished with value: 0.8960998877665544 and parameters: {'alpha': 13.004457067917302, 'tol': 0.0020036815809006316, 'positive': False, 'fit_intercept': False}. Best is trial 133 with value: 0.8961616161616162.\n",
      "[I 2025-03-10 16:56:56,479] Trial 177 finished with value: 0.8961335578002245 and parameters: {'alpha': 12.343432946564759, 'tol': 0.005141907749118965, 'positive': False, 'fit_intercept': False}. Best is trial 133 with value: 0.8961616161616162.\n",
      "[I 2025-03-10 16:56:57,573] Trial 178 finished with value: 0.8960830527497194 and parameters: {'alpha': 16.33928535618634, 'tol': 0.0018745737954648835, 'positive': False, 'fit_intercept': False}. Best is trial 133 with value: 0.8961616161616162.\n",
      "[I 2025-03-10 16:56:58,666] Trial 179 finished with value: 0.8960493827160494 and parameters: {'alpha': 18.68748729380449, 'tol': 0.0013749273976009513, 'positive': False, 'fit_intercept': False}. Best is trial 133 with value: 0.8961616161616162.\n",
      "[I 2025-03-10 16:57:02,235] Trial 181 finished with value: 0.896077441077441 and parameters: {'alpha': 10.457501683128244, 'tol': 0.00474102277700232, 'positive': False, 'fit_intercept': False}. Best is trial 133 with value: 0.8961616161616162.\n",
      "[I 2025-03-10 16:57:03,640] Trial 182 finished with value: 0.896094276094276 and parameters: {'alpha': 13.436748159547726, 'tol': 0.007049505789313636, 'positive': False, 'fit_intercept': False}. Best is trial 133 with value: 0.8961616161616162.\n",
      "[I 2025-03-10 16:57:04,611] Trial 180 finished with value: 0.8960381593714928 and parameters: {'alpha': 5.5552494300129185, 'tol': 9.205527623633273e-05, 'positive': True, 'fit_intercept': False}. Best is trial 133 with value: 0.8961616161616162.\n",
      "[I 2025-03-10 16:57:07,238] Trial 183 finished with value: 0.8957126823793491 and parameters: {'alpha': 1.2798364591161597, 'tol': 0.009352110069531879, 'positive': True, 'fit_intercept': False}. Best is trial 133 with value: 0.8961616161616162.\n",
      "[I 2025-03-10 16:57:08,194] Trial 185 finished with value: 0.8961054994388327 and parameters: {'alpha': 12.95897414276117, 'tol': 0.005221458627426844, 'positive': False, 'fit_intercept': False}. Best is trial 133 with value: 0.8961616161616162.\n",
      "[I 2025-03-10 16:57:08,711] Trial 184 finished with value: 0.8960606060606061 and parameters: {'alpha': 14.11595288958609, 'tol': 0.006543647614260283, 'positive': False, 'fit_intercept': False}. Best is trial 133 with value: 0.8961616161616162.\n",
      "[I 2025-03-10 16:57:12,160] Trial 186 finished with value: 0.896127946127946 and parameters: {'alpha': 11.590944900647157, 'tol': 0.004788055624435929, 'positive': False, 'fit_intercept': False}. Best is trial 133 with value: 0.8961616161616162.\n",
      "[I 2025-03-10 16:57:13,345] Trial 187 finished with value: 0.8960830527497194 and parameters: {'alpha': 10.622817018494775, 'tol': 0.005052248813303773, 'positive': False, 'fit_intercept': False}. Best is trial 133 with value: 0.8961616161616162.\n",
      "[I 2025-03-10 16:57:14,384] Trial 188 finished with value: 0.8960662177328844 and parameters: {'alpha': 13.714380539260143, 'tol': 0.00582878678089358, 'positive': False, 'fit_intercept': False}. Best is trial 133 with value: 0.8961616161616162.\n",
      "[I 2025-03-10 16:57:15,207] Trial 189 finished with value: 0.8960998877665544 and parameters: {'alpha': 12.699188168319314, 'tol': 0.0038516530891923996, 'positive': False, 'fit_intercept': False}. Best is trial 133 with value: 0.8961616161616162.\n",
      "[I 2025-03-10 16:57:19,061] Trial 191 finished with value: 0.8961054994388327 and parameters: {'alpha': 12.478815670321437, 'tol': 0.002288319089627643, 'positive': False, 'fit_intercept': False}. Best is trial 133 with value: 0.8961616161616162.\n",
      "[I 2025-03-10 16:57:20,289] Trial 192 finished with value: 0.8960606060606061 and parameters: {'alpha': 13.766825222239111, 'tol': 0.002123719363608615, 'positive': False, 'fit_intercept': False}. Best is trial 133 with value: 0.8961616161616162.\n",
      "[I 2025-03-10 16:57:20,657] Trial 190 finished with value: 0.8958305274971942 and parameters: {'alpha': 9.594402926877441, 'tol': 0.0034361965321046536, 'positive': True, 'fit_intercept': False}. Best is trial 133 with value: 0.8961616161616162.\n",
      "[I 2025-03-10 16:57:21,172] Trial 193 finished with value: 0.896094276094276 and parameters: {'alpha': 12.639604218766582, 'tol': 2.675448614223425e-05, 'positive': False, 'fit_intercept': False}. Best is trial 133 with value: 0.8961616161616162.\n",
      "[I 2025-03-10 16:57:25,120] Trial 195 finished with value: 0.8960325476992145 and parameters: {'alpha': 9.669929389112927, 'tol': 0.0020497275362230745, 'positive': False, 'fit_intercept': False}. Best is trial 133 with value: 0.8961616161616162.\n",
      "[I 2025-03-10 16:57:25,795] Trial 194 finished with value: 0.8960886644219977 and parameters: {'alpha': 10.88987493550329, 'tol': 0.0019582020028524045, 'positive': False, 'fit_intercept': False}. Best is trial 133 with value: 0.8961616161616162.\n",
      "[I 2025-03-10 16:57:27,470] Trial 196 finished with value: 0.8961054994388327 and parameters: {'alpha': 12.509778921254536, 'tol': 0.0019695152746178578, 'positive': False, 'fit_intercept': False}. Best is trial 133 with value: 0.8961616161616162.\n",
      "[I 2025-03-10 16:57:27,711] Trial 197 finished with value: 0.8960718294051627 and parameters: {'alpha': 13.597938488119855, 'tol': 0.002203680289379339, 'positive': False, 'fit_intercept': False}. Best is trial 133 with value: 0.8961616161616162.\n",
      "[I 2025-03-10 16:57:30,201] Trial 199 finished with value: 0.8960886644219977 and parameters: {'alpha': 12.845731085980585, 'tol': 0.0014552286519552635, 'positive': False, 'fit_intercept': False}. Best is trial 133 with value: 0.8961616161616162.\n",
      "[I 2025-03-10 16:57:31,742] Trial 198 finished with value: 0.8960886644219977 and parameters: {'alpha': 11.081937889710503, 'tol': 0.0015821308489880085, 'positive': False, 'fit_intercept': False}. Best is trial 133 with value: 0.8961616161616162.\n",
      "[I 2025-03-10 16:57:33,673] Trial 200 finished with value: 0.896094276094276 and parameters: {'alpha': 13.423509608316442, 'tol': 0.0004152519060816057, 'positive': False, 'fit_intercept': False}. Best is trial 133 with value: 0.8961616161616162.\n",
      "[I 2025-03-10 16:57:34,241] Trial 201 finished with value: 0.8961560044893379 and parameters: {'alpha': 11.965219293252758, 'tol': 4.324255507765005e-05, 'positive': False, 'fit_intercept': False}. Best is trial 133 with value: 0.8961616161616162.\n",
      "[I 2025-03-10 16:57:36,356] Trial 202 finished with value: 0.8960606060606061 and parameters: {'alpha': 15.42045056849031, 'tol': 6.6214603524694725e-06, 'positive': False, 'fit_intercept': False}. Best is trial 133 with value: 0.8961616161616162.\n",
      "[I 2025-03-10 16:57:38,552] Trial 203 finished with value: 0.8961560044893379 and parameters: {'alpha': 12.054899188687342, 'tol': 2.8294070538983824e-05, 'positive': False, 'fit_intercept': False}. Best is trial 133 with value: 0.8961616161616162.\n",
      "[I 2025-03-10 16:57:40,683] Trial 204 finished with value: 0.8960718294051627 and parameters: {'alpha': 10.26964118156193, 'tol': 0.00032456079995345704, 'positive': False, 'fit_intercept': False}. Best is trial 133 with value: 0.8961616161616162.\n",
      "[I 2025-03-10 16:57:41,353] Trial 205 finished with value: 0.8960830527497194 and parameters: {'alpha': 16.355028849788724, 'tol': 9.315264549100043e-05, 'positive': False, 'fit_intercept': False}. Best is trial 133 with value: 0.8961616161616162.\n",
      "[I 2025-03-10 16:57:42,410] Trial 206 finished with value: 0.8960101010101011 and parameters: {'alpha': 9.492272247790378, 'tol': 0.0003400229021458009, 'positive': False, 'fit_intercept': False}. Best is trial 133 with value: 0.8961616161616162.\n",
      "[I 2025-03-10 16:57:45,384] Trial 207 finished with value: 0.8961054994388327 and parameters: {'alpha': 12.578980395191897, 'tol': 0.00028869306732691316, 'positive': False, 'fit_intercept': False}. Best is trial 133 with value: 0.8961616161616162.\n",
      "[I 2025-03-10 16:57:46,153] Trial 208 finished with value: 0.8961335578002245 and parameters: {'alpha': 12.344059808630808, 'tol': 7.554125839934612e-05, 'positive': False, 'fit_intercept': False}. Best is trial 133 with value: 0.8961616161616162.\n",
      "[I 2025-03-10 16:57:47,129] Trial 209 finished with value: 0.893922558922559 and parameters: {'alpha': 1.1931174941085807, 'tol': 0.004794200658239894, 'positive': False, 'fit_intercept': True}. Best is trial 133 with value: 0.8961616161616162.\n",
      "[I 2025-03-10 16:57:51,037] Trial 210 finished with value: 0.8958080808080808 and parameters: {'alpha': 10.154043279324295, 'tol': 0.0058452083603920835, 'positive': True, 'fit_intercept': True}. Best is trial 133 with value: 0.8961616161616162.\n",
      "[I 2025-03-10 16:57:51,391] Trial 211 finished with value: 0.8961279461279462 and parameters: {'alpha': 11.792865437854244, 'tol': 0.00042627944883006144, 'positive': False, 'fit_intercept': False}. Best is trial 133 with value: 0.8961616161616162.\n",
      "[I 2025-03-10 16:57:52,663] Trial 212 finished with value: 0.8960157126823795 and parameters: {'alpha': 9.528608807414734, 'tol': 0.0001372947321435829, 'positive': False, 'fit_intercept': False}. Best is trial 133 with value: 0.8961616161616162.\n",
      "[I 2025-03-10 16:57:53,323] Trial 213 finished with value: 0.8960998877665544 and parameters: {'alpha': 13.006626613031434, 'tol': 4.419976212234707e-05, 'positive': False, 'fit_intercept': False}. Best is trial 133 with value: 0.8961616161616162.\n",
      "[I 2025-03-10 16:57:58,175] Trial 215 finished with value: 0.896094276094276 and parameters: {'alpha': 12.81391890653524, 'tol': 6.00698857590233e-05, 'positive': False, 'fit_intercept': False}. Best is trial 133 with value: 0.8961616161616162.\n",
      "[I 2025-03-10 16:57:59,163] Trial 214 finished with value: 0.8960662177328844 and parameters: {'alpha': 10.18259716327012, 'tol': 0.00013600607356543143, 'positive': False, 'fit_intercept': False}. Best is trial 133 with value: 0.8961616161616162.\n",
      "[I 2025-03-10 16:57:59,567] Trial 217 finished with value: 0.8960998877665544 and parameters: {'alpha': 13.027625472345731, 'tol': 0.0003521113188075379, 'positive': False, 'fit_intercept': False}. Best is trial 133 with value: 0.8961616161616162.\n",
      "[I 2025-03-10 16:57:59,936] Trial 216 finished with value: 0.8960886644219977 and parameters: {'alpha': 10.838804779936813, 'tol': 2.3929733535896562e-05, 'positive': False, 'fit_intercept': False}. Best is trial 133 with value: 0.8961616161616162.\n",
      "[I 2025-03-10 16:58:05,750] Trial 219 finished with value: 0.8960718294051627 and parameters: {'alpha': 14.272270229609525, 'tol': 1.452787898908306e-05, 'positive': False, 'fit_intercept': False}. Best is trial 133 with value: 0.8961616161616162.\n",
      "[I 2025-03-10 16:58:06,161] Trial 218 finished with value: 0.8957295173961841 and parameters: {'alpha': 2.9701431387949313, 'tol': 0.007907066014119297, 'positive': False, 'fit_intercept': False}. Best is trial 133 with value: 0.8961616161616162.\n",
      "[I 2025-03-10 16:58:06,587] Trial 220 finished with value: 0.896094276094276 and parameters: {'alpha': 12.929219256804176, 'tol': 4.951368018939305e-06, 'positive': False, 'fit_intercept': False}. Best is trial 133 with value: 0.8961616161616162.\n",
      "[I 2025-03-10 16:58:06,872] Trial 221 finished with value: 0.896077441077441 and parameters: {'alpha': 10.254370001232367, 'tol': 0.0038138332450531392, 'positive': False, 'fit_intercept': False}. Best is trial 133 with value: 0.8961616161616162.\n",
      "[I 2025-03-10 16:58:10,722] Trial 223 finished with value: 0.8959539842873177 and parameters: {'alpha': 7.146610051224048, 'tol': 0.001409201088735654, 'positive': False, 'fit_intercept': False}. Best is trial 133 with value: 0.8961616161616162.\n",
      "[I 2025-03-10 16:58:11,379] Trial 222 finished with value: 0.8960325476992145 and parameters: {'alpha': 9.647652521020678, 'tol': 0.0036455778337683847, 'positive': False, 'fit_intercept': False}. Best is trial 133 with value: 0.8961616161616162.\n",
      "[I 2025-03-10 16:58:13,908] Trial 224 finished with value: 0.8960998877665544 and parameters: {'alpha': 12.71080817151423, 'tol': 0.003918410197784787, 'positive': False, 'fit_intercept': False}. Best is trial 133 with value: 0.8961616161616162.\n",
      "[I 2025-03-10 16:58:14,169] Trial 225 finished with value: 0.8961560044893379 and parameters: {'alpha': 12.192650187914701, 'tol': 0.0032584105402367596, 'positive': False, 'fit_intercept': False}. Best is trial 133 with value: 0.8961616161616162.\n",
      "[I 2025-03-10 16:58:15,692] Trial 226 finished with value: 0.8960606060606061 and parameters: {'alpha': 13.761330134053356, 'tol': 0.004141254885929003, 'positive': False, 'fit_intercept': False}. Best is trial 133 with value: 0.8961616161616162.\n",
      "[I 2025-03-10 16:58:18,593] Trial 227 finished with value: 0.896094276094276 and parameters: {'alpha': 13.05135176284357, 'tol': 0.001907522244553062, 'positive': False, 'fit_intercept': False}. Best is trial 133 with value: 0.8961616161616162.\n",
      "[I 2025-03-10 16:58:20,318] Trial 229 finished with value: 0.8960606060606061 and parameters: {'alpha': 13.952370155422926, 'tol': 0.002308650322827284, 'positive': False, 'fit_intercept': False}. Best is trial 133 with value: 0.8961616161616162.\n",
      "[I 2025-03-10 16:58:20,620] Trial 228 finished with value: 0.8961279461279462 and parameters: {'alpha': 11.878503048415313, 'tol': 0.0043628227266889795, 'positive': False, 'fit_intercept': False}. Best is trial 133 with value: 0.8961616161616162.\n",
      "[I 2025-03-10 16:58:22,528] Trial 230 finished with value: 0.8960493827160494 and parameters: {'alpha': 15.101353232892135, 'tol': 0.0018491114717640886, 'positive': False, 'fit_intercept': False}. Best is trial 133 with value: 0.8961616161616162.\n",
      "[I 2025-03-10 16:58:24,400] Trial 231 finished with value: 0.8959988776655443 and parameters: {'alpha': 9.392873562750587, 'tol': 0.0017971193148635443, 'positive': False, 'fit_intercept': False}. Best is trial 133 with value: 0.8961616161616162.\n",
      "[I 2025-03-10 16:58:25,583] Trial 233 finished with value: 0.896094276094276 and parameters: {'alpha': 11.218875402652714, 'tol': 0.0017393153858378699, 'positive': False, 'fit_intercept': False}. Best is trial 133 with value: 0.8961616161616162.\n",
      "[I 2025-03-10 16:58:26,986] Trial 232 finished with value: 0.8955836139169472 and parameters: {'alpha': 12.12326641037747, 'tol': 0.0003940521671283481, 'positive': False, 'fit_intercept': True}. Best is trial 133 with value: 0.8961616161616162.\n",
      "[I 2025-03-10 16:58:28,753] Trial 234 finished with value: 0.8959988776655443 and parameters: {'alpha': 9.430304679354206, 'tol': 0.0019525836110313843, 'positive': False, 'fit_intercept': False}. Best is trial 133 with value: 0.8961616161616162.\n",
      "[I 2025-03-10 16:58:31,320] Trial 235 finished with value: 0.8961279461279462 and parameters: {'alpha': 11.746852451315883, 'tol': 0.0030778318658523946, 'positive': False, 'fit_intercept': False}. Best is trial 133 with value: 0.8961616161616162.\n",
      "[I 2025-03-10 16:58:31,692] Trial 236 finished with value: 0.8961616161616162 and parameters: {'alpha': 12.100363215239462, 'tol': 2.8377224095313164e-05, 'positive': False, 'fit_intercept': False}. Best is trial 133 with value: 0.8961616161616162.\n",
      "[I 2025-03-10 16:58:32,984] Trial 237 finished with value: 0.8960718294051627 and parameters: {'alpha': 10.781935646336699, 'tol': 0.00010433118353218895, 'positive': False, 'fit_intercept': False}. Best is trial 133 with value: 0.8961616161616162.\n",
      "[I 2025-03-10 16:58:36,052] Trial 239 finished with value: 0.8960718294051627 and parameters: {'alpha': 10.646214042627388, 'tol': 0.0004415765584590665, 'positive': False, 'fit_intercept': False}. Best is trial 133 with value: 0.8961616161616162.\n",
      "[I 2025-03-10 16:58:36,985] Trial 238 finished with value: 0.8958080808080808 and parameters: {'alpha': 7.4516747225183755, 'tol': 0.009351813793369912, 'positive': True, 'fit_intercept': True}. Best is trial 133 with value: 0.8961616161616162.\n",
      "[I 2025-03-10 16:58:39,633] Trial 241 finished with value: 0.8960269360269362 and parameters: {'alpha': 11.934073184440948, 'tol': 0.00010811026417316906, 'positive': True, 'fit_intercept': False}. Best is trial 133 with value: 0.8961616161616162.\n",
      "[I 2025-03-10 16:58:40,683] Trial 240 finished with value: 0.8960044893378226 and parameters: {'alpha': 10.647101264957964, 'tol': 0.00032683675432823556, 'positive': True, 'fit_intercept': False}. Best is trial 133 with value: 0.8961616161616162.\n",
      "[I 2025-03-10 16:58:42,395] Trial 242 finished with value: 0.8960830527497196 and parameters: {'alpha': 16.15670996879704, 'tol': 0.0002755245229936362, 'positive': False, 'fit_intercept': False}. Best is trial 133 with value: 0.8961616161616162.\n",
      "[I 2025-03-10 16:58:42,651] Trial 243 finished with value: 0.8960886644219977 and parameters: {'alpha': 13.371804669302895, 'tol': 0.0001102007937743354, 'positive': False, 'fit_intercept': False}. Best is trial 133 with value: 0.8961616161616162.\n",
      "[I 2025-03-10 16:58:46,106] Trial 244 finished with value: 0.896094276094276 and parameters: {'alpha': 12.788888884678121, 'tol': 0.0014443295328436722, 'positive': False, 'fit_intercept': False}. Best is trial 133 with value: 0.8961616161616162.\n",
      "[I 2025-03-10 16:58:48,162] Trial 246 finished with value: 0.896094276094276 and parameters: {'alpha': 11.3807725182026, 'tol': 0.00014775219378745957, 'positive': False, 'fit_intercept': False}. Best is trial 133 with value: 0.8961616161616162.\n",
      "[I 2025-03-10 16:58:49,173] Trial 247 finished with value: 0.8960998877665544 and parameters: {'alpha': 12.76610523130776, 'tol': 0.0011396365716281318, 'positive': False, 'fit_intercept': False}. Best is trial 133 with value: 0.8961616161616162.\n",
      "[I 2025-03-10 16:58:49,770] Trial 245 finished with value: 0.8958305274971942 and parameters: {'alpha': 9.699591976266767, 'tol': 0.006038321394135286, 'positive': True, 'fit_intercept': False}. Best is trial 133 with value: 0.8961616161616162.\n",
      "[I 2025-03-10 16:58:51,679] Trial 248 finished with value: 0.8960886644219977 and parameters: {'alpha': 13.231745113180645, 'tol': 0.00010791107436451314, 'positive': False, 'fit_intercept': False}. Best is trial 133 with value: 0.8961616161616162.\n",
      "[I 2025-03-10 16:58:52,169] Trial 249 finished with value: 0.895993265993266 and parameters: {'alpha': 6.316930864399264, 'tol': 0.00014853397075242263, 'positive': False, 'fit_intercept': False}. Best is trial 133 with value: 0.8961616161616162.\n"
     ]
    }
   ],
   "source": [
    "def objective(trial):    \n",
    "    params = {\n",
    "        \"random_state\": CFG.seed,\n",
    "        \"alpha\": trial.suggest_float(\"alpha\", 0, 25),\n",
    "        \"tol\": trial.suggest_float(\"tol\", 1e-7, 1e-2),\n",
    "        \"positive\": trial.suggest_categorical(\"positive\", [True, False]),\n",
    "        \"fit_intercept\": trial.suggest_categorical(\"fit_intercept\", [True, False])\n",
    "    }\n",
    "    \n",
    "    model = Ridge(**params)\n",
    "    trainer = Trainer(model, is_ensemble_model=True)\n",
    "    return trainer.tune(X, y)\n",
    "\n",
    "if CFG.run_optuna:\n",
    "    sampler = optuna.samplers.TPESampler(seed=CFG.seed, multivariate=True, n_startup_trials=CFG.optuna_trials // 10)\n",
    "    study = optuna.create_study(direction=\"maximize\", sampler=sampler)\n",
    "    study.optimize(objective, n_trials=CFG.optuna_trials, n_jobs=-1)\n",
    "    best_params = study.best_params\n",
    "    \n",
    "    ridge_params = {\n",
    "        \"random_state\": CFG.seed,\n",
    "        \"alpha\": best_params[\"alpha\"],\n",
    "        \"tol\": best_params[\"tol\"],\n",
    "        \"positive\": best_params[\"positive\"],\n",
    "        \"fit_intercept\": best_params[\"fit_intercept\"]\n",
    "    }\n",
    "else:\n",
    "    ridge_params = {\n",
    "        \"random_state\": CFG.seed\n",
    "    }"
   ]
  },
  {
   "cell_type": "code",
   "execution_count": 30,
   "id": "516179f1",
   "metadata": {
    "execution": {
     "iopub.execute_input": "2025-03-10T16:58:52.257589Z",
     "iopub.status.busy": "2025-03-10T16:58:52.257232Z",
     "iopub.status.idle": "2025-03-10T16:58:52.262067Z",
     "shell.execute_reply": "2025-03-10T16:58:52.260969Z"
    },
    "papermill": {
     "duration": 0.04786,
     "end_time": "2025-03-10T16:58:52.264352",
     "exception": false,
     "start_time": "2025-03-10T16:58:52.216492",
     "status": "completed"
    },
    "tags": []
   },
   "outputs": [
    {
     "name": "stdout",
     "output_type": "stream",
     "text": [
      "{\n",
      "  \"random_state\": 42,\n",
      "  \"alpha\": 12.072456309992196,\n",
      "  \"tol\": 5.612594590800168e-05,\n",
      "  \"positive\": false,\n",
      "  \"fit_intercept\": false\n",
      "}\n"
     ]
    }
   ],
   "source": [
    "print(json.dumps(ridge_params, indent=2))"
   ]
  },
  {
   "cell_type": "code",
   "execution_count": 31,
   "id": "0ab2bffd",
   "metadata": {
    "execution": {
     "iopub.execute_input": "2025-03-10T16:58:52.351416Z",
     "iopub.status.busy": "2025-03-10T16:58:52.351011Z",
     "iopub.status.idle": "2025-03-10T16:58:53.776747Z",
     "shell.execute_reply": "2025-03-10T16:58:53.775610Z"
    },
    "papermill": {
     "duration": 1.471579,
     "end_time": "2025-03-10T16:58:53.778553",
     "exception": false,
     "start_time": "2025-03-10T16:58:52.306974",
     "status": "completed"
    },
    "tags": []
   },
   "outputs": [
    {
     "name": "stdout",
     "output_type": "stream",
     "text": [
      "Training Ridge\n",
      "\n",
      "--- Fold 1 - ROC AUC: 0.926936\n",
      "--- Fold 2 - ROC AUC: 0.858558\n",
      "--- Fold 3 - ROC AUC: 0.879545\n",
      "--- Fold 4 - ROC AUC: 0.913328\n",
      "--- Fold 5 - ROC AUC: 0.902441\n",
      "\n",
      "------ Overall: 0.892900 | Average: 0.896162 ± 0.024378\n"
     ]
    }
   ],
   "source": [
    "ridge_model = Ridge(**ridge_params)\n",
    "ridge_trainer = Trainer(ridge_model, is_ensemble_model=True)\n",
    "lr_oof_pred_probs, lr_test_pred_probs, scores[\"Ensemble Ridge\"], ridge_coeffs = ridge_trainer.fit_predict(X, y, X_test)"
   ]
  },
  {
   "cell_type": "code",
   "execution_count": 32,
   "id": "58e99b74",
   "metadata": {
    "execution": {
     "iopub.execute_input": "2025-03-10T16:58:53.868052Z",
     "iopub.status.busy": "2025-03-10T16:58:53.867637Z",
     "iopub.status.idle": "2025-03-10T16:58:53.896942Z",
     "shell.execute_reply": "2025-03-10T16:58:53.895493Z"
    },
    "papermill": {
     "duration": 0.076852,
     "end_time": "2025-03-10T16:58:53.898971",
     "exception": false,
     "start_time": "2025-03-10T16:58:53.822119",
     "status": "completed"
    },
    "tags": []
   },
   "outputs": [
    {
     "data": {
      "text/html": [
       "<div>\n",
       "<style scoped>\n",
       "    .dataframe tbody tr th:only-of-type {\n",
       "        vertical-align: middle;\n",
       "    }\n",
       "\n",
       "    .dataframe tbody tr th {\n",
       "        vertical-align: top;\n",
       "    }\n",
       "\n",
       "    .dataframe thead th {\n",
       "        text-align: right;\n",
       "    }\n",
       "</style>\n",
       "<table border=\"1\" class=\"dataframe\">\n",
       "  <thead>\n",
       "    <tr style=\"text-align: right;\">\n",
       "      <th></th>\n",
       "      <th>id</th>\n",
       "      <th>rainfall</th>\n",
       "    </tr>\n",
       "  </thead>\n",
       "  <tbody>\n",
       "    <tr>\n",
       "      <th>0</th>\n",
       "      <td>2190</td>\n",
       "      <td>0.972322</td>\n",
       "    </tr>\n",
       "    <tr>\n",
       "      <th>1</th>\n",
       "      <td>2191</td>\n",
       "      <td>0.974688</td>\n",
       "    </tr>\n",
       "    <tr>\n",
       "      <th>2</th>\n",
       "      <td>2192</td>\n",
       "      <td>0.919026</td>\n",
       "    </tr>\n",
       "    <tr>\n",
       "      <th>3</th>\n",
       "      <td>2193</td>\n",
       "      <td>0.146236</td>\n",
       "    </tr>\n",
       "    <tr>\n",
       "      <th>4</th>\n",
       "      <td>2194</td>\n",
       "      <td>0.100970</td>\n",
       "    </tr>\n",
       "  </tbody>\n",
       "</table>\n",
       "</div>"
      ],
      "text/plain": [
       "     id  rainfall\n",
       "0  2190  0.972322\n",
       "1  2191  0.974688\n",
       "2  2192  0.919026\n",
       "3  2193  0.146236\n",
       "4  2194  0.100970"
      ]
     },
     "execution_count": 32,
     "metadata": {},
     "output_type": "execute_result"
    }
   ],
   "source": [
    "save_submission(\"ensemble-ridge\", lr_test_pred_probs, np.mean(scores[\"Ensemble Ridge\"]))"
   ]
  },
  {
   "cell_type": "code",
   "execution_count": 33,
   "id": "f15fcee3",
   "metadata": {
    "execution": {
     "iopub.execute_input": "2025-03-10T16:58:53.983866Z",
     "iopub.status.busy": "2025-03-10T16:58:53.983380Z",
     "iopub.status.idle": "2025-03-10T16:58:54.295021Z",
     "shell.execute_reply": "2025-03-10T16:58:54.293783Z"
    },
    "papermill": {
     "duration": 0.35521,
     "end_time": "2025-03-10T16:58:54.296974",
     "exception": false,
     "start_time": "2025-03-10T16:58:53.941764",
     "status": "completed"
    },
    "tags": []
   },
   "outputs": [
    {
     "data": {
      "image/png": "[encoded data removed]",
      "text/plain": [
       "<Figure size 1000x550 with 1 Axes>"
      ]
     },
     "metadata": {},
     "output_type": "display_data"
    }
   ],
   "source": [
    "plot_weights(ridge_coeffs, \"Ridge Coefficients\")"
   ]
  },
  {
   "cell_type": "markdown",
   "id": "3d4f4aaf",
   "metadata": {
    "papermill": {
     "duration": 0.041934,
     "end_time": "2025-03-10T16:58:54.380891",
     "exception": false,
     "start_time": "2025-03-10T16:58:54.338957",
     "status": "completed"
    },
    "tags": []
   },
   "source": [
    "# Results"
   ]
  },
  {
   "cell_type": "code",
   "execution_count": 34,
   "id": "d7e24304",
   "metadata": {
    "_kg_hide-input": false,
    "execution": {
     "iopub.execute_input": "2025-03-10T16:58:54.466124Z",
     "iopub.status.busy": "2025-03-10T16:58:54.465763Z",
     "iopub.status.idle": "2025-03-10T16:58:55.139026Z",
     "shell.execute_reply": "2025-03-10T16:58:55.137842Z"
    },
    "papermill": {
     "duration": 0.719078,
     "end_time": "2025-03-10T16:58:55.141191",
     "exception": false,
     "start_time": "2025-03-10T16:58:54.422113",
     "status": "completed"
    },
    "tags": []
   },
   "outputs": [
    {
     "data": {
      "image/png": "[encoded data removed]",
      "text/plain": [
       "<Figure size 1500x390 with 2 Axes>"
      ]
     },
     "metadata": {},
     "output_type": "display_data"
    }
   ],
   "source": [
    "scores = pd.DataFrame(scores)\n",
    "mean_scores = scores.mean().sort_values(ascending=False)\n",
    "order = scores.mean().sort_values(ascending=False).index.tolist()\n",
    "\n",
    "min_score = mean_scores.min()\n",
    "max_score = mean_scores.max()\n",
    "padding = (max_score - min_score) * 0.5\n",
    "lower_limit = min_score - padding\n",
    "upper_limit = max_score + padding\n",
    "\n",
    "fig, axs = plt.subplots(1, 2, figsize=(15, scores.shape[1] * 0.3))\n",
    "\n",
    "boxplot = sns.boxplot(data=scores, order=order, ax=axs[0], orient=\"h\", color=\"grey\")\n",
    "axs[0].set_title(\"Fold ROC AUC\")\n",
    "axs[0].set_xlabel(\"\")\n",
    "axs[0].set_ylabel(\"\")\n",
    "\n",
    "barplot = sns.barplot(x=mean_scores.values, y=mean_scores.index, ax=axs[1], color=\"grey\")\n",
    "axs[1].set_title(\"Average ROC AUC\")\n",
    "axs[1].set_xlabel(\"\")\n",
    "axs[1].set_xlim(left=lower_limit, right=upper_limit)\n",
    "axs[1].set_ylabel(\"\")\n",
    "\n",
    "for i, (score, model) in enumerate(zip(mean_scores.values, mean_scores.index)):\n",
    "    color = \"cyan\" if \"ensemble\" in model.lower() else \"grey\"\n",
    "    barplot.patches[i].set_facecolor(color)\n",
    "    boxplot.patches[i].set_facecolor(color)\n",
    "    barplot.text(score, i, round(score, 6), va=\"center\")\n",
    "\n",
    "plt.tight_layout()\n",
    "plt.show()"
   ]
  },
  {
   "cell_type": "code",
   "execution_count": 35,
   "id": "0b531613",
   "metadata": {
    "execution": {
     "iopub.execute_input": "2025-03-10T16:58:55.239112Z",
     "iopub.status.busy": "2025-03-10T16:58:55.238746Z",
     "iopub.status.idle": "2025-03-10T16:58:55.244782Z",
     "shell.execute_reply": "2025-03-10T16:58:55.243469Z"
    },
    "papermill": {
     "duration": 0.057985,
     "end_time": "2025-03-10T16:58:55.246550",
     "exception": false,
     "start_time": "2025-03-10T16:58:55.188565",
     "status": "completed"
    },
    "tags": []
   },
   "outputs": [],
   "source": [
    "shutil.rmtree(\"catboost_info\", ignore_errors=True)"
   ]
  }
 ],
 "metadata": {
  "kaggle": {
   "accelerator": "none",
   "dataSources": [
    {
     "databundleVersionId": 11251744,
     "sourceId": 91714,
     "sourceType": "competition"
    },
    {
     "datasetId": 5651545,
     "sourceId": 9328134,
     "sourceType": "datasetVersion"
    },
    {
     "sourceId": 226778037,
     "sourceType": "kernelVersion"
    }
   ],
   "dockerImageVersionId": 30918,
   "isGpuEnabled": false,
   "isInternetEnabled": true,
   "language": "python",
   "sourceType": "notebook"
  },
  "kernelspec": {
   "display_name": "Python 3",
   "language": "python",
   "name": "python3"
  },
  "language_info": {
   "codemirror_mode": {
    "name": "ipython",
    "version": 3
   },
   "file_extension": ".py",
   "mimetype": "text/x-python",
   "name": "python",
   "nbconvert_exporter": "python",
   "pygments_lexer": "ipython3",
   "version": "3.10.12"
  },
  "papermill": {
   "default_parameters": {},
   "duration": 3562.012843,
   "end_time": "2025-03-10T16:58:58.667052",
   "environment_variables": {},
   "exception": null,
   "input_path": "__notebook__.ipynb",
   "output_path": "__notebook__.ipynb",
   "parameters": {},
   "start_time": "2025-03-10T15:59:36.654209",
   "version": "2.6.0"
  },
  "widgets": {
   "application/vnd.jupyter.widget-state+json": {
    "state": {
     "074b18819b264466a75447cef58e14c6": {
      "model_module": "@jupyter-widgets/controls",
      "model_module_version": "2.0.0",
      "model_name": "ProgressStyleModel",
      "state": {
       "_model_module": "@jupyter-widgets/controls",
       "_model_module_version": "2.0.0",
       "_model_name": "ProgressStyleModel",
       "_view_count": null,
       "_view_module": "@jupyter-widgets/base",
       "_view_module_version": "2.0.0",
       "_view_name": "StyleView",
       "bar_color": null,
       "description_width": ""
      }
     },
     "2a5702cc1752453d806e2957b932b553": {
      "model_module": "@jupyter-widgets/base",
      "model_module_version": "2.0.0",
      "model_name": "LayoutModel",
      "state": {
       "_model_module": "@jupyter-widgets/base",
       "_model_module_version": "2.0.0",
       "_model_name": "LayoutModel",
       "_view_count": null,
       "_view_module": "@jupyter-widgets/base",
       "_view_module_version": "2.0.0",
       "_view_name": "LayoutView",
       "align_content": null,
       "align_items": null,
       "align_self": null,
       "border_bottom": null,
       "border_left": null,
       "border_right": null,
       "border_top": null,
       "bottom": null,
       "display": null,
       "flex": null,
       "flex_flow": null,
       "grid_area": null,
       "grid_auto_columns": null,
       "grid_auto_flow": null,
       "grid_auto_rows": null,
       "grid_column": null,
       "grid_gap": null,
       "grid_row": null,
       "grid_template_areas": null,
       "grid_template_columns": null,
       "grid_template_rows": null,
       "height": null,
       "justify_content": null,
       "justify_items": null,
       "left": null,
       "margin": null,
       "max_height": null,
       "max_width": null,
       "min_height": null,
       "min_width": null,
       "object_fit": null,
       "object_position": null,
       "order": null,
       "overflow": null,
       "padding": null,
       "right": null,
       "top": null,
       "visibility": null,
       "width": null
      }
     },
     "3a97e9f438d444aca754200ecbd8ff9a": {
      "model_module": "@jupyter-widgets/controls",
      "model_module_version": "2.0.0",
      "model_name": "HTMLStyleModel",
      "state": {
       "_model_module": "@jupyter-widgets/controls",
       "_model_module_version": "2.0.0",
       "_model_name": "HTMLStyleModel",
       "_view_count": null,
       "_view_module": "@jupyter-widgets/base",
       "_view_module_version": "2.0.0",
       "_view_name": "StyleView",
       "background": null,
       "description_width": "",
       "font_size": null,
       "text_color": null
      }
     },
     "4d6465ca7336491d90de6f5adee3f95f": {
      "model_module": "@jupyter-widgets/base",
      "model_module_version": "2.0.0",
      "model_name": "LayoutModel",
      "state": {
       "_model_module": "@jupyter-widgets/base",
       "_model_module_version": "2.0.0",
       "_model_name": "LayoutModel",
       "_view_count": null,
       "_view_module": "@jupyter-widgets/base",
       "_view_module_version": "2.0.0",
       "_view_name": "LayoutView",
       "align_content": null,
       "align_items": null,
       "align_self": null,
       "border_bottom": null,
       "border_left": null,
       "border_right": null,
       "border_top": null,
       "bottom": null,
       "display": null,
       "flex": null,
       "flex_flow": null,
       "grid_area": null,
       "grid_auto_columns": null,
       "grid_auto_flow": null,
       "grid_auto_rows": null,
       "grid_column": null,
       "grid_gap": null,
       "grid_row": null,
       "grid_template_areas": null,
       "grid_template_columns": null,
       "grid_template_rows": null,
       "height": null,
       "justify_content": null,
       "justify_items": null,
       "left": null,
       "margin": null,
       "max_height": null,
       "max_width": null,
       "min_height": null,
       "min_width": null,
       "object_fit": null,
       "object_position": null,
       "order": null,
       "overflow": null,
       "padding": null,
       "right": null,
       "top": null,
       "visibility": null,
       "width": null
      }
     },
     "7270d52ceca842338f84adac2a491e7e": {
      "model_module": "@jupyter-widgets/controls",
      "model_module_version": "2.0.0",
      "model_name": "ProgressStyleModel",
      "state": {
       "_model_module": "@jupyter-widgets/controls",
       "_model_module_version": "2.0.0",
       "_model_name": "ProgressStyleModel",
       "_view_count": null,
       "_view_module": "@jupyter-widgets/base",
       "_view_module_version": "2.0.0",
       "_view_name": "StyleView",
       "bar_color": null,
       "description_width": ""
      }
     },
     "73361141fe054dff9e604712a9aa996a": {
      "model_module": "@jupyter-widgets/controls",
      "model_module_version": "2.0.0",
      "model_name": "HBoxModel",
      "state": {
       "_dom_classes": [],
       "_model_module": "@jupyter-widgets/controls",
       "_model_module_version": "2.0.0",
       "_model_name": "HBoxModel",
       "_view_count": null,
       "_view_module": "@jupyter-widgets/controls",
       "_view_module_version": "2.0.0",
       "_view_name": "HBoxView",
       "box_style": "",
       "children": [
        "IPY_MODEL_82b3436686974fb0b67baabbd6f98838",
        "IPY_MODEL_a38a3028906d47b2b1c7a893670b6125",
        "IPY_MODEL_8bedba12d4f24aa2a9160715d19e1d74"
       ],
       "layout": "IPY_MODEL_ca62303c6fd2420590810b1c4878e494",
       "tabbable": null,
       "tooltip": null
      }
     },
     "7ec6e3091a3d496698a89d7d312466ee": {
      "model_module": "@jupyter-widgets/controls",
      "model_module_version": "2.0.0",
      "model_name": "HTMLModel",
      "state": {
       "_dom_classes": [],
       "_model_module": "@jupyter-widgets/controls",
       "_model_module_version": "2.0.0",
       "_model_name": "HTMLModel",
       "_view_count": null,
       "_view_module": "@jupyter-widgets/controls",
       "_view_module_version": "2.0.0",
       "_view_name": "HTMLView",
       "description": "",
       "description_allow_html": false,
       "layout": "IPY_MODEL_2a5702cc1752453d806e2957b932b553",
       "placeholder": "​",
       "style": "IPY_MODEL_e45d3f02fc8a4ee195ab8e0908d1aa94",
       "tabbable": null,
       "tooltip": null,
       "value": "tabpfn-v2-classifier.ckpt: 100%"
      }
     },
     "7f8b5f5cd494405b8b028e31c5edab64": {
      "model_module": "@jupyter-widgets/controls",
      "model_module_version": "2.0.0",
      "model_name": "HTMLStyleModel",
      "state": {
       "_model_module": "@jupyter-widgets/controls",
       "_model_module_version": "2.0.0",
       "_model_name": "HTMLStyleModel",
       "_view_count": null,
       "_view_module": "@jupyter-widgets/base",
       "_view_module_version": "2.0.0",
       "_view_name": "StyleView",
       "background": null,
       "description_width": "",
       "font_size": null,
       "text_color": null
      }
     },
     "82b3436686974fb0b67baabbd6f98838": {
      "model_module": "@jupyter-widgets/controls",
      "model_module_version": "2.0.0",
      "model_name": "HTMLModel",
      "state": {
       "_dom_classes": [],
       "_model_module": "@jupyter-widgets/controls",
       "_model_module_version": "2.0.0",
       "_model_name": "HTMLModel",
       "_view_count": null,
       "_view_module": "@jupyter-widgets/controls",
       "_view_module_version": "2.0.0",
       "_view_name": "HTMLView",
       "description": "",
       "description_allow_html": false,
       "layout": "IPY_MODEL_ed2e15091c7d4027aa8a3f8219b5da10",
       "placeholder": "​",
       "style": "IPY_MODEL_7f8b5f5cd494405b8b028e31c5edab64",
       "tabbable": null,
       "tooltip": null,
       "value": "config.json: 100%"
      }
     },
     "8bedba12d4f24aa2a9160715d19e1d74": {
      "model_module": "@jupyter-widgets/controls",
      "model_module_version": "2.0.0",
      "model_name": "HTMLModel",
      "state": {
       "_dom_classes": [],
       "_model_module": "@jupyter-widgets/controls",
       "_model_module_version": "2.0.0",
       "_model_name": "HTMLModel",
       "_view_count": null,
       "_view_module": "@jupyter-widgets/controls",
       "_view_module_version": "2.0.0",
       "_view_name": "HTMLView",
       "description": "",
       "description_allow_html": false,
       "layout": "IPY_MODEL_befb450047464e0f919641cbb5e88db1",
       "placeholder": "​",
       "style": "IPY_MODEL_cee387a31d5941db8a396f6d9575958d",
       "tabbable": null,
       "tooltip": null,
       "value": " 37.0/37.0 [00:00&lt;00:00, 2.10kB/s]"
      }
     },
     "90e1353b6f784c018c66816ccf52e6f2": {
      "model_module": "@jupyter-widgets/base",
      "model_module_version": "2.0.0",
      "model_name": "LayoutModel",
      "state": {
       "_model_module": "@jupyter-widgets/base",
       "_model_module_version": "2.0.0",
       "_model_name": "LayoutModel",
       "_view_count": null,
       "_view_module": "@jupyter-widgets/base",
       "_view_module_version": "2.0.0",
       "_view_name": "LayoutView",
       "align_content": null,
       "align_items": null,
       "align_self": null,
       "border_bottom": null,
       "border_left": null,
       "border_right": null,
       "border_top": null,
       "bottom": null,
       "display": null,
       "flex": null,
       "flex_flow": null,
       "grid_area": null,
       "grid_auto_columns": null,
       "grid_auto_flow": null,
       "grid_auto_rows": null,
       "grid_column": null,
       "grid_gap": null,
       "grid_row": null,
       "grid_template_areas": null,
       "grid_template_columns": null,
       "grid_template_rows": null,
       "height": null,
       "justify_content": null,
       "justify_items": null,
       "left": null,
       "margin": null,
       "max_height": null,
       "max_width": null,
       "min_height": null,
       "min_width": null,
       "object_fit": null,
       "object_position": null,
       "order": null,
       "overflow": null,
       "padding": null,
       "right": null,
       "top": null,
       "visibility": null,
       "width": null
      }
     },
     "9271225b0ac74e159ae37ccbbe5a998f": {
      "model_module": "@jupyter-widgets/base",
      "model_module_version": "2.0.0",
      "model_name": "LayoutModel",
      "state": {
       "_model_module": "@jupyter-widgets/base",
       "_model_module_version": "2.0.0",
       "_model_name": "LayoutModel",
       "_view_count": null,
       "_view_module": "@jupyter-widgets/base",
       "_view_module_version": "2.0.0",
       "_view_name": "LayoutView",
       "align_content": null,
       "align_items": null,
       "align_self": null,
       "border_bottom": null,
       "border_left": null,
       "border_right": null,
       "border_top": null,
       "bottom": null,
       "display": null,
       "flex": null,
       "flex_flow": null,
       "grid_area": null,
       "grid_auto_columns": null,
       "grid_auto_flow": null,
       "grid_auto_rows": null,
       "grid_column": null,
       "grid_gap": null,
       "grid_row": null,
       "grid_template_areas": null,
       "grid_template_columns": null,
       "grid_template_rows": null,
       "height": null,
       "justify_content": null,
       "justify_items": null,
       "left": null,
       "margin": null,
       "max_height": null,
       "max_width": null,
       "min_height": null,
       "min_width": null,
       "object_fit": null,
       "object_position": null,
       "order": null,
       "overflow": null,
       "padding": null,
       "right": null,
       "top": null,
       "visibility": null,
       "width": null
      }
     },
     "964226cf2812475185229b9ce31ab19b": {
      "model_module": "@jupyter-widgets/base",
      "model_module_version": "2.0.0",
      "model_name": "LayoutModel",
      "state": {
       "_model_module": "@jupyter-widgets/base",
       "_model_module_version": "2.0.0",
       "_model_name": "LayoutModel",
       "_view_count": null,
       "_view_module": "@jupyter-widgets/base",
       "_view_module_version": "2.0.0",
       "_view_name": "LayoutView",
       "align_content": null,
       "align_items": null,
       "align_self": null,
       "border_bottom": null,
       "border_left": null,
       "border_right": null,
       "border_top": null,
       "bottom": null,
       "display": null,
       "flex": null,
       "flex_flow": null,
       "grid_area": null,
       "grid_auto_columns": null,
       "grid_auto_flow": null,
       "grid_auto_rows": null,
       "grid_column": null,
       "grid_gap": null,
       "grid_row": null,
       "grid_template_areas": null,
       "grid_template_columns": null,
       "grid_template_rows": null,
       "height": null,
       "justify_content": null,
       "justify_items": null,
       "left": null,
       "margin": null,
       "max_height": null,
       "max_width": null,
       "min_height": null,
       "min_width": null,
       "object_fit": null,
       "object_position": null,
       "order": null,
       "overflow": null,
       "padding": null,
       "right": null,
       "top": null,
       "visibility": null,
       "width": null
      }
     },
     "a38a3028906d47b2b1c7a893670b6125": {
      "model_module": "@jupyter-widgets/controls",
      "model_module_version": "2.0.0",
      "model_name": "FloatProgressModel",
      "state": {
       "_dom_classes": [],
       "_model_module": "@jupyter-widgets/controls",
       "_model_module_version": "2.0.0",
       "_model_name": "FloatProgressModel",
       "_view_count": null,
       "_view_module": "@jupyter-widgets/controls",
       "_view_module_version": "2.0.0",
       "_view_name": "ProgressView",
       "bar_style": "success",
       "description": "",
       "description_allow_html": false,
       "layout": "IPY_MODEL_4d6465ca7336491d90de6f5adee3f95f",
       "max": 37.0,
       "min": 0.0,
       "orientation": "horizontal",
       "style": "IPY_MODEL_074b18819b264466a75447cef58e14c6",
       "tabbable": null,
       "tooltip": null,
       "value": 37.0
      }
     },
     "b7eb5855dfd34393a37a70acb3d274de": {
      "model_module": "@jupyter-widgets/controls",
      "model_module_version": "2.0.0",
      "model_name": "HBoxModel",
      "state": {
       "_dom_classes": [],
       "_model_module": "@jupyter-widgets/controls",
       "_model_module_version": "2.0.0",
       "_model_name": "HBoxModel",
       "_view_count": null,
       "_view_module": "@jupyter-widgets/controls",
       "_view_module_version": "2.0.0",
       "_view_name": "HBoxView",
       "box_style": "",
       "children": [
        "IPY_MODEL_7ec6e3091a3d496698a89d7d312466ee",
        "IPY_MODEL_b96f1bcb87294736ad671c49fa477226",
        "IPY_MODEL_c638d8d8d7434e00a1b7657f89a37d0f"
       ],
       "layout": "IPY_MODEL_964226cf2812475185229b9ce31ab19b",
       "tabbable": null,
       "tooltip": null
      }
     },
     "b96f1bcb87294736ad671c49fa477226": {
      "model_module": "@jupyter-widgets/controls",
      "model_module_version": "2.0.0",
      "model_name": "FloatProgressModel",
      "state": {
       "_dom_classes": [],
       "_model_module": "@jupyter-widgets/controls",
       "_model_module_version": "2.0.0",
       "_model_name": "FloatProgressModel",
       "_view_count": null,
       "_view_module": "@jupyter-widgets/controls",
       "_view_module_version": "2.0.0",
       "_view_name": "ProgressView",
       "bar_style": "success",
       "description": "",
       "description_allow_html": false,
       "layout": "IPY_MODEL_9271225b0ac74e159ae37ccbbe5a998f",
       "max": 29016968.0,
       "min": 0.0,
       "orientation": "horizontal",
       "style": "IPY_MODEL_7270d52ceca842338f84adac2a491e7e",
       "tabbable": null,
       "tooltip": null,
       "value": 29016968.0
      }
     },
     "befb450047464e0f919641cbb5e88db1": {
      "model_module": "@jupyter-widgets/base",
      "model_module_version": "2.0.0",
      "model_name": "LayoutModel",
      "state": {
       "_model_module": "@jupyter-widgets/base",
       "_model_module_version": "2.0.0",
       "_model_name": "LayoutModel",
       "_view_count": null,
       "_view_module": "@jupyter-widgets/base",
       "_view_module_version": "2.0.0",
       "_view_name": "LayoutView",
       "align_content": null,
       "align_items": null,
       "align_self": null,
       "border_bottom": null,
       "border_left": null,
       "border_right": null,
       "border_top": null,
       "bottom": null,
       "display": null,
       "flex": null,
       "flex_flow": null,
       "grid_area": null,
       "grid_auto_columns": null,
       "grid_auto_flow": null,
       "grid_auto_rows": null,
       "grid_column": null,
       "grid_gap": null,
       "grid_row": null,
       "grid_template_areas": null,
       "grid_template_columns": null,
       "grid_template_rows": null,
       "height": null,
       "justify_content": null,
       "justify_items": null,
       "left": null,
       "margin": null,
       "max_height": null,
       "max_width": null,
       "min_height": null,
       "min_width": null,
       "object_fit": null,
       "object_position": null,
       "order": null,
       "overflow": null,
       "padding": null,
       "right": null,
       "top": null,
       "visibility": null,
       "width": null
      }
     },
     "c638d8d8d7434e00a1b7657f89a37d0f": {
      "model_module": "@jupyter-widgets/controls",
      "model_module_version": "2.0.0",
      "model_name": "HTMLModel",
      "state": {
       "_dom_classes": [],
       "_model_module": "@jupyter-widgets/controls",
       "_model_module_version": "2.0.0",
       "_model_name": "HTMLModel",
       "_view_count": null,
       "_view_module": "@jupyter-widgets/controls",
       "_view_module_version": "2.0.0",
       "_view_name": "HTMLView",
       "description": "",
       "description_allow_html": false,
       "layout": "IPY_MODEL_90e1353b6f784c018c66816ccf52e6f2",
       "placeholder": "​",
       "style": "IPY_MODEL_3a97e9f438d444aca754200ecbd8ff9a",
       "tabbable": null,
       "tooltip": null,
       "value": " 29.0M/29.0M [00:00&lt;00:00, 137MB/s]"
      }
     },
     "ca62303c6fd2420590810b1c4878e494": {
      "model_module": "@jupyter-widgets/base",
      "model_module_version": "2.0.0",
      "model_name": "LayoutModel",
      "state": {
       "_model_module": "@jupyter-widgets/base",
       "_model_module_version": "2.0.0",
       "_model_name": "LayoutModel",
       "_view_count": null,
       "_view_module": "@jupyter-widgets/base",
       "_view_module_version": "2.0.0",
       "_view_name": "LayoutView",
       "align_content": null,
       "align_items": null,
       "align_self": null,
       "border_bottom": null,
       "border_left": null,
       "border_right": null,
       "border_top": null,
       "bottom": null,
       "display": null,
       "flex": null,
       "flex_flow": null,
       "grid_area": null,
       "grid_auto_columns": null,
       "grid_auto_flow": null,
       "grid_auto_rows": null,
       "grid_column": null,
       "grid_gap": null,
       "grid_row": null,
       "grid_template_areas": null,
       "grid_template_columns": null,
       "grid_template_rows": null,
       "height": null,
       "justify_content": null,
       "justify_items": null,
       "left": null,
       "margin": null,
       "max_height": null,
       "max_width": null,
       "min_height": null,
       "min_width": null,
       "object_fit": null,
       "object_position": null,
       "order": null,
       "overflow": null,
       "padding": null,
       "right": null,
       "top": null,
       "visibility": null,
       "width": null
      }
     },
     "cee387a31d5941db8a396f6d9575958d": {
      "model_module": "@jupyter-widgets/controls",
      "model_module_version": "2.0.0",
      "model_name": "HTMLStyleModel",
      "state": {
       "_model_module": "@jupyter-widgets/controls",
       "_model_module_version": "2.0.0",
       "_model_name": "HTMLStyleModel",
       "_view_count": null,
       "_view_module": "@jupyter-widgets/base",
       "_view_module_version": "2.0.0",
       "_view_name": "StyleView",
       "background": null,
       "description_width": "",
       "font_size": null,
       "text_color": null
      }
     },
     "e45d3f02fc8a4ee195ab8e0908d1aa94": {
      "model_module": "@jupyter-widgets/controls",
      "model_module_version": "2.0.0",
      "model_name": "HTMLStyleModel",
      "state": {
       "_model_module": "@jupyter-widgets/controls",
       "_model_module_version": "2.0.0",
       "_model_name": "HTMLStyleModel",
       "_view_count": null,
       "_view_module": "@jupyter-widgets/base",
       "_view_module_version": "2.0.0",
       "_view_name": "StyleView",
       "background": null,
       "description_width": "",
       "font_size": null,
       "text_color": null
      }
     },
     "ed2e15091c7d4027aa8a3f8219b5da10": {
      "model_module": "@jupyter-widgets/base",
      "model_module_version": "2.0.0",
      "model_name": "LayoutModel",
      "state": {
       "_model_module": "@jupyter-widgets/base",
       "_model_module_version": "2.0.0",
       "_model_name": "LayoutModel",
       "_view_count": null,
       "_view_module": "@jupyter-widgets/base",
       "_view_module_version": "2.0.0",
       "_view_name": "LayoutView",
       "align_content": null,
       "align_items": null,
       "align_self": null,
       "border_bottom": null,
       "border_left": null,
       "border_right": null,
       "border_top": null,
       "bottom": null,
       "display": null,
       "flex": null,
       "flex_flow": null,
       "grid_area": null,
       "grid_auto_columns": null,
       "grid_auto_flow": null,
       "grid_auto_rows": null,
       "grid_column": null,
       "grid_gap": null,
       "grid_row": null,
       "grid_template_areas": null,
       "grid_template_columns": null,
       "grid_template_rows": null,
       "height": null,
       "justify_content": null,
       "justify_items": null,
       "left": null,
       "margin": null,
       "max_height": null,
       "max_width": null,
       "min_height": null,
       "min_width": null,
       "object_fit": null,
       "object_position": null,
       "order": null,
       "overflow": null,
       "padding": null,
       "right": null,
       "top": null,
       "visibility": null,
       "width": null
      }
     }
    },
    "version_major": 2,
    "version_minor": 0
   }
  }
 },
 "nbformat": 4,
 "nbformat_minor": 5
}
