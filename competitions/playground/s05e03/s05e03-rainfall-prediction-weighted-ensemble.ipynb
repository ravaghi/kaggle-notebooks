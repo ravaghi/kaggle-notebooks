{
 "cells": [
  {
   "cell_type": "markdown",
   "id": "b0737f06",
   "metadata": {
    "papermill": {
     "duration": 0.005943,
     "end_time": "2025-03-11T12:03:05.148741",
     "exception": false,
     "start_time": "2025-03-11T12:03:05.142798",
     "status": "completed"
    },
    "tags": []
   },
   "source": [
    "# Imports and configs"
   ]
  },
  {
   "cell_type": "code",
   "execution_count": 1,
   "id": "33e3f87a",
   "metadata": {
    "execution": {
     "iopub.execute_input": "2025-03-11T12:03:05.159950Z",
     "iopub.status.busy": "2025-03-11T12:03:05.159626Z",
     "iopub.status.idle": "2025-03-11T12:03:17.816010Z",
     "shell.execute_reply": "2025-03-11T12:03:17.815033Z"
    },
    "papermill": {
     "duration": 12.663819,
     "end_time": "2025-03-11T12:03:17.817907",
     "exception": false,
     "start_time": "2025-03-11T12:03:05.154088",
     "status": "completed"
    },
    "tags": []
   },
   "outputs": [],
   "source": [
    "from sklearn.ensemble import RandomForestClassifier, ExtraTreesClassifier, HistGradientBoostingClassifier, GradientBoostingClassifier, AdaBoostClassifier\n",
    "from sklearn.linear_model import LogisticRegression, Ridge\n",
    "from sklearn.model_selection import StratifiedKFold\n",
    "from sklearn.metrics import roc_auc_score\n",
    "from sklearn.base import clone\n",
    "from autogluon.tabular import TabularPredictor\n",
    "from catboost import CatBoostClassifier\n",
    "from lightgbm import LGBMClassifier\n",
    "from tabpfn import TabPFNClassifier\n",
    "from xgboost import XGBClassifier\n",
    "from scipy.special import logit\n",
    "import matplotlib.pyplot as plt\n",
    "import seaborn as sns\n",
    "import pandas as pd\n",
    "import numpy as np\n",
    "import warnings\n",
    "import joblib\n",
    "import pickle\n",
    "import shutil\n",
    "import optuna\n",
    "import glob\n",
    "import json\n",
    "import os\n",
    "import gc\n",
    "\n",
    "warnings.filterwarnings(\"ignore\")"
   ]
  },
  {
   "cell_type": "code",
   "execution_count": 2,
   "id": "8df27f0a",
   "metadata": {
    "execution": {
     "iopub.execute_input": "2025-03-11T12:03:17.829242Z",
     "iopub.status.busy": "2025-03-11T12:03:17.828742Z",
     "iopub.status.idle": "2025-03-11T12:03:17.832602Z",
     "shell.execute_reply": "2025-03-11T12:03:17.831811Z"
    },
    "papermill": {
     "duration": 0.01062,
     "end_time": "2025-03-11T12:03:17.833905",
     "exception": false,
     "start_time": "2025-03-11T12:03:17.823285",
     "status": "completed"
    },
    "tags": []
   },
   "outputs": [],
   "source": [
    "class CFG:\n",
    "    train_path = \"/kaggle/input/playground-series-s5e3/train.csv\"\n",
    "    test_path = \"/kaggle/input/playground-series-s5e3/test.csv\"\n",
    "    sample_sub_path = \"/kaggle/input/playground-series-s5e3/sample_submission.csv\"\n",
    "    \n",
    "    target = \"rainfall\"\n",
    "    n_folds = 5\n",
    "    seed = 42\n",
    "    \n",
    "    run_optuna = False\n",
    "    optuna_trials = 250"
   ]
  },
  {
   "cell_type": "markdown",
   "id": "7e917f3d",
   "metadata": {
    "papermill": {
     "duration": 0.004787,
     "end_time": "2025-03-11T12:03:17.843792",
     "exception": false,
     "start_time": "2025-03-11T12:03:17.839005",
     "status": "completed"
    },
    "tags": []
   },
   "source": [
    "# Data loading and preprocessing"
   ]
  },
  {
   "cell_type": "code",
   "execution_count": 3,
   "id": "65e52538",
   "metadata": {
    "execution": {
     "iopub.execute_input": "2025-03-11T12:03:17.854184Z",
     "iopub.status.busy": "2025-03-11T12:03:17.853979Z",
     "iopub.status.idle": "2025-03-11T12:03:17.885885Z",
     "shell.execute_reply": "2025-03-11T12:03:17.885325Z"
    },
    "papermill": {
     "duration": 0.038507,
     "end_time": "2025-03-11T12:03:17.887214",
     "exception": false,
     "start_time": "2025-03-11T12:03:17.848707",
     "status": "completed"
    },
    "tags": []
   },
   "outputs": [],
   "source": [
    "train = pd.read_csv(CFG.train_path, index_col=\"id\")\n",
    "test = pd.read_csv(CFG.test_path, index_col=\"id\")\n",
    "\n",
    "test[\"winddirection\"] = test[\"winddirection\"].fillna(test[\"winddirection\"].median())"
   ]
  },
  {
   "cell_type": "code",
   "execution_count": 4,
   "id": "0ddea2f6",
   "metadata": {
    "execution": {
     "iopub.execute_input": "2025-03-11T12:03:17.897838Z",
     "iopub.status.busy": "2025-03-11T12:03:17.897628Z",
     "iopub.status.idle": "2025-03-11T12:03:17.904193Z",
     "shell.execute_reply": "2025-03-11T12:03:17.903614Z"
    },
    "papermill": {
     "duration": 0.013394,
     "end_time": "2025-03-11T12:03:17.905633",
     "exception": false,
     "start_time": "2025-03-11T12:03:17.892239",
     "status": "completed"
    },
    "tags": []
   },
   "outputs": [],
   "source": [
    "X = train.drop(CFG.target, axis=1)\n",
    "y = train[CFG.target]\n",
    "X_test = test.copy()"
   ]
  },
  {
   "cell_type": "markdown",
   "id": "3098f543",
   "metadata": {
    "papermill": {
     "duration": 0.004733,
     "end_time": "2025-03-11T12:03:17.915523",
     "exception": false,
     "start_time": "2025-03-11T12:03:17.910790",
     "status": "completed"
    },
    "tags": []
   },
   "source": [
    "# Training base models"
   ]
  },
  {
   "cell_type": "code",
   "execution_count": 5,
   "id": "e777b0ff",
   "metadata": {
    "execution": {
     "iopub.execute_input": "2025-03-11T12:03:17.926333Z",
     "iopub.status.busy": "2025-03-11T12:03:17.926095Z",
     "iopub.status.idle": "2025-03-11T12:03:17.937162Z",
     "shell.execute_reply": "2025-03-11T12:03:17.936536Z"
    },
    "papermill": {
     "duration": 0.017717,
     "end_time": "2025-03-11T12:03:17.938365",
     "exception": false,
     "start_time": "2025-03-11T12:03:17.920648",
     "status": "completed"
    },
    "tags": []
   },
   "outputs": [],
   "source": [
    "class Trainer:\n",
    "    def __init__(self, model, config=CFG, is_ensemble_model=False):\n",
    "        self.model = model\n",
    "        self.config = config\n",
    "        self.is_ensemble_model = is_ensemble_model\n",
    "\n",
    "    def fit_predict(self, X, y, X_test, X_original=None, y_original=None):\n",
    "        print(f\"Training {self.model.__class__.__name__}\\n\")\n",
    "        \n",
    "        scores = []        \n",
    "        coeffs = np.zeros((1, X.shape[1]))\n",
    "        oof_pred_probs = np.zeros(X.shape[0])\n",
    "        test_pred_probs = np.zeros(X_test.shape[0])\n",
    "        \n",
    "        skf = StratifiedKFold(n_splits=self.config.n_folds, random_state=self.config.seed, shuffle=True)\n",
    "        for fold_idx, (train_idx, val_idx) in enumerate(skf.split(X, y)):\n",
    "            X_train, X_val = X.iloc[train_idx], X.iloc[val_idx]\n",
    "            y_train, y_val = y[train_idx], y[val_idx]\n",
    "            \n",
    "            if X_original is not None and y_original is not None:                            \n",
    "                X_train = pd.concat([X_train, X_original], ignore_index=True)\n",
    "                y_train = pd.concat([y_train, y_original], ignore_index=True)\n",
    "            \n",
    "            model = clone(self.model)\n",
    "            model.fit(X_train, y_train)\n",
    "            \n",
    "            if self.is_ensemble_model:\n",
    "                coeffs += model.coef_ / self.config.n_folds\n",
    "                if isinstance(self.model, LogisticRegression):\n",
    "                    n_iters = model.n_iter_[0]\n",
    "            \n",
    "            y_pred_probs = model.predict(X_val) if isinstance(self.model, Ridge) else model.predict_proba(X_val)[: ,1]\n",
    "            oof_pred_probs[val_idx] = y_pred_probs \n",
    "            \n",
    "            temp_test_pred_probs = model.predict(X_test) if isinstance(self.model, Ridge) else model.predict_proba(X_test)[:, 1]\n",
    "            test_pred_probs += temp_test_pred_probs / self.config.n_folds\n",
    "            \n",
    "            score = roc_auc_score(y_val, y_pred_probs)\n",
    "            scores.append(score)\n",
    "            \n",
    "            del model, X_train, y_train, X_val, y_val, y_pred_probs\n",
    "            gc.collect()\n",
    "            \n",
    "            if self.is_ensemble_model and isinstance(self.model, LogisticRegression):\n",
    "                print(f\"--- Fold {fold_idx + 1} - ROC AUC: {score:.6f} ({n_iters} iterations)\")\n",
    "            else:\n",
    "                print(f\"--- Fold {fold_idx + 1} - ROC AUC: {score:.6f}\")\n",
    "            \n",
    "        overall_score = roc_auc_score(y, oof_pred_probs)\n",
    "            \n",
    "        print(f\"\\n------ Overall: {overall_score:.6f} | Average: {np.mean(scores):.6f} ± {np.std(scores):.6f}\")\n",
    "        \n",
    "        if self.is_ensemble_model:\n",
    "            return oof_pred_probs, test_pred_probs, scores, coeffs\n",
    "        else:\n",
    "            os.makedirs(\"oof_pred_probs\", exist_ok=True)\n",
    "            os.makedirs(\"test_pred_probs\", exist_ok=True)\n",
    "            self._save_pred_probs(oof_pred_probs, np.mean(scores), \"oof\")\n",
    "            self._save_pred_probs(test_pred_probs, np.mean(scores), \"test\")\n",
    "            return oof_pred_probs, test_pred_probs, scores\n",
    "        \n",
    "    def tune(self, X, y):        \n",
    "        scores = []        \n",
    "        skf = StratifiedKFold(n_splits=self.config.n_folds, random_state=self.config.seed, shuffle=True)\n",
    "        for fold_idx, (train_idx, val_idx) in enumerate(skf.split(X, y)):\n",
    "            X_train, X_val = X.iloc[train_idx], X.iloc[val_idx]\n",
    "            y_train, y_val = y[train_idx], y[val_idx]\n",
    "            \n",
    "            model = clone(self.model)\n",
    "            model.fit(X_train, y_train)\n",
    "            \n",
    "            y_pred_probs = model.predict(X_val) if isinstance(self.model, Ridge) else model.predict_proba(X_val)[: ,1]\n",
    "            score = roc_auc_score(y_val, y_pred_probs)\n",
    "            scores.append(score)\n",
    "            \n",
    "            del model, X_train, y_train, X_val, y_val, y_pred_probs\n",
    "            gc.collect()\n",
    "            \n",
    "        return np.mean(scores)\n",
    "        \n",
    "    def _save_pred_probs(self, pred_probs, cv_score, name):\n",
    "        model_name = self.model.__class__.__name__.lower().replace(\"classifier\", \"\")\n",
    "        with open(f\"{name}_pred_probs/{model_name}_{name}_pred_probs_{cv_score:.6f}.pkl\", \"wb\") as f:\n",
    "            pickle.dump(pred_probs, f)"
   ]
  },
  {
   "cell_type": "code",
   "execution_count": 6,
   "id": "467eb23a",
   "metadata": {
    "execution": {
     "iopub.execute_input": "2025-03-11T12:03:17.948950Z",
     "iopub.status.busy": "2025-03-11T12:03:17.948746Z",
     "iopub.status.idle": "2025-03-11T12:03:17.952077Z",
     "shell.execute_reply": "2025-03-11T12:03:17.951484Z"
    },
    "papermill": {
     "duration": 0.009877,
     "end_time": "2025-03-11T12:03:17.953208",
     "exception": false,
     "start_time": "2025-03-11T12:03:17.943331",
     "status": "completed"
    },
    "tags": []
   },
   "outputs": [],
   "source": [
    "def save_submission(name, test_pred_probs, score):\n",
    "    sub = pd.read_csv(CFG.sample_sub_path)\n",
    "    sub[CFG.target] = test_pred_probs\n",
    "    sub.to_csv(f\"sub_{name}_{score:.6f}.csv\", index=False)\n",
    "    return sub.head()"
   ]
  },
  {
   "cell_type": "code",
   "execution_count": 7,
   "id": "5ed00154",
   "metadata": {
    "execution": {
     "iopub.execute_input": "2025-03-11T12:03:17.963839Z",
     "iopub.status.busy": "2025-03-11T12:03:17.963634Z",
     "iopub.status.idle": "2025-03-11T12:03:17.966772Z",
     "shell.execute_reply": "2025-03-11T12:03:17.966007Z"
    },
    "papermill": {
     "duration": 0.009583,
     "end_time": "2025-03-11T12:03:17.967934",
     "exception": false,
     "start_time": "2025-03-11T12:03:17.958351",
     "status": "completed"
    },
    "tags": []
   },
   "outputs": [],
   "source": [
    "scores = {}\n",
    "oof_pred_probs = {}\n",
    "test_pred_probs = {}"
   ]
  },
  {
   "cell_type": "code",
   "execution_count": 8,
   "id": "6c2ef6d6",
   "metadata": {
    "_kg_hide-input": true,
    "execution": {
     "iopub.execute_input": "2025-03-11T12:03:17.979017Z",
     "iopub.status.busy": "2025-03-11T12:03:17.978795Z",
     "iopub.status.idle": "2025-03-11T12:03:17.986071Z",
     "shell.execute_reply": "2025-03-11T12:03:17.985310Z"
    },
    "papermill": {
     "duration": 0.014266,
     "end_time": "2025-03-11T12:03:17.987385",
     "exception": false,
     "start_time": "2025-03-11T12:03:17.973119",
     "status": "completed"
    },
    "tags": []
   },
   "outputs": [],
   "source": [
    "xgb_params = {\n",
    "    \"colsample_bylevel\": 0.5759002656759072,\n",
    "    \"colsample_bynode\": 0.42460592745733416,\n",
    "    \"colsample_bytree\": 0.6681903658062955,\n",
    "    \"gamma\": 1.6606282492625313,\n",
    "    \"learning_rate\": 0.05197817807184489,\n",
    "    \"max_depth\": 177,\n",
    "    \"max_leaves\": 208,\n",
    "    \"min_child_weight\": 3,\n",
    "    \"n_estimators\": 3373,\n",
    "    \"n_jobs\": -1,\n",
    "    \"random_state\": 42,\n",
    "    \"reg_alpha\": 3.647027988459395,\n",
    "    \"reg_lambda\": 9.48338781598732,\n",
    "    \"subsample\": 0.903408474763426,\n",
    "    \"verbosity\": 0\n",
    "}\n",
    "\n",
    "lgbm_params = {\n",
    "    \"boosting_type\": \"gbdt\",\n",
    "    \"colsample_bytree\": 0.8476377775404691,\n",
    "    \"learning_rate\": 0.05535905415032254,\n",
    "    \"min_child_samples\": 94,\n",
    "    \"min_child_weight\": 0.7742412548324099,\n",
    "    \"n_estimators\": 293,\n",
    "    \"n_jobs\": -1,\n",
    "    \"num_leaves\": 409,\n",
    "    \"random_state\": 42,\n",
    "    \"reg_alpha\": 10.371296888060456,\n",
    "    \"reg_lambda\": 28.33161504781989,\n",
    "    \"subsample\": 0.28341373258437474,\n",
    "    \"verbose\": -1\n",
    "}\n",
    "\n",
    "lgbm_goss_params = {\n",
    "    \"boosting_type\": \"goss\",\n",
    "    \"colsample_bytree\": 0.8208408104268429,\n",
    "    \"learning_rate\": 0.04530694055021972,\n",
    "    \"min_child_samples\": 53,\n",
    "    \"min_child_weight\": 0.9986857129449946,\n",
    "    \"n_estimators\": 260,\n",
    "    \"n_jobs\": -1,\n",
    "    \"num_leaves\": 20,\n",
    "    \"random_state\": 42,\n",
    "    \"reg_alpha\": 2.522154852594183,\n",
    "    \"reg_lambda\": 72.61906225209607,\n",
    "    \"subsample\": 0.8052111283468785,\n",
    "    \"verbose\": -1\n",
    "}\n",
    "\n",
    "cb_params = {\n",
    "    \"border_count\": 181,\n",
    "    \"colsample_bylevel\": 0.5017762060861627,\n",
    "    \"depth\": 5,\n",
    "    \"iterations\": 417,\n",
    "    \"l2_leaf_reg\": 97.619408459123,\n",
    "    \"learning_rate\": 0.015603843064139295,\n",
    "    \"min_child_samples\": 438,\n",
    "    \"random_state\": 42,\n",
    "    \"random_strength\": 0.973489470246637,\n",
    "    \"subsample\": 0.2777982603536663,\n",
    "    \"verbose\": False\n",
    "}\n",
    "\n",
    "adb_params = {\n",
    "    \"learning_rate\": 0.02849860787991116,\n",
    "    \"n_estimators\": 421,\n",
    "    \"random_state\": 42\n",
    "}\n",
    "\n",
    "rf_params = {\n",
    "    \"min_samples_leaf\": 10,\n",
    "    \"min_samples_split\": 3,\n",
    "    \"n_estimators\": 248,\n",
    "    \"n_jobs\": -1,\n",
    "    \"random_state\": 42\n",
    "}\n",
    "\n",
    "et_params = {\n",
    "    \"class_weight\": None,\n",
    "    \"criterion\": \"entropy\",\n",
    "    \"min_samples_leaf\": 3,\n",
    "    \"min_samples_split\": 69,\n",
    "    \"n_estimators\": 1199,\n",
    "    \"random_state\": 42\n",
    "}\n",
    "\n",
    "histgb_params = {\n",
    "    \"l2_regularization\": 99.57362071334332,\n",
    "    \"learning_rate\": 0.08951727018193958,\n",
    "    \"max_depth\": 325,\n",
    "    \"max_iter\": 101,\n",
    "    \"max_leaf_nodes\": 238,\n",
    "    \"min_samples_leaf\": 80,\n",
    "    \"random_state\": 42\n",
    "}\n",
    "\n",
    "gb_params = {\n",
    "    \"learning_rate\": 0.014719110111196282,\n",
    "    \"max_depth\": 42,\n",
    "    \"max_features\": 0.785890517657601,\n",
    "    \"max_leaf_nodes\": 41,\n",
    "    \"min_samples_leaf\": 0.004529940310436742,\n",
    "    \"min_samples_split\": 0.01824257250689731,\n",
    "    \"min_weight_fraction_leaf\": 0.07901583438561444,\n",
    "    \"n_estimators\": 193,\n",
    "    \"random_state\": 42,\n",
    "    \"subsample\": 0.5689877287369915\n",
    "}\n",
    "\n",
    "lr_params = {\n",
    "  \"random_state\": 42,\n",
    "  \"max_iter\": 500,\n",
    "  \"C\": 32.07196413616409,\n",
    "  \"tol\": 0.004832450591427355,\n",
    "  \"fit_intercept\": True,\n",
    "  \"class_weight\": None,\n",
    "  \"solver\": \"newton-cholesky\",\n",
    "  \"penalty\": None\n",
    "}"
   ]
  },
  {
   "cell_type": "code",
   "execution_count": 9,
   "id": "d95dd6f0",
   "metadata": {
    "execution": {
     "iopub.execute_input": "2025-03-11T12:03:17.998068Z",
     "iopub.status.busy": "2025-03-11T12:03:17.997873Z",
     "iopub.status.idle": "2025-03-11T12:03:21.660037Z",
     "shell.execute_reply": "2025-03-11T12:03:21.658981Z"
    },
    "papermill": {
     "duration": 3.669191,
     "end_time": "2025-03-11T12:03:21.661588",
     "exception": false,
     "start_time": "2025-03-11T12:03:17.992397",
     "status": "completed"
    },
    "tags": []
   },
   "outputs": [
    {
     "name": "stdout",
     "output_type": "stream",
     "text": [
      "Training XGBClassifier\n",
      "\n",
      "--- Fold 1 - ROC AUC: 0.923737\n",
      "--- Fold 2 - ROC AUC: 0.857926\n",
      "--- Fold 3 - ROC AUC: 0.877441\n",
      "--- Fold 4 - ROC AUC: 0.908530\n",
      "--- Fold 5 - ROC AUC: 0.899355\n",
      "\n",
      "------ Overall: 0.892126 | Average: 0.893398 ± 0.023228\n"
     ]
    }
   ],
   "source": [
    "xgb_model = XGBClassifier(**xgb_params)\n",
    "xgb_trainer = Trainer(xgb_model)\n",
    "oof_pred_probs[\"XGBoost\"], test_pred_probs[\"XGBoost\"], scores[\"XGBoost\"] = xgb_trainer.fit_predict(X, y, X_test)"
   ]
  },
  {
   "cell_type": "code",
   "execution_count": 10,
   "id": "ee242e63",
   "metadata": {
    "execution": {
     "iopub.execute_input": "2025-03-11T12:03:21.673894Z",
     "iopub.status.busy": "2025-03-11T12:03:21.673649Z",
     "iopub.status.idle": "2025-03-11T12:03:22.933667Z",
     "shell.execute_reply": "2025-03-11T12:03:22.932782Z"
    },
    "papermill": {
     "duration": 1.26759,
     "end_time": "2025-03-11T12:03:22.934976",
     "exception": false,
     "start_time": "2025-03-11T12:03:21.667386",
     "status": "completed"
    },
    "tags": []
   },
   "outputs": [
    {
     "name": "stdout",
     "output_type": "stream",
     "text": [
      "Training LGBMClassifier\n",
      "\n",
      "--- Fold 1 - ROC AUC: 0.926599\n",
      "--- Fold 2 - ROC AUC: 0.854938\n",
      "--- Fold 3 - ROC AUC: 0.873906\n",
      "--- Fold 4 - ROC AUC: 0.912724\n",
      "--- Fold 5 - ROC AUC: 0.904209\n",
      "\n",
      "------ Overall: 0.892497 | Average: 0.894475 ± 0.026253\n"
     ]
    }
   ],
   "source": [
    "lgbm_model = LGBMClassifier(**lgbm_params)\n",
    "lgbm_trainer = Trainer(lgbm_model)\n",
    "oof_pred_probs[\"LightGBM\"], test_pred_probs[\"LightGBM\"], scores[\"LightGBM\"] = lgbm_trainer.fit_predict(X, y, X_test)"
   ]
  },
  {
   "cell_type": "code",
   "execution_count": 11,
   "id": "f5b8355b",
   "metadata": {
    "execution": {
     "iopub.execute_input": "2025-03-11T12:03:22.947869Z",
     "iopub.status.busy": "2025-03-11T12:03:22.947651Z",
     "iopub.status.idle": "2025-03-11T12:03:24.184944Z",
     "shell.execute_reply": "2025-03-11T12:03:24.184115Z"
    },
    "papermill": {
     "duration": 1.244846,
     "end_time": "2025-03-11T12:03:24.186087",
     "exception": false,
     "start_time": "2025-03-11T12:03:22.941241",
     "status": "completed"
    },
    "tags": []
   },
   "outputs": [
    {
     "name": "stdout",
     "output_type": "stream",
     "text": [
      "Training LGBMClassifier\n",
      "\n",
      "--- Fold 1 - ROC AUC: 0.922559\n",
      "--- Fold 2 - ROC AUC: 0.850028\n",
      "--- Fold 3 - ROC AUC: 0.880177\n",
      "--- Fold 4 - ROC AUC: 0.911841\n",
      "--- Fold 5 - ROC AUC: 0.901263\n",
      "\n",
      "------ Overall: 0.891866 | Average: 0.893173 ± 0.025721\n"
     ]
    }
   ],
   "source": [
    "lgbm_goss_model = LGBMClassifier(**lgbm_goss_params)\n",
    "lgbm_goss_trainer = Trainer(lgbm_goss_model)\n",
    "oof_pred_probs[\"LightGBM (goss)\"], test_pred_probs[\"LightGBM (goss)\"], scores[\"LightGBM (goss)\"] = lgbm_goss_trainer.fit_predict(X, y, X_test)"
   ]
  },
  {
   "cell_type": "code",
   "execution_count": 12,
   "id": "e0cd55d2",
   "metadata": {
    "execution": {
     "iopub.execute_input": "2025-03-11T12:03:24.199356Z",
     "iopub.status.busy": "2025-03-11T12:03:24.199089Z",
     "iopub.status.idle": "2025-03-11T12:03:27.742945Z",
     "shell.execute_reply": "2025-03-11T12:03:27.741973Z"
    },
    "papermill": {
     "duration": 3.552087,
     "end_time": "2025-03-11T12:03:27.744444",
     "exception": false,
     "start_time": "2025-03-11T12:03:24.192357",
     "status": "completed"
    },
    "tags": []
   },
   "outputs": [
    {
     "name": "stdout",
     "output_type": "stream",
     "text": [
      "Training CatBoostClassifier\n",
      "\n",
      "--- Fold 1 - ROC AUC: 0.923934\n",
      "--- Fold 2 - ROC AUC: 0.858053\n",
      "--- Fold 3 - ROC AUC: 0.874467\n",
      "--- Fold 4 - ROC AUC: 0.912177\n",
      "--- Fold 5 - ROC AUC: 0.900224\n",
      "\n",
      "------ Overall: 0.891793 | Average: 0.893771 ± 0.024243\n"
     ]
    }
   ],
   "source": [
    "cb_model = CatBoostClassifier(**cb_params)\n",
    "cb_trainer = Trainer(cb_model)\n",
    "oof_pred_probs[\"CatBoost\"], test_pred_probs[\"CatBoost\"], scores[\"CatBoost\"] = cb_trainer.fit_predict(X, y, X_test)"
   ]
  },
  {
   "cell_type": "code",
   "execution_count": 13,
   "id": "caf229ac",
   "metadata": {
    "execution": {
     "iopub.execute_input": "2025-03-11T12:03:27.758906Z",
     "iopub.status.busy": "2025-03-11T12:03:27.758672Z",
     "iopub.status.idle": "2025-03-11T12:03:35.411974Z",
     "shell.execute_reply": "2025-03-11T12:03:35.411014Z"
    },
    "papermill": {
     "duration": 7.661879,
     "end_time": "2025-03-11T12:03:35.413461",
     "exception": false,
     "start_time": "2025-03-11T12:03:27.751582",
     "status": "completed"
    },
    "tags": []
   },
   "outputs": [
    {
     "name": "stdout",
     "output_type": "stream",
     "text": [
      "Training AdaBoostClassifier\n",
      "\n",
      "--- Fold 1 - ROC AUC: 0.925786\n",
      "--- Fold 2 - ROC AUC: 0.846184\n",
      "--- Fold 3 - ROC AUC: 0.853465\n",
      "--- Fold 4 - ROC AUC: 0.901950\n",
      "--- Fold 5 - ROC AUC: 0.895847\n",
      "\n",
      "------ Overall: 0.882266 | Average: 0.884646 ± 0.030229\n"
     ]
    }
   ],
   "source": [
    "adb_model = AdaBoostClassifier(**adb_params)\n",
    "adb_trainer = Trainer(adb_model)\n",
    "oof_pred_probs[\"AdaBoost\"], test_pred_probs[\"AdaBoost\"], scores[\"AdaBoost\"] = adb_trainer.fit_predict(X, y, X_test)"
   ]
  },
  {
   "cell_type": "code",
   "execution_count": 14,
   "id": "5ebada4d",
   "metadata": {
    "execution": {
     "iopub.execute_input": "2025-03-11T12:03:35.428070Z",
     "iopub.status.busy": "2025-03-11T12:03:35.427824Z",
     "iopub.status.idle": "2025-03-11T12:03:40.167788Z",
     "shell.execute_reply": "2025-03-11T12:03:40.166737Z"
    },
    "papermill": {
     "duration": 4.748588,
     "end_time": "2025-03-11T12:03:40.169304",
     "exception": false,
     "start_time": "2025-03-11T12:03:35.420716",
     "status": "completed"
    },
    "tags": []
   },
   "outputs": [
    {
     "name": "stdout",
     "output_type": "stream",
     "text": [
      "Training RandomForestClassifier\n",
      "\n",
      "--- Fold 1 - ROC AUC: 0.925645\n",
      "--- Fold 2 - ROC AUC: 0.854181\n",
      "--- Fold 3 - ROC AUC: 0.871296\n",
      "--- Fold 4 - ROC AUC: 0.908754\n",
      "--- Fold 5 - ROC AUC: 0.901459\n",
      "\n",
      "------ Overall: 0.890584 | Average: 0.892267 ± 0.025926\n"
     ]
    }
   ],
   "source": [
    "rf_model = RandomForestClassifier(**rf_params)\n",
    "rf_trainer = Trainer(rf_model)\n",
    "oof_pred_probs[\"RandomForest\"], test_pred_probs[\"RandomForest\"], scores[\"RandomForest\"] = rf_trainer.fit_predict(X, y, X_test)"
   ]
  },
  {
   "cell_type": "code",
   "execution_count": 15,
   "id": "b05f3eef",
   "metadata": {
    "execution": {
     "iopub.execute_input": "2025-03-11T12:03:40.184671Z",
     "iopub.status.busy": "2025-03-11T12:03:40.184428Z",
     "iopub.status.idle": "2025-03-11T12:03:50.795599Z",
     "shell.execute_reply": "2025-03-11T12:03:50.794659Z"
    },
    "papermill": {
     "duration": 10.620278,
     "end_time": "2025-03-11T12:03:50.796964",
     "exception": false,
     "start_time": "2025-03-11T12:03:40.176686",
     "status": "completed"
    },
    "tags": []
   },
   "outputs": [
    {
     "name": "stdout",
     "output_type": "stream",
     "text": [
      "Training ExtraTreesClassifier\n",
      "\n",
      "--- Fold 1 - ROC AUC: 0.926263\n",
      "--- Fold 2 - ROC AUC: 0.860382\n",
      "--- Fold 3 - ROC AUC: 0.872615\n",
      "--- Fold 4 - ROC AUC: 0.905359\n",
      "--- Fold 5 - ROC AUC: 0.900168\n",
      "\n",
      "------ Overall: 0.892296 | Average: 0.892957 ± 0.023622\n"
     ]
    }
   ],
   "source": [
    "et_model = ExtraTreesClassifier(**et_params)\n",
    "et_trainer = Trainer(et_model)\n",
    "oof_pred_probs[\"ExtraTrees\"], test_pred_probs[\"ExtraTrees\"], scores[\"ExtraTrees\"] = et_trainer.fit_predict(X, y, X_test)"
   ]
  },
  {
   "cell_type": "code",
   "execution_count": 16,
   "id": "9fb47ade",
   "metadata": {
    "execution": {
     "iopub.execute_input": "2025-03-11T12:03:50.813682Z",
     "iopub.status.busy": "2025-03-11T12:03:50.813421Z",
     "iopub.status.idle": "2025-03-11T12:03:52.345151Z",
     "shell.execute_reply": "2025-03-11T12:03:52.344327Z"
    },
    "papermill": {
     "duration": 1.541511,
     "end_time": "2025-03-11T12:03:52.346447",
     "exception": false,
     "start_time": "2025-03-11T12:03:50.804936",
     "status": "completed"
    },
    "tags": []
   },
   "outputs": [
    {
     "name": "stdout",
     "output_type": "stream",
     "text": [
      "Training HistGradientBoostingClassifier\n",
      "\n",
      "--- Fold 1 - ROC AUC: 0.925800\n",
      "--- Fold 2 - ROC AUC: 0.855626\n",
      "--- Fold 3 - ROC AUC: 0.870188\n",
      "--- Fold 4 - ROC AUC: 0.911967\n",
      "--- Fold 5 - ROC AUC: 0.906033\n",
      "\n",
      "------ Overall: 0.891762 | Average: 0.893923 ± 0.026527\n"
     ]
    }
   ],
   "source": [
    "histgb_model = HistGradientBoostingClassifier(**histgb_params)\n",
    "histgb_trainer = Trainer(histgb_model)\n",
    "oof_pred_probs[\"HistGradientBoosting\"], test_pred_probs[\"HistGradientBoosting\"], scores[\"HistGradientBoosting\"] = histgb_trainer.fit_predict(X, y, X_test)"
   ]
  },
  {
   "cell_type": "code",
   "execution_count": 17,
   "id": "466e8a50",
   "metadata": {
    "execution": {
     "iopub.execute_input": "2025-03-11T12:03:52.362443Z",
     "iopub.status.busy": "2025-03-11T12:03:52.362197Z",
     "iopub.status.idle": "2025-03-11T12:03:56.472575Z",
     "shell.execute_reply": "2025-03-11T12:03:56.471656Z"
    },
    "papermill": {
     "duration": 4.119786,
     "end_time": "2025-03-11T12:03:56.474009",
     "exception": false,
     "start_time": "2025-03-11T12:03:52.354223",
     "status": "completed"
    },
    "tags": []
   },
   "outputs": [
    {
     "name": "stdout",
     "output_type": "stream",
     "text": [
      "Training GradientBoostingClassifier\n",
      "\n",
      "--- Fold 1 - ROC AUC: 0.925505\n",
      "--- Fold 2 - ROC AUC: 0.851655\n",
      "--- Fold 3 - ROC AUC: 0.872363\n",
      "--- Fold 4 - ROC AUC: 0.909540\n",
      "--- Fold 5 - ROC AUC: 0.906538\n",
      "\n",
      "------ Overall: 0.891314 | Average: 0.893120 ± 0.027013\n"
     ]
    }
   ],
   "source": [
    "gb_model = GradientBoostingClassifier(**gb_params)\n",
    "gb_trainer = Trainer(gb_model)\n",
    "oof_pred_probs[\"GradientBoosting\"], test_pred_probs[\"GradientBoosting\"], scores[\"GradientBoosting\"] = gb_trainer.fit_predict(X, y, X_test)"
   ]
  },
  {
   "cell_type": "code",
   "execution_count": 18,
   "id": "d8bd7dfa",
   "metadata": {
    "execution": {
     "iopub.execute_input": "2025-03-11T12:03:56.491350Z",
     "iopub.status.busy": "2025-03-11T12:03:56.491088Z",
     "iopub.status.idle": "2025-03-11T12:03:57.457935Z",
     "shell.execute_reply": "2025-03-11T12:03:57.457045Z"
    },
    "papermill": {
     "duration": 0.977063,
     "end_time": "2025-03-11T12:03:57.459279",
     "exception": false,
     "start_time": "2025-03-11T12:03:56.482216",
     "status": "completed"
    },
    "tags": []
   },
   "outputs": [
    {
     "name": "stdout",
     "output_type": "stream",
     "text": [
      "Training LogisticRegression\n",
      "\n",
      "--- Fold 1 - ROC AUC: 0.921409\n",
      "--- Fold 2 - ROC AUC: 0.860382\n",
      "--- Fold 3 - ROC AUC: 0.882379\n",
      "--- Fold 4 - ROC AUC: 0.910045\n",
      "--- Fold 5 - ROC AUC: 0.898064\n",
      "\n",
      "------ Overall: 0.893404 | Average: 0.894456 ± 0.021398\n"
     ]
    }
   ],
   "source": [
    "lr_model = LogisticRegression(**lr_params)\n",
    "lr_trainer = Trainer(lr_model)\n",
    "oof_pred_probs[\"LogisticRegression\"], test_pred_probs[\"LogisticRegression\"], scores[\"LogisticRegression\"] = lr_trainer.fit_predict(X, y, X_test)"
   ]
  },
  {
   "cell_type": "code",
   "execution_count": 19,
   "id": "f11a70fb",
   "metadata": {
    "execution": {
     "iopub.execute_input": "2025-03-11T12:03:57.476284Z",
     "iopub.status.busy": "2025-03-11T12:03:57.476044Z",
     "iopub.status.idle": "2025-03-11T12:04:13.560525Z",
     "shell.execute_reply": "2025-03-11T12:04:13.559354Z"
    },
    "papermill": {
     "duration": 16.094692,
     "end_time": "2025-03-11T12:04:13.562276",
     "exception": false,
     "start_time": "2025-03-11T12:03:57.467584",
     "status": "completed"
    },
    "tags": []
   },
   "outputs": [
    {
     "name": "stdout",
     "output_type": "stream",
     "text": [
      "Training TabPFNClassifier\n",
      "\n"
     ]
    },
    {
     "data": {
      "application/vnd.jupyter.widget-view+json": {
       "model_id": "7888a64cb2e342528b0abe8109a27332",
       "version_major": 2,
       "version_minor": 0
      },
      "text/plain": [
       "tabpfn-v2-classifier.ckpt:   0%|          | 0.00/29.0M [00:00<?, ?B/s]"
      ]
     },
     "metadata": {},
     "output_type": "display_data"
    },
    {
     "data": {
      "application/vnd.jupyter.widget-view+json": {
       "model_id": "11c9fae81b9c45abb4ff44314489dcc1",
       "version_major": 2,
       "version_minor": 0
      },
      "text/plain": [
       "config.json:   0%|          | 0.00/37.0 [00:00<?, ?B/s]"
      ]
     },
     "metadata": {},
     "output_type": "display_data"
    },
    {
     "name": "stdout",
     "output_type": "stream",
     "text": [
      "--- Fold 1 - ROC AUC: 0.923906\n",
      "--- Fold 2 - ROC AUC: 0.857464\n",
      "--- Fold 3 - ROC AUC: 0.874383\n",
      "--- Fold 4 - ROC AUC: 0.912907\n",
      "--- Fold 5 - ROC AUC: 0.900224\n",
      "\n",
      "------ Overall: 0.891606 | Average: 0.893777 ± 0.024536\n"
     ]
    }
   ],
   "source": [
    "tabpfn_model = TabPFNClassifier(random_state=CFG.seed, n_jobs=-1)\n",
    "tabpfn_trainer = Trainer(tabpfn_model)\n",
    "oof_pred_probs[\"TabPFN\"], test_pred_probs[\"TabPFN\"], scores[\"TabPFN\"] = tabpfn_trainer.fit_predict(X, y, X_test)"
   ]
  },
  {
   "cell_type": "markdown",
   "id": "266415b8",
   "metadata": {
    "papermill": {
     "duration": 0.010051,
     "end_time": "2025-03-11T12:04:13.589042",
     "exception": false,
     "start_time": "2025-03-11T12:04:13.578991",
     "status": "completed"
    },
    "tags": []
   },
   "source": [
    "# Ensembling with LogisticRegression"
   ]
  },
  {
   "cell_type": "code",
   "execution_count": 20,
   "id": "1dc76571",
   "metadata": {
    "_kg_hide-input": true,
    "execution": {
     "iopub.execute_input": "2025-03-11T12:04:13.607492Z",
     "iopub.status.busy": "2025-03-11T12:04:13.607116Z",
     "iopub.status.idle": "2025-03-11T12:04:13.616018Z",
     "shell.execute_reply": "2025-03-11T12:04:13.615221Z"
    },
    "papermill": {
     "duration": 0.021591,
     "end_time": "2025-03-11T12:04:13.619197",
     "exception": false,
     "start_time": "2025-03-11T12:04:13.597606",
     "status": "completed"
    },
    "tags": []
   },
   "outputs": [],
   "source": [
    "def plot_weights(weights, title):\n",
    "    sorted_indices = np.argsort(weights[0])[::-1]\n",
    "    sorted_coeffs = np.array(weights[0])[sorted_indices]\n",
    "    sorted_model_names = np.array(list(oof_pred_probs.keys()))[sorted_indices]\n",
    "\n",
    "    plt.figure(figsize=(10, weights.shape[1] * 0.5))\n",
    "    ax = sns.barplot(x=sorted_coeffs, y=sorted_model_names, palette=\"RdYlGn_r\")\n",
    "\n",
    "    for i, (value, name) in enumerate(zip(sorted_coeffs, sorted_model_names)):\n",
    "        if value >= 0:\n",
    "            ax.text(value, i, f\"{value:.3f}\", va=\"center\", ha=\"left\", color=\"black\")\n",
    "        else:\n",
    "            ax.text(value, i, f\"{value:.3f}\", va=\"center\", ha=\"right\", color=\"black\")\n",
    "\n",
    "    xlim = ax.get_xlim()\n",
    "    ax.set_xlim(xlim[0] - 0.1 * abs(xlim[0]), xlim[1] + 0.1 * abs(xlim[1]))\n",
    "\n",
    "    plt.title(title)\n",
    "    plt.xlabel(\"\")\n",
    "    plt.ylabel(\"\")\n",
    "    plt.tight_layout()\n",
    "    plt.show()"
   ]
  },
  {
   "cell_type": "code",
   "execution_count": 21,
   "id": "39b86df1",
   "metadata": {
    "execution": {
     "iopub.execute_input": "2025-03-11T12:04:13.652650Z",
     "iopub.status.busy": "2025-03-11T12:04:13.652332Z",
     "iopub.status.idle": "2025-03-11T12:04:13.661580Z",
     "shell.execute_reply": "2025-03-11T12:04:13.660707Z"
    },
    "papermill": {
     "duration": 0.026294,
     "end_time": "2025-03-11T12:04:13.663005",
     "exception": false,
     "start_time": "2025-03-11T12:04:13.636711",
     "status": "completed"
    },
    "tags": []
   },
   "outputs": [],
   "source": [
    "X = logit(pd.DataFrame(oof_pred_probs).clip(1e-15, 1-1e-15))\n",
    "X_test = logit(pd.DataFrame(test_pred_probs).clip(1e-15, 1-1e-15))"
   ]
  },
  {
   "cell_type": "code",
   "execution_count": 22,
   "id": "5dd6e42e",
   "metadata": {
    "_kg_hide-output": true,
    "execution": {
     "iopub.execute_input": "2025-03-11T12:04:13.687158Z",
     "iopub.status.busy": "2025-03-11T12:04:13.686835Z",
     "iopub.status.idle": "2025-03-11T12:04:13.695798Z",
     "shell.execute_reply": "2025-03-11T12:04:13.694913Z"
    },
    "papermill": {
     "duration": 0.024166,
     "end_time": "2025-03-11T12:04:13.697275",
     "exception": false,
     "start_time": "2025-03-11T12:04:13.673109",
     "status": "completed"
    },
    "scrolled": true,
    "tags": []
   },
   "outputs": [],
   "source": [
    "def objective(trial):\n",
    "    solver_penalty_options = [\n",
    "        (\"liblinear\", \"l1\"),\n",
    "        (\"liblinear\", \"l2\"),\n",
    "        (\"lbfgs\", \"l2\"),\n",
    "        (\"lbfgs\", None),\n",
    "        (\"newton-cg\", \"l2\"),\n",
    "        (\"newton-cg\", None),\n",
    "        (\"newton-cholesky\", \"l2\"),\n",
    "        (\"newton-cholesky\", None)\n",
    "    ]\n",
    "    solver, penalty = trial.suggest_categorical(\"solver_penalty\", solver_penalty_options)\n",
    "    \n",
    "    params = {\n",
    "        \"random_state\": CFG.seed,\n",
    "        \"max_iter\": 500,\n",
    "        \"C\": trial.suggest_float(\"C\", 0, 100),\n",
    "        \"tol\": trial.suggest_float(\"tol\", 1e-6, 1e-2),\n",
    "        \"fit_intercept\": trial.suggest_categorical(\"fit_intercept\", [True, False]),\n",
    "        \"class_weight\": trial.suggest_categorical(\"class_weight\", [\"balanced\", None]),\n",
    "        \"solver\": solver,\n",
    "        \"penalty\": penalty\n",
    "    }\n",
    "    \n",
    "    model = LogisticRegression(**params)\n",
    "    trainer = Trainer(model, is_ensemble_model=True)\n",
    "    return trainer.tune(X, y)\n",
    "\n",
    "if CFG.run_optuna:\n",
    "    sampler = optuna.samplers.TPESampler(seed=CFG.seed, multivariate=True, n_startup_trials=CFG.optuna_trials // 10)\n",
    "    study = optuna.create_study(direction=\"maximize\", sampler=sampler)\n",
    "    study.optimize(objective, n_trials=CFG.optuna_trials, n_jobs=-1)\n",
    "    best_params = study.best_params\n",
    "    \n",
    "    solver, penalty = best_params[\"solver_penalty\"]\n",
    "    lr_params = {\n",
    "        \"random_state\": CFG.seed,\n",
    "        \"max_iter\": 500,\n",
    "        \"C\": best_params[\"C\"],\n",
    "        \"tol\": best_params[\"tol\"],\n",
    "        \"fit_intercept\": best_params[\"fit_intercept\"],\n",
    "        \"class_weight\": best_params[\"class_weight\"],\n",
    "        \"solver\": solver,\n",
    "        \"penalty\": penalty\n",
    "    }\n",
    "else:\n",
    "    lr_params = {\n",
    "      \"random_state\": 42,\n",
    "      \"max_iter\": 500,\n",
    "      \"C\": 0.647305388305508,\n",
    "      \"tol\": 0.009993085071676367,\n",
    "      \"fit_intercept\": True,\n",
    "      \"class_weight\": None,\n",
    "      \"solver\": \"lbfgs\",\n",
    "      \"penalty\": \"l2\"\n",
    "    }"
   ]
  },
  {
   "cell_type": "code",
   "execution_count": 23,
   "id": "fbc13c2b",
   "metadata": {
    "execution": {
     "iopub.execute_input": "2025-03-11T12:04:13.717508Z",
     "iopub.status.busy": "2025-03-11T12:04:13.717274Z",
     "iopub.status.idle": "2025-03-11T12:04:13.721311Z",
     "shell.execute_reply": "2025-03-11T12:04:13.720427Z"
    },
    "papermill": {
     "duration": 0.01473,
     "end_time": "2025-03-11T12:04:13.722905",
     "exception": false,
     "start_time": "2025-03-11T12:04:13.708175",
     "status": "completed"
    },
    "tags": []
   },
   "outputs": [
    {
     "name": "stdout",
     "output_type": "stream",
     "text": [
      "{\n",
      "  \"random_state\": 42,\n",
      "  \"max_iter\": 500,\n",
      "  \"C\": 0.647305388305508,\n",
      "  \"tol\": 0.009993085071676367,\n",
      "  \"fit_intercept\": true,\n",
      "  \"class_weight\": null,\n",
      "  \"solver\": \"lbfgs\",\n",
      "  \"penalty\": \"l2\"\n",
      "}\n"
     ]
    }
   ],
   "source": [
    "print(json.dumps(lr_params, indent=2))"
   ]
  },
  {
   "cell_type": "code",
   "execution_count": 24,
   "id": "02b889db",
   "metadata": {
    "execution": {
     "iopub.execute_input": "2025-03-11T12:04:13.746095Z",
     "iopub.status.busy": "2025-03-11T12:04:13.745813Z",
     "iopub.status.idle": "2025-03-11T12:04:14.758689Z",
     "shell.execute_reply": "2025-03-11T12:04:14.757880Z"
    },
    "papermill": {
     "duration": 1.023341,
     "end_time": "2025-03-11T12:04:14.759957",
     "exception": false,
     "start_time": "2025-03-11T12:04:13.736616",
     "status": "completed"
    },
    "tags": []
   },
   "outputs": [
    {
     "name": "stdout",
     "output_type": "stream",
     "text": [
      "Training LogisticRegression\n",
      "\n",
      "--- Fold 1 - ROC AUC: 0.927329 (4 iterations)\n",
      "--- Fold 2 - ROC AUC: 0.858361 (4 iterations)\n",
      "--- Fold 3 - ROC AUC: 0.878423 (3 iterations)\n",
      "--- Fold 4 - ROC AUC: 0.913103 (4 iterations)\n",
      "--- Fold 5 - ROC AUC: 0.903227 (3 iterations)\n",
      "\n",
      "------ Overall: 0.892522 | Average: 0.896089 ± 0.024706\n"
     ]
    }
   ],
   "source": [
    "lr_model = LogisticRegression(**lr_params)\n",
    "lr_trainer = Trainer(lr_model, is_ensemble_model=True)\n",
    "lr_oof_pred_probs, lr_test_pred_probs, scores[\"Ensemble LR\"], lr_coeffs = lr_trainer.fit_predict(X, y, X_test)"
   ]
  },
  {
   "cell_type": "code",
   "execution_count": 25,
   "id": "c6903faa",
   "metadata": {
    "execution": {
     "iopub.execute_input": "2025-03-11T12:04:14.779071Z",
     "iopub.status.busy": "2025-03-11T12:04:14.778824Z",
     "iopub.status.idle": "2025-03-11T12:04:14.802846Z",
     "shell.execute_reply": "2025-03-11T12:04:14.802103Z"
    },
    "papermill": {
     "duration": 0.034594,
     "end_time": "2025-03-11T12:04:14.804198",
     "exception": false,
     "start_time": "2025-03-11T12:04:14.769604",
     "status": "completed"
    },
    "tags": []
   },
   "outputs": [
    {
     "data": {
      "text/html": [
       "<div>\n",
       "<style scoped>\n",
       "    .dataframe tbody tr th:only-of-type {\n",
       "        vertical-align: middle;\n",
       "    }\n",
       "\n",
       "    .dataframe tbody tr th {\n",
       "        vertical-align: top;\n",
       "    }\n",
       "\n",
       "    .dataframe thead th {\n",
       "        text-align: right;\n",
       "    }\n",
       "</style>\n",
       "<table border=\"1\" class=\"dataframe\">\n",
       "  <thead>\n",
       "    <tr style=\"text-align: right;\">\n",
       "      <th></th>\n",
       "      <th>id</th>\n",
       "      <th>rainfall</th>\n",
       "    </tr>\n",
       "  </thead>\n",
       "  <tbody>\n",
       "    <tr>\n",
       "      <th>0</th>\n",
       "      <td>2190</td>\n",
       "      <td>0.980040</td>\n",
       "    </tr>\n",
       "    <tr>\n",
       "      <th>1</th>\n",
       "      <td>2191</td>\n",
       "      <td>0.983763</td>\n",
       "    </tr>\n",
       "    <tr>\n",
       "      <th>2</th>\n",
       "      <td>2192</td>\n",
       "      <td>0.927551</td>\n",
       "    </tr>\n",
       "    <tr>\n",
       "      <th>3</th>\n",
       "      <td>2193</td>\n",
       "      <td>0.150086</td>\n",
       "    </tr>\n",
       "    <tr>\n",
       "      <th>4</th>\n",
       "      <td>2194</td>\n",
       "      <td>0.100557</td>\n",
       "    </tr>\n",
       "  </tbody>\n",
       "</table>\n",
       "</div>"
      ],
      "text/plain": [
       "     id  rainfall\n",
       "0  2190  0.980040\n",
       "1  2191  0.983763\n",
       "2  2192  0.927551\n",
       "3  2193  0.150086\n",
       "4  2194  0.100557"
      ]
     },
     "execution_count": 25,
     "metadata": {},
     "output_type": "execute_result"
    }
   ],
   "source": [
    "save_submission(\"ensemble-lr\", lr_test_pred_probs, np.mean(scores[\"Ensemble LR\"]))"
   ]
  },
  {
   "cell_type": "code",
   "execution_count": 26,
   "id": "3d90e012",
   "metadata": {
    "_kg_hide-input": false,
    "execution": {
     "iopub.execute_input": "2025-03-11T12:04:14.823327Z",
     "iopub.status.busy": "2025-03-11T12:04:14.823068Z",
     "iopub.status.idle": "2025-03-11T12:04:15.109596Z",
     "shell.execute_reply": "2025-03-11T12:04:15.108769Z"
    },
    "papermill": {
     "duration": 0.297698,
     "end_time": "2025-03-11T12:04:15.111190",
     "exception": false,
     "start_time": "2025-03-11T12:04:14.813492",
     "status": "completed"
    },
    "tags": []
   },
   "outputs": [
    {
     "data": {
      "image/png": "[encoded data removed]",
      "text/plain": [
       "<Figure size 1000x550 with 1 Axes>"
      ]
     },
     "metadata": {},
     "output_type": "display_data"
    }
   ],
   "source": [
    "plot_weights(lr_coeffs, \"LR Coefficients\")"
   ]
  },
  {
   "cell_type": "markdown",
   "id": "6eadf2ef",
   "metadata": {
    "papermill": {
     "duration": 0.009636,
     "end_time": "2025-03-11T12:04:15.130967",
     "exception": false,
     "start_time": "2025-03-11T12:04:15.121331",
     "status": "completed"
    },
    "tags": []
   },
   "source": [
    "# Ensembling with Ridge"
   ]
  },
  {
   "cell_type": "code",
   "execution_count": 27,
   "id": "57b2ff81",
   "metadata": {
    "execution": {
     "iopub.execute_input": "2025-03-11T12:04:15.151392Z",
     "iopub.status.busy": "2025-03-11T12:04:15.151111Z",
     "iopub.status.idle": "2025-03-11T12:04:15.155755Z",
     "shell.execute_reply": "2025-03-11T12:04:15.154937Z"
    },
    "papermill": {
     "duration": 0.016281,
     "end_time": "2025-03-11T12:04:15.156905",
     "exception": false,
     "start_time": "2025-03-11T12:04:15.140624",
     "status": "completed"
    },
    "tags": []
   },
   "outputs": [],
   "source": [
    "X = pd.DataFrame(oof_pred_probs)\n",
    "X_test = pd.DataFrame(test_pred_probs)"
   ]
  },
  {
   "cell_type": "code",
   "execution_count": 28,
   "id": "58bf1a32",
   "metadata": {
    "_kg_hide-output": true,
    "execution": {
     "iopub.execute_input": "2025-03-11T12:04:15.177569Z",
     "iopub.status.busy": "2025-03-11T12:04:15.177333Z",
     "iopub.status.idle": "2025-03-11T12:04:15.182968Z",
     "shell.execute_reply": "2025-03-11T12:04:15.182117Z"
    },
    "papermill": {
     "duration": 0.017353,
     "end_time": "2025-03-11T12:04:15.184318",
     "exception": false,
     "start_time": "2025-03-11T12:04:15.166965",
     "status": "completed"
    },
    "scrolled": true,
    "tags": []
   },
   "outputs": [],
   "source": [
    "def objective(trial):    \n",
    "    params = {\n",
    "        \"random_state\": CFG.seed,\n",
    "        \"alpha\": trial.suggest_float(\"alpha\", 0, 25),\n",
    "        \"tol\": trial.suggest_float(\"tol\", 1e-7, 1e-2),\n",
    "        \"positive\": trial.suggest_categorical(\"positive\", [True, False]),\n",
    "        \"fit_intercept\": trial.suggest_categorical(\"fit_intercept\", [True, False])\n",
    "    }\n",
    "    \n",
    "    model = Ridge(**params)\n",
    "    trainer = Trainer(model, is_ensemble_model=True)\n",
    "    return trainer.tune(X, y)\n",
    "\n",
    "if CFG.run_optuna:\n",
    "    sampler = optuna.samplers.TPESampler(seed=CFG.seed, multivariate=True, n_startup_trials=CFG.optuna_trials // 10)\n",
    "    study = optuna.create_study(direction=\"maximize\", sampler=sampler)\n",
    "    study.optimize(objective, n_trials=CFG.optuna_trials, n_jobs=-1)\n",
    "    best_params = study.best_params\n",
    "    \n",
    "    ridge_params = {\n",
    "        \"random_state\": CFG.seed,\n",
    "        \"alpha\": best_params[\"alpha\"],\n",
    "        \"tol\": best_params[\"tol\"],\n",
    "        \"positive\": best_params[\"positive\"],\n",
    "        \"fit_intercept\": best_params[\"fit_intercept\"]\n",
    "    }\n",
    "else:\n",
    "    ridge_params = {\n",
    "      \"random_state\": 42,\n",
    "      \"alpha\": 11.83469148451494,\n",
    "      \"tol\": 0.0015561288532160266,\n",
    "      \"positive\": False,\n",
    "      \"fit_intercept\": False\n",
    "    }"
   ]
  },
  {
   "cell_type": "code",
   "execution_count": 29,
   "id": "9a71ab06",
   "metadata": {
    "execution": {
     "iopub.execute_input": "2025-03-11T12:04:15.204641Z",
     "iopub.status.busy": "2025-03-11T12:04:15.204426Z",
     "iopub.status.idle": "2025-03-11T12:04:15.208398Z",
     "shell.execute_reply": "2025-03-11T12:04:15.207553Z"
    },
    "papermill": {
     "duration": 0.015601,
     "end_time": "2025-03-11T12:04:15.209704",
     "exception": false,
     "start_time": "2025-03-11T12:04:15.194103",
     "status": "completed"
    },
    "tags": []
   },
   "outputs": [
    {
     "name": "stdout",
     "output_type": "stream",
     "text": [
      "{\n",
      "  \"random_state\": 42,\n",
      "  \"alpha\": 11.83469148451494,\n",
      "  \"tol\": 0.0015561288532160266,\n",
      "  \"positive\": false,\n",
      "  \"fit_intercept\": false\n",
      "}\n"
     ]
    }
   ],
   "source": [
    "print(json.dumps(ridge_params, indent=2))"
   ]
  },
  {
   "cell_type": "code",
   "execution_count": 30,
   "id": "9e018a0c",
   "metadata": {
    "execution": {
     "iopub.execute_input": "2025-03-11T12:04:15.230102Z",
     "iopub.status.busy": "2025-03-11T12:04:15.229899Z",
     "iopub.status.idle": "2025-03-11T12:04:16.201233Z",
     "shell.execute_reply": "2025-03-11T12:04:16.200330Z"
    },
    "papermill": {
     "duration": 0.982999,
     "end_time": "2025-03-11T12:04:16.202626",
     "exception": false,
     "start_time": "2025-03-11T12:04:15.219627",
     "status": "completed"
    },
    "tags": []
   },
   "outputs": [
    {
     "name": "stdout",
     "output_type": "stream",
     "text": [
      "Training Ridge\n",
      "\n",
      "--- Fold 1 - ROC AUC: 0.926992\n",
      "--- Fold 2 - ROC AUC: 0.858558\n",
      "--- Fold 3 - ROC AUC: 0.879574\n",
      "--- Fold 4 - ROC AUC: 0.913272\n",
      "--- Fold 5 - ROC AUC: 0.902301\n",
      "\n",
      "------ Overall: 0.892873 | Average: 0.896139 ± 0.024373\n"
     ]
    }
   ],
   "source": [
    "ridge_model = Ridge(**ridge_params)\n",
    "ridge_trainer = Trainer(ridge_model, is_ensemble_model=True)\n",
    "lr_oof_pred_probs, lr_test_pred_probs, scores[\"Ensemble Ridge\"], ridge_coeffs = ridge_trainer.fit_predict(X, y, X_test)"
   ]
  },
  {
   "cell_type": "code",
   "execution_count": 31,
   "id": "2326b727",
   "metadata": {
    "execution": {
     "iopub.execute_input": "2025-03-11T12:04:16.224196Z",
     "iopub.status.busy": "2025-03-11T12:04:16.223965Z",
     "iopub.status.idle": "2025-03-11T12:04:16.234689Z",
     "shell.execute_reply": "2025-03-11T12:04:16.233846Z"
    },
    "papermill": {
     "duration": 0.02275,
     "end_time": "2025-03-11T12:04:16.235911",
     "exception": false,
     "start_time": "2025-03-11T12:04:16.213161",
     "status": "completed"
    },
    "tags": []
   },
   "outputs": [
    {
     "data": {
      "text/html": [
       "<div>\n",
       "<style scoped>\n",
       "    .dataframe tbody tr th:only-of-type {\n",
       "        vertical-align: middle;\n",
       "    }\n",
       "\n",
       "    .dataframe tbody tr th {\n",
       "        vertical-align: top;\n",
       "    }\n",
       "\n",
       "    .dataframe thead th {\n",
       "        text-align: right;\n",
       "    }\n",
       "</style>\n",
       "<table border=\"1\" class=\"dataframe\">\n",
       "  <thead>\n",
       "    <tr style=\"text-align: right;\">\n",
       "      <th></th>\n",
       "      <th>id</th>\n",
       "      <th>rainfall</th>\n",
       "    </tr>\n",
       "  </thead>\n",
       "  <tbody>\n",
       "    <tr>\n",
       "      <th>0</th>\n",
       "      <td>2190</td>\n",
       "      <td>0.972286</td>\n",
       "    </tr>\n",
       "    <tr>\n",
       "      <th>1</th>\n",
       "      <td>2191</td>\n",
       "      <td>0.974664</td>\n",
       "    </tr>\n",
       "    <tr>\n",
       "      <th>2</th>\n",
       "      <td>2192</td>\n",
       "      <td>0.919135</td>\n",
       "    </tr>\n",
       "    <tr>\n",
       "      <th>3</th>\n",
       "      <td>2193</td>\n",
       "      <td>0.145915</td>\n",
       "    </tr>\n",
       "    <tr>\n",
       "      <th>4</th>\n",
       "      <td>2194</td>\n",
       "      <td>0.100822</td>\n",
       "    </tr>\n",
       "  </tbody>\n",
       "</table>\n",
       "</div>"
      ],
      "text/plain": [
       "     id  rainfall\n",
       "0  2190  0.972286\n",
       "1  2191  0.974664\n",
       "2  2192  0.919135\n",
       "3  2193  0.145915\n",
       "4  2194  0.100822"
      ]
     },
     "execution_count": 31,
     "metadata": {},
     "output_type": "execute_result"
    }
   ],
   "source": [
    "save_submission(\"ensemble-ridge\", lr_test_pred_probs, np.mean(scores[\"Ensemble Ridge\"]))"
   ]
  },
  {
   "cell_type": "code",
   "execution_count": 32,
   "id": "17e9c1e0",
   "metadata": {
    "execution": {
     "iopub.execute_input": "2025-03-11T12:04:16.257426Z",
     "iopub.status.busy": "2025-03-11T12:04:16.257172Z",
     "iopub.status.idle": "2025-03-11T12:04:16.484981Z",
     "shell.execute_reply": "2025-03-11T12:04:16.484173Z"
    },
    "papermill": {
     "duration": 0.240117,
     "end_time": "2025-03-11T12:04:16.486547",
     "exception": false,
     "start_time": "2025-03-11T12:04:16.246430",
     "status": "completed"
    },
    "tags": []
   },
   "outputs": [
    {
     "data": {
      "image/png": "[encoded data removed]",
      "text/plain": [
       "<Figure size 1000x550 with 1 Axes>"
      ]
     },
     "metadata": {},
     "output_type": "display_data"
    }
   ],
   "source": [
    "plot_weights(ridge_coeffs, \"Ridge Coefficients\")"
   ]
  },
  {
   "cell_type": "markdown",
   "id": "57256597",
   "metadata": {
    "papermill": {
     "duration": 0.010703,
     "end_time": "2025-03-11T12:04:16.509049",
     "exception": false,
     "start_time": "2025-03-11T12:04:16.498346",
     "status": "completed"
    },
    "tags": []
   },
   "source": [
    "# Results"
   ]
  },
  {
   "cell_type": "code",
   "execution_count": 33,
   "id": "f12a0262",
   "metadata": {
    "_kg_hide-input": false,
    "execution": {
     "iopub.execute_input": "2025-03-11T12:04:16.531666Z",
     "iopub.status.busy": "2025-03-11T12:04:16.531438Z",
     "iopub.status.idle": "2025-03-11T12:04:17.088631Z",
     "shell.execute_reply": "2025-03-11T12:04:17.087567Z"
    },
    "papermill": {
     "duration": 0.570107,
     "end_time": "2025-03-11T12:04:17.090036",
     "exception": false,
     "start_time": "2025-03-11T12:04:16.519929",
     "status": "completed"
    },
    "tags": []
   },
   "outputs": [
    {
     "data": {
      "image/png": "[encoded data removed]",
      "text/plain": [
       "<Figure size 1500x390 with 2 Axes>"
      ]
     },
     "metadata": {},
     "output_type": "display_data"
    }
   ],
   "source": [
    "scores = pd.DataFrame(scores)\n",
    "mean_scores = scores.mean().sort_values(ascending=False)\n",
    "order = scores.mean().sort_values(ascending=False).index.tolist()\n",
    "\n",
    "min_score = mean_scores.min()\n",
    "max_score = mean_scores.max()\n",
    "padding = (max_score - min_score) * 0.5\n",
    "lower_limit = min_score - padding\n",
    "upper_limit = max_score + padding\n",
    "\n",
    "fig, axs = plt.subplots(1, 2, figsize=(15, scores.shape[1] * 0.3))\n",
    "\n",
    "boxplot = sns.boxplot(data=scores, order=order, ax=axs[0], orient=\"h\", color=\"grey\")\n",
    "axs[0].set_title(\"Fold ROC AUC\")\n",
    "axs[0].set_xlabel(\"\")\n",
    "axs[0].set_ylabel(\"\")\n",
    "\n",
    "barplot = sns.barplot(x=mean_scores.values, y=mean_scores.index, ax=axs[1], color=\"grey\")\n",
    "axs[1].set_title(\"Average ROC AUC\")\n",
    "axs[1].set_xlabel(\"\")\n",
    "axs[1].set_xlim(left=lower_limit, right=upper_limit)\n",
    "axs[1].set_ylabel(\"\")\n",
    "\n",
    "for i, (score, model) in enumerate(zip(mean_scores.values, mean_scores.index)):\n",
    "    color = \"cyan\" if \"ensemble\" in model.lower() else \"grey\"\n",
    "    barplot.patches[i].set_facecolor(color)\n",
    "    boxplot.patches[i].set_facecolor(color)\n",
    "    barplot.text(score, i, round(score, 6), va=\"center\")\n",
    "\n",
    "plt.tight_layout()\n",
    "plt.show()"
   ]
  },
  {
   "cell_type": "code",
   "execution_count": 34,
   "id": "bde8f71b",
   "metadata": {
    "execution": {
     "iopub.execute_input": "2025-03-11T12:04:17.116980Z",
     "iopub.status.busy": "2025-03-11T12:04:17.116714Z",
     "iopub.status.idle": "2025-03-11T12:04:17.121137Z",
     "shell.execute_reply": "2025-03-11T12:04:17.120205Z"
    },
    "papermill": {
     "duration": 0.019192,
     "end_time": "2025-03-11T12:04:17.122471",
     "exception": false,
     "start_time": "2025-03-11T12:04:17.103279",
     "status": "completed"
    },
    "tags": []
   },
   "outputs": [],
   "source": [
    "shutil.rmtree(\"catboost_info\", ignore_errors=True)"
   ]
  }
 ],
 "metadata": {
  "kaggle": {
   "accelerator": "gpu",
   "dataSources": [
    {
     "databundleVersionId": 11251744,
     "sourceId": 91714,
     "sourceType": "competition"
    },
    {
     "datasetId": 5651545,
     "sourceId": 9328134,
     "sourceType": "datasetVersion"
    }
   ],
   "dockerImageVersionId": 30918,
   "isGpuEnabled": true,
   "isInternetEnabled": true,
   "language": "python",
   "sourceType": "notebook"
  },
  "kernelspec": {
   "display_name": "Python 3",
   "language": "python",
   "name": "python3"
  },
  "language_info": {
   "codemirror_mode": {
    "name": "ipython",
    "version": 3
   },
   "file_extension": ".py",
   "mimetype": "text/x-python",
   "name": "python",
   "nbconvert_exporter": "python",
   "pygments_lexer": "ipython3",
   "version": "3.10.12"
  },
  "papermill": {
   "default_parameters": {},
   "duration": 76.642793,
   "end_time": "2025-03-11T12:04:19.262222",
   "environment_variables": {},
   "exception": null,
   "input_path": "__notebook__.ipynb",
   "output_path": "__notebook__.ipynb",
   "parameters": {},
   "start_time": "2025-03-11T12:03:02.619429",
   "version": "2.6.0"
  },
  "widgets": {
   "application/vnd.jupyter.widget-state+json": {
    "state": {
     "1022f157bda64117b7c637df5d50c6e6": {
      "model_module": "@jupyter-widgets/base",
      "model_module_version": "2.0.0",
      "model_name": "LayoutModel",
      "state": {
       "_model_module": "@jupyter-widgets/base",
       "_model_module_version": "2.0.0",
       "_model_name": "LayoutModel",
       "_view_count": null,
       "_view_module": "@jupyter-widgets/base",
       "_view_module_version": "2.0.0",
       "_view_name": "LayoutView",
       "align_content": null,
       "align_items": null,
       "align_self": null,
       "border_bottom": null,
       "border_left": null,
       "border_right": null,
       "border_top": null,
       "bottom": null,
       "display": null,
       "flex": null,
       "flex_flow": null,
       "grid_area": null,
       "grid_auto_columns": null,
       "grid_auto_flow": null,
       "grid_auto_rows": null,
       "grid_column": null,
       "grid_gap": null,
       "grid_row": null,
       "grid_template_areas": null,
       "grid_template_columns": null,
       "grid_template_rows": null,
       "height": null,
       "justify_content": null,
       "justify_items": null,
       "left": null,
       "margin": null,
       "max_height": null,
       "max_width": null,
       "min_height": null,
       "min_width": null,
       "object_fit": null,
       "object_position": null,
       "order": null,
       "overflow": null,
       "padding": null,
       "right": null,
       "top": null,
       "visibility": null,
       "width": null
      }
     },
     "11c9fae81b9c45abb4ff44314489dcc1": {
      "model_module": "@jupyter-widgets/controls",
      "model_module_version": "2.0.0",
      "model_name": "HBoxModel",
      "state": {
       "_dom_classes": [],
       "_model_module": "@jupyter-widgets/controls",
       "_model_module_version": "2.0.0",
       "_model_name": "HBoxModel",
       "_view_count": null,
       "_view_module": "@jupyter-widgets/controls",
       "_view_module_version": "2.0.0",
       "_view_name": "HBoxView",
       "box_style": "",
       "children": [
        "IPY_MODEL_a1e02b67f63d486c8def6e6c2ad18a52",
        "IPY_MODEL_7df077bcfe7e461b86c71e84ef5ae44b",
        "IPY_MODEL_171dfe3786d0459ab5b1c0e6245ca1c7"
       ],
       "layout": "IPY_MODEL_7e8e992dbe35476b8569166a83422a46",
       "tabbable": null,
       "tooltip": null
      }
     },
     "171dfe3786d0459ab5b1c0e6245ca1c7": {
      "model_module": "@jupyter-widgets/controls",
      "model_module_version": "2.0.0",
      "model_name": "HTMLModel",
      "state": {
       "_dom_classes": [],
       "_model_module": "@jupyter-widgets/controls",
       "_model_module_version": "2.0.0",
       "_model_name": "HTMLModel",
       "_view_count": null,
       "_view_module": "@jupyter-widgets/controls",
       "_view_module_version": "2.0.0",
       "_view_name": "HTMLView",
       "description": "",
       "description_allow_html": false,
       "layout": "IPY_MODEL_1022f157bda64117b7c637df5d50c6e6",
       "placeholder": "​",
       "style": "IPY_MODEL_8800a6e2fe934d5a88b4a7f309aea096",
       "tabbable": null,
       "tooltip": null,
       "value": " 37.0/37.0 [00:00&lt;00:00, 4.07kB/s]"
      }
     },
     "3c5601883d814a76963a1e7406a8f2d2": {
      "model_module": "@jupyter-widgets/base",
      "model_module_version": "2.0.0",
      "model_name": "LayoutModel",
      "state": {
       "_model_module": "@jupyter-widgets/base",
       "_model_module_version": "2.0.0",
       "_model_name": "LayoutModel",
       "_view_count": null,
       "_view_module": "@jupyter-widgets/base",
       "_view_module_version": "2.0.0",
       "_view_name": "LayoutView",
       "align_content": null,
       "align_items": null,
       "align_self": null,
       "border_bottom": null,
       "border_left": null,
       "border_right": null,
       "border_top": null,
       "bottom": null,
       "display": null,
       "flex": null,
       "flex_flow": null,
       "grid_area": null,
       "grid_auto_columns": null,
       "grid_auto_flow": null,
       "grid_auto_rows": null,
       "grid_column": null,
       "grid_gap": null,
       "grid_row": null,
       "grid_template_areas": null,
       "grid_template_columns": null,
       "grid_template_rows": null,
       "height": null,
       "justify_content": null,
       "justify_items": null,
       "left": null,
       "margin": null,
       "max_height": null,
       "max_width": null,
       "min_height": null,
       "min_width": null,
       "object_fit": null,
       "object_position": null,
       "order": null,
       "overflow": null,
       "padding": null,
       "right": null,
       "top": null,
       "visibility": null,
       "width": null
      }
     },
     "446dd9edffce4bea8807d766474340b7": {
      "model_module": "@jupyter-widgets/base",
      "model_module_version": "2.0.0",
      "model_name": "LayoutModel",
      "state": {
       "_model_module": "@jupyter-widgets/base",
       "_model_module_version": "2.0.0",
       "_model_name": "LayoutModel",
       "_view_count": null,
       "_view_module": "@jupyter-widgets/base",
       "_view_module_version": "2.0.0",
       "_view_name": "LayoutView",
       "align_content": null,
       "align_items": null,
       "align_self": null,
       "border_bottom": null,
       "border_left": null,
       "border_right": null,
       "border_top": null,
       "bottom": null,
       "display": null,
       "flex": null,
       "flex_flow": null,
       "grid_area": null,
       "grid_auto_columns": null,
       "grid_auto_flow": null,
       "grid_auto_rows": null,
       "grid_column": null,
       "grid_gap": null,
       "grid_row": null,
       "grid_template_areas": null,
       "grid_template_columns": null,
       "grid_template_rows": null,
       "height": null,
       "justify_content": null,
       "justify_items": null,
       "left": null,
       "margin": null,
       "max_height": null,
       "max_width": null,
       "min_height": null,
       "min_width": null,
       "object_fit": null,
       "object_position": null,
       "order": null,
       "overflow": null,
       "padding": null,
       "right": null,
       "top": null,
       "visibility": null,
       "width": null
      }
     },
     "55c246f427df44009d462afdb38c8f3d": {
      "model_module": "@jupyter-widgets/base",
      "model_module_version": "2.0.0",
      "model_name": "LayoutModel",
      "state": {
       "_model_module": "@jupyter-widgets/base",
       "_model_module_version": "2.0.0",
       "_model_name": "LayoutModel",
       "_view_count": null,
       "_view_module": "@jupyter-widgets/base",
       "_view_module_version": "2.0.0",
       "_view_name": "LayoutView",
       "align_content": null,
       "align_items": null,
       "align_self": null,
       "border_bottom": null,
       "border_left": null,
       "border_right": null,
       "border_top": null,
       "bottom": null,
       "display": null,
       "flex": null,
       "flex_flow": null,
       "grid_area": null,
       "grid_auto_columns": null,
       "grid_auto_flow": null,
       "grid_auto_rows": null,
       "grid_column": null,
       "grid_gap": null,
       "grid_row": null,
       "grid_template_areas": null,
       "grid_template_columns": null,
       "grid_template_rows": null,
       "height": null,
       "justify_content": null,
       "justify_items": null,
       "left": null,
       "margin": null,
       "max_height": null,
       "max_width": null,
       "min_height": null,
       "min_width": null,
       "object_fit": null,
       "object_position": null,
       "order": null,
       "overflow": null,
       "padding": null,
       "right": null,
       "top": null,
       "visibility": null,
       "width": null
      }
     },
     "62b2280371f64bcc919b6ed09c26fe39": {
      "model_module": "@jupyter-widgets/controls",
      "model_module_version": "2.0.0",
      "model_name": "HTMLStyleModel",
      "state": {
       "_model_module": "@jupyter-widgets/controls",
       "_model_module_version": "2.0.0",
       "_model_name": "HTMLStyleModel",
       "_view_count": null,
       "_view_module": "@jupyter-widgets/base",
       "_view_module_version": "2.0.0",
       "_view_name": "StyleView",
       "background": null,
       "description_width": "",
       "font_size": null,
       "text_color": null
      }
     },
     "63cc5e85e449485eb018724296acf1e1": {
      "model_module": "@jupyter-widgets/controls",
      "model_module_version": "2.0.0",
      "model_name": "ProgressStyleModel",
      "state": {
       "_model_module": "@jupyter-widgets/controls",
       "_model_module_version": "2.0.0",
       "_model_name": "ProgressStyleModel",
       "_view_count": null,
       "_view_module": "@jupyter-widgets/base",
       "_view_module_version": "2.0.0",
       "_view_name": "StyleView",
       "bar_color": null,
       "description_width": ""
      }
     },
     "6f0f58998f414ace953ee42431f5eb34": {
      "model_module": "@jupyter-widgets/controls",
      "model_module_version": "2.0.0",
      "model_name": "HTMLStyleModel",
      "state": {
       "_model_module": "@jupyter-widgets/controls",
       "_model_module_version": "2.0.0",
       "_model_name": "HTMLStyleModel",
       "_view_count": null,
       "_view_module": "@jupyter-widgets/base",
       "_view_module_version": "2.0.0",
       "_view_name": "StyleView",
       "background": null,
       "description_width": "",
       "font_size": null,
       "text_color": null
      }
     },
     "7888a64cb2e342528b0abe8109a27332": {
      "model_module": "@jupyter-widgets/controls",
      "model_module_version": "2.0.0",
      "model_name": "HBoxModel",
      "state": {
       "_dom_classes": [],
       "_model_module": "@jupyter-widgets/controls",
       "_model_module_version": "2.0.0",
       "_model_name": "HBoxModel",
       "_view_count": null,
       "_view_module": "@jupyter-widgets/controls",
       "_view_module_version": "2.0.0",
       "_view_name": "HBoxView",
       "box_style": "",
       "children": [
        "IPY_MODEL_cb6307ee6c344d09ac26b4dbf12385ef",
        "IPY_MODEL_fb2e033a1e1f4dce839ed71f1605a4a6",
        "IPY_MODEL_e6c2351804684770be17373a07c7c7e7"
       ],
       "layout": "IPY_MODEL_9a79f45f592e402182ec2e9824b847f6",
       "tabbable": null,
       "tooltip": null
      }
     },
     "7df077bcfe7e461b86c71e84ef5ae44b": {
      "model_module": "@jupyter-widgets/controls",
      "model_module_version": "2.0.0",
      "model_name": "FloatProgressModel",
      "state": {
       "_dom_classes": [],
       "_model_module": "@jupyter-widgets/controls",
       "_model_module_version": "2.0.0",
       "_model_name": "FloatProgressModel",
       "_view_count": null,
       "_view_module": "@jupyter-widgets/controls",
       "_view_module_version": "2.0.0",
       "_view_name": "ProgressView",
       "bar_style": "success",
       "description": "",
       "description_allow_html": false,
       "layout": "IPY_MODEL_55c246f427df44009d462afdb38c8f3d",
       "max": 37.0,
       "min": 0.0,
       "orientation": "horizontal",
       "style": "IPY_MODEL_ce05aa6ca1c044999b15ffe4cb3618c6",
       "tabbable": null,
       "tooltip": null,
       "value": 37.0
      }
     },
     "7e8e992dbe35476b8569166a83422a46": {
      "model_module": "@jupyter-widgets/base",
      "model_module_version": "2.0.0",
      "model_name": "LayoutModel",
      "state": {
       "_model_module": "@jupyter-widgets/base",
       "_model_module_version": "2.0.0",
       "_model_name": "LayoutModel",
       "_view_count": null,
       "_view_module": "@jupyter-widgets/base",
       "_view_module_version": "2.0.0",
       "_view_name": "LayoutView",
       "align_content": null,
       "align_items": null,
       "align_self": null,
       "border_bottom": null,
       "border_left": null,
       "border_right": null,
       "border_top": null,
       "bottom": null,
       "display": null,
       "flex": null,
       "flex_flow": null,
       "grid_area": null,
       "grid_auto_columns": null,
       "grid_auto_flow": null,
       "grid_auto_rows": null,
       "grid_column": null,
       "grid_gap": null,
       "grid_row": null,
       "grid_template_areas": null,
       "grid_template_columns": null,
       "grid_template_rows": null,
       "height": null,
       "justify_content": null,
       "justify_items": null,
       "left": null,
       "margin": null,
       "max_height": null,
       "max_width": null,
       "min_height": null,
       "min_width": null,
       "object_fit": null,
       "object_position": null,
       "order": null,
       "overflow": null,
       "padding": null,
       "right": null,
       "top": null,
       "visibility": null,
       "width": null
      }
     },
     "8800a6e2fe934d5a88b4a7f309aea096": {
      "model_module": "@jupyter-widgets/controls",
      "model_module_version": "2.0.0",
      "model_name": "HTMLStyleModel",
      "state": {
       "_model_module": "@jupyter-widgets/controls",
       "_model_module_version": "2.0.0",
       "_model_name": "HTMLStyleModel",
       "_view_count": null,
       "_view_module": "@jupyter-widgets/base",
       "_view_module_version": "2.0.0",
       "_view_name": "StyleView",
       "background": null,
       "description_width": "",
       "font_size": null,
       "text_color": null
      }
     },
     "917a7b04413044799a4635eef92505ae": {
      "model_module": "@jupyter-widgets/controls",
      "model_module_version": "2.0.0",
      "model_name": "HTMLStyleModel",
      "state": {
       "_model_module": "@jupyter-widgets/controls",
       "_model_module_version": "2.0.0",
       "_model_name": "HTMLStyleModel",
       "_view_count": null,
       "_view_module": "@jupyter-widgets/base",
       "_view_module_version": "2.0.0",
       "_view_name": "StyleView",
       "background": null,
       "description_width": "",
       "font_size": null,
       "text_color": null
      }
     },
     "9a79f45f592e402182ec2e9824b847f6": {
      "model_module": "@jupyter-widgets/base",
      "model_module_version": "2.0.0",
      "model_name": "LayoutModel",
      "state": {
       "_model_module": "@jupyter-widgets/base",
       "_model_module_version": "2.0.0",
       "_model_name": "LayoutModel",
       "_view_count": null,
       "_view_module": "@jupyter-widgets/base",
       "_view_module_version": "2.0.0",
       "_view_name": "LayoutView",
       "align_content": null,
       "align_items": null,
       "align_self": null,
       "border_bottom": null,
       "border_left": null,
       "border_right": null,
       "border_top": null,
       "bottom": null,
       "display": null,
       "flex": null,
       "flex_flow": null,
       "grid_area": null,
       "grid_auto_columns": null,
       "grid_auto_flow": null,
       "grid_auto_rows": null,
       "grid_column": null,
       "grid_gap": null,
       "grid_row": null,
       "grid_template_areas": null,
       "grid_template_columns": null,
       "grid_template_rows": null,
       "height": null,
       "justify_content": null,
       "justify_items": null,
       "left": null,
       "margin": null,
       "max_height": null,
       "max_width": null,
       "min_height": null,
       "min_width": null,
       "object_fit": null,
       "object_position": null,
       "order": null,
       "overflow": null,
       "padding": null,
       "right": null,
       "top": null,
       "visibility": null,
       "width": null
      }
     },
     "a1e02b67f63d486c8def6e6c2ad18a52": {
      "model_module": "@jupyter-widgets/controls",
      "model_module_version": "2.0.0",
      "model_name": "HTMLModel",
      "state": {
       "_dom_classes": [],
       "_model_module": "@jupyter-widgets/controls",
       "_model_module_version": "2.0.0",
       "_model_name": "HTMLModel",
       "_view_count": null,
       "_view_module": "@jupyter-widgets/controls",
       "_view_module_version": "2.0.0",
       "_view_name": "HTMLView",
       "description": "",
       "description_allow_html": false,
       "layout": "IPY_MODEL_fcc1e6ccd4ab4e9c811e9e7aca1aca58",
       "placeholder": "​",
       "style": "IPY_MODEL_62b2280371f64bcc919b6ed09c26fe39",
       "tabbable": null,
       "tooltip": null,
       "value": "config.json: 100%"
      }
     },
     "a846d66bdc5f401293ad84e29d5c25d4": {
      "model_module": "@jupyter-widgets/base",
      "model_module_version": "2.0.0",
      "model_name": "LayoutModel",
      "state": {
       "_model_module": "@jupyter-widgets/base",
       "_model_module_version": "2.0.0",
       "_model_name": "LayoutModel",
       "_view_count": null,
       "_view_module": "@jupyter-widgets/base",
       "_view_module_version": "2.0.0",
       "_view_name": "LayoutView",
       "align_content": null,
       "align_items": null,
       "align_self": null,
       "border_bottom": null,
       "border_left": null,
       "border_right": null,
       "border_top": null,
       "bottom": null,
       "display": null,
       "flex": null,
       "flex_flow": null,
       "grid_area": null,
       "grid_auto_columns": null,
       "grid_auto_flow": null,
       "grid_auto_rows": null,
       "grid_column": null,
       "grid_gap": null,
       "grid_row": null,
       "grid_template_areas": null,
       "grid_template_columns": null,
       "grid_template_rows": null,
       "height": null,
       "justify_content": null,
       "justify_items": null,
       "left": null,
       "margin": null,
       "max_height": null,
       "max_width": null,
       "min_height": null,
       "min_width": null,
       "object_fit": null,
       "object_position": null,
       "order": null,
       "overflow": null,
       "padding": null,
       "right": null,
       "top": null,
       "visibility": null,
       "width": null
      }
     },
     "cb6307ee6c344d09ac26b4dbf12385ef": {
      "model_module": "@jupyter-widgets/controls",
      "model_module_version": "2.0.0",
      "model_name": "HTMLModel",
      "state": {
       "_dom_classes": [],
       "_model_module": "@jupyter-widgets/controls",
       "_model_module_version": "2.0.0",
       "_model_name": "HTMLModel",
       "_view_count": null,
       "_view_module": "@jupyter-widgets/controls",
       "_view_module_version": "2.0.0",
       "_view_name": "HTMLView",
       "description": "",
       "description_allow_html": false,
       "layout": "IPY_MODEL_446dd9edffce4bea8807d766474340b7",
       "placeholder": "​",
       "style": "IPY_MODEL_6f0f58998f414ace953ee42431f5eb34",
       "tabbable": null,
       "tooltip": null,
       "value": "tabpfn-v2-classifier.ckpt: 100%"
      }
     },
     "ce05aa6ca1c044999b15ffe4cb3618c6": {
      "model_module": "@jupyter-widgets/controls",
      "model_module_version": "2.0.0",
      "model_name": "ProgressStyleModel",
      "state": {
       "_model_module": "@jupyter-widgets/controls",
       "_model_module_version": "2.0.0",
       "_model_name": "ProgressStyleModel",
       "_view_count": null,
       "_view_module": "@jupyter-widgets/base",
       "_view_module_version": "2.0.0",
       "_view_name": "StyleView",
       "bar_color": null,
       "description_width": ""
      }
     },
     "e6c2351804684770be17373a07c7c7e7": {
      "model_module": "@jupyter-widgets/controls",
      "model_module_version": "2.0.0",
      "model_name": "HTMLModel",
      "state": {
       "_dom_classes": [],
       "_model_module": "@jupyter-widgets/controls",
       "_model_module_version": "2.0.0",
       "_model_name": "HTMLModel",
       "_view_count": null,
       "_view_module": "@jupyter-widgets/controls",
       "_view_module_version": "2.0.0",
       "_view_name": "HTMLView",
       "description": "",
       "description_allow_html": false,
       "layout": "IPY_MODEL_3c5601883d814a76963a1e7406a8f2d2",
       "placeholder": "​",
       "style": "IPY_MODEL_917a7b04413044799a4635eef92505ae",
       "tabbable": null,
       "tooltip": null,
       "value": " 29.0M/29.0M [00:00&lt;00:00, 110MB/s]"
      }
     },
     "fb2e033a1e1f4dce839ed71f1605a4a6": {
      "model_module": "@jupyter-widgets/controls",
      "model_module_version": "2.0.0",
      "model_name": "FloatProgressModel",
      "state": {
       "_dom_classes": [],
       "_model_module": "@jupyter-widgets/controls",
       "_model_module_version": "2.0.0",
       "_model_name": "FloatProgressModel",
       "_view_count": null,
       "_view_module": "@jupyter-widgets/controls",
       "_view_module_version": "2.0.0",
       "_view_name": "ProgressView",
       "bar_style": "success",
       "description": "",
       "description_allow_html": false,
       "layout": "IPY_MODEL_a846d66bdc5f401293ad84e29d5c25d4",
       "max": 29016968.0,
       "min": 0.0,
       "orientation": "horizontal",
       "style": "IPY_MODEL_63cc5e85e449485eb018724296acf1e1",
       "tabbable": null,
       "tooltip": null,
       "value": 29016968.0
      }
     },
     "fcc1e6ccd4ab4e9c811e9e7aca1aca58": {
      "model_module": "@jupyter-widgets/base",
      "model_module_version": "2.0.0",
      "model_name": "LayoutModel",
      "state": {
       "_model_module": "@jupyter-widgets/base",
       "_model_module_version": "2.0.0",
       "_model_name": "LayoutModel",
       "_view_count": null,
       "_view_module": "@jupyter-widgets/base",
       "_view_module_version": "2.0.0",
       "_view_name": "LayoutView",
       "align_content": null,
       "align_items": null,
       "align_self": null,
       "border_bottom": null,
       "border_left": null,
       "border_right": null,
       "border_top": null,
       "bottom": null,
       "display": null,
       "flex": null,
       "flex_flow": null,
       "grid_area": null,
       "grid_auto_columns": null,
       "grid_auto_flow": null,
       "grid_auto_rows": null,
       "grid_column": null,
       "grid_gap": null,
       "grid_row": null,
       "grid_template_areas": null,
       "grid_template_columns": null,
       "grid_template_rows": null,
       "height": null,
       "justify_content": null,
       "justify_items": null,
       "left": null,
       "margin": null,
       "max_height": null,
       "max_width": null,
       "min_height": null,
       "min_width": null,
       "object_fit": null,
       "object_position": null,
       "order": null,
       "overflow": null,
       "padding": null,
       "right": null,
       "top": null,
       "visibility": null,
       "width": null
      }
     }
    },
    "version_major": 2,
    "version_minor": 0
   }
  }
 },
 "nbformat": 4,
 "nbformat_minor": 5
}
