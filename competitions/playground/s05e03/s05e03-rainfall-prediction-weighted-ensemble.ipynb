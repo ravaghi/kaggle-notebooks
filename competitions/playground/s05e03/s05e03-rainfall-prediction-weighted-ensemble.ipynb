{
 "cells": [
  {
   "cell_type": "markdown",
   "id": "b9d15dd8",
   "metadata": {
    "papermill": {
     "duration": 0.006563,
     "end_time": "2025-03-27T16:04:16.071716",
     "exception": false,
     "start_time": "2025-03-27T16:04:16.065153",
     "status": "completed"
    },
    "tags": []
   },
   "source": [
    "# Imports and configs"
   ]
  },
  {
   "cell_type": "code",
   "execution_count": 1,
   "id": "898d2945",
   "metadata": {
    "execution": {
     "iopub.execute_input": "2025-03-27T16:04:16.084491Z",
     "iopub.status.busy": "2025-03-27T16:04:16.084262Z",
     "iopub.status.idle": "2025-03-27T16:04:28.897711Z",
     "shell.execute_reply": "2025-03-27T16:04:28.897012Z"
    },
    "papermill": {
     "duration": 12.821295,
     "end_time": "2025-03-27T16:04:28.899288",
     "exception": false,
     "start_time": "2025-03-27T16:04:16.077993",
     "status": "completed"
    },
    "tags": []
   },
   "outputs": [],
   "source": [
    "from sklearn.ensemble import RandomForestClassifier, ExtraTreesClassifier, HistGradientBoostingClassifier, GradientBoostingClassifier, AdaBoostClassifier\n",
    "from sklearn.linear_model import LogisticRegression, Ridge\n",
    "from sklearn.model_selection import StratifiedKFold\n",
    "from sklearn.metrics import roc_auc_score\n",
    "from sklearn.base import clone\n",
    "from catboost import CatBoostClassifier\n",
    "from lightgbm import LGBMClassifier\n",
    "from tabpfn import TabPFNClassifier\n",
    "from xgboost import XGBClassifier\n",
    "from scipy.special import logit\n",
    "import matplotlib.pyplot as plt\n",
    "import seaborn as sns\n",
    "import pandas as pd\n",
    "import numpy as np\n",
    "import warnings\n",
    "import joblib\n",
    "import shutil\n",
    "import optuna\n",
    "import glob\n",
    "import json\n",
    "import os\n",
    "import gc\n",
    "\n",
    "warnings.filterwarnings(\"ignore\")"
   ]
  },
  {
   "cell_type": "code",
   "execution_count": 2,
   "id": "aaa33bb4",
   "metadata": {
    "execution": {
     "iopub.execute_input": "2025-03-27T16:04:28.912317Z",
     "iopub.status.busy": "2025-03-27T16:04:28.911787Z",
     "iopub.status.idle": "2025-03-27T16:04:28.915693Z",
     "shell.execute_reply": "2025-03-27T16:04:28.914890Z"
    },
    "papermill": {
     "duration": 0.011292,
     "end_time": "2025-03-27T16:04:28.916797",
     "exception": false,
     "start_time": "2025-03-27T16:04:28.905505",
     "status": "completed"
    },
    "tags": []
   },
   "outputs": [],
   "source": [
    "class CFG:\n",
    "    train_path = \"/kaggle/input/playground-series-s5e3/train.csv\"\n",
    "    test_path = \"/kaggle/input/playground-series-s5e3/test.csv\"\n",
    "    sample_sub_path = \"/kaggle/input/playground-series-s5e3/sample_submission.csv\"\n",
    "    \n",
    "    original_path = \"/kaggle/input/hongkongrainfall/hongkong.csv\"\n",
    "    original_path_2 = \"/kaggle/input/rainfall-prediction-using-machine-learning/Rainfall.csv\"\n",
    "    \n",
    "    target = \"rainfall\"\n",
    "    n_folds = 10\n",
    "    seed = 2100\n",
    "    \n",
    "    run_optuna = True\n",
    "    optuna_trials = 250"
   ]
  },
  {
   "cell_type": "markdown",
   "id": "83af096d",
   "metadata": {
    "papermill": {
     "duration": 0.005349,
     "end_time": "2025-03-27T16:04:28.927843",
     "exception": false,
     "start_time": "2025-03-27T16:04:28.922494",
     "status": "completed"
    },
    "tags": []
   },
   "source": [
    "# Data loading and preprocessing"
   ]
  },
  {
   "cell_type": "code",
   "execution_count": 3,
   "id": "4264a656",
   "metadata": {
    "execution": {
     "iopub.execute_input": "2025-03-27T16:04:28.939710Z",
     "iopub.status.busy": "2025-03-27T16:04:28.939468Z",
     "iopub.status.idle": "2025-03-27T16:04:28.971405Z",
     "shell.execute_reply": "2025-03-27T16:04:28.970812Z"
    },
    "papermill": {
     "duration": 0.039146,
     "end_time": "2025-03-27T16:04:28.972566",
     "exception": false,
     "start_time": "2025-03-27T16:04:28.933420",
     "status": "completed"
    },
    "tags": []
   },
   "outputs": [],
   "source": [
    "train = pd.read_csv(CFG.train_path, index_col=\"id\")\n",
    "test = pd.read_csv(CFG.test_path, index_col=\"id\")"
   ]
  },
  {
   "cell_type": "code",
   "execution_count": 4,
   "id": "f4d2d529",
   "metadata": {
    "execution": {
     "iopub.execute_input": "2025-03-27T16:04:28.984639Z",
     "iopub.status.busy": "2025-03-27T16:04:28.984439Z",
     "iopub.status.idle": "2025-03-27T16:04:28.988453Z",
     "shell.execute_reply": "2025-03-27T16:04:28.987656Z"
    },
    "papermill": {
     "duration": 0.011377,
     "end_time": "2025-03-27T16:04:28.989752",
     "exception": false,
     "start_time": "2025-03-27T16:04:28.978375",
     "status": "completed"
    },
    "tags": []
   },
   "outputs": [],
   "source": [
    "test.winddirection = test.winddirection.fillna(test.winddirection.median())"
   ]
  },
  {
   "cell_type": "code",
   "execution_count": 5,
   "id": "9ad3f46c",
   "metadata": {
    "execution": {
     "iopub.execute_input": "2025-03-27T16:04:29.001716Z",
     "iopub.status.busy": "2025-03-27T16:04:29.001517Z",
     "iopub.status.idle": "2025-03-27T16:04:29.053772Z",
     "shell.execute_reply": "2025-03-27T16:04:29.053187Z"
    },
    "papermill": {
     "duration": 0.059718,
     "end_time": "2025-03-27T16:04:29.055114",
     "exception": false,
     "start_time": "2025-03-27T16:04:28.995396",
     "status": "completed"
    },
    "tags": []
   },
   "outputs": [],
   "source": [
    "original = pd.read_csv(CFG.original_path, encoding=\"gbk\")\n",
    "original[\"date\"] = pd.to_datetime(original[[\"year\", \"month\", \"day\"]])\n",
    "original = original.drop([\"year\", \"month\", \"day\", \"low visibility hour\", \"radiation\", \"evaporation\"], axis=1)\n",
    "original[\"day\"] = original.date.dt.dayofyear\n",
    "original = original.drop(\"date\", axis=1)\n",
    "original.rainfall = original.rainfall.apply(lambda x: 1 if str(x).replace('.', '', 1).isdigit() else x)\n",
    "original.rainfall = original.rainfall.replace({'微量': 1, '-': 0}).astype(int)\n",
    "original.sunshine = original.sunshine.replace('-', 0).astype(float)\n",
    "original.windspeed = original.windspeed.fillna(original.windspeed.mean())\n",
    "for col in original.columns:\n",
    "    original[col] = original[col].astype(train[col].dtype)"
   ]
  },
  {
   "cell_type": "code",
   "execution_count": 6,
   "id": "91f22cf1",
   "metadata": {
    "execution": {
     "iopub.execute_input": "2025-03-27T16:04:29.067419Z",
     "iopub.status.busy": "2025-03-27T16:04:29.067199Z",
     "iopub.status.idle": "2025-03-27T16:04:29.082037Z",
     "shell.execute_reply": "2025-03-27T16:04:29.081488Z"
    },
    "papermill": {
     "duration": 0.022383,
     "end_time": "2025-03-27T16:04:29.083385",
     "exception": false,
     "start_time": "2025-03-27T16:04:29.061002",
     "status": "completed"
    },
    "tags": []
   },
   "outputs": [],
   "source": [
    "original_2 = pd.read_csv(CFG.original_path_2)\n",
    "original_2.columns = original_2.columns.str.replace(\" \", \"\")\n",
    "original_2[CFG.target] = original_2[CFG.target].map({\"yes\": 1, \"no\": 0})\n",
    "original_2.winddirection = original_2.winddirection.fillna(original_2.winddirection.mean())\n",
    "original_2.windspeed = original_2.windspeed.fillna(original_2.windspeed.mean())\n",
    "original_2.day = original_2.index + 1\n",
    "for col in original_2.columns:\n",
    "    original_2[col] = original_2[col].astype(train[col].dtype)"
   ]
  },
  {
   "cell_type": "code",
   "execution_count": 7,
   "id": "df1b0824",
   "metadata": {
    "execution": {
     "iopub.execute_input": "2025-03-27T16:04:29.095749Z",
     "iopub.status.busy": "2025-03-27T16:04:29.095543Z",
     "iopub.status.idle": "2025-03-27T16:04:29.104040Z",
     "shell.execute_reply": "2025-03-27T16:04:29.103517Z"
    },
    "papermill": {
     "duration": 0.015849,
     "end_time": "2025-03-27T16:04:29.105262",
     "exception": false,
     "start_time": "2025-03-27T16:04:29.089413",
     "status": "completed"
    },
    "tags": []
   },
   "outputs": [],
   "source": [
    "original_combined = pd.concat([original, original_2], axis=0).reset_index(drop=True)\n",
    "original_combined = original_combined.drop_duplicates().reset_index(drop=True)"
   ]
  },
  {
   "cell_type": "code",
   "execution_count": 8,
   "id": "8efccd71",
   "metadata": {
    "execution": {
     "iopub.execute_input": "2025-03-27T16:04:29.117539Z",
     "iopub.status.busy": "2025-03-27T16:04:29.117338Z",
     "iopub.status.idle": "2025-03-27T16:04:29.122320Z",
     "shell.execute_reply": "2025-03-27T16:04:29.121470Z"
    },
    "papermill": {
     "duration": 0.012341,
     "end_time": "2025-03-27T16:04:29.123466",
     "exception": false,
     "start_time": "2025-03-27T16:04:29.111125",
     "status": "completed"
    },
    "tags": []
   },
   "outputs": [],
   "source": [
    "X = train.drop(CFG.target, axis=1)\n",
    "y = train[CFG.target]\n",
    "X_test = test.copy()\n",
    "\n",
    "X_original = original_combined.drop(CFG.target, axis=1)\n",
    "y_original = original_combined[CFG.target]"
   ]
  },
  {
   "cell_type": "markdown",
   "id": "60444147",
   "metadata": {
    "papermill": {
     "duration": 0.005391,
     "end_time": "2025-03-27T16:04:29.134604",
     "exception": false,
     "start_time": "2025-03-27T16:04:29.129213",
     "status": "completed"
    },
    "tags": []
   },
   "source": [
    "# Training base models"
   ]
  },
  {
   "cell_type": "code",
   "execution_count": 9,
   "id": "551b93fe",
   "metadata": {
    "execution": {
     "iopub.execute_input": "2025-03-27T16:04:29.146569Z",
     "iopub.status.busy": "2025-03-27T16:04:29.146369Z",
     "iopub.status.idle": "2025-03-27T16:04:29.149448Z",
     "shell.execute_reply": "2025-03-27T16:04:29.148809Z"
    },
    "papermill": {
     "duration": 0.010377,
     "end_time": "2025-03-27T16:04:29.150675",
     "exception": false,
     "start_time": "2025-03-27T16:04:29.140298",
     "status": "completed"
    },
    "tags": []
   },
   "outputs": [],
   "source": [
    "os.makedirs(\"oof_files\", exist_ok=True)"
   ]
  },
  {
   "cell_type": "code",
   "execution_count": 10,
   "id": "7f0845e7",
   "metadata": {
    "execution": {
     "iopub.execute_input": "2025-03-27T16:04:29.162780Z",
     "iopub.status.busy": "2025-03-27T16:04:29.162583Z",
     "iopub.status.idle": "2025-03-27T16:04:29.173522Z",
     "shell.execute_reply": "2025-03-27T16:04:29.172880Z"
    },
    "papermill": {
     "duration": 0.018328,
     "end_time": "2025-03-27T16:04:29.174765",
     "exception": false,
     "start_time": "2025-03-27T16:04:29.156437",
     "status": "completed"
    },
    "tags": []
   },
   "outputs": [],
   "source": [
    "class Trainer:\n",
    "    def __init__(self, model, config=CFG, is_ensemble_model=False):\n",
    "        self.model = model\n",
    "        self.config = config\n",
    "        self.is_ensemble_model = is_ensemble_model\n",
    "\n",
    "    def fit_predict(self, X, y, X_test, X_original=None, y_original=None):\n",
    "        print(f\"Training {self.model.__class__.__name__}\\n\")\n",
    "        \n",
    "        scores = []        \n",
    "        coeffs = np.zeros((1, X.shape[1]))\n",
    "        oof_pred_probs = np.zeros(X.shape[0])\n",
    "        test_pred_probs = np.zeros(X_test.shape[0])\n",
    "        \n",
    "        skf = StratifiedKFold(n_splits=self.config.n_folds, random_state=self.config.seed, shuffle=True)\n",
    "        for fold_idx, (train_idx, val_idx) in enumerate(skf.split(X, y)):\n",
    "            X_train, X_val = X.iloc[train_idx], X.iloc[val_idx]\n",
    "            y_train, y_val = y[train_idx], y[val_idx]\n",
    "            \n",
    "            if X_original is not None and y_original is not None:                            \n",
    "                X_train = pd.concat([X_train, X_original], ignore_index=True)\n",
    "                y_train = pd.concat([y_train, y_original], ignore_index=True)\n",
    "            \n",
    "            model = clone(self.model)\n",
    "            model.fit(X_train, y_train)\n",
    "            \n",
    "            if self.is_ensemble_model:\n",
    "                coeffs += model.coef_ / self.config.n_folds\n",
    "                if isinstance(self.model, LogisticRegression):\n",
    "                    n_iters = model.n_iter_[0]\n",
    "            \n",
    "            y_pred_probs = model.predict(X_val) if isinstance(self.model, Ridge) else model.predict_proba(X_val)[: ,1]\n",
    "            oof_pred_probs[val_idx] = y_pred_probs \n",
    "            \n",
    "            temp_test_pred_probs = model.predict(X_test) if isinstance(self.model, Ridge) else model.predict_proba(X_test)[:, 1]\n",
    "            test_pred_probs += temp_test_pred_probs / self.config.n_folds\n",
    "            \n",
    "            score = roc_auc_score(y_val, y_pred_probs)\n",
    "            scores.append(score)\n",
    "            \n",
    "            del model, X_train, y_train, X_val, y_val, y_pred_probs\n",
    "            gc.collect()\n",
    "            \n",
    "            if self.is_ensemble_model and isinstance(self.model, LogisticRegression):\n",
    "                print(f\"--- Fold {fold_idx + 1} - ROC AUC: {score:.6f} ({n_iters} iterations)\")\n",
    "            else:\n",
    "                print(f\"--- Fold {fold_idx + 1} - ROC AUC: {score:.6f}\")\n",
    "            \n",
    "        overall_score = roc_auc_score(y, oof_pred_probs)\n",
    "            \n",
    "        print(f\"\\n------ Overall: {overall_score:.6f} | Average: {np.mean(scores):.6f} ± {np.std(scores):.6f}\")\n",
    "        \n",
    "        if self.is_ensemble_model:\n",
    "            return oof_pred_probs, test_pred_probs, overall_score, scores, coeffs\n",
    "        else:\n",
    "            self._save_oof_files(oof_pred_probs, test_pred_probs, overall_score)\n",
    "            return oof_pred_probs, test_pred_probs, overall_score, scores\n",
    "        \n",
    "    def tune(self, X, y):             \n",
    "        oof_pred_probs = np.zeros(X.shape[0])\n",
    "        skf = StratifiedKFold(n_splits=self.config.n_folds, random_state=self.config.seed, shuffle=True)\n",
    "        for fold_idx, (train_idx, val_idx) in enumerate(skf.split(X, y)):\n",
    "            X_train, X_val = X.iloc[train_idx], X.iloc[val_idx]\n",
    "            y_train, y_val = y[train_idx], y[val_idx]\n",
    "            \n",
    "            model = clone(self.model)\n",
    "            model.fit(X_train, y_train)\n",
    "            \n",
    "            y_pred_probs = model.predict(X_val) if isinstance(self.model, Ridge) else model.predict_proba(X_val)[: ,1]\n",
    "            oof_pred_probs[val_idx] = y_pred_probs \n",
    "            \n",
    "            del model, X_train, y_train, X_val, y_val, y_pred_probs\n",
    "            gc.collect()\n",
    "            \n",
    "        return roc_auc_score(y, oof_pred_probs)\n",
    "        \n",
    "    def _save_oof_files(self, oof_pred_probs, test_pred_probs, cv_score):\n",
    "        dirname = self.model.__class__.__name__.lower().replace(\"classifier\", \"\")\n",
    "        if (isinstance(self.model, LGBMClassifier)):\n",
    "            if self.model.boosting_type == \"goss\":\n",
    "                dirname += \"-goss\"\n",
    "        os.makedirs(f\"oof_files/{dirname}\", exist_ok=True)\n",
    "        joblib.dump(oof_pred_probs, f\"oof_files/{dirname}/{dirname}_oof_pred_probs_{cv_score:.6f}.pkl\")\n",
    "        joblib.dump(test_pred_probs, f\"oof_files/{dirname}/{dirname}_test_pred_probs_{cv_score:.6f}.pkl\")"
   ]
  },
  {
   "cell_type": "code",
   "execution_count": 11,
   "id": "1bf64bc5",
   "metadata": {
    "execution": {
     "iopub.execute_input": "2025-03-27T16:04:29.187110Z",
     "iopub.status.busy": "2025-03-27T16:04:29.186915Z",
     "iopub.status.idle": "2025-03-27T16:04:29.190073Z",
     "shell.execute_reply": "2025-03-27T16:04:29.189539Z"
    },
    "papermill": {
     "duration": 0.010691,
     "end_time": "2025-03-27T16:04:29.191234",
     "exception": false,
     "start_time": "2025-03-27T16:04:29.180543",
     "status": "completed"
    },
    "tags": []
   },
   "outputs": [],
   "source": [
    "def save_submission(name, test_pred_probs, score):\n",
    "    sub = pd.read_csv(CFG.sample_sub_path)\n",
    "    sub[CFG.target] = test_pred_probs\n",
    "    sub.to_csv(f\"sub_{name}_{score:.6f}.csv\", index=False)\n",
    "    return sub.head()"
   ]
  },
  {
   "cell_type": "code",
   "execution_count": 12,
   "id": "cd061b5d",
   "metadata": {
    "execution": {
     "iopub.execute_input": "2025-03-27T16:04:29.203522Z",
     "iopub.status.busy": "2025-03-27T16:04:29.203326Z",
     "iopub.status.idle": "2025-03-27T16:04:29.206354Z",
     "shell.execute_reply": "2025-03-27T16:04:29.205632Z"
    },
    "papermill": {
     "duration": 0.010527,
     "end_time": "2025-03-27T16:04:29.207607",
     "exception": false,
     "start_time": "2025-03-27T16:04:29.197080",
     "status": "completed"
    },
    "tags": []
   },
   "outputs": [],
   "source": [
    "scores = {}\n",
    "overall_scores = {}\n",
    "oof_pred_probs = {}\n",
    "test_pred_probs = {}"
   ]
  },
  {
   "cell_type": "code",
   "execution_count": 13,
   "id": "e81f6a54",
   "metadata": {
    "_kg_hide-input": true,
    "execution": {
     "iopub.execute_input": "2025-03-27T16:04:29.219928Z",
     "iopub.status.busy": "2025-03-27T16:04:29.219735Z",
     "iopub.status.idle": "2025-03-27T16:04:29.228354Z",
     "shell.execute_reply": "2025-03-27T16:04:29.227745Z"
    },
    "papermill": {
     "duration": 0.016166,
     "end_time": "2025-03-27T16:04:29.229569",
     "exception": false,
     "start_time": "2025-03-27T16:04:29.213403",
     "status": "completed"
    },
    "tags": []
   },
   "outputs": [],
   "source": [
    "xgb_params = {\n",
    "    'colsample_bylevel': 0.7921066237164537,\n",
    "    'colsample_bynode': 0.6431557579286489,\n",
    "    'colsample_bytree': 0.33314916328121835,\n",
    "    'gamma': 2.6533897486162306,\n",
    "    'learning_rate': 0.0995872230739346,\n",
    "    'max_depth': 488,\n",
    "    'max_leaves': 313,\n",
    "    'min_child_weight': 9,\n",
    "    'n_estimators': 4644,\n",
    "    'n_jobs': -1,\n",
    "    'random_state': 2100,\n",
    "    'reg_alpha': 0.07653965420877373,\n",
    "    'reg_lambda': 56.09661479066265,\n",
    "    'subsample': 0.987487242879055,\n",
    "    'verbosity': 0\n",
    "}\n",
    "\n",
    "lgbm_params = {\n",
    "    'boosting_type': 'gbdt',\n",
    "    'colsample_bytree': 0.4631207130753891,\n",
    "    'learning_rate': 0.088361660753031,\n",
    "    'min_child_samples': 403,\n",
    "    'min_child_weight': 0.4745749540750245,\n",
    "    'n_estimators': 1332,\n",
    "    'n_jobs': -1,\n",
    "    'num_leaves': 266,\n",
    "    'random_state': 2100,\n",
    "    'reg_alpha': 23.886417233917868,\n",
    "    'reg_lambda': 4.283869171990928,\n",
    "    'subsample': 0.4581272309859017,\n",
    "    'verbose': -1\n",
    "}\n",
    "\n",
    "lgbm_goss_params = {\n",
    "    'boosting_type': 'goss',\n",
    "    'colsample_bytree': 0.5342219347521369,\n",
    "    'learning_rate': 0.027933718824492148,\n",
    "    'min_child_samples': 119,\n",
    "    'min_child_weight': 0.32511481168533785,\n",
    "    'n_estimators': 178,\n",
    "    'n_jobs': -1,\n",
    "    'num_leaves': 446,\n",
    "    'random_state': 2100,\n",
    "    'reg_alpha': 8.432039948050928,\n",
    "    'reg_lambda': 17.819535549058962,\n",
    "    'subsample': 0.7901926393348829,\n",
    "    'verbose': -1\n",
    "}\n",
    "\n",
    "cb_params = {\n",
    "    'border_count': 134,\n",
    "    'colsample_bylevel': 0.9849872675758802,\n",
    "    'depth': 6,\n",
    "    'iterations': 539,\n",
    "    'l2_leaf_reg': 61.50587067708284,\n",
    "    'learning_rate': 0.004062605169435353,\n",
    "    'min_child_samples': 235,\n",
    "    'random_state': 2100,\n",
    "    'random_strength': 0.008446274380078389,\n",
    "    'subsample': 0.5566962326912488,\n",
    "    'verbose': False\n",
    "}\n",
    "\n",
    "adb_params = {\n",
    "    'learning_rate': 0.0980729594457042,\n",
    "    'n_estimators': 156,\n",
    "    'random_state': 2100\n",
    "}\n",
    "\n",
    "rf_params = {\n",
    "    'min_samples_leaf': 10,\n",
    "    'min_samples_split': 7,\n",
    "    'n_estimators': 1147,\n",
    "    'n_jobs': -1,\n",
    "    'random_state': 2100\n",
    "}\n",
    "\n",
    "et_params = {\n",
    "    'class_weight': None,\n",
    "    'criterion': 'log_loss',\n",
    "    'min_samples_leaf': 3,\n",
    "    'min_samples_split': 60,\n",
    "    'n_estimators': 248,\n",
    "    'n_jobs': -1,\n",
    "    'random_state': 2100\n",
    "}\n",
    "\n",
    "histgb_params = {\n",
    "    'l2_regularization': 8.627208188446245,\n",
    "    'learning_rate': 0.02563674957851913,\n",
    "    'max_depth': 370,\n",
    "    'max_iter': 116,\n",
    "    'max_leaf_nodes': 45,\n",
    "    'min_samples_leaf': 457,\n",
    "    'random_state': 2100\n",
    "}\n",
    "\n",
    "gb_params = {\n",
    "    'learning_rate': 0.027839422097051633,\n",
    "    'max_depth': 3,\n",
    "    'max_features': 0.6246118798224226,\n",
    "    'max_leaf_nodes': 8,\n",
    "    'min_samples_leaf': 0.016482964092890184,\n",
    "    'min_samples_split': 0.08735068463936646,\n",
    "    'min_weight_fraction_leaf': 0.04933563916241057,\n",
    "    'n_estimators': 240,\n",
    "    'random_state': 2100,\n",
    "    'subsample': 0.9417926258447458\n",
    "}\n",
    "\n",
    "lr_params = {\n",
    "    'random_state': 2100,\n",
    "    'max_iter': 500,\n",
    "    'C': 57.03909649998898,\n",
    "    'tol': 0.0030827492543970035,\n",
    "    'fit_intercept': True,\n",
    "    'class_weight': None,\n",
    "    'solver': 'liblinear',\n",
    "    'penalty': 'l1'\n",
    "}\n",
    "\n",
    "ridge_params = {\n",
    "    'random_state': 2100,\n",
    "    'alpha': 81.85404532128871,\n",
    "    'tol': 0.005228545098266321,\n",
    "    'positive': False,\n",
    "    'fit_intercept': False\n",
    "}"
   ]
  },
  {
   "cell_type": "code",
   "execution_count": 14,
   "id": "5661418f",
   "metadata": {
    "execution": {
     "iopub.execute_input": "2025-03-27T16:04:29.241959Z",
     "iopub.status.busy": "2025-03-27T16:04:29.241760Z",
     "iopub.status.idle": "2025-03-27T16:04:41.417366Z",
     "shell.execute_reply": "2025-03-27T16:04:41.416214Z"
    },
    "papermill": {
     "duration": 12.183407,
     "end_time": "2025-03-27T16:04:41.418805",
     "exception": false,
     "start_time": "2025-03-27T16:04:29.235398",
     "status": "completed"
    },
    "tags": []
   },
   "outputs": [
    {
     "name": "stdout",
     "output_type": "stream",
     "text": [
      "Training XGBClassifier\n",
      "\n",
      "--- Fold 1 - ROC AUC: 0.878563\n",
      "--- Fold 2 - ROC AUC: 0.900449\n",
      "--- Fold 3 - ROC AUC: 0.910999\n",
      "--- Fold 4 - ROC AUC: 0.919080\n",
      "--- Fold 5 - ROC AUC: 0.864534\n",
      "--- Fold 6 - ROC AUC: 0.883614\n",
      "--- Fold 7 - ROC AUC: 0.904826\n",
      "--- Fold 8 - ROC AUC: 0.865993\n",
      "--- Fold 9 - ROC AUC: 0.938272\n",
      "--- Fold 10 - ROC AUC: 0.912458\n",
      "\n",
      "------ Overall: 0.897635 | Average: 0.897879 ± 0.022860\n"
     ]
    }
   ],
   "source": [
    "xgb_model = XGBClassifier(**xgb_params)\n",
    "xgb_trainer = Trainer(xgb_model)\n",
    "oof_pred_probs[\"XGBoost\"], test_pred_probs[\"XGBoost\"], overall_scores[\"XGBoost\"], scores[\"XGBoost\"] = xgb_trainer.fit_predict(X, y, X_test, X_original, y_original)"
   ]
  },
  {
   "cell_type": "code",
   "execution_count": 15,
   "id": "4b1765d7",
   "metadata": {
    "execution": {
     "iopub.execute_input": "2025-03-27T16:04:41.433667Z",
     "iopub.status.busy": "2025-03-27T16:04:41.433417Z",
     "iopub.status.idle": "2025-03-27T16:04:45.218907Z",
     "shell.execute_reply": "2025-03-27T16:04:45.218103Z"
    },
    "papermill": {
     "duration": 3.794006,
     "end_time": "2025-03-27T16:04:45.220066",
     "exception": false,
     "start_time": "2025-03-27T16:04:41.426060",
     "status": "completed"
    },
    "tags": []
   },
   "outputs": [
    {
     "name": "stdout",
     "output_type": "stream",
     "text": [
      "Training LGBMClassifier\n",
      "\n",
      "--- Fold 1 - ROC AUC: 0.876319\n",
      "--- Fold 2 - ROC AUC: 0.896970\n",
      "--- Fold 3 - ROC AUC: 0.916723\n",
      "--- Fold 4 - ROC AUC: 0.915376\n",
      "--- Fold 5 - ROC AUC: 0.867340\n",
      "--- Fold 6 - ROC AUC: 0.887318\n",
      "--- Fold 7 - ROC AUC: 0.902581\n",
      "--- Fold 8 - ROC AUC: 0.861392\n",
      "--- Fold 9 - ROC AUC: 0.937374\n",
      "--- Fold 10 - ROC AUC: 0.910999\n",
      "\n",
      "------ Overall: 0.896853 | Average: 0.897239 ± 0.022918\n"
     ]
    }
   ],
   "source": [
    "lgbm_model = LGBMClassifier(**lgbm_params)\n",
    "lgbm_trainer = Trainer(lgbm_model)\n",
    "oof_pred_probs[\"LightGBM\"], test_pred_probs[\"LightGBM\"], overall_scores[\"LightGBM\"], scores[\"LightGBM\"] = lgbm_trainer.fit_predict(X, y, X_test, X_original, y_original)"
   ]
  },
  {
   "cell_type": "code",
   "execution_count": 16,
   "id": "be5b8742",
   "metadata": {
    "execution": {
     "iopub.execute_input": "2025-03-27T16:04:45.235192Z",
     "iopub.status.busy": "2025-03-27T16:04:45.234949Z",
     "iopub.status.idle": "2025-03-27T16:04:48.073095Z",
     "shell.execute_reply": "2025-03-27T16:04:48.072278Z"
    },
    "papermill": {
     "duration": 2.846877,
     "end_time": "2025-03-27T16:04:48.074308",
     "exception": false,
     "start_time": "2025-03-27T16:04:45.227431",
     "status": "completed"
    },
    "tags": []
   },
   "outputs": [
    {
     "name": "stdout",
     "output_type": "stream",
     "text": [
      "Training LGBMClassifier\n",
      "\n",
      "--- Fold 1 - ROC AUC: 0.876319\n",
      "--- Fold 2 - ROC AUC: 0.898092\n",
      "--- Fold 3 - ROC AUC: 0.916386\n",
      "--- Fold 4 - ROC AUC: 0.917284\n",
      "--- Fold 5 - ROC AUC: 0.869024\n",
      "--- Fold 6 - ROC AUC: 0.881594\n",
      "--- Fold 7 - ROC AUC: 0.904602\n",
      "--- Fold 8 - ROC AUC: 0.857688\n",
      "--- Fold 9 - ROC AUC: 0.936925\n",
      "--- Fold 10 - ROC AUC: 0.913131\n",
      "\n",
      "------ Overall: 0.897368 | Average: 0.897104 ± 0.023861\n"
     ]
    }
   ],
   "source": [
    "lgbm_goss_model = LGBMClassifier(**lgbm_goss_params)\n",
    "lgbm_goss_trainer = Trainer(lgbm_goss_model)\n",
    "oof_pred_probs[\"LightGBM (goss)\"], test_pred_probs[\"LightGBM (goss)\"], overall_scores[\"LightGBM (goss)\"], scores[\"LightGBM (goss)\"] = lgbm_goss_trainer.fit_predict(X, y, X_test, X_original, y_original)"
   ]
  },
  {
   "cell_type": "code",
   "execution_count": 17,
   "id": "dbcbc62b",
   "metadata": {
    "execution": {
     "iopub.execute_input": "2025-03-27T16:04:48.090198Z",
     "iopub.status.busy": "2025-03-27T16:04:48.089931Z",
     "iopub.status.idle": "2025-03-27T16:05:03.969394Z",
     "shell.execute_reply": "2025-03-27T16:05:03.968356Z"
    },
    "papermill": {
     "duration": 15.888758,
     "end_time": "2025-03-27T16:05:03.970774",
     "exception": false,
     "start_time": "2025-03-27T16:04:48.082016",
     "status": "completed"
    },
    "tags": []
   },
   "outputs": [
    {
     "name": "stdout",
     "output_type": "stream",
     "text": [
      "Training CatBoostClassifier\n",
      "\n",
      "--- Fold 1 - ROC AUC: 0.881481\n",
      "--- Fold 2 - ROC AUC: 0.898092\n",
      "--- Fold 3 - ROC AUC: 0.923457\n",
      "--- Fold 4 - ROC AUC: 0.917621\n",
      "--- Fold 5 - ROC AUC: 0.864983\n",
      "--- Fold 6 - ROC AUC: 0.880696\n",
      "--- Fold 7 - ROC AUC: 0.895398\n",
      "--- Fold 8 - ROC AUC: 0.857127\n",
      "--- Fold 9 - ROC AUC: 0.934792\n",
      "--- Fold 10 - ROC AUC: 0.911111\n",
      "\n",
      "------ Overall: 0.896321 | Average: 0.896476 ± 0.024239\n"
     ]
    }
   ],
   "source": [
    "cb_model = CatBoostClassifier(**cb_params)\n",
    "cb_trainer = Trainer(cb_model)\n",
    "oof_pred_probs[\"CatBoost\"], test_pred_probs[\"CatBoost\"], overall_scores[\"CatBoost\"], scores[\"CatBoost\"] = cb_trainer.fit_predict(X, y, X_test, X_original, y_original)"
   ]
  },
  {
   "cell_type": "code",
   "execution_count": 18,
   "id": "b956f6a4",
   "metadata": {
    "execution": {
     "iopub.execute_input": "2025-03-27T16:05:03.987826Z",
     "iopub.status.busy": "2025-03-27T16:05:03.987599Z",
     "iopub.status.idle": "2025-03-27T16:05:14.590548Z",
     "shell.execute_reply": "2025-03-27T16:05:14.589334Z"
    },
    "papermill": {
     "duration": 10.612913,
     "end_time": "2025-03-27T16:05:14.592127",
     "exception": false,
     "start_time": "2025-03-27T16:05:03.979214",
     "status": "completed"
    },
    "tags": []
   },
   "outputs": [
    {
     "name": "stdout",
     "output_type": "stream",
     "text": [
      "Training AdaBoostClassifier\n",
      "\n",
      "--- Fold 1 - ROC AUC: 0.877722\n",
      "--- Fold 2 - ROC AUC: 0.901684\n",
      "--- Fold 3 - ROC AUC: 0.916162\n",
      "--- Fold 4 - ROC AUC: 0.918519\n",
      "--- Fold 5 - ROC AUC: 0.862290\n",
      "--- Fold 6 - ROC AUC: 0.880976\n",
      "--- Fold 7 - ROC AUC: 0.897475\n",
      "--- Fold 8 - ROC AUC: 0.867508\n",
      "--- Fold 9 - ROC AUC: 0.936308\n",
      "--- Fold 10 - ROC AUC: 0.904994\n",
      "\n",
      "------ Overall: 0.895654 | Average: 0.896364 ± 0.022716\n"
     ]
    }
   ],
   "source": [
    "adb_model = AdaBoostClassifier(**adb_params)\n",
    "adb_trainer = Trainer(adb_model)\n",
    "oof_pred_probs[\"AdaBoost\"], test_pred_probs[\"AdaBoost\"], overall_scores[\"AdaBoost\"], scores[\"AdaBoost\"] = adb_trainer.fit_predict(X, y, X_test, X_original, y_original)"
   ]
  },
  {
   "cell_type": "code",
   "execution_count": 19,
   "id": "b00f5298",
   "metadata": {
    "execution": {
     "iopub.execute_input": "2025-03-27T16:05:14.611614Z",
     "iopub.status.busy": "2025-03-27T16:05:14.611303Z",
     "iopub.status.idle": "2025-03-27T16:06:07.798101Z",
     "shell.execute_reply": "2025-03-27T16:06:07.796989Z"
    },
    "papermill": {
     "duration": 53.197799,
     "end_time": "2025-03-27T16:06:07.799790",
     "exception": false,
     "start_time": "2025-03-27T16:05:14.601991",
     "status": "completed"
    },
    "tags": []
   },
   "outputs": [
    {
     "name": "stdout",
     "output_type": "stream",
     "text": [
      "Training RandomForestClassifier\n",
      "\n",
      "--- Fold 1 - ROC AUC: 0.880808\n",
      "--- Fold 2 - ROC AUC: 0.896521\n",
      "--- Fold 3 - ROC AUC: 0.926599\n",
      "--- Fold 4 - ROC AUC: 0.913356\n",
      "--- Fold 5 - ROC AUC: 0.863861\n",
      "--- Fold 6 - ROC AUC: 0.882155\n",
      "--- Fold 7 - ROC AUC: 0.888103\n",
      "--- Fold 8 - ROC AUC: 0.844220\n",
      "--- Fold 9 - ROC AUC: 0.932548\n",
      "--- Fold 10 - ROC AUC: 0.910887\n",
      "\n",
      "------ Overall: 0.893708 | Average: 0.893906 ± 0.026363\n"
     ]
    }
   ],
   "source": [
    "rf_model = RandomForestClassifier(**rf_params)\n",
    "rf_trainer = Trainer(rf_model)\n",
    "oof_pred_probs[\"RandomForest\"], test_pred_probs[\"RandomForest\"], overall_scores[\"RandomForest\"], scores[\"RandomForest\"] = rf_trainer.fit_predict(X, y, X_test, X_original, y_original)"
   ]
  },
  {
   "cell_type": "code",
   "execution_count": 20,
   "id": "cd078348",
   "metadata": {
    "execution": {
     "iopub.execute_input": "2025-03-27T16:06:07.819478Z",
     "iopub.status.busy": "2025-03-27T16:06:07.819228Z",
     "iopub.status.idle": "2025-03-27T16:06:16.564425Z",
     "shell.execute_reply": "2025-03-27T16:06:16.563538Z"
    },
    "papermill": {
     "duration": 8.756026,
     "end_time": "2025-03-27T16:06:16.565854",
     "exception": false,
     "start_time": "2025-03-27T16:06:07.809828",
     "status": "completed"
    },
    "tags": []
   },
   "outputs": [
    {
     "name": "stdout",
     "output_type": "stream",
     "text": [
      "Training ExtraTreesClassifier\n",
      "\n",
      "--- Fold 1 - ROC AUC: 0.880135\n",
      "--- Fold 2 - ROC AUC: 0.894388\n",
      "--- Fold 3 - ROC AUC: 0.916386\n",
      "--- Fold 4 - ROC AUC: 0.918967\n",
      "--- Fold 5 - ROC AUC: 0.873288\n",
      "--- Fold 6 - ROC AUC: 0.882492\n",
      "--- Fold 7 - ROC AUC: 0.891919\n",
      "--- Fold 8 - ROC AUC: 0.863861\n",
      "--- Fold 9 - ROC AUC: 0.935578\n",
      "--- Fold 10 - ROC AUC: 0.912682\n",
      "\n",
      "------ Overall: 0.896455 | Average: 0.896970 ± 0.021865\n"
     ]
    }
   ],
   "source": [
    "et_model = ExtraTreesClassifier(**et_params)\n",
    "et_trainer = Trainer(et_model)\n",
    "oof_pred_probs[\"ExtraTrees\"], test_pred_probs[\"ExtraTrees\"], overall_scores[\"ExtraTrees\"], scores[\"ExtraTrees\"] = et_trainer.fit_predict(X, y, X_test, X_original, y_original)"
   ]
  },
  {
   "cell_type": "code",
   "execution_count": 21,
   "id": "999dae34",
   "metadata": {
    "execution": {
     "iopub.execute_input": "2025-03-27T16:06:16.586969Z",
     "iopub.status.busy": "2025-03-27T16:06:16.586717Z",
     "iopub.status.idle": "2025-03-27T16:06:19.822451Z",
     "shell.execute_reply": "2025-03-27T16:06:19.821421Z"
    },
    "papermill": {
     "duration": 3.247275,
     "end_time": "2025-03-27T16:06:19.823714",
     "exception": false,
     "start_time": "2025-03-27T16:06:16.576439",
     "status": "completed"
    },
    "tags": []
   },
   "outputs": [
    {
     "name": "stdout",
     "output_type": "stream",
     "text": [
      "Training HistGradientBoostingClassifier\n",
      "\n",
      "--- Fold 1 - ROC AUC: 0.883726\n",
      "--- Fold 2 - ROC AUC: 0.896970\n",
      "--- Fold 3 - ROC AUC: 0.926599\n",
      "--- Fold 4 - ROC AUC: 0.919192\n",
      "--- Fold 5 - ROC AUC: 0.873176\n",
      "--- Fold 6 - ROC AUC: 0.889450\n",
      "--- Fold 7 - ROC AUC: 0.898204\n",
      "--- Fold 8 - ROC AUC: 0.854265\n",
      "--- Fold 9 - ROC AUC: 0.935802\n",
      "--- Fold 10 - ROC AUC: 0.912009\n",
      "\n",
      "------ Overall: 0.897811 | Average: 0.898939 ± 0.023855\n"
     ]
    }
   ],
   "source": [
    "histgb_model = HistGradientBoostingClassifier(**histgb_params)\n",
    "histgb_trainer = Trainer(histgb_model)\n",
    "oof_pred_probs[\"HistGradientBoosting\"], test_pred_probs[\"HistGradientBoosting\"], overall_scores[\"HistGradientBoosting\"], scores[\"HistGradientBoosting\"] = histgb_trainer.fit_predict(X, y, X_test, X_original, y_original)"
   ]
  },
  {
   "cell_type": "code",
   "execution_count": 22,
   "id": "0cd3384e",
   "metadata": {
    "execution": {
     "iopub.execute_input": "2025-03-27T16:06:19.845942Z",
     "iopub.status.busy": "2025-03-27T16:06:19.845681Z",
     "iopub.status.idle": "2025-03-27T16:06:36.739935Z",
     "shell.execute_reply": "2025-03-27T16:06:36.738982Z"
    },
    "papermill": {
     "duration": 16.906931,
     "end_time": "2025-03-27T16:06:36.741449",
     "exception": false,
     "start_time": "2025-03-27T16:06:19.834518",
     "status": "completed"
    },
    "tags": []
   },
   "outputs": [
    {
     "name": "stdout",
     "output_type": "stream",
     "text": [
      "Training GradientBoostingClassifier\n",
      "\n",
      "--- Fold 1 - ROC AUC: 0.880584\n",
      "--- Fold 2 - ROC AUC: 0.897868\n",
      "--- Fold 3 - ROC AUC: 0.921773\n",
      "--- Fold 4 - ROC AUC: 0.914141\n",
      "--- Fold 5 - ROC AUC: 0.864871\n",
      "--- Fold 6 - ROC AUC: 0.883726\n",
      "--- Fold 7 - ROC AUC: 0.898204\n",
      "--- Fold 8 - ROC AUC: 0.854321\n",
      "--- Fold 9 - ROC AUC: 0.937374\n",
      "--- Fold 10 - ROC AUC: 0.914366\n",
      "\n",
      "------ Overall: 0.896121 | Average: 0.896723 ± 0.024779\n"
     ]
    }
   ],
   "source": [
    "gb_model = GradientBoostingClassifier(**gb_params)\n",
    "gb_trainer = Trainer(gb_model)\n",
    "oof_pred_probs[\"GradientBoosting\"], test_pred_probs[\"GradientBoosting\"], overall_scores[\"GradientBoosting\"], scores[\"GradientBoosting\"] = gb_trainer.fit_predict(X, y, X_test, X_original, y_original)"
   ]
  },
  {
   "cell_type": "code",
   "execution_count": 23,
   "id": "60700b75",
   "metadata": {
    "execution": {
     "iopub.execute_input": "2025-03-27T16:06:36.763870Z",
     "iopub.status.busy": "2025-03-27T16:06:36.763614Z",
     "iopub.status.idle": "2025-03-27T16:06:39.049887Z",
     "shell.execute_reply": "2025-03-27T16:06:39.049053Z"
    },
    "papermill": {
     "duration": 2.298617,
     "end_time": "2025-03-27T16:06:39.051103",
     "exception": false,
     "start_time": "2025-03-27T16:06:36.752486",
     "status": "completed"
    },
    "tags": []
   },
   "outputs": [
    {
     "name": "stdout",
     "output_type": "stream",
     "text": [
      "Training LogisticRegression\n",
      "\n",
      "--- Fold 1 - ROC AUC: 0.868350\n",
      "--- Fold 2 - ROC AUC: 0.890572\n",
      "--- Fold 3 - ROC AUC: 0.897306\n",
      "--- Fold 4 - ROC AUC: 0.918855\n",
      "--- Fold 5 - ROC AUC: 0.880135\n",
      "--- Fold 6 - ROC AUC: 0.885522\n",
      "--- Fold 7 - ROC AUC: 0.878339\n",
      "--- Fold 8 - ROC AUC: 0.878227\n",
      "--- Fold 9 - ROC AUC: 0.932211\n",
      "--- Fold 10 - ROC AUC: 0.903030\n",
      "\n",
      "------ Overall: 0.893086 | Average: 0.893255 ± 0.018954\n"
     ]
    }
   ],
   "source": [
    "lr_model = LogisticRegression(**lr_params)\n",
    "lr_trainer = Trainer(lr_model)\n",
    "oof_pred_probs[\"LogisticRegression\"], test_pred_probs[\"LogisticRegression\"], overall_scores[\"LogisticRegression\"], scores[\"LogisticRegression\"] = lr_trainer.fit_predict(X, y, X_test, X_original, y_original)"
   ]
  },
  {
   "cell_type": "code",
   "execution_count": 24,
   "id": "37f3ad8e",
   "metadata": {
    "execution": {
     "iopub.execute_input": "2025-03-27T16:06:39.074261Z",
     "iopub.status.busy": "2025-03-27T16:06:39.074020Z",
     "iopub.status.idle": "2025-03-27T16:06:40.784479Z",
     "shell.execute_reply": "2025-03-27T16:06:40.783536Z"
    },
    "papermill": {
     "duration": 1.723221,
     "end_time": "2025-03-27T16:06:40.785824",
     "exception": false,
     "start_time": "2025-03-27T16:06:39.062603",
     "status": "completed"
    },
    "tags": []
   },
   "outputs": [
    {
     "name": "stdout",
     "output_type": "stream",
     "text": [
      "Training Ridge\n",
      "\n",
      "--- Fold 1 - ROC AUC: 0.868575\n",
      "--- Fold 2 - ROC AUC: 0.894501\n",
      "--- Fold 3 - ROC AUC: 0.900449\n",
      "--- Fold 4 - ROC AUC: 0.916274\n",
      "--- Fold 5 - ROC AUC: 0.889899\n",
      "--- Fold 6 - ROC AUC: 0.886981\n",
      "--- Fold 7 - ROC AUC: 0.877666\n",
      "--- Fold 8 - ROC AUC: 0.870370\n",
      "--- Fold 9 - ROC AUC: 0.931089\n",
      "--- Fold 10 - ROC AUC: 0.905163\n",
      "\n",
      "------ Overall: 0.893450 | Average: 0.894097 ± 0.018910\n"
     ]
    }
   ],
   "source": [
    "ridge_model = Ridge(**ridge_params)\n",
    "ridge_trainer = Trainer(ridge_model)\n",
    "oof_pred_probs[\"Ridge\"], test_pred_probs[\"Ridge\"], overall_scores[\"Ridge\"], scores[\"Ridge\"] = ridge_trainer.fit_predict(X, y, X_test, X_original, y_original)"
   ]
  },
  {
   "cell_type": "code",
   "execution_count": 25,
   "id": "d38d6a4f",
   "metadata": {
    "execution": {
     "iopub.execute_input": "2025-03-27T16:06:40.809783Z",
     "iopub.status.busy": "2025-03-27T16:06:40.809521Z",
     "iopub.status.idle": "2025-03-27T16:08:51.186553Z",
     "shell.execute_reply": "2025-03-27T16:08:51.185695Z"
    },
    "papermill": {
     "duration": 130.390194,
     "end_time": "2025-03-27T16:08:51.188028",
     "exception": false,
     "start_time": "2025-03-27T16:06:40.797834",
     "status": "completed"
    },
    "tags": []
   },
   "outputs": [
    {
     "name": "stdout",
     "output_type": "stream",
     "text": [
      "Training TabPFNClassifier\n",
      "\n"
     ]
    },
    {
     "data": {
      "application/vnd.jupyter.widget-view+json": {
       "model_id": "92ce339105cb4ad29eb449f1e82bb52d",
       "version_major": 2,
       "version_minor": 0
      },
      "text/plain": [
       "tabpfn-v2-classifier.ckpt:   0%|          | 0.00/29.0M [00:00<?, ?B/s]"
      ]
     },
     "metadata": {},
     "output_type": "display_data"
    },
    {
     "data": {
      "application/vnd.jupyter.widget-view+json": {
       "model_id": "d3524f5d7985496b856d7aaf8e488400",
       "version_major": 2,
       "version_minor": 0
      },
      "text/plain": [
       "config.json:   0%|          | 0.00/37.0 [00:00<?, ?B/s]"
      ]
     },
     "metadata": {},
     "output_type": "display_data"
    },
    {
     "name": "stdout",
     "output_type": "stream",
     "text": [
      "--- Fold 1 - ROC AUC: 0.874860\n",
      "--- Fold 2 - ROC AUC: 0.890685\n",
      "--- Fold 3 - ROC AUC: 0.904714\n",
      "--- Fold 4 - ROC AUC: 0.919753\n",
      "--- Fold 5 - ROC AUC: 0.872391\n",
      "--- Fold 6 - ROC AUC: 0.882604\n",
      "--- Fold 7 - ROC AUC: 0.882828\n",
      "--- Fold 8 - ROC AUC: 0.859484\n",
      "--- Fold 9 - ROC AUC: 0.938496\n",
      "--- Fold 10 - ROC AUC: 0.913805\n",
      "\n",
      "------ Overall: 0.893292 | Average: 0.893962 ± 0.023325\n"
     ]
    }
   ],
   "source": [
    "tabpfn_model = TabPFNClassifier(random_state=CFG.seed, n_jobs=-1)\n",
    "tabpfn_trainer = Trainer(tabpfn_model)\n",
    "oof_pred_probs[\"TabPFN\"], test_pred_probs[\"TabPFN\"], overall_scores[\"TabPFN\"], scores[\"TabPFN\"] = tabpfn_trainer.fit_predict(X, y, X_test, X_original, y_original)"
   ]
  },
  {
   "cell_type": "markdown",
   "id": "307fb30d",
   "metadata": {
    "papermill": {
     "duration": 0.011776,
     "end_time": "2025-03-27T16:08:51.212122",
     "exception": false,
     "start_time": "2025-03-27T16:08:51.200346",
     "status": "completed"
    },
    "tags": []
   },
   "source": [
    "# Ensembling with LogisticRegression"
   ]
  },
  {
   "cell_type": "code",
   "execution_count": 26,
   "id": "c0423059",
   "metadata": {
    "_kg_hide-input": true,
    "execution": {
     "iopub.execute_input": "2025-03-27T16:08:51.236708Z",
     "iopub.status.busy": "2025-03-27T16:08:51.236456Z",
     "iopub.status.idle": "2025-03-27T16:08:51.242047Z",
     "shell.execute_reply": "2025-03-27T16:08:51.241394Z"
    },
    "papermill": {
     "duration": 0.01946,
     "end_time": "2025-03-27T16:08:51.243358",
     "exception": false,
     "start_time": "2025-03-27T16:08:51.223898",
     "status": "completed"
    },
    "tags": []
   },
   "outputs": [],
   "source": [
    "def plot_weights(weights, title):\n",
    "    sorted_indices = np.argsort(weights[0])[::-1]\n",
    "    sorted_coeffs = np.array(weights[0])[sorted_indices]\n",
    "    sorted_model_names = np.array(list(oof_pred_probs.keys()))[sorted_indices]\n",
    "\n",
    "    plt.figure(figsize=(10, weights.shape[1] * 0.3))\n",
    "    ax = sns.barplot(x=sorted_coeffs, y=sorted_model_names, palette=\"RdYlGn_r\")\n",
    "\n",
    "    for i, (value, name) in enumerate(zip(sorted_coeffs, sorted_model_names)):\n",
    "        if value >= 0:\n",
    "            ax.text(value, i, f\"{value:.3f}\", va=\"center\", ha=\"left\", color=\"black\")\n",
    "        else:\n",
    "            ax.text(value, i, f\"{value:.3f}\", va=\"center\", ha=\"right\", color=\"black\")\n",
    "\n",
    "    xlim = ax.get_xlim()\n",
    "    ax.set_xlim(xlim[0] - 0.1 * abs(xlim[0]), xlim[1] + 0.1 * abs(xlim[1]))\n",
    "\n",
    "    plt.title(title)\n",
    "    plt.xlabel(\"\")\n",
    "    plt.ylabel(\"\")\n",
    "    plt.tight_layout()\n",
    "    plt.show()"
   ]
  },
  {
   "cell_type": "code",
   "execution_count": 27,
   "id": "d7f6a59e",
   "metadata": {
    "execution": {
     "iopub.execute_input": "2025-03-27T16:08:51.267768Z",
     "iopub.status.busy": "2025-03-27T16:08:51.267529Z",
     "iopub.status.idle": "2025-03-27T16:08:51.276964Z",
     "shell.execute_reply": "2025-03-27T16:08:51.276196Z"
    },
    "papermill": {
     "duration": 0.022983,
     "end_time": "2025-03-27T16:08:51.278128",
     "exception": false,
     "start_time": "2025-03-27T16:08:51.255145",
     "status": "completed"
    },
    "tags": []
   },
   "outputs": [],
   "source": [
    "X = logit(pd.DataFrame(oof_pred_probs).clip(1e-15, 1-1e-15))\n",
    "X_test = logit(pd.DataFrame(test_pred_probs).clip(1e-15, 1-1e-15))"
   ]
  },
  {
   "cell_type": "code",
   "execution_count": 28,
   "id": "783a6ee7",
   "metadata": {
    "_kg_hide-output": true,
    "execution": {
     "iopub.execute_input": "2025-03-27T16:08:51.302922Z",
     "iopub.status.busy": "2025-03-27T16:08:51.302714Z",
     "iopub.status.idle": "2025-03-27T16:17:01.998816Z",
     "shell.execute_reply": "2025-03-27T16:17:01.998132Z"
    },
    "papermill": {
     "duration": 490.710144,
     "end_time": "2025-03-27T16:17:02.000258",
     "exception": false,
     "start_time": "2025-03-27T16:08:51.290114",
     "status": "completed"
    },
    "scrolled": true,
    "tags": []
   },
   "outputs": [
    {
     "name": "stderr",
     "output_type": "stream",
     "text": [
      "[I 2025-03-27 16:08:51,307] A new study created in memory with name: no-name-480f181f-88a2-4eb0-a4bc-0a1d9be472c7\n",
      "[I 2025-03-27 16:08:55,883] Trial 0 finished with value: 0.8966700336700337 and parameters: {'solver_penalty': ('liblinear', 'l1'), 'C': 0.3150233206262376, 'tol': 0.008796903368770733, 'fit_intercept': True, 'class_weight': 'balanced'}. Best is trial 0 with value: 0.8966700336700337.\n",
      "[I 2025-03-27 16:08:56,460] Trial 1 finished with value: 0.8964455667789002 and parameters: {'solver_penalty': ('liblinear', 'l1'), 'C': 0.8854960848624048, 'tol': 0.0044840908682866965, 'fit_intercept': True, 'class_weight': None}. Best is trial 0 with value: 0.8966700336700337.\n",
      "[I 2025-03-27 16:09:00,740] Trial 4 finished with value: 0.8962772166105499 and parameters: {'solver_penalty': ('newton-cholesky', None), 'C': 0.709715887240964, 'tol': 0.0033700962461390223, 'fit_intercept': False, 'class_weight': None}. Best is trial 0 with value: 0.8966700336700337.\n",
      "[I 2025-03-27 16:09:02,314] Trial 2 finished with value: 0.8961290684624018 and parameters: {'solver_penalty': ('newton-cg', None), 'C': 0.9444049957470005, 'tol': 0.008571043346298077, 'fit_intercept': True, 'class_weight': None}. Best is trial 0 with value: 0.8966700336700337.\n",
      "[I 2025-03-27 16:09:04,311] Trial 5 finished with value: 0.8951795735129067 and parameters: {'solver_penalty': ('lbfgs', None), 'C': 0.8061402863196491, 'tol': 0.004087437398020714, 'fit_intercept': True, 'class_weight': 'balanced'}. Best is trial 0 with value: 0.8966700336700337.\n",
      "[I 2025-03-27 16:09:06,446] Trial 6 finished with value: 0.8969090909090909 and parameters: {'solver_penalty': ('lbfgs', None), 'C': 0.8626662854671293, 'tol': 0.0075230633589374995, 'fit_intercept': True, 'class_weight': 'balanced'}. Best is trial 6 with value: 0.8969090909090909.\n",
      "[I 2025-03-27 16:09:06,836] Trial 3 finished with value: 0.8898080808080808 and parameters: {'solver_penalty': ('newton-cg', 'l2'), 'C': 0.48306140311862444, 'tol': 0.002379018892525193, 'fit_intercept': False, 'class_weight': 'balanced'}. Best is trial 6 with value: 0.8969090909090909.\n",
      "[I 2025-03-27 16:09:08,583] Trial 7 finished with value: 0.896682379349046 and parameters: {'solver_penalty': ('newton-cholesky', 'l2'), 'C': 0.9538386221310569, 'tol': 0.0020859337253184484, 'fit_intercept': True, 'class_weight': None}. Best is trial 6 with value: 0.8969090909090909.\n",
      "[I 2025-03-27 16:09:11,083] Trial 10 finished with value: 0.8967059483726151 and parameters: {'solver_penalty': ('liblinear', 'l2'), 'C': 0.3085478096330929, 'tol': 0.00852941212781111, 'fit_intercept': False, 'class_weight': None}. Best is trial 6 with value: 0.8969090909090909.\n",
      "[I 2025-03-27 16:09:13,744] Trial 9 finished with value: 0.8873400673400673 and parameters: {'solver_penalty': ('newton-cholesky', None), 'C': 0.6007480386617963, 'tol': 0.006729704239807223, 'fit_intercept': False, 'class_weight': 'balanced'}. Best is trial 6 with value: 0.8969090909090909.\n",
      "[I 2025-03-27 16:09:15,085] Trial 12 finished with value: 0.8969786756453423 and parameters: {'solver_penalty': ('liblinear', 'l1'), 'C': 0.6195644932588045, 'tol': 0.002668034588602533, 'fit_intercept': True, 'class_weight': None}. Best is trial 12 with value: 0.8969786756453423.\n",
      "[I 2025-03-27 16:09:16,437] Trial 8 finished with value: 0.8972536475869808 and parameters: {'solver_penalty': ('newton-cg', None), 'C': 0.00789449655478991, 'tol': 0.008837296307703838, 'fit_intercept': True, 'class_weight': None}. Best is trial 8 with value: 0.8972536475869808.\n",
      "[I 2025-03-27 16:09:20,205] Trial 11 finished with value: 0.8959001122334456 and parameters: {'solver_penalty': ('newton-cg', None), 'C': 0.4369415113786014, 'tol': 0.0061156470360426264, 'fit_intercept': True, 'class_weight': None}. Best is trial 8 with value: 0.8972536475869808.\n",
      "[I 2025-03-27 16:09:20,422] Trial 14 finished with value: 0.8925454545454545 and parameters: {'solver_penalty': ('lbfgs', None), 'C': 0.4236043236550382, 'tol': 0.00784064830794282, 'fit_intercept': False, 'class_weight': 'balanced'}. Best is trial 8 with value: 0.8972536475869808.\n",
      "[I 2025-03-27 16:09:24,020] Trial 16 finished with value: 0.8963355780022445 and parameters: {'solver_penalty': ('liblinear', 'l2'), 'C': 0.9768957336767219, 'tol': 0.002694935476663738, 'fit_intercept': True, 'class_weight': 'balanced'}. Best is trial 8 with value: 0.8972536475869808.\n",
      "[I 2025-03-27 16:09:25,573] Trial 13 finished with value: 0.8963176206509541 and parameters: {'solver_penalty': ('newton-cg', None), 'C': 0.22348915637153832, 'tol': 0.002160422737744449, 'fit_intercept': False, 'class_weight': None}. Best is trial 8 with value: 0.8972536475869808.\n",
      "[I 2025-03-27 16:09:27,769] Trial 15 finished with value: 0.8958978675645343 and parameters: {'solver_penalty': ('lbfgs', None), 'C': 0.38979710224674013, 'tol': 0.002099909278410056, 'fit_intercept': True, 'class_weight': 'balanced'}. Best is trial 8 with value: 0.8972536475869808.\n",
      "[I 2025-03-27 16:09:27,774] Trial 17 finished with value: 0.8972121212121211 and parameters: {'solver_penalty': ('lbfgs', 'l2'), 'C': 0.9062107164063596, 'tol': 0.008419630450125174, 'fit_intercept': True, 'class_weight': None}. Best is trial 8 with value: 0.8972536475869808.\n",
      "[I 2025-03-27 16:09:30,008] Trial 18 finished with value: 0.8958215488215489 and parameters: {'solver_penalty': ('lbfgs', None), 'C': 0.6428922100593099, 'tol': 0.005476565373668628, 'fit_intercept': True, 'class_weight': 'balanced'}. Best is trial 8 with value: 0.8972536475869808.\n",
      "[I 2025-03-27 16:09:34,769] Trial 21 finished with value: 0.8972783389450056 and parameters: {'solver_penalty': ('lbfgs', 'l2'), 'C': 0.0341328312305168, 'tol': 0.0009485746568169272, 'fit_intercept': True, 'class_weight': None}. Best is trial 21 with value: 0.8972783389450056.\n",
      "[I 2025-03-27 16:09:35,157] Trial 22 finished with value: 0.8939607182940517 and parameters: {'solver_penalty': ('lbfgs', None), 'C': 0.5360258670113865, 'tol': 0.009669743686444555, 'fit_intercept': False, 'class_weight': 'balanced'}. Best is trial 21 with value: 0.8972783389450056.\n",
      "[I 2025-03-27 16:09:35,160] Trial 19 finished with value: 0.8967138047138047 and parameters: {'solver_penalty': ('lbfgs', 'l2'), 'C': 0.3594020567379116, 'tol': 0.0008434384728909219, 'fit_intercept': False, 'class_weight': None}. Best is trial 21 with value: 0.8972783389450056.\n",
      "[I 2025-03-27 16:09:39,007] Trial 24 finished with value: 0.8967384960718294 and parameters: {'solver_penalty': ('liblinear', 'l2'), 'C': 0.7042231310914856, 'tol': 0.009408338277500863, 'fit_intercept': True, 'class_weight': 'balanced'}. Best is trial 21 with value: 0.8972783389450056.\n",
      "[I 2025-03-27 16:09:40,769] Trial 25 finished with value: 0.8963580246913581 and parameters: {'solver_penalty': ('newton-cholesky', None), 'C': 0.9798243243248557, 'tol': 0.0016776873605340828, 'fit_intercept': True, 'class_weight': None}. Best is trial 21 with value: 0.8972783389450056.\n",
      "[I 2025-03-27 16:09:44,038] Trial 23 finished with value: 0.8956285072951741 and parameters: {'solver_penalty': ('newton-cg', None), 'C': 0.22266473818130916, 'tol': 0.005499885983563516, 'fit_intercept': False, 'class_weight': None}. Best is trial 21 with value: 0.8972783389450056.\n",
      "[I 2025-03-27 16:09:45,066] Trial 20 finished with value: 0.8963860830527497 and parameters: {'solver_penalty': ('newton-cg', None), 'C': 0.8199906695922888, 'tol': 0.004733336831995629, 'fit_intercept': True, 'class_weight': 'balanced'}. Best is trial 21 with value: 0.8972783389450056.\n",
      "[I 2025-03-27 16:09:45,894] Trial 27 finished with value: 0.8908159371492704 and parameters: {'solver_penalty': ('lbfgs', 'l2'), 'C': 0.48994099107925737, 'tol': 0.0048802960565944966, 'fit_intercept': False, 'class_weight': 'balanced'}. Best is trial 21 with value: 0.8972783389450056.\n",
      "[I 2025-03-27 16:09:50,634] Trial 26 finished with value: 0.8965218855218855 and parameters: {'solver_penalty': ('newton-cg', 'l2'), 'C': 0.44718082065911835, 'tol': 0.0013224792308938354, 'fit_intercept': True, 'class_weight': None}. Best is trial 21 with value: 0.8972783389450056.\n",
      "[I 2025-03-27 16:09:52,434] Trial 30 finished with value: 0.8973849607182941 and parameters: {'solver_penalty': ('lbfgs', 'l2'), 'C': 0.017563918752465286, 'tol': 0.0018700203823493182, 'fit_intercept': True, 'class_weight': None}. Best is trial 30 with value: 0.8973849607182941.\n",
      "[I 2025-03-27 16:09:52,621] Trial 28 finished with value: 0.896919191919192 and parameters: {'solver_penalty': ('lbfgs', 'l2'), 'C': 0.10486185188046852, 'tol': 0.0016064935933952458, 'fit_intercept': True, 'class_weight': None}. Best is trial 30 with value: 0.8973849607182941.\n",
      "[I 2025-03-27 16:09:52,637] Trial 29 finished with value: 0.8965937149270483 and parameters: {'solver_penalty': ('lbfgs', 'l2'), 'C': 0.1067750712989854, 'tol': 0.002824263011957562, 'fit_intercept': True, 'class_weight': None}. Best is trial 30 with value: 0.8973849607182941.\n",
      "[I 2025-03-27 16:09:56,883] Trial 31 finished with value: 0.8973524130190796 and parameters: {'solver_penalty': ('lbfgs', 'l2'), 'C': 0.07555598103372786, 'tol': 0.004842407139884247, 'fit_intercept': True, 'class_weight': None}. Best is trial 30 with value: 0.8973849607182941.\n",
      "[I 2025-03-27 16:10:00,422] Trial 32 finished with value: 0.8972536475869808 and parameters: {'solver_penalty': ('newton-cg', None), 'C': 0.015548297536639697, 'tol': 0.009381433701125973, 'fit_intercept': True, 'class_weight': None}. Best is trial 30 with value: 0.8973849607182941.\n",
      "[I 2025-03-27 16:10:00,443] Trial 33 finished with value: 0.8972053872053872 and parameters: {'solver_penalty': ('newton-cg', 'l2'), 'C': 0.16030681095100108, 'tol': 0.008807064736635844, 'fit_intercept': True, 'class_weight': None}. Best is trial 30 with value: 0.8973849607182941.\n",
      "[I 2025-03-27 16:10:04,365] Trial 34 finished with value: 0.8970830527497194 and parameters: {'solver_penalty': ('newton-cg', None), 'C': 0.05875877009651254, 'tol': 0.00870888824226059, 'fit_intercept': True, 'class_weight': 'balanced'}. Best is trial 30 with value: 0.8973849607182941.\n",
      "[I 2025-03-27 16:10:04,966] Trial 36 finished with value: 0.8971773288439955 and parameters: {'solver_penalty': ('liblinear', 'l1'), 'C': 0.024897544833948355, 'tol': 2.372852828993197e-05, 'fit_intercept': True, 'class_weight': None}. Best is trial 30 with value: 0.8973849607182941.\n",
      "[I 2025-03-27 16:10:06,748] Trial 35 finished with value: 0.8961290684624018 and parameters: {'solver_penalty': ('newton-cg', None), 'C': 0.05406607668507567, 'tol': 0.008383777808294674, 'fit_intercept': True, 'class_weight': None}. Best is trial 30 with value: 0.8973849607182941.\n",
      "[I 2025-03-27 16:10:07,163] Trial 37 finished with value: 0.8970931537598206 and parameters: {'solver_penalty': ('lbfgs', 'l2'), 'C': 0.031188442597090082, 'tol': 0.005292842263261882, 'fit_intercept': True, 'class_weight': 'balanced'}. Best is trial 30 with value: 0.8973849607182941.\n",
      "[I 2025-03-27 16:10:11,460] Trial 39 finished with value: 0.8975151515151516 and parameters: {'solver_penalty': ('lbfgs', 'l2'), 'C': 0.014198596220780374, 'tol': 0.00702737863925634, 'fit_intercept': False, 'class_weight': None}. Best is trial 39 with value: 0.8975151515151516.\n",
      "[I 2025-03-27 16:10:13,932] Trial 41 finished with value: 0.897371492704826 and parameters: {'solver_penalty': ('lbfgs', 'l2'), 'C': 0.016845844316828472, 'tol': 0.00840616439162575, 'fit_intercept': False, 'class_weight': None}. Best is trial 39 with value: 0.8975151515151516.\n",
      "[I 2025-03-27 16:10:15,522] Trial 40 finished with value: 0.8969270482603815 and parameters: {'solver_penalty': ('lbfgs', 'l2'), 'C': 0.05620288373926863, 'tol': 0.0033312857982624833, 'fit_intercept': True, 'class_weight': 'balanced'}. Best is trial 39 with value: 0.8975151515151516.\n",
      "[I 2025-03-27 16:10:15,528] Trial 38 finished with value: 0.896124579124579 and parameters: {'solver_penalty': ('lbfgs', None), 'C': 0.04703835877058758, 'tol': 0.0010109574175250961, 'fit_intercept': True, 'class_weight': None}. Best is trial 39 with value: 0.8975151515151516.\n",
      "[I 2025-03-27 16:10:18,975] Trial 42 finished with value: 0.897361391694725 and parameters: {'solver_penalty': ('lbfgs', 'l2'), 'C': 0.18908440386446615, 'tol': 0.007285180671311824, 'fit_intercept': False, 'class_weight': None}. Best is trial 39 with value: 0.8975151515151516.\n",
      "[I 2025-03-27 16:10:19,555] Trial 45 finished with value: 0.897415263748597 and parameters: {'solver_penalty': ('liblinear', 'l1'), 'C': 0.09991446488496938, 'tol': 0.007949339197381819, 'fit_intercept': False, 'class_weight': None}. Best is trial 39 with value: 0.8975151515151516.\n",
      "[I 2025-03-27 16:10:22,915] Trial 43 finished with value: 0.897253647586981 and parameters: {'solver_penalty': ('lbfgs', 'l2'), 'C': 0.07303232119595346, 'tol': 0.006939001193102064, 'fit_intercept': False, 'class_weight': None}. Best is trial 39 with value: 0.8975151515151516.\n",
      "[I 2025-03-27 16:10:25,320] Trial 44 finished with value: 0.8972121212121211 and parameters: {'solver_penalty': ('lbfgs', 'l2'), 'C': 0.09455648770952263, 'tol': 0.009576366233791116, 'fit_intercept': False, 'class_weight': None}. Best is trial 39 with value: 0.8975151515151516.\n",
      "[I 2025-03-27 16:10:27,246] Trial 48 finished with value: 0.8969191919191919 and parameters: {'solver_penalty': ('liblinear', 'l1'), 'C': 0.008567323527520002, 'tol': 0.008728430978234844, 'fit_intercept': False, 'class_weight': None}. Best is trial 39 with value: 0.8975151515151516.\n",
      "[I 2025-03-27 16:10:28,614] Trial 46 finished with value: 0.8972289562289562 and parameters: {'solver_penalty': ('lbfgs', 'l2'), 'C': 0.06979527851526285, 'tol': 0.009162065240277299, 'fit_intercept': False, 'class_weight': None}. Best is trial 39 with value: 0.8975151515151516.\n",
      "[I 2025-03-27 16:10:28,638] Trial 47 finished with value: 0.8974029180695847 and parameters: {'solver_penalty': ('lbfgs', 'l2'), 'C': 0.046010371962676044, 'tol': 0.008840064356510418, 'fit_intercept': False, 'class_weight': None}. Best is trial 39 with value: 0.8975151515151516.\n",
      "[I 2025-03-27 16:10:34,078] Trial 50 finished with value: 0.8921369248035913 and parameters: {'solver_penalty': ('newton-cholesky', 'l2'), 'C': 0.13378719889235352, 'tol': 0.005730493440803709, 'fit_intercept': False, 'class_weight': 'balanced'}. Best is trial 39 with value: 0.8975151515151516.\n",
      "[I 2025-03-27 16:10:34,087] Trial 49 finished with value: 0.8972514029180695 and parameters: {'solver_penalty': ('lbfgs', None), 'C': 0.05656200836789257, 'tol': 0.006550777440095677, 'fit_intercept': False, 'class_weight': None}. Best is trial 39 with value: 0.8975151515151516.\n",
      "[I 2025-03-27 16:10:36,788] Trial 52 finished with value: 0.8962772166105499 and parameters: {'solver_penalty': ('newton-cholesky', None), 'C': 0.10834330308923512, 'tol': 0.00742402491640682, 'fit_intercept': False, 'class_weight': None}. Best is trial 39 with value: 0.8975151515151516.\n",
      "[I 2025-03-27 16:10:37,783] Trial 51 finished with value: 0.8972514029180695 and parameters: {'solver_penalty': ('lbfgs', None), 'C': 0.18240663306987828, 'tol': 0.007374731025677153, 'fit_intercept': False, 'class_weight': None}. Best is trial 39 with value: 0.8975151515151516.\n",
      "[I 2025-03-27 16:10:38,738] Trial 53 finished with value: 0.8970157126823792 and parameters: {'solver_penalty': ('liblinear', 'l2'), 'C': 0.004280805195261321, 'tol': 0.007147246904099232, 'fit_intercept': False, 'class_weight': 'balanced'}. Best is trial 39 with value: 0.8975151515151516.\n",
      "[I 2025-03-27 16:10:43,106] Trial 54 finished with value: 0.8962772166105499 and parameters: {'solver_penalty': ('newton-cholesky', None), 'C': 0.2019835216520779, 'tol': 0.006826450501424591, 'fit_intercept': False, 'class_weight': None}. Best is trial 39 with value: 0.8975151515151516.\n",
      "[I 2025-03-27 16:10:43,112] Trial 57 finished with value: 0.8973748597081931 and parameters: {'solver_penalty': ('liblinear', 'l1'), 'C': 0.521748673089413, 'tol': 0.00801196782212368, 'fit_intercept': False, 'class_weight': None}. Best is trial 39 with value: 0.8975151515151516.\n",
      "[I 2025-03-27 16:10:47,240] Trial 59 finished with value: 0.8972244668911337 and parameters: {'solver_penalty': ('liblinear', 'l1'), 'C': 0.5500961995976126, 'tol': 0.006596496230936276, 'fit_intercept': False, 'class_weight': None}. Best is trial 39 with value: 0.8975151515151516.\n",
      "[I 2025-03-27 16:10:47,246] Trial 55 finished with value: 0.8953310886644221 and parameters: {'solver_penalty': ('lbfgs', 'l2'), 'C': 0.2201559318519351, 'tol': 0.007828510991136517, 'fit_intercept': False, 'class_weight': 'balanced'}. Best is trial 39 with value: 0.8975151515151516.\n",
      "[I 2025-03-27 16:10:48,419] Trial 56 finished with value: 0.8973905723905724 and parameters: {'solver_penalty': ('lbfgs', 'l2'), 'C': 0.3841289922449094, 'tol': 0.006902349541085165, 'fit_intercept': False, 'class_weight': None}. Best is trial 39 with value: 0.8975151515151516.\n",
      "[I 2025-03-27 16:10:51,451] Trial 61 finished with value: 0.8973860830527498 and parameters: {'solver_penalty': ('liblinear', 'l1'), 'C': 0.3535714151326603, 'tol': 0.008837384281408628, 'fit_intercept': False, 'class_weight': None}. Best is trial 39 with value: 0.8975151515151516.\n",
      "[I 2025-03-27 16:10:55,787] Trial 62 finished with value: 0.89675645342312 and parameters: {'solver_penalty': ('newton-cholesky', 'l2'), 'C': 0.5688177650478976, 'tol': 0.008189570279688474, 'fit_intercept': False, 'class_weight': None}. Best is trial 39 with value: 0.8975151515151516.\n",
      "[I 2025-03-27 16:10:56,368] Trial 60 finished with value: 0.8951975308641975 and parameters: {'solver_penalty': ('lbfgs', 'l2'), 'C': 0.035133009722963474, 'tol': 0.007896665050904101, 'fit_intercept': False, 'class_weight': 'balanced'}. Best is trial 39 with value: 0.8975151515151516.\n",
      "[I 2025-03-27 16:10:56,398] Trial 58 finished with value: 0.8971459034792368 and parameters: {'solver_penalty': ('newton-cg', None), 'C': 0.6697947995940415, 'tol': 0.008390749573955398, 'fit_intercept': False, 'class_weight': None}. Best is trial 39 with value: 0.8975151515151516.\n",
      "[I 2025-03-27 16:11:00,824] Trial 63 finished with value: 0.8968361391694725 and parameters: {'solver_penalty': ('newton-cholesky', 'l2'), 'C': 0.4484677016320804, 'tol': 0.007510676045387041, 'fit_intercept': False, 'class_weight': None}. Best is trial 39 with value: 0.8975151515151516.\n",
      "[I 2025-03-27 16:11:01,986] Trial 64 finished with value: 0.896215488215488 and parameters: {'solver_penalty': ('liblinear', 'l1'), 'C': 0.46992977149769505, 'tol': 0.00840068027393591, 'fit_intercept': True, 'class_weight': None}. Best is trial 39 with value: 0.8975151515151516.\n",
      "[I 2025-03-27 16:11:02,995] Trial 66 finished with value: 0.897287317620651 and parameters: {'solver_penalty': ('liblinear', 'l1'), 'C': 0.5468488119229342, 'tol': 0.00956400691896885, 'fit_intercept': False, 'class_weight': None}. Best is trial 39 with value: 0.8975151515151516.\n",
      "[I 2025-03-27 16:11:03,190] Trial 65 finished with value: 0.8975802469135803 and parameters: {'solver_penalty': ('liblinear', 'l1'), 'C': 0.36076212123736834, 'tol': 0.008610877956386799, 'fit_intercept': False, 'class_weight': None}. Best is trial 65 with value: 0.8975802469135803.\n",
      "[I 2025-03-27 16:11:06,824] Trial 68 finished with value: 0.8970415263748598 and parameters: {'solver_penalty': ('liblinear', 'l1'), 'C': 0.46509337459515016, 'tol': 0.009139585882648502, 'fit_intercept': False, 'class_weight': None}. Best is trial 65 with value: 0.8975802469135803.\n",
      "[I 2025-03-27 16:11:07,819] Trial 69 finished with value: 0.8973759820426488 and parameters: {'solver_penalty': ('liblinear', 'l1'), 'C': 0.3152024424579265, 'tol': 0.006075265576942024, 'fit_intercept': False, 'class_weight': None}. Best is trial 65 with value: 0.8975802469135803.\n",
      "[I 2025-03-27 16:11:11,294] Trial 67 finished with value: 0.8972850729517396 and parameters: {'solver_penalty': ('lbfgs', 'l2'), 'C': 0.6334928089437282, 'tol': 0.006540620429336412, 'fit_intercept': False, 'class_weight': None}. Best is trial 65 with value: 0.8975802469135803.\n",
      "[I 2025-03-27 16:11:14,258] Trial 70 finished with value: 0.8971459034792368 and parameters: {'solver_penalty': ('newton-cg', None), 'C': 0.31836785750847146, 'tol': 0.009642316022354946, 'fit_intercept': False, 'class_weight': None}. Best is trial 65 with value: 0.8975802469135803.\n",
      "[I 2025-03-27 16:11:15,444] Trial 71 finished with value: 0.8970392817059483 and parameters: {'solver_penalty': ('newton-cg', 'l2'), 'C': 0.4595956283409628, 'tol': 0.008712178869177495, 'fit_intercept': False, 'class_weight': None}. Best is trial 65 with value: 0.8975802469135803.\n",
      "[I 2025-03-27 16:11:15,843] Trial 72 finished with value: 0.8972536475869809 and parameters: {'solver_penalty': ('newton-cg', 'l2'), 'C': 0.19014475903897832, 'tol': 0.009039128796823849, 'fit_intercept': False, 'class_weight': None}. Best is trial 65 with value: 0.8975802469135803.\n",
      "[I 2025-03-27 16:11:20,235] Trial 75 finished with value: 0.8972020202020203 and parameters: {'solver_penalty': ('liblinear', 'l1'), 'C': 0.17773153032643055, 'tol': 0.00427599048979261, 'fit_intercept': False, 'class_weight': None}. Best is trial 65 with value: 0.8975802469135803.\n",
      "[I 2025-03-27 16:11:20,446] Trial 76 finished with value: 0.897635241301908 and parameters: {'solver_penalty': ('liblinear', 'l1'), 'C': 0.2424888868350361, 'tol': 0.006653938814483928, 'fit_intercept': False, 'class_weight': None}. Best is trial 76 with value: 0.897635241301908.\n",
      "[I 2025-03-27 16:11:22,173] Trial 73 finished with value: 0.8969326599326599 and parameters: {'solver_penalty': ('newton-cg', 'l2'), 'C': 0.24031155365509718, 'tol': 0.006963035981521376, 'fit_intercept': False, 'class_weight': None}. Best is trial 76 with value: 0.897635241301908.\n",
      "[I 2025-03-27 16:11:25,716] Trial 77 finished with value: 0.8972323232323232 and parameters: {'solver_penalty': ('liblinear', 'l1'), 'C': 0.2175940684568557, 'tol': 0.008203823719812502, 'fit_intercept': False, 'class_weight': None}. Best is trial 76 with value: 0.897635241301908.\n",
      "[I 2025-03-27 16:11:26,874] Trial 78 finished with value: 0.8937755331088664 and parameters: {'solver_penalty': ('liblinear', 'l1'), 'C': 0.3810424021925318, 'tol': 0.0066003684855519655, 'fit_intercept': False, 'class_weight': 'balanced'}. Best is trial 76 with value: 0.897635241301908.\n",
      "[I 2025-03-27 16:11:27,472] Trial 79 finished with value: 0.8973804713804714 and parameters: {'solver_penalty': ('liblinear', 'l1'), 'C': 0.19790716331483132, 'tol': 0.0071628775549684495, 'fit_intercept': False, 'class_weight': None}. Best is trial 76 with value: 0.897635241301908.\n",
      "[I 2025-03-27 16:11:31,015] Trial 81 finished with value: 0.8969023569023569 and parameters: {'solver_penalty': ('liblinear', 'l2'), 'C': 0.3548045489331248, 'tol': 0.003726766082349141, 'fit_intercept': False, 'class_weight': None}. Best is trial 76 with value: 0.897635241301908.\n",
      "[I 2025-03-27 16:11:32,417] Trial 74 finished with value: 0.8966094276094275 and parameters: {'solver_penalty': ('newton-cg', 'l2'), 'C': 0.3459802914631385, 'tol': 0.004597098774783289, 'fit_intercept': False, 'class_weight': None}. Best is trial 76 with value: 0.897635241301908.\n",
      "[I 2025-03-27 16:11:35,858] Trial 80 finished with value: 0.8974006734006734 and parameters: {'solver_penalty': ('lbfgs', 'l2'), 'C': 0.3634158277351574, 'tol': 0.005449459001261757, 'fit_intercept': False, 'class_weight': None}. Best is trial 76 with value: 0.897635241301908.\n",
      "[I 2025-03-27 16:11:36,805] Trial 82 finished with value: 0.8973647586980922 and parameters: {'solver_penalty': ('lbfgs', 'l2'), 'C': 0.3183020463424573, 'tol': 0.008284395655238752, 'fit_intercept': True, 'class_weight': None}. Best is trial 76 with value: 0.897635241301908.\n",
      "[I 2025-03-27 16:11:37,027] Trial 84 finished with value: 0.8973164983164984 and parameters: {'solver_penalty': ('liblinear', 'l2'), 'C': 0.04574789861637463, 'tol': 0.008650793063757004, 'fit_intercept': False, 'class_weight': None}. Best is trial 76 with value: 0.897635241301908.\n",
      "[I 2025-03-27 16:11:38,463] Trial 83 finished with value: 0.8972727272727273 and parameters: {'solver_penalty': ('newton-cholesky', 'l2'), 'C': 0.045331978739722736, 'tol': 0.0026154669928803967, 'fit_intercept': True, 'class_weight': None}. Best is trial 76 with value: 0.897635241301908.\n",
      "[I 2025-03-27 16:11:44,291] Trial 85 finished with value: 0.8965005611672279 and parameters: {'solver_penalty': ('lbfgs', 'l2'), 'C': 0.29082562855185096, 'tol': 0.0048903316764743925, 'fit_intercept': False, 'class_weight': None}. Best is trial 76 with value: 0.897635241301908.\n",
      "[I 2025-03-27 16:11:44,894] Trial 88 finished with value: 0.8888080808080807 and parameters: {'solver_penalty': ('newton-cholesky', 'l2'), 'C': 0.8655884150786713, 'tol': 0.006214506823169342, 'fit_intercept': False, 'class_weight': 'balanced'}. Best is trial 76 with value: 0.897635241301908.\n",
      "[I 2025-03-27 16:11:44,896] Trial 87 finished with value: 0.8972143658810325 and parameters: {'solver_penalty': ('lbfgs', 'l2'), 'C': 0.4905382358502173, 'tol': 0.00711743261335237, 'fit_intercept': False, 'class_weight': None}. Best is trial 76 with value: 0.897635241301908.\n",
      "[I 2025-03-27 16:11:47,262] Trial 86 finished with value: 0.8959203142536476 and parameters: {'solver_penalty': ('newton-cg', None), 'C': 0.029310252255091908, 'tol': 0.00694359497427238, 'fit_intercept': False, 'class_weight': None}. Best is trial 76 with value: 0.897635241301908.\n",
      "[I 2025-03-27 16:11:52,118] Trial 89 finished with value: 0.8963838383838385 and parameters: {'solver_penalty': ('newton-cholesky', None), 'C': 0.4512076794919818, 'tol': 0.005963256725638562, 'fit_intercept': True, 'class_weight': None}. Best is trial 76 with value: 0.897635241301908.\n",
      "[I 2025-03-27 16:11:52,351] Trial 91 finished with value: 0.8969708193041526 and parameters: {'solver_penalty': ('newton-cholesky', 'l2'), 'C': 0.2262083466783817, 'tol': 0.008103818218960045, 'fit_intercept': False, 'class_weight': None}. Best is trial 76 with value: 0.897635241301908.\n",
      "[I 2025-03-27 16:11:52,749] Trial 90 finished with value: 0.8963580246913581 and parameters: {'solver_penalty': ('newton-cholesky', None), 'C': 0.21667069961277072, 'tol': 0.0013331845248014886, 'fit_intercept': True, 'class_weight': None}. Best is trial 76 with value: 0.897635241301908.\n",
      "[I 2025-03-27 16:11:55,401] Trial 92 finished with value: 0.8974029180695848 and parameters: {'solver_penalty': ('newton-cholesky', 'l2'), 'C': 0.01621762161112192, 'tol': 0.005772347524294983, 'fit_intercept': False, 'class_weight': None}. Best is trial 76 with value: 0.897635241301908.\n",
      "[I 2025-03-27 16:11:56,938] Trial 93 finished with value: 0.8974040404040404 and parameters: {'solver_penalty': ('liblinear', 'l2'), 'C': 0.022071836770204623, 'tol': 0.0010466280091800274, 'fit_intercept': True, 'class_weight': None}. Best is trial 76 with value: 0.897635241301908.\n",
      "[I 2025-03-27 16:11:57,915] Trial 95 finished with value: 0.8970078563411896 and parameters: {'solver_penalty': ('liblinear', 'l1'), 'C': 0.24498822655140723, 'tol': 0.006360330397609505, 'fit_intercept': True, 'class_weight': None}. Best is trial 76 with value: 0.897635241301908.\n",
      "[I 2025-03-27 16:12:01,998] Trial 97 finished with value: 0.897070707070707 and parameters: {'solver_penalty': ('liblinear', 'l1'), 'C': 0.10175830131973862, 'tol': 0.005824902589006521, 'fit_intercept': True, 'class_weight': None}. Best is trial 76 with value: 0.897635241301908.\n",
      "[I 2025-03-27 16:12:04,931] Trial 96 finished with value: 0.8973838383838384 and parameters: {'solver_penalty': ('newton-cholesky', 'l2'), 'C': 0.020659319529016635, 'tol': 0.006070600395823902, 'fit_intercept': True, 'class_weight': None}. Best is trial 76 with value: 0.897635241301908.\n",
      "[I 2025-03-27 16:12:06,273] Trial 99 finished with value: 0.8971021324354658 and parameters: {'solver_penalty': ('liblinear', 'l2'), 'C': 0.10831650478679168, 'tol': 0.0005340794522800225, 'fit_intercept': True, 'class_weight': None}. Best is trial 76 with value: 0.897635241301908.\n",
      "[I 2025-03-27 16:12:06,467] Trial 98 finished with value: 0.8972424242424242 and parameters: {'solver_penalty': ('newton-cholesky', 'l2'), 'C': 0.05986943415615788, 'tol': 0.005320632595006501, 'fit_intercept': False, 'class_weight': None}. Best is trial 76 with value: 0.897635241301908.\n",
      "[I 2025-03-27 16:12:10,704] Trial 101 finished with value: 0.8973569023569024 and parameters: {'solver_penalty': ('liblinear', 'l1'), 'C': 0.21144442425537402, 'tol': 0.0098832751148346, 'fit_intercept': False, 'class_weight': None}. Best is trial 76 with value: 0.897635241301908.\n",
      "[I 2025-03-27 16:12:12,253] Trial 94 finished with value: 0.8962772166105499 and parameters: {'solver_penalty': ('lbfgs', 'l2'), 'C': 0.6199131782910433, 'tol': 0.0016180820880906215, 'fit_intercept': True, 'class_weight': 'balanced'}. Best is trial 76 with value: 0.897635241301908.\n",
      "[I 2025-03-27 16:12:12,657] Trial 100 finished with value: 0.8970886644219978 and parameters: {'solver_penalty': ('newton-cholesky', 'l2'), 'C': 0.12948318965391242, 'tol': 0.006582104894619602, 'fit_intercept': False, 'class_weight': None}. Best is trial 76 with value: 0.897635241301908.\n",
      "[I 2025-03-27 16:12:15,909] Trial 103 finished with value: 0.8970258136924805 and parameters: {'solver_penalty': ('liblinear', 'l2'), 'C': 0.16858373291863463, 'tol': 0.003598473161479035, 'fit_intercept': True, 'class_weight': None}. Best is trial 76 with value: 0.897635241301908.\n",
      "[I 2025-03-27 16:12:16,100] Trial 102 finished with value: 0.8975533108866443 and parameters: {'solver_penalty': ('lbfgs', 'l2'), 'C': 0.0035862808548234176, 'tol': 0.005772926885186969, 'fit_intercept': False, 'class_weight': None}. Best is trial 76 with value: 0.897635241301908.\n",
      "[I 2025-03-27 16:12:18,039] Trial 105 finished with value: 0.8966228956228957 and parameters: {'solver_penalty': ('liblinear', 'l2'), 'C': 0.9255595233288826, 'tol': 0.005339226421765798, 'fit_intercept': True, 'class_weight': None}. Best is trial 76 with value: 0.897635241301908.\n",
      "[I 2025-03-27 16:12:21,567] Trial 107 finished with value: 0.8963793490460157 and parameters: {'solver_penalty': ('liblinear', 'l1'), 'C': 0.11312315229778167, 'tol': 0.009262993306640223, 'fit_intercept': False, 'class_weight': 'balanced'}. Best is trial 76 with value: 0.897635241301908.\n",
      "[I 2025-03-27 16:12:21,588] Trial 104 finished with value: 0.8974141414141414 and parameters: {'solver_penalty': ('newton-cholesky', 'l2'), 'C': 0.019391003257357632, 'tol': 0.008489646492824032, 'fit_intercept': False, 'class_weight': None}. Best is trial 76 with value: 0.897635241301908.\n",
      "[I 2025-03-27 16:12:25,896] Trial 106 finished with value: 0.8975847362514029 and parameters: {'solver_penalty': ('lbfgs', 'l2'), 'C': 0.002667137851950269, 'tol': 0.0009082451009596303, 'fit_intercept': True, 'class_weight': None}. Best is trial 76 with value: 0.897635241301908.\n",
      "[I 2025-03-27 16:12:27,480] Trial 108 finished with value: 0.896912457912458 and parameters: {'solver_penalty': ('lbfgs', 'l2'), 'C': 0.08566655934163668, 'tol': 0.004921888112634273, 'fit_intercept': False, 'class_weight': None}. Best is trial 76 with value: 0.897635241301908.\n",
      "[I 2025-03-27 16:12:27,893] Trial 110 finished with value: 0.8962772166105499 and parameters: {'solver_penalty': ('newton-cholesky', None), 'C': 0.011725817743804334, 'tol': 0.004262548325167832, 'fit_intercept': False, 'class_weight': None}. Best is trial 76 with value: 0.897635241301908.\n",
      "[I 2025-03-27 16:12:28,740] Trial 109 finished with value: 0.8973546576879909 and parameters: {'solver_penalty': ('lbfgs', 'l2'), 'C': 0.22197192734953747, 'tol': 0.006471121953246439, 'fit_intercept': False, 'class_weight': None}. Best is trial 76 with value: 0.897635241301908.\n",
      "[I 2025-03-27 16:12:34,960] Trial 113 finished with value: 0.8978552188552189 and parameters: {'solver_penalty': ('newton-cg', 'l2'), 'C': 0.0003782914132151641, 'tol': 0.002919933657968108, 'fit_intercept': True, 'class_weight': None}. Best is trial 113 with value: 0.8978552188552189.\n",
      "[I 2025-03-27 16:12:36,156] Trial 111 finished with value: 0.8971941638608305 and parameters: {'solver_penalty': ('newton-cg', 'l2'), 'C': 0.06553490370963476, 'tol': 0.0005651675366615024, 'fit_intercept': True, 'class_weight': None}. Best is trial 113 with value: 0.8978552188552189.\n",
      "[I 2025-03-27 16:12:36,367] Trial 112 finished with value: 0.8965072951739619 and parameters: {'solver_penalty': ('newton-cg', None), 'C': 0.7072314969907639, 'tol': 0.0015636283041226165, 'fit_intercept': False, 'class_weight': None}. Best is trial 113 with value: 0.8978552188552189.\n",
      "[I 2025-03-27 16:12:36,593] Trial 114 finished with value: 0.8973232323232323 and parameters: {'solver_penalty': ('newton-cg', 'l2'), 'C': 0.013581318829440312, 'tol': 0.0025669755592196163, 'fit_intercept': True, 'class_weight': None}. Best is trial 113 with value: 0.8978552188552189.\n",
      "[I 2025-03-27 16:12:40,652] Trial 118 finished with value: 0.8967115600448934 and parameters: {'solver_penalty': ('liblinear', 'l2'), 'C': 0.1824981240691773, 'tol': 0.0007548189341713063, 'fit_intercept': True, 'class_weight': 'balanced'}. Best is trial 113 with value: 0.8978552188552189.\n",
      "[I 2025-03-27 16:12:44,041] Trial 117 finished with value: 0.8973625140291808 and parameters: {'solver_penalty': ('lbfgs', 'l2'), 'C': 0.005652905792671246, 'tol': 0.0002053681889243519, 'fit_intercept': True, 'class_weight': 'balanced'}. Best is trial 113 with value: 0.8978552188552189.\n",
      "[I 2025-03-27 16:12:46,203] Trial 119 finished with value: 0.8972166105499438 and parameters: {'solver_penalty': ('newton-cholesky', 'l2'), 'C': 0.07332089644418327, 'tol': 0.008459506177698995, 'fit_intercept': False, 'class_weight': None}. Best is trial 113 with value: 0.8978552188552189.\n",
      "[I 2025-03-27 16:12:46,208] Trial 115 finished with value: 0.8977194163860831 and parameters: {'solver_penalty': ('newton-cg', 'l2'), 'C': 0.000913472999233802, 'tol': 0.0011151933892747923, 'fit_intercept': True, 'class_weight': None}. Best is trial 113 with value: 0.8978552188552189.\n",
      "[I 2025-03-27 16:12:48,596] Trial 116 finished with value: 0.8968507295173962 and parameters: {'solver_penalty': ('newton-cg', 'l2'), 'C': 0.13084201134024687, 'tol': 0.0043368436539198245, 'fit_intercept': True, 'class_weight': None}. Best is trial 113 with value: 0.8978552188552189.\n",
      "[I 2025-03-27 16:12:48,605] Trial 120 finished with value: 0.8969674523007858 and parameters: {'solver_penalty': ('newton-cholesky', 'l2'), 'C': 0.16809165530204512, 'tol': 0.00999270347950917, 'fit_intercept': False, 'class_weight': None}. Best is trial 113 with value: 0.8978552188552189.\n",
      "[I 2025-03-27 16:12:54,151] Trial 123 finished with value: 0.8881896745230078 and parameters: {'solver_penalty': ('lbfgs', None), 'C': 0.26916204541982824, 'tol': 0.0029368615986501132, 'fit_intercept': False, 'class_weight': 'balanced'}. Best is trial 113 with value: 0.8978552188552189.\n",
      "[I 2025-03-27 16:12:57,271] Trial 125 finished with value: 0.897391694725028 and parameters: {'solver_penalty': ('liblinear', 'l2'), 'C': 0.031718809803719966, 'tol': 0.0015271822783639428, 'fit_intercept': True, 'class_weight': None}. Best is trial 113 with value: 0.8978552188552189.\n",
      "[I 2025-03-27 16:12:58,050] Trial 124 finished with value: 0.897016835016835 and parameters: {'solver_penalty': ('newton-cg', 'l2'), 'C': 0.16265133757143027, 'tol': 0.0003513141729867172, 'fit_intercept': False, 'class_weight': None}. Best is trial 113 with value: 0.8978552188552189.\n",
      "[I 2025-03-27 16:13:00,132] Trial 121 finished with value: 0.8970920314253648 and parameters: {'solver_penalty': ('newton-cg', 'l2'), 'C': 0.04301965029093645, 'tol': 0.0022891017059329, 'fit_intercept': True, 'class_weight': 'balanced'}. Best is trial 113 with value: 0.8978552188552189.\n",
      "[I 2025-03-27 16:13:01,442] Trial 122 finished with value: 0.8963771043771045 and parameters: {'solver_penalty': ('newton-cg', None), 'C': 0.06812697374559203, 'tol': 0.0002329875752858508, 'fit_intercept': True, 'class_weight': None}. Best is trial 113 with value: 0.8978552188552189.\n",
      "[I 2025-03-27 16:13:01,446] Trial 126 finished with value: 0.8968742985409652 and parameters: {'solver_penalty': ('liblinear', 'l2'), 'C': 0.1397152035170428, 'tol': 0.00591863188815845, 'fit_intercept': False, 'class_weight': None}. Best is trial 113 with value: 0.8978552188552189.\n",
      "[I 2025-03-27 16:13:02,819] Trial 127 finished with value: 0.8969472502805835 and parameters: {'solver_penalty': ('liblinear', 'l1'), 'C': 0.028117943549968022, 'tol': 0.005106588426557389, 'fit_intercept': False, 'class_weight': None}. Best is trial 113 with value: 0.8978552188552189.\n",
      "[I 2025-03-27 16:13:05,804] Trial 128 finished with value: 0.8972850729517396 and parameters: {'solver_penalty': ('liblinear', 'l2'), 'C': 0.05176788715890208, 'tol': 0.0008281790862606604, 'fit_intercept': False, 'class_weight': None}. Best is trial 113 with value: 0.8978552188552189.\n",
      "[I 2025-03-27 16:13:07,174] Trial 130 finished with value: 0.8912648709315376 and parameters: {'solver_penalty': ('liblinear', 'l1'), 'C': 0.5825051241998165, 'tol': 0.0018062467650893483, 'fit_intercept': False, 'class_weight': 'balanced'}. Best is trial 113 with value: 0.8978552188552189.\n",
      "[I 2025-03-27 16:13:12,937] Trial 132 finished with value: 0.8960415263748597 and parameters: {'solver_penalty': ('lbfgs', 'l2'), 'C': 0.5410387258266359, 'tol': 0.0033419007005242034, 'fit_intercept': False, 'class_weight': None}. Best is trial 113 with value: 0.8978552188552189.\n",
      "[I 2025-03-27 16:13:13,350] Trial 129 finished with value: 0.8971683501683502 and parameters: {'solver_penalty': ('newton-cg', 'l2'), 'C': 0.05307019034510825, 'tol': 0.0055192172848035626, 'fit_intercept': False, 'class_weight': None}. Best is trial 113 with value: 0.8978552188552189.\n",
      "[I 2025-03-27 16:13:13,751] Trial 133 finished with value: 0.8973322109988775 and parameters: {'solver_penalty': ('lbfgs', 'l2'), 'C': 0.03711819867024686, 'tol': 0.0056741374622272436, 'fit_intercept': False, 'class_weight': None}. Best is trial 113 with value: 0.8978552188552189.\n",
      "[I 2025-03-27 16:13:16,619] Trial 131 finished with value: 0.8973658810325478 and parameters: {'solver_penalty': ('lbfgs', 'l2'), 'C': 0.020132789716198085, 'tol': 5.612689607631307e-06, 'fit_intercept': True, 'class_weight': None}. Best is trial 113 with value: 0.8978552188552189.\n",
      "[I 2025-03-27 16:13:16,826] Trial 134 finished with value: 0.8972345679012346 and parameters: {'solver_penalty': ('liblinear', 'l2'), 'C': 0.0623454813926575, 'tol': 0.0020413428629866663, 'fit_intercept': True, 'class_weight': None}. Best is trial 113 with value: 0.8978552188552189.\n",
      "[I 2025-03-27 16:13:21,539] Trial 136 finished with value: 0.8972514029180695 and parameters: {'solver_penalty': ('lbfgs', None), 'C': 0.021518605285116173, 'tol': 0.009190179067394895, 'fit_intercept': False, 'class_weight': None}. Best is trial 113 with value: 0.8978552188552189.\n",
      "[I 2025-03-27 16:13:21,563] Trial 135 finished with value: 0.8974814814814815 and parameters: {'solver_penalty': ('lbfgs', 'l2'), 'C': 0.006351429591180438, 'tol': 0.000595647295036393, 'fit_intercept': True, 'class_weight': None}. Best is trial 113 with value: 0.8978552188552189.\n",
      "[I 2025-03-27 16:13:23,596] Trial 137 finished with value: 0.896077441077441 and parameters: {'solver_penalty': ('lbfgs', None), 'C': 0.2797483316653753, 'tol': 0.0037857407414898393, 'fit_intercept': True, 'class_weight': None}. Best is trial 113 with value: 0.8978552188552189.\n",
      "[I 2025-03-27 16:13:27,409] Trial 140 finished with value: 0.8961851851851851 and parameters: {'solver_penalty': ('lbfgs', None), 'C': 0.3840825016051198, 'tol': 0.003779168056753431, 'fit_intercept': False, 'class_weight': None}. Best is trial 113 with value: 0.8978552188552189.\n",
      "[I 2025-03-27 16:13:28,396] Trial 138 finished with value: 0.8959831649831651 and parameters: {'solver_penalty': ('newton-cg', None), 'C': 0.030489555825153183, 'tol': 0.004135998254904315, 'fit_intercept': True, 'class_weight': None}. Best is trial 113 with value: 0.8978552188552189.\n",
      "[I 2025-03-27 16:13:31,948] Trial 141 finished with value: 0.8968922558922559 and parameters: {'solver_penalty': ('lbfgs', 'l2'), 'C': 0.08084683389306205, 'tol': 0.0017250460010508973, 'fit_intercept': True, 'class_weight': None}. Best is trial 113 with value: 0.8978552188552189.\n",
      "[I 2025-03-27 16:13:32,762] Trial 139 finished with value: 0.8959831649831651 and parameters: {'solver_penalty': ('newton-cg', None), 'C': 0.044019765655529126, 'tol': 0.004345554460908199, 'fit_intercept': True, 'class_weight': None}. Best is trial 113 with value: 0.8978552188552189.\n",
      "[I 2025-03-27 16:13:34,647] Trial 142 finished with value: 0.8933052749719417 and parameters: {'solver_penalty': ('lbfgs', 'l2'), 'C': 0.8765366201697484, 'tol': 0.009058510342597224, 'fit_intercept': False, 'class_weight': 'balanced'}. Best is trial 113 with value: 0.8978552188552189.\n",
      "[I 2025-03-27 16:13:36,789] Trial 143 finished with value: 0.8963681257014589 and parameters: {'solver_penalty': ('newton-cholesky', None), 'C': 0.005214705781614771, 'tol': 0.00037933420508109907, 'fit_intercept': True, 'class_weight': None}. Best is trial 113 with value: 0.8978552188552189.\n",
      "[I 2025-03-27 16:13:37,203] Trial 144 finished with value: 0.8974197530864196 and parameters: {'solver_penalty': ('liblinear', 'l2'), 'C': 0.031141641307456978, 'tol': 0.0027059780387125457, 'fit_intercept': True, 'class_weight': None}. Best is trial 113 with value: 0.8978552188552189.\n",
      "[I 2025-03-27 16:13:38,363] Trial 145 finished with value: 0.8971683501683502 and parameters: {'solver_penalty': ('liblinear', 'l2'), 'C': 0.06311995359423107, 'tol': 0.0013224608515816161, 'fit_intercept': True, 'class_weight': None}. Best is trial 113 with value: 0.8978552188552189.\n",
      "[I 2025-03-27 16:13:41,571] Trial 147 finished with value: 0.8973288439955107 and parameters: {'solver_penalty': ('liblinear', 'l2'), 'C': 0.02163730911393037, 'tol': 0.0022731410610408362, 'fit_intercept': True, 'class_weight': None}. Best is trial 113 with value: 0.8978552188552189.\n",
      "[I 2025-03-27 16:13:44,151] Trial 146 finished with value: 0.893381593714927 and parameters: {'solver_penalty': ('newton-cholesky', 'l2'), 'C': 0.07516590331807663, 'tol': 0.008860568126127547, 'fit_intercept': False, 'class_weight': 'balanced'}. Best is trial 113 with value: 0.8978552188552189.\n",
      "[I 2025-03-27 16:13:46,557] Trial 149 finished with value: 0.8969450056116722 and parameters: {'solver_penalty': ('newton-cholesky', 'l2'), 'C': 0.2427922359793603, 'tol': 0.0005341362238641418, 'fit_intercept': True, 'class_weight': None}. Best is trial 113 with value: 0.8978552188552189.\n",
      "[I 2025-03-27 16:13:47,146] Trial 148 finished with value: 0.897388327721661 and parameters: {'solver_penalty': ('lbfgs', 'l2'), 'C': 0.051120645916288496, 'tol': 0.008419221263615738, 'fit_intercept': True, 'class_weight': None}. Best is trial 113 with value: 0.8978552188552189.\n",
      "[I 2025-03-27 16:13:49,281] Trial 150 finished with value: 0.8972985409652076 and parameters: {'solver_penalty': ('lbfgs', 'l2'), 'C': 0.07700844251113102, 'tol': 0.007918838203228057, 'fit_intercept': False, 'class_weight': None}. Best is trial 113 with value: 0.8978552188552189.\n",
      "[I 2025-03-27 16:13:52,779] Trial 152 finished with value: 0.8974377104377104 and parameters: {'solver_penalty': ('lbfgs', 'l2'), 'C': 0.007022562058056076, 'tol': 0.006959542722118594, 'fit_intercept': False, 'class_weight': None}. Best is trial 113 with value: 0.8978552188552189.\n",
      "[I 2025-03-27 16:13:52,988] Trial 153 finished with value: 0.8970527497194163 and parameters: {'solver_penalty': ('newton-cholesky', 'l2'), 'C': 0.15191197396262812, 'tol': 0.002779755111934074, 'fit_intercept': False, 'class_weight': None}. Best is trial 113 with value: 0.8978552188552189.\n",
      "[I 2025-03-27 16:13:55,153] Trial 151 finished with value: 0.8976049382716049 and parameters: {'solver_penalty': ('newton-cg', 'l2'), 'C': 0.0027367843234988565, 'tol': 0.0019844559536833064, 'fit_intercept': True, 'class_weight': None}. Best is trial 113 with value: 0.8978552188552189.\n",
      "[I 2025-03-27 16:13:57,953] Trial 155 finished with value: 0.897384960718294 and parameters: {'solver_penalty': ('lbfgs', 'l2'), 'C': 0.0208848388684415, 'tol': 0.007410841567777356, 'fit_intercept': False, 'class_weight': None}. Best is trial 113 with value: 0.8978552188552189.\n",
      "[I 2025-03-27 16:14:00,095] Trial 154 finished with value: 0.8970695847362515 and parameters: {'solver_penalty': ('newton-cg', 'l2'), 'C': 0.06980321301016047, 'tol': 0.0018540217967919687, 'fit_intercept': True, 'class_weight': None}. Best is trial 113 with value: 0.8978552188552189.\n",
      "[I 2025-03-27 16:14:01,669] Trial 156 finished with value: 0.897645342312009 and parameters: {'solver_penalty': ('newton-cg', 'l2'), 'C': 0.001656231598250145, 'tol': 0.0008074208715358848, 'fit_intercept': True, 'class_weight': None}. Best is trial 113 with value: 0.8978552188552189.\n",
      "[I 2025-03-27 16:14:05,362] Trial 158 finished with value: 0.8972525252525253 and parameters: {'solver_penalty': ('lbfgs', 'l2'), 'C': 0.020581135076202402, 'tol': 0.0018970511412702792, 'fit_intercept': False, 'class_weight': None}. Best is trial 113 with value: 0.8978552188552189.\n",
      "[I 2025-03-27 16:14:05,765] Trial 160 finished with value: 0.8974006734006734 and parameters: {'solver_penalty': ('liblinear', 'l1'), 'C': 0.2057542602348893, 'tol': 0.0024137110032188508, 'fit_intercept': True, 'class_weight': None}. Best is trial 113 with value: 0.8978552188552189.\n",
      "[I 2025-03-27 16:14:08,209] Trial 157 finished with value: 0.8971301907968576 and parameters: {'solver_penalty': ('newton-cg', 'l2'), 'C': 0.11083235471789118, 'tol': 0.0012399238310336447, 'fit_intercept': True, 'class_weight': None}. Best is trial 113 with value: 0.8978552188552189.\n",
      "[I 2025-03-27 16:14:09,570] Trial 159 finished with value: 0.8967744107744107 and parameters: {'solver_penalty': ('lbfgs', 'l2'), 'C': 0.055406082384584776, 'tol': 0.0022997055981800263, 'fit_intercept': False, 'class_weight': None}. Best is trial 113 with value: 0.8978552188552189.\n",
      "[I 2025-03-27 16:14:09,575] Trial 161 finished with value: 0.8964781144781144 and parameters: {'solver_penalty': ('liblinear', 'l1'), 'C': 0.030554984183069983, 'tol': 0.002039155136704521, 'fit_intercept': True, 'class_weight': 'balanced'}. Best is trial 113 with value: 0.8978552188552189.\n",
      "[I 2025-03-27 16:14:13,309] Trial 163 finished with value: 0.8976172839506172 and parameters: {'solver_penalty': ('newton-cholesky', 'l2'), 'C': 0.00352591006681785, 'tol': 0.006457843522238008, 'fit_intercept': False, 'class_weight': None}. Best is trial 113 with value: 0.8978552188552189.\n",
      "[I 2025-03-27 16:14:16,423] Trial 162 finished with value: 0.8973153759820426 and parameters: {'solver_penalty': ('newton-cg', 'l2'), 'C': 0.018683519736345147, 'tol': 0.0011546803465130031, 'fit_intercept': True, 'class_weight': None}. Best is trial 113 with value: 0.8978552188552189.\n",
      "[I 2025-03-27 16:14:18,003] Trial 166 finished with value: 0.8972390572390574 and parameters: {'solver_penalty': ('newton-cholesky', 'l2'), 'C': 0.06373734702219797, 'tol': 0.0061665080820100466, 'fit_intercept': False, 'class_weight': None}. Best is trial 113 with value: 0.8978552188552189.\n",
      "[I 2025-03-27 16:14:20,533] Trial 165 finished with value: 0.8974029180695847 and parameters: {'solver_penalty': ('newton-cg', 'l2'), 'C': 0.03022600555821444, 'tol': 0.0011311116108972117, 'fit_intercept': True, 'class_weight': None}. Best is trial 113 with value: 0.8978552188552189.\n",
      "[I 2025-03-27 16:14:21,134] Trial 164 finished with value: 0.8971358024691358 and parameters: {'solver_penalty': ('newton-cg', 'l2'), 'C': 0.10129994078331307, 'tol': 0.0012380858044920688, 'fit_intercept': True, 'class_weight': None}. Best is trial 113 with value: 0.8978552188552189.\n",
      "[I 2025-03-27 16:14:21,136] Trial 167 finished with value: 0.8974354657687991 and parameters: {'solver_penalty': ('newton-cholesky', 'l2'), 'C': 0.024743298781811626, 'tol': 0.00554224878156507, 'fit_intercept': False, 'class_weight': None}. Best is trial 113 with value: 0.8978552188552189.\n",
      "[I 2025-03-27 16:14:25,233] Trial 171 finished with value: 0.8967048260381595 and parameters: {'solver_penalty': ('liblinear', 'l1'), 'C': 0.012166831821354834, 'tol': 0.006824429439569247, 'fit_intercept': False, 'class_weight': None}. Best is trial 113 with value: 0.8978552188552189.\n",
      "[I 2025-03-27 16:14:29,751] Trial 170 finished with value: 0.897297418630752 and parameters: {'solver_penalty': ('lbfgs', 'l2'), 'C': 0.04220542160594167, 'tol': 0.0059901842955071135, 'fit_intercept': False, 'class_weight': None}. Best is trial 113 with value: 0.8978552188552189.\n",
      "[I 2025-03-27 16:14:29,971] Trial 168 finished with value: 0.8968843995510661 and parameters: {'solver_penalty': ('lbfgs', 'l2'), 'C': 0.33511503716094565, 'tol': 0.0006890188153459548, 'fit_intercept': True, 'class_weight': None}. Best is trial 113 with value: 0.8978552188552189.\n",
      "[I 2025-03-27 16:14:30,579] Trial 169 finished with value: 0.8961806958473625 and parameters: {'solver_penalty': ('lbfgs', None), 'C': 0.01291341651718601, 'tol': 0.002743110754308038, 'fit_intercept': True, 'class_weight': None}. Best is trial 113 with value: 0.8978552188552189.\n",
      "[I 2025-03-27 16:14:30,582] Trial 172 finished with value: 0.8973344556677891 and parameters: {'solver_penalty': ('newton-cholesky', 'l2'), 'C': 0.04509820792216404, 'tol': 0.00767674444789612, 'fit_intercept': False, 'class_weight': None}. Best is trial 113 with value: 0.8978552188552189.\n",
      "[I 2025-03-27 16:14:37,514] Trial 174 finished with value: 0.8969741863075197 and parameters: {'solver_penalty': ('newton-cholesky', 'l2'), 'C': 0.21732186913831497, 'tol': 0.0049045224821545035, 'fit_intercept': False, 'class_weight': None}. Best is trial 113 with value: 0.8978552188552189.\n",
      "[I 2025-03-27 16:14:37,926] Trial 176 finished with value: 0.8977710437710438 and parameters: {'solver_penalty': ('newton-cholesky', 'l2'), 'C': 0.0008527583620061476, 'tol': 0.005775139332893315, 'fit_intercept': False, 'class_weight': None}. Best is trial 113 with value: 0.8978552188552189.\n",
      "[I 2025-03-27 16:14:38,137] Trial 175 finished with value: 0.8969427609427609 and parameters: {'solver_penalty': ('newton-cholesky', 'l2'), 'C': 0.2418249721174383, 'tol': 0.005693385584909225, 'fit_intercept': False, 'class_weight': None}. Best is trial 113 with value: 0.8978552188552189.\n",
      "[I 2025-03-27 16:14:39,600] Trial 173 finished with value: 0.8958585858585858 and parameters: {'solver_penalty': ('lbfgs', None), 'C': 0.00428482689198117, 'tol': 0.0034750901716384458, 'fit_intercept': True, 'class_weight': None}. Best is trial 113 with value: 0.8978552188552189.\n",
      "[I 2025-03-27 16:14:41,702] Trial 178 finished with value: 0.8974029180695847 and parameters: {'solver_penalty': ('liblinear', 'l2'), 'C': 0.03339924360062552, 'tol': 0.005321702121704705, 'fit_intercept': True, 'class_weight': None}. Best is trial 113 with value: 0.8978552188552189.\n",
      "[I 2025-03-27 16:14:43,889] Trial 177 finished with value: 0.8972143658810325 and parameters: {'solver_penalty': ('newton-cholesky', 'l2'), 'C': 0.07451432424400511, 'tol': 0.005273636394342812, 'fit_intercept': False, 'class_weight': None}. Best is trial 113 with value: 0.8978552188552189.\n",
      "[I 2025-03-27 16:14:47,039] Trial 179 finished with value: 0.8971515151515151 and parameters: {'solver_penalty': ('lbfgs', 'l2'), 'C': 0.024536240685182523, 'tol': 0.0026206911535872138, 'fit_intercept': True, 'class_weight': None}. Best is trial 113 with value: 0.8978552188552189.\n",
      "[I 2025-03-27 16:14:49,788] Trial 182 finished with value: 0.8973613916947252 and parameters: {'solver_penalty': ('lbfgs', 'l2'), 'C': 0.009850327248798876, 'tol': 0.0028168320508380456, 'fit_intercept': True, 'class_weight': None}. Best is trial 113 with value: 0.8978552188552189.\n",
      "[I 2025-03-27 16:14:52,548] Trial 180 finished with value: 0.8928294051627386 and parameters: {'solver_penalty': ('newton-cg', 'l2'), 'C': 0.1073693091979547, 'tol': 0.0063343164917258514, 'fit_intercept': False, 'class_weight': 'balanced'}. Best is trial 113 with value: 0.8978552188552189.\n",
      "[I 2025-03-27 16:14:52,939] Trial 181 finished with value: 0.8968462401795736 and parameters: {'solver_penalty': ('newton-cg', 'l2'), 'C': 0.08202329143858467, 'tol': 0.0036985174339511026, 'fit_intercept': True, 'class_weight': None}. Best is trial 113 with value: 0.8978552188552189.\n",
      "[I 2025-03-27 16:14:53,525] Trial 183 finished with value: 0.8904298540965208 and parameters: {'solver_penalty': ('lbfgs', None), 'C': 0.11143769039466711, 'tol': 0.006864973885570835, 'fit_intercept': False, 'class_weight': 'balanced'}. Best is trial 113 with value: 0.8978552188552189.\n",
      "[I 2025-03-27 16:14:56,576] Trial 184 finished with value: 0.8973187429854097 and parameters: {'solver_penalty': ('newton-cholesky', 'l2'), 'C': 0.0491814093475915, 'tol': 0.006464677052203741, 'fit_intercept': False, 'class_weight': None}. Best is trial 113 with value: 0.8978552188552189.\n",
      "[I 2025-03-27 16:14:57,171] Trial 185 finished with value: 0.897388327721661 and parameters: {'solver_penalty': ('liblinear', 'l1'), 'C': 0.2437499177600627, 'tol': 0.007986790370401342, 'fit_intercept': False, 'class_weight': None}. Best is trial 113 with value: 0.8978552188552189.\n",
      "[I 2025-03-27 16:15:01,505] Trial 186 finished with value: 0.8974725028058361 and parameters: {'solver_penalty': ('newton-cholesky', 'l2'), 'C': 0.007350433656567383, 'tol': 0.00013350932579005615, 'fit_intercept': True, 'class_weight': None}. Best is trial 113 with value: 0.8978552188552189.\n",
      "[I 2025-03-27 16:15:01,693] Trial 187 finished with value: 0.896547699214366 and parameters: {'solver_penalty': ('newton-cholesky', 'l2'), 'C': 0.43676680198285733, 'tol': 0.005601307956394345, 'fit_intercept': True, 'class_weight': 'balanced'}. Best is trial 113 with value: 0.8978552188552189.\n",
      "[I 2025-03-27 16:15:04,683] Trial 188 finished with value: 0.8921324354657687 and parameters: {'solver_penalty': ('lbfgs', 'l2'), 'C': 0.1430692828894481, 'tol': 0.004568629399749294, 'fit_intercept': False, 'class_weight': 'balanced'}. Best is trial 113 with value: 0.8978552188552189.\n",
      "[I 2025-03-27 16:15:07,410] Trial 189 finished with value: 0.897331088664422 and parameters: {'solver_penalty': ('lbfgs', 'l2'), 'C': 0.02485790695685606, 'tol': 0.0004721554566138188, 'fit_intercept': True, 'class_weight': None}. Best is trial 113 with value: 0.8978552188552189.\n",
      "[I 2025-03-27 16:15:07,616] Trial 190 finished with value: 0.8977104377104378 and parameters: {'solver_penalty': ('lbfgs', 'l2'), 'C': 0.0009613423511452774, 'tol': 0.00043645253637079385, 'fit_intercept': True, 'class_weight': None}. Best is trial 113 with value: 0.8978552188552189.\n",
      "[I 2025-03-27 16:15:11,760] Trial 191 finished with value: 0.8972940516273848 and parameters: {'solver_penalty': ('lbfgs', 'l2'), 'C': 0.02771447565224841, 'tol': 0.0006404858741192831, 'fit_intercept': True, 'class_weight': None}. Best is trial 113 with value: 0.8978552188552189.\n",
      "[I 2025-03-27 16:15:11,785] Trial 192 finished with value: 0.8973894500561168 and parameters: {'solver_penalty': ('newton-cholesky', 'l2'), 'C': 0.015153671968984123, 'tol': 0.009171944022580201, 'fit_intercept': True, 'class_weight': None}. Best is trial 113 with value: 0.8978552188552189.\n",
      "[I 2025-03-27 16:15:14,932] Trial 193 finished with value: 0.8971212121212122 and parameters: {'solver_penalty': ('newton-cholesky', 'l2'), 'C': 0.09496758044352045, 'tol': 0.0003617652791965076, 'fit_intercept': True, 'class_weight': None}. Best is trial 113 with value: 0.8978552188552189.\n",
      "[I 2025-03-27 16:15:14,936] Trial 194 finished with value: 0.8970516273849607 and parameters: {'solver_penalty': ('newton-cholesky', 'l2'), 'C': 0.11636551706009463, 'tol': 0.00032368021528063416, 'fit_intercept': True, 'class_weight': None}. Best is trial 113 with value: 0.8978552188552189.\n",
      "[I 2025-03-27 16:15:19,221] Trial 195 finished with value: 0.8975151515151516 and parameters: {'solver_penalty': ('newton-cholesky', 'l2'), 'C': 0.004431155009866504, 'tol': 0.0014361723809546481, 'fit_intercept': True, 'class_weight': None}. Best is trial 113 with value: 0.8978552188552189.\n",
      "[I 2025-03-27 16:15:20,010] Trial 196 finished with value: 0.8973411896745231 and parameters: {'solver_penalty': ('newton-cholesky', 'l2'), 'C': 0.038827955082695285, 'tol': 0.0005253420064450506, 'fit_intercept': True, 'class_weight': None}. Best is trial 113 with value: 0.8978552188552189.\n",
      "[I 2025-03-27 16:15:22,348] Trial 198 finished with value: 0.8973692480359148 and parameters: {'solver_penalty': ('newton-cholesky', 'l2'), 'C': 0.022551831343878295, 'tol': 0.0004937470352235078, 'fit_intercept': True, 'class_weight': None}. Best is trial 113 with value: 0.8978552188552189.\n",
      "[I 2025-03-27 16:15:22,942] Trial 197 finished with value: 0.89737822671156 and parameters: {'solver_penalty': ('newton-cholesky', 'l2'), 'C': 0.024361083428408835, 'tol': 0.0003815833472752742, 'fit_intercept': True, 'class_weight': None}. Best is trial 113 with value: 0.8978552188552189.\n",
      "[I 2025-03-27 16:15:26,059] Trial 199 finished with value: 0.8973468013468014 and parameters: {'solver_penalty': ('newton-cholesky', 'l2'), 'C': 0.01791905704778418, 'tol': 0.0023707981911976657, 'fit_intercept': True, 'class_weight': None}. Best is trial 113 with value: 0.8978552188552189.\n",
      "[I 2025-03-27 16:15:26,464] Trial 200 finished with value: 0.8963838383838385 and parameters: {'solver_penalty': ('newton-cholesky', None), 'C': 0.093808613120474, 'tol': 0.004143592358785231, 'fit_intercept': True, 'class_weight': None}. Best is trial 113 with value: 0.8978552188552189.\n",
      "[I 2025-03-27 16:15:31,173] Trial 204 finished with value: 0.8967138047138047 and parameters: {'solver_penalty': ('liblinear', 'l1'), 'C': 0.7805245142709, 'tol': 0.007823540618413633, 'fit_intercept': True, 'class_weight': 'balanced'}. Best is trial 113 with value: 0.8978552188552189.\n",
      "[I 2025-03-27 16:15:33,335] Trial 202 finished with value: 0.8975499438832772 and parameters: {'solver_penalty': ('newton-cg', 'l2'), 'C': 0.004739445310330749, 'tol': 0.007617582075313206, 'fit_intercept': False, 'class_weight': None}. Best is trial 113 with value: 0.8978552188552189.\n",
      "[I 2025-03-27 16:15:33,351] Trial 203 finished with value: 0.8963838383838385 and parameters: {'solver_penalty': ('newton-cholesky', None), 'C': 0.05426006654179683, 'tol': 0.0032596080254987574, 'fit_intercept': True, 'class_weight': None}. Best is trial 113 with value: 0.8978552188552189.\n",
      "[I 2025-03-27 16:15:36,128] Trial 205 finished with value: 0.8974859708193041 and parameters: {'solver_penalty': ('lbfgs', 'l2'), 'C': 0.006077079778262688, 'tol': 0.006040577848555423, 'fit_intercept': False, 'class_weight': None}. Best is trial 113 with value: 0.8978552188552189.\n",
      "[I 2025-03-27 16:15:36,727] Trial 201 finished with value: 0.8873063973063973 and parameters: {'solver_penalty': ('lbfgs', None), 'C': 0.8229477349094539, 'tol': 0.0007316433159281488, 'fit_intercept': False, 'class_weight': 'balanced'}. Best is trial 113 with value: 0.8978552188552189.\n",
      "[I 2025-03-27 16:15:39,646] Trial 207 finished with value: 0.8964410774410775 and parameters: {'solver_penalty': ('newton-cholesky', 'l2'), 'C': 0.7669213330328398, 'tol': 0.001303423384050692, 'fit_intercept': True, 'class_weight': 'balanced'}. Best is trial 113 with value: 0.8978552188552189.\n",
      "[I 2025-03-27 16:15:41,572] Trial 206 finished with value: 0.8973041526374861 and parameters: {'solver_penalty': ('newton-cg', 'l2'), 'C': 0.060687911136515726, 'tol': 0.00823533474458324, 'fit_intercept': False, 'class_weight': None}. Best is trial 113 with value: 0.8978552188552189.\n",
      "[I 2025-03-27 16:15:44,379] Trial 208 finished with value: 0.897297418630752 and parameters: {'solver_penalty': ('newton-cg', 'l2'), 'C': 0.06260587682996527, 'tol': 0.00811475243639239, 'fit_intercept': False, 'class_weight': None}. Best is trial 113 with value: 0.8978552188552189.\n",
      "[I 2025-03-27 16:15:44,972] Trial 209 finished with value: 0.8971863075196408 and parameters: {'solver_penalty': ('newton-cg', 'l2'), 'C': 0.03909587777563829, 'tol': 0.009626112693384436, 'fit_intercept': False, 'class_weight': None}. Best is trial 113 with value: 0.8978552188552189.\n",
      "[I 2025-03-27 16:15:48,139] Trial 210 finished with value: 0.897236812570146 and parameters: {'solver_penalty': ('newton-cg', 'l2'), 'C': 0.10374971684063619, 'tol': 0.006811025243210758, 'fit_intercept': False, 'class_weight': None}. Best is trial 113 with value: 0.8978552188552189.\n",
      "[I 2025-03-27 16:15:51,243] Trial 212 finished with value: 0.8972514029180695 and parameters: {'solver_penalty': ('lbfgs', None), 'C': 0.40676276296020814, 'tol': 0.009269800173701792, 'fit_intercept': False, 'class_weight': None}. Best is trial 113 with value: 0.8978552188552189.\n",
      "[I 2025-03-27 16:15:51,826] Trial 213 finished with value: 0.895993265993266 and parameters: {'solver_penalty': ('newton-cholesky', None), 'C': 0.22170628832020015, 'tol': 0.0009091446885600742, 'fit_intercept': True, 'class_weight': 'balanced'}. Best is trial 113 with value: 0.8978552188552189.\n",
      "[I 2025-03-27 16:15:52,661] Trial 211 finished with value: 0.8972480359147026 and parameters: {'solver_penalty': ('newton-cg', 'l2'), 'C': 0.024864680512378102, 'tol': 0.002203189004021243, 'fit_intercept': True, 'class_weight': None}. Best is trial 113 with value: 0.8978552188552189.\n",
      "[I 2025-03-27 16:15:54,975] Trial 214 finished with value: 0.8974332210998878 and parameters: {'solver_penalty': ('lbfgs', 'l2'), 'C': 0.012625609525087187, 'tol': 0.004419515809832452, 'fit_intercept': False, 'class_weight': None}. Best is trial 113 with value: 0.8978552188552189.\n",
      "[I 2025-03-27 16:15:58,480] Trial 215 finished with value: 0.8962457912457911 and parameters: {'solver_penalty': ('newton-cholesky', None), 'C': 0.5489761188618166, 'tol': 0.0002834198273820891, 'fit_intercept': False, 'class_weight': None}. Best is trial 113 with value: 0.8978552188552189.\n",
      "[I 2025-03-27 16:16:00,036] Trial 217 finished with value: 0.8974253647586982 and parameters: {'solver_penalty': ('lbfgs', 'l2'), 'C': 0.007220052827014973, 'tol': 0.0051458374400184794, 'fit_intercept': False, 'class_weight': None}. Best is trial 113 with value: 0.8978552188552189.\n",
      "[I 2025-03-27 16:16:00,042] Trial 216 finished with value: 0.8968731762065096 and parameters: {'solver_penalty': ('newton-cholesky', 'l2'), 'C': 0.09636438671354797, 'tol': 0.000372479625153823, 'fit_intercept': True, 'class_weight': 'balanced'}. Best is trial 113 with value: 0.8978552188552189.\n",
      "[I 2025-03-27 16:16:05,402] Trial 218 finished with value: 0.8967250280583612 and parameters: {'solver_penalty': ('lbfgs', 'l2'), 'C': 0.11540457391320057, 'tol': 0.004306040805512133, 'fit_intercept': False, 'class_weight': None}. Best is trial 113 with value: 0.8978552188552189.\n",
      "[I 2025-03-27 16:16:05,810] Trial 221 finished with value: 0.8980280583613918 and parameters: {'solver_penalty': ('lbfgs', 'l2'), 'C': 0.00013629929846768578, 'tol': 0.0035768429839644717, 'fit_intercept': False, 'class_weight': None}. Best is trial 221 with value: 0.8980280583613918.\n",
      "[I 2025-03-27 16:16:06,037] Trial 219 finished with value: 0.8973973063973064 and parameters: {'solver_penalty': ('lbfgs', 'l2'), 'C': 0.010096667834067414, 'tol': 0.0034745095924202593, 'fit_intercept': False, 'class_weight': None}. Best is trial 221 with value: 0.8980280583613918.\n",
      "[I 2025-03-27 16:16:09,543] Trial 220 finished with value: 0.8973524130190796 and parameters: {'solver_penalty': ('lbfgs', 'l2'), 'C': 0.039917407299971785, 'tol': 0.005914492036321539, 'fit_intercept': False, 'class_weight': None}. Best is trial 221 with value: 0.8980280583613918.\n",
      "[I 2025-03-27 16:16:10,536] Trial 224 finished with value: 0.895922558922559 and parameters: {'solver_penalty': ('liblinear', 'l1'), 'C': 0.010763558902482512, 'tol': 0.001311988387317903, 'fit_intercept': False, 'class_weight': None}. Best is trial 221 with value: 0.8980280583613918.\n",
      "[I 2025-03-27 16:16:14,346] Trial 222 finished with value: 0.8973681257014591 and parameters: {'solver_penalty': ('lbfgs', 'l2'), 'C': 0.04614502706268965, 'tol': 0.00444239610394114, 'fit_intercept': False, 'class_weight': None}. Best is trial 221 with value: 0.8980280583613918.\n",
      "[I 2025-03-27 16:16:14,361] Trial 223 finished with value: 0.897401795735129 and parameters: {'solver_penalty': ('lbfgs', 'l2'), 'C': 0.019602120672379365, 'tol': 0.005589432001840461, 'fit_intercept': False, 'class_weight': None}. Best is trial 221 with value: 0.8980280583613918.\n",
      "[I 2025-03-27 16:16:17,171] Trial 225 finished with value: 0.8961851851851851 and parameters: {'solver_penalty': ('lbfgs', None), 'C': 0.08116933063860685, 'tol': 0.004070197839789672, 'fit_intercept': False, 'class_weight': None}. Best is trial 221 with value: 0.8980280583613918.\n",
      "[I 2025-03-27 16:16:18,558] Trial 226 finished with value: 0.8974175084175084 and parameters: {'solver_penalty': ('lbfgs', 'l2'), 'C': 0.020223897079620894, 'tol': 0.004401103506433617, 'fit_intercept': False, 'class_weight': None}. Best is trial 221 with value: 0.8980280583613918.\n",
      "[I 2025-03-27 16:16:21,243] Trial 228 finished with value: 0.8959685746352414 and parameters: {'solver_penalty': ('newton-cholesky', None), 'C': 0.7469929643259083, 'tol': 0.005564368514522222, 'fit_intercept': True, 'class_weight': 'balanced'}. Best is trial 221 with value: 0.8980280583613918.\n",
      "[I 2025-03-27 16:16:22,437] Trial 230 finished with value: 0.8971762065095398 and parameters: {'solver_penalty': ('liblinear', 'l1'), 'C': 0.3079086327710238, 'tol': 0.006118871227625029, 'fit_intercept': False, 'class_weight': None}. Best is trial 221 with value: 0.8980280583613918.\n",
      "[I 2025-03-27 16:16:25,764] Trial 227 finished with value: 0.8972199775533107 and parameters: {'solver_penalty': ('newton-cg', 'l2'), 'C': 0.036792531133204166, 'tol': 0.0033222450300789373, 'fit_intercept': False, 'class_weight': None}. Best is trial 221 with value: 0.8980280583613918.\n",
      "[I 2025-03-27 16:16:28,749] Trial 231 finished with value: 0.8973939393939392 and parameters: {'solver_penalty': ('lbfgs', 'l2'), 'C': 0.04440575898259571, 'tol': 0.006749814254837417, 'fit_intercept': False, 'class_weight': None}. Best is trial 221 with value: 0.8980280583613918.\n",
      "[I 2025-03-27 16:16:28,963] Trial 229 finished with value: 0.8955072951739619 and parameters: {'solver_penalty': ('newton-cg', None), 'C': 0.07475069145003327, 'tol': 0.00444721253763479, 'fit_intercept': False, 'class_weight': None}. Best is trial 221 with value: 0.8980280583613918.\n",
      "[I 2025-03-27 16:16:29,370] Trial 232 finished with value: 0.8972648709315378 and parameters: {'solver_penalty': ('lbfgs', 'l2'), 'C': 0.061598957177863234, 'tol': 0.006340529201502141, 'fit_intercept': False, 'class_weight': None}. Best is trial 221 with value: 0.8980280583613918.\n",
      "[I 2025-03-27 16:16:33,520] Trial 233 finished with value: 0.897331088664422 and parameters: {'solver_penalty': ('lbfgs', 'l2'), 'C': 0.08690432152242193, 'tol': 0.006791494480567058, 'fit_intercept': False, 'class_weight': None}. Best is trial 221 with value: 0.8980280583613918.\n",
      "[I 2025-03-27 16:16:34,744] Trial 234 finished with value: 0.8974276094276095 and parameters: {'solver_penalty': ('newton-cholesky', 'l2'), 'C': 0.013295461006295894, 'tol': 0.00416488572767646, 'fit_intercept': False, 'class_weight': None}. Best is trial 221 with value: 0.8980280583613918.\n",
      "[I 2025-03-27 16:16:35,345] Trial 235 finished with value: 0.8976083052749719 and parameters: {'solver_penalty': ('newton-cholesky', 'l2'), 'C': 0.004290730116817256, 'tol': 0.006169450538651361, 'fit_intercept': False, 'class_weight': None}. Best is trial 221 with value: 0.8980280583613918.\n",
      "[I 2025-03-27 16:16:38,616] Trial 237 finished with value: 0.8961178451178451 and parameters: {'solver_penalty': ('liblinear', 'l1'), 'C': 0.03189153024020404, 'tol': 0.005332444904048659, 'fit_intercept': False, 'class_weight': 'balanced'}. Best is trial 221 with value: 0.8980280583613918.\n",
      "[I 2025-03-27 16:16:39,969] Trial 238 finished with value: 0.8970897867564533 and parameters: {'solver_penalty': ('liblinear', 'l1'), 'C': 0.03291010042013548, 'tol': 0.0014679121248046165, 'fit_intercept': True, 'class_weight': None}. Best is trial 221 with value: 0.8980280583613918.\n",
      "[I 2025-03-27 16:16:42,755] Trial 239 finished with value: 0.8974377104377105 and parameters: {'solver_penalty': ('newton-cholesky', 'l2'), 'C': 0.026749258959309668, 'tol': 0.005961203036146621, 'fit_intercept': False, 'class_weight': None}. Best is trial 221 with value: 0.8980280583613918.\n",
      "[I 2025-03-27 16:16:46,173] Trial 241 finished with value: 0.897320987654321 and parameters: {'solver_penalty': ('newton-cholesky', 'l2'), 'C': 0.04875606400636112, 'tol': 0.004972330290140284, 'fit_intercept': False, 'class_weight': None}. Best is trial 221 with value: 0.8980280583613918.\n",
      "[I 2025-03-27 16:16:48,410] Trial 242 finished with value: 0.8973602693602694 and parameters: {'solver_penalty': ('newton-cholesky', 'l2'), 'C': 0.04292685784024857, 'tol': 0.004367119985906496, 'fit_intercept': False, 'class_weight': None}. Best is trial 221 with value: 0.8980280583613918.\n",
      "[I 2025-03-27 16:16:49,020] Trial 240 finished with value: 0.8969741863075196 and parameters: {'solver_penalty': ('lbfgs', 'l2'), 'C': 0.12008231758733047, 'tol': 0.0010064280655445017, 'fit_intercept': True, 'class_weight': None}. Best is trial 221 with value: 0.8980280583613918.\n",
      "[I 2025-03-27 16:16:51,584] Trial 243 finished with value: 0.8974421997755332 and parameters: {'solver_penalty': ('newton-cholesky', 'l2'), 'C': 0.028074409124110272, 'tol': 0.006147575102949185, 'fit_intercept': False, 'class_weight': None}. Best is trial 221 with value: 0.8980280583613918.\n",
      "[I 2025-03-27 16:16:53,178] Trial 236 finished with value: 0.8963737373737373 and parameters: {'solver_penalty': ('lbfgs', None), 'C': 0.2440727046220542, 'tol': 9.771741751000052e-05, 'fit_intercept': True, 'class_weight': None}. Best is trial 221 with value: 0.8980280583613918.\n",
      "[I 2025-03-27 16:16:55,111] Trial 244 finished with value: 0.8962098765432099 and parameters: {'solver_penalty': ('newton-cholesky', 'l2'), 'C': 0.014512137014415463, 'tol': 0.006183374732094037, 'fit_intercept': False, 'class_weight': 'balanced'}. Best is trial 221 with value: 0.8980280583613918.\n",
      "[I 2025-03-27 16:16:55,739] Trial 245 finished with value: 0.8970448933782267 and parameters: {'solver_penalty': ('newton-cholesky', 'l2'), 'C': 0.14997410158050095, 'tol': 0.0003602816722589995, 'fit_intercept': False, 'class_weight': None}. Best is trial 221 with value: 0.8980280583613918.\n",
      "[I 2025-03-27 16:16:58,802] Trial 246 finished with value: 0.8974107744107744 and parameters: {'solver_penalty': ('newton-cholesky', 'l2'), 'C': 0.016608431858883686, 'tol': 0.0077706978494461836, 'fit_intercept': False, 'class_weight': None}. Best is trial 221 with value: 0.8980280583613918.\n",
      "[I 2025-03-27 16:17:00,872] Trial 247 finished with value: 0.8975196408529742 and parameters: {'solver_penalty': ('newton-cholesky', 'l2'), 'C': 0.007534055330686389, 'tol': 0.006663519932950637, 'fit_intercept': False, 'class_weight': None}. Best is trial 221 with value: 0.8980280583613918.\n",
      "[I 2025-03-27 16:17:01,616] Trial 248 finished with value: 0.8974264870931539 and parameters: {'solver_penalty': ('newton-cholesky', 'l2'), 'C': 0.012514050342395026, 'tol': 0.005333207789985923, 'fit_intercept': False, 'class_weight': None}. Best is trial 221 with value: 0.8980280583613918.\n",
      "[I 2025-03-27 16:17:01,995] Trial 249 finished with value: 0.897415263748597 and parameters: {'solver_penalty': ('newton-cholesky', 'l2'), 'C': 0.03902553176540164, 'tol': 0.005110488901751189, 'fit_intercept': False, 'class_weight': None}. Best is trial 221 with value: 0.8980280583613918.\n"
     ]
    }
   ],
   "source": [
    "def objective(trial):\n",
    "    solver_penalty_options = [\n",
    "        (\"liblinear\", \"l1\"),\n",
    "        (\"liblinear\", \"l2\"),\n",
    "        (\"lbfgs\", \"l2\"),\n",
    "        (\"lbfgs\", None),\n",
    "        (\"newton-cg\", \"l2\"),\n",
    "        (\"newton-cg\", None),\n",
    "        (\"newton-cholesky\", \"l2\"),\n",
    "        (\"newton-cholesky\", None)\n",
    "    ]\n",
    "    solver, penalty = trial.suggest_categorical(\"solver_penalty\", solver_penalty_options)\n",
    "    \n",
    "    params = {\n",
    "        \"random_state\": CFG.seed,\n",
    "        \"max_iter\": 500,\n",
    "        \"C\": trial.suggest_float(\"C\", 0, 1),\n",
    "        \"tol\": trial.suggest_float(\"tol\", 1e-6, 1e-2),\n",
    "        \"fit_intercept\": trial.suggest_categorical(\"fit_intercept\", [True, False]),\n",
    "        \"class_weight\": trial.suggest_categorical(\"class_weight\", [\"balanced\", None]),\n",
    "        \"solver\": solver,\n",
    "        \"penalty\": penalty\n",
    "    }\n",
    "    \n",
    "    model = LogisticRegression(**params)\n",
    "    trainer = Trainer(model, is_ensemble_model=True)\n",
    "    return trainer.tune(X, y)\n",
    "\n",
    "if CFG.run_optuna:\n",
    "    sampler = optuna.samplers.TPESampler(seed=CFG.seed, multivariate=True, n_startup_trials=CFG.optuna_trials // 10)\n",
    "    study = optuna.create_study(direction=\"maximize\", sampler=sampler)\n",
    "    study.optimize(objective, n_trials=CFG.optuna_trials, n_jobs=-1)\n",
    "    best_params = study.best_params\n",
    "    \n",
    "    solver, penalty = best_params[\"solver_penalty\"]\n",
    "    lr_params = {\n",
    "        \"random_state\": CFG.seed,\n",
    "        \"max_iter\": 500,\n",
    "        \"C\": best_params[\"C\"],\n",
    "        \"tol\": best_params[\"tol\"],\n",
    "        \"fit_intercept\": best_params[\"fit_intercept\"],\n",
    "        \"class_weight\": best_params[\"class_weight\"],\n",
    "        \"solver\": solver,\n",
    "        \"penalty\": penalty\n",
    "    }\n",
    "else:\n",
    "    lr_params = {\n",
    "      \"random_state\": 42\n",
    "    }"
   ]
  },
  {
   "cell_type": "code",
   "execution_count": 29,
   "id": "ad7cae9f",
   "metadata": {
    "execution": {
     "iopub.execute_input": "2025-03-27T16:17:02.047715Z",
     "iopub.status.busy": "2025-03-27T16:17:02.047493Z",
     "iopub.status.idle": "2025-03-27T16:17:02.051673Z",
     "shell.execute_reply": "2025-03-27T16:17:02.050815Z"
    },
    "papermill": {
     "duration": 0.02886,
     "end_time": "2025-03-27T16:17:02.052778",
     "exception": false,
     "start_time": "2025-03-27T16:17:02.023918",
     "status": "completed"
    },
    "tags": []
   },
   "outputs": [
    {
     "name": "stdout",
     "output_type": "stream",
     "text": [
      "{\n",
      "  \"random_state\": 2100,\n",
      "  \"max_iter\": 500,\n",
      "  \"C\": 0.00013629929846768578,\n",
      "  \"tol\": 0.0035768429839644717,\n",
      "  \"fit_intercept\": false,\n",
      "  \"class_weight\": null,\n",
      "  \"solver\": \"lbfgs\",\n",
      "  \"penalty\": \"l2\"\n",
      "}\n"
     ]
    }
   ],
   "source": [
    "print(json.dumps(lr_params, indent=2))"
   ]
  },
  {
   "cell_type": "code",
   "execution_count": 30,
   "id": "3ee16042",
   "metadata": {
    "execution": {
     "iopub.execute_input": "2025-03-27T16:17:02.099223Z",
     "iopub.status.busy": "2025-03-27T16:17:02.098962Z",
     "iopub.status.idle": "2025-03-27T16:17:04.029601Z",
     "shell.execute_reply": "2025-03-27T16:17:04.028618Z"
    },
    "papermill": {
     "duration": 1.955153,
     "end_time": "2025-03-27T16:17:04.030910",
     "exception": false,
     "start_time": "2025-03-27T16:17:02.075757",
     "status": "completed"
    },
    "tags": []
   },
   "outputs": [
    {
     "name": "stdout",
     "output_type": "stream",
     "text": [
      "Training LogisticRegression\n",
      "\n",
      "--- Fold 1 - ROC AUC: 0.875533 (5 iterations)\n",
      "--- Fold 2 - ROC AUC: 0.898204 (5 iterations)\n",
      "--- Fold 3 - ROC AUC: 0.917508 (5 iterations)\n",
      "--- Fold 4 - ROC AUC: 0.919304 (5 iterations)\n",
      "--- Fold 5 - ROC AUC: 0.875533 (5 iterations)\n",
      "--- Fold 6 - ROC AUC: 0.885634 (5 iterations)\n",
      "--- Fold 7 - ROC AUC: 0.896184 (5 iterations)\n",
      "--- Fold 8 - ROC AUC: 0.863187 (5 iterations)\n",
      "--- Fold 9 - ROC AUC: 0.939169 (5 iterations)\n",
      "--- Fold 10 - ROC AUC: 0.915376 (5 iterations)\n",
      "\n",
      "------ Overall: 0.898028 | Average: 0.898563 ± 0.022816\n"
     ]
    }
   ],
   "source": [
    "lr_model = LogisticRegression(**lr_params)\n",
    "lr_trainer = Trainer(lr_model, is_ensemble_model=True)\n",
    "lr_oof_pred_probs, lr_test_pred_probs, overall_scores[\"Ensemble LR\"], scores[\"Ensemble LR\"], lr_coeffs = lr_trainer.fit_predict(X, y, X_test)"
   ]
  },
  {
   "cell_type": "code",
   "execution_count": 31,
   "id": "27522f74",
   "metadata": {
    "execution": {
     "iopub.execute_input": "2025-03-27T16:17:04.081043Z",
     "iopub.status.busy": "2025-03-27T16:17:04.080787Z",
     "iopub.status.idle": "2025-03-27T16:17:04.109534Z",
     "shell.execute_reply": "2025-03-27T16:17:04.108711Z"
    },
    "papermill": {
     "duration": 0.054585,
     "end_time": "2025-03-27T16:17:04.110853",
     "exception": false,
     "start_time": "2025-03-27T16:17:04.056268",
     "status": "completed"
    },
    "tags": []
   },
   "outputs": [
    {
     "data": {
      "text/html": [
       "<div>\n",
       "<style scoped>\n",
       "    .dataframe tbody tr th:only-of-type {\n",
       "        vertical-align: middle;\n",
       "    }\n",
       "\n",
       "    .dataframe tbody tr th {\n",
       "        vertical-align: top;\n",
       "    }\n",
       "\n",
       "    .dataframe thead th {\n",
       "        text-align: right;\n",
       "    }\n",
       "</style>\n",
       "<table border=\"1\" class=\"dataframe\">\n",
       "  <thead>\n",
       "    <tr style=\"text-align: right;\">\n",
       "      <th></th>\n",
       "      <th>id</th>\n",
       "      <th>rainfall</th>\n",
       "    </tr>\n",
       "  </thead>\n",
       "  <tbody>\n",
       "    <tr>\n",
       "      <th>0</th>\n",
       "      <td>2190</td>\n",
       "      <td>0.978771</td>\n",
       "    </tr>\n",
       "    <tr>\n",
       "      <th>1</th>\n",
       "      <td>2191</td>\n",
       "      <td>0.981454</td>\n",
       "    </tr>\n",
       "    <tr>\n",
       "      <th>2</th>\n",
       "      <td>2192</td>\n",
       "      <td>0.811263</td>\n",
       "    </tr>\n",
       "    <tr>\n",
       "      <th>3</th>\n",
       "      <td>2193</td>\n",
       "      <td>0.270607</td>\n",
       "    </tr>\n",
       "    <tr>\n",
       "      <th>4</th>\n",
       "      <td>2194</td>\n",
       "      <td>0.213110</td>\n",
       "    </tr>\n",
       "  </tbody>\n",
       "</table>\n",
       "</div>"
      ],
      "text/plain": [
       "     id  rainfall\n",
       "0  2190  0.978771\n",
       "1  2191  0.981454\n",
       "2  2192  0.811263\n",
       "3  2193  0.270607\n",
       "4  2194  0.213110"
      ]
     },
     "execution_count": 31,
     "metadata": {},
     "output_type": "execute_result"
    }
   ],
   "source": [
    "save_submission(\"ensemble-lr\", lr_test_pred_probs, np.mean(scores[\"Ensemble LR\"]))"
   ]
  },
  {
   "cell_type": "code",
   "execution_count": 32,
   "id": "e2618a08",
   "metadata": {
    "_kg_hide-input": false,
    "execution": {
     "iopub.execute_input": "2025-03-27T16:17:04.158925Z",
     "iopub.status.busy": "2025-03-27T16:17:04.158706Z",
     "iopub.status.idle": "2025-03-27T16:17:04.457516Z",
     "shell.execute_reply": "2025-03-27T16:17:04.456779Z"
    },
    "papermill": {
     "duration": 0.324008,
     "end_time": "2025-03-27T16:17:04.458790",
     "exception": false,
     "start_time": "2025-03-27T16:17:04.134782",
     "status": "completed"
    },
    "tags": []
   },
   "outputs": [
    {
     "data": {
      "image/png": "[encoded data removed]",
      "text/plain": [
       "<Figure size 1000x360 with 1 Axes>"
      ]
     },
     "metadata": {},
     "output_type": "display_data"
    }
   ],
   "source": [
    "plot_weights(lr_coeffs, \"LR Coefficients\")"
   ]
  },
  {
   "cell_type": "markdown",
   "id": "c352ad58",
   "metadata": {
    "papermill": {
     "duration": 0.024341,
     "end_time": "2025-03-27T16:17:04.508586",
     "exception": false,
     "start_time": "2025-03-27T16:17:04.484245",
     "status": "completed"
    },
    "tags": []
   },
   "source": [
    "# Ensembling with Ridge"
   ]
  },
  {
   "cell_type": "code",
   "execution_count": 33,
   "id": "aa850e6b",
   "metadata": {
    "execution": {
     "iopub.execute_input": "2025-03-27T16:17:04.558005Z",
     "iopub.status.busy": "2025-03-27T16:17:04.557771Z",
     "iopub.status.idle": "2025-03-27T16:17:04.561981Z",
     "shell.execute_reply": "2025-03-27T16:17:04.561377Z"
    },
    "papermill": {
     "duration": 0.030268,
     "end_time": "2025-03-27T16:17:04.563143",
     "exception": false,
     "start_time": "2025-03-27T16:17:04.532875",
     "status": "completed"
    },
    "tags": []
   },
   "outputs": [],
   "source": [
    "X = pd.DataFrame(oof_pred_probs)\n",
    "X_test = pd.DataFrame(test_pred_probs)"
   ]
  },
  {
   "cell_type": "code",
   "execution_count": 34,
   "id": "569f4c40",
   "metadata": {
    "_kg_hide-output": true,
    "execution": {
     "iopub.execute_input": "2025-03-27T16:17:04.612708Z",
     "iopub.status.busy": "2025-03-27T16:17:04.612502Z",
     "iopub.status.idle": "2025-03-27T16:24:58.945784Z",
     "shell.execute_reply": "2025-03-27T16:24:58.944972Z"
    },
    "papermill": {
     "duration": 474.359651,
     "end_time": "2025-03-27T16:24:58.947154",
     "exception": false,
     "start_time": "2025-03-27T16:17:04.587503",
     "status": "completed"
    },
    "scrolled": true,
    "tags": []
   },
   "outputs": [
    {
     "name": "stderr",
     "output_type": "stream",
     "text": [
      "[I 2025-03-27 16:17:04,616] A new study created in memory with name: no-name-6fbbece2-45c8-4163-9651-d17b11e0baae\n",
      "[I 2025-03-27 16:17:09,775] Trial 3 finished with value: 0.897979797979798 and parameters: {'alpha': 5.889350854946417, 'tol': 0.0008890084717167278, 'positive': False, 'fit_intercept': True}. Best is trial 3 with value: 0.897979797979798.\n",
      "[I 2025-03-27 16:17:12,610] Trial 2 finished with value: 0.89834455667789 and parameters: {'alpha': 6.575500405878666, 'tol': 0.0026207231678232004, 'positive': True, 'fit_intercept': True}. Best is trial 2 with value: 0.89834455667789.\n",
      "[I 2025-03-27 16:17:12,803] Trial 0 finished with value: 0.8983400673400674 and parameters: {'alpha': 2.690798861950653, 'tol': 0.004087585455698203, 'positive': True, 'fit_intercept': True}. Best is trial 2 with value: 0.89834455667789.\n",
      "[I 2025-03-27 16:17:12,809] Trial 1 finished with value: 0.8984421997755331 and parameters: {'alpha': 9.235625919845825, 'tol': 0.004652398618811301, 'positive': True, 'fit_intercept': False}. Best is trial 1 with value: 0.8984421997755331.\n",
      "[I 2025-03-27 16:17:18,829] Trial 5 finished with value: 0.8975274971941638 and parameters: {'alpha': 1.961010892313474, 'tol': 0.0006630228944654915, 'positive': False, 'fit_intercept': True}. Best is trial 1 with value: 0.8984421997755331.\n",
      "[I 2025-03-27 16:17:18,837] Trial 6 finished with value: 0.897648709315376 and parameters: {'alpha': 4.204207497603293, 'tol': 0.007918666719109126, 'positive': False, 'fit_intercept': False}. Best is trial 1 with value: 0.8984421997755331.\n",
      "[I 2025-03-27 16:17:19,586] Trial 4 finished with value: 0.8978675645342311 and parameters: {'alpha': 6.0045260545586, 'tol': 0.0005303676431538989, 'positive': True, 'fit_intercept': False}. Best is trial 1 with value: 0.8984421997755331.\n",
      "[I 2025-03-27 16:17:21,644] Trial 7 finished with value: 0.8980920314253646 and parameters: {'alpha': 0.26368664050304913, 'tol': 0.0040664941561206055, 'positive': True, 'fit_intercept': False}. Best is trial 1 with value: 0.8984421997755331.\n",
      "[I 2025-03-27 16:17:26,305] Trial 10 finished with value: 0.8978484848484848 and parameters: {'alpha': 4.119400474792379, 'tol': 0.009866106632565135, 'positive': False, 'fit_intercept': True}. Best is trial 1 with value: 0.8984421997755331.\n",
      "[I 2025-03-27 16:17:27,258] Trial 11 finished with value: 0.8977283950617283 and parameters: {'alpha': 6.5399295942587035, 'tol': 0.008269200482836225, 'positive': False, 'fit_intercept': False}. Best is trial 1 with value: 0.8984421997755331.\n",
      "[I 2025-03-27 16:17:27,447] Trial 9 finished with value: 0.89834455667789 and parameters: {'alpha': 7.039863302113397, 'tol': 0.0035476702535780207, 'positive': True, 'fit_intercept': True}. Best is trial 1 with value: 0.8984421997755331.\n",
      "[I 2025-03-27 16:17:27,452] Trial 8 finished with value: 0.89834455667789 and parameters: {'alpha': 7.209926580313346, 'tol': 0.007526986417785829, 'positive': True, 'fit_intercept': True}. Best is trial 1 with value: 0.8984421997755331.\n",
      "[I 2025-03-27 16:17:33,368] Trial 13 finished with value: 0.897509539842873 and parameters: {'alpha': 2.02582545840553, 'tol': 0.000861861709076425, 'positive': False, 'fit_intercept': False}. Best is trial 1 with value: 0.8984421997755331.\n",
      "[I 2025-03-27 16:17:33,563] Trial 15 finished with value: 0.8976745230078563 and parameters: {'alpha': 4.620765119092109, 'tol': 0.0006343373511578333, 'positive': False, 'fit_intercept': False}. Best is trial 1 with value: 0.8984421997755331.\n",
      "[I 2025-03-27 16:17:35,772] Trial 12 finished with value: 0.8984421997755331 and parameters: {'alpha': 8.920663203933595, 'tol': 0.00877389702000541, 'positive': True, 'fit_intercept': False}. Best is trial 1 with value: 0.8984421997755331.\n",
      "[I 2025-03-27 16:17:36,511] Trial 14 finished with value: 0.8983400673400674 and parameters: {'alpha': 1.3810235311547692, 'tol': 0.008996449472536024, 'positive': True, 'fit_intercept': True}. Best is trial 1 with value: 0.8984421997755331.\n",
      "[I 2025-03-27 16:17:38,043] Trial 16 finished with value: 0.8978024691358024 and parameters: {'alpha': 9.150949995369201, 'tol': 0.004562648622853598, 'positive': False, 'fit_intercept': False}. Best is trial 1 with value: 0.8984421997755331.\n",
      "[I 2025-03-27 16:17:42,466] Trial 18 finished with value: 0.8971705948372615 and parameters: {'alpha': 0.9207404269560115, 'tol': 0.003956995034574423, 'positive': False, 'fit_intercept': False}. Best is trial 1 with value: 0.8984421997755331.\n",
      "[I 2025-03-27 16:17:44,126] Trial 19 finished with value: 0.8969113355780023 and parameters: {'alpha': 0.35135507177130876, 'tol': 0.0059190425049427614, 'positive': False, 'fit_intercept': True}. Best is trial 1 with value: 0.8984421997755331.\n",
      "[I 2025-03-27 16:17:44,136] Trial 20 finished with value: 0.897658810325477 and parameters: {'alpha': 3.440368572627465, 'tol': 0.004109605944068609, 'positive': False, 'fit_intercept': False}. Best is trial 1 with value: 0.8984421997755331.\n",
      "[I 2025-03-27 16:17:44,315] Trial 17 finished with value: 0.8980920314253646 and parameters: {'alpha': 0.6094471647402699, 'tol': 0.004631060053014753, 'positive': True, 'fit_intercept': False}. Best is trial 1 with value: 0.8984421997755331.\n",
      "[I 2025-03-27 16:17:48,781] Trial 21 finished with value: 0.8977643097643098 and parameters: {'alpha': 8.833218741755504, 'tol': 0.009473862546217439, 'positive': False, 'fit_intercept': False}. Best is trial 1 with value: 0.8984421997755331.\n",
      "[I 2025-03-27 16:17:50,540] Trial 22 finished with value: 0.8976621773288441 and parameters: {'alpha': 3.459264940064396, 'tol': 0.00802247230560261, 'positive': False, 'fit_intercept': False}. Best is trial 1 with value: 0.8984421997755331.\n",
      "[I 2025-03-27 16:17:51,830] Trial 24 finished with value: 0.897618406285073 and parameters: {'alpha': 2.615322412302037, 'tol': 0.00010976662468277811, 'positive': False, 'fit_intercept': True}. Best is trial 1 with value: 0.8984421997755331.\n",
      "[I 2025-03-27 16:17:53,704] Trial 23 finished with value: 0.8983928170594838 and parameters: {'alpha': 5.079641391691144, 'tol': 0.008781533947404855, 'positive': True, 'fit_intercept': True}. Best is trial 1 with value: 0.8984421997755331.\n",
      "[I 2025-03-27 16:17:55,550] Trial 26 finished with value: 0.8977609427609428 and parameters: {'alpha': 8.697829549585661, 'tol': 0.007424984809653254, 'positive': False, 'fit_intercept': False}. Best is trial 1 with value: 0.8984421997755331.\n",
      "[I 2025-03-27 16:17:57,810] Trial 25 finished with value: 0.8984814814814814 and parameters: {'alpha': 0.8858846980603685, 'tol': 0.0027268070854864863, 'positive': True, 'fit_intercept': True}. Best is trial 25 with value: 0.8984814814814814.\n",
      "[I 2025-03-27 16:18:00,036] Trial 27 finished with value: 0.8984421997755331 and parameters: {'alpha': 8.989183743802215, 'tol': 0.003234498261386082, 'positive': True, 'fit_intercept': False}. Best is trial 25 with value: 0.8984814814814814.\n",
      "[I 2025-03-27 16:18:00,991] Trial 28 finished with value: 0.8984421997755331 and parameters: {'alpha': 9.97698186736151, 'tol': 0.005117409339124752, 'positive': True, 'fit_intercept': False}. Best is trial 25 with value: 0.8984814814814814.\n",
      "[I 2025-03-27 16:18:02,722] Trial 29 finished with value: 0.8984421997755331 and parameters: {'alpha': 9.496313484833626, 'tol': 0.005951753647035859, 'positive': True, 'fit_intercept': False}. Best is trial 25 with value: 0.8984814814814814.\n",
      "[I 2025-03-27 16:18:05,325] Trial 30 finished with value: 0.8984421997755331 and parameters: {'alpha': 9.680043756519336, 'tol': 0.007273909484483885, 'positive': True, 'fit_intercept': False}. Best is trial 25 with value: 0.8984814814814814.\n",
      "[I 2025-03-27 16:18:07,589] Trial 31 finished with value: 0.8984421997755331 and parameters: {'alpha': 7.952322965540613, 'tol': 0.007892863961555249, 'positive': True, 'fit_intercept': False}. Best is trial 25 with value: 0.8984814814814814.\n",
      "[I 2025-03-27 16:18:07,979] Trial 32 finished with value: 0.8984421997755331 and parameters: {'alpha': 8.230620274049791, 'tol': 0.009962934857204328, 'positive': True, 'fit_intercept': False}. Best is trial 25 with value: 0.8984814814814814.\n",
      "[I 2025-03-27 16:18:10,459] Trial 33 finished with value: 0.8981907968574634 and parameters: {'alpha': 1.7720212643774624, 'tol': 0.002350194944905911, 'positive': True, 'fit_intercept': True}. Best is trial 25 with value: 0.8984814814814814.\n",
      "[I 2025-03-27 16:18:12,904] Trial 34 finished with value: 0.8983771043771044 and parameters: {'alpha': 1.4603705059028371, 'tol': 0.0026257162631734107, 'positive': True, 'fit_intercept': True}. Best is trial 25 with value: 0.8984814814814814.\n",
      "[I 2025-03-27 16:18:14,611] Trial 35 finished with value: 0.8984421997755331 and parameters: {'alpha': 8.305455439395807, 'tol': 0.002773701347202736, 'positive': True, 'fit_intercept': False}. Best is trial 25 with value: 0.8984814814814814.\n",
      "[I 2025-03-27 16:18:16,132] Trial 36 finished with value: 0.8985028058361392 and parameters: {'alpha': 0.4474660068690959, 'tol': 0.002271079550973577, 'positive': True, 'fit_intercept': True}. Best is trial 36 with value: 0.8985028058361392.\n",
      "[I 2025-03-27 16:18:18,390] Trial 37 finished with value: 0.8978518518518518 and parameters: {'alpha': 9.57733131185551, 'tol': 0.000690181406576445, 'positive': True, 'fit_intercept': False}. Best is trial 36 with value: 0.8985028058361392.\n",
      "[I 2025-03-27 16:18:20,246] Trial 38 finished with value: 0.8984421997755331 and parameters: {'alpha': 8.90821675711749, 'tol': 0.0019971104499168055, 'positive': True, 'fit_intercept': False}. Best is trial 36 with value: 0.8985028058361392.\n",
      "[I 2025-03-27 16:18:22,234] Trial 39 finished with value: 0.8984421997755331 and parameters: {'alpha': 9.838932990185217, 'tol': 0.0027498010403312375, 'positive': True, 'fit_intercept': False}. Best is trial 36 with value: 0.8985028058361392.\n",
      "[I 2025-03-27 16:18:23,025] Trial 40 finished with value: 0.898297418630752 and parameters: {'alpha': 0.5231971482305875, 'tol': 0.004638688221164876, 'positive': True, 'fit_intercept': True}. Best is trial 36 with value: 0.8985028058361392.\n",
      "[I 2025-03-27 16:18:28,242] Trial 42 finished with value: 0.898297418630752 and parameters: {'alpha': 0.10667343209519797, 'tol': 0.004317754312841783, 'positive': True, 'fit_intercept': True}. Best is trial 36 with value: 0.8985028058361392.\n",
      "[I 2025-03-27 16:18:28,440] Trial 41 finished with value: 0.8972143658810326 and parameters: {'alpha': 0.2584000675724862, 'tol': 0.0003309672939005401, 'positive': True, 'fit_intercept': True}. Best is trial 36 with value: 0.8985028058361392.\n",
      "[I 2025-03-27 16:18:28,454] Trial 43 finished with value: 0.8983423120089786 and parameters: {'alpha': 9.847198416614372, 'tol': 0.008699687157698439, 'positive': True, 'fit_intercept': True}. Best is trial 36 with value: 0.8985028058361392.\n",
      "[I 2025-03-27 16:18:30,721] Trial 44 finished with value: 0.8981290684624017 and parameters: {'alpha': 1.8063741826612034, 'tol': 0.0009919236445867941, 'positive': True, 'fit_intercept': True}. Best is trial 36 with value: 0.8985028058361392.\n",
      "[I 2025-03-27 16:18:35,391] Trial 45 finished with value: 0.8976127946127945 and parameters: {'alpha': 1.7818635277239236, 'tol': 0.0005998277655318573, 'positive': True, 'fit_intercept': True}. Best is trial 36 with value: 0.8985028058361392.\n",
      "[I 2025-03-27 16:18:35,962] Trial 46 finished with value: 0.8984545454545454 and parameters: {'alpha': 4.891521929231302, 'tol': 0.004463926065963006, 'positive': True, 'fit_intercept': False}. Best is trial 36 with value: 0.8985028058361392.\n",
      "[I 2025-03-27 16:18:36,165] Trial 47 finished with value: 0.8975061728395062 and parameters: {'alpha': 1.399536452926469, 'tol': 0.0007881090000514432, 'positive': True, 'fit_intercept': False}. Best is trial 36 with value: 0.8985028058361392.\n",
      "[I 2025-03-27 16:18:38,076] Trial 48 finished with value: 0.8984421997755331 and parameters: {'alpha': 6.38238884549871, 'tol': 0.0050090153410764305, 'positive': True, 'fit_intercept': False}. Best is trial 36 with value: 0.8985028058361392.\n",
      "[I 2025-03-27 16:18:43,681] Trial 50 finished with value: 0.8984545454545454 and parameters: {'alpha': 4.466840178688775, 'tol': 0.005010585384351639, 'positive': True, 'fit_intercept': False}. Best is trial 36 with value: 0.8985028058361392.\n",
      "[I 2025-03-27 16:18:43,694] Trial 49 finished with value: 0.8984421997755331 and parameters: {'alpha': 7.60457099614051, 'tol': 0.003480181460257745, 'positive': True, 'fit_intercept': False}. Best is trial 36 with value: 0.8985028058361392.\n",
      "[I 2025-03-27 16:18:44,450] Trial 51 finished with value: 0.898334455667789 and parameters: {'alpha': 4.272766419324288, 'tol': 0.0037884204727310134, 'positive': True, 'fit_intercept': False}. Best is trial 36 with value: 0.8985028058361392.\n",
      "[I 2025-03-27 16:18:44,463] Trial 52 finished with value: 0.8963546576879909 and parameters: {'alpha': 0.10247991369933118, 'tol': 0.0024261472414199557, 'positive': False, 'fit_intercept': True}. Best is trial 36 with value: 0.8985028058361392.\n",
      "[I 2025-03-27 16:18:51,414] Trial 53 finished with value: 0.8983569023569025 and parameters: {'alpha': 4.042892384224915, 'tol': 0.003816170361151718, 'positive': True, 'fit_intercept': False}. Best is trial 36 with value: 0.8985028058361392.\n",
      "[I 2025-03-27 16:18:51,800] Trial 54 finished with value: 0.8983367003367003 and parameters: {'alpha': 3.370240630938947, 'tol': 0.005116557572167771, 'positive': True, 'fit_intercept': False}. Best is trial 36 with value: 0.8985028058361392.\n",
      "[I 2025-03-27 16:18:51,823] Trial 56 finished with value: 0.8984545454545454 and parameters: {'alpha': 4.503336276741497, 'tol': 0.006981951945234885, 'positive': True, 'fit_intercept': False}. Best is trial 36 with value: 0.8985028058361392.\n",
      "[I 2025-03-27 16:18:51,828] Trial 55 finished with value: 0.898337822671156 and parameters: {'alpha': 3.527463492526042, 'tol': 0.006533290086578738, 'positive': True, 'fit_intercept': False}. Best is trial 36 with value: 0.8985028058361392.\n",
      "[I 2025-03-27 16:18:57,742] Trial 58 finished with value: 0.8979977553310886 and parameters: {'alpha': 9.675073892166148, 'tol': 0.0026078829476593205, 'positive': False, 'fit_intercept': True}. Best is trial 36 with value: 0.8985028058361392.\n",
      "[I 2025-03-27 16:18:58,876] Trial 57 finished with value: 0.8983367003367003 and parameters: {'alpha': 3.431082370449479, 'tol': 0.005520516731069456, 'positive': True, 'fit_intercept': False}. Best is trial 36 with value: 0.8985028058361392.\n",
      "[I 2025-03-27 16:18:59,816] Trial 60 finished with value: 0.8984545454545454 and parameters: {'alpha': 4.578179539323791, 'tol': 0.008880618271653245, 'positive': True, 'fit_intercept': False}. Best is trial 36 with value: 0.8985028058361392.\n",
      "[I 2025-03-27 16:18:59,829] Trial 59 finished with value: 0.8984545454545454 and parameters: {'alpha': 4.376198299114974, 'tol': 0.00847711044849204, 'positive': True, 'fit_intercept': False}. Best is trial 36 with value: 0.8985028058361392.\n",
      "[I 2025-03-27 16:19:04,926] Trial 61 finished with value: 0.8983367003367003 and parameters: {'alpha': 3.1194379861049932, 'tol': 0.009447730671616156, 'positive': True, 'fit_intercept': False}. Best is trial 36 with value: 0.8985028058361392.\n",
      "[I 2025-03-27 16:19:06,637] Trial 62 finished with value: 0.8983928170594838 and parameters: {'alpha': 4.4328701025334425, 'tol': 0.00453616038389434, 'positive': True, 'fit_intercept': True}. Best is trial 36 with value: 0.8985028058361392.\n",
      "[I 2025-03-27 16:19:07,404] Trial 64 finished with value: 0.8984545454545454 and parameters: {'alpha': 4.368149060772813, 'tol': 0.009114461581304693, 'positive': True, 'fit_intercept': False}. Best is trial 36 with value: 0.8985028058361392.\n",
      "[I 2025-03-27 16:19:07,592] Trial 63 finished with value: 0.8983367003367003 and parameters: {'alpha': 3.02589094183147, 'tol': 0.008561473508519152, 'positive': True, 'fit_intercept': False}. Best is trial 36 with value: 0.8985028058361392.\n",
      "[I 2025-03-27 16:19:13,474] Trial 65 finished with value: 0.8984545454545454 and parameters: {'alpha': 4.4508265247774625, 'tol': 0.009182851002697542, 'positive': True, 'fit_intercept': False}. Best is trial 36 with value: 0.8985028058361392.\n",
      "[I 2025-03-27 16:19:14,244] Trial 66 finished with value: 0.8984421997755331 and parameters: {'alpha': 5.4735015514473115, 'tol': 0.008208948039802166, 'positive': True, 'fit_intercept': False}. Best is trial 36 with value: 0.8985028058361392.\n",
      "[I 2025-03-27 16:19:14,451] Trial 67 finished with value: 0.8984545454545454 and parameters: {'alpha': 4.848514858526079, 'tol': 0.0069894010926469735, 'positive': True, 'fit_intercept': False}. Best is trial 36 with value: 0.8985028058361392.\n",
      "[I 2025-03-27 16:19:15,030] Trial 68 finished with value: 0.8984421997755331 and parameters: {'alpha': 5.886990509114883, 'tol': 0.008164059639801382, 'positive': True, 'fit_intercept': False}. Best is trial 36 with value: 0.8985028058361392.\n",
      "[I 2025-03-27 16:19:20,464] Trial 69 finished with value: 0.8984421997755331 and parameters: {'alpha': 6.244739400503561, 'tol': 0.00760728460360419, 'positive': True, 'fit_intercept': False}. Best is trial 36 with value: 0.8985028058361392.\n",
      "[I 2025-03-27 16:19:21,247] Trial 70 finished with value: 0.8984545454545454 and parameters: {'alpha': 4.810771075885517, 'tol': 0.006147238614981132, 'positive': True, 'fit_intercept': False}. Best is trial 36 with value: 0.8985028058361392.\n",
      "[I 2025-03-27 16:19:22,001] Trial 71 finished with value: 0.8984421997755331 and parameters: {'alpha': 5.463441301798909, 'tol': 0.006162665987297743, 'positive': True, 'fit_intercept': False}. Best is trial 36 with value: 0.8985028058361392.\n",
      "[I 2025-03-27 16:19:24,456] Trial 72 finished with value: 0.8983120089786756 and parameters: {'alpha': 0.16201011879282162, 'tol': 0.002627398878108286, 'positive': True, 'fit_intercept': True}. Best is trial 36 with value: 0.8985028058361392.\n",
      "[I 2025-03-27 16:19:25,463] Trial 73 finished with value: 0.8976969696969695 and parameters: {'alpha': 5.637232952949213, 'tol': 0.005304021761216212, 'positive': False, 'fit_intercept': False}. Best is trial 36 with value: 0.8985028058361392.\n",
      "[I 2025-03-27 16:19:29,780] Trial 76 finished with value: 0.8977003367003367 and parameters: {'alpha': 5.565353592236383, 'tol': 0.0047292946228322235, 'positive': False, 'fit_intercept': False}. Best is trial 36 with value: 0.8985028058361392.\n",
      "[I 2025-03-27 16:19:30,366] Trial 74 finished with value: 0.8984994388327721 and parameters: {'alpha': 0.05711725592074962, 'tol': 0.0021525487613079236, 'positive': True, 'fit_intercept': True}. Best is trial 36 with value: 0.8985028058361392.\n",
      "[I 2025-03-27 16:19:30,761] Trial 75 finished with value: 0.898334455667789 and parameters: {'alpha': 4.2900566762349515, 'tol': 0.008657226312703659, 'positive': True, 'fit_intercept': False}. Best is trial 36 with value: 0.8985028058361392.\n",
      "[I 2025-03-27 16:19:34,346] Trial 77 finished with value: 0.898334455667789 and parameters: {'alpha': 4.231793198681752, 'tol': 0.0077651189628085045, 'positive': True, 'fit_intercept': False}. Best is trial 36 with value: 0.8985028058361392.\n",
      "[I 2025-03-27 16:19:35,103] Trial 78 finished with value: 0.8978933782267116 and parameters: {'alpha': 4.520797819036518, 'tol': 0.0069210897609779205, 'positive': False, 'fit_intercept': True}. Best is trial 36 with value: 0.8985028058361392.\n",
      "[I 2025-03-27 16:19:39,394] Trial 79 finished with value: 0.8985286195286195 and parameters: {'alpha': 0.6298131953221648, 'tol': 0.001968266084947582, 'positive': True, 'fit_intercept': True}. Best is trial 79 with value: 0.8985286195286195.\n",
      "[I 2025-03-27 16:19:39,412] Trial 80 finished with value: 0.8985252525252525 and parameters: {'alpha': 0.4181361371079772, 'tol': 0.0018911168011733215, 'positive': True, 'fit_intercept': True}. Best is trial 79 with value: 0.8985286195286195.\n",
      "[I 2025-03-27 16:19:41,867] Trial 81 finished with value: 0.8983400673400674 and parameters: {'alpha': 1.4055834350865783, 'tol': 0.003748677590548163, 'positive': True, 'fit_intercept': True}. Best is trial 79 with value: 0.8985286195286195.\n",
      "[I 2025-03-27 16:19:42,472] Trial 82 finished with value: 0.8984859708193041 and parameters: {'alpha': 0.22155177087315647, 'tol': 0.002356775253065521, 'positive': True, 'fit_intercept': True}. Best is trial 79 with value: 0.8985286195286195.\n",
      "[I 2025-03-27 16:19:46,467] Trial 83 finished with value: 0.8985117845117845 and parameters: {'alpha': 0.38251989198473624, 'tol': 0.0022166999705816185, 'positive': True, 'fit_intercept': True}. Best is trial 79 with value: 0.8985286195286195.\n",
      "[I 2025-03-27 16:19:47,065] Trial 84 finished with value: 0.8986273849607183 and parameters: {'alpha': 0.7505192510319765, 'tol': 0.0022985543650033157, 'positive': True, 'fit_intercept': True}. Best is trial 84 with value: 0.8986273849607183.\n",
      "[I 2025-03-27 16:19:49,694] Trial 85 finished with value: 0.8981784511784512 and parameters: {'alpha': 1.5588352402830474, 'tol': 0.0020157788586059222, 'positive': True, 'fit_intercept': True}. Best is trial 84 with value: 0.8986273849607183.\n",
      "[I 2025-03-27 16:19:49,884] Trial 86 finished with value: 0.8984523007856342 and parameters: {'alpha': 1.0708433650866664, 'tol': 0.0027399080979617118, 'positive': True, 'fit_intercept': True}. Best is trial 84 with value: 0.8986273849607183.\n",
      "[I 2025-03-27 16:19:53,839] Trial 87 finished with value: 0.8984500561167228 and parameters: {'alpha': 0.7732330307427291, 'tol': 0.002634203541481585, 'positive': True, 'fit_intercept': True}. Best is trial 84 with value: 0.8986273849607183.\n",
      "[I 2025-03-27 16:19:54,794] Trial 88 finished with value: 0.8985319865319866 and parameters: {'alpha': 0.2841781372079682, 'tol': 0.0017892392851572474, 'positive': True, 'fit_intercept': True}. Best is trial 84 with value: 0.8986273849607183.\n",
      "[I 2025-03-27 16:19:57,690] Trial 90 finished with value: 0.8985387205387205 and parameters: {'alpha': 0.5473475804842932, 'tol': 0.0013502471796478415, 'positive': True, 'fit_intercept': True}. Best is trial 84 with value: 0.8986273849607183.\n",
      "[I 2025-03-27 16:19:57,698] Trial 89 finished with value: 0.8984971941638609 and parameters: {'alpha': 0.12803948536158502, 'tol': 0.0019064595494657113, 'positive': True, 'fit_intercept': True}. Best is trial 84 with value: 0.8986273849607183.\n",
      "[I 2025-03-27 16:20:01,076] Trial 91 finished with value: 0.8985398428731763 and parameters: {'alpha': 0.16626323181059724, 'tol': 0.001539137781012329, 'positive': True, 'fit_intercept': True}. Best is trial 84 with value: 0.8986273849607183.\n",
      "[I 2025-03-27 16:20:02,228] Trial 92 finished with value: 0.8984904601571267 and parameters: {'alpha': 0.018137404440693443, 'tol': 0.002021884310273981, 'positive': True, 'fit_intercept': True}. Best is trial 84 with value: 0.8986273849607183.\n",
      "[I 2025-03-27 16:20:04,742] Trial 93 finished with value: 0.8985398428731763 and parameters: {'alpha': 0.1635793594666246, 'tol': 0.001593534383977414, 'positive': True, 'fit_intercept': True}. Best is trial 84 with value: 0.8986273849607183.\n",
      "[I 2025-03-27 16:20:05,503] Trial 94 finished with value: 0.8980123456790123 and parameters: {'alpha': 0.15862684575151248, 'tol': 0.0009011326338398452, 'positive': True, 'fit_intercept': True}. Best is trial 84 with value: 0.8986273849607183.\n",
      "[I 2025-03-27 16:20:10,547] Trial 98 finished with value: 0.8967957351290684 and parameters: {'alpha': 0.2845422232293851, 'tol': 0.00019587321835274197, 'positive': False, 'fit_intercept': True}. Best is trial 84 with value: 0.8986273849607183.\n",
      "[I 2025-03-27 16:20:10,576] Trial 95 finished with value: 0.8971548821548821 and parameters: {'alpha': 0.3836289907052558, 'tol': 0.00014418027509311825, 'positive': True, 'fit_intercept': True}. Best is trial 84 with value: 0.8986273849607183.\n",
      "[I 2025-03-27 16:20:11,161] Trial 96 finished with value: 0.8972693602693603 and parameters: {'alpha': 0.09031770332827882, 'tol': 0.0005779036821658224, 'positive': True, 'fit_intercept': True}. Best is trial 84 with value: 0.8986273849607183.\n",
      "[I 2025-03-27 16:20:13,062] Trial 97 finished with value: 0.8985151515151517 and parameters: {'alpha': 0.4044245553492273, 'tol': 0.0010541642571457804, 'positive': True, 'fit_intercept': True}. Best is trial 84 with value: 0.8986273849607183.\n",
      "[I 2025-03-27 16:20:18,200] Trial 99 finished with value: 0.8978765432098765 and parameters: {'alpha': 3.874225442869168, 'tol': 0.000517158647595502, 'positive': True, 'fit_intercept': True}. Best is trial 84 with value: 0.8986273849607183.\n",
      "[I 2025-03-27 16:20:18,406] Trial 100 finished with value: 0.8977912457912459 and parameters: {'alpha': 0.2499164791116692, 'tol': 0.0010378580507095204, 'positive': True, 'fit_intercept': False}. Best is trial 84 with value: 0.8986273849607183.\n",
      "[I 2025-03-27 16:20:18,615] Trial 101 finished with value: 0.8983928170594838 and parameters: {'alpha': 4.131950040175717, 'tol': 0.0019077772048670329, 'positive': True, 'fit_intercept': True}. Best is trial 84 with value: 0.8986273849607183.\n",
      "[I 2025-03-27 16:20:20,496] Trial 102 finished with value: 0.8983928170594838 and parameters: {'alpha': 3.5942296926294848, 'tol': 0.0015919182042891601, 'positive': True, 'fit_intercept': True}. Best is trial 84 with value: 0.8986273849607183.\n",
      "[I 2025-03-27 16:20:25,197] Trial 103 finished with value: 0.898240179573513 and parameters: {'alpha': 2.74028849172165, 'tol': 0.0021265106600863062, 'positive': True, 'fit_intercept': True}. Best is trial 84 with value: 0.8986273849607183.\n",
      "[I 2025-03-27 16:20:26,169] Trial 104 finished with value: 0.8983164983164984 and parameters: {'alpha': 0.04292936893722388, 'tol': 0.0026755167946849265, 'positive': True, 'fit_intercept': True}. Best is trial 84 with value: 0.8986273849607183.\n",
      "[I 2025-03-27 16:20:26,195] Trial 105 finished with value: 0.8984915824915825 and parameters: {'alpha': 0.02119653913348185, 'tol': 0.00242346014507486, 'positive': True, 'fit_intercept': True}. Best is trial 84 with value: 0.8986273849607183.\n",
      "[I 2025-03-27 16:20:27,927] Trial 106 finished with value: 0.8983052749719416 and parameters: {'alpha': 0.20115607633930185, 'tol': 0.0024874093024864997, 'positive': True, 'fit_intercept': True}. Best is trial 84 with value: 0.8986273849607183.\n",
      "[I 2025-03-27 16:20:33,642] Trial 107 finished with value: 0.8985207631874297 and parameters: {'alpha': 0.40357291469140333, 'tol': 0.0017024260331669665, 'positive': True, 'fit_intercept': True}. Best is trial 84 with value: 0.8986273849607183.\n",
      "[I 2025-03-27 16:20:34,398] Trial 110 finished with value: 0.8975824915824917 and parameters: {'alpha': 2.3583827763418364, 'tol': 0.0028029019195752727, 'positive': False, 'fit_intercept': True}. Best is trial 84 with value: 0.8986273849607183.\n",
      "[I 2025-03-27 16:20:34,405] Trial 108 finished with value: 0.8982312008978676 and parameters: {'alpha': 1.4398697905612807, 'tol': 0.0015699535190536052, 'positive': True, 'fit_intercept': True}. Best is trial 84 with value: 0.8986273849607183.\n",
      "[I 2025-03-27 16:20:34,420] Trial 109 finished with value: 0.8981459034792367 and parameters: {'alpha': 1.7004080374847477, 'tol': 0.0016289855668907317, 'positive': True, 'fit_intercept': True}. Best is trial 84 with value: 0.8986273849607183.\n",
      "[I 2025-03-27 16:20:38,541] Trial 111 finished with value: 0.8976049382716049 and parameters: {'alpha': 2.5176048308828145, 'tol': 0.0031899684033991314, 'positive': False, 'fit_intercept': True}. Best is trial 84 with value: 0.8986273849607183.\n",
      "[I 2025-03-27 16:20:42,492] Trial 114 finished with value: 0.8984859708193041 and parameters: {'alpha': 1.0735563881457841, 'tol': 0.001532262731107965, 'positive': True, 'fit_intercept': True}. Best is trial 84 with value: 0.8986273849607183.\n",
      "[I 2025-03-27 16:20:43,059] Trial 113 finished with value: 0.8981941638608305 and parameters: {'alpha': 1.4313641492722948, 'tol': 0.0010729419274010785, 'positive': True, 'fit_intercept': True}. Best is trial 84 with value: 0.8986273849607183.\n",
      "[I 2025-03-27 16:20:43,088] Trial 112 finished with value: 0.8970965207631875 and parameters: {'alpha': 1.2859230991729278, 'tol': 0.0004930778308640531, 'positive': True, 'fit_intercept': True}. Best is trial 84 with value: 0.8986273849607183.\n",
      "[I 2025-03-27 16:20:45,359] Trial 115 finished with value: 0.8985375982042649 and parameters: {'alpha': 0.19370588953079892, 'tol': 0.0010207471882468307, 'positive': True, 'fit_intercept': True}. Best is trial 84 with value: 0.8986273849607183.\n",
      "[I 2025-03-27 16:20:50,496] Trial 116 finished with value: 0.8985342312008979 and parameters: {'alpha': 0.1852390413800644, 'tol': 0.0013123877430112503, 'positive': True, 'fit_intercept': True}. Best is trial 84 with value: 0.8986273849607183.\n",
      "[I 2025-03-27 16:20:50,689] Trial 117 finished with value: 0.8985005611672279 and parameters: {'alpha': 0.28060256293764874, 'tol': 0.0019298300166621547, 'positive': True, 'fit_intercept': True}. Best is trial 84 with value: 0.8986273849607183.\n",
      "[I 2025-03-27 16:20:50,696] Trial 118 finished with value: 0.8985409652076318 and parameters: {'alpha': 0.07054668484502985, 'tol': 0.0015099953847657708, 'positive': True, 'fit_intercept': True}. Best is trial 84 with value: 0.8986273849607183.\n",
      "[I 2025-03-27 16:20:53,230] Trial 119 finished with value: 0.898063973063973 and parameters: {'alpha': 9.128431754939692, 'tol': 0.0003540645198625812, 'positive': True, 'fit_intercept': True}. Best is trial 84 with value: 0.8986273849607183.\n",
      "[I 2025-03-27 16:20:57,543] Trial 122 finished with value: 0.8985398428731761 and parameters: {'alpha': 0.10204439258048455, 'tol': 0.0009905601964403708, 'positive': True, 'fit_intercept': True}. Best is trial 84 with value: 0.8986273849607183.\n",
      "[I 2025-03-27 16:20:58,680] Trial 121 finished with value: 0.897936026936027 and parameters: {'alpha': 0.4315451420267461, 'tol': 0.0007172723953203815, 'positive': True, 'fit_intercept': True}. Best is trial 84 with value: 0.8986273849607183.\n",
      "[I 2025-03-27 16:20:58,890] Trial 120 finished with value: 0.8972222222222224 and parameters: {'alpha': 0.2308970048532628, 'tol': 0.0005745687363274245, 'positive': True, 'fit_intercept': True}. Best is trial 84 with value: 0.8986273849607183.\n",
      "[I 2025-03-27 16:21:00,108] Trial 123 finished with value: 0.8985409652076318 and parameters: {'alpha': 0.07070323851238051, 'tol': 0.0009904271161694867, 'positive': True, 'fit_intercept': True}. Best is trial 84 with value: 0.8986273849607183.\n",
      "[I 2025-03-27 16:21:04,461] Trial 126 finished with value: 0.8980056116722783 and parameters: {'alpha': 9.006451150957947, 'tol': 0.007902157029735762, 'positive': False, 'fit_intercept': True}. Best is trial 84 with value: 0.8986273849607183.\n",
      "[I 2025-03-27 16:21:05,400] Trial 124 finished with value: 0.8980067340067339 and parameters: {'alpha': 0.07025239327806732, 'tol': 0.0007551397615192738, 'positive': True, 'fit_intercept': True}. Best is trial 84 with value: 0.8986273849607183.\n",
      "[I 2025-03-27 16:21:06,371] Trial 125 finished with value: 0.898638608305275 and parameters: {'alpha': 0.7408189847741736, 'tol': 0.0012889326620163849, 'positive': True, 'fit_intercept': True}. Best is trial 125 with value: 0.898638608305275.\n",
      "[I 2025-03-27 16:21:09,212] Trial 127 finished with value: 0.8979842873176206 and parameters: {'alpha': 0.20164723884344102, 'tol': 0.0007754140827933933, 'positive': True, 'fit_intercept': True}. Best is trial 125 with value: 0.898638608305275.\n",
      "[I 2025-03-27 16:21:10,735] Trial 128 finished with value: 0.897685746352413 and parameters: {'alpha': 1.123891570525087, 'tol': 0.003533338266761164, 'positive': True, 'fit_intercept': False}. Best is trial 125 with value: 0.898638608305275.\n",
      "[I 2025-03-27 16:21:13,987] Trial 129 finished with value: 0.897240179573513 and parameters: {'alpha': 0.1667963084669965, 'tol': 0.0005413843977971795, 'positive': True, 'fit_intercept': True}. Best is trial 125 with value: 0.898638608305275.\n",
      "[I 2025-03-27 16:21:14,568] Trial 130 finished with value: 0.8977620650953984 and parameters: {'alpha': 0.09558386183740841, 'tol': 0.0006527870550424749, 'positive': True, 'fit_intercept': True}. Best is trial 125 with value: 0.898638608305275.\n",
      "[I 2025-03-27 16:21:16,491] Trial 131 finished with value: 0.8980033670033669 and parameters: {'alpha': 0.08956761515028289, 'tol': 0.0008479041429547596, 'positive': True, 'fit_intercept': True}. Best is trial 125 with value: 0.898638608305275.\n",
      "[I 2025-03-27 16:21:19,038] Trial 132 finished with value: 0.8977508417508417 and parameters: {'alpha': 1.6541951403439605, 'tol': 0.00013166645002594566, 'positive': True, 'fit_intercept': True}. Best is trial 125 with value: 0.898638608305275.\n",
      "[I 2025-03-27 16:21:22,062] Trial 133 finished with value: 0.8983400673400674 and parameters: {'alpha': 2.2803178732913327, 'tol': 0.003822390670672818, 'positive': True, 'fit_intercept': True}. Best is trial 125 with value: 0.898638608305275.\n",
      "[I 2025-03-27 16:21:23,635] Trial 134 finished with value: 0.8981806958473625 and parameters: {'alpha': 1.527878656152696, 'tol': 0.0022750589454483307, 'positive': True, 'fit_intercept': True}. Best is trial 125 with value: 0.898638608305275.\n",
      "[I 2025-03-27 16:21:24,023] Trial 136 finished with value: 0.8977384960718293 and parameters: {'alpha': 8.37551946991214, 'tol': 0.0010831066948151606, 'positive': False, 'fit_intercept': False}. Best is trial 125 with value: 0.898638608305275.\n",
      "[I 2025-03-27 16:21:24,607] Trial 135 finished with value: 0.8982031425364758 and parameters: {'alpha': 1.9235108096357487, 'tol': 0.002161195446427009, 'positive': True, 'fit_intercept': True}. Best is trial 125 with value: 0.898638608305275.\n",
      "[I 2025-03-27 16:21:28,556] Trial 138 finished with value: 0.8961010101010101 and parameters: {'alpha': 0.07794195868228915, 'tol': 0.00260796824278832, 'positive': False, 'fit_intercept': False}. Best is trial 125 with value: 0.898638608305275.\n",
      "[I 2025-03-27 16:21:30,276] Trial 137 finished with value: 0.8982008978675646 and parameters: {'alpha': 2.2447022347778196, 'tol': 0.0022733805370692933, 'positive': True, 'fit_intercept': True}. Best is trial 125 with value: 0.898638608305275.\n",
      "[I 2025-03-27 16:21:33,804] Trial 140 finished with value: 0.8983748597081931 and parameters: {'alpha': 0.054021918990375006, 'tol': 0.002931375225014306, 'positive': True, 'fit_intercept': True}. Best is trial 125 with value: 0.898638608305275.\n",
      "[I 2025-03-27 16:21:34,005] Trial 139 finished with value: 0.8983737373737375 and parameters: {'alpha': 0.12010216348796271, 'tol': 0.0029411507061821774, 'positive': True, 'fit_intercept': True}. Best is trial 125 with value: 0.898638608305275.\n",
      "[I 2025-03-27 16:21:34,959] Trial 142 finished with value: 0.8969191919191919 and parameters: {'alpha': 0.3641502344697924, 'tol': 0.0021784170230697273, 'positive': False, 'fit_intercept': True}. Best is trial 125 with value: 0.898638608305275.\n",
      "[I 2025-03-27 16:21:36,860] Trial 141 finished with value: 0.8984949494949495 and parameters: {'alpha': 0.03073690622053249, 'tol': 0.002382343349550037, 'positive': True, 'fit_intercept': True}. Best is trial 125 with value: 0.898638608305275.\n",
      "[I 2025-03-27 16:21:41,557] Trial 143 finished with value: 0.8984870931537599 and parameters: {'alpha': 0.1917296805450572, 'tol': 0.002349578308699359, 'positive': True, 'fit_intercept': True}. Best is trial 125 with value: 0.898638608305275.\n",
      "[I 2025-03-27 16:21:41,937] Trial 144 finished with value: 0.8985263748597082 and parameters: {'alpha': 0.3463322656089333, 'tol': 0.0016132454156235127, 'positive': True, 'fit_intercept': True}. Best is trial 125 with value: 0.898638608305275.\n",
      "[I 2025-03-27 16:21:42,352] Trial 145 finished with value: 0.8985398428731761 and parameters: {'alpha': 0.10053962635377603, 'tol': 0.001194745336456172, 'positive': True, 'fit_intercept': True}. Best is trial 125 with value: 0.898638608305275.\n",
      "[I 2025-03-27 16:21:45,371] Trial 146 finished with value: 0.8985387205387205 and parameters: {'alpha': 0.13054148026849077, 'tol': 0.0016663623283038943, 'positive': True, 'fit_intercept': True}. Best is trial 125 with value: 0.898638608305275.\n",
      "[I 2025-03-27 16:21:48,776] Trial 147 finished with value: 0.8979506172839506 and parameters: {'alpha': 2.0997007822567983, 'tol': 0.0007529987651469065, 'positive': True, 'fit_intercept': True}. Best is trial 125 with value: 0.898638608305275.\n",
      "[I 2025-03-27 16:21:48,979] Trial 148 finished with value: 0.8979955106621773 and parameters: {'alpha': 1.9373530514552044, 'tol': 0.0009422883984753507, 'positive': True, 'fit_intercept': True}. Best is trial 125 with value: 0.898638608305275.\n",
      "[I 2025-03-27 16:21:50,153] Trial 149 finished with value: 0.8985409652076318 and parameters: {'alpha': 0.0709782032775853, 'tol': 0.001468714924440652, 'positive': True, 'fit_intercept': True}. Best is trial 125 with value: 0.898638608305275.\n",
      "[I 2025-03-27 16:21:53,778] Trial 150 finished with value: 0.8977991021324354 and parameters: {'alpha': 0.547714785613255, 'tol': 0.0019544243688159675, 'positive': True, 'fit_intercept': False}. Best is trial 125 with value: 0.898638608305275.\n",
      "[I 2025-03-27 16:21:56,246] Trial 151 finished with value: 0.8985387205387205 and parameters: {'alpha': 0.12074104636975107, 'tol': 0.0017516660731751767, 'positive': True, 'fit_intercept': True}. Best is trial 125 with value: 0.898638608305275.\n",
      "[I 2025-03-27 16:21:56,605] Trial 152 finished with value: 0.89776430976431 and parameters: {'alpha': 0.07099776192182353, 'tol': 0.0006598428283663817, 'positive': True, 'fit_intercept': True}. Best is trial 125 with value: 0.898638608305275.\n",
      "[I 2025-03-27 16:21:57,237] Trial 153 finished with value: 0.8978092031425364 and parameters: {'alpha': 0.5171781839427625, 'tol': 0.001958334597863869, 'positive': True, 'fit_intercept': False}. Best is trial 125 with value: 0.898638608305275.\n",
      "[I 2025-03-27 16:22:02,683] Trial 154 finished with value: 0.8979955106621773 and parameters: {'alpha': 0.14531890476802967, 'tol': 0.0007848622410945405, 'positive': True, 'fit_intercept': True}. Best is trial 125 with value: 0.898638608305275.\n",
      "[I 2025-03-27 16:22:03,647] Trial 156 finished with value: 0.8985016835016835 and parameters: {'alpha': 0.11495109386922109, 'tol': 0.001953326992734146, 'positive': True, 'fit_intercept': True}. Best is trial 125 with value: 0.898638608305275.\n",
      "[I 2025-03-27 16:22:03,654] Trial 155 finished with value: 0.8985252525252525 and parameters: {'alpha': 0.3629051470905228, 'tol': 0.0017723015901095981, 'positive': True, 'fit_intercept': True}. Best is trial 125 with value: 0.898638608305275.\n",
      "[I 2025-03-27 16:22:04,256] Trial 157 finished with value: 0.8985252525252525 and parameters: {'alpha': 0.3630717355018751, 'tol': 0.0017940142314187388, 'positive': True, 'fit_intercept': True}. Best is trial 125 with value: 0.898638608305275.\n",
      "[I 2025-03-27 16:22:10,674] Trial 158 finished with value: 0.8985387205387207 and parameters: {'alpha': 0.11772075243950003, 'tol': 0.0014746057751633102, 'positive': True, 'fit_intercept': True}. Best is trial 125 with value: 0.898638608305275.\n",
      "[I 2025-03-27 16:22:11,444] Trial 160 finished with value: 0.8985342312008979 and parameters: {'alpha': 0.02966192803583728, 'tol': 0.0009440557416181564, 'positive': True, 'fit_intercept': True}. Best is trial 125 with value: 0.898638608305275.\n",
      "[I 2025-03-27 16:22:11,456] Trial 159 finished with value: 0.8985263748597082 and parameters: {'alpha': 0.35232213328579276, 'tol': 0.0012475780191214605, 'positive': True, 'fit_intercept': True}. Best is trial 125 with value: 0.898638608305275.\n",
      "[I 2025-03-27 16:22:12,057] Trial 161 finished with value: 0.8985364758698091 and parameters: {'alpha': 0.13451237550741668, 'tol': 0.001073268599227605, 'positive': True, 'fit_intercept': True}. Best is trial 125 with value: 0.898638608305275.\n",
      "[I 2025-03-27 16:22:17,185] Trial 162 finished with value: 0.8985230078563411 and parameters: {'alpha': 0.0033731616614714466, 'tol': 0.0016000955328756951, 'positive': True, 'fit_intercept': True}. Best is trial 125 with value: 0.898638608305275.\n",
      "[I 2025-03-27 16:22:18,529] Trial 163 finished with value: 0.8985387205387205 and parameters: {'alpha': 0.0907462758537671, 'tol': 0.0017241387464042393, 'positive': True, 'fit_intercept': True}. Best is trial 125 with value: 0.898638608305275.\n",
      "[I 2025-03-27 16:22:19,099] Trial 164 finished with value: 0.8985375982042649 and parameters: {'alpha': 0.1935388161266351, 'tol': 0.001038232398364261, 'positive': True, 'fit_intercept': True}. Best is trial 125 with value: 0.898638608305275.\n",
      "[I 2025-03-27 16:22:21,005] Trial 165 finished with value: 0.8972121212121213 and parameters: {'alpha': 0.09787409102319272, 'tol': 0.0003938759204973009, 'positive': True, 'fit_intercept': True}. Best is trial 125 with value: 0.898638608305275.\n",
      "[I 2025-03-27 16:22:23,835] Trial 168 finished with value: 0.897979797979798 and parameters: {'alpha': 5.825700236150771, 'tol': 0.003529750661576101, 'positive': False, 'fit_intercept': True}. Best is trial 125 with value: 0.898638608305275.\n",
      "[I 2025-03-27 16:22:25,931] Trial 166 finished with value: 0.897398428731762 and parameters: {'alpha': 0.5579855458867662, 'tol': 0.0005769569815736041, 'positive': True, 'fit_intercept': True}. Best is trial 125 with value: 0.898638608305275.\n",
      "[I 2025-03-27 16:22:27,097] Trial 167 finished with value: 0.8972121212121211 and parameters: {'alpha': 0.22621315078827495, 'tol': 0.0003748585835110592, 'positive': True, 'fit_intercept': True}. Best is trial 125 with value: 0.898638608305275.\n",
      "[I 2025-03-27 16:22:29,922] Trial 169 finished with value: 0.896892255892256 and parameters: {'alpha': 0.12472504008636062, 'tol': 0.00014943115823396738, 'positive': True, 'fit_intercept': True}. Best is trial 125 with value: 0.898638608305275.\n",
      "[I 2025-03-27 16:22:30,894] Trial 170 finished with value: 0.897719416386083 and parameters: {'alpha': 2.0045344171611212, 'tol': 0.00032000855649730103, 'positive': True, 'fit_intercept': True}. Best is trial 125 with value: 0.898638608305275.\n",
      "[I 2025-03-27 16:22:33,793] Trial 172 finished with value: 0.8984758698092032 and parameters: {'alpha': 0.00411143187653093, 'tol': 0.0019234889430684056, 'positive': True, 'fit_intercept': True}. Best is trial 125 with value: 0.898638608305275.\n",
      "[I 2025-03-27 16:22:34,564] Trial 171 finished with value: 0.8970269360269361 and parameters: {'alpha': 0.022086031285584173, 'tol': 0.0001859169603000404, 'positive': True, 'fit_intercept': True}. Best is trial 125 with value: 0.898638608305275.\n",
      "[I 2025-03-27 16:22:37,802] Trial 173 finished with value: 0.8982783389450055 and parameters: {'alpha': 3.068184026568367, 'tol': 0.0012043365637880057, 'positive': True, 'fit_intercept': False}. Best is trial 125 with value: 0.898638608305275.\n",
      "[I 2025-03-27 16:22:38,587] Trial 174 finished with value: 0.8985005611672279 and parameters: {'alpha': 0.13204159767394846, 'tol': 0.001989242328114391, 'positive': True, 'fit_intercept': True}. Best is trial 125 with value: 0.898638608305275.\n",
      "[I 2025-03-27 16:22:41,195] Trial 175 finished with value: 0.8984175084175083 and parameters: {'alpha': 1.2960051406366162, 'tol': 0.0019566462027967484, 'positive': True, 'fit_intercept': True}. Best is trial 125 with value: 0.898638608305275.\n",
      "[I 2025-03-27 16:22:42,162] Trial 176 finished with value: 0.8983748597081931 and parameters: {'alpha': 1.5841278209557617, 'tol': 0.0026695491159066274, 'positive': True, 'fit_intercept': True}. Best is trial 125 with value: 0.898638608305275.\n",
      "[I 2025-03-27 16:22:45,163] Trial 177 finished with value: 0.8981964085297418 and parameters: {'alpha': 1.8423990487435666, 'tol': 0.0019709535620810337, 'positive': True, 'fit_intercept': True}. Best is trial 125 with value: 0.898638608305275.\n",
      "[I 2025-03-27 16:22:47,255] Trial 178 finished with value: 0.8983636363636365 and parameters: {'alpha': 1.9387158605960757, 'tol': 0.0026644582569672103, 'positive': True, 'fit_intercept': True}. Best is trial 125 with value: 0.898638608305275.\n",
      "[I 2025-03-27 16:22:48,181] Trial 180 finished with value: 0.8969068462401796 and parameters: {'alpha': 0.3456671769768421, 'tol': 0.0012520537494544776, 'positive': False, 'fit_intercept': True}. Best is trial 125 with value: 0.898638608305275.\n",
      "[I 2025-03-27 16:22:49,680] Trial 179 finished with value: 0.8981863075196408 and parameters: {'alpha': 1.5935001834981684, 'tol': 0.0018529020306369565, 'positive': True, 'fit_intercept': True}. Best is trial 125 with value: 0.898638608305275.\n",
      "[I 2025-03-27 16:22:50,442] Trial 181 finished with value: 0.8972053872053873 and parameters: {'alpha': 0.7538707979811006, 'tol': 0.0011558961811350171, 'positive': False, 'fit_intercept': True}. Best is trial 125 with value: 0.898638608305275.\n",
      "[I 2025-03-27 16:22:55,892] Trial 183 finished with value: 0.8984938271604939 and parameters: {'alpha': 0.02863318498811336, 'tol': 0.0024296815438855125, 'positive': True, 'fit_intercept': True}. Best is trial 125 with value: 0.898638608305275.\n",
      "[I 2025-03-27 16:22:56,470] Trial 182 finished with value: 0.8985375982042649 and parameters: {'alpha': 0.1757579046521739, 'tol': 0.0016549368740522426, 'positive': True, 'fit_intercept': True}. Best is trial 125 with value: 0.898638608305275.\n",
      "[I 2025-03-27 16:22:56,860] Trial 184 finished with value: 0.8983423120089786 and parameters: {'alpha': 8.641640304118951, 'tol': 0.005609015651097088, 'positive': True, 'fit_intercept': True}. Best is trial 125 with value: 0.898638608305275.\n",
      "[I 2025-03-27 16:22:57,851] Trial 185 finished with value: 0.8985308641975308 and parameters: {'alpha': 0.6215123026978269, 'tol': 0.0020933633411291995, 'positive': True, 'fit_intercept': True}. Best is trial 125 with value: 0.898638608305275.\n",
      "[I 2025-03-27 16:23:03,312] Trial 186 finished with value: 0.8985274971941639 and parameters: {'alpha': 0.011234084993930082, 'tol': 0.000954338641885662, 'positive': True, 'fit_intercept': True}. Best is trial 125 with value: 0.898638608305275.\n",
      "[I 2025-03-27 16:23:03,889] Trial 187 finished with value: 0.8983153759820426 and parameters: {'alpha': 0.395608049120825, 'tol': 0.002469382707151706, 'positive': True, 'fit_intercept': True}. Best is trial 125 with value: 0.898638608305275.\n",
      "[I 2025-03-27 16:23:05,220] Trial 188 finished with value: 0.8985364758698091 and parameters: {'alpha': 0.09201118164342163, 'tol': 0.0017185382341107969, 'positive': True, 'fit_intercept': True}. Best is trial 125 with value: 0.898638608305275.\n",
      "[I 2025-03-27 16:23:05,417] Trial 189 finished with value: 0.898297418630752 and parameters: {'alpha': 0.0801392392312484, 'tol': 0.00437524222830354, 'positive': True, 'fit_intercept': True}. Best is trial 125 with value: 0.898638608305275.\n",
      "[I 2025-03-27 16:23:10,729] Trial 190 finished with value: 0.8982648709315375 and parameters: {'alpha': 0.03381736852727671, 'tol': 0.00329743485538973, 'positive': True, 'fit_intercept': True}. Best is trial 125 with value: 0.898638608305275.\n",
      "[I 2025-03-27 16:23:11,497] Trial 191 finished with value: 0.8984971941638609 and parameters: {'alpha': 0.12537244430480107, 'tol': 0.002040097328787193, 'positive': True, 'fit_intercept': True}. Best is trial 125 with value: 0.898638608305275.\n",
      "[I 2025-03-27 16:23:12,859] Trial 192 finished with value: 0.8982648709315375 and parameters: {'alpha': 0.015298164246098284, 'tol': 0.0030435463170590702, 'positive': True, 'fit_intercept': True}. Best is trial 125 with value: 0.898638608305275.\n",
      "[I 2025-03-27 16:23:12,871] Trial 193 finished with value: 0.8981077441077441 and parameters: {'alpha': 2.0445582060503087, 'tol': 0.0009895888664796565, 'positive': True, 'fit_intercept': True}. Best is trial 125 with value: 0.898638608305275.\n",
      "[I 2025-03-27 16:23:18,007] Trial 194 finished with value: 0.8985398428731762 and parameters: {'alpha': 0.04246998085580267, 'tol': 0.0014119418497838172, 'positive': True, 'fit_intercept': True}. Best is trial 125 with value: 0.898638608305275.\n",
      "[I 2025-03-27 16:23:18,946] Trial 195 finished with value: 0.8985353535353535 and parameters: {'alpha': 0.1888705938942189, 'tol': 0.0015504227249251309, 'positive': True, 'fit_intercept': True}. Best is trial 125 with value: 0.898638608305275.\n",
      "[I 2025-03-27 16:23:21,018] Trial 197 finished with value: 0.8985375982042648 and parameters: {'alpha': 0.26574301248435894, 'tol': 0.0017390001805243987, 'positive': True, 'fit_intercept': True}. Best is trial 125 with value: 0.898638608305275.\n",
      "[I 2025-03-27 16:23:21,223] Trial 196 finished with value: 0.8985409652076319 and parameters: {'alpha': 0.16770278724718357, 'tol': 0.0013133325595950922, 'positive': True, 'fit_intercept': True}. Best is trial 125 with value: 0.898638608305275.\n",
      "[I 2025-03-27 16:23:22,955] Trial 198 finished with value: 0.896979797979798 and parameters: {'alpha': 0.4336117030530051, 'tol': 0.009778324343183927, 'positive': False, 'fit_intercept': True}. Best is trial 125 with value: 0.898638608305275.\n",
      "[I 2025-03-27 16:23:27,309] Trial 199 finished with value: 0.8984859708193041 and parameters: {'alpha': 0.22156595049226036, 'tol': 0.0022367962033689633, 'positive': True, 'fit_intercept': True}. Best is trial 125 with value: 0.898638608305275.\n",
      "[I 2025-03-27 16:23:28,831] Trial 200 finished with value: 0.8984781144781144 and parameters: {'alpha': 0.006260504906281453, 'tol': 0.0019598598335044256, 'positive': True, 'fit_intercept': True}. Best is trial 125 with value: 0.898638608305275.\n",
      "[I 2025-03-27 16:23:29,782] Trial 201 finished with value: 0.8985443322109987 and parameters: {'alpha': 0.06559866711333312, 'tol': 0.0014611059198993011, 'positive': True, 'fit_intercept': True}. Best is trial 125 with value: 0.898638608305275.\n",
      "[I 2025-03-27 16:23:30,558] Trial 202 finished with value: 0.8978002244668912 and parameters: {'alpha': 1.9519972956269473, 'tol': 0.0007135723907410559, 'positive': True, 'fit_intercept': True}. Best is trial 125 with value: 0.898638608305275.\n",
      "[I 2025-03-27 16:23:34,358] Trial 203 finished with value: 0.8980291806958474 and parameters: {'alpha': 1.859857673620363, 'tol': 0.0014599894025084412, 'positive': True, 'fit_intercept': True}. Best is trial 125 with value: 0.898638608305275.\n",
      "[I 2025-03-27 16:23:36,069] Trial 204 finished with value: 0.8981088664421997 and parameters: {'alpha': 2.013948859894071, 'tol': 0.0010481961064766753, 'positive': True, 'fit_intercept': True}. Best is trial 125 with value: 0.898638608305275.\n",
      "[I 2025-03-27 16:23:37,984] Trial 205 finished with value: 0.8977542087542087 and parameters: {'alpha': 1.6337214923526635, 'tol': 0.00010808051301548424, 'positive': True, 'fit_intercept': True}. Best is trial 125 with value: 0.898638608305275.\n",
      "[I 2025-03-27 16:23:38,742] Trial 206 finished with value: 0.8985353535353535 and parameters: {'alpha': 0.18869076097025467, 'tol': 0.0013468329112457187, 'positive': True, 'fit_intercept': True}. Best is trial 125 with value: 0.898638608305275.\n",
      "[I 2025-03-27 16:23:41,368] Trial 207 finished with value: 0.8985443322109989 and parameters: {'alpha': 0.22806927243621036, 'tol': 0.0015485604178380424, 'positive': True, 'fit_intercept': True}. Best is trial 125 with value: 0.898638608305275.\n",
      "[I 2025-03-27 16:23:44,371] Trial 210 finished with value: 0.896881032547699 and parameters: {'alpha': 0.4629035780100397, 'tol': 0.006459932753582464, 'positive': False, 'fit_intercept': False}. Best is trial 125 with value: 0.898638608305275.\n",
      "[I 2025-03-27 16:23:45,126] Trial 208 finished with value: 0.8985443322109989 and parameters: {'alpha': 0.240614925467515, 'tol': 0.0009875675257051714, 'positive': True, 'fit_intercept': True}. Best is trial 125 with value: 0.898638608305275.\n",
      "[I 2025-03-27 16:23:47,033] Trial 211 finished with value: 0.8972143658810325 and parameters: {'alpha': 1.0817167982465392, 'tol': 0.0060780650554690275, 'positive': False, 'fit_intercept': False}. Best is trial 125 with value: 0.898638608305275.\n",
      "[I 2025-03-27 16:23:47,987] Trial 209 finished with value: 0.8985364758698091 and parameters: {'alpha': 0.5950494266990278, 'tol': 0.0015235904946678766, 'positive': True, 'fit_intercept': True}. Best is trial 125 with value: 0.898638608305275.\n",
      "[I 2025-03-27 16:23:51,935] Trial 212 finished with value: 0.8985409652076319 and parameters: {'alpha': 0.5667627410084455, 'tol': 0.0013979715948435568, 'positive': True, 'fit_intercept': True}. Best is trial 125 with value: 0.898638608305275.\n",
      "[I 2025-03-27 16:23:53,115] Trial 213 finished with value: 0.8971739618406285 and parameters: {'alpha': 0.437775950834304, 'tol': 0.0006276429482526798, 'positive': True, 'fit_intercept': True}. Best is trial 125 with value: 0.898638608305275.\n",
      "[I 2025-03-27 16:23:54,049] Trial 214 finished with value: 0.8980044893378226 and parameters: {'alpha': 0.07486656266907904, 'tol': 0.0008678965174677747, 'positive': True, 'fit_intercept': True}. Best is trial 125 with value: 0.898638608305275.\n",
      "[I 2025-03-27 16:23:56,128] Trial 215 finished with value: 0.8977306397306397 and parameters: {'alpha': 0.19135815188405084, 'tol': 0.00034395920016522285, 'positive': True, 'fit_intercept': False}. Best is trial 125 with value: 0.898638608305275.\n",
      "[I 2025-03-27 16:23:58,982] Trial 216 finished with value: 0.8985274971941639 and parameters: {'alpha': 0.012275355097225618, 'tol': 0.0009633700064033924, 'positive': True, 'fit_intercept': True}. Best is trial 125 with value: 0.898638608305275.\n",
      "[I 2025-03-27 16:24:00,688] Trial 217 finished with value: 0.8985375982042648 and parameters: {'alpha': 0.2074079017445204, 'tol': 0.0015239742595610957, 'positive': True, 'fit_intercept': True}. Best is trial 125 with value: 0.898638608305275.\n",
      "[I 2025-03-27 16:24:02,034] Trial 218 finished with value: 0.8972143658810325 and parameters: {'alpha': 0.06984694736400247, 'tol': 0.00044643658973718436, 'positive': True, 'fit_intercept': True}. Best is trial 125 with value: 0.898638608305275.\n",
      "[I 2025-03-27 16:24:02,676] Trial 219 finished with value: 0.8985420875420873 and parameters: {'alpha': 0.08100774846108715, 'tol': 0.0012131488378382595, 'positive': True, 'fit_intercept': True}. Best is trial 125 with value: 0.898638608305275.\n",
      "[I 2025-03-27 16:24:08,338] Trial 220 finished with value: 0.897121212121212 and parameters: {'alpha': 0.0839453995933774, 'tol': 0.00023078170403674665, 'positive': True, 'fit_intercept': True}. Best is trial 125 with value: 0.898638608305275.\n",
      "[I 2025-03-27 16:24:08,548] Trial 222 finished with value: 0.8983613916947251 and parameters: {'alpha': 1.7794776410925062, 'tol': 0.0027567323587552473, 'positive': True, 'fit_intercept': True}. Best is trial 125 with value: 0.898638608305275.\n",
      "[I 2025-03-27 16:24:09,512] Trial 221 finished with value: 0.896895622895623 and parameters: {'alpha': 0.01041089914197979, 'tol': 0.00010833282684292729, 'positive': True, 'fit_intercept': True}. Best is trial 125 with value: 0.898638608305275.\n",
      "[I 2025-03-27 16:24:10,082] Trial 223 finished with value: 0.8983400673400674 and parameters: {'alpha': 1.8704947334516964, 'tol': 0.0029599942868430537, 'positive': True, 'fit_intercept': True}. Best is trial 125 with value: 0.898638608305275.\n",
      "[I 2025-03-27 16:24:15,404] Trial 224 finished with value: 0.8981919191919192 and parameters: {'alpha': 1.8206832685983638, 'tol': 0.0020613949918205005, 'positive': True, 'fit_intercept': True}. Best is trial 125 with value: 0.898638608305275.\n",
      "[I 2025-03-27 16:24:15,598] Trial 225 finished with value: 0.8982929292929294 and parameters: {'alpha': 1.4114554314102958, 'tol': 0.0020246741185556984, 'positive': True, 'fit_intercept': True}. Best is trial 125 with value: 0.898638608305275.\n",
      "[I 2025-03-27 16:24:16,789] Trial 226 finished with value: 0.8981997755331089 and parameters: {'alpha': 1.8665735037698483, 'tol': 0.001843882213924982, 'positive': True, 'fit_intercept': True}. Best is trial 125 with value: 0.898638608305275.\n",
      "[I 2025-03-27 16:24:18,512] Trial 227 finished with value: 0.8984994388327723 and parameters: {'alpha': 0.09842617648389461, 'tol': 0.0023437597284366525, 'positive': True, 'fit_intercept': True}. Best is trial 125 with value: 0.898638608305275.\n",
      "[I 2025-03-27 16:24:23,615] Trial 229 finished with value: 0.8984859708193041 and parameters: {'alpha': 0.22577936432689127, 'tol': 0.002300830193519103, 'positive': True, 'fit_intercept': True}. Best is trial 125 with value: 0.898638608305275.\n",
      "[I 2025-03-27 16:24:23,620] Trial 228 finished with value: 0.8984960718294053 and parameters: {'alpha': 0.040847150122063546, 'tol': 0.002208634185313309, 'positive': True, 'fit_intercept': True}. Best is trial 125 with value: 0.898638608305275.\n",
      "[I 2025-03-27 16:24:24,223] Trial 230 finished with value: 0.8984859708193041 and parameters: {'alpha': 0.20033808665800223, 'tol': 0.001972664376011247, 'positive': True, 'fit_intercept': True}. Best is trial 125 with value: 0.898638608305275.\n",
      "[I 2025-03-27 16:24:25,942] Trial 231 finished with value: 0.8985331088664423 and parameters: {'alpha': 0.027622846439183862, 'tol': 0.0012182201670026674, 'positive': True, 'fit_intercept': True}. Best is trial 125 with value: 0.898638608305275.\n",
      "[I 2025-03-27 16:24:30,447] Trial 232 finished with value: 0.8984949494949495 and parameters: {'alpha': 0.16442034597634836, 'tol': 0.0019569556646871337, 'positive': True, 'fit_intercept': True}. Best is trial 125 with value: 0.898638608305275.\n",
      "[I 2025-03-27 16:24:31,788] Trial 234 finished with value: 0.8985331088664421 and parameters: {'alpha': 0.018560257945185538, 'tol': 0.0010071141758661371, 'positive': True, 'fit_intercept': True}. Best is trial 125 with value: 0.898638608305275.\n",
      "[I 2025-03-27 16:24:32,750] Trial 233 finished with value: 0.8977037037037037 and parameters: {'alpha': 1.6510933610991843, 'tol': 4.7071566518151276e-05, 'positive': True, 'fit_intercept': True}. Best is trial 125 with value: 0.898638608305275.\n",
      "[I 2025-03-27 16:24:32,955] Trial 235 finished with value: 0.8977946127946127 and parameters: {'alpha': 1.221820507646135, 'tol': 0.0008424739217892355, 'positive': True, 'fit_intercept': True}. Best is trial 125 with value: 0.898638608305275.\n",
      "[I 2025-03-27 16:24:37,675] Trial 236 finished with value: 0.8981324354657687 and parameters: {'alpha': 1.6289999959060046, 'tol': 0.0015636276028034302, 'positive': True, 'fit_intercept': True}. Best is trial 125 with value: 0.898638608305275.\n",
      "[I 2025-03-27 16:24:39,568] Trial 237 finished with value: 0.8981301907968575 and parameters: {'alpha': 1.8049793139103898, 'tol': 0.0010333407563051, 'positive': True, 'fit_intercept': True}. Best is trial 125 with value: 0.898638608305275.\n",
      "[I 2025-03-27 16:24:40,326] Trial 239 finished with value: 0.8981447811447811 and parameters: {'alpha': 1.710309425732544, 'tol': 0.001546887773479031, 'positive': True, 'fit_intercept': True}. Best is trial 125 with value: 0.898638608305275.\n",
      "[I 2025-03-27 16:24:40,327] Trial 238 finished with value: 0.8980673400673401 and parameters: {'alpha': 1.6134943926237852, 'tol': 0.001240552737110949, 'positive': True, 'fit_intercept': True}. Best is trial 125 with value: 0.898638608305275.\n",
      "[I 2025-03-27 16:24:45,469] Trial 240 finished with value: 0.8985375982042649 and parameters: {'alpha': 0.13707934140740172, 'tol': 0.0012487518819204874, 'positive': True, 'fit_intercept': True}. Best is trial 125 with value: 0.898638608305275.\n",
      "[I 2025-03-27 16:24:46,832] Trial 241 finished with value: 0.8983726150392818 and parameters: {'alpha': 0.1341117576335845, 'tol': 0.002830406778678297, 'positive': True, 'fit_intercept': True}. Best is trial 125 with value: 0.898638608305275.\n",
      "[I 2025-03-27 16:24:47,994] Trial 242 finished with value: 0.8984971941638609 and parameters: {'alpha': 0.08791531468300566, 'tol': 0.00187526728159464, 'positive': True, 'fit_intercept': True}. Best is trial 125 with value: 0.898638608305275.\n",
      "[I 2025-03-27 16:24:48,185] Trial 243 finished with value: 0.8984983164983165 and parameters: {'alpha': 0.05448794920553285, 'tol': 0.0020837257217953416, 'positive': True, 'fit_intercept': True}. Best is trial 125 with value: 0.898638608305275.\n",
      "[I 2025-03-27 16:24:52,757] Trial 244 finished with value: 0.8984837261503928 and parameters: {'alpha': 0.011021908352799481, 'tol': 0.0020751018692738675, 'positive': True, 'fit_intercept': True}. Best is trial 125 with value: 0.898638608305275.\n",
      "[I 2025-03-27 16:24:54,461] Trial 245 finished with value: 0.8984960718294052 and parameters: {'alpha': 0.09183931557658902, 'tol': 0.0018728674243625799, 'positive': True, 'fit_intercept': True}. Best is trial 125 with value: 0.898638608305275.\n",
      "[I 2025-03-27 16:24:55,794] Trial 246 finished with value: 0.8985353535353536 and parameters: {'alpha': 0.09722001365789457, 'tol': 0.0016467420020858804, 'positive': True, 'fit_intercept': True}. Best is trial 125 with value: 0.898638608305275.\n",
      "[I 2025-03-27 16:24:55,799] Trial 247 finished with value: 0.8985263748597081 and parameters: {'alpha': 0.00857231112298476, 'tol': 0.0015054095483661009, 'positive': True, 'fit_intercept': True}. Best is trial 125 with value: 0.898638608305275.\n",
      "[I 2025-03-27 16:24:58,757] Trial 248 finished with value: 0.8977553310886642 and parameters: {'alpha': 0.10482825099667539, 'tol': 0.0006389403667469283, 'positive': True, 'fit_intercept': True}. Best is trial 125 with value: 0.898638608305275.\n",
      "[I 2025-03-27 16:24:58,942] Trial 249 finished with value: 0.8985454545454545 and parameters: {'alpha': 0.059956334908041614, 'tol': 0.0013609843396492351, 'positive': True, 'fit_intercept': True}. Best is trial 125 with value: 0.898638608305275.\n"
     ]
    }
   ],
   "source": [
    "def objective(trial):    \n",
    "    params = {\n",
    "        \"random_state\": CFG.seed,\n",
    "        \"alpha\": trial.suggest_float(\"alpha\", 0, 10),\n",
    "        \"tol\": trial.suggest_float(\"tol\", 1e-7, 1e-2),\n",
    "        \"positive\": trial.suggest_categorical(\"positive\", [True, False]),\n",
    "        \"fit_intercept\": trial.suggest_categorical(\"fit_intercept\", [True, False])\n",
    "    }\n",
    "    \n",
    "    model = Ridge(**params)\n",
    "    trainer = Trainer(model, is_ensemble_model=True)\n",
    "    return trainer.tune(X, y)\n",
    "\n",
    "if CFG.run_optuna:\n",
    "    sampler = optuna.samplers.TPESampler(seed=CFG.seed, multivariate=True, n_startup_trials=CFG.optuna_trials // 10)\n",
    "    study = optuna.create_study(direction=\"maximize\", sampler=sampler)\n",
    "    study.optimize(objective, n_trials=CFG.optuna_trials, n_jobs=-1)\n",
    "    best_params = study.best_params\n",
    "    \n",
    "    ridge_params = {\n",
    "        \"random_state\": CFG.seed,\n",
    "        \"alpha\": best_params[\"alpha\"],\n",
    "        \"tol\": best_params[\"tol\"],\n",
    "        \"positive\": best_params[\"positive\"],\n",
    "        \"fit_intercept\": best_params[\"fit_intercept\"]\n",
    "    }\n",
    "else:\n",
    "    ridge_params = {\n",
    "      \"random_state\": 42\n",
    "    }"
   ]
  },
  {
   "cell_type": "code",
   "execution_count": 35,
   "id": "a8136bb2",
   "metadata": {
    "execution": {
     "iopub.execute_input": "2025-03-27T16:24:59.020914Z",
     "iopub.status.busy": "2025-03-27T16:24:59.020682Z",
     "iopub.status.idle": "2025-03-27T16:24:59.024613Z",
     "shell.execute_reply": "2025-03-27T16:24:59.023775Z"
    },
    "papermill": {
     "duration": 0.041172,
     "end_time": "2025-03-27T16:24:59.025829",
     "exception": false,
     "start_time": "2025-03-27T16:24:58.984657",
     "status": "completed"
    },
    "tags": []
   },
   "outputs": [
    {
     "name": "stdout",
     "output_type": "stream",
     "text": [
      "{\n",
      "  \"random_state\": 2100,\n",
      "  \"alpha\": 0.7408189847741736,\n",
      "  \"tol\": 0.0012889326620163849,\n",
      "  \"positive\": true,\n",
      "  \"fit_intercept\": true\n",
      "}\n"
     ]
    }
   ],
   "source": [
    "print(json.dumps(ridge_params, indent=2))"
   ]
  },
  {
   "cell_type": "code",
   "execution_count": 36,
   "id": "c389b16e",
   "metadata": {
    "execution": {
     "iopub.execute_input": "2025-03-27T16:24:59.096771Z",
     "iopub.status.busy": "2025-03-27T16:24:59.096562Z",
     "iopub.status.idle": "2025-03-27T16:25:00.979270Z",
     "shell.execute_reply": "2025-03-27T16:25:00.978388Z"
    },
    "papermill": {
     "duration": 1.919472,
     "end_time": "2025-03-27T16:25:00.980675",
     "exception": false,
     "start_time": "2025-03-27T16:24:59.061203",
     "status": "completed"
    },
    "tags": []
   },
   "outputs": [
    {
     "name": "stdout",
     "output_type": "stream",
     "text": [
      "Training Ridge\n",
      "\n",
      "--- Fold 1 - ROC AUC: 0.881594\n",
      "--- Fold 2 - ROC AUC: 0.900224\n",
      "--- Fold 3 - ROC AUC: 0.918182\n",
      "--- Fold 4 - ROC AUC: 0.918743\n",
      "--- Fold 5 - ROC AUC: 0.873962\n",
      "--- Fold 6 - ROC AUC: 0.884624\n",
      "--- Fold 7 - ROC AUC: 0.897419\n",
      "--- Fold 8 - ROC AUC: 0.863412\n",
      "--- Fold 9 - ROC AUC: 0.938159\n",
      "--- Fold 10 - ROC AUC: 0.915376\n",
      "\n",
      "------ Overall: 0.898639 | Average: 0.899169 ± 0.022285\n"
     ]
    }
   ],
   "source": [
    "ridge_model = Ridge(**ridge_params)\n",
    "ridge_trainer = Trainer(ridge_model, is_ensemble_model=True)\n",
    "lr_oof_pred_probs, lr_test_pred_probs, overall_scores[\"Ensemble Ridge\"], scores[\"Ensemble Ridge\"], ridge_coeffs = ridge_trainer.fit_predict(X, y, X_test)"
   ]
  },
  {
   "cell_type": "code",
   "execution_count": 37,
   "id": "e4084dc6",
   "metadata": {
    "execution": {
     "iopub.execute_input": "2025-03-27T16:25:01.057782Z",
     "iopub.status.busy": "2025-03-27T16:25:01.057515Z",
     "iopub.status.idle": "2025-03-27T16:25:01.104587Z",
     "shell.execute_reply": "2025-03-27T16:25:01.103903Z"
    },
    "papermill": {
     "duration": 0.085729,
     "end_time": "2025-03-27T16:25:01.105737",
     "exception": false,
     "start_time": "2025-03-27T16:25:01.020008",
     "status": "completed"
    },
    "tags": []
   },
   "outputs": [
    {
     "data": {
      "text/html": [
       "<div>\n",
       "<style scoped>\n",
       "    .dataframe tbody tr th:only-of-type {\n",
       "        vertical-align: middle;\n",
       "    }\n",
       "\n",
       "    .dataframe tbody tr th {\n",
       "        vertical-align: top;\n",
       "    }\n",
       "\n",
       "    .dataframe thead th {\n",
       "        text-align: right;\n",
       "    }\n",
       "</style>\n",
       "<table border=\"1\" class=\"dataframe\">\n",
       "  <thead>\n",
       "    <tr style=\"text-align: right;\">\n",
       "      <th></th>\n",
       "      <th>id</th>\n",
       "      <th>rainfall</th>\n",
       "    </tr>\n",
       "  </thead>\n",
       "  <tbody>\n",
       "    <tr>\n",
       "      <th>0</th>\n",
       "      <td>2190</td>\n",
       "      <td>0.998163</td>\n",
       "    </tr>\n",
       "    <tr>\n",
       "      <th>1</th>\n",
       "      <td>2191</td>\n",
       "      <td>1.002666</td>\n",
       "    </tr>\n",
       "    <tr>\n",
       "      <th>2</th>\n",
       "      <td>2192</td>\n",
       "      <td>0.940845</td>\n",
       "    </tr>\n",
       "    <tr>\n",
       "      <th>3</th>\n",
       "      <td>2193</td>\n",
       "      <td>0.141338</td>\n",
       "    </tr>\n",
       "    <tr>\n",
       "      <th>4</th>\n",
       "      <td>2194</td>\n",
       "      <td>0.075863</td>\n",
       "    </tr>\n",
       "  </tbody>\n",
       "</table>\n",
       "</div>"
      ],
      "text/plain": [
       "     id  rainfall\n",
       "0  2190  0.998163\n",
       "1  2191  1.002666\n",
       "2  2192  0.940845\n",
       "3  2193  0.141338\n",
       "4  2194  0.075863"
      ]
     },
     "execution_count": 37,
     "metadata": {},
     "output_type": "execute_result"
    }
   ],
   "source": [
    "save_submission(\"ensemble-ridge\", lr_test_pred_probs, np.mean(scores[\"Ensemble Ridge\"]))"
   ]
  },
  {
   "cell_type": "code",
   "execution_count": 38,
   "id": "db2e5052",
   "metadata": {
    "execution": {
     "iopub.execute_input": "2025-03-27T16:25:01.178421Z",
     "iopub.status.busy": "2025-03-27T16:25:01.178146Z",
     "iopub.status.idle": "2025-03-27T16:25:01.425228Z",
     "shell.execute_reply": "2025-03-27T16:25:01.424380Z"
    },
    "papermill": {
     "duration": 0.284759,
     "end_time": "2025-03-27T16:25:01.426664",
     "exception": false,
     "start_time": "2025-03-27T16:25:01.141905",
     "status": "completed"
    },
    "tags": []
   },
   "outputs": [
    {
     "data": {
      "image/png": "[encoded data removed]",
      "text/plain": [
       "<Figure size 1000x360 with 1 Axes>"
      ]
     },
     "metadata": {},
     "output_type": "display_data"
    }
   ],
   "source": [
    "plot_weights(ridge_coeffs, \"Ridge Coefficients\")"
   ]
  },
  {
   "cell_type": "markdown",
   "id": "76696ddb",
   "metadata": {
    "papermill": {
     "duration": 0.037219,
     "end_time": "2025-03-27T16:25:01.502417",
     "exception": false,
     "start_time": "2025-03-27T16:25:01.465198",
     "status": "completed"
    },
    "tags": []
   },
   "source": [
    "# Results"
   ]
  },
  {
   "cell_type": "code",
   "execution_count": 39,
   "id": "742cf035",
   "metadata": {
    "_kg_hide-input": false,
    "execution": {
     "iopub.execute_input": "2025-03-27T16:25:01.576788Z",
     "iopub.status.busy": "2025-03-27T16:25:01.576556Z",
     "iopub.status.idle": "2025-03-27T16:25:02.137729Z",
     "shell.execute_reply": "2025-03-27T16:25:02.136929Z"
    },
    "papermill": {
     "duration": 0.600351,
     "end_time": "2025-03-27T16:25:02.139456",
     "exception": false,
     "start_time": "2025-03-27T16:25:01.539105",
     "status": "completed"
    },
    "tags": []
   },
   "outputs": [
    {
     "data": {
      "image/png": "[encoded data removed]",
      "text/plain": [
       "<Figure size 1500x300 with 2 Axes>"
      ]
     },
     "metadata": {},
     "output_type": "display_data"
    }
   ],
   "source": [
    "scores_df = pd.DataFrame(scores)\n",
    "overall_scores_series = pd.Series({k: v for k, v in overall_scores.items()})\n",
    "order = overall_scores_series.sort_values(ascending=False).index.tolist()\n",
    "\n",
    "min_score = overall_scores_series.min()\n",
    "max_score = overall_scores_series.max()\n",
    "padding = (max_score - min_score) * 0.5\n",
    "lower_limit = min_score - padding\n",
    "upper_limit = max_score + padding\n",
    "\n",
    "fig, axs = plt.subplots(1, 2, figsize=(15, len(scores_df) * 0.3))\n",
    "\n",
    "sns.boxplot(data=scores_df, order=order, ax=axs[0], orient=\"h\", palette=\"RdYlGn_r\")\n",
    "axs[0].set_title(\"Fold ROC AUC\")\n",
    "axs[0].set_xlabel(\"\")\n",
    "axs[0].set_ylabel(\"\")\n",
    "\n",
    "barplot = sns.barplot(x=overall_scores_series, y=overall_scores_series.index, ax=axs[1], palette=\"RdYlGn_r\", order=order)\n",
    "axs[1].set_title(\"Overall ROC AUC\")\n",
    "axs[1].set_xlabel(\"\")\n",
    "axs[1].set_xlim(left=lower_limit, right=upper_limit)\n",
    "axs[1].set_ylabel(\"\")\n",
    "\n",
    "for i, score in enumerate(overall_scores_series[order]):\n",
    "    barplot.text(score, i, f\"{score:.6f}\", va=\"center\")\n",
    "\n",
    "plt.tight_layout()\n",
    "plt.show()"
   ]
  },
  {
   "cell_type": "code",
   "execution_count": 40,
   "id": "be502e02",
   "metadata": {
    "execution": {
     "iopub.execute_input": "2025-03-27T16:25:02.234812Z",
     "iopub.status.busy": "2025-03-27T16:25:02.234556Z",
     "iopub.status.idle": "2025-03-27T16:25:02.238798Z",
     "shell.execute_reply": "2025-03-27T16:25:02.237852Z"
    },
    "papermill": {
     "duration": 0.045142,
     "end_time": "2025-03-27T16:25:02.240135",
     "exception": false,
     "start_time": "2025-03-27T16:25:02.194993",
     "status": "completed"
    },
    "tags": []
   },
   "outputs": [],
   "source": [
    "shutil.rmtree(\"catboost_info\", ignore_errors=True)"
   ]
  }
 ],
 "metadata": {
  "kaggle": {
   "accelerator": "gpu",
   "dataSources": [
    {
     "databundleVersionId": 11251744,
     "sourceId": 91714,
     "sourceType": "competition"
    },
    {
     "datasetId": 5651545,
     "sourceId": 9328134,
     "sourceType": "datasetVersion"
    },
    {
     "datasetId": 6808865,
     "sourceId": 10950387,
     "sourceType": "datasetVersion"
    }
   ],
   "dockerImageVersionId": 30918,
   "isGpuEnabled": true,
   "isInternetEnabled": true,
   "language": "python",
   "sourceType": "notebook"
  },
  "kernelspec": {
   "display_name": "Python 3",
   "language": "python",
   "name": "python3"
  },
  "language_info": {
   "codemirror_mode": {
    "name": "ipython",
    "version": 3
   },
   "file_extension": ".py",
   "mimetype": "text/x-python",
   "name": "python",
   "nbconvert_exporter": "python",
   "pygments_lexer": "ipython3",
   "version": "3.10.12"
  },
  "papermill": {
   "default_parameters": {},
   "duration": 1251.380122,
   "end_time": "2025-03-27T16:25:04.824034",
   "environment_variables": {},
   "exception": null,
   "input_path": "__notebook__.ipynb",
   "output_path": "__notebook__.ipynb",
   "parameters": {},
   "start_time": "2025-03-27T16:04:13.443912",
   "version": "2.6.0"
  },
  "widgets": {
   "application/vnd.jupyter.widget-state+json": {
    "state": {
     "18f6004cff3942358f5649b4b3733f3b": {
      "model_module": "@jupyter-widgets/base",
      "model_module_version": "2.0.0",
      "model_name": "LayoutModel",
      "state": {
       "_model_module": "@jupyter-widgets/base",
       "_model_module_version": "2.0.0",
       "_model_name": "LayoutModel",
       "_view_count": null,
       "_view_module": "@jupyter-widgets/base",
       "_view_module_version": "2.0.0",
       "_view_name": "LayoutView",
       "align_content": null,
       "align_items": null,
       "align_self": null,
       "border_bottom": null,
       "border_left": null,
       "border_right": null,
       "border_top": null,
       "bottom": null,
       "display": null,
       "flex": null,
       "flex_flow": null,
       "grid_area": null,
       "grid_auto_columns": null,
       "grid_auto_flow": null,
       "grid_auto_rows": null,
       "grid_column": null,
       "grid_gap": null,
       "grid_row": null,
       "grid_template_areas": null,
       "grid_template_columns": null,
       "grid_template_rows": null,
       "height": null,
       "justify_content": null,
       "justify_items": null,
       "left": null,
       "margin": null,
       "max_height": null,
       "max_width": null,
       "min_height": null,
       "min_width": null,
       "object_fit": null,
       "object_position": null,
       "order": null,
       "overflow": null,
       "padding": null,
       "right": null,
       "top": null,
       "visibility": null,
       "width": null
      }
     },
     "22c02f5079ef4786bf14c33fdb300f90": {
      "model_module": "@jupyter-widgets/base",
      "model_module_version": "2.0.0",
      "model_name": "LayoutModel",
      "state": {
       "_model_module": "@jupyter-widgets/base",
       "_model_module_version": "2.0.0",
       "_model_name": "LayoutModel",
       "_view_count": null,
       "_view_module": "@jupyter-widgets/base",
       "_view_module_version": "2.0.0",
       "_view_name": "LayoutView",
       "align_content": null,
       "align_items": null,
       "align_self": null,
       "border_bottom": null,
       "border_left": null,
       "border_right": null,
       "border_top": null,
       "bottom": null,
       "display": null,
       "flex": null,
       "flex_flow": null,
       "grid_area": null,
       "grid_auto_columns": null,
       "grid_auto_flow": null,
       "grid_auto_rows": null,
       "grid_column": null,
       "grid_gap": null,
       "grid_row": null,
       "grid_template_areas": null,
       "grid_template_columns": null,
       "grid_template_rows": null,
       "height": null,
       "justify_content": null,
       "justify_items": null,
       "left": null,
       "margin": null,
       "max_height": null,
       "max_width": null,
       "min_height": null,
       "min_width": null,
       "object_fit": null,
       "object_position": null,
       "order": null,
       "overflow": null,
       "padding": null,
       "right": null,
       "top": null,
       "visibility": null,
       "width": null
      }
     },
     "2e14e91317ff4a60b4273f8734151e0b": {
      "model_module": "@jupyter-widgets/controls",
      "model_module_version": "2.0.0",
      "model_name": "ProgressStyleModel",
      "state": {
       "_model_module": "@jupyter-widgets/controls",
       "_model_module_version": "2.0.0",
       "_model_name": "ProgressStyleModel",
       "_view_count": null,
       "_view_module": "@jupyter-widgets/base",
       "_view_module_version": "2.0.0",
       "_view_name": "StyleView",
       "bar_color": null,
       "description_width": ""
      }
     },
     "319ff9615c0246b787f140837ac742d8": {
      "model_module": "@jupyter-widgets/controls",
      "model_module_version": "2.0.0",
      "model_name": "HTMLModel",
      "state": {
       "_dom_classes": [],
       "_model_module": "@jupyter-widgets/controls",
       "_model_module_version": "2.0.0",
       "_model_name": "HTMLModel",
       "_view_count": null,
       "_view_module": "@jupyter-widgets/controls",
       "_view_module_version": "2.0.0",
       "_view_name": "HTMLView",
       "description": "",
       "description_allow_html": false,
       "layout": "IPY_MODEL_22c02f5079ef4786bf14c33fdb300f90",
       "placeholder": "​",
       "style": "IPY_MODEL_51ec32d69502404198f2c231f7d9af03",
       "tabbable": null,
       "tooltip": null,
       "value": "config.json: 100%"
      }
     },
     "39457ed8bfc448979f80889b8ba0cdea": {
      "model_module": "@jupyter-widgets/base",
      "model_module_version": "2.0.0",
      "model_name": "LayoutModel",
      "state": {
       "_model_module": "@jupyter-widgets/base",
       "_model_module_version": "2.0.0",
       "_model_name": "LayoutModel",
       "_view_count": null,
       "_view_module": "@jupyter-widgets/base",
       "_view_module_version": "2.0.0",
       "_view_name": "LayoutView",
       "align_content": null,
       "align_items": null,
       "align_self": null,
       "border_bottom": null,
       "border_left": null,
       "border_right": null,
       "border_top": null,
       "bottom": null,
       "display": null,
       "flex": null,
       "flex_flow": null,
       "grid_area": null,
       "grid_auto_columns": null,
       "grid_auto_flow": null,
       "grid_auto_rows": null,
       "grid_column": null,
       "grid_gap": null,
       "grid_row": null,
       "grid_template_areas": null,
       "grid_template_columns": null,
       "grid_template_rows": null,
       "height": null,
       "justify_content": null,
       "justify_items": null,
       "left": null,
       "margin": null,
       "max_height": null,
       "max_width": null,
       "min_height": null,
       "min_width": null,
       "object_fit": null,
       "object_position": null,
       "order": null,
       "overflow": null,
       "padding": null,
       "right": null,
       "top": null,
       "visibility": null,
       "width": null
      }
     },
     "4be8a79e14554815929ce3745ef9179a": {
      "model_module": "@jupyter-widgets/controls",
      "model_module_version": "2.0.0",
      "model_name": "HTMLStyleModel",
      "state": {
       "_model_module": "@jupyter-widgets/controls",
       "_model_module_version": "2.0.0",
       "_model_name": "HTMLStyleModel",
       "_view_count": null,
       "_view_module": "@jupyter-widgets/base",
       "_view_module_version": "2.0.0",
       "_view_name": "StyleView",
       "background": null,
       "description_width": "",
       "font_size": null,
       "text_color": null
      }
     },
     "50a070663d1e41499b63e33c6a4329ad": {
      "model_module": "@jupyter-widgets/controls",
      "model_module_version": "2.0.0",
      "model_name": "HTMLModel",
      "state": {
       "_dom_classes": [],
       "_model_module": "@jupyter-widgets/controls",
       "_model_module_version": "2.0.0",
       "_model_name": "HTMLModel",
       "_view_count": null,
       "_view_module": "@jupyter-widgets/controls",
       "_view_module_version": "2.0.0",
       "_view_name": "HTMLView",
       "description": "",
       "description_allow_html": false,
       "layout": "IPY_MODEL_39457ed8bfc448979f80889b8ba0cdea",
       "placeholder": "​",
       "style": "IPY_MODEL_4be8a79e14554815929ce3745ef9179a",
       "tabbable": null,
       "tooltip": null,
       "value": " 29.0M/29.0M [00:00&lt;00:00, 201MB/s]"
      }
     },
     "51ec32d69502404198f2c231f7d9af03": {
      "model_module": "@jupyter-widgets/controls",
      "model_module_version": "2.0.0",
      "model_name": "HTMLStyleModel",
      "state": {
       "_model_module": "@jupyter-widgets/controls",
       "_model_module_version": "2.0.0",
       "_model_name": "HTMLStyleModel",
       "_view_count": null,
       "_view_module": "@jupyter-widgets/base",
       "_view_module_version": "2.0.0",
       "_view_name": "StyleView",
       "background": null,
       "description_width": "",
       "font_size": null,
       "text_color": null
      }
     },
     "6353968c31c441a392a1d5e42f10fb02": {
      "model_module": "@jupyter-widgets/controls",
      "model_module_version": "2.0.0",
      "model_name": "FloatProgressModel",
      "state": {
       "_dom_classes": [],
       "_model_module": "@jupyter-widgets/controls",
       "_model_module_version": "2.0.0",
       "_model_name": "FloatProgressModel",
       "_view_count": null,
       "_view_module": "@jupyter-widgets/controls",
       "_view_module_version": "2.0.0",
       "_view_name": "ProgressView",
       "bar_style": "success",
       "description": "",
       "description_allow_html": false,
       "layout": "IPY_MODEL_ff375e36075240b488d2a8fe80cabe3e",
       "max": 37.0,
       "min": 0.0,
       "orientation": "horizontal",
       "style": "IPY_MODEL_e8a213cb4fb84713ab621b406c81a1e1",
       "tabbable": null,
       "tooltip": null,
       "value": 37.0
      }
     },
     "6de4d14acaf847feb6f9112b052796a5": {
      "model_module": "@jupyter-widgets/base",
      "model_module_version": "2.0.0",
      "model_name": "LayoutModel",
      "state": {
       "_model_module": "@jupyter-widgets/base",
       "_model_module_version": "2.0.0",
       "_model_name": "LayoutModel",
       "_view_count": null,
       "_view_module": "@jupyter-widgets/base",
       "_view_module_version": "2.0.0",
       "_view_name": "LayoutView",
       "align_content": null,
       "align_items": null,
       "align_self": null,
       "border_bottom": null,
       "border_left": null,
       "border_right": null,
       "border_top": null,
       "bottom": null,
       "display": null,
       "flex": null,
       "flex_flow": null,
       "grid_area": null,
       "grid_auto_columns": null,
       "grid_auto_flow": null,
       "grid_auto_rows": null,
       "grid_column": null,
       "grid_gap": null,
       "grid_row": null,
       "grid_template_areas": null,
       "grid_template_columns": null,
       "grid_template_rows": null,
       "height": null,
       "justify_content": null,
       "justify_items": null,
       "left": null,
       "margin": null,
       "max_height": null,
       "max_width": null,
       "min_height": null,
       "min_width": null,
       "object_fit": null,
       "object_position": null,
       "order": null,
       "overflow": null,
       "padding": null,
       "right": null,
       "top": null,
       "visibility": null,
       "width": null
      }
     },
     "7ef90ab2df3d489ca8920904afff97b1": {
      "model_module": "@jupyter-widgets/base",
      "model_module_version": "2.0.0",
      "model_name": "LayoutModel",
      "state": {
       "_model_module": "@jupyter-widgets/base",
       "_model_module_version": "2.0.0",
       "_model_name": "LayoutModel",
       "_view_count": null,
       "_view_module": "@jupyter-widgets/base",
       "_view_module_version": "2.0.0",
       "_view_name": "LayoutView",
       "align_content": null,
       "align_items": null,
       "align_self": null,
       "border_bottom": null,
       "border_left": null,
       "border_right": null,
       "border_top": null,
       "bottom": null,
       "display": null,
       "flex": null,
       "flex_flow": null,
       "grid_area": null,
       "grid_auto_columns": null,
       "grid_auto_flow": null,
       "grid_auto_rows": null,
       "grid_column": null,
       "grid_gap": null,
       "grid_row": null,
       "grid_template_areas": null,
       "grid_template_columns": null,
       "grid_template_rows": null,
       "height": null,
       "justify_content": null,
       "justify_items": null,
       "left": null,
       "margin": null,
       "max_height": null,
       "max_width": null,
       "min_height": null,
       "min_width": null,
       "object_fit": null,
       "object_position": null,
       "order": null,
       "overflow": null,
       "padding": null,
       "right": null,
       "top": null,
       "visibility": null,
       "width": null
      }
     },
     "92ce339105cb4ad29eb449f1e82bb52d": {
      "model_module": "@jupyter-widgets/controls",
      "model_module_version": "2.0.0",
      "model_name": "HBoxModel",
      "state": {
       "_dom_classes": [],
       "_model_module": "@jupyter-widgets/controls",
       "_model_module_version": "2.0.0",
       "_model_name": "HBoxModel",
       "_view_count": null,
       "_view_module": "@jupyter-widgets/controls",
       "_view_module_version": "2.0.0",
       "_view_name": "HBoxView",
       "box_style": "",
       "children": [
        "IPY_MODEL_c8b245c1427e41a397e46dbb0a4984b1",
        "IPY_MODEL_e1039af9b9d6455d8909d2969e03c228",
        "IPY_MODEL_50a070663d1e41499b63e33c6a4329ad"
       ],
       "layout": "IPY_MODEL_6de4d14acaf847feb6f9112b052796a5",
       "tabbable": null,
       "tooltip": null
      }
     },
     "933d5d20eded4e23ba9ebce8c53a24cc": {
      "model_module": "@jupyter-widgets/base",
      "model_module_version": "2.0.0",
      "model_name": "LayoutModel",
      "state": {
       "_model_module": "@jupyter-widgets/base",
       "_model_module_version": "2.0.0",
       "_model_name": "LayoutModel",
       "_view_count": null,
       "_view_module": "@jupyter-widgets/base",
       "_view_module_version": "2.0.0",
       "_view_name": "LayoutView",
       "align_content": null,
       "align_items": null,
       "align_self": null,
       "border_bottom": null,
       "border_left": null,
       "border_right": null,
       "border_top": null,
       "bottom": null,
       "display": null,
       "flex": null,
       "flex_flow": null,
       "grid_area": null,
       "grid_auto_columns": null,
       "grid_auto_flow": null,
       "grid_auto_rows": null,
       "grid_column": null,
       "grid_gap": null,
       "grid_row": null,
       "grid_template_areas": null,
       "grid_template_columns": null,
       "grid_template_rows": null,
       "height": null,
       "justify_content": null,
       "justify_items": null,
       "left": null,
       "margin": null,
       "max_height": null,
       "max_width": null,
       "min_height": null,
       "min_width": null,
       "object_fit": null,
       "object_position": null,
       "order": null,
       "overflow": null,
       "padding": null,
       "right": null,
       "top": null,
       "visibility": null,
       "width": null
      }
     },
     "b05f7afa89994af4a4eb3e514ed4b62c": {
      "model_module": "@jupyter-widgets/controls",
      "model_module_version": "2.0.0",
      "model_name": "HTMLModel",
      "state": {
       "_dom_classes": [],
       "_model_module": "@jupyter-widgets/controls",
       "_model_module_version": "2.0.0",
       "_model_name": "HTMLModel",
       "_view_count": null,
       "_view_module": "@jupyter-widgets/controls",
       "_view_module_version": "2.0.0",
       "_view_name": "HTMLView",
       "description": "",
       "description_allow_html": false,
       "layout": "IPY_MODEL_18f6004cff3942358f5649b4b3733f3b",
       "placeholder": "​",
       "style": "IPY_MODEL_ed76e69d6f9d4268992d05f57e4eca97",
       "tabbable": null,
       "tooltip": null,
       "value": " 37.0/37.0 [00:00&lt;00:00, 3.67kB/s]"
      }
     },
     "b4f63286cf8449c5b0c2375de4665897": {
      "model_module": "@jupyter-widgets/controls",
      "model_module_version": "2.0.0",
      "model_name": "HTMLStyleModel",
      "state": {
       "_model_module": "@jupyter-widgets/controls",
       "_model_module_version": "2.0.0",
       "_model_name": "HTMLStyleModel",
       "_view_count": null,
       "_view_module": "@jupyter-widgets/base",
       "_view_module_version": "2.0.0",
       "_view_name": "StyleView",
       "background": null,
       "description_width": "",
       "font_size": null,
       "text_color": null
      }
     },
     "c8b245c1427e41a397e46dbb0a4984b1": {
      "model_module": "@jupyter-widgets/controls",
      "model_module_version": "2.0.0",
      "model_name": "HTMLModel",
      "state": {
       "_dom_classes": [],
       "_model_module": "@jupyter-widgets/controls",
       "_model_module_version": "2.0.0",
       "_model_name": "HTMLModel",
       "_view_count": null,
       "_view_module": "@jupyter-widgets/controls",
       "_view_module_version": "2.0.0",
       "_view_name": "HTMLView",
       "description": "",
       "description_allow_html": false,
       "layout": "IPY_MODEL_933d5d20eded4e23ba9ebce8c53a24cc",
       "placeholder": "​",
       "style": "IPY_MODEL_b4f63286cf8449c5b0c2375de4665897",
       "tabbable": null,
       "tooltip": null,
       "value": "tabpfn-v2-classifier.ckpt: 100%"
      }
     },
     "d3524f5d7985496b856d7aaf8e488400": {
      "model_module": "@jupyter-widgets/controls",
      "model_module_version": "2.0.0",
      "model_name": "HBoxModel",
      "state": {
       "_dom_classes": [],
       "_model_module": "@jupyter-widgets/controls",
       "_model_module_version": "2.0.0",
       "_model_name": "HBoxModel",
       "_view_count": null,
       "_view_module": "@jupyter-widgets/controls",
       "_view_module_version": "2.0.0",
       "_view_name": "HBoxView",
       "box_style": "",
       "children": [
        "IPY_MODEL_319ff9615c0246b787f140837ac742d8",
        "IPY_MODEL_6353968c31c441a392a1d5e42f10fb02",
        "IPY_MODEL_b05f7afa89994af4a4eb3e514ed4b62c"
       ],
       "layout": "IPY_MODEL_7ef90ab2df3d489ca8920904afff97b1",
       "tabbable": null,
       "tooltip": null
      }
     },
     "e1039af9b9d6455d8909d2969e03c228": {
      "model_module": "@jupyter-widgets/controls",
      "model_module_version": "2.0.0",
      "model_name": "FloatProgressModel",
      "state": {
       "_dom_classes": [],
       "_model_module": "@jupyter-widgets/controls",
       "_model_module_version": "2.0.0",
       "_model_name": "FloatProgressModel",
       "_view_count": null,
       "_view_module": "@jupyter-widgets/controls",
       "_view_module_version": "2.0.0",
       "_view_name": "ProgressView",
       "bar_style": "success",
       "description": "",
       "description_allow_html": false,
       "layout": "IPY_MODEL_fcece0b9995a4d8589ccad0b3328516c",
       "max": 29016968.0,
       "min": 0.0,
       "orientation": "horizontal",
       "style": "IPY_MODEL_2e14e91317ff4a60b4273f8734151e0b",
       "tabbable": null,
       "tooltip": null,
       "value": 29016968.0
      }
     },
     "e8a213cb4fb84713ab621b406c81a1e1": {
      "model_module": "@jupyter-widgets/controls",
      "model_module_version": "2.0.0",
      "model_name": "ProgressStyleModel",
      "state": {
       "_model_module": "@jupyter-widgets/controls",
       "_model_module_version": "2.0.0",
       "_model_name": "ProgressStyleModel",
       "_view_count": null,
       "_view_module": "@jupyter-widgets/base",
       "_view_module_version": "2.0.0",
       "_view_name": "StyleView",
       "bar_color": null,
       "description_width": ""
      }
     },
     "ed76e69d6f9d4268992d05f57e4eca97": {
      "model_module": "@jupyter-widgets/controls",
      "model_module_version": "2.0.0",
      "model_name": "HTMLStyleModel",
      "state": {
       "_model_module": "@jupyter-widgets/controls",
       "_model_module_version": "2.0.0",
       "_model_name": "HTMLStyleModel",
       "_view_count": null,
       "_view_module": "@jupyter-widgets/base",
       "_view_module_version": "2.0.0",
       "_view_name": "StyleView",
       "background": null,
       "description_width": "",
       "font_size": null,
       "text_color": null
      }
     },
     "fcece0b9995a4d8589ccad0b3328516c": {
      "model_module": "@jupyter-widgets/base",
      "model_module_version": "2.0.0",
      "model_name": "LayoutModel",
      "state": {
       "_model_module": "@jupyter-widgets/base",
       "_model_module_version": "2.0.0",
       "_model_name": "LayoutModel",
       "_view_count": null,
       "_view_module": "@jupyter-widgets/base",
       "_view_module_version": "2.0.0",
       "_view_name": "LayoutView",
       "align_content": null,
       "align_items": null,
       "align_self": null,
       "border_bottom": null,
       "border_left": null,
       "border_right": null,
       "border_top": null,
       "bottom": null,
       "display": null,
       "flex": null,
       "flex_flow": null,
       "grid_area": null,
       "grid_auto_columns": null,
       "grid_auto_flow": null,
       "grid_auto_rows": null,
       "grid_column": null,
       "grid_gap": null,
       "grid_row": null,
       "grid_template_areas": null,
       "grid_template_columns": null,
       "grid_template_rows": null,
       "height": null,
       "justify_content": null,
       "justify_items": null,
       "left": null,
       "margin": null,
       "max_height": null,
       "max_width": null,
       "min_height": null,
       "min_width": null,
       "object_fit": null,
       "object_position": null,
       "order": null,
       "overflow": null,
       "padding": null,
       "right": null,
       "top": null,
       "visibility": null,
       "width": null
      }
     },
     "ff375e36075240b488d2a8fe80cabe3e": {
      "model_module": "@jupyter-widgets/base",
      "model_module_version": "2.0.0",
      "model_name": "LayoutModel",
      "state": {
       "_model_module": "@jupyter-widgets/base",
       "_model_module_version": "2.0.0",
       "_model_name": "LayoutModel",
       "_view_count": null,
       "_view_module": "@jupyter-widgets/base",
       "_view_module_version": "2.0.0",
       "_view_name": "LayoutView",
       "align_content": null,
       "align_items": null,
       "align_self": null,
       "border_bottom": null,
       "border_left": null,
       "border_right": null,
       "border_top": null,
       "bottom": null,
       "display": null,
       "flex": null,
       "flex_flow": null,
       "grid_area": null,
       "grid_auto_columns": null,
       "grid_auto_flow": null,
       "grid_auto_rows": null,
       "grid_column": null,
       "grid_gap": null,
       "grid_row": null,
       "grid_template_areas": null,
       "grid_template_columns": null,
       "grid_template_rows": null,
       "height": null,
       "justify_content": null,
       "justify_items": null,
       "left": null,
       "margin": null,
       "max_height": null,
       "max_width": null,
       "min_height": null,
       "min_width": null,
       "object_fit": null,
       "object_position": null,
       "order": null,
       "overflow": null,
       "padding": null,
       "right": null,
       "top": null,
       "visibility": null,
       "width": null
      }
     }
    },
    "version_major": 2,
    "version_minor": 0
   }
  }
 },
 "nbformat": 4,
 "nbformat_minor": 5
}
