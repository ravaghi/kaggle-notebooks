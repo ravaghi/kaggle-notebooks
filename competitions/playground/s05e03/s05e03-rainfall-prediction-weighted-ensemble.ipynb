{
 "cells": [
  {
   "cell_type": "markdown",
   "id": "e1d50d45",
   "metadata": {
    "papermill": {
     "duration": 0.006797,
     "end_time": "2025-03-19T08:08:44.013786",
     "exception": false,
     "start_time": "2025-03-19T08:08:44.006989",
     "status": "completed"
    },
    "tags": []
   },
   "source": [
    "# Imports and configs"
   ]
  },
  {
   "cell_type": "code",
   "execution_count": 1,
   "id": "f8de13fb",
   "metadata": {
    "execution": {
     "iopub.execute_input": "2025-03-19T08:08:44.027153Z",
     "iopub.status.busy": "2025-03-19T08:08:44.026867Z",
     "iopub.status.idle": "2025-03-19T08:08:56.891188Z",
     "shell.execute_reply": "2025-03-19T08:08:56.890510Z"
    },
    "papermill": {
     "duration": 12.872736,
     "end_time": "2025-03-19T08:08:56.892890",
     "exception": false,
     "start_time": "2025-03-19T08:08:44.020154",
     "status": "completed"
    },
    "tags": []
   },
   "outputs": [],
   "source": [
    "from sklearn.ensemble import RandomForestClassifier, ExtraTreesClassifier, HistGradientBoostingClassifier, GradientBoostingClassifier, AdaBoostClassifier\n",
    "from sklearn.linear_model import LogisticRegression, Ridge\n",
    "from sklearn.model_selection import StratifiedKFold\n",
    "from sklearn.metrics import roc_auc_score\n",
    "from sklearn.base import clone\n",
    "from catboost import CatBoostClassifier\n",
    "from lightgbm import LGBMClassifier\n",
    "from tabpfn import TabPFNClassifier\n",
    "from xgboost import XGBClassifier\n",
    "from scipy.special import logit\n",
    "import matplotlib.pyplot as plt\n",
    "import seaborn as sns\n",
    "import pandas as pd\n",
    "import numpy as np\n",
    "import warnings\n",
    "import joblib\n",
    "import shutil\n",
    "import optuna\n",
    "import glob\n",
    "import json\n",
    "import os\n",
    "import gc\n",
    "\n",
    "warnings.filterwarnings(\"ignore\")"
   ]
  },
  {
   "cell_type": "code",
   "execution_count": 2,
   "id": "8b8b3937",
   "metadata": {
    "execution": {
     "iopub.execute_input": "2025-03-19T08:08:56.905968Z",
     "iopub.status.busy": "2025-03-19T08:08:56.905452Z",
     "iopub.status.idle": "2025-03-19T08:08:56.909260Z",
     "shell.execute_reply": "2025-03-19T08:08:56.908665Z"
    },
    "papermill": {
     "duration": 0.011256,
     "end_time": "2025-03-19T08:08:56.910364",
     "exception": false,
     "start_time": "2025-03-19T08:08:56.899108",
     "status": "completed"
    },
    "tags": []
   },
   "outputs": [],
   "source": [
    "class CFG:\n",
    "    train_path = \"/kaggle/input/playground-series-s5e3/train.csv\"\n",
    "    test_path = \"/kaggle/input/playground-series-s5e3/test.csv\"\n",
    "    sample_sub_path = \"/kaggle/input/playground-series-s5e3/sample_submission.csv\"\n",
    "    \n",
    "    original_path = \"/kaggle/input/hongkongrainfall/hongkong.csv\"\n",
    "    original_path_2 = \"/kaggle/input/rainfall-prediction-using-machine-learning/Rainfall.csv\"\n",
    "    \n",
    "    target = \"rainfall\"\n",
    "    n_folds = 10\n",
    "    seed = 2100\n",
    "    \n",
    "    run_optuna = True\n",
    "    optuna_trials = 250"
   ]
  },
  {
   "cell_type": "markdown",
   "id": "d499864c",
   "metadata": {
    "papermill": {
     "duration": 0.005405,
     "end_time": "2025-03-19T08:08:56.921518",
     "exception": false,
     "start_time": "2025-03-19T08:08:56.916113",
     "status": "completed"
    },
    "tags": []
   },
   "source": [
    "# Data loading and preprocessing"
   ]
  },
  {
   "cell_type": "code",
   "execution_count": 3,
   "id": "c3156d52",
   "metadata": {
    "execution": {
     "iopub.execute_input": "2025-03-19T08:08:56.933760Z",
     "iopub.status.busy": "2025-03-19T08:08:56.933533Z",
     "iopub.status.idle": "2025-03-19T08:08:56.968586Z",
     "shell.execute_reply": "2025-03-19T08:08:56.967988Z"
    },
    "papermill": {
     "duration": 0.042532,
     "end_time": "2025-03-19T08:08:56.969905",
     "exception": false,
     "start_time": "2025-03-19T08:08:56.927373",
     "status": "completed"
    },
    "tags": []
   },
   "outputs": [],
   "source": [
    "train = pd.read_csv(CFG.train_path, index_col=\"id\")\n",
    "test = pd.read_csv(CFG.test_path, index_col=\"id\")"
   ]
  },
  {
   "cell_type": "code",
   "execution_count": 4,
   "id": "c87e049e",
   "metadata": {
    "execution": {
     "iopub.execute_input": "2025-03-19T08:08:56.982208Z",
     "iopub.status.busy": "2025-03-19T08:08:56.981994Z",
     "iopub.status.idle": "2025-03-19T08:08:56.985876Z",
     "shell.execute_reply": "2025-03-19T08:08:56.985282Z"
    },
    "papermill": {
     "duration": 0.011139,
     "end_time": "2025-03-19T08:08:56.987022",
     "exception": false,
     "start_time": "2025-03-19T08:08:56.975883",
     "status": "completed"
    },
    "tags": []
   },
   "outputs": [],
   "source": [
    "test.winddirection = test.winddirection.fillna(test.winddirection.median())"
   ]
  },
  {
   "cell_type": "code",
   "execution_count": 5,
   "id": "b2cc17b6",
   "metadata": {
    "execution": {
     "iopub.execute_input": "2025-03-19T08:08:57.000287Z",
     "iopub.status.busy": "2025-03-19T08:08:57.000080Z",
     "iopub.status.idle": "2025-03-19T08:08:57.055461Z",
     "shell.execute_reply": "2025-03-19T08:08:57.054767Z"
    },
    "papermill": {
     "duration": 0.064257,
     "end_time": "2025-03-19T08:08:57.057000",
     "exception": false,
     "start_time": "2025-03-19T08:08:56.992743",
     "status": "completed"
    },
    "tags": []
   },
   "outputs": [],
   "source": [
    "original = pd.read_csv(CFG.original_path, encoding=\"gbk\")\n",
    "original[\"date\"] = pd.to_datetime(original[[\"year\", \"month\", \"day\"]])\n",
    "original = original.drop([\"year\", \"month\", \"day\", \"low visibility hour\", \"radiation\", \"evaporation\"], axis=1)\n",
    "original[\"day\"] = original.date.dt.dayofyear\n",
    "original = original.drop(\"date\", axis=1)\n",
    "original.rainfall = original.rainfall.apply(lambda x: 1 if str(x).replace('.', '', 1).isdigit() else x)\n",
    "original.rainfall = original.rainfall.replace({'微量': 1, '-': 0}).astype(int)\n",
    "original.sunshine = original.sunshine.replace('-', 0).astype(float)\n",
    "original.windspeed = original.windspeed.fillna(original.windspeed.mean())\n",
    "for col in original.columns:\n",
    "    original[col] = original[col].astype(train[col].dtype)"
   ]
  },
  {
   "cell_type": "code",
   "execution_count": 6,
   "id": "45286c02",
   "metadata": {
    "execution": {
     "iopub.execute_input": "2025-03-19T08:08:57.070284Z",
     "iopub.status.busy": "2025-03-19T08:08:57.070040Z",
     "iopub.status.idle": "2025-03-19T08:08:57.084329Z",
     "shell.execute_reply": "2025-03-19T08:08:57.083761Z"
    },
    "papermill": {
     "duration": 0.022083,
     "end_time": "2025-03-19T08:08:57.085623",
     "exception": false,
     "start_time": "2025-03-19T08:08:57.063540",
     "status": "completed"
    },
    "tags": []
   },
   "outputs": [],
   "source": [
    "original_2 = pd.read_csv(CFG.original_path_2)\n",
    "original_2.columns = original_2.columns.str.replace(\" \", \"\")\n",
    "original_2[CFG.target] = original_2[CFG.target].map({\"yes\": 1, \"no\": 0})\n",
    "original_2.winddirection = original_2.winddirection.fillna(original_2.winddirection.mean())\n",
    "original_2.windspeed = original_2.windspeed.fillna(original_2.windspeed.mean())\n",
    "original_2.day = original_2.index + 1\n",
    "for col in original_2.columns:\n",
    "    original_2[col] = original_2[col].astype(train[col].dtype)"
   ]
  },
  {
   "cell_type": "code",
   "execution_count": 7,
   "id": "060b86cc",
   "metadata": {
    "execution": {
     "iopub.execute_input": "2025-03-19T08:08:57.098329Z",
     "iopub.status.busy": "2025-03-19T08:08:57.098088Z",
     "iopub.status.idle": "2025-03-19T08:08:57.107588Z",
     "shell.execute_reply": "2025-03-19T08:08:57.106940Z"
    },
    "papermill": {
     "duration": 0.016925,
     "end_time": "2025-03-19T08:08:57.108714",
     "exception": false,
     "start_time": "2025-03-19T08:08:57.091789",
     "status": "completed"
    },
    "tags": []
   },
   "outputs": [],
   "source": [
    "original_combined = pd.concat([original, original_2], axis=0).reset_index(drop=True)\n",
    "original_combined = original_combined.drop_duplicates().reset_index(drop=True)"
   ]
  },
  {
   "cell_type": "code",
   "execution_count": 8,
   "id": "f515d69b",
   "metadata": {
    "execution": {
     "iopub.execute_input": "2025-03-19T08:08:57.121125Z",
     "iopub.status.busy": "2025-03-19T08:08:57.120914Z",
     "iopub.status.idle": "2025-03-19T08:08:57.125919Z",
     "shell.execute_reply": "2025-03-19T08:08:57.125313Z"
    },
    "papermill": {
     "duration": 0.012488,
     "end_time": "2025-03-19T08:08:57.127106",
     "exception": false,
     "start_time": "2025-03-19T08:08:57.114618",
     "status": "completed"
    },
    "tags": []
   },
   "outputs": [],
   "source": [
    "X = train.drop(CFG.target, axis=1)\n",
    "y = train[CFG.target]\n",
    "X_test = test.copy()\n",
    "\n",
    "X_original = original_combined.drop(CFG.target, axis=1)\n",
    "y_original = original_combined[CFG.target]"
   ]
  },
  {
   "cell_type": "markdown",
   "id": "82f209c4",
   "metadata": {
    "papermill": {
     "duration": 0.005668,
     "end_time": "2025-03-19T08:08:57.138954",
     "exception": false,
     "start_time": "2025-03-19T08:08:57.133286",
     "status": "completed"
    },
    "tags": []
   },
   "source": [
    "# Training base models"
   ]
  },
  {
   "cell_type": "code",
   "execution_count": 9,
   "id": "8fd34727",
   "metadata": {
    "execution": {
     "iopub.execute_input": "2025-03-19T08:08:57.151273Z",
     "iopub.status.busy": "2025-03-19T08:08:57.151067Z",
     "iopub.status.idle": "2025-03-19T08:08:57.154010Z",
     "shell.execute_reply": "2025-03-19T08:08:57.153465Z"
    },
    "papermill": {
     "duration": 0.010346,
     "end_time": "2025-03-19T08:08:57.155203",
     "exception": false,
     "start_time": "2025-03-19T08:08:57.144857",
     "status": "completed"
    },
    "tags": []
   },
   "outputs": [],
   "source": [
    "os.makedirs(\"oof_files\", exist_ok=True)"
   ]
  },
  {
   "cell_type": "code",
   "execution_count": 10,
   "id": "c1648a84",
   "metadata": {
    "execution": {
     "iopub.execute_input": "2025-03-19T08:08:57.167456Z",
     "iopub.status.busy": "2025-03-19T08:08:57.167234Z",
     "iopub.status.idle": "2025-03-19T08:08:57.178482Z",
     "shell.execute_reply": "2025-03-19T08:08:57.177879Z"
    },
    "papermill": {
     "duration": 0.018633,
     "end_time": "2025-03-19T08:08:57.179664",
     "exception": false,
     "start_time": "2025-03-19T08:08:57.161031",
     "status": "completed"
    },
    "tags": []
   },
   "outputs": [],
   "source": [
    "class Trainer:\n",
    "    def __init__(self, model, config=CFG, is_ensemble_model=False):\n",
    "        self.model = model\n",
    "        self.config = config\n",
    "        self.is_ensemble_model = is_ensemble_model\n",
    "\n",
    "    def fit_predict(self, X, y, X_test, X_original=None, y_original=None):\n",
    "        print(f\"Training {self.model.__class__.__name__}\\n\")\n",
    "        \n",
    "        scores = []        \n",
    "        coeffs = np.zeros((1, X.shape[1]))\n",
    "        oof_pred_probs = np.zeros(X.shape[0])\n",
    "        test_pred_probs = np.zeros(X_test.shape[0])\n",
    "        \n",
    "        skf = StratifiedKFold(n_splits=self.config.n_folds, random_state=self.config.seed, shuffle=True)\n",
    "        for fold_idx, (train_idx, val_idx) in enumerate(skf.split(X, y)):\n",
    "            X_train, X_val = X.iloc[train_idx], X.iloc[val_idx]\n",
    "            y_train, y_val = y[train_idx], y[val_idx]\n",
    "            \n",
    "            if X_original is not None and y_original is not None:                            \n",
    "                X_train = pd.concat([X_train, X_original], ignore_index=True)\n",
    "                y_train = pd.concat([y_train, y_original], ignore_index=True)\n",
    "            \n",
    "            model = clone(self.model)\n",
    "            model.fit(X_train, y_train)\n",
    "            \n",
    "            if self.is_ensemble_model:\n",
    "                coeffs += model.coef_ / self.config.n_folds\n",
    "                if isinstance(self.model, LogisticRegression):\n",
    "                    n_iters = model.n_iter_[0]\n",
    "            \n",
    "            y_pred_probs = model.predict(X_val) if isinstance(self.model, Ridge) else model.predict_proba(X_val)[: ,1]\n",
    "            oof_pred_probs[val_idx] = y_pred_probs \n",
    "            \n",
    "            temp_test_pred_probs = model.predict(X_test) if isinstance(self.model, Ridge) else model.predict_proba(X_test)[:, 1]\n",
    "            test_pred_probs += temp_test_pred_probs / self.config.n_folds\n",
    "            \n",
    "            score = roc_auc_score(y_val, y_pred_probs)\n",
    "            scores.append(score)\n",
    "            \n",
    "            del model, X_train, y_train, X_val, y_val, y_pred_probs\n",
    "            gc.collect()\n",
    "            \n",
    "            if self.is_ensemble_model and isinstance(self.model, LogisticRegression):\n",
    "                print(f\"--- Fold {fold_idx + 1} - ROC AUC: {score:.6f} ({n_iters} iterations)\")\n",
    "            else:\n",
    "                print(f\"--- Fold {fold_idx + 1} - ROC AUC: {score:.6f}\")\n",
    "            \n",
    "        overall_score = roc_auc_score(y, oof_pred_probs)\n",
    "            \n",
    "        print(f\"\\n------ Overall: {overall_score:.6f} | Average: {np.mean(scores):.6f} ± {np.std(scores):.6f}\")\n",
    "        \n",
    "        if self.is_ensemble_model:\n",
    "            return oof_pred_probs, test_pred_probs, overall_score, scores, coeffs\n",
    "        else:\n",
    "            self._save_oof_files(oof_pred_probs, test_pred_probs, overall_score)\n",
    "            return oof_pred_probs, test_pred_probs, overall_score, scores\n",
    "        \n",
    "    def tune(self, X, y):             \n",
    "        oof_pred_probs = np.zeros(X.shape[0])\n",
    "        skf = StratifiedKFold(n_splits=self.config.n_folds, random_state=self.config.seed, shuffle=True)\n",
    "        for fold_idx, (train_idx, val_idx) in enumerate(skf.split(X, y)):\n",
    "            X_train, X_val = X.iloc[train_idx], X.iloc[val_idx]\n",
    "            y_train, y_val = y[train_idx], y[val_idx]\n",
    "            \n",
    "            model = clone(self.model)\n",
    "            model.fit(X_train, y_train)\n",
    "            \n",
    "            y_pred_probs = model.predict(X_val) if isinstance(self.model, Ridge) else model.predict_proba(X_val)[: ,1]\n",
    "            oof_pred_probs[val_idx] = y_pred_probs \n",
    "            \n",
    "            del model, X_train, y_train, X_val, y_val, y_pred_probs\n",
    "            gc.collect()\n",
    "            \n",
    "        return roc_auc_score(y, oof_pred_probs)\n",
    "        \n",
    "    def _save_oof_files(self, oof_pred_probs, test_pred_probs, cv_score):\n",
    "        dirname = self.model.__class__.__name__.lower().replace(\"classifier\", \"\")\n",
    "        if (isinstance(self.model, LGBMClassifier)):\n",
    "            if self.model.boosting_type == \"goss\":\n",
    "                dirname += \"-goss\"\n",
    "        os.makedirs(f\"oof_files/{dirname}\", exist_ok=True)\n",
    "        joblib.dump(oof_pred_probs, f\"oof_files/{dirname}/{dirname}_oof_pred_probs_{cv_score:.6f}.pkl\")\n",
    "        joblib.dump(test_pred_probs, f\"oof_files/{dirname}/{dirname}_test_pred_probs_{cv_score:.6f}.pkl\")"
   ]
  },
  {
   "cell_type": "markdown",
   "id": "ebcffd04",
   "metadata": {
    "papermill": {
     "duration": 0.005519,
     "end_time": "2025-03-19T08:08:57.190964",
     "exception": false,
     "start_time": "2025-03-19T08:08:57.185445",
     "status": "completed"
    },
    "tags": []
   },
   "source": [
    "We basically know the [answer](https://www.kaggle.com/competitions/playground-series-s5e3/discussion/568865) to the first 146 rows of the test data, so it's worthwhile to use the discovered answers in the submission file and rely on our models to predict the remaining rows.  \n",
    "\n",
    "This, of course, makes the public leaderboard useless, but then again, the dataset is so small that one can disregard the public leaderboard entirely."
   ]
  },
  {
   "cell_type": "code",
   "execution_count": 11,
   "id": "b0a5e44a",
   "metadata": {
    "execution": {
     "iopub.execute_input": "2025-03-19T08:08:57.203064Z",
     "iopub.status.busy": "2025-03-19T08:08:57.202859Z",
     "iopub.status.idle": "2025-03-19T08:08:57.208727Z",
     "shell.execute_reply": "2025-03-19T08:08:57.208094Z"
    },
    "papermill": {
     "duration": 0.013121,
     "end_time": "2025-03-19T08:08:57.209821",
     "exception": false,
     "start_time": "2025-03-19T08:08:57.196700",
     "status": "completed"
    },
    "tags": []
   },
   "outputs": [],
   "source": [
    "def save_submission(name, test_pred_probs, score):\n",
    "    answers = [\n",
    "        1., 1., 1., 0., 1., 1., 1., 1., 1., 1., 1., 0., 1., 1., 0., 0., 0.,\n",
    "        1., 0., 0., 1., 0., 1., 1., 1., 0., 0., 1., 1., 1., 1., 1., 1., 1.,\n",
    "        1., 1., 0., 0., 1., 1., 0., 1., 0., 1., 1., 1., 0., 1., 0., 1., 1.,\n",
    "        1., 1., 1., 1., 1., 1., 1., 1., 1., 1., 1., 1., 1., 1., 0., 0., 1.,\n",
    "        1., 0., 1., 1., 1., 0., 1., 0., 1., 1., 0., 1., 1., 0., 0., 1., 1.,\n",
    "        1., 1., 0., 1., 1., 1., 1., 1., 1., 0., 1., 1., 0., 1., 1., 1., 1.,\n",
    "        1., 1., 1., 1., 1., 1., 1., 0., 1., 0., 0., 1., 1., 1., 1., 1., 1.,\n",
    "        1., 0., 0., 1., 1., 1., 1., 1., 1., 1., 1., 1., 1., 1., 1., 1., 1.,\n",
    "        1., 1., 1., 1., 1., 1., 0., 1., 1., 1.\n",
    "    ]\n",
    "    sub = pd.read_csv(CFG.sample_sub_path)\n",
    "    sub[CFG.target] = test_pred_probs\n",
    "    sub[CFG.target][:146] = answers\n",
    "    sub.to_csv(f\"sub_{name}_{score:.6f}.csv\", index=False)\n",
    "    return sub.head()"
   ]
  },
  {
   "cell_type": "code",
   "execution_count": 12,
   "id": "f97999de",
   "metadata": {
    "execution": {
     "iopub.execute_input": "2025-03-19T08:08:57.222146Z",
     "iopub.status.busy": "2025-03-19T08:08:57.221942Z",
     "iopub.status.idle": "2025-03-19T08:08:57.225074Z",
     "shell.execute_reply": "2025-03-19T08:08:57.224446Z"
    },
    "papermill": {
     "duration": 0.010643,
     "end_time": "2025-03-19T08:08:57.226276",
     "exception": false,
     "start_time": "2025-03-19T08:08:57.215633",
     "status": "completed"
    },
    "tags": []
   },
   "outputs": [],
   "source": [
    "scores = {}\n",
    "overall_scores = {}\n",
    "oof_pred_probs = {}\n",
    "test_pred_probs = {}"
   ]
  },
  {
   "cell_type": "code",
   "execution_count": 13,
   "id": "7723f88f",
   "metadata": {
    "_kg_hide-input": true,
    "execution": {
     "iopub.execute_input": "2025-03-19T08:08:57.239344Z",
     "iopub.status.busy": "2025-03-19T08:08:57.239139Z",
     "iopub.status.idle": "2025-03-19T08:08:57.247050Z",
     "shell.execute_reply": "2025-03-19T08:08:57.246406Z"
    },
    "papermill": {
     "duration": 0.01553,
     "end_time": "2025-03-19T08:08:57.248196",
     "exception": false,
     "start_time": "2025-03-19T08:08:57.232666",
     "status": "completed"
    },
    "tags": []
   },
   "outputs": [],
   "source": [
    "xgb_params = {\n",
    "    'colsample_bylevel': 0.7921066237164537,\n",
    "    'colsample_bynode': 0.6431557579286489,\n",
    "    'colsample_bytree': 0.33314916328121835,\n",
    "    'gamma': 2.6533897486162306,\n",
    "    'learning_rate': 0.0995872230739346,\n",
    "    'max_depth': 488,\n",
    "    'max_leaves': 313,\n",
    "    'min_child_weight': 9,\n",
    "    'n_estimators': 4644,\n",
    "    'n_jobs': -1,\n",
    "    'random_state': 2100,\n",
    "    'reg_alpha': 0.07653965420877373,\n",
    "    'reg_lambda': 56.09661479066265,\n",
    "    'subsample': 0.987487242879055,\n",
    "    'verbosity': 0\n",
    "}\n",
    "\n",
    "lgbm_params = {\n",
    "    'boosting_type': 'gbdt',\n",
    "    'colsample_bytree': 0.4631207130753891,\n",
    "    'learning_rate': 0.088361660753031,\n",
    "    'min_child_samples': 403,\n",
    "    'min_child_weight': 0.4745749540750245,\n",
    "    'n_estimators': 1332,\n",
    "    'n_jobs': -1,\n",
    "    'num_leaves': 266,\n",
    "    'random_state': 2100,\n",
    "    'reg_alpha': 23.886417233917868,\n",
    "    'reg_lambda': 4.283869171990928,\n",
    "    'subsample': 0.4581272309859017,\n",
    "    'verbose': -1\n",
    "}\n",
    "\n",
    "lgbm_goss_params = {\n",
    "    'boosting_type': 'goss',\n",
    "    'colsample_bytree': 0.5342219347521369,\n",
    "    'learning_rate': 0.027933718824492148,\n",
    "    'min_child_samples': 119,\n",
    "    'min_child_weight': 0.32511481168533785,\n",
    "    'n_estimators': 178,\n",
    "    'n_jobs': -1,\n",
    "    'num_leaves': 446,\n",
    "    'random_state': 2100,\n",
    "    'reg_alpha': 8.432039948050928,\n",
    "    'reg_lambda': 17.819535549058962,\n",
    "    'subsample': 0.7901926393348829,\n",
    "    'verbose': -1\n",
    "}\n",
    "\n",
    "cb_params = {\n",
    "    'border_count': 134,\n",
    "    'colsample_bylevel': 0.9849872675758802,\n",
    "    'depth': 6,\n",
    "    'iterations': 539,\n",
    "    'l2_leaf_reg': 61.50587067708284,\n",
    "    'learning_rate': 0.004062605169435353,\n",
    "    'min_child_samples': 235,\n",
    "    'random_state': 2100,\n",
    "    'random_strength': 0.008446274380078389,\n",
    "    'subsample': 0.5566962326912488,\n",
    "    'verbose': False\n",
    "}\n",
    "\n",
    "adb_params = {\n",
    "    'learning_rate': 0.0980729594457042,\n",
    "    'n_estimators': 156,\n",
    "    'random_state': 2100\n",
    "}\n",
    "\n",
    "rf_params = {\n",
    "    'min_samples_leaf': 10,\n",
    "    'min_samples_split': 7,\n",
    "    'n_estimators': 1147,\n",
    "    'n_jobs': -1,\n",
    "    'random_state': 2100\n",
    "}\n",
    "\n",
    "et_params = {\n",
    "    'class_weight': None,\n",
    "    'criterion': 'log_loss',\n",
    "    'min_samples_leaf': 3,\n",
    "    'min_samples_split': 60,\n",
    "    'n_estimators': 248,\n",
    "    'n_jobs': -1,\n",
    "    'random_state': 2100\n",
    "}\n",
    "\n",
    "histgb_params = {\n",
    "    'l2_regularization': 8.627208188446245,\n",
    "    'learning_rate': 0.02563674957851913,\n",
    "    'max_depth': 370,\n",
    "    'max_iter': 116,\n",
    "    'max_leaf_nodes': 45,\n",
    "    'min_samples_leaf': 457,\n",
    "    'random_state': 2100\n",
    "}\n",
    "\n",
    "gb_params = {\n",
    "    'learning_rate': 0.027839422097051633,\n",
    "    'max_depth': 3,\n",
    "    'max_features': 0.6246118798224226,\n",
    "    'max_leaf_nodes': 8,\n",
    "    'min_samples_leaf': 0.016482964092890184,\n",
    "    'min_samples_split': 0.08735068463936646,\n",
    "    'min_weight_fraction_leaf': 0.04933563916241057,\n",
    "    'n_estimators': 240,\n",
    "    'random_state': 2100,\n",
    "    'subsample': 0.9417926258447458\n",
    "}\n",
    "\n",
    "lr_params = {\n",
    "    'random_state': 2100,\n",
    "    'max_iter': 500,\n",
    "    'C': 57.03909649998898,\n",
    "    'tol': 0.0030827492543970035,\n",
    "    'fit_intercept': True,\n",
    "    'class_weight': None,\n",
    "    'solver': 'liblinear',\n",
    "    'penalty': 'l1'\n",
    "}\n",
    "\n",
    "ridge_params = {\n",
    "    'random_state': 2100,\n",
    "    'alpha': 81.85404532128871,\n",
    "    'tol': 0.005228545098266321,\n",
    "    'positive': False,\n",
    "    'fit_intercept': False\n",
    "}"
   ]
  },
  {
   "cell_type": "code",
   "execution_count": 14,
   "id": "d5689511",
   "metadata": {
    "execution": {
     "iopub.execute_input": "2025-03-19T08:08:57.260870Z",
     "iopub.status.busy": "2025-03-19T08:08:57.260654Z",
     "iopub.status.idle": "2025-03-19T08:09:09.089507Z",
     "shell.execute_reply": "2025-03-19T08:09:09.088628Z"
    },
    "papermill": {
     "duration": 11.836806,
     "end_time": "2025-03-19T08:09:09.091035",
     "exception": false,
     "start_time": "2025-03-19T08:08:57.254229",
     "status": "completed"
    },
    "tags": []
   },
   "outputs": [
    {
     "name": "stdout",
     "output_type": "stream",
     "text": [
      "Training XGBClassifier\n",
      "\n",
      "--- Fold 1 - ROC AUC: 0.878563\n",
      "--- Fold 2 - ROC AUC: 0.900449\n",
      "--- Fold 3 - ROC AUC: 0.910999\n",
      "--- Fold 4 - ROC AUC: 0.919080\n",
      "--- Fold 5 - ROC AUC: 0.864534\n",
      "--- Fold 6 - ROC AUC: 0.883614\n",
      "--- Fold 7 - ROC AUC: 0.904826\n",
      "--- Fold 8 - ROC AUC: 0.865993\n",
      "--- Fold 9 - ROC AUC: 0.938272\n",
      "--- Fold 10 - ROC AUC: 0.912458\n",
      "\n",
      "------ Overall: 0.897635 | Average: 0.897879 ± 0.022860\n"
     ]
    }
   ],
   "source": [
    "xgb_model = XGBClassifier(**xgb_params)\n",
    "xgb_trainer = Trainer(xgb_model)\n",
    "oof_pred_probs[\"XGBoost\"], test_pred_probs[\"XGBoost\"], overall_scores[\"XGBoost\"], scores[\"XGBoost\"] = xgb_trainer.fit_predict(X, y, X_test, X_original, y_original)"
   ]
  },
  {
   "cell_type": "code",
   "execution_count": 15,
   "id": "ba8db979",
   "metadata": {
    "execution": {
     "iopub.execute_input": "2025-03-19T08:09:09.105723Z",
     "iopub.status.busy": "2025-03-19T08:09:09.105471Z",
     "iopub.status.idle": "2025-03-19T08:09:13.151536Z",
     "shell.execute_reply": "2025-03-19T08:09:13.150507Z"
    },
    "papermill": {
     "duration": 4.05483,
     "end_time": "2025-03-19T08:09:13.153035",
     "exception": false,
     "start_time": "2025-03-19T08:09:09.098205",
     "status": "completed"
    },
    "tags": []
   },
   "outputs": [
    {
     "name": "stdout",
     "output_type": "stream",
     "text": [
      "Training LGBMClassifier\n",
      "\n",
      "--- Fold 1 - ROC AUC: 0.876319\n",
      "--- Fold 2 - ROC AUC: 0.896970\n",
      "--- Fold 3 - ROC AUC: 0.916723\n",
      "--- Fold 4 - ROC AUC: 0.915376\n",
      "--- Fold 5 - ROC AUC: 0.867340\n",
      "--- Fold 6 - ROC AUC: 0.887318\n",
      "--- Fold 7 - ROC AUC: 0.902581\n",
      "--- Fold 8 - ROC AUC: 0.861392\n",
      "--- Fold 9 - ROC AUC: 0.937374\n",
      "--- Fold 10 - ROC AUC: 0.910999\n",
      "\n",
      "------ Overall: 0.896853 | Average: 0.897239 ± 0.022918\n"
     ]
    }
   ],
   "source": [
    "lgbm_model = LGBMClassifier(**lgbm_params)\n",
    "lgbm_trainer = Trainer(lgbm_model)\n",
    "oof_pred_probs[\"LightGBM\"], test_pred_probs[\"LightGBM\"], overall_scores[\"LightGBM\"], scores[\"LightGBM\"] = lgbm_trainer.fit_predict(X, y, X_test, X_original, y_original)"
   ]
  },
  {
   "cell_type": "code",
   "execution_count": 16,
   "id": "13ffd698",
   "metadata": {
    "execution": {
     "iopub.execute_input": "2025-03-19T08:09:13.168511Z",
     "iopub.status.busy": "2025-03-19T08:09:13.168176Z",
     "iopub.status.idle": "2025-03-19T08:09:16.246525Z",
     "shell.execute_reply": "2025-03-19T08:09:16.245727Z"
    },
    "papermill": {
     "duration": 3.087424,
     "end_time": "2025-03-19T08:09:16.247855",
     "exception": false,
     "start_time": "2025-03-19T08:09:13.160431",
     "status": "completed"
    },
    "tags": []
   },
   "outputs": [
    {
     "name": "stdout",
     "output_type": "stream",
     "text": [
      "Training LGBMClassifier\n",
      "\n",
      "--- Fold 1 - ROC AUC: 0.876319\n",
      "--- Fold 2 - ROC AUC: 0.898092\n",
      "--- Fold 3 - ROC AUC: 0.916386\n",
      "--- Fold 4 - ROC AUC: 0.917284\n",
      "--- Fold 5 - ROC AUC: 0.869024\n",
      "--- Fold 6 - ROC AUC: 0.881594\n",
      "--- Fold 7 - ROC AUC: 0.904602\n",
      "--- Fold 8 - ROC AUC: 0.857688\n",
      "--- Fold 9 - ROC AUC: 0.936925\n",
      "--- Fold 10 - ROC AUC: 0.913131\n",
      "\n",
      "------ Overall: 0.897368 | Average: 0.897104 ± 0.023861\n"
     ]
    }
   ],
   "source": [
    "lgbm_goss_model = LGBMClassifier(**lgbm_goss_params)\n",
    "lgbm_goss_trainer = Trainer(lgbm_goss_model)\n",
    "oof_pred_probs[\"LightGBM (goss)\"], test_pred_probs[\"LightGBM (goss)\"], overall_scores[\"LightGBM (goss)\"], scores[\"LightGBM (goss)\"] = lgbm_goss_trainer.fit_predict(X, y, X_test, X_original, y_original)"
   ]
  },
  {
   "cell_type": "code",
   "execution_count": 17,
   "id": "f5bde167",
   "metadata": {
    "execution": {
     "iopub.execute_input": "2025-03-19T08:09:16.265318Z",
     "iopub.status.busy": "2025-03-19T08:09:16.265057Z",
     "iopub.status.idle": "2025-03-19T08:09:32.266490Z",
     "shell.execute_reply": "2025-03-19T08:09:32.265451Z"
    },
    "papermill": {
     "duration": 16.011514,
     "end_time": "2025-03-19T08:09:32.267921",
     "exception": false,
     "start_time": "2025-03-19T08:09:16.256407",
     "status": "completed"
    },
    "tags": []
   },
   "outputs": [
    {
     "name": "stdout",
     "output_type": "stream",
     "text": [
      "Training CatBoostClassifier\n",
      "\n",
      "--- Fold 1 - ROC AUC: 0.881481\n",
      "--- Fold 2 - ROC AUC: 0.898092\n",
      "--- Fold 3 - ROC AUC: 0.923457\n",
      "--- Fold 4 - ROC AUC: 0.917621\n",
      "--- Fold 5 - ROC AUC: 0.864983\n",
      "--- Fold 6 - ROC AUC: 0.880696\n",
      "--- Fold 7 - ROC AUC: 0.895398\n",
      "--- Fold 8 - ROC AUC: 0.857127\n",
      "--- Fold 9 - ROC AUC: 0.934792\n",
      "--- Fold 10 - ROC AUC: 0.911111\n",
      "\n",
      "------ Overall: 0.896321 | Average: 0.896476 ± 0.024239\n"
     ]
    }
   ],
   "source": [
    "cb_model = CatBoostClassifier(**cb_params)\n",
    "cb_trainer = Trainer(cb_model)\n",
    "oof_pred_probs[\"CatBoost\"], test_pred_probs[\"CatBoost\"], overall_scores[\"CatBoost\"], scores[\"CatBoost\"] = cb_trainer.fit_predict(X, y, X_test, X_original, y_original)"
   ]
  },
  {
   "cell_type": "code",
   "execution_count": 18,
   "id": "806ef39a",
   "metadata": {
    "execution": {
     "iopub.execute_input": "2025-03-19T08:09:32.285294Z",
     "iopub.status.busy": "2025-03-19T08:09:32.285056Z",
     "iopub.status.idle": "2025-03-19T08:09:42.834065Z",
     "shell.execute_reply": "2025-03-19T08:09:42.832986Z"
    },
    "papermill": {
     "duration": 10.5592,
     "end_time": "2025-03-19T08:09:42.835571",
     "exception": false,
     "start_time": "2025-03-19T08:09:32.276371",
     "status": "completed"
    },
    "tags": []
   },
   "outputs": [
    {
     "name": "stdout",
     "output_type": "stream",
     "text": [
      "Training AdaBoostClassifier\n",
      "\n",
      "--- Fold 1 - ROC AUC: 0.877722\n",
      "--- Fold 2 - ROC AUC: 0.901684\n",
      "--- Fold 3 - ROC AUC: 0.916162\n",
      "--- Fold 4 - ROC AUC: 0.918519\n",
      "--- Fold 5 - ROC AUC: 0.862290\n",
      "--- Fold 6 - ROC AUC: 0.880976\n",
      "--- Fold 7 - ROC AUC: 0.897475\n",
      "--- Fold 8 - ROC AUC: 0.867508\n",
      "--- Fold 9 - ROC AUC: 0.936308\n",
      "--- Fold 10 - ROC AUC: 0.904994\n",
      "\n",
      "------ Overall: 0.895654 | Average: 0.896364 ± 0.022716\n"
     ]
    }
   ],
   "source": [
    "adb_model = AdaBoostClassifier(**adb_params)\n",
    "adb_trainer = Trainer(adb_model)\n",
    "oof_pred_probs[\"AdaBoost\"], test_pred_probs[\"AdaBoost\"], overall_scores[\"AdaBoost\"], scores[\"AdaBoost\"] = adb_trainer.fit_predict(X, y, X_test, X_original, y_original)"
   ]
  },
  {
   "cell_type": "code",
   "execution_count": 19,
   "id": "f94b042a",
   "metadata": {
    "execution": {
     "iopub.execute_input": "2025-03-19T08:09:42.854288Z",
     "iopub.status.busy": "2025-03-19T08:09:42.854018Z",
     "iopub.status.idle": "2025-03-19T08:10:35.540095Z",
     "shell.execute_reply": "2025-03-19T08:10:35.539073Z"
    },
    "papermill": {
     "duration": 52.697075,
     "end_time": "2025-03-19T08:10:35.541603",
     "exception": false,
     "start_time": "2025-03-19T08:09:42.844528",
     "status": "completed"
    },
    "tags": []
   },
   "outputs": [
    {
     "name": "stdout",
     "output_type": "stream",
     "text": [
      "Training RandomForestClassifier\n",
      "\n",
      "--- Fold 1 - ROC AUC: 0.880808\n",
      "--- Fold 2 - ROC AUC: 0.896521\n",
      "--- Fold 3 - ROC AUC: 0.926599\n",
      "--- Fold 4 - ROC AUC: 0.913356\n",
      "--- Fold 5 - ROC AUC: 0.863861\n",
      "--- Fold 6 - ROC AUC: 0.882155\n",
      "--- Fold 7 - ROC AUC: 0.888103\n",
      "--- Fold 8 - ROC AUC: 0.844220\n",
      "--- Fold 9 - ROC AUC: 0.932548\n",
      "--- Fold 10 - ROC AUC: 0.910887\n",
      "\n",
      "------ Overall: 0.893708 | Average: 0.893906 ± 0.026363\n"
     ]
    }
   ],
   "source": [
    "rf_model = RandomForestClassifier(**rf_params)\n",
    "rf_trainer = Trainer(rf_model)\n",
    "oof_pred_probs[\"RandomForest\"], test_pred_probs[\"RandomForest\"], overall_scores[\"RandomForest\"], scores[\"RandomForest\"] = rf_trainer.fit_predict(X, y, X_test, X_original, y_original)"
   ]
  },
  {
   "cell_type": "code",
   "execution_count": 20,
   "id": "86398e37",
   "metadata": {
    "execution": {
     "iopub.execute_input": "2025-03-19T08:10:35.562754Z",
     "iopub.status.busy": "2025-03-19T08:10:35.562467Z",
     "iopub.status.idle": "2025-03-19T08:10:44.241143Z",
     "shell.execute_reply": "2025-03-19T08:10:44.240198Z"
    },
    "papermill": {
     "duration": 8.690166,
     "end_time": "2025-03-19T08:10:44.242408",
     "exception": false,
     "start_time": "2025-03-19T08:10:35.552242",
     "status": "completed"
    },
    "tags": []
   },
   "outputs": [
    {
     "name": "stdout",
     "output_type": "stream",
     "text": [
      "Training ExtraTreesClassifier\n",
      "\n",
      "--- Fold 1 - ROC AUC: 0.880135\n",
      "--- Fold 2 - ROC AUC: 0.894388\n",
      "--- Fold 3 - ROC AUC: 0.916386\n",
      "--- Fold 4 - ROC AUC: 0.918967\n",
      "--- Fold 5 - ROC AUC: 0.873288\n",
      "--- Fold 6 - ROC AUC: 0.882492\n",
      "--- Fold 7 - ROC AUC: 0.891919\n",
      "--- Fold 8 - ROC AUC: 0.863861\n",
      "--- Fold 9 - ROC AUC: 0.935578\n",
      "--- Fold 10 - ROC AUC: 0.912682\n",
      "\n",
      "------ Overall: 0.896455 | Average: 0.896970 ± 0.021865\n"
     ]
    }
   ],
   "source": [
    "et_model = ExtraTreesClassifier(**et_params)\n",
    "et_trainer = Trainer(et_model)\n",
    "oof_pred_probs[\"ExtraTrees\"], test_pred_probs[\"ExtraTrees\"], overall_scores[\"ExtraTrees\"], scores[\"ExtraTrees\"] = et_trainer.fit_predict(X, y, X_test, X_original, y_original)"
   ]
  },
  {
   "cell_type": "code",
   "execution_count": 21,
   "id": "2a377b06",
   "metadata": {
    "execution": {
     "iopub.execute_input": "2025-03-19T08:10:44.262842Z",
     "iopub.status.busy": "2025-03-19T08:10:44.262581Z",
     "iopub.status.idle": "2025-03-19T08:10:47.741207Z",
     "shell.execute_reply": "2025-03-19T08:10:47.740479Z"
    },
    "papermill": {
     "duration": 3.49029,
     "end_time": "2025-03-19T08:10:47.742494",
     "exception": false,
     "start_time": "2025-03-19T08:10:44.252204",
     "status": "completed"
    },
    "tags": []
   },
   "outputs": [
    {
     "name": "stdout",
     "output_type": "stream",
     "text": [
      "Training HistGradientBoostingClassifier\n",
      "\n",
      "--- Fold 1 - ROC AUC: 0.883726\n",
      "--- Fold 2 - ROC AUC: 0.896970\n",
      "--- Fold 3 - ROC AUC: 0.926599\n",
      "--- Fold 4 - ROC AUC: 0.919192\n",
      "--- Fold 5 - ROC AUC: 0.873176\n",
      "--- Fold 6 - ROC AUC: 0.889450\n",
      "--- Fold 7 - ROC AUC: 0.898204\n",
      "--- Fold 8 - ROC AUC: 0.854265\n",
      "--- Fold 9 - ROC AUC: 0.935802\n",
      "--- Fold 10 - ROC AUC: 0.912009\n",
      "\n",
      "------ Overall: 0.897811 | Average: 0.898939 ± 0.023855\n"
     ]
    }
   ],
   "source": [
    "histgb_model = HistGradientBoostingClassifier(**histgb_params)\n",
    "histgb_trainer = Trainer(histgb_model)\n",
    "oof_pred_probs[\"HistGradientBoosting\"], test_pred_probs[\"HistGradientBoosting\"], overall_scores[\"HistGradientBoosting\"], scores[\"HistGradientBoosting\"] = histgb_trainer.fit_predict(X, y, X_test, X_original, y_original)"
   ]
  },
  {
   "cell_type": "code",
   "execution_count": 22,
   "id": "ca1158fa",
   "metadata": {
    "execution": {
     "iopub.execute_input": "2025-03-19T08:10:47.764010Z",
     "iopub.status.busy": "2025-03-19T08:10:47.763768Z",
     "iopub.status.idle": "2025-03-19T08:11:04.490960Z",
     "shell.execute_reply": "2025-03-19T08:11:04.490040Z"
    },
    "papermill": {
     "duration": 16.739132,
     "end_time": "2025-03-19T08:11:04.492201",
     "exception": false,
     "start_time": "2025-03-19T08:10:47.753069",
     "status": "completed"
    },
    "tags": []
   },
   "outputs": [
    {
     "name": "stdout",
     "output_type": "stream",
     "text": [
      "Training GradientBoostingClassifier\n",
      "\n",
      "--- Fold 1 - ROC AUC: 0.880584\n",
      "--- Fold 2 - ROC AUC: 0.897868\n",
      "--- Fold 3 - ROC AUC: 0.921773\n",
      "--- Fold 4 - ROC AUC: 0.914141\n",
      "--- Fold 5 - ROC AUC: 0.864871\n",
      "--- Fold 6 - ROC AUC: 0.883726\n",
      "--- Fold 7 - ROC AUC: 0.898204\n",
      "--- Fold 8 - ROC AUC: 0.854321\n",
      "--- Fold 9 - ROC AUC: 0.937374\n",
      "--- Fold 10 - ROC AUC: 0.914366\n",
      "\n",
      "------ Overall: 0.896121 | Average: 0.896723 ± 0.024779\n"
     ]
    }
   ],
   "source": [
    "gb_model = GradientBoostingClassifier(**gb_params)\n",
    "gb_trainer = Trainer(gb_model)\n",
    "oof_pred_probs[\"GradientBoosting\"], test_pred_probs[\"GradientBoosting\"], overall_scores[\"GradientBoosting\"], scores[\"GradientBoosting\"] = gb_trainer.fit_predict(X, y, X_test, X_original, y_original)"
   ]
  },
  {
   "cell_type": "code",
   "execution_count": 23,
   "id": "77122e6a",
   "metadata": {
    "execution": {
     "iopub.execute_input": "2025-03-19T08:11:04.514634Z",
     "iopub.status.busy": "2025-03-19T08:11:04.514329Z",
     "iopub.status.idle": "2025-03-19T08:11:07.092191Z",
     "shell.execute_reply": "2025-03-19T08:11:07.091473Z"
    },
    "papermill": {
     "duration": 2.590253,
     "end_time": "2025-03-19T08:11:07.093491",
     "exception": false,
     "start_time": "2025-03-19T08:11:04.503238",
     "status": "completed"
    },
    "tags": []
   },
   "outputs": [
    {
     "name": "stdout",
     "output_type": "stream",
     "text": [
      "Training LogisticRegression\n",
      "\n",
      "--- Fold 1 - ROC AUC: 0.868350\n",
      "--- Fold 2 - ROC AUC: 0.890572\n",
      "--- Fold 3 - ROC AUC: 0.897306\n",
      "--- Fold 4 - ROC AUC: 0.918855\n",
      "--- Fold 5 - ROC AUC: 0.880135\n",
      "--- Fold 6 - ROC AUC: 0.885522\n",
      "--- Fold 7 - ROC AUC: 0.878339\n",
      "--- Fold 8 - ROC AUC: 0.878227\n",
      "--- Fold 9 - ROC AUC: 0.932211\n",
      "--- Fold 10 - ROC AUC: 0.903030\n",
      "\n",
      "------ Overall: 0.893086 | Average: 0.893255 ± 0.018954\n"
     ]
    }
   ],
   "source": [
    "lr_model = LogisticRegression(**lr_params)\n",
    "lr_trainer = Trainer(lr_model)\n",
    "oof_pred_probs[\"LogisticRegression\"], test_pred_probs[\"LogisticRegression\"], overall_scores[\"LogisticRegression\"], scores[\"LogisticRegression\"] = lr_trainer.fit_predict(X, y, X_test, X_original, y_original)"
   ]
  },
  {
   "cell_type": "code",
   "execution_count": 24,
   "id": "01b8d2fd",
   "metadata": {
    "execution": {
     "iopub.execute_input": "2025-03-19T08:11:07.117153Z",
     "iopub.status.busy": "2025-03-19T08:11:07.116902Z",
     "iopub.status.idle": "2025-03-19T08:11:09.147125Z",
     "shell.execute_reply": "2025-03-19T08:11:09.146214Z"
    },
    "papermill": {
     "duration": 2.043188,
     "end_time": "2025-03-19T08:11:09.148569",
     "exception": false,
     "start_time": "2025-03-19T08:11:07.105381",
     "status": "completed"
    },
    "tags": []
   },
   "outputs": [
    {
     "name": "stdout",
     "output_type": "stream",
     "text": [
      "Training Ridge\n",
      "\n",
      "--- Fold 1 - ROC AUC: 0.868575\n",
      "--- Fold 2 - ROC AUC: 0.894501\n",
      "--- Fold 3 - ROC AUC: 0.900449\n",
      "--- Fold 4 - ROC AUC: 0.916274\n",
      "--- Fold 5 - ROC AUC: 0.889899\n",
      "--- Fold 6 - ROC AUC: 0.886981\n",
      "--- Fold 7 - ROC AUC: 0.877666\n",
      "--- Fold 8 - ROC AUC: 0.870370\n",
      "--- Fold 9 - ROC AUC: 0.931089\n",
      "--- Fold 10 - ROC AUC: 0.905163\n",
      "\n",
      "------ Overall: 0.893450 | Average: 0.894097 ± 0.018910\n"
     ]
    }
   ],
   "source": [
    "ridge_model = Ridge(**ridge_params)\n",
    "ridge_trainer = Trainer(ridge_model)\n",
    "oof_pred_probs[\"Ridge\"], test_pred_probs[\"Ridge\"], overall_scores[\"Ridge\"], scores[\"Ridge\"] = ridge_trainer.fit_predict(X, y, X_test, X_original, y_original)"
   ]
  },
  {
   "cell_type": "code",
   "execution_count": 25,
   "id": "0985a975",
   "metadata": {
    "execution": {
     "iopub.execute_input": "2025-03-19T08:11:09.172784Z",
     "iopub.status.busy": "2025-03-19T08:11:09.172503Z",
     "iopub.status.idle": "2025-03-19T08:13:19.584288Z",
     "shell.execute_reply": "2025-03-19T08:13:19.583410Z"
    },
    "papermill": {
     "duration": 130.425158,
     "end_time": "2025-03-19T08:13:19.585671",
     "exception": false,
     "start_time": "2025-03-19T08:11:09.160513",
     "status": "completed"
    },
    "tags": []
   },
   "outputs": [
    {
     "name": "stdout",
     "output_type": "stream",
     "text": [
      "Training TabPFNClassifier\n",
      "\n"
     ]
    },
    {
     "data": {
      "application/vnd.jupyter.widget-view+json": {
       "model_id": "89ef10aa93974011a7b12a7a2857cd41",
       "version_major": 2,
       "version_minor": 0
      },
      "text/plain": [
       "tabpfn-v2-classifier.ckpt:   0%|          | 0.00/29.0M [00:00<?, ?B/s]"
      ]
     },
     "metadata": {},
     "output_type": "display_data"
    },
    {
     "data": {
      "application/vnd.jupyter.widget-view+json": {
       "model_id": "d0ee8461ed524c49a1728b6cc2645ab9",
       "version_major": 2,
       "version_minor": 0
      },
      "text/plain": [
       "config.json:   0%|          | 0.00/37.0 [00:00<?, ?B/s]"
      ]
     },
     "metadata": {},
     "output_type": "display_data"
    },
    {
     "name": "stdout",
     "output_type": "stream",
     "text": [
      "--- Fold 1 - ROC AUC: 0.874860\n",
      "--- Fold 2 - ROC AUC: 0.890685\n",
      "--- Fold 3 - ROC AUC: 0.904714\n",
      "--- Fold 4 - ROC AUC: 0.919753\n",
      "--- Fold 5 - ROC AUC: 0.872391\n",
      "--- Fold 6 - ROC AUC: 0.882604\n",
      "--- Fold 7 - ROC AUC: 0.882828\n",
      "--- Fold 8 - ROC AUC: 0.859484\n",
      "--- Fold 9 - ROC AUC: 0.938496\n",
      "--- Fold 10 - ROC AUC: 0.913805\n",
      "\n",
      "------ Overall: 0.893292 | Average: 0.893962 ± 0.023325\n"
     ]
    }
   ],
   "source": [
    "tabpfn_model = TabPFNClassifier(random_state=CFG.seed, n_jobs=-1)\n",
    "tabpfn_trainer = Trainer(tabpfn_model)\n",
    "oof_pred_probs[\"TabPFN\"], test_pred_probs[\"TabPFN\"], overall_scores[\"TabPFN\"], scores[\"TabPFN\"] = tabpfn_trainer.fit_predict(X, y, X_test, X_original, y_original)"
   ]
  },
  {
   "cell_type": "markdown",
   "id": "7764fe8e",
   "metadata": {
    "papermill": {
     "duration": 0.01184,
     "end_time": "2025-03-19T08:13:19.610208",
     "exception": false,
     "start_time": "2025-03-19T08:13:19.598368",
     "status": "completed"
    },
    "tags": []
   },
   "source": [
    "# Ensembling with LogisticRegression"
   ]
  },
  {
   "cell_type": "code",
   "execution_count": 26,
   "id": "8fde16df",
   "metadata": {
    "_kg_hide-input": true,
    "execution": {
     "iopub.execute_input": "2025-03-19T08:13:19.635565Z",
     "iopub.status.busy": "2025-03-19T08:13:19.635209Z",
     "iopub.status.idle": "2025-03-19T08:13:19.641279Z",
     "shell.execute_reply": "2025-03-19T08:13:19.640636Z"
    },
    "papermill": {
     "duration": 0.020083,
     "end_time": "2025-03-19T08:13:19.642438",
     "exception": false,
     "start_time": "2025-03-19T08:13:19.622355",
     "status": "completed"
    },
    "tags": []
   },
   "outputs": [],
   "source": [
    "def plot_weights(weights, title):\n",
    "    sorted_indices = np.argsort(weights[0])[::-1]\n",
    "    sorted_coeffs = np.array(weights[0])[sorted_indices]\n",
    "    sorted_model_names = np.array(list(oof_pred_probs.keys()))[sorted_indices]\n",
    "\n",
    "    plt.figure(figsize=(10, weights.shape[1] * 0.3))\n",
    "    ax = sns.barplot(x=sorted_coeffs, y=sorted_model_names, palette=\"RdYlGn_r\")\n",
    "\n",
    "    for i, (value, name) in enumerate(zip(sorted_coeffs, sorted_model_names)):\n",
    "        if value >= 0:\n",
    "            ax.text(value, i, f\"{value:.3f}\", va=\"center\", ha=\"left\", color=\"black\")\n",
    "        else:\n",
    "            ax.text(value, i, f\"{value:.3f}\", va=\"center\", ha=\"right\", color=\"black\")\n",
    "\n",
    "    xlim = ax.get_xlim()\n",
    "    ax.set_xlim(xlim[0] - 0.1 * abs(xlim[0]), xlim[1] + 0.1 * abs(xlim[1]))\n",
    "\n",
    "    plt.title(title)\n",
    "    plt.xlabel(\"\")\n",
    "    plt.ylabel(\"\")\n",
    "    plt.tight_layout()\n",
    "    plt.show()"
   ]
  },
  {
   "cell_type": "code",
   "execution_count": 27,
   "id": "fc685e08",
   "metadata": {
    "execution": {
     "iopub.execute_input": "2025-03-19T08:13:19.667628Z",
     "iopub.status.busy": "2025-03-19T08:13:19.667292Z",
     "iopub.status.idle": "2025-03-19T08:13:19.676516Z",
     "shell.execute_reply": "2025-03-19T08:13:19.675842Z"
    },
    "papermill": {
     "duration": 0.023317,
     "end_time": "2025-03-19T08:13:19.677793",
     "exception": false,
     "start_time": "2025-03-19T08:13:19.654476",
     "status": "completed"
    },
    "tags": []
   },
   "outputs": [],
   "source": [
    "X = logit(pd.DataFrame(oof_pred_probs).clip(1e-15, 1-1e-15))\n",
    "X_test = logit(pd.DataFrame(test_pred_probs).clip(1e-15, 1-1e-15))"
   ]
  },
  {
   "cell_type": "code",
   "execution_count": 28,
   "id": "e15ab47c",
   "metadata": {
    "_kg_hide-output": true,
    "execution": {
     "iopub.execute_input": "2025-03-19T08:13:19.703553Z",
     "iopub.status.busy": "2025-03-19T08:13:19.703222Z",
     "iopub.status.idle": "2025-03-19T08:22:56.182812Z",
     "shell.execute_reply": "2025-03-19T08:22:56.181956Z"
    },
    "papermill": {
     "duration": 576.494305,
     "end_time": "2025-03-19T08:22:56.184318",
     "exception": false,
     "start_time": "2025-03-19T08:13:19.690013",
     "status": "completed"
    },
    "scrolled": true,
    "tags": []
   },
   "outputs": [
    {
     "name": "stderr",
     "output_type": "stream",
     "text": [
      "[I 2025-03-19 08:13:19,708] A new study created in memory with name: no-name-457fc54e-f684-41ab-a5a9-77721f48ea88\n",
      "[I 2025-03-19 08:13:23,674] Trial 1 finished with value: 0.8969786756453424 and parameters: {'solver_penalty': ('liblinear', 'l2'), 'C': 0.20428619967785278, 'tol': 0.0024426860806745125, 'fit_intercept': False, 'class_weight': None}. Best is trial 1 with value: 0.8969786756453424.\n",
      "[I 2025-03-19 08:13:26,749] Trial 2 finished with value: 0.8971537598204266 and parameters: {'solver_penalty': ('lbfgs', None), 'C': 0.9562555530302325, 'tol': 0.00922734298503618, 'fit_intercept': True, 'class_weight': None}. Best is trial 2 with value: 0.8971537598204266.\n",
      "[I 2025-03-19 08:13:31,588] Trial 3 finished with value: 0.8895308641975308 and parameters: {'solver_penalty': ('newton-cg', None), 'C': 0.6985873956214356, 'tol': 0.00803809235852705, 'fit_intercept': False, 'class_weight': 'balanced'}. Best is trial 2 with value: 0.8971537598204266.\n",
      "[I 2025-03-19 08:13:32,290] Trial 0 finished with value: 0.8964814814814814 and parameters: {'solver_penalty': ('newton-cg', 'l2'), 'C': 0.8996722605529999, 'tol': 0.0008282385867465479, 'fit_intercept': False, 'class_weight': None}. Best is trial 2 with value: 0.8971537598204266.\n",
      "[I 2025-03-19 08:13:32,774] Trial 5 finished with value: 0.8899461279461278 and parameters: {'solver_penalty': ('lbfgs', None), 'C': 0.7218579601865616, 'tol': 0.0043013881185090565, 'fit_intercept': False, 'class_weight': 'balanced'}. Best is trial 2 with value: 0.8971537598204266.\n",
      "[I 2025-03-19 08:13:37,308] Trial 6 finished with value: 0.8873254769921435 and parameters: {'solver_penalty': ('newton-cholesky', None), 'C': 0.31096823182437905, 'tol': 0.0039055347597543623, 'fit_intercept': False, 'class_weight': 'balanced'}. Best is trial 2 with value: 0.8971537598204266.\n",
      "[I 2025-03-19 08:13:40,968] Trial 7 finished with value: 0.8971459034792368 and parameters: {'solver_penalty': ('newton-cg', None), 'C': 0.9475367490401957, 'tol': 0.00875190783903781, 'fit_intercept': False, 'class_weight': None}. Best is trial 2 with value: 0.8971537598204266.\n",
      "[I 2025-03-19 08:13:41,206] Trial 9 finished with value: 0.8889147025813693 and parameters: {'solver_penalty': ('liblinear', 'l2'), 'C': 0.8636359768228034, 'tol': 0.004085376706830005, 'fit_intercept': False, 'class_weight': 'balanced'}. Best is trial 2 with value: 0.8971537598204266.\n",
      "[I 2025-03-19 08:13:46,178] Trial 10 finished with value: 0.8969865319865321 and parameters: {'solver_penalty': ('liblinear', 'l2'), 'C': 0.2436174183444959, 'tol': 0.0017109580642021478, 'fit_intercept': True, 'class_weight': None}. Best is trial 2 with value: 0.8971537598204266.\n",
      "[I 2025-03-19 08:13:46,416] Trial 11 finished with value: 0.8889562289562289 and parameters: {'solver_penalty': ('liblinear', 'l2'), 'C': 0.6563922719263198, 'tol': 0.006622459962729262, 'fit_intercept': False, 'class_weight': 'balanced'}. Best is trial 2 with value: 0.8971537598204266.\n",
      "[I 2025-03-19 08:13:50,290] Trial 12 finished with value: 0.8965824915824916 and parameters: {'solver_penalty': ('liblinear', 'l2'), 'C': 0.42837766937036026, 'tol': 0.009652130579137413, 'fit_intercept': True, 'class_weight': 'balanced'}. Best is trial 2 with value: 0.8971537598204266.\n",
      "[I 2025-03-19 08:13:51,025] Trial 4 finished with value: 0.8964309764309766 and parameters: {'solver_penalty': ('newton-cg', 'l2'), 'C': 0.656879810499872, 'tol': 2.589327702184405e-05, 'fit_intercept': True, 'class_weight': 'balanced'}. Best is trial 2 with value: 0.8971537598204266.\n",
      "[I 2025-03-19 08:13:53,998] Trial 13 finished with value: 0.8959685746352414 and parameters: {'solver_penalty': ('newton-cholesky', None), 'C': 0.7287456791582955, 'tol': 0.006358165695729072, 'fit_intercept': True, 'class_weight': 'balanced'}. Best is trial 2 with value: 0.8971537598204266.\n",
      "[I 2025-03-19 08:13:58,557] Trial 14 finished with value: 0.8873254769921437 and parameters: {'solver_penalty': ('newton-cholesky', None), 'C': 0.2970616660174126, 'tol': 0.0053178482588077895, 'fit_intercept': False, 'class_weight': 'balanced'}. Best is trial 2 with value: 0.8971537598204266.\n",
      "[I 2025-03-19 08:13:58,800] Trial 16 finished with value: 0.8966801346801346 and parameters: {'solver_penalty': ('liblinear', 'l2'), 'C': 0.5820945637830442, 'tol': 0.008811559956116249, 'fit_intercept': True, 'class_weight': None}. Best is trial 2 with value: 0.8971537598204266.\n",
      "[I 2025-03-19 08:13:59,041] Trial 8 finished with value: 0.8966980920314253 and parameters: {'solver_penalty': ('newton-cg', 'l2'), 'C': 0.5186158046703977, 'tol': 0.004474932416270501, 'fit_intercept': True, 'class_weight': 'balanced'}. Best is trial 2 with value: 0.8971537598204266.\n",
      "[I 2025-03-19 08:13:59,540] Trial 15 finished with value: 0.8962446689113355 and parameters: {'solver_penalty': ('newton-cholesky', None), 'C': 0.24905983618405492, 'tol': 0.0021218494181045964, 'fit_intercept': False, 'class_weight': None}. Best is trial 2 with value: 0.8971537598204266.\n",
      "[I 2025-03-19 08:14:05,058] Trial 20 finished with value: 0.8969674523007856 and parameters: {'solver_penalty': ('liblinear', 'l1'), 'C': 0.0769021727439454, 'tol': 0.005881619817003868, 'fit_intercept': True, 'class_weight': 'balanced'}. Best is trial 2 with value: 0.8971537598204266.\n",
      "[I 2025-03-19 08:14:07,161] Trial 18 finished with value: 0.8965095398428732 and parameters: {'solver_penalty': ('newton-cholesky', 'l2'), 'C': 0.5886370042747342, 'tol': 0.002480532534562648, 'fit_intercept': True, 'class_weight': 'balanced'}. Best is trial 2 with value: 0.8971537598204266.\n",
      "[I 2025-03-19 08:14:09,740] Trial 17 finished with value: 0.8959876543209876 and parameters: {'solver_penalty': ('newton-cg', None), 'C': 0.44880038959512014, 'tol': 0.006530495910376647, 'fit_intercept': False, 'class_weight': None}. Best is trial 2 with value: 0.8971537598204266.\n",
      "[I 2025-03-19 08:14:10,476] Trial 19 finished with value: 0.8959135802469136 and parameters: {'solver_penalty': ('newton-cg', 'l2'), 'C': 0.9862264826104991, 'tol': 0.0057031570407785484, 'fit_intercept': False, 'class_weight': None}. Best is trial 2 with value: 0.8971537598204266.\n",
      "[I 2025-03-19 08:14:12,570] Trial 21 finished with value: 0.8968922558922561 and parameters: {'solver_penalty': ('newton-cg', None), 'C': 0.6127679466413034, 'tol': 0.007829147501187026, 'fit_intercept': False, 'class_weight': None}. Best is trial 2 with value: 0.8971537598204266.\n",
      "[I 2025-03-19 08:14:18,496] Trial 23 finished with value: 0.8960482603815936 and parameters: {'solver_penalty': ('newton-cg', None), 'C': 0.02576639563115468, 'tol': 0.003075148913692934, 'fit_intercept': True, 'class_weight': None}. Best is trial 2 with value: 0.8971537598204266.\n",
      "[I 2025-03-19 08:14:19,416] Trial 24 finished with value: 0.8895982042648709 and parameters: {'solver_penalty': ('newton-cg', None), 'C': 0.06374853167205163, 'tol': 0.009405675832212936, 'fit_intercept': False, 'class_weight': 'balanced'}. Best is trial 2 with value: 0.8971537598204266.\n",
      "[I 2025-03-19 08:14:22,872] Trial 26 finished with value: 0.8967351290684624 and parameters: {'solver_penalty': ('liblinear', 'l2'), 'C': 0.4674010382176198, 'tol': 0.006844992637176112, 'fit_intercept': True, 'class_weight': 'balanced'}. Best is trial 2 with value: 0.8971537598204266.\n",
      "[I 2025-03-19 08:14:23,102] Trial 25 finished with value: 0.8970112233445569 and parameters: {'solver_penalty': ('newton-cg', 'l2'), 'C': 0.1371396673691141, 'tol': 0.0033015125707636576, 'fit_intercept': True, 'class_weight': None}. Best is trial 2 with value: 0.8971537598204266.\n",
      "[I 2025-03-19 08:14:27,546] Trial 27 finished with value: 0.8959854096520763 and parameters: {'solver_penalty': ('newton-cholesky', None), 'C': 0.7712766075659727, 'tol': 0.0003007902856469743, 'fit_intercept': True, 'class_weight': 'balanced'}. Best is trial 2 with value: 0.8971537598204266.\n",
      "[I 2025-03-19 08:14:27,548] Trial 22 finished with value: 0.8959259259259259 and parameters: {'solver_penalty': ('newton-cg', None), 'C': 0.024703434785858458, 'tol': 0.0012767325124150555, 'fit_intercept': True, 'class_weight': 'balanced'}. Best is trial 2 with value: 0.8971537598204266.\n",
      "[I 2025-03-19 08:14:31,143] Trial 29 finished with value: 0.8971537598204266 and parameters: {'solver_penalty': ('lbfgs', None), 'C': 0.9954174182625438, 'tol': 0.009245329659435884, 'fit_intercept': True, 'class_weight': None}. Best is trial 2 with value: 0.8971537598204266.\n",
      "[I 2025-03-19 08:14:31,149] Trial 28 finished with value: 0.8971537598204266 and parameters: {'solver_penalty': ('lbfgs', None), 'C': 0.9455753449344797, 'tol': 0.007938887346830584, 'fit_intercept': True, 'class_weight': None}. Best is trial 2 with value: 0.8971537598204266.\n",
      "[I 2025-03-19 08:14:36,761] Trial 31 finished with value: 0.8971537598204266 and parameters: {'solver_penalty': ('lbfgs', None), 'C': 0.8059908459889553, 'tol': 0.00860502839306897, 'fit_intercept': True, 'class_weight': None}. Best is trial 2 with value: 0.8971537598204266.\n",
      "[I 2025-03-19 08:14:37,246] Trial 30 finished with value: 0.8971537598204266 and parameters: {'solver_penalty': ('lbfgs', None), 'C': 0.9383124008288194, 'tol': 0.007743635886880243, 'fit_intercept': True, 'class_weight': None}. Best is trial 2 with value: 0.8971537598204266.\n",
      "[I 2025-03-19 08:14:41,698] Trial 32 finished with value: 0.8971537598204266 and parameters: {'solver_penalty': ('lbfgs', None), 'C': 0.9695371570123712, 'tol': 0.009860922552804342, 'fit_intercept': True, 'class_weight': None}. Best is trial 2 with value: 0.8971537598204266.\n",
      "[I 2025-03-19 08:14:41,923] Trial 33 finished with value: 0.8968978675645343 and parameters: {'solver_penalty': ('lbfgs', None), 'C': 0.9720623501558912, 'tol': 0.008909782489000704, 'fit_intercept': True, 'class_weight': 'balanced'}. Best is trial 2 with value: 0.8971537598204266.\n",
      "[I 2025-03-19 08:14:42,392] Trial 35 finished with value: 0.8956374859708194 and parameters: {'solver_penalty': ('liblinear', 'l1'), 'C': 0.9820245143402598, 'tol': 0.009454919718511524, 'fit_intercept': True, 'class_weight': None}. Best is trial 2 with value: 0.8971537598204266.\n",
      "[I 2025-03-19 08:14:47,559] Trial 36 finished with value: 0.8966430976430977 and parameters: {'solver_penalty': ('liblinear', 'l1'), 'C': 0.8670807507340283, 'tol': 0.007382130593224543, 'fit_intercept': True, 'class_weight': None}. Best is trial 2 with value: 0.8971537598204266.\n",
      "[I 2025-03-19 08:14:50,329] Trial 34 finished with value: 0.8971537598204266 and parameters: {'solver_penalty': ('lbfgs', None), 'C': 0.9921796923488543, 'tol': 0.008315514775192163, 'fit_intercept': True, 'class_weight': None}. Best is trial 2 with value: 0.8971537598204266.\n",
      "[I 2025-03-19 08:14:53,540] Trial 37 finished with value: 0.8963838383838385 and parameters: {'solver_penalty': ('newton-cholesky', None), 'C': 0.899219324047304, 'tol': 0.006335466839269633, 'fit_intercept': True, 'class_weight': None}. Best is trial 2 with value: 0.8971537598204266.\n",
      "[I 2025-03-19 08:14:53,549] Trial 39 finished with value: 0.8966958473625142 and parameters: {'solver_penalty': ('liblinear', 'l2'), 'C': 0.9637056605604607, 'tol': 0.0059079362502783735, 'fit_intercept': True, 'class_weight': None}. Best is trial 2 with value: 0.8971537598204266.\n",
      "[I 2025-03-19 08:14:53,577] Trial 38 finished with value: 0.8963838383838385 and parameters: {'solver_penalty': ('newton-cholesky', None), 'C': 0.8433258891619495, 'tol': 0.007023284006486729, 'fit_intercept': True, 'class_weight': None}. Best is trial 2 with value: 0.8971537598204266.\n",
      "[I 2025-03-19 08:15:00,485] Trial 40 finished with value: 0.8972514029180695 and parameters: {'solver_penalty': ('lbfgs', None), 'C': 0.8542059127523536, 'tol': 0.007887686916861114, 'fit_intercept': False, 'class_weight': None}. Best is trial 40 with value: 0.8972514029180695.\n",
      "[I 2025-03-19 08:15:03,077] Trial 41 finished with value: 0.8972514029180695 and parameters: {'solver_penalty': ('lbfgs', None), 'C': 0.9815113701483396, 'tol': 0.00884877142437673, 'fit_intercept': False, 'class_weight': None}. Best is trial 40 with value: 0.8972514029180695.\n",
      "[I 2025-03-19 08:15:03,078] Trial 42 finished with value: 0.8972514029180695 and parameters: {'solver_penalty': ('lbfgs', None), 'C': 0.9960978719420258, 'tol': 0.007036280303604867, 'fit_intercept': False, 'class_weight': None}. Best is trial 40 with value: 0.8972514029180695.\n",
      "[I 2025-03-19 08:15:03,109] Trial 43 finished with value: 0.8972514029180695 and parameters: {'solver_penalty': ('lbfgs', None), 'C': 0.868462600154557, 'tol': 0.008489297810719446, 'fit_intercept': False, 'class_weight': None}. Best is trial 40 with value: 0.8972514029180695.\n",
      "[I 2025-03-19 08:15:09,689] Trial 44 finished with value: 0.8972514029180695 and parameters: {'solver_penalty': ('lbfgs', None), 'C': 0.8089783577559302, 'tol': 0.006373843341689877, 'fit_intercept': False, 'class_weight': None}. Best is trial 40 with value: 0.8972514029180695.\n",
      "[I 2025-03-19 08:15:12,083] Trial 46 finished with value: 0.8972514029180695 and parameters: {'solver_penalty': ('lbfgs', None), 'C': 0.9759587846707133, 'tol': 0.007891701546142493, 'fit_intercept': False, 'class_weight': None}. Best is trial 40 with value: 0.8972514029180695.\n",
      "[I 2025-03-19 08:15:12,786] Trial 45 finished with value: 0.8972514029180695 and parameters: {'solver_penalty': ('lbfgs', None), 'C': 0.9018264586727962, 'tol': 0.006749613713177545, 'fit_intercept': False, 'class_weight': None}. Best is trial 40 with value: 0.8972514029180695.\n",
      "[I 2025-03-19 08:15:12,797] Trial 47 finished with value: 0.8972514029180695 and parameters: {'solver_penalty': ('lbfgs', None), 'C': 0.7930020163334478, 'tol': 0.0067753689696486595, 'fit_intercept': False, 'class_weight': None}. Best is trial 40 with value: 0.8972514029180695.\n",
      "[I 2025-03-19 08:15:17,878] Trial 50 finished with value: 0.8965982042648709 and parameters: {'solver_penalty': ('liblinear', 'l2'), 'C': 0.891669279159828, 'tol': 0.009727295040219767, 'fit_intercept': False, 'class_weight': None}. Best is trial 40 with value: 0.8972514029180695.\n",
      "[I 2025-03-19 08:15:20,215] Trial 48 finished with value: 0.8972514029180695 and parameters: {'solver_penalty': ('lbfgs', None), 'C': 0.7076708589211079, 'tol': 0.0062437109185983445, 'fit_intercept': False, 'class_weight': None}. Best is trial 40 with value: 0.8972514029180695.\n",
      "[I 2025-03-19 08:15:22,401] Trial 51 finished with value: 0.8873400673400673 and parameters: {'solver_penalty': ('newton-cholesky', None), 'C': 0.9334101221593437, 'tol': 0.008168619822636383, 'fit_intercept': False, 'class_weight': 'balanced'}. Best is trial 40 with value: 0.8972514029180695.\n",
      "[I 2025-03-19 08:15:23,371] Trial 49 finished with value: 0.8961851851851851 and parameters: {'solver_penalty': ('lbfgs', None), 'C': 0.7929289069061349, 'tol': 0.00399915803902675, 'fit_intercept': False, 'class_weight': None}. Best is trial 40 with value: 0.8972514029180695.\n",
      "[I 2025-03-19 08:15:26,451] Trial 52 finished with value: 0.8888810325476992 and parameters: {'solver_penalty': ('newton-cholesky', 'l2'), 'C': 0.8002778564314028, 'tol': 0.009308295333595616, 'fit_intercept': False, 'class_weight': 'balanced'}. Best is trial 40 with value: 0.8972514029180695.\n",
      "[I 2025-03-19 08:15:30,978] Trial 55 finished with value: 0.8966430976430975 and parameters: {'solver_penalty': ('newton-cholesky', 'l2'), 'C': 0.8756703136568401, 'tol': 0.007565106166388405, 'fit_intercept': False, 'class_weight': None}. Best is trial 40 with value: 0.8972514029180695.\n",
      "[I 2025-03-19 08:15:31,717] Trial 54 finished with value: 0.897246913580247 and parameters: {'solver_penalty': ('lbfgs', 'l2'), 'C': 0.8829919210660467, 'tol': 0.007873547723624136, 'fit_intercept': False, 'class_weight': None}. Best is trial 40 with value: 0.8972514029180695.\n",
      "[I 2025-03-19 08:15:34,754] Trial 53 finished with value: 0.8963849607182941 and parameters: {'solver_penalty': ('lbfgs', None), 'C': 0.9273083554043879, 'tol': 0.0021383898255639827, 'fit_intercept': False, 'class_weight': None}. Best is trial 40 with value: 0.8972514029180695.\n",
      "[I 2025-03-19 08:15:36,652] Trial 58 finished with value: 0.8970258136924805 and parameters: {'solver_penalty': ('liblinear', 'l1'), 'C': 0.8109767141613876, 'tol': 0.0062347769562369725, 'fit_intercept': False, 'class_weight': None}. Best is trial 40 with value: 0.8972514029180695.\n",
      "[I 2025-03-19 08:15:37,399] Trial 56 finished with value: 0.8972749719416386 and parameters: {'solver_penalty': ('lbfgs', 'l2'), 'C': 0.8602884773756434, 'tol': 0.008230074189221677, 'fit_intercept': False, 'class_weight': None}. Best is trial 56 with value: 0.8972749719416386.\n",
      "[I 2025-03-19 08:15:40,738] Trial 57 finished with value: 0.8972514029180695 and parameters: {'solver_penalty': ('lbfgs', None), 'C': 0.6815612061534208, 'tol': 0.009922782218294282, 'fit_intercept': False, 'class_weight': None}. Best is trial 56 with value: 0.8972749719416386.\n",
      "[I 2025-03-19 08:15:44,532] Trial 59 finished with value: 0.8929483726150393 and parameters: {'solver_penalty': ('lbfgs', None), 'C': 0.7547299142232393, 'tol': 0.009385578420193427, 'fit_intercept': False, 'class_weight': 'balanced'}. Best is trial 56 with value: 0.8972749719416386.\n",
      "[I 2025-03-19 08:15:46,631] Trial 61 finished with value: 0.8930415263748597 and parameters: {'solver_penalty': ('lbfgs', None), 'C': 0.7752136370303726, 'tol': 0.0087990838237402, 'fit_intercept': False, 'class_weight': 'balanced'}. Best is trial 56 with value: 0.8972749719416386.\n",
      "[I 2025-03-19 08:15:46,652] Trial 60 finished with value: 0.8925454545454545 and parameters: {'solver_penalty': ('lbfgs', None), 'C': 0.9944486523013393, 'tol': 0.008106246351856911, 'fit_intercept': False, 'class_weight': 'balanced'}. Best is trial 56 with value: 0.8972749719416386.\n",
      "[I 2025-03-19 08:15:52,564] Trial 63 finished with value: 0.8962772166105499 and parameters: {'solver_penalty': ('newton-cholesky', None), 'C': 0.5577149843722953, 'tol': 0.007924237048367476, 'fit_intercept': False, 'class_weight': None}. Best is trial 56 with value: 0.8972749719416386.\n",
      "[I 2025-03-19 08:15:55,110] Trial 64 finished with value: 0.8962772166105499 and parameters: {'solver_penalty': ('newton-cholesky', None), 'C': 0.9212063343497164, 'tol': 0.006867464768698764, 'fit_intercept': False, 'class_weight': None}. Best is trial 56 with value: 0.8972749719416386.\n",
      "[I 2025-03-19 08:15:55,574] Trial 65 finished with value: 0.8962772166105499 and parameters: {'solver_penalty': ('newton-cholesky', None), 'C': 0.7479271762121827, 'tol': 0.007799519557157425, 'fit_intercept': False, 'class_weight': None}. Best is trial 56 with value: 0.8972749719416386.\n",
      "[I 2025-03-19 08:15:55,785] Trial 62 finished with value: 0.8969977553310887 and parameters: {'solver_penalty': ('newton-cg', 'l2'), 'C': 0.7986340489733336, 'tol': 0.00957373950206961, 'fit_intercept': False, 'class_weight': None}. Best is trial 56 with value: 0.8972749719416386.\n",
      "[I 2025-03-19 08:15:57,830] Trial 66 finished with value: 0.8966992143658811 and parameters: {'solver_penalty': ('liblinear', 'l2'), 'C': 0.7374024527774627, 'tol': 0.006667528412187841, 'fit_intercept': False, 'class_weight': None}. Best is trial 56 with value: 0.8972749719416386.\n",
      "[I 2025-03-19 08:16:00,564] Trial 68 finished with value: 0.8968855218855218 and parameters: {'solver_penalty': ('liblinear', 'l2'), 'C': 0.8913239610502954, 'tol': 0.004878785191206677, 'fit_intercept': False, 'class_weight': None}. Best is trial 56 with value: 0.8972749719416386.\n",
      "[I 2025-03-19 08:16:05,867] Trial 69 finished with value: 0.8972514029180695 and parameters: {'solver_penalty': ('lbfgs', None), 'C': 0.9985838453706616, 'tol': 0.006172836610017669, 'fit_intercept': False, 'class_weight': None}. Best is trial 56 with value: 0.8972749719416386.\n",
      "[I 2025-03-19 08:16:06,611] Trial 70 finished with value: 0.8972514029180695 and parameters: {'solver_penalty': ('lbfgs', None), 'C': 0.9669943758792947, 'tol': 0.008851343264457355, 'fit_intercept': False, 'class_weight': None}. Best is trial 56 with value: 0.8972749719416386.\n",
      "[I 2025-03-19 08:16:09,246] Trial 67 finished with value: 0.8970628507295173 and parameters: {'solver_penalty': ('newton-cg', 'l2'), 'C': 0.8726369491327953, 'tol': 0.008148168484945657, 'fit_intercept': False, 'class_weight': None}. Best is trial 56 with value: 0.8972749719416386.\n",
      "[I 2025-03-19 08:16:09,253] Trial 71 finished with value: 0.8961874298540964 and parameters: {'solver_penalty': ('lbfgs', None), 'C': 0.9942071354346824, 'tol': 0.00559311251051195, 'fit_intercept': False, 'class_weight': None}. Best is trial 56 with value: 0.8972749719416386.\n",
      "[I 2025-03-19 08:16:14,481] Trial 73 finished with value: 0.8925398428731762 and parameters: {'solver_penalty': ('lbfgs', 'l2'), 'C': 0.7907531588672684, 'tol': 0.007711539751754509, 'fit_intercept': False, 'class_weight': 'balanced'}. Best is trial 56 with value: 0.8972749719416386.\n",
      "[I 2025-03-19 08:16:17,113] Trial 75 finished with value: 0.8972514029180695 and parameters: {'solver_penalty': ('lbfgs', None), 'C': 0.8688544263864242, 'tol': 0.007277680074847655, 'fit_intercept': False, 'class_weight': None}. Best is trial 56 with value: 0.8972749719416386.\n",
      "[I 2025-03-19 08:16:17,359] Trial 74 finished with value: 0.8972076318742986 and parameters: {'solver_penalty': ('lbfgs', 'l2'), 'C': 0.6793858173327625, 'tol': 0.009216367359915444, 'fit_intercept': False, 'class_weight': None}. Best is trial 56 with value: 0.8972749719416386.\n",
      "[I 2025-03-19 08:16:22,587] Trial 76 finished with value: 0.8972514029180695 and parameters: {'solver_penalty': ('lbfgs', None), 'C': 0.9868935173279328, 'tol': 0.008703231277640675, 'fit_intercept': False, 'class_weight': None}. Best is trial 56 with value: 0.8972749719416386.\n",
      "[I 2025-03-19 08:16:23,798] Trial 77 finished with value: 0.8972514029180695 and parameters: {'solver_penalty': ('lbfgs', None), 'C': 0.9114556300967271, 'tol': 0.009871899266494849, 'fit_intercept': False, 'class_weight': None}. Best is trial 56 with value: 0.8972749719416386.\n",
      "[I 2025-03-19 08:16:25,648] Trial 72 finished with value: 0.8875634118967453 and parameters: {'solver_penalty': ('newton-cg', None), 'C': 0.6584455487770589, 'tol': 0.0012844459837275338, 'fit_intercept': False, 'class_weight': 'balanced'}. Best is trial 56 with value: 0.8972749719416386.\n",
      "[I 2025-03-19 08:16:29,062] Trial 80 finished with value: 0.8973322109988776 and parameters: {'solver_penalty': ('liblinear', 'l1'), 'C': 0.874745147683316, 'tol': 0.009703722174447335, 'fit_intercept': False, 'class_weight': None}. Best is trial 80 with value: 0.8973322109988776.\n",
      "[I 2025-03-19 08:16:29,993] Trial 79 finished with value: 0.896729517396184 and parameters: {'solver_penalty': ('newton-cholesky', 'l2'), 'C': 0.6909655609101358, 'tol': 0.004539805184710748, 'fit_intercept': False, 'class_weight': None}. Best is trial 80 with value: 0.8973322109988776.\n",
      "[I 2025-03-19 08:16:32,036] Trial 78 finished with value: 0.8956217732884398 and parameters: {'solver_penalty': ('newton-cg', None), 'C': 0.8453884144682138, 'tol': 0.005988265707092539, 'fit_intercept': False, 'class_weight': None}. Best is trial 80 with value: 0.8973322109988776.\n",
      "[I 2025-03-19 08:16:35,373] Trial 82 finished with value: 0.8976206509539844 and parameters: {'solver_penalty': ('liblinear', 'l1'), 'C': 0.6061859586808706, 'tol': 0.009920655881313186, 'fit_intercept': False, 'class_weight': None}. Best is trial 82 with value: 0.8976206509539844.\n",
      "[I 2025-03-19 08:16:37,621] Trial 83 finished with value: 0.8968507295173962 and parameters: {'solver_penalty': ('liblinear', 'l1'), 'C': 0.9076488042470063, 'tol': 0.008475810251250191, 'fit_intercept': False, 'class_weight': None}. Best is trial 82 with value: 0.8976206509539844.\n",
      "[I 2025-03-19 08:16:39,001] Trial 84 finished with value: 0.8971795735129069 and parameters: {'solver_penalty': ('liblinear', 'l1'), 'C': 0.9766480344616805, 'tol': 0.00979946701827964, 'fit_intercept': False, 'class_weight': None}. Best is trial 82 with value: 0.8976206509539844.\n",
      "[I 2025-03-19 08:16:42,211] Trial 85 finished with value: 0.8970987654320988 and parameters: {'solver_penalty': ('liblinear', 'l1'), 'C': 0.6427312615561813, 'tol': 0.008478495360287441, 'fit_intercept': False, 'class_weight': None}. Best is trial 82 with value: 0.8976206509539844.\n",
      "[I 2025-03-19 08:16:43,133] Trial 81 finished with value: 0.8972525252525253 and parameters: {'solver_penalty': ('lbfgs', 'l2'), 'C': 0.06731867977051598, 'tol': 0.005675886115368014, 'fit_intercept': False, 'class_weight': None}. Best is trial 82 with value: 0.8976206509539844.\n",
      "[I 2025-03-19 08:16:44,094] Trial 86 finished with value: 0.896983164983165 and parameters: {'solver_penalty': ('liblinear', 'l1'), 'C': 0.753923505057918, 'tol': 0.008468514589887793, 'fit_intercept': False, 'class_weight': None}. Best is trial 82 with value: 0.8976206509539844.\n",
      "[I 2025-03-19 08:16:48,312] Trial 88 finished with value: 0.8973389450056116 and parameters: {'solver_penalty': ('liblinear', 'l1'), 'C': 0.7725658924746618, 'tol': 0.009710812675684076, 'fit_intercept': False, 'class_weight': None}. Best is trial 82 with value: 0.8976206509539844.\n",
      "[I 2025-03-19 08:16:50,893] Trial 87 finished with value: 0.8963838383838385 and parameters: {'solver_penalty': ('newton-cholesky', None), 'C': 0.14072393978829878, 'tol': 0.00853994705289714, 'fit_intercept': True, 'class_weight': None}. Best is trial 82 with value: 0.8976206509539844.\n",
      "[I 2025-03-19 08:16:54,679] Trial 89 finished with value: 0.8972895622895622 and parameters: {'solver_penalty': ('lbfgs', 'l2'), 'C': 0.16885022661166377, 'tol': 0.005123360939927894, 'fit_intercept': False, 'class_weight': None}. Best is trial 82 with value: 0.8976206509539844.\n",
      "[I 2025-03-19 08:16:55,162] Trial 90 finished with value: 0.8972884399551067 and parameters: {'solver_penalty': ('lbfgs', 'l2'), 'C': 0.2780904742969076, 'tol': 0.0069524100266067455, 'fit_intercept': False, 'class_weight': None}. Best is trial 82 with value: 0.8976206509539844.\n",
      "[I 2025-03-19 08:16:58,656] Trial 91 finished with value: 0.8970864197530866 and parameters: {'solver_penalty': ('lbfgs', 'l2'), 'C': 0.047751112707566774, 'tol': 0.00424036825289532, 'fit_intercept': False, 'class_weight': None}. Best is trial 82 with value: 0.8976206509539844.\n",
      "[I 2025-03-19 08:16:59,382] Trial 92 finished with value: 0.8973344556677889 and parameters: {'solver_penalty': ('lbfgs', 'l2'), 'C': 0.08135614007983255, 'tol': 0.007901188092445702, 'fit_intercept': False, 'class_weight': None}. Best is trial 82 with value: 0.8976206509539844.\n",
      "[I 2025-03-19 08:17:03,344] Trial 93 finished with value: 0.8973344556677889 and parameters: {'solver_penalty': ('lbfgs', 'l2'), 'C': 0.09987350900527198, 'tol': 0.005324498181739138, 'fit_intercept': False, 'class_weight': None}. Best is trial 82 with value: 0.8976206509539844.\n",
      "[I 2025-03-19 08:17:04,949] Trial 94 finished with value: 0.8967003367003368 and parameters: {'solver_penalty': ('lbfgs', 'l2'), 'C': 0.09848850630944866, 'tol': 0.0039980494353263766, 'fit_intercept': False, 'class_weight': None}. Best is trial 82 with value: 0.8976206509539844.\n",
      "[I 2025-03-19 08:17:07,507] Trial 95 finished with value: 0.8972446689113356 and parameters: {'solver_penalty': ('lbfgs', 'l2'), 'C': 0.2611313056134135, 'tol': 0.006275952973764359, 'fit_intercept': False, 'class_weight': None}. Best is trial 82 with value: 0.8976206509539844.\n",
      "[I 2025-03-19 08:17:09,154] Trial 96 finished with value: 0.8973411896745229 and parameters: {'solver_penalty': ('lbfgs', 'l2'), 'C': 0.055177037543915515, 'tol': 0.009054674994796954, 'fit_intercept': False, 'class_weight': None}. Best is trial 82 with value: 0.8976206509539844.\n",
      "[I 2025-03-19 08:17:12,764] Trial 97 finished with value: 0.8972278338945006 and parameters: {'solver_penalty': ('lbfgs', 'l2'), 'C': 0.06948842347847398, 'tol': 0.009543465415415389, 'fit_intercept': False, 'class_weight': None}. Best is trial 82 with value: 0.8976206509539844.\n",
      "[I 2025-03-19 08:17:15,351] Trial 98 finished with value: 0.8972895622895622 and parameters: {'solver_penalty': ('lbfgs', 'l2'), 'C': 0.08551063234790775, 'tol': 0.00866899105705456, 'fit_intercept': False, 'class_weight': None}. Best is trial 82 with value: 0.8976206509539844.\n",
      "[I 2025-03-19 08:17:17,680] Trial 101 finished with value: 0.897374859708193 and parameters: {'solver_penalty': ('liblinear', 'l1'), 'C': 0.022513355462990742, 'tol': 0.007083230010414835, 'fit_intercept': False, 'class_weight': None}. Best is trial 82 with value: 0.8976206509539844.\n",
      "[I 2025-03-19 08:17:18,150] Trial 99 finished with value: 0.8937586980920315 and parameters: {'solver_penalty': ('lbfgs', 'l2'), 'C': 0.06467422866673025, 'tol': 0.0066983258089566775, 'fit_intercept': False, 'class_weight': 'balanced'}. Best is trial 82 with value: 0.8976206509539844.\n",
      "[I 2025-03-19 08:17:23,187] Trial 100 finished with value: 0.897381593714927 and parameters: {'solver_penalty': ('lbfgs', 'l2'), 'C': 0.04574348009561107, 'tol': 0.008893744827485279, 'fit_intercept': False, 'class_weight': None}. Best is trial 82 with value: 0.8976206509539844.\n",
      "[I 2025-03-19 08:17:24,278] Trial 103 finished with value: 0.8972166105499438 and parameters: {'solver_penalty': ('liblinear', 'l1'), 'C': 0.07182884681440174, 'tol': 0.006810595353400119, 'fit_intercept': False, 'class_weight': None}. Best is trial 82 with value: 0.8976206509539844.\n",
      "[I 2025-03-19 08:17:25,187] Trial 104 finished with value: 0.8962918069584737 and parameters: {'solver_penalty': ('liblinear', 'l1'), 'C': 0.007486418565899393, 'tol': 0.00772742384972938, 'fit_intercept': False, 'class_weight': None}. Best is trial 82 with value: 0.8976206509539844.\n",
      "[I 2025-03-19 08:17:27,840] Trial 102 finished with value: 0.896969696969697 and parameters: {'solver_penalty': ('newton-cholesky', 'l2'), 'C': 0.22452113858612086, 'tol': 0.009760860527750602, 'fit_intercept': False, 'class_weight': None}. Best is trial 82 with value: 0.8976206509539844.\n",
      "[I 2025-03-19 08:17:28,522] Trial 105 finished with value: 0.8973468013468013 and parameters: {'solver_penalty': ('liblinear', 'l1'), 'C': 0.07174632885604679, 'tol': 0.007033620181779599, 'fit_intercept': False, 'class_weight': None}. Best is trial 82 with value: 0.8976206509539844.\n",
      "[I 2025-03-19 08:17:33,285] Trial 106 finished with value: 0.8962772166105499 and parameters: {'solver_penalty': ('newton-cholesky', None), 'C': 0.03990744081064949, 'tol': 0.006732059313446306, 'fit_intercept': False, 'class_weight': None}. Best is trial 82 with value: 0.8976206509539844.\n",
      "[I 2025-03-19 08:17:35,773] Trial 107 finished with value: 0.8972514029180695 and parameters: {'solver_penalty': ('lbfgs', None), 'C': 0.09731869612774777, 'tol': 0.008195058857242492, 'fit_intercept': False, 'class_weight': None}. Best is trial 82 with value: 0.8976206509539844.\n",
      "[I 2025-03-19 08:17:36,240] Trial 109 finished with value: 0.8974960718294052 and parameters: {'solver_penalty': ('lbfgs', 'l2'), 'C': 0.0038877420406375485, 'tol': 0.008422732182771989, 'fit_intercept': True, 'class_weight': None}. Best is trial 82 with value: 0.8976206509539844.\n",
      "[I 2025-03-19 08:17:37,844] Trial 108 finished with value: 0.8974006734006734 and parameters: {'solver_penalty': ('lbfgs', 'l2'), 'C': 0.06951666697883542, 'tol': 0.008923289372204189, 'fit_intercept': True, 'class_weight': None}. Best is trial 82 with value: 0.8976206509539844.\n",
      "[I 2025-03-19 08:17:44,484] Trial 111 finished with value: 0.8973243546576879 and parameters: {'solver_penalty': ('lbfgs', 'l2'), 'C': 0.1487295967256092, 'tol': 0.009381534521943674, 'fit_intercept': True, 'class_weight': None}. Best is trial 82 with value: 0.8976206509539844.\n",
      "[I 2025-03-19 08:17:44,946] Trial 112 finished with value: 0.8974231200897866 and parameters: {'solver_penalty': ('lbfgs', 'l2'), 'C': 0.060954047588802816, 'tol': 0.007081819965279249, 'fit_intercept': True, 'class_weight': None}. Best is trial 82 with value: 0.8976206509539844.\n",
      "[I 2025-03-19 08:17:45,186] Trial 110 finished with value: 0.8971459034792368 and parameters: {'solver_penalty': ('newton-cg', None), 'C': 0.06208252297762985, 'tol': 0.009108895559642567, 'fit_intercept': False, 'class_weight': None}. Best is trial 82 with value: 0.8976206509539844.\n",
      "[I 2025-03-19 08:17:47,441] Trial 113 finished with value: 0.8972581369248036 and parameters: {'solver_penalty': ('lbfgs', 'l2'), 'C': 0.21709527771995352, 'tol': 0.009700626351870759, 'fit_intercept': True, 'class_weight': None}. Best is trial 82 with value: 0.8976206509539844.\n",
      "[I 2025-03-19 08:17:49,479] Trial 116 finished with value: 0.8946498316498317 and parameters: {'solver_penalty': ('liblinear', 'l1'), 'C': 0.021089305607483157, 'tol': 0.008236694283974822, 'fit_intercept': True, 'class_weight': None}. Best is trial 82 with value: 0.8976206509539844.\n",
      "[I 2025-03-19 08:17:54,977] Trial 114 finished with value: 0.8972143658810324 and parameters: {'solver_penalty': ('lbfgs', 'l2'), 'C': 0.04425774275119572, 'tol': 0.009793282864008282, 'fit_intercept': True, 'class_weight': None}. Best is trial 82 with value: 0.8976206509539844.\n",
      "[I 2025-03-19 08:17:54,982] Trial 115 finished with value: 0.8972457912457912 and parameters: {'solver_penalty': ('lbfgs', 'l2'), 'C': 0.031972568167087476, 'tol': 0.005754062695439747, 'fit_intercept': True, 'class_weight': None}. Best is trial 82 with value: 0.8976206509539844.\n",
      "[I 2025-03-19 08:17:58,110] Trial 117 finished with value: 0.8973288439955107 and parameters: {'solver_penalty': ('lbfgs', 'l2'), 'C': 0.052533457121487784, 'tol': 0.00629824796640773, 'fit_intercept': True, 'class_weight': None}. Best is trial 82 with value: 0.8976206509539844.\n",
      "[I 2025-03-19 08:17:59,249] Trial 119 finished with value: 0.8974343434343435 and parameters: {'solver_penalty': ('liblinear', 'l2'), 'C': 0.030578193957406227, 'tol': 0.007288621517039829, 'fit_intercept': False, 'class_weight': None}. Best is trial 82 with value: 0.8976206509539844.\n",
      "[I 2025-03-19 08:18:04,105] Trial 121 finished with value: 0.8972323232323233 and parameters: {'solver_penalty': ('liblinear', 'l2'), 'C': 0.07486227070377283, 'tol': 0.0068989086168207096, 'fit_intercept': False, 'class_weight': None}. Best is trial 82 with value: 0.8976206509539844.\n",
      "[I 2025-03-19 08:18:05,458] Trial 120 finished with value: 0.8973254769921436 and parameters: {'solver_penalty': ('newton-cholesky', 'l2'), 'C': 0.05120311119579378, 'tol': 0.004712188900993101, 'fit_intercept': False, 'class_weight': None}. Best is trial 82 with value: 0.8976206509539844.\n",
      "[I 2025-03-19 08:18:05,688] Trial 122 finished with value: 0.8975521885521885 and parameters: {'solver_penalty': ('liblinear', 'l2'), 'C': 0.00600032126497942, 'tol': 0.007318541641370931, 'fit_intercept': False, 'class_weight': None}. Best is trial 82 with value: 0.8976206509539844.\n",
      "[I 2025-03-19 08:18:05,942] Trial 118 finished with value: 0.8971234567901235 and parameters: {'solver_penalty': ('newton-cg', 'l2'), 'C': 0.09756985442218542, 'tol': 0.007196293270045902, 'fit_intercept': True, 'class_weight': None}. Best is trial 82 with value: 0.8976206509539844.\n",
      "[I 2025-03-19 08:18:11,989] Trial 126 finished with value: 0.8973928170594837 and parameters: {'solver_penalty': ('liblinear', 'l1'), 'C': 0.3559143866369931, 'tol': 0.009041488743546034, 'fit_intercept': False, 'class_weight': None}. Best is trial 82 with value: 0.8976206509539844.\n",
      "[I 2025-03-19 08:18:12,001] Trial 125 finished with value: 0.8973097643097643 and parameters: {'solver_penalty': ('liblinear', 'l2'), 'C': 0.060726035470602915, 'tol': 0.009976995323894048, 'fit_intercept': False, 'class_weight': None}. Best is trial 82 with value: 0.8976206509539844.\n",
      "[I 2025-03-19 08:18:16,063] Trial 127 finished with value: 0.8967126823793491 and parameters: {'solver_penalty': ('liblinear', 'l2'), 'C': 0.3153571307210697, 'tol': 0.00919849379128835, 'fit_intercept': False, 'class_weight': None}. Best is trial 82 with value: 0.8976206509539844.\n",
      "[I 2025-03-19 08:18:18,582] Trial 124 finished with value: 0.8976296296296297 and parameters: {'solver_penalty': ('newton-cg', 'l2'), 'C': 0.006662463905390704, 'tol': 0.005876952627655889, 'fit_intercept': False, 'class_weight': None}. Best is trial 124 with value: 0.8976296296296297.\n",
      "[I 2025-03-19 08:18:18,584] Trial 123 finished with value: 0.8974612794612793 and parameters: {'solver_penalty': ('newton-cg', 'l2'), 'C': 0.02062357614912879, 'tol': 0.007164515541430181, 'fit_intercept': False, 'class_weight': None}. Best is trial 124 with value: 0.8976296296296297.\n",
      "[I 2025-03-19 08:18:23,924] Trial 128 finished with value: 0.8958484848484849 and parameters: {'solver_penalty': ('newton-cg', None), 'C': 0.09844908623475775, 'tol': 0.006858762056902006, 'fit_intercept': True, 'class_weight': None}. Best is trial 124 with value: 0.8976296296296297.\n",
      "[I 2025-03-19 08:18:24,866] Trial 129 finished with value: 0.8970920314253648 and parameters: {'solver_penalty': ('newton-cg', 'l2'), 'C': 0.11455091361166585, 'tol': 0.00733154207026212, 'fit_intercept': False, 'class_weight': None}. Best is trial 124 with value: 0.8976296296296297.\n",
      "[I 2025-03-19 08:18:27,168] Trial 131 finished with value: 0.8972985409652076 and parameters: {'solver_penalty': ('newton-cg', 'l2'), 'C': 0.12229685928812029, 'tol': 0.008781281818689141, 'fit_intercept': False, 'class_weight': None}. Best is trial 124 with value: 0.8976296296296297.\n",
      "[I 2025-03-19 08:18:29,591] Trial 130 finished with value: 0.8972233445566777 and parameters: {'solver_penalty': ('newton-cg', 'l2'), 'C': 0.03683997447546912, 'tol': 0.004974765690124197, 'fit_intercept': False, 'class_weight': None}. Best is trial 124 with value: 0.8976296296296297.\n",
      "[I 2025-03-19 08:18:32,499] Trial 134 finished with value: 0.8972974186307519 and parameters: {'solver_penalty': ('liblinear', 'l1'), 'C': 0.39301512139345096, 'tol': 0.009537714222425985, 'fit_intercept': False, 'class_weight': None}. Best is trial 124 with value: 0.8976296296296297.\n",
      "[I 2025-03-19 08:18:35,599] Trial 135 finished with value: 0.897240179573513 and parameters: {'solver_penalty': ('liblinear', 'l1'), 'C': 0.3618814473551074, 'tol': 0.007736248078446256, 'fit_intercept': False, 'class_weight': None}. Best is trial 124 with value: 0.8976296296296297.\n",
      "[I 2025-03-19 08:18:35,608] Trial 133 finished with value: 0.8970830527497193 and parameters: {'solver_penalty': ('lbfgs', 'l2'), 'C': 0.0035424948133135348, 'tol': 0.009505627654000919, 'fit_intercept': True, 'class_weight': 'balanced'}. Best is trial 124 with value: 0.8976296296296297.\n",
      "[I 2025-03-19 08:18:39,813] Trial 136 finished with value: 0.8933939393939394 and parameters: {'solver_penalty': ('liblinear', 'l1'), 'C': 0.41973319880824805, 'tol': 0.007394102557327222, 'fit_intercept': False, 'class_weight': 'balanced'}. Best is trial 124 with value: 0.8976296296296297.\n",
      "[I 2025-03-19 08:18:42,066] Trial 132 finished with value: 0.8970426487093154 and parameters: {'solver_penalty': ('newton-cg', 'l2'), 'C': 0.17116893944096703, 'tol': 0.007225517507284187, 'fit_intercept': False, 'class_weight': None}. Best is trial 124 with value: 0.8976296296296297.\n",
      "[I 2025-03-19 08:18:42,303] Trial 137 finished with value: 0.8973400673400673 and parameters: {'solver_penalty': ('liblinear', 'l2'), 'C': 0.05709149545005421, 'tol': 0.006886375869790956, 'fit_intercept': False, 'class_weight': None}. Best is trial 124 with value: 0.8976296296296297.\n",
      "[I 2025-03-19 08:18:42,305] Trial 138 finished with value: 0.896087542087542 and parameters: {'solver_penalty': ('liblinear', 'l1'), 'C': 0.2603760184261934, 'tol': 0.008395795805613157, 'fit_intercept': False, 'class_weight': 'balanced'}. Best is trial 124 with value: 0.8976296296296297.\n",
      "[I 2025-03-19 08:18:47,457] Trial 140 finished with value: 0.8974242424242425 and parameters: {'solver_penalty': ('liblinear', 'l2'), 'C': 0.010042780111342714, 'tol': 0.008993002440794623, 'fit_intercept': True, 'class_weight': None}. Best is trial 124 with value: 0.8976296296296297.\n",
      "[I 2025-03-19 08:18:48,387] Trial 142 finished with value: 0.8973726150392818 and parameters: {'solver_penalty': ('liblinear', 'l2'), 'C': 0.03933165834033549, 'tol': 0.005616775521504972, 'fit_intercept': False, 'class_weight': None}. Best is trial 124 with value: 0.8976296296296297.\n",
      "[I 2025-03-19 08:18:52,858] Trial 139 finished with value: 0.8974758698092034 and parameters: {'solver_penalty': ('newton-cholesky', 'l2'), 'C': 0.007537958880058898, 'tol': 0.00746895965631817, 'fit_intercept': True, 'class_weight': None}. Best is trial 124 with value: 0.8976296296296297.\n",
      "[I 2025-03-19 08:18:54,063] Trial 143 finished with value: 0.8974276094276094 and parameters: {'solver_penalty': ('liblinear', 'l2'), 'C': 0.032872020997997825, 'tol': 0.009608912035499087, 'fit_intercept': True, 'class_weight': None}. Best is trial 124 with value: 0.8976296296296297.\n",
      "[I 2025-03-19 08:18:54,544] Trial 144 finished with value: 0.8973456790123456 and parameters: {'solver_penalty': ('liblinear', 'l2'), 'C': 0.02849548211498835, 'tol': 0.0052248146420008305, 'fit_intercept': True, 'class_weight': None}. Best is trial 124 with value: 0.8976296296296297.\n",
      "[I 2025-03-19 08:18:59,707] Trial 145 finished with value: 0.8973265993265992 and parameters: {'solver_penalty': ('liblinear', 'l2'), 'C': 0.04360386633019031, 'tol': 0.008463941151447005, 'fit_intercept': True, 'class_weight': None}. Best is trial 124 with value: 0.8976296296296297.\n",
      "[I 2025-03-19 08:18:59,959] Trial 146 finished with value: 0.897347923681257 and parameters: {'solver_penalty': ('liblinear', 'l2'), 'C': 0.028581514997190957, 'tol': 0.008797914393607505, 'fit_intercept': True, 'class_weight': None}. Best is trial 124 with value: 0.8976296296296297.\n",
      "[I 2025-03-19 08:19:04,756] Trial 147 finished with value: 0.8969539842873175 and parameters: {'solver_penalty': ('newton-cholesky', 'l2'), 'C': 0.18219643326902332, 'tol': 0.007940945607207579, 'fit_intercept': True, 'class_weight': None}. Best is trial 124 with value: 0.8976296296296297.\n",
      "[I 2025-03-19 08:19:06,182] Trial 141 finished with value: 0.895418630751964 and parameters: {'solver_penalty': ('newton-cg', 'l2'), 'C': 0.0342688997920447, 'tol': 0.007866385198867861, 'fit_intercept': False, 'class_weight': 'balanced'}. Best is trial 124 with value: 0.8976296296296297.\n",
      "[I 2025-03-19 08:19:07,113] Trial 148 finished with value: 0.8971975308641975 and parameters: {'solver_penalty': ('newton-cholesky', 'l2'), 'C': 0.0671467128202482, 'tol': 0.008134798055194212, 'fit_intercept': True, 'class_weight': None}. Best is trial 124 with value: 0.8976296296296297.\n",
      "[I 2025-03-19 08:19:07,558] Trial 149 finished with value: 0.8971301907968574 and parameters: {'solver_penalty': ('newton-cholesky', 'l2'), 'C': 0.0981962510907965, 'tol': 0.00784566602170036, 'fit_intercept': True, 'class_weight': None}. Best is trial 124 with value: 0.8976296296296297.\n",
      "[I 2025-03-19 08:19:12,110] Trial 153 finished with value: 0.8917508417508417 and parameters: {'solver_penalty': ('liblinear', 'l2'), 'C': 0.14857851509576603, 'tol': 0.004032278807535786, 'fit_intercept': False, 'class_weight': 'balanced'}. Best is trial 124 with value: 0.8976296296296297.\n",
      "[I 2025-03-19 08:19:15,694] Trial 151 finished with value: 0.8971537598204266 and parameters: {'solver_penalty': ('lbfgs', None), 'C': 0.2959242375753541, 'tol': 0.008159775461778112, 'fit_intercept': True, 'class_weight': None}. Best is trial 124 with value: 0.8976296296296297.\n",
      "[I 2025-03-19 08:19:16,365] Trial 154 finished with value: 0.8975443322109988 and parameters: {'solver_penalty': ('liblinear', 'l2'), 'C': 0.004675717908038269, 'tol': 0.009533775002975017, 'fit_intercept': True, 'class_weight': None}. Best is trial 124 with value: 0.8976296296296297.\n",
      "[I 2025-03-19 08:19:21,375] Trial 155 finished with value: 0.8968754208754209 and parameters: {'solver_penalty': ('liblinear', 'l2'), 'C': 0.16015408640893075, 'tol': 0.00966454145008609, 'fit_intercept': True, 'class_weight': None}. Best is trial 124 with value: 0.8976296296296297.\n",
      "[I 2025-03-19 08:19:22,281] Trial 156 finished with value: 0.8968451178451179 and parameters: {'solver_penalty': ('liblinear', 'l2'), 'C': 0.18115862664741042, 'tol': 0.009711035157801036, 'fit_intercept': True, 'class_weight': None}. Best is trial 124 with value: 0.8976296296296297.\n",
      "[I 2025-03-19 08:19:24,492] Trial 150 finished with value: 0.8934163860830526 and parameters: {'solver_penalty': ('newton-cg', 'l2'), 'C': 0.07958873162797733, 'tol': 0.005468086873405083, 'fit_intercept': False, 'class_weight': 'balanced'}. Best is trial 124 with value: 0.8976296296296297.\n",
      "[I 2025-03-19 08:19:25,199] Trial 152 finished with value: 0.8954276094276095 and parameters: {'solver_penalty': ('newton-cg', None), 'C': 0.015375608463234432, 'tol': 0.005373953761242372, 'fit_intercept': False, 'class_weight': None}. Best is trial 124 with value: 0.8976296296296297.\n",
      "[I 2025-03-19 08:19:27,617] Trial 157 finished with value: 0.8914029180695847 and parameters: {'solver_penalty': ('liblinear', 'l2'), 'C': 0.16666540399969842, 'tol': 0.007674686765495572, 'fit_intercept': False, 'class_weight': 'balanced'}. Best is trial 124 with value: 0.8976296296296297.\n",
      "[I 2025-03-19 08:19:28,313] Trial 158 finished with value: 0.8969023569023569 and parameters: {'solver_penalty': ('liblinear', 'l2'), 'C': 0.37056756323986617, 'tol': 0.005286620935887573, 'fit_intercept': False, 'class_weight': None}. Best is trial 124 with value: 0.8976296296296297.\n",
      "[I 2025-03-19 08:19:32,098] Trial 160 finished with value: 0.8928496071829405 and parameters: {'solver_penalty': ('liblinear', 'l2'), 'C': 0.1182454941352661, 'tol': 0.008543349937045653, 'fit_intercept': False, 'class_weight': 'balanced'}. Best is trial 124 with value: 0.8976296296296297.\n",
      "[I 2025-03-19 08:19:34,346] Trial 162 finished with value: 0.8971975308641976 and parameters: {'solver_penalty': ('liblinear', 'l2'), 'C': 0.006684174205700346, 'tol': 0.007066347930947555, 'fit_intercept': True, 'class_weight': 'balanced'}. Best is trial 124 with value: 0.8976296296296297.\n",
      "[I 2025-03-19 08:19:35,926] Trial 159 finished with value: 0.897415263748597 and parameters: {'solver_penalty': ('lbfgs', 'l2'), 'C': 0.005495291215999426, 'tol': 0.007691263612547226, 'fit_intercept': True, 'class_weight': None}. Best is trial 124 with value: 0.8976296296296297.\n",
      "[I 2025-03-19 08:19:40,545] Trial 161 finished with value: 0.8971537598204266 and parameters: {'solver_penalty': ('lbfgs', None), 'C': 0.02737121893212375, 'tol': 0.009649265472049025, 'fit_intercept': True, 'class_weight': None}. Best is trial 124 with value: 0.8976296296296297.\n",
      "[I 2025-03-19 08:19:41,236] Trial 165 finished with value: 0.8973658810325477 and parameters: {'solver_penalty': ('liblinear', 'l2'), 'C': 0.043169247678153055, 'tol': 0.0029122405796983696, 'fit_intercept': False, 'class_weight': None}. Best is trial 124 with value: 0.8976296296296297.\n",
      "[I 2025-03-19 08:19:43,935] Trial 163 finished with value: 0.8973400673400673 and parameters: {'solver_penalty': ('lbfgs', 'l2'), 'C': 0.14786485933759996, 'tol': 0.00766391816091996, 'fit_intercept': True, 'class_weight': None}. Best is trial 124 with value: 0.8976296296296297.\n",
      "[I 2025-03-19 08:19:43,944] Trial 164 finished with value: 0.896895622895623 and parameters: {'solver_penalty': ('newton-cholesky', 'l2'), 'C': 0.08211448158577815, 'tol': 0.006689472784724292, 'fit_intercept': True, 'class_weight': 'balanced'}. Best is trial 124 with value: 0.8976296296296297.\n",
      "[I 2025-03-19 08:19:49,510] Trial 168 finished with value: 0.8973849607182942 and parameters: {'solver_penalty': ('liblinear', 'l2'), 'C': 0.04943724963475889, 'tol': 0.007986256409539486, 'fit_intercept': False, 'class_weight': None}. Best is trial 124 with value: 0.8976296296296297.\n",
      "[I 2025-03-19 08:19:50,247] Trial 167 finished with value: 0.8973860830527496 and parameters: {'solver_penalty': ('newton-cholesky', 'l2'), 'C': 0.017676938939631244, 'tol': 0.005069749062004497, 'fit_intercept': True, 'class_weight': None}. Best is trial 124 with value: 0.8976296296296297.\n",
      "[I 2025-03-19 08:19:51,350] Trial 166 finished with value: 0.8973916947250281 and parameters: {'solver_penalty': ('lbfgs', 'l2'), 'C': 0.2614411745333025, 'tol': 0.00701392683576961, 'fit_intercept': True, 'class_weight': None}. Best is trial 124 with value: 0.8976296296296297.\n",
      "[I 2025-03-19 08:19:55,040] Trial 169 finished with value: 0.8974781144781145 and parameters: {'solver_penalty': ('lbfgs', 'l2'), 'C': 0.06268280977834467, 'tol': 0.0076564926706889835, 'fit_intercept': True, 'class_weight': None}. Best is trial 124 with value: 0.8976296296296297.\n",
      "[I 2025-03-19 08:19:58,737] Trial 170 finished with value: 0.896956228956229 and parameters: {'solver_penalty': ('lbfgs', 'l2'), 'C': 0.26759452869373257, 'tol': 0.006799294297978496, 'fit_intercept': True, 'class_weight': 'balanced'}. Best is trial 124 with value: 0.8976296296296297.\n",
      "[I 2025-03-19 08:19:59,443] Trial 171 finished with value: 0.8969393939393939 and parameters: {'solver_penalty': ('lbfgs', 'l2'), 'C': 0.30387777127895416, 'tol': 0.007394005936432996, 'fit_intercept': True, 'class_weight': 'balanced'}. Best is trial 124 with value: 0.8976296296296297.\n",
      "[I 2025-03-19 08:20:00,176] Trial 172 finished with value: 0.89731088664422 and parameters: {'solver_penalty': ('newton-cholesky', 'l2'), 'C': 0.04304832141648016, 'tol': 0.004956191528217387, 'fit_intercept': True, 'class_weight': None}. Best is trial 124 with value: 0.8976296296296297.\n",
      "[I 2025-03-19 08:20:04,666] Trial 173 finished with value: 0.8970056116722782 and parameters: {'solver_penalty': ('newton-cholesky', 'l2'), 'C': 0.1692211477866571, 'tol': 0.005032407070458461, 'fit_intercept': True, 'class_weight': None}. Best is trial 124 with value: 0.8976296296296297.\n",
      "[I 2025-03-19 08:20:05,597] Trial 176 finished with value: 0.8957351290684624 and parameters: {'solver_penalty': ('liblinear', 'l1'), 'C': 0.36622350067578535, 'tol': 0.009937613003836955, 'fit_intercept': True, 'class_weight': None}. Best is trial 124 with value: 0.8976296296296297.\n",
      "[I 2025-03-19 08:20:08,353] Trial 174 finished with value: 0.8969371492704826 and parameters: {'solver_penalty': ('newton-cholesky', 'l2'), 'C': 0.2288886267404154, 'tol': 0.004595576558465347, 'fit_intercept': True, 'class_weight': None}. Best is trial 124 with value: 0.8976296296296297.\n",
      "[I 2025-03-19 08:20:09,744] Trial 175 finished with value: 0.8971335578002244 and parameters: {'solver_penalty': ('newton-cholesky', 'l2'), 'C': 0.09477738448211448, 'tol': 0.004522513454488936, 'fit_intercept': True, 'class_weight': None}. Best is trial 124 with value: 0.8976296296296297.\n",
      "[I 2025-03-19 08:20:14,178] Trial 177 finished with value: 0.8972087542087542 and parameters: {'solver_penalty': ('lbfgs', 'l2'), 'C': 0.01638056908636561, 'tol': 0.007215569815729433, 'fit_intercept': True, 'class_weight': None}. Best is trial 124 with value: 0.8976296296296297.\n",
      "[I 2025-03-19 08:20:15,365] Trial 178 finished with value: 0.8972143658810325 and parameters: {'solver_penalty': ('lbfgs', None), 'C': 0.10468298026425893, 'tol': 0.006045165467492618, 'fit_intercept': True, 'class_weight': None}. Best is trial 124 with value: 0.8976296296296297.\n",
      "[I 2025-03-19 08:20:17,679] Trial 179 finished with value: 0.8972368125701461 and parameters: {'solver_penalty': ('lbfgs', 'l2'), 'C': 0.41050355089695245, 'tol': 0.006550008225316854, 'fit_intercept': True, 'class_weight': None}. Best is trial 124 with value: 0.8976296296296297.\n",
      "[I 2025-03-19 08:20:19,069] Trial 180 finished with value: 0.8971750841750843 and parameters: {'solver_penalty': ('lbfgs', 'l2'), 'C': 0.4393909756330162, 'tol': 0.00612337834517717, 'fit_intercept': True, 'class_weight': None}. Best is trial 124 with value: 0.8976296296296297.\n",
      "[I 2025-03-19 08:20:22,602] Trial 181 finished with value: 0.8972817059483725 and parameters: {'solver_penalty': ('lbfgs', 'l2'), 'C': 0.28929854666295085, 'tol': 0.006800721048615046, 'fit_intercept': True, 'class_weight': None}. Best is trial 124 with value: 0.8976296296296297.\n",
      "[I 2025-03-19 08:20:25,362] Trial 183 finished with value: 0.897351290684624 and parameters: {'solver_penalty': ('lbfgs', 'l2'), 'C': 0.1271654327555277, 'tol': 0.007103759958588768, 'fit_intercept': True, 'class_weight': None}. Best is trial 124 with value: 0.8976296296296297.\n",
      "[I 2025-03-19 08:20:27,210] Trial 182 finished with value: 0.8972536475869808 and parameters: {'solver_penalty': ('newton-cg', None), 'C': 0.02327885494401765, 'tol': 0.009083832275850807, 'fit_intercept': True, 'class_weight': None}. Best is trial 124 with value: 0.8976296296296297.\n",
      "[I 2025-03-19 08:20:30,006] Trial 184 finished with value: 0.8972536475869808 and parameters: {'solver_penalty': ('newton-cg', None), 'C': 0.09510059093781742, 'tol': 0.009621578426247572, 'fit_intercept': True, 'class_weight': None}. Best is trial 124 with value: 0.8976296296296297.\n",
      "[I 2025-03-19 08:20:31,833] Trial 185 finished with value: 0.8976913580246914 and parameters: {'solver_penalty': ('newton-cg', 'l2'), 'C': 0.005212604103147605, 'tol': 0.00690552683990291, 'fit_intercept': False, 'class_weight': None}. Best is trial 185 with value: 0.8976913580246914.\n",
      "[I 2025-03-19 08:20:35,729] Trial 187 finished with value: 0.8972794612794613 and parameters: {'solver_penalty': ('lbfgs', 'l2'), 'C': 0.02336512121421988, 'tol': 0.009052321527419294, 'fit_intercept': True, 'class_weight': None}. Best is trial 185 with value: 0.8976913580246914.\n",
      "[I 2025-03-19 08:20:36,742] Trial 186 finished with value: 0.8971459034792368 and parameters: {'solver_penalty': ('newton-cg', None), 'C': 0.5644240934059471, 'tol': 0.009873380722055406, 'fit_intercept': False, 'class_weight': None}. Best is trial 185 with value: 0.8976913580246914.\n",
      "[I 2025-03-19 08:20:38,267] Trial 188 finished with value: 0.8974141414141414 and parameters: {'solver_penalty': ('newton-cholesky', 'l2'), 'C': 0.019858492703371866, 'tol': 0.008242399048642032, 'fit_intercept': False, 'class_weight': None}. Best is trial 185 with value: 0.8976913580246914.\n",
      "[I 2025-03-19 08:20:40,025] Trial 189 finished with value: 0.8974960718294052 and parameters: {'solver_penalty': ('lbfgs', 'l2'), 'C': 0.000947593185386203, 'tol': 0.007720421798109332, 'fit_intercept': True, 'class_weight': None}. Best is trial 185 with value: 0.8976913580246914.\n",
      "[I 2025-03-19 08:20:41,189] Trial 190 finished with value: 0.8974276094276095 and parameters: {'solver_penalty': ('liblinear', 'l2'), 'C': 0.03332138227422343, 'tol': 0.007801451827148433, 'fit_intercept': False, 'class_weight': None}. Best is trial 185 with value: 0.8976913580246914.\n",
      "[I 2025-03-19 08:20:42,553] Trial 191 finished with value: 0.8970774410774411 and parameters: {'solver_penalty': ('liblinear', 'l1'), 'C': 0.05347122947655501, 'tol': 0.0039245583293538245, 'fit_intercept': True, 'class_weight': None}. Best is trial 185 with value: 0.8976913580246914.\n",
      "[I 2025-03-19 08:20:48,131] Trial 193 finished with value: 0.8963838383838385 and parameters: {'solver_penalty': ('newton-cholesky', None), 'C': 0.00014021794481580696, 'tol': 0.007206096901382308, 'fit_intercept': True, 'class_weight': None}. Best is trial 185 with value: 0.8976913580246914.\n",
      "[I 2025-03-19 08:20:49,998] Trial 195 finished with value: 0.8970864197530863 and parameters: {'solver_penalty': ('newton-cholesky', 'l2'), 'C': 0.12083084759062504, 'tol': 0.0072666288452791165, 'fit_intercept': False, 'class_weight': None}. Best is trial 185 with value: 0.8976913580246914.\n",
      "[I 2025-03-19 08:20:52,622] Trial 192 finished with value: 0.8972951739618407 and parameters: {'solver_penalty': ('newton-cg', 'l2'), 'C': 0.03702843714864236, 'tol': 0.006805476868169772, 'fit_intercept': False, 'class_weight': None}. Best is trial 185 with value: 0.8976913580246914.\n",
      "[I 2025-03-19 08:20:52,649] Trial 194 finished with value: 0.897803591470258 and parameters: {'solver_penalty': ('newton-cg', 'l2'), 'C': 0.0006192949126248059, 'tol': 0.006338975657181104, 'fit_intercept': False, 'class_weight': None}. Best is trial 194 with value: 0.897803591470258.\n",
      "[I 2025-03-19 08:20:54,993] Trial 196 finished with value: 0.8970897867564535 and parameters: {'solver_penalty': ('newton-cholesky', 'l2'), 'C': 0.11822046733830044, 'tol': 0.007661888428742561, 'fit_intercept': False, 'class_weight': None}. Best is trial 194 with value: 0.897803591470258.\n",
      "[I 2025-03-19 08:21:00,571] Trial 200 finished with value: 0.8973164983164983 and parameters: {'solver_penalty': ('liblinear', 'l1'), 'C': 0.49205820359206265, 'tol': 0.009233044866442918, 'fit_intercept': False, 'class_weight': None}. Best is trial 194 with value: 0.897803591470258.\n",
      "[I 2025-03-19 08:21:00,823] Trial 198 finished with value: 0.8977474747474746 and parameters: {'solver_penalty': ('lbfgs', 'l2'), 'C': 0.0007041385842220249, 'tol': 0.00824290815771269, 'fit_intercept': True, 'class_weight': None}. Best is trial 194 with value: 0.897803591470258.\n",
      "[I 2025-03-19 08:21:03,627] Trial 197 finished with value: 0.8974163860830529 and parameters: {'solver_penalty': ('newton-cg', 'l2'), 'C': 0.0472929325390687, 'tol': 0.006228718423365789, 'fit_intercept': False, 'class_weight': None}. Best is trial 194 with value: 0.897803591470258.\n",
      "[I 2025-03-19 08:21:03,636] Trial 199 finished with value: 0.8977609427609428 and parameters: {'solver_penalty': ('newton-cg', 'l2'), 'C': 0.0013771904464419558, 'tol': 0.007487207245432405, 'fit_intercept': False, 'class_weight': None}. Best is trial 194 with value: 0.897803591470258.\n",
      "[I 2025-03-19 08:21:09,765] Trial 201 finished with value: 0.897331088664422 and parameters: {'solver_penalty': ('newton-cg', 'l2'), 'C': 0.172880066130811, 'tol': 0.009455123173466766, 'fit_intercept': True, 'class_weight': None}. Best is trial 194 with value: 0.897803591470258.\n",
      "[I 2025-03-19 08:21:11,162] Trial 202 finished with value: 0.8965207631874298 and parameters: {'solver_penalty': ('newton-cg', 'l2'), 'C': 0.3478188089401359, 'tol': 0.00527656040600663, 'fit_intercept': False, 'class_weight': None}. Best is trial 194 with value: 0.897803591470258.\n",
      "[I 2025-03-19 08:21:11,621] Trial 204 finished with value: 0.8976711560044894 and parameters: {'solver_penalty': ('newton-cg', 'l2'), 'C': 0.005989949983457971, 'tol': 0.006014489028066223, 'fit_intercept': False, 'class_weight': None}. Best is trial 194 with value: 0.897803591470258.\n",
      "[I 2025-03-19 08:21:12,731] Trial 203 finished with value: 0.8974657687991022 and parameters: {'solver_penalty': ('newton-cg', 'l2'), 'C': 0.01785865120424991, 'tol': 0.005441322165295574, 'fit_intercept': False, 'class_weight': None}. Best is trial 194 with value: 0.897803591470258.\n",
      "[I 2025-03-19 08:21:18,597] Trial 205 finished with value: 0.8972547699214366 and parameters: {'solver_penalty': ('newton-cg', 'l2'), 'C': 0.06181109233140718, 'tol': 0.005973471641881235, 'fit_intercept': False, 'class_weight': None}. Best is trial 194 with value: 0.897803591470258.\n",
      "[I 2025-03-19 08:21:19,519] Trial 206 finished with value: 0.8974029180695846 and parameters: {'solver_penalty': ('newton-cg', 'l2'), 'C': 0.01896831357528011, 'tol': 0.007641235852812818, 'fit_intercept': False, 'class_weight': None}. Best is trial 194 with value: 0.897803591470258.\n",
      "[I 2025-03-19 08:21:20,905] Trial 207 finished with value: 0.8974399551066219 and parameters: {'solver_penalty': ('newton-cg', 'l2'), 'C': 0.04549968259691232, 'tol': 0.00635897088346024, 'fit_intercept': False, 'class_weight': None}. Best is trial 194 with value: 0.897803591470258.\n",
      "[I 2025-03-19 08:21:22,467] Trial 208 finished with value: 0.8972525252525253 and parameters: {'solver_penalty': ('newton-cg', 'l2'), 'C': 0.04479702726598695, 'tol': 0.004871950716140265, 'fit_intercept': False, 'class_weight': None}. Best is trial 194 with value: 0.897803591470258.\n",
      "[I 2025-03-19 08:21:28,080] Trial 209 finished with value: 0.8973670033670034 and parameters: {'solver_penalty': ('newton-cg', 'l2'), 'C': 0.04021111018486021, 'tol': 0.0061250608478215585, 'fit_intercept': False, 'class_weight': None}. Best is trial 194 with value: 0.897803591470258.\n",
      "[I 2025-03-19 08:21:30,304] Trial 212 finished with value: 0.8961952861952862 and parameters: {'solver_penalty': ('lbfgs', None), 'C': 0.08823691892041122, 'tol': 0.004854037090354099, 'fit_intercept': False, 'class_weight': None}. Best is trial 194 with value: 0.897803591470258.\n",
      "[I 2025-03-19 08:21:31,394] Trial 211 finished with value: 0.8976846240179575 and parameters: {'solver_penalty': ('newton-cg', 'l2'), 'C': 0.0040376731944485825, 'tol': 0.004857644183554237, 'fit_intercept': False, 'class_weight': None}. Best is trial 194 with value: 0.897803591470258.\n",
      "[I 2025-03-19 08:21:31,397] Trial 210 finished with value: 0.8967789001122333 and parameters: {'solver_penalty': ('newton-cg', 'l2'), 'C': 0.08974514076946483, 'tol': 0.004638591937431937, 'fit_intercept': False, 'class_weight': None}. Best is trial 194 with value: 0.897803591470258.\n",
      "[I 2025-03-19 08:21:32,794] Trial 213 finished with value: 0.8972805836139168 and parameters: {'solver_penalty': ('liblinear', 'l2'), 'C': 0.04652209207395845, 'tol': 0.00957191714136905, 'fit_intercept': True, 'class_weight': None}. Best is trial 194 with value: 0.897803591470258.\n",
      "[I 2025-03-19 08:21:35,543] Trial 214 finished with value: 0.89741189674523 and parameters: {'solver_penalty': ('liblinear', 'l2'), 'C': 0.010762984932041707, 'tol': 0.007109997654677339, 'fit_intercept': False, 'class_weight': None}. Best is trial 194 with value: 0.897803591470258.\n",
      "[I 2025-03-19 08:21:39,188] Trial 215 finished with value: 0.8967721661054993 and parameters: {'solver_penalty': ('newton-cholesky', 'l2'), 'C': 0.5812436159221451, 'tol': 0.0004127014250889273, 'fit_intercept': True, 'class_weight': None}. Best is trial 194 with value: 0.897803591470258.\n",
      "[I 2025-03-19 08:21:43,920] Trial 219 finished with value: 0.8968484848484849 and parameters: {'solver_penalty': ('liblinear', 'l1'), 'C': 0.026324603258730823, 'tol': 0.003389401342232616, 'fit_intercept': False, 'class_weight': None}. Best is trial 194 with value: 0.897803591470258.\n",
      "[I 2025-03-19 08:21:44,412] Trial 217 finished with value: 0.8973512906846239 and parameters: {'solver_penalty': ('newton-cg', 'l2'), 'C': 0.03215032420703351, 'tol': 0.007711079240446259, 'fit_intercept': False, 'class_weight': None}. Best is trial 194 with value: 0.897803591470258.\n",
      "[I 2025-03-19 08:21:46,654] Trial 216 finished with value: 0.8970482603815937 and parameters: {'solver_penalty': ('newton-cg', 'l2'), 'C': 0.17837266059507695, 'tol': 0.0017458479620815052, 'fit_intercept': False, 'class_weight': None}. Best is trial 194 with value: 0.897803591470258.\n",
      "[I 2025-03-19 08:21:48,707] Trial 221 finished with value: 0.8974085297418631 and parameters: {'solver_penalty': ('liblinear', 'l2'), 'C': 0.0094304423036469, 'tol': 0.009629551496632366, 'fit_intercept': True, 'class_weight': None}. Best is trial 194 with value: 0.897803591470258.\n",
      "[I 2025-03-19 08:21:49,186] Trial 218 finished with value: 0.8966487093153761 and parameters: {'solver_penalty': ('newton-cg', 'l2'), 'C': 0.16523540153726035, 'tol': 0.0026527640771551093, 'fit_intercept': False, 'class_weight': None}. Best is trial 194 with value: 0.897803591470258.\n",
      "[I 2025-03-19 08:21:55,168] Trial 220 finished with value: 0.8975072951739618 and parameters: {'solver_penalty': ('newton-cg', 'l2'), 'C': 0.010673071203889009, 'tol': 0.006137585136173515, 'fit_intercept': False, 'class_weight': None}. Best is trial 194 with value: 0.897803591470258.\n",
      "[I 2025-03-19 08:21:55,418] Trial 223 finished with value: 0.8962772166105499 and parameters: {'solver_penalty': ('newton-cholesky', None), 'C': 0.18621981977734298, 'tol': 0.009088685534906353, 'fit_intercept': False, 'class_weight': None}. Best is trial 194 with value: 0.897803591470258.\n",
      "[I 2025-03-19 08:21:57,651] Trial 222 finished with value: 0.8976588103254771 and parameters: {'solver_penalty': ('newton-cg', 'l2'), 'C': 0.005793234513708379, 'tol': 0.007044958349474847, 'fit_intercept': False, 'class_weight': None}. Best is trial 194 with value: 0.897803591470258.\n",
      "[I 2025-03-19 08:22:00,852] Trial 224 finished with value: 0.8976924803591471 and parameters: {'solver_penalty': ('newton-cg', 'l2'), 'C': 0.005201637331974261, 'tol': 0.0060405425144067606, 'fit_intercept': False, 'class_weight': None}. Best is trial 194 with value: 0.897803591470258.\n",
      "[I 2025-03-19 08:22:01,328] Trial 226 finished with value: 0.8962772166105499 and parameters: {'solver_penalty': ('newton-cholesky', None), 'C': 0.013131379344122578, 'tol': 0.004712211688297555, 'fit_intercept': False, 'class_weight': None}. Best is trial 194 with value: 0.897803591470258.\n",
      "[I 2025-03-19 08:22:04,622] Trial 225 finished with value: 0.8976599326599326 and parameters: {'solver_penalty': ('newton-cg', 'l2'), 'C': 0.005036927516976829, 'tol': 0.0057517191140859115, 'fit_intercept': False, 'class_weight': None}. Best is trial 194 with value: 0.897803591470258.\n",
      "[I 2025-03-19 08:22:07,891] Trial 227 finished with value: 0.8973423120089786 and parameters: {'solver_penalty': ('newton-cg', 'l2'), 'C': 0.03154639454577129, 'tol': 0.005878010680040185, 'fit_intercept': False, 'class_weight': None}. Best is trial 194 with value: 0.897803591470258.\n",
      "[I 2025-03-19 08:22:10,279] Trial 229 finished with value: 0.8972929292929293 and parameters: {'solver_penalty': ('newton-cg', 'l2'), 'C': 0.09085732375792892, 'tol': 0.006559195342158724, 'fit_intercept': False, 'class_weight': None}. Best is trial 194 with value: 0.897803591470258.\n",
      "[I 2025-03-19 08:22:10,735] Trial 228 finished with value: 0.897374859708193 and parameters: {'solver_penalty': ('newton-cg', 'l2'), 'C': 0.018857285864427677, 'tol': 0.004729771898962791, 'fit_intercept': False, 'class_weight': None}. Best is trial 194 with value: 0.897803591470258.\n",
      "[I 2025-03-19 08:22:14,715] Trial 230 finished with value: 0.8972278338945006 and parameters: {'solver_penalty': ('newton-cg', 'l2'), 'C': 0.04216255736395214, 'tol': 0.00528957396512559, 'fit_intercept': False, 'class_weight': None}. Best is trial 194 with value: 0.897803591470258.\n",
      "[I 2025-03-19 08:22:18,315] Trial 231 finished with value: 0.8969865319865319 and parameters: {'solver_penalty': ('newton-cg', 'l2'), 'C': 0.06655527156200733, 'tol': 0.004264000837755369, 'fit_intercept': True, 'class_weight': None}. Best is trial 194 with value: 0.897803591470258.\n",
      "[I 2025-03-19 08:22:19,019] Trial 232 finished with value: 0.8976195286195285 and parameters: {'solver_penalty': ('newton-cg', 'l2'), 'C': 0.0037563584523469485, 'tol': 0.004051217884901419, 'fit_intercept': False, 'class_weight': None}. Best is trial 194 with value: 0.897803591470258.\n",
      "[I 2025-03-19 08:22:22,309] Trial 233 finished with value: 0.8885387205387206 and parameters: {'solver_penalty': ('lbfgs', 'l2'), 'C': 0.8955430890048713, 'tol': 0.0011708600294919494, 'fit_intercept': False, 'class_weight': 'balanced'}. Best is trial 194 with value: 0.897803591470258.\n",
      "[I 2025-03-19 08:22:22,822] Trial 234 finished with value: 0.8977115600448933 and parameters: {'solver_penalty': ('newton-cg', 'l2'), 'C': 0.0018597373585931207, 'tol': 0.004863642717481632, 'fit_intercept': False, 'class_weight': None}. Best is trial 194 with value: 0.897803591470258.\n",
      "[I 2025-03-19 08:22:27,653] Trial 235 finished with value: 0.8973613916947251 and parameters: {'solver_penalty': ('newton-cg', 'l2'), 'C': 0.03714545790668193, 'tol': 0.007475696893693573, 'fit_intercept': False, 'class_weight': None}. Best is trial 194 with value: 0.897803591470258.\n",
      "[I 2025-03-19 08:22:29,045] Trial 236 finished with value: 0.8974320987654321 and parameters: {'solver_penalty': ('newton-cg', 'l2'), 'C': 0.0453797794636122, 'tol': 0.005763150920936004, 'fit_intercept': False, 'class_weight': None}. Best is trial 194 with value: 0.897803591470258.\n",
      "[I 2025-03-19 08:22:29,524] Trial 237 finished with value: 0.896063973063973 and parameters: {'solver_penalty': ('lbfgs', 'l2'), 'C': 0.016055819774746904, 'tol': 0.00139388887642935, 'fit_intercept': False, 'class_weight': 'balanced'}. Best is trial 194 with value: 0.897803591470258.\n",
      "[I 2025-03-19 08:22:31,852] Trial 238 finished with value: 0.8976026936026937 and parameters: {'solver_penalty': ('newton-cg', 'l2'), 'C': 0.004033817230163925, 'tol': 0.007788519777286463, 'fit_intercept': False, 'class_weight': None}. Best is trial 194 with value: 0.897803591470258.\n",
      "[I 2025-03-19 08:22:38,210] Trial 241 finished with value: 0.8976980920314253 and parameters: {'solver_penalty': ('newton-cg', 'l2'), 'C': 0.005496633203141031, 'tol': 0.005839157555712281, 'fit_intercept': False, 'class_weight': None}. Best is trial 194 with value: 0.897803591470258.\n",
      "[I 2025-03-19 08:22:38,677] Trial 239 finished with value: 0.8973613916947251 and parameters: {'solver_penalty': ('newton-cg', 'l2'), 'C': 0.02426344909380001, 'tol': 0.005082366585103, 'fit_intercept': False, 'class_weight': None}. Best is trial 194 with value: 0.897803591470258.\n",
      "[I 2025-03-19 08:22:39,181] Trial 240 finished with value: 0.8973299663299663 and parameters: {'solver_penalty': ('newton-cg', 'l2'), 'C': 0.03316705266481079, 'tol': 0.00601079242701191, 'fit_intercept': False, 'class_weight': None}. Best is trial 194 with value: 0.897803591470258.\n",
      "[I 2025-03-19 08:22:40,400] Trial 242 finished with value: 0.8974186307519642 and parameters: {'solver_penalty': ('newton-cg', 'l2'), 'C': 0.017343082040667184, 'tol': 0.007191703993288444, 'fit_intercept': False, 'class_weight': None}. Best is trial 194 with value: 0.897803591470258.\n",
      "[I 2025-03-19 08:22:47,734] Trial 243 finished with value: 0.8973647586980921 and parameters: {'solver_penalty': ('newton-cg', 'l2'), 'C': 0.013354811155111558, 'tol': 0.004069913156833381, 'fit_intercept': False, 'class_weight': None}. Best is trial 194 with value: 0.897803591470258.\n",
      "[I 2025-03-19 08:22:48,215] Trial 245 finished with value: 0.8973097643097644 and parameters: {'solver_penalty': ('newton-cg', 'l2'), 'C': 0.05884006250790985, 'tol': 0.009374952281295975, 'fit_intercept': False, 'class_weight': None}. Best is trial 194 with value: 0.897803591470258.\n",
      "[I 2025-03-19 08:22:48,470] Trial 244 finished with value: 0.8973703703703704 and parameters: {'solver_penalty': ('newton-cg', 'l2'), 'C': 0.022477842737451403, 'tol': 0.00405788490705583, 'fit_intercept': False, 'class_weight': None}. Best is trial 194 with value: 0.897803591470258.\n",
      "[I 2025-03-19 08:22:51,321] Trial 246 finished with value: 0.8972536475869808 and parameters: {'solver_penalty': ('newton-cg', 'l2'), 'C': 0.031139734461463377, 'tol': 0.00377554717596627, 'fit_intercept': False, 'class_weight': None}. Best is trial 194 with value: 0.897803591470258.\n",
      "[I 2025-03-19 08:22:53,397] Trial 249 finished with value: 0.8927777777777777 and parameters: {'solver_penalty': ('liblinear', 'l1'), 'C': 0.4972616875439659, 'tol': 0.003104600034120113, 'fit_intercept': False, 'class_weight': 'balanced'}. Best is trial 194 with value: 0.897803591470258.\n",
      "[I 2025-03-19 08:22:55,949] Trial 247 finished with value: 0.8973524130190796 and parameters: {'solver_penalty': ('newton-cg', 'l2'), 'C': 0.024451887053829394, 'tol': 0.008653211205890557, 'fit_intercept': False, 'class_weight': None}. Best is trial 194 with value: 0.897803591470258.\n",
      "[I 2025-03-19 08:22:56,178] Trial 248 finished with value: 0.8974657687991021 and parameters: {'solver_penalty': ('newton-cg', 'l2'), 'C': 0.019799181544336582, 'tol': 0.007125190836793092, 'fit_intercept': False, 'class_weight': None}. Best is trial 194 with value: 0.897803591470258.\n"
     ]
    }
   ],
   "source": [
    "def objective(trial):\n",
    "    solver_penalty_options = [\n",
    "        (\"liblinear\", \"l1\"),\n",
    "        (\"liblinear\", \"l2\"),\n",
    "        (\"lbfgs\", \"l2\"),\n",
    "        (\"lbfgs\", None),\n",
    "        (\"newton-cg\", \"l2\"),\n",
    "        (\"newton-cg\", None),\n",
    "        (\"newton-cholesky\", \"l2\"),\n",
    "        (\"newton-cholesky\", None)\n",
    "    ]\n",
    "    solver, penalty = trial.suggest_categorical(\"solver_penalty\", solver_penalty_options)\n",
    "    \n",
    "    params = {\n",
    "        \"random_state\": CFG.seed,\n",
    "        \"max_iter\": 500,\n",
    "        \"C\": trial.suggest_float(\"C\", 0, 1),\n",
    "        \"tol\": trial.suggest_float(\"tol\", 1e-6, 1e-2),\n",
    "        \"fit_intercept\": trial.suggest_categorical(\"fit_intercept\", [True, False]),\n",
    "        \"class_weight\": trial.suggest_categorical(\"class_weight\", [\"balanced\", None]),\n",
    "        \"solver\": solver,\n",
    "        \"penalty\": penalty\n",
    "    }\n",
    "    \n",
    "    model = LogisticRegression(**params)\n",
    "    trainer = Trainer(model, is_ensemble_model=True)\n",
    "    return trainer.tune(X, y)\n",
    "\n",
    "if CFG.run_optuna:\n",
    "    sampler = optuna.samplers.TPESampler(seed=CFG.seed, multivariate=True, n_startup_trials=CFG.optuna_trials // 10)\n",
    "    study = optuna.create_study(direction=\"maximize\", sampler=sampler)\n",
    "    study.optimize(objective, n_trials=CFG.optuna_trials, n_jobs=-1)\n",
    "    best_params = study.best_params\n",
    "    \n",
    "    solver, penalty = best_params[\"solver_penalty\"]\n",
    "    lr_params = {\n",
    "        \"random_state\": CFG.seed,\n",
    "        \"max_iter\": 500,\n",
    "        \"C\": best_params[\"C\"],\n",
    "        \"tol\": best_params[\"tol\"],\n",
    "        \"fit_intercept\": best_params[\"fit_intercept\"],\n",
    "        \"class_weight\": best_params[\"class_weight\"],\n",
    "        \"solver\": solver,\n",
    "        \"penalty\": penalty\n",
    "    }\n",
    "else:\n",
    "    lr_params = {\n",
    "      \"random_state\": 42\n",
    "    }"
   ]
  },
  {
   "cell_type": "code",
   "execution_count": 29,
   "id": "5d0cd0ab",
   "metadata": {
    "execution": {
     "iopub.execute_input": "2025-03-19T08:22:56.235695Z",
     "iopub.status.busy": "2025-03-19T08:22:56.235336Z",
     "iopub.status.idle": "2025-03-19T08:22:56.239569Z",
     "shell.execute_reply": "2025-03-19T08:22:56.238681Z"
    },
    "papermill": {
     "duration": 0.03001,
     "end_time": "2025-03-19T08:22:56.241101",
     "exception": false,
     "start_time": "2025-03-19T08:22:56.211091",
     "status": "completed"
    },
    "tags": []
   },
   "outputs": [
    {
     "name": "stdout",
     "output_type": "stream",
     "text": [
      "{\n",
      "  \"random_state\": 2100,\n",
      "  \"max_iter\": 500,\n",
      "  \"C\": 0.0006192949126248059,\n",
      "  \"tol\": 0.006338975657181104,\n",
      "  \"fit_intercept\": false,\n",
      "  \"class_weight\": null,\n",
      "  \"solver\": \"newton-cg\",\n",
      "  \"penalty\": \"l2\"\n",
      "}\n"
     ]
    }
   ],
   "source": [
    "print(json.dumps(lr_params, indent=2))"
   ]
  },
  {
   "cell_type": "code",
   "execution_count": 30,
   "id": "4415d62a",
   "metadata": {
    "execution": {
     "iopub.execute_input": "2025-03-19T08:22:56.290118Z",
     "iopub.status.busy": "2025-03-19T08:22:56.289847Z",
     "iopub.status.idle": "2025-03-19T08:22:58.587260Z",
     "shell.execute_reply": "2025-03-19T08:22:58.586196Z"
    },
    "papermill": {
     "duration": 2.32334,
     "end_time": "2025-03-19T08:22:58.588672",
     "exception": false,
     "start_time": "2025-03-19T08:22:56.265332",
     "status": "completed"
    },
    "tags": []
   },
   "outputs": [
    {
     "name": "stdout",
     "output_type": "stream",
     "text": [
      "Training LogisticRegression\n",
      "\n",
      "--- Fold 1 - ROC AUC: 0.875533 (5 iterations)\n",
      "--- Fold 2 - ROC AUC: 0.898990 (5 iterations)\n",
      "--- Fold 3 - ROC AUC: 0.917733 (5 iterations)\n",
      "--- Fold 4 - ROC AUC: 0.919416 (5 iterations)\n",
      "--- Fold 5 - ROC AUC: 0.874523 (5 iterations)\n",
      "--- Fold 6 - ROC AUC: 0.885185 (5 iterations)\n",
      "--- Fold 7 - ROC AUC: 0.896409 (5 iterations)\n",
      "--- Fold 8 - ROC AUC: 0.863524 (5 iterations)\n",
      "--- Fold 9 - ROC AUC: 0.939282 (5 iterations)\n",
      "--- Fold 10 - ROC AUC: 0.915600 (5 iterations)\n",
      "\n",
      "------ Overall: 0.897804 | Average: 0.898620 ± 0.022957\n"
     ]
    }
   ],
   "source": [
    "lr_model = LogisticRegression(**lr_params)\n",
    "lr_trainer = Trainer(lr_model, is_ensemble_model=True)\n",
    "lr_oof_pred_probs, lr_test_pred_probs, overall_scores[\"Ensemble LR\"], scores[\"Ensemble LR\"], lr_coeffs = lr_trainer.fit_predict(X, y, X_test)"
   ]
  },
  {
   "cell_type": "code",
   "execution_count": 31,
   "id": "cbe1e7c6",
   "metadata": {
    "execution": {
     "iopub.execute_input": "2025-03-19T08:22:58.638803Z",
     "iopub.status.busy": "2025-03-19T08:22:58.638476Z",
     "iopub.status.idle": "2025-03-19T08:22:58.674082Z",
     "shell.execute_reply": "2025-03-19T08:22:58.673201Z"
    },
    "papermill": {
     "duration": 0.062518,
     "end_time": "2025-03-19T08:22:58.675728",
     "exception": false,
     "start_time": "2025-03-19T08:22:58.613210",
     "status": "completed"
    },
    "tags": []
   },
   "outputs": [
    {
     "data": {
      "text/html": [
       "<div>\n",
       "<style scoped>\n",
       "    .dataframe tbody tr th:only-of-type {\n",
       "        vertical-align: middle;\n",
       "    }\n",
       "\n",
       "    .dataframe tbody tr th {\n",
       "        vertical-align: top;\n",
       "    }\n",
       "\n",
       "    .dataframe thead th {\n",
       "        text-align: right;\n",
       "    }\n",
       "</style>\n",
       "<table border=\"1\" class=\"dataframe\">\n",
       "  <thead>\n",
       "    <tr style=\"text-align: right;\">\n",
       "      <th></th>\n",
       "      <th>id</th>\n",
       "      <th>rainfall</th>\n",
       "    </tr>\n",
       "  </thead>\n",
       "  <tbody>\n",
       "    <tr>\n",
       "      <th>0</th>\n",
       "      <td>2190</td>\n",
       "      <td>1.0</td>\n",
       "    </tr>\n",
       "    <tr>\n",
       "      <th>1</th>\n",
       "      <td>2191</td>\n",
       "      <td>1.0</td>\n",
       "    </tr>\n",
       "    <tr>\n",
       "      <th>2</th>\n",
       "      <td>2192</td>\n",
       "      <td>1.0</td>\n",
       "    </tr>\n",
       "    <tr>\n",
       "      <th>3</th>\n",
       "      <td>2193</td>\n",
       "      <td>0.0</td>\n",
       "    </tr>\n",
       "    <tr>\n",
       "      <th>4</th>\n",
       "      <td>2194</td>\n",
       "      <td>1.0</td>\n",
       "    </tr>\n",
       "  </tbody>\n",
       "</table>\n",
       "</div>"
      ],
      "text/plain": [
       "     id  rainfall\n",
       "0  2190       1.0\n",
       "1  2191       1.0\n",
       "2  2192       1.0\n",
       "3  2193       0.0\n",
       "4  2194       1.0"
      ]
     },
     "execution_count": 31,
     "metadata": {},
     "output_type": "execute_result"
    }
   ],
   "source": [
    "save_submission(\"ensemble-lr\", lr_test_pred_probs, np.mean(scores[\"Ensemble LR\"]))"
   ]
  },
  {
   "cell_type": "code",
   "execution_count": 32,
   "id": "0031c5b6",
   "metadata": {
    "_kg_hide-input": false,
    "execution": {
     "iopub.execute_input": "2025-03-19T08:22:58.727095Z",
     "iopub.status.busy": "2025-03-19T08:22:58.726774Z",
     "iopub.status.idle": "2025-03-19T08:22:59.025803Z",
     "shell.execute_reply": "2025-03-19T08:22:59.024884Z"
    },
    "papermill": {
     "duration": 0.325794,
     "end_time": "2025-03-19T08:22:59.027165",
     "exception": false,
     "start_time": "2025-03-19T08:22:58.701371",
     "status": "completed"
    },
    "tags": []
   },
   "outputs": [
    {
     "data": {
      "image/png": "[encoded data removed]",
      "text/plain": [
       "<Figure size 1000x360 with 1 Axes>"
      ]
     },
     "metadata": {},
     "output_type": "display_data"
    }
   ],
   "source": [
    "plot_weights(lr_coeffs, \"LR Coefficients\")"
   ]
  },
  {
   "cell_type": "markdown",
   "id": "4dc4f2dc",
   "metadata": {
    "papermill": {
     "duration": 0.024631,
     "end_time": "2025-03-19T08:22:59.077453",
     "exception": false,
     "start_time": "2025-03-19T08:22:59.052822",
     "status": "completed"
    },
    "tags": []
   },
   "source": [
    "# Ensembling with Ridge"
   ]
  },
  {
   "cell_type": "code",
   "execution_count": 33,
   "id": "a9b5e9c4",
   "metadata": {
    "execution": {
     "iopub.execute_input": "2025-03-19T08:22:59.128939Z",
     "iopub.status.busy": "2025-03-19T08:22:59.128579Z",
     "iopub.status.idle": "2025-03-19T08:22:59.133675Z",
     "shell.execute_reply": "2025-03-19T08:22:59.132799Z"
    },
    "papermill": {
     "duration": 0.032488,
     "end_time": "2025-03-19T08:22:59.134993",
     "exception": false,
     "start_time": "2025-03-19T08:22:59.102505",
     "status": "completed"
    },
    "tags": []
   },
   "outputs": [],
   "source": [
    "X = pd.DataFrame(oof_pred_probs)\n",
    "X_test = pd.DataFrame(test_pred_probs)"
   ]
  },
  {
   "cell_type": "code",
   "execution_count": 34,
   "id": "632b55ca",
   "metadata": {
    "_kg_hide-output": true,
    "execution": {
     "iopub.execute_input": "2025-03-19T08:22:59.186598Z",
     "iopub.status.busy": "2025-03-19T08:22:59.186235Z",
     "iopub.status.idle": "2025-03-19T08:32:17.953770Z",
     "shell.execute_reply": "2025-03-19T08:32:17.952802Z"
    },
    "papermill": {
     "duration": 558.79475,
     "end_time": "2025-03-19T08:32:17.955226",
     "exception": false,
     "start_time": "2025-03-19T08:22:59.160476",
     "status": "completed"
    },
    "scrolled": true,
    "tags": []
   },
   "outputs": [
    {
     "name": "stderr",
     "output_type": "stream",
     "text": [
      "[I 2025-03-19 08:22:59,190] A new study created in memory with name: no-name-69a52384-195d-473e-8f41-e2b6d4f91a9c\n",
      "[I 2025-03-19 08:23:05,109] Trial 3 finished with value: 0.8979876543209875 and parameters: {'alpha': 7.469012930936883, 'tol': 0.0012333714677809611, 'positive': False, 'fit_intercept': True}. Best is trial 3 with value: 0.8979876543209875.\n",
      "[I 2025-03-19 08:23:08,964] Trial 2 finished with value: 0.8984421997755331 and parameters: {'alpha': 7.866031777474668, 'tol': 0.0020046694866049453, 'positive': True, 'fit_intercept': False}. Best is trial 2 with value: 0.8984421997755331.\n",
      "[I 2025-03-19 08:23:09,206] Trial 0 finished with value: 0.8982962962962964 and parameters: {'alpha': 2.5123486490594815, 'tol': 0.009778883719544811, 'positive': True, 'fit_intercept': False}. Best is trial 2 with value: 0.8984421997755331.\n",
      "[I 2025-03-19 08:23:09,224] Trial 1 finished with value: 0.8980920314253646 and parameters: {'alpha': 1.4667279959933788, 'tol': 0.008763682269531494, 'positive': True, 'fit_intercept': False}. Best is trial 2 with value: 0.8984421997755331.\n",
      "[I 2025-03-19 08:23:15,216] Trial 4 finished with value: 0.8982020202020202 and parameters: {'alpha': 2.282247781047426, 'tol': 0.0018453502437486293, 'positive': True, 'fit_intercept': True}. Best is trial 2 with value: 0.8984421997755331.\n",
      "[I 2025-03-19 08:23:15,655] Trial 5 finished with value: 0.8980033670033669 and parameters: {'alpha': 8.813743974730277, 'tol': 0.009618556500604399, 'positive': False, 'fit_intercept': True}. Best is trial 2 with value: 0.8984421997755331.\n",
      "[I 2025-03-19 08:23:18,616] Trial 6 finished with value: 0.8984545454545454 and parameters: {'alpha': 4.727115136658361, 'tol': 0.005300283412624981, 'positive': True, 'fit_intercept': False}. Best is trial 6 with value: 0.8984545454545454.\n",
      "[I 2025-03-19 08:23:19,937] Trial 7 finished with value: 0.8983423120089786 and parameters: {'alpha': 9.689292448789228, 'tol': 0.006294355480274935, 'positive': True, 'fit_intercept': True}. Best is trial 6 with value: 0.8984545454545454.\n",
      "[I 2025-03-19 08:23:21,524] Trial 8 finished with value: 0.8974399551066219 and parameters: {'alpha': 1.5579591915463276, 'tol': 0.002396844384757217, 'positive': False, 'fit_intercept': True}. Best is trial 6 with value: 0.8984545454545454.\n",
      "[I 2025-03-19 08:23:27,134] Trial 9 finished with value: 0.8983367003367003 and parameters: {'alpha': 2.811561934412735, 'tol': 0.006377092097925681, 'positive': True, 'fit_intercept': False}. Best is trial 6 with value: 0.8984545454545454.\n",
      "[I 2025-03-19 08:23:27,366] Trial 11 finished with value: 0.8978249158249157 and parameters: {'alpha': 4.041647950874551, 'tol': 0.00919361931807682, 'positive': False, 'fit_intercept': True}. Best is trial 6 with value: 0.8984545454545454.\n",
      "[I 2025-03-19 08:23:27,806] Trial 12 finished with value: 0.8977340067340067 and parameters: {'alpha': 6.7934635596766055, 'tol': 0.0014723519036790999, 'positive': False, 'fit_intercept': False}. Best is trial 6 with value: 0.8984545454545454.\n",
      "[I 2025-03-19 08:23:33,252] Trial 10 finished with value: 0.8973557800224466 and parameters: {'alpha': 0.8271308445609915, 'tol': 0.0002273362077084483, 'positive': True, 'fit_intercept': True}. Best is trial 6 with value: 0.8984545454545454.\n",
      "[I 2025-03-19 08:23:33,956] Trial 15 finished with value: 0.8977575757575759 and parameters: {'alpha': 8.575325080053211, 'tol': 0.004490025529614315, 'positive': False, 'fit_intercept': False}. Best is trial 6 with value: 0.8984545454545454.\n",
      "[I 2025-03-19 08:23:36,445] Trial 13 finished with value: 0.8983928170594838 and parameters: {'alpha': 3.051324996779484, 'tol': 0.0020505229938847483, 'positive': True, 'fit_intercept': True}. Best is trial 6 with value: 0.8984545454545454.\n",
      "[I 2025-03-19 08:23:36,465] Trial 14 finished with value: 0.89834455667789 and parameters: {'alpha': 5.990851457698291, 'tol': 0.0024674959086650908, 'positive': True, 'fit_intercept': True}. Best is trial 6 with value: 0.8984545454545454.\n",
      "[I 2025-03-19 08:23:43,480] Trial 18 finished with value: 0.897763187429854 and parameters: {'alpha': 8.831138874919107, 'tol': 0.00699901112083877, 'positive': False, 'fit_intercept': False}. Best is trial 6 with value: 0.8984545454545454.\n",
      "[I 2025-03-19 08:23:44,383] Trial 16 finished with value: 0.8984421997755331 and parameters: {'alpha': 9.14491294104903, 'tol': 0.00890625848642814, 'positive': True, 'fit_intercept': False}. Best is trial 6 with value: 0.8984545454545454.\n",
      "[I 2025-03-19 08:23:44,610] Trial 19 finished with value: 0.8977306397306397 and parameters: {'alpha': 6.570461206400219, 'tol': 0.002706071392913693, 'positive': False, 'fit_intercept': False}. Best is trial 6 with value: 0.8984545454545454.\n",
      "[I 2025-03-19 08:23:45,056] Trial 17 finished with value: 0.8983400673400674 and parameters: {'alpha': 1.4765359782851917, 'tol': 0.008764320047699546, 'positive': True, 'fit_intercept': True}. Best is trial 6 with value: 0.8984545454545454.\n",
      "[I 2025-03-19 08:23:50,682] Trial 20 finished with value: 0.8976666666666666 and parameters: {'alpha': 3.181032114474741, 'tol': 0.008808136496236697, 'positive': False, 'fit_intercept': False}. Best is trial 6 with value: 0.8984545454545454.\n",
      "[I 2025-03-19 08:23:53,127] Trial 23 finished with value: 0.8976442199775533 and parameters: {'alpha': 3.922162991110011, 'tol': 0.001985591417301366, 'positive': False, 'fit_intercept': False}. Best is trial 6 with value: 0.8984545454545454.\n",
      "[I 2025-03-19 08:23:53,359] Trial 22 finished with value: 0.8976576879910213 and parameters: {'alpha': 3.6025109375511177, 'tol': 0.00835917303757397, 'positive': False, 'fit_intercept': False}. Best is trial 6 with value: 0.8984545454545454.\n",
      "[I 2025-03-19 08:23:57,552] Trial 24 finished with value: 0.8977351290684623 and parameters: {'alpha': 6.7744142975665556, 'tol': 0.000199907239171419, 'positive': False, 'fit_intercept': False}. Best is trial 6 with value: 0.8984545454545454.\n",
      "[I 2025-03-19 08:23:58,011] Trial 21 finished with value: 0.8984421997755331 and parameters: {'alpha': 9.646298071348347, 'tol': 0.008138830254279833, 'positive': True, 'fit_intercept': False}. Best is trial 6 with value: 0.8984545454545454.\n",
      "[I 2025-03-19 08:23:59,380] Trial 26 finished with value: 0.8960796857463524 and parameters: {'alpha': 0.06969517873347209, 'tol': 0.009715214497180746, 'positive': False, 'fit_intercept': False}. Best is trial 6 with value: 0.8984545454545454.\n",
      "[I 2025-03-19 08:24:03,922] Trial 25 finished with value: 0.8984938271604939 and parameters: {'alpha': 0.9703186852650902, 'tol': 0.0015019154502625856, 'positive': True, 'fit_intercept': True}. Best is trial 25 with value: 0.8984938271604939.\n",
      "[I 2025-03-19 08:24:07,374] Trial 28 finished with value: 0.8984421997755331 and parameters: {'alpha': 7.887104409306152, 'tol': 0.002569495127834576, 'positive': True, 'fit_intercept': False}. Best is trial 25 with value: 0.8984938271604939.\n",
      "[I 2025-03-19 08:24:07,608] Trial 27 finished with value: 0.897905723905724 and parameters: {'alpha': 9.784149603067462, 'tol': 5.605993056059366e-05, 'positive': True, 'fit_intercept': False}. Best is trial 25 with value: 0.8984938271604939.\n",
      "[I 2025-03-19 08:24:08,320] Trial 29 finished with value: 0.8984421997755331 and parameters: {'alpha': 8.181195190371696, 'tol': 0.0034107685314143047, 'positive': True, 'fit_intercept': False}. Best is trial 25 with value: 0.8984938271604939.\n",
      "[I 2025-03-19 08:24:11,948] Trial 30 finished with value: 0.8984421997755331 and parameters: {'alpha': 8.549531578486526, 'tol': 0.002400247618300511, 'positive': True, 'fit_intercept': False}. Best is trial 25 with value: 0.8984938271604939.\n",
      "[I 2025-03-19 08:24:16,198] Trial 31 finished with value: 0.8984421997755331 and parameters: {'alpha': 5.27384189431481, 'tol': 0.0038816838194930875, 'positive': True, 'fit_intercept': False}. Best is trial 25 with value: 0.8984938271604939.\n",
      "[I 2025-03-19 08:24:17,074] Trial 32 finished with value: 0.8984421997755331 and parameters: {'alpha': 6.344564527112674, 'tol': 0.00612477386837812, 'positive': True, 'fit_intercept': False}. Best is trial 25 with value: 0.8984938271604939.\n",
      "[I 2025-03-19 08:24:17,086] Trial 33 finished with value: 0.8984545454545454 and parameters: {'alpha': 4.604909099036279, 'tol': 0.004223509143714455, 'positive': True, 'fit_intercept': False}. Best is trial 25 with value: 0.8984938271604939.\n",
      "[I 2025-03-19 08:24:20,852] Trial 34 finished with value: 0.8984421997755331 and parameters: {'alpha': 6.778572585078452, 'tol': 0.00906518290923109, 'positive': True, 'fit_intercept': False}. Best is trial 25 with value: 0.8984938271604939.\n",
      "[I 2025-03-19 08:24:24,821] Trial 35 finished with value: 0.8984421997755331 and parameters: {'alpha': 5.833491277108713, 'tol': 0.006163729829673174, 'positive': True, 'fit_intercept': False}. Best is trial 25 with value: 0.8984938271604939.\n",
      "[I 2025-03-19 08:24:25,942] Trial 36 finished with value: 0.8984421997755331 and parameters: {'alpha': 7.905986586533207, 'tol': 0.009542506942447506, 'positive': True, 'fit_intercept': False}. Best is trial 25 with value: 0.8984938271604939.\n",
      "[I 2025-03-19 08:24:25,943] Trial 37 finished with value: 0.898297418630752 and parameters: {'alpha': 0.0004281451589364105, 'tol': 0.003546768653023843, 'positive': True, 'fit_intercept': True}. Best is trial 25 with value: 0.8984938271604939.\n",
      "[I 2025-03-19 08:24:30,840] Trial 38 finished with value: 0.898341189674523 and parameters: {'alpha': 2.609620097614898, 'tol': 0.0018773225770325488, 'positive': True, 'fit_intercept': False}. Best is trial 25 with value: 0.8984938271604939.\n",
      "[I 2025-03-19 08:24:33,894] Trial 41 finished with value: 0.898334455667789 and parameters: {'alpha': 4.183592989912979, 'tol': 0.004234263666031954, 'positive': True, 'fit_intercept': False}. Best is trial 25 with value: 0.8984938271604939.\n",
      "[I 2025-03-19 08:24:34,589] Trial 39 finished with value: 0.8974657687991021 and parameters: {'alpha': 1.6784768845377749, 'tol': 0.0007654628547248007, 'positive': True, 'fit_intercept': False}. Best is trial 25 with value: 0.8984938271604939.\n",
      "[I 2025-03-19 08:24:34,590] Trial 40 finished with value: 0.8983367003367003 and parameters: {'alpha': 2.90757824215318, 'tol': 0.004271819050381971, 'positive': True, 'fit_intercept': False}. Best is trial 25 with value: 0.8984938271604939.\n",
      "[I 2025-03-19 08:24:40,732] Trial 43 finished with value: 0.8962143658810324 and parameters: {'alpha': 0.06525940290714694, 'tol': 0.0010164129581057876, 'positive': False, 'fit_intercept': True}. Best is trial 25 with value: 0.8984938271604939.\n",
      "[I 2025-03-19 08:24:40,756] Trial 42 finished with value: 0.8983928170594838 and parameters: {'alpha': 3.917442474838496, 'tol': 0.006552102935121522, 'positive': True, 'fit_intercept': True}. Best is trial 25 with value: 0.8984938271604939.\n",
      "[I 2025-03-19 08:24:42,327] Trial 44 finished with value: 0.8979472502805835 and parameters: {'alpha': 5.152555344731399, 'tol': 0.004394022930090894, 'positive': False, 'fit_intercept': True}. Best is trial 25 with value: 0.8984938271604939.\n",
      "[I 2025-03-19 08:24:45,402] Trial 45 finished with value: 0.8983928170594838 and parameters: {'alpha': 3.425499866601264, 'tol': 0.005794951753880974, 'positive': True, 'fit_intercept': True}. Best is trial 25 with value: 0.8984938271604939.\n",
      "[I 2025-03-19 08:24:46,691] Trial 47 finished with value: 0.8979494949494949 and parameters: {'alpha': 5.147331679180405, 'tol': 0.004949696542928281, 'positive': False, 'fit_intercept': True}. Best is trial 25 with value: 0.8984938271604939.\n",
      "[I 2025-03-19 08:24:51,118] Trial 46 finished with value: 0.8986397306397307 and parameters: {'alpha': 0.8516079127365617, 'tol': 0.0019122478967226303, 'positive': True, 'fit_intercept': True}. Best is trial 46 with value: 0.8986397306397307.\n",
      "[I 2025-03-19 08:24:51,570] Trial 48 finished with value: 0.8983423120089786 and parameters: {'alpha': 9.88357303422982, 'tol': 0.009635509050228957, 'positive': True, 'fit_intercept': True}. Best is trial 46 with value: 0.8986397306397307.\n",
      "[I 2025-03-19 08:24:54,518] Trial 49 finished with value: 0.8978215488215489 and parameters: {'alpha': 5.6499726803623105, 'tol': 0.0008768621443881661, 'positive': True, 'fit_intercept': False}. Best is trial 46 with value: 0.8986397306397307.\n",
      "[I 2025-03-19 08:24:54,946] Trial 50 finished with value: 0.8979977553310887 and parameters: {'alpha': 1.973632337629826, 'tol': 0.0013352399884143593, 'positive': True, 'fit_intercept': True}. Best is trial 46 with value: 0.8986397306397307.\n",
      "[I 2025-03-19 08:24:59,806] Trial 51 finished with value: 0.8981874298540966 and parameters: {'alpha': 1.6792288279028358, 'tol': 0.00165209537671047, 'positive': True, 'fit_intercept': True}. Best is trial 46 with value: 0.8986397306397307.\n",
      "[I 2025-03-19 08:25:00,248] Trial 52 finished with value: 0.8985286195286195 and parameters: {'alpha': 0.3428921663056179, 'tol': 0.0016745179450921117, 'positive': True, 'fit_intercept': True}. Best is trial 46 with value: 0.8986397306397307.\n",
      "[I 2025-03-19 08:25:03,317] Trial 54 finished with value: 0.8985241301907969 and parameters: {'alpha': 0.6344344854378359, 'tol': 0.0021503700099842478, 'positive': True, 'fit_intercept': True}. Best is trial 46 with value: 0.8986397306397307.\n",
      "[I 2025-03-19 08:25:05,299] Trial 53 finished with value: 0.8969842873176207 and parameters: {'alpha': 0.7923903473885933, 'tol': 0.00035856539641034913, 'positive': True, 'fit_intercept': True}. Best is trial 46 with value: 0.8986397306397307.\n",
      "[I 2025-03-19 08:25:08,541] Trial 56 finished with value: 0.8985398428731761 and parameters: {'alpha': 0.04856557833231079, 'tol': 0.0013372287371804937, 'positive': True, 'fit_intercept': True}. Best is trial 46 with value: 0.8986397306397307.\n",
      "[I 2025-03-19 08:25:08,542] Trial 55 finished with value: 0.8984904601571269 and parameters: {'alpha': 0.1775975098413935, 'tol': 0.0019144453335786142, 'positive': True, 'fit_intercept': True}. Best is trial 46 with value: 0.8986397306397307.\n",
      "[I 2025-03-19 08:25:13,455] Trial 58 finished with value: 0.8985151515151516 and parameters: {'alpha': 0.6679472228915717, 'tol': 0.002289266155876838, 'positive': True, 'fit_intercept': True}. Best is trial 46 with value: 0.8986397306397307.\n",
      "[I 2025-03-19 08:25:13,457] Trial 57 finished with value: 0.8972480359147026 and parameters: {'alpha': 0.1787829175480914, 'tol': 0.0006115842380389942, 'positive': True, 'fit_intercept': True}. Best is trial 46 with value: 0.8986397306397307.\n",
      "[I 2025-03-19 08:25:17,664] Trial 59 finished with value: 0.8985342312008979 and parameters: {'alpha': 0.0288823722665974, 'tol': 0.0016683267776186226, 'positive': True, 'fit_intercept': True}. Best is trial 46 with value: 0.8986397306397307.\n",
      "[I 2025-03-19 08:25:17,892] Trial 60 finished with value: 0.8985005611672278 and parameters: {'alpha': 0.43669796358936264, 'tol': 0.002352901996555726, 'positive': True, 'fit_intercept': True}. Best is trial 46 with value: 0.8986397306397307.\n",
      "[I 2025-03-19 08:25:20,091] Trial 62 finished with value: 0.8969135802469137 and parameters: {'alpha': 0.3605978401661482, 'tol': 0.004655007219788041, 'positive': False, 'fit_intercept': True}. Best is trial 46 with value: 0.8986397306397307.\n",
      "[I 2025-03-19 08:25:22,550] Trial 61 finished with value: 0.8983748597081931 and parameters: {'alpha': 1.6053355345781979, 'tol': 0.002808248197497978, 'positive': True, 'fit_intercept': True}. Best is trial 46 with value: 0.8986397306397307.\n",
      "[I 2025-03-19 08:25:25,437] Trial 63 finished with value: 0.8982401795735129 and parameters: {'alpha': 1.16256662676012, 'tol': 0.003347048206090226, 'positive': True, 'fit_intercept': True}. Best is trial 46 with value: 0.8986397306397307.\n",
      "[I 2025-03-19 08:25:27,225] Trial 64 finished with value: 0.8983726150392818 and parameters: {'alpha': 0.10587509318405852, 'tol': 0.002879881441896533, 'positive': True, 'fit_intercept': True}. Best is trial 46 with value: 0.8986397306397307.\n",
      "[I 2025-03-19 08:25:29,919] Trial 65 finished with value: 0.8983400673400674 and parameters: {'alpha': 1.8812672201009195, 'tol': 0.0033197082072709367, 'positive': True, 'fit_intercept': True}. Best is trial 46 with value: 0.8986397306397307.\n",
      "[I 2025-03-19 08:25:32,143] Trial 66 finished with value: 0.8975768799102131 and parameters: {'alpha': 0.05329394663424902, 'tol': 0.002829916200811927, 'positive': True, 'fit_intercept': False}. Best is trial 46 with value: 0.8986397306397307.\n",
      "[I 2025-03-19 08:25:35,208] Trial 67 finished with value: 0.898297418630752 and parameters: {'alpha': 0.09269924746699115, 'tol': 0.004538144884974262, 'positive': True, 'fit_intercept': True}. Best is trial 46 with value: 0.8986397306397307.\n",
      "[I 2025-03-19 08:25:35,648] Trial 69 finished with value: 0.8967205387205386 and parameters: {'alpha': 0.3633085717522109, 'tol': 0.004434520482974321, 'positive': False, 'fit_intercept': False}. Best is trial 46 with value: 0.8986397306397307.\n",
      "[I 2025-03-19 08:25:36,987] Trial 68 finished with value: 0.8974826038159371 and parameters: {'alpha': 0.7569307606076049, 'tol': 0.0028400203138759963, 'positive': True, 'fit_intercept': False}. Best is trial 46 with value: 0.8986397306397307.\n",
      "[I 2025-03-19 08:25:41,800] Trial 70 finished with value: 0.8985387205387205 and parameters: {'alpha': 0.26190078212293133, 'tol': 0.0017610454964569091, 'positive': True, 'fit_intercept': True}. Best is trial 46 with value: 0.8986397306397307.\n",
      "[I 2025-03-19 08:25:44,001] Trial 71 finished with value: 0.8984960718294053 and parameters: {'alpha': 0.15762403255681734, 'tol': 0.002418706750258904, 'positive': True, 'fit_intercept': True}. Best is trial 46 with value: 0.8986397306397307.\n",
      "[I 2025-03-19 08:25:45,114] Trial 72 finished with value: 0.8985072951739618 and parameters: {'alpha': 0.36781193955544766, 'tol': 0.0022395140510180155, 'positive': True, 'fit_intercept': True}. Best is trial 46 with value: 0.8986397306397307.\n",
      "[I 2025-03-19 08:25:45,121] Trial 73 finished with value: 0.8985005611672278 and parameters: {'alpha': 0.12180943371944575, 'tol': 0.0020046084007574187, 'positive': True, 'fit_intercept': True}. Best is trial 46 with value: 0.8986397306397307.\n",
      "[I 2025-03-19 08:25:50,439] Trial 74 finished with value: 0.8985465768799101 and parameters: {'alpha': 0.23129894062510112, 'tol': 0.0016336117596468405, 'positive': True, 'fit_intercept': True}. Best is trial 46 with value: 0.8986397306397307.\n",
      "[I 2025-03-19 08:25:53,277] Trial 75 finished with value: 0.8985151515151517 and parameters: {'alpha': 0.40453530108858315, 'tol': 0.001312101684681483, 'positive': True, 'fit_intercept': True}. Best is trial 46 with value: 0.8986397306397307.\n",
      "[I 2025-03-19 08:25:53,981] Trial 76 finished with value: 0.8979876543209877 and parameters: {'alpha': 0.5571580716064184, 'tol': 0.0009178915300608523, 'positive': True, 'fit_intercept': True}. Best is trial 46 with value: 0.8986397306397307.\n",
      "[I 2025-03-19 08:25:56,393] Trial 77 finished with value: 0.8977407407407407 and parameters: {'alpha': 0.2510856919461155, 'tol': 0.000645577257789265, 'positive': True, 'fit_intercept': True}. Best is trial 46 with value: 0.8986397306397307.\n",
      "[I 2025-03-19 08:25:57,261] Trial 78 finished with value: 0.8976094276094275 and parameters: {'alpha': 2.5635915641656855, 'tol': 0.0025072903705922267, 'positive': False, 'fit_intercept': True}. Best is trial 46 with value: 0.8986397306397307.\n",
      "[I 2025-03-19 08:25:59,235] Trial 79 finished with value: 0.8966139169472502 and parameters: {'alpha': 0.2935295734602878, 'tol': 0.0013552291039321954, 'positive': False, 'fit_intercept': False}. Best is trial 46 with value: 0.8986397306397307.\n",
      "[I 2025-03-19 08:26:01,259] Trial 80 finished with value: 0.8976127946127945 and parameters: {'alpha': 2.611294462555037, 'tol': 0.0003532531765249884, 'positive': False, 'fit_intercept': True}. Best is trial 46 with value: 0.8986397306397307.\n",
      "[I 2025-03-19 08:26:06,527] Trial 81 finished with value: 0.8976992143658811 and parameters: {'alpha': 2.7513670830607557, 'tol': 0.00031959199269027214, 'positive': True, 'fit_intercept': True}. Best is trial 46 with value: 0.8986397306397307.\n",
      "[I 2025-03-19 08:26:08,788] Trial 83 finished with value: 0.8975488215488217 and parameters: {'alpha': 2.3863500631071766, 'tol': 0.0003149916044194415, 'positive': True, 'fit_intercept': True}. Best is trial 46 with value: 0.8986397306397307.\n",
      "[I 2025-03-19 08:26:09,263] Trial 84 finished with value: 0.8985005611672279 and parameters: {'alpha': 0.10094043415159493, 'tol': 0.0019019740445330308, 'positive': True, 'fit_intercept': True}. Best is trial 46 with value: 0.8986397306397307.\n",
      "[I 2025-03-19 08:26:09,953] Trial 82 finished with value: 0.8977508417508417 and parameters: {'alpha': 0.4672989745518099, 'tol': 8.91429264402257e-06, 'positive': True, 'fit_intercept': False}. Best is trial 46 with value: 0.8986397306397307.\n",
      "[I 2025-03-19 08:26:14,347] Trial 85 finished with value: 0.8977755331088666 and parameters: {'alpha': 0.08308861197907536, 'tol': 0.0006982018138696282, 'positive': True, 'fit_intercept': False}. Best is trial 46 with value: 0.8986397306397307.\n",
      "[I 2025-03-19 08:26:16,152] Trial 86 finished with value: 0.8985353535353535 and parameters: {'alpha': 0.20991780912960623, 'tol': 0.001752728985897616, 'positive': True, 'fit_intercept': True}. Best is trial 46 with value: 0.8986397306397307.\n",
      "[I 2025-03-19 08:26:20,289] Trial 87 finished with value: 0.8971122334455667 and parameters: {'alpha': 0.10772765579073276, 'tol': 0.0001951544880215122, 'positive': True, 'fit_intercept': True}. Best is trial 46 with value: 0.8986397306397307.\n",
      "[I 2025-03-19 08:26:20,968] Trial 88 finished with value: 0.8968552188552188 and parameters: {'alpha': 0.049608159303988146, 'tol': 0.00011627781470911194, 'positive': True, 'fit_intercept': True}. Best is trial 46 with value: 0.8986397306397307.\n",
      "[I 2025-03-19 08:26:21,893] Trial 89 finished with value: 0.8983277216610551 and parameters: {'alpha': 2.5513832948169997, 'tol': 0.002626238541696036, 'positive': True, 'fit_intercept': True}. Best is trial 46 with value: 0.8986397306397307.\n",
      "[I 2025-03-19 08:26:26,160] Trial 90 finished with value: 0.8971941638608307 and parameters: {'alpha': 0.12799567498720824, 'tol': 0.0004320843374145359, 'positive': True, 'fit_intercept': True}. Best is trial 46 with value: 0.8986397306397307.\n",
      "[I 2025-03-19 08:26:28,858] Trial 91 finished with value: 0.8985005611672279 and parameters: {'alpha': 0.09911849697180872, 'tol': 0.0018633991107298161, 'positive': True, 'fit_intercept': True}. Best is trial 46 with value: 0.8986397306397307.\n",
      "[I 2025-03-19 08:26:29,506] Trial 92 finished with value: 0.8983928170594838 and parameters: {'alpha': 3.1841430095283494, 'tol': 0.002405681615150847, 'positive': True, 'fit_intercept': True}. Best is trial 46 with value: 0.8986397306397307.\n",
      "[I 2025-03-19 08:26:32,230] Trial 93 finished with value: 0.8985432098765431 and parameters: {'alpha': 0.04919066750856717, 'tol': 0.001739772490673923, 'positive': True, 'fit_intercept': True}. Best is trial 46 with value: 0.8986397306397307.\n",
      "[I 2025-03-19 08:26:35,802] Trial 94 finished with value: 0.8981941638608306 and parameters: {'alpha': 1.6986463731627417, 'tol': 0.0021977437721208658, 'positive': True, 'fit_intercept': True}. Best is trial 46 with value: 0.8986397306397307.\n",
      "[I 2025-03-19 08:26:36,273] Trial 96 finished with value: 0.8961885521885521 and parameters: {'alpha': 0.051975057543305864, 'tol': 0.0019559289707892923, 'positive': False, 'fit_intercept': True}. Best is trial 46 with value: 0.8986397306397307.\n",
      "[I 2025-03-19 08:26:38,333] Trial 95 finished with value: 0.8982053872053872 and parameters: {'alpha': 1.9164023238554837, 'tol': 0.00218099168923394, 'positive': True, 'fit_intercept': True}. Best is trial 46 with value: 0.8986397306397307.\n",
      "[I 2025-03-19 08:26:40,854] Trial 97 finished with value: 0.8982659932659932 and parameters: {'alpha': 0.15007891293409836, 'tol': 0.0030359235466811928, 'positive': True, 'fit_intercept': True}. Best is trial 46 with value: 0.8986397306397307.\n",
      "[I 2025-03-19 08:26:44,885] Trial 98 finished with value: 0.8983423120089786 and parameters: {'alpha': 8.465104471404763, 'tol': 0.0010166562802848876, 'positive': True, 'fit_intercept': True}. Best is trial 46 with value: 0.8986397306397307.\n",
      "[I 2025-03-19 08:26:45,134] Trial 99 finished with value: 0.8984983164983165 and parameters: {'alpha': 0.14543522083057606, 'tol': 0.0020954945194749755, 'positive': True, 'fit_intercept': True}. Best is trial 46 with value: 0.8986397306397307.\n",
      "[I 2025-03-19 08:26:46,461] Trial 100 finished with value: 0.8983658810325477 and parameters: {'alpha': 0.544906659453532, 'tol': 0.0025031764952095554, 'positive': True, 'fit_intercept': True}. Best is trial 46 with value: 0.8986397306397307.\n",
      "[I 2025-03-19 08:26:51,408] Trial 101 finished with value: 0.8985218855218855 and parameters: {'alpha': 0.4053538630708394, 'tol': 0.0017075904261477182, 'positive': True, 'fit_intercept': True}. Best is trial 46 with value: 0.8986397306397307.\n",
      "[I 2025-03-19 08:26:53,631] Trial 102 finished with value: 0.8984870931537599 and parameters: {'alpha': 0.01477131853252936, 'tol': 0.0020543959334128124, 'positive': True, 'fit_intercept': True}. Best is trial 46 with value: 0.8986397306397307.\n",
      "[I 2025-03-19 08:26:54,752] Trial 103 finished with value: 0.8985364758698091 and parameters: {'alpha': 0.21339862940432652, 'tol': 0.0018296637908535346, 'positive': True, 'fit_intercept': True}. Best is trial 46 with value: 0.8986397306397307.\n",
      "[I 2025-03-19 08:26:56,291] Trial 104 finished with value: 0.8984949494949495 and parameters: {'alpha': 0.03434581686833624, 'tol': 0.00178794561425978, 'positive': True, 'fit_intercept': True}. Best is trial 46 with value: 0.8986397306397307.\n",
      "[I 2025-03-19 08:26:56,971] Trial 105 finished with value: 0.8980089786756453 and parameters: {'alpha': 9.930543232187986, 'tol': 0.0010835583120217922, 'positive': False, 'fit_intercept': True}. Best is trial 46 with value: 0.8986397306397307.\n",
      "[I 2025-03-19 08:27:03,196] Trial 109 finished with value: 0.8976969696969697 and parameters: {'alpha': 5.716395583347358, 'tol': 0.0063775858686861845, 'positive': False, 'fit_intercept': False}. Best is trial 46 with value: 0.8986397306397307.\n",
      "[I 2025-03-19 08:27:04,561] Trial 106 finished with value: 0.8984826038159373 and parameters: {'alpha': 0.010476313511350033, 'tol': 0.0020690980079915927, 'positive': True, 'fit_intercept': True}. Best is trial 46 with value: 0.8986397306397307.\n",
      "[I 2025-03-19 08:27:05,475] Trial 107 finished with value: 0.8985072951739618 and parameters: {'alpha': 0.3677731558482174, 'tol': 0.0021483051332568696, 'positive': True, 'fit_intercept': True}. Best is trial 46 with value: 0.8986397306397307.\n",
      "[I 2025-03-19 08:27:05,716] Trial 108 finished with value: 0.8981784511784512 and parameters: {'alpha': 1.5579098515085672, 'tol': 0.0019818601912514455, 'positive': True, 'fit_intercept': True}. Best is trial 46 with value: 0.8986397306397307.\n",
      "[I 2025-03-19 08:27:12,931] Trial 110 finished with value: 0.8985016835016835 and parameters: {'alpha': 0.10871583639519891, 'tol': 0.0023639877535476675, 'positive': True, 'fit_intercept': True}. Best is trial 46 with value: 0.8986397306397307.\n",
      "[I 2025-03-19 08:27:13,168] Trial 111 finished with value: 0.8981930415263748 and parameters: {'alpha': 1.8221972115365657, 'tol': 0.0018184173304942749, 'positive': True, 'fit_intercept': True}. Best is trial 46 with value: 0.8986397306397307.\n",
      "[I 2025-03-19 08:27:14,067] Trial 112 finished with value: 0.8980774410774411 and parameters: {'alpha': 1.841554712312228, 'tol': 0.001211226686051326, 'positive': True, 'fit_intercept': True}. Best is trial 46 with value: 0.8986397306397307.\n",
      "[I 2025-03-19 08:27:14,541] Trial 113 finished with value: 0.8981997755331089 and parameters: {'alpha': 1.8679363512106475, 'tol': 0.0018675022459737809, 'positive': True, 'fit_intercept': True}. Best is trial 46 with value: 0.8986397306397307.\n",
      "[I 2025-03-19 08:27:21,663] Trial 114 finished with value: 0.8980920314253646 and parameters: {'alpha': 0.09570018308080908, 'tol': 0.007025177670909748, 'positive': True, 'fit_intercept': False}. Best is trial 46 with value: 0.8986397306397307.\n",
      "[I 2025-03-19 08:27:22,799] Trial 115 finished with value: 0.8985342312008977 and parameters: {'alpha': 0.025671564627792604, 'tol': 0.0017584308372777754, 'positive': True, 'fit_intercept': True}. Best is trial 46 with value: 0.8986397306397307.\n",
      "[I 2025-03-19 08:27:23,025] Trial 116 finished with value: 0.898421997755331 and parameters: {'alpha': 1.1820160365398626, 'tol': 0.0010432405201099043, 'positive': True, 'fit_intercept': True}. Best is trial 46 with value: 0.8986397306397307.\n",
      "[I 2025-03-19 08:27:24,158] Trial 117 finished with value: 0.8979214365881034 and parameters: {'alpha': 0.1354099094412486, 'tol': 0.0007095758714464441, 'positive': True, 'fit_intercept': True}. Best is trial 46 with value: 0.8986397306397307.\n",
      "[I 2025-03-19 08:27:31,229] Trial 121 finished with value: 0.8973860830527497 and parameters: {'alpha': 1.2273181475678099, 'tol': 0.009035335927513304, 'positive': False, 'fit_intercept': True}. Best is trial 46 with value: 0.8986397306397307.\n",
      "[I 2025-03-19 08:27:31,231] Trial 118 finished with value: 0.8986408529741863 and parameters: {'alpha': 0.7374251698979658, 'tol': 0.000941755168141758, 'positive': True, 'fit_intercept': True}. Best is trial 118 with value: 0.8986408529741863.\n",
      "[I 2025-03-19 08:27:32,183] Trial 120 finished with value: 0.8980044893378227 and parameters: {'alpha': 0.10684280209219077, 'tol': 0.0008744327537356901, 'positive': True, 'fit_intercept': True}. Best is trial 118 with value: 0.8986408529741863.\n",
      "[I 2025-03-19 08:27:32,642] Trial 119 finished with value: 0.8985398428731763 and parameters: {'alpha': 0.16653654209199964, 'tol': 0.0013538784719075523, 'positive': True, 'fit_intercept': True}. Best is trial 118 with value: 0.8986408529741863.\n",
      "[I 2025-03-19 08:27:38,836] Trial 123 finished with value: 0.8982648709315375 and parameters: {'alpha': 0.03590024705041292, 'tol': 0.0032051237363345175, 'positive': True, 'fit_intercept': True}. Best is trial 118 with value: 0.8986408529741863.\n",
      "[I 2025-03-19 08:27:40,222] Trial 122 finished with value: 0.8985443322109988 and parameters: {'alpha': 0.05885507356345676, 'tol': 0.001448134787871438, 'positive': True, 'fit_intercept': True}. Best is trial 118 with value: 0.8986408529741863.\n",
      "[I 2025-03-19 08:27:41,573] Trial 125 finished with value: 0.8985409652076319 and parameters: {'alpha': 0.10628591182104052, 'tol': 0.001799104035943626, 'positive': True, 'fit_intercept': True}. Best is trial 118 with value: 0.8986408529741863.\n",
      "[I 2025-03-19 08:27:41,814] Trial 124 finished with value: 0.8983086419753086 and parameters: {'alpha': 0.18149066239371126, 'tol': 0.002582509799676657, 'positive': True, 'fit_intercept': True}. Best is trial 118 with value: 0.8986408529741863.\n",
      "[I 2025-03-19 08:27:48,366] Trial 126 finished with value: 0.8985409652076319 and parameters: {'alpha': 0.14568840035556632, 'tol': 0.001600502260218901, 'positive': True, 'fit_intercept': True}. Best is trial 118 with value: 0.8986408529741863.\n",
      "[I 2025-03-19 08:27:49,298] Trial 127 finished with value: 0.8979854096520762 and parameters: {'alpha': 0.2605340855252348, 'tol': 0.000821101308785471, 'positive': True, 'fit_intercept': True}. Best is trial 118 with value: 0.8986408529741863.\n",
      "[I 2025-03-19 08:27:50,213] Trial 129 finished with value: 0.8980123456790124 and parameters: {'alpha': 0.1454381901861036, 'tol': 0.0009136616825977593, 'positive': True, 'fit_intercept': True}. Best is trial 118 with value: 0.8986408529741863.\n",
      "[I 2025-03-19 08:27:51,345] Trial 128 finished with value: 0.8972828282828282 and parameters: {'alpha': 0.02661802249546774, 'tol': 0.0005033454423399243, 'positive': True, 'fit_intercept': True}. Best is trial 118 with value: 0.8986408529741863.\n",
      "[I 2025-03-19 08:27:57,809] Trial 130 finished with value: 0.8976026936026935 and parameters: {'alpha': 1.76920446483572, 'tol': 2.961410860350701e-05, 'positive': True, 'fit_intercept': True}. Best is trial 118 with value: 0.8986408529741863.\n",
      "[I 2025-03-19 08:27:58,044] Trial 131 finished with value: 0.897013468013468 and parameters: {'alpha': 1.065066737737036, 'tol': 0.0006454559629509116, 'positive': True, 'fit_intercept': True}. Best is trial 118 with value: 0.8986408529741863.\n",
      "[I 2025-03-19 08:27:58,774] Trial 132 finished with value: 0.8985342312008979 and parameters: {'alpha': 0.03305718784097639, 'tol': 0.0014103740761027648, 'positive': True, 'fit_intercept': True}. Best is trial 118 with value: 0.8986408529741863.\n",
      "[I 2025-03-19 08:28:02,002] Trial 133 finished with value: 0.8976756453423119 and parameters: {'alpha': 1.530176062116109, 'tol': 3.9329192623509864e-05, 'positive': True, 'fit_intercept': True}. Best is trial 118 with value: 0.8986408529741863.\n",
      "[I 2025-03-19 08:28:07,437] Trial 135 finished with value: 0.8985095398428732 and parameters: {'alpha': 0.4105176073920396, 'tol': 0.0022628955016896, 'positive': True, 'fit_intercept': True}. Best is trial 118 with value: 0.8986408529741863.\n",
      "[I 2025-03-19 08:28:07,440] Trial 134 finished with value: 0.8984949494949495 and parameters: {'alpha': 0.030021792145509207, 'tol': 0.0017939072415914864, 'positive': True, 'fit_intercept': True}. Best is trial 118 with value: 0.8986408529741863.\n",
      "[I 2025-03-19 08:28:08,365] Trial 137 finished with value: 0.8972334455667789 and parameters: {'alpha': 0.8630182380100963, 'tol': 0.0028430245469728815, 'positive': False, 'fit_intercept': True}. Best is trial 118 with value: 0.8986408529741863.\n",
      "[I 2025-03-19 08:28:09,496] Trial 136 finished with value: 0.8985117845117845 and parameters: {'alpha': 0.35309687304381787, 'tol': 0.0022559763155672414, 'positive': True, 'fit_intercept': True}. Best is trial 118 with value: 0.8986408529741863.\n",
      "[I 2025-03-19 08:28:14,709] Trial 138 finished with value: 0.8967957351290685 and parameters: {'alpha': 0.27743354272932624, 'tol': 0.0014704885344850927, 'positive': False, 'fit_intercept': True}. Best is trial 118 with value: 0.8986408529741863.\n",
      "[I 2025-03-19 08:28:16,767] Trial 141 finished with value: 0.8964668911335577 and parameters: {'alpha': 0.13892907624649936, 'tol': 9.123224490548512e-05, 'positive': False, 'fit_intercept': True}. Best is trial 118 with value: 0.8986408529741863.\n",
      "[I 2025-03-19 08:28:17,467] Trial 139 finished with value: 0.8982805836139169 and parameters: {'alpha': 1.4726921359091334, 'tol': 0.00250689554756356, 'positive': True, 'fit_intercept': True}. Best is trial 118 with value: 0.8986408529741863.\n",
      "[I 2025-03-19 08:28:19,070] Trial 140 finished with value: 0.8985364758698092 and parameters: {'alpha': 0.17948716542523968, 'tol': 0.0013943139875002679, 'positive': True, 'fit_intercept': True}. Best is trial 118 with value: 0.8986408529741863.\n",
      "[I 2025-03-19 08:28:26,361] Trial 142 finished with value: 0.8984837261503928 and parameters: {'alpha': 0.01222606273580043, 'tol': 0.002145185429886176, 'positive': True, 'fit_intercept': True}. Best is trial 118 with value: 0.8986408529741863.\n",
      "[I 2025-03-19 08:28:26,580] Trial 145 finished with value: 0.8980089786756453 and parameters: {'alpha': 9.993996117280293, 'tol': 0.007904849825193417, 'positive': False, 'fit_intercept': True}. Best is trial 118 with value: 0.8986408529741863.\n",
      "[I 2025-03-19 08:28:26,840] Trial 143 finished with value: 0.8985443322109989 and parameters: {'alpha': 0.1492066573218988, 'tol': 0.001752090952671584, 'positive': True, 'fit_intercept': True}. Best is trial 118 with value: 0.8986408529741863.\n",
      "[I 2025-03-19 08:28:26,861] Trial 144 finished with value: 0.89834455667789 and parameters: {'alpha': 6.835760647800985, 'tol': 0.0064588551110117565, 'positive': True, 'fit_intercept': True}. Best is trial 118 with value: 0.8986408529741863.\n",
      "[I 2025-03-19 08:28:33,143] Trial 149 finished with value: 0.8978260381593716 and parameters: {'alpha': 9.703606837727225, 'tol': 0.001649444470885266, 'positive': False, 'fit_intercept': False}. Best is trial 118 with value: 0.8986408529741863.\n",
      "[I 2025-03-19 08:28:35,798] Trial 147 finished with value: 0.8985409652076318 and parameters: {'alpha': 0.10354874400435068, 'tol': 0.0012893369732701419, 'positive': True, 'fit_intercept': True}. Best is trial 118 with value: 0.8986408529741863.\n",
      "[I 2025-03-19 08:28:35,805] Trial 148 finished with value: 0.8983400673400674 and parameters: {'alpha': 1.815064557335325, 'tol': 0.004235828825439238, 'positive': True, 'fit_intercept': True}. Best is trial 118 with value: 0.8986408529741863.\n",
      "[I 2025-03-19 08:28:37,346] Trial 146 finished with value: 0.8968933782267116 and parameters: {'alpha': 0.0075809162742964675, 'tol': 9.406736219401955e-05, 'positive': True, 'fit_intercept': True}. Best is trial 118 with value: 0.8986408529741863.\n",
      "[I 2025-03-19 08:28:41,395] Trial 150 finished with value: 0.8979180695847362 and parameters: {'alpha': 0.030514884738546827, 'tol': 0.0006779206844914057, 'positive': True, 'fit_intercept': True}. Best is trial 118 with value: 0.8986408529741863.\n",
      "[I 2025-03-19 08:28:44,422] Trial 152 finished with value: 0.8985398428731763 and parameters: {'alpha': 0.11601782760345902, 'tol': 0.0015094395262136642, 'positive': True, 'fit_intercept': True}. Best is trial 118 with value: 0.8986408529741863.\n",
      "[I 2025-03-19 08:28:44,424] Trial 151 finished with value: 0.8979416386083052 and parameters: {'alpha': 0.06101263029314263, 'tol': 0.0006991016560578881, 'positive': True, 'fit_intercept': True}. Best is trial 118 with value: 0.8986408529741863.\n",
      "[I 2025-03-19 08:28:45,975] Trial 153 finished with value: 0.8982065095398428 and parameters: {'alpha': 1.9448103659503984, 'tol': 0.001742482693755149, 'positive': True, 'fit_intercept': True}. Best is trial 118 with value: 0.8986408529741863.\n",
      "[I 2025-03-19 08:28:50,112] Trial 154 finished with value: 0.8984949494949495 and parameters: {'alpha': 0.08169855347071489, 'tol': 0.0021452824100593906, 'positive': True, 'fit_intercept': True}. Best is trial 118 with value: 0.8986408529741863.\n",
      "[I 2025-03-19 08:28:52,396] Trial 155 finished with value: 0.8981391694725029 and parameters: {'alpha': 2.1764668383525354, 'tol': 0.0014980625262729097, 'positive': True, 'fit_intercept': True}. Best is trial 118 with value: 0.8986408529741863.\n",
      "[I 2025-03-19 08:28:53,301] Trial 156 finished with value: 0.898297418630752 and parameters: {'alpha': 0.06508793796035311, 'tol': 0.003556392315747004, 'positive': True, 'fit_intercept': True}. Best is trial 118 with value: 0.8986408529741863.\n",
      "[I 2025-03-19 08:28:55,994] Trial 157 finished with value: 0.8985016835016836 and parameters: {'alpha': 0.06792931844316245, 'tol': 0.0019263722055067735, 'positive': True, 'fit_intercept': True}. Best is trial 118 with value: 0.8986408529741863.\n",
      "[I 2025-03-19 08:28:58,863] Trial 158 finished with value: 0.8981279461279462 and parameters: {'alpha': 1.5246855829258679, 'tol': 0.0015949714933521408, 'positive': True, 'fit_intercept': True}. Best is trial 118 with value: 0.8986408529741863.\n",
      "[I 2025-03-19 08:29:01,292] Trial 159 finished with value: 0.8984927048260383 and parameters: {'alpha': 0.07949856348527937, 'tol': 0.002459554542336093, 'positive': True, 'fit_intercept': True}. Best is trial 118 with value: 0.8986408529741863.\n",
      "[I 2025-03-19 08:29:02,163] Trial 160 finished with value: 0.8982020202020201 and parameters: {'alpha': 1.8563009939694899, 'tol': 0.002159212991441451, 'positive': True, 'fit_intercept': True}. Best is trial 118 with value: 0.8986408529741863.\n",
      "[I 2025-03-19 08:29:04,994] Trial 161 finished with value: 0.8981436588103255 and parameters: {'alpha': 1.731942534184828, 'tol': 0.0013965888761114631, 'positive': True, 'fit_intercept': True}. Best is trial 118 with value: 0.8986408529741863.\n",
      "[I 2025-03-19 08:29:07,426] Trial 162 finished with value: 0.8982098765432098 and parameters: {'alpha': 2.081266899201767, 'tol': 0.0016643763585372892, 'positive': True, 'fit_intercept': True}. Best is trial 118 with value: 0.8986408529741863.\n",
      "[I 2025-03-19 08:29:10,060] Trial 163 finished with value: 0.8980830527497194 and parameters: {'alpha': 1.711198486686663, 'tol': 0.001275161817305177, 'positive': True, 'fit_intercept': True}. Best is trial 118 with value: 0.8986408529741863.\n",
      "[I 2025-03-19 08:29:11,194] Trial 164 finished with value: 0.8984904601571269 and parameters: {'alpha': 0.17856351818388894, 'tol': 0.002082107203295826, 'positive': True, 'fit_intercept': True}. Best is trial 118 with value: 0.8986408529741863.\n",
      "[I 2025-03-19 08:29:13,787] Trial 165 finished with value: 0.8985061728395062 and parameters: {'alpha': 0.3279887606974792, 'tol': 0.002376019689997864, 'positive': True, 'fit_intercept': True}. Best is trial 118 with value: 0.8986408529741863.\n",
      "[I 2025-03-19 08:29:16,375] Trial 166 finished with value: 0.8978978675645342 and parameters: {'alpha': 0.0176769427321384, 'tol': 0.002156395451855484, 'positive': True, 'fit_intercept': False}. Best is trial 118 with value: 0.8986408529741863.\n",
      "[I 2025-03-19 08:29:17,939] Trial 167 finished with value: 0.8985454545454544 and parameters: {'alpha': 0.06331655839057396, 'tol': 0.0011819710808427222, 'positive': True, 'fit_intercept': True}. Best is trial 118 with value: 0.8986408529741863.\n",
      "[I 2025-03-19 08:29:19,906] Trial 168 finished with value: 0.8985420875420874 and parameters: {'alpha': 0.0558577146932287, 'tol': 0.0012994375022550037, 'positive': True, 'fit_intercept': True}. Best is trial 118 with value: 0.8986408529741863.\n",
      "[I 2025-03-19 08:29:23,002] Trial 169 finished with value: 0.8978406285072951 and parameters: {'alpha': 0.3846314629369132, 'tol': 0.0024486816566085387, 'positive': True, 'fit_intercept': False}. Best is trial 118 with value: 0.8986408529741863.\n",
      "[I 2025-03-19 08:29:25,212] Trial 170 finished with value: 0.8985443322109988 and parameters: {'alpha': 0.057113304318375815, 'tol': 0.001505739792830176, 'positive': True, 'fit_intercept': True}. Best is trial 118 with value: 0.8986408529741863.\n",
      "[I 2025-03-19 08:29:28,824] Trial 171 finished with value: 0.8985375982042649 and parameters: {'alpha': 0.0758615101833402, 'tol': 0.0014247205793016704, 'positive': True, 'fit_intercept': True}. Best is trial 118 with value: 0.8986408529741863.\n",
      "[I 2025-03-19 08:29:28,842] Trial 173 finished with value: 0.8979640852974187 and parameters: {'alpha': 5.4907532519398865, 'tol': 0.0006806018809633442, 'positive': False, 'fit_intercept': True}. Best is trial 118 with value: 0.8986408529741863.\n",
      "[I 2025-03-19 08:29:29,771] Trial 172 finished with value: 0.8972390572390574 and parameters: {'alpha': 0.23558855942130985, 'tol': 0.0003107600064026615, 'positive': True, 'fit_intercept': True}. Best is trial 118 with value: 0.8986408529741863.\n",
      "[I 2025-03-19 08:29:34,513] Trial 174 finished with value: 0.8985331088664423 and parameters: {'alpha': 0.022105855570765054, 'tol': 0.0011091344696738752, 'positive': True, 'fit_intercept': True}. Best is trial 118 with value: 0.8986408529741863.\n",
      "[I 2025-03-19 08:29:37,623] Trial 175 finished with value: 0.8979898989898989 and parameters: {'alpha': 0.23448717890110138, 'tol': 0.0008793549062748801, 'positive': True, 'fit_intercept': True}. Best is trial 118 with value: 0.8986408529741863.\n",
      "[I 2025-03-19 08:29:38,750] Trial 177 finished with value: 0.898010101010101 and parameters: {'alpha': 0.19793994688045718, 'tol': 0.000919153340322784, 'positive': True, 'fit_intercept': True}. Best is trial 118 with value: 0.8986408529741863.\n",
      "[I 2025-03-19 08:29:38,977] Trial 176 finished with value: 0.8969831649831652 and parameters: {'alpha': 0.42598894189892267, 'tol': 0.00017334291444811396, 'positive': True, 'fit_intercept': True}. Best is trial 118 with value: 0.8986408529741863.\n",
      "[I 2025-03-19 08:29:43,042] Trial 178 finished with value: 0.8971919191919192 and parameters: {'alpha': 0.2808400078999724, 'tol': 0.00043353922134449583, 'positive': True, 'fit_intercept': True}. Best is trial 118 with value: 0.8986408529741863.\n",
      "[I 2025-03-19 08:29:46,773] Trial 179 finished with value: 0.8985196408529743 and parameters: {'alpha': 0.473485980617526, 'tol': 0.0016171336846553396, 'positive': True, 'fit_intercept': True}. Best is trial 118 with value: 0.8986408529741863.\n",
      "[I 2025-03-19 08:29:47,238] Trial 180 finished with value: 0.8984971941638608 and parameters: {'alpha': 0.08630039721020796, 'tol': 0.002109889906973473, 'positive': True, 'fit_intercept': True}. Best is trial 118 with value: 0.8986408529741863.\n",
      "[I 2025-03-19 08:29:47,924] Trial 181 finished with value: 0.8986374859708194 and parameters: {'alpha': 0.7277214788869508, 'tol': 0.0015388422161496005, 'positive': True, 'fit_intercept': True}. Best is trial 118 with value: 0.8986408529741863.\n",
      "[I 2025-03-19 08:29:51,643] Trial 182 finished with value: 0.8985387205387205 and parameters: {'alpha': 0.11909245289588948, 'tol': 0.0017588246574232534, 'positive': True, 'fit_intercept': True}. Best is trial 118 with value: 0.8986408529741863.\n",
      "[I 2025-03-19 08:29:56,013] Trial 183 finished with value: 0.8985409652076319 and parameters: {'alpha': 0.11521339007573524, 'tol': 0.0018019577531497547, 'positive': True, 'fit_intercept': True}. Best is trial 118 with value: 0.8986408529741863.\n",
      "[I 2025-03-19 08:29:56,246] Trial 184 finished with value: 0.8985375982042649 and parameters: {'alpha': 0.1355756177522732, 'tol': 0.0016390646534595729, 'positive': True, 'fit_intercept': True}. Best is trial 118 with value: 0.8986408529741863.\n",
      "[I 2025-03-19 08:29:56,952] Trial 185 finished with value: 0.8985409652076319 and parameters: {'alpha': 0.07319102458299465, 'tol': 0.001679157929117885, 'positive': True, 'fit_intercept': True}. Best is trial 118 with value: 0.8986408529741863.\n",
      "[I 2025-03-19 08:30:00,326] Trial 186 finished with value: 0.8985398428731763 and parameters: {'alpha': 0.11675914365949938, 'tol': 0.0017803563708571398, 'positive': True, 'fit_intercept': True}. Best is trial 118 with value: 0.8986408529741863.\n",
      "[I 2025-03-19 08:30:05,231] Trial 187 finished with value: 0.8983400673400674 and parameters: {'alpha': 1.4140858099477676, 'tol': 0.003845626926569246, 'positive': True, 'fit_intercept': True}. Best is trial 118 with value: 0.8986408529741863.\n",
      "[I 2025-03-19 08:30:05,688] Trial 188 finished with value: 0.8983400673400674 and parameters: {'alpha': 1.6838511208173714, 'tol': 0.0032177914411373183, 'positive': True, 'fit_intercept': True}. Best is trial 118 with value: 0.8986408529741863.\n",
      "[I 2025-03-19 08:30:05,689] Trial 189 finished with value: 0.8982401795735129 and parameters: {'alpha': 0.9126357433300202, 'tol': 0.003959094756251771, 'positive': True, 'fit_intercept': True}. Best is trial 118 with value: 0.8986408529741863.\n",
      "[I 2025-03-19 08:30:08,571] Trial 190 finished with value: 0.8983400673400674 and parameters: {'alpha': 1.7241213837840257, 'tol': 0.003298364422643376, 'positive': True, 'fit_intercept': True}. Best is trial 118 with value: 0.8986408529741863.\n",
      "[I 2025-03-19 08:30:13,621] Trial 191 finished with value: 0.898297418630752 and parameters: {'alpha': 0.1619184079225936, 'tol': 0.003573471624172918, 'positive': True, 'fit_intercept': True}. Best is trial 118 with value: 0.8986408529741863.\n",
      "[I 2025-03-19 08:30:14,538] Trial 193 finished with value: 0.8983097643097642 and parameters: {'alpha': 0.027771052266209365, 'tol': 0.002639716124050603, 'positive': True, 'fit_intercept': True}. Best is trial 118 with value: 0.8986408529741863.\n",
      "[I 2025-03-19 08:30:14,539] Trial 192 finished with value: 0.8980628507295174 and parameters: {'alpha': 1.975399037660368, 'tol': 0.0014480634383695393, 'positive': True, 'fit_intercept': True}. Best is trial 118 with value: 0.8986408529741863.\n",
      "[I 2025-03-19 08:30:17,645] Trial 194 finished with value: 0.8984915824915825 and parameters: {'alpha': 0.02271407681264038, 'tol': 0.0022096845391093053, 'positive': True, 'fit_intercept': True}. Best is trial 118 with value: 0.8986408529741863.\n",
      "[I 2025-03-19 08:30:22,466] Trial 195 finished with value: 0.8980785634118966 and parameters: {'alpha': 1.806804798957442, 'tol': 0.00117557293435333, 'positive': True, 'fit_intercept': True}. Best is trial 118 with value: 0.8986408529741863.\n",
      "[I 2025-03-19 08:30:23,317] Trial 196 finished with value: 0.8985387205387205 and parameters: {'alpha': 0.1209242341853798, 'tol': 0.001732005512717995, 'positive': True, 'fit_intercept': True}. Best is trial 118 with value: 0.8986408529741863.\n",
      "[I 2025-03-19 08:30:23,556] Trial 197 finished with value: 0.8985420875420876 and parameters: {'alpha': 0.14478040200413878, 'tol': 0.0015192757249371167, 'positive': True, 'fit_intercept': True}. Best is trial 118 with value: 0.8986408529741863.\n",
      "[I 2025-03-19 08:30:25,585] Trial 198 finished with value: 0.8981268237934904 and parameters: {'alpha': 1.5695409375946823, 'tol': 0.001481559653234812, 'positive': True, 'fit_intercept': True}. Best is trial 118 with value: 0.8986408529741863.\n",
      "[I 2025-03-19 08:30:31,604] Trial 199 finished with value: 0.8985230078563412 and parameters: {'alpha': 1.1402422467990183, 'tol': 0.0017784002250680146, 'positive': True, 'fit_intercept': True}. Best is trial 118 with value: 0.8986408529741863.\n",
      "[I 2025-03-19 08:30:32,931] Trial 201 finished with value: 0.8985364758698092 and parameters: {'alpha': 0.1823207274583648, 'tol': 0.0016668378371758794, 'positive': True, 'fit_intercept': True}. Best is trial 118 with value: 0.8986408529741863.\n",
      "[I 2025-03-19 08:30:33,380] Trial 200 finished with value: 0.8985398428731762 and parameters: {'alpha': 0.14041742050279832, 'tol': 0.0015918696800922036, 'positive': True, 'fit_intercept': True}. Best is trial 118 with value: 0.8986408529741863.\n",
      "[I 2025-03-19 08:30:34,042] Trial 202 finished with value: 0.8985409652076318 and parameters: {'alpha': 0.07104507377764072, 'tol': 0.0017050314331962142, 'positive': True, 'fit_intercept': True}. Best is trial 118 with value: 0.8986408529741863.\n",
      "[I 2025-03-19 08:30:40,776] Trial 203 finished with value: 0.8985263748597082 and parameters: {'alpha': 0.014859170153848869, 'tol': 0.0016147143558361391, 'positive': True, 'fit_intercept': True}. Best is trial 118 with value: 0.8986408529741863.\n",
      "[I 2025-03-19 08:30:41,682] Trial 204 finished with value: 0.898297418630752 and parameters: {'alpha': 0.14836483755653607, 'tol': 0.00992955774245411, 'positive': True, 'fit_intercept': True}. Best is trial 118 with value: 0.8986408529741863.\n",
      "[I 2025-03-19 08:30:41,688] Trial 205 finished with value: 0.89834455667789 and parameters: {'alpha': 6.207932977817594, 'tol': 0.009357766320578253, 'positive': True, 'fit_intercept': True}. Best is trial 118 with value: 0.8986408529741863.\n",
      "[I 2025-03-19 08:30:42,802] Trial 206 finished with value: 0.8985420875420875 and parameters: {'alpha': 0.2170705923141287, 'tol': 0.0013497287120649013, 'positive': True, 'fit_intercept': True}. Best is trial 118 with value: 0.8986408529741863.\n",
      "[I 2025-03-19 08:30:50,014] Trial 209 finished with value: 0.8985230078563411 and parameters: {'alpha': 0.003903670051559116, 'tol': 0.001404244428714583, 'positive': True, 'fit_intercept': True}. Best is trial 118 with value: 0.8986408529741863.\n",
      "[I 2025-03-19 08:30:50,036] Trial 207 finished with value: 0.8980112233445567 and parameters: {'alpha': 0.025192276708255953, 'tol': 0.0009226488228364287, 'positive': True, 'fit_intercept': True}. Best is trial 118 with value: 0.8986408529741863.\n",
      "[I 2025-03-19 08:30:50,273] Trial 208 finished with value: 0.8984826038159373 and parameters: {'alpha': 0.010898816447880016, 'tol': 0.002067256463935225, 'positive': True, 'fit_intercept': True}. Best is trial 118 with value: 0.8986408529741863.\n",
      "[I 2025-03-19 08:30:52,071] Trial 210 finished with value: 0.89768911335578 and parameters: {'alpha': 1.672740915270456, 'tol': 0.00026520190031459334, 'positive': True, 'fit_intercept': True}. Best is trial 118 with value: 0.8986408529741863.\n",
      "[I 2025-03-19 08:30:56,882] Trial 211 finished with value: 0.8985432098765433 and parameters: {'alpha': 0.06895621620812262, 'tol': 0.0017406441488774685, 'positive': True, 'fit_intercept': True}. Best is trial 118 with value: 0.8986408529741863.\n",
      "[I 2025-03-19 08:30:58,865] Trial 213 finished with value: 0.8976913580246912 and parameters: {'alpha': 1.8505004817918604, 'tol': 0.0008669608543358054, 'positive': True, 'fit_intercept': True}. Best is trial 118 with value: 0.8986408529741863.\n",
      "[I 2025-03-19 08:30:58,874] Trial 212 finished with value: 0.8977104377104377 and parameters: {'alpha': 1.9839424080245922, 'tol': 0.0002937532567897339, 'positive': True, 'fit_intercept': True}. Best is trial 118 with value: 0.8986408529741863.\n",
      "[I 2025-03-19 08:31:01,330] Trial 214 finished with value: 0.8981896745230078 and parameters: {'alpha': 1.7448908410204793, 'tol': 0.0016499533096397082, 'positive': True, 'fit_intercept': True}. Best is trial 118 with value: 0.8986408529741863.\n",
      "[I 2025-03-19 08:31:06,246] Trial 215 finished with value: 0.89854657687991 and parameters: {'alpha': 0.060938469857271416, 'tol': 0.0017535639351116707, 'positive': True, 'fit_intercept': True}. Best is trial 118 with value: 0.8986408529741863.\n",
      "[I 2025-03-19 08:31:07,369] Trial 216 finished with value: 0.8985005611672279 and parameters: {'alpha': 0.12414117346852085, 'tol': 0.001850298387384292, 'positive': True, 'fit_intercept': True}. Best is trial 118 with value: 0.8986408529741863.\n",
      "[I 2025-03-19 08:31:08,282] Trial 217 finished with value: 0.8984500561167228 and parameters: {'alpha': 1.0863891026209591, 'tol': 0.0028766557724437458, 'positive': True, 'fit_intercept': True}. Best is trial 118 with value: 0.8986408529741863.\n",
      "[I 2025-03-19 08:31:10,303] Trial 218 finished with value: 0.8983692480359149 and parameters: {'alpha': 0.0932148493081292, 'tol': 0.0028017816919962196, 'positive': True, 'fit_intercept': True}. Best is trial 118 with value: 0.8986408529741863.\n",
      "[I 2025-03-19 08:31:13,922] Trial 219 finished with value: 0.8985409652076319 and parameters: {'alpha': 0.0729807583713437, 'tol': 0.0014692670205628195, 'positive': True, 'fit_intercept': True}. Best is trial 118 with value: 0.8986408529741863.\n",
      "[I 2025-03-19 08:31:17,750] Trial 220 finished with value: 0.8972817059483726 and parameters: {'alpha': 0.032235870049164145, 'tol': 0.0005605772793532235, 'positive': True, 'fit_intercept': True}. Best is trial 118 with value: 0.8986408529741863.\n",
      "[I 2025-03-19 08:31:18,446] Trial 221 finished with value: 0.8972222222222224 and parameters: {'alpha': 0.011812414069837046, 'tol': 0.00036176635069507185, 'positive': True, 'fit_intercept': True}. Best is trial 118 with value: 0.8986408529741863.\n",
      "[I 2025-03-19 08:31:18,907] Trial 222 finished with value: 0.8985319865319866 and parameters: {'alpha': 0.02282288776782241, 'tol': 0.0016364991994235873, 'positive': True, 'fit_intercept': True}. Best is trial 118 with value: 0.8986408529741863.\n",
      "[I 2025-03-19 08:31:22,491] Trial 223 finished with value: 0.8985398428731763 and parameters: {'alpha': 0.2000948542930569, 'tol': 0.0015436618160325445, 'positive': True, 'fit_intercept': True}. Best is trial 118 with value: 0.8986408529741863.\n",
      "[I 2025-03-19 08:31:26,742] Trial 224 finished with value: 0.8984287317620651 and parameters: {'alpha': 1.265837514205056, 'tol': 0.0020584509370878117, 'positive': True, 'fit_intercept': True}. Best is trial 118 with value: 0.8986408529741863.\n",
      "[I 2025-03-19 08:31:27,654] Trial 225 finished with value: 0.8984983164983165 and parameters: {'alpha': 0.0708724702420266, 'tol': 0.00210472310137989, 'positive': True, 'fit_intercept': True}. Best is trial 118 with value: 0.8986408529741863.\n",
      "[I 2025-03-19 08:31:28,123] Trial 226 finished with value: 0.8984983164983165 and parameters: {'alpha': 0.0723333091523926, 'tol': 0.002080615388174022, 'positive': True, 'fit_intercept': True}. Best is trial 118 with value: 0.8986408529741863.\n",
      "[I 2025-03-19 08:31:31,681] Trial 227 finished with value: 0.8983703703703703 and parameters: {'alpha': 0.037543671595594914, 'tol': 0.0029548224078968536, 'positive': True, 'fit_intercept': True}. Best is trial 118 with value: 0.8986408529741863.\n",
      "[I 2025-03-19 08:31:34,795] Trial 229 finished with value: 0.8979955106621775 and parameters: {'alpha': 8.282166700753423, 'tol': 0.005528479950662339, 'positive': False, 'fit_intercept': True}. Best is trial 118 with value: 0.8986408529741863.\n",
      "[I 2025-03-19 08:31:36,999] Trial 228 finished with value: 0.898297418630752 and parameters: {'alpha': 0.0366132128688641, 'tol': 0.0035469244534697226, 'positive': True, 'fit_intercept': True}. Best is trial 118 with value: 0.8986408529741863.\n",
      "[I 2025-03-19 08:31:38,337] Trial 231 finished with value: 0.897810325476992 and parameters: {'alpha': 9.325794792203213, 'tol': 0.009154410976294337, 'positive': False, 'fit_intercept': False}. Best is trial 118 with value: 0.8986408529741863.\n",
      "[I 2025-03-19 08:31:38,338] Trial 230 finished with value: 0.8981301907968573 and parameters: {'alpha': 1.5963332548885993, 'tol': 0.0014471207380102654, 'positive': True, 'fit_intercept': True}. Best is trial 118 with value: 0.8986408529741863.\n",
      "[I 2025-03-19 08:31:45,235] Trial 232 finished with value: 0.8981212121212121 and parameters: {'alpha': 1.5491751201871464, 'tol': 0.0014734489377215988, 'positive': True, 'fit_intercept': True}. Best is trial 118 with value: 0.8986408529741863.\n",
      "[I 2025-03-19 08:31:45,694] Trial 233 finished with value: 0.8981863075196408 and parameters: {'alpha': 1.604797263794541, 'tol': 0.0016585397955574492, 'positive': True, 'fit_intercept': True}. Best is trial 118 with value: 0.8986408529741863.\n",
      "[I 2025-03-19 08:31:47,022] Trial 234 finished with value: 0.8981851851851853 and parameters: {'alpha': 1.674522177150883, 'tol': 0.0017245954168596286, 'positive': True, 'fit_intercept': True}. Best is trial 118 with value: 0.8986408529741863.\n",
      "[I 2025-03-19 08:31:47,486] Trial 235 finished with value: 0.8977856341189674 and parameters: {'alpha': 0.020757576512933633, 'tol': 0.0006225149245329361, 'positive': True, 'fit_intercept': True}. Best is trial 118 with value: 0.8986408529741863.\n",
      "[I 2025-03-19 08:31:53,287] Trial 236 finished with value: 0.8985409652076319 and parameters: {'alpha': 0.1467436923432509, 'tol': 0.0014754439618522611, 'positive': True, 'fit_intercept': True}. Best is trial 118 with value: 0.8986408529741863.\n",
      "[I 2025-03-19 08:31:55,095] Trial 237 finished with value: 0.8972132435465769 and parameters: {'alpha': 0.05128208736835527, 'tol': 0.000419921634031639, 'positive': True, 'fit_intercept': True}. Best is trial 118 with value: 0.8986408529741863.\n",
      "[I 2025-03-19 08:31:55,967] Trial 239 finished with value: 0.8985398428731762 and parameters: {'alpha': 0.10294067285252141, 'tol': 0.0017902392446495546, 'positive': True, 'fit_intercept': True}. Best is trial 118 with value: 0.8986408529741863.\n",
      "[I 2025-03-19 08:31:56,426] Trial 238 finished with value: 0.8979887766554434 and parameters: {'alpha': 2.7265908079171077, 'tol': 0.0005923947078747642, 'positive': True, 'fit_intercept': False}. Best is trial 118 with value: 0.8986408529741863.\n",
      "[I 2025-03-19 08:32:01,281] Trial 241 finished with value: 0.8974657687991021 and parameters: {'alpha': 1.7212369678468689, 'tol': 0.00157163088505855, 'positive': False, 'fit_intercept': True}. Best is trial 118 with value: 0.8986408529741863.\n",
      "[I 2025-03-19 08:32:03,068] Trial 240 finished with value: 0.8971447811447811 and parameters: {'alpha': 2.229155667950678, 'tol': 0.0010499675757449974, 'positive': True, 'fit_intercept': False}. Best is trial 118 with value: 0.8986408529741863.\n",
      "[I 2025-03-19 08:32:05,352] Trial 242 finished with value: 0.8984949494949495 and parameters: {'alpha': 0.08169825203632108, 'tol': 0.0023996092215454595, 'positive': True, 'fit_intercept': True}. Best is trial 118 with value: 0.8986408529741863.\n",
      "[I 2025-03-19 08:32:06,250] Trial 243 finished with value: 0.8985398428731762 and parameters: {'alpha': 0.16378705050297904, 'tol': 0.0018455761466407438, 'positive': True, 'fit_intercept': True}. Best is trial 118 with value: 0.8986408529741863.\n",
      "[I 2025-03-19 08:32:09,595] Trial 244 finished with value: 0.898300785634119 and parameters: {'alpha': 0.008061447841016978, 'tol': 0.0026101076621455775, 'positive': True, 'fit_intercept': True}. Best is trial 118 with value: 0.8986408529741863.\n",
      "[I 2025-03-19 08:32:13,131] Trial 245 finished with value: 0.8982648709315375 and parameters: {'alpha': 0.026631523680471215, 'tol': 0.003085948835539551, 'positive': True, 'fit_intercept': True}. Best is trial 118 with value: 0.8986408529741863.\n",
      "[I 2025-03-19 08:32:14,037] Trial 246 finished with value: 0.8985286195286195 and parameters: {'alpha': 0.014200052119053508, 'tol': 0.001000554223730897, 'positive': True, 'fit_intercept': True}. Best is trial 118 with value: 0.8986408529741863.\n",
      "[I 2025-03-19 08:32:14,955] Trial 247 finished with value: 0.8985443322109988 and parameters: {'alpha': 0.06261939049142007, 'tol': 0.001339659312981931, 'positive': True, 'fit_intercept': True}. Best is trial 118 with value: 0.8986408529741863.\n",
      "[I 2025-03-19 08:32:17,327] Trial 248 finished with value: 0.8974141414141416 and parameters: {'alpha': 0.0021388780611309166, 'tol': 0.0005824421654579552, 'positive': True, 'fit_intercept': True}. Best is trial 118 with value: 0.8986408529741863.\n",
      "[I 2025-03-19 08:32:17,949] Trial 249 finished with value: 0.8983894500561167 and parameters: {'alpha': 1.2789092411091447, 'tol': 0.0013184150847811921, 'positive': True, 'fit_intercept': True}. Best is trial 118 with value: 0.8986408529741863.\n"
     ]
    }
   ],
   "source": [
    "def objective(trial):    \n",
    "    params = {\n",
    "        \"random_state\": CFG.seed,\n",
    "        \"alpha\": trial.suggest_float(\"alpha\", 0, 10),\n",
    "        \"tol\": trial.suggest_float(\"tol\", 1e-7, 1e-2),\n",
    "        \"positive\": trial.suggest_categorical(\"positive\", [True, False]),\n",
    "        \"fit_intercept\": trial.suggest_categorical(\"fit_intercept\", [True, False])\n",
    "    }\n",
    "    \n",
    "    model = Ridge(**params)\n",
    "    trainer = Trainer(model, is_ensemble_model=True)\n",
    "    return trainer.tune(X, y)\n",
    "\n",
    "if CFG.run_optuna:\n",
    "    sampler = optuna.samplers.TPESampler(seed=CFG.seed, multivariate=True, n_startup_trials=CFG.optuna_trials // 10)\n",
    "    study = optuna.create_study(direction=\"maximize\", sampler=sampler)\n",
    "    study.optimize(objective, n_trials=CFG.optuna_trials, n_jobs=-1)\n",
    "    best_params = study.best_params\n",
    "    \n",
    "    ridge_params = {\n",
    "        \"random_state\": CFG.seed,\n",
    "        \"alpha\": best_params[\"alpha\"],\n",
    "        \"tol\": best_params[\"tol\"],\n",
    "        \"positive\": best_params[\"positive\"],\n",
    "        \"fit_intercept\": best_params[\"fit_intercept\"]\n",
    "    }\n",
    "else:\n",
    "    ridge_params = {\n",
    "      \"random_state\": 42\n",
    "    }"
   ]
  },
  {
   "cell_type": "code",
   "execution_count": 35,
   "id": "1923a568",
   "metadata": {
    "execution": {
     "iopub.execute_input": "2025-03-19T08:32:18.027424Z",
     "iopub.status.busy": "2025-03-19T08:32:18.027097Z",
     "iopub.status.idle": "2025-03-19T08:32:18.031415Z",
     "shell.execute_reply": "2025-03-19T08:32:18.030479Z"
    },
    "papermill": {
     "duration": 0.041605,
     "end_time": "2025-03-19T08:32:18.032830",
     "exception": false,
     "start_time": "2025-03-19T08:32:17.991225",
     "status": "completed"
    },
    "tags": []
   },
   "outputs": [
    {
     "name": "stdout",
     "output_type": "stream",
     "text": [
      "{\n",
      "  \"random_state\": 2100,\n",
      "  \"alpha\": 0.7374251698979658,\n",
      "  \"tol\": 0.000941755168141758,\n",
      "  \"positive\": true,\n",
      "  \"fit_intercept\": true\n",
      "}\n"
     ]
    }
   ],
   "source": [
    "print(json.dumps(ridge_params, indent=2))"
   ]
  },
  {
   "cell_type": "code",
   "execution_count": 36,
   "id": "cdbc910b",
   "metadata": {
    "execution": {
     "iopub.execute_input": "2025-03-19T08:32:18.104665Z",
     "iopub.status.busy": "2025-03-19T08:32:18.104358Z",
     "iopub.status.idle": "2025-03-19T08:32:20.337217Z",
     "shell.execute_reply": "2025-03-19T08:32:20.336218Z"
    },
    "papermill": {
     "duration": 2.270002,
     "end_time": "2025-03-19T08:32:20.338754",
     "exception": false,
     "start_time": "2025-03-19T08:32:18.068752",
     "status": "completed"
    },
    "tags": []
   },
   "outputs": [
    {
     "name": "stdout",
     "output_type": "stream",
     "text": [
      "Training Ridge\n",
      "\n",
      "--- Fold 1 - ROC AUC: 0.881594\n",
      "--- Fold 2 - ROC AUC: 0.900224\n",
      "--- Fold 3 - ROC AUC: 0.918182\n",
      "--- Fold 4 - ROC AUC: 0.918743\n",
      "--- Fold 5 - ROC AUC: 0.873962\n",
      "--- Fold 6 - ROC AUC: 0.884624\n",
      "--- Fold 7 - ROC AUC: 0.897419\n",
      "--- Fold 8 - ROC AUC: 0.863412\n",
      "--- Fold 9 - ROC AUC: 0.938159\n",
      "--- Fold 10 - ROC AUC: 0.915376\n",
      "\n",
      "------ Overall: 0.898641 | Average: 0.899169 ± 0.022285\n"
     ]
    }
   ],
   "source": [
    "ridge_model = Ridge(**ridge_params)\n",
    "ridge_trainer = Trainer(ridge_model, is_ensemble_model=True)\n",
    "lr_oof_pred_probs, lr_test_pred_probs, overall_scores[\"Ensemble Ridge\"], scores[\"Ensemble Ridge\"], ridge_coeffs = ridge_trainer.fit_predict(X, y, X_test)"
   ]
  },
  {
   "cell_type": "code",
   "execution_count": 37,
   "id": "9727cd49",
   "metadata": {
    "execution": {
     "iopub.execute_input": "2025-03-19T08:32:20.412790Z",
     "iopub.status.busy": "2025-03-19T08:32:20.412518Z",
     "iopub.status.idle": "2025-03-19T08:32:20.440703Z",
     "shell.execute_reply": "2025-03-19T08:32:20.439934Z"
    },
    "papermill": {
     "duration": 0.066209,
     "end_time": "2025-03-19T08:32:20.441936",
     "exception": false,
     "start_time": "2025-03-19T08:32:20.375727",
     "status": "completed"
    },
    "tags": []
   },
   "outputs": [
    {
     "data": {
      "text/html": [
       "<div>\n",
       "<style scoped>\n",
       "    .dataframe tbody tr th:only-of-type {\n",
       "        vertical-align: middle;\n",
       "    }\n",
       "\n",
       "    .dataframe tbody tr th {\n",
       "        vertical-align: top;\n",
       "    }\n",
       "\n",
       "    .dataframe thead th {\n",
       "        text-align: right;\n",
       "    }\n",
       "</style>\n",
       "<table border=\"1\" class=\"dataframe\">\n",
       "  <thead>\n",
       "    <tr style=\"text-align: right;\">\n",
       "      <th></th>\n",
       "      <th>id</th>\n",
       "      <th>rainfall</th>\n",
       "    </tr>\n",
       "  </thead>\n",
       "  <tbody>\n",
       "    <tr>\n",
       "      <th>0</th>\n",
       "      <td>2190</td>\n",
       "      <td>1.0</td>\n",
       "    </tr>\n",
       "    <tr>\n",
       "      <th>1</th>\n",
       "      <td>2191</td>\n",
       "      <td>1.0</td>\n",
       "    </tr>\n",
       "    <tr>\n",
       "      <th>2</th>\n",
       "      <td>2192</td>\n",
       "      <td>1.0</td>\n",
       "    </tr>\n",
       "    <tr>\n",
       "      <th>3</th>\n",
       "      <td>2193</td>\n",
       "      <td>0.0</td>\n",
       "    </tr>\n",
       "    <tr>\n",
       "      <th>4</th>\n",
       "      <td>2194</td>\n",
       "      <td>1.0</td>\n",
       "    </tr>\n",
       "  </tbody>\n",
       "</table>\n",
       "</div>"
      ],
      "text/plain": [
       "     id  rainfall\n",
       "0  2190       1.0\n",
       "1  2191       1.0\n",
       "2  2192       1.0\n",
       "3  2193       0.0\n",
       "4  2194       1.0"
      ]
     },
     "execution_count": 37,
     "metadata": {},
     "output_type": "execute_result"
    }
   ],
   "source": [
    "save_submission(\"ensemble-ridge\", lr_test_pred_probs, np.mean(scores[\"Ensemble Ridge\"]))"
   ]
  },
  {
   "cell_type": "code",
   "execution_count": 38,
   "id": "e82f3d02",
   "metadata": {
    "execution": {
     "iopub.execute_input": "2025-03-19T08:32:20.514866Z",
     "iopub.status.busy": "2025-03-19T08:32:20.514609Z",
     "iopub.status.idle": "2025-03-19T08:32:20.758344Z",
     "shell.execute_reply": "2025-03-19T08:32:20.757483Z"
    },
    "papermill": {
     "duration": 0.281751,
     "end_time": "2025-03-19T08:32:20.759991",
     "exception": false,
     "start_time": "2025-03-19T08:32:20.478240",
     "status": "completed"
    },
    "tags": []
   },
   "outputs": [
    {
     "data": {
      "image/png": "[encoded data removed]",
      "text/plain": [
       "<Figure size 1000x360 with 1 Axes>"
      ]
     },
     "metadata": {},
     "output_type": "display_data"
    }
   ],
   "source": [
    "plot_weights(ridge_coeffs, \"Ridge Coefficients\")"
   ]
  },
  {
   "cell_type": "markdown",
   "id": "cf621314",
   "metadata": {
    "papermill": {
     "duration": 0.036806,
     "end_time": "2025-03-19T08:32:20.834918",
     "exception": false,
     "start_time": "2025-03-19T08:32:20.798112",
     "status": "completed"
    },
    "tags": []
   },
   "source": [
    "# Results"
   ]
  },
  {
   "cell_type": "code",
   "execution_count": 39,
   "id": "8e525326",
   "metadata": {
    "_kg_hide-input": false,
    "execution": {
     "iopub.execute_input": "2025-03-19T08:32:20.910201Z",
     "iopub.status.busy": "2025-03-19T08:32:20.909912Z",
     "iopub.status.idle": "2025-03-19T08:32:21.458298Z",
     "shell.execute_reply": "2025-03-19T08:32:21.457429Z"
    },
    "papermill": {
     "duration": 0.588247,
     "end_time": "2025-03-19T08:32:21.459816",
     "exception": false,
     "start_time": "2025-03-19T08:32:20.871569",
     "status": "completed"
    },
    "tags": []
   },
   "outputs": [
    {
     "data": {
      "image/png": "[encoded data removed]",
      "text/plain": [
       "<Figure size 1500x300 with 2 Axes>"
      ]
     },
     "metadata": {},
     "output_type": "display_data"
    }
   ],
   "source": [
    "scores_df = pd.DataFrame(scores)\n",
    "overall_scores_series = pd.Series({k: v for k, v in overall_scores.items()})\n",
    "order = overall_scores_series.sort_values(ascending=False).index.tolist()\n",
    "\n",
    "min_score = overall_scores_series.min()\n",
    "max_score = overall_scores_series.max()\n",
    "padding = (max_score - min_score) * 0.5\n",
    "lower_limit = min_score - padding\n",
    "upper_limit = max_score + padding\n",
    "\n",
    "fig, axs = plt.subplots(1, 2, figsize=(15, len(scores_df) * 0.3))\n",
    "\n",
    "sns.boxplot(data=scores_df, order=order, ax=axs[0], orient=\"h\", palette=\"RdYlGn_r\")\n",
    "axs[0].set_title(\"Fold ROC AUC\")\n",
    "axs[0].set_xlabel(\"\")\n",
    "axs[0].set_ylabel(\"\")\n",
    "\n",
    "barplot = sns.barplot(x=overall_scores_series, y=overall_scores_series.index, ax=axs[1], palette=\"RdYlGn_r\", order=order)\n",
    "axs[1].set_title(\"Overall ROC AUC\")\n",
    "axs[1].set_xlabel(\"\")\n",
    "axs[1].set_xlim(left=lower_limit, right=upper_limit)\n",
    "axs[1].set_ylabel(\"\")\n",
    "\n",
    "for i, score in enumerate(overall_scores_series[order]):\n",
    "    barplot.text(score, i, f\"{score:.6f}\", va=\"center\")\n",
    "\n",
    "plt.tight_layout()\n",
    "plt.show()"
   ]
  },
  {
   "cell_type": "code",
   "execution_count": 40,
   "id": "6ccb9820",
   "metadata": {
    "execution": {
     "iopub.execute_input": "2025-03-19T08:32:21.538873Z",
     "iopub.status.busy": "2025-03-19T08:32:21.538584Z",
     "iopub.status.idle": "2025-03-19T08:32:21.542660Z",
     "shell.execute_reply": "2025-03-19T08:32:21.541979Z"
    },
    "papermill": {
     "duration": 0.044534,
     "end_time": "2025-03-19T08:32:21.543802",
     "exception": false,
     "start_time": "2025-03-19T08:32:21.499268",
     "status": "completed"
    },
    "tags": []
   },
   "outputs": [],
   "source": [
    "shutil.rmtree(\"catboost_info\", ignore_errors=True)"
   ]
  }
 ],
 "metadata": {
  "kaggle": {
   "accelerator": "gpu",
   "dataSources": [
    {
     "databundleVersionId": 11251744,
     "sourceId": 91714,
     "sourceType": "competition"
    },
    {
     "datasetId": 5651545,
     "sourceId": 9328134,
     "sourceType": "datasetVersion"
    },
    {
     "datasetId": 6808865,
     "sourceId": 10950387,
     "sourceType": "datasetVersion"
    }
   ],
   "dockerImageVersionId": 30918,
   "isGpuEnabled": true,
   "isInternetEnabled": true,
   "language": "python",
   "sourceType": "notebook"
  },
  "kernelspec": {
   "display_name": "Python 3",
   "language": "python",
   "name": "python3"
  },
  "language_info": {
   "codemirror_mode": {
    "name": "ipython",
    "version": 3
   },
   "file_extension": ".py",
   "mimetype": "text/x-python",
   "name": "python",
   "nbconvert_exporter": "python",
   "pygments_lexer": "ipython3",
   "version": "3.10.12"
  },
  "papermill": {
   "default_parameters": {},
   "duration": 1422.325299,
   "end_time": "2025-03-19T08:32:23.707134",
   "environment_variables": {},
   "exception": null,
   "input_path": "__notebook__.ipynb",
   "output_path": "__notebook__.ipynb",
   "parameters": {},
   "start_time": "2025-03-19T08:08:41.381835",
   "version": "2.6.0"
  },
  "widgets": {
   "application/vnd.jupyter.widget-state+json": {
    "state": {
     "037e7e80499244aa9dbe0d8e4c0482cb": {
      "model_module": "@jupyter-widgets/controls",
      "model_module_version": "2.0.0",
      "model_name": "HTMLModel",
      "state": {
       "_dom_classes": [],
       "_model_module": "@jupyter-widgets/controls",
       "_model_module_version": "2.0.0",
       "_model_name": "HTMLModel",
       "_view_count": null,
       "_view_module": "@jupyter-widgets/controls",
       "_view_module_version": "2.0.0",
       "_view_name": "HTMLView",
       "description": "",
       "description_allow_html": false,
       "layout": "IPY_MODEL_b031105938a44688b30baf9f2c28e8de",
       "placeholder": "​",
       "style": "IPY_MODEL_7ef5de4fed824f8d9bdba0a87342668f",
       "tabbable": null,
       "tooltip": null,
       "value": " 37.0/37.0 [00:00&lt;00:00, 3.63kB/s]"
      }
     },
     "0a63158bcaa94f0494d3b26c10cf55ea": {
      "model_module": "@jupyter-widgets/base",
      "model_module_version": "2.0.0",
      "model_name": "LayoutModel",
      "state": {
       "_model_module": "@jupyter-widgets/base",
       "_model_module_version": "2.0.0",
       "_model_name": "LayoutModel",
       "_view_count": null,
       "_view_module": "@jupyter-widgets/base",
       "_view_module_version": "2.0.0",
       "_view_name": "LayoutView",
       "align_content": null,
       "align_items": null,
       "align_self": null,
       "border_bottom": null,
       "border_left": null,
       "border_right": null,
       "border_top": null,
       "bottom": null,
       "display": null,
       "flex": null,
       "flex_flow": null,
       "grid_area": null,
       "grid_auto_columns": null,
       "grid_auto_flow": null,
       "grid_auto_rows": null,
       "grid_column": null,
       "grid_gap": null,
       "grid_row": null,
       "grid_template_areas": null,
       "grid_template_columns": null,
       "grid_template_rows": null,
       "height": null,
       "justify_content": null,
       "justify_items": null,
       "left": null,
       "margin": null,
       "max_height": null,
       "max_width": null,
       "min_height": null,
       "min_width": null,
       "object_fit": null,
       "object_position": null,
       "order": null,
       "overflow": null,
       "padding": null,
       "right": null,
       "top": null,
       "visibility": null,
       "width": null
      }
     },
     "0adfc52042c44035b2f519478c21ae82": {
      "model_module": "@jupyter-widgets/controls",
      "model_module_version": "2.0.0",
      "model_name": "HTMLStyleModel",
      "state": {
       "_model_module": "@jupyter-widgets/controls",
       "_model_module_version": "2.0.0",
       "_model_name": "HTMLStyleModel",
       "_view_count": null,
       "_view_module": "@jupyter-widgets/base",
       "_view_module_version": "2.0.0",
       "_view_name": "StyleView",
       "background": null,
       "description_width": "",
       "font_size": null,
       "text_color": null
      }
     },
     "3cf127c37b664882bb09180f9abf6ed4": {
      "model_module": "@jupyter-widgets/controls",
      "model_module_version": "2.0.0",
      "model_name": "HTMLStyleModel",
      "state": {
       "_model_module": "@jupyter-widgets/controls",
       "_model_module_version": "2.0.0",
       "_model_name": "HTMLStyleModel",
       "_view_count": null,
       "_view_module": "@jupyter-widgets/base",
       "_view_module_version": "2.0.0",
       "_view_name": "StyleView",
       "background": null,
       "description_width": "",
       "font_size": null,
       "text_color": null
      }
     },
     "3feeb0e2ab734507b86802e34fce8f6d": {
      "model_module": "@jupyter-widgets/controls",
      "model_module_version": "2.0.0",
      "model_name": "HTMLModel",
      "state": {
       "_dom_classes": [],
       "_model_module": "@jupyter-widgets/controls",
       "_model_module_version": "2.0.0",
       "_model_name": "HTMLModel",
       "_view_count": null,
       "_view_module": "@jupyter-widgets/controls",
       "_view_module_version": "2.0.0",
       "_view_name": "HTMLView",
       "description": "",
       "description_allow_html": false,
       "layout": "IPY_MODEL_6a7a727bf0e04066b6eb5f39bf0ddb0b",
       "placeholder": "​",
       "style": "IPY_MODEL_3cf127c37b664882bb09180f9abf6ed4",
       "tabbable": null,
       "tooltip": null,
       "value": "config.json: 100%"
      }
     },
     "4631f05e1c994da78304dbd2cbf5608c": {
      "model_module": "@jupyter-widgets/base",
      "model_module_version": "2.0.0",
      "model_name": "LayoutModel",
      "state": {
       "_model_module": "@jupyter-widgets/base",
       "_model_module_version": "2.0.0",
       "_model_name": "LayoutModel",
       "_view_count": null,
       "_view_module": "@jupyter-widgets/base",
       "_view_module_version": "2.0.0",
       "_view_name": "LayoutView",
       "align_content": null,
       "align_items": null,
       "align_self": null,
       "border_bottom": null,
       "border_left": null,
       "border_right": null,
       "border_top": null,
       "bottom": null,
       "display": null,
       "flex": null,
       "flex_flow": null,
       "grid_area": null,
       "grid_auto_columns": null,
       "grid_auto_flow": null,
       "grid_auto_rows": null,
       "grid_column": null,
       "grid_gap": null,
       "grid_row": null,
       "grid_template_areas": null,
       "grid_template_columns": null,
       "grid_template_rows": null,
       "height": null,
       "justify_content": null,
       "justify_items": null,
       "left": null,
       "margin": null,
       "max_height": null,
       "max_width": null,
       "min_height": null,
       "min_width": null,
       "object_fit": null,
       "object_position": null,
       "order": null,
       "overflow": null,
       "padding": null,
       "right": null,
       "top": null,
       "visibility": null,
       "width": null
      }
     },
     "6a7a727bf0e04066b6eb5f39bf0ddb0b": {
      "model_module": "@jupyter-widgets/base",
      "model_module_version": "2.0.0",
      "model_name": "LayoutModel",
      "state": {
       "_model_module": "@jupyter-widgets/base",
       "_model_module_version": "2.0.0",
       "_model_name": "LayoutModel",
       "_view_count": null,
       "_view_module": "@jupyter-widgets/base",
       "_view_module_version": "2.0.0",
       "_view_name": "LayoutView",
       "align_content": null,
       "align_items": null,
       "align_self": null,
       "border_bottom": null,
       "border_left": null,
       "border_right": null,
       "border_top": null,
       "bottom": null,
       "display": null,
       "flex": null,
       "flex_flow": null,
       "grid_area": null,
       "grid_auto_columns": null,
       "grid_auto_flow": null,
       "grid_auto_rows": null,
       "grid_column": null,
       "grid_gap": null,
       "grid_row": null,
       "grid_template_areas": null,
       "grid_template_columns": null,
       "grid_template_rows": null,
       "height": null,
       "justify_content": null,
       "justify_items": null,
       "left": null,
       "margin": null,
       "max_height": null,
       "max_width": null,
       "min_height": null,
       "min_width": null,
       "object_fit": null,
       "object_position": null,
       "order": null,
       "overflow": null,
       "padding": null,
       "right": null,
       "top": null,
       "visibility": null,
       "width": null
      }
     },
     "7ef5de4fed824f8d9bdba0a87342668f": {
      "model_module": "@jupyter-widgets/controls",
      "model_module_version": "2.0.0",
      "model_name": "HTMLStyleModel",
      "state": {
       "_model_module": "@jupyter-widgets/controls",
       "_model_module_version": "2.0.0",
       "_model_name": "HTMLStyleModel",
       "_view_count": null,
       "_view_module": "@jupyter-widgets/base",
       "_view_module_version": "2.0.0",
       "_view_name": "StyleView",
       "background": null,
       "description_width": "",
       "font_size": null,
       "text_color": null
      }
     },
     "801544f414d741618327d7d88b3e5b61": {
      "model_module": "@jupyter-widgets/controls",
      "model_module_version": "2.0.0",
      "model_name": "HTMLModel",
      "state": {
       "_dom_classes": [],
       "_model_module": "@jupyter-widgets/controls",
       "_model_module_version": "2.0.0",
       "_model_name": "HTMLModel",
       "_view_count": null,
       "_view_module": "@jupyter-widgets/controls",
       "_view_module_version": "2.0.0",
       "_view_name": "HTMLView",
       "description": "",
       "description_allow_html": false,
       "layout": "IPY_MODEL_a41349ee595e40fb8a5d04d0e6e0a0d5",
       "placeholder": "​",
       "style": "IPY_MODEL_d8aaae3b0afb487c9ae35aa7095b250d",
       "tabbable": null,
       "tooltip": null,
       "value": "tabpfn-v2-classifier.ckpt: 100%"
      }
     },
     "89ef10aa93974011a7b12a7a2857cd41": {
      "model_module": "@jupyter-widgets/controls",
      "model_module_version": "2.0.0",
      "model_name": "HBoxModel",
      "state": {
       "_dom_classes": [],
       "_model_module": "@jupyter-widgets/controls",
       "_model_module_version": "2.0.0",
       "_model_name": "HBoxModel",
       "_view_count": null,
       "_view_module": "@jupyter-widgets/controls",
       "_view_module_version": "2.0.0",
       "_view_name": "HBoxView",
       "box_style": "",
       "children": [
        "IPY_MODEL_801544f414d741618327d7d88b3e5b61",
        "IPY_MODEL_e305e1e8931b4b9b99e44463bfa7a74b",
        "IPY_MODEL_9f46f27618ec41f9ae4ee09f69b363b8"
       ],
       "layout": "IPY_MODEL_c355c071095d43a395f0ef71ffec3e6b",
       "tabbable": null,
       "tooltip": null
      }
     },
     "8a1a04801a5a4b87afddd2e0b4287998": {
      "model_module": "@jupyter-widgets/controls",
      "model_module_version": "2.0.0",
      "model_name": "FloatProgressModel",
      "state": {
       "_dom_classes": [],
       "_model_module": "@jupyter-widgets/controls",
       "_model_module_version": "2.0.0",
       "_model_name": "FloatProgressModel",
       "_view_count": null,
       "_view_module": "@jupyter-widgets/controls",
       "_view_module_version": "2.0.0",
       "_view_name": "ProgressView",
       "bar_style": "success",
       "description": "",
       "description_allow_html": false,
       "layout": "IPY_MODEL_4631f05e1c994da78304dbd2cbf5608c",
       "max": 37.0,
       "min": 0.0,
       "orientation": "horizontal",
       "style": "IPY_MODEL_97b4031350144c8784ea31d8aedabdeb",
       "tabbable": null,
       "tooltip": null,
       "value": 37.0
      }
     },
     "97b4031350144c8784ea31d8aedabdeb": {
      "model_module": "@jupyter-widgets/controls",
      "model_module_version": "2.0.0",
      "model_name": "ProgressStyleModel",
      "state": {
       "_model_module": "@jupyter-widgets/controls",
       "_model_module_version": "2.0.0",
       "_model_name": "ProgressStyleModel",
       "_view_count": null,
       "_view_module": "@jupyter-widgets/base",
       "_view_module_version": "2.0.0",
       "_view_name": "StyleView",
       "bar_color": null,
       "description_width": ""
      }
     },
     "9cf6399804e24f0fbbf12f842b2dc6eb": {
      "model_module": "@jupyter-widgets/base",
      "model_module_version": "2.0.0",
      "model_name": "LayoutModel",
      "state": {
       "_model_module": "@jupyter-widgets/base",
       "_model_module_version": "2.0.0",
       "_model_name": "LayoutModel",
       "_view_count": null,
       "_view_module": "@jupyter-widgets/base",
       "_view_module_version": "2.0.0",
       "_view_name": "LayoutView",
       "align_content": null,
       "align_items": null,
       "align_self": null,
       "border_bottom": null,
       "border_left": null,
       "border_right": null,
       "border_top": null,
       "bottom": null,
       "display": null,
       "flex": null,
       "flex_flow": null,
       "grid_area": null,
       "grid_auto_columns": null,
       "grid_auto_flow": null,
       "grid_auto_rows": null,
       "grid_column": null,
       "grid_gap": null,
       "grid_row": null,
       "grid_template_areas": null,
       "grid_template_columns": null,
       "grid_template_rows": null,
       "height": null,
       "justify_content": null,
       "justify_items": null,
       "left": null,
       "margin": null,
       "max_height": null,
       "max_width": null,
       "min_height": null,
       "min_width": null,
       "object_fit": null,
       "object_position": null,
       "order": null,
       "overflow": null,
       "padding": null,
       "right": null,
       "top": null,
       "visibility": null,
       "width": null
      }
     },
     "9f46f27618ec41f9ae4ee09f69b363b8": {
      "model_module": "@jupyter-widgets/controls",
      "model_module_version": "2.0.0",
      "model_name": "HTMLModel",
      "state": {
       "_dom_classes": [],
       "_model_module": "@jupyter-widgets/controls",
       "_model_module_version": "2.0.0",
       "_model_name": "HTMLModel",
       "_view_count": null,
       "_view_module": "@jupyter-widgets/controls",
       "_view_module_version": "2.0.0",
       "_view_name": "HTMLView",
       "description": "",
       "description_allow_html": false,
       "layout": "IPY_MODEL_0a63158bcaa94f0494d3b26c10cf55ea",
       "placeholder": "​",
       "style": "IPY_MODEL_0adfc52042c44035b2f519478c21ae82",
       "tabbable": null,
       "tooltip": null,
       "value": " 29.0M/29.0M [00:00&lt;00:00, 168MB/s]"
      }
     },
     "a41349ee595e40fb8a5d04d0e6e0a0d5": {
      "model_module": "@jupyter-widgets/base",
      "model_module_version": "2.0.0",
      "model_name": "LayoutModel",
      "state": {
       "_model_module": "@jupyter-widgets/base",
       "_model_module_version": "2.0.0",
       "_model_name": "LayoutModel",
       "_view_count": null,
       "_view_module": "@jupyter-widgets/base",
       "_view_module_version": "2.0.0",
       "_view_name": "LayoutView",
       "align_content": null,
       "align_items": null,
       "align_self": null,
       "border_bottom": null,
       "border_left": null,
       "border_right": null,
       "border_top": null,
       "bottom": null,
       "display": null,
       "flex": null,
       "flex_flow": null,
       "grid_area": null,
       "grid_auto_columns": null,
       "grid_auto_flow": null,
       "grid_auto_rows": null,
       "grid_column": null,
       "grid_gap": null,
       "grid_row": null,
       "grid_template_areas": null,
       "grid_template_columns": null,
       "grid_template_rows": null,
       "height": null,
       "justify_content": null,
       "justify_items": null,
       "left": null,
       "margin": null,
       "max_height": null,
       "max_width": null,
       "min_height": null,
       "min_width": null,
       "object_fit": null,
       "object_position": null,
       "order": null,
       "overflow": null,
       "padding": null,
       "right": null,
       "top": null,
       "visibility": null,
       "width": null
      }
     },
     "b031105938a44688b30baf9f2c28e8de": {
      "model_module": "@jupyter-widgets/base",
      "model_module_version": "2.0.0",
      "model_name": "LayoutModel",
      "state": {
       "_model_module": "@jupyter-widgets/base",
       "_model_module_version": "2.0.0",
       "_model_name": "LayoutModel",
       "_view_count": null,
       "_view_module": "@jupyter-widgets/base",
       "_view_module_version": "2.0.0",
       "_view_name": "LayoutView",
       "align_content": null,
       "align_items": null,
       "align_self": null,
       "border_bottom": null,
       "border_left": null,
       "border_right": null,
       "border_top": null,
       "bottom": null,
       "display": null,
       "flex": null,
       "flex_flow": null,
       "grid_area": null,
       "grid_auto_columns": null,
       "grid_auto_flow": null,
       "grid_auto_rows": null,
       "grid_column": null,
       "grid_gap": null,
       "grid_row": null,
       "grid_template_areas": null,
       "grid_template_columns": null,
       "grid_template_rows": null,
       "height": null,
       "justify_content": null,
       "justify_items": null,
       "left": null,
       "margin": null,
       "max_height": null,
       "max_width": null,
       "min_height": null,
       "min_width": null,
       "object_fit": null,
       "object_position": null,
       "order": null,
       "overflow": null,
       "padding": null,
       "right": null,
       "top": null,
       "visibility": null,
       "width": null
      }
     },
     "c355c071095d43a395f0ef71ffec3e6b": {
      "model_module": "@jupyter-widgets/base",
      "model_module_version": "2.0.0",
      "model_name": "LayoutModel",
      "state": {
       "_model_module": "@jupyter-widgets/base",
       "_model_module_version": "2.0.0",
       "_model_name": "LayoutModel",
       "_view_count": null,
       "_view_module": "@jupyter-widgets/base",
       "_view_module_version": "2.0.0",
       "_view_name": "LayoutView",
       "align_content": null,
       "align_items": null,
       "align_self": null,
       "border_bottom": null,
       "border_left": null,
       "border_right": null,
       "border_top": null,
       "bottom": null,
       "display": null,
       "flex": null,
       "flex_flow": null,
       "grid_area": null,
       "grid_auto_columns": null,
       "grid_auto_flow": null,
       "grid_auto_rows": null,
       "grid_column": null,
       "grid_gap": null,
       "grid_row": null,
       "grid_template_areas": null,
       "grid_template_columns": null,
       "grid_template_rows": null,
       "height": null,
       "justify_content": null,
       "justify_items": null,
       "left": null,
       "margin": null,
       "max_height": null,
       "max_width": null,
       "min_height": null,
       "min_width": null,
       "object_fit": null,
       "object_position": null,
       "order": null,
       "overflow": null,
       "padding": null,
       "right": null,
       "top": null,
       "visibility": null,
       "width": null
      }
     },
     "d0ee8461ed524c49a1728b6cc2645ab9": {
      "model_module": "@jupyter-widgets/controls",
      "model_module_version": "2.0.0",
      "model_name": "HBoxModel",
      "state": {
       "_dom_classes": [],
       "_model_module": "@jupyter-widgets/controls",
       "_model_module_version": "2.0.0",
       "_model_name": "HBoxModel",
       "_view_count": null,
       "_view_module": "@jupyter-widgets/controls",
       "_view_module_version": "2.0.0",
       "_view_name": "HBoxView",
       "box_style": "",
       "children": [
        "IPY_MODEL_3feeb0e2ab734507b86802e34fce8f6d",
        "IPY_MODEL_8a1a04801a5a4b87afddd2e0b4287998",
        "IPY_MODEL_037e7e80499244aa9dbe0d8e4c0482cb"
       ],
       "layout": "IPY_MODEL_9cf6399804e24f0fbbf12f842b2dc6eb",
       "tabbable": null,
       "tooltip": null
      }
     },
     "d8aaae3b0afb487c9ae35aa7095b250d": {
      "model_module": "@jupyter-widgets/controls",
      "model_module_version": "2.0.0",
      "model_name": "HTMLStyleModel",
      "state": {
       "_model_module": "@jupyter-widgets/controls",
       "_model_module_version": "2.0.0",
       "_model_name": "HTMLStyleModel",
       "_view_count": null,
       "_view_module": "@jupyter-widgets/base",
       "_view_module_version": "2.0.0",
       "_view_name": "StyleView",
       "background": null,
       "description_width": "",
       "font_size": null,
       "text_color": null
      }
     },
     "e305e1e8931b4b9b99e44463bfa7a74b": {
      "model_module": "@jupyter-widgets/controls",
      "model_module_version": "2.0.0",
      "model_name": "FloatProgressModel",
      "state": {
       "_dom_classes": [],
       "_model_module": "@jupyter-widgets/controls",
       "_model_module_version": "2.0.0",
       "_model_name": "FloatProgressModel",
       "_view_count": null,
       "_view_module": "@jupyter-widgets/controls",
       "_view_module_version": "2.0.0",
       "_view_name": "ProgressView",
       "bar_style": "success",
       "description": "",
       "description_allow_html": false,
       "layout": "IPY_MODEL_fd72aca8ff6d4f2ebebf09e3895e3282",
       "max": 29016968.0,
       "min": 0.0,
       "orientation": "horizontal",
       "style": "IPY_MODEL_ebf343bdb0ad4ad2b0c44b9e9b150164",
       "tabbable": null,
       "tooltip": null,
       "value": 29016968.0
      }
     },
     "ebf343bdb0ad4ad2b0c44b9e9b150164": {
      "model_module": "@jupyter-widgets/controls",
      "model_module_version": "2.0.0",
      "model_name": "ProgressStyleModel",
      "state": {
       "_model_module": "@jupyter-widgets/controls",
       "_model_module_version": "2.0.0",
       "_model_name": "ProgressStyleModel",
       "_view_count": null,
       "_view_module": "@jupyter-widgets/base",
       "_view_module_version": "2.0.0",
       "_view_name": "StyleView",
       "bar_color": null,
       "description_width": ""
      }
     },
     "fd72aca8ff6d4f2ebebf09e3895e3282": {
      "model_module": "@jupyter-widgets/base",
      "model_module_version": "2.0.0",
      "model_name": "LayoutModel",
      "state": {
       "_model_module": "@jupyter-widgets/base",
       "_model_module_version": "2.0.0",
       "_model_name": "LayoutModel",
       "_view_count": null,
       "_view_module": "@jupyter-widgets/base",
       "_view_module_version": "2.0.0",
       "_view_name": "LayoutView",
       "align_content": null,
       "align_items": null,
       "align_self": null,
       "border_bottom": null,
       "border_left": null,
       "border_right": null,
       "border_top": null,
       "bottom": null,
       "display": null,
       "flex": null,
       "flex_flow": null,
       "grid_area": null,
       "grid_auto_columns": null,
       "grid_auto_flow": null,
       "grid_auto_rows": null,
       "grid_column": null,
       "grid_gap": null,
       "grid_row": null,
       "grid_template_areas": null,
       "grid_template_columns": null,
       "grid_template_rows": null,
       "height": null,
       "justify_content": null,
       "justify_items": null,
       "left": null,
       "margin": null,
       "max_height": null,
       "max_width": null,
       "min_height": null,
       "min_width": null,
       "object_fit": null,
       "object_position": null,
       "order": null,
       "overflow": null,
       "padding": null,
       "right": null,
       "top": null,
       "visibility": null,
       "width": null
      }
     }
    },
    "version_major": 2,
    "version_minor": 0
   }
  }
 },
 "nbformat": 4,
 "nbformat_minor": 5
}
