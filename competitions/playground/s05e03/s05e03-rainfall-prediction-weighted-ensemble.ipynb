{
 "cells": [
  {
   "cell_type": "markdown",
   "id": "6d988400",
   "metadata": {
    "papermill": {
     "duration": 0.006948,
     "end_time": "2025-03-10T14:41:04.803125",
     "exception": false,
     "start_time": "2025-03-10T14:41:04.796177",
     "status": "completed"
    },
    "tags": []
   },
   "source": [
    "# Imports and configs"
   ]
  },
  {
   "cell_type": "code",
   "execution_count": 1,
   "id": "1b680fd9",
   "metadata": {
    "execution": {
     "iopub.execute_input": "2025-03-10T14:41:04.817082Z",
     "iopub.status.busy": "2025-03-10T14:41:04.816710Z",
     "iopub.status.idle": "2025-03-10T14:41:19.929033Z",
     "shell.execute_reply": "2025-03-10T14:41:19.928167Z"
    },
    "papermill": {
     "duration": 15.121013,
     "end_time": "2025-03-10T14:41:19.930823",
     "exception": false,
     "start_time": "2025-03-10T14:41:04.809810",
     "status": "completed"
    },
    "tags": []
   },
   "outputs": [],
   "source": [
    "from sklearn.ensemble import RandomForestClassifier, ExtraTreesClassifier, HistGradientBoostingClassifier, GradientBoostingClassifier, AdaBoostClassifier\n",
    "from sklearn.linear_model import LogisticRegression, Ridge\n",
    "from sklearn.model_selection import StratifiedKFold\n",
    "from sklearn.metrics import roc_auc_score\n",
    "from sklearn.base import clone\n",
    "from autogluon.tabular import TabularPredictor\n",
    "from catboost import CatBoostClassifier\n",
    "from lightgbm import LGBMClassifier\n",
    "from tabpfn import TabPFNClassifier\n",
    "from xgboost import XGBClassifier\n",
    "from scipy.special import logit\n",
    "import matplotlib.pyplot as plt\n",
    "import seaborn as sns\n",
    "import pandas as pd\n",
    "import numpy as np\n",
    "import warnings\n",
    "import pickle\n",
    "import shutil\n",
    "import optuna\n",
    "import glob\n",
    "import json\n",
    "import os\n",
    "import gc\n",
    "\n",
    "warnings.filterwarnings(\"ignore\")"
   ]
  },
  {
   "cell_type": "code",
   "execution_count": 2,
   "id": "7cd5c4a5",
   "metadata": {
    "execution": {
     "iopub.execute_input": "2025-03-10T14:41:19.944785Z",
     "iopub.status.busy": "2025-03-10T14:41:19.944104Z",
     "iopub.status.idle": "2025-03-10T14:41:19.948621Z",
     "shell.execute_reply": "2025-03-10T14:41:19.947723Z"
    },
    "papermill": {
     "duration": 0.012935,
     "end_time": "2025-03-10T14:41:19.950201",
     "exception": false,
     "start_time": "2025-03-10T14:41:19.937266",
     "status": "completed"
    },
    "tags": []
   },
   "outputs": [],
   "source": [
    "class CFG:\n",
    "    train_path = \"/kaggle/input/playground-series-s5e3/train.csv\"\n",
    "    test_path = \"/kaggle/input/playground-series-s5e3/test.csv\"\n",
    "    sample_sub_path = \"/kaggle/input/playground-series-s5e3/sample_submission.csv\"\n",
    "    \n",
    "    target = \"rainfall\"\n",
    "    n_folds = 5\n",
    "    seed = 42\n",
    "    \n",
    "    run_optuna = True\n",
    "    optuna_trials = 250"
   ]
  },
  {
   "cell_type": "markdown",
   "id": "dd9da4ce",
   "metadata": {
    "papermill": {
     "duration": 0.005657,
     "end_time": "2025-03-10T14:41:19.962104",
     "exception": false,
     "start_time": "2025-03-10T14:41:19.956447",
     "status": "completed"
    },
    "tags": []
   },
   "source": [
    "# Data loading and preprocessing"
   ]
  },
  {
   "cell_type": "code",
   "execution_count": 3,
   "id": "5cfabe0b",
   "metadata": {
    "execution": {
     "iopub.execute_input": "2025-03-10T14:41:19.975056Z",
     "iopub.status.busy": "2025-03-10T14:41:19.974722Z",
     "iopub.status.idle": "2025-03-10T14:41:20.015715Z",
     "shell.execute_reply": "2025-03-10T14:41:20.014908Z"
    },
    "papermill": {
     "duration": 0.04939,
     "end_time": "2025-03-10T14:41:20.017409",
     "exception": false,
     "start_time": "2025-03-10T14:41:19.968019",
     "status": "completed"
    },
    "tags": []
   },
   "outputs": [],
   "source": [
    "train = pd.read_csv(CFG.train_path, index_col=\"id\")\n",
    "test = pd.read_csv(CFG.test_path, index_col=\"id\")\n",
    "\n",
    "test[\"winddirection\"] = test[\"winddirection\"].fillna(test[\"winddirection\"].median())"
   ]
  },
  {
   "cell_type": "code",
   "execution_count": 4,
   "id": "b2c00cb4",
   "metadata": {
    "execution": {
     "iopub.execute_input": "2025-03-10T14:41:20.031147Z",
     "iopub.status.busy": "2025-03-10T14:41:20.030806Z",
     "iopub.status.idle": "2025-03-10T14:41:20.037842Z",
     "shell.execute_reply": "2025-03-10T14:41:20.037019Z"
    },
    "papermill": {
     "duration": 0.015536,
     "end_time": "2025-03-10T14:41:20.039422",
     "exception": false,
     "start_time": "2025-03-10T14:41:20.023886",
     "status": "completed"
    },
    "tags": []
   },
   "outputs": [],
   "source": [
    "X = train.drop(CFG.target, axis=1)\n",
    "y = train[CFG.target]\n",
    "X_test = test.copy()"
   ]
  },
  {
   "cell_type": "markdown",
   "id": "80519b7a",
   "metadata": {
    "papermill": {
     "duration": 0.006106,
     "end_time": "2025-03-10T14:41:20.052020",
     "exception": false,
     "start_time": "2025-03-10T14:41:20.045914",
     "status": "completed"
    },
    "tags": []
   },
   "source": [
    "# Training base models"
   ]
  },
  {
   "cell_type": "code",
   "execution_count": 5,
   "id": "f2fea054",
   "metadata": {
    "execution": {
     "iopub.execute_input": "2025-03-10T14:41:20.065239Z",
     "iopub.status.busy": "2025-03-10T14:41:20.064934Z",
     "iopub.status.idle": "2025-03-10T14:41:20.080036Z",
     "shell.execute_reply": "2025-03-10T14:41:20.079189Z"
    },
    "papermill": {
     "duration": 0.023324,
     "end_time": "2025-03-10T14:41:20.081478",
     "exception": false,
     "start_time": "2025-03-10T14:41:20.058154",
     "status": "completed"
    },
    "tags": []
   },
   "outputs": [],
   "source": [
    "class Trainer:\n",
    "    def __init__(self, model, config=CFG, is_ensemble_model=False):\n",
    "        self.model = model\n",
    "        self.config = config\n",
    "        self.is_ensemble_model = is_ensemble_model\n",
    "\n",
    "    def fit_predict(self, X, y, X_test, X_original=None, y_original=None):\n",
    "        print(f\"Training {self.model.__class__.__name__}\\n\")\n",
    "        \n",
    "        scores = []        \n",
    "        coeffs = np.zeros((1, X.shape[1]))\n",
    "        oof_pred_probs = np.zeros(X.shape[0])\n",
    "        test_pred_probs = np.zeros(X_test.shape[0])\n",
    "        \n",
    "        skf = StratifiedKFold(n_splits=self.config.n_folds, random_state=self.config.seed, shuffle=True)\n",
    "        for fold_idx, (train_idx, val_idx) in enumerate(skf.split(X, y)):\n",
    "            X_train, X_val = X.iloc[train_idx], X.iloc[val_idx]\n",
    "            y_train, y_val = y[train_idx], y[val_idx]\n",
    "            \n",
    "            if X_original is not None and y_original is not None:                            \n",
    "                X_train = pd.concat([X_train, X_original], ignore_index=True)\n",
    "                y_train = pd.concat([y_train, y_original], ignore_index=True)\n",
    "            \n",
    "            model = clone(self.model)\n",
    "            model.fit(X_train, y_train)\n",
    "            \n",
    "            if self.is_ensemble_model:\n",
    "                coeffs += model.coef_ / self.config.n_folds\n",
    "                if isinstance(self.model, LogisticRegression):\n",
    "                    n_iters = model.n_iter_[0]\n",
    "            \n",
    "            y_pred_probs = model.predict(X_val) if isinstance(self.model, Ridge) else model.predict_proba(X_val)[: ,1]\n",
    "            oof_pred_probs[val_idx] = y_pred_probs \n",
    "            \n",
    "            temp_test_pred_probs = model.predict(X_test) if isinstance(self.model, Ridge) else model.predict_proba(X_test)[:, 1]\n",
    "            test_pred_probs += temp_test_pred_probs / self.config.n_folds\n",
    "            \n",
    "            score = roc_auc_score(y_val, y_pred_probs)\n",
    "            scores.append(score)\n",
    "            \n",
    "            del model, X_train, y_train, X_val, y_val, y_pred_probs\n",
    "            gc.collect()\n",
    "            \n",
    "            if self.is_ensemble_model and isinstance(self.model, LogisticRegression):\n",
    "                print(f\"--- Fold {fold_idx + 1} - ROC AUC: {score:.6f} ({n_iters} iterations)\")\n",
    "            else:\n",
    "                print(f\"--- Fold {fold_idx + 1} - ROC AUC: {score:.6f}\")\n",
    "            \n",
    "        overall_score = roc_auc_score(y, oof_pred_probs)\n",
    "            \n",
    "        print(f\"\\n------ Overall: {overall_score:.6f} | Average: {np.mean(scores):.6f} ± {np.std(scores):.6f}\")\n",
    "        \n",
    "        if self.is_ensemble_model:\n",
    "            return oof_pred_probs, test_pred_probs, scores, coeffs\n",
    "        else:\n",
    "            os.makedirs(\"oof_pred_probs\", exist_ok=True)\n",
    "            os.makedirs(\"test_pred_probs\", exist_ok=True)\n",
    "            self._save_pred_probs(oof_pred_probs, np.mean(scores), \"oof\")\n",
    "            self._save_pred_probs(test_pred_probs, np.mean(scores), \"test\")\n",
    "            return oof_pred_probs, test_pred_probs, scores\n",
    "        \n",
    "    def tune(self, X, y):        \n",
    "        scores = []        \n",
    "        skf = StratifiedKFold(n_splits=self.config.n_folds, random_state=self.config.seed, shuffle=True)\n",
    "        for fold_idx, (train_idx, val_idx) in enumerate(skf.split(X, y)):\n",
    "            X_train, X_val = X.iloc[train_idx], X.iloc[val_idx]\n",
    "            y_train, y_val = y[train_idx], y[val_idx]\n",
    "            \n",
    "            model = clone(self.model)\n",
    "            model.fit(X_train, y_train)\n",
    "            \n",
    "            y_pred_probs = model.predict(X_val) if isinstance(self.model, Ridge) else model.predict_proba(X_val)[: ,1]\n",
    "            score = roc_auc_score(y_val, y_pred_probs)\n",
    "            scores.append(score)\n",
    "            \n",
    "            del model, X_train, y_train, X_val, y_val, y_pred_probs\n",
    "            gc.collect()\n",
    "            \n",
    "        return np.mean(scores)\n",
    "        \n",
    "    def _save_pred_probs(self, pred_probs, cv_score, name):\n",
    "        model_name = self.model.__class__.__name__.lower().replace(\"classifier\", \"\")\n",
    "        with open(f\"{name}_pred_probs/{model_name}_{name}_pred_probs_{cv_score:.6f}.pkl\", \"wb\") as f:\n",
    "            pickle.dump(pred_probs, f)"
   ]
  },
  {
   "cell_type": "code",
   "execution_count": 6,
   "id": "3ffa9c43",
   "metadata": {
    "execution": {
     "iopub.execute_input": "2025-03-10T14:41:20.095099Z",
     "iopub.status.busy": "2025-03-10T14:41:20.094800Z",
     "iopub.status.idle": "2025-03-10T14:41:20.098837Z",
     "shell.execute_reply": "2025-03-10T14:41:20.098044Z"
    },
    "papermill": {
     "duration": 0.012514,
     "end_time": "2025-03-10T14:41:20.100228",
     "exception": false,
     "start_time": "2025-03-10T14:41:20.087714",
     "status": "completed"
    },
    "tags": []
   },
   "outputs": [],
   "source": [
    "def save_submission(name, test_pred_probs, score):\n",
    "    sub = pd.read_csv(CFG.sample_sub_path)\n",
    "    sub[CFG.target] = test_pred_probs\n",
    "    sub.to_csv(f\"sub_{name}_{score:.6f}.csv\", index=False)\n",
    "    return sub.head()"
   ]
  },
  {
   "cell_type": "code",
   "execution_count": 7,
   "id": "4b88af07",
   "metadata": {
    "execution": {
     "iopub.execute_input": "2025-03-10T14:41:20.113940Z",
     "iopub.status.busy": "2025-03-10T14:41:20.113620Z",
     "iopub.status.idle": "2025-03-10T14:41:20.117173Z",
     "shell.execute_reply": "2025-03-10T14:41:20.116416Z"
    },
    "papermill": {
     "duration": 0.01197,
     "end_time": "2025-03-10T14:41:20.118452",
     "exception": false,
     "start_time": "2025-03-10T14:41:20.106482",
     "status": "completed"
    },
    "tags": []
   },
   "outputs": [],
   "source": [
    "scores = {}\n",
    "oof_pred_probs = {}\n",
    "test_pred_probs = {}"
   ]
  },
  {
   "cell_type": "code",
   "execution_count": 8,
   "id": "4b0e06ae",
   "metadata": {
    "_kg_hide-input": true,
    "execution": {
     "iopub.execute_input": "2025-03-10T14:41:20.132245Z",
     "iopub.status.busy": "2025-03-10T14:41:20.131943Z",
     "iopub.status.idle": "2025-03-10T14:41:20.140849Z",
     "shell.execute_reply": "2025-03-10T14:41:20.140054Z"
    },
    "papermill": {
     "duration": 0.017334,
     "end_time": "2025-03-10T14:41:20.142270",
     "exception": false,
     "start_time": "2025-03-10T14:41:20.124936",
     "status": "completed"
    },
    "tags": []
   },
   "outputs": [],
   "source": [
    "xgb_params = {\n",
    "    \"colsample_bylevel\": 0.5759002656759072,\n",
    "    \"colsample_bynode\": 0.42460592745733416,\n",
    "    \"colsample_bytree\": 0.6681903658062955,\n",
    "    \"gamma\": 1.6606282492625313,\n",
    "    \"learning_rate\": 0.05197817807184489,\n",
    "    \"max_depth\": 177,\n",
    "    \"max_leaves\": 208,\n",
    "    \"min_child_weight\": 3,\n",
    "    \"n_estimators\": 3373,\n",
    "    \"n_jobs\": -1,\n",
    "    \"random_state\": 42,\n",
    "    \"reg_alpha\": 3.647027988459395,\n",
    "    \"reg_lambda\": 9.48338781598732,\n",
    "    \"subsample\": 0.903408474763426,\n",
    "    \"verbosity\": 0\n",
    "}\n",
    "\n",
    "lgbm_params = {\n",
    "    \"boosting_type\": \"gbdt\",\n",
    "    \"colsample_bytree\": 0.8476377775404691,\n",
    "    \"learning_rate\": 0.05535905415032254,\n",
    "    \"min_child_samples\": 94,\n",
    "    \"min_child_weight\": 0.7742412548324099,\n",
    "    \"n_estimators\": 293,\n",
    "    \"n_jobs\": -1,\n",
    "    \"num_leaves\": 409,\n",
    "    \"random_state\": 42,\n",
    "    \"reg_alpha\": 10.371296888060456,\n",
    "    \"reg_lambda\": 28.33161504781989,\n",
    "    \"subsample\": 0.28341373258437474,\n",
    "    \"verbose\": -1\n",
    "}\n",
    "\n",
    "lgbm_goss_params = {\n",
    "    \"boosting_type\": \"goss\",\n",
    "    \"colsample_bytree\": 0.8208408104268429,\n",
    "    \"learning_rate\": 0.04530694055021972,\n",
    "    \"min_child_samples\": 53,\n",
    "    \"min_child_weight\": 0.9986857129449946,\n",
    "    \"n_estimators\": 260,\n",
    "    \"n_jobs\": -1,\n",
    "    \"num_leaves\": 20,\n",
    "    \"random_state\": 42,\n",
    "    \"reg_alpha\": 2.522154852594183,\n",
    "    \"reg_lambda\": 72.61906225209607,\n",
    "    \"subsample\": 0.8052111283468785,\n",
    "    \"verbose\": -1\n",
    "}\n",
    "\n",
    "cb_params = {\n",
    "    \"border_count\": 181,\n",
    "    \"colsample_bylevel\": 0.5017762060861627,\n",
    "    \"depth\": 5,\n",
    "    \"iterations\": 417,\n",
    "    \"l2_leaf_reg\": 97.619408459123,\n",
    "    \"learning_rate\": 0.015603843064139295,\n",
    "    \"min_child_samples\": 438,\n",
    "    \"random_state\": 42,\n",
    "    \"random_strength\": 0.973489470246637,\n",
    "    \"subsample\": 0.2777982603536663,\n",
    "    \"verbose\": False\n",
    "}\n",
    "\n",
    "adb_params = {\n",
    "    \"learning_rate\": 0.02849860787991116,\n",
    "    \"n_estimators\": 421,\n",
    "    \"random_state\": 42\n",
    "}\n",
    "\n",
    "rf_params = {\n",
    "    \"min_samples_leaf\": 10,\n",
    "    \"min_samples_split\": 3,\n",
    "    \"n_estimators\": 248,\n",
    "    \"n_jobs\": -1,\n",
    "    \"random_state\": 42\n",
    "}\n",
    "\n",
    "et_params = {\n",
    "    \"class_weight\": None,\n",
    "    \"criterion\": \"entropy\",\n",
    "    \"min_samples_leaf\": 3,\n",
    "    \"min_samples_split\": 69,\n",
    "    \"n_estimators\": 1199,\n",
    "    \"random_state\": 42\n",
    "}\n",
    "\n",
    "histgb_params = {\n",
    "    \"l2_regularization\": 99.57362071334332,\n",
    "    \"learning_rate\": 0.08951727018193958,\n",
    "    \"max_depth\": 325,\n",
    "    \"max_iter\": 101,\n",
    "    \"max_leaf_nodes\": 238,\n",
    "    \"min_samples_leaf\": 80,\n",
    "    \"random_state\": 42\n",
    "}\n",
    "\n",
    "gb_params = {\n",
    "    \"learning_rate\": 0.014719110111196282,\n",
    "    \"max_depth\": 42,\n",
    "    \"max_features\": 0.785890517657601,\n",
    "    \"max_leaf_nodes\": 41,\n",
    "    \"min_samples_leaf\": 0.004529940310436742,\n",
    "    \"min_samples_split\": 0.01824257250689731,\n",
    "    \"min_weight_fraction_leaf\": 0.07901583438561444,\n",
    "    \"n_estimators\": 193,\n",
    "    \"random_state\": 42,\n",
    "    \"subsample\": 0.5689877287369915\n",
    "}\n",
    "\n",
    "lr_params = {\n",
    "  \"random_state\": 42,\n",
    "  \"max_iter\": 500,\n",
    "  \"C\": 32.07196413616409,\n",
    "  \"tol\": 0.004832450591427355,\n",
    "  \"fit_intercept\": True,\n",
    "  \"class_weight\": None,\n",
    "  \"solver\": \"newton-cholesky\",\n",
    "  \"penalty\": None\n",
    "}"
   ]
  },
  {
   "cell_type": "code",
   "execution_count": 9,
   "id": "d6ebec58",
   "metadata": {
    "execution": {
     "iopub.execute_input": "2025-03-10T14:41:20.156353Z",
     "iopub.status.busy": "2025-03-10T14:41:20.156035Z",
     "iopub.status.idle": "2025-03-10T14:41:24.274523Z",
     "shell.execute_reply": "2025-03-10T14:41:24.273619Z"
    },
    "papermill": {
     "duration": 4.127443,
     "end_time": "2025-03-10T14:41:24.276172",
     "exception": false,
     "start_time": "2025-03-10T14:41:20.148729",
     "status": "completed"
    },
    "tags": []
   },
   "outputs": [
    {
     "name": "stdout",
     "output_type": "stream",
     "text": [
      "Training XGBClassifier\n",
      "\n",
      "--- Fold 1 - ROC AUC: 0.923737\n",
      "--- Fold 2 - ROC AUC: 0.857926\n",
      "--- Fold 3 - ROC AUC: 0.877441\n",
      "--- Fold 4 - ROC AUC: 0.908530\n",
      "--- Fold 5 - ROC AUC: 0.899355\n",
      "\n",
      "------ Overall: 0.892126 | Average: 0.893398 ± 0.023228\n"
     ]
    }
   ],
   "source": [
    "xgb_model = XGBClassifier(**xgb_params)\n",
    "xgb_trainer = Trainer(xgb_model)\n",
    "oof_pred_probs[\"XGBoost\"], test_pred_probs[\"XGBoost\"], scores[\"XGBoost\"] = xgb_trainer.fit_predict(X, y, X_test)"
   ]
  },
  {
   "cell_type": "code",
   "execution_count": 10,
   "id": "efbdbefe",
   "metadata": {
    "execution": {
     "iopub.execute_input": "2025-03-10T14:41:24.290741Z",
     "iopub.status.busy": "2025-03-10T14:41:24.290407Z",
     "iopub.status.idle": "2025-03-10T14:41:25.703125Z",
     "shell.execute_reply": "2025-03-10T14:41:25.702082Z"
    },
    "papermill": {
     "duration": 1.421748,
     "end_time": "2025-03-10T14:41:25.704749",
     "exception": false,
     "start_time": "2025-03-10T14:41:24.283001",
     "status": "completed"
    },
    "tags": []
   },
   "outputs": [
    {
     "name": "stdout",
     "output_type": "stream",
     "text": [
      "Training LGBMClassifier\n",
      "\n",
      "--- Fold 1 - ROC AUC: 0.926599\n",
      "--- Fold 2 - ROC AUC: 0.854938\n",
      "--- Fold 3 - ROC AUC: 0.873906\n",
      "--- Fold 4 - ROC AUC: 0.912724\n",
      "--- Fold 5 - ROC AUC: 0.904209\n",
      "\n",
      "------ Overall: 0.892497 | Average: 0.894475 ± 0.026253\n"
     ]
    }
   ],
   "source": [
    "lgbm_model = LGBMClassifier(**lgbm_params)\n",
    "lgbm_trainer = Trainer(lgbm_model)\n",
    "oof_pred_probs[\"LightGBM\"], test_pred_probs[\"LightGBM\"], scores[\"LightGBM\"] = lgbm_trainer.fit_predict(X, y, X_test)"
   ]
  },
  {
   "cell_type": "code",
   "execution_count": 11,
   "id": "169aee77",
   "metadata": {
    "execution": {
     "iopub.execute_input": "2025-03-10T14:41:25.719465Z",
     "iopub.status.busy": "2025-03-10T14:41:25.719156Z",
     "iopub.status.idle": "2025-03-10T14:41:27.083044Z",
     "shell.execute_reply": "2025-03-10T14:41:27.082193Z"
    },
    "papermill": {
     "duration": 1.372593,
     "end_time": "2025-03-10T14:41:27.084482",
     "exception": false,
     "start_time": "2025-03-10T14:41:25.711889",
     "status": "completed"
    },
    "tags": []
   },
   "outputs": [
    {
     "name": "stdout",
     "output_type": "stream",
     "text": [
      "Training LGBMClassifier\n",
      "\n",
      "--- Fold 1 - ROC AUC: 0.922559\n",
      "--- Fold 2 - ROC AUC: 0.850028\n",
      "--- Fold 3 - ROC AUC: 0.880177\n",
      "--- Fold 4 - ROC AUC: 0.911841\n",
      "--- Fold 5 - ROC AUC: 0.901263\n",
      "\n",
      "------ Overall: 0.891866 | Average: 0.893173 ± 0.025721\n"
     ]
    }
   ],
   "source": [
    "lgbm_goss_model = LGBMClassifier(**lgbm_goss_params)\n",
    "lgbm_goss_trainer = Trainer(lgbm_goss_model)\n",
    "oof_pred_probs[\"LightGBM (goss)\"], test_pred_probs[\"LightGBM (goss)\"], scores[\"LightGBM (goss)\"] = lgbm_goss_trainer.fit_predict(X, y, X_test)"
   ]
  },
  {
   "cell_type": "code",
   "execution_count": 12,
   "id": "30fcc2dc",
   "metadata": {
    "execution": {
     "iopub.execute_input": "2025-03-10T14:41:27.100078Z",
     "iopub.status.busy": "2025-03-10T14:41:27.099779Z",
     "iopub.status.idle": "2025-03-10T14:41:30.753803Z",
     "shell.execute_reply": "2025-03-10T14:41:30.752804Z"
    },
    "papermill": {
     "duration": 3.663575,
     "end_time": "2025-03-10T14:41:30.755409",
     "exception": false,
     "start_time": "2025-03-10T14:41:27.091834",
     "status": "completed"
    },
    "tags": []
   },
   "outputs": [
    {
     "name": "stdout",
     "output_type": "stream",
     "text": [
      "Training CatBoostClassifier\n",
      "\n",
      "--- Fold 1 - ROC AUC: 0.923934\n",
      "--- Fold 2 - ROC AUC: 0.858053\n",
      "--- Fold 3 - ROC AUC: 0.874467\n",
      "--- Fold 4 - ROC AUC: 0.912177\n",
      "--- Fold 5 - ROC AUC: 0.900224\n",
      "\n",
      "------ Overall: 0.891793 | Average: 0.893771 ± 0.024243\n"
     ]
    }
   ],
   "source": [
    "cb_model = CatBoostClassifier(**cb_params)\n",
    "cb_trainer = Trainer(cb_model)\n",
    "oof_pred_probs[\"CatBoost\"], test_pred_probs[\"CatBoost\"], scores[\"CatBoost\"] = cb_trainer.fit_predict(X, y, X_test)"
   ]
  },
  {
   "cell_type": "code",
   "execution_count": 13,
   "id": "d89c6115",
   "metadata": {
    "execution": {
     "iopub.execute_input": "2025-03-10T14:41:30.773158Z",
     "iopub.status.busy": "2025-03-10T14:41:30.772825Z",
     "iopub.status.idle": "2025-03-10T14:41:39.291073Z",
     "shell.execute_reply": "2025-03-10T14:41:39.290103Z"
    },
    "papermill": {
     "duration": 8.528533,
     "end_time": "2025-03-10T14:41:39.292515",
     "exception": false,
     "start_time": "2025-03-10T14:41:30.763982",
     "status": "completed"
    },
    "tags": []
   },
   "outputs": [
    {
     "name": "stdout",
     "output_type": "stream",
     "text": [
      "Training AdaBoostClassifier\n",
      "\n",
      "--- Fold 1 - ROC AUC: 0.925786\n",
      "--- Fold 2 - ROC AUC: 0.846184\n",
      "--- Fold 3 - ROC AUC: 0.853465\n",
      "--- Fold 4 - ROC AUC: 0.901950\n",
      "--- Fold 5 - ROC AUC: 0.895847\n",
      "\n",
      "------ Overall: 0.882266 | Average: 0.884646 ± 0.030229\n"
     ]
    }
   ],
   "source": [
    "adb_model = AdaBoostClassifier(**adb_params)\n",
    "adb_trainer = Trainer(adb_model)\n",
    "oof_pred_probs[\"AdaBoost\"], test_pred_probs[\"AdaBoost\"], scores[\"AdaBoost\"] = adb_trainer.fit_predict(X, y, X_test)"
   ]
  },
  {
   "cell_type": "code",
   "execution_count": 14,
   "id": "7266d03e",
   "metadata": {
    "execution": {
     "iopub.execute_input": "2025-03-10T14:41:39.309927Z",
     "iopub.status.busy": "2025-03-10T14:41:39.309564Z",
     "iopub.status.idle": "2025-03-10T14:41:44.436374Z",
     "shell.execute_reply": "2025-03-10T14:41:44.435193Z"
    },
    "papermill": {
     "duration": 5.137519,
     "end_time": "2025-03-10T14:41:44.438095",
     "exception": false,
     "start_time": "2025-03-10T14:41:39.300576",
     "status": "completed"
    },
    "tags": []
   },
   "outputs": [
    {
     "name": "stdout",
     "output_type": "stream",
     "text": [
      "Training RandomForestClassifier\n",
      "\n",
      "--- Fold 1 - ROC AUC: 0.925645\n",
      "--- Fold 2 - ROC AUC: 0.854181\n",
      "--- Fold 3 - ROC AUC: 0.871296\n",
      "--- Fold 4 - ROC AUC: 0.908754\n",
      "--- Fold 5 - ROC AUC: 0.901459\n",
      "\n",
      "------ Overall: 0.890584 | Average: 0.892267 ± 0.025926\n"
     ]
    }
   ],
   "source": [
    "rf_model = RandomForestClassifier(**rf_params)\n",
    "rf_trainer = Trainer(rf_model)\n",
    "oof_pred_probs[\"RandomForest\"], test_pred_probs[\"RandomForest\"], scores[\"RandomForest\"] = rf_trainer.fit_predict(X, y, X_test)"
   ]
  },
  {
   "cell_type": "code",
   "execution_count": 15,
   "id": "a127ad1b",
   "metadata": {
    "execution": {
     "iopub.execute_input": "2025-03-10T14:41:44.455931Z",
     "iopub.status.busy": "2025-03-10T14:41:44.455573Z",
     "iopub.status.idle": "2025-03-10T14:41:56.414889Z",
     "shell.execute_reply": "2025-03-10T14:41:56.413761Z"
    },
    "papermill": {
     "duration": 11.970145,
     "end_time": "2025-03-10T14:41:56.416595",
     "exception": false,
     "start_time": "2025-03-10T14:41:44.446450",
     "status": "completed"
    },
    "tags": []
   },
   "outputs": [
    {
     "name": "stdout",
     "output_type": "stream",
     "text": [
      "Training ExtraTreesClassifier\n",
      "\n",
      "--- Fold 1 - ROC AUC: 0.926263\n",
      "--- Fold 2 - ROC AUC: 0.860382\n",
      "--- Fold 3 - ROC AUC: 0.872615\n",
      "--- Fold 4 - ROC AUC: 0.905359\n",
      "--- Fold 5 - ROC AUC: 0.900168\n",
      "\n",
      "------ Overall: 0.892296 | Average: 0.892957 ± 0.023622\n"
     ]
    }
   ],
   "source": [
    "et_model = ExtraTreesClassifier(**et_params)\n",
    "et_trainer = Trainer(et_model)\n",
    "oof_pred_probs[\"ExtraTrees\"], test_pred_probs[\"ExtraTrees\"], scores[\"ExtraTrees\"] = et_trainer.fit_predict(X, y, X_test)"
   ]
  },
  {
   "cell_type": "code",
   "execution_count": 16,
   "id": "af9e9b96",
   "metadata": {
    "execution": {
     "iopub.execute_input": "2025-03-10T14:41:56.435202Z",
     "iopub.status.busy": "2025-03-10T14:41:56.434864Z",
     "iopub.status.idle": "2025-03-10T14:41:58.038067Z",
     "shell.execute_reply": "2025-03-10T14:41:58.036919Z"
    },
    "papermill": {
     "duration": 1.614114,
     "end_time": "2025-03-10T14:41:58.039599",
     "exception": false,
     "start_time": "2025-03-10T14:41:56.425485",
     "status": "completed"
    },
    "tags": []
   },
   "outputs": [
    {
     "name": "stdout",
     "output_type": "stream",
     "text": [
      "Training HistGradientBoostingClassifier\n",
      "\n",
      "--- Fold 1 - ROC AUC: 0.925800\n",
      "--- Fold 2 - ROC AUC: 0.855626\n",
      "--- Fold 3 - ROC AUC: 0.870188\n",
      "--- Fold 4 - ROC AUC: 0.911967\n",
      "--- Fold 5 - ROC AUC: 0.906033\n",
      "\n",
      "------ Overall: 0.891762 | Average: 0.893923 ± 0.026527\n"
     ]
    }
   ],
   "source": [
    "histgb_model = HistGradientBoostingClassifier(**histgb_params)\n",
    "histgb_trainer = Trainer(histgb_model)\n",
    "oof_pred_probs[\"HistGradientBoosting\"], test_pred_probs[\"HistGradientBoosting\"], scores[\"HistGradientBoosting\"] = histgb_trainer.fit_predict(X, y, X_test)"
   ]
  },
  {
   "cell_type": "code",
   "execution_count": 17,
   "id": "70e64b5e",
   "metadata": {
    "execution": {
     "iopub.execute_input": "2025-03-10T14:41:58.058551Z",
     "iopub.status.busy": "2025-03-10T14:41:58.058229Z",
     "iopub.status.idle": "2025-03-10T14:42:02.599061Z",
     "shell.execute_reply": "2025-03-10T14:42:02.597924Z"
    },
    "papermill": {
     "duration": 4.55181,
     "end_time": "2025-03-10T14:42:02.600609",
     "exception": false,
     "start_time": "2025-03-10T14:41:58.048799",
     "status": "completed"
    },
    "tags": []
   },
   "outputs": [
    {
     "name": "stdout",
     "output_type": "stream",
     "text": [
      "Training GradientBoostingClassifier\n",
      "\n",
      "--- Fold 1 - ROC AUC: 0.925505\n",
      "--- Fold 2 - ROC AUC: 0.851655\n",
      "--- Fold 3 - ROC AUC: 0.872363\n",
      "--- Fold 4 - ROC AUC: 0.909540\n",
      "--- Fold 5 - ROC AUC: 0.906538\n",
      "\n",
      "------ Overall: 0.891314 | Average: 0.893120 ± 0.027013\n"
     ]
    }
   ],
   "source": [
    "gb_model = GradientBoostingClassifier(**gb_params)\n",
    "gb_trainer = Trainer(gb_model)\n",
    "oof_pred_probs[\"GradientBoosting\"], test_pred_probs[\"GradientBoosting\"], scores[\"GradientBoosting\"] = gb_trainer.fit_predict(X, y, X_test)"
   ]
  },
  {
   "cell_type": "code",
   "execution_count": 18,
   "id": "d4acd094",
   "metadata": {
    "execution": {
     "iopub.execute_input": "2025-03-10T14:42:02.620626Z",
     "iopub.status.busy": "2025-03-10T14:42:02.620286Z",
     "iopub.status.idle": "2025-03-10T14:42:03.700800Z",
     "shell.execute_reply": "2025-03-10T14:42:03.699729Z"
    },
    "papermill": {
     "duration": 1.092321,
     "end_time": "2025-03-10T14:42:03.702429",
     "exception": false,
     "start_time": "2025-03-10T14:42:02.610108",
     "status": "completed"
    },
    "tags": []
   },
   "outputs": [
    {
     "name": "stdout",
     "output_type": "stream",
     "text": [
      "Training LogisticRegression\n",
      "\n",
      "--- Fold 1 - ROC AUC: 0.921409\n",
      "--- Fold 2 - ROC AUC: 0.860382\n",
      "--- Fold 3 - ROC AUC: 0.882379\n",
      "--- Fold 4 - ROC AUC: 0.910045\n",
      "--- Fold 5 - ROC AUC: 0.898064\n",
      "\n",
      "------ Overall: 0.893404 | Average: 0.894456 ± 0.021398\n"
     ]
    }
   ],
   "source": [
    "lr_model = LogisticRegression(**lr_params)\n",
    "lr_trainer = Trainer(lr_model)\n",
    "oof_pred_probs[\"LogisticRegression\"], test_pred_probs[\"LogisticRegression\"], scores[\"LogisticRegression\"] = lr_trainer.fit_predict(X, y, X_test)"
   ]
  },
  {
   "cell_type": "code",
   "execution_count": 19,
   "id": "4cb862a7",
   "metadata": {
    "execution": {
     "iopub.execute_input": "2025-03-10T14:42:03.722827Z",
     "iopub.status.busy": "2025-03-10T14:42:03.722465Z",
     "iopub.status.idle": "2025-03-10T15:15:58.093059Z",
     "shell.execute_reply": "2025-03-10T15:15:58.092008Z"
    },
    "papermill": {
     "duration": 2034.392031,
     "end_time": "2025-03-10T15:15:58.104287",
     "exception": false,
     "start_time": "2025-03-10T14:42:03.712256",
     "status": "completed"
    },
    "tags": []
   },
   "outputs": [
    {
     "name": "stdout",
     "output_type": "stream",
     "text": [
      "Training TabPFNClassifier\n",
      "\n"
     ]
    },
    {
     "data": {
      "application/vnd.jupyter.widget-view+json": {
       "model_id": "adcdfc3941f64f1ba386b143cdafbb9d",
       "version_major": 2,
       "version_minor": 0
      },
      "text/plain": [
       "tabpfn-v2-classifier.ckpt:   0%|          | 0.00/29.0M [00:00<?, ?B/s]"
      ]
     },
     "metadata": {},
     "output_type": "display_data"
    },
    {
     "data": {
      "application/vnd.jupyter.widget-view+json": {
       "model_id": "b68c13465c174abeaf0d8d494d57eaf3",
       "version_major": 2,
       "version_minor": 0
      },
      "text/plain": [
       "config.json:   0%|          | 0.00/37.0 [00:00<?, ?B/s]"
      ]
     },
     "metadata": {},
     "output_type": "display_data"
    },
    {
     "name": "stdout",
     "output_type": "stream",
     "text": [
      "--- Fold 1 - ROC AUC: 0.924411\n",
      "--- Fold 2 - ROC AUC: 0.857800\n",
      "--- Fold 3 - ROC AUC: 0.874270\n",
      "--- Fold 4 - ROC AUC: 0.912654\n",
      "--- Fold 5 - ROC AUC: 0.900309\n",
      "\n",
      "------ Overall: 0.891639 | Average: 0.893889 ± 0.024545\n"
     ]
    }
   ],
   "source": [
    "tabpfn_model = TabPFNClassifier(random_state=CFG.seed, n_jobs=-1)\n",
    "tabpfn_trainer = Trainer(tabpfn_model)\n",
    "oof_pred_probs[\"TabPFN\"], test_pred_probs[\"TabPFN\"], scores[\"TabPFN\"] = tabpfn_trainer.fit_predict(X, y, X_test)"
   ]
  },
  {
   "cell_type": "code",
   "execution_count": 20,
   "id": "d7a18e89",
   "metadata": {
    "execution": {
     "iopub.execute_input": "2025-03-10T15:15:58.126040Z",
     "iopub.status.busy": "2025-03-10T15:15:58.125717Z",
     "iopub.status.idle": "2025-03-10T15:15:58.168872Z",
     "shell.execute_reply": "2025-03-10T15:15:58.167801Z"
    },
    "papermill": {
     "duration": 0.055939,
     "end_time": "2025-03-10T15:15:58.170452",
     "exception": false,
     "start_time": "2025-03-10T15:15:58.114513",
     "status": "completed"
    },
    "tags": []
   },
   "outputs": [
    {
     "name": "stdout",
     "output_type": "stream",
     "text": [
      "Running inference on AutoGluon\n",
      "\n",
      "--- Fold 1 - ROC AUC: 0.930247\n",
      "--- Fold 2 - ROC AUC: 0.862795\n",
      "--- Fold 3 - ROC AUC: 0.877806\n",
      "--- Fold 4 - ROC AUC: 0.916891\n",
      "--- Fold 5 - ROC AUC: 0.902778\n",
      "\n",
      "------ Overall: 0.899698 | Average: 0.898103 ± 0.024766\n"
     ]
    }
   ],
   "source": [
    "print(\"Running inference on AutoGluon\\n\")\n",
    "\n",
    "ag_oof_files = glob.glob('/kaggle/input/s05e03-rainfall-prediction-autogluon/WeightedEnsemble_L2_oof_pred_probs_*.pkl')\n",
    "ag_test_files = glob.glob('/kaggle/input/s05e03-rainfall-prediction-autogluon/WeightedEnsemble_L2_test_pred_probs_*.pkl')\n",
    "\n",
    "ag_oof_pred_probs = pickle.load(open(ag_oof_files[0], 'rb'))\n",
    "ag_test_pred_probs = pickle.load(open(ag_test_files[0], 'rb'))\n",
    "\n",
    "ag_scores = []\n",
    "split = StratifiedKFold(n_splits=CFG.n_folds, random_state=CFG.seed, shuffle=True).split(X, y)\n",
    "for fold_idx, (_, val_idx) in enumerate(split):\n",
    "    y_val = y[val_idx]\n",
    "    y_pred_probs = ag_oof_pred_probs[val_idx]   \n",
    "    score = roc_auc_score(y_val, y_pred_probs)\n",
    "    ag_scores.append(score)\n",
    "\n",
    "    print(f\"--- Fold {fold_idx + 1} - ROC AUC: {score:.6f}\")\n",
    "            \n",
    "overall_score = roc_auc_score(y, ag_oof_pred_probs)            \n",
    "print(f\"\\n------ Overall: {overall_score:.6f} | Average: {np.mean(ag_scores):.6f} ± {np.std(ag_scores):.6f}\")\n",
    "    \n",
    "oof_pred_probs[\"AutoGluon\"], test_pred_probs[\"AutoGluon\"], scores[\"AutoGluon\"] = ag_oof_pred_probs, ag_test_pred_probs, ag_scores"
   ]
  },
  {
   "cell_type": "markdown",
   "id": "e7722ecc",
   "metadata": {
    "papermill": {
     "duration": 0.009925,
     "end_time": "2025-03-10T15:15:58.190718",
     "exception": false,
     "start_time": "2025-03-10T15:15:58.180793",
     "status": "completed"
    },
    "tags": []
   },
   "source": [
    "# Ensembling with LogisticRegression"
   ]
  },
  {
   "cell_type": "code",
   "execution_count": 21,
   "id": "e18fb504",
   "metadata": {
    "_kg_hide-input": true,
    "execution": {
     "iopub.execute_input": "2025-03-10T15:15:58.211958Z",
     "iopub.status.busy": "2025-03-10T15:15:58.211608Z",
     "iopub.status.idle": "2025-03-10T15:15:58.218256Z",
     "shell.execute_reply": "2025-03-10T15:15:58.217464Z"
    },
    "papermill": {
     "duration": 0.01894,
     "end_time": "2025-03-10T15:15:58.219730",
     "exception": false,
     "start_time": "2025-03-10T15:15:58.200790",
     "status": "completed"
    },
    "tags": []
   },
   "outputs": [],
   "source": [
    "def plot_weights(weights, title):\n",
    "    sorted_indices = np.argsort(weights[0])[::-1]\n",
    "    sorted_coeffs = np.array(weights[0])[sorted_indices]\n",
    "    sorted_model_names = np.array(list(oof_pred_probs.keys()))[sorted_indices]\n",
    "\n",
    "    plt.figure(figsize=(10, weights.shape[1] * 0.5))\n",
    "    ax = sns.barplot(x=sorted_coeffs, y=sorted_model_names, palette=\"RdYlGn_r\")\n",
    "\n",
    "    for i, (value, name) in enumerate(zip(sorted_coeffs, sorted_model_names)):\n",
    "        if value >= 0:\n",
    "            ax.text(value, i, f\"{value:.3f}\", va=\"center\", ha=\"left\", color=\"black\")\n",
    "        else:\n",
    "            ax.text(value, i, f\"{value:.3f}\", va=\"center\", ha=\"right\", color=\"black\")\n",
    "\n",
    "    xlim = ax.get_xlim()\n",
    "    ax.set_xlim(xlim[0] - 0.1 * abs(xlim[0]), xlim[1] + 0.1 * abs(xlim[1]))\n",
    "\n",
    "    plt.title(title)\n",
    "    plt.xlabel(\"\")\n",
    "    plt.ylabel(\"\")\n",
    "    plt.tight_layout()\n",
    "    plt.show()"
   ]
  },
  {
   "cell_type": "code",
   "execution_count": 22,
   "id": "bd910a24",
   "metadata": {
    "execution": {
     "iopub.execute_input": "2025-03-10T15:15:58.241764Z",
     "iopub.status.busy": "2025-03-10T15:15:58.241413Z",
     "iopub.status.idle": "2025-03-10T15:15:58.251270Z",
     "shell.execute_reply": "2025-03-10T15:15:58.250509Z"
    },
    "papermill": {
     "duration": 0.022552,
     "end_time": "2025-03-10T15:15:58.252549",
     "exception": false,
     "start_time": "2025-03-10T15:15:58.229997",
     "status": "completed"
    },
    "tags": []
   },
   "outputs": [],
   "source": [
    "X = logit(pd.DataFrame(oof_pred_probs).clip(1e-15, 1-1e-15))\n",
    "X_test = logit(pd.DataFrame(test_pred_probs).clip(1e-15, 1-1e-15))"
   ]
  },
  {
   "cell_type": "code",
   "execution_count": 23,
   "id": "86b84c96",
   "metadata": {
    "_kg_hide-output": true,
    "execution": {
     "iopub.execute_input": "2025-03-10T15:15:58.274204Z",
     "iopub.status.busy": "2025-03-10T15:15:58.273870Z",
     "iopub.status.idle": "2025-03-10T15:20:47.990013Z",
     "shell.execute_reply": "2025-03-10T15:20:47.989231Z"
    },
    "papermill": {
     "duration": 289.728567,
     "end_time": "2025-03-10T15:20:47.991470",
     "exception": false,
     "start_time": "2025-03-10T15:15:58.262903",
     "status": "completed"
    },
    "scrolled": true,
    "tags": []
   },
   "outputs": [
    {
     "name": "stderr",
     "output_type": "stream",
     "text": [
      "[I 2025-03-10 15:15:58,279] A new study created in memory with name: no-name-77099ed8-7bf8-499e-8db3-8f24519f66c5\n",
      "[I 2025-03-10 15:16:01,250] Trial 3 finished with value: 0.8957912457912457 and parameters: {'solver_penalty': ('liblinear', 'l2'), 'C': 58.17636794930446, 'tol': 0.00011539801475081298, 'fit_intercept': True, 'class_weight': None}. Best is trial 3 with value: 0.8957912457912457.\n",
      "[I 2025-03-10 15:16:01,909] Trial 0 finished with value: 0.8835297418630752 and parameters: {'solver_penalty': ('liblinear', 'l1'), 'C': 35.99838064721139, 'tol': 0.0009417944320295883, 'fit_intercept': False, 'class_weight': 'balanced'}. Best is trial 3 with value: 0.8957912457912457.\n",
      "[I 2025-03-10 15:16:02,168] Trial 2 finished with value: 0.8954882154882154 and parameters: {'solver_penalty': ('newton-cholesky', None), 'C': 61.30829433293017, 'tol': 0.006326194867671631, 'fit_intercept': True, 'class_weight': 'balanced'}. Best is trial 3 with value: 0.8957912457912457.\n",
      "[I 2025-03-10 15:16:03,776] Trial 1 finished with value: 0.8954264870931536 and parameters: {'solver_penalty': ('lbfgs', None), 'C': 32.1849594026398, 'tol': 0.002008021588236578, 'fit_intercept': True, 'class_weight': 'balanced'}. Best is trial 3 with value: 0.8957912457912457.\n",
      "[I 2025-03-10 15:16:05,372] Trial 5 finished with value: 0.8957575757575758 and parameters: {'solver_penalty': ('lbfgs', 'l2'), 'C': 91.95638171311006, 'tol': 0.002926781956010393, 'fit_intercept': False, 'class_weight': None}. Best is trial 3 with value: 0.8957912457912457.\n",
      "[I 2025-03-10 15:16:07,439] Trial 6 finished with value: 0.8965095398428732 and parameters: {'solver_penalty': ('newton-cg', None), 'C': 20.49819514649257, 'tol': 0.009406906181022343, 'fit_intercept': True, 'class_weight': None}. Best is trial 6 with value: 0.8965095398428732.\n",
      "[I 2025-03-10 15:16:07,662] Trial 8 finished with value: 0.8964646464646465 and parameters: {'solver_penalty': ('liblinear', 'l1'), 'C': 91.98806021587372, 'tol': 0.004989777456306857, 'fit_intercept': False, 'class_weight': None}. Best is trial 6 with value: 0.8965095398428732.\n",
      "[I 2025-03-10 15:16:08,137] Trial 4 finished with value: 0.8878787878787879 and parameters: {'solver_penalty': ('newton-cg', None), 'C': 2.622991401091712, 'tol': 0.007970763835837225, 'fit_intercept': False, 'class_weight': 'balanced'}. Best is trial 6 with value: 0.8965095398428732.\n",
      "[I 2025-03-10 15:16:10,411] Trial 7 finished with value: 0.8962457912457913 and parameters: {'solver_penalty': ('newton-cg', 'l2'), 'C': 54.515815418553125, 'tol': 0.006593181310316757, 'fit_intercept': True, 'class_weight': None}. Best is trial 6 with value: 0.8965095398428732.\n",
      "[I 2025-03-10 15:16:11,104] Trial 9 finished with value: 0.8955555555555555 and parameters: {'solver_penalty': ('newton-cholesky', 'l2'), 'C': 20.293827735016546, 'tol': 0.00286442121165714, 'fit_intercept': True, 'class_weight': 'balanced'}. Best is trial 6 with value: 0.8965095398428732.\n",
      "[I 2025-03-10 15:16:11,562] Trial 11 finished with value: 0.8834904601571267 and parameters: {'solver_penalty': ('newton-cholesky', None), 'C': 66.88878706009714, 'tol': 0.009798725317764868, 'fit_intercept': False, 'class_weight': 'balanced'}. Best is trial 6 with value: 0.8965095398428732.\n",
      "[I 2025-03-10 15:16:14,085] Trial 13 finished with value: 0.8956677890011224 and parameters: {'solver_penalty': ('liblinear', 'l1'), 'C': 30.472907978368603, 'tol': 0.0020452786726360816, 'fit_intercept': True, 'class_weight': 'balanced'}. Best is trial 6 with value: 0.8965095398428732.\n",
      "[I 2025-03-10 15:16:14,554] Trial 12 finished with value: 0.8958866442199774 and parameters: {'solver_penalty': ('lbfgs', None), 'C': 90.58318095365873, 'tol': 0.004097838408641224, 'fit_intercept': True, 'class_weight': None}. Best is trial 6 with value: 0.8965095398428732.\n",
      "[I 2025-03-10 15:16:15,265] Trial 10 finished with value: 0.886010101010101 and parameters: {'solver_penalty': ('newton-cg', None), 'C': 60.37642039808958, 'tol': 0.0044623086726443386, 'fit_intercept': False, 'class_weight': 'balanced'}. Best is trial 6 with value: 0.8965095398428732.\n",
      "[I 2025-03-10 15:16:17,374] Trial 14 finished with value: 0.8956846240179572 and parameters: {'solver_penalty': ('lbfgs', None), 'C': 47.9745319975913, 'tol': 0.00022860348165511498, 'fit_intercept': True, 'class_weight': None}. Best is trial 6 with value: 0.8965095398428732.\n",
      "[I 2025-03-10 15:16:18,485] Trial 17 finished with value: 0.8954882154882154 and parameters: {'solver_penalty': ('newton-cholesky', None), 'C': 29.749784280712277, 'tol': 0.006731569020860761, 'fit_intercept': True, 'class_weight': 'balanced'}. Best is trial 6 with value: 0.8965095398428732.\n",
      "[I 2025-03-10 15:16:19,181] Trial 15 finished with value: 0.8961447811447811 and parameters: {'solver_penalty': ('newton-cg', 'l2'), 'C': 61.40440223349054, 'tol': 0.0034759891929798388, 'fit_intercept': False, 'class_weight': None}. Best is trial 6 with value: 0.8965095398428732.\n",
      "[I 2025-03-10 15:16:20,524] Trial 18 finished with value: 0.8957856341189674 and parameters: {'solver_penalty': ('liblinear', 'l1'), 'C': 4.407774260290164, 'tol': 0.0030042914935454, 'fit_intercept': True, 'class_weight': 'balanced'}. Best is trial 6 with value: 0.8965095398428732.\n",
      "[I 2025-03-10 15:16:20,760] Trial 16 finished with value: 0.8958866442199775 and parameters: {'solver_penalty': ('newton-cg', 'l2'), 'C': 31.96608279805375, 'tol': 0.0018377065055782693, 'fit_intercept': False, 'class_weight': None}. Best is trial 6 with value: 0.8965095398428732.\n",
      "[I 2025-03-10 15:16:21,443] Trial 19 finished with value: 0.895942760942761 and parameters: {'solver_penalty': ('newton-cholesky', 'l2'), 'C': 7.077760309523862, 'tol': 0.006999153019937042, 'fit_intercept': False, 'class_weight': None}. Best is trial 6 with value: 0.8965095398428732.\n",
      "[I 2025-03-10 15:16:23,919] Trial 22 finished with value: 0.8964927048260382 and parameters: {'solver_penalty': ('lbfgs', 'l2'), 'C': 3.378087229946869, 'tol': 0.008502417477413846, 'fit_intercept': False, 'class_weight': None}. Best is trial 6 with value: 0.8965095398428732.\n",
      "[I 2025-03-10 15:16:24,368] Trial 23 finished with value: 0.8954994388327723 and parameters: {'solver_penalty': ('liblinear', 'l2'), 'C': 59.49441114819509, 'tol': 0.00019095459304708224, 'fit_intercept': True, 'class_weight': 'balanced'}. Best is trial 6 with value: 0.8965095398428732.\n",
      "[I 2025-03-10 15:16:27,283] Trial 25 finished with value: 0.8962233445566777 and parameters: {'solver_penalty': ('liblinear', 'l1'), 'C': 4.415355965691914, 'tol': 0.0025145960454712366, 'fit_intercept': False, 'class_weight': None}. Best is trial 6 with value: 0.8965095398428732.\n",
      "[I 2025-03-10 15:16:27,519] Trial 24 finished with value: 0.8957407407407407 and parameters: {'solver_penalty': ('newton-cholesky', 'l2'), 'C': 77.05307692498222, 'tol': 0.004427436777274518, 'fit_intercept': True, 'class_weight': None}. Best is trial 6 with value: 0.8965095398428732.\n",
      "[I 2025-03-10 15:16:27,762] Trial 20 finished with value: 0.8963019079685747 and parameters: {'solver_penalty': ('newton-cg', 'l2'), 'C': 56.774026585871695, 'tol': 0.001509272466307513, 'fit_intercept': True, 'class_weight': None}. Best is trial 6 with value: 0.8965095398428732.\n",
      "[I 2025-03-10 15:16:28,021] Trial 21 finished with value: 0.8960044893378228 and parameters: {'solver_penalty': ('newton-cg', 'l2'), 'C': 76.83615698821413, 'tol': 0.0032405803924070295, 'fit_intercept': True, 'class_weight': None}. Best is trial 6 with value: 0.8965095398428732.\n",
      "[I 2025-03-10 15:16:30,063] Trial 28 finished with value: 0.8964646464646465 and parameters: {'solver_penalty': ('liblinear', 'l1'), 'C': 88.74825286754474, 'tol': 0.005180742104567055, 'fit_intercept': False, 'class_weight': None}. Best is trial 6 with value: 0.8965095398428732.\n",
      "[I 2025-03-10 15:16:32,131] Trial 26 finished with value: 0.8962514029180696 and parameters: {'solver_penalty': ('newton-cg', 'l2'), 'C': 30.28411024116311, 'tol': 0.007071276827346318, 'fit_intercept': True, 'class_weight': None}. Best is trial 6 with value: 0.8965095398428732.\n",
      "[I 2025-03-10 15:16:32,382] Trial 29 finished with value: 0.8965095398428732 and parameters: {'solver_penalty': ('newton-cg', None), 'C': 34.987823236356896, 'tol': 0.009455983226403933, 'fit_intercept': True, 'class_weight': None}. Best is trial 6 with value: 0.8965095398428732.\n",
      "[I 2025-03-10 15:16:34,453] Trial 31 finished with value: 0.8964309764309764 and parameters: {'solver_penalty': ('lbfgs', 'l2'), 'C': 2.8701761189169366, 'tol': 0.009610579266885412, 'fit_intercept': False, 'class_weight': None}. Best is trial 6 with value: 0.8965095398428732.\n",
      "[I 2025-03-10 15:16:34,923] Trial 30 finished with value: 0.8963916947250281 and parameters: {'solver_penalty': ('newton-cg', None), 'C': 38.612282996236004, 'tol': 0.008987287240959468, 'fit_intercept': True, 'class_weight': None}. Best is trial 6 with value: 0.8965095398428732.\n",
      "[I 2025-03-10 15:16:36,778] Trial 27 finished with value: 0.8957687991021324 and parameters: {'solver_penalty': ('newton-cg', 'l2'), 'C': 51.47351410285079, 'tol': 0.00020479541813515648, 'fit_intercept': True, 'class_weight': None}. Best is trial 6 with value: 0.8965095398428732.\n",
      "[I 2025-03-10 15:16:37,243] Trial 34 finished with value: 0.8963299663299663 and parameters: {'solver_penalty': ('liblinear', 'l2'), 'C': 15.441803999272341, 'tol': 0.008811091964604669, 'fit_intercept': True, 'class_weight': None}. Best is trial 6 with value: 0.8965095398428732.\n",
      "[I 2025-03-10 15:16:38,622] Trial 32 finished with value: 0.8961279461279462 and parameters: {'solver_penalty': ('newton-cg', None), 'C': 13.4088901002748, 'tol': 0.00877185881796818, 'fit_intercept': True, 'class_weight': None}. Best is trial 6 with value: 0.8965095398428732.\n",
      "[I 2025-03-10 15:16:39,546] Trial 35 finished with value: 0.8964814814814815 and parameters: {'solver_penalty': ('liblinear', 'l2'), 'C': 2.4571659956623684, 'tol': 0.00942453783269067, 'fit_intercept': True, 'class_weight': None}. Best is trial 6 with value: 0.8965095398428732.\n",
      "[I 2025-03-10 15:16:40,021] Trial 33 finished with value: 0.8965095398428732 and parameters: {'solver_penalty': ('newton-cg', None), 'C': 1.8592348607367697, 'tol': 0.009852150530864159, 'fit_intercept': True, 'class_weight': None}. Best is trial 6 with value: 0.8965095398428732.\n",
      "[I 2025-03-10 15:16:42,541] Trial 37 finished with value: 0.8958473625140291 and parameters: {'solver_penalty': ('newton-cholesky', 'l2'), 'C': 55.87534671270076, 'tol': 0.009353535969230692, 'fit_intercept': False, 'class_weight': None}. Best is trial 6 with value: 0.8965095398428732.\n",
      "[I 2025-03-10 15:16:43,260] Trial 38 finished with value: 0.8957295173961841 and parameters: {'solver_penalty': ('newton-cholesky', None), 'C': 7.011632766909456, 'tol': 0.009788285727084397, 'fit_intercept': True, 'class_weight': None}. Best is trial 6 with value: 0.8965095398428732.\n",
      "[I 2025-03-10 15:16:43,965] Trial 39 finished with value: 0.8954769921436588 and parameters: {'solver_penalty': ('newton-cholesky', 'l2'), 'C': 31.39976397218804, 'tol': 0.00990128026567086, 'fit_intercept': True, 'class_weight': 'balanced'}. Best is trial 6 with value: 0.8965095398428732.\n",
      "[I 2025-03-10 15:16:44,653] Trial 36 finished with value: 0.8962514029180696 and parameters: {'solver_penalty': ('newton-cg', None), 'C': 9.489637895138358, 'tol': 0.006582331788692893, 'fit_intercept': True, 'class_weight': None}. Best is trial 6 with value: 0.8965095398428732.\n",
      "[I 2025-03-10 15:16:46,501] Trial 41 finished with value: 0.8966498316498317 and parameters: {'solver_penalty': ('lbfgs', 'l2'), 'C': 32.68139978591523, 'tol': 0.009402140924171415, 'fit_intercept': True, 'class_weight': None}. Best is trial 41 with value: 0.8966498316498317.\n",
      "[I 2025-03-10 15:16:49,010] Trial 43 finished with value: 0.8962682379349045 and parameters: {'solver_penalty': ('lbfgs', 'l2'), 'C': 4.8704937028002195, 'tol': 0.007353861960185816, 'fit_intercept': True, 'class_weight': 'balanced'}. Best is trial 41 with value: 0.8966498316498317.\n",
      "[I 2025-03-10 15:16:49,496] Trial 42 finished with value: 0.8966442199775534 and parameters: {'solver_penalty': ('newton-cg', None), 'C': 4.450680286033389, 'tol': 0.009334180905621638, 'fit_intercept': False, 'class_weight': None}. Best is trial 41 with value: 0.8966498316498317.\n",
      "[I 2025-03-10 15:16:49,737] Trial 44 finished with value: 0.8966498316498317 and parameters: {'solver_penalty': ('lbfgs', 'l2'), 'C': 42.9801267091782, 'tol': 0.009440801440988161, 'fit_intercept': True, 'class_weight': None}. Best is trial 41 with value: 0.8966498316498317.\n",
      "[I 2025-03-10 15:16:50,219] Trial 40 finished with value: 0.8961503928170595 and parameters: {'solver_penalty': ('newton-cg', None), 'C': 6.699847600251004, 'tol': 0.009710021935233471, 'fit_intercept': True, 'class_weight': 'balanced'}. Best is trial 41 with value: 0.8966498316498317.\n",
      "[I 2025-03-10 15:16:52,978] Trial 47 finished with value: 0.8966498316498317 and parameters: {'solver_penalty': ('lbfgs', 'l2'), 'C': 34.540301032477124, 'tol': 0.009299760404886994, 'fit_intercept': True, 'class_weight': None}. Best is trial 41 with value: 0.8966498316498317.\n",
      "[I 2025-03-10 15:16:53,895] Trial 48 finished with value: 0.8966498316498317 and parameters: {'solver_penalty': ('lbfgs', 'l2'), 'C': 26.722256901518733, 'tol': 0.009538578704931291, 'fit_intercept': True, 'class_weight': None}. Best is trial 41 with value: 0.8966498316498317.\n",
      "[I 2025-03-10 15:16:54,811] Trial 45 finished with value: 0.8966442199775534 and parameters: {'solver_penalty': ('newton-cg', None), 'C': 38.20292795890979, 'tol': 0.009666000580961735, 'fit_intercept': False, 'class_weight': None}. Best is trial 41 with value: 0.8966498316498317.\n",
      "[I 2025-03-10 15:16:55,717] Trial 46 finished with value: 0.8966442199775534 and parameters: {'solver_penalty': ('newton-cg', None), 'C': 21.608312035081934, 'tol': 0.009171597852256663, 'fit_intercept': False, 'class_weight': None}. Best is trial 41 with value: 0.8966498316498317.\n",
      "[I 2025-03-10 15:16:57,077] Trial 49 finished with value: 0.8965824915824916 and parameters: {'solver_penalty': ('lbfgs', 'l2'), 'C': 45.68539071141315, 'tol': 0.009985103684317095, 'fit_intercept': True, 'class_weight': None}. Best is trial 41 with value: 0.8966498316498317.\n",
      "[I 2025-03-10 15:16:57,558] Trial 50 finished with value: 0.8965824915824916 and parameters: {'solver_penalty': ('lbfgs', 'l2'), 'C': 48.87310442983942, 'tol': 0.009927644219308467, 'fit_intercept': True, 'class_weight': None}. Best is trial 41 with value: 0.8966498316498317.\n",
      "[I 2025-03-10 15:17:00,084] Trial 51 finished with value: 0.8962457912457913 and parameters: {'solver_penalty': ('lbfgs', 'l2'), 'C': 71.12941681272318, 'tol': 0.008913877931999332, 'fit_intercept': True, 'class_weight': None}. Best is trial 41 with value: 0.8966498316498317.\n",
      "[I 2025-03-10 15:17:00,792] Trial 52 finished with value: 0.896273849607183 and parameters: {'solver_penalty': ('lbfgs', 'l2'), 'C': 44.40492018823307, 'tol': 0.008774661670032411, 'fit_intercept': True, 'class_weight': None}. Best is trial 41 with value: 0.8966498316498317.\n",
      "[I 2025-03-10 15:17:01,489] Trial 53 finished with value: 0.8957856341189675 and parameters: {'solver_penalty': ('lbfgs', 'l2'), 'C': 22.44687513519608, 'tol': 0.00818970183174529, 'fit_intercept': True, 'class_weight': None}. Best is trial 41 with value: 0.8966498316498317.\n",
      "[I 2025-03-10 15:17:02,204] Trial 54 finished with value: 0.8957968574635242 and parameters: {'solver_penalty': ('lbfgs', 'l2'), 'C': 22.581085369855813, 'tol': 0.007384972853404314, 'fit_intercept': True, 'class_weight': None}. Best is trial 41 with value: 0.8966498316498317.\n",
      "[I 2025-03-10 15:17:03,127] Trial 55 finished with value: 0.8965824915824916 and parameters: {'solver_penalty': ('lbfgs', 'l2'), 'C': 15.699618391271272, 'tol': 0.009925872092689964, 'fit_intercept': True, 'class_weight': None}. Best is trial 41 with value: 0.8966498316498317.\n",
      "[I 2025-03-10 15:17:05,158] Trial 58 finished with value: 0.8961672278338947 and parameters: {'solver_penalty': ('liblinear', 'l2'), 'C': 52.646174153721425, 'tol': 0.009084779106850092, 'fit_intercept': False, 'class_weight': None}. Best is trial 41 with value: 0.8966498316498317.\n",
      "[I 2025-03-10 15:17:06,309] Trial 59 finished with value: 0.8964309764309764 and parameters: {'solver_penalty': ('lbfgs', None), 'C': 35.15378775741183, 'tol': 0.009862998764360672, 'fit_intercept': False, 'class_weight': None}. Best is trial 41 with value: 0.8966498316498317.\n",
      "[I 2025-03-10 15:17:07,466] Trial 57 finished with value: 0.8961784511784512 and parameters: {'solver_penalty': ('newton-cg', None), 'C': 66.22614713279806, 'tol': 0.007627928299631597, 'fit_intercept': False, 'class_weight': None}. Best is trial 41 with value: 0.8966498316498317.\n",
      "[I 2025-03-10 15:17:08,182] Trial 56 finished with value: 0.8886700336700336 and parameters: {'solver_penalty': ('newton-cg', None), 'C': 45.910850173500684, 'tol': 0.008794691216455807, 'fit_intercept': False, 'class_weight': 'balanced'}. Best is trial 41 with value: 0.8966498316498317.\n",
      "[I 2025-03-10 15:17:10,244] Trial 60 finished with value: 0.8966442199775534 and parameters: {'solver_penalty': ('newton-cg', None), 'C': 54.950995671518555, 'tol': 0.009967161258715085, 'fit_intercept': False, 'class_weight': None}. Best is trial 41 with value: 0.8966498316498317.\n",
      "[I 2025-03-10 15:17:10,925] Trial 63 finished with value: 0.8960044893378228 and parameters: {'solver_penalty': ('liblinear', 'l1'), 'C': 23.529831561150964, 'tol': 0.008715897020323857, 'fit_intercept': False, 'class_weight': None}. Best is trial 41 with value: 0.8966498316498317.\n",
      "[I 2025-03-10 15:17:11,456] Trial 62 finished with value: 0.8958698092031426 and parameters: {'solver_penalty': ('lbfgs', 'l2'), 'C': 43.64051193968385, 'tol': 0.007322686761030846, 'fit_intercept': True, 'class_weight': 'balanced'}. Best is trial 41 with value: 0.8966498316498317.\n",
      "[I 2025-03-10 15:17:13,544] Trial 61 finished with value: 0.8961447811447811 and parameters: {'solver_penalty': ('newton-cg', 'l2'), 'C': 59.08302785845957, 'tol': 0.009973052563920318, 'fit_intercept': True, 'class_weight': 'balanced'}. Best is trial 41 with value: 0.8966498316498317.\n",
      "[I 2025-03-10 15:17:14,485] Trial 64 finished with value: 0.8966442199775534 and parameters: {'solver_penalty': ('newton-cg', None), 'C': 20.09484053958252, 'tol': 0.009201106305176203, 'fit_intercept': False, 'class_weight': None}. Best is trial 41 with value: 0.8966498316498317.\n",
      "[I 2025-03-10 15:17:15,639] Trial 65 finished with value: 0.8961840628507295 and parameters: {'solver_penalty': ('newton-cg', None), 'C': 35.50144370143721, 'tol': 0.006259189968810573, 'fit_intercept': False, 'class_weight': None}. Best is trial 41 with value: 0.8966498316498317.\n",
      "[I 2025-03-10 15:17:15,879] Trial 66 finished with value: 0.8966442199775534 and parameters: {'solver_penalty': ('newton-cg', None), 'C': 14.304794456794493, 'tol': 0.009052813822152924, 'fit_intercept': False, 'class_weight': None}. Best is trial 41 with value: 0.8966498316498317.\n",
      "[I 2025-03-10 15:17:19,070] Trial 67 finished with value: 0.8966442199775534 and parameters: {'solver_penalty': ('newton-cg', None), 'C': 8.928868139880882, 'tol': 0.009582508479945358, 'fit_intercept': False, 'class_weight': None}. Best is trial 41 with value: 0.8966498316498317.\n",
      "[I 2025-03-10 15:17:19,543] Trial 69 finished with value: 0.8958585858585859 and parameters: {'solver_penalty': ('newton-cholesky', None), 'C': 25.034659874639107, 'tol': 0.007928275384581322, 'fit_intercept': False, 'class_weight': None}. Best is trial 41 with value: 0.8966498316498317.\n",
      "[I 2025-03-10 15:17:19,782] Trial 70 finished with value: 0.8957575757575758 and parameters: {'solver_penalty': ('newton-cholesky', 'l2'), 'C': 45.38174900255424, 'tol': 0.008448575463536579, 'fit_intercept': True, 'class_weight': None}. Best is trial 41 with value: 0.8966498316498317.\n",
      "[I 2025-03-10 15:17:20,030] Trial 68 finished with value: 0.8966442199775534 and parameters: {'solver_penalty': ('newton-cg', None), 'C': 0.14066109865715593, 'tol': 0.009134776713501078, 'fit_intercept': False, 'class_weight': None}. Best is trial 41 with value: 0.8966498316498317.\n",
      "[I 2025-03-10 15:17:23,023] Trial 72 finished with value: 0.8958193041526374 and parameters: {'solver_penalty': ('newton-cholesky', 'l2'), 'C': 12.428796234997765, 'tol': 0.008911448033611193, 'fit_intercept': True, 'class_weight': None}. Best is trial 41 with value: 0.8966498316498317.\n",
      "[I 2025-03-10 15:17:23,270] Trial 73 finished with value: 0.8957744107744107 and parameters: {'solver_penalty': ('newton-cholesky', None), 'C': 57.26295015762379, 'tol': 0.009631200882126635, 'fit_intercept': True, 'class_weight': None}. Best is trial 41 with value: 0.8966498316498317.\n",
      "[I 2025-03-10 15:17:25,336] Trial 74 finished with value: 0.8966442199775534 and parameters: {'solver_penalty': ('newton-cg', None), 'C': 49.72416190831353, 'tol': 0.009313551697226358, 'fit_intercept': False, 'class_weight': None}. Best is trial 41 with value: 0.8966498316498317.\n",
      "[I 2025-03-10 15:17:26,054] Trial 71 finished with value: 0.8879349046015712 and parameters: {'solver_penalty': ('newton-cg', 'l2'), 'C': 11.007282256830031, 'tol': 0.007555788581159115, 'fit_intercept': False, 'class_weight': 'balanced'}. Best is trial 41 with value: 0.8966498316498317.\n",
      "[I 2025-03-10 15:17:27,413] Trial 76 finished with value: 0.8966442199775534 and parameters: {'solver_penalty': ('newton-cg', None), 'C': 43.11334000194464, 'tol': 0.009594894093021562, 'fit_intercept': False, 'class_weight': None}. Best is trial 41 with value: 0.8966498316498317.\n",
      "[I 2025-03-10 15:17:27,414] Trial 75 finished with value: 0.8966442199775534 and parameters: {'solver_penalty': ('newton-cg', None), 'C': 47.45986898859418, 'tol': 0.009298567091867592, 'fit_intercept': False, 'class_weight': None}. Best is trial 41 with value: 0.8966498316498317.\n",
      "[I 2025-03-10 15:17:30,162] Trial 80 finished with value: 0.8965095398428732 and parameters: {'solver_penalty': ('lbfgs', 'l2'), 'C': 39.25786523855821, 'tol': 0.008054120094826468, 'fit_intercept': False, 'class_weight': None}. Best is trial 41 with value: 0.8966498316498317.\n",
      "[I 2025-03-10 15:17:30,379] Trial 77 finished with value: 0.8966386083052751 and parameters: {'solver_penalty': ('newton-cg', 'l2'), 'C': 44.80708717332332, 'tol': 0.00980298954924633, 'fit_intercept': False, 'class_weight': None}. Best is trial 41 with value: 0.8966498316498317.\n",
      "[I 2025-03-10 15:17:31,331] Trial 78 finished with value: 0.8966386083052751 and parameters: {'solver_penalty': ('newton-cg', 'l2'), 'C': 44.98899984226689, 'tol': 0.009494942701148468, 'fit_intercept': False, 'class_weight': None}. Best is trial 41 with value: 0.8966498316498317.\n",
      "[I 2025-03-10 15:17:33,156] Trial 81 finished with value: 0.8834680134680134 and parameters: {'solver_penalty': ('liblinear', 'l2'), 'C': 35.26940855735859, 'tol': 0.006590426927983707, 'fit_intercept': False, 'class_weight': 'balanced'}. Best is trial 41 with value: 0.8966498316498317.\n",
      "[I 2025-03-10 15:17:33,380] Trial 79 finished with value: 0.89665544332211 and parameters: {'solver_penalty': ('newton-cg', 'l2'), 'C': 21.02474481778307, 'tol': 0.009382143711071647, 'fit_intercept': False, 'class_weight': None}. Best is trial 79 with value: 0.89665544332211.\n",
      "[I 2025-03-10 15:17:36,141] Trial 84 finished with value: 0.8965824915824916 and parameters: {'solver_penalty': ('lbfgs', None), 'C': 30.231238808020674, 'tol': 0.009958768797661608, 'fit_intercept': True, 'class_weight': None}. Best is trial 79 with value: 0.89665544332211.\n",
      "[I 2025-03-10 15:17:36,354] Trial 83 finished with value: 0.8968181818181818 and parameters: {'solver_penalty': ('lbfgs', 'l2'), 'C': 33.28598818696353, 'tol': 0.00981763479027173, 'fit_intercept': True, 'class_weight': 'balanced'}. Best is trial 83 with value: 0.8968181818181818.\n",
      "[I 2025-03-10 15:17:36,606] Trial 82 finished with value: 0.8965095398428732 and parameters: {'solver_penalty': ('newton-cg', 'l2'), 'C': 38.819445117241514, 'tol': 0.009686493531725073, 'fit_intercept': True, 'class_weight': None}. Best is trial 83 with value: 0.8968181818181818.\n",
      "[I 2025-03-10 15:17:39,583] Trial 85 finished with value: 0.8965095398428732 and parameters: {'solver_penalty': ('newton-cg', 'l2'), 'C': 29.387826780250304, 'tol': 0.009647081256368794, 'fit_intercept': True, 'class_weight': None}. Best is trial 83 with value: 0.8968181818181818.\n",
      "[I 2025-03-10 15:17:40,048] Trial 87 finished with value: 0.8968181818181818 and parameters: {'solver_penalty': ('lbfgs', 'l2'), 'C': 35.26154391796078, 'tol': 0.00980561422848831, 'fit_intercept': True, 'class_weight': 'balanced'}. Best is trial 83 with value: 0.8968181818181818.\n",
      "[I 2025-03-10 15:17:40,512] Trial 88 finished with value: 0.8968181818181818 and parameters: {'solver_penalty': ('lbfgs', 'l2'), 'C': 65.80094107138859, 'tol': 0.009965454502241927, 'fit_intercept': True, 'class_weight': 'balanced'}. Best is trial 83 with value: 0.8968181818181818.\n",
      "[I 2025-03-10 15:17:41,207] Trial 86 finished with value: 0.8966891133557799 and parameters: {'solver_penalty': ('newton-cg', 'l2'), 'C': 8.400307491252297, 'tol': 0.009830743976587128, 'fit_intercept': False, 'class_weight': None}. Best is trial 83 with value: 0.8968181818181818.\n",
      "[I 2025-03-10 15:17:44,029] Trial 90 finished with value: 0.8968181818181818 and parameters: {'solver_penalty': ('lbfgs', 'l2'), 'C': 35.46143476716196, 'tol': 0.009197727500141287, 'fit_intercept': True, 'class_weight': 'balanced'}. Best is trial 83 with value: 0.8968181818181818.\n",
      "[I 2025-03-10 15:17:44,490] Trial 91 finished with value: 0.8968181818181818 and parameters: {'solver_penalty': ('lbfgs', 'l2'), 'C': 85.81265465199672, 'tol': 0.009802375516422596, 'fit_intercept': True, 'class_weight': 'balanced'}. Best is trial 83 with value: 0.8968181818181818.\n",
      "[I 2025-03-10 15:17:45,670] Trial 89 finished with value: 0.8961952861952861 and parameters: {'solver_penalty': ('newton-cg', 'l2'), 'C': 14.637757212097508, 'tol': 0.007487231819423951, 'fit_intercept': False, 'class_weight': None}. Best is trial 83 with value: 0.8968181818181818.\n",
      "[I 2025-03-10 15:17:45,899] Trial 92 finished with value: 0.8968181818181818 and parameters: {'solver_penalty': ('lbfgs', 'l2'), 'C': 57.5670968075367, 'tol': 0.009855554026599463, 'fit_intercept': True, 'class_weight': 'balanced'}. Best is trial 83 with value: 0.8968181818181818.\n",
      "[I 2025-03-10 15:17:48,434] Trial 94 finished with value: 0.8968181818181818 and parameters: {'solver_penalty': ('lbfgs', 'l2'), 'C': 81.53465257425667, 'tol': 0.009190601504684825, 'fit_intercept': True, 'class_weight': 'balanced'}. Best is trial 83 with value: 0.8968181818181818.\n",
      "[I 2025-03-10 15:17:48,667] Trial 93 finished with value: 0.8968181818181818 and parameters: {'solver_penalty': ('lbfgs', 'l2'), 'C': 94.53210832903672, 'tol': 0.009888377166003116, 'fit_intercept': True, 'class_weight': 'balanced'}. Best is trial 83 with value: 0.8968181818181818.\n",
      "[I 2025-03-10 15:17:50,292] Trial 95 finished with value: 0.8968181818181818 and parameters: {'solver_penalty': ('lbfgs', 'l2'), 'C': 76.97891650568094, 'tol': 0.009397087843366991, 'fit_intercept': True, 'class_weight': 'balanced'}. Best is trial 83 with value: 0.8968181818181818.\n",
      "[I 2025-03-10 15:17:50,976] Trial 96 finished with value: 0.8968181818181818 and parameters: {'solver_penalty': ('lbfgs', 'l2'), 'C': 80.14649275670705, 'tol': 0.009585110914367066, 'fit_intercept': True, 'class_weight': 'balanced'}. Best is trial 83 with value: 0.8968181818181818.\n",
      "[I 2025-03-10 15:17:53,080] Trial 97 finished with value: 0.8968181818181818 and parameters: {'solver_penalty': ('lbfgs', 'l2'), 'C': 78.6660712921921, 'tol': 0.00981273499185798, 'fit_intercept': True, 'class_weight': 'balanced'}. Best is trial 83 with value: 0.8968181818181818.\n",
      "[I 2025-03-10 15:17:53,298] Trial 98 finished with value: 0.8968181818181818 and parameters: {'solver_penalty': ('lbfgs', 'l2'), 'C': 86.61588760306151, 'tol': 0.009765501759864778, 'fit_intercept': True, 'class_weight': 'balanced'}. Best is trial 83 with value: 0.8968181818181818.\n",
      "[I 2025-03-10 15:17:54,932] Trial 99 finished with value: 0.8968181818181818 and parameters: {'solver_penalty': ('lbfgs', 'l2'), 'C': 87.54993667018957, 'tol': 0.009458629355357276, 'fit_intercept': True, 'class_weight': 'balanced'}. Best is trial 83 with value: 0.8968181818181818.\n",
      "[I 2025-03-10 15:17:55,145] Trial 100 finished with value: 0.8968181818181818 and parameters: {'solver_penalty': ('lbfgs', 'l2'), 'C': 99.38960455623975, 'tol': 0.00995396281466419, 'fit_intercept': True, 'class_weight': 'balanced'}. Best is trial 83 with value: 0.8968181818181818.\n",
      "[I 2025-03-10 15:17:56,797] Trial 101 finished with value: 0.8954769921436588 and parameters: {'solver_penalty': ('newton-cholesky', 'l2'), 'C': 89.19010079454756, 'tol': 0.009415089647177927, 'fit_intercept': True, 'class_weight': 'balanced'}. Best is trial 83 with value: 0.8968181818181818.\n",
      "[I 2025-03-10 15:17:57,733] Trial 102 finished with value: 0.8842760942760943 and parameters: {'solver_penalty': ('lbfgs', 'l2'), 'C': 97.3036255096669, 'tol': 0.008956369649976313, 'fit_intercept': False, 'class_weight': 'balanced'}. Best is trial 83 with value: 0.8968181818181818.\n",
      "[I 2025-03-10 15:17:59,809] Trial 104 finished with value: 0.8960830527497194 and parameters: {'solver_penalty': ('lbfgs', None), 'C': 78.6399126585806, 'tol': 0.006730655277722517, 'fit_intercept': True, 'class_weight': 'balanced'}. Best is trial 83 with value: 0.8968181818181818.\n",
      "[I 2025-03-10 15:18:00,766] Trial 105 finished with value: 0.8968181818181818 and parameters: {'solver_penalty': ('lbfgs', 'l2'), 'C': 25.168668740952317, 'tol': 0.009645694217992265, 'fit_intercept': True, 'class_weight': 'balanced'}. Best is trial 83 with value: 0.8968181818181818.\n",
      "[I 2025-03-10 15:18:01,706] Trial 106 finished with value: 0.8969753086419754 and parameters: {'solver_penalty': ('lbfgs', None), 'C': 71.99626688338633, 'tol': 0.008546150584027787, 'fit_intercept': True, 'class_weight': 'balanced'}. Best is trial 106 with value: 0.8969753086419754.\n",
      "[I 2025-03-10 15:18:03,998] Trial 107 finished with value: 0.8968181818181818 and parameters: {'solver_penalty': ('lbfgs', 'l2'), 'C': 43.75370533656203, 'tol': 0.009607440056894824, 'fit_intercept': True, 'class_weight': 'balanced'}. Best is trial 106 with value: 0.8969753086419754.\n",
      "[I 2025-03-10 15:18:04,427] Trial 108 finished with value: 0.8956790123456791 and parameters: {'solver_penalty': ('liblinear', 'l1'), 'C': 55.368975199503794, 'tol': 0.009860771937902702, 'fit_intercept': True, 'class_weight': 'balanced'}. Best is trial 106 with value: 0.8969753086419754.\n",
      "[I 2025-03-10 15:18:04,896] Trial 103 finished with value: 0.8962177328843997 and parameters: {'solver_penalty': ('newton-cg', None), 'C': 67.7031223715714, 'tol': 0.008436921096725142, 'fit_intercept': True, 'class_weight': 'balanced'}. Best is trial 106 with value: 0.8969753086419754.\n",
      "[I 2025-03-10 15:18:05,139] Trial 109 finished with value: 0.8962457912457913 and parameters: {'solver_penalty': ('liblinear', 'l1'), 'C': 96.98119712261409, 'tol': 0.008578257575647764, 'fit_intercept': True, 'class_weight': None}. Best is trial 106 with value: 0.8969753086419754.\n",
      "[I 2025-03-10 15:18:07,668] Trial 112 finished with value: 0.8955892255892255 and parameters: {'solver_penalty': ('liblinear', 'l2'), 'C': 71.90813380167646, 'tol': 0.009522875924988579, 'fit_intercept': True, 'class_weight': 'balanced'}. Best is trial 106 with value: 0.8969753086419754.\n",
      "[I 2025-03-10 15:18:08,816] Trial 110 finished with value: 0.8968181818181818 and parameters: {'solver_penalty': ('lbfgs', None), 'C': 72.13267946145915, 'tol': 0.009820232373308584, 'fit_intercept': True, 'class_weight': 'balanced'}. Best is trial 106 with value: 0.8969753086419754.\n",
      "[I 2025-03-10 15:18:09,299] Trial 113 finished with value: 0.8968181818181818 and parameters: {'solver_penalty': ('lbfgs', None), 'C': 99.54459346319982, 'tol': 0.009842845525890093, 'fit_intercept': True, 'class_weight': 'balanced'}. Best is trial 106 with value: 0.8969753086419754.\n",
      "[I 2025-03-10 15:18:11,167] Trial 114 finished with value: 0.8968181818181818 and parameters: {'solver_penalty': ('lbfgs', None), 'C': 79.53601987614067, 'tol': 0.009646813681290407, 'fit_intercept': True, 'class_weight': 'balanced'}. Best is trial 106 with value: 0.8969753086419754.\n",
      "[I 2025-03-10 15:18:13,029] Trial 115 finished with value: 0.883675645342312 and parameters: {'solver_penalty': ('lbfgs', 'l2'), 'C': 52.60432476819266, 'tol': 0.009744345526110691, 'fit_intercept': False, 'class_weight': 'balanced'}. Best is trial 106 with value: 0.8969753086419754.\n",
      "[I 2025-03-10 15:18:13,261] Trial 111 finished with value: 0.8962177328843997 and parameters: {'solver_penalty': ('newton-cg', None), 'C': 75.16139949527481, 'tol': 0.007575835027862623, 'fit_intercept': True, 'class_weight': 'balanced'}. Best is trial 106 with value: 0.8969753086419754.\n",
      "[I 2025-03-10 15:18:13,735] Trial 116 finished with value: 0.8836812570145902 and parameters: {'solver_penalty': ('lbfgs', 'l2'), 'C': 45.928343505962985, 'tol': 0.009891281962576213, 'fit_intercept': False, 'class_weight': 'balanced'}. Best is trial 106 with value: 0.8969753086419754.\n",
      "[I 2025-03-10 15:18:16,148] Trial 117 finished with value: 0.8958754208754209 and parameters: {'solver_penalty': ('lbfgs', 'l2'), 'C': 99.09147997009526, 'tol': 0.005901572576358871, 'fit_intercept': True, 'class_weight': 'balanced'}. Best is trial 106 with value: 0.8969753086419754.\n",
      "[I 2025-03-10 15:18:17,550] Trial 120 finished with value: 0.8954882154882154 and parameters: {'solver_penalty': ('newton-cholesky', None), 'C': 78.34797027541923, 'tol': 0.008359687158128175, 'fit_intercept': True, 'class_weight': 'balanced'}. Best is trial 106 with value: 0.8969753086419754.\n",
      "[I 2025-03-10 15:18:18,016] Trial 119 finished with value: 0.8962008978675644 and parameters: {'solver_penalty': ('lbfgs', 'l2'), 'C': 75.06076767758626, 'tol': 0.006816901447580671, 'fit_intercept': True, 'class_weight': 'balanced'}. Best is trial 106 with value: 0.8969753086419754.\n",
      "[I 2025-03-10 15:18:18,266] Trial 118 finished with value: 0.8958754208754209 and parameters: {'solver_penalty': ('lbfgs', 'l2'), 'C': 91.44901956464821, 'tol': 0.006100564530983054, 'fit_intercept': True, 'class_weight': 'balanced'}. Best is trial 106 with value: 0.8969753086419754.\n",
      "[I 2025-03-10 15:18:20,805] Trial 121 finished with value: 0.8969753086419754 and parameters: {'solver_penalty': ('lbfgs', 'l2'), 'C': 72.05269317690633, 'tol': 0.00806775550980146, 'fit_intercept': True, 'class_weight': 'balanced'}. Best is trial 106 with value: 0.8969753086419754.\n",
      "[I 2025-03-10 15:18:21,754] Trial 122 finished with value: 0.8968181818181818 and parameters: {'solver_penalty': ('lbfgs', 'l2'), 'C': 64.39325611132692, 'tol': 0.00997452994051641, 'fit_intercept': True, 'class_weight': 'balanced'}. Best is trial 106 with value: 0.8969753086419754.\n",
      "[I 2025-03-10 15:18:22,674] Trial 124 finished with value: 0.8968181818181818 and parameters: {'solver_penalty': ('lbfgs', 'l2'), 'C': 70.81638907112485, 'tol': 0.008981317495810496, 'fit_intercept': True, 'class_weight': 'balanced'}. Best is trial 106 with value: 0.8969753086419754.\n",
      "[I 2025-03-10 15:18:22,906] Trial 123 finished with value: 0.8969753086419754 and parameters: {'solver_penalty': ('lbfgs', 'l2'), 'C': 61.198152688703296, 'tol': 0.00848793010392424, 'fit_intercept': True, 'class_weight': 'balanced'}. Best is trial 106 with value: 0.8969753086419754.\n",
      "[I 2025-03-10 15:18:25,003] Trial 125 finished with value: 0.8968181818181818 and parameters: {'solver_penalty': ('lbfgs', 'l2'), 'C': 69.20544064017432, 'tol': 0.009309537484243317, 'fit_intercept': True, 'class_weight': 'balanced'}. Best is trial 106 with value: 0.8969753086419754.\n",
      "[I 2025-03-10 15:18:26,611] Trial 127 finished with value: 0.8962457912457913 and parameters: {'solver_penalty': ('lbfgs', 'l2'), 'C': 92.38803383546289, 'tol': 0.008951281801215131, 'fit_intercept': True, 'class_weight': None}. Best is trial 106 with value: 0.8969753086419754.\n",
      "[I 2025-03-10 15:18:26,839] Trial 128 finished with value: 0.8968181818181818 and parameters: {'solver_penalty': ('lbfgs', None), 'C': 18.446220044535934, 'tol': 0.008862528953927662, 'fit_intercept': True, 'class_weight': 'balanced'}. Best is trial 106 with value: 0.8969753086419754.\n",
      "[I 2025-03-10 15:18:29,581] Trial 131 finished with value: 0.8955387205387206 and parameters: {'solver_penalty': ('liblinear', 'l2'), 'C': 41.363864799646805, 'tol': 0.008314374032532419, 'fit_intercept': True, 'class_weight': 'balanced'}. Best is trial 106 with value: 0.8969753086419754.\n",
      "[I 2025-03-10 15:18:30,042] Trial 129 finished with value: 0.8968181818181818 and parameters: {'solver_penalty': ('lbfgs', None), 'C': 30.976446657886694, 'tol': 0.009241008186487529, 'fit_intercept': True, 'class_weight': 'balanced'}. Best is trial 106 with value: 0.8969753086419754.\n",
      "[I 2025-03-10 15:18:30,540] Trial 126 finished with value: 0.8961503928170595 and parameters: {'solver_penalty': ('newton-cg', 'l2'), 'C': 91.68468126097869, 'tol': 0.00959485086907474, 'fit_intercept': True, 'class_weight': 'balanced'}. Best is trial 106 with value: 0.8969753086419754.\n",
      "[I 2025-03-10 15:18:31,019] Trial 130 finished with value: 0.8958249158249159 and parameters: {'solver_penalty': ('lbfgs', None), 'C': 68.61808452801576, 'tol': 0.0074269706261487385, 'fit_intercept': True, 'class_weight': None}. Best is trial 106 with value: 0.8969753086419754.\n",
      "[I 2025-03-10 15:18:33,109] Trial 133 finished with value: 0.8954882154882154 and parameters: {'solver_penalty': ('newton-cholesky', None), 'C': 34.31652899072956, 'tol': 0.009660199297926903, 'fit_intercept': True, 'class_weight': 'balanced'}. Best is trial 106 with value: 0.8969753086419754.\n",
      "[I 2025-03-10 15:18:34,725] Trial 134 finished with value: 0.8969753086419754 and parameters: {'solver_penalty': ('lbfgs', 'l2'), 'C': 50.879044808681485, 'tol': 0.00870027963027672, 'fit_intercept': True, 'class_weight': 'balanced'}. Best is trial 106 with value: 0.8969753086419754.\n",
      "[I 2025-03-10 15:18:35,426] Trial 135 finished with value: 0.8969753086419754 and parameters: {'solver_penalty': ('lbfgs', 'l2'), 'C': 54.37081992326428, 'tol': 0.008241681170825787, 'fit_intercept': True, 'class_weight': 'balanced'}. Best is trial 106 with value: 0.8969753086419754.\n",
      "[I 2025-03-10 15:18:36,806] Trial 136 finished with value: 0.895465768799102 and parameters: {'solver_penalty': ('newton-cholesky', 'l2'), 'C': 62.420181615189726, 'tol': 0.00839216364129488, 'fit_intercept': True, 'class_weight': 'balanced'}. Best is trial 106 with value: 0.8969753086419754.\n",
      "[I 2025-03-10 15:18:37,281] Trial 132 finished with value: 0.8960269360269362 and parameters: {'solver_penalty': ('newton-cg', 'l2'), 'C': 82.68410944277412, 'tol': 0.009027260603991805, 'fit_intercept': True, 'class_weight': 'balanced'}. Best is trial 106 with value: 0.8969753086419754.\n",
      "[I 2025-03-10 15:18:37,980] Trial 137 finished with value: 0.8957575757575758 and parameters: {'solver_penalty': ('liblinear', 'l1'), 'C': 75.38777600514037, 'tol': 0.0070651934718906845, 'fit_intercept': True, 'class_weight': 'balanced'}. Best is trial 106 with value: 0.8969753086419754.\n",
      "[I 2025-03-10 15:18:40,310] Trial 140 finished with value: 0.8969753086419754 and parameters: {'solver_penalty': ('lbfgs', 'l2'), 'C': 52.86252297845249, 'tol': 0.008298778251965643, 'fit_intercept': True, 'class_weight': 'balanced'}. Best is trial 106 with value: 0.8969753086419754.\n",
      "[I 2025-03-10 15:18:41,953] Trial 138 finished with value: 0.8962177328843997 and parameters: {'solver_penalty': ('newton-cg', None), 'C': 36.65599642194916, 'tol': 0.007267495866289705, 'fit_intercept': True, 'class_weight': 'balanced'}. Best is trial 106 with value: 0.8969753086419754.\n",
      "[I 2025-03-10 15:18:43,358] Trial 142 finished with value: 0.8962682379349045 and parameters: {'solver_penalty': ('lbfgs', 'l2'), 'C': 42.2185147502682, 'tol': 0.007478423581642695, 'fit_intercept': True, 'class_weight': 'balanced'}. Best is trial 106 with value: 0.8969753086419754.\n",
      "[I 2025-03-10 15:18:43,585] Trial 139 finished with value: 0.8960606060606061 and parameters: {'solver_penalty': ('newton-cg', 'l2'), 'C': 32.08843273248493, 'tol': 0.006500451706250871, 'fit_intercept': True, 'class_weight': 'balanced'}. Best is trial 106 with value: 0.8969753086419754.\n",
      "[I 2025-03-10 15:18:44,316] Trial 141 finished with value: 0.8960606060606061 and parameters: {'solver_penalty': ('newton-cg', 'l2'), 'C': 54.24228094399914, 'tol': 0.0065706010643549985, 'fit_intercept': True, 'class_weight': 'balanced'}. Best is trial 106 with value: 0.8969753086419754.\n",
      "[I 2025-03-10 15:18:45,708] Trial 143 finished with value: 0.8968181818181818 and parameters: {'solver_penalty': ('lbfgs', 'l2'), 'C': 49.55194243598483, 'tol': 0.008831997445943934, 'fit_intercept': True, 'class_weight': 'balanced'}. Best is trial 106 with value: 0.8969753086419754.\n",
      "[I 2025-03-10 15:18:47,829] Trial 145 finished with value: 0.8968181818181818 and parameters: {'solver_penalty': ('lbfgs', 'l2'), 'C': 41.57780303465702, 'tol': 0.008795702583424535, 'fit_intercept': True, 'class_weight': 'balanced'}. Best is trial 106 with value: 0.8969753086419754.\n",
      "[I 2025-03-10 15:18:48,094] Trial 144 finished with value: 0.8962682379349045 and parameters: {'solver_penalty': ('lbfgs', 'l2'), 'C': 53.49437558831744, 'tol': 0.007598115403291635, 'fit_intercept': True, 'class_weight': 'balanced'}. Best is trial 106 with value: 0.8969753086419754.\n",
      "[I 2025-03-10 15:18:49,269] Trial 146 finished with value: 0.8969753086419754 and parameters: {'solver_penalty': ('lbfgs', 'l2'), 'C': 41.07208779605484, 'tol': 0.00839602059463892, 'fit_intercept': True, 'class_weight': 'balanced'}. Best is trial 106 with value: 0.8969753086419754.\n",
      "[I 2025-03-10 15:18:50,218] Trial 147 finished with value: 0.8962682379349045 and parameters: {'solver_penalty': ('lbfgs', 'l2'), 'C': 56.88456769823039, 'tol': 0.007513088661342842, 'fit_intercept': True, 'class_weight': 'balanced'}. Best is trial 106 with value: 0.8969753086419754.\n",
      "[I 2025-03-10 15:18:52,044] Trial 148 finished with value: 0.8969753086419754 and parameters: {'solver_penalty': ('lbfgs', 'l2'), 'C': 54.95664425539559, 'tol': 0.00792159332923789, 'fit_intercept': True, 'class_weight': 'balanced'}. Best is trial 106 with value: 0.8969753086419754.\n",
      "[I 2025-03-10 15:18:53,200] Trial 151 finished with value: 0.8958698092031424 and parameters: {'solver_penalty': ('liblinear', 'l2'), 'C': 11.20641726223667, 'tol': 0.0022225985449756663, 'fit_intercept': True, 'class_weight': None}. Best is trial 106 with value: 0.8969753086419754.\n",
      "[I 2025-03-10 15:18:53,896] Trial 150 finished with value: 0.8968181818181818 and parameters: {'solver_penalty': ('lbfgs', 'l2'), 'C': 45.83142061014632, 'tol': 0.009843090211257562, 'fit_intercept': True, 'class_weight': 'balanced'}. Best is trial 106 with value: 0.8969753086419754.\n",
      "[I 2025-03-10 15:18:56,228] Trial 149 finished with value: 0.8961503928170595 and parameters: {'solver_penalty': ('newton-cg', None), 'C': 96.17666643980165, 'tol': 0.0092652954011462, 'fit_intercept': True, 'class_weight': 'balanced'}. Best is trial 106 with value: 0.8969753086419754.\n",
      "[I 2025-03-10 15:18:56,882] Trial 152 finished with value: 0.8958585858585858 and parameters: {'solver_penalty': ('lbfgs', None), 'C': 49.65474771386843, 'tol': 0.0074402443014224915, 'fit_intercept': True, 'class_weight': 'balanced'}. Best is trial 106 with value: 0.8969753086419754.\n",
      "[I 2025-03-10 15:18:57,372] Trial 153 finished with value: 0.8968181818181818 and parameters: {'solver_penalty': ('lbfgs', 'l2'), 'C': 32.86309571535728, 'tol': 0.00956249492867462, 'fit_intercept': True, 'class_weight': 'balanced'}. Best is trial 106 with value: 0.8969753086419754.\n",
      "[I 2025-03-10 15:18:57,650] Trial 154 finished with value: 0.8968181818181818 and parameters: {'solver_penalty': ('lbfgs', 'l2'), 'C': 24.494188411860605, 'tol': 0.009283520564971443, 'fit_intercept': True, 'class_weight': 'balanced'}. Best is trial 106 with value: 0.8969753086419754.\n",
      "[I 2025-03-10 15:19:01,064] Trial 155 finished with value: 0.8962682379349045 and parameters: {'solver_penalty': ('lbfgs', None), 'C': 48.20733325897096, 'tol': 0.00762991636636839, 'fit_intercept': True, 'class_weight': 'balanced'}. Best is trial 106 with value: 0.8969753086419754.\n",
      "[I 2025-03-10 15:19:01,307] Trial 156 finished with value: 0.8968181818181818 and parameters: {'solver_penalty': ('lbfgs', 'l2'), 'C': 29.621380925822777, 'tol': 0.009112085605799996, 'fit_intercept': True, 'class_weight': 'balanced'}. Best is trial 106 with value: 0.8969753086419754.\n",
      "[I 2025-03-10 15:19:02,495] Trial 157 finished with value: 0.8846464646464647 and parameters: {'solver_penalty': ('lbfgs', 'l2'), 'C': 13.736047324697054, 'tol': 0.007285906592659655, 'fit_intercept': False, 'class_weight': 'balanced'}. Best is trial 106 with value: 0.8969753086419754.\n",
      "[I 2025-03-10 15:19:02,497] Trial 158 finished with value: 0.8955050505050505 and parameters: {'solver_penalty': ('newton-cholesky', 'l2'), 'C': 59.363026757916394, 'tol': 0.004883339672622463, 'fit_intercept': True, 'class_weight': 'balanced'}. Best is trial 106 with value: 0.8969753086419754.\n",
      "[I 2025-03-10 15:19:04,423] Trial 159 finished with value: 0.8958473625140293 and parameters: {'solver_penalty': ('lbfgs', 'l2'), 'C': 49.57786672919081, 'tol': 0.0049429582813030545, 'fit_intercept': True, 'class_weight': 'balanced'}. Best is trial 106 with value: 0.8969753086419754.\n",
      "[I 2025-03-10 15:19:06,934] Trial 163 finished with value: 0.8955948372615039 and parameters: {'solver_penalty': ('liblinear', 'l2'), 'C': 74.33981245926917, 'tol': 0.006828102838670911, 'fit_intercept': True, 'class_weight': 'balanced'}. Best is trial 106 with value: 0.8969753086419754.\n",
      "[I 2025-03-10 15:19:07,179] Trial 160 finished with value: 0.8878731762065094 and parameters: {'solver_penalty': ('newton-cg', 'l2'), 'C': 68.90569627502882, 'tol': 0.007295421486649021, 'fit_intercept': False, 'class_weight': 'balanced'}. Best is trial 106 with value: 0.8969753086419754.\n",
      "[I 2025-03-10 15:19:08,131] Trial 162 finished with value: 0.8960213243546576 and parameters: {'solver_penalty': ('newton-cg', None), 'C': 43.40126423646195, 'tol': 0.0007541965703837215, 'fit_intercept': False, 'class_weight': None}. Best is trial 106 with value: 0.8969753086419754.\n",
      "[I 2025-03-10 15:19:08,804] Trial 161 finished with value: 0.8961447811447811 and parameters: {'solver_penalty': ('newton-cg', 'l2'), 'C': 33.55147412807577, 'tol': 0.009425592472678098, 'fit_intercept': True, 'class_weight': 'balanced'}. Best is trial 106 with value: 0.8969753086419754.\n",
      "[I 2025-03-10 15:19:11,327] Trial 164 finished with value: 0.8962682379349045 and parameters: {'solver_penalty': ('lbfgs', 'l2'), 'C': 63.94315276214587, 'tol': 0.007559557448528143, 'fit_intercept': True, 'class_weight': 'balanced'}. Best is trial 106 with value: 0.8969753086419754.\n",
      "[I 2025-03-10 15:19:11,784] Trial 165 finished with value: 0.8962682379349045 and parameters: {'solver_penalty': ('lbfgs', 'l2'), 'C': 61.5638453789865, 'tol': 0.007598141576444847, 'fit_intercept': True, 'class_weight': 'balanced'}. Best is trial 106 with value: 0.8969753086419754.\n",
      "[I 2025-03-10 15:19:12,245] Trial 167 finished with value: 0.8958473625140291 and parameters: {'solver_penalty': ('liblinear', 'l1'), 'C': 13.983649574412148, 'tol': 0.009398201684352325, 'fit_intercept': True, 'class_weight': 'balanced'}. Best is trial 106 with value: 0.8969753086419754.\n",
      "[I 2025-03-10 15:19:13,205] Trial 166 finished with value: 0.8962682379349045 and parameters: {'solver_penalty': ('lbfgs', 'l2'), 'C': 69.13846359290044, 'tol': 0.007607717374129764, 'fit_intercept': True, 'class_weight': 'balanced'}. Best is trial 106 with value: 0.8969753086419754.\n",
      "[I 2025-03-10 15:19:15,477] Trial 169 finished with value: 0.8957575757575758 and parameters: {'solver_penalty': ('liblinear', 'l1'), 'C': 81.1788208763565, 'tol': 0.009852702138197403, 'fit_intercept': True, 'class_weight': 'balanced'}. Best is trial 106 with value: 0.8969753086419754.\n",
      "[I 2025-03-10 15:19:16,190] Trial 168 finished with value: 0.8968181818181818 and parameters: {'solver_penalty': ('lbfgs', 'l2'), 'C': 66.07065363904971, 'tol': 0.009307274177807376, 'fit_intercept': True, 'class_weight': 'balanced'}. Best is trial 106 with value: 0.8969753086419754.\n",
      "[I 2025-03-10 15:19:17,149] Trial 170 finished with value: 0.8969753086419754 and parameters: {'solver_penalty': ('lbfgs', 'l2'), 'C': 83.67858421971066, 'tol': 0.008001250436809318, 'fit_intercept': True, 'class_weight': 'balanced'}. Best is trial 106 with value: 0.8969753086419754.\n",
      "[I 2025-03-10 15:19:18,763] Trial 171 finished with value: 0.8969753086419754 and parameters: {'solver_penalty': ('lbfgs', 'l2'), 'C': 93.7412198083199, 'tol': 0.008183840393352045, 'fit_intercept': True, 'class_weight': 'balanced'}. Best is trial 106 with value: 0.8969753086419754.\n",
      "[I 2025-03-10 15:19:19,699] Trial 173 finished with value: 0.8957744107744107 and parameters: {'solver_penalty': ('liblinear', 'l1'), 'C': 40.668479338273826, 'tol': 0.007152935441519566, 'fit_intercept': True, 'class_weight': 'balanced'}. Best is trial 106 with value: 0.8969753086419754.\n",
      "[I 2025-03-10 15:19:20,200] Trial 172 finished with value: 0.8968181818181818 and parameters: {'solver_penalty': ('lbfgs', 'l2'), 'C': 52.50572796277731, 'tol': 0.009760739282581194, 'fit_intercept': True, 'class_weight': 'balanced'}. Best is trial 106 with value: 0.8969753086419754.\n",
      "[I 2025-03-10 15:19:22,524] Trial 174 finished with value: 0.8836251402918069 and parameters: {'solver_penalty': ('lbfgs', None), 'C': 76.27225234583086, 'tol': 0.009982901040461208, 'fit_intercept': False, 'class_weight': 'balanced'}. Best is trial 106 with value: 0.8969753086419754.\n",
      "[I 2025-03-10 15:19:23,469] Trial 176 finished with value: 0.8954882154882154 and parameters: {'solver_penalty': ('newton-cholesky', None), 'C': 46.83097776870879, 'tol': 0.006791011884524583, 'fit_intercept': True, 'class_weight': 'balanced'}. Best is trial 106 with value: 0.8969753086419754.\n",
      "[I 2025-03-10 15:19:23,915] Trial 175 finished with value: 0.8969753086419754 and parameters: {'solver_penalty': ('lbfgs', 'l2'), 'C': 91.65826780238783, 'tol': 0.007987573511771883, 'fit_intercept': True, 'class_weight': 'balanced'}. Best is trial 106 with value: 0.8969753086419754.\n",
      "[I 2025-03-10 15:19:24,882] Trial 177 finished with value: 0.8969753086419754 and parameters: {'solver_penalty': ('lbfgs', 'l2'), 'C': 93.99895463816472, 'tol': 0.00871803280583684, 'fit_intercept': True, 'class_weight': 'balanced'}. Best is trial 106 with value: 0.8969753086419754.\n",
      "[I 2025-03-10 15:19:27,639] Trial 178 finished with value: 0.8969753086419754 and parameters: {'solver_penalty': ('lbfgs', 'l2'), 'C': 80.10732390612372, 'tol': 0.008101783537884839, 'fit_intercept': True, 'class_weight': 'balanced'}. Best is trial 106 with value: 0.8969753086419754.\n",
      "[I 2025-03-10 15:19:27,898] Trial 179 finished with value: 0.8969753086419754 and parameters: {'solver_penalty': ('lbfgs', 'l2'), 'C': 81.84989782193043, 'tol': 0.008505356525282374, 'fit_intercept': True, 'class_weight': 'balanced'}. Best is trial 106 with value: 0.8969753086419754.\n",
      "[I 2025-03-10 15:19:29,067] Trial 181 finished with value: 0.8958698092031426 and parameters: {'solver_penalty': ('lbfgs', 'l2'), 'C': 95.09833401027724, 'tol': 0.007224206862046048, 'fit_intercept': True, 'class_weight': 'balanced'}. Best is trial 106 with value: 0.8969753086419754.\n",
      "[I 2025-03-10 15:19:29,768] Trial 180 finished with value: 0.8828451178451179 and parameters: {'solver_penalty': ('lbfgs', 'l2'), 'C': 32.7181698165909, 'tol': 0.0022821176311637356, 'fit_intercept': False, 'class_weight': 'balanced'}. Best is trial 106 with value: 0.8969753086419754.\n",
      "[I 2025-03-10 15:19:32,315] Trial 182 finished with value: 0.8845622895622895 and parameters: {'solver_penalty': ('lbfgs', 'l2'), 'C': 49.68290053235869, 'tol': 0.006008565371403016, 'fit_intercept': False, 'class_weight': 'balanced'}. Best is trial 106 with value: 0.8969753086419754.\n",
      "[I 2025-03-10 15:19:33,041] Trial 183 finished with value: 0.8845286195286196 and parameters: {'solver_penalty': ('lbfgs', 'l2'), 'C': 64.74858125281696, 'tol': 0.006082742047257525, 'fit_intercept': False, 'class_weight': 'balanced'}. Best is trial 106 with value: 0.8969753086419754.\n",
      "[I 2025-03-10 15:19:33,288] Trial 184 finished with value: 0.8962682379349045 and parameters: {'solver_penalty': ('lbfgs', 'l2'), 'C': 89.20139088278492, 'tol': 0.007605980958066198, 'fit_intercept': True, 'class_weight': 'balanced'}. Best is trial 106 with value: 0.8969753086419754.\n",
      "[I 2025-03-10 15:19:33,769] Trial 185 finished with value: 0.8958698092031426 and parameters: {'solver_penalty': ('lbfgs', 'l2'), 'C': 87.46133815136413, 'tol': 0.007167615254421618, 'fit_intercept': True, 'class_weight': 'balanced'}. Best is trial 106 with value: 0.8969753086419754.\n",
      "[I 2025-03-10 15:19:36,994] Trial 186 finished with value: 0.8969753086419754 and parameters: {'solver_penalty': ('lbfgs', 'l2'), 'C': 87.79646536613382, 'tol': 0.007798054182352592, 'fit_intercept': True, 'class_weight': 'balanced'}. Best is trial 106 with value: 0.8969753086419754.\n",
      "[I 2025-03-10 15:19:37,206] Trial 187 finished with value: 0.8955274971941639 and parameters: {'solver_penalty': ('newton-cholesky', 'l2'), 'C': 90.62145325622997, 'tol': 0.005929148053655087, 'fit_intercept': True, 'class_weight': 'balanced'}. Best is trial 106 with value: 0.8969753086419754.\n",
      "[I 2025-03-10 15:19:38,175] Trial 188 finished with value: 0.8969753086419754 and parameters: {'solver_penalty': ('lbfgs', 'l2'), 'C': 85.30796471382475, 'tol': 0.007696363484832925, 'fit_intercept': True, 'class_weight': 'balanced'}. Best is trial 106 with value: 0.8969753086419754.\n",
      "[I 2025-03-10 15:19:38,635] Trial 189 finished with value: 0.8969753086419754 and parameters: {'solver_penalty': ('lbfgs', 'l2'), 'C': 94.91438819723562, 'tol': 0.008213001160932237, 'fit_intercept': True, 'class_weight': 'balanced'}. Best is trial 106 with value: 0.8969753086419754.\n",
      "[I 2025-03-10 15:19:41,184] Trial 190 finished with value: 0.8962682379349045 and parameters: {'solver_penalty': ('lbfgs', 'l2'), 'C': 87.35398769952099, 'tol': 0.007632330673106207, 'fit_intercept': True, 'class_weight': 'balanced'}. Best is trial 106 with value: 0.8969753086419754.\n",
      "[I 2025-03-10 15:19:42,306] Trial 193 finished with value: 0.8836363636363636 and parameters: {'solver_penalty': ('newton-cholesky', 'l2'), 'C': 25.185048185640174, 'tol': 0.009116383374282323, 'fit_intercept': False, 'class_weight': 'balanced'}. Best is trial 106 with value: 0.8969753086419754.\n",
      "[I 2025-03-10 15:19:42,307] Trial 192 finished with value: 0.8969753086419754 and parameters: {'solver_penalty': ('lbfgs', 'l2'), 'C': 96.59754972675944, 'tol': 0.00801899813827341, 'fit_intercept': True, 'class_weight': 'balanced'}. Best is trial 106 with value: 0.8969753086419754.\n",
      "[I 2025-03-10 15:19:45,579] Trial 194 finished with value: 0.8958698092031426 and parameters: {'solver_penalty': ('lbfgs', 'l2'), 'C': 80.49269927163002, 'tol': 0.0071669284162266395, 'fit_intercept': True, 'class_weight': 'balanced'}. Best is trial 106 with value: 0.8969753086419754.\n",
      "[I 2025-03-10 15:19:46,062] Trial 196 finished with value: 0.8969753086419754 and parameters: {'solver_penalty': ('lbfgs', 'l2'), 'C': 96.44940750148398, 'tol': 0.007780944407756468, 'fit_intercept': True, 'class_weight': 'balanced'}. Best is trial 106 with value: 0.8969753086419754.\n",
      "[I 2025-03-10 15:19:46,309] Trial 191 finished with value: 0.8961054994388327 and parameters: {'solver_penalty': ('newton-cg', None), 'C': 71.1456619368486, 'tol': 0.0006091692129315037, 'fit_intercept': True, 'class_weight': None}. Best is trial 106 with value: 0.8969753086419754.\n",
      "[I 2025-03-10 15:19:46,531] Trial 195 finished with value: 0.8958698092031426 and parameters: {'solver_penalty': ('lbfgs', 'l2'), 'C': 87.37545274559534, 'tol': 0.007363601067038978, 'fit_intercept': True, 'class_weight': 'balanced'}. Best is trial 106 with value: 0.8969753086419754.\n",
      "[I 2025-03-10 15:19:49,341] Trial 197 finished with value: 0.8959259259259259 and parameters: {'solver_penalty': ('lbfgs', 'l2'), 'C': 70.0615793336778, 'tol': 0.005815949261938139, 'fit_intercept': True, 'class_weight': None}. Best is trial 106 with value: 0.8969753086419754.\n",
      "[I 2025-03-10 15:19:50,269] Trial 198 finished with value: 0.8969753086419754 and parameters: {'solver_penalty': ('lbfgs', 'l2'), 'C': 88.60655817615886, 'tol': 0.008214251846517454, 'fit_intercept': True, 'class_weight': 'balanced'}. Best is trial 106 with value: 0.8969753086419754.\n",
      "[I 2025-03-10 15:19:50,512] Trial 200 finished with value: 0.8969753086419754 and parameters: {'solver_penalty': ('lbfgs', 'l2'), 'C': 99.40121637827707, 'tol': 0.008101798533714807, 'fit_intercept': True, 'class_weight': 'balanced'}. Best is trial 106 with value: 0.8969753086419754.\n",
      "[I 2025-03-10 15:19:53,310] Trial 201 finished with value: 0.8958080808080808 and parameters: {'solver_penalty': ('lbfgs', 'l2'), 'C': 81.37199188658981, 'tol': 0.006798349766843002, 'fit_intercept': False, 'class_weight': None}. Best is trial 106 with value: 0.8969753086419754.\n",
      "[I 2025-03-10 15:19:53,736] Trial 203 finished with value: 0.8962682379349045 and parameters: {'solver_penalty': ('liblinear', 'l2'), 'C': 90.66399002535992, 'tol': 0.009529116722836174, 'fit_intercept': True, 'class_weight': None}. Best is trial 106 with value: 0.8969753086419754.\n",
      "[I 2025-03-10 15:19:54,682] Trial 202 finished with value: 0.8954882154882154 and parameters: {'solver_penalty': ('newton-cholesky', None), 'C': 96.66111569928394, 'tol': 0.006796154146520352, 'fit_intercept': True, 'class_weight': 'balanced'}. Best is trial 106 with value: 0.8969753086419754.\n",
      "[I 2025-03-10 15:19:56,289] Trial 205 finished with value: 0.8956004489337822 and parameters: {'solver_penalty': ('liblinear', 'l2'), 'C': 97.52151011554906, 'tol': 0.009526218942528501, 'fit_intercept': True, 'class_weight': 'balanced'}. Best is trial 106 with value: 0.8969753086419754.\n",
      "[I 2025-03-10 15:19:56,511] Trial 199 finished with value: 0.8960549943883278 and parameters: {'solver_penalty': ('newton-cg', 'l2'), 'C': 95.77915384302065, 'tol': 0.006157323399056967, 'fit_intercept': True, 'class_weight': 'balanced'}. Best is trial 106 with value: 0.8969753086419754.\n",
      "[I 2025-03-10 15:19:58,156] Trial 204 finished with value: 0.8969753086419754 and parameters: {'solver_penalty': ('lbfgs', 'l2'), 'C': 93.2974283916457, 'tol': 0.008414588600500204, 'fit_intercept': True, 'class_weight': 'balanced'}. Best is trial 106 with value: 0.8969753086419754.\n",
      "[I 2025-03-10 15:19:59,102] Trial 206 finished with value: 0.8969753086419754 and parameters: {'solver_penalty': ('lbfgs', 'l2'), 'C': 88.78098265488644, 'tol': 0.007767639871272424, 'fit_intercept': True, 'class_weight': 'balanced'}. Best is trial 106 with value: 0.8969753086419754.\n",
      "[I 2025-03-10 15:20:00,698] Trial 208 finished with value: 0.8969753086419754 and parameters: {'solver_penalty': ('lbfgs', 'l2'), 'C': 98.59172130405362, 'tol': 0.008333066577466079, 'fit_intercept': True, 'class_weight': 'balanced'}. Best is trial 106 with value: 0.8969753086419754.\n",
      "[I 2025-03-10 15:20:00,920] Trial 207 finished with value: 0.8969753086419754 and parameters: {'solver_penalty': ('lbfgs', 'l2'), 'C': 99.93030178917654, 'tol': 0.007855542560195172, 'fit_intercept': True, 'class_weight': 'balanced'}. Best is trial 106 with value: 0.8969753086419754.\n",
      "[I 2025-03-10 15:20:03,060] Trial 209 finished with value: 0.8962682379349045 and parameters: {'solver_penalty': ('lbfgs', 'l2'), 'C': 93.38115883923739, 'tol': 0.007629419272484511, 'fit_intercept': True, 'class_weight': 'balanced'}. Best is trial 106 with value: 0.8969753086419754.\n",
      "[I 2025-03-10 15:20:03,751] Trial 210 finished with value: 0.8962682379349045 and parameters: {'solver_penalty': ('lbfgs', 'l2'), 'C': 97.29286565701675, 'tol': 0.007527118386055799, 'fit_intercept': True, 'class_weight': 'balanced'}. Best is trial 106 with value: 0.8969753086419754.\n",
      "[I 2025-03-10 15:20:05,156] Trial 211 finished with value: 0.8969753086419754 and parameters: {'solver_penalty': ('lbfgs', 'l2'), 'C': 95.1093109835144, 'tol': 0.007746513971198304, 'fit_intercept': True, 'class_weight': 'balanced'}. Best is trial 106 with value: 0.8969753086419754.\n",
      "[I 2025-03-10 15:20:05,394] Trial 212 finished with value: 0.8962008978675644 and parameters: {'solver_penalty': ('lbfgs', 'l2'), 'C': 68.85978468189168, 'tol': 0.006851747357013653, 'fit_intercept': True, 'class_weight': 'balanced'}. Best is trial 106 with value: 0.8969753086419754.\n",
      "[I 2025-03-10 15:20:07,942] Trial 213 finished with value: 0.8959034792368126 and parameters: {'solver_penalty': ('lbfgs', None), 'C': 95.94426679205782, 'tol': 0.006527400654590594, 'fit_intercept': True, 'class_weight': 'balanced'}. Best is trial 106 with value: 0.8969753086419754.\n",
      "[I 2025-03-10 15:20:08,858] Trial 216 finished with value: 0.8835072951739618 and parameters: {'solver_penalty': ('newton-cholesky', 'l2'), 'C': 98.79187343441869, 'tol': 0.006012114599752521, 'fit_intercept': False, 'class_weight': 'balanced'}. Best is trial 106 with value: 0.8969753086419754.\n",
      "[I 2025-03-10 15:20:09,353] Trial 214 finished with value: 0.8961111111111112 and parameters: {'solver_penalty': ('newton-cg', 'l2'), 'C': 85.15865779067258, 'tol': 0.007912706347801819, 'fit_intercept': True, 'class_weight': None}. Best is trial 106 with value: 0.8969753086419754.\n",
      "[I 2025-03-10 15:20:11,877] Trial 217 finished with value: 0.8969753086419754 and parameters: {'solver_penalty': ('lbfgs', 'l2'), 'C': 94.30251844588253, 'tol': 0.008660528340726585, 'fit_intercept': True, 'class_weight': 'balanced'}. Best is trial 106 with value: 0.8969753086419754.\n",
      "[I 2025-03-10 15:20:12,568] Trial 219 finished with value: 0.8831200897867564 and parameters: {'solver_penalty': ('liblinear', 'l2'), 'C': 76.6355490377891, 'tol': 0.002514862711013293, 'fit_intercept': False, 'class_weight': 'balanced'}. Best is trial 106 with value: 0.8969753086419754.\n",
      "[I 2025-03-10 15:20:13,318] Trial 218 finished with value: 0.8952918069584734 and parameters: {'solver_penalty': ('lbfgs', 'l2'), 'C': 92.72871426134341, 'tol': 0.0017643018780177846, 'fit_intercept': True, 'class_weight': None}. Best is trial 106 with value: 0.8969753086419754.\n",
      "[I 2025-03-10 15:20:13,797] Trial 215 finished with value: 0.8960381593714928 and parameters: {'solver_penalty': ('newton-cg', None), 'C': 97.65614070940977, 'tol': 0.00686210003571975, 'fit_intercept': True, 'class_weight': 'balanced'}. Best is trial 106 with value: 0.8969753086419754.\n",
      "[I 2025-03-10 15:20:16,569] Trial 222 finished with value: 0.8956004489337822 and parameters: {'solver_penalty': ('liblinear', 'l2'), 'C': 97.33807043574606, 'tol': 0.006615218783065658, 'fit_intercept': True, 'class_weight': 'balanced'}. Best is trial 106 with value: 0.8969753086419754.\n",
      "[I 2025-03-10 15:20:16,796] Trial 220 finished with value: 0.8969753086419754 and parameters: {'solver_penalty': ('lbfgs', 'l2'), 'C': 75.46960692430737, 'tol': 0.008105949125598672, 'fit_intercept': True, 'class_weight': 'balanced'}. Best is trial 106 with value: 0.8969753086419754.\n",
      "[I 2025-03-10 15:20:17,272] Trial 221 finished with value: 0.8969753086419754 and parameters: {'solver_penalty': ('lbfgs', 'l2'), 'C': 99.64532490838357, 'tol': 0.008008663814748714, 'fit_intercept': True, 'class_weight': 'balanced'}. Best is trial 106 with value: 0.8969753086419754.\n",
      "[I 2025-03-10 15:20:18,678] Trial 223 finished with value: 0.8969753086419754 and parameters: {'solver_penalty': ('lbfgs', 'l2'), 'C': 82.53648518438575, 'tol': 0.008171966767175538, 'fit_intercept': True, 'class_weight': 'balanced'}. Best is trial 106 with value: 0.8969753086419754.\n",
      "[I 2025-03-10 15:20:20,291] Trial 224 finished with value: 0.8958585858585859 and parameters: {'solver_penalty': ('newton-cholesky', None), 'C': 57.45435710671595, 'tol': 0.00452424573328056, 'fit_intercept': False, 'class_weight': None}. Best is trial 106 with value: 0.8969753086419754.\n",
      "[I 2025-03-10 15:20:21,877] Trial 225 finished with value: 0.8969753086419754 and parameters: {'solver_penalty': ('lbfgs', 'l2'), 'C': 99.23243696382502, 'tol': 0.008488825186011921, 'fit_intercept': True, 'class_weight': 'balanced'}. Best is trial 106 with value: 0.8969753086419754.\n",
      "[I 2025-03-10 15:20:22,350] Trial 226 finished with value: 0.8962682379349045 and parameters: {'solver_penalty': ('lbfgs', 'l2'), 'C': 76.18160037165738, 'tol': 0.007618321464072511, 'fit_intercept': True, 'class_weight': 'balanced'}. Best is trial 106 with value: 0.8969753086419754.\n",
      "[I 2025-03-10 15:20:22,814] Trial 227 finished with value: 0.8859708193041526 and parameters: {'solver_penalty': ('liblinear', 'l1'), 'C': 69.97219533402958, 'tol': 0.009181634938405212, 'fit_intercept': False, 'class_weight': 'balanced'}. Best is trial 106 with value: 0.8969753086419754.\n",
      "[I 2025-03-10 15:20:26,087] Trial 228 finished with value: 0.8969753086419754 and parameters: {'solver_penalty': ('lbfgs', 'l2'), 'C': 87.89887102384824, 'tol': 0.008095662364993315, 'fit_intercept': True, 'class_weight': 'balanced'}. Best is trial 106 with value: 0.8969753086419754.\n",
      "[I 2025-03-10 15:20:26,563] Trial 230 finished with value: 0.8954882154882154 and parameters: {'solver_penalty': ('newton-cholesky', None), 'C': 99.9656412447675, 'tol': 0.009561075745055072, 'fit_intercept': True, 'class_weight': 'balanced'}. Best is trial 106 with value: 0.8969753086419754.\n",
      "[I 2025-03-10 15:20:27,260] Trial 229 finished with value: 0.8962682379349045 and parameters: {'solver_penalty': ('lbfgs', 'l2'), 'C': 77.39508980697923, 'tol': 0.007619543070418543, 'fit_intercept': True, 'class_weight': 'balanced'}. Best is trial 106 with value: 0.8969753086419754.\n",
      "[I 2025-03-10 15:20:27,506] Trial 231 finished with value: 0.884304152637486 and parameters: {'solver_penalty': ('lbfgs', 'l2'), 'C': 76.15173966637775, 'tol': 0.008808181562338993, 'fit_intercept': False, 'class_weight': 'balanced'}. Best is trial 106 with value: 0.8969753086419754.\n",
      "[I 2025-03-10 15:20:28,660] Trial 232 finished with value: 0.8834399551066218 and parameters: {'solver_penalty': ('liblinear', 'l2'), 'C': 95.35617954468431, 'tol': 0.009041336350063335, 'fit_intercept': False, 'class_weight': 'balanced'}. Best is trial 106 with value: 0.8969753086419754.\n",
      "[I 2025-03-10 15:20:32,059] Trial 233 finished with value: 0.8962682379349045 and parameters: {'solver_penalty': ('lbfgs', None), 'C': 72.6458553351819, 'tol': 0.0075089918106878, 'fit_intercept': True, 'class_weight': 'balanced'}. Best is trial 106 with value: 0.8969753086419754.\n",
      "[I 2025-03-10 15:20:32,280] Trial 236 finished with value: 0.8957519640852973 and parameters: {'solver_penalty': ('liblinear', 'l1'), 'C': 96.87557678312051, 'tol': 0.007110553197060587, 'fit_intercept': True, 'class_weight': 'balanced'}. Best is trial 106 with value: 0.8969753086419754.\n",
      "[I 2025-03-10 15:20:32,741] Trial 234 finished with value: 0.8954769921436588 and parameters: {'solver_penalty': ('newton-cholesky', 'l2'), 'C': 94.686518005302, 'tol': 0.008097485906184886, 'fit_intercept': True, 'class_weight': 'balanced'}. Best is trial 106 with value: 0.8969753086419754.\n",
      "[I 2025-03-10 15:20:33,027] Trial 235 finished with value: 0.8958585858585858 and parameters: {'solver_penalty': ('lbfgs', None), 'C': 75.46617546195449, 'tol': 0.007375195210954753, 'fit_intercept': True, 'class_weight': 'balanced'}. Best is trial 106 with value: 0.8969753086419754.\n",
      "[I 2025-03-10 15:20:35,299] Trial 238 finished with value: 0.8957351290684624 and parameters: {'solver_penalty': ('liblinear', 'l2'), 'C': 91.57361473694638, 'tol': 0.0015171533940210903, 'fit_intercept': False, 'class_weight': None}. Best is trial 106 with value: 0.8969753086419754.\n",
      "[I 2025-03-10 15:20:36,929] Trial 237 finished with value: 0.8958698092031426 and parameters: {'solver_penalty': ('lbfgs', 'l2'), 'C': 99.9742188161291, 'tol': 0.007029998584577875, 'fit_intercept': True, 'class_weight': 'balanced'}. Best is trial 106 with value: 0.8969753086419754.\n",
      "[I 2025-03-10 15:20:37,590] Trial 239 finished with value: 0.8969753086419754 and parameters: {'solver_penalty': ('lbfgs', 'l2'), 'C': 95.80625107990195, 'tol': 0.007869093706272477, 'fit_intercept': True, 'class_weight': 'balanced'}. Best is trial 106 with value: 0.8969753086419754.\n",
      "[I 2025-03-10 15:20:38,076] Trial 240 finished with value: 0.8954994388327722 and parameters: {'solver_penalty': ('newton-cholesky', None), 'C': 95.26426639874708, 'tol': 0.0025263931238153287, 'fit_intercept': True, 'class_weight': 'balanced'}. Best is trial 106 with value: 0.8969753086419754.\n",
      "[I 2025-03-10 15:20:40,145] Trial 241 finished with value: 0.8958698092031426 and parameters: {'solver_penalty': ('lbfgs', 'l2'), 'C': 93.47782742804011, 'tol': 0.0072617026194894945, 'fit_intercept': True, 'class_weight': 'balanced'}. Best is trial 106 with value: 0.8969753086419754.\n",
      "[I 2025-03-10 15:20:41,081] Trial 242 finished with value: 0.8958978675645343 and parameters: {'solver_penalty': ('newton-cholesky', 'l2'), 'C': 14.934788161274938, 'tol': 0.0025416228573305003, 'fit_intercept': False, 'class_weight': None}. Best is trial 106 with value: 0.8969753086419754.\n",
      "[I 2025-03-10 15:20:42,017] Trial 243 finished with value: 0.8969753086419754 and parameters: {'solver_penalty': ('lbfgs', 'l2'), 'C': 94.85070727344005, 'tol': 0.0087420073199721, 'fit_intercept': True, 'class_weight': 'balanced'}. Best is trial 106 with value: 0.8969753086419754.\n",
      "[I 2025-03-10 15:20:43,181] Trial 244 finished with value: 0.8969753086419754 and parameters: {'solver_penalty': ('lbfgs', 'l2'), 'C': 96.36795349946388, 'tol': 0.008731572963386792, 'fit_intercept': True, 'class_weight': 'balanced'}. Best is trial 106 with value: 0.8969753086419754.\n",
      "[I 2025-03-10 15:20:44,332] Trial 245 finished with value: 0.8835521885521885 and parameters: {'solver_penalty': ('newton-cholesky', None), 'C': 15.048077073658995, 'tol': 0.00366652646713058, 'fit_intercept': False, 'class_weight': 'balanced'}. Best is trial 106 with value: 0.8969753086419754.\n",
      "[I 2025-03-10 15:20:45,518] Trial 246 finished with value: 0.8958641975308643 and parameters: {'solver_penalty': ('lbfgs', 'l2'), 'C': 97.17144056031391, 'tol': 0.007200348953248307, 'fit_intercept': True, 'class_weight': None}. Best is trial 106 with value: 0.8969753086419754.\n",
      "[I 2025-03-10 15:20:47,099] Trial 247 finished with value: 0.8969753086419754 and parameters: {'solver_penalty': ('lbfgs', 'l2'), 'C': 98.12883758854538, 'tol': 0.008373800419779077, 'fit_intercept': True, 'class_weight': 'balanced'}. Best is trial 106 with value: 0.8969753086419754.\n",
      "[I 2025-03-10 15:20:47,770] Trial 248 finished with value: 0.8845005611672278 and parameters: {'solver_penalty': ('lbfgs', 'l2'), 'C': 98.66964169714757, 'tol': 0.0064786480947891, 'fit_intercept': False, 'class_weight': 'balanced'}. Best is trial 106 with value: 0.8969753086419754.\n",
      "[I 2025-03-10 15:20:47,986] Trial 249 finished with value: 0.8969753086419754 and parameters: {'solver_penalty': ('lbfgs', 'l2'), 'C': 87.29337682080458, 'tol': 0.008188334735099294, 'fit_intercept': True, 'class_weight': 'balanced'}. Best is trial 106 with value: 0.8969753086419754.\n"
     ]
    }
   ],
   "source": [
    "def objective(trial):\n",
    "    solver_penalty_options = [\n",
    "        (\"liblinear\", \"l1\"),\n",
    "        (\"liblinear\", \"l2\"),\n",
    "        (\"lbfgs\", \"l2\"),\n",
    "        (\"lbfgs\", None),\n",
    "        (\"newton-cg\", \"l2\"),\n",
    "        (\"newton-cg\", None),\n",
    "        (\"newton-cholesky\", \"l2\"),\n",
    "        (\"newton-cholesky\", None)\n",
    "    ]\n",
    "    solver, penalty = trial.suggest_categorical(\"solver_penalty\", solver_penalty_options)\n",
    "    \n",
    "    params = {\n",
    "        \"random_state\": CFG.seed,\n",
    "        \"max_iter\": 500,\n",
    "        \"C\": trial.suggest_float(\"C\", 0, 100),\n",
    "        \"tol\": trial.suggest_float(\"tol\", 1e-6, 1e-2),\n",
    "        \"fit_intercept\": trial.suggest_categorical(\"fit_intercept\", [True, False]),\n",
    "        \"class_weight\": trial.suggest_categorical(\"class_weight\", [\"balanced\", None]),\n",
    "        \"solver\": solver,\n",
    "        \"penalty\": penalty\n",
    "    }\n",
    "    \n",
    "    model = LogisticRegression(**params)\n",
    "    trainer = Trainer(model, is_ensemble_model=True)\n",
    "    return trainer.tune(X, y)\n",
    "\n",
    "if CFG.run_optuna:\n",
    "    sampler = optuna.samplers.TPESampler(seed=CFG.seed, multivariate=True, n_startup_trials=CFG.optuna_trials // 10)\n",
    "    study = optuna.create_study(direction=\"maximize\", sampler=sampler)\n",
    "    study.optimize(objective, n_trials=CFG.optuna_trials, n_jobs=-1)\n",
    "    best_params = study.best_params\n",
    "    \n",
    "    solver, penalty = best_params[\"solver_penalty\"]\n",
    "    lr_params = {\n",
    "        \"random_state\": CFG.seed,\n",
    "        \"max_iter\": 500,\n",
    "        \"C\": best_params[\"C\"],\n",
    "        \"tol\": best_params[\"tol\"],\n",
    "        \"fit_intercept\": best_params[\"fit_intercept\"],\n",
    "        \"class_weight\": best_params[\"class_weight\"],\n",
    "        \"solver\": solver,\n",
    "        \"penalty\": penalty\n",
    "    }\n",
    "else:\n",
    "    lr_params = {\n",
    "        \"random_state\": CFG.seed,\n",
    "        \"max_iter\": 500\n",
    "    }"
   ]
  },
  {
   "cell_type": "code",
   "execution_count": 24,
   "id": "8b427268",
   "metadata": {
    "execution": {
     "iopub.execute_input": "2025-03-10T15:20:48.086395Z",
     "iopub.status.busy": "2025-03-10T15:20:48.086059Z",
     "iopub.status.idle": "2025-03-10T15:20:48.090614Z",
     "shell.execute_reply": "2025-03-10T15:20:48.089844Z"
    },
    "papermill": {
     "duration": 0.076848,
     "end_time": "2025-03-10T15:20:48.091959",
     "exception": false,
     "start_time": "2025-03-10T15:20:48.015111",
     "status": "completed"
    },
    "tags": []
   },
   "outputs": [
    {
     "name": "stdout",
     "output_type": "stream",
     "text": [
      "{\n",
      "  \"random_state\": 42,\n",
      "  \"max_iter\": 500,\n",
      "  \"C\": 71.99626688338633,\n",
      "  \"tol\": 0.008546150584027787,\n",
      "  \"fit_intercept\": true,\n",
      "  \"class_weight\": \"balanced\",\n",
      "  \"solver\": \"lbfgs\",\n",
      "  \"penalty\": null\n",
      "}\n"
     ]
    }
   ],
   "source": [
    "print(json.dumps(lr_params, indent=2))"
   ]
  },
  {
   "cell_type": "code",
   "execution_count": 25,
   "id": "67eb43af",
   "metadata": {
    "execution": {
     "iopub.execute_input": "2025-03-10T15:20:48.138986Z",
     "iopub.status.busy": "2025-03-10T15:20:48.138601Z",
     "iopub.status.idle": "2025-03-10T15:20:49.267069Z",
     "shell.execute_reply": "2025-03-10T15:20:49.266177Z"
    },
    "papermill": {
     "duration": 1.153626,
     "end_time": "2025-03-10T15:20:49.268463",
     "exception": false,
     "start_time": "2025-03-10T15:20:48.114837",
     "status": "completed"
    },
    "tags": []
   },
   "outputs": [
    {
     "name": "stdout",
     "output_type": "stream",
     "text": [
      "Training LogisticRegression\n",
      "\n",
      "--- Fold 1 - ROC AUC: 0.927413 (13 iterations)\n",
      "--- Fold 2 - ROC AUC: 0.860017 (8 iterations)\n",
      "--- Fold 3 - ROC AUC: 0.879966 (9 iterations)\n",
      "--- Fold 4 - ROC AUC: 0.915516 (9 iterations)\n",
      "--- Fold 5 - ROC AUC: 0.901964 (9 iterations)\n",
      "\n",
      "------ Overall: 0.896306 | Average: 0.896975 ± 0.024291\n"
     ]
    }
   ],
   "source": [
    "lr_model = LogisticRegression(**lr_params)\n",
    "lr_trainer = Trainer(lr_model, is_ensemble_model=True)\n",
    "lr_oof_pred_probs, lr_test_pred_probs, scores[\"Ensemble LR\"], lr_coeffs = lr_trainer.fit_predict(X, y, X_test)"
   ]
  },
  {
   "cell_type": "code",
   "execution_count": 26,
   "id": "12383a7b",
   "metadata": {
    "execution": {
     "iopub.execute_input": "2025-03-10T15:20:49.317223Z",
     "iopub.status.busy": "2025-03-10T15:20:49.316888Z",
     "iopub.status.idle": "2025-03-10T15:20:49.352317Z",
     "shell.execute_reply": "2025-03-10T15:20:49.351382Z"
    },
    "papermill": {
     "duration": 0.061689,
     "end_time": "2025-03-10T15:20:49.353748",
     "exception": false,
     "start_time": "2025-03-10T15:20:49.292059",
     "status": "completed"
    },
    "tags": []
   },
   "outputs": [
    {
     "data": {
      "text/html": [
       "<div>\n",
       "<style scoped>\n",
       "    .dataframe tbody tr th:only-of-type {\n",
       "        vertical-align: middle;\n",
       "    }\n",
       "\n",
       "    .dataframe tbody tr th {\n",
       "        vertical-align: top;\n",
       "    }\n",
       "\n",
       "    .dataframe thead th {\n",
       "        text-align: right;\n",
       "    }\n",
       "</style>\n",
       "<table border=\"1\" class=\"dataframe\">\n",
       "  <thead>\n",
       "    <tr style=\"text-align: right;\">\n",
       "      <th></th>\n",
       "      <th>id</th>\n",
       "      <th>rainfall</th>\n",
       "    </tr>\n",
       "  </thead>\n",
       "  <tbody>\n",
       "    <tr>\n",
       "      <th>0</th>\n",
       "      <td>2190</td>\n",
       "      <td>0.952256</td>\n",
       "    </tr>\n",
       "    <tr>\n",
       "      <th>1</th>\n",
       "      <td>2191</td>\n",
       "      <td>0.962242</td>\n",
       "    </tr>\n",
       "    <tr>\n",
       "      <th>2</th>\n",
       "      <td>2192</td>\n",
       "      <td>0.816636</td>\n",
       "    </tr>\n",
       "    <tr>\n",
       "      <th>3</th>\n",
       "      <td>2193</td>\n",
       "      <td>0.029133</td>\n",
       "    </tr>\n",
       "    <tr>\n",
       "      <th>4</th>\n",
       "      <td>2194</td>\n",
       "      <td>0.017815</td>\n",
       "    </tr>\n",
       "  </tbody>\n",
       "</table>\n",
       "</div>"
      ],
      "text/plain": [
       "     id  rainfall\n",
       "0  2190  0.952256\n",
       "1  2191  0.962242\n",
       "2  2192  0.816636\n",
       "3  2193  0.029133\n",
       "4  2194  0.017815"
      ]
     },
     "execution_count": 26,
     "metadata": {},
     "output_type": "execute_result"
    }
   ],
   "source": [
    "save_submission(\"ensemble-lr\", lr_test_pred_probs, np.mean(scores[\"Ensemble LR\"]))"
   ]
  },
  {
   "cell_type": "code",
   "execution_count": 27,
   "id": "50f117eb",
   "metadata": {
    "_kg_hide-input": false,
    "execution": {
     "iopub.execute_input": "2025-03-10T15:20:49.401875Z",
     "iopub.status.busy": "2025-03-10T15:20:49.401526Z",
     "iopub.status.idle": "2025-03-10T15:20:49.806979Z",
     "shell.execute_reply": "2025-03-10T15:20:49.805998Z"
    },
    "papermill": {
     "duration": 0.431087,
     "end_time": "2025-03-10T15:20:49.808612",
     "exception": false,
     "start_time": "2025-03-10T15:20:49.377525",
     "status": "completed"
    },
    "tags": []
   },
   "outputs": [
    {
     "data": {
      "image/png": "[encoded data removed]",
      "text/plain": [
       "<Figure size 1000x600 with 1 Axes>"
      ]
     },
     "metadata": {},
     "output_type": "display_data"
    }
   ],
   "source": [
    "plot_weights(lr_coeffs, \"LR Coefficients\")"
   ]
  },
  {
   "cell_type": "markdown",
   "id": "7d22bc9d",
   "metadata": {
    "papermill": {
     "duration": 0.024539,
     "end_time": "2025-03-10T15:20:49.858613",
     "exception": false,
     "start_time": "2025-03-10T15:20:49.834074",
     "status": "completed"
    },
    "tags": []
   },
   "source": [
    "# Ensembling with Ridge"
   ]
  },
  {
   "cell_type": "code",
   "execution_count": 28,
   "id": "7652d483",
   "metadata": {
    "execution": {
     "iopub.execute_input": "2025-03-10T15:20:49.909214Z",
     "iopub.status.busy": "2025-03-10T15:20:49.908899Z",
     "iopub.status.idle": "2025-03-10T15:20:49.913595Z",
     "shell.execute_reply": "2025-03-10T15:20:49.912846Z"
    },
    "papermill": {
     "duration": 0.031782,
     "end_time": "2025-03-10T15:20:49.914988",
     "exception": false,
     "start_time": "2025-03-10T15:20:49.883206",
     "status": "completed"
    },
    "tags": []
   },
   "outputs": [],
   "source": [
    "X = pd.DataFrame(oof_pred_probs)\n",
    "X_test = pd.DataFrame(test_pred_probs)"
   ]
  },
  {
   "cell_type": "code",
   "execution_count": 29,
   "id": "015800d4",
   "metadata": {
    "_kg_hide-output": true,
    "execution": {
     "iopub.execute_input": "2025-03-10T15:20:49.965047Z",
     "iopub.status.busy": "2025-03-10T15:20:49.964696Z",
     "iopub.status.idle": "2025-03-10T15:25:33.024188Z",
     "shell.execute_reply": "2025-03-10T15:25:33.023341Z"
    },
    "papermill": {
     "duration": 283.086131,
     "end_time": "2025-03-10T15:25:33.025753",
     "exception": false,
     "start_time": "2025-03-10T15:20:49.939622",
     "status": "completed"
    },
    "scrolled": true,
    "tags": []
   },
   "outputs": [
    {
     "name": "stderr",
     "output_type": "stream",
     "text": [
      "[I 2025-03-10 15:20:49,969] A new study created in memory with name: no-name-65ba23b9-99f0-46c8-bb51-be8f71a8b9df\n",
      "[I 2025-03-10 15:20:53,527] Trial 1 finished with value: 0.8964870931537599 and parameters: {'alpha': 14.736110720116075, 'tol': 0.0034428262159275787, 'positive': False, 'fit_intercept': True}. Best is trial 1 with value: 0.8964870931537599.\n",
      "[I 2025-03-10 15:20:53,529] Trial 3 finished with value: 0.8968462401795735 and parameters: {'alpha': 20.877518616251386, 'tol': 0.000175631974967891, 'positive': False, 'fit_intercept': False}. Best is trial 3 with value: 0.8968462401795735.\n",
      "[I 2025-03-10 15:20:54,424] Trial 2 finished with value: 0.8962457912457914 and parameters: {'alpha': 22.907789319204536, 'tol': 0.008732279380078077, 'positive': True, 'fit_intercept': True}. Best is trial 3 with value: 0.8968462401795735.\n",
      "[I 2025-03-10 15:20:54,878] Trial 0 finished with value: 0.8962457912457914 and parameters: {'alpha': 23.897283273765485, 'tol': 0.00842727407454524, 'positive': True, 'fit_intercept': True}. Best is trial 3 with value: 0.8968462401795735.\n",
      "[I 2025-03-10 15:20:57,323] Trial 4 finished with value: 0.8965375982042649 and parameters: {'alpha': 1.303681367984408, 'tol': 0.004675807141152502, 'positive': False, 'fit_intercept': True}. Best is trial 3 with value: 0.8968462401795735.\n",
      "[I 2025-03-10 15:20:57,546] Trial 5 finished with value: 0.8964029180695846 and parameters: {'alpha': 16.403322088851386, 'tol': 0.006578730822131803, 'positive': False, 'fit_intercept': True}. Best is trial 3 with value: 0.8968462401795735.\n",
      "[I 2025-03-10 15:20:58,215] Trial 6 finished with value: 0.8964646464646464 and parameters: {'alpha': 15.417420375796981, 'tol': 0.0014437792918672936, 'positive': False, 'fit_intercept': True}. Best is trial 3 with value: 0.8968462401795735.\n",
      "[I 2025-03-10 15:21:00,413] Trial 7 finished with value: 0.8969360269360269 and parameters: {'alpha': 10.169993846906749, 'tol': 0.00050544217240044, 'positive': True, 'fit_intercept': False}. Best is trial 7 with value: 0.8969360269360269.\n",
      "[I 2025-03-10 15:21:02,172] Trial 10 finished with value: 0.8971436588103255 and parameters: {'alpha': 8.58810952755713, 'tol': 0.009324390921759945, 'positive': False, 'fit_intercept': False}. Best is trial 10 with value: 0.8971436588103255.\n",
      "[I 2025-03-10 15:21:02,615] Trial 8 finished with value: 0.8969079685746353 and parameters: {'alpha': 1.3141290411562978, 'tol': 0.0030050593399878495, 'positive': True, 'fit_intercept': False}. Best is trial 10 with value: 0.8971436588103255.\n",
      "[I 2025-03-10 15:21:02,836] Trial 9 finished with value: 0.8965600448933781 and parameters: {'alpha': 3.662957082635179, 'tol': 0.009528994362698513, 'positive': True, 'fit_intercept': True}. Best is trial 10 with value: 0.8971436588103255.\n",
      "[I 2025-03-10 15:21:03,524] Trial 11 finished with value: 0.8972951739618406 and parameters: {'alpha': 2.8979011280198725, 'tol': 0.006213579798363505, 'positive': False, 'fit_intercept': False}. Best is trial 11 with value: 0.8972951739618406.\n",
      "[I 2025-03-10 15:21:06,412] Trial 14 finished with value: 0.8969809203142536 and parameters: {'alpha': 17.955756734060905, 'tol': 3.799461056381638e-05, 'positive': False, 'fit_intercept': False}. Best is trial 11 with value: 0.8972951739618406.\n",
      "[I 2025-03-10 15:21:06,644] Trial 13 finished with value: 0.8963860830527498 and parameters: {'alpha': 23.379708519737484, 'tol': 0.0022132966274077508, 'positive': False, 'fit_intercept': True}. Best is trial 11 with value: 0.8972951739618406.\n",
      "[I 2025-03-10 15:21:07,977] Trial 12 finished with value: 0.8962514029180696 and parameters: {'alpha': 21.065218780588626, 'tol': 0.0036708816487941555, 'positive': True, 'fit_intercept': True}. Best is trial 11 with value: 0.8972951739618406.\n",
      "[I 2025-03-10 15:21:08,862] Trial 15 finished with value: 0.8962514029180696 and parameters: {'alpha': 18.36675554508231, 'tol': 0.009901219102827711, 'positive': True, 'fit_intercept': True}. Best is trial 11 with value: 0.8972951739618406.\n",
      "[I 2025-03-10 15:21:09,974] Trial 16 finished with value: 0.8963916947250281 and parameters: {'alpha': 21.8602894225945, 'tol': 0.003499741767771468, 'positive': False, 'fit_intercept': True}. Best is trial 11 with value: 0.8972951739618406.\n",
      "[I 2025-03-10 15:21:10,213] Trial 17 finished with value: 0.8967789001122334 and parameters: {'alpha': 22.377080724047104, 'tol': 0.003997721586735445, 'positive': False, 'fit_intercept': False}. Best is trial 11 with value: 0.8972951739618406.\n",
      "[I 2025-03-10 15:21:13,344] Trial 21 finished with value: 0.8969977553310887 and parameters: {'alpha': 16.696757842068717, 'tol': 0.006892739246569556, 'positive': False, 'fit_intercept': False}. Best is trial 11 with value: 0.8972951739618406.\n",
      "[I 2025-03-10 15:21:13,564] Trial 18 finished with value: 0.8961952861952861 and parameters: {'alpha': 7.829571337029548, 'tol': 0.0045090984199460445, 'positive': True, 'fit_intercept': False}. Best is trial 11 with value: 0.8972951739618406.\n",
      "[I 2025-03-10 15:21:14,026] Trial 19 finished with value: 0.8962514029180696 and parameters: {'alpha': 17.76484363310931, 'tol': 0.003722334862124609, 'positive': True, 'fit_intercept': True}. Best is trial 11 with value: 0.8972951739618406.\n",
      "[I 2025-03-10 15:21:15,138] Trial 20 finished with value: 0.8962457912457914 and parameters: {'alpha': 15.043754664355793, 'tol': 0.0024777740928788833, 'positive': True, 'fit_intercept': True}. Best is trial 11 with value: 0.8972951739618406.\n",
      "[I 2025-03-10 15:21:17,591] Trial 23 finished with value: 0.8969977553310887 and parameters: {'alpha': 17.323367912451516, 'tol': 0.007763937901037123, 'positive': False, 'fit_intercept': False}. Best is trial 11 with value: 0.8972951739618406.\n",
      "[I 2025-03-10 15:21:18,032] Trial 24 finished with value: 0.8967957351290684 and parameters: {'alpha': 21.900582912380074, 'tol': 0.001338697957510928, 'positive': False, 'fit_intercept': False}. Best is trial 11 with value: 0.8972951739618406.\n",
      "[I 2025-03-10 15:21:18,035] Trial 22 finished with value: 0.8963916947250281 and parameters: {'alpha': 23.045826695756038, 'tol': 0.004442807167134435, 'positive': False, 'fit_intercept': True}. Best is trial 11 with value: 0.8972951739618406.\n",
      "[I 2025-03-10 15:21:21,410] Trial 26 finished with value: 0.8964197530864197 and parameters: {'alpha': 24.791875381061107, 'tol': 0.0008772314203707441, 'positive': False, 'fit_intercept': True}. Best is trial 11 with value: 0.8972951739618406.\n",
      "[I 2025-03-10 15:21:21,847] Trial 27 finished with value: 0.8971829405162739 and parameters: {'alpha': 7.36981571541855, 'tol': 0.00906174308868289, 'positive': False, 'fit_intercept': False}. Best is trial 11 with value: 0.8972951739618406.\n",
      "[I 2025-03-10 15:21:22,101] Trial 25 finished with value: 0.8962457912457914 and parameters: {'alpha': 22.778415796575946, 'tol': 0.007186574232771183, 'positive': True, 'fit_intercept': True}. Best is trial 11 with value: 0.8972951739618406.\n",
      "[I 2025-03-10 15:21:22,318] Trial 28 finished with value: 0.8972446689113358 and parameters: {'alpha': 6.674367091085806, 'tol': 0.009289230668443546, 'positive': False, 'fit_intercept': False}. Best is trial 11 with value: 0.8972951739618406.\n",
      "[I 2025-03-10 15:21:25,475] Trial 29 finished with value: 0.8972558922558921 and parameters: {'alpha': 6.769308267726236, 'tol': 0.008254554397016662, 'positive': False, 'fit_intercept': False}. Best is trial 11 with value: 0.8972951739618406.\n",
      "[I 2025-03-10 15:21:26,137] Trial 30 finished with value: 0.8971773288439955 and parameters: {'alpha': 6.407856969360764, 'tol': 0.009404309756783984, 'positive': False, 'fit_intercept': False}. Best is trial 11 with value: 0.8972951739618406.\n",
      "[I 2025-03-10 15:21:26,395] Trial 31 finished with value: 0.8971941638608305 and parameters: {'alpha': 1.602806421624301, 'tol': 0.006995945342041376, 'positive': False, 'fit_intercept': False}. Best is trial 11 with value: 0.8972951739618406.\n",
      "[I 2025-03-10 15:21:27,343] Trial 32 finished with value: 0.8973176206509539 and parameters: {'alpha': 2.6586186069296023, 'tol': 0.0064997127857106575, 'positive': False, 'fit_intercept': False}. Best is trial 32 with value: 0.8973176206509539.\n",
      "[I 2025-03-10 15:21:29,805] Trial 33 finished with value: 0.8973625140291809 and parameters: {'alpha': 3.0630166126705083, 'tol': 0.005117196940140987, 'positive': False, 'fit_intercept': False}. Best is trial 33 with value: 0.8973625140291809.\n",
      "[I 2025-03-10 15:21:30,034] Trial 34 finished with value: 0.8973737373737374 and parameters: {'alpha': 1.8682789949754948, 'tol': 0.006036081053095634, 'positive': False, 'fit_intercept': False}. Best is trial 34 with value: 0.8973737373737374.\n",
      "[I 2025-03-10 15:21:30,935] Trial 35 finished with value: 0.8972727272727272 and parameters: {'alpha': 2.614378448034767, 'tol': 0.00607572893460967, 'positive': False, 'fit_intercept': False}. Best is trial 34 with value: 0.8973737373737374.\n",
      "[I 2025-03-10 15:21:32,058] Trial 36 finished with value: 0.8960325476992145 and parameters: {'alpha': 0.4786867321614383, 'tol': 0.004114755102245122, 'positive': False, 'fit_intercept': False}. Best is trial 34 with value: 0.8973737373737374.\n",
      "[I 2025-03-10 15:21:34,087] Trial 37 finished with value: 0.897216610549944 and parameters: {'alpha': 5.325954117720559, 'tol': 0.004239632052856674, 'positive': False, 'fit_intercept': False}. Best is trial 34 with value: 0.8973737373737374.\n",
      "[I 2025-03-10 15:21:34,537] Trial 38 finished with value: 0.8973232323232324 and parameters: {'alpha': 4.8708541040537074, 'tol': 0.004276076000002591, 'positive': False, 'fit_intercept': False}. Best is trial 34 with value: 0.8973737373737374.\n",
      "[I 2025-03-10 15:21:35,660] Trial 39 finished with value: 0.8972783389450056 and parameters: {'alpha': 2.55648989137794, 'tol': 0.003372108425673626, 'positive': False, 'fit_intercept': False}. Best is trial 34 with value: 0.8973737373737374.\n",
      "[I 2025-03-10 15:21:35,873] Trial 40 finished with value: 0.8971717171717172 and parameters: {'alpha': 7.744262740395628, 'tol': 0.003958141177023034, 'positive': False, 'fit_intercept': False}. Best is trial 34 with value: 0.8973737373737374.\n",
      "[I 2025-03-10 15:21:38,347] Trial 42 finished with value: 0.8971773288439955 and parameters: {'alpha': 7.749957719517903, 'tol': 0.001227328299604685, 'positive': False, 'fit_intercept': False}. Best is trial 34 with value: 0.8973737373737374.\n",
      "[I 2025-03-10 15:21:38,808] Trial 41 finished with value: 0.896672278338945 and parameters: {'alpha': 6.635886207067351, 'tol': 0.004728262744456764, 'positive': False, 'fit_intercept': True}. Best is trial 34 with value: 0.8973737373737374.\n",
      "[I 2025-03-10 15:21:39,711] Trial 43 finished with value: 0.8966610549943883 and parameters: {'alpha': 6.715562602011175, 'tol': 0.006719735421178441, 'positive': False, 'fit_intercept': True}. Best is trial 34 with value: 0.8973737373737374.\n",
      "[I 2025-03-10 15:21:41,927] Trial 44 finished with value: 0.8965656565656566 and parameters: {'alpha': 3.021231837044544, 'tol': 0.0079016691546314, 'positive': True, 'fit_intercept': False}. Best is trial 34 with value: 0.8973737373737374.\n",
      "[I 2025-03-10 15:21:43,082] Trial 47 finished with value: 0.8971997755331088 and parameters: {'alpha': 7.563745934128081, 'tol': 0.005514276557016302, 'positive': False, 'fit_intercept': False}. Best is trial 34 with value: 0.8973737373737374.\n",
      "[I 2025-03-10 15:21:43,301] Trial 45 finished with value: 0.8965656565656566 and parameters: {'alpha': 1.8104219472057381, 'tol': 0.006483750736288101, 'positive': True, 'fit_intercept': False}. Best is trial 34 with value: 0.8973737373737374.\n",
      "[I 2025-03-10 15:21:44,444] Trial 46 finished with value: 0.8965656565656566 and parameters: {'alpha': 1.8992211169736313, 'tol': 0.006190560027889367, 'positive': True, 'fit_intercept': False}. Best is trial 34 with value: 0.8973737373737374.\n",
      "[I 2025-03-10 15:21:45,359] Trial 48 finished with value: 0.8971885521885522 and parameters: {'alpha': 7.40595478819489, 'tol': 0.005885641379676845, 'positive': False, 'fit_intercept': False}. Best is trial 34 with value: 0.8973737373737374.\n",
      "[I 2025-03-10 15:21:47,146] Trial 50 finished with value: 0.8973063973063973 and parameters: {'alpha': 3.89000845062011, 'tol': 0.006146423503048029, 'positive': False, 'fit_intercept': False}. Best is trial 34 with value: 0.8973737373737374.\n",
      "[I 2025-03-10 15:21:47,617] Trial 49 finished with value: 0.8972839506172839 and parameters: {'alpha': 5.16548505314543, 'tol': 0.006006422431316492, 'positive': False, 'fit_intercept': False}. Best is trial 34 with value: 0.8973737373737374.\n",
      "[I 2025-03-10 15:21:49,202] Trial 52 finished with value: 0.8974298540965208 and parameters: {'alpha': 2.091204606040626, 'tol': 0.005602423348470375, 'positive': False, 'fit_intercept': False}. Best is trial 52 with value: 0.8974298540965208.\n",
      "[I 2025-03-10 15:21:50,997] Trial 51 finished with value: 0.896672278338945 and parameters: {'alpha': 0.26047858943037383, 'tol': 0.0006999527229195335, 'positive': True, 'fit_intercept': True}. Best is trial 52 with value: 0.8974298540965208.\n",
      "[I 2025-03-10 15:21:51,222] Trial 53 finished with value: 0.8971043771043771 and parameters: {'alpha': 1.3935587667802234, 'tol': 0.006336515520035328, 'positive': False, 'fit_intercept': False}. Best is trial 52 with value: 0.8974298540965208.\n",
      "[I 2025-03-10 15:21:52,803] Trial 55 finished with value: 0.8964197530864197 and parameters: {'alpha': 0.6347589934380018, 'tol': 0.00516029108555378, 'positive': False, 'fit_intercept': False}. Best is trial 52 with value: 0.8974298540965208.\n",
      "[I 2025-03-10 15:21:53,724] Trial 54 finished with value: 0.8967115600448935 and parameters: {'alpha': 1.4180950201452678, 'tol': 0.0016110907578587162, 'positive': True, 'fit_intercept': True}. Best is trial 52 with value: 0.8974298540965208.\n",
      "[I 2025-03-10 15:21:54,633] Trial 56 finished with value: 0.8960325476992145 and parameters: {'alpha': 0.4531544125384799, 'tol': 0.007499446255434751, 'positive': False, 'fit_intercept': False}. Best is trial 52 with value: 0.8974298540965208.\n",
      "[I 2025-03-10 15:21:56,660] Trial 58 finished with value: 0.8968462401795735 and parameters: {'alpha': 1.9411023760403179, 'tol': 0.00591651091361974, 'positive': False, 'fit_intercept': True}. Best is trial 52 with value: 0.8974298540965208.\n",
      "[I 2025-03-10 15:21:57,556] Trial 57 finished with value: 0.8964814814814815 and parameters: {'alpha': 2.138573929781357, 'tol': 0.006013235321171137, 'positive': True, 'fit_intercept': True}. Best is trial 52 with value: 0.8974298540965208.\n",
      "[I 2025-03-10 15:21:57,795] Trial 59 finished with value: 0.8964927048260382 and parameters: {'alpha': 1.232382327143085, 'tol': 0.0029446460373780256, 'positive': False, 'fit_intercept': True}. Best is trial 52 with value: 0.8974298540965208.\n",
      "[I 2025-03-10 15:21:59,435] Trial 60 finished with value: 0.8961952861952861 and parameters: {'alpha': 17.484861642599586, 'tol': 0.009857692227523595, 'positive': True, 'fit_intercept': False}. Best is trial 52 with value: 0.8974298540965208.\n",
      "[I 2025-03-10 15:22:00,793] Trial 61 finished with value: 0.8972278338945007 and parameters: {'alpha': 5.347907356703493, 'tol': 0.005160209454497533, 'positive': False, 'fit_intercept': False}. Best is trial 52 with value: 0.8974298540965208.\n",
      "[I 2025-03-10 15:22:01,262] Trial 63 finished with value: 0.897351290684624 and parameters: {'alpha': 3.3998561988417064, 'tol': 0.006067542799796363, 'positive': False, 'fit_intercept': False}. Best is trial 52 with value: 0.8974298540965208.\n",
      "[I 2025-03-10 15:22:03,281] Trial 62 finished with value: 0.8961952861952861 and parameters: {'alpha': 22.60466644639449, 'tol': 0.004536978601118593, 'positive': True, 'fit_intercept': False}. Best is trial 52 with value: 0.8974298540965208.\n",
      "[I 2025-03-10 15:22:04,395] Trial 64 finished with value: 0.897351290684624 and parameters: {'alpha': 3.4752494632213207, 'tol': 0.0052980919279013855, 'positive': False, 'fit_intercept': False}. Best is trial 52 with value: 0.8974298540965208.\n",
      "[I 2025-03-10 15:22:04,851] Trial 65 finished with value: 0.8973120089786756 and parameters: {'alpha': 2.6804606191670146, 'tol': 0.006305831242495881, 'positive': False, 'fit_intercept': False}. Best is trial 52 with value: 0.8974298540965208.\n",
      "[I 2025-03-10 15:22:05,973] Trial 66 finished with value: 0.8973007856341189 and parameters: {'alpha': 4.163898646317201, 'tol': 0.006304812506862228, 'positive': False, 'fit_intercept': False}. Best is trial 52 with value: 0.8974298540965208.\n",
      "[I 2025-03-10 15:22:07,985] Trial 67 finished with value: 0.8974747474747475 and parameters: {'alpha': 2.1747521089472017, 'tol': 0.005674002824493711, 'positive': False, 'fit_intercept': False}. Best is trial 67 with value: 0.8974747474747475.\n",
      "[I 2025-03-10 15:22:08,655] Trial 68 finished with value: 0.8972671156004489 and parameters: {'alpha': 4.075505227299773, 'tol': 0.004467646362919591, 'positive': False, 'fit_intercept': False}. Best is trial 67 with value: 0.8974747474747475.\n",
      "[I 2025-03-10 15:22:09,548] Trial 69 finished with value: 0.8972951739618408 and parameters: {'alpha': 2.4990728026345526, 'tol': 0.004231824260348533, 'positive': False, 'fit_intercept': False}. Best is trial 67 with value: 0.8974747474747475.\n",
      "[I 2025-03-10 15:22:09,788] Trial 70 finished with value: 0.8973456790123457 and parameters: {'alpha': 3.5859542950243517, 'tol': 0.003814808172815027, 'positive': False, 'fit_intercept': False}. Best is trial 67 with value: 0.8974747474747475.\n",
      "[I 2025-03-10 15:22:11,808] Trial 71 finished with value: 0.8970145903479236 and parameters: {'alpha': 1.3172759371666272, 'tol': 0.004022145370445313, 'positive': False, 'fit_intercept': False}. Best is trial 67 with value: 0.8974747474747475.\n",
      "[I 2025-03-10 15:22:13,836] Trial 74 finished with value: 0.8972727272727271 and parameters: {'alpha': 5.010015442317803, 'tol': 0.002753287562183131, 'positive': False, 'fit_intercept': False}. Best is trial 67 with value: 0.8974747474747475.\n",
      "[I 2025-03-10 15:22:14,294] Trial 72 finished with value: 0.8967620650953986 and parameters: {'alpha': 22.230709062129, 'tol': 0.0004648532003083995, 'positive': True, 'fit_intercept': False}. Best is trial 67 with value: 0.8974747474747475.\n",
      "[I 2025-03-10 15:22:14,763] Trial 73 finished with value: 0.8962401795735129 and parameters: {'alpha': 4.6395775167192115, 'tol': 0.0040082476785433694, 'positive': True, 'fit_intercept': False}. Best is trial 67 with value: 0.8974747474747475.\n",
      "[I 2025-03-10 15:22:16,352] Trial 75 finished with value: 0.8961952861952861 and parameters: {'alpha': 12.830569690009598, 'tol': 0.006276081198672713, 'positive': True, 'fit_intercept': False}. Best is trial 67 with value: 0.8974747474747475.\n",
      "[I 2025-03-10 15:22:17,469] Trial 76 finished with value: 0.8968799102132434 and parameters: {'alpha': 1.1849980059015817, 'tol': 0.004961803465206949, 'positive': False, 'fit_intercept': False}. Best is trial 67 with value: 0.8974747474747475.\n",
      "[I 2025-03-10 15:22:18,617] Trial 78 finished with value: 0.8932603815937149 and parameters: {'alpha': 0.0752995511759531, 'tol': 0.0054412473706645014, 'positive': False, 'fit_intercept': False}. Best is trial 67 with value: 0.8974747474747475.\n",
      "[I 2025-03-10 15:22:20,635] Trial 79 finished with value: 0.8946632996632996 and parameters: {'alpha': 0.18780919764450132, 'tol': 0.00474341631323351, 'positive': False, 'fit_intercept': False}. Best is trial 67 with value: 0.8974747474747475.\n",
      "[I 2025-03-10 15:22:20,870] Trial 77 finished with value: 0.8961952861952861 and parameters: {'alpha': 12.972779646166664, 'tol': 0.0058812253479578235, 'positive': True, 'fit_intercept': False}. Best is trial 67 with value: 0.8974747474747475.\n",
      "[I 2025-03-10 15:22:21,772] Trial 80 finished with value: 0.8971773288439955 and parameters: {'alpha': 6.407013726712236, 'tol': 0.004400028688011547, 'positive': False, 'fit_intercept': False}. Best is trial 67 with value: 0.8974747474747475.\n",
      "[I 2025-03-10 15:22:22,459] Trial 81 finished with value: 0.8971099887766554 and parameters: {'alpha': 9.174683247384007, 'tol': 0.003752409371919227, 'positive': False, 'fit_intercept': False}. Best is trial 67 with value: 0.8974747474747475.\n",
      "[I 2025-03-10 15:22:25,158] Trial 83 finished with value: 0.8971829405162739 and parameters: {'alpha': 8.27363982967413, 'tol': 0.0038736901666651955, 'positive': False, 'fit_intercept': False}. Best is trial 67 with value: 0.8974747474747475.\n",
      "[I 2025-03-10 15:22:25,372] Trial 82 finished with value: 0.8972053872053871 and parameters: {'alpha': 6.084140828908831, 'tol': 0.003603770450066889, 'positive': False, 'fit_intercept': False}. Best is trial 67 with value: 0.8974747474747475.\n",
      "[I 2025-03-10 15:22:26,060] Trial 84 finished with value: 0.8973063973063973 and parameters: {'alpha': 4.3945949012169505, 'tol': 0.006999122516047463, 'positive': False, 'fit_intercept': False}. Best is trial 67 with value: 0.8974747474747475.\n",
      "[I 2025-03-10 15:22:27,408] Trial 85 finished with value: 0.8972895622895622 and parameters: {'alpha': 3.841596980621334, 'tol': 0.006041362766052744, 'positive': False, 'fit_intercept': False}. Best is trial 67 with value: 0.8974747474747475.\n",
      "[I 2025-03-10 15:22:29,187] Trial 86 finished with value: 0.8973400673400673 and parameters: {'alpha': 3.3642191084109365, 'tol': 0.007249415323418686, 'positive': False, 'fit_intercept': False}. Best is trial 67 with value: 0.8974747474747475.\n",
      "[I 2025-03-10 15:22:29,869] Trial 87 finished with value: 0.8968013468013469 and parameters: {'alpha': 0.9935799826641705, 'tol': 0.007219511937130963, 'positive': False, 'fit_intercept': False}. Best is trial 67 with value: 0.8974747474747475.\n",
      "[I 2025-03-10 15:22:30,564] Trial 88 finished with value: 0.8973625140291807 and parameters: {'alpha': 3.6364413813145564, 'tol': 0.00603881135626271, 'positive': False, 'fit_intercept': False}. Best is trial 67 with value: 0.8974747474747475.\n",
      "[I 2025-03-10 15:22:31,718] Trial 89 finished with value: 0.8973569023569024 and parameters: {'alpha': 3.672922755720167, 'tol': 0.005967510428312357, 'positive': False, 'fit_intercept': False}. Best is trial 67 with value: 0.8974747474747475.\n",
      "[I 2025-03-10 15:22:33,313] Trial 90 finished with value: 0.8971885521885522 and parameters: {'alpha': 7.301490591925153, 'tol': 0.007062558055228498, 'positive': False, 'fit_intercept': False}. Best is trial 67 with value: 0.8974747474747475.\n",
      "[I 2025-03-10 15:22:35,107] Trial 91 finished with value: 0.8963860830527496 and parameters: {'alpha': 19.4124733894489, 'tol': 0.009572082489571605, 'positive': False, 'fit_intercept': True}. Best is trial 67 with value: 0.8974747474747475.\n",
      "[I 2025-03-10 15:22:35,760] Trial 92 finished with value: 0.8971941638608305 and parameters: {'alpha': 7.884887543531585, 'tol': 0.006886139296731892, 'positive': False, 'fit_intercept': False}. Best is trial 67 with value: 0.8974747474747475.\n",
      "[I 2025-03-10 15:22:36,016] Trial 93 finished with value: 0.8971492704826038 and parameters: {'alpha': 8.418553393364853, 'tol': 0.006868761026057046, 'positive': False, 'fit_intercept': False}. Best is trial 67 with value: 0.8974747474747475.\n",
      "[I 2025-03-10 15:22:37,590] Trial 94 finished with value: 0.897233445566779 and parameters: {'alpha': 5.405225154170662, 'tol': 0.006583725658721224, 'positive': False, 'fit_intercept': False}. Best is trial 67 with value: 0.8974747474747475.\n",
      "[I 2025-03-10 15:22:40,052] Trial 96 finished with value: 0.8972783389450057 and parameters: {'alpha': 4.332207421118342, 'tol': 0.00614570783003872, 'positive': False, 'fit_intercept': False}. Best is trial 67 with value: 0.8974747474747475.\n",
      "[I 2025-03-10 15:22:40,269] Trial 95 finished with value: 0.8972390572390573 and parameters: {'alpha': 6.8859928748574, 'tol': 0.006695406926165394, 'positive': False, 'fit_intercept': False}. Best is trial 67 with value: 0.8974747474747475.\n",
      "[I 2025-03-10 15:22:40,739] Trial 97 finished with value: 0.8972671156004489 and parameters: {'alpha': 4.124385009012471, 'tol': 0.006687629056204566, 'positive': False, 'fit_intercept': False}. Best is trial 67 with value: 0.8974747474747475.\n",
      "[I 2025-03-10 15:22:42,322] Trial 98 finished with value: 0.897368125701459 and parameters: {'alpha': 3.0824657570070118, 'tol': 0.006093818490728208, 'positive': False, 'fit_intercept': False}. Best is trial 67 with value: 0.8974747474747475.\n",
      "[I 2025-03-10 15:22:44,603] Trial 100 finished with value: 0.8966329966329966 and parameters: {'alpha': 1.6157035495513679, 'tol': 0.009960855938800244, 'positive': False, 'fit_intercept': True}. Best is trial 67 with value: 0.8974747474747475.\n",
      "[I 2025-03-10 15:22:44,604] Trial 101 finished with value: 0.8963804713804713 and parameters: {'alpha': 0.5825634859621338, 'tol': 0.006142556419984808, 'positive': False, 'fit_intercept': False}. Best is trial 67 with value: 0.8974747474747475.\n",
      "[I 2025-03-10 15:22:45,038] Trial 99 finished with value: 0.8973793490460157 and parameters: {'alpha': 3.176660943786821, 'tol': 0.004979482185252396, 'positive': False, 'fit_intercept': False}. Best is trial 67 with value: 0.8974747474747475.\n",
      "[I 2025-03-10 15:22:47,770] Trial 102 finished with value: 0.8962514029180696 and parameters: {'alpha': 10.485360412759212, 'tol': 0.009670242283981563, 'positive': True, 'fit_intercept': True}. Best is trial 67 with value: 0.8974747474747475.\n",
      "[I 2025-03-10 15:22:48,437] Trial 104 finished with value: 0.8972895622895622 and parameters: {'alpha': 4.002561074817405, 'tol': 0.005325521663337791, 'positive': False, 'fit_intercept': False}. Best is trial 67 with value: 0.8974747474747475.\n",
      "[I 2025-03-10 15:22:48,671] Trial 105 finished with value: 0.8973007856341189 and parameters: {'alpha': 4.227191144348754, 'tol': 0.005228179894841809, 'positive': False, 'fit_intercept': False}. Best is trial 67 with value: 0.8974747474747475.\n",
      "[I 2025-03-10 15:22:50,287] Trial 103 finished with value: 0.8964197530864197 and parameters: {'alpha': 18.945516125128812, 'tol': 9.726161123660253e-06, 'positive': True, 'fit_intercept': True}. Best is trial 67 with value: 0.8974747474747475.\n",
      "[I 2025-03-10 15:22:51,641] Trial 106 finished with value: 0.8968630751964085 and parameters: {'alpha': 1.2051065781107755, 'tol': 0.0012462043133588292, 'positive': False, 'fit_intercept': False}. Best is trial 67 with value: 0.8974747474747475.\n",
      "[I 2025-03-10 15:22:52,552] Trial 108 finished with value: 0.8972951739618406 and parameters: {'alpha': 2.6214640069887483, 'tol': 0.004511793617725444, 'positive': False, 'fit_intercept': False}. Best is trial 67 with value: 0.8974747474747475.\n",
      "[I 2025-03-10 15:22:53,500] Trial 107 finished with value: 0.8963748597081931 and parameters: {'alpha': 21.542417674460868, 'tol': 0.00038778121035318996, 'positive': True, 'fit_intercept': True}. Best is trial 67 with value: 0.8974747474747475.\n",
      "[I 2025-03-10 15:22:55,081] Trial 109 finished with value: 0.8973961840628508 and parameters: {'alpha': 2.0116091227657034, 'tol': 0.004684613089085793, 'positive': False, 'fit_intercept': False}. Best is trial 67 with value: 0.8974747474747475.\n",
      "[I 2025-03-10 15:22:56,423] Trial 110 finished with value: 0.8965937149270482 and parameters: {'alpha': 9.678523896533902, 'tol': 0.0015497440568551326, 'positive': False, 'fit_intercept': True}. Best is trial 67 with value: 0.8974747474747475.\n",
      "[I 2025-03-10 15:22:56,635] Trial 111 finished with value: 0.8973793490460157 and parameters: {'alpha': 2.000790059188562, 'tol': 0.005315842813478973, 'positive': False, 'fit_intercept': False}. Best is trial 67 with value: 0.8974747474747475.\n",
      "[I 2025-03-10 15:22:57,564] Trial 112 finished with value: 0.8965039281705949 and parameters: {'alpha': 0.7197073596647674, 'tol': 0.005523455160071375, 'positive': False, 'fit_intercept': False}. Best is trial 67 with value: 0.8974747474747475.\n",
      "[I 2025-03-10 15:22:59,382] Trial 113 finished with value: 0.8967283950617283 and parameters: {'alpha': 3.005031908657828, 'tol': 0.005449273902909039, 'positive': False, 'fit_intercept': True}. Best is trial 67 with value: 0.8974747474747475.\n",
      "[I 2025-03-10 15:23:01,173] Trial 115 finished with value: 0.8962008978675644 and parameters: {'alpha': 0.5228602008417087, 'tol': 0.005791976112660783, 'positive': False, 'fit_intercept': False}. Best is trial 67 with value: 0.8974747474747475.\n",
      "[I 2025-03-10 15:23:01,391] Trial 114 finished with value: 0.8970258136924804 and parameters: {'alpha': 1.299573712378407, 'tol': 0.0057886633031669224, 'positive': False, 'fit_intercept': False}. Best is trial 67 with value: 0.8974747474747475.\n",
      "[I 2025-03-10 15:23:01,880] Trial 116 finished with value: 0.8974130190796858 and parameters: {'alpha': 1.934277452124583, 'tol': 0.005240537071200498, 'positive': False, 'fit_intercept': False}. Best is trial 67 with value: 0.8974747474747475.\n",
      "[I 2025-03-10 15:23:04,660] Trial 118 finished with value: 0.8973176206509539 and parameters: {'alpha': 4.725117172836624, 'tol': 0.004900074431807486, 'positive': False, 'fit_intercept': False}. Best is trial 67 with value: 0.8974747474747475.\n",
      "[I 2025-03-10 15:23:05,339] Trial 117 finished with value: 0.8962570145903481 and parameters: {'alpha': 9.284899831891092, 'tol': 0.004145752361788064, 'positive': True, 'fit_intercept': True}. Best is trial 67 with value: 0.8974747474747475.\n",
      "[I 2025-03-10 15:23:06,035] Trial 119 finished with value: 0.8962570145903481 and parameters: {'alpha': 9.456391026567752, 'tol': 0.004876816500834178, 'positive': True, 'fit_intercept': True}. Best is trial 67 with value: 0.8974747474747475.\n",
      "[I 2025-03-10 15:23:07,623] Trial 120 finished with value: 0.8964085297418631 and parameters: {'alpha': 5.416054992935384, 'tol': 0.0059633832848480835, 'positive': True, 'fit_intercept': False}. Best is trial 67 with value: 0.8974747474747475.\n",
      "[I 2025-03-10 15:23:08,531] Trial 121 finished with value: 0.8960325476992145 and parameters: {'alpha': 0.4776809803922515, 'tol': 0.004455520275920194, 'positive': False, 'fit_intercept': False}. Best is trial 67 with value: 0.8974747474747475.\n",
      "[I 2025-03-10 15:23:10,119] Trial 122 finished with value: 0.8961952861952861 and parameters: {'alpha': 7.156772486553005, 'tol': 0.006194209180476617, 'positive': True, 'fit_intercept': False}. Best is trial 67 with value: 0.8974747474747475.\n",
      "[I 2025-03-10 15:23:10,573] Trial 123 finished with value: 0.897334455667789 and parameters: {'alpha': 2.4115576666088523, 'tol': 0.005213445012627903, 'positive': False, 'fit_intercept': False}. Best is trial 67 with value: 0.8974747474747475.\n",
      "[I 2025-03-10 15:23:11,482] Trial 124 finished with value: 0.8973063973063974 and parameters: {'alpha': 3.80794548584633, 'tol': 0.004861569799198362, 'positive': False, 'fit_intercept': False}. Best is trial 67 with value: 0.8974747474747475.\n",
      "[I 2025-03-10 15:23:13,077] Trial 125 finished with value: 0.8973737373737374 and parameters: {'alpha': 3.2731010815209554, 'tol': 0.00517525613944137, 'positive': False, 'fit_intercept': False}. Best is trial 67 with value: 0.8974747474747475.\n",
      "[I 2025-03-10 15:23:14,418] Trial 126 finished with value: 0.8972951739618406 and parameters: {'alpha': 4.264105449453313, 'tol': 0.005478237491311015, 'positive': False, 'fit_intercept': False}. Best is trial 67 with value: 0.8974747474747475.\n",
      "[I 2025-03-10 15:23:15,319] Trial 127 finished with value: 0.8972895622895625 and parameters: {'alpha': 2.9764196512329675, 'tol': 0.005547800352237507, 'positive': False, 'fit_intercept': False}. Best is trial 67 with value: 0.8974747474747475.\n",
      "[I 2025-03-10 15:23:16,017] Trial 128 finished with value: 0.8973176206509539 and parameters: {'alpha': 4.443693140045551, 'tol': 0.005306141522629459, 'positive': False, 'fit_intercept': False}. Best is trial 67 with value: 0.8974747474747475.\n",
      "[I 2025-03-10 15:23:17,377] Trial 129 finished with value: 0.897351290684624 and parameters: {'alpha': 3.6401887425139416, 'tol': 0.005807448300651673, 'positive': False, 'fit_intercept': False}. Best is trial 67 with value: 0.8974747474747475.\n",
      "[I 2025-03-10 15:23:18,971] Trial 130 finished with value: 0.8958473625140291 and parameters: {'alpha': 0.39654787171846917, 'tol': 0.007637497098392433, 'positive': False, 'fit_intercept': False}. Best is trial 67 with value: 0.8974747474747475.\n",
      "[I 2025-03-10 15:23:20,086] Trial 131 finished with value: 0.8973456790123457 and parameters: {'alpha': 2.415763504084852, 'tol': 0.005757502611997884, 'positive': False, 'fit_intercept': False}. Best is trial 67 with value: 0.8974747474747475.\n",
      "[I 2025-03-10 15:23:20,775] Trial 132 finished with value: 0.8968742985409651 and parameters: {'alpha': 1.2040545615995835, 'tol': 0.0071197370833955085, 'positive': False, 'fit_intercept': False}. Best is trial 67 with value: 0.8974747474747475.\n",
      "[I 2025-03-10 15:23:21,459] Trial 133 finished with value: 0.8967732884399553 and parameters: {'alpha': 1.0175667591018156, 'tol': 0.007419691704208195, 'positive': False, 'fit_intercept': False}. Best is trial 67 with value: 0.8974747474747475.\n",
      "[I 2025-03-10 15:23:24,179] Trial 134 finished with value: 0.8943995510662178 and parameters: {'alpha': 0.1661400285417094, 'tol': 0.0036142774545895053, 'positive': False, 'fit_intercept': False}. Best is trial 67 with value: 0.8974747474747475.\n",
      "[I 2025-03-10 15:23:25,281] Trial 136 finished with value: 0.8943434343434344 and parameters: {'alpha': 0.16292796760981965, 'tol': 0.004388233059152513, 'positive': False, 'fit_intercept': False}. Best is trial 67 with value: 0.8974747474747475.\n",
      "[I 2025-03-10 15:23:25,282] Trial 135 finished with value: 0.8967845117845117 and parameters: {'alpha': 1.0306597975740484, 'tol': 0.004541697302344643, 'positive': False, 'fit_intercept': False}. Best is trial 67 with value: 0.8974747474747475.\n",
      "[I 2025-03-10 15:23:25,767] Trial 137 finished with value: 0.897368125701459 and parameters: {'alpha': 1.903547897797916, 'tol': 0.0035083776942951388, 'positive': False, 'fit_intercept': False}. Best is trial 67 with value: 0.8974747474747475.\n",
      "[I 2025-03-10 15:23:27,574] Trial 138 finished with value: 0.8973456790123457 and parameters: {'alpha': 3.6592475422714577, 'tol': 0.005027549339383133, 'positive': False, 'fit_intercept': False}. Best is trial 67 with value: 0.8974747474747475.\n",
      "[I 2025-03-10 15:23:29,129] Trial 139 finished with value: 0.8971885521885522 and parameters: {'alpha': 7.40064491711424, 'tol': 0.005193095738105027, 'positive': False, 'fit_intercept': False}. Best is trial 67 with value: 0.8974747474747475.\n",
      "[I 2025-03-10 15:23:29,368] Trial 140 finished with value: 0.8971885521885522 and parameters: {'alpha': 7.61992168924939, 'tol': 0.005115928757192549, 'positive': False, 'fit_intercept': False}. Best is trial 67 with value: 0.8974747474747475.\n",
      "[I 2025-03-10 15:23:31,843] Trial 142 finished with value: 0.8973400673400673 and parameters: {'alpha': 3.3719984412594597, 'tol': 0.002869504220698525, 'positive': False, 'fit_intercept': False}. Best is trial 67 with value: 0.8974747474747475.\n",
      "[I 2025-03-10 15:23:32,093] Trial 141 finished with value: 0.896672278338945 and parameters: {'alpha': 2.3313898902531864, 'tol': 0.003945135328248704, 'positive': True, 'fit_intercept': False}. Best is trial 67 with value: 0.8974747474747475.\n",
      "[I 2025-03-10 15:23:33,461] Trial 144 finished with value: 0.897368125701459 and parameters: {'alpha': 3.4434892125847076, 'tol': 0.003148333716024547, 'positive': False, 'fit_intercept': False}. Best is trial 67 with value: 0.8974747474747475.\n",
      "[I 2025-03-10 15:23:35,094] Trial 143 finished with value: 0.8965544332211 and parameters: {'alpha': 0.6412309426966512, 'tol': 0.004446539424320892, 'positive': True, 'fit_intercept': False}. Best is trial 67 with value: 0.8974747474747475.\n",
      "[I 2025-03-10 15:23:35,997] Trial 145 finished with value: 0.8972895622895622 and parameters: {'alpha': 4.012301846436152, 'tol': 0.0055684686503947416, 'positive': False, 'fit_intercept': False}. Best is trial 67 with value: 0.8974747474747475.\n",
      "[I 2025-03-10 15:23:36,681] Trial 146 finished with value: 0.8964870931537599 and parameters: {'alpha': 12.904242391891403, 'tol': 0.007676699973532048, 'positive': False, 'fit_intercept': True}. Best is trial 67 with value: 0.8974747474747475.\n",
      "[I 2025-03-10 15:23:37,373] Trial 147 finished with value: 0.8973007856341191 and parameters: {'alpha': 3.7928233435539993, 'tol': 0.0030177207062146243, 'positive': False, 'fit_intercept': False}. Best is trial 67 with value: 0.8974747474747475.\n",
      "[I 2025-03-10 15:23:39,628] Trial 148 finished with value: 0.8959371492704825 and parameters: {'alpha': 0.4177102256381948, 'tol': 0.0022121017770468537, 'positive': False, 'fit_intercept': False}. Best is trial 67 with value: 0.8974747474747475.\n",
      "[I 2025-03-10 15:23:40,528] Trial 149 finished with value: 0.8970875420875422 and parameters: {'alpha': 1.3696110315174828, 'tol': 0.002408628786978044, 'positive': False, 'fit_intercept': False}. Best is trial 67 with value: 0.8974747474747475.\n",
      "[I 2025-03-10 15:23:41,433] Trial 150 finished with value: 0.8973120089786757 and parameters: {'alpha': 4.71840085778944, 'tol': 0.003105148968466349, 'positive': False, 'fit_intercept': False}. Best is trial 67 with value: 0.8974747474747475.\n",
      "[I 2025-03-10 15:23:42,569] Trial 151 finished with value: 0.8973569023569024 and parameters: {'alpha': 1.8894457637088777, 'tol': 0.00337172102574482, 'positive': False, 'fit_intercept': False}. Best is trial 67 with value: 0.8974747474747475.\n",
      "[I 2025-03-10 15:23:43,505] Trial 152 finished with value: 0.896705948372615 and parameters: {'alpha': 5.166504190106943, 'tol': 0.0033336810807358883, 'positive': False, 'fit_intercept': True}. Best is trial 67 with value: 0.8974747474747475.\n",
      "[I 2025-03-10 15:23:44,860] Trial 153 finished with value: 0.8951459034792368 and parameters: {'alpha': 0.27063869013259456, 'tol': 0.00562614878050316, 'positive': False, 'fit_intercept': False}. Best is trial 67 with value: 0.8974747474747475.\n",
      "[I 2025-03-10 15:23:46,004] Trial 154 finished with value: 0.8973007856341191 and parameters: {'alpha': 3.7887303256204685, 'tol': 0.005731917141329258, 'positive': False, 'fit_intercept': False}. Best is trial 67 with value: 0.8974747474747475.\n",
      "[I 2025-03-10 15:23:47,370] Trial 155 finished with value: 0.8972839506172839 and parameters: {'alpha': 4.343255776857932, 'tol': 0.003616217044624448, 'positive': False, 'fit_intercept': False}. Best is trial 67 with value: 0.8974747474747475.\n",
      "[I 2025-03-10 15:23:48,053] Trial 156 finished with value: 0.8973456790123455 and parameters: {'alpha': 3.5055222857192065, 'tol': 0.0037354741524567546, 'positive': False, 'fit_intercept': False}. Best is trial 67 with value: 0.8974747474747475.\n",
      "[I 2025-03-10 15:23:49,210] Trial 157 finished with value: 0.8973400673400673 and parameters: {'alpha': 3.7550201718378373, 'tol': 0.003427737388219476, 'positive': False, 'fit_intercept': False}. Best is trial 67 with value: 0.8974747474747475.\n",
      "[I 2025-03-10 15:23:50,136] Trial 158 finished with value: 0.8973007856341189 and parameters: {'alpha': 3.9020863953162963, 'tol': 0.003627439677038994, 'positive': False, 'fit_intercept': False}. Best is trial 67 with value: 0.8974747474747475.\n",
      "[I 2025-03-10 15:23:52,376] Trial 159 finished with value: 0.8973569023569024 and parameters: {'alpha': 2.341131247396408, 'tol': 0.003571518443647668, 'positive': False, 'fit_intercept': False}. Best is trial 67 with value: 0.8974747474747475.\n",
      "[I 2025-03-10 15:23:52,805] Trial 160 finished with value: 0.8927833894500562 and parameters: {'alpha': 0.04361748696724965, 'tol': 0.0035510523198943643, 'positive': False, 'fit_intercept': False}. Best is trial 67 with value: 0.8974747474747475.\n",
      "[I 2025-03-10 15:23:53,528] Trial 161 finished with value: 0.8969921436588104 and parameters: {'alpha': 16.448940517125006, 'tol': 0.0039060866819920805, 'positive': False, 'fit_intercept': False}. Best is trial 67 with value: 0.8974747474747475.\n",
      "[I 2025-03-10 15:23:54,662] Trial 162 finished with value: 0.8966891133557799 and parameters: {'alpha': 4.133177665164617, 'tol': 0.007201625857136511, 'positive': False, 'fit_intercept': True}. Best is trial 67 with value: 0.8974747474747475.\n",
      "[I 2025-03-10 15:23:56,679] Trial 164 finished with value: 0.897351290684624 and parameters: {'alpha': 2.442732080283021, 'tol': 0.005134455101056631, 'positive': False, 'fit_intercept': False}. Best is trial 67 with value: 0.8974747474747475.\n",
      "[I 2025-03-10 15:23:57,361] Trial 163 finished with value: 0.8965544332211 and parameters: {'alpha': 1.1525054500606373, 'tol': 0.0066918381676113504, 'positive': False, 'fit_intercept': True}. Best is trial 67 with value: 0.8974747474747475.\n",
      "[I 2025-03-10 15:23:58,279] Trial 165 finished with value: 0.8973063973063973 and parameters: {'alpha': 4.401588139747324, 'tol': 0.004970869558474041, 'positive': False, 'fit_intercept': False}. Best is trial 67 with value: 0.8974747474747475.\n",
      "[I 2025-03-10 15:23:59,896] Trial 167 finished with value: 0.8972839506172839 and parameters: {'alpha': 4.304694511126466, 'tol': 0.004913870769899841, 'positive': False, 'fit_intercept': False}. Best is trial 67 with value: 0.8974747474747475.\n",
      "[I 2025-03-10 15:24:00,573] Trial 166 finished with value: 0.8961952861952861 and parameters: {'alpha': 8.847329430971303, 'tol': 0.001289964485140873, 'positive': True, 'fit_intercept': False}. Best is trial 67 with value: 0.8974747474747475.\n",
      "[I 2025-03-10 15:24:02,409] Trial 169 finished with value: 0.8973961840628508 and parameters: {'alpha': 2.2967212785229707, 'tol': 0.005800682564924423, 'positive': False, 'fit_intercept': False}. Best is trial 67 with value: 0.8974747474747475.\n",
      "[I 2025-03-10 15:24:03,110] Trial 168 finished with value: 0.8962345679012346 and parameters: {'alpha': 6.29439076906718, 'tol': 0.0017001733117140388, 'positive': True, 'fit_intercept': False}. Best is trial 67 with value: 0.8974747474747475.\n",
      "[I 2025-03-10 15:24:04,242] Trial 171 finished with value: 0.8973456790123455 and parameters: {'alpha': 3.503641694185223, 'tol': 0.006448577753338081, 'positive': False, 'fit_intercept': False}. Best is trial 67 with value: 0.8974747474747475.\n",
      "[I 2025-03-10 15:24:04,476] Trial 170 finished with value: 0.8973400673400673 and parameters: {'alpha': 4.48676583855755, 'tol': 0.006793409998370003, 'positive': False, 'fit_intercept': False}. Best is trial 67 with value: 0.8974747474747475.\n",
      "[I 2025-03-10 15:24:07,230] Trial 172 finished with value: 0.8973849607182942 and parameters: {'alpha': 2.01239056415427, 'tol': 0.005647825717658663, 'positive': False, 'fit_intercept': False}. Best is trial 67 with value: 0.8974747474747475.\n",
      "[I 2025-03-10 15:24:08,379] Trial 173 finished with value: 0.8970707070707071 and parameters: {'alpha': 1.3562806533256841, 'tol': 0.005715998480739762, 'positive': False, 'fit_intercept': False}. Best is trial 67 with value: 0.8974747474747475.\n",
      "[I 2025-03-10 15:24:08,839] Trial 175 finished with value: 0.8930808080808079 and parameters: {'alpha': 0.059103462501983506, 'tol': 0.004997247136801981, 'positive': False, 'fit_intercept': False}. Best is trial 67 with value: 0.8974747474747475.\n",
      "[I 2025-03-10 15:24:09,077] Trial 174 finished with value: 0.8970819304152637 and parameters: {'alpha': 1.3716948246560303, 'tol': 0.0063009870169051085, 'positive': False, 'fit_intercept': False}. Best is trial 67 with value: 0.8974747474747475.\n",
      "[I 2025-03-10 15:24:11,366] Trial 176 finished with value: 0.8972839506172839 and parameters: {'alpha': 2.5773865438147086, 'tol': 0.004546975486314095, 'positive': False, 'fit_intercept': False}. Best is trial 67 with value: 0.8974747474747475.\n",
      "[I 2025-03-10 15:24:12,271] Trial 177 finished with value: 0.8952861952861954 and parameters: {'alpha': 0.2959192210363961, 'tol': 0.005980102543643031, 'positive': False, 'fit_intercept': False}. Best is trial 67 with value: 0.8974747474747475.\n",
      "[I 2025-03-10 15:24:12,989] Trial 178 finished with value: 0.8957014590347923 and parameters: {'alpha': 0.36681029434887424, 'tol': 0.005398856562055228, 'positive': False, 'fit_intercept': False}. Best is trial 67 with value: 0.8974747474747475.\n",
      "[I 2025-03-10 15:24:15,939] Trial 179 finished with value: 0.8962514029180696 and parameters: {'alpha': 16.413570506515228, 'tol': 0.007506970761734359, 'positive': True, 'fit_intercept': True}. Best is trial 67 with value: 0.8974747474747475.\n",
      "[I 2025-03-10 15:24:16,157] Trial 180 finished with value: 0.8971997755331088 and parameters: {'alpha': 5.7198630318537145, 'tol': 0.0006557308748856355, 'positive': False, 'fit_intercept': False}. Best is trial 67 with value: 0.8974747474747475.\n",
      "[I 2025-03-10 15:24:16,866] Trial 181 finished with value: 0.8968911335578003 and parameters: {'alpha': 1.2145270552024545, 'tol': 0.0036349176482225925, 'positive': False, 'fit_intercept': False}. Best is trial 67 with value: 0.8974747474747475.\n",
      "[I 2025-03-10 15:24:17,098] Trial 182 finished with value: 0.8971717171717172 and parameters: {'alpha': 7.710838929512239, 'tol': 0.001410852742495203, 'positive': False, 'fit_intercept': False}. Best is trial 67 with value: 0.8974747474747475.\n",
      "[I 2025-03-10 15:24:20,068] Trial 183 finished with value: 0.8971829405162739 and parameters: {'alpha': 5.8852142480590475, 'tol': 0.006422032222025795, 'positive': False, 'fit_intercept': False}. Best is trial 67 with value: 0.8974747474747475.\n",
      "[I 2025-03-10 15:24:20,965] Trial 184 finished with value: 0.897233445566779 and parameters: {'alpha': 5.292061165164767, 'tol': 0.0063200616829746014, 'positive': False, 'fit_intercept': False}. Best is trial 67 with value: 0.8974747474747475.\n",
      "[I 2025-03-10 15:24:21,647] Trial 185 finished with value: 0.8973063973063973 and parameters: {'alpha': 4.601466826816674, 'tol': 0.006509522930516603, 'positive': False, 'fit_intercept': False}. Best is trial 67 with value: 0.8974747474747475.\n",
      "[I 2025-03-10 15:24:21,648] Trial 186 finished with value: 0.8971829405162739 and parameters: {'alpha': 5.898107795791058, 'tol': 0.0057073623542173175, 'positive': False, 'fit_intercept': False}. Best is trial 67 with value: 0.8974747474747475.\n",
      "[I 2025-03-10 15:24:23,516] Trial 187 finished with value: 0.8973288439955107 and parameters: {'alpha': 4.578076415010337, 'tol': 0.004589258407013814, 'positive': False, 'fit_intercept': False}. Best is trial 67 with value: 0.8974747474747475.\n",
      "[I 2025-03-10 15:24:25,523] Trial 188 finished with value: 0.8971885521885522 and parameters: {'alpha': 5.64131075768812, 'tol': 0.004375880373304606, 'positive': False, 'fit_intercept': False}. Best is trial 67 with value: 0.8974747474747475.\n",
      "[I 2025-03-10 15:24:26,207] Trial 189 finished with value: 0.8956004489337822 and parameters: {'alpha': 0.5071462440983114, 'tol': 0.0043252293928028665, 'positive': False, 'fit_intercept': True}. Best is trial 67 with value: 0.8974747474747475.\n",
      "[I 2025-03-10 15:24:26,443] Trial 190 finished with value: 0.8972390572390573 and parameters: {'alpha': 5.2559879628940465, 'tol': 0.004057335263445776, 'positive': False, 'fit_intercept': False}. Best is trial 67 with value: 0.8974747474747475.\n",
      "[I 2025-03-10 15:24:29,386] Trial 191 finished with value: 0.8961952861952861 and parameters: {'alpha': 24.97061097133117, 'tol': 0.008324005990689488, 'positive': True, 'fit_intercept': False}. Best is trial 67 with value: 0.8974747474747475.\n",
      "[I 2025-03-10 15:24:29,825] Trial 192 finished with value: 0.897368125701459 and parameters: {'alpha': 1.9844611408296198, 'tol': 0.004262325075058969, 'positive': False, 'fit_intercept': False}. Best is trial 67 with value: 0.8974747474747475.\n",
      "[I 2025-03-10 15:24:30,287] Trial 193 finished with value: 0.8972727272727272 and parameters: {'alpha': 2.537995213538797, 'tol': 0.004105019643425105, 'positive': False, 'fit_intercept': False}. Best is trial 67 with value: 0.8974747474747475.\n",
      "[I 2025-03-10 15:24:30,756] Trial 194 finished with value: 0.8973344556677889 and parameters: {'alpha': 2.4063310528509447, 'tol': 0.0054866510240326695, 'positive': False, 'fit_intercept': False}. Best is trial 67 with value: 0.8974747474747475.\n",
      "[I 2025-03-10 15:24:34,174] Trial 197 finished with value: 0.8970482603815937 and parameters: {'alpha': 1.3522669542465904, 'tol': 0.0038172390622487748, 'positive': False, 'fit_intercept': False}. Best is trial 67 with value: 0.8974747474747475.\n",
      "[I 2025-03-10 15:24:34,606] Trial 196 finished with value: 0.8965768799102133 and parameters: {'alpha': 0.8800292398265004, 'tol': 0.0041902232326638976, 'positive': False, 'fit_intercept': False}. Best is trial 67 with value: 0.8974747474747475.\n",
      "[I 2025-03-10 15:24:35,068] Trial 195 finished with value: 0.8970650953984288 and parameters: {'alpha': 1.360793465931964, 'tol': 0.0036495642459339114, 'positive': False, 'fit_intercept': False}. Best is trial 67 with value: 0.8974747474747475.\n",
      "[I 2025-03-10 15:24:35,288] Trial 198 finished with value: 0.8941189674523008 and parameters: {'alpha': 0.13480978173015834, 'tol': 0.003966129527752052, 'positive': False, 'fit_intercept': False}. Best is trial 67 with value: 0.8974747474747475.\n",
      "[I 2025-03-10 15:24:39,388] Trial 199 finished with value: 0.8951739618406286 and parameters: {'alpha': 0.28283028866070015, 'tol': 0.006561798398740717, 'positive': False, 'fit_intercept': False}. Best is trial 67 with value: 0.8974747474747475.\n",
      "[I 2025-03-10 15:24:39,392] Trial 200 finished with value: 0.894304152637486 and parameters: {'alpha': 0.15703296900437413, 'tol': 0.006057553471082506, 'positive': False, 'fit_intercept': False}. Best is trial 67 with value: 0.8974747474747475.\n",
      "[I 2025-03-10 15:24:39,861] Trial 201 finished with value: 0.8955162738496073 and parameters: {'alpha': 0.33258209311246567, 'tol': 0.006443740405157429, 'positive': False, 'fit_intercept': False}. Best is trial 67 with value: 0.8974747474747475.\n",
      "[I 2025-03-10 15:24:39,869] Trial 202 finished with value: 0.8973961840628508 and parameters: {'alpha': 2.29883722214279, 'tol': 0.006389494156922648, 'positive': False, 'fit_intercept': False}. Best is trial 67 with value: 0.8974747474747475.\n",
      "[I 2025-03-10 15:24:42,837] Trial 203 finished with value: 0.8973120089786757 and parameters: {'alpha': 4.925490351211204, 'tol': 0.005682142264742131, 'positive': False, 'fit_intercept': False}. Best is trial 67 with value: 0.8974747474747475.\n",
      "[I 2025-03-10 15:24:43,736] Trial 204 finished with value: 0.8973232323232324 and parameters: {'alpha': 4.901330173756161, 'tol': 0.004945158294818049, 'positive': False, 'fit_intercept': False}. Best is trial 67 with value: 0.8974747474747475.\n",
      "[I 2025-03-10 15:24:43,955] Trial 206 finished with value: 0.897334455667789 and parameters: {'alpha': 4.85261258862171, 'tol': 0.008263847222671605, 'positive': False, 'fit_intercept': False}. Best is trial 67 with value: 0.8974747474747475.\n",
      "[I 2025-03-10 15:24:44,440] Trial 205 finished with value: 0.8972895622895622 and parameters: {'alpha': 4.288863205597369, 'tol': 0.007135633970484353, 'positive': False, 'fit_intercept': False}. Best is trial 67 with value: 0.8974747474747475.\n",
      "[I 2025-03-10 15:24:48,032] Trial 207 finished with value: 0.8967283950617284 and parameters: {'alpha': 22.935202757432087, 'tol': 0.00807228547282246, 'positive': False, 'fit_intercept': False}. Best is trial 67 with value: 0.8974747474747475.\n",
      "[I 2025-03-10 15:24:48,719] Trial 208 finished with value: 0.8973176206509539 and parameters: {'alpha': 4.592118109519225, 'tol': 0.0070093836228807375, 'positive': False, 'fit_intercept': False}. Best is trial 67 with value: 0.8974747474747475.\n",
      "[I 2025-03-10 15:24:48,720] Trial 209 finished with value: 0.8964814814814815 and parameters: {'alpha': 14.668959230519732, 'tol': 0.0035077212898673125, 'positive': False, 'fit_intercept': True}. Best is trial 67 with value: 0.8974747474747475.\n",
      "[I 2025-03-10 15:24:48,939] Trial 210 finished with value: 0.8973007856341189 and parameters: {'alpha': 2.8148361478571062, 'tol': 0.005571267682134618, 'positive': False, 'fit_intercept': False}. Best is trial 67 with value: 0.8974747474747475.\n",
      "[I 2025-03-10 15:24:51,447] Trial 211 finished with value: 0.8973400673400673 and parameters: {'alpha': 3.023957977222175, 'tol': 0.006077048837033348, 'positive': False, 'fit_intercept': False}. Best is trial 67 with value: 0.8974747474747475.\n",
      "[I 2025-03-10 15:24:53,244] Trial 214 finished with value: 0.8972951739618406 and parameters: {'alpha': 4.217531729840699, 'tol': 0.005324233497353747, 'positive': False, 'fit_intercept': False}. Best is trial 67 with value: 0.8974747474747475.\n",
      "[I 2025-03-10 15:24:53,247] Trial 213 finished with value: 0.8973063973063974 and parameters: {'alpha': 2.7401340209647786, 'tol': 0.005838875229791803, 'positive': False, 'fit_intercept': False}. Best is trial 67 with value: 0.8974747474747475.\n",
      "[I 2025-03-10 15:24:53,472] Trial 212 finished with value: 0.8973456790123457 and parameters: {'alpha': 3.305825695377022, 'tol': 0.0054111593095352226, 'positive': False, 'fit_intercept': False}. Best is trial 67 with value: 0.8974747474747475.\n",
      "[I 2025-03-10 15:24:55,963] Trial 215 finished with value: 0.8972951739618406 and parameters: {'alpha': 3.8338626545606633, 'tol': 0.005449439466690081, 'positive': False, 'fit_intercept': False}. Best is trial 67 with value: 0.8974747474747475.\n",
      "[I 2025-03-10 15:24:57,306] Trial 217 finished with value: 0.897334455667789 and parameters: {'alpha': 3.0255554307963575, 'tol': 0.0027120408889672884, 'positive': False, 'fit_intercept': False}. Best is trial 67 with value: 0.8974747474747475.\n",
      "[I 2025-03-10 15:24:57,767] Trial 216 finished with value: 0.8973007856341189 and parameters: {'alpha': 3.8241637907060553, 'tol': 0.00502576342468466, 'positive': False, 'fit_intercept': False}. Best is trial 67 with value: 0.8974747474747475.\n",
      "[I 2025-03-10 15:24:58,012] Trial 218 finished with value: 0.8972053872053871 and parameters: {'alpha': 5.513648394967808, 'tol': 0.003415880256561718, 'positive': False, 'fit_intercept': False}. Best is trial 67 with value: 0.8974747474747475.\n",
      "[I 2025-03-10 15:24:59,822] Trial 219 finished with value: 0.8974130190796858 and parameters: {'alpha': 2.0386359290781697, 'tol': 0.0024895267272140214, 'positive': False, 'fit_intercept': False}. Best is trial 67 with value: 0.8974747474747475.\n",
      "[I 2025-03-10 15:25:02,065] Trial 220 finished with value: 0.8972839506172839 and parameters: {'alpha': 5.107222953006749, 'tol': 0.00474033358984302, 'positive': False, 'fit_intercept': False}. Best is trial 67 with value: 0.8974747474747475.\n",
      "[I 2025-03-10 15:25:02,300] Trial 222 finished with value: 0.8974523007856341 and parameters: {'alpha': 2.2236532119055097, 'tol': 0.004872137644999423, 'positive': False, 'fit_intercept': False}. Best is trial 67 with value: 0.8974747474747475.\n",
      "[I 2025-03-10 15:25:02,523] Trial 221 finished with value: 0.8973625140291809 and parameters: {'alpha': 3.0579395888745995, 'tol': 0.004087346575604494, 'positive': False, 'fit_intercept': False}. Best is trial 67 with value: 0.8974747474747475.\n",
      "[I 2025-03-10 15:25:04,370] Trial 223 finished with value: 0.8974074074074074 and parameters: {'alpha': 2.0476252706200384, 'tol': 0.0016766010140849066, 'positive': False, 'fit_intercept': False}. Best is trial 67 with value: 0.8974747474747475.\n",
      "[I 2025-03-10 15:25:06,386] Trial 225 finished with value: 0.897384960718294 and parameters: {'alpha': 3.149007275405972, 'tol': 0.0026364428903242285, 'positive': False, 'fit_intercept': False}. Best is trial 67 with value: 0.8974747474747475.\n",
      "[I 2025-03-10 15:25:06,835] Trial 224 finished with value: 0.8938776655443323 and parameters: {'alpha': 0.1237340712949504, 'tol': 0.0017640321339570844, 'positive': False, 'fit_intercept': False}. Best is trial 67 with value: 0.8974747474747475.\n",
      "[I 2025-03-10 15:25:07,288] Trial 226 finished with value: 0.897351290684624 and parameters: {'alpha': 1.723856600580376, 'tol': 0.002320834956286464, 'positive': False, 'fit_intercept': False}. Best is trial 67 with value: 0.8974747474747475.\n",
      "[I 2025-03-10 15:25:08,666] Trial 227 finished with value: 0.8973063973063973 and parameters: {'alpha': 2.8260291955973593, 'tol': 0.0018642117965469898, 'positive': False, 'fit_intercept': False}. Best is trial 67 with value: 0.8974747474747475.\n",
      "[I 2025-03-10 15:25:10,268] Trial 228 finished with value: 0.8970931537598205 and parameters: {'alpha': 9.213185276436484, 'tol': 0.0019721415156926025, 'positive': False, 'fit_intercept': False}. Best is trial 67 with value: 0.8974747474747475.\n",
      "[I 2025-03-10 15:25:11,860] Trial 230 finished with value: 0.8972895622895625 and parameters: {'alpha': 5.062461218853616, 'tol': 0.0020925793887112566, 'positive': False, 'fit_intercept': False}. Best is trial 67 with value: 0.8974747474747475.\n",
      "[I 2025-03-10 15:25:12,075] Trial 229 finished with value: 0.8973232323232324 and parameters: {'alpha': 4.54306155414724, 'tol': 0.0003901312412921596, 'positive': False, 'fit_intercept': False}. Best is trial 67 with value: 0.8974747474747475.\n",
      "[I 2025-03-10 15:25:13,006] Trial 231 finished with value: 0.8972053872053871 and parameters: {'alpha': 5.511447727925776, 'tol': 0.0024072768759068395, 'positive': False, 'fit_intercept': False}. Best is trial 67 with value: 0.8974747474747475.\n",
      "[I 2025-03-10 15:25:14,813] Trial 232 finished with value: 0.8973400673400673 and parameters: {'alpha': 2.324675816433588, 'tol': 0.001223989701428012, 'positive': False, 'fit_intercept': False}. Best is trial 67 with value: 0.8974747474747475.\n",
      "[I 2025-03-10 15:25:16,388] Trial 233 finished with value: 0.8973737373737374 and parameters: {'alpha': 3.421926921785891, 'tol': 0.0013258128428412456, 'positive': False, 'fit_intercept': False}. Best is trial 67 with value: 0.8974747474747475.\n",
      "[I 2025-03-10 15:25:16,842] Trial 234 finished with value: 0.8972951739618406 and parameters: {'alpha': 3.9067166860340485, 'tol': 0.0018080330866192677, 'positive': False, 'fit_intercept': False}. Best is trial 67 with value: 0.8974747474747475.\n",
      "[I 2025-03-10 15:25:17,555] Trial 235 finished with value: 0.8972727272727272 and parameters: {'alpha': 2.5684412918955166, 'tol': 0.0026782350876733505, 'positive': False, 'fit_intercept': False}. Best is trial 67 with value: 0.8974747474747475.\n",
      "[I 2025-03-10 15:25:19,131] Trial 236 finished with value: 0.8973400673400673 and parameters: {'alpha': 2.3216174661506783, 'tol': 0.0028270953623243233, 'positive': False, 'fit_intercept': False}. Best is trial 67 with value: 0.8974747474747475.\n",
      "[I 2025-03-10 15:25:20,909] Trial 237 finished with value: 0.8973737373737375 and parameters: {'alpha': 3.087831577057463, 'tol': 0.0005945000238686559, 'positive': False, 'fit_intercept': False}. Best is trial 67 with value: 0.8974747474747475.\n",
      "[I 2025-03-10 15:25:21,148] Trial 238 finished with value: 0.8973176206509541 and parameters: {'alpha': 2.507444610412735, 'tol': 0.002327208562864581, 'positive': False, 'fit_intercept': False}. Best is trial 67 with value: 0.8974747474747475.\n",
      "[I 2025-03-10 15:25:22,267] Trial 239 finished with value: 0.8967845117845117 and parameters: {'alpha': 0.9918574914007612, 'tol': 0.004945037602331529, 'positive': False, 'fit_intercept': False}. Best is trial 67 with value: 0.8974747474747475.\n",
      "[I 2025-03-10 15:25:24,307] Trial 240 finished with value: 0.8973400673400673 and parameters: {'alpha': 2.4184083818168185, 'tol': 0.00493282545910818, 'positive': False, 'fit_intercept': False}. Best is trial 67 with value: 0.8974747474747475.\n",
      "[I 2025-03-10 15:25:25,416] Trial 241 finished with value: 0.8973456790123457 and parameters: {'alpha': 3.74033040668117, 'tol': 0.0014217473047249134, 'positive': False, 'fit_intercept': False}. Best is trial 67 with value: 0.8974747474747475.\n",
      "[I 2025-03-10 15:25:26,086] Trial 242 finished with value: 0.8972783389450057 and parameters: {'alpha': 2.9237353942144053, 'tol': 0.0004995859073931509, 'positive': False, 'fit_intercept': False}. Best is trial 67 with value: 0.8974747474747475.\n",
      "[I 2025-03-10 15:25:26,328] Trial 243 finished with value: 0.8973120089786757 and parameters: {'alpha': 4.714100342649621, 'tol': 0.0008466188928197261, 'positive': False, 'fit_intercept': False}. Best is trial 67 with value: 0.8974747474747475.\n",
      "[I 2025-03-10 15:25:28,796] Trial 244 finished with value: 0.8967620650953985 and parameters: {'alpha': 1.0144943025293571, 'tol': 0.0007088703112210811, 'positive': False, 'fit_intercept': False}. Best is trial 67 with value: 0.8974747474747475.\n",
      "[I 2025-03-10 15:25:29,679] Trial 245 finished with value: 0.8967789001122336 and parameters: {'alpha': 1.020849803859284, 'tol': 0.006017508381515605, 'positive': False, 'fit_intercept': False}. Best is trial 67 with value: 0.8974747474747475.\n",
      "[I 2025-03-10 15:25:30,350] Trial 246 finished with value: 0.8963692480359147 and parameters: {'alpha': 0.6056745557896113, 'tol': 0.00028459235320334175, 'positive': False, 'fit_intercept': False}. Best is trial 67 with value: 0.8974747474747475.\n",
      "[I 2025-03-10 15:25:31,028] Trial 247 finished with value: 0.8957239057239056 and parameters: {'alpha': 0.37279922008947164, 'tol': 0.0005965626019165931, 'positive': False, 'fit_intercept': False}. Best is trial 67 with value: 0.8974747474747475.\n",
      "[I 2025-03-10 15:25:32,348] Trial 248 finished with value: 0.8958080808080808 and parameters: {'alpha': 0.38507781317844225, 'tol': 0.006042903469953503, 'positive': False, 'fit_intercept': False}. Best is trial 67 with value: 0.8974747474747475.\n",
      "[I 2025-03-10 15:25:33,019] Trial 249 finished with value: 0.8968686868686868 and parameters: {'alpha': 2.757735058288602, 'tol': 0.0005708155164584418, 'positive': True, 'fit_intercept': False}. Best is trial 67 with value: 0.8974747474747475.\n"
     ]
    }
   ],
   "source": [
    "def objective(trial):    \n",
    "    params = {\n",
    "        \"random_state\": CFG.seed,\n",
    "        \"alpha\": trial.suggest_float(\"alpha\", 0, 25),\n",
    "        \"tol\": trial.suggest_float(\"tol\", 1e-7, 1e-2),\n",
    "        \"positive\": trial.suggest_categorical(\"positive\", [True, False]),\n",
    "        \"fit_intercept\": trial.suggest_categorical(\"fit_intercept\", [True, False])\n",
    "    }\n",
    "    \n",
    "    model = Ridge(**params)\n",
    "    trainer = Trainer(model, is_ensemble_model=True)\n",
    "    return trainer.tune(X, y)\n",
    "\n",
    "if CFG.run_optuna:\n",
    "    sampler = optuna.samplers.TPESampler(seed=CFG.seed, multivariate=True, n_startup_trials=CFG.optuna_trials // 10)\n",
    "    study = optuna.create_study(direction=\"maximize\", sampler=sampler)\n",
    "    study.optimize(objective, n_trials=CFG.optuna_trials, n_jobs=-1)\n",
    "    best_params = study.best_params\n",
    "    \n",
    "    ridge_params = {\n",
    "        \"random_state\": CFG.seed,\n",
    "        \"alpha\": best_params[\"alpha\"],\n",
    "        \"tol\": best_params[\"tol\"],\n",
    "        \"positive\": best_params[\"positive\"],\n",
    "        \"fit_intercept\": best_params[\"fit_intercept\"]\n",
    "    }\n",
    "else:\n",
    "    ridge_params = {\n",
    "        \"random_state\": CFG.seed\n",
    "    }"
   ]
  },
  {
   "cell_type": "code",
   "execution_count": 30,
   "id": "6fcfd25b",
   "metadata": {
    "execution": {
     "iopub.execute_input": "2025-03-10T15:25:33.104541Z",
     "iopub.status.busy": "2025-03-10T15:25:33.104215Z",
     "iopub.status.idle": "2025-03-10T15:25:33.108446Z",
     "shell.execute_reply": "2025-03-10T15:25:33.107467Z"
    },
    "papermill": {
     "duration": 0.045658,
     "end_time": "2025-03-10T15:25:33.109846",
     "exception": false,
     "start_time": "2025-03-10T15:25:33.064188",
     "status": "completed"
    },
    "tags": []
   },
   "outputs": [
    {
     "name": "stdout",
     "output_type": "stream",
     "text": [
      "{\n",
      "  \"random_state\": 42,\n",
      "  \"alpha\": 2.1747521089472017,\n",
      "  \"tol\": 0.005674002824493711,\n",
      "  \"positive\": false,\n",
      "  \"fit_intercept\": false\n",
      "}\n"
     ]
    }
   ],
   "source": [
    "print(json.dumps(ridge_params, indent=2))"
   ]
  },
  {
   "cell_type": "code",
   "execution_count": 31,
   "id": "fc14b3df",
   "metadata": {
    "execution": {
     "iopub.execute_input": "2025-03-10T15:25:33.185489Z",
     "iopub.status.busy": "2025-03-10T15:25:33.185179Z",
     "iopub.status.idle": "2025-03-10T15:25:34.286571Z",
     "shell.execute_reply": "2025-03-10T15:25:34.285732Z"
    },
    "papermill": {
     "duration": 1.140501,
     "end_time": "2025-03-10T15:25:34.287975",
     "exception": false,
     "start_time": "2025-03-10T15:25:33.147474",
     "status": "completed"
    },
    "tags": []
   },
   "outputs": [
    {
     "name": "stdout",
     "output_type": "stream",
     "text": [
      "Training Ridge\n",
      "\n",
      "--- Fold 1 - ROC AUC: 0.929040\n",
      "--- Fold 2 - ROC AUC: 0.860101\n",
      "--- Fold 3 - ROC AUC: 0.880836\n",
      "--- Fold 4 - ROC AUC: 0.915236\n",
      "--- Fold 5 - ROC AUC: 0.902160\n",
      "\n",
      "------ Overall: 0.897284 | Average: 0.897475 ± 0.024525\n"
     ]
    }
   ],
   "source": [
    "ridge_model = Ridge(**ridge_params)\n",
    "ridge_trainer = Trainer(ridge_model, is_ensemble_model=True)\n",
    "lr_oof_pred_probs, lr_test_pred_probs, scores[\"Ensemble Ridge\"], ridge_coeffs = ridge_trainer.fit_predict(X, y, X_test)"
   ]
  },
  {
   "cell_type": "code",
   "execution_count": 32,
   "id": "d2d26fce",
   "metadata": {
    "execution": {
     "iopub.execute_input": "2025-03-10T15:25:34.364003Z",
     "iopub.status.busy": "2025-03-10T15:25:34.363628Z",
     "iopub.status.idle": "2025-03-10T15:25:34.376915Z",
     "shell.execute_reply": "2025-03-10T15:25:34.376113Z"
    },
    "papermill": {
     "duration": 0.052389,
     "end_time": "2025-03-10T15:25:34.378261",
     "exception": false,
     "start_time": "2025-03-10T15:25:34.325872",
     "status": "completed"
    },
    "tags": []
   },
   "outputs": [
    {
     "data": {
      "text/html": [
       "<div>\n",
       "<style scoped>\n",
       "    .dataframe tbody tr th:only-of-type {\n",
       "        vertical-align: middle;\n",
       "    }\n",
       "\n",
       "    .dataframe tbody tr th {\n",
       "        vertical-align: top;\n",
       "    }\n",
       "\n",
       "    .dataframe thead th {\n",
       "        text-align: right;\n",
       "    }\n",
       "</style>\n",
       "<table border=\"1\" class=\"dataframe\">\n",
       "  <thead>\n",
       "    <tr style=\"text-align: right;\">\n",
       "      <th></th>\n",
       "      <th>id</th>\n",
       "      <th>rainfall</th>\n",
       "    </tr>\n",
       "  </thead>\n",
       "  <tbody>\n",
       "    <tr>\n",
       "      <th>0</th>\n",
       "      <td>2190</td>\n",
       "      <td>0.972602</td>\n",
       "    </tr>\n",
       "    <tr>\n",
       "      <th>1</th>\n",
       "      <td>2191</td>\n",
       "      <td>0.975720</td>\n",
       "    </tr>\n",
       "    <tr>\n",
       "      <th>2</th>\n",
       "      <td>2192</td>\n",
       "      <td>0.935303</td>\n",
       "    </tr>\n",
       "    <tr>\n",
       "      <th>3</th>\n",
       "      <td>2193</td>\n",
       "      <td>0.105440</td>\n",
       "    </tr>\n",
       "    <tr>\n",
       "      <th>4</th>\n",
       "      <td>2194</td>\n",
       "      <td>0.071295</td>\n",
       "    </tr>\n",
       "  </tbody>\n",
       "</table>\n",
       "</div>"
      ],
      "text/plain": [
       "     id  rainfall\n",
       "0  2190  0.972602\n",
       "1  2191  0.975720\n",
       "2  2192  0.935303\n",
       "3  2193  0.105440\n",
       "4  2194  0.071295"
      ]
     },
     "execution_count": 32,
     "metadata": {},
     "output_type": "execute_result"
    }
   ],
   "source": [
    "save_submission(\"ensemble-ridge\", lr_test_pred_probs, np.mean(scores[\"Ensemble Ridge\"]))"
   ]
  },
  {
   "cell_type": "code",
   "execution_count": 33,
   "id": "f4017a6e",
   "metadata": {
    "execution": {
     "iopub.execute_input": "2025-03-10T15:25:34.454507Z",
     "iopub.status.busy": "2025-03-10T15:25:34.454187Z",
     "iopub.status.idle": "2025-03-10T15:25:34.740169Z",
     "shell.execute_reply": "2025-03-10T15:25:34.739237Z"
    },
    "papermill": {
     "duration": 0.325847,
     "end_time": "2025-03-10T15:25:34.741809",
     "exception": false,
     "start_time": "2025-03-10T15:25:34.415962",
     "status": "completed"
    },
    "tags": []
   },
   "outputs": [
    {
     "data": {
      "image/png": "[encoded data removed]",
      "text/plain": [
       "<Figure size 1000x600 with 1 Axes>"
      ]
     },
     "metadata": {},
     "output_type": "display_data"
    }
   ],
   "source": [
    "plot_weights(ridge_coeffs, \"Ridge Coefficients\")"
   ]
  },
  {
   "cell_type": "markdown",
   "id": "d5ff2b99",
   "metadata": {
    "papermill": {
     "duration": 0.038259,
     "end_time": "2025-03-10T15:25:34.819508",
     "exception": false,
     "start_time": "2025-03-10T15:25:34.781249",
     "status": "completed"
    },
    "tags": []
   },
   "source": [
    "# Results"
   ]
  },
  {
   "cell_type": "code",
   "execution_count": 34,
   "id": "ed94de5c",
   "metadata": {
    "_kg_hide-input": false,
    "execution": {
     "iopub.execute_input": "2025-03-10T15:25:34.897308Z",
     "iopub.status.busy": "2025-03-10T15:25:34.896987Z",
     "iopub.status.idle": "2025-03-10T15:25:35.497398Z",
     "shell.execute_reply": "2025-03-10T15:25:35.496421Z"
    },
    "papermill": {
     "duration": 0.640971,
     "end_time": "2025-03-10T15:25:35.498883",
     "exception": false,
     "start_time": "2025-03-10T15:25:34.857912",
     "status": "completed"
    },
    "tags": []
   },
   "outputs": [
    {
     "data": {
      "image/png": "[encoded data removed]",
      "text/plain": [
       "<Figure size 1500x420 with 2 Axes>"
      ]
     },
     "metadata": {},
     "output_type": "display_data"
    }
   ],
   "source": [
    "scores = pd.DataFrame(scores)\n",
    "mean_scores = scores.mean().sort_values(ascending=False)\n",
    "order = scores.mean().sort_values(ascending=False).index.tolist()\n",
    "\n",
    "min_score = mean_scores.min()\n",
    "max_score = mean_scores.max()\n",
    "padding = (max_score - min_score) * 0.5\n",
    "lower_limit = min_score - padding\n",
    "upper_limit = max_score + padding\n",
    "\n",
    "fig, axs = plt.subplots(1, 2, figsize=(15, scores.shape[1] * 0.3))\n",
    "\n",
    "boxplot = sns.boxplot(data=scores, order=order, ax=axs[0], orient=\"h\", color=\"grey\")\n",
    "axs[0].set_title(\"Fold ROC AUC\")\n",
    "axs[0].set_xlabel(\"\")\n",
    "axs[0].set_ylabel(\"\")\n",
    "\n",
    "barplot = sns.barplot(x=mean_scores.values, y=mean_scores.index, ax=axs[1], color=\"grey\")\n",
    "axs[1].set_title(\"Average ROC AUC\")\n",
    "axs[1].set_xlabel(\"\")\n",
    "axs[1].set_xlim(left=lower_limit, right=upper_limit)\n",
    "axs[1].set_ylabel(\"\")\n",
    "\n",
    "for i, (score, model) in enumerate(zip(mean_scores.values, mean_scores.index)):\n",
    "    color = \"cyan\" if \"ensemble\" in model.lower() else \"grey\"\n",
    "    barplot.patches[i].set_facecolor(color)\n",
    "    boxplot.patches[i].set_facecolor(color)\n",
    "    barplot.text(score, i, round(score, 6), va=\"center\")\n",
    "\n",
    "plt.tight_layout()\n",
    "plt.show()"
   ]
  },
  {
   "cell_type": "code",
   "execution_count": 35,
   "id": "2c8e9c24",
   "metadata": {
    "execution": {
     "iopub.execute_input": "2025-03-10T15:25:35.582178Z",
     "iopub.status.busy": "2025-03-10T15:25:35.581820Z",
     "iopub.status.idle": "2025-03-10T15:25:35.586497Z",
     "shell.execute_reply": "2025-03-10T15:25:35.585589Z"
    },
    "papermill": {
     "duration": 0.047842,
     "end_time": "2025-03-10T15:25:35.588086",
     "exception": false,
     "start_time": "2025-03-10T15:25:35.540244",
     "status": "completed"
    },
    "tags": []
   },
   "outputs": [],
   "source": [
    "shutil.rmtree(\"catboost_info\", ignore_errors=True)"
   ]
  }
 ],
 "metadata": {
  "kaggle": {
   "accelerator": "none",
   "dataSources": [
    {
     "databundleVersionId": 11251744,
     "sourceId": 91714,
     "sourceType": "competition"
    },
    {
     "datasetId": 5651545,
     "sourceId": 9328134,
     "sourceType": "datasetVersion"
    },
    {
     "sourceId": 226778037,
     "sourceType": "kernelVersion"
    }
   ],
   "dockerImageVersionId": 30918,
   "isGpuEnabled": false,
   "isInternetEnabled": true,
   "language": "python",
   "sourceType": "notebook"
  },
  "kernelspec": {
   "display_name": "Python 3",
   "language": "python",
   "name": "python3"
  },
  "language_info": {
   "codemirror_mode": {
    "name": "ipython",
    "version": 3
   },
   "file_extension": ".py",
   "mimetype": "text/x-python",
   "name": "python",
   "nbconvert_exporter": "python",
   "pygments_lexer": "ipython3",
   "version": "3.10.12"
  },
  "papermill": {
   "default_parameters": {},
   "duration": 2676.949689,
   "end_time": "2025-03-10T15:25:39.042482",
   "environment_variables": {},
   "exception": null,
   "input_path": "__notebook__.ipynb",
   "output_path": "__notebook__.ipynb",
   "parameters": {},
   "start_time": "2025-03-10T14:41:02.092793",
   "version": "2.6.0"
  },
  "widgets": {
   "application/vnd.jupyter.widget-state+json": {
    "state": {
     "02e72b1553e246b98cdc6223029c42a0": {
      "model_module": "@jupyter-widgets/controls",
      "model_module_version": "2.0.0",
      "model_name": "HTMLModel",
      "state": {
       "_dom_classes": [],
       "_model_module": "@jupyter-widgets/controls",
       "_model_module_version": "2.0.0",
       "_model_name": "HTMLModel",
       "_view_count": null,
       "_view_module": "@jupyter-widgets/controls",
       "_view_module_version": "2.0.0",
       "_view_name": "HTMLView",
       "description": "",
       "description_allow_html": false,
       "layout": "IPY_MODEL_2f3da71623bf4c9c900f58d21611f053",
       "placeholder": "​",
       "style": "IPY_MODEL_7662eebc76c740238a595bc643a81a1b",
       "tabbable": null,
       "tooltip": null,
       "value": "tabpfn-v2-classifier.ckpt: 100%"
      }
     },
     "2771d973ff2b4bc19df067ece6e28559": {
      "model_module": "@jupyter-widgets/base",
      "model_module_version": "2.0.0",
      "model_name": "LayoutModel",
      "state": {
       "_model_module": "@jupyter-widgets/base",
       "_model_module_version": "2.0.0",
       "_model_name": "LayoutModel",
       "_view_count": null,
       "_view_module": "@jupyter-widgets/base",
       "_view_module_version": "2.0.0",
       "_view_name": "LayoutView",
       "align_content": null,
       "align_items": null,
       "align_self": null,
       "border_bottom": null,
       "border_left": null,
       "border_right": null,
       "border_top": null,
       "bottom": null,
       "display": null,
       "flex": null,
       "flex_flow": null,
       "grid_area": null,
       "grid_auto_columns": null,
       "grid_auto_flow": null,
       "grid_auto_rows": null,
       "grid_column": null,
       "grid_gap": null,
       "grid_row": null,
       "grid_template_areas": null,
       "grid_template_columns": null,
       "grid_template_rows": null,
       "height": null,
       "justify_content": null,
       "justify_items": null,
       "left": null,
       "margin": null,
       "max_height": null,
       "max_width": null,
       "min_height": null,
       "min_width": null,
       "object_fit": null,
       "object_position": null,
       "order": null,
       "overflow": null,
       "padding": null,
       "right": null,
       "top": null,
       "visibility": null,
       "width": null
      }
     },
     "2885bf6ab6664445a5e3ff6bb278bea4": {
      "model_module": "@jupyter-widgets/controls",
      "model_module_version": "2.0.0",
      "model_name": "ProgressStyleModel",
      "state": {
       "_model_module": "@jupyter-widgets/controls",
       "_model_module_version": "2.0.0",
       "_model_name": "ProgressStyleModel",
       "_view_count": null,
       "_view_module": "@jupyter-widgets/base",
       "_view_module_version": "2.0.0",
       "_view_name": "StyleView",
       "bar_color": null,
       "description_width": ""
      }
     },
     "2f3da71623bf4c9c900f58d21611f053": {
      "model_module": "@jupyter-widgets/base",
      "model_module_version": "2.0.0",
      "model_name": "LayoutModel",
      "state": {
       "_model_module": "@jupyter-widgets/base",
       "_model_module_version": "2.0.0",
       "_model_name": "LayoutModel",
       "_view_count": null,
       "_view_module": "@jupyter-widgets/base",
       "_view_module_version": "2.0.0",
       "_view_name": "LayoutView",
       "align_content": null,
       "align_items": null,
       "align_self": null,
       "border_bottom": null,
       "border_left": null,
       "border_right": null,
       "border_top": null,
       "bottom": null,
       "display": null,
       "flex": null,
       "flex_flow": null,
       "grid_area": null,
       "grid_auto_columns": null,
       "grid_auto_flow": null,
       "grid_auto_rows": null,
       "grid_column": null,
       "grid_gap": null,
       "grid_row": null,
       "grid_template_areas": null,
       "grid_template_columns": null,
       "grid_template_rows": null,
       "height": null,
       "justify_content": null,
       "justify_items": null,
       "left": null,
       "margin": null,
       "max_height": null,
       "max_width": null,
       "min_height": null,
       "min_width": null,
       "object_fit": null,
       "object_position": null,
       "order": null,
       "overflow": null,
       "padding": null,
       "right": null,
       "top": null,
       "visibility": null,
       "width": null
      }
     },
     "3c7d08db84e34147ac2375c02e92ce6e": {
      "model_module": "@jupyter-widgets/controls",
      "model_module_version": "2.0.0",
      "model_name": "HTMLModel",
      "state": {
       "_dom_classes": [],
       "_model_module": "@jupyter-widgets/controls",
       "_model_module_version": "2.0.0",
       "_model_name": "HTMLModel",
       "_view_count": null,
       "_view_module": "@jupyter-widgets/controls",
       "_view_module_version": "2.0.0",
       "_view_name": "HTMLView",
       "description": "",
       "description_allow_html": false,
       "layout": "IPY_MODEL_2771d973ff2b4bc19df067ece6e28559",
       "placeholder": "​",
       "style": "IPY_MODEL_b9aa4c2a3aa04660adb05c5e32594fba",
       "tabbable": null,
       "tooltip": null,
       "value": " 37.0/37.0 [00:00&lt;00:00, 3.34kB/s]"
      }
     },
     "45560665ad7f4d90963c284b47d76b25": {
      "model_module": "@jupyter-widgets/base",
      "model_module_version": "2.0.0",
      "model_name": "LayoutModel",
      "state": {
       "_model_module": "@jupyter-widgets/base",
       "_model_module_version": "2.0.0",
       "_model_name": "LayoutModel",
       "_view_count": null,
       "_view_module": "@jupyter-widgets/base",
       "_view_module_version": "2.0.0",
       "_view_name": "LayoutView",
       "align_content": null,
       "align_items": null,
       "align_self": null,
       "border_bottom": null,
       "border_left": null,
       "border_right": null,
       "border_top": null,
       "bottom": null,
       "display": null,
       "flex": null,
       "flex_flow": null,
       "grid_area": null,
       "grid_auto_columns": null,
       "grid_auto_flow": null,
       "grid_auto_rows": null,
       "grid_column": null,
       "grid_gap": null,
       "grid_row": null,
       "grid_template_areas": null,
       "grid_template_columns": null,
       "grid_template_rows": null,
       "height": null,
       "justify_content": null,
       "justify_items": null,
       "left": null,
       "margin": null,
       "max_height": null,
       "max_width": null,
       "min_height": null,
       "min_width": null,
       "object_fit": null,
       "object_position": null,
       "order": null,
       "overflow": null,
       "padding": null,
       "right": null,
       "top": null,
       "visibility": null,
       "width": null
      }
     },
     "6ce8411e542c42b28bcd4801fa498290": {
      "model_module": "@jupyter-widgets/controls",
      "model_module_version": "2.0.0",
      "model_name": "HTMLModel",
      "state": {
       "_dom_classes": [],
       "_model_module": "@jupyter-widgets/controls",
       "_model_module_version": "2.0.0",
       "_model_name": "HTMLModel",
       "_view_count": null,
       "_view_module": "@jupyter-widgets/controls",
       "_view_module_version": "2.0.0",
       "_view_name": "HTMLView",
       "description": "",
       "description_allow_html": false,
       "layout": "IPY_MODEL_45560665ad7f4d90963c284b47d76b25",
       "placeholder": "​",
       "style": "IPY_MODEL_d08f951b2d684106b8d591113286f125",
       "tabbable": null,
       "tooltip": null,
       "value": "config.json: 100%"
      }
     },
     "7662eebc76c740238a595bc643a81a1b": {
      "model_module": "@jupyter-widgets/controls",
      "model_module_version": "2.0.0",
      "model_name": "HTMLStyleModel",
      "state": {
       "_model_module": "@jupyter-widgets/controls",
       "_model_module_version": "2.0.0",
       "_model_name": "HTMLStyleModel",
       "_view_count": null,
       "_view_module": "@jupyter-widgets/base",
       "_view_module_version": "2.0.0",
       "_view_name": "StyleView",
       "background": null,
       "description_width": "",
       "font_size": null,
       "text_color": null
      }
     },
     "89f9e8be74fc4216948d17e3ba172606": {
      "model_module": "@jupyter-widgets/controls",
      "model_module_version": "2.0.0",
      "model_name": "FloatProgressModel",
      "state": {
       "_dom_classes": [],
       "_model_module": "@jupyter-widgets/controls",
       "_model_module_version": "2.0.0",
       "_model_name": "FloatProgressModel",
       "_view_count": null,
       "_view_module": "@jupyter-widgets/controls",
       "_view_module_version": "2.0.0",
       "_view_name": "ProgressView",
       "bar_style": "success",
       "description": "",
       "description_allow_html": false,
       "layout": "IPY_MODEL_b36f1ad85720422083f0e35d24de06d8",
       "max": 37.0,
       "min": 0.0,
       "orientation": "horizontal",
       "style": "IPY_MODEL_2885bf6ab6664445a5e3ff6bb278bea4",
       "tabbable": null,
       "tooltip": null,
       "value": 37.0
      }
     },
     "9443a48e20434517b79e249a28a068b7": {
      "model_module": "@jupyter-widgets/base",
      "model_module_version": "2.0.0",
      "model_name": "LayoutModel",
      "state": {
       "_model_module": "@jupyter-widgets/base",
       "_model_module_version": "2.0.0",
       "_model_name": "LayoutModel",
       "_view_count": null,
       "_view_module": "@jupyter-widgets/base",
       "_view_module_version": "2.0.0",
       "_view_name": "LayoutView",
       "align_content": null,
       "align_items": null,
       "align_self": null,
       "border_bottom": null,
       "border_left": null,
       "border_right": null,
       "border_top": null,
       "bottom": null,
       "display": null,
       "flex": null,
       "flex_flow": null,
       "grid_area": null,
       "grid_auto_columns": null,
       "grid_auto_flow": null,
       "grid_auto_rows": null,
       "grid_column": null,
       "grid_gap": null,
       "grid_row": null,
       "grid_template_areas": null,
       "grid_template_columns": null,
       "grid_template_rows": null,
       "height": null,
       "justify_content": null,
       "justify_items": null,
       "left": null,
       "margin": null,
       "max_height": null,
       "max_width": null,
       "min_height": null,
       "min_width": null,
       "object_fit": null,
       "object_position": null,
       "order": null,
       "overflow": null,
       "padding": null,
       "right": null,
       "top": null,
       "visibility": null,
       "width": null
      }
     },
     "97d5de05ed2e47ea8f0b002c714195a8": {
      "model_module": "@jupyter-widgets/base",
      "model_module_version": "2.0.0",
      "model_name": "LayoutModel",
      "state": {
       "_model_module": "@jupyter-widgets/base",
       "_model_module_version": "2.0.0",
       "_model_name": "LayoutModel",
       "_view_count": null,
       "_view_module": "@jupyter-widgets/base",
       "_view_module_version": "2.0.0",
       "_view_name": "LayoutView",
       "align_content": null,
       "align_items": null,
       "align_self": null,
       "border_bottom": null,
       "border_left": null,
       "border_right": null,
       "border_top": null,
       "bottom": null,
       "display": null,
       "flex": null,
       "flex_flow": null,
       "grid_area": null,
       "grid_auto_columns": null,
       "grid_auto_flow": null,
       "grid_auto_rows": null,
       "grid_column": null,
       "grid_gap": null,
       "grid_row": null,
       "grid_template_areas": null,
       "grid_template_columns": null,
       "grid_template_rows": null,
       "height": null,
       "justify_content": null,
       "justify_items": null,
       "left": null,
       "margin": null,
       "max_height": null,
       "max_width": null,
       "min_height": null,
       "min_width": null,
       "object_fit": null,
       "object_position": null,
       "order": null,
       "overflow": null,
       "padding": null,
       "right": null,
       "top": null,
       "visibility": null,
       "width": null
      }
     },
     "a047745b0197474cb43ff5883bebe4b8": {
      "model_module": "@jupyter-widgets/controls",
      "model_module_version": "2.0.0",
      "model_name": "HTMLModel",
      "state": {
       "_dom_classes": [],
       "_model_module": "@jupyter-widgets/controls",
       "_model_module_version": "2.0.0",
       "_model_name": "HTMLModel",
       "_view_count": null,
       "_view_module": "@jupyter-widgets/controls",
       "_view_module_version": "2.0.0",
       "_view_name": "HTMLView",
       "description": "",
       "description_allow_html": false,
       "layout": "IPY_MODEL_ea4a13d5479142eeb3b7d6ec9966f77f",
       "placeholder": "​",
       "style": "IPY_MODEL_a79c24e6d07f4dc282b7f4ceef5902ac",
       "tabbable": null,
       "tooltip": null,
       "value": " 29.0M/29.0M [00:00&lt;00:00, 89.2MB/s]"
      }
     },
     "a79c24e6d07f4dc282b7f4ceef5902ac": {
      "model_module": "@jupyter-widgets/controls",
      "model_module_version": "2.0.0",
      "model_name": "HTMLStyleModel",
      "state": {
       "_model_module": "@jupyter-widgets/controls",
       "_model_module_version": "2.0.0",
       "_model_name": "HTMLStyleModel",
       "_view_count": null,
       "_view_module": "@jupyter-widgets/base",
       "_view_module_version": "2.0.0",
       "_view_name": "StyleView",
       "background": null,
       "description_width": "",
       "font_size": null,
       "text_color": null
      }
     },
     "adcdfc3941f64f1ba386b143cdafbb9d": {
      "model_module": "@jupyter-widgets/controls",
      "model_module_version": "2.0.0",
      "model_name": "HBoxModel",
      "state": {
       "_dom_classes": [],
       "_model_module": "@jupyter-widgets/controls",
       "_model_module_version": "2.0.0",
       "_model_name": "HBoxModel",
       "_view_count": null,
       "_view_module": "@jupyter-widgets/controls",
       "_view_module_version": "2.0.0",
       "_view_name": "HBoxView",
       "box_style": "",
       "children": [
        "IPY_MODEL_02e72b1553e246b98cdc6223029c42a0",
        "IPY_MODEL_ed6ce0873e544c0fb55fe8af3a83a71b",
        "IPY_MODEL_a047745b0197474cb43ff5883bebe4b8"
       ],
       "layout": "IPY_MODEL_97d5de05ed2e47ea8f0b002c714195a8",
       "tabbable": null,
       "tooltip": null
      }
     },
     "b36f1ad85720422083f0e35d24de06d8": {
      "model_module": "@jupyter-widgets/base",
      "model_module_version": "2.0.0",
      "model_name": "LayoutModel",
      "state": {
       "_model_module": "@jupyter-widgets/base",
       "_model_module_version": "2.0.0",
       "_model_name": "LayoutModel",
       "_view_count": null,
       "_view_module": "@jupyter-widgets/base",
       "_view_module_version": "2.0.0",
       "_view_name": "LayoutView",
       "align_content": null,
       "align_items": null,
       "align_self": null,
       "border_bottom": null,
       "border_left": null,
       "border_right": null,
       "border_top": null,
       "bottom": null,
       "display": null,
       "flex": null,
       "flex_flow": null,
       "grid_area": null,
       "grid_auto_columns": null,
       "grid_auto_flow": null,
       "grid_auto_rows": null,
       "grid_column": null,
       "grid_gap": null,
       "grid_row": null,
       "grid_template_areas": null,
       "grid_template_columns": null,
       "grid_template_rows": null,
       "height": null,
       "justify_content": null,
       "justify_items": null,
       "left": null,
       "margin": null,
       "max_height": null,
       "max_width": null,
       "min_height": null,
       "min_width": null,
       "object_fit": null,
       "object_position": null,
       "order": null,
       "overflow": null,
       "padding": null,
       "right": null,
       "top": null,
       "visibility": null,
       "width": null
      }
     },
     "b68c13465c174abeaf0d8d494d57eaf3": {
      "model_module": "@jupyter-widgets/controls",
      "model_module_version": "2.0.0",
      "model_name": "HBoxModel",
      "state": {
       "_dom_classes": [],
       "_model_module": "@jupyter-widgets/controls",
       "_model_module_version": "2.0.0",
       "_model_name": "HBoxModel",
       "_view_count": null,
       "_view_module": "@jupyter-widgets/controls",
       "_view_module_version": "2.0.0",
       "_view_name": "HBoxView",
       "box_style": "",
       "children": [
        "IPY_MODEL_6ce8411e542c42b28bcd4801fa498290",
        "IPY_MODEL_89f9e8be74fc4216948d17e3ba172606",
        "IPY_MODEL_3c7d08db84e34147ac2375c02e92ce6e"
       ],
       "layout": "IPY_MODEL_9443a48e20434517b79e249a28a068b7",
       "tabbable": null,
       "tooltip": null
      }
     },
     "b9aa4c2a3aa04660adb05c5e32594fba": {
      "model_module": "@jupyter-widgets/controls",
      "model_module_version": "2.0.0",
      "model_name": "HTMLStyleModel",
      "state": {
       "_model_module": "@jupyter-widgets/controls",
       "_model_module_version": "2.0.0",
       "_model_name": "HTMLStyleModel",
       "_view_count": null,
       "_view_module": "@jupyter-widgets/base",
       "_view_module_version": "2.0.0",
       "_view_name": "StyleView",
       "background": null,
       "description_width": "",
       "font_size": null,
       "text_color": null
      }
     },
     "c7ad76a317094298848302f5d622ca26": {
      "model_module": "@jupyter-widgets/controls",
      "model_module_version": "2.0.0",
      "model_name": "ProgressStyleModel",
      "state": {
       "_model_module": "@jupyter-widgets/controls",
       "_model_module_version": "2.0.0",
       "_model_name": "ProgressStyleModel",
       "_view_count": null,
       "_view_module": "@jupyter-widgets/base",
       "_view_module_version": "2.0.0",
       "_view_name": "StyleView",
       "bar_color": null,
       "description_width": ""
      }
     },
     "d08f951b2d684106b8d591113286f125": {
      "model_module": "@jupyter-widgets/controls",
      "model_module_version": "2.0.0",
      "model_name": "HTMLStyleModel",
      "state": {
       "_model_module": "@jupyter-widgets/controls",
       "_model_module_version": "2.0.0",
       "_model_name": "HTMLStyleModel",
       "_view_count": null,
       "_view_module": "@jupyter-widgets/base",
       "_view_module_version": "2.0.0",
       "_view_name": "StyleView",
       "background": null,
       "description_width": "",
       "font_size": null,
       "text_color": null
      }
     },
     "d33fe232063847f4a4fc660681066810": {
      "model_module": "@jupyter-widgets/base",
      "model_module_version": "2.0.0",
      "model_name": "LayoutModel",
      "state": {
       "_model_module": "@jupyter-widgets/base",
       "_model_module_version": "2.0.0",
       "_model_name": "LayoutModel",
       "_view_count": null,
       "_view_module": "@jupyter-widgets/base",
       "_view_module_version": "2.0.0",
       "_view_name": "LayoutView",
       "align_content": null,
       "align_items": null,
       "align_self": null,
       "border_bottom": null,
       "border_left": null,
       "border_right": null,
       "border_top": null,
       "bottom": null,
       "display": null,
       "flex": null,
       "flex_flow": null,
       "grid_area": null,
       "grid_auto_columns": null,
       "grid_auto_flow": null,
       "grid_auto_rows": null,
       "grid_column": null,
       "grid_gap": null,
       "grid_row": null,
       "grid_template_areas": null,
       "grid_template_columns": null,
       "grid_template_rows": null,
       "height": null,
       "justify_content": null,
       "justify_items": null,
       "left": null,
       "margin": null,
       "max_height": null,
       "max_width": null,
       "min_height": null,
       "min_width": null,
       "object_fit": null,
       "object_position": null,
       "order": null,
       "overflow": null,
       "padding": null,
       "right": null,
       "top": null,
       "visibility": null,
       "width": null
      }
     },
     "ea4a13d5479142eeb3b7d6ec9966f77f": {
      "model_module": "@jupyter-widgets/base",
      "model_module_version": "2.0.0",
      "model_name": "LayoutModel",
      "state": {
       "_model_module": "@jupyter-widgets/base",
       "_model_module_version": "2.0.0",
       "_model_name": "LayoutModel",
       "_view_count": null,
       "_view_module": "@jupyter-widgets/base",
       "_view_module_version": "2.0.0",
       "_view_name": "LayoutView",
       "align_content": null,
       "align_items": null,
       "align_self": null,
       "border_bottom": null,
       "border_left": null,
       "border_right": null,
       "border_top": null,
       "bottom": null,
       "display": null,
       "flex": null,
       "flex_flow": null,
       "grid_area": null,
       "grid_auto_columns": null,
       "grid_auto_flow": null,
       "grid_auto_rows": null,
       "grid_column": null,
       "grid_gap": null,
       "grid_row": null,
       "grid_template_areas": null,
       "grid_template_columns": null,
       "grid_template_rows": null,
       "height": null,
       "justify_content": null,
       "justify_items": null,
       "left": null,
       "margin": null,
       "max_height": null,
       "max_width": null,
       "min_height": null,
       "min_width": null,
       "object_fit": null,
       "object_position": null,
       "order": null,
       "overflow": null,
       "padding": null,
       "right": null,
       "top": null,
       "visibility": null,
       "width": null
      }
     },
     "ed6ce0873e544c0fb55fe8af3a83a71b": {
      "model_module": "@jupyter-widgets/controls",
      "model_module_version": "2.0.0",
      "model_name": "FloatProgressModel",
      "state": {
       "_dom_classes": [],
       "_model_module": "@jupyter-widgets/controls",
       "_model_module_version": "2.0.0",
       "_model_name": "FloatProgressModel",
       "_view_count": null,
       "_view_module": "@jupyter-widgets/controls",
       "_view_module_version": "2.0.0",
       "_view_name": "ProgressView",
       "bar_style": "success",
       "description": "",
       "description_allow_html": false,
       "layout": "IPY_MODEL_d33fe232063847f4a4fc660681066810",
       "max": 29016968.0,
       "min": 0.0,
       "orientation": "horizontal",
       "style": "IPY_MODEL_c7ad76a317094298848302f5d622ca26",
       "tabbable": null,
       "tooltip": null,
       "value": 29016968.0
      }
     }
    },
    "version_major": 2,
    "version_minor": 0
   }
  }
 },
 "nbformat": 4,
 "nbformat_minor": 5
}
