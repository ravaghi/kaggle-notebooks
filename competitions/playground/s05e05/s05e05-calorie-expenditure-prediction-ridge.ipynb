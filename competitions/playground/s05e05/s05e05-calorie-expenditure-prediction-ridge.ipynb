{
 "cells": [
  {
   "cell_type": "code",
   "execution_count": 1,
   "id": "da1bbdf3",
   "metadata": {
    "_kg_hide-output": true,
    "execution": {
     "iopub.execute_input": "2025-05-10T02:06:09.925580Z",
     "iopub.status.busy": "2025-05-10T02:06:09.925305Z",
     "iopub.status.idle": "2025-05-10T02:06:18.306267Z",
     "shell.execute_reply": "2025-05-10T02:06:18.305560Z"
    },
    "papermill": {
     "duration": 8.388333,
     "end_time": "2025-05-10T02:06:18.307561",
     "exception": false,
     "start_time": "2025-05-10T02:06:09.919228",
     "status": "completed"
    },
    "scrolled": true,
    "tags": []
   },
   "outputs": [
    {
     "name": "stdout",
     "output_type": "stream",
     "text": [
      "Requirement already satisfied: ydf in /usr/local/lib/python3.11/dist-packages (0.9.0)\r\n",
      "Collecting koolbox\r\n",
      "  Downloading koolbox-0.1.3-py3-none-any.whl.metadata (3.4 kB)\r\n",
      "Collecting scikit-learn==1.5.2\r\n",
      "  Downloading scikit_learn-1.5.2-cp311-cp311-manylinux_2_17_x86_64.manylinux2014_x86_64.whl.metadata (13 kB)\r\n",
      "Requirement already satisfied: numpy>=1.19.5 in /usr/local/lib/python3.11/dist-packages (from scikit-learn==1.5.2) (1.26.4)\r\n",
      "Requirement already satisfied: scipy>=1.6.0 in /usr/local/lib/python3.11/dist-packages (from scikit-learn==1.5.2) (1.15.2)\r\n",
      "Requirement already satisfied: joblib>=1.2.0 in /usr/local/lib/python3.11/dist-packages (from scikit-learn==1.5.2) (1.4.2)\r\n",
      "Requirement already satisfied: threadpoolctl>=3.1.0 in /usr/local/lib/python3.11/dist-packages (from scikit-learn==1.5.2) (3.6.0)\r\n",
      "Requirement already satisfied: absl_py in /usr/local/lib/python3.11/dist-packages (from ydf) (1.4.0)\r\n",
      "Requirement already satisfied: protobuf>=3.14 in /usr/local/lib/python3.11/dist-packages (from ydf) (3.20.3)\r\n",
      "Requirement already satisfied: optuna>=4.2.1 in /usr/local/lib/python3.11/dist-packages (from koolbox) (4.2.1)\r\n",
      "Requirement already satisfied: pandas>=2.2.3 in /usr/local/lib/python3.11/dist-packages (from koolbox) (2.2.3)\r\n",
      "Requirement already satisfied: mkl_fft in /usr/local/lib/python3.11/dist-packages (from numpy>=1.19.5->scikit-learn==1.5.2) (1.3.8)\r\n",
      "Requirement already satisfied: mkl_random in /usr/local/lib/python3.11/dist-packages (from numpy>=1.19.5->scikit-learn==1.5.2) (1.2.4)\r\n",
      "Requirement already satisfied: mkl_umath in /usr/local/lib/python3.11/dist-packages (from numpy>=1.19.5->scikit-learn==1.5.2) (0.1.1)\r\n",
      "Requirement already satisfied: mkl in /usr/local/lib/python3.11/dist-packages (from numpy>=1.19.5->scikit-learn==1.5.2) (2025.1.0)\r\n",
      "Requirement already satisfied: tbb4py in /usr/local/lib/python3.11/dist-packages (from numpy>=1.19.5->scikit-learn==1.5.2) (2022.1.0)\r\n",
      "Requirement already satisfied: mkl-service in /usr/local/lib/python3.11/dist-packages (from numpy>=1.19.5->scikit-learn==1.5.2) (2.4.1)\r\n",
      "Requirement already satisfied: alembic>=1.5.0 in /usr/local/lib/python3.11/dist-packages (from optuna>=4.2.1->koolbox) (1.15.2)\r\n",
      "Requirement already satisfied: colorlog in /usr/local/lib/python3.11/dist-packages (from optuna>=4.2.1->koolbox) (6.9.0)\r\n",
      "Requirement already satisfied: packaging>=20.0 in /usr/local/lib/python3.11/dist-packages (from optuna>=4.2.1->koolbox) (24.2)\r\n",
      "Requirement already satisfied: sqlalchemy>=1.4.2 in /usr/local/lib/python3.11/dist-packages (from optuna>=4.2.1->koolbox) (2.0.38)\r\n",
      "Requirement already satisfied: tqdm in /usr/local/lib/python3.11/dist-packages (from optuna>=4.2.1->koolbox) (4.67.1)\r\n",
      "Requirement already satisfied: PyYAML in /usr/local/lib/python3.11/dist-packages (from optuna>=4.2.1->koolbox) (6.0.2)\r\n",
      "Requirement already satisfied: python-dateutil>=2.8.2 in /usr/local/lib/python3.11/dist-packages (from pandas>=2.2.3->koolbox) (2.9.0.post0)\r\n",
      "Requirement already satisfied: pytz>=2020.1 in /usr/local/lib/python3.11/dist-packages (from pandas>=2.2.3->koolbox) (2025.2)\r\n",
      "Requirement already satisfied: tzdata>=2022.7 in /usr/local/lib/python3.11/dist-packages (from pandas>=2.2.3->koolbox) (2025.2)\r\n",
      "Requirement already satisfied: Mako in /usr/local/lib/python3.11/dist-packages (from alembic>=1.5.0->optuna>=4.2.1->koolbox) (1.3.9)\r\n",
      "Requirement already satisfied: typing-extensions>=4.12 in /usr/local/lib/python3.11/dist-packages (from alembic>=1.5.0->optuna>=4.2.1->koolbox) (4.13.1)\r\n",
      "Requirement already satisfied: six>=1.5 in /usr/local/lib/python3.11/dist-packages (from python-dateutil>=2.8.2->pandas>=2.2.3->koolbox) (1.17.0)\r\n",
      "Requirement already satisfied: greenlet!=0.4.17 in /usr/local/lib/python3.11/dist-packages (from sqlalchemy>=1.4.2->optuna>=4.2.1->koolbox) (3.1.1)\r\n",
      "Requirement already satisfied: intel-openmp<2026,>=2024 in /usr/local/lib/python3.11/dist-packages (from mkl->numpy>=1.19.5->scikit-learn==1.5.2) (2024.2.0)\r\n",
      "Requirement already satisfied: tbb==2022.* in /usr/local/lib/python3.11/dist-packages (from mkl->numpy>=1.19.5->scikit-learn==1.5.2) (2022.1.0)\r\n",
      "Requirement already satisfied: tcmlib==1.* in /usr/local/lib/python3.11/dist-packages (from tbb==2022.*->mkl->numpy>=1.19.5->scikit-learn==1.5.2) (1.2.0)\r\n",
      "Requirement already satisfied: intel-cmplr-lib-rt in /usr/local/lib/python3.11/dist-packages (from mkl_umath->numpy>=1.19.5->scikit-learn==1.5.2) (2024.2.0)\r\n",
      "Requirement already satisfied: intel-cmplr-lib-ur==2024.2.0 in /usr/local/lib/python3.11/dist-packages (from intel-openmp<2026,>=2024->mkl->numpy>=1.19.5->scikit-learn==1.5.2) (2024.2.0)\r\n",
      "Requirement already satisfied: MarkupSafe>=0.9.2 in /usr/local/lib/python3.11/dist-packages (from Mako->alembic>=1.5.0->optuna>=4.2.1->koolbox) (3.0.2)\r\n",
      "Downloading scikit_learn-1.5.2-cp311-cp311-manylinux_2_17_x86_64.manylinux2014_x86_64.whl (13.3 MB)\r\n",
      "\u001b[2K   \u001b[90m━━━━━━━━━━━━━━━━━━━━━━━━━━━━━━━━━━━━━━━━\u001b[0m \u001b[32m13.3/13.3 MB\u001b[0m \u001b[31m78.5 MB/s\u001b[0m eta \u001b[36m0:00:00\u001b[0m\r\n",
      "\u001b[?25hDownloading koolbox-0.1.3-py3-none-any.whl (18 kB)\r\n",
      "Installing collected packages: scikit-learn, koolbox\r\n",
      "  Attempting uninstall: scikit-learn\r\n",
      "    Found existing installation: scikit-learn 1.2.2\r\n",
      "    Uninstalling scikit-learn-1.2.2:\r\n",
      "      Successfully uninstalled scikit-learn-1.2.2\r\n",
      "\u001b[31mERROR: pip's dependency resolver does not currently take into account all the packages that are installed. This behaviour is the source of the following dependency conflicts.\r\n",
      "bigframes 1.36.0 requires rich<14,>=12.4.4, but you have rich 14.0.0 which is incompatible.\u001b[0m\u001b[31m\r\n",
      "\u001b[0mSuccessfully installed koolbox-0.1.3 scikit-learn-1.5.2\r\n",
      "Collecting scikeras\r\n",
      "  Downloading scikeras-0.13.0-py3-none-any.whl.metadata (3.1 kB)\r\n",
      "Downloading scikeras-0.13.0-py3-none-any.whl (26 kB)\r\n",
      "Installing collected packages: scikeras\r\n",
      "Successfully installed scikeras-0.13.0\r\n"
     ]
    }
   ],
   "source": [
    "!pip install ydf koolbox scikit-learn==1.5.2 && pip install --no-deps scikeras"
   ]
  },
  {
   "cell_type": "markdown",
   "id": "e200a3fc",
   "metadata": {
    "papermill": {
     "duration": 0.005621,
     "end_time": "2025-05-10T02:06:18.318727",
     "exception": false,
     "start_time": "2025-05-10T02:06:18.313106",
     "status": "completed"
    },
    "tags": []
   },
   "source": [
    "# Imports and configs"
   ]
  },
  {
   "cell_type": "code",
   "execution_count": 2,
   "id": "13c6601d",
   "metadata": {
    "_kg_hide-output": true,
    "execution": {
     "iopub.execute_input": "2025-05-10T02:06:18.329616Z",
     "iopub.status.busy": "2025-05-10T02:06:18.329140Z",
     "iopub.status.idle": "2025-05-10T02:06:37.290523Z",
     "shell.execute_reply": "2025-05-10T02:06:37.289849Z"
    },
    "papermill": {
     "duration": 18.968201,
     "end_time": "2025-05-10T02:06:37.291741",
     "exception": false,
     "start_time": "2025-05-10T02:06:18.323540",
     "status": "completed"
    },
    "tags": []
   },
   "outputs": [
    {
     "name": "stderr",
     "output_type": "stream",
     "text": [
      "2025-05-10 02:06:22.518576: E external/local_xla/xla/stream_executor/cuda/cuda_fft.cc:477] Unable to register cuFFT factory: Attempting to register factory for plugin cuFFT when one has already been registered\n",
      "WARNING: All log messages before absl::InitializeLog() is called are written to STDERR\n",
      "E0000 00:00:1746842782.715005      13 cuda_dnn.cc:8310] Unable to register cuDNN factory: Attempting to register factory for plugin cuDNN when one has already been registered\n",
      "E0000 00:00:1746842782.770950      13 cuda_blas.cc:1418] Unable to register cuBLAS factory: Attempting to register factory for plugin cuBLAS when one has already been registered\n"
     ]
    }
   ],
   "source": [
    "from sklearn.ensemble import HistGradientBoostingRegressor, BaggingRegressor\n",
    "from sklearn.preprocessing import StandardScaler, OneHotEncoder\n",
    "from sklearn.feature_selection import mutual_info_regression\n",
    "from sklearn.base import BaseEstimator, RegressorMixin\n",
    "from sklearn.metrics import root_mean_squared_error\n",
    "from sklearn.compose import ColumnTransformer\n",
    "from sklearn.pipeline import make_pipeline\n",
    "from sklearn.model_selection import KFold\n",
    "from sklearn.linear_model import Ridge\n",
    "from scikeras.wrappers import KerasRegressor\n",
    "from lightgbm import LGBMRegressor, early_stopping, log_evaluation\n",
    "from ydf import GradientBoostedTreesLearner\n",
    "from catboost import CatBoostRegressor\n",
    "from xgboost import XGBRegressor\n",
    "from koolbox import Trainer\n",
    "import matplotlib.pyplot as plt\n",
    "import contextlib, io\n",
    "import seaborn as sns\n",
    "import pandas as pd\n",
    "import numpy as np\n",
    "import warnings\n",
    "import joblib\n",
    "import shutil\n",
    "import optuna\n",
    "import keras\n",
    "import json\n",
    "import glob\n",
    "import ydf\n",
    "\n",
    "ydf.verbose(2)\n",
    "warnings.filterwarnings(\"ignore\")"
   ]
  },
  {
   "cell_type": "code",
   "execution_count": 3,
   "id": "b31f55b9",
   "metadata": {
    "execution": {
     "iopub.execute_input": "2025-05-10T02:06:37.302909Z",
     "iopub.status.busy": "2025-05-10T02:06:37.302461Z",
     "iopub.status.idle": "2025-05-10T02:06:37.306371Z",
     "shell.execute_reply": "2025-05-10T02:06:37.305819Z"
    },
    "papermill": {
     "duration": 0.010367,
     "end_time": "2025-05-10T02:06:37.307376",
     "exception": false,
     "start_time": "2025-05-10T02:06:37.297009",
     "status": "completed"
    },
    "tags": []
   },
   "outputs": [],
   "source": [
    "class CFG:\n",
    "    train_path = \"/kaggle/input/playground-series-s5e5/train.csv\"\n",
    "    test_path = \"/kaggle/input/playground-series-s5e5/test.csv\"\n",
    "    sample_sub_path = \"/kaggle/input/playground-series-s5e5/sample_submission.csv\"\n",
    "    \n",
    "    original_path = \"/kaggle/input/calories-burnt-prediction/calories.csv\"\n",
    "\n",
    "    metric = root_mean_squared_error\n",
    "    target = \"Calories\"\n",
    "    n_folds = 5\n",
    "    seed = 42\n",
    "\n",
    "    cv = KFold(n_splits=n_folds, random_state=seed, shuffle=True)\n",
    "\n",
    "    run_optuna = True\n",
    "    n_optuna_trials = 250"
   ]
  },
  {
   "cell_type": "markdown",
   "id": "d57a7f72",
   "metadata": {
    "papermill": {
     "duration": 0.004593,
     "end_time": "2025-05-10T02:06:37.316779",
     "exception": false,
     "start_time": "2025-05-10T02:06:37.312186",
     "status": "completed"
    },
    "tags": []
   },
   "source": [
    "# Data loading and preprocessing"
   ]
  },
  {
   "cell_type": "code",
   "execution_count": 4,
   "id": "243f9d40",
   "metadata": {
    "execution": {
     "iopub.execute_input": "2025-05-10T02:06:37.326949Z",
     "iopub.status.busy": "2025-05-10T02:06:37.326762Z",
     "iopub.status.idle": "2025-05-10T02:06:38.164648Z",
     "shell.execute_reply": "2025-05-10T02:06:38.163785Z"
    },
    "papermill": {
     "duration": 0.844449,
     "end_time": "2025-05-10T02:06:38.165898",
     "exception": false,
     "start_time": "2025-05-10T02:06:37.321449",
     "status": "completed"
    },
    "tags": []
   },
   "outputs": [],
   "source": [
    "train = pd.read_csv(CFG.train_path, index_col=\"id\")\n",
    "test = pd.read_csv(CFG.test_path, index_col=\"id\")\n",
    "\n",
    "train[\"Sex\"] = train[\"Sex\"].map({\"male\": 0, \"female\": 1})\n",
    "test[\"Sex\"] = test[\"Sex\"].map({\"male\": 0, \"female\": 1})\n",
    "\n",
    "X = train.drop(CFG.target, axis=1)\n",
    "y = np.log1p(train[CFG.target])\n",
    "X_test = test"
   ]
  },
  {
   "cell_type": "code",
   "execution_count": 5,
   "id": "d0609d83",
   "metadata": {
    "execution": {
     "iopub.execute_input": "2025-05-10T02:06:38.179587Z",
     "iopub.status.busy": "2025-05-10T02:06:38.179374Z",
     "iopub.status.idle": "2025-05-10T02:06:38.202542Z",
     "shell.execute_reply": "2025-05-10T02:06:38.201855Z"
    },
    "papermill": {
     "duration": 0.030904,
     "end_time": "2025-05-10T02:06:38.203582",
     "exception": false,
     "start_time": "2025-05-10T02:06:38.172678",
     "status": "completed"
    },
    "tags": []
   },
   "outputs": [],
   "source": [
    "original = pd.read_csv(CFG.original_path, index_col=\"User_ID\")\n",
    "original[\"Gender\"] = original[\"Gender\"].map({\"male\": 0, \"female\": 1})\n",
    "original = original.rename(columns={\"Gender\": \"Sex\"})\n",
    "\n",
    "X_original = original.drop(CFG.target, axis=1)\n",
    "y_original = np.log1p(original[CFG.target])"
   ]
  },
  {
   "cell_type": "code",
   "execution_count": 6,
   "id": "be72ad8a",
   "metadata": {
    "execution": {
     "iopub.execute_input": "2025-05-10T02:06:38.215655Z",
     "iopub.status.busy": "2025-05-10T02:06:38.215404Z",
     "iopub.status.idle": "2025-05-10T02:07:26.481885Z",
     "shell.execute_reply": "2025-05-10T02:07:26.481213Z"
    },
    "papermill": {
     "duration": 48.27866,
     "end_time": "2025-05-10T02:07:26.487985",
     "exception": false,
     "start_time": "2025-05-10T02:06:38.209325",
     "status": "completed"
    },
    "tags": []
   },
   "outputs": [
    {
     "data": {
      "text/html": [
       "<style type=\"text/css\">\n",
       "#T_74b65_row0_col0 {\n",
       "  width: 10em;\n",
       "  background: linear-gradient(90deg, #006837 100.0%, transparent 100.0%);\n",
       "}\n",
       "#T_74b65_row1_col0 {\n",
       "  width: 10em;\n",
       "  background: linear-gradient(90deg, #afdd70 68.3%, transparent 68.3%);\n",
       "}\n",
       "#T_74b65_row2_col0 {\n",
       "  width: 10em;\n",
       "  background: linear-gradient(90deg, #daf08d 59.6%, transparent 59.6%);\n",
       "}\n",
       "#T_74b65_row3_col0 {\n",
       "  width: 10em;\n",
       "  background: linear-gradient(90deg, #c21c27 6.0%, transparent 6.0%);\n",
       "}\n",
       "#T_74b65_row4_col0, #T_74b65_row5_col0 {\n",
       "  width: 10em;\n",
       "  background: linear-gradient(90deg, #b50f26 3.4%, transparent 3.4%);\n",
       "}\n",
       "#T_74b65_row6_col0 {\n",
       "  width: 10em;\n",
       "  background: linear-gradient(90deg, #a90426 1.0%, transparent 1.0%);\n",
       "}\n",
       "</style>\n",
       "<table id=\"T_74b65\">\n",
       "  <thead>\n",
       "    <tr>\n",
       "      <th class=\"blank level0\" >&nbsp;</th>\n",
       "      <th id=\"T_74b65_level0_col0\" class=\"col_heading level0 col0\" >Mutual Information</th>\n",
       "    </tr>\n",
       "  </thead>\n",
       "  <tbody>\n",
       "    <tr>\n",
       "      <th id=\"T_74b65_level0_row0\" class=\"row_heading level0 row0\" >Duration</th>\n",
       "      <td id=\"T_74b65_row0_col0\" class=\"data row0 col0\" >1.640567</td>\n",
       "    </tr>\n",
       "    <tr>\n",
       "      <th id=\"T_74b65_level0_row1\" class=\"row_heading level0 row1\" >Body_Temp</th>\n",
       "      <td id=\"T_74b65_row1_col0\" class=\"data row1 col0\" >1.120766</td>\n",
       "    </tr>\n",
       "    <tr>\n",
       "      <th id=\"T_74b65_level0_row2\" class=\"row_heading level0 row2\" >Heart_Rate</th>\n",
       "      <td id=\"T_74b65_row2_col0\" class=\"data row2 col0\" >0.976966</td>\n",
       "    </tr>\n",
       "    <tr>\n",
       "      <th id=\"T_74b65_level0_row3\" class=\"row_heading level0 row3\" >Age</th>\n",
       "      <td id=\"T_74b65_row3_col0\" class=\"data row3 col0\" >0.098387</td>\n",
       "    </tr>\n",
       "    <tr>\n",
       "      <th id=\"T_74b65_level0_row4\" class=\"row_heading level0 row4\" >Height</th>\n",
       "      <td id=\"T_74b65_row4_col0\" class=\"data row4 col0\" >0.056501</td>\n",
       "    </tr>\n",
       "    <tr>\n",
       "      <th id=\"T_74b65_level0_row5\" class=\"row_heading level0 row5\" >Weight</th>\n",
       "      <td id=\"T_74b65_row5_col0\" class=\"data row5 col0\" >0.055709</td>\n",
       "    </tr>\n",
       "    <tr>\n",
       "      <th id=\"T_74b65_level0_row6\" class=\"row_heading level0 row6\" >Sex</th>\n",
       "      <td id=\"T_74b65_row6_col0\" class=\"data row6 col0\" >0.017174</td>\n",
       "    </tr>\n",
       "  </tbody>\n",
       "</table>\n"
      ],
      "text/plain": [
       "<pandas.io.formats.style.Styler at 0x7c5ce7e40d90>"
      ]
     },
     "execution_count": 6,
     "metadata": {},
     "output_type": "execute_result"
    }
   ],
   "source": [
    "mutual_info = mutual_info_regression(X, y, random_state=CFG.seed)\n",
    "\n",
    "mutual_info = pd.Series(mutual_info)\n",
    "mutual_info.index = X.columns\n",
    "mutual_info = pd.DataFrame(mutual_info.sort_values(ascending=False), columns=['Mutual Information'])\n",
    "mutual_info.style.bar(subset=['Mutual Information'], cmap='RdYlGn')"
   ]
  },
  {
   "cell_type": "code",
   "execution_count": 7,
   "id": "c99519c7",
   "metadata": {
    "execution": {
     "iopub.execute_input": "2025-05-10T02:07:26.499554Z",
     "iopub.status.busy": "2025-05-10T02:07:26.499296Z",
     "iopub.status.idle": "2025-05-10T02:07:26.991590Z",
     "shell.execute_reply": "2025-05-10T02:07:26.990988Z"
    },
    "papermill": {
     "duration": 0.499325,
     "end_time": "2025-05-10T02:07:26.992583",
     "exception": false,
     "start_time": "2025-05-10T02:07:26.493258",
     "status": "completed"
    },
    "tags": []
   },
   "outputs": [
    {
     "data": {
      "text/html": [
       "<style type=\"text/css\">\n",
       "#T_df30b_row0_col0 {\n",
       "  width: 10em;\n",
       "  background: linear-gradient(90deg, #006837 100.0%, transparent 100.0%);\n",
       "}\n",
       "#T_df30b_row1_col0 {\n",
       "  width: 10em;\n",
       "  background: linear-gradient(90deg, #bbe278 66.0%, transparent 66.0%);\n",
       "}\n",
       "#T_df30b_row2_col0 {\n",
       "  width: 10em;\n",
       "  background: linear-gradient(90deg, #e0f295 57.9%, transparent 57.9%);\n",
       "}\n",
       "#T_df30b_row3_col0 {\n",
       "  width: 10em;\n",
       "  background: linear-gradient(90deg, #b10b26 2.4%, transparent 2.4%);\n",
       "}\n",
       "#T_df30b_row4_col0 {\n",
       "  width: 10em;\n",
       "  background: linear-gradient(90deg, #ab0626 1.4%, transparent 1.4%);\n",
       "}\n",
       "#T_df30b_row5_col0 {\n",
       "  width: 10em;\n",
       "  background: linear-gradient(90deg, #a90426 1.1%, transparent 1.1%);\n",
       "}\n",
       "#T_df30b_row6_col0 {\n",
       "  width: 10em;\n",
       "  background: linear-gradient(90deg, #a50026 0.3%, transparent 0.3%);\n",
       "}\n",
       "</style>\n",
       "<table id=\"T_df30b\">\n",
       "  <thead>\n",
       "    <tr>\n",
       "      <th class=\"blank level0\" >&nbsp;</th>\n",
       "      <th id=\"T_df30b_level0_col0\" class=\"col_heading level0 col0\" >Mutual Information</th>\n",
       "    </tr>\n",
       "  </thead>\n",
       "  <tbody>\n",
       "    <tr>\n",
       "      <th id=\"T_df30b_level0_row0\" class=\"row_heading level0 row0\" >Duration</th>\n",
       "      <td id=\"T_df30b_row0_col0\" class=\"data row0 col0\" >1.494968</td>\n",
       "    </tr>\n",
       "    <tr>\n",
       "      <th id=\"T_df30b_level0_row1\" class=\"row_heading level0 row1\" >Body_Temp</th>\n",
       "      <td id=\"T_df30b_row1_col0\" class=\"data row1 col0\" >0.986528</td>\n",
       "    </tr>\n",
       "    <tr>\n",
       "      <th id=\"T_df30b_level0_row2\" class=\"row_heading level0 row2\" >Heart_Rate</th>\n",
       "      <td id=\"T_df30b_row2_col0\" class=\"data row2 col0\" >0.866243</td>\n",
       "    </tr>\n",
       "    <tr>\n",
       "      <th id=\"T_df30b_level0_row3\" class=\"row_heading level0 row3\" >Age</th>\n",
       "      <td id=\"T_df30b_row3_col0\" class=\"data row3 col0\" >0.035208</td>\n",
       "    </tr>\n",
       "    <tr>\n",
       "      <th id=\"T_df30b_level0_row4\" class=\"row_heading level0 row4\" >Weight</th>\n",
       "      <td id=\"T_df30b_row4_col0\" class=\"data row4 col0\" >0.020520</td>\n",
       "    </tr>\n",
       "    <tr>\n",
       "      <th id=\"T_df30b_level0_row5\" class=\"row_heading level0 row5\" >Sex</th>\n",
       "      <td id=\"T_df30b_row5_col0\" class=\"data row5 col0\" >0.016184</td>\n",
       "    </tr>\n",
       "    <tr>\n",
       "      <th id=\"T_df30b_level0_row6\" class=\"row_heading level0 row6\" >Height</th>\n",
       "      <td id=\"T_df30b_row6_col0\" class=\"data row6 col0\" >0.005213</td>\n",
       "    </tr>\n",
       "  </tbody>\n",
       "</table>\n"
      ],
      "text/plain": [
       "<pandas.io.formats.style.Styler at 0x7c5c62383f90>"
      ]
     },
     "execution_count": 7,
     "metadata": {},
     "output_type": "execute_result"
    }
   ],
   "source": [
    "mutual_info = mutual_info_regression(X_original, y_original, random_state=CFG.seed)\n",
    "\n",
    "mutual_info = pd.Series(mutual_info)\n",
    "mutual_info.index = X_original.columns\n",
    "mutual_info = pd.DataFrame(mutual_info.sort_values(ascending=False), columns=['Mutual Information'])\n",
    "mutual_info.style.bar(subset=['Mutual Information'], cmap='RdYlGn')"
   ]
  },
  {
   "cell_type": "code",
   "execution_count": 8,
   "id": "0e0fc96b",
   "metadata": {
    "execution": {
     "iopub.execute_input": "2025-05-10T02:07:27.004013Z",
     "iopub.status.busy": "2025-05-10T02:07:27.003809Z",
     "iopub.status.idle": "2025-05-10T02:07:27.823098Z",
     "shell.execute_reply": "2025-05-10T02:07:27.822440Z"
    },
    "papermill": {
     "duration": 0.825963,
     "end_time": "2025-05-10T02:07:27.824117",
     "exception": false,
     "start_time": "2025-05-10T02:07:26.998154",
     "status": "completed"
    },
    "tags": []
   },
   "outputs": [
    {
     "data": {
      "image/png": "[encoded data removed]",
      "text/plain": [
       "<Figure size 1600x600 with 4 Axes>"
      ]
     },
     "metadata": {},
     "output_type": "display_data"
    }
   ],
   "source": [
    "sns.set_style(\"white\")\n",
    "fig, axes = plt.subplots(1, 2, figsize=(16, 6))\n",
    "\n",
    "corr_train = train.corr()\n",
    "mask_train = np.triu(np.ones_like(corr_train, dtype=bool), k=1)\n",
    "sns.heatmap(\n",
    "    data=corr_train,\n",
    "    annot=True,\n",
    "    fmt='.2f',\n",
    "    mask=mask_train,\n",
    "    square=True,\n",
    "    cmap='coolwarm',\n",
    "    cbar_kws={'shrink': .7, 'format': '%.2f'},   \n",
    "    annot_kws={'size': 8},\n",
    "    center=0,\n",
    "    ax=axes[0]\n",
    ")\n",
    "axes[0].set_title('Train')\n",
    "axes[0].tick_params(axis='both', which='major', labelsize=8)\n",
    "\n",
    "corr_orig = original.corr()\n",
    "mask_orig = np.triu(np.ones_like(corr_orig, dtype=bool), k=1)\n",
    "sns.heatmap(\n",
    "    data=corr_orig,\n",
    "    annot=True,\n",
    "    fmt='.2f',\n",
    "    mask=mask_orig,\n",
    "    square=True,\n",
    "    cmap='coolwarm',\n",
    "    cbar_kws={'shrink': .7, 'format': '%.2f'},   \n",
    "    annot_kws={'size': 8},\n",
    "    center=0,\n",
    "    ax=axes[1]\n",
    ")\n",
    "axes[1].set_title('Original')\n",
    "axes[1].tick_params(axis='both', which='major', labelsize=8)\n",
    "\n",
    "plt.tight_layout()\n",
    "plt.show()"
   ]
  },
  {
   "cell_type": "markdown",
   "id": "acd67b87",
   "metadata": {
    "papermill": {
     "duration": 0.005717,
     "end_time": "2025-05-10T02:07:27.836335",
     "exception": false,
     "start_time": "2025-05-10T02:07:27.830618",
     "status": "completed"
    },
    "tags": []
   },
   "source": [
    "# Training base models"
   ]
  },
  {
   "cell_type": "code",
   "execution_count": 9,
   "id": "7eb75555",
   "metadata": {
    "_kg_hide-input": true,
    "_kg_hide-output": true,
    "execution": {
     "iopub.execute_input": "2025-05-10T02:07:27.849822Z",
     "iopub.status.busy": "2025-05-10T02:07:27.849581Z",
     "iopub.status.idle": "2025-05-10T02:07:27.855707Z",
     "shell.execute_reply": "2025-05-10T02:07:27.855239Z"
    },
    "papermill": {
     "duration": 0.013832,
     "end_time": "2025-05-10T02:07:27.856594",
     "exception": false,
     "start_time": "2025-05-10T02:07:27.842762",
     "status": "completed"
    },
    "tags": []
   },
   "outputs": [],
   "source": [
    "histgb_params = {\n",
    "    \"l2_regularization\": 10.412017522533768,\n",
    "    \"learning_rate\": 0.011702680619474444,\n",
    "    \"max_depth\": 59,\n",
    "    \"max_features\": 0.30616140080552673,\n",
    "    \"max_iter\": 4454,\n",
    "    \"max_leaf_nodes\": 385,\n",
    "    \"min_samples_leaf\": 50,\n",
    "    \"random_state\": 42\n",
    "}\n",
    "\n",
    "lgbm_params = {\n",
    "    \"boosting_type\": \"gbdt\",\n",
    "    \"colsample_bytree\": 0.8213924491907012,\n",
    "    \"learning_rate\": 0.059976685297931195,\n",
    "    \"min_child_samples\": 10,\n",
    "    \"min_child_weight\": 0.5425237767880097,\n",
    "    \"n_estimators\": 50000,\n",
    "    \"n_jobs\": -1,\n",
    "    \"num_leaves\": 89,\n",
    "    \"random_state\": 42,\n",
    "    \"reg_alpha\": 2.0325709613371545,\n",
    "    \"reg_lambda\": 87.27971117911044,\n",
    "    \"subsample\": 0.6452823633939004,\n",
    "    \"verbose\": -1\n",
    "}\n",
    "\n",
    "lgbm_goss_params = {\n",
    "    \"boosting_type\": \"goss\",\n",
    "    \"colsample_bytree\": 0.9068724002629094,\n",
    "    \"learning_rate\": 0.06459027654473874,\n",
    "    \"min_child_samples\": 39,\n",
    "    \"min_child_weight\": 0.5337673729810578,\n",
    "    \"n_estimators\": 50000,\n",
    "    \"n_jobs\": -1,\n",
    "    \"num_leaves\": 13,\n",
    "    \"random_state\": 42,\n",
    "    \"reg_alpha\": 1.603969498256519,\n",
    "    \"reg_lambda\": 10.806488455621444,\n",
    "    \"subsample\": 0.5966412222358356,\n",
    "    \"verbose\": -1\n",
    "}\n",
    "\n",
    "xgb_params = {\n",
    "    \"colsample_bylevel\": 0.8606487417581108,\n",
    "    \"colsample_bynode\": 0.9410596660335436,\n",
    "    \"colsample_bytree\": 0.9407540036296737,\n",
    "    \"early_stopping_rounds\": 100,\n",
    "    \"eval_metric\": \"rmse\",\n",
    "    \"gamma\": 0.023260595738991977,\n",
    "    \"learning_rate\": 0.03669372905801298,\n",
    "    \"max_depth\": 11,\n",
    "    \"max_leaves\": 51,\n",
    "    \"min_child_weight\": 96,\n",
    "    \"n_estimators\": 50000,\n",
    "    \"n_jobs\": -1,\n",
    "    \"random_state\": 42,\n",
    "    \"reg_alpha\": 2.953205886504917,\n",
    "    \"reg_lambda\": 67.64147033446291,\n",
    "    \"subsample\": 0.6973241930754311,\n",
    "    \"verbosity\": 0\n",
    "}\n",
    "\n",
    "cb_params = {\n",
    "    \"border_count\": 88,\n",
    "    \"colsample_bylevel\": 0.7903437608890396,\n",
    "    \"depth\": 8,\n",
    "    \"eval_metric\": \"RMSE\",\n",
    "    \"iterations\": 50000,\n",
    "    \"l2_leaf_reg\": 6.065104074215131,\n",
    "    \"learning_rate\": 0.030946464122148992,\n",
    "    \"min_child_samples\": 138,\n",
    "    \"random_state\": 42,\n",
    "    \"random_strength\": 0.035251008593976785,\n",
    "    \"verbose\": False\n",
    "}\n",
    "\n",
    "ydf_params = {\n",
    "    \"num_trees\": 1000,\n",
    "    \"max_depth\": 8\n",
    "}"
   ]
  },
  {
   "cell_type": "code",
   "execution_count": 10,
   "id": "7a753012",
   "metadata": {
    "execution": {
     "iopub.execute_input": "2025-05-10T02:07:27.869667Z",
     "iopub.status.busy": "2025-05-10T02:07:27.869445Z",
     "iopub.status.idle": "2025-05-10T02:07:27.872350Z",
     "shell.execute_reply": "2025-05-10T02:07:27.871897Z"
    },
    "papermill": {
     "duration": 0.010324,
     "end_time": "2025-05-10T02:07:27.873210",
     "exception": false,
     "start_time": "2025-05-10T02:07:27.862886",
     "status": "completed"
    },
    "tags": []
   },
   "outputs": [],
   "source": [
    "scores = {}\n",
    "oof_preds = {}\n",
    "test_preds = {}"
   ]
  },
  {
   "cell_type": "markdown",
   "id": "b15d4dc8",
   "metadata": {
    "papermill": {
     "duration": 0.005719,
     "end_time": "2025-05-10T02:07:27.884972",
     "exception": false,
     "start_time": "2025-05-10T02:07:27.879253",
     "status": "completed"
    },
    "tags": []
   },
   "source": [
    "## HistGradientBoosting"
   ]
  },
  {
   "cell_type": "code",
   "execution_count": 11,
   "id": "c8efea9b",
   "metadata": {
    "execution": {
     "iopub.execute_input": "2025-05-10T02:07:27.897636Z",
     "iopub.status.busy": "2025-05-10T02:07:27.897395Z",
     "iopub.status.idle": "2025-05-10T02:12:43.014891Z",
     "shell.execute_reply": "2025-05-10T02:12:43.014234Z"
    },
    "papermill": {
     "duration": 315.125482,
     "end_time": "2025-05-10T02:12:43.016327",
     "exception": false,
     "start_time": "2025-05-10T02:07:27.890845",
     "status": "completed"
    },
    "tags": []
   },
   "outputs": [
    {
     "name": "stdout",
     "output_type": "stream",
     "text": [
      "Training HistGradientBoostingRegressor\n",
      "\n",
      "--- Fold 0 - root_mean_squared_error: 0.0594 - Time: 52.65 s\n",
      "--- Fold 1 - root_mean_squared_error: 0.0605 - Time: 47.68 s\n",
      "--- Fold 2 - root_mean_squared_error: 0.0597 - Time: 51.21 s\n",
      "--- Fold 3 - root_mean_squared_error: 0.0601 - Time: 46.33 s\n",
      "--- Fold 4 - root_mean_squared_error: 0.0593 - Time: 48.83 s\n",
      "\n",
      "------ Overall root_mean_squared_error: 0.0598 - Mean root_mean_squared_error: 0.0598 ± 0.0004 - Time: 248.16 s\n"
     ]
    }
   ],
   "source": [
    "histgb_trainer = Trainer(\n",
    "    HistGradientBoostingRegressor(**histgb_params),\n",
    "    cv=CFG.cv,\n",
    "    metric=CFG.metric,\n",
    "    task=\"regression\"\n",
    ")\n",
    "\n",
    "histgb_trainer.fit(X, y, extra_X=X_original, extra_y=y_original)\n",
    "\n",
    "scores[\"HistGB\"] = histgb_trainer.fold_scores\n",
    "oof_preds[\"HistGB\"] = histgb_trainer.oof_preds\n",
    "test_preds[\"HistGB\"] = histgb_trainer.predict(X_test)"
   ]
  },
  {
   "cell_type": "markdown",
   "id": "67035930",
   "metadata": {
    "papermill": {
     "duration": 0.006048,
     "end_time": "2025-05-10T02:12:43.029786",
     "exception": false,
     "start_time": "2025-05-10T02:12:43.023738",
     "status": "completed"
    },
    "tags": []
   },
   "source": [
    "## LightGBM (gbdt)"
   ]
  },
  {
   "cell_type": "code",
   "execution_count": 12,
   "id": "f01fd51e",
   "metadata": {
    "execution": {
     "iopub.execute_input": "2025-05-10T02:12:43.043386Z",
     "iopub.status.busy": "2025-05-10T02:12:43.043117Z",
     "iopub.status.idle": "2025-05-10T02:15:39.080142Z",
     "shell.execute_reply": "2025-05-10T02:15:39.079414Z"
    },
    "papermill": {
     "duration": 176.045651,
     "end_time": "2025-05-10T02:15:39.081668",
     "exception": false,
     "start_time": "2025-05-10T02:12:43.036017",
     "status": "completed"
    },
    "tags": []
   },
   "outputs": [
    {
     "name": "stdout",
     "output_type": "stream",
     "text": [
      "Training LGBMRegressor\n",
      "\n",
      "Training until validation scores don't improve for 100 rounds\n",
      "Early stopping, best iteration is:\n",
      "[791]\tvalid_0's rmse: 0.0596226\tvalid_0's l2: 0.00355485\n",
      "--- Fold 0 - root_mean_squared_error: 0.0596 - Time: 17.29 s\n",
      "\n",
      "Training until validation scores don't improve for 100 rounds\n",
      "[1000]\tvalid_0's rmse: 0.0603528\tvalid_0's l2: 0.00364246\n",
      "Early stopping, best iteration is:\n",
      "[1369]\tvalid_0's rmse: 0.0603066\tvalid_0's l2: 0.00363688\n",
      "--- Fold 1 - root_mean_squared_error: 0.0603 - Time: 26.99 s\n",
      "\n",
      "Training until validation scores don't improve for 100 rounds\n",
      "[1000]\tvalid_0's rmse: 0.0596239\tvalid_0's l2: 0.00355501\n",
      "Early stopping, best iteration is:\n",
      "[1406]\tvalid_0's rmse: 0.0595985\tvalid_0's l2: 0.00355198\n",
      "--- Fold 2 - root_mean_squared_error: 0.0596 - Time: 27.85 s\n",
      "\n",
      "Training until validation scores don't improve for 100 rounds\n",
      "[1000]\tvalid_0's rmse: 0.0601725\tvalid_0's l2: 0.00362073\n",
      "[2000]\tvalid_0's rmse: 0.060028\tvalid_0's l2: 0.00360336\n",
      "Early stopping, best iteration is:\n",
      "[1918]\tvalid_0's rmse: 0.0600226\tvalid_0's l2: 0.00360271\n",
      "--- Fold 3 - root_mean_squared_error: 0.0600 - Time: 34.61 s\n",
      "\n",
      "Training until validation scores don't improve for 100 rounds\n",
      "[1000]\tvalid_0's rmse: 0.0594362\tvalid_0's l2: 0.00353266\n",
      "Early stopping, best iteration is:\n",
      "[1376]\tvalid_0's rmse: 0.0593934\tvalid_0's l2: 0.00352758\n",
      "--- Fold 4 - root_mean_squared_error: 0.0594 - Time: 27.93 s\n",
      "\n",
      "\n",
      "------ Overall root_mean_squared_error: 0.0598 - Mean root_mean_squared_error: 0.0598 ± 0.0003 - Time: 136.18 s\n"
     ]
    }
   ],
   "source": [
    "lgbm_trainer = Trainer(\n",
    "    LGBMRegressor(**lgbm_params),\n",
    "    cv=CFG.cv,\n",
    "    metric=CFG.metric,\n",
    "    use_early_stopping=True,\n",
    "    task=\"regression\"\n",
    ")\n",
    "\n",
    "fit_args = {\n",
    "    \"eval_metric\": \"rmse\",\n",
    "    \"callbacks\": [\n",
    "        log_evaluation(period=1000), \n",
    "        early_stopping(stopping_rounds=100)\n",
    "    ]\n",
    "}\n",
    "\n",
    "lgbm_trainer.fit(X, y, fit_args=fit_args, extra_X=X_original, extra_y=y_original)\n",
    "\n",
    "scores[\"LightGBM (gbdt)\"] = lgbm_trainer.fold_scores\n",
    "oof_preds[\"LightGBM (gbdt)\"] = lgbm_trainer.oof_preds\n",
    "test_preds[\"LightGBM (gbdt)\"] = lgbm_trainer.predict(X_test)"
   ]
  },
  {
   "cell_type": "markdown",
   "id": "569fd1a4",
   "metadata": {
    "papermill": {
     "duration": 0.012482,
     "end_time": "2025-05-10T02:15:39.107082",
     "exception": false,
     "start_time": "2025-05-10T02:15:39.094600",
     "status": "completed"
    },
    "tags": []
   },
   "source": [
    "## LightGBM (goss)"
   ]
  },
  {
   "cell_type": "code",
   "execution_count": 13,
   "id": "fb5af501",
   "metadata": {
    "execution": {
     "iopub.execute_input": "2025-05-10T02:15:39.129961Z",
     "iopub.status.busy": "2025-05-10T02:15:39.129676Z",
     "iopub.status.idle": "2025-05-10T02:22:37.066232Z",
     "shell.execute_reply": "2025-05-10T02:22:37.065578Z"
    },
    "papermill": {
     "duration": 417.949813,
     "end_time": "2025-05-10T02:22:37.067430",
     "exception": false,
     "start_time": "2025-05-10T02:15:39.117617",
     "status": "completed"
    },
    "tags": []
   },
   "outputs": [
    {
     "name": "stdout",
     "output_type": "stream",
     "text": [
      "Training LGBMRegressor\n",
      "\n",
      "Training until validation scores don't improve for 100 rounds\n",
      "[1000]\tvalid_0's rmse: 0.0600588\tvalid_0's l2: 0.00360706\n",
      "[2000]\tvalid_0's rmse: 0.0597145\tvalid_0's l2: 0.00356582\n",
      "[3000]\tvalid_0's rmse: 0.0596177\tvalid_0's l2: 0.00355427\n",
      "Early stopping, best iteration is:\n",
      "[3424]\tvalid_0's rmse: 0.0595945\tvalid_0's l2: 0.0035515\n",
      "--- Fold 0 - root_mean_squared_error: 0.0596 - Time: 62.65 s\n",
      "\n",
      "Training until validation scores don't improve for 100 rounds\n",
      "[1000]\tvalid_0's rmse: 0.0607929\tvalid_0's l2: 0.00369577\n",
      "[2000]\tvalid_0's rmse: 0.0604315\tvalid_0's l2: 0.00365197\n",
      "[3000]\tvalid_0's rmse: 0.0603068\tvalid_0's l2: 0.00363691\n",
      "Early stopping, best iteration is:\n",
      "[3299]\tvalid_0's rmse: 0.0602872\tvalid_0's l2: 0.00363454\n",
      "--- Fold 1 - root_mean_squared_error: 0.0603 - Time: 60.78 s\n",
      "\n",
      "Training until validation scores don't improve for 100 rounds\n",
      "[1000]\tvalid_0's rmse: 0.0600734\tvalid_0's l2: 0.00360881\n",
      "[2000]\tvalid_0's rmse: 0.0597328\tvalid_0's l2: 0.00356801\n",
      "[3000]\tvalid_0's rmse: 0.0596015\tvalid_0's l2: 0.00355234\n",
      "[4000]\tvalid_0's rmse: 0.0595402\tvalid_0's l2: 0.00354503\n",
      "Early stopping, best iteration is:\n",
      "[4508]\tvalid_0's rmse: 0.0595248\tvalid_0's l2: 0.00354321\n",
      "--- Fold 2 - root_mean_squared_error: 0.0595 - Time: 82.21 s\n",
      "\n",
      "Training until validation scores don't improve for 100 rounds\n",
      "[1000]\tvalid_0's rmse: 0.0606943\tvalid_0's l2: 0.0036838\n",
      "[2000]\tvalid_0's rmse: 0.0602788\tvalid_0's l2: 0.00363353\n",
      "[3000]\tvalid_0's rmse: 0.0601248\tvalid_0's l2: 0.00361499\n",
      "[4000]\tvalid_0's rmse: 0.060043\tvalid_0's l2: 0.00360516\n",
      "Early stopping, best iteration is:\n",
      "[4559]\tvalid_0's rmse: 0.0600092\tvalid_0's l2: 0.00360111\n",
      "--- Fold 3 - root_mean_squared_error: 0.0600 - Time: 84.59 s\n",
      "\n",
      "Training until validation scores don't improve for 100 rounds\n",
      "[1000]\tvalid_0's rmse: 0.0597776\tvalid_0's l2: 0.00357336\n",
      "[2000]\tvalid_0's rmse: 0.0594386\tvalid_0's l2: 0.00353295\n",
      "[3000]\tvalid_0's rmse: 0.0593427\tvalid_0's l2: 0.00352156\n",
      "Early stopping, best iteration is:\n",
      "[3301]\tvalid_0's rmse: 0.0593269\tvalid_0's l2: 0.00351968\n",
      "--- Fold 4 - root_mean_squared_error: 0.0593 - Time: 61.14 s\n",
      "\n",
      "\n",
      "------ Overall root_mean_squared_error: 0.0597 - Mean root_mean_squared_error: 0.0597 ± 0.0003 - Time: 352.93 s\n"
     ]
    }
   ],
   "source": [
    "lgbm_goss_trainer = Trainer(\n",
    "    LGBMRegressor(**lgbm_goss_params),\n",
    "    cv=CFG.cv,\n",
    "    metric=CFG.metric,\n",
    "    use_early_stopping=True,\n",
    "    task=\"regression\"\n",
    ")\n",
    "\n",
    "fit_args = {\n",
    "    \"eval_metric\": \"rmse\",\n",
    "    \"callbacks\": [\n",
    "        log_evaluation(period=1000), \n",
    "        early_stopping(stopping_rounds=100)\n",
    "    ]\n",
    "}\n",
    "\n",
    "lgbm_goss_trainer.fit(X, y, fit_args=fit_args, extra_X=X_original, extra_y=y_original)\n",
    "\n",
    "scores[\"LightGBM (goss)\"] = lgbm_goss_trainer.fold_scores\n",
    "oof_preds[\"LightGBM (goss)\"] = lgbm_goss_trainer.oof_preds\n",
    "test_preds[\"LightGBM (goss)\"] = lgbm_goss_trainer.predict(X_test)"
   ]
  },
  {
   "cell_type": "markdown",
   "id": "a99b32dc",
   "metadata": {
    "papermill": {
     "duration": 0.008042,
     "end_time": "2025-05-10T02:22:37.084172",
     "exception": false,
     "start_time": "2025-05-10T02:22:37.076130",
     "status": "completed"
    },
    "tags": []
   },
   "source": [
    "## XGBoost"
   ]
  },
  {
   "cell_type": "code",
   "execution_count": 14,
   "id": "39fc7b43",
   "metadata": {
    "execution": {
     "iopub.execute_input": "2025-05-10T02:22:37.102193Z",
     "iopub.status.busy": "2025-05-10T02:22:37.101460Z",
     "iopub.status.idle": "2025-05-10T02:27:17.649175Z",
     "shell.execute_reply": "2025-05-10T02:27:17.648516Z"
    },
    "papermill": {
     "duration": 280.558226,
     "end_time": "2025-05-10T02:27:17.650367",
     "exception": false,
     "start_time": "2025-05-10T02:22:37.092141",
     "status": "completed"
    },
    "tags": []
   },
   "outputs": [
    {
     "name": "stdout",
     "output_type": "stream",
     "text": [
      "Training XGBRegressor\n",
      "\n",
      "[0]\tvalidation_0-rmse:0.92856\n",
      "[1000]\tvalidation_0-rmse:0.06015\n",
      "[2000]\tvalidation_0-rmse:0.06009\n",
      "[3000]\tvalidation_0-rmse:0.06007\n",
      "[3123]\tvalidation_0-rmse:0.06006\n",
      "--- Fold 0 - root_mean_squared_error: 0.0601 - Time: 57.12 s\n",
      "\n",
      "[0]\tvalidation_0-rmse:0.93096\n",
      "[1000]\tvalidation_0-rmse:0.06137\n",
      "[2000]\tvalidation_0-rmse:0.06128\n",
      "[3000]\tvalidation_0-rmse:0.06123\n",
      "[3071]\tvalidation_0-rmse:0.06123\n",
      "--- Fold 1 - root_mean_squared_error: 0.0612 - Time: 66.85 s\n",
      "\n",
      "[0]\tvalidation_0-rmse:0.92964\n",
      "[1000]\tvalidation_0-rmse:0.06065\n",
      "[2000]\tvalidation_0-rmse:0.06056\n",
      "[3000]\tvalidation_0-rmse:0.06053\n",
      "[3091]\tvalidation_0-rmse:0.06053\n",
      "--- Fold 2 - root_mean_squared_error: 0.0605 - Time: 64.30 s\n",
      "\n",
      "[0]\tvalidation_0-rmse:0.92813\n",
      "[1000]\tvalidation_0-rmse:0.06097\n",
      "[1244]\tvalidation_0-rmse:0.06096\n",
      "--- Fold 3 - root_mean_squared_error: 0.0610 - Time: 29.02 s\n",
      "\n",
      "[0]\tvalidation_0-rmse:0.92887\n",
      "[1000]\tvalidation_0-rmse:0.06014\n",
      "[2000]\tvalidation_0-rmse:0.06007\n",
      "[2596]\tvalidation_0-rmse:0.06005\n",
      "--- Fold 4 - root_mean_squared_error: 0.0601 - Time: 51.47 s\n",
      "\n",
      "\n",
      "------ Overall root_mean_squared_error: 0.0606 - Mean root_mean_squared_error: 0.0606 ± 0.0005 - Time: 270.28 s\n"
     ]
    }
   ],
   "source": [
    "xgb_trainer = Trainer(\n",
    "    XGBRegressor(**xgb_params),\n",
    "    cv=CFG.cv,\n",
    "    metric=CFG.metric,\n",
    "    use_early_stopping=True,\n",
    "    task=\"regression\"\n",
    ")\n",
    "\n",
    "fit_args = {\n",
    "    \"verbose\": 1000\n",
    "}\n",
    "\n",
    "xgb_trainer.fit(X, y, fit_args=fit_args, extra_X=X_original, extra_y=y_original)\n",
    "\n",
    "scores[\"XGBoost\"] = xgb_trainer.fold_scores\n",
    "oof_preds[\"XGBoost\"] = xgb_trainer.oof_preds\n",
    "test_preds[\"XGBoost\"] = xgb_trainer.predict(X_test)"
   ]
  },
  {
   "cell_type": "markdown",
   "id": "b70b137d",
   "metadata": {
    "papermill": {
     "duration": 0.008746,
     "end_time": "2025-05-10T02:27:17.668545",
     "exception": false,
     "start_time": "2025-05-10T02:27:17.659799",
     "status": "completed"
    },
    "tags": []
   },
   "source": [
    "## CatBoost"
   ]
  },
  {
   "cell_type": "code",
   "execution_count": 15,
   "id": "6868d68f",
   "metadata": {
    "execution": {
     "iopub.execute_input": "2025-05-10T02:27:17.687904Z",
     "iopub.status.busy": "2025-05-10T02:27:17.687678Z",
     "iopub.status.idle": "2025-05-10T02:35:32.580797Z",
     "shell.execute_reply": "2025-05-10T02:35:32.580124Z"
    },
    "papermill": {
     "duration": 494.904551,
     "end_time": "2025-05-10T02:35:32.582176",
     "exception": false,
     "start_time": "2025-05-10T02:27:17.677625",
     "status": "completed"
    },
    "tags": []
   },
   "outputs": [
    {
     "name": "stdout",
     "output_type": "stream",
     "text": [
      "Training CatBoostRegressor\n",
      "\n",
      "0:\tlearn: 0.9348709\ttest: 0.9341488\tbest: 0.9341488 (0)\ttotal: 100ms\tremaining: 1h 23m 32s\n",
      "1000:\tlearn: 0.0571087\ttest: 0.0593244\tbest: 0.0593244 (1000)\ttotal: 35.8s\tremaining: 29m 13s\n",
      "2000:\tlearn: 0.0560120\ttest: 0.0591679\tbest: 0.0591679 (2000)\ttotal: 1m 11s\tremaining: 28m 29s\n",
      "Stopped by overfitting detector  (100 iterations wait)\n",
      "\n",
      "bestTest = 0.05911377754\n",
      "bestIteration = 2824\n",
      "\n",
      "Shrink model to first 2825 iterations.\n",
      "--- Fold 0 - root_mean_squared_error: 0.0591 - Time: 104.80 s\n",
      "\n",
      "0:\tlearn: 0.9342850\ttest: 0.9365766\tbest: 0.9365766 (0)\ttotal: 43ms\tremaining: 35m 50s\n",
      "1000:\tlearn: 0.0571036\ttest: 0.0598252\tbest: 0.0598252 (1000)\ttotal: 36.2s\tremaining: 29m 34s\n",
      "Stopped by overfitting detector  (100 iterations wait)\n",
      "\n",
      "bestTest = 0.05966835269\n",
      "bestIteration = 1741\n",
      "\n",
      "Shrink model to first 1742 iterations.\n",
      "--- Fold 1 - root_mean_squared_error: 0.0597 - Time: 66.51 s\n",
      "\n",
      "0:\tlearn: 0.9346164\ttest: 0.9352198\tbest: 0.9352198 (0)\ttotal: 44.4ms\tremaining: 36m 58s\n",
      "1000:\tlearn: 0.0570640\ttest: 0.0593004\tbest: 0.0593004 (1000)\ttotal: 35.6s\tremaining: 29m\n",
      "2000:\tlearn: 0.0559380\ttest: 0.0590550\tbest: 0.0590543 (1996)\ttotal: 1m 10s\tremaining: 28m 10s\n",
      "3000:\tlearn: 0.0551639\ttest: 0.0589824\tbest: 0.0589822 (2994)\ttotal: 1m 45s\tremaining: 27m 31s\n",
      "Stopped by overfitting detector  (100 iterations wait)\n",
      "\n",
      "bestTest = 0.05895750885\n",
      "bestIteration = 3703\n",
      "\n",
      "Shrink model to first 3704 iterations.\n",
      "--- Fold 2 - root_mean_squared_error: 0.0590 - Time: 134.37 s\n",
      "\n",
      "0:\tlearn: 0.9349691\ttest: 0.9337102\tbest: 0.9337102 (0)\ttotal: 42.1ms\tremaining: 35m 3s\n",
      "1000:\tlearn: 0.0570599\ttest: 0.0597373\tbest: 0.0597373 (1000)\ttotal: 35.4s\tremaining: 28m 53s\n",
      "2000:\tlearn: 0.0560408\ttest: 0.0595997\tbest: 0.0595980 (1976)\ttotal: 1m 10s\tremaining: 28m 4s\n",
      "3000:\tlearn: 0.0552776\ttest: 0.0595437\tbest: 0.0595417 (2940)\ttotal: 1m 45s\tremaining: 27m 36s\n",
      "Stopped by overfitting detector  (100 iterations wait)\n",
      "\n",
      "bestTest = 0.0595416905\n",
      "bestIteration = 2940\n",
      "\n",
      "Shrink model to first 2941 iterations.\n",
      "--- Fold 3 - root_mean_squared_error: 0.0595 - Time: 108.03 s\n",
      "\n",
      "0:\tlearn: 0.9347914\ttest: 0.9344284\tbest: 0.9344284 (0)\ttotal: 45.8ms\tremaining: 38m 9s\n",
      "1000:\tlearn: 0.0572454\ttest: 0.0590697\tbest: 0.0590697 (1000)\ttotal: 35.5s\tremaining: 28m 59s\n",
      "2000:\tlearn: 0.0561135\ttest: 0.0589142\tbest: 0.0589119 (1987)\ttotal: 1m 11s\tremaining: 28m 35s\n",
      "Stopped by overfitting detector  (100 iterations wait)\n",
      "\n",
      "bestTest = 0.05891120084\n",
      "bestIteration = 2077\n",
      "\n",
      "Shrink model to first 2078 iterations.\n",
      "--- Fold 4 - root_mean_squared_error: 0.0589 - Time: 78.34 s\n",
      "\n",
      "\n",
      "------ Overall root_mean_squared_error: 0.0592 - Mean root_mean_squared_error: 0.0592 ± 0.0003 - Time: 493.57 s\n"
     ]
    }
   ],
   "source": [
    "cb_trainer = Trainer(\n",
    "    CatBoostRegressor(**cb_params),\n",
    "    cv=CFG.cv,\n",
    "    metric=CFG.metric,\n",
    "    use_early_stopping=True,\n",
    "    task=\"regression\"\n",
    ")\n",
    "\n",
    "fit_args = {\n",
    "    \"verbose\": 1000,\n",
    "    \"early_stopping_rounds\": 100,\n",
    "    \"use_best_model\": True\n",
    "}\n",
    "\n",
    "cb_trainer.fit(X, y, fit_args=fit_args, extra_X=X_original, extra_y=y_original)\n",
    "\n",
    "scores[\"CatBoost\"] = cb_trainer.fold_scores\n",
    "oof_preds[\"CatBoost\"] = cb_trainer.oof_preds\n",
    "test_preds[\"CatBoost\"] = cb_trainer.predict(X_test)"
   ]
  },
  {
   "cell_type": "markdown",
   "id": "547faaaa",
   "metadata": {
    "papermill": {
     "duration": 0.009425,
     "end_time": "2025-05-10T02:35:32.602428",
     "exception": false,
     "start_time": "2025-05-10T02:35:32.593003",
     "status": "completed"
    },
    "tags": []
   },
   "source": [
    "## AutoGluon"
   ]
  },
  {
   "cell_type": "code",
   "execution_count": 16,
   "id": "e884a2c3",
   "metadata": {
    "execution": {
     "iopub.execute_input": "2025-05-10T02:35:32.625589Z",
     "iopub.status.busy": "2025-05-10T02:35:32.624838Z",
     "iopub.status.idle": "2025-05-10T02:35:32.806172Z",
     "shell.execute_reply": "2025-05-10T02:35:32.805511Z"
    },
    "papermill": {
     "duration": 0.193251,
     "end_time": "2025-05-10T02:35:32.807486",
     "exception": false,
     "start_time": "2025-05-10T02:35:32.614235",
     "status": "completed"
    },
    "tags": []
   },
   "outputs": [],
   "source": [
    "oof_preds_files = glob.glob(f'/kaggle/input/s05e05-calorie-expenditure-prediction-automl/*_oof_preds_*.pkl')\n",
    "test_preds_files = glob.glob(f'/kaggle/input/s05e05-calorie-expenditure-prediction-automl/*_test_preds_*.pkl')\n",
    "\n",
    "ag_oof_preds = np.log1p(joblib.load(oof_preds_files[0]))\n",
    "ag_test_preds = np.log1p(joblib.load(test_preds_files[0]))\n",
    "\n",
    "ag_scores = []\n",
    "split = KFold(n_splits=CFG.n_folds, random_state=CFG.seed, shuffle=True).split(X, y)\n",
    "for _, val_idx in split:\n",
    "    y_val = y[val_idx]\n",
    "    y_preds = ag_oof_preds[val_idx]   \n",
    "    score = root_mean_squared_error(y_preds, y_val)\n",
    "    ag_scores.append(score)\n",
    "    \n",
    "oof_preds[\"AutoGluon\"], test_preds[\"AutoGluon\"], scores[\"AutoGluon\"] = ag_oof_preds, ag_test_preds, ag_scores"
   ]
  },
  {
   "cell_type": "markdown",
   "id": "c723f9c1",
   "metadata": {
    "papermill": {
     "duration": 0.009518,
     "end_time": "2025-05-10T02:35:32.827374",
     "exception": false,
     "start_time": "2025-05-10T02:35:32.817856",
     "status": "completed"
    },
    "tags": []
   },
   "source": [
    "## Yggdrasil"
   ]
  },
  {
   "cell_type": "code",
   "execution_count": 17,
   "id": "a5d4df10",
   "metadata": {
    "execution": {
     "iopub.execute_input": "2025-05-10T02:35:32.847890Z",
     "iopub.status.busy": "2025-05-10T02:35:32.847633Z",
     "iopub.status.idle": "2025-05-10T02:35:32.853132Z",
     "shell.execute_reply": "2025-05-10T02:35:32.852559Z"
    },
    "papermill": {
     "duration": 0.017084,
     "end_time": "2025-05-10T02:35:32.854298",
     "exception": false,
     "start_time": "2025-05-10T02:35:32.837214",
     "status": "completed"
    },
    "tags": []
   },
   "outputs": [],
   "source": [
    "def YDFRegressor(learner_class):\n",
    "\n",
    "    class YDFXRegressor(BaseEstimator, RegressorMixin):\n",
    "\n",
    "        def __init__(self, params={}):\n",
    "            self.params = params\n",
    "\n",
    "        def fit(self, X, y):\n",
    "            assert isinstance(X, pd.DataFrame)\n",
    "            assert isinstance(y, pd.Series)\n",
    "            target = y.name\n",
    "            params = self.params.copy()\n",
    "            params['label'] = target\n",
    "            params['task'] = ydf.Task.REGRESSION\n",
    "            X = pd.concat([X, y], axis=1)\n",
    "            with contextlib.redirect_stderr(io.StringIO()), contextlib.redirect_stdout(io.StringIO()):\n",
    "                self.model = learner_class(**params).train(X)\n",
    "            return self\n",
    "\n",
    "        def predict(self, X):\n",
    "            assert isinstance(X, pd.DataFrame)\n",
    "            with contextlib.redirect_stderr(io.StringIO()), contextlib.redirect_stdout(io.StringIO()):\n",
    "                return self.model.predict(X)\n",
    "\n",
    "    return YDFXRegressor"
   ]
  },
  {
   "cell_type": "code",
   "execution_count": 18,
   "id": "6f96da84",
   "metadata": {
    "execution": {
     "iopub.execute_input": "2025-05-10T02:35:32.875659Z",
     "iopub.status.busy": "2025-05-10T02:35:32.875435Z",
     "iopub.status.idle": "2025-05-10T02:41:25.611046Z",
     "shell.execute_reply": "2025-05-10T02:41:25.610356Z"
    },
    "papermill": {
     "duration": 352.747261,
     "end_time": "2025-05-10T02:41:25.612329",
     "exception": false,
     "start_time": "2025-05-10T02:35:32.865068",
     "status": "completed"
    },
    "tags": []
   },
   "outputs": [
    {
     "name": "stdout",
     "output_type": "stream",
     "text": [
      "Training YDFXRegressor\n",
      "\n",
      "--- Fold 0 - root_mean_squared_error: 0.0604 - Time: 78.27 s\n",
      "--- Fold 1 - root_mean_squared_error: 0.0608 - Time: 71.41 s\n",
      "--- Fold 2 - root_mean_squared_error: 0.0603 - Time: 48.67 s\n",
      "--- Fold 3 - root_mean_squared_error: 0.0612 - Time: 62.54 s\n",
      "--- Fold 4 - root_mean_squared_error: 0.0602 - Time: 86.21 s\n",
      "\n",
      "------ Overall root_mean_squared_error: 0.0606 - Mean root_mean_squared_error: 0.0606 ± 0.0004 - Time: 348.60 s\n"
     ]
    }
   ],
   "source": [
    "ydf_trainer = Trainer(\n",
    "    YDFRegressor(GradientBoostedTreesLearner)(ydf_params),\n",
    "    cv=CFG.cv,\n",
    "    metric=CFG.metric,\n",
    "    task=\"regression\"\n",
    ")\n",
    "\n",
    "ydf_trainer.fit(X, y, extra_X=X_original, extra_y=y_original)\n",
    "\n",
    "scores[\"Yggdrasil\"] = ydf_trainer.fold_scores\n",
    "oof_preds[\"Yggdrasil\"] = ydf_trainer.oof_preds\n",
    "test_preds[\"Yggdrasil\"] = ydf_trainer.predict(X_test)"
   ]
  },
  {
   "cell_type": "markdown",
   "id": "d268bb64",
   "metadata": {
    "papermill": {
     "duration": 0.011198,
     "end_time": "2025-05-10T02:41:25.634471",
     "exception": false,
     "start_time": "2025-05-10T02:41:25.623273",
     "status": "completed"
    },
    "tags": []
   },
   "source": [
    "## Neural networks"
   ]
  },
  {
   "cell_type": "code",
   "execution_count": 19,
   "id": "e7290f45",
   "metadata": {
    "execution": {
     "iopub.execute_input": "2025-05-10T02:41:25.656284Z",
     "iopub.status.busy": "2025-05-10T02:41:25.655676Z",
     "iopub.status.idle": "2025-05-10T02:41:26.033574Z",
     "shell.execute_reply": "2025-05-10T02:41:26.032959Z"
    },
    "papermill": {
     "duration": 0.39008,
     "end_time": "2025-05-10T02:41:26.034820",
     "exception": false,
     "start_time": "2025-05-10T02:41:25.644740",
     "status": "completed"
    },
    "tags": []
   },
   "outputs": [],
   "source": [
    "train = pd.read_csv(CFG.train_path, index_col=\"id\")\n",
    "test = pd.read_csv(CFG.test_path, index_col=\"id\")\n",
    "original = pd.read_csv(CFG.original_path, index_col=\"User_ID\")\n",
    "original = original.rename(columns={\"Gender\": \"Sex\"})\n",
    "\n",
    "X = train.drop(CFG.target, axis=1)\n",
    "y = np.log1p(train[CFG.target])\n",
    "X_test = test\n",
    "\n",
    "X_original = original.drop(CFG.target, axis=1)\n",
    "y_original = np.log1p(original[CFG.target])"
   ]
  },
  {
   "cell_type": "code",
   "execution_count": 20,
   "id": "2d11eded",
   "metadata": {
    "execution": {
     "iopub.execute_input": "2025-05-10T02:41:26.057054Z",
     "iopub.status.busy": "2025-05-10T02:41:26.056776Z",
     "iopub.status.idle": "2025-05-10T02:41:26.365250Z",
     "shell.execute_reply": "2025-05-10T02:41:26.364690Z"
    },
    "papermill": {
     "duration": 0.320632,
     "end_time": "2025-05-10T02:41:26.366391",
     "exception": false,
     "start_time": "2025-05-10T02:41:26.045759",
     "status": "completed"
    },
    "tags": []
   },
   "outputs": [],
   "source": [
    "pipeline = make_pipeline(\n",
    "    ColumnTransformer(\n",
    "        [\n",
    "            ('one-hot-encode', OneHotEncoder(drop='first', sparse_output=False, dtype=np.float32, handle_unknown='ignore'), ['Sex']),\n",
    "            \n",
    "        ],\n",
    "        remainder=StandardScaler()\n",
    "    )\n",
    ").set_output(transform='pandas')\n",
    "\n",
    "X = pipeline.fit_transform(X, y)\n",
    "X_test = pipeline.transform(X_test)\n",
    "X_original = pipeline.transform(X_original)"
   ]
  },
  {
   "cell_type": "code",
   "execution_count": 21,
   "id": "3035377f",
   "metadata": {
    "execution": {
     "iopub.execute_input": "2025-05-10T02:41:26.388273Z",
     "iopub.status.busy": "2025-05-10T02:41:26.388009Z",
     "iopub.status.idle": "2025-05-10T02:41:26.391940Z",
     "shell.execute_reply": "2025-05-10T02:41:26.391463Z"
    },
    "papermill": {
     "duration": 0.01569,
     "end_time": "2025-05-10T02:41:26.392757",
     "exception": false,
     "start_time": "2025-05-10T02:41:26.377067",
     "status": "completed"
    },
    "tags": []
   },
   "outputs": [],
   "source": [
    "def get_model(meta):\n",
    "    model = keras.models.Sequential()\n",
    "    model.add(keras.layers.Input(meta[\"X_shape_\"][1:]))\n",
    "    model.add(keras.layers.Dense(256, kernel_initializer='lecun_normal', activation='selu'))\n",
    "    model.add(keras.layers.Dense(128, kernel_initializer='lecun_normal', activation='selu'))\n",
    "    model.add(keras.layers.Dense(64, kernel_initializer='lecun_normal', activation='selu'))\n",
    "    model.add(keras.layers.Dense(1))\n",
    "    return model"
   ]
  },
  {
   "cell_type": "code",
   "execution_count": 22,
   "id": "954eddf5",
   "metadata": {
    "execution": {
     "iopub.execute_input": "2025-05-10T02:41:26.414880Z",
     "iopub.status.busy": "2025-05-10T02:41:26.414626Z",
     "iopub.status.idle": "2025-05-10T02:41:26.453149Z",
     "shell.execute_reply": "2025-05-10T02:41:26.452345Z"
    },
    "papermill": {
     "duration": 0.050978,
     "end_time": "2025-05-10T02:41:26.454422",
     "exception": false,
     "start_time": "2025-05-10T02:41:26.403444",
     "status": "completed"
    },
    "tags": []
   },
   "outputs": [
    {
     "name": "stderr",
     "output_type": "stream",
     "text": [
      "2025-05-10 02:41:26.419307: E external/local_xla/xla/stream_executor/cuda/cuda_driver.cc:152] failed call to cuInit: INTERNAL: CUDA error: Failed call to cuInit: UNKNOWN ERROR (303)\n"
     ]
    }
   ],
   "source": [
    "nn_model = KerasRegressor(\n",
    "    get_model,\n",
    "    loss=\"mean_squared_error\",\n",
    "    random_state=CFG.seed,\n",
    "    metrics=[keras.metrics.RootMeanSquaredError(name='rmse')],\n",
    "    optimizer=keras.optimizers.AdamW(learning_rate=0.001),\n",
    "    validation_batch_size=65536,\n",
    "    validation_split=0.1,\n",
    "    batch_size=1024,\n",
    "    epochs=100, \n",
    "    verbose=0,\n",
    "    callbacks=[\n",
    "        keras.callbacks.EarlyStopping(monitor='val_rmse', patience=7, restore_best_weights=True),\n",
    "        keras.callbacks.ReduceLROnPlateau(monitor='val_rmse', patience=3, factor=0.3)\n",
    "    ]\n",
    ")"
   ]
  },
  {
   "cell_type": "code",
   "execution_count": 23,
   "id": "66f0ddea",
   "metadata": {
    "execution": {
     "iopub.execute_input": "2025-05-10T02:41:26.476705Z",
     "iopub.status.busy": "2025-05-10T02:41:26.476478Z",
     "iopub.status.idle": "2025-05-10T02:41:26.480110Z",
     "shell.execute_reply": "2025-05-10T02:41:26.479393Z"
    },
    "papermill": {
     "duration": 0.01578,
     "end_time": "2025-05-10T02:41:26.481086",
     "exception": false,
     "start_time": "2025-05-10T02:41:26.465306",
     "status": "completed"
    },
    "tags": []
   },
   "outputs": [],
   "source": [
    "nn_bag = BaggingRegressor(\n",
    "    nn_model,\n",
    "    n_estimators=3,\n",
    "    random_state=CFG.seed,\n",
    ")"
   ]
  },
  {
   "cell_type": "code",
   "execution_count": 24,
   "id": "35c56fa6",
   "metadata": {
    "_kg_hide-output": true,
    "execution": {
     "iopub.execute_input": "2025-05-10T02:41:26.503236Z",
     "iopub.status.busy": "2025-05-10T02:41:26.502968Z",
     "iopub.status.idle": "2025-05-10T03:11:46.158453Z",
     "shell.execute_reply": "2025-05-10T03:11:46.157778Z"
    },
    "papermill": {
     "duration": 1819.667699,
     "end_time": "2025-05-10T03:11:46.159639",
     "exception": false,
     "start_time": "2025-05-10T02:41:26.491940",
     "status": "completed"
    },
    "tags": []
   },
   "outputs": [
    {
     "name": "stdout",
     "output_type": "stream",
     "text": [
      "Training BaggingRegressor\n",
      "\n"
     ]
    },
    {
     "name": "stderr",
     "output_type": "stream",
     "text": [
      "2025-05-10 02:41:26.809715: E tensorflow/core/framework/node_def_util.cc:676] NodeDef mentions attribute use_unbounded_threadpool which is not in the op definition: Op<name=MapDataset; signature=input_dataset:variant, other_arguments: -> handle:variant; attr=f:func; attr=Targuments:list(type),min=0; attr=output_types:list(type),min=1; attr=output_shapes:list(shape),min=1; attr=use_inter_op_parallelism:bool,default=true; attr=preserve_cardinality:bool,default=false; attr=force_synchronous:bool,default=false; attr=metadata:string,default=\"\"> This may be expected if your graph generating binary is newer  than this binary. Unknown attributes will be ignored. NodeDef: {{node ParallelMapDatasetV2/_16}}\n",
      "2025-05-10 02:42:56.725328: E tensorflow/core/framework/node_def_util.cc:676] NodeDef mentions attribute use_unbounded_threadpool which is not in the op definition: Op<name=MapDataset; signature=input_dataset:variant, other_arguments: -> handle:variant; attr=f:func; attr=Targuments:list(type),min=0; attr=output_types:list(type),min=1; attr=output_shapes:list(shape),min=1; attr=use_inter_op_parallelism:bool,default=true; attr=preserve_cardinality:bool,default=false; attr=force_synchronous:bool,default=false; attr=metadata:string,default=\"\"> This may be expected if your graph generating binary is newer  than this binary. Unknown attributes will be ignored. NodeDef: {{node ParallelMapDatasetV2/_16}}\n",
      "2025-05-10 02:45:38.907371: E tensorflow/core/framework/node_def_util.cc:676] NodeDef mentions attribute use_unbounded_threadpool which is not in the op definition: Op<name=MapDataset; signature=input_dataset:variant, other_arguments: -> handle:variant; attr=f:func; attr=Targuments:list(type),min=0; attr=output_types:list(type),min=1; attr=output_shapes:list(shape),min=1; attr=use_inter_op_parallelism:bool,default=true; attr=preserve_cardinality:bool,default=false; attr=force_synchronous:bool,default=false; attr=metadata:string,default=\"\"> This may be expected if your graph generating binary is newer  than this binary. Unknown attributes will be ignored. NodeDef: {{node ParallelMapDatasetV2/_16}}\n",
      "2025-05-10 02:47:30.365843: E tensorflow/core/framework/node_def_util.cc:676] NodeDef mentions attribute use_unbounded_threadpool which is not in the op definition: Op<name=MapDataset; signature=input_dataset:variant, other_arguments: -> handle:variant; attr=f:func; attr=Targuments:list(type),min=0; attr=output_types:list(type),min=1; attr=output_shapes:list(shape),min=1; attr=use_inter_op_parallelism:bool,default=true; attr=preserve_cardinality:bool,default=false; attr=force_synchronous:bool,default=false; attr=metadata:string,default=\"\"> This may be expected if your graph generating binary is newer  than this binary. Unknown attributes will be ignored. NodeDef: {{node ParallelMapDatasetV2/_14}}\n"
     ]
    },
    {
     "name": "stdout",
     "output_type": "stream",
     "text": [
      "--- Fold 0 - root_mean_squared_error: 0.0612 - Time: 365.41 s\n"
     ]
    },
    {
     "name": "stderr",
     "output_type": "stream",
     "text": [
      "2025-05-10 02:47:35.590413: E tensorflow/core/framework/node_def_util.cc:676] NodeDef mentions attribute use_unbounded_threadpool which is not in the op definition: Op<name=MapDataset; signature=input_dataset:variant, other_arguments: -> handle:variant; attr=f:func; attr=Targuments:list(type),min=0; attr=output_types:list(type),min=1; attr=output_shapes:list(shape),min=1; attr=use_inter_op_parallelism:bool,default=true; attr=preserve_cardinality:bool,default=false; attr=force_synchronous:bool,default=false; attr=metadata:string,default=\"\"> This may be expected if your graph generating binary is newer  than this binary. Unknown attributes will be ignored. NodeDef: {{node ParallelMapDatasetV2/_16}}\n",
      "2025-05-10 02:49:20.288459: E tensorflow/core/framework/node_def_util.cc:676] NodeDef mentions attribute use_unbounded_threadpool which is not in the op definition: Op<name=MapDataset; signature=input_dataset:variant, other_arguments: -> handle:variant; attr=f:func; attr=Targuments:list(type),min=0; attr=output_types:list(type),min=1; attr=output_shapes:list(shape),min=1; attr=use_inter_op_parallelism:bool,default=true; attr=preserve_cardinality:bool,default=false; attr=force_synchronous:bool,default=false; attr=metadata:string,default=\"\"> This may be expected if your graph generating binary is newer  than this binary. Unknown attributes will be ignored. NodeDef: {{node ParallelMapDatasetV2/_16}}\n",
      "2025-05-10 02:51:35.584802: E tensorflow/core/framework/node_def_util.cc:676] NodeDef mentions attribute use_unbounded_threadpool which is not in the op definition: Op<name=MapDataset; signature=input_dataset:variant, other_arguments: -> handle:variant; attr=f:func; attr=Targuments:list(type),min=0; attr=output_types:list(type),min=1; attr=output_shapes:list(shape),min=1; attr=use_inter_op_parallelism:bool,default=true; attr=preserve_cardinality:bool,default=false; attr=force_synchronous:bool,default=false; attr=metadata:string,default=\"\"> This may be expected if your graph generating binary is newer  than this binary. Unknown attributes will be ignored. NodeDef: {{node ParallelMapDatasetV2/_16}}\n",
      "2025-05-10 02:53:36.143753: E tensorflow/core/framework/node_def_util.cc:676] NodeDef mentions attribute use_unbounded_threadpool which is not in the op definition: Op<name=MapDataset; signature=input_dataset:variant, other_arguments: -> handle:variant; attr=f:func; attr=Targuments:list(type),min=0; attr=output_types:list(type),min=1; attr=output_shapes:list(shape),min=1; attr=use_inter_op_parallelism:bool,default=true; attr=preserve_cardinality:bool,default=false; attr=force_synchronous:bool,default=false; attr=metadata:string,default=\"\"> This may be expected if your graph generating binary is newer  than this binary. Unknown attributes will be ignored. NodeDef: {{node ParallelMapDatasetV2/_14}}\n"
     ]
    },
    {
     "name": "stdout",
     "output_type": "stream",
     "text": [
      "--- Fold 1 - root_mean_squared_error: 0.0623 - Time: 365.34 s\n"
     ]
    },
    {
     "name": "stderr",
     "output_type": "stream",
     "text": [
      "2025-05-10 02:53:41.160429: E tensorflow/core/framework/node_def_util.cc:676] NodeDef mentions attribute use_unbounded_threadpool which is not in the op definition: Op<name=MapDataset; signature=input_dataset:variant, other_arguments: -> handle:variant; attr=f:func; attr=Targuments:list(type),min=0; attr=output_types:list(type),min=1; attr=output_shapes:list(shape),min=1; attr=use_inter_op_parallelism:bool,default=true; attr=preserve_cardinality:bool,default=false; attr=force_synchronous:bool,default=false; attr=metadata:string,default=\"\"> This may be expected if your graph generating binary is newer  than this binary. Unknown attributes will be ignored. NodeDef: {{node ParallelMapDatasetV2/_16}}\n",
      "2025-05-10 02:56:03.534258: E tensorflow/core/framework/node_def_util.cc:676] NodeDef mentions attribute use_unbounded_threadpool which is not in the op definition: Op<name=MapDataset; signature=input_dataset:variant, other_arguments: -> handle:variant; attr=f:func; attr=Targuments:list(type),min=0; attr=output_types:list(type),min=1; attr=output_shapes:list(shape),min=1; attr=use_inter_op_parallelism:bool,default=true; attr=preserve_cardinality:bool,default=false; attr=force_synchronous:bool,default=false; attr=metadata:string,default=\"\"> This may be expected if your graph generating binary is newer  than this binary. Unknown attributes will be ignored. NodeDef: {{node ParallelMapDatasetV2/_16}}\n",
      "2025-05-10 02:57:36.420637: E tensorflow/core/framework/node_def_util.cc:676] NodeDef mentions attribute use_unbounded_threadpool which is not in the op definition: Op<name=MapDataset; signature=input_dataset:variant, other_arguments: -> handle:variant; attr=f:func; attr=Targuments:list(type),min=0; attr=output_types:list(type),min=1; attr=output_shapes:list(shape),min=1; attr=use_inter_op_parallelism:bool,default=true; attr=preserve_cardinality:bool,default=false; attr=force_synchronous:bool,default=false; attr=metadata:string,default=\"\"> This may be expected if your graph generating binary is newer  than this binary. Unknown attributes will be ignored. NodeDef: {{node ParallelMapDatasetV2/_16}}\n",
      "2025-05-10 02:59:41.910107: E tensorflow/core/framework/node_def_util.cc:676] NodeDef mentions attribute use_unbounded_threadpool which is not in the op definition: Op<name=MapDataset; signature=input_dataset:variant, other_arguments: -> handle:variant; attr=f:func; attr=Targuments:list(type),min=0; attr=output_types:list(type),min=1; attr=output_shapes:list(shape),min=1; attr=use_inter_op_parallelism:bool,default=true; attr=preserve_cardinality:bool,default=false; attr=force_synchronous:bool,default=false; attr=metadata:string,default=\"\"> This may be expected if your graph generating binary is newer  than this binary. Unknown attributes will be ignored. NodeDef: {{node ParallelMapDatasetV2/_14}}\n"
     ]
    },
    {
     "name": "stdout",
     "output_type": "stream",
     "text": [
      "--- Fold 2 - root_mean_squared_error: 0.0615 - Time: 365.34 s\n"
     ]
    },
    {
     "name": "stderr",
     "output_type": "stream",
     "text": [
      "2025-05-10 02:59:47.016116: E tensorflow/core/framework/node_def_util.cc:676] NodeDef mentions attribute use_unbounded_threadpool which is not in the op definition: Op<name=MapDataset; signature=input_dataset:variant, other_arguments: -> handle:variant; attr=f:func; attr=Targuments:list(type),min=0; attr=output_types:list(type),min=1; attr=output_shapes:list(shape),min=1; attr=use_inter_op_parallelism:bool,default=true; attr=preserve_cardinality:bool,default=false; attr=force_synchronous:bool,default=false; attr=metadata:string,default=\"\"> This may be expected if your graph generating binary is newer  than this binary. Unknown attributes will be ignored. NodeDef: {{node ParallelMapDatasetV2/_16}}\n",
      "2025-05-10 03:02:38.420207: E tensorflow/core/framework/node_def_util.cc:676] NodeDef mentions attribute use_unbounded_threadpool which is not in the op definition: Op<name=MapDataset; signature=input_dataset:variant, other_arguments: -> handle:variant; attr=f:func; attr=Targuments:list(type),min=0; attr=output_types:list(type),min=1; attr=output_shapes:list(shape),min=1; attr=use_inter_op_parallelism:bool,default=true; attr=preserve_cardinality:bool,default=false; attr=force_synchronous:bool,default=false; attr=metadata:string,default=\"\"> This may be expected if your graph generating binary is newer  than this binary. Unknown attributes will be ignored. NodeDef: {{node ParallelMapDatasetV2/_16}}\n",
      "2025-05-10 03:04:33.849963: E tensorflow/core/framework/node_def_util.cc:676] NodeDef mentions attribute use_unbounded_threadpool which is not in the op definition: Op<name=MapDataset; signature=input_dataset:variant, other_arguments: -> handle:variant; attr=f:func; attr=Targuments:list(type),min=0; attr=output_types:list(type),min=1; attr=output_shapes:list(shape),min=1; attr=use_inter_op_parallelism:bool,default=true; attr=preserve_cardinality:bool,default=false; attr=force_synchronous:bool,default=false; attr=metadata:string,default=\"\"> This may be expected if your graph generating binary is newer  than this binary. Unknown attributes will be ignored. NodeDef: {{node ParallelMapDatasetV2/_16}}\n",
      "2025-05-10 03:06:23.056444: E tensorflow/core/framework/node_def_util.cc:676] NodeDef mentions attribute use_unbounded_threadpool which is not in the op definition: Op<name=MapDataset; signature=input_dataset:variant, other_arguments: -> handle:variant; attr=f:func; attr=Targuments:list(type),min=0; attr=output_types:list(type),min=1; attr=output_shapes:list(shape),min=1; attr=use_inter_op_parallelism:bool,default=true; attr=preserve_cardinality:bool,default=false; attr=force_synchronous:bool,default=false; attr=metadata:string,default=\"\"> This may be expected if your graph generating binary is newer  than this binary. Unknown attributes will be ignored. NodeDef: {{node ParallelMapDatasetV2/_14}}\n"
     ]
    },
    {
     "name": "stdout",
     "output_type": "stream",
     "text": [
      "--- Fold 3 - root_mean_squared_error: 0.0622 - Time: 400.71 s\n"
     ]
    },
    {
     "name": "stderr",
     "output_type": "stream",
     "text": [
      "2025-05-10 03:06:28.272701: E tensorflow/core/framework/node_def_util.cc:676] NodeDef mentions attribute use_unbounded_threadpool which is not in the op definition: Op<name=MapDataset; signature=input_dataset:variant, other_arguments: -> handle:variant; attr=f:func; attr=Targuments:list(type),min=0; attr=output_types:list(type),min=1; attr=output_shapes:list(shape),min=1; attr=use_inter_op_parallelism:bool,default=true; attr=preserve_cardinality:bool,default=false; attr=force_synchronous:bool,default=false; attr=metadata:string,default=\"\"> This may be expected if your graph generating binary is newer  than this binary. Unknown attributes will be ignored. NodeDef: {{node ParallelMapDatasetV2/_16}}\n",
      "2025-05-10 03:08:18.613877: E tensorflow/core/framework/node_def_util.cc:676] NodeDef mentions attribute use_unbounded_threadpool which is not in the op definition: Op<name=MapDataset; signature=input_dataset:variant, other_arguments: -> handle:variant; attr=f:func; attr=Targuments:list(type),min=0; attr=output_types:list(type),min=1; attr=output_shapes:list(shape),min=1; attr=use_inter_op_parallelism:bool,default=true; attr=preserve_cardinality:bool,default=false; attr=force_synchronous:bool,default=false; attr=metadata:string,default=\"\"> This may be expected if your graph generating binary is newer  than this binary. Unknown attributes will be ignored. NodeDef: {{node ParallelMapDatasetV2/_16}}\n",
      "2025-05-10 03:09:53.202920: E tensorflow/core/framework/node_def_util.cc:676] NodeDef mentions attribute use_unbounded_threadpool which is not in the op definition: Op<name=MapDataset; signature=input_dataset:variant, other_arguments: -> handle:variant; attr=f:func; attr=Targuments:list(type),min=0; attr=output_types:list(type),min=1; attr=output_shapes:list(shape),min=1; attr=use_inter_op_parallelism:bool,default=true; attr=preserve_cardinality:bool,default=false; attr=force_synchronous:bool,default=false; attr=metadata:string,default=\"\"> This may be expected if your graph generating binary is newer  than this binary. Unknown attributes will be ignored. NodeDef: {{node ParallelMapDatasetV2/_16}}\n",
      "2025-05-10 03:11:33.447545: E tensorflow/core/framework/node_def_util.cc:676] NodeDef mentions attribute use_unbounded_threadpool which is not in the op definition: Op<name=MapDataset; signature=input_dataset:variant, other_arguments: -> handle:variant; attr=f:func; attr=Targuments:list(type),min=0; attr=output_types:list(type),min=1; attr=output_shapes:list(shape),min=1; attr=use_inter_op_parallelism:bool,default=true; attr=preserve_cardinality:bool,default=false; attr=force_synchronous:bool,default=false; attr=metadata:string,default=\"\"> This may be expected if your graph generating binary is newer  than this binary. Unknown attributes will be ignored. NodeDef: {{node ParallelMapDatasetV2/_14}}\n"
     ]
    },
    {
     "name": "stdout",
     "output_type": "stream",
     "text": [
      "--- Fold 4 - root_mean_squared_error: 0.0611 - Time: 309.87 s\n",
      "\n",
      "------ Overall root_mean_squared_error: 0.0616 - Mean root_mean_squared_error: 0.0616 ± 0.0005 - Time: 1809.02 s\n"
     ]
    },
    {
     "name": "stderr",
     "output_type": "stream",
     "text": [
      "2025-05-10 03:11:38.469285: E tensorflow/core/framework/node_def_util.cc:676] NodeDef mentions attribute use_unbounded_threadpool which is not in the op definition: Op<name=MapDataset; signature=input_dataset:variant, other_arguments: -> handle:variant; attr=f:func; attr=Targuments:list(type),min=0; attr=output_types:list(type),min=1; attr=output_shapes:list(shape),min=1; attr=use_inter_op_parallelism:bool,default=true; attr=preserve_cardinality:bool,default=false; attr=force_synchronous:bool,default=false; attr=metadata:string,default=\"\"> This may be expected if your graph generating binary is newer  than this binary. Unknown attributes will be ignored. NodeDef: {{node ParallelMapDatasetV2/_14}}\n",
      "2025-05-10 03:11:44.133696: E tensorflow/core/framework/node_def_util.cc:676] NodeDef mentions attribute use_unbounded_threadpool which is not in the op definition: Op<name=MapDataset; signature=input_dataset:variant, other_arguments: -> handle:variant; attr=f:func; attr=Targuments:list(type),min=0; attr=output_types:list(type),min=1; attr=output_shapes:list(shape),min=1; attr=use_inter_op_parallelism:bool,default=true; attr=preserve_cardinality:bool,default=false; attr=force_synchronous:bool,default=false; attr=metadata:string,default=\"\"> This may be expected if your graph generating binary is newer  than this binary. Unknown attributes will be ignored. NodeDef: {{node ParallelMapDatasetV2/_14}}\n"
     ]
    }
   ],
   "source": [
    "nn_trainer = Trainer(\n",
    "    nn_bag,\n",
    "    cv=CFG.cv,\n",
    "    metric=root_mean_squared_error,\n",
    "    task=\"regression\"\n",
    ")\n",
    "\n",
    "nn_trainer.fit(X, y, extra_X=X_original, extra_y=y_original)\n",
    "\n",
    "scores[\"KerasANN\"] = nn_trainer.fold_scores\n",
    "oof_preds[\"KerasANN\"] = nn_trainer.oof_preds\n",
    "test_preds[\"KerasANN\"] = nn_trainer.predict(X_test)"
   ]
  },
  {
   "cell_type": "markdown",
   "id": "667e7689",
   "metadata": {
    "papermill": {
     "duration": 0.010624,
     "end_time": "2025-05-10T03:11:46.181975",
     "exception": false,
     "start_time": "2025-05-10T03:11:46.171351",
     "status": "completed"
    },
    "tags": []
   },
   "source": [
    "# Ensembling with Ridge"
   ]
  },
  {
   "cell_type": "code",
   "execution_count": 25,
   "id": "5b662bc4",
   "metadata": {
    "_kg_hide-input": true,
    "execution": {
     "iopub.execute_input": "2025-05-10T03:11:46.205170Z",
     "iopub.status.busy": "2025-05-10T03:11:46.204608Z",
     "iopub.status.idle": "2025-05-10T03:11:46.210604Z",
     "shell.execute_reply": "2025-05-10T03:11:46.209983Z"
    },
    "papermill": {
     "duration": 0.018798,
     "end_time": "2025-05-10T03:11:46.211560",
     "exception": false,
     "start_time": "2025-05-10T03:11:46.192762",
     "status": "completed"
    },
    "tags": []
   },
   "outputs": [],
   "source": [
    "def plot_weights(weights, title):\n",
    "    sorted_indices = np.argsort(weights[0])[::-1]\n",
    "    sorted_coeffs = np.array(weights[0])[sorted_indices]\n",
    "    sorted_model_names = np.array(list(oof_preds.keys()))[sorted_indices]\n",
    "\n",
    "    plt.figure(figsize=(10, weights.shape[1] * 0.5))\n",
    "    ax = sns.barplot(x=sorted_coeffs, y=sorted_model_names, palette=\"RdYlGn_r\")\n",
    "\n",
    "    for i, (value, name) in enumerate(zip(sorted_coeffs, sorted_model_names)):\n",
    "        if value >= 0:\n",
    "            ax.text(value, i, f\"{value:.3f}\", va=\"center\", ha=\"left\", color=\"black\")\n",
    "        else:\n",
    "            ax.text(value, i, f\"{value:.3f}\", va=\"center\", ha=\"right\", color=\"black\")\n",
    "\n",
    "    xlim = ax.get_xlim()\n",
    "    ax.set_xlim(xlim[0] - 0.1 * abs(xlim[0]), xlim[1] + 0.1 * abs(xlim[1]))\n",
    "\n",
    "    plt.title(title)\n",
    "    plt.xlabel(\"\")\n",
    "    plt.ylabel(\"\")\n",
    "    plt.tight_layout()\n",
    "    plt.show()"
   ]
  },
  {
   "cell_type": "code",
   "execution_count": 26,
   "id": "b7ce81d3",
   "metadata": {
    "execution": {
     "iopub.execute_input": "2025-05-10T03:11:46.234407Z",
     "iopub.status.busy": "2025-05-10T03:11:46.234169Z",
     "iopub.status.idle": "2025-05-10T03:11:46.255203Z",
     "shell.execute_reply": "2025-05-10T03:11:46.254542Z"
    },
    "papermill": {
     "duration": 0.033651,
     "end_time": "2025-05-10T03:11:46.256239",
     "exception": false,
     "start_time": "2025-05-10T03:11:46.222588",
     "status": "completed"
    },
    "tags": []
   },
   "outputs": [],
   "source": [
    "X = pd.DataFrame(oof_preds)\n",
    "X_test = pd.DataFrame(test_preds)"
   ]
  },
  {
   "cell_type": "code",
   "execution_count": 27,
   "id": "19150293",
   "metadata": {
    "execution": {
     "iopub.execute_input": "2025-05-10T03:11:46.279093Z",
     "iopub.status.busy": "2025-05-10T03:11:46.278854Z",
     "iopub.status.idle": "2025-05-10T03:11:46.343645Z",
     "shell.execute_reply": "2025-05-10T03:11:46.343061Z"
    },
    "papermill": {
     "duration": 0.077094,
     "end_time": "2025-05-10T03:11:46.344508",
     "exception": false,
     "start_time": "2025-05-10T03:11:46.267414",
     "status": "completed"
    },
    "tags": []
   },
   "outputs": [
    {
     "data": {
      "text/plain": [
       "['test_preds.pkl']"
      ]
     },
     "execution_count": 27,
     "metadata": {},
     "output_type": "execute_result"
    }
   ],
   "source": [
    "joblib.dump(X, \"oof_preds.pkl\")\n",
    "joblib.dump(X_test, \"test_preds.pkl\")"
   ]
  },
  {
   "cell_type": "code",
   "execution_count": 28,
   "id": "6ad11eb3",
   "metadata": {
    "_kg_hide-output": true,
    "execution": {
     "iopub.execute_input": "2025-05-10T03:11:46.367404Z",
     "iopub.status.busy": "2025-05-10T03:11:46.367190Z",
     "iopub.status.idle": "2025-05-10T03:23:46.075691Z",
     "shell.execute_reply": "2025-05-10T03:23:46.075007Z"
    },
    "papermill": {
     "duration": 719.721204,
     "end_time": "2025-05-10T03:23:46.076874",
     "exception": false,
     "start_time": "2025-05-10T03:11:46.355670",
     "status": "completed"
    },
    "scrolled": true,
    "tags": []
   },
   "outputs": [
    {
     "name": "stderr",
     "output_type": "stream",
     "text": [
      "[I 2025-05-10 03:11:46,370] A new study created in memory with name: no-name-9ccddf3d-ce38-4d2f-9fe5-fde3e3f2b6f3\n",
      "[I 2025-05-10 03:11:55,360] Trial 2 finished with value: 0.058994046442741706 and parameters: {'alpha': 8.892316839959435, 'tol': 0.008233547279371504}. Best is trial 2 with value: 0.058994046442741706.\n",
      "[I 2025-05-10 03:11:55,905] Trial 3 finished with value: 0.05899247435536949 and parameters: {'alpha': 7.461083425828976, 'tol': 0.0024075470778034255}. Best is trial 3 with value: 0.05899247435536949.\n",
      "[I 2025-05-10 03:11:55,906] Trial 1 finished with value: 0.05899087160222628 and parameters: {'alpha': 5.844261565362294, 'tol': 0.008786677505604816}. Best is trial 1 with value: 0.05899087160222628.\n",
      "[I 2025-05-10 03:11:55,913] Trial 0 finished with value: 0.05899523563710089 and parameters: {'alpha': 9.91881410059149, 'tol': 0.008223276712455584}. Best is trial 1 with value: 0.05899087160222628.\n",
      "[I 2025-05-10 03:12:05,309] Trial 6 finished with value: 0.05899098348554146 and parameters: {'alpha': 5.965405055452207, 'tol': 0.005148256530851985}. Best is trial 1 with value: 0.05899087160222628.\n",
      "[I 2025-05-10 03:12:07,067] Trial 7 finished with value: 0.0589941148507983 and parameters: {'alpha': 8.952435317586204, 'tol': 0.004318650522793278}. Best is trial 1 with value: 0.05899087160222628.\n",
      "[I 2025-05-10 03:12:07,076] Trial 4 finished with value: 0.058989601965456696 and parameters: {'alpha': 4.29979181718263, 'tol': 0.004885110712839384}. Best is trial 4 with value: 0.058989601965456696.\n",
      "[I 2025-05-10 03:12:07,079] Trial 5 finished with value: 0.05899530838170789 and parameters: {'alpha': 9.980476397276695, 'tol': 0.008459142729532068}. Best is trial 4 with value: 0.058989601965456696.\n",
      "[I 2025-05-10 03:12:15,901] Trial 8 finished with value: 0.05899413924527471 and parameters: {'alpha': 8.973838276648687, 'tol': 0.0023882742524728535}. Best is trial 4 with value: 0.058989601965456696.\n",
      "[I 2025-05-10 03:12:17,681] Trial 9 finished with value: 0.05898850841794414 and parameters: {'alpha': 1.7327243105711987, 'tol': 0.0013001909915435214}. Best is trial 9 with value: 0.05898850841794414.\n",
      "[I 2025-05-10 03:12:19,414] Trial 10 finished with value: 0.05898996716076661 and parameters: {'alpha': 4.786739105122252, 'tol': 0.0075747636186618336}. Best is trial 9 with value: 0.05898850841794414.\n",
      "[I 2025-05-10 03:12:19,416] Trial 11 finished with value: 0.05899122885739564 and parameters: {'alpha': 6.225660296220463, 'tol': 0.003493133741987771}. Best is trial 9 with value: 0.05898850841794414.\n",
      "[I 2025-05-10 03:12:26,460] Trial 12 finished with value: 0.05898871645840672 and parameters: {'alpha': 2.699577272019742, 'tol': 0.00325090160913292}. Best is trial 9 with value: 0.05898850841794414.\n",
      "[I 2025-05-10 03:12:28,207] Trial 13 finished with value: 0.058988864964045346 and parameters: {'alpha': 3.058614754389702, 'tol': 0.0009405218537353564}. Best is trial 9 with value: 0.05898850841794414.\n",
      "[I 2025-05-10 03:12:29,372] Trial 14 finished with value: 0.05898856243770561 and parameters: {'alpha': 2.1614218405761325, 'tol': 0.0024522652942651642}. Best is trial 9 with value: 0.05898850841794414.\n",
      "[I 2025-05-10 03:12:29,946] Trial 15 finished with value: 0.05898865558431167 and parameters: {'alpha': 0.8028317772912785, 'tol': 0.001240209970167922}. Best is trial 9 with value: 0.05898850841794414.\n",
      "[I 2025-05-10 03:12:37,679] Trial 16 finished with value: 0.058988517155655305 and parameters: {'alpha': 1.3826835558559907, 'tol': 0.0011351085071408403}. Best is trial 9 with value: 0.05898850841794414.\n",
      "[I 2025-05-10 03:12:40,597] Trial 17 finished with value: 0.058988581903634985 and parameters: {'alpha': 1.0275130779184314, 'tol': 0.0032136864350283253}. Best is trial 9 with value: 0.05898850841794414.\n",
      "[I 2025-05-10 03:12:41,785] Trial 19 finished with value: 0.05898871045999501 and parameters: {'alpha': 0.6738145281419481, 'tol': 0.006292207084866006}. Best is trial 9 with value: 0.05898850841794414.\n",
      "[I 2025-05-10 03:12:41,792] Trial 18 finished with value: 0.058988963023726346 and parameters: {'alpha': 0.24914713811885925, 'tol': 0.0011604549268297386}. Best is trial 9 with value: 0.05898850841794414.\n",
      "[I 2025-05-10 03:12:50,111] Trial 20 finished with value: 0.05898864708976819 and parameters: {'alpha': 0.8250353960698953, 'tol': 0.004984648791759671}. Best is trial 9 with value: 0.05898850841794414.\n",
      "[I 2025-05-10 03:12:52,554] Trial 21 finished with value: 0.058988569926436064 and parameters: {'alpha': 1.0741026858670297, 'tol': 0.007403211279338685}. Best is trial 9 with value: 0.05898850841794414.\n",
      "[I 2025-05-10 03:12:53,166] Trial 23 finished with value: 0.05899044636099542 and parameters: {'alpha': 5.366895500822496, 'tol': 0.0009624096831140024}. Best is trial 9 with value: 0.05898850841794414.\n",
      "[I 2025-05-10 03:12:54,363] Trial 22 finished with value: 0.05898875591726363 and parameters: {'alpha': 0.5810693900222035, 'tol': 0.00014814263255515797}. Best is trial 9 with value: 0.05898850841794414.\n",
      "[I 2025-05-10 03:13:00,295] Trial 24 finished with value: 0.058989979507407454 and parameters: {'alpha': 4.802412073157026, 'tol': 0.001052725082527337}. Best is trial 9 with value: 0.05898850841794414.\n",
      "[I 2025-05-10 03:13:03,786] Trial 25 finished with value: 0.05899032257243592 and parameters: {'alpha': 5.221989885092148, 'tol': 0.0004703706855242691}. Best is trial 9 with value: 0.05898850841794414.\n",
      "[I 2025-05-10 03:13:04,421] Trial 26 finished with value: 0.05898855235413346 and parameters: {'alpha': 2.1091074582799094, 'tol': 0.0003513138527240178}. Best is trial 9 with value: 0.05898850841794414.\n",
      "[I 2025-05-10 03:13:05,066] Trial 27 finished with value: 0.0589888172724016 and parameters: {'alpha': 2.9517587553907596, 'tol': 0.00213206296535958}. Best is trial 9 with value: 0.05898850841794414.\n",
      "[I 2025-05-10 03:13:12,676] Trial 28 finished with value: 0.05898896054126371 and parameters: {'alpha': 3.2563189949926405, 'tol': 0.0020990315338290195}. Best is trial 9 with value: 0.05898850841794414.\n",
      "[I 2025-05-10 03:13:15,047] Trial 29 finished with value: 0.05898904650600971 and parameters: {'alpha': 3.4199743538050438, 'tol': 0.0026622467075768505}. Best is trial 9 with value: 0.05898850841794414.\n",
      "[I 2025-05-10 03:13:16,229] Trial 30 finished with value: 0.05898875668484327 and parameters: {'alpha': 2.805367790161382, 'tol': 0.00030028230382225975}. Best is trial 9 with value: 0.05898850841794414.\n",
      "[I 2025-05-10 03:13:18,065] Trial 31 finished with value: 0.05898873389528089 and parameters: {'alpha': 2.7464249755033068, 'tol': 0.0009117831346263558}. Best is trial 9 with value: 0.05898850841794414.\n",
      "[I 2025-05-10 03:13:23,927] Trial 32 finished with value: 0.058988836429018886 and parameters: {'alpha': 2.9954557920404694, 'tol': 0.00033910595768041774}. Best is trial 9 with value: 0.05898850841794414.\n",
      "[I 2025-05-10 03:13:26,870] Trial 33 finished with value: 0.0589889606815286 and parameters: {'alpha': 0.2523393915790386, 'tol': 0.003404086724571743}. Best is trial 9 with value: 0.05898850841794414.\n",
      "[I 2025-05-10 03:13:27,520] Trial 34 finished with value: 0.05898854699987071 and parameters: {'alpha': 2.079155531608737, 'tol': 5.42471988943733e-05}. Best is trial 9 with value: 0.05898850841794414.\n",
      "[I 2025-05-10 03:13:30,452] Trial 35 finished with value: 0.058988535299756895 and parameters: {'alpha': 2.006478304748623, 'tol': 0.00018998019548626907}. Best is trial 9 with value: 0.05898850841794414.\n",
      "[I 2025-05-10 03:13:34,484] Trial 36 finished with value: 0.058988575579787074 and parameters: {'alpha': 2.2234529842660598, 'tol': 0.002634711201450218}. Best is trial 9 with value: 0.05898850841794414.\n",
      "[I 2025-05-10 03:13:38,556] Trial 37 finished with value: 0.058988513161212904 and parameters: {'alpha': 1.4272112654879396, 'tol': 0.0020935466918758764}. Best is trial 9 with value: 0.05898850841794414.\n",
      "[I 2025-05-10 03:13:39,733] Trial 38 finished with value: 0.058988505934117384 and parameters: {'alpha': 1.5821154809666997, 'tol': 8.330168732540973e-05}. Best is trial 38 with value: 0.058988505934117384.\n",
      "[I 2025-05-10 03:13:42,688] Trial 39 finished with value: 0.05898862373364101 and parameters: {'alpha': 0.8901706287890158, 'tol': 5.95710219573112e-05}. Best is trial 38 with value: 0.058988505934117384.\n",
      "[I 2025-05-10 03:13:44,477] Trial 40 finished with value: 0.0589885064369238 and parameters: {'alpha': 1.5562075867300296, 'tol': 0.0007533809868864622}. Best is trial 38 with value: 0.058988505934117384.\n",
      "[I 2025-05-10 03:13:49,248] Trial 41 finished with value: 0.05898904561746057 and parameters: {'alpha': 0.1422655206956469, 'tol': 0.0015771955388207601}. Best is trial 38 with value: 0.058988505934117384.\n",
      "[I 2025-05-10 03:13:50,380] Trial 42 finished with value: 0.05898914744197181 and parameters: {'alpha': 0.023246847581077423, 'tol': 0.0010003818114143583}. Best is trial 38 with value: 0.058988505934117384.\n",
      "[I 2025-05-10 03:13:54,480] Trial 43 finished with value: 0.05898861781637002 and parameters: {'alpha': 0.9077731415749088, 'tol': 0.001869555561918704}. Best is trial 38 with value: 0.058988505934117384.\n",
      "[I 2025-05-10 03:13:55,686] Trial 44 finished with value: 0.058988609822637636 and parameters: {'alpha': 0.9323779410056813, 'tol': 0.0019606801061527812}. Best is trial 38 with value: 0.058988505934117384.\n",
      "[I 2025-05-10 03:14:00,975] Trial 45 finished with value: 0.05898850846614178 and parameters: {'alpha': 1.500572694778236, 'tol': 0.0020599369048619597}. Best is trial 38 with value: 0.058988505934117384.\n",
      "[I 2025-05-10 03:14:02,740] Trial 46 finished with value: 0.05898851546728152 and parameters: {'alpha': 1.4003367307366574, 'tol': 0.002447839113168761}. Best is trial 38 with value: 0.058988505934117384.\n",
      "[I 2025-05-10 03:14:06,313] Trial 47 finished with value: 0.0589885071843481 and parameters: {'alpha': 1.702256764010766, 'tol': 0.001507472446585062}. Best is trial 38 with value: 0.058988505934117384.\n",
      "[I 2025-05-10 03:14:06,913] Trial 48 finished with value: 0.058988507608807784 and parameters: {'alpha': 1.7138004284991668, 'tol': 0.001936474068950664}. Best is trial 38 with value: 0.058988505934117384.\n",
      "[I 2025-05-10 03:14:11,707] Trial 49 finished with value: 0.058992267003381955 and parameters: {'alpha': 7.263307490883083, 'tol': 0.006322745436350198}. Best is trial 38 with value: 0.058988505934117384.\n",
      "[I 2025-05-10 03:14:12,353] Trial 50 finished with value: 0.05898858103191083 and parameters: {'alpha': 2.247574256456975, 'tol': 0.002847208201018265}. Best is trial 38 with value: 0.058988505934117384.\n",
      "[I 2025-05-10 03:14:17,157] Trial 52 finished with value: 0.05898865258066403 and parameters: {'alpha': 2.511151209596611, 'tol': 0.001165443982381711}. Best is trial 38 with value: 0.058988505934117384.\n",
      "[I 2025-05-10 03:14:17,185] Trial 51 finished with value: 0.058988814793720014 and parameters: {'alpha': 0.4742324681750745, 'tol': 0.009790846724349456}. Best is trial 38 with value: 0.058988505934117384.\n",
      "[I 2025-05-10 03:14:21,949] Trial 53 finished with value: 0.058988548794647905 and parameters: {'alpha': 2.0893891529781476, 'tol': 0.0011538654312448523}. Best is trial 38 with value: 0.058988505934117384.\n",
      "[I 2025-05-10 03:14:23,156] Trial 54 finished with value: 0.05898851463859711 and parameters: {'alpha': 1.828496288603501, 'tol': 0.0017301449227865166}. Best is trial 38 with value: 0.058988505934117384.\n",
      "[I 2025-05-10 03:14:28,545] Trial 55 finished with value: 0.05898850590771092 and parameters: {'alpha': 1.5840514393650675, 'tol': 0.00227551947447735}. Best is trial 55 with value: 0.05898850590771092.\n",
      "[I 2025-05-10 03:14:29,168] Trial 56 finished with value: 0.058994978216940976 and parameters: {'alpha': 9.699664090397574, 'tol': 0.0007584314431695813}. Best is trial 55 with value: 0.05898850590771092.\n",
      "[I 2025-05-10 03:14:33,229] Trial 57 finished with value: 0.058989029802420614 and parameters: {'alpha': 3.389047703361348, 'tol': 0.00870090630966604}. Best is trial 55 with value: 0.05898850590771092.\n",
      "[I 2025-05-10 03:14:34,997] Trial 58 finished with value: 0.05899433159992859 and parameters: {'alpha': 9.141972020366527, 'tol': 0.009970791313388249}. Best is trial 55 with value: 0.05898850590771092.\n",
      "[I 2025-05-10 03:14:39,022] Trial 59 finished with value: 0.05898865133059211 and parameters: {'alpha': 2.507133018963992, 'tol': 0.003997651099975307}. Best is trial 55 with value: 0.05898850590771092.\n",
      "[I 2025-05-10 03:14:39,636] Trial 60 finished with value: 0.05898916427080062 and parameters: {'alpha': 3.6281271346183246, 'tol': 0.004898587011789474}. Best is trial 55 with value: 0.05898850590771092.\n",
      "[I 2025-05-10 03:14:44,281] Trial 61 finished with value: 0.05898864097046219 and parameters: {'alpha': 2.473216406523683, 'tol': 0.003836349282654536}. Best is trial 55 with value: 0.05898850590771092.\n",
      "[I 2025-05-10 03:14:47,789] Trial 62 finished with value: 0.05898861405365547 and parameters: {'alpha': 2.3791417900630574, 'tol': 0.005251168606488798}. Best is trial 55 with value: 0.05898850590771092.\n",
      "[I 2025-05-10 03:14:50,074] Trial 63 finished with value: 0.05898850809902515 and parameters: {'alpha': 1.7256496880540995, 'tol': 0.002048417525050657}. Best is trial 55 with value: 0.05898850590771092.\n",
      "[I 2025-05-10 03:14:51,892] Trial 64 finished with value: 0.05898853028741833 and parameters: {'alpha': 1.2763876736709059, 'tol': 0.002265250652690844}. Best is trial 55 with value: 0.05898850590771092.\n",
      "[I 2025-05-10 03:14:56,052] Trial 65 finished with value: 0.058988518521371984 and parameters: {'alpha': 1.8710633159994632, 'tol': 0.0018500423439093442}. Best is trial 55 with value: 0.05898850590771092.\n",
      "[I 2025-05-10 03:15:00,081] Trial 66 finished with value: 0.058988511091259334 and parameters: {'alpha': 1.4552632859173116, 'tol': 0.001991632550609024}. Best is trial 55 with value: 0.05898850590771092.\n",
      "[I 2025-05-10 03:15:00,743] Trial 67 finished with value: 0.05898851461290223 and parameters: {'alpha': 1.8281873470821255, 'tol': 0.0013719362852398411}. Best is trial 55 with value: 0.05898850590771092.\n",
      "[I 2025-05-10 03:15:04,797] Trial 68 finished with value: 0.058988517447105024 and parameters: {'alpha': 1.3797751467734127, 'tol': 7.369601872629378e-05}. Best is trial 55 with value: 0.05898850590771092.\n",
      "[I 2025-05-10 03:15:08,374] Trial 69 finished with value: 0.05898871821159086 and parameters: {'alpha': 0.6572314909529728, 'tol': 5.4837319175687904e-05}. Best is trial 55 with value: 0.05898850590771092.\n",
      "[I 2025-05-10 03:15:11,309] Trial 70 finished with value: 0.05898863564996337 and parameters: {'alpha': 0.8561332598267466, 'tol': 0.0001983242007259371}. Best is trial 55 with value: 0.05898850590771092.\n",
      "[I 2025-05-10 03:15:13,102] Trial 71 finished with value: 0.05898850866418454 and parameters: {'alpha': 1.496538878082194, 'tol': 0.0005077681019798079}. Best is trial 55 with value: 0.05898850590771092.\n",
      "[I 2025-05-10 03:15:16,094] Trial 72 finished with value: 0.058989162056965354 and parameters: {'alpha': 3.624356660537113, 'tol': 0.0017226960693454973}. Best is trial 55 with value: 0.05898850590771092.\n",
      "[I 2025-05-10 03:15:19,059] Trial 73 finished with value: 0.05898888077743321 and parameters: {'alpha': 3.092709680059981, 'tol': 0.0019304385625562642}. Best is trial 55 with value: 0.05898850590771092.\n",
      "[I 2025-05-10 03:15:23,731] Trial 74 finished with value: 0.05898858615998294 and parameters: {'alpha': 1.0119151985672004, 'tol': 0.003238990294591104}. Best is trial 55 with value: 0.05898850590771092.\n",
      "[I 2025-05-10 03:15:24,892] Trial 75 finished with value: 0.05898888634536061 and parameters: {'alpha': 0.35916685749076405, 'tol': 0.0034779141972560708}. Best is trial 55 with value: 0.05898850590771092.\n",
      "[I 2025-05-10 03:15:27,921] Trial 76 finished with value: 0.05898852473081945 and parameters: {'alpha': 1.3164786562207125, 'tol': 0.0031175221901664496}. Best is trial 55 with value: 0.05898850590771092.\n",
      "[I 2025-05-10 03:15:30,337] Trial 77 finished with value: 0.058988547911788564 and parameters: {'alpha': 1.173869211309188, 'tol': 0.0032054973294761077}. Best is trial 55 with value: 0.05898850590771092.\n",
      "[I 2025-05-10 03:15:35,566] Trial 78 finished with value: 0.05898850760298137 and parameters: {'alpha': 1.7136510622382597, 'tol': 0.0024084695009520215}. Best is trial 55 with value: 0.05898850590771092.\n",
      "[I 2025-05-10 03:15:36,136] Trial 79 finished with value: 0.05899119192240173 and parameters: {'alpha': 6.186929891112356, 'tol': 0.009730518569464098}. Best is trial 55 with value: 0.05898850590771092.\n",
      "[I 2025-05-10 03:15:39,684] Trial 80 finished with value: 0.05898861683887484 and parameters: {'alpha': 2.389333784698813, 'tol': 0.001691063205021869}. Best is trial 55 with value: 0.05898850590771092.\n",
      "[I 2025-05-10 03:15:41,483] Trial 81 finished with value: 0.058988565990588576 and parameters: {'alpha': 2.1787987562845568, 'tol': 0.001971797738207536}. Best is trial 55 with value: 0.05898850590771092.\n",
      "[I 2025-05-10 03:15:47,989] Trial 83 finished with value: 0.05898869311089106 and parameters: {'alpha': 2.6341004425737045, 'tol': 0.0015086462391660815}. Best is trial 55 with value: 0.05898850590771092.\n",
      "[I 2025-05-10 03:15:47,992] Trial 82 finished with value: 0.05898893453979758 and parameters: {'alpha': 3.2043901429541366, 'tol': 0.002575715654754962}. Best is trial 55 with value: 0.05898850590771092.\n",
      "[I 2025-05-10 03:15:51,704] Trial 84 finished with value: 0.058988524977419105 and parameters: {'alpha': 1.9297623375386053, 'tol': 0.002529734797516989}. Best is trial 55 with value: 0.05898850590771092.\n",
      "[I 2025-05-10 03:15:53,334] Trial 85 finished with value: 0.05898858061128072 and parameters: {'alpha': 2.245742715367462, 'tol': 0.0023995521538004876}. Best is trial 55 with value: 0.05898850590771092.\n",
      "[I 2025-05-10 03:15:58,606] Trial 86 finished with value: 0.05898858434939279 and parameters: {'alpha': 1.0184946639444135, 'tol': 0.0019010955305087363}. Best is trial 55 with value: 0.05898850590771092.\n",
      "[I 2025-05-10 03:15:59,809] Trial 87 finished with value: 0.058988920969069845 and parameters: {'alpha': 0.30801273752065517, 'tol': 0.0021005074047645085}. Best is trial 55 with value: 0.05898850590771092.\n",
      "[I 2025-05-10 03:16:04,557] Trial 88 finished with value: 0.05898858164632877 and parameters: {'alpha': 1.0284708571848766, 'tol': 0.0021334495151877205}. Best is trial 55 with value: 0.05898850590771092.\n",
      "[I 2025-05-10 03:16:05,120] Trial 89 finished with value: 0.05898915750808924 and parameters: {'alpha': 0.012122178028874275, 'tol': 0.001672088750215018}. Best is trial 55 with value: 0.05898850590771092.\n",
      "[I 2025-05-10 03:16:09,806] Trial 90 finished with value: 0.05898851318794513 and parameters: {'alpha': 1.4268770397179722, 'tol': 0.0012480213577560195}. Best is trial 55 with value: 0.05898850590771092.\n",
      "[I 2025-05-10 03:16:11,561] Trial 91 finished with value: 0.058988576837844225 and parameters: {'alpha': 2.2290941204051116, 'tol': 0.00010433893581706462}. Best is trial 55 with value: 0.05898850590771092.\n",
      "[I 2025-05-10 03:16:16,360] Trial 93 finished with value: 0.058989282382476076 and parameters: {'alpha': 3.8226972765649143, 'tol': 0.00037102824841400787}. Best is trial 55 with value: 0.05898850590771092.\n",
      "[I 2025-05-10 03:16:17,482] Trial 92 finished with value: 0.05898870237457065 and parameters: {'alpha': 2.6604862856443336, 'tol': 0.0003535748478774581}. Best is trial 55 with value: 0.05898850590771092.\n",
      "[I 2025-05-10 03:16:20,506] Trial 94 finished with value: 0.05898926226889461 and parameters: {'alpha': 3.790413774694555, 'tol': 3.945269157340768e-05}. Best is trial 55 with value: 0.05898850590771092.\n",
      "[I 2025-05-10 03:16:24,491] Trial 95 finished with value: 0.05898874359546861 and parameters: {'alpha': 2.771811687175269, 'tol': 6.666673844825215e-05}. Best is trial 55 with value: 0.05898850590771092.\n",
      "[I 2025-05-10 03:16:27,987] Trial 96 finished with value: 0.058988516590988964 and parameters: {'alpha': 1.8508274993302956, 'tol': 0.00020720506892457917}. Best is trial 55 with value: 0.05898850590771092.\n",
      "[I 2025-05-10 03:16:29,130] Trial 97 finished with value: 0.05898852141723031 and parameters: {'alpha': 1.8988279025708215, 'tol': 0.0010528784037612962}. Best is trial 55 with value: 0.05898850590771092.\n",
      "[I 2025-05-10 03:16:32,034] Trial 98 finished with value: 0.05898850582780602 and parameters: {'alpha': 1.6419358853788366, 'tol': 0.0008489712961429752}. Best is trial 98 with value: 0.05898850582780602.\n",
      "[I 2025-05-10 03:16:35,655] Trial 99 finished with value: 0.05898851279322685 and parameters: {'alpha': 1.4318759877550447, 'tol': 0.0009975244913806448}. Best is trial 98 with value: 0.05898850582780602.\n",
      "[I 2025-05-10 03:16:39,697] Trial 100 finished with value: 0.058988505696960715 and parameters: {'alpha': 1.619814197421012, 'tol': 0.001442808364273992}. Best is trial 100 with value: 0.058988505696960715.\n",
      "[I 2025-05-10 03:16:41,444] Trial 101 finished with value: 0.05898854025640165 and parameters: {'alpha': 1.214925933675942, 'tol': 0.0011364874626251485}. Best is trial 100 with value: 0.058988505696960715.\n",
      "[I 2025-05-10 03:16:43,240] Trial 102 finished with value: 0.05898875318265621 and parameters: {'alpha': 2.796465256614919, 'tol': 0.003045930143156521}. Best is trial 100 with value: 0.058988505696960715.\n",
      "[I 2025-05-10 03:16:47,341] Trial 103 finished with value: 0.058988628226009115 and parameters: {'alpha': 2.429845925024127, 'tol': 0.00238383252994149}. Best is trial 100 with value: 0.058988505696960715.\n",
      "[I 2025-05-10 03:16:51,390] Trial 104 finished with value: 0.05898853304780968 and parameters: {'alpha': 1.9910013496671932, 'tol': 0.002012007550588747}. Best is trial 100 with value: 0.058988505696960715.\n",
      "[I 2025-05-10 03:16:53,158] Trial 105 finished with value: 0.05898877132916732 and parameters: {'alpha': 2.8420266619048618, 'tol': 0.003046460119153186}. Best is trial 100 with value: 0.058988505696960715.\n",
      "[I 2025-05-10 03:16:54,372] Trial 106 finished with value: 0.05898853286067354 and parameters: {'alpha': 1.9896883212052716, 'tol': 0.002240452320374584}. Best is trial 100 with value: 0.058988505696960715.\n",
      "[I 2025-05-10 03:16:59,149] Trial 107 finished with value: 0.058992165450432864 and parameters: {'alpha': 7.165462928092692, 'tol': 0.0021533627058469623}. Best is trial 100 with value: 0.058988505696960715.\n",
      "[I 2025-05-10 03:17:03,350] Trial 108 finished with value: 0.05898850759362103 and parameters: {'alpha': 1.5203901386225593, 'tol': 0.001660571606243608}. Best is trial 100 with value: 0.058988505696960715.\n",
      "[I 2025-05-10 03:17:05,227] Trial 109 finished with value: 0.058988508590057824 and parameters: {'alpha': 1.4980322548891272, 'tol': 0.0015640180324850935}. Best is trial 100 with value: 0.058988505696960715.\n",
      "[I 2025-05-10 03:17:06,958] Trial 110 finished with value: 0.05899462799551419 and parameters: {'alpha': 9.398968138765257, 'tol': 0.006335779512841258}. Best is trial 100 with value: 0.058988505696960715.\n",
      "[I 2025-05-10 03:17:11,053] Trial 111 finished with value: 0.05898857333669834 and parameters: {'alpha': 1.0603945450101282, 'tol': 0.0016074123320225025}. Best is trial 100 with value: 0.058988505696960715.\n",
      "[I 2025-05-10 03:17:14,621] Trial 112 finished with value: 0.05898852615533613 and parameters: {'alpha': 1.305676384128807, 'tol': 0.0013018498636849453}. Best is trial 100 with value: 0.058988505696960715.\n",
      "[I 2025-05-10 03:17:17,570] Trial 113 finished with value: 0.05898877299085429 and parameters: {'alpha': 0.5487297925520394, 'tol': 0.00036559319408289786}. Best is trial 100 with value: 0.058988505696960715.\n",
      "[I 2025-05-10 03:17:18,780] Trial 114 finished with value: 0.058988748414577435 and parameters: {'alpha': 0.5956773249138061, 'tol': 0.0013317421013438891}. Best is trial 100 with value: 0.058988505696960715.\n",
      "[I 2025-05-10 03:17:22,358] Trial 115 finished with value: 0.05898855977541143 and parameters: {'alpha': 1.117380579896587, 'tol': 0.0012018009608893497}. Best is trial 100 with value: 0.058988505696960715.\n",
      "[I 2025-05-10 03:17:25,859] Trial 116 finished with value: 0.058988508081253915 and parameters: {'alpha': 1.508854254190104, 'tol': 0.002041315600637438}. Best is trial 100 with value: 0.058988505696960715.\n",
      "[I 2025-05-10 03:17:29,426] Trial 117 finished with value: 0.05898856819303798 and parameters: {'alpha': 1.0812197624536704, 'tol': 0.003192381206031463}. Best is trial 100 with value: 0.058988505696960715.\n",
      "[I 2025-05-10 03:17:30,603] Trial 118 finished with value: 0.05898863999498767 and parameters: {'alpha': 2.4699637668431866, 'tol': 0.0019122375236553578}. Best is trial 100 with value: 0.058988505696960715.\n",
      "[I 2025-05-10 03:17:33,549] Trial 119 finished with value: 0.05898853214377243 and parameters: {'alpha': 1.9846178029133292, 'tol': 0.002182694503042582}. Best is trial 100 with value: 0.058988505696960715.\n",
      "[I 2025-05-10 03:17:37,144] Trial 120 finished with value: 0.05899525805207087 and parameters: {'alpha': 9.937826467113922, 'tol': 0.00403220382260805}. Best is trial 100 with value: 0.058988505696960715.\n",
      "[I 2025-05-10 03:17:41,329] Trial 121 finished with value: 0.0589886095502887 and parameters: {'alpha': 2.362406755714092, 'tol': 0.002002448880026716}. Best is trial 100 with value: 0.058988505696960715.\n",
      "[I 2025-05-10 03:17:41,956] Trial 122 finished with value: 0.0589886204702169 and parameters: {'alpha': 2.402449283436045, 'tol': 0.0017505048867906135}. Best is trial 100 with value: 0.058988505696960715.\n",
      "[I 2025-05-10 03:17:44,914] Trial 123 finished with value: 0.05898884116620709 and parameters: {'alpha': 3.0060951781994385, 'tol': 0.001488291066587366}. Best is trial 100 with value: 0.058988505696960715.\n",
      "[I 2025-05-10 03:17:48,987] Trial 124 finished with value: 0.058988518518242425 and parameters: {'alpha': 1.369393188659327, 'tol': 0.0027920389770487272}. Best is trial 100 with value: 0.058988505696960715.\n",
      "[I 2025-05-10 03:17:53,275] Trial 126 finished with value: 0.05898887637774726 and parameters: {'alpha': 0.3743944519790563, 'tol': 0.0030623952580103907}. Best is trial 100 with value: 0.058988505696960715.\n",
      "[I 2025-05-10 03:17:53,873] Trial 125 finished with value: 0.05898863746587922 and parameters: {'alpha': 0.8510990823277386, 'tol': 0.002815099895496957}. Best is trial 100 with value: 0.058988505696960715.\n",
      "[I 2025-05-10 03:17:56,301] Trial 127 finished with value: 0.05898861881460605 and parameters: {'alpha': 0.9047686396241168, 'tol': 0.003063334434649537}. Best is trial 100 with value: 0.058988505696960715.\n",
      "[I 2025-05-10 03:17:59,860] Trial 128 finished with value: 0.05898905197360141 and parameters: {'alpha': 0.13445816799078392, 'tol': 0.0024328108396846236}. Best is trial 100 with value: 0.058988505696960715.\n",
      "[I 2025-05-10 03:18:04,567] Trial 129 finished with value: 0.058988508190344326 and parameters: {'alpha': 1.727720408407394, 'tol': 0.0015570950665935324}. Best is trial 100 with value: 0.058988505696960715.\n",
      "[I 2025-05-10 03:18:06,327] Trial 130 finished with value: 0.05899047182792815 and parameters: {'alpha': 5.396338855814788, 'tol': 0.0038045549728885335}. Best is trial 100 with value: 0.058988505696960715.\n",
      "[I 2025-05-10 03:18:08,107] Trial 131 finished with value: 0.05898851199778542 and parameters: {'alpha': 1.7940694875529803, 'tol': 0.0006986759624236497}. Best is trial 100 with value: 0.058988505696960715.\n",
      "[I 2025-05-10 03:18:12,312] Trial 132 finished with value: 0.058988507309994616 and parameters: {'alpha': 1.7058264959983906, 'tol': 1.6435393236191196e-05}. Best is trial 100 with value: 0.058988505696960715.\n",
      "[I 2025-05-10 03:18:16,513] Trial 133 finished with value: 0.05898855797446959 and parameters: {'alpha': 2.138854213048422, 'tol': 0.000957892963201742}. Best is trial 100 with value: 0.058988505696960715.\n",
      "[I 2025-05-10 03:18:18,303] Trial 134 finished with value: 0.05898851378810111 and parameters: {'alpha': 1.8180288573568324, 'tol': 0.0011050320861480888}. Best is trial 100 with value: 0.058988505696960715.\n",
      "[I 2025-05-10 03:18:20,052] Trial 135 finished with value: 0.05898851519838658 and parameters: {'alpha': 1.8351228004520843, 'tol': 0.0017793014823850586}. Best is trial 100 with value: 0.058988505696960715.\n",
      "[I 2025-05-10 03:18:24,214] Trial 136 finished with value: 0.058988517976272865 and parameters: {'alpha': 1.8655084022825954, 'tol': 0.00022576066067631873}. Best is trial 100 with value: 0.058988505696960715.\n",
      "[I 2025-05-10 03:18:28,430] Trial 137 finished with value: 0.05898896916001293 and parameters: {'alpha': 0.24082945104982523, 'tol': 0.00022658505071852407}. Best is trial 100 with value: 0.058988505696960715.\n",
      "[I 2025-05-10 03:18:30,198] Trial 138 finished with value: 0.05898854117140446 and parameters: {'alpha': 2.0443799621865844, 'tol': 3.272749181074088e-05}. Best is trial 100 with value: 0.058988505696960715.\n",
      "[I 2025-05-10 03:18:31,995] Trial 139 finished with value: 0.05898867233722666 and parameters: {'alpha': 0.7609988544975593, 'tol': 0.00018889440895674152}. Best is trial 100 with value: 0.058988505696960715.\n",
      "[I 2025-05-10 03:18:35,607] Trial 140 finished with value: 0.05898853713066603 and parameters: {'alpha': 2.018652289132689, 'tol': 0.00013213682352041512}. Best is trial 100 with value: 0.058988505696960715.\n",
      "[I 2025-05-10 03:18:39,695] Trial 141 finished with value: 0.05898857200019254 and parameters: {'alpha': 1.065721770715616, 'tol': 0.0001033759724963143}. Best is trial 100 with value: 0.058988505696960715.\n",
      "[I 2025-05-10 03:18:41,432] Trial 142 finished with value: 0.058988708774301055 and parameters: {'alpha': 2.678396500889869, 'tol': 0.0010672158828743694}. Best is trial 100 with value: 0.058988505696960715.\n",
      "[I 2025-05-10 03:18:43,285] Trial 143 finished with value: 0.05898913492006336 and parameters: {'alpha': 3.5777268280119356, 'tol': 0.0018466168671646558}. Best is trial 100 with value: 0.058988505696960715.\n",
      "[I 2025-05-10 03:18:47,379] Trial 144 finished with value: 0.05898859873442868 and parameters: {'alpha': 2.3208034217863487, 'tol': 0.0018061075019707579}. Best is trial 100 with value: 0.058988505696960715.\n",
      "[I 2025-05-10 03:18:52,119] Trial 145 finished with value: 0.0589885121607829 and parameters: {'alpha': 1.7963781961599923, 'tol': 0.0020624389021593166}. Best is trial 100 with value: 0.058988505696960715.\n",
      "[I 2025-05-10 03:18:53,319] Trial 146 finished with value: 0.058988618432300285 and parameters: {'alpha': 2.395112436783719, 'tol': 0.0029777660773766795}. Best is trial 100 with value: 0.058988505696960715.\n",
      "[I 2025-05-10 03:18:55,050] Trial 147 finished with value: 0.05898850577919203 and parameters: {'alpha': 1.6367329895007012, 'tol': 0.002075937529365659}. Best is trial 100 with value: 0.058988505696960715.\n",
      "[I 2025-05-10 03:18:58,037] Trial 148 finished with value: 0.05898859909208883 and parameters: {'alpha': 2.322213479075021, 'tol': 0.0032505934843034103}. Best is trial 100 with value: 0.058988505696960715.\n",
      "[I 2025-05-10 03:19:03,929] Trial 149 finished with value: 0.0589885417176397 and parameters: {'alpha': 2.0477487101553167, 'tol': 0.003787569414256367}. Best is trial 100 with value: 0.058988505696960715.\n",
      "[I 2025-05-10 03:19:05,179] Trial 151 finished with value: 0.05898857675979189 and parameters: {'alpha': 1.0470022522745996, 'tol': 0.0016086960649512204}. Best is trial 100 with value: 0.058988505696960715.\n",
      "[I 2025-05-10 03:19:06,328] Trial 150 finished with value: 0.05898852917031915 and parameters: {'alpha': 1.2840352312969725, 'tol': 0.0019193048168519844}. Best is trial 100 with value: 0.058988505696960715.\n",
      "[I 2025-05-10 03:19:08,731] Trial 152 finished with value: 0.058988519890501565 and parameters: {'alpha': 1.3567258090090015, 'tol': 0.001691984172717368}. Best is trial 100 with value: 0.058988505696960715.\n",
      "[I 2025-05-10 03:19:15,336] Trial 153 finished with value: 0.058988581036360226 and parameters: {'alpha': 1.0307483573571723, 'tol': 0.0017285869103860277}. Best is trial 100 with value: 0.058988505696960715.\n",
      "[I 2025-05-10 03:19:15,986] Trial 154 finished with value: 0.058988585262375444 and parameters: {'alpha': 1.0151669149119606, 'tol': 0.002037288708343094}. Best is trial 100 with value: 0.058988505696960715.\n",
      "[I 2025-05-10 03:19:17,181] Trial 155 finished with value: 0.05898850782184924 and parameters: {'alpha': 1.5148244988588215, 'tol': 0.0023261556766416146}. Best is trial 100 with value: 0.058988505696960715.\n",
      "[I 2025-05-10 03:19:18,982] Trial 156 finished with value: 0.05898852620328754 and parameters: {'alpha': 1.305319674363266, 'tol': 0.0018770005421976427}. Best is trial 100 with value: 0.058988505696960715.\n",
      "[I 2025-05-10 03:19:25,969] Trial 157 finished with value: 0.0589885440420759 and parameters: {'alpha': 2.0618205917127335, 'tol': 0.0016216913411257643}. Best is trial 100 with value: 0.058988505696960715.\n",
      "[I 2025-05-10 03:19:27,767] Trial 158 finished with value: 0.05898857622712444 and parameters: {'alpha': 2.226361475670103, 'tol': 0.0010751853854178233}. Best is trial 100 with value: 0.058988505696960715.\n",
      "[I 2025-05-10 03:19:30,140] Trial 159 finished with value: 0.05898861824043276 and parameters: {'alpha': 2.3944185941284495, 'tol': 0.0014795655013264595}. Best is trial 100 with value: 0.058988505696960715.\n",
      "[I 2025-05-10 03:19:31,334] Trial 160 finished with value: 0.0589887016430008 and parameters: {'alpha': 2.6584227250631165, 'tol': 0.0023563786984922798}. Best is trial 100 with value: 0.058988505696960715.\n",
      "[I 2025-05-10 03:19:38,017] Trial 161 finished with value: 0.058988705171318406 and parameters: {'alpha': 2.6683442432603135, 'tol': 0.0014417615488497553}. Best is trial 100 with value: 0.058988505696960715.\n",
      "[I 2025-05-10 03:19:39,220] Trial 162 finished with value: 0.058988596241561844 and parameters: {'alpha': 2.3109055280001, 'tol': 0.0025296266217699997}. Best is trial 100 with value: 0.058988505696960715.\n",
      "[I 2025-05-10 03:19:42,186] Trial 163 finished with value: 0.05898851998310313 and parameters: {'alpha': 1.885418940101248, 'tol': 0.0036317920901395313}. Best is trial 100 with value: 0.058988505696960715.\n",
      "[I 2025-05-10 03:19:42,812] Trial 164 finished with value: 0.058988534029851145 and parameters: {'alpha': 1.9978225961883727, 'tol': 0.003121643456388559}. Best is trial 100 with value: 0.058988505696960715.\n",
      "[I 2025-05-10 03:19:49,289] Trial 165 finished with value: 0.05898850739300583 and parameters: {'alpha': 1.7081099864583063, 'tol': 0.003659850363557002}. Best is trial 100 with value: 0.058988505696960715.\n",
      "[I 2025-05-10 03:19:51,079] Trial 166 finished with value: 0.05898851915211838 and parameters: {'alpha': 1.3634591624211574, 'tol': 0.0031163969509761724}. Best is trial 100 with value: 0.058988505696960715.\n",
      "[I 2025-05-10 03:19:55,268] Trial 168 finished with value: 0.05898914081152614 and parameters: {'alpha': 0.030632715435951807, 'tol': 0.0015044209840686217}. Best is trial 100 with value: 0.058988505696960715.\n",
      "[I 2025-05-10 03:19:55,283] Trial 167 finished with value: 0.058989128272889914 and parameters: {'alpha': 0.04472916096731594, 'tol': 0.0014359189307643027}. Best is trial 100 with value: 0.058988505696960715.\n",
      "[I 2025-05-10 03:20:01,100] Trial 169 finished with value: 0.05898858490173244 and parameters: {'alpha': 2.2642078593578647, 'tol': 0.005641686050932239}. Best is trial 100 with value: 0.058988505696960715.\n",
      "[I 2025-05-10 03:20:02,909] Trial 170 finished with value: 0.05898855748062504 and parameters: {'alpha': 2.1363026333552133, 'tol': 0.00545564720242147}. Best is trial 100 with value: 0.058988505696960715.\n",
      "[I 2025-05-10 03:20:06,510] Trial 171 finished with value: 0.0589885250019817 and parameters: {'alpha': 1.314390861350812, 'tol': 0.005424518281655849}. Best is trial 100 with value: 0.058988505696960715.\n",
      "[I 2025-05-10 03:20:07,113] Trial 172 finished with value: 0.05898855452944492 and parameters: {'alpha': 2.1208103276505352, 'tol': 0.004939487205429923}. Best is trial 100 with value: 0.058988505696960715.\n",
      "[I 2025-05-10 03:20:12,472] Trial 173 finished with value: 0.05898852740992606 and parameters: {'alpha': 1.9493346363349475, 'tol': 0.0038971805657930817}. Best is trial 100 with value: 0.058988505696960715.\n",
      "[I 2025-05-10 03:20:14,240] Trial 174 finished with value: 0.058992011486176624 and parameters: {'alpha': 7.015799831516942, 'tol': 0.008024324120474635}. Best is trial 100 with value: 0.058988505696960715.\n",
      "[I 2025-05-10 03:20:18,306] Trial 175 finished with value: 0.05899041301948078 and parameters: {'alpha': 5.328162976542224, 'tol': 0.006078185403910258}. Best is trial 100 with value: 0.058988505696960715.\n",
      "[I 2025-05-10 03:20:20,645] Trial 176 finished with value: 0.05898850637455152 and parameters: {'alpha': 1.6742826910257071, 'tol': 0.0013234477362425395}. Best is trial 100 with value: 0.058988505696960715.\n",
      "[I 2025-05-10 03:20:23,642] Trial 177 finished with value: 0.05898851020738978 and parameters: {'alpha': 1.7664702694603245, 'tol': 1.0609318952636403e-05}. Best is trial 100 with value: 0.058988505696960715.\n",
      "[I 2025-05-10 03:20:27,226] Trial 178 finished with value: 0.05898856545316781 and parameters: {'alpha': 1.0926877722019652, 'tol': 0.002150627176426729}. Best is trial 100 with value: 0.058988505696960715.\n",
      "[I 2025-05-10 03:20:28,978] Trial 179 finished with value: 0.058988506416408966 and parameters: {'alpha': 1.557040932201708, 'tol': 0.002817291721319716}. Best is trial 100 with value: 0.058988505696960715.\n",
      "[I 2025-05-10 03:20:32,482] Trial 180 finished with value: 0.0589885134289497 and parameters: {'alpha': 1.8134481188257907, 'tol': 0.00011153043814292893}. Best is trial 100 with value: 0.058988505696960715.\n",
      "[I 2025-05-10 03:20:34,859] Trial 181 finished with value: 0.05898850961566838 and parameters: {'alpha': 1.7561936369348172, 'tol': 0.0010738687422661424}. Best is trial 100 with value: 0.058988505696960715.\n",
      "[I 2025-05-10 03:20:38,997] Trial 182 finished with value: 0.05898850705960312 and parameters: {'alpha': 1.6985619975742374, 'tol': 0.0017826246123366083}. Best is trial 100 with value: 0.058988505696960715.\n",
      "[I 2025-05-10 03:20:40,761] Trial 183 finished with value: 0.05898861045737512 and parameters: {'alpha': 0.9303873924161835, 'tol': 0.003908299778819846}. Best is trial 100 with value: 0.058988505696960715.\n",
      "[I 2025-05-10 03:20:44,314] Trial 184 finished with value: 0.058988641826351926 and parameters: {'alpha': 0.8391644182713455, 'tol': 0.00417610644160084}. Best is trial 100 with value: 0.058988505696960715.\n",
      "[I 2025-05-10 03:20:46,059] Trial 185 finished with value: 0.05898855752786496 and parameters: {'alpha': 1.1275350908355686, 'tol': 0.0035085581629200613}. Best is trial 100 with value: 0.058988505696960715.\n",
      "[I 2025-05-10 03:20:50,127] Trial 186 finished with value: 0.058988505803359965 and parameters: {'alpha': 1.639465641664591, 'tol': 0.0031545336821904354}. Best is trial 100 with value: 0.058988505696960715.\n",
      "[I 2025-05-10 03:20:51,358] Trial 187 finished with value: 0.05898850637452178 and parameters: {'alpha': 1.5587802223038094, 'tol': 0.0026271496001086274}. Best is trial 100 with value: 0.058988505696960715.\n",
      "[I 2025-05-10 03:20:56,022] Trial 188 finished with value: 0.05898976118389637 and parameters: {'alpha': 4.518140824410548, 'tol': 0.0028140277832447284}. Best is trial 100 with value: 0.058988505696960715.\n",
      "[I 2025-05-10 03:20:57,210] Trial 189 finished with value: 0.05898850574851608 and parameters: {'alpha': 1.6326202060734496, 'tol': 0.002201268762602442}. Best is trial 100 with value: 0.058988505696960715.\n",
      "[I 2025-05-10 03:21:01,932] Trial 190 finished with value: 0.058988837751103994 and parameters: {'alpha': 2.9984315288170045, 'tol': 0.003321709344966933}. Best is trial 100 with value: 0.058988505696960715.\n",
      "[I 2025-05-10 03:21:03,126] Trial 191 finished with value: 0.05898955762130387 and parameters: {'alpha': 4.237000609412972, 'tol': 0.004050465431894977}. Best is trial 100 with value: 0.058988505696960715.\n",
      "[I 2025-05-10 03:21:07,281] Trial 192 finished with value: 0.05898857509913585 and parameters: {'alpha': 2.2212853228304312, 'tol': 0.0030337505262143507}. Best is trial 100 with value: 0.058988505696960715.\n",
      "[I 2025-05-10 03:21:08,501] Trial 193 finished with value: 0.05898857083819245 and parameters: {'alpha': 2.201755400095431, 'tol': 0.003348662307369948}. Best is trial 100 with value: 0.058988505696960715.\n",
      "[I 2025-05-10 03:21:13,826] Trial 194 finished with value: 0.05898850961006837 and parameters: {'alpha': 1.7560928644485994, 'tol': 0.00312975517782292}. Best is trial 100 with value: 0.058988505696960715.\n",
      "[I 2025-05-10 03:21:14,438] Trial 195 finished with value: 0.058988538135580276 and parameters: {'alpha': 1.2271303153565591, 'tol': 0.0032144330135934806}. Best is trial 100 with value: 0.058988505696960715.\n",
      "[I 2025-05-10 03:21:19,167] Trial 197 finished with value: 0.05898851347528706 and parameters: {'alpha': 1.8140448631532768, 'tol': 0.002798148115961145}. Best is trial 100 with value: 0.058988505696960715.\n",
      "[I 2025-05-10 03:21:19,734] Trial 196 finished with value: 0.058988512229641 and parameters: {'alpha': 1.4392668612015123, 'tol': 0.0030793301758666384}. Best is trial 100 with value: 0.058988505696960715.\n",
      "[I 2025-05-10 03:21:25,005] Trial 199 finished with value: 0.05898853729245072 and parameters: {'alpha': 1.23209818565955, 'tol': 0.0023386501273881134}. Best is trial 100 with value: 0.058988505696960715.\n",
      "[I 2025-05-10 03:21:25,601] Trial 198 finished with value: 0.05898862325706816 and parameters: {'alpha': 0.8915702060955399, 'tol': 0.0025446894210166488}. Best is trial 100 with value: 0.058988505696960715.\n",
      "[I 2025-05-10 03:21:31,410] Trial 201 finished with value: 0.05898858129084651 and parameters: {'alpha': 1.0297969563808933, 'tol': 0.002184772264413624}. Best is trial 100 with value: 0.058988505696960715.\n",
      "[I 2025-05-10 03:21:31,422] Trial 200 finished with value: 0.05898851581345932 and parameters: {'alpha': 1.396596576564885, 'tol': 0.0024402021888983595}. Best is trial 100 with value: 0.058988505696960715.\n",
      "[I 2025-05-10 03:21:36,673] Trial 202 finished with value: 0.05898852213279853 and parameters: {'alpha': 1.3373195696389586, 'tol': 0.001652395158381706}. Best is trial 100 with value: 0.058988505696960715.\n",
      "[I 2025-05-10 03:21:37,344] Trial 203 finished with value: 0.058988506155127504 and parameters: {'alpha': 1.5689338865385096, 'tol': 0.0015971258581362565}. Best is trial 100 with value: 0.058988505696960715.\n",
      "[I 2025-05-10 03:21:43,810] Trial 204 finished with value: 0.058988886114487105 and parameters: {'alpha': 3.1040808059866523, 'tol': 0.001657393999848543}. Best is trial 100 with value: 0.058988505696960715.\n",
      "[I 2025-05-10 03:21:43,814] Trial 205 finished with value: 0.05898860913044263 and parameters: {'alpha': 2.3608298561707777, 'tol': 0.002042290510214793}. Best is trial 100 with value: 0.058988505696960715.\n",
      "[I 2025-05-10 03:21:47,403] Trial 206 finished with value: 0.05898883296293203 and parameters: {'alpha': 2.987630437391336, 'tol': 0.001974749105387027}. Best is trial 100 with value: 0.058988505696960715.\n",
      "[I 2025-05-10 03:21:48,606] Trial 207 finished with value: 0.05898904179166456 and parameters: {'alpha': 3.4112850488822737, 'tol': 0.0016007321947044814}. Best is trial 100 with value: 0.058988505696960715.\n",
      "[I 2025-05-10 03:21:53,304] Trial 208 finished with value: 0.058988567850250195 and parameters: {'alpha': 1.0826396431003593, 'tol': 0.0010314993906011352}. Best is trial 100 with value: 0.058988505696960715.\n",
      "[I 2025-05-10 03:21:55,029] Trial 209 finished with value: 0.05898854504555462 and parameters: {'alpha': 1.188741351505266, 'tol': 0.0010505842864580988}. Best is trial 100 with value: 0.058988505696960715.\n",
      "[I 2025-05-10 03:21:59,216] Trial 210 finished with value: 0.05898853443305276 and parameters: {'alpha': 2.0005905097671244, 'tol': 0.0017218958239502422}. Best is trial 100 with value: 0.058988505696960715.\n",
      "[I 2025-05-10 03:22:00,393] Trial 211 finished with value: 0.058988510858010955 and parameters: {'alpha': 1.4587477454487636, 'tol': 0.001711394584102389}. Best is trial 100 with value: 0.058988505696960715.\n",
      "[I 2025-05-10 03:22:06,347] Trial 212 finished with value: 0.05898852263217206 and parameters: {'alpha': 1.3331878820372856, 'tol': 0.0012609777857924454}. Best is trial 100 with value: 0.058988505696960715.\n",
      "[I 2025-05-10 03:22:06,347] Trial 213 finished with value: 0.05898850619038439 and parameters: {'alpha': 1.6657908873149814, 'tol': 0.001363293787697024}. Best is trial 100 with value: 0.058988505696960715.\n",
      "[I 2025-05-10 03:22:09,412] Trial 214 finished with value: 0.058988519001782695 and parameters: {'alpha': 1.364853262523874, 'tol': 0.0017406146769314234}. Best is trial 100 with value: 0.058988505696960715.\n",
      "[I 2025-05-10 03:22:12,302] Trial 215 finished with value: 0.05898850580594381 and parameters: {'alpha': 1.6397389530435795, 'tol': 0.0017654062497392366}. Best is trial 100 with value: 0.058988505696960715.\n",
      "[I 2025-05-10 03:22:18,129] Trial 216 finished with value: 0.058988710348124404 and parameters: {'alpha': 2.682762865386983, 'tol': 3.8637582081628e-05}. Best is trial 100 with value: 0.058988505696960715.\n",
      "[I 2025-05-10 03:22:18,135] Trial 217 finished with value: 0.05898862422830789 and parameters: {'alpha': 2.4158257823490126, 'tol': 0.0008648314162700945}. Best is trial 100 with value: 0.058988505696960715.\n",
      "[I 2025-05-10 03:22:20,595] Trial 218 finished with value: 0.05898867886447242 and parameters: {'alpha': 2.5923709024914894, 'tol': 0.00026320070714788864}. Best is trial 100 with value: 0.058988505696960715.\n",
      "[I 2025-05-10 03:22:24,070] Trial 219 finished with value: 0.05898873493880733 and parameters: {'alpha': 2.74917823902988, 'tol': 0.0007623532210102237}. Best is trial 100 with value: 0.058988505696960715.\n",
      "[I 2025-05-10 03:22:27,536] Trial 221 finished with value: 0.05898854615724783 and parameters: {'alpha': 1.1829073254331712, 'tol': 0.00015185787111078044}. Best is trial 100 with value: 0.058988505696960715.\n",
      "[I 2025-05-10 03:22:28,151] Trial 220 finished with value: 0.0589891262824742 and parameters: {'alpha': 0.04698268533227168, 'tol': 0.007621589268232244}. Best is trial 100 with value: 0.058988505696960715.\n",
      "[I 2025-05-10 03:22:31,609] Trial 222 finished with value: 0.058988587008420766 and parameters: {'alpha': 1.0088595272758931, 'tol': 0.00025489659855443335}. Best is trial 100 with value: 0.058988505696960715.\n",
      "[I 2025-05-10 03:22:35,191] Trial 223 finished with value: 0.0589885456338964 and parameters: {'alpha': 1.1856431348672045, 'tol': 0.0011907084795877057}. Best is trial 100 with value: 0.058988505696960715.\n",
      "[I 2025-05-10 03:22:38,084] Trial 224 finished with value: 0.058988506479102594 and parameters: {'alpha': 1.678595068970745, 'tol': 0.0025489804032179566}. Best is trial 100 with value: 0.058988505696960715.\n",
      "[I 2025-05-10 03:22:39,239] Trial 225 finished with value: 0.05898850593112741 and parameters: {'alpha': 1.650463725943724, 'tol': 0.0024421715998779}. Best is trial 100 with value: 0.058988505696960715.\n",
      "[I 2025-05-10 03:22:43,345] Trial 226 finished with value: 0.0589889555313095 and parameters: {'alpha': 0.25939315482747305, 'tol': 0.0030217765348625482}. Best is trial 100 with value: 0.058988505696960715.\n",
      "[I 2025-05-10 03:22:46,864] Trial 227 finished with value: 0.0589888336483512 and parameters: {'alpha': 0.44253066173397926, 'tol': 0.0027255292396656697}. Best is trial 100 with value: 0.058988505696960715.\n",
      "[I 2025-05-10 03:22:49,290] Trial 228 finished with value: 0.0589886636409358 and parameters: {'alpha': 2.54605853111621, 'tol': 0.0028317944830771823}. Best is trial 100 with value: 0.058988505696960715.\n",
      "[I 2025-05-10 03:22:49,910] Trial 229 finished with value: 0.05898910268232544 and parameters: {'alpha': 0.0740433389142734, 'tol': 0.003432492433081086}. Best is trial 100 with value: 0.058988505696960715.\n",
      "[I 2025-05-10 03:22:54,133] Trial 230 finished with value: 0.05898865193828285 and parameters: {'alpha': 2.5090882813537645, 'tol': 0.0023440887565815928}. Best is trial 100 with value: 0.058988505696960715.\n",
      "[I 2025-05-10 03:22:57,698] Trial 231 finished with value: 0.05898859764590566 and parameters: {'alpha': 2.316496604710152, 'tol': 0.0033416615698193693}. Best is trial 100 with value: 0.058988505696960715.\n",
      "[I 2025-05-10 03:23:00,625] Trial 232 finished with value: 0.05898880088804624 and parameters: {'alpha': 2.9134728998667776, 'tol': 0.0033237206638763676}. Best is trial 100 with value: 0.058988505696960715.\n",
      "[I 2025-05-10 03:23:01,827] Trial 233 finished with value: 0.05898854060909544 and parameters: {'alpha': 2.040886287624478, 'tol': 0.0026888287982862456}. Best is trial 100 with value: 0.058988505696960715.\n",
      "[I 2025-05-10 03:23:06,562] Trial 234 finished with value: 0.05898857359955918 and parameters: {'alpha': 2.2144772931869445, 'tol': 0.0024014382771901923}. Best is trial 100 with value: 0.058988505696960715.\n",
      "[I 2025-05-10 03:23:10,054] Trial 235 finished with value: 0.058988544630636894 and parameters: {'alpha': 2.0653190741901226, 'tol': 0.002394912787033679}. Best is trial 100 with value: 0.058988505696960715.\n",
      "[I 2025-05-10 03:23:11,816] Trial 236 finished with value: 0.058988505751023726 and parameters: {'alpha': 1.5996891938949591, 'tol': 0.0025446729971152077}. Best is trial 100 with value: 0.058988505696960715.\n",
      "[I 2025-05-10 03:23:13,027] Trial 237 finished with value: 0.05898850706570478 and parameters: {'alpha': 1.6987465222631013, 'tol': 0.002152453873703455}. Best is trial 100 with value: 0.058988505696960715.\n",
      "[I 2025-05-10 03:23:17,725] Trial 238 finished with value: 0.05898852274223043 and parameters: {'alpha': 1.3322858116948941, 'tol': 0.0019645014144301504}. Best is trial 100 with value: 0.058988505696960715.\n",
      "[I 2025-05-10 03:23:21,786] Trial 239 finished with value: 0.058988510484133845 and parameters: {'alpha': 1.7710485545537227, 'tol': 0.0021832162900775197}. Best is trial 100 with value: 0.058988505696960715.\n",
      "[I 2025-05-10 03:23:23,570] Trial 240 finished with value: 0.05898852708312244 and parameters: {'alpha': 1.2988499050724187, 'tol': 0.0017974752247032324}. Best is trial 100 with value: 0.058988505696960715.\n",
      "[I 2025-05-10 03:23:25,334] Trial 241 finished with value: 0.058988511959859366 and parameters: {'alpha': 1.4429201092296502, 'tol': 0.002078018046487933}. Best is trial 100 with value: 0.058988505696960715.\n",
      "[I 2025-05-10 03:23:29,524] Trial 242 finished with value: 0.05898856478235257 and parameters: {'alpha': 2.1729443758880453, 'tol': 0.0012370449021332167}. Best is trial 100 with value: 0.058988505696960715.\n",
      "[I 2025-05-10 03:23:33,643] Trial 243 finished with value: 0.0589885414456437 and parameters: {'alpha': 2.046074303371773, 'tol': 0.0014330305404856804}. Best is trial 100 with value: 0.058988505696960715.\n",
      "[I 2025-05-10 03:23:35,462] Trial 244 finished with value: 0.058988573394699706 and parameters: {'alpha': 2.213541838576292, 'tol': 0.0013150714895910193}. Best is trial 100 with value: 0.058988505696960715.\n",
      "[I 2025-05-10 03:23:37,240] Trial 245 finished with value: 0.058988542218062066 and parameters: {'alpha': 2.050813724213679, 'tol': 0.0014317183967931535}. Best is trial 100 with value: 0.058988505696960715.\n",
      "[I 2025-05-10 03:23:41,370] Trial 246 finished with value: 0.05899295926782735 and parameters: {'alpha': 7.914228755236503, 'tol': 0.00486372749296466}. Best is trial 100 with value: 0.058988505696960715.\n",
      "[I 2025-05-10 03:23:43,712] Trial 247 finished with value: 0.05898850833820613 and parameters: {'alpha': 1.5032567292871803, 'tol': 0.0031508731674421264}. Best is trial 100 with value: 0.058988505696960715.\n",
      "[I 2025-05-10 03:23:45,481] Trial 248 finished with value: 0.05898850878612148 and parameters: {'alpha': 1.7404009906019902, 'tol': 0.00417136310689666}. Best is trial 100 with value: 0.058988505696960715.\n",
      "[I 2025-05-10 03:23:46,069] Trial 249 finished with value: 0.058988558436036176 and parameters: {'alpha': 1.1234042972891671, 'tol': 0.0031420623709571406}. Best is trial 100 with value: 0.058988505696960715.\n"
     ]
    }
   ],
   "source": [
    "def objective(trial):    \n",
    "    params = {\n",
    "        \"random_state\": CFG.seed,\n",
    "        \"alpha\": trial.suggest_float(\"alpha\", 0, 10),\n",
    "        \"tol\": trial.suggest_float(\"tol\", 1e-6, 1e-2)\n",
    "    }\n",
    "    \n",
    "    trainer = Trainer(\n",
    "        Ridge(**params),\n",
    "        cv=CFG.cv,\n",
    "        metric=CFG.metric,\n",
    "        task=\"regression\",\n",
    "        verbose=False\n",
    "    )\n",
    "    trainer.fit(X, y)\n",
    "    \n",
    "    return trainer.overall_score\n",
    "\n",
    "if CFG.run_optuna:\n",
    "    sampler = optuna.samplers.TPESampler(seed=CFG.seed, multivariate=True)\n",
    "    study = optuna.create_study(direction=\"minimize\", sampler=sampler)\n",
    "    study.optimize(objective, n_trials=CFG.n_optuna_trials, n_jobs=-1, catch=(ValueError,))\n",
    "    best_params = study.best_params\n",
    "\n",
    "    ridge_params = {\n",
    "        \"random_state\": CFG.seed,\n",
    "        \"alpha\": best_params[\"alpha\"],\n",
    "        \"tol\": best_params[\"tol\"]\n",
    "    }\n",
    "else:\n",
    "    ridge_params = {\n",
    "        \"random_state\": CFG.seed\n",
    "    }"
   ]
  },
  {
   "cell_type": "code",
   "execution_count": 29,
   "id": "9b3a0ee6",
   "metadata": {
    "execution": {
     "iopub.execute_input": "2025-05-10T03:23:46.118207Z",
     "iopub.status.busy": "2025-05-10T03:23:46.117967Z",
     "iopub.status.idle": "2025-05-10T03:23:46.121875Z",
     "shell.execute_reply": "2025-05-10T03:23:46.121145Z"
    },
    "papermill": {
     "duration": 0.025683,
     "end_time": "2025-05-10T03:23:46.123018",
     "exception": false,
     "start_time": "2025-05-10T03:23:46.097335",
     "status": "completed"
    },
    "tags": []
   },
   "outputs": [
    {
     "name": "stdout",
     "output_type": "stream",
     "text": [
      "{\n",
      "  \"random_state\": 42,\n",
      "  \"alpha\": 1.619814197421012,\n",
      "  \"tol\": 0.001442808364273992\n",
      "}\n"
     ]
    }
   ],
   "source": [
    "print(json.dumps(ridge_params, indent=2))"
   ]
  },
  {
   "cell_type": "code",
   "execution_count": 30,
   "id": "edc8b9ab",
   "metadata": {
    "execution": {
     "iopub.execute_input": "2025-05-10T03:23:46.164793Z",
     "iopub.status.busy": "2025-05-10T03:23:46.164517Z",
     "iopub.status.idle": "2025-05-10T03:23:49.345473Z",
     "shell.execute_reply": "2025-05-10T03:23:49.344660Z"
    },
    "papermill": {
     "duration": 3.202767,
     "end_time": "2025-05-10T03:23:49.346486",
     "exception": false,
     "start_time": "2025-05-10T03:23:46.143719",
     "status": "completed"
    },
    "tags": []
   },
   "outputs": [
    {
     "name": "stdout",
     "output_type": "stream",
     "text": [
      "Training Ridge\n",
      "\n",
      "--- Fold 0 - root_mean_squared_error: 0.0588 - Time: 0.07 s\n",
      "--- Fold 1 - root_mean_squared_error: 0.0595 - Time: 0.07 s\n",
      "--- Fold 2 - root_mean_squared_error: 0.0588 - Time: 0.07 s\n",
      "--- Fold 3 - root_mean_squared_error: 0.0592 - Time: 0.07 s\n",
      "--- Fold 4 - root_mean_squared_error: 0.0585 - Time: 0.07 s\n",
      "\n",
      "------ Overall root_mean_squared_error: 0.0590 - Mean root_mean_squared_error: 0.0590 ± 0.0004 - Time: 3.15 s\n"
     ]
    }
   ],
   "source": [
    "ridge_trainer = Trainer(\n",
    "    Ridge(**ridge_params),\n",
    "    cv=CFG.cv,\n",
    "    metric=CFG.metric,\n",
    "    task=\"regression\"\n",
    ")\n",
    "\n",
    "ridge_trainer.fit(X, y)\n",
    "\n",
    "scores[\"Ridge (ensemble)\"] = ridge_trainer.fold_scores\n",
    "ridge_test_preds = np.expm1(ridge_trainer.predict(X_test))"
   ]
  },
  {
   "cell_type": "code",
   "execution_count": 31,
   "id": "d1130b90",
   "metadata": {
    "execution": {
     "iopub.execute_input": "2025-05-10T03:23:49.388541Z",
     "iopub.status.busy": "2025-05-10T03:23:49.388293Z",
     "iopub.status.idle": "2025-05-10T03:23:49.600640Z",
     "shell.execute_reply": "2025-05-10T03:23:49.599968Z"
    },
    "papermill": {
     "duration": 0.234447,
     "end_time": "2025-05-10T03:23:49.601738",
     "exception": false,
     "start_time": "2025-05-10T03:23:49.367291",
     "status": "completed"
    },
    "tags": []
   },
   "outputs": [
    {
     "data": {
      "image/png": "[encoded data removed]",
      "text/plain": [
       "<Figure size 1000x400 with 1 Axes>"
      ]
     },
     "metadata": {},
     "output_type": "display_data"
    }
   ],
   "source": [
    "ridge_coeffs = np.zeros((1, X.shape[1]))\n",
    "for m in ridge_trainer.estimators:\n",
    "    ridge_coeffs += m.coef_\n",
    "ridge_coeffs = ridge_coeffs / len(ridge_trainer.estimators)\n",
    "\n",
    "plot_weights(ridge_coeffs, \"Ridge Coefficients\")"
   ]
  },
  {
   "cell_type": "markdown",
   "id": "f68d1fe9",
   "metadata": {
    "papermill": {
     "duration": 0.019749,
     "end_time": "2025-05-10T03:23:49.642670",
     "exception": false,
     "start_time": "2025-05-10T03:23:49.622921",
     "status": "completed"
    },
    "tags": []
   },
   "source": [
    "# Submission"
   ]
  },
  {
   "cell_type": "code",
   "execution_count": 32,
   "id": "75ee5ec7",
   "metadata": {
    "execution": {
     "iopub.execute_input": "2025-05-10T03:23:49.683335Z",
     "iopub.status.busy": "2025-05-10T03:23:49.683094Z",
     "iopub.status.idle": "2025-05-10T03:23:50.064934Z",
     "shell.execute_reply": "2025-05-10T03:23:50.064338Z"
    },
    "papermill": {
     "duration": 0.4035,
     "end_time": "2025-05-10T03:23:50.065933",
     "exception": false,
     "start_time": "2025-05-10T03:23:49.662433",
     "status": "completed"
    },
    "tags": []
   },
   "outputs": [
    {
     "data": {
      "text/html": [
       "<div>\n",
       "<style scoped>\n",
       "    .dataframe tbody tr th:only-of-type {\n",
       "        vertical-align: middle;\n",
       "    }\n",
       "\n",
       "    .dataframe tbody tr th {\n",
       "        vertical-align: top;\n",
       "    }\n",
       "\n",
       "    .dataframe thead th {\n",
       "        text-align: right;\n",
       "    }\n",
       "</style>\n",
       "<table border=\"1\" class=\"dataframe\">\n",
       "  <thead>\n",
       "    <tr style=\"text-align: right;\">\n",
       "      <th></th>\n",
       "      <th>id</th>\n",
       "      <th>Calories</th>\n",
       "    </tr>\n",
       "  </thead>\n",
       "  <tbody>\n",
       "    <tr>\n",
       "      <th>0</th>\n",
       "      <td>750000</td>\n",
       "      <td>27.195798</td>\n",
       "    </tr>\n",
       "    <tr>\n",
       "      <th>1</th>\n",
       "      <td>750001</td>\n",
       "      <td>107.705986</td>\n",
       "    </tr>\n",
       "    <tr>\n",
       "      <th>2</th>\n",
       "      <td>750002</td>\n",
       "      <td>87.192780</td>\n",
       "    </tr>\n",
       "    <tr>\n",
       "      <th>3</th>\n",
       "      <td>750003</td>\n",
       "      <td>125.749828</td>\n",
       "    </tr>\n",
       "    <tr>\n",
       "      <th>4</th>\n",
       "      <td>750004</td>\n",
       "      <td>75.973667</td>\n",
       "    </tr>\n",
       "  </tbody>\n",
       "</table>\n",
       "</div>"
      ],
      "text/plain": [
       "       id    Calories\n",
       "0  750000   27.195798\n",
       "1  750001  107.705986\n",
       "2  750002   87.192780\n",
       "3  750003  125.749828\n",
       "4  750004   75.973667"
      ]
     },
     "execution_count": 32,
     "metadata": {},
     "output_type": "execute_result"
    }
   ],
   "source": [
    "sub = pd.read_csv(CFG.sample_sub_path)\n",
    "sub[CFG.target] = ridge_test_preds\n",
    "sub.to_csv(f\"sub_ridge_{np.mean(scores['Ridge (ensemble)']):.6f}.csv\", index=False)\n",
    "sub.head()"
   ]
  },
  {
   "cell_type": "markdown",
   "id": "e80e5e1e",
   "metadata": {
    "papermill": {
     "duration": 0.021653,
     "end_time": "2025-05-10T03:23:50.108588",
     "exception": false,
     "start_time": "2025-05-10T03:23:50.086935",
     "status": "completed"
    },
    "tags": []
   },
   "source": [
    "# Results"
   ]
  },
  {
   "cell_type": "code",
   "execution_count": 33,
   "id": "a15e4368",
   "metadata": {
    "execution": {
     "iopub.execute_input": "2025-05-10T03:23:50.150574Z",
     "iopub.status.busy": "2025-05-10T03:23:50.150357Z",
     "iopub.status.idle": "2025-05-10T03:23:50.550631Z",
     "shell.execute_reply": "2025-05-10T03:23:50.549984Z"
    },
    "papermill": {
     "duration": 0.422082,
     "end_time": "2025-05-10T03:23:50.551677",
     "exception": false,
     "start_time": "2025-05-10T03:23:50.129595",
     "status": "completed"
    },
    "tags": []
   },
   "outputs": [
    {
     "data": {
      "image/png": "[encoded data removed]",
      "text/plain": [
       "<Figure size 1500x270 with 2 Axes>"
      ]
     },
     "metadata": {},
     "output_type": "display_data"
    }
   ],
   "source": [
    "scores = pd.DataFrame(scores)\n",
    "mean_scores = scores.mean().sort_values(ascending=True)\n",
    "order = scores.mean().sort_values(ascending=True).index.tolist()\n",
    "\n",
    "min_score = mean_scores.min()\n",
    "max_score = mean_scores.max()\n",
    "padding = (max_score - min_score) * 0.5\n",
    "lower_limit = min_score - padding\n",
    "upper_limit = max_score + padding\n",
    "\n",
    "fig, axs = plt.subplots(1, 2, figsize=(15, scores.shape[1] * 0.3))\n",
    "\n",
    "boxplot = sns.boxplot(data=scores, order=order, ax=axs[0], orient=\"h\", color=\"grey\")\n",
    "axs[0].set_title(f\"Fold {CFG.metric.__name__}\")\n",
    "axs[0].set_xlabel(\"\")\n",
    "axs[0].set_ylabel(\"\")\n",
    "\n",
    "barplot = sns.barplot(x=mean_scores.values, y=mean_scores.index, ax=axs[1], color=\"grey\")\n",
    "axs[1].set_title(f\"Average {CFG.metric.__name__}\")\n",
    "axs[1].set_xlabel(\"\")\n",
    "axs[1].set_xlim(left=lower_limit, right=upper_limit)\n",
    "axs[1].set_ylabel(\"\")\n",
    "\n",
    "for i, (score, model) in enumerate(zip(mean_scores.values, mean_scores.index)):\n",
    "    color = \"cyan\" if \"ensemble\" in model.lower() else \"grey\"\n",
    "    barplot.patches[i].set_facecolor(color)\n",
    "    boxplot.patches[i].set_facecolor(color)\n",
    "    barplot.text(score, i, round(score, 6), va=\"center\")\n",
    "\n",
    "plt.tight_layout()\n",
    "plt.show()"
   ]
  },
  {
   "cell_type": "code",
   "execution_count": 34,
   "id": "58ee7cb1",
   "metadata": {
    "execution": {
     "iopub.execute_input": "2025-05-10T03:23:50.596787Z",
     "iopub.status.busy": "2025-05-10T03:23:50.596524Z",
     "iopub.status.idle": "2025-05-10T03:23:50.601546Z",
     "shell.execute_reply": "2025-05-10T03:23:50.600938Z"
    },
    "papermill": {
     "duration": 0.02834,
     "end_time": "2025-05-10T03:23:50.602579",
     "exception": false,
     "start_time": "2025-05-10T03:23:50.574239",
     "status": "completed"
    },
    "tags": []
   },
   "outputs": [],
   "source": [
    "shutil.rmtree(\"catboost_info\", ignore_errors=True)"
   ]
  }
 ],
 "metadata": {
  "kaggle": {
   "accelerator": "none",
   "dataSources": [
    {
     "databundleVersionId": 11893428,
     "sourceId": 91716,
     "sourceType": "competition"
    },
    {
     "datasetId": 6512323,
     "sourceId": 10522392,
     "sourceType": "datasetVersion"
    },
    {
     "sourceId": 237456322,
     "sourceType": "kernelVersion"
    }
   ],
   "dockerImageVersionId": 31012,
   "isGpuEnabled": false,
   "isInternetEnabled": true,
   "language": "python",
   "sourceType": "notebook"
  },
  "kernelspec": {
   "display_name": "Python 3",
   "language": "python",
   "name": "python3"
  },
  "language_info": {
   "codemirror_mode": {
    "name": "ipython",
    "version": 3
   },
   "file_extension": ".py",
   "mimetype": "text/x-python",
   "name": "python",
   "nbconvert_exporter": "python",
   "pygments_lexer": "ipython3",
   "version": "3.11.11"
  },
  "papermill": {
   "default_parameters": {},
   "duration": 4668.386929,
   "end_time": "2025-05-10T03:23:54.130378",
   "environment_variables": {},
   "exception": null,
   "input_path": "__notebook__.ipynb",
   "output_path": "__notebook__.ipynb",
   "parameters": {},
   "start_time": "2025-05-10T02:06:05.743449",
   "version": "2.6.0"
  }
 },
 "nbformat": 4,
 "nbformat_minor": 5
}
