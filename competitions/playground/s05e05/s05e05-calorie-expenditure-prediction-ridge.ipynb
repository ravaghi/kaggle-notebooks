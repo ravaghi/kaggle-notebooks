{
 "cells": [
  {
   "cell_type": "code",
   "execution_count": 1,
   "id": "13becdd6",
   "metadata": {
    "_kg_hide-output": true,
    "execution": {
     "iopub.execute_input": "2025-05-06T08:34:48.211191Z",
     "iopub.status.busy": "2025-05-06T08:34:48.210277Z",
     "iopub.status.idle": "2025-05-06T08:34:58.576988Z",
     "shell.execute_reply": "2025-05-06T08:34:58.575499Z"
    },
    "papermill": {
     "duration": 10.375988,
     "end_time": "2025-05-06T08:34:58.579063",
     "exception": false,
     "start_time": "2025-05-06T08:34:48.203075",
     "status": "completed"
    },
    "scrolled": true,
    "tags": []
   },
   "outputs": [
    {
     "name": "stdout",
     "output_type": "stream",
     "text": [
      "Collecting koolbox\r\n",
      "  Downloading koolbox-0.1.2-py3-none-any.whl.metadata (2.4 kB)\r\n",
      "Collecting scikit-learn==1.5.2\r\n",
      "  Downloading scikit_learn-1.5.2-cp311-cp311-manylinux_2_17_x86_64.manylinux2014_x86_64.whl.metadata (13 kB)\r\n",
      "Requirement already satisfied: numpy>=1.19.5 in /usr/local/lib/python3.11/dist-packages (from scikit-learn==1.5.2) (1.26.4)\r\n",
      "Requirement already satisfied: scipy>=1.6.0 in /usr/local/lib/python3.11/dist-packages (from scikit-learn==1.5.2) (1.15.2)\r\n",
      "Requirement already satisfied: joblib>=1.2.0 in /usr/local/lib/python3.11/dist-packages (from scikit-learn==1.5.2) (1.4.2)\r\n",
      "Requirement already satisfied: threadpoolctl>=3.1.0 in /usr/local/lib/python3.11/dist-packages (from scikit-learn==1.5.2) (3.6.0)\r\n",
      "Requirement already satisfied: pandas>=1.0.0 in /usr/local/lib/python3.11/dist-packages (from koolbox) (2.2.3)\r\n",
      "Requirement already satisfied: mkl_fft in /usr/local/lib/python3.11/dist-packages (from numpy>=1.19.5->scikit-learn==1.5.2) (1.3.8)\r\n",
      "Requirement already satisfied: mkl_random in /usr/local/lib/python3.11/dist-packages (from numpy>=1.19.5->scikit-learn==1.5.2) (1.2.4)\r\n",
      "Requirement already satisfied: mkl_umath in /usr/local/lib/python3.11/dist-packages (from numpy>=1.19.5->scikit-learn==1.5.2) (0.1.1)\r\n",
      "Requirement already satisfied: mkl in /usr/local/lib/python3.11/dist-packages (from numpy>=1.19.5->scikit-learn==1.5.2) (2025.1.0)\r\n",
      "Requirement already satisfied: tbb4py in /usr/local/lib/python3.11/dist-packages (from numpy>=1.19.5->scikit-learn==1.5.2) (2022.1.0)\r\n",
      "Requirement already satisfied: mkl-service in /usr/local/lib/python3.11/dist-packages (from numpy>=1.19.5->scikit-learn==1.5.2) (2.4.1)\r\n",
      "Requirement already satisfied: python-dateutil>=2.8.2 in /usr/local/lib/python3.11/dist-packages (from pandas>=1.0.0->koolbox) (2.9.0.post0)\r\n",
      "Requirement already satisfied: pytz>=2020.1 in /usr/local/lib/python3.11/dist-packages (from pandas>=1.0.0->koolbox) (2025.2)\r\n",
      "Requirement already satisfied: tzdata>=2022.7 in /usr/local/lib/python3.11/dist-packages (from pandas>=1.0.0->koolbox) (2025.2)\r\n",
      "Requirement already satisfied: six>=1.5 in /usr/local/lib/python3.11/dist-packages (from python-dateutil>=2.8.2->pandas>=1.0.0->koolbox) (1.17.0)\r\n",
      "Requirement already satisfied: intel-openmp<2026,>=2024 in /usr/local/lib/python3.11/dist-packages (from mkl->numpy>=1.19.5->scikit-learn==1.5.2) (2024.2.0)\r\n",
      "Requirement already satisfied: tbb==2022.* in /usr/local/lib/python3.11/dist-packages (from mkl->numpy>=1.19.5->scikit-learn==1.5.2) (2022.1.0)\r\n",
      "Requirement already satisfied: tcmlib==1.* in /usr/local/lib/python3.11/dist-packages (from tbb==2022.*->mkl->numpy>=1.19.5->scikit-learn==1.5.2) (1.2.0)\r\n",
      "Requirement already satisfied: intel-cmplr-lib-rt in /usr/local/lib/python3.11/dist-packages (from mkl_umath->numpy>=1.19.5->scikit-learn==1.5.2) (2024.2.0)\r\n",
      "Requirement already satisfied: intel-cmplr-lib-ur==2024.2.0 in /usr/local/lib/python3.11/dist-packages (from intel-openmp<2026,>=2024->mkl->numpy>=1.19.5->scikit-learn==1.5.2) (2024.2.0)\r\n",
      "Downloading scikit_learn-1.5.2-cp311-cp311-manylinux_2_17_x86_64.manylinux2014_x86_64.whl (13.3 MB)\r\n",
      "\u001b[2K   \u001b[90m━━━━━━━━━━━━━━━━━━━━━━━━━━━━━━━━━━━━━━━━\u001b[0m \u001b[32m13.3/13.3 MB\u001b[0m \u001b[31m76.6 MB/s\u001b[0m eta \u001b[36m0:00:00\u001b[0m\r\n",
      "\u001b[?25hDownloading koolbox-0.1.2-py3-none-any.whl (11 kB)\r\n",
      "Installing collected packages: scikit-learn, koolbox\r\n",
      "  Attempting uninstall: scikit-learn\r\n",
      "    Found existing installation: scikit-learn 1.2.2\r\n",
      "    Uninstalling scikit-learn-1.2.2:\r\n",
      "      Successfully uninstalled scikit-learn-1.2.2\r\n",
      "\u001b[31mERROR: pip's dependency resolver does not currently take into account all the packages that are installed. This behaviour is the source of the following dependency conflicts.\r\n",
      "bigframes 1.36.0 requires rich<14,>=12.4.4, but you have rich 14.0.0 which is incompatible.\u001b[0m\u001b[31m\r\n",
      "\u001b[0mSuccessfully installed koolbox-0.1.2 scikit-learn-1.5.2\r\n"
     ]
    }
   ],
   "source": [
    "!pip install koolbox scikit-learn==1.5.2"
   ]
  },
  {
   "cell_type": "markdown",
   "id": "f5d1d767",
   "metadata": {
    "papermill": {
     "duration": 0.005643,
     "end_time": "2025-05-06T08:34:58.592170",
     "exception": false,
     "start_time": "2025-05-06T08:34:58.586527",
     "status": "completed"
    },
    "tags": []
   },
   "source": [
    "# Imports and configs"
   ]
  },
  {
   "cell_type": "code",
   "execution_count": 2,
   "id": "ff3cd285",
   "metadata": {
    "_kg_hide-output": true,
    "execution": {
     "iopub.execute_input": "2025-05-06T08:34:58.606359Z",
     "iopub.status.busy": "2025-05-06T08:34:58.605904Z",
     "iopub.status.idle": "2025-05-06T08:35:10.063769Z",
     "shell.execute_reply": "2025-05-06T08:35:10.062367Z"
    },
    "papermill": {
     "duration": 11.467958,
     "end_time": "2025-05-06T08:35:10.066105",
     "exception": false,
     "start_time": "2025-05-06T08:34:58.598147",
     "status": "completed"
    },
    "tags": []
   },
   "outputs": [],
   "source": [
    "from sklearn.ensemble import HistGradientBoostingRegressor\n",
    "from sklearn.feature_selection import mutual_info_regression\n",
    "from sklearn.metrics import root_mean_squared_error\n",
    "from sklearn.model_selection import KFold\n",
    "from sklearn.linear_model import Ridge\n",
    "from lightgbm import LGBMRegressor, early_stopping, log_evaluation\n",
    "from catboost import CatBoostRegressor\n",
    "from xgboost import XGBRegressor\n",
    "from koolbox import Trainer\n",
    "import matplotlib.pyplot as plt\n",
    "import seaborn as sns\n",
    "import pandas as pd\n",
    "import numpy as np\n",
    "import warnings\n",
    "import joblib\n",
    "import shutil\n",
    "import optuna\n",
    "import json\n",
    "import glob\n",
    "\n",
    "warnings.filterwarnings(\"ignore\")"
   ]
  },
  {
   "cell_type": "code",
   "execution_count": 3,
   "id": "d610ee86",
   "metadata": {
    "execution": {
     "iopub.execute_input": "2025-05-06T08:35:10.080155Z",
     "iopub.status.busy": "2025-05-06T08:35:10.079544Z",
     "iopub.status.idle": "2025-05-06T08:35:10.087689Z",
     "shell.execute_reply": "2025-05-06T08:35:10.085471Z"
    },
    "papermill": {
     "duration": 0.017336,
     "end_time": "2025-05-06T08:35:10.090005",
     "exception": false,
     "start_time": "2025-05-06T08:35:10.072669",
     "status": "completed"
    },
    "tags": []
   },
   "outputs": [],
   "source": [
    "class CFG:\n",
    "    train_path = \"/kaggle/input/playground-series-s5e5/train.csv\"\n",
    "    test_path = \"/kaggle/input/playground-series-s5e5/test.csv\"\n",
    "    sample_sub_path = \"/kaggle/input/playground-series-s5e5/sample_submission.csv\"\n",
    "    \n",
    "    original_path = \"/kaggle/input/calories-burnt-prediction/calories.csv\"\n",
    "\n",
    "    metric = root_mean_squared_error\n",
    "    target = \"Calories\"\n",
    "    n_folds = 5\n",
    "    seed = 42\n",
    "\n",
    "    cv = KFold(n_splits=n_folds, random_state=seed, shuffle=True)\n",
    "\n",
    "    run_optuna = True\n",
    "    n_optuna_trials = 250"
   ]
  },
  {
   "cell_type": "markdown",
   "id": "a2949191",
   "metadata": {
    "papermill": {
     "duration": 0.00579,
     "end_time": "2025-05-06T08:35:10.102327",
     "exception": false,
     "start_time": "2025-05-06T08:35:10.096537",
     "status": "completed"
    },
    "tags": []
   },
   "source": [
    "# Data loading and preprocessing"
   ]
  },
  {
   "cell_type": "code",
   "execution_count": 4,
   "id": "36230c1e",
   "metadata": {
    "execution": {
     "iopub.execute_input": "2025-05-06T08:35:10.116387Z",
     "iopub.status.busy": "2025-05-06T08:35:10.116071Z",
     "iopub.status.idle": "2025-05-06T08:35:11.499902Z",
     "shell.execute_reply": "2025-05-06T08:35:11.499061Z"
    },
    "papermill": {
     "duration": 1.393403,
     "end_time": "2025-05-06T08:35:11.501692",
     "exception": false,
     "start_time": "2025-05-06T08:35:10.108289",
     "status": "completed"
    },
    "tags": []
   },
   "outputs": [],
   "source": [
    "train = pd.read_csv(CFG.train_path, index_col=\"id\")\n",
    "test = pd.read_csv(CFG.test_path, index_col=\"id\")\n",
    "\n",
    "train[\"Sex\"] = train[\"Sex\"].map({\"male\": 0, \"female\": 1})\n",
    "test[\"Sex\"] = test[\"Sex\"].map({\"male\": 0, \"female\": 1})\n",
    "\n",
    "X = train.drop(CFG.target, axis=1)\n",
    "y = np.log1p(train[CFG.target])\n",
    "X_test = test"
   ]
  },
  {
   "cell_type": "code",
   "execution_count": 5,
   "id": "bcaee7b6",
   "metadata": {
    "execution": {
     "iopub.execute_input": "2025-05-06T08:35:11.515207Z",
     "iopub.status.busy": "2025-05-06T08:35:11.514867Z",
     "iopub.status.idle": "2025-05-06T08:35:11.560799Z",
     "shell.execute_reply": "2025-05-06T08:35:11.559883Z"
    },
    "papermill": {
     "duration": 0.054519,
     "end_time": "2025-05-06T08:35:11.562477",
     "exception": false,
     "start_time": "2025-05-06T08:35:11.507958",
     "status": "completed"
    },
    "tags": []
   },
   "outputs": [],
   "source": [
    "original = pd.read_csv(CFG.original_path, index_col=\"User_ID\")\n",
    "original[\"Gender\"] = original[\"Gender\"].map({\"male\": 0, \"female\": 1})\n",
    "original = original.rename(columns={\"Gender\": \"Sex\"})\n",
    "\n",
    "X_original = original.drop(CFG.target, axis=1)\n",
    "y_original = np.log1p(original[CFG.target])"
   ]
  },
  {
   "cell_type": "code",
   "execution_count": 6,
   "id": "bd4266f3",
   "metadata": {
    "execution": {
     "iopub.execute_input": "2025-05-06T08:35:11.576992Z",
     "iopub.status.busy": "2025-05-06T08:35:11.576531Z",
     "iopub.status.idle": "2025-05-06T08:36:45.448967Z",
     "shell.execute_reply": "2025-05-06T08:36:45.447989Z"
    },
    "papermill": {
     "duration": 93.887703,
     "end_time": "2025-05-06T08:36:45.456715",
     "exception": false,
     "start_time": "2025-05-06T08:35:11.569012",
     "status": "completed"
    },
    "tags": []
   },
   "outputs": [
    {
     "data": {
      "text/html": [
       "<style type=\"text/css\">\n",
       "#T_f0027_row0_col0 {\n",
       "  width: 10em;\n",
       "  background: linear-gradient(90deg, #006837 100.0%, transparent 100.0%);\n",
       "}\n",
       "#T_f0027_row1_col0 {\n",
       "  width: 10em;\n",
       "  background: linear-gradient(90deg, #afdd70 68.3%, transparent 68.3%);\n",
       "}\n",
       "#T_f0027_row2_col0 {\n",
       "  width: 10em;\n",
       "  background: linear-gradient(90deg, #daf08d 59.6%, transparent 59.6%);\n",
       "}\n",
       "#T_f0027_row3_col0 {\n",
       "  width: 10em;\n",
       "  background: linear-gradient(90deg, #c21c27 6.0%, transparent 6.0%);\n",
       "}\n",
       "#T_f0027_row4_col0, #T_f0027_row5_col0 {\n",
       "  width: 10em;\n",
       "  background: linear-gradient(90deg, #b50f26 3.4%, transparent 3.4%);\n",
       "}\n",
       "#T_f0027_row6_col0 {\n",
       "  width: 10em;\n",
       "  background: linear-gradient(90deg, #a90426 1.0%, transparent 1.0%);\n",
       "}\n",
       "</style>\n",
       "<table id=\"T_f0027\">\n",
       "  <thead>\n",
       "    <tr>\n",
       "      <th class=\"blank level0\" >&nbsp;</th>\n",
       "      <th id=\"T_f0027_level0_col0\" class=\"col_heading level0 col0\" >Mutual Information</th>\n",
       "    </tr>\n",
       "  </thead>\n",
       "  <tbody>\n",
       "    <tr>\n",
       "      <th id=\"T_f0027_level0_row0\" class=\"row_heading level0 row0\" >Duration</th>\n",
       "      <td id=\"T_f0027_row0_col0\" class=\"data row0 col0\" >1.640567</td>\n",
       "    </tr>\n",
       "    <tr>\n",
       "      <th id=\"T_f0027_level0_row1\" class=\"row_heading level0 row1\" >Body_Temp</th>\n",
       "      <td id=\"T_f0027_row1_col0\" class=\"data row1 col0\" >1.120766</td>\n",
       "    </tr>\n",
       "    <tr>\n",
       "      <th id=\"T_f0027_level0_row2\" class=\"row_heading level0 row2\" >Heart_Rate</th>\n",
       "      <td id=\"T_f0027_row2_col0\" class=\"data row2 col0\" >0.976966</td>\n",
       "    </tr>\n",
       "    <tr>\n",
       "      <th id=\"T_f0027_level0_row3\" class=\"row_heading level0 row3\" >Age</th>\n",
       "      <td id=\"T_f0027_row3_col0\" class=\"data row3 col0\" >0.098387</td>\n",
       "    </tr>\n",
       "    <tr>\n",
       "      <th id=\"T_f0027_level0_row4\" class=\"row_heading level0 row4\" >Height</th>\n",
       "      <td id=\"T_f0027_row4_col0\" class=\"data row4 col0\" >0.056501</td>\n",
       "    </tr>\n",
       "    <tr>\n",
       "      <th id=\"T_f0027_level0_row5\" class=\"row_heading level0 row5\" >Weight</th>\n",
       "      <td id=\"T_f0027_row5_col0\" class=\"data row5 col0\" >0.055709</td>\n",
       "    </tr>\n",
       "    <tr>\n",
       "      <th id=\"T_f0027_level0_row6\" class=\"row_heading level0 row6\" >Sex</th>\n",
       "      <td id=\"T_f0027_row6_col0\" class=\"data row6 col0\" >0.017174</td>\n",
       "    </tr>\n",
       "  </tbody>\n",
       "</table>\n"
      ],
      "text/plain": [
       "<pandas.io.formats.style.Styler at 0x7d97b2386110>"
      ]
     },
     "execution_count": 6,
     "metadata": {},
     "output_type": "execute_result"
    }
   ],
   "source": [
    "mutual_info = mutual_info_regression(X, y, random_state=CFG.seed)\n",
    "\n",
    "mutual_info = pd.Series(mutual_info)\n",
    "mutual_info.index = X.columns\n",
    "mutual_info = pd.DataFrame(mutual_info.sort_values(ascending=False), columns=['Mutual Information'])\n",
    "mutual_info.style.bar(subset=['Mutual Information'], cmap='RdYlGn')"
   ]
  },
  {
   "cell_type": "code",
   "execution_count": 7,
   "id": "cb183634",
   "metadata": {
    "execution": {
     "iopub.execute_input": "2025-05-06T08:36:45.471029Z",
     "iopub.status.busy": "2025-05-06T08:36:45.470697Z",
     "iopub.status.idle": "2025-05-06T08:36:46.232801Z",
     "shell.execute_reply": "2025-05-06T08:36:46.231918Z"
    },
    "papermill": {
     "duration": 0.771098,
     "end_time": "2025-05-06T08:36:46.234570",
     "exception": false,
     "start_time": "2025-05-06T08:36:45.463472",
     "status": "completed"
    },
    "tags": []
   },
   "outputs": [
    {
     "data": {
      "text/html": [
       "<style type=\"text/css\">\n",
       "#T_5f0ea_row0_col0 {\n",
       "  width: 10em;\n",
       "  background: linear-gradient(90deg, #006837 100.0%, transparent 100.0%);\n",
       "}\n",
       "#T_5f0ea_row1_col0 {\n",
       "  width: 10em;\n",
       "  background: linear-gradient(90deg, #bbe278 66.0%, transparent 66.0%);\n",
       "}\n",
       "#T_5f0ea_row2_col0 {\n",
       "  width: 10em;\n",
       "  background: linear-gradient(90deg, #e0f295 57.9%, transparent 57.9%);\n",
       "}\n",
       "#T_5f0ea_row3_col0 {\n",
       "  width: 10em;\n",
       "  background: linear-gradient(90deg, #b10b26 2.4%, transparent 2.4%);\n",
       "}\n",
       "#T_5f0ea_row4_col0 {\n",
       "  width: 10em;\n",
       "  background: linear-gradient(90deg, #ab0626 1.4%, transparent 1.4%);\n",
       "}\n",
       "#T_5f0ea_row5_col0 {\n",
       "  width: 10em;\n",
       "  background: linear-gradient(90deg, #a90426 1.1%, transparent 1.1%);\n",
       "}\n",
       "#T_5f0ea_row6_col0 {\n",
       "  width: 10em;\n",
       "  background: linear-gradient(90deg, #a50026 0.3%, transparent 0.3%);\n",
       "}\n",
       "</style>\n",
       "<table id=\"T_5f0ea\">\n",
       "  <thead>\n",
       "    <tr>\n",
       "      <th class=\"blank level0\" >&nbsp;</th>\n",
       "      <th id=\"T_5f0ea_level0_col0\" class=\"col_heading level0 col0\" >Mutual Information</th>\n",
       "    </tr>\n",
       "  </thead>\n",
       "  <tbody>\n",
       "    <tr>\n",
       "      <th id=\"T_5f0ea_level0_row0\" class=\"row_heading level0 row0\" >Duration</th>\n",
       "      <td id=\"T_5f0ea_row0_col0\" class=\"data row0 col0\" >1.494968</td>\n",
       "    </tr>\n",
       "    <tr>\n",
       "      <th id=\"T_5f0ea_level0_row1\" class=\"row_heading level0 row1\" >Body_Temp</th>\n",
       "      <td id=\"T_5f0ea_row1_col0\" class=\"data row1 col0\" >0.986528</td>\n",
       "    </tr>\n",
       "    <tr>\n",
       "      <th id=\"T_5f0ea_level0_row2\" class=\"row_heading level0 row2\" >Heart_Rate</th>\n",
       "      <td id=\"T_5f0ea_row2_col0\" class=\"data row2 col0\" >0.866243</td>\n",
       "    </tr>\n",
       "    <tr>\n",
       "      <th id=\"T_5f0ea_level0_row3\" class=\"row_heading level0 row3\" >Age</th>\n",
       "      <td id=\"T_5f0ea_row3_col0\" class=\"data row3 col0\" >0.035208</td>\n",
       "    </tr>\n",
       "    <tr>\n",
       "      <th id=\"T_5f0ea_level0_row4\" class=\"row_heading level0 row4\" >Weight</th>\n",
       "      <td id=\"T_5f0ea_row4_col0\" class=\"data row4 col0\" >0.020520</td>\n",
       "    </tr>\n",
       "    <tr>\n",
       "      <th id=\"T_5f0ea_level0_row5\" class=\"row_heading level0 row5\" >Sex</th>\n",
       "      <td id=\"T_5f0ea_row5_col0\" class=\"data row5 col0\" >0.016184</td>\n",
       "    </tr>\n",
       "    <tr>\n",
       "      <th id=\"T_5f0ea_level0_row6\" class=\"row_heading level0 row6\" >Height</th>\n",
       "      <td id=\"T_5f0ea_row6_col0\" class=\"data row6 col0\" >0.005213</td>\n",
       "    </tr>\n",
       "  </tbody>\n",
       "</table>\n"
      ],
      "text/plain": [
       "<pandas.io.formats.style.Styler at 0x7d97b1f99d10>"
      ]
     },
     "execution_count": 7,
     "metadata": {},
     "output_type": "execute_result"
    }
   ],
   "source": [
    "mutual_info = mutual_info_regression(X_original, y_original, random_state=CFG.seed)\n",
    "\n",
    "mutual_info = pd.Series(mutual_info)\n",
    "mutual_info.index = X_original.columns\n",
    "mutual_info = pd.DataFrame(mutual_info.sort_values(ascending=False), columns=['Mutual Information'])\n",
    "mutual_info.style.bar(subset=['Mutual Information'], cmap='RdYlGn')"
   ]
  },
  {
   "cell_type": "code",
   "execution_count": 8,
   "id": "98ade98c",
   "metadata": {
    "execution": {
     "iopub.execute_input": "2025-05-06T08:36:46.249445Z",
     "iopub.status.busy": "2025-05-06T08:36:46.249149Z",
     "iopub.status.idle": "2025-05-06T08:36:47.516062Z",
     "shell.execute_reply": "2025-05-06T08:36:47.514958Z"
    },
    "papermill": {
     "duration": 1.276361,
     "end_time": "2025-05-06T08:36:47.518244",
     "exception": false,
     "start_time": "2025-05-06T08:36:46.241883",
     "status": "completed"
    },
    "tags": []
   },
   "outputs": [
    {
     "data": {
      "image/png": "[encoded data removed]",
      "text/plain": [
       "<Figure size 1600x600 with 4 Axes>"
      ]
     },
     "metadata": {},
     "output_type": "display_data"
    }
   ],
   "source": [
    "sns.set_style(\"white\")\n",
    "fig, axes = plt.subplots(1, 2, figsize=(16, 6))\n",
    "\n",
    "corr_train = train.corr()\n",
    "mask_train = np.triu(np.ones_like(corr_train, dtype=bool), k=1)\n",
    "sns.heatmap(\n",
    "    data=corr_train,\n",
    "    annot=True,\n",
    "    fmt='.2f',\n",
    "    mask=mask_train,\n",
    "    square=True,\n",
    "    cmap='coolwarm',\n",
    "    cbar_kws={'shrink': .7, 'format': '%.2f'},   \n",
    "    annot_kws={'size': 8},\n",
    "    center=0,\n",
    "    ax=axes[0]\n",
    ")\n",
    "axes[0].set_title('Train')\n",
    "axes[0].tick_params(axis='both', which='major', labelsize=8)\n",
    "\n",
    "corr_orig = original.corr()\n",
    "mask_orig = np.triu(np.ones_like(corr_orig, dtype=bool), k=1)\n",
    "sns.heatmap(\n",
    "    data=corr_orig,\n",
    "    annot=True,\n",
    "    fmt='.2f',\n",
    "    mask=mask_orig,\n",
    "    square=True,\n",
    "    cmap='coolwarm',\n",
    "    cbar_kws={'shrink': .7, 'format': '%.2f'},   \n",
    "    annot_kws={'size': 8},\n",
    "    center=0,\n",
    "    ax=axes[1]\n",
    ")\n",
    "axes[1].set_title('Original')\n",
    "axes[1].tick_params(axis='both', which='major', labelsize=8)\n",
    "\n",
    "plt.tight_layout()\n",
    "plt.show()"
   ]
  },
  {
   "cell_type": "markdown",
   "id": "f35e7e96",
   "metadata": {
    "papermill": {
     "duration": 0.007281,
     "end_time": "2025-05-06T08:36:47.533534",
     "exception": false,
     "start_time": "2025-05-06T08:36:47.526253",
     "status": "completed"
    },
    "tags": []
   },
   "source": [
    "# Training base models"
   ]
  },
  {
   "cell_type": "code",
   "execution_count": 9,
   "id": "de3625b1",
   "metadata": {
    "_kg_hide-input": true,
    "_kg_hide-output": true,
    "execution": {
     "iopub.execute_input": "2025-05-06T08:36:47.550076Z",
     "iopub.status.busy": "2025-05-06T08:36:47.549771Z",
     "iopub.status.idle": "2025-05-06T08:36:47.560756Z",
     "shell.execute_reply": "2025-05-06T08:36:47.559635Z"
    },
    "papermill": {
     "duration": 0.021184,
     "end_time": "2025-05-06T08:36:47.562224",
     "exception": false,
     "start_time": "2025-05-06T08:36:47.541040",
     "status": "completed"
    },
    "tags": []
   },
   "outputs": [],
   "source": [
    "histgb_params = {\n",
    "    \"l2_regularization\": 10.412017522533768,\n",
    "    \"learning_rate\": 0.011702680619474444,\n",
    "    \"max_depth\": 59,\n",
    "    \"max_features\": 0.30616140080552673,\n",
    "    \"max_iter\": 4454,\n",
    "    \"max_leaf_nodes\": 385,\n",
    "    \"min_samples_leaf\": 50,\n",
    "    \"random_state\": 42\n",
    "}\n",
    "\n",
    "lgbm_params = {\n",
    "    \"boosting_type\": \"gbdt\",\n",
    "    \"colsample_bytree\": 0.8213924491907012,\n",
    "    \"learning_rate\": 0.059976685297931195,\n",
    "    \"min_child_samples\": 10,\n",
    "    \"min_child_weight\": 0.5425237767880097,\n",
    "    \"n_estimators\": 50000,\n",
    "    \"n_jobs\": -1,\n",
    "    \"num_leaves\": 89,\n",
    "    \"random_state\": 42,\n",
    "    \"reg_alpha\": 2.0325709613371545,\n",
    "    \"reg_lambda\": 87.27971117911044,\n",
    "    \"subsample\": 0.6452823633939004,\n",
    "    \"verbose\": -1\n",
    "}\n",
    "\n",
    "lgbm_goss_params = {\n",
    "    \"boosting_type\": \"goss\",\n",
    "    \"colsample_bytree\": 0.9068724002629094,\n",
    "    \"learning_rate\": 0.06459027654473874,\n",
    "    \"min_child_samples\": 39,\n",
    "    \"min_child_weight\": 0.5337673729810578,\n",
    "    \"n_estimators\": 50000,\n",
    "    \"n_jobs\": -1,\n",
    "    \"num_leaves\": 13,\n",
    "    \"random_state\": 42,\n",
    "    \"reg_alpha\": 1.603969498256519,\n",
    "    \"reg_lambda\": 10.806488455621444,\n",
    "    \"subsample\": 0.5966412222358356,\n",
    "    \"verbose\": -1\n",
    "}\n",
    "\n",
    "xgb_params = {\n",
    "    \"colsample_bylevel\": 0.8606487417581108,\n",
    "    \"colsample_bynode\": 0.9410596660335436,\n",
    "    \"colsample_bytree\": 0.9407540036296737,\n",
    "    \"early_stopping_rounds\": 100,\n",
    "    \"eval_metric\": \"rmse\",\n",
    "    \"gamma\": 0.023260595738991977,\n",
    "    \"learning_rate\": 0.03669372905801298,\n",
    "    \"max_depth\": 11,\n",
    "    \"max_leaves\": 51,\n",
    "    \"min_child_weight\": 96,\n",
    "    \"n_estimators\": 50000,\n",
    "    \"n_jobs\": -1,\n",
    "    \"random_state\": 42,\n",
    "    \"reg_alpha\": 2.953205886504917,\n",
    "    \"reg_lambda\": 67.64147033446291,\n",
    "    \"subsample\": 0.6973241930754311,\n",
    "    \"verbosity\": 0\n",
    "}\n",
    "\n",
    "cb_params = {\n",
    "    \"border_count\": 88,\n",
    "    \"colsample_bylevel\": 0.7903437608890396,\n",
    "    \"depth\": 8,\n",
    "    \"eval_metric\": \"RMSE\",\n",
    "    \"iterations\": 50000,\n",
    "    \"l2_leaf_reg\": 6.065104074215131,\n",
    "    \"learning_rate\": 0.030946464122148992,\n",
    "    \"min_child_samples\": 138,\n",
    "    \"random_state\": 42,\n",
    "    \"random_strength\": 0.035251008593976785,\n",
    "    \"verbose\": False\n",
    "}"
   ]
  },
  {
   "cell_type": "code",
   "execution_count": 10,
   "id": "ec152c01",
   "metadata": {
    "execution": {
     "iopub.execute_input": "2025-05-06T08:36:47.580589Z",
     "iopub.status.busy": "2025-05-06T08:36:47.579663Z",
     "iopub.status.idle": "2025-05-06T08:36:47.584766Z",
     "shell.execute_reply": "2025-05-06T08:36:47.583775Z"
    },
    "papermill": {
     "duration": 0.015898,
     "end_time": "2025-05-06T08:36:47.586301",
     "exception": false,
     "start_time": "2025-05-06T08:36:47.570403",
     "status": "completed"
    },
    "tags": []
   },
   "outputs": [],
   "source": [
    "scores = {}\n",
    "oof_preds = {}\n",
    "test_preds = {}"
   ]
  },
  {
   "cell_type": "markdown",
   "id": "df7a5e52",
   "metadata": {
    "papermill": {
     "duration": 0.007365,
     "end_time": "2025-05-06T08:36:47.601833",
     "exception": false,
     "start_time": "2025-05-06T08:36:47.594468",
     "status": "completed"
    },
    "tags": []
   },
   "source": [
    "## HistGradientBoosting"
   ]
  },
  {
   "cell_type": "code",
   "execution_count": 11,
   "id": "bf70f0d2",
   "metadata": {
    "execution": {
     "iopub.execute_input": "2025-05-06T08:36:47.619375Z",
     "iopub.status.busy": "2025-05-06T08:36:47.619041Z",
     "iopub.status.idle": "2025-05-06T08:45:14.396843Z",
     "shell.execute_reply": "2025-05-06T08:45:14.395982Z"
    },
    "papermill": {
     "duration": 506.788684,
     "end_time": "2025-05-06T08:45:14.398604",
     "exception": false,
     "start_time": "2025-05-06T08:36:47.609920",
     "status": "completed"
    },
    "tags": []
   },
   "outputs": [
    {
     "name": "stdout",
     "output_type": "stream",
     "text": [
      "Training HistGradientBoostingRegressor\n",
      "\n",
      "--- Fold 0 - root_mean_squared_error: 0.0594 - Time: 91.98 s\n",
      "--- Fold 1 - root_mean_squared_error: 0.0605 - Time: 84.32 s\n",
      "--- Fold 2 - root_mean_squared_error: 0.0597 - Time: 88.24 s\n",
      "--- Fold 3 - root_mean_squared_error: 0.0601 - Time: 77.95 s\n",
      "--- Fold 4 - root_mean_squared_error: 0.0593 - Time: 80.59 s\n",
      "\n",
      "------ Overall root_mean_squared_error: 0.0598 - Mean root_mean_squared_error: 0.0598 ± 0.0004 - Time: 423.92 s\n"
     ]
    }
   ],
   "source": [
    "histgb_trainer = Trainer(\n",
    "    HistGradientBoostingRegressor(**histgb_params),\n",
    "    cv=CFG.cv,\n",
    "    metric=CFG.metric,\n",
    "    task=\"regression\"\n",
    ")\n",
    "\n",
    "histgb_trainer.fit(X, y, extra_X=X_original, extra_y=y_original)\n",
    "\n",
    "scores[\"HistGB\"] = histgb_trainer.fold_scores\n",
    "oof_preds[\"HistGB\"] = histgb_trainer.oof_preds\n",
    "test_preds[\"HistGB\"] = histgb_trainer.predict(X_test)"
   ]
  },
  {
   "cell_type": "markdown",
   "id": "7894c372",
   "metadata": {
    "papermill": {
     "duration": 0.007587,
     "end_time": "2025-05-06T08:45:14.415737",
     "exception": false,
     "start_time": "2025-05-06T08:45:14.408150",
     "status": "completed"
    },
    "tags": []
   },
   "source": [
    "## LightGBM (gbdt)"
   ]
  },
  {
   "cell_type": "code",
   "execution_count": 12,
   "id": "037d5526",
   "metadata": {
    "execution": {
     "iopub.execute_input": "2025-05-06T08:45:14.432826Z",
     "iopub.status.busy": "2025-05-06T08:45:14.432411Z",
     "iopub.status.idle": "2025-05-06T08:49:58.955938Z",
     "shell.execute_reply": "2025-05-06T08:49:58.955184Z"
    },
    "papermill": {
     "duration": 284.534327,
     "end_time": "2025-05-06T08:49:58.957875",
     "exception": false,
     "start_time": "2025-05-06T08:45:14.423548",
     "status": "completed"
    },
    "tags": []
   },
   "outputs": [
    {
     "name": "stdout",
     "output_type": "stream",
     "text": [
      "Training LGBMRegressor\n",
      "\n",
      "Training until validation scores don't improve for 100 rounds\n",
      "Early stopping, best iteration is:\n",
      "[791]\tvalid_0's rmse: 0.0596226\tvalid_0's l2: 0.00355485\n",
      "--- Fold 0 - root_mean_squared_error: 0.0596 - Time: 28.63 s\n",
      "\n",
      "Training until validation scores don't improve for 100 rounds\n",
      "[1000]\tvalid_0's rmse: 0.0603528\tvalid_0's l2: 0.00364246\n",
      "Early stopping, best iteration is:\n",
      "[1369]\tvalid_0's rmse: 0.0603066\tvalid_0's l2: 0.00363688\n",
      "--- Fold 1 - root_mean_squared_error: 0.0603 - Time: 42.57 s\n",
      "\n",
      "Training until validation scores don't improve for 100 rounds\n",
      "[1000]\tvalid_0's rmse: 0.0596239\tvalid_0's l2: 0.00355501\n",
      "Early stopping, best iteration is:\n",
      "[1406]\tvalid_0's rmse: 0.0595985\tvalid_0's l2: 0.00355198\n",
      "--- Fold 2 - root_mean_squared_error: 0.0596 - Time: 43.41 s\n",
      "\n",
      "Training until validation scores don't improve for 100 rounds\n",
      "[1000]\tvalid_0's rmse: 0.0601725\tvalid_0's l2: 0.00362073\n",
      "[2000]\tvalid_0's rmse: 0.060028\tvalid_0's l2: 0.00360336\n",
      "Early stopping, best iteration is:\n",
      "[1918]\tvalid_0's rmse: 0.0600226\tvalid_0's l2: 0.00360271\n",
      "--- Fold 3 - root_mean_squared_error: 0.0600 - Time: 55.26 s\n",
      "\n",
      "Training until validation scores don't improve for 100 rounds\n",
      "[1000]\tvalid_0's rmse: 0.0594362\tvalid_0's l2: 0.00353266\n",
      "Early stopping, best iteration is:\n",
      "[1376]\tvalid_0's rmse: 0.0593934\tvalid_0's l2: 0.00352758\n",
      "--- Fold 4 - root_mean_squared_error: 0.0594 - Time: 42.95 s\n",
      "\n",
      "\n",
      "------ Overall root_mean_squared_error: 0.0598 - Mean root_mean_squared_error: 0.0598 ± 0.0003 - Time: 213.69 s\n"
     ]
    }
   ],
   "source": [
    "lgbm_trainer = Trainer(\n",
    "    LGBMRegressor(**lgbm_params),\n",
    "    cv=CFG.cv,\n",
    "    metric=CFG.metric,\n",
    "    use_early_stopping=True,\n",
    "    task=\"regression\"\n",
    ")\n",
    "\n",
    "fit_args = {\n",
    "    \"eval_metric\": \"rmse\",\n",
    "    \"callbacks\": [\n",
    "        log_evaluation(period=1000), \n",
    "        early_stopping(stopping_rounds=100)\n",
    "    ]\n",
    "}\n",
    "\n",
    "lgbm_trainer.fit(X, y, fit_args=fit_args, extra_X=X_original, extra_y=y_original)\n",
    "\n",
    "scores[\"LightGBM (gbdt)\"] = lgbm_trainer.fold_scores\n",
    "oof_preds[\"LightGBM (gbdt)\"] = lgbm_trainer.oof_preds\n",
    "test_preds[\"LightGBM (gbdt)\"] = lgbm_trainer.predict(X_test)"
   ]
  },
  {
   "cell_type": "markdown",
   "id": "1cf4d9a9",
   "metadata": {
    "papermill": {
     "duration": 0.009629,
     "end_time": "2025-05-06T08:49:58.976899",
     "exception": false,
     "start_time": "2025-05-06T08:49:58.967270",
     "status": "completed"
    },
    "tags": []
   },
   "source": [
    "## LightGBM (goss)"
   ]
  },
  {
   "cell_type": "code",
   "execution_count": 13,
   "id": "268b1df0",
   "metadata": {
    "execution": {
     "iopub.execute_input": "2025-05-06T08:49:58.997553Z",
     "iopub.status.busy": "2025-05-06T08:49:58.997216Z",
     "iopub.status.idle": "2025-05-06T09:02:26.563013Z",
     "shell.execute_reply": "2025-05-06T09:02:26.561688Z"
    },
    "papermill": {
     "duration": 747.579106,
     "end_time": "2025-05-06T09:02:26.565308",
     "exception": false,
     "start_time": "2025-05-06T08:49:58.986202",
     "status": "completed"
    },
    "tags": []
   },
   "outputs": [
    {
     "name": "stdout",
     "output_type": "stream",
     "text": [
      "Training LGBMRegressor\n",
      "\n",
      "Training until validation scores don't improve for 100 rounds\n",
      "[1000]\tvalid_0's rmse: 0.0600588\tvalid_0's l2: 0.00360706\n",
      "[2000]\tvalid_0's rmse: 0.0597145\tvalid_0's l2: 0.00356582\n",
      "[3000]\tvalid_0's rmse: 0.0596177\tvalid_0's l2: 0.00355427\n",
      "Early stopping, best iteration is:\n",
      "[3424]\tvalid_0's rmse: 0.0595945\tvalid_0's l2: 0.0035515\n",
      "--- Fold 0 - root_mean_squared_error: 0.0596 - Time: 119.50 s\n",
      "\n",
      "Training until validation scores don't improve for 100 rounds\n",
      "[1000]\tvalid_0's rmse: 0.0607929\tvalid_0's l2: 0.00369577\n",
      "[2000]\tvalid_0's rmse: 0.0604315\tvalid_0's l2: 0.00365197\n",
      "[3000]\tvalid_0's rmse: 0.0603068\tvalid_0's l2: 0.00363691\n",
      "Early stopping, best iteration is:\n",
      "[3299]\tvalid_0's rmse: 0.0602872\tvalid_0's l2: 0.00363454\n",
      "--- Fold 1 - root_mean_squared_error: 0.0603 - Time: 119.05 s\n",
      "\n",
      "Training until validation scores don't improve for 100 rounds\n",
      "[1000]\tvalid_0's rmse: 0.0600734\tvalid_0's l2: 0.00360881\n",
      "[2000]\tvalid_0's rmse: 0.0597328\tvalid_0's l2: 0.00356801\n",
      "[3000]\tvalid_0's rmse: 0.0596015\tvalid_0's l2: 0.00355234\n",
      "[4000]\tvalid_0's rmse: 0.0595402\tvalid_0's l2: 0.00354503\n",
      "Early stopping, best iteration is:\n",
      "[4508]\tvalid_0's rmse: 0.0595248\tvalid_0's l2: 0.00354321\n",
      "--- Fold 2 - root_mean_squared_error: 0.0595 - Time: 133.59 s\n",
      "\n",
      "Training until validation scores don't improve for 100 rounds\n",
      "[1000]\tvalid_0's rmse: 0.0606943\tvalid_0's l2: 0.0036838\n",
      "[2000]\tvalid_0's rmse: 0.0602788\tvalid_0's l2: 0.00363353\n",
      "[3000]\tvalid_0's rmse: 0.0601248\tvalid_0's l2: 0.00361499\n",
      "[4000]\tvalid_0's rmse: 0.060043\tvalid_0's l2: 0.00360516\n",
      "Early stopping, best iteration is:\n",
      "[4559]\tvalid_0's rmse: 0.0600092\tvalid_0's l2: 0.00360111\n",
      "--- Fold 3 - root_mean_squared_error: 0.0600 - Time: 137.35 s\n",
      "\n",
      "Training until validation scores don't improve for 100 rounds\n",
      "[1000]\tvalid_0's rmse: 0.0597776\tvalid_0's l2: 0.00357336\n",
      "[2000]\tvalid_0's rmse: 0.0594386\tvalid_0's l2: 0.00353295\n",
      "[3000]\tvalid_0's rmse: 0.0593427\tvalid_0's l2: 0.00352156\n",
      "Early stopping, best iteration is:\n",
      "[3301]\tvalid_0's rmse: 0.0593269\tvalid_0's l2: 0.00351968\n",
      "--- Fold 4 - root_mean_squared_error: 0.0593 - Time: 97.27 s\n",
      "\n",
      "\n",
      "------ Overall root_mean_squared_error: 0.0597 - Mean root_mean_squared_error: 0.0597 ± 0.0003 - Time: 607.73 s\n"
     ]
    }
   ],
   "source": [
    "lgbm_goss_trainer = Trainer(\n",
    "    LGBMRegressor(**lgbm_goss_params),\n",
    "    cv=CFG.cv,\n",
    "    metric=CFG.metric,\n",
    "    use_early_stopping=True,\n",
    "    task=\"regression\"\n",
    ")\n",
    "\n",
    "fit_args = {\n",
    "    \"eval_metric\": \"rmse\",\n",
    "    \"callbacks\": [\n",
    "        log_evaluation(period=1000), \n",
    "        early_stopping(stopping_rounds=100)\n",
    "    ]\n",
    "}\n",
    "\n",
    "lgbm_goss_trainer.fit(X, y, fit_args=fit_args, extra_X=X_original, extra_y=y_original)\n",
    "\n",
    "scores[\"LightGBM (goss)\"] = lgbm_goss_trainer.fold_scores\n",
    "oof_preds[\"LightGBM (goss)\"] = lgbm_goss_trainer.oof_preds\n",
    "test_preds[\"LightGBM (goss)\"] = lgbm_goss_trainer.predict(X_test)"
   ]
  },
  {
   "cell_type": "markdown",
   "id": "7a478fe8",
   "metadata": {
    "papermill": {
     "duration": 0.015055,
     "end_time": "2025-05-06T09:02:26.592828",
     "exception": false,
     "start_time": "2025-05-06T09:02:26.577773",
     "status": "completed"
    },
    "tags": []
   },
   "source": [
    "## XGBoost"
   ]
  },
  {
   "cell_type": "code",
   "execution_count": 14,
   "id": "015779d3",
   "metadata": {
    "execution": {
     "iopub.execute_input": "2025-05-06T09:02:26.617477Z",
     "iopub.status.busy": "2025-05-06T09:02:26.617007Z",
     "iopub.status.idle": "2025-05-06T09:09:01.430322Z",
     "shell.execute_reply": "2025-05-06T09:09:01.429534Z"
    },
    "papermill": {
     "duration": 394.828461,
     "end_time": "2025-05-06T09:09:01.432474",
     "exception": false,
     "start_time": "2025-05-06T09:02:26.604013",
     "status": "completed"
    },
    "tags": []
   },
   "outputs": [
    {
     "name": "stdout",
     "output_type": "stream",
     "text": [
      "Training XGBRegressor\n",
      "\n",
      "[0]\tvalidation_0-rmse:0.92856\n",
      "[1000]\tvalidation_0-rmse:0.06015\n",
      "[2000]\tvalidation_0-rmse:0.06009\n",
      "[3000]\tvalidation_0-rmse:0.06007\n",
      "[3123]\tvalidation_0-rmse:0.06006\n",
      "--- Fold 0 - root_mean_squared_error: 0.0601 - Time: 89.66 s\n",
      "\n",
      "[0]\tvalidation_0-rmse:0.93096\n",
      "[1000]\tvalidation_0-rmse:0.06137\n",
      "[2000]\tvalidation_0-rmse:0.06128\n",
      "[3000]\tvalidation_0-rmse:0.06123\n",
      "[3070]\tvalidation_0-rmse:0.06123\n",
      "--- Fold 1 - root_mean_squared_error: 0.0612 - Time: 89.38 s\n",
      "\n",
      "[0]\tvalidation_0-rmse:0.92964\n",
      "[1000]\tvalidation_0-rmse:0.06065\n",
      "[2000]\tvalidation_0-rmse:0.06056\n",
      "[3000]\tvalidation_0-rmse:0.06053\n",
      "[3091]\tvalidation_0-rmse:0.06053\n",
      "--- Fold 2 - root_mean_squared_error: 0.0605 - Time: 87.65 s\n",
      "\n",
      "[0]\tvalidation_0-rmse:0.92813\n",
      "[1000]\tvalidation_0-rmse:0.06097\n",
      "[1244]\tvalidation_0-rmse:0.06096\n",
      "--- Fold 3 - root_mean_squared_error: 0.0610 - Time: 40.44 s\n",
      "\n",
      "[0]\tvalidation_0-rmse:0.92887\n",
      "[1000]\tvalidation_0-rmse:0.06014\n",
      "[2000]\tvalidation_0-rmse:0.06007\n",
      "[2595]\tvalidation_0-rmse:0.06005\n",
      "--- Fold 4 - root_mean_squared_error: 0.0601 - Time: 72.05 s\n",
      "\n",
      "\n",
      "------ Overall root_mean_squared_error: 0.0606 - Mean root_mean_squared_error: 0.0606 ± 0.0005 - Time: 380.05 s\n"
     ]
    }
   ],
   "source": [
    "xgb_trainer = Trainer(\n",
    "    XGBRegressor(**xgb_params),\n",
    "    cv=CFG.cv,\n",
    "    metric=CFG.metric,\n",
    "    use_early_stopping=True,\n",
    "    task=\"regression\"\n",
    ")\n",
    "\n",
    "fit_args = {\n",
    "    \"verbose\": 1000\n",
    "}\n",
    "\n",
    "xgb_trainer.fit(X, y, fit_args=fit_args, extra_X=X_original, extra_y=y_original)\n",
    "\n",
    "scores[\"XGBoost\"] = xgb_trainer.fold_scores\n",
    "oof_preds[\"XGBoost\"] = xgb_trainer.oof_preds\n",
    "test_preds[\"XGBoost\"] = xgb_trainer.predict(X_test)"
   ]
  },
  {
   "cell_type": "markdown",
   "id": "11ba9ce4",
   "metadata": {
    "papermill": {
     "duration": 0.011608,
     "end_time": "2025-05-06T09:09:01.456197",
     "exception": false,
     "start_time": "2025-05-06T09:09:01.444589",
     "status": "completed"
    },
    "tags": []
   },
   "source": [
    "## CatBoost"
   ]
  },
  {
   "cell_type": "code",
   "execution_count": 15,
   "id": "df2b84fe",
   "metadata": {
    "execution": {
     "iopub.execute_input": "2025-05-06T09:09:01.481486Z",
     "iopub.status.busy": "2025-05-06T09:09:01.481186Z",
     "iopub.status.idle": "2025-05-06T09:21:54.594093Z",
     "shell.execute_reply": "2025-05-06T09:21:54.593180Z"
    },
    "papermill": {
     "duration": 773.127595,
     "end_time": "2025-05-06T09:21:54.595829",
     "exception": false,
     "start_time": "2025-05-06T09:09:01.468234",
     "status": "completed"
    },
    "tags": []
   },
   "outputs": [
    {
     "name": "stdout",
     "output_type": "stream",
     "text": [
      "Training CatBoostRegressor\n",
      "\n",
      "0:\tlearn: 0.9348709\ttest: 0.9341488\tbest: 0.9341488 (0)\ttotal: 133ms\tremaining: 1h 50m 42s\n",
      "1000:\tlearn: 0.0571087\ttest: 0.0593244\tbest: 0.0593244 (1000)\ttotal: 54.5s\tremaining: 44m 26s\n",
      "2000:\tlearn: 0.0560120\ttest: 0.0591679\tbest: 0.0591679 (2000)\ttotal: 1m 48s\tremaining: 43m 13s\n",
      "Stopped by overfitting detector  (100 iterations wait)\n",
      "\n",
      "bestTest = 0.05911377754\n",
      "bestIteration = 2824\n",
      "\n",
      "Shrink model to first 2825 iterations.\n",
      "--- Fold 0 - root_mean_squared_error: 0.0591 - Time: 158.96 s\n",
      "\n",
      "0:\tlearn: 0.9342850\ttest: 0.9365766\tbest: 0.9365766 (0)\ttotal: 91.7ms\tremaining: 1h 16m 23s\n",
      "1000:\tlearn: 0.0571036\ttest: 0.0598252\tbest: 0.0598252 (1000)\ttotal: 54.5s\tremaining: 44m 25s\n",
      "Stopped by overfitting detector  (100 iterations wait)\n",
      "\n",
      "bestTest = 0.05966835269\n",
      "bestIteration = 1741\n",
      "\n",
      "Shrink model to first 1742 iterations.\n",
      "--- Fold 1 - root_mean_squared_error: 0.0597 - Time: 100.91 s\n",
      "\n",
      "0:\tlearn: 0.9346164\ttest: 0.9352198\tbest: 0.9352198 (0)\ttotal: 71.9ms\tremaining: 59m 56s\n",
      "1000:\tlearn: 0.0570640\ttest: 0.0593004\tbest: 0.0593004 (1000)\ttotal: 54s\tremaining: 44m 3s\n",
      "2000:\tlearn: 0.0559380\ttest: 0.0590550\tbest: 0.0590543 (1996)\ttotal: 1m 47s\tremaining: 43m 7s\n",
      "3000:\tlearn: 0.0551639\ttest: 0.0589824\tbest: 0.0589822 (2994)\ttotal: 2m 41s\tremaining: 42m 5s\n",
      "Stopped by overfitting detector  (100 iterations wait)\n",
      "\n",
      "bestTest = 0.05895750885\n",
      "bestIteration = 3703\n",
      "\n",
      "Shrink model to first 3704 iterations.\n",
      "--- Fold 2 - root_mean_squared_error: 0.0590 - Time: 206.82 s\n",
      "\n",
      "0:\tlearn: 0.9349691\ttest: 0.9337102\tbest: 0.9337102 (0)\ttotal: 83.6ms\tremaining: 1h 9m 37s\n",
      "1000:\tlearn: 0.0570599\ttest: 0.0597373\tbest: 0.0597373 (1000)\ttotal: 1m 4s\tremaining: 52m 28s\n",
      "2000:\tlearn: 0.0560408\ttest: 0.0595997\tbest: 0.0595980 (1976)\ttotal: 2m 1s\tremaining: 48m 45s\n",
      "3000:\tlearn: 0.0552776\ttest: 0.0595437\tbest: 0.0595417 (2940)\ttotal: 2m 58s\tremaining: 46m 28s\n",
      "Stopped by overfitting detector  (100 iterations wait)\n",
      "\n",
      "bestTest = 0.0595416905\n",
      "bestIteration = 2940\n",
      "\n",
      "Shrink model to first 2941 iterations.\n",
      "--- Fold 3 - root_mean_squared_error: 0.0595 - Time: 181.57 s\n",
      "\n",
      "0:\tlearn: 0.9347914\ttest: 0.9344284\tbest: 0.9344284 (0)\ttotal: 84.3ms\tremaining: 1h 10m 14s\n",
      "1000:\tlearn: 0.0572454\ttest: 0.0590697\tbest: 0.0590697 (1000)\ttotal: 56.3s\tremaining: 45m 54s\n",
      "2000:\tlearn: 0.0561135\ttest: 0.0589142\tbest: 0.0589119 (1987)\ttotal: 1m 51s\tremaining: 44m 30s\n",
      "Stopped by overfitting detector  (100 iterations wait)\n",
      "\n",
      "bestTest = 0.05891120084\n",
      "bestIteration = 2077\n",
      "\n",
      "Shrink model to first 2078 iterations.\n",
      "--- Fold 4 - root_mean_squared_error: 0.0589 - Time: 121.74 s\n",
      "\n",
      "\n",
      "------ Overall root_mean_squared_error: 0.0592 - Mean root_mean_squared_error: 0.0592 ± 0.0003 - Time: 770.87 s\n"
     ]
    }
   ],
   "source": [
    "cb_trainer = Trainer(\n",
    "    CatBoostRegressor(**cb_params),\n",
    "    cv=CFG.cv,\n",
    "    metric=CFG.metric,\n",
    "    use_early_stopping=True,\n",
    "    task=\"regression\"\n",
    ")\n",
    "\n",
    "fit_args = {\n",
    "    \"verbose\": 1000,\n",
    "    \"early_stopping_rounds\": 100,\n",
    "    \"use_best_model\": True\n",
    "}\n",
    "\n",
    "cb_trainer.fit(X, y, fit_args=fit_args, extra_X=X_original, extra_y=y_original)\n",
    "\n",
    "scores[\"CatBoost\"] = cb_trainer.fold_scores\n",
    "oof_preds[\"CatBoost\"] = cb_trainer.oof_preds\n",
    "test_preds[\"CatBoost\"] = cb_trainer.predict(X_test)"
   ]
  },
  {
   "cell_type": "markdown",
   "id": "ef91df33",
   "metadata": {
    "papermill": {
     "duration": 0.013895,
     "end_time": "2025-05-06T09:21:54.625112",
     "exception": false,
     "start_time": "2025-05-06T09:21:54.611217",
     "status": "completed"
    },
    "tags": []
   },
   "source": [
    "## AutoGluon"
   ]
  },
  {
   "cell_type": "code",
   "execution_count": 16,
   "id": "562c4383",
   "metadata": {
    "execution": {
     "iopub.execute_input": "2025-05-06T09:21:54.655210Z",
     "iopub.status.busy": "2025-05-06T09:21:54.654786Z",
     "iopub.status.idle": "2025-05-06T09:21:54.967715Z",
     "shell.execute_reply": "2025-05-06T09:21:54.966929Z"
    },
    "papermill": {
     "duration": 0.329769,
     "end_time": "2025-05-06T09:21:54.969408",
     "exception": false,
     "start_time": "2025-05-06T09:21:54.639639",
     "status": "completed"
    },
    "tags": []
   },
   "outputs": [],
   "source": [
    "oof_preds_files = glob.glob(f'/kaggle/input/s05e05-calorie-expenditure-prediction-automl/*_oof_preds_*.pkl')\n",
    "test_preds_files = glob.glob(f'/kaggle/input/s05e05-calorie-expenditure-prediction-automl/*_test_preds_*.pkl')\n",
    "\n",
    "ag_oof_preds = np.log1p(joblib.load(oof_preds_files[0]))\n",
    "ag_test_preds = np.log1p(joblib.load(test_preds_files[0]))\n",
    "\n",
    "ag_scores = []\n",
    "split = KFold(n_splits=CFG.n_folds, random_state=CFG.seed, shuffle=True).split(X, y)\n",
    "for _, val_idx in split:\n",
    "    y_val = y[val_idx]\n",
    "    y_preds = ag_oof_preds[val_idx]   \n",
    "    score = root_mean_squared_error(y_preds, y_val)\n",
    "    ag_scores.append(score)\n",
    "    \n",
    "oof_preds[\"AutoGluon\"], test_preds[\"AutoGluon\"], scores[\"AutoGluon\"] = ag_oof_preds, ag_test_preds, ag_scores"
   ]
  },
  {
   "cell_type": "markdown",
   "id": "219a46a2",
   "metadata": {
    "papermill": {
     "duration": 0.013242,
     "end_time": "2025-05-06T09:21:54.996783",
     "exception": false,
     "start_time": "2025-05-06T09:21:54.983541",
     "status": "completed"
    },
    "tags": []
   },
   "source": [
    "# Ensembling with Ridge"
   ]
  },
  {
   "cell_type": "code",
   "execution_count": 17,
   "id": "a9c25abf",
   "metadata": {
    "_kg_hide-input": true,
    "execution": {
     "iopub.execute_input": "2025-05-06T09:21:55.025543Z",
     "iopub.status.busy": "2025-05-06T09:21:55.025211Z",
     "iopub.status.idle": "2025-05-06T09:21:55.033662Z",
     "shell.execute_reply": "2025-05-06T09:21:55.032538Z"
    },
    "papermill": {
     "duration": 0.024976,
     "end_time": "2025-05-06T09:21:55.035540",
     "exception": false,
     "start_time": "2025-05-06T09:21:55.010564",
     "status": "completed"
    },
    "tags": []
   },
   "outputs": [],
   "source": [
    "def plot_weights(weights, title):\n",
    "    sorted_indices = np.argsort(weights[0])[::-1]\n",
    "    sorted_coeffs = np.array(weights[0])[sorted_indices]\n",
    "    sorted_model_names = np.array(list(oof_preds.keys()))[sorted_indices]\n",
    "\n",
    "    plt.figure(figsize=(10, weights.shape[1] * 0.5))\n",
    "    ax = sns.barplot(x=sorted_coeffs, y=sorted_model_names, palette=\"RdYlGn_r\")\n",
    "\n",
    "    for i, (value, name) in enumerate(zip(sorted_coeffs, sorted_model_names)):\n",
    "        if value >= 0:\n",
    "            ax.text(value, i, f\"{value:.3f}\", va=\"center\", ha=\"left\", color=\"black\")\n",
    "        else:\n",
    "            ax.text(value, i, f\"{value:.3f}\", va=\"center\", ha=\"right\", color=\"black\")\n",
    "\n",
    "    xlim = ax.get_xlim()\n",
    "    ax.set_xlim(xlim[0] - 0.1 * abs(xlim[0]), xlim[1] + 0.1 * abs(xlim[1]))\n",
    "\n",
    "    plt.title(title)\n",
    "    plt.xlabel(\"\")\n",
    "    plt.ylabel(\"\")\n",
    "    plt.tight_layout()\n",
    "    plt.show()"
   ]
  },
  {
   "cell_type": "code",
   "execution_count": 18,
   "id": "6419ecb3",
   "metadata": {
    "execution": {
     "iopub.execute_input": "2025-05-06T09:21:55.069175Z",
     "iopub.status.busy": "2025-05-06T09:21:55.068457Z",
     "iopub.status.idle": "2025-05-06T09:21:55.085023Z",
     "shell.execute_reply": "2025-05-06T09:21:55.083873Z"
    },
    "papermill": {
     "duration": 0.036718,
     "end_time": "2025-05-06T09:21:55.086779",
     "exception": false,
     "start_time": "2025-05-06T09:21:55.050061",
     "status": "completed"
    },
    "tags": []
   },
   "outputs": [],
   "source": [
    "X = pd.DataFrame(oof_preds)\n",
    "X_test = pd.DataFrame(test_preds)"
   ]
  },
  {
   "cell_type": "code",
   "execution_count": 19,
   "id": "f8c871ab",
   "metadata": {
    "execution": {
     "iopub.execute_input": "2025-05-06T09:21:55.115248Z",
     "iopub.status.busy": "2025-05-06T09:21:55.114916Z",
     "iopub.status.idle": "2025-05-06T09:21:55.164575Z",
     "shell.execute_reply": "2025-05-06T09:21:55.163691Z"
    },
    "papermill": {
     "duration": 0.066058,
     "end_time": "2025-05-06T09:21:55.166227",
     "exception": false,
     "start_time": "2025-05-06T09:21:55.100169",
     "status": "completed"
    },
    "tags": []
   },
   "outputs": [
    {
     "data": {
      "text/plain": [
       "['test_preds.pkl']"
      ]
     },
     "execution_count": 19,
     "metadata": {},
     "output_type": "execute_result"
    }
   ],
   "source": [
    "joblib.dump(X, \"oof_preds.pkl\")\n",
    "joblib.dump(X_test, \"test_preds.pkl\")"
   ]
  },
  {
   "cell_type": "code",
   "execution_count": 20,
   "id": "78c9ecca",
   "metadata": {
    "_kg_hide-output": true,
    "execution": {
     "iopub.execute_input": "2025-05-06T09:21:55.196212Z",
     "iopub.status.busy": "2025-05-06T09:21:55.195898Z",
     "iopub.status.idle": "2025-05-06T09:26:26.753419Z",
     "shell.execute_reply": "2025-05-06T09:26:26.752467Z"
    },
    "papermill": {
     "duration": 271.574559,
     "end_time": "2025-05-06T09:26:26.755232",
     "exception": false,
     "start_time": "2025-05-06T09:21:55.180673",
     "status": "completed"
    },
    "scrolled": true,
    "tags": []
   },
   "outputs": [
    {
     "name": "stderr",
     "output_type": "stream",
     "text": [
      "[I 2025-05-06 09:21:55,202] A new study created in memory with name: no-name-1094b80e-1d35-423f-accc-8148032354c6\n",
      "[I 2025-05-06 09:21:59,849] Trial 0 finished with value: 0.05899101962304221 and parameters: {'alpha': 9.931745841162948, 'tol': 0.0039996756926334205}. Best is trial 0 with value: 0.05899101962304221.\n",
      "[I 2025-05-06 09:21:59,858] Trial 2 finished with value: 0.05898747691682003 and parameters: {'alpha': 5.781204013034679, 'tol': 0.008102630935243988}. Best is trial 2 with value: 0.05898747691682003.\n",
      "[I 2025-05-06 09:21:59,863] Trial 3 finished with value: 0.05898583924172218 and parameters: {'alpha': 1.7271901620444763, 'tol': 0.0014143535359588903}. Best is trial 3 with value: 0.05898583924172218.\n",
      "[I 2025-05-06 09:21:59,864] Trial 1 finished with value: 0.0589894185284211 and parameters: {'alpha': 8.196633266751848, 'tol': 0.009922736752874252}. Best is trial 3 with value: 0.05898583924172218.\n",
      "[I 2025-05-06 09:22:04,380] Trial 5 finished with value: 0.05898708212165434 and parameters: {'alpha': 5.198402354905822, 'tol': 0.0032196350186946424}. Best is trial 3 with value: 0.05898583924172218.\n",
      "[I 2025-05-06 09:22:04,381] Trial 6 finished with value: 0.05898660603439989 and parameters: {'alpha': 4.4004953927702095, 'tol': 0.00415129261400154}. Best is trial 3 with value: 0.05898583924172218.\n",
      "[I 2025-05-06 09:22:04,385] Trial 4 finished with value: 0.05898930042236936 and parameters: {'alpha': 8.06226654722219, 'tol': 0.002653297904543287}. Best is trial 3 with value: 0.05898583924172218.\n",
      "[I 2025-05-06 09:22:04,387] Trial 7 finished with value: 0.058986510053960106 and parameters: {'alpha': 0.07064815007882586, 'tol': 0.0009347207054171435}. Best is trial 3 with value: 0.05898583924172218.\n",
      "[I 2025-05-06 09:22:08,236] Trial 10 finished with value: 0.05898912997421242 and parameters: {'alpha': 7.866328626254598, 'tol': 0.006685016503693697}. Best is trial 3 with value: 0.05898583924172218.\n",
      "[I 2025-05-06 09:22:08,505] Trial 11 finished with value: 0.05898705636167315 and parameters: {'alpha': 5.158373799298999, 'tol': 0.007116367902852426}. Best is trial 3 with value: 0.05898583924172218.\n",
      "[I 2025-05-06 09:22:08,981] Trial 8 finished with value: 0.058989145647946425 and parameters: {'alpha': 7.884450651318855, 'tol': 0.0008534162968238203}. Best is trial 3 with value: 0.05898583924172218.\n",
      "[I 2025-05-06 09:22:08,983] Trial 9 finished with value: 0.05898808430779664 and parameters: {'alpha': 6.597150637131158, 'tol': 0.006350443645190725}. Best is trial 3 with value: 0.05898583924172218.\n",
      "[I 2025-05-06 09:22:12,204] Trial 12 finished with value: 0.05898701284237379 and parameters: {'alpha': 5.090083472437794, 'tol': 0.0039708838117086835}. Best is trial 3 with value: 0.05898583924172218.\n",
      "[I 2025-05-06 09:22:12,795] Trial 13 finished with value: 0.05898640848000571 and parameters: {'alpha': 0.19802478543551394, 'tol': 0.006430993550355714}. Best is trial 3 with value: 0.05898583924172218.\n",
      "[I 2025-05-06 09:22:13,311] Trial 15 finished with value: 0.058986129455790584 and parameters: {'alpha': 0.6408601783279494, 'tol': 0.0006831139174314742}. Best is trial 3 with value: 0.05898583924172218.\n",
      "[I 2025-05-06 09:22:13,532] Trial 14 finished with value: 0.05898633782937324 and parameters: {'alpha': 0.29500921150614545, 'tol': 0.0006842724889919067}. Best is trial 3 with value: 0.05898583924172218.\n",
      "[I 2025-05-06 09:22:16,240] Trial 16 finished with value: 0.05898596861164764 and parameters: {'alpha': 1.0277910950751434, 'tol': 0.00016208863288838613}. Best is trial 3 with value: 0.05898583924172218.\n",
      "[I 2025-05-06 09:22:17,280] Trial 17 finished with value: 0.05898656177445235 and parameters: {'alpha': 0.01032828430357391, 'tol': 0.007934623356705275}. Best is trial 3 with value: 0.05898583924172218.\n",
      "[I 2025-05-06 09:22:17,530] Trial 18 finished with value: 0.058986323080179884 and parameters: {'alpha': 3.8355296440816358, 'tol': 0.00025921564057742507}. Best is trial 3 with value: 0.05898583924172218.\n",
      "[I 2025-05-06 09:22:17,831] Trial 19 finished with value: 0.05898589208801933 and parameters: {'alpha': 2.5166669068556535, 'tol': 0.0029763007079555326}. Best is trial 3 with value: 0.05898583924172218.\n",
      "[I 2025-05-06 09:22:20,483] Trial 20 finished with value: 0.05898633171969721 and parameters: {'alpha': 3.8544281404851937, 'tol': 0.0002424875574858435}. Best is trial 3 with value: 0.05898583924172218.\n",
      "[I 2025-05-06 09:22:21,765] Trial 21 finished with value: 0.05898627325360171 and parameters: {'alpha': 3.723805717351453, 'tol': 2.6113509647829878e-05}. Best is trial 3 with value: 0.05898583924172218.\n",
      "[I 2025-05-06 09:22:21,769] Trial 22 finished with value: 0.05898612543975799 and parameters: {'alpha': 0.6487688550949432, 'tol': 0.003943759881626386}. Best is trial 3 with value: 0.05898583924172218.\n",
      "[I 2025-05-06 09:22:22,077] Trial 23 finished with value: 0.05898590138696258 and parameters: {'alpha': 1.2733134295081106, 'tol': 0.004659023472190264}. Best is trial 3 with value: 0.05898583924172218.\n",
      "[I 2025-05-06 09:22:24,600] Trial 24 finished with value: 0.05898588308832507 and parameters: {'alpha': 2.464296531107277, 'tol': 0.003578537283860543}. Best is trial 3 with value: 0.05898583924172218.\n",
      "[I 2025-05-06 09:22:25,868] Trial 25 finished with value: 0.05898584260105638 and parameters: {'alpha': 2.121836435444884, 'tol': 0.003562217328391145}. Best is trial 3 with value: 0.05898583924172218.\n",
      "[I 2025-05-06 09:22:26,087] Trial 26 finished with value: 0.05898589317508744 and parameters: {'alpha': 1.311433367383526, 'tol': 0.003720891283722248}. Best is trial 3 with value: 0.05898583924172218.\n",
      "[I 2025-05-06 09:22:26,518] Trial 27 finished with value: 0.05898583670287342 and parameters: {'alpha': 2.01032716902085, 'tol': 0.00400595506263201}. Best is trial 27 with value: 0.05898583670287342.\n",
      "[I 2025-05-06 09:22:28,793] Trial 28 finished with value: 0.05898595396102786 and parameters: {'alpha': 2.804877864764476, 'tol': 0.0032143224946452717}. Best is trial 27 with value: 0.05898583670287342.\n",
      "[I 2025-05-06 09:22:30,257] Trial 29 finished with value: 0.05898606140319094 and parameters: {'alpha': 3.1738692228951604, 'tol': 0.006536451218914167}. Best is trial 27 with value: 0.05898583670287342.\n",
      "[I 2025-05-06 09:22:30,271] Trial 30 finished with value: 0.058985907070243884 and parameters: {'alpha': 2.5960226840439864, 'tol': 0.005549608344996493}. Best is trial 27 with value: 0.05898583670287342.\n",
      "[I 2025-05-06 09:22:30,742] Trial 31 finished with value: 0.05898623372321886 and parameters: {'alpha': 3.6314713539088417, 'tol': 0.006137328078387101}. Best is trial 27 with value: 0.05898583670287342.\n",
      "[I 2025-05-06 09:22:33,333] Trial 32 finished with value: 0.05898593759055561 and parameters: {'alpha': 2.737112082365009, 'tol': 0.005698471161583848}. Best is trial 27 with value: 0.05898583670287342.\n",
      "[I 2025-05-06 09:22:34,624] Trial 33 finished with value: 0.05898589942516863 and parameters: {'alpha': 2.556591282150773, 'tol': 0.005909551556725568}. Best is trial 27 with value: 0.05898583670287342.\n",
      "[I 2025-05-06 09:22:34,628] Trial 34 finished with value: 0.058985934731575394 and parameters: {'alpha': 2.7247903351234104, 'tol': 0.0029587742334808214}. Best is trial 27 with value: 0.05898583670287342.\n",
      "[I 2025-05-06 09:22:35,134] Trial 35 finished with value: 0.05898590019781438 and parameters: {'alpha': 2.560670666596156, 'tol': 0.003245768379696454}. Best is trial 27 with value: 0.05898583670287342.\n",
      "[I 2025-05-06 09:22:37,590] Trial 36 finished with value: 0.05898585691581515 and parameters: {'alpha': 2.277225005930613, 'tol': 0.0028289266833223135}. Best is trial 27 with value: 0.05898583670287342.\n",
      "[I 2025-05-06 09:22:38,873] Trial 37 finished with value: 0.058985852184518614 and parameters: {'alpha': 2.2334613477210703, 'tol': 0.002414253949117127}. Best is trial 27 with value: 0.05898583670287342.\n",
      "[I 2025-05-06 09:22:39,126] Trial 38 finished with value: 0.05898587783664637 and parameters: {'alpha': 2.4316163185816784, 'tol': 0.0024489158900900523}. Best is trial 27 with value: 0.05898583670287342.\n",
      "[I 2025-05-06 09:22:39,576] Trial 39 finished with value: 0.058985840751279175 and parameters: {'alpha': 1.701929049632729, 'tol': 0.0030432444105973865}. Best is trial 27 with value: 0.05898583670287342.\n",
      "[I 2025-05-06 09:22:41,937] Trial 40 finished with value: 0.05898584910341677 and parameters: {'alpha': 2.201831409550593, 'tol': 0.0023605869698890745}. Best is trial 27 with value: 0.05898583670287342.\n",
      "[I 2025-05-06 09:22:43,187] Trial 41 finished with value: 0.05898617936910555 and parameters: {'alpha': 3.4981459946116726, 'tol': 0.009543595400048118}. Best is trial 27 with value: 0.05898583670287342.\n",
      "[I 2025-05-06 09:22:43,419] Trial 42 finished with value: 0.05898634035983845 and parameters: {'alpha': 0.29139756070128353, 'tol': 0.0032970919157956136}. Best is trial 27 with value: 0.05898583670287342.\n",
      "[I 2025-05-06 09:22:44,105] Trial 43 finished with value: 0.05898616539747066 and parameters: {'alpha': 0.5727124838699771, 'tol': 0.0037330127946615045}. Best is trial 27 with value: 0.05898583670287342.\n",
      "[I 2025-05-06 09:22:46,156] Trial 44 finished with value: 0.05898585642731592 and parameters: {'alpha': 1.5341143052115993, 'tol': 0.0020175616399809053}. Best is trial 27 with value: 0.05898583670287342.\n",
      "[I 2025-05-06 09:22:47,433] Trial 45 finished with value: 0.05898608729284667 and parameters: {'alpha': 0.7272644754485784, 'tol': 0.0026834921989441333}. Best is trial 27 with value: 0.05898583670287342.\n",
      "[I 2025-05-06 09:22:47,453] Trial 46 finished with value: 0.058985835133044895 and parameters: {'alpha': 1.9521968918734813, 'tol': 0.0017562448809200814}. Best is trial 46 with value: 0.058985835133044895.\n",
      "[I 2025-05-06 09:22:48,340] Trial 47 finished with value: 0.05898583550842208 and parameters: {'alpha': 1.9702596295000014, 'tol': 0.0017274751492984603}. Best is trial 46 with value: 0.058985835133044895.\n",
      "[I 2025-05-06 09:22:50,410] Trial 48 finished with value: 0.05898583580013679 and parameters: {'alpha': 1.981750109443402, 'tol': 0.0019588450498537083}. Best is trial 46 with value: 0.058985835133044895.\n",
      "[I 2025-05-06 09:22:51,503] Trial 49 finished with value: 0.05898695828148416 and parameters: {'alpha': 5.003219905286258, 'tol': 0.0020903825801647504}. Best is trial 46 with value: 0.058985835133044895.\n",
      "[I 2025-05-06 09:22:51,963] Trial 50 finished with value: 0.05899072515846472 and parameters: {'alpha': 9.622518363483298, 'tol': 0.004608265878210433}. Best is trial 46 with value: 0.058985835133044895.\n",
      "[I 2025-05-06 09:22:52,665] Trial 51 finished with value: 0.058985834622098554 and parameters: {'alpha': 1.8958071550240772, 'tol': 0.0007652931571855122}. Best is trial 51 with value: 0.058985834622098554.\n",
      "[I 2025-05-06 09:22:54,914] Trial 52 finished with value: 0.05899087095870015 and parameters: {'alpha': 9.7760854466075, 'tol': 0.006917827342364433}. Best is trial 51 with value: 0.058985834622098554.\n",
      "[I 2025-05-06 09:22:55,575] Trial 53 finished with value: 0.05898588083574605 and parameters: {'alpha': 1.3745593801445346, 'tol': 0.0009007753498988435}. Best is trial 51 with value: 0.058985834622098554.\n",
      "[I 2025-05-06 09:22:56,181] Trial 54 finished with value: 0.05898583996792519 and parameters: {'alpha': 2.080315072240308, 'tol': 0.0007091458303249848}. Best is trial 51 with value: 0.058985834622098554.\n",
      "[I 2025-05-06 09:22:56,888] Trial 55 finished with value: 0.05898589371405101 and parameters: {'alpha': 2.525709855036352, 'tol': 0.000877841685236379}. Best is trial 51 with value: 0.058985834622098554.\n",
      "[I 2025-05-06 09:22:59,155] Trial 56 finished with value: 0.058985842958196665 and parameters: {'alpha': 2.1269146516314614, 'tol': 0.0009481765816783946}. Best is trial 51 with value: 0.058985834622098554.\n",
      "[I 2025-05-06 09:22:59,794] Trial 57 finished with value: 0.05898585024447043 and parameters: {'alpha': 2.213891563990535, 'tol': 0.0006463194027803909}. Best is trial 51 with value: 0.058985834622098554.\n",
      "[I 2025-05-06 09:23:00,447] Trial 58 finished with value: 0.058985844366657623 and parameters: {'alpha': 2.1459784412730003, 'tol': 0.0008389028590184836}. Best is trial 51 with value: 0.058985834622098554.\n",
      "[I 2025-05-06 09:23:01,344] Trial 59 finished with value: 0.0589858355665096 and parameters: {'alpha': 1.9726822026342306, 'tol': 0.0008111758053394792}. Best is trial 51 with value: 0.058985834622098554.\n",
      "[I 2025-05-06 09:23:03,428] Trial 60 finished with value: 0.05898585724623372 and parameters: {'alpha': 2.28010647464211, 'tol': 0.0009471741545242314}. Best is trial 51 with value: 0.058985834622098554.\n",
      "[I 2025-05-06 09:23:04,283] Trial 61 finished with value: 0.058986273515511944 and parameters: {'alpha': 0.39074373090427783, 'tol': 0.001434768668732586}. Best is trial 51 with value: 0.058985834622098554.\n",
      "[I 2025-05-06 09:23:04,727] Trial 62 finished with value: 0.058985839248440586 and parameters: {'alpha': 2.0672976897774613, 'tol': 0.001487432347799667}. Best is trial 51 with value: 0.058985834622098554.\n",
      "[I 2025-05-06 09:23:05,606] Trial 63 finished with value: 0.05898583769050816 and parameters: {'alpha': 1.758070406444547, 'tol': 0.001492799083235902}. Best is trial 51 with value: 0.058985834622098554.\n",
      "[I 2025-05-06 09:23:07,738] Trial 64 finished with value: 0.058986328111768106 and parameters: {'alpha': 0.30898179011022564, 'tol': 0.0015016920231223996}. Best is trial 51 with value: 0.058985834622098554.\n",
      "[I 2025-05-06 09:23:08,447] Trial 65 finished with value: 0.05899049862529564 and parameters: {'alpha': 9.382020055952072, 'tol': 0.0012507017029926883}. Best is trial 51 with value: 0.058985834622098554.\n",
      "[I 2025-05-06 09:23:09,096] Trial 66 finished with value: 0.05898623204401756 and parameters: {'alpha': 3.627468596713361, 'tol': 0.0021130176744328074}. Best is trial 51 with value: 0.058985834622098554.\n",
      "[I 2025-05-06 09:23:10,060] Trial 67 finished with value: 0.05898583757102771 and parameters: {'alpha': 2.032378620474302, 'tol': 8.137247782883685e-05}. Best is trial 51 with value: 0.058985834622098554.\n",
      "[I 2025-05-06 09:23:12,218] Trial 68 finished with value: 0.058986672143918915 and parameters: {'alpha': 4.520231682106565, 'tol': 0.0015913106528708401}. Best is trial 51 with value: 0.058985834622098554.\n",
      "[I 2025-05-06 09:23:12,913] Trial 69 finished with value: 0.058986007508933694 and parameters: {'alpha': 3.0016212331201344, 'tol': 0.0014315786932942453}. Best is trial 51 with value: 0.058985834622098554.\n",
      "[I 2025-05-06 09:23:13,323] Trial 70 finished with value: 0.058985894958996074 and parameters: {'alpha': 1.3029197575358078, 'tol': 0.00023802711401248232}. Best is trial 51 with value: 0.058985834622098554.\n",
      "[I 2025-05-06 09:23:14,450] Trial 71 finished with value: 0.05898583487232732 and parameters: {'alpha': 1.9351311059229777, 'tol': 4.1680343783170084e-05}. Best is trial 51 with value: 0.058985834622098554.\n",
      "[I 2025-05-06 09:23:16,661] Trial 72 finished with value: 0.058985868031248945 and parameters: {'alpha': 2.3651285938706543, 'tol': 0.00019454172382406265}. Best is trial 51 with value: 0.058985834622098554.\n",
      "[I 2025-05-06 09:23:17,343] Trial 73 finished with value: 0.05898584152368356 and parameters: {'alpha': 1.6902398060788653, 'tol': 0.000691381103939511}. Best is trial 51 with value: 0.058985834622098554.\n",
      "[I 2025-05-06 09:23:17,347] Trial 74 finished with value: 0.05898585785183463 and parameters: {'alpha': 2.285335976863936, 'tol': 7.4178115476962865e-06}. Best is trial 51 with value: 0.058985834622098554.\n",
      "[I 2025-05-06 09:23:18,624] Trial 75 finished with value: 0.058985897657543765 and parameters: {'alpha': 2.5471731248852554, 'tol': 0.00017519323112321445}. Best is trial 51 with value: 0.058985834622098554.\n",
      "[I 2025-05-06 09:23:20,955] Trial 76 finished with value: 0.05898594905400012 and parameters: {'alpha': 2.785031368727599, 'tol': 1.6290866720938578e-05}. Best is trial 51 with value: 0.058985834622098554.\n",
      "[I 2025-05-06 09:23:21,452] Trial 77 finished with value: 0.05898597382618086 and parameters: {'alpha': 2.8817198140970604, 'tol': 0.00029676736418107654}. Best is trial 51 with value: 0.058985834622098554.\n",
      "[I 2025-05-06 09:23:22,062] Trial 78 finished with value: 0.05898824605600308 and parameters: {'alpha': 6.802716208238101, 'tol': 0.009017723658764043}. Best is trial 51 with value: 0.058985834622098554.\n",
      "[I 2025-05-06 09:23:22,785] Trial 79 finished with value: 0.05898609660439028 and parameters: {'alpha': 0.7075059746452053, 'tol': 0.00043728678209610717}. Best is trial 51 with value: 0.058985834622098554.\n",
      "[I 2025-05-06 09:23:25,076] Trial 80 finished with value: 0.05898594305814471 and parameters: {'alpha': 1.1107249464301145, 'tol': 0.000989602303284828}. Best is trial 51 with value: 0.058985834622098554.\n",
      "[I 2025-05-06 09:23:25,689] Trial 81 finished with value: 0.0589859621232852 and parameters: {'alpha': 1.047957088544059, 'tol': 0.0002759486372932039}. Best is trial 51 with value: 0.058985834622098554.\n",
      "[I 2025-05-06 09:23:26,379] Trial 82 finished with value: 0.05898595971675045 and parameters: {'alpha': 1.0555806285695046, 'tol': 0.0009738709419259884}. Best is trial 51 with value: 0.058985834622098554.\n",
      "[I 2025-05-06 09:23:27,056] Trial 83 finished with value: 0.05898627756721962 and parameters: {'alpha': 3.7336731143163973, 'tol': 0.002274444038343245}. Best is trial 51 with value: 0.058985834622098554.\n",
      "[I 2025-05-06 09:23:29,322] Trial 84 finished with value: 0.05898605440076229 and parameters: {'alpha': 0.8006166613917738, 'tol': 0.002130091362587722}. Best is trial 51 with value: 0.058985834622098554.\n",
      "[I 2025-05-06 09:23:30,021] Trial 85 finished with value: 0.05898596486116468 and parameters: {'alpha': 2.8476939412596383, 'tol': 0.0021776082380292683}. Best is trial 51 with value: 0.058985834622098554.\n",
      "[I 2025-05-06 09:23:31,069] Trial 86 finished with value: 0.05898591282836889 and parameters: {'alpha': 2.6244684694636735, 'tol': 0.0021561695596719246}. Best is trial 51 with value: 0.058985834622098554.\n",
      "[I 2025-05-06 09:23:31,359] Trial 87 finished with value: 0.058985844961008685 and parameters: {'alpha': 1.6449633082423047, 'tol': 0.0023256014639980727}. Best is trial 51 with value: 0.058985834622098554.\n",
      "[I 2025-05-06 09:23:33,481] Trial 88 finished with value: 0.05898583577103318 and parameters: {'alpha': 1.811128827256153, 'tol': 0.0028479078537238947}. Best is trial 51 with value: 0.058985834622098554.\n",
      "[I 2025-05-06 09:23:34,178] Trial 89 finished with value: 0.05898585577392797 and parameters: {'alpha': 2.2671063054361063, 'tol': 0.002134944285470244}. Best is trial 51 with value: 0.058985834622098554.\n",
      "[I 2025-05-06 09:23:35,655] Trial 90 finished with value: 0.05898594969962341 and parameters: {'alpha': 1.0882164916062, 'tol': 0.002259314437856394}. Best is trial 51 with value: 0.058985834622098554.\n",
      "[I 2025-05-06 09:23:35,659] Trial 91 finished with value: 0.05898584149843737 and parameters: {'alpha': 1.6906109578489033, 'tol': 0.002177467007152328}. Best is trial 51 with value: 0.058985834622098554.\n",
      "[I 2025-05-06 09:23:37,813] Trial 92 finished with value: 0.058985880255512636 and parameters: {'alpha': 2.446887021782028, 'tol': 0.003992616832196324}. Best is trial 51 with value: 0.058985834622098554.\n",
      "[I 2025-05-06 09:23:38,491] Trial 93 finished with value: 0.058985903303705865 and parameters: {'alpha': 2.5768492507561422, 'tol': 0.004233104153063947}. Best is trial 51 with value: 0.058985834622098554.\n",
      "[I 2025-05-06 09:23:39,953] Trial 95 finished with value: 0.05898589009213027 and parameters: {'alpha': 2.505402819453301, 'tol': 0.004848592434032056}. Best is trial 51 with value: 0.058985834622098554.\n",
      "[I 2025-05-06 09:23:39,956] Trial 94 finished with value: 0.058985835250446886 and parameters: {'alpha': 1.833017843555873, 'tol': 0.0027784266967229914}. Best is trial 51 with value: 0.058985834622098554.\n",
      "[I 2025-05-06 09:23:42,209] Trial 96 finished with value: 0.05898629518868155 and parameters: {'alpha': 3.7735861151593717, 'tol': 0.003938142169658026}. Best is trial 51 with value: 0.058985834622098554.\n",
      "[I 2025-05-06 09:23:42,966] Trial 97 finished with value: 0.0589858425394446 and parameters: {'alpha': 2.1209492555244847, 'tol': 0.001755083326789488}. Best is trial 51 with value: 0.058985834622098554.\n",
      "[I 2025-05-06 09:23:44,449] Trial 99 finished with value: 0.058986137889739075 and parameters: {'alpha': 0.624452570323319, 'tol': 0.005429586178476249}. Best is trial 51 with value: 0.058985834622098554.\n",
      "[I 2025-05-06 09:23:44,463] Trial 98 finished with value: 0.058985908197940494 and parameters: {'alpha': 1.2435728787745477, 'tol': 0.00389113829237237}. Best is trial 51 with value: 0.058985834622098554.\n",
      "[I 2025-05-06 09:23:46,542] Trial 100 finished with value: 0.05898597714452698 and parameters: {'alpha': 1.0020778684951441, 'tol': 0.0034333260065627196}. Best is trial 51 with value: 0.058985834622098554.\n",
      "[I 2025-05-06 09:23:47,061] Trial 101 finished with value: 0.05898599726386296 and parameters: {'alpha': 0.9446584442904424, 'tol': 0.004059798976313783}. Best is trial 51 with value: 0.058985834622098554.\n",
      "[I 2025-05-06 09:23:48,473] Trial 102 finished with value: 0.05898586931908267 and parameters: {'alpha': 2.3743430341469014, 'tol': 0.0033436630228106815}. Best is trial 51 with value: 0.058985834622098554.\n",
      "[I 2025-05-06 09:23:48,950] Trial 103 finished with value: 0.05898585630795783 and parameters: {'alpha': 2.271870253251415, 'tol': 0.00286422354997388}. Best is trial 51 with value: 0.058985834622098554.\n",
      "[I 2025-05-06 09:23:50,486] Trial 104 finished with value: 0.058985856318876685 and parameters: {'alpha': 2.2719670664224165, 'tol': 0.0024130188965665756}. Best is trial 51 with value: 0.058985834622098554.\n",
      "[I 2025-05-06 09:23:51,919] Trial 105 finished with value: 0.05898585512837723 and parameters: {'alpha': 2.261269973733158, 'tol': 0.0024914754772854737}. Best is trial 51 with value: 0.058985834622098554.\n",
      "[I 2025-05-06 09:23:52,648] Trial 106 finished with value: 0.05898602903408443 and parameters: {'alpha': 3.0728816137105865, 'tol': 0.0018837274256095422}. Best is trial 51 with value: 0.058985834622098554.\n",
      "[I 2025-05-06 09:23:53,507] Trial 107 finished with value: 0.05899089172703709 and parameters: {'alpha': 9.797886021696925, 'tol': 0.009721240764112965}. Best is trial 51 with value: 0.058985834622098554.\n",
      "[I 2025-05-06 09:23:54,801] Trial 108 finished with value: 0.05898598636952952 and parameters: {'alpha': 2.9277303239674835, 'tol': 0.001388578046882723}. Best is trial 51 with value: 0.058985834622098554.\n",
      "[I 2025-05-06 09:23:56,242] Trial 109 finished with value: 0.058990259104948595 and parameters: {'alpha': 9.125018751898843, 'tol': 0.009081632883789704}. Best is trial 51 with value: 0.058985834622098554.\n",
      "[I 2025-05-06 09:23:56,928] Trial 110 finished with value: 0.05898617924519328 and parameters: {'alpha': 0.547615687590693, 'tol': 5.9958445671723685e-06}. Best is trial 51 with value: 0.058985834622098554.\n",
      "[I 2025-05-06 09:23:57,626] Trial 111 finished with value: 0.05898612499008933 and parameters: {'alpha': 3.355691491190063, 'tol': 0.00017497306199013973}. Best is trial 51 with value: 0.058985834622098554.\n",
      "[I 2025-05-06 09:23:59,102] Trial 112 finished with value: 0.05898591128956526 and parameters: {'alpha': 1.2305643733519929, 'tol': 0.00010538569017381097}. Best is trial 51 with value: 0.058985834622098554.\n",
      "[I 2025-05-06 09:24:00,851] Trial 113 finished with value: 0.058986136530559154 and parameters: {'alpha': 3.3867993444257536, 'tol': 7.65448075870645e-06}. Best is trial 51 with value: 0.058985834622098554.\n",
      "[I 2025-05-06 09:24:01,309] Trial 114 finished with value: 0.05898583977906724 and parameters: {'alpha': 1.717772501263687, 'tol': 0.0016975734928504336}. Best is trial 51 with value: 0.058985834622098554.\n",
      "[I 2025-05-06 09:24:02,014] Trial 115 finished with value: 0.0589859474725332 and parameters: {'alpha': 1.0956827490172554, 'tol': 0.0017775950711342338}. Best is trial 51 with value: 0.058985834622098554.\n",
      "[I 2025-05-06 09:24:03,467] Trial 116 finished with value: 0.058985869657227664 and parameters: {'alpha': 1.440068160918473, 'tol': 0.0019039102459782777}. Best is trial 51 with value: 0.058985834622098554.\n",
      "[I 2025-05-06 09:24:05,189] Trial 117 finished with value: 0.058985873530320664 and parameters: {'alpha': 1.416262372299346, 'tol': 0.00175869715628014}. Best is trial 51 with value: 0.058985834622098554.\n",
      "[I 2025-05-06 09:24:05,636] Trial 118 finished with value: 0.05898891276380881 and parameters: {'alpha': 7.612863580816082, 'tol': 0.004595651021034336}. Best is trial 51 with value: 0.058985834622098554.\n",
      "[I 2025-05-06 09:24:06,371] Trial 119 finished with value: 0.05898597323589514 and parameters: {'alpha': 1.0137470571786174, 'tol': 0.002067802817012067}. Best is trial 51 with value: 0.058985834622098554.\n",
      "[I 2025-05-06 09:24:07,823] Trial 120 finished with value: 0.05898587840055244 and parameters: {'alpha': 2.435211475764096, 'tol': 0.0013215357557745363}. Best is trial 51 with value: 0.058985834622098554.\n",
      "[I 2025-05-06 09:24:09,507] Trial 121 finished with value: 0.058985842154242615 and parameters: {'alpha': 1.6811860108402812, 'tol': 7.781566376623302e-05}. Best is trial 51 with value: 0.058985834622098554.\n",
      "[I 2025-05-06 09:24:09,963] Trial 122 finished with value: 0.0589858392216346 and parameters: {'alpha': 2.066794195513958, 'tol': 0.0011586199833249291}. Best is trial 51 with value: 0.058985834622098554.\n",
      "[I 2025-05-06 09:24:10,694] Trial 123 finished with value: 0.05898590241174819 and parameters: {'alpha': 2.5722382696216717, 'tol': 0.001127326648757645}. Best is trial 51 with value: 0.058985834622098554.\n",
      "[I 2025-05-06 09:24:12,306] Trial 124 finished with value: 0.05898584868755703 and parameters: {'alpha': 2.1973227359875307, 'tol': 0.0014288403330418107}. Best is trial 51 with value: 0.058985834622098554.\n",
      "[I 2025-05-06 09:24:13,977] Trial 125 finished with value: 0.058986142389017615 and parameters: {'alpha': 3.4023996188575243, 'tol': 0.0019694423933934234}. Best is trial 51 with value: 0.058985834622098554.\n",
      "[I 2025-05-06 09:24:14,643] Trial 126 finished with value: 0.0589859437877829 and parameters: {'alpha': 2.7633006267907008, 'tol': 0.001486352523910607}. Best is trial 51 with value: 0.058985834622098554.\n",
      "[I 2025-05-06 09:24:15,391] Trial 127 finished with value: 0.05898590677209031 and parameters: {'alpha': 2.594521948430935, 'tol': 0.0013105561250220923}. Best is trial 51 with value: 0.058985834622098554.\n",
      "[I 2025-05-06 09:24:16,823] Trial 128 finished with value: 0.05898583753823725 and parameters: {'alpha': 1.761495750172412, 'tol': 0.00013624386615355445}. Best is trial 51 with value: 0.058985834622098554.\n",
      "[I 2025-05-06 09:24:18,504] Trial 129 finished with value: 0.05898584503437868 and parameters: {'alpha': 1.6440893007833954, 'tol': 0.0017633231950382499}. Best is trial 51 with value: 0.058985834622098554.\n",
      "[I 2025-05-06 09:24:18,959] Trial 130 finished with value: 0.05898639212031339 and parameters: {'alpha': 0.21980537156358348, 'tol': 0.0021671132295974765}. Best is trial 51 with value: 0.058985834622098554.\n",
      "[I 2025-05-06 09:24:19,664] Trial 131 finished with value: 0.058985866185651506 and parameters: {'alpha': 1.462616999517155, 'tol': 0.00036488146916417697}. Best is trial 51 with value: 0.058985834622098554.\n",
      "[I 2025-05-06 09:24:21,131] Trial 132 finished with value: 0.058985987209532874 and parameters: {'alpha': 0.9728246675570363, 'tol': 0.0003529562231125572}. Best is trial 51 with value: 0.058985834622098554.\n",
      "[I 2025-05-06 09:24:22,638] Trial 133 finished with value: 0.05898593937141763 and parameters: {'alpha': 1.1235471837710114, 'tol': 0.0004889438663219545}. Best is trial 51 with value: 0.058985834622098554.\n",
      "[I 2025-05-06 09:24:23,276] Trial 134 finished with value: 0.058985836014630824 and parameters: {'alpha': 1.8026635061243421, 'tol': 0.0003122387037803987}. Best is trial 51 with value: 0.058985834622098554.\n",
      "[I 2025-05-06 09:24:23,984] Trial 135 finished with value: 0.05898859235395694 and parameters: {'alpha': 7.230214614128228, 'tol': 0.0020262247743401385}. Best is trial 51 with value: 0.058985834622098554.\n",
      "[I 2025-05-06 09:24:25,434] Trial 136 finished with value: 0.05898583489607858 and parameters: {'alpha': 1.9369747831994895, 'tol': 0.00026822100988363885}. Best is trial 51 with value: 0.058985834622098554.\n",
      "[I 2025-05-06 09:24:26,933] Trial 137 finished with value: 0.05898584684975964 and parameters: {'alpha': 1.6233960437696833, 'tol': 0.00014045876374670508}. Best is trial 51 with value: 0.058985834622098554.\n",
      "[I 2025-05-06 09:24:27,537] Trial 138 finished with value: 0.058985972431481605 and parameters: {'alpha': 2.876492002102569, 'tol': 0.00017680295571061557}. Best is trial 51 with value: 0.058985834622098554.\n",
      "[I 2025-05-06 09:24:28,411] Trial 139 finished with value: 0.05898595585924441 and parameters: {'alpha': 2.812456481983845, 'tol': 1.930287458280883e-06}. Best is trial 51 with value: 0.058985834622098554.\n",
      "[I 2025-05-06 09:24:29,674] Trial 140 finished with value: 0.058985842831389704 and parameters: {'alpha': 2.1251239195753597, 'tol': 0.00012194192130967287}. Best is trial 51 with value: 0.058985834622098554.\n",
      "[I 2025-05-06 09:24:31,406] Trial 141 finished with value: 0.05898585467394244 and parameters: {'alpha': 2.2571085599168796, 'tol': 0.00010988570573266429}. Best is trial 51 with value: 0.058985834622098554.\n",
      "[I 2025-05-06 09:24:31,856] Trial 142 finished with value: 0.05898587399019206 and parameters: {'alpha': 1.4135206297028442, 'tol': 9.799988573375097e-05}. Best is trial 51 with value: 0.058985834622098554.\n",
      "[I 2025-05-06 09:24:32,746] Trial 143 finished with value: 0.05898584534749253 and parameters: {'alpha': 2.1584720515395954, 'tol': 0.0005081485152206822}. Best is trial 51 with value: 0.058985834622098554.\n",
      "[I 2025-05-06 09:24:34,030] Trial 144 finished with value: 0.0589858410041206 and parameters: {'alpha': 1.6980236860264968, 'tol': 0.00017535027673638972}. Best is trial 51 with value: 0.058985834622098554.\n",
      "[I 2025-05-06 09:24:35,521] Trial 145 finished with value: 0.05898583712466064 and parameters: {'alpha': 1.7712869568847198, 'tol': 0.0001691439887429324}. Best is trial 51 with value: 0.058985834622098554.\n",
      "[I 2025-05-06 09:24:35,979] Trial 146 finished with value: 0.05898585899160484 and parameters: {'alpha': 2.2950046162038134, 'tol': 0.00161359999682725}. Best is trial 51 with value: 0.058985834622098554.\n",
      "[I 2025-05-06 09:24:37,072] Trial 147 finished with value: 0.05898584095085442 and parameters: {'alpha': 1.698839755311846, 'tol': 0.002908177436873023}. Best is trial 51 with value: 0.058985834622098554.\n",
      "[I 2025-05-06 09:24:38,322] Trial 148 finished with value: 0.05898585745708882 and parameters: {'alpha': 2.2819347549800053, 'tol': 0.002555285312341756}. Best is trial 51 with value: 0.058985834622098554.\n",
      "[I 2025-05-06 09:24:39,792] Trial 149 finished with value: 0.05898586596131149 and parameters: {'alpha': 2.349958395042673, 'tol': 0.003308431680323118}. Best is trial 51 with value: 0.058985834622098554.\n",
      "[I 2025-05-06 09:24:40,240] Trial 150 finished with value: 0.05898631869103484 and parameters: {'alpha': 0.32268695876645115, 'tol': 0.0003568311770234966}. Best is trial 51 with value: 0.058985834622098554.\n",
      "[I 2025-05-06 09:24:41,597] Trial 151 finished with value: 0.058985860247830965 and parameters: {'alpha': 1.5044461499975326, 'tol': 0.0015309477246496896}. Best is trial 51 with value: 0.058985834622098554.\n",
      "[I 2025-05-06 09:24:42,932] Trial 152 finished with value: 0.05898609296732569 and parameters: {'alpha': 0.7151747645681925, 'tol': 0.00038080498955952606}. Best is trial 51 with value: 0.058985834622098554.\n",
      "[I 2025-05-06 09:24:44,231] Trial 153 finished with value: 0.058985876456698186 and parameters: {'alpha': 1.3990967031303518, 'tol': 2.7571866431541636e-05}. Best is trial 51 with value: 0.058985834622098554.\n",
      "[I 2025-05-06 09:24:44,710] Trial 154 finished with value: 0.05898583750694586 and parameters: {'alpha': 2.030871095668067, 'tol': 0.0011874378215593249}. Best is trial 51 with value: 0.058985834622098554.\n",
      "[I 2025-05-06 09:24:46,055] Trial 155 finished with value: 0.058985936499937955 and parameters: {'alpha': 2.7324302184668596, 'tol': 0.00024644882734276973}. Best is trial 51 with value: 0.058985834622098554.\n",
      "[I 2025-05-06 09:24:47,232] Trial 156 finished with value: 0.05898749827782329 and parameters: {'alpha': 5.811339940925407, 'tol': 0.005442873998713717}. Best is trial 51 with value: 0.058985834622098554.\n",
      "[I 2025-05-06 09:24:48,484] Trial 157 finished with value: 0.05898584256853717 and parameters: {'alpha': 2.1213685920083036, 'tol': 0.001375465272775166}. Best is trial 51 with value: 0.058985834622098554.\n",
      "[I 2025-05-06 09:24:49,353] Trial 158 finished with value: 0.05898598394914857 and parameters: {'alpha': 2.918987545308648, 'tol': 0.00021763389283941634}. Best is trial 51 with value: 0.058985834622098554.\n",
      "[I 2025-05-06 09:24:50,415] Trial 159 finished with value: 0.05898673265323874 and parameters: {'alpha': 4.626798754435949, 'tol': 0.001165738457168798}. Best is trial 51 with value: 0.058985834622098554.\n",
      "[I 2025-05-06 09:24:51,495] Trial 160 finished with value: 0.05898614382232068 and parameters: {'alpha': 3.4061972867799124, 'tol': 0.001443543207054848}. Best is trial 51 with value: 0.058985834622098554.\n",
      "[I 2025-05-06 09:24:52,594] Trial 161 finished with value: 0.058985857252169704 and parameters: {'alpha': 1.527492182286733, 'tol': 0.0015525533168868162}. Best is trial 51 with value: 0.058985834622098554.\n",
      "[I 2025-05-06 09:24:53,876] Trial 162 finished with value: 0.058985837707144904 and parameters: {'alpha': 1.7577014535757958, 'tol': 0.0014768387804490368}. Best is trial 51 with value: 0.058985834622098554.\n",
      "[I 2025-05-06 09:24:54,523] Trial 163 finished with value: 0.05898586989103116 and parameters: {'alpha': 1.4385928197807265, 'tol': 0.0016173424327256903}. Best is trial 51 with value: 0.058985834622098554.\n",
      "[I 2025-05-06 09:24:55,773] Trial 164 finished with value: 0.05898591843155911 and parameters: {'alpha': 1.201559935859891, 'tol': 0.0021980057360089845}. Best is trial 51 with value: 0.058985834622098554.\n",
      "[I 2025-05-06 09:24:56,892] Trial 165 finished with value: 0.05898583462578864 and parameters: {'alpha': 1.9002935297610257, 'tol': 0.0015887368691217011}. Best is trial 51 with value: 0.058985834622098554.\n",
      "[I 2025-05-06 09:24:58,327] Trial 166 finished with value: 0.058985967016590236 and parameters: {'alpha': 1.0326975459751582, 'tol': 0.002537477777124886}. Best is trial 51 with value: 0.058985834622098554.\n",
      "[I 2025-05-06 09:24:59,046] Trial 167 finished with value: 0.058985872287462514 and parameters: {'alpha': 1.4237592185904884, 'tol': 0.0028714982559788597}. Best is trial 51 with value: 0.058985834622098554.\n",
      "[I 2025-05-06 09:24:59,729] Trial 168 finished with value: 0.058985838100762675 and parameters: {'alpha': 2.044270075354253, 'tol': 0.001362325850350107}. Best is trial 51 with value: 0.058985834622098554.\n",
      "[I 2025-05-06 09:25:01,209] Trial 169 finished with value: 0.05898602270062621 and parameters: {'alpha': 3.052289355318446, 'tol': 0.0030667418336308675}. Best is trial 51 with value: 0.058985834622098554.\n",
      "[I 2025-05-06 09:25:02,710] Trial 170 finished with value: 0.05898584172475165 and parameters: {'alpha': 2.108885351427693, 'tol': 6.488670204297629e-05}. Best is trial 51 with value: 0.058985834622098554.\n",
      "[I 2025-05-06 09:25:03,414] Trial 171 finished with value: 0.058985838790975964 and parameters: {'alpha': 1.735530842027396, 'tol': 0.00894737706278759}. Best is trial 51 with value: 0.058985834622098554.\n",
      "[I 2025-05-06 09:25:04,037] Trial 172 finished with value: 0.058986099058551233 and parameters: {'alpha': 3.2838229090633853, 'tol': 0.003065249073429312}. Best is trial 51 with value: 0.058985834622098554.\n",
      "[I 2025-05-06 09:25:05,739] Trial 173 finished with value: 0.05898592873694443 and parameters: {'alpha': 2.6984241940321776, 'tol': 8.02222884785256e-06}. Best is trial 51 with value: 0.058985834622098554.\n",
      "[I 2025-05-06 09:25:07,018] Trial 174 finished with value: 0.058985850459838784 and parameters: {'alpha': 1.5865189185417634, 'tol': 0.0016856671515814723}. Best is trial 51 with value: 0.058985834622098554.\n",
      "[I 2025-05-06 09:25:07,721] Trial 175 finished with value: 0.058985852218739955 and parameters: {'alpha': 2.233796945442966, 'tol': 0.0015505436538207332}. Best is trial 51 with value: 0.058985834622098554.\n",
      "[I 2025-05-06 09:25:08,304] Trial 176 finished with value: 0.05898584423475055 and parameters: {'alpha': 2.144252514176266, 'tol': 0.0012986916187400599}. Best is trial 51 with value: 0.058985834622098554.\n",
      "[I 2025-05-06 09:25:09,988] Trial 177 finished with value: 0.05898586538034214 and parameters: {'alpha': 1.4680319061427862, 'tol': 0.0016868496179141914}. Best is trial 51 with value: 0.058985834622098554.\n",
      "[I 2025-05-06 09:25:11,269] Trial 178 finished with value: 0.05898584833616303 and parameters: {'alpha': 2.193462590873404, 'tol': 0.0016409602805006322}. Best is trial 51 with value: 0.058985834622098554.\n",
      "[I 2025-05-06 09:25:12,153] Trial 179 finished with value: 0.05898644538731622 and parameters: {'alpha': 0.15024676277060367, 'tol': 0.0013285015995421054}. Best is trial 51 with value: 0.058985834622098554.\n",
      "[I 2025-05-06 09:25:12,605] Trial 180 finished with value: 0.05898597168852683 and parameters: {'alpha': 1.0184171455973474, 'tol': 0.0013769348395908504}. Best is trial 51 with value: 0.058985834622098554.\n",
      "[I 2025-05-06 09:25:14,152] Trial 181 finished with value: 0.05898647670129953 and parameters: {'alpha': 0.11108365272230536, 'tol': 0.0017292786931230881}. Best is trial 51 with value: 0.058985834622098554.\n",
      "[I 2025-05-06 09:25:15,607] Trial 182 finished with value: 0.05898598430629548 and parameters: {'alpha': 2.9202815438095007, 'tol': 0.0014703784786346706}. Best is trial 51 with value: 0.058985834622098554.\n",
      "[I 2025-05-06 09:25:16,301] Trial 183 finished with value: 0.05898700162999303 and parameters: {'alpha': 5.072348814132186, 'tol': 0.009962676765783784}. Best is trial 51 with value: 0.058985834622098554.\n",
      "[I 2025-05-06 09:25:16,910] Trial 184 finished with value: 0.0589859653286797 and parameters: {'alpha': 2.849493712347586, 'tol': 0.0014518679151177749}. Best is trial 51 with value: 0.058985834622098554.\n",
      "[I 2025-05-06 09:25:18,694] Trial 185 finished with value: 0.058985998729939614 and parameters: {'alpha': 2.971448020322307, 'tol': 0.001665324374580137}. Best is trial 51 with value: 0.058985834622098554.\n",
      "[I 2025-05-06 09:25:20,240] Trial 186 finished with value: 0.05898584039060319 and parameters: {'alpha': 2.08756391034422, 'tol': 0.001003555263910739}. Best is trial 51 with value: 0.058985834622098554.\n",
      "[I 2025-05-06 09:25:20,672] Trial 187 finished with value: 0.058985835501992656 and parameters: {'alpha': 1.8216159854755831, 'tol': 5.378281589562108e-05}. Best is trial 51 with value: 0.058985834622098554.\n",
      "[I 2025-05-06 09:25:20,971] Trial 188 finished with value: 0.05898584062738673 and parameters: {'alpha': 1.7038727672877587, 'tol': 0.004134305007071678}. Best is trial 51 with value: 0.058985834622098554.\n",
      "[I 2025-05-06 09:25:23,284] Trial 189 finished with value: 0.05898583549026352 and parameters: {'alpha': 1.9694862772044417, 'tol': 0.0034807750613680237}. Best is trial 51 with value: 0.058985834622098554.\n",
      "[I 2025-05-06 09:25:24,594] Trial 190 finished with value: 0.058985842430594994 and parameters: {'alpha': 2.1193736382575583, 'tol': 0.0002691499956302514}. Best is trial 51 with value: 0.058985834622098554.\n",
      "[I 2025-05-06 09:25:25,056] Trial 191 finished with value: 0.05898583508719328 and parameters: {'alpha': 1.9495839009746865, 'tol': 0.00033737561949635894}. Best is trial 51 with value: 0.058985834622098554.\n",
      "[I 2025-05-06 09:25:25,511] Trial 192 finished with value: 0.05898585699168183 and parameters: {'alpha': 1.5295696252424298, 'tol': 0.000307167060152538}. Best is trial 51 with value: 0.058985834622098554.\n",
      "[I 2025-05-06 09:25:27,619] Trial 193 finished with value: 0.058985908553040076 and parameters: {'alpha': 2.603444358204714, 'tol': 0.004481167344413168}. Best is trial 51 with value: 0.058985834622098554.\n",
      "[I 2025-05-06 09:25:28,912] Trial 194 finished with value: 0.05898584021171962 and parameters: {'alpha': 1.7105485345722404, 'tol': 1.9872780011116395e-06}. Best is trial 51 with value: 0.058985834622098554.\n",
      "[I 2025-05-06 09:25:29,380] Trial 195 finished with value: 0.05898604655048478 and parameters: {'alpha': 0.819035325264349, 'tol': 0.00014704926425592084}. Best is trial 51 with value: 0.058985834622098554.\n",
      "[I 2025-05-06 09:25:29,670] Trial 196 finished with value: 0.05898584499582833 and parameters: {'alpha': 2.1540590139472466, 'tol': 0.003358435357354918}. Best is trial 51 with value: 0.058985834622098554.\n",
      "[I 2025-05-06 09:25:31,951] Trial 197 finished with value: 0.058985834988942984 and parameters: {'alpha': 1.847710847685678, 'tol': 4.538198071718776e-05}. Best is trial 51 with value: 0.058985834622098554.\n",
      "[I 2025-05-06 09:25:33,216] Trial 198 finished with value: 0.05898587708177233 and parameters: {'alpha': 1.395513421603571, 'tol': 0.004219410266067834}. Best is trial 51 with value: 0.058985834622098554.\n",
      "[I 2025-05-06 09:25:33,664] Trial 199 finished with value: 0.05898650435538083 and parameters: {'alpha': 4.208515445105354, 'tol': 0.0002336479222242179}. Best is trial 51 with value: 0.058985834622098554.\n",
      "[I 2025-05-06 09:25:33,964] Trial 200 finished with value: 0.05898646148077341 and parameters: {'alpha': 4.1242684656158, 'tol': 0.00015771011446219854}. Best is trial 51 with value: 0.058985834622098554.\n",
      "[I 2025-05-06 09:25:36,240] Trial 201 finished with value: 0.05898587757823502 and parameters: {'alpha': 2.4299614790759136, 'tol': 0.0005340577562354181}. Best is trial 51 with value: 0.058985834622098554.\n",
      "[I 2025-05-06 09:25:37,505] Trial 202 finished with value: 0.058985906390938904 and parameters: {'alpha': 2.5925992905516084, 'tol': 0.00013528463094106448}. Best is trial 51 with value: 0.058985834622098554.\n",
      "[I 2025-05-06 09:25:37,957] Trial 203 finished with value: 0.05898588420536298 and parameters: {'alpha': 2.471030066718555, 'tol': 0.0001288933077682932}. Best is trial 51 with value: 0.058985834622098554.\n",
      "[I 2025-05-06 09:25:38,257] Trial 204 finished with value: 0.05898597763153577 and parameters: {'alpha': 1.0006364253824054, 'tol': 5.684138497184912e-05}. Best is trial 51 with value: 0.058985834622098554.\n",
      "[I 2025-05-06 09:25:40,521] Trial 205 finished with value: 0.05898591679025546 and parameters: {'alpha': 2.643484945163001, 'tol': 0.0002715122376822294}. Best is trial 51 with value: 0.058985834622098554.\n",
      "[I 2025-05-06 09:25:41,954] Trial 206 finished with value: 0.05898585300105911 and parameters: {'alpha': 1.563128280800658, 'tol': 9.791484207593822e-05}. Best is trial 51 with value: 0.058985834622098554.\n",
      "[I 2025-05-06 09:25:42,446] Trial 207 finished with value: 0.05898625250567278 and parameters: {'alpha': 0.42382710476237606, 'tol': 2.5824775513023755e-05}. Best is trial 51 with value: 0.058985834622098554.\n",
      "[I 2025-05-06 09:25:42,916] Trial 208 finished with value: 0.05898584814896772 and parameters: {'alpha': 1.6095468599562697, 'tol': 0.0004133326528999534}. Best is trial 51 with value: 0.058985834622098554.\n",
      "[I 2025-05-06 09:25:45,028] Trial 209 finished with value: 0.05898592251896079 and parameters: {'alpha': 1.185561746791568, 'tol': 0.00014287296933961937}. Best is trial 51 with value: 0.058985834622098554.\n",
      "[I 2025-05-06 09:25:46,309] Trial 210 finished with value: 0.05898584442563078 and parameters: {'alpha': 1.6514400566231746, 'tol': 0.003045927368959581}. Best is trial 51 with value: 0.058985834622098554.\n",
      "[I 2025-05-06 09:25:46,768] Trial 211 finished with value: 0.05898599784358888 and parameters: {'alpha': 0.9430644770478311, 'tol': 0.003101034640730013}. Best is trial 51 with value: 0.058985834622098554.\n",
      "[I 2025-05-06 09:25:47,228] Trial 212 finished with value: 0.05898586059822484 and parameters: {'alpha': 2.3082744013195873, 'tol': 0.0035737332862688462}. Best is trial 51 with value: 0.058985834622098554.\n",
      "[I 2025-05-06 09:25:49,383] Trial 213 finished with value: 0.05898618009285154 and parameters: {'alpha': 0.5460988002793514, 'tol': 0.0032929212709839895}. Best is trial 51 with value: 0.058985834622098554.\n",
      "[I 2025-05-06 09:25:50,817] Trial 214 finished with value: 0.058985840501202334 and parameters: {'alpha': 2.089417382163172, 'tol': 0.0020114195552906606}. Best is trial 51 with value: 0.058985834622098554.\n",
      "[I 2025-05-06 09:25:51,385] Trial 215 finished with value: 0.05898583513751339 and parameters: {'alpha': 1.838888629311287, 'tol': 0.0019548316000305766}. Best is trial 51 with value: 0.058985834622098554.\n",
      "[I 2025-05-06 09:25:51,666] Trial 216 finished with value: 0.05898583466734272 and parameters: {'alpha': 1.912318582735728, 'tol': 0.0018603002547991478}. Best is trial 51 with value: 0.058985834622098554.\n",
      "[I 2025-05-06 09:25:53,985] Trial 217 finished with value: 0.05898584204501128 and parameters: {'alpha': 1.682725751930989, 'tol': 0.00155142319581609}. Best is trial 51 with value: 0.058985834622098554.\n",
      "[I 2025-05-06 09:25:55,246] Trial 218 finished with value: 0.058985836542129653 and parameters: {'alpha': 2.0057725725894597, 'tol': 0.0013678583098950985}. Best is trial 51 with value: 0.058985834622098554.\n",
      "[I 2025-05-06 09:25:55,518] Trial 219 finished with value: 0.058985844627720906 and parameters: {'alpha': 1.6489743643782329, 'tol': 0.001793125948625006}. Best is trial 51 with value: 0.058985834622098554.\n",
      "[I 2025-05-06 09:25:55,996] Trial 220 finished with value: 0.058985924284707156 and parameters: {'alpha': 2.6783439833453295, 'tol': 0.0021191615703463444}. Best is trial 51 with value: 0.058985834622098554.\n",
      "[I 2025-05-06 09:25:58,253] Trial 221 finished with value: 0.058985987017235966 and parameters: {'alpha': 2.9300594319739854, 'tol': 0.0026233012786902902}. Best is trial 51 with value: 0.058985834622098554.\n",
      "[I 2025-05-06 09:25:59,536] Trial 222 finished with value: 0.05898583704258631 and parameters: {'alpha': 2.019413823645823, 'tol': 0.0024769663231073036}. Best is trial 51 with value: 0.058985834622098554.\n",
      "[I 2025-05-06 09:25:59,827] Trial 223 finished with value: 0.05898616031187087 and parameters: {'alpha': 3.449370271528742, 'tol': 0.002999750005483255}. Best is trial 51 with value: 0.058985834622098554.\n",
      "[I 2025-05-06 09:26:00,295] Trial 224 finished with value: 0.05898590598443983 and parameters: {'alpha': 2.590543569790465, 'tol': 0.0026275854003953956}. Best is trial 51 with value: 0.058985834622098554.\n",
      "[I 2025-05-06 09:26:02,591] Trial 225 finished with value: 0.05898583530124938 and parameters: {'alpha': 1.8305515401333714, 'tol': 0.0014902486372340524}. Best is trial 51 with value: 0.058985834622098554.\n",
      "[I 2025-05-06 09:26:03,835] Trial 226 finished with value: 0.05898583676413156 and parameters: {'alpha': 2.0120169702925215, 'tol': 0.0023803243532807034}. Best is trial 51 with value: 0.058985834622098554.\n",
      "[I 2025-05-06 09:26:04,108] Trial 227 finished with value: 0.0589859045657636 and parameters: {'alpha': 1.259238914685973, 'tol': 0.0024808538695097063}. Best is trial 51 with value: 0.058985834622098554.\n",
      "[I 2025-05-06 09:26:04,754] Trial 228 finished with value: 0.058985889176456405 and parameters: {'alpha': 1.3310357973617808, 'tol': 0.002596241689525651}. Best is trial 51 with value: 0.058985834622098554.\n",
      "[I 2025-05-06 09:26:06,880] Trial 229 finished with value: 0.058985856257302086 and parameters: {'alpha': 2.2714207938177595, 'tol': 0.0029077258778875555}. Best is trial 51 with value: 0.058985834622098554.\n",
      "[I 2025-05-06 09:26:07,975] Trial 230 finished with value: 0.058985938642908554 and parameters: {'alpha': 1.1261100240688866, 'tol': 0.002853412459207031}. Best is trial 51 with value: 0.058985834622098554.\n",
      "[I 2025-05-06 09:26:08,385] Trial 231 finished with value: 0.05898583948517302 and parameters: {'alpha': 1.7228577212767477, 'tol': 0.0028753969564100455}. Best is trial 51 with value: 0.058985834622098554.\n",
      "[I 2025-05-06 09:26:09,083] Trial 232 finished with value: 0.058985837910051686 and parameters: {'alpha': 2.0400988939295455, 'tol': 0.003473433372623096}. Best is trial 51 with value: 0.058985834622098554.\n",
      "[I 2025-05-06 09:26:11,139] Trial 233 finished with value: 0.05898583496867914 and parameters: {'alpha': 1.8490451191415465, 'tol': 0.0031085197756163955}. Best is trial 51 with value: 0.058985834622098554.\n",
      "[I 2025-05-06 09:26:12,243] Trial 234 finished with value: 0.058985866816756015 and parameters: {'alpha': 2.3562836501110134, 'tol': 0.002077127160909417}. Best is trial 51 with value: 0.058985834622098554.\n",
      "[I 2025-05-06 09:26:12,701] Trial 235 finished with value: 0.05898600506178492 and parameters: {'alpha': 2.993279580645262, 'tol': 0.0018542484775715613}. Best is trial 51 with value: 0.058985834622098554.\n",
      "[I 2025-05-06 09:26:13,582] Trial 236 finished with value: 0.05898589225934918 and parameters: {'alpha': 2.517625287169615, 'tol': 0.0021837871509472672}. Best is trial 51 with value: 0.058985834622098554.\n",
      "[I 2025-05-06 09:26:15,664] Trial 237 finished with value: 0.05898589573579196 and parameters: {'alpha': 1.299254756265558, 'tol': 0.0048304729451980125}. Best is trial 51 with value: 0.058985834622098554.\n",
      "[I 2025-05-06 09:26:16,527] Trial 238 finished with value: 0.058985855567545396 and parameters: {'alpha': 2.265249821865869, 'tol': 0.005109226088202794}. Best is trial 51 with value: 0.058985834622098554.\n",
      "[I 2025-05-06 09:26:16,972] Trial 239 finished with value: 0.05898583488149804 and parameters: {'alpha': 1.935852891455752, 'tol': 0.0039434102869198686}. Best is trial 51 with value: 0.058985834622098554.\n",
      "[I 2025-05-06 09:26:17,814] Trial 240 finished with value: 0.058985881308581935 and parameters: {'alpha': 2.453416363705019, 'tol': 0.004603500720539173}. Best is trial 51 with value: 0.058985834622098554.\n",
      "[I 2025-05-06 09:26:19,892] Trial 241 finished with value: 0.058986059885194876 and parameters: {'alpha': 3.1692786095785817, 'tol': 0.004430011278365772}. Best is trial 51 with value: 0.058985834622098554.\n",
      "[I 2025-05-06 09:26:20,586] Trial 242 finished with value: 0.05898589122270993 and parameters: {'alpha': 1.320911831144181, 'tol': 0.0018806008562328668}. Best is trial 51 with value: 0.058985834622098554.\n",
      "[I 2025-05-06 09:26:21,225] Trial 243 finished with value: 0.058985834719386065 and parameters: {'alpha': 1.920182176975909, 'tol': 0.0033737360351897287}. Best is trial 51 with value: 0.058985834622098554.\n",
      "[I 2025-05-06 09:26:21,929] Trial 244 finished with value: 0.058985895236472775 and parameters: {'alpha': 2.5340724155657277, 'tol': 0.0035821692216666456}. Best is trial 51 with value: 0.058985834622098554.\n",
      "[I 2025-05-06 09:26:24,280] Trial 245 finished with value: 0.05898592390827051 and parameters: {'alpha': 1.1802163576518683, 'tol': 0.0036136500102712747}. Best is trial 51 with value: 0.058985834622098554.\n",
      "[I 2025-05-06 09:26:24,999] Trial 246 finished with value: 0.058985859424164365 and parameters: {'alpha': 1.5106355275500611, 'tol': 0.0035936511101402344}. Best is trial 51 with value: 0.058985834622098554.\n",
      "[I 2025-05-06 09:26:25,551] Trial 247 finished with value: 0.05898585305601959 and parameters: {'alpha': 1.5626416149017153, 'tol': 0.003987221217525807}. Best is trial 51 with value: 0.058985834622098554.\n",
      "[I 2025-05-06 09:26:25,989] Trial 248 finished with value: 0.05898584276861636 and parameters: {'alpha': 1.6727314359238918, 'tol': 0.0038836106871969565}. Best is trial 51 with value: 0.058985834622098554.\n",
      "[I 2025-05-06 09:26:26,748] Trial 249 finished with value: 0.05898583495973457 and parameters: {'alpha': 1.8496465116436471, 'tol': 0.0033840466315099554}. Best is trial 51 with value: 0.058985834622098554.\n"
     ]
    }
   ],
   "source": [
    "def objective(trial):    \n",
    "    params = {\n",
    "        \"random_state\": CFG.seed,\n",
    "        \"alpha\": trial.suggest_float(\"alpha\", 0, 10),\n",
    "        \"tol\": trial.suggest_float(\"tol\", 1e-6, 1e-2)\n",
    "    }\n",
    "    \n",
    "    trainer = Trainer(\n",
    "        Ridge(**params),\n",
    "        cv=CFG.cv,\n",
    "        metric=CFG.metric,\n",
    "        task=\"regression\",\n",
    "        verbose=False\n",
    "    )\n",
    "    trainer.fit(X, y)\n",
    "    \n",
    "    return np.mean(trainer.fold_scores)\n",
    "\n",
    "if CFG.run_optuna:\n",
    "    sampler = optuna.samplers.TPESampler(seed=CFG.seed, multivariate=True)\n",
    "    study = optuna.create_study(direction=\"minimize\", sampler=sampler)\n",
    "    study.optimize(objective, n_trials=CFG.n_optuna_trials, n_jobs=-1, catch=(ValueError,))\n",
    "    best_params = study.best_params\n",
    "\n",
    "    ridge_params = {\n",
    "        \"random_state\": CFG.seed,\n",
    "        \"alpha\": best_params[\"alpha\"],\n",
    "        \"tol\": best_params[\"tol\"]\n",
    "    }\n",
    "else:\n",
    "    ridge_params = {\n",
    "        \"random_state\": CFG.seed\n",
    "    }"
   ]
  },
  {
   "cell_type": "code",
   "execution_count": 21,
   "id": "a0fb88ec",
   "metadata": {
    "execution": {
     "iopub.execute_input": "2025-05-06T09:26:26.809007Z",
     "iopub.status.busy": "2025-05-06T09:26:26.808593Z",
     "iopub.status.idle": "2025-05-06T09:26:26.813953Z",
     "shell.execute_reply": "2025-05-06T09:26:26.813009Z"
    },
    "papermill": {
     "duration": 0.033373,
     "end_time": "2025-05-06T09:26:26.815418",
     "exception": false,
     "start_time": "2025-05-06T09:26:26.782045",
     "status": "completed"
    },
    "tags": []
   },
   "outputs": [
    {
     "name": "stdout",
     "output_type": "stream",
     "text": [
      "{\n",
      "  \"random_state\": 42,\n",
      "  \"alpha\": 1.8958071550240772,\n",
      "  \"tol\": 0.0007652931571855122\n",
      "}\n"
     ]
    }
   ],
   "source": [
    "print(json.dumps(ridge_params, indent=2))"
   ]
  },
  {
   "cell_type": "code",
   "execution_count": 22,
   "id": "702b3e0b",
   "metadata": {
    "execution": {
     "iopub.execute_input": "2025-05-06T09:26:26.869216Z",
     "iopub.status.busy": "2025-05-06T09:26:26.868855Z",
     "iopub.status.idle": "2025-05-06T09:26:28.355359Z",
     "shell.execute_reply": "2025-05-06T09:26:28.354355Z"
    },
    "papermill": {
     "duration": 1.515446,
     "end_time": "2025-05-06T09:26:28.357030",
     "exception": false,
     "start_time": "2025-05-06T09:26:26.841584",
     "status": "completed"
    },
    "tags": []
   },
   "outputs": [
    {
     "name": "stdout",
     "output_type": "stream",
     "text": [
      "Training Ridge\n",
      "\n",
      "--- Fold 0 - root_mean_squared_error: 0.0589 - Time: 0.13 s\n",
      "--- Fold 1 - root_mean_squared_error: 0.0595 - Time: 0.12 s\n",
      "--- Fold 2 - root_mean_squared_error: 0.0589 - Time: 0.12 s\n",
      "--- Fold 3 - root_mean_squared_error: 0.0592 - Time: 0.12 s\n",
      "--- Fold 4 - root_mean_squared_error: 0.0585 - Time: 0.11 s\n",
      "\n",
      "------ Overall root_mean_squared_error: 0.0590 - Mean root_mean_squared_error: 0.0590 ± 0.0003 - Time: 1.44 s\n"
     ]
    }
   ],
   "source": [
    "ridge_trainer = Trainer(\n",
    "    Ridge(**ridge_params),\n",
    "    cv=CFG.cv,\n",
    "    metric=CFG.metric,\n",
    "    task=\"regression\"\n",
    ")\n",
    "\n",
    "ridge_trainer.fit(X, y)\n",
    "\n",
    "scores[\"Ridge (ensemble)\"] = ridge_trainer.fold_scores\n",
    "ridge_test_preds = np.expm1(ridge_trainer.predict(X_test))"
   ]
  },
  {
   "cell_type": "code",
   "execution_count": 23,
   "id": "df307950",
   "metadata": {
    "execution": {
     "iopub.execute_input": "2025-05-06T09:26:28.412241Z",
     "iopub.status.busy": "2025-05-06T09:26:28.411889Z",
     "iopub.status.idle": "2025-05-06T09:26:28.764038Z",
     "shell.execute_reply": "2025-05-06T09:26:28.763018Z"
    },
    "papermill": {
     "duration": 0.381394,
     "end_time": "2025-05-06T09:26:28.765762",
     "exception": false,
     "start_time": "2025-05-06T09:26:28.384368",
     "status": "completed"
    },
    "tags": []
   },
   "outputs": [
    {
     "data": {
      "image/png": "[encoded data removed]",
      "text/plain": [
       "<Figure size 1000x300 with 1 Axes>"
      ]
     },
     "metadata": {},
     "output_type": "display_data"
    }
   ],
   "source": [
    "ridge_coeffs = np.zeros((1, X.shape[1]))\n",
    "for m in ridge_trainer.estimators:\n",
    "    ridge_coeffs += m.coef_\n",
    "ridge_coeffs = ridge_coeffs / len(ridge_trainer.estimators)\n",
    "\n",
    "plot_weights(ridge_coeffs, \"Ridge Coefficients\")"
   ]
  },
  {
   "cell_type": "markdown",
   "id": "cf967c95",
   "metadata": {
    "papermill": {
     "duration": 0.026505,
     "end_time": "2025-05-06T09:26:28.819400",
     "exception": false,
     "start_time": "2025-05-06T09:26:28.792895",
     "status": "completed"
    },
    "tags": []
   },
   "source": [
    "# Submission"
   ]
  },
  {
   "cell_type": "code",
   "execution_count": 24,
   "id": "8b7e3669",
   "metadata": {
    "execution": {
     "iopub.execute_input": "2025-05-06T09:26:28.874494Z",
     "iopub.status.busy": "2025-05-06T09:26:28.874169Z",
     "iopub.status.idle": "2025-05-06T09:26:29.576718Z",
     "shell.execute_reply": "2025-05-06T09:26:29.575553Z"
    },
    "papermill": {
     "duration": 0.731966,
     "end_time": "2025-05-06T09:26:29.578661",
     "exception": false,
     "start_time": "2025-05-06T09:26:28.846695",
     "status": "completed"
    },
    "tags": []
   },
   "outputs": [
    {
     "data": {
      "text/html": [
       "<div>\n",
       "<style scoped>\n",
       "    .dataframe tbody tr th:only-of-type {\n",
       "        vertical-align: middle;\n",
       "    }\n",
       "\n",
       "    .dataframe tbody tr th {\n",
       "        vertical-align: top;\n",
       "    }\n",
       "\n",
       "    .dataframe thead th {\n",
       "        text-align: right;\n",
       "    }\n",
       "</style>\n",
       "<table border=\"1\" class=\"dataframe\">\n",
       "  <thead>\n",
       "    <tr style=\"text-align: right;\">\n",
       "      <th></th>\n",
       "      <th>id</th>\n",
       "      <th>Calories</th>\n",
       "    </tr>\n",
       "  </thead>\n",
       "  <tbody>\n",
       "    <tr>\n",
       "      <th>0</th>\n",
       "      <td>750000</td>\n",
       "      <td>27.209913</td>\n",
       "    </tr>\n",
       "    <tr>\n",
       "      <th>1</th>\n",
       "      <td>750001</td>\n",
       "      <td>107.740860</td>\n",
       "    </tr>\n",
       "    <tr>\n",
       "      <th>2</th>\n",
       "      <td>750002</td>\n",
       "      <td>87.144596</td>\n",
       "    </tr>\n",
       "    <tr>\n",
       "      <th>3</th>\n",
       "      <td>750003</td>\n",
       "      <td>125.802526</td>\n",
       "    </tr>\n",
       "    <tr>\n",
       "      <th>4</th>\n",
       "      <td>750004</td>\n",
       "      <td>76.020589</td>\n",
       "    </tr>\n",
       "  </tbody>\n",
       "</table>\n",
       "</div>"
      ],
      "text/plain": [
       "       id    Calories\n",
       "0  750000   27.209913\n",
       "1  750001  107.740860\n",
       "2  750002   87.144596\n",
       "3  750003  125.802526\n",
       "4  750004   76.020589"
      ]
     },
     "execution_count": 24,
     "metadata": {},
     "output_type": "execute_result"
    }
   ],
   "source": [
    "sub = pd.read_csv(CFG.sample_sub_path)\n",
    "sub[CFG.target] = ridge_test_preds\n",
    "sub.to_csv(f\"sub_ridge_{np.mean(scores['Ridge (ensemble)']):.6f}.csv\", index=False)\n",
    "sub.head()"
   ]
  },
  {
   "cell_type": "markdown",
   "id": "5f70cc0f",
   "metadata": {
    "papermill": {
     "duration": 0.027848,
     "end_time": "2025-05-06T09:26:29.634778",
     "exception": false,
     "start_time": "2025-05-06T09:26:29.606930",
     "status": "completed"
    },
    "tags": []
   },
   "source": [
    "# Results"
   ]
  },
  {
   "cell_type": "code",
   "execution_count": 25,
   "id": "ebd7d419",
   "metadata": {
    "execution": {
     "iopub.execute_input": "2025-05-06T09:26:29.691157Z",
     "iopub.status.busy": "2025-05-06T09:26:29.690820Z",
     "iopub.status.idle": "2025-05-06T09:26:30.251992Z",
     "shell.execute_reply": "2025-05-06T09:26:30.250936Z"
    },
    "papermill": {
     "duration": 0.591471,
     "end_time": "2025-05-06T09:26:30.253565",
     "exception": false,
     "start_time": "2025-05-06T09:26:29.662094",
     "status": "completed"
    },
    "tags": []
   },
   "outputs": [
    {
     "data": {
      "image/png": "[encoded data removed]",
      "text/plain": [
       "<Figure size 1500x210 with 2 Axes>"
      ]
     },
     "metadata": {},
     "output_type": "display_data"
    }
   ],
   "source": [
    "scores = pd.DataFrame(scores)\n",
    "mean_scores = scores.mean().sort_values(ascending=True)\n",
    "order = scores.mean().sort_values(ascending=True).index.tolist()\n",
    "\n",
    "min_score = mean_scores.min()\n",
    "max_score = mean_scores.max()\n",
    "padding = (max_score - min_score) * 0.5\n",
    "lower_limit = min_score - padding\n",
    "upper_limit = max_score + padding\n",
    "\n",
    "fig, axs = plt.subplots(1, 2, figsize=(15, scores.shape[1] * 0.3))\n",
    "\n",
    "boxplot = sns.boxplot(data=scores, order=order, ax=axs[0], orient=\"h\", color=\"grey\")\n",
    "axs[0].set_title(f\"Fold {CFG.metric.__name__}\")\n",
    "axs[0].set_xlabel(\"\")\n",
    "axs[0].set_ylabel(\"\")\n",
    "\n",
    "barplot = sns.barplot(x=mean_scores.values, y=mean_scores.index, ax=axs[1], color=\"grey\")\n",
    "axs[1].set_title(f\"Average {CFG.metric.__name__}\")\n",
    "axs[1].set_xlabel(\"\")\n",
    "axs[1].set_xlim(left=lower_limit, right=upper_limit)\n",
    "axs[1].set_ylabel(\"\")\n",
    "\n",
    "for i, (score, model) in enumerate(zip(mean_scores.values, mean_scores.index)):\n",
    "    color = \"cyan\" if \"ensemble\" in model.lower() else \"grey\"\n",
    "    barplot.patches[i].set_facecolor(color)\n",
    "    boxplot.patches[i].set_facecolor(color)\n",
    "    barplot.text(score, i, round(score, 6), va=\"center\")\n",
    "\n",
    "plt.tight_layout()\n",
    "plt.show()"
   ]
  },
  {
   "cell_type": "code",
   "execution_count": 26,
   "id": "1d572fa8",
   "metadata": {
    "execution": {
     "iopub.execute_input": "2025-05-06T09:26:30.311356Z",
     "iopub.status.busy": "2025-05-06T09:26:30.311041Z",
     "iopub.status.idle": "2025-05-06T09:26:30.316580Z",
     "shell.execute_reply": "2025-05-06T09:26:30.315683Z"
    },
    "papermill": {
     "duration": 0.036571,
     "end_time": "2025-05-06T09:26:30.318491",
     "exception": false,
     "start_time": "2025-05-06T09:26:30.281920",
     "status": "completed"
    },
    "tags": []
   },
   "outputs": [],
   "source": [
    "shutil.rmtree(\"catboost_info\", ignore_errors=True)"
   ]
  }
 ],
 "metadata": {
  "kaggle": {
   "accelerator": "none",
   "dataSources": [
    {
     "databundleVersionId": 11893428,
     "sourceId": 91716,
     "sourceType": "competition"
    },
    {
     "datasetId": 6512323,
     "sourceId": 10522392,
     "sourceType": "datasetVersion"
    },
    {
     "sourceId": 237456322,
     "sourceType": "kernelVersion"
    }
   ],
   "dockerImageVersionId": 31012,
   "isGpuEnabled": false,
   "isInternetEnabled": true,
   "language": "python",
   "sourceType": "notebook"
  },
  "kernelspec": {
   "display_name": "Python 3",
   "language": "python",
   "name": "python3"
  },
  "language_info": {
   "codemirror_mode": {
    "name": "ipython",
    "version": 3
   },
   "file_extension": ".py",
   "mimetype": "text/x-python",
   "name": "python",
   "nbconvert_exporter": "python",
   "pygments_lexer": "ipython3",
   "version": "3.11.11"
  },
  "papermill": {
   "default_parameters": {},
   "duration": 3109.078297,
   "end_time": "2025-05-06T09:26:31.874695",
   "environment_variables": {},
   "exception": null,
   "input_path": "__notebook__.ipynb",
   "output_path": "__notebook__.ipynb",
   "parameters": {},
   "start_time": "2025-05-06T08:34:42.796398",
   "version": "2.6.0"
  }
 },
 "nbformat": 4,
 "nbformat_minor": 5
}
