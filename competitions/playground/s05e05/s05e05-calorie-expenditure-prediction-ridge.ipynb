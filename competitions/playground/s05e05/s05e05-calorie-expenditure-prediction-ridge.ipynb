{
 "cells": [
  {
   "cell_type": "code",
   "execution_count": 1,
   "id": "666f1b6e",
   "metadata": {
    "_kg_hide-output": true,
    "execution": {
     "iopub.execute_input": "2025-05-01T08:48:00.587600Z",
     "iopub.status.busy": "2025-05-01T08:48:00.587276Z",
     "iopub.status.idle": "2025-05-01T08:48:11.203097Z",
     "shell.execute_reply": "2025-05-01T08:48:11.201796Z"
    },
    "papermill": {
     "duration": 10.624859,
     "end_time": "2025-05-01T08:48:11.205012",
     "exception": false,
     "start_time": "2025-05-01T08:48:00.580153",
     "status": "completed"
    },
    "scrolled": true,
    "tags": []
   },
   "outputs": [
    {
     "name": "stdout",
     "output_type": "stream",
     "text": [
      "Requirement already satisfied: ydf in /usr/local/lib/python3.11/dist-packages (0.9.0)\r\n",
      "Collecting koolbox\r\n",
      "  Downloading koolbox-0.1.1-py3-none-any.whl.metadata (2.4 kB)\r\n",
      "Collecting scikit-learn==1.5.2\r\n",
      "  Downloading scikit_learn-1.5.2-cp311-cp311-manylinux_2_17_x86_64.manylinux2014_x86_64.whl.metadata (13 kB)\r\n",
      "Requirement already satisfied: numpy>=1.19.5 in /usr/local/lib/python3.11/dist-packages (from scikit-learn==1.5.2) (1.26.4)\r\n",
      "Requirement already satisfied: scipy>=1.6.0 in /usr/local/lib/python3.11/dist-packages (from scikit-learn==1.5.2) (1.15.2)\r\n",
      "Requirement already satisfied: joblib>=1.2.0 in /usr/local/lib/python3.11/dist-packages (from scikit-learn==1.5.2) (1.4.2)\r\n",
      "Requirement already satisfied: threadpoolctl>=3.1.0 in /usr/local/lib/python3.11/dist-packages (from scikit-learn==1.5.2) (3.6.0)\r\n",
      "Requirement already satisfied: absl_py in /usr/local/lib/python3.11/dist-packages (from ydf) (1.4.0)\r\n",
      "Requirement already satisfied: protobuf>=3.14 in /usr/local/lib/python3.11/dist-packages (from ydf) (3.20.3)\r\n",
      "Requirement already satisfied: pandas>=1.0.0 in /usr/local/lib/python3.11/dist-packages (from koolbox) (2.2.3)\r\n",
      "Requirement already satisfied: mkl_fft in /usr/local/lib/python3.11/dist-packages (from numpy>=1.19.5->scikit-learn==1.5.2) (1.3.8)\r\n",
      "Requirement already satisfied: mkl_random in /usr/local/lib/python3.11/dist-packages (from numpy>=1.19.5->scikit-learn==1.5.2) (1.2.4)\r\n",
      "Requirement already satisfied: mkl_umath in /usr/local/lib/python3.11/dist-packages (from numpy>=1.19.5->scikit-learn==1.5.2) (0.1.1)\r\n",
      "Requirement already satisfied: mkl in /usr/local/lib/python3.11/dist-packages (from numpy>=1.19.5->scikit-learn==1.5.2) (2025.1.0)\r\n",
      "Requirement already satisfied: tbb4py in /usr/local/lib/python3.11/dist-packages (from numpy>=1.19.5->scikit-learn==1.5.2) (2022.1.0)\r\n",
      "Requirement already satisfied: mkl-service in /usr/local/lib/python3.11/dist-packages (from numpy>=1.19.5->scikit-learn==1.5.2) (2.4.1)\r\n",
      "Requirement already satisfied: python-dateutil>=2.8.2 in /usr/local/lib/python3.11/dist-packages (from pandas>=1.0.0->koolbox) (2.9.0.post0)\r\n",
      "Requirement already satisfied: pytz>=2020.1 in /usr/local/lib/python3.11/dist-packages (from pandas>=1.0.0->koolbox) (2025.2)\r\n",
      "Requirement already satisfied: tzdata>=2022.7 in /usr/local/lib/python3.11/dist-packages (from pandas>=1.0.0->koolbox) (2025.2)\r\n",
      "Requirement already satisfied: six>=1.5 in /usr/local/lib/python3.11/dist-packages (from python-dateutil>=2.8.2->pandas>=1.0.0->koolbox) (1.17.0)\r\n",
      "Requirement already satisfied: intel-openmp<2026,>=2024 in /usr/local/lib/python3.11/dist-packages (from mkl->numpy>=1.19.5->scikit-learn==1.5.2) (2024.2.0)\r\n",
      "Requirement already satisfied: tbb==2022.* in /usr/local/lib/python3.11/dist-packages (from mkl->numpy>=1.19.5->scikit-learn==1.5.2) (2022.1.0)\r\n",
      "Requirement already satisfied: tcmlib==1.* in /usr/local/lib/python3.11/dist-packages (from tbb==2022.*->mkl->numpy>=1.19.5->scikit-learn==1.5.2) (1.2.0)\r\n",
      "Requirement already satisfied: intel-cmplr-lib-rt in /usr/local/lib/python3.11/dist-packages (from mkl_umath->numpy>=1.19.5->scikit-learn==1.5.2) (2024.2.0)\r\n",
      "Requirement already satisfied: intel-cmplr-lib-ur==2024.2.0 in /usr/local/lib/python3.11/dist-packages (from intel-openmp<2026,>=2024->mkl->numpy>=1.19.5->scikit-learn==1.5.2) (2024.2.0)\r\n",
      "Downloading scikit_learn-1.5.2-cp311-cp311-manylinux_2_17_x86_64.manylinux2014_x86_64.whl (13.3 MB)\r\n",
      "\u001b[2K   \u001b[90m━━━━━━━━━━━━━━━━━━━━━━━━━━━━━━━━━━━━━━━━\u001b[0m \u001b[32m13.3/13.3 MB\u001b[0m \u001b[31m96.9 MB/s\u001b[0m eta \u001b[36m0:00:00\u001b[0m\r\n",
      "\u001b[?25hDownloading koolbox-0.1.1-py3-none-any.whl (10 kB)\r\n",
      "Installing collected packages: scikit-learn, koolbox\r\n",
      "  Attempting uninstall: scikit-learn\r\n",
      "    Found existing installation: scikit-learn 1.2.2\r\n",
      "    Uninstalling scikit-learn-1.2.2:\r\n",
      "      Successfully uninstalled scikit-learn-1.2.2\r\n",
      "\u001b[31mERROR: pip's dependency resolver does not currently take into account all the packages that are installed. This behaviour is the source of the following dependency conflicts.\r\n",
      "bigframes 1.36.0 requires rich<14,>=12.4.4, but you have rich 14.0.0 which is incompatible.\u001b[0m\u001b[31m\r\n",
      "\u001b[0mSuccessfully installed koolbox-0.1.1 scikit-learn-1.5.2\r\n",
      "Collecting scikeras\r\n",
      "  Downloading scikeras-0.13.0-py3-none-any.whl.metadata (3.1 kB)\r\n",
      "Downloading scikeras-0.13.0-py3-none-any.whl (26 kB)\r\n",
      "Installing collected packages: scikeras\r\n",
      "Successfully installed scikeras-0.13.0\r\n"
     ]
    }
   ],
   "source": [
    "!pip install ydf koolbox scikit-learn==1.5.2 && pip install --no-deps scikeras"
   ]
  },
  {
   "cell_type": "markdown",
   "id": "5d6ce468",
   "metadata": {
    "papermill": {
     "duration": 0.006054,
     "end_time": "2025-05-01T08:48:11.218253",
     "exception": false,
     "start_time": "2025-05-01T08:48:11.212199",
     "status": "completed"
    },
    "tags": []
   },
   "source": [
    "# Imports and configs"
   ]
  },
  {
   "cell_type": "code",
   "execution_count": 2,
   "id": "b3d626e0",
   "metadata": {
    "_kg_hide-output": true,
    "execution": {
     "iopub.execute_input": "2025-05-01T08:48:11.234395Z",
     "iopub.status.busy": "2025-05-01T08:48:11.233484Z",
     "iopub.status.idle": "2025-05-01T08:48:35.003639Z",
     "shell.execute_reply": "2025-05-01T08:48:35.002822Z"
    },
    "papermill": {
     "duration": 23.779471,
     "end_time": "2025-05-01T08:48:35.005293",
     "exception": false,
     "start_time": "2025-05-01T08:48:11.225822",
     "status": "completed"
    },
    "tags": []
   },
   "outputs": [
    {
     "name": "stderr",
     "output_type": "stream",
     "text": [
      "2025-05-01 08:48:16.261984: E external/local_xla/xla/stream_executor/cuda/cuda_fft.cc:477] Unable to register cuFFT factory: Attempting to register factory for plugin cuFFT when one has already been registered\n",
      "WARNING: All log messages before absl::InitializeLog() is called are written to STDERR\n",
      "E0000 00:00:1746089296.494413      13 cuda_dnn.cc:8310] Unable to register cuDNN factory: Attempting to register factory for plugin cuDNN when one has already been registered\n",
      "E0000 00:00:1746089296.567087      13 cuda_blas.cc:1418] Unable to register cuBLAS factory: Attempting to register factory for plugin cuBLAS when one has already been registered\n"
     ]
    }
   ],
   "source": [
    "from sklearn.preprocessing import StandardScaler\n",
    "from sklearn.ensemble import HistGradientBoostingRegressor, BaggingRegressor\n",
    "from sklearn.base import BaseEstimator, RegressorMixin\n",
    "from sklearn.metrics import root_mean_squared_log_error\n",
    "from sklearn.feature_selection import mutual_info_regression\n",
    "from sklearn.linear_model import Ridge\n",
    "from sklearn.model_selection import KFold\n",
    "from scikeras.wrappers import KerasRegressor\n",
    "from lightgbm import LGBMRegressor, early_stopping, log_evaluation\n",
    "from ydf import GradientBoostedTreesLearner\n",
    "from catboost import CatBoostRegressor\n",
    "from xgboost import XGBRegressor\n",
    "from koolbox import Trainer\n",
    "import matplotlib.pyplot as plt\n",
    "import contextlib, io\n",
    "import seaborn as sns\n",
    "import pandas as pd\n",
    "import numpy as np\n",
    "import warnings\n",
    "import joblib\n",
    "import shutil\n",
    "import optuna\n",
    "import keras\n",
    "import json\n",
    "import glob\n",
    "import ydf\n",
    "\n",
    "ydf.verbose(2)\n",
    "warnings.filterwarnings(\"ignore\")"
   ]
  },
  {
   "cell_type": "code",
   "execution_count": 3,
   "id": "fbd636bd",
   "metadata": {
    "execution": {
     "iopub.execute_input": "2025-05-01T08:48:35.019677Z",
     "iopub.status.busy": "2025-05-01T08:48:35.019047Z",
     "iopub.status.idle": "2025-05-01T08:48:35.023981Z",
     "shell.execute_reply": "2025-05-01T08:48:35.023185Z"
    },
    "papermill": {
     "duration": 0.013177,
     "end_time": "2025-05-01T08:48:35.025234",
     "exception": false,
     "start_time": "2025-05-01T08:48:35.012057",
     "status": "completed"
    },
    "tags": []
   },
   "outputs": [],
   "source": [
    "class CFG:\n",
    "    train_path = \"/kaggle/input/playground-series-s5e5/train.csv\"\n",
    "    test_path = \"/kaggle/input/playground-series-s5e5/test.csv\"\n",
    "    sample_sub_path = \"/kaggle/input/playground-series-s5e5/sample_submission.csv\"\n",
    "\n",
    "    metric = root_mean_squared_log_error\n",
    "    target = \"Calories\"\n",
    "    n_folds = 5\n",
    "    seed = 42\n",
    "\n",
    "    run_optuna = True\n",
    "    n_optuna_trials = 250"
   ]
  },
  {
   "cell_type": "markdown",
   "id": "91782c6e",
   "metadata": {
    "papermill": {
     "duration": 0.005836,
     "end_time": "2025-05-01T08:48:35.037423",
     "exception": false,
     "start_time": "2025-05-01T08:48:35.031587",
     "status": "completed"
    },
    "tags": []
   },
   "source": [
    "# Data loading and preprocessing"
   ]
  },
  {
   "cell_type": "code",
   "execution_count": 4,
   "id": "d1bcdcd1",
   "metadata": {
    "execution": {
     "iopub.execute_input": "2025-05-01T08:48:35.050944Z",
     "iopub.status.busy": "2025-05-01T08:48:35.050609Z",
     "iopub.status.idle": "2025-05-01T08:48:36.279891Z",
     "shell.execute_reply": "2025-05-01T08:48:36.279150Z"
    },
    "papermill": {
     "duration": 1.237914,
     "end_time": "2025-05-01T08:48:36.281425",
     "exception": false,
     "start_time": "2025-05-01T08:48:35.043511",
     "status": "completed"
    },
    "tags": []
   },
   "outputs": [],
   "source": [
    "train = pd.read_csv(CFG.train_path, index_col=\"id\")\n",
    "test = pd.read_csv(CFG.test_path, index_col=\"id\")\n",
    "\n",
    "train[\"Sex\"] = train[\"Sex\"].map({\"male\": 0, \"female\": 1})\n",
    "test[\"Sex\"] = test[\"Sex\"].map({\"male\": 0, \"female\": 1})\n",
    "\n",
    "X = train.drop(CFG.target, axis=1)\n",
    "y = train[CFG.target]\n",
    "X_test = test"
   ]
  },
  {
   "cell_type": "code",
   "execution_count": 5,
   "id": "ae47efaa",
   "metadata": {
    "execution": {
     "iopub.execute_input": "2025-05-01T08:48:36.295161Z",
     "iopub.status.busy": "2025-05-01T08:48:36.294881Z",
     "iopub.status.idle": "2025-05-01T08:49:48.833520Z",
     "shell.execute_reply": "2025-05-01T08:49:48.832689Z"
    },
    "papermill": {
     "duration": 72.552593,
     "end_time": "2025-05-01T08:49:48.840561",
     "exception": false,
     "start_time": "2025-05-01T08:48:36.287968",
     "status": "completed"
    },
    "tags": []
   },
   "outputs": [
    {
     "data": {
      "text/html": [
       "<style type=\"text/css\">\n",
       "#T_3e51b_row0_col0 {\n",
       "  width: 10em;\n",
       "  background: linear-gradient(90deg, #006837 100.0%, transparent 100.0%);\n",
       "}\n",
       "#T_3e51b_row1_col0 {\n",
       "  width: 10em;\n",
       "  background: linear-gradient(90deg, #afdd70 68.3%, transparent 68.3%);\n",
       "}\n",
       "#T_3e51b_row2_col0 {\n",
       "  width: 10em;\n",
       "  background: linear-gradient(90deg, #daf08d 59.5%, transparent 59.5%);\n",
       "}\n",
       "#T_3e51b_row3_col0 {\n",
       "  width: 10em;\n",
       "  background: linear-gradient(90deg, #c21c27 6.0%, transparent 6.0%);\n",
       "}\n",
       "#T_3e51b_row4_col0 {\n",
       "  width: 10em;\n",
       "  background: linear-gradient(90deg, #b50f26 3.5%, transparent 3.5%);\n",
       "}\n",
       "#T_3e51b_row5_col0 {\n",
       "  width: 10em;\n",
       "  background: linear-gradient(90deg, #b50f26 3.4%, transparent 3.4%);\n",
       "}\n",
       "#T_3e51b_row6_col0 {\n",
       "  width: 10em;\n",
       "  background: linear-gradient(90deg, #a90426 1.0%, transparent 1.0%);\n",
       "}\n",
       "</style>\n",
       "<table id=\"T_3e51b\">\n",
       "  <thead>\n",
       "    <tr>\n",
       "      <th class=\"blank level0\" >&nbsp;</th>\n",
       "      <th id=\"T_3e51b_level0_col0\" class=\"col_heading level0 col0\" >Mutual Information</th>\n",
       "    </tr>\n",
       "  </thead>\n",
       "  <tbody>\n",
       "    <tr>\n",
       "      <th id=\"T_3e51b_level0_row0\" class=\"row_heading level0 row0\" >Duration</th>\n",
       "      <td id=\"T_3e51b_row0_col0\" class=\"data row0 col0\" >1.640769</td>\n",
       "    </tr>\n",
       "    <tr>\n",
       "      <th id=\"T_3e51b_level0_row1\" class=\"row_heading level0 row1\" >Body_Temp</th>\n",
       "      <td id=\"T_3e51b_row1_col0\" class=\"data row1 col0\" >1.121227</td>\n",
       "    </tr>\n",
       "    <tr>\n",
       "      <th id=\"T_3e51b_level0_row2\" class=\"row_heading level0 row2\" >Heart_Rate</th>\n",
       "      <td id=\"T_3e51b_row2_col0\" class=\"data row2 col0\" >0.976979</td>\n",
       "    </tr>\n",
       "    <tr>\n",
       "      <th id=\"T_3e51b_level0_row3\" class=\"row_heading level0 row3\" >Age</th>\n",
       "      <td id=\"T_3e51b_row3_col0\" class=\"data row3 col0\" >0.097730</td>\n",
       "    </tr>\n",
       "    <tr>\n",
       "      <th id=\"T_3e51b_level0_row4\" class=\"row_heading level0 row4\" >Height</th>\n",
       "      <td id=\"T_3e51b_row4_col0\" class=\"data row4 col0\" >0.056908</td>\n",
       "    </tr>\n",
       "    <tr>\n",
       "      <th id=\"T_3e51b_level0_row5\" class=\"row_heading level0 row5\" >Weight</th>\n",
       "      <td id=\"T_3e51b_row5_col0\" class=\"data row5 col0\" >0.056160</td>\n",
       "    </tr>\n",
       "    <tr>\n",
       "      <th id=\"T_3e51b_level0_row6\" class=\"row_heading level0 row6\" >Sex</th>\n",
       "      <td id=\"T_3e51b_row6_col0\" class=\"data row6 col0\" >0.016213</td>\n",
       "    </tr>\n",
       "  </tbody>\n",
       "</table>\n"
      ],
      "text/plain": [
       "<pandas.io.formats.style.Styler at 0x7dd2aaedd9d0>"
      ]
     },
     "execution_count": 5,
     "metadata": {},
     "output_type": "execute_result"
    }
   ],
   "source": [
    "mutual_info = mutual_info_regression(X, y, random_state=CFG.seed)\n",
    "\n",
    "mutual_info = pd.Series(mutual_info)\n",
    "mutual_info.index = X.columns\n",
    "mutual_info = pd.DataFrame(mutual_info.sort_values(ascending=False), columns=['Mutual Information'])\n",
    "mutual_info.style.bar(subset=['Mutual Information'], cmap='RdYlGn')"
   ]
  },
  {
   "cell_type": "code",
   "execution_count": 6,
   "id": "5e94cfa2",
   "metadata": {
    "execution": {
     "iopub.execute_input": "2025-05-01T08:49:48.854272Z",
     "iopub.status.busy": "2025-05-01T08:49:48.853966Z",
     "iopub.status.idle": "2025-05-01T08:49:49.532405Z",
     "shell.execute_reply": "2025-05-01T08:49:49.531491Z"
    },
    "papermill": {
     "duration": 0.687209,
     "end_time": "2025-05-01T08:49:49.534073",
     "exception": false,
     "start_time": "2025-05-01T08:49:48.846864",
     "status": "completed"
    },
    "tags": []
   },
   "outputs": [
    {
     "data": {
      "image/png": "[encoded data removed]",
      "text/plain": [
       "<Figure size 1000x1000 with 2 Axes>"
      ]
     },
     "metadata": {},
     "output_type": "display_data"
    }
   ],
   "source": [
    "sns.set_style(\"white\")\n",
    "\n",
    "fig, ax = plt.subplots(figsize=(10, 10))\n",
    "\n",
    "corr_train = train.corr()\n",
    "mask_train = np.triu(np.ones_like(corr_train, dtype=bool), k=1)\n",
    "\n",
    "sns.heatmap(\n",
    "    data=corr_train,\n",
    "    annot=True,\n",
    "    fmt='.2f',\n",
    "    mask=mask_train,\n",
    "    square=True,\n",
    "    cmap='coolwarm',\n",
    "    cbar_kws={'shrink': .7, 'format': '%.2f'},   \n",
    "    annot_kws={'size': 8},\n",
    "    center=0,\n",
    "    ax=ax\n",
    ")\n",
    "\n",
    "ax.set_title('Train Correlation Matrix')\n",
    "ax.tick_params(axis='both', which='major', labelsize=8)\n",
    "plt.tight_layout()\n",
    "plt.show()"
   ]
  },
  {
   "cell_type": "markdown",
   "id": "887e9830",
   "metadata": {
    "papermill": {
     "duration": 0.007185,
     "end_time": "2025-05-01T08:49:49.549126",
     "exception": false,
     "start_time": "2025-05-01T08:49:49.541941",
     "status": "completed"
    },
    "tags": []
   },
   "source": [
    "# Training base models"
   ]
  },
  {
   "cell_type": "code",
   "execution_count": 7,
   "id": "9b2016f9",
   "metadata": {
    "_kg_hide-input": true,
    "_kg_hide-output": true,
    "execution": {
     "iopub.execute_input": "2025-05-01T08:49:49.566161Z",
     "iopub.status.busy": "2025-05-01T08:49:49.565846Z",
     "iopub.status.idle": "2025-05-01T08:49:49.573856Z",
     "shell.execute_reply": "2025-05-01T08:49:49.573077Z"
    },
    "papermill": {
     "duration": 0.018163,
     "end_time": "2025-05-01T08:49:49.575192",
     "exception": false,
     "start_time": "2025-05-01T08:49:49.557029",
     "status": "completed"
    },
    "tags": []
   },
   "outputs": [],
   "source": [
    "histgb_params = {\n",
    "    \"l2_regularization\": 83.89023753261954,\n",
    "    \"learning_rate\": 0.014076263018504506,\n",
    "    \"max_depth\": 167,\n",
    "    \"max_features\": 0.35671906170746404,\n",
    "    \"max_iter\": 2175,\n",
    "    \"max_leaf_nodes\": 441,\n",
    "    \"min_samples_leaf\": 41,\n",
    "    \"random_state\": 42\n",
    "}\n",
    "\n",
    "lgbm_params = {\n",
    "    \"boosting_type\": \"gbdt\",\n",
    "    \"colsample_bytree\": 0.5099047573235393,\n",
    "    \"learning_rate\": 0.04655222942419148,\n",
    "    \"min_child_samples\": 39,\n",
    "    \"min_child_weight\": 0.5763597850247795,\n",
    "    \"n_estimators\": 10000,\n",
    "    \"n_jobs\": -1,\n",
    "    \"num_leaves\": 94,\n",
    "    \"random_state\": 42,\n",
    "    \"reg_alpha\": 13.37124947203867,\n",
    "    \"reg_lambda\": 3.4607082189282656,\n",
    "    \"subsample\": 0.8594971769419172,\n",
    "    \"verbose\": -1\n",
    "}\n",
    "\n",
    "lgbm_goss_params = {\n",
    "    \"boosting_type\": \"goss\",\n",
    "    \"colsample_bytree\": 0.44242724444333914,\n",
    "    \"learning_rate\": 0.02648790357768195,\n",
    "    \"min_child_samples\": 31,\n",
    "    \"min_child_weight\": 0.565923097348698,\n",
    "    \"n_estimators\": 10000,\n",
    "    \"n_jobs\": -1,\n",
    "    \"num_leaves\": 91,\n",
    "    \"random_state\": 42,\n",
    "    \"reg_alpha\": 14.802741846604295,\n",
    "    \"reg_lambda\": 3.285199583781151,\n",
    "    \"subsample\": 0.4765616561570595,\n",
    "    \"verbose\": -1\n",
    "}\n",
    "\n",
    "xgb_params = {\n",
    "    \"colsample_bylevel\": 0.562776356802306,\n",
    "    \"colsample_bynode\": 0.9612908685331664,\n",
    "    \"colsample_bytree\": 0.6576899092549643,\n",
    "    \"early_stopping_rounds\": 100,\n",
    "    \"eval_metric\": \"rmse\",\n",
    "    \"gamma\": 6.906307575453604,\n",
    "    \"learning_rate\": 0.035818175355750034,\n",
    "    \"max_depth\": 79,\n",
    "    \"max_leaves\": 94,\n",
    "    \"min_child_weight\": 54,\n",
    "    \"n_estimators\": 10000,\n",
    "    \"n_jobs\": -1,\n",
    "    \"random_state\": 42,\n",
    "    \"reg_alpha\": 40.48896149819585,\n",
    "    \"reg_lambda\": 50.48291846164928,\n",
    "    \"subsample\": 0.987369044259711,\n",
    "    \"verbosity\": 0\n",
    "}\n",
    "\n",
    "cb_params = {\n",
    "    \"border_count\": 197,\n",
    "    \"colsample_bylevel\": 0.5512194940746528,\n",
    "    \"depth\": 10,\n",
    "    \"eval_metric\": \"RMSE\",\n",
    "    \"iterations\": 5000,\n",
    "    \"l2_leaf_reg\": 0.8315140039900148,\n",
    "    \"learning_rate\": 0.04835894985543038,\n",
    "    \"min_child_samples\": 248,\n",
    "    \"random_state\": 42,\n",
    "    \"random_strength\": 0.269215705791639,\n",
    "    \"verbose\": False\n",
    "}\n",
    "\n",
    "ydf_params = {\n",
    "    \"num_trees\": 1000,\n",
    "    \"max_depth\": 8\n",
    "}"
   ]
  },
  {
   "cell_type": "code",
   "execution_count": 8,
   "id": "d61be65f",
   "metadata": {
    "execution": {
     "iopub.execute_input": "2025-05-01T08:49:49.591604Z",
     "iopub.status.busy": "2025-05-01T08:49:49.591247Z",
     "iopub.status.idle": "2025-05-01T08:49:49.595295Z",
     "shell.execute_reply": "2025-05-01T08:49:49.594500Z"
    },
    "papermill": {
     "duration": 0.013587,
     "end_time": "2025-05-01T08:49:49.596651",
     "exception": false,
     "start_time": "2025-05-01T08:49:49.583064",
     "status": "completed"
    },
    "tags": []
   },
   "outputs": [],
   "source": [
    "scores = {}\n",
    "oof_preds = {}\n",
    "test_preds = {}"
   ]
  },
  {
   "cell_type": "markdown",
   "id": "bb0b4f02",
   "metadata": {
    "papermill": {
     "duration": 0.007384,
     "end_time": "2025-05-01T08:49:49.611849",
     "exception": false,
     "start_time": "2025-05-01T08:49:49.604465",
     "status": "completed"
    },
    "tags": []
   },
   "source": [
    "## HistGradientBoosting"
   ]
  },
  {
   "cell_type": "code",
   "execution_count": 9,
   "id": "19053670",
   "metadata": {
    "execution": {
     "iopub.execute_input": "2025-05-01T08:49:49.628235Z",
     "iopub.status.busy": "2025-05-01T08:49:49.627917Z",
     "iopub.status.idle": "2025-05-01T09:00:52.614256Z",
     "shell.execute_reply": "2025-05-01T09:00:52.613302Z"
    },
    "papermill": {
     "duration": 662.996447,
     "end_time": "2025-05-01T09:00:52.615927",
     "exception": false,
     "start_time": "2025-05-01T08:49:49.619480",
     "status": "completed"
    },
    "tags": []
   },
   "outputs": [
    {
     "name": "stdout",
     "output_type": "stream",
     "text": [
      "Training HistGradientBoostingRegressor\n",
      "\n",
      "--- Fold 0 - root_mean_squared_log_error: 0.0610 - Time: 106.82 s\n",
      "--- Fold 1 - root_mean_squared_log_error: 0.0616 - Time: 95.91 s\n",
      "--- Fold 2 - root_mean_squared_log_error: 0.0608 - Time: 122.65 s\n",
      "--- Fold 3 - root_mean_squared_log_error: 0.0621 - Time: 97.71 s\n",
      "--- Fold 4 - root_mean_squared_log_error: 0.0608 - Time: 116.27 s\n",
      "\n",
      "------ Overall root_mean_squared_log_error: 0.0612 - Mean root_mean_squared_log_error: 0.0612 ± 0.0005 - Time: 541.03 s\n"
     ]
    }
   ],
   "source": [
    "histgb_trainer = Trainer(\n",
    "    HistGradientBoostingRegressor(**histgb_params),\n",
    "    cv=KFold(n_splits=CFG.n_folds, random_state=CFG.seed, shuffle=True),\n",
    "    metric=CFG.metric,\n",
    "    task=\"regression\"\n",
    ")\n",
    "\n",
    "histgb_trainer.fit(X, y)\n",
    "\n",
    "scores[\"HistGB\"] = histgb_trainer.fold_scores\n",
    "oof_preds[\"HistGB\"] = histgb_trainer.oof_preds\n",
    "test_preds[\"HistGB\"] = histgb_trainer.predict(X_test)"
   ]
  },
  {
   "cell_type": "markdown",
   "id": "5fad0919",
   "metadata": {
    "papermill": {
     "duration": 0.007855,
     "end_time": "2025-05-01T09:00:52.632183",
     "exception": false,
     "start_time": "2025-05-01T09:00:52.624328",
     "status": "completed"
    },
    "tags": []
   },
   "source": [
    "## LightGBM (gbdt)"
   ]
  },
  {
   "cell_type": "code",
   "execution_count": 10,
   "id": "2044f8b4",
   "metadata": {
    "execution": {
     "iopub.execute_input": "2025-05-01T09:00:52.649160Z",
     "iopub.status.busy": "2025-05-01T09:00:52.648827Z",
     "iopub.status.idle": "2025-05-01T09:04:40.126748Z",
     "shell.execute_reply": "2025-05-01T09:04:40.125899Z"
    },
    "papermill": {
     "duration": 227.48902,
     "end_time": "2025-05-01T09:04:40.128899",
     "exception": false,
     "start_time": "2025-05-01T09:00:52.639879",
     "status": "completed"
    },
    "tags": []
   },
   "outputs": [
    {
     "name": "stdout",
     "output_type": "stream",
     "text": [
      "Training LGBMRegressor\n",
      "\n",
      "Training until validation scores don't improve for 100 rounds\n",
      "[500]\tvalid_0's rmse: 3.58626\tvalid_0's l2: 12.8612\n",
      "[1000]\tvalid_0's rmse: 3.57258\tvalid_0's l2: 12.7633\n",
      "Early stopping, best iteration is:\n",
      "[1164]\tvalid_0's rmse: 3.57037\tvalid_0's l2: 12.7476\n",
      "--- Fold 0 - root_mean_squared_log_error: 0.0618 - Time: 32.62 s\n",
      "\n",
      "Training until validation scores don't improve for 100 rounds\n",
      "[500]\tvalid_0's rmse: 3.64538\tvalid_0's l2: 13.2888\n",
      "[1000]\tvalid_0's rmse: 3.62694\tvalid_0's l2: 13.1547\n",
      "[1500]\tvalid_0's rmse: 3.62361\tvalid_0's l2: 13.1306\n",
      "Early stopping, best iteration is:\n",
      "[1425]\tvalid_0's rmse: 3.62325\tvalid_0's l2: 13.1279\n",
      "--- Fold 1 - root_mean_squared_log_error: 0.0622 - Time: 37.10 s\n",
      "\n",
      "Training until validation scores don't improve for 100 rounds\n",
      "[500]\tvalid_0's rmse: 3.58853\tvalid_0's l2: 12.8776\n",
      "[1000]\tvalid_0's rmse: 3.57473\tvalid_0's l2: 12.7787\n",
      "Early stopping, best iteration is:\n",
      "[1128]\tvalid_0's rmse: 3.5741\tvalid_0's l2: 12.7742\n",
      "--- Fold 2 - root_mean_squared_log_error: 0.0615 - Time: 29.59 s\n",
      "\n",
      "Training until validation scores don't improve for 100 rounds\n",
      "[500]\tvalid_0's rmse: 3.54524\tvalid_0's l2: 12.5687\n",
      "[1000]\tvalid_0's rmse: 3.52687\tvalid_0's l2: 12.4388\n",
      "Early stopping, best iteration is:\n",
      "[1271]\tvalid_0's rmse: 3.52411\tvalid_0's l2: 12.4193\n",
      "--- Fold 3 - root_mean_squared_log_error: 0.0627 - Time: 34.99 s\n",
      "\n",
      "Training until validation scores don't improve for 100 rounds\n",
      "[500]\tvalid_0's rmse: 3.58199\tvalid_0's l2: 12.8307\n",
      "[1000]\tvalid_0's rmse: 3.57508\tvalid_0's l2: 12.7812\n",
      "Early stopping, best iteration is:\n",
      "[1125]\tvalid_0's rmse: 3.57457\tvalid_0's l2: 12.7775\n",
      "--- Fold 4 - root_mean_squared_log_error: 0.0620 - Time: 29.04 s\n",
      "\n",
      "\n",
      "------ Overall root_mean_squared_log_error: 0.0620 - Mean root_mean_squared_log_error: 0.0620 ± 0.0004 - Time: 165.00 s\n"
     ]
    }
   ],
   "source": [
    "lgbm_trainer = Trainer(\n",
    "    LGBMRegressor(**lgbm_params),\n",
    "    cv=KFold(n_splits=CFG.n_folds, random_state=CFG.seed, shuffle=True),\n",
    "    metric=CFG.metric,\n",
    "    use_early_stopping=True,\n",
    "    task=\"regression\"\n",
    ")\n",
    "\n",
    "fit_args = {\n",
    "    \"eval_metric\": \"rmse\",\n",
    "    \"callbacks\": [\n",
    "        log_evaluation(period=500), \n",
    "        early_stopping(stopping_rounds=100)\n",
    "    ]\n",
    "}\n",
    "\n",
    "lgbm_trainer.fit(X, y, fit_args)\n",
    "\n",
    "scores[\"LightGBM (gbdt)\"] = lgbm_trainer.fold_scores\n",
    "oof_preds[\"LightGBM (gbdt)\"] = lgbm_trainer.oof_preds\n",
    "test_preds[\"LightGBM (gbdt)\"] = lgbm_trainer.predict(X_test)"
   ]
  },
  {
   "cell_type": "markdown",
   "id": "04140ad8",
   "metadata": {
    "papermill": {
     "duration": 0.009219,
     "end_time": "2025-05-01T09:04:40.147936",
     "exception": false,
     "start_time": "2025-05-01T09:04:40.138717",
     "status": "completed"
    },
    "tags": []
   },
   "source": [
    "## LightGBM (goss)"
   ]
  },
  {
   "cell_type": "code",
   "execution_count": 11,
   "id": "bd831ea5",
   "metadata": {
    "execution": {
     "iopub.execute_input": "2025-05-01T09:04:40.167976Z",
     "iopub.status.busy": "2025-05-01T09:04:40.167662Z",
     "iopub.status.idle": "2025-05-01T09:20:51.829667Z",
     "shell.execute_reply": "2025-05-01T09:20:51.828887Z"
    },
    "papermill": {
     "duration": 971.67399,
     "end_time": "2025-05-01T09:20:51.831225",
     "exception": false,
     "start_time": "2025-05-01T09:04:40.157235",
     "status": "completed"
    },
    "tags": []
   },
   "outputs": [
    {
     "name": "stdout",
     "output_type": "stream",
     "text": [
      "Training LGBMRegressor\n",
      "\n",
      "Training until validation scores don't improve for 100 rounds\n",
      "[500]\tvalid_0's rmse: 3.88379\tvalid_0's l2: 15.0838\n",
      "[1000]\tvalid_0's rmse: 3.65662\tvalid_0's l2: 13.3709\n",
      "[1500]\tvalid_0's rmse: 3.6177\tvalid_0's l2: 13.0878\n",
      "[2000]\tvalid_0's rmse: 3.60195\tvalid_0's l2: 12.9741\n",
      "[2500]\tvalid_0's rmse: 3.59361\tvalid_0's l2: 12.914\n",
      "[3000]\tvalid_0's rmse: 3.58981\tvalid_0's l2: 12.8867\n",
      "[3500]\tvalid_0's rmse: 3.58735\tvalid_0's l2: 12.8691\n",
      "Early stopping, best iteration is:\n",
      "[3546]\tvalid_0's rmse: 3.58712\tvalid_0's l2: 12.8675\n",
      "--- Fold 0 - root_mean_squared_log_error: 0.0653 - Time: 168.29 s\n",
      "\n",
      "Training until validation scores don't improve for 100 rounds\n",
      "[500]\tvalid_0's rmse: 3.96722\tvalid_0's l2: 15.7388\n",
      "[1000]\tvalid_0's rmse: 3.71884\tvalid_0's l2: 13.8298\n",
      "[1500]\tvalid_0's rmse: 3.6756\tvalid_0's l2: 13.5101\n",
      "[2000]\tvalid_0's rmse: 3.65979\tvalid_0's l2: 13.3941\n",
      "[2500]\tvalid_0's rmse: 3.65127\tvalid_0's l2: 13.3317\n",
      "[3000]\tvalid_0's rmse: 3.64734\tvalid_0's l2: 13.3031\n",
      "Early stopping, best iteration is:\n",
      "[2922]\tvalid_0's rmse: 3.6472\tvalid_0's l2: 13.3021\n",
      "--- Fold 1 - root_mean_squared_log_error: 0.0663 - Time: 138.49 s\n",
      "\n",
      "Training until validation scores don't improve for 100 rounds\n",
      "[500]\tvalid_0's rmse: 3.91048\tvalid_0's l2: 15.2919\n",
      "[1000]\tvalid_0's rmse: 3.66289\tvalid_0's l2: 13.4168\n",
      "[1500]\tvalid_0's rmse: 3.62167\tvalid_0's l2: 13.1165\n",
      "[2000]\tvalid_0's rmse: 3.6064\tvalid_0's l2: 13.0061\n",
      "[2500]\tvalid_0's rmse: 3.59821\tvalid_0's l2: 12.9471\n",
      "[3000]\tvalid_0's rmse: 3.59482\tvalid_0's l2: 12.9227\n",
      "Early stopping, best iteration is:\n",
      "[2953]\tvalid_0's rmse: 3.59474\tvalid_0's l2: 12.9222\n",
      "--- Fold 2 - root_mean_squared_log_error: 0.0661 - Time: 140.20 s\n",
      "\n",
      "Training until validation scores don't improve for 100 rounds\n",
      "[500]\tvalid_0's rmse: 3.86311\tvalid_0's l2: 14.9236\n",
      "[1000]\tvalid_0's rmse: 3.62224\tvalid_0's l2: 13.1206\n",
      "[1500]\tvalid_0's rmse: 3.58362\tvalid_0's l2: 12.8423\n",
      "[2000]\tvalid_0's rmse: 3.56793\tvalid_0's l2: 12.7301\n",
      "[2500]\tvalid_0's rmse: 3.55797\tvalid_0's l2: 12.6592\n",
      "[3000]\tvalid_0's rmse: 3.55302\tvalid_0's l2: 12.6239\n",
      "[3500]\tvalid_0's rmse: 3.55029\tvalid_0's l2: 12.6045\n",
      "[4000]\tvalid_0's rmse: 3.54761\tvalid_0's l2: 12.5855\n",
      "Early stopping, best iteration is:\n",
      "[4116]\tvalid_0's rmse: 3.54713\tvalid_0's l2: 12.5821\n",
      "--- Fold 3 - root_mean_squared_log_error: 0.0654 - Time: 198.06 s\n",
      "\n",
      "Training until validation scores don't improve for 100 rounds\n",
      "[500]\tvalid_0's rmse: 3.89193\tvalid_0's l2: 15.1471\n",
      "[1000]\tvalid_0's rmse: 3.65774\tvalid_0's l2: 13.379\n",
      "[1500]\tvalid_0's rmse: 3.6225\tvalid_0's l2: 13.1225\n",
      "[2000]\tvalid_0's rmse: 3.61091\tvalid_0's l2: 13.0386\n",
      "[2500]\tvalid_0's rmse: 3.60508\tvalid_0's l2: 12.9966\n",
      "Early stopping, best iteration is:\n",
      "[2792]\tvalid_0's rmse: 3.60231\tvalid_0's l2: 12.9766\n",
      "--- Fold 4 - root_mean_squared_log_error: 0.0667 - Time: 131.03 s\n",
      "\n",
      "\n",
      "------ Overall root_mean_squared_log_error: 0.0660 - Mean root_mean_squared_log_error: 0.0660 ± 0.0005 - Time: 777.74 s\n"
     ]
    }
   ],
   "source": [
    "lgbm_goss_trainer = Trainer(\n",
    "    LGBMRegressor(**lgbm_goss_params),\n",
    "    cv=KFold(n_splits=CFG.n_folds, random_state=CFG.seed, shuffle=True),\n",
    "    metric=CFG.metric,\n",
    "    use_early_stopping=True,\n",
    "    task=\"regression\"\n",
    ")\n",
    "\n",
    "fit_args = {\n",
    "    \"eval_metric\": \"rmse\",\n",
    "    \"callbacks\": [\n",
    "        log_evaluation(period=500), \n",
    "        early_stopping(stopping_rounds=100)\n",
    "    ]\n",
    "}\n",
    "\n",
    "lgbm_goss_trainer.fit(X, y, fit_args)\n",
    "\n",
    "scores[\"LightGBM (goss)\"] = lgbm_goss_trainer.fold_scores\n",
    "oof_preds[\"LightGBM (goss)\"] = lgbm_goss_trainer.oof_preds\n",
    "test_preds[\"LightGBM (goss)\"] = lgbm_goss_trainer.predict(X_test)"
   ]
  },
  {
   "cell_type": "markdown",
   "id": "165bb361",
   "metadata": {
    "papermill": {
     "duration": 0.010617,
     "end_time": "2025-05-01T09:20:51.853758",
     "exception": false,
     "start_time": "2025-05-01T09:20:51.843141",
     "status": "completed"
    },
    "tags": []
   },
   "source": [
    "## XGBoost"
   ]
  },
  {
   "cell_type": "code",
   "execution_count": 12,
   "id": "a4a9f6c3",
   "metadata": {
    "execution": {
     "iopub.execute_input": "2025-05-01T09:20:51.876393Z",
     "iopub.status.busy": "2025-05-01T09:20:51.876089Z",
     "iopub.status.idle": "2025-05-01T09:33:25.687814Z",
     "shell.execute_reply": "2025-05-01T09:33:25.687043Z"
    },
    "papermill": {
     "duration": 753.825333,
     "end_time": "2025-05-01T09:33:25.689817",
     "exception": false,
     "start_time": "2025-05-01T09:20:51.864484",
     "status": "completed"
    },
    "tags": []
   },
   "outputs": [
    {
     "name": "stdout",
     "output_type": "stream",
     "text": [
      "Training XGBRegressor\n",
      "\n",
      "[0]\tvalidation_0-rmse:60.21653\n",
      "[500]\tvalidation_0-rmse:4.01644\n",
      "[1000]\tvalidation_0-rmse:3.71865\n",
      "[1500]\tvalidation_0-rmse:3.65990\n",
      "[2000]\tvalidation_0-rmse:3.64129\n",
      "[2500]\tvalidation_0-rmse:3.63325\n",
      "[3000]\tvalidation_0-rmse:3.62950\n",
      "[3500]\tvalidation_0-rmse:3.62516\n",
      "[4000]\tvalidation_0-rmse:3.62282\n",
      "[4500]\tvalidation_0-rmse:3.62130\n",
      "[4534]\tvalidation_0-rmse:3.62128\n",
      "--- Fold 0 - root_mean_squared_log_error: 0.0645 - Time: 127.66 s\n",
      "\n",
      "[0]\tvalidation_0-rmse:60.39554\n",
      "[500]\tvalidation_0-rmse:4.04390\n",
      "[1000]\tvalidation_0-rmse:3.78810\n",
      "[1500]\tvalidation_0-rmse:3.73211\n",
      "[2000]\tvalidation_0-rmse:3.71423\n",
      "[2500]\tvalidation_0-rmse:3.70553\n",
      "[3000]\tvalidation_0-rmse:3.70084\n",
      "[3500]\tvalidation_0-rmse:3.69861\n",
      "[4000]\tvalidation_0-rmse:3.69664\n",
      "[4500]\tvalidation_0-rmse:3.69549\n",
      "[5000]\tvalidation_0-rmse:3.69510\n",
      "[5500]\tvalidation_0-rmse:3.69449\n",
      "[5912]\tvalidation_0-rmse:3.69439\n",
      "--- Fold 1 - root_mean_squared_log_error: 0.0661 - Time: 154.09 s\n",
      "\n",
      "[0]\tvalidation_0-rmse:60.48680\n",
      "[500]\tvalidation_0-rmse:4.11820\n",
      "[1000]\tvalidation_0-rmse:3.77334\n",
      "[1500]\tvalidation_0-rmse:3.69621\n",
      "[2000]\tvalidation_0-rmse:3.67278\n",
      "[2500]\tvalidation_0-rmse:3.66137\n",
      "[3000]\tvalidation_0-rmse:3.65452\n",
      "[3500]\tvalidation_0-rmse:3.65019\n",
      "[4000]\tvalidation_0-rmse:3.64810\n",
      "[4410]\tvalidation_0-rmse:3.64746\n",
      "--- Fold 2 - root_mean_squared_log_error: 0.0663 - Time: 124.94 s\n",
      "\n",
      "[0]\tvalidation_0-rmse:60.42102\n",
      "[500]\tvalidation_0-rmse:4.02891\n",
      "[1000]\tvalidation_0-rmse:3.71576\n",
      "[1500]\tvalidation_0-rmse:3.64820\n",
      "[2000]\tvalidation_0-rmse:3.62725\n",
      "[2500]\tvalidation_0-rmse:3.62043\n",
      "[3000]\tvalidation_0-rmse:3.61464\n",
      "[3500]\tvalidation_0-rmse:3.61066\n",
      "[4000]\tvalidation_0-rmse:3.60893\n",
      "[4500]\tvalidation_0-rmse:3.60835\n",
      "[5000]\tvalidation_0-rmse:3.60776\n",
      "[5500]\tvalidation_0-rmse:3.60708\n",
      "[6000]\tvalidation_0-rmse:3.60615\n",
      "[6412]\tvalidation_0-rmse:3.60561\n",
      "--- Fold 3 - root_mean_squared_log_error: 0.0665 - Time: 166.82 s\n",
      "\n",
      "[0]\tvalidation_0-rmse:60.26765\n",
      "[500]\tvalidation_0-rmse:4.09357\n",
      "[1000]\tvalidation_0-rmse:3.76176\n",
      "[1500]\tvalidation_0-rmse:3.69337\n",
      "[2000]\tvalidation_0-rmse:3.67093\n",
      "[2500]\tvalidation_0-rmse:3.65796\n",
      "[3000]\tvalidation_0-rmse:3.65313\n",
      "[3500]\tvalidation_0-rmse:3.64929\n",
      "[4000]\tvalidation_0-rmse:3.64662\n",
      "[4500]\tvalidation_0-rmse:3.64555\n",
      "[4874]\tvalidation_0-rmse:3.64511\n",
      "--- Fold 4 - root_mean_squared_log_error: 0.0666 - Time: 137.25 s\n",
      "\n",
      "\n",
      "------ Overall root_mean_squared_log_error: 0.0660 - Mean root_mean_squared_log_error: 0.0660 ± 0.0008 - Time: 712.44 s\n"
     ]
    }
   ],
   "source": [
    "xgb_trainer = Trainer(\n",
    "    XGBRegressor(**xgb_params),\n",
    "    cv=KFold(n_splits=CFG.n_folds, random_state=CFG.seed, shuffle=True),\n",
    "    metric=CFG.metric,\n",
    "    use_early_stopping=True,\n",
    "    task=\"regression\"\n",
    ")\n",
    "\n",
    "fit_args = {\n",
    "    \"verbose\": 500\n",
    "}\n",
    "\n",
    "xgb_trainer.fit(X, y, fit_args)\n",
    "\n",
    "scores[\"XGBoost\"] = xgb_trainer.fold_scores\n",
    "oof_preds[\"XGBoost\"] = xgb_trainer.oof_preds\n",
    "test_preds[\"XGBoost\"] = xgb_trainer.predict(X_test)"
   ]
  },
  {
   "cell_type": "markdown",
   "id": "f4b2a80e",
   "metadata": {
    "papermill": {
     "duration": 0.014146,
     "end_time": "2025-05-01T09:33:25.718900",
     "exception": false,
     "start_time": "2025-05-01T09:33:25.704754",
     "status": "completed"
    },
    "tags": []
   },
   "source": [
    "## CatBoost"
   ]
  },
  {
   "cell_type": "code",
   "execution_count": 13,
   "id": "eb290964",
   "metadata": {
    "execution": {
     "iopub.execute_input": "2025-05-01T09:33:25.748258Z",
     "iopub.status.busy": "2025-05-01T09:33:25.747962Z",
     "iopub.status.idle": "2025-05-01T09:33:29.160102Z",
     "shell.execute_reply": "2025-05-01T09:33:29.159132Z"
    },
    "papermill": {
     "duration": 3.42938,
     "end_time": "2025-05-01T09:33:29.162296",
     "exception": false,
     "start_time": "2025-05-01T09:33:25.732916",
     "status": "completed"
    },
    "tags": []
   },
   "outputs": [],
   "source": [
    "X_cb = X.copy()\n",
    "X_test_cb = X_test.copy()\n",
    "\n",
    "for col in X.columns.tolist():\n",
    "    X_cb[f\"{col}_cat\"] = X[col].astype(str).astype(\"category\")\n",
    "    X_test_cb[f\"{col}_cat\"] = X_test[col].astype(str).astype(\"category\")\n",
    "\n",
    "cat_cols = [f + \"_cat\" for f in X.columns.tolist()]"
   ]
  },
  {
   "cell_type": "code",
   "execution_count": 14,
   "id": "f1cce8a2",
   "metadata": {
    "execution": {
     "iopub.execute_input": "2025-05-01T09:33:29.200501Z",
     "iopub.status.busy": "2025-05-01T09:33:29.199529Z",
     "iopub.status.idle": "2025-05-01T10:29:17.870894Z",
     "shell.execute_reply": "2025-05-01T10:29:17.869970Z"
    },
    "papermill": {
     "duration": 3348.690737,
     "end_time": "2025-05-01T10:29:17.872507",
     "exception": false,
     "start_time": "2025-05-01T09:33:29.181770",
     "status": "completed"
    },
    "tags": []
   },
   "outputs": [
    {
     "name": "stdout",
     "output_type": "stream",
     "text": [
      "Training CatBoostRegressor\n",
      "\n",
      "0:\tlearn: 59.5287255\ttest: 59.3597254\tbest: 59.3597254 (0)\ttotal: 702ms\tremaining: 58m 30s\n",
      "500:\tlearn: 3.3312827\ttest: 3.5494841\tbest: 3.5494184 (499)\ttotal: 4m 2s\tremaining: 36m 20s\n",
      "1000:\tlearn: 3.2057904\ttest: 3.5369653\tbest: 3.5369653 (1000)\ttotal: 8m 26s\tremaining: 33m 41s\n",
      "Stopped by overfitting detector  (100 iterations wait)\n",
      "\n",
      "bestTest = 3.536792756\n",
      "bestIteration = 1028\n",
      "\n",
      "Shrink model to first 1029 iterations.\n",
      "--- Fold 0 - root_mean_squared_log_error: 0.0604 - Time: 579.32 s\n",
      "\n",
      "0:\tlearn: 59.4890839\ttest: 59.5328659\tbest: 59.5328659 (0)\ttotal: 414ms\tremaining: 34m 28s\n",
      "500:\tlearn: 3.3210670\ttest: 3.6000527\tbest: 3.6000527 (500)\ttotal: 4m 7s\tremaining: 37m 6s\n",
      "1000:\tlearn: 3.1902322\ttest: 3.5848164\tbest: 3.5846453 (997)\ttotal: 8m 36s\tremaining: 34m 23s\n",
      "Stopped by overfitting detector  (100 iterations wait)\n",
      "\n",
      "bestTest = 3.582777224\n",
      "bestIteration = 1282\n",
      "\n",
      "Shrink model to first 1283 iterations.\n",
      "--- Fold 1 - root_mean_squared_log_error: 0.0607 - Time: 738.69 s\n",
      "\n",
      "0:\tlearn: 59.4683765\ttest: 59.6172269\tbest: 59.6172269 (0)\ttotal: 414ms\tremaining: 34m 30s\n",
      "500:\tlearn: 3.3189917\ttest: 3.5501940\tbest: 3.5501744 (498)\ttotal: 4m 2s\tremaining: 36m 20s\n",
      "1000:\tlearn: 3.1907713\ttest: 3.5419367\tbest: 3.5418157 (939)\ttotal: 8m 35s\tremaining: 34m 20s\n",
      "Stopped by overfitting detector  (100 iterations wait)\n",
      "\n",
      "bestTest = 3.540893384\n",
      "bestIteration = 1218\n",
      "\n",
      "Shrink model to first 1219 iterations.\n",
      "--- Fold 2 - root_mean_squared_log_error: 0.0605 - Time: 701.38 s\n",
      "\n",
      "0:\tlearn: 59.4797778\ttest: 59.5606303\tbest: 59.5606303 (0)\ttotal: 405ms\tremaining: 33m 43s\n",
      "500:\tlearn: 3.3256862\ttest: 3.4992824\tbest: 3.4992796 (499)\ttotal: 4m 7s\tremaining: 37m 1s\n",
      "1000:\tlearn: 3.1974820\ttest: 3.4866356\tbest: 3.4863636 (961)\ttotal: 8m 32s\tremaining: 34m 7s\n",
      "Stopped by overfitting detector  (100 iterations wait)\n",
      "\n",
      "bestTest = 3.484736431\n",
      "bestIteration = 1228\n",
      "\n",
      "Shrink model to first 1229 iterations.\n",
      "--- Fold 3 - root_mean_squared_log_error: 0.0611 - Time: 704.64 s\n",
      "\n",
      "0:\tlearn: 59.5193860\ttest: 59.4134932\tbest: 59.4134932 (0)\ttotal: 422ms\tremaining: 35m 8s\n",
      "500:\tlearn: 3.3306724\ttest: 3.5719287\tbest: 3.5719287 (500)\ttotal: 4m 4s\tremaining: 36m 34s\n",
      "1000:\tlearn: 3.1947945\ttest: 3.5622724\tbest: 3.5622338 (983)\ttotal: 8m 27s\tremaining: 33m 45s\n",
      "Stopped by overfitting detector  (100 iterations wait)\n",
      "\n",
      "bestTest = 3.561172133\n",
      "bestIteration = 1085\n",
      "\n",
      "Shrink model to first 1086 iterations.\n",
      "--- Fold 4 - root_mean_squared_log_error: 0.0605 - Time: 612.24 s\n",
      "\n",
      "\n",
      "------ Overall root_mean_squared_log_error: 0.0606 - Mean root_mean_squared_log_error: 0.0606 ± 0.0002 - Time: 3337.92 s\n"
     ]
    }
   ],
   "source": [
    "cb_trainer = Trainer(\n",
    "    CatBoostRegressor(**cb_params, cat_features=cat_cols),\n",
    "    cv=KFold(n_splits=CFG.n_folds, random_state=CFG.seed, shuffle=True),\n",
    "    metric=CFG.metric,\n",
    "    use_early_stopping=True,\n",
    "    task=\"regression\"\n",
    ")\n",
    "\n",
    "fit_args = {\n",
    "    \"verbose\": 500,\n",
    "    \"early_stopping_rounds\": 100,\n",
    "    \"use_best_model\": True\n",
    "}\n",
    "\n",
    "cb_trainer.fit(X_cb, y, fit_args)\n",
    "\n",
    "scores[\"CatBoost\"] = cb_trainer.fold_scores\n",
    "oof_preds[\"CatBoost\"] = cb_trainer.oof_preds\n",
    "test_preds[\"CatBoost\"] = cb_trainer.predict(X_test_cb)"
   ]
  },
  {
   "cell_type": "markdown",
   "id": "2d4d0bd7",
   "metadata": {
    "papermill": {
     "duration": 0.014952,
     "end_time": "2025-05-01T10:29:17.903371",
     "exception": false,
     "start_time": "2025-05-01T10:29:17.888419",
     "status": "completed"
    },
    "tags": []
   },
   "source": [
    "## Yggdrasil"
   ]
  },
  {
   "cell_type": "code",
   "execution_count": 15,
   "id": "5457d1fd",
   "metadata": {
    "execution": {
     "iopub.execute_input": "2025-05-01T10:29:17.935382Z",
     "iopub.status.busy": "2025-05-01T10:29:17.934621Z",
     "iopub.status.idle": "2025-05-01T10:29:17.941519Z",
     "shell.execute_reply": "2025-05-01T10:29:17.940934Z"
    },
    "papermill": {
     "duration": 0.024089,
     "end_time": "2025-05-01T10:29:17.942763",
     "exception": false,
     "start_time": "2025-05-01T10:29:17.918674",
     "status": "completed"
    },
    "tags": []
   },
   "outputs": [],
   "source": [
    "def YDFRegressor(learner_class):\n",
    "\n",
    "    class YDFXRegressor(BaseEstimator, RegressorMixin):\n",
    "\n",
    "        def __init__(self, params={}):\n",
    "            self.params = params\n",
    "\n",
    "        def fit(self, X, y):\n",
    "            assert isinstance(X, pd.DataFrame)\n",
    "            assert isinstance(y, pd.Series)\n",
    "            target = y.name\n",
    "            params = self.params.copy()\n",
    "            params['label'] = target\n",
    "            params['task'] = ydf.Task.REGRESSION\n",
    "            X = pd.concat([X, y], axis=1)\n",
    "            with contextlib.redirect_stderr(io.StringIO()), contextlib.redirect_stdout(io.StringIO()):\n",
    "                self.model = learner_class(**params).train(X)\n",
    "            return self\n",
    "\n",
    "        def predict(self, X):\n",
    "            assert isinstance(X, pd.DataFrame)\n",
    "            with contextlib.redirect_stderr(io.StringIO()), contextlib.redirect_stdout(io.StringIO()):\n",
    "                return self.model.predict(X)\n",
    "\n",
    "    return YDFXRegressor"
   ]
  },
  {
   "cell_type": "code",
   "execution_count": 16,
   "id": "d399a973",
   "metadata": {
    "execution": {
     "iopub.execute_input": "2025-05-01T10:29:17.974330Z",
     "iopub.status.busy": "2025-05-01T10:29:17.973445Z",
     "iopub.status.idle": "2025-05-01T10:39:18.046855Z",
     "shell.execute_reply": "2025-05-01T10:39:18.045914Z"
    },
    "papermill": {
     "duration": 600.09074,
     "end_time": "2025-05-01T10:39:18.048423",
     "exception": false,
     "start_time": "2025-05-01T10:29:17.957683",
     "status": "completed"
    },
    "tags": []
   },
   "outputs": [
    {
     "name": "stdout",
     "output_type": "stream",
     "text": [
      "Training YDFXRegressor\n",
      "\n",
      "--- Fold 0 - root_mean_squared_log_error: 0.0621 - Time: 99.98 s\n",
      "--- Fold 1 - root_mean_squared_log_error: 0.0619 - Time: 144.07 s\n",
      "--- Fold 2 - root_mean_squared_log_error: 0.0621 - Time: 75.27 s\n",
      "--- Fold 3 - root_mean_squared_log_error: 0.0637 - Time: 179.89 s\n",
      "--- Fold 4 - root_mean_squared_log_error: 0.0626 - Time: 91.84 s\n",
      "\n",
      "------ Overall root_mean_squared_log_error: 0.0625 - Mean root_mean_squared_log_error: 0.0625 ± 0.0006 - Time: 592.65 s\n"
     ]
    }
   ],
   "source": [
    "ydf_trainer = Trainer(\n",
    "    YDFRegressor(GradientBoostedTreesLearner)(ydf_params),\n",
    "    cv=KFold(n_splits=CFG.n_folds, random_state=CFG.seed, shuffle=True),\n",
    "    metric=CFG.metric,\n",
    "    task=\"regression\"\n",
    ")\n",
    "\n",
    "ydf_trainer.fit(X, y)\n",
    "\n",
    "scores[\"Yggdrasil\"] = ydf_trainer.fold_scores\n",
    "oof_preds[\"Yggdrasil\"] = ydf_trainer.oof_preds\n",
    "test_preds[\"Yggdrasil\"] = ydf_trainer.predict(X_test)"
   ]
  },
  {
   "cell_type": "markdown",
   "id": "264436e3",
   "metadata": {
    "papermill": {
     "duration": 0.015124,
     "end_time": "2025-05-01T10:39:18.079564",
     "exception": false,
     "start_time": "2025-05-01T10:39:18.064440",
     "status": "completed"
    },
    "tags": []
   },
   "source": [
    "## Neural networks"
   ]
  },
  {
   "cell_type": "code",
   "execution_count": 17,
   "id": "37ea86ba",
   "metadata": {
    "execution": {
     "iopub.execute_input": "2025-05-01T10:39:18.111335Z",
     "iopub.status.busy": "2025-05-01T10:39:18.110607Z",
     "iopub.status.idle": "2025-05-01T10:39:18.972862Z",
     "shell.execute_reply": "2025-05-01T10:39:18.971849Z"
    },
    "papermill": {
     "duration": 0.879735,
     "end_time": "2025-05-01T10:39:18.974408",
     "exception": false,
     "start_time": "2025-05-01T10:39:18.094673",
     "status": "completed"
    },
    "tags": []
   },
   "outputs": [],
   "source": [
    "train = pd.read_csv(CFG.train_path, index_col=\"id\")\n",
    "test = pd.read_csv(CFG.test_path, index_col=\"id\")\n",
    "\n",
    "train[\"Sex\"] = train[\"Sex\"].map({\"male\": 0, \"female\": 1})\n",
    "test[\"Sex\"] = test[\"Sex\"].map({\"male\": 0, \"female\": 1})\n",
    "\n",
    "X = train.drop(CFG.target, axis=1)\n",
    "y = train[CFG.target]\n",
    "X_test = test"
   ]
  },
  {
   "cell_type": "code",
   "execution_count": 18,
   "id": "c1fdb91b",
   "metadata": {
    "execution": {
     "iopub.execute_input": "2025-05-01T10:39:19.006914Z",
     "iopub.status.busy": "2025-05-01T10:39:19.006616Z",
     "iopub.status.idle": "2025-05-01T10:39:19.147255Z",
     "shell.execute_reply": "2025-05-01T10:39:19.146372Z"
    },
    "papermill": {
     "duration": 0.15877,
     "end_time": "2025-05-01T10:39:19.148965",
     "exception": false,
     "start_time": "2025-05-01T10:39:18.990195",
     "status": "completed"
    },
    "tags": []
   },
   "outputs": [],
   "source": [
    "scaler = StandardScaler().set_output(transform=\"pandas\")\n",
    "\n",
    "X = scaler.fit_transform(X)\n",
    "X_test = scaler.transform(X_test)"
   ]
  },
  {
   "cell_type": "code",
   "execution_count": 19,
   "id": "55805ba5",
   "metadata": {
    "execution": {
     "iopub.execute_input": "2025-05-01T10:39:19.265456Z",
     "iopub.status.busy": "2025-05-01T10:39:19.264637Z",
     "iopub.status.idle": "2025-05-01T10:39:19.270245Z",
     "shell.execute_reply": "2025-05-01T10:39:19.269572Z"
    },
    "papermill": {
     "duration": 0.105978,
     "end_time": "2025-05-01T10:39:19.271448",
     "exception": false,
     "start_time": "2025-05-01T10:39:19.165470",
     "status": "completed"
    },
    "tags": []
   },
   "outputs": [],
   "source": [
    "def get_model(meta):\n",
    "    model = keras.models.Sequential()\n",
    "    model.add(keras.layers.Input(meta[\"X_shape_\"][1:]))\n",
    "    model.add(keras.layers.Dense(256, kernel_initializer='lecun_normal', activation='selu'))\n",
    "    model.add(keras.layers.Dense(128, kernel_initializer='lecun_normal', activation='selu'))\n",
    "    model.add(keras.layers.Dense(64, kernel_initializer='lecun_normal', activation='selu'))\n",
    "    model.add(keras.layers.Dense(1))\n",
    "    return model"
   ]
  },
  {
   "cell_type": "code",
   "execution_count": 20,
   "id": "dcaeb2c8",
   "metadata": {
    "execution": {
     "iopub.execute_input": "2025-05-01T10:39:19.305513Z",
     "iopub.status.busy": "2025-05-01T10:39:19.304748Z",
     "iopub.status.idle": "2025-05-01T10:39:19.382899Z",
     "shell.execute_reply": "2025-05-01T10:39:19.382019Z"
    },
    "papermill": {
     "duration": 0.097497,
     "end_time": "2025-05-01T10:39:19.384960",
     "exception": false,
     "start_time": "2025-05-01T10:39:19.287463",
     "status": "completed"
    },
    "tags": []
   },
   "outputs": [
    {
     "name": "stderr",
     "output_type": "stream",
     "text": [
      "2025-05-01 10:39:19.312799: E external/local_xla/xla/stream_executor/cuda/cuda_driver.cc:152] failed call to cuInit: INTERNAL: CUDA error: Failed call to cuInit: UNKNOWN ERROR (303)\n"
     ]
    }
   ],
   "source": [
    "def scheduler(epoch, lr):    \n",
    "    if epoch % 3 == 0 and epoch:\n",
    "        return lr / 2\n",
    "    return lr\n",
    "\n",
    "nn_model = KerasRegressor(\n",
    "    get_model,\n",
    "    loss=\"mean_squared_error\",\n",
    "    random_state=CFG.seed,\n",
    "    metrics=[keras.metrics.RootMeanSquaredError(name='rmse')],\n",
    "    optimizer=keras.optimizers.AdamW(learning_rate=0.01),\n",
    "    validation_batch_size=65536,\n",
    "    validation_split=0.1,\n",
    "    batch_size=1024,\n",
    "    epochs=50, \n",
    "    verbose=0,\n",
    "    callbacks=[\n",
    "        keras.callbacks.EarlyStopping(monitor='val_rmse', patience=7, restore_best_weights=True),\n",
    "        keras.callbacks.LearningRateScheduler(scheduler)\n",
    "    ]\n",
    ")"
   ]
  },
  {
   "cell_type": "code",
   "execution_count": 21,
   "id": "a08d1e92",
   "metadata": {
    "execution": {
     "iopub.execute_input": "2025-05-01T10:39:19.419271Z",
     "iopub.status.busy": "2025-05-01T10:39:19.418472Z",
     "iopub.status.idle": "2025-05-01T10:39:19.422446Z",
     "shell.execute_reply": "2025-05-01T10:39:19.421696Z"
    },
    "papermill": {
     "duration": 0.022356,
     "end_time": "2025-05-01T10:39:19.423788",
     "exception": false,
     "start_time": "2025-05-01T10:39:19.401432",
     "status": "completed"
    },
    "tags": []
   },
   "outputs": [],
   "source": [
    "nn_bag = BaggingRegressor(\n",
    "    nn_model,\n",
    "    n_estimators=5,\n",
    "    random_state=CFG.seed,\n",
    ")"
   ]
  },
  {
   "cell_type": "code",
   "execution_count": 22,
   "id": "100c7f8b",
   "metadata": {
    "execution": {
     "iopub.execute_input": "2025-05-01T10:39:19.458563Z",
     "iopub.status.busy": "2025-05-01T10:39:19.457754Z",
     "iopub.status.idle": "2025-05-01T11:14:04.703442Z",
     "shell.execute_reply": "2025-05-01T11:14:04.702608Z"
    },
    "papermill": {
     "duration": 2085.264782,
     "end_time": "2025-05-01T11:14:04.705061",
     "exception": false,
     "start_time": "2025-05-01T10:39:19.440279",
     "status": "completed"
    },
    "tags": []
   },
   "outputs": [
    {
     "name": "stdout",
     "output_type": "stream",
     "text": [
      "Training BaggingRegressor\n",
      "\n"
     ]
    },
    {
     "name": "stderr",
     "output_type": "stream",
     "text": [
      "2025-05-01 10:39:19.878034: E tensorflow/core/framework/node_def_util.cc:676] NodeDef mentions attribute use_unbounded_threadpool which is not in the op definition: Op<name=MapDataset; signature=input_dataset:variant, other_arguments: -> handle:variant; attr=f:func; attr=Targuments:list(type),min=0; attr=output_types:list(type),min=1; attr=output_shapes:list(shape),min=1; attr=use_inter_op_parallelism:bool,default=true; attr=preserve_cardinality:bool,default=false; attr=force_synchronous:bool,default=false; attr=metadata:string,default=\"\"> This may be expected if your graph generating binary is newer  than this binary. Unknown attributes will be ignored. NodeDef: {{node ParallelMapDatasetV2/_16}}\n",
      "2025-05-01 10:41:02.150761: E tensorflow/core/framework/node_def_util.cc:676] NodeDef mentions attribute use_unbounded_threadpool which is not in the op definition: Op<name=MapDataset; signature=input_dataset:variant, other_arguments: -> handle:variant; attr=f:func; attr=Targuments:list(type),min=0; attr=output_types:list(type),min=1; attr=output_shapes:list(shape),min=1; attr=use_inter_op_parallelism:bool,default=true; attr=preserve_cardinality:bool,default=false; attr=force_synchronous:bool,default=false; attr=metadata:string,default=\"\"> This may be expected if your graph generating binary is newer  than this binary. Unknown attributes will be ignored. NodeDef: {{node ParallelMapDatasetV2/_16}}\n",
      "2025-05-01 10:42:42.210374: E tensorflow/core/framework/node_def_util.cc:676] NodeDef mentions attribute use_unbounded_threadpool which is not in the op definition: Op<name=MapDataset; signature=input_dataset:variant, other_arguments: -> handle:variant; attr=f:func; attr=Targuments:list(type),min=0; attr=output_types:list(type),min=1; attr=output_shapes:list(shape),min=1; attr=use_inter_op_parallelism:bool,default=true; attr=preserve_cardinality:bool,default=false; attr=force_synchronous:bool,default=false; attr=metadata:string,default=\"\"> This may be expected if your graph generating binary is newer  than this binary. Unknown attributes will be ignored. NodeDef: {{node ParallelMapDatasetV2/_16}}\n",
      "2025-05-01 10:43:08.672828: E tensorflow/core/framework/node_def_util.cc:676] NodeDef mentions attribute use_unbounded_threadpool which is not in the op definition: Op<name=MapDataset; signature=input_dataset:variant, other_arguments: -> handle:variant; attr=f:func; attr=Targuments:list(type),min=0; attr=output_types:list(type),min=1; attr=output_shapes:list(shape),min=1; attr=use_inter_op_parallelism:bool,default=true; attr=preserve_cardinality:bool,default=false; attr=force_synchronous:bool,default=false; attr=metadata:string,default=\"\"> This may be expected if your graph generating binary is newer  than this binary. Unknown attributes will be ignored. NodeDef: {{node ParallelMapDatasetV2/_16}}\n",
      "2025-05-01 10:44:35.618488: E tensorflow/core/framework/node_def_util.cc:676] NodeDef mentions attribute use_unbounded_threadpool which is not in the op definition: Op<name=MapDataset; signature=input_dataset:variant, other_arguments: -> handle:variant; attr=f:func; attr=Targuments:list(type),min=0; attr=output_types:list(type),min=1; attr=output_shapes:list(shape),min=1; attr=use_inter_op_parallelism:bool,default=true; attr=preserve_cardinality:bool,default=false; attr=force_synchronous:bool,default=false; attr=metadata:string,default=\"\"> This may be expected if your graph generating binary is newer  than this binary. Unknown attributes will be ignored. NodeDef: {{node ParallelMapDatasetV2/_16}}\n",
      "2025-05-01 10:45:51.134162: E tensorflow/core/framework/node_def_util.cc:676] NodeDef mentions attribute use_unbounded_threadpool which is not in the op definition: Op<name=MapDataset; signature=input_dataset:variant, other_arguments: -> handle:variant; attr=f:func; attr=Targuments:list(type),min=0; attr=output_types:list(type),min=1; attr=output_shapes:list(shape),min=1; attr=use_inter_op_parallelism:bool,default=true; attr=preserve_cardinality:bool,default=false; attr=force_synchronous:bool,default=false; attr=metadata:string,default=\"\"> This may be expected if your graph generating binary is newer  than this binary. Unknown attributes will be ignored. NodeDef: {{node ParallelMapDatasetV2/_14}}\n"
     ]
    },
    {
     "name": "stdout",
     "output_type": "stream",
     "text": [
      "--- Fold 0 - root_mean_squared_log_error: 0.0616 - Time: 394.82 s\n"
     ]
    },
    {
     "name": "stderr",
     "output_type": "stream",
     "text": [
      "2025-05-01 10:45:58.860295: E tensorflow/core/framework/node_def_util.cc:676] NodeDef mentions attribute use_unbounded_threadpool which is not in the op definition: Op<name=MapDataset; signature=input_dataset:variant, other_arguments: -> handle:variant; attr=f:func; attr=Targuments:list(type),min=0; attr=output_types:list(type),min=1; attr=output_shapes:list(shape),min=1; attr=use_inter_op_parallelism:bool,default=true; attr=preserve_cardinality:bool,default=false; attr=force_synchronous:bool,default=false; attr=metadata:string,default=\"\"> This may be expected if your graph generating binary is newer  than this binary. Unknown attributes will be ignored. NodeDef: {{node ParallelMapDatasetV2/_16}}\n",
      "2025-05-01 10:46:49.008123: E tensorflow/core/framework/node_def_util.cc:676] NodeDef mentions attribute use_unbounded_threadpool which is not in the op definition: Op<name=MapDataset; signature=input_dataset:variant, other_arguments: -> handle:variant; attr=f:func; attr=Targuments:list(type),min=0; attr=output_types:list(type),min=1; attr=output_shapes:list(shape),min=1; attr=use_inter_op_parallelism:bool,default=true; attr=preserve_cardinality:bool,default=false; attr=force_synchronous:bool,default=false; attr=metadata:string,default=\"\"> This may be expected if your graph generating binary is newer  than this binary. Unknown attributes will be ignored. NodeDef: {{node ParallelMapDatasetV2/_16}}\n",
      "2025-05-01 10:48:31.375420: E tensorflow/core/framework/node_def_util.cc:676] NodeDef mentions attribute use_unbounded_threadpool which is not in the op definition: Op<name=MapDataset; signature=input_dataset:variant, other_arguments: -> handle:variant; attr=f:func; attr=Targuments:list(type),min=0; attr=output_types:list(type),min=1; attr=output_shapes:list(shape),min=1; attr=use_inter_op_parallelism:bool,default=true; attr=preserve_cardinality:bool,default=false; attr=force_synchronous:bool,default=false; attr=metadata:string,default=\"\"> This may be expected if your graph generating binary is newer  than this binary. Unknown attributes will be ignored. NodeDef: {{node ParallelMapDatasetV2/_16}}\n",
      "2025-05-01 10:49:13.637637: E tensorflow/core/framework/node_def_util.cc:676] NodeDef mentions attribute use_unbounded_threadpool which is not in the op definition: Op<name=MapDataset; signature=input_dataset:variant, other_arguments: -> handle:variant; attr=f:func; attr=Targuments:list(type),min=0; attr=output_types:list(type),min=1; attr=output_shapes:list(shape),min=1; attr=use_inter_op_parallelism:bool,default=true; attr=preserve_cardinality:bool,default=false; attr=force_synchronous:bool,default=false; attr=metadata:string,default=\"\"> This may be expected if your graph generating binary is newer  than this binary. Unknown attributes will be ignored. NodeDef: {{node ParallelMapDatasetV2/_16}}\n",
      "2025-05-01 10:49:44.671709: E tensorflow/core/framework/node_def_util.cc:676] NodeDef mentions attribute use_unbounded_threadpool which is not in the op definition: Op<name=MapDataset; signature=input_dataset:variant, other_arguments: -> handle:variant; attr=f:func; attr=Targuments:list(type),min=0; attr=output_types:list(type),min=1; attr=output_shapes:list(shape),min=1; attr=use_inter_op_parallelism:bool,default=true; attr=preserve_cardinality:bool,default=false; attr=force_synchronous:bool,default=false; attr=metadata:string,default=\"\"> This may be expected if your graph generating binary is newer  than this binary. Unknown attributes will be ignored. NodeDef: {{node ParallelMapDatasetV2/_16}}\n",
      "2025-05-01 10:51:23.897363: E tensorflow/core/framework/node_def_util.cc:676] NodeDef mentions attribute use_unbounded_threadpool which is not in the op definition: Op<name=MapDataset; signature=input_dataset:variant, other_arguments: -> handle:variant; attr=f:func; attr=Targuments:list(type),min=0; attr=output_types:list(type),min=1; attr=output_shapes:list(shape),min=1; attr=use_inter_op_parallelism:bool,default=true; attr=preserve_cardinality:bool,default=false; attr=force_synchronous:bool,default=false; attr=metadata:string,default=\"\"> This may be expected if your graph generating binary is newer  than this binary. Unknown attributes will be ignored. NodeDef: {{node ParallelMapDatasetV2/_14}}\n"
     ]
    },
    {
     "name": "stdout",
     "output_type": "stream",
     "text": [
      "--- Fold 1 - root_mean_squared_log_error: 0.0631 - Time: 332.27 s\n"
     ]
    },
    {
     "name": "stderr",
     "output_type": "stream",
     "text": [
      "2025-05-01 10:51:31.948747: E tensorflow/core/framework/node_def_util.cc:676] NodeDef mentions attribute use_unbounded_threadpool which is not in the op definition: Op<name=MapDataset; signature=input_dataset:variant, other_arguments: -> handle:variant; attr=f:func; attr=Targuments:list(type),min=0; attr=output_types:list(type),min=1; attr=output_shapes:list(shape),min=1; attr=use_inter_op_parallelism:bool,default=true; attr=preserve_cardinality:bool,default=false; attr=force_synchronous:bool,default=false; attr=metadata:string,default=\"\"> This may be expected if your graph generating binary is newer  than this binary. Unknown attributes will be ignored. NodeDef: {{node ParallelMapDatasetV2/_16}}\n",
      "2025-05-01 10:53:03.995440: E tensorflow/core/framework/node_def_util.cc:676] NodeDef mentions attribute use_unbounded_threadpool which is not in the op definition: Op<name=MapDataset; signature=input_dataset:variant, other_arguments: -> handle:variant; attr=f:func; attr=Targuments:list(type),min=0; attr=output_types:list(type),min=1; attr=output_shapes:list(shape),min=1; attr=use_inter_op_parallelism:bool,default=true; attr=preserve_cardinality:bool,default=false; attr=force_synchronous:bool,default=false; attr=metadata:string,default=\"\"> This may be expected if your graph generating binary is newer  than this binary. Unknown attributes will be ignored. NodeDef: {{node ParallelMapDatasetV2/_16}}\n",
      "2025-05-01 10:54:32.396898: E tensorflow/core/framework/node_def_util.cc:676] NodeDef mentions attribute use_unbounded_threadpool which is not in the op definition: Op<name=MapDataset; signature=input_dataset:variant, other_arguments: -> handle:variant; attr=f:func; attr=Targuments:list(type),min=0; attr=output_types:list(type),min=1; attr=output_shapes:list(shape),min=1; attr=use_inter_op_parallelism:bool,default=true; attr=preserve_cardinality:bool,default=false; attr=force_synchronous:bool,default=false; attr=metadata:string,default=\"\"> This may be expected if your graph generating binary is newer  than this binary. Unknown attributes will be ignored. NodeDef: {{node ParallelMapDatasetV2/_16}}\n",
      "2025-05-01 10:56:02.136746: E tensorflow/core/framework/node_def_util.cc:676] NodeDef mentions attribute use_unbounded_threadpool which is not in the op definition: Op<name=MapDataset; signature=input_dataset:variant, other_arguments: -> handle:variant; attr=f:func; attr=Targuments:list(type),min=0; attr=output_types:list(type),min=1; attr=output_shapes:list(shape),min=1; attr=use_inter_op_parallelism:bool,default=true; attr=preserve_cardinality:bool,default=false; attr=force_synchronous:bool,default=false; attr=metadata:string,default=\"\"> This may be expected if your graph generating binary is newer  than this binary. Unknown attributes will be ignored. NodeDef: {{node ParallelMapDatasetV2/_16}}\n",
      "2025-05-01 10:57:45.372052: E tensorflow/core/framework/node_def_util.cc:676] NodeDef mentions attribute use_unbounded_threadpool which is not in the op definition: Op<name=MapDataset; signature=input_dataset:variant, other_arguments: -> handle:variant; attr=f:func; attr=Targuments:list(type),min=0; attr=output_types:list(type),min=1; attr=output_shapes:list(shape),min=1; attr=use_inter_op_parallelism:bool,default=true; attr=preserve_cardinality:bool,default=false; attr=force_synchronous:bool,default=false; attr=metadata:string,default=\"\"> This may be expected if your graph generating binary is newer  than this binary. Unknown attributes will be ignored. NodeDef: {{node ParallelMapDatasetV2/_16}}\n",
      "2025-05-01 10:59:21.714956: E tensorflow/core/framework/node_def_util.cc:676] NodeDef mentions attribute use_unbounded_threadpool which is not in the op definition: Op<name=MapDataset; signature=input_dataset:variant, other_arguments: -> handle:variant; attr=f:func; attr=Targuments:list(type),min=0; attr=output_types:list(type),min=1; attr=output_shapes:list(shape),min=1; attr=use_inter_op_parallelism:bool,default=true; attr=preserve_cardinality:bool,default=false; attr=force_synchronous:bool,default=false; attr=metadata:string,default=\"\"> This may be expected if your graph generating binary is newer  than this binary. Unknown attributes will be ignored. NodeDef: {{node ParallelMapDatasetV2/_14}}\n"
     ]
    },
    {
     "name": "stdout",
     "output_type": "stream",
     "text": [
      "--- Fold 2 - root_mean_squared_log_error: 0.0615 - Time: 477.52 s\n"
     ]
    },
    {
     "name": "stderr",
     "output_type": "stream",
     "text": [
      "2025-05-01 10:59:29.722754: E tensorflow/core/framework/node_def_util.cc:676] NodeDef mentions attribute use_unbounded_threadpool which is not in the op definition: Op<name=MapDataset; signature=input_dataset:variant, other_arguments: -> handle:variant; attr=f:func; attr=Targuments:list(type),min=0; attr=output_types:list(type),min=1; attr=output_shapes:list(shape),min=1; attr=use_inter_op_parallelism:bool,default=true; attr=preserve_cardinality:bool,default=false; attr=force_synchronous:bool,default=false; attr=metadata:string,default=\"\"> This may be expected if your graph generating binary is newer  than this binary. Unknown attributes will be ignored. NodeDef: {{node ParallelMapDatasetV2/_16}}\n",
      "2025-05-01 11:01:03.856096: E tensorflow/core/framework/node_def_util.cc:676] NodeDef mentions attribute use_unbounded_threadpool which is not in the op definition: Op<name=MapDataset; signature=input_dataset:variant, other_arguments: -> handle:variant; attr=f:func; attr=Targuments:list(type),min=0; attr=output_types:list(type),min=1; attr=output_shapes:list(shape),min=1; attr=use_inter_op_parallelism:bool,default=true; attr=preserve_cardinality:bool,default=false; attr=force_synchronous:bool,default=false; attr=metadata:string,default=\"\"> This may be expected if your graph generating binary is newer  than this binary. Unknown attributes will be ignored. NodeDef: {{node ParallelMapDatasetV2/_16}}\n",
      "2025-05-01 11:01:45.965107: E tensorflow/core/framework/node_def_util.cc:676] NodeDef mentions attribute use_unbounded_threadpool which is not in the op definition: Op<name=MapDataset; signature=input_dataset:variant, other_arguments: -> handle:variant; attr=f:func; attr=Targuments:list(type),min=0; attr=output_types:list(type),min=1; attr=output_shapes:list(shape),min=1; attr=use_inter_op_parallelism:bool,default=true; attr=preserve_cardinality:bool,default=false; attr=force_synchronous:bool,default=false; attr=metadata:string,default=\"\"> This may be expected if your graph generating binary is newer  than this binary. Unknown attributes will be ignored. NodeDef: {{node ParallelMapDatasetV2/_16}}\n",
      "2025-05-01 11:02:16.772511: E tensorflow/core/framework/node_def_util.cc:676] NodeDef mentions attribute use_unbounded_threadpool which is not in the op definition: Op<name=MapDataset; signature=input_dataset:variant, other_arguments: -> handle:variant; attr=f:func; attr=Targuments:list(type),min=0; attr=output_types:list(type),min=1; attr=output_shapes:list(shape),min=1; attr=use_inter_op_parallelism:bool,default=true; attr=preserve_cardinality:bool,default=false; attr=force_synchronous:bool,default=false; attr=metadata:string,default=\"\"> This may be expected if your graph generating binary is newer  than this binary. Unknown attributes will be ignored. NodeDef: {{node ParallelMapDatasetV2/_16}}\n",
      "2025-05-01 11:03:27.798238: E tensorflow/core/framework/node_def_util.cc:676] NodeDef mentions attribute use_unbounded_threadpool which is not in the op definition: Op<name=MapDataset; signature=input_dataset:variant, other_arguments: -> handle:variant; attr=f:func; attr=Targuments:list(type),min=0; attr=output_types:list(type),min=1; attr=output_shapes:list(shape),min=1; attr=use_inter_op_parallelism:bool,default=true; attr=preserve_cardinality:bool,default=false; attr=force_synchronous:bool,default=false; attr=metadata:string,default=\"\"> This may be expected if your graph generating binary is newer  than this binary. Unknown attributes will be ignored. NodeDef: {{node ParallelMapDatasetV2/_16}}\n",
      "2025-05-01 11:04:59.859715: E tensorflow/core/framework/node_def_util.cc:676] NodeDef mentions attribute use_unbounded_threadpool which is not in the op definition: Op<name=MapDataset; signature=input_dataset:variant, other_arguments: -> handle:variant; attr=f:func; attr=Targuments:list(type),min=0; attr=output_types:list(type),min=1; attr=output_shapes:list(shape),min=1; attr=use_inter_op_parallelism:bool,default=true; attr=preserve_cardinality:bool,default=false; attr=force_synchronous:bool,default=false; attr=metadata:string,default=\"\"> This may be expected if your graph generating binary is newer  than this binary. Unknown attributes will be ignored. NodeDef: {{node ParallelMapDatasetV2/_14}}\n"
     ]
    },
    {
     "name": "stdout",
     "output_type": "stream",
     "text": [
      "--- Fold 3 - root_mean_squared_log_error: 0.0626 - Time: 337.56 s\n"
     ]
    },
    {
     "name": "stderr",
     "output_type": "stream",
     "text": [
      "2025-05-01 11:05:08.151687: E tensorflow/core/framework/node_def_util.cc:676] NodeDef mentions attribute use_unbounded_threadpool which is not in the op definition: Op<name=MapDataset; signature=input_dataset:variant, other_arguments: -> handle:variant; attr=f:func; attr=Targuments:list(type),min=0; attr=output_types:list(type),min=1; attr=output_shapes:list(shape),min=1; attr=use_inter_op_parallelism:bool,default=true; attr=preserve_cardinality:bool,default=false; attr=force_synchronous:bool,default=false; attr=metadata:string,default=\"\"> This may be expected if your graph generating binary is newer  than this binary. Unknown attributes will be ignored. NodeDef: {{node ParallelMapDatasetV2/_16}}\n",
      "2025-05-01 11:06:49.269419: E tensorflow/core/framework/node_def_util.cc:676] NodeDef mentions attribute use_unbounded_threadpool which is not in the op definition: Op<name=MapDataset; signature=input_dataset:variant, other_arguments: -> handle:variant; attr=f:func; attr=Targuments:list(type),min=0; attr=output_types:list(type),min=1; attr=output_shapes:list(shape),min=1; attr=use_inter_op_parallelism:bool,default=true; attr=preserve_cardinality:bool,default=false; attr=force_synchronous:bool,default=false; attr=metadata:string,default=\"\"> This may be expected if your graph generating binary is newer  than this binary. Unknown attributes will be ignored. NodeDef: {{node ParallelMapDatasetV2/_16}}\n",
      "2025-05-01 11:08:25.024825: E tensorflow/core/framework/node_def_util.cc:676] NodeDef mentions attribute use_unbounded_threadpool which is not in the op definition: Op<name=MapDataset; signature=input_dataset:variant, other_arguments: -> handle:variant; attr=f:func; attr=Targuments:list(type),min=0; attr=output_types:list(type),min=1; attr=output_shapes:list(shape),min=1; attr=use_inter_op_parallelism:bool,default=true; attr=preserve_cardinality:bool,default=false; attr=force_synchronous:bool,default=false; attr=metadata:string,default=\"\"> This may be expected if your graph generating binary is newer  than this binary. Unknown attributes will be ignored. NodeDef: {{node ParallelMapDatasetV2/_16}}\n",
      "2025-05-01 11:10:07.694245: E tensorflow/core/framework/node_def_util.cc:676] NodeDef mentions attribute use_unbounded_threadpool which is not in the op definition: Op<name=MapDataset; signature=input_dataset:variant, other_arguments: -> handle:variant; attr=f:func; attr=Targuments:list(type),min=0; attr=output_types:list(type),min=1; attr=output_shapes:list(shape),min=1; attr=use_inter_op_parallelism:bool,default=true; attr=preserve_cardinality:bool,default=false; attr=force_synchronous:bool,default=false; attr=metadata:string,default=\"\"> This may be expected if your graph generating binary is newer  than this binary. Unknown attributes will be ignored. NodeDef: {{node ParallelMapDatasetV2/_16}}\n",
      "2025-05-01 11:11:54.398519: E tensorflow/core/framework/node_def_util.cc:676] NodeDef mentions attribute use_unbounded_threadpool which is not in the op definition: Op<name=MapDataset; signature=input_dataset:variant, other_arguments: -> handle:variant; attr=f:func; attr=Targuments:list(type),min=0; attr=output_types:list(type),min=1; attr=output_shapes:list(shape),min=1; attr=use_inter_op_parallelism:bool,default=true; attr=preserve_cardinality:bool,default=false; attr=force_synchronous:bool,default=false; attr=metadata:string,default=\"\"> This may be expected if your graph generating binary is newer  than this binary. Unknown attributes will be ignored. NodeDef: {{node ParallelMapDatasetV2/_16}}\n",
      "2025-05-01 11:13:37.502816: E tensorflow/core/framework/node_def_util.cc:676] NodeDef mentions attribute use_unbounded_threadpool which is not in the op definition: Op<name=MapDataset; signature=input_dataset:variant, other_arguments: -> handle:variant; attr=f:func; attr=Targuments:list(type),min=0; attr=output_types:list(type),min=1; attr=output_shapes:list(shape),min=1; attr=use_inter_op_parallelism:bool,default=true; attr=preserve_cardinality:bool,default=false; attr=force_synchronous:bool,default=false; attr=metadata:string,default=\"\"> This may be expected if your graph generating binary is newer  than this binary. Unknown attributes will be ignored. NodeDef: {{node ParallelMapDatasetV2/_14}}\n"
     ]
    },
    {
     "name": "stdout",
     "output_type": "stream",
     "text": [
      "--- Fold 4 - root_mean_squared_log_error: 0.0610 - Time: 516.84 s\n",
      "\n",
      "------ Overall root_mean_squared_log_error: 0.0620 - Mean root_mean_squared_log_error: 0.0620 ± 0.0007 - Time: 2062.12 s\n"
     ]
    },
    {
     "name": "stderr",
     "output_type": "stream",
     "text": [
      "2025-05-01 11:13:42.563386: E tensorflow/core/framework/node_def_util.cc:676] NodeDef mentions attribute use_unbounded_threadpool which is not in the op definition: Op<name=MapDataset; signature=input_dataset:variant, other_arguments: -> handle:variant; attr=f:func; attr=Targuments:list(type),min=0; attr=output_types:list(type),min=1; attr=output_shapes:list(shape),min=1; attr=use_inter_op_parallelism:bool,default=true; attr=preserve_cardinality:bool,default=false; attr=force_synchronous:bool,default=false; attr=metadata:string,default=\"\"> This may be expected if your graph generating binary is newer  than this binary. Unknown attributes will be ignored. NodeDef: {{node ParallelMapDatasetV2/_14}}\n",
      "2025-05-01 11:13:48.080098: E tensorflow/core/framework/node_def_util.cc:676] NodeDef mentions attribute use_unbounded_threadpool which is not in the op definition: Op<name=MapDataset; signature=input_dataset:variant, other_arguments: -> handle:variant; attr=f:func; attr=Targuments:list(type),min=0; attr=output_types:list(type),min=1; attr=output_shapes:list(shape),min=1; attr=use_inter_op_parallelism:bool,default=true; attr=preserve_cardinality:bool,default=false; attr=force_synchronous:bool,default=false; attr=metadata:string,default=\"\"> This may be expected if your graph generating binary is newer  than this binary. Unknown attributes will be ignored. NodeDef: {{node ParallelMapDatasetV2/_14}}\n",
      "2025-05-01 11:13:53.519103: E tensorflow/core/framework/node_def_util.cc:676] NodeDef mentions attribute use_unbounded_threadpool which is not in the op definition: Op<name=MapDataset; signature=input_dataset:variant, other_arguments: -> handle:variant; attr=f:func; attr=Targuments:list(type),min=0; attr=output_types:list(type),min=1; attr=output_shapes:list(shape),min=1; attr=use_inter_op_parallelism:bool,default=true; attr=preserve_cardinality:bool,default=false; attr=force_synchronous:bool,default=false; attr=metadata:string,default=\"\"> This may be expected if your graph generating binary is newer  than this binary. Unknown attributes will be ignored. NodeDef: {{node ParallelMapDatasetV2/_14}}\n",
      "2025-05-01 11:13:59.221947: E tensorflow/core/framework/node_def_util.cc:676] NodeDef mentions attribute use_unbounded_threadpool which is not in the op definition: Op<name=MapDataset; signature=input_dataset:variant, other_arguments: -> handle:variant; attr=f:func; attr=Targuments:list(type),min=0; attr=output_types:list(type),min=1; attr=output_shapes:list(shape),min=1; attr=use_inter_op_parallelism:bool,default=true; attr=preserve_cardinality:bool,default=false; attr=force_synchronous:bool,default=false; attr=metadata:string,default=\"\"> This may be expected if your graph generating binary is newer  than this binary. Unknown attributes will be ignored. NodeDef: {{node ParallelMapDatasetV2/_14}}\n"
     ]
    }
   ],
   "source": [
    "nn_trainer = Trainer(\n",
    "    nn_bag,\n",
    "    cv=KFold(n_splits=CFG.n_folds, random_state=CFG.seed, shuffle=True),\n",
    "    metric=root_mean_squared_log_error,\n",
    "    task=\"regression\"\n",
    ")\n",
    "\n",
    "nn_trainer.fit(X, y)\n",
    "\n",
    "scores[\"KerasANN\"] = nn_trainer.fold_scores\n",
    "oof_preds[\"KerasANN\"] = nn_trainer.oof_preds\n",
    "test_preds[\"KerasANN\"] = nn_trainer.predict(X_test)"
   ]
  },
  {
   "cell_type": "markdown",
   "id": "6bdef65c",
   "metadata": {
    "papermill": {
     "duration": 0.017923,
     "end_time": "2025-05-01T11:14:04.742010",
     "exception": false,
     "start_time": "2025-05-01T11:14:04.724087",
     "status": "completed"
    },
    "tags": []
   },
   "source": [
    "# Ensembling with Ridge"
   ]
  },
  {
   "cell_type": "code",
   "execution_count": 23,
   "id": "ed4888a1",
   "metadata": {
    "_kg_hide-input": true,
    "execution": {
     "iopub.execute_input": "2025-05-01T11:14:04.778957Z",
     "iopub.status.busy": "2025-05-01T11:14:04.778650Z",
     "iopub.status.idle": "2025-05-01T11:14:04.786317Z",
     "shell.execute_reply": "2025-05-01T11:14:04.785571Z"
    },
    "papermill": {
     "duration": 0.027926,
     "end_time": "2025-05-01T11:14:04.787704",
     "exception": false,
     "start_time": "2025-05-01T11:14:04.759778",
     "status": "completed"
    },
    "tags": []
   },
   "outputs": [],
   "source": [
    "def plot_weights(weights, title):\n",
    "    sorted_indices = np.argsort(weights[0])[::-1]\n",
    "    sorted_coeffs = np.array(weights[0])[sorted_indices]\n",
    "    sorted_model_names = np.array(list(oof_preds.keys()))[sorted_indices]\n",
    "\n",
    "    plt.figure(figsize=(10, weights.shape[1] * 0.5))\n",
    "    ax = sns.barplot(x=sorted_coeffs, y=sorted_model_names, palette=\"RdYlGn_r\")\n",
    "\n",
    "    for i, (value, name) in enumerate(zip(sorted_coeffs, sorted_model_names)):\n",
    "        if value >= 0:\n",
    "            ax.text(value, i, f\"{value:.3f}\", va=\"center\", ha=\"left\", color=\"black\")\n",
    "        else:\n",
    "            ax.text(value, i, f\"{value:.3f}\", va=\"center\", ha=\"right\", color=\"black\")\n",
    "\n",
    "    xlim = ax.get_xlim()\n",
    "    ax.set_xlim(xlim[0] - 0.1 * abs(xlim[0]), xlim[1] + 0.1 * abs(xlim[1]))\n",
    "\n",
    "    plt.title(title)\n",
    "    plt.xlabel(\"\")\n",
    "    plt.ylabel(\"\")\n",
    "    plt.tight_layout()\n",
    "    plt.show()"
   ]
  },
  {
   "cell_type": "code",
   "execution_count": 24,
   "id": "d0cfdd93",
   "metadata": {
    "execution": {
     "iopub.execute_input": "2025-05-01T11:14:04.826591Z",
     "iopub.status.busy": "2025-05-01T11:14:04.826299Z",
     "iopub.status.idle": "2025-05-01T11:14:04.864588Z",
     "shell.execute_reply": "2025-05-01T11:14:04.863642Z"
    },
    "papermill": {
     "duration": 0.059938,
     "end_time": "2025-05-01T11:14:04.866281",
     "exception": false,
     "start_time": "2025-05-01T11:14:04.806343",
     "status": "completed"
    },
    "tags": []
   },
   "outputs": [],
   "source": [
    "X = pd.DataFrame(oof_preds)\n",
    "X_test = pd.DataFrame(test_preds)"
   ]
  },
  {
   "cell_type": "code",
   "execution_count": 25,
   "id": "f54ebd3d",
   "metadata": {
    "_kg_hide-output": true,
    "execution": {
     "iopub.execute_input": "2025-05-01T11:14:04.905169Z",
     "iopub.status.busy": "2025-05-01T11:14:04.904285Z",
     "iopub.status.idle": "2025-05-01T11:30:38.204704Z",
     "shell.execute_reply": "2025-05-01T11:30:38.203857Z"
    },
    "papermill": {
     "duration": 993.321415,
     "end_time": "2025-05-01T11:30:38.206294",
     "exception": false,
     "start_time": "2025-05-01T11:14:04.884879",
     "status": "completed"
    },
    "scrolled": true,
    "tags": []
   },
   "outputs": [
    {
     "name": "stderr",
     "output_type": "stream",
     "text": [
      "[I 2025-05-01 11:14:04,910] A new study created in memory with name: no-name-8a3a66f1-d476-4d89-812b-2eab52ff69f1\n",
      "[I 2025-05-01 11:14:19,223] Trial 1 finished with value: 0.06015368502390749 and parameters: {'alpha': 9.046146863217462, 'tol': 0.008195461620145993}. Best is trial 1 with value: 0.06015368502390749.\n",
      "[I 2025-05-01 11:14:19,226] Trial 3 finished with value: 0.06015368457220589 and parameters: {'alpha': 4.2665423905087465, 'tol': 0.00201340184888668}. Best is trial 3 with value: 0.06015368457220589.\n",
      "[I 2025-05-01 11:14:19,227] Trial 2 finished with value: 0.06015368424170189 and parameters: {'alpha': 0.7668377514449243, 'tol': 0.005960845527452275}. Best is trial 2 with value: 0.06015368424170189.\n",
      "[I 2025-05-01 11:14:19,255] Trial 0 finished with value: 0.06015368441201973 and parameters: {'alpha': 2.5705886987002047, 'tol': 0.0030605706164516786}. Best is trial 2 with value: 0.06015368424170189.\n",
      "[I 2025-05-01 11:14:34,465] Trial 7 finished with value: 0.060153684422483616 and parameters: {'alpha': 2.6813935248048413, 'tol': 0.0019569484791075813}. Best is trial 2 with value: 0.06015368424170189.\n",
      "[I 2025-05-01 11:14:34,471] Trial 6 finished with value: 0.06015368457888781 and parameters: {'alpha': 4.3372718055063375, 'tol': 0.0015840611597309345}. Best is trial 2 with value: 0.06015368424170189.\n",
      "[I 2025-05-01 11:14:34,534] Trial 4 finished with value: 0.06015368432445625 and parameters: {'alpha': 1.643332521886317, 'tol': 0.00712947243973963}. Best is trial 2 with value: 0.06015368424170189.\n",
      "[I 2025-05-01 11:14:34,537] Trial 5 finished with value: 0.060153684773343326 and parameters: {'alpha': 6.395332326162069, 'tol': 0.0019516885220646008}. Best is trial 2 with value: 0.06015368424170189.\n",
      "[I 2025-05-01 11:14:49,520] Trial 9 finished with value: 0.06015368442133664 and parameters: {'alpha': 2.6692501762124055, 'tol': 0.0015957836650698004}. Best is trial 2 with value: 0.06015368424170189.\n",
      "[I 2025-05-01 11:14:49,521] Trial 8 finished with value: 0.06015368448821966 and parameters: {'alpha': 3.377418847981375, 'tol': 0.008823151634272827}. Best is trial 2 with value: 0.06015368424170189.\n",
      "[I 2025-05-01 11:14:49,528] Trial 11 finished with value: 0.06015368509884558 and parameters: {'alpha': 9.838705137152694, 'tol': 0.006053721121393571}. Best is trial 2 with value: 0.06015368424170189.\n",
      "[I 2025-05-01 11:14:49,529] Trial 10 finished with value: 0.0601536846972437 and parameters: {'alpha': 5.590003329362138, 'tol': 0.0015079930536696748}. Best is trial 2 with value: 0.06015368424170189.\n",
      "[I 2025-05-01 11:15:04,298] Trial 15 finished with value: 0.060153684307887735 and parameters: {'alpha': 1.4678565049332868, 'tol': 0.006337317993333539}. Best is trial 2 with value: 0.06015368424170189.\n",
      "[I 2025-05-01 11:15:04,300] Trial 12 finished with value: 0.06015368420818667 and parameters: {'alpha': 0.4118349562800764, 'tol': 0.004841008345879524}. Best is trial 12 with value: 0.06015368420818667.\n",
      "[I 2025-05-01 11:15:04,302] Trial 13 finished with value: 0.060153684189200765 and parameters: {'alpha': 0.21070692448148642, 'tol': 0.006525534662461557}. Best is trial 13 with value: 0.060153684189200765.\n",
      "[I 2025-05-01 11:15:04,316] Trial 14 finished with value: 0.060153684222221865 and parameters: {'alpha': 0.5604939179354291, 'tol': 0.007479507478407496}. Best is trial 13 with value: 0.060153684189200765.\n",
      "[I 2025-05-01 11:15:19,702] Trial 19 finished with value: 0.06015368418779098 and parameters: {'alpha': 0.19578601241475457, 'tol': 0.0030306393456620206}. Best is trial 19 with value: 0.06015368418779098.\n",
      "[I 2025-05-01 11:15:19,703] Trial 16 finished with value: 0.06015368464980554 and parameters: {'alpha': 5.087929433172195, 'tol': 0.005808481159932899}. Best is trial 19 with value: 0.06015368418779098.\n",
      "[I 2025-05-01 11:15:19,707] Trial 18 finished with value: 0.060153684620833384 and parameters: {'alpha': 4.781271433742856, 'tol': 0.0057408572025231825}. Best is trial 19 with value: 0.06015368418779098.\n",
      "[I 2025-05-01 11:15:19,709] Trial 17 finished with value: 0.06015368462316362 and parameters: {'alpha': 4.805947416889079, 'tol': 0.006406768741908731}. Best is trial 19 with value: 0.06015368418779098.\n",
      "[I 2025-05-01 11:15:32,767] Trial 23 finished with value: 0.06015368417633265 and parameters: {'alpha': 0.0743949804856466, 'tol': 0.002123819480788255}. Best is trial 23 with value: 0.06015368417633265.\n",
      "[I 2025-05-01 11:15:32,780] Trial 21 finished with value: 0.06015368417337824 and parameters: {'alpha': 0.04309572989332455, 'tol': 0.0018851028113543067}. Best is trial 21 with value: 0.06015368417337824.\n",
      "[I 2025-05-01 11:15:32,782] Trial 22 finished with value: 0.06015368421140814 and parameters: {'alpha': 0.4459596636361454, 'tol': 0.0003369962368138524}. Best is trial 21 with value: 0.06015368417337824.\n",
      "[I 2025-05-01 11:15:32,782] Trial 20 finished with value: 0.060153684237688694 and parameters: {'alpha': 0.7243336870286944, 'tol': 0.0002557382341102279}. Best is trial 21 with value: 0.06015368417337824.\n",
      "[I 2025-05-01 11:15:49,570] Trial 25 finished with value: 0.06015368417125633 and parameters: {'alpha': 0.02062209900534906, 'tol': 0.003174252262448811}. Best is trial 25 with value: 0.06015368417125633.\n",
      "[I 2025-05-01 11:15:49,575] Trial 24 finished with value: 0.0601536841711585 and parameters: {'alpha': 0.019585179869413646, 'tol': 0.002494979857619705}. Best is trial 24 with value: 0.0601536841711585.\n",
      "[I 2025-05-01 11:15:49,576] Trial 26 finished with value: 0.06015368417051623 and parameters: {'alpha': 0.012775712908430034, 'tol': 0.0022767016441691944}. Best is trial 26 with value: 0.06015368417051623.\n",
      "[I 2025-05-01 11:15:49,576] Trial 27 finished with value: 0.06015368419767219 and parameters: {'alpha': 0.3004595918815324, 'tol': 0.0036556941512054884}. Best is trial 26 with value: 0.06015368417051623.\n",
      "[I 2025-05-01 11:16:04,964] Trial 28 finished with value: 0.06015368436913852 and parameters: {'alpha': 2.1165227890519613, 'tol': 0.003655809314342031}. Best is trial 26 with value: 0.06015368417051623.\n",
      "[I 2025-05-01 11:16:06,630] Trial 30 finished with value: 0.0601536844257312 and parameters: {'alpha': 2.7157851355698845, 'tol': 0.003890035844440332}. Best is trial 26 with value: 0.06015368417051623.\n",
      "[I 2025-05-01 11:16:06,631] Trial 31 finished with value: 0.06015368442782245 and parameters: {'alpha': 2.737924326570072, 'tol': 0.004006561310971924}. Best is trial 26 with value: 0.06015368417051623.\n",
      "[I 2025-05-01 11:16:06,656] Trial 29 finished with value: 0.060153684368951924 and parameters: {'alpha': 2.1145466368740324, 'tol': 0.0038844112871714203}. Best is trial 26 with value: 0.06015368417051623.\n",
      "[I 2025-05-01 11:16:20,996] Trial 32 finished with value: 0.06015368437357934 and parameters: {'alpha': 2.1635574170873113, 'tol': 0.0036244073950374204}. Best is trial 26 with value: 0.06015368417051623.\n",
      "[I 2025-05-01 11:16:22,698] Trial 34 finished with value: 0.060153684198680266 and parameters: {'alpha': 0.311128355000529, 'tol': 0.0017607708716452534}. Best is trial 26 with value: 0.06015368417051623.\n",
      "[I 2025-05-01 11:16:22,702] Trial 33 finished with value: 0.060153684211218646 and parameters: {'alpha': 0.44394653934461437, 'tol': 0.0026275432937488004}. Best is trial 26 with value: 0.06015368417051623.\n",
      "[I 2025-05-01 11:16:23,564] Trial 35 finished with value: 0.060153684248126844 and parameters: {'alpha': 0.8348877208003221, 'tol': 0.002497967889669625}. Best is trial 26 with value: 0.06015368417051623.\n",
      "[I 2025-05-01 11:16:37,019] Trial 36 finished with value: 0.06015368418643964 and parameters: {'alpha': 0.18146784196648097, 'tol': 0.0020605277284349373}. Best is trial 26 with value: 0.06015368417051623.\n",
      "[I 2025-05-01 11:16:37,905] Trial 38 finished with value: 0.0601536841754205 and parameters: {'alpha': 0.06473310358820336, 'tol': 0.0026225215547229118}. Best is trial 26 with value: 0.06015368417051623.\n",
      "[I 2025-05-01 11:16:39,591] Trial 39 finished with value: 0.06015368417429854 and parameters: {'alpha': 0.05285655825717565, 'tol': 0.0017173268811200588}. Best is trial 26 with value: 0.06015368417051623.\n",
      "[I 2025-05-01 11:16:39,610] Trial 37 finished with value: 0.060153684802381306 and parameters: {'alpha': 6.702599314187426, 'tol': 0.009404828638971564}. Best is trial 26 with value: 0.06015368417051623.\n",
      "[I 2025-05-01 11:16:53,835] Trial 41 finished with value: 0.06015368480620394 and parameters: {'alpha': 6.743047054272303, 'tol': 0.00930798359155384}. Best is trial 26 with value: 0.06015368417051623.\n",
      "[I 2025-05-01 11:16:53,850] Trial 40 finished with value: 0.060153684227889734 and parameters: {'alpha': 0.6205404820903396, 'tol': 0.003025587718149701}. Best is trial 26 with value: 0.06015368417051623.\n",
      "[I 2025-05-01 11:16:54,745] Trial 42 finished with value: 0.0601536841702953 and parameters: {'alpha': 0.010435323168015879, 'tol': 0.0043907481692463555}. Best is trial 42 with value: 0.0601536841702953.\n",
      "[I 2025-05-01 11:16:55,674] Trial 43 finished with value: 0.06015368417078442 and parameters: {'alpha': 0.015623463764183793, 'tol': 0.00367407582755763}. Best is trial 42 with value: 0.0601536841702953.\n",
      "[I 2025-05-01 11:17:10,683] Trial 44 finished with value: 0.06015368417153776 and parameters: {'alpha': 0.023602806059602754, 'tol': 0.0021399017071592544}. Best is trial 42 with value: 0.0601536841702953.\n",
      "[I 2025-05-01 11:17:10,690] Trial 45 finished with value: 0.06015368417402855 and parameters: {'alpha': 0.04998806964727079, 'tol': 0.0015251981328073998}. Best is trial 42 with value: 0.0601536841702953.\n",
      "[I 2025-05-01 11:17:11,569] Trial 46 finished with value: 0.0601536841787588 and parameters: {'alpha': 0.10010605038530931, 'tol': 0.0051561063117941544}. Best is trial 42 with value: 0.0601536841702953.\n",
      "[I 2025-05-01 11:17:11,573] Trial 47 finished with value: 0.06015368419043476 and parameters: {'alpha': 0.2237832168626155, 'tol': 0.004129189819643862}. Best is trial 42 with value: 0.0601536841702953.\n",
      "[I 2025-05-01 11:17:25,616] Trial 48 finished with value: 0.06015368417118305 and parameters: {'alpha': 0.019839417256049235, 'tol': 0.005534809208421191}. Best is trial 42 with value: 0.0601536841702953.\n",
      "[I 2025-05-01 11:17:28,098] Trial 49 finished with value: 0.06015368417746136 and parameters: {'alpha': 0.08635043985238748, 'tol': 0.004559816052165611}. Best is trial 42 with value: 0.0601536841702953.\n",
      "[I 2025-05-01 11:17:28,111] Trial 51 finished with value: 0.060153684249416264 and parameters: {'alpha': 0.8485514825497307, 'tol': 0.004836495531668439}. Best is trial 42 with value: 0.0601536841702953.\n",
      "[I 2025-05-01 11:17:28,118] Trial 50 finished with value: 0.06015368505125586 and parameters: {'alpha': 9.335398149054164, 'tol': 0.0007710493094195007}. Best is trial 42 with value: 0.0601536841702953.\n",
      "[I 2025-05-01 11:17:41,537] Trial 52 finished with value: 0.06015368424492668 and parameters: {'alpha': 0.8010003277013568, 'tol': 0.005636595896117059}. Best is trial 42 with value: 0.0601536841702953.\n",
      "[I 2025-05-01 11:17:43,962] Trial 54 finished with value: 0.06015368508820148 and parameters: {'alpha': 9.726134192283762, 'tol': 0.0026778564198525457}. Best is trial 42 with value: 0.0601536841702953.\n",
      "[I 2025-05-01 11:17:43,976] Trial 55 finished with value: 0.060153684219745644 and parameters: {'alpha': 0.5342670201253926, 'tol': 0.005421256771380787}. Best is trial 42 with value: 0.0601536841702953.\n",
      "[I 2025-05-01 11:17:43,995] Trial 53 finished with value: 0.06015368417360362 and parameters: {'alpha': 0.04549234200424242, 'tol': 0.005175727406567348}. Best is trial 42 with value: 0.0601536841702953.\n",
      "[I 2025-05-01 11:17:57,966] Trial 56 finished with value: 0.060153684170126474 and parameters: {'alpha': 0.00864819877426896, 'tol': 0.0035044410911453552}. Best is trial 56 with value: 0.060153684170126474.\n",
      "[I 2025-05-01 11:18:00,540] Trial 58 finished with value: 0.060153684183489396 and parameters: {'alpha': 0.15020655117980766, 'tol': 0.0048218438631244635}. Best is trial 56 with value: 0.060153684170126474.\n",
      "[I 2025-05-01 11:18:01,331] Trial 57 finished with value: 0.06015368418453012 and parameters: {'alpha': 0.16123915859196392, 'tol': 0.005471337004148928}. Best is trial 56 with value: 0.060153684170126474.\n",
      "[I 2025-05-01 11:18:01,357] Trial 59 finished with value: 0.06015368424758528 and parameters: {'alpha': 0.829161834112321, 'tol': 0.003909552139843348}. Best is trial 56 with value: 0.060153684170126474.\n",
      "[I 2025-05-01 11:18:12,366] Trial 60 finished with value: 0.06015368482895252 and parameters: {'alpha': 6.98375595286786, 'tol': 0.004746887338231436}. Best is trial 56 with value: 0.060153684170126474.\n",
      "[I 2025-05-01 11:18:15,765] Trial 61 finished with value: 0.06015368417693766 and parameters: {'alpha': 0.08081119664955459, 'tol': 0.00889930829638972}. Best is trial 56 with value: 0.060153684170126474.\n",
      "[I 2025-05-01 11:18:15,765] Trial 62 finished with value: 0.06015368480363705 and parameters: {'alpha': 6.715892735785981, 'tol': 0.003782053314104353}. Best is trial 56 with value: 0.060153684170126474.\n",
      "[I 2025-05-01 11:18:15,766] Trial 63 finished with value: 0.06015368419433434 and parameters: {'alpha': 0.2650960349349317, 'tol': 0.003381380355849774}. Best is trial 56 with value: 0.060153684170126474.\n",
      "[I 2025-05-01 11:18:25,057] Trial 64 finished with value: 0.060153684219508584 and parameters: {'alpha': 0.5317649720831005, 'tol': 0.0034424697018307004}. Best is trial 56 with value: 0.060153684170126474.\n",
      "[I 2025-05-01 11:18:30,737] Trial 67 finished with value: 0.06015368441036754 and parameters: {'alpha': 2.5530967959056796, 'tol': 0.0018838494470230511}. Best is trial 56 with value: 0.060153684170126474.\n",
      "[I 2025-05-01 11:18:30,741] Trial 65 finished with value: 0.06015368420776025 and parameters: {'alpha': 0.407323291010813, 'tol': 0.0038675580898339616}. Best is trial 56 with value: 0.060153684170126474.\n",
      "[I 2025-05-01 11:18:30,768] Trial 66 finished with value: 0.06015368419510282 and parameters: {'alpha': 0.27322981333585844, 'tol': 0.0035630200549141046}. Best is trial 56 with value: 0.060153684170126474.\n",
      "[I 2025-05-01 11:18:41,601] Trial 68 finished with value: 0.060153685083131514 and parameters: {'alpha': 9.672518940488263, 'tol': 0.009930917582892664}. Best is trial 56 with value: 0.060153684170126474.\n",
      "[I 2025-05-01 11:18:46,687] Trial 70 finished with value: 0.06015368418201863 and parameters: {'alpha': 0.134626886604561, 'tol': 0.0033387631768079023}. Best is trial 56 with value: 0.060153684170126474.\n",
      "[I 2025-05-01 11:18:46,691] Trial 69 finished with value: 0.060153684196673315 and parameters: {'alpha': 0.28987442322131296, 'tol': 0.0034256643997343968}. Best is trial 56 with value: 0.060153684170126474.\n",
      "[I 2025-05-01 11:18:46,691] Trial 71 finished with value: 0.06015368437653522 and parameters: {'alpha': 2.1948431539302233, 'tol': 0.006378570894051533}. Best is trial 56 with value: 0.060153684170126474.\n",
      "[I 2025-05-01 11:18:56,660] Trial 72 finished with value: 0.060153684393440286 and parameters: {'alpha': 2.3738633194287218, 'tol': 0.005808310669021641}. Best is trial 56 with value: 0.060153684170126474.\n",
      "[I 2025-05-01 11:19:01,764] Trial 73 finished with value: 0.060153684386757646 and parameters: {'alpha': 2.3030952191465595, 'tol': 0.0018934802945664946}. Best is trial 56 with value: 0.060153684170126474.\n",
      "[I 2025-05-01 11:19:03,404] Trial 75 finished with value: 0.06015368430362495 and parameters: {'alpha': 1.4227034622695205, 'tol': 0.002323753265712561}. Best is trial 56 with value: 0.060153684170126474.\n",
      "[I 2025-05-01 11:19:03,407] Trial 74 finished with value: 0.06015368435276326 and parameters: {'alpha': 1.9431044631909122, 'tol': 0.0019415710370665742}. Best is trial 56 with value: 0.060153684170126474.\n",
      "[I 2025-05-01 11:19:11,160] Trial 76 finished with value: 0.060153684375297944 and parameters: {'alpha': 2.1817434296017235, 'tol': 0.001902555528574067}. Best is trial 56 with value: 0.060153684170126474.\n",
      "[I 2025-05-01 11:19:20,361] Trial 79 finished with value: 0.060153684176655085 and parameters: {'alpha': 0.07781291449852756, 'tol': 0.003368753655801646}. Best is trial 56 with value: 0.060153684170126474.\n",
      "[I 2025-05-01 11:19:20,368] Trial 78 finished with value: 0.06015368418793524 and parameters: {'alpha': 0.19730883045828337, 'tol': 0.0024436772824257555}. Best is trial 56 with value: 0.060153684170126474.\n",
      "[I 2025-05-01 11:19:20,369] Trial 77 finished with value: 0.060153684179246325 and parameters: {'alpha': 0.10526167893333614, 'tol': 0.0021612177261353593}. Best is trial 56 with value: 0.060153684170126474.\n",
      "[I 2025-05-01 11:19:27,167] Trial 80 finished with value: 0.06015368418277553 and parameters: {'alpha': 0.14265676490154514, 'tol': 0.0017130334313897324}. Best is trial 56 with value: 0.060153684170126474.\n",
      "[I 2025-05-01 11:19:35,510] Trial 81 finished with value: 0.060153684171084264 and parameters: {'alpha': 0.018796732597464044, 'tol': 0.004136301947582995}. Best is trial 56 with value: 0.060153684170126474.\n",
      "[I 2025-05-01 11:19:35,544] Trial 82 finished with value: 0.06015368417049624 and parameters: {'alpha': 0.012563846628248465, 'tol': 0.0005288397633345853}. Best is trial 56 with value: 0.060153684170126474.\n",
      "[I 2025-05-01 11:19:35,569] Trial 83 finished with value: 0.06015368417568802 and parameters: {'alpha': 0.0675633466743801, 'tol': 0.0039525811756596935}. Best is trial 56 with value: 0.060153684170126474.\n",
      "[I 2025-05-01 11:19:42,250] Trial 84 finished with value: 0.06015368417082362 and parameters: {'alpha': 0.016034742531499512, 'tol': 0.002057502922114168}. Best is trial 56 with value: 0.060153684170126474.\n",
      "[I 2025-05-01 11:19:51,440] Trial 86 finished with value: 0.06015368432343335 and parameters: {'alpha': 1.6324874509694154, 'tol': 0.00024334447885111397}. Best is trial 56 with value: 0.060153684170126474.\n",
      "[I 2025-05-01 11:19:51,444] Trial 87 finished with value: 0.0601536841724221 and parameters: {'alpha': 0.0329675856222332, 'tol': 0.00011863805005423757}. Best is trial 56 with value: 0.060153684170126474.\n",
      "[I 2025-05-01 11:19:51,459] Trial 85 finished with value: 0.06015368454552158 and parameters: {'alpha': 3.984056453056954, 'tol': 0.00979547396895485}. Best is trial 56 with value: 0.060153684170126474.\n",
      "[I 2025-05-01 11:19:55,814] Trial 88 finished with value: 0.060153684353124785 and parameters: {'alpha': 1.946932577421174, 'tol': 0.0005780295184852429}. Best is trial 56 with value: 0.060153684170126474.\n",
      "[I 2025-05-01 11:20:06,684] Trial 91 finished with value: 0.06015368421283851 and parameters: {'alpha': 0.46110675265090495, 'tol': 0.00035007590386986387}. Best is trial 56 with value: 0.060153684170126474.\n",
      "[I 2025-05-01 11:20:06,689] Trial 89 finished with value: 0.060153684244661054 and parameters: {'alpha': 0.7981805806749283, 'tol': 0.0003414039992165812}. Best is trial 56 with value: 0.060153684170126474.\n",
      "[I 2025-05-01 11:20:06,692] Trial 90 finished with value: 0.060153684187540364 and parameters: {'alpha': 0.19311714633627378, 'tol': 0.006463110688833815}. Best is trial 56 with value: 0.060153684170126474.\n",
      "[I 2025-05-01 11:20:10,860] Trial 92 finished with value: 0.060153684176612134 and parameters: {'alpha': 0.07735925530010852, 'tol': 0.0001097568263159038}. Best is trial 56 with value: 0.060153684170126474.\n",
      "[I 2025-05-01 11:20:21,686] Trial 94 finished with value: 0.060153684358351056 and parameters: {'alpha': 2.002278923934112, 'tol': 0.0037077518488407716}. Best is trial 56 with value: 0.060153684170126474.\n",
      "[I 2025-05-01 11:20:22,460] Trial 95 finished with value: 0.06015368417492631 and parameters: {'alpha': 0.05949952937986936, 'tol': 0.0030286890203311207}. Best is trial 56 with value: 0.060153684170126474.\n",
      "[I 2025-05-01 11:20:22,462] Trial 93 finished with value: 0.06015368433072745 and parameters: {'alpha': 1.7097520445529377, 'tol': 0.0046345708779813215}. Best is trial 56 with value: 0.060153684170126474.\n",
      "[I 2025-05-01 11:20:24,294] Trial 96 finished with value: 0.060153684176014056 and parameters: {'alpha': 0.07102679144059734, 'tol': 0.0024110203617831363}. Best is trial 56 with value: 0.060153684170126474.\n",
      "[I 2025-05-01 11:20:35,862] Trial 99 finished with value: 0.060153684177535645 and parameters: {'alpha': 0.08714404324118359, 'tol': 0.0046346101370458425}. Best is trial 56 with value: 0.060153684170126474.\n",
      "[I 2025-05-01 11:20:35,869] Trial 97 finished with value: 0.06015368417033587 and parameters: {'alpha': 0.01086504357807197, 'tol': 0.004375945635086866}. Best is trial 56 with value: 0.060153684170126474.\n",
      "[I 2025-05-01 11:20:35,870] Trial 98 finished with value: 0.06015368418532364 and parameters: {'alpha': 0.16963887672669936, 'tol': 0.0034704788184322976}. Best is trial 56 with value: 0.060153684170126474.\n",
      "[I 2025-05-01 11:20:36,886] Trial 100 finished with value: 0.06015368417206699 and parameters: {'alpha': 0.029204714228191958, 'tol': 0.0038772891781978}. Best is trial 56 with value: 0.060153684170126474.\n",
      "[I 2025-05-01 11:20:50,819] Trial 101 finished with value: 0.06015368417851979 and parameters: {'alpha': 0.09756735931028955, 'tol': 0.004568936621777971}. Best is trial 56 with value: 0.060153684170126474.\n",
      "[I 2025-05-01 11:20:52,370] Trial 103 finished with value: 0.060153684198831374 and parameters: {'alpha': 0.31272511595650787, 'tol': 0.00516456991428792}. Best is trial 56 with value: 0.060153684170126474.\n",
      "[I 2025-05-01 11:20:52,390] Trial 102 finished with value: 0.06015368419889247 and parameters: {'alpha': 0.3133856154558772, 'tol': 0.00502112146739766}. Best is trial 56 with value: 0.060153684170126474.\n",
      "[I 2025-05-01 11:20:53,246] Trial 104 finished with value: 0.060153684187737755 and parameters: {'alpha': 0.19522145175471178, 'tol': 0.004551810470451264}. Best is trial 56 with value: 0.060153684170126474.\n",
      "[I 2025-05-01 11:21:07,149] Trial 105 finished with value: 0.060153684194627396 and parameters: {'alpha': 0.2681972075964181, 'tol': 0.005493403755287656}. Best is trial 56 with value: 0.060153684170126474.\n",
      "[I 2025-05-01 11:21:08,015] Trial 106 finished with value: 0.06015368435627802 and parameters: {'alpha': 1.980333638545284, 'tol': 0.004019701030785892}. Best is trial 56 with value: 0.060153684170126474.\n",
      "[I 2025-05-01 11:21:08,877] Trial 107 finished with value: 0.06015368433853916 and parameters: {'alpha': 1.7924615747043653, 'tol': 0.0032051166396188}. Best is trial 56 with value: 0.060153684170126474.\n",
      "[I 2025-05-01 11:21:09,725] Trial 108 finished with value: 0.06015368431004212 and parameters: {'alpha': 1.4906773539460194, 'tol': 0.003237991125055533}. Best is trial 56 with value: 0.060153684170126474.\n",
      "[I 2025-05-01 11:21:23,902] Trial 109 finished with value: 0.060153684312984936 and parameters: {'alpha': 1.5218388460870236, 'tol': 0.003262473508598632}. Best is trial 56 with value: 0.060153684170126474.\n",
      "[I 2025-05-01 11:21:24,813] Trial 111 finished with value: 0.060153684195283844 and parameters: {'alpha': 0.2751540721806807, 'tol': 0.001585147578397779}. Best is trial 56 with value: 0.060153684170126474.\n",
      "[I 2025-05-01 11:21:24,829] Trial 110 finished with value: 0.06015368417842217 and parameters: {'alpha': 0.09653817834885205, 'tol': 0.002501695641860134}. Best is trial 56 with value: 0.060153684170126474.\n",
      "[I 2025-05-01 11:21:25,730] Trial 112 finished with value: 0.06015368420961293 and parameters: {'alpha': 0.4269410284346857, 'tol': 0.0027438429168170223}. Best is trial 56 with value: 0.060153684170126474.\n",
      "[I 2025-05-01 11:21:39,895] Trial 113 finished with value: 0.06015368417832626 and parameters: {'alpha': 0.09551572967181078, 'tol': 0.002300182900598603}. Best is trial 56 with value: 0.060153684170126474.\n",
      "[I 2025-05-01 11:21:41,606] Trial 115 finished with value: 0.06015368418183287 and parameters: {'alpha': 0.1326676785296597, 'tol': 0.0022062767906038086}. Best is trial 56 with value: 0.060153684170126474.\n",
      "[I 2025-05-01 11:21:41,619] Trial 114 finished with value: 0.06015368429690275 and parameters: {'alpha': 1.3515125686214715, 'tol': 0.00222609650495812}. Best is trial 56 with value: 0.060153684170126474.\n",
      "[I 2025-05-01 11:21:42,497] Trial 116 finished with value: 0.06015368470913665 and parameters: {'alpha': 5.7158691062316835, 'tol': 0.000630273157183215}. Best is trial 56 with value: 0.060153684170126474.\n",
      "[I 2025-05-01 11:21:56,692] Trial 117 finished with value: 0.06015368417296974 and parameters: {'alpha': 0.03876588902900722, 'tol': 0.0022566083100015156}. Best is trial 56 with value: 0.060153684170126474.\n",
      "[I 2025-05-01 11:21:59,197] Trial 120 finished with value: 0.06015368417051591 and parameters: {'alpha': 0.012785400154632313, 'tol': 0.0015073672721934244}. Best is trial 56 with value: 0.060153684170126474.\n",
      "[I 2025-05-01 11:21:59,217] Trial 119 finished with value: 0.060153684174615404 and parameters: {'alpha': 0.05620791694732695, 'tol': 0.004036066679122019}. Best is trial 56 with value: 0.060153684170126474.\n",
      "[I 2025-05-01 11:21:59,217] Trial 118 finished with value: 0.0601536841893756 and parameters: {'alpha': 0.212567666962784, 'tol': 0.0013521655904452272}. Best is trial 56 with value: 0.060153684170126474.\n",
      "[I 2025-05-01 11:22:13,333] Trial 121 finished with value: 0.06015368418968656 and parameters: {'alpha': 0.21584720724047707, 'tol': 0.003929674771199906}. Best is trial 56 with value: 0.060153684170126474.\n",
      "[I 2025-05-01 11:22:15,023] Trial 122 finished with value: 0.06015368491834728 and parameters: {'alpha': 7.929529013834866, 'tol': 0.007379296926489512}. Best is trial 56 with value: 0.060153684170126474.\n",
      "[I 2025-05-01 11:22:15,081] Trial 123 finished with value: 0.06015368420346284 and parameters: {'alpha': 0.3617896389018663, 'tol': 0.0011974242310448875}. Best is trial 56 with value: 0.060153684170126474.\n",
      "[I 2025-05-01 11:22:16,704] Trial 124 finished with value: 0.06015368417914978 and parameters: {'alpha': 0.10424058836084628, 'tol': 0.0028076649527615533}. Best is trial 56 with value: 0.060153684170126474.\n",
      "[I 2025-05-01 11:22:29,859] Trial 125 finished with value: 0.060153684213601455 and parameters: {'alpha': 0.469191245748319, 'tol': 0.0012072387104372793}. Best is trial 56 with value: 0.060153684170126474.\n",
      "[I 2025-05-01 11:22:30,760] Trial 126 finished with value: 0.06015368418601567 and parameters: {'alpha': 0.17696808995217816, 'tol': 0.0015939565927993256}. Best is trial 56 with value: 0.060153684170126474.\n",
      "[I 2025-05-01 11:22:33,221] Trial 128 finished with value: 0.06015368419644157 and parameters: {'alpha': 0.28742809965759863, 'tol': 0.0016210309503768767}. Best is trial 56 with value: 0.060153684170126474.\n",
      "[I 2025-05-01 11:22:33,222] Trial 127 finished with value: 0.060153684181486894 and parameters: {'alpha': 0.12898962406976816, 'tol': 0.0026281931481498136}. Best is trial 56 with value: 0.060153684170126474.\n",
      "[I 2025-05-01 11:22:43,942] Trial 129 finished with value: 0.06015368417576845 and parameters: {'alpha': 0.0684285145659051, 'tol': 0.0015635527890592168}. Best is trial 56 with value: 0.060153684170126474.\n",
      "[I 2025-05-01 11:22:46,363] Trial 130 finished with value: 0.060153684178582856 and parameters: {'alpha': 0.09823670134371454, 'tol': 0.00300563119236435}. Best is trial 56 with value: 0.060153684170126474.\n",
      "[I 2025-05-01 11:22:48,923] Trial 131 finished with value: 0.060153684330163514 and parameters: {'alpha': 1.7037721481565196, 'tol': 0.0054588427550912935}. Best is trial 56 with value: 0.060153684170126474.\n",
      "[I 2025-05-01 11:22:49,724] Trial 132 finished with value: 0.06015368430388495 and parameters: {'alpha': 1.4254564912267143, 'tol': 0.005431488759721193}. Best is trial 56 with value: 0.060153684170126474.\n",
      "[I 2025-05-01 11:22:57,371] Trial 133 finished with value: 0.06015368416971503 and parameters: {'alpha': 0.004284286302077818, 'tol': 0.00414478343966714}. Best is trial 133 with value: 0.06015368416971503.\n",
      "[I 2025-05-01 11:22:59,878] Trial 134 finished with value: 0.06015368418583416 and parameters: {'alpha': 0.17505739162860737, 'tol': 0.004605363098582551}. Best is trial 133 with value: 0.06015368416971503.\n",
      "[I 2025-05-01 11:23:04,804] Trial 135 finished with value: 0.060153684173888625 and parameters: {'alpha': 0.04850414958893719, 'tol': 0.0035969410347337655}. Best is trial 133 with value: 0.06015368416971503.\n",
      "[I 2025-05-01 11:23:04,805] Trial 136 finished with value: 0.060153684175979945 and parameters: {'alpha': 0.07066074593030618, 'tol': 0.004188697044540513}. Best is trial 133 with value: 0.06015368416971503.\n",
      "[I 2025-05-01 11:23:12,473] Trial 137 finished with value: 0.060153684188905265 and parameters: {'alpha': 0.2075871578516044, 'tol': 0.005786373265860888}. Best is trial 133 with value: 0.06015368416971503.\n",
      "[I 2025-05-01 11:23:14,293] Trial 138 finished with value: 0.06015368418326591 and parameters: {'alpha': 0.14783208412418378, 'tol': 0.00676838709376967}. Best is trial 133 with value: 0.06015368416971503.\n",
      "[I 2025-05-01 11:23:20,114] Trial 139 finished with value: 0.06015368417462494 and parameters: {'alpha': 0.05630562893162941, 'tol': 0.005649175215993287}. Best is trial 133 with value: 0.06015368416971503.\n",
      "[I 2025-05-01 11:23:20,118] Trial 140 finished with value: 0.06015368432663938 and parameters: {'alpha': 1.6664410633338511, 'tol': 0.004106989432321011}. Best is trial 133 with value: 0.06015368416971503.\n",
      "[I 2025-05-01 11:23:28,549] Trial 141 finished with value: 0.06015368434802683 and parameters: {'alpha': 1.8929419988856886, 'tol': 0.004260529092502376}. Best is trial 133 with value: 0.06015368416971503.\n",
      "[I 2025-05-01 11:23:31,840] Trial 142 finished with value: 0.06015368434993058 and parameters: {'alpha': 1.9131246721887096, 'tol': 0.003436098935845503}. Best is trial 133 with value: 0.06015368416971503.\n",
      "[I 2025-05-01 11:23:36,834] Trial 143 finished with value: 0.06015368434889134 and parameters: {'alpha': 1.902109864725376, 'tol': 0.003485783427959511}. Best is trial 133 with value: 0.06015368416971503.\n",
      "[I 2025-05-01 11:23:36,835] Trial 144 finished with value: 0.060153684208149635 and parameters: {'alpha': 0.41144058668362066, 'tol': 0.0038548674891072136}. Best is trial 133 with value: 0.06015368416971503.\n",
      "[I 2025-05-01 11:23:42,832] Trial 145 finished with value: 0.06015368427320964 and parameters: {'alpha': 1.1005723239839196, 'tol': 0.003696763858598685}. Best is trial 133 with value: 0.06015368416971503.\n",
      "[I 2025-05-01 11:23:45,416] Trial 146 finished with value: 0.060153684260714074 and parameters: {'alpha': 0.9682264694138224, 'tol': 0.004067254112831639}. Best is trial 133 with value: 0.06015368416971503.\n",
      "[I 2025-05-01 11:23:52,025] Trial 148 finished with value: 0.06015368420449034 and parameters: {'alpha': 0.3726805075765284, 'tol': 0.003942968320699496}. Best is trial 133 with value: 0.06015368416971503.\n",
      "[I 2025-05-01 11:23:52,027] Trial 147 finished with value: 0.06015368417112615 and parameters: {'alpha': 0.019226804526966863, 'tol': 0.0036882913796518}. Best is trial 133 with value: 0.06015368416971503.\n",
      "[I 2025-05-01 11:23:59,331] Trial 149 finished with value: 0.06015368417079159 and parameters: {'alpha': 0.0156994421389587, 'tol': 0.002944993010348316}. Best is trial 133 with value: 0.06015368416971503.\n",
      "[I 2025-05-01 11:24:01,133] Trial 150 finished with value: 0.06015368418352769 and parameters: {'alpha': 0.15061983803449946, 'tol': 0.0029290299232501192}. Best is trial 133 with value: 0.06015368416971503.\n",
      "[I 2025-05-01 11:24:06,844] Trial 151 finished with value: 0.060153684174803185 and parameters: {'alpha': 0.058199161257255855, 'tol': 0.0039039085370024284}. Best is trial 133 with value: 0.06015368416971503.\n",
      "[I 2025-05-01 11:24:08,461] Trial 152 finished with value: 0.06015368417857481 and parameters: {'alpha': 0.0981379701466974, 'tol': 0.0038948292677598246}. Best is trial 133 with value: 0.06015368416971503.\n",
      "[I 2025-05-01 11:24:12,723] Trial 153 finished with value: 0.06015368417563197 and parameters: {'alpha': 0.06698240476687797, 'tol': 0.004103236138047429}. Best is trial 133 with value: 0.06015368416971503.\n",
      "[I 2025-05-01 11:24:15,231] Trial 154 finished with value: 0.06015368417154461 and parameters: {'alpha': 0.02366839275572473, 'tol': 0.003456288688270397}. Best is trial 133 with value: 0.06015368416971503.\n",
      "[I 2025-05-01 11:24:20,948] Trial 155 finished with value: 0.06015368417021579 and parameters: {'alpha': 0.009596244376498704, 'tol': 0.0031479240124967275}. Best is trial 133 with value: 0.06015368416971503.\n",
      "[I 2025-05-01 11:24:22,665] Trial 156 finished with value: 0.06015368430797585 and parameters: {'alpha': 1.4687910485727056, 'tol': 0.0017056635656452746}. Best is trial 133 with value: 0.06015368416971503.\n",
      "[I 2025-05-01 11:24:28,463] Trial 157 finished with value: 0.060153684283672626 and parameters: {'alpha': 1.2113901729463943, 'tol': 0.0020405864139148243}. Best is trial 133 with value: 0.06015368416971503.\n",
      "[I 2025-05-01 11:24:31,079] Trial 158 finished with value: 0.060153684297141206 and parameters: {'alpha': 1.3540320905450274, 'tol': 0.00134626609353259}. Best is trial 133 with value: 0.06015368416971503.\n",
      "[I 2025-05-01 11:24:36,893] Trial 159 finished with value: 0.06015368432652017 and parameters: {'alpha': 1.6651833159645002, 'tol': 0.0026034652722679383}. Best is trial 133 with value: 0.06015368416971503.\n",
      "[I 2025-05-01 11:24:39,398] Trial 160 finished with value: 0.06015368417269109 and parameters: {'alpha': 0.035825846292067864, 'tol': 0.0029118056761281005}. Best is trial 133 with value: 0.06015368416971503.\n",
      "[I 2025-05-01 11:24:45,191] Trial 161 finished with value: 0.06015368417195077 and parameters: {'alpha': 0.02796992403809431, 'tol': 0.0022955195902553682}. Best is trial 133 with value: 0.06015368416971503.\n",
      "[I 2025-05-01 11:24:46,950] Trial 162 finished with value: 0.06015368417780045 and parameters: {'alpha': 0.08994391982165299, 'tol': 0.0026147813530339034}. Best is trial 133 with value: 0.06015368416971503.\n",
      "[I 2025-05-01 11:24:51,900] Trial 163 finished with value: 0.06015368417357026 and parameters: {'alpha': 0.04513127496807812, 'tol': 0.0027625566154141014}. Best is trial 133 with value: 0.06015368416971503.\n",
      "[I 2025-05-01 11:24:53,659] Trial 164 finished with value: 0.06015368418732669 and parameters: {'alpha': 0.19086095398296948, 'tol': 0.0018743149302774215}. Best is trial 133 with value: 0.06015368416971503.\n",
      "[I 2025-05-01 11:25:00,152] Trial 165 finished with value: 0.060153684182129206 and parameters: {'alpha': 0.1357952301591558, 'tol': 0.004448694212691589}. Best is trial 133 with value: 0.06015368416971503.\n",
      "[I 2025-05-01 11:25:02,688] Trial 166 finished with value: 0.06015368418345071 and parameters: {'alpha': 0.1497918002356132, 'tol': 0.0007364187919908912}. Best is trial 133 with value: 0.06015368416971503.\n",
      "[I 2025-05-01 11:25:08,405] Trial 167 finished with value: 0.06015368417196351 and parameters: {'alpha': 0.02811219560383225, 'tol': 0.0008956767578821138}. Best is trial 133 with value: 0.06015368416971503.\n",
      "[I 2025-05-01 11:25:10,152] Trial 168 finished with value: 0.060153684180927924 and parameters: {'alpha': 0.12306626930674144, 'tol': 0.0006636246584293178}. Best is trial 133 with value: 0.06015368416971503.\n",
      "[I 2025-05-01 11:25:15,971] Trial 169 finished with value: 0.0601536842912266 and parameters: {'alpha': 1.29139237552883, 'tol': 0.0024165926197504766}. Best is trial 133 with value: 0.06015368416971503.\n",
      "[I 2025-05-01 11:25:18,462] Trial 170 finished with value: 0.06015368417540727 and parameters: {'alpha': 0.06460335572846274, 'tol': 0.0027673911244559804}. Best is trial 133 with value: 0.06015368416971503.\n",
      "[I 2025-05-01 11:25:23,419] Trial 171 finished with value: 0.060153684181560134 and parameters: {'alpha': 0.12977108643364288, 'tol': 0.003324027116060702}. Best is trial 133 with value: 0.06015368416971503.\n",
      "[I 2025-05-01 11:25:25,965] Trial 172 finished with value: 0.060153684185085064 and parameters: {'alpha': 0.16711032664218423, 'tol': 0.0029878845957635484}. Best is trial 133 with value: 0.06015368416971503.\n",
      "[I 2025-05-01 11:25:30,843] Trial 173 finished with value: 0.06015368488125042 and parameters: {'alpha': 7.537074523280443, 'tol': 0.0021768383857513106}. Best is trial 133 with value: 0.06015368416971503.\n",
      "[I 2025-05-01 11:25:33,249] Trial 174 finished with value: 0.06015368418903576 and parameters: {'alpha': 0.2089701622537366, 'tol': 0.0036308302658813606}. Best is trial 133 with value: 0.06015368416971503.\n",
      "[I 2025-05-01 11:25:37,414] Trial 175 finished with value: 0.06015368417365172 and parameters: {'alpha': 0.0460039276086338, 'tol': 0.004234389529528689}. Best is trial 133 with value: 0.06015368416971503.\n",
      "[I 2025-05-01 11:25:41,449] Trial 176 finished with value: 0.06015368417120574 and parameters: {'alpha': 0.02008589138739271, 'tol': 0.0030687949977609317}. Best is trial 133 with value: 0.06015368416971503.\n",
      "[I 2025-05-01 11:25:47,179] Trial 177 finished with value: 0.06015368416935393 and parameters: {'alpha': 0.00047456280470261746, 'tol': 0.004346543868225491}. Best is trial 177 with value: 0.06015368416935393.\n",
      "[I 2025-05-01 11:25:48,830] Trial 178 finished with value: 0.0601536842030058 and parameters: {'alpha': 0.35695464311943714, 'tol': 0.004026136633355631}. Best is trial 177 with value: 0.06015368416935393.\n",
      "[I 2025-05-01 11:25:52,943] Trial 179 finished with value: 0.06015368417257898 and parameters: {'alpha': 0.034629608282067, 'tol': 0.002864465149032295}. Best is trial 177 with value: 0.06015368416935393.\n",
      "[I 2025-05-01 11:25:57,823] Trial 180 finished with value: 0.06015368417053881 and parameters: {'alpha': 0.013020184973249265, 'tol': 0.004755055164520839}. Best is trial 177 with value: 0.06015368416935393.\n",
      "[I 2025-05-01 11:26:03,574] Trial 181 finished with value: 0.06015368418546987 and parameters: {'alpha': 0.1711777571264579, 'tol': 0.005028661915245601}. Best is trial 177 with value: 0.06015368416935393.\n",
      "[I 2025-05-01 11:26:05,245] Trial 182 finished with value: 0.06015368417269965 and parameters: {'alpha': 0.0359133343600786, 'tol': 0.0050062972138414825}. Best is trial 177 with value: 0.06015368416935393.\n",
      "[I 2025-05-01 11:26:09,357] Trial 183 finished with value: 0.06015368417088433 and parameters: {'alpha': 0.016680962126749202, 'tol': 0.004893915651683144}. Best is trial 177 with value: 0.06015368416935393.\n",
      "[I 2025-05-01 11:26:14,281] Trial 184 finished with value: 0.060153684173770976 and parameters: {'alpha': 0.04726325310095233, 'tol': 0.0046210604369342585}. Best is trial 177 with value: 0.06015368416935393.\n",
      "[I 2025-05-01 11:26:20,171] Trial 185 finished with value: 0.060153684293928984 and parameters: {'alpha': 1.3200177622479692, 'tol': 0.005049751804710546}. Best is trial 177 with value: 0.06015368416935393.\n",
      "[I 2025-05-01 11:26:21,811] Trial 186 finished with value: 0.06015368432219475 and parameters: {'alpha': 1.6193771644517232, 'tol': 0.005776590623645219}. Best is trial 177 with value: 0.06015368416935393.\n",
      "[I 2025-05-01 11:26:26,091] Trial 187 finished with value: 0.06015368434534582 and parameters: {'alpha': 1.864557973933349, 'tol': 0.005644748050672617}. Best is trial 177 with value: 0.06015368416935393.\n",
      "[I 2025-05-01 11:26:30,303] Trial 188 finished with value: 0.0601536846144845 and parameters: {'alpha': 4.714074405023521, 'tol': 0.0039356443368850445}. Best is trial 177 with value: 0.06015368416935393.\n",
      "[I 2025-05-01 11:26:37,114] Trial 189 finished with value: 0.060153684311034045 and parameters: {'alpha': 1.501172114205672, 'tol': 0.005388546951252984}. Best is trial 177 with value: 0.06015368416935393.\n",
      "[I 2025-05-01 11:26:38,786] Trial 190 finished with value: 0.06015368416993002 and parameters: {'alpha': 0.0065773008922575885, 'tol': 0.004782554383078526}. Best is trial 177 with value: 0.06015368416935393.\n",
      "[I 2025-05-01 11:26:42,950] Trial 191 finished with value: 0.060153684171638924 and parameters: {'alpha': 0.024679052630037557, 'tol': 0.006764720430409099}. Best is trial 177 with value: 0.06015368416935393.\n",
      "[I 2025-05-01 11:26:47,857] Trial 192 finished with value: 0.06015368419944533 and parameters: {'alpha': 0.3192333974022361, 'tol': 0.006563029054584245}. Best is trial 177 with value: 0.06015368416935393.\n",
      "[I 2025-05-01 11:26:53,690] Trial 193 finished with value: 0.06015368420710484 and parameters: {'alpha': 0.40036815047583507, 'tol': 0.005878975667334201}. Best is trial 177 with value: 0.06015368416935393.\n",
      "[I 2025-05-01 11:26:55,354] Trial 194 finished with value: 0.06015368420666115 and parameters: {'alpha': 0.39567302430243545, 'tol': 0.005436822362591227}. Best is trial 177 with value: 0.06015368416935393.\n",
      "[I 2025-05-01 11:26:59,481] Trial 195 finished with value: 0.06015368465842148 and parameters: {'alpha': 5.179128905578966, 'tol': 0.007414962731677126}. Best is trial 177 with value: 0.06015368416935393.\n",
      "[I 2025-05-01 11:27:04,370] Trial 196 finished with value: 0.06015368417416209 and parameters: {'alpha': 0.05139688472325932, 'tol': 0.0047024872934540276}. Best is trial 177 with value: 0.06015368416935393.\n",
      "[I 2025-05-01 11:27:10,096] Trial 197 finished with value: 0.06015368418830726 and parameters: {'alpha': 0.20124837428301048, 'tol': 0.004933365783597852}. Best is trial 177 with value: 0.06015368416935393.\n",
      "[I 2025-05-01 11:27:11,719] Trial 198 finished with value: 0.06015368428504073 and parameters: {'alpha': 1.2258786565944315, 'tol': 0.004484411913313328}. Best is trial 177 with value: 0.06015368416935393.\n",
      "[I 2025-05-01 11:27:15,852] Trial 199 finished with value: 0.060153684187765726 and parameters: {'alpha': 0.19551704944139198, 'tol': 0.004359342312074965}. Best is trial 177 with value: 0.06015368416935393.\n",
      "[I 2025-05-01 11:27:20,778] Trial 200 finished with value: 0.060153684176140476 and parameters: {'alpha': 0.07235944881775092, 'tol': 0.004630823402690467}. Best is trial 177 with value: 0.06015368416935393.\n",
      "[I 2025-05-01 11:27:26,522] Trial 201 finished with value: 0.060153684321982495 and parameters: {'alpha': 1.6171301991765583, 'tol': 0.004157778984922973}. Best is trial 177 with value: 0.06015368416935393.\n",
      "[I 2025-05-01 11:27:28,180] Trial 202 finished with value: 0.06015368417965863 and parameters: {'alpha': 0.10963792340281138, 'tol': 0.004969771669696155}. Best is trial 177 with value: 0.06015368416935393.\n",
      "[I 2025-05-01 11:27:32,345] Trial 203 finished with value: 0.06015368417216532 and parameters: {'alpha': 0.03025465888032455, 'tol': 0.004838544388690497}. Best is trial 177 with value: 0.06015368416935393.\n",
      "[I 2025-05-01 11:27:37,320] Trial 204 finished with value: 0.06015368432752034 and parameters: {'alpha': 1.6757758657786397, 'tol': 0.00405630938139394}. Best is trial 177 with value: 0.06015368416935393.\n",
      "[I 2025-05-01 11:27:43,086] Trial 205 finished with value: 0.060153684305409044 and parameters: {'alpha': 1.4415980085587705, 'tol': 0.003385352915651493}. Best is trial 177 with value: 0.06015368416935393.\n",
      "[I 2025-05-01 11:27:45,583] Trial 206 finished with value: 0.06015368428151526 and parameters: {'alpha': 1.1885416007993737, 'tol': 0.003463922064666244}. Best is trial 177 with value: 0.06015368416935393.\n",
      "[I 2025-05-01 11:27:48,884] Trial 207 finished with value: 0.060153684301870985 and parameters: {'alpha': 1.4041295084064886, 'tol': 0.003169388327700034}. Best is trial 177 with value: 0.06015368416935393.\n",
      "[I 2025-05-01 11:27:53,904] Trial 208 finished with value: 0.06015368428905189 and parameters: {'alpha': 1.2683612201689827, 'tol': 0.0030893606505564535}. Best is trial 177 with value: 0.06015368416935393.\n",
      "[I 2025-05-01 11:27:59,033] Trial 209 finished with value: 0.06015368418418249 and parameters: {'alpha': 0.15754691471829507, 'tol': 0.0036534202470363676}. Best is trial 177 with value: 0.06015368416935393.\n",
      "[I 2025-05-01 11:28:01,501] Trial 210 finished with value: 0.06015368417337491 and parameters: {'alpha': 0.04307458551512576, 'tol': 0.0038298589483375975}. Best is trial 177 with value: 0.06015368416935393.\n",
      "[I 2025-05-01 11:28:04,063] Trial 211 finished with value: 0.06015368417798681 and parameters: {'alpha': 0.09192801841274603, 'tol': 0.002711339112292658}. Best is trial 177 with value: 0.06015368416935393.\n",
      "[I 2025-05-01 11:28:09,891] Trial 212 finished with value: 0.060153684407498194 and parameters: {'alpha': 2.5227211091129966, 'tol': 0.008404038430573628}. Best is trial 177 with value: 0.06015368416935393.\n",
      "[I 2025-05-01 11:28:14,919] Trial 213 finished with value: 0.0601536841707634 and parameters: {'alpha': 0.015393551234016877, 'tol': 0.003373871564045218}. Best is trial 177 with value: 0.06015368416935393.\n",
      "[I 2025-05-01 11:28:18,947] Trial 214 finished with value: 0.060153684188574474 and parameters: {'alpha': 0.2040726718017705, 'tol': 0.00168244229757803}. Best is trial 177 with value: 0.06015368416935393.\n",
      "[I 2025-05-01 11:28:20,650] Trial 215 finished with value: 0.06015368417370151 and parameters: {'alpha': 0.0465194506863254, 'tol': 0.0024193509026653056}. Best is trial 177 with value: 0.06015368416935393.\n",
      "[I 2025-05-01 11:28:26,446] Trial 216 finished with value: 0.060153684170960196 and parameters: {'alpha': 0.017489560089453328, 'tol': 0.0027122901500033153}. Best is trial 177 with value: 0.06015368416935393.\n",
      "[I 2025-05-01 11:28:32,280] Trial 217 finished with value: 0.06015368417632088 and parameters: {'alpha': 0.07427297462962555, 'tol': 0.004521785490434704}. Best is trial 177 with value: 0.06015368416935393.\n",
      "[I 2025-05-01 11:28:34,800] Trial 218 finished with value: 0.06015368416939696 and parameters: {'alpha': 0.0009281028404270848, 'tol': 0.005048646488116037}. Best is trial 177 with value: 0.06015368416935393.\n",
      "[I 2025-05-01 11:28:37,314] Trial 219 finished with value: 0.06015368504115857 and parameters: {'alpha': 9.228599320910668, 'tol': 0.004085372795030891}. Best is trial 177 with value: 0.06015368416935393.\n",
      "[I 2025-05-01 11:28:43,029] Trial 220 finished with value: 0.06015368419016751 and parameters: {'alpha': 0.22096174678182773, 'tol': 0.004339938921137045}. Best is trial 177 with value: 0.06015368416935393.\n",
      "[I 2025-05-01 11:28:48,952] Trial 221 finished with value: 0.060153684184640774 and parameters: {'alpha': 0.16240438432246293, 'tol': 0.003530997504191489}. Best is trial 177 with value: 0.06015368416935393.\n",
      "[I 2025-05-01 11:28:51,397] Trial 222 finished with value: 0.06015368417487714 and parameters: {'alpha': 0.05898483409778225, 'tol': 0.004343459098499905}. Best is trial 177 with value: 0.06015368416935393.\n",
      "[I 2025-05-01 11:28:53,844] Trial 223 finished with value: 0.060153684281110606 and parameters: {'alpha': 1.1842560493743624, 'tol': 0.005496816901373755}. Best is trial 177 with value: 0.06015368416935393.\n",
      "[I 2025-05-01 11:28:58,770] Trial 224 finished with value: 0.06015368420431999 and parameters: {'alpha': 0.3708688904040056, 'tol': 0.0034319620474685965}. Best is trial 177 with value: 0.06015368416935393.\n",
      "[I 2025-05-01 11:29:07,019] Trial 225 finished with value: 0.060153684169532276 and parameters: {'alpha': 0.002355718279896098, 'tol': 0.0060594870842004146}. Best is trial 177 with value: 0.06015368416935393.\n",
      "[I 2025-05-01 11:29:07,876] Trial 226 finished with value: 0.06015368419553511 and parameters: {'alpha': 0.2778123444680108, 'tol': 0.00522438328765003}. Best is trial 177 with value: 0.06015368416935393.\n",
      "[I 2025-05-01 11:29:09,578] Trial 227 finished with value: 0.060153684184955716 and parameters: {'alpha': 0.16574583819558475, 'tol': 0.00542771795215801}. Best is trial 177 with value: 0.06015368416935393.\n",
      "[I 2025-05-01 11:29:15,483] Trial 228 finished with value: 0.06015368417527338 and parameters: {'alpha': 0.06318087412047026, 'tol': 0.0022236664984309484}. Best is trial 177 with value: 0.06015368416935393.\n",
      "[I 2025-05-01 11:29:24,470] Trial 229 finished with value: 0.06015368417165925 and parameters: {'alpha': 0.02489466429267008, 'tol': 0.005791820268675288}. Best is trial 177 with value: 0.06015368416935393.\n",
      "[I 2025-05-01 11:29:24,530] Trial 230 finished with value: 0.06015368422740435 and parameters: {'alpha': 0.6154008991739873, 'tol': 0.006482187074212326}. Best is trial 177 with value: 0.06015368416935393.\n",
      "[I 2025-05-01 11:29:26,239] Trial 231 finished with value: 0.06015368417804436 and parameters: {'alpha': 0.09252456184042418, 'tol': 0.007710028507879638}. Best is trial 177 with value: 0.06015368416935393.\n",
      "[I 2025-05-01 11:29:31,837] Trial 232 finished with value: 0.06015368423959974 and parameters: {'alpha': 0.7445790380929069, 'tol': 0.006197391547914973}. Best is trial 177 with value: 0.06015368416935393.\n",
      "[I 2025-05-01 11:29:39,979] Trial 233 finished with value: 0.060153684213373526 and parameters: {'alpha': 0.46678020352691907, 'tol': 0.006717118022525649}. Best is trial 177 with value: 0.06015368416935393.\n",
      "[I 2025-05-01 11:29:41,605] Trial 234 finished with value: 0.060153684173200925 and parameters: {'alpha': 0.04122303566760708, 'tol': 0.00472590272544463}. Best is trial 177 with value: 0.06015368416935393.\n",
      "[I 2025-05-01 11:29:42,467] Trial 235 finished with value: 0.060153684177144305 and parameters: {'alpha': 0.08300175154258667, 'tol': 0.0035115961513099694}. Best is trial 177 with value: 0.06015368416935393.\n",
      "[I 2025-05-01 11:29:48,287] Trial 236 finished with value: 0.060153684172857776 and parameters: {'alpha': 0.03758877569032592, 'tol': 0.0038734096902237566}. Best is trial 177 with value: 0.06015368416935393.\n",
      "[I 2025-05-01 11:29:56,435] Trial 237 finished with value: 0.06015368417035249 and parameters: {'alpha': 0.0110445859954641, 'tol': 0.004124348127489978}. Best is trial 177 with value: 0.06015368416935393.\n",
      "[I 2025-05-01 11:29:58,065] Trial 238 finished with value: 0.0601536841697311 and parameters: {'alpha': 0.004462171430344988, 'tol': 0.004048745397822099}. Best is trial 177 with value: 0.06015368416935393.\n",
      "[I 2025-05-01 11:29:58,939] Trial 239 finished with value: 0.06015368417623132 and parameters: {'alpha': 0.07332853764659678, 'tol': 0.0032868771938383526}. Best is trial 177 with value: 0.06015368416935393.\n",
      "[I 2025-05-01 11:30:03,925] Trial 240 finished with value: 0.060153684331671974 and parameters: {'alpha': 1.7197433055024511, 'tol': 0.0016342973504259919}. Best is trial 177 with value: 0.06015368416935393.\n",
      "[I 2025-05-01 11:30:12,956] Trial 241 finished with value: 0.06015368432258415 and parameters: {'alpha': 1.6235119337684736, 'tol': 0.004597234332333669}. Best is trial 177 with value: 0.06015368416935393.\n",
      "[I 2025-05-01 11:30:14,640] Trial 242 finished with value: 0.06015368430059325 and parameters: {'alpha': 1.3905977336420903, 'tol': 0.003226579980105617}. Best is trial 177 with value: 0.06015368416935393.\n",
      "[I 2025-05-01 11:30:15,517] Trial 243 finished with value: 0.060153684324084425 and parameters: {'alpha': 1.6393887184452618, 'tol': 0.0041331612246004144}. Best is trial 177 with value: 0.06015368416935393.\n",
      "[I 2025-05-01 11:30:20,507] Trial 244 finished with value: 0.06015368417391209 and parameters: {'alpha': 0.048749617908218114, 'tol': 0.00503651085824512}. Best is trial 177 with value: 0.06015368416935393.\n",
      "[I 2025-05-01 11:30:28,867] Trial 245 finished with value: 0.060153684180809845 and parameters: {'alpha': 0.12181755619805923, 'tol': 0.00493184573822422}. Best is trial 177 with value: 0.06015368416935393.\n",
      "[I 2025-05-01 11:30:31,382] Trial 246 finished with value: 0.06015368430856146 and parameters: {'alpha': 1.474992933913053, 'tol': 0.005002383610599854}. Best is trial 177 with value: 0.06015368416935393.\n",
      "[I 2025-05-01 11:30:33,870] Trial 247 finished with value: 0.060153684169882406 and parameters: {'alpha': 0.006056802053780864, 'tol': 0.005567357808425703}. Best is trial 177 with value: 0.06015368416935393.\n",
      "[I 2025-05-01 11:30:35,538] Trial 248 finished with value: 0.0601536841770178 and parameters: {'alpha': 0.08166351433508687, 'tol': 0.005861912349646519}. Best is trial 177 with value: 0.06015368416935393.\n",
      "[I 2025-05-01 11:30:38,198] Trial 249 finished with value: 0.06015368417154017 and parameters: {'alpha': 0.023629977601421888, 'tol': 0.004606131335940826}. Best is trial 177 with value: 0.06015368416935393.\n"
     ]
    }
   ],
   "source": [
    "def objective(trial):    \n",
    "    params = {\n",
    "        \"random_state\": CFG.seed,\n",
    "        \"alpha\": trial.suggest_float(\"alpha\", 0, 10),\n",
    "        \"tol\": trial.suggest_float(\"tol\", 1e-6, 1e-2)\n",
    "    }\n",
    "    \n",
    "    trainer = Trainer(\n",
    "        Ridge(**params),\n",
    "        cv=KFold(n_splits=CFG.n_folds, random_state=CFG.seed, shuffle=True),\n",
    "        metric=CFG.metric,\n",
    "        task=\"regression\",\n",
    "        verbose=False\n",
    "    )\n",
    "    trainer.fit(X, y)\n",
    "    \n",
    "    return trainer.overall_score\n",
    "\n",
    "if CFG.run_optuna:\n",
    "    sampler = optuna.samplers.TPESampler(seed=CFG.seed, multivariate=True)\n",
    "    study = optuna.create_study(direction=\"minimize\", sampler=sampler)\n",
    "    study.optimize(objective, n_trials=CFG.n_optuna_trials, n_jobs=-1, catch=(ValueError,))\n",
    "    best_params = study.best_params\n",
    "\n",
    "    ridge_params = {\n",
    "        \"random_state\": CFG.seed,\n",
    "        \"alpha\": best_params[\"alpha\"],\n",
    "        \"tol\": best_params[\"tol\"]\n",
    "    }\n",
    "else:\n",
    "    ridge_params = {\n",
    "        \"random_state\": CFG.seed\n",
    "    }"
   ]
  },
  {
   "cell_type": "code",
   "execution_count": 26,
   "id": "28ec8404",
   "metadata": {
    "execution": {
     "iopub.execute_input": "2025-05-01T11:30:38.269339Z",
     "iopub.status.busy": "2025-05-01T11:30:38.268991Z",
     "iopub.status.idle": "2025-05-01T11:30:38.274203Z",
     "shell.execute_reply": "2025-05-01T11:30:38.272953Z"
    },
    "papermill": {
     "duration": 0.037878,
     "end_time": "2025-05-01T11:30:38.275667",
     "exception": false,
     "start_time": "2025-05-01T11:30:38.237789",
     "status": "completed"
    },
    "tags": []
   },
   "outputs": [
    {
     "name": "stdout",
     "output_type": "stream",
     "text": [
      "{\n",
      "  \"random_state\": 42,\n",
      "  \"alpha\": 0.00047456280470261746,\n",
      "  \"tol\": 0.004346543868225491\n",
      "}\n"
     ]
    }
   ],
   "source": [
    "print(json.dumps(ridge_params, indent=2))"
   ]
  },
  {
   "cell_type": "code",
   "execution_count": 27,
   "id": "75db5874",
   "metadata": {
    "execution": {
     "iopub.execute_input": "2025-05-01T11:30:38.338243Z",
     "iopub.status.busy": "2025-05-01T11:30:38.337939Z",
     "iopub.status.idle": "2025-05-01T11:30:43.348074Z",
     "shell.execute_reply": "2025-05-01T11:30:43.347379Z"
    },
    "papermill": {
     "duration": 5.042854,
     "end_time": "2025-05-01T11:30:43.349823",
     "exception": false,
     "start_time": "2025-05-01T11:30:38.306969",
     "status": "completed"
    },
    "tags": []
   },
   "outputs": [
    {
     "name": "stdout",
     "output_type": "stream",
     "text": [
      "Training Ridge\n",
      "\n",
      "--- Fold 0 - root_mean_squared_log_error: 0.0598 - Time: 0.10 s\n",
      "--- Fold 1 - root_mean_squared_log_error: 0.0605 - Time: 0.10 s\n",
      "--- Fold 2 - root_mean_squared_log_error: 0.0598 - Time: 0.10 s\n",
      "--- Fold 3 - root_mean_squared_log_error: 0.0608 - Time: 0.13 s\n",
      "--- Fold 4 - root_mean_squared_log_error: 0.0599 - Time: 0.11 s\n",
      "\n",
      "------ Overall root_mean_squared_log_error: 0.0602 - Mean root_mean_squared_log_error: 0.0602 ± 0.0004 - Time: 4.98 s\n"
     ]
    }
   ],
   "source": [
    "ridge_trainer = Trainer(\n",
    "    Ridge(**ridge_params),\n",
    "    cv=KFold(n_splits=CFG.n_folds, random_state=CFG.seed, shuffle=True),\n",
    "    metric=CFG.metric,\n",
    "    task=\"regression\"\n",
    ")\n",
    "\n",
    "ridge_trainer.fit(X, y)\n",
    "\n",
    "scores[\"Ridge (ensemble)\"] = ridge_trainer.fold_scores\n",
    "ridge_test_preds = ridge_trainer.predict(X_test)"
   ]
  },
  {
   "cell_type": "code",
   "execution_count": 28,
   "id": "cb2318ce",
   "metadata": {
    "execution": {
     "iopub.execute_input": "2025-05-01T11:30:43.443320Z",
     "iopub.status.busy": "2025-05-01T11:30:43.442351Z",
     "iopub.status.idle": "2025-05-01T11:30:43.813629Z",
     "shell.execute_reply": "2025-05-01T11:30:43.812599Z"
    },
    "papermill": {
     "duration": 0.417013,
     "end_time": "2025-05-01T11:30:43.815104",
     "exception": false,
     "start_time": "2025-05-01T11:30:43.398091",
     "status": "completed"
    },
    "tags": []
   },
   "outputs": [
    {
     "data": {
      "image/png": "[encoded data removed]",
      "text/plain": [
       "<Figure size 1000x350 with 1 Axes>"
      ]
     },
     "metadata": {},
     "output_type": "display_data"
    }
   ],
   "source": [
    "ridge_coeffs = np.zeros((1, X.shape[1]))\n",
    "for m in ridge_trainer.estimators:\n",
    "    ridge_coeffs += m.coef_\n",
    "ridge_coeffs = ridge_coeffs / len(ridge_trainer.estimators)\n",
    "\n",
    "plot_weights(ridge_coeffs, \"Ridge Coefficients\")"
   ]
  },
  {
   "cell_type": "markdown",
   "id": "e31c0c2a",
   "metadata": {
    "papermill": {
     "duration": 0.033082,
     "end_time": "2025-05-01T11:30:43.880977",
     "exception": false,
     "start_time": "2025-05-01T11:30:43.847895",
     "status": "completed"
    },
    "tags": []
   },
   "source": [
    "# Submission"
   ]
  },
  {
   "cell_type": "code",
   "execution_count": 29,
   "id": "eddc439c",
   "metadata": {
    "execution": {
     "iopub.execute_input": "2025-05-01T11:30:43.951824Z",
     "iopub.status.busy": "2025-05-01T11:30:43.950871Z",
     "iopub.status.idle": "2025-05-01T11:30:44.719634Z",
     "shell.execute_reply": "2025-05-01T11:30:44.718426Z"
    },
    "papermill": {
     "duration": 0.803095,
     "end_time": "2025-05-01T11:30:44.721349",
     "exception": false,
     "start_time": "2025-05-01T11:30:43.918254",
     "status": "completed"
    },
    "tags": []
   },
   "outputs": [
    {
     "data": {
      "text/html": [
       "<div>\n",
       "<style scoped>\n",
       "    .dataframe tbody tr th:only-of-type {\n",
       "        vertical-align: middle;\n",
       "    }\n",
       "\n",
       "    .dataframe tbody tr th {\n",
       "        vertical-align: top;\n",
       "    }\n",
       "\n",
       "    .dataframe thead th {\n",
       "        text-align: right;\n",
       "    }\n",
       "</style>\n",
       "<table border=\"1\" class=\"dataframe\">\n",
       "  <thead>\n",
       "    <tr style=\"text-align: right;\">\n",
       "      <th></th>\n",
       "      <th>id</th>\n",
       "      <th>Calories</th>\n",
       "    </tr>\n",
       "  </thead>\n",
       "  <tbody>\n",
       "    <tr>\n",
       "      <th>0</th>\n",
       "      <td>750000</td>\n",
       "      <td>27.119670</td>\n",
       "    </tr>\n",
       "    <tr>\n",
       "      <th>1</th>\n",
       "      <td>750001</td>\n",
       "      <td>108.186329</td>\n",
       "    </tr>\n",
       "    <tr>\n",
       "      <th>2</th>\n",
       "      <td>750002</td>\n",
       "      <td>87.090218</td>\n",
       "    </tr>\n",
       "    <tr>\n",
       "      <th>3</th>\n",
       "      <td>750003</td>\n",
       "      <td>125.678637</td>\n",
       "    </tr>\n",
       "    <tr>\n",
       "      <th>4</th>\n",
       "      <td>750004</td>\n",
       "      <td>76.137414</td>\n",
       "    </tr>\n",
       "  </tbody>\n",
       "</table>\n",
       "</div>"
      ],
      "text/plain": [
       "       id    Calories\n",
       "0  750000   27.119670\n",
       "1  750001  108.186329\n",
       "2  750002   87.090218\n",
       "3  750003  125.678637\n",
       "4  750004   76.137414"
      ]
     },
     "execution_count": 29,
     "metadata": {},
     "output_type": "execute_result"
    }
   ],
   "source": [
    "sub = pd.read_csv(CFG.sample_sub_path)\n",
    "sub[CFG.target] = ridge_test_preds\n",
    "sub.to_csv(f\"sub_ridge_{np.mean(scores['Ridge (ensemble)']):.6f}.csv\", index=False)\n",
    "sub.head()"
   ]
  },
  {
   "cell_type": "markdown",
   "id": "a7867b41",
   "metadata": {
    "papermill": {
     "duration": 0.043357,
     "end_time": "2025-05-01T11:30:44.807560",
     "exception": false,
     "start_time": "2025-05-01T11:30:44.764203",
     "status": "completed"
    },
    "tags": []
   },
   "source": [
    "# Results"
   ]
  },
  {
   "cell_type": "code",
   "execution_count": 30,
   "id": "6908ca8e",
   "metadata": {
    "execution": {
     "iopub.execute_input": "2025-05-01T11:30:44.894482Z",
     "iopub.status.busy": "2025-05-01T11:30:44.894177Z",
     "iopub.status.idle": "2025-05-01T11:30:45.434353Z",
     "shell.execute_reply": "2025-05-01T11:30:45.433479Z"
    },
    "papermill": {
     "duration": 0.585515,
     "end_time": "2025-05-01T11:30:45.436677",
     "exception": false,
     "start_time": "2025-05-01T11:30:44.851162",
     "status": "completed"
    },
    "tags": []
   },
   "outputs": [
    {
     "data": {
      "image/png": "[encoded data removed]",
      "text/plain": [
       "<Figure size 1500x240 with 2 Axes>"
      ]
     },
     "metadata": {},
     "output_type": "display_data"
    }
   ],
   "source": [
    "scores = pd.DataFrame(scores)\n",
    "mean_scores = scores.mean().sort_values(ascending=True)\n",
    "order = scores.mean().sort_values(ascending=True).index.tolist()\n",
    "\n",
    "min_score = mean_scores.min()\n",
    "max_score = mean_scores.max()\n",
    "padding = (max_score - min_score) * 0.5\n",
    "lower_limit = min_score - padding\n",
    "upper_limit = max_score + padding\n",
    "\n",
    "fig, axs = plt.subplots(1, 2, figsize=(15, scores.shape[1] * 0.3))\n",
    "\n",
    "boxplot = sns.boxplot(data=scores, order=order, ax=axs[0], orient=\"h\", color=\"grey\")\n",
    "axs[0].set_title(f\"Fold {CFG.metric.__name__}\")\n",
    "axs[0].set_xlabel(\"\")\n",
    "axs[0].set_ylabel(\"\")\n",
    "\n",
    "barplot = sns.barplot(x=mean_scores.values, y=mean_scores.index, ax=axs[1], color=\"grey\")\n",
    "axs[1].set_title(f\"Average {CFG.metric.__name__}\")\n",
    "axs[1].set_xlabel(\"\")\n",
    "axs[1].set_xlim(left=lower_limit, right=upper_limit)\n",
    "axs[1].set_ylabel(\"\")\n",
    "\n",
    "for i, (score, model) in enumerate(zip(mean_scores.values, mean_scores.index)):\n",
    "    color = \"cyan\" if \"ensemble\" in model.lower() else \"grey\"\n",
    "    barplot.patches[i].set_facecolor(color)\n",
    "    boxplot.patches[i].set_facecolor(color)\n",
    "    barplot.text(score, i, round(score, 6), va=\"center\")\n",
    "\n",
    "plt.tight_layout()\n",
    "plt.show()"
   ]
  }
 ],
 "metadata": {
  "kaggle": {
   "accelerator": "none",
   "dataSources": [
    {
     "databundleVersionId": 11893428,
     "sourceId": 91716,
     "sourceType": "competition"
    }
   ],
   "dockerImageVersionId": 31012,
   "isGpuEnabled": false,
   "isInternetEnabled": true,
   "language": "python",
   "sourceType": "notebook"
  },
  "kernelspec": {
   "display_name": "Python 3",
   "language": "python",
   "name": "python3"
  },
  "language_info": {
   "codemirror_mode": {
    "name": "ipython",
    "version": 3
   },
   "file_extension": ".py",
   "mimetype": "text/x-python",
   "name": "python",
   "nbconvert_exporter": "python",
   "pygments_lexer": "ipython3",
   "version": "3.11.11"
  },
  "papermill": {
   "default_parameters": {},
   "duration": 9773.165392,
   "end_time": "2025-05-01T11:30:49.348243",
   "environment_variables": {},
   "exception": null,
   "input_path": "__notebook__.ipynb",
   "output_path": "__notebook__.ipynb",
   "parameters": {},
   "start_time": "2025-05-01T08:47:56.182851",
   "version": "2.6.0"
  }
 },
 "nbformat": 4,
 "nbformat_minor": 5
}
