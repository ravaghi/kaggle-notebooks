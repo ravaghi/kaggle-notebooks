{
 "cells": [
  {
   "cell_type": "code",
   "execution_count": 1,
   "id": "079a8196",
   "metadata": {
    "_kg_hide-output": true,
    "execution": {
     "iopub.execute_input": "2025-05-03T09:01:09.128870Z",
     "iopub.status.busy": "2025-05-03T09:01:09.128521Z",
     "iopub.status.idle": "2025-05-03T09:01:20.429475Z",
     "shell.execute_reply": "2025-05-03T09:01:20.428476Z"
    },
    "papermill": {
     "duration": 11.310675,
     "end_time": "2025-05-03T09:01:20.431318",
     "exception": false,
     "start_time": "2025-05-03T09:01:09.120643",
     "status": "completed"
    },
    "scrolled": true,
    "tags": []
   },
   "outputs": [
    {
     "name": "stdout",
     "output_type": "stream",
     "text": [
      "Requirement already satisfied: ydf in /usr/local/lib/python3.11/dist-packages (0.9.0)\r\n",
      "Collecting koolbox\r\n",
      "  Downloading koolbox-0.1.2-py3-none-any.whl.metadata (2.4 kB)\r\n",
      "Collecting scikit-learn==1.5.2\r\n",
      "  Downloading scikit_learn-1.5.2-cp311-cp311-manylinux_2_17_x86_64.manylinux2014_x86_64.whl.metadata (13 kB)\r\n",
      "Requirement already satisfied: numpy>=1.19.5 in /usr/local/lib/python3.11/dist-packages (from scikit-learn==1.5.2) (1.26.4)\r\n",
      "Requirement already satisfied: scipy>=1.6.0 in /usr/local/lib/python3.11/dist-packages (from scikit-learn==1.5.2) (1.15.2)\r\n",
      "Requirement already satisfied: joblib>=1.2.0 in /usr/local/lib/python3.11/dist-packages (from scikit-learn==1.5.2) (1.4.2)\r\n",
      "Requirement already satisfied: threadpoolctl>=3.1.0 in /usr/local/lib/python3.11/dist-packages (from scikit-learn==1.5.2) (3.6.0)\r\n",
      "Requirement already satisfied: absl_py in /usr/local/lib/python3.11/dist-packages (from ydf) (1.4.0)\r\n",
      "Requirement already satisfied: protobuf>=3.14 in /usr/local/lib/python3.11/dist-packages (from ydf) (3.20.3)\r\n",
      "Requirement already satisfied: pandas>=1.0.0 in /usr/local/lib/python3.11/dist-packages (from koolbox) (2.2.3)\r\n",
      "Requirement already satisfied: mkl_fft in /usr/local/lib/python3.11/dist-packages (from numpy>=1.19.5->scikit-learn==1.5.2) (1.3.8)\r\n",
      "Requirement already satisfied: mkl_random in /usr/local/lib/python3.11/dist-packages (from numpy>=1.19.5->scikit-learn==1.5.2) (1.2.4)\r\n",
      "Requirement already satisfied: mkl_umath in /usr/local/lib/python3.11/dist-packages (from numpy>=1.19.5->scikit-learn==1.5.2) (0.1.1)\r\n",
      "Requirement already satisfied: mkl in /usr/local/lib/python3.11/dist-packages (from numpy>=1.19.5->scikit-learn==1.5.2) (2025.1.0)\r\n",
      "Requirement already satisfied: tbb4py in /usr/local/lib/python3.11/dist-packages (from numpy>=1.19.5->scikit-learn==1.5.2) (2022.1.0)\r\n",
      "Requirement already satisfied: mkl-service in /usr/local/lib/python3.11/dist-packages (from numpy>=1.19.5->scikit-learn==1.5.2) (2.4.1)\r\n",
      "Requirement already satisfied: python-dateutil>=2.8.2 in /usr/local/lib/python3.11/dist-packages (from pandas>=1.0.0->koolbox) (2.9.0.post0)\r\n",
      "Requirement already satisfied: pytz>=2020.1 in /usr/local/lib/python3.11/dist-packages (from pandas>=1.0.0->koolbox) (2025.2)\r\n",
      "Requirement already satisfied: tzdata>=2022.7 in /usr/local/lib/python3.11/dist-packages (from pandas>=1.0.0->koolbox) (2025.2)\r\n",
      "Requirement already satisfied: six>=1.5 in /usr/local/lib/python3.11/dist-packages (from python-dateutil>=2.8.2->pandas>=1.0.0->koolbox) (1.17.0)\r\n",
      "Requirement already satisfied: intel-openmp<2026,>=2024 in /usr/local/lib/python3.11/dist-packages (from mkl->numpy>=1.19.5->scikit-learn==1.5.2) (2024.2.0)\r\n",
      "Requirement already satisfied: tbb==2022.* in /usr/local/lib/python3.11/dist-packages (from mkl->numpy>=1.19.5->scikit-learn==1.5.2) (2022.1.0)\r\n",
      "Requirement already satisfied: tcmlib==1.* in /usr/local/lib/python3.11/dist-packages (from tbb==2022.*->mkl->numpy>=1.19.5->scikit-learn==1.5.2) (1.2.0)\r\n",
      "Requirement already satisfied: intel-cmplr-lib-rt in /usr/local/lib/python3.11/dist-packages (from mkl_umath->numpy>=1.19.5->scikit-learn==1.5.2) (2024.2.0)\r\n",
      "Requirement already satisfied: intel-cmplr-lib-ur==2024.2.0 in /usr/local/lib/python3.11/dist-packages (from intel-openmp<2026,>=2024->mkl->numpy>=1.19.5->scikit-learn==1.5.2) (2024.2.0)\r\n",
      "Downloading scikit_learn-1.5.2-cp311-cp311-manylinux_2_17_x86_64.manylinux2014_x86_64.whl (13.3 MB)\r\n",
      "\u001b[2K   \u001b[90m━━━━━━━━━━━━━━━━━━━━━━━━━━━━━━━━━━━━━━━━\u001b[0m \u001b[32m13.3/13.3 MB\u001b[0m \u001b[31m76.6 MB/s\u001b[0m eta \u001b[36m0:00:00\u001b[0m\r\n",
      "\u001b[?25hDownloading koolbox-0.1.2-py3-none-any.whl (11 kB)\r\n",
      "Installing collected packages: scikit-learn, koolbox\r\n",
      "  Attempting uninstall: scikit-learn\r\n",
      "    Found existing installation: scikit-learn 1.2.2\r\n",
      "    Uninstalling scikit-learn-1.2.2:\r\n",
      "      Successfully uninstalled scikit-learn-1.2.2\r\n",
      "\u001b[31mERROR: pip's dependency resolver does not currently take into account all the packages that are installed. This behaviour is the source of the following dependency conflicts.\r\n",
      "bigframes 1.36.0 requires rich<14,>=12.4.4, but you have rich 14.0.0 which is incompatible.\u001b[0m\u001b[31m\r\n",
      "\u001b[0mSuccessfully installed koolbox-0.1.2 scikit-learn-1.5.2\r\n",
      "Collecting scikeras\r\n",
      "  Downloading scikeras-0.13.0-py3-none-any.whl.metadata (3.1 kB)\r\n",
      "Downloading scikeras-0.13.0-py3-none-any.whl (26 kB)\r\n",
      "Installing collected packages: scikeras\r\n",
      "Successfully installed scikeras-0.13.0\r\n"
     ]
    }
   ],
   "source": [
    "!pip install ydf koolbox scikit-learn==1.5.2 && pip install --no-deps scikeras"
   ]
  },
  {
   "cell_type": "markdown",
   "id": "d563cc1e",
   "metadata": {
    "papermill": {
     "duration": 0.007781,
     "end_time": "2025-05-03T09:01:20.446416",
     "exception": false,
     "start_time": "2025-05-03T09:01:20.438635",
     "status": "completed"
    },
    "tags": []
   },
   "source": [
    "# Imports and configs"
   ]
  },
  {
   "cell_type": "code",
   "execution_count": 2,
   "id": "46b4bb32",
   "metadata": {
    "_kg_hide-output": true,
    "execution": {
     "iopub.execute_input": "2025-05-03T09:01:20.461861Z",
     "iopub.status.busy": "2025-05-03T09:01:20.461490Z",
     "iopub.status.idle": "2025-05-03T09:01:46.595876Z",
     "shell.execute_reply": "2025-05-03T09:01:46.594949Z"
    },
    "papermill": {
     "duration": 26.144371,
     "end_time": "2025-05-03T09:01:46.597571",
     "exception": false,
     "start_time": "2025-05-03T09:01:20.453200",
     "status": "completed"
    },
    "tags": []
   },
   "outputs": [
    {
     "name": "stderr",
     "output_type": "stream",
     "text": [
      "2025-05-03 09:01:26.526202: E external/local_xla/xla/stream_executor/cuda/cuda_fft.cc:477] Unable to register cuFFT factory: Attempting to register factory for plugin cuFFT when one has already been registered\n",
      "WARNING: All log messages before absl::InitializeLog() is called are written to STDERR\n",
      "E0000 00:00:1746262886.786766      13 cuda_dnn.cc:8310] Unable to register cuDNN factory: Attempting to register factory for plugin cuDNN when one has already been registered\n",
      "E0000 00:00:1746262886.868419      13 cuda_blas.cc:1418] Unable to register cuBLAS factory: Attempting to register factory for plugin cuBLAS when one has already been registered\n"
     ]
    }
   ],
   "source": [
    "from sklearn.ensemble import HistGradientBoostingRegressor, BaggingRegressor\n",
    "from sklearn.preprocessing import StandardScaler, OneHotEncoder\n",
    "from sklearn.feature_selection import mutual_info_regression\n",
    "from sklearn.base import BaseEstimator, RegressorMixin\n",
    "from sklearn.metrics import root_mean_squared_error\n",
    "from sklearn.compose import ColumnTransformer\n",
    "from sklearn.pipeline import make_pipeline\n",
    "from sklearn.model_selection import KFold\n",
    "from sklearn.linear_model import Ridge\n",
    "from scikeras.wrappers import KerasRegressor\n",
    "from lightgbm import LGBMRegressor, early_stopping, log_evaluation\n",
    "from ydf import GradientBoostedTreesLearner\n",
    "from catboost import CatBoostRegressor\n",
    "from xgboost import XGBRegressor\n",
    "from koolbox import Trainer\n",
    "import matplotlib.pyplot as plt\n",
    "import contextlib, io\n",
    "import seaborn as sns\n",
    "import pandas as pd\n",
    "import numpy as np\n",
    "import warnings\n",
    "import joblib\n",
    "import shutil\n",
    "import optuna\n",
    "import keras\n",
    "import json\n",
    "import glob\n",
    "import ydf\n",
    "\n",
    "ydf.verbose(2)\n",
    "warnings.filterwarnings(\"ignore\")"
   ]
  },
  {
   "cell_type": "code",
   "execution_count": 3,
   "id": "c7e94539",
   "metadata": {
    "execution": {
     "iopub.execute_input": "2025-05-03T09:01:46.613930Z",
     "iopub.status.busy": "2025-05-03T09:01:46.613248Z",
     "iopub.status.idle": "2025-05-03T09:01:46.618816Z",
     "shell.execute_reply": "2025-05-03T09:01:46.617933Z"
    },
    "papermill": {
     "duration": 0.014733,
     "end_time": "2025-05-03T09:01:46.620214",
     "exception": false,
     "start_time": "2025-05-03T09:01:46.605481",
     "status": "completed"
    },
    "tags": []
   },
   "outputs": [],
   "source": [
    "class CFG:\n",
    "    train_path = \"/kaggle/input/playground-series-s5e5/train.csv\"\n",
    "    test_path = \"/kaggle/input/playground-series-s5e5/test.csv\"\n",
    "    sample_sub_path = \"/kaggle/input/playground-series-s5e5/sample_submission.csv\"\n",
    "    \n",
    "    original_path = \"/kaggle/input/calories-burnt-prediction/calories.csv\"\n",
    "\n",
    "    metric = root_mean_squared_error\n",
    "    target = \"Calories\"\n",
    "    n_folds = 5\n",
    "    seed = 42\n",
    "\n",
    "    cv = KFold(n_splits=n_folds, random_state=seed, shuffle=True)\n",
    "\n",
    "    run_optuna = True\n",
    "    n_optuna_trials = 250"
   ]
  },
  {
   "cell_type": "markdown",
   "id": "3505072d",
   "metadata": {
    "papermill": {
     "duration": 0.006806,
     "end_time": "2025-05-03T09:01:46.634003",
     "exception": false,
     "start_time": "2025-05-03T09:01:46.627197",
     "status": "completed"
    },
    "tags": []
   },
   "source": [
    "# Data loading and preprocessing"
   ]
  },
  {
   "cell_type": "code",
   "execution_count": 4,
   "id": "1c8d3cbb",
   "metadata": {
    "execution": {
     "iopub.execute_input": "2025-05-03T09:01:46.649049Z",
     "iopub.status.busy": "2025-05-03T09:01:46.648698Z",
     "iopub.status.idle": "2025-05-03T09:01:47.966494Z",
     "shell.execute_reply": "2025-05-03T09:01:47.965786Z"
    },
    "papermill": {
     "duration": 1.327423,
     "end_time": "2025-05-03T09:01:47.968241",
     "exception": false,
     "start_time": "2025-05-03T09:01:46.640818",
     "status": "completed"
    },
    "tags": []
   },
   "outputs": [],
   "source": [
    "train = pd.read_csv(CFG.train_path, index_col=\"id\")\n",
    "test = pd.read_csv(CFG.test_path, index_col=\"id\")\n",
    "\n",
    "train[\"Sex\"] = train[\"Sex\"].map({\"male\": 0, \"female\": 1})\n",
    "test[\"Sex\"] = test[\"Sex\"].map({\"male\": 0, \"female\": 1})\n",
    "\n",
    "X = train.drop(CFG.target, axis=1)\n",
    "y = np.log1p(train[CFG.target])\n",
    "X_test = test"
   ]
  },
  {
   "cell_type": "code",
   "execution_count": 5,
   "id": "272c1e83",
   "metadata": {
    "execution": {
     "iopub.execute_input": "2025-05-03T09:01:47.988658Z",
     "iopub.status.busy": "2025-05-03T09:01:47.987782Z",
     "iopub.status.idle": "2025-05-03T09:01:48.021450Z",
     "shell.execute_reply": "2025-05-03T09:01:48.020657Z"
    },
    "papermill": {
     "duration": 0.044733,
     "end_time": "2025-05-03T09:01:48.023318",
     "exception": false,
     "start_time": "2025-05-03T09:01:47.978585",
     "status": "completed"
    },
    "tags": []
   },
   "outputs": [],
   "source": [
    "original = pd.read_csv(CFG.original_path, index_col=\"User_ID\")\n",
    "original[\"Gender\"] = original[\"Gender\"].map({\"male\": 0, \"female\": 1})\n",
    "original = original.rename(columns={\"Gender\": \"Sex\"})\n",
    "\n",
    "X_original = original.drop(CFG.target, axis=1)\n",
    "y_original = np.log1p(original[CFG.target])"
   ]
  },
  {
   "cell_type": "code",
   "execution_count": 6,
   "id": "247aa5be",
   "metadata": {
    "execution": {
     "iopub.execute_input": "2025-05-03T09:01:48.040588Z",
     "iopub.status.busy": "2025-05-03T09:01:48.040079Z",
     "iopub.status.idle": "2025-05-03T09:02:56.843295Z",
     "shell.execute_reply": "2025-05-03T09:02:56.842396Z"
    },
    "papermill": {
     "duration": 68.819848,
     "end_time": "2025-05-03T09:02:56.851723",
     "exception": false,
     "start_time": "2025-05-03T09:01:48.031875",
     "status": "completed"
    },
    "tags": []
   },
   "outputs": [
    {
     "data": {
      "text/html": [
       "<style type=\"text/css\">\n",
       "#T_4886b_row0_col0 {\n",
       "  width: 10em;\n",
       "  background: linear-gradient(90deg, #006837 100.0%, transparent 100.0%);\n",
       "}\n",
       "#T_4886b_row1_col0 {\n",
       "  width: 10em;\n",
       "  background: linear-gradient(90deg, #afdd70 68.3%, transparent 68.3%);\n",
       "}\n",
       "#T_4886b_row2_col0 {\n",
       "  width: 10em;\n",
       "  background: linear-gradient(90deg, #daf08d 59.6%, transparent 59.6%);\n",
       "}\n",
       "#T_4886b_row3_col0 {\n",
       "  width: 10em;\n",
       "  background: linear-gradient(90deg, #c21c27 6.0%, transparent 6.0%);\n",
       "}\n",
       "#T_4886b_row4_col0, #T_4886b_row5_col0 {\n",
       "  width: 10em;\n",
       "  background: linear-gradient(90deg, #b50f26 3.4%, transparent 3.4%);\n",
       "}\n",
       "#T_4886b_row6_col0 {\n",
       "  width: 10em;\n",
       "  background: linear-gradient(90deg, #a90426 1.0%, transparent 1.0%);\n",
       "}\n",
       "</style>\n",
       "<table id=\"T_4886b\">\n",
       "  <thead>\n",
       "    <tr>\n",
       "      <th class=\"blank level0\" >&nbsp;</th>\n",
       "      <th id=\"T_4886b_level0_col0\" class=\"col_heading level0 col0\" >Mutual Information</th>\n",
       "    </tr>\n",
       "  </thead>\n",
       "  <tbody>\n",
       "    <tr>\n",
       "      <th id=\"T_4886b_level0_row0\" class=\"row_heading level0 row0\" >Duration</th>\n",
       "      <td id=\"T_4886b_row0_col0\" class=\"data row0 col0\" >1.640567</td>\n",
       "    </tr>\n",
       "    <tr>\n",
       "      <th id=\"T_4886b_level0_row1\" class=\"row_heading level0 row1\" >Body_Temp</th>\n",
       "      <td id=\"T_4886b_row1_col0\" class=\"data row1 col0\" >1.120766</td>\n",
       "    </tr>\n",
       "    <tr>\n",
       "      <th id=\"T_4886b_level0_row2\" class=\"row_heading level0 row2\" >Heart_Rate</th>\n",
       "      <td id=\"T_4886b_row2_col0\" class=\"data row2 col0\" >0.976966</td>\n",
       "    </tr>\n",
       "    <tr>\n",
       "      <th id=\"T_4886b_level0_row3\" class=\"row_heading level0 row3\" >Age</th>\n",
       "      <td id=\"T_4886b_row3_col0\" class=\"data row3 col0\" >0.098387</td>\n",
       "    </tr>\n",
       "    <tr>\n",
       "      <th id=\"T_4886b_level0_row4\" class=\"row_heading level0 row4\" >Height</th>\n",
       "      <td id=\"T_4886b_row4_col0\" class=\"data row4 col0\" >0.056501</td>\n",
       "    </tr>\n",
       "    <tr>\n",
       "      <th id=\"T_4886b_level0_row5\" class=\"row_heading level0 row5\" >Weight</th>\n",
       "      <td id=\"T_4886b_row5_col0\" class=\"data row5 col0\" >0.055709</td>\n",
       "    </tr>\n",
       "    <tr>\n",
       "      <th id=\"T_4886b_level0_row6\" class=\"row_heading level0 row6\" >Sex</th>\n",
       "      <td id=\"T_4886b_row6_col0\" class=\"data row6 col0\" >0.017174</td>\n",
       "    </tr>\n",
       "  </tbody>\n",
       "</table>\n"
      ],
      "text/plain": [
       "<pandas.io.formats.style.Styler at 0x7c28f4fca490>"
      ]
     },
     "execution_count": 6,
     "metadata": {},
     "output_type": "execute_result"
    }
   ],
   "source": [
    "mutual_info = mutual_info_regression(X, y, random_state=CFG.seed)\n",
    "\n",
    "mutual_info = pd.Series(mutual_info)\n",
    "mutual_info.index = X.columns\n",
    "mutual_info = pd.DataFrame(mutual_info.sort_values(ascending=False), columns=['Mutual Information'])\n",
    "mutual_info.style.bar(subset=['Mutual Information'], cmap='RdYlGn')"
   ]
  },
  {
   "cell_type": "code",
   "execution_count": 7,
   "id": "82e0d830",
   "metadata": {
    "execution": {
     "iopub.execute_input": "2025-05-03T09:02:56.867847Z",
     "iopub.status.busy": "2025-05-03T09:02:56.867011Z",
     "iopub.status.idle": "2025-05-03T09:02:57.604872Z",
     "shell.execute_reply": "2025-05-03T09:02:57.603930Z"
    },
    "papermill": {
     "duration": 0.747507,
     "end_time": "2025-05-03T09:02:57.606308",
     "exception": false,
     "start_time": "2025-05-03T09:02:56.858801",
     "status": "completed"
    },
    "tags": []
   },
   "outputs": [
    {
     "data": {
      "text/html": [
       "<style type=\"text/css\">\n",
       "#T_5d2b5_row0_col0 {\n",
       "  width: 10em;\n",
       "  background: linear-gradient(90deg, #006837 100.0%, transparent 100.0%);\n",
       "}\n",
       "#T_5d2b5_row1_col0 {\n",
       "  width: 10em;\n",
       "  background: linear-gradient(90deg, #bbe278 66.0%, transparent 66.0%);\n",
       "}\n",
       "#T_5d2b5_row2_col0 {\n",
       "  width: 10em;\n",
       "  background: linear-gradient(90deg, #e0f295 57.9%, transparent 57.9%);\n",
       "}\n",
       "#T_5d2b5_row3_col0 {\n",
       "  width: 10em;\n",
       "  background: linear-gradient(90deg, #b10b26 2.4%, transparent 2.4%);\n",
       "}\n",
       "#T_5d2b5_row4_col0 {\n",
       "  width: 10em;\n",
       "  background: linear-gradient(90deg, #ab0626 1.4%, transparent 1.4%);\n",
       "}\n",
       "#T_5d2b5_row5_col0 {\n",
       "  width: 10em;\n",
       "  background: linear-gradient(90deg, #a90426 1.1%, transparent 1.1%);\n",
       "}\n",
       "#T_5d2b5_row6_col0 {\n",
       "  width: 10em;\n",
       "  background: linear-gradient(90deg, #a50026 0.3%, transparent 0.3%);\n",
       "}\n",
       "</style>\n",
       "<table id=\"T_5d2b5\">\n",
       "  <thead>\n",
       "    <tr>\n",
       "      <th class=\"blank level0\" >&nbsp;</th>\n",
       "      <th id=\"T_5d2b5_level0_col0\" class=\"col_heading level0 col0\" >Mutual Information</th>\n",
       "    </tr>\n",
       "  </thead>\n",
       "  <tbody>\n",
       "    <tr>\n",
       "      <th id=\"T_5d2b5_level0_row0\" class=\"row_heading level0 row0\" >Duration</th>\n",
       "      <td id=\"T_5d2b5_row0_col0\" class=\"data row0 col0\" >1.494968</td>\n",
       "    </tr>\n",
       "    <tr>\n",
       "      <th id=\"T_5d2b5_level0_row1\" class=\"row_heading level0 row1\" >Body_Temp</th>\n",
       "      <td id=\"T_5d2b5_row1_col0\" class=\"data row1 col0\" >0.986528</td>\n",
       "    </tr>\n",
       "    <tr>\n",
       "      <th id=\"T_5d2b5_level0_row2\" class=\"row_heading level0 row2\" >Heart_Rate</th>\n",
       "      <td id=\"T_5d2b5_row2_col0\" class=\"data row2 col0\" >0.866243</td>\n",
       "    </tr>\n",
       "    <tr>\n",
       "      <th id=\"T_5d2b5_level0_row3\" class=\"row_heading level0 row3\" >Age</th>\n",
       "      <td id=\"T_5d2b5_row3_col0\" class=\"data row3 col0\" >0.035208</td>\n",
       "    </tr>\n",
       "    <tr>\n",
       "      <th id=\"T_5d2b5_level0_row4\" class=\"row_heading level0 row4\" >Weight</th>\n",
       "      <td id=\"T_5d2b5_row4_col0\" class=\"data row4 col0\" >0.020520</td>\n",
       "    </tr>\n",
       "    <tr>\n",
       "      <th id=\"T_5d2b5_level0_row5\" class=\"row_heading level0 row5\" >Sex</th>\n",
       "      <td id=\"T_5d2b5_row5_col0\" class=\"data row5 col0\" >0.016184</td>\n",
       "    </tr>\n",
       "    <tr>\n",
       "      <th id=\"T_5d2b5_level0_row6\" class=\"row_heading level0 row6\" >Height</th>\n",
       "      <td id=\"T_5d2b5_row6_col0\" class=\"data row6 col0\" >0.005213</td>\n",
       "    </tr>\n",
       "  </tbody>\n",
       "</table>\n"
      ],
      "text/plain": [
       "<pandas.io.formats.style.Styler at 0x7c28f4771610>"
      ]
     },
     "execution_count": 7,
     "metadata": {},
     "output_type": "execute_result"
    }
   ],
   "source": [
    "mutual_info = mutual_info_regression(X_original, y_original, random_state=CFG.seed)\n",
    "\n",
    "mutual_info = pd.Series(mutual_info)\n",
    "mutual_info.index = X_original.columns\n",
    "mutual_info = pd.DataFrame(mutual_info.sort_values(ascending=False), columns=['Mutual Information'])\n",
    "mutual_info.style.bar(subset=['Mutual Information'], cmap='RdYlGn')"
   ]
  },
  {
   "cell_type": "code",
   "execution_count": 8,
   "id": "2a31f0ad",
   "metadata": {
    "execution": {
     "iopub.execute_input": "2025-05-03T09:02:57.630677Z",
     "iopub.status.busy": "2025-05-03T09:02:57.629912Z",
     "iopub.status.idle": "2025-05-03T09:02:58.821052Z",
     "shell.execute_reply": "2025-05-03T09:02:58.820230Z"
    },
    "papermill": {
     "duration": 1.206616,
     "end_time": "2025-05-03T09:02:58.823123",
     "exception": false,
     "start_time": "2025-05-03T09:02:57.616507",
     "status": "completed"
    },
    "tags": []
   },
   "outputs": [
    {
     "data": {
      "image/png": "[encoded data removed]",
      "text/plain": [
       "<Figure size 1600x600 with 4 Axes>"
      ]
     },
     "metadata": {},
     "output_type": "display_data"
    }
   ],
   "source": [
    "sns.set_style(\"white\")\n",
    "fig, axes = plt.subplots(1, 2, figsize=(16, 6))\n",
    "\n",
    "corr_train = train.corr()\n",
    "mask_train = np.triu(np.ones_like(corr_train, dtype=bool), k=1)\n",
    "sns.heatmap(\n",
    "    data=corr_train,\n",
    "    annot=True,\n",
    "    fmt='.2f',\n",
    "    mask=mask_train,\n",
    "    square=True,\n",
    "    cmap='coolwarm',\n",
    "    cbar_kws={'shrink': .7, 'format': '%.2f'},   \n",
    "    annot_kws={'size': 8},\n",
    "    center=0,\n",
    "    ax=axes[0]\n",
    ")\n",
    "axes[0].set_title('Train')\n",
    "axes[0].tick_params(axis='both', which='major', labelsize=8)\n",
    "\n",
    "corr_orig = original.corr()\n",
    "mask_orig = np.triu(np.ones_like(corr_orig, dtype=bool), k=1)\n",
    "sns.heatmap(\n",
    "    data=corr_orig,\n",
    "    annot=True,\n",
    "    fmt='.2f',\n",
    "    mask=mask_orig,\n",
    "    square=True,\n",
    "    cmap='coolwarm',\n",
    "    cbar_kws={'shrink': .7, 'format': '%.2f'},   \n",
    "    annot_kws={'size': 8},\n",
    "    center=0,\n",
    "    ax=axes[1]\n",
    ")\n",
    "axes[1].set_title('Original')\n",
    "axes[1].tick_params(axis='both', which='major', labelsize=8)\n",
    "\n",
    "plt.tight_layout()\n",
    "plt.show()"
   ]
  },
  {
   "cell_type": "markdown",
   "id": "43849fad",
   "metadata": {
    "papermill": {
     "duration": 0.008061,
     "end_time": "2025-05-03T09:02:58.840028",
     "exception": false,
     "start_time": "2025-05-03T09:02:58.831967",
     "status": "completed"
    },
    "tags": []
   },
   "source": [
    "# Training base models"
   ]
  },
  {
   "cell_type": "code",
   "execution_count": 9,
   "id": "c80177a9",
   "metadata": {
    "_kg_hide-input": true,
    "_kg_hide-output": true,
    "execution": {
     "iopub.execute_input": "2025-05-03T09:02:58.858742Z",
     "iopub.status.busy": "2025-05-03T09:02:58.858042Z",
     "iopub.status.idle": "2025-05-03T09:02:58.866331Z",
     "shell.execute_reply": "2025-05-03T09:02:58.865664Z"
    },
    "papermill": {
     "duration": 0.019104,
     "end_time": "2025-05-03T09:02:58.867554",
     "exception": false,
     "start_time": "2025-05-03T09:02:58.848450",
     "status": "completed"
    },
    "tags": []
   },
   "outputs": [],
   "source": [
    "histgb_params = {\n",
    "    \"l2_regularization\": 10.412017522533768,\n",
    "    \"learning_rate\": 0.011702680619474444,\n",
    "    \"max_depth\": 59,\n",
    "    \"max_features\": 0.30616140080552673,\n",
    "    \"max_iter\": 4454,\n",
    "    \"max_leaf_nodes\": 385,\n",
    "    \"min_samples_leaf\": 50,\n",
    "    \"random_state\": 42\n",
    "}\n",
    "\n",
    "lgbm_params = {\n",
    "    \"boosting_type\": \"gbdt\",\n",
    "    \"colsample_bytree\": 0.8213924491907012,\n",
    "    \"learning_rate\": 0.059976685297931195,\n",
    "    \"min_child_samples\": 10,\n",
    "    \"min_child_weight\": 0.5425237767880097,\n",
    "    \"n_estimators\": 50000,\n",
    "    \"n_jobs\": -1,\n",
    "    \"num_leaves\": 89,\n",
    "    \"random_state\": 42,\n",
    "    \"reg_alpha\": 2.0325709613371545,\n",
    "    \"reg_lambda\": 87.27971117911044,\n",
    "    \"subsample\": 0.6452823633939004,\n",
    "    \"verbose\": -1\n",
    "}\n",
    "\n",
    "lgbm_goss_params = {\n",
    "    \"boosting_type\": \"goss\",\n",
    "    \"colsample_bytree\": 0.9068724002629094,\n",
    "    \"learning_rate\": 0.06459027654473874,\n",
    "    \"min_child_samples\": 39,\n",
    "    \"min_child_weight\": 0.5337673729810578,\n",
    "    \"n_estimators\": 50000,\n",
    "    \"n_jobs\": -1,\n",
    "    \"num_leaves\": 13,\n",
    "    \"random_state\": 42,\n",
    "    \"reg_alpha\": 1.603969498256519,\n",
    "    \"reg_lambda\": 10.806488455621444,\n",
    "    \"subsample\": 0.5966412222358356,\n",
    "    \"verbose\": -1\n",
    "}\n",
    "\n",
    "xgb_params = {\n",
    "    \"colsample_bylevel\": 0.8606487417581108,\n",
    "    \"colsample_bynode\": 0.9410596660335436,\n",
    "    \"colsample_bytree\": 0.9407540036296737,\n",
    "    \"early_stopping_rounds\": 100,\n",
    "    \"eval_metric\": \"rmse\",\n",
    "    \"gamma\": 0.023260595738991977,\n",
    "    \"learning_rate\": 0.03669372905801298,\n",
    "    \"max_depth\": 11,\n",
    "    \"max_leaves\": 51,\n",
    "    \"min_child_weight\": 96,\n",
    "    \"n_estimators\": 50000,\n",
    "    \"n_jobs\": -1,\n",
    "    \"random_state\": 42,\n",
    "    \"reg_alpha\": 2.953205886504917,\n",
    "    \"reg_lambda\": 67.64147033446291,\n",
    "    \"subsample\": 0.6973241930754311,\n",
    "    \"verbosity\": 0\n",
    "}\n",
    "\n",
    "cb_params = {\n",
    "    \"border_count\": 88,\n",
    "    \"colsample_bylevel\": 0.7903437608890396,\n",
    "    \"depth\": 8,\n",
    "    \"eval_metric\": \"RMSE\",\n",
    "    \"iterations\": 50000,\n",
    "    \"l2_leaf_reg\": 6.065104074215131,\n",
    "    \"learning_rate\": 0.030946464122148992,\n",
    "    \"min_child_samples\": 138,\n",
    "    \"random_state\": 42,\n",
    "    \"random_strength\": 0.035251008593976785,\n",
    "    \"verbose\": False\n",
    "}\n",
    "\n",
    "ydf_params = {\n",
    "    \"num_trees\": 1000,\n",
    "    \"max_depth\": 8\n",
    "}"
   ]
  },
  {
   "cell_type": "code",
   "execution_count": 10,
   "id": "db08a74b",
   "metadata": {
    "execution": {
     "iopub.execute_input": "2025-05-03T09:02:58.886162Z",
     "iopub.status.busy": "2025-05-03T09:02:58.885869Z",
     "iopub.status.idle": "2025-05-03T09:02:58.889775Z",
     "shell.execute_reply": "2025-05-03T09:02:58.889088Z"
    },
    "papermill": {
     "duration": 0.01465,
     "end_time": "2025-05-03T09:02:58.891058",
     "exception": false,
     "start_time": "2025-05-03T09:02:58.876408",
     "status": "completed"
    },
    "tags": []
   },
   "outputs": [],
   "source": [
    "scores = {}\n",
    "oof_preds = {}\n",
    "test_preds = {}"
   ]
  },
  {
   "cell_type": "markdown",
   "id": "6dccc9c1",
   "metadata": {
    "papermill": {
     "duration": 0.008544,
     "end_time": "2025-05-03T09:02:58.908113",
     "exception": false,
     "start_time": "2025-05-03T09:02:58.899569",
     "status": "completed"
    },
    "tags": []
   },
   "source": [
    "## HistGradientBoosting"
   ]
  },
  {
   "cell_type": "code",
   "execution_count": 11,
   "id": "780485a4",
   "metadata": {
    "execution": {
     "iopub.execute_input": "2025-05-03T09:02:58.927004Z",
     "iopub.status.busy": "2025-05-03T09:02:58.926711Z",
     "iopub.status.idle": "2025-05-03T09:10:39.968339Z",
     "shell.execute_reply": "2025-05-03T09:10:39.967359Z"
    },
    "papermill": {
     "duration": 461.053086,
     "end_time": "2025-05-03T09:10:39.970227",
     "exception": false,
     "start_time": "2025-05-03T09:02:58.917141",
     "status": "completed"
    },
    "tags": []
   },
   "outputs": [
    {
     "name": "stdout",
     "output_type": "stream",
     "text": [
      "Training HistGradientBoostingRegressor\n",
      "\n",
      "--- Fold 0 - root_mean_squared_error: 0.0594 - Time: 80.47 s\n",
      "--- Fold 1 - root_mean_squared_error: 0.0605 - Time: 74.42 s\n",
      "--- Fold 2 - root_mean_squared_error: 0.0597 - Time: 80.10 s\n",
      "--- Fold 3 - root_mean_squared_error: 0.0601 - Time: 71.69 s\n",
      "--- Fold 4 - root_mean_squared_error: 0.0593 - Time: 74.49 s\n",
      "\n",
      "------ Overall root_mean_squared_error: 0.0598 - Mean root_mean_squared_error: 0.0598 ± 0.0004 - Time: 382.86 s\n"
     ]
    }
   ],
   "source": [
    "histgb_trainer = Trainer(\n",
    "    HistGradientBoostingRegressor(**histgb_params),\n",
    "    cv=CFG.cv,\n",
    "    metric=CFG.metric,\n",
    "    task=\"regression\"\n",
    ")\n",
    "\n",
    "histgb_trainer.fit(X, y, extra_X=X_original, extra_y=y_original)\n",
    "\n",
    "scores[\"HistGB\"] = histgb_trainer.fold_scores\n",
    "oof_preds[\"HistGB\"] = histgb_trainer.oof_preds\n",
    "test_preds[\"HistGB\"] = histgb_trainer.predict(X_test)"
   ]
  },
  {
   "cell_type": "markdown",
   "id": "53888f85",
   "metadata": {
    "papermill": {
     "duration": 0.008964,
     "end_time": "2025-05-03T09:10:39.988885",
     "exception": false,
     "start_time": "2025-05-03T09:10:39.979921",
     "status": "completed"
    },
    "tags": []
   },
   "source": [
    "## LightGBM (gbdt)"
   ]
  },
  {
   "cell_type": "code",
   "execution_count": 12,
   "id": "2b86e3cf",
   "metadata": {
    "execution": {
     "iopub.execute_input": "2025-05-03T09:10:40.008812Z",
     "iopub.status.busy": "2025-05-03T09:10:40.008155Z",
     "iopub.status.idle": "2025-05-03T09:15:02.683902Z",
     "shell.execute_reply": "2025-05-03T09:15:02.683166Z"
    },
    "papermill": {
     "duration": 262.687935,
     "end_time": "2025-05-03T09:15:02.685829",
     "exception": false,
     "start_time": "2025-05-03T09:10:39.997894",
     "status": "completed"
    },
    "tags": []
   },
   "outputs": [
    {
     "name": "stdout",
     "output_type": "stream",
     "text": [
      "Training LGBMRegressor\n",
      "\n",
      "Training until validation scores don't improve for 100 rounds\n",
      "Early stopping, best iteration is:\n",
      "[791]\tvalid_0's rmse: 0.0596226\tvalid_0's l2: 0.00355485\n",
      "--- Fold 0 - root_mean_squared_error: 0.0596 - Time: 25.50 s\n",
      "\n",
      "Training until validation scores don't improve for 100 rounds\n",
      "[1000]\tvalid_0's rmse: 0.0603528\tvalid_0's l2: 0.00364246\n",
      "Early stopping, best iteration is:\n",
      "[1369]\tvalid_0's rmse: 0.0603066\tvalid_0's l2: 0.00363688\n",
      "--- Fold 1 - root_mean_squared_error: 0.0603 - Time: 38.27 s\n",
      "\n",
      "Training until validation scores don't improve for 100 rounds\n",
      "[1000]\tvalid_0's rmse: 0.0596239\tvalid_0's l2: 0.00355501\n",
      "Early stopping, best iteration is:\n",
      "[1406]\tvalid_0's rmse: 0.0595985\tvalid_0's l2: 0.00355198\n",
      "--- Fold 2 - root_mean_squared_error: 0.0596 - Time: 39.95 s\n",
      "\n",
      "Training until validation scores don't improve for 100 rounds\n",
      "[1000]\tvalid_0's rmse: 0.0601725\tvalid_0's l2: 0.00362073\n",
      "[2000]\tvalid_0's rmse: 0.060028\tvalid_0's l2: 0.00360336\n",
      "Early stopping, best iteration is:\n",
      "[1918]\tvalid_0's rmse: 0.0600226\tvalid_0's l2: 0.00360271\n",
      "--- Fold 3 - root_mean_squared_error: 0.0600 - Time: 51.19 s\n",
      "\n",
      "Training until validation scores don't improve for 100 rounds\n",
      "[1000]\tvalid_0's rmse: 0.0594362\tvalid_0's l2: 0.00353266\n",
      "Early stopping, best iteration is:\n",
      "[1376]\tvalid_0's rmse: 0.0593934\tvalid_0's l2: 0.00352758\n",
      "--- Fold 4 - root_mean_squared_error: 0.0594 - Time: 39.56 s\n",
      "\n",
      "\n",
      "------ Overall root_mean_squared_error: 0.0598 - Mean root_mean_squared_error: 0.0598 ± 0.0003 - Time: 196.17 s\n"
     ]
    }
   ],
   "source": [
    "lgbm_trainer = Trainer(\n",
    "    LGBMRegressor(**lgbm_params),\n",
    "    cv=CFG.cv,\n",
    "    metric=CFG.metric,\n",
    "    use_early_stopping=True,\n",
    "    task=\"regression\"\n",
    ")\n",
    "\n",
    "fit_args = {\n",
    "    \"eval_metric\": \"rmse\",\n",
    "    \"callbacks\": [\n",
    "        log_evaluation(period=1000), \n",
    "        early_stopping(stopping_rounds=100)\n",
    "    ]\n",
    "}\n",
    "\n",
    "lgbm_trainer.fit(X, y, fit_args=fit_args, extra_X=X_original, extra_y=y_original)\n",
    "\n",
    "scores[\"LightGBM (gbdt)\"] = lgbm_trainer.fold_scores\n",
    "oof_preds[\"LightGBM (gbdt)\"] = lgbm_trainer.oof_preds\n",
    "test_preds[\"LightGBM (gbdt)\"] = lgbm_trainer.predict(X_test)"
   ]
  },
  {
   "cell_type": "markdown",
   "id": "7beaa93c",
   "metadata": {
    "papermill": {
     "duration": 0.009549,
     "end_time": "2025-05-03T09:15:02.708892",
     "exception": false,
     "start_time": "2025-05-03T09:15:02.699343",
     "status": "completed"
    },
    "tags": []
   },
   "source": [
    "## LightGBM (goss)"
   ]
  },
  {
   "cell_type": "code",
   "execution_count": 13,
   "id": "5ca923d2",
   "metadata": {
    "execution": {
     "iopub.execute_input": "2025-05-03T09:15:02.730425Z",
     "iopub.status.busy": "2025-05-03T09:15:02.730047Z",
     "iopub.status.idle": "2025-05-03T09:25:34.068477Z",
     "shell.execute_reply": "2025-05-03T09:25:34.067492Z"
    },
    "papermill": {
     "duration": 631.354623,
     "end_time": "2025-05-03T09:25:34.073534",
     "exception": false,
     "start_time": "2025-05-03T09:15:02.718911",
     "status": "completed"
    },
    "tags": []
   },
   "outputs": [
    {
     "name": "stdout",
     "output_type": "stream",
     "text": [
      "Training LGBMRegressor\n",
      "\n",
      "Training until validation scores don't improve for 100 rounds\n",
      "[1000]\tvalid_0's rmse: 0.0600588\tvalid_0's l2: 0.00360706\n",
      "[2000]\tvalid_0's rmse: 0.0597145\tvalid_0's l2: 0.00356582\n",
      "[3000]\tvalid_0's rmse: 0.0596177\tvalid_0's l2: 0.00355427\n",
      "Early stopping, best iteration is:\n",
      "[3424]\tvalid_0's rmse: 0.0595945\tvalid_0's l2: 0.0035515\n",
      "--- Fold 0 - root_mean_squared_error: 0.0596 - Time: 94.30 s\n",
      "\n",
      "Training until validation scores don't improve for 100 rounds\n",
      "[1000]\tvalid_0's rmse: 0.0607929\tvalid_0's l2: 0.00369577\n",
      "[2000]\tvalid_0's rmse: 0.0604315\tvalid_0's l2: 0.00365197\n",
      "[3000]\tvalid_0's rmse: 0.0603068\tvalid_0's l2: 0.00363691\n",
      "Early stopping, best iteration is:\n",
      "[3299]\tvalid_0's rmse: 0.0602872\tvalid_0's l2: 0.00363454\n",
      "--- Fold 1 - root_mean_squared_error: 0.0603 - Time: 90.23 s\n",
      "\n",
      "Training until validation scores don't improve for 100 rounds\n",
      "[1000]\tvalid_0's rmse: 0.0600734\tvalid_0's l2: 0.00360881\n",
      "[2000]\tvalid_0's rmse: 0.0597328\tvalid_0's l2: 0.00356801\n",
      "[3000]\tvalid_0's rmse: 0.0596015\tvalid_0's l2: 0.00355234\n",
      "[4000]\tvalid_0's rmse: 0.0595402\tvalid_0's l2: 0.00354503\n",
      "Early stopping, best iteration is:\n",
      "[4508]\tvalid_0's rmse: 0.0595248\tvalid_0's l2: 0.00354321\n",
      "--- Fold 2 - root_mean_squared_error: 0.0595 - Time: 120.36 s\n",
      "\n",
      "Training until validation scores don't improve for 100 rounds\n",
      "[1000]\tvalid_0's rmse: 0.0606943\tvalid_0's l2: 0.0036838\n",
      "[2000]\tvalid_0's rmse: 0.0602788\tvalid_0's l2: 0.00363353\n",
      "[3000]\tvalid_0's rmse: 0.0601248\tvalid_0's l2: 0.00361499\n",
      "[4000]\tvalid_0's rmse: 0.060043\tvalid_0's l2: 0.00360516\n",
      "Early stopping, best iteration is:\n",
      "[4559]\tvalid_0's rmse: 0.0600092\tvalid_0's l2: 0.00360111\n",
      "--- Fold 3 - root_mean_squared_error: 0.0600 - Time: 126.07 s\n",
      "\n",
      "Training until validation scores don't improve for 100 rounds\n",
      "[1000]\tvalid_0's rmse: 0.0597776\tvalid_0's l2: 0.00357336\n",
      "[2000]\tvalid_0's rmse: 0.0594386\tvalid_0's l2: 0.00353295\n",
      "[3000]\tvalid_0's rmse: 0.0593427\tvalid_0's l2: 0.00352156\n",
      "Early stopping, best iteration is:\n",
      "[3301]\tvalid_0's rmse: 0.0593269\tvalid_0's l2: 0.00351968\n",
      "--- Fold 4 - root_mean_squared_error: 0.0593 - Time: 90.05 s\n",
      "\n",
      "\n",
      "------ Overall root_mean_squared_error: 0.0597 - Mean root_mean_squared_error: 0.0597 ± 0.0003 - Time: 522.74 s\n"
     ]
    }
   ],
   "source": [
    "lgbm_goss_trainer = Trainer(\n",
    "    LGBMRegressor(**lgbm_goss_params),\n",
    "    cv=CFG.cv,\n",
    "    metric=CFG.metric,\n",
    "    use_early_stopping=True,\n",
    "    task=\"regression\"\n",
    ")\n",
    "\n",
    "fit_args = {\n",
    "    \"eval_metric\": \"rmse\",\n",
    "    \"callbacks\": [\n",
    "        log_evaluation(period=1000), \n",
    "        early_stopping(stopping_rounds=100)\n",
    "    ]\n",
    "}\n",
    "\n",
    "lgbm_goss_trainer.fit(X, y, fit_args=fit_args, extra_X=X_original, extra_y=y_original)\n",
    "\n",
    "scores[\"LightGBM (goss)\"] = lgbm_goss_trainer.fold_scores\n",
    "oof_preds[\"LightGBM (goss)\"] = lgbm_goss_trainer.oof_preds\n",
    "test_preds[\"LightGBM (goss)\"] = lgbm_goss_trainer.predict(X_test)"
   ]
  },
  {
   "cell_type": "markdown",
   "id": "e20637c3",
   "metadata": {
    "papermill": {
     "duration": 0.012032,
     "end_time": "2025-05-03T09:25:34.102575",
     "exception": false,
     "start_time": "2025-05-03T09:25:34.090543",
     "status": "completed"
    },
    "tags": []
   },
   "source": [
    "## XGBoost"
   ]
  },
  {
   "cell_type": "code",
   "execution_count": 14,
   "id": "1cd3d624",
   "metadata": {
    "execution": {
     "iopub.execute_input": "2025-05-03T09:25:34.127072Z",
     "iopub.status.busy": "2025-05-03T09:25:34.126756Z",
     "iopub.status.idle": "2025-05-03T09:31:25.898105Z",
     "shell.execute_reply": "2025-05-03T09:31:25.894834Z"
    },
    "papermill": {
     "duration": 351.785606,
     "end_time": "2025-05-03T09:31:25.899840",
     "exception": false,
     "start_time": "2025-05-03T09:25:34.114234",
     "status": "completed"
    },
    "tags": []
   },
   "outputs": [
    {
     "name": "stdout",
     "output_type": "stream",
     "text": [
      "Training XGBRegressor\n",
      "\n",
      "[0]\tvalidation_0-rmse:0.92856\n",
      "[1000]\tvalidation_0-rmse:0.06015\n",
      "[2000]\tvalidation_0-rmse:0.06009\n",
      "[3000]\tvalidation_0-rmse:0.06007\n",
      "[3123]\tvalidation_0-rmse:0.06006\n",
      "--- Fold 0 - root_mean_squared_error: 0.0601 - Time: 78.51 s\n",
      "\n",
      "[0]\tvalidation_0-rmse:0.93096\n",
      "[1000]\tvalidation_0-rmse:0.06137\n",
      "[2000]\tvalidation_0-rmse:0.06128\n",
      "[3000]\tvalidation_0-rmse:0.06123\n",
      "[3071]\tvalidation_0-rmse:0.06123\n",
      "--- Fold 1 - root_mean_squared_error: 0.0612 - Time: 75.53 s\n",
      "\n",
      "[0]\tvalidation_0-rmse:0.92964\n",
      "[1000]\tvalidation_0-rmse:0.06065\n",
      "[2000]\tvalidation_0-rmse:0.06056\n",
      "[3000]\tvalidation_0-rmse:0.06053\n",
      "[3091]\tvalidation_0-rmse:0.06053\n",
      "--- Fold 2 - root_mean_squared_error: 0.0605 - Time: 79.67 s\n",
      "\n",
      "[0]\tvalidation_0-rmse:0.92813\n",
      "[1000]\tvalidation_0-rmse:0.06097\n",
      "[1243]\tvalidation_0-rmse:0.06096\n",
      "--- Fold 3 - root_mean_squared_error: 0.0610 - Time: 35.72 s\n",
      "\n",
      "[0]\tvalidation_0-rmse:0.92887\n",
      "[1000]\tvalidation_0-rmse:0.06014\n",
      "[2000]\tvalidation_0-rmse:0.06007\n",
      "[2596]\tvalidation_0-rmse:0.06005\n",
      "--- Fold 4 - root_mean_squared_error: 0.0601 - Time: 67.68 s\n",
      "\n",
      "\n",
      "------ Overall root_mean_squared_error: 0.0606 - Mean root_mean_squared_error: 0.0606 ± 0.0005 - Time: 338.79 s\n"
     ]
    }
   ],
   "source": [
    "xgb_trainer = Trainer(\n",
    "    XGBRegressor(**xgb_params),\n",
    "    cv=CFG.cv,\n",
    "    metric=CFG.metric,\n",
    "    use_early_stopping=True,\n",
    "    task=\"regression\"\n",
    ")\n",
    "\n",
    "fit_args = {\n",
    "    \"verbose\": 1000\n",
    "}\n",
    "\n",
    "xgb_trainer.fit(X, y, fit_args=fit_args, extra_X=X_original, extra_y=y_original)\n",
    "\n",
    "scores[\"XGBoost\"] = xgb_trainer.fold_scores\n",
    "oof_preds[\"XGBoost\"] = xgb_trainer.oof_preds\n",
    "test_preds[\"XGBoost\"] = xgb_trainer.predict(X_test)"
   ]
  },
  {
   "cell_type": "markdown",
   "id": "9e12bca8",
   "metadata": {
    "papermill": {
     "duration": 0.011959,
     "end_time": "2025-05-03T09:31:25.932293",
     "exception": false,
     "start_time": "2025-05-03T09:31:25.920334",
     "status": "completed"
    },
    "tags": []
   },
   "source": [
    "## CatBoost"
   ]
  },
  {
   "cell_type": "code",
   "execution_count": 15,
   "id": "64b84b71",
   "metadata": {
    "execution": {
     "iopub.execute_input": "2025-05-03T09:31:25.957619Z",
     "iopub.status.busy": "2025-05-03T09:31:25.956936Z",
     "iopub.status.idle": "2025-05-03T09:43:04.719074Z",
     "shell.execute_reply": "2025-05-03T09:43:04.718243Z"
    },
    "papermill": {
     "duration": 698.776425,
     "end_time": "2025-05-03T09:43:04.720567",
     "exception": false,
     "start_time": "2025-05-03T09:31:25.944142",
     "status": "completed"
    },
    "tags": []
   },
   "outputs": [
    {
     "name": "stdout",
     "output_type": "stream",
     "text": [
      "Training CatBoostRegressor\n",
      "\n",
      "0:\tlearn: 0.9348709\ttest: 0.9341488\tbest: 0.9341488 (0)\ttotal: 152ms\tremaining: 2h 6m 21s\n",
      "1000:\tlearn: 0.0571087\ttest: 0.0593244\tbest: 0.0593244 (1000)\ttotal: 50.6s\tremaining: 41m 15s\n",
      "2000:\tlearn: 0.0560120\ttest: 0.0591679\tbest: 0.0591679 (2000)\ttotal: 1m 40s\tremaining: 40m 8s\n",
      "Stopped by overfitting detector  (100 iterations wait)\n",
      "\n",
      "bestTest = 0.05911377754\n",
      "bestIteration = 2824\n",
      "\n",
      "Shrink model to first 2825 iterations.\n",
      "--- Fold 0 - root_mean_squared_error: 0.0591 - Time: 147.00 s\n",
      "\n",
      "0:\tlearn: 0.9342850\ttest: 0.9365766\tbest: 0.9365766 (0)\ttotal: 62.7ms\tremaining: 52m 13s\n",
      "1000:\tlearn: 0.0571036\ttest: 0.0598252\tbest: 0.0598252 (1000)\ttotal: 51s\tremaining: 41m 37s\n",
      "Stopped by overfitting detector  (100 iterations wait)\n",
      "\n",
      "bestTest = 0.05966835269\n",
      "bestIteration = 1741\n",
      "\n",
      "Shrink model to first 1742 iterations.\n",
      "--- Fold 1 - root_mean_squared_error: 0.0597 - Time: 94.05 s\n",
      "\n",
      "0:\tlearn: 0.9346164\ttest: 0.9352198\tbest: 0.9352198 (0)\ttotal: 66.1ms\tremaining: 55m 5s\n",
      "1000:\tlearn: 0.0570640\ttest: 0.0593004\tbest: 0.0593004 (1000)\ttotal: 50.8s\tremaining: 41m 26s\n",
      "2000:\tlearn: 0.0559380\ttest: 0.0590550\tbest: 0.0590543 (1996)\ttotal: 1m 40s\tremaining: 40m 19s\n",
      "3000:\tlearn: 0.0551639\ttest: 0.0589824\tbest: 0.0589822 (2994)\ttotal: 2m 30s\tremaining: 39m 19s\n",
      "Stopped by overfitting detector  (100 iterations wait)\n",
      "\n",
      "bestTest = 0.05895750885\n",
      "bestIteration = 3703\n",
      "\n",
      "Shrink model to first 3704 iterations.\n",
      "--- Fold 2 - root_mean_squared_error: 0.0590 - Time: 191.08 s\n",
      "\n",
      "0:\tlearn: 0.9349691\ttest: 0.9337102\tbest: 0.9337102 (0)\ttotal: 60.3ms\tremaining: 50m 14s\n",
      "1000:\tlearn: 0.0570599\ttest: 0.0597373\tbest: 0.0597373 (1000)\ttotal: 49.7s\tremaining: 40m 33s\n",
      "2000:\tlearn: 0.0560408\ttest: 0.0595997\tbest: 0.0595980 (1976)\ttotal: 1m 39s\tremaining: 39m 53s\n",
      "3000:\tlearn: 0.0552776\ttest: 0.0595437\tbest: 0.0595417 (2940)\ttotal: 2m 29s\tremaining: 38m 59s\n",
      "Stopped by overfitting detector  (100 iterations wait)\n",
      "\n",
      "bestTest = 0.0595416905\n",
      "bestIteration = 2940\n",
      "\n",
      "Shrink model to first 2941 iterations.\n",
      "--- Fold 3 - root_mean_squared_error: 0.0595 - Time: 152.68 s\n",
      "\n",
      "0:\tlearn: 0.9347914\ttest: 0.9344284\tbest: 0.9344284 (0)\ttotal: 91ms\tremaining: 1h 15m 48s\n",
      "1000:\tlearn: 0.0572454\ttest: 0.0590697\tbest: 0.0590697 (1000)\ttotal: 50.6s\tremaining: 41m 15s\n",
      "2000:\tlearn: 0.0561135\ttest: 0.0589142\tbest: 0.0589119 (1987)\ttotal: 1m 40s\tremaining: 40m 17s\n",
      "Stopped by overfitting detector  (100 iterations wait)\n",
      "\n",
      "bestTest = 0.05891120084\n",
      "bestIteration = 2077\n",
      "\n",
      "Shrink model to first 2078 iterations.\n",
      "--- Fold 4 - root_mean_squared_error: 0.0589 - Time: 110.27 s\n",
      "\n",
      "\n",
      "------ Overall root_mean_squared_error: 0.0592 - Mean root_mean_squared_error: 0.0592 ± 0.0003 - Time: 696.81 s\n"
     ]
    }
   ],
   "source": [
    "cb_trainer = Trainer(\n",
    "    CatBoostRegressor(**cb_params),\n",
    "    cv=CFG.cv,\n",
    "    metric=CFG.metric,\n",
    "    use_early_stopping=True,\n",
    "    task=\"regression\"\n",
    ")\n",
    "\n",
    "fit_args = {\n",
    "    \"verbose\": 1000,\n",
    "    \"early_stopping_rounds\": 100,\n",
    "    \"use_best_model\": True\n",
    "}\n",
    "\n",
    "cb_trainer.fit(X, y, fit_args=fit_args, extra_X=X_original, extra_y=y_original)\n",
    "\n",
    "scores[\"CatBoost\"] = cb_trainer.fold_scores\n",
    "oof_preds[\"CatBoost\"] = cb_trainer.oof_preds\n",
    "test_preds[\"CatBoost\"] = cb_trainer.predict(X_test)"
   ]
  },
  {
   "cell_type": "markdown",
   "id": "516dcc0b",
   "metadata": {
    "papermill": {
     "duration": 0.013513,
     "end_time": "2025-05-03T09:43:04.748884",
     "exception": false,
     "start_time": "2025-05-03T09:43:04.735371",
     "status": "completed"
    },
    "tags": []
   },
   "source": [
    "## AutoGluon"
   ]
  },
  {
   "cell_type": "code",
   "execution_count": 16,
   "id": "303020b4",
   "metadata": {
    "execution": {
     "iopub.execute_input": "2025-05-03T09:43:04.779164Z",
     "iopub.status.busy": "2025-05-03T09:43:04.778845Z",
     "iopub.status.idle": "2025-05-03T09:43:05.003995Z",
     "shell.execute_reply": "2025-05-03T09:43:05.003301Z"
    },
    "papermill": {
     "duration": 0.242321,
     "end_time": "2025-05-03T09:43:05.005492",
     "exception": false,
     "start_time": "2025-05-03T09:43:04.763171",
     "status": "completed"
    },
    "tags": []
   },
   "outputs": [],
   "source": [
    "oof_preds_files = glob.glob(f'/kaggle/input/s05e05-calorie-expenditure-prediction-automl/*_oof_preds_*.pkl')\n",
    "test_preds_files = glob.glob(f'/kaggle/input/s05e05-calorie-expenditure-prediction-automl/*_test_preds_*.pkl')\n",
    "\n",
    "ag_oof_preds = np.log1p(joblib.load(oof_preds_files[0]))\n",
    "ag_test_preds = np.log1p(joblib.load(test_preds_files[0]))\n",
    "\n",
    "ag_scores = []\n",
    "split = KFold(n_splits=CFG.n_folds, random_state=CFG.seed, shuffle=True).split(X, y)\n",
    "for _, val_idx in split:\n",
    "    y_val = y[val_idx]\n",
    "    y_preds = ag_oof_preds[val_idx]   \n",
    "    score = root_mean_squared_error(y_preds, y_val)\n",
    "    ag_scores.append(score)\n",
    "    \n",
    "oof_preds[\"AutoGluon\"], test_preds[\"AutoGluon\"], scores[\"AutoGluon\"] = ag_oof_preds, ag_test_preds, ag_scores"
   ]
  },
  {
   "cell_type": "markdown",
   "id": "f6f03e71",
   "metadata": {
    "papermill": {
     "duration": 0.014245,
     "end_time": "2025-05-03T09:43:05.034190",
     "exception": false,
     "start_time": "2025-05-03T09:43:05.019945",
     "status": "completed"
    },
    "tags": []
   },
   "source": [
    "## Yggdrasil"
   ]
  },
  {
   "cell_type": "code",
   "execution_count": 17,
   "id": "3d61f575",
   "metadata": {
    "execution": {
     "iopub.execute_input": "2025-05-03T09:43:05.064133Z",
     "iopub.status.busy": "2025-05-03T09:43:05.063819Z",
     "iopub.status.idle": "2025-05-03T09:43:05.070943Z",
     "shell.execute_reply": "2025-05-03T09:43:05.070100Z"
    },
    "papermill": {
     "duration": 0.02384,
     "end_time": "2025-05-03T09:43:05.072307",
     "exception": false,
     "start_time": "2025-05-03T09:43:05.048467",
     "status": "completed"
    },
    "tags": []
   },
   "outputs": [],
   "source": [
    "def YDFRegressor(learner_class):\n",
    "\n",
    "    class YDFXRegressor(BaseEstimator, RegressorMixin):\n",
    "\n",
    "        def __init__(self, params={}):\n",
    "            self.params = params\n",
    "\n",
    "        def fit(self, X, y):\n",
    "            assert isinstance(X, pd.DataFrame)\n",
    "            assert isinstance(y, pd.Series)\n",
    "            target = y.name\n",
    "            params = self.params.copy()\n",
    "            params['label'] = target\n",
    "            params['task'] = ydf.Task.REGRESSION\n",
    "            X = pd.concat([X, y], axis=1)\n",
    "            with contextlib.redirect_stderr(io.StringIO()), contextlib.redirect_stdout(io.StringIO()):\n",
    "                self.model = learner_class(**params).train(X)\n",
    "            return self\n",
    "\n",
    "        def predict(self, X):\n",
    "            assert isinstance(X, pd.DataFrame)\n",
    "            with contextlib.redirect_stderr(io.StringIO()), contextlib.redirect_stdout(io.StringIO()):\n",
    "                return self.model.predict(X)\n",
    "\n",
    "    return YDFXRegressor"
   ]
  },
  {
   "cell_type": "code",
   "execution_count": 18,
   "id": "2595a5ad",
   "metadata": {
    "execution": {
     "iopub.execute_input": "2025-05-03T09:43:05.102494Z",
     "iopub.status.busy": "2025-05-03T09:43:05.102203Z",
     "iopub.status.idle": "2025-05-03T09:51:40.600065Z",
     "shell.execute_reply": "2025-05-03T09:51:40.599152Z"
    },
    "papermill": {
     "duration": 515.514966,
     "end_time": "2025-05-03T09:51:40.601696",
     "exception": false,
     "start_time": "2025-05-03T09:43:05.086730",
     "status": "completed"
    },
    "tags": []
   },
   "outputs": [
    {
     "name": "stdout",
     "output_type": "stream",
     "text": [
      "Training YDFXRegressor\n",
      "\n",
      "--- Fold 0 - root_mean_squared_error: 0.0604 - Time: 114.19 s\n",
      "--- Fold 1 - root_mean_squared_error: 0.0608 - Time: 105.90 s\n",
      "--- Fold 2 - root_mean_squared_error: 0.0603 - Time: 70.91 s\n",
      "--- Fold 3 - root_mean_squared_error: 0.0612 - Time: 91.03 s\n",
      "--- Fold 4 - root_mean_squared_error: 0.0602 - Time: 125.65 s\n",
      "\n",
      "------ Overall root_mean_squared_error: 0.0606 - Mean root_mean_squared_error: 0.0606 ± 0.0004 - Time: 509.38 s\n"
     ]
    }
   ],
   "source": [
    "ydf_trainer = Trainer(\n",
    "    YDFRegressor(GradientBoostedTreesLearner)(ydf_params),\n",
    "    cv=CFG.cv,\n",
    "    metric=CFG.metric,\n",
    "    task=\"regression\"\n",
    ")\n",
    "\n",
    "ydf_trainer.fit(X, y, extra_X=X_original, extra_y=y_original)\n",
    "\n",
    "scores[\"Yggdrasil\"] = ydf_trainer.fold_scores\n",
    "oof_preds[\"Yggdrasil\"] = ydf_trainer.oof_preds\n",
    "test_preds[\"Yggdrasil\"] = ydf_trainer.predict(X_test)"
   ]
  },
  {
   "cell_type": "markdown",
   "id": "eccbf542",
   "metadata": {
    "papermill": {
     "duration": 0.015442,
     "end_time": "2025-05-03T09:51:40.633129",
     "exception": false,
     "start_time": "2025-05-03T09:51:40.617687",
     "status": "completed"
    },
    "tags": []
   },
   "source": [
    "## Neural networks"
   ]
  },
  {
   "cell_type": "code",
   "execution_count": 19,
   "id": "21905860",
   "metadata": {
    "execution": {
     "iopub.execute_input": "2025-05-03T09:51:40.665634Z",
     "iopub.status.busy": "2025-05-03T09:51:40.665284Z",
     "iopub.status.idle": "2025-05-03T09:51:41.338334Z",
     "shell.execute_reply": "2025-05-03T09:51:41.337280Z"
    },
    "papermill": {
     "duration": 0.691506,
     "end_time": "2025-05-03T09:51:41.340253",
     "exception": false,
     "start_time": "2025-05-03T09:51:40.648747",
     "status": "completed"
    },
    "tags": []
   },
   "outputs": [],
   "source": [
    "train = pd.read_csv(CFG.train_path, index_col=\"id\")\n",
    "test = pd.read_csv(CFG.test_path, index_col=\"id\")\n",
    "original = pd.read_csv(CFG.original_path, index_col=\"User_ID\")\n",
    "original = original.rename(columns={\"Gender\": \"Sex\"})\n",
    "\n",
    "X = train.drop(CFG.target, axis=1)\n",
    "y = np.log1p(train[CFG.target])\n",
    "X_test = test\n",
    "\n",
    "X_original = original.drop(CFG.target, axis=1)\n",
    "y_original = np.log1p(original[CFG.target])"
   ]
  },
  {
   "cell_type": "code",
   "execution_count": 20,
   "id": "45f6994a",
   "metadata": {
    "execution": {
     "iopub.execute_input": "2025-05-03T09:51:41.375191Z",
     "iopub.status.busy": "2025-05-03T09:51:41.374193Z",
     "iopub.status.idle": "2025-05-03T09:51:41.884050Z",
     "shell.execute_reply": "2025-05-03T09:51:41.883259Z"
    },
    "papermill": {
     "duration": 0.527511,
     "end_time": "2025-05-03T09:51:41.885651",
     "exception": false,
     "start_time": "2025-05-03T09:51:41.358140",
     "status": "completed"
    },
    "tags": []
   },
   "outputs": [],
   "source": [
    "pipeline = make_pipeline(\n",
    "    ColumnTransformer(\n",
    "        [\n",
    "            ('one-hot-encode', OneHotEncoder(drop='first', sparse_output=False, dtype=np.float32, handle_unknown='ignore'), ['Sex']),\n",
    "            \n",
    "        ],\n",
    "        remainder=StandardScaler()\n",
    "    )\n",
    ").set_output(transform='pandas')\n",
    "\n",
    "X = pipeline.fit_transform(X, y)\n",
    "X_test = pipeline.transform(X_test)\n",
    "X_original = pipeline.transform(X_original)"
   ]
  },
  {
   "cell_type": "code",
   "execution_count": 21,
   "id": "0d6da711",
   "metadata": {
    "execution": {
     "iopub.execute_input": "2025-05-03T09:51:41.918387Z",
     "iopub.status.busy": "2025-05-03T09:51:41.917324Z",
     "iopub.status.idle": "2025-05-03T09:51:41.923226Z",
     "shell.execute_reply": "2025-05-03T09:51:41.922360Z"
    },
    "papermill": {
     "duration": 0.023198,
     "end_time": "2025-05-03T09:51:41.924443",
     "exception": false,
     "start_time": "2025-05-03T09:51:41.901245",
     "status": "completed"
    },
    "tags": []
   },
   "outputs": [],
   "source": [
    "def get_model(meta):\n",
    "    model = keras.models.Sequential()\n",
    "    model.add(keras.layers.Input(meta[\"X_shape_\"][1:]))\n",
    "    model.add(keras.layers.Dense(256, kernel_initializer='lecun_normal', activation='selu'))\n",
    "    model.add(keras.layers.Dense(128, kernel_initializer='lecun_normal', activation='selu'))\n",
    "    model.add(keras.layers.Dense(64, kernel_initializer='lecun_normal', activation='selu'))\n",
    "    model.add(keras.layers.Dense(1))\n",
    "    return model"
   ]
  },
  {
   "cell_type": "code",
   "execution_count": 22,
   "id": "438268d2",
   "metadata": {
    "execution": {
     "iopub.execute_input": "2025-05-03T09:51:41.958657Z",
     "iopub.status.busy": "2025-05-03T09:51:41.958121Z",
     "iopub.status.idle": "2025-05-03T09:51:42.044676Z",
     "shell.execute_reply": "2025-05-03T09:51:42.043452Z"
    },
    "papermill": {
     "duration": 0.106993,
     "end_time": "2025-05-03T09:51:42.046114",
     "exception": false,
     "start_time": "2025-05-03T09:51:41.939121",
     "status": "completed"
    },
    "tags": []
   },
   "outputs": [
    {
     "name": "stderr",
     "output_type": "stream",
     "text": [
      "2025-05-03 09:51:41.968510: E external/local_xla/xla/stream_executor/cuda/cuda_driver.cc:152] failed call to cuInit: INTERNAL: CUDA error: Failed call to cuInit: UNKNOWN ERROR (303)\n"
     ]
    }
   ],
   "source": [
    "nn_model = KerasRegressor(\n",
    "    get_model,\n",
    "    loss=\"mean_squared_error\",\n",
    "    random_state=CFG.seed,\n",
    "    metrics=[keras.metrics.RootMeanSquaredError(name='rmse')],\n",
    "    optimizer=keras.optimizers.AdamW(learning_rate=0.001),\n",
    "    validation_batch_size=65536,\n",
    "    validation_split=0.1,\n",
    "    batch_size=1024,\n",
    "    epochs=100, \n",
    "    verbose=0,\n",
    "    callbacks=[\n",
    "        keras.callbacks.EarlyStopping(monitor='val_rmse', patience=7, restore_best_weights=True),\n",
    "        keras.callbacks.ReduceLROnPlateau(monitor='val_rmse', patience=3, factor=0.3)\n",
    "    ]\n",
    ")"
   ]
  },
  {
   "cell_type": "code",
   "execution_count": 23,
   "id": "e08df76a",
   "metadata": {
    "execution": {
     "iopub.execute_input": "2025-05-03T09:51:42.077867Z",
     "iopub.status.busy": "2025-05-03T09:51:42.077101Z",
     "iopub.status.idle": "2025-05-03T09:51:42.081303Z",
     "shell.execute_reply": "2025-05-03T09:51:42.080470Z"
    },
    "papermill": {
     "duration": 0.021048,
     "end_time": "2025-05-03T09:51:42.082554",
     "exception": false,
     "start_time": "2025-05-03T09:51:42.061506",
     "status": "completed"
    },
    "tags": []
   },
   "outputs": [],
   "source": [
    "nn_bag = BaggingRegressor(\n",
    "    nn_model,\n",
    "    n_estimators=5,\n",
    "    random_state=CFG.seed,\n",
    ")"
   ]
  },
  {
   "cell_type": "code",
   "execution_count": 24,
   "id": "7a4cb74e",
   "metadata": {
    "_kg_hide-output": true,
    "execution": {
     "iopub.execute_input": "2025-05-03T09:51:42.113183Z",
     "iopub.status.busy": "2025-05-03T09:51:42.112492Z",
     "iopub.status.idle": "2025-05-03T11:01:56.705156Z",
     "shell.execute_reply": "2025-05-03T11:01:56.704234Z"
    },
    "papermill": {
     "duration": 4214.609414,
     "end_time": "2025-05-03T11:01:56.706841",
     "exception": false,
     "start_time": "2025-05-03T09:51:42.097427",
     "status": "completed"
    },
    "tags": []
   },
   "outputs": [
    {
     "name": "stdout",
     "output_type": "stream",
     "text": [
      "Training BaggingRegressor\n",
      "\n"
     ]
    },
    {
     "name": "stderr",
     "output_type": "stream",
     "text": [
      "2025-05-03 09:51:42.597530: E tensorflow/core/framework/node_def_util.cc:676] NodeDef mentions attribute use_unbounded_threadpool which is not in the op definition: Op<name=MapDataset; signature=input_dataset:variant, other_arguments: -> handle:variant; attr=f:func; attr=Targuments:list(type),min=0; attr=output_types:list(type),min=1; attr=output_shapes:list(shape),min=1; attr=use_inter_op_parallelism:bool,default=true; attr=preserve_cardinality:bool,default=false; attr=force_synchronous:bool,default=false; attr=metadata:string,default=\"\"> This may be expected if your graph generating binary is newer  than this binary. Unknown attributes will be ignored. NodeDef: {{node ParallelMapDatasetV2/_16}}\n",
      "2025-05-03 09:53:49.339973: E tensorflow/core/framework/node_def_util.cc:676] NodeDef mentions attribute use_unbounded_threadpool which is not in the op definition: Op<name=MapDataset; signature=input_dataset:variant, other_arguments: -> handle:variant; attr=f:func; attr=Targuments:list(type),min=0; attr=output_types:list(type),min=1; attr=output_shapes:list(shape),min=1; attr=use_inter_op_parallelism:bool,default=true; attr=preserve_cardinality:bool,default=false; attr=force_synchronous:bool,default=false; attr=metadata:string,default=\"\"> This may be expected if your graph generating binary is newer  than this binary. Unknown attributes will be ignored. NodeDef: {{node ParallelMapDatasetV2/_16}}\n",
      "2025-05-03 09:57:38.164974: E tensorflow/core/framework/node_def_util.cc:676] NodeDef mentions attribute use_unbounded_threadpool which is not in the op definition: Op<name=MapDataset; signature=input_dataset:variant, other_arguments: -> handle:variant; attr=f:func; attr=Targuments:list(type),min=0; attr=output_types:list(type),min=1; attr=output_shapes:list(shape),min=1; attr=use_inter_op_parallelism:bool,default=true; attr=preserve_cardinality:bool,default=false; attr=force_synchronous:bool,default=false; attr=metadata:string,default=\"\"> This may be expected if your graph generating binary is newer  than this binary. Unknown attributes will be ignored. NodeDef: {{node ParallelMapDatasetV2/_16}}\n",
      "2025-05-03 10:00:01.552544: E tensorflow/core/framework/node_def_util.cc:676] NodeDef mentions attribute use_unbounded_threadpool which is not in the op definition: Op<name=MapDataset; signature=input_dataset:variant, other_arguments: -> handle:variant; attr=f:func; attr=Targuments:list(type),min=0; attr=output_types:list(type),min=1; attr=output_shapes:list(shape),min=1; attr=use_inter_op_parallelism:bool,default=true; attr=preserve_cardinality:bool,default=false; attr=force_synchronous:bool,default=false; attr=metadata:string,default=\"\"> This may be expected if your graph generating binary is newer  than this binary. Unknown attributes will be ignored. NodeDef: {{node ParallelMapDatasetV2/_16}}\n",
      "2025-05-03 10:02:11.121929: E tensorflow/core/framework/node_def_util.cc:676] NodeDef mentions attribute use_unbounded_threadpool which is not in the op definition: Op<name=MapDataset; signature=input_dataset:variant, other_arguments: -> handle:variant; attr=f:func; attr=Targuments:list(type),min=0; attr=output_types:list(type),min=1; attr=output_shapes:list(shape),min=1; attr=use_inter_op_parallelism:bool,default=true; attr=preserve_cardinality:bool,default=false; attr=force_synchronous:bool,default=false; attr=metadata:string,default=\"\"> This may be expected if your graph generating binary is newer  than this binary. Unknown attributes will be ignored. NodeDef: {{node ParallelMapDatasetV2/_16}}\n",
      "2025-05-03 10:04:42.064522: E tensorflow/core/framework/node_def_util.cc:676] NodeDef mentions attribute use_unbounded_threadpool which is not in the op definition: Op<name=MapDataset; signature=input_dataset:variant, other_arguments: -> handle:variant; attr=f:func; attr=Targuments:list(type),min=0; attr=output_types:list(type),min=1; attr=output_shapes:list(shape),min=1; attr=use_inter_op_parallelism:bool,default=true; attr=preserve_cardinality:bool,default=false; attr=force_synchronous:bool,default=false; attr=metadata:string,default=\"\"> This may be expected if your graph generating binary is newer  than this binary. Unknown attributes will be ignored. NodeDef: {{node ParallelMapDatasetV2/_14}}\n"
     ]
    },
    {
     "name": "stdout",
     "output_type": "stream",
     "text": [
      "--- Fold 0 - root_mean_squared_error: 0.0611 - Time: 783.63 s\n"
     ]
    },
    {
     "name": "stderr",
     "output_type": "stream",
     "text": [
      "2025-05-03 10:04:50.683268: E tensorflow/core/framework/node_def_util.cc:676] NodeDef mentions attribute use_unbounded_threadpool which is not in the op definition: Op<name=MapDataset; signature=input_dataset:variant, other_arguments: -> handle:variant; attr=f:func; attr=Targuments:list(type),min=0; attr=output_types:list(type),min=1; attr=output_shapes:list(shape),min=1; attr=use_inter_op_parallelism:bool,default=true; attr=preserve_cardinality:bool,default=false; attr=force_synchronous:bool,default=false; attr=metadata:string,default=\"\"> This may be expected if your graph generating binary is newer  than this binary. Unknown attributes will be ignored. NodeDef: {{node ParallelMapDatasetV2/_16}}\n",
      "2025-05-03 10:07:17.837012: E tensorflow/core/framework/node_def_util.cc:676] NodeDef mentions attribute use_unbounded_threadpool which is not in the op definition: Op<name=MapDataset; signature=input_dataset:variant, other_arguments: -> handle:variant; attr=f:func; attr=Targuments:list(type),min=0; attr=output_types:list(type),min=1; attr=output_shapes:list(shape),min=1; attr=use_inter_op_parallelism:bool,default=true; attr=preserve_cardinality:bool,default=false; attr=force_synchronous:bool,default=false; attr=metadata:string,default=\"\"> This may be expected if your graph generating binary is newer  than this binary. Unknown attributes will be ignored. NodeDef: {{node ParallelMapDatasetV2/_16}}\n",
      "2025-05-03 10:10:37.387373: E tensorflow/core/framework/node_def_util.cc:676] NodeDef mentions attribute use_unbounded_threadpool which is not in the op definition: Op<name=MapDataset; signature=input_dataset:variant, other_arguments: -> handle:variant; attr=f:func; attr=Targuments:list(type),min=0; attr=output_types:list(type),min=1; attr=output_shapes:list(shape),min=1; attr=use_inter_op_parallelism:bool,default=true; attr=preserve_cardinality:bool,default=false; attr=force_synchronous:bool,default=false; attr=metadata:string,default=\"\"> This may be expected if your graph generating binary is newer  than this binary. Unknown attributes will be ignored. NodeDef: {{node ParallelMapDatasetV2/_16}}\n",
      "2025-05-03 10:14:18.908624: E tensorflow/core/framework/node_def_util.cc:676] NodeDef mentions attribute use_unbounded_threadpool which is not in the op definition: Op<name=MapDataset; signature=input_dataset:variant, other_arguments: -> handle:variant; attr=f:func; attr=Targuments:list(type),min=0; attr=output_types:list(type),min=1; attr=output_shapes:list(shape),min=1; attr=use_inter_op_parallelism:bool,default=true; attr=preserve_cardinality:bool,default=false; attr=force_synchronous:bool,default=false; attr=metadata:string,default=\"\"> This may be expected if your graph generating binary is newer  than this binary. Unknown attributes will be ignored. NodeDef: {{node ParallelMapDatasetV2/_16}}\n",
      "2025-05-03 10:16:25.387410: E tensorflow/core/framework/node_def_util.cc:676] NodeDef mentions attribute use_unbounded_threadpool which is not in the op definition: Op<name=MapDataset; signature=input_dataset:variant, other_arguments: -> handle:variant; attr=f:func; attr=Targuments:list(type),min=0; attr=output_types:list(type),min=1; attr=output_shapes:list(shape),min=1; attr=use_inter_op_parallelism:bool,default=true; attr=preserve_cardinality:bool,default=false; attr=force_synchronous:bool,default=false; attr=metadata:string,default=\"\"> This may be expected if your graph generating binary is newer  than this binary. Unknown attributes will be ignored. NodeDef: {{node ParallelMapDatasetV2/_16}}\n",
      "2025-05-03 10:20:17.206422: E tensorflow/core/framework/node_def_util.cc:676] NodeDef mentions attribute use_unbounded_threadpool which is not in the op definition: Op<name=MapDataset; signature=input_dataset:variant, other_arguments: -> handle:variant; attr=f:func; attr=Targuments:list(type),min=0; attr=output_types:list(type),min=1; attr=output_shapes:list(shape),min=1; attr=use_inter_op_parallelism:bool,default=true; attr=preserve_cardinality:bool,default=false; attr=force_synchronous:bool,default=false; attr=metadata:string,default=\"\"> This may be expected if your graph generating binary is newer  than this binary. Unknown attributes will be ignored. NodeDef: {{node ParallelMapDatasetV2/_14}}\n"
     ]
    },
    {
     "name": "stdout",
     "output_type": "stream",
     "text": [
      "--- Fold 1 - root_mean_squared_error: 0.0622 - Time: 934.42 s\n"
     ]
    },
    {
     "name": "stderr",
     "output_type": "stream",
     "text": [
      "2025-05-03 10:20:25.584229: E tensorflow/core/framework/node_def_util.cc:676] NodeDef mentions attribute use_unbounded_threadpool which is not in the op definition: Op<name=MapDataset; signature=input_dataset:variant, other_arguments: -> handle:variant; attr=f:func; attr=Targuments:list(type),min=0; attr=output_types:list(type),min=1; attr=output_shapes:list(shape),min=1; attr=use_inter_op_parallelism:bool,default=true; attr=preserve_cardinality:bool,default=false; attr=force_synchronous:bool,default=false; attr=metadata:string,default=\"\"> This may be expected if your graph generating binary is newer  than this binary. Unknown attributes will be ignored. NodeDef: {{node ParallelMapDatasetV2/_16}}\n",
      "2025-05-03 10:23:27.310434: E tensorflow/core/framework/node_def_util.cc:676] NodeDef mentions attribute use_unbounded_threadpool which is not in the op definition: Op<name=MapDataset; signature=input_dataset:variant, other_arguments: -> handle:variant; attr=f:func; attr=Targuments:list(type),min=0; attr=output_types:list(type),min=1; attr=output_shapes:list(shape),min=1; attr=use_inter_op_parallelism:bool,default=true; attr=preserve_cardinality:bool,default=false; attr=force_synchronous:bool,default=false; attr=metadata:string,default=\"\"> This may be expected if your graph generating binary is newer  than this binary. Unknown attributes will be ignored. NodeDef: {{node ParallelMapDatasetV2/_16}}\n",
      "2025-05-03 10:25:18.777731: E tensorflow/core/framework/node_def_util.cc:676] NodeDef mentions attribute use_unbounded_threadpool which is not in the op definition: Op<name=MapDataset; signature=input_dataset:variant, other_arguments: -> handle:variant; attr=f:func; attr=Targuments:list(type),min=0; attr=output_types:list(type),min=1; attr=output_shapes:list(shape),min=1; attr=use_inter_op_parallelism:bool,default=true; attr=preserve_cardinality:bool,default=false; attr=force_synchronous:bool,default=false; attr=metadata:string,default=\"\"> This may be expected if your graph generating binary is newer  than this binary. Unknown attributes will be ignored. NodeDef: {{node ParallelMapDatasetV2/_16}}\n",
      "2025-05-03 10:28:00.150726: E tensorflow/core/framework/node_def_util.cc:676] NodeDef mentions attribute use_unbounded_threadpool which is not in the op definition: Op<name=MapDataset; signature=input_dataset:variant, other_arguments: -> handle:variant; attr=f:func; attr=Targuments:list(type),min=0; attr=output_types:list(type),min=1; attr=output_shapes:list(shape),min=1; attr=use_inter_op_parallelism:bool,default=true; attr=preserve_cardinality:bool,default=false; attr=force_synchronous:bool,default=false; attr=metadata:string,default=\"\"> This may be expected if your graph generating binary is newer  than this binary. Unknown attributes will be ignored. NodeDef: {{node ParallelMapDatasetV2/_16}}\n",
      "2025-05-03 10:30:58.915810: E tensorflow/core/framework/node_def_util.cc:676] NodeDef mentions attribute use_unbounded_threadpool which is not in the op definition: Op<name=MapDataset; signature=input_dataset:variant, other_arguments: -> handle:variant; attr=f:func; attr=Targuments:list(type),min=0; attr=output_types:list(type),min=1; attr=output_shapes:list(shape),min=1; attr=use_inter_op_parallelism:bool,default=true; attr=preserve_cardinality:bool,default=false; attr=force_synchronous:bool,default=false; attr=metadata:string,default=\"\"> This may be expected if your graph generating binary is newer  than this binary. Unknown attributes will be ignored. NodeDef: {{node ParallelMapDatasetV2/_16}}\n",
      "2025-05-03 10:34:43.677065: E tensorflow/core/framework/node_def_util.cc:676] NodeDef mentions attribute use_unbounded_threadpool which is not in the op definition: Op<name=MapDataset; signature=input_dataset:variant, other_arguments: -> handle:variant; attr=f:func; attr=Targuments:list(type),min=0; attr=output_types:list(type),min=1; attr=output_shapes:list(shape),min=1; attr=use_inter_op_parallelism:bool,default=true; attr=preserve_cardinality:bool,default=false; attr=force_synchronous:bool,default=false; attr=metadata:string,default=\"\"> This may be expected if your graph generating binary is newer  than this binary. Unknown attributes will be ignored. NodeDef: {{node ParallelMapDatasetV2/_14}}\n"
     ]
    },
    {
     "name": "stdout",
     "output_type": "stream",
     "text": [
      "--- Fold 2 - root_mean_squared_error: 0.0614 - Time: 865.89 s\n"
     ]
    },
    {
     "name": "stderr",
     "output_type": "stream",
     "text": [
      "2025-05-03 10:34:52.199248: E tensorflow/core/framework/node_def_util.cc:676] NodeDef mentions attribute use_unbounded_threadpool which is not in the op definition: Op<name=MapDataset; signature=input_dataset:variant, other_arguments: -> handle:variant; attr=f:func; attr=Targuments:list(type),min=0; attr=output_types:list(type),min=1; attr=output_shapes:list(shape),min=1; attr=use_inter_op_parallelism:bool,default=true; attr=preserve_cardinality:bool,default=false; attr=force_synchronous:bool,default=false; attr=metadata:string,default=\"\"> This may be expected if your graph generating binary is newer  than this binary. Unknown attributes will be ignored. NodeDef: {{node ParallelMapDatasetV2/_16}}\n",
      "2025-05-03 10:38:35.052959: E tensorflow/core/framework/node_def_util.cc:676] NodeDef mentions attribute use_unbounded_threadpool which is not in the op definition: Op<name=MapDataset; signature=input_dataset:variant, other_arguments: -> handle:variant; attr=f:func; attr=Targuments:list(type),min=0; attr=output_types:list(type),min=1; attr=output_shapes:list(shape),min=1; attr=use_inter_op_parallelism:bool,default=true; attr=preserve_cardinality:bool,default=false; attr=force_synchronous:bool,default=false; attr=metadata:string,default=\"\"> This may be expected if your graph generating binary is newer  than this binary. Unknown attributes will be ignored. NodeDef: {{node ParallelMapDatasetV2/_16}}\n",
      "2025-05-03 10:41:09.380738: E tensorflow/core/framework/node_def_util.cc:676] NodeDef mentions attribute use_unbounded_threadpool which is not in the op definition: Op<name=MapDataset; signature=input_dataset:variant, other_arguments: -> handle:variant; attr=f:func; attr=Targuments:list(type),min=0; attr=output_types:list(type),min=1; attr=output_shapes:list(shape),min=1; attr=use_inter_op_parallelism:bool,default=true; attr=preserve_cardinality:bool,default=false; attr=force_synchronous:bool,default=false; attr=metadata:string,default=\"\"> This may be expected if your graph generating binary is newer  than this binary. Unknown attributes will be ignored. NodeDef: {{node ParallelMapDatasetV2/_16}}\n",
      "2025-05-03 10:43:48.790948: E tensorflow/core/framework/node_def_util.cc:676] NodeDef mentions attribute use_unbounded_threadpool which is not in the op definition: Op<name=MapDataset; signature=input_dataset:variant, other_arguments: -> handle:variant; attr=f:func; attr=Targuments:list(type),min=0; attr=output_types:list(type),min=1; attr=output_shapes:list(shape),min=1; attr=use_inter_op_parallelism:bool,default=true; attr=preserve_cardinality:bool,default=false; attr=force_synchronous:bool,default=false; attr=metadata:string,default=\"\"> This may be expected if your graph generating binary is newer  than this binary. Unknown attributes will be ignored. NodeDef: {{node ParallelMapDatasetV2/_16}}\n",
      "2025-05-03 10:47:42.998716: E tensorflow/core/framework/node_def_util.cc:676] NodeDef mentions attribute use_unbounded_threadpool which is not in the op definition: Op<name=MapDataset; signature=input_dataset:variant, other_arguments: -> handle:variant; attr=f:func; attr=Targuments:list(type),min=0; attr=output_types:list(type),min=1; attr=output_shapes:list(shape),min=1; attr=use_inter_op_parallelism:bool,default=true; attr=preserve_cardinality:bool,default=false; attr=force_synchronous:bool,default=false; attr=metadata:string,default=\"\"> This may be expected if your graph generating binary is newer  than this binary. Unknown attributes will be ignored. NodeDef: {{node ParallelMapDatasetV2/_16}}\n",
      "2025-05-03 10:50:05.724748: E tensorflow/core/framework/node_def_util.cc:676] NodeDef mentions attribute use_unbounded_threadpool which is not in the op definition: Op<name=MapDataset; signature=input_dataset:variant, other_arguments: -> handle:variant; attr=f:func; attr=Targuments:list(type),min=0; attr=output_types:list(type),min=1; attr=output_shapes:list(shape),min=1; attr=use_inter_op_parallelism:bool,default=true; attr=preserve_cardinality:bool,default=false; attr=force_synchronous:bool,default=false; attr=metadata:string,default=\"\"> This may be expected if your graph generating binary is newer  than this binary. Unknown attributes will be ignored. NodeDef: {{node ParallelMapDatasetV2/_14}}\n"
     ]
    },
    {
     "name": "stdout",
     "output_type": "stream",
     "text": [
      "--- Fold 3 - root_mean_squared_error: 0.0618 - Time: 921.61 s\n"
     ]
    },
    {
     "name": "stderr",
     "output_type": "stream",
     "text": [
      "2025-05-03 10:50:14.553957: E tensorflow/core/framework/node_def_util.cc:676] NodeDef mentions attribute use_unbounded_threadpool which is not in the op definition: Op<name=MapDataset; signature=input_dataset:variant, other_arguments: -> handle:variant; attr=f:func; attr=Targuments:list(type),min=0; attr=output_types:list(type),min=1; attr=output_shapes:list(shape),min=1; attr=use_inter_op_parallelism:bool,default=true; attr=preserve_cardinality:bool,default=false; attr=force_synchronous:bool,default=false; attr=metadata:string,default=\"\"> This may be expected if your graph generating binary is newer  than this binary. Unknown attributes will be ignored. NodeDef: {{node ParallelMapDatasetV2/_16}}\n",
      "2025-05-03 10:52:45.556472: E tensorflow/core/framework/node_def_util.cc:676] NodeDef mentions attribute use_unbounded_threadpool which is not in the op definition: Op<name=MapDataset; signature=input_dataset:variant, other_arguments: -> handle:variant; attr=f:func; attr=Targuments:list(type),min=0; attr=output_types:list(type),min=1; attr=output_shapes:list(shape),min=1; attr=use_inter_op_parallelism:bool,default=true; attr=preserve_cardinality:bool,default=false; attr=force_synchronous:bool,default=false; attr=metadata:string,default=\"\"> This may be expected if your graph generating binary is newer  than this binary. Unknown attributes will be ignored. NodeDef: {{node ParallelMapDatasetV2/_16}}\n",
      "2025-05-03 10:54:56.113110: E tensorflow/core/framework/node_def_util.cc:676] NodeDef mentions attribute use_unbounded_threadpool which is not in the op definition: Op<name=MapDataset; signature=input_dataset:variant, other_arguments: -> handle:variant; attr=f:func; attr=Targuments:list(type),min=0; attr=output_types:list(type),min=1; attr=output_shapes:list(shape),min=1; attr=use_inter_op_parallelism:bool,default=true; attr=preserve_cardinality:bool,default=false; attr=force_synchronous:bool,default=false; attr=metadata:string,default=\"\"> This may be expected if your graph generating binary is newer  than this binary. Unknown attributes will be ignored. NodeDef: {{node ParallelMapDatasetV2/_16}}\n",
      "2025-05-03 10:57:13.152516: E tensorflow/core/framework/node_def_util.cc:676] NodeDef mentions attribute use_unbounded_threadpool which is not in the op definition: Op<name=MapDataset; signature=input_dataset:variant, other_arguments: -> handle:variant; attr=f:func; attr=Targuments:list(type),min=0; attr=output_types:list(type),min=1; attr=output_shapes:list(shape),min=1; attr=use_inter_op_parallelism:bool,default=true; attr=preserve_cardinality:bool,default=false; attr=force_synchronous:bool,default=false; attr=metadata:string,default=\"\"> This may be expected if your graph generating binary is newer  than this binary. Unknown attributes will be ignored. NodeDef: {{node ParallelMapDatasetV2/_16}}\n",
      "2025-05-03 10:59:30.279835: E tensorflow/core/framework/node_def_util.cc:676] NodeDef mentions attribute use_unbounded_threadpool which is not in the op definition: Op<name=MapDataset; signature=input_dataset:variant, other_arguments: -> handle:variant; attr=f:func; attr=Targuments:list(type),min=0; attr=output_types:list(type),min=1; attr=output_shapes:list(shape),min=1; attr=use_inter_op_parallelism:bool,default=true; attr=preserve_cardinality:bool,default=false; attr=force_synchronous:bool,default=false; attr=metadata:string,default=\"\"> This may be expected if your graph generating binary is newer  than this binary. Unknown attributes will be ignored. NodeDef: {{node ParallelMapDatasetV2/_16}}\n",
      "2025-05-03 11:01:25.142976: E tensorflow/core/framework/node_def_util.cc:676] NodeDef mentions attribute use_unbounded_threadpool which is not in the op definition: Op<name=MapDataset; signature=input_dataset:variant, other_arguments: -> handle:variant; attr=f:func; attr=Targuments:list(type),min=0; attr=output_types:list(type),min=1; attr=output_shapes:list(shape),min=1; attr=use_inter_op_parallelism:bool,default=true; attr=preserve_cardinality:bool,default=false; attr=force_synchronous:bool,default=false; attr=metadata:string,default=\"\"> This may be expected if your graph generating binary is newer  than this binary. Unknown attributes will be ignored. NodeDef: {{node ParallelMapDatasetV2/_14}}\n"
     ]
    },
    {
     "name": "stdout",
     "output_type": "stream",
     "text": [
      "--- Fold 4 - root_mean_squared_error: 0.0607 - Time: 678.96 s\n",
      "\n",
      "------ Overall root_mean_squared_error: 0.0614 - Mean root_mean_squared_error: 0.0614 ± 0.0005 - Time: 4187.75 s\n"
     ]
    },
    {
     "name": "stderr",
     "output_type": "stream",
     "text": [
      "2025-05-03 11:01:31.011224: E tensorflow/core/framework/node_def_util.cc:676] NodeDef mentions attribute use_unbounded_threadpool which is not in the op definition: Op<name=MapDataset; signature=input_dataset:variant, other_arguments: -> handle:variant; attr=f:func; attr=Targuments:list(type),min=0; attr=output_types:list(type),min=1; attr=output_shapes:list(shape),min=1; attr=use_inter_op_parallelism:bool,default=true; attr=preserve_cardinality:bool,default=false; attr=force_synchronous:bool,default=false; attr=metadata:string,default=\"\"> This may be expected if your graph generating binary is newer  than this binary. Unknown attributes will be ignored. NodeDef: {{node ParallelMapDatasetV2/_14}}\n",
      "2025-05-03 11:01:36.431700: E tensorflow/core/framework/node_def_util.cc:676] NodeDef mentions attribute use_unbounded_threadpool which is not in the op definition: Op<name=MapDataset; signature=input_dataset:variant, other_arguments: -> handle:variant; attr=f:func; attr=Targuments:list(type),min=0; attr=output_types:list(type),min=1; attr=output_shapes:list(shape),min=1; attr=use_inter_op_parallelism:bool,default=true; attr=preserve_cardinality:bool,default=false; attr=force_synchronous:bool,default=false; attr=metadata:string,default=\"\"> This may be expected if your graph generating binary is newer  than this binary. Unknown attributes will be ignored. NodeDef: {{node ParallelMapDatasetV2/_14}}\n",
      "2025-05-03 11:01:41.787481: E tensorflow/core/framework/node_def_util.cc:676] NodeDef mentions attribute use_unbounded_threadpool which is not in the op definition: Op<name=MapDataset; signature=input_dataset:variant, other_arguments: -> handle:variant; attr=f:func; attr=Targuments:list(type),min=0; attr=output_types:list(type),min=1; attr=output_shapes:list(shape),min=1; attr=use_inter_op_parallelism:bool,default=true; attr=preserve_cardinality:bool,default=false; attr=force_synchronous:bool,default=false; attr=metadata:string,default=\"\"> This may be expected if your graph generating binary is newer  than this binary. Unknown attributes will be ignored. NodeDef: {{node ParallelMapDatasetV2/_14}}\n",
      "2025-05-03 11:01:47.101330: E tensorflow/core/framework/node_def_util.cc:676] NodeDef mentions attribute use_unbounded_threadpool which is not in the op definition: Op<name=MapDataset; signature=input_dataset:variant, other_arguments: -> handle:variant; attr=f:func; attr=Targuments:list(type),min=0; attr=output_types:list(type),min=1; attr=output_shapes:list(shape),min=1; attr=use_inter_op_parallelism:bool,default=true; attr=preserve_cardinality:bool,default=false; attr=force_synchronous:bool,default=false; attr=metadata:string,default=\"\"> This may be expected if your graph generating binary is newer  than this binary. Unknown attributes will be ignored. NodeDef: {{node ParallelMapDatasetV2/_14}}\n",
      "2025-05-03 11:01:52.417957: E tensorflow/core/framework/node_def_util.cc:676] NodeDef mentions attribute use_unbounded_threadpool which is not in the op definition: Op<name=MapDataset; signature=input_dataset:variant, other_arguments: -> handle:variant; attr=f:func; attr=Targuments:list(type),min=0; attr=output_types:list(type),min=1; attr=output_shapes:list(shape),min=1; attr=use_inter_op_parallelism:bool,default=true; attr=preserve_cardinality:bool,default=false; attr=force_synchronous:bool,default=false; attr=metadata:string,default=\"\"> This may be expected if your graph generating binary is newer  than this binary. Unknown attributes will be ignored. NodeDef: {{node ParallelMapDatasetV2/_14}}\n"
     ]
    }
   ],
   "source": [
    "nn_trainer = Trainer(\n",
    "    nn_bag,\n",
    "    cv=CFG.cv,\n",
    "    metric=root_mean_squared_error,\n",
    "    task=\"regression\"\n",
    ")\n",
    "\n",
    "nn_trainer.fit(X, y, extra_X=X_original, extra_y=y_original)\n",
    "\n",
    "scores[\"KerasANN\"] = nn_trainer.fold_scores\n",
    "oof_preds[\"KerasANN\"] = nn_trainer.oof_preds\n",
    "test_preds[\"KerasANN\"] = nn_trainer.predict(X_test)"
   ]
  },
  {
   "cell_type": "markdown",
   "id": "22976a81",
   "metadata": {
    "papermill": {
     "duration": 0.016857,
     "end_time": "2025-05-03T11:01:56.744447",
     "exception": false,
     "start_time": "2025-05-03T11:01:56.727590",
     "status": "completed"
    },
    "tags": []
   },
   "source": [
    "# Ensembling with Ridge"
   ]
  },
  {
   "cell_type": "code",
   "execution_count": 25,
   "id": "2b07376b",
   "metadata": {
    "_kg_hide-input": true,
    "execution": {
     "iopub.execute_input": "2025-05-03T11:01:56.781026Z",
     "iopub.status.busy": "2025-05-03T11:01:56.780422Z",
     "iopub.status.idle": "2025-05-03T11:01:56.788162Z",
     "shell.execute_reply": "2025-05-03T11:01:56.787349Z"
    },
    "papermill": {
     "duration": 0.027666,
     "end_time": "2025-05-03T11:01:56.789586",
     "exception": false,
     "start_time": "2025-05-03T11:01:56.761920",
     "status": "completed"
    },
    "tags": []
   },
   "outputs": [],
   "source": [
    "def plot_weights(weights, title):\n",
    "    sorted_indices = np.argsort(weights[0])[::-1]\n",
    "    sorted_coeffs = np.array(weights[0])[sorted_indices]\n",
    "    sorted_model_names = np.array(list(oof_preds.keys()))[sorted_indices]\n",
    "\n",
    "    plt.figure(figsize=(10, weights.shape[1] * 0.5))\n",
    "    ax = sns.barplot(x=sorted_coeffs, y=sorted_model_names, palette=\"RdYlGn_r\")\n",
    "\n",
    "    for i, (value, name) in enumerate(zip(sorted_coeffs, sorted_model_names)):\n",
    "        if value >= 0:\n",
    "            ax.text(value, i, f\"{value:.3f}\", va=\"center\", ha=\"left\", color=\"black\")\n",
    "        else:\n",
    "            ax.text(value, i, f\"{value:.3f}\", va=\"center\", ha=\"right\", color=\"black\")\n",
    "\n",
    "    xlim = ax.get_xlim()\n",
    "    ax.set_xlim(xlim[0] - 0.1 * abs(xlim[0]), xlim[1] + 0.1 * abs(xlim[1]))\n",
    "\n",
    "    plt.title(title)\n",
    "    plt.xlabel(\"\")\n",
    "    plt.ylabel(\"\")\n",
    "    plt.tight_layout()\n",
    "    plt.show()"
   ]
  },
  {
   "cell_type": "code",
   "execution_count": 26,
   "id": "48868d0b",
   "metadata": {
    "execution": {
     "iopub.execute_input": "2025-05-03T11:01:56.825645Z",
     "iopub.status.busy": "2025-05-03T11:01:56.825328Z",
     "iopub.status.idle": "2025-05-03T11:01:56.902370Z",
     "shell.execute_reply": "2025-05-03T11:01:56.901360Z"
    },
    "papermill": {
     "duration": 0.096742,
     "end_time": "2025-05-03T11:01:56.903925",
     "exception": false,
     "start_time": "2025-05-03T11:01:56.807183",
     "status": "completed"
    },
    "tags": []
   },
   "outputs": [],
   "source": [
    "X = pd.DataFrame(oof_preds)\n",
    "X_test = pd.DataFrame(test_preds)"
   ]
  },
  {
   "cell_type": "code",
   "execution_count": 27,
   "id": "6f979490",
   "metadata": {
    "execution": {
     "iopub.execute_input": "2025-05-03T11:01:56.939689Z",
     "iopub.status.busy": "2025-05-03T11:01:56.939369Z",
     "iopub.status.idle": "2025-05-03T11:01:57.010469Z",
     "shell.execute_reply": "2025-05-03T11:01:57.009433Z"
    },
    "papermill": {
     "duration": 0.090777,
     "end_time": "2025-05-03T11:01:57.012122",
     "exception": false,
     "start_time": "2025-05-03T11:01:56.921345",
     "status": "completed"
    },
    "tags": []
   },
   "outputs": [
    {
     "data": {
      "text/plain": [
       "['test_preds.pkl']"
      ]
     },
     "execution_count": 27,
     "metadata": {},
     "output_type": "execute_result"
    }
   ],
   "source": [
    "joblib.dump(X, \"oof_preds.pkl\")\n",
    "joblib.dump(X_test, \"test_preds.pkl\")"
   ]
  },
  {
   "cell_type": "code",
   "execution_count": 28,
   "id": "02452229",
   "metadata": {
    "_kg_hide-output": true,
    "execution": {
     "iopub.execute_input": "2025-05-03T11:01:57.048440Z",
     "iopub.status.busy": "2025-05-03T11:01:57.048101Z",
     "iopub.status.idle": "2025-05-03T11:20:15.570296Z",
     "shell.execute_reply": "2025-05-03T11:20:15.569206Z"
    },
    "papermill": {
     "duration": 1098.542241,
     "end_time": "2025-05-03T11:20:15.571987",
     "exception": false,
     "start_time": "2025-05-03T11:01:57.029746",
     "status": "completed"
    },
    "scrolled": true,
    "tags": []
   },
   "outputs": [
    {
     "name": "stderr",
     "output_type": "stream",
     "text": [
      "[I 2025-05-03 11:01:57,053] A new study created in memory with name: no-name-422dede6-daef-470e-a27c-932caf5baf3a\n",
      "[I 2025-05-03 11:02:11,724] Trial 0 finished with value: 0.05899405009570276 and parameters: {'alpha': 6.30989251727696, 'tol': 0.0005255071892812145}. Best is trial 0 with value: 0.05899405009570276.\n",
      "[I 2025-05-03 11:02:12,603] Trial 3 finished with value: 0.05899366269762575 and parameters: {'alpha': 5.841750910368715, 'tol': 0.0007893740783305422}. Best is trial 3 with value: 0.05899366269762575.\n",
      "[I 2025-05-03 11:02:12,605] Trial 1 finished with value: 0.05899336438704417 and parameters: {'alpha': 5.460215762127541, 'tol': 0.007937686201739548}. Best is trial 1 with value: 0.05899336438704417.\n",
      "[I 2025-05-03 11:02:12,651] Trial 2 finished with value: 0.05899365802050268 and parameters: {'alpha': 5.835925842505345, 'tol': 0.0015535235486852314}. Best is trial 1 with value: 0.05899336438704417.\n",
      "[I 2025-05-03 11:02:27,496] Trial 6 finished with value: 0.05899607720714408 and parameters: {'alpha': 8.473471287361784, 'tol': 0.002672448746514503}. Best is trial 1 with value: 0.05899336438704417.\n",
      "[I 2025-05-03 11:02:28,328] Trial 5 finished with value: 0.05899180664002844 and parameters: {'alpha': 1.566034027932287, 'tol': 0.0055536063100350185}. Best is trial 5 with value: 0.05899180664002844.\n",
      "[I 2025-05-03 11:02:29,179] Trial 4 finished with value: 0.05899380072870592 and parameters: {'alpha': 6.011678118200932, 'tol': 0.0007070824700733062}. Best is trial 5 with value: 0.05899180664002844.\n",
      "[I 2025-05-03 11:02:29,180] Trial 7 finished with value: 0.0589918615685159 and parameters: {'alpha': 2.6287156431576983, 'tol': 0.00033447499397634564}. Best is trial 5 with value: 0.05899180664002844.\n",
      "[I 2025-05-03 11:02:44,343] Trial 10 finished with value: 0.05899207581843721 and parameters: {'alpha': 3.308152452839417, 'tol': 0.0022650778611297863}. Best is trial 5 with value: 0.05899180664002844.\n",
      "[I 2025-05-03 11:02:46,890] Trial 8 finished with value: 0.05899595424560311 and parameters: {'alpha': 8.351141720422019, 'tol': 0.006339685758517482}. Best is trial 5 with value: 0.05899180664002844.\n",
      "[I 2025-05-03 11:02:46,895] Trial 9 finished with value: 0.05899569559404618 and parameters: {'alpha': 8.090993165199485, 'tol': 0.004707329161351491}. Best is trial 5 with value: 0.05899180664002844.\n",
      "[I 2025-05-03 11:02:46,896] Trial 11 finished with value: 0.05899186058951201 and parameters: {'alpha': 2.6243499820021676, 'tol': 0.004683824181970868}. Best is trial 5 with value: 0.05899180664002844.\n",
      "[I 2025-05-03 11:03:03,384] Trial 13 finished with value: 0.05899179277534438 and parameters: {'alpha': 1.6804436792832056, 'tol': 0.006653214483547009}. Best is trial 13 with value: 0.05899179277534438.\n",
      "[I 2025-05-03 11:03:04,238] Trial 12 finished with value: 0.05899706496043034 and parameters: {'alpha': 9.42986433838377, 'tol': 0.009696760572534012}. Best is trial 13 with value: 0.05899179277534438.\n",
      "[I 2025-05-03 11:03:04,251] Trial 14 finished with value: 0.05899258600095625 and parameters: {'alpha': 0.0821677010469668, 'tol': 0.004743943093969339}. Best is trial 13 with value: 0.05899179277534438.\n",
      "[I 2025-05-03 11:03:04,267] Trial 15 finished with value: 0.05899200922779294 and parameters: {'alpha': 0.8897336902471711, 'tol': 0.0069974271702851545}. Best is trial 13 with value: 0.05899179277534438.\n",
      "[I 2025-05-03 11:03:18,734] Trial 17 finished with value: 0.058991799869188545 and parameters: {'alpha': 2.2676062023621233, 'tol': 0.009361257335632657}. Best is trial 13 with value: 0.05899179277534438.\n",
      "[I 2025-05-03 11:03:18,738] Trial 16 finished with value: 0.05899208424670998 and parameters: {'alpha': 0.7424111793274324, 'tol': 0.008583215929214459}. Best is trial 13 with value: 0.05899179277534438.\n",
      "[I 2025-05-03 11:03:20,502] Trial 19 finished with value: 0.058992330689686144 and parameters: {'alpha': 0.37110038983759863, 'tol': 0.009609041353785298}. Best is trial 13 with value: 0.05899179277534438.\n",
      "[I 2025-05-03 11:03:20,505] Trial 18 finished with value: 0.05899190052064585 and parameters: {'alpha': 2.786355789109818, 'tol': 0.00903106275668068}. Best is trial 13 with value: 0.05899179277534438.\n",
      "[I 2025-05-03 11:03:35,146] Trial 22 finished with value: 0.05899241942367146 and parameters: {'alpha': 4.030116977416173, 'tol': 0.006273730737802232}. Best is trial 13 with value: 0.05899179277534438.\n",
      "[I 2025-05-03 11:03:36,900] Trial 21 finished with value: 0.05899233656019456 and parameters: {'alpha': 3.874534525800139, 'tol': 0.009504957445341976}. Best is trial 13 with value: 0.05899179277534438.\n",
      "[I 2025-05-03 11:03:36,913] Trial 20 finished with value: 0.0589924741934804 and parameters: {'alpha': 4.128635929553882, 'tol': 0.008560510970398482}. Best is trial 13 with value: 0.05899179277534438.\n",
      "[I 2025-05-03 11:03:36,917] Trial 23 finished with value: 0.05899271248304549 and parameters: {'alpha': 4.5266960085629195, 'tol': 0.009447235765046188}. Best is trial 13 with value: 0.05899179277534438.\n",
      "[I 2025-05-03 11:03:51,607] Trial 25 finished with value: 0.05899179279562109 and parameters: {'alpha': 2.1991480725431463, 'tol': 0.0069565935362346214}. Best is trial 13 with value: 0.05899179277534438.\n",
      "[I 2025-05-03 11:03:52,594] Trial 24 finished with value: 0.05899217752095457 and parameters: {'alpha': 3.5469442502875563, 'tol': 0.009890684750779515}. Best is trial 13 with value: 0.05899179277534438.\n",
      "[I 2025-05-03 11:03:52,606] Trial 26 finished with value: 0.05899183675488676 and parameters: {'alpha': 2.5091226179339503, 'tol': 0.00617065502920057}. Best is trial 13 with value: 0.05899179277534438.\n",
      "[I 2025-05-03 11:03:52,609] Trial 27 finished with value: 0.05899178424323747 and parameters: {'alpha': 1.7934873120449524, 'tol': 0.00682802966611901}. Best is trial 27 with value: 0.05899178424323747.\n",
      "[I 2025-05-03 11:04:10,306] Trial 28 finished with value: 0.0589917830821225 and parameters: {'alpha': 1.8172717312828175, 'tol': 0.007229318938137367}. Best is trial 28 with value: 0.0589917830821225.\n",
      "[I 2025-05-03 11:04:10,323] Trial 29 finished with value: 0.058992931207137306 and parameters: {'alpha': 4.859844474462213, 'tol': 0.0052622225016100655}. Best is trial 28 with value: 0.0589917830821225.\n",
      "[I 2025-05-03 11:04:10,327] Trial 30 finished with value: 0.05899208751692922 and parameters: {'alpha': 3.3372124931650506, 'tol': 0.006712557269874877}. Best is trial 28 with value: 0.0589917830821225.\n",
      "[I 2025-05-03 11:04:11,253] Trial 31 finished with value: 0.058991786183353066 and parameters: {'alpha': 1.7609775042865115, 'tol': 0.0068809076276892455}. Best is trial 28 with value: 0.0589917830821225.\n",
      "[I 2025-05-03 11:04:26,088] Trial 32 finished with value: 0.0589933870063103 and parameters: {'alpha': 5.489919006085787, 'tol': 0.0049805719481695945}. Best is trial 28 with value: 0.0589917830821225.\n",
      "[I 2025-05-03 11:04:28,669] Trial 34 finished with value: 0.0589917884452529 and parameters: {'alpha': 1.7296193611562862, 'tol': 0.006669360672044065}. Best is trial 28 with value: 0.0589917830821225.\n",
      "[I 2025-05-03 11:04:28,681] Trial 33 finished with value: 0.05899178368729048 and parameters: {'alpha': 1.804323893700348, 'tol': 0.006986257836292114}. Best is trial 28 with value: 0.0589917830821225.\n",
      "[I 2025-05-03 11:04:28,694] Trial 35 finished with value: 0.05899184081736711 and parameters: {'alpha': 1.3808530150839282, 'tol': 0.006486520643055552}. Best is trial 28 with value: 0.0589917830821225.\n",
      "[I 2025-05-03 11:04:45,862] Trial 38 finished with value: 0.05899182463977205 and parameters: {'alpha': 1.4586632845482796, 'tol': 0.007598771291636784}. Best is trial 28 with value: 0.0589917830821225.\n",
      "[I 2025-05-03 11:04:46,705] Trial 37 finished with value: 0.05899235713688714 and parameters: {'alpha': 0.3377772347621877, 'tol': 0.007753170258007423}. Best is trial 28 with value: 0.0589917830821225.\n",
      "[I 2025-05-03 11:04:46,710] Trial 39 finished with value: 0.05899236964639388 and parameters: {'alpha': 0.3223380838550751, 'tol': 0.006398951572059448}. Best is trial 28 with value: 0.0589917830821225.\n",
      "[I 2025-05-03 11:04:46,726] Trial 36 finished with value: 0.05899261235374206 and parameters: {'alpha': 0.0557929995316786, 'tol': 0.006298805196931335}. Best is trial 28 with value: 0.0589917830821225.\n",
      "[I 2025-05-03 11:05:03,074] Trial 40 finished with value: 0.05899645116813327 and parameters: {'alpha': 8.840709583121336, 'tol': 0.0001314936439910713}. Best is trial 28 with value: 0.0589917830821225.\n",
      "[I 2025-05-03 11:05:03,088] Trial 43 finished with value: 0.05899210481672851 and parameters: {'alpha': 3.379342590737676, 'tol': 0.007279527500516155}. Best is trial 28 with value: 0.0589917830821225.\n",
      "[I 2025-05-03 11:05:03,088] Trial 41 finished with value: 0.0589919075521063 and parameters: {'alpha': 2.812166767586544, 'tol': 0.006201285993403588}. Best is trial 28 with value: 0.0589917830821225.\n",
      "[I 2025-05-03 11:05:04,041] Trial 42 finished with value: 0.05899184478679051 and parameters: {'alpha': 2.5501123972553383, 'tol': 0.007284143092584156}. Best is trial 28 with value: 0.0589917830821225.\n",
      "[I 2025-05-03 11:05:19,589] Trial 45 finished with value: 0.05899178624934368 and parameters: {'alpha': 2.115091543534626, 'tol': 0.006364417984663615}. Best is trial 28 with value: 0.0589917830821225.\n",
      "[I 2025-05-03 11:05:20,453] Trial 44 finished with value: 0.05899193451024241 and parameters: {'alpha': 2.9056464419605854, 'tol': 0.006814897866753366}. Best is trial 28 with value: 0.0589917830821225.\n",
      "[I 2025-05-03 11:05:20,477] Trial 46 finished with value: 0.058991845905442646 and parameters: {'alpha': 2.5556276043760073, 'tol': 0.007534793334672161}. Best is trial 28 with value: 0.0589917830821225.\n",
      "[I 2025-05-03 11:05:20,490] Trial 47 finished with value: 0.05899179840174248 and parameters: {'alpha': 2.254553006555373, 'tol': 0.004213708853908593}. Best is trial 28 with value: 0.0589917830821225.\n",
      "[I 2025-05-03 11:05:37,597] Trial 50 finished with value: 0.05899178735173236 and parameters: {'alpha': 2.1316834871284143, 'tol': 0.005112129917149643}. Best is trial 28 with value: 0.0589917830821225.\n",
      "[I 2025-05-03 11:05:38,501] Trial 49 finished with value: 0.05899178049279683 and parameters: {'alpha': 1.9277519469128734, 'tol': 0.00503237608454652}. Best is trial 49 with value: 0.05899178049279683.\n",
      "[I 2025-05-03 11:05:38,506] Trial 51 finished with value: 0.05899206545308648 and parameters: {'alpha': 0.777154314389251, 'tol': 0.00037682551065538854}. Best is trial 49 with value: 0.05899178049279683.\n",
      "[I 2025-05-03 11:05:38,524] Trial 48 finished with value: 0.05899181435166679 and parameters: {'alpha': 2.3772082328496666, 'tol': 0.004204915137496661}. Best is trial 49 with value: 0.05899178049279683.\n",
      "[I 2025-05-03 11:05:54,735] Trial 52 finished with value: 0.05899219996460064 and parameters: {'alpha': 0.5518832877175406, 'tol': 0.0020225417241096656}. Best is trial 49 with value: 0.05899178049279683.\n",
      "[I 2025-05-03 11:05:56,654] Trial 53 finished with value: 0.05899179982573616 and parameters: {'alpha': 1.6167895892660933, 'tol': 0.005309929920939403}. Best is trial 49 with value: 0.05899178049279683.\n",
      "[I 2025-05-03 11:05:56,664] Trial 55 finished with value: 0.058991791905197814 and parameters: {'alpha': 2.189295520150011, 'tol': 0.00496983130468191}. Best is trial 49 with value: 0.05899178049279683.\n",
      "[I 2025-05-03 11:05:57,566] Trial 54 finished with value: 0.058991817097104056 and parameters: {'alpha': 1.5001632129334297, 'tol': 0.005111567945032739}. Best is trial 49 with value: 0.05899178049279683.\n",
      "[I 2025-05-03 11:06:13,502] Trial 56 finished with value: 0.058991905755336985 and parameters: {'alpha': 1.1481925326825329, 'tol': 0.005059962224464299}. Best is trial 49 with value: 0.05899178049279683.\n",
      "[I 2025-05-03 11:06:14,623] Trial 59 finished with value: 0.05899178056209246 and parameters: {'alpha': 1.914664695223476, 'tol': 0.008140550476561254}. Best is trial 49 with value: 0.05899178049279683.\n",
      "[I 2025-05-03 11:06:16,370] Trial 58 finished with value: 0.05899181674542725 and parameters: {'alpha': 1.5022036931296179, 'tol': 0.007641354204812632}. Best is trial 49 with value: 0.05899178049279683.\n",
      "[I 2025-05-03 11:06:16,377] Trial 57 finished with value: 0.058991798623415706 and parameters: {'alpha': 1.6266671804441524, 'tol': 0.005307347858547327}. Best is trial 49 with value: 0.05899178049279683.\n",
      "[I 2025-05-03 11:06:31,874] Trial 60 finished with value: 0.05899182891987583 and parameters: {'alpha': 1.4367759252516146, 'tol': 0.00779978242745276}. Best is trial 49 with value: 0.05899178049279683.\n",
      "[I 2025-05-03 11:06:33,024] Trial 61 finished with value: 0.05899189097687125 and parameters: {'alpha': 1.1938816026759, 'tol': 0.008513247426139094}. Best is trial 49 with value: 0.05899178049279683.\n",
      "[I 2025-05-03 11:06:35,629] Trial 62 finished with value: 0.05899178089449317 and parameters: {'alpha': 1.8882591807725433, 'tol': 0.008508466068606998}. Best is trial 49 with value: 0.05899178049279683.\n",
      "[I 2025-05-03 11:06:35,644] Trial 63 finished with value: 0.05899178055145195 and parameters: {'alpha': 1.916094820117723, 'tol': 0.008107225276496929}. Best is trial 49 with value: 0.05899178049279683.\n",
      "[I 2025-05-03 11:06:49,631] Trial 64 finished with value: 0.05899178268019054 and parameters: {'alpha': 2.045981782195103, 'tol': 0.007644661639183284}. Best is trial 49 with value: 0.05899178049279683.\n",
      "[I 2025-05-03 11:06:50,703] Trial 67 finished with value: 0.05899189572689825 and parameters: {'alpha': 1.178849679943867, 'tol': 0.009504322526682268}. Best is trial 49 with value: 0.05899178049279683.\n",
      "[I 2025-05-03 11:06:51,638] Trial 65 finished with value: 0.05899179505322012 and parameters: {'alpha': 2.2226828459509664, 'tol': 0.008154919867932474}. Best is trial 49 with value: 0.05899178049279683.\n",
      "[I 2025-05-03 11:06:51,639] Trial 66 finished with value: 0.05899181541775817 and parameters: {'alpha': 2.384286648195069, 'tol': 0.008920887900422225}. Best is trial 49 with value: 0.05899178049279683.\n",
      "[I 2025-05-03 11:07:07,207] Trial 68 finished with value: 0.058991815771185785 and parameters: {'alpha': 2.3866106136887515, 'tol': 0.009596346011157606}. Best is trial 49 with value: 0.05899178049279683.\n",
      "[I 2025-05-03 11:07:08,182] Trial 69 finished with value: 0.05899508281214741 and parameters: {'alpha': 7.456925822766758, 'tol': 0.008236621458488398}. Best is trial 49 with value: 0.05899178049279683.\n",
      "[I 2025-05-03 11:07:09,160] Trial 70 finished with value: 0.058991949407919034 and parameters: {'alpha': 2.9541674035323258, 'tol': 0.008452088761158551}. Best is trial 49 with value: 0.05899178049279683.\n",
      "[I 2025-05-03 11:07:10,077] Trial 71 finished with value: 0.05899469667681571 and parameters: {'alpha': 7.041713997224022, 'tol': 0.007387598662689862}. Best is trial 49 with value: 0.05899178049279683.\n",
      "[I 2025-05-03 11:07:26,479] Trial 72 finished with value: 0.058991959592823495 and parameters: {'alpha': 2.9862539095405367, 'tol': 0.008215158705924243}. Best is trial 49 with value: 0.05899178049279683.\n",
      "[I 2025-05-03 11:07:26,484] Trial 73 finished with value: 0.05899202443501402 and parameters: {'alpha': 3.1742316280074565, 'tol': 0.008323607433863667}. Best is trial 49 with value: 0.05899178049279683.\n",
      "[I 2025-05-03 11:07:27,492] Trial 75 finished with value: 0.0589918117017959 and parameters: {'alpha': 1.532699176073705, 'tol': 0.008539767159160064}. Best is trial 49 with value: 0.05899178049279683.\n",
      "[I 2025-05-03 11:07:28,473] Trial 74 finished with value: 0.05899195894169505 and parameters: {'alpha': 1.0046655439337888, 'tol': 0.007632904912350896}. Best is trial 49 with value: 0.05899178049279683.\n",
      "[I 2025-05-03 11:07:43,926] Trial 76 finished with value: 0.05899178360583008 and parameters: {'alpha': 1.8059897242349123, 'tol': 0.008056674658890647}. Best is trial 49 with value: 0.05899178049279683.\n",
      "[I 2025-05-03 11:07:44,837] Trial 77 finished with value: 0.05899197025928223 and parameters: {'alpha': 0.9773494182296701, 'tol': 0.00783987396338837}. Best is trial 49 with value: 0.05899178049279683.\n",
      "[I 2025-05-03 11:07:45,788] Trial 78 finished with value: 0.05899229012903723 and parameters: {'alpha': 0.42414204892800944, 'tol': 0.007795206696858539}. Best is trial 49 with value: 0.05899178049279683.\n",
      "[I 2025-05-03 11:07:46,845] Trial 79 finished with value: 0.058991781102981325 and parameters: {'alpha': 1.8775580029531433, 'tol': 0.007330927791826303}. Best is trial 49 with value: 0.05899178049279683.\n",
      "[I 2025-05-03 11:08:02,165] Trial 80 finished with value: 0.058997076307422375 and parameters: {'alpha': 9.440615327504737, 'tol': 0.004605401513735315}. Best is trial 49 with value: 0.05899178049279683.\n",
      "[I 2025-05-03 11:08:03,172] Trial 81 finished with value: 0.05899178063027014 and parameters: {'alpha': 1.9071631539884266, 'tol': 0.008683184017769532}. Best is trial 49 with value: 0.05899178049279683.\n",
      "[I 2025-05-03 11:08:04,077] Trial 82 finished with value: 0.05899178053992018 and parameters: {'alpha': 1.9177740438454434, 'tol': 0.007922203560525186}. Best is trial 49 with value: 0.05899178049279683.\n",
      "[I 2025-05-03 11:08:05,925] Trial 83 finished with value: 0.05899178821604146 and parameters: {'alpha': 2.143798784330268, 'tol': 0.008588825367827495}. Best is trial 49 with value: 0.05899178049279683.\n",
      "[I 2025-05-03 11:08:19,697] Trial 84 finished with value: 0.058991780650255614 and parameters: {'alpha': 1.905315310866918, 'tol': 0.00817617338208367}. Best is trial 49 with value: 0.05899178049279683.\n",
      "[I 2025-05-03 11:08:21,488] Trial 85 finished with value: 0.058991781296674484 and parameters: {'alpha': 1.8691555255754064, 'tol': 0.008709326545593352}. Best is trial 49 with value: 0.05899178049279683.\n",
      "[I 2025-05-03 11:08:22,440] Trial 86 finished with value: 0.05899178488090015 and parameters: {'alpha': 1.7820188271274415, 'tol': 0.009320729400620049}. Best is trial 49 with value: 0.05899178049279683.\n",
      "[I 2025-05-03 11:08:23,424] Trial 87 finished with value: 0.058991820664084364 and parameters: {'alpha': 2.417720883372024, 'tol': 0.008292310464773902}. Best is trial 49 with value: 0.05899178049279683.\n",
      "[I 2025-05-03 11:08:36,984] Trial 88 finished with value: 0.05899227365208211 and parameters: {'alpha': 0.4464137444651868, 'tol': 0.009567501030359082}. Best is trial 49 with value: 0.05899178049279683.\n",
      "[I 2025-05-03 11:08:37,959] Trial 89 finished with value: 0.058991827243415874 and parameters: {'alpha': 1.445221648479855, 'tol': 0.009427064225917298}. Best is trial 49 with value: 0.05899178049279683.\n",
      "[I 2025-05-03 11:08:37,961] Trial 90 finished with value: 0.05899182721229275 and parameters: {'alpha': 2.4566807769410826, 'tol': 0.00915687844755831}. Best is trial 49 with value: 0.05899178049279683.\n",
      "[I 2025-05-03 11:08:38,986] Trial 91 finished with value: 0.05899344266695245 and parameters: {'alpha': 5.562433750236877, 'tol': 0.002920553578986945}. Best is trial 49 with value: 0.05899178049279683.\n",
      "[I 2025-05-03 11:08:54,273] Trial 92 finished with value: 0.05899187439376756 and parameters: {'alpha': 2.683822460085135, 'tol': 0.009814007057471628}. Best is trial 49 with value: 0.05899178049279683.\n",
      "[I 2025-05-03 11:08:56,091] Trial 94 finished with value: 0.05899181724917552 and parameters: {'alpha': 2.396211837010014, 'tol': 0.007918155197328813}. Best is trial 49 with value: 0.05899178049279683.\n",
      "[I 2025-05-03 11:08:56,114] Trial 93 finished with value: 0.058992115300904494 and parameters: {'alpha': 3.4044145617768766, 'tol': 0.008135409756569336}. Best is trial 49 with value: 0.05899178049279683.\n",
      "[I 2025-05-03 11:08:57,100] Trial 95 finished with value: 0.05899260605141748 and parameters: {'alpha': 4.354310473414304, 'tol': 0.007167269950157072}. Best is trial 49 with value: 0.05899178049279683.\n",
      "[I 2025-05-03 11:09:12,390] Trial 96 finished with value: 0.058992703313202846 and parameters: {'alpha': 4.51214167156423, 'tol': 0.008082170314158994}. Best is trial 49 with value: 0.05899178049279683.\n",
      "[I 2025-05-03 11:09:14,185] Trial 98 finished with value: 0.05899309719081624 and parameters: {'alpha': 5.097761226658798, 'tol': 0.007534809944777761}. Best is trial 49 with value: 0.05899178049279683.\n",
      "[I 2025-05-03 11:09:14,207] Trial 97 finished with value: 0.058992144238035664 and parameters: {'alpha': 3.4719615653662586, 'tol': 0.007623532135367334}. Best is trial 49 with value: 0.05899178049279683.\n",
      "[I 2025-05-03 11:09:15,204] Trial 99 finished with value: 0.05899178597383007 and parameters: {'alpha': 2.1107077124747464, 'tol': 0.007953850835785134}. Best is trial 49 with value: 0.05899178049279683.\n",
      "[I 2025-05-03 11:09:29,689] Trial 100 finished with value: 0.05899181233548923 and parameters: {'alpha': 2.363526332683238, 'tol': 0.007861932958732526}. Best is trial 49 with value: 0.05899178049279683.\n",
      "[I 2025-05-03 11:09:31,550] Trial 102 finished with value: 0.05899178970647002 and parameters: {'alpha': 1.714117220103028, 'tol': 0.008058642413221635}. Best is trial 49 with value: 0.05899178049279683.\n",
      "[I 2025-05-03 11:09:32,526] Trial 101 finished with value: 0.058991786335818565 and parameters: {'alpha': 1.7586827098442528, 'tol': 0.007984958226275346}. Best is trial 49 with value: 0.05899178049279683.\n",
      "[I 2025-05-03 11:09:34,381] Trial 103 finished with value: 0.05899221279678823 and parameters: {'alpha': 0.5327665866848967, 'tol': 0.008259192699351972}. Best is trial 49 with value: 0.05899178049279683.\n",
      "[I 2025-05-03 11:09:47,907] Trial 104 finished with value: 0.058991780626673054 and parameters: {'alpha': 1.9638592281640852, 'tol': 0.006839114980001294}. Best is trial 49 with value: 0.05899178049279683.\n",
      "[I 2025-05-03 11:09:49,731] Trial 105 finished with value: 0.05899181863556183 and parameters: {'alpha': 1.4913560489611424, 'tol': 0.00697115876316667}. Best is trial 49 with value: 0.05899178049279683.\n",
      "[I 2025-05-03 11:09:50,706] Trial 106 finished with value: 0.05899182978908243 and parameters: {'alpha': 2.4713006003149296, 'tol': 0.006465791841536905}. Best is trial 49 with value: 0.05899178049279683.\n",
      "[I 2025-05-03 11:09:52,605] Trial 107 finished with value: 0.05899185381945353 and parameters: {'alpha': 2.5934604772893035, 'tol': 0.006586960942232154}. Best is trial 49 with value: 0.05899178049279683.\n",
      "[I 2025-05-03 11:10:06,273] Trial 108 finished with value: 0.05899311218311386 and parameters: {'alpha': 5.118722045732384, 'tol': 0.0003268420611446674}. Best is trial 49 with value: 0.05899178049279683.\n",
      "[I 2025-05-03 11:10:07,280] Trial 109 finished with value: 0.05899210749019707 and parameters: {'alpha': 3.3857679110377155, 'tol': 0.0057279797419376765}. Best is trial 49 with value: 0.05899178049279683.\n",
      "[I 2025-05-03 11:10:09,144] Trial 110 finished with value: 0.05899189350757138 and parameters: {'alpha': 2.7599227920181715, 'tol': 0.007345609235654385}. Best is trial 49 with value: 0.05899178049279683.\n",
      "[I 2025-05-03 11:10:11,015] Trial 111 finished with value: 0.05899197005628608 and parameters: {'alpha': 3.018390718878223, 'tol': 0.002731892230770207}. Best is trial 49 with value: 0.05899178049279683.\n",
      "[I 2025-05-03 11:10:24,551] Trial 112 finished with value: 0.05899182148822287 and parameters: {'alpha': 1.475508127281146, 'tol': 0.006562602786206288}. Best is trial 49 with value: 0.05899178049279683.\n",
      "[I 2025-05-03 11:10:26,413] Trial 113 finished with value: 0.05899179305239752 and parameters: {'alpha': 2.20192463054119, 'tol': 0.007271379068303964}. Best is trial 49 with value: 0.05899178049279683.\n",
      "[I 2025-05-03 11:10:27,377] Trial 114 finished with value: 0.0589919027948866 and parameters: {'alpha': 1.1570978805089882, 'tol': 0.006718826460079565}. Best is trial 49 with value: 0.05899178049279683.\n",
      "[I 2025-05-03 11:10:29,232] Trial 115 finished with value: 0.05899211516754152 and parameters: {'alpha': 0.6878555932908026, 'tol': 0.007394853360569756}. Best is trial 49 with value: 0.05899178049279683.\n",
      "[I 2025-05-03 11:10:43,591] Trial 116 finished with value: 0.058991840394416156 and parameters: {'alpha': 1.382734412155004, 'tol': 0.00724648037055099}. Best is trial 49 with value: 0.05899178049279683.\n",
      "[I 2025-05-03 11:10:43,603] Trial 117 finished with value: 0.05899186144703492 and parameters: {'alpha': 1.296445928398951, 'tol': 0.00787780308668818}. Best is trial 49 with value: 0.05899178049279683.\n",
      "[I 2025-05-03 11:10:45,436] Trial 118 finished with value: 0.05899192341732285 and parameters: {'alpha': 1.0973238712048672, 'tol': 0.008501721426875664}. Best is trial 49 with value: 0.05899178049279683.\n",
      "[I 2025-05-03 11:10:48,233] Trial 119 finished with value: 0.058991857773619774 and parameters: {'alpha': 2.6116541884986093, 'tol': 0.007983840348800737}. Best is trial 49 with value: 0.05899178049279683.\n",
      "[I 2025-05-03 11:11:00,959] Trial 121 finished with value: 0.058991780721028085 and parameters: {'alpha': 1.9719020158642466, 'tol': 0.008979637828914458}. Best is trial 49 with value: 0.05899178049279683.\n",
      "[I 2025-05-03 11:11:01,825] Trial 120 finished with value: 0.05899186832389507 and parameters: {'alpha': 1.2709504684347912, 'tol': 0.008933828889122426}. Best is trial 49 with value: 0.05899178049279683.\n",
      "[I 2025-05-03 11:11:02,808] Trial 122 finished with value: 0.05899183013167988 and parameters: {'alpha': 2.4732171123932356, 'tol': 0.008952932376679514}. Best is trial 49 with value: 0.05899178049279683.\n",
      "[I 2025-05-03 11:11:07,296] Trial 123 finished with value: 0.058991812656684114 and parameters: {'alpha': 1.5267370356499135, 'tol': 0.009695000155244101}. Best is trial 49 with value: 0.05899178049279683.\n",
      "[I 2025-05-03 11:11:19,910] Trial 125 finished with value: 0.05899196865285218 and parameters: {'alpha': 3.014126438358331, 'tol': 0.009395816192799744}. Best is trial 49 with value: 0.05899178049279683.\n",
      "[I 2025-05-03 11:11:19,919] Trial 124 finished with value: 0.058991816502175796 and parameters: {'alpha': 2.3913825337652064, 'tol': 0.009876747087428084}. Best is trial 49 with value: 0.05899178049279683.\n",
      "[I 2025-05-03 11:11:21,781] Trial 126 finished with value: 0.0589918440007742 and parameters: {'alpha': 1.3669132190556526, 'tol': 0.009830875117647622}. Best is trial 49 with value: 0.05899178049279683.\n",
      "[I 2025-05-03 11:11:24,619] Trial 127 finished with value: 0.05899187951023482 and parameters: {'alpha': 2.7048351763864265, 'tol': 0.00849118628884871}. Best is trial 49 with value: 0.05899178049279683.\n",
      "[I 2025-05-03 11:11:36,537] Trial 128 finished with value: 0.058991878838015134 and parameters: {'alpha': 2.7021032034871153, 'tol': 0.008069622906816568}. Best is trial 49 with value: 0.05899178049279683.\n",
      "[I 2025-05-03 11:11:37,437] Trial 129 finished with value: 0.058991963371751666 and parameters: {'alpha': 2.9979532486092317, 'tol': 0.007569285415975995}. Best is trial 49 with value: 0.05899178049279683.\n",
      "[I 2025-05-03 11:11:39,272] Trial 130 finished with value: 0.05899182405082193 and parameters: {'alpha': 2.4382159271739403, 'tol': 0.00798081289686188}. Best is trial 49 with value: 0.05899178049279683.\n",
      "[I 2025-05-03 11:11:42,057] Trial 131 finished with value: 0.058991847997835564 and parameters: {'alpha': 2.565827386454094, 'tol': 0.006566125438040447}. Best is trial 49 with value: 0.05899178049279683.\n",
      "[I 2025-05-03 11:11:54,508] Trial 133 finished with value: 0.05899178050068991 and parameters: {'alpha': 1.9459066751637055, 'tol': 0.00656566600095683}. Best is trial 49 with value: 0.05899178049279683.\n",
      "[I 2025-05-03 11:11:55,430] Trial 132 finished with value: 0.05899184585131104 and parameters: {'alpha': 2.5553617347144724, 'tol': 0.006865636672976813}. Best is trial 49 with value: 0.05899178049279683.\n",
      "[I 2025-05-03 11:11:57,310] Trial 134 finished with value: 0.05899183985475769 and parameters: {'alpha': 1.385145294001839, 'tol': 0.007949369288476593}. Best is trial 49 with value: 0.05899178049279683.\n",
      "[I 2025-05-03 11:12:00,040] Trial 135 finished with value: 0.05899262128338411 and parameters: {'alpha': 0.04697507666812517, 'tol': 0.008583433826603565}. Best is trial 49 with value: 0.05899178049279683.\n",
      "[I 2025-05-03 11:12:13,456] Trial 137 finished with value: 0.058991879877406644 and parameters: {'alpha': 1.230444575503366, 'tol': 0.005596104912274215}. Best is trial 49 with value: 0.05899178049279683.\n",
      "[I 2025-05-03 11:12:13,468] Trial 136 finished with value: 0.05899198854105021 and parameters: {'alpha': 0.9350930353324383, 'tol': 0.005703140657671972}. Best is trial 49 with value: 0.05899178049279683.\n",
      "[I 2025-05-03 11:12:15,452] Trial 138 finished with value: 0.05899240627364179 and parameters: {'alpha': 0.2782492858553758, 'tol': 0.006550768573900197}. Best is trial 49 with value: 0.05899178049279683.\n",
      "[I 2025-05-03 11:12:18,269] Trial 139 finished with value: 0.05899180272416452 and parameters: {'alpha': 1.5942173971046079, 'tol': 0.005487039085318896}. Best is trial 49 with value: 0.05899178049279683.\n",
      "[I 2025-05-03 11:12:29,816] Trial 140 finished with value: 0.05899191804405454 and parameters: {'alpha': 1.112413016449139, 'tol': 0.006277857315336812}. Best is trial 49 with value: 0.05899178049279683.\n",
      "[I 2025-05-03 11:12:29,836] Trial 141 finished with value: 0.05899213073367731 and parameters: {'alpha': 3.4407294825271846, 'tol': 0.0051349482155548225}. Best is trial 49 with value: 0.05899178049279683.\n",
      "[I 2025-05-03 11:12:31,804] Trial 142 finished with value: 0.05899222184406555 and parameters: {'alpha': 3.6428879521821433, 'tol': 0.005338988817085598}. Best is trial 49 with value: 0.05899178049279683.\n",
      "[I 2025-05-03 11:12:34,648] Trial 143 finished with value: 0.05899178325983517 and parameters: {'alpha': 1.813323982865313, 'tol': 0.00761105667617144}. Best is trial 49 with value: 0.05899178049279683.\n",
      "[I 2025-05-03 11:12:47,910] Trial 145 finished with value: 0.058991834289447126 and parameters: {'alpha': 1.4107235026727292, 'tol': 0.008339377057519025}. Best is trial 49 with value: 0.05899178049279683.\n",
      "[I 2025-05-03 11:12:47,926] Trial 144 finished with value: 0.058991797422447756 and parameters: {'alpha': 2.2455538402756217, 'tol': 0.007993948487950348}. Best is trial 49 with value: 0.05899178049279683.\n",
      "[I 2025-05-03 11:12:51,586] Trial 146 finished with value: 0.05899184006340564 and parameters: {'alpha': 1.3842117902376638, 'tol': 0.007716235812982329}. Best is trial 49 with value: 0.05899178049279683.\n",
      "[I 2025-05-03 11:12:52,681] Trial 147 finished with value: 0.05899179232841698 and parameters: {'alpha': 2.194023177057046, 'tol': 0.007452711089384467}. Best is trial 49 with value: 0.05899178049279683.\n",
      "[I 2025-05-03 11:13:03,533] Trial 148 finished with value: 0.05899178524166749 and parameters: {'alpha': 1.7759042985928737, 'tol': 0.006900274740323611}. Best is trial 49 with value: 0.05899178049279683.\n",
      "[I 2025-05-03 11:13:05,259] Trial 149 finished with value: 0.058991785896084274 and parameters: {'alpha': 2.1094512891318558, 'tol': 0.007113392532537632}. Best is trial 49 with value: 0.05899178049279683.\n",
      "[I 2025-05-03 11:13:08,062] Trial 150 finished with value: 0.058991800310736676 and parameters: {'alpha': 2.2714401266285638, 'tol': 0.007172433044568185}. Best is trial 49 with value: 0.05899178049279683.\n",
      "[I 2025-05-03 11:13:09,934] Trial 151 finished with value: 0.05899179619452436 and parameters: {'alpha': 2.2339078437246656, 'tol': 0.006877617990296811}. Best is trial 49 with value: 0.05899178049279683.\n",
      "[I 2025-05-03 11:13:21,525] Trial 153 finished with value: 0.05899181099706887 and parameters: {'alpha': 1.5371610143898422, 'tol': 0.008065644366139497}. Best is trial 49 with value: 0.05899178049279683.\n",
      "[I 2025-05-03 11:13:22,386] Trial 152 finished with value: 0.05899179092095944 and parameters: {'alpha': 1.7001888812784591, 'tol': 0.008694411380704911}. Best is trial 49 with value: 0.05899178049279683.\n",
      "[I 2025-05-03 11:13:25,191] Trial 154 finished with value: 0.05899189621632207 and parameters: {'alpha': 1.1773202877004714, 'tol': 0.008271589563987856}. Best is trial 49 with value: 0.05899178049279683.\n",
      "[I 2025-05-03 11:13:26,990] Trial 155 finished with value: 0.058991792299453234 and parameters: {'alpha': 1.6853555182380724, 'tol': 0.008284838304673782}. Best is trial 49 with value: 0.05899178049279683.\n",
      "[I 2025-05-03 11:13:38,786] Trial 156 finished with value: 0.05899248564858829 and parameters: {'alpha': 0.18785529424355607, 'tol': 0.0035401983252286496}. Best is trial 49 with value: 0.05899178049279683.\n",
      "[I 2025-05-03 11:13:39,663] Trial 157 finished with value: 0.05899178195717234 and parameters: {'alpha': 2.0259289011992214, 'tol': 0.00827599511813616}. Best is trial 49 with value: 0.05899178049279683.\n",
      "[I 2025-05-03 11:13:41,479] Trial 158 finished with value: 0.058991816235339924 and parameters: {'alpha': 2.389645980763285, 'tol': 0.00876304736817201}. Best is trial 49 with value: 0.05899178049279683.\n",
      "[I 2025-05-03 11:13:44,254] Trial 159 finished with value: 0.05899211925699634 and parameters: {'alpha': 3.4137893174309726, 'tol': 0.00835192924295837}. Best is trial 49 with value: 0.05899178049279683.\n",
      "[I 2025-05-03 11:13:56,729] Trial 161 finished with value: 0.05899251816598295 and parameters: {'alpha': 4.205577352240031, 'tol': 0.009465101551279009}. Best is trial 49 with value: 0.05899178049279683.\n",
      "[I 2025-05-03 11:13:56,746] Trial 160 finished with value: 0.05899213649171557 and parameters: {'alpha': 3.454106667874635, 'tol': 0.008135510712714365}. Best is trial 49 with value: 0.05899178049279683.\n",
      "[I 2025-05-03 11:13:58,588] Trial 162 finished with value: 0.05899188978525008 and parameters: {'alpha': 2.74559122658172, 'tol': 0.00868189032085298}. Best is trial 49 with value: 0.05899178049279683.\n",
      "[I 2025-05-03 11:14:01,317] Trial 163 finished with value: 0.05899179306024757 and parameters: {'alpha': 2.202009086560185, 'tol': 0.009022598841446171}. Best is trial 49 with value: 0.05899178049279683.\n",
      "[I 2025-05-03 11:14:14,781] Trial 165 finished with value: 0.058991784746533285 and parameters: {'alpha': 2.0897208144805504, 'tol': 0.008695845590670506}. Best is trial 49 with value: 0.05899178049279683.\n",
      "[I 2025-05-03 11:14:14,793] Trial 164 finished with value: 0.058991780568862597 and parameters: {'alpha': 1.9138036885634317, 'tol': 0.008578923336565696}. Best is trial 49 with value: 0.05899178049279683.\n",
      "[I 2025-05-03 11:14:16,627] Trial 166 finished with value: 0.058991851012297945 and parameters: {'alpha': 1.3374764561156922, 'tol': 0.008340861472015727}. Best is trial 49 with value: 0.05899178049279683.\n",
      "[I 2025-05-03 11:14:19,411] Trial 167 finished with value: 0.05899201688469179 and parameters: {'alpha': 0.8735371196164821, 'tol': 0.007829054249059242}. Best is trial 49 with value: 0.05899178049279683.\n",
      "[I 2025-05-03 11:14:32,818] Trial 169 finished with value: 0.05899198968958134 and parameters: {'alpha': 0.9325095080767027, 'tol': 0.00873371812240808}. Best is trial 49 with value: 0.05899178049279683.\n",
      "[I 2025-05-03 11:14:32,836] Trial 168 finished with value: 0.05899179547427763 and parameters: {'alpha': 1.6542775584155756, 'tol': 0.008383718517847043}. Best is trial 49 with value: 0.05899178049279683.\n",
      "[I 2025-05-03 11:14:34,654] Trial 170 finished with value: 0.05899184154590983 and parameters: {'alpha': 2.5338772422130282, 'tol': 0.006819467646720328}. Best is trial 49 with value: 0.05899178049279683.\n",
      "[I 2025-05-03 11:14:37,401] Trial 171 finished with value: 0.05899747011762213 and parameters: {'alpha': 9.810937083086815, 'tol': 0.00884832343952616}. Best is trial 49 with value: 0.05899178049279683.\n",
      "[I 2025-05-03 11:14:49,930] Trial 172 finished with value: 0.05899191250297846 and parameters: {'alpha': 2.829956120084706, 'tol': 0.006492663505570334}. Best is trial 49 with value: 0.05899178049279683.\n",
      "[I 2025-05-03 11:14:50,842] Trial 173 finished with value: 0.05899202464718472 and parameters: {'alpha': 3.17480822992625, 'tol': 0.006949480470291338}. Best is trial 49 with value: 0.05899178049279683.\n",
      "[I 2025-05-03 11:14:52,634] Trial 174 finished with value: 0.05899179190171395 and parameters: {'alpha': 2.18925625841511, 'tol': 0.007432266110464096}. Best is trial 49 with value: 0.05899178049279683.\n",
      "[I 2025-05-03 11:14:55,381] Trial 175 finished with value: 0.0589917901029874 and parameters: {'alpha': 1.7094714143990926, 'tol': 0.007433134496072107}. Best is trial 49 with value: 0.05899178049279683.\n",
      "[I 2025-05-03 11:15:07,950] Trial 176 finished with value: 0.058991806484615356 and parameters: {'alpha': 1.567108784710705, 'tol': 0.007095463363265773}. Best is trial 49 with value: 0.05899178049279683.\n",
      "[I 2025-05-03 11:15:08,790] Trial 177 finished with value: 0.058991780587883694 and parameters: {'alpha': 1.9597930339429754, 'tol': 0.00806710408228634}. Best is trial 49 with value: 0.05899178049279683.\n",
      "[I 2025-05-03 11:15:10,619] Trial 178 finished with value: 0.058991782535393215 and parameters: {'alpha': 2.042262953107135, 'tol': 0.009045038274160816}. Best is trial 49 with value: 0.05899178049279683.\n",
      "[I 2025-05-03 11:15:14,334] Trial 179 finished with value: 0.05899179676674494 and parameters: {'alpha': 1.6426133227260606, 'tol': 0.008868697904670772}. Best is trial 49 with value: 0.05899178049279683.\n",
      "[I 2025-05-03 11:15:26,077] Trial 180 finished with value: 0.05899181733733875 and parameters: {'alpha': 2.396778731559864, 'tol': 0.008771188832968624}. Best is trial 49 with value: 0.05899178049279683.\n",
      "[I 2025-05-03 11:15:26,913] Trial 181 finished with value: 0.05899178958882682 and parameters: {'alpha': 1.715515228686657, 'tol': 0.008981151639039056}. Best is trial 49 with value: 0.05899178049279683.\n",
      "[I 2025-05-03 11:15:28,719] Trial 182 finished with value: 0.05899183322202644 and parameters: {'alpha': 1.4157883139343164, 'tol': 0.009878638389718324}. Best is trial 49 with value: 0.05899178049279683.\n",
      "[I 2025-05-03 11:15:31,550] Trial 183 finished with value: 0.05899178661165826 and parameters: {'alpha': 1.7546072966049489, 'tol': 0.009619465255624748}. Best is trial 49 with value: 0.05899178049279683.\n",
      "[I 2025-05-03 11:15:44,384] Trial 185 finished with value: 0.058991936798489554 and parameters: {'alpha': 1.061061686719774, 'tol': 0.009799327340869354}. Best is trial 49 with value: 0.05899178049279683.\n",
      "[I 2025-05-03 11:15:44,408] Trial 184 finished with value: 0.05899220478631351 and parameters: {'alpha': 0.5446600889054534, 'tol': 0.00979478118399304}. Best is trial 49 with value: 0.05899178049279683.\n",
      "[I 2025-05-03 11:15:45,408] Trial 186 finished with value: 0.05899189732632437 and parameters: {'alpha': 2.774405169561171, 'tol': 0.009959396058169086}. Best is trial 49 with value: 0.05899178049279683.\n",
      "[I 2025-05-03 11:15:49,086] Trial 187 finished with value: 0.05899187570083241 and parameters: {'alpha': 2.689239118549879, 'tol': 0.008605005400876782}. Best is trial 49 with value: 0.05899178049279683.\n",
      "[I 2025-05-03 11:16:01,783] Trial 188 finished with value: 0.058992223281549426 and parameters: {'alpha': 3.6459318020703204, 'tol': 0.008818423943363622}. Best is trial 49 with value: 0.05899178049279683.\n",
      "[I 2025-05-03 11:16:01,804] Trial 189 finished with value: 0.05899195630994329 and parameters: {'alpha': 2.9760016729092102, 'tol': 0.008601224142493317}. Best is trial 49 with value: 0.05899178049279683.\n",
      "[I 2025-05-03 11:16:03,669] Trial 190 finished with value: 0.05899462046131321 and parameters: {'alpha': 6.958043642871917, 'tol': 0.0017419376305223867}. Best is trial 49 with value: 0.05899178049279683.\n",
      "[I 2025-05-03 11:16:06,483] Trial 191 finished with value: 0.058991911656665195 and parameters: {'alpha': 2.8269366969730405, 'tol': 0.007894306962034884}. Best is trial 49 with value: 0.05899178049279683.\n",
      "[I 2025-05-03 11:16:19,259] Trial 193 finished with value: 0.05899202780033637 and parameters: {'alpha': 0.8509550664440879, 'tol': 0.006938322143087832}. Best is trial 49 with value: 0.05899178049279683.\n",
      "[I 2025-05-03 11:16:20,127] Trial 192 finished with value: 0.058991796332046605 and parameters: {'alpha': 2.23523345811, 'tol': 0.004111680867372163}. Best is trial 49 with value: 0.05899178049279683.\n",
      "[I 2025-05-03 11:16:21,124] Trial 194 finished with value: 0.05899181927402343 and parameters: {'alpha': 1.487756148818265, 'tol': 0.007281712693369432}. Best is trial 49 with value: 0.05899178049279683.\n",
      "[I 2025-05-03 11:16:25,618] Trial 195 finished with value: 0.058991963714556915 and parameters: {'alpha': 0.9930306876900652, 'tol': 0.007341259964246364}. Best is trial 49 with value: 0.05899178049279683.\n",
      "[I 2025-05-03 11:16:35,682] Trial 196 finished with value: 0.05899179090594176 and parameters: {'alpha': 2.177783879973334, 'tol': 0.007649127851981323}. Best is trial 49 with value: 0.05899178049279683.\n",
      "[I 2025-05-03 11:16:36,519] Trial 197 finished with value: 0.058991965587097496 and parameters: {'alpha': 0.9885124027452197, 'tol': 0.007534935162693231}. Best is trial 49 with value: 0.05899178049279683.\n",
      "[I 2025-05-03 11:16:38,347] Trial 198 finished with value: 0.0589917938928006 and parameters: {'alpha': 2.2108252184151587, 'tol': 0.00804773883185551}. Best is trial 49 with value: 0.05899178049279683.\n",
      "[I 2025-05-03 11:16:41,150] Trial 199 finished with value: 0.05899178677056775 and parameters: {'alpha': 1.7523019350612776, 'tol': 0.007880722383351612}. Best is trial 49 with value: 0.05899178049279683.\n",
      "[I 2025-05-03 11:16:53,742] Trial 201 finished with value: 0.05899182595506947 and parameters: {'alpha': 2.4494104172664417, 'tol': 0.007969394767461987}. Best is trial 49 with value: 0.05899178049279683.\n",
      "[I 2025-05-03 11:16:53,753] Trial 200 finished with value: 0.05899178770328784 and parameters: {'alpha': 2.1366962943522907, 'tol': 0.007907733859177037}. Best is trial 49 with value: 0.05899178049279683.\n",
      "[I 2025-05-03 11:16:54,727] Trial 202 finished with value: 0.05899182709961248 and parameters: {'alpha': 1.4459535405720354, 'tol': 0.008298554828288819}. Best is trial 49 with value: 0.05899178049279683.\n",
      "[I 2025-05-03 11:16:58,463] Trial 203 finished with value: 0.058991850761706516 and parameters: {'alpha': 2.579078456294212, 'tol': 0.005930885820968643}. Best is trial 49 with value: 0.05899178049279683.\n",
      "[I 2025-05-03 11:17:09,333] Trial 204 finished with value: 0.05899180231543012 and parameters: {'alpha': 1.5973036731256482, 'tol': 0.006502417093837951}. Best is trial 49 with value: 0.05899178049279683.\n",
      "[I 2025-05-03 11:17:10,185] Trial 205 finished with value: 0.05899184402330532 and parameters: {'alpha': 2.546322627792515, 'tol': 0.0058325608007506295}. Best is trial 49 with value: 0.05899178049279683.\n",
      "[I 2025-05-03 11:17:11,180] Trial 206 finished with value: 0.058991854941108104 and parameters: {'alpha': 2.598666434258061, 'tol': 0.005781799365675381}. Best is trial 49 with value: 0.05899178049279683.\n",
      "[I 2025-05-03 11:17:17,507] Trial 207 finished with value: 0.05899437222816703 and parameters: {'alpha': 6.681048288902085, 'tol': 0.0056104371371517425}. Best is trial 49 with value: 0.05899178049279683.\n",
      "[I 2025-05-03 11:17:26,636] Trial 208 finished with value: 0.058991780986252074 and parameters: {'alpha': 1.9883282019668638, 'tol': 0.006499965434780588}. Best is trial 49 with value: 0.05899178049279683.\n",
      "[I 2025-05-03 11:17:28,348] Trial 209 finished with value: 0.05899178186267172 and parameters: {'alpha': 2.0229747241657536, 'tol': 0.006979905152918066}. Best is trial 49 with value: 0.05899178049279683.\n",
      "[I 2025-05-03 11:17:29,316] Trial 210 finished with value: 0.058991781136825995 and parameters: {'alpha': 1.8760034011127684, 'tol': 0.008505374310954607}. Best is trial 49 with value: 0.05899178049279683.\n",
      "[I 2025-05-03 11:17:34,764] Trial 211 finished with value: 0.058992099033653767 and parameters: {'alpha': 0.715938854085296, 'tol': 0.007964174944281106}. Best is trial 49 with value: 0.05899178049279683.\n",
      "[I 2025-05-03 11:17:45,536] Trial 212 finished with value: 0.058992430824663294 and parameters: {'alpha': 0.24957324705328232, 'tol': 0.0077467735856427975}. Best is trial 49 with value: 0.05899178049279683.\n",
      "[I 2025-05-03 11:17:46,410] Trial 213 finished with value: 0.05899187592776017 and parameters: {'alpha': 2.690176072384222, 'tol': 0.006934979078793716}. Best is trial 49 with value: 0.05899178049279683.\n",
      "[I 2025-05-03 11:17:47,365] Trial 214 finished with value: 0.058991784361944966 and parameters: {'alpha': 2.0825472353902725, 'tol': 0.006542037500678663}. Best is trial 49 with value: 0.05899178049279683.\n",
      "[I 2025-05-03 11:17:51,977] Trial 215 finished with value: 0.05899180145452198 and parameters: {'alpha': 1.6039042186800496, 'tol': 0.006375091867428734}. Best is trial 49 with value: 0.05899178049279683.\n",
      "[I 2025-05-03 11:18:03,859] Trial 217 finished with value: 0.058991917106573394 and parameters: {'alpha': 1.1150788239667566, 'tol': 0.005615843972399254}. Best is trial 49 with value: 0.05899178049279683.\n",
      "[I 2025-05-03 11:18:04,704] Trial 218 finished with value: 0.05899186603602315 and parameters: {'alpha': 2.6483369632475404, 'tol': 0.009145770827684292}. Best is trial 49 with value: 0.05899178049279683.\n",
      "[I 2025-05-03 11:18:05,584] Trial 216 finished with value: 0.0589920756328035 and parameters: {'alpha': 3.307687429283634, 'tol': 0.007112808996984861}. Best is trial 49 with value: 0.05899178049279683.\n",
      "[I 2025-05-03 11:18:10,135] Trial 219 finished with value: 0.05899182901475565 and parameters: {'alpha': 2.466945827393148, 'tol': 0.008890827737369081}. Best is trial 49 with value: 0.05899178049279683.\n",
      "[I 2025-05-03 11:18:21,874] Trial 222 finished with value: 0.058991781121379164 and parameters: {'alpha': 1.9949860690623962, 'tol': 0.008374465153295886}. Best is trial 49 with value: 0.05899178049279683.\n",
      "[I 2025-05-03 11:18:21,875] Trial 221 finished with value: 0.05899178332062775 and parameters: {'alpha': 2.0611395683181573, 'tol': 0.008202847008685477}. Best is trial 49 with value: 0.05899178049279683.\n",
      "[I 2025-05-03 11:18:22,820] Trial 220 finished with value: 0.05899188632977358 and parameters: {'alpha': 2.7320875232206765, 'tol': 0.008621555110201877}. Best is trial 49 with value: 0.05899178049279683.\n",
      "[I 2025-05-03 11:18:26,535] Trial 223 finished with value: 0.05899178133305304 and parameters: {'alpha': 2.004138818466176, 'tol': 0.008301497603902586}. Best is trial 49 with value: 0.05899178049279683.\n",
      "[I 2025-05-03 11:18:36,692] Trial 225 finished with value: 0.05899178227859413 and parameters: {'alpha': 1.8371224203626204, 'tol': 0.008825197203120095}. Best is trial 49 with value: 0.05899178049279683.\n",
      "[I 2025-05-03 11:18:38,378] Trial 224 finished with value: 0.058991805656575406 and parameters: {'alpha': 1.572892475486018, 'tol': 0.008126166192630964}. Best is trial 49 with value: 0.05899178049279683.\n",
      "[I 2025-05-03 11:18:38,380] Trial 226 finished with value: 0.05899184000164069 and parameters: {'alpha': 1.3844879466828794, 'tol': 0.008308926530976306}. Best is trial 49 with value: 0.05899178049279683.\n",
      "[I 2025-05-03 11:18:39,539] Trial 227 finished with value: 0.05899179330238897 and parameters: {'alpha': 1.6751169596103708, 'tol': 0.008856559229083502}. Best is trial 49 with value: 0.05899178049279683.\n",
      "[I 2025-05-03 11:18:53,983] Trial 228 finished with value: 0.058991985444606536 and parameters: {'alpha': 0.9420985881116364, 'tol': 0.008758639121041108}. Best is trial 49 with value: 0.05899178049279683.\n",
      "[I 2025-05-03 11:18:53,997] Trial 230 finished with value: 0.058991855055654886 and parameters: {'alpha': 1.3212129430817043, 'tol': 0.009158585322717024}. Best is trial 49 with value: 0.05899178049279683.\n",
      "[I 2025-05-03 11:18:54,017] Trial 229 finished with value: 0.05899181565500674 and parameters: {'alpha': 2.385847900741971, 'tol': 0.00953630521625345}. Best is trial 49 with value: 0.05899178049279683.\n",
      "[I 2025-05-03 11:18:55,183] Trial 231 finished with value: 0.058991852331548154 and parameters: {'alpha': 2.5864975241997135, 'tol': 0.009867130564195095}. Best is trial 49 with value: 0.05899178049279683.\n",
      "[I 2025-05-03 11:19:11,206] Trial 232 finished with value: 0.05899191373289979 and parameters: {'alpha': 2.834328706807261, 'tol': 0.009932787315333652}. Best is trial 49 with value: 0.05899178049279683.\n",
      "[I 2025-05-03 11:19:11,232] Trial 234 finished with value: 0.058992158378677384 and parameters: {'alpha': 3.5041522238210003, 'tol': 0.007734562159611364}. Best is trial 49 with value: 0.05899178049279683.\n",
      "[I 2025-05-03 11:19:12,195] Trial 233 finished with value: 0.0589948867097712 and parameters: {'alpha': 7.2477843666474815, 'tol': 0.009552100792259335}. Best is trial 49 with value: 0.05899178049279683.\n",
      "[I 2025-05-03 11:19:13,105] Trial 235 finished with value: 0.05899185859471793 and parameters: {'alpha': 2.6153779030889828, 'tol': 0.007622425036264681}. Best is trial 49 with value: 0.05899178049279683.\n",
      "[I 2025-05-03 11:19:27,582] Trial 236 finished with value: 0.058991949056042325 and parameters: {'alpha': 2.9530437845955575, 'tol': 0.007956626592086772}. Best is trial 49 with value: 0.05899178049279683.\n",
      "[I 2025-05-03 11:19:28,420] Trial 237 finished with value: 0.058991804047270925 and parameters: {'alpha': 2.3023729875396715, 'tol': 0.00779255010096932}. Best is trial 49 with value: 0.05899178049279683.\n",
      "[I 2025-05-03 11:19:29,425] Trial 238 finished with value: 0.05899184345618552 and parameters: {'alpha': 2.5434938599019388, 'tol': 0.007680938580094034}. Best is trial 49 with value: 0.05899178049279683.\n",
      "[I 2025-05-03 11:19:30,303] Trial 239 finished with value: 0.05899183022429451 and parameters: {'alpha': 2.4737341352675353, 'tol': 0.008130866110174193}. Best is trial 49 with value: 0.05899178049279683.\n",
      "[I 2025-05-03 11:19:45,582] Trial 240 finished with value: 0.05899178048421589 and parameters: {'alpha': 1.939551665908333, 'tol': 0.008596880369726926}. Best is trial 240 with value: 0.05899178048421589.\n",
      "[I 2025-05-03 11:19:46,437] Trial 241 finished with value: 0.05899178121376922 and parameters: {'alpha': 1.8726131281982406, 'tol': 0.008317559705792751}. Best is trial 240 with value: 0.05899178048421589.\n",
      "[I 2025-05-03 11:19:48,271] Trial 242 finished with value: 0.05899192574930243 and parameters: {'alpha': 1.090872951065277, 'tol': 0.00834312209341778}. Best is trial 240 with value: 0.05899178048421589.\n",
      "[I 2025-05-03 11:19:48,288] Trial 243 finished with value: 0.05899178554613657 and parameters: {'alpha': 1.77092548192028, 'tol': 0.008208145283263047}. Best is trial 240 with value: 0.05899178048421589.\n",
      "[I 2025-05-03 11:20:04,502] Trial 245 finished with value: 0.05899178168432836 and parameters: {'alpha': 1.8549517454819318, 'tol': 0.009133702760823363}. Best is trial 240 with value: 0.05899178048421589.\n",
      "[I 2025-05-03 11:20:04,523] Trial 244 finished with value: 0.05899178689059955 and parameters: {'alpha': 1.7505802707424798, 'tol': 0.009154235819464855}. Best is trial 240 with value: 0.05899178048421589.\n",
      "[I 2025-05-03 11:20:06,354] Trial 247 finished with value: 0.058991780491269914 and parameters: {'alpha': 1.928299567437058, 'tol': 0.008929746797692362}. Best is trial 240 with value: 0.05899178048421589.\n",
      "[I 2025-05-03 11:20:06,354] Trial 246 finished with value: 0.05899179874684141 and parameters: {'alpha': 1.625637826922902, 'tol': 0.009221113435439994}. Best is trial 240 with value: 0.05899178048421589.\n",
      "[I 2025-05-03 11:20:14,717] Trial 248 finished with value: 0.05899179719357002 and parameters: {'alpha': 1.6388673472063249, 'tol': 0.008987009873201515}. Best is trial 240 with value: 0.05899178048421589.\n",
      "[I 2025-05-03 11:20:15,563] Trial 249 finished with value: 0.058991912222884725 and parameters: {'alpha': 1.1291321006726198, 'tol': 0.009146687028768443}. Best is trial 240 with value: 0.05899178048421589.\n"
     ]
    }
   ],
   "source": [
    "def objective(trial):    \n",
    "    params = {\n",
    "        \"random_state\": CFG.seed,\n",
    "        \"alpha\": trial.suggest_float(\"alpha\", 0, 10),\n",
    "        \"tol\": trial.suggest_float(\"tol\", 1e-6, 1e-2)\n",
    "    }\n",
    "    \n",
    "    trainer = Trainer(\n",
    "        Ridge(**params),\n",
    "        cv=CFG.cv,\n",
    "        metric=CFG.metric,\n",
    "        task=\"regression\",\n",
    "        verbose=False\n",
    "    )\n",
    "    trainer.fit(X, y)\n",
    "    \n",
    "    return trainer.overall_score\n",
    "\n",
    "if CFG.run_optuna:\n",
    "    sampler = optuna.samplers.TPESampler(seed=CFG.seed, multivariate=True)\n",
    "    study = optuna.create_study(direction=\"minimize\", sampler=sampler)\n",
    "    study.optimize(objective, n_trials=CFG.n_optuna_trials, n_jobs=-1, catch=(ValueError,))\n",
    "    best_params = study.best_params\n",
    "\n",
    "    ridge_params = {\n",
    "        \"random_state\": CFG.seed,\n",
    "        \"alpha\": best_params[\"alpha\"],\n",
    "        \"tol\": best_params[\"tol\"]\n",
    "    }\n",
    "else:\n",
    "    ridge_params = {\n",
    "        \"random_state\": CFG.seed\n",
    "    }"
   ]
  },
  {
   "cell_type": "code",
   "execution_count": 29,
   "id": "74f2a257",
   "metadata": {
    "execution": {
     "iopub.execute_input": "2025-05-03T11:20:15.633079Z",
     "iopub.status.busy": "2025-05-03T11:20:15.632729Z",
     "iopub.status.idle": "2025-05-03T11:20:15.638335Z",
     "shell.execute_reply": "2025-05-03T11:20:15.637331Z"
    },
    "papermill": {
     "duration": 0.037878,
     "end_time": "2025-05-03T11:20:15.639739",
     "exception": false,
     "start_time": "2025-05-03T11:20:15.601861",
     "status": "completed"
    },
    "tags": []
   },
   "outputs": [
    {
     "name": "stdout",
     "output_type": "stream",
     "text": [
      "{\n",
      "  \"random_state\": 42,\n",
      "  \"alpha\": 1.939551665908333,\n",
      "  \"tol\": 0.008596880369726926\n",
      "}\n"
     ]
    }
   ],
   "source": [
    "print(json.dumps(ridge_params, indent=2))"
   ]
  },
  {
   "cell_type": "code",
   "execution_count": 30,
   "id": "eedf338b",
   "metadata": {
    "execution": {
     "iopub.execute_input": "2025-05-03T11:20:15.700792Z",
     "iopub.status.busy": "2025-05-03T11:20:15.699922Z",
     "iopub.status.idle": "2025-05-03T11:20:20.683112Z",
     "shell.execute_reply": "2025-05-03T11:20:20.682069Z"
    },
    "papermill": {
     "duration": 5.015114,
     "end_time": "2025-05-03T11:20:20.684639",
     "exception": false,
     "start_time": "2025-05-03T11:20:15.669525",
     "status": "completed"
    },
    "tags": []
   },
   "outputs": [
    {
     "name": "stdout",
     "output_type": "stream",
     "text": [
      "Training Ridge\n",
      "\n",
      "--- Fold 0 - root_mean_squared_error: 0.0589 - Time: 0.15 s\n",
      "--- Fold 1 - root_mean_squared_error: 0.0595 - Time: 0.14 s\n",
      "--- Fold 2 - root_mean_squared_error: 0.0589 - Time: 0.14 s\n",
      "--- Fold 3 - root_mean_squared_error: 0.0592 - Time: 0.14 s\n",
      "--- Fold 4 - root_mean_squared_error: 0.0585 - Time: 0.14 s\n",
      "\n",
      "------ Overall root_mean_squared_error: 0.0590 - Mean root_mean_squared_error: 0.0590 ± 0.0003 - Time: 4.92 s\n"
     ]
    }
   ],
   "source": [
    "ridge_trainer = Trainer(\n",
    "    Ridge(**ridge_params),\n",
    "    cv=CFG.cv,\n",
    "    metric=CFG.metric,\n",
    "    task=\"regression\"\n",
    ")\n",
    "\n",
    "ridge_trainer.fit(X, y)\n",
    "\n",
    "scores[\"Ridge (ensemble)\"] = ridge_trainer.fold_scores\n",
    "ridge_test_preds = np.expm1(ridge_trainer.predict(X_test))"
   ]
  },
  {
   "cell_type": "code",
   "execution_count": 31,
   "id": "1bfcb34b",
   "metadata": {
    "execution": {
     "iopub.execute_input": "2025-05-03T11:20:20.751098Z",
     "iopub.status.busy": "2025-05-03T11:20:20.750310Z",
     "iopub.status.idle": "2025-05-03T11:20:21.052367Z",
     "shell.execute_reply": "2025-05-03T11:20:21.051439Z"
    },
    "papermill": {
     "duration": 0.335041,
     "end_time": "2025-05-03T11:20:21.053933",
     "exception": false,
     "start_time": "2025-05-03T11:20:20.718892",
     "status": "completed"
    },
    "tags": []
   },
   "outputs": [
    {
     "data": {
      "image/png": "[encoded data removed]",
      "text/plain": [
       "<Figure size 1000x400 with 1 Axes>"
      ]
     },
     "metadata": {},
     "output_type": "display_data"
    }
   ],
   "source": [
    "ridge_coeffs = np.zeros((1, X.shape[1]))\n",
    "for m in ridge_trainer.estimators:\n",
    "    ridge_coeffs += m.coef_\n",
    "ridge_coeffs = ridge_coeffs / len(ridge_trainer.estimators)\n",
    "\n",
    "plot_weights(ridge_coeffs, \"Ridge Coefficients\")"
   ]
  },
  {
   "cell_type": "markdown",
   "id": "819ecc7b",
   "metadata": {
    "papermill": {
     "duration": 0.031487,
     "end_time": "2025-05-03T11:20:21.118163",
     "exception": false,
     "start_time": "2025-05-03T11:20:21.086676",
     "status": "completed"
    },
    "tags": []
   },
   "source": [
    "# Submission"
   ]
  },
  {
   "cell_type": "code",
   "execution_count": 32,
   "id": "73c9292d",
   "metadata": {
    "execution": {
     "iopub.execute_input": "2025-05-03T11:20:21.182771Z",
     "iopub.status.busy": "2025-05-03T11:20:21.181935Z",
     "iopub.status.idle": "2025-05-03T11:20:21.901763Z",
     "shell.execute_reply": "2025-05-03T11:20:21.900973Z"
    },
    "papermill": {
     "duration": 0.753219,
     "end_time": "2025-05-03T11:20:21.903198",
     "exception": false,
     "start_time": "2025-05-03T11:20:21.149979",
     "status": "completed"
    },
    "tags": []
   },
   "outputs": [
    {
     "data": {
      "text/html": [
       "<div>\n",
       "<style scoped>\n",
       "    .dataframe tbody tr th:only-of-type {\n",
       "        vertical-align: middle;\n",
       "    }\n",
       "\n",
       "    .dataframe tbody tr th {\n",
       "        vertical-align: top;\n",
       "    }\n",
       "\n",
       "    .dataframe thead th {\n",
       "        text-align: right;\n",
       "    }\n",
       "</style>\n",
       "<table border=\"1\" class=\"dataframe\">\n",
       "  <thead>\n",
       "    <tr style=\"text-align: right;\">\n",
       "      <th></th>\n",
       "      <th>id</th>\n",
       "      <th>Calories</th>\n",
       "    </tr>\n",
       "  </thead>\n",
       "  <tbody>\n",
       "    <tr>\n",
       "      <th>0</th>\n",
       "      <td>750000</td>\n",
       "      <td>27.212573</td>\n",
       "    </tr>\n",
       "    <tr>\n",
       "      <th>1</th>\n",
       "      <td>750001</td>\n",
       "      <td>107.747705</td>\n",
       "    </tr>\n",
       "    <tr>\n",
       "      <th>2</th>\n",
       "      <td>750002</td>\n",
       "      <td>87.148808</td>\n",
       "    </tr>\n",
       "    <tr>\n",
       "      <th>3</th>\n",
       "      <td>750003</td>\n",
       "      <td>125.803990</td>\n",
       "    </tr>\n",
       "    <tr>\n",
       "      <th>4</th>\n",
       "      <td>750004</td>\n",
       "      <td>76.026343</td>\n",
       "    </tr>\n",
       "  </tbody>\n",
       "</table>\n",
       "</div>"
      ],
      "text/plain": [
       "       id    Calories\n",
       "0  750000   27.212573\n",
       "1  750001  107.747705\n",
       "2  750002   87.148808\n",
       "3  750003  125.803990\n",
       "4  750004   76.026343"
      ]
     },
     "execution_count": 32,
     "metadata": {},
     "output_type": "execute_result"
    }
   ],
   "source": [
    "sub = pd.read_csv(CFG.sample_sub_path)\n",
    "sub[CFG.target] = ridge_test_preds\n",
    "sub.to_csv(f\"sub_ridge_{np.mean(scores['Ridge (ensemble)']):.6f}.csv\", index=False)\n",
    "sub.head()"
   ]
  },
  {
   "cell_type": "markdown",
   "id": "c9db41ba",
   "metadata": {
    "papermill": {
     "duration": 0.044129,
     "end_time": "2025-05-03T11:20:21.978768",
     "exception": false,
     "start_time": "2025-05-03T11:20:21.934639",
     "status": "completed"
    },
    "tags": []
   },
   "source": [
    "# Results"
   ]
  },
  {
   "cell_type": "code",
   "execution_count": 33,
   "id": "579a9e9d",
   "metadata": {
    "execution": {
     "iopub.execute_input": "2025-05-03T11:20:22.063799Z",
     "iopub.status.busy": "2025-05-03T11:20:22.063073Z",
     "iopub.status.idle": "2025-05-03T11:20:22.678332Z",
     "shell.execute_reply": "2025-05-03T11:20:22.677513Z"
    },
    "papermill": {
     "duration": 0.655479,
     "end_time": "2025-05-03T11:20:22.680198",
     "exception": false,
     "start_time": "2025-05-03T11:20:22.024719",
     "status": "completed"
    },
    "tags": []
   },
   "outputs": [
    {
     "data": {
      "image/png": "[encoded data removed]",
      "text/plain": [
       "<Figure size 1500x270 with 2 Axes>"
      ]
     },
     "metadata": {},
     "output_type": "display_data"
    }
   ],
   "source": [
    "scores = pd.DataFrame(scores)\n",
    "mean_scores = scores.mean().sort_values(ascending=True)\n",
    "order = scores.mean().sort_values(ascending=True).index.tolist()\n",
    "\n",
    "min_score = mean_scores.min()\n",
    "max_score = mean_scores.max()\n",
    "padding = (max_score - min_score) * 0.5\n",
    "lower_limit = min_score - padding\n",
    "upper_limit = max_score + padding\n",
    "\n",
    "fig, axs = plt.subplots(1, 2, figsize=(15, scores.shape[1] * 0.3))\n",
    "\n",
    "boxplot = sns.boxplot(data=scores, order=order, ax=axs[0], orient=\"h\", color=\"grey\")\n",
    "axs[0].set_title(f\"Fold {CFG.metric.__name__}\")\n",
    "axs[0].set_xlabel(\"\")\n",
    "axs[0].set_ylabel(\"\")\n",
    "\n",
    "barplot = sns.barplot(x=mean_scores.values, y=mean_scores.index, ax=axs[1], color=\"grey\")\n",
    "axs[1].set_title(f\"Average {CFG.metric.__name__}\")\n",
    "axs[1].set_xlabel(\"\")\n",
    "axs[1].set_xlim(left=lower_limit, right=upper_limit)\n",
    "axs[1].set_ylabel(\"\")\n",
    "\n",
    "for i, (score, model) in enumerate(zip(mean_scores.values, mean_scores.index)):\n",
    "    color = \"cyan\" if \"ensemble\" in model.lower() else \"grey\"\n",
    "    barplot.patches[i].set_facecolor(color)\n",
    "    boxplot.patches[i].set_facecolor(color)\n",
    "    barplot.text(score, i, round(score, 6), va=\"center\")\n",
    "\n",
    "plt.tight_layout()\n",
    "plt.show()"
   ]
  },
  {
   "cell_type": "code",
   "execution_count": 34,
   "id": "1f6a0c94",
   "metadata": {
    "execution": {
     "iopub.execute_input": "2025-05-03T11:20:22.746477Z",
     "iopub.status.busy": "2025-05-03T11:20:22.746195Z",
     "iopub.status.idle": "2025-05-03T11:20:22.751366Z",
     "shell.execute_reply": "2025-05-03T11:20:22.750731Z"
    },
    "papermill": {
     "duration": 0.039426,
     "end_time": "2025-05-03T11:20:22.752676",
     "exception": false,
     "start_time": "2025-05-03T11:20:22.713250",
     "status": "completed"
    },
    "tags": []
   },
   "outputs": [],
   "source": [
    "shutil.rmtree(\"catboost_info\", ignore_errors=True)"
   ]
  }
 ],
 "metadata": {
  "kaggle": {
   "accelerator": "none",
   "dataSources": [
    {
     "databundleVersionId": 11893428,
     "sourceId": 91716,
     "sourceType": "competition"
    },
    {
     "databundleVersionId": 10852737,
     "datasetId": 6512323,
     "sourceId": 10522392,
     "sourceType": "datasetVersion"
    },
    {
     "sourceId": 237456322,
     "sourceType": "kernelVersion"
    }
   ],
   "dockerImageVersionId": 31012,
   "isGpuEnabled": false,
   "isInternetEnabled": true,
   "language": "python",
   "sourceType": "notebook"
  },
  "kernelspec": {
   "display_name": "Python 3",
   "language": "python",
   "name": "python3"
  },
  "language_info": {
   "codemirror_mode": {
    "name": "ipython",
    "version": 3
   },
   "file_extension": ".py",
   "mimetype": "text/x-python",
   "name": "python",
   "nbconvert_exporter": "python",
   "pygments_lexer": "ipython3",
   "version": "3.11.11"
  },
  "papermill": {
   "default_parameters": {},
   "duration": 8361.663575,
   "end_time": "2025-05-03T11:20:26.050597",
   "environment_variables": {},
   "exception": null,
   "input_path": "__notebook__.ipynb",
   "output_path": "__notebook__.ipynb",
   "parameters": {},
   "start_time": "2025-05-03T09:01:04.387022",
   "version": "2.6.0"
  }
 },
 "nbformat": 4,
 "nbformat_minor": 5
}
