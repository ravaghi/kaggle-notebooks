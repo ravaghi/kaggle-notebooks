{
 "cells": [
  {
   "cell_type": "code",
   "execution_count": 1,
   "id": "0ae5330f",
   "metadata": {
    "_kg_hide-output": true,
    "execution": {
     "iopub.execute_input": "2025-05-08T06:49:02.801103Z",
     "iopub.status.busy": "2025-05-08T06:49:02.800743Z",
     "iopub.status.idle": "2025-05-08T06:49:11.646180Z",
     "shell.execute_reply": "2025-05-08T06:49:11.645275Z"
    },
    "papermill": {
     "duration": 8.854183,
     "end_time": "2025-05-08T06:49:11.648035",
     "exception": false,
     "start_time": "2025-05-08T06:49:02.793852",
     "status": "completed"
    },
    "scrolled": true,
    "tags": []
   },
   "outputs": [
    {
     "name": "stdout",
     "output_type": "stream",
     "text": [
      "Collecting koolbox\r\n",
      "  Downloading koolbox-0.1.2-py3-none-any.whl.metadata (2.4 kB)\r\n",
      "Collecting scikit-learn==1.5.2\r\n",
      "  Downloading scikit_learn-1.5.2-cp311-cp311-manylinux_2_17_x86_64.manylinux2014_x86_64.whl.metadata (13 kB)\r\n",
      "Requirement already satisfied: numpy>=1.19.5 in /usr/local/lib/python3.11/dist-packages (from scikit-learn==1.5.2) (1.26.4)\r\n",
      "Requirement already satisfied: scipy>=1.6.0 in /usr/local/lib/python3.11/dist-packages (from scikit-learn==1.5.2) (1.15.2)\r\n",
      "Requirement already satisfied: joblib>=1.2.0 in /usr/local/lib/python3.11/dist-packages (from scikit-learn==1.5.2) (1.4.2)\r\n",
      "Requirement already satisfied: threadpoolctl>=3.1.0 in /usr/local/lib/python3.11/dist-packages (from scikit-learn==1.5.2) (3.6.0)\r\n",
      "Requirement already satisfied: pandas>=1.0.0 in /usr/local/lib/python3.11/dist-packages (from koolbox) (2.2.3)\r\n",
      "Requirement already satisfied: mkl_fft in /usr/local/lib/python3.11/dist-packages (from numpy>=1.19.5->scikit-learn==1.5.2) (1.3.8)\r\n",
      "Requirement already satisfied: mkl_random in /usr/local/lib/python3.11/dist-packages (from numpy>=1.19.5->scikit-learn==1.5.2) (1.2.4)\r\n",
      "Requirement already satisfied: mkl_umath in /usr/local/lib/python3.11/dist-packages (from numpy>=1.19.5->scikit-learn==1.5.2) (0.1.1)\r\n",
      "Requirement already satisfied: mkl in /usr/local/lib/python3.11/dist-packages (from numpy>=1.19.5->scikit-learn==1.5.2) (2025.1.0)\r\n",
      "Requirement already satisfied: tbb4py in /usr/local/lib/python3.11/dist-packages (from numpy>=1.19.5->scikit-learn==1.5.2) (2022.1.0)\r\n",
      "Requirement already satisfied: mkl-service in /usr/local/lib/python3.11/dist-packages (from numpy>=1.19.5->scikit-learn==1.5.2) (2.4.1)\r\n",
      "Requirement already satisfied: python-dateutil>=2.8.2 in /usr/local/lib/python3.11/dist-packages (from pandas>=1.0.0->koolbox) (2.9.0.post0)\r\n",
      "Requirement already satisfied: pytz>=2020.1 in /usr/local/lib/python3.11/dist-packages (from pandas>=1.0.0->koolbox) (2025.2)\r\n",
      "Requirement already satisfied: tzdata>=2022.7 in /usr/local/lib/python3.11/dist-packages (from pandas>=1.0.0->koolbox) (2025.2)\r\n",
      "Requirement already satisfied: six>=1.5 in /usr/local/lib/python3.11/dist-packages (from python-dateutil>=2.8.2->pandas>=1.0.0->koolbox) (1.17.0)\r\n",
      "Requirement already satisfied: intel-openmp<2026,>=2024 in /usr/local/lib/python3.11/dist-packages (from mkl->numpy>=1.19.5->scikit-learn==1.5.2) (2024.2.0)\r\n",
      "Requirement already satisfied: tbb==2022.* in /usr/local/lib/python3.11/dist-packages (from mkl->numpy>=1.19.5->scikit-learn==1.5.2) (2022.1.0)\r\n",
      "Requirement already satisfied: tcmlib==1.* in /usr/local/lib/python3.11/dist-packages (from tbb==2022.*->mkl->numpy>=1.19.5->scikit-learn==1.5.2) (1.2.0)\r\n",
      "Requirement already satisfied: intel-cmplr-lib-rt in /usr/local/lib/python3.11/dist-packages (from mkl_umath->numpy>=1.19.5->scikit-learn==1.5.2) (2024.2.0)\r\n",
      "Requirement already satisfied: intel-cmplr-lib-ur==2024.2.0 in /usr/local/lib/python3.11/dist-packages (from intel-openmp<2026,>=2024->mkl->numpy>=1.19.5->scikit-learn==1.5.2) (2024.2.0)\r\n",
      "Downloading scikit_learn-1.5.2-cp311-cp311-manylinux_2_17_x86_64.manylinux2014_x86_64.whl (13.3 MB)\r\n",
      "\u001b[2K   \u001b[90m━━━━━━━━━━━━━━━━━━━━━━━━━━━━━━━━━━━━━━━━\u001b[0m \u001b[32m13.3/13.3 MB\u001b[0m \u001b[31m39.6 MB/s\u001b[0m eta \u001b[36m0:00:00\u001b[0m\r\n",
      "\u001b[?25hDownloading koolbox-0.1.2-py3-none-any.whl (11 kB)\r\n",
      "Installing collected packages: scikit-learn, koolbox\r\n",
      "  Attempting uninstall: scikit-learn\r\n",
      "    Found existing installation: scikit-learn 1.2.2\r\n",
      "    Uninstalling scikit-learn-1.2.2:\r\n",
      "      Successfully uninstalled scikit-learn-1.2.2\r\n",
      "\u001b[31mERROR: pip's dependency resolver does not currently take into account all the packages that are installed. This behaviour is the source of the following dependency conflicts.\r\n",
      "bigframes 1.36.0 requires rich<14,>=12.4.4, but you have rich 14.0.0 which is incompatible.\u001b[0m\u001b[31m\r\n",
      "\u001b[0mSuccessfully installed koolbox-0.1.2 scikit-learn-1.5.2\r\n"
     ]
    }
   ],
   "source": [
    "!pip install koolbox scikit-learn==1.5.2"
   ]
  },
  {
   "cell_type": "markdown",
   "id": "c803308f",
   "metadata": {
    "papermill": {
     "duration": 0.005505,
     "end_time": "2025-05-08T06:49:11.659891",
     "exception": false,
     "start_time": "2025-05-08T06:49:11.654386",
     "status": "completed"
    },
    "tags": []
   },
   "source": [
    "# Imports and configs"
   ]
  },
  {
   "cell_type": "code",
   "execution_count": 2,
   "id": "6c4d6657",
   "metadata": {
    "_kg_hide-output": true,
    "execution": {
     "iopub.execute_input": "2025-05-08T06:49:11.673312Z",
     "iopub.status.busy": "2025-05-08T06:49:11.672958Z",
     "iopub.status.idle": "2025-05-08T06:49:20.556478Z",
     "shell.execute_reply": "2025-05-08T06:49:20.555572Z"
    },
    "papermill": {
     "duration": 8.892507,
     "end_time": "2025-05-08T06:49:20.558150",
     "exception": false,
     "start_time": "2025-05-08T06:49:11.665643",
     "status": "completed"
    },
    "tags": []
   },
   "outputs": [],
   "source": [
    "from sklearn.ensemble import HistGradientBoostingRegressor\n",
    "from sklearn.feature_selection import mutual_info_regression\n",
    "from sklearn.metrics import root_mean_squared_error\n",
    "from sklearn.model_selection import KFold\n",
    "from sklearn.linear_model import Ridge\n",
    "from lightgbm import LGBMRegressor, early_stopping, log_evaluation\n",
    "from catboost import CatBoostRegressor\n",
    "from xgboost import XGBRegressor\n",
    "from koolbox import Trainer\n",
    "import matplotlib.pyplot as plt\n",
    "import seaborn as sns\n",
    "import pandas as pd\n",
    "import numpy as np\n",
    "import warnings\n",
    "import joblib\n",
    "import shutil\n",
    "import optuna\n",
    "import json\n",
    "import glob\n",
    "\n",
    "warnings.filterwarnings(\"ignore\")"
   ]
  },
  {
   "cell_type": "code",
   "execution_count": 3,
   "id": "751273b8",
   "metadata": {
    "execution": {
     "iopub.execute_input": "2025-05-08T06:49:20.571901Z",
     "iopub.status.busy": "2025-05-08T06:49:20.571275Z",
     "iopub.status.idle": "2025-05-08T06:49:20.576618Z",
     "shell.execute_reply": "2025-05-08T06:49:20.575840Z"
    },
    "papermill": {
     "duration": 0.013652,
     "end_time": "2025-05-08T06:49:20.578012",
     "exception": false,
     "start_time": "2025-05-08T06:49:20.564360",
     "status": "completed"
    },
    "tags": []
   },
   "outputs": [],
   "source": [
    "class CFG:\n",
    "    train_path = \"/kaggle/input/playground-series-s5e5/train.csv\"\n",
    "    test_path = \"/kaggle/input/playground-series-s5e5/test.csv\"\n",
    "    sample_sub_path = \"/kaggle/input/playground-series-s5e5/sample_submission.csv\"\n",
    "    \n",
    "    original_path = \"/kaggle/input/calories-burnt-prediction/calories.csv\"\n",
    "\n",
    "    metric = root_mean_squared_error\n",
    "    target = \"Calories\"\n",
    "    n_folds = 5\n",
    "    seed = 42\n",
    "\n",
    "    cv = KFold(n_splits=n_folds, random_state=seed, shuffle=True)\n",
    "\n",
    "    run_optuna = True\n",
    "    n_optuna_trials = 250"
   ]
  },
  {
   "cell_type": "markdown",
   "id": "bc6aeef9",
   "metadata": {
    "papermill": {
     "duration": 0.005565,
     "end_time": "2025-05-08T06:49:20.589833",
     "exception": false,
     "start_time": "2025-05-08T06:49:20.584268",
     "status": "completed"
    },
    "tags": []
   },
   "source": [
    "# Data loading and preprocessing"
   ]
  },
  {
   "cell_type": "code",
   "execution_count": 4,
   "id": "9d161da8",
   "metadata": {
    "execution": {
     "iopub.execute_input": "2025-05-08T06:49:20.603162Z",
     "iopub.status.busy": "2025-05-08T06:49:20.602236Z",
     "iopub.status.idle": "2025-05-08T06:49:21.971663Z",
     "shell.execute_reply": "2025-05-08T06:49:21.970385Z"
    },
    "papermill": {
     "duration": 1.377806,
     "end_time": "2025-05-08T06:49:21.973396",
     "exception": false,
     "start_time": "2025-05-08T06:49:20.595590",
     "status": "completed"
    },
    "tags": []
   },
   "outputs": [],
   "source": [
    "train = pd.read_csv(CFG.train_path, index_col=\"id\")\n",
    "test = pd.read_csv(CFG.test_path, index_col=\"id\")\n",
    "\n",
    "train[\"Sex\"] = train[\"Sex\"].map({\"male\": 0, \"female\": 1})\n",
    "test[\"Sex\"] = test[\"Sex\"].map({\"male\": 0, \"female\": 1})\n",
    "\n",
    "X = train.drop(CFG.target, axis=1)\n",
    "y = np.log1p(train[CFG.target])\n",
    "X_test = test"
   ]
  },
  {
   "cell_type": "code",
   "execution_count": 5,
   "id": "1c8ff696",
   "metadata": {
    "execution": {
     "iopub.execute_input": "2025-05-08T06:49:21.989135Z",
     "iopub.status.busy": "2025-05-08T06:49:21.988841Z",
     "iopub.status.idle": "2025-05-08T06:49:22.031844Z",
     "shell.execute_reply": "2025-05-08T06:49:22.030748Z"
    },
    "papermill": {
     "duration": 0.052551,
     "end_time": "2025-05-08T06:49:22.033874",
     "exception": false,
     "start_time": "2025-05-08T06:49:21.981323",
     "status": "completed"
    },
    "tags": []
   },
   "outputs": [],
   "source": [
    "original = pd.read_csv(CFG.original_path, index_col=\"User_ID\")\n",
    "original[\"Gender\"] = original[\"Gender\"].map({\"male\": 0, \"female\": 1})\n",
    "original = original.rename(columns={\"Gender\": \"Sex\"})\n",
    "\n",
    "X_original = original.drop(CFG.target, axis=1)\n",
    "y_original = np.log1p(original[CFG.target])"
   ]
  },
  {
   "cell_type": "code",
   "execution_count": 6,
   "id": "b7a0e022",
   "metadata": {
    "execution": {
     "iopub.execute_input": "2025-05-08T06:49:22.047399Z",
     "iopub.status.busy": "2025-05-08T06:49:22.047064Z",
     "iopub.status.idle": "2025-05-08T06:50:41.097491Z",
     "shell.execute_reply": "2025-05-08T06:50:41.096711Z"
    },
    "papermill": {
     "duration": 79.064932,
     "end_time": "2025-05-08T06:50:41.105009",
     "exception": false,
     "start_time": "2025-05-08T06:49:22.040077",
     "status": "completed"
    },
    "tags": []
   },
   "outputs": [
    {
     "data": {
      "text/html": [
       "<style type=\"text/css\">\n",
       "#T_c5056_row0_col0 {\n",
       "  width: 10em;\n",
       "  background: linear-gradient(90deg, #006837 100.0%, transparent 100.0%);\n",
       "}\n",
       "#T_c5056_row1_col0 {\n",
       "  width: 10em;\n",
       "  background: linear-gradient(90deg, #afdd70 68.3%, transparent 68.3%);\n",
       "}\n",
       "#T_c5056_row2_col0 {\n",
       "  width: 10em;\n",
       "  background: linear-gradient(90deg, #daf08d 59.6%, transparent 59.6%);\n",
       "}\n",
       "#T_c5056_row3_col0 {\n",
       "  width: 10em;\n",
       "  background: linear-gradient(90deg, #c21c27 6.0%, transparent 6.0%);\n",
       "}\n",
       "#T_c5056_row4_col0, #T_c5056_row5_col0 {\n",
       "  width: 10em;\n",
       "  background: linear-gradient(90deg, #b50f26 3.4%, transparent 3.4%);\n",
       "}\n",
       "#T_c5056_row6_col0 {\n",
       "  width: 10em;\n",
       "  background: linear-gradient(90deg, #a90426 1.0%, transparent 1.0%);\n",
       "}\n",
       "</style>\n",
       "<table id=\"T_c5056\">\n",
       "  <thead>\n",
       "    <tr>\n",
       "      <th class=\"blank level0\" >&nbsp;</th>\n",
       "      <th id=\"T_c5056_level0_col0\" class=\"col_heading level0 col0\" >Mutual Information</th>\n",
       "    </tr>\n",
       "  </thead>\n",
       "  <tbody>\n",
       "    <tr>\n",
       "      <th id=\"T_c5056_level0_row0\" class=\"row_heading level0 row0\" >Duration</th>\n",
       "      <td id=\"T_c5056_row0_col0\" class=\"data row0 col0\" >1.640567</td>\n",
       "    </tr>\n",
       "    <tr>\n",
       "      <th id=\"T_c5056_level0_row1\" class=\"row_heading level0 row1\" >Body_Temp</th>\n",
       "      <td id=\"T_c5056_row1_col0\" class=\"data row1 col0\" >1.120766</td>\n",
       "    </tr>\n",
       "    <tr>\n",
       "      <th id=\"T_c5056_level0_row2\" class=\"row_heading level0 row2\" >Heart_Rate</th>\n",
       "      <td id=\"T_c5056_row2_col0\" class=\"data row2 col0\" >0.976966</td>\n",
       "    </tr>\n",
       "    <tr>\n",
       "      <th id=\"T_c5056_level0_row3\" class=\"row_heading level0 row3\" >Age</th>\n",
       "      <td id=\"T_c5056_row3_col0\" class=\"data row3 col0\" >0.098387</td>\n",
       "    </tr>\n",
       "    <tr>\n",
       "      <th id=\"T_c5056_level0_row4\" class=\"row_heading level0 row4\" >Height</th>\n",
       "      <td id=\"T_c5056_row4_col0\" class=\"data row4 col0\" >0.056501</td>\n",
       "    </tr>\n",
       "    <tr>\n",
       "      <th id=\"T_c5056_level0_row5\" class=\"row_heading level0 row5\" >Weight</th>\n",
       "      <td id=\"T_c5056_row5_col0\" class=\"data row5 col0\" >0.055709</td>\n",
       "    </tr>\n",
       "    <tr>\n",
       "      <th id=\"T_c5056_level0_row6\" class=\"row_heading level0 row6\" >Sex</th>\n",
       "      <td id=\"T_c5056_row6_col0\" class=\"data row6 col0\" >0.017174</td>\n",
       "    </tr>\n",
       "  </tbody>\n",
       "</table>\n"
      ],
      "text/plain": [
       "<pandas.io.formats.style.Styler at 0x7a6b94fe2c10>"
      ]
     },
     "execution_count": 6,
     "metadata": {},
     "output_type": "execute_result"
    }
   ],
   "source": [
    "mutual_info = mutual_info_regression(X, y, random_state=CFG.seed)\n",
    "\n",
    "mutual_info = pd.Series(mutual_info)\n",
    "mutual_info.index = X.columns\n",
    "mutual_info = pd.DataFrame(mutual_info.sort_values(ascending=False), columns=['Mutual Information'])\n",
    "mutual_info.style.bar(subset=['Mutual Information'], cmap='RdYlGn')"
   ]
  },
  {
   "cell_type": "code",
   "execution_count": 7,
   "id": "d7622214",
   "metadata": {
    "execution": {
     "iopub.execute_input": "2025-05-08T06:50:41.118961Z",
     "iopub.status.busy": "2025-05-08T06:50:41.118672Z",
     "iopub.status.idle": "2025-05-08T06:50:41.809434Z",
     "shell.execute_reply": "2025-05-08T06:50:41.808668Z"
    },
    "papermill": {
     "duration": 0.699745,
     "end_time": "2025-05-08T06:50:41.810831",
     "exception": false,
     "start_time": "2025-05-08T06:50:41.111086",
     "status": "completed"
    },
    "tags": []
   },
   "outputs": [
    {
     "data": {
      "text/html": [
       "<style type=\"text/css\">\n",
       "#T_35081_row0_col0 {\n",
       "  width: 10em;\n",
       "  background: linear-gradient(90deg, #006837 100.0%, transparent 100.0%);\n",
       "}\n",
       "#T_35081_row1_col0 {\n",
       "  width: 10em;\n",
       "  background: linear-gradient(90deg, #bbe278 66.0%, transparent 66.0%);\n",
       "}\n",
       "#T_35081_row2_col0 {\n",
       "  width: 10em;\n",
       "  background: linear-gradient(90deg, #e0f295 57.9%, transparent 57.9%);\n",
       "}\n",
       "#T_35081_row3_col0 {\n",
       "  width: 10em;\n",
       "  background: linear-gradient(90deg, #b10b26 2.4%, transparent 2.4%);\n",
       "}\n",
       "#T_35081_row4_col0 {\n",
       "  width: 10em;\n",
       "  background: linear-gradient(90deg, #ab0626 1.4%, transparent 1.4%);\n",
       "}\n",
       "#T_35081_row5_col0 {\n",
       "  width: 10em;\n",
       "  background: linear-gradient(90deg, #a90426 1.1%, transparent 1.1%);\n",
       "}\n",
       "#T_35081_row6_col0 {\n",
       "  width: 10em;\n",
       "  background: linear-gradient(90deg, #a50026 0.3%, transparent 0.3%);\n",
       "}\n",
       "</style>\n",
       "<table id=\"T_35081\">\n",
       "  <thead>\n",
       "    <tr>\n",
       "      <th class=\"blank level0\" >&nbsp;</th>\n",
       "      <th id=\"T_35081_level0_col0\" class=\"col_heading level0 col0\" >Mutual Information</th>\n",
       "    </tr>\n",
       "  </thead>\n",
       "  <tbody>\n",
       "    <tr>\n",
       "      <th id=\"T_35081_level0_row0\" class=\"row_heading level0 row0\" >Duration</th>\n",
       "      <td id=\"T_35081_row0_col0\" class=\"data row0 col0\" >1.494968</td>\n",
       "    </tr>\n",
       "    <tr>\n",
       "      <th id=\"T_35081_level0_row1\" class=\"row_heading level0 row1\" >Body_Temp</th>\n",
       "      <td id=\"T_35081_row1_col0\" class=\"data row1 col0\" >0.986528</td>\n",
       "    </tr>\n",
       "    <tr>\n",
       "      <th id=\"T_35081_level0_row2\" class=\"row_heading level0 row2\" >Heart_Rate</th>\n",
       "      <td id=\"T_35081_row2_col0\" class=\"data row2 col0\" >0.866243</td>\n",
       "    </tr>\n",
       "    <tr>\n",
       "      <th id=\"T_35081_level0_row3\" class=\"row_heading level0 row3\" >Age</th>\n",
       "      <td id=\"T_35081_row3_col0\" class=\"data row3 col0\" >0.035208</td>\n",
       "    </tr>\n",
       "    <tr>\n",
       "      <th id=\"T_35081_level0_row4\" class=\"row_heading level0 row4\" >Weight</th>\n",
       "      <td id=\"T_35081_row4_col0\" class=\"data row4 col0\" >0.020520</td>\n",
       "    </tr>\n",
       "    <tr>\n",
       "      <th id=\"T_35081_level0_row5\" class=\"row_heading level0 row5\" >Sex</th>\n",
       "      <td id=\"T_35081_row5_col0\" class=\"data row5 col0\" >0.016184</td>\n",
       "    </tr>\n",
       "    <tr>\n",
       "      <th id=\"T_35081_level0_row6\" class=\"row_heading level0 row6\" >Height</th>\n",
       "      <td id=\"T_35081_row6_col0\" class=\"data row6 col0\" >0.005213</td>\n",
       "    </tr>\n",
       "  </tbody>\n",
       "</table>\n"
      ],
      "text/plain": [
       "<pandas.io.formats.style.Styler at 0x7a6ba518e110>"
      ]
     },
     "execution_count": 7,
     "metadata": {},
     "output_type": "execute_result"
    }
   ],
   "source": [
    "mutual_info = mutual_info_regression(X_original, y_original, random_state=CFG.seed)\n",
    "\n",
    "mutual_info = pd.Series(mutual_info)\n",
    "mutual_info.index = X_original.columns\n",
    "mutual_info = pd.DataFrame(mutual_info.sort_values(ascending=False), columns=['Mutual Information'])\n",
    "mutual_info.style.bar(subset=['Mutual Information'], cmap='RdYlGn')"
   ]
  },
  {
   "cell_type": "code",
   "execution_count": 8,
   "id": "d81d45a7",
   "metadata": {
    "execution": {
     "iopub.execute_input": "2025-05-08T06:50:41.825109Z",
     "iopub.status.busy": "2025-05-08T06:50:41.824783Z",
     "iopub.status.idle": "2025-05-08T06:50:42.942770Z",
     "shell.execute_reply": "2025-05-08T06:50:42.941910Z"
    },
    "papermill": {
     "duration": 1.126938,
     "end_time": "2025-05-08T06:50:42.944196",
     "exception": false,
     "start_time": "2025-05-08T06:50:41.817258",
     "status": "completed"
    },
    "tags": []
   },
   "outputs": [
    {
     "data": {
      "image/png": "[encoded data removed]",
      "text/plain": [
       "<Figure size 1600x600 with 4 Axes>"
      ]
     },
     "metadata": {},
     "output_type": "display_data"
    }
   ],
   "source": [
    "sns.set_style(\"white\")\n",
    "fig, axes = plt.subplots(1, 2, figsize=(16, 6))\n",
    "\n",
    "corr_train = train.corr()\n",
    "mask_train = np.triu(np.ones_like(corr_train, dtype=bool), k=1)\n",
    "sns.heatmap(\n",
    "    data=corr_train,\n",
    "    annot=True,\n",
    "    fmt='.2f',\n",
    "    mask=mask_train,\n",
    "    square=True,\n",
    "    cmap='coolwarm',\n",
    "    cbar_kws={'shrink': .7, 'format': '%.2f'},   \n",
    "    annot_kws={'size': 8},\n",
    "    center=0,\n",
    "    ax=axes[0]\n",
    ")\n",
    "axes[0].set_title('Train')\n",
    "axes[0].tick_params(axis='both', which='major', labelsize=8)\n",
    "\n",
    "corr_orig = original.corr()\n",
    "mask_orig = np.triu(np.ones_like(corr_orig, dtype=bool), k=1)\n",
    "sns.heatmap(\n",
    "    data=corr_orig,\n",
    "    annot=True,\n",
    "    fmt='.2f',\n",
    "    mask=mask_orig,\n",
    "    square=True,\n",
    "    cmap='coolwarm',\n",
    "    cbar_kws={'shrink': .7, 'format': '%.2f'},   \n",
    "    annot_kws={'size': 8},\n",
    "    center=0,\n",
    "    ax=axes[1]\n",
    ")\n",
    "axes[1].set_title('Original')\n",
    "axes[1].tick_params(axis='both', which='major', labelsize=8)\n",
    "\n",
    "plt.tight_layout()\n",
    "plt.show()"
   ]
  },
  {
   "cell_type": "markdown",
   "id": "bfe7e39e",
   "metadata": {
    "papermill": {
     "duration": 0.006966,
     "end_time": "2025-05-08T06:50:42.958679",
     "exception": false,
     "start_time": "2025-05-08T06:50:42.951713",
     "status": "completed"
    },
    "tags": []
   },
   "source": [
    "# Training base models"
   ]
  },
  {
   "cell_type": "code",
   "execution_count": 9,
   "id": "9da7faa3",
   "metadata": {
    "_kg_hide-input": true,
    "_kg_hide-output": true,
    "execution": {
     "iopub.execute_input": "2025-05-08T06:50:42.974559Z",
     "iopub.status.busy": "2025-05-08T06:50:42.974103Z",
     "iopub.status.idle": "2025-05-08T06:50:42.982025Z",
     "shell.execute_reply": "2025-05-08T06:50:42.981178Z"
    },
    "papermill": {
     "duration": 0.017637,
     "end_time": "2025-05-08T06:50:42.983311",
     "exception": false,
     "start_time": "2025-05-08T06:50:42.965674",
     "status": "completed"
    },
    "tags": []
   },
   "outputs": [],
   "source": [
    "histgb_params = {\n",
    "    \"l2_regularization\": 10.412017522533768,\n",
    "    \"learning_rate\": 0.011702680619474444,\n",
    "    \"max_depth\": 59,\n",
    "    \"max_features\": 0.30616140080552673,\n",
    "    \"max_iter\": 4454,\n",
    "    \"max_leaf_nodes\": 385,\n",
    "    \"min_samples_leaf\": 50,\n",
    "    \"random_state\": 42\n",
    "}\n",
    "\n",
    "lgbm_params = {\n",
    "    \"boosting_type\": \"gbdt\",\n",
    "    \"colsample_bytree\": 0.8213924491907012,\n",
    "    \"learning_rate\": 0.059976685297931195,\n",
    "    \"min_child_samples\": 10,\n",
    "    \"min_child_weight\": 0.5425237767880097,\n",
    "    \"n_estimators\": 50000,\n",
    "    \"n_jobs\": -1,\n",
    "    \"num_leaves\": 89,\n",
    "    \"random_state\": 42,\n",
    "    \"reg_alpha\": 2.0325709613371545,\n",
    "    \"reg_lambda\": 87.27971117911044,\n",
    "    \"subsample\": 0.6452823633939004,\n",
    "    \"verbose\": -1\n",
    "}\n",
    "\n",
    "lgbm_goss_params = {\n",
    "    \"boosting_type\": \"goss\",\n",
    "    \"colsample_bytree\": 0.9068724002629094,\n",
    "    \"learning_rate\": 0.06459027654473874,\n",
    "    \"min_child_samples\": 39,\n",
    "    \"min_child_weight\": 0.5337673729810578,\n",
    "    \"n_estimators\": 50000,\n",
    "    \"n_jobs\": -1,\n",
    "    \"num_leaves\": 13,\n",
    "    \"random_state\": 42,\n",
    "    \"reg_alpha\": 1.603969498256519,\n",
    "    \"reg_lambda\": 10.806488455621444,\n",
    "    \"subsample\": 0.5966412222358356,\n",
    "    \"verbose\": -1\n",
    "}\n",
    "\n",
    "xgb_params = {\n",
    "    \"colsample_bylevel\": 0.8606487417581108,\n",
    "    \"colsample_bynode\": 0.9410596660335436,\n",
    "    \"colsample_bytree\": 0.9407540036296737,\n",
    "    \"early_stopping_rounds\": 100,\n",
    "    \"eval_metric\": \"rmse\",\n",
    "    \"gamma\": 0.023260595738991977,\n",
    "    \"learning_rate\": 0.03669372905801298,\n",
    "    \"max_depth\": 11,\n",
    "    \"max_leaves\": 51,\n",
    "    \"min_child_weight\": 96,\n",
    "    \"n_estimators\": 50000,\n",
    "    \"n_jobs\": -1,\n",
    "    \"random_state\": 42,\n",
    "    \"reg_alpha\": 2.953205886504917,\n",
    "    \"reg_lambda\": 67.64147033446291,\n",
    "    \"subsample\": 0.6973241930754311,\n",
    "    \"verbosity\": 0\n",
    "}\n",
    "\n",
    "cb_params = {\n",
    "    \"border_count\": 88,\n",
    "    \"colsample_bylevel\": 0.7903437608890396,\n",
    "    \"depth\": 8,\n",
    "    \"eval_metric\": \"RMSE\",\n",
    "    \"iterations\": 50000,\n",
    "    \"l2_leaf_reg\": 6.065104074215131,\n",
    "    \"learning_rate\": 0.030946464122148992,\n",
    "    \"min_child_samples\": 138,\n",
    "    \"random_state\": 42,\n",
    "    \"random_strength\": 0.035251008593976785,\n",
    "    \"verbose\": False\n",
    "}"
   ]
  },
  {
   "cell_type": "code",
   "execution_count": 10,
   "id": "9dc23236",
   "metadata": {
    "execution": {
     "iopub.execute_input": "2025-05-08T06:50:42.999822Z",
     "iopub.status.busy": "2025-05-08T06:50:42.999079Z",
     "iopub.status.idle": "2025-05-08T06:50:43.003068Z",
     "shell.execute_reply": "2025-05-08T06:50:43.002280Z"
    },
    "papermill": {
     "duration": 0.013699,
     "end_time": "2025-05-08T06:50:43.004461",
     "exception": false,
     "start_time": "2025-05-08T06:50:42.990762",
     "status": "completed"
    },
    "tags": []
   },
   "outputs": [],
   "source": [
    "scores = {}\n",
    "oof_preds = {}\n",
    "test_preds = {}"
   ]
  },
  {
   "cell_type": "markdown",
   "id": "4c8d2154",
   "metadata": {
    "papermill": {
     "duration": 0.007417,
     "end_time": "2025-05-08T06:50:43.019673",
     "exception": false,
     "start_time": "2025-05-08T06:50:43.012256",
     "status": "completed"
    },
    "tags": []
   },
   "source": [
    "## HistGradientBoosting"
   ]
  },
  {
   "cell_type": "code",
   "execution_count": 11,
   "id": "8a7977d3",
   "metadata": {
    "execution": {
     "iopub.execute_input": "2025-05-08T06:50:43.036414Z",
     "iopub.status.busy": "2025-05-08T06:50:43.035752Z",
     "iopub.status.idle": "2025-05-08T06:58:26.016810Z",
     "shell.execute_reply": "2025-05-08T06:58:26.015882Z"
    },
    "papermill": {
     "duration": 462.99136,
     "end_time": "2025-05-08T06:58:26.018550",
     "exception": false,
     "start_time": "2025-05-08T06:50:43.027190",
     "status": "completed"
    },
    "tags": []
   },
   "outputs": [
    {
     "name": "stdout",
     "output_type": "stream",
     "text": [
      "Training HistGradientBoostingRegressor\n",
      "\n",
      "--- Fold 0 - root_mean_squared_error: 0.0594 - Time: 81.58 s\n",
      "--- Fold 1 - root_mean_squared_error: 0.0605 - Time: 75.95 s\n",
      "--- Fold 2 - root_mean_squared_error: 0.0597 - Time: 78.15 s\n",
      "--- Fold 3 - root_mean_squared_error: 0.0601 - Time: 72.50 s\n",
      "--- Fold 4 - root_mean_squared_error: 0.0593 - Time: 75.43 s\n",
      "\n",
      "------ Overall root_mean_squared_error: 0.0598 - Mean root_mean_squared_error: 0.0598 ± 0.0004 - Time: 384.40 s\n"
     ]
    }
   ],
   "source": [
    "histgb_trainer = Trainer(\n",
    "    HistGradientBoostingRegressor(**histgb_params),\n",
    "    cv=CFG.cv,\n",
    "    metric=CFG.metric,\n",
    "    task=\"regression\"\n",
    ")\n",
    "\n",
    "histgb_trainer.fit(X, y, extra_X=X_original, extra_y=y_original)\n",
    "\n",
    "scores[\"HistGB\"] = histgb_trainer.fold_scores\n",
    "oof_preds[\"HistGB\"] = histgb_trainer.oof_preds\n",
    "test_preds[\"HistGB\"] = histgb_trainer.predict(X_test)"
   ]
  },
  {
   "cell_type": "markdown",
   "id": "78a01473",
   "metadata": {
    "papermill": {
     "duration": 0.007573,
     "end_time": "2025-05-08T06:58:26.034699",
     "exception": false,
     "start_time": "2025-05-08T06:58:26.027126",
     "status": "completed"
    },
    "tags": []
   },
   "source": [
    "## LightGBM (gbdt)"
   ]
  },
  {
   "cell_type": "code",
   "execution_count": 12,
   "id": "f1399ce6",
   "metadata": {
    "execution": {
     "iopub.execute_input": "2025-05-08T06:58:26.051568Z",
     "iopub.status.busy": "2025-05-08T06:58:26.051196Z",
     "iopub.status.idle": "2025-05-08T07:02:50.799633Z",
     "shell.execute_reply": "2025-05-08T07:02:50.798934Z"
    },
    "papermill": {
     "duration": 264.758956,
     "end_time": "2025-05-08T07:02:50.801421",
     "exception": false,
     "start_time": "2025-05-08T06:58:26.042465",
     "status": "completed"
    },
    "tags": []
   },
   "outputs": [
    {
     "name": "stdout",
     "output_type": "stream",
     "text": [
      "Training LGBMRegressor\n",
      "\n",
      "Training until validation scores don't improve for 100 rounds\n",
      "Early stopping, best iteration is:\n",
      "[791]\tvalid_0's rmse: 0.0596226\tvalid_0's l2: 0.00355485\n",
      "--- Fold 0 - root_mean_squared_error: 0.0596 - Time: 26.55 s\n",
      "\n",
      "Training until validation scores don't improve for 100 rounds\n",
      "[1000]\tvalid_0's rmse: 0.0603528\tvalid_0's l2: 0.00364246\n",
      "Early stopping, best iteration is:\n",
      "[1369]\tvalid_0's rmse: 0.0603066\tvalid_0's l2: 0.00363688\n",
      "--- Fold 1 - root_mean_squared_error: 0.0603 - Time: 39.91 s\n",
      "\n",
      "Training until validation scores don't improve for 100 rounds\n",
      "[1000]\tvalid_0's rmse: 0.0596239\tvalid_0's l2: 0.00355501\n",
      "Early stopping, best iteration is:\n",
      "[1406]\tvalid_0's rmse: 0.0595985\tvalid_0's l2: 0.00355198\n",
      "--- Fold 2 - root_mean_squared_error: 0.0596 - Time: 39.92 s\n",
      "\n",
      "Training until validation scores don't improve for 100 rounds\n",
      "[1000]\tvalid_0's rmse: 0.0601725\tvalid_0's l2: 0.00362073\n",
      "[2000]\tvalid_0's rmse: 0.060028\tvalid_0's l2: 0.00360336\n",
      "Early stopping, best iteration is:\n",
      "[1918]\tvalid_0's rmse: 0.0600226\tvalid_0's l2: 0.00360271\n",
      "--- Fold 3 - root_mean_squared_error: 0.0600 - Time: 51.43 s\n",
      "\n",
      "Training until validation scores don't improve for 100 rounds\n",
      "[1000]\tvalid_0's rmse: 0.0594362\tvalid_0's l2: 0.00353266\n",
      "Early stopping, best iteration is:\n",
      "[1376]\tvalid_0's rmse: 0.0593934\tvalid_0's l2: 0.00352758\n",
      "--- Fold 4 - root_mean_squared_error: 0.0594 - Time: 40.71 s\n",
      "\n",
      "\n",
      "------ Overall root_mean_squared_error: 0.0598 - Mean root_mean_squared_error: 0.0598 ± 0.0003 - Time: 199.35 s\n"
     ]
    }
   ],
   "source": [
    "lgbm_trainer = Trainer(\n",
    "    LGBMRegressor(**lgbm_params),\n",
    "    cv=CFG.cv,\n",
    "    metric=CFG.metric,\n",
    "    use_early_stopping=True,\n",
    "    task=\"regression\"\n",
    ")\n",
    "\n",
    "fit_args = {\n",
    "    \"eval_metric\": \"rmse\",\n",
    "    \"callbacks\": [\n",
    "        log_evaluation(period=1000), \n",
    "        early_stopping(stopping_rounds=100)\n",
    "    ]\n",
    "}\n",
    "\n",
    "lgbm_trainer.fit(X, y, fit_args=fit_args, extra_X=X_original, extra_y=y_original)\n",
    "\n",
    "scores[\"LightGBM (gbdt)\"] = lgbm_trainer.fold_scores\n",
    "oof_preds[\"LightGBM (gbdt)\"] = lgbm_trainer.oof_preds\n",
    "test_preds[\"LightGBM (gbdt)\"] = lgbm_trainer.predict(X_test)"
   ]
  },
  {
   "cell_type": "markdown",
   "id": "a4df03d2",
   "metadata": {
    "papermill": {
     "duration": 0.008429,
     "end_time": "2025-05-08T07:02:50.819027",
     "exception": false,
     "start_time": "2025-05-08T07:02:50.810598",
     "status": "completed"
    },
    "tags": []
   },
   "source": [
    "## LightGBM (goss)"
   ]
  },
  {
   "cell_type": "code",
   "execution_count": 13,
   "id": "f1b0e1d2",
   "metadata": {
    "execution": {
     "iopub.execute_input": "2025-05-08T07:02:50.838284Z",
     "iopub.status.busy": "2025-05-08T07:02:50.837488Z",
     "iopub.status.idle": "2025-05-08T07:13:27.980593Z",
     "shell.execute_reply": "2025-05-08T07:13:27.979743Z"
    },
    "papermill": {
     "duration": 637.154455,
     "end_time": "2025-05-08T07:13:27.982339",
     "exception": false,
     "start_time": "2025-05-08T07:02:50.827884",
     "status": "completed"
    },
    "tags": []
   },
   "outputs": [
    {
     "name": "stdout",
     "output_type": "stream",
     "text": [
      "Training LGBMRegressor\n",
      "\n",
      "Training until validation scores don't improve for 100 rounds\n",
      "[1000]\tvalid_0's rmse: 0.0600588\tvalid_0's l2: 0.00360706\n",
      "[2000]\tvalid_0's rmse: 0.0597145\tvalid_0's l2: 0.00356582\n",
      "[3000]\tvalid_0's rmse: 0.0596177\tvalid_0's l2: 0.00355427\n",
      "Early stopping, best iteration is:\n",
      "[3424]\tvalid_0's rmse: 0.0595945\tvalid_0's l2: 0.0035515\n",
      "--- Fold 0 - root_mean_squared_error: 0.0596 - Time: 94.44 s\n",
      "\n",
      "Training until validation scores don't improve for 100 rounds\n",
      "[1000]\tvalid_0's rmse: 0.0607929\tvalid_0's l2: 0.00369577\n",
      "[2000]\tvalid_0's rmse: 0.0604315\tvalid_0's l2: 0.00365197\n",
      "[3000]\tvalid_0's rmse: 0.0603068\tvalid_0's l2: 0.00363691\n",
      "Early stopping, best iteration is:\n",
      "[3299]\tvalid_0's rmse: 0.0602872\tvalid_0's l2: 0.00363454\n",
      "--- Fold 1 - root_mean_squared_error: 0.0603 - Time: 90.11 s\n",
      "\n",
      "Training until validation scores don't improve for 100 rounds\n",
      "[1000]\tvalid_0's rmse: 0.0600734\tvalid_0's l2: 0.00360881\n",
      "[2000]\tvalid_0's rmse: 0.0597328\tvalid_0's l2: 0.00356801\n",
      "[3000]\tvalid_0's rmse: 0.0596015\tvalid_0's l2: 0.00355234\n",
      "[4000]\tvalid_0's rmse: 0.0595402\tvalid_0's l2: 0.00354503\n",
      "Early stopping, best iteration is:\n",
      "[4508]\tvalid_0's rmse: 0.0595248\tvalid_0's l2: 0.00354321\n",
      "--- Fold 2 - root_mean_squared_error: 0.0595 - Time: 124.87 s\n",
      "\n",
      "Training until validation scores don't improve for 100 rounds\n",
      "[1000]\tvalid_0's rmse: 0.0606943\tvalid_0's l2: 0.0036838\n",
      "[2000]\tvalid_0's rmse: 0.0602788\tvalid_0's l2: 0.00363353\n",
      "[3000]\tvalid_0's rmse: 0.0601248\tvalid_0's l2: 0.00361499\n",
      "[4000]\tvalid_0's rmse: 0.060043\tvalid_0's l2: 0.00360516\n",
      "Early stopping, best iteration is:\n",
      "[4559]\tvalid_0's rmse: 0.0600092\tvalid_0's l2: 0.00360111\n",
      "--- Fold 3 - root_mean_squared_error: 0.0600 - Time: 126.45 s\n",
      "\n",
      "Training until validation scores don't improve for 100 rounds\n",
      "[1000]\tvalid_0's rmse: 0.0597776\tvalid_0's l2: 0.00357336\n",
      "[2000]\tvalid_0's rmse: 0.0594386\tvalid_0's l2: 0.00353295\n",
      "[3000]\tvalid_0's rmse: 0.0593427\tvalid_0's l2: 0.00352156\n",
      "Early stopping, best iteration is:\n",
      "[3301]\tvalid_0's rmse: 0.0593269\tvalid_0's l2: 0.00351968\n",
      "--- Fold 4 - root_mean_squared_error: 0.0593 - Time: 93.59 s\n",
      "\n",
      "\n",
      "------ Overall root_mean_squared_error: 0.0597 - Mean root_mean_squared_error: 0.0597 ± 0.0003 - Time: 530.29 s\n"
     ]
    }
   ],
   "source": [
    "lgbm_goss_trainer = Trainer(\n",
    "    LGBMRegressor(**lgbm_goss_params),\n",
    "    cv=CFG.cv,\n",
    "    metric=CFG.metric,\n",
    "    use_early_stopping=True,\n",
    "    task=\"regression\"\n",
    ")\n",
    "\n",
    "fit_args = {\n",
    "    \"eval_metric\": \"rmse\",\n",
    "    \"callbacks\": [\n",
    "        log_evaluation(period=1000), \n",
    "        early_stopping(stopping_rounds=100)\n",
    "    ]\n",
    "}\n",
    "\n",
    "lgbm_goss_trainer.fit(X, y, fit_args=fit_args, extra_X=X_original, extra_y=y_original)\n",
    "\n",
    "scores[\"LightGBM (goss)\"] = lgbm_goss_trainer.fold_scores\n",
    "oof_preds[\"LightGBM (goss)\"] = lgbm_goss_trainer.oof_preds\n",
    "test_preds[\"LightGBM (goss)\"] = lgbm_goss_trainer.predict(X_test)"
   ]
  },
  {
   "cell_type": "markdown",
   "id": "2f79918c",
   "metadata": {
    "papermill": {
     "duration": 0.010372,
     "end_time": "2025-05-08T07:13:28.004014",
     "exception": false,
     "start_time": "2025-05-08T07:13:27.993642",
     "status": "completed"
    },
    "tags": []
   },
   "source": [
    "## XGBoost"
   ]
  },
  {
   "cell_type": "code",
   "execution_count": 14,
   "id": "da728482",
   "metadata": {
    "execution": {
     "iopub.execute_input": "2025-05-08T07:13:28.027113Z",
     "iopub.status.busy": "2025-05-08T07:13:28.026807Z",
     "iopub.status.idle": "2025-05-08T07:19:26.438020Z",
     "shell.execute_reply": "2025-05-08T07:19:26.437232Z"
    },
    "papermill": {
     "duration": 358.424903,
     "end_time": "2025-05-08T07:19:26.439768",
     "exception": false,
     "start_time": "2025-05-08T07:13:28.014865",
     "status": "completed"
    },
    "tags": []
   },
   "outputs": [
    {
     "name": "stdout",
     "output_type": "stream",
     "text": [
      "Training XGBRegressor\n",
      "\n",
      "[0]\tvalidation_0-rmse:0.92856\n",
      "[1000]\tvalidation_0-rmse:0.06015\n",
      "[2000]\tvalidation_0-rmse:0.06009\n",
      "[3000]\tvalidation_0-rmse:0.06007\n",
      "[3122]\tvalidation_0-rmse:0.06006\n",
      "--- Fold 0 - root_mean_squared_error: 0.0601 - Time: 80.67 s\n",
      "\n",
      "[0]\tvalidation_0-rmse:0.93096\n",
      "[1000]\tvalidation_0-rmse:0.06137\n",
      "[2000]\tvalidation_0-rmse:0.06128\n",
      "[3000]\tvalidation_0-rmse:0.06123\n",
      "[3070]\tvalidation_0-rmse:0.06123\n",
      "--- Fold 1 - root_mean_squared_error: 0.0612 - Time: 77.78 s\n",
      "\n",
      "[0]\tvalidation_0-rmse:0.92964\n",
      "[1000]\tvalidation_0-rmse:0.06065\n",
      "[2000]\tvalidation_0-rmse:0.06056\n",
      "[3000]\tvalidation_0-rmse:0.06053\n",
      "[3092]\tvalidation_0-rmse:0.06053\n",
      "--- Fold 2 - root_mean_squared_error: 0.0605 - Time: 81.29 s\n",
      "\n",
      "[0]\tvalidation_0-rmse:0.92813\n",
      "[1000]\tvalidation_0-rmse:0.06097\n",
      "[1244]\tvalidation_0-rmse:0.06096\n",
      "--- Fold 3 - root_mean_squared_error: 0.0610 - Time: 36.87 s\n",
      "\n",
      "[0]\tvalidation_0-rmse:0.92887\n",
      "[1000]\tvalidation_0-rmse:0.06014\n",
      "[2000]\tvalidation_0-rmse:0.06007\n",
      "[2596]\tvalidation_0-rmse:0.06005\n",
      "--- Fold 4 - root_mean_squared_error: 0.0601 - Time: 68.34 s\n",
      "\n",
      "\n",
      "------ Overall root_mean_squared_error: 0.0606 - Mean root_mean_squared_error: 0.0606 ± 0.0005 - Time: 345.75 s\n"
     ]
    }
   ],
   "source": [
    "xgb_trainer = Trainer(\n",
    "    XGBRegressor(**xgb_params),\n",
    "    cv=CFG.cv,\n",
    "    metric=CFG.metric,\n",
    "    use_early_stopping=True,\n",
    "    task=\"regression\"\n",
    ")\n",
    "\n",
    "fit_args = {\n",
    "    \"verbose\": 1000\n",
    "}\n",
    "\n",
    "xgb_trainer.fit(X, y, fit_args=fit_args, extra_X=X_original, extra_y=y_original)\n",
    "\n",
    "scores[\"XGBoost\"] = xgb_trainer.fold_scores\n",
    "oof_preds[\"XGBoost\"] = xgb_trainer.oof_preds\n",
    "test_preds[\"XGBoost\"] = xgb_trainer.predict(X_test)"
   ]
  },
  {
   "cell_type": "markdown",
   "id": "eae97842",
   "metadata": {
    "papermill": {
     "duration": 0.011466,
     "end_time": "2025-05-08T07:19:26.463726",
     "exception": false,
     "start_time": "2025-05-08T07:19:26.452260",
     "status": "completed"
    },
    "tags": []
   },
   "source": [
    "## CatBoost"
   ]
  },
  {
   "cell_type": "code",
   "execution_count": 15,
   "id": "41b10cca",
   "metadata": {
    "execution": {
     "iopub.execute_input": "2025-05-08T07:19:26.489022Z",
     "iopub.status.busy": "2025-05-08T07:19:26.488723Z",
     "iopub.status.idle": "2025-05-08T07:30:50.380114Z",
     "shell.execute_reply": "2025-05-08T07:30:50.379318Z"
    },
    "papermill": {
     "duration": 683.905795,
     "end_time": "2025-05-08T07:30:50.381747",
     "exception": false,
     "start_time": "2025-05-08T07:19:26.475952",
     "status": "completed"
    },
    "tags": []
   },
   "outputs": [
    {
     "name": "stdout",
     "output_type": "stream",
     "text": [
      "Training CatBoostRegressor\n",
      "\n",
      "0:\tlearn: 0.9348709\ttest: 0.9341488\tbest: 0.9341488 (0)\ttotal: 123ms\tremaining: 1h 42m 8s\n",
      "1000:\tlearn: 0.0571087\ttest: 0.0593244\tbest: 0.0593244 (1000)\ttotal: 50.5s\tremaining: 41m 10s\n",
      "2000:\tlearn: 0.0560120\ttest: 0.0591679\tbest: 0.0591679 (2000)\ttotal: 1m 39s\tremaining: 39m 40s\n",
      "Stopped by overfitting detector  (100 iterations wait)\n",
      "\n",
      "bestTest = 0.05911377754\n",
      "bestIteration = 2824\n",
      "\n",
      "Shrink model to first 2825 iterations.\n",
      "--- Fold 0 - root_mean_squared_error: 0.0591 - Time: 145.95 s\n",
      "\n",
      "0:\tlearn: 0.9342850\ttest: 0.9365766\tbest: 0.9365766 (0)\ttotal: 65.2ms\tremaining: 54m 22s\n",
      "1000:\tlearn: 0.0571036\ttest: 0.0598252\tbest: 0.0598252 (1000)\ttotal: 49.8s\tremaining: 40m 35s\n",
      "Stopped by overfitting detector  (100 iterations wait)\n",
      "\n",
      "bestTest = 0.05966835269\n",
      "bestIteration = 1741\n",
      "\n",
      "Shrink model to first 1742 iterations.\n",
      "--- Fold 1 - root_mean_squared_error: 0.0597 - Time: 92.15 s\n",
      "\n",
      "0:\tlearn: 0.9346164\ttest: 0.9352198\tbest: 0.9352198 (0)\ttotal: 64.5ms\tremaining: 53m 44s\n",
      "1000:\tlearn: 0.0570640\ttest: 0.0593004\tbest: 0.0593004 (1000)\ttotal: 49.3s\tremaining: 40m 11s\n",
      "2000:\tlearn: 0.0559380\ttest: 0.0590550\tbest: 0.0590543 (1996)\ttotal: 1m 38s\tremaining: 39m 19s\n",
      "3000:\tlearn: 0.0551639\ttest: 0.0589824\tbest: 0.0589822 (2994)\ttotal: 2m 26s\tremaining: 38m 17s\n",
      "Stopped by overfitting detector  (100 iterations wait)\n",
      "\n",
      "bestTest = 0.05895750885\n",
      "bestIteration = 3703\n",
      "\n",
      "Shrink model to first 3704 iterations.\n",
      "--- Fold 2 - root_mean_squared_error: 0.0590 - Time: 186.63 s\n",
      "\n",
      "0:\tlearn: 0.9349691\ttest: 0.9337102\tbest: 0.9337102 (0)\ttotal: 59.3ms\tremaining: 49m 26s\n",
      "1000:\tlearn: 0.0570599\ttest: 0.0597373\tbest: 0.0597373 (1000)\ttotal: 49.6s\tremaining: 40m 30s\n",
      "2000:\tlearn: 0.0560408\ttest: 0.0595997\tbest: 0.0595980 (1976)\ttotal: 1m 37s\tremaining: 39m 2s\n",
      "3000:\tlearn: 0.0552776\ttest: 0.0595437\tbest: 0.0595417 (2940)\ttotal: 2m 26s\tremaining: 38m 11s\n",
      "Stopped by overfitting detector  (100 iterations wait)\n",
      "\n",
      "bestTest = 0.0595416905\n",
      "bestIteration = 2940\n",
      "\n",
      "Shrink model to first 2941 iterations.\n",
      "--- Fold 3 - root_mean_squared_error: 0.0595 - Time: 149.35 s\n",
      "\n",
      "0:\tlearn: 0.9347914\ttest: 0.9344284\tbest: 0.9344284 (0)\ttotal: 63.6ms\tremaining: 53m\n",
      "1000:\tlearn: 0.0572454\ttest: 0.0590697\tbest: 0.0590697 (1000)\ttotal: 49.7s\tremaining: 40m 31s\n",
      "2000:\tlearn: 0.0561135\ttest: 0.0589142\tbest: 0.0589119 (1987)\ttotal: 1m 37s\tremaining: 39m 7s\n",
      "Stopped by overfitting detector  (100 iterations wait)\n",
      "\n",
      "bestTest = 0.05891120084\n",
      "bestIteration = 2077\n",
      "\n",
      "Shrink model to first 2078 iterations.\n",
      "--- Fold 4 - root_mean_squared_error: 0.0589 - Time: 107.14 s\n",
      "\n",
      "\n",
      "------ Overall root_mean_squared_error: 0.0592 - Mean root_mean_squared_error: 0.0592 ± 0.0003 - Time: 682.03 s\n"
     ]
    }
   ],
   "source": [
    "cb_trainer = Trainer(\n",
    "    CatBoostRegressor(**cb_params),\n",
    "    cv=CFG.cv,\n",
    "    metric=CFG.metric,\n",
    "    use_early_stopping=True,\n",
    "    task=\"regression\"\n",
    ")\n",
    "\n",
    "fit_args = {\n",
    "    \"verbose\": 1000,\n",
    "    \"early_stopping_rounds\": 100,\n",
    "    \"use_best_model\": True\n",
    "}\n",
    "\n",
    "cb_trainer.fit(X, y, fit_args=fit_args, extra_X=X_original, extra_y=y_original)\n",
    "\n",
    "scores[\"CatBoost\"] = cb_trainer.fold_scores\n",
    "oof_preds[\"CatBoost\"] = cb_trainer.oof_preds\n",
    "test_preds[\"CatBoost\"] = cb_trainer.predict(X_test)"
   ]
  },
  {
   "cell_type": "markdown",
   "id": "7055a8ec",
   "metadata": {
    "papermill": {
     "duration": 0.01305,
     "end_time": "2025-05-08T07:30:50.407860",
     "exception": false,
     "start_time": "2025-05-08T07:30:50.394810",
     "status": "completed"
    },
    "tags": []
   },
   "source": [
    "## AutoGluon"
   ]
  },
  {
   "cell_type": "code",
   "execution_count": 16,
   "id": "100ee4a6",
   "metadata": {
    "execution": {
     "iopub.execute_input": "2025-05-08T07:30:50.436470Z",
     "iopub.status.busy": "2025-05-08T07:30:50.435655Z",
     "iopub.status.idle": "2025-05-08T07:30:50.729277Z",
     "shell.execute_reply": "2025-05-08T07:30:50.728516Z"
    },
    "papermill": {
     "duration": 0.309741,
     "end_time": "2025-05-08T07:30:50.730850",
     "exception": false,
     "start_time": "2025-05-08T07:30:50.421109",
     "status": "completed"
    },
    "tags": []
   },
   "outputs": [],
   "source": [
    "oof_preds_files = glob.glob(f'/kaggle/input/s05e05-calorie-expenditure-prediction-automl/*_oof_preds_*.pkl')\n",
    "test_preds_files = glob.glob(f'/kaggle/input/s05e05-calorie-expenditure-prediction-automl/*_test_preds_*.pkl')\n",
    "\n",
    "ag_oof_preds = np.log1p(joblib.load(oof_preds_files[0]))\n",
    "ag_test_preds = np.log1p(joblib.load(test_preds_files[0]))\n",
    "\n",
    "ag_scores = []\n",
    "split = KFold(n_splits=CFG.n_folds, random_state=CFG.seed, shuffle=True).split(X, y)\n",
    "for _, val_idx in split:\n",
    "    y_val = y[val_idx]\n",
    "    y_preds = ag_oof_preds[val_idx]   \n",
    "    score = root_mean_squared_error(y_preds, y_val)\n",
    "    ag_scores.append(score)\n",
    "    \n",
    "oof_preds[\"AutoGluon\"], test_preds[\"AutoGluon\"], scores[\"AutoGluon\"] = ag_oof_preds, ag_test_preds, ag_scores"
   ]
  },
  {
   "cell_type": "markdown",
   "id": "348dafd4",
   "metadata": {
    "papermill": {
     "duration": 0.012421,
     "end_time": "2025-05-08T07:30:50.756657",
     "exception": false,
     "start_time": "2025-05-08T07:30:50.744236",
     "status": "completed"
    },
    "tags": []
   },
   "source": [
    "# Ensembling with Ridge"
   ]
  },
  {
   "cell_type": "code",
   "execution_count": 17,
   "id": "cc271b46",
   "metadata": {
    "_kg_hide-input": true,
    "execution": {
     "iopub.execute_input": "2025-05-08T07:30:50.783464Z",
     "iopub.status.busy": "2025-05-08T07:30:50.783161Z",
     "iopub.status.idle": "2025-05-08T07:30:50.790366Z",
     "shell.execute_reply": "2025-05-08T07:30:50.789515Z"
    },
    "papermill": {
     "duration": 0.022534,
     "end_time": "2025-05-08T07:30:50.791748",
     "exception": false,
     "start_time": "2025-05-08T07:30:50.769214",
     "status": "completed"
    },
    "tags": []
   },
   "outputs": [],
   "source": [
    "def plot_weights(weights, title):\n",
    "    sorted_indices = np.argsort(weights[0])[::-1]\n",
    "    sorted_coeffs = np.array(weights[0])[sorted_indices]\n",
    "    sorted_model_names = np.array(list(oof_preds.keys()))[sorted_indices]\n",
    "\n",
    "    plt.figure(figsize=(10, weights.shape[1] * 0.5))\n",
    "    ax = sns.barplot(x=sorted_coeffs, y=sorted_model_names, palette=\"RdYlGn_r\")\n",
    "\n",
    "    for i, (value, name) in enumerate(zip(sorted_coeffs, sorted_model_names)):\n",
    "        if value >= 0:\n",
    "            ax.text(value, i, f\"{value:.3f}\", va=\"center\", ha=\"left\", color=\"black\")\n",
    "        else:\n",
    "            ax.text(value, i, f\"{value:.3f}\", va=\"center\", ha=\"right\", color=\"black\")\n",
    "\n",
    "    xlim = ax.get_xlim()\n",
    "    ax.set_xlim(xlim[0] - 0.1 * abs(xlim[0]), xlim[1] + 0.1 * abs(xlim[1]))\n",
    "\n",
    "    plt.title(title)\n",
    "    plt.xlabel(\"\")\n",
    "    plt.ylabel(\"\")\n",
    "    plt.tight_layout()\n",
    "    plt.show()"
   ]
  },
  {
   "cell_type": "code",
   "execution_count": 18,
   "id": "e44c5c93",
   "metadata": {
    "execution": {
     "iopub.execute_input": "2025-05-08T07:30:50.818599Z",
     "iopub.status.busy": "2025-05-08T07:30:50.818266Z",
     "iopub.status.idle": "2025-05-08T07:30:50.832750Z",
     "shell.execute_reply": "2025-05-08T07:30:50.832065Z"
    },
    "papermill": {
     "duration": 0.029405,
     "end_time": "2025-05-08T07:30:50.834057",
     "exception": false,
     "start_time": "2025-05-08T07:30:50.804652",
     "status": "completed"
    },
    "tags": []
   },
   "outputs": [],
   "source": [
    "X = pd.DataFrame(oof_preds)\n",
    "X_test = pd.DataFrame(test_preds)"
   ]
  },
  {
   "cell_type": "code",
   "execution_count": 19,
   "id": "ba1cb6cc",
   "metadata": {
    "execution": {
     "iopub.execute_input": "2025-05-08T07:30:50.860804Z",
     "iopub.status.busy": "2025-05-08T07:30:50.860468Z",
     "iopub.status.idle": "2025-05-08T07:30:50.912013Z",
     "shell.execute_reply": "2025-05-08T07:30:50.911288Z"
    },
    "papermill": {
     "duration": 0.066294,
     "end_time": "2025-05-08T07:30:50.913291",
     "exception": false,
     "start_time": "2025-05-08T07:30:50.846997",
     "status": "completed"
    },
    "tags": []
   },
   "outputs": [
    {
     "data": {
      "text/plain": [
       "['test_preds.pkl']"
      ]
     },
     "execution_count": 19,
     "metadata": {},
     "output_type": "execute_result"
    }
   ],
   "source": [
    "joblib.dump(X, \"oof_preds.pkl\")\n",
    "joblib.dump(X_test, \"test_preds.pkl\")"
   ]
  },
  {
   "cell_type": "code",
   "execution_count": 20,
   "id": "4852a66b",
   "metadata": {
    "_kg_hide-output": true,
    "execution": {
     "iopub.execute_input": "2025-05-08T07:30:50.940832Z",
     "iopub.status.busy": "2025-05-08T07:30:50.940515Z",
     "iopub.status.idle": "2025-05-08T07:35:01.433726Z",
     "shell.execute_reply": "2025-05-08T07:35:01.432909Z"
    },
    "papermill": {
     "duration": 250.508829,
     "end_time": "2025-05-08T07:35:01.435137",
     "exception": false,
     "start_time": "2025-05-08T07:30:50.926308",
     "status": "completed"
    },
    "scrolled": true,
    "tags": []
   },
   "outputs": [
    {
     "name": "stderr",
     "output_type": "stream",
     "text": [
      "[I 2025-05-08 07:30:50,945] A new study created in memory with name: no-name-35cd5753-84b3-4269-b2f5-f63fc6cc4e1a\n",
      "[I 2025-05-08 07:30:54,721] Trial 3 finished with value: 0.058988340459083036 and parameters: {'alpha': 6.920864333127266, 'tol': 0.002205041251277565}. Best is trial 3 with value: 0.058988340459083036.\n",
      "[I 2025-05-08 07:30:55,031] Trial 0 finished with value: 0.05898607856902397 and parameters: {'alpha': 3.2248920004221193, 'tol': 0.00879393089973488}. Best is trial 0 with value: 0.05898607856902397.\n",
      "[I 2025-05-08 07:30:55,212] Trial 2 finished with value: 0.058987777448344436 and parameters: {'alpha': 6.194711098632261, 'tol': 0.0023830550175238246}. Best is trial 0 with value: 0.05898607856902397.\n",
      "[I 2025-05-08 07:30:55,243] Trial 1 finished with value: 0.05898994542281259 and parameters: {'alpha': 8.783763074843751, 'tol': 5.347115601464078e-05}. Best is trial 0 with value: 0.05898607856902397.\n",
      "[I 2025-05-08 07:30:59,196] Trial 4 finished with value: 0.05898860237514423 and parameters: {'alpha': 7.242356772916128, 'tol': 0.0015783183624190186}. Best is trial 0 with value: 0.05898607856902397.\n",
      "[I 2025-05-08 07:30:59,198] Trial 5 finished with value: 0.05899024137129051 and parameters: {'alpha': 9.105872699696164, 'tol': 0.00023393025785475472}. Best is trial 0 with value: 0.05898607856902397.\n",
      "[I 2025-05-08 07:30:59,201] Trial 6 finished with value: 0.05898583495544964 and parameters: {'alpha': 1.849937473953247, 'tol': 3.928118418443596e-06}. Best is trial 6 with value: 0.05898583495544964.\n",
      "[I 2025-05-08 07:30:59,204] Trial 7 finished with value: 0.05898665893064329 and parameters: {'alpha': 4.496588730775144, 'tol': 0.0009349680781393484}. Best is trial 6 with value: 0.05898583495544964.\n",
      "[I 2025-05-08 07:31:03,201] Trial 8 finished with value: 0.058986116644051824 and parameters: {'alpha': 3.3328685928966317, 'tol': 0.004605559443511767}. Best is trial 6 with value: 0.05898583495544964.\n",
      "[I 2025-05-08 07:31:03,206] Trial 11 finished with value: 0.05898914708513551 and parameters: {'alpha': 7.886111249265833, 'tol': 0.005130461224803925}. Best is trial 6 with value: 0.05898583495544964.\n",
      "[I 2025-05-08 07:31:03,207] Trial 10 finished with value: 0.058989518732500315 and parameters: {'alpha': 8.30978869154743, 'tol': 0.0008883743303570821}. Best is trial 6 with value: 0.05898583495544964.\n",
      "[I 2025-05-08 07:31:03,222] Trial 9 finished with value: 0.05898597345780775 and parameters: {'alpha': 2.880341300186975, 'tol': 0.0031258724007206615}. Best is trial 6 with value: 0.05898583495544964.\n",
      "[I 2025-05-08 07:31:07,269] Trial 15 finished with value: 0.058985858516649725 and parameters: {'alpha': 1.5175808457074624, 'tol': 0.0006204668686082956}. Best is trial 6 with value: 0.05898583495544964.\n",
      "[I 2025-05-08 07:31:07,273] Trial 13 finished with value: 0.05898607921574066 and parameters: {'alpha': 0.7447451055296632, 'tol': 0.0003492876390063602}. Best is trial 6 with value: 0.05898583495544964.\n",
      "[I 2025-05-08 07:31:07,275] Trial 14 finished with value: 0.05898583691559749 and parameters: {'alpha': 1.7765500470815343, 'tol': 0.0025576811077243126}. Best is trial 6 with value: 0.05898583495544964.\n",
      "[I 2025-05-08 07:31:07,278] Trial 12 finished with value: 0.05898602282407052 and parameters: {'alpha': 0.8771812236836309, 'tol': 0.0007781692343686196}. Best is trial 6 with value: 0.05898583495544964.\n",
      "[I 2025-05-08 07:31:11,322] Trial 18 finished with value: 0.058986506319832856 and parameters: {'alpha': 0.07511283346136088, 'tol': 0.005000457144265448}. Best is trial 6 with value: 0.05898583495544964.\n",
      "[I 2025-05-08 07:31:11,324] Trial 16 finished with value: 0.058991076032731585 and parameters: {'alpha': 9.99057629494741, 'tol': 0.009904090184450515}. Best is trial 6 with value: 0.05898583495544964.\n",
      "[I 2025-05-08 07:31:11,327] Trial 19 finished with value: 0.05898586912177632 and parameters: {'alpha': 1.4434666510562755, 'tol': 0.004157844483937283}. Best is trial 6 with value: 0.05898583495544964.\n",
      "[I 2025-05-08 07:31:11,328] Trial 17 finished with value: 0.058988369591967696 and parameters: {'alpha': 6.957069765999233, 'tol': 0.008863832429898466}. Best is trial 6 with value: 0.05898583495544964.\n",
      "[I 2025-05-08 07:31:15,390] Trial 23 finished with value: 0.058986075709774786 and parameters: {'alpha': 3.216502896480841, 'tol': 0.00040681672075348506}. Best is trial 6 with value: 0.05898583495544964.\n",
      "[I 2025-05-08 07:31:15,391] Trial 20 finished with value: 0.05898638926015946 and parameters: {'alpha': 3.9771259773766063, 'tol': 0.00035969906548672065}. Best is trial 6 with value: 0.05898583495544964.\n",
      "[I 2025-05-08 07:31:15,394] Trial 22 finished with value: 0.05898648896192438 and parameters: {'alpha': 0.09607140462827668, 'tol': 0.002941134248170175}. Best is trial 6 with value: 0.05898583495544964.\n",
      "[I 2025-05-08 07:31:15,395] Trial 21 finished with value: 0.05898616808334685 and parameters: {'alpha': 3.469400482427673, 'tol': 0.0005124751688718013}. Best is trial 6 with value: 0.05898583495544964.\n",
      "[I 2025-05-08 07:31:19,473] Trial 25 finished with value: 0.0589863924546827 and parameters: {'alpha': 0.21935632767010915, 'tol': 0.008751578890784116}. Best is trial 6 with value: 0.05898583495544964.\n",
      "[I 2025-05-08 07:31:19,478] Trial 24 finished with value: 0.0589858637974654 and parameters: {'alpha': 2.333582916169518, 'tol': 0.0021584216815289394}. Best is trial 6 with value: 0.05898583495544964.\n",
      "[I 2025-05-08 07:31:19,479] Trial 26 finished with value: 0.058986046810581415 and parameters: {'alpha': 0.8184189214595372, 'tol': 4.8337619708203015e-06}. Best is trial 6 with value: 0.05898583495544964.\n",
      "[I 2025-05-08 07:31:19,479] Trial 27 finished with value: 0.05898587800372547 and parameters: {'alpha': 2.4326838088925493, 'tol': 0.0020804874130313875}. Best is trial 6 with value: 0.05898583495544964.\n",
      "[I 2025-05-08 07:31:23,399] Trial 29 finished with value: 0.05898583905769692 and parameters: {'alpha': 1.730542933659287, 'tol': 0.002220656132457118}. Best is trial 6 with value: 0.05898583495544964.\n",
      "[I 2025-05-08 07:31:23,546] Trial 28 finished with value: 0.05898590685185495 and parameters: {'alpha': 1.2493289721282839, 'tol': 0.0018335184038918166}. Best is trial 6 with value: 0.05898583495544964.\n",
      "[I 2025-05-08 07:31:23,549] Trial 30 finished with value: 0.058986325392554606 and parameters: {'alpha': 0.31292134767044644, 'tol': 0.0020759770471741185}. Best is trial 6 with value: 0.05898583495544964.\n",
      "[I 2025-05-08 07:31:23,557] Trial 31 finished with value: 0.058986228437253305 and parameters: {'alpha': 0.462967573375225, 'tol': 0.0024120331635208068}. Best is trial 6 with value: 0.05898583495544964.\n",
      "[I 2025-05-08 07:31:27,163] Trial 35 finished with value: 0.058986338347117265 and parameters: {'alpha': 3.8688367863274737, 'tol': 0.008790353074651194}. Best is trial 6 with value: 0.05898583495544964.\n",
      "[I 2025-05-08 07:31:27,405] Trial 32 finished with value: 0.058986638997452226 and parameters: {'alpha': 4.460654432236248, 'tol': 0.0037784235126764485}. Best is trial 6 with value: 0.05898583495544964.\n",
      "[I 2025-05-08 07:31:27,756] Trial 34 finished with value: 0.058985847692512326 and parameters: {'alpha': 2.1862659412022953, 'tol': 0.0011641381186439815}. Best is trial 6 with value: 0.05898583495544964.\n",
      "[I 2025-05-08 07:31:27,771] Trial 33 finished with value: 0.05898655338948744 and parameters: {'alpha': 4.302378133244718, 'tol': 0.008297740801999123}. Best is trial 6 with value: 0.05898583495544964.\n",
      "[I 2025-05-08 07:31:30,912] Trial 36 finished with value: 0.05898583563346864 and parameters: {'alpha': 1.9753848557819487, 'tol': 2.8584358564394447e-05}. Best is trial 6 with value: 0.05898583495544964.\n",
      "[I 2025-05-08 07:31:31,463] Trial 37 finished with value: 0.058985841843586274 and parameters: {'alpha': 2.1106855641430515, 'tol': 0.0012103837575153397}. Best is trial 6 with value: 0.05898583495544964.\n",
      "[I 2025-05-08 07:31:31,478] Trial 38 finished with value: 0.058985989923128125 and parameters: {'alpha': 2.940455312475293, 'tol': 0.002536634109874873}. Best is trial 6 with value: 0.05898583495544964.\n",
      "[I 2025-05-08 07:31:31,901] Trial 39 finished with value: 0.05898590484460322 and parameters: {'alpha': 2.5847503122693642, 'tol': 0.0028358177967988574}. Best is trial 6 with value: 0.05898583495544964.\n",
      "[I 2025-05-08 07:31:34,976] Trial 40 finished with value: 0.058990774578615526 and parameters: {'alpha': 9.674674652336549, 'tol': 0.006531018717986954}. Best is trial 6 with value: 0.05898583495544964.\n",
      "[I 2025-05-08 07:31:35,396] Trial 41 finished with value: 0.058985946925722885 and parameters: {'alpha': 2.7763046245688705, 'tol': 0.00020469425297581237}. Best is trial 6 with value: 0.05898583495544964.\n",
      "[I 2025-05-08 07:31:35,397] Trial 42 finished with value: 0.058985866276963984 and parameters: {'alpha': 1.462007614683636, 'tol': 0.00013666186013068212}. Best is trial 6 with value: 0.05898583495544964.\n",
      "[I 2025-05-08 07:31:35,676] Trial 43 finished with value: 0.0589859304815031 and parameters: {'alpha': 2.706174069159875, 'tol': 8.543213301693195e-05}. Best is trial 6 with value: 0.05898583495544964.\n",
      "[I 2025-05-08 07:31:38,956] Trial 44 finished with value: 0.058985873069922146 and parameters: {'alpha': 2.4002974738016, 'tol': 0.0008361934486860948}. Best is trial 6 with value: 0.05898583495544964.\n",
      "[I 2025-05-08 07:31:39,343] Trial 46 finished with value: 0.058985870849234436 and parameters: {'alpha': 2.385083617095662, 'tol': 0.00031989405783684185}. Best is trial 6 with value: 0.05898583495544964.\n",
      "[I 2025-05-08 07:31:39,353] Trial 45 finished with value: 0.058985872142810945 and parameters: {'alpha': 2.393997636690659, 'tol': 0.001234595525393038}. Best is trial 6 with value: 0.05898583495544964.\n",
      "[I 2025-05-08 07:31:39,624] Trial 47 finished with value: 0.05898584178602863 and parameters: {'alpha': 1.6864235051017624, 'tol': 0.0027332488222554722}. Best is trial 6 with value: 0.05898583495544964.\n",
      "[I 2025-05-08 07:31:42,869] Trial 48 finished with value: 0.05898584936112106 and parameters: {'alpha': 2.2045941068612005, 'tol': 0.0030108164509946326}. Best is trial 6 with value: 0.05898583495544964.\n",
      "[I 2025-05-08 07:31:43,280] Trial 49 finished with value: 0.05898583512391577 and parameters: {'alpha': 1.9516862373061843, 'tol': 0.003176432488702572}. Best is trial 6 with value: 0.05898583495544964.\n",
      "[I 2025-05-08 07:31:43,284] Trial 50 finished with value: 0.05898585089223414 and parameters: {'alpha': 2.2205494138157484, 'tol': 0.0026027143964012663}. Best is trial 6 with value: 0.05898583495544964.\n",
      "[I 2025-05-08 07:31:43,732] Trial 51 finished with value: 0.05898587917930912 and parameters: {'alpha': 2.44014086366416, 'tol': 0.005334179049977201}. Best is trial 6 with value: 0.05898583495544964.\n",
      "[I 2025-05-08 07:31:46,793] Trial 52 finished with value: 0.05898583523461336 and parameters: {'alpha': 1.9575985776099545, 'tol': 0.003936708852455071}. Best is trial 6 with value: 0.05898583495544964.\n",
      "[I 2025-05-08 07:31:47,213] Trial 53 finished with value: 0.058985835654529584 and parameters: {'alpha': 1.8154987627056145, 'tol': 0.004585004833787799}. Best is trial 6 with value: 0.05898583495544964.\n",
      "[I 2025-05-08 07:31:47,216] Trial 54 finished with value: 0.05898583464308986 and parameters: {'alpha': 1.8840215844694908, 'tol': 0.004268538362811647}. Best is trial 54 with value: 0.05898583464308986.\n",
      "[I 2025-05-08 07:31:47,676] Trial 55 finished with value: 0.058985846031597775 and parameters: {'alpha': 1.632510889376506, 'tol': 0.003991128025344444}. Best is trial 54 with value: 0.05898583464308986.\n",
      "[I 2025-05-08 07:31:50,580] Trial 56 finished with value: 0.058985884157096234 and parameters: {'alpha': 1.3567630799237307, 'tol': 0.004711981103022813}. Best is trial 54 with value: 0.05898583464308986.\n",
      "[I 2025-05-08 07:31:50,991] Trial 57 finished with value: 0.058985898067865625 and parameters: {'alpha': 1.288399577449189, 'tol': 0.00625385090990991}. Best is trial 54 with value: 0.05898583464308986.\n",
      "[I 2025-05-08 07:31:51,217] Trial 58 finished with value: 0.0589858995151447 and parameters: {'alpha': 2.5570674875388177, 'tol': 0.0048670501676870825}. Best is trial 54 with value: 0.05898583464308986.\n",
      "[I 2025-05-08 07:31:51,600] Trial 59 finished with value: 0.05898589206628831 and parameters: {'alpha': 1.3167952579605178, 'tol': 0.006574228854280848}. Best is trial 54 with value: 0.05898583464308986.\n",
      "[I 2025-05-08 07:31:54,370] Trial 60 finished with value: 0.05898595268708488 and parameters: {'alpha': 2.7997612464425865, 'tol': 0.006429480075462677}. Best is trial 54 with value: 0.05898583464308986.\n",
      "[I 2025-05-08 07:31:54,915] Trial 61 finished with value: 0.05898589916318793 and parameters: {'alpha': 2.555202985739445, 'tol': 0.00511277602477988}. Best is trial 54 with value: 0.05898583464308986.\n",
      "[I 2025-05-08 07:31:55,358] Trial 62 finished with value: 0.05898590665924276 and parameters: {'alpha': 2.5939531943436487, 'tol': 0.0045316115332681706}. Best is trial 54 with value: 0.05898583464308986.\n",
      "[I 2025-05-08 07:31:55,561] Trial 63 finished with value: 0.05898634564516064 and parameters: {'alpha': 3.8846165586599795, 'tol': 0.004661903772988589}. Best is trial 54 with value: 0.05898583464308986.\n",
      "[I 2025-05-08 07:31:58,423] Trial 64 finished with value: 0.0589862684448601 and parameters: {'alpha': 3.712759389129611, 'tol': 0.004642106089441529}. Best is trial 54 with value: 0.05898583464308986.\n",
      "[I 2025-05-08 07:31:59,009] Trial 65 finished with value: 0.058986039047398874 and parameters: {'alpha': 3.104851633143154, 'tol': 0.004215352773246335}. Best is trial 54 with value: 0.05898583464308986.\n",
      "[I 2025-05-08 07:31:59,677] Trial 66 finished with value: 0.05898810515914349 and parameters: {'alpha': 6.62388499534949, 'tol': 0.006043394318724053}. Best is trial 54 with value: 0.05898583464308986.\n",
      "[I 2025-05-08 07:31:59,678] Trial 67 finished with value: 0.05898607068694939 and parameters: {'alpha': 0.7635662105352807, 'tol': 0.004060574997287124}. Best is trial 54 with value: 0.05898583464308986.\n",
      "[I 2025-05-08 07:32:02,421] Trial 68 finished with value: 0.05898591385254763 and parameters: {'alpha': 2.6294259169219485, 'tol': 0.0038531671665017037}. Best is trial 54 with value: 0.05898583464308986.\n",
      "[I 2025-05-08 07:32:03,222] Trial 69 finished with value: 0.058986508250329604 and parameters: {'alpha': 0.07280272994728221, 'tol': 0.004211876267538468}. Best is trial 54 with value: 0.05898583464308986.\n",
      "[I 2025-05-08 07:32:03,611] Trial 71 finished with value: 0.058986063224750265 and parameters: {'alpha': 0.7803551702893201, 'tol': 0.004410705927962926}. Best is trial 54 with value: 0.05898583464308986.\n",
      "[I 2025-05-08 07:32:03,615] Trial 70 finished with value: 0.0589862142481614 and parameters: {'alpha': 0.4867102400351502, 'tol': 0.0045522534754175795}. Best is trial 54 with value: 0.05898583464308986.\n",
      "[I 2025-05-08 07:32:06,407] Trial 72 finished with value: 0.05898594462604516 and parameters: {'alpha': 1.105344408829917, 'tol': 0.0038265025364126637}. Best is trial 54 with value: 0.05898583464308986.\n",
      "[I 2025-05-08 07:32:07,057] Trial 73 finished with value: 0.05898733926644399 and parameters: {'alpha': 5.583875612289667, 'tol': 0.001813494629381034}. Best is trial 54 with value: 0.05898583464308986.\n",
      "[I 2025-05-08 07:32:07,636] Trial 74 finished with value: 0.05898590194669967 and parameters: {'alpha': 1.2708093536202825, 'tol': 0.002608434413214351}. Best is trial 54 with value: 0.05898583464308986.\n",
      "[I 2025-05-08 07:32:07,641] Trial 75 finished with value: 0.05898597513641814 and parameters: {'alpha': 1.0080505455956945, 'tol': 0.002229809089849808}. Best is trial 54 with value: 0.05898583464308986.\n",
      "[I 2025-05-08 07:32:10,419] Trial 76 finished with value: 0.05898641259996038 and parameters: {'alpha': 0.1925996475004732, 'tol': 0.0009116525864329081}. Best is trial 54 with value: 0.05898583464308986.\n",
      "[I 2025-05-08 07:32:11,044] Trial 77 finished with value: 0.058986465030738365 and parameters: {'alpha': 0.12553888632319388, 'tol': 0.000912494993355113}. Best is trial 54 with value: 0.05898583464308986.\n",
      "[I 2025-05-08 07:32:11,629] Trial 78 finished with value: 0.05898626891283515 and parameters: {'alpha': 0.39790914916842923, 'tol': 0.00014060625659616298}. Best is trial 54 with value: 0.05898583464308986.\n",
      "[I 2025-05-08 07:32:11,634] Trial 79 finished with value: 0.05899006115246177 and parameters: {'alpha': 8.910320886690759, 'tol': 0.002799239513217467}. Best is trial 54 with value: 0.05898583464308986.\n",
      "[I 2025-05-08 07:32:14,404] Trial 80 finished with value: 0.058986195607410016 and parameters: {'alpha': 3.5388305047772044, 'tol': 0.0025232205453557}. Best is trial 54 with value: 0.05898583464308986.\n",
      "[I 2025-05-08 07:32:15,063] Trial 81 finished with value: 0.05898583859375928 and parameters: {'alpha': 2.0545593196596905, 'tol': 9.340814165202812e-05}. Best is trial 54 with value: 0.05898583464308986.\n",
      "[I 2025-05-08 07:32:15,624] Trial 82 finished with value: 0.058985835233388184 and parameters: {'alpha': 1.9575362125045839, 'tol': 0.0033379564415319356}. Best is trial 54 with value: 0.05898583464308986.\n",
      "[I 2025-05-08 07:32:15,627] Trial 83 finished with value: 0.058986145307358 and parameters: {'alpha': 3.4101242571915193, 'tol': 0.0028098488373006878}. Best is trial 54 with value: 0.05898583464308986.\n",
      "[I 2025-05-08 07:32:18,440] Trial 84 finished with value: 0.058985836468763854 and parameters: {'alpha': 2.0036313112843644, 'tol': 0.0029661877288478323}. Best is trial 54 with value: 0.05898583464308986.\n",
      "[I 2025-05-08 07:32:19,111] Trial 85 finished with value: 0.058985872214332644 and parameters: {'alpha': 1.4242043792099572, 'tol': 0.00014277090951855483}. Best is trial 54 with value: 0.05898583464308986.\n",
      "[I 2025-05-08 07:32:19,778] Trial 86 finished with value: 0.058985836205348294 and parameters: {'alpha': 1.995573857975607, 'tol': 0.00016221128652475208}. Best is trial 54 with value: 0.05898583464308986.\n",
      "[I 2025-05-08 07:32:19,780] Trial 87 finished with value: 0.0589859994039593 and parameters: {'alpha': 2.973789406700984, 'tol': 0.00044803575587497633}. Best is trial 54 with value: 0.05898583464308986.\n",
      "[I 2025-05-08 07:32:22,344] Trial 88 finished with value: 0.058985834663282256 and parameters: {'alpha': 1.8794393107997693, 'tol': 0.003869174241934071}. Best is trial 54 with value: 0.05898583464308986.\n",
      "[I 2025-05-08 07:32:23,023] Trial 89 finished with value: 0.05898585688929352 and parameters: {'alpha': 1.5303896478156498, 'tol': 0.0034117491487345372}. Best is trial 54 with value: 0.05898583464308986.\n",
      "[I 2025-05-08 07:32:23,988] Trial 90 finished with value: 0.058985888556931584 and parameters: {'alpha': 2.496609793002632, 'tol': 0.0035256312494226496}. Best is trial 54 with value: 0.05898583464308986.\n",
      "[I 2025-05-08 07:32:24,137] Trial 91 finished with value: 0.05898588906049188 and parameters: {'alpha': 2.499506687886234, 'tol': 0.002782641510819046}. Best is trial 54 with value: 0.05898583464308986.\n",
      "[I 2025-05-08 07:32:26,572] Trial 92 finished with value: 0.05898584647977697 and parameters: {'alpha': 2.1722244042504224, 'tol': 0.004315819976090976}. Best is trial 54 with value: 0.05898583464308986.\n",
      "[I 2025-05-08 07:32:27,245] Trial 93 finished with value: 0.058985847827002905 and parameters: {'alpha': 1.6129124290791543, 'tol': 0.003808473561476346}. Best is trial 54 with value: 0.05898583464308986.\n",
      "[I 2025-05-08 07:32:27,945] Trial 94 finished with value: 0.058985840063248494 and parameters: {'alpha': 2.0819736454643847, 'tol': 0.004072313340351027}. Best is trial 54 with value: 0.05898583464308986.\n",
      "[I 2025-05-08 07:32:27,956] Trial 95 finished with value: 0.058985882639540396 and parameters: {'alpha': 2.4615708339192777, 'tol': 0.0037356576023698062}. Best is trial 54 with value: 0.05898583464308986.\n",
      "[I 2025-05-08 07:32:30,435] Trial 96 finished with value: 0.05898583827753144 and parameters: {'alpha': 2.048037065651334, 'tol': 0.004881930325622279}. Best is trial 54 with value: 0.05898583464308986.\n",
      "[I 2025-05-08 07:32:31,118] Trial 97 finished with value: 0.05898583579073859 and parameters: {'alpha': 1.8104122158634777, 'tol': 6.872660966597042e-05}. Best is trial 54 with value: 0.05898583464308986.\n",
      "[I 2025-05-08 07:32:32,428] Trial 98 finished with value: 0.05898601007034637 and parameters: {'alpha': 3.010297015893371, 'tol': 0.00027786301473325655}. Best is trial 54 with value: 0.05898583464308986.\n",
      "[I 2025-05-08 07:32:32,432] Trial 99 finished with value: 0.05898584752453782 and parameters: {'alpha': 2.184359825805058, 'tol': 9.382589376354671e-05}. Best is trial 54 with value: 0.05898583464308986.\n",
      "[I 2025-05-08 07:32:34,461] Trial 100 finished with value: 0.05898586391687779 and parameters: {'alpha': 2.3345013262364667, 'tol': 0.00022121218008055416}. Best is trial 54 with value: 0.05898583464308986.\n",
      "[I 2025-05-08 07:32:35,100] Trial 101 finished with value: 0.05898592780516206 and parameters: {'alpha': 2.694258147299876, 'tol': 0.00024414356154440174}. Best is trial 54 with value: 0.05898583464308986.\n",
      "[I 2025-05-08 07:32:36,443] Trial 103 finished with value: 0.0589858732639358 and parameters: {'alpha': 2.401606728732533, 'tol': 0.0002249707880053353}. Best is trial 54 with value: 0.05898583464308986.\n",
      "[I 2025-05-08 07:32:36,444] Trial 102 finished with value: 0.05898584035763708 and parameters: {'alpha': 1.7081770213241152, 'tol': 0.0009475400739174015}. Best is trial 54 with value: 0.05898583464308986.\n",
      "[I 2025-05-08 07:32:38,454] Trial 104 finished with value: 0.05898583477949659 and parameters: {'alpha': 1.9269123358489006, 'tol': 0.0014170459267350405}. Best is trial 54 with value: 0.05898583464308986.\n",
      "[I 2025-05-08 07:32:39,107] Trial 105 finished with value: 0.05898587243023843 and parameters: {'alpha': 1.4228914169479887, 'tol': 0.0017102309678432455}. Best is trial 54 with value: 0.05898583464308986.\n",
      "[I 2025-05-08 07:32:40,442] Trial 106 finished with value: 0.05898583923203758 and parameters: {'alpha': 1.7273648897924727, 'tol': 0.00205740269006811}. Best is trial 54 with value: 0.05898583464308986.\n",
      "[I 2025-05-08 07:32:40,443] Trial 107 finished with value: 0.05898583518966717 and parameters: {'alpha': 1.955267794505078, 'tol': 0.002804009296186015}. Best is trial 54 with value: 0.05898583464308986.\n",
      "[I 2025-05-08 07:32:42,400] Trial 108 finished with value: 0.05898589092047768 and parameters: {'alpha': 1.3223946772530393, 'tol': 0.00014621026361691006}. Best is trial 54 with value: 0.05898583464308986.\n",
      "[I 2025-05-08 07:32:43,042] Trial 109 finished with value: 0.05898593891102259 and parameters: {'alpha': 2.742750700396056, 'tol': 0.0016352626523653932}. Best is trial 54 with value: 0.05898583464308986.\n",
      "[I 2025-05-08 07:32:44,390] Trial 111 finished with value: 0.0589875601165761 and parameters: {'alpha': 5.89789621069079, 'tol': 0.009775933715116966}. Best is trial 54 with value: 0.05898583464308986.\n",
      "[I 2025-05-08 07:32:44,395] Trial 110 finished with value: 0.058985840482185824 and parameters: {'alpha': 1.70617707941754, 'tol': 0.003236174132459215}. Best is trial 54 with value: 0.05898583464308986.\n",
      "[I 2025-05-08 07:32:46,381] Trial 112 finished with value: 0.05898591205817496 and parameters: {'alpha': 2.6207207559903747, 'tol': 0.0029350897821930587}. Best is trial 54 with value: 0.05898583464308986.\n",
      "[I 2025-05-08 07:32:47,029] Trial 113 finished with value: 0.058985870345514016 and parameters: {'alpha': 1.4357396464264536, 'tol': 0.003558952094105814}. Best is trial 54 with value: 0.05898583464308986.\n",
      "[I 2025-05-08 07:32:48,382] Trial 115 finished with value: 0.05898592373000063 and parameters: {'alpha': 2.675810641437899, 'tol': 0.002160520101794475}. Best is trial 54 with value: 0.05898583464308986.\n",
      "[I 2025-05-08 07:32:48,396] Trial 114 finished with value: 0.05898584043994294 and parameters: {'alpha': 2.0883928958642914, 'tol': 0.0019407637634219807}. Best is trial 54 with value: 0.05898583464308986.\n",
      "[I 2025-05-08 07:32:50,363] Trial 116 finished with value: 0.058985836836270567 and parameters: {'alpha': 1.7786104579617361, 'tol': 0.005853370600092826}. Best is trial 54 with value: 0.05898583464308986.\n",
      "[I 2025-05-08 07:32:51,174] Trial 117 finished with value: 0.05898623058885284 and parameters: {'alpha': 3.6239942887401293, 'tol': 0.0018962854732408026}. Best is trial 54 with value: 0.05898583464308986.\n",
      "[I 2025-05-08 07:32:52,357] Trial 118 finished with value: 0.05898667557370666 and parameters: {'alpha': 4.526346151923248, 'tol': 0.0002360528731635947}. Best is trial 54 with value: 0.05898583464308986.\n",
      "[I 2025-05-08 07:32:52,358] Trial 119 finished with value: 0.058985938465026685 and parameters: {'alpha': 1.1267372927347843, 'tol': 6.428929162120324e-05}. Best is trial 54 with value: 0.05898583464308986.\n",
      "[I 2025-05-08 07:32:54,338] Trial 120 finished with value: 0.058987651672281316 and parameters: {'alpha': 6.024274581927393, 'tol': 4.8761938742237186e-05}. Best is trial 54 with value: 0.05898583464308986.\n",
      "[I 2025-05-08 07:32:54,978] Trial 121 finished with value: 0.058985971172407704 and parameters: {'alpha': 1.019981338290548, 'tol': 0.00010934602072159692}. Best is trial 54 with value: 0.05898583464308986.\n",
      "[I 2025-05-08 07:32:56,289] Trial 122 finished with value: 0.058985982589077376 and parameters: {'alpha': 0.9861158989332283, 'tol': 0.001949116047802136}. Best is trial 54 with value: 0.05898583464308986.\n",
      "[I 2025-05-08 07:32:56,290] Trial 123 finished with value: 0.058986202940626856 and parameters: {'alpha': 0.50600947497855, 'tol': 0.002833105252738874}. Best is trial 54 with value: 0.05898583464308986.\n",
      "[I 2025-05-08 07:32:58,297] Trial 124 finished with value: 0.05898584417812445 and parameters: {'alpha': 1.654495768670721, 'tol': 0.002923552895532729}. Best is trial 54 with value: 0.05898583464308986.\n",
      "[I 2025-05-08 07:32:58,925] Trial 125 finished with value: 0.05898588223002108 and parameters: {'alpha': 1.367008359690445, 'tol': 0.003194895601022233}. Best is trial 54 with value: 0.05898583464308986.\n",
      "[I 2025-05-08 07:33:00,105] Trial 127 finished with value: 0.05898583491091669 and parameters: {'alpha': 1.9380863919897469, 'tol': 0.004309560387185721}. Best is trial 54 with value: 0.05898583464308986.\n",
      "[I 2025-05-08 07:33:00,504] Trial 126 finished with value: 0.05898583708769391 and parameters: {'alpha': 2.0205717297331307, 'tol': 0.004308071381967471}. Best is trial 54 with value: 0.05898583464308986.\n",
      "[I 2025-05-08 07:33:02,366] Trial 128 finished with value: 0.058986377418294614 and parameters: {'alpha': 3.9523016396621893, 'tol': 0.003862950117208775}. Best is trial 54 with value: 0.05898583464308986.\n",
      "[I 2025-05-08 07:33:02,853] Trial 129 finished with value: 0.058986117799061176 and parameters: {'alpha': 3.3360438976340725, 'tol': 0.0037764893515635977}. Best is trial 54 with value: 0.05898583464308986.\n",
      "[I 2025-05-08 07:33:04,218] Trial 130 finished with value: 0.058985843778701384 and parameters: {'alpha': 1.6595142092236788, 'tol': 0.0050911392017825964}. Best is trial 54 with value: 0.05898583464308986.\n",
      "[I 2025-05-08 07:33:04,642] Trial 131 finished with value: 0.05898606415842829 and parameters: {'alpha': 3.1821677534580357, 'tol': 0.004712225762510801}. Best is trial 54 with value: 0.05898583464308986.\n",
      "[I 2025-05-08 07:33:06,587] Trial 132 finished with value: 0.058985835514050663 and parameters: {'alpha': 1.9704977765594411, 'tol': 0.005232252005340648}. Best is trial 54 with value: 0.05898583464308986.\n",
      "[I 2025-05-08 07:33:06,974] Trial 133 finished with value: 0.058985991056966336 and parameters: {'alpha': 0.9619274189185845, 'tol': 0.0057401628638158045}. Best is trial 54 with value: 0.05898583464308986.\n",
      "[I 2025-05-08 07:33:08,033] Trial 134 finished with value: 0.05898683135050427 and parameters: {'alpha': 4.795181905705112, 'tol': 0.006260896755767983}. Best is trial 54 with value: 0.05898583464308986.\n",
      "[I 2025-05-08 07:33:08,597] Trial 135 finished with value: 0.058985838127689774 and parameters: {'alpha': 1.7486900202119073, 'tol': 0.004237666915074399}. Best is trial 54 with value: 0.05898583464308986.\n",
      "[I 2025-05-08 07:33:10,784] Trial 137 finished with value: 0.058985849373575074 and parameters: {'alpha': 2.20472702846856, 'tol': 0.005487870423534803}. Best is trial 54 with value: 0.05898583464308986.\n",
      "[I 2025-05-08 07:33:10,789] Trial 136 finished with value: 0.05898619482779497 and parameters: {'alpha': 0.5200723924482573, 'tol': 0.0057606469586282075}. Best is trial 54 with value: 0.05898583464308986.\n",
      "[I 2025-05-08 07:33:11,966] Trial 138 finished with value: 0.058985834884158914 and parameters: {'alpha': 1.9360599250832617, 'tol': 0.005513519030812216}. Best is trial 54 with value: 0.05898583464308986.\n",
      "[I 2025-05-08 07:33:12,593] Trial 139 finished with value: 0.05898609325981975 and parameters: {'alpha': 3.267348747655293, 'tol': 0.006170048989420303}. Best is trial 54 with value: 0.05898583464308986.\n",
      "[I 2025-05-08 07:33:14,543] Trial 140 finished with value: 0.05898598959768174 and parameters: {'alpha': 2.9392953270502717, 'tol': 0.005721783190663898}. Best is trial 54 with value: 0.05898583464308986.\n",
      "[I 2025-05-08 07:33:15,119] Trial 141 finished with value: 0.058985882697571365 and parameters: {'alpha': 2.4619239539786295, 'tol': 0.0055431737114098045}. Best is trial 54 with value: 0.05898583464308986.\n",
      "[I 2025-05-08 07:33:15,782] Trial 142 finished with value: 0.058985838821946746 and parameters: {'alpha': 2.0591086243376524, 'tol': 0.0060054637117152015}. Best is trial 54 with value: 0.05898583464308986.\n",
      "[I 2025-05-08 07:33:16,426] Trial 143 finished with value: 0.05898583492598321 and parameters: {'alpha': 1.9391864545352775, 'tol': 0.005584152231707993}. Best is trial 54 with value: 0.05898583464308986.\n",
      "[I 2025-05-08 07:33:18,533] Trial 144 finished with value: 0.05898583494340535 and parameters: {'alpha': 1.94042514554545, 'tol': 0.005049287044974908}. Best is trial 54 with value: 0.05898583464308986.\n",
      "[I 2025-05-08 07:33:19,149] Trial 145 finished with value: 0.05898584901455296 and parameters: {'alpha': 1.600698944505893, 'tol': 0.005577827956138145}. Best is trial 54 with value: 0.05898583464308986.\n",
      "[I 2025-05-08 07:33:19,738] Trial 146 finished with value: 0.05898583471175858 and parameters: {'alpha': 1.8718269297574788, 'tol': 0.00436209378301352}. Best is trial 54 with value: 0.05898583464308986.\n",
      "[I 2025-05-08 07:33:20,551] Trial 147 finished with value: 0.05898583603721854 and parameters: {'alpha': 1.990079642603497, 'tol': 0.004863212980826391}. Best is trial 54 with value: 0.05898583464308986.\n",
      "[I 2025-05-08 07:33:22,477] Trial 148 finished with value: 0.0589858412487986 and parameters: {'alpha': 1.6943191274906706, 'tol': 0.0051337287607449095}. Best is trial 54 with value: 0.05898583464308986.\n",
      "[I 2025-05-08 07:33:23,273] Trial 149 finished with value: 0.058985840261660684 and parameters: {'alpha': 1.7097333482374195, 'tol': 0.004834088734540424}. Best is trial 54 with value: 0.05898583464308986.\n",
      "[I 2025-05-08 07:33:23,690] Trial 150 finished with value: 0.058986042800619067 and parameters: {'alpha': 0.8279703309201731, 'tol': 0.007863655603658214}. Best is trial 54 with value: 0.05898583464308986.\n",
      "[I 2025-05-08 07:33:24,485] Trial 151 finished with value: 0.05898603995603503 and parameters: {'alpha': 0.8348093698373651, 'tol': 0.004703102140231493}. Best is trial 54 with value: 0.05898583464308986.\n",
      "[I 2025-05-08 07:33:26,438] Trial 152 finished with value: 0.05898590350711967 and parameters: {'alpha': 1.263887177718328, 'tol': 0.0044302632452351545}. Best is trial 54 with value: 0.05898583464308986.\n",
      "[I 2025-05-08 07:33:27,250] Trial 153 finished with value: 0.0589859913119848 and parameters: {'alpha': 2.9453935539037004, 'tol': 0.0038298843509678277}. Best is trial 54 with value: 0.05898583464308986.\n",
      "[I 2025-05-08 07:33:27,680] Trial 154 finished with value: 0.05898585676716903 and parameters: {'alpha': 2.2759220640647664, 'tol': 0.007297043523189476}. Best is trial 54 with value: 0.05898583464308986.\n",
      "[I 2025-05-08 07:33:28,320] Trial 155 finished with value: 0.05898591404657418 and parameters: {'alpha': 2.6303617655618066, 'tol': 0.0045727324883616995}. Best is trial 54 with value: 0.05898583464308986.\n",
      "[I 2025-05-08 07:33:30,410] Trial 156 finished with value: 0.0589859610453586 and parameters: {'alpha': 2.832894892113284, 'tol': 0.003869333078495539}. Best is trial 54 with value: 0.05898583464308986.\n",
      "[I 2025-05-08 07:33:31,045] Trial 157 finished with value: 0.05898584760274347 and parameters: {'alpha': 2.1852487631599313, 'tol': 0.00437953739198403}. Best is trial 54 with value: 0.05898583464308986.\n",
      "[I 2025-05-08 07:33:31,627] Trial 158 finished with value: 0.05898586181625374 and parameters: {'alpha': 2.3180758492308664, 'tol': 0.009752274813400533}. Best is trial 54 with value: 0.05898583464308986.\n",
      "[I 2025-05-08 07:33:32,247] Trial 159 finished with value: 0.05898596351878936 and parameters: {'alpha': 2.842510141385985, 'tol': 0.004837242943237101}. Best is trial 54 with value: 0.05898583464308986.\n",
      "[I 2025-05-08 07:33:34,437] Trial 160 finished with value: 0.05898831776123191 and parameters: {'alpha': 6.892574047221727, 'tol': 0.003962998906614194}. Best is trial 54 with value: 0.05898583464308986.\n",
      "[I 2025-05-08 07:33:35,131] Trial 161 finished with value: 0.058986110114285006 and parameters: {'alpha': 0.6795449011446728, 'tol': 0.003863817071891276}. Best is trial 54 with value: 0.05898583464308986.\n",
      "[I 2025-05-08 07:33:35,692] Trial 162 finished with value: 0.0589859305472724 and parameters: {'alpha': 1.1552774953365024, 'tol': 0.003905468330774057}. Best is trial 54 with value: 0.05898583464308986.\n",
      "[I 2025-05-08 07:33:36,335] Trial 163 finished with value: 0.058986114381651376 and parameters: {'alpha': 0.670877908573932, 'tol': 0.004174166171664534}. Best is trial 54 with value: 0.05898583464308986.\n",
      "[I 2025-05-08 07:33:38,447] Trial 164 finished with value: 0.058986034205380934 and parameters: {'alpha': 0.8488011912167996, 'tol': 0.004185291122962768}. Best is trial 54 with value: 0.05898583464308986.\n",
      "[I 2025-05-08 07:33:39,243] Trial 165 finished with value: 0.0589864793266149 and parameters: {'alpha': 0.10785432630386094, 'tol': 0.006322341930276305}. Best is trial 54 with value: 0.05898583464308986.\n",
      "[I 2025-05-08 07:33:39,662] Trial 166 finished with value: 0.058985888384546416 and parameters: {'alpha': 2.495615197130088, 'tol': 0.006247286737463263}. Best is trial 54 with value: 0.05898583464308986.\n",
      "[I 2025-05-08 07:33:40,461] Trial 167 finished with value: 0.05898588100808797 and parameters: {'alpha': 1.3736195178329056, 'tol': 0.006102866144208513}. Best is trial 54 with value: 0.05898583464308986.\n",
      "[I 2025-05-08 07:33:42,407] Trial 168 finished with value: 0.058985923062498655 and parameters: {'alpha': 1.1834650421603885, 'tol': 0.006322665211835406}. Best is trial 54 with value: 0.05898583464308986.\n",
      "[I 2025-05-08 07:33:43,058] Trial 169 finished with value: 0.0589859784131335 and parameters: {'alpha': 2.8987509682664765, 'tol': 0.006109443798530633}. Best is trial 54 with value: 0.05898583464308986.\n",
      "[I 2025-05-08 07:33:43,610] Trial 170 finished with value: 0.05898584549471465 and parameters: {'alpha': 2.16029867603947, 'tol': 0.002831373230722592}. Best is trial 54 with value: 0.05898583464308986.\n",
      "[I 2025-05-08 07:33:44,256] Trial 171 finished with value: 0.05898588259026303 and parameters: {'alpha': 2.4612708259163547, 'tol': 0.0029329890033676946}. Best is trial 54 with value: 0.05898583464308986.\n",
      "[I 2025-05-08 07:33:46,353] Trial 172 finished with value: 0.058985866989866284 and parameters: {'alpha': 2.3575539179288785, 'tol': 0.0036971910767560484}. Best is trial 54 with value: 0.05898583464308986.\n",
      "[I 2025-05-08 07:33:47,000] Trial 173 finished with value: 0.058985840898657424 and parameters: {'alpha': 2.095941399851818, 'tol': 0.0030881659125158055}. Best is trial 54 with value: 0.05898583464308986.\n",
      "[I 2025-05-08 07:33:47,580] Trial 174 finished with value: 0.05898583645841676 and parameters: {'alpha': 2.0033259682643254, 'tol': 0.00476256983902407}. Best is trial 54 with value: 0.05898583464308986.\n",
      "[I 2025-05-08 07:33:48,390] Trial 175 finished with value: 0.058985901185468516 and parameters: {'alpha': 2.5658530163289397, 'tol': 0.0044838364957957896}. Best is trial 54 with value: 0.05898583464308986.\n",
      "[I 2025-05-08 07:33:50,317] Trial 176 finished with value: 0.058985842645020645 and parameters: {'alpha': 2.122467451834622, 'tol': 0.004570337322082845}. Best is trial 54 with value: 0.05898583464308986.\n",
      "[I 2025-05-08 07:33:51,122] Trial 177 finished with value: 0.05898585745140335 and parameters: {'alpha': 2.2818855646318488, 'tol': 0.004919509229393786}. Best is trial 54 with value: 0.05898583464308986.\n",
      "[I 2025-05-08 07:33:51,526] Trial 178 finished with value: 0.05898583559838326 and parameters: {'alpha': 1.9739801551643585, 'tol': 0.0051511089042724926}. Best is trial 54 with value: 0.05898583464308986.\n",
      "[I 2025-05-08 07:33:52,340] Trial 179 finished with value: 0.05898988849911237 and parameters: {'alpha': 8.72121741214028, 'tol': 0.008123335749163053}. Best is trial 54 with value: 0.05898583464308986.\n",
      "[I 2025-05-08 07:33:54,263] Trial 180 finished with value: 0.05898583494963916 and parameters: {'alpha': 1.8503350114376083, 'tol': 0.005046099481900543}. Best is trial 54 with value: 0.05898583464308986.\n",
      "[I 2025-05-08 07:33:55,053] Trial 181 finished with value: 0.05898590246937909 and parameters: {'alpha': 1.2684811633474986, 'tol': 0.0011124361526266846}. Best is trial 54 with value: 0.05898583464308986.\n",
      "[I 2025-05-08 07:33:55,471] Trial 182 finished with value: 0.05898584886866241 and parameters: {'alpha': 2.1992940410660693, 'tol': 0.00010198608617885066}. Best is trial 54 with value: 0.05898583464308986.\n",
      "[I 2025-05-08 07:33:56,127] Trial 183 finished with value: 0.058985977029319056 and parameters: {'alpha': 1.002419257810637, 'tol': 0.00552863204344468}. Best is trial 54 with value: 0.05898583464308986.\n",
      "[I 2025-05-08 07:33:58,093] Trial 184 finished with value: 0.058985863557373897 and parameters: {'alpha': 2.331730940421303, 'tol': 0.005820893152479188}. Best is trial 54 with value: 0.05898583464308986.\n",
      "[I 2025-05-08 07:33:59,029] Trial 185 finished with value: 0.05898591705639587 and parameters: {'alpha': 1.2070373062591737, 'tol': 0.005350338176136132}. Best is trial 54 with value: 0.05898583464308986.\n",
      "[I 2025-05-08 07:33:59,440] Trial 186 finished with value: 0.05898584167237118 and parameters: {'alpha': 1.6880679274205437, 'tol': 0.005594706500419998}. Best is trial 54 with value: 0.05898583464308986.\n",
      "[I 2025-05-08 07:34:00,254] Trial 187 finished with value: 0.05898583464980012 and parameters: {'alpha': 1.8823202119913922, 'tol': 0.0042748602413641605}. Best is trial 54 with value: 0.05898583464308986.\n",
      "[I 2025-05-08 07:34:02,202] Trial 188 finished with value: 0.05898620911666262 and parameters: {'alpha': 3.5721047516401967, 'tol': 0.0050299612392467235}. Best is trial 54 with value: 0.05898583464308986.\n",
      "[I 2025-05-08 07:34:02,851] Trial 189 finished with value: 0.05898622759076645 and parameters: {'alpha': 3.616819649847344, 'tol': 0.005384306903282695}. Best is trial 54 with value: 0.05898583464308986.\n",
      "[I 2025-05-08 07:34:03,277] Trial 190 finished with value: 0.058985848091725156 and parameters: {'alpha': 2.1907491535442416, 'tol': 0.003897045900869315}. Best is trial 54 with value: 0.05898583464308986.\n",
      "[I 2025-05-08 07:34:04,259] Trial 191 finished with value: 0.058985856772327185 and parameters: {'alpha': 2.2759673487842385, 'tol': 0.004577356401413461}. Best is trial 54 with value: 0.05898583464308986.\n",
      "[I 2025-05-08 07:34:06,246] Trial 192 finished with value: 0.058985852100185254 and parameters: {'alpha': 1.5712159148938463, 'tol': 0.0033360460580963425}. Best is trial 54 with value: 0.05898583464308986.\n",
      "[I 2025-05-08 07:34:06,965] Trial 193 finished with value: 0.058985849109195666 and parameters: {'alpha': 2.201893625785643, 'tol': 0.0035259406753908144}. Best is trial 54 with value: 0.05898583464308986.\n",
      "[I 2025-05-08 07:34:07,378] Trial 194 finished with value: 0.05898583676256738 and parameters: {'alpha': 1.7805586134844027, 'tol': 0.0035894292531150613}. Best is trial 54 with value: 0.05898583464308986.\n",
      "[I 2025-05-08 07:34:08,349] Trial 195 finished with value: 0.05898583488441218 and parameters: {'alpha': 1.9360796249225216, 'tol': 0.003974191654773247}. Best is trial 54 with value: 0.05898583464308986.\n",
      "[I 2025-05-08 07:34:10,293] Trial 196 finished with value: 0.05898587565166421 and parameters: {'alpha': 2.4174733936392885, 'tol': 0.0017157993183838274}. Best is trial 54 with value: 0.05898583464308986.\n",
      "[I 2025-05-08 07:34:10,930] Trial 197 finished with value: 0.05898583539794938 and parameters: {'alpha': 1.9654243231398236, 'tol': 0.004867452943916923}. Best is trial 54 with value: 0.05898583464308986.\n",
      "[I 2025-05-08 07:34:11,489] Trial 198 finished with value: 0.05898590012304641 and parameters: {'alpha': 2.5602768835195757, 'tol': 0.0014725321097092939}. Best is trial 54 with value: 0.05898583464308986.\n",
      "[I 2025-05-08 07:34:12,149] Trial 199 finished with value: 0.05898586718390959 and parameters: {'alpha': 1.45600465391654, 'tol': 0.004529258512160719}. Best is trial 54 with value: 0.05898583464308986.\n",
      "[I 2025-05-08 07:34:14,261] Trial 200 finished with value: 0.05898591593375091 and parameters: {'alpha': 1.211545741953191, 'tol': 0.004126098986491295}. Best is trial 54 with value: 0.05898583464308986.\n",
      "[I 2025-05-08 07:34:14,906] Trial 201 finished with value: 0.05899052263703529 and parameters: {'alpha': 9.40762632980299, 'tol': 0.005163199113829602}. Best is trial 54 with value: 0.05898583464308986.\n",
      "[I 2025-05-08 07:34:15,467] Trial 202 finished with value: 0.05898600899665629 and parameters: {'alpha': 0.9129960067903045, 'tol': 0.004745664915080004}. Best is trial 54 with value: 0.05898583464308986.\n",
      "[I 2025-05-08 07:34:16,101] Trial 203 finished with value: 0.058985873619322546 and parameters: {'alpha': 2.4039969682355387, 'tol': 0.0049892614166199105}. Best is trial 54 with value: 0.05898583464308986.\n",
      "[I 2025-05-08 07:34:18,211] Trial 204 finished with value: 0.05898583478415268 and parameters: {'alpha': 1.9273746540406012, 'tol': 0.005178819835195956}. Best is trial 54 with value: 0.05898583464308986.\n",
      "[I 2025-05-08 07:34:19,022] Trial 205 finished with value: 0.05898591510346919 and parameters: {'alpha': 2.635441184416118, 'tol': 0.004729405051471643}. Best is trial 54 with value: 0.05898583464308986.\n",
      "[I 2025-05-08 07:34:19,429] Trial 206 finished with value: 0.05898584803953409 and parameters: {'alpha': 2.190166725865208, 'tol': 0.004931558476549321}. Best is trial 54 with value: 0.05898583464308986.\n",
      "[I 2025-05-08 07:34:20,094] Trial 207 finished with value: 0.05898583750872886 and parameters: {'alpha': 2.0309132638127725, 'tol': 0.005102097317257846}. Best is trial 54 with value: 0.05898583464308986.\n",
      "[I 2025-05-08 07:34:22,207] Trial 208 finished with value: 0.05898583802811082 and parameters: {'alpha': 1.750771800330816, 'tol': 0.006031252631220915}. Best is trial 54 with value: 0.05898583464308986.\n",
      "[I 2025-05-08 07:34:22,852] Trial 209 finished with value: 0.058985899897265125 and parameters: {'alpha': 2.5590864933652533, 'tol': 0.005759396250973592}. Best is trial 54 with value: 0.05898583464308986.\n",
      "[I 2025-05-08 07:34:23,422] Trial 210 finished with value: 0.05898584265939184 and parameters: {'alpha': 2.12267336293345, 'tol': 0.007200501342580249}. Best is trial 54 with value: 0.05898583464308986.\n",
      "[I 2025-05-08 07:34:24,083] Trial 211 finished with value: 0.05898586917642736 and parameters: {'alpha': 2.373330396662875, 'tol': 0.007497982333139298}. Best is trial 54 with value: 0.05898583464308986.\n",
      "[I 2025-05-08 07:34:26,185] Trial 212 finished with value: 0.0589864733634222 and parameters: {'alpha': 4.147833444822663, 'tol': 0.0037478772715832673}. Best is trial 54 with value: 0.05898583464308986.\n",
      "[I 2025-05-08 07:34:26,783] Trial 213 finished with value: 0.05898624732781764 and parameters: {'alpha': 3.6636513914248385, 'tol': 0.003059694047577795}. Best is trial 54 with value: 0.05898583464308986.\n",
      "[I 2025-05-08 07:34:27,391] Trial 214 finished with value: 0.05898583475325873 and parameters: {'alpha': 1.8668818399904397, 'tol': 0.00418734686473714}. Best is trial 54 with value: 0.05898583464308986.\n",
      "[I 2025-05-08 07:34:28,056] Trial 215 finished with value: 0.05898584430301447 and parameters: {'alpha': 1.6529488434082982, 'tol': 0.004141266318782631}. Best is trial 54 with value: 0.05898583464308986.\n",
      "[I 2025-05-08 07:34:30,168] Trial 216 finished with value: 0.058985843589082966 and parameters: {'alpha': 1.6619360076436456, 'tol': 0.0034661214712226394}. Best is trial 54 with value: 0.05898583464308986.\n",
      "[I 2025-05-08 07:34:30,756] Trial 217 finished with value: 0.05898586270778243 and parameters: {'alpha': 1.4865576059989059, 'tol': 0.0040483714945336036}. Best is trial 54 with value: 0.05898583464308986.\n",
      "[I 2025-05-08 07:34:31,229] Trial 218 finished with value: 0.05898583568960479 and parameters: {'alpha': 1.8141580416028324, 'tol': 0.0034393214390550037}. Best is trial 54 with value: 0.05898583464308986.\n",
      "[I 2025-05-08 07:34:32,205] Trial 219 finished with value: 0.05898589500124265 and parameters: {'alpha': 1.302719788612516, 'tol': 0.0034527460441974383}. Best is trial 54 with value: 0.05898583464308986.\n",
      "[I 2025-05-08 07:34:34,122] Trial 220 finished with value: 0.058986034084694695 and parameters: {'alpha': 0.8490972623639852, 'tol': 0.0048517780625806925}. Best is trial 54 with value: 0.05898583464308986.\n",
      "[I 2025-05-08 07:34:34,797] Trial 221 finished with value: 0.05898603594353717 and parameters: {'alpha': 3.0950160764498706, 'tol': 0.0035350094312090667}. Best is trial 54 with value: 0.05898583464308986.\n",
      "[I 2025-05-08 07:34:35,178] Trial 222 finished with value: 0.05898589481772569 and parameters: {'alpha': 1.303589005308711, 'tol': 0.004922356620578445}. Best is trial 54 with value: 0.05898583464308986.\n",
      "[I 2025-05-08 07:34:36,170] Trial 223 finished with value: 0.058985901182727854 and parameters: {'alpha': 1.2742299166231073, 'tol': 0.005492508095239054}. Best is trial 54 with value: 0.05898583464308986.\n",
      "[I 2025-05-08 07:34:38,207] Trial 224 finished with value: 0.058985898072072454 and parameters: {'alpha': 2.5493926573918255, 'tol': 0.004476366723534909}. Best is trial 54 with value: 0.05898583464308986.\n",
      "[I 2025-05-08 07:34:38,856] Trial 225 finished with value: 0.05898584487046683 and parameters: {'alpha': 1.6460462933815656, 'tol': 0.005377443751047403}. Best is trial 54 with value: 0.05898583464308986.\n",
      "[I 2025-05-08 07:34:39,482] Trial 226 finished with value: 0.058985997612884186 and parameters: {'alpha': 2.967558281527106, 'tol': 0.005080776514820988}. Best is trial 54 with value: 0.05898583464308986.\n",
      "[I 2025-05-08 07:34:40,132] Trial 227 finished with value: 0.05898607507346647 and parameters: {'alpha': 3.2146301655526797, 'tol': 0.0044085345575197365}. Best is trial 54 with value: 0.05898583464308986.\n",
      "[I 2025-05-08 07:34:42,272] Trial 228 finished with value: 0.0589858862412375 and parameters: {'alpha': 2.4831226252034027, 'tol': 0.004451285117571022}. Best is trial 54 with value: 0.05898583464308986.\n",
      "[I 2025-05-08 07:34:42,849] Trial 229 finished with value: 0.05898623571786665 and parameters: {'alpha': 0.45098136538367917, 'tol': 0.002904856059247472}. Best is trial 54 with value: 0.05898583464308986.\n",
      "[I 2025-05-08 07:34:43,497] Trial 230 finished with value: 0.058985845291861363 and parameters: {'alpha': 2.157778661328292, 'tol': 0.004171089373800271}. Best is trial 54 with value: 0.05898583464308986.\n",
      "[I 2025-05-08 07:34:44,159] Trial 231 finished with value: 0.058986032697255705 and parameters: {'alpha': 0.8525082647734434, 'tol': 0.002846686649642799}. Best is trial 54 with value: 0.05898583464308986.\n",
      "[I 2025-05-08 07:34:46,286] Trial 232 finished with value: 0.05898593227035028 and parameters: {'alpha': 1.1489599897602842, 'tol': 0.0027627575253143994}. Best is trial 54 with value: 0.05898583464308986.\n",
      "[I 2025-05-08 07:34:46,516] Trial 233 finished with value: 0.058985844201868795 and parameters: {'alpha': 2.143820494098711, 'tol': 0.0035810150937648066}. Best is trial 54 with value: 0.05898583464308986.\n",
      "[I 2025-05-08 07:34:47,688] Trial 234 finished with value: 0.058985916454848755 and parameters: {'alpha': 1.209448893141877, 'tol': 0.0022283047090302793}. Best is trial 54 with value: 0.05898583464308986.\n",
      "[I 2025-05-08 07:34:48,350] Trial 235 finished with value: 0.05898584877120262 and parameters: {'alpha': 2.1982347197357606, 'tol': 0.002960644067150318}. Best is trial 54 with value: 0.05898583464308986.\n",
      "[I 2025-05-08 07:34:50,271] Trial 236 finished with value: 0.05898583899630784 and parameters: {'alpha': 1.7316771132618194, 'tol': 0.004127423533792647}. Best is trial 54 with value: 0.05898583464308986.\n",
      "[I 2025-05-08 07:34:50,523] Trial 237 finished with value: 0.05898585193349683 and parameters: {'alpha': 2.2309899514754585, 'tol': 0.0026773382849182236}. Best is trial 54 with value: 0.05898583464308986.\n",
      "[I 2025-05-08 07:34:51,859] Trial 238 finished with value: 0.05898593879312417 and parameters: {'alpha': 2.742248573395691, 'tol': 0.003413096516043465}. Best is trial 54 with value: 0.05898583464308986.\n",
      "[I 2025-05-08 07:34:52,514] Trial 239 finished with value: 0.058985841468605985 and parameters: {'alpha': 1.6910504017500576, 'tol': 0.004714549607844507}. Best is trial 54 with value: 0.05898583464308986.\n",
      "[I 2025-05-08 07:34:53,880] Trial 240 finished with value: 0.05898590409516476 and parameters: {'alpha': 1.2613004904126042, 'tol': 0.005211667821955463}. Best is trial 54 with value: 0.05898583464308986.\n",
      "[I 2025-05-08 07:34:54,450] Trial 241 finished with value: 0.05898600912900861 and parameters: {'alpha': 0.9126457637145167, 'tol': 0.00460445218212576}. Best is trial 54 with value: 0.05898583464308986.\n",
      "[I 2025-05-08 07:34:56,036] Trial 242 finished with value: 0.05898609224426008 and parameters: {'alpha': 0.7167067417764792, 'tol': 0.0048270713898848055}. Best is trial 54 with value: 0.05898583464308986.\n",
      "[I 2025-05-08 07:34:56,692] Trial 243 finished with value: 0.05898625082293781 and parameters: {'alpha': 0.4265193276923236, 'tol': 0.005340737283978617}. Best is trial 54 with value: 0.05898583464308986.\n",
      "[I 2025-05-08 07:34:57,864] Trial 244 finished with value: 0.0589858832121334 and parameters: {'alpha': 1.3617599176319009, 'tol': 1.9324613387153387e-06}. Best is trial 54 with value: 0.05898583464308986.\n",
      "[I 2025-05-08 07:34:58,113] Trial 245 finished with value: 0.058985914287187566 and parameters: {'alpha': 1.218219658411708, 'tol': 0.0006809229240389269}. Best is trial 54 with value: 0.05898583464308986.\n",
      "[I 2025-05-08 07:35:00,240] Trial 246 finished with value: 0.058985834969903436 and parameters: {'alpha': 1.942246792128136, 'tol': 0.0009051440112469721}. Best is trial 54 with value: 0.05898583464308986.\n",
      "[I 2025-05-08 07:35:00,620] Trial 247 finished with value: 0.05898584236309492 and parameters: {'alpha': 1.678273538987871, 'tol': 0.0006145702015972549}. Best is trial 54 with value: 0.05898583464308986.\n",
      "[I 2025-05-08 07:35:01,213] Trial 248 finished with value: 0.058985859479239955 and parameters: {'alpha': 1.5102183441273964, 'tol': 0.001237874222887392}. Best is trial 54 with value: 0.05898583464308986.\n",
      "[I 2025-05-08 07:35:01,429] Trial 249 finished with value: 0.05898586316017218 and parameters: {'alpha': 2.328650972889724, 'tol': 0.0012253073836548162}. Best is trial 54 with value: 0.05898583464308986.\n"
     ]
    }
   ],
   "source": [
    "def objective(trial):    \n",
    "    params = {\n",
    "        \"random_state\": CFG.seed,\n",
    "        \"alpha\": trial.suggest_float(\"alpha\", 0, 10),\n",
    "        \"tol\": trial.suggest_float(\"tol\", 1e-6, 1e-2)\n",
    "    }\n",
    "    \n",
    "    trainer = Trainer(\n",
    "        Ridge(**params),\n",
    "        cv=CFG.cv,\n",
    "        metric=CFG.metric,\n",
    "        task=\"regression\",\n",
    "        verbose=False\n",
    "    )\n",
    "    trainer.fit(X, y)\n",
    "    \n",
    "    return np.mean(trainer.fold_scores)\n",
    "\n",
    "if CFG.run_optuna:\n",
    "    sampler = optuna.samplers.TPESampler(seed=CFG.seed, multivariate=True)\n",
    "    study = optuna.create_study(direction=\"minimize\", sampler=sampler)\n",
    "    study.optimize(objective, n_trials=CFG.n_optuna_trials, n_jobs=-1, catch=(ValueError,))\n",
    "    best_params = study.best_params\n",
    "\n",
    "    ridge_params = {\n",
    "        \"random_state\": CFG.seed,\n",
    "        \"alpha\": best_params[\"alpha\"],\n",
    "        \"tol\": best_params[\"tol\"]\n",
    "    }\n",
    "else:\n",
    "    ridge_params = {\n",
    "        \"random_state\": CFG.seed\n",
    "    }"
   ]
  },
  {
   "cell_type": "code",
   "execution_count": 21,
   "id": "0eed36e4",
   "metadata": {
    "execution": {
     "iopub.execute_input": "2025-05-08T07:35:01.484048Z",
     "iopub.status.busy": "2025-05-08T07:35:01.483784Z",
     "iopub.status.idle": "2025-05-08T07:35:01.488358Z",
     "shell.execute_reply": "2025-05-08T07:35:01.487458Z"
    },
    "papermill": {
     "duration": 0.030499,
     "end_time": "2025-05-08T07:35:01.489831",
     "exception": false,
     "start_time": "2025-05-08T07:35:01.459332",
     "status": "completed"
    },
    "tags": []
   },
   "outputs": [
    {
     "name": "stdout",
     "output_type": "stream",
     "text": [
      "{\n",
      "  \"random_state\": 42,\n",
      "  \"alpha\": 1.8840215844694908,\n",
      "  \"tol\": 0.004268538362811647\n",
      "}\n"
     ]
    }
   ],
   "source": [
    "print(json.dumps(ridge_params, indent=2))"
   ]
  },
  {
   "cell_type": "code",
   "execution_count": 22,
   "id": "6494e755",
   "metadata": {
    "execution": {
     "iopub.execute_input": "2025-05-08T07:35:01.538520Z",
     "iopub.status.busy": "2025-05-08T07:35:01.538249Z",
     "iopub.status.idle": "2025-05-08T07:35:02.929046Z",
     "shell.execute_reply": "2025-05-08T07:35:02.928167Z"
    },
    "papermill": {
     "duration": 1.416942,
     "end_time": "2025-05-08T07:35:02.930570",
     "exception": false,
     "start_time": "2025-05-08T07:35:01.513628",
     "status": "completed"
    },
    "tags": []
   },
   "outputs": [
    {
     "name": "stdout",
     "output_type": "stream",
     "text": [
      "Training Ridge\n",
      "\n",
      "--- Fold 0 - root_mean_squared_error: 0.0589 - Time: 0.12 s\n",
      "--- Fold 1 - root_mean_squared_error: 0.0595 - Time: 0.11 s\n",
      "--- Fold 2 - root_mean_squared_error: 0.0589 - Time: 0.11 s\n",
      "--- Fold 3 - root_mean_squared_error: 0.0592 - Time: 0.11 s\n",
      "--- Fold 4 - root_mean_squared_error: 0.0585 - Time: 0.11 s\n",
      "\n",
      "------ Overall root_mean_squared_error: 0.0590 - Mean root_mean_squared_error: 0.0590 ± 0.0003 - Time: 1.35 s\n"
     ]
    }
   ],
   "source": [
    "ridge_trainer = Trainer(\n",
    "    Ridge(**ridge_params),\n",
    "    cv=CFG.cv,\n",
    "    metric=CFG.metric,\n",
    "    task=\"regression\"\n",
    ")\n",
    "\n",
    "ridge_trainer.fit(X, y)\n",
    "\n",
    "scores[\"Ridge (ensemble)\"] = ridge_trainer.fold_scores\n",
    "ridge_test_preds = np.expm1(ridge_trainer.predict(X_test))"
   ]
  },
  {
   "cell_type": "code",
   "execution_count": 23,
   "id": "03d9e8d9",
   "metadata": {
    "execution": {
     "iopub.execute_input": "2025-05-08T07:35:02.981321Z",
     "iopub.status.busy": "2025-05-08T07:35:02.980737Z",
     "iopub.status.idle": "2025-05-08T07:35:03.245735Z",
     "shell.execute_reply": "2025-05-08T07:35:03.244895Z"
    },
    "papermill": {
     "duration": 0.292007,
     "end_time": "2025-05-08T07:35:03.247086",
     "exception": false,
     "start_time": "2025-05-08T07:35:02.955079",
     "status": "completed"
    },
    "tags": []
   },
   "outputs": [
    {
     "data": {
      "image/png": "[encoded data removed]",
      "text/plain": [
       "<Figure size 1000x300 with 1 Axes>"
      ]
     },
     "metadata": {},
     "output_type": "display_data"
    }
   ],
   "source": [
    "ridge_coeffs = np.zeros((1, X.shape[1]))\n",
    "for m in ridge_trainer.estimators:\n",
    "    ridge_coeffs += m.coef_\n",
    "ridge_coeffs = ridge_coeffs / len(ridge_trainer.estimators)\n",
    "\n",
    "plot_weights(ridge_coeffs, \"Ridge Coefficients\")"
   ]
  },
  {
   "cell_type": "markdown",
   "id": "83f725b9",
   "metadata": {
    "papermill": {
     "duration": 0.025322,
     "end_time": "2025-05-08T07:35:03.297840",
     "exception": false,
     "start_time": "2025-05-08T07:35:03.272518",
     "status": "completed"
    },
    "tags": []
   },
   "source": [
    "# Submission"
   ]
  },
  {
   "cell_type": "code",
   "execution_count": 24,
   "id": "b1a7137e",
   "metadata": {
    "execution": {
     "iopub.execute_input": "2025-05-08T07:35:03.349857Z",
     "iopub.status.busy": "2025-05-08T07:35:03.349518Z",
     "iopub.status.idle": "2025-05-08T07:35:03.995504Z",
     "shell.execute_reply": "2025-05-08T07:35:03.994673Z"
    },
    "papermill": {
     "duration": 0.673964,
     "end_time": "2025-05-08T07:35:03.997094",
     "exception": false,
     "start_time": "2025-05-08T07:35:03.323130",
     "status": "completed"
    },
    "tags": []
   },
   "outputs": [
    {
     "data": {
      "text/html": [
       "<div>\n",
       "<style scoped>\n",
       "    .dataframe tbody tr th:only-of-type {\n",
       "        vertical-align: middle;\n",
       "    }\n",
       "\n",
       "    .dataframe tbody tr th {\n",
       "        vertical-align: top;\n",
       "    }\n",
       "\n",
       "    .dataframe thead th {\n",
       "        text-align: right;\n",
       "    }\n",
       "</style>\n",
       "<table border=\"1\" class=\"dataframe\">\n",
       "  <thead>\n",
       "    <tr style=\"text-align: right;\">\n",
       "      <th></th>\n",
       "      <th>id</th>\n",
       "      <th>Calories</th>\n",
       "    </tr>\n",
       "  </thead>\n",
       "  <tbody>\n",
       "    <tr>\n",
       "      <th>0</th>\n",
       "      <td>750000</td>\n",
       "      <td>27.209928</td>\n",
       "    </tr>\n",
       "    <tr>\n",
       "      <th>1</th>\n",
       "      <td>750001</td>\n",
       "      <td>107.740888</td>\n",
       "    </tr>\n",
       "    <tr>\n",
       "      <th>2</th>\n",
       "      <td>750002</td>\n",
       "      <td>87.144663</td>\n",
       "    </tr>\n",
       "    <tr>\n",
       "      <th>3</th>\n",
       "      <td>750003</td>\n",
       "      <td>125.802598</td>\n",
       "    </tr>\n",
       "    <tr>\n",
       "      <th>4</th>\n",
       "      <td>750004</td>\n",
       "      <td>76.020604</td>\n",
       "    </tr>\n",
       "  </tbody>\n",
       "</table>\n",
       "</div>"
      ],
      "text/plain": [
       "       id    Calories\n",
       "0  750000   27.209928\n",
       "1  750001  107.740888\n",
       "2  750002   87.144663\n",
       "3  750003  125.802598\n",
       "4  750004   76.020604"
      ]
     },
     "execution_count": 24,
     "metadata": {},
     "output_type": "execute_result"
    }
   ],
   "source": [
    "sub = pd.read_csv(CFG.sample_sub_path)\n",
    "sub[CFG.target] = ridge_test_preds\n",
    "sub.to_csv(f\"sub_ridge_{np.mean(scores['Ridge (ensemble)']):.6f}.csv\", index=False)\n",
    "sub.head()"
   ]
  },
  {
   "cell_type": "markdown",
   "id": "f431b053",
   "metadata": {
    "papermill": {
     "duration": 0.026317,
     "end_time": "2025-05-08T07:35:04.049512",
     "exception": false,
     "start_time": "2025-05-08T07:35:04.023195",
     "status": "completed"
    },
    "tags": []
   },
   "source": [
    "# Results"
   ]
  },
  {
   "cell_type": "code",
   "execution_count": 25,
   "id": "5acf0f58",
   "metadata": {
    "execution": {
     "iopub.execute_input": "2025-05-08T07:35:04.103621Z",
     "iopub.status.busy": "2025-05-08T07:35:04.103277Z",
     "iopub.status.idle": "2025-05-08T07:35:04.600856Z",
     "shell.execute_reply": "2025-05-08T07:35:04.600021Z"
    },
    "papermill": {
     "duration": 0.526111,
     "end_time": "2025-05-08T07:35:04.602248",
     "exception": false,
     "start_time": "2025-05-08T07:35:04.076137",
     "status": "completed"
    },
    "tags": []
   },
   "outputs": [
    {
     "data": {
      "image/png": "[encoded data removed]",
      "text/plain": [
       "<Figure size 1500x210 with 2 Axes>"
      ]
     },
     "metadata": {},
     "output_type": "display_data"
    }
   ],
   "source": [
    "scores = pd.DataFrame(scores)\n",
    "mean_scores = scores.mean().sort_values(ascending=True)\n",
    "order = scores.mean().sort_values(ascending=True).index.tolist()\n",
    "\n",
    "min_score = mean_scores.min()\n",
    "max_score = mean_scores.max()\n",
    "padding = (max_score - min_score) * 0.5\n",
    "lower_limit = min_score - padding\n",
    "upper_limit = max_score + padding\n",
    "\n",
    "fig, axs = plt.subplots(1, 2, figsize=(15, scores.shape[1] * 0.3))\n",
    "\n",
    "boxplot = sns.boxplot(data=scores, order=order, ax=axs[0], orient=\"h\", color=\"grey\")\n",
    "axs[0].set_title(f\"Fold {CFG.metric.__name__}\")\n",
    "axs[0].set_xlabel(\"\")\n",
    "axs[0].set_ylabel(\"\")\n",
    "\n",
    "barplot = sns.barplot(x=mean_scores.values, y=mean_scores.index, ax=axs[1], color=\"grey\")\n",
    "axs[1].set_title(f\"Average {CFG.metric.__name__}\")\n",
    "axs[1].set_xlabel(\"\")\n",
    "axs[1].set_xlim(left=lower_limit, right=upper_limit)\n",
    "axs[1].set_ylabel(\"\")\n",
    "\n",
    "for i, (score, model) in enumerate(zip(mean_scores.values, mean_scores.index)):\n",
    "    color = \"cyan\" if \"ensemble\" in model.lower() else \"grey\"\n",
    "    barplot.patches[i].set_facecolor(color)\n",
    "    boxplot.patches[i].set_facecolor(color)\n",
    "    barplot.text(score, i, round(score, 6), va=\"center\")\n",
    "\n",
    "plt.tight_layout()\n",
    "plt.show()"
   ]
  },
  {
   "cell_type": "code",
   "execution_count": 26,
   "id": "cae0483a",
   "metadata": {
    "execution": {
     "iopub.execute_input": "2025-05-08T07:35:04.659315Z",
     "iopub.status.busy": "2025-05-08T07:35:04.658427Z",
     "iopub.status.idle": "2025-05-08T07:35:04.663689Z",
     "shell.execute_reply": "2025-05-08T07:35:04.662957Z"
    },
    "papermill": {
     "duration": 0.034918,
     "end_time": "2025-05-08T07:35:04.665127",
     "exception": false,
     "start_time": "2025-05-08T07:35:04.630209",
     "status": "completed"
    },
    "tags": []
   },
   "outputs": [],
   "source": [
    "shutil.rmtree(\"catboost_info\", ignore_errors=True)"
   ]
  }
 ],
 "metadata": {
  "kaggle": {
   "accelerator": "none",
   "dataSources": [
    {
     "databundleVersionId": 11893428,
     "sourceId": 91716,
     "sourceType": "competition"
    },
    {
     "datasetId": 6512323,
     "sourceId": 10522392,
     "sourceType": "datasetVersion"
    },
    {
     "sourceId": 237456322,
     "sourceType": "kernelVersion"
    }
   ],
   "dockerImageVersionId": 31012,
   "isGpuEnabled": false,
   "isInternetEnabled": true,
   "language": "python",
   "sourceType": "notebook"
  },
  "kernelspec": {
   "display_name": "Python 3",
   "language": "python",
   "name": "python3"
  },
  "language_info": {
   "codemirror_mode": {
    "name": "ipython",
    "version": 3
   },
   "file_extension": ".py",
   "mimetype": "text/x-python",
   "name": "python",
   "nbconvert_exporter": "python",
   "pygments_lexer": "ipython3",
   "version": "3.11.11"
  },
  "papermill": {
   "default_parameters": {},
   "duration": 2767.4887,
   "end_time": "2025-05-08T07:35:05.817247",
   "environment_variables": {},
   "exception": null,
   "input_path": "__notebook__.ipynb",
   "output_path": "__notebook__.ipynb",
   "parameters": {},
   "start_time": "2025-05-08T06:48:58.328547",
   "version": "2.6.0"
  }
 },
 "nbformat": 4,
 "nbformat_minor": 5
}
