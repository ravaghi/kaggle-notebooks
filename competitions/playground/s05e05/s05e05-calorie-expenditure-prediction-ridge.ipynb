{
 "cells": [
  {
   "cell_type": "code",
   "execution_count": 1,
   "id": "04348278",
   "metadata": {
    "_kg_hide-output": true,
    "execution": {
     "iopub.execute_input": "2025-05-02T18:48:31.232354Z",
     "iopub.status.busy": "2025-05-02T18:48:31.231521Z",
     "iopub.status.idle": "2025-05-02T18:48:43.410958Z",
     "shell.execute_reply": "2025-05-02T18:48:43.409943Z"
    },
    "papermill": {
     "duration": 12.190536,
     "end_time": "2025-05-02T18:48:43.412719",
     "exception": false,
     "start_time": "2025-05-02T18:48:31.222183",
     "status": "completed"
    },
    "scrolled": true,
    "tags": []
   },
   "outputs": [
    {
     "name": "stdout",
     "output_type": "stream",
     "text": [
      "Requirement already satisfied: ydf in /usr/local/lib/python3.11/dist-packages (0.9.0)\r\n",
      "Collecting koolbox\r\n",
      "  Downloading koolbox-0.1.2-py3-none-any.whl.metadata (2.4 kB)\r\n",
      "Collecting scikit-learn==1.5.2\r\n",
      "  Downloading scikit_learn-1.5.2-cp311-cp311-manylinux_2_17_x86_64.manylinux2014_x86_64.whl.metadata (13 kB)\r\n",
      "Requirement already satisfied: numpy>=1.19.5 in /usr/local/lib/python3.11/dist-packages (from scikit-learn==1.5.2) (1.26.4)\r\n",
      "Requirement already satisfied: scipy>=1.6.0 in /usr/local/lib/python3.11/dist-packages (from scikit-learn==1.5.2) (1.15.2)\r\n",
      "Requirement already satisfied: joblib>=1.2.0 in /usr/local/lib/python3.11/dist-packages (from scikit-learn==1.5.2) (1.4.2)\r\n",
      "Requirement already satisfied: threadpoolctl>=3.1.0 in /usr/local/lib/python3.11/dist-packages (from scikit-learn==1.5.2) (3.6.0)\r\n",
      "Requirement already satisfied: absl_py in /usr/local/lib/python3.11/dist-packages (from ydf) (1.4.0)\r\n",
      "Requirement already satisfied: protobuf>=3.14 in /usr/local/lib/python3.11/dist-packages (from ydf) (3.20.3)\r\n",
      "Requirement already satisfied: pandas>=1.0.0 in /usr/local/lib/python3.11/dist-packages (from koolbox) (2.2.3)\r\n",
      "Requirement already satisfied: mkl_fft in /usr/local/lib/python3.11/dist-packages (from numpy>=1.19.5->scikit-learn==1.5.2) (1.3.8)\r\n",
      "Requirement already satisfied: mkl_random in /usr/local/lib/python3.11/dist-packages (from numpy>=1.19.5->scikit-learn==1.5.2) (1.2.4)\r\n",
      "Requirement already satisfied: mkl_umath in /usr/local/lib/python3.11/dist-packages (from numpy>=1.19.5->scikit-learn==1.5.2) (0.1.1)\r\n",
      "Requirement already satisfied: mkl in /usr/local/lib/python3.11/dist-packages (from numpy>=1.19.5->scikit-learn==1.5.2) (2025.1.0)\r\n",
      "Requirement already satisfied: tbb4py in /usr/local/lib/python3.11/dist-packages (from numpy>=1.19.5->scikit-learn==1.5.2) (2022.1.0)\r\n",
      "Requirement already satisfied: mkl-service in /usr/local/lib/python3.11/dist-packages (from numpy>=1.19.5->scikit-learn==1.5.2) (2.4.1)\r\n",
      "Requirement already satisfied: python-dateutil>=2.8.2 in /usr/local/lib/python3.11/dist-packages (from pandas>=1.0.0->koolbox) (2.9.0.post0)\r\n",
      "Requirement already satisfied: pytz>=2020.1 in /usr/local/lib/python3.11/dist-packages (from pandas>=1.0.0->koolbox) (2025.2)\r\n",
      "Requirement already satisfied: tzdata>=2022.7 in /usr/local/lib/python3.11/dist-packages (from pandas>=1.0.0->koolbox) (2025.2)\r\n",
      "Requirement already satisfied: six>=1.5 in /usr/local/lib/python3.11/dist-packages (from python-dateutil>=2.8.2->pandas>=1.0.0->koolbox) (1.17.0)\r\n",
      "Requirement already satisfied: intel-openmp<2026,>=2024 in /usr/local/lib/python3.11/dist-packages (from mkl->numpy>=1.19.5->scikit-learn==1.5.2) (2024.2.0)\r\n",
      "Requirement already satisfied: tbb==2022.* in /usr/local/lib/python3.11/dist-packages (from mkl->numpy>=1.19.5->scikit-learn==1.5.2) (2022.1.0)\r\n",
      "Requirement already satisfied: tcmlib==1.* in /usr/local/lib/python3.11/dist-packages (from tbb==2022.*->mkl->numpy>=1.19.5->scikit-learn==1.5.2) (1.2.0)\r\n",
      "Requirement already satisfied: intel-cmplr-lib-rt in /usr/local/lib/python3.11/dist-packages (from mkl_umath->numpy>=1.19.5->scikit-learn==1.5.2) (2024.2.0)\r\n",
      "Requirement already satisfied: intel-cmplr-lib-ur==2024.2.0 in /usr/local/lib/python3.11/dist-packages (from intel-openmp<2026,>=2024->mkl->numpy>=1.19.5->scikit-learn==1.5.2) (2024.2.0)\r\n",
      "Downloading scikit_learn-1.5.2-cp311-cp311-manylinux_2_17_x86_64.manylinux2014_x86_64.whl (13.3 MB)\r\n",
      "\u001b[2K   \u001b[90m━━━━━━━━━━━━━━━━━━━━━━━━━━━━━━━━━━━━━━━━\u001b[0m \u001b[32m13.3/13.3 MB\u001b[0m \u001b[31m69.7 MB/s\u001b[0m eta \u001b[36m0:00:00\u001b[0m\r\n",
      "\u001b[?25hDownloading koolbox-0.1.2-py3-none-any.whl (11 kB)\r\n",
      "Installing collected packages: scikit-learn, koolbox\r\n",
      "  Attempting uninstall: scikit-learn\r\n",
      "    Found existing installation: scikit-learn 1.2.2\r\n",
      "    Uninstalling scikit-learn-1.2.2:\r\n",
      "      Successfully uninstalled scikit-learn-1.2.2\r\n",
      "\u001b[31mERROR: pip's dependency resolver does not currently take into account all the packages that are installed. This behaviour is the source of the following dependency conflicts.\r\n",
      "bigframes 1.36.0 requires rich<14,>=12.4.4, but you have rich 14.0.0 which is incompatible.\u001b[0m\u001b[31m\r\n",
      "\u001b[0mSuccessfully installed koolbox-0.1.2 scikit-learn-1.5.2\r\n",
      "Collecting scikeras\r\n",
      "  Downloading scikeras-0.13.0-py3-none-any.whl.metadata (3.1 kB)\r\n",
      "Downloading scikeras-0.13.0-py3-none-any.whl (26 kB)\r\n",
      "Installing collected packages: scikeras\r\n",
      "Successfully installed scikeras-0.13.0\r\n"
     ]
    }
   ],
   "source": [
    "!pip install ydf koolbox scikit-learn==1.5.2 && pip install --no-deps scikeras"
   ]
  },
  {
   "cell_type": "markdown",
   "id": "62a8b963",
   "metadata": {
    "papermill": {
     "duration": 0.007926,
     "end_time": "2025-05-02T18:48:43.428460",
     "exception": false,
     "start_time": "2025-05-02T18:48:43.420534",
     "status": "completed"
    },
    "tags": []
   },
   "source": [
    "# Imports and configs"
   ]
  },
  {
   "cell_type": "code",
   "execution_count": 2,
   "id": "efebeb71",
   "metadata": {
    "_kg_hide-output": true,
    "execution": {
     "iopub.execute_input": "2025-05-02T18:48:43.444121Z",
     "iopub.status.busy": "2025-05-02T18:48:43.443745Z",
     "iopub.status.idle": "2025-05-02T18:49:13.183075Z",
     "shell.execute_reply": "2025-05-02T18:49:13.182029Z"
    },
    "papermill": {
     "duration": 29.749306,
     "end_time": "2025-05-02T18:49:13.184746",
     "exception": false,
     "start_time": "2025-05-02T18:48:43.435440",
     "status": "completed"
    },
    "tags": []
   },
   "outputs": [
    {
     "name": "stderr",
     "output_type": "stream",
     "text": [
      "2025-05-02 18:48:49.974804: E external/local_xla/xla/stream_executor/cuda/cuda_fft.cc:477] Unable to register cuFFT factory: Attempting to register factory for plugin cuFFT when one has already been registered\n",
      "WARNING: All log messages before absl::InitializeLog() is called are written to STDERR\n",
      "E0000 00:00:1746211730.286277      13 cuda_dnn.cc:8310] Unable to register cuDNN factory: Attempting to register factory for plugin cuDNN when one has already been registered\n",
      "E0000 00:00:1746211730.374601      13 cuda_blas.cc:1418] Unable to register cuBLAS factory: Attempting to register factory for plugin cuBLAS when one has already been registered\n"
     ]
    }
   ],
   "source": [
    "from sklearn.ensemble import HistGradientBoostingRegressor, BaggingRegressor\n",
    "from sklearn.preprocessing import StandardScaler, OneHotEncoder\n",
    "from sklearn.feature_selection import mutual_info_regression\n",
    "from sklearn.base import BaseEstimator, RegressorMixin\n",
    "from sklearn.metrics import root_mean_squared_error\n",
    "from sklearn.compose import ColumnTransformer\n",
    "from sklearn.pipeline import make_pipeline\n",
    "from sklearn.model_selection import KFold\n",
    "from sklearn.linear_model import Ridge\n",
    "from scikeras.wrappers import KerasRegressor\n",
    "from lightgbm import LGBMRegressor, early_stopping, log_evaluation\n",
    "from ydf import GradientBoostedTreesLearner\n",
    "from catboost import CatBoostRegressor\n",
    "from xgboost import XGBRegressor\n",
    "from koolbox import Trainer\n",
    "import matplotlib.pyplot as plt\n",
    "import contextlib, io\n",
    "import seaborn as sns\n",
    "import pandas as pd\n",
    "import numpy as np\n",
    "import warnings\n",
    "import joblib\n",
    "import shutil\n",
    "import optuna\n",
    "import keras\n",
    "import json\n",
    "import glob\n",
    "import ydf\n",
    "\n",
    "ydf.verbose(2)\n",
    "warnings.filterwarnings(\"ignore\")"
   ]
  },
  {
   "cell_type": "code",
   "execution_count": 3,
   "id": "ea85f756",
   "metadata": {
    "execution": {
     "iopub.execute_input": "2025-05-02T18:49:13.201054Z",
     "iopub.status.busy": "2025-05-02T18:49:13.200301Z",
     "iopub.status.idle": "2025-05-02T18:49:13.206704Z",
     "shell.execute_reply": "2025-05-02T18:49:13.205601Z"
    },
    "papermill": {
     "duration": 0.016319,
     "end_time": "2025-05-02T18:49:13.208490",
     "exception": false,
     "start_time": "2025-05-02T18:49:13.192171",
     "status": "completed"
    },
    "tags": []
   },
   "outputs": [],
   "source": [
    "class CFG:\n",
    "    train_path = \"/kaggle/input/playground-series-s5e5/train.csv\"\n",
    "    test_path = \"/kaggle/input/playground-series-s5e5/test.csv\"\n",
    "    sample_sub_path = \"/kaggle/input/playground-series-s5e5/sample_submission.csv\"\n",
    "    \n",
    "    original_path = \"/kaggle/input/calories-burnt-prediction/calories.csv\"\n",
    "\n",
    "    metric = root_mean_squared_error\n",
    "    target = \"Calories\"\n",
    "    n_folds = 5\n",
    "    seed = 42\n",
    "\n",
    "    cv = KFold(n_splits=n_folds, random_state=seed, shuffle=True)\n",
    "\n",
    "    run_optuna = True\n",
    "    n_optuna_trials = 250"
   ]
  },
  {
   "cell_type": "markdown",
   "id": "fbcb28b0",
   "metadata": {
    "papermill": {
     "duration": 0.006968,
     "end_time": "2025-05-02T18:49:13.222878",
     "exception": false,
     "start_time": "2025-05-02T18:49:13.215910",
     "status": "completed"
    },
    "tags": []
   },
   "source": [
    "# Data loading and preprocessing"
   ]
  },
  {
   "cell_type": "code",
   "execution_count": 4,
   "id": "d221b394",
   "metadata": {
    "execution": {
     "iopub.execute_input": "2025-05-02T18:49:13.239166Z",
     "iopub.status.busy": "2025-05-02T18:49:13.238824Z",
     "iopub.status.idle": "2025-05-02T18:49:14.824177Z",
     "shell.execute_reply": "2025-05-02T18:49:14.823095Z"
    },
    "papermill": {
     "duration": 1.596092,
     "end_time": "2025-05-02T18:49:14.826023",
     "exception": false,
     "start_time": "2025-05-02T18:49:13.229931",
     "status": "completed"
    },
    "tags": []
   },
   "outputs": [],
   "source": [
    "train = pd.read_csv(CFG.train_path, index_col=\"id\")\n",
    "test = pd.read_csv(CFG.test_path, index_col=\"id\")\n",
    "\n",
    "train[\"Sex\"] = train[\"Sex\"].map({\"male\": 0, \"female\": 1})\n",
    "test[\"Sex\"] = test[\"Sex\"].map({\"male\": 0, \"female\": 1})\n",
    "\n",
    "X = train.drop(CFG.target, axis=1)\n",
    "y = np.log1p(train[CFG.target])\n",
    "X_test = test"
   ]
  },
  {
   "cell_type": "code",
   "execution_count": 5,
   "id": "7b11a55f",
   "metadata": {
    "execution": {
     "iopub.execute_input": "2025-05-02T18:49:14.844980Z",
     "iopub.status.busy": "2025-05-02T18:49:14.844554Z",
     "iopub.status.idle": "2025-05-02T18:49:14.891004Z",
     "shell.execute_reply": "2025-05-02T18:49:14.889976Z"
    },
    "papermill": {
     "duration": 0.057377,
     "end_time": "2025-05-02T18:49:14.892760",
     "exception": false,
     "start_time": "2025-05-02T18:49:14.835383",
     "status": "completed"
    },
    "tags": []
   },
   "outputs": [],
   "source": [
    "original = pd.read_csv(CFG.original_path, index_col=\"User_ID\")\n",
    "original[\"Gender\"] = original[\"Gender\"].map({\"male\": 0, \"female\": 1})\n",
    "original = original.rename(columns={\"Gender\": \"Sex\"})\n",
    "\n",
    "X_original = original.drop(CFG.target, axis=1)\n",
    "y_original = np.log1p(original[CFG.target])"
   ]
  },
  {
   "cell_type": "code",
   "execution_count": 6,
   "id": "24967a39",
   "metadata": {
    "execution": {
     "iopub.execute_input": "2025-05-02T18:49:14.908705Z",
     "iopub.status.busy": "2025-05-02T18:49:14.908367Z",
     "iopub.status.idle": "2025-05-02T18:50:47.334158Z",
     "shell.execute_reply": "2025-05-02T18:50:47.332081Z"
    },
    "papermill": {
     "duration": 92.450691,
     "end_time": "2025-05-02T18:50:47.350929",
     "exception": false,
     "start_time": "2025-05-02T18:49:14.900238",
     "status": "completed"
    },
    "tags": []
   },
   "outputs": [
    {
     "data": {
      "text/html": [
       "<style type=\"text/css\">\n",
       "#T_05a33_row0_col0 {\n",
       "  width: 10em;\n",
       "  background: linear-gradient(90deg, #006837 100.0%, transparent 100.0%);\n",
       "}\n",
       "#T_05a33_row1_col0 {\n",
       "  width: 10em;\n",
       "  background: linear-gradient(90deg, #afdd70 68.3%, transparent 68.3%);\n",
       "}\n",
       "#T_05a33_row2_col0 {\n",
       "  width: 10em;\n",
       "  background: linear-gradient(90deg, #daf08d 59.6%, transparent 59.6%);\n",
       "}\n",
       "#T_05a33_row3_col0 {\n",
       "  width: 10em;\n",
       "  background: linear-gradient(90deg, #c21c27 6.0%, transparent 6.0%);\n",
       "}\n",
       "#T_05a33_row4_col0, #T_05a33_row5_col0 {\n",
       "  width: 10em;\n",
       "  background: linear-gradient(90deg, #b50f26 3.4%, transparent 3.4%);\n",
       "}\n",
       "#T_05a33_row6_col0 {\n",
       "  width: 10em;\n",
       "  background: linear-gradient(90deg, #a90426 1.0%, transparent 1.0%);\n",
       "}\n",
       "</style>\n",
       "<table id=\"T_05a33\">\n",
       "  <thead>\n",
       "    <tr>\n",
       "      <th class=\"blank level0\" >&nbsp;</th>\n",
       "      <th id=\"T_05a33_level0_col0\" class=\"col_heading level0 col0\" >Mutual Information</th>\n",
       "    </tr>\n",
       "  </thead>\n",
       "  <tbody>\n",
       "    <tr>\n",
       "      <th id=\"T_05a33_level0_row0\" class=\"row_heading level0 row0\" >Duration</th>\n",
       "      <td id=\"T_05a33_row0_col0\" class=\"data row0 col0\" >1.640567</td>\n",
       "    </tr>\n",
       "    <tr>\n",
       "      <th id=\"T_05a33_level0_row1\" class=\"row_heading level0 row1\" >Body_Temp</th>\n",
       "      <td id=\"T_05a33_row1_col0\" class=\"data row1 col0\" >1.120766</td>\n",
       "    </tr>\n",
       "    <tr>\n",
       "      <th id=\"T_05a33_level0_row2\" class=\"row_heading level0 row2\" >Heart_Rate</th>\n",
       "      <td id=\"T_05a33_row2_col0\" class=\"data row2 col0\" >0.976966</td>\n",
       "    </tr>\n",
       "    <tr>\n",
       "      <th id=\"T_05a33_level0_row3\" class=\"row_heading level0 row3\" >Age</th>\n",
       "      <td id=\"T_05a33_row3_col0\" class=\"data row3 col0\" >0.098387</td>\n",
       "    </tr>\n",
       "    <tr>\n",
       "      <th id=\"T_05a33_level0_row4\" class=\"row_heading level0 row4\" >Height</th>\n",
       "      <td id=\"T_05a33_row4_col0\" class=\"data row4 col0\" >0.056501</td>\n",
       "    </tr>\n",
       "    <tr>\n",
       "      <th id=\"T_05a33_level0_row5\" class=\"row_heading level0 row5\" >Weight</th>\n",
       "      <td id=\"T_05a33_row5_col0\" class=\"data row5 col0\" >0.055709</td>\n",
       "    </tr>\n",
       "    <tr>\n",
       "      <th id=\"T_05a33_level0_row6\" class=\"row_heading level0 row6\" >Sex</th>\n",
       "      <td id=\"T_05a33_row6_col0\" class=\"data row6 col0\" >0.017174</td>\n",
       "    </tr>\n",
       "  </tbody>\n",
       "</table>\n"
      ],
      "text/plain": [
       "<pandas.io.formats.style.Styler at 0x7d1271f58050>"
      ]
     },
     "execution_count": 6,
     "metadata": {},
     "output_type": "execute_result"
    }
   ],
   "source": [
    "mutual_info = mutual_info_regression(X, y, random_state=CFG.seed)\n",
    "\n",
    "mutual_info = pd.Series(mutual_info)\n",
    "mutual_info.index = X.columns\n",
    "mutual_info = pd.DataFrame(mutual_info.sort_values(ascending=False), columns=['Mutual Information'])\n",
    "mutual_info.style.bar(subset=['Mutual Information'], cmap='RdYlGn')"
   ]
  },
  {
   "cell_type": "code",
   "execution_count": 7,
   "id": "aafc3339",
   "metadata": {
    "execution": {
     "iopub.execute_input": "2025-05-02T18:50:47.377210Z",
     "iopub.status.busy": "2025-05-02T18:50:47.376879Z",
     "iopub.status.idle": "2025-05-02T18:50:48.127902Z",
     "shell.execute_reply": "2025-05-02T18:50:48.126844Z"
    },
    "papermill": {
     "duration": 0.762782,
     "end_time": "2025-05-02T18:50:48.129628",
     "exception": false,
     "start_time": "2025-05-02T18:50:47.366846",
     "status": "completed"
    },
    "tags": []
   },
   "outputs": [
    {
     "data": {
      "text/html": [
       "<style type=\"text/css\">\n",
       "#T_d579d_row0_col0 {\n",
       "  width: 10em;\n",
       "  background: linear-gradient(90deg, #006837 100.0%, transparent 100.0%);\n",
       "}\n",
       "#T_d579d_row1_col0 {\n",
       "  width: 10em;\n",
       "  background: linear-gradient(90deg, #bbe278 66.0%, transparent 66.0%);\n",
       "}\n",
       "#T_d579d_row2_col0 {\n",
       "  width: 10em;\n",
       "  background: linear-gradient(90deg, #e0f295 57.9%, transparent 57.9%);\n",
       "}\n",
       "#T_d579d_row3_col0 {\n",
       "  width: 10em;\n",
       "  background: linear-gradient(90deg, #b10b26 2.4%, transparent 2.4%);\n",
       "}\n",
       "#T_d579d_row4_col0 {\n",
       "  width: 10em;\n",
       "  background: linear-gradient(90deg, #ab0626 1.4%, transparent 1.4%);\n",
       "}\n",
       "#T_d579d_row5_col0 {\n",
       "  width: 10em;\n",
       "  background: linear-gradient(90deg, #a90426 1.1%, transparent 1.1%);\n",
       "}\n",
       "#T_d579d_row6_col0 {\n",
       "  width: 10em;\n",
       "  background: linear-gradient(90deg, #a50026 0.3%, transparent 0.3%);\n",
       "}\n",
       "</style>\n",
       "<table id=\"T_d579d\">\n",
       "  <thead>\n",
       "    <tr>\n",
       "      <th class=\"blank level0\" >&nbsp;</th>\n",
       "      <th id=\"T_d579d_level0_col0\" class=\"col_heading level0 col0\" >Mutual Information</th>\n",
       "    </tr>\n",
       "  </thead>\n",
       "  <tbody>\n",
       "    <tr>\n",
       "      <th id=\"T_d579d_level0_row0\" class=\"row_heading level0 row0\" >Duration</th>\n",
       "      <td id=\"T_d579d_row0_col0\" class=\"data row0 col0\" >1.494968</td>\n",
       "    </tr>\n",
       "    <tr>\n",
       "      <th id=\"T_d579d_level0_row1\" class=\"row_heading level0 row1\" >Body_Temp</th>\n",
       "      <td id=\"T_d579d_row1_col0\" class=\"data row1 col0\" >0.986528</td>\n",
       "    </tr>\n",
       "    <tr>\n",
       "      <th id=\"T_d579d_level0_row2\" class=\"row_heading level0 row2\" >Heart_Rate</th>\n",
       "      <td id=\"T_d579d_row2_col0\" class=\"data row2 col0\" >0.866243</td>\n",
       "    </tr>\n",
       "    <tr>\n",
       "      <th id=\"T_d579d_level0_row3\" class=\"row_heading level0 row3\" >Age</th>\n",
       "      <td id=\"T_d579d_row3_col0\" class=\"data row3 col0\" >0.035208</td>\n",
       "    </tr>\n",
       "    <tr>\n",
       "      <th id=\"T_d579d_level0_row4\" class=\"row_heading level0 row4\" >Weight</th>\n",
       "      <td id=\"T_d579d_row4_col0\" class=\"data row4 col0\" >0.020520</td>\n",
       "    </tr>\n",
       "    <tr>\n",
       "      <th id=\"T_d579d_level0_row5\" class=\"row_heading level0 row5\" >Sex</th>\n",
       "      <td id=\"T_d579d_row5_col0\" class=\"data row5 col0\" >0.016184</td>\n",
       "    </tr>\n",
       "    <tr>\n",
       "      <th id=\"T_d579d_level0_row6\" class=\"row_heading level0 row6\" >Height</th>\n",
       "      <td id=\"T_d579d_row6_col0\" class=\"data row6 col0\" >0.005213</td>\n",
       "    </tr>\n",
       "  </tbody>\n",
       "</table>\n"
      ],
      "text/plain": [
       "<pandas.io.formats.style.Styler at 0x7d12fc652b10>"
      ]
     },
     "execution_count": 7,
     "metadata": {},
     "output_type": "execute_result"
    }
   ],
   "source": [
    "mutual_info = mutual_info_regression(X_original, y_original, random_state=CFG.seed)\n",
    "\n",
    "mutual_info = pd.Series(mutual_info)\n",
    "mutual_info.index = X_original.columns\n",
    "mutual_info = pd.DataFrame(mutual_info.sort_values(ascending=False), columns=['Mutual Information'])\n",
    "mutual_info.style.bar(subset=['Mutual Information'], cmap='RdYlGn')"
   ]
  },
  {
   "cell_type": "code",
   "execution_count": 8,
   "id": "fdb77b06",
   "metadata": {
    "execution": {
     "iopub.execute_input": "2025-05-02T18:50:48.146505Z",
     "iopub.status.busy": "2025-05-02T18:50:48.146053Z",
     "iopub.status.idle": "2025-05-02T18:50:49.384359Z",
     "shell.execute_reply": "2025-05-02T18:50:49.383268Z"
    },
    "papermill": {
     "duration": 1.24892,
     "end_time": "2025-05-02T18:50:49.386258",
     "exception": false,
     "start_time": "2025-05-02T18:50:48.137338",
     "status": "completed"
    },
    "tags": []
   },
   "outputs": [
    {
     "data": {
      "image/png": "[encoded data removed]",
      "text/plain": [
       "<Figure size 1600x600 with 4 Axes>"
      ]
     },
     "metadata": {},
     "output_type": "display_data"
    }
   ],
   "source": [
    "sns.set_style(\"white\")\n",
    "fig, axes = plt.subplots(1, 2, figsize=(16, 6))\n",
    "\n",
    "corr_train = train.corr()\n",
    "mask_train = np.triu(np.ones_like(corr_train, dtype=bool), k=1)\n",
    "sns.heatmap(\n",
    "    data=corr_train,\n",
    "    annot=True,\n",
    "    fmt='.2f',\n",
    "    mask=mask_train,\n",
    "    square=True,\n",
    "    cmap='coolwarm',\n",
    "    cbar_kws={'shrink': .7, 'format': '%.2f'},   \n",
    "    annot_kws={'size': 8},\n",
    "    center=0,\n",
    "    ax=axes[0]\n",
    ")\n",
    "axes[0].set_title('Train')\n",
    "axes[0].tick_params(axis='both', which='major', labelsize=8)\n",
    "\n",
    "corr_orig = original.corr()\n",
    "mask_orig = np.triu(np.ones_like(corr_orig, dtype=bool), k=1)\n",
    "sns.heatmap(\n",
    "    data=corr_orig,\n",
    "    annot=True,\n",
    "    fmt='.2f',\n",
    "    mask=mask_orig,\n",
    "    square=True,\n",
    "    cmap='coolwarm',\n",
    "    cbar_kws={'shrink': .7, 'format': '%.2f'},   \n",
    "    annot_kws={'size': 8},\n",
    "    center=0,\n",
    "    ax=axes[1]\n",
    ")\n",
    "axes[1].set_title('Original')\n",
    "axes[1].tick_params(axis='both', which='major', labelsize=8)\n",
    "\n",
    "plt.tight_layout()\n",
    "plt.show()"
   ]
  },
  {
   "cell_type": "markdown",
   "id": "f561fb87",
   "metadata": {
    "papermill": {
     "duration": 0.008848,
     "end_time": "2025-05-02T18:50:49.404604",
     "exception": false,
     "start_time": "2025-05-02T18:50:49.395756",
     "status": "completed"
    },
    "tags": []
   },
   "source": [
    "# Training base models"
   ]
  },
  {
   "cell_type": "code",
   "execution_count": 9,
   "id": "7afa1863",
   "metadata": {
    "_kg_hide-input": true,
    "_kg_hide-output": true,
    "execution": {
     "iopub.execute_input": "2025-05-02T18:50:49.424455Z",
     "iopub.status.busy": "2025-05-02T18:50:49.424115Z",
     "iopub.status.idle": "2025-05-02T18:50:49.433496Z",
     "shell.execute_reply": "2025-05-02T18:50:49.432363Z"
    },
    "papermill": {
     "duration": 0.021415,
     "end_time": "2025-05-02T18:50:49.435164",
     "exception": false,
     "start_time": "2025-05-02T18:50:49.413749",
     "status": "completed"
    },
    "tags": []
   },
   "outputs": [],
   "source": [
    "histgb_params = {\n",
    "    \"l2_regularization\": 10.412017522533768,\n",
    "    \"learning_rate\": 0.011702680619474444,\n",
    "    \"max_depth\": 59,\n",
    "    \"max_features\": 0.30616140080552673,\n",
    "    \"max_iter\": 4454,\n",
    "    \"max_leaf_nodes\": 385,\n",
    "    \"min_samples_leaf\": 50,\n",
    "    \"random_state\": 42\n",
    "}\n",
    "\n",
    "lgbm_params = {\n",
    "    \"boosting_type\": \"gbdt\",\n",
    "    \"colsample_bytree\": 0.8213924491907012,\n",
    "    \"learning_rate\": 0.059976685297931195,\n",
    "    \"min_child_samples\": 10,\n",
    "    \"min_child_weight\": 0.5425237767880097,\n",
    "    \"n_estimators\": 50000,\n",
    "    \"n_jobs\": -1,\n",
    "    \"num_leaves\": 89,\n",
    "    \"random_state\": 42,\n",
    "    \"reg_alpha\": 2.0325709613371545,\n",
    "    \"reg_lambda\": 87.27971117911044,\n",
    "    \"subsample\": 0.6452823633939004,\n",
    "    \"verbose\": -1\n",
    "}\n",
    "\n",
    "lgbm_goss_params = {\n",
    "    \"boosting_type\": \"goss\",\n",
    "    \"colsample_bytree\": 0.9068724002629094,\n",
    "    \"learning_rate\": 0.06459027654473874,\n",
    "    \"min_child_samples\": 39,\n",
    "    \"min_child_weight\": 0.5337673729810578,\n",
    "    \"n_estimators\": 50000,\n",
    "    \"n_jobs\": -1,\n",
    "    \"num_leaves\": 13,\n",
    "    \"random_state\": 42,\n",
    "    \"reg_alpha\": 1.603969498256519,\n",
    "    \"reg_lambda\": 10.806488455621444,\n",
    "    \"subsample\": 0.5966412222358356,\n",
    "    \"verbose\": -1\n",
    "}\n",
    "\n",
    "xgb_params = {\n",
    "    \"colsample_bylevel\": 0.8606487417581108,\n",
    "    \"colsample_bynode\": 0.9410596660335436,\n",
    "    \"colsample_bytree\": 0.9407540036296737,\n",
    "    \"early_stopping_rounds\": 100,\n",
    "    \"eval_metric\": \"rmse\",\n",
    "    \"gamma\": 0.023260595738991977,\n",
    "    \"learning_rate\": 0.03669372905801298,\n",
    "    \"max_depth\": 11,\n",
    "    \"max_leaves\": 51,\n",
    "    \"min_child_weight\": 96,\n",
    "    \"n_estimators\": 50000,\n",
    "    \"n_jobs\": -1,\n",
    "    \"random_state\": 42,\n",
    "    \"reg_alpha\": 2.953205886504917,\n",
    "    \"reg_lambda\": 67.64147033446291,\n",
    "    \"subsample\": 0.6973241930754311,\n",
    "    \"verbosity\": 0\n",
    "}\n",
    "\n",
    "cb_params = {\n",
    "    \"border_count\": 88,\n",
    "    \"colsample_bylevel\": 0.7903437608890396,\n",
    "    \"depth\": 8,\n",
    "    \"eval_metric\": \"RMSE\",\n",
    "    \"iterations\": 50000,\n",
    "    \"l2_leaf_reg\": 6.065104074215131,\n",
    "    \"learning_rate\": 0.030946464122148992,\n",
    "    \"min_child_samples\": 138,\n",
    "    \"random_state\": 42,\n",
    "    \"random_strength\": 0.035251008593976785,\n",
    "    \"verbose\": False\n",
    "}\n",
    "\n",
    "ydf_params = {\n",
    "    \"num_trees\": 1000,\n",
    "    \"max_depth\": 8\n",
    "}"
   ]
  },
  {
   "cell_type": "code",
   "execution_count": 10,
   "id": "ba8925f4",
   "metadata": {
    "execution": {
     "iopub.execute_input": "2025-05-02T18:50:49.455361Z",
     "iopub.status.busy": "2025-05-02T18:50:49.455028Z",
     "iopub.status.idle": "2025-05-02T18:50:49.459980Z",
     "shell.execute_reply": "2025-05-02T18:50:49.459044Z"
    },
    "papermill": {
     "duration": 0.017207,
     "end_time": "2025-05-02T18:50:49.461445",
     "exception": false,
     "start_time": "2025-05-02T18:50:49.444238",
     "status": "completed"
    },
    "tags": []
   },
   "outputs": [],
   "source": [
    "scores = {}\n",
    "oof_preds = {}\n",
    "test_preds = {}"
   ]
  },
  {
   "cell_type": "markdown",
   "id": "7939580c",
   "metadata": {
    "papermill": {
     "duration": 0.008479,
     "end_time": "2025-05-02T18:50:49.478925",
     "exception": false,
     "start_time": "2025-05-02T18:50:49.470446",
     "status": "completed"
    },
    "tags": []
   },
   "source": [
    "## HistGradientBoosting"
   ]
  },
  {
   "cell_type": "code",
   "execution_count": 11,
   "id": "d0281d80",
   "metadata": {
    "execution": {
     "iopub.execute_input": "2025-05-02T18:50:49.498461Z",
     "iopub.status.busy": "2025-05-02T18:50:49.498166Z",
     "iopub.status.idle": "2025-05-02T18:59:12.804081Z",
     "shell.execute_reply": "2025-05-02T18:59:12.802762Z"
    },
    "papermill": {
     "duration": 503.317793,
     "end_time": "2025-05-02T18:59:12.806217",
     "exception": false,
     "start_time": "2025-05-02T18:50:49.488424",
     "status": "completed"
    },
    "tags": []
   },
   "outputs": [
    {
     "name": "stdout",
     "output_type": "stream",
     "text": [
      "Training HistGradientBoostingRegressor\n",
      "\n",
      "--- Fold 0 - root_mean_squared_error: 0.0594 - Time: 89.09 s\n",
      "--- Fold 1 - root_mean_squared_error: 0.0605 - Time: 80.98 s\n",
      "--- Fold 2 - root_mean_squared_error: 0.0597 - Time: 83.58 s\n",
      "--- Fold 3 - root_mean_squared_error: 0.0601 - Time: 76.78 s\n",
      "--- Fold 4 - root_mean_squared_error: 0.0593 - Time: 84.01 s\n",
      "\n",
      "------ Overall root_mean_squared_error: 0.0598 - Mean root_mean_squared_error: 0.0598 ± 0.0004 - Time: 416.21 s\n"
     ]
    }
   ],
   "source": [
    "histgb_trainer = Trainer(\n",
    "    HistGradientBoostingRegressor(**histgb_params),\n",
    "    cv=CFG.cv,\n",
    "    metric=CFG.metric,\n",
    "    task=\"regression\"\n",
    ")\n",
    "\n",
    "histgb_trainer.fit(X, y, extra_X=X_original, extra_y=y_original)\n",
    "\n",
    "scores[\"HistGB\"] = histgb_trainer.fold_scores\n",
    "oof_preds[\"HistGB\"] = histgb_trainer.oof_preds\n",
    "test_preds[\"HistGB\"] = histgb_trainer.predict(X_test)"
   ]
  },
  {
   "cell_type": "markdown",
   "id": "b4b6e638",
   "metadata": {
    "papermill": {
     "duration": 0.009729,
     "end_time": "2025-05-02T18:59:12.827399",
     "exception": false,
     "start_time": "2025-05-02T18:59:12.817670",
     "status": "completed"
    },
    "tags": []
   },
   "source": [
    "## LightGBM (gbdt)"
   ]
  },
  {
   "cell_type": "code",
   "execution_count": 12,
   "id": "f4607a55",
   "metadata": {
    "execution": {
     "iopub.execute_input": "2025-05-02T18:59:12.849290Z",
     "iopub.status.busy": "2025-05-02T18:59:12.848871Z",
     "iopub.status.idle": "2025-05-02T19:04:05.155389Z",
     "shell.execute_reply": "2025-05-02T19:04:05.154666Z"
    },
    "papermill": {
     "duration": 292.319893,
     "end_time": "2025-05-02T19:04:05.157350",
     "exception": false,
     "start_time": "2025-05-02T18:59:12.837457",
     "status": "completed"
    },
    "tags": []
   },
   "outputs": [
    {
     "name": "stdout",
     "output_type": "stream",
     "text": [
      "Training LGBMRegressor\n",
      "\n",
      "Training until validation scores don't improve for 100 rounds\n",
      "Early stopping, best iteration is:\n",
      "[791]\tvalid_0's rmse: 0.0596226\tvalid_0's l2: 0.00355485\n",
      "--- Fold 0 - root_mean_squared_error: 0.0596 - Time: 29.23 s\n",
      "\n",
      "Training until validation scores don't improve for 100 rounds\n",
      "[1000]\tvalid_0's rmse: 0.0603528\tvalid_0's l2: 0.00364246\n",
      "Early stopping, best iteration is:\n",
      "[1369]\tvalid_0's rmse: 0.0603066\tvalid_0's l2: 0.00363688\n",
      "--- Fold 1 - root_mean_squared_error: 0.0603 - Time: 43.83 s\n",
      "\n",
      "Training until validation scores don't improve for 100 rounds\n",
      "[1000]\tvalid_0's rmse: 0.0596239\tvalid_0's l2: 0.00355501\n",
      "Early stopping, best iteration is:\n",
      "[1406]\tvalid_0's rmse: 0.0595985\tvalid_0's l2: 0.00355198\n",
      "--- Fold 2 - root_mean_squared_error: 0.0596 - Time: 45.54 s\n",
      "\n",
      "Training until validation scores don't improve for 100 rounds\n",
      "[1000]\tvalid_0's rmse: 0.0601725\tvalid_0's l2: 0.00362073\n",
      "[2000]\tvalid_0's rmse: 0.060028\tvalid_0's l2: 0.00360336\n",
      "Early stopping, best iteration is:\n",
      "[1918]\tvalid_0's rmse: 0.0600226\tvalid_0's l2: 0.00360271\n",
      "--- Fold 3 - root_mean_squared_error: 0.0600 - Time: 56.68 s\n",
      "\n",
      "Training until validation scores don't improve for 100 rounds\n",
      "[1000]\tvalid_0's rmse: 0.0594362\tvalid_0's l2: 0.00353266\n",
      "Early stopping, best iteration is:\n",
      "[1376]\tvalid_0's rmse: 0.0593934\tvalid_0's l2: 0.00352758\n",
      "--- Fold 4 - root_mean_squared_error: 0.0594 - Time: 43.50 s\n",
      "\n",
      "\n",
      "------ Overall root_mean_squared_error: 0.0598 - Mean root_mean_squared_error: 0.0598 ± 0.0003 - Time: 220.62 s\n"
     ]
    }
   ],
   "source": [
    "lgbm_trainer = Trainer(\n",
    "    LGBMRegressor(**lgbm_params),\n",
    "    cv=CFG.cv,\n",
    "    metric=CFG.metric,\n",
    "    use_early_stopping=True,\n",
    "    task=\"regression\"\n",
    ")\n",
    "\n",
    "fit_args = {\n",
    "    \"eval_metric\": \"rmse\",\n",
    "    \"callbacks\": [\n",
    "        log_evaluation(period=1000), \n",
    "        early_stopping(stopping_rounds=100)\n",
    "    ]\n",
    "}\n",
    "\n",
    "lgbm_trainer.fit(X, y, fit_args=fit_args, extra_X=X_original, extra_y=y_original)\n",
    "\n",
    "scores[\"LightGBM (gbdt)\"] = lgbm_trainer.fold_scores\n",
    "oof_preds[\"LightGBM (gbdt)\"] = lgbm_trainer.oof_preds\n",
    "test_preds[\"LightGBM (gbdt)\"] = lgbm_trainer.predict(X_test)"
   ]
  },
  {
   "cell_type": "markdown",
   "id": "89b9f9fa",
   "metadata": {
    "papermill": {
     "duration": 0.010059,
     "end_time": "2025-05-02T19:04:05.181146",
     "exception": false,
     "start_time": "2025-05-02T19:04:05.171087",
     "status": "completed"
    },
    "tags": []
   },
   "source": [
    "## LightGBM (goss)"
   ]
  },
  {
   "cell_type": "code",
   "execution_count": 13,
   "id": "f504cf5f",
   "metadata": {
    "execution": {
     "iopub.execute_input": "2025-05-02T19:04:05.203272Z",
     "iopub.status.busy": "2025-05-02T19:04:05.202904Z",
     "iopub.status.idle": "2025-05-02T19:15:46.003267Z",
     "shell.execute_reply": "2025-05-02T19:15:46.002424Z"
    },
    "papermill": {
     "duration": 700.814401,
     "end_time": "2025-05-02T19:15:46.005817",
     "exception": false,
     "start_time": "2025-05-02T19:04:05.191416",
     "status": "completed"
    },
    "tags": []
   },
   "outputs": [
    {
     "name": "stdout",
     "output_type": "stream",
     "text": [
      "Training LGBMRegressor\n",
      "\n",
      "Training until validation scores don't improve for 100 rounds\n",
      "[1000]\tvalid_0's rmse: 0.0600588\tvalid_0's l2: 0.00360706\n",
      "[2000]\tvalid_0's rmse: 0.0597145\tvalid_0's l2: 0.00356582\n",
      "[3000]\tvalid_0's rmse: 0.0596177\tvalid_0's l2: 0.00355427\n",
      "Early stopping, best iteration is:\n",
      "[3424]\tvalid_0's rmse: 0.0595945\tvalid_0's l2: 0.0035515\n",
      "--- Fold 0 - root_mean_squared_error: 0.0596 - Time: 101.53 s\n",
      "\n",
      "Training until validation scores don't improve for 100 rounds\n",
      "[1000]\tvalid_0's rmse: 0.0607929\tvalid_0's l2: 0.00369577\n",
      "[2000]\tvalid_0's rmse: 0.0604315\tvalid_0's l2: 0.00365197\n",
      "[3000]\tvalid_0's rmse: 0.0603068\tvalid_0's l2: 0.00363691\n",
      "Early stopping, best iteration is:\n",
      "[3299]\tvalid_0's rmse: 0.0602872\tvalid_0's l2: 0.00363454\n",
      "--- Fold 1 - root_mean_squared_error: 0.0603 - Time: 96.98 s\n",
      "\n",
      "Training until validation scores don't improve for 100 rounds\n",
      "[1000]\tvalid_0's rmse: 0.0600734\tvalid_0's l2: 0.00360881\n",
      "[2000]\tvalid_0's rmse: 0.0597328\tvalid_0's l2: 0.00356801\n",
      "[3000]\tvalid_0's rmse: 0.0596015\tvalid_0's l2: 0.00355234\n",
      "[4000]\tvalid_0's rmse: 0.0595402\tvalid_0's l2: 0.00354503\n",
      "Early stopping, best iteration is:\n",
      "[4508]\tvalid_0's rmse: 0.0595248\tvalid_0's l2: 0.00354321\n",
      "--- Fold 2 - root_mean_squared_error: 0.0595 - Time: 136.90 s\n",
      "\n",
      "Training until validation scores don't improve for 100 rounds\n",
      "[1000]\tvalid_0's rmse: 0.0606943\tvalid_0's l2: 0.0036838\n",
      "[2000]\tvalid_0's rmse: 0.0602788\tvalid_0's l2: 0.00363353\n",
      "[3000]\tvalid_0's rmse: 0.0601248\tvalid_0's l2: 0.00361499\n",
      "[4000]\tvalid_0's rmse: 0.060043\tvalid_0's l2: 0.00360516\n",
      "Early stopping, best iteration is:\n",
      "[4559]\tvalid_0's rmse: 0.0600092\tvalid_0's l2: 0.00360111\n",
      "--- Fold 3 - root_mean_squared_error: 0.0600 - Time: 147.41 s\n",
      "\n",
      "Training until validation scores don't improve for 100 rounds\n",
      "[1000]\tvalid_0's rmse: 0.0597776\tvalid_0's l2: 0.00357336\n",
      "[2000]\tvalid_0's rmse: 0.0594386\tvalid_0's l2: 0.00353295\n",
      "[3000]\tvalid_0's rmse: 0.0593427\tvalid_0's l2: 0.00352156\n",
      "Early stopping, best iteration is:\n",
      "[3301]\tvalid_0's rmse: 0.0593269\tvalid_0's l2: 0.00351968\n",
      "--- Fold 4 - root_mean_squared_error: 0.0593 - Time: 96.48 s\n",
      "\n",
      "\n",
      "------ Overall root_mean_squared_error: 0.0597 - Mean root_mean_squared_error: 0.0597 ± 0.0003 - Time: 581.16 s\n"
     ]
    }
   ],
   "source": [
    "lgbm_goss_trainer = Trainer(\n",
    "    LGBMRegressor(**lgbm_goss_params),\n",
    "    cv=CFG.cv,\n",
    "    metric=CFG.metric,\n",
    "    use_early_stopping=True,\n",
    "    task=\"regression\"\n",
    ")\n",
    "\n",
    "fit_args = {\n",
    "    \"eval_metric\": \"rmse\",\n",
    "    \"callbacks\": [\n",
    "        log_evaluation(period=1000), \n",
    "        early_stopping(stopping_rounds=100)\n",
    "    ]\n",
    "}\n",
    "\n",
    "lgbm_goss_trainer.fit(X, y, fit_args=fit_args, extra_X=X_original, extra_y=y_original)\n",
    "\n",
    "scores[\"LightGBM (goss)\"] = lgbm_goss_trainer.fold_scores\n",
    "oof_preds[\"LightGBM (goss)\"] = lgbm_goss_trainer.oof_preds\n",
    "test_preds[\"LightGBM (goss)\"] = lgbm_goss_trainer.predict(X_test)"
   ]
  },
  {
   "cell_type": "markdown",
   "id": "bcf5ed81",
   "metadata": {
    "papermill": {
     "duration": 0.013064,
     "end_time": "2025-05-02T19:15:46.034975",
     "exception": false,
     "start_time": "2025-05-02T19:15:46.021911",
     "status": "completed"
    },
    "tags": []
   },
   "source": [
    "## XGBoost"
   ]
  },
  {
   "cell_type": "code",
   "execution_count": 14,
   "id": "2be84037",
   "metadata": {
    "execution": {
     "iopub.execute_input": "2025-05-02T19:15:46.063818Z",
     "iopub.status.busy": "2025-05-02T19:15:46.063440Z",
     "iopub.status.idle": "2025-05-02T19:21:56.487583Z",
     "shell.execute_reply": "2025-05-02T19:21:56.486854Z"
    },
    "papermill": {
     "duration": 370.439678,
     "end_time": "2025-05-02T19:21:56.489132",
     "exception": false,
     "start_time": "2025-05-02T19:15:46.049454",
     "status": "completed"
    },
    "tags": []
   },
   "outputs": [
    {
     "name": "stdout",
     "output_type": "stream",
     "text": [
      "Training XGBRegressor\n",
      "\n",
      "[0]\tvalidation_0-rmse:0.92856\n",
      "[1000]\tvalidation_0-rmse:0.06015\n",
      "[2000]\tvalidation_0-rmse:0.06009\n",
      "[3000]\tvalidation_0-rmse:0.06007\n",
      "[3123]\tvalidation_0-rmse:0.06006\n",
      "--- Fold 0 - root_mean_squared_error: 0.0601 - Time: 82.06 s\n",
      "\n",
      "[0]\tvalidation_0-rmse:0.93096\n",
      "[1000]\tvalidation_0-rmse:0.06137\n",
      "[2000]\tvalidation_0-rmse:0.06128\n",
      "[3000]\tvalidation_0-rmse:0.06123\n",
      "[3071]\tvalidation_0-rmse:0.06123\n",
      "--- Fold 1 - root_mean_squared_error: 0.0612 - Time: 81.55 s\n",
      "\n",
      "[0]\tvalidation_0-rmse:0.92964\n",
      "[1000]\tvalidation_0-rmse:0.06065\n",
      "[2000]\tvalidation_0-rmse:0.06056\n",
      "[3000]\tvalidation_0-rmse:0.06053\n",
      "[3092]\tvalidation_0-rmse:0.06053\n",
      "--- Fold 2 - root_mean_squared_error: 0.0605 - Time: 82.07 s\n",
      "\n",
      "[0]\tvalidation_0-rmse:0.92813\n",
      "[1000]\tvalidation_0-rmse:0.06097\n",
      "[1244]\tvalidation_0-rmse:0.06096\n",
      "--- Fold 3 - root_mean_squared_error: 0.0610 - Time: 37.79 s\n",
      "\n",
      "[0]\tvalidation_0-rmse:0.92887\n",
      "[1000]\tvalidation_0-rmse:0.06014\n",
      "[2000]\tvalidation_0-rmse:0.06007\n",
      "[2595]\tvalidation_0-rmse:0.06005\n",
      "--- Fold 4 - root_mean_squared_error: 0.0601 - Time: 71.14 s\n",
      "\n",
      "\n",
      "------ Overall root_mean_squared_error: 0.0606 - Mean root_mean_squared_error: 0.0606 ± 0.0005 - Time: 356.42 s\n"
     ]
    }
   ],
   "source": [
    "xgb_trainer = Trainer(\n",
    "    XGBRegressor(**xgb_params),\n",
    "    cv=CFG.cv,\n",
    "    metric=CFG.metric,\n",
    "    use_early_stopping=True,\n",
    "    task=\"regression\"\n",
    ")\n",
    "\n",
    "fit_args = {\n",
    "    \"verbose\": 1000\n",
    "}\n",
    "\n",
    "xgb_trainer.fit(X, y, fit_args=fit_args, extra_X=X_original, extra_y=y_original)\n",
    "\n",
    "scores[\"XGBoost\"] = xgb_trainer.fold_scores\n",
    "oof_preds[\"XGBoost\"] = xgb_trainer.oof_preds\n",
    "test_preds[\"XGBoost\"] = xgb_trainer.predict(X_test)"
   ]
  },
  {
   "cell_type": "markdown",
   "id": "b6856a1e",
   "metadata": {
    "papermill": {
     "duration": 0.013006,
     "end_time": "2025-05-02T19:21:56.520323",
     "exception": false,
     "start_time": "2025-05-02T19:21:56.507317",
     "status": "completed"
    },
    "tags": []
   },
   "source": [
    "## CatBoost"
   ]
  },
  {
   "cell_type": "code",
   "execution_count": 15,
   "id": "e31e65fc",
   "metadata": {
    "execution": {
     "iopub.execute_input": "2025-05-02T19:21:56.548056Z",
     "iopub.status.busy": "2025-05-02T19:21:56.547685Z",
     "iopub.status.idle": "2025-05-02T19:34:32.044094Z",
     "shell.execute_reply": "2025-05-02T19:34:32.042699Z"
    },
    "papermill": {
     "duration": 755.51256,
     "end_time": "2025-05-02T19:34:32.045968",
     "exception": false,
     "start_time": "2025-05-02T19:21:56.533408",
     "status": "completed"
    },
    "tags": []
   },
   "outputs": [
    {
     "name": "stdout",
     "output_type": "stream",
     "text": [
      "Training CatBoostRegressor\n",
      "\n",
      "0:\tlearn: 0.9348709\ttest: 0.9341488\tbest: 0.9341488 (0)\ttotal: 133ms\tremaining: 1h 50m 42s\n",
      "1000:\tlearn: 0.0571087\ttest: 0.0593244\tbest: 0.0593244 (1000)\ttotal: 53.6s\tremaining: 43m 44s\n",
      "2000:\tlearn: 0.0560120\ttest: 0.0591679\tbest: 0.0591679 (2000)\ttotal: 1m 46s\tremaining: 42m 34s\n",
      "Stopped by overfitting detector  (100 iterations wait)\n",
      "\n",
      "bestTest = 0.05911377754\n",
      "bestIteration = 2824\n",
      "\n",
      "Shrink model to first 2825 iterations.\n",
      "--- Fold 0 - root_mean_squared_error: 0.0591 - Time: 156.13 s\n",
      "\n",
      "0:\tlearn: 0.9342850\ttest: 0.9365766\tbest: 0.9365766 (0)\ttotal: 72.9ms\tremaining: 1h 43s\n",
      "1000:\tlearn: 0.0571036\ttest: 0.0598252\tbest: 0.0598252 (1000)\ttotal: 55.6s\tremaining: 45m 23s\n",
      "Stopped by overfitting detector  (100 iterations wait)\n",
      "\n",
      "bestTest = 0.05966835269\n",
      "bestIteration = 1741\n",
      "\n",
      "Shrink model to first 1742 iterations.\n",
      "--- Fold 1 - root_mean_squared_error: 0.0597 - Time: 102.59 s\n",
      "\n",
      "0:\tlearn: 0.9346164\ttest: 0.9352198\tbest: 0.9352198 (0)\ttotal: 66.7ms\tremaining: 55m 36s\n",
      "1000:\tlearn: 0.0570640\ttest: 0.0593004\tbest: 0.0593004 (1000)\ttotal: 54.5s\tremaining: 44m 29s\n",
      "2000:\tlearn: 0.0559380\ttest: 0.0590550\tbest: 0.0590543 (1996)\ttotal: 1m 48s\tremaining: 43m 28s\n",
      "3000:\tlearn: 0.0551639\ttest: 0.0589824\tbest: 0.0589822 (2994)\ttotal: 2m 42s\tremaining: 42m 21s\n",
      "Stopped by overfitting detector  (100 iterations wait)\n",
      "\n",
      "bestTest = 0.05895750885\n",
      "bestIteration = 3703\n",
      "\n",
      "Shrink model to first 3704 iterations.\n",
      "--- Fold 2 - root_mean_squared_error: 0.0590 - Time: 206.22 s\n",
      "\n",
      "0:\tlearn: 0.9349691\ttest: 0.9337102\tbest: 0.9337102 (0)\ttotal: 71.3ms\tremaining: 59m 22s\n",
      "1000:\tlearn: 0.0570599\ttest: 0.0597373\tbest: 0.0597373 (1000)\ttotal: 55s\tremaining: 44m 51s\n",
      "2000:\tlearn: 0.0560408\ttest: 0.0595997\tbest: 0.0595980 (1976)\ttotal: 1m 48s\tremaining: 43m 27s\n",
      "3000:\tlearn: 0.0552776\ttest: 0.0595437\tbest: 0.0595417 (2940)\ttotal: 2m 43s\tremaining: 42m 37s\n",
      "Stopped by overfitting detector  (100 iterations wait)\n",
      "\n",
      "bestTest = 0.0595416905\n",
      "bestIteration = 2940\n",
      "\n",
      "Shrink model to first 2941 iterations.\n",
      "--- Fold 3 - root_mean_squared_error: 0.0595 - Time: 166.72 s\n",
      "\n",
      "0:\tlearn: 0.9347914\ttest: 0.9344284\tbest: 0.9344284 (0)\ttotal: 79.5ms\tremaining: 1h 6m 14s\n",
      "1000:\tlearn: 0.0572454\ttest: 0.0590697\tbest: 0.0590697 (1000)\ttotal: 55.2s\tremaining: 45m 4s\n",
      "2000:\tlearn: 0.0561135\ttest: 0.0589142\tbest: 0.0589119 (1987)\ttotal: 1m 49s\tremaining: 43m 36s\n",
      "Stopped by overfitting detector  (100 iterations wait)\n",
      "\n",
      "bestTest = 0.05891120084\n",
      "bestIteration = 2077\n",
      "\n",
      "Shrink model to first 2078 iterations.\n",
      "--- Fold 4 - root_mean_squared_error: 0.0589 - Time: 119.97 s\n",
      "\n",
      "\n",
      "------ Overall root_mean_squared_error: 0.0592 - Mean root_mean_squared_error: 0.0592 ± 0.0003 - Time: 753.43 s\n"
     ]
    }
   ],
   "source": [
    "cb_trainer = Trainer(\n",
    "    CatBoostRegressor(**cb_params),\n",
    "    cv=CFG.cv,\n",
    "    metric=CFG.metric,\n",
    "    use_early_stopping=True,\n",
    "    task=\"regression\"\n",
    ")\n",
    "\n",
    "fit_args = {\n",
    "    \"verbose\": 1000,\n",
    "    \"early_stopping_rounds\": 100,\n",
    "    \"use_best_model\": True\n",
    "}\n",
    "\n",
    "cb_trainer.fit(X, y, fit_args=fit_args, extra_X=X_original, extra_y=y_original)\n",
    "\n",
    "scores[\"CatBoost\"] = cb_trainer.fold_scores\n",
    "oof_preds[\"CatBoost\"] = cb_trainer.oof_preds\n",
    "test_preds[\"CatBoost\"] = cb_trainer.predict(X_test)"
   ]
  },
  {
   "cell_type": "markdown",
   "id": "6fa500a5",
   "metadata": {
    "papermill": {
     "duration": 0.014373,
     "end_time": "2025-05-02T19:34:32.075312",
     "exception": false,
     "start_time": "2025-05-02T19:34:32.060939",
     "status": "completed"
    },
    "tags": []
   },
   "source": [
    "## AutoGluon"
   ]
  },
  {
   "cell_type": "code",
   "execution_count": 16,
   "id": "7d4407ca",
   "metadata": {
    "execution": {
     "iopub.execute_input": "2025-05-02T19:34:32.107340Z",
     "iopub.status.busy": "2025-05-02T19:34:32.106627Z",
     "iopub.status.idle": "2025-05-02T19:34:32.363562Z",
     "shell.execute_reply": "2025-05-02T19:34:32.362516Z"
    },
    "papermill": {
     "duration": 0.274791,
     "end_time": "2025-05-02T19:34:32.365252",
     "exception": false,
     "start_time": "2025-05-02T19:34:32.090461",
     "status": "completed"
    },
    "tags": []
   },
   "outputs": [],
   "source": [
    "oof_preds_files = glob.glob(f'/kaggle/input/s05e05-calorie-expenditure-prediction-automl/*_oof_preds_*.pkl')\n",
    "test_preds_files = glob.glob(f'/kaggle/input/s05e05-calorie-expenditure-prediction-automl/*_test_preds_*.pkl')\n",
    "\n",
    "ag_oof_preds = np.log1p(joblib.load(oof_preds_files[0]))\n",
    "ag_test_preds = np.log1p(joblib.load(test_preds_files[0]))\n",
    "\n",
    "ag_scores = []\n",
    "split = KFold(n_splits=CFG.n_folds, random_state=CFG.seed, shuffle=True).split(X, y)\n",
    "for _, val_idx in split:\n",
    "    y_val = y[val_idx]\n",
    "    y_preds = ag_oof_preds[val_idx]   \n",
    "    score = root_mean_squared_error(y_preds, y_val)\n",
    "    ag_scores.append(score)\n",
    "    \n",
    "oof_preds[\"AutoGluon\"], test_preds[\"AutoGluon\"], scores[\"AutoGluon\"] = ag_oof_preds, ag_test_preds, ag_scores"
   ]
  },
  {
   "cell_type": "markdown",
   "id": "6279cc94",
   "metadata": {
    "papermill": {
     "duration": 0.01489,
     "end_time": "2025-05-02T19:34:32.395309",
     "exception": false,
     "start_time": "2025-05-02T19:34:32.380419",
     "status": "completed"
    },
    "tags": []
   },
   "source": [
    "## Yggdrasil"
   ]
  },
  {
   "cell_type": "code",
   "execution_count": 17,
   "id": "2e4fd088",
   "metadata": {
    "execution": {
     "iopub.execute_input": "2025-05-02T19:34:32.426365Z",
     "iopub.status.busy": "2025-05-02T19:34:32.425674Z",
     "iopub.status.idle": "2025-05-02T19:34:32.433711Z",
     "shell.execute_reply": "2025-05-02T19:34:32.432356Z"
    },
    "papermill": {
     "duration": 0.025511,
     "end_time": "2025-05-02T19:34:32.435387",
     "exception": false,
     "start_time": "2025-05-02T19:34:32.409876",
     "status": "completed"
    },
    "tags": []
   },
   "outputs": [],
   "source": [
    "def YDFRegressor(learner_class):\n",
    "\n",
    "    class YDFXRegressor(BaseEstimator, RegressorMixin):\n",
    "\n",
    "        def __init__(self, params={}):\n",
    "            self.params = params\n",
    "\n",
    "        def fit(self, X, y):\n",
    "            assert isinstance(X, pd.DataFrame)\n",
    "            assert isinstance(y, pd.Series)\n",
    "            target = y.name\n",
    "            params = self.params.copy()\n",
    "            params['label'] = target\n",
    "            params['task'] = ydf.Task.REGRESSION\n",
    "            X = pd.concat([X, y], axis=1)\n",
    "            with contextlib.redirect_stderr(io.StringIO()), contextlib.redirect_stdout(io.StringIO()):\n",
    "                self.model = learner_class(**params).train(X)\n",
    "            return self\n",
    "\n",
    "        def predict(self, X):\n",
    "            assert isinstance(X, pd.DataFrame)\n",
    "            with contextlib.redirect_stderr(io.StringIO()), contextlib.redirect_stdout(io.StringIO()):\n",
    "                return self.model.predict(X)\n",
    "\n",
    "    return YDFXRegressor"
   ]
  },
  {
   "cell_type": "code",
   "execution_count": 18,
   "id": "1642ba96",
   "metadata": {
    "execution": {
     "iopub.execute_input": "2025-05-02T19:34:32.465990Z",
     "iopub.status.busy": "2025-05-02T19:34:32.465612Z",
     "iopub.status.idle": "2025-05-02T19:44:11.831893Z",
     "shell.execute_reply": "2025-05-02T19:44:11.830640Z"
    },
    "papermill": {
     "duration": 579.383583,
     "end_time": "2025-05-02T19:44:11.833865",
     "exception": false,
     "start_time": "2025-05-02T19:34:32.450282",
     "status": "completed"
    },
    "tags": []
   },
   "outputs": [
    {
     "name": "stdout",
     "output_type": "stream",
     "text": [
      "Training YDFXRegressor\n",
      "\n",
      "--- Fold 0 - root_mean_squared_error: 0.0604 - Time: 125.74 s\n",
      "--- Fold 1 - root_mean_squared_error: 0.0608 - Time: 114.82 s\n",
      "--- Fold 2 - root_mean_squared_error: 0.0603 - Time: 80.10 s\n",
      "--- Fold 3 - root_mean_squared_error: 0.0612 - Time: 109.58 s\n",
      "--- Fold 4 - root_mean_squared_error: 0.0602 - Time: 140.66 s\n",
      "\n",
      "------ Overall root_mean_squared_error: 0.0606 - Mean root_mean_squared_error: 0.0606 ± 0.0004 - Time: 572.77 s\n"
     ]
    }
   ],
   "source": [
    "ydf_trainer = Trainer(\n",
    "    YDFRegressor(GradientBoostedTreesLearner)(ydf_params),\n",
    "    cv=CFG.cv,\n",
    "    metric=CFG.metric,\n",
    "    task=\"regression\"\n",
    ")\n",
    "\n",
    "ydf_trainer.fit(X, y, extra_X=X_original, extra_y=y_original)\n",
    "\n",
    "scores[\"Yggdrasil\"] = ydf_trainer.fold_scores\n",
    "oof_preds[\"Yggdrasil\"] = ydf_trainer.oof_preds\n",
    "test_preds[\"Yggdrasil\"] = ydf_trainer.predict(X_test)"
   ]
  },
  {
   "cell_type": "markdown",
   "id": "f25a10f0",
   "metadata": {
    "papermill": {
     "duration": 0.014713,
     "end_time": "2025-05-02T19:44:11.864964",
     "exception": false,
     "start_time": "2025-05-02T19:44:11.850251",
     "status": "completed"
    },
    "tags": []
   },
   "source": [
    "## Neural networks"
   ]
  },
  {
   "cell_type": "code",
   "execution_count": 19,
   "id": "66011d82",
   "metadata": {
    "execution": {
     "iopub.execute_input": "2025-05-02T19:44:11.898433Z",
     "iopub.status.busy": "2025-05-02T19:44:11.898102Z",
     "iopub.status.idle": "2025-05-02T19:44:12.624041Z",
     "shell.execute_reply": "2025-05-02T19:44:12.622906Z"
    },
    "papermill": {
     "duration": 0.744523,
     "end_time": "2025-05-02T19:44:12.626200",
     "exception": false,
     "start_time": "2025-05-02T19:44:11.881677",
     "status": "completed"
    },
    "tags": []
   },
   "outputs": [],
   "source": [
    "train = pd.read_csv(CFG.train_path, index_col=\"id\")\n",
    "test = pd.read_csv(CFG.test_path, index_col=\"id\")\n",
    "original = pd.read_csv(CFG.original_path, index_col=\"User_ID\")\n",
    "original = original.rename(columns={\"Gender\": \"Sex\"})\n",
    "\n",
    "X = train.drop(CFG.target, axis=1)\n",
    "y = np.log1p(train[CFG.target])\n",
    "X_test = test\n",
    "\n",
    "X_original = original.drop(CFG.target, axis=1)\n",
    "y_original = np.log1p(original[CFG.target])"
   ]
  },
  {
   "cell_type": "code",
   "execution_count": 20,
   "id": "c40b40a0",
   "metadata": {
    "execution": {
     "iopub.execute_input": "2025-05-02T19:44:12.660722Z",
     "iopub.status.busy": "2025-05-02T19:44:12.660426Z",
     "iopub.status.idle": "2025-05-02T19:44:13.227625Z",
     "shell.execute_reply": "2025-05-02T19:44:13.226310Z"
    },
    "papermill": {
     "duration": 0.587009,
     "end_time": "2025-05-02T19:44:13.229369",
     "exception": false,
     "start_time": "2025-05-02T19:44:12.642360",
     "status": "completed"
    },
    "tags": []
   },
   "outputs": [],
   "source": [
    "pipeline = make_pipeline(\n",
    "    ColumnTransformer(\n",
    "        [\n",
    "            ('one-hot-encode', OneHotEncoder(drop='first', sparse_output=False, dtype=np.float32, handle_unknown='ignore'), ['Sex']),\n",
    "            \n",
    "        ],\n",
    "        remainder=StandardScaler()\n",
    "    )\n",
    ").set_output(transform='pandas')\n",
    "\n",
    "X = pipeline.fit_transform(X, y)\n",
    "X_test = pipeline.transform(X_test)\n",
    "X_original = pipeline.transform(X_original)"
   ]
  },
  {
   "cell_type": "code",
   "execution_count": 21,
   "id": "ef999e18",
   "metadata": {
    "execution": {
     "iopub.execute_input": "2025-05-02T19:44:13.260878Z",
     "iopub.status.busy": "2025-05-02T19:44:13.260536Z",
     "iopub.status.idle": "2025-05-02T19:44:13.266368Z",
     "shell.execute_reply": "2025-05-02T19:44:13.265600Z"
    },
    "papermill": {
     "duration": 0.023599,
     "end_time": "2025-05-02T19:44:13.268157",
     "exception": false,
     "start_time": "2025-05-02T19:44:13.244558",
     "status": "completed"
    },
    "tags": []
   },
   "outputs": [],
   "source": [
    "def get_model(meta):\n",
    "    model = keras.models.Sequential()\n",
    "    model.add(keras.layers.Input(meta[\"X_shape_\"][1:]))\n",
    "    model.add(keras.layers.Dense(256, kernel_initializer='lecun_normal', activation='selu'))\n",
    "    model.add(keras.layers.Dense(128, kernel_initializer='lecun_normal', activation='selu'))\n",
    "    model.add(keras.layers.Dense(64, kernel_initializer='lecun_normal', activation='selu'))\n",
    "    model.add(keras.layers.Dense(1))\n",
    "    return model"
   ]
  },
  {
   "cell_type": "code",
   "execution_count": 22,
   "id": "7ec922c3",
   "metadata": {
    "execution": {
     "iopub.execute_input": "2025-05-02T19:44:13.299210Z",
     "iopub.status.busy": "2025-05-02T19:44:13.298915Z",
     "iopub.status.idle": "2025-05-02T19:44:13.360191Z",
     "shell.execute_reply": "2025-05-02T19:44:13.359058Z"
    },
    "papermill": {
     "duration": 0.078974,
     "end_time": "2025-05-02T19:44:13.362103",
     "exception": false,
     "start_time": "2025-05-02T19:44:13.283129",
     "status": "completed"
    },
    "tags": []
   },
   "outputs": [
    {
     "name": "stderr",
     "output_type": "stream",
     "text": [
      "2025-05-02 19:44:13.305068: E external/local_xla/xla/stream_executor/cuda/cuda_driver.cc:152] failed call to cuInit: INTERNAL: CUDA error: Failed call to cuInit: UNKNOWN ERROR (303)\n"
     ]
    }
   ],
   "source": [
    "nn_model = KerasRegressor(\n",
    "    get_model,\n",
    "    loss=\"mean_squared_error\",\n",
    "    random_state=CFG.seed,\n",
    "    metrics=[keras.metrics.RootMeanSquaredError(name='rmse')],\n",
    "    optimizer=keras.optimizers.AdamW(learning_rate=0.001),\n",
    "    validation_batch_size=65536,\n",
    "    validation_split=0.1,\n",
    "    batch_size=1024,\n",
    "    epochs=100, \n",
    "    verbose=0,\n",
    "    callbacks=[\n",
    "        keras.callbacks.EarlyStopping(monitor='val_rmse', patience=7, restore_best_weights=True),\n",
    "        keras.callbacks.ReduceLROnPlateau(monitor='val_rmse', patience=3, factor=0.3)\n",
    "    ]\n",
    ")"
   ]
  },
  {
   "cell_type": "code",
   "execution_count": 23,
   "id": "1972e1b3",
   "metadata": {
    "execution": {
     "iopub.execute_input": "2025-05-02T19:44:13.395525Z",
     "iopub.status.busy": "2025-05-02T19:44:13.395164Z",
     "iopub.status.idle": "2025-05-02T19:44:13.399805Z",
     "shell.execute_reply": "2025-05-02T19:44:13.398854Z"
    },
    "papermill": {
     "duration": 0.023295,
     "end_time": "2025-05-02T19:44:13.401348",
     "exception": false,
     "start_time": "2025-05-02T19:44:13.378053",
     "status": "completed"
    },
    "tags": []
   },
   "outputs": [],
   "source": [
    "nn_bag = BaggingRegressor(\n",
    "    nn_model,\n",
    "    n_estimators=5,\n",
    "    random_state=CFG.seed,\n",
    ")"
   ]
  },
  {
   "cell_type": "code",
   "execution_count": 24,
   "id": "581fa9b6",
   "metadata": {
    "_kg_hide-output": true,
    "execution": {
     "iopub.execute_input": "2025-05-02T19:44:13.441366Z",
     "iopub.status.busy": "2025-05-02T19:44:13.441017Z",
     "iopub.status.idle": "2025-05-02T21:12:53.191836Z",
     "shell.execute_reply": "2025-05-02T21:12:53.190686Z"
    },
    "papermill": {
     "duration": 5319.774504,
     "end_time": "2025-05-02T21:12:53.193968",
     "exception": false,
     "start_time": "2025-05-02T19:44:13.419464",
     "status": "completed"
    },
    "tags": []
   },
   "outputs": [
    {
     "name": "stdout",
     "output_type": "stream",
     "text": [
      "Training BaggingRegressor\n",
      "\n"
     ]
    },
    {
     "name": "stderr",
     "output_type": "stream",
     "text": [
      "2025-05-02 19:44:13.929031: E tensorflow/core/framework/node_def_util.cc:676] NodeDef mentions attribute use_unbounded_threadpool which is not in the op definition: Op<name=MapDataset; signature=input_dataset:variant, other_arguments: -> handle:variant; attr=f:func; attr=Targuments:list(type),min=0; attr=output_types:list(type),min=1; attr=output_shapes:list(shape),min=1; attr=use_inter_op_parallelism:bool,default=true; attr=preserve_cardinality:bool,default=false; attr=force_synchronous:bool,default=false; attr=metadata:string,default=\"\"> This may be expected if your graph generating binary is newer  than this binary. Unknown attributes will be ignored. NodeDef: {{node ParallelMapDatasetV2/_16}}\n",
      "2025-05-02 19:44:19.116499: E tensorflow/core/framework/node_def_util.cc:676] NodeDef mentions attribute use_unbounded_threadpool which is not in the op definition: Op<name=MapDataset; signature=input_dataset:variant, other_arguments: -> handle:variant; attr=f:func; attr=Targuments:list(type),min=0; attr=output_types:list(type),min=1; attr=output_shapes:list(shape),min=1; attr=use_inter_op_parallelism:bool,default=true; attr=preserve_cardinality:bool,default=false; attr=force_synchronous:bool,default=false; attr=metadata:string,default=\"\"> This may be expected if your graph generating binary is newer  than this binary. Unknown attributes will be ignored. NodeDef: {{node ParallelMapDatasetV2/_16}}\n",
      "2025-05-02 19:47:03.028515: E tensorflow/core/framework/node_def_util.cc:676] NodeDef mentions attribute use_unbounded_threadpool which is not in the op definition: Op<name=MapDataset; signature=input_dataset:variant, other_arguments: -> handle:variant; attr=f:func; attr=Targuments:list(type),min=0; attr=output_types:list(type),min=1; attr=output_shapes:list(shape),min=1; attr=use_inter_op_parallelism:bool,default=true; attr=preserve_cardinality:bool,default=false; attr=force_synchronous:bool,default=false; attr=metadata:string,default=\"\"> This may be expected if your graph generating binary is newer  than this binary. Unknown attributes will be ignored. NodeDef: {{node ParallelMapDatasetV2/_16}}\n",
      "2025-05-02 19:47:08.080629: E tensorflow/core/framework/node_def_util.cc:676] NodeDef mentions attribute use_unbounded_threadpool which is not in the op definition: Op<name=MapDataset; signature=input_dataset:variant, other_arguments: -> handle:variant; attr=f:func; attr=Targuments:list(type),min=0; attr=output_types:list(type),min=1; attr=output_shapes:list(shape),min=1; attr=use_inter_op_parallelism:bool,default=true; attr=preserve_cardinality:bool,default=false; attr=force_synchronous:bool,default=false; attr=metadata:string,default=\"\"> This may be expected if your graph generating binary is newer  than this binary. Unknown attributes will be ignored. NodeDef: {{node ParallelMapDatasetV2/_16}}\n",
      "2025-05-02 19:51:52.935896: E tensorflow/core/framework/node_def_util.cc:676] NodeDef mentions attribute use_unbounded_threadpool which is not in the op definition: Op<name=MapDataset; signature=input_dataset:variant, other_arguments: -> handle:variant; attr=f:func; attr=Targuments:list(type),min=0; attr=output_types:list(type),min=1; attr=output_shapes:list(shape),min=1; attr=use_inter_op_parallelism:bool,default=true; attr=preserve_cardinality:bool,default=false; attr=force_synchronous:bool,default=false; attr=metadata:string,default=\"\"> This may be expected if your graph generating binary is newer  than this binary. Unknown attributes will be ignored. NodeDef: {{node ParallelMapDatasetV2/_16}}\n",
      "2025-05-02 19:51:58.151888: E tensorflow/core/framework/node_def_util.cc:676] NodeDef mentions attribute use_unbounded_threadpool which is not in the op definition: Op<name=MapDataset; signature=input_dataset:variant, other_arguments: -> handle:variant; attr=f:func; attr=Targuments:list(type),min=0; attr=output_types:list(type),min=1; attr=output_shapes:list(shape),min=1; attr=use_inter_op_parallelism:bool,default=true; attr=preserve_cardinality:bool,default=false; attr=force_synchronous:bool,default=false; attr=metadata:string,default=\"\"> This may be expected if your graph generating binary is newer  than this binary. Unknown attributes will be ignored. NodeDef: {{node ParallelMapDatasetV2/_16}}\n",
      "2025-05-02 19:54:56.521528: E tensorflow/core/framework/node_def_util.cc:676] NodeDef mentions attribute use_unbounded_threadpool which is not in the op definition: Op<name=MapDataset; signature=input_dataset:variant, other_arguments: -> handle:variant; attr=f:func; attr=Targuments:list(type),min=0; attr=output_types:list(type),min=1; attr=output_shapes:list(shape),min=1; attr=use_inter_op_parallelism:bool,default=true; attr=preserve_cardinality:bool,default=false; attr=force_synchronous:bool,default=false; attr=metadata:string,default=\"\"> This may be expected if your graph generating binary is newer  than this binary. Unknown attributes will be ignored. NodeDef: {{node ParallelMapDatasetV2/_16}}\n",
      "2025-05-02 19:57:41.995560: E tensorflow/core/framework/node_def_util.cc:676] NodeDef mentions attribute use_unbounded_threadpool which is not in the op definition: Op<name=MapDataset; signature=input_dataset:variant, other_arguments: -> handle:variant; attr=f:func; attr=Targuments:list(type),min=0; attr=output_types:list(type),min=1; attr=output_shapes:list(shape),min=1; attr=use_inter_op_parallelism:bool,default=true; attr=preserve_cardinality:bool,default=false; attr=force_synchronous:bool,default=false; attr=metadata:string,default=\"\"> This may be expected if your graph generating binary is newer  than this binary. Unknown attributes will be ignored. NodeDef: {{node ParallelMapDatasetV2/_16}}\n",
      "2025-05-02 20:00:55.528612: E tensorflow/core/framework/node_def_util.cc:676] NodeDef mentions attribute use_unbounded_threadpool which is not in the op definition: Op<name=MapDataset; signature=input_dataset:variant, other_arguments: -> handle:variant; attr=f:func; attr=Targuments:list(type),min=0; attr=output_types:list(type),min=1; attr=output_shapes:list(shape),min=1; attr=use_inter_op_parallelism:bool,default=true; attr=preserve_cardinality:bool,default=false; attr=force_synchronous:bool,default=false; attr=metadata:string,default=\"\"> This may be expected if your graph generating binary is newer  than this binary. Unknown attributes will be ignored. NodeDef: {{node ParallelMapDatasetV2/_14}}\n"
     ]
    },
    {
     "name": "stdout",
     "output_type": "stream",
     "text": [
      "--- Fold 0 - root_mean_squared_error: 0.0611 - Time: 1007.06 s\n"
     ]
    },
    {
     "name": "stderr",
     "output_type": "stream",
     "text": [
      "2025-05-02 20:01:01.415462: E tensorflow/core/framework/node_def_util.cc:676] NodeDef mentions attribute use_unbounded_threadpool which is not in the op definition: Op<name=MapDataset; signature=input_dataset:variant, other_arguments: -> handle:variant; attr=f:func; attr=Targuments:list(type),min=0; attr=output_types:list(type),min=1; attr=output_shapes:list(shape),min=1; attr=use_inter_op_parallelism:bool,default=true; attr=preserve_cardinality:bool,default=false; attr=force_synchronous:bool,default=false; attr=metadata:string,default=\"\"> This may be expected if your graph generating binary is newer  than this binary. Unknown attributes will be ignored. NodeDef: {{node ParallelMapDatasetV2/_16}}\n",
      "2025-05-02 20:04:09.245394: E tensorflow/core/framework/node_def_util.cc:676] NodeDef mentions attribute use_unbounded_threadpool which is not in the op definition: Op<name=MapDataset; signature=input_dataset:variant, other_arguments: -> handle:variant; attr=f:func; attr=Targuments:list(type),min=0; attr=output_types:list(type),min=1; attr=output_shapes:list(shape),min=1; attr=use_inter_op_parallelism:bool,default=true; attr=preserve_cardinality:bool,default=false; attr=force_synchronous:bool,default=false; attr=metadata:string,default=\"\"> This may be expected if your graph generating binary is newer  than this binary. Unknown attributes will be ignored. NodeDef: {{node ParallelMapDatasetV2/_16}}\n",
      "2025-05-02 20:07:50.067902: E tensorflow/core/framework/node_def_util.cc:676] NodeDef mentions attribute use_unbounded_threadpool which is not in the op definition: Op<name=MapDataset; signature=input_dataset:variant, other_arguments: -> handle:variant; attr=f:func; attr=Targuments:list(type),min=0; attr=output_types:list(type),min=1; attr=output_shapes:list(shape),min=1; attr=use_inter_op_parallelism:bool,default=true; attr=preserve_cardinality:bool,default=false; attr=force_synchronous:bool,default=false; attr=metadata:string,default=\"\"> This may be expected if your graph generating binary is newer  than this binary. Unknown attributes will be ignored. NodeDef: {{node ParallelMapDatasetV2/_16}}\n",
      "2025-05-02 20:12:00.905034: E tensorflow/core/framework/node_def_util.cc:676] NodeDef mentions attribute use_unbounded_threadpool which is not in the op definition: Op<name=MapDataset; signature=input_dataset:variant, other_arguments: -> handle:variant; attr=f:func; attr=Targuments:list(type),min=0; attr=output_types:list(type),min=1; attr=output_shapes:list(shape),min=1; attr=use_inter_op_parallelism:bool,default=true; attr=preserve_cardinality:bool,default=false; attr=force_synchronous:bool,default=false; attr=metadata:string,default=\"\"> This may be expected if your graph generating binary is newer  than this binary. Unknown attributes will be ignored. NodeDef: {{node ParallelMapDatasetV2/_16}}\n",
      "2025-05-02 20:12:06.027130: E tensorflow/core/framework/node_def_util.cc:676] NodeDef mentions attribute use_unbounded_threadpool which is not in the op definition: Op<name=MapDataset; signature=input_dataset:variant, other_arguments: -> handle:variant; attr=f:func; attr=Targuments:list(type),min=0; attr=output_types:list(type),min=1; attr=output_shapes:list(shape),min=1; attr=use_inter_op_parallelism:bool,default=true; attr=preserve_cardinality:bool,default=false; attr=force_synchronous:bool,default=false; attr=metadata:string,default=\"\"> This may be expected if your graph generating binary is newer  than this binary. Unknown attributes will be ignored. NodeDef: {{node ParallelMapDatasetV2/_16}}\n",
      "2025-05-02 20:14:34.011067: E tensorflow/core/framework/node_def_util.cc:676] NodeDef mentions attribute use_unbounded_threadpool which is not in the op definition: Op<name=MapDataset; signature=input_dataset:variant, other_arguments: -> handle:variant; attr=f:func; attr=Targuments:list(type),min=0; attr=output_types:list(type),min=1; attr=output_shapes:list(shape),min=1; attr=use_inter_op_parallelism:bool,default=true; attr=preserve_cardinality:bool,default=false; attr=force_synchronous:bool,default=false; attr=metadata:string,default=\"\"> This may be expected if your graph generating binary is newer  than this binary. Unknown attributes will be ignored. NodeDef: {{node ParallelMapDatasetV2/_16}}\n",
      "2025-05-02 20:19:20.687007: E tensorflow/core/framework/node_def_util.cc:676] NodeDef mentions attribute use_unbounded_threadpool which is not in the op definition: Op<name=MapDataset; signature=input_dataset:variant, other_arguments: -> handle:variant; attr=f:func; attr=Targuments:list(type),min=0; attr=output_types:list(type),min=1; attr=output_shapes:list(shape),min=1; attr=use_inter_op_parallelism:bool,default=true; attr=preserve_cardinality:bool,default=false; attr=force_synchronous:bool,default=false; attr=metadata:string,default=\"\"> This may be expected if your graph generating binary is newer  than this binary. Unknown attributes will be ignored. NodeDef: {{node ParallelMapDatasetV2/_14}}\n"
     ]
    },
    {
     "name": "stdout",
     "output_type": "stream",
     "text": [
      "--- Fold 1 - root_mean_squared_error: 0.0622 - Time: 1104.12 s\n"
     ]
    },
    {
     "name": "stderr",
     "output_type": "stream",
     "text": [
      "2025-05-02 20:19:26.074747: E tensorflow/core/framework/node_def_util.cc:676] NodeDef mentions attribute use_unbounded_threadpool which is not in the op definition: Op<name=MapDataset; signature=input_dataset:variant, other_arguments: -> handle:variant; attr=f:func; attr=Targuments:list(type),min=0; attr=output_types:list(type),min=1; attr=output_shapes:list(shape),min=1; attr=use_inter_op_parallelism:bool,default=true; attr=preserve_cardinality:bool,default=false; attr=force_synchronous:bool,default=false; attr=metadata:string,default=\"\"> This may be expected if your graph generating binary is newer  than this binary. Unknown attributes will be ignored. NodeDef: {{node ParallelMapDatasetV2/_16}}\n",
      "2025-05-02 20:23:53.366894: E tensorflow/core/framework/node_def_util.cc:676] NodeDef mentions attribute use_unbounded_threadpool which is not in the op definition: Op<name=MapDataset; signature=input_dataset:variant, other_arguments: -> handle:variant; attr=f:func; attr=Targuments:list(type),min=0; attr=output_types:list(type),min=1; attr=output_shapes:list(shape),min=1; attr=use_inter_op_parallelism:bool,default=true; attr=preserve_cardinality:bool,default=false; attr=force_synchronous:bool,default=false; attr=metadata:string,default=\"\"> This may be expected if your graph generating binary is newer  than this binary. Unknown attributes will be ignored. NodeDef: {{node ParallelMapDatasetV2/_16}}\n",
      "2025-05-02 20:23:58.984526: E tensorflow/core/framework/node_def_util.cc:676] NodeDef mentions attribute use_unbounded_threadpool which is not in the op definition: Op<name=MapDataset; signature=input_dataset:variant, other_arguments: -> handle:variant; attr=f:func; attr=Targuments:list(type),min=0; attr=output_types:list(type),min=1; attr=output_shapes:list(shape),min=1; attr=use_inter_op_parallelism:bool,default=true; attr=preserve_cardinality:bool,default=false; attr=force_synchronous:bool,default=false; attr=metadata:string,default=\"\"> This may be expected if your graph generating binary is newer  than this binary. Unknown attributes will be ignored. NodeDef: {{node ParallelMapDatasetV2/_16}}\n",
      "2025-05-02 20:26:27.378314: E tensorflow/core/framework/node_def_util.cc:676] NodeDef mentions attribute use_unbounded_threadpool which is not in the op definition: Op<name=MapDataset; signature=input_dataset:variant, other_arguments: -> handle:variant; attr=f:func; attr=Targuments:list(type),min=0; attr=output_types:list(type),min=1; attr=output_shapes:list(shape),min=1; attr=use_inter_op_parallelism:bool,default=true; attr=preserve_cardinality:bool,default=false; attr=force_synchronous:bool,default=false; attr=metadata:string,default=\"\"> This may be expected if your graph generating binary is newer  than this binary. Unknown attributes will be ignored. NodeDef: {{node ParallelMapDatasetV2/_16}}\n",
      "2025-05-02 20:30:19.440621: E tensorflow/core/framework/node_def_util.cc:676] NodeDef mentions attribute use_unbounded_threadpool which is not in the op definition: Op<name=MapDataset; signature=input_dataset:variant, other_arguments: -> handle:variant; attr=f:func; attr=Targuments:list(type),min=0; attr=output_types:list(type),min=1; attr=output_shapes:list(shape),min=1; attr=use_inter_op_parallelism:bool,default=true; attr=preserve_cardinality:bool,default=false; attr=force_synchronous:bool,default=false; attr=metadata:string,default=\"\"> This may be expected if your graph generating binary is newer  than this binary. Unknown attributes will be ignored. NodeDef: {{node ParallelMapDatasetV2/_16}}\n",
      "2025-05-02 20:30:25.032419: E tensorflow/core/framework/node_def_util.cc:676] NodeDef mentions attribute use_unbounded_threadpool which is not in the op definition: Op<name=MapDataset; signature=input_dataset:variant, other_arguments: -> handle:variant; attr=f:func; attr=Targuments:list(type),min=0; attr=output_types:list(type),min=1; attr=output_shapes:list(shape),min=1; attr=use_inter_op_parallelism:bool,default=true; attr=preserve_cardinality:bool,default=false; attr=force_synchronous:bool,default=false; attr=metadata:string,default=\"\"> This may be expected if your graph generating binary is newer  than this binary. Unknown attributes will be ignored. NodeDef: {{node ParallelMapDatasetV2/_16}}\n",
      "2025-05-02 20:34:31.942599: E tensorflow/core/framework/node_def_util.cc:676] NodeDef mentions attribute use_unbounded_threadpool which is not in the op definition: Op<name=MapDataset; signature=input_dataset:variant, other_arguments: -> handle:variant; attr=f:func; attr=Targuments:list(type),min=0; attr=output_types:list(type),min=1; attr=output_shapes:list(shape),min=1; attr=use_inter_op_parallelism:bool,default=true; attr=preserve_cardinality:bool,default=false; attr=force_synchronous:bool,default=false; attr=metadata:string,default=\"\"> This may be expected if your graph generating binary is newer  than this binary. Unknown attributes will be ignored. NodeDef: {{node ParallelMapDatasetV2/_16}}\n",
      "2025-05-02 20:34:37.368659: E tensorflow/core/framework/node_def_util.cc:676] NodeDef mentions attribute use_unbounded_threadpool which is not in the op definition: Op<name=MapDataset; signature=input_dataset:variant, other_arguments: -> handle:variant; attr=f:func; attr=Targuments:list(type),min=0; attr=output_types:list(type),min=1; attr=output_shapes:list(shape),min=1; attr=use_inter_op_parallelism:bool,default=true; attr=preserve_cardinality:bool,default=false; attr=force_synchronous:bool,default=false; attr=metadata:string,default=\"\"> This may be expected if your graph generating binary is newer  than this binary. Unknown attributes will be ignored. NodeDef: {{node ParallelMapDatasetV2/_16}}\n",
      "2025-05-02 20:39:31.124637: E tensorflow/core/framework/node_def_util.cc:676] NodeDef mentions attribute use_unbounded_threadpool which is not in the op definition: Op<name=MapDataset; signature=input_dataset:variant, other_arguments: -> handle:variant; attr=f:func; attr=Targuments:list(type),min=0; attr=output_types:list(type),min=1; attr=output_shapes:list(shape),min=1; attr=use_inter_op_parallelism:bool,default=true; attr=preserve_cardinality:bool,default=false; attr=force_synchronous:bool,default=false; attr=metadata:string,default=\"\"> This may be expected if your graph generating binary is newer  than this binary. Unknown attributes will be ignored. NodeDef: {{node ParallelMapDatasetV2/_14}}\n"
     ]
    },
    {
     "name": "stdout",
     "output_type": "stream",
     "text": [
      "--- Fold 2 - root_mean_squared_error: 0.0614 - Time: 1209.67 s\n"
     ]
    },
    {
     "name": "stderr",
     "output_type": "stream",
     "text": [
      "2025-05-02 20:39:36.448652: E tensorflow/core/framework/node_def_util.cc:676] NodeDef mentions attribute use_unbounded_threadpool which is not in the op definition: Op<name=MapDataset; signature=input_dataset:variant, other_arguments: -> handle:variant; attr=f:func; attr=Targuments:list(type),min=0; attr=output_types:list(type),min=1; attr=output_shapes:list(shape),min=1; attr=use_inter_op_parallelism:bool,default=true; attr=preserve_cardinality:bool,default=false; attr=force_synchronous:bool,default=false; attr=metadata:string,default=\"\"> This may be expected if your graph generating binary is newer  than this binary. Unknown attributes will be ignored. NodeDef: {{node ParallelMapDatasetV2/_16}}\n",
      "2025-05-02 20:44:26.737556: E tensorflow/core/framework/node_def_util.cc:676] NodeDef mentions attribute use_unbounded_threadpool which is not in the op definition: Op<name=MapDataset; signature=input_dataset:variant, other_arguments: -> handle:variant; attr=f:func; attr=Targuments:list(type),min=0; attr=output_types:list(type),min=1; attr=output_shapes:list(shape),min=1; attr=use_inter_op_parallelism:bool,default=true; attr=preserve_cardinality:bool,default=false; attr=force_synchronous:bool,default=false; attr=metadata:string,default=\"\"> This may be expected if your graph generating binary is newer  than this binary. Unknown attributes will be ignored. NodeDef: {{node ParallelMapDatasetV2/_16}}\n",
      "2025-05-02 20:47:43.766150: E tensorflow/core/framework/node_def_util.cc:676] NodeDef mentions attribute use_unbounded_threadpool which is not in the op definition: Op<name=MapDataset; signature=input_dataset:variant, other_arguments: -> handle:variant; attr=f:func; attr=Targuments:list(type),min=0; attr=output_types:list(type),min=1; attr=output_shapes:list(shape),min=1; attr=use_inter_op_parallelism:bool,default=true; attr=preserve_cardinality:bool,default=false; attr=force_synchronous:bool,default=false; attr=metadata:string,default=\"\"> This may be expected if your graph generating binary is newer  than this binary. Unknown attributes will be ignored. NodeDef: {{node ParallelMapDatasetV2/_16}}\n",
      "2025-05-02 20:51:04.907360: E tensorflow/core/framework/node_def_util.cc:676] NodeDef mentions attribute use_unbounded_threadpool which is not in the op definition: Op<name=MapDataset; signature=input_dataset:variant, other_arguments: -> handle:variant; attr=f:func; attr=Targuments:list(type),min=0; attr=output_types:list(type),min=1; attr=output_shapes:list(shape),min=1; attr=use_inter_op_parallelism:bool,default=true; attr=preserve_cardinality:bool,default=false; attr=force_synchronous:bool,default=false; attr=metadata:string,default=\"\"> This may be expected if your graph generating binary is newer  than this binary. Unknown attributes will be ignored. NodeDef: {{node ParallelMapDatasetV2/_16}}\n",
      "2025-05-02 20:56:02.241424: E tensorflow/core/framework/node_def_util.cc:676] NodeDef mentions attribute use_unbounded_threadpool which is not in the op definition: Op<name=MapDataset; signature=input_dataset:variant, other_arguments: -> handle:variant; attr=f:func; attr=Targuments:list(type),min=0; attr=output_types:list(type),min=1; attr=output_shapes:list(shape),min=1; attr=use_inter_op_parallelism:bool,default=true; attr=preserve_cardinality:bool,default=false; attr=force_synchronous:bool,default=false; attr=metadata:string,default=\"\"> This may be expected if your graph generating binary is newer  than this binary. Unknown attributes will be ignored. NodeDef: {{node ParallelMapDatasetV2/_16}}\n",
      "2025-05-02 20:56:07.994657: E tensorflow/core/framework/node_def_util.cc:676] NodeDef mentions attribute use_unbounded_threadpool which is not in the op definition: Op<name=MapDataset; signature=input_dataset:variant, other_arguments: -> handle:variant; attr=f:func; attr=Targuments:list(type),min=0; attr=output_types:list(type),min=1; attr=output_shapes:list(shape),min=1; attr=use_inter_op_parallelism:bool,default=true; attr=preserve_cardinality:bool,default=false; attr=force_synchronous:bool,default=false; attr=metadata:string,default=\"\"> This may be expected if your graph generating binary is newer  than this binary. Unknown attributes will be ignored. NodeDef: {{node ParallelMapDatasetV2/_16}}\n",
      "2025-05-02 20:58:54.286348: E tensorflow/core/framework/node_def_util.cc:676] NodeDef mentions attribute use_unbounded_threadpool which is not in the op definition: Op<name=MapDataset; signature=input_dataset:variant, other_arguments: -> handle:variant; attr=f:func; attr=Targuments:list(type),min=0; attr=output_types:list(type),min=1; attr=output_shapes:list(shape),min=1; attr=use_inter_op_parallelism:bool,default=true; attr=preserve_cardinality:bool,default=false; attr=force_synchronous:bool,default=false; attr=metadata:string,default=\"\"> This may be expected if your graph generating binary is newer  than this binary. Unknown attributes will be ignored. NodeDef: {{node ParallelMapDatasetV2/_14}}\n"
     ]
    },
    {
     "name": "stdout",
     "output_type": "stream",
     "text": [
      "--- Fold 3 - root_mean_squared_error: 0.0618 - Time: 1162.40 s\n"
     ]
    },
    {
     "name": "stderr",
     "output_type": "stream",
     "text": [
      "2025-05-02 20:58:59.590904: E tensorflow/core/framework/node_def_util.cc:676] NodeDef mentions attribute use_unbounded_threadpool which is not in the op definition: Op<name=MapDataset; signature=input_dataset:variant, other_arguments: -> handle:variant; attr=f:func; attr=Targuments:list(type),min=0; attr=output_types:list(type),min=1; attr=output_shapes:list(shape),min=1; attr=use_inter_op_parallelism:bool,default=true; attr=preserve_cardinality:bool,default=false; attr=force_synchronous:bool,default=false; attr=metadata:string,default=\"\"> This may be expected if your graph generating binary is newer  than this binary. Unknown attributes will be ignored. NodeDef: {{node ParallelMapDatasetV2/_16}}\n",
      "2025-05-02 21:02:06.528627: E tensorflow/core/framework/node_def_util.cc:676] NodeDef mentions attribute use_unbounded_threadpool which is not in the op definition: Op<name=MapDataset; signature=input_dataset:variant, other_arguments: -> handle:variant; attr=f:func; attr=Targuments:list(type),min=0; attr=output_types:list(type),min=1; attr=output_shapes:list(shape),min=1; attr=use_inter_op_parallelism:bool,default=true; attr=preserve_cardinality:bool,default=false; attr=force_synchronous:bool,default=false; attr=metadata:string,default=\"\"> This may be expected if your graph generating binary is newer  than this binary. Unknown attributes will be ignored. NodeDef: {{node ParallelMapDatasetV2/_16}}\n",
      "2025-05-02 21:04:42.902521: E tensorflow/core/framework/node_def_util.cc:676] NodeDef mentions attribute use_unbounded_threadpool which is not in the op definition: Op<name=MapDataset; signature=input_dataset:variant, other_arguments: -> handle:variant; attr=f:func; attr=Targuments:list(type),min=0; attr=output_types:list(type),min=1; attr=output_shapes:list(shape),min=1; attr=use_inter_op_parallelism:bool,default=true; attr=preserve_cardinality:bool,default=false; attr=force_synchronous:bool,default=false; attr=metadata:string,default=\"\"> This may be expected if your graph generating binary is newer  than this binary. Unknown attributes will be ignored. NodeDef: {{node ParallelMapDatasetV2/_16}}\n",
      "2025-05-02 21:04:47.957234: E tensorflow/core/framework/node_def_util.cc:676] NodeDef mentions attribute use_unbounded_threadpool which is not in the op definition: Op<name=MapDataset; signature=input_dataset:variant, other_arguments: -> handle:variant; attr=f:func; attr=Targuments:list(type),min=0; attr=output_types:list(type),min=1; attr=output_shapes:list(shape),min=1; attr=use_inter_op_parallelism:bool,default=true; attr=preserve_cardinality:bool,default=false; attr=force_synchronous:bool,default=false; attr=metadata:string,default=\"\"> This may be expected if your graph generating binary is newer  than this binary. Unknown attributes will be ignored. NodeDef: {{node ParallelMapDatasetV2/_16}}\n",
      "2025-05-02 21:07:26.430167: E tensorflow/core/framework/node_def_util.cc:676] NodeDef mentions attribute use_unbounded_threadpool which is not in the op definition: Op<name=MapDataset; signature=input_dataset:variant, other_arguments: -> handle:variant; attr=f:func; attr=Targuments:list(type),min=0; attr=output_types:list(type),min=1; attr=output_shapes:list(shape),min=1; attr=use_inter_op_parallelism:bool,default=true; attr=preserve_cardinality:bool,default=false; attr=force_synchronous:bool,default=false; attr=metadata:string,default=\"\"> This may be expected if your graph generating binary is newer  than this binary. Unknown attributes will be ignored. NodeDef: {{node ParallelMapDatasetV2/_16}}\n",
      "2025-05-02 21:07:31.551212: E tensorflow/core/framework/node_def_util.cc:676] NodeDef mentions attribute use_unbounded_threadpool which is not in the op definition: Op<name=MapDataset; signature=input_dataset:variant, other_arguments: -> handle:variant; attr=f:func; attr=Targuments:list(type),min=0; attr=output_types:list(type),min=1; attr=output_shapes:list(shape),min=1; attr=use_inter_op_parallelism:bool,default=true; attr=preserve_cardinality:bool,default=false; attr=force_synchronous:bool,default=false; attr=metadata:string,default=\"\"> This may be expected if your graph generating binary is newer  than this binary. Unknown attributes will be ignored. NodeDef: {{node ParallelMapDatasetV2/_16}}\n",
      "2025-05-02 21:10:02.518739: E tensorflow/core/framework/node_def_util.cc:676] NodeDef mentions attribute use_unbounded_threadpool which is not in the op definition: Op<name=MapDataset; signature=input_dataset:variant, other_arguments: -> handle:variant; attr=f:func; attr=Targuments:list(type),min=0; attr=output_types:list(type),min=1; attr=output_shapes:list(shape),min=1; attr=use_inter_op_parallelism:bool,default=true; attr=preserve_cardinality:bool,default=false; attr=force_synchronous:bool,default=false; attr=metadata:string,default=\"\"> This may be expected if your graph generating binary is newer  than this binary. Unknown attributes will be ignored. NodeDef: {{node ParallelMapDatasetV2/_16}}\n",
      "2025-05-02 21:12:15.767445: E tensorflow/core/framework/node_def_util.cc:676] NodeDef mentions attribute use_unbounded_threadpool which is not in the op definition: Op<name=MapDataset; signature=input_dataset:variant, other_arguments: -> handle:variant; attr=f:func; attr=Targuments:list(type),min=0; attr=output_types:list(type),min=1; attr=output_shapes:list(shape),min=1; attr=use_inter_op_parallelism:bool,default=true; attr=preserve_cardinality:bool,default=false; attr=force_synchronous:bool,default=false; attr=metadata:string,default=\"\"> This may be expected if your graph generating binary is newer  than this binary. Unknown attributes will be ignored. NodeDef: {{node ParallelMapDatasetV2/_14}}\n"
     ]
    },
    {
     "name": "stdout",
     "output_type": "stream",
     "text": [
      "--- Fold 4 - root_mean_squared_error: 0.0607 - Time: 800.91 s\n",
      "\n",
      "------ Overall root_mean_squared_error: 0.0614 - Mean root_mean_squared_error: 0.0614 ± 0.0005 - Time: 5287.58 s\n"
     ]
    },
    {
     "name": "stderr",
     "output_type": "stream",
     "text": [
      "2025-05-02 21:12:21.115460: E tensorflow/core/framework/node_def_util.cc:676] NodeDef mentions attribute use_unbounded_threadpool which is not in the op definition: Op<name=MapDataset; signature=input_dataset:variant, other_arguments: -> handle:variant; attr=f:func; attr=Targuments:list(type),min=0; attr=output_types:list(type),min=1; attr=output_shapes:list(shape),min=1; attr=use_inter_op_parallelism:bool,default=true; attr=preserve_cardinality:bool,default=false; attr=force_synchronous:bool,default=false; attr=metadata:string,default=\"\"> This may be expected if your graph generating binary is newer  than this binary. Unknown attributes will be ignored. NodeDef: {{node ParallelMapDatasetV2/_14}}\n",
      "2025-05-02 21:12:26.619936: E tensorflow/core/framework/node_def_util.cc:676] NodeDef mentions attribute use_unbounded_threadpool which is not in the op definition: Op<name=MapDataset; signature=input_dataset:variant, other_arguments: -> handle:variant; attr=f:func; attr=Targuments:list(type),min=0; attr=output_types:list(type),min=1; attr=output_shapes:list(shape),min=1; attr=use_inter_op_parallelism:bool,default=true; attr=preserve_cardinality:bool,default=false; attr=force_synchronous:bool,default=false; attr=metadata:string,default=\"\"> This may be expected if your graph generating binary is newer  than this binary. Unknown attributes will be ignored. NodeDef: {{node ParallelMapDatasetV2/_14}}\n",
      "2025-05-02 21:12:31.748658: E tensorflow/core/framework/node_def_util.cc:676] NodeDef mentions attribute use_unbounded_threadpool which is not in the op definition: Op<name=MapDataset; signature=input_dataset:variant, other_arguments: -> handle:variant; attr=f:func; attr=Targuments:list(type),min=0; attr=output_types:list(type),min=1; attr=output_shapes:list(shape),min=1; attr=use_inter_op_parallelism:bool,default=true; attr=preserve_cardinality:bool,default=false; attr=force_synchronous:bool,default=false; attr=metadata:string,default=\"\"> This may be expected if your graph generating binary is newer  than this binary. Unknown attributes will be ignored. NodeDef: {{node ParallelMapDatasetV2/_14}}\n",
      "2025-05-02 21:12:37.015428: E tensorflow/core/framework/node_def_util.cc:676] NodeDef mentions attribute use_unbounded_threadpool which is not in the op definition: Op<name=MapDataset; signature=input_dataset:variant, other_arguments: -> handle:variant; attr=f:func; attr=Targuments:list(type),min=0; attr=output_types:list(type),min=1; attr=output_shapes:list(shape),min=1; attr=use_inter_op_parallelism:bool,default=true; attr=preserve_cardinality:bool,default=false; attr=force_synchronous:bool,default=false; attr=metadata:string,default=\"\"> This may be expected if your graph generating binary is newer  than this binary. Unknown attributes will be ignored. NodeDef: {{node ParallelMapDatasetV2/_14}}\n",
      "2025-05-02 21:12:42.240008: E tensorflow/core/framework/node_def_util.cc:676] NodeDef mentions attribute use_unbounded_threadpool which is not in the op definition: Op<name=MapDataset; signature=input_dataset:variant, other_arguments: -> handle:variant; attr=f:func; attr=Targuments:list(type),min=0; attr=output_types:list(type),min=1; attr=output_shapes:list(shape),min=1; attr=use_inter_op_parallelism:bool,default=true; attr=preserve_cardinality:bool,default=false; attr=force_synchronous:bool,default=false; attr=metadata:string,default=\"\"> This may be expected if your graph generating binary is newer  than this binary. Unknown attributes will be ignored. NodeDef: {{node ParallelMapDatasetV2/_14}}\n",
      "2025-05-02 21:12:48.423037: E tensorflow/core/framework/node_def_util.cc:676] NodeDef mentions attribute use_unbounded_threadpool which is not in the op definition: Op<name=MapDataset; signature=input_dataset:variant, other_arguments: -> handle:variant; attr=f:func; attr=Targuments:list(type),min=0; attr=output_types:list(type),min=1; attr=output_shapes:list(shape),min=1; attr=use_inter_op_parallelism:bool,default=true; attr=preserve_cardinality:bool,default=false; attr=force_synchronous:bool,default=false; attr=metadata:string,default=\"\"> This may be expected if your graph generating binary is newer  than this binary. Unknown attributes will be ignored. NodeDef: {{node ParallelMapDatasetV2/_14}}\n"
     ]
    }
   ],
   "source": [
    "nn_trainer = Trainer(\n",
    "    nn_bag,\n",
    "    cv=CFG.cv,\n",
    "    metric=root_mean_squared_error,\n",
    "    task=\"regression\"\n",
    ")\n",
    "\n",
    "nn_trainer.fit(X, y, extra_X=X_original, extra_y=y_original)\n",
    "\n",
    "scores[\"KerasANN\"] = nn_trainer.fold_scores\n",
    "oof_preds[\"KerasANN\"] = nn_trainer.oof_preds\n",
    "test_preds[\"KerasANN\"] = nn_trainer.predict(X_test)"
   ]
  },
  {
   "cell_type": "markdown",
   "id": "4f10bfda",
   "metadata": {
    "papermill": {
     "duration": 0.018153,
     "end_time": "2025-05-02T21:12:53.230676",
     "exception": false,
     "start_time": "2025-05-02T21:12:53.212523",
     "status": "completed"
    },
    "tags": []
   },
   "source": [
    "# Ensembling with Ridge"
   ]
  },
  {
   "cell_type": "code",
   "execution_count": 25,
   "id": "92a1b622",
   "metadata": {
    "_kg_hide-input": true,
    "execution": {
     "iopub.execute_input": "2025-05-02T21:12:53.269200Z",
     "iopub.status.busy": "2025-05-02T21:12:53.268883Z",
     "iopub.status.idle": "2025-05-02T21:12:53.277493Z",
     "shell.execute_reply": "2025-05-02T21:12:53.276175Z"
    },
    "papermill": {
     "duration": 0.030521,
     "end_time": "2025-05-02T21:12:53.279120",
     "exception": false,
     "start_time": "2025-05-02T21:12:53.248599",
     "status": "completed"
    },
    "tags": []
   },
   "outputs": [],
   "source": [
    "def plot_weights(weights, title):\n",
    "    sorted_indices = np.argsort(weights[0])[::-1]\n",
    "    sorted_coeffs = np.array(weights[0])[sorted_indices]\n",
    "    sorted_model_names = np.array(list(oof_preds.keys()))[sorted_indices]\n",
    "\n",
    "    plt.figure(figsize=(10, weights.shape[1] * 0.5))\n",
    "    ax = sns.barplot(x=sorted_coeffs, y=sorted_model_names, palette=\"RdYlGn_r\")\n",
    "\n",
    "    for i, (value, name) in enumerate(zip(sorted_coeffs, sorted_model_names)):\n",
    "        if value >= 0:\n",
    "            ax.text(value, i, f\"{value:.3f}\", va=\"center\", ha=\"left\", color=\"black\")\n",
    "        else:\n",
    "            ax.text(value, i, f\"{value:.3f}\", va=\"center\", ha=\"right\", color=\"black\")\n",
    "\n",
    "    xlim = ax.get_xlim()\n",
    "    ax.set_xlim(xlim[0] - 0.1 * abs(xlim[0]), xlim[1] + 0.1 * abs(xlim[1]))\n",
    "\n",
    "    plt.title(title)\n",
    "    plt.xlabel(\"\")\n",
    "    plt.ylabel(\"\")\n",
    "    plt.tight_layout()\n",
    "    plt.show()"
   ]
  },
  {
   "cell_type": "code",
   "execution_count": 26,
   "id": "16db574c",
   "metadata": {
    "execution": {
     "iopub.execute_input": "2025-05-02T21:12:53.316948Z",
     "iopub.status.busy": "2025-05-02T21:12:53.316605Z",
     "iopub.status.idle": "2025-05-02T21:12:53.373842Z",
     "shell.execute_reply": "2025-05-02T21:12:53.372691Z"
    },
    "papermill": {
     "duration": 0.0786,
     "end_time": "2025-05-02T21:12:53.375981",
     "exception": false,
     "start_time": "2025-05-02T21:12:53.297381",
     "status": "completed"
    },
    "tags": []
   },
   "outputs": [],
   "source": [
    "X = pd.DataFrame(oof_preds)\n",
    "X_test = pd.DataFrame(test_preds)"
   ]
  },
  {
   "cell_type": "code",
   "execution_count": 27,
   "id": "9205a7ac",
   "metadata": {
    "_kg_hide-output": true,
    "execution": {
     "iopub.execute_input": "2025-05-02T21:12:53.414915Z",
     "iopub.status.busy": "2025-05-02T21:12:53.414528Z",
     "iopub.status.idle": "2025-05-02T21:31:52.651405Z",
     "shell.execute_reply": "2025-05-02T21:31:52.650539Z"
    },
    "papermill": {
     "duration": 1139.258961,
     "end_time": "2025-05-02T21:31:52.653238",
     "exception": false,
     "start_time": "2025-05-02T21:12:53.394277",
     "status": "completed"
    },
    "scrolled": true,
    "tags": []
   },
   "outputs": [
    {
     "name": "stderr",
     "output_type": "stream",
     "text": [
      "[I 2025-05-02 21:12:53,420] A new study created in memory with name: no-name-5cafb2cb-07c3-4ee2-b13f-2f0d4117d0b3\n",
      "[I 2025-05-02 21:13:10,646] Trial 1 finished with value: 0.05901133988584404 and parameters: {'alpha': 4.609939767474504, 'tol': 0.004917207165210263}. Best is trial 1 with value: 0.05901133988584404.\n",
      "[I 2025-05-02 21:13:11,551] Trial 2 finished with value: 0.0590106892198641 and parameters: {'alpha': 1.3681296320864456, 'tol': 0.00021343344336061465}. Best is trial 2 with value: 0.0590106892198641.\n",
      "[I 2025-05-02 21:13:11,553] Trial 0 finished with value: 0.059014186686163435 and parameters: {'alpha': 8.692102697, 'tol': 0.003313771117512333}. Best is trial 2 with value: 0.0590106892198641.\n",
      "[I 2025-05-02 21:13:11,559] Trial 3 finished with value: 0.05901088530337238 and parameters: {'alpha': 3.5096113746747806, 'tol': 0.009384077479646265}. Best is trial 2 with value: 0.0590106892198641.\n",
      "[I 2025-05-02 21:13:28,742] Trial 5 finished with value: 0.059011520842102386 and parameters: {'alpha': 4.960311322056642, 'tol': 0.0024136315207232474}. Best is trial 2 with value: 0.0590106892198641.\n",
      "[I 2025-05-02 21:13:28,749] Trial 4 finished with value: 0.05901408444453068 and parameters: {'alpha': 8.57115959404976, 'tol': 0.006411850740626641}. Best is trial 2 with value: 0.0590106892198641.\n",
      "[I 2025-05-02 21:13:28,758] Trial 7 finished with value: 0.059014168748725934 and parameters: {'alpha': 8.670953007102861, 'tol': 0.005262057121477453}. Best is trial 2 with value: 0.0590106892198641.\n",
      "[I 2025-05-02 21:13:29,734] Trial 6 finished with value: 0.05901215501352934 and parameters: {'alpha': 6.019979236425045, 'tol': 0.007345768563412754}. Best is trial 2 with value: 0.0590106892198641.\n",
      "[I 2025-05-02 21:13:46,997] Trial 10 finished with value: 0.05901088400934233 and parameters: {'alpha': 0.7354412815848499, 'tol': 0.004050056708695784}. Best is trial 2 with value: 0.0590106892198641.\n",
      "[I 2025-05-02 21:13:46,998] Trial 9 finished with value: 0.059010762435584056 and parameters: {'alpha': 3.0786301603002917, 'tol': 0.0060071507599702536}. Best is trial 2 with value: 0.0590106892198641.\n",
      "[I 2025-05-02 21:13:47,941] Trial 8 finished with value: 0.059011205204757625 and parameters: {'alpha': 0.15672340966647713, 'tol': 0.006736693420790369}. Best is trial 2 with value: 0.0590106892198641.\n",
      "[I 2025-05-02 21:13:48,030] Trial 11 finished with value: 0.05901080807720417 and parameters: {'alpha': 0.9304664319107503, 'tol': 0.0071399059138729706}. Best is trial 2 with value: 0.0590106892198641.\n",
      "[I 2025-05-02 21:14:04,317] Trial 15 finished with value: 0.059010629648679036 and parameters: {'alpha': 2.158270447490141, 'tol': 0.00027751799472452374}. Best is trial 15 with value: 0.059010629648679036.\n",
      "[I 2025-05-02 21:14:05,210] Trial 12 finished with value: 0.059011132903633655 and parameters: {'alpha': 0.26564848313727474, 'tol': 7.605503060104416e-05}. Best is trial 15 with value: 0.059010629648679036.\n",
      "[I 2025-05-02 21:14:05,239] Trial 13 finished with value: 0.059010673820800795 and parameters: {'alpha': 1.4528329890871303, 'tol': 6.833300640487572e-05}. Best is trial 15 with value: 0.059010629648679036.\n",
      "[I 2025-05-02 21:14:06,225] Trial 14 finished with value: 0.059010628348595176 and parameters: {'alpha': 1.9342173376462117, 'tol': 0.0001839156794610824}. Best is trial 14 with value: 0.059010628348595176.\n",
      "[I 2025-05-02 21:14:22,801] Trial 18 finished with value: 0.05901140089519178 and parameters: {'alpha': 4.731526730825468, 'tol': 9.15326182120569e-05}. Best is trial 14 with value: 0.059010628348595176.\n",
      "[I 2025-05-02 21:14:23,818] Trial 16 finished with value: 0.0590110460042578 and parameters: {'alpha': 3.953153802000468, 'tol': 0.00036062302963824674}. Best is trial 14 with value: 0.059010628348595176.\n",
      "[I 2025-05-02 21:14:23,824] Trial 19 finished with value: 0.059011472598061734 and parameters: {'alpha': 4.86979290362153, 'tol': 0.0008750205413940671}. Best is trial 14 with value: 0.059010628348595176.\n",
      "[I 2025-05-02 21:14:23,875] Trial 17 finished with value: 0.05901146038852394 and parameters: {'alpha': 4.846575890542974, 'tol': 0.00028161388401454386}. Best is trial 14 with value: 0.059010628348595176.\n",
      "[I 2025-05-02 21:14:41,273] Trial 21 finished with value: 0.05901379003745004 and parameters: {'alpha': 8.217254215887303, 'tol': 0.0001309537518779007}. Best is trial 14 with value: 0.059010628348595176.\n",
      "[I 2025-05-02 21:14:41,279] Trial 22 finished with value: 0.05901071671945063 and parameters: {'alpha': 1.24134928962348, 'tol': 0.0033179299078084806}. Best is trial 14 with value: 0.059010628348595176.\n",
      "[I 2025-05-02 21:14:41,297] Trial 20 finished with value: 0.05901065561483809 and parameters: {'alpha': 2.4939338876799164, 'tol': 0.002290793834071584}. Best is trial 14 with value: 0.059010628348595176.\n",
      "[I 2025-05-02 21:14:42,317] Trial 23 finished with value: 0.059010986944680335 and parameters: {'alpha': 3.8003010503350003, 'tol': 0.0029540547384899803}. Best is trial 14 with value: 0.059010628348595176.\n",
      "[I 2025-05-02 21:15:00,919] Trial 24 finished with value: 0.05901064833858439 and parameters: {'alpha': 2.427888907272611, 'tol': 0.0024243521740196327}. Best is trial 14 with value: 0.059010628348595176.\n",
      "[I 2025-05-02 21:15:01,912] Trial 26 finished with value: 0.05901068153877528 and parameters: {'alpha': 2.6799922104861453, 'tol': 0.0025588357647095736}. Best is trial 14 with value: 0.059010628348595176.\n",
      "[I 2025-05-02 21:15:01,914] Trial 27 finished with value: 0.059010647794790955 and parameters: {'alpha': 2.4225421941953797, 'tol': 0.002606106177478678}. Best is trial 14 with value: 0.059010628348595176.\n",
      "[I 2025-05-02 21:15:01,934] Trial 25 finished with value: 0.059010628999411466 and parameters: {'alpha': 2.138504501333638, 'tol': 0.001191785467784297}. Best is trial 14 with value: 0.059010628348595176.\n",
      "[I 2025-05-02 21:15:19,358] Trial 28 finished with value: 0.05901069341371066 and parameters: {'alpha': 2.750626110762001, 'tol': 0.001649339758290423}. Best is trial 14 with value: 0.059010628348595176.\n",
      "[I 2025-05-02 21:15:19,366] Trial 30 finished with value: 0.059011098174179544 and parameters: {'alpha': 0.32132691305501027, 'tol': 0.001724912712663312}. Best is trial 14 with value: 0.059010628348595176.\n",
      "[I 2025-05-02 21:15:20,370] Trial 29 finished with value: 0.05901076520909471 and parameters: {'alpha': 3.0899463608330833, 'tol': 0.00010189044391616063}. Best is trial 14 with value: 0.059010628348595176.\n",
      "[I 2025-05-02 21:15:20,380] Trial 31 finished with value: 0.059010776339417766 and parameters: {'alpha': 3.1343635542368555, 'tol': 3.465379714899454e-05}. Best is trial 14 with value: 0.059010628348595176.\n",
      "[I 2025-05-02 21:15:35,848] Trial 33 finished with value: 0.05901067391707685 and parameters: {'alpha': 2.6307736385297447, 'tol': 0.00047812923676607885}. Best is trial 14 with value: 0.059010628348595176.\n",
      "[I 2025-05-02 21:15:37,717] Trial 32 finished with value: 0.05901070213280523 and parameters: {'alpha': 2.7987820696421037, 'tol': 0.000154895061358796}. Best is trial 14 with value: 0.059010628348595176.\n",
      "[I 2025-05-02 21:15:37,787] Trial 34 finished with value: 0.059010644625250026 and parameters: {'alpha': 1.67108426959642, 'tol': 0.0021435624086256783}. Best is trial 14 with value: 0.059010628348595176.\n",
      "[I 2025-05-02 21:15:38,789] Trial 35 finished with value: 0.059010676431885976 and parameters: {'alpha': 1.4375207798475835, 'tol': 0.001618607654347252}. Best is trial 14 with value: 0.059010628348595176.\n",
      "[I 2025-05-02 21:15:55,559] Trial 36 finished with value: 0.059010736902872736 and parameters: {'alpha': 1.1613634519031615, 'tol': 0.00202716659885507}. Best is trial 14 with value: 0.059010628348595176.\n",
      "[I 2025-05-02 21:15:56,482] Trial 37 finished with value: 0.05901067466171962 and parameters: {'alpha': 1.447852962156166, 'tol': 0.0012511083359188317}. Best is trial 14 with value: 0.059010628348595176.\n",
      "[I 2025-05-02 21:15:57,516] Trial 38 finished with value: 0.05901085602176464 and parameters: {'alpha': 0.8029421742122889, 'tol': 0.0018731115642919907}. Best is trial 14 with value: 0.059010628348595176.\n",
      "[I 2025-05-02 21:15:58,450] Trial 39 finished with value: 0.059014660872852544 and parameters: {'alpha': 9.241474220279935, 'tol': 0.009473965090918739}. Best is trial 14 with value: 0.059010628348595176.\n",
      "[I 2025-05-02 21:16:15,319] Trial 41 finished with value: 0.059010663883741314 and parameters: {'alpha': 1.5157200407476266, 'tol': 0.009815645756076838}. Best is trial 14 with value: 0.059010628348595176.\n",
      "[I 2025-05-02 21:16:15,338] Trial 40 finished with value: 0.05901073463316877 and parameters: {'alpha': 1.1699334638235288, 'tol': 0.001689641998692727}. Best is trial 14 with value: 0.059010628348595176.\n",
      "[I 2025-05-02 21:16:16,387] Trial 43 finished with value: 0.05901066489640426 and parameters: {'alpha': 1.5089286431957207, 'tol': 0.00010151969183154908}. Best is trial 14 with value: 0.059010628348595176.\n",
      "[I 2025-05-02 21:16:17,252] Trial 42 finished with value: 0.059010695134068536 and parameters: {'alpha': 1.3386406600992986, 'tol': 0.0005338879642044867}. Best is trial 14 with value: 0.059010628348595176.\n",
      "[I 2025-05-02 21:16:33,128] Trial 44 finished with value: 0.05901063801329859 and parameters: {'alpha': 2.3108545724950744, 'tol': 0.002934717376164651}. Best is trial 14 with value: 0.059010628348595176.\n",
      "[I 2025-05-02 21:16:34,029] Trial 45 finished with value: 0.059010688120077 and parameters: {'alpha': 2.719939001235502, 'tol': 0.003497905161074442}. Best is trial 14 with value: 0.059010628348595176.\n",
      "[I 2025-05-02 21:16:35,061] Trial 46 finished with value: 0.05901066898586099 and parameters: {'alpha': 2.5968868795718536, 'tol': 0.002729471341542062}. Best is trial 14 with value: 0.059010628348595176.\n",
      "[I 2025-05-02 21:16:36,000] Trial 47 finished with value: 0.05901185123037767 and parameters: {'alpha': 5.5375147371894675, 'tol': 0.004728478468037775}. Best is trial 14 with value: 0.059010628348595176.\n",
      "[I 2025-05-02 21:16:52,018] Trial 48 finished with value: 0.059011920084631825 and parameters: {'alpha': 5.6502573510700715, 'tol': 0.00944008988306603}. Best is trial 14 with value: 0.059010628348595176.\n",
      "[I 2025-05-02 21:16:53,068] Trial 49 finished with value: 0.05901438985303176 and parameters: {'alpha': 8.92970389093037, 'tol': 0.003135718189827351}. Best is trial 14 with value: 0.059010628348595176.\n",
      "[I 2025-05-02 21:16:54,090] Trial 51 finished with value: 0.05901062794727938 and parameters: {'alpha': 2.095965478024171, 'tol': 0.004962843498861462}. Best is trial 51 with value: 0.05901062794727938.\n",
      "[I 2025-05-02 21:16:55,910] Trial 50 finished with value: 0.05901230979070435 and parameters: {'alpha': 6.252847266245839, 'tol': 0.003709303802420484}. Best is trial 51 with value: 0.05901062794727938.\n",
      "[I 2025-05-02 21:17:11,067] Trial 52 finished with value: 0.059012829373508366 and parameters: {'alpha': 6.987540912032212, 'tol': 0.0024991314587223825}. Best is trial 51 with value: 0.05901062794727938.\n",
      "[I 2025-05-02 21:17:12,078] Trial 53 finished with value: 0.05901063018860686 and parameters: {'alpha': 1.877390942997462, 'tol': 0.0052419277673828235}. Best is trial 51 with value: 0.05901062794727938.\n",
      "[I 2025-05-02 21:17:13,109] Trial 54 finished with value: 0.05901065298646265 and parameters: {'alpha': 2.4711328897907996, 'tol': 0.005623032206666399}. Best is trial 51 with value: 0.05901062794727938.\n",
      "[I 2025-05-02 21:17:14,865] Trial 55 finished with value: 0.05901073319440325 and parameters: {'alpha': 1.1754173210106746, 'tol': 0.0052911125119047536}. Best is trial 51 with value: 0.05901062794727938.\n",
      "[I 2025-05-02 21:17:28,886] Trial 56 finished with value: 0.05901082263871284 and parameters: {'alpha': 0.8899082039350823, 'tol': 0.00518973013572886}. Best is trial 51 with value: 0.05901062794727938.\n",
      "[I 2025-05-02 21:17:29,881] Trial 57 finished with value: 0.059010648324427414 and parameters: {'alpha': 1.636035536604964, 'tol': 0.005545432094735423}. Best is trial 51 with value: 0.05901062794727938.\n",
      "[I 2025-05-02 21:17:31,781] Trial 58 finished with value: 0.05901097415566847 and parameters: {'alpha': 0.5430310975000916, 'tol': 0.0059262236072791805}. Best is trial 51 with value: 0.05901062794727938.\n",
      "[I 2025-05-02 21:17:31,809] Trial 59 finished with value: 0.05901070395772298 and parameters: {'alpha': 2.8085258564838136, 'tol': 0.0048628641866548744}. Best is trial 51 with value: 0.05901062794727938.\n",
      "[I 2025-05-02 21:17:46,843] Trial 61 finished with value: 0.059010798084658006 and parameters: {'alpha': 3.217058124351533, 'tol': 0.00565973571392535}. Best is trial 51 with value: 0.05901062794727938.\n",
      "[I 2025-05-02 21:17:47,716] Trial 60 finished with value: 0.059010889064827196 and parameters: {'alpha': 3.521161684838082, 'tol': 0.0049305741577789245}. Best is trial 51 with value: 0.05901062794727938.\n",
      "[I 2025-05-02 21:17:48,809] Trial 62 finished with value: 0.05901102643586599 and parameters: {'alpha': 3.9035689249058283, 'tol': 0.006935020100190413}. Best is trial 51 with value: 0.05901062794727938.\n",
      "[I 2025-05-02 21:17:49,774] Trial 63 finished with value: 0.05901070000200579 and parameters: {'alpha': 2.7872648797785025, 'tol': 0.007266039109409768}. Best is trial 51 with value: 0.05901062794727938.\n",
      "[I 2025-05-02 21:18:06,492] Trial 65 finished with value: 0.05901066149314826 and parameters: {'alpha': 1.5321554720097643, 'tol': 0.00383838354051509}. Best is trial 51 with value: 0.05901062794727938.\n",
      "[I 2025-05-02 21:18:06,510] Trial 64 finished with value: 0.05901068917065164 and parameters: {'alpha': 2.726125167959208, 'tol': 0.00394819477843506}. Best is trial 51 with value: 0.05901062794727938.\n",
      "[I 2025-05-02 21:18:08,628] Trial 67 finished with value: 0.05901064774695018 and parameters: {'alpha': 1.6412832035612994, 'tol': 0.003317934134609348}. Best is trial 51 with value: 0.05901062794727938.\n",
      "[I 2025-05-02 21:18:08,646] Trial 66 finished with value: 0.0590108003946176 and parameters: {'alpha': 0.9526049754894208, 'tol': 0.0036411101419110883}. Best is trial 51 with value: 0.05901062794727938.\n",
      "[I 2025-05-02 21:18:22,773] Trial 68 finished with value: 0.05901066320744586 and parameters: {'alpha': 2.5546685690398334, 'tol': 0.001783208363145676}. Best is trial 51 with value: 0.05901062794727938.\n",
      "[I 2025-05-02 21:18:24,648] Trial 69 finished with value: 0.05901105819184469 and parameters: {'alpha': 3.9835510604360427, 'tol': 0.00260284650885662}. Best is trial 51 with value: 0.05901062794727938.\n",
      "[I 2025-05-02 21:18:28,368] Trial 71 finished with value: 0.059010708277675246 and parameters: {'alpha': 2.831173053812663, 'tol': 0.0016839917529949846}. Best is trial 51 with value: 0.05901062794727938.\n",
      "[I 2025-05-02 21:18:29,217] Trial 70 finished with value: 0.05901102436503552 and parameters: {'alpha': 3.898263042393924, 'tol': 0.00196912836401575}. Best is trial 51 with value: 0.05901062794727938.\n",
      "[I 2025-05-02 21:18:41,369] Trial 72 finished with value: 0.059010694762325726 and parameters: {'alpha': 1.3404526471398794, 'tol': 0.00010260747171594899}. Best is trial 51 with value: 0.05901062794727938.\n",
      "[I 2025-05-02 21:18:42,304] Trial 73 finished with value: 0.059010680469912584 and parameters: {'alpha': 2.673294862971871, 'tol': 0.00041495580720897474}. Best is trial 51 with value: 0.05901062794727938.\n",
      "[I 2025-05-02 21:18:47,202] Trial 74 finished with value: 0.059011231957222084 and parameters: {'alpha': 0.118529486285049, 'tol': 0.003664263134294563}. Best is trial 51 with value: 0.05901062794727938.\n",
      "[I 2025-05-02 21:18:48,149] Trial 75 finished with value: 0.059011234829878384 and parameters: {'alpha': 0.11449010083029654, 'tol': 0.0035534609915739506}. Best is trial 51 with value: 0.05901062794727938.\n",
      "[I 2025-05-02 21:19:00,198] Trial 76 finished with value: 0.05901073683562087 and parameters: {'alpha': 1.1616159837937432, 'tol': 0.0035297476300216596}. Best is trial 51 with value: 0.05901062794727938.\n",
      "[I 2025-05-02 21:19:02,059] Trial 77 finished with value: 0.05901073315114372 and parameters: {'alpha': 1.1755828324671054, 'tol': 0.004218398774324375}. Best is trial 51 with value: 0.05901062794727938.\n",
      "[I 2025-05-02 21:19:04,965] Trial 78 finished with value: 0.05901063934979582 and parameters: {'alpha': 2.32841556835657, 'tol': 0.00363606467559316}. Best is trial 51 with value: 0.05901062794727938.\n",
      "[I 2025-05-02 21:19:07,713] Trial 79 finished with value: 0.05901062781448415 and parameters: {'alpha': 1.959693154512372, 'tol': 0.004128724359171794}. Best is trial 79 with value: 0.05901062781448415.\n",
      "[I 2025-05-02 21:19:18,225] Trial 80 finished with value: 0.0590106361566963 and parameters: {'alpha': 1.7700438622701984, 'tol': 0.0011321308983085765}. Best is trial 79 with value: 0.05901062781448415.\n",
      "[I 2025-05-02 21:19:20,116] Trial 81 finished with value: 0.05901062780118174 and parameters: {'alpha': 2.0878915579266617, 'tol': 0.0013348049132765054}. Best is trial 81 with value: 0.05901062780118174.\n",
      "[I 2025-05-02 21:19:22,964] Trial 82 finished with value: 0.05901077242795336 and parameters: {'alpha': 3.1189295949324167, 'tol': 0.004104106696566798}. Best is trial 81 with value: 0.05901062780118174.\n",
      "[I 2025-05-02 21:19:24,858] Trial 83 finished with value: 0.059010728301710065 and parameters: {'alpha': 2.929561668142728, 'tol': 0.004195330027159194}. Best is trial 81 with value: 0.05901062780118174.\n",
      "[I 2025-05-02 21:19:35,984] Trial 84 finished with value: 0.05901069529463348 and parameters: {'alpha': 2.761252632185271, 'tol': 0.00372962104981227}. Best is trial 81 with value: 0.05901062780118174.\n",
      "[I 2025-05-02 21:19:38,733] Trial 85 finished with value: 0.059010646604460884 and parameters: {'alpha': 2.41059576380559, 'tol': 8.295297746291081e-05}. Best is trial 81 with value: 0.05901062780118174.\n",
      "[I 2025-05-02 21:19:41,646] Trial 86 finished with value: 0.05901064188619744 and parameters: {'alpha': 2.359328071529985, 'tol': 0.0004090578836308944}. Best is trial 81 with value: 0.05901062780118174.\n",
      "[I 2025-05-02 21:19:44,431] Trial 87 finished with value: 0.05901063679031609 and parameters: {'alpha': 1.7612814018404335, 'tol': 0.0012218865390197704}. Best is trial 81 with value: 0.05901062780118174.\n",
      "[I 2025-05-02 21:19:54,665] Trial 88 finished with value: 0.059010939890257894 and parameters: {'alpha': 0.6123086591675715, 'tol': 0.0001216551965401943}. Best is trial 81 with value: 0.05901062780118174.\n",
      "[I 2025-05-02 21:19:56,525] Trial 89 finished with value: 0.059011157068929405 and parameters: {'alpha': 0.22825138461794814, 'tol': 0.0007966845539005895}. Best is trial 81 with value: 0.05901062780118174.\n",
      "[I 2025-05-02 21:19:59,299] Trial 90 finished with value: 0.05901064414250915 and parameters: {'alpha': 1.6759339751903835, 'tol': 0.0009734234644311526}. Best is trial 81 with value: 0.05901062780118174.\n",
      "[I 2025-05-02 21:20:02,173] Trial 91 finished with value: 0.05901096615883367 and parameters: {'alpha': 0.5588294262399511, 'tol': 0.0005826191427608656}. Best is trial 81 with value: 0.05901062780118174.\n",
      "[I 2025-05-02 21:20:11,764] Trial 92 finished with value: 0.05901063529766668 and parameters: {'alpha': 1.7824516216684052, 'tol': 0.0011237725294391935}. Best is trial 81 with value: 0.05901062780118174.\n",
      "[I 2025-05-02 21:20:12,824] Trial 93 finished with value: 0.05901065419229622 and parameters: {'alpha': 2.4817251313099344, 'tol': 0.0011473138588164041}. Best is trial 81 with value: 0.05901062780118174.\n",
      "[I 2025-05-02 21:20:16,616] Trial 94 finished with value: 0.059010628562007936 and parameters: {'alpha': 2.1230326410326374, 'tol': 0.0016020627361287916}. Best is trial 81 with value: 0.05901062780118174.\n",
      "[I 2025-05-02 21:20:18,523] Trial 95 finished with value: 0.059010641969914665 and parameters: {'alpha': 2.3603021664602033, 'tol': 0.0010887653597105534}. Best is trial 81 with value: 0.05901062780118174.\n",
      "[I 2025-05-02 21:20:28,744] Trial 96 finished with value: 0.05901063361152907 and parameters: {'alpha': 2.2437591602528126, 'tol': 0.0013478781531652407}. Best is trial 81 with value: 0.05901062780118174.\n",
      "[I 2025-05-02 21:20:30,519] Trial 97 finished with value: 0.05901062730976505 and parameters: {'alpha': 2.0441472338209117, 'tol': 0.0012461369468099168}. Best is trial 97 with value: 0.05901062730976505.\n",
      "[I 2025-05-02 21:20:35,046] Trial 98 finished with value: 0.0590108680628805 and parameters: {'alpha': 3.455711104302368, 'tol': 0.0010631110700671331}. Best is trial 97 with value: 0.05901062730976505.\n",
      "[I 2025-05-02 21:20:37,036] Trial 99 finished with value: 0.05901079212229989 and parameters: {'alpha': 3.194876107661477, 'tol': 0.0012389597631593315}. Best is trial 97 with value: 0.05901062730976505.\n",
      "[I 2025-05-02 21:20:49,172] Trial 100 finished with value: 0.059011017591675985 and parameters: {'alpha': 3.880827238919311, 'tol': 0.0009901654107874226}. Best is trial 97 with value: 0.05901062730976505.\n",
      "[I 2025-05-02 21:20:49,191] Trial 101 finished with value: 0.05901109296265269 and parameters: {'alpha': 4.068380234501528, 'tol': 0.00047965213416579686}. Best is trial 97 with value: 0.05901062730976505.\n",
      "[I 2025-05-02 21:20:52,144] Trial 102 finished with value: 0.05901077333380747 and parameters: {'alpha': 3.122520370548565, 'tol': 0.001527273340884326}. Best is trial 97 with value: 0.05901062730976505.\n",
      "[I 2025-05-02 21:20:54,209] Trial 103 finished with value: 0.059010657509657685 and parameters: {'alpha': 2.5097509413967316, 'tol': 0.0019642252474084726}. Best is trial 97 with value: 0.05901062730976505.\n",
      "[I 2025-05-02 21:21:07,957] Trial 105 finished with value: 0.05901072385426353 and parameters: {'alpha': 1.2120486199724745, 'tol': 0.0017609323761391066}. Best is trial 97 with value: 0.05901062730976505.\n",
      "[I 2025-05-02 21:21:07,976] Trial 104 finished with value: 0.059010666979560165 and parameters: {'alpha': 1.4952545878232204, 'tol': 0.0019153813576964376}. Best is trial 97 with value: 0.05901062730976505.\n",
      "[I 2025-05-02 21:21:09,145] Trial 106 finished with value: 0.05901301732557692 and parameters: {'alpha': 7.239176138630672, 'tol': 0.0076088710873124694}. Best is trial 97 with value: 0.05901062730976505.\n",
      "[I 2025-05-02 21:21:12,925] Trial 107 finished with value: 0.05901342132160194 and parameters: {'alpha': 7.760548078092197, 'tol': 0.005857910080773934}. Best is trial 97 with value: 0.05901062730976505.\n",
      "[I 2025-05-02 21:21:24,079] Trial 109 finished with value: 0.05901067987233188 and parameters: {'alpha': 2.6695230260476546, 'tol': 5.0150487423891396e-05}. Best is trial 97 with value: 0.05901062730976505.\n",
      "[I 2025-05-02 21:21:24,980] Trial 108 finished with value: 0.05901070859233515 and parameters: {'alpha': 1.2763131888361525, 'tol': 0.0017829512363115732}. Best is trial 97 with value: 0.05901062730976505.\n",
      "[I 2025-05-02 21:21:26,982] Trial 110 finished with value: 0.05901065190263966 and parameters: {'alpha': 2.4614080159931984, 'tol': 0.00020675586199773392}. Best is trial 97 with value: 0.05901062730976505.\n",
      "[I 2025-05-02 21:21:31,613] Trial 111 finished with value: 0.05901063344714501 and parameters: {'alpha': 1.8117297818060754, 'tol': 8.762904836875533e-06}. Best is trial 97 with value: 0.05901062730976505.\n",
      "[I 2025-05-02 21:21:42,938] Trial 113 finished with value: 0.05901062866283452 and parameters: {'alpha': 2.1268024046601925, 'tol': 0.005215556074800052}. Best is trial 97 with value: 0.05901062730976505.\n",
      "[I 2025-05-02 21:21:42,955] Trial 112 finished with value: 0.05901063004999031 and parameters: {'alpha': 1.8808704632213074, 'tol': 0.00013205503390566886}. Best is trial 97 with value: 0.05901062730976505.\n",
      "[I 2025-05-02 21:21:44,947] Trial 114 finished with value: 0.05901062934008146 and parameters: {'alpha': 2.1492578831080906, 'tol': 0.0015024611426138366}. Best is trial 97 with value: 0.05901062730976505.\n",
      "[I 2025-05-02 21:21:50,580] Trial 115 finished with value: 0.059010729019279985 and parameters: {'alpha': 1.1915648465180793, 'tol': 0.00031341417434187934}. Best is trial 97 with value: 0.05901062730976505.\n",
      "[I 2025-05-02 21:21:59,966] Trial 117 finished with value: 0.05901087891002031 and parameters: {'alpha': 0.7474152994027297, 'tol': 6.5839527781753955e-06}. Best is trial 97 with value: 0.05901062730976505.\n",
      "[I 2025-05-02 21:22:00,868] Trial 116 finished with value: 0.059010627281650636 and parameters: {'alpha': 2.009935059756719, 'tol': 0.005762234004333688}. Best is trial 116 with value: 0.059010627281650636.\n",
      "[I 2025-05-02 21:22:02,040] Trial 118 finished with value: 0.05901062983533818 and parameters: {'alpha': 1.886436154519452, 'tol': 0.005076274337160909}. Best is trial 116 with value: 0.059010627281650636.\n",
      "[I 2025-05-02 21:22:08,331] Trial 119 finished with value: 0.059010630526537086 and parameters: {'alpha': 2.181157773471351, 'tol': 0.006197226084661162}. Best is trial 116 with value: 0.059010627281650636.\n",
      "[I 2025-05-02 21:22:17,687] Trial 120 finished with value: 0.05901065143375981 and parameters: {'alpha': 1.6089869918673685, 'tol': 0.005739285219820891}. Best is trial 116 with value: 0.059010627281650636.\n",
      "[I 2025-05-02 21:22:17,730] Trial 121 finished with value: 0.059010627332693064 and parameters: {'alpha': 2.048014821781351, 'tol': 0.00565762646451494}. Best is trial 116 with value: 0.059010627281650636.\n",
      "[I 2025-05-02 21:22:21,513] Trial 122 finished with value: 0.059010635051591036 and parameters: {'alpha': 1.7861298430262837, 'tol': 0.0053670184071409645}. Best is trial 116 with value: 0.059010627281650636.\n",
      "[I 2025-05-02 21:22:24,511] Trial 123 finished with value: 0.0590107900612313 and parameters: {'alpha': 0.9832659984773213, 'tol': 0.00680408607857575}. Best is trial 116 with value: 0.059010627281650636.\n",
      "[I 2025-05-02 21:22:33,074] Trial 124 finished with value: 0.05901062988958655 and parameters: {'alpha': 1.8850080493056027, 'tol': 0.006689009385877796}. Best is trial 116 with value: 0.059010627281650636.\n",
      "[I 2025-05-02 21:22:35,721] Trial 125 finished with value: 0.05901062730307499 and parameters: {'alpha': 2.0051058047092307, 'tol': 0.006452042669411253}. Best is trial 116 with value: 0.059010627281650636.\n",
      "[I 2025-05-02 21:22:37,721] Trial 126 finished with value: 0.05901062951460666 and parameters: {'alpha': 2.154429909724671, 'tol': 0.007785928334437781}. Best is trial 116 with value: 0.059010627281650636.\n",
      "[I 2025-05-02 21:22:40,625] Trial 127 finished with value: 0.059010903124741484 and parameters: {'alpha': 3.5637150605468157, 'tol': 0.00632110523900288}. Best is trial 116 with value: 0.059010627281650636.\n",
      "[I 2025-05-02 21:22:52,651] Trial 128 finished with value: 0.05901067224317215 and parameters: {'alpha': 2.6194689212539646, 'tol': 0.004979802756379791}. Best is trial 116 with value: 0.059010627281650636.\n",
      "[I 2025-05-02 21:22:52,659] Trial 129 finished with value: 0.059010693399146184 and parameters: {'alpha': 2.7505432838142214, 'tol': 0.008505499561049304}. Best is trial 116 with value: 0.059010627281650636.\n",
      "[I 2025-05-02 21:22:54,730] Trial 130 finished with value: 0.05901117209435351 and parameters: {'alpha': 0.2055158591265771, 'tol': 0.008504995897685885}. Best is trial 116 with value: 0.059010627281650636.\n",
      "[I 2025-05-02 21:22:57,564] Trial 131 finished with value: 0.059010769256431346 and parameters: {'alpha': 1.048464536546222, 'tol': 0.008540239469599253}. Best is trial 116 with value: 0.059010627281650636.\n",
      "[I 2025-05-02 21:23:07,883] Trial 133 finished with value: 0.05901068302079018 and parameters: {'alpha': 2.6891769607165754, 'tol': 0.0072284782084143}. Best is trial 116 with value: 0.059010627281650636.\n",
      "[I 2025-05-02 21:23:08,761] Trial 132 finished with value: 0.059010628666553086 and parameters: {'alpha': 2.1269388414037893, 'tol': 0.007223041647387637}. Best is trial 116 with value: 0.059010627281650636.\n",
      "[I 2025-05-02 21:23:09,915] Trial 134 finished with value: 0.05901064023361236 and parameters: {'alpha': 1.7181862768988985, 'tol': 0.0068637497518859725}. Best is trial 116 with value: 0.059010627281650636.\n",
      "[I 2025-05-02 21:23:14,629] Trial 135 finished with value: 0.05901062863277088 and parameters: {'alpha': 2.125692773556135, 'tol': 0.007685699378654139}. Best is trial 116 with value: 0.059010627281650636.\n",
      "[I 2025-05-02 21:23:25,934] Trial 136 finished with value: 0.05901063578388654 and parameters: {'alpha': 1.7753496922613035, 'tol': 0.007111957021080592}. Best is trial 116 with value: 0.059010627281650636.\n",
      "[I 2025-05-02 21:23:25,939] Trial 137 finished with value: 0.05901062728014136 and parameters: {'alpha': 2.0103398456979886, 'tol': 0.00795503090942919}. Best is trial 137 with value: 0.05901062728014136.\n",
      "[I 2025-05-02 21:23:28,864] Trial 138 finished with value: 0.05901063097846295 and parameters: {'alpha': 2.1917523507879713, 'tol': 0.006744413121560103}. Best is trial 137 with value: 0.05901062728014136.\n",
      "[I 2025-05-02 21:23:31,743] Trial 139 finished with value: 0.0590111575724951 and parameters: {'alpha': 4.219408037451034, 'tol': 0.00789220097874188}. Best is trial 137 with value: 0.05901062728014136.\n",
      "[I 2025-05-02 21:23:42,396] Trial 140 finished with value: 0.0590110264617215 and parameters: {'alpha': 3.9036350988904713, 'tol': 0.007426633708008494}. Best is trial 137 with value: 0.05901062728014136.\n",
      "[I 2025-05-02 21:23:44,199] Trial 141 finished with value: 0.0590109372063907 and parameters: {'alpha': 3.663164910787173, 'tol': 0.007208340591535793}. Best is trial 137 with value: 0.05901062728014136.\n",
      "[I 2025-05-02 21:23:46,259] Trial 142 finished with value: 0.05901070180968575 and parameters: {'alpha': 2.7970454358300536, 'tol': 0.008580219843727989}. Best is trial 137 with value: 0.05901062728014136.\n",
      "[I 2025-05-02 21:23:49,130] Trial 143 finished with value: 0.05901064951849258 and parameters: {'alpha': 2.439267024095748, 'tol': 0.008393862215218362}. Best is trial 137 with value: 0.05901062728014136.\n",
      "[I 2025-05-02 21:24:00,425] Trial 144 finished with value: 0.059010646013152514 and parameters: {'alpha': 1.657517953786985, 'tol': 0.00838708885243314}. Best is trial 137 with value: 0.05901062728014136.\n",
      "[I 2025-05-02 21:24:01,296] Trial 145 finished with value: 0.059010631527876105 and parameters: {'alpha': 2.2038132685499785, 'tol': 0.009221568193386286}. Best is trial 137 with value: 0.05901062728014136.\n",
      "[I 2025-05-02 21:24:03,384] Trial 146 finished with value: 0.059010656609834185 and parameters: {'alpha': 2.502300380360181, 'tol': 0.005913183605655774}. Best is trial 137 with value: 0.05901062728014136.\n",
      "[I 2025-05-02 21:24:07,160] Trial 147 finished with value: 0.05901090581347123 and parameters: {'alpha': 3.571745396934847, 'tol': 0.005391132507008612}. Best is trial 137 with value: 0.05901062728014136.\n",
      "[I 2025-05-02 21:24:20,438] Trial 149 finished with value: 0.0590106322472414 and parameters: {'alpha': 1.8331890877179375, 'tol': 0.005797290269977031}. Best is trial 137 with value: 0.05901062728014136.\n",
      "[I 2025-05-02 21:24:20,441] Trial 148 finished with value: 0.05901067748932685 and parameters: {'alpha': 2.6542780753101485, 'tol': 0.005904292909914717}. Best is trial 137 with value: 0.05901062728014136.\n",
      "[I 2025-05-02 21:24:22,477] Trial 150 finished with value: 0.059010747573893595 and parameters: {'alpha': 1.1223170063198156, 'tol': 0.005861074813175268}. Best is trial 137 with value: 0.05901062728014136.\n",
      "[I 2025-05-02 21:24:25,371] Trial 151 finished with value: 0.059011096702665314 and parameters: {'alpha': 0.3237395759581305, 'tol': 0.0058618736919247615}. Best is trial 137 with value: 0.05901062728014136.\n",
      "[I 2025-05-02 21:24:38,394] Trial 153 finished with value: 0.059015210836042054 and parameters: {'alpha': 9.858345297519202, 'tol': 0.00021343038815579106}. Best is trial 137 with value: 0.05901062728014136.\n",
      "[I 2025-05-02 21:24:39,288] Trial 152 finished with value: 0.05901072331344907 and parameters: {'alpha': 1.2142275373059408, 'tol': 0.0073694523002555265}. Best is trial 137 with value: 0.05901062728014136.\n",
      "[I 2025-05-02 21:24:41,345] Trial 154 finished with value: 0.059010627829699576 and parameters: {'alpha': 1.9588276984487705, 'tol': 0.007653409808005981}. Best is trial 137 with value: 0.05901062728014136.\n",
      "[I 2025-05-02 21:24:46,133] Trial 155 finished with value: 0.05901069129590132 and parameters: {'alpha': 1.3576131550389776, 'tol': 0.007306130435270543}. Best is trial 137 with value: 0.05901062728014136.\n",
      "[I 2025-05-02 21:24:54,795] Trial 157 finished with value: 0.059010627288727316 and parameters: {'alpha': 2.0397903479237223, 'tol': 0.007324440313152835}. Best is trial 137 with value: 0.05901062728014136.\n",
      "[I 2025-05-02 21:24:55,658] Trial 156 finished with value: 0.05901063880113974 and parameters: {'alpha': 1.735297314280494, 'tol': 0.007709965933854937}. Best is trial 137 with value: 0.05901062728014136.\n",
      "[I 2025-05-02 21:24:57,701] Trial 158 finished with value: 0.059010632996207665 and parameters: {'alpha': 1.8195218319974094, 'tol': 0.00734666359495948}. Best is trial 137 with value: 0.05901062728014136.\n",
      "[I 2025-05-02 21:25:00,588] Trial 159 finished with value: 0.05901062782867527 and parameters: {'alpha': 2.0894862105575114, 'tol': 0.0077820310057257055}. Best is trial 137 with value: 0.05901062728014136.\n",
      "[I 2025-05-02 21:25:12,817] Trial 160 finished with value: 0.05901071893966855 and parameters: {'alpha': 2.8847965786495857, 'tol': 0.0074938325849042324}. Best is trial 137 with value: 0.05901062728014136.\n",
      "[I 2025-05-02 21:25:13,800] Trial 161 finished with value: 0.05901063621253265 and parameters: {'alpha': 2.285417944500802, 'tol': 0.006993826360651573}. Best is trial 137 with value: 0.05901062728014136.\n",
      "[I 2025-05-02 21:25:16,862] Trial 162 finished with value: 0.059010653297824504 and parameters: {'alpha': 2.473890261929058, 'tol': 0.007040172038136254}. Best is trial 137 with value: 0.05901062728014136.\n",
      "[I 2025-05-02 21:25:18,867] Trial 163 finished with value: 0.059010961880395264 and parameters: {'alpha': 3.7322741780682307, 'tol': 0.009945126544282335}. Best is trial 137 with value: 0.05901062728014136.\n",
      "[I 2025-05-02 21:25:32,607] Trial 165 finished with value: 0.05901095174892254 and parameters: {'alpha': 3.7041680000840316, 'tol': 0.00971637657667005}. Best is trial 137 with value: 0.05901062728014136.\n",
      "[I 2025-05-02 21:25:32,611] Trial 164 finished with value: 0.05901069803591245 and parameters: {'alpha': 2.7764984537797206, 'tol': 0.006819680535846695}. Best is trial 137 with value: 0.05901062728014136.\n",
      "[I 2025-05-02 21:25:34,671] Trial 166 finished with value: 0.05901064145706494 and parameters: {'alpha': 1.7043293515059716, 'tol': 0.004458076626278229}. Best is trial 137 with value: 0.05901062728014136.\n",
      "[I 2025-05-02 21:25:37,525] Trial 167 finished with value: 0.05901509620038357 and parameters: {'alpha': 9.731347248697395, 'tol': 0.00560528695491473}. Best is trial 137 with value: 0.05901062728014136.\n",
      "[I 2025-05-02 21:25:50,632] Trial 168 finished with value: 0.05901067390124915 and parameters: {'alpha': 1.4523545168214749, 'tol': 0.00825449640408796}. Best is trial 137 with value: 0.05901062728014136.\n",
      "[I 2025-05-02 21:25:50,650] Trial 169 finished with value: 0.059010634077886155 and parameters: {'alpha': 1.8013021659333246, 'tol': 0.0043259177176666105}. Best is trial 137 with value: 0.05901062728014136.\n",
      "[I 2025-05-02 21:25:51,831] Trial 170 finished with value: 0.05901083567469623 and parameters: {'alpha': 0.8550184585976657, 'tol': 0.007829434439757964}. Best is trial 137 with value: 0.05901062728014136.\n",
      "[I 2025-05-02 21:25:57,481] Trial 171 finished with value: 0.059010743429259216 and parameters: {'alpha': 1.1372480840547783, 'tol': 0.0076764244800014555}. Best is trial 137 with value: 0.05901062728014136.\n",
      "[I 2025-05-02 21:26:08,678] Trial 173 finished with value: 0.0590111168769929 and parameters: {'alpha': 0.29104760523192463, 'tol': 0.006996169388431065}. Best is trial 137 with value: 0.05901062728014136.\n",
      "[I 2025-05-02 21:26:08,681] Trial 172 finished with value: 0.059010686891848366 and parameters: {'alpha': 2.712643222098707, 'tol': 0.005191927807947919}. Best is trial 137 with value: 0.05901062728014136.\n",
      "[I 2025-05-02 21:26:10,711] Trial 174 finished with value: 0.05901064722198631 and parameters: {'alpha': 1.6461208104959137, 'tol': 0.0026955893771417327}. Best is trial 137 with value: 0.05901062728014136.\n",
      "[I 2025-05-02 21:26:13,659] Trial 175 finished with value: 0.05901065403888421 and parameters: {'alpha': 1.5876935481259276, 'tol': 0.002043867832858424}. Best is trial 137 with value: 0.05901062728014136.\n",
      "[I 2025-05-02 21:26:26,878] Trial 177 finished with value: 0.05901066861859707 and parameters: {'alpha': 2.5942893361428463, 'tol': 0.007681765096730332}. Best is trial 137 with value: 0.05901062728014136.\n",
      "[I 2025-05-02 21:26:26,894] Trial 176 finished with value: 0.05901062970379681 and parameters: {'alpha': 2.159818458075034, 'tol': 0.0022091267001691883}. Best is trial 137 with value: 0.05901062728014136.\n",
      "[I 2025-05-02 21:26:28,070] Trial 178 finished with value: 0.05901075563325243 and parameters: {'alpha': 3.0504241612641336, 'tol': 0.00283040532096149}. Best is trial 137 with value: 0.05901062728014136.\n",
      "[I 2025-05-02 21:26:31,938] Trial 179 finished with value: 0.059010736532069 and parameters: {'alpha': 2.9673714518660446, 'tol': 0.002230989613367585}. Best is trial 137 with value: 0.05901062728014136.\n",
      "[I 2025-05-02 21:26:43,388] Trial 180 finished with value: 0.05901067910149966 and parameters: {'alpha': 2.664627850827937, 'tol': 0.006092474921482494}. Best is trial 137 with value: 0.05901062728014136.\n",
      "[I 2025-05-02 21:26:44,272] Trial 181 finished with value: 0.05901070655182431 and parameters: {'alpha': 2.8221939076010534, 'tol': 0.0056090654546220335}. Best is trial 137 with value: 0.05901062728014136.\n",
      "[I 2025-05-02 21:26:46,430] Trial 182 finished with value: 0.05901065053158027 and parameters: {'alpha': 2.4488076330471813, 'tol': 0.0051682940738914315}. Best is trial 137 with value: 0.05901062728014136.\n",
      "[I 2025-05-02 21:26:48,470] Trial 183 finished with value: 0.059010627572796 and parameters: {'alpha': 1.975491516648133, 'tol': 0.005803839655198776}. Best is trial 137 with value: 0.05901062728014136.\n",
      "[I 2025-05-02 21:26:59,773] Trial 185 finished with value: 0.05901071136961548 and parameters: {'alpha': 2.8470417739495453, 'tol': 0.007965464007424717}. Best is trial 137 with value: 0.05901062728014136.\n",
      "[I 2025-05-02 21:27:02,557] Trial 184 finished with value: 0.0590106307343078 and parameters: {'alpha': 2.186112490480952, 'tol': 0.008608566857467461}. Best is trial 137 with value: 0.05901062728014136.\n",
      "[I 2025-05-02 21:27:03,754] Trial 186 finished with value: 0.05901063093048146 and parameters: {'alpha': 2.190658695009172, 'tol': 0.008626775993714468}. Best is trial 137 with value: 0.05901062728014136.\n",
      "[I 2025-05-02 21:27:07,503] Trial 187 finished with value: 0.05901065202068676 and parameters: {'alpha': 1.6040889628555826, 'tol': 0.005224619242384232}. Best is trial 137 with value: 0.05901062728014136.\n",
      "[I 2025-05-02 21:27:20,415] Trial 188 finished with value: 0.05901081629943136 and parameters: {'alpha': 0.9073489142791027, 'tol': 0.005567137343604673}. Best is trial 137 with value: 0.05901062728014136.\n",
      "[I 2025-05-02 21:27:20,417] Trial 189 finished with value: 0.05901074793050565 and parameters: {'alpha': 1.1210455804858797, 'tol': 0.0056614735482410075}. Best is trial 137 with value: 0.05901062728014136.\n",
      "[I 2025-05-02 21:27:23,501] Trial 190 finished with value: 0.05901071972975753 and parameters: {'alpha': 1.2288375630711283, 'tol': 0.006056165920623968}. Best is trial 137 with value: 0.05901062728014136.\n",
      "[I 2025-05-02 21:27:25,539] Trial 191 finished with value: 0.0590107319154181 and parameters: {'alpha': 1.1803263987596069, 'tol': 0.005652090927678899}. Best is trial 137 with value: 0.05901062728014136.\n",
      "[I 2025-05-02 21:27:38,635] Trial 192 finished with value: 0.0590111664852921 and parameters: {'alpha': 4.239640171423501, 'tol': 0.005043626856015381}. Best is trial 137 with value: 0.05901062728014136.\n",
      "[I 2025-05-02 21:27:38,658] Trial 193 finished with value: 0.05901062733630407 and parameters: {'alpha': 1.9994327373399907, 'tol': 0.00645294511930848}. Best is trial 137 with value: 0.05901062728014136.\n",
      "[I 2025-05-02 21:27:39,891] Trial 194 finished with value: 0.05901065568772111 and parameters: {'alpha': 2.4945514355975913, 'tol': 0.006996380926129923}. Best is trial 137 with value: 0.05901062728014136.\n",
      "[I 2025-05-02 21:27:44,702] Trial 195 finished with value: 0.059010669179470676 and parameters: {'alpha': 2.5982518719866556, 'tol': 0.007212251201346219}. Best is trial 137 with value: 0.05901062728014136.\n",
      "[I 2025-05-02 21:27:57,157] Trial 197 finished with value: 0.05901062731111361 and parameters: {'alpha': 2.0443949527597423, 'tol': 0.0067179165974832885}. Best is trial 137 with value: 0.05901062728014136.\n",
      "[I 2025-05-02 21:27:57,158] Trial 196 finished with value: 0.059010638085024346 and parameters: {'alpha': 2.311823032795332, 'tol': 0.007243077431586944}. Best is trial 137 with value: 0.05901062728014136.\n",
      "[I 2025-05-02 21:27:58,309] Trial 198 finished with value: 0.0590106272802448 and parameters: {'alpha': 2.037647773606221, 'tol': 0.006800102570747696}. Best is trial 137 with value: 0.05901062728014136.\n",
      "[I 2025-05-02 21:28:02,116] Trial 199 finished with value: 0.059010655388137 and parameters: {'alpha': 2.492008169634494, 'tol': 0.005919381628410501}. Best is trial 137 with value: 0.05901062728014136.\n",
      "[I 2025-05-02 21:28:15,261] Trial 200 finished with value: 0.059010654465882835 and parameters: {'alpha': 2.4840966193719534, 'tol': 0.006124332849225808}. Best is trial 137 with value: 0.05901062728014136.\n",
      "[I 2025-05-02 21:28:15,262] Trial 201 finished with value: 0.05901063753354615 and parameters: {'alpha': 2.3042944608992495, 'tol': 0.006248382449340895}. Best is trial 137 with value: 0.05901062728014136.\n",
      "[I 2025-05-02 21:28:16,457] Trial 202 finished with value: 0.05901062729324052 and parameters: {'alpha': 2.0408200627618687, 'tol': 0.00684083178918632}. Best is trial 137 with value: 0.05901062728014136.\n",
      "[I 2025-05-02 21:28:21,118] Trial 203 finished with value: 0.059010653449109114 and parameters: {'alpha': 1.592415943725464, 'tol': 0.006885656315710908}. Best is trial 137 with value: 0.05901062728014136.\n",
      "[I 2025-05-02 21:28:30,690] Trial 205 finished with value: 0.05901064159877256 and parameters: {'alpha': 1.7027648681013325, 'tol': 0.0063323516542246406}. Best is trial 137 with value: 0.05901062728014136.\n",
      "[I 2025-05-02 21:28:31,584] Trial 204 finished with value: 0.05901077700026666 and parameters: {'alpha': 1.023613973563546, 'tol': 0.007247339030037056}. Best is trial 137 with value: 0.05901062728014136.\n",
      "[I 2025-05-02 21:28:36,288] Trial 206 finished with value: 0.059010628913368016 and parameters: {'alpha': 2.1356278141428273, 'tol': 0.006497513848861657}. Best is trial 137 with value: 0.05901062728014136.\n",
      "[I 2025-05-02 21:28:39,171] Trial 207 finished with value: 0.05901071861040554 and parameters: {'alpha': 1.2334637517364366, 'tol': 0.007272374273908691}. Best is trial 137 with value: 0.05901062728014136.\n",
      "[I 2025-05-02 21:28:50,432] Trial 208 finished with value: 0.05901062759652056 and parameters: {'alpha': 2.0744787753906864, 'tol': 0.007280255896907814}. Best is trial 137 with value: 0.05901062728014136.\n",
      "[I 2025-05-02 21:28:51,295] Trial 209 finished with value: 0.05901078950120887 and parameters: {'alpha': 3.1850118920007526, 'tol': 0.006917706597087754}. Best is trial 137 with value: 0.05901062728014136.\n",
      "[I 2025-05-02 21:28:52,465] Trial 210 finished with value: 0.05901073288391368 and parameters: {'alpha': 2.9507782963953875, 'tol': 0.007008878422411552}. Best is trial 137 with value: 0.05901062728014136.\n",
      "[I 2025-05-02 21:28:57,130] Trial 211 finished with value: 0.059010789488017024 and parameters: {'alpha': 3.1849620672736245, 'tol': 0.007662344628059424}. Best is trial 137 with value: 0.05901062728014136.\n",
      "[I 2025-05-02 21:29:10,173] Trial 213 finished with value: 0.05901062738140878 and parameters: {'alpha': 2.054659455577861, 'tol': 0.005100245046467548}. Best is trial 137 with value: 0.05901062728014136.\n",
      "[I 2025-05-02 21:29:10,174] Trial 212 finished with value: 0.05901065909946458 and parameters: {'alpha': 2.522661226767151, 'tol': 0.004213027804032397}. Best is trial 137 with value: 0.05901062728014136.\n",
      "[I 2025-05-02 21:29:11,311] Trial 214 finished with value: 0.05901065611999705 and parameters: {'alpha': 1.5714502678322613, 'tol': 0.0075790066107511}. Best is trial 137 with value: 0.05901062728014136.\n",
      "[I 2025-05-02 21:29:15,162] Trial 215 finished with value: 0.05901062746656556 and parameters: {'alpha': 1.9844011557327266, 'tol': 0.007606293261850299}. Best is trial 137 with value: 0.05901062728014136.\n",
      "[I 2025-05-02 21:29:27,433] Trial 217 finished with value: 0.059010628177123055 and parameters: {'alpha': 1.9415237239566783, 'tol': 0.004756303652458703}. Best is trial 137 with value: 0.05901062728014136.\n",
      "[I 2025-05-02 21:29:27,434] Trial 216 finished with value: 0.059010647520297985 and parameters: {'alpha': 2.419817486606238, 'tol': 0.004953425292153596}. Best is trial 137 with value: 0.05901062728014136.\n",
      "[I 2025-05-02 21:29:28,559] Trial 218 finished with value: 0.05901062741559289 and parameters: {'alpha': 1.98948991724346, 'tol': 0.00491545174139462}. Best is trial 137 with value: 0.05901062728014136.\n",
      "[I 2025-05-02 21:29:32,389] Trial 219 finished with value: 0.05901062865562256 and parameters: {'alpha': 1.9224564206122652, 'tol': 0.008439675312867531}. Best is trial 137 with value: 0.05901062728014136.\n",
      "[I 2025-05-02 21:29:46,348] Trial 220 finished with value: 0.059010650152762474 and parameters: {'alpha': 2.445263925447853, 'tol': 0.004206398339896907}. Best is trial 137 with value: 0.05901062728014136.\n",
      "[I 2025-05-02 21:29:46,349] Trial 221 finished with value: 0.05901076500017596 and parameters: {'alpha': 1.0624433807076235, 'tol': 0.004438197790220615}. Best is trial 137 with value: 0.05901062728014136.\n",
      "[I 2025-05-02 21:29:47,398] Trial 222 finished with value: 0.059010781190600645 and parameters: {'alpha': 1.0104633902494846, 'tol': 0.004617722678479985}. Best is trial 137 with value: 0.05901062728014136.\n",
      "[I 2025-05-02 21:29:52,000] Trial 223 finished with value: 0.059010648735755664 and parameters: {'alpha': 2.4317522608436897, 'tol': 0.004808307706168105}. Best is trial 137 with value: 0.05901062728014136.\n",
      "[I 2025-05-02 21:30:04,597] Trial 225 finished with value: 0.05901064971981788 and parameters: {'alpha': 1.6236562505543537, 'tol': 0.004817416747911247}. Best is trial 137 with value: 0.05901062728014136.\n",
      "[I 2025-05-02 21:30:05,573] Trial 224 finished with value: 0.05901063064228566 and parameters: {'alpha': 1.8665513109806648, 'tol': 0.004969295074600023}. Best is trial 137 with value: 0.05901062728014136.\n",
      "[I 2025-05-02 21:30:07,601] Trial 226 finished with value: 0.05901062771156798 and parameters: {'alpha': 2.0823954975967043, 'tol': 0.005289826736957639}. Best is trial 137 with value: 0.05901062728014136.\n",
      "[I 2025-05-02 21:30:10,770] Trial 227 finished with value: 0.059010731725857545 and parameters: {'alpha': 1.1810567652052688, 'tol': 0.006023723219552281}. Best is trial 137 with value: 0.05901062728014136.\n",
      "[I 2025-05-02 21:30:25,149] Trial 228 finished with value: 0.05901068588158562 and parameters: {'alpha': 1.385443181760568, 'tol': 0.006535609589661403}. Best is trial 137 with value: 0.05901062728014136.\n",
      "[I 2025-05-02 21:30:25,178] Trial 229 finished with value: 0.05901067256825504 and parameters: {'alpha': 1.4603399477431713, 'tol': 0.006165852928859375}. Best is trial 137 with value: 0.05901062728014136.\n",
      "[I 2025-05-02 21:30:27,109] Trial 230 finished with value: 0.0590108156963339 and parameters: {'alpha': 3.280649062343614, 'tol': 0.00583589797355849}. Best is trial 137 with value: 0.05901062728014136.\n",
      "[I 2025-05-02 21:30:29,989] Trial 231 finished with value: 0.05901070826732561 and parameters: {'alpha': 2.83111947563069, 'tol': 0.005664723084182165}. Best is trial 137 with value: 0.05901062728014136.\n",
      "[I 2025-05-02 21:30:43,546] Trial 233 finished with value: 0.05901093757596885 and parameters: {'alpha': 3.664216955508591, 'tol': 0.004758468268032443}. Best is trial 137 with value: 0.05901062728014136.\n",
      "[I 2025-05-02 21:30:44,520] Trial 232 finished with value: 0.0590109128444393 and parameters: {'alpha': 3.5925886462550083, 'tol': 0.005896022438301905}. Best is trial 137 with value: 0.05901062728014136.\n",
      "[I 2025-05-02 21:30:45,572] Trial 234 finished with value: 0.05901073541430013 and parameters: {'alpha': 2.962314621532939, 'tol': 0.005014550085238584}. Best is trial 137 with value: 0.05901062728014136.\n",
      "[I 2025-05-02 21:30:50,498] Trial 235 finished with value: 0.05901063414209586 and parameters: {'alpha': 1.8002688173922627, 'tol': 0.003964089466265841}. Best is trial 137 with value: 0.05901062728014136.\n",
      "[I 2025-05-02 21:31:02,699] Trial 236 finished with value: 0.05901062854490357 and parameters: {'alpha': 2.1223790411447414, 'tol': 0.005528281649344939}. Best is trial 137 with value: 0.05901062728014136.\n",
      "[I 2025-05-02 21:31:03,725] Trial 237 finished with value: 0.05901062999753202 and parameters: {'alpha': 1.8822100447962973, 'tol': 0.005901150341393548}. Best is trial 137 with value: 0.05901062728014136.\n",
      "[I 2025-05-02 21:31:04,732] Trial 238 finished with value: 0.05901468449540796 and parameters: {'alpha': 9.268387592286615, 'tol': 0.008074238181115426}. Best is trial 137 with value: 0.05901062728014136.\n",
      "[I 2025-05-02 21:31:09,488] Trial 239 finished with value: 0.059010627301631424 and parameters: {'alpha': 2.0425837148308488, 'tol': 0.005859332132570514}. Best is trial 137 with value: 0.05901062728014136.\n",
      "[I 2025-05-02 21:31:21,552] Trial 240 finished with value: 0.059010679614018964 and parameters: {'alpha': 1.4194323687767785, 'tol': 0.00568323081232732}. Best is trial 137 with value: 0.05901062728014136.\n",
      "[I 2025-05-02 21:31:22,542] Trial 241 finished with value: 0.05901068135701588 and parameters: {'alpha': 1.4097719459010198, 'tol': 0.005642090782247538}. Best is trial 137 with value: 0.05901062728014136.\n",
      "[I 2025-05-02 21:31:23,558] Trial 242 finished with value: 0.0590106299079272 and parameters: {'alpha': 1.8845285909779188, 'tol': 0.005840844646412444}. Best is trial 137 with value: 0.05901062728014136.\n",
      "[I 2025-05-02 21:31:28,161] Trial 243 finished with value: 0.05901062773175698 and parameters: {'alpha': 1.9646214769273658, 'tol': 0.006295916068658522}. Best is trial 137 with value: 0.05901062728014136.\n",
      "[I 2025-05-02 21:31:39,433] Trial 244 finished with value: 0.05901063142693375 and parameters: {'alpha': 2.2016571648989243, 'tol': 0.006239750026516087}. Best is trial 137 with value: 0.05901062728014136.\n",
      "[I 2025-05-02 21:31:40,413] Trial 245 finished with value: 0.059010649288047314 and parameters: {'alpha': 2.437067958899018, 'tol': 0.006070450414185996}. Best is trial 137 with value: 0.05901062728014136.\n",
      "[I 2025-05-02 21:31:41,367] Trial 246 finished with value: 0.05901063324848607 and parameters: {'alpha': 1.8151255430985629, 'tol': 0.006377206401705147}. Best is trial 137 with value: 0.05901062728014136.\n",
      "[I 2025-05-02 21:31:45,052] Trial 247 finished with value: 0.05901063127784433 and parameters: {'alpha': 1.8525405935562183, 'tol': 0.006799499598771392}. Best is trial 137 with value: 0.05901062728014136.\n",
      "[I 2025-05-02 21:31:51,711] Trial 248 finished with value: 0.059010627393148794 and parameters: {'alpha': 1.9919878219501166, 'tol': 0.006714404916972191}. Best is trial 137 with value: 0.05901062728014136.\n",
      "[I 2025-05-02 21:31:52,647] Trial 249 finished with value: 0.05901062879099187 and parameters: {'alpha': 2.131406084901492, 'tol': 0.007189451305776796}. Best is trial 137 with value: 0.05901062728014136.\n"
     ]
    }
   ],
   "source": [
    "def objective(trial):    \n",
    "    params = {\n",
    "        \"random_state\": CFG.seed,\n",
    "        \"alpha\": trial.suggest_float(\"alpha\", 0, 10),\n",
    "        \"tol\": trial.suggest_float(\"tol\", 1e-6, 1e-2)\n",
    "    }\n",
    "    \n",
    "    trainer = Trainer(\n",
    "        Ridge(**params),\n",
    "        cv=CFG.cv,\n",
    "        metric=CFG.metric,\n",
    "        task=\"regression\",\n",
    "        verbose=False\n",
    "    )\n",
    "    trainer.fit(X, y)\n",
    "    \n",
    "    return trainer.overall_score\n",
    "\n",
    "if CFG.run_optuna:\n",
    "    sampler = optuna.samplers.TPESampler(seed=CFG.seed, multivariate=True)\n",
    "    study = optuna.create_study(direction=\"minimize\", sampler=sampler)\n",
    "    study.optimize(objective, n_trials=CFG.n_optuna_trials, n_jobs=-1, catch=(ValueError,))\n",
    "    best_params = study.best_params\n",
    "\n",
    "    ridge_params = {\n",
    "        \"random_state\": CFG.seed,\n",
    "        \"alpha\": best_params[\"alpha\"],\n",
    "        \"tol\": best_params[\"tol\"]\n",
    "    }\n",
    "else:\n",
    "    ridge_params = {\n",
    "        \"random_state\": CFG.seed\n",
    "    }"
   ]
  },
  {
   "cell_type": "code",
   "execution_count": 28,
   "id": "88b5b569",
   "metadata": {
    "execution": {
     "iopub.execute_input": "2025-05-02T21:31:52.718417Z",
     "iopub.status.busy": "2025-05-02T21:31:52.718119Z",
     "iopub.status.idle": "2025-05-02T21:31:52.724164Z",
     "shell.execute_reply": "2025-05-02T21:31:52.722660Z"
    },
    "papermill": {
     "duration": 0.039044,
     "end_time": "2025-05-02T21:31:52.725638",
     "exception": false,
     "start_time": "2025-05-02T21:31:52.686594",
     "status": "completed"
    },
    "tags": []
   },
   "outputs": [
    {
     "name": "stdout",
     "output_type": "stream",
     "text": [
      "{\n",
      "  \"random_state\": 42,\n",
      "  \"alpha\": 2.0103398456979886,\n",
      "  \"tol\": 0.00795503090942919\n",
      "}\n"
     ]
    }
   ],
   "source": [
    "print(json.dumps(ridge_params, indent=2))"
   ]
  },
  {
   "cell_type": "code",
   "execution_count": 29,
   "id": "b0de85ff",
   "metadata": {
    "execution": {
     "iopub.execute_input": "2025-05-02T21:31:52.792031Z",
     "iopub.status.busy": "2025-05-02T21:31:52.791619Z",
     "iopub.status.idle": "2025-05-02T21:31:57.901467Z",
     "shell.execute_reply": "2025-05-02T21:31:57.900538Z"
    },
    "papermill": {
     "duration": 5.145744,
     "end_time": "2025-05-02T21:31:57.903062",
     "exception": false,
     "start_time": "2025-05-02T21:31:52.757318",
     "status": "completed"
    },
    "tags": []
   },
   "outputs": [
    {
     "name": "stdout",
     "output_type": "stream",
     "text": [
      "Training Ridge\n",
      "\n",
      "--- Fold 0 - root_mean_squared_error: 0.0589 - Time: 0.14 s\n",
      "--- Fold 1 - root_mean_squared_error: 0.0595 - Time: 0.13 s\n",
      "--- Fold 2 - root_mean_squared_error: 0.0588 - Time: 0.13 s\n",
      "--- Fold 3 - root_mean_squared_error: 0.0592 - Time: 0.13 s\n",
      "--- Fold 4 - root_mean_squared_error: 0.0586 - Time: 0.13 s\n",
      "\n",
      "------ Overall root_mean_squared_error: 0.0590 - Mean root_mean_squared_error: 0.0590 ± 0.0003 - Time: 5.05 s\n"
     ]
    }
   ],
   "source": [
    "ridge_trainer = Trainer(\n",
    "    Ridge(**ridge_params),\n",
    "    cv=CFG.cv,\n",
    "    metric=CFG.metric,\n",
    "    task=\"regression\"\n",
    ")\n",
    "\n",
    "ridge_trainer.fit(X, y)\n",
    "\n",
    "scores[\"Ridge (ensemble)\"] = ridge_trainer.fold_scores\n",
    "ridge_test_preds = np.expm1(ridge_trainer.predict(X_test))"
   ]
  },
  {
   "cell_type": "code",
   "execution_count": 30,
   "id": "6ad372a6",
   "metadata": {
    "execution": {
     "iopub.execute_input": "2025-05-02T21:31:57.970491Z",
     "iopub.status.busy": "2025-05-02T21:31:57.969651Z",
     "iopub.status.idle": "2025-05-02T21:31:58.279953Z",
     "shell.execute_reply": "2025-05-02T21:31:58.279029Z"
    },
    "papermill": {
     "duration": 0.346812,
     "end_time": "2025-05-02T21:31:58.281918",
     "exception": false,
     "start_time": "2025-05-02T21:31:57.935106",
     "status": "completed"
    },
    "tags": []
   },
   "outputs": [
    {
     "data": {
      "image/png": "[encoded data removed]",
      "text/plain": [
       "<Figure size 1000x400 with 1 Axes>"
      ]
     },
     "metadata": {},
     "output_type": "display_data"
    }
   ],
   "source": [
    "ridge_coeffs = np.zeros((1, X.shape[1]))\n",
    "for m in ridge_trainer.estimators:\n",
    "    ridge_coeffs += m.coef_\n",
    "ridge_coeffs = ridge_coeffs / len(ridge_trainer.estimators)\n",
    "\n",
    "plot_weights(ridge_coeffs, \"Ridge Coefficients\")"
   ]
  },
  {
   "cell_type": "markdown",
   "id": "89832b73",
   "metadata": {
    "papermill": {
     "duration": 0.031943,
     "end_time": "2025-05-02T21:31:58.346261",
     "exception": false,
     "start_time": "2025-05-02T21:31:58.314318",
     "status": "completed"
    },
    "tags": []
   },
   "source": [
    "# Submission"
   ]
  },
  {
   "cell_type": "code",
   "execution_count": 31,
   "id": "abadfa68",
   "metadata": {
    "execution": {
     "iopub.execute_input": "2025-05-02T21:31:58.410911Z",
     "iopub.status.busy": "2025-05-02T21:31:58.410537Z",
     "iopub.status.idle": "2025-05-02T21:31:59.119495Z",
     "shell.execute_reply": "2025-05-02T21:31:59.118306Z"
    },
    "papermill": {
     "duration": 0.743346,
     "end_time": "2025-05-02T21:31:59.121332",
     "exception": false,
     "start_time": "2025-05-02T21:31:58.377986",
     "status": "completed"
    },
    "tags": []
   },
   "outputs": [
    {
     "data": {
      "text/html": [
       "<div>\n",
       "<style scoped>\n",
       "    .dataframe tbody tr th:only-of-type {\n",
       "        vertical-align: middle;\n",
       "    }\n",
       "\n",
       "    .dataframe tbody tr th {\n",
       "        vertical-align: top;\n",
       "    }\n",
       "\n",
       "    .dataframe thead th {\n",
       "        text-align: right;\n",
       "    }\n",
       "</style>\n",
       "<table border=\"1\" class=\"dataframe\">\n",
       "  <thead>\n",
       "    <tr style=\"text-align: right;\">\n",
       "      <th></th>\n",
       "      <th>id</th>\n",
       "      <th>Calories</th>\n",
       "    </tr>\n",
       "  </thead>\n",
       "  <tbody>\n",
       "    <tr>\n",
       "      <th>0</th>\n",
       "      <td>750000</td>\n",
       "      <td>27.192263</td>\n",
       "    </tr>\n",
       "    <tr>\n",
       "      <th>1</th>\n",
       "      <td>750001</td>\n",
       "      <td>107.753759</td>\n",
       "    </tr>\n",
       "    <tr>\n",
       "      <th>2</th>\n",
       "      <td>750002</td>\n",
       "      <td>87.151726</td>\n",
       "    </tr>\n",
       "    <tr>\n",
       "      <th>3</th>\n",
       "      <td>750003</td>\n",
       "      <td>125.885885</td>\n",
       "    </tr>\n",
       "    <tr>\n",
       "      <th>4</th>\n",
       "      <td>750004</td>\n",
       "      <td>76.025272</td>\n",
       "    </tr>\n",
       "  </tbody>\n",
       "</table>\n",
       "</div>"
      ],
      "text/plain": [
       "       id    Calories\n",
       "0  750000   27.192263\n",
       "1  750001  107.753759\n",
       "2  750002   87.151726\n",
       "3  750003  125.885885\n",
       "4  750004   76.025272"
      ]
     },
     "execution_count": 31,
     "metadata": {},
     "output_type": "execute_result"
    }
   ],
   "source": [
    "sub = pd.read_csv(CFG.sample_sub_path)\n",
    "sub[CFG.target] = ridge_test_preds\n",
    "sub.to_csv(f\"sub_ridge_{np.mean(scores['Ridge (ensemble)']):.6f}.csv\", index=False)\n",
    "sub.head()"
   ]
  },
  {
   "cell_type": "markdown",
   "id": "6e2655e7",
   "metadata": {
    "papermill": {
     "duration": 0.038106,
     "end_time": "2025-05-02T21:31:59.195373",
     "exception": false,
     "start_time": "2025-05-02T21:31:59.157267",
     "status": "completed"
    },
    "tags": []
   },
   "source": [
    "# Results"
   ]
  },
  {
   "cell_type": "code",
   "execution_count": 32,
   "id": "beb88575",
   "metadata": {
    "execution": {
     "iopub.execute_input": "2025-05-02T21:31:59.261657Z",
     "iopub.status.busy": "2025-05-02T21:31:59.261321Z",
     "iopub.status.idle": "2025-05-02T21:31:59.904801Z",
     "shell.execute_reply": "2025-05-02T21:31:59.903851Z"
    },
    "papermill": {
     "duration": 0.679025,
     "end_time": "2025-05-02T21:31:59.906826",
     "exception": false,
     "start_time": "2025-05-02T21:31:59.227801",
     "status": "completed"
    },
    "tags": []
   },
   "outputs": [
    {
     "data": {
      "image/png": "[encoded data removed]",
      "text/plain": [
       "<Figure size 1500x270 with 2 Axes>"
      ]
     },
     "metadata": {},
     "output_type": "display_data"
    }
   ],
   "source": [
    "scores = pd.DataFrame(scores)\n",
    "mean_scores = scores.mean().sort_values(ascending=True)\n",
    "order = scores.mean().sort_values(ascending=True).index.tolist()\n",
    "\n",
    "min_score = mean_scores.min()\n",
    "max_score = mean_scores.max()\n",
    "padding = (max_score - min_score) * 0.5\n",
    "lower_limit = min_score - padding\n",
    "upper_limit = max_score + padding\n",
    "\n",
    "fig, axs = plt.subplots(1, 2, figsize=(15, scores.shape[1] * 0.3))\n",
    "\n",
    "boxplot = sns.boxplot(data=scores, order=order, ax=axs[0], orient=\"h\", color=\"grey\")\n",
    "axs[0].set_title(f\"Fold {CFG.metric.__name__}\")\n",
    "axs[0].set_xlabel(\"\")\n",
    "axs[0].set_ylabel(\"\")\n",
    "\n",
    "barplot = sns.barplot(x=mean_scores.values, y=mean_scores.index, ax=axs[1], color=\"grey\")\n",
    "axs[1].set_title(f\"Average {CFG.metric.__name__}\")\n",
    "axs[1].set_xlabel(\"\")\n",
    "axs[1].set_xlim(left=lower_limit, right=upper_limit)\n",
    "axs[1].set_ylabel(\"\")\n",
    "\n",
    "for i, (score, model) in enumerate(zip(mean_scores.values, mean_scores.index)):\n",
    "    color = \"cyan\" if \"ensemble\" in model.lower() else \"grey\"\n",
    "    barplot.patches[i].set_facecolor(color)\n",
    "    boxplot.patches[i].set_facecolor(color)\n",
    "    barplot.text(score, i, round(score, 6), va=\"center\")\n",
    "\n",
    "plt.tight_layout()\n",
    "plt.show()"
   ]
  },
  {
   "cell_type": "code",
   "execution_count": 33,
   "id": "9cd6678a",
   "metadata": {
    "execution": {
     "iopub.execute_input": "2025-05-02T21:31:59.975241Z",
     "iopub.status.busy": "2025-05-02T21:31:59.974915Z",
     "iopub.status.idle": "2025-05-02T21:31:59.981029Z",
     "shell.execute_reply": "2025-05-02T21:31:59.980063Z"
    },
    "papermill": {
     "duration": 0.042933,
     "end_time": "2025-05-02T21:31:59.983033",
     "exception": false,
     "start_time": "2025-05-02T21:31:59.940100",
     "status": "completed"
    },
    "tags": []
   },
   "outputs": [],
   "source": [
    "shutil.rmtree(\"catboost_info\", ignore_errors=True)"
   ]
  }
 ],
 "metadata": {
  "kaggle": {
   "accelerator": "none",
   "dataSources": [
    {
     "databundleVersionId": 11893428,
     "sourceId": 91716,
     "sourceType": "competition"
    },
    {
     "datasetId": 6512323,
     "sourceId": 10522392,
     "sourceType": "datasetVersion"
    },
    {
     "sourceId": 237352348,
     "sourceType": "kernelVersion"
    }
   ],
   "dockerImageVersionId": 31012,
   "isGpuEnabled": false,
   "isInternetEnabled": true,
   "language": "python",
   "sourceType": "notebook"
  },
  "kernelspec": {
   "display_name": "Python 3",
   "language": "python",
   "name": "python3"
  },
  "language_info": {
   "codemirror_mode": {
    "name": "ipython",
    "version": 3
   },
   "file_extension": ".py",
   "mimetype": "text/x-python",
   "name": "python",
   "nbconvert_exporter": "python",
   "pygments_lexer": "ipython3",
   "version": "3.11.11"
  },
  "papermill": {
   "default_parameters": {},
   "duration": 9817.307534,
   "end_time": "2025-05-02T21:32:03.348045",
   "environment_variables": {},
   "exception": null,
   "input_path": "__notebook__.ipynb",
   "output_path": "__notebook__.ipynb",
   "parameters": {},
   "start_time": "2025-05-02T18:48:26.040511",
   "version": "2.6.0"
  }
 },
 "nbformat": 4,
 "nbformat_minor": 5
}
