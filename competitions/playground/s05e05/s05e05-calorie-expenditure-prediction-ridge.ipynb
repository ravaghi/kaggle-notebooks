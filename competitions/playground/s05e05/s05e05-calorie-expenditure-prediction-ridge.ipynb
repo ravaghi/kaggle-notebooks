{
 "cells": [
  {
   "cell_type": "code",
   "execution_count": 1,
   "id": "f57b9880",
   "metadata": {
    "_kg_hide-output": true,
    "execution": {
     "iopub.execute_input": "2025-05-09T12:48:47.091103Z",
     "iopub.status.busy": "2025-05-09T12:48:47.090578Z",
     "iopub.status.idle": "2025-05-09T12:48:59.215161Z",
     "shell.execute_reply": "2025-05-09T12:48:59.213649Z"
    },
    "papermill": {
     "duration": 12.137064,
     "end_time": "2025-05-09T12:48:59.217586",
     "exception": false,
     "start_time": "2025-05-09T12:48:47.080522",
     "status": "completed"
    },
    "scrolled": true,
    "tags": []
   },
   "outputs": [
    {
     "name": "stdout",
     "output_type": "stream",
     "text": [
      "Requirement already satisfied: ydf in /usr/local/lib/python3.11/dist-packages (0.9.0)\r\n",
      "Collecting koolbox\r\n",
      "  Downloading koolbox-0.1.2-py3-none-any.whl.metadata (2.4 kB)\r\n",
      "Collecting scikit-learn==1.5.2\r\n",
      "  Downloading scikit_learn-1.5.2-cp311-cp311-manylinux_2_17_x86_64.manylinux2014_x86_64.whl.metadata (13 kB)\r\n",
      "Requirement already satisfied: numpy>=1.19.5 in /usr/local/lib/python3.11/dist-packages (from scikit-learn==1.5.2) (1.26.4)\r\n",
      "Requirement already satisfied: scipy>=1.6.0 in /usr/local/lib/python3.11/dist-packages (from scikit-learn==1.5.2) (1.15.2)\r\n",
      "Requirement already satisfied: joblib>=1.2.0 in /usr/local/lib/python3.11/dist-packages (from scikit-learn==1.5.2) (1.4.2)\r\n",
      "Requirement already satisfied: threadpoolctl>=3.1.0 in /usr/local/lib/python3.11/dist-packages (from scikit-learn==1.5.2) (3.6.0)\r\n",
      "Requirement already satisfied: absl_py in /usr/local/lib/python3.11/dist-packages (from ydf) (1.4.0)\r\n",
      "Requirement already satisfied: protobuf>=3.14 in /usr/local/lib/python3.11/dist-packages (from ydf) (3.20.3)\r\n",
      "Requirement already satisfied: pandas>=1.0.0 in /usr/local/lib/python3.11/dist-packages (from koolbox) (2.2.3)\r\n",
      "Requirement already satisfied: mkl_fft in /usr/local/lib/python3.11/dist-packages (from numpy>=1.19.5->scikit-learn==1.5.2) (1.3.8)\r\n",
      "Requirement already satisfied: mkl_random in /usr/local/lib/python3.11/dist-packages (from numpy>=1.19.5->scikit-learn==1.5.2) (1.2.4)\r\n",
      "Requirement already satisfied: mkl_umath in /usr/local/lib/python3.11/dist-packages (from numpy>=1.19.5->scikit-learn==1.5.2) (0.1.1)\r\n",
      "Requirement already satisfied: mkl in /usr/local/lib/python3.11/dist-packages (from numpy>=1.19.5->scikit-learn==1.5.2) (2025.1.0)\r\n",
      "Requirement already satisfied: tbb4py in /usr/local/lib/python3.11/dist-packages (from numpy>=1.19.5->scikit-learn==1.5.2) (2022.1.0)\r\n",
      "Requirement already satisfied: mkl-service in /usr/local/lib/python3.11/dist-packages (from numpy>=1.19.5->scikit-learn==1.5.2) (2.4.1)\r\n",
      "Requirement already satisfied: python-dateutil>=2.8.2 in /usr/local/lib/python3.11/dist-packages (from pandas>=1.0.0->koolbox) (2.9.0.post0)\r\n",
      "Requirement already satisfied: pytz>=2020.1 in /usr/local/lib/python3.11/dist-packages (from pandas>=1.0.0->koolbox) (2025.2)\r\n",
      "Requirement already satisfied: tzdata>=2022.7 in /usr/local/lib/python3.11/dist-packages (from pandas>=1.0.0->koolbox) (2025.2)\r\n",
      "Requirement already satisfied: six>=1.5 in /usr/local/lib/python3.11/dist-packages (from python-dateutil>=2.8.2->pandas>=1.0.0->koolbox) (1.17.0)\r\n",
      "Requirement already satisfied: intel-openmp<2026,>=2024 in /usr/local/lib/python3.11/dist-packages (from mkl->numpy>=1.19.5->scikit-learn==1.5.2) (2024.2.0)\r\n",
      "Requirement already satisfied: tbb==2022.* in /usr/local/lib/python3.11/dist-packages (from mkl->numpy>=1.19.5->scikit-learn==1.5.2) (2022.1.0)\r\n",
      "Requirement already satisfied: tcmlib==1.* in /usr/local/lib/python3.11/dist-packages (from tbb==2022.*->mkl->numpy>=1.19.5->scikit-learn==1.5.2) (1.2.0)\r\n",
      "Requirement already satisfied: intel-cmplr-lib-rt in /usr/local/lib/python3.11/dist-packages (from mkl_umath->numpy>=1.19.5->scikit-learn==1.5.2) (2024.2.0)\r\n",
      "Requirement already satisfied: intel-cmplr-lib-ur==2024.2.0 in /usr/local/lib/python3.11/dist-packages (from intel-openmp<2026,>=2024->mkl->numpy>=1.19.5->scikit-learn==1.5.2) (2024.2.0)\r\n",
      "Downloading scikit_learn-1.5.2-cp311-cp311-manylinux_2_17_x86_64.manylinux2014_x86_64.whl (13.3 MB)\r\n",
      "\u001b[2K   \u001b[90m━━━━━━━━━━━━━━━━━━━━━━━━━━━━━━━━━━━━━━━━\u001b[0m \u001b[32m13.3/13.3 MB\u001b[0m \u001b[31m72.0 MB/s\u001b[0m eta \u001b[36m0:00:00\u001b[0m\r\n",
      "\u001b[?25hDownloading koolbox-0.1.2-py3-none-any.whl (11 kB)\r\n",
      "Installing collected packages: scikit-learn, koolbox\r\n",
      "  Attempting uninstall: scikit-learn\r\n",
      "    Found existing installation: scikit-learn 1.2.2\r\n",
      "    Uninstalling scikit-learn-1.2.2:\r\n",
      "      Successfully uninstalled scikit-learn-1.2.2\r\n",
      "\u001b[31mERROR: pip's dependency resolver does not currently take into account all the packages that are installed. This behaviour is the source of the following dependency conflicts.\r\n",
      "bigframes 1.36.0 requires rich<14,>=12.4.4, but you have rich 14.0.0 which is incompatible.\u001b[0m\u001b[31m\r\n",
      "\u001b[0mSuccessfully installed koolbox-0.1.2 scikit-learn-1.5.2\r\n",
      "Collecting scikeras\r\n",
      "  Downloading scikeras-0.13.0-py3-none-any.whl.metadata (3.1 kB)\r\n",
      "Downloading scikeras-0.13.0-py3-none-any.whl (26 kB)\r\n",
      "Installing collected packages: scikeras\r\n",
      "Successfully installed scikeras-0.13.0\r\n"
     ]
    }
   ],
   "source": [
    "!pip install ydf koolbox scikit-learn==1.5.2 && pip install --no-deps scikeras"
   ]
  },
  {
   "cell_type": "markdown",
   "id": "3fdd0422",
   "metadata": {
    "papermill": {
     "duration": 0.008707,
     "end_time": "2025-05-09T12:48:59.235595",
     "exception": false,
     "start_time": "2025-05-09T12:48:59.226888",
     "status": "completed"
    },
    "tags": []
   },
   "source": [
    "# Imports and configs"
   ]
  },
  {
   "cell_type": "code",
   "execution_count": 2,
   "id": "74294851",
   "metadata": {
    "_kg_hide-output": true,
    "execution": {
     "iopub.execute_input": "2025-05-09T12:48:59.258781Z",
     "iopub.status.busy": "2025-05-09T12:48:59.257681Z",
     "iopub.status.idle": "2025-05-09T12:49:28.192590Z",
     "shell.execute_reply": "2025-05-09T12:49:28.191646Z"
    },
    "papermill": {
     "duration": 28.948069,
     "end_time": "2025-05-09T12:49:28.194458",
     "exception": false,
     "start_time": "2025-05-09T12:48:59.246389",
     "status": "completed"
    },
    "tags": []
   },
   "outputs": [
    {
     "name": "stderr",
     "output_type": "stream",
     "text": [
      "2025-05-09 12:49:05.586778: E external/local_xla/xla/stream_executor/cuda/cuda_fft.cc:477] Unable to register cuFFT factory: Attempting to register factory for plugin cuFFT when one has already been registered\n",
      "WARNING: All log messages before absl::InitializeLog() is called are written to STDERR\n",
      "E0000 00:00:1746794945.834696      13 cuda_dnn.cc:8310] Unable to register cuDNN factory: Attempting to register factory for plugin cuDNN when one has already been registered\n",
      "E0000 00:00:1746794945.907778      13 cuda_blas.cc:1418] Unable to register cuBLAS factory: Attempting to register factory for plugin cuBLAS when one has already been registered\n"
     ]
    }
   ],
   "source": [
    "from sklearn.ensemble import HistGradientBoostingRegressor, BaggingRegressor\n",
    "from sklearn.preprocessing import StandardScaler, OneHotEncoder\n",
    "from sklearn.feature_selection import mutual_info_regression\n",
    "from sklearn.base import BaseEstimator, RegressorMixin\n",
    "from sklearn.metrics import root_mean_squared_error\n",
    "from sklearn.compose import ColumnTransformer\n",
    "from sklearn.pipeline import make_pipeline\n",
    "from sklearn.model_selection import KFold\n",
    "from sklearn.linear_model import Ridge\n",
    "from scikeras.wrappers import KerasRegressor\n",
    "from lightgbm import LGBMRegressor, early_stopping, log_evaluation\n",
    "from ydf import GradientBoostedTreesLearner\n",
    "from catboost import CatBoostRegressor\n",
    "from xgboost import XGBRegressor\n",
    "from koolbox import Trainer\n",
    "import matplotlib.pyplot as plt\n",
    "import contextlib, io\n",
    "import seaborn as sns\n",
    "import pandas as pd\n",
    "import numpy as np\n",
    "import warnings\n",
    "import joblib\n",
    "import shutil\n",
    "import optuna\n",
    "import keras\n",
    "import json\n",
    "import glob\n",
    "import ydf\n",
    "\n",
    "ydf.verbose(2)\n",
    "warnings.filterwarnings(\"ignore\")"
   ]
  },
  {
   "cell_type": "code",
   "execution_count": 3,
   "id": "ddb4d8ed",
   "metadata": {
    "execution": {
     "iopub.execute_input": "2025-05-09T12:49:28.212440Z",
     "iopub.status.busy": "2025-05-09T12:49:28.211490Z",
     "iopub.status.idle": "2025-05-09T12:49:28.217731Z",
     "shell.execute_reply": "2025-05-09T12:49:28.216926Z"
    },
    "papermill": {
     "duration": 0.016632,
     "end_time": "2025-05-09T12:49:28.219391",
     "exception": false,
     "start_time": "2025-05-09T12:49:28.202759",
     "status": "completed"
    },
    "tags": []
   },
   "outputs": [],
   "source": [
    "class CFG:\n",
    "    train_path = \"/kaggle/input/playground-series-s5e5/train.csv\"\n",
    "    test_path = \"/kaggle/input/playground-series-s5e5/test.csv\"\n",
    "    sample_sub_path = \"/kaggle/input/playground-series-s5e5/sample_submission.csv\"\n",
    "    \n",
    "    original_path = \"/kaggle/input/calories-burnt-prediction/calories.csv\"\n",
    "\n",
    "    metric = root_mean_squared_error\n",
    "    target = \"Calories\"\n",
    "    n_folds = 5\n",
    "    seed = 42\n",
    "\n",
    "    cv = KFold(n_splits=n_folds, random_state=seed, shuffle=True)\n",
    "\n",
    "    run_optuna = True\n",
    "    n_optuna_trials = 250"
   ]
  },
  {
   "cell_type": "markdown",
   "id": "ebafcd53",
   "metadata": {
    "papermill": {
     "duration": 0.007243,
     "end_time": "2025-05-09T12:49:28.234372",
     "exception": false,
     "start_time": "2025-05-09T12:49:28.227129",
     "status": "completed"
    },
    "tags": []
   },
   "source": [
    "# Data loading and preprocessing"
   ]
  },
  {
   "cell_type": "code",
   "execution_count": 4,
   "id": "78f2b581",
   "metadata": {
    "execution": {
     "iopub.execute_input": "2025-05-09T12:49:28.251611Z",
     "iopub.status.busy": "2025-05-09T12:49:28.251067Z",
     "iopub.status.idle": "2025-05-09T12:49:29.978309Z",
     "shell.execute_reply": "2025-05-09T12:49:29.977401Z"
    },
    "papermill": {
     "duration": 1.737916,
     "end_time": "2025-05-09T12:49:29.980286",
     "exception": false,
     "start_time": "2025-05-09T12:49:28.242370",
     "status": "completed"
    },
    "tags": []
   },
   "outputs": [],
   "source": [
    "train = pd.read_csv(CFG.train_path, index_col=\"id\")\n",
    "test = pd.read_csv(CFG.test_path, index_col=\"id\")\n",
    "\n",
    "train[\"Sex\"] = train[\"Sex\"].map({\"male\": 0, \"female\": 1})\n",
    "test[\"Sex\"] = test[\"Sex\"].map({\"male\": 0, \"female\": 1})\n",
    "train[\"is_duplicate\"] = train.duplicated(subset=test.columns)\n",
    "test[\"is_duplicate\"] = test.duplicated(subset=test.columns)\n",
    "\n",
    "X = train.drop(CFG.target, axis=1)\n",
    "y = np.log1p(train[CFG.target])\n",
    "X_test = test"
   ]
  },
  {
   "cell_type": "code",
   "execution_count": 5,
   "id": "0b8fc73c",
   "metadata": {
    "execution": {
     "iopub.execute_input": "2025-05-09T12:49:29.997375Z",
     "iopub.status.busy": "2025-05-09T12:49:29.996919Z",
     "iopub.status.idle": "2025-05-09T12:49:30.046071Z",
     "shell.execute_reply": "2025-05-09T12:49:30.045104Z"
    },
    "papermill": {
     "duration": 0.059918,
     "end_time": "2025-05-09T12:49:30.048013",
     "exception": false,
     "start_time": "2025-05-09T12:49:29.988095",
     "status": "completed"
    },
    "tags": []
   },
   "outputs": [],
   "source": [
    "original = pd.read_csv(CFG.original_path, index_col=\"User_ID\")\n",
    "original[\"Gender\"] = original[\"Gender\"].map({\"male\": 0, \"female\": 1})\n",
    "original = original.rename(columns={\"Gender\": \"Sex\"})\n",
    "original[\"is_duplicate\"] = original.duplicated(subset=[col for col in X.columns if col != \"is_duplicate\"])\n",
    "\n",
    "X_original = original.drop(CFG.target, axis=1)\n",
    "y_original = np.log1p(original[CFG.target])"
   ]
  },
  {
   "cell_type": "code",
   "execution_count": 6,
   "id": "4456303a",
   "metadata": {
    "execution": {
     "iopub.execute_input": "2025-05-09T12:49:30.065392Z",
     "iopub.status.busy": "2025-05-09T12:49:30.064876Z",
     "iopub.status.idle": "2025-05-09T12:51:45.488297Z",
     "shell.execute_reply": "2025-05-09T12:51:45.487432Z"
    },
    "papermill": {
     "duration": 135.442076,
     "end_time": "2025-05-09T12:51:45.497964",
     "exception": false,
     "start_time": "2025-05-09T12:49:30.055888",
     "status": "completed"
    },
    "tags": []
   },
   "outputs": [
    {
     "data": {
      "text/html": [
       "<style type=\"text/css\">\n",
       "#T_691fb_row0_col0 {\n",
       "  width: 10em;\n",
       "  background: linear-gradient(90deg, #006837 100.0%, transparent 100.0%);\n",
       "}\n",
       "#T_691fb_row1_col0 {\n",
       "  width: 10em;\n",
       "  background: linear-gradient(90deg, #afdd70 68.3%, transparent 68.3%);\n",
       "}\n",
       "#T_691fb_row2_col0 {\n",
       "  width: 10em;\n",
       "  background: linear-gradient(90deg, #daf08d 59.6%, transparent 59.6%);\n",
       "}\n",
       "#T_691fb_row3_col0 {\n",
       "  width: 10em;\n",
       "  background: linear-gradient(90deg, #c21c27 6.0%, transparent 6.0%);\n",
       "}\n",
       "#T_691fb_row4_col0 {\n",
       "  width: 10em;\n",
       "  background: linear-gradient(90deg, #b50f26 3.4%, transparent 3.4%);\n",
       "}\n",
       "#T_691fb_row5_col0 {\n",
       "  width: 10em;\n",
       "  background: linear-gradient(90deg, #b50f26 3.3%, transparent 3.3%);\n",
       "}\n",
       "#T_691fb_row6_col0 {\n",
       "  width: 10em;\n",
       "  background: linear-gradient(90deg, #a90426 0.9%, transparent 0.9%);\n",
       "}\n",
       "#T_691fb_row7_col0 {\n",
       "  width: 10em;\n",
       "  background: linear-gradient(90deg, #a50026 0.1%, transparent 0.1%);\n",
       "}\n",
       "</style>\n",
       "<table id=\"T_691fb\">\n",
       "  <thead>\n",
       "    <tr>\n",
       "      <th class=\"blank level0\" >&nbsp;</th>\n",
       "      <th id=\"T_691fb_level0_col0\" class=\"col_heading level0 col0\" >Mutual Information</th>\n",
       "    </tr>\n",
       "  </thead>\n",
       "  <tbody>\n",
       "    <tr>\n",
       "      <th id=\"T_691fb_level0_row0\" class=\"row_heading level0 row0\" >Duration</th>\n",
       "      <td id=\"T_691fb_row0_col0\" class=\"data row0 col0\" >1.640735</td>\n",
       "    </tr>\n",
       "    <tr>\n",
       "      <th id=\"T_691fb_level0_row1\" class=\"row_heading level0 row1\" >Body_Temp</th>\n",
       "      <td id=\"T_691fb_row1_col0\" class=\"data row1 col0\" >1.121221</td>\n",
       "    </tr>\n",
       "    <tr>\n",
       "      <th id=\"T_691fb_level0_row2\" class=\"row_heading level0 row2\" >Heart_Rate</th>\n",
       "      <td id=\"T_691fb_row2_col0\" class=\"data row2 col0\" >0.977426</td>\n",
       "    </tr>\n",
       "    <tr>\n",
       "      <th id=\"T_691fb_level0_row3\" class=\"row_heading level0 row3\" >Age</th>\n",
       "      <td id=\"T_691fb_row3_col0\" class=\"data row3 col0\" >0.098682</td>\n",
       "    </tr>\n",
       "    <tr>\n",
       "      <th id=\"T_691fb_level0_row4\" class=\"row_heading level0 row4\" >Weight</th>\n",
       "      <td id=\"T_691fb_row4_col0\" class=\"data row4 col0\" >0.055681</td>\n",
       "    </tr>\n",
       "    <tr>\n",
       "      <th id=\"T_691fb_level0_row5\" class=\"row_heading level0 row5\" >Height</th>\n",
       "      <td id=\"T_691fb_row5_col0\" class=\"data row5 col0\" >0.054430</td>\n",
       "    </tr>\n",
       "    <tr>\n",
       "      <th id=\"T_691fb_level0_row6\" class=\"row_heading level0 row6\" >Sex</th>\n",
       "      <td id=\"T_691fb_row6_col0\" class=\"data row6 col0\" >0.015185</td>\n",
       "    </tr>\n",
       "    <tr>\n",
       "      <th id=\"T_691fb_level0_row7\" class=\"row_heading level0 row7\" >is_duplicate</th>\n",
       "      <td id=\"T_691fb_row7_col0\" class=\"data row7 col0\" >0.001709</td>\n",
       "    </tr>\n",
       "  </tbody>\n",
       "</table>\n"
      ],
      "text/plain": [
       "<pandas.io.formats.style.Styler at 0x7b24f5915e50>"
      ]
     },
     "execution_count": 6,
     "metadata": {},
     "output_type": "execute_result"
    }
   ],
   "source": [
    "mutual_info = mutual_info_regression(X, y, random_state=CFG.seed)\n",
    "\n",
    "mutual_info = pd.Series(mutual_info)\n",
    "mutual_info.index = X.columns\n",
    "mutual_info = pd.DataFrame(mutual_info.sort_values(ascending=False), columns=['Mutual Information'])\n",
    "mutual_info.style.bar(subset=['Mutual Information'], cmap='RdYlGn')"
   ]
  },
  {
   "cell_type": "code",
   "execution_count": 7,
   "id": "75a15da0",
   "metadata": {
    "execution": {
     "iopub.execute_input": "2025-05-09T12:51:45.515155Z",
     "iopub.status.busy": "2025-05-09T12:51:45.514781Z",
     "iopub.status.idle": "2025-05-09T12:51:46.369679Z",
     "shell.execute_reply": "2025-05-09T12:51:46.368714Z"
    },
    "papermill": {
     "duration": 0.865502,
     "end_time": "2025-05-09T12:51:46.371321",
     "exception": false,
     "start_time": "2025-05-09T12:51:45.505819",
     "status": "completed"
    },
    "tags": []
   },
   "outputs": [
    {
     "data": {
      "text/html": [
       "<style type=\"text/css\">\n",
       "#T_96e68_row0_col0 {\n",
       "  width: 10em;\n",
       "  background: linear-gradient(90deg, #006837 100.0%, transparent 100.0%);\n",
       "}\n",
       "#T_96e68_row1_col0 {\n",
       "  width: 10em;\n",
       "  background: linear-gradient(90deg, #bfe47a 65.0%, transparent 65.0%);\n",
       "}\n",
       "#T_96e68_row2_col0 {\n",
       "  width: 10em;\n",
       "  background: linear-gradient(90deg, #e3f399 57.3%, transparent 57.3%);\n",
       "}\n",
       "#T_96e68_row3_col0 {\n",
       "  width: 10em;\n",
       "  background: linear-gradient(90deg, #af0926 2.2%, transparent 2.2%);\n",
       "}\n",
       "#T_96e68_row4_col0 {\n",
       "  width: 10em;\n",
       "  background: linear-gradient(90deg, #ab0626 1.3%, transparent 1.3%);\n",
       "}\n",
       "#T_96e68_row5_col0 {\n",
       "  width: 10em;\n",
       "  background: linear-gradient(90deg, #a90426 0.9%, transparent 0.9%);\n",
       "}\n",
       "#T_96e68_row6_col0, #T_96e68_row7_col0 {\n",
       "  width: 10em;\n",
       "  background: linear-gradient(90deg, #a50026 0.2%, transparent 0.2%);\n",
       "}\n",
       "</style>\n",
       "<table id=\"T_96e68\">\n",
       "  <thead>\n",
       "    <tr>\n",
       "      <th class=\"blank level0\" >&nbsp;</th>\n",
       "      <th id=\"T_96e68_level0_col0\" class=\"col_heading level0 col0\" >Mutual Information</th>\n",
       "    </tr>\n",
       "  </thead>\n",
       "  <tbody>\n",
       "    <tr>\n",
       "      <th id=\"T_96e68_level0_row0\" class=\"row_heading level0 row0\" >Duration</th>\n",
       "      <td id=\"T_96e68_row0_col0\" class=\"data row0 col0\" >1.512729</td>\n",
       "    </tr>\n",
       "    <tr>\n",
       "      <th id=\"T_96e68_level0_row1\" class=\"row_heading level0 row1\" >Body_Temp</th>\n",
       "      <td id=\"T_96e68_row1_col0\" class=\"data row1 col0\" >0.983800</td>\n",
       "    </tr>\n",
       "    <tr>\n",
       "      <th id=\"T_96e68_level0_row2\" class=\"row_heading level0 row2\" >Heart_Rate</th>\n",
       "      <td id=\"T_96e68_row2_col0\" class=\"data row2 col0\" >0.866519</td>\n",
       "    </tr>\n",
       "    <tr>\n",
       "      <th id=\"T_96e68_level0_row3\" class=\"row_heading level0 row3\" >Age</th>\n",
       "      <td id=\"T_96e68_row3_col0\" class=\"data row3 col0\" >0.033921</td>\n",
       "    </tr>\n",
       "    <tr>\n",
       "      <th id=\"T_96e68_level0_row4\" class=\"row_heading level0 row4\" >Weight</th>\n",
       "      <td id=\"T_96e68_row4_col0\" class=\"data row4 col0\" >0.019035</td>\n",
       "    </tr>\n",
       "    <tr>\n",
       "      <th id=\"T_96e68_level0_row5\" class=\"row_heading level0 row5\" >Sex</th>\n",
       "      <td id=\"T_96e68_row5_col0\" class=\"data row5 col0\" >0.014289</td>\n",
       "    </tr>\n",
       "    <tr>\n",
       "      <th id=\"T_96e68_level0_row6\" class=\"row_heading level0 row6\" >is_duplicate</th>\n",
       "      <td id=\"T_96e68_row6_col0\" class=\"data row6 col0\" >0.003482</td>\n",
       "    </tr>\n",
       "    <tr>\n",
       "      <th id=\"T_96e68_level0_row7\" class=\"row_heading level0 row7\" >Height</th>\n",
       "      <td id=\"T_96e68_row7_col0\" class=\"data row7 col0\" >0.003042</td>\n",
       "    </tr>\n",
       "  </tbody>\n",
       "</table>\n"
      ],
      "text/plain": [
       "<pandas.io.formats.style.Styler at 0x7b24f4dd3450>"
      ]
     },
     "execution_count": 7,
     "metadata": {},
     "output_type": "execute_result"
    }
   ],
   "source": [
    "mutual_info = mutual_info_regression(X_original, y_original, random_state=CFG.seed)\n",
    "\n",
    "mutual_info = pd.Series(mutual_info)\n",
    "mutual_info.index = X_original.columns\n",
    "mutual_info = pd.DataFrame(mutual_info.sort_values(ascending=False), columns=['Mutual Information'])\n",
    "mutual_info.style.bar(subset=['Mutual Information'], cmap='RdYlGn')"
   ]
  },
  {
   "cell_type": "code",
   "execution_count": 8,
   "id": "e8067ff2",
   "metadata": {
    "execution": {
     "iopub.execute_input": "2025-05-09T12:51:46.389067Z",
     "iopub.status.busy": "2025-05-09T12:51:46.388636Z",
     "iopub.status.idle": "2025-05-09T12:51:47.751168Z",
     "shell.execute_reply": "2025-05-09T12:51:47.750125Z"
    },
    "papermill": {
     "duration": 1.373699,
     "end_time": "2025-05-09T12:51:47.753256",
     "exception": false,
     "start_time": "2025-05-09T12:51:46.379557",
     "status": "completed"
    },
    "tags": []
   },
   "outputs": [
    {
     "data": {
      "image/png": "[encoded data removed]",
      "text/plain": [
       "<Figure size 1600x600 with 4 Axes>"
      ]
     },
     "metadata": {},
     "output_type": "display_data"
    }
   ],
   "source": [
    "sns.set_style(\"white\")\n",
    "fig, axes = plt.subplots(1, 2, figsize=(16, 6))\n",
    "\n",
    "corr_train = train.corr()\n",
    "mask_train = np.triu(np.ones_like(corr_train, dtype=bool), k=1)\n",
    "sns.heatmap(\n",
    "    data=corr_train,\n",
    "    annot=True,\n",
    "    fmt='.2f',\n",
    "    mask=mask_train,\n",
    "    square=True,\n",
    "    cmap='coolwarm',\n",
    "    cbar_kws={'shrink': .7, 'format': '%.2f'},   \n",
    "    annot_kws={'size': 8},\n",
    "    center=0,\n",
    "    ax=axes[0]\n",
    ")\n",
    "axes[0].set_title('Train')\n",
    "axes[0].tick_params(axis='both', which='major', labelsize=8)\n",
    "\n",
    "corr_orig = original.corr()\n",
    "mask_orig = np.triu(np.ones_like(corr_orig, dtype=bool), k=1)\n",
    "sns.heatmap(\n",
    "    data=corr_orig,\n",
    "    annot=True,\n",
    "    fmt='.2f',\n",
    "    mask=mask_orig,\n",
    "    square=True,\n",
    "    cmap='coolwarm',\n",
    "    cbar_kws={'shrink': .7, 'format': '%.2f'},   \n",
    "    annot_kws={'size': 8},\n",
    "    center=0,\n",
    "    ax=axes[1]\n",
    ")\n",
    "axes[1].set_title('Original')\n",
    "axes[1].tick_params(axis='both', which='major', labelsize=8)\n",
    "\n",
    "plt.tight_layout()\n",
    "plt.show()"
   ]
  },
  {
   "cell_type": "markdown",
   "id": "b5bb121c",
   "metadata": {
    "papermill": {
     "duration": 0.008721,
     "end_time": "2025-05-09T12:51:47.771964",
     "exception": false,
     "start_time": "2025-05-09T12:51:47.763243",
     "status": "completed"
    },
    "tags": []
   },
   "source": [
    "# Training base models"
   ]
  },
  {
   "cell_type": "code",
   "execution_count": 9,
   "id": "8c7820dd",
   "metadata": {
    "_kg_hide-input": true,
    "_kg_hide-output": true,
    "execution": {
     "iopub.execute_input": "2025-05-09T12:51:47.792520Z",
     "iopub.status.busy": "2025-05-09T12:51:47.791504Z",
     "iopub.status.idle": "2025-05-09T12:51:47.801141Z",
     "shell.execute_reply": "2025-05-09T12:51:47.800161Z"
    },
    "papermill": {
     "duration": 0.021571,
     "end_time": "2025-05-09T12:51:47.802708",
     "exception": false,
     "start_time": "2025-05-09T12:51:47.781137",
     "status": "completed"
    },
    "tags": []
   },
   "outputs": [],
   "source": [
    "histgb_params = {\n",
    "    \"l2_regularization\": 10.412017522533768,\n",
    "    \"learning_rate\": 0.011702680619474444,\n",
    "    \"max_depth\": 59,\n",
    "    \"max_features\": 0.30616140080552673,\n",
    "    \"max_iter\": 4454,\n",
    "    \"max_leaf_nodes\": 385,\n",
    "    \"min_samples_leaf\": 50,\n",
    "    \"random_state\": 42\n",
    "}\n",
    "\n",
    "lgbm_params = {\n",
    "    \"boosting_type\": \"gbdt\",\n",
    "    \"colsample_bytree\": 0.8213924491907012,\n",
    "    \"learning_rate\": 0.059976685297931195,\n",
    "    \"min_child_samples\": 10,\n",
    "    \"min_child_weight\": 0.5425237767880097,\n",
    "    \"n_estimators\": 50000,\n",
    "    \"n_jobs\": -1,\n",
    "    \"num_leaves\": 89,\n",
    "    \"random_state\": 42,\n",
    "    \"reg_alpha\": 2.0325709613371545,\n",
    "    \"reg_lambda\": 87.27971117911044,\n",
    "    \"subsample\": 0.6452823633939004,\n",
    "    \"verbose\": -1\n",
    "}\n",
    "\n",
    "lgbm_goss_params = {\n",
    "    \"boosting_type\": \"goss\",\n",
    "    \"colsample_bytree\": 0.9068724002629094,\n",
    "    \"learning_rate\": 0.06459027654473874,\n",
    "    \"min_child_samples\": 39,\n",
    "    \"min_child_weight\": 0.5337673729810578,\n",
    "    \"n_estimators\": 50000,\n",
    "    \"n_jobs\": -1,\n",
    "    \"num_leaves\": 13,\n",
    "    \"random_state\": 42,\n",
    "    \"reg_alpha\": 1.603969498256519,\n",
    "    \"reg_lambda\": 10.806488455621444,\n",
    "    \"subsample\": 0.5966412222358356,\n",
    "    \"verbose\": -1\n",
    "}\n",
    "\n",
    "xgb_params = {\n",
    "    \"colsample_bylevel\": 0.8606487417581108,\n",
    "    \"colsample_bynode\": 0.9410596660335436,\n",
    "    \"colsample_bytree\": 0.9407540036296737,\n",
    "    \"early_stopping_rounds\": 100,\n",
    "    \"eval_metric\": \"rmse\",\n",
    "    \"gamma\": 0.023260595738991977,\n",
    "    \"learning_rate\": 0.03669372905801298,\n",
    "    \"max_depth\": 11,\n",
    "    \"max_leaves\": 51,\n",
    "    \"min_child_weight\": 96,\n",
    "    \"n_estimators\": 50000,\n",
    "    \"n_jobs\": -1,\n",
    "    \"random_state\": 42,\n",
    "    \"reg_alpha\": 2.953205886504917,\n",
    "    \"reg_lambda\": 67.64147033446291,\n",
    "    \"subsample\": 0.6973241930754311,\n",
    "    \"verbosity\": 0\n",
    "}\n",
    "\n",
    "cb_params = {\n",
    "    \"border_count\": 88,\n",
    "    \"colsample_bylevel\": 0.7903437608890396,\n",
    "    \"depth\": 8,\n",
    "    \"eval_metric\": \"RMSE\",\n",
    "    \"iterations\": 50000,\n",
    "    \"l2_leaf_reg\": 6.065104074215131,\n",
    "    \"learning_rate\": 0.030946464122148992,\n",
    "    \"min_child_samples\": 138,\n",
    "    \"random_state\": 42,\n",
    "    \"random_strength\": 0.035251008593976785,\n",
    "    \"verbose\": False\n",
    "}\n",
    "\n",
    "ydf_params = {\n",
    "    \"num_trees\": 1000,\n",
    "    \"max_depth\": 8\n",
    "}"
   ]
  },
  {
   "cell_type": "code",
   "execution_count": 10,
   "id": "3a33e18a",
   "metadata": {
    "execution": {
     "iopub.execute_input": "2025-05-09T12:51:47.823202Z",
     "iopub.status.busy": "2025-05-09T12:51:47.822235Z",
     "iopub.status.idle": "2025-05-09T12:51:47.827064Z",
     "shell.execute_reply": "2025-05-09T12:51:47.826130Z"
    },
    "papermill": {
     "duration": 0.016473,
     "end_time": "2025-05-09T12:51:47.828481",
     "exception": false,
     "start_time": "2025-05-09T12:51:47.812008",
     "status": "completed"
    },
    "tags": []
   },
   "outputs": [],
   "source": [
    "scores = {}\n",
    "oof_preds = {}\n",
    "test_preds = {}"
   ]
  },
  {
   "cell_type": "markdown",
   "id": "7d8132d4",
   "metadata": {
    "papermill": {
     "duration": 0.00911,
     "end_time": "2025-05-09T12:51:47.847293",
     "exception": false,
     "start_time": "2025-05-09T12:51:47.838183",
     "status": "completed"
    },
    "tags": []
   },
   "source": [
    "## HistGradientBoosting"
   ]
  },
  {
   "cell_type": "code",
   "execution_count": 11,
   "id": "00b70c11",
   "metadata": {
    "execution": {
     "iopub.execute_input": "2025-05-09T12:51:47.868411Z",
     "iopub.status.busy": "2025-05-09T12:51:47.867175Z",
     "iopub.status.idle": "2025-05-09T13:01:03.725101Z",
     "shell.execute_reply": "2025-05-09T13:01:03.724046Z"
    },
    "papermill": {
     "duration": 555.87067,
     "end_time": "2025-05-09T13:01:03.727270",
     "exception": false,
     "start_time": "2025-05-09T12:51:47.856600",
     "status": "completed"
    },
    "tags": []
   },
   "outputs": [
    {
     "name": "stdout",
     "output_type": "stream",
     "text": [
      "Training HistGradientBoostingRegressor\n",
      "\n",
      "--- Fold 0 - root_mean_squared_error: 0.0595 - Time: 96.88 s\n",
      "--- Fold 1 - root_mean_squared_error: 0.0604 - Time: 93.90 s\n",
      "--- Fold 2 - root_mean_squared_error: 0.0597 - Time: 96.28 s\n",
      "--- Fold 3 - root_mean_squared_error: 0.0601 - Time: 82.56 s\n",
      "--- Fold 4 - root_mean_squared_error: 0.0593 - Time: 93.01 s\n",
      "\n",
      "------ Overall root_mean_squared_error: 0.0598 - Mean root_mean_squared_error: 0.0598 ± 0.0004 - Time: 465.31 s\n"
     ]
    }
   ],
   "source": [
    "histgb_trainer = Trainer(\n",
    "    HistGradientBoostingRegressor(**histgb_params),\n",
    "    cv=CFG.cv,\n",
    "    metric=CFG.metric,\n",
    "    task=\"regression\"\n",
    ")\n",
    "\n",
    "histgb_trainer.fit(X, y, extra_X=X_original, extra_y=y_original)\n",
    "\n",
    "scores[\"HistGB\"] = histgb_trainer.fold_scores\n",
    "oof_preds[\"HistGB\"] = histgb_trainer.oof_preds\n",
    "test_preds[\"HistGB\"] = histgb_trainer.predict(X_test)"
   ]
  },
  {
   "cell_type": "markdown",
   "id": "c8a55629",
   "metadata": {
    "papermill": {
     "duration": 0.009586,
     "end_time": "2025-05-09T13:01:03.747432",
     "exception": false,
     "start_time": "2025-05-09T13:01:03.737846",
     "status": "completed"
    },
    "tags": []
   },
   "source": [
    "## LightGBM (gbdt)"
   ]
  },
  {
   "cell_type": "code",
   "execution_count": 12,
   "id": "8758555f",
   "metadata": {
    "execution": {
     "iopub.execute_input": "2025-05-09T13:01:03.874408Z",
     "iopub.status.busy": "2025-05-09T13:01:03.873994Z",
     "iopub.status.idle": "2025-05-09T13:05:43.637404Z",
     "shell.execute_reply": "2025-05-09T13:05:43.636430Z"
    },
    "papermill": {
     "duration": 279.777186,
     "end_time": "2025-05-09T13:05:43.640038",
     "exception": false,
     "start_time": "2025-05-09T13:01:03.862852",
     "status": "completed"
    },
    "tags": []
   },
   "outputs": [
    {
     "name": "stdout",
     "output_type": "stream",
     "text": [
      "Training LGBMRegressor\n",
      "\n",
      "Training until validation scores don't improve for 100 rounds\n",
      "Early stopping, best iteration is:\n",
      "[714]\tvalid_0's rmse: 0.0594767\tvalid_0's l2: 0.00353747\n",
      "--- Fold 0 - root_mean_squared_error: 0.0595 - Time: 27.07 s\n",
      "\n",
      "Training until validation scores don't improve for 100 rounds\n",
      "[1000]\tvalid_0's rmse: 0.0603016\tvalid_0's l2: 0.00363628\n",
      "Early stopping, best iteration is:\n",
      "[1635]\tvalid_0's rmse: 0.0602051\tvalid_0's l2: 0.00362465\n",
      "--- Fold 1 - root_mean_squared_error: 0.0602 - Time: 49.95 s\n",
      "\n",
      "Training until validation scores don't improve for 100 rounds\n",
      "[1000]\tvalid_0's rmse: 0.0596375\tvalid_0's l2: 0.00355663\n",
      "Early stopping, best iteration is:\n",
      "[1290]\tvalid_0's rmse: 0.0595827\tvalid_0's l2: 0.00355009\n",
      "--- Fold 2 - root_mean_squared_error: 0.0596 - Time: 41.25 s\n",
      "\n",
      "Training until validation scores don't improve for 100 rounds\n",
      "[1000]\tvalid_0's rmse: 0.0601261\tvalid_0's l2: 0.00361515\n",
      "Early stopping, best iteration is:\n",
      "[1839]\tvalid_0's rmse: 0.0599987\tvalid_0's l2: 0.00359985\n",
      "--- Fold 3 - root_mean_squared_error: 0.0600 - Time: 51.97 s\n",
      "\n",
      "Training until validation scores don't improve for 100 rounds\n",
      "[1000]\tvalid_0's rmse: 0.0595142\tvalid_0's l2: 0.00354195\n",
      "Early stopping, best iteration is:\n",
      "[1277]\tvalid_0's rmse: 0.0594374\tvalid_0's l2: 0.00353281\n",
      "--- Fold 4 - root_mean_squared_error: 0.0594 - Time: 40.81 s\n",
      "\n",
      "\n",
      "------ Overall root_mean_squared_error: 0.0597 - Mean root_mean_squared_error: 0.0597 ± 0.0003 - Time: 213.55 s\n"
     ]
    }
   ],
   "source": [
    "lgbm_trainer = Trainer(\n",
    "    LGBMRegressor(**lgbm_params),\n",
    "    cv=CFG.cv,\n",
    "    metric=CFG.metric,\n",
    "    use_early_stopping=True,\n",
    "    task=\"regression\"\n",
    ")\n",
    "\n",
    "fit_args = {\n",
    "    \"eval_metric\": \"rmse\",\n",
    "    \"callbacks\": [\n",
    "        log_evaluation(period=1000), \n",
    "        early_stopping(stopping_rounds=100)\n",
    "    ]\n",
    "}\n",
    "\n",
    "lgbm_trainer.fit(X, y, fit_args=fit_args, extra_X=X_original, extra_y=y_original)\n",
    "\n",
    "scores[\"LightGBM (gbdt)\"] = lgbm_trainer.fold_scores\n",
    "oof_preds[\"LightGBM (gbdt)\"] = lgbm_trainer.oof_preds\n",
    "test_preds[\"LightGBM (gbdt)\"] = lgbm_trainer.predict(X_test)"
   ]
  },
  {
   "cell_type": "markdown",
   "id": "b53c8d6c",
   "metadata": {
    "papermill": {
     "duration": 0.010646,
     "end_time": "2025-05-09T13:05:43.665826",
     "exception": false,
     "start_time": "2025-05-09T13:05:43.655180",
     "status": "completed"
    },
    "tags": []
   },
   "source": [
    "## LightGBM (goss)"
   ]
  },
  {
   "cell_type": "code",
   "execution_count": 13,
   "id": "1e1618e5",
   "metadata": {
    "execution": {
     "iopub.execute_input": "2025-05-09T13:05:43.689270Z",
     "iopub.status.busy": "2025-05-09T13:05:43.688870Z",
     "iopub.status.idle": "2025-05-09T13:15:14.584367Z",
     "shell.execute_reply": "2025-05-09T13:15:14.583525Z"
    },
    "papermill": {
     "duration": 570.909874,
     "end_time": "2025-05-09T13:15:14.586637",
     "exception": false,
     "start_time": "2025-05-09T13:05:43.676763",
     "status": "completed"
    },
    "tags": []
   },
   "outputs": [
    {
     "name": "stdout",
     "output_type": "stream",
     "text": [
      "Training LGBMRegressor\n",
      "\n",
      "Training until validation scores don't improve for 100 rounds\n",
      "[1000]\tvalid_0's rmse: 0.0599509\tvalid_0's l2: 0.00359411\n",
      "[2000]\tvalid_0's rmse: 0.0596504\tvalid_0's l2: 0.00355818\n",
      "[3000]\tvalid_0's rmse: 0.0595735\tvalid_0's l2: 0.003549\n",
      "Early stopping, best iteration is:\n",
      "[3196]\tvalid_0's rmse: 0.0595646\tvalid_0's l2: 0.00354794\n",
      "--- Fold 0 - root_mean_squared_error: 0.0596 - Time: 95.95 s\n",
      "\n",
      "Training until validation scores don't improve for 100 rounds\n",
      "[1000]\tvalid_0's rmse: 0.0607915\tvalid_0's l2: 0.00369561\n",
      "[2000]\tvalid_0's rmse: 0.0603905\tvalid_0's l2: 0.00364702\n",
      "[3000]\tvalid_0's rmse: 0.0602703\tvalid_0's l2: 0.00363251\n",
      "Early stopping, best iteration is:\n",
      "[3547]\tvalid_0's rmse: 0.0602339\tvalid_0's l2: 0.00362812\n",
      "--- Fold 1 - root_mean_squared_error: 0.0602 - Time: 103.38 s\n",
      "\n",
      "Training until validation scores don't improve for 100 rounds\n",
      "[1000]\tvalid_0's rmse: 0.0601047\tvalid_0's l2: 0.00361257\n",
      "[2000]\tvalid_0's rmse: 0.0597083\tvalid_0's l2: 0.00356508\n",
      "[3000]\tvalid_0's rmse: 0.0595661\tvalid_0's l2: 0.00354812\n",
      "Early stopping, best iteration is:\n",
      "[3059]\tvalid_0's rmse: 0.0595586\tvalid_0's l2: 0.00354723\n",
      "--- Fold 2 - root_mean_squared_error: 0.0596 - Time: 88.71 s\n",
      "\n",
      "Training until validation scores don't improve for 100 rounds\n",
      "[1000]\tvalid_0's rmse: 0.0606913\tvalid_0's l2: 0.00368344\n",
      "[2000]\tvalid_0's rmse: 0.0602924\tvalid_0's l2: 0.00363517\n",
      "[3000]\tvalid_0's rmse: 0.0601193\tvalid_0's l2: 0.00361433\n",
      "Early stopping, best iteration is:\n",
      "[3836]\tvalid_0's rmse: 0.0600475\tvalid_0's l2: 0.0036057\n",
      "--- Fold 3 - root_mean_squared_error: 0.0600 - Time: 113.10 s\n",
      "\n",
      "Training until validation scores don't improve for 100 rounds\n",
      "[1000]\tvalid_0's rmse: 0.0597149\tvalid_0's l2: 0.00356587\n",
      "[2000]\tvalid_0's rmse: 0.0593746\tvalid_0's l2: 0.00352534\n",
      "Early stopping, best iteration is:\n",
      "[2560]\tvalid_0's rmse: 0.0593103\tvalid_0's l2: 0.00351771\n",
      "--- Fold 4 - root_mean_squared_error: 0.0593 - Time: 75.27 s\n",
      "\n",
      "\n",
      "------ Overall root_mean_squared_error: 0.0597 - Mean root_mean_squared_error: 0.0597 ± 0.0003 - Time: 478.53 s\n"
     ]
    }
   ],
   "source": [
    "lgbm_goss_trainer = Trainer(\n",
    "    LGBMRegressor(**lgbm_goss_params),\n",
    "    cv=CFG.cv,\n",
    "    metric=CFG.metric,\n",
    "    use_early_stopping=True,\n",
    "    task=\"regression\"\n",
    ")\n",
    "\n",
    "fit_args = {\n",
    "    \"eval_metric\": \"rmse\",\n",
    "    \"callbacks\": [\n",
    "        log_evaluation(period=1000), \n",
    "        early_stopping(stopping_rounds=100)\n",
    "    ]\n",
    "}\n",
    "\n",
    "lgbm_goss_trainer.fit(X, y, fit_args=fit_args, extra_X=X_original, extra_y=y_original)\n",
    "\n",
    "scores[\"LightGBM (goss)\"] = lgbm_goss_trainer.fold_scores\n",
    "oof_preds[\"LightGBM (goss)\"] = lgbm_goss_trainer.oof_preds\n",
    "test_preds[\"LightGBM (goss)\"] = lgbm_goss_trainer.predict(X_test)"
   ]
  },
  {
   "cell_type": "markdown",
   "id": "8332cfa0",
   "metadata": {
    "papermill": {
     "duration": 0.011505,
     "end_time": "2025-05-09T13:15:14.613024",
     "exception": false,
     "start_time": "2025-05-09T13:15:14.601519",
     "status": "completed"
    },
    "tags": []
   },
   "source": [
    "## XGBoost"
   ]
  },
  {
   "cell_type": "code",
   "execution_count": 14,
   "id": "2a3d81a4",
   "metadata": {
    "execution": {
     "iopub.execute_input": "2025-05-09T13:15:14.638278Z",
     "iopub.status.busy": "2025-05-09T13:15:14.637960Z",
     "iopub.status.idle": "2025-05-09T13:21:54.154477Z",
     "shell.execute_reply": "2025-05-09T13:21:54.153604Z"
    },
    "papermill": {
     "duration": 399.531498,
     "end_time": "2025-05-09T13:21:54.156223",
     "exception": false,
     "start_time": "2025-05-09T13:15:14.624725",
     "status": "completed"
    },
    "tags": []
   },
   "outputs": [
    {
     "name": "stdout",
     "output_type": "stream",
     "text": [
      "Training XGBRegressor\n",
      "\n",
      "[0]\tvalidation_0-rmse:0.92934\n",
      "[1000]\tvalidation_0-rmse:0.06006\n",
      "[2000]\tvalidation_0-rmse:0.06000\n",
      "[2529]\tvalidation_0-rmse:0.05999\n",
      "--- Fold 0 - root_mean_squared_error: 0.0600 - Time: 73.28 s\n",
      "\n",
      "[0]\tvalidation_0-rmse:0.93170\n",
      "[1000]\tvalidation_0-rmse:0.06144\n",
      "[2000]\tvalidation_0-rmse:0.06135\n",
      "[3000]\tvalidation_0-rmse:0.06130\n",
      "[3583]\tvalidation_0-rmse:0.06128\n",
      "--- Fold 1 - root_mean_squared_error: 0.0613 - Time: 101.03 s\n",
      "\n",
      "[0]\tvalidation_0-rmse:0.93047\n",
      "[1000]\tvalidation_0-rmse:0.06064\n",
      "[2000]\tvalidation_0-rmse:0.06054\n",
      "[3000]\tvalidation_0-rmse:0.06051\n",
      "[4000]\tvalidation_0-rmse:0.06048\n",
      "[4084]\tvalidation_0-rmse:0.06048\n",
      "--- Fold 2 - root_mean_squared_error: 0.0605 - Time: 109.85 s\n",
      "\n",
      "[0]\tvalidation_0-rmse:0.92898\n",
      "[1000]\tvalidation_0-rmse:0.06086\n",
      "[1376]\tvalidation_0-rmse:0.06084\n",
      "--- Fold 3 - root_mean_squared_error: 0.0608 - Time: 47.05 s\n",
      "\n",
      "[0]\tvalidation_0-rmse:0.92969\n",
      "[1000]\tvalidation_0-rmse:0.06026\n",
      "[1649]\tvalidation_0-rmse:0.06022\n",
      "--- Fold 4 - root_mean_squared_error: 0.0602 - Time: 50.79 s\n",
      "\n",
      "\n",
      "------ Overall root_mean_squared_error: 0.0606 - Mean root_mean_squared_error: 0.0606 ± 0.0005 - Time: 384.50 s\n"
     ]
    }
   ],
   "source": [
    "xgb_trainer = Trainer(\n",
    "    XGBRegressor(**xgb_params),\n",
    "    cv=CFG.cv,\n",
    "    metric=CFG.metric,\n",
    "    use_early_stopping=True,\n",
    "    task=\"regression\"\n",
    ")\n",
    "\n",
    "fit_args = {\n",
    "    \"verbose\": 1000\n",
    "}\n",
    "\n",
    "xgb_trainer.fit(X, y, fit_args=fit_args, extra_X=X_original, extra_y=y_original)\n",
    "\n",
    "scores[\"XGBoost\"] = xgb_trainer.fold_scores\n",
    "oof_preds[\"XGBoost\"] = xgb_trainer.oof_preds\n",
    "test_preds[\"XGBoost\"] = xgb_trainer.predict(X_test)"
   ]
  },
  {
   "cell_type": "markdown",
   "id": "4451a857",
   "metadata": {
    "papermill": {
     "duration": 0.01323,
     "end_time": "2025-05-09T13:21:54.188604",
     "exception": false,
     "start_time": "2025-05-09T13:21:54.175374",
     "status": "completed"
    },
    "tags": []
   },
   "source": [
    "## CatBoost"
   ]
  },
  {
   "cell_type": "code",
   "execution_count": 15,
   "id": "92f92e3b",
   "metadata": {
    "execution": {
     "iopub.execute_input": "2025-05-09T13:21:54.219577Z",
     "iopub.status.busy": "2025-05-09T13:21:54.218777Z",
     "iopub.status.idle": "2025-05-09T13:35:23.298884Z",
     "shell.execute_reply": "2025-05-09T13:35:23.295708Z"
    },
    "papermill": {
     "duration": 809.099427,
     "end_time": "2025-05-09T13:35:23.301551",
     "exception": false,
     "start_time": "2025-05-09T13:21:54.202124",
     "status": "completed"
    },
    "tags": []
   },
   "outputs": [
    {
     "name": "stdout",
     "output_type": "stream",
     "text": [
      "Training CatBoostRegressor\n",
      "\n",
      "0:\tlearn: 0.9348642\ttest: 0.9341399\tbest: 0.9341399 (0)\ttotal: 130ms\tremaining: 1h 48m 4s\n",
      "1000:\tlearn: 0.0571147\ttest: 0.0592641\tbest: 0.0592641 (1000)\ttotal: 59.2s\tremaining: 48m 15s\n",
      "Stopped by overfitting detector  (100 iterations wait)\n",
      "\n",
      "bestTest = 0.05916268784\n",
      "bestIteration = 1520\n",
      "\n",
      "Shrink model to first 1521 iterations.\n",
      "--- Fold 0 - root_mean_squared_error: 0.0592 - Time: 95.96 s\n",
      "\n",
      "0:\tlearn: 0.9342791\ttest: 0.9365786\tbest: 0.9365786 (0)\ttotal: 90.4ms\tremaining: 1h 15m 19s\n",
      "1000:\tlearn: 0.0570840\ttest: 0.0598340\tbest: 0.0598339 (999)\ttotal: 59.1s\tremaining: 48m 11s\n",
      "2000:\tlearn: 0.0559540\ttest: 0.0596861\tbest: 0.0596861 (2000)\ttotal: 1m 56s\tremaining: 46m 45s\n",
      "Stopped by overfitting detector  (100 iterations wait)\n",
      "\n",
      "bestTest = 0.05966158519\n",
      "bestIteration = 2741\n",
      "\n",
      "Shrink model to first 2742 iterations.\n",
      "--- Fold 1 - root_mean_squared_error: 0.0597 - Time: 167.16 s\n",
      "\n",
      "0:\tlearn: 0.9346122\ttest: 0.9351991\tbest: 0.9351991 (0)\ttotal: 79.7ms\tremaining: 1h 6m 27s\n",
      "1000:\tlearn: 0.0571036\ttest: 0.0593844\tbest: 0.0593839 (999)\ttotal: 59.1s\tremaining: 48m 14s\n",
      "2000:\tlearn: 0.0559799\ttest: 0.0591294\tbest: 0.0591289 (1998)\ttotal: 1m 56s\tremaining: 46m 45s\n",
      "3000:\tlearn: 0.0551850\ttest: 0.0590720\tbest: 0.0590716 (2993)\ttotal: 2m 53s\tremaining: 45m 18s\n",
      "Stopped by overfitting detector  (100 iterations wait)\n",
      "\n",
      "bestTest = 0.05906479004\n",
      "bestIteration = 3221\n",
      "\n",
      "Shrink model to first 3222 iterations.\n",
      "--- Fold 2 - root_mean_squared_error: 0.0591 - Time: 193.62 s\n",
      "\n",
      "0:\tlearn: 0.9349648\ttest: 0.9337094\tbest: 0.9337094 (0)\ttotal: 84ms\tremaining: 1h 9m 58s\n",
      "1000:\tlearn: 0.0570895\ttest: 0.0597589\tbest: 0.0597589 (1000)\ttotal: 58.9s\tremaining: 48m 4s\n",
      "2000:\tlearn: 0.0560240\ttest: 0.0595270\tbest: 0.0595270 (2000)\ttotal: 1m 56s\tremaining: 46m 32s\n",
      "3000:\tlearn: 0.0552085\ttest: 0.0594484\tbest: 0.0594477 (2991)\ttotal: 2m 54s\tremaining: 45m 37s\n",
      "Stopped by overfitting detector  (100 iterations wait)\n",
      "\n",
      "bestTest = 0.05943336437\n",
      "bestIteration = 3479\n",
      "\n",
      "Shrink model to first 3480 iterations.\n",
      "--- Fold 3 - root_mean_squared_error: 0.0594 - Time: 210.00 s\n",
      "\n",
      "0:\tlearn: 0.9347871\ttest: 0.9344354\tbest: 0.9344354 (0)\ttotal: 86.8ms\tremaining: 1h 12m 18s\n",
      "1000:\tlearn: 0.0572775\ttest: 0.0590811\tbest: 0.0590811 (1000)\ttotal: 1m 1s\tremaining: 50m 5s\n",
      "2000:\tlearn: 0.0561200\ttest: 0.0589660\tbest: 0.0589659 (1999)\ttotal: 2m 2s\tremaining: 49m 4s\n",
      "Stopped by overfitting detector  (100 iterations wait)\n",
      "\n",
      "bestTest = 0.05895805248\n",
      "bestIteration = 2116\n",
      "\n",
      "Shrink model to first 2117 iterations.\n",
      "--- Fold 4 - root_mean_squared_error: 0.0590 - Time: 137.55 s\n",
      "\n",
      "\n",
      "------ Overall root_mean_squared_error: 0.0593 - Mean root_mean_squared_error: 0.0593 ± 0.0003 - Time: 806.99 s\n"
     ]
    }
   ],
   "source": [
    "cb_trainer = Trainer(\n",
    "    CatBoostRegressor(**cb_params),\n",
    "    cv=CFG.cv,\n",
    "    metric=CFG.metric,\n",
    "    use_early_stopping=True,\n",
    "    task=\"regression\"\n",
    ")\n",
    "\n",
    "fit_args = {\n",
    "    \"verbose\": 1000,\n",
    "    \"early_stopping_rounds\": 100,\n",
    "    \"use_best_model\": True\n",
    "}\n",
    "\n",
    "cb_trainer.fit(X, y, fit_args=fit_args, extra_X=X_original, extra_y=y_original)\n",
    "\n",
    "scores[\"CatBoost\"] = cb_trainer.fold_scores\n",
    "oof_preds[\"CatBoost\"] = cb_trainer.oof_preds\n",
    "test_preds[\"CatBoost\"] = cb_trainer.predict(X_test)"
   ]
  },
  {
   "cell_type": "markdown",
   "id": "0a0e1103",
   "metadata": {
    "papermill": {
     "duration": 0.015254,
     "end_time": "2025-05-09T13:35:23.333134",
     "exception": false,
     "start_time": "2025-05-09T13:35:23.317880",
     "status": "completed"
    },
    "tags": []
   },
   "source": [
    "## AutoGluon"
   ]
  },
  {
   "cell_type": "code",
   "execution_count": 16,
   "id": "d3b52b50",
   "metadata": {
    "execution": {
     "iopub.execute_input": "2025-05-09T13:35:23.365824Z",
     "iopub.status.busy": "2025-05-09T13:35:23.365447Z",
     "iopub.status.idle": "2025-05-09T13:35:23.709822Z",
     "shell.execute_reply": "2025-05-09T13:35:23.708613Z"
    },
    "papermill": {
     "duration": 0.362418,
     "end_time": "2025-05-09T13:35:23.711693",
     "exception": false,
     "start_time": "2025-05-09T13:35:23.349275",
     "status": "completed"
    },
    "tags": []
   },
   "outputs": [],
   "source": [
    "oof_preds_files = glob.glob(f'/kaggle/input/s05e05-calorie-expenditure-prediction-automl/*_oof_preds_*.pkl')\n",
    "test_preds_files = glob.glob(f'/kaggle/input/s05e05-calorie-expenditure-prediction-automl/*_test_preds_*.pkl')\n",
    "\n",
    "ag_oof_preds = np.log1p(joblib.load(oof_preds_files[0]))\n",
    "ag_test_preds = np.log1p(joblib.load(test_preds_files[0]))\n",
    "\n",
    "ag_scores = []\n",
    "split = KFold(n_splits=CFG.n_folds, random_state=CFG.seed, shuffle=True).split(X, y)\n",
    "for _, val_idx in split:\n",
    "    y_val = y[val_idx]\n",
    "    y_preds = ag_oof_preds[val_idx]   \n",
    "    score = root_mean_squared_error(y_preds, y_val)\n",
    "    ag_scores.append(score)\n",
    "    \n",
    "oof_preds[\"AutoGluon\"], test_preds[\"AutoGluon\"], scores[\"AutoGluon\"] = ag_oof_preds, ag_test_preds, ag_scores"
   ]
  },
  {
   "cell_type": "markdown",
   "id": "bed83499",
   "metadata": {
    "papermill": {
     "duration": 0.01584,
     "end_time": "2025-05-09T13:35:23.743733",
     "exception": false,
     "start_time": "2025-05-09T13:35:23.727893",
     "status": "completed"
    },
    "tags": []
   },
   "source": [
    "## Yggdrasil"
   ]
  },
  {
   "cell_type": "code",
   "execution_count": 17,
   "id": "e95af45f",
   "metadata": {
    "execution": {
     "iopub.execute_input": "2025-05-09T13:35:23.780054Z",
     "iopub.status.busy": "2025-05-09T13:35:23.779598Z",
     "iopub.status.idle": "2025-05-09T13:35:23.788467Z",
     "shell.execute_reply": "2025-05-09T13:35:23.787163Z"
    },
    "papermill": {
     "duration": 0.028058,
     "end_time": "2025-05-09T13:35:23.790614",
     "exception": false,
     "start_time": "2025-05-09T13:35:23.762556",
     "status": "completed"
    },
    "tags": []
   },
   "outputs": [],
   "source": [
    "def YDFRegressor(learner_class):\n",
    "\n",
    "    class YDFXRegressor(BaseEstimator, RegressorMixin):\n",
    "\n",
    "        def __init__(self, params={}):\n",
    "            self.params = params\n",
    "\n",
    "        def fit(self, X, y):\n",
    "            assert isinstance(X, pd.DataFrame)\n",
    "            assert isinstance(y, pd.Series)\n",
    "            target = y.name\n",
    "            params = self.params.copy()\n",
    "            params['label'] = target\n",
    "            params['task'] = ydf.Task.REGRESSION\n",
    "            X = pd.concat([X, y], axis=1)\n",
    "            with contextlib.redirect_stderr(io.StringIO()), contextlib.redirect_stdout(io.StringIO()):\n",
    "                self.model = learner_class(**params).train(X)\n",
    "            return self\n",
    "\n",
    "        def predict(self, X):\n",
    "            assert isinstance(X, pd.DataFrame)\n",
    "            with contextlib.redirect_stderr(io.StringIO()), contextlib.redirect_stdout(io.StringIO()):\n",
    "                return self.model.predict(X)\n",
    "\n",
    "    return YDFXRegressor"
   ]
  },
  {
   "cell_type": "code",
   "execution_count": 18,
   "id": "d2fea41a",
   "metadata": {
    "execution": {
     "iopub.execute_input": "2025-05-09T13:35:23.823149Z",
     "iopub.status.busy": "2025-05-09T13:35:23.822758Z",
     "iopub.status.idle": "2025-05-09T13:43:46.426240Z",
     "shell.execute_reply": "2025-05-09T13:43:46.425218Z"
    },
    "papermill": {
     "duration": 502.621583,
     "end_time": "2025-05-09T13:43:46.428197",
     "exception": false,
     "start_time": "2025-05-09T13:35:23.806614",
     "status": "completed"
    },
    "tags": []
   },
   "outputs": [
    {
     "name": "stdout",
     "output_type": "stream",
     "text": [
      "Training YDFXRegressor\n",
      "\n",
      "--- Fold 0 - root_mean_squared_error: 0.0603 - Time: 106.79 s\n",
      "--- Fold 1 - root_mean_squared_error: 0.0608 - Time: 121.19 s\n",
      "--- Fold 2 - root_mean_squared_error: 0.0604 - Time: 73.08 s\n",
      "--- Fold 3 - root_mean_squared_error: 0.0612 - Time: 88.05 s\n",
      "--- Fold 4 - root_mean_squared_error: 0.0602 - Time: 102.69 s\n",
      "\n",
      "------ Overall root_mean_squared_error: 0.0606 - Mean root_mean_squared_error: 0.0606 ± 0.0004 - Time: 494.50 s\n"
     ]
    }
   ],
   "source": [
    "ydf_trainer = Trainer(\n",
    "    YDFRegressor(GradientBoostedTreesLearner)(ydf_params),\n",
    "    cv=CFG.cv,\n",
    "    metric=CFG.metric,\n",
    "    task=\"regression\"\n",
    ")\n",
    "\n",
    "ydf_trainer.fit(X, y, extra_X=X_original, extra_y=y_original)\n",
    "\n",
    "scores[\"Yggdrasil\"] = ydf_trainer.fold_scores\n",
    "oof_preds[\"Yggdrasil\"] = ydf_trainer.oof_preds\n",
    "test_preds[\"Yggdrasil\"] = ydf_trainer.predict(X_test)"
   ]
  },
  {
   "cell_type": "markdown",
   "id": "d94fa2f6",
   "metadata": {
    "papermill": {
     "duration": 0.015366,
     "end_time": "2025-05-09T13:43:46.460379",
     "exception": false,
     "start_time": "2025-05-09T13:43:46.445013",
     "status": "completed"
    },
    "tags": []
   },
   "source": [
    "## Neural networks"
   ]
  },
  {
   "cell_type": "code",
   "execution_count": 19,
   "id": "1073db64",
   "metadata": {
    "execution": {
     "iopub.execute_input": "2025-05-09T13:43:46.493207Z",
     "iopub.status.busy": "2025-05-09T13:43:46.492772Z",
     "iopub.status.idle": "2025-05-09T13:43:47.262296Z",
     "shell.execute_reply": "2025-05-09T13:43:47.261276Z"
    },
    "papermill": {
     "duration": 0.788433,
     "end_time": "2025-05-09T13:43:47.264450",
     "exception": false,
     "start_time": "2025-05-09T13:43:46.476017",
     "status": "completed"
    },
    "tags": []
   },
   "outputs": [],
   "source": [
    "train = pd.read_csv(CFG.train_path, index_col=\"id\")\n",
    "test = pd.read_csv(CFG.test_path, index_col=\"id\")\n",
    "original = pd.read_csv(CFG.original_path, index_col=\"User_ID\")\n",
    "original = original.rename(columns={\"Gender\": \"Sex\"})\n",
    "\n",
    "X = train.drop(CFG.target, axis=1)\n",
    "y = np.log1p(train[CFG.target])\n",
    "X_test = test\n",
    "\n",
    "X_original = original.drop(CFG.target, axis=1)\n",
    "y_original = np.log1p(original[CFG.target])"
   ]
  },
  {
   "cell_type": "code",
   "execution_count": 20,
   "id": "3a717a63",
   "metadata": {
    "execution": {
     "iopub.execute_input": "2025-05-09T13:43:47.299482Z",
     "iopub.status.busy": "2025-05-09T13:43:47.299050Z",
     "iopub.status.idle": "2025-05-09T13:43:47.907407Z",
     "shell.execute_reply": "2025-05-09T13:43:47.906477Z"
    },
    "papermill": {
     "duration": 0.627739,
     "end_time": "2025-05-09T13:43:47.909248",
     "exception": false,
     "start_time": "2025-05-09T13:43:47.281509",
     "status": "completed"
    },
    "tags": []
   },
   "outputs": [],
   "source": [
    "pipeline = make_pipeline(\n",
    "    ColumnTransformer(\n",
    "        [\n",
    "            ('one-hot-encode', OneHotEncoder(drop='first', sparse_output=False, dtype=np.float32, handle_unknown='ignore'), ['Sex']),\n",
    "            \n",
    "        ],\n",
    "        remainder=StandardScaler()\n",
    "    )\n",
    ").set_output(transform='pandas')\n",
    "\n",
    "X = pipeline.fit_transform(X, y)\n",
    "X_test = pipeline.transform(X_test)\n",
    "X_original = pipeline.transform(X_original)"
   ]
  },
  {
   "cell_type": "code",
   "execution_count": 21,
   "id": "f8f07655",
   "metadata": {
    "execution": {
     "iopub.execute_input": "2025-05-09T13:43:47.943317Z",
     "iopub.status.busy": "2025-05-09T13:43:47.942952Z",
     "iopub.status.idle": "2025-05-09T13:43:47.948991Z",
     "shell.execute_reply": "2025-05-09T13:43:47.948245Z"
    },
    "papermill": {
     "duration": 0.024516,
     "end_time": "2025-05-09T13:43:47.950478",
     "exception": false,
     "start_time": "2025-05-09T13:43:47.925962",
     "status": "completed"
    },
    "tags": []
   },
   "outputs": [],
   "source": [
    "def get_model(meta):\n",
    "    model = keras.models.Sequential()\n",
    "    model.add(keras.layers.Input(meta[\"X_shape_\"][1:]))\n",
    "    model.add(keras.layers.Dense(256, kernel_initializer='lecun_normal', activation='selu'))\n",
    "    model.add(keras.layers.Dense(128, kernel_initializer='lecun_normal', activation='selu'))\n",
    "    model.add(keras.layers.Dense(64, kernel_initializer='lecun_normal', activation='selu'))\n",
    "    model.add(keras.layers.Dense(1))\n",
    "    return model"
   ]
  },
  {
   "cell_type": "code",
   "execution_count": 22,
   "id": "315d3696",
   "metadata": {
    "execution": {
     "iopub.execute_input": "2025-05-09T13:43:47.984013Z",
     "iopub.status.busy": "2025-05-09T13:43:47.983567Z",
     "iopub.status.idle": "2025-05-09T13:43:48.052657Z",
     "shell.execute_reply": "2025-05-09T13:43:48.051603Z"
    },
    "papermill": {
     "duration": 0.08829,
     "end_time": "2025-05-09T13:43:48.054671",
     "exception": false,
     "start_time": "2025-05-09T13:43:47.966381",
     "status": "completed"
    },
    "tags": []
   },
   "outputs": [
    {
     "name": "stderr",
     "output_type": "stream",
     "text": [
      "2025-05-09 13:43:47.990830: E external/local_xla/xla/stream_executor/cuda/cuda_driver.cc:152] failed call to cuInit: INTERNAL: CUDA error: Failed call to cuInit: UNKNOWN ERROR (303)\n"
     ]
    }
   ],
   "source": [
    "nn_model = KerasRegressor(\n",
    "    get_model,\n",
    "    loss=\"mean_squared_error\",\n",
    "    random_state=CFG.seed,\n",
    "    metrics=[keras.metrics.RootMeanSquaredError(name='rmse')],\n",
    "    optimizer=keras.optimizers.AdamW(learning_rate=0.001),\n",
    "    validation_batch_size=65536,\n",
    "    validation_split=0.1,\n",
    "    batch_size=1024,\n",
    "    epochs=100, \n",
    "    verbose=0,\n",
    "    callbacks=[\n",
    "        keras.callbacks.EarlyStopping(monitor='val_rmse', patience=7, restore_best_weights=True),\n",
    "        keras.callbacks.ReduceLROnPlateau(monitor='val_rmse', patience=3, factor=0.3)\n",
    "    ]\n",
    ")"
   ]
  },
  {
   "cell_type": "code",
   "execution_count": 23,
   "id": "67424b14",
   "metadata": {
    "execution": {
     "iopub.execute_input": "2025-05-09T13:43:48.088541Z",
     "iopub.status.busy": "2025-05-09T13:43:48.088121Z",
     "iopub.status.idle": "2025-05-09T13:43:48.093112Z",
     "shell.execute_reply": "2025-05-09T13:43:48.091962Z"
    },
    "papermill": {
     "duration": 0.023895,
     "end_time": "2025-05-09T13:43:48.094861",
     "exception": false,
     "start_time": "2025-05-09T13:43:48.070966",
     "status": "completed"
    },
    "tags": []
   },
   "outputs": [],
   "source": [
    "nn_bag = BaggingRegressor(\n",
    "    nn_model,\n",
    "    n_estimators=3,\n",
    "    random_state=CFG.seed,\n",
    ")"
   ]
  },
  {
   "cell_type": "code",
   "execution_count": 24,
   "id": "460325cf",
   "metadata": {
    "_kg_hide-output": true,
    "execution": {
     "iopub.execute_input": "2025-05-09T13:43:48.129561Z",
     "iopub.status.busy": "2025-05-09T13:43:48.129140Z",
     "iopub.status.idle": "2025-05-09T14:35:19.245792Z",
     "shell.execute_reply": "2025-05-09T14:35:19.244160Z"
    },
    "papermill": {
     "duration": 3091.136859,
     "end_time": "2025-05-09T14:35:19.248630",
     "exception": false,
     "start_time": "2025-05-09T13:43:48.111771",
     "status": "completed"
    },
    "tags": []
   },
   "outputs": [
    {
     "name": "stdout",
     "output_type": "stream",
     "text": [
      "Training BaggingRegressor\n",
      "\n"
     ]
    },
    {
     "name": "stderr",
     "output_type": "stream",
     "text": [
      "2025-05-09 13:43:48.752567: E tensorflow/core/framework/node_def_util.cc:676] NodeDef mentions attribute use_unbounded_threadpool which is not in the op definition: Op<name=MapDataset; signature=input_dataset:variant, other_arguments: -> handle:variant; attr=f:func; attr=Targuments:list(type),min=0; attr=output_types:list(type),min=1; attr=output_shapes:list(shape),min=1; attr=use_inter_op_parallelism:bool,default=true; attr=preserve_cardinality:bool,default=false; attr=force_synchronous:bool,default=false; attr=metadata:string,default=\"\"> This may be expected if your graph generating binary is newer  than this binary. Unknown attributes will be ignored. NodeDef: {{node ParallelMapDatasetV2/_16}}\n",
      "2025-05-09 13:43:53.846866: E tensorflow/core/framework/node_def_util.cc:676] NodeDef mentions attribute use_unbounded_threadpool which is not in the op definition: Op<name=MapDataset; signature=input_dataset:variant, other_arguments: -> handle:variant; attr=f:func; attr=Targuments:list(type),min=0; attr=output_types:list(type),min=1; attr=output_shapes:list(shape),min=1; attr=use_inter_op_parallelism:bool,default=true; attr=preserve_cardinality:bool,default=false; attr=force_synchronous:bool,default=false; attr=metadata:string,default=\"\"> This may be expected if your graph generating binary is newer  than this binary. Unknown attributes will be ignored. NodeDef: {{node ParallelMapDatasetV2/_16}}\n",
      "2025-05-09 13:46:25.278871: E tensorflow/core/framework/node_def_util.cc:676] NodeDef mentions attribute use_unbounded_threadpool which is not in the op definition: Op<name=MapDataset; signature=input_dataset:variant, other_arguments: -> handle:variant; attr=f:func; attr=Targuments:list(type),min=0; attr=output_types:list(type),min=1; attr=output_shapes:list(shape),min=1; attr=use_inter_op_parallelism:bool,default=true; attr=preserve_cardinality:bool,default=false; attr=force_synchronous:bool,default=false; attr=metadata:string,default=\"\"> This may be expected if your graph generating binary is newer  than this binary. Unknown attributes will be ignored. NodeDef: {{node ParallelMapDatasetV2/_16}}\n",
      "2025-05-09 13:51:09.109887: E tensorflow/core/framework/node_def_util.cc:676] NodeDef mentions attribute use_unbounded_threadpool which is not in the op definition: Op<name=MapDataset; signature=input_dataset:variant, other_arguments: -> handle:variant; attr=f:func; attr=Targuments:list(type),min=0; attr=output_types:list(type),min=1; attr=output_shapes:list(shape),min=1; attr=use_inter_op_parallelism:bool,default=true; attr=preserve_cardinality:bool,default=false; attr=force_synchronous:bool,default=false; attr=metadata:string,default=\"\"> This may be expected if your graph generating binary is newer  than this binary. Unknown attributes will be ignored. NodeDef: {{node ParallelMapDatasetV2/_16}}\n",
      "2025-05-09 13:51:14.488991: E tensorflow/core/framework/node_def_util.cc:676] NodeDef mentions attribute use_unbounded_threadpool which is not in the op definition: Op<name=MapDataset; signature=input_dataset:variant, other_arguments: -> handle:variant; attr=f:func; attr=Targuments:list(type),min=0; attr=output_types:list(type),min=1; attr=output_shapes:list(shape),min=1; attr=use_inter_op_parallelism:bool,default=true; attr=preserve_cardinality:bool,default=false; attr=force_synchronous:bool,default=false; attr=metadata:string,default=\"\"> This may be expected if your graph generating binary is newer  than this binary. Unknown attributes will be ignored. NodeDef: {{node ParallelMapDatasetV2/_16}}\n",
      "2025-05-09 13:54:16.141160: E tensorflow/core/framework/node_def_util.cc:676] NodeDef mentions attribute use_unbounded_threadpool which is not in the op definition: Op<name=MapDataset; signature=input_dataset:variant, other_arguments: -> handle:variant; attr=f:func; attr=Targuments:list(type),min=0; attr=output_types:list(type),min=1; attr=output_shapes:list(shape),min=1; attr=use_inter_op_parallelism:bool,default=true; attr=preserve_cardinality:bool,default=false; attr=force_synchronous:bool,default=false; attr=metadata:string,default=\"\"> This may be expected if your graph generating binary is newer  than this binary. Unknown attributes will be ignored. NodeDef: {{node ParallelMapDatasetV2/_14}}\n"
     ]
    },
    {
     "name": "stdout",
     "output_type": "stream",
     "text": [
      "--- Fold 0 - root_mean_squared_error: 0.0611 - Time: 630.44 s\n"
     ]
    },
    {
     "name": "stderr",
     "output_type": "stream",
     "text": [
      "2025-05-09 13:54:24.345670: E tensorflow/core/framework/node_def_util.cc:676] NodeDef mentions attribute use_unbounded_threadpool which is not in the op definition: Op<name=MapDataset; signature=input_dataset:variant, other_arguments: -> handle:variant; attr=f:func; attr=Targuments:list(type),min=0; attr=output_types:list(type),min=1; attr=output_shapes:list(shape),min=1; attr=use_inter_op_parallelism:bool,default=true; attr=preserve_cardinality:bool,default=false; attr=force_synchronous:bool,default=false; attr=metadata:string,default=\"\"> This may be expected if your graph generating binary is newer  than this binary. Unknown attributes will be ignored. NodeDef: {{node ParallelMapDatasetV2/_16}}\n",
      "2025-05-09 13:57:18.509437: E tensorflow/core/framework/node_def_util.cc:676] NodeDef mentions attribute use_unbounded_threadpool which is not in the op definition: Op<name=MapDataset; signature=input_dataset:variant, other_arguments: -> handle:variant; attr=f:func; attr=Targuments:list(type),min=0; attr=output_types:list(type),min=1; attr=output_shapes:list(shape),min=1; attr=use_inter_op_parallelism:bool,default=true; attr=preserve_cardinality:bool,default=false; attr=force_synchronous:bool,default=false; attr=metadata:string,default=\"\"> This may be expected if your graph generating binary is newer  than this binary. Unknown attributes will be ignored. NodeDef: {{node ParallelMapDatasetV2/_16}}\n",
      "2025-05-09 14:00:58.725282: E tensorflow/core/framework/node_def_util.cc:676] NodeDef mentions attribute use_unbounded_threadpool which is not in the op definition: Op<name=MapDataset; signature=input_dataset:variant, other_arguments: -> handle:variant; attr=f:func; attr=Targuments:list(type),min=0; attr=output_types:list(type),min=1; attr=output_shapes:list(shape),min=1; attr=use_inter_op_parallelism:bool,default=true; attr=preserve_cardinality:bool,default=false; attr=force_synchronous:bool,default=false; attr=metadata:string,default=\"\"> This may be expected if your graph generating binary is newer  than this binary. Unknown attributes will be ignored. NodeDef: {{node ParallelMapDatasetV2/_16}}\n",
      "2025-05-09 14:05:10.236995: E tensorflow/core/framework/node_def_util.cc:676] NodeDef mentions attribute use_unbounded_threadpool which is not in the op definition: Op<name=MapDataset; signature=input_dataset:variant, other_arguments: -> handle:variant; attr=f:func; attr=Targuments:list(type),min=0; attr=output_types:list(type),min=1; attr=output_shapes:list(shape),min=1; attr=use_inter_op_parallelism:bool,default=true; attr=preserve_cardinality:bool,default=false; attr=force_synchronous:bool,default=false; attr=metadata:string,default=\"\"> This may be expected if your graph generating binary is newer  than this binary. Unknown attributes will be ignored. NodeDef: {{node ParallelMapDatasetV2/_14}}\n"
     ]
    },
    {
     "name": "stdout",
     "output_type": "stream",
     "text": [
      "--- Fold 1 - root_mean_squared_error: 0.0619 - Time: 653.46 s\n"
     ]
    },
    {
     "name": "stderr",
     "output_type": "stream",
     "text": [
      "2025-05-09 14:05:18.630623: E tensorflow/core/framework/node_def_util.cc:676] NodeDef mentions attribute use_unbounded_threadpool which is not in the op definition: Op<name=MapDataset; signature=input_dataset:variant, other_arguments: -> handle:variant; attr=f:func; attr=Targuments:list(type),min=0; attr=output_types:list(type),min=1; attr=output_shapes:list(shape),min=1; attr=use_inter_op_parallelism:bool,default=true; attr=preserve_cardinality:bool,default=false; attr=force_synchronous:bool,default=false; attr=metadata:string,default=\"\"> This may be expected if your graph generating binary is newer  than this binary. Unknown attributes will be ignored. NodeDef: {{node ParallelMapDatasetV2/_16}}\n",
      "2025-05-09 14:09:23.897164: E tensorflow/core/framework/node_def_util.cc:676] NodeDef mentions attribute use_unbounded_threadpool which is not in the op definition: Op<name=MapDataset; signature=input_dataset:variant, other_arguments: -> handle:variant; attr=f:func; attr=Targuments:list(type),min=0; attr=output_types:list(type),min=1; attr=output_shapes:list(shape),min=1; attr=use_inter_op_parallelism:bool,default=true; attr=preserve_cardinality:bool,default=false; attr=force_synchronous:bool,default=false; attr=metadata:string,default=\"\"> This may be expected if your graph generating binary is newer  than this binary. Unknown attributes will be ignored. NodeDef: {{node ParallelMapDatasetV2/_16}}\n",
      "2025-05-09 14:11:44.906905: E tensorflow/core/framework/node_def_util.cc:676] NodeDef mentions attribute use_unbounded_threadpool which is not in the op definition: Op<name=MapDataset; signature=input_dataset:variant, other_arguments: -> handle:variant; attr=f:func; attr=Targuments:list(type),min=0; attr=output_types:list(type),min=1; attr=output_shapes:list(shape),min=1; attr=use_inter_op_parallelism:bool,default=true; attr=preserve_cardinality:bool,default=false; attr=force_synchronous:bool,default=false; attr=metadata:string,default=\"\"> This may be expected if your graph generating binary is newer  than this binary. Unknown attributes will be ignored. NodeDef: {{node ParallelMapDatasetV2/_16}}\n",
      "2025-05-09 14:15:02.827634: E tensorflow/core/framework/node_def_util.cc:676] NodeDef mentions attribute use_unbounded_threadpool which is not in the op definition: Op<name=MapDataset; signature=input_dataset:variant, other_arguments: -> handle:variant; attr=f:func; attr=Targuments:list(type),min=0; attr=output_types:list(type),min=1; attr=output_shapes:list(shape),min=1; attr=use_inter_op_parallelism:bool,default=true; attr=preserve_cardinality:bool,default=false; attr=force_synchronous:bool,default=false; attr=metadata:string,default=\"\"> This may be expected if your graph generating binary is newer  than this binary. Unknown attributes will be ignored. NodeDef: {{node ParallelMapDatasetV2/_14}}\n"
     ]
    },
    {
     "name": "stdout",
     "output_type": "stream",
     "text": [
      "--- Fold 2 - root_mean_squared_error: 0.0615 - Time: 591.89 s\n"
     ]
    },
    {
     "name": "stderr",
     "output_type": "stream",
     "text": [
      "2025-05-09 14:15:11.228492: E tensorflow/core/framework/node_def_util.cc:676] NodeDef mentions attribute use_unbounded_threadpool which is not in the op definition: Op<name=MapDataset; signature=input_dataset:variant, other_arguments: -> handle:variant; attr=f:func; attr=Targuments:list(type),min=0; attr=output_types:list(type),min=1; attr=output_shapes:list(shape),min=1; attr=use_inter_op_parallelism:bool,default=true; attr=preserve_cardinality:bool,default=false; attr=force_synchronous:bool,default=false; attr=metadata:string,default=\"\"> This may be expected if your graph generating binary is newer  than this binary. Unknown attributes will be ignored. NodeDef: {{node ParallelMapDatasetV2/_16}}\n",
      "2025-05-09 14:19:53.278894: E tensorflow/core/framework/node_def_util.cc:676] NodeDef mentions attribute use_unbounded_threadpool which is not in the op definition: Op<name=MapDataset; signature=input_dataset:variant, other_arguments: -> handle:variant; attr=f:func; attr=Targuments:list(type),min=0; attr=output_types:list(type),min=1; attr=output_shapes:list(shape),min=1; attr=use_inter_op_parallelism:bool,default=true; attr=preserve_cardinality:bool,default=false; attr=force_synchronous:bool,default=false; attr=metadata:string,default=\"\"> This may be expected if your graph generating binary is newer  than this binary. Unknown attributes will be ignored. NodeDef: {{node ParallelMapDatasetV2/_16}}\n",
      "2025-05-09 14:23:00.457142: E tensorflow/core/framework/node_def_util.cc:676] NodeDef mentions attribute use_unbounded_threadpool which is not in the op definition: Op<name=MapDataset; signature=input_dataset:variant, other_arguments: -> handle:variant; attr=f:func; attr=Targuments:list(type),min=0; attr=output_types:list(type),min=1; attr=output_shapes:list(shape),min=1; attr=use_inter_op_parallelism:bool,default=true; attr=preserve_cardinality:bool,default=false; attr=force_synchronous:bool,default=false; attr=metadata:string,default=\"\"> This may be expected if your graph generating binary is newer  than this binary. Unknown attributes will be ignored. NodeDef: {{node ParallelMapDatasetV2/_16}}\n",
      "2025-05-09 14:26:17.263706: E tensorflow/core/framework/node_def_util.cc:676] NodeDef mentions attribute use_unbounded_threadpool which is not in the op definition: Op<name=MapDataset; signature=input_dataset:variant, other_arguments: -> handle:variant; attr=f:func; attr=Targuments:list(type),min=0; attr=output_types:list(type),min=1; attr=output_shapes:list(shape),min=1; attr=use_inter_op_parallelism:bool,default=true; attr=preserve_cardinality:bool,default=false; attr=force_synchronous:bool,default=false; attr=metadata:string,default=\"\"> This may be expected if your graph generating binary is newer  than this binary. Unknown attributes will be ignored. NodeDef: {{node ParallelMapDatasetV2/_14}}\n"
     ]
    },
    {
     "name": "stdout",
     "output_type": "stream",
     "text": [
      "--- Fold 3 - root_mean_squared_error: 0.0622 - Time: 673.67 s\n"
     ]
    },
    {
     "name": "stderr",
     "output_type": "stream",
     "text": [
      "2025-05-09 14:26:25.872560: E tensorflow/core/framework/node_def_util.cc:676] NodeDef mentions attribute use_unbounded_threadpool which is not in the op definition: Op<name=MapDataset; signature=input_dataset:variant, other_arguments: -> handle:variant; attr=f:func; attr=Targuments:list(type),min=0; attr=output_types:list(type),min=1; attr=output_shapes:list(shape),min=1; attr=use_inter_op_parallelism:bool,default=true; attr=preserve_cardinality:bool,default=false; attr=force_synchronous:bool,default=false; attr=metadata:string,default=\"\"> This may be expected if your graph generating binary is newer  than this binary. Unknown attributes will be ignored. NodeDef: {{node ParallelMapDatasetV2/_16}}\n",
      "2025-05-09 14:29:40.211119: E tensorflow/core/framework/node_def_util.cc:676] NodeDef mentions attribute use_unbounded_threadpool which is not in the op definition: Op<name=MapDataset; signature=input_dataset:variant, other_arguments: -> handle:variant; attr=f:func; attr=Targuments:list(type),min=0; attr=output_types:list(type),min=1; attr=output_shapes:list(shape),min=1; attr=use_inter_op_parallelism:bool,default=true; attr=preserve_cardinality:bool,default=false; attr=force_synchronous:bool,default=false; attr=metadata:string,default=\"\"> This may be expected if your graph generating binary is newer  than this binary. Unknown attributes will be ignored. NodeDef: {{node ParallelMapDatasetV2/_16}}\n",
      "2025-05-09 14:32:18.173333: E tensorflow/core/framework/node_def_util.cc:676] NodeDef mentions attribute use_unbounded_threadpool which is not in the op definition: Op<name=MapDataset; signature=input_dataset:variant, other_arguments: -> handle:variant; attr=f:func; attr=Targuments:list(type),min=0; attr=output_types:list(type),min=1; attr=output_shapes:list(shape),min=1; attr=use_inter_op_parallelism:bool,default=true; attr=preserve_cardinality:bool,default=false; attr=force_synchronous:bool,default=false; attr=metadata:string,default=\"\"> This may be expected if your graph generating binary is newer  than this binary. Unknown attributes will be ignored. NodeDef: {{node ParallelMapDatasetV2/_16}}\n",
      "2025-05-09 14:34:56.713535: E tensorflow/core/framework/node_def_util.cc:676] NodeDef mentions attribute use_unbounded_threadpool which is not in the op definition: Op<name=MapDataset; signature=input_dataset:variant, other_arguments: -> handle:variant; attr=f:func; attr=Targuments:list(type),min=0; attr=output_types:list(type),min=1; attr=output_shapes:list(shape),min=1; attr=use_inter_op_parallelism:bool,default=true; attr=preserve_cardinality:bool,default=false; attr=force_synchronous:bool,default=false; attr=metadata:string,default=\"\"> This may be expected if your graph generating binary is newer  than this binary. Unknown attributes will be ignored. NodeDef: {{node ParallelMapDatasetV2/_14}}\n"
     ]
    },
    {
     "name": "stdout",
     "output_type": "stream",
     "text": [
      "--- Fold 4 - root_mean_squared_error: 0.0611 - Time: 518.44 s\n",
      "\n",
      "------ Overall root_mean_squared_error: 0.0616 - Mean root_mean_squared_error: 0.0616 ± 0.0004 - Time: 3072.04 s\n"
     ]
    },
    {
     "name": "stderr",
     "output_type": "stream",
     "text": [
      "2025-05-09 14:35:02.710821: E tensorflow/core/framework/node_def_util.cc:676] NodeDef mentions attribute use_unbounded_threadpool which is not in the op definition: Op<name=MapDataset; signature=input_dataset:variant, other_arguments: -> handle:variant; attr=f:func; attr=Targuments:list(type),min=0; attr=output_types:list(type),min=1; attr=output_shapes:list(shape),min=1; attr=use_inter_op_parallelism:bool,default=true; attr=preserve_cardinality:bool,default=false; attr=force_synchronous:bool,default=false; attr=metadata:string,default=\"\"> This may be expected if your graph generating binary is newer  than this binary. Unknown attributes will be ignored. NodeDef: {{node ParallelMapDatasetV2/_14}}\n",
      "2025-05-09 14:35:08.710653: E tensorflow/core/framework/node_def_util.cc:676] NodeDef mentions attribute use_unbounded_threadpool which is not in the op definition: Op<name=MapDataset; signature=input_dataset:variant, other_arguments: -> handle:variant; attr=f:func; attr=Targuments:list(type),min=0; attr=output_types:list(type),min=1; attr=output_shapes:list(shape),min=1; attr=use_inter_op_parallelism:bool,default=true; attr=preserve_cardinality:bool,default=false; attr=force_synchronous:bool,default=false; attr=metadata:string,default=\"\"> This may be expected if your graph generating binary is newer  than this binary. Unknown attributes will be ignored. NodeDef: {{node ParallelMapDatasetV2/_14}}\n",
      "2025-05-09 14:35:14.975304: E tensorflow/core/framework/node_def_util.cc:676] NodeDef mentions attribute use_unbounded_threadpool which is not in the op definition: Op<name=MapDataset; signature=input_dataset:variant, other_arguments: -> handle:variant; attr=f:func; attr=Targuments:list(type),min=0; attr=output_types:list(type),min=1; attr=output_shapes:list(shape),min=1; attr=use_inter_op_parallelism:bool,default=true; attr=preserve_cardinality:bool,default=false; attr=force_synchronous:bool,default=false; attr=metadata:string,default=\"\"> This may be expected if your graph generating binary is newer  than this binary. Unknown attributes will be ignored. NodeDef: {{node ParallelMapDatasetV2/_14}}\n"
     ]
    }
   ],
   "source": [
    "nn_trainer = Trainer(\n",
    "    nn_bag,\n",
    "    cv=CFG.cv,\n",
    "    metric=root_mean_squared_error,\n",
    "    task=\"regression\"\n",
    ")\n",
    "\n",
    "nn_trainer.fit(X, y, extra_X=X_original, extra_y=y_original)\n",
    "\n",
    "scores[\"KerasANN\"] = nn_trainer.fold_scores\n",
    "oof_preds[\"KerasANN\"] = nn_trainer.oof_preds\n",
    "test_preds[\"KerasANN\"] = nn_trainer.predict(X_test)"
   ]
  },
  {
   "cell_type": "markdown",
   "id": "375ab937",
   "metadata": {
    "papermill": {
     "duration": 0.018687,
     "end_time": "2025-05-09T14:35:19.299199",
     "exception": false,
     "start_time": "2025-05-09T14:35:19.280512",
     "status": "completed"
    },
    "tags": []
   },
   "source": [
    "# Ensembling with Ridge"
   ]
  },
  {
   "cell_type": "code",
   "execution_count": 25,
   "id": "ba9bf1cf",
   "metadata": {
    "_kg_hide-input": true,
    "execution": {
     "iopub.execute_input": "2025-05-09T14:35:19.338738Z",
     "iopub.status.busy": "2025-05-09T14:35:19.338306Z",
     "iopub.status.idle": "2025-05-09T14:35:19.348377Z",
     "shell.execute_reply": "2025-05-09T14:35:19.347198Z"
    },
    "papermill": {
     "duration": 0.03304,
     "end_time": "2025-05-09T14:35:19.350416",
     "exception": false,
     "start_time": "2025-05-09T14:35:19.317376",
     "status": "completed"
    },
    "tags": []
   },
   "outputs": [],
   "source": [
    "def plot_weights(weights, title):\n",
    "    sorted_indices = np.argsort(weights[0])[::-1]\n",
    "    sorted_coeffs = np.array(weights[0])[sorted_indices]\n",
    "    sorted_model_names = np.array(list(oof_preds.keys()))[sorted_indices]\n",
    "\n",
    "    plt.figure(figsize=(10, weights.shape[1] * 0.5))\n",
    "    ax = sns.barplot(x=sorted_coeffs, y=sorted_model_names, palette=\"RdYlGn_r\")\n",
    "\n",
    "    for i, (value, name) in enumerate(zip(sorted_coeffs, sorted_model_names)):\n",
    "        if value >= 0:\n",
    "            ax.text(value, i, f\"{value:.3f}\", va=\"center\", ha=\"left\", color=\"black\")\n",
    "        else:\n",
    "            ax.text(value, i, f\"{value:.3f}\", va=\"center\", ha=\"right\", color=\"black\")\n",
    "\n",
    "    xlim = ax.get_xlim()\n",
    "    ax.set_xlim(xlim[0] - 0.1 * abs(xlim[0]), xlim[1] + 0.1 * abs(xlim[1]))\n",
    "\n",
    "    plt.title(title)\n",
    "    plt.xlabel(\"\")\n",
    "    plt.ylabel(\"\")\n",
    "    plt.tight_layout()\n",
    "    plt.show()"
   ]
  },
  {
   "cell_type": "code",
   "execution_count": 26,
   "id": "7e7101a3",
   "metadata": {
    "execution": {
     "iopub.execute_input": "2025-05-09T14:35:19.390737Z",
     "iopub.status.busy": "2025-05-09T14:35:19.390290Z",
     "iopub.status.idle": "2025-05-09T14:35:19.505901Z",
     "shell.execute_reply": "2025-05-09T14:35:19.504561Z"
    },
    "papermill": {
     "duration": 0.137845,
     "end_time": "2025-05-09T14:35:19.508163",
     "exception": false,
     "start_time": "2025-05-09T14:35:19.370318",
     "status": "completed"
    },
    "tags": []
   },
   "outputs": [],
   "source": [
    "X = pd.DataFrame(oof_preds)\n",
    "X_test = pd.DataFrame(test_preds)"
   ]
  },
  {
   "cell_type": "code",
   "execution_count": 27,
   "id": "904a1c95",
   "metadata": {
    "execution": {
     "iopub.execute_input": "2025-05-09T14:35:19.545929Z",
     "iopub.status.busy": "2025-05-09T14:35:19.545463Z",
     "iopub.status.idle": "2025-05-09T14:35:19.637540Z",
     "shell.execute_reply": "2025-05-09T14:35:19.636109Z"
    },
    "papermill": {
     "duration": 0.113286,
     "end_time": "2025-05-09T14:35:19.639538",
     "exception": false,
     "start_time": "2025-05-09T14:35:19.526252",
     "status": "completed"
    },
    "tags": []
   },
   "outputs": [
    {
     "data": {
      "text/plain": [
       "['test_preds.pkl']"
      ]
     },
     "execution_count": 27,
     "metadata": {},
     "output_type": "execute_result"
    }
   ],
   "source": [
    "joblib.dump(X, \"oof_preds.pkl\")\n",
    "joblib.dump(X_test, \"test_preds.pkl\")"
   ]
  },
  {
   "cell_type": "code",
   "execution_count": 28,
   "id": "f33e95db",
   "metadata": {
    "_kg_hide-output": true,
    "execution": {
     "iopub.execute_input": "2025-05-09T14:35:19.679500Z",
     "iopub.status.busy": "2025-05-09T14:35:19.679008Z",
     "iopub.status.idle": "2025-05-09T14:56:34.822248Z",
     "shell.execute_reply": "2025-05-09T14:56:34.821187Z"
    },
    "papermill": {
     "duration": 1275.166419,
     "end_time": "2025-05-09T14:56:34.824986",
     "exception": false,
     "start_time": "2025-05-09T14:35:19.658567",
     "status": "completed"
    },
    "scrolled": true,
    "tags": []
   },
   "outputs": [
    {
     "name": "stderr",
     "output_type": "stream",
     "text": [
      "[I 2025-05-09 14:35:19,685] A new study created in memory with name: no-name-f89e3123-6b51-40ca-9586-ac12fb641c79\n",
      "[I 2025-05-09 14:35:38,698] Trial 0 finished with value: 0.05898705851658732 and parameters: {'alpha': 5.106914457591777, 'tol': 0.0032861886375686097}. Best is trial 0 with value: 0.05898705851658732.\n",
      "[I 2025-05-09 14:35:39,783] Trial 1 finished with value: 0.05898735564112885 and parameters: {'alpha': 5.446845960488521, 'tol': 0.004250772129403489}. Best is trial 0 with value: 0.05898705851658732.\n",
      "[I 2025-05-09 14:35:39,787] Trial 2 finished with value: 0.05898919180733677 and parameters: {'alpha': 7.338176638026845, 'tol': 0.0025216910507018142}. Best is trial 0 with value: 0.05898705851658732.\n",
      "[I 2025-05-09 14:35:39,792] Trial 3 finished with value: 0.05898893571518395 and parameters: {'alpha': 7.089342621044442, 'tol': 0.004458725767205507}. Best is trial 0 with value: 0.05898705851658732.\n",
      "[I 2025-05-09 14:35:59,292] Trial 5 finished with value: 0.05898574056263612 and parameters: {'alpha': 3.3092386755297554, 'tol': 0.009883792950773167}. Best is trial 5 with value: 0.05898574056263612.\n",
      "[I 2025-05-09 14:35:59,294] Trial 7 finished with value: 0.05898733058274781 and parameters: {'alpha': 5.418700547016787, 'tol': 0.005538978513895887}. Best is trial 5 with value: 0.05898574056263612.\n",
      "[I 2025-05-09 14:35:59,299] Trial 4 finished with value: 0.05899164878445658 and parameters: {'alpha': 9.594012063458852, 'tol': 0.001584690701700393}. Best is trial 5 with value: 0.05898574056263612.\n",
      "[I 2025-05-09 14:35:59,304] Trial 6 finished with value: 0.058985280360051094 and parameters: {'alpha': 2.3375722417502267, 'tol': 0.00021994716525960923}. Best is trial 6 with value: 0.058985280360051094.\n",
      "[I 2025-05-09 14:36:17,160] Trial 8 finished with value: 0.058985906714379865 and parameters: {'alpha': 3.58145245183465, 'tol': 0.00033958119066114566}. Best is trial 6 with value: 0.058985280360051094.\n",
      "[I 2025-05-09 14:36:18,153] Trial 10 finished with value: 0.0589851013119943 and parameters: {'alpha': 1.140859818118355, 'tol': 0.004639185835482584}. Best is trial 10 with value: 0.0589851013119943.\n",
      "[I 2025-05-09 14:36:18,155] Trial 11 finished with value: 0.05898816260428904 and parameters: {'alpha': 6.313066351447272, 'tol': 0.0032917668670064105}. Best is trial 10 with value: 0.0589851013119943.\n",
      "[I 2025-05-09 14:36:18,156] Trial 9 finished with value: 0.05899015287611035 and parameters: {'alpha': 8.244588322346669, 'tol': 0.008135424471118162}. Best is trial 10 with value: 0.0589851013119943.\n",
      "[I 2025-05-09 14:36:35,814] Trial 13 finished with value: 0.05898512981186014 and parameters: {'alpha': 0.928325772633583, 'tol': 0.0047819148524384835}. Best is trial 10 with value: 0.0589851013119943.\n",
      "[I 2025-05-09 14:36:36,792] Trial 14 finished with value: 0.0589854070071074 and parameters: {'alpha': 0.20707219942833355, 'tol': 0.003977412020528904}. Best is trial 10 with value: 0.0589851013119943.\n",
      "[I 2025-05-09 14:36:36,805] Trial 12 finished with value: 0.05899180152030675 and parameters: {'alpha': 9.728722962176223, 'tol': 0.003659730055310158}. Best is trial 10 with value: 0.0589851013119943.\n",
      "[I 2025-05-09 14:36:36,821] Trial 15 finished with value: 0.05898530237665231 and parameters: {'alpha': 0.40040880738694895, 'tol': 0.003617918444678076}. Best is trial 10 with value: 0.0589851013119943.\n",
      "[I 2025-05-09 14:36:53,348] Trial 16 finished with value: 0.05898509591885213 and parameters: {'alpha': 1.4451852874904183, 'tol': 0.006960121453099061}. Best is trial 16 with value: 0.05898509591885213.\n",
      "[I 2025-05-09 14:36:53,352] Trial 19 finished with value: 0.058985289306962424 and parameters: {'alpha': 0.42817374937800556, 'tol': 0.008067698002559047}. Best is trial 16 with value: 0.05898509591885213.\n",
      "[I 2025-05-09 14:36:53,357] Trial 17 finished with value: 0.05898531108683744 and parameters: {'alpha': 0.38244698732240223, 'tol': 0.008296759901344729}. Best is trial 16 with value: 0.05898509591885213.\n",
      "[I 2025-05-09 14:36:53,358] Trial 18 finished with value: 0.05898524439336959 and parameters: {'alpha': 2.2299766920395854, 'tol': 0.005864119449395673}. Best is trial 16 with value: 0.05898509591885213.\n",
      "[I 2025-05-09 14:37:08,865] Trial 21 finished with value: 0.058986745528742196 and parameters: {'alpha': 4.7316343777371745, 'tol': 0.007738564174576482}. Best is trial 16 with value: 0.05898509591885213.\n",
      "[I 2025-05-09 14:37:10,825] Trial 20 finished with value: 0.05898549259046503 and parameters: {'alpha': 2.845204656667093, 'tol': 0.007164703505827979}. Best is trial 16 with value: 0.05898509591885213.\n",
      "[I 2025-05-09 14:37:10,882] Trial 22 finished with value: 0.058986028822251284 and parameters: {'alpha': 3.768464866855652, 'tol': 0.0072302600452628304}. Best is trial 16 with value: 0.05898509591885213.\n",
      "[I 2025-05-09 14:37:10,885] Trial 23 finished with value: 0.05898588426176495 and parameters: {'alpha': 3.545975214516088, 'tol': 0.006867511418416581}. Best is trial 16 with value: 0.05898509591885213.\n",
      "[I 2025-05-09 14:37:29,216] Trial 24 finished with value: 0.0589852480325929 and parameters: {'alpha': 2.241343155859923, 'tol': 0.00532406620249732}. Best is trial 16 with value: 0.05898509591885213.\n",
      "[I 2025-05-09 14:37:30,198] Trial 26 finished with value: 0.05898529166842054 and parameters: {'alpha': 2.369480610652709, 'tol': 0.005245785073313757}. Best is trial 16 with value: 0.05898509591885213.\n",
      "[I 2025-05-09 14:37:30,204] Trial 25 finished with value: 0.05898545117756258 and parameters: {'alpha': 2.7574051836494498, 'tol': 0.003600774993342218}. Best is trial 16 with value: 0.05898509591885213.\n",
      "[I 2025-05-09 14:37:30,222] Trial 27 finished with value: 0.05898539748958315 and parameters: {'alpha': 2.6370468930709894, 'tol': 0.0038595058516218447}. Best is trial 16 with value: 0.05898509591885213.\n",
      "[I 2025-05-09 14:37:48,598] Trial 31 finished with value: 0.058985446182256714 and parameters: {'alpha': 0.14451044188851303, 'tol': 0.0052738443090221045}. Best is trial 16 with value: 0.05898509591885213.\n",
      "[I 2025-05-09 14:37:49,595] Trial 29 finished with value: 0.0589851662388485 and parameters: {'alpha': 0.7673725067399145, 'tol': 0.005658189887508248}. Best is trial 16 with value: 0.05898509591885213.\n",
      "[I 2025-05-09 14:37:49,599] Trial 30 finished with value: 0.05898545351514327 and parameters: {'alpha': 0.13325813109195273, 'tol': 0.006472724072188309}. Best is trial 16 with value: 0.05898509591885213.\n",
      "[I 2025-05-09 14:37:50,638] Trial 28 finished with value: 0.05898534612188189 and parameters: {'alpha': 2.5132079148128823, 'tol': 0.003325769729984652}. Best is trial 16 with value: 0.05898509591885213.\n",
      "[I 2025-05-09 14:38:08,943] Trial 33 finished with value: 0.058985350671724335 and parameters: {'alpha': 0.30556989767991927, 'tol': 0.005704372724972752}. Best is trial 16 with value: 0.05898509591885213.\n",
      "[I 2025-05-09 14:38:10,920] Trial 34 finished with value: 0.05898509660752769 and parameters: {'alpha': 1.2091987689126997, 'tol': 0.004862278012096884}. Best is trial 16 with value: 0.05898509591885213.\n",
      "[I 2025-05-09 14:38:10,922] Trial 35 finished with value: 0.0589854289198313 and parameters: {'alpha': 0.17155131092889286, 'tol': 0.005871940918912602}. Best is trial 16 with value: 0.05898509591885213.\n",
      "[I 2025-05-09 14:38:10,926] Trial 32 finished with value: 0.05898519074105875 and parameters: {'alpha': 0.6831225071048577, 'tol': 0.0015917079375470018}. Best is trial 16 with value: 0.05898509591885213.\n",
      "[I 2025-05-09 14:38:30,310] Trial 38 finished with value: 0.05898510678256298 and parameters: {'alpha': 1.0845654856157327, 'tol': 0.003731158286264022}. Best is trial 16 with value: 0.05898509591885213.\n",
      "[I 2025-05-09 14:38:30,315] Trial 37 finished with value: 0.05898509589397175 and parameters: {'alpha': 1.444644898968994, 'tol': 0.001985303225251541}. Best is trial 37 with value: 0.05898509589397175.\n",
      "[I 2025-05-09 14:38:31,298] Trial 39 finished with value: 0.05898510775340857 and parameters: {'alpha': 1.5996168981118846, 'tol': 0.004639236437909356}. Best is trial 37 with value: 0.05898509589397175.\n",
      "[I 2025-05-09 14:38:31,307] Trial 36 finished with value: 0.05898510147943693 and parameters: {'alpha': 1.5326589631797443, 'tol': 0.0048699976822395965}. Best is trial 37 with value: 0.05898509589397175.\n",
      "[I 2025-05-09 14:38:46,813] Trial 42 finished with value: 0.05898534710010977 and parameters: {'alpha': 0.3122159806657576, 'tol': 0.0009887059527821122}. Best is trial 37 with value: 0.05898509589397175.\n",
      "[I 2025-05-09 14:38:49,786] Trial 41 finished with value: 0.05898544036842996 and parameters: {'alpha': 0.1535294231642601, 'tol': 0.0005275016191369779}. Best is trial 37 with value: 0.05898509589397175.\n",
      "[I 2025-05-09 14:38:49,790] Trial 43 finished with value: 0.05898525086329058 and parameters: {'alpha': 2.2501027456846265, 'tol': 0.00204165146536858}. Best is trial 37 with value: 0.05898509589397175.\n",
      "[I 2025-05-09 14:38:49,808] Trial 40 finished with value: 0.05898547312613968 and parameters: {'alpha': 0.10381006774649304, 'tol': 0.0010865874700200977}. Best is trial 37 with value: 0.05898509589397175.\n",
      "[I 2025-05-09 14:39:08,340] Trial 46 finished with value: 0.058985242233161164 and parameters: {'alpha': 2.2231722536964185, 'tol': 0.005570007440304377}. Best is trial 37 with value: 0.05898509589397175.\n",
      "[I 2025-05-09 14:39:09,344] Trial 45 finished with value: 0.05898511257561349 and parameters: {'alpha': 1.641753699955522, 'tol': 0.002868308987546078}. Best is trial 37 with value: 0.05898509589397175.\n",
      "[I 2025-05-09 14:39:09,355] Trial 44 finished with value: 0.05898521024270713 and parameters: {'alpha': 2.1166644886175283, 'tol': 0.0024599159280839188}. Best is trial 37 with value: 0.05898509589397175.\n",
      "[I 2025-05-09 14:39:09,377] Trial 47 finished with value: 0.058985160323527505 and parameters: {'alpha': 1.9190267054573384, 'tol': 0.0072482310685774085}. Best is trial 37 with value: 0.05898509589397175.\n",
      "[I 2025-05-09 14:39:27,585] Trial 49 finished with value: 0.05898513003229681 and parameters: {'alpha': 1.762557380850862, 'tol': 0.0074636715480948385}. Best is trial 37 with value: 0.05898509589397175.\n",
      "[I 2025-05-09 14:39:27,591] Trial 51 finished with value: 0.058985104290644304 and parameters: {'alpha': 1.56495548717226, 'tol': 0.003715836636467425}. Best is trial 37 with value: 0.05898509589397175.\n",
      "[I 2025-05-09 14:39:27,597] Trial 50 finished with value: 0.05898518149370851 and parameters: {'alpha': 2.0090323087916846, 'tol': 0.008742131794014492}. Best is trial 37 with value: 0.05898509589397175.\n",
      "[I 2025-05-09 14:39:28,634] Trial 48 finished with value: 0.058985097749785775 and parameters: {'alpha': 1.47968647254155, 'tol': 0.003204864786645995}. Best is trial 37 with value: 0.05898509589397175.\n",
      "[I 2025-05-09 14:39:48,767] Trial 53 finished with value: 0.05898668387322279 and parameters: {'alpha': 4.655189018721677, 'tol': 0.0017937358417975755}. Best is trial 37 with value: 0.05898509589397175.\n",
      "[I 2025-05-09 14:39:48,769] Trial 54 finished with value: 0.05898843004223735 and parameters: {'alpha': 6.586411045878327, 'tol': 0.00045271538915928836}. Best is trial 37 with value: 0.05898509589397175.\n",
      "[I 2025-05-09 14:39:49,763] Trial 52 finished with value: 0.05899132209401207 and parameters: {'alpha': 9.304211652668727, 'tol': 0.005602294543282148}. Best is trial 37 with value: 0.05898509589397175.\n",
      "[I 2025-05-09 14:39:49,771] Trial 55 finished with value: 0.05898519894977933 and parameters: {'alpha': 2.075998130497969, 'tol': 0.004729920171601123}. Best is trial 37 with value: 0.05898509589397175.\n",
      "[I 2025-05-09 14:40:05,275] Trial 58 finished with value: 0.05898527633966903 and parameters: {'alpha': 0.4567733450892859, 'tol': 0.0028569118760197057}. Best is trial 37 with value: 0.05898509589397175.\n",
      "[I 2025-05-09 14:40:07,244] Trial 56 finished with value: 0.05898515499546331 and parameters: {'alpha': 0.8111919824809746, 'tol': 0.003435745767423498}. Best is trial 37 with value: 0.05898509589397175.\n",
      "[I 2025-05-09 14:40:07,259] Trial 57 finished with value: 0.058988192033699524 and parameters: {'alpha': 6.343428271404666, 'tol': 0.009238405540145189}. Best is trial 37 with value: 0.05898509589397175.\n",
      "[I 2025-05-09 14:40:08,372] Trial 59 finished with value: 0.058990541921196266 and parameters: {'alpha': 8.6015739117919, 'tol': 0.009730539149228175}. Best is trial 37 with value: 0.05898509589397175.\n",
      "[I 2025-05-09 14:40:26,234] Trial 60 finished with value: 0.05898540949976385 and parameters: {'alpha': 0.2029602781799249, 'tol': 0.003363372642600846}. Best is trial 37 with value: 0.05898509589397175.\n",
      "[I 2025-05-09 14:40:27,409] Trial 61 finished with value: 0.05898588482138574 and parameters: {'alpha': 3.546863959984833, 'tol': 0.004809350360308449}. Best is trial 37 with value: 0.05898509589397175.\n",
      "[I 2025-05-09 14:40:28,434] Trial 62 finished with value: 0.058986182139888946 and parameters: {'alpha': 3.991278341052139, 'tol': 0.004777749502325736}. Best is trial 37 with value: 0.05898509589397175.\n",
      "[I 2025-05-09 14:40:28,434] Trial 63 finished with value: 0.05898548773160142 and parameters: {'alpha': 2.835103252529966, 'tol': 0.0006870089453779578}. Best is trial 37 with value: 0.05898509589397175.\n",
      "[I 2025-05-09 14:40:46,388] Trial 64 finished with value: 0.05898643818375191 and parameters: {'alpha': 4.340490061479433, 'tol': 0.004641928183499171}. Best is trial 37 with value: 0.05898509589397175.\n",
      "[I 2025-05-09 14:40:48,577] Trial 65 finished with value: 0.05898532992030854 and parameters: {'alpha': 2.471972896016503, 'tol': 0.0036209176260604773}. Best is trial 37 with value: 0.05898509589397175.\n",
      "[I 2025-05-09 14:40:49,554] Trial 67 finished with value: 0.0589851493784759 and parameters: {'alpha': 1.867301646044622, 'tol': 0.003975928457313052}. Best is trial 37 with value: 0.05898509589397175.\n",
      "[I 2025-05-09 14:40:49,573] Trial 66 finished with value: 0.058985118953517476 and parameters: {'alpha': 1.6903164712685819, 'tol': 0.004098270406920271}. Best is trial 37 with value: 0.05898509589397175.\n",
      "[I 2025-05-09 14:41:07,611] Trial 68 finished with value: 0.05898513847182009 and parameters: {'alpha': 1.810823683491137, 'tol': 0.004519314606658935}. Best is trial 37 with value: 0.05898509589397175.\n",
      "[I 2025-05-09 14:41:08,875] Trial 69 finished with value: 0.05898509671142401 and parameters: {'alpha': 1.2072743922362443, 'tol': 0.005423526114956155}. Best is trial 37 with value: 0.05898509589397175.\n",
      "[I 2025-05-09 14:41:10,955] Trial 70 finished with value: 0.05898511558640255 and parameters: {'alpha': 1.6655070021807885, 'tol': 0.005903446075469115}. Best is trial 37 with value: 0.05898509589397175.\n",
      "[I 2025-05-09 14:41:10,961] Trial 71 finished with value: 0.05898509781609248 and parameters: {'alpha': 1.4807883832904403, 'tol': 0.005737657439387915}. Best is trial 37 with value: 0.05898509589397175.\n",
      "[I 2025-05-09 14:41:28,868] Trial 72 finished with value: 0.05898512925975345 and parameters: {'alpha': 1.7578892841266571, 'tol': 0.005943403558392872}. Best is trial 37 with value: 0.05898509589397175.\n",
      "[I 2025-05-09 14:41:30,155] Trial 73 finished with value: 0.05898516594390974 and parameters: {'alpha': 1.9440625787887442, 'tol': 0.0065791846063204505}. Best is trial 37 with value: 0.05898509589397175.\n",
      "[I 2025-05-09 14:41:31,253] Trial 75 finished with value: 0.05898526642946923 and parameters: {'alpha': 2.297081586594274, 'tol': 0.006075014673530971}. Best is trial 37 with value: 0.05898509589397175.\n",
      "[I 2025-05-09 14:41:31,254] Trial 74 finished with value: 0.05898516239345736 and parameters: {'alpha': 0.7819217233639886, 'tol': 0.004770925035012584}. Best is trial 37 with value: 0.05898509589397175.\n",
      "[I 2025-05-09 14:41:46,314] Trial 76 finished with value: 0.05898509505445582 and parameters: {'alpha': 1.4246008386104854, 'tol': 0.006387833008347027}. Best is trial 76 with value: 0.05898509505445582.\n",
      "[I 2025-05-09 14:41:50,642] Trial 79 finished with value: 0.058985098432607144 and parameters: {'alpha': 1.1789295629234866, 'tol': 0.006033307905265286}. Best is trial 76 with value: 0.05898509505445582.\n",
      "[I 2025-05-09 14:41:52,578] Trial 77 finished with value: 0.05898552487705589 and parameters: {'alpha': 0.030167150805476828, 'tol': 0.00497700178845038}. Best is trial 76 with value: 0.05898509505445582.\n",
      "[I 2025-05-09 14:41:52,590] Trial 78 finished with value: 0.058985381275512505 and parameters: {'alpha': 0.25067435672614347, 'tol': 0.00692077973688509}. Best is trial 76 with value: 0.05898509505445582.\n",
      "[I 2025-05-09 14:42:07,609] Trial 80 finished with value: 0.058985360308061494 and parameters: {'alpha': 0.2878981649159924, 'tol': 0.008144746573708422}. Best is trial 76 with value: 0.05898509505445582.\n",
      "[I 2025-05-09 14:42:09,951] Trial 83 finished with value: 0.05898509560087094 and parameters: {'alpha': 1.2297308656652466, 'tol': 0.007368313603135942}. Best is trial 76 with value: 0.05898509505445582.\n",
      "[I 2025-05-09 14:42:10,966] Trial 81 finished with value: 0.058985278074061745 and parameters: {'alpha': 0.4528834687613087, 'tol': 0.007166652106452244}. Best is trial 76 with value: 0.05898509505445582.\n",
      "[I 2025-05-09 14:42:10,983] Trial 82 finished with value: 0.058985420748402885 and parameters: {'alpha': 0.184634869405222, 'tol': 0.007317701517282876}. Best is trial 76 with value: 0.05898509505445582.\n",
      "[I 2025-05-09 14:42:26,087] Trial 84 finished with value: 0.058991719173650654 and parameters: {'alpha': 9.65615334196528, 'tol': 0.0003471931899046467}. Best is trial 76 with value: 0.05898509505445582.\n",
      "[I 2025-05-09 14:42:29,399] Trial 86 finished with value: 0.058985160669505515 and parameters: {'alpha': 1.9205952076591837, 'tol': 0.0065043417676487105}. Best is trial 76 with value: 0.05898509505445582.\n",
      "[I 2025-05-09 14:42:29,400] Trial 87 finished with value: 0.05898554201699702 and parameters: {'alpha': 2.945268988986136, 'tol': 0.006828823491680046}. Best is trial 76 with value: 0.05898509505445582.\n",
      "[I 2025-05-09 14:42:30,374] Trial 85 finished with value: 0.05898510390865746 and parameters: {'alpha': 1.5608250284519327, 'tol': 0.00713453015216121}. Best is trial 76 with value: 0.05898509505445582.\n",
      "[I 2025-05-09 14:42:47,554] Trial 88 finished with value: 0.058985108572474194 and parameters: {'alpha': 1.6072052465402165, 'tol': 0.0073507497816763185}. Best is trial 76 with value: 0.05898509505445582.\n",
      "[I 2025-05-09 14:42:48,866] Trial 91 finished with value: 0.05898549440806004 and parameters: {'alpha': 2.8489704750818317, 'tol': 0.008046504592766925}. Best is trial 76 with value: 0.05898509505445582.\n",
      "[I 2025-05-09 14:42:50,889] Trial 89 finished with value: 0.058985233501288516 and parameters: {'alpha': 2.195209823549201, 'tol': 0.008253191900116785}. Best is trial 76 with value: 0.05898509505445582.\n",
      "[I 2025-05-09 14:42:50,901] Trial 90 finished with value: 0.0589851816691035 and parameters: {'alpha': 2.0097337573603697, 'tol': 0.007982851731495917}. Best is trial 76 with value: 0.05898509505445582.\n",
      "[I 2025-05-09 14:43:05,943] Trial 92 finished with value: 0.058985748748788945 and parameters: {'alpha': 3.3232275211986533, 'tol': 0.008491991605641526}. Best is trial 76 with value: 0.05898509505445582.\n",
      "[I 2025-05-09 14:43:09,276] Trial 94 finished with value: 0.0589850949332684 and parameters: {'alpha': 1.4213396642781788, 'tol': 0.006228421090962146}. Best is trial 94 with value: 0.0589850949332684.\n",
      "[I 2025-05-09 14:43:10,240] Trial 93 finished with value: 0.058985099019875496 and parameters: {'alpha': 1.4995643707924984, 'tol': 0.005775033597804182}. Best is trial 94 with value: 0.0589850949332684.\n",
      "[I 2025-05-09 14:43:11,229] Trial 95 finished with value: 0.0589851106835361 and parameters: {'alpha': 1.0514892329380208, 'tol': 0.006033647794664929}. Best is trial 94 with value: 0.0589850949332684.\n",
      "[I 2025-05-09 14:43:26,520] Trial 96 finished with value: 0.05898509358738389 and parameters: {'alpha': 1.3692262653419418, 'tol': 0.005273415307849461}. Best is trial 96 with value: 0.05898509358738389.\n",
      "[I 2025-05-09 14:43:28,844] Trial 99 finished with value: 0.05898824223006641 and parameters: {'alpha': 6.395048500094131, 'tol': 0.006444775564731931}. Best is trial 96 with value: 0.05898509358738389.\n",
      "[I 2025-05-09 14:43:28,859] Trial 98 finished with value: 0.05898510347358525 and parameters: {'alpha': 1.1167783055615872, 'tol': 0.005778691132219641}. Best is trial 96 with value: 0.05898509358738389.\n",
      "[I 2025-05-09 14:43:28,869] Trial 97 finished with value: 0.058985104387387924 and parameters: {'alpha': 1.1074002922272994, 'tol': 0.006013884790918852}. Best is trial 96 with value: 0.05898509358738389.\n",
      "[I 2025-05-09 14:43:45,136] Trial 100 finished with value: 0.05898843838986381 and parameters: {'alpha': 6.5948541562513245, 'tol': 0.0065697913927907515}. Best is trial 96 with value: 0.05898509358738389.\n",
      "[I 2025-05-09 14:43:46,595] Trial 101 finished with value: 0.058985175213445463 and parameters: {'alpha': 1.9834807286735856, 'tol': 0.0011898836671267003}. Best is trial 96 with value: 0.05898509358738389.\n",
      "[I 2025-05-09 14:43:48,596] Trial 102 finished with value: 0.05898559688901695 and parameters: {'alpha': 3.0512938039111006, 'tol': 0.002254907867661465}. Best is trial 96 with value: 0.05898509358738389.\n",
      "[I 2025-05-09 14:43:48,612] Trial 103 finished with value: 0.058985457223385274 and parameters: {'alpha': 2.7704735676031955, 'tol': 0.006037379849802796}. Best is trial 96 with value: 0.05898509358738389.\n",
      "[I 2025-05-09 14:44:05,917] Trial 104 finished with value: 0.05898518239422856 and parameters: {'alpha': 2.0126269954264084, 'tol': 0.005470653552723894}. Best is trial 96 with value: 0.05898509358738389.\n",
      "[I 2025-05-09 14:44:07,329] Trial 106 finished with value: 0.0589853171308824 and parameters: {'alpha': 2.4385599175453505, 'tol': 0.005581300867773858}. Best is trial 96 with value: 0.05898509358738389.\n",
      "[I 2025-05-09 14:44:10,255] Trial 105 finished with value: 0.05898509775079008 and parameters: {'alpha': 1.4797032272368686, 'tol': 0.0058857175778082825}. Best is trial 96 with value: 0.05898509358738389.\n",
      "[I 2025-05-09 14:44:10,256] Trial 107 finished with value: 0.05898509352835685 and parameters: {'alpha': 1.301413212751373, 'tol': 0.005151911744920265}. Best is trial 107 with value: 0.05898509352835685.\n",
      "[I 2025-05-09 14:44:25,349] Trial 108 finished with value: 0.058985202352647995 and parameters: {'alpha': 0.6472505382451604, 'tol': 0.005760188411151406}. Best is trial 107 with value: 0.05898509352835685.\n",
      "[I 2025-05-09 14:44:28,660] Trial 111 finished with value: 0.058985353446069665 and parameters: {'alpha': 0.3004437685783854, 'tol': 0.00423837178094747}. Best is trial 107 with value: 0.05898509352835685.\n",
      "[I 2025-05-09 14:44:31,714] Trial 110 finished with value: 0.058985400475886914 and parameters: {'alpha': 0.2179369562735829, 'tol': 0.004328172074835853}. Best is trial 107 with value: 0.05898509352835685.\n",
      "[I 2025-05-09 14:44:31,733] Trial 109 finished with value: 0.0589853267969717 and parameters: {'alpha': 0.3510536092030534, 'tol': 0.005801378862695539}. Best is trial 107 with value: 0.05898509352835685.\n",
      "[I 2025-05-09 14:44:44,744] Trial 112 finished with value: 0.05898521570116095 and parameters: {'alpha': 0.6085113049635023, 'tol': 0.004597548214925879}. Best is trial 107 with value: 0.05898509352835685.\n",
      "[I 2025-05-09 14:44:50,198] Trial 115 finished with value: 0.05898513323240768 and parameters: {'alpha': 1.7814181663264406, 'tol': 0.005228827892781937}. Best is trial 107 with value: 0.05898509352835685.\n",
      "[I 2025-05-09 14:44:51,182] Trial 114 finished with value: 0.058985130568942404 and parameters: {'alpha': 1.7657728277628273, 'tol': 0.005379926424619342}. Best is trial 107 with value: 0.05898509352835685.\n",
      "[I 2025-05-09 14:44:51,185] Trial 113 finished with value: 0.05898516945207172 and parameters: {'alpha': 1.959238388726829, 'tol': 0.004724001935657512}. Best is trial 107 with value: 0.05898509352835685.\n",
      "[I 2025-05-09 14:45:05,108] Trial 116 finished with value: 0.058985191474838494 and parameters: {'alpha': 2.047990299605832, 'tol': 0.005434684946340147}. Best is trial 107 with value: 0.05898509352835685.\n",
      "[I 2025-05-09 14:45:10,605] Trial 118 finished with value: 0.058985105978873235 and parameters: {'alpha': 1.5824278095081707, 'tol': 0.002406756766564962}. Best is trial 107 with value: 0.05898509352835685.\n",
      "[I 2025-05-09 14:45:11,588] Trial 119 finished with value: 0.05898510015577699 and parameters: {'alpha': 1.5155693076566878, 'tol': 0.0022644123794310104}. Best is trial 107 with value: 0.05898509352835685.\n",
      "[I 2025-05-09 14:45:11,593] Trial 117 finished with value: 0.058985102890754926 and parameters: {'alpha': 1.5494510823151566, 'tol': 0.006813499184409015}. Best is trial 107 with value: 0.05898509352835685.\n",
      "[I 2025-05-09 14:45:25,578] Trial 120 finished with value: 0.05898509333232734 and parameters: {'alpha': 1.3240892420349015, 'tol': 0.006830172345091519}. Best is trial 120 with value: 0.05898509333232734.\n",
      "[I 2025-05-09 14:45:31,073] Trial 121 finished with value: 0.05898927736703998 and parameters: {'alpha': 7.420540450178175, 'tol': 0.003606750433431281}. Best is trial 120 with value: 0.05898509333232734.\n",
      "[I 2025-05-09 14:45:31,073] Trial 123 finished with value: 0.058985106351710656 and parameters: {'alpha': 1.0885082062390403, 'tol': 0.006989958895191904}. Best is trial 120 with value: 0.05898509333232734.\n",
      "[I 2025-05-09 14:45:33,279] Trial 122 finished with value: 0.05898510853092419 and parameters: {'alpha': 1.6068250999319575, 'tol': 0.006946846102690224}. Best is trial 120 with value: 0.05898509333232734.\n",
      "[I 2025-05-09 14:45:46,006] Trial 124 finished with value: 0.05898516996960436 and parameters: {'alpha': 0.7536473135968349, 'tol': 0.007432367275786022}. Best is trial 120 with value: 0.05898509333232734.\n",
      "[I 2025-05-09 14:45:51,448] Trial 126 finished with value: 0.058985097364000864 and parameters: {'alpha': 1.4731084082981396, 'tol': 0.009675774968010396}. Best is trial 120 with value: 0.05898509333232734.\n",
      "[I 2025-05-09 14:45:52,504] Trial 125 finished with value: 0.058985228719072365 and parameters: {'alpha': 2.179566830167685, 'tol': 0.006887659438863056}. Best is trial 120 with value: 0.05898509333232734.\n",
      "[I 2025-05-09 14:45:53,740] Trial 127 finished with value: 0.05898510780654727 and parameters: {'alpha': 1.60011540306652, 'tol': 0.007257213690765837}. Best is trial 120 with value: 0.05898509333232734.\n",
      "[I 2025-05-09 14:46:07,654] Trial 128 finished with value: 0.05898514395686274 and parameters: {'alpha': 0.8586123326075804, 'tol': 0.009140655507661837}. Best is trial 120 with value: 0.05898509333232734.\n",
      "[I 2025-05-09 14:46:13,118] Trial 130 finished with value: 0.05898536626283137 and parameters: {'alpha': 2.5629292709396374, 'tol': 0.009497334828768633}. Best is trial 120 with value: 0.05898509333232734.\n",
      "[I 2025-05-09 14:46:14,131] Trial 129 finished with value: 0.058985325184672116 and parameters: {'alpha': 0.35421899586943995, 'tol': 0.009717185695062162}. Best is trial 120 with value: 0.05898509333232734.\n",
      "[I 2025-05-09 14:46:15,321] Trial 131 finished with value: 0.058985182766536005 and parameters: {'alpha': 0.7091299311653201, 'tol': 0.009764459454449032}. Best is trial 120 with value: 0.05898509333232734.\n",
      "[I 2025-05-09 14:46:28,419] Trial 132 finished with value: 0.05898542132790888 and parameters: {'alpha': 0.18370077709618426, 'tol': 0.009952790883559617}. Best is trial 120 with value: 0.05898509333232734.\n",
      "[I 2025-05-09 14:46:34,885] Trial 133 finished with value: 0.05898542474668663 and parameters: {'alpha': 0.17820959233648792, 'tol': 0.009588823367065288}. Best is trial 120 with value: 0.05898509333232734.\n",
      "[I 2025-05-09 14:46:35,907] Trial 134 finished with value: 0.05898559657740124 and parameters: {'alpha': 3.0507050911231763, 'tol': 0.005955207166603445}. Best is trial 120 with value: 0.05898509333232734.\n",
      "[I 2025-05-09 14:46:37,118] Trial 135 finished with value: 0.05898599785281737 and parameters: {'alpha': 3.721919325556868, 'tol': 0.005929329577237269}. Best is trial 120 with value: 0.05898509333232734.\n",
      "[I 2025-05-09 14:46:49,855] Trial 136 finished with value: 0.058985909864824396 and parameters: {'alpha': 3.5864013463010096, 'tol': 0.005880583706870314}. Best is trial 120 with value: 0.05898509333232734.\n",
      "[I 2025-05-09 14:46:56,136] Trial 137 finished with value: 0.05898510167257473 and parameters: {'alpha': 1.1366288256246289, 'tol': 0.005622133855779366}. Best is trial 120 with value: 0.05898509333232734.\n",
      "[I 2025-05-09 14:46:57,244] Trial 138 finished with value: 0.058985109802974 and parameters: {'alpha': 1.0585881656262304, 'tol': 0.005888281745407622}. Best is trial 120 with value: 0.05898509333232734.\n",
      "[I 2025-05-09 14:46:59,572] Trial 139 finished with value: 0.058985148056208345 and parameters: {'alpha': 0.8404121614400437, 'tol': 0.005469885420371651}. Best is trial 120 with value: 0.05898509333232734.\n",
      "[I 2025-05-09 14:47:11,532] Trial 140 finished with value: 0.05898518980929337 and parameters: {'alpha': 2.041619266013446, 'tol': 0.004010826525902369}. Best is trial 120 with value: 0.05898509333232734.\n",
      "[I 2025-05-09 14:47:18,443] Trial 141 finished with value: 0.05898533069851931 and parameters: {'alpha': 2.4739806505954927, 'tol': 0.0037506407838903584}. Best is trial 120 with value: 0.05898509333232734.\n",
      "[I 2025-05-09 14:47:19,537] Trial 142 finished with value: 0.05898516757704066 and parameters: {'alpha': 1.9511682818102631, 'tol': 0.00384543721929379}. Best is trial 120 with value: 0.05898509333232734.\n",
      "[I 2025-05-09 14:47:22,014] Trial 143 finished with value: 0.05898513057134451 and parameters: {'alpha': 0.9242517102432306, 'tol': 0.006972877083401765}. Best is trial 120 with value: 0.05898509333232734.\n",
      "[I 2025-05-09 14:47:34,398] Trial 144 finished with value: 0.05898537581311968 and parameters: {'alpha': 0.26021716352696256, 'tol': 0.006380372463421628}. Best is trial 120 with value: 0.05898509333232734.\n",
      "[I 2025-05-09 14:47:39,660] Trial 145 finished with value: 0.05898520809809113 and parameters: {'alpha': 0.630274182758418, 'tol': 0.0062828704099936105}. Best is trial 120 with value: 0.05898509333232734.\n",
      "[I 2025-05-09 14:47:41,836] Trial 146 finished with value: 0.05898530640987982 and parameters: {'alpha': 0.39203994940233144, 'tol': 0.006552882013135544}. Best is trial 120 with value: 0.05898509333232734.\n",
      "[I 2025-05-09 14:47:47,675] Trial 147 finished with value: 0.058985541887027856 and parameters: {'alpha': 0.007114556763443636, 'tol': 0.006111826968439574}. Best is trial 120 with value: 0.05898509333232734.\n",
      "[I 2025-05-09 14:47:54,904] Trial 148 finished with value: 0.05898515445288987 and parameters: {'alpha': 1.8918157678394574, 'tol': 0.0066172406382390735}. Best is trial 120 with value: 0.05898509333232734.\n",
      "[I 2025-05-09 14:48:03,066] Trial 149 finished with value: 0.058985121893935004 and parameters: {'alpha': 1.7107367148274473, 'tol': 0.006370158287536985}. Best is trial 120 with value: 0.05898509333232734.\n",
      "[I 2025-05-09 14:48:06,221] Trial 150 finished with value: 0.058985191838023636 and parameters: {'alpha': 2.04937301200589, 'tol': 0.005840675568213199}. Best is trial 120 with value: 0.05898509333232734.\n",
      "[I 2025-05-09 14:48:08,515] Trial 151 finished with value: 0.05898518055704568 and parameters: {'alpha': 2.0052755239620725, 'tol': 0.006408568417814}. Best is trial 120 with value: 0.05898509333232734.\n",
      "[I 2025-05-09 14:48:18,267] Trial 152 finished with value: 0.05898517134186523 and parameters: {'alpha': 1.9672801262737831, 'tol': 0.009863090108565334}. Best is trial 120 with value: 0.05898509333232734.\n",
      "[I 2025-05-09 14:48:24,765] Trial 153 finished with value: 0.058985179924107616 and parameters: {'alpha': 2.002726478059917, 'tol': 0.008673318214034218}. Best is trial 120 with value: 0.05898509333232734.\n",
      "[I 2025-05-09 14:48:27,886] Trial 154 finished with value: 0.058985102174487165 and parameters: {'alpha': 1.1308925305502022, 'tol': 0.005019223007231127}. Best is trial 120 with value: 0.05898509333232734.\n",
      "[I 2025-05-09 14:48:29,091] Trial 155 finished with value: 0.05899189093509372 and parameters: {'alpha': 9.80736917854211, 'tol': 0.008018124807688543}. Best is trial 120 with value: 0.05898509333232734.\n",
      "[I 2025-05-09 14:48:40,866] Trial 156 finished with value: 0.0589851209443026 and parameters: {'alpha': 0.9796613237250533, 'tol': 0.004834867243829144}. Best is trial 120 with value: 0.05898509333232734.\n",
      "[I 2025-05-09 14:48:46,308] Trial 157 finished with value: 0.058985104522640594 and parameters: {'alpha': 1.567430123806815, 'tol': 0.005382083021799352}. Best is trial 120 with value: 0.05898509333232734.\n",
      "[I 2025-05-09 14:48:48,396] Trial 158 finished with value: 0.058985159126248035 and parameters: {'alpha': 1.9135696944264275, 'tol': 0.004838154356458667}. Best is trial 120 with value: 0.05898509333232734.\n",
      "[I 2025-05-09 14:48:50,696] Trial 159 finished with value: 0.05898509335690448 and parameters: {'alpha': 1.3473078129081613, 'tol': 0.004762425242821419}. Best is trial 120 with value: 0.05898509333232734.\n",
      "[I 2025-05-09 14:49:02,295] Trial 160 finished with value: 0.05898527542695891 and parameters: {'alpha': 2.323389738069353, 'tol': 0.005029440090071219}. Best is trial 120 with value: 0.05898509333232734.\n",
      "[I 2025-05-09 14:49:07,835] Trial 162 finished with value: 0.058985148248459934 and parameters: {'alpha': 0.8395767668145497, 'tol': 0.0027627116313210525}. Best is trial 120 with value: 0.05898509333232734.\n",
      "[I 2025-05-09 14:49:10,066] Trial 161 finished with value: 0.058985176736712275 and parameters: {'alpha': 1.9897582830437908, 'tol': 0.005508699932778489}. Best is trial 120 with value: 0.05898509333232734.\n",
      "[I 2025-05-09 14:49:13,329] Trial 163 finished with value: 0.05898532077323401 and parameters: {'alpha': 0.36294444369002465, 'tol': 0.0030339931414372543}. Best is trial 120 with value: 0.05898509333232734.\n",
      "[I 2025-05-09 14:49:22,918] Trial 164 finished with value: 0.0589851467586537 and parameters: {'alpha': 1.8542412879519383, 'tol': 0.005251726937495615}. Best is trial 120 with value: 0.05898509333232734.\n",
      "[I 2025-05-09 14:49:28,299] Trial 165 finished with value: 0.05898513245998194 and parameters: {'alpha': 0.9143069411051472, 'tol': 0.004634403399516649}. Best is trial 120 with value: 0.05898509333232734.\n",
      "[I 2025-05-09 14:49:30,517] Trial 166 finished with value: 0.05898510044998487 and parameters: {'alpha': 1.151389484534678, 'tol': 0.004669131187701057}. Best is trial 120 with value: 0.05898509333232734.\n",
      "[I 2025-05-09 14:49:33,903] Trial 167 finished with value: 0.05898515490639655 and parameters: {'alpha': 1.8939597869558829, 'tol': 0.0071843218775979175}. Best is trial 120 with value: 0.05898509333232734.\n",
      "[I 2025-05-09 14:49:44,810] Trial 168 finished with value: 0.05898534187200826 and parameters: {'alpha': 2.5025035588189795, 'tol': 0.007640773699607443}. Best is trial 120 with value: 0.05898509333232734.\n",
      "[I 2025-05-09 14:49:48,126] Trial 169 finished with value: 0.058985176847078165 and parameters: {'alpha': 1.990211064466187, 'tol': 0.007468407772552981}. Best is trial 120 with value: 0.05898509333232734.\n",
      "[I 2025-05-09 14:49:50,301] Trial 170 finished with value: 0.05898511605790903 and parameters: {'alpha': 1.6690840951841945, 'tol': 0.007688594570423297}. Best is trial 120 with value: 0.05898509333232734.\n",
      "[I 2025-05-09 14:49:54,606] Trial 171 finished with value: 0.058985203995749746 and parameters: {'alpha': 2.0943997708842157, 'tol': 0.007589513200809624}. Best is trial 120 with value: 0.05898509333232734.\n",
      "[I 2025-05-09 14:50:04,296] Trial 172 finished with value: 0.05898638471431196 and parameters: {'alpha': 4.2695718900266355, 'tol': 0.009706729449827457}. Best is trial 120 with value: 0.05898509333232734.\n",
      "[I 2025-05-09 14:50:07,609] Trial 173 finished with value: 0.058985110031417494 and parameters: {'alpha': 1.6202509796113254, 'tol': 0.005985932848767249}. Best is trial 120 with value: 0.05898509333232734.\n",
      "[I 2025-05-09 14:50:10,873] Trial 174 finished with value: 0.05898522467275045 and parameters: {'alpha': 0.5837682166956557, 'tol': 0.0015304144575942914}. Best is trial 120 with value: 0.05898509333232734.\n",
      "[I 2025-05-09 14:50:14,124] Trial 175 finished with value: 0.05898511290613804 and parameters: {'alpha': 1.6444443869928342, 'tol': 0.001961399857272732}. Best is trial 120 with value: 0.05898509333232734.\n",
      "[I 2025-05-09 14:50:25,627] Trial 176 finished with value: 0.05898509784732643 and parameters: {'alpha': 1.4813046836361026, 'tol': 0.0019105683696845244}. Best is trial 120 with value: 0.05898509333232734.\n",
      "[I 2025-05-09 14:50:28,923] Trial 177 finished with value: 0.05898509607069773 and parameters: {'alpha': 1.448429595327763, 'tol': 0.0017047463559140786}. Best is trial 120 with value: 0.05898509333232734.\n",
      "[I 2025-05-09 14:50:31,135] Trial 178 finished with value: 0.05898528094585771 and parameters: {'alpha': 2.339245504404832, 'tol': 0.0029559218379047185}. Best is trial 120 with value: 0.05898509333232734.\n",
      "[I 2025-05-09 14:50:36,528] Trial 179 finished with value: 0.058985211222720685 and parameters: {'alpha': 2.120108245275061, 'tol': 0.0018907578854519347}. Best is trial 120 with value: 0.05898509333232734.\n",
      "[I 2025-05-09 14:50:44,416] Trial 180 finished with value: 0.05898516888099584 and parameters: {'alpha': 1.9567902617629152, 'tol': 0.0004506167986543961}. Best is trial 120 with value: 0.05898509333232734.\n",
      "[I 2025-05-09 14:50:48,685] Trial 181 finished with value: 0.05898512639421376 and parameters: {'alpha': 1.7401454819947535, 'tol': 0.0005133030677259729}. Best is trial 120 with value: 0.05898509333232734.\n",
      "[I 2025-05-09 14:50:50,780] Trial 182 finished with value: 0.05898509441708997 and parameters: {'alpha': 1.261193775947983, 'tol': 0.001665736629951253}. Best is trial 120 with value: 0.05898509333232734.\n",
      "[I 2025-05-09 14:50:56,007] Trial 183 finished with value: 0.058985450034261575 and parameters: {'alpha': 2.754923667643874, 'tol': 0.0007778530603404236}. Best is trial 120 with value: 0.05898509333232734.\n",
      "[I 2025-05-09 14:51:04,758] Trial 184 finished with value: 0.05898511650150798 and parameters: {'alpha': 1.6724172474246286, 'tol': 0.001310849525064207}. Best is trial 120 with value: 0.05898509333232734.\n",
      "[I 2025-05-09 14:51:09,073] Trial 185 finished with value: 0.05898512720494061 and parameters: {'alpha': 1.745236943152744, 'tol': 0.002008029709673789}. Best is trial 120 with value: 0.05898509333232734.\n",
      "[I 2025-05-09 14:51:11,240] Trial 186 finished with value: 0.0589852526154608 and parameters: {'alpha': 2.255489998754286, 'tol': 0.002231111507544885}. Best is trial 120 with value: 0.05898509333232734.\n",
      "[I 2025-05-09 14:51:16,744] Trial 187 finished with value: 0.058985126198381234 and parameters: {'alpha': 0.9483513881564963, 'tol': 0.0012092310542037492}. Best is trial 120 with value: 0.05898509333232734.\n",
      "[I 2025-05-09 14:51:26,537] Trial 188 finished with value: 0.05898511567768845 and parameters: {'alpha': 1.0143664101347265, 'tol': 0.001677216434232894}. Best is trial 120 with value: 0.05898509333232734.\n",
      "[I 2025-05-09 14:51:29,859] Trial 189 finished with value: 0.058985179622236636 and parameters: {'alpha': 0.7197300413652633, 'tol': 0.0027807839658588844}. Best is trial 120 with value: 0.05898509333232734.\n",
      "[I 2025-05-09 14:51:31,979] Trial 190 finished with value: 0.05898533565763017 and parameters: {'alpha': 0.3338761512012014, 'tol': 0.0021834219036622987}. Best is trial 120 with value: 0.05898509333232734.\n",
      "[I 2025-05-09 14:51:35,300] Trial 191 finished with value: 0.05898554683716407 and parameters: {'alpha': 0.0005040329997003656, 'tol': 0.0016168423119880867}. Best is trial 120 with value: 0.05898509333232734.\n",
      "[I 2025-05-09 14:51:47,735] Trial 192 finished with value: 0.05898509344544382 and parameters: {'alpha': 1.3581095347196155, 'tol': 0.0032185110157312204}. Best is trial 120 with value: 0.05898509333232734.\n",
      "[I 2025-05-09 14:51:50,113] Trial 193 finished with value: 0.058985346635528464 and parameters: {'alpha': 0.3130844041108838, 'tol': 0.0019814532662527657}. Best is trial 120 with value: 0.05898509333232734.\n",
      "[I 2025-05-09 14:51:53,164] Trial 194 finished with value: 0.05898509708597786 and parameters: {'alpha': 1.468174941795812, 'tol': 0.00581911868998849}. Best is trial 120 with value: 0.05898509333232734.\n",
      "[I 2025-05-09 14:51:55,486] Trial 195 finished with value: 0.05898510729211623 and parameters: {'alpha': 1.0799858002653315, 'tol': 0.005962120188978821}. Best is trial 120 with value: 0.05898509333232734.\n",
      "[I 2025-05-09 14:52:08,420] Trial 196 finished with value: 0.05898513886427849 and parameters: {'alpha': 0.8823524775565448, 'tol': 0.0033858862096430783}. Best is trial 120 with value: 0.05898509333232734.\n",
      "[I 2025-05-09 14:52:09,774] Trial 197 finished with value: 0.05898526412426607 and parameters: {'alpha': 2.2902454259900886, 'tol': 0.003313683449417932}. Best is trial 120 with value: 0.05898509333232734.\n",
      "[I 2025-05-09 14:52:11,833] Trial 198 finished with value: 0.05898541880902802 and parameters: {'alpha': 0.1877679222120614, 'tol': 0.004811277890654452}. Best is trial 120 with value: 0.05898509333232734.\n",
      "[I 2025-05-09 14:52:15,190] Trial 199 finished with value: 0.05898515189480015 and parameters: {'alpha': 1.8795811611754767, 'tol': 0.0034768811142788366}. Best is trial 120 with value: 0.05898509333232734.\n",
      "[I 2025-05-09 14:52:29,091] Trial 200 finished with value: 0.058985132708872685 and parameters: {'alpha': 1.7783826770439337, 'tol': 0.0032214096664241526}. Best is trial 120 with value: 0.05898509333232734.\n",
      "[I 2025-05-09 14:52:31,533] Trial 202 finished with value: 0.05898510308436479 and parameters: {'alpha': 1.5516580756673117, 'tol': 0.003218569705059191}. Best is trial 120 with value: 0.05898509333232734.\n",
      "[I 2025-05-09 14:52:31,536] Trial 201 finished with value: 0.05898516333514031 and parameters: {'alpha': 1.9325573692189333, 'tol': 0.002689189535574518}. Best is trial 120 with value: 0.05898509333232734.\n",
      "[I 2025-05-09 14:52:33,877] Trial 203 finished with value: 0.05898509597981808 and parameters: {'alpha': 1.4464987807170666, 'tol': 0.0031075295007092305}. Best is trial 120 with value: 0.05898509333232734.\n",
      "[I 2025-05-09 14:52:49,862] Trial 204 finished with value: 0.05898510352815014 and parameters: {'alpha': 1.5566381007002517, 'tol': 0.005463032443836441}. Best is trial 120 with value: 0.05898509333232734.\n",
      "[I 2025-05-09 14:52:52,115] Trial 205 finished with value: 0.05898509620626727 and parameters: {'alpha': 1.4512525182553162, 'tol': 0.005172324637046411}. Best is trial 120 with value: 0.05898509333232734.\n",
      "[I 2025-05-09 14:52:53,110] Trial 206 finished with value: 0.05898511459658445 and parameters: {'alpha': 1.022003516430181, 'tol': 0.006013132953457959}. Best is trial 120 with value: 0.05898509333232734.\n",
      "[I 2025-05-09 14:52:55,260] Trial 207 finished with value: 0.05898511880623484 and parameters: {'alpha': 1.689265045030129, 'tol': 0.004065826834123748}. Best is trial 120 with value: 0.05898509333232734.\n",
      "[I 2025-05-09 14:53:11,607] Trial 208 finished with value: 0.05898640989835457 and parameters: {'alpha': 4.303094064677875, 'tol': 0.0033624509378721475}. Best is trial 120 with value: 0.05898509333232734.\n",
      "[I 2025-05-09 14:53:13,962] Trial 209 finished with value: 0.058985966603697544 and parameters: {'alpha': 3.674365134935046, 'tol': 0.003995872099166827}. Best is trial 120 with value: 0.05898509333232734.\n",
      "[I 2025-05-09 14:53:15,017] Trial 210 finished with value: 0.05898528299707885 and parameters: {'alpha': 2.345086587817264, 'tol': 0.004546246301128918}. Best is trial 120 with value: 0.05898509333232734.\n",
      "[I 2025-05-09 14:53:16,081] Trial 211 finished with value: 0.05898516109658422 and parameters: {'alpha': 0.7869264658994312, 'tol': 0.004404911153899664}. Best is trial 120 with value: 0.05898509333232734.\n",
      "[I 2025-05-09 14:53:33,657] Trial 212 finished with value: 0.058985571453210595 and parameters: {'alpha': 3.0027519411546235, 'tol': 0.004619086421454435}. Best is trial 120 with value: 0.05898509333232734.\n",
      "[I 2025-05-09 14:53:36,053] Trial 214 finished with value: 0.05898511539778515 and parameters: {'alpha': 1.0163248785140209, 'tol': 0.004280645402543062}. Best is trial 120 with value: 0.05898509333232734.\n",
      "[I 2025-05-09 14:53:37,041] Trial 213 finished with value: 0.058985343787048984 and parameters: {'alpha': 2.5073366536386272, 'tol': 0.004953493229445402}. Best is trial 120 with value: 0.05898509333232734.\n",
      "[I 2025-05-09 14:53:37,059] Trial 215 finished with value: 0.0589852245137808 and parameters: {'alpha': 2.1656060919959135, 'tol': 0.004708262561229822}. Best is trial 120 with value: 0.05898509333232734.\n",
      "[I 2025-05-09 14:53:52,546] Trial 216 finished with value: 0.05898509471797325 and parameters: {'alpha': 1.2520110554001864, 'tol': 0.0045796557532896045}. Best is trial 120 with value: 0.05898509333232734.\n",
      "[I 2025-05-09 14:53:55,884] Trial 218 finished with value: 0.05898510112397368 and parameters: {'alpha': 1.5282112545606523, 'tol': 0.0064949288656939745}. Best is trial 120 with value: 0.05898509333232734.\n",
      "[I 2025-05-09 14:53:55,901] Trial 219 finished with value: 0.05898517083863531 and parameters: {'alpha': 1.9651475275324315, 'tol': 0.006089552555542727}. Best is trial 120 with value: 0.05898509333232734.\n",
      "[I 2025-05-09 14:53:56,898] Trial 217 finished with value: 0.058985368197550875 and parameters: {'alpha': 2.5676221034272197, 'tol': 0.002030674439950333}. Best is trial 120 with value: 0.05898509333232734.\n",
      "[I 2025-05-09 14:54:10,415] Trial 220 finished with value: 0.05898518391440682 and parameters: {'alpha': 0.7053107494338822, 'tol': 0.00472058979361406}. Best is trial 120 with value: 0.05898509333232734.\n",
      "[I 2025-05-09 14:54:14,764] Trial 222 finished with value: 0.058985135257396945 and parameters: {'alpha': 0.9000323085672965, 'tol': 0.008185934588689535}. Best is trial 120 with value: 0.05898509333232734.\n",
      "[I 2025-05-09 14:54:16,741] Trial 223 finished with value: 0.05898537843187903 and parameters: {'alpha': 0.2556290297323289, 'tol': 0.0045032702334253825}. Best is trial 120 with value: 0.05898509333232734.\n",
      "[I 2025-05-09 14:54:16,753] Trial 221 finished with value: 0.05898532735867931 and parameters: {'alpha': 0.3499537481309034, 'tol': 0.004977267757348644}. Best is trial 120 with value: 0.05898509333232734.\n",
      "[I 2025-05-09 14:54:30,320] Trial 224 finished with value: 0.05898512397933869 and parameters: {'alpha': 0.9612285022833624, 'tol': 0.007845650357400947}. Best is trial 120 with value: 0.05898509333232734.\n",
      "[I 2025-05-09 14:54:35,734] Trial 225 finished with value: 0.05898509434138828 and parameters: {'alpha': 1.263698010099049, 'tol': 0.0027680597966920238}. Best is trial 120 with value: 0.05898509333232734.\n",
      "[I 2025-05-09 14:54:36,740] Trial 227 finished with value: 0.05898518554655026 and parameters: {'alpha': 2.025081679606013, 'tol': 0.0057466859778129275}. Best is trial 120 with value: 0.05898509333232734.\n",
      "[I 2025-05-09 14:54:36,750] Trial 226 finished with value: 0.05898510120726381 and parameters: {'alpha': 1.5292621203464671, 'tol': 0.0030578099286554367}. Best is trial 120 with value: 0.05898509333232734.\n",
      "[I 2025-05-09 14:54:55,425] Trial 228 finished with value: 0.05898509456805841 and parameters: {'alpha': 1.4107019073124483, 'tol': 0.0039008760406584317}. Best is trial 120 with value: 0.05898509333232734.\n",
      "[I 2025-05-09 14:54:56,824] Trial 230 finished with value: 0.05898509434399316 and parameters: {'alpha': 1.403395863132901, 'tol': 0.003031936180295829}. Best is trial 120 with value: 0.05898509333232734.\n",
      "[I 2025-05-09 14:54:58,972] Trial 231 finished with value: 0.058985173474756916 and parameters: {'alpha': 0.741077193772102, 'tol': 0.0036233953871166193}. Best is trial 120 with value: 0.05898509333232734.\n",
      "[I 2025-05-09 14:55:00,007] Trial 229 finished with value: 0.05898509433224226 and parameters: {'alpha': 1.2640067930175978, 'tol': 0.003112190685716488}. Best is trial 120 with value: 0.05898509333232734.\n",
      "[I 2025-05-09 14:55:14,139] Trial 232 finished with value: 0.058985187548299664 and parameters: {'alpha': 0.6933906437333179, 'tol': 0.003437035782357867}. Best is trial 120 with value: 0.05898509333232734.\n",
      "[I 2025-05-09 14:55:18,383] Trial 233 finished with value: 0.05898516838481577 and parameters: {'alpha': 0.7594325791154546, 'tol': 0.0034002603143612887}. Best is trial 120 with value: 0.05898509333232734.\n",
      "[I 2025-05-09 14:55:19,486] Trial 234 finished with value: 0.05898513679943946 and parameters: {'alpha': 0.8923787577772245, 'tol': 0.003153297567443764}. Best is trial 120 with value: 0.05898509333232734.\n",
      "[I 2025-05-09 14:55:20,569] Trial 235 finished with value: 0.05898516233983927 and parameters: {'alpha': 0.7821276350013399, 'tol': 0.0032509130906448577}. Best is trial 120 with value: 0.05898509333232734.\n",
      "[I 2025-05-09 14:55:34,536] Trial 236 finished with value: 0.05898510979291691 and parameters: {'alpha': 1.6181569483794431, 'tol': 0.00277086575377564}. Best is trial 120 with value: 0.05898509333232734.\n",
      "[I 2025-05-09 14:55:38,872] Trial 237 finished with value: 0.05898512740656141 and parameters: {'alpha': 1.7464941674133505, 'tol': 0.0037465278339664557}. Best is trial 120 with value: 0.05898509333232734.\n",
      "[I 2025-05-09 14:55:40,996] Trial 238 finished with value: 0.05898556521285695 and parameters: {'alpha': 2.9906868761136156, 'tol': 0.00275180917190649}. Best is trial 120 with value: 0.05898509333232734.\n",
      "[I 2025-05-09 14:55:42,070] Trial 239 finished with value: 0.05898543936776632 and parameters: {'alpha': 2.731611769401226, 'tol': 0.0028365394087144606}. Best is trial 120 with value: 0.05898509333232734.\n",
      "[I 2025-05-09 14:55:56,947] Trial 240 finished with value: 0.05898546777461969 and parameters: {'alpha': 2.7930684833819672, 'tol': 0.0029175983358111935}. Best is trial 120 with value: 0.05898509333232734.\n",
      "[I 2025-05-09 14:56:00,217] Trial 241 finished with value: 0.05898536448458182 and parameters: {'alpha': 2.5586035308230564, 'tol': 0.0027340508915610798}. Best is trial 120 with value: 0.05898509333232734.\n",
      "[I 2025-05-09 14:56:02,447] Trial 243 finished with value: 0.058985110338046064 and parameters: {'alpha': 1.0542517325730036, 'tol': 0.002750416379775737}. Best is trial 120 with value: 0.05898509333232734.\n",
      "[I 2025-05-09 14:56:03,448] Trial 242 finished with value: 0.0589852454179325 and parameters: {'alpha': 2.233188879491959, 'tol': 0.0036563409010520703}. Best is trial 120 with value: 0.05898509333232734.\n",
      "[I 2025-05-09 14:56:18,420] Trial 244 finished with value: 0.05898509906798366 and parameters: {'alpha': 1.5002722235212749, 'tol': 0.002133061823063362}. Best is trial 120 with value: 0.05898509333232734.\n",
      "[I 2025-05-09 14:56:21,743] Trial 245 finished with value: 0.05898522173273895 and parameters: {'alpha': 2.1562634941264274, 'tol': 0.00990192356206756}. Best is trial 120 with value: 0.05898509333232734.\n",
      "[I 2025-05-09 14:56:23,935] Trial 247 finished with value: 0.05898509918765446 and parameters: {'alpha': 1.5020206020215543, 'tol': 0.0040006760665923635}. Best is trial 120 with value: 0.05898509333232734.\n",
      "[I 2025-05-09 14:56:24,917] Trial 246 finished with value: 0.05898515944260442 and parameters: {'alpha': 1.9150160254694193, 'tol': 0.004045516775706094}. Best is trial 120 with value: 0.05898509333232734.\n",
      "[I 2025-05-09 14:56:33,617] Trial 248 finished with value: 0.05898528164710868 and parameters: {'alpha': 2.341245515708257, 'tol': 0.009839838267299126}. Best is trial 120 with value: 0.05898509333232734.\n",
      "[I 2025-05-09 14:56:34,813] Trial 249 finished with value: 0.05898509341628197 and parameters: {'alpha': 1.3551441853059487, 'tol': 0.004438798409074805}. Best is trial 120 with value: 0.05898509333232734.\n"
     ]
    }
   ],
   "source": [
    "def objective(trial):    \n",
    "    params = {\n",
    "        \"random_state\": CFG.seed,\n",
    "        \"alpha\": trial.suggest_float(\"alpha\", 0, 10),\n",
    "        \"tol\": trial.suggest_float(\"tol\", 1e-6, 1e-2)\n",
    "    }\n",
    "    \n",
    "    trainer = Trainer(\n",
    "        Ridge(**params),\n",
    "        cv=CFG.cv,\n",
    "        metric=CFG.metric,\n",
    "        task=\"regression\",\n",
    "        verbose=False\n",
    "    )\n",
    "    trainer.fit(X, y)\n",
    "    \n",
    "    return trainer.overall_score\n",
    "\n",
    "if CFG.run_optuna:\n",
    "    sampler = optuna.samplers.TPESampler(seed=CFG.seed, multivariate=True)\n",
    "    study = optuna.create_study(direction=\"minimize\", sampler=sampler)\n",
    "    study.optimize(objective, n_trials=CFG.n_optuna_trials, n_jobs=-1, catch=(ValueError,))\n",
    "    best_params = study.best_params\n",
    "\n",
    "    ridge_params = {\n",
    "        \"random_state\": CFG.seed,\n",
    "        \"alpha\": best_params[\"alpha\"],\n",
    "        \"tol\": best_params[\"tol\"]\n",
    "    }\n",
    "else:\n",
    "    ridge_params = {\n",
    "        \"random_state\": CFG.seed\n",
    "    }"
   ]
  },
  {
   "cell_type": "code",
   "execution_count": 29,
   "id": "c9514298",
   "metadata": {
    "execution": {
     "iopub.execute_input": "2025-05-09T14:56:34.890489Z",
     "iopub.status.busy": "2025-05-09T14:56:34.890050Z",
     "iopub.status.idle": "2025-05-09T14:56:34.895808Z",
     "shell.execute_reply": "2025-05-09T14:56:34.894696Z"
    },
    "papermill": {
     "duration": 0.041181,
     "end_time": "2025-05-09T14:56:34.897644",
     "exception": false,
     "start_time": "2025-05-09T14:56:34.856463",
     "status": "completed"
    },
    "tags": []
   },
   "outputs": [
    {
     "name": "stdout",
     "output_type": "stream",
     "text": [
      "{\n",
      "  \"random_state\": 42,\n",
      "  \"alpha\": 1.3240892420349015,\n",
      "  \"tol\": 0.006830172345091519\n",
      "}\n"
     ]
    }
   ],
   "source": [
    "print(json.dumps(ridge_params, indent=2))"
   ]
  },
  {
   "cell_type": "code",
   "execution_count": 30,
   "id": "037b26f9",
   "metadata": {
    "execution": {
     "iopub.execute_input": "2025-05-09T14:56:34.962484Z",
     "iopub.status.busy": "2025-05-09T14:56:34.961553Z",
     "iopub.status.idle": "2025-05-09T14:56:40.998647Z",
     "shell.execute_reply": "2025-05-09T14:56:40.997443Z"
    },
    "papermill": {
     "duration": 6.070884,
     "end_time": "2025-05-09T14:56:41.000520",
     "exception": false,
     "start_time": "2025-05-09T14:56:34.929636",
     "status": "completed"
    },
    "tags": []
   },
   "outputs": [
    {
     "name": "stdout",
     "output_type": "stream",
     "text": [
      "Training Ridge\n",
      "\n",
      "--- Fold 0 - root_mean_squared_error: 0.0589 - Time: 0.21 s\n",
      "--- Fold 1 - root_mean_squared_error: 0.0595 - Time: 0.20 s\n",
      "--- Fold 2 - root_mean_squared_error: 0.0589 - Time: 0.20 s\n",
      "--- Fold 3 - root_mean_squared_error: 0.0592 - Time: 0.20 s\n",
      "--- Fold 4 - root_mean_squared_error: 0.0585 - Time: 0.20 s\n",
      "\n",
      "------ Overall root_mean_squared_error: 0.0590 - Mean root_mean_squared_error: 0.0590 ± 0.0003 - Time: 5.96 s\n"
     ]
    }
   ],
   "source": [
    "ridge_trainer = Trainer(\n",
    "    Ridge(**ridge_params),\n",
    "    cv=CFG.cv,\n",
    "    metric=CFG.metric,\n",
    "    task=\"regression\"\n",
    ")\n",
    "\n",
    "ridge_trainer.fit(X, y)\n",
    "\n",
    "scores[\"Ridge (ensemble)\"] = ridge_trainer.fold_scores\n",
    "ridge_test_preds = np.expm1(ridge_trainer.predict(X_test))"
   ]
  },
  {
   "cell_type": "code",
   "execution_count": 31,
   "id": "46ab169a",
   "metadata": {
    "execution": {
     "iopub.execute_input": "2025-05-09T14:56:41.064556Z",
     "iopub.status.busy": "2025-05-09T14:56:41.064151Z",
     "iopub.status.idle": "2025-05-09T14:56:41.398223Z",
     "shell.execute_reply": "2025-05-09T14:56:41.397282Z"
    },
    "papermill": {
     "duration": 0.368583,
     "end_time": "2025-05-09T14:56:41.400120",
     "exception": false,
     "start_time": "2025-05-09T14:56:41.031537",
     "status": "completed"
    },
    "tags": []
   },
   "outputs": [
    {
     "data": {
      "image/png": "[encoded data removed]",
      "text/plain": [
       "<Figure size 1000x400 with 1 Axes>"
      ]
     },
     "metadata": {},
     "output_type": "display_data"
    }
   ],
   "source": [
    "ridge_coeffs = np.zeros((1, X.shape[1]))\n",
    "for m in ridge_trainer.estimators:\n",
    "    ridge_coeffs += m.coef_\n",
    "ridge_coeffs = ridge_coeffs / len(ridge_trainer.estimators)\n",
    "\n",
    "plot_weights(ridge_coeffs, \"Ridge Coefficients\")"
   ]
  },
  {
   "cell_type": "markdown",
   "id": "3aef5126",
   "metadata": {
    "papermill": {
     "duration": 0.031446,
     "end_time": "2025-05-09T14:56:41.462828",
     "exception": false,
     "start_time": "2025-05-09T14:56:41.431382",
     "status": "completed"
    },
    "tags": []
   },
   "source": [
    "# Submission"
   ]
  },
  {
   "cell_type": "code",
   "execution_count": 32,
   "id": "5b5634e4",
   "metadata": {
    "execution": {
     "iopub.execute_input": "2025-05-09T14:56:41.527749Z",
     "iopub.status.busy": "2025-05-09T14:56:41.526835Z",
     "iopub.status.idle": "2025-05-09T14:56:42.264252Z",
     "shell.execute_reply": "2025-05-09T14:56:42.263214Z"
    },
    "papermill": {
     "duration": 0.771684,
     "end_time": "2025-05-09T14:56:42.266185",
     "exception": false,
     "start_time": "2025-05-09T14:56:41.494501",
     "status": "completed"
    },
    "tags": []
   },
   "outputs": [
    {
     "data": {
      "text/html": [
       "<div>\n",
       "<style scoped>\n",
       "    .dataframe tbody tr th:only-of-type {\n",
       "        vertical-align: middle;\n",
       "    }\n",
       "\n",
       "    .dataframe tbody tr th {\n",
       "        vertical-align: top;\n",
       "    }\n",
       "\n",
       "    .dataframe thead th {\n",
       "        text-align: right;\n",
       "    }\n",
       "</style>\n",
       "<table border=\"1\" class=\"dataframe\">\n",
       "  <thead>\n",
       "    <tr style=\"text-align: right;\">\n",
       "      <th></th>\n",
       "      <th>id</th>\n",
       "      <th>Calories</th>\n",
       "    </tr>\n",
       "  </thead>\n",
       "  <tbody>\n",
       "    <tr>\n",
       "      <th>0</th>\n",
       "      <td>750000</td>\n",
       "      <td>27.219657</td>\n",
       "    </tr>\n",
       "    <tr>\n",
       "      <th>1</th>\n",
       "      <td>750001</td>\n",
       "      <td>107.813976</td>\n",
       "    </tr>\n",
       "    <tr>\n",
       "      <th>2</th>\n",
       "      <td>750002</td>\n",
       "      <td>87.126639</td>\n",
       "    </tr>\n",
       "    <tr>\n",
       "      <th>3</th>\n",
       "      <td>750003</td>\n",
       "      <td>125.879750</td>\n",
       "    </tr>\n",
       "    <tr>\n",
       "      <th>4</th>\n",
       "      <td>750004</td>\n",
       "      <td>75.993851</td>\n",
       "    </tr>\n",
       "  </tbody>\n",
       "</table>\n",
       "</div>"
      ],
      "text/plain": [
       "       id    Calories\n",
       "0  750000   27.219657\n",
       "1  750001  107.813976\n",
       "2  750002   87.126639\n",
       "3  750003  125.879750\n",
       "4  750004   75.993851"
      ]
     },
     "execution_count": 32,
     "metadata": {},
     "output_type": "execute_result"
    }
   ],
   "source": [
    "sub = pd.read_csv(CFG.sample_sub_path)\n",
    "sub[CFG.target] = ridge_test_preds\n",
    "sub.to_csv(f\"sub_ridge_{np.mean(scores['Ridge (ensemble)']):.6f}.csv\", index=False)\n",
    "sub.head()"
   ]
  },
  {
   "cell_type": "markdown",
   "id": "8eb5596b",
   "metadata": {
    "papermill": {
     "duration": 0.033199,
     "end_time": "2025-05-09T14:56:42.332082",
     "exception": false,
     "start_time": "2025-05-09T14:56:42.298883",
     "status": "completed"
    },
    "tags": []
   },
   "source": [
    "# Results"
   ]
  },
  {
   "cell_type": "code",
   "execution_count": 33,
   "id": "5c799c55",
   "metadata": {
    "execution": {
     "iopub.execute_input": "2025-05-09T14:56:42.399035Z",
     "iopub.status.busy": "2025-05-09T14:56:42.398677Z",
     "iopub.status.idle": "2025-05-09T14:56:43.039299Z",
     "shell.execute_reply": "2025-05-09T14:56:43.038171Z"
    },
    "papermill": {
     "duration": 0.676465,
     "end_time": "2025-05-09T14:56:43.041198",
     "exception": false,
     "start_time": "2025-05-09T14:56:42.364733",
     "status": "completed"
    },
    "tags": []
   },
   "outputs": [
    {
     "data": {
      "image/png": "[encoded data removed]",
      "text/plain": [
       "<Figure size 1500x270 with 2 Axes>"
      ]
     },
     "metadata": {},
     "output_type": "display_data"
    }
   ],
   "source": [
    "scores = pd.DataFrame(scores)\n",
    "mean_scores = scores.mean().sort_values(ascending=True)\n",
    "order = scores.mean().sort_values(ascending=True).index.tolist()\n",
    "\n",
    "min_score = mean_scores.min()\n",
    "max_score = mean_scores.max()\n",
    "padding = (max_score - min_score) * 0.5\n",
    "lower_limit = min_score - padding\n",
    "upper_limit = max_score + padding\n",
    "\n",
    "fig, axs = plt.subplots(1, 2, figsize=(15, scores.shape[1] * 0.3))\n",
    "\n",
    "boxplot = sns.boxplot(data=scores, order=order, ax=axs[0], orient=\"h\", color=\"grey\")\n",
    "axs[0].set_title(f\"Fold {CFG.metric.__name__}\")\n",
    "axs[0].set_xlabel(\"\")\n",
    "axs[0].set_ylabel(\"\")\n",
    "\n",
    "barplot = sns.barplot(x=mean_scores.values, y=mean_scores.index, ax=axs[1], color=\"grey\")\n",
    "axs[1].set_title(f\"Average {CFG.metric.__name__}\")\n",
    "axs[1].set_xlabel(\"\")\n",
    "axs[1].set_xlim(left=lower_limit, right=upper_limit)\n",
    "axs[1].set_ylabel(\"\")\n",
    "\n",
    "for i, (score, model) in enumerate(zip(mean_scores.values, mean_scores.index)):\n",
    "    color = \"cyan\" if \"ensemble\" in model.lower() else \"grey\"\n",
    "    barplot.patches[i].set_facecolor(color)\n",
    "    boxplot.patches[i].set_facecolor(color)\n",
    "    barplot.text(score, i, round(score, 6), va=\"center\")\n",
    "\n",
    "plt.tight_layout()\n",
    "plt.show()"
   ]
  },
  {
   "cell_type": "code",
   "execution_count": 34,
   "id": "dcb4f9a4",
   "metadata": {
    "execution": {
     "iopub.execute_input": "2025-05-09T14:56:43.112960Z",
     "iopub.status.busy": "2025-05-09T14:56:43.112527Z",
     "iopub.status.idle": "2025-05-09T14:56:43.119362Z",
     "shell.execute_reply": "2025-05-09T14:56:43.118238Z"
    },
    "papermill": {
     "duration": 0.044316,
     "end_time": "2025-05-09T14:56:43.121183",
     "exception": false,
     "start_time": "2025-05-09T14:56:43.076867",
     "status": "completed"
    },
    "tags": []
   },
   "outputs": [],
   "source": [
    "shutil.rmtree(\"catboost_info\", ignore_errors=True)"
   ]
  }
 ],
 "metadata": {
  "kaggle": {
   "accelerator": "none",
   "dataSources": [
    {
     "databundleVersionId": 11893428,
     "sourceId": 91716,
     "sourceType": "competition"
    },
    {
     "datasetId": 6512323,
     "sourceId": 10522392,
     "sourceType": "datasetVersion"
    },
    {
     "sourceId": 237456322,
     "sourceType": "kernelVersion"
    }
   ],
   "dockerImageVersionId": 31012,
   "isGpuEnabled": false,
   "isInternetEnabled": true,
   "language": "python",
   "sourceType": "notebook"
  },
  "kernelspec": {
   "display_name": "Python 3",
   "language": "python",
   "name": "python3"
  },
  "language_info": {
   "codemirror_mode": {
    "name": "ipython",
    "version": 3
   },
   "file_extension": ".py",
   "mimetype": "text/x-python",
   "name": "python",
   "nbconvert_exporter": "python",
   "pygments_lexer": "ipython3",
   "version": "3.11.11"
  },
  "papermill": {
   "default_parameters": {},
   "duration": 7684.108902,
   "end_time": "2025-05-09T14:56:45.985450",
   "environment_variables": {},
   "exception": null,
   "input_path": "__notebook__.ipynb",
   "output_path": "__notebook__.ipynb",
   "parameters": {},
   "start_time": "2025-05-09T12:48:41.876548",
   "version": "2.6.0"
  }
 },
 "nbformat": 4,
 "nbformat_minor": 5
}
