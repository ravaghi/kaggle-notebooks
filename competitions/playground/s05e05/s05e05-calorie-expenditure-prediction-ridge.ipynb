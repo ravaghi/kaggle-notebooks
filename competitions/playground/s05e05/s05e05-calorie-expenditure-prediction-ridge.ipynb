{
 "cells": [
  {
   "cell_type": "code",
   "execution_count": 1,
   "id": "8bdbb07e",
   "metadata": {
    "_kg_hide-output": true,
    "execution": {
     "iopub.execute_input": "2025-05-01T06:25:07.560898Z",
     "iopub.status.busy": "2025-05-01T06:25:07.560497Z",
     "iopub.status.idle": "2025-05-01T06:25:19.897851Z",
     "shell.execute_reply": "2025-05-01T06:25:19.896421Z"
    },
    "papermill": {
     "duration": 12.34757,
     "end_time": "2025-05-01T06:25:19.900376",
     "exception": false,
     "start_time": "2025-05-01T06:25:07.552806",
     "status": "completed"
    },
    "scrolled": true,
    "tags": []
   },
   "outputs": [
    {
     "name": "stdout",
     "output_type": "stream",
     "text": [
      "Requirement already satisfied: ydf in /usr/local/lib/python3.11/dist-packages (0.9.0)\r\n",
      "Collecting koolbox\r\n",
      "  Downloading koolbox-0.1.1-py3-none-any.whl.metadata (2.4 kB)\r\n",
      "Collecting scikit-learn==1.5.2\r\n",
      "  Downloading scikit_learn-1.5.2-cp311-cp311-manylinux_2_17_x86_64.manylinux2014_x86_64.whl.metadata (13 kB)\r\n",
      "Requirement already satisfied: numpy>=1.19.5 in /usr/local/lib/python3.11/dist-packages (from scikit-learn==1.5.2) (1.26.4)\r\n",
      "Requirement already satisfied: scipy>=1.6.0 in /usr/local/lib/python3.11/dist-packages (from scikit-learn==1.5.2) (1.15.2)\r\n",
      "Requirement already satisfied: joblib>=1.2.0 in /usr/local/lib/python3.11/dist-packages (from scikit-learn==1.5.2) (1.4.2)\r\n",
      "Requirement already satisfied: threadpoolctl>=3.1.0 in /usr/local/lib/python3.11/dist-packages (from scikit-learn==1.5.2) (3.6.0)\r\n",
      "Requirement already satisfied: absl_py in /usr/local/lib/python3.11/dist-packages (from ydf) (1.4.0)\r\n",
      "Requirement already satisfied: protobuf>=3.14 in /usr/local/lib/python3.11/dist-packages (from ydf) (3.20.3)\r\n",
      "Requirement already satisfied: pandas>=1.0.0 in /usr/local/lib/python3.11/dist-packages (from koolbox) (2.2.3)\r\n",
      "Requirement already satisfied: mkl_fft in /usr/local/lib/python3.11/dist-packages (from numpy>=1.19.5->scikit-learn==1.5.2) (1.3.8)\r\n",
      "Requirement already satisfied: mkl_random in /usr/local/lib/python3.11/dist-packages (from numpy>=1.19.5->scikit-learn==1.5.2) (1.2.4)\r\n",
      "Requirement already satisfied: mkl_umath in /usr/local/lib/python3.11/dist-packages (from numpy>=1.19.5->scikit-learn==1.5.2) (0.1.1)\r\n",
      "Requirement already satisfied: mkl in /usr/local/lib/python3.11/dist-packages (from numpy>=1.19.5->scikit-learn==1.5.2) (2025.1.0)\r\n",
      "Requirement already satisfied: tbb4py in /usr/local/lib/python3.11/dist-packages (from numpy>=1.19.5->scikit-learn==1.5.2) (2022.1.0)\r\n",
      "Requirement already satisfied: mkl-service in /usr/local/lib/python3.11/dist-packages (from numpy>=1.19.5->scikit-learn==1.5.2) (2.4.1)\r\n",
      "Requirement already satisfied: python-dateutil>=2.8.2 in /usr/local/lib/python3.11/dist-packages (from pandas>=1.0.0->koolbox) (2.9.0.post0)\r\n",
      "Requirement already satisfied: pytz>=2020.1 in /usr/local/lib/python3.11/dist-packages (from pandas>=1.0.0->koolbox) (2025.2)\r\n",
      "Requirement already satisfied: tzdata>=2022.7 in /usr/local/lib/python3.11/dist-packages (from pandas>=1.0.0->koolbox) (2025.2)\r\n",
      "Requirement already satisfied: six>=1.5 in /usr/local/lib/python3.11/dist-packages (from python-dateutil>=2.8.2->pandas>=1.0.0->koolbox) (1.17.0)\r\n",
      "Requirement already satisfied: intel-openmp<2026,>=2024 in /usr/local/lib/python3.11/dist-packages (from mkl->numpy>=1.19.5->scikit-learn==1.5.2) (2024.2.0)\r\n",
      "Requirement already satisfied: tbb==2022.* in /usr/local/lib/python3.11/dist-packages (from mkl->numpy>=1.19.5->scikit-learn==1.5.2) (2022.1.0)\r\n",
      "Requirement already satisfied: tcmlib==1.* in /usr/local/lib/python3.11/dist-packages (from tbb==2022.*->mkl->numpy>=1.19.5->scikit-learn==1.5.2) (1.2.0)\r\n",
      "Requirement already satisfied: intel-cmplr-lib-rt in /usr/local/lib/python3.11/dist-packages (from mkl_umath->numpy>=1.19.5->scikit-learn==1.5.2) (2024.2.0)\r\n",
      "Requirement already satisfied: intel-cmplr-lib-ur==2024.2.0 in /usr/local/lib/python3.11/dist-packages (from intel-openmp<2026,>=2024->mkl->numpy>=1.19.5->scikit-learn==1.5.2) (2024.2.0)\r\n",
      "Downloading scikit_learn-1.5.2-cp311-cp311-manylinux_2_17_x86_64.manylinux2014_x86_64.whl (13.3 MB)\r\n",
      "\u001b[2K   \u001b[90m━━━━━━━━━━━━━━━━━━━━━━━━━━━━━━━━━━━━━━━━\u001b[0m \u001b[32m13.3/13.3 MB\u001b[0m \u001b[31m77.7 MB/s\u001b[0m eta \u001b[36m0:00:00\u001b[0m\r\n",
      "\u001b[?25hDownloading koolbox-0.1.1-py3-none-any.whl (10 kB)\r\n",
      "Installing collected packages: scikit-learn, koolbox\r\n",
      "  Attempting uninstall: scikit-learn\r\n",
      "    Found existing installation: scikit-learn 1.2.2\r\n",
      "    Uninstalling scikit-learn-1.2.2:\r\n",
      "      Successfully uninstalled scikit-learn-1.2.2\r\n",
      "\u001b[31mERROR: pip's dependency resolver does not currently take into account all the packages that are installed. This behaviour is the source of the following dependency conflicts.\r\n",
      "bigframes 1.36.0 requires rich<14,>=12.4.4, but you have rich 14.0.0 which is incompatible.\u001b[0m\u001b[31m\r\n",
      "\u001b[0mSuccessfully installed koolbox-0.1.1 scikit-learn-1.5.2\r\n",
      "Collecting scikeras\r\n",
      "  Downloading scikeras-0.13.0-py3-none-any.whl.metadata (3.1 kB)\r\n",
      "Downloading scikeras-0.13.0-py3-none-any.whl (26 kB)\r\n",
      "Installing collected packages: scikeras\r\n",
      "Successfully installed scikeras-0.13.0\r\n"
     ]
    }
   ],
   "source": [
    "!pip install ydf koolbox scikit-learn==1.5.2 && pip install --no-deps scikeras"
   ]
  },
  {
   "cell_type": "markdown",
   "id": "cb22ed5b",
   "metadata": {
    "papermill": {
     "duration": 0.00657,
     "end_time": "2025-05-01T06:25:19.914879",
     "exception": false,
     "start_time": "2025-05-01T06:25:19.908309",
     "status": "completed"
    },
    "tags": []
   },
   "source": [
    "# Imports and configs"
   ]
  },
  {
   "cell_type": "code",
   "execution_count": 2,
   "id": "f8c583e5",
   "metadata": {
    "_kg_hide-output": true,
    "execution": {
     "iopub.execute_input": "2025-05-01T06:25:19.930761Z",
     "iopub.status.busy": "2025-05-01T06:25:19.930350Z",
     "iopub.status.idle": "2025-05-01T06:25:48.002155Z",
     "shell.execute_reply": "2025-05-01T06:25:48.000818Z"
    },
    "papermill": {
     "duration": 28.082539,
     "end_time": "2025-05-01T06:25:48.004444",
     "exception": false,
     "start_time": "2025-05-01T06:25:19.921905",
     "status": "completed"
    },
    "tags": []
   },
   "outputs": [
    {
     "name": "stderr",
     "output_type": "stream",
     "text": [
      "2025-05-01 06:25:25.889176: E external/local_xla/xla/stream_executor/cuda/cuda_fft.cc:477] Unable to register cuFFT factory: Attempting to register factory for plugin cuFFT when one has already been registered\n",
      "WARNING: All log messages before absl::InitializeLog() is called are written to STDERR\n",
      "E0000 00:00:1746080726.134873      13 cuda_dnn.cc:8310] Unable to register cuDNN factory: Attempting to register factory for plugin cuDNN when one has already been registered\n",
      "E0000 00:00:1746080726.207241      13 cuda_blas.cc:1418] Unable to register cuBLAS factory: Attempting to register factory for plugin cuBLAS when one has already been registered\n"
     ]
    }
   ],
   "source": [
    "from sklearn.preprocessing import StandardScaler\n",
    "from sklearn.ensemble import HistGradientBoostingRegressor, BaggingRegressor\n",
    "from sklearn.base import BaseEstimator, RegressorMixin\n",
    "from sklearn.metrics import root_mean_squared_log_error\n",
    "from sklearn.linear_model import Ridge\n",
    "from sklearn.model_selection import KFold\n",
    "from scikeras.wrappers import KerasRegressor\n",
    "from lightgbm import LGBMRegressor, early_stopping, log_evaluation\n",
    "from ydf import GradientBoostedTreesLearner\n",
    "from catboost import CatBoostRegressor\n",
    "from xgboost import XGBRegressor\n",
    "from koolbox import Trainer\n",
    "import matplotlib.pyplot as plt\n",
    "import contextlib, io\n",
    "import seaborn as sns\n",
    "import pandas as pd\n",
    "import numpy as np\n",
    "import warnings\n",
    "import joblib\n",
    "import shutil\n",
    "import optuna\n",
    "import keras\n",
    "import json\n",
    "import glob\n",
    "import ydf\n",
    "\n",
    "ydf.verbose(2)\n",
    "warnings.filterwarnings(\"ignore\")"
   ]
  },
  {
   "cell_type": "code",
   "execution_count": 3,
   "id": "2e6e76c5",
   "metadata": {
    "execution": {
     "iopub.execute_input": "2025-05-01T06:25:48.020808Z",
     "iopub.status.busy": "2025-05-01T06:25:48.019878Z",
     "iopub.status.idle": "2025-05-01T06:25:48.027056Z",
     "shell.execute_reply": "2025-05-01T06:25:48.025617Z"
    },
    "papermill": {
     "duration": 0.017035,
     "end_time": "2025-05-01T06:25:48.028775",
     "exception": false,
     "start_time": "2025-05-01T06:25:48.011740",
     "status": "completed"
    },
    "tags": []
   },
   "outputs": [],
   "source": [
    "class CFG:\n",
    "    train_path = \"/kaggle/input/playground-series-s5e5/train.csv\"\n",
    "    test_path = \"/kaggle/input/playground-series-s5e5/test.csv\"\n",
    "    sample_sub_path = \"/kaggle/input/playground-series-s5e5/sample_submission.csv\"\n",
    "\n",
    "    metric = root_mean_squared_log_error\n",
    "    target = \"Calories\"\n",
    "    n_folds = 5\n",
    "    seed = 42\n",
    "\n",
    "    run_optuna = True\n",
    "    n_optuna_trials = 250"
   ]
  },
  {
   "cell_type": "markdown",
   "id": "eafc3221",
   "metadata": {
    "papermill": {
     "duration": 0.006296,
     "end_time": "2025-05-01T06:25:48.041948",
     "exception": false,
     "start_time": "2025-05-01T06:25:48.035652",
     "status": "completed"
    },
    "tags": []
   },
   "source": [
    "# Data loading and preprocessing"
   ]
  },
  {
   "cell_type": "code",
   "execution_count": 4,
   "id": "35c501f0",
   "metadata": {
    "execution": {
     "iopub.execute_input": "2025-05-01T06:25:48.056862Z",
     "iopub.status.busy": "2025-05-01T06:25:48.056446Z",
     "iopub.status.idle": "2025-05-01T06:25:49.677217Z",
     "shell.execute_reply": "2025-05-01T06:25:49.676031Z"
    },
    "papermill": {
     "duration": 1.630637,
     "end_time": "2025-05-01T06:25:49.679154",
     "exception": false,
     "start_time": "2025-05-01T06:25:48.048517",
     "status": "completed"
    },
    "tags": []
   },
   "outputs": [],
   "source": [
    "train = pd.read_csv(CFG.train_path, index_col=\"id\")\n",
    "test = pd.read_csv(CFG.test_path, index_col=\"id\")\n",
    "\n",
    "train[\"Sex\"] = train[\"Sex\"].map({\"male\": 0, \"female\": 1})\n",
    "test[\"Sex\"] = test[\"Sex\"].map({\"male\": 0, \"female\": 1})\n",
    "\n",
    "X = train.drop(CFG.target, axis=1)\n",
    "y = train[CFG.target]\n",
    "X_test = test"
   ]
  },
  {
   "cell_type": "markdown",
   "id": "bd7a4753",
   "metadata": {
    "papermill": {
     "duration": 0.006983,
     "end_time": "2025-05-01T06:25:49.692727",
     "exception": false,
     "start_time": "2025-05-01T06:25:49.685744",
     "status": "completed"
    },
    "tags": []
   },
   "source": [
    "# Training base models"
   ]
  },
  {
   "cell_type": "code",
   "execution_count": 5,
   "id": "70809108",
   "metadata": {
    "_kg_hide-input": true,
    "_kg_hide-output": true,
    "execution": {
     "iopub.execute_input": "2025-05-01T06:25:49.708414Z",
     "iopub.status.busy": "2025-05-01T06:25:49.707965Z",
     "iopub.status.idle": "2025-05-01T06:25:49.717387Z",
     "shell.execute_reply": "2025-05-01T06:25:49.716232Z"
    },
    "papermill": {
     "duration": 0.019727,
     "end_time": "2025-05-01T06:25:49.719227",
     "exception": false,
     "start_time": "2025-05-01T06:25:49.699500",
     "status": "completed"
    },
    "tags": []
   },
   "outputs": [],
   "source": [
    "histgb_params = {\n",
    "    \"l2_regularization\": 83.89023753261954,\n",
    "    \"learning_rate\": 0.014076263018504506,\n",
    "    \"max_depth\": 167,\n",
    "    \"max_features\": 0.35671906170746404,\n",
    "    \"max_iter\": 2175,\n",
    "    \"max_leaf_nodes\": 441,\n",
    "    \"min_samples_leaf\": 41,\n",
    "    \"random_state\": 42\n",
    "}\n",
    "\n",
    "lgbm_params = {\n",
    "    \"boosting_type\": \"gbdt\",\n",
    "    \"colsample_bytree\": 0.5099047573235393,\n",
    "    \"learning_rate\": 0.04655222942419148,\n",
    "    \"min_child_samples\": 39,\n",
    "    \"min_child_weight\": 0.5763597850247795,\n",
    "    \"n_estimators\": 10000,\n",
    "    \"n_jobs\": -1,\n",
    "    \"num_leaves\": 94,\n",
    "    \"random_state\": 42,\n",
    "    \"reg_alpha\": 13.37124947203867,\n",
    "    \"reg_lambda\": 3.4607082189282656,\n",
    "    \"subsample\": 0.8594971769419172,\n",
    "    \"verbose\": -1\n",
    "}\n",
    "\n",
    "lgbm_goss_params = {\n",
    "    \"boosting_type\": \"goss\",\n",
    "    \"colsample_bytree\": 0.44242724444333914,\n",
    "    \"learning_rate\": 0.02648790357768195,\n",
    "    \"min_child_samples\": 31,\n",
    "    \"min_child_weight\": 0.565923097348698,\n",
    "    \"n_estimators\": 10000,\n",
    "    \"n_jobs\": -1,\n",
    "    \"num_leaves\": 91,\n",
    "    \"random_state\": 42,\n",
    "    \"reg_alpha\": 14.802741846604295,\n",
    "    \"reg_lambda\": 3.285199583781151,\n",
    "    \"subsample\": 0.4765616561570595,\n",
    "    \"verbose\": -1\n",
    "}\n",
    "\n",
    "xgb_params = {\n",
    "    \"colsample_bylevel\": 0.562776356802306,\n",
    "    \"colsample_bynode\": 0.9612908685331664,\n",
    "    \"colsample_bytree\": 0.6576899092549643,\n",
    "    \"early_stopping_rounds\": 100,\n",
    "    \"eval_metric\": \"rmse\",\n",
    "    \"gamma\": 6.906307575453604,\n",
    "    \"learning_rate\": 0.035818175355750034,\n",
    "    \"max_depth\": 79,\n",
    "    \"max_leaves\": 94,\n",
    "    \"min_child_weight\": 54,\n",
    "    \"n_estimators\": 10000,\n",
    "    \"n_jobs\": -1,\n",
    "    \"random_state\": 42,\n",
    "    \"reg_alpha\": 40.48896149819585,\n",
    "    \"reg_lambda\": 50.48291846164928,\n",
    "    \"subsample\": 0.987369044259711,\n",
    "    \"verbosity\": 0\n",
    "}\n",
    "\n",
    "cb_params = {\n",
    "    \"border_count\": 197,\n",
    "    \"colsample_bylevel\": 0.5512194940746528,\n",
    "    \"depth\": 10,\n",
    "    \"eval_metric\": \"RMSE\",\n",
    "    \"iterations\": 5000,\n",
    "    \"l2_leaf_reg\": 0.8315140039900148,\n",
    "    \"learning_rate\": 0.04835894985543038,\n",
    "    \"min_child_samples\": 248,\n",
    "    \"random_state\": 42,\n",
    "    \"random_strength\": 0.269215705791639,\n",
    "    \"verbose\": False\n",
    "}\n",
    "\n",
    "ydf_params = {\n",
    "    \"num_trees\": 1000,\n",
    "    \"max_depth\": 8\n",
    "}"
   ]
  },
  {
   "cell_type": "code",
   "execution_count": 6,
   "id": "0c14a7a3",
   "metadata": {
    "execution": {
     "iopub.execute_input": "2025-05-01T06:25:49.734534Z",
     "iopub.status.busy": "2025-05-01T06:25:49.734120Z",
     "iopub.status.idle": "2025-05-01T06:25:49.739120Z",
     "shell.execute_reply": "2025-05-01T06:25:49.738059Z"
    },
    "papermill": {
     "duration": 0.014716,
     "end_time": "2025-05-01T06:25:49.741021",
     "exception": false,
     "start_time": "2025-05-01T06:25:49.726305",
     "status": "completed"
    },
    "tags": []
   },
   "outputs": [],
   "source": [
    "scores = {}\n",
    "oof_preds = {}\n",
    "test_preds = {}"
   ]
  },
  {
   "cell_type": "markdown",
   "id": "b9d79843",
   "metadata": {
    "papermill": {
     "duration": 0.006357,
     "end_time": "2025-05-01T06:25:49.754958",
     "exception": false,
     "start_time": "2025-05-01T06:25:49.748601",
     "status": "completed"
    },
    "tags": []
   },
   "source": [
    "## HistGradientBoosting"
   ]
  },
  {
   "cell_type": "code",
   "execution_count": 7,
   "id": "9d7a6fba",
   "metadata": {
    "execution": {
     "iopub.execute_input": "2025-05-01T06:25:49.770016Z",
     "iopub.status.busy": "2025-05-01T06:25:49.769633Z",
     "iopub.status.idle": "2025-05-01T06:38:53.706812Z",
     "shell.execute_reply": "2025-05-01T06:38:53.705673Z"
    },
    "papermill": {
     "duration": 783.948209,
     "end_time": "2025-05-01T06:38:53.709975",
     "exception": false,
     "start_time": "2025-05-01T06:25:49.761766",
     "status": "completed"
    },
    "tags": []
   },
   "outputs": [
    {
     "name": "stdout",
     "output_type": "stream",
     "text": [
      "Training HistGradientBoostingRegressor\n",
      "\n",
      "--- Fold 0 - root_mean_squared_log_error: 0.0610 - Time: 128.18 s\n",
      "--- Fold 1 - root_mean_squared_log_error: 0.0616 - Time: 115.55 s\n",
      "--- Fold 2 - root_mean_squared_log_error: 0.0608 - Time: 144.54 s\n",
      "--- Fold 3 - root_mean_squared_log_error: 0.0621 - Time: 118.38 s\n",
      "--- Fold 4 - root_mean_squared_log_error: 0.0608 - Time: 142.61 s\n",
      "\n",
      "------ Overall root_mean_squared_log_error: 0.0612 - Mean root_mean_squared_log_error: 0.0612 ± 0.0005 - Time: 651.62 s\n"
     ]
    }
   ],
   "source": [
    "histgb_trainer = Trainer(\n",
    "    HistGradientBoostingRegressor(**histgb_params),\n",
    "    cv=KFold(n_splits=CFG.n_folds, random_state=CFG.seed, shuffle=True),\n",
    "    metric=CFG.metric,\n",
    "    task=\"regression\"\n",
    ")\n",
    "\n",
    "histgb_trainer.fit(X, y)\n",
    "\n",
    "scores[\"HistGB\"] = histgb_trainer.fold_scores\n",
    "oof_preds[\"HistGB\"] = histgb_trainer.oof_preds\n",
    "test_preds[\"HistGB\"] = histgb_trainer.predict(X_test)"
   ]
  },
  {
   "cell_type": "markdown",
   "id": "f46392bb",
   "metadata": {
    "papermill": {
     "duration": 0.007232,
     "end_time": "2025-05-01T06:38:53.727174",
     "exception": false,
     "start_time": "2025-05-01T06:38:53.719942",
     "status": "completed"
    },
    "tags": []
   },
   "source": [
    "## LightGBM (gbdt)"
   ]
  },
  {
   "cell_type": "code",
   "execution_count": 8,
   "id": "68d6cb8f",
   "metadata": {
    "execution": {
     "iopub.execute_input": "2025-05-01T06:38:53.743813Z",
     "iopub.status.busy": "2025-05-01T06:38:53.742797Z",
     "iopub.status.idle": "2025-05-01T06:43:28.899737Z",
     "shell.execute_reply": "2025-05-01T06:43:28.898819Z"
    },
    "papermill": {
     "duration": 275.167156,
     "end_time": "2025-05-01T06:43:28.901908",
     "exception": false,
     "start_time": "2025-05-01T06:38:53.734752",
     "status": "completed"
    },
    "tags": []
   },
   "outputs": [
    {
     "name": "stdout",
     "output_type": "stream",
     "text": [
      "Training LGBMRegressor\n",
      "\n",
      "Training until validation scores don't improve for 100 rounds\n",
      "[500]\tvalid_0's rmse: 3.58626\tvalid_0's l2: 12.8612\n",
      "[1000]\tvalid_0's rmse: 3.57258\tvalid_0's l2: 12.7633\n",
      "Early stopping, best iteration is:\n",
      "[1164]\tvalid_0's rmse: 3.57037\tvalid_0's l2: 12.7476\n",
      "--- Fold 0 - root_mean_squared_log_error: 0.0618 - Time: 40.65 s\n",
      "\n",
      "Training until validation scores don't improve for 100 rounds\n",
      "[500]\tvalid_0's rmse: 3.64538\tvalid_0's l2: 13.2888\n",
      "[1000]\tvalid_0's rmse: 3.62694\tvalid_0's l2: 13.1547\n",
      "[1500]\tvalid_0's rmse: 3.62361\tvalid_0's l2: 13.1306\n",
      "Early stopping, best iteration is:\n",
      "[1425]\tvalid_0's rmse: 3.62325\tvalid_0's l2: 13.1279\n",
      "--- Fold 1 - root_mean_squared_log_error: 0.0622 - Time: 45.14 s\n",
      "\n",
      "Training until validation scores don't improve for 100 rounds\n",
      "[500]\tvalid_0's rmse: 3.58853\tvalid_0's l2: 12.8776\n",
      "[1000]\tvalid_0's rmse: 3.57473\tvalid_0's l2: 12.7787\n",
      "Early stopping, best iteration is:\n",
      "[1128]\tvalid_0's rmse: 3.5741\tvalid_0's l2: 12.7742\n",
      "--- Fold 2 - root_mean_squared_log_error: 0.0615 - Time: 38.11 s\n",
      "\n",
      "Training until validation scores don't improve for 100 rounds\n",
      "[500]\tvalid_0's rmse: 3.54524\tvalid_0's l2: 12.5687\n",
      "[1000]\tvalid_0's rmse: 3.52687\tvalid_0's l2: 12.4388\n",
      "Early stopping, best iteration is:\n",
      "[1271]\tvalid_0's rmse: 3.52411\tvalid_0's l2: 12.4193\n",
      "--- Fold 3 - root_mean_squared_log_error: 0.0627 - Time: 43.61 s\n",
      "\n",
      "Training until validation scores don't improve for 100 rounds\n",
      "[500]\tvalid_0's rmse: 3.58199\tvalid_0's l2: 12.8307\n",
      "[1000]\tvalid_0's rmse: 3.57508\tvalid_0's l2: 12.7812\n",
      "Early stopping, best iteration is:\n",
      "[1125]\tvalid_0's rmse: 3.57457\tvalid_0's l2: 12.7775\n",
      "--- Fold 4 - root_mean_squared_log_error: 0.0620 - Time: 37.56 s\n",
      "\n",
      "\n",
      "------ Overall root_mean_squared_log_error: 0.0620 - Mean root_mean_squared_log_error: 0.0620 ± 0.0004 - Time: 207.21 s\n"
     ]
    }
   ],
   "source": [
    "lgbm_trainer = Trainer(\n",
    "    LGBMRegressor(**lgbm_params),\n",
    "    cv=KFold(n_splits=CFG.n_folds, random_state=CFG.seed, shuffle=True),\n",
    "    metric=CFG.metric,\n",
    "    use_early_stopping=True,\n",
    "    task=\"regression\"\n",
    ")\n",
    "\n",
    "fit_args = {\n",
    "    \"eval_metric\": \"rmse\",\n",
    "    \"callbacks\": [\n",
    "        log_evaluation(period=500), \n",
    "        early_stopping(stopping_rounds=100)\n",
    "    ]\n",
    "}\n",
    "\n",
    "lgbm_trainer.fit(X, y, fit_args)\n",
    "\n",
    "scores[\"LightGBM (gbdt)\"] = lgbm_trainer.fold_scores\n",
    "oof_preds[\"LightGBM (gbdt)\"] = lgbm_trainer.oof_preds\n",
    "test_preds[\"LightGBM (gbdt)\"] = lgbm_trainer.predict(X_test)"
   ]
  },
  {
   "cell_type": "markdown",
   "id": "88bb582f",
   "metadata": {
    "papermill": {
     "duration": 0.009141,
     "end_time": "2025-05-01T06:43:28.924409",
     "exception": false,
     "start_time": "2025-05-01T06:43:28.915268",
     "status": "completed"
    },
    "tags": []
   },
   "source": [
    "## LightGBM (goss)"
   ]
  },
  {
   "cell_type": "code",
   "execution_count": 9,
   "id": "88c58e09",
   "metadata": {
    "execution": {
     "iopub.execute_input": "2025-05-01T06:43:28.945702Z",
     "iopub.status.busy": "2025-05-01T06:43:28.945324Z",
     "iopub.status.idle": "2025-05-01T07:01:56.796402Z",
     "shell.execute_reply": "2025-05-01T07:01:56.795573Z"
    },
    "papermill": {
     "duration": 1107.864176,
     "end_time": "2025-05-01T07:01:56.798440",
     "exception": false,
     "start_time": "2025-05-01T06:43:28.934264",
     "status": "completed"
    },
    "tags": []
   },
   "outputs": [
    {
     "name": "stdout",
     "output_type": "stream",
     "text": [
      "Training LGBMRegressor\n",
      "\n",
      "Training until validation scores don't improve for 100 rounds\n",
      "[500]\tvalid_0's rmse: 3.88379\tvalid_0's l2: 15.0838\n",
      "[1000]\tvalid_0's rmse: 3.65662\tvalid_0's l2: 13.3709\n",
      "[1500]\tvalid_0's rmse: 3.6177\tvalid_0's l2: 13.0878\n",
      "[2000]\tvalid_0's rmse: 3.60195\tvalid_0's l2: 12.9741\n",
      "[2500]\tvalid_0's rmse: 3.59361\tvalid_0's l2: 12.914\n",
      "[3000]\tvalid_0's rmse: 3.58981\tvalid_0's l2: 12.8867\n",
      "[3500]\tvalid_0's rmse: 3.58735\tvalid_0's l2: 12.8691\n",
      "Early stopping, best iteration is:\n",
      "[3546]\tvalid_0's rmse: 3.58712\tvalid_0's l2: 12.8675\n",
      "--- Fold 0 - root_mean_squared_log_error: 0.0653 - Time: 188.26 s\n",
      "\n",
      "Training until validation scores don't improve for 100 rounds\n",
      "[500]\tvalid_0's rmse: 3.96722\tvalid_0's l2: 15.7388\n",
      "[1000]\tvalid_0's rmse: 3.71884\tvalid_0's l2: 13.8298\n",
      "[1500]\tvalid_0's rmse: 3.6756\tvalid_0's l2: 13.5101\n",
      "[2000]\tvalid_0's rmse: 3.65979\tvalid_0's l2: 13.3941\n",
      "[2500]\tvalid_0's rmse: 3.65127\tvalid_0's l2: 13.3317\n",
      "[3000]\tvalid_0's rmse: 3.64734\tvalid_0's l2: 13.3031\n",
      "Early stopping, best iteration is:\n",
      "[2922]\tvalid_0's rmse: 3.6472\tvalid_0's l2: 13.3021\n",
      "--- Fold 1 - root_mean_squared_log_error: 0.0663 - Time: 155.53 s\n",
      "\n",
      "Training until validation scores don't improve for 100 rounds\n",
      "[500]\tvalid_0's rmse: 3.91048\tvalid_0's l2: 15.2919\n",
      "[1000]\tvalid_0's rmse: 3.66289\tvalid_0's l2: 13.4168\n",
      "[1500]\tvalid_0's rmse: 3.62167\tvalid_0's l2: 13.1165\n",
      "[2000]\tvalid_0's rmse: 3.6064\tvalid_0's l2: 13.0061\n",
      "[2500]\tvalid_0's rmse: 3.59821\tvalid_0's l2: 12.9471\n",
      "[3000]\tvalid_0's rmse: 3.59482\tvalid_0's l2: 12.9227\n",
      "Early stopping, best iteration is:\n",
      "[2953]\tvalid_0's rmse: 3.59474\tvalid_0's l2: 12.9222\n",
      "--- Fold 2 - root_mean_squared_log_error: 0.0661 - Time: 153.80 s\n",
      "\n",
      "Training until validation scores don't improve for 100 rounds\n",
      "[500]\tvalid_0's rmse: 3.86311\tvalid_0's l2: 14.9236\n",
      "[1000]\tvalid_0's rmse: 3.62224\tvalid_0's l2: 13.1206\n",
      "[1500]\tvalid_0's rmse: 3.58362\tvalid_0's l2: 12.8423\n",
      "[2000]\tvalid_0's rmse: 3.56793\tvalid_0's l2: 12.7301\n",
      "[2500]\tvalid_0's rmse: 3.55797\tvalid_0's l2: 12.6592\n",
      "[3000]\tvalid_0's rmse: 3.55302\tvalid_0's l2: 12.6239\n",
      "[3500]\tvalid_0's rmse: 3.55029\tvalid_0's l2: 12.6045\n",
      "[4000]\tvalid_0's rmse: 3.54761\tvalid_0's l2: 12.5855\n",
      "Early stopping, best iteration is:\n",
      "[4116]\tvalid_0's rmse: 3.54713\tvalid_0's l2: 12.5821\n",
      "--- Fold 3 - root_mean_squared_log_error: 0.0654 - Time: 225.90 s\n",
      "\n",
      "Training until validation scores don't improve for 100 rounds\n",
      "[500]\tvalid_0's rmse: 3.89193\tvalid_0's l2: 15.1471\n",
      "[1000]\tvalid_0's rmse: 3.65774\tvalid_0's l2: 13.379\n",
      "[1500]\tvalid_0's rmse: 3.6225\tvalid_0's l2: 13.1225\n",
      "[2000]\tvalid_0's rmse: 3.61091\tvalid_0's l2: 13.0386\n",
      "[2500]\tvalid_0's rmse: 3.60508\tvalid_0's l2: 12.9966\n",
      "Early stopping, best iteration is:\n",
      "[2792]\tvalid_0's rmse: 3.60231\tvalid_0's l2: 12.9766\n",
      "--- Fold 4 - root_mean_squared_log_error: 0.0667 - Time: 145.14 s\n",
      "\n",
      "\n",
      "------ Overall root_mean_squared_log_error: 0.0660 - Mean root_mean_squared_log_error: 0.0660 ± 0.0005 - Time: 871.16 s\n"
     ]
    }
   ],
   "source": [
    "lgbm_goss_trainer = Trainer(\n",
    "    LGBMRegressor(**lgbm_goss_params),\n",
    "    cv=KFold(n_splits=CFG.n_folds, random_state=CFG.seed, shuffle=True),\n",
    "    metric=CFG.metric,\n",
    "    use_early_stopping=True,\n",
    "    task=\"regression\"\n",
    ")\n",
    "\n",
    "fit_args = {\n",
    "    \"eval_metric\": \"rmse\",\n",
    "    \"callbacks\": [\n",
    "        log_evaluation(period=500), \n",
    "        early_stopping(stopping_rounds=100)\n",
    "    ]\n",
    "}\n",
    "\n",
    "lgbm_goss_trainer.fit(X, y, fit_args)\n",
    "\n",
    "scores[\"LightGBM (goss)\"] = lgbm_goss_trainer.fold_scores\n",
    "oof_preds[\"LightGBM (goss)\"] = lgbm_goss_trainer.oof_preds\n",
    "test_preds[\"LightGBM (goss)\"] = lgbm_goss_trainer.predict(X_test)"
   ]
  },
  {
   "cell_type": "markdown",
   "id": "11786126",
   "metadata": {
    "papermill": {
     "duration": 0.009948,
     "end_time": "2025-05-01T07:01:56.822653",
     "exception": false,
     "start_time": "2025-05-01T07:01:56.812705",
     "status": "completed"
    },
    "tags": []
   },
   "source": [
    "## XGBoost"
   ]
  },
  {
   "cell_type": "code",
   "execution_count": 10,
   "id": "05e1afe0",
   "metadata": {
    "execution": {
     "iopub.execute_input": "2025-05-01T07:01:56.844810Z",
     "iopub.status.busy": "2025-05-01T07:01:56.844444Z",
     "iopub.status.idle": "2025-05-01T07:20:13.775138Z",
     "shell.execute_reply": "2025-05-01T07:20:13.774389Z"
    },
    "papermill": {
     "duration": 1096.94413,
     "end_time": "2025-05-01T07:20:13.776999",
     "exception": false,
     "start_time": "2025-05-01T07:01:56.832869",
     "status": "completed"
    },
    "tags": []
   },
   "outputs": [
    {
     "name": "stdout",
     "output_type": "stream",
     "text": [
      "Training XGBRegressor\n",
      "\n",
      "[0]\tvalidation_0-rmse:60.21653\n",
      "[500]\tvalidation_0-rmse:4.01644\n",
      "[1000]\tvalidation_0-rmse:3.71865\n",
      "[1500]\tvalidation_0-rmse:3.65990\n",
      "[2000]\tvalidation_0-rmse:3.64129\n",
      "[2500]\tvalidation_0-rmse:3.63325\n",
      "[3000]\tvalidation_0-rmse:3.62950\n",
      "[3500]\tvalidation_0-rmse:3.62516\n",
      "[4000]\tvalidation_0-rmse:3.62282\n",
      "[4500]\tvalidation_0-rmse:3.62130\n",
      "[4534]\tvalidation_0-rmse:3.62128\n",
      "--- Fold 0 - root_mean_squared_log_error: 0.0645 - Time: 190.91 s\n",
      "\n",
      "[0]\tvalidation_0-rmse:60.39554\n",
      "[500]\tvalidation_0-rmse:4.04390\n",
      "[1000]\tvalidation_0-rmse:3.78810\n",
      "[1500]\tvalidation_0-rmse:3.73211\n",
      "[2000]\tvalidation_0-rmse:3.71423\n",
      "[2500]\tvalidation_0-rmse:3.70553\n",
      "[3000]\tvalidation_0-rmse:3.70084\n",
      "[3500]\tvalidation_0-rmse:3.69861\n",
      "[4000]\tvalidation_0-rmse:3.69664\n",
      "[4500]\tvalidation_0-rmse:3.69549\n",
      "[5000]\tvalidation_0-rmse:3.69510\n",
      "[5500]\tvalidation_0-rmse:3.69449\n",
      "[5912]\tvalidation_0-rmse:3.69439\n",
      "--- Fold 1 - root_mean_squared_log_error: 0.0661 - Time: 232.23 s\n",
      "\n",
      "[0]\tvalidation_0-rmse:60.48680\n",
      "[500]\tvalidation_0-rmse:4.11820\n",
      "[1000]\tvalidation_0-rmse:3.77334\n",
      "[1500]\tvalidation_0-rmse:3.69621\n",
      "[2000]\tvalidation_0-rmse:3.67278\n",
      "[2500]\tvalidation_0-rmse:3.66137\n",
      "[3000]\tvalidation_0-rmse:3.65452\n",
      "[3500]\tvalidation_0-rmse:3.65019\n",
      "[4000]\tvalidation_0-rmse:3.64810\n",
      "[4410]\tvalidation_0-rmse:3.64746\n",
      "--- Fold 2 - root_mean_squared_log_error: 0.0663 - Time: 186.82 s\n",
      "\n",
      "[0]\tvalidation_0-rmse:60.42102\n",
      "[500]\tvalidation_0-rmse:4.02891\n",
      "[1000]\tvalidation_0-rmse:3.71576\n",
      "[1500]\tvalidation_0-rmse:3.64820\n",
      "[2000]\tvalidation_0-rmse:3.62725\n",
      "[2500]\tvalidation_0-rmse:3.62043\n",
      "[3000]\tvalidation_0-rmse:3.61464\n",
      "[3500]\tvalidation_0-rmse:3.61066\n",
      "[4000]\tvalidation_0-rmse:3.60893\n",
      "[4500]\tvalidation_0-rmse:3.60835\n",
      "[5000]\tvalidation_0-rmse:3.60776\n",
      "[5500]\tvalidation_0-rmse:3.60708\n",
      "[6000]\tvalidation_0-rmse:3.60615\n",
      "[6411]\tvalidation_0-rmse:3.60561\n",
      "--- Fold 3 - root_mean_squared_log_error: 0.0665 - Time: 241.20 s\n",
      "\n",
      "[0]\tvalidation_0-rmse:60.26765\n",
      "[500]\tvalidation_0-rmse:4.09357\n",
      "[1000]\tvalidation_0-rmse:3.76176\n",
      "[1500]\tvalidation_0-rmse:3.69337\n",
      "[2000]\tvalidation_0-rmse:3.67093\n",
      "[2500]\tvalidation_0-rmse:3.65796\n",
      "[3000]\tvalidation_0-rmse:3.65313\n",
      "[3500]\tvalidation_0-rmse:3.64929\n",
      "[4000]\tvalidation_0-rmse:3.64662\n",
      "[4500]\tvalidation_0-rmse:3.64555\n",
      "[4874]\tvalidation_0-rmse:3.64511\n",
      "--- Fold 4 - root_mean_squared_log_error: 0.0666 - Time: 196.10 s\n",
      "\n",
      "\n",
      "------ Overall root_mean_squared_log_error: 0.0660 - Mean root_mean_squared_log_error: 0.0660 ± 0.0008 - Time: 1049.41 s\n"
     ]
    }
   ],
   "source": [
    "xgb_trainer = Trainer(\n",
    "    XGBRegressor(**xgb_params),\n",
    "    cv=KFold(n_splits=CFG.n_folds, random_state=CFG.seed, shuffle=True),\n",
    "    metric=CFG.metric,\n",
    "    use_early_stopping=True,\n",
    "    task=\"regression\"\n",
    ")\n",
    "\n",
    "fit_args = {\n",
    "    \"verbose\": 500\n",
    "}\n",
    "\n",
    "xgb_trainer.fit(X, y, fit_args)\n",
    "\n",
    "scores[\"XGBoost\"] = xgb_trainer.fold_scores\n",
    "oof_preds[\"XGBoost\"] = xgb_trainer.oof_preds\n",
    "test_preds[\"XGBoost\"] = xgb_trainer.predict(X_test)"
   ]
  },
  {
   "cell_type": "markdown",
   "id": "1c7c2343",
   "metadata": {
    "papermill": {
     "duration": 0.014822,
     "end_time": "2025-05-01T07:20:13.809697",
     "exception": false,
     "start_time": "2025-05-01T07:20:13.794875",
     "status": "completed"
    },
    "tags": []
   },
   "source": [
    "## CatBoost"
   ]
  },
  {
   "cell_type": "code",
   "execution_count": 11,
   "id": "15e7cc55",
   "metadata": {
    "execution": {
     "iopub.execute_input": "2025-05-01T07:20:13.839063Z",
     "iopub.status.busy": "2025-05-01T07:20:13.838724Z",
     "iopub.status.idle": "2025-05-01T07:26:19.747733Z",
     "shell.execute_reply": "2025-05-01T07:26:19.746606Z"
    },
    "papermill": {
     "duration": 365.925989,
     "end_time": "2025-05-01T07:26:19.749851",
     "exception": false,
     "start_time": "2025-05-01T07:20:13.823862",
     "status": "completed"
    },
    "tags": []
   },
   "outputs": [
    {
     "name": "stdout",
     "output_type": "stream",
     "text": [
      "Training CatBoostRegressor\n",
      "\n",
      "0:\tlearn: 59.5375410\ttest: 59.3684542\tbest: 59.3684542 (0)\ttotal: 135ms\tremaining: 11m 13s\n",
      "500:\tlearn: 3.3568303\ttest: 3.5500817\tbest: 3.5500817 (500)\ttotal: 29.9s\tremaining: 4m 28s\n",
      "1000:\tlearn: 3.2516987\ttest: 3.5393552\tbest: 3.5392873 (990)\ttotal: 59s\tremaining: 3m 55s\n",
      "Stopped by overfitting detector  (100 iterations wait)\n",
      "\n",
      "bestTest = 3.539149246\n",
      "bestIteration = 1009\n",
      "\n",
      "Shrink model to first 1010 iterations.\n",
      "--- Fold 0 - root_mean_squared_log_error: 0.0602 - Time: 66.98 s\n",
      "\n",
      "0:\tlearn: 59.4990981\ttest: 59.5447343\tbest: 59.5447343 (0)\ttotal: 88.7ms\tremaining: 7m 23s\n",
      "500:\tlearn: 3.3533082\ttest: 3.5963772\tbest: 3.5963219 (497)\ttotal: 29.9s\tremaining: 4m 28s\n",
      "1000:\tlearn: 3.2469856\ttest: 3.5844221\tbest: 3.5843558 (973)\ttotal: 59.3s\tremaining: 3m 56s\n",
      "1500:\tlearn: 3.1732106\ttest: 3.5829661\tbest: 3.5821742 (1414)\ttotal: 1m 28s\tremaining: 3m 25s\n",
      "Stopped by overfitting detector  (100 iterations wait)\n",
      "\n",
      "bestTest = 3.582174207\n",
      "bestIteration = 1414\n",
      "\n",
      "Shrink model to first 1415 iterations.\n",
      "--- Fold 1 - root_mean_squared_log_error: 0.0604 - Time: 90.24 s\n",
      "\n",
      "0:\tlearn: 59.4777411\ttest: 59.6300315\tbest: 59.6300315 (0)\ttotal: 99ms\tremaining: 8m 15s\n",
      "500:\tlearn: 3.3529843\ttest: 3.5398105\tbest: 3.5398105 (500)\ttotal: 29.6s\tremaining: 4m 25s\n",
      "1000:\tlearn: 3.2462519\ttest: 3.5310235\tbest: 3.5308001 (988)\ttotal: 59.3s\tremaining: 3m 56s\n",
      "Stopped by overfitting detector  (100 iterations wait)\n",
      "\n",
      "bestTest = 3.530316926\n",
      "bestIteration = 1070\n",
      "\n",
      "Shrink model to first 1071 iterations.\n",
      "--- Fold 2 - root_mean_squared_log_error: 0.0600 - Time: 70.87 s\n",
      "\n",
      "0:\tlearn: 59.4894117\ttest: 59.5696649\tbest: 59.5696649 (0)\ttotal: 81ms\tremaining: 6m 44s\n",
      "500:\tlearn: 3.3618216\ttest: 3.5134430\tbest: 3.5134430 (500)\ttotal: 30.1s\tremaining: 4m 29s\n",
      "1000:\tlearn: 3.2564377\ttest: 3.5045437\tbest: 3.5043773 (954)\ttotal: 59.6s\tremaining: 3m 58s\n",
      "Stopped by overfitting detector  (100 iterations wait)\n",
      "\n",
      "bestTest = 3.503796902\n",
      "bestIteration = 1067\n",
      "\n",
      "Shrink model to first 1068 iterations.\n",
      "--- Fold 3 - root_mean_squared_log_error: 0.0613 - Time: 70.35 s\n",
      "\n",
      "0:\tlearn: 59.5288652\ttest: 59.4230193\tbest: 59.4230193 (0)\ttotal: 83.4ms\tremaining: 6m 56s\n",
      "500:\tlearn: 3.3538420\ttest: 3.5719761\tbest: 3.5719761 (500)\ttotal: 29.9s\tremaining: 4m 28s\n",
      "1000:\tlearn: 3.2476316\ttest: 3.5575842\tbest: 3.5566862 (936)\ttotal: 59.5s\tremaining: 3m 57s\n",
      "Stopped by overfitting detector  (100 iterations wait)\n",
      "\n",
      "bestTest = 3.556686169\n",
      "bestIteration = 936\n",
      "\n",
      "Shrink model to first 937 iterations.\n",
      "--- Fold 4 - root_mean_squared_log_error: 0.0603 - Time: 62.56 s\n",
      "\n",
      "\n",
      "------ Overall root_mean_squared_log_error: 0.0604 - Mean root_mean_squared_log_error: 0.0604 ± 0.0004 - Time: 363.14 s\n"
     ]
    }
   ],
   "source": [
    "cb_trainer = Trainer(\n",
    "    CatBoostRegressor(**cb_params),\n",
    "    cv=KFold(n_splits=CFG.n_folds, random_state=CFG.seed, shuffle=True),\n",
    "    metric=CFG.metric,\n",
    "    use_early_stopping=True,\n",
    "    task=\"regression\"\n",
    ")\n",
    "\n",
    "fit_args = {\n",
    "    \"verbose\": 500,\n",
    "    \"early_stopping_rounds\": 100,\n",
    "    \"use_best_model\": True\n",
    "}\n",
    "\n",
    "cb_trainer.fit(X, y, fit_args)\n",
    "\n",
    "scores[\"CatBoost\"] = cb_trainer.fold_scores\n",
    "oof_preds[\"CatBoost\"] = cb_trainer.oof_preds\n",
    "test_preds[\"CatBoost\"] = cb_trainer.predict(X_test)"
   ]
  },
  {
   "cell_type": "markdown",
   "id": "e3cd17d9",
   "metadata": {
    "papermill": {
     "duration": 0.014777,
     "end_time": "2025-05-01T07:26:19.780764",
     "exception": false,
     "start_time": "2025-05-01T07:26:19.765987",
     "status": "completed"
    },
    "tags": []
   },
   "source": [
    "## Yggdrasil"
   ]
  },
  {
   "cell_type": "code",
   "execution_count": 12,
   "id": "c657eaed",
   "metadata": {
    "execution": {
     "iopub.execute_input": "2025-05-01T07:26:19.811228Z",
     "iopub.status.busy": "2025-05-01T07:26:19.810844Z",
     "iopub.status.idle": "2025-05-01T07:26:19.819025Z",
     "shell.execute_reply": "2025-05-01T07:26:19.818016Z"
    },
    "papermill": {
     "duration": 0.025386,
     "end_time": "2025-05-01T07:26:19.820767",
     "exception": false,
     "start_time": "2025-05-01T07:26:19.795381",
     "status": "completed"
    },
    "tags": []
   },
   "outputs": [],
   "source": [
    "def YDFRegressor(learner_class):\n",
    "\n",
    "    class YDFXRegressor(BaseEstimator, RegressorMixin):\n",
    "\n",
    "        def __init__(self, params={}):\n",
    "            self.params = params\n",
    "\n",
    "        def fit(self, X, y):\n",
    "            assert isinstance(X, pd.DataFrame)\n",
    "            assert isinstance(y, pd.Series)\n",
    "            target = y.name\n",
    "            params = self.params.copy()\n",
    "            params['label'] = target\n",
    "            params['task'] = ydf.Task.REGRESSION\n",
    "            X = pd.concat([X, y], axis=1)\n",
    "            with contextlib.redirect_stderr(io.StringIO()), contextlib.redirect_stdout(io.StringIO()):\n",
    "                self.model = learner_class(**params).train(X)\n",
    "            return self\n",
    "\n",
    "        def predict(self, X):\n",
    "            assert isinstance(X, pd.DataFrame)\n",
    "            with contextlib.redirect_stderr(io.StringIO()), contextlib.redirect_stdout(io.StringIO()):\n",
    "                return self.model.predict(X)\n",
    "\n",
    "    return YDFXRegressor"
   ]
  },
  {
   "cell_type": "code",
   "execution_count": 13,
   "id": "98ccdff8",
   "metadata": {
    "execution": {
     "iopub.execute_input": "2025-05-01T07:26:19.852732Z",
     "iopub.status.busy": "2025-05-01T07:26:19.852370Z",
     "iopub.status.idle": "2025-05-01T07:37:24.340734Z",
     "shell.execute_reply": "2025-05-01T07:37:24.339578Z"
    },
    "papermill": {
     "duration": 664.506984,
     "end_time": "2025-05-01T07:37:24.342739",
     "exception": false,
     "start_time": "2025-05-01T07:26:19.835755",
     "status": "completed"
    },
    "tags": []
   },
   "outputs": [
    {
     "name": "stdout",
     "output_type": "stream",
     "text": [
      "Training YDFXRegressor\n",
      "\n",
      "--- Fold 0 - root_mean_squared_log_error: 0.0621 - Time: 110.15 s\n",
      "--- Fold 1 - root_mean_squared_log_error: 0.0619 - Time: 158.54 s\n",
      "--- Fold 2 - root_mean_squared_log_error: 0.0621 - Time: 84.17 s\n",
      "--- Fold 3 - root_mean_squared_log_error: 0.0637 - Time: 198.88 s\n",
      "--- Fold 4 - root_mean_squared_log_error: 0.0626 - Time: 103.06 s\n",
      "\n",
      "------ Overall root_mean_squared_log_error: 0.0625 - Mean root_mean_squared_log_error: 0.0625 ± 0.0006 - Time: 656.81 s\n"
     ]
    }
   ],
   "source": [
    "ydf_trainer = Trainer(\n",
    "    YDFRegressor(GradientBoostedTreesLearner)(ydf_params),\n",
    "    cv=KFold(n_splits=CFG.n_folds, random_state=CFG.seed, shuffle=True),\n",
    "    metric=CFG.metric,\n",
    "    task=\"regression\"\n",
    ")\n",
    "\n",
    "ydf_trainer.fit(X, y)\n",
    "\n",
    "scores[\"Yggdrasil\"] = ydf_trainer.fold_scores\n",
    "oof_preds[\"Yggdrasil\"] = ydf_trainer.oof_preds\n",
    "test_preds[\"Yggdrasil\"] = ydf_trainer.predict(X_test)"
   ]
  },
  {
   "cell_type": "markdown",
   "id": "ce5176bf",
   "metadata": {
    "papermill": {
     "duration": 0.014268,
     "end_time": "2025-05-01T07:37:24.372566",
     "exception": false,
     "start_time": "2025-05-01T07:37:24.358298",
     "status": "completed"
    },
    "tags": []
   },
   "source": [
    "## Neural networks"
   ]
  },
  {
   "cell_type": "code",
   "execution_count": 14,
   "id": "4268df80",
   "metadata": {
    "execution": {
     "iopub.execute_input": "2025-05-01T07:37:24.405906Z",
     "iopub.status.busy": "2025-05-01T07:37:24.404741Z",
     "iopub.status.idle": "2025-05-01T07:37:25.192014Z",
     "shell.execute_reply": "2025-05-01T07:37:25.191063Z"
    },
    "papermill": {
     "duration": 0.805765,
     "end_time": "2025-05-01T07:37:25.194042",
     "exception": false,
     "start_time": "2025-05-01T07:37:24.388277",
     "status": "completed"
    },
    "tags": []
   },
   "outputs": [],
   "source": [
    "train = pd.read_csv(CFG.train_path, index_col=\"id\")\n",
    "test = pd.read_csv(CFG.test_path, index_col=\"id\")\n",
    "\n",
    "train[\"Sex\"] = train[\"Sex\"].map({\"male\": 0, \"female\": 1})\n",
    "test[\"Sex\"] = test[\"Sex\"].map({\"male\": 0, \"female\": 1})\n",
    "\n",
    "X = train.drop(CFG.target, axis=1)\n",
    "y = train[CFG.target]\n",
    "X_test = test"
   ]
  },
  {
   "cell_type": "code",
   "execution_count": 15,
   "id": "f75b8e18",
   "metadata": {
    "execution": {
     "iopub.execute_input": "2025-05-01T07:37:25.227607Z",
     "iopub.status.busy": "2025-05-01T07:37:25.226694Z",
     "iopub.status.idle": "2025-05-01T07:37:25.394661Z",
     "shell.execute_reply": "2025-05-01T07:37:25.393739Z"
    },
    "papermill": {
     "duration": 0.186564,
     "end_time": "2025-05-01T07:37:25.396838",
     "exception": false,
     "start_time": "2025-05-01T07:37:25.210274",
     "status": "completed"
    },
    "tags": []
   },
   "outputs": [],
   "source": [
    "scaler = StandardScaler().set_output(transform=\"pandas\")\n",
    "\n",
    "X = scaler.fit_transform(X)\n",
    "X_test = scaler.transform(X_test)"
   ]
  },
  {
   "cell_type": "code",
   "execution_count": 16,
   "id": "86a8d150",
   "metadata": {
    "execution": {
     "iopub.execute_input": "2025-05-01T07:37:25.434125Z",
     "iopub.status.busy": "2025-05-01T07:37:25.433065Z",
     "iopub.status.idle": "2025-05-01T07:37:25.439708Z",
     "shell.execute_reply": "2025-05-01T07:37:25.438785Z"
    },
    "papermill": {
     "duration": 0.025299,
     "end_time": "2025-05-01T07:37:25.441321",
     "exception": false,
     "start_time": "2025-05-01T07:37:25.416022",
     "status": "completed"
    },
    "tags": []
   },
   "outputs": [],
   "source": [
    "def get_model(meta):\n",
    "    model = keras.models.Sequential()\n",
    "    model.add(keras.layers.Input(meta[\"X_shape_\"][1:]))\n",
    "    model.add(keras.layers.Dense(256, kernel_initializer='lecun_normal', activation='selu'))\n",
    "    model.add(keras.layers.Dense(128, kernel_initializer='lecun_normal', activation='selu'))\n",
    "    model.add(keras.layers.Dense(64, kernel_initializer='lecun_normal', activation='selu'))\n",
    "    model.add(keras.layers.Dense(1))\n",
    "    return model"
   ]
  },
  {
   "cell_type": "code",
   "execution_count": 17,
   "id": "f862133f",
   "metadata": {
    "execution": {
     "iopub.execute_input": "2025-05-01T07:37:25.473967Z",
     "iopub.status.busy": "2025-05-01T07:37:25.473607Z",
     "iopub.status.idle": "2025-05-01T07:37:25.551640Z",
     "shell.execute_reply": "2025-05-01T07:37:25.550391Z"
    },
    "papermill": {
     "duration": 0.096491,
     "end_time": "2025-05-01T07:37:25.553567",
     "exception": false,
     "start_time": "2025-05-01T07:37:25.457076",
     "status": "completed"
    },
    "tags": []
   },
   "outputs": [
    {
     "name": "stderr",
     "output_type": "stream",
     "text": [
      "2025-05-01 07:37:25.481247: E external/local_xla/xla/stream_executor/cuda/cuda_driver.cc:152] failed call to cuInit: INTERNAL: CUDA error: Failed call to cuInit: UNKNOWN ERROR (303)\n"
     ]
    }
   ],
   "source": [
    "def scheduler(epoch, lr):    \n",
    "    if epoch % 3 == 0 and epoch:\n",
    "        return lr / 2\n",
    "    return lr\n",
    "\n",
    "nn_model = KerasRegressor(\n",
    "    get_model,\n",
    "    loss=\"mean_squared_error\",\n",
    "    random_state=CFG.seed,\n",
    "    metrics=[keras.metrics.RootMeanSquaredError(name='rmse')],\n",
    "    optimizer=keras.optimizers.AdamW(learning_rate=0.01),\n",
    "    validation_batch_size=65536,\n",
    "    validation_split=0.1,\n",
    "    batch_size=1024,\n",
    "    epochs=50, \n",
    "    verbose=0,\n",
    "    callbacks=[\n",
    "        keras.callbacks.EarlyStopping(monitor='val_rmse', patience=7, restore_best_weights=True),\n",
    "        keras.callbacks.LearningRateScheduler(scheduler)\n",
    "    ]\n",
    ")"
   ]
  },
  {
   "cell_type": "code",
   "execution_count": 18,
   "id": "79c4377c",
   "metadata": {
    "execution": {
     "iopub.execute_input": "2025-05-01T07:37:25.588811Z",
     "iopub.status.busy": "2025-05-01T07:37:25.588487Z",
     "iopub.status.idle": "2025-05-01T07:37:25.593161Z",
     "shell.execute_reply": "2025-05-01T07:37:25.592244Z"
    },
    "papermill": {
     "duration": 0.024105,
     "end_time": "2025-05-01T07:37:25.594736",
     "exception": false,
     "start_time": "2025-05-01T07:37:25.570631",
     "status": "completed"
    },
    "tags": []
   },
   "outputs": [],
   "source": [
    "nn_bag = BaggingRegressor(\n",
    "    nn_model,\n",
    "    n_estimators=5,\n",
    "    random_state=CFG.seed,\n",
    ")"
   ]
  },
  {
   "cell_type": "code",
   "execution_count": 19,
   "id": "1ff36324",
   "metadata": {
    "execution": {
     "iopub.execute_input": "2025-05-01T07:37:25.629014Z",
     "iopub.status.busy": "2025-05-01T07:37:25.628151Z",
     "iopub.status.idle": "2025-05-01T08:30:24.010407Z",
     "shell.execute_reply": "2025-05-01T08:30:24.009411Z"
    },
    "papermill": {
     "duration": 3178.401766,
     "end_time": "2025-05-01T08:30:24.012743",
     "exception": false,
     "start_time": "2025-05-01T07:37:25.610977",
     "status": "completed"
    },
    "tags": []
   },
   "outputs": [
    {
     "name": "stdout",
     "output_type": "stream",
     "text": [
      "Training BaggingRegressor\n",
      "\n"
     ]
    },
    {
     "name": "stderr",
     "output_type": "stream",
     "text": [
      "2025-05-01 07:37:26.175997: E tensorflow/core/framework/node_def_util.cc:676] NodeDef mentions attribute use_unbounded_threadpool which is not in the op definition: Op<name=MapDataset; signature=input_dataset:variant, other_arguments: -> handle:variant; attr=f:func; attr=Targuments:list(type),min=0; attr=output_types:list(type),min=1; attr=output_shapes:list(shape),min=1; attr=use_inter_op_parallelism:bool,default=true; attr=preserve_cardinality:bool,default=false; attr=force_synchronous:bool,default=false; attr=metadata:string,default=\"\"> This may be expected if your graph generating binary is newer  than this binary. Unknown attributes will be ignored. NodeDef: {{node ParallelMapDatasetV2/_16}}\n",
      "2025-05-01 07:37:31.293012: E tensorflow/core/framework/node_def_util.cc:676] NodeDef mentions attribute use_unbounded_threadpool which is not in the op definition: Op<name=MapDataset; signature=input_dataset:variant, other_arguments: -> handle:variant; attr=f:func; attr=Targuments:list(type),min=0; attr=output_types:list(type),min=1; attr=output_shapes:list(shape),min=1; attr=use_inter_op_parallelism:bool,default=true; attr=preserve_cardinality:bool,default=false; attr=force_synchronous:bool,default=false; attr=metadata:string,default=\"\"> This may be expected if your graph generating binary is newer  than this binary. Unknown attributes will be ignored. NodeDef: {{node ParallelMapDatasetV2/_16}}\n",
      "2025-05-01 07:40:01.364788: E tensorflow/core/framework/node_def_util.cc:676] NodeDef mentions attribute use_unbounded_threadpool which is not in the op definition: Op<name=MapDataset; signature=input_dataset:variant, other_arguments: -> handle:variant; attr=f:func; attr=Targuments:list(type),min=0; attr=output_types:list(type),min=1; attr=output_shapes:list(shape),min=1; attr=use_inter_op_parallelism:bool,default=true; attr=preserve_cardinality:bool,default=false; attr=force_synchronous:bool,default=false; attr=metadata:string,default=\"\"> This may be expected if your graph generating binary is newer  than this binary. Unknown attributes will be ignored. NodeDef: {{node ParallelMapDatasetV2/_16}}\n",
      "2025-05-01 07:40:06.441133: E tensorflow/core/framework/node_def_util.cc:676] NodeDef mentions attribute use_unbounded_threadpool which is not in the op definition: Op<name=MapDataset; signature=input_dataset:variant, other_arguments: -> handle:variant; attr=f:func; attr=Targuments:list(type),min=0; attr=output_types:list(type),min=1; attr=output_shapes:list(shape),min=1; attr=use_inter_op_parallelism:bool,default=true; attr=preserve_cardinality:bool,default=false; attr=force_synchronous:bool,default=false; attr=metadata:string,default=\"\"> This may be expected if your graph generating binary is newer  than this binary. Unknown attributes will be ignored. NodeDef: {{node ParallelMapDatasetV2/_16}}\n",
      "2025-05-01 07:42:38.785489: E tensorflow/core/framework/node_def_util.cc:676] NodeDef mentions attribute use_unbounded_threadpool which is not in the op definition: Op<name=MapDataset; signature=input_dataset:variant, other_arguments: -> handle:variant; attr=f:func; attr=Targuments:list(type),min=0; attr=output_types:list(type),min=1; attr=output_shapes:list(shape),min=1; attr=use_inter_op_parallelism:bool,default=true; attr=preserve_cardinality:bool,default=false; attr=force_synchronous:bool,default=false; attr=metadata:string,default=\"\"> This may be expected if your graph generating binary is newer  than this binary. Unknown attributes will be ignored. NodeDef: {{node ParallelMapDatasetV2/_16}}\n",
      "2025-05-01 07:42:44.252859: E tensorflow/core/framework/node_def_util.cc:676] NodeDef mentions attribute use_unbounded_threadpool which is not in the op definition: Op<name=MapDataset; signature=input_dataset:variant, other_arguments: -> handle:variant; attr=f:func; attr=Targuments:list(type),min=0; attr=output_types:list(type),min=1; attr=output_shapes:list(shape),min=1; attr=use_inter_op_parallelism:bool,default=true; attr=preserve_cardinality:bool,default=false; attr=force_synchronous:bool,default=false; attr=metadata:string,default=\"\"> This may be expected if your graph generating binary is newer  than this binary. Unknown attributes will be ignored. NodeDef: {{node ParallelMapDatasetV2/_16}}\n",
      "2025-05-01 07:43:18.864762: E tensorflow/core/framework/node_def_util.cc:676] NodeDef mentions attribute use_unbounded_threadpool which is not in the op definition: Op<name=MapDataset; signature=input_dataset:variant, other_arguments: -> handle:variant; attr=f:func; attr=Targuments:list(type),min=0; attr=output_types:list(type),min=1; attr=output_shapes:list(shape),min=1; attr=use_inter_op_parallelism:bool,default=true; attr=preserve_cardinality:bool,default=false; attr=force_synchronous:bool,default=false; attr=metadata:string,default=\"\"> This may be expected if your graph generating binary is newer  than this binary. Unknown attributes will be ignored. NodeDef: {{node ParallelMapDatasetV2/_16}}\n",
      "2025-05-01 07:43:24.059958: E tensorflow/core/framework/node_def_util.cc:676] NodeDef mentions attribute use_unbounded_threadpool which is not in the op definition: Op<name=MapDataset; signature=input_dataset:variant, other_arguments: -> handle:variant; attr=f:func; attr=Targuments:list(type),min=0; attr=output_types:list(type),min=1; attr=output_shapes:list(shape),min=1; attr=use_inter_op_parallelism:bool,default=true; attr=preserve_cardinality:bool,default=false; attr=force_synchronous:bool,default=false; attr=metadata:string,default=\"\"> This may be expected if your graph generating binary is newer  than this binary. Unknown attributes will be ignored. NodeDef: {{node ParallelMapDatasetV2/_16}}\n",
      "2025-05-01 07:45:38.631917: E tensorflow/core/framework/node_def_util.cc:676] NodeDef mentions attribute use_unbounded_threadpool which is not in the op definition: Op<name=MapDataset; signature=input_dataset:variant, other_arguments: -> handle:variant; attr=f:func; attr=Targuments:list(type),min=0; attr=output_types:list(type),min=1; attr=output_shapes:list(shape),min=1; attr=use_inter_op_parallelism:bool,default=true; attr=preserve_cardinality:bool,default=false; attr=force_synchronous:bool,default=false; attr=metadata:string,default=\"\"> This may be expected if your graph generating binary is newer  than this binary. Unknown attributes will be ignored. NodeDef: {{node ParallelMapDatasetV2/_16}}\n",
      "2025-05-01 07:45:43.647247: E tensorflow/core/framework/node_def_util.cc:676] NodeDef mentions attribute use_unbounded_threadpool which is not in the op definition: Op<name=MapDataset; signature=input_dataset:variant, other_arguments: -> handle:variant; attr=f:func; attr=Targuments:list(type),min=0; attr=output_types:list(type),min=1; attr=output_shapes:list(shape),min=1; attr=use_inter_op_parallelism:bool,default=true; attr=preserve_cardinality:bool,default=false; attr=force_synchronous:bool,default=false; attr=metadata:string,default=\"\"> This may be expected if your graph generating binary is newer  than this binary. Unknown attributes will be ignored. NodeDef: {{node ParallelMapDatasetV2/_16}}\n",
      "2025-05-01 07:47:36.390486: E tensorflow/core/framework/node_def_util.cc:676] NodeDef mentions attribute use_unbounded_threadpool which is not in the op definition: Op<name=MapDataset; signature=input_dataset:variant, other_arguments: -> handle:variant; attr=f:func; attr=Targuments:list(type),min=0; attr=output_types:list(type),min=1; attr=output_shapes:list(shape),min=1; attr=use_inter_op_parallelism:bool,default=true; attr=preserve_cardinality:bool,default=false; attr=force_synchronous:bool,default=false; attr=metadata:string,default=\"\"> This may be expected if your graph generating binary is newer  than this binary. Unknown attributes will be ignored. NodeDef: {{node ParallelMapDatasetV2/_14}}\n"
     ]
    },
    {
     "name": "stdout",
     "output_type": "stream",
     "text": [
      "--- Fold 0 - root_mean_squared_log_error: 0.0616 - Time: 615.48 s\n"
     ]
    },
    {
     "name": "stderr",
     "output_type": "stream",
     "text": [
      "2025-05-01 07:47:42.260112: E tensorflow/core/framework/node_def_util.cc:676] NodeDef mentions attribute use_unbounded_threadpool which is not in the op definition: Op<name=MapDataset; signature=input_dataset:variant, other_arguments: -> handle:variant; attr=f:func; attr=Targuments:list(type),min=0; attr=output_types:list(type),min=1; attr=output_shapes:list(shape),min=1; attr=use_inter_op_parallelism:bool,default=true; attr=preserve_cardinality:bool,default=false; attr=force_synchronous:bool,default=false; attr=metadata:string,default=\"\"> This may be expected if your graph generating binary is newer  than this binary. Unknown attributes will be ignored. NodeDef: {{node ParallelMapDatasetV2/_16}}\n",
      "2025-05-01 07:47:47.304495: E tensorflow/core/framework/node_def_util.cc:676] NodeDef mentions attribute use_unbounded_threadpool which is not in the op definition: Op<name=MapDataset; signature=input_dataset:variant, other_arguments: -> handle:variant; attr=f:func; attr=Targuments:list(type),min=0; attr=output_types:list(type),min=1; attr=output_shapes:list(shape),min=1; attr=use_inter_op_parallelism:bool,default=true; attr=preserve_cardinality:bool,default=false; attr=force_synchronous:bool,default=false; attr=metadata:string,default=\"\"> This may be expected if your graph generating binary is newer  than this binary. Unknown attributes will be ignored. NodeDef: {{node ParallelMapDatasetV2/_16}}\n",
      "2025-05-01 07:49:04.725611: E tensorflow/core/framework/node_def_util.cc:676] NodeDef mentions attribute use_unbounded_threadpool which is not in the op definition: Op<name=MapDataset; signature=input_dataset:variant, other_arguments: -> handle:variant; attr=f:func; attr=Targuments:list(type),min=0; attr=output_types:list(type),min=1; attr=output_shapes:list(shape),min=1; attr=use_inter_op_parallelism:bool,default=true; attr=preserve_cardinality:bool,default=false; attr=force_synchronous:bool,default=false; attr=metadata:string,default=\"\"> This may be expected if your graph generating binary is newer  than this binary. Unknown attributes will be ignored. NodeDef: {{node ParallelMapDatasetV2/_16}}\n",
      "2025-05-01 07:49:09.850282: E tensorflow/core/framework/node_def_util.cc:676] NodeDef mentions attribute use_unbounded_threadpool which is not in the op definition: Op<name=MapDataset; signature=input_dataset:variant, other_arguments: -> handle:variant; attr=f:func; attr=Targuments:list(type),min=0; attr=output_types:list(type),min=1; attr=output_shapes:list(shape),min=1; attr=use_inter_op_parallelism:bool,default=true; attr=preserve_cardinality:bool,default=false; attr=force_synchronous:bool,default=false; attr=metadata:string,default=\"\"> This may be expected if your graph generating binary is newer  than this binary. Unknown attributes will be ignored. NodeDef: {{node ParallelMapDatasetV2/_16}}\n",
      "2025-05-01 07:51:43.747950: E tensorflow/core/framework/node_def_util.cc:676] NodeDef mentions attribute use_unbounded_threadpool which is not in the op definition: Op<name=MapDataset; signature=input_dataset:variant, other_arguments: -> handle:variant; attr=f:func; attr=Targuments:list(type),min=0; attr=output_types:list(type),min=1; attr=output_shapes:list(shape),min=1; attr=use_inter_op_parallelism:bool,default=true; attr=preserve_cardinality:bool,default=false; attr=force_synchronous:bool,default=false; attr=metadata:string,default=\"\"> This may be expected if your graph generating binary is newer  than this binary. Unknown attributes will be ignored. NodeDef: {{node ParallelMapDatasetV2/_16}}\n",
      "2025-05-01 07:51:48.790181: E tensorflow/core/framework/node_def_util.cc:676] NodeDef mentions attribute use_unbounded_threadpool which is not in the op definition: Op<name=MapDataset; signature=input_dataset:variant, other_arguments: -> handle:variant; attr=f:func; attr=Targuments:list(type),min=0; attr=output_types:list(type),min=1; attr=output_shapes:list(shape),min=1; attr=use_inter_op_parallelism:bool,default=true; attr=preserve_cardinality:bool,default=false; attr=force_synchronous:bool,default=false; attr=metadata:string,default=\"\"> This may be expected if your graph generating binary is newer  than this binary. Unknown attributes will be ignored. NodeDef: {{node ParallelMapDatasetV2/_16}}\n",
      "2025-05-01 07:52:49.423694: E tensorflow/core/framework/node_def_util.cc:676] NodeDef mentions attribute use_unbounded_threadpool which is not in the op definition: Op<name=MapDataset; signature=input_dataset:variant, other_arguments: -> handle:variant; attr=f:func; attr=Targuments:list(type),min=0; attr=output_types:list(type),min=1; attr=output_shapes:list(shape),min=1; attr=use_inter_op_parallelism:bool,default=true; attr=preserve_cardinality:bool,default=false; attr=force_synchronous:bool,default=false; attr=metadata:string,default=\"\"> This may be expected if your graph generating binary is newer  than this binary. Unknown attributes will be ignored. NodeDef: {{node ParallelMapDatasetV2/_16}}\n",
      "2025-05-01 07:52:55.017617: E tensorflow/core/framework/node_def_util.cc:676] NodeDef mentions attribute use_unbounded_threadpool which is not in the op definition: Op<name=MapDataset; signature=input_dataset:variant, other_arguments: -> handle:variant; attr=f:func; attr=Targuments:list(type),min=0; attr=output_types:list(type),min=1; attr=output_shapes:list(shape),min=1; attr=use_inter_op_parallelism:bool,default=true; attr=preserve_cardinality:bool,default=false; attr=force_synchronous:bool,default=false; attr=metadata:string,default=\"\"> This may be expected if your graph generating binary is newer  than this binary. Unknown attributes will be ignored. NodeDef: {{node ParallelMapDatasetV2/_16}}\n",
      "2025-05-01 07:53:37.498937: E tensorflow/core/framework/node_def_util.cc:676] NodeDef mentions attribute use_unbounded_threadpool which is not in the op definition: Op<name=MapDataset; signature=input_dataset:variant, other_arguments: -> handle:variant; attr=f:func; attr=Targuments:list(type),min=0; attr=output_types:list(type),min=1; attr=output_shapes:list(shape),min=1; attr=use_inter_op_parallelism:bool,default=true; attr=preserve_cardinality:bool,default=false; attr=force_synchronous:bool,default=false; attr=metadata:string,default=\"\"> This may be expected if your graph generating binary is newer  than this binary. Unknown attributes will be ignored. NodeDef: {{node ParallelMapDatasetV2/_16}}\n",
      "2025-05-01 07:53:42.540087: E tensorflow/core/framework/node_def_util.cc:676] NodeDef mentions attribute use_unbounded_threadpool which is not in the op definition: Op<name=MapDataset; signature=input_dataset:variant, other_arguments: -> handle:variant; attr=f:func; attr=Targuments:list(type),min=0; attr=output_types:list(type),min=1; attr=output_shapes:list(shape),min=1; attr=use_inter_op_parallelism:bool,default=true; attr=preserve_cardinality:bool,default=false; attr=force_synchronous:bool,default=false; attr=metadata:string,default=\"\"> This may be expected if your graph generating binary is newer  than this binary. Unknown attributes will be ignored. NodeDef: {{node ParallelMapDatasetV2/_16}}\n",
      "2025-05-01 07:56:05.665560: E tensorflow/core/framework/node_def_util.cc:676] NodeDef mentions attribute use_unbounded_threadpool which is not in the op definition: Op<name=MapDataset; signature=input_dataset:variant, other_arguments: -> handle:variant; attr=f:func; attr=Targuments:list(type),min=0; attr=output_types:list(type),min=1; attr=output_shapes:list(shape),min=1; attr=use_inter_op_parallelism:bool,default=true; attr=preserve_cardinality:bool,default=false; attr=force_synchronous:bool,default=false; attr=metadata:string,default=\"\"> This may be expected if your graph generating binary is newer  than this binary. Unknown attributes will be ignored. NodeDef: {{node ParallelMapDatasetV2/_14}}\n"
     ]
    },
    {
     "name": "stdout",
     "output_type": "stream",
     "text": [
      "--- Fold 1 - root_mean_squared_log_error: 0.0631 - Time: 508.25 s\n"
     ]
    },
    {
     "name": "stderr",
     "output_type": "stream",
     "text": [
      "2025-05-01 07:56:11.284181: E tensorflow/core/framework/node_def_util.cc:676] NodeDef mentions attribute use_unbounded_threadpool which is not in the op definition: Op<name=MapDataset; signature=input_dataset:variant, other_arguments: -> handle:variant; attr=f:func; attr=Targuments:list(type),min=0; attr=output_types:list(type),min=1; attr=output_shapes:list(shape),min=1; attr=use_inter_op_parallelism:bool,default=true; attr=preserve_cardinality:bool,default=false; attr=force_synchronous:bool,default=false; attr=metadata:string,default=\"\"> This may be expected if your graph generating binary is newer  than this binary. Unknown attributes will be ignored. NodeDef: {{node ParallelMapDatasetV2/_16}}\n",
      "2025-05-01 07:58:35.405901: E tensorflow/core/framework/node_def_util.cc:676] NodeDef mentions attribute use_unbounded_threadpool which is not in the op definition: Op<name=MapDataset; signature=input_dataset:variant, other_arguments: -> handle:variant; attr=f:func; attr=Targuments:list(type),min=0; attr=output_types:list(type),min=1; attr=output_shapes:list(shape),min=1; attr=use_inter_op_parallelism:bool,default=true; attr=preserve_cardinality:bool,default=false; attr=force_synchronous:bool,default=false; attr=metadata:string,default=\"\"> This may be expected if your graph generating binary is newer  than this binary. Unknown attributes will be ignored. NodeDef: {{node ParallelMapDatasetV2/_16}}\n",
      "2025-05-01 08:00:50.871744: E tensorflow/core/framework/node_def_util.cc:676] NodeDef mentions attribute use_unbounded_threadpool which is not in the op definition: Op<name=MapDataset; signature=input_dataset:variant, other_arguments: -> handle:variant; attr=f:func; attr=Targuments:list(type),min=0; attr=output_types:list(type),min=1; attr=output_shapes:list(shape),min=1; attr=use_inter_op_parallelism:bool,default=true; attr=preserve_cardinality:bool,default=false; attr=force_synchronous:bool,default=false; attr=metadata:string,default=\"\"> This may be expected if your graph generating binary is newer  than this binary. Unknown attributes will be ignored. NodeDef: {{node ParallelMapDatasetV2/_16}}\n",
      "2025-05-01 08:03:06.290613: E tensorflow/core/framework/node_def_util.cc:676] NodeDef mentions attribute use_unbounded_threadpool which is not in the op definition: Op<name=MapDataset; signature=input_dataset:variant, other_arguments: -> handle:variant; attr=f:func; attr=Targuments:list(type),min=0; attr=output_types:list(type),min=1; attr=output_shapes:list(shape),min=1; attr=use_inter_op_parallelism:bool,default=true; attr=preserve_cardinality:bool,default=false; attr=force_synchronous:bool,default=false; attr=metadata:string,default=\"\"> This may be expected if your graph generating binary is newer  than this binary. Unknown attributes will be ignored. NodeDef: {{node ParallelMapDatasetV2/_16}}\n",
      "2025-05-01 08:03:12.028395: E tensorflow/core/framework/node_def_util.cc:676] NodeDef mentions attribute use_unbounded_threadpool which is not in the op definition: Op<name=MapDataset; signature=input_dataset:variant, other_arguments: -> handle:variant; attr=f:func; attr=Targuments:list(type),min=0; attr=output_types:list(type),min=1; attr=output_shapes:list(shape),min=1; attr=use_inter_op_parallelism:bool,default=true; attr=preserve_cardinality:bool,default=false; attr=force_synchronous:bool,default=false; attr=metadata:string,default=\"\"> This may be expected if your graph generating binary is newer  than this binary. Unknown attributes will be ignored. NodeDef: {{node ParallelMapDatasetV2/_16}}\n",
      "2025-05-01 08:05:48.223213: E tensorflow/core/framework/node_def_util.cc:676] NodeDef mentions attribute use_unbounded_threadpool which is not in the op definition: Op<name=MapDataset; signature=input_dataset:variant, other_arguments: -> handle:variant; attr=f:func; attr=Targuments:list(type),min=0; attr=output_types:list(type),min=1; attr=output_shapes:list(shape),min=1; attr=use_inter_op_parallelism:bool,default=true; attr=preserve_cardinality:bool,default=false; attr=force_synchronous:bool,default=false; attr=metadata:string,default=\"\"> This may be expected if your graph generating binary is newer  than this binary. Unknown attributes will be ignored. NodeDef: {{node ParallelMapDatasetV2/_16}}\n",
      "2025-05-01 08:08:14.429575: E tensorflow/core/framework/node_def_util.cc:676] NodeDef mentions attribute use_unbounded_threadpool which is not in the op definition: Op<name=MapDataset; signature=input_dataset:variant, other_arguments: -> handle:variant; attr=f:func; attr=Targuments:list(type),min=0; attr=output_types:list(type),min=1; attr=output_shapes:list(shape),min=1; attr=use_inter_op_parallelism:bool,default=true; attr=preserve_cardinality:bool,default=false; attr=force_synchronous:bool,default=false; attr=metadata:string,default=\"\"> This may be expected if your graph generating binary is newer  than this binary. Unknown attributes will be ignored. NodeDef: {{node ParallelMapDatasetV2/_14}}\n"
     ]
    },
    {
     "name": "stdout",
     "output_type": "stream",
     "text": [
      "--- Fold 2 - root_mean_squared_log_error: 0.0615 - Time: 728.11 s\n"
     ]
    },
    {
     "name": "stderr",
     "output_type": "stream",
     "text": [
      "2025-05-01 08:08:20.453896: E tensorflow/core/framework/node_def_util.cc:676] NodeDef mentions attribute use_unbounded_threadpool which is not in the op definition: Op<name=MapDataset; signature=input_dataset:variant, other_arguments: -> handle:variant; attr=f:func; attr=Targuments:list(type),min=0; attr=output_types:list(type),min=1; attr=output_shapes:list(shape),min=1; attr=use_inter_op_parallelism:bool,default=true; attr=preserve_cardinality:bool,default=false; attr=force_synchronous:bool,default=false; attr=metadata:string,default=\"\"> This may be expected if your graph generating binary is newer  than this binary. Unknown attributes will be ignored. NodeDef: {{node ParallelMapDatasetV2/_16}}\n",
      "2025-05-01 08:08:25.520016: E tensorflow/core/framework/node_def_util.cc:676] NodeDef mentions attribute use_unbounded_threadpool which is not in the op definition: Op<name=MapDataset; signature=input_dataset:variant, other_arguments: -> handle:variant; attr=f:func; attr=Targuments:list(type),min=0; attr=output_types:list(type),min=1; attr=output_shapes:list(shape),min=1; attr=use_inter_op_parallelism:bool,default=true; attr=preserve_cardinality:bool,default=false; attr=force_synchronous:bool,default=false; attr=metadata:string,default=\"\"> This may be expected if your graph generating binary is newer  than this binary. Unknown attributes will be ignored. NodeDef: {{node ParallelMapDatasetV2/_16}}\n",
      "2025-05-01 08:10:47.446222: E tensorflow/core/framework/node_def_util.cc:676] NodeDef mentions attribute use_unbounded_threadpool which is not in the op definition: Op<name=MapDataset; signature=input_dataset:variant, other_arguments: -> handle:variant; attr=f:func; attr=Targuments:list(type),min=0; attr=output_types:list(type),min=1; attr=output_shapes:list(shape),min=1; attr=use_inter_op_parallelism:bool,default=true; attr=preserve_cardinality:bool,default=false; attr=force_synchronous:bool,default=false; attr=metadata:string,default=\"\"> This may be expected if your graph generating binary is newer  than this binary. Unknown attributes will be ignored. NodeDef: {{node ParallelMapDatasetV2/_16}}\n",
      "2025-05-01 08:10:52.613719: E tensorflow/core/framework/node_def_util.cc:676] NodeDef mentions attribute use_unbounded_threadpool which is not in the op definition: Op<name=MapDataset; signature=input_dataset:variant, other_arguments: -> handle:variant; attr=f:func; attr=Targuments:list(type),min=0; attr=output_types:list(type),min=1; attr=output_shapes:list(shape),min=1; attr=use_inter_op_parallelism:bool,default=true; attr=preserve_cardinality:bool,default=false; attr=force_synchronous:bool,default=false; attr=metadata:string,default=\"\"> This may be expected if your graph generating binary is newer  than this binary. Unknown attributes will be ignored. NodeDef: {{node ParallelMapDatasetV2/_16}}\n",
      "2025-05-01 08:11:51.164919: E tensorflow/core/framework/node_def_util.cc:676] NodeDef mentions attribute use_unbounded_threadpool which is not in the op definition: Op<name=MapDataset; signature=input_dataset:variant, other_arguments: -> handle:variant; attr=f:func; attr=Targuments:list(type),min=0; attr=output_types:list(type),min=1; attr=output_shapes:list(shape),min=1; attr=use_inter_op_parallelism:bool,default=true; attr=preserve_cardinality:bool,default=false; attr=force_synchronous:bool,default=false; attr=metadata:string,default=\"\"> This may be expected if your graph generating binary is newer  than this binary. Unknown attributes will be ignored. NodeDef: {{node ParallelMapDatasetV2/_16}}\n",
      "2025-05-01 08:11:56.305513: E tensorflow/core/framework/node_def_util.cc:676] NodeDef mentions attribute use_unbounded_threadpool which is not in the op definition: Op<name=MapDataset; signature=input_dataset:variant, other_arguments: -> handle:variant; attr=f:func; attr=Targuments:list(type),min=0; attr=output_types:list(type),min=1; attr=output_shapes:list(shape),min=1; attr=use_inter_op_parallelism:bool,default=true; attr=preserve_cardinality:bool,default=false; attr=force_synchronous:bool,default=false; attr=metadata:string,default=\"\"> This may be expected if your graph generating binary is newer  than this binary. Unknown attributes will be ignored. NodeDef: {{node ParallelMapDatasetV2/_16}}\n",
      "2025-05-01 08:12:38.881075: E tensorflow/core/framework/node_def_util.cc:676] NodeDef mentions attribute use_unbounded_threadpool which is not in the op definition: Op<name=MapDataset; signature=input_dataset:variant, other_arguments: -> handle:variant; attr=f:func; attr=Targuments:list(type),min=0; attr=output_types:list(type),min=1; attr=output_shapes:list(shape),min=1; attr=use_inter_op_parallelism:bool,default=true; attr=preserve_cardinality:bool,default=false; attr=force_synchronous:bool,default=false; attr=metadata:string,default=\"\"> This may be expected if your graph generating binary is newer  than this binary. Unknown attributes will be ignored. NodeDef: {{node ParallelMapDatasetV2/_16}}\n",
      "2025-05-01 08:14:31.275281: E tensorflow/core/framework/node_def_util.cc:676] NodeDef mentions attribute use_unbounded_threadpool which is not in the op definition: Op<name=MapDataset; signature=input_dataset:variant, other_arguments: -> handle:variant; attr=f:func; attr=Targuments:list(type),min=0; attr=output_types:list(type),min=1; attr=output_shapes:list(shape),min=1; attr=use_inter_op_parallelism:bool,default=true; attr=preserve_cardinality:bool,default=false; attr=force_synchronous:bool,default=false; attr=metadata:string,default=\"\"> This may be expected if your graph generating binary is newer  than this binary. Unknown attributes will be ignored. NodeDef: {{node ParallelMapDatasetV2/_16}}\n",
      "2025-05-01 08:14:37.451718: E tensorflow/core/framework/node_def_util.cc:676] NodeDef mentions attribute use_unbounded_threadpool which is not in the op definition: Op<name=MapDataset; signature=input_dataset:variant, other_arguments: -> handle:variant; attr=f:func; attr=Targuments:list(type),min=0; attr=output_types:list(type),min=1; attr=output_shapes:list(shape),min=1; attr=use_inter_op_parallelism:bool,default=true; attr=preserve_cardinality:bool,default=false; attr=force_synchronous:bool,default=false; attr=metadata:string,default=\"\"> This may be expected if your graph generating binary is newer  than this binary. Unknown attributes will be ignored. NodeDef: {{node ParallelMapDatasetV2/_16}}\n",
      "2025-05-01 08:16:46.670491: E tensorflow/core/framework/node_def_util.cc:676] NodeDef mentions attribute use_unbounded_threadpool which is not in the op definition: Op<name=MapDataset; signature=input_dataset:variant, other_arguments: -> handle:variant; attr=f:func; attr=Targuments:list(type),min=0; attr=output_types:list(type),min=1; attr=output_shapes:list(shape),min=1; attr=use_inter_op_parallelism:bool,default=true; attr=preserve_cardinality:bool,default=false; attr=force_synchronous:bool,default=false; attr=metadata:string,default=\"\"> This may be expected if your graph generating binary is newer  than this binary. Unknown attributes will be ignored. NodeDef: {{node ParallelMapDatasetV2/_14}}\n"
     ]
    },
    {
     "name": "stdout",
     "output_type": "stream",
     "text": [
      "--- Fold 3 - root_mean_squared_log_error: 0.0626 - Time: 511.16 s\n"
     ]
    },
    {
     "name": "stderr",
     "output_type": "stream",
     "text": [
      "2025-05-01 08:16:52.423978: E tensorflow/core/framework/node_def_util.cc:676] NodeDef mentions attribute use_unbounded_threadpool which is not in the op definition: Op<name=MapDataset; signature=input_dataset:variant, other_arguments: -> handle:variant; attr=f:func; attr=Targuments:list(type),min=0; attr=output_types:list(type),min=1; attr=output_shapes:list(shape),min=1; attr=use_inter_op_parallelism:bool,default=true; attr=preserve_cardinality:bool,default=false; attr=force_synchronous:bool,default=false; attr=metadata:string,default=\"\"> This may be expected if your graph generating binary is newer  than this binary. Unknown attributes will be ignored. NodeDef: {{node ParallelMapDatasetV2/_16}}\n",
      "2025-05-01 08:19:28.906069: E tensorflow/core/framework/node_def_util.cc:676] NodeDef mentions attribute use_unbounded_threadpool which is not in the op definition: Op<name=MapDataset; signature=input_dataset:variant, other_arguments: -> handle:variant; attr=f:func; attr=Targuments:list(type),min=0; attr=output_types:list(type),min=1; attr=output_shapes:list(shape),min=1; attr=use_inter_op_parallelism:bool,default=true; attr=preserve_cardinality:bool,default=false; attr=force_synchronous:bool,default=false; attr=metadata:string,default=\"\"> This may be expected if your graph generating binary is newer  than this binary. Unknown attributes will be ignored. NodeDef: {{node ParallelMapDatasetV2/_16}}\n",
      "2025-05-01 08:21:50.306568: E tensorflow/core/framework/node_def_util.cc:676] NodeDef mentions attribute use_unbounded_threadpool which is not in the op definition: Op<name=MapDataset; signature=input_dataset:variant, other_arguments: -> handle:variant; attr=f:func; attr=Targuments:list(type),min=0; attr=output_types:list(type),min=1; attr=output_shapes:list(shape),min=1; attr=use_inter_op_parallelism:bool,default=true; attr=preserve_cardinality:bool,default=false; attr=force_synchronous:bool,default=false; attr=metadata:string,default=\"\"> This may be expected if your graph generating binary is newer  than this binary. Unknown attributes will be ignored. NodeDef: {{node ParallelMapDatasetV2/_16}}\n",
      "2025-05-01 08:24:34.312578: E tensorflow/core/framework/node_def_util.cc:676] NodeDef mentions attribute use_unbounded_threadpool which is not in the op definition: Op<name=MapDataset; signature=input_dataset:variant, other_arguments: -> handle:variant; attr=f:func; attr=Targuments:list(type),min=0; attr=output_types:list(type),min=1; attr=output_shapes:list(shape),min=1; attr=use_inter_op_parallelism:bool,default=true; attr=preserve_cardinality:bool,default=false; attr=force_synchronous:bool,default=false; attr=metadata:string,default=\"\"> This may be expected if your graph generating binary is newer  than this binary. Unknown attributes will be ignored. NodeDef: {{node ParallelMapDatasetV2/_16}}\n",
      "2025-05-01 08:27:10.303522: E tensorflow/core/framework/node_def_util.cc:676] NodeDef mentions attribute use_unbounded_threadpool which is not in the op definition: Op<name=MapDataset; signature=input_dataset:variant, other_arguments: -> handle:variant; attr=f:func; attr=Targuments:list(type),min=0; attr=output_types:list(type),min=1; attr=output_shapes:list(shape),min=1; attr=use_inter_op_parallelism:bool,default=true; attr=preserve_cardinality:bool,default=false; attr=force_synchronous:bool,default=false; attr=metadata:string,default=\"\"> This may be expected if your graph generating binary is newer  than this binary. Unknown attributes will be ignored. NodeDef: {{node ParallelMapDatasetV2/_16}}\n",
      "2025-05-01 08:29:44.023518: E tensorflow/core/framework/node_def_util.cc:676] NodeDef mentions attribute use_unbounded_threadpool which is not in the op definition: Op<name=MapDataset; signature=input_dataset:variant, other_arguments: -> handle:variant; attr=f:func; attr=Targuments:list(type),min=0; attr=output_types:list(type),min=1; attr=output_shapes:list(shape),min=1; attr=use_inter_op_parallelism:bool,default=true; attr=preserve_cardinality:bool,default=false; attr=force_synchronous:bool,default=false; attr=metadata:string,default=\"\"> This may be expected if your graph generating binary is newer  than this binary. Unknown attributes will be ignored. NodeDef: {{node ParallelMapDatasetV2/_14}}\n"
     ]
    },
    {
     "name": "stdout",
     "output_type": "stream",
     "text": [
      "--- Fold 4 - root_mean_squared_log_error: 0.0610 - Time: 777.67 s\n",
      "\n",
      "------ Overall root_mean_squared_log_error: 0.0620 - Mean root_mean_squared_log_error: 0.0620 ± 0.0007 - Time: 3144.94 s\n"
     ]
    },
    {
     "name": "stderr",
     "output_type": "stream",
     "text": [
      "2025-05-01 08:29:50.646670: E tensorflow/core/framework/node_def_util.cc:676] NodeDef mentions attribute use_unbounded_threadpool which is not in the op definition: Op<name=MapDataset; signature=input_dataset:variant, other_arguments: -> handle:variant; attr=f:func; attr=Targuments:list(type),min=0; attr=output_types:list(type),min=1; attr=output_shapes:list(shape),min=1; attr=use_inter_op_parallelism:bool,default=true; attr=preserve_cardinality:bool,default=false; attr=force_synchronous:bool,default=false; attr=metadata:string,default=\"\"> This may be expected if your graph generating binary is newer  than this binary. Unknown attributes will be ignored. NodeDef: {{node ParallelMapDatasetV2/_14}}\n",
      "2025-05-01 08:29:55.955455: E tensorflow/core/framework/node_def_util.cc:676] NodeDef mentions attribute use_unbounded_threadpool which is not in the op definition: Op<name=MapDataset; signature=input_dataset:variant, other_arguments: -> handle:variant; attr=f:func; attr=Targuments:list(type),min=0; attr=output_types:list(type),min=1; attr=output_shapes:list(shape),min=1; attr=use_inter_op_parallelism:bool,default=true; attr=preserve_cardinality:bool,default=false; attr=force_synchronous:bool,default=false; attr=metadata:string,default=\"\"> This may be expected if your graph generating binary is newer  than this binary. Unknown attributes will be ignored. NodeDef: {{node ParallelMapDatasetV2/_14}}\n",
      "2025-05-01 08:30:01.409924: E tensorflow/core/framework/node_def_util.cc:676] NodeDef mentions attribute use_unbounded_threadpool which is not in the op definition: Op<name=MapDataset; signature=input_dataset:variant, other_arguments: -> handle:variant; attr=f:func; attr=Targuments:list(type),min=0; attr=output_types:list(type),min=1; attr=output_shapes:list(shape),min=1; attr=use_inter_op_parallelism:bool,default=true; attr=preserve_cardinality:bool,default=false; attr=force_synchronous:bool,default=false; attr=metadata:string,default=\"\"> This may be expected if your graph generating binary is newer  than this binary. Unknown attributes will be ignored. NodeDef: {{node ParallelMapDatasetV2/_14}}\n",
      "2025-05-01 08:30:06.749800: E tensorflow/core/framework/node_def_util.cc:676] NodeDef mentions attribute use_unbounded_threadpool which is not in the op definition: Op<name=MapDataset; signature=input_dataset:variant, other_arguments: -> handle:variant; attr=f:func; attr=Targuments:list(type),min=0; attr=output_types:list(type),min=1; attr=output_shapes:list(shape),min=1; attr=use_inter_op_parallelism:bool,default=true; attr=preserve_cardinality:bool,default=false; attr=force_synchronous:bool,default=false; attr=metadata:string,default=\"\"> This may be expected if your graph generating binary is newer  than this binary. Unknown attributes will be ignored. NodeDef: {{node ParallelMapDatasetV2/_14}}\n",
      "2025-05-01 08:30:12.203178: E tensorflow/core/framework/node_def_util.cc:676] NodeDef mentions attribute use_unbounded_threadpool which is not in the op definition: Op<name=MapDataset; signature=input_dataset:variant, other_arguments: -> handle:variant; attr=f:func; attr=Targuments:list(type),min=0; attr=output_types:list(type),min=1; attr=output_shapes:list(shape),min=1; attr=use_inter_op_parallelism:bool,default=true; attr=preserve_cardinality:bool,default=false; attr=force_synchronous:bool,default=false; attr=metadata:string,default=\"\"> This may be expected if your graph generating binary is newer  than this binary. Unknown attributes will be ignored. NodeDef: {{node ParallelMapDatasetV2/_14}}\n",
      "2025-05-01 08:30:17.550553: E tensorflow/core/framework/node_def_util.cc:676] NodeDef mentions attribute use_unbounded_threadpool which is not in the op definition: Op<name=MapDataset; signature=input_dataset:variant, other_arguments: -> handle:variant; attr=f:func; attr=Targuments:list(type),min=0; attr=output_types:list(type),min=1; attr=output_shapes:list(shape),min=1; attr=use_inter_op_parallelism:bool,default=true; attr=preserve_cardinality:bool,default=false; attr=force_synchronous:bool,default=false; attr=metadata:string,default=\"\"> This may be expected if your graph generating binary is newer  than this binary. Unknown attributes will be ignored. NodeDef: {{node ParallelMapDatasetV2/_14}}\n",
      "2025-05-01 08:30:22.769542: E tensorflow/core/framework/node_def_util.cc:676] NodeDef mentions attribute use_unbounded_threadpool which is not in the op definition: Op<name=MapDataset; signature=input_dataset:variant, other_arguments: -> handle:variant; attr=f:func; attr=Targuments:list(type),min=0; attr=output_types:list(type),min=1; attr=output_shapes:list(shape),min=1; attr=use_inter_op_parallelism:bool,default=true; attr=preserve_cardinality:bool,default=false; attr=force_synchronous:bool,default=false; attr=metadata:string,default=\"\"> This may be expected if your graph generating binary is newer  than this binary. Unknown attributes will be ignored. NodeDef: {{node ParallelMapDatasetV2/_14}}\n"
     ]
    }
   ],
   "source": [
    "nn_trainer = Trainer(\n",
    "    nn_bag,\n",
    "    cv=KFold(n_splits=CFG.n_folds, random_state=CFG.seed, shuffle=True),\n",
    "    metric=root_mean_squared_log_error,\n",
    "    task=\"regression\"\n",
    ")\n",
    "\n",
    "nn_trainer.fit(X, y)\n",
    "\n",
    "scores[\"KerasANN\"] = nn_trainer.fold_scores\n",
    "oof_preds[\"KerasANN\"] = nn_trainer.oof_preds\n",
    "test_preds[\"KerasANN\"] = nn_trainer.predict(X_test)"
   ]
  },
  {
   "cell_type": "markdown",
   "id": "c727d799",
   "metadata": {
    "papermill": {
     "duration": 0.018615,
     "end_time": "2025-05-01T08:30:24.053286",
     "exception": false,
     "start_time": "2025-05-01T08:30:24.034671",
     "status": "completed"
    },
    "tags": []
   },
   "source": [
    "# Ensembling with Ridge"
   ]
  },
  {
   "cell_type": "code",
   "execution_count": 20,
   "id": "15e923be",
   "metadata": {
    "_kg_hide-input": true,
    "execution": {
     "iopub.execute_input": "2025-05-01T08:30:24.092485Z",
     "iopub.status.busy": "2025-05-01T08:30:24.092078Z",
     "iopub.status.idle": "2025-05-01T08:30:24.100920Z",
     "shell.execute_reply": "2025-05-01T08:30:24.099976Z"
    },
    "papermill": {
     "duration": 0.030335,
     "end_time": "2025-05-01T08:30:24.102800",
     "exception": false,
     "start_time": "2025-05-01T08:30:24.072465",
     "status": "completed"
    },
    "tags": []
   },
   "outputs": [],
   "source": [
    "def plot_weights(weights, title):\n",
    "    sorted_indices = np.argsort(weights[0])[::-1]\n",
    "    sorted_coeffs = np.array(weights[0])[sorted_indices]\n",
    "    sorted_model_names = np.array(list(oof_preds.keys()))[sorted_indices]\n",
    "\n",
    "    plt.figure(figsize=(10, weights.shape[1] * 0.5))\n",
    "    ax = sns.barplot(x=sorted_coeffs, y=sorted_model_names, palette=\"RdYlGn_r\")\n",
    "\n",
    "    for i, (value, name) in enumerate(zip(sorted_coeffs, sorted_model_names)):\n",
    "        if value >= 0:\n",
    "            ax.text(value, i, f\"{value:.3f}\", va=\"center\", ha=\"left\", color=\"black\")\n",
    "        else:\n",
    "            ax.text(value, i, f\"{value:.3f}\", va=\"center\", ha=\"right\", color=\"black\")\n",
    "\n",
    "    xlim = ax.get_xlim()\n",
    "    ax.set_xlim(xlim[0] - 0.1 * abs(xlim[0]), xlim[1] + 0.1 * abs(xlim[1]))\n",
    "\n",
    "    plt.title(title)\n",
    "    plt.xlabel(\"\")\n",
    "    plt.ylabel(\"\")\n",
    "    plt.tight_layout()\n",
    "    plt.show()"
   ]
  },
  {
   "cell_type": "code",
   "execution_count": 21,
   "id": "caa62732",
   "metadata": {
    "execution": {
     "iopub.execute_input": "2025-05-01T08:30:24.142634Z",
     "iopub.status.busy": "2025-05-01T08:30:24.141668Z",
     "iopub.status.idle": "2025-05-01T08:30:24.184423Z",
     "shell.execute_reply": "2025-05-01T08:30:24.183410Z"
    },
    "papermill": {
     "duration": 0.064566,
     "end_time": "2025-05-01T08:30:24.186347",
     "exception": false,
     "start_time": "2025-05-01T08:30:24.121781",
     "status": "completed"
    },
    "tags": []
   },
   "outputs": [],
   "source": [
    "X = pd.DataFrame(oof_preds)\n",
    "X_test = pd.DataFrame(test_preds)"
   ]
  },
  {
   "cell_type": "code",
   "execution_count": 22,
   "id": "52b250a4",
   "metadata": {
    "_kg_hide-output": true,
    "execution": {
     "iopub.execute_input": "2025-05-01T08:30:24.228571Z",
     "iopub.status.busy": "2025-05-01T08:30:24.228119Z",
     "iopub.status.idle": "2025-05-01T08:50:57.367344Z",
     "shell.execute_reply": "2025-05-01T08:50:57.366101Z"
    },
    "papermill": {
     "duration": 1233.162837,
     "end_time": "2025-05-01T08:50:57.369235",
     "exception": false,
     "start_time": "2025-05-01T08:30:24.206398",
     "status": "completed"
    },
    "scrolled": true,
    "tags": []
   },
   "outputs": [
    {
     "name": "stderr",
     "output_type": "stream",
     "text": [
      "[I 2025-05-01 08:30:24,234] A new study created in memory with name: no-name-7291c16c-26f6-424b-aef9-2ccc833d4ea4\n",
      "[I 2025-05-01 08:30:44,036] Trial 0 finished with value: 0.060185033740438945 and parameters: {'alpha': 0.9435888537466808, 'tol': 0.008593118075630846}. Best is trial 0 with value: 0.060185033740438945.\n",
      "[I 2025-05-01 08:30:44,076] Trial 1 finished with value: 0.06018503669240121 and parameters: {'alpha': 9.071388275782766, 'tol': 0.008528668423241029}. Best is trial 0 with value: 0.060185033740438945.\n",
      "[I 2025-05-01 08:30:44,085] Trial 3 finished with value: 0.06018503408998316 and parameters: {'alpha': 1.9060918994086151, 'tol': 0.006585634395570934}. Best is trial 0 with value: 0.060185033740438945.\n",
      "[I 2025-05-01 08:30:44,120] Trial 2 finished with value: 0.06018503365943132 and parameters: {'alpha': 0.7205216477631415, 'tol': 0.006840153392029101}. Best is trial 2 with value: 0.06018503365943132.\n",
      "[I 2025-05-01 08:31:01,334] Trial 6 finished with value: 0.060185034850087325 and parameters: {'alpha': 3.9990309372335453, 'tol': 0.0038066777530119636}. Best is trial 2 with value: 0.06018503365943132.\n",
      "[I 2025-05-01 08:31:03,432] Trial 7 finished with value: 0.06018503350096863 and parameters: {'alpha': 0.284173497792215, 'tol': 0.008678317848626263}. Best is trial 7 with value: 0.06018503350096863.\n",
      "[I 2025-05-01 08:31:03,488] Trial 4 finished with value: 0.06018503537222187 and parameters: {'alpha': 5.436662847707838, 'tol': 0.0013994657350693428}. Best is trial 7 with value: 0.06018503350096863.\n",
      "[I 2025-05-01 08:31:03,498] Trial 5 finished with value: 0.06018503380969128 and parameters: {'alpha': 1.13428268780976, 'tol': 0.0019695618795165714}. Best is trial 7 with value: 0.06018503350096863.\n",
      "[I 2025-05-01 08:31:20,860] Trial 8 finished with value: 0.06018503695133228 and parameters: {'alpha': 9.784243817910003, 'tol': 0.008227136105346254}. Best is trial 7 with value: 0.06018503350096863.\n",
      "[I 2025-05-01 08:31:21,853] Trial 10 finished with value: 0.0601850344790923 and parameters: {'alpha': 2.977514108795094, 'tol': 0.008207833580071468}. Best is trial 7 with value: 0.06018503350096863.\n",
      "[I 2025-05-01 08:31:23,858] Trial 11 finished with value: 0.060185035654834414 and parameters: {'alpha': 6.214782158534266, 'tol': 0.006506641503856072}. Best is trial 7 with value: 0.06018503350096863.\n",
      "[I 2025-05-01 08:31:23,877] Trial 9 finished with value: 0.0601850352284567 and parameters: {'alpha': 5.040830336366947, 'tol': 0.0063165455311133085}. Best is trial 7 with value: 0.06018503350096863.\n",
      "[I 2025-05-01 08:31:40,288] Trial 12 finished with value: 0.06018503538821282 and parameters: {'alpha': 5.480691560121526, 'tol': 0.0038701496878460044}. Best is trial 7 with value: 0.06018503350096863.\n",
      "[I 2025-05-01 08:31:41,339] Trial 15 finished with value: 0.06018503347742942 and parameters: {'alpha': 0.21935197901554093, 'tol': 0.0052369343853770406}. Best is trial 15 with value: 0.06018503347742942.\n",
      "[I 2025-05-01 08:31:44,399] Trial 14 finished with value: 0.06018503342698887 and parameters: {'alpha': 0.08045460775096291, 'tol': 0.0044488095359754955}. Best is trial 14 with value: 0.06018503342698887.\n",
      "[I 2025-05-01 08:31:44,467] Trial 13 finished with value: 0.0601850366199441 and parameters: {'alpha': 8.871908951174728, 'tol': 0.00447793147986747}. Best is trial 14 with value: 0.06018503342698887.\n",
      "[I 2025-05-01 08:32:01,429] Trial 16 finished with value: 0.060185033581960035 and parameters: {'alpha': 0.5071948225156195, 'tol': 0.005655466535747809}. Best is trial 14 with value: 0.06018503342698887.\n",
      "[I 2025-05-01 08:32:02,790] Trial 18 finished with value: 0.060185033720628334 and parameters: {'alpha': 0.8890359668752283, 'tol': 0.0040015832847650114}. Best is trial 14 with value: 0.06018503342698887.\n",
      "[I 2025-05-01 08:32:05,942] Trial 19 finished with value: 0.060185033527637335 and parameters: {'alpha': 0.35761003204087616, 'tol': 0.004165306611461419}. Best is trial 14 with value: 0.06018503342698887.\n",
      "[I 2025-05-01 08:32:05,946] Trial 17 finished with value: 0.060185033762606095 and parameters: {'alpha': 1.0046295422070017, 'tol': 0.0042568420062159265}. Best is trial 14 with value: 0.06018503342698887.\n",
      "[I 2025-05-01 08:32:22,245] Trial 20 finished with value: 0.06018503395918342 and parameters: {'alpha': 1.5459264345273769, 'tol': 0.0032944955860927305}. Best is trial 14 with value: 0.06018503342698887.\n",
      "[I 2025-05-01 08:32:23,249] Trial 23 finished with value: 0.06018503693364077 and parameters: {'alpha': 9.735541480030157, 'tol': 0.002384169990552076}. Best is trial 14 with value: 0.06018503342698887.\n",
      "[I 2025-05-01 08:32:24,172] Trial 22 finished with value: 0.06018503457529255 and parameters: {'alpha': 3.2423986780272562, 'tol': 0.0023807661729758523}. Best is trial 14 with value: 0.06018503342698887.\n",
      "[I 2025-05-01 08:32:25,098] Trial 21 finished with value: 0.06018503454985938 and parameters: {'alpha': 3.1723691871361144, 'tol': 0.00016676560680253805}. Best is trial 14 with value: 0.06018503342698887.\n",
      "[I 2025-05-01 08:32:42,813] Trial 24 finished with value: 0.06018503358927338 and parameters: {'alpha': 0.5273338869356843, 'tol': 0.009854899442187582}. Best is trial 14 with value: 0.06018503342698887.\n",
      "[I 2025-05-01 08:32:42,841] Trial 25 finished with value: 0.0601850335631809 and parameters: {'alpha': 0.4554817915303204, 'tol': 0.009962524910868626}. Best is trial 14 with value: 0.06018503342698887.\n",
      "[I 2025-05-01 08:32:44,983] Trial 27 finished with value: 0.06018503375097546 and parameters: {'alpha': 0.9726031461288045, 'tol': 0.008977017214860956}. Best is trial 14 with value: 0.06018503342698887.\n",
      "[I 2025-05-01 08:32:44,996] Trial 26 finished with value: 0.06018503545480864 and parameters: {'alpha': 5.664050329881186, 'tol': 0.009947347231987655}. Best is trial 14 with value: 0.06018503342698887.\n",
      "[I 2025-05-01 08:33:02,125] Trial 28 finished with value: 0.06018503341695432 and parameters: {'alpha': 0.052823151624350785, 'tol': 0.006124753526938776}. Best is trial 28 with value: 0.06018503341695432.\n",
      "[I 2025-05-01 08:33:04,379] Trial 31 finished with value: 0.060185033424648204 and parameters: {'alpha': 0.07401094995269118, 'tol': 0.006645389066777587}. Best is trial 28 with value: 0.06018503341695432.\n",
      "[I 2025-05-01 08:33:04,400] Trial 29 finished with value: 0.06018503349463453 and parameters: {'alpha': 0.26672901616441286, 'tol': 0.007580140414887802}. Best is trial 28 with value: 0.06018503341695432.\n",
      "[I 2025-05-01 08:33:06,202] Trial 30 finished with value: 0.06018503343845036 and parameters: {'alpha': 0.11201703063231505, 'tol': 0.0061234245450496536}. Best is trial 28 with value: 0.06018503341695432.\n",
      "[I 2025-05-01 08:33:18,562] Trial 32 finished with value: 0.06018503344294128 and parameters: {'alpha': 0.12438176777979466, 'tol': 0.005267964314144241}. Best is trial 28 with value: 0.06018503341695432.\n",
      "[I 2025-05-01 08:33:21,825] Trial 35 finished with value: 0.060185033512285685 and parameters: {'alpha': 0.31533273789062866, 'tol': 0.005761683717865085}. Best is trial 28 with value: 0.06018503341695432.\n",
      "[I 2025-05-01 08:33:23,751] Trial 34 finished with value: 0.06018503341792205 and parameters: {'alpha': 0.05548816688201078, 'tol': 0.005595277243920384}. Best is trial 28 with value: 0.06018503341695432.\n",
      "[I 2025-05-01 08:33:23,753] Trial 33 finished with value: 0.06018503345883027 and parameters: {'alpha': 0.168137665080315, 'tol': 0.0064803561769539685}. Best is trial 28 with value: 0.06018503341695432.\n",
      "[I 2025-05-01 08:33:36,265] Trial 36 finished with value: 0.06018503354891661 and parameters: {'alpha': 0.41620514478828424, 'tol': 0.006192302483935916}. Best is trial 28 with value: 0.06018503341695432.\n",
      "[I 2025-05-01 08:33:39,226] Trial 37 finished with value: 0.06018503340116745 and parameters: {'alpha': 0.009350180880945157, 'tol': 0.006669596816585747}. Best is trial 37 with value: 0.06018503340116745.\n",
      "[I 2025-05-01 08:33:40,148] Trial 38 finished with value: 0.06018503436038325 and parameters: {'alpha': 2.650645638738267, 'tol': 0.007113154543205803}. Best is trial 37 with value: 0.06018503340116745.\n",
      "[I 2025-05-01 08:33:41,222] Trial 39 finished with value: 0.06018503457271358 and parameters: {'alpha': 3.235295971290443, 'tol': 0.006501656841300192}. Best is trial 37 with value: 0.06018503340116745.\n",
      "[I 2025-05-01 08:33:58,500] Trial 40 finished with value: 0.06018503403756295 and parameters: {'alpha': 1.7617507340731877, 'tol': 0.006500973926646996}. Best is trial 37 with value: 0.06018503340116745.\n",
      "[I 2025-05-01 08:33:58,523] Trial 41 finished with value: 0.0601850346394616 and parameters: {'alpha': 3.4190856108934984, 'tol': 0.007038036903239307}. Best is trial 37 with value: 0.06018503340116745.\n",
      "[I 2025-05-01 08:33:59,466] Trial 42 finished with value: 0.060185034472337536 and parameters: {'alpha': 2.9589122503948824, 'tol': 0.0054706410611253566}. Best is trial 37 with value: 0.06018503340116745.\n",
      "[I 2025-05-01 08:34:00,378] Trial 43 finished with value: 0.06018503341926839 and parameters: {'alpha': 0.059196697149636546, 'tol': 0.007229240550177206}. Best is trial 37 with value: 0.06018503340116745.\n",
      "[I 2025-05-01 08:34:17,967] Trial 44 finished with value: 0.06018503351888359 and parameters: {'alpha': 0.3335025058830842, 'tol': 0.005913581133049256}. Best is trial 37 with value: 0.06018503340116745.\n",
      "[I 2025-05-01 08:34:17,981] Trial 45 finished with value: 0.06018503341396335 and parameters: {'alpha': 0.04458683173997563, 'tol': 0.00671205596474583}. Best is trial 37 with value: 0.06018503340116745.\n",
      "[I 2025-05-01 08:34:18,941] Trial 46 finished with value: 0.06018503346152548 and parameters: {'alpha': 0.17555919531643968, 'tol': 0.007657103923592937}. Best is trial 37 with value: 0.06018503340116745.\n",
      "[I 2025-05-01 08:34:19,890] Trial 47 finished with value: 0.06018503373029897 and parameters: {'alpha': 0.915668377418676, 'tol': 0.007443531739746919}. Best is trial 37 with value: 0.06018503340116745.\n",
      "[I 2025-05-01 08:34:38,550] Trial 48 finished with value: 0.060185033650904454 and parameters: {'alpha': 0.6970438037861106, 'tol': 0.007813333243972417}. Best is trial 37 with value: 0.06018503340116745.\n",
      "[I 2025-05-01 08:34:38,551] Trial 49 finished with value: 0.06018503351213386 and parameters: {'alpha': 0.3149166980347143, 'tol': 0.00750582861600418}. Best is trial 37 with value: 0.06018503340116745.\n",
      "[I 2025-05-01 08:34:39,666] Trial 51 finished with value: 0.06018503602838862 and parameters: {'alpha': 7.243266492284913, 'tol': 0.00129407660036702}. Best is trial 37 with value: 0.06018503340116745.\n",
      "[I 2025-05-01 08:34:40,590] Trial 50 finished with value: 0.06018503340686319 and parameters: {'alpha': 0.02503507474245535, 'tol': 0.0076239813494863905}. Best is trial 37 with value: 0.06018503340116745.\n",
      "[I 2025-05-01 08:34:57,748] Trial 52 finished with value: 0.06018503348544358 and parameters: {'alpha': 0.24142015957457863, 'tol': 0.007095524236181338}. Best is trial 37 with value: 0.06018503340116745.\n",
      "[I 2025-05-01 08:34:59,860] Trial 53 finished with value: 0.060185033463876825 and parameters: {'alpha': 0.1820328720784888, 'tol': 0.0070484379985878195}. Best is trial 37 with value: 0.06018503340116745.\n",
      "[I 2025-05-01 08:34:59,884] Trial 54 finished with value: 0.06018503348657858 and parameters: {'alpha': 0.24454874521190245, 'tol': 0.00731241230208981}. Best is trial 37 with value: 0.06018503340116745.\n",
      "[I 2025-05-01 08:35:02,003] Trial 55 finished with value: 0.06018503359362199 and parameters: {'alpha': 0.5393103267483192, 'tol': 0.007091209148726365}. Best is trial 37 with value: 0.06018503340116745.\n",
      "[I 2025-05-01 08:35:17,171] Trial 56 finished with value: 0.06018503343599211 and parameters: {'alpha': 0.10524807977305099, 'tol': 0.00814918041371761}. Best is trial 37 with value: 0.06018503340116745.\n",
      "[I 2025-05-01 08:35:19,386] Trial 58 finished with value: 0.06018503412638351 and parameters: {'alpha': 2.006320230722672, 'tol': 0.005330409128484438}. Best is trial 37 with value: 0.06018503340116745.\n",
      "[I 2025-05-01 08:35:20,252] Trial 57 finished with value: 0.06018503340106859 and parameters: {'alpha': 0.009079453868650167, 'tol': 0.007866089576097465}. Best is trial 57 with value: 0.06018503340106859.\n",
      "[I 2025-05-01 08:35:22,253] Trial 59 finished with value: 0.06018503400330755 and parameters: {'alpha': 1.6674224120973622, 'tol': 0.00623735513582825}. Best is trial 57 with value: 0.06018503340106859.\n",
      "[I 2025-05-01 08:35:36,218] Trial 60 finished with value: 0.060185034064118126 and parameters: {'alpha': 1.8348704875218058, 'tol': 0.005901220849042814}. Best is trial 57 with value: 0.06018503340106859.\n",
      "[I 2025-05-01 08:35:37,276] Trial 62 finished with value: 0.06018503447815916 and parameters: {'alpha': 2.9749428203906136, 'tol': 0.009536324041177146}. Best is trial 57 with value: 0.06018503340106859.\n",
      "[I 2025-05-01 08:35:39,175] Trial 61 finished with value: 0.06018503398343873 and parameters: {'alpha': 1.6127145506797917, 'tol': 0.0056591097040102}. Best is trial 57 with value: 0.06018503340106859.\n",
      "[I 2025-05-01 08:35:41,994] Trial 63 finished with value: 0.06018503340025243 and parameters: {'alpha': 0.006833980431894475, 'tol': 0.005743684440133615}. Best is trial 63 with value: 0.06018503340025243.\n",
      "[I 2025-05-01 08:35:56,296] Trial 64 finished with value: 0.060185033413939555 and parameters: {'alpha': 0.04452229593195208, 'tol': 0.008548634473153544}. Best is trial 63 with value: 0.06018503340025243.\n",
      "[I 2025-05-01 08:35:58,325] Trial 65 finished with value: 0.06018503345066303 and parameters: {'alpha': 0.14564660967260412, 'tol': 0.008220602569184252}. Best is trial 63 with value: 0.06018503340025243.\n",
      "[I 2025-05-01 08:36:00,382] Trial 66 finished with value: 0.06018503344932889 and parameters: {'alpha': 0.14197118625430188, 'tol': 0.006773307754170671}. Best is trial 63 with value: 0.06018503340025243.\n",
      "[I 2025-05-01 08:36:01,436] Trial 67 finished with value: 0.060185033528199934 and parameters: {'alpha': 0.3591583605334484, 'tol': 0.005193595444750844}. Best is trial 63 with value: 0.06018503340025243.\n",
      "[I 2025-05-01 08:36:15,518] Trial 68 finished with value: 0.06018503343678823 and parameters: {'alpha': 0.1074405640256135, 'tol': 0.008655281226015802}. Best is trial 63 with value: 0.06018503340025243.\n",
      "[I 2025-05-01 08:36:18,900] Trial 70 finished with value: 0.06018503412624937 and parameters: {'alpha': 2.005952675800211, 'tol': 0.008572257185811057}. Best is trial 63 with value: 0.06018503340025243.\n",
      "[I 2025-05-01 08:36:18,964] Trial 69 finished with value: 0.060185033428176854 and parameters: {'alpha': 0.083724789438643, 'tol': 0.00935213992126471}. Best is trial 63 with value: 0.06018503340025243.\n",
      "[I 2025-05-01 08:36:20,923] Trial 71 finished with value: 0.06018503356882884 and parameters: {'alpha': 0.4710358803352851, 'tol': 0.009641007836477374}. Best is trial 63 with value: 0.06018503340025243.\n",
      "[I 2025-05-01 08:36:36,420] Trial 72 finished with value: 0.06018503411656134 and parameters: {'alpha': 1.9792763232387718, 'tol': 0.008531525046079232}. Best is trial 63 with value: 0.06018503340025243.\n",
      "[I 2025-05-01 08:36:39,395] Trial 74 finished with value: 0.06018503345168675 and parameters: {'alpha': 0.1484639558592133, 'tol': 0.0049171933987686356}. Best is trial 63 with value: 0.06018503340025243.\n",
      "[I 2025-05-01 08:36:40,425] Trial 75 finished with value: 0.06018503342154749 and parameters: {'alpha': 0.06547208837806383, 'tol': 0.005339246459690176}. Best is trial 63 with value: 0.06018503340025243.\n",
      "[I 2025-05-01 08:36:40,428] Trial 73 finished with value: 0.06018503371054839 and parameters: {'alpha': 0.8612830417868772, 'tol': 0.009155911097177817}. Best is trial 63 with value: 0.06018503340025243.\n",
      "[I 2025-05-01 08:36:53,241] Trial 76 finished with value: 0.06018503347496961 and parameters: {'alpha': 0.21257892515362373, 'tol': 0.004087148772319852}. Best is trial 63 with value: 0.06018503340025243.\n",
      "[I 2025-05-01 08:36:57,672] Trial 78 finished with value: 0.060185033470425205 and parameters: {'alpha': 0.2000659933348092, 'tol': 0.0028534062358706834}. Best is trial 63 with value: 0.06018503340025243.\n",
      "[I 2025-05-01 08:36:59,735] Trial 79 finished with value: 0.060185033443893796 and parameters: {'alpha': 0.12700708125664234, 'tol': 0.005998801437824794}. Best is trial 63 with value: 0.06018503340025243.\n",
      "[I 2025-05-01 08:36:59,749] Trial 77 finished with value: 0.06018503687305871 and parameters: {'alpha': 9.568753818049366, 'tol': 0.005886297873656413}. Best is trial 63 with value: 0.06018503340025243.\n",
      "[I 2025-05-01 08:37:12,433] Trial 80 finished with value: 0.060185033460691616 and parameters: {'alpha': 0.17326316771893202, 'tol': 0.007477329108097227}. Best is trial 63 with value: 0.06018503340025243.\n",
      "[I 2025-05-01 08:37:16,237] Trial 81 finished with value: 0.06018503343800233 and parameters: {'alpha': 0.1107861462669299, 'tol': 0.0065347266006475155}. Best is trial 63 with value: 0.06018503340025243.\n",
      "[I 2025-05-01 08:37:18,384] Trial 83 finished with value: 0.06018503345105828 and parameters: {'alpha': 0.1467346093830967, 'tol': 0.005458513247885168}. Best is trial 63 with value: 0.06018503340025243.\n",
      "[I 2025-05-01 08:37:19,365] Trial 82 finished with value: 0.06018503340503434 and parameters: {'alpha': 0.01999783980047943, 'tol': 0.005867094355755947}. Best is trial 63 with value: 0.06018503340025243.\n",
      "[I 2025-05-01 08:37:33,674] Trial 84 finished with value: 0.06018503341528045 and parameters: {'alpha': 0.04821355509252857, 'tol': 0.005959491446279966}. Best is trial 63 with value: 0.06018503340025243.\n",
      "[I 2025-05-01 08:37:36,787] Trial 85 finished with value: 0.06018503354476728 and parameters: {'alpha': 0.4047781388415802, 'tol': 0.0070418272998920214}. Best is trial 63 with value: 0.06018503340025243.\n",
      "[I 2025-05-01 08:37:39,625] Trial 86 finished with value: 0.06018503341606828 and parameters: {'alpha': 0.05038403474251695, 'tol': 0.007290524077263087}. Best is trial 63 with value: 0.06018503340025243.\n",
      "[I 2025-05-01 08:37:39,655] Trial 87 finished with value: 0.060185033439704425 and parameters: {'alpha': 0.1154702414274415, 'tol': 0.005273439511122568}. Best is trial 63 with value: 0.06018503340025243.\n",
      "[I 2025-05-01 08:37:53,078] Trial 88 finished with value: 0.06018503626781218 and parameters: {'alpha': 7.902443828464793, 'tol': 0.00994082169431456}. Best is trial 63 with value: 0.06018503340025243.\n",
      "[I 2025-05-01 08:37:55,968] Trial 89 finished with value: 0.0601850334188625 and parameters: {'alpha': 0.05807712937874718, 'tol': 0.005573894854891721}. Best is trial 63 with value: 0.06018503340025243.\n",
      "[I 2025-05-01 08:37:58,918] Trial 91 finished with value: 0.0601850340667661 and parameters: {'alpha': 1.842160817557975, 'tol': 0.0068506697066871925}. Best is trial 63 with value: 0.06018503340025243.\n",
      "[I 2025-05-01 08:37:58,923] Trial 90 finished with value: 0.06018503423499589 and parameters: {'alpha': 2.305389808742507, 'tol': 0.00792737885466862}. Best is trial 63 with value: 0.06018503340025243.\n",
      "[I 2025-05-01 08:38:11,653] Trial 92 finished with value: 0.06018503346298281 and parameters: {'alpha': 0.1795715454528084, 'tol': 0.008076328219410825}. Best is trial 63 with value: 0.06018503340025243.\n",
      "[I 2025-05-01 08:38:14,373] Trial 93 finished with value: 0.06018503406698676 and parameters: {'alpha': 1.8427710883898052, 'tol': 0.0066668920500327035}. Best is trial 63 with value: 0.06018503340025243.\n",
      "[I 2025-05-01 08:38:17,349] Trial 94 finished with value: 0.06018503393891512 and parameters: {'alpha': 1.490113532250016, 'tol': 0.007337825414870409}. Best is trial 63 with value: 0.06018503340025243.\n",
      "[I 2025-05-01 08:38:17,352] Trial 95 finished with value: 0.06018503343255055 and parameters: {'alpha': 0.09577031014434848, 'tol': 0.006866540985521171}. Best is trial 63 with value: 0.06018503340025243.\n",
      "[I 2025-05-01 08:38:28,727] Trial 96 finished with value: 0.06018503340800061 and parameters: {'alpha': 0.028169387323362476, 'tol': 0.00659628663287741}. Best is trial 63 with value: 0.06018503340025243.\n",
      "[I 2025-05-01 08:38:34,411] Trial 97 finished with value: 0.06018503342886819 and parameters: {'alpha': 0.08563085029457357, 'tol': 0.007059279884915055}. Best is trial 63 with value: 0.06018503340025243.\n",
      "[I 2025-05-01 08:38:35,318] Trial 98 finished with value: 0.06018503341021227 and parameters: {'alpha': 0.03425984126460122, 'tol': 0.007942131952500616}. Best is trial 63 with value: 0.06018503340025243.\n",
      "[I 2025-05-01 08:38:36,300] Trial 99 finished with value: 0.06018503341365944 and parameters: {'alpha': 0.043750457368336736, 'tol': 0.007608104923002613}. Best is trial 63 with value: 0.06018503340025243.\n",
      "[I 2025-05-01 08:38:49,267] Trial 100 finished with value: 0.06018503351001527 and parameters: {'alpha': 0.30908451941451487, 'tol': 0.007627175658126884}. Best is trial 63 with value: 0.06018503340025243.\n",
      "[I 2025-05-01 08:38:52,448] Trial 101 finished with value: 0.06018503584249704 and parameters: {'alpha': 6.731464050318013, 'tol': 0.007454587322085665}. Best is trial 63 with value: 0.06018503340025243.\n",
      "[I 2025-05-01 08:38:53,291] Trial 102 finished with value: 0.060185033411178646 and parameters: {'alpha': 0.0369174997654813, 'tol': 0.008732597374739939}. Best is trial 63 with value: 0.06018503340025243.\n",
      "[I 2025-05-01 08:38:57,473] Trial 103 finished with value: 0.060185033595555666 and parameters: {'alpha': 0.544632534267176, 'tol': 0.008559345968270128}. Best is trial 63 with value: 0.06018503340025243.\n",
      "[I 2025-05-01 08:39:07,710] Trial 104 finished with value: 0.060185033493668307 and parameters: {'alpha': 0.26406900575683306, 'tol': 0.008848584851110437}. Best is trial 63 with value: 0.06018503340025243.\n",
      "[I 2025-05-01 08:39:11,189] Trial 106 finished with value: 0.06018503348992921 and parameters: {'alpha': 0.2537715924759632, 'tol': 0.009724704313061721}. Best is trial 63 with value: 0.06018503340025243.\n",
      "[I 2025-05-01 08:39:13,115] Trial 105 finished with value: 0.06018503340063607 and parameters: {'alpha': 0.007887769883554371, 'tol': 0.00803192879818567}. Best is trial 63 with value: 0.06018503340025243.\n",
      "[I 2025-05-01 08:39:17,800] Trial 107 finished with value: 0.06018503349452896 and parameters: {'alpha': 0.2664400709214574, 'tol': 0.009505283591482309}. Best is trial 63 with value: 0.06018503340025243.\n",
      "[I 2025-05-01 08:39:25,375] Trial 108 finished with value: 0.06018503343428024 and parameters: {'alpha': 0.10053191645792915, 'tol': 0.007593194017132223}. Best is trial 63 with value: 0.06018503340025243.\n",
      "[I 2025-05-01 08:39:32,185] Trial 110 finished with value: 0.06018503347285599 and parameters: {'alpha': 0.20675659567301577, 'tol': 0.008563276632610545}. Best is trial 63 with value: 0.06018503340025243.\n",
      "[I 2025-05-01 08:39:32,188] Trial 109 finished with value: 0.06018503353213737 and parameters: {'alpha': 0.37000215468873565, 'tol': 0.008170932264176147}. Best is trial 63 with value: 0.06018503340025243.\n",
      "[I 2025-05-01 08:39:37,159] Trial 111 finished with value: 0.060185034055600016 and parameters: {'alpha': 1.8114140951341884, 'tol': 0.00858448818050955}. Best is trial 63 with value: 0.06018503340025243.\n",
      "[I 2025-05-01 08:39:45,719] Trial 112 finished with value: 0.06018503401442054 and parameters: {'alpha': 1.6980251976670353, 'tol': 0.008607757673652353}. Best is trial 63 with value: 0.06018503340025243.\n",
      "[I 2025-05-01 08:39:51,822] Trial 113 finished with value: 0.06018503400869815 and parameters: {'alpha': 1.6822699832812413, 'tol': 0.008196806958432966}. Best is trial 63 with value: 0.06018503340025243.\n",
      "[I 2025-05-01 08:39:51,831] Trial 114 finished with value: 0.060185033486769915 and parameters: {'alpha': 0.2450713524350261, 'tol': 0.007933477861181025}. Best is trial 63 with value: 0.06018503340025243.\n",
      "[I 2025-05-01 08:39:58,002] Trial 115 finished with value: 0.06018503341494692 and parameters: {'alpha': 0.047296142087409294, 'tol': 0.008021424780336031}. Best is trial 63 with value: 0.06018503340025243.\n",
      "[I 2025-05-01 08:40:06,288] Trial 116 finished with value: 0.060185033502825495 and parameters: {'alpha': 0.28928679014118086, 'tol': 0.007651096896424603}. Best is trial 63 with value: 0.06018503340025243.\n",
      "[I 2025-05-01 08:40:09,852] Trial 118 finished with value: 0.060185033427592884 and parameters: {'alpha': 0.08211846688523132, 'tol': 0.008783822492265295}. Best is trial 63 with value: 0.06018503340025243.\n",
      "[I 2025-05-01 08:40:10,758] Trial 117 finished with value: 0.06018503341851517 and parameters: {'alpha': 0.05712291215864686, 'tol': 0.007935748645047803}. Best is trial 63 with value: 0.06018503340025243.\n",
      "[I 2025-05-01 08:40:18,091] Trial 119 finished with value: 0.060185033433211924 and parameters: {'alpha': 0.0975923661751239, 'tol': 0.008129819814173373}. Best is trial 63 with value: 0.06018503340025243.\n",
      "[I 2025-05-01 08:40:25,595] Trial 120 finished with value: 0.0601850334434359 and parameters: {'alpha': 0.12574639974218804, 'tol': 0.007637552932476809}. Best is trial 63 with value: 0.06018503340025243.\n",
      "[I 2025-05-01 08:40:28,623] Trial 121 finished with value: 0.060185033868092 and parameters: {'alpha': 1.2950940858767646, 'tol': 0.006577787407755927}. Best is trial 63 with value: 0.06018503340025243.\n",
      "[I 2025-05-01 08:40:31,687] Trial 122 finished with value: 0.06018503398316287 and parameters: {'alpha': 1.611953765442114, 'tol': 0.0069421051384192965}. Best is trial 63 with value: 0.06018503340025243.\n",
      "[I 2025-05-01 08:40:38,961] Trial 123 finished with value: 0.060185034007416496 and parameters: {'alpha': 1.6787390603677945, 'tol': 0.006999205582991183}. Best is trial 63 with value: 0.06018503340025243.\n",
      "[I 2025-05-01 08:40:44,925] Trial 124 finished with value: 0.060185033420430294 and parameters: {'alpha': 0.06239591835609376, 'tol': 0.00637221682784718}. Best is trial 63 with value: 0.06018503340025243.\n",
      "[I 2025-05-01 08:40:47,002] Trial 125 finished with value: 0.06018503343986596 and parameters: {'alpha': 0.11591464927593165, 'tol': 0.006819417064001662}. Best is trial 63 with value: 0.06018503340025243.\n",
      "[I 2025-05-01 08:40:52,038] Trial 126 finished with value: 0.060185033465114515 and parameters: {'alpha': 0.18544031354358387, 'tol': 0.00616777124436433}. Best is trial 63 with value: 0.06018503340025243.\n",
      "[I 2025-05-01 08:40:58,410] Trial 127 finished with value: 0.06018503565002676 and parameters: {'alpha': 6.201544914722604, 'tol': 0.005204453649239112}. Best is trial 63 with value: 0.06018503340025243.\n",
      "[I 2025-05-01 08:41:04,329] Trial 128 finished with value: 0.06018503348616671 and parameters: {'alpha': 0.24340930376219344, 'tol': 0.00040929790842970416}. Best is trial 63 with value: 0.06018503340025243.\n",
      "[I 2025-05-01 08:41:05,589] Trial 129 finished with value: 0.06018503343537942 and parameters: {'alpha': 0.10356224058582192, 'tol': 0.008141598403259483}. Best is trial 63 with value: 0.06018503340025243.\n",
      "[I 2025-05-01 08:41:12,829] Trial 130 finished with value: 0.060185033468146444 and parameters: {'alpha': 0.1937898777903938, 'tol': 0.008927242383655129}. Best is trial 63 with value: 0.06018503340025243.\n",
      "[I 2025-05-01 08:41:17,976] Trial 131 finished with value: 0.06018503343341281 and parameters: {'alpha': 0.09814486944695985, 'tol': 0.008112940545924825}. Best is trial 63 with value: 0.06018503340025243.\n",
      "[I 2025-05-01 08:41:23,951] Trial 132 finished with value: 0.06018503339873326 and parameters: {'alpha': 0.002647445496835354, 'tol': 0.006876853681884132}. Best is trial 132 with value: 0.06018503339873326.\n",
      "[I 2025-05-01 08:41:24,958] Trial 133 finished with value: 0.060185033444430956 and parameters: {'alpha': 0.12848702147446378, 'tol': 0.007445175127102587}. Best is trial 132 with value: 0.06018503339873326.\n",
      "[I 2025-05-01 08:41:31,357] Trial 134 finished with value: 0.06018503344160708 and parameters: {'alpha': 0.12071047912646005, 'tol': 0.006565555258671151}. Best is trial 132 with value: 0.06018503339873326.\n",
      "[I 2025-05-01 08:41:38,246] Trial 135 finished with value: 0.06018503341422179 and parameters: {'alpha': 0.04529990631040517, 'tol': 0.006725224891802784}. Best is trial 132 with value: 0.06018503339873326.\n",
      "[I 2025-05-01 08:41:43,447] Trial 136 finished with value: 0.06018503356828896 and parameters: {'alpha': 0.4695495409402477, 'tol': 0.006787268808413731}. Best is trial 132 with value: 0.06018503339873326.\n",
      "[I 2025-05-01 08:41:45,627] Trial 137 finished with value: 0.06018503351471368 and parameters: {'alpha': 0.322021340846973, 'tol': 0.006221266370220013}. Best is trial 132 with value: 0.06018503339873326.\n",
      "[I 2025-05-01 08:41:48,448] Trial 138 finished with value: 0.060185033871671026 and parameters: {'alpha': 1.3049528178262235, 'tol': 0.006394959312167077}. Best is trial 132 with value: 0.06018503339873326.\n",
      "[I 2025-05-01 08:41:59,470] Trial 139 finished with value: 0.06018503402512239 and parameters: {'alpha': 1.7274922427033026, 'tol': 0.0050999000492014425}. Best is trial 132 with value: 0.06018503339873326.\n",
      "[I 2025-05-01 08:42:03,148] Trial 140 finished with value: 0.06018503387707572 and parameters: {'alpha': 1.319832977063951, 'tol': 0.00505385966725126}. Best is trial 132 with value: 0.06018503339873326.\n",
      "[I 2025-05-01 08:42:04,862] Trial 141 finished with value: 0.060185033408777955 and parameters: {'alpha': 0.030307181727305506, 'tol': 0.006658413052729904}. Best is trial 132 with value: 0.06018503339873326.\n",
      "[I 2025-05-01 08:42:08,941] Trial 142 finished with value: 0.060185035492521445 and parameters: {'alpha': 5.767884585650185, 'tol': 0.0001832934497710591}. Best is trial 132 with value: 0.06018503339873326.\n",
      "[I 2025-05-01 08:42:20,436] Trial 143 finished with value: 0.06018503389301837 and parameters: {'alpha': 1.3637335928313865, 'tol': 0.005440807926390196}. Best is trial 132 with value: 0.06018503339873326.\n",
      "[I 2025-05-01 08:42:22,469] Trial 145 finished with value: 0.06018503343910558 and parameters: {'alpha': 0.1138195592390384, 'tol': 0.005431284907847312}. Best is trial 132 with value: 0.06018503339873326.\n",
      "[I 2025-05-01 08:42:23,614] Trial 144 finished with value: 0.0601850334126336 and parameters: {'alpha': 0.04092625176747256, 'tol': 0.006716687762363544}. Best is trial 132 with value: 0.06018503339873326.\n",
      "[I 2025-05-01 08:42:28,389] Trial 146 finished with value: 0.060185033467959774 and parameters: {'alpha': 0.19327594097351325, 'tol': 0.005985789941175535}. Best is trial 132 with value: 0.06018503339873326.\n",
      "[I 2025-05-01 08:42:40,296] Trial 147 finished with value: 0.060185033401917165 and parameters: {'alpha': 0.011416144915084176, 'tol': 0.0066725714211999625}. Best is trial 132 with value: 0.06018503339873326.\n",
      "[I 2025-05-01 08:42:41,288] Trial 148 finished with value: 0.06018503392567387 and parameters: {'alpha': 1.4536533673656278, 'tol': 0.006748612194606706}. Best is trial 132 with value: 0.06018503339873326.\n",
      "[I 2025-05-01 08:42:43,533] Trial 149 finished with value: 0.060185033455533964 and parameters: {'alpha': 0.1590619291901565, 'tol': 0.006298774419211653}. Best is trial 132 with value: 0.06018503339873326.\n",
      "[I 2025-05-01 08:42:47,015] Trial 150 finished with value: 0.060185033964384155 and parameters: {'alpha': 1.5602451897183947, 'tol': 0.007490622335185347}. Best is trial 132 with value: 0.06018503339873326.\n",
      "[I 2025-05-01 08:43:00,882] Trial 151 finished with value: 0.060185034031032904 and parameters: {'alpha': 1.7437686748708294, 'tol': 0.0072863122665735155}. Best is trial 132 with value: 0.06018503339873326.\n",
      "[I 2025-05-01 08:43:01,809] Trial 152 finished with value: 0.06018503382664323 and parameters: {'alpha': 1.1809611656388046, 'tol': 0.00782318695204679}. Best is trial 132 with value: 0.06018503339873326.\n",
      "[I 2025-05-01 08:43:03,638] Trial 153 finished with value: 0.06018503402602425 and parameters: {'alpha': 1.7299754149968118, 'tol': 0.007584143769897288}. Best is trial 132 with value: 0.06018503339873326.\n",
      "[I 2025-05-01 08:43:07,427] Trial 154 finished with value: 0.0601850334088806 and parameters: {'alpha': 0.0305899845249062, 'tol': 0.006559378456052326}. Best is trial 132 with value: 0.06018503339873326.\n",
      "[I 2025-05-01 08:43:19,524] Trial 156 finished with value: 0.060185033830576794 and parameters: {'alpha': 1.1917926168432058, 'tol': 0.0073773829578768595}. Best is trial 132 with value: 0.06018503339873326.\n",
      "[I 2025-05-01 08:43:20,465] Trial 155 finished with value: 0.060185033490605694 and parameters: {'alpha': 0.2556344085798799, 'tol': 0.006156893221396781}. Best is trial 132 with value: 0.06018503339873326.\n",
      "[I 2025-05-01 08:43:22,869] Trial 157 finished with value: 0.06018503342769506 and parameters: {'alpha': 0.08240064519248688, 'tol': 0.006193339653957887}. Best is trial 132 with value: 0.06018503339873326.\n",
      "[I 2025-05-01 08:43:26,233] Trial 158 finished with value: 0.060185033413977865 and parameters: {'alpha': 0.04462795477671696, 'tol': 0.007398852913046108}. Best is trial 132 with value: 0.06018503339873326.\n",
      "[I 2025-05-01 08:43:40,234] Trial 159 finished with value: 0.06018503346817234 and parameters: {'alpha': 0.19386161638030522, 'tol': 0.00829132049635297}. Best is trial 132 with value: 0.06018503339873326.\n",
      "[I 2025-05-01 08:43:41,361] Trial 160 finished with value: 0.06018503341706504 and parameters: {'alpha': 0.05313008441291997, 'tol': 0.007240941533025533}. Best is trial 132 with value: 0.06018503339873326.\n",
      "[I 2025-05-01 08:43:44,182] Trial 161 finished with value: 0.060185033398201554 and parameters: {'alpha': 0.0011846838674783545, 'tol': 0.006567771135338089}. Best is trial 161 with value: 0.060185033398201554.\n",
      "[I 2025-05-01 08:43:47,280] Trial 162 finished with value: 0.06018503344078685 and parameters: {'alpha': 0.11845209696690698, 'tol': 0.008286011947054465}. Best is trial 161 with value: 0.060185033398201554.\n",
      "[I 2025-05-01 08:43:59,505] Trial 163 finished with value: 0.06018503343393387 and parameters: {'alpha': 0.09957940841794749, 'tol': 0.006053359529433267}. Best is trial 161 with value: 0.060185033398201554.\n",
      "[I 2025-05-01 08:44:01,485] Trial 164 finished with value: 0.060185033422626266 and parameters: {'alpha': 0.06844135333577993, 'tol': 0.006565438270738889}. Best is trial 161 with value: 0.060185033398201554.\n",
      "[I 2025-05-01 08:44:04,517] Trial 165 finished with value: 0.060185033491872444 and parameters: {'alpha': 0.25912322390164994, 'tol': 0.006956210513552901}. Best is trial 161 with value: 0.060185033398201554.\n",
      "[I 2025-05-01 08:44:07,731] Trial 166 finished with value: 0.060185033531952856 and parameters: {'alpha': 0.36949311124890183, 'tol': 0.005840395770208004}. Best is trial 161 with value: 0.060185033398201554.\n",
      "[I 2025-05-01 08:44:18,111] Trial 168 finished with value: 0.060185033416533244 and parameters: {'alpha': 0.05166338311063133, 'tol': 0.007527287244093438}. Best is trial 161 with value: 0.060185033398201554.\n",
      "[I 2025-05-01 08:44:21,013] Trial 167 finished with value: 0.06018503340262093 and parameters: {'alpha': 0.013354883965078519, 'tol': 0.006783970666447554}. Best is trial 161 with value: 0.060185033398201554.\n",
      "[I 2025-05-01 08:44:25,356] Trial 169 finished with value: 0.06018503340489783 and parameters: {'alpha': 0.01962332257847712, 'tol': 0.006058313322256413}. Best is trial 161 with value: 0.060185033398201554.\n",
      "[I 2025-05-01 08:44:27,622] Trial 170 finished with value: 0.06018503340554823 and parameters: {'alpha': 0.021415022832070963, 'tol': 0.005978541766004328}. Best is trial 161 with value: 0.060185033398201554.\n",
      "[I 2025-05-01 08:44:38,737] Trial 171 finished with value: 0.060185033406623324 and parameters: {'alpha': 0.02437604571034819, 'tol': 0.0065220844756598085}. Best is trial 161 with value: 0.060185033398201554.\n",
      "[I 2025-05-01 08:44:41,757] Trial 172 finished with value: 0.06018503397386517 and parameters: {'alpha': 1.5863521759564505, 'tol': 0.006163137565028256}. Best is trial 161 with value: 0.060185033398201554.\n",
      "[I 2025-05-01 08:44:44,726] Trial 173 finished with value: 0.06018503349163239 and parameters: {'alpha': 0.2584630757495329, 'tol': 0.005361053746992478}. Best is trial 161 with value: 0.060185033398201554.\n",
      "[I 2025-05-01 08:44:47,712] Trial 174 finished with value: 0.06018503354631195 and parameters: {'alpha': 0.4090313788844629, 'tol': 0.004071003800704306}. Best is trial 161 with value: 0.060185033398201554.\n",
      "[I 2025-05-01 08:44:58,433] Trial 175 finished with value: 0.06018503362034743 and parameters: {'alpha': 0.612901578627503, 'tol': 0.004450205571815217}. Best is trial 161 with value: 0.060185033398201554.\n",
      "[I 2025-05-01 08:45:00,872] Trial 176 finished with value: 0.06018503374046237 and parameters: {'alpha': 0.9436531387008188, 'tol': 0.004739014529216263}. Best is trial 161 with value: 0.060185033398201554.\n",
      "[I 2025-05-01 08:45:06,133] Trial 177 finished with value: 0.06018503343892289 and parameters: {'alpha': 0.11331707712105457, 'tol': 0.004539346719781118}. Best is trial 161 with value: 0.060185033398201554.\n",
      "[I 2025-05-01 08:45:08,333] Trial 178 finished with value: 0.060185033921245 and parameters: {'alpha': 1.4414592294815451, 'tol': 0.005788669012033787}. Best is trial 161 with value: 0.060185033398201554.\n",
      "[I 2025-05-01 08:45:19,402] Trial 179 finished with value: 0.06018503342665959 and parameters: {'alpha': 0.07954898671441735, 'tol': 0.005114614325743288}. Best is trial 161 with value: 0.060185033398201554.\n",
      "[I 2025-05-01 08:45:21,613] Trial 180 finished with value: 0.060185033398875924 and parameters: {'alpha': 0.0030429614291286444, 'tol': 0.006098390528442268}. Best is trial 161 with value: 0.060185033398201554.\n",
      "[I 2025-05-01 08:45:26,509] Trial 181 finished with value: 0.060185033437241034 and parameters: {'alpha': 0.10868737235915224, 'tol': 0.005610502684980173}. Best is trial 161 with value: 0.060185033398201554.\n",
      "[I 2025-05-01 08:45:29,416] Trial 182 finished with value: 0.06018503340625649 and parameters: {'alpha': 0.023364872210073755, 'tol': 0.005579971617097148}. Best is trial 161 with value: 0.060185033398201554.\n",
      "[I 2025-05-01 08:45:42,588] Trial 184 finished with value: 0.06018503378636726 and parameters: {'alpha': 1.0700596622983107, 'tol': 0.006075735763173986}. Best is trial 161 with value: 0.060185033398201554.\n",
      "[I 2025-05-01 08:45:42,591] Trial 183 finished with value: 0.06018503530945506 and parameters: {'alpha': 5.263843538761821, 'tol': 0.003314659560647879}. Best is trial 161 with value: 0.060185033398201554.\n",
      "[I 2025-05-01 08:45:44,548] Trial 185 finished with value: 0.060185033412426495 and parameters: {'alpha': 0.04035790253181102, 'tol': 0.00605354849289956}. Best is trial 161 with value: 0.060185033398201554.\n",
      "[I 2025-05-01 08:45:46,361] Trial 186 finished with value: 0.06018503341646912 and parameters: {'alpha': 0.0514889617734568, 'tol': 0.005415071383450481}. Best is trial 161 with value: 0.060185033398201554.\n",
      "[I 2025-05-01 08:45:58,256] Trial 188 finished with value: 0.060185033511528936 and parameters: {'alpha': 0.3132512542500075, 'tol': 0.005815038142681772}. Best is trial 161 with value: 0.060185033398201554.\n",
      "[I 2025-05-01 08:45:59,176] Trial 187 finished with value: 0.06018503345861908 and parameters: {'alpha': 0.16755466605818461, 'tol': 0.005676316630360775}. Best is trial 161 with value: 0.060185033398201554.\n",
      "[I 2025-05-01 08:46:03,245] Trial 189 finished with value: 0.06018503340191849 and parameters: {'alpha': 0.011420657719050209, 'tol': 0.005687626752696721}. Best is trial 161 with value: 0.060185033398201554.\n",
      "[I 2025-05-01 08:46:04,203] Trial 190 finished with value: 0.06018503346376526 and parameters: {'alpha': 0.18172571341761437, 'tol': 0.006085046636691265}. Best is trial 161 with value: 0.060185033398201554.\n",
      "[I 2025-05-01 08:46:16,628] Trial 192 finished with value: 0.06018503404650001 and parameters: {'alpha': 1.786356912588073, 'tol': 0.006282752401831645}. Best is trial 161 with value: 0.060185033398201554.\n",
      "[I 2025-05-01 08:46:19,945] Trial 191 finished with value: 0.06018503351306342 and parameters: {'alpha': 0.3174774910682027, 'tol': 0.006269978495649219}. Best is trial 161 with value: 0.060185033398201554.\n",
      "[I 2025-05-01 08:46:21,988] Trial 193 finished with value: 0.06018503343745133 and parameters: {'alpha': 0.10926607588035736, 'tol': 0.006652750044539316}. Best is trial 161 with value: 0.060185033398201554.\n",
      "[I 2025-05-01 08:46:24,086] Trial 194 finished with value: 0.06018503444201858 and parameters: {'alpha': 2.875429464173374, 'tol': 0.0035298072984417763}. Best is trial 161 with value: 0.060185033398201554.\n",
      "[I 2025-05-01 08:46:37,392] Trial 195 finished with value: 0.06018503441321859 and parameters: {'alpha': 2.79612979119457, 'tol': 0.003755688155698357}. Best is trial 161 with value: 0.060185033398201554.\n",
      "[I 2025-05-01 08:46:39,554] Trial 196 finished with value: 0.06018503339953377 and parameters: {'alpha': 0.004855097506867429, 'tol': 0.0062076111017489435}. Best is trial 161 with value: 0.060185033398201554.\n",
      "[I 2025-05-01 08:46:42,442] Trial 197 finished with value: 0.060185033490462995 and parameters: {'alpha': 0.2552438079166666, 'tol': 0.006090273324027956}. Best is trial 161 with value: 0.060185033398201554.\n",
      "[I 2025-05-01 08:46:43,483] Trial 198 finished with value: 0.060185033414179696 and parameters: {'alpha': 0.04518410887331413, 'tol': 0.005391319148947536}. Best is trial 161 with value: 0.060185033398201554.\n",
      "[I 2025-05-01 08:46:55,709] Trial 199 finished with value: 0.06018503340467996 and parameters: {'alpha': 0.019024568977207897, 'tol': 0.006054052573126937}. Best is trial 161 with value: 0.060185033398201554.\n",
      "[I 2025-05-01 08:46:58,828] Trial 200 finished with value: 0.060185033439598 and parameters: {'alpha': 0.1151784358852268, 'tol': 0.005340872356658484}. Best is trial 161 with value: 0.060185033398201554.\n",
      "[I 2025-05-01 08:47:01,927] Trial 201 finished with value: 0.060185033424109996 and parameters: {'alpha': 0.07253104578929084, 'tol': 0.005072812681701313}. Best is trial 161 with value: 0.060185033398201554.\n",
      "[I 2025-05-01 08:47:01,949] Trial 202 finished with value: 0.060185033419754695 and parameters: {'alpha': 0.060534928569471624, 'tol': 0.005775065338203307}. Best is trial 161 with value: 0.060185033398201554.\n",
      "[I 2025-05-01 08:47:17,084] Trial 203 finished with value: 0.06018503405970402 and parameters: {'alpha': 1.8227148424573576, 'tol': 0.0050847737305953844}. Best is trial 161 with value: 0.060185033398201554.\n",
      "[I 2025-05-01 08:47:18,986] Trial 204 finished with value: 0.06018503395923511 and parameters: {'alpha': 1.5460662178750337, 'tol': 0.005857266877940928}. Best is trial 161 with value: 0.060185033398201554.\n",
      "[I 2025-05-01 08:47:22,038] Trial 205 finished with value: 0.06018503340076598 and parameters: {'alpha': 0.008244878370994444, 'tol': 0.006298790771260032}. Best is trial 161 with value: 0.060185033398201554.\n",
      "[I 2025-05-01 08:47:24,417] Trial 206 finished with value: 0.0601850339392179 and parameters: {'alpha': 1.49094871955658, 'tol': 0.006306147346509586}. Best is trial 161 with value: 0.060185033398201554.\n",
      "[I 2025-05-01 08:47:37,206] Trial 207 finished with value: 0.06018503404075837 and parameters: {'alpha': 1.7705494816300855, 'tol': 0.006257798446594342}. Best is trial 161 with value: 0.060185033398201554.\n",
      "[I 2025-05-01 08:47:40,748] Trial 208 finished with value: 0.060185033404485375 and parameters: {'alpha': 0.018489811738339777, 'tol': 0.006079218496184431}. Best is trial 161 with value: 0.060185033398201554.\n",
      "[I 2025-05-01 08:47:40,780] Trial 209 finished with value: 0.06018503391693326 and parameters: {'alpha': 1.4295829007814476, 'tol': 0.00624723978266857}. Best is trial 161 with value: 0.060185033398201554.\n",
      "[I 2025-05-01 08:47:46,926] Trial 210 finished with value: 0.060185033406203965 and parameters: {'alpha': 0.023223004827689134, 'tol': 0.006869593619411183}. Best is trial 161 with value: 0.060185033398201554.\n",
      "[I 2025-05-01 08:47:57,408] Trial 211 finished with value: 0.060185033472647954 and parameters: {'alpha': 0.2061865211749035, 'tol': 0.006554435963961698}. Best is trial 161 with value: 0.060185033398201554.\n",
      "[I 2025-05-01 08:47:59,392] Trial 212 finished with value: 0.06018503340508117 and parameters: {'alpha': 0.02012681592027757, 'tol': 0.005294123053731096}. Best is trial 161 with value: 0.060185033398201554.\n",
      "[I 2025-05-01 08:48:00,454] Trial 213 finished with value: 0.060185033497717894 and parameters: {'alpha': 0.2752196920859719, 'tol': 0.006648348472858445}. Best is trial 161 with value: 0.060185033398201554.\n",
      "[I 2025-05-01 08:48:06,357] Trial 214 finished with value: 0.06018503342846123 and parameters: {'alpha': 0.08451004907199072, 'tol': 0.005709559676566781}. Best is trial 161 with value: 0.060185033398201554.\n",
      "[I 2025-05-01 08:48:16,413] Trial 215 finished with value: 0.06018503339826453 and parameters: {'alpha': 0.001357048691163553, 'tol': 0.0070015717252606725}. Best is trial 161 with value: 0.060185033398201554.\n",
      "[I 2025-05-01 08:48:18,664] Trial 216 finished with value: 0.060185033446187 and parameters: {'alpha': 0.13332107290338668, 'tol': 0.003582968464422052}. Best is trial 161 with value: 0.060185033398201554.\n",
      "[I 2025-05-01 08:48:19,649] Trial 217 finished with value: 0.060185036768910884 and parameters: {'alpha': 9.28202698326388, 'tol': 8.12418510424415e-05}. Best is trial 161 with value: 0.060185033398201554.\n",
      "[I 2025-05-01 08:48:25,865] Trial 218 finished with value: 0.06018503341547478 and parameters: {'alpha': 0.04874906709087784, 'tol': 0.005121078306500675}. Best is trial 161 with value: 0.060185033398201554.\n",
      "[I 2025-05-01 08:48:36,960] Trial 219 finished with value: 0.060185033946783574 and parameters: {'alpha': 1.5117809516045784, 'tol': 0.004106956549252597}. Best is trial 161 with value: 0.060185033398201554.\n",
      "[I 2025-05-01 08:48:39,012] Trial 220 finished with value: 0.06018503397853361 and parameters: {'alpha': 1.5992057896167415, 'tol': 0.0043816886713085885}. Best is trial 161 with value: 0.060185033398201554.\n",
      "[I 2025-05-01 08:48:39,944] Trial 221 finished with value: 0.06018503345052942 and parameters: {'alpha': 0.14527914421252106, 'tol': 0.004969689275287555}. Best is trial 161 with value: 0.060185033398201554.\n",
      "[I 2025-05-01 08:48:45,784] Trial 222 finished with value: 0.06018503402978223 and parameters: {'alpha': 1.7403235606446974, 'tol': 0.004816857817593192}. Best is trial 161 with value: 0.060185033398201554.\n",
      "[I 2025-05-01 08:48:56,353] Trial 223 finished with value: 0.06018503344618393 and parameters: {'alpha': 0.13331240221775523, 'tol': 0.005269796881685965}. Best is trial 161 with value: 0.060185033398201554.\n",
      "[I 2025-05-01 08:48:57,658] Trial 224 finished with value: 0.06018503343332507 and parameters: {'alpha': 0.09790387883576596, 'tol': 0.006000929008390694}. Best is trial 161 with value: 0.060185033398201554.\n",
      "[I 2025-05-01 08:49:00,655] Trial 225 finished with value: 0.06018503342987542 and parameters: {'alpha': 0.08840517538081406, 'tol': 0.007025476094685484}. Best is trial 161 with value: 0.060185033398201554.\n",
      "[I 2025-05-01 08:49:06,946] Trial 226 finished with value: 0.0601850334684163 and parameters: {'alpha': 0.1945349551065854, 'tol': 0.006366933359655578}. Best is trial 161 with value: 0.060185033398201554.\n",
      "[I 2025-05-01 08:49:15,241] Trial 227 finished with value: 0.060185033481301 and parameters: {'alpha': 0.2300156643693837, 'tol': 0.006831524723444496}. Best is trial 161 with value: 0.060185033398201554.\n",
      "[I 2025-05-01 08:49:20,134] Trial 228 finished with value: 0.06018503345119341 and parameters: {'alpha': 0.14710783055330628, 'tol': 0.006828208901786971}. Best is trial 161 with value: 0.060185033398201554.\n",
      "[I 2025-05-01 08:49:20,157] Trial 229 finished with value: 0.060185033450318705 and parameters: {'alpha': 0.1446976182987064, 'tol': 0.00667687691579054}. Best is trial 161 with value: 0.060185033398201554.\n",
      "[I 2025-05-01 08:49:26,256] Trial 230 finished with value: 0.0601850338935505 and parameters: {'alpha': 1.3651948538812735, 'tol': 0.006896364144341396}. Best is trial 161 with value: 0.060185033398201554.\n",
      "[I 2025-05-01 08:49:37,254] Trial 231 finished with value: 0.0601850334415314 and parameters: {'alpha': 0.12050278458287425, 'tol': 0.006748626810073601}. Best is trial 161 with value: 0.060185033398201554.\n",
      "[I 2025-05-01 08:49:39,106] Trial 232 finished with value: 0.06018503343328353 and parameters: {'alpha': 0.09778986437064499, 'tol': 0.006927074259722303}. Best is trial 161 with value: 0.060185033398201554.\n",
      "[I 2025-05-01 08:49:40,892] Trial 233 finished with value: 0.06018503394052853 and parameters: {'alpha': 1.4945568144565269, 'tol': 0.006304218271974673}. Best is trial 161 with value: 0.060185033398201554.\n",
      "[I 2025-05-01 08:49:46,922] Trial 234 finished with value: 0.06018503394218186 and parameters: {'alpha': 1.4991110867006578, 'tol': 0.006425454965495735}. Best is trial 161 with value: 0.060185033398201554.\n",
      "[I 2025-05-01 08:49:57,126] Trial 235 finished with value: 0.0601850334772011 and parameters: {'alpha': 0.21872366863873718, 'tol': 0.00681518604109608}. Best is trial 161 with value: 0.060185033398201554.\n",
      "[I 2025-05-01 08:49:59,261] Trial 236 finished with value: 0.060185033969018704 and parameters: {'alpha': 1.5730071200168563, 'tol': 0.00697584538776515}. Best is trial 161 with value: 0.060185033398201554.\n",
      "[I 2025-05-01 08:50:01,250] Trial 237 finished with value: 0.06018503341405355 and parameters: {'alpha': 0.04483608823475203, 'tol': 0.004839740333923837}. Best is trial 161 with value: 0.060185033398201554.\n",
      "[I 2025-05-01 08:50:05,929] Trial 238 finished with value: 0.06018503346467805 and parameters: {'alpha': 0.1842388462220284, 'tol': 0.006025561333107138}. Best is trial 161 with value: 0.060185033398201554.\n",
      "[I 2025-05-01 08:50:16,393] Trial 239 finished with value: 0.060185033429651 and parameters: {'alpha': 0.08778773722026942, 'tol': 0.0052865373536319675}. Best is trial 161 with value: 0.060185033398201554.\n",
      "[I 2025-05-01 08:50:19,602] Trial 240 finished with value: 0.06018503340796842 and parameters: {'alpha': 0.028080078642563466, 'tol': 0.005819239602912902}. Best is trial 161 with value: 0.060185033398201554.\n",
      "[I 2025-05-01 08:50:21,412] Trial 241 finished with value: 0.060185033398327946 and parameters: {'alpha': 0.0015346680317700132, 'tol': 0.007147194825479991}. Best is trial 161 with value: 0.060185033398201554.\n",
      "[I 2025-05-01 08:50:27,658] Trial 242 finished with value: 0.0601850334012022 and parameters: {'alpha': 0.009448963874808734, 'tol': 0.006363714194112498}. Best is trial 161 with value: 0.060185033398201554.\n",
      "[I 2025-05-01 08:50:36,160] Trial 243 finished with value: 0.060185033398885875 and parameters: {'alpha': 0.003068491288720822, 'tol': 0.007068245045668193}. Best is trial 161 with value: 0.060185033398201554.\n",
      "[I 2025-05-01 08:50:39,152] Trial 244 finished with value: 0.060185033471307214 and parameters: {'alpha': 0.20249455573044065, 'tol': 0.006449402867560868}. Best is trial 161 with value: 0.060185033398201554.\n",
      "[I 2025-05-01 08:50:41,084] Trial 245 finished with value: 0.060185033425891356 and parameters: {'alpha': 0.07743326780051155, 'tol': 0.006160655177658595}. Best is trial 161 with value: 0.060185033398201554.\n",
      "[I 2025-05-01 08:50:48,113] Trial 246 finished with value: 0.06018503344194927 and parameters: {'alpha': 0.12165132484440061, 'tol': 0.007193145643444878}. Best is trial 161 with value: 0.060185033398201554.\n",
      "[I 2025-05-01 08:50:53,270] Trial 247 finished with value: 0.06018503350559045 and parameters: {'alpha': 0.2968957499910798, 'tol': 0.0074059206110725995}. Best is trial 161 with value: 0.060185033398201554.\n",
      "[I 2025-05-01 08:50:57,348] Trial 249 finished with value: 0.06018503344945822 and parameters: {'alpha': 0.14233074597035344, 'tol': 0.007600653375377907}. Best is trial 161 with value: 0.060185033398201554.\n",
      "[I 2025-05-01 08:50:57,359] Trial 248 finished with value: 0.06018503341403437 and parameters: {'alpha': 0.04478210045132915, 'tol': 0.0067565616922954114}. Best is trial 161 with value: 0.060185033398201554.\n"
     ]
    }
   ],
   "source": [
    "def objective(trial):    \n",
    "    params = {\n",
    "        \"random_state\": CFG.seed,\n",
    "        \"alpha\": trial.suggest_float(\"alpha\", 0, 10),\n",
    "        \"tol\": trial.suggest_float(\"tol\", 1e-6, 1e-2)\n",
    "    }\n",
    "    \n",
    "    trainer = Trainer(\n",
    "        Ridge(**params),\n",
    "        cv=KFold(n_splits=CFG.n_folds, random_state=CFG.seed, shuffle=True),\n",
    "        metric=CFG.metric,\n",
    "        task=\"regression\",\n",
    "        verbose=False\n",
    "    )\n",
    "    trainer.fit(X, y)\n",
    "    \n",
    "    return trainer.overall_score\n",
    "\n",
    "if CFG.run_optuna:\n",
    "    sampler = optuna.samplers.TPESampler(seed=CFG.seed, multivariate=True)\n",
    "    study = optuna.create_study(direction=\"minimize\", sampler=sampler)\n",
    "    study.optimize(objective, n_trials=CFG.n_optuna_trials, n_jobs=-1, catch=(ValueError,))\n",
    "    best_params = study.best_params\n",
    "\n",
    "    ridge_params = {\n",
    "        \"random_state\": CFG.seed,\n",
    "        \"alpha\": best_params[\"alpha\"],\n",
    "        \"tol\": best_params[\"tol\"]\n",
    "    }\n",
    "else:\n",
    "    ridge_params = {\n",
    "        \"random_state\": CFG.seed\n",
    "    }"
   ]
  },
  {
   "cell_type": "code",
   "execution_count": 23,
   "id": "6a9198a2",
   "metadata": {
    "execution": {
     "iopub.execute_input": "2025-05-01T08:50:57.441082Z",
     "iopub.status.busy": "2025-05-01T08:50:57.440601Z",
     "iopub.status.idle": "2025-05-01T08:50:57.446876Z",
     "shell.execute_reply": "2025-05-01T08:50:57.445786Z"
    },
    "papermill": {
     "duration": 0.042968,
     "end_time": "2025-05-01T08:50:57.448617",
     "exception": false,
     "start_time": "2025-05-01T08:50:57.405649",
     "status": "completed"
    },
    "tags": []
   },
   "outputs": [
    {
     "name": "stdout",
     "output_type": "stream",
     "text": [
      "{\n",
      "  \"random_state\": 42,\n",
      "  \"alpha\": 0.0011846838674783545,\n",
      "  \"tol\": 0.006567771135338089\n",
      "}\n"
     ]
    }
   ],
   "source": [
    "print(json.dumps(ridge_params, indent=2))"
   ]
  },
  {
   "cell_type": "code",
   "execution_count": 24,
   "id": "9f98a05a",
   "metadata": {
    "execution": {
     "iopub.execute_input": "2025-05-01T08:50:57.515424Z",
     "iopub.status.busy": "2025-05-01T08:50:57.514836Z",
     "iopub.status.idle": "2025-05-01T08:51:02.472253Z",
     "shell.execute_reply": "2025-05-01T08:51:02.471319Z"
    },
    "papermill": {
     "duration": 4.992763,
     "end_time": "2025-05-01T08:51:02.474040",
     "exception": false,
     "start_time": "2025-05-01T08:50:57.481277",
     "status": "completed"
    },
    "tags": []
   },
   "outputs": [
    {
     "name": "stdout",
     "output_type": "stream",
     "text": [
      "Training Ridge\n",
      "\n",
      "--- Fold 0 - root_mean_squared_log_error: 0.0599 - Time: 0.17 s\n",
      "--- Fold 1 - root_mean_squared_log_error: 0.0605 - Time: 0.13 s\n",
      "--- Fold 2 - root_mean_squared_log_error: 0.0597 - Time: 0.12 s\n",
      "--- Fold 3 - root_mean_squared_log_error: 0.0610 - Time: 0.12 s\n",
      "--- Fold 4 - root_mean_squared_log_error: 0.0599 - Time: 0.12 s\n",
      "\n",
      "------ Overall root_mean_squared_log_error: 0.0602 - Mean root_mean_squared_log_error: 0.0602 ± 0.0005 - Time: 4.92 s\n"
     ]
    }
   ],
   "source": [
    "ridge_trainer = Trainer(\n",
    "    Ridge(**ridge_params),\n",
    "    cv=KFold(n_splits=CFG.n_folds, random_state=CFG.seed, shuffle=True),\n",
    "    metric=CFG.metric,\n",
    "    task=\"regression\"\n",
    ")\n",
    "\n",
    "ridge_trainer.fit(X, y)\n",
    "\n",
    "scores[\"Ridge (ensemble)\"] = ridge_trainer.fold_scores\n",
    "ridge_test_preds = ridge_trainer.predict(X_test)"
   ]
  },
  {
   "cell_type": "code",
   "execution_count": 25,
   "id": "561fb6f4",
   "metadata": {
    "execution": {
     "iopub.execute_input": "2025-05-01T08:51:02.536305Z",
     "iopub.status.busy": "2025-05-01T08:51:02.535938Z",
     "iopub.status.idle": "2025-05-01T08:51:02.814600Z",
     "shell.execute_reply": "2025-05-01T08:51:02.813434Z"
    },
    "papermill": {
     "duration": 0.311289,
     "end_time": "2025-05-01T08:51:02.816282",
     "exception": false,
     "start_time": "2025-05-01T08:51:02.504993",
     "status": "completed"
    },
    "tags": []
   },
   "outputs": [
    {
     "data": {
      "image/png": "[encoded data removed]",
      "text/plain": [
       "<Figure size 1000x350 with 1 Axes>"
      ]
     },
     "metadata": {},
     "output_type": "display_data"
    }
   ],
   "source": [
    "ridge_coeffs = np.zeros((1, X.shape[1]))\n",
    "for m in ridge_trainer.estimators:\n",
    "    ridge_coeffs += m.coef_\n",
    "ridge_coeffs = ridge_coeffs / len(ridge_trainer.estimators)\n",
    "\n",
    "plot_weights(ridge_coeffs, \"Ridge Coefficients\")"
   ]
  },
  {
   "cell_type": "markdown",
   "id": "f9f12258",
   "metadata": {
    "papermill": {
     "duration": 0.032909,
     "end_time": "2025-05-01T08:51:02.883827",
     "exception": false,
     "start_time": "2025-05-01T08:51:02.850918",
     "status": "completed"
    },
    "tags": []
   },
   "source": [
    "# Submission"
   ]
  },
  {
   "cell_type": "code",
   "execution_count": 26,
   "id": "0ef55553",
   "metadata": {
    "execution": {
     "iopub.execute_input": "2025-05-01T08:51:02.951819Z",
     "iopub.status.busy": "2025-05-01T08:51:02.951456Z",
     "iopub.status.idle": "2025-05-01T08:51:03.647130Z",
     "shell.execute_reply": "2025-05-01T08:51:03.646248Z"
    },
    "papermill": {
     "duration": 0.731983,
     "end_time": "2025-05-01T08:51:03.648925",
     "exception": false,
     "start_time": "2025-05-01T08:51:02.916942",
     "status": "completed"
    },
    "tags": []
   },
   "outputs": [
    {
     "data": {
      "text/html": [
       "<div>\n",
       "<style scoped>\n",
       "    .dataframe tbody tr th:only-of-type {\n",
       "        vertical-align: middle;\n",
       "    }\n",
       "\n",
       "    .dataframe tbody tr th {\n",
       "        vertical-align: top;\n",
       "    }\n",
       "\n",
       "    .dataframe thead th {\n",
       "        text-align: right;\n",
       "    }\n",
       "</style>\n",
       "<table border=\"1\" class=\"dataframe\">\n",
       "  <thead>\n",
       "    <tr style=\"text-align: right;\">\n",
       "      <th></th>\n",
       "      <th>id</th>\n",
       "      <th>Calories</th>\n",
       "    </tr>\n",
       "  </thead>\n",
       "  <tbody>\n",
       "    <tr>\n",
       "      <th>0</th>\n",
       "      <td>750000</td>\n",
       "      <td>27.208661</td>\n",
       "    </tr>\n",
       "    <tr>\n",
       "      <th>1</th>\n",
       "      <td>750001</td>\n",
       "      <td>108.078726</td>\n",
       "    </tr>\n",
       "    <tr>\n",
       "      <th>2</th>\n",
       "      <td>750002</td>\n",
       "      <td>87.296532</td>\n",
       "    </tr>\n",
       "    <tr>\n",
       "      <th>3</th>\n",
       "      <td>750003</td>\n",
       "      <td>125.706646</td>\n",
       "    </tr>\n",
       "    <tr>\n",
       "      <th>4</th>\n",
       "      <td>750004</td>\n",
       "      <td>76.145569</td>\n",
       "    </tr>\n",
       "  </tbody>\n",
       "</table>\n",
       "</div>"
      ],
      "text/plain": [
       "       id    Calories\n",
       "0  750000   27.208661\n",
       "1  750001  108.078726\n",
       "2  750002   87.296532\n",
       "3  750003  125.706646\n",
       "4  750004   76.145569"
      ]
     },
     "execution_count": 26,
     "metadata": {},
     "output_type": "execute_result"
    }
   ],
   "source": [
    "sub = pd.read_csv(CFG.sample_sub_path)\n",
    "sub[CFG.target] = ridge_test_preds\n",
    "sub.to_csv(f\"sub_ridge_{np.mean(scores['Ridge (ensemble)']):.6f}.csv\", index=False)\n",
    "sub.head()"
   ]
  },
  {
   "cell_type": "markdown",
   "id": "b9b67483",
   "metadata": {
    "papermill": {
     "duration": 0.037361,
     "end_time": "2025-05-01T08:51:03.724212",
     "exception": false,
     "start_time": "2025-05-01T08:51:03.686851",
     "status": "completed"
    },
    "tags": []
   },
   "source": [
    "# Results"
   ]
  },
  {
   "cell_type": "code",
   "execution_count": 27,
   "id": "c928c9a9",
   "metadata": {
    "execution": {
     "iopub.execute_input": "2025-05-01T08:51:03.796990Z",
     "iopub.status.busy": "2025-05-01T08:51:03.796660Z",
     "iopub.status.idle": "2025-05-01T08:51:04.230157Z",
     "shell.execute_reply": "2025-05-01T08:51:04.228584Z"
    },
    "papermill": {
     "duration": 0.47258,
     "end_time": "2025-05-01T08:51:04.232282",
     "exception": false,
     "start_time": "2025-05-01T08:51:03.759702",
     "status": "completed"
    },
    "tags": []
   },
   "outputs": [
    {
     "data": {
      "image/png": "[encoded data removed]",
      "text/plain": [
       "<Figure size 1500x240 with 2 Axes>"
      ]
     },
     "metadata": {},
     "output_type": "display_data"
    }
   ],
   "source": [
    "scores = pd.DataFrame(scores)\n",
    "mean_scores = scores.mean().sort_values(ascending=True)\n",
    "order = scores.mean().sort_values(ascending=True).index.tolist()\n",
    "\n",
    "min_score = mean_scores.min()\n",
    "max_score = mean_scores.max()\n",
    "padding = (max_score - min_score) * 0.5\n",
    "lower_limit = min_score - padding\n",
    "upper_limit = max_score + padding\n",
    "\n",
    "fig, axs = plt.subplots(1, 2, figsize=(15, scores.shape[1] * 0.3))\n",
    "\n",
    "boxplot = sns.boxplot(data=scores, order=order, ax=axs[0], orient=\"h\", color=\"grey\")\n",
    "axs[0].set_title(f\"Fold {CFG.metric.__name__}\")\n",
    "axs[0].set_xlabel(\"\")\n",
    "axs[0].set_ylabel(\"\")\n",
    "\n",
    "barplot = sns.barplot(x=mean_scores.values, y=mean_scores.index, ax=axs[1], color=\"grey\")\n",
    "axs[1].set_title(f\"Average {CFG.metric.__name__}\")\n",
    "axs[1].set_xlabel(\"\")\n",
    "axs[1].set_xlim(left=lower_limit, right=upper_limit)\n",
    "axs[1].set_ylabel(\"\")\n",
    "\n",
    "for i, (score, model) in enumerate(zip(mean_scores.values, mean_scores.index)):\n",
    "    color = \"cyan\" if \"ensemble\" in model.lower() else \"grey\"\n",
    "    barplot.patches[i].set_facecolor(color)\n",
    "    boxplot.patches[i].set_facecolor(color)\n",
    "    barplot.text(score, i, round(score, 6), va=\"center\")\n",
    "\n",
    "plt.tight_layout()\n",
    "plt.show()"
   ]
  }
 ],
 "metadata": {
  "kaggle": {
   "accelerator": "none",
   "dataSources": [
    {
     "databundleVersionId": 11893428,
     "sourceId": 91716,
     "sourceType": "competition"
    }
   ],
   "dockerImageVersionId": 31012,
   "isGpuEnabled": false,
   "isInternetEnabled": true,
   "language": "python",
   "sourceType": "notebook"
  },
  "kernelspec": {
   "display_name": "Python 3",
   "language": "python",
   "name": "python3"
  },
  "language_info": {
   "codemirror_mode": {
    "name": "ipython",
    "version": 3
   },
   "file_extension": ".py",
   "mimetype": "text/x-python",
   "name": "python",
   "nbconvert_exporter": "python",
   "pygments_lexer": "ipython3",
   "version": "3.11.11"
  },
  "papermill": {
   "default_parameters": {},
   "duration": 8765.507433,
   "end_time": "2025-05-01T08:51:07.553053",
   "environment_variables": {},
   "exception": null,
   "input_path": "__notebook__.ipynb",
   "output_path": "__notebook__.ipynb",
   "parameters": {},
   "start_time": "2025-05-01T06:25:02.045620",
   "version": "2.6.0"
  }
 },
 "nbformat": 4,
 "nbformat_minor": 5
}
