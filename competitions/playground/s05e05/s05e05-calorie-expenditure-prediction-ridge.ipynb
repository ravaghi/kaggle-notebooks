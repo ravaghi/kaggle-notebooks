{
 "cells": [
  {
   "cell_type": "code",
   "execution_count": 1,
   "id": "52fe3634",
   "metadata": {
    "_kg_hide-output": true,
    "execution": {
     "iopub.execute_input": "2025-05-02T14:15:22.019026Z",
     "iopub.status.busy": "2025-05-02T14:15:22.018636Z",
     "iopub.status.idle": "2025-05-02T14:15:34.361672Z",
     "shell.execute_reply": "2025-05-02T14:15:34.360511Z"
    },
    "papermill": {
     "duration": 12.353199,
     "end_time": "2025-05-02T14:15:34.363812",
     "exception": false,
     "start_time": "2025-05-02T14:15:22.010613",
     "status": "completed"
    },
    "scrolled": true,
    "tags": []
   },
   "outputs": [
    {
     "name": "stdout",
     "output_type": "stream",
     "text": [
      "Requirement already satisfied: ydf in /usr/local/lib/python3.11/dist-packages (0.9.0)\r\n",
      "Collecting koolbox\r\n",
      "  Downloading koolbox-0.1.2-py3-none-any.whl.metadata (2.4 kB)\r\n",
      "Collecting scikit-learn==1.5.2\r\n",
      "  Downloading scikit_learn-1.5.2-cp311-cp311-manylinux_2_17_x86_64.manylinux2014_x86_64.whl.metadata (13 kB)\r\n",
      "Requirement already satisfied: numpy>=1.19.5 in /usr/local/lib/python3.11/dist-packages (from scikit-learn==1.5.2) (1.26.4)\r\n",
      "Requirement already satisfied: scipy>=1.6.0 in /usr/local/lib/python3.11/dist-packages (from scikit-learn==1.5.2) (1.15.2)\r\n",
      "Requirement already satisfied: joblib>=1.2.0 in /usr/local/lib/python3.11/dist-packages (from scikit-learn==1.5.2) (1.4.2)\r\n",
      "Requirement already satisfied: threadpoolctl>=3.1.0 in /usr/local/lib/python3.11/dist-packages (from scikit-learn==1.5.2) (3.6.0)\r\n",
      "Requirement already satisfied: absl_py in /usr/local/lib/python3.11/dist-packages (from ydf) (1.4.0)\r\n",
      "Requirement already satisfied: protobuf>=3.14 in /usr/local/lib/python3.11/dist-packages (from ydf) (3.20.3)\r\n",
      "Requirement already satisfied: pandas>=1.0.0 in /usr/local/lib/python3.11/dist-packages (from koolbox) (2.2.3)\r\n",
      "Requirement already satisfied: mkl_fft in /usr/local/lib/python3.11/dist-packages (from numpy>=1.19.5->scikit-learn==1.5.2) (1.3.8)\r\n",
      "Requirement already satisfied: mkl_random in /usr/local/lib/python3.11/dist-packages (from numpy>=1.19.5->scikit-learn==1.5.2) (1.2.4)\r\n",
      "Requirement already satisfied: mkl_umath in /usr/local/lib/python3.11/dist-packages (from numpy>=1.19.5->scikit-learn==1.5.2) (0.1.1)\r\n",
      "Requirement already satisfied: mkl in /usr/local/lib/python3.11/dist-packages (from numpy>=1.19.5->scikit-learn==1.5.2) (2025.1.0)\r\n",
      "Requirement already satisfied: tbb4py in /usr/local/lib/python3.11/dist-packages (from numpy>=1.19.5->scikit-learn==1.5.2) (2022.1.0)\r\n",
      "Requirement already satisfied: mkl-service in /usr/local/lib/python3.11/dist-packages (from numpy>=1.19.5->scikit-learn==1.5.2) (2.4.1)\r\n",
      "Requirement already satisfied: python-dateutil>=2.8.2 in /usr/local/lib/python3.11/dist-packages (from pandas>=1.0.0->koolbox) (2.9.0.post0)\r\n",
      "Requirement already satisfied: pytz>=2020.1 in /usr/local/lib/python3.11/dist-packages (from pandas>=1.0.0->koolbox) (2025.2)\r\n",
      "Requirement already satisfied: tzdata>=2022.7 in /usr/local/lib/python3.11/dist-packages (from pandas>=1.0.0->koolbox) (2025.2)\r\n",
      "Requirement already satisfied: six>=1.5 in /usr/local/lib/python3.11/dist-packages (from python-dateutil>=2.8.2->pandas>=1.0.0->koolbox) (1.17.0)\r\n",
      "Requirement already satisfied: intel-openmp<2026,>=2024 in /usr/local/lib/python3.11/dist-packages (from mkl->numpy>=1.19.5->scikit-learn==1.5.2) (2024.2.0)\r\n",
      "Requirement already satisfied: tbb==2022.* in /usr/local/lib/python3.11/dist-packages (from mkl->numpy>=1.19.5->scikit-learn==1.5.2) (2022.1.0)\r\n",
      "Requirement already satisfied: tcmlib==1.* in /usr/local/lib/python3.11/dist-packages (from tbb==2022.*->mkl->numpy>=1.19.5->scikit-learn==1.5.2) (1.2.0)\r\n",
      "Requirement already satisfied: intel-cmplr-lib-rt in /usr/local/lib/python3.11/dist-packages (from mkl_umath->numpy>=1.19.5->scikit-learn==1.5.2) (2024.2.0)\r\n",
      "Requirement already satisfied: intel-cmplr-lib-ur==2024.2.0 in /usr/local/lib/python3.11/dist-packages (from intel-openmp<2026,>=2024->mkl->numpy>=1.19.5->scikit-learn==1.5.2) (2024.2.0)\r\n",
      "Downloading scikit_learn-1.5.2-cp311-cp311-manylinux_2_17_x86_64.manylinux2014_x86_64.whl (13.3 MB)\r\n",
      "\u001b[2K   \u001b[90m━━━━━━━━━━━━━━━━━━━━━━━━━━━━━━━━━━━━━━━━\u001b[0m \u001b[32m13.3/13.3 MB\u001b[0m \u001b[31m78.9 MB/s\u001b[0m eta \u001b[36m0:00:00\u001b[0m\r\n",
      "\u001b[?25hDownloading koolbox-0.1.2-py3-none-any.whl (11 kB)\r\n",
      "Installing collected packages: scikit-learn, koolbox\r\n",
      "  Attempting uninstall: scikit-learn\r\n",
      "    Found existing installation: scikit-learn 1.2.2\r\n",
      "    Uninstalling scikit-learn-1.2.2:\r\n",
      "      Successfully uninstalled scikit-learn-1.2.2\r\n",
      "\u001b[31mERROR: pip's dependency resolver does not currently take into account all the packages that are installed. This behaviour is the source of the following dependency conflicts.\r\n",
      "bigframes 1.36.0 requires rich<14,>=12.4.4, but you have rich 14.0.0 which is incompatible.\u001b[0m\u001b[31m\r\n",
      "\u001b[0mSuccessfully installed koolbox-0.1.2 scikit-learn-1.5.2\r\n",
      "Collecting scikeras\r\n",
      "  Downloading scikeras-0.13.0-py3-none-any.whl.metadata (3.1 kB)\r\n",
      "Downloading scikeras-0.13.0-py3-none-any.whl (26 kB)\r\n",
      "Installing collected packages: scikeras\r\n",
      "Successfully installed scikeras-0.13.0\r\n"
     ]
    }
   ],
   "source": [
    "!pip install ydf koolbox scikit-learn==1.5.2 && pip install --no-deps scikeras"
   ]
  },
  {
   "cell_type": "markdown",
   "id": "63595471",
   "metadata": {
    "papermill": {
     "duration": 0.006287,
     "end_time": "2025-05-02T14:15:34.377587",
     "exception": false,
     "start_time": "2025-05-02T14:15:34.371300",
     "status": "completed"
    },
    "tags": []
   },
   "source": [
    "# Imports and configs"
   ]
  },
  {
   "cell_type": "code",
   "execution_count": 2,
   "id": "e9f2bebb",
   "metadata": {
    "_kg_hide-output": true,
    "execution": {
     "iopub.execute_input": "2025-05-02T14:15:34.393561Z",
     "iopub.status.busy": "2025-05-02T14:15:34.393201Z",
     "iopub.status.idle": "2025-05-02T14:16:02.225748Z",
     "shell.execute_reply": "2025-05-02T14:16:02.224391Z"
    },
    "papermill": {
     "duration": 27.842537,
     "end_time": "2025-05-02T14:16:02.228150",
     "exception": false,
     "start_time": "2025-05-02T14:15:34.385613",
     "status": "completed"
    },
    "tags": []
   },
   "outputs": [
    {
     "name": "stderr",
     "output_type": "stream",
     "text": [
      "2025-05-02 14:15:40.250855: E external/local_xla/xla/stream_executor/cuda/cuda_fft.cc:477] Unable to register cuFFT factory: Attempting to register factory for plugin cuFFT when one has already been registered\n",
      "WARNING: All log messages before absl::InitializeLog() is called are written to STDERR\n",
      "E0000 00:00:1746195340.499265      13 cuda_dnn.cc:8310] Unable to register cuDNN factory: Attempting to register factory for plugin cuDNN when one has already been registered\n",
      "E0000 00:00:1746195340.575088      13 cuda_blas.cc:1418] Unable to register cuBLAS factory: Attempting to register factory for plugin cuBLAS when one has already been registered\n"
     ]
    }
   ],
   "source": [
    "from sklearn.preprocessing import StandardScaler, OneHotEncoder\n",
    "from sklearn.feature_selection import mutual_info_regression\n",
    "from sklearn.ensemble import HistGradientBoostingRegressor\n",
    "from sklearn.base import BaseEstimator, RegressorMixin\n",
    "from sklearn.metrics import root_mean_squared_error\n",
    "from sklearn.compose import ColumnTransformer\n",
    "from sklearn.pipeline import make_pipeline\n",
    "from sklearn.model_selection import KFold\n",
    "from sklearn.linear_model import Ridge\n",
    "from scikeras.wrappers import KerasRegressor\n",
    "from lightgbm import LGBMRegressor, early_stopping, log_evaluation\n",
    "from ydf import GradientBoostedTreesLearner\n",
    "from catboost import CatBoostRegressor\n",
    "from xgboost import XGBRegressor\n",
    "from koolbox import Trainer\n",
    "import matplotlib.pyplot as plt\n",
    "import contextlib, io\n",
    "import seaborn as sns\n",
    "import pandas as pd\n",
    "import numpy as np\n",
    "import warnings\n",
    "import shutil\n",
    "import optuna\n",
    "import keras\n",
    "import json\n",
    "import glob\n",
    "import ydf\n",
    "\n",
    "ydf.verbose(2)\n",
    "warnings.filterwarnings(\"ignore\")"
   ]
  },
  {
   "cell_type": "code",
   "execution_count": 3,
   "id": "9a9248f3",
   "metadata": {
    "execution": {
     "iopub.execute_input": "2025-05-02T14:16:02.244701Z",
     "iopub.status.busy": "2025-05-02T14:16:02.243891Z",
     "iopub.status.idle": "2025-05-02T14:16:02.250010Z",
     "shell.execute_reply": "2025-05-02T14:16:02.248985Z"
    },
    "papermill": {
     "duration": 0.016181,
     "end_time": "2025-05-02T14:16:02.251904",
     "exception": false,
     "start_time": "2025-05-02T14:16:02.235723",
     "status": "completed"
    },
    "tags": []
   },
   "outputs": [],
   "source": [
    "class CFG:\n",
    "    train_path = \"/kaggle/input/playground-series-s5e5/train.csv\"\n",
    "    test_path = \"/kaggle/input/playground-series-s5e5/test.csv\"\n",
    "    sample_sub_path = \"/kaggle/input/playground-series-s5e5/sample_submission.csv\"\n",
    "\n",
    "    metric = root_mean_squared_error\n",
    "    target = \"Calories\"\n",
    "    n_folds = 5\n",
    "    seed = 42\n",
    "\n",
    "    cv = KFold(n_splits=n_folds, random_state=seed, shuffle=True)\n",
    "\n",
    "    run_optuna = True\n",
    "    n_optuna_trials = 250"
   ]
  },
  {
   "cell_type": "markdown",
   "id": "55e0e3ee",
   "metadata": {
    "papermill": {
     "duration": 0.006916,
     "end_time": "2025-05-02T14:16:02.265740",
     "exception": false,
     "start_time": "2025-05-02T14:16:02.258824",
     "status": "completed"
    },
    "tags": []
   },
   "source": [
    "# Data loading and preprocessing"
   ]
  },
  {
   "cell_type": "code",
   "execution_count": 4,
   "id": "33f45278",
   "metadata": {
    "execution": {
     "iopub.execute_input": "2025-05-02T14:16:02.281630Z",
     "iopub.status.busy": "2025-05-02T14:16:02.281248Z",
     "iopub.status.idle": "2025-05-02T14:16:03.636669Z",
     "shell.execute_reply": "2025-05-02T14:16:03.635557Z"
    },
    "papermill": {
     "duration": 1.365612,
     "end_time": "2025-05-02T14:16:03.639086",
     "exception": false,
     "start_time": "2025-05-02T14:16:02.273474",
     "status": "completed"
    },
    "tags": []
   },
   "outputs": [],
   "source": [
    "train = pd.read_csv(CFG.train_path, index_col=\"id\")\n",
    "test = pd.read_csv(CFG.test_path, index_col=\"id\")\n",
    "\n",
    "train[\"Sex\"] = train[\"Sex\"].map({\"male\": 0, \"female\": 1})\n",
    "test[\"Sex\"] = test[\"Sex\"].map({\"male\": 0, \"female\": 1})\n",
    "\n",
    "X = train.drop(CFG.target, axis=1)\n",
    "y = np.log1p(train[CFG.target])\n",
    "X_test = test"
   ]
  },
  {
   "cell_type": "code",
   "execution_count": 5,
   "id": "bc895b43",
   "metadata": {
    "execution": {
     "iopub.execute_input": "2025-05-02T14:16:03.657415Z",
     "iopub.status.busy": "2025-05-02T14:16:03.656582Z",
     "iopub.status.idle": "2025-05-02T14:17:33.675108Z",
     "shell.execute_reply": "2025-05-02T14:17:33.674104Z"
    },
    "papermill": {
     "duration": 90.035799,
     "end_time": "2025-05-02T14:17:33.683267",
     "exception": false,
     "start_time": "2025-05-02T14:16:03.647468",
     "status": "completed"
    },
    "tags": []
   },
   "outputs": [
    {
     "data": {
      "text/html": [
       "<style type=\"text/css\">\n",
       "#T_9ba05_row0_col0 {\n",
       "  width: 10em;\n",
       "  background: linear-gradient(90deg, #006837 100.0%, transparent 100.0%);\n",
       "}\n",
       "#T_9ba05_row1_col0 {\n",
       "  width: 10em;\n",
       "  background: linear-gradient(90deg, #afdd70 68.3%, transparent 68.3%);\n",
       "}\n",
       "#T_9ba05_row2_col0 {\n",
       "  width: 10em;\n",
       "  background: linear-gradient(90deg, #daf08d 59.6%, transparent 59.6%);\n",
       "}\n",
       "#T_9ba05_row3_col0 {\n",
       "  width: 10em;\n",
       "  background: linear-gradient(90deg, #c21c27 6.0%, transparent 6.0%);\n",
       "}\n",
       "#T_9ba05_row4_col0, #T_9ba05_row5_col0 {\n",
       "  width: 10em;\n",
       "  background: linear-gradient(90deg, #b50f26 3.4%, transparent 3.4%);\n",
       "}\n",
       "#T_9ba05_row6_col0 {\n",
       "  width: 10em;\n",
       "  background: linear-gradient(90deg, #a90426 1.0%, transparent 1.0%);\n",
       "}\n",
       "</style>\n",
       "<table id=\"T_9ba05\">\n",
       "  <thead>\n",
       "    <tr>\n",
       "      <th class=\"blank level0\" >&nbsp;</th>\n",
       "      <th id=\"T_9ba05_level0_col0\" class=\"col_heading level0 col0\" >Mutual Information</th>\n",
       "    </tr>\n",
       "  </thead>\n",
       "  <tbody>\n",
       "    <tr>\n",
       "      <th id=\"T_9ba05_level0_row0\" class=\"row_heading level0 row0\" >Duration</th>\n",
       "      <td id=\"T_9ba05_row0_col0\" class=\"data row0 col0\" >1.640567</td>\n",
       "    </tr>\n",
       "    <tr>\n",
       "      <th id=\"T_9ba05_level0_row1\" class=\"row_heading level0 row1\" >Body_Temp</th>\n",
       "      <td id=\"T_9ba05_row1_col0\" class=\"data row1 col0\" >1.120766</td>\n",
       "    </tr>\n",
       "    <tr>\n",
       "      <th id=\"T_9ba05_level0_row2\" class=\"row_heading level0 row2\" >Heart_Rate</th>\n",
       "      <td id=\"T_9ba05_row2_col0\" class=\"data row2 col0\" >0.976966</td>\n",
       "    </tr>\n",
       "    <tr>\n",
       "      <th id=\"T_9ba05_level0_row3\" class=\"row_heading level0 row3\" >Age</th>\n",
       "      <td id=\"T_9ba05_row3_col0\" class=\"data row3 col0\" >0.098387</td>\n",
       "    </tr>\n",
       "    <tr>\n",
       "      <th id=\"T_9ba05_level0_row4\" class=\"row_heading level0 row4\" >Height</th>\n",
       "      <td id=\"T_9ba05_row4_col0\" class=\"data row4 col0\" >0.056501</td>\n",
       "    </tr>\n",
       "    <tr>\n",
       "      <th id=\"T_9ba05_level0_row5\" class=\"row_heading level0 row5\" >Weight</th>\n",
       "      <td id=\"T_9ba05_row5_col0\" class=\"data row5 col0\" >0.055709</td>\n",
       "    </tr>\n",
       "    <tr>\n",
       "      <th id=\"T_9ba05_level0_row6\" class=\"row_heading level0 row6\" >Sex</th>\n",
       "      <td id=\"T_9ba05_row6_col0\" class=\"data row6 col0\" >0.017174</td>\n",
       "    </tr>\n",
       "  </tbody>\n",
       "</table>\n"
      ],
      "text/plain": [
       "<pandas.io.formats.style.Styler at 0x7c3cee73c890>"
      ]
     },
     "execution_count": 5,
     "metadata": {},
     "output_type": "execute_result"
    }
   ],
   "source": [
    "mutual_info = mutual_info_regression(X, y, random_state=CFG.seed)\n",
    "\n",
    "mutual_info = pd.Series(mutual_info)\n",
    "mutual_info.index = X.columns\n",
    "mutual_info = pd.DataFrame(mutual_info.sort_values(ascending=False), columns=['Mutual Information'])\n",
    "mutual_info.style.bar(subset=['Mutual Information'], cmap='RdYlGn')"
   ]
  },
  {
   "cell_type": "code",
   "execution_count": 6,
   "id": "16267932",
   "metadata": {
    "execution": {
     "iopub.execute_input": "2025-05-02T14:17:33.699476Z",
     "iopub.status.busy": "2025-05-02T14:17:33.698374Z",
     "iopub.status.idle": "2025-05-02T14:17:34.411251Z",
     "shell.execute_reply": "2025-05-02T14:17:34.410309Z"
    },
    "papermill": {
     "duration": 0.722873,
     "end_time": "2025-05-02T14:17:34.412996",
     "exception": false,
     "start_time": "2025-05-02T14:17:33.690123",
     "status": "completed"
    },
    "tags": []
   },
   "outputs": [
    {
     "data": {
      "image/png": "[encoded data removed]",
      "text/plain": [
       "<Figure size 800x800 with 2 Axes>"
      ]
     },
     "metadata": {},
     "output_type": "display_data"
    }
   ],
   "source": [
    "sns.set_style(\"white\")\n",
    "\n",
    "fig, ax = plt.subplots(figsize=(8, 8))\n",
    "\n",
    "corr_train = train.corr()\n",
    "mask_train = np.triu(np.ones_like(corr_train, dtype=bool), k=1)\n",
    "\n",
    "sns.heatmap(\n",
    "    data=corr_train,\n",
    "    annot=True,\n",
    "    fmt='.2f',\n",
    "    mask=mask_train,\n",
    "    square=True,\n",
    "    cmap='coolwarm',\n",
    "    cbar_kws={'shrink': .7, 'format': '%.2f'},   \n",
    "    annot_kws={'size': 8},\n",
    "    center=0,\n",
    "    ax=ax\n",
    ")\n",
    "\n",
    "ax.set_title('Train Correlation Matrix')\n",
    "ax.tick_params(axis='both', which='major', labelsize=8)\n",
    "plt.tight_layout()\n",
    "plt.show()"
   ]
  },
  {
   "cell_type": "markdown",
   "id": "3a7fd965",
   "metadata": {
    "papermill": {
     "duration": 0.007412,
     "end_time": "2025-05-02T14:17:34.428367",
     "exception": false,
     "start_time": "2025-05-02T14:17:34.420955",
     "status": "completed"
    },
    "tags": []
   },
   "source": [
    "# Training base models"
   ]
  },
  {
   "cell_type": "code",
   "execution_count": 7,
   "id": "be3763fc",
   "metadata": {
    "_kg_hide-input": true,
    "_kg_hide-output": true,
    "execution": {
     "iopub.execute_input": "2025-05-02T14:17:34.445433Z",
     "iopub.status.busy": "2025-05-02T14:17:34.445097Z",
     "iopub.status.idle": "2025-05-02T14:17:34.454400Z",
     "shell.execute_reply": "2025-05-02T14:17:34.453384Z"
    },
    "papermill": {
     "duration": 0.020057,
     "end_time": "2025-05-02T14:17:34.456098",
     "exception": false,
     "start_time": "2025-05-02T14:17:34.436041",
     "status": "completed"
    },
    "tags": []
   },
   "outputs": [],
   "source": [
    "histgb_params = {\n",
    "    \"l2_regularization\": 10.412017522533768,\n",
    "    \"learning_rate\": 0.011702680619474444,\n",
    "    \"max_depth\": 59,\n",
    "    \"max_features\": 0.30616140080552673,\n",
    "    \"max_iter\": 4454,\n",
    "    \"max_leaf_nodes\": 385,\n",
    "    \"min_samples_leaf\": 50,\n",
    "    \"random_state\": 42\n",
    "}\n",
    "\n",
    "lgbm_params = {\n",
    "    \"boosting_type\": \"gbdt\",\n",
    "    \"colsample_bytree\": 0.8213924491907012,\n",
    "    \"learning_rate\": 0.059976685297931195,\n",
    "    \"min_child_samples\": 10,\n",
    "    \"min_child_weight\": 0.5425237767880097,\n",
    "    \"n_estimators\": 50000,\n",
    "    \"n_jobs\": -1,\n",
    "    \"num_leaves\": 89,\n",
    "    \"random_state\": 42,\n",
    "    \"reg_alpha\": 2.0325709613371545,\n",
    "    \"reg_lambda\": 87.27971117911044,\n",
    "    \"subsample\": 0.6452823633939004,\n",
    "    \"verbose\": -1\n",
    "}\n",
    "\n",
    "lgbm_goss_params = {\n",
    "    \"boosting_type\": \"goss\",\n",
    "    \"colsample_bytree\": 0.9068724002629094,\n",
    "    \"learning_rate\": 0.06459027654473874,\n",
    "    \"min_child_samples\": 39,\n",
    "    \"min_child_weight\": 0.5337673729810578,\n",
    "    \"n_estimators\": 50000,\n",
    "    \"n_jobs\": -1,\n",
    "    \"num_leaves\": 13,\n",
    "    \"random_state\": 42,\n",
    "    \"reg_alpha\": 1.603969498256519,\n",
    "    \"reg_lambda\": 10.806488455621444,\n",
    "    \"subsample\": 0.5966412222358356,\n",
    "    \"verbose\": -1\n",
    "}\n",
    "\n",
    "xgb_params = {\n",
    "    \"colsample_bylevel\": 0.8606487417581108,\n",
    "    \"colsample_bynode\": 0.9410596660335436,\n",
    "    \"colsample_bytree\": 0.9407540036296737,\n",
    "    \"early_stopping_rounds\": 100,\n",
    "    \"eval_metric\": \"rmse\",\n",
    "    \"gamma\": 0.023260595738991977,\n",
    "    \"learning_rate\": 0.03669372905801298,\n",
    "    \"max_depth\": 11,\n",
    "    \"max_leaves\": 51,\n",
    "    \"min_child_weight\": 96,\n",
    "    \"n_estimators\": 50000,\n",
    "    \"n_jobs\": -1,\n",
    "    \"random_state\": 42,\n",
    "    \"reg_alpha\": 2.953205886504917,\n",
    "    \"reg_lambda\": 67.64147033446291,\n",
    "    \"subsample\": 0.6973241930754311,\n",
    "    \"verbosity\": 0\n",
    "}\n",
    "\n",
    "cb_params = {\n",
    "    \"border_count\": 88,\n",
    "    \"colsample_bylevel\": 0.7903437608890396,\n",
    "    \"depth\": 8,\n",
    "    \"eval_metric\": \"RMSE\",\n",
    "    \"iterations\": 50000,\n",
    "    \"l2_leaf_reg\": 6.065104074215131,\n",
    "    \"learning_rate\": 0.030946464122148992,\n",
    "    \"min_child_samples\": 138,\n",
    "    \"random_state\": 42,\n",
    "    \"random_strength\": 0.035251008593976785,\n",
    "    \"verbose\": False\n",
    "}\n",
    "\n",
    "ydf_params = {\n",
    "    \"num_trees\": 800,\n",
    "    \"max_depth\": 7\n",
    "}"
   ]
  },
  {
   "cell_type": "code",
   "execution_count": 8,
   "id": "b23193e0",
   "metadata": {
    "execution": {
     "iopub.execute_input": "2025-05-02T14:17:34.473511Z",
     "iopub.status.busy": "2025-05-02T14:17:34.473122Z",
     "iopub.status.idle": "2025-05-02T14:17:34.477779Z",
     "shell.execute_reply": "2025-05-02T14:17:34.476839Z"
    },
    "papermill": {
     "duration": 0.015133,
     "end_time": "2025-05-02T14:17:34.479220",
     "exception": false,
     "start_time": "2025-05-02T14:17:34.464087",
     "status": "completed"
    },
    "tags": []
   },
   "outputs": [],
   "source": [
    "scores = {}\n",
    "oof_preds = {}\n",
    "test_preds = {}"
   ]
  },
  {
   "cell_type": "markdown",
   "id": "c9dfa0b3",
   "metadata": {
    "papermill": {
     "duration": 0.007512,
     "end_time": "2025-05-02T14:17:34.494655",
     "exception": false,
     "start_time": "2025-05-02T14:17:34.487143",
     "status": "completed"
    },
    "tags": []
   },
   "source": [
    "## HistGradientBoosting"
   ]
  },
  {
   "cell_type": "code",
   "execution_count": 9,
   "id": "6ed06e98",
   "metadata": {
    "execution": {
     "iopub.execute_input": "2025-05-02T14:17:34.512036Z",
     "iopub.status.busy": "2025-05-02T14:17:34.511107Z",
     "iopub.status.idle": "2025-05-02T14:25:22.884720Z",
     "shell.execute_reply": "2025-05-02T14:25:22.883566Z"
    },
    "papermill": {
     "duration": 468.384463,
     "end_time": "2025-05-02T14:25:22.886705",
     "exception": false,
     "start_time": "2025-05-02T14:17:34.502242",
     "status": "completed"
    },
    "tags": []
   },
   "outputs": [
    {
     "name": "stdout",
     "output_type": "stream",
     "text": [
      "Training HistGradientBoostingRegressor\n",
      "\n",
      "--- Fold 0 - root_mean_squared_error: 0.0596 - Time: 79.36 s\n",
      "--- Fold 1 - root_mean_squared_error: 0.0605 - Time: 75.57 s\n",
      "--- Fold 2 - root_mean_squared_error: 0.0597 - Time: 75.95 s\n",
      "--- Fold 3 - root_mean_squared_error: 0.0601 - Time: 74.54 s\n",
      "--- Fold 4 - root_mean_squared_error: 0.0593 - Time: 81.46 s\n",
      "\n",
      "------ Overall root_mean_squared_error: 0.0599 - Mean root_mean_squared_error: 0.0599 ± 0.0004 - Time: 388.63 s\n"
     ]
    }
   ],
   "source": [
    "histgb_trainer = Trainer(\n",
    "    HistGradientBoostingRegressor(**histgb_params),\n",
    "    cv=CFG.cv,\n",
    "    metric=CFG.metric,\n",
    "    task=\"regression\"\n",
    ")\n",
    "\n",
    "histgb_trainer.fit(X, y)\n",
    "\n",
    "scores[\"HistGB\"] = histgb_trainer.fold_scores\n",
    "oof_preds[\"HistGB\"] = histgb_trainer.oof_preds\n",
    "test_preds[\"HistGB\"] = histgb_trainer.predict(X_test)"
   ]
  },
  {
   "cell_type": "markdown",
   "id": "1505697c",
   "metadata": {
    "papermill": {
     "duration": 0.00787,
     "end_time": "2025-05-02T14:25:22.903717",
     "exception": false,
     "start_time": "2025-05-02T14:25:22.895847",
     "status": "completed"
    },
    "tags": []
   },
   "source": [
    "## LightGBM (gbdt)"
   ]
  },
  {
   "cell_type": "code",
   "execution_count": 10,
   "id": "9c9884aa",
   "metadata": {
    "execution": {
     "iopub.execute_input": "2025-05-02T14:25:22.923673Z",
     "iopub.status.busy": "2025-05-02T14:25:22.922747Z",
     "iopub.status.idle": "2025-05-02T14:29:53.568937Z",
     "shell.execute_reply": "2025-05-02T14:29:53.568050Z"
    },
    "papermill": {
     "duration": 270.658797,
     "end_time": "2025-05-02T14:29:53.570808",
     "exception": false,
     "start_time": "2025-05-02T14:25:22.912011",
     "status": "completed"
    },
    "tags": []
   },
   "outputs": [
    {
     "name": "stdout",
     "output_type": "stream",
     "text": [
      "Training LGBMRegressor\n",
      "\n",
      "Training until validation scores don't improve for 100 rounds\n",
      "[1000]\tvalid_0's rmse: 0.0596298\tvalid_0's l2: 0.00355572\n",
      "Early stopping, best iteration is:\n",
      "[1007]\tvalid_0's rmse: 0.0596274\tvalid_0's l2: 0.00355543\n",
      "--- Fold 0 - root_mean_squared_error: 0.0596 - Time: 33.27 s\n",
      "\n",
      "Training until validation scores don't improve for 100 rounds\n",
      "[1000]\tvalid_0's rmse: 0.0603377\tvalid_0's l2: 0.00364064\n",
      "Early stopping, best iteration is:\n",
      "[1275]\tvalid_0's rmse: 0.0602791\tvalid_0's l2: 0.00363357\n",
      "--- Fold 1 - root_mean_squared_error: 0.0603 - Time: 38.42 s\n",
      "\n",
      "Training until validation scores don't improve for 100 rounds\n",
      "[1000]\tvalid_0's rmse: 0.0595912\tvalid_0's l2: 0.00355112\n",
      "Early stopping, best iteration is:\n",
      "[1428]\tvalid_0's rmse: 0.0595689\tvalid_0's l2: 0.00354846\n",
      "--- Fold 2 - root_mean_squared_error: 0.0596 - Time: 41.16 s\n",
      "\n",
      "Training until validation scores don't improve for 100 rounds\n",
      "[1000]\tvalid_0's rmse: 0.0601792\tvalid_0's l2: 0.00362153\n",
      "[2000]\tvalid_0's rmse: 0.0600036\tvalid_0's l2: 0.00360044\n",
      "Early stopping, best iteration is:\n",
      "[2034]\tvalid_0's rmse: 0.0600013\tvalid_0's l2: 0.00360015\n",
      "--- Fold 3 - root_mean_squared_error: 0.0600 - Time: 56.39 s\n",
      "\n",
      "Training until validation scores don't improve for 100 rounds\n",
      "[1000]\tvalid_0's rmse: 0.0594094\tvalid_0's l2: 0.00352948\n",
      "Early stopping, best iteration is:\n",
      "[971]\tvalid_0's rmse: 0.0594067\tvalid_0's l2: 0.00352916\n",
      "--- Fold 4 - root_mean_squared_error: 0.0594 - Time: 30.61 s\n",
      "\n",
      "\n",
      "------ Overall root_mean_squared_error: 0.0598 - Mean root_mean_squared_error: 0.0598 ± 0.0003 - Time: 201.63 s\n"
     ]
    }
   ],
   "source": [
    "lgbm_trainer = Trainer(\n",
    "    LGBMRegressor(**lgbm_params),\n",
    "    cv=CFG.cv,\n",
    "    metric=CFG.metric,\n",
    "    use_early_stopping=True,\n",
    "    task=\"regression\"\n",
    ")\n",
    "\n",
    "fit_args = {\n",
    "    \"eval_metric\": \"rmse\",\n",
    "    \"callbacks\": [\n",
    "        log_evaluation(period=1000), \n",
    "        early_stopping(stopping_rounds=100)\n",
    "    ]\n",
    "}\n",
    "\n",
    "lgbm_trainer.fit(X, y, fit_args=fit_args)\n",
    "\n",
    "scores[\"LightGBM (gbdt)\"] = lgbm_trainer.fold_scores\n",
    "oof_preds[\"LightGBM (gbdt)\"] = lgbm_trainer.oof_preds\n",
    "test_preds[\"LightGBM (gbdt)\"] = lgbm_trainer.predict(X_test)"
   ]
  },
  {
   "cell_type": "markdown",
   "id": "06b2e84e",
   "metadata": {
    "papermill": {
     "duration": 0.009058,
     "end_time": "2025-05-02T14:29:53.589723",
     "exception": false,
     "start_time": "2025-05-02T14:29:53.580665",
     "status": "completed"
    },
    "tags": []
   },
   "source": [
    "## LightGBM (goss)"
   ]
  },
  {
   "cell_type": "code",
   "execution_count": 11,
   "id": "058d740b",
   "metadata": {
    "execution": {
     "iopub.execute_input": "2025-05-02T14:29:53.609770Z",
     "iopub.status.busy": "2025-05-02T14:29:53.609412Z",
     "iopub.status.idle": "2025-05-02T14:39:01.581853Z",
     "shell.execute_reply": "2025-05-02T14:39:01.580859Z"
    },
    "papermill": {
     "duration": 547.984581,
     "end_time": "2025-05-02T14:39:01.583691",
     "exception": false,
     "start_time": "2025-05-02T14:29:53.599110",
     "status": "completed"
    },
    "tags": []
   },
   "outputs": [
    {
     "name": "stdout",
     "output_type": "stream",
     "text": [
      "Training LGBMRegressor\n",
      "\n",
      "Training until validation scores don't improve for 100 rounds\n",
      "[1000]\tvalid_0's rmse: 0.0600119\tvalid_0's l2: 0.00360142\n",
      "[2000]\tvalid_0's rmse: 0.0596893\tvalid_0's l2: 0.00356281\n",
      "[3000]\tvalid_0's rmse: 0.0596226\tvalid_0's l2: 0.00355485\n",
      "Early stopping, best iteration is:\n",
      "[3409]\tvalid_0's rmse: 0.0596052\tvalid_0's l2: 0.00355278\n",
      "--- Fold 0 - root_mean_squared_error: 0.0596 - Time: 99.50 s\n",
      "\n",
      "Training until validation scores don't improve for 100 rounds\n",
      "[1000]\tvalid_0's rmse: 0.0607722\tvalid_0's l2: 0.00369326\n",
      "[2000]\tvalid_0's rmse: 0.0603717\tvalid_0's l2: 0.00364474\n",
      "[3000]\tvalid_0's rmse: 0.0602773\tvalid_0's l2: 0.00363336\n",
      "Early stopping, best iteration is:\n",
      "[3393]\tvalid_0's rmse: 0.0602635\tvalid_0's l2: 0.00363169\n",
      "--- Fold 1 - root_mean_squared_error: 0.0603 - Time: 95.90 s\n",
      "\n",
      "Training until validation scores don't improve for 100 rounds\n",
      "[1000]\tvalid_0's rmse: 0.0601257\tvalid_0's l2: 0.0036151\n",
      "[2000]\tvalid_0's rmse: 0.0597138\tvalid_0's l2: 0.00356574\n",
      "[3000]\tvalid_0's rmse: 0.0595761\tvalid_0's l2: 0.00354932\n",
      "Early stopping, best iteration is:\n",
      "[3010]\tvalid_0's rmse: 0.0595738\tvalid_0's l2: 0.00354904\n",
      "--- Fold 2 - root_mean_squared_error: 0.0596 - Time: 86.61 s\n",
      "\n",
      "Training until validation scores don't improve for 100 rounds\n",
      "[1000]\tvalid_0's rmse: 0.0606\tvalid_0's l2: 0.00367236\n",
      "[2000]\tvalid_0's rmse: 0.0602136\tvalid_0's l2: 0.00362568\n",
      "[3000]\tvalid_0's rmse: 0.0600691\tvalid_0's l2: 0.0036083\n",
      "Early stopping, best iteration is:\n",
      "[3414]\tvalid_0's rmse: 0.0600284\tvalid_0's l2: 0.00360341\n",
      "--- Fold 3 - root_mean_squared_error: 0.0600 - Time: 97.29 s\n",
      "\n",
      "Training until validation scores don't improve for 100 rounds\n",
      "[1000]\tvalid_0's rmse: 0.0596499\tvalid_0's l2: 0.00355811\n",
      "[2000]\tvalid_0's rmse: 0.0593554\tvalid_0's l2: 0.00352307\n",
      "Early stopping, best iteration is:\n",
      "[2477]\tvalid_0's rmse: 0.059299\tvalid_0's l2: 0.00351638\n",
      "--- Fold 4 - root_mean_squared_error: 0.0593 - Time: 70.39 s\n",
      "\n",
      "\n",
      "------ Overall root_mean_squared_error: 0.0598 - Mean root_mean_squared_error: 0.0598 ± 0.0003 - Time: 451.50 s\n"
     ]
    }
   ],
   "source": [
    "lgbm_goss_trainer = Trainer(\n",
    "    LGBMRegressor(**lgbm_goss_params),\n",
    "    cv=CFG.cv,\n",
    "    metric=CFG.metric,\n",
    "    use_early_stopping=True,\n",
    "    task=\"regression\"\n",
    ")\n",
    "\n",
    "fit_args = {\n",
    "    \"eval_metric\": \"rmse\",\n",
    "    \"callbacks\": [\n",
    "        log_evaluation(period=1000), \n",
    "        early_stopping(stopping_rounds=100)\n",
    "    ]\n",
    "}\n",
    "\n",
    "lgbm_goss_trainer.fit(X, y, fit_args=fit_args)\n",
    "\n",
    "scores[\"LightGBM (goss)\"] = lgbm_goss_trainer.fold_scores\n",
    "oof_preds[\"LightGBM (goss)\"] = lgbm_goss_trainer.oof_preds\n",
    "test_preds[\"LightGBM (goss)\"] = lgbm_goss_trainer.predict(X_test)"
   ]
  },
  {
   "cell_type": "markdown",
   "id": "f84f5933",
   "metadata": {
    "papermill": {
     "duration": 0.011157,
     "end_time": "2025-05-02T14:39:01.606209",
     "exception": false,
     "start_time": "2025-05-02T14:39:01.595052",
     "status": "completed"
    },
    "tags": []
   },
   "source": [
    "## XGBoost"
   ]
  },
  {
   "cell_type": "code",
   "execution_count": 12,
   "id": "fb8c9b19",
   "metadata": {
    "execution": {
     "iopub.execute_input": "2025-05-02T14:39:01.631054Z",
     "iopub.status.busy": "2025-05-02T14:39:01.630728Z",
     "iopub.status.idle": "2025-05-02T14:47:59.984728Z",
     "shell.execute_reply": "2025-05-02T14:47:59.983771Z"
    },
    "papermill": {
     "duration": 538.368353,
     "end_time": "2025-05-02T14:47:59.986422",
     "exception": false,
     "start_time": "2025-05-02T14:39:01.618069",
     "status": "completed"
    },
    "tags": []
   },
   "outputs": [
    {
     "name": "stdout",
     "output_type": "stream",
     "text": [
      "Training XGBRegressor\n",
      "\n",
      "[0]\tvalidation_0-rmse:0.92857\n",
      "[1000]\tvalidation_0-rmse:0.06026\n",
      "[2000]\tvalidation_0-rmse:0.06020\n",
      "[3000]\tvalidation_0-rmse:0.06016\n",
      "[3815]\tvalidation_0-rmse:0.06015\n",
      "--- Fold 0 - root_mean_squared_error: 0.0601 - Time: 100.52 s\n",
      "\n",
      "[0]\tvalidation_0-rmse:0.93098\n",
      "[1000]\tvalidation_0-rmse:0.06155\n",
      "[2000]\tvalidation_0-rmse:0.06143\n",
      "[3000]\tvalidation_0-rmse:0.06138\n",
      "[4000]\tvalidation_0-rmse:0.06134\n",
      "[5000]\tvalidation_0-rmse:0.06131\n",
      "[5088]\tvalidation_0-rmse:0.06131\n",
      "--- Fold 1 - root_mean_squared_error: 0.0613 - Time: 141.31 s\n",
      "\n",
      "[0]\tvalidation_0-rmse:0.92965\n",
      "[1000]\tvalidation_0-rmse:0.06074\n",
      "[2000]\tvalidation_0-rmse:0.06063\n",
      "[3000]\tvalidation_0-rmse:0.06057\n",
      "[4000]\tvalidation_0-rmse:0.06053\n",
      "[4711]\tvalidation_0-rmse:0.06051\n",
      "--- Fold 2 - root_mean_squared_error: 0.0605 - Time: 126.02 s\n",
      "\n",
      "[0]\tvalidation_0-rmse:0.92814\n",
      "[1000]\tvalidation_0-rmse:0.06101\n",
      "[2000]\tvalidation_0-rmse:0.06097\n",
      "[2368]\tvalidation_0-rmse:0.06096\n",
      "--- Fold 3 - root_mean_squared_error: 0.0610 - Time: 66.48 s\n",
      "\n",
      "[0]\tvalidation_0-rmse:0.92888\n",
      "[1000]\tvalidation_0-rmse:0.06024\n",
      "[2000]\tvalidation_0-rmse:0.06016\n",
      "[2954]\tvalidation_0-rmse:0.06014\n",
      "--- Fold 4 - root_mean_squared_error: 0.0601 - Time: 84.62 s\n",
      "\n",
      "\n",
      "------ Overall root_mean_squared_error: 0.0606 - Mean root_mean_squared_error: 0.0606 ± 0.0005 - Time: 520.83 s\n"
     ]
    }
   ],
   "source": [
    "xgb_trainer = Trainer(\n",
    "    XGBRegressor(**xgb_params),\n",
    "    cv=CFG.cv,\n",
    "    metric=CFG.metric,\n",
    "    use_early_stopping=True,\n",
    "    task=\"regression\"\n",
    ")\n",
    "\n",
    "fit_args = {\n",
    "    \"verbose\": 1000\n",
    "}\n",
    "\n",
    "xgb_trainer.fit(X, y, fit_args=fit_args)\n",
    "\n",
    "scores[\"XGBoost\"] = xgb_trainer.fold_scores\n",
    "oof_preds[\"XGBoost\"] = xgb_trainer.oof_preds\n",
    "test_preds[\"XGBoost\"] = xgb_trainer.predict(X_test)"
   ]
  },
  {
   "cell_type": "markdown",
   "id": "aa38fccf",
   "metadata": {
    "papermill": {
     "duration": 0.012371,
     "end_time": "2025-05-02T14:48:00.012573",
     "exception": false,
     "start_time": "2025-05-02T14:48:00.000202",
     "status": "completed"
    },
    "tags": []
   },
   "source": [
    "## CatBoost"
   ]
  },
  {
   "cell_type": "code",
   "execution_count": 13,
   "id": "67553522",
   "metadata": {
    "execution": {
     "iopub.execute_input": "2025-05-02T14:48:00.039247Z",
     "iopub.status.busy": "2025-05-02T14:48:00.038859Z",
     "iopub.status.idle": "2025-05-02T14:59:50.916854Z",
     "shell.execute_reply": "2025-05-02T14:59:50.915099Z"
    },
    "papermill": {
     "duration": 710.894222,
     "end_time": "2025-05-02T14:59:50.918910",
     "exception": false,
     "start_time": "2025-05-02T14:48:00.024688",
     "status": "completed"
    },
    "tags": []
   },
   "outputs": [
    {
     "name": "stdout",
     "output_type": "stream",
     "text": [
      "Training CatBoostRegressor\n",
      "\n",
      "0:\tlearn: 0.9349833\ttest: 0.9341478\tbest: 0.9341478 (0)\ttotal: 123ms\tremaining: 1h 42m 8s\n",
      "1000:\tlearn: 0.0575901\ttest: 0.0593059\tbest: 0.0593059 (1000)\ttotal: 54.5s\tremaining: 44m 26s\n",
      "2000:\tlearn: 0.0565846\ttest: 0.0591985\tbest: 0.0591957 (1971)\ttotal: 1m 46s\tremaining: 42m 25s\n",
      "Stopped by overfitting detector  (100 iterations wait)\n",
      "\n",
      "bestTest = 0.05916685055\n",
      "bestIteration = 2849\n",
      "\n",
      "Shrink model to first 2850 iterations.\n",
      "--- Fold 0 - root_mean_squared_error: 0.0592 - Time: 158.93 s\n",
      "\n",
      "0:\tlearn: 0.9343830\ttest: 0.9365749\tbest: 0.9365749 (0)\ttotal: 66.3ms\tremaining: 55m 13s\n",
      "1000:\tlearn: 0.0575543\ttest: 0.0598443\tbest: 0.0598443 (1000)\ttotal: 54.7s\tremaining: 44m 37s\n",
      "2000:\tlearn: 0.0564273\ttest: 0.0597073\tbest: 0.0597067 (1997)\ttotal: 1m 48s\tremaining: 43m 15s\n",
      "Stopped by overfitting detector  (100 iterations wait)\n",
      "\n",
      "bestTest = 0.05970268328\n",
      "bestIteration = 2190\n",
      "\n",
      "Shrink model to first 2191 iterations.\n",
      "--- Fold 1 - root_mean_squared_error: 0.0597 - Time: 124.78 s\n",
      "\n",
      "0:\tlearn: 0.9347223\ttest: 0.9352199\tbest: 0.9352199 (0)\ttotal: 62.7ms\tremaining: 52m 14s\n",
      "1000:\tlearn: 0.0575766\ttest: 0.0593479\tbest: 0.0593479 (1000)\ttotal: 53.7s\tremaining: 43m 48s\n",
      "2000:\tlearn: 0.0564834\ttest: 0.0591289\tbest: 0.0591289 (2000)\ttotal: 1m 46s\tremaining: 42m 32s\n",
      "3000:\tlearn: 0.0557023\ttest: 0.0590434\tbest: 0.0590429 (2967)\ttotal: 2m 38s\tremaining: 41m 25s\n",
      "Stopped by overfitting detector  (100 iterations wait)\n",
      "\n",
      "bestTest = 0.05904194694\n",
      "bestIteration = 3022\n",
      "\n",
      "Shrink model to first 3023 iterations.\n",
      "--- Fold 2 - root_mean_squared_error: 0.0590 - Time: 166.41 s\n",
      "\n",
      "0:\tlearn: 0.9350836\ttest: 0.9337106\tbest: 0.9337106 (0)\ttotal: 66.7ms\tremaining: 55m 33s\n",
      "1000:\tlearn: 0.0575467\ttest: 0.0596694\tbest: 0.0596694 (1000)\ttotal: 53.3s\tremaining: 43m 27s\n",
      "2000:\tlearn: 0.0565511\ttest: 0.0594814\tbest: 0.0594810 (1998)\ttotal: 1m 46s\tremaining: 42m 39s\n",
      "Stopped by overfitting detector  (100 iterations wait)\n",
      "\n",
      "bestTest = 0.05945208165\n",
      "bestIteration = 2248\n",
      "\n",
      "Shrink model to first 2249 iterations.\n",
      "--- Fold 3 - root_mean_squared_error: 0.0595 - Time: 126.31 s\n",
      "\n",
      "0:\tlearn: 0.9349021\ttest: 0.9344254\tbest: 0.9344254 (0)\ttotal: 67.9ms\tremaining: 56m 34s\n",
      "1000:\tlearn: 0.0577589\ttest: 0.0590854\tbest: 0.0590850 (997)\ttotal: 55.8s\tremaining: 45m 32s\n",
      "2000:\tlearn: 0.0566740\ttest: 0.0589111\tbest: 0.0589096 (1992)\ttotal: 1m 51s\tremaining: 44m 29s\n",
      "Stopped by overfitting detector  (100 iterations wait)\n",
      "\n",
      "bestTest = 0.05888978321\n",
      "bestIteration = 2225\n",
      "\n",
      "Shrink model to first 2226 iterations.\n",
      "--- Fold 4 - root_mean_squared_error: 0.0589 - Time: 130.53 s\n",
      "\n",
      "\n",
      "------ Overall root_mean_squared_error: 0.0593 - Mean root_mean_squared_error: 0.0593 ± 0.0003 - Time: 708.82 s\n"
     ]
    }
   ],
   "source": [
    "cb_trainer = Trainer(\n",
    "    CatBoostRegressor(**cb_params),\n",
    "    cv=CFG.cv,\n",
    "    metric=CFG.metric,\n",
    "    use_early_stopping=True,\n",
    "    task=\"regression\"\n",
    ")\n",
    "\n",
    "fit_args = {\n",
    "    \"verbose\": 1000,\n",
    "    \"early_stopping_rounds\": 100,\n",
    "    \"use_best_model\": True\n",
    "}\n",
    "\n",
    "cb_trainer.fit(X, y, fit_args=fit_args)\n",
    "\n",
    "scores[\"CatBoost\"] = cb_trainer.fold_scores\n",
    "oof_preds[\"CatBoost\"] = cb_trainer.oof_preds\n",
    "test_preds[\"CatBoost\"] = cb_trainer.predict(X_test)"
   ]
  },
  {
   "cell_type": "markdown",
   "id": "35bd014c",
   "metadata": {
    "papermill": {
     "duration": 0.01331,
     "end_time": "2025-05-02T14:59:50.946328",
     "exception": false,
     "start_time": "2025-05-02T14:59:50.933018",
     "status": "completed"
    },
    "tags": []
   },
   "source": [
    "## Yggdrasil"
   ]
  },
  {
   "cell_type": "code",
   "execution_count": 14,
   "id": "a78fb512",
   "metadata": {
    "execution": {
     "iopub.execute_input": "2025-05-02T14:59:50.976379Z",
     "iopub.status.busy": "2025-05-02T14:59:50.976012Z",
     "iopub.status.idle": "2025-05-02T14:59:50.984191Z",
     "shell.execute_reply": "2025-05-02T14:59:50.983167Z"
    },
    "papermill": {
     "duration": 0.025545,
     "end_time": "2025-05-02T14:59:50.986056",
     "exception": false,
     "start_time": "2025-05-02T14:59:50.960511",
     "status": "completed"
    },
    "tags": []
   },
   "outputs": [],
   "source": [
    "def YDFRegressor(learner_class):\n",
    "\n",
    "    class YDFXRegressor(BaseEstimator, RegressorMixin):\n",
    "\n",
    "        def __init__(self, params={}):\n",
    "            self.params = params\n",
    "\n",
    "        def fit(self, X, y):\n",
    "            assert isinstance(X, pd.DataFrame)\n",
    "            assert isinstance(y, pd.Series)\n",
    "            target = y.name\n",
    "            params = self.params.copy()\n",
    "            params['label'] = target\n",
    "            params['task'] = ydf.Task.REGRESSION\n",
    "            X = pd.concat([X, y], axis=1)\n",
    "            with contextlib.redirect_stderr(io.StringIO()), contextlib.redirect_stdout(io.StringIO()):\n",
    "                self.model = learner_class(**params).train(X)\n",
    "            return self\n",
    "\n",
    "        def predict(self, X):\n",
    "            assert isinstance(X, pd.DataFrame)\n",
    "            with contextlib.redirect_stderr(io.StringIO()), contextlib.redirect_stdout(io.StringIO()):\n",
    "                return self.model.predict(X)\n",
    "\n",
    "    return YDFXRegressor"
   ]
  },
  {
   "cell_type": "code",
   "execution_count": 15,
   "id": "d18d9a16",
   "metadata": {
    "execution": {
     "iopub.execute_input": "2025-05-02T14:59:51.016357Z",
     "iopub.status.busy": "2025-05-02T14:59:51.016035Z",
     "iopub.status.idle": "2025-05-02T15:11:22.970589Z",
     "shell.execute_reply": "2025-05-02T15:11:22.969318Z"
    },
    "papermill": {
     "duration": 691.971703,
     "end_time": "2025-05-02T15:11:22.972623",
     "exception": false,
     "start_time": "2025-05-02T14:59:51.000920",
     "status": "completed"
    },
    "tags": []
   },
   "outputs": [
    {
     "name": "stdout",
     "output_type": "stream",
     "text": [
      "Training YDFXRegressor\n",
      "\n",
      "--- Fold 0 - root_mean_squared_error: 0.0605 - Time: 146.86 s\n",
      "--- Fold 1 - root_mean_squared_error: 0.0606 - Time: 173.55 s\n",
      "--- Fold 2 - root_mean_squared_error: 0.0602 - Time: 121.77 s\n",
      "--- Fold 3 - root_mean_squared_error: 0.0612 - Time: 126.72 s\n",
      "--- Fold 4 - root_mean_squared_error: 0.0602 - Time: 117.13 s\n",
      "\n",
      "------ Overall root_mean_squared_error: 0.0606 - Mean root_mean_squared_error: 0.0606 ± 0.0004 - Time: 688.02 s\n"
     ]
    }
   ],
   "source": [
    "ydf_trainer = Trainer(\n",
    "    YDFRegressor(GradientBoostedTreesLearner)(ydf_params),\n",
    "    cv=CFG.cv,\n",
    "    metric=CFG.metric,\n",
    "    task=\"regression\"\n",
    ")\n",
    "\n",
    "ydf_trainer.fit(X, y)\n",
    "\n",
    "scores[\"Yggdrasil\"] = ydf_trainer.fold_scores\n",
    "oof_preds[\"Yggdrasil\"] = ydf_trainer.oof_preds\n",
    "test_preds[\"Yggdrasil\"] = ydf_trainer.predict(X_test)"
   ]
  },
  {
   "cell_type": "markdown",
   "id": "3ca0ed3c",
   "metadata": {
    "papermill": {
     "duration": 0.015234,
     "end_time": "2025-05-02T15:11:23.003043",
     "exception": false,
     "start_time": "2025-05-02T15:11:22.987809",
     "status": "completed"
    },
    "tags": []
   },
   "source": [
    "## Neural networks"
   ]
  },
  {
   "cell_type": "code",
   "execution_count": 16,
   "id": "d52afb9f",
   "metadata": {
    "execution": {
     "iopub.execute_input": "2025-05-02T15:11:23.035362Z",
     "iopub.status.busy": "2025-05-02T15:11:23.035023Z",
     "iopub.status.idle": "2025-05-02T15:11:23.745727Z",
     "shell.execute_reply": "2025-05-02T15:11:23.744692Z"
    },
    "papermill": {
     "duration": 0.728448,
     "end_time": "2025-05-02T15:11:23.747547",
     "exception": false,
     "start_time": "2025-05-02T15:11:23.019099",
     "status": "completed"
    },
    "tags": []
   },
   "outputs": [],
   "source": [
    "train = pd.read_csv(CFG.train_path, index_col=\"id\")\n",
    "test = pd.read_csv(CFG.test_path, index_col=\"id\")\n",
    "\n",
    "X = train.drop(CFG.target, axis=1)\n",
    "y = np.log1p(train[CFG.target])\n",
    "X_test = test"
   ]
  },
  {
   "cell_type": "code",
   "execution_count": 17,
   "id": "a7e75ec4",
   "metadata": {
    "execution": {
     "iopub.execute_input": "2025-05-02T15:11:23.778623Z",
     "iopub.status.busy": "2025-05-02T15:11:23.778294Z",
     "iopub.status.idle": "2025-05-02T15:11:24.296175Z",
     "shell.execute_reply": "2025-05-02T15:11:24.294979Z"
    },
    "papermill": {
     "duration": 0.535085,
     "end_time": "2025-05-02T15:11:24.298010",
     "exception": false,
     "start_time": "2025-05-02T15:11:23.762925",
     "status": "completed"
    },
    "tags": []
   },
   "outputs": [],
   "source": [
    "pipeline = make_pipeline(\n",
    "    ColumnTransformer(\n",
    "        [\n",
    "            ('one-hot-encode', OneHotEncoder(drop='first', sparse_output=False, dtype=np.float32, handle_unknown='ignore'), ['Sex']),\n",
    "            \n",
    "        ],\n",
    "        remainder=StandardScaler()\n",
    "    )\n",
    ").set_output(transform='pandas')\n",
    "\n",
    "X = pipeline.fit_transform(X, y)\n",
    "X_test = pipeline.transform(X_test)"
   ]
  },
  {
   "cell_type": "code",
   "execution_count": 18,
   "id": "644e7187",
   "metadata": {
    "execution": {
     "iopub.execute_input": "2025-05-02T15:11:24.331821Z",
     "iopub.status.busy": "2025-05-02T15:11:24.331456Z",
     "iopub.status.idle": "2025-05-02T15:11:24.337585Z",
     "shell.execute_reply": "2025-05-02T15:11:24.336562Z"
    },
    "papermill": {
     "duration": 0.02513,
     "end_time": "2025-05-02T15:11:24.339151",
     "exception": false,
     "start_time": "2025-05-02T15:11:24.314021",
     "status": "completed"
    },
    "tags": []
   },
   "outputs": [],
   "source": [
    "def get_model(meta):\n",
    "    model = keras.models.Sequential()\n",
    "    model.add(keras.layers.Input(meta[\"X_shape_\"][1:]))\n",
    "    model.add(keras.layers.Dense(256, kernel_initializer='lecun_normal', activation='selu'))\n",
    "    model.add(keras.layers.Dense(128, kernel_initializer='lecun_normal', activation='selu'))\n",
    "    model.add(keras.layers.Dense(64, kernel_initializer='lecun_normal', activation='selu'))\n",
    "    model.add(keras.layers.Dense(1))\n",
    "    return model"
   ]
  },
  {
   "cell_type": "code",
   "execution_count": 19,
   "id": "fbce2ce4",
   "metadata": {
    "execution": {
     "iopub.execute_input": "2025-05-02T15:11:24.369683Z",
     "iopub.status.busy": "2025-05-02T15:11:24.369306Z",
     "iopub.status.idle": "2025-05-02T15:11:24.429086Z",
     "shell.execute_reply": "2025-05-02T15:11:24.427813Z"
    },
    "papermill": {
     "duration": 0.076699,
     "end_time": "2025-05-02T15:11:24.430808",
     "exception": false,
     "start_time": "2025-05-02T15:11:24.354109",
     "status": "completed"
    },
    "tags": []
   },
   "outputs": [
    {
     "name": "stderr",
     "output_type": "stream",
     "text": [
      "2025-05-02 15:11:24.376117: E external/local_xla/xla/stream_executor/cuda/cuda_driver.cc:152] failed call to cuInit: INTERNAL: CUDA error: Failed call to cuInit: UNKNOWN ERROR (303)\n"
     ]
    }
   ],
   "source": [
    "nn_model = KerasRegressor(\n",
    "    get_model,\n",
    "    loss=\"mean_squared_error\",\n",
    "    random_state=CFG.seed,\n",
    "    metrics=[keras.metrics.RootMeanSquaredError(name='rmse')],\n",
    "    optimizer=keras.optimizers.AdamW(learning_rate=0.001),\n",
    "    validation_batch_size=65536,\n",
    "    validation_split=0.1,\n",
    "    batch_size=1024,\n",
    "    epochs=100, \n",
    "    verbose=0,\n",
    "    callbacks=[\n",
    "        keras.callbacks.EarlyStopping(monitor='val_rmse', patience=7, restore_best_weights=True),\n",
    "        keras.callbacks.ReduceLROnPlateau(monitor='val_rmse', patience=3, factor=0.3)\n",
    "    ]\n",
    ")"
   ]
  },
  {
   "cell_type": "code",
   "execution_count": 20,
   "id": "5a5172d9",
   "metadata": {
    "_kg_hide-output": true,
    "execution": {
     "iopub.execute_input": "2025-05-02T15:11:24.464838Z",
     "iopub.status.busy": "2025-05-02T15:11:24.464521Z",
     "iopub.status.idle": "2025-05-02T15:32:08.316105Z",
     "shell.execute_reply": "2025-05-02T15:32:08.314826Z"
    },
    "papermill": {
     "duration": 1243.871293,
     "end_time": "2025-05-02T15:32:08.318001",
     "exception": false,
     "start_time": "2025-05-02T15:11:24.446708",
     "status": "completed"
    },
    "tags": []
   },
   "outputs": [
    {
     "name": "stdout",
     "output_type": "stream",
     "text": [
      "Training KerasRegressor\n",
      "\n"
     ]
    },
    {
     "name": "stderr",
     "output_type": "stream",
     "text": [
      "2025-05-02 15:11:24.879478: E tensorflow/core/framework/node_def_util.cc:676] NodeDef mentions attribute use_unbounded_threadpool which is not in the op definition: Op<name=MapDataset; signature=input_dataset:variant, other_arguments: -> handle:variant; attr=f:func; attr=Targuments:list(type),min=0; attr=output_types:list(type),min=1; attr=output_shapes:list(shape),min=1; attr=use_inter_op_parallelism:bool,default=true; attr=preserve_cardinality:bool,default=false; attr=force_synchronous:bool,default=false; attr=metadata:string,default=\"\"> This may be expected if your graph generating binary is newer  than this binary. Unknown attributes will be ignored. NodeDef: {{node ParallelMapDatasetV2/_15}}\n",
      "2025-05-02 15:11:31.119826: E tensorflow/core/framework/node_def_util.cc:676] NodeDef mentions attribute use_unbounded_threadpool which is not in the op definition: Op<name=MapDataset; signature=input_dataset:variant, other_arguments: -> handle:variant; attr=f:func; attr=Targuments:list(type),min=0; attr=output_types:list(type),min=1; attr=output_shapes:list(shape),min=1; attr=use_inter_op_parallelism:bool,default=true; attr=preserve_cardinality:bool,default=false; attr=force_synchronous:bool,default=false; attr=metadata:string,default=\"\"> This may be expected if your graph generating binary is newer  than this binary. Unknown attributes will be ignored. NodeDef: {{node ParallelMapDatasetV2/_15}}\n",
      "2025-05-02 15:15:51.268644: E tensorflow/core/framework/node_def_util.cc:676] NodeDef mentions attribute use_unbounded_threadpool which is not in the op definition: Op<name=MapDataset; signature=input_dataset:variant, other_arguments: -> handle:variant; attr=f:func; attr=Targuments:list(type),min=0; attr=output_types:list(type),min=1; attr=output_shapes:list(shape),min=1; attr=use_inter_op_parallelism:bool,default=true; attr=preserve_cardinality:bool,default=false; attr=force_synchronous:bool,default=false; attr=metadata:string,default=\"\"> This may be expected if your graph generating binary is newer  than this binary. Unknown attributes will be ignored. NodeDef: {{node ParallelMapDatasetV2/_14}}\n"
     ]
    },
    {
     "name": "stdout",
     "output_type": "stream",
     "text": [
      "--- Fold 0 - root_mean_squared_error: 0.0605 - Time: 267.68 s\n"
     ]
    },
    {
     "name": "stderr",
     "output_type": "stream",
     "text": [
      "2025-05-02 15:16:00.115641: E tensorflow/core/framework/node_def_util.cc:676] NodeDef mentions attribute use_unbounded_threadpool which is not in the op definition: Op<name=MapDataset; signature=input_dataset:variant, other_arguments: -> handle:variant; attr=f:func; attr=Targuments:list(type),min=0; attr=output_types:list(type),min=1; attr=output_shapes:list(shape),min=1; attr=use_inter_op_parallelism:bool,default=true; attr=preserve_cardinality:bool,default=false; attr=force_synchronous:bool,default=false; attr=metadata:string,default=\"\"> This may be expected if your graph generating binary is newer  than this binary. Unknown attributes will be ignored. NodeDef: {{node ParallelMapDatasetV2/_15}}\n",
      "2025-05-02 15:20:30.623804: E tensorflow/core/framework/node_def_util.cc:676] NodeDef mentions attribute use_unbounded_threadpool which is not in the op definition: Op<name=MapDataset; signature=input_dataset:variant, other_arguments: -> handle:variant; attr=f:func; attr=Targuments:list(type),min=0; attr=output_types:list(type),min=1; attr=output_shapes:list(shape),min=1; attr=use_inter_op_parallelism:bool,default=true; attr=preserve_cardinality:bool,default=false; attr=force_synchronous:bool,default=false; attr=metadata:string,default=\"\"> This may be expected if your graph generating binary is newer  than this binary. Unknown attributes will be ignored. NodeDef: {{node ParallelMapDatasetV2/_14}}\n"
     ]
    },
    {
     "name": "stdout",
     "output_type": "stream",
     "text": [
      "--- Fold 1 - root_mean_squared_error: 0.0614 - Time: 278.77 s\n"
     ]
    },
    {
     "name": "stderr",
     "output_type": "stream",
     "text": [
      "2025-05-02 15:20:37.954256: E tensorflow/core/framework/node_def_util.cc:676] NodeDef mentions attribute use_unbounded_threadpool which is not in the op definition: Op<name=MapDataset; signature=input_dataset:variant, other_arguments: -> handle:variant; attr=f:func; attr=Targuments:list(type),min=0; attr=output_types:list(type),min=1; attr=output_shapes:list(shape),min=1; attr=use_inter_op_parallelism:bool,default=true; attr=preserve_cardinality:bool,default=false; attr=force_synchronous:bool,default=false; attr=metadata:string,default=\"\"> This may be expected if your graph generating binary is newer  than this binary. Unknown attributes will be ignored. NodeDef: {{node ParallelMapDatasetV2/_15}}\n",
      "2025-05-02 15:24:14.697914: E tensorflow/core/framework/node_def_util.cc:676] NodeDef mentions attribute use_unbounded_threadpool which is not in the op definition: Op<name=MapDataset; signature=input_dataset:variant, other_arguments: -> handle:variant; attr=f:func; attr=Targuments:list(type),min=0; attr=output_types:list(type),min=1; attr=output_shapes:list(shape),min=1; attr=use_inter_op_parallelism:bool,default=true; attr=preserve_cardinality:bool,default=false; attr=force_synchronous:bool,default=false; attr=metadata:string,default=\"\"> This may be expected if your graph generating binary is newer  than this binary. Unknown attributes will be ignored. NodeDef: {{node ParallelMapDatasetV2/_14}}\n"
     ]
    },
    {
     "name": "stdout",
     "output_type": "stream",
     "text": [
      "--- Fold 2 - root_mean_squared_error: 0.0615 - Time: 223.67 s\n"
     ]
    },
    {
     "name": "stderr",
     "output_type": "stream",
     "text": [
      "2025-05-02 15:24:21.881219: E tensorflow/core/framework/node_def_util.cc:676] NodeDef mentions attribute use_unbounded_threadpool which is not in the op definition: Op<name=MapDataset; signature=input_dataset:variant, other_arguments: -> handle:variant; attr=f:func; attr=Targuments:list(type),min=0; attr=output_types:list(type),min=1; attr=output_shapes:list(shape),min=1; attr=use_inter_op_parallelism:bool,default=true; attr=preserve_cardinality:bool,default=false; attr=force_synchronous:bool,default=false; attr=metadata:string,default=\"\"> This may be expected if your graph generating binary is newer  than this binary. Unknown attributes will be ignored. NodeDef: {{node ParallelMapDatasetV2/_15}}\n",
      "2025-05-02 15:27:29.952460: E tensorflow/core/framework/node_def_util.cc:676] NodeDef mentions attribute use_unbounded_threadpool which is not in the op definition: Op<name=MapDataset; signature=input_dataset:variant, other_arguments: -> handle:variant; attr=f:func; attr=Targuments:list(type),min=0; attr=output_types:list(type),min=1; attr=output_shapes:list(shape),min=1; attr=use_inter_op_parallelism:bool,default=true; attr=preserve_cardinality:bool,default=false; attr=force_synchronous:bool,default=false; attr=metadata:string,default=\"\"> This may be expected if your graph generating binary is newer  than this binary. Unknown attributes will be ignored. NodeDef: {{node ParallelMapDatasetV2/_14}}\n"
     ]
    },
    {
     "name": "stdout",
     "output_type": "stream",
     "text": [
      "--- Fold 3 - root_mean_squared_error: 0.0616 - Time: 194.85 s\n"
     ]
    },
    {
     "name": "stderr",
     "output_type": "stream",
     "text": [
      "2025-05-02 15:27:37.210058: E tensorflow/core/framework/node_def_util.cc:676] NodeDef mentions attribute use_unbounded_threadpool which is not in the op definition: Op<name=MapDataset; signature=input_dataset:variant, other_arguments: -> handle:variant; attr=f:func; attr=Targuments:list(type),min=0; attr=output_types:list(type),min=1; attr=output_shapes:list(shape),min=1; attr=use_inter_op_parallelism:bool,default=true; attr=preserve_cardinality:bool,default=false; attr=force_synchronous:bool,default=false; attr=metadata:string,default=\"\"> This may be expected if your graph generating binary is newer  than this binary. Unknown attributes will be ignored. NodeDef: {{node ParallelMapDatasetV2/_15}}\n",
      "2025-05-02 15:32:01.249944: E tensorflow/core/framework/node_def_util.cc:676] NodeDef mentions attribute use_unbounded_threadpool which is not in the op definition: Op<name=MapDataset; signature=input_dataset:variant, other_arguments: -> handle:variant; attr=f:func; attr=Targuments:list(type),min=0; attr=output_types:list(type),min=1; attr=output_shapes:list(shape),min=1; attr=use_inter_op_parallelism:bool,default=true; attr=preserve_cardinality:bool,default=false; attr=force_synchronous:bool,default=false; attr=metadata:string,default=\"\"> This may be expected if your graph generating binary is newer  than this binary. Unknown attributes will be ignored. NodeDef: {{node ParallelMapDatasetV2/_14}}\n"
     ]
    },
    {
     "name": "stdout",
     "output_type": "stream",
     "text": [
      "--- Fold 4 - root_mean_squared_error: 0.0612 - Time: 270.91 s\n",
      "\n",
      "------ Overall root_mean_squared_error: 0.0612 - Mean root_mean_squared_error: 0.0612 ± 0.0004 - Time: 1238.02 s\n"
     ]
    },
    {
     "name": "stderr",
     "output_type": "stream",
     "text": [
      "2025-05-02 15:32:07.288087: E tensorflow/core/framework/node_def_util.cc:676] NodeDef mentions attribute use_unbounded_threadpool which is not in the op definition: Op<name=MapDataset; signature=input_dataset:variant, other_arguments: -> handle:variant; attr=f:func; attr=Targuments:list(type),min=0; attr=output_types:list(type),min=1; attr=output_shapes:list(shape),min=1; attr=use_inter_op_parallelism:bool,default=true; attr=preserve_cardinality:bool,default=false; attr=force_synchronous:bool,default=false; attr=metadata:string,default=\"\"> This may be expected if your graph generating binary is newer  than this binary. Unknown attributes will be ignored. NodeDef: {{node ParallelMapDatasetV2/_14}}\n"
     ]
    }
   ],
   "source": [
    "nn_trainer = Trainer(\n",
    "    nn_model,\n",
    "    cv=CFG.cv,\n",
    "    metric=root_mean_squared_error,\n",
    "    task=\"regression\"\n",
    ")\n",
    "\n",
    "nn_trainer.fit(X, y)\n",
    "\n",
    "scores[\"KerasANN\"] = nn_trainer.fold_scores\n",
    "oof_preds[\"KerasANN\"] = nn_trainer.oof_preds\n",
    "test_preds[\"KerasANN\"] = nn_trainer.predict(X_test)"
   ]
  },
  {
   "cell_type": "markdown",
   "id": "cb767d84",
   "metadata": {
    "papermill": {
     "duration": 0.014902,
     "end_time": "2025-05-02T15:32:08.348925",
     "exception": false,
     "start_time": "2025-05-02T15:32:08.334023",
     "status": "completed"
    },
    "tags": []
   },
   "source": [
    "# Ensembling with Ridge"
   ]
  },
  {
   "cell_type": "code",
   "execution_count": 21,
   "id": "74e2cd31",
   "metadata": {
    "_kg_hide-input": true,
    "execution": {
     "iopub.execute_input": "2025-05-02T15:32:08.382959Z",
     "iopub.status.busy": "2025-05-02T15:32:08.382161Z",
     "iopub.status.idle": "2025-05-02T15:32:08.390977Z",
     "shell.execute_reply": "2025-05-02T15:32:08.389965Z"
    },
    "papermill": {
     "duration": 0.027445,
     "end_time": "2025-05-02T15:32:08.392616",
     "exception": false,
     "start_time": "2025-05-02T15:32:08.365171",
     "status": "completed"
    },
    "tags": []
   },
   "outputs": [],
   "source": [
    "def plot_weights(weights, title):\n",
    "    sorted_indices = np.argsort(weights[0])[::-1]\n",
    "    sorted_coeffs = np.array(weights[0])[sorted_indices]\n",
    "    sorted_model_names = np.array(list(oof_preds.keys()))[sorted_indices]\n",
    "\n",
    "    plt.figure(figsize=(10, weights.shape[1] * 0.5))\n",
    "    ax = sns.barplot(x=sorted_coeffs, y=sorted_model_names, palette=\"RdYlGn_r\")\n",
    "\n",
    "    for i, (value, name) in enumerate(zip(sorted_coeffs, sorted_model_names)):\n",
    "        if value >= 0:\n",
    "            ax.text(value, i, f\"{value:.3f}\", va=\"center\", ha=\"left\", color=\"black\")\n",
    "        else:\n",
    "            ax.text(value, i, f\"{value:.3f}\", va=\"center\", ha=\"right\", color=\"black\")\n",
    "\n",
    "    xlim = ax.get_xlim()\n",
    "    ax.set_xlim(xlim[0] - 0.1 * abs(xlim[0]), xlim[1] + 0.1 * abs(xlim[1]))\n",
    "\n",
    "    plt.title(title)\n",
    "    plt.xlabel(\"\")\n",
    "    plt.ylabel(\"\")\n",
    "    plt.tight_layout()\n",
    "    plt.show()"
   ]
  },
  {
   "cell_type": "code",
   "execution_count": 22,
   "id": "b85e1abc",
   "metadata": {
    "execution": {
     "iopub.execute_input": "2025-05-02T15:32:08.427374Z",
     "iopub.status.busy": "2025-05-02T15:32:08.427082Z",
     "iopub.status.idle": "2025-05-02T15:32:08.444701Z",
     "shell.execute_reply": "2025-05-02T15:32:08.443575Z"
    },
    "papermill": {
     "duration": 0.035514,
     "end_time": "2025-05-02T15:32:08.446421",
     "exception": false,
     "start_time": "2025-05-02T15:32:08.410907",
     "status": "completed"
    },
    "tags": []
   },
   "outputs": [],
   "source": [
    "X = pd.DataFrame(oof_preds)\n",
    "X_test = pd.DataFrame(test_preds)"
   ]
  },
  {
   "cell_type": "code",
   "execution_count": 23,
   "id": "651698e6",
   "metadata": {
    "_kg_hide-output": true,
    "execution": {
     "iopub.execute_input": "2025-05-02T15:32:08.478970Z",
     "iopub.status.busy": "2025-05-02T15:32:08.478660Z",
     "iopub.status.idle": "2025-05-02T15:41:46.411313Z",
     "shell.execute_reply": "2025-05-02T15:41:46.410433Z"
    },
    "papermill": {
     "duration": 577.951325,
     "end_time": "2025-05-02T15:41:46.413171",
     "exception": false,
     "start_time": "2025-05-02T15:32:08.461846",
     "status": "completed"
    },
    "scrolled": true,
    "tags": []
   },
   "outputs": [
    {
     "name": "stderr",
     "output_type": "stream",
     "text": [
      "[I 2025-05-02 15:32:08,483] A new study created in memory with name: no-name-a8c6eb5b-7d27-4040-9477-b961568d6701\n",
      "[I 2025-05-02 15:32:16,553] Trial 3 finished with value: 0.059097651656365664 and parameters: {'alpha': 4.281819638342029, 'tol': 0.0029930183325992104}. Best is trial 3 with value: 0.059097651656365664.\n",
      "[I 2025-05-02 15:32:16,558] Trial 1 finished with value: 0.05909667650472934 and parameters: {'alpha': 1.2277899755412913, 'tol': 0.009593272834491118}. Best is trial 1 with value: 0.05909667650472934.\n",
      "[I 2025-05-02 15:32:16,559] Trial 2 finished with value: 0.059096677978039296 and parameters: {'alpha': 0.6282076381768031, 'tol': 0.008159840992483049}. Best is trial 1 with value: 0.05909667650472934.\n",
      "[I 2025-05-02 15:32:16,568] Trial 0 finished with value: 0.05909920411302173 and parameters: {'alpha': 6.612493875334779, 'tol': 0.009462643296391949}. Best is trial 1 with value: 0.05909667650472934.\n",
      "[I 2025-05-02 15:32:25,350] Trial 4 finished with value: 0.05910147945366853 and parameters: {'alpha': 9.219026714635461, 'tol': 0.00138082938145105}. Best is trial 1 with value: 0.05909667650472934.\n",
      "[I 2025-05-02 15:32:25,353] Trial 5 finished with value: 0.05910157093691375 and parameters: {'alpha': 9.314477446271951, 'tol': 0.0005812703176143868}. Best is trial 1 with value: 0.05909667650472934.\n",
      "[I 2025-05-02 15:32:25,362] Trial 7 finished with value: 0.05909674354117919 and parameters: {'alpha': 0.1055581322722221, 'tol': 0.00023839440548103526}. Best is trial 1 with value: 0.05909667650472934.\n",
      "[I 2025-05-02 15:32:25,363] Trial 6 finished with value: 0.05909856531124229 and parameters: {'alpha': 5.74852776323445, 'tol': 0.0020046729748352775}. Best is trial 1 with value: 0.05909667650472934.\n",
      "[I 2025-05-02 15:32:35,021] Trial 9 finished with value: 0.05910170830424857 and parameters: {'alpha': 9.456851868191492, 'tol': 0.007562327603431828}. Best is trial 1 with value: 0.05909667650472934.\n",
      "[I 2025-05-02 15:32:35,024] Trial 10 finished with value: 0.05909940540755449 and parameters: {'alpha': 6.867948623022965, 'tol': 0.0008817695537012893}. Best is trial 1 with value: 0.05909667650472934.\n",
      "[I 2025-05-02 15:32:35,026] Trial 8 finished with value: 0.05909753736532316 and parameters: {'alpha': 4.064815907392886, 'tol': 0.002776567128907497}. Best is trial 1 with value: 0.05909667650472934.\n",
      "[I 2025-05-02 15:32:35,050] Trial 11 finished with value: 0.05909961554322003 and parameters: {'alpha': 7.1277770366557105, 'tol': 0.0037462970656845147}. Best is trial 1 with value: 0.05909667650472934.\n",
      "[I 2025-05-02 15:32:42,699] Trial 12 finished with value: 0.059096683946620286 and parameters: {'alpha': 1.3342878619109044, 'tol': 0.009005160488708357}. Best is trial 1 with value: 0.05909667650472934.\n",
      "[I 2025-05-02 15:32:42,701] Trial 14 finished with value: 0.05909666850120931 and parameters: {'alpha': 1.018172758842696, 'tol': 0.00941173285920385}. Best is trial 14 with value: 0.05909666850120931.\n",
      "[I 2025-05-02 15:32:43,171] Trial 13 finished with value: 0.05909667061191345 and parameters: {'alpha': 0.7746058461133629, 'tol': 0.00920220403190344}. Best is trial 14 with value: 0.05909666850120931.\n",
      "[I 2025-05-02 15:32:43,175] Trial 15 finished with value: 0.05909667053331277 and parameters: {'alpha': 1.0990947572848173, 'tol': 0.009180512520934804}. Best is trial 14 with value: 0.05909666850120931.\n",
      "[I 2025-05-02 15:32:50,954] Trial 16 finished with value: 0.0590976170642345 and parameters: {'alpha': 4.217296381973965, 'tol': 0.006923102504767324}. Best is trial 14 with value: 0.05909666850120931.\n",
      "[I 2025-05-02 15:32:52,292] Trial 17 finished with value: 0.059097314458425844 and parameters: {'alpha': 3.6035758857457165, 'tol': 0.009723490490044574}. Best is trial 14 with value: 0.05909666850120931.\n",
      "[I 2025-05-02 15:32:52,296] Trial 19 finished with value: 0.059096701023880295 and parameters: {'alpha': 0.38225824085766913, 'tol': 0.004882710338875617}. Best is trial 14 with value: 0.05909666850120931.\n",
      "[I 2025-05-02 15:32:52,299] Trial 18 finished with value: 0.059096840108588025 and parameters: {'alpha': 2.267370036201747, 'tol': 0.005551658423490733}. Best is trial 14 with value: 0.05909666850120931.\n",
      "[I 2025-05-02 15:33:01,111] Trial 23 finished with value: 0.059096686704994246 and parameters: {'alpha': 0.5171426364242042, 'tol': 0.007139007778433924}. Best is trial 14 with value: 0.05909666850120931.\n",
      "[I 2025-05-02 15:33:01,114] Trial 22 finished with value: 0.05909719813049777 and parameters: {'alpha': 3.335665129200192, 'tol': 0.007245064240680539}. Best is trial 14 with value: 0.05909666850120931.\n",
      "[I 2025-05-02 15:33:01,119] Trial 21 finished with value: 0.059097121367240955 and parameters: {'alpha': 3.144600049179257, 'tol': 0.007513873411454322}. Best is trial 14 with value: 0.05909666850120931.\n",
      "[I 2025-05-02 15:33:01,128] Trial 20 finished with value: 0.059096760130052835 and parameters: {'alpha': 1.901575449702005, 'tol': 0.006009159339561962}. Best is trial 14 with value: 0.05909666850120931.\n",
      "[I 2025-05-02 15:33:10,404] Trial 26 finished with value: 0.059096710061994136 and parameters: {'alpha': 0.3124710494901387, 'tol': 0.009820683241031315}. Best is trial 14 with value: 0.05909666850120931.\n",
      "[I 2025-05-02 15:33:10,829] Trial 25 finished with value: 0.05909675903764634 and parameters: {'alpha': 0.026432594480265026, 'tol': 0.009273425826416529}. Best is trial 14 with value: 0.05909666850120931.\n",
      "[I 2025-05-02 15:33:10,837] Trial 27 finished with value: 0.05909673651777001 and parameters: {'alpha': 0.14421221729692624, 'tol': 0.009958115196469249}. Best is trial 14 with value: 0.05909666850120931.\n",
      "[I 2025-05-02 15:33:10,874] Trial 24 finished with value: 0.05909675819662218 and parameters: {'alpha': 0.030536861569242513, 'tol': 0.0096405776078058}. Best is trial 14 with value: 0.05909666850120931.\n",
      "[I 2025-05-02 15:33:19,337] Trial 30 finished with value: 0.0590974201743988 and parameters: {'alpha': 3.8295338614291365, 'tol': 0.009987342722707314}. Best is trial 14 with value: 0.05909666850120931.\n",
      "[I 2025-05-02 15:33:19,746] Trial 28 finished with value: 0.05909705735449117 and parameters: {'alpha': 2.9740513861079325, 'tol': 0.009328184281969049}. Best is trial 14 with value: 0.05909666850120931.\n",
      "[I 2025-05-02 15:33:19,750] Trial 31 finished with value: 0.059097052746259725 and parameters: {'alpha': 2.961309750222851, 'tol': 0.009865956733707954}. Best is trial 14 with value: 0.05909666850120931.\n",
      "[I 2025-05-02 15:33:19,761] Trial 29 finished with value: 0.05909702664796401 and parameters: {'alpha': 2.8878242276757966, 'tol': 0.009971693733809656}. Best is trial 14 with value: 0.05909666850120931.\n",
      "[I 2025-05-02 15:33:27,309] Trial 35 finished with value: 0.05909678060702515 and parameters: {'alpha': 2.00611589803996, 'tol': 0.008274549471785426}. Best is trial 14 with value: 0.05909666850120931.\n",
      "[I 2025-05-02 15:33:27,741] Trial 32 finished with value: 0.059096825137947846 and parameters: {'alpha': 2.2062427997592446, 'tol': 0.008083253112983893}. Best is trial 14 with value: 0.05909666850120931.\n",
      "[I 2025-05-02 15:33:27,744] Trial 34 finished with value: 0.05909666820094659 and parameters: {'alpha': 0.9977305673344212, 'tol': 0.007983270922050785}. Best is trial 34 with value: 0.05909666820094659.\n",
      "[I 2025-05-02 15:33:27,747] Trial 33 finished with value: 0.05909673331649593 and parameters: {'alpha': 1.7462084355957164, 'tol': 0.009202245249456158}. Best is trial 34 with value: 0.05909666820094659.\n",
      "[I 2025-05-02 15:33:35,732] Trial 39 finished with value: 0.05909669327910822 and parameters: {'alpha': 0.45036285411825405, 'tol': 0.007894968628642782}. Best is trial 34 with value: 0.05909666820094659.\n",
      "[I 2025-05-02 15:33:35,734] Trial 38 finished with value: 0.05909672628242467 and parameters: {'alpha': 0.20444244941103873, 'tol': 0.007984477277147801}. Best is trial 34 with value: 0.05909666820094659.\n",
      "[I 2025-05-02 15:33:35,738] Trial 36 finished with value: 0.05909667268238931 and parameters: {'alpha': 1.1542224076846161, 'tol': 0.007448458292432028}. Best is trial 34 with value: 0.05909666820094659.\n",
      "[I 2025-05-02 15:33:35,746] Trial 37 finished with value: 0.05909672045640875 and parameters: {'alpha': 0.24120288442310744, 'tol': 0.0068952693119287345}. Best is trial 34 with value: 0.05909666820094659.\n",
      "[I 2025-05-02 15:33:44,578] Trial 40 finished with value: 0.05909919277519514 and parameters: {'alpha': 6.597898136317798, 'tol': 0.008873826093302917}. Best is trial 34 with value: 0.05909666820094659.\n",
      "[I 2025-05-02 15:33:44,579] Trial 42 finished with value: 0.059096695477286326 and parameters: {'alpha': 1.4589347971051878, 'tol': 0.008403907052365857}. Best is trial 34 with value: 0.05909666820094659.\n",
      "[I 2025-05-02 15:33:44,592] Trial 43 finished with value: 0.05909989404745977 and parameters: {'alpha': 7.46266302904764, 'tol': 0.009711677526112293}. Best is trial 34 with value: 0.05909666820094659.\n",
      "[I 2025-05-02 15:33:44,598] Trial 41 finished with value: 0.05909670764413959 and parameters: {'alpha': 1.565023370272791, 'tol': 0.009915168142443089}. Best is trial 34 with value: 0.05909666820094659.\n",
      "[I 2025-05-02 15:33:52,481] Trial 44 finished with value: 0.059101661295756405 and parameters: {'alpha': 9.40825561503405, 'tol': 0.004598324854061359}. Best is trial 34 with value: 0.05909666820094659.\n",
      "[I 2025-05-02 15:33:53,004] Trial 47 finished with value: 0.05909667081410334 and parameters: {'alpha': 1.1072996097733174, 'tol': 0.00800751865569082}. Best is trial 34 with value: 0.05909666820094659.\n",
      "[I 2025-05-02 15:33:53,962] Trial 45 finished with value: 0.05909672218221961 and parameters: {'alpha': 1.6728154792834014, 'tol': 0.00809090326090363}. Best is trial 34 with value: 0.05909666820094659.\n",
      "[I 2025-05-02 15:33:53,966] Trial 46 finished with value: 0.05909670006518599 and parameters: {'alpha': 1.5011790208166247, 'tol': 0.007248050714948602}. Best is trial 34 with value: 0.05909666820094659.\n",
      "[I 2025-05-02 15:34:02,474] Trial 48 finished with value: 0.059096682463443705 and parameters: {'alpha': 1.3153991272622034, 'tol': 0.007785592746643569}. Best is trial 34 with value: 0.05909666820094659.\n",
      "[I 2025-05-02 15:34:02,489] Trial 49 finished with value: 0.05909674108994199 and parameters: {'alpha': 1.793949444450762, 'tol': 0.007940591318631002}. Best is trial 34 with value: 0.05909666820094659.\n",
      "[I 2025-05-02 15:34:03,080] Trial 51 finished with value: 0.05909668600617816 and parameters: {'alpha': 1.3591592158096517, 'tol': 0.008332325764871026}. Best is trial 34 with value: 0.05909666820094659.\n",
      "[I 2025-05-02 15:34:03,553] Trial 50 finished with value: 0.059096679944830165 and parameters: {'alpha': 1.2810306331789962, 'tol': 0.008819425206982773}. Best is trial 34 with value: 0.05909666820094659.\n",
      "[I 2025-05-02 15:34:12,098] Trial 53 finished with value: 0.05909667044432017 and parameters: {'alpha': 1.0964072724460467, 'tol': 0.008514128731959019}. Best is trial 34 with value: 0.05909666820094659.\n",
      "[I 2025-05-02 15:34:12,104] Trial 52 finished with value: 0.05909671997827342 and parameters: {'alpha': 1.657457171159748, 'tol': 0.008649105742719432}. Best is trial 34 with value: 0.05909666820094659.\n",
      "[I 2025-05-02 15:34:13,130] Trial 55 finished with value: 0.059096771834071284 and parameters: {'alpha': 1.962529098464647, 'tol': 0.0014269989792230365}. Best is trial 34 with value: 0.05909666820094659.\n",
      "[I 2025-05-02 15:34:13,147] Trial 54 finished with value: 0.059096671444176296 and parameters: {'alpha': 0.7520490914127161, 'tol': 0.007760770597667997}. Best is trial 34 with value: 0.05909666820094659.\n",
      "[I 2025-05-02 15:34:21,339] Trial 56 finished with value: 0.059096744706172315 and parameters: {'alpha': 0.09933050462431914, 'tol': 0.008092051908462383}. Best is trial 34 with value: 0.05909666820094659.\n",
      "[I 2025-05-02 15:34:21,831] Trial 57 finished with value: 0.05909673283777462 and parameters: {'alpha': 0.16529152217513, 'tol': 0.008716860559279123}. Best is trial 34 with value: 0.05909666820094659.\n",
      "[I 2025-05-02 15:34:22,788] Trial 58 finished with value: 0.059096710843238615 and parameters: {'alpha': 0.30681874563195266, 'tol': 0.007836990707681672}. Best is trial 34 with value: 0.05909666820094659.\n",
      "[I 2025-05-02 15:34:22,799] Trial 59 finished with value: 0.05909667352987754 and parameters: {'alpha': 1.1724856274522404, 'tol': 0.009941472162520986}. Best is trial 34 with value: 0.05909666820094659.\n",
      "[I 2025-05-02 15:34:30,503] Trial 60 finished with value: 0.05909667207718587 and parameters: {'alpha': 1.140195728090065, 'tol': 0.009666496292736085}. Best is trial 34 with value: 0.05909666820094659.\n",
      "[I 2025-05-02 15:34:30,985] Trial 61 finished with value: 0.05909937799927698 and parameters: {'alpha': 6.83356078159646, 'tol': 0.006723859846809346}. Best is trial 34 with value: 0.05909666820094659.\n",
      "[I 2025-05-02 15:34:31,553] Trial 62 finished with value: 0.05909680464309549 and parameters: {'alpha': 2.1179711988661403, 'tol': 0.009406119998225663}. Best is trial 34 with value: 0.05909666820094659.\n",
      "[I 2025-05-02 15:34:32,041] Trial 63 finished with value: 0.05909674879694622 and parameters: {'alpha': 1.838950910867072, 'tol': 0.009396902293280752}. Best is trial 34 with value: 0.05909666820094659.\n",
      "[I 2025-05-02 15:34:40,495] Trial 65 finished with value: 0.05909671759017564 and parameters: {'alpha': 1.6404592047200324, 'tol': 0.006839405151961373}. Best is trial 34 with value: 0.05909666820094659.\n",
      "[I 2025-05-02 15:34:40,500] Trial 64 finished with value: 0.059096675095373565 and parameters: {'alpha': 1.2029974367175593, 'tol': 0.0062375504012850535}. Best is trial 34 with value: 0.05909666820094659.\n",
      "[I 2025-05-02 15:34:41,086] Trial 66 finished with value: 0.05909696972473514 and parameters: {'alpha': 2.7186891980280206, 'tol': 0.006875945695805077}. Best is trial 34 with value: 0.05909666820094659.\n",
      "[I 2025-05-02 15:34:42,538] Trial 67 finished with value: 0.05909694993869647 and parameters: {'alpha': 2.656574616082261, 'tol': 0.005785093147099284}. Best is trial 34 with value: 0.05909666820094659.\n",
      "[I 2025-05-02 15:34:49,238] Trial 68 finished with value: 0.059096764401665204 and parameters: {'alpha': 0.0007109084416845324, 'tol': 0.0070720236787423126}. Best is trial 34 with value: 0.05909666820094659.\n",
      "[I 2025-05-02 15:34:50,704] Trial 70 finished with value: 0.05909672483261153 and parameters: {'alpha': 0.21340544645006831, 'tol': 0.007196287540795387}. Best is trial 34 with value: 0.05909666820094659.\n",
      "[I 2025-05-02 15:34:50,713] Trial 69 finished with value: 0.05909674960322191 and parameters: {'alpha': 0.07367772668183359, 'tol': 0.007683218441145167}. Best is trial 34 with value: 0.05909666820094659.\n",
      "[I 2025-05-02 15:34:51,779] Trial 71 finished with value: 0.059096734038196486 and parameters: {'alpha': 0.15834858937362872, 'tol': 0.008224828093348601}. Best is trial 34 with value: 0.05909666820094659.\n",
      "[I 2025-05-02 15:34:58,364] Trial 72 finished with value: 0.05909674731988072 and parameters: {'alpha': 0.08553578647451265, 'tol': 0.009016199690958487}. Best is trial 34 with value: 0.05909666820094659.\n",
      "[I 2025-05-02 15:34:59,866] Trial 73 finished with value: 0.05909675234197454 and parameters: {'alpha': 0.05968103824612192, 'tol': 0.008855182145215862}. Best is trial 34 with value: 0.05909666820094659.\n",
      "[I 2025-05-02 15:34:59,883] Trial 74 finished with value: 0.05909666802835368 and parameters: {'alpha': 0.9819545063159031, 'tol': 0.009824260031237361}. Best is trial 74 with value: 0.05909666802835368.\n",
      "[I 2025-05-02 15:35:00,847] Trial 75 finished with value: 0.05909675433556666 and parameters: {'alpha': 0.04964147240774597, 'tol': 0.009894201076691943}. Best is trial 74 with value: 0.05909666802835368.\n",
      "[I 2025-05-02 15:35:07,990] Trial 76 finished with value: 0.059096669393261185 and parameters: {'alpha': 1.060364641747456, 'tol': 0.009973550685188013}. Best is trial 74 with value: 0.05909666802835368.\n",
      "[I 2025-05-02 15:35:09,459] Trial 77 finished with value: 0.059096736928101024 and parameters: {'alpha': 1.7687077522727273, 'tol': 0.009829790442159767}. Best is trial 74 with value: 0.05909666802835368.\n",
      "[I 2025-05-02 15:35:09,459] Trial 78 finished with value: 0.0590966960150609 and parameters: {'alpha': 1.4640540996467086, 'tol': 0.009818345668252296}. Best is trial 74 with value: 0.05909666802835368.\n",
      "[I 2025-05-02 15:35:10,436] Trial 79 finished with value: 0.059096716726639235 and parameters: {'alpha': 1.6342165099409494, 'tol': 0.00992956444054842}. Best is trial 74 with value: 0.05909666802835368.\n",
      "[I 2025-05-02 15:35:17,167] Trial 80 finished with value: 0.05909671032884106 and parameters: {'alpha': 1.5862038713189324, 'tol': 0.009601806741238523}. Best is trial 74 with value: 0.05909666802835368.\n",
      "[I 2025-05-02 15:35:18,656] Trial 82 finished with value: 0.059096733093920335 and parameters: {'alpha': 1.7448026847169626, 'tol': 0.009955701436426533}. Best is trial 74 with value: 0.05909666802835368.\n",
      "[I 2025-05-02 15:35:18,670] Trial 81 finished with value: 0.05909666817193424 and parameters: {'alpha': 0.9953777874980708, 'tol': 0.009914207581550647}. Best is trial 74 with value: 0.05909666802835368.\n",
      "[I 2025-05-02 15:35:19,600] Trial 83 finished with value: 0.05909696386429646 and parameters: {'alpha': 2.7004888635794337, 'tol': 0.008361752386102974}. Best is trial 74 with value: 0.05909666802835368.\n",
      "[I 2025-05-02 15:35:26,313] Trial 84 finished with value: 0.05909707521968539 and parameters: {'alpha': 3.022825550539212, 'tol': 0.008444854735929775}. Best is trial 74 with value: 0.05909666802835368.\n",
      "[I 2025-05-02 15:35:27,812] Trial 86 finished with value: 0.059096685168598326 and parameters: {'alpha': 0.5344041417069196, 'tol': 0.009762622242123974}. Best is trial 74 with value: 0.05909666802835368.\n",
      "[I 2025-05-02 15:35:29,210] Trial 87 finished with value: 0.05909670326230499 and parameters: {'alpha': 0.36414278380606624, 'tol': 0.009596426117655701}. Best is trial 74 with value: 0.05909666802835368.\n",
      "[I 2025-05-02 15:35:29,214] Trial 85 finished with value: 0.05909667027376747 and parameters: {'alpha': 0.784734577118757, 'tol': 0.009857534933160602}. Best is trial 74 with value: 0.05909666802835368.\n",
      "[I 2025-05-02 15:35:35,484] Trial 88 finished with value: 0.05909670624868705 and parameters: {'alpha': 0.3408696841674782, 'tol': 0.009814034305072446}. Best is trial 74 with value: 0.05909666802835368.\n",
      "[I 2025-05-02 15:35:36,988] Trial 89 finished with value: 0.05909672764344209 and parameters: {'alpha': 0.19613301976940267, 'tol': 0.009941482430254216}. Best is trial 74 with value: 0.05909666802835368.\n",
      "[I 2025-05-02 15:35:38,368] Trial 91 finished with value: 0.05909668437772183 and parameters: {'alpha': 0.5435948549100511, 'tol': 0.009953201939550682}. Best is trial 74 with value: 0.05909666802835368.\n",
      "[I 2025-05-02 15:35:38,375] Trial 90 finished with value: 0.05909667996519017 and parameters: {'alpha': 1.2813218232750603, 'tol': 0.009834540156331359}. Best is trial 74 with value: 0.05909666802835368.\n",
      "[I 2025-05-02 15:35:44,538] Trial 92 finished with value: 0.059096747279156925 and parameters: {'alpha': 1.8302554019012502, 'tol': 0.009878312388780185}. Best is trial 74 with value: 0.05909666802835368.\n",
      "[I 2025-05-02 15:35:46,506] Trial 93 finished with value: 0.05909697378323295 and parameters: {'alpha': 2.7311998653746, 'tol': 0.0098465544431903}. Best is trial 74 with value: 0.05909666802835368.\n",
      "[I 2025-05-02 15:35:47,502] Trial 94 finished with value: 0.05909681831819829 and parameters: {'alpha': 2.1775010101827195, 'tol': 0.009983267019356989}. Best is trial 74 with value: 0.05909666802835368.\n",
      "[I 2025-05-02 15:35:47,510] Trial 95 finished with value: 0.05909674157821648 and parameters: {'alpha': 1.7968654981582275, 'tol': 0.008434514106076032}. Best is trial 74 with value: 0.05909666802835368.\n",
      "[I 2025-05-02 15:35:53,356] Trial 96 finished with value: 0.0590968467355967 and parameters: {'alpha': 2.293637855627227, 'tol': 0.00856365035791432}. Best is trial 74 with value: 0.05909666802835368.\n",
      "[I 2025-05-02 15:35:54,437] Trial 97 finished with value: 0.0590975011932601 and parameters: {'alpha': 3.9936984455145494, 'tol': 0.0008248462386950851}. Best is trial 74 with value: 0.05909666802835368.\n",
      "[I 2025-05-02 15:35:55,870] Trial 98 finished with value: 0.05909756342577589 and parameters: {'alpha': 4.115290268380451, 'tol': 0.004215113629676295}. Best is trial 74 with value: 0.05909666802835368.\n",
      "[I 2025-05-02 15:35:56,423] Trial 99 finished with value: 0.0590966815006899 and parameters: {'alpha': 1.3026324303908274, 'tol': 0.008148837890395961}. Best is trial 74 with value: 0.05909666802835368.\n",
      "[I 2025-05-02 15:36:02,114] Trial 100 finished with value: 0.05909667972067199 and parameters: {'alpha': 1.277808738376561, 'tol': 0.00838935963356353}. Best is trial 74 with value: 0.05909666802835368.\n",
      "[I 2025-05-02 15:36:03,624] Trial 101 finished with value: 0.05910212935315052 and parameters: {'alpha': 9.886643094931163, 'tol': 0.008708549144673845}. Best is trial 74 with value: 0.05909666802835368.\n",
      "[I 2025-05-02 15:36:04,588] Trial 102 finished with value: 0.059096694942748294 and parameters: {'alpha': 1.4537981521973569, 'tol': 0.008034710999903513}. Best is trial 74 with value: 0.05909666802835368.\n",
      "[I 2025-05-02 15:36:05,113] Trial 103 finished with value: 0.05909669464632899 and parameters: {'alpha': 1.4509284939829565, 'tol': 0.008676141116275987}. Best is trial 74 with value: 0.05909666802835368.\n",
      "[I 2025-05-02 15:36:12,208] Trial 104 finished with value: 0.05910213928819936 and parameters: {'alpha': 9.896671523497337, 'tol': 0.00254418838491266}. Best is trial 74 with value: 0.05909666802835368.\n",
      "[I 2025-05-02 15:36:13,195] Trial 105 finished with value: 0.05909671543164412 and parameters: {'alpha': 1.6247544273370789, 'tol': 0.007636754614305944}. Best is trial 74 with value: 0.05909666802835368.\n",
      "[I 2025-05-02 15:36:13,756] Trial 106 finished with value: 0.05909667467205971 and parameters: {'alpha': 1.195096266452991, 'tol': 0.008105728039809499}. Best is trial 74 with value: 0.05909666802835368.\n",
      "[I 2025-05-02 15:36:14,669] Trial 107 finished with value: 0.05909670256380393 and parameters: {'alpha': 1.5229597524714822, 'tol': 0.007803161667294825}. Best is trial 74 with value: 0.05909666802835368.\n",
      "[I 2025-05-02 15:36:21,343] Trial 108 finished with value: 0.059096733898079984 and parameters: {'alpha': 1.7498708807932628, 'tol': 0.0070828170916458965}. Best is trial 74 with value: 0.05909666802835368.\n",
      "[I 2025-05-02 15:36:22,338] Trial 109 finished with value: 0.059096679427401676 and parameters: {'alpha': 0.6070837774231901, 'tol': 0.0035521095200124523}. Best is trial 74 with value: 0.05909666802835368.\n",
      "[I 2025-05-02 15:36:23,447] Trial 111 finished with value: 0.05909666790776153 and parameters: {'alpha': 0.9662350695640173, 'tol': 0.008507730423017593}. Best is trial 111 with value: 0.05909666790776153.\n",
      "[I 2025-05-02 15:36:23,938] Trial 110 finished with value: 0.05909668434911215 and parameters: {'alpha': 1.339265362057779, 'tol': 0.008418982441214772}. Best is trial 111 with value: 0.05909666790776153.\n",
      "[I 2025-05-02 15:36:30,560] Trial 112 finished with value: 0.05909668401153836 and parameters: {'alpha': 0.5479261601715779, 'tol': 0.008588571680579842}. Best is trial 111 with value: 0.05909666790776153.\n",
      "[I 2025-05-02 15:36:31,531] Trial 113 finished with value: 0.05909675838553749 and parameters: {'alpha': 0.029613198651305184, 'tol': 0.008631383595456113}. Best is trial 111 with value: 0.05909666790776153.\n",
      "[I 2025-05-02 15:36:33,041] Trial 114 finished with value: 0.05909667092824109 and parameters: {'alpha': 0.7656777734044206, 'tol': 0.008567685277074301}. Best is trial 111 with value: 0.05909666790776153.\n",
      "[I 2025-05-02 15:36:33,960] Trial 115 finished with value: 0.05909668690783231 and parameters: {'alpha': 0.5149182310667985, 'tol': 0.00881033654915869}. Best is trial 111 with value: 0.05909666790776153.\n",
      "[I 2025-05-02 15:36:40,072] Trial 116 finished with value: 0.05909666830370152 and parameters: {'alpha': 1.0054161098058607, 'tol': 0.008485124108429751}. Best is trial 111 with value: 0.05909666790776153.\n",
      "[I 2025-05-02 15:36:41,103] Trial 117 finished with value: 0.05909667705814333 and parameters: {'alpha': 1.2369772923335902, 'tol': 0.0088529237027832}. Best is trial 111 with value: 0.05909666790776153.\n",
      "[I 2025-05-02 15:36:42,532] Trial 118 finished with value: 0.059096673114306886 and parameters: {'alpha': 1.163710924694366, 'tol': 0.008970557071591447}. Best is trial 111 with value: 0.05909666790776153.\n",
      "[I 2025-05-02 15:36:43,549] Trial 119 finished with value: 0.05909669366885541 and parameters: {'alpha': 1.441354558117807, 'tol': 0.009887664746294367}. Best is trial 111 with value: 0.05909666790776153.\n",
      "[I 2025-05-02 15:36:49,666] Trial 120 finished with value: 0.05909669598215688 and parameters: {'alpha': 1.4637422439582326, 'tol': 0.009853026125401027}. Best is trial 111 with value: 0.05909666790776153.\n",
      "[I 2025-05-02 15:36:51,094] Trial 121 finished with value: 0.059096667955411186 and parameters: {'alpha': 0.9013799253327972, 'tol': 0.00984417671872544}. Best is trial 111 with value: 0.05909666790776153.\n",
      "[I 2025-05-02 15:36:52,046] Trial 122 finished with value: 0.059096678589661805 and parameters: {'alpha': 1.2610774798396076, 'tol': 0.009805776132783297}. Best is trial 111 with value: 0.05909666790776153.\n",
      "[I 2025-05-02 15:36:52,624] Trial 123 finished with value: 0.05909675689935678 and parameters: {'alpha': 0.036907128572588155, 'tol': 0.00971457712330999}. Best is trial 111 with value: 0.05909666790776153.\n",
      "[I 2025-05-02 15:36:59,749] Trial 124 finished with value: 0.05909666825746039 and parameters: {'alpha': 1.002069844469511, 'tol': 0.00864367711918075}. Best is trial 111 with value: 0.05909666790776153.\n",
      "[I 2025-05-02 15:37:00,282] Trial 125 finished with value: 0.05909673495599066 and parameters: {'alpha': 0.15308445504812718, 'tol': 0.00997745836976282}. Best is trial 111 with value: 0.05909666790776153.\n",
      "[I 2025-05-02 15:37:01,251] Trial 126 finished with value: 0.05909670815015697 and parameters: {'alpha': 0.32653547232752145, 'tol': 0.009781662496707614}. Best is trial 111 with value: 0.05909666790776153.\n",
      "[I 2025-05-02 15:37:02,773] Trial 127 finished with value: 0.059096840760255426 and parameters: {'alpha': 2.269973627391409, 'tol': 0.00882541936397353}. Best is trial 111 with value: 0.05909666790776153.\n",
      "[I 2025-05-02 15:37:09,705] Trial 128 finished with value: 0.05909667897789282 and parameters: {'alpha': 1.2669138222369494, 'tol': 0.009965372641435473}. Best is trial 111 with value: 0.05909666790776153.\n",
      "[I 2025-05-02 15:37:09,728] Trial 129 finished with value: 0.059096797494991624 and parameters: {'alpha': 2.08574513592145, 'tol': 0.008612727149337949}. Best is trial 111 with value: 0.05909666790776153.\n",
      "[I 2025-05-02 15:37:10,820] Trial 130 finished with value: 0.05909713733707788 and parameters: {'alpha': 3.1854530590367527, 'tol': 0.008499740980857776}. Best is trial 111 with value: 0.05909666790776153.\n",
      "[I 2025-05-02 15:37:12,254] Trial 131 finished with value: 0.05909688765240116 and parameters: {'alpha': 2.44675074014198, 'tol': 0.008882416351782206}. Best is trial 111 with value: 0.05909666790776153.\n",
      "[I 2025-05-02 15:37:18,888] Trial 133 finished with value: 0.05909730336639901 and parameters: {'alpha': 3.5789818974917273, 'tol': 0.008418311060731244}. Best is trial 111 with value: 0.05909666790776153.\n",
      "[I 2025-05-02 15:37:18,903] Trial 132 finished with value: 0.05909728267082519 and parameters: {'alpha': 3.532595458687291, 'tol': 0.008596216176642642}. Best is trial 111 with value: 0.05909666790776153.\n",
      "[I 2025-05-02 15:37:19,975] Trial 134 finished with value: 0.05909669486621769 and parameters: {'alpha': 1.4530587185084345, 'tol': 0.008153941262446012}. Best is trial 111 with value: 0.05909666790776153.\n",
      "[I 2025-05-02 15:37:21,334] Trial 135 finished with value: 0.05909674079864156 and parameters: {'alpha': 0.12041943535595367, 'tol': 0.007915319542338114}. Best is trial 111 with value: 0.05909666790776153.\n",
      "[I 2025-05-02 15:37:28,428] Trial 136 finished with value: 0.059096676877818964 and parameters: {'alpha': 1.234014198587932, 'tol': 0.00808666567825177}. Best is trial 111 with value: 0.05909666790776153.\n",
      "[I 2025-05-02 15:37:28,438] Trial 137 finished with value: 0.05909667598267163 and parameters: {'alpha': 0.6599816014275822, 'tol': 0.008028712914691427}. Best is trial 111 with value: 0.05909666790776153.\n",
      "[I 2025-05-02 15:37:29,577] Trial 138 finished with value: 0.05909666860042707 and parameters: {'alpha': 0.8511112210700146, 'tol': 0.008253016026850165}. Best is trial 111 with value: 0.05909666790776153.\n",
      "[I 2025-05-02 15:37:30,552] Trial 139 finished with value: 0.059096673482787423 and parameters: {'alpha': 1.1715075412907674, 'tol': 0.008449963790447861}. Best is trial 111 with value: 0.05909666790776153.\n",
      "[I 2025-05-02 15:37:37,567] Trial 140 finished with value: 0.059096672021495385 and parameters: {'alpha': 1.138856806571466, 'tol': 0.00848651291733409}. Best is trial 111 with value: 0.05909666790776153.\n",
      "[I 2025-05-02 15:37:38,543] Trial 141 finished with value: 0.05909967229283021 and parameters: {'alpha': 7.196850038677939, 'tol': 0.0012633045399481624}. Best is trial 111 with value: 0.05909666790776153.\n",
      "[I 2025-05-02 15:37:39,505] Trial 142 finished with value: 0.059096702882110747 and parameters: {'alpha': 1.5256792231573202, 'tol': 0.00982856166002173}. Best is trial 111 with value: 0.05909666790776153.\n",
      "[I 2025-05-02 15:37:40,050] Trial 143 finished with value: 0.059096734428827104 and parameters: {'alpha': 0.1561034520401282, 'tol': 0.008798148815284254}. Best is trial 111 with value: 0.05909666790776153.\n",
      "[I 2025-05-02 15:37:46,643] Trial 144 finished with value: 0.059096672144801764 and parameters: {'alpha': 1.141809769503047, 'tol': 0.006337841191823106}. Best is trial 111 with value: 0.05909666790776153.\n",
      "[I 2025-05-02 15:37:48,079] Trial 145 finished with value: 0.05909667509609059 and parameters: {'alpha': 0.6753641813763727, 'tol': 0.005676381910723147}. Best is trial 111 with value: 0.05909666790776153.\n",
      "[I 2025-05-02 15:37:49,048] Trial 146 finished with value: 0.05909667837088913 and parameters: {'alpha': 1.2577430508329548, 'tol': 0.007067396935457263}. Best is trial 111 with value: 0.05909666790776153.\n",
      "[I 2025-05-02 15:37:50,014] Trial 147 finished with value: 0.05909668969577996 and parameters: {'alpha': 0.4854905415220587, 'tol': 0.006069198125485487}. Best is trial 111 with value: 0.05909666790776153.\n",
      "[I 2025-05-02 15:37:56,628] Trial 148 finished with value: 0.059096668798264744 and parameters: {'alpha': 1.0342658006483259, 'tol': 0.009879221706469599}. Best is trial 111 with value: 0.05909666790776153.\n",
      "[I 2025-05-02 15:37:57,592] Trial 149 finished with value: 0.059096687908192544 and parameters: {'alpha': 1.3809310303429392, 'tol': 0.008834582572957588}. Best is trial 111 with value: 0.05909666790776153.\n",
      "[I 2025-05-02 15:37:58,155] Trial 150 finished with value: 0.05909667166168477 and parameters: {'alpha': 1.1299858192693502, 'tol': 0.009989362537798729}. Best is trial 111 with value: 0.05909666790776153.\n",
      "[I 2025-05-02 15:37:59,094] Trial 151 finished with value: 0.05909666885311817 and parameters: {'alpha': 0.8381660138219036, 'tol': 0.00989496199321661}. Best is trial 111 with value: 0.05909666790776153.\n",
      "[I 2025-05-02 15:38:05,429] Trial 152 finished with value: 0.05909684559913706 and parameters: {'alpha': 2.2891656782504413, 'tol': 0.009934135202614342}. Best is trial 111 with value: 0.05909666790776153.\n",
      "[I 2025-05-02 15:38:06,857] Trial 153 finished with value: 0.0590967097892812 and parameters: {'alpha': 1.5820001353774829, 'tol': 0.009854165565994806}. Best is trial 111 with value: 0.05909666790776153.\n",
      "[I 2025-05-02 15:38:07,393] Trial 154 finished with value: 0.05909666935994086 and parameters: {'alpha': 0.8163359935704558, 'tol': 0.009979856286629847}. Best is trial 111 with value: 0.05909666790776153.\n",
      "[I 2025-05-02 15:38:08,341] Trial 155 finished with value: 0.059096813960269036 and parameters: {'alpha': 2.158815463283438, 'tol': 0.009957372699383555}. Best is trial 111 with value: 0.05909666790776153.\n",
      "[I 2025-05-02 15:38:15,023] Trial 156 finished with value: 0.05909674431975224 and parameters: {'alpha': 1.813070300087797, 'tol': 0.009753270728459893}. Best is trial 111 with value: 0.05909666790776153.\n",
      "[I 2025-05-02 15:38:16,461] Trial 157 finished with value: 0.05909672583736617 and parameters: {'alpha': 0.20718145729984294, 'tol': 0.009931390894398465}. Best is trial 111 with value: 0.05909666790776153.\n",
      "[I 2025-05-02 15:38:17,450] Trial 159 finished with value: 0.059096687507662546 and parameters: {'alpha': 1.3764328914746393, 'tol': 0.00956900348216002}. Best is trial 111 with value: 0.05909666790776153.\n",
      "[I 2025-05-02 15:38:17,887] Trial 158 finished with value: 0.05909668370291733 and parameters: {'alpha': 0.5516156059966681, 'tol': 0.009726237087298039}. Best is trial 111 with value: 0.05909666790776153.\n",
      "[I 2025-05-02 15:38:24,535] Trial 160 finished with value: 0.05909667019242428 and parameters: {'alpha': 0.7872744469392822, 'tol': 0.009803642787299087}. Best is trial 111 with value: 0.05909666790776153.\n",
      "[I 2025-05-02 15:38:25,524] Trial 161 finished with value: 0.059096675046087996 and parameters: {'alpha': 0.6762593593410112, 'tol': 0.009593312479015268}. Best is trial 111 with value: 0.05909666790776153.\n",
      "[I 2025-05-02 15:38:27,030] Trial 162 finished with value: 0.059096750204049864 and parameters: {'alpha': 0.07058635439875627, 'tol': 0.009854882717356208}. Best is trial 111 with value: 0.05909666790776153.\n",
      "[I 2025-05-02 15:38:27,034] Trial 163 finished with value: 0.05909667219876997 and parameters: {'alpha': 1.1430890938557852, 'tol': 0.00992277276071289}. Best is trial 111 with value: 0.05909666790776153.\n",
      "[I 2025-05-02 15:38:33,671] Trial 164 finished with value: 0.05909674803940315 and parameters: {'alpha': 0.08178007531574172, 'tol': 0.009470636389936764}. Best is trial 111 with value: 0.05909666790776153.\n",
      "[I 2025-05-02 15:38:34,753] Trial 165 finished with value: 0.059096686019995584 and parameters: {'alpha': 1.3593212856096792, 'tol': 0.009864822397647991}. Best is trial 111 with value: 0.05909666790776153.\n",
      "[I 2025-05-02 15:38:36,247] Trial 167 finished with value: 0.0590966708358209 and parameters: {'alpha': 1.1079179766315024, 'tol': 0.009993884925968945}. Best is trial 111 with value: 0.05909666790776153.\n",
      "[I 2025-05-02 15:38:36,260] Trial 166 finished with value: 0.059099722024584064 and parameters: {'alpha': 7.257019387586903, 'tol': 0.004132505184345484}. Best is trial 111 with value: 0.05909666790776153.\n",
      "[I 2025-05-02 15:38:42,451] Trial 168 finished with value: 0.05909898214161382 and parameters: {'alpha': 6.322345608515683, 'tol': 0.00527485555087082}. Best is trial 111 with value: 0.05909666790776153.\n",
      "[I 2025-05-02 15:38:43,534] Trial 169 finished with value: 0.05910007899601271 and parameters: {'alpha': 7.67974589641971, 'tol': 0.0047750501273547885}. Best is trial 111 with value: 0.05909666790776153.\n",
      "[I 2025-05-02 15:38:45,912] Trial 171 finished with value: 0.059096730505558054 and parameters: {'alpha': 0.17897409659990093, 'tol': 0.0083874328611637}. Best is trial 111 with value: 0.05909666790776153.\n",
      "[I 2025-05-02 15:38:46,345] Trial 170 finished with value: 0.05909857022079493 and parameters: {'alpha': 5.755542400976014, 'tol': 0.0030963678620229366}. Best is trial 111 with value: 0.05909666790776153.\n",
      "[I 2025-05-02 15:38:50,739] Trial 172 finished with value: 0.05909667995999553 and parameters: {'alpha': 1.2812475504626384, 'tol': 0.008315402689542072}. Best is trial 111 with value: 0.05909666790776153.\n",
      "[I 2025-05-02 15:38:52,242] Trial 173 finished with value: 0.05909670514946974 and parameters: {'alpha': 1.544714706068183, 'tol': 0.008150702979516675}. Best is trial 111 with value: 0.05909666790776153.\n",
      "[I 2025-05-02 15:38:55,491] Trial 174 finished with value: 0.059096719062361996 and parameters: {'alpha': 1.6509830583022098, 'tol': 0.008426886697589049}. Best is trial 111 with value: 0.05909666790776153.\n",
      "[I 2025-05-02 15:38:55,513] Trial 175 finished with value: 0.05909667905006183 and parameters: {'alpha': 1.2679876957468532, 'tol': 0.008282814724956906}. Best is trial 111 with value: 0.05909666790776153.\n",
      "[I 2025-05-02 15:38:59,889] Trial 176 finished with value: 0.059096702782858015 and parameters: {'alpha': 1.5248325395414417, 'tol': 0.008769039466431006}. Best is trial 111 with value: 0.05909666790776153.\n",
      "[I 2025-05-02 15:39:00,946] Trial 177 finished with value: 0.05909674933749659 and parameters: {'alpha': 0.07504872517151662, 'tol': 0.008416801334009606}. Best is trial 111 with value: 0.05909666790776153.\n",
      "[I 2025-05-02 15:39:04,307] Trial 179 finished with value: 0.059096682312352516 and parameters: {'alpha': 1.3134233811688132, 'tol': 0.00997466158341852}. Best is trial 111 with value: 0.05909666790776153.\n",
      "[I 2025-05-02 15:39:04,309] Trial 178 finished with value: 0.059096762838108864 and parameters: {'alpha': 0.00812926335246067, 'tol': 0.0099091890680907}. Best is trial 111 with value: 0.05909666790776153.\n",
      "[I 2025-05-02 15:39:09,045] Trial 180 finished with value: 0.05909674866625827 and parameters: {'alpha': 0.07852241174910768, 'tol': 0.00999304188008303}. Best is trial 111 with value: 0.05909666790776153.\n",
      "[I 2025-05-02 15:39:10,522] Trial 181 finished with value: 0.059096838626268806 and parameters: {'alpha': 2.261430681233588, 'tol': 0.009980345692421884}. Best is trial 111 with value: 0.05909666790776153.\n",
      "[I 2025-05-02 15:39:13,420] Trial 182 finished with value: 0.05909669151275158 and parameters: {'alpha': 1.4195928304000969, 'tol': 0.008742193727821104}. Best is trial 111 with value: 0.05909666790776153.\n",
      "[I 2025-05-02 15:39:13,965] Trial 183 finished with value: 0.059096667821791515 and parameters: {'alpha': 0.9335439747856088, 'tol': 0.009981873786346858}. Best is trial 183 with value: 0.059096667821791515.\n",
      "[I 2025-05-02 15:39:17,771] Trial 184 finished with value: 0.0590966678707094 and parameters: {'alpha': 0.9592588727491694, 'tol': 0.008250740220033968}. Best is trial 183 with value: 0.059096667821791515.\n",
      "[I 2025-05-02 15:39:20,612] Trial 185 finished with value: 0.05909666915083915 and parameters: {'alpha': 1.0504535527867571, 'tol': 0.008177423455462558}. Best is trial 183 with value: 0.059096667821791515.\n",
      "[I 2025-05-02 15:39:22,966] Trial 186 finished with value: 0.05909674336392762 and parameters: {'alpha': 0.10651003437467033, 'tol': 0.00808655713766488}. Best is trial 183 with value: 0.059096667821791515.\n",
      "[I 2025-05-02 15:39:23,982] Trial 187 finished with value: 0.059096667832079834 and parameters: {'alpha': 0.9478997234112695, 'tol': 0.0086920550849935}. Best is trial 183 with value: 0.059096667821791515.\n",
      "[I 2025-05-02 15:39:27,752] Trial 188 finished with value: 0.05909666823849808 and parameters: {'alpha': 0.8741545494064432, 'tol': 0.008197423743092952}. Best is trial 183 with value: 0.059096667821791515.\n",
      "[I 2025-05-02 15:39:30,121] Trial 189 finished with value: 0.05909671198730744 and parameters: {'alpha': 0.29863637120769504, 'tol': 0.008234009631824732}. Best is trial 183 with value: 0.059096667821791515.\n",
      "[I 2025-05-02 15:39:31,170] Trial 190 finished with value: 0.05909672533888908 and parameters: {'alpha': 1.6943014074748426, 'tol': 0.007440953465672617}. Best is trial 183 with value: 0.059096667821791515.\n",
      "[I 2025-05-02 15:39:33,173] Trial 191 finished with value: 0.05909693314367085 and parameters: {'alpha': 2.6022803482009893, 'tol': 0.007548987076170067}. Best is trial 183 with value: 0.059096667821791515.\n",
      "[I 2025-05-02 15:39:36,721] Trial 192 finished with value: 0.05909671843760161 and parameters: {'alpha': 1.6465349853679343, 'tol': 0.007700497333713937}. Best is trial 183 with value: 0.059096667821791515.\n",
      "[I 2025-05-02 15:39:39,510] Trial 193 finished with value: 0.05909675895046883 and parameters: {'alpha': 1.8952342217466018, 'tol': 0.00787779987899625}. Best is trial 183 with value: 0.059096667821791515.\n",
      "[I 2025-05-02 15:39:40,070] Trial 194 finished with value: 0.05909666959468423 and parameters: {'alpha': 1.0680345909535574, 'tol': 0.00871893179972812}. Best is trial 183 with value: 0.059096667821791515.\n",
      "[I 2025-05-02 15:39:42,998] Trial 195 finished with value: 0.05909668154544584 and parameters: {'alpha': 1.3032354993429625, 'tol': 0.008929835053656522}. Best is trial 183 with value: 0.059096667821791515.\n",
      "[I 2025-05-02 15:39:46,779] Trial 196 finished with value: 0.05909666954847172 and parameters: {'alpha': 1.0663147706585667, 'tol': 0.00865456110019254}. Best is trial 183 with value: 0.059096667821791515.\n",
      "[I 2025-05-02 15:39:48,243] Trial 197 finished with value: 0.059096695601117855 and parameters: {'alpha': 1.4601178569452955, 'tol': 0.009107023571391848}. Best is trial 183 with value: 0.059096667821791515.\n",
      "[I 2025-05-02 15:39:49,658] Trial 198 finished with value: 0.059096682663605085 and parameters: {'alpha': 1.3180012355628168, 'tol': 0.008617414237080971}. Best is trial 183 with value: 0.059096667821791515.\n",
      "[I 2025-05-02 15:39:53,024] Trial 199 finished with value: 0.059096713658183336 and parameters: {'alpha': 0.2868809131927105, 'tol': 0.007172964350485066}. Best is trial 183 with value: 0.059096667821791515.\n",
      "[I 2025-05-02 15:39:56,334] Trial 200 finished with value: 0.059096668166601744 and parameters: {'alpha': 0.9949349690354067, 'tol': 0.007368855919050761}. Best is trial 183 with value: 0.059096667821791515.\n",
      "[I 2025-05-02 15:39:57,734] Trial 201 finished with value: 0.05909667797359157 and parameters: {'alpha': 0.6282747439980844, 'tol': 0.00685565176180251}. Best is trial 183 with value: 0.059096667821791515.\n",
      "[I 2025-05-02 15:39:59,207] Trial 202 finished with value: 0.05909674440921061 and parameters: {'alpha': 0.10091324002773938, 'tol': 0.006821934202594368}. Best is trial 183 with value: 0.059096667821791515.\n",
      "[I 2025-05-02 15:40:02,566] Trial 203 finished with value: 0.059096694548061005 and parameters: {'alpha': 0.4385386442758541, 'tol': 0.008150213782157408}. Best is trial 183 with value: 0.059096667821791515.\n",
      "[I 2025-05-02 15:40:05,890] Trial 204 finished with value: 0.05909667369587662 and parameters: {'alpha': 1.1759021670350596, 'tol': 0.006534881130941918}. Best is trial 183 with value: 0.059096667821791515.\n",
      "[I 2025-05-02 15:40:07,389] Trial 205 finished with value: 0.05909669464338291 and parameters: {'alpha': 1.4508998940099092, 'tol': 0.007612196794378988}. Best is trial 183 with value: 0.059096667821791515.\n",
      "[I 2025-05-02 15:40:08,896] Trial 206 finished with value: 0.05909689697520588 and parameters: {'alpha': 2.4797443211299592, 'tol': 0.006577159863912424}. Best is trial 183 with value: 0.059096667821791515.\n",
      "[I 2025-05-02 15:40:12,165] Trial 207 finished with value: 0.05909674837181458 and parameters: {'alpha': 1.836523180496294, 'tol': 0.00679007649671199}. Best is trial 183 with value: 0.059096667821791515.\n",
      "[I 2025-05-02 15:40:15,512] Trial 208 finished with value: 0.05909675787392802 and parameters: {'alpha': 1.8894128819462743, 'tol': 0.00789194567392788}. Best is trial 183 with value: 0.059096667821791515.\n",
      "[I 2025-05-02 15:40:16,988] Trial 209 finished with value: 0.059096799663115346 and parameters: {'alpha': 2.0956058291103403, 'tol': 0.007991806197395555}. Best is trial 183 with value: 0.059096667821791515.\n",
      "[I 2025-05-02 15:40:18,384] Trial 210 finished with value: 0.05909667204600254 and parameters: {'alpha': 1.1394470796186886, 'tol': 0.008329346821743876}. Best is trial 183 with value: 0.059096667821791515.\n",
      "[I 2025-05-02 15:40:21,705] Trial 211 finished with value: 0.05909667569700795 and parameters: {'alpha': 1.213846909843261, 'tol': 0.008509450717012715}. Best is trial 183 with value: 0.059096667821791515.\n",
      "[I 2025-05-02 15:40:25,086] Trial 212 finished with value: 0.05909666883206944 and parameters: {'alpha': 0.8391786207553841, 'tol': 0.008514592621566643}. Best is trial 183 with value: 0.059096667821791515.\n",
      "[I 2025-05-02 15:40:26,577] Trial 213 finished with value: 0.059096668274845866 and parameters: {'alpha': 1.0033477524678844, 'tol': 0.00865035463961319}. Best is trial 183 with value: 0.059096667821791515.\n",
      "[I 2025-05-02 15:40:27,984] Trial 214 finished with value: 0.059102230998295625 and parameters: {'alpha': 9.989011462899384, 'tol': 0.0059395880596095265}. Best is trial 183 with value: 0.059096667821791515.\n",
      "[I 2025-05-02 15:40:31,306] Trial 215 finished with value: 0.0590966761913018 and parameters: {'alpha': 0.6564869099819768, 'tol': 0.00859667666534854}. Best is trial 183 with value: 0.059096667821791515.\n",
      "[I 2025-05-02 15:40:34,660] Trial 216 finished with value: 0.059096718143263754 and parameters: {'alpha': 0.25638182909935325, 'tol': 0.00818360172014732}. Best is trial 183 with value: 0.059096667821791515.\n",
      "[I 2025-05-02 15:40:36,063] Trial 217 finished with value: 0.059096680893961764 and parameters: {'alpha': 0.5870366436211774, 'tol': 0.008068718999184949}. Best is trial 183 with value: 0.059096667821791515.\n",
      "[I 2025-05-02 15:40:37,535] Trial 218 finished with value: 0.05909672109522454 and parameters: {'alpha': 0.2370722532585241, 'tol': 0.00807836604743211}. Best is trial 183 with value: 0.059096667821791515.\n",
      "[I 2025-05-02 15:40:40,941] Trial 219 finished with value: 0.05910219959493318 and parameters: {'alpha': 9.957439239522303, 'tol': 0.00015893008901886503}. Best is trial 183 with value: 0.059096667821791515.\n",
      "[I 2025-05-02 15:40:44,296] Trial 220 finished with value: 0.05909692044071758 and parameters: {'alpha': 2.5601677645400986, 'tol': 0.009004543265067508}. Best is trial 183 with value: 0.059096667821791515.\n",
      "[I 2025-05-02 15:40:45,272] Trial 221 finished with value: 0.05909676392435836 and parameters: {'alpha': 1.9217168562626417, 'tol': 0.009001373844231162}. Best is trial 183 with value: 0.059096667821791515.\n",
      "[I 2025-05-02 15:40:47,664] Trial 222 finished with value: 0.05909682226271735 and parameters: {'alpha': 2.1941974354488476, 'tol': 0.009008564956819839}. Best is trial 183 with value: 0.059096667821791515.\n",
      "[I 2025-05-02 15:40:50,559] Trial 223 finished with value: 0.059096951080360956 and parameters: {'alpha': 2.6602113018100026, 'tol': 0.00897691415342907}. Best is trial 183 with value: 0.059096667821791515.\n",
      "[I 2025-05-02 15:40:53,943] Trial 224 finished with value: 0.05909666986655244 and parameters: {'alpha': 1.077730916792899, 'tol': 0.00868537206677369}. Best is trial 183 with value: 0.059096667821791515.\n",
      "[I 2025-05-02 15:40:54,904] Trial 225 finished with value: 0.059096667994987875 and parameters: {'alpha': 0.8964622794369701, 'tol': 0.0085149308898031}. Best is trial 183 with value: 0.059096667821791515.\n",
      "[I 2025-05-02 15:40:56,869] Trial 226 finished with value: 0.05909666782524608 and parameters: {'alpha': 0.9304304820681993, 'tol': 0.009126627920073025}. Best is trial 183 with value: 0.059096667821791515.\n",
      "[I 2025-05-02 15:40:59,294] Trial 227 finished with value: 0.05909666877007724 and parameters: {'alpha': 1.0328543439264395, 'tol': 0.008595408137069679}. Best is trial 183 with value: 0.059096667821791515.\n",
      "[I 2025-05-02 15:41:03,550] Trial 228 finished with value: 0.05909674195800831 and parameters: {'alpha': 1.7991273204831746, 'tol': 0.009999742846976724}. Best is trial 183 with value: 0.059096667821791515.\n",
      "[I 2025-05-02 15:41:04,494] Trial 229 finished with value: 0.05909667038646096 and parameters: {'alpha': 1.0946356923672023, 'tol': 0.009984416028877147}. Best is trial 183 with value: 0.059096667821791515.\n",
      "[I 2025-05-02 15:41:06,402] Trial 230 finished with value: 0.059096682105066904 and parameters: {'alpha': 1.3106963146059334, 'tol': 0.009948270894427097}. Best is trial 183 with value: 0.059096667821791515.\n",
      "[I 2025-05-02 15:41:08,791] Trial 231 finished with value: 0.05909670298321889 and parameters: {'alpha': 0.36636858004928896, 'tol': 0.008456115885403038}. Best is trial 183 with value: 0.059096667821791515.\n",
      "[I 2025-05-02 15:41:13,197] Trial 232 finished with value: 0.05909671151796689 and parameters: {'alpha': 0.3019796662779959, 'tol': 0.008606137903588449}. Best is trial 183 with value: 0.059096667821791515.\n",
      "[I 2025-05-02 15:41:13,636] Trial 233 finished with value: 0.059098468693270116 and parameters: {'alpha': 5.609064482200367, 'tol': 0.00013662671349852756}. Best is trial 183 with value: 0.059096667821791515.\n",
      "[I 2025-05-02 15:41:15,617] Trial 234 finished with value: 0.05909671326792133 and parameters: {'alpha': 0.2896064810875023, 'tol': 0.008811171397374752}. Best is trial 183 with value: 0.059096667821791515.\n",
      "[I 2025-05-02 15:41:18,422] Trial 235 finished with value: 0.05909668363529509 and parameters: {'alpha': 0.5524288802841426, 'tol': 0.009002619620498696}. Best is trial 183 with value: 0.059096667821791515.\n",
      "[I 2025-05-02 15:41:23,686] Trial 236 finished with value: 0.05909669316639786 and parameters: {'alpha': 1.436364673810688, 'tol': 0.008745709367092493}. Best is trial 183 with value: 0.059096667821791515.\n",
      "[I 2025-05-02 15:41:23,692] Trial 237 finished with value: 0.05909666790816567 and parameters: {'alpha': 0.9663019287999677, 'tol': 0.008693491006023861}. Best is trial 183 with value: 0.059096667821791515.\n",
      "[I 2025-05-02 15:41:24,803] Trial 238 finished with value: 0.05909667873811051 and parameters: {'alpha': 1.2633211449514452, 'tol': 0.008837420739472985}. Best is trial 183 with value: 0.059096667821791515.\n",
      "[I 2025-05-02 15:41:26,814] Trial 239 finished with value: 0.05909675801301385 and parameters: {'alpha': 1.8901668303046457, 'tol': 0.007890465187884384}. Best is trial 183 with value: 0.059096667821791515.\n",
      "[I 2025-05-02 15:41:31,177] Trial 241 finished with value: 0.0590967780038966 and parameters: {'alpha': 1.9933550031602307, 'tol': 0.007173708417574967}. Best is trial 183 with value: 0.059096667821791515.\n",
      "[I 2025-05-02 15:41:32,060] Trial 240 finished with value: 0.05909667988532725 and parameters: {'alpha': 1.2801782525102698, 'tol': 0.007489559738041519}. Best is trial 183 with value: 0.059096667821791515.\n",
      "[I 2025-05-02 15:41:33,190] Trial 242 finished with value: 0.059096690871261466 and parameters: {'alpha': 1.4129337717469572, 'tol': 0.007733184367935841}. Best is trial 183 with value: 0.059096667821791515.\n",
      "[I 2025-05-02 15:41:34,224] Trial 243 finished with value: 0.05909667108518577 and parameters: {'alpha': 1.1148661939711002, 'tol': 0.007037250716461012}. Best is trial 183 with value: 0.059096667821791515.\n",
      "[I 2025-05-02 15:41:39,969] Trial 245 finished with value: 0.05909666893305186 and parameters: {'alpha': 1.0407511851902345, 'tol': 0.008943896499320534}. Best is trial 183 with value: 0.059096667821791515.\n",
      "[I 2025-05-02 15:41:39,982] Trial 244 finished with value: 0.0590966744979052 and parameters: {'alpha': 1.1917759791467089, 'tol': 0.008588325628562894}. Best is trial 183 with value: 0.059096667821791515.\n",
      "[I 2025-05-02 15:41:41,072] Trial 246 finished with value: 0.059096672110273134 and parameters: {'alpha': 0.7358317911328627, 'tol': 0.009744039018739065}. Best is trial 183 with value: 0.059096667821791515.\n",
      "[I 2025-05-02 15:41:42,471] Trial 247 finished with value: 0.059096673899081235 and parameters: {'alpha': 1.180020246254058, 'tol': 0.009073384210479997}. Best is trial 183 with value: 0.059096667821791515.\n",
      "[I 2025-05-02 15:41:46,400] Trial 248 finished with value: 0.059096691960876906 and parameters: {'alpha': 0.462971254032368, 'tol': 0.00862296332943207}. Best is trial 183 with value: 0.059096667821791515.\n",
      "[I 2025-05-02 15:41:46,404] Trial 249 finished with value: 0.05909675992784111 and parameters: {'alpha': 0.022109958105315686, 'tol': 0.008099577350901154}. Best is trial 183 with value: 0.059096667821791515.\n"
     ]
    }
   ],
   "source": [
    "def objective(trial):    \n",
    "    params = {\n",
    "        \"random_state\": CFG.seed,\n",
    "        \"alpha\": trial.suggest_float(\"alpha\", 0, 10),\n",
    "        \"tol\": trial.suggest_float(\"tol\", 1e-6, 1e-2)\n",
    "    }\n",
    "    \n",
    "    trainer = Trainer(\n",
    "        Ridge(**params),\n",
    "        cv=CFG.cv,\n",
    "        metric=CFG.metric,\n",
    "        task=\"regression\",\n",
    "        verbose=False\n",
    "    )\n",
    "    trainer.fit(X, y)\n",
    "    \n",
    "    return trainer.overall_score\n",
    "\n",
    "if CFG.run_optuna:\n",
    "    sampler = optuna.samplers.TPESampler(seed=CFG.seed, multivariate=True)\n",
    "    study = optuna.create_study(direction=\"minimize\", sampler=sampler)\n",
    "    study.optimize(objective, n_trials=CFG.n_optuna_trials, n_jobs=-1, catch=(ValueError,))\n",
    "    best_params = study.best_params\n",
    "\n",
    "    ridge_params = {\n",
    "        \"random_state\": CFG.seed,\n",
    "        \"alpha\": best_params[\"alpha\"],\n",
    "        \"tol\": best_params[\"tol\"]\n",
    "    }\n",
    "else:\n",
    "    ridge_params = {\n",
    "        \"random_state\": CFG.seed\n",
    "    }"
   ]
  },
  {
   "cell_type": "code",
   "execution_count": 24,
   "id": "97d2d8a0",
   "metadata": {
    "execution": {
     "iopub.execute_input": "2025-05-02T15:41:46.470086Z",
     "iopub.status.busy": "2025-05-02T15:41:46.469754Z",
     "iopub.status.idle": "2025-05-02T15:41:46.476455Z",
     "shell.execute_reply": "2025-05-02T15:41:46.475281Z"
    },
    "papermill": {
     "duration": 0.037617,
     "end_time": "2025-05-02T15:41:46.478024",
     "exception": false,
     "start_time": "2025-05-02T15:41:46.440407",
     "status": "completed"
    },
    "tags": []
   },
   "outputs": [
    {
     "name": "stdout",
     "output_type": "stream",
     "text": [
      "{\n",
      "  \"random_state\": 42,\n",
      "  \"alpha\": 0.9335439747856088,\n",
      "  \"tol\": 0.009981873786346858\n",
      "}\n"
     ]
    }
   ],
   "source": [
    "print(json.dumps(ridge_params, indent=2))"
   ]
  },
  {
   "cell_type": "code",
   "execution_count": 25,
   "id": "dc6ff062",
   "metadata": {
    "execution": {
     "iopub.execute_input": "2025-05-02T15:41:46.534763Z",
     "iopub.status.busy": "2025-05-02T15:41:46.534285Z",
     "iopub.status.idle": "2025-05-02T15:41:49.289066Z",
     "shell.execute_reply": "2025-05-02T15:41:49.288060Z"
    },
    "papermill": {
     "duration": 2.78534,
     "end_time": "2025-05-02T15:41:49.290569",
     "exception": false,
     "start_time": "2025-05-02T15:41:46.505229",
     "status": "completed"
    },
    "tags": []
   },
   "outputs": [
    {
     "name": "stdout",
     "output_type": "stream",
     "text": [
      "Training Ridge\n",
      "\n",
      "--- Fold 0 - root_mean_squared_error: 0.0590 - Time: 0.12 s\n",
      "--- Fold 1 - root_mean_squared_error: 0.0596 - Time: 0.12 s\n",
      "--- Fold 2 - root_mean_squared_error: 0.0589 - Time: 0.11 s\n",
      "--- Fold 3 - root_mean_squared_error: 0.0593 - Time: 0.11 s\n",
      "--- Fold 4 - root_mean_squared_error: 0.0586 - Time: 0.11 s\n",
      "\n",
      "------ Overall root_mean_squared_error: 0.0591 - Mean root_mean_squared_error: 0.0591 ± 0.0003 - Time: 2.72 s\n"
     ]
    }
   ],
   "source": [
    "ridge_trainer = Trainer(\n",
    "    Ridge(**ridge_params),\n",
    "    cv=CFG.cv,\n",
    "    metric=CFG.metric,\n",
    "    task=\"regression\"\n",
    ")\n",
    "\n",
    "ridge_trainer.fit(X, y)\n",
    "\n",
    "scores[\"Ridge (ensemble)\"] = ridge_trainer.fold_scores\n",
    "ridge_test_preds = np.expm1(ridge_trainer.predict(X_test))"
   ]
  },
  {
   "cell_type": "code",
   "execution_count": 26,
   "id": "d679074d",
   "metadata": {
    "execution": {
     "iopub.execute_input": "2025-05-02T15:41:49.432521Z",
     "iopub.status.busy": "2025-05-02T15:41:49.431745Z",
     "iopub.status.idle": "2025-05-02T15:41:49.753715Z",
     "shell.execute_reply": "2025-05-02T15:41:49.752687Z"
    },
    "papermill": {
     "duration": 0.351853,
     "end_time": "2025-05-02T15:41:49.755155",
     "exception": false,
     "start_time": "2025-05-02T15:41:49.403302",
     "status": "completed"
    },
    "tags": []
   },
   "outputs": [
    {
     "data": {
      "image/png": "[encoded data removed]",
      "text/plain": [
       "<Figure size 1000x350 with 1 Axes>"
      ]
     },
     "metadata": {},
     "output_type": "display_data"
    }
   ],
   "source": [
    "ridge_coeffs = np.zeros((1, X.shape[1]))\n",
    "for m in ridge_trainer.estimators:\n",
    "    ridge_coeffs += m.coef_\n",
    "ridge_coeffs = ridge_coeffs / len(ridge_trainer.estimators)\n",
    "\n",
    "plot_weights(ridge_coeffs, \"Ridge Coefficients\")"
   ]
  },
  {
   "cell_type": "markdown",
   "id": "00a993b2",
   "metadata": {
    "papermill": {
     "duration": 0.030587,
     "end_time": "2025-05-02T15:41:49.814830",
     "exception": false,
     "start_time": "2025-05-02T15:41:49.784243",
     "status": "completed"
    },
    "tags": []
   },
   "source": [
    "# Submission"
   ]
  },
  {
   "cell_type": "code",
   "execution_count": 27,
   "id": "3fb7e459",
   "metadata": {
    "execution": {
     "iopub.execute_input": "2025-05-02T15:41:49.873349Z",
     "iopub.status.busy": "2025-05-02T15:41:49.873022Z",
     "iopub.status.idle": "2025-05-02T15:41:50.592792Z",
     "shell.execute_reply": "2025-05-02T15:41:50.591803Z"
    },
    "papermill": {
     "duration": 0.751011,
     "end_time": "2025-05-02T15:41:50.594334",
     "exception": false,
     "start_time": "2025-05-02T15:41:49.843323",
     "status": "completed"
    },
    "tags": []
   },
   "outputs": [
    {
     "data": {
      "text/html": [
       "<div>\n",
       "<style scoped>\n",
       "    .dataframe tbody tr th:only-of-type {\n",
       "        vertical-align: middle;\n",
       "    }\n",
       "\n",
       "    .dataframe tbody tr th {\n",
       "        vertical-align: top;\n",
       "    }\n",
       "\n",
       "    .dataframe thead th {\n",
       "        text-align: right;\n",
       "    }\n",
       "</style>\n",
       "<table border=\"1\" class=\"dataframe\">\n",
       "  <thead>\n",
       "    <tr style=\"text-align: right;\">\n",
       "      <th></th>\n",
       "      <th>id</th>\n",
       "      <th>Calories</th>\n",
       "    </tr>\n",
       "  </thead>\n",
       "  <tbody>\n",
       "    <tr>\n",
       "      <th>0</th>\n",
       "      <td>750000</td>\n",
       "      <td>27.213713</td>\n",
       "    </tr>\n",
       "    <tr>\n",
       "      <th>1</th>\n",
       "      <td>750001</td>\n",
       "      <td>107.654525</td>\n",
       "    </tr>\n",
       "    <tr>\n",
       "      <th>2</th>\n",
       "      <td>750002</td>\n",
       "      <td>87.023313</td>\n",
       "    </tr>\n",
       "    <tr>\n",
       "      <th>3</th>\n",
       "      <td>750003</td>\n",
       "      <td>125.552176</td>\n",
       "    </tr>\n",
       "    <tr>\n",
       "      <th>4</th>\n",
       "      <td>750004</td>\n",
       "      <td>76.040043</td>\n",
       "    </tr>\n",
       "  </tbody>\n",
       "</table>\n",
       "</div>"
      ],
      "text/plain": [
       "       id    Calories\n",
       "0  750000   27.213713\n",
       "1  750001  107.654525\n",
       "2  750002   87.023313\n",
       "3  750003  125.552176\n",
       "4  750004   76.040043"
      ]
     },
     "execution_count": 27,
     "metadata": {},
     "output_type": "execute_result"
    }
   ],
   "source": [
    "sub = pd.read_csv(CFG.sample_sub_path)\n",
    "sub[CFG.target] = ridge_test_preds\n",
    "sub.to_csv(f\"sub_ridge_{np.mean(scores['Ridge (ensemble)']):.6f}.csv\", index=False)\n",
    "sub.head()"
   ]
  },
  {
   "cell_type": "markdown",
   "id": "2ed90135",
   "metadata": {
    "papermill": {
     "duration": 0.028884,
     "end_time": "2025-05-02T15:41:50.653235",
     "exception": false,
     "start_time": "2025-05-02T15:41:50.624351",
     "status": "completed"
    },
    "tags": []
   },
   "source": [
    "# Results"
   ]
  },
  {
   "cell_type": "code",
   "execution_count": 28,
   "id": "cd29e1c8",
   "metadata": {
    "execution": {
     "iopub.execute_input": "2025-05-02T15:41:50.713405Z",
     "iopub.status.busy": "2025-05-02T15:41:50.712352Z",
     "iopub.status.idle": "2025-05-02T15:41:51.328753Z",
     "shell.execute_reply": "2025-05-02T15:41:51.327664Z"
    },
    "papermill": {
     "duration": 0.64825,
     "end_time": "2025-05-02T15:41:51.330346",
     "exception": false,
     "start_time": "2025-05-02T15:41:50.682096",
     "status": "completed"
    },
    "tags": []
   },
   "outputs": [
    {
     "data": {
      "image/png": "[encoded data removed]",
      "text/plain": [
       "<Figure size 1500x240 with 2 Axes>"
      ]
     },
     "metadata": {},
     "output_type": "display_data"
    }
   ],
   "source": [
    "scores = pd.DataFrame(scores)\n",
    "mean_scores = scores.mean().sort_values(ascending=True)\n",
    "order = scores.mean().sort_values(ascending=True).index.tolist()\n",
    "\n",
    "min_score = mean_scores.min()\n",
    "max_score = mean_scores.max()\n",
    "padding = (max_score - min_score) * 0.5\n",
    "lower_limit = min_score - padding\n",
    "upper_limit = max_score + padding\n",
    "\n",
    "fig, axs = plt.subplots(1, 2, figsize=(15, scores.shape[1] * 0.3))\n",
    "\n",
    "boxplot = sns.boxplot(data=scores, order=order, ax=axs[0], orient=\"h\", color=\"grey\")\n",
    "axs[0].set_title(f\"Fold {CFG.metric.__name__}\")\n",
    "axs[0].set_xlabel(\"\")\n",
    "axs[0].set_ylabel(\"\")\n",
    "\n",
    "barplot = sns.barplot(x=mean_scores.values, y=mean_scores.index, ax=axs[1], color=\"grey\")\n",
    "axs[1].set_title(f\"Average {CFG.metric.__name__}\")\n",
    "axs[1].set_xlabel(\"\")\n",
    "axs[1].set_xlim(left=lower_limit, right=upper_limit)\n",
    "axs[1].set_ylabel(\"\")\n",
    "\n",
    "for i, (score, model) in enumerate(zip(mean_scores.values, mean_scores.index)):\n",
    "    color = \"cyan\" if \"ensemble\" in model.lower() else \"grey\"\n",
    "    barplot.patches[i].set_facecolor(color)\n",
    "    boxplot.patches[i].set_facecolor(color)\n",
    "    barplot.text(score, i, round(score, 6), va=\"center\")\n",
    "\n",
    "plt.tight_layout()\n",
    "plt.show()"
   ]
  },
  {
   "cell_type": "code",
   "execution_count": 29,
   "id": "2c398e12",
   "metadata": {
    "execution": {
     "iopub.execute_input": "2025-05-02T15:41:51.391374Z",
     "iopub.status.busy": "2025-05-02T15:41:51.391054Z",
     "iopub.status.idle": "2025-05-02T15:41:51.397724Z",
     "shell.execute_reply": "2025-05-02T15:41:51.396787Z"
    },
    "papermill": {
     "duration": 0.038685,
     "end_time": "2025-05-02T15:41:51.399260",
     "exception": false,
     "start_time": "2025-05-02T15:41:51.360575",
     "status": "completed"
    },
    "tags": []
   },
   "outputs": [],
   "source": [
    "shutil.rmtree(\"catboost_info\", ignore_errors=True)"
   ]
  }
 ],
 "metadata": {
  "kaggle": {
   "accelerator": "none",
   "dataSources": [
    {
     "databundleVersionId": 11893428,
     "sourceId": 91716,
     "sourceType": "competition"
    }
   ],
   "dockerImageVersionId": 31012,
   "isGpuEnabled": false,
   "isInternetEnabled": true,
   "language": "python",
   "sourceType": "notebook"
  },
  "kernelspec": {
   "display_name": "Python 3",
   "language": "python",
   "name": "python3"
  },
  "language_info": {
   "codemirror_mode": {
    "name": "ipython",
    "version": 3
   },
   "file_extension": ".py",
   "mimetype": "text/x-python",
   "name": "python",
   "nbconvert_exporter": "python",
   "pygments_lexer": "ipython3",
   "version": "3.11.11"
  },
  "papermill": {
   "default_parameters": {},
   "duration": 5199.041187,
   "end_time": "2025-05-02T15:41:55.005987",
   "environment_variables": {},
   "exception": null,
   "input_path": "__notebook__.ipynb",
   "output_path": "__notebook__.ipynb",
   "parameters": {},
   "start_time": "2025-05-02T14:15:15.964800",
   "version": "2.6.0"
  }
 },
 "nbformat": 4,
 "nbformat_minor": 5
}
