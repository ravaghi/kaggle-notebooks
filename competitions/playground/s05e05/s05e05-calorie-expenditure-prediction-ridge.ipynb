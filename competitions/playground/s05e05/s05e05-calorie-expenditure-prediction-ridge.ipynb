{
 "cells": [
  {
   "cell_type": "code",
   "execution_count": 1,
   "id": "5e7f9c4d",
   "metadata": {
    "_kg_hide-output": true,
    "execution": {
     "iopub.execute_input": "2025-05-01T11:15:38.374732Z",
     "iopub.status.busy": "2025-05-01T11:15:38.374442Z",
     "iopub.status.idle": "2025-05-01T11:15:48.649790Z",
     "shell.execute_reply": "2025-05-01T11:15:48.648971Z"
    },
    "papermill": {
     "duration": 10.289496,
     "end_time": "2025-05-01T11:15:48.651533",
     "exception": false,
     "start_time": "2025-05-01T11:15:38.362037",
     "status": "completed"
    },
    "scrolled": true,
    "tags": []
   },
   "outputs": [
    {
     "name": "stdout",
     "output_type": "stream",
     "text": [
      "Requirement already satisfied: ydf in /usr/local/lib/python3.11/dist-packages (0.9.0)\r\n",
      "Collecting koolbox\r\n",
      "  Downloading koolbox-0.1.1-py3-none-any.whl.metadata (2.4 kB)\r\n",
      "Collecting scikit-learn==1.5.2\r\n",
      "  Downloading scikit_learn-1.5.2-cp311-cp311-manylinux_2_17_x86_64.manylinux2014_x86_64.whl.metadata (13 kB)\r\n",
      "Requirement already satisfied: numpy>=1.19.5 in /usr/local/lib/python3.11/dist-packages (from scikit-learn==1.5.2) (1.26.4)\r\n",
      "Requirement already satisfied: scipy>=1.6.0 in /usr/local/lib/python3.11/dist-packages (from scikit-learn==1.5.2) (1.15.2)\r\n",
      "Requirement already satisfied: joblib>=1.2.0 in /usr/local/lib/python3.11/dist-packages (from scikit-learn==1.5.2) (1.4.2)\r\n",
      "Requirement already satisfied: threadpoolctl>=3.1.0 in /usr/local/lib/python3.11/dist-packages (from scikit-learn==1.5.2) (3.6.0)\r\n",
      "Requirement already satisfied: absl_py in /usr/local/lib/python3.11/dist-packages (from ydf) (1.4.0)\r\n",
      "Requirement already satisfied: protobuf>=3.14 in /usr/local/lib/python3.11/dist-packages (from ydf) (3.20.3)\r\n",
      "Requirement already satisfied: pandas>=1.0.0 in /usr/local/lib/python3.11/dist-packages (from koolbox) (2.2.3)\r\n",
      "Requirement already satisfied: mkl_fft in /usr/local/lib/python3.11/dist-packages (from numpy>=1.19.5->scikit-learn==1.5.2) (1.3.8)\r\n",
      "Requirement already satisfied: mkl_random in /usr/local/lib/python3.11/dist-packages (from numpy>=1.19.5->scikit-learn==1.5.2) (1.2.4)\r\n",
      "Requirement already satisfied: mkl_umath in /usr/local/lib/python3.11/dist-packages (from numpy>=1.19.5->scikit-learn==1.5.2) (0.1.1)\r\n",
      "Requirement already satisfied: mkl in /usr/local/lib/python3.11/dist-packages (from numpy>=1.19.5->scikit-learn==1.5.2) (2025.1.0)\r\n",
      "Requirement already satisfied: tbb4py in /usr/local/lib/python3.11/dist-packages (from numpy>=1.19.5->scikit-learn==1.5.2) (2022.1.0)\r\n",
      "Requirement already satisfied: mkl-service in /usr/local/lib/python3.11/dist-packages (from numpy>=1.19.5->scikit-learn==1.5.2) (2.4.1)\r\n",
      "Requirement already satisfied: python-dateutil>=2.8.2 in /usr/local/lib/python3.11/dist-packages (from pandas>=1.0.0->koolbox) (2.9.0.post0)\r\n",
      "Requirement already satisfied: pytz>=2020.1 in /usr/local/lib/python3.11/dist-packages (from pandas>=1.0.0->koolbox) (2025.2)\r\n",
      "Requirement already satisfied: tzdata>=2022.7 in /usr/local/lib/python3.11/dist-packages (from pandas>=1.0.0->koolbox) (2025.2)\r\n",
      "Requirement already satisfied: six>=1.5 in /usr/local/lib/python3.11/dist-packages (from python-dateutil>=2.8.2->pandas>=1.0.0->koolbox) (1.17.0)\r\n",
      "Requirement already satisfied: intel-openmp<2026,>=2024 in /usr/local/lib/python3.11/dist-packages (from mkl->numpy>=1.19.5->scikit-learn==1.5.2) (2024.2.0)\r\n",
      "Requirement already satisfied: tbb==2022.* in /usr/local/lib/python3.11/dist-packages (from mkl->numpy>=1.19.5->scikit-learn==1.5.2) (2022.1.0)\r\n",
      "Requirement already satisfied: tcmlib==1.* in /usr/local/lib/python3.11/dist-packages (from tbb==2022.*->mkl->numpy>=1.19.5->scikit-learn==1.5.2) (1.2.0)\r\n",
      "Requirement already satisfied: intel-cmplr-lib-rt in /usr/local/lib/python3.11/dist-packages (from mkl_umath->numpy>=1.19.5->scikit-learn==1.5.2) (2024.2.0)\r\n",
      "Requirement already satisfied: intel-cmplr-lib-ur==2024.2.0 in /usr/local/lib/python3.11/dist-packages (from intel-openmp<2026,>=2024->mkl->numpy>=1.19.5->scikit-learn==1.5.2) (2024.2.0)\r\n",
      "Downloading scikit_learn-1.5.2-cp311-cp311-manylinux_2_17_x86_64.manylinux2014_x86_64.whl (13.3 MB)\r\n",
      "\u001b[2K   \u001b[90m━━━━━━━━━━━━━━━━━━━━━━━━━━━━━━━━━━━━━━━━\u001b[0m \u001b[32m13.3/13.3 MB\u001b[0m \u001b[31m86.3 MB/s\u001b[0m eta \u001b[36m0:00:00\u001b[0m\r\n",
      "\u001b[?25hDownloading koolbox-0.1.1-py3-none-any.whl (10 kB)\r\n",
      "Installing collected packages: scikit-learn, koolbox\r\n",
      "  Attempting uninstall: scikit-learn\r\n",
      "    Found existing installation: scikit-learn 1.2.2\r\n",
      "    Uninstalling scikit-learn-1.2.2:\r\n",
      "      Successfully uninstalled scikit-learn-1.2.2\r\n",
      "\u001b[31mERROR: pip's dependency resolver does not currently take into account all the packages that are installed. This behaviour is the source of the following dependency conflicts.\r\n",
      "bigframes 1.36.0 requires rich<14,>=12.4.4, but you have rich 14.0.0 which is incompatible.\u001b[0m\u001b[31m\r\n",
      "\u001b[0mSuccessfully installed koolbox-0.1.1 scikit-learn-1.5.2\r\n",
      "Collecting scikeras\r\n",
      "  Downloading scikeras-0.13.0-py3-none-any.whl.metadata (3.1 kB)\r\n",
      "Downloading scikeras-0.13.0-py3-none-any.whl (26 kB)\r\n",
      "Installing collected packages: scikeras\r\n",
      "Successfully installed scikeras-0.13.0\r\n"
     ]
    }
   ],
   "source": [
    "!pip install ydf koolbox scikit-learn==1.5.2 && pip install --no-deps scikeras"
   ]
  },
  {
   "cell_type": "markdown",
   "id": "96d1fa35",
   "metadata": {
    "papermill": {
     "duration": 0.006117,
     "end_time": "2025-05-01T11:15:48.664751",
     "exception": false,
     "start_time": "2025-05-01T11:15:48.658634",
     "status": "completed"
    },
    "tags": []
   },
   "source": [
    "# Imports and configs"
   ]
  },
  {
   "cell_type": "code",
   "execution_count": 2,
   "id": "b6bbb79d",
   "metadata": {
    "_kg_hide-output": true,
    "execution": {
     "iopub.execute_input": "2025-05-01T11:15:48.680284Z",
     "iopub.status.busy": "2025-05-01T11:15:48.679484Z",
     "iopub.status.idle": "2025-05-01T11:16:11.543791Z",
     "shell.execute_reply": "2025-05-01T11:16:11.543159Z"
    },
    "papermill": {
     "duration": 22.873242,
     "end_time": "2025-05-01T11:16:11.545391",
     "exception": false,
     "start_time": "2025-05-01T11:15:48.672149",
     "status": "completed"
    },
    "tags": []
   },
   "outputs": [
    {
     "name": "stderr",
     "output_type": "stream",
     "text": [
      "2025-05-01 11:15:53.608506: E external/local_xla/xla/stream_executor/cuda/cuda_fft.cc:477] Unable to register cuFFT factory: Attempting to register factory for plugin cuFFT when one has already been registered\n",
      "WARNING: All log messages before absl::InitializeLog() is called are written to STDERR\n",
      "E0000 00:00:1746098153.828396      13 cuda_dnn.cc:8310] Unable to register cuDNN factory: Attempting to register factory for plugin cuDNN when one has already been registered\n",
      "E0000 00:00:1746098153.896410      13 cuda_blas.cc:1418] Unable to register cuBLAS factory: Attempting to register factory for plugin cuBLAS when one has already been registered\n"
     ]
    }
   ],
   "source": [
    "from sklearn.ensemble import HistGradientBoostingRegressor, BaggingRegressor\n",
    "from sklearn.preprocessing import StandardScaler, OneHotEncoder\n",
    "from sklearn.feature_selection import mutual_info_regression\n",
    "from sklearn.base import BaseEstimator, RegressorMixin\n",
    "from sklearn.metrics import root_mean_squared_error\n",
    "from sklearn.compose import ColumnTransformer\n",
    "from sklearn.pipeline import make_pipeline\n",
    "from sklearn.model_selection import KFold\n",
    "from sklearn.linear_model import Ridge\n",
    "from scikeras.wrappers import KerasRegressor\n",
    "from lightgbm import LGBMRegressor, early_stopping, log_evaluation\n",
    "from ydf import GradientBoostedTreesLearner\n",
    "from catboost import CatBoostRegressor\n",
    "from xgboost import XGBRegressor\n",
    "from koolbox import Trainer\n",
    "import matplotlib.pyplot as plt\n",
    "import contextlib, io\n",
    "import seaborn as sns\n",
    "import pandas as pd\n",
    "import numpy as np\n",
    "import warnings\n",
    "import shutil\n",
    "import optuna\n",
    "import keras\n",
    "import json\n",
    "import glob\n",
    "import ydf\n",
    "\n",
    "ydf.verbose(2)\n",
    "warnings.filterwarnings(\"ignore\")"
   ]
  },
  {
   "cell_type": "code",
   "execution_count": 3,
   "id": "df4c5304",
   "metadata": {
    "execution": {
     "iopub.execute_input": "2025-05-01T11:16:11.559613Z",
     "iopub.status.busy": "2025-05-01T11:16:11.559062Z",
     "iopub.status.idle": "2025-05-01T11:16:11.563632Z",
     "shell.execute_reply": "2025-05-01T11:16:11.562858Z"
    },
    "papermill": {
     "duration": 0.012852,
     "end_time": "2025-05-01T11:16:11.564993",
     "exception": false,
     "start_time": "2025-05-01T11:16:11.552141",
     "status": "completed"
    },
    "tags": []
   },
   "outputs": [],
   "source": [
    "class CFG:\n",
    "    train_path = \"/kaggle/input/playground-series-s5e5/train.csv\"\n",
    "    test_path = \"/kaggle/input/playground-series-s5e5/test.csv\"\n",
    "    sample_sub_path = \"/kaggle/input/playground-series-s5e5/sample_submission.csv\"\n",
    "\n",
    "    metric = root_mean_squared_error\n",
    "    target = \"Calories\"\n",
    "    n_folds = 5\n",
    "    seed = 42\n",
    "\n",
    "    run_optuna = True\n",
    "    n_optuna_trials = 250"
   ]
  },
  {
   "cell_type": "markdown",
   "id": "306de4d8",
   "metadata": {
    "papermill": {
     "duration": 0.006257,
     "end_time": "2025-05-01T11:16:11.577922",
     "exception": false,
     "start_time": "2025-05-01T11:16:11.571665",
     "status": "completed"
    },
    "tags": []
   },
   "source": [
    "# Data loading and preprocessing"
   ]
  },
  {
   "cell_type": "code",
   "execution_count": 4,
   "id": "3372a0d7",
   "metadata": {
    "execution": {
     "iopub.execute_input": "2025-05-01T11:16:11.592703Z",
     "iopub.status.busy": "2025-05-01T11:16:11.592048Z",
     "iopub.status.idle": "2025-05-01T11:16:12.824945Z",
     "shell.execute_reply": "2025-05-01T11:16:12.824238Z"
    },
    "papermill": {
     "duration": 1.242413,
     "end_time": "2025-05-01T11:16:12.826544",
     "exception": false,
     "start_time": "2025-05-01T11:16:11.584131",
     "status": "completed"
    },
    "tags": []
   },
   "outputs": [],
   "source": [
    "train = pd.read_csv(CFG.train_path, index_col=\"id\")\n",
    "test = pd.read_csv(CFG.test_path, index_col=\"id\")\n",
    "\n",
    "train[\"Sex\"] = train[\"Sex\"].map({\"male\": 0, \"female\": 1})\n",
    "test[\"Sex\"] = test[\"Sex\"].map({\"male\": 0, \"female\": 1})\n",
    "\n",
    "X = train.drop(CFG.target, axis=1)\n",
    "y = np.log1p(train[CFG.target])\n",
    "X_test = test"
   ]
  },
  {
   "cell_type": "code",
   "execution_count": 5,
   "id": "e8afd1b7",
   "metadata": {
    "execution": {
     "iopub.execute_input": "2025-05-01T11:16:12.841017Z",
     "iopub.status.busy": "2025-05-01T11:16:12.840288Z",
     "iopub.status.idle": "2025-05-01T11:17:07.661069Z",
     "shell.execute_reply": "2025-05-01T11:17:07.660374Z"
    },
    "papermill": {
     "duration": 54.835954,
     "end_time": "2025-05-01T11:17:07.669179",
     "exception": false,
     "start_time": "2025-05-01T11:16:12.833225",
     "status": "completed"
    },
    "tags": []
   },
   "outputs": [
    {
     "data": {
      "text/html": [
       "<style type=\"text/css\">\n",
       "#T_63f5e_row0_col0 {\n",
       "  width: 10em;\n",
       "  background: linear-gradient(90deg, #006837 100.0%, transparent 100.0%);\n",
       "}\n",
       "#T_63f5e_row1_col0 {\n",
       "  width: 10em;\n",
       "  background: linear-gradient(90deg, #afdd70 68.3%, transparent 68.3%);\n",
       "}\n",
       "#T_63f5e_row2_col0 {\n",
       "  width: 10em;\n",
       "  background: linear-gradient(90deg, #daf08d 59.6%, transparent 59.6%);\n",
       "}\n",
       "#T_63f5e_row3_col0 {\n",
       "  width: 10em;\n",
       "  background: linear-gradient(90deg, #c21c27 6.0%, transparent 6.0%);\n",
       "}\n",
       "#T_63f5e_row4_col0, #T_63f5e_row5_col0 {\n",
       "  width: 10em;\n",
       "  background: linear-gradient(90deg, #b50f26 3.4%, transparent 3.4%);\n",
       "}\n",
       "#T_63f5e_row6_col0 {\n",
       "  width: 10em;\n",
       "  background: linear-gradient(90deg, #a90426 1.0%, transparent 1.0%);\n",
       "}\n",
       "</style>\n",
       "<table id=\"T_63f5e\">\n",
       "  <thead>\n",
       "    <tr>\n",
       "      <th class=\"blank level0\" >&nbsp;</th>\n",
       "      <th id=\"T_63f5e_level0_col0\" class=\"col_heading level0 col0\" >Mutual Information</th>\n",
       "    </tr>\n",
       "  </thead>\n",
       "  <tbody>\n",
       "    <tr>\n",
       "      <th id=\"T_63f5e_level0_row0\" class=\"row_heading level0 row0\" >Duration</th>\n",
       "      <td id=\"T_63f5e_row0_col0\" class=\"data row0 col0\" >1.640567</td>\n",
       "    </tr>\n",
       "    <tr>\n",
       "      <th id=\"T_63f5e_level0_row1\" class=\"row_heading level0 row1\" >Body_Temp</th>\n",
       "      <td id=\"T_63f5e_row1_col0\" class=\"data row1 col0\" >1.120766</td>\n",
       "    </tr>\n",
       "    <tr>\n",
       "      <th id=\"T_63f5e_level0_row2\" class=\"row_heading level0 row2\" >Heart_Rate</th>\n",
       "      <td id=\"T_63f5e_row2_col0\" class=\"data row2 col0\" >0.976966</td>\n",
       "    </tr>\n",
       "    <tr>\n",
       "      <th id=\"T_63f5e_level0_row3\" class=\"row_heading level0 row3\" >Age</th>\n",
       "      <td id=\"T_63f5e_row3_col0\" class=\"data row3 col0\" >0.098387</td>\n",
       "    </tr>\n",
       "    <tr>\n",
       "      <th id=\"T_63f5e_level0_row4\" class=\"row_heading level0 row4\" >Height</th>\n",
       "      <td id=\"T_63f5e_row4_col0\" class=\"data row4 col0\" >0.056501</td>\n",
       "    </tr>\n",
       "    <tr>\n",
       "      <th id=\"T_63f5e_level0_row5\" class=\"row_heading level0 row5\" >Weight</th>\n",
       "      <td id=\"T_63f5e_row5_col0\" class=\"data row5 col0\" >0.055709</td>\n",
       "    </tr>\n",
       "    <tr>\n",
       "      <th id=\"T_63f5e_level0_row6\" class=\"row_heading level0 row6\" >Sex</th>\n",
       "      <td id=\"T_63f5e_row6_col0\" class=\"data row6 col0\" >0.017174</td>\n",
       "    </tr>\n",
       "  </tbody>\n",
       "</table>\n"
      ],
      "text/plain": [
       "<pandas.io.formats.style.Styler at 0x7bd2edcc83d0>"
      ]
     },
     "execution_count": 5,
     "metadata": {},
     "output_type": "execute_result"
    }
   ],
   "source": [
    "mutual_info = mutual_info_regression(X, y, random_state=CFG.seed)\n",
    "\n",
    "mutual_info = pd.Series(mutual_info)\n",
    "mutual_info.index = X.columns\n",
    "mutual_info = pd.DataFrame(mutual_info.sort_values(ascending=False), columns=['Mutual Information'])\n",
    "mutual_info.style.bar(subset=['Mutual Information'], cmap='RdYlGn')"
   ]
  },
  {
   "cell_type": "code",
   "execution_count": 6,
   "id": "72609483",
   "metadata": {
    "execution": {
     "iopub.execute_input": "2025-05-01T11:17:07.683650Z",
     "iopub.status.busy": "2025-05-01T11:17:07.683380Z",
     "iopub.status.idle": "2025-05-01T11:17:08.341753Z",
     "shell.execute_reply": "2025-05-01T11:17:08.341013Z"
    },
    "papermill": {
     "duration": 0.667593,
     "end_time": "2025-05-01T11:17:08.343576",
     "exception": false,
     "start_time": "2025-05-01T11:17:07.675983",
     "status": "completed"
    },
    "tags": []
   },
   "outputs": [
    {
     "data": {
      "image/png": "[encoded data removed]",
      "text/plain": [
       "<Figure size 800x800 with 2 Axes>"
      ]
     },
     "metadata": {},
     "output_type": "display_data"
    }
   ],
   "source": [
    "sns.set_style(\"white\")\n",
    "\n",
    "fig, ax = plt.subplots(figsize=(8, 8))\n",
    "\n",
    "corr_train = train.corr()\n",
    "mask_train = np.triu(np.ones_like(corr_train, dtype=bool), k=1)\n",
    "\n",
    "sns.heatmap(\n",
    "    data=corr_train,\n",
    "    annot=True,\n",
    "    fmt='.2f',\n",
    "    mask=mask_train,\n",
    "    square=True,\n",
    "    cmap='coolwarm',\n",
    "    cbar_kws={'shrink': .7, 'format': '%.2f'},   \n",
    "    annot_kws={'size': 8},\n",
    "    center=0,\n",
    "    ax=ax\n",
    ")\n",
    "\n",
    "ax.set_title('Train Correlation Matrix')\n",
    "ax.tick_params(axis='both', which='major', labelsize=8)\n",
    "plt.tight_layout()\n",
    "plt.show()"
   ]
  },
  {
   "cell_type": "markdown",
   "id": "14e8502e",
   "metadata": {
    "papermill": {
     "duration": 0.00728,
     "end_time": "2025-05-01T11:17:08.358726",
     "exception": false,
     "start_time": "2025-05-01T11:17:08.351446",
     "status": "completed"
    },
    "tags": []
   },
   "source": [
    "# Training base models"
   ]
  },
  {
   "cell_type": "code",
   "execution_count": 7,
   "id": "bdc8af48",
   "metadata": {
    "_kg_hide-input": true,
    "_kg_hide-output": true,
    "execution": {
     "iopub.execute_input": "2025-05-01T11:17:08.374914Z",
     "iopub.status.busy": "2025-05-01T11:17:08.374118Z",
     "iopub.status.idle": "2025-05-01T11:17:08.382174Z",
     "shell.execute_reply": "2025-05-01T11:17:08.381558Z"
    },
    "papermill": {
     "duration": 0.017399,
     "end_time": "2025-05-01T11:17:08.383379",
     "exception": false,
     "start_time": "2025-05-01T11:17:08.365980",
     "status": "completed"
    },
    "tags": []
   },
   "outputs": [],
   "source": [
    "histgb_params = {\n",
    "    \"l2_regularization\": 83.89023753261954,\n",
    "    \"learning_rate\": 0.014076263018504506,\n",
    "    \"max_depth\": 167,\n",
    "    \"max_features\": 0.35671906170746404,\n",
    "    \"max_iter\": 2175,\n",
    "    \"max_leaf_nodes\": 441,\n",
    "    \"min_samples_leaf\": 41,\n",
    "    \"random_state\": 42\n",
    "}\n",
    "\n",
    "lgbm_params = {\n",
    "    \"boosting_type\": \"gbdt\",\n",
    "    \"colsample_bytree\": 0.5099047573235393,\n",
    "    \"learning_rate\": 0.04655222942419148,\n",
    "    \"min_child_samples\": 39,\n",
    "    \"min_child_weight\": 0.5763597850247795,\n",
    "    \"n_estimators\": 10000,\n",
    "    \"n_jobs\": -1,\n",
    "    \"num_leaves\": 94,\n",
    "    \"random_state\": 42,\n",
    "    \"reg_alpha\": 13.37124947203867,\n",
    "    \"reg_lambda\": 3.4607082189282656,\n",
    "    \"subsample\": 0.8594971769419172,\n",
    "    \"verbose\": -1\n",
    "}\n",
    "\n",
    "lgbm_goss_params = {\n",
    "    \"boosting_type\": \"goss\",\n",
    "    \"colsample_bytree\": 0.44242724444333914,\n",
    "    \"learning_rate\": 0.02648790357768195,\n",
    "    \"min_child_samples\": 31,\n",
    "    \"min_child_weight\": 0.565923097348698,\n",
    "    \"n_estimators\": 10000,\n",
    "    \"n_jobs\": -1,\n",
    "    \"num_leaves\": 91,\n",
    "    \"random_state\": 42,\n",
    "    \"reg_alpha\": 14.802741846604295,\n",
    "    \"reg_lambda\": 3.285199583781151,\n",
    "    \"subsample\": 0.4765616561570595,\n",
    "    \"verbose\": -1\n",
    "}\n",
    "\n",
    "xgb_params = {\n",
    "    \"colsample_bylevel\": 0.562776356802306,\n",
    "    \"colsample_bynode\": 0.9612908685331664,\n",
    "    \"colsample_bytree\": 0.6576899092549643,\n",
    "    \"early_stopping_rounds\": 100,\n",
    "    \"eval_metric\": \"rmse\",\n",
    "    \"gamma\": 6.906307575453604,\n",
    "    \"learning_rate\": 0.035818175355750034,\n",
    "    \"max_depth\": 79,\n",
    "    \"max_leaves\": 94,\n",
    "    \"min_child_weight\": 54,\n",
    "    \"n_estimators\": 10000,\n",
    "    \"n_jobs\": -1,\n",
    "    \"random_state\": 42,\n",
    "    \"reg_alpha\": 40.48896149819585,\n",
    "    \"reg_lambda\": 50.48291846164928,\n",
    "    \"subsample\": 0.987369044259711,\n",
    "    \"verbosity\": 0\n",
    "}\n",
    "\n",
    "cb_params = {\n",
    "    \"border_count\": 197,\n",
    "    \"colsample_bylevel\": 0.5512194940746528,\n",
    "    \"depth\": 10,\n",
    "    \"eval_metric\": \"RMSE\",\n",
    "    \"iterations\": 5000,\n",
    "    \"l2_leaf_reg\": 0.8315140039900148,\n",
    "    \"learning_rate\": 0.04835894985543038,\n",
    "    \"min_child_samples\": 248,\n",
    "    \"random_state\": 42,\n",
    "    \"random_strength\": 0.269215705791639,\n",
    "    \"verbose\": False\n",
    "}\n",
    "\n",
    "ydf_params = {\n",
    "    \"num_trees\": 1000,\n",
    "    \"max_depth\": 8\n",
    "}"
   ]
  },
  {
   "cell_type": "code",
   "execution_count": 8,
   "id": "5f66d1e3",
   "metadata": {
    "execution": {
     "iopub.execute_input": "2025-05-01T11:17:08.399209Z",
     "iopub.status.busy": "2025-05-01T11:17:08.398582Z",
     "iopub.status.idle": "2025-05-01T11:17:08.402349Z",
     "shell.execute_reply": "2025-05-01T11:17:08.401736Z"
    },
    "papermill": {
     "duration": 0.012955,
     "end_time": "2025-05-01T11:17:08.403555",
     "exception": false,
     "start_time": "2025-05-01T11:17:08.390600",
     "status": "completed"
    },
    "tags": []
   },
   "outputs": [],
   "source": [
    "scores = {}\n",
    "oof_preds = {}\n",
    "test_preds = {}"
   ]
  },
  {
   "cell_type": "markdown",
   "id": "1a8485f1",
   "metadata": {
    "papermill": {
     "duration": 0.007122,
     "end_time": "2025-05-01T11:17:08.417997",
     "exception": false,
     "start_time": "2025-05-01T11:17:08.410875",
     "status": "completed"
    },
    "tags": []
   },
   "source": [
    "## HistGradientBoosting"
   ]
  },
  {
   "cell_type": "code",
   "execution_count": 9,
   "id": "acf322ae",
   "metadata": {
    "execution": {
     "iopub.execute_input": "2025-05-01T11:17:08.433525Z",
     "iopub.status.busy": "2025-05-01T11:17:08.433243Z",
     "iopub.status.idle": "2025-05-01T11:24:46.087507Z",
     "shell.execute_reply": "2025-05-01T11:24:46.086764Z"
    },
    "papermill": {
     "duration": 457.663993,
     "end_time": "2025-05-01T11:24:46.089169",
     "exception": false,
     "start_time": "2025-05-01T11:17:08.425176",
     "status": "completed"
    },
    "tags": []
   },
   "outputs": [
    {
     "name": "stdout",
     "output_type": "stream",
     "text": [
      "Training HistGradientBoostingRegressor\n",
      "\n",
      "--- Fold 0 - root_mean_squared_error: 0.0597 - Time: 77.87 s\n",
      "--- Fold 1 - root_mean_squared_error: 0.0606 - Time: 77.05 s\n",
      "--- Fold 2 - root_mean_squared_error: 0.0599 - Time: 78.67 s\n",
      "--- Fold 3 - root_mean_squared_error: 0.0603 - Time: 66.39 s\n",
      "--- Fold 4 - root_mean_squared_error: 0.0595 - Time: 76.00 s\n",
      "\n",
      "------ Overall root_mean_squared_error: 0.0600 - Mean root_mean_squared_error: 0.0600 ± 0.0004 - Time: 377.48 s\n"
     ]
    }
   ],
   "source": [
    "histgb_trainer = Trainer(\n",
    "    HistGradientBoostingRegressor(**histgb_params),\n",
    "    cv=KFold(n_splits=CFG.n_folds, random_state=CFG.seed, shuffle=True),\n",
    "    metric=CFG.metric,\n",
    "    task=\"regression\"\n",
    ")\n",
    "\n",
    "histgb_trainer.fit(X, y)\n",
    "\n",
    "scores[\"HistGB\"] = histgb_trainer.fold_scores\n",
    "oof_preds[\"HistGB\"] = histgb_trainer.oof_preds\n",
    "test_preds[\"HistGB\"] = histgb_trainer.predict(X_test)"
   ]
  },
  {
   "cell_type": "markdown",
   "id": "4e32ddc4",
   "metadata": {
    "papermill": {
     "duration": 0.007578,
     "end_time": "2025-05-01T11:24:46.105038",
     "exception": false,
     "start_time": "2025-05-01T11:24:46.097460",
     "status": "completed"
    },
    "tags": []
   },
   "source": [
    "## LightGBM (gbdt)"
   ]
  },
  {
   "cell_type": "code",
   "execution_count": 10,
   "id": "53e229d7",
   "metadata": {
    "execution": {
     "iopub.execute_input": "2025-05-01T11:24:46.121598Z",
     "iopub.status.busy": "2025-05-01T11:24:46.121308Z",
     "iopub.status.idle": "2025-05-01T11:29:25.668993Z",
     "shell.execute_reply": "2025-05-01T11:29:25.668298Z"
    },
    "papermill": {
     "duration": 279.557774,
     "end_time": "2025-05-01T11:29:25.670493",
     "exception": false,
     "start_time": "2025-05-01T11:24:46.112719",
     "status": "completed"
    },
    "tags": []
   },
   "outputs": [
    {
     "name": "stdout",
     "output_type": "stream",
     "text": [
      "Training LGBMRegressor\n",
      "\n",
      "Training until validation scores don't improve for 100 rounds\n",
      "[1000]\tvalid_0's rmse: 0.0602928\tvalid_0's l2: 0.00363522\n",
      "[2000]\tvalid_0's rmse: 0.0602702\tvalid_0's l2: 0.00363249\n",
      "Early stopping, best iteration is:\n",
      "[1964]\tvalid_0's rmse: 0.0602702\tvalid_0's l2: 0.00363249\n",
      "--- Fold 0 - root_mean_squared_error: 0.0603 - Time: 41.84 s\n",
      "\n",
      "Training until validation scores don't improve for 100 rounds\n",
      "[1000]\tvalid_0's rmse: 0.061355\tvalid_0's l2: 0.00376443\n",
      "Early stopping, best iteration is:\n",
      "[1514]\tvalid_0's rmse: 0.0613089\tvalid_0's l2: 0.00375879\n",
      "--- Fold 1 - root_mean_squared_error: 0.0613 - Time: 41.33 s\n",
      "\n",
      "Training until validation scores don't improve for 100 rounds\n",
      "[1000]\tvalid_0's rmse: 0.0606679\tvalid_0's l2: 0.00368059\n",
      "Early stopping, best iteration is:\n",
      "[1409]\tvalid_0's rmse: 0.0606353\tvalid_0's l2: 0.00367664\n",
      "--- Fold 2 - root_mean_squared_error: 0.0606 - Time: 39.38 s\n",
      "\n",
      "Training until validation scores don't improve for 100 rounds\n",
      "[1000]\tvalid_0's rmse: 0.0608723\tvalid_0's l2: 0.00370544\n",
      "Early stopping, best iteration is:\n",
      "[1462]\tvalid_0's rmse: 0.0608509\tvalid_0's l2: 0.00370283\n",
      "--- Fold 3 - root_mean_squared_error: 0.0609 - Time: 39.72 s\n",
      "\n",
      "Training until validation scores don't improve for 100 rounds\n",
      "[1000]\tvalid_0's rmse: 0.0601457\tvalid_0's l2: 0.00361751\n",
      "Early stopping, best iteration is:\n",
      "[1563]\tvalid_0's rmse: 0.0601067\tvalid_0's l2: 0.00361282\n",
      "--- Fold 4 - root_mean_squared_error: 0.0601 - Time: 42.36 s\n",
      "\n",
      "\n",
      "------ Overall root_mean_squared_error: 0.0606 - Mean root_mean_squared_error: 0.0606 ± 0.0004 - Time: 206.12 s\n"
     ]
    }
   ],
   "source": [
    "lgbm_trainer = Trainer(\n",
    "    LGBMRegressor(**lgbm_params),\n",
    "    cv=KFold(n_splits=CFG.n_folds, random_state=CFG.seed, shuffle=True),\n",
    "    metric=CFG.metric,\n",
    "    use_early_stopping=True,\n",
    "    task=\"regression\"\n",
    ")\n",
    "\n",
    "fit_args = {\n",
    "    \"eval_metric\": \"rmse\",\n",
    "    \"callbacks\": [\n",
    "        log_evaluation(period=1000), \n",
    "        early_stopping(stopping_rounds=100)\n",
    "    ]\n",
    "}\n",
    "\n",
    "lgbm_trainer.fit(X, y, fit_args)\n",
    "\n",
    "scores[\"LightGBM (gbdt)\"] = lgbm_trainer.fold_scores\n",
    "oof_preds[\"LightGBM (gbdt)\"] = lgbm_trainer.oof_preds\n",
    "test_preds[\"LightGBM (gbdt)\"] = lgbm_trainer.predict(X_test)"
   ]
  },
  {
   "cell_type": "markdown",
   "id": "e863ba7f",
   "metadata": {
    "papermill": {
     "duration": 0.008522,
     "end_time": "2025-05-01T11:29:25.688477",
     "exception": false,
     "start_time": "2025-05-01T11:29:25.679955",
     "status": "completed"
    },
    "tags": []
   },
   "source": [
    "## LightGBM (goss)"
   ]
  },
  {
   "cell_type": "code",
   "execution_count": 11,
   "id": "faaaf2e5",
   "metadata": {
    "execution": {
     "iopub.execute_input": "2025-05-01T11:29:25.706913Z",
     "iopub.status.busy": "2025-05-01T11:29:25.706349Z",
     "iopub.status.idle": "2025-05-01T12:14:33.383003Z",
     "shell.execute_reply": "2025-05-01T12:14:33.382191Z"
    },
    "papermill": {
     "duration": 2707.688009,
     "end_time": "2025-05-01T12:14:33.385042",
     "exception": false,
     "start_time": "2025-05-01T11:29:25.697033",
     "status": "completed"
    },
    "tags": []
   },
   "outputs": [
    {
     "name": "stdout",
     "output_type": "stream",
     "text": [
      "Training LGBMRegressor\n",
      "\n",
      "Training until validation scores don't improve for 100 rounds\n",
      "[1000]\tvalid_0's rmse: 0.0612992\tvalid_0's l2: 0.00375759\n",
      "[2000]\tvalid_0's rmse: 0.0605151\tvalid_0's l2: 0.00366207\n",
      "[3000]\tvalid_0's rmse: 0.0602939\tvalid_0's l2: 0.00363536\n",
      "[4000]\tvalid_0's rmse: 0.0601906\tvalid_0's l2: 0.0036229\n",
      "[5000]\tvalid_0's rmse: 0.0601194\tvalid_0's l2: 0.00361434\n",
      "[6000]\tvalid_0's rmse: 0.0600721\tvalid_0's l2: 0.00360866\n",
      "[7000]\tvalid_0's rmse: 0.0600373\tvalid_0's l2: 0.00360448\n",
      "[8000]\tvalid_0's rmse: 0.0600074\tvalid_0's l2: 0.00360089\n",
      "[9000]\tvalid_0's rmse: 0.0599836\tvalid_0's l2: 0.00359804\n",
      "[10000]\tvalid_0's rmse: 0.0599618\tvalid_0's l2: 0.00359542\n",
      "Did not meet early stopping. Best iteration is:\n",
      "[10000]\tvalid_0's rmse: 0.0599618\tvalid_0's l2: 0.00359542\n",
      "--- Fold 0 - root_mean_squared_error: 0.0600 - Time: 399.71 s\n",
      "\n",
      "Training until validation scores don't improve for 100 rounds\n",
      "[1000]\tvalid_0's rmse: 0.062448\tvalid_0's l2: 0.00389975\n",
      "[2000]\tvalid_0's rmse: 0.0615246\tvalid_0's l2: 0.00378528\n",
      "[3000]\tvalid_0's rmse: 0.0612898\tvalid_0's l2: 0.00375644\n",
      "[4000]\tvalid_0's rmse: 0.0611676\tvalid_0's l2: 0.00374148\n",
      "[5000]\tvalid_0's rmse: 0.0610929\tvalid_0's l2: 0.00373234\n",
      "[6000]\tvalid_0's rmse: 0.0610414\tvalid_0's l2: 0.00372605\n",
      "[7000]\tvalid_0's rmse: 0.0610049\tvalid_0's l2: 0.0037216\n",
      "[8000]\tvalid_0's rmse: 0.060972\tvalid_0's l2: 0.00371759\n",
      "[9000]\tvalid_0's rmse: 0.0609479\tvalid_0's l2: 0.00371465\n",
      "[10000]\tvalid_0's rmse: 0.0609269\tvalid_0's l2: 0.00371209\n",
      "Did not meet early stopping. Best iteration is:\n",
      "[10000]\tvalid_0's rmse: 0.0609269\tvalid_0's l2: 0.00371209\n",
      "--- Fold 1 - root_mean_squared_error: 0.0609 - Time: 403.91 s\n",
      "\n",
      "Training until validation scores don't improve for 100 rounds\n",
      "[1000]\tvalid_0's rmse: 0.0617199\tvalid_0's l2: 0.00380935\n",
      "[2000]\tvalid_0's rmse: 0.0608357\tvalid_0's l2: 0.00370098\n",
      "[3000]\tvalid_0's rmse: 0.0606044\tvalid_0's l2: 0.00367289\n",
      "[4000]\tvalid_0's rmse: 0.0604929\tvalid_0's l2: 0.00365939\n",
      "[5000]\tvalid_0's rmse: 0.0604244\tvalid_0's l2: 0.00365111\n",
      "[6000]\tvalid_0's rmse: 0.0603755\tvalid_0's l2: 0.0036452\n",
      "[7000]\tvalid_0's rmse: 0.0603392\tvalid_0's l2: 0.00364082\n",
      "[8000]\tvalid_0's rmse: 0.0603074\tvalid_0's l2: 0.00363698\n",
      "[9000]\tvalid_0's rmse: 0.0602862\tvalid_0's l2: 0.00363442\n",
      "[10000]\tvalid_0's rmse: 0.0602661\tvalid_0's l2: 0.00363201\n",
      "Did not meet early stopping. Best iteration is:\n",
      "[9996]\tvalid_0's rmse: 0.0602661\tvalid_0's l2: 0.00363201\n",
      "--- Fold 2 - root_mean_squared_error: 0.0603 - Time: 400.36 s\n",
      "\n",
      "Training until validation scores don't improve for 100 rounds\n",
      "[1000]\tvalid_0's rmse: 0.0616337\tvalid_0's l2: 0.00379871\n",
      "[2000]\tvalid_0's rmse: 0.0608712\tvalid_0's l2: 0.00370531\n",
      "[3000]\tvalid_0's rmse: 0.0606763\tvalid_0's l2: 0.00368161\n",
      "[4000]\tvalid_0's rmse: 0.0605845\tvalid_0's l2: 0.00367048\n",
      "[5000]\tvalid_0's rmse: 0.0605192\tvalid_0's l2: 0.00366257\n",
      "[6000]\tvalid_0's rmse: 0.0604805\tvalid_0's l2: 0.00365789\n",
      "[7000]\tvalid_0's rmse: 0.0604485\tvalid_0's l2: 0.00365402\n",
      "[8000]\tvalid_0's rmse: 0.060425\tvalid_0's l2: 0.00365118\n",
      "[9000]\tvalid_0's rmse: 0.0604045\tvalid_0's l2: 0.00364871\n",
      "[10000]\tvalid_0's rmse: 0.0603877\tvalid_0's l2: 0.00364667\n",
      "Did not meet early stopping. Best iteration is:\n",
      "[10000]\tvalid_0's rmse: 0.0603877\tvalid_0's l2: 0.00364667\n",
      "--- Fold 3 - root_mean_squared_error: 0.0604 - Time: 403.15 s\n",
      "\n",
      "Training until validation scores don't improve for 100 rounds\n",
      "[1000]\tvalid_0's rmse: 0.0611424\tvalid_0's l2: 0.00373839\n",
      "[2000]\tvalid_0's rmse: 0.0602821\tvalid_0's l2: 0.00363393\n",
      "[3000]\tvalid_0's rmse: 0.0600618\tvalid_0's l2: 0.00360742\n",
      "[4000]\tvalid_0's rmse: 0.0599591\tvalid_0's l2: 0.0035951\n",
      "[5000]\tvalid_0's rmse: 0.0598873\tvalid_0's l2: 0.00358649\n",
      "[6000]\tvalid_0's rmse: 0.059843\tvalid_0's l2: 0.00358118\n",
      "[7000]\tvalid_0's rmse: 0.0598095\tvalid_0's l2: 0.00357718\n",
      "[8000]\tvalid_0's rmse: 0.0597797\tvalid_0's l2: 0.00357362\n",
      "[9000]\tvalid_0's rmse: 0.059758\tvalid_0's l2: 0.00357102\n",
      "[10000]\tvalid_0's rmse: 0.0597385\tvalid_0's l2: 0.00356869\n",
      "Did not meet early stopping. Best iteration is:\n",
      "[10000]\tvalid_0's rmse: 0.0597385\tvalid_0's l2: 0.00356869\n",
      "--- Fold 4 - root_mean_squared_error: 0.0597 - Time: 444.93 s\n",
      "\n",
      "\n",
      "------ Overall root_mean_squared_error: 0.0603 - Mean root_mean_squared_error: 0.0603 ± 0.0004 - Time: 2053.60 s\n"
     ]
    }
   ],
   "source": [
    "lgbm_goss_trainer = Trainer(\n",
    "    LGBMRegressor(**lgbm_goss_params),\n",
    "    cv=KFold(n_splits=CFG.n_folds, random_state=CFG.seed, shuffle=True),\n",
    "    metric=CFG.metric,\n",
    "    use_early_stopping=True,\n",
    "    task=\"regression\"\n",
    ")\n",
    "\n",
    "fit_args = {\n",
    "    \"eval_metric\": \"rmse\",\n",
    "    \"callbacks\": [\n",
    "        log_evaluation(period=1000), \n",
    "        early_stopping(stopping_rounds=100)\n",
    "    ]\n",
    "}\n",
    "\n",
    "lgbm_goss_trainer.fit(X, y, fit_args)\n",
    "\n",
    "scores[\"LightGBM (goss)\"] = lgbm_goss_trainer.fold_scores\n",
    "oof_preds[\"LightGBM (goss)\"] = lgbm_goss_trainer.oof_preds\n",
    "test_preds[\"LightGBM (goss)\"] = lgbm_goss_trainer.predict(X_test)"
   ]
  },
  {
   "cell_type": "markdown",
   "id": "0539832f",
   "metadata": {
    "papermill": {
     "duration": 0.011934,
     "end_time": "2025-05-01T12:14:33.409709",
     "exception": false,
     "start_time": "2025-05-01T12:14:33.397775",
     "status": "completed"
    },
    "tags": []
   },
   "source": [
    "## XGBoost"
   ]
  },
  {
   "cell_type": "code",
   "execution_count": 12,
   "id": "8b9e0b43",
   "metadata": {
    "execution": {
     "iopub.execute_input": "2025-05-01T12:14:33.435595Z",
     "iopub.status.busy": "2025-05-01T12:14:33.435272Z",
     "iopub.status.idle": "2025-05-01T12:18:02.373988Z",
     "shell.execute_reply": "2025-05-01T12:18:02.373094Z"
    },
    "papermill": {
     "duration": 208.953909,
     "end_time": "2025-05-01T12:18:02.375927",
     "exception": false,
     "start_time": "2025-05-01T12:14:33.422018",
     "status": "completed"
    },
    "tags": []
   },
   "outputs": [
    {
     "name": "stdout",
     "output_type": "stream",
     "text": [
      "Training XGBRegressor\n",
      "\n",
      "[0]\tvalidation_0-rmse:0.93050\n",
      "[1000]\tvalidation_0-rmse:0.08428\n",
      "[1308]\tvalidation_0-rmse:0.08410\n",
      "--- Fold 0 - root_mean_squared_error: 0.0841 - Time: 31.99 s\n",
      "\n",
      "[0]\tvalidation_0-rmse:0.93287\n",
      "[1000]\tvalidation_0-rmse:0.09084\n",
      "[1992]\tvalidation_0-rmse:0.08782\n",
      "--- Fold 1 - root_mean_squared_error: 0.0878 - Time: 47.49 s\n",
      "\n",
      "[0]\tvalidation_0-rmse:0.93158\n",
      "[1000]\tvalidation_0-rmse:0.08906\n",
      "[1893]\tvalidation_0-rmse:0.08693\n",
      "--- Fold 2 - root_mean_squared_error: 0.0869 - Time: 42.52 s\n",
      "\n",
      "[0]\tvalidation_0-rmse:0.93005\n",
      "[1000]\tvalidation_0-rmse:0.08709\n",
      "[1554]\tvalidation_0-rmse:0.08561\n",
      "--- Fold 3 - root_mean_squared_error: 0.0856 - Time: 35.81 s\n",
      "\n",
      "[0]\tvalidation_0-rmse:0.93080\n",
      "[1000]\tvalidation_0-rmse:0.08570\n",
      "[1859]\tvalidation_0-rmse:0.08402\n",
      "--- Fold 4 - root_mean_squared_error: 0.0840 - Time: 43.85 s\n",
      "\n",
      "\n",
      "------ Overall root_mean_squared_error: 0.0857 - Mean root_mean_squared_error: 0.0857 ± 0.0015 - Time: 203.28 s\n"
     ]
    }
   ],
   "source": [
    "xgb_trainer = Trainer(\n",
    "    XGBRegressor(**xgb_params),\n",
    "    cv=KFold(n_splits=CFG.n_folds, random_state=CFG.seed, shuffle=True),\n",
    "    metric=CFG.metric,\n",
    "    use_early_stopping=True,\n",
    "    task=\"regression\"\n",
    ")\n",
    "\n",
    "fit_args = {\n",
    "    \"verbose\": 1000\n",
    "}\n",
    "\n",
    "xgb_trainer.fit(X, y, fit_args)\n",
    "\n",
    "scores[\"XGBoost\"] = xgb_trainer.fold_scores\n",
    "oof_preds[\"XGBoost\"] = xgb_trainer.oof_preds\n",
    "test_preds[\"XGBoost\"] = xgb_trainer.predict(X_test)"
   ]
  },
  {
   "cell_type": "markdown",
   "id": "bd4a41b4",
   "metadata": {
    "papermill": {
     "duration": 0.013177,
     "end_time": "2025-05-01T12:18:02.402843",
     "exception": false,
     "start_time": "2025-05-01T12:18:02.389666",
     "status": "completed"
    },
    "tags": []
   },
   "source": [
    "## CatBoost"
   ]
  },
  {
   "cell_type": "code",
   "execution_count": 13,
   "id": "b17e35f4",
   "metadata": {
    "execution": {
     "iopub.execute_input": "2025-05-01T12:18:02.431479Z",
     "iopub.status.busy": "2025-05-01T12:18:02.431164Z",
     "iopub.status.idle": "2025-05-01T12:23:13.986831Z",
     "shell.execute_reply": "2025-05-01T12:23:13.985889Z"
    },
    "papermill": {
     "duration": 311.572249,
     "end_time": "2025-05-01T12:23:13.988683",
     "exception": false,
     "start_time": "2025-05-01T12:18:02.416434",
     "status": "completed"
    },
    "tags": []
   },
   "outputs": [
    {
     "name": "stdout",
     "output_type": "stream",
     "text": [
      "Training CatBoostRegressor\n",
      "\n",
      "0:\tlearn: 0.9185429\ttest: 0.9177248\tbest: 0.9177248 (0)\ttotal: 131ms\tremaining: 10m 52s\n",
      "1000:\tlearn: 0.0548001\ttest: 0.0591492\tbest: 0.0591480 (976)\ttotal: 52.7s\tremaining: 3m 30s\n",
      "Stopped by overfitting detector  (100 iterations wait)\n",
      "\n",
      "bestTest = 0.05913662081\n",
      "bestIteration = 1123\n",
      "\n",
      "Shrink model to first 1124 iterations.\n",
      "--- Fold 0 - root_mean_squared_error: 0.0591 - Time: 65.29 s\n",
      "\n",
      "0:\tlearn: 0.9179589\ttest: 0.9201490\tbest: 0.9201490 (0)\ttotal: 72.8ms\tremaining: 6m 4s\n",
      "Stopped by overfitting detector  (100 iterations wait)\n",
      "\n",
      "bestTest = 0.05976392646\n",
      "bestIteration = 718\n",
      "\n",
      "Shrink model to first 719 iterations.\n",
      "--- Fold 1 - root_mean_squared_error: 0.0598 - Time: 42.99 s\n",
      "\n",
      "0:\tlearn: 0.9182888\ttest: 0.9187499\tbest: 0.9187499 (0)\ttotal: 86.9ms\tremaining: 7m 14s\n",
      "1000:\tlearn: 0.0547763\ttest: 0.0591204\tbest: 0.0591190 (994)\ttotal: 52.6s\tremaining: 3m 30s\n",
      "Stopped by overfitting detector  (100 iterations wait)\n",
      "\n",
      "bestTest = 0.05910178961\n",
      "bestIteration = 1196\n",
      "\n",
      "Shrink model to first 1197 iterations.\n",
      "--- Fold 2 - root_mean_squared_error: 0.0591 - Time: 68.72 s\n",
      "\n",
      "0:\tlearn: 0.9186453\ttest: 0.9172801\tbest: 0.9172801 (0)\ttotal: 71.3ms\tremaining: 5m 56s\n",
      "1000:\tlearn: 0.0547966\ttest: 0.0594722\tbest: 0.0594683 (974)\ttotal: 52.6s\tremaining: 3m 30s\n",
      "Stopped by overfitting detector  (100 iterations wait)\n",
      "\n",
      "bestTest = 0.05942025166\n",
      "bestIteration = 1364\n",
      "\n",
      "Shrink model to first 1365 iterations.\n",
      "--- Fold 3 - root_mean_squared_error: 0.0594 - Time: 78.26 s\n",
      "\n",
      "0:\tlearn: 0.9184654\ttest: 0.9180143\tbest: 0.9180143 (0)\ttotal: 70.4ms\tremaining: 5m 51s\n",
      "Stopped by overfitting detector  (100 iterations wait)\n",
      "\n",
      "bestTest = 0.05912366644\n",
      "bestIteration = 882\n",
      "\n",
      "Shrink model to first 883 iterations.\n",
      "--- Fold 4 - root_mean_squared_error: 0.0591 - Time: 51.53 s\n",
      "\n",
      "\n",
      "------ Overall root_mean_squared_error: 0.0593 - Mean root_mean_squared_error: 0.0593 ± 0.0003 - Time: 308.40 s\n"
     ]
    }
   ],
   "source": [
    "cb_trainer = Trainer(\n",
    "    CatBoostRegressor(**cb_params),\n",
    "    cv=KFold(n_splits=CFG.n_folds, random_state=CFG.seed, shuffle=True),\n",
    "    metric=CFG.metric,\n",
    "    use_early_stopping=True,\n",
    "    task=\"regression\"\n",
    ")\n",
    "\n",
    "fit_args = {\n",
    "    \"verbose\": 1000,\n",
    "    \"early_stopping_rounds\": 100,\n",
    "    \"use_best_model\": True\n",
    "}\n",
    "\n",
    "cb_trainer.fit(X, y, fit_args)\n",
    "\n",
    "scores[\"CatBoost\"] = cb_trainer.fold_scores\n",
    "oof_preds[\"CatBoost\"] = cb_trainer.oof_preds\n",
    "test_preds[\"CatBoost\"] = cb_trainer.predict(X_test)"
   ]
  },
  {
   "cell_type": "markdown",
   "id": "94df22ef",
   "metadata": {
    "papermill": {
     "duration": 0.013856,
     "end_time": "2025-05-01T12:23:14.016734",
     "exception": false,
     "start_time": "2025-05-01T12:23:14.002878",
     "status": "completed"
    },
    "tags": []
   },
   "source": [
    "## Yggdrasil"
   ]
  },
  {
   "cell_type": "code",
   "execution_count": 14,
   "id": "c61062d4",
   "metadata": {
    "execution": {
     "iopub.execute_input": "2025-05-01T12:23:14.046585Z",
     "iopub.status.busy": "2025-05-01T12:23:14.045874Z",
     "iopub.status.idle": "2025-05-01T12:23:14.056459Z",
     "shell.execute_reply": "2025-05-01T12:23:14.055377Z"
    },
    "papermill": {
     "duration": 0.027563,
     "end_time": "2025-05-01T12:23:14.058061",
     "exception": false,
     "start_time": "2025-05-01T12:23:14.030498",
     "status": "completed"
    },
    "tags": []
   },
   "outputs": [],
   "source": [
    "def YDFRegressor(learner_class):\n",
    "\n",
    "    class YDFXRegressor(BaseEstimator, RegressorMixin):\n",
    "\n",
    "        def __init__(self, params={}):\n",
    "            self.params = params\n",
    "\n",
    "        def fit(self, X, y):\n",
    "            assert isinstance(X, pd.DataFrame)\n",
    "            assert isinstance(y, pd.Series)\n",
    "            target = y.name\n",
    "            params = self.params.copy()\n",
    "            params['label'] = target\n",
    "            params['task'] = ydf.Task.REGRESSION\n",
    "            X = pd.concat([X, y], axis=1)\n",
    "            with contextlib.redirect_stderr(io.StringIO()), contextlib.redirect_stdout(io.StringIO()):\n",
    "                self.model = learner_class(**params).train(X)\n",
    "            return self\n",
    "\n",
    "        def predict(self, X):\n",
    "            assert isinstance(X, pd.DataFrame)\n",
    "            with contextlib.redirect_stderr(io.StringIO()), contextlib.redirect_stdout(io.StringIO()):\n",
    "                return self.model.predict(X)\n",
    "\n",
    "    return YDFXRegressor"
   ]
  },
  {
   "cell_type": "code",
   "execution_count": 15,
   "id": "9fd9b92f",
   "metadata": {
    "execution": {
     "iopub.execute_input": "2025-05-01T12:23:14.088107Z",
     "iopub.status.busy": "2025-05-01T12:23:14.087768Z",
     "iopub.status.idle": "2025-05-01T12:30:04.702629Z",
     "shell.execute_reply": "2025-05-01T12:30:04.701912Z"
    },
    "papermill": {
     "duration": 410.631508,
     "end_time": "2025-05-01T12:30:04.704231",
     "exception": false,
     "start_time": "2025-05-01T12:23:14.072723",
     "status": "completed"
    },
    "tags": []
   },
   "outputs": [
    {
     "name": "stdout",
     "output_type": "stream",
     "text": [
      "Training YDFXRegressor\n",
      "\n",
      "--- Fold 0 - root_mean_squared_error: 0.0606 - Time: 82.39 s\n",
      "--- Fold 1 - root_mean_squared_error: 0.0611 - Time: 83.57 s\n",
      "--- Fold 2 - root_mean_squared_error: 0.0604 - Time: 74.15 s\n",
      "--- Fold 3 - root_mean_squared_error: 0.0613 - Time: 68.55 s\n",
      "--- Fold 4 - root_mean_squared_error: 0.0605 - Time: 95.55 s\n",
      "\n",
      "------ Overall root_mean_squared_error: 0.0608 - Mean root_mean_squared_error: 0.0608 ± 0.0004 - Time: 405.79 s\n"
     ]
    }
   ],
   "source": [
    "ydf_trainer = Trainer(\n",
    "    YDFRegressor(GradientBoostedTreesLearner)(ydf_params),\n",
    "    cv=KFold(n_splits=CFG.n_folds, random_state=CFG.seed, shuffle=True),\n",
    "    metric=CFG.metric,\n",
    "    task=\"regression\"\n",
    ")\n",
    "\n",
    "ydf_trainer.fit(X, y)\n",
    "\n",
    "scores[\"Yggdrasil\"] = ydf_trainer.fold_scores\n",
    "oof_preds[\"Yggdrasil\"] = ydf_trainer.oof_preds\n",
    "test_preds[\"Yggdrasil\"] = ydf_trainer.predict(X_test)"
   ]
  },
  {
   "cell_type": "markdown",
   "id": "095f1293",
   "metadata": {
    "papermill": {
     "duration": 0.014543,
     "end_time": "2025-05-01T12:30:04.733621",
     "exception": false,
     "start_time": "2025-05-01T12:30:04.719078",
     "status": "completed"
    },
    "tags": []
   },
   "source": [
    "## Neural networks"
   ]
  },
  {
   "cell_type": "code",
   "execution_count": 16,
   "id": "073f8a0b",
   "metadata": {
    "execution": {
     "iopub.execute_input": "2025-05-01T12:30:04.763806Z",
     "iopub.status.busy": "2025-05-01T12:30:04.763021Z",
     "iopub.status.idle": "2025-05-01T12:30:05.444527Z",
     "shell.execute_reply": "2025-05-01T12:30:05.443786Z"
    },
    "papermill": {
     "duration": 0.698255,
     "end_time": "2025-05-01T12:30:05.446125",
     "exception": false,
     "start_time": "2025-05-01T12:30:04.747870",
     "status": "completed"
    },
    "tags": []
   },
   "outputs": [],
   "source": [
    "train = pd.read_csv(CFG.train_path, index_col=\"id\")\n",
    "test = pd.read_csv(CFG.test_path, index_col=\"id\")\n",
    "\n",
    "X = train.drop(CFG.target, axis=1)\n",
    "y = np.log1p(train[CFG.target])\n",
    "X_test = test"
   ]
  },
  {
   "cell_type": "code",
   "execution_count": 17,
   "id": "3f0d9493",
   "metadata": {
    "execution": {
     "iopub.execute_input": "2025-05-01T12:30:05.476658Z",
     "iopub.status.busy": "2025-05-01T12:30:05.476355Z",
     "iopub.status.idle": "2025-05-01T12:30:05.972305Z",
     "shell.execute_reply": "2025-05-01T12:30:05.971385Z"
    },
    "papermill": {
     "duration": 0.513046,
     "end_time": "2025-05-01T12:30:05.973998",
     "exception": false,
     "start_time": "2025-05-01T12:30:05.460952",
     "status": "completed"
    },
    "tags": []
   },
   "outputs": [],
   "source": [
    "pipeline = make_pipeline(\n",
    "    ColumnTransformer(\n",
    "        [\n",
    "            ('one-hot-encode', OneHotEncoder(drop='first', sparse_output=False, dtype=np.float32, handle_unknown='ignore'), ['Sex']),\n",
    "            \n",
    "        ],\n",
    "        remainder=StandardScaler()\n",
    "    )\n",
    ").set_output(transform='pandas')\n",
    "\n",
    "X = pipeline.fit_transform(X, y)\n",
    "X_test = pipeline.transform(X_test)"
   ]
  },
  {
   "cell_type": "code",
   "execution_count": 18,
   "id": "7812e7ce",
   "metadata": {
    "execution": {
     "iopub.execute_input": "2025-05-01T12:30:06.004231Z",
     "iopub.status.busy": "2025-05-01T12:30:06.003889Z",
     "iopub.status.idle": "2025-05-01T12:30:06.009546Z",
     "shell.execute_reply": "2025-05-01T12:30:06.008851Z"
    },
    "papermill": {
     "duration": 0.022215,
     "end_time": "2025-05-01T12:30:06.010778",
     "exception": false,
     "start_time": "2025-05-01T12:30:05.988563",
     "status": "completed"
    },
    "tags": []
   },
   "outputs": [],
   "source": [
    "def get_model(meta):\n",
    "    model = keras.models.Sequential()\n",
    "    model.add(keras.layers.Input(meta[\"X_shape_\"][1:]))\n",
    "    model.add(keras.layers.Dense(256, kernel_initializer='lecun_normal', activation='selu'))\n",
    "    model.add(keras.layers.Dense(128, kernel_initializer='lecun_normal', activation='selu'))\n",
    "    model.add(keras.layers.Dense(64, kernel_initializer='lecun_normal', activation='selu'))\n",
    "    model.add(keras.layers.Dense(1))\n",
    "    return model"
   ]
  },
  {
   "cell_type": "code",
   "execution_count": 19,
   "id": "177c2167",
   "metadata": {
    "execution": {
     "iopub.execute_input": "2025-05-01T12:30:06.041196Z",
     "iopub.status.busy": "2025-05-01T12:30:06.040558Z",
     "iopub.status.idle": "2025-05-01T12:30:06.092161Z",
     "shell.execute_reply": "2025-05-01T12:30:06.091296Z"
    },
    "papermill": {
     "duration": 0.068544,
     "end_time": "2025-05-01T12:30:06.093872",
     "exception": false,
     "start_time": "2025-05-01T12:30:06.025328",
     "status": "completed"
    },
    "tags": []
   },
   "outputs": [
    {
     "name": "stderr",
     "output_type": "stream",
     "text": [
      "2025-05-01 12:30:06.047426: E external/local_xla/xla/stream_executor/cuda/cuda_driver.cc:152] failed call to cuInit: INTERNAL: CUDA error: Failed call to cuInit: UNKNOWN ERROR (303)\n"
     ]
    }
   ],
   "source": [
    "def scheduler(epoch, lr):    \n",
    "    if epoch % 3 == 0 and epoch:\n",
    "        return lr / 2\n",
    "    return lr\n",
    "\n",
    "nn_model = KerasRegressor(\n",
    "    get_model,\n",
    "    loss=\"mean_squared_error\",\n",
    "    random_state=CFG.seed,\n",
    "    metrics=[keras.metrics.RootMeanSquaredError(name='rmse')],\n",
    "    optimizer=keras.optimizers.AdamW(learning_rate=0.01),\n",
    "    validation_batch_size=65536,\n",
    "    validation_split=0.1,\n",
    "    batch_size=1024,\n",
    "    epochs=50, \n",
    "    verbose=0,\n",
    "    callbacks=[\n",
    "        keras.callbacks.EarlyStopping(monitor='val_rmse', patience=7, restore_best_weights=True),\n",
    "        keras.callbacks.LearningRateScheduler(scheduler)\n",
    "    ]\n",
    ")"
   ]
  },
  {
   "cell_type": "code",
   "execution_count": 20,
   "id": "28404802",
   "metadata": {
    "execution": {
     "iopub.execute_input": "2025-05-01T12:30:06.124337Z",
     "iopub.status.busy": "2025-05-01T12:30:06.124022Z",
     "iopub.status.idle": "2025-05-01T12:30:06.127848Z",
     "shell.execute_reply": "2025-05-01T12:30:06.127167Z"
    },
    "papermill": {
     "duration": 0.02067,
     "end_time": "2025-05-01T12:30:06.129136",
     "exception": false,
     "start_time": "2025-05-01T12:30:06.108466",
     "status": "completed"
    },
    "tags": []
   },
   "outputs": [],
   "source": [
    "nn_bag = BaggingRegressor(\n",
    "    nn_model,\n",
    "    n_estimators=5,\n",
    "    random_state=CFG.seed,\n",
    ")"
   ]
  },
  {
   "cell_type": "code",
   "execution_count": 21,
   "id": "c14c0618",
   "metadata": {
    "_kg_hide-output": true,
    "execution": {
     "iopub.execute_input": "2025-05-01T12:30:06.160197Z",
     "iopub.status.busy": "2025-05-01T12:30:06.159528Z",
     "iopub.status.idle": "2025-05-01T13:15:44.618798Z",
     "shell.execute_reply": "2025-05-01T13:15:44.617885Z"
    },
    "papermill": {
     "duration": 2738.47658,
     "end_time": "2025-05-01T13:15:44.620590",
     "exception": false,
     "start_time": "2025-05-01T12:30:06.144010",
     "status": "completed"
    },
    "tags": []
   },
   "outputs": [
    {
     "name": "stdout",
     "output_type": "stream",
     "text": [
      "Training BaggingRegressor\n",
      "\n"
     ]
    },
    {
     "name": "stderr",
     "output_type": "stream",
     "text": [
      "2025-05-01 12:30:06.567441: E tensorflow/core/framework/node_def_util.cc:676] NodeDef mentions attribute use_unbounded_threadpool which is not in the op definition: Op<name=MapDataset; signature=input_dataset:variant, other_arguments: -> handle:variant; attr=f:func; attr=Targuments:list(type),min=0; attr=output_types:list(type),min=1; attr=output_shapes:list(shape),min=1; attr=use_inter_op_parallelism:bool,default=true; attr=preserve_cardinality:bool,default=false; attr=force_synchronous:bool,default=false; attr=metadata:string,default=\"\"> This may be expected if your graph generating binary is newer  than this binary. Unknown attributes will be ignored. NodeDef: {{node ParallelMapDatasetV2/_16}}\n",
      "2025-05-01 12:31:58.140475: E tensorflow/core/framework/node_def_util.cc:676] NodeDef mentions attribute use_unbounded_threadpool which is not in the op definition: Op<name=MapDataset; signature=input_dataset:variant, other_arguments: -> handle:variant; attr=f:func; attr=Targuments:list(type),min=0; attr=output_types:list(type),min=1; attr=output_shapes:list(shape),min=1; attr=use_inter_op_parallelism:bool,default=true; attr=preserve_cardinality:bool,default=false; attr=force_synchronous:bool,default=false; attr=metadata:string,default=\"\"> This may be expected if your graph generating binary is newer  than this binary. Unknown attributes will be ignored. NodeDef: {{node ParallelMapDatasetV2/_16}}\n",
      "2025-05-01 12:33:51.082108: E tensorflow/core/framework/node_def_util.cc:676] NodeDef mentions attribute use_unbounded_threadpool which is not in the op definition: Op<name=MapDataset; signature=input_dataset:variant, other_arguments: -> handle:variant; attr=f:func; attr=Targuments:list(type),min=0; attr=output_types:list(type),min=1; attr=output_shapes:list(shape),min=1; attr=use_inter_op_parallelism:bool,default=true; attr=preserve_cardinality:bool,default=false; attr=force_synchronous:bool,default=false; attr=metadata:string,default=\"\"> This may be expected if your graph generating binary is newer  than this binary. Unknown attributes will be ignored. NodeDef: {{node ParallelMapDatasetV2/_16}}\n",
      "2025-05-01 12:35:39.694989: E tensorflow/core/framework/node_def_util.cc:676] NodeDef mentions attribute use_unbounded_threadpool which is not in the op definition: Op<name=MapDataset; signature=input_dataset:variant, other_arguments: -> handle:variant; attr=f:func; attr=Targuments:list(type),min=0; attr=output_types:list(type),min=1; attr=output_shapes:list(shape),min=1; attr=use_inter_op_parallelism:bool,default=true; attr=preserve_cardinality:bool,default=false; attr=force_synchronous:bool,default=false; attr=metadata:string,default=\"\"> This may be expected if your graph generating binary is newer  than this binary. Unknown attributes will be ignored. NodeDef: {{node ParallelMapDatasetV2/_16}}\n",
      "2025-05-01 12:37:28.053395: E tensorflow/core/framework/node_def_util.cc:676] NodeDef mentions attribute use_unbounded_threadpool which is not in the op definition: Op<name=MapDataset; signature=input_dataset:variant, other_arguments: -> handle:variant; attr=f:func; attr=Targuments:list(type),min=0; attr=output_types:list(type),min=1; attr=output_shapes:list(shape),min=1; attr=use_inter_op_parallelism:bool,default=true; attr=preserve_cardinality:bool,default=false; attr=force_synchronous:bool,default=false; attr=metadata:string,default=\"\"> This may be expected if your graph generating binary is newer  than this binary. Unknown attributes will be ignored. NodeDef: {{node ParallelMapDatasetV2/_16}}\n",
      "2025-05-01 12:39:13.138039: E tensorflow/core/framework/node_def_util.cc:676] NodeDef mentions attribute use_unbounded_threadpool which is not in the op definition: Op<name=MapDataset; signature=input_dataset:variant, other_arguments: -> handle:variant; attr=f:func; attr=Targuments:list(type),min=0; attr=output_types:list(type),min=1; attr=output_shapes:list(shape),min=1; attr=use_inter_op_parallelism:bool,default=true; attr=preserve_cardinality:bool,default=false; attr=force_synchronous:bool,default=false; attr=metadata:string,default=\"\"> This may be expected if your graph generating binary is newer  than this binary. Unknown attributes will be ignored. NodeDef: {{node ParallelMapDatasetV2/_14}}\n"
     ]
    },
    {
     "name": "stdout",
     "output_type": "stream",
     "text": [
      "--- Fold 0 - root_mean_squared_error: 0.0617 - Time: 550.28 s\n"
     ]
    },
    {
     "name": "stderr",
     "output_type": "stream",
     "text": [
      "2025-05-01 12:39:21.403332: E tensorflow/core/framework/node_def_util.cc:676] NodeDef mentions attribute use_unbounded_threadpool which is not in the op definition: Op<name=MapDataset; signature=input_dataset:variant, other_arguments: -> handle:variant; attr=f:func; attr=Targuments:list(type),min=0; attr=output_types:list(type),min=1; attr=output_shapes:list(shape),min=1; attr=use_inter_op_parallelism:bool,default=true; attr=preserve_cardinality:bool,default=false; attr=force_synchronous:bool,default=false; attr=metadata:string,default=\"\"> This may be expected if your graph generating binary is newer  than this binary. Unknown attributes will be ignored. NodeDef: {{node ParallelMapDatasetV2/_16}}\n",
      "2025-05-01 12:41:05.191384: E tensorflow/core/framework/node_def_util.cc:676] NodeDef mentions attribute use_unbounded_threadpool which is not in the op definition: Op<name=MapDataset; signature=input_dataset:variant, other_arguments: -> handle:variant; attr=f:func; attr=Targuments:list(type),min=0; attr=output_types:list(type),min=1; attr=output_shapes:list(shape),min=1; attr=use_inter_op_parallelism:bool,default=true; attr=preserve_cardinality:bool,default=false; attr=force_synchronous:bool,default=false; attr=metadata:string,default=\"\"> This may be expected if your graph generating binary is newer  than this binary. Unknown attributes will be ignored. NodeDef: {{node ParallelMapDatasetV2/_16}}\n",
      "2025-05-01 12:42:54.341473: E tensorflow/core/framework/node_def_util.cc:676] NodeDef mentions attribute use_unbounded_threadpool which is not in the op definition: Op<name=MapDataset; signature=input_dataset:variant, other_arguments: -> handle:variant; attr=f:func; attr=Targuments:list(type),min=0; attr=output_types:list(type),min=1; attr=output_shapes:list(shape),min=1; attr=use_inter_op_parallelism:bool,default=true; attr=preserve_cardinality:bool,default=false; attr=force_synchronous:bool,default=false; attr=metadata:string,default=\"\"> This may be expected if your graph generating binary is newer  than this binary. Unknown attributes will be ignored. NodeDef: {{node ParallelMapDatasetV2/_16}}\n",
      "2025-05-01 12:44:39.768321: E tensorflow/core/framework/node_def_util.cc:676] NodeDef mentions attribute use_unbounded_threadpool which is not in the op definition: Op<name=MapDataset; signature=input_dataset:variant, other_arguments: -> handle:variant; attr=f:func; attr=Targuments:list(type),min=0; attr=output_types:list(type),min=1; attr=output_shapes:list(shape),min=1; attr=use_inter_op_parallelism:bool,default=true; attr=preserve_cardinality:bool,default=false; attr=force_synchronous:bool,default=false; attr=metadata:string,default=\"\"> This may be expected if your graph generating binary is newer  than this binary. Unknown attributes will be ignored. NodeDef: {{node ParallelMapDatasetV2/_16}}\n",
      "2025-05-01 12:46:29.202982: E tensorflow/core/framework/node_def_util.cc:676] NodeDef mentions attribute use_unbounded_threadpool which is not in the op definition: Op<name=MapDataset; signature=input_dataset:variant, other_arguments: -> handle:variant; attr=f:func; attr=Targuments:list(type),min=0; attr=output_types:list(type),min=1; attr=output_shapes:list(shape),min=1; attr=use_inter_op_parallelism:bool,default=true; attr=preserve_cardinality:bool,default=false; attr=force_synchronous:bool,default=false; attr=metadata:string,default=\"\"> This may be expected if your graph generating binary is newer  than this binary. Unknown attributes will be ignored. NodeDef: {{node ParallelMapDatasetV2/_16}}\n",
      "2025-05-01 12:48:18.830912: E tensorflow/core/framework/node_def_util.cc:676] NodeDef mentions attribute use_unbounded_threadpool which is not in the op definition: Op<name=MapDataset; signature=input_dataset:variant, other_arguments: -> handle:variant; attr=f:func; attr=Targuments:list(type),min=0; attr=output_types:list(type),min=1; attr=output_shapes:list(shape),min=1; attr=use_inter_op_parallelism:bool,default=true; attr=preserve_cardinality:bool,default=false; attr=force_synchronous:bool,default=false; attr=metadata:string,default=\"\"> This may be expected if your graph generating binary is newer  than this binary. Unknown attributes will be ignored. NodeDef: {{node ParallelMapDatasetV2/_14}}\n"
     ]
    },
    {
     "name": "stdout",
     "output_type": "stream",
     "text": [
      "--- Fold 1 - root_mean_squared_error: 0.0632 - Time: 545.54 s\n"
     ]
    },
    {
     "name": "stderr",
     "output_type": "stream",
     "text": [
      "2025-05-01 12:48:27.310951: E tensorflow/core/framework/node_def_util.cc:676] NodeDef mentions attribute use_unbounded_threadpool which is not in the op definition: Op<name=MapDataset; signature=input_dataset:variant, other_arguments: -> handle:variant; attr=f:func; attr=Targuments:list(type),min=0; attr=output_types:list(type),min=1; attr=output_shapes:list(shape),min=1; attr=use_inter_op_parallelism:bool,default=true; attr=preserve_cardinality:bool,default=false; attr=force_synchronous:bool,default=false; attr=metadata:string,default=\"\"> This may be expected if your graph generating binary is newer  than this binary. Unknown attributes will be ignored. NodeDef: {{node ParallelMapDatasetV2/_16}}\n",
      "2025-05-01 12:50:10.571268: E tensorflow/core/framework/node_def_util.cc:676] NodeDef mentions attribute use_unbounded_threadpool which is not in the op definition: Op<name=MapDataset; signature=input_dataset:variant, other_arguments: -> handle:variant; attr=f:func; attr=Targuments:list(type),min=0; attr=output_types:list(type),min=1; attr=output_shapes:list(shape),min=1; attr=use_inter_op_parallelism:bool,default=true; attr=preserve_cardinality:bool,default=false; attr=force_synchronous:bool,default=false; attr=metadata:string,default=\"\"> This may be expected if your graph generating binary is newer  than this binary. Unknown attributes will be ignored. NodeDef: {{node ParallelMapDatasetV2/_16}}\n",
      "2025-05-01 12:51:56.746088: E tensorflow/core/framework/node_def_util.cc:676] NodeDef mentions attribute use_unbounded_threadpool which is not in the op definition: Op<name=MapDataset; signature=input_dataset:variant, other_arguments: -> handle:variant; attr=f:func; attr=Targuments:list(type),min=0; attr=output_types:list(type),min=1; attr=output_shapes:list(shape),min=1; attr=use_inter_op_parallelism:bool,default=true; attr=preserve_cardinality:bool,default=false; attr=force_synchronous:bool,default=false; attr=metadata:string,default=\"\"> This may be expected if your graph generating binary is newer  than this binary. Unknown attributes will be ignored. NodeDef: {{node ParallelMapDatasetV2/_16}}\n",
      "2025-05-01 12:53:45.369645: E tensorflow/core/framework/node_def_util.cc:676] NodeDef mentions attribute use_unbounded_threadpool which is not in the op definition: Op<name=MapDataset; signature=input_dataset:variant, other_arguments: -> handle:variant; attr=f:func; attr=Targuments:list(type),min=0; attr=output_types:list(type),min=1; attr=output_shapes:list(shape),min=1; attr=use_inter_op_parallelism:bool,default=true; attr=preserve_cardinality:bool,default=false; attr=force_synchronous:bool,default=false; attr=metadata:string,default=\"\"> This may be expected if your graph generating binary is newer  than this binary. Unknown attributes will be ignored. NodeDef: {{node ParallelMapDatasetV2/_16}}\n",
      "2025-05-01 12:55:32.890307: E tensorflow/core/framework/node_def_util.cc:676] NodeDef mentions attribute use_unbounded_threadpool which is not in the op definition: Op<name=MapDataset; signature=input_dataset:variant, other_arguments: -> handle:variant; attr=f:func; attr=Targuments:list(type),min=0; attr=output_types:list(type),min=1; attr=output_shapes:list(shape),min=1; attr=use_inter_op_parallelism:bool,default=true; attr=preserve_cardinality:bool,default=false; attr=force_synchronous:bool,default=false; attr=metadata:string,default=\"\"> This may be expected if your graph generating binary is newer  than this binary. Unknown attributes will be ignored. NodeDef: {{node ParallelMapDatasetV2/_16}}\n",
      "2025-05-01 12:57:16.173906: E tensorflow/core/framework/node_def_util.cc:676] NodeDef mentions attribute use_unbounded_threadpool which is not in the op definition: Op<name=MapDataset; signature=input_dataset:variant, other_arguments: -> handle:variant; attr=f:func; attr=Targuments:list(type),min=0; attr=output_types:list(type),min=1; attr=output_shapes:list(shape),min=1; attr=use_inter_op_parallelism:bool,default=true; attr=preserve_cardinality:bool,default=false; attr=force_synchronous:bool,default=false; attr=metadata:string,default=\"\"> This may be expected if your graph generating binary is newer  than this binary. Unknown attributes will be ignored. NodeDef: {{node ParallelMapDatasetV2/_14}}\n"
     ]
    },
    {
     "name": "stdout",
     "output_type": "stream",
     "text": [
      "--- Fold 2 - root_mean_squared_error: 0.0620 - Time: 536.45 s\n"
     ]
    },
    {
     "name": "stderr",
     "output_type": "stream",
     "text": [
      "2025-05-01 12:57:24.244106: E tensorflow/core/framework/node_def_util.cc:676] NodeDef mentions attribute use_unbounded_threadpool which is not in the op definition: Op<name=MapDataset; signature=input_dataset:variant, other_arguments: -> handle:variant; attr=f:func; attr=Targuments:list(type),min=0; attr=output_types:list(type),min=1; attr=output_shapes:list(shape),min=1; attr=use_inter_op_parallelism:bool,default=true; attr=preserve_cardinality:bool,default=false; attr=force_synchronous:bool,default=false; attr=metadata:string,default=\"\"> This may be expected if your graph generating binary is newer  than this binary. Unknown attributes will be ignored. NodeDef: {{node ParallelMapDatasetV2/_16}}\n",
      "2025-05-01 12:59:04.011787: E tensorflow/core/framework/node_def_util.cc:676] NodeDef mentions attribute use_unbounded_threadpool which is not in the op definition: Op<name=MapDataset; signature=input_dataset:variant, other_arguments: -> handle:variant; attr=f:func; attr=Targuments:list(type),min=0; attr=output_types:list(type),min=1; attr=output_shapes:list(shape),min=1; attr=use_inter_op_parallelism:bool,default=true; attr=preserve_cardinality:bool,default=false; attr=force_synchronous:bool,default=false; attr=metadata:string,default=\"\"> This may be expected if your graph generating binary is newer  than this binary. Unknown attributes will be ignored. NodeDef: {{node ParallelMapDatasetV2/_16}}\n",
      "2025-05-01 13:00:46.051651: E tensorflow/core/framework/node_def_util.cc:676] NodeDef mentions attribute use_unbounded_threadpool which is not in the op definition: Op<name=MapDataset; signature=input_dataset:variant, other_arguments: -> handle:variant; attr=f:func; attr=Targuments:list(type),min=0; attr=output_types:list(type),min=1; attr=output_shapes:list(shape),min=1; attr=use_inter_op_parallelism:bool,default=true; attr=preserve_cardinality:bool,default=false; attr=force_synchronous:bool,default=false; attr=metadata:string,default=\"\"> This may be expected if your graph generating binary is newer  than this binary. Unknown attributes will be ignored. NodeDef: {{node ParallelMapDatasetV2/_16}}\n",
      "2025-05-01 13:02:32.740481: E tensorflow/core/framework/node_def_util.cc:676] NodeDef mentions attribute use_unbounded_threadpool which is not in the op definition: Op<name=MapDataset; signature=input_dataset:variant, other_arguments: -> handle:variant; attr=f:func; attr=Targuments:list(type),min=0; attr=output_types:list(type),min=1; attr=output_shapes:list(shape),min=1; attr=use_inter_op_parallelism:bool,default=true; attr=preserve_cardinality:bool,default=false; attr=force_synchronous:bool,default=false; attr=metadata:string,default=\"\"> This may be expected if your graph generating binary is newer  than this binary. Unknown attributes will be ignored. NodeDef: {{node ParallelMapDatasetV2/_16}}\n",
      "2025-05-01 13:04:19.793297: E tensorflow/core/framework/node_def_util.cc:676] NodeDef mentions attribute use_unbounded_threadpool which is not in the op definition: Op<name=MapDataset; signature=input_dataset:variant, other_arguments: -> handle:variant; attr=f:func; attr=Targuments:list(type),min=0; attr=output_types:list(type),min=1; attr=output_shapes:list(shape),min=1; attr=use_inter_op_parallelism:bool,default=true; attr=preserve_cardinality:bool,default=false; attr=force_synchronous:bool,default=false; attr=metadata:string,default=\"\"> This may be expected if your graph generating binary is newer  than this binary. Unknown attributes will be ignored. NodeDef: {{node ParallelMapDatasetV2/_16}}\n",
      "2025-05-01 13:06:06.732632: E tensorflow/core/framework/node_def_util.cc:676] NodeDef mentions attribute use_unbounded_threadpool which is not in the op definition: Op<name=MapDataset; signature=input_dataset:variant, other_arguments: -> handle:variant; attr=f:func; attr=Targuments:list(type),min=0; attr=output_types:list(type),min=1; attr=output_shapes:list(shape),min=1; attr=use_inter_op_parallelism:bool,default=true; attr=preserve_cardinality:bool,default=false; attr=force_synchronous:bool,default=false; attr=metadata:string,default=\"\"> This may be expected if your graph generating binary is newer  than this binary. Unknown attributes will be ignored. NodeDef: {{node ParallelMapDatasetV2/_14}}\n"
     ]
    },
    {
     "name": "stdout",
     "output_type": "stream",
     "text": [
      "--- Fold 3 - root_mean_squared_error: 0.0620 - Time: 530.06 s\n"
     ]
    },
    {
     "name": "stderr",
     "output_type": "stream",
     "text": [
      "2025-05-01 13:06:15.131650: E tensorflow/core/framework/node_def_util.cc:676] NodeDef mentions attribute use_unbounded_threadpool which is not in the op definition: Op<name=MapDataset; signature=input_dataset:variant, other_arguments: -> handle:variant; attr=f:func; attr=Targuments:list(type),min=0; attr=output_types:list(type),min=1; attr=output_shapes:list(shape),min=1; attr=use_inter_op_parallelism:bool,default=true; attr=preserve_cardinality:bool,default=false; attr=force_synchronous:bool,default=false; attr=metadata:string,default=\"\"> This may be expected if your graph generating binary is newer  than this binary. Unknown attributes will be ignored. NodeDef: {{node ParallelMapDatasetV2/_16}}\n",
      "2025-05-01 13:08:00.068865: E tensorflow/core/framework/node_def_util.cc:676] NodeDef mentions attribute use_unbounded_threadpool which is not in the op definition: Op<name=MapDataset; signature=input_dataset:variant, other_arguments: -> handle:variant; attr=f:func; attr=Targuments:list(type),min=0; attr=output_types:list(type),min=1; attr=output_shapes:list(shape),min=1; attr=use_inter_op_parallelism:bool,default=true; attr=preserve_cardinality:bool,default=false; attr=force_synchronous:bool,default=false; attr=metadata:string,default=\"\"> This may be expected if your graph generating binary is newer  than this binary. Unknown attributes will be ignored. NodeDef: {{node ParallelMapDatasetV2/_16}}\n",
      "2025-05-01 13:09:48.559347: E tensorflow/core/framework/node_def_util.cc:676] NodeDef mentions attribute use_unbounded_threadpool which is not in the op definition: Op<name=MapDataset; signature=input_dataset:variant, other_arguments: -> handle:variant; attr=f:func; attr=Targuments:list(type),min=0; attr=output_types:list(type),min=1; attr=output_shapes:list(shape),min=1; attr=use_inter_op_parallelism:bool,default=true; attr=preserve_cardinality:bool,default=false; attr=force_synchronous:bool,default=false; attr=metadata:string,default=\"\"> This may be expected if your graph generating binary is newer  than this binary. Unknown attributes will be ignored. NodeDef: {{node ParallelMapDatasetV2/_16}}\n",
      "2025-05-01 13:11:36.727306: E tensorflow/core/framework/node_def_util.cc:676] NodeDef mentions attribute use_unbounded_threadpool which is not in the op definition: Op<name=MapDataset; signature=input_dataset:variant, other_arguments: -> handle:variant; attr=f:func; attr=Targuments:list(type),min=0; attr=output_types:list(type),min=1; attr=output_shapes:list(shape),min=1; attr=use_inter_op_parallelism:bool,default=true; attr=preserve_cardinality:bool,default=false; attr=force_synchronous:bool,default=false; attr=metadata:string,default=\"\"> This may be expected if your graph generating binary is newer  than this binary. Unknown attributes will be ignored. NodeDef: {{node ParallelMapDatasetV2/_16}}\n",
      "2025-05-01 13:13:25.643185: E tensorflow/core/framework/node_def_util.cc:676] NodeDef mentions attribute use_unbounded_threadpool which is not in the op definition: Op<name=MapDataset; signature=input_dataset:variant, other_arguments: -> handle:variant; attr=f:func; attr=Targuments:list(type),min=0; attr=output_types:list(type),min=1; attr=output_shapes:list(shape),min=1; attr=use_inter_op_parallelism:bool,default=true; attr=preserve_cardinality:bool,default=false; attr=force_synchronous:bool,default=false; attr=metadata:string,default=\"\"> This may be expected if your graph generating binary is newer  than this binary. Unknown attributes will be ignored. NodeDef: {{node ParallelMapDatasetV2/_16}}\n",
      "2025-05-01 13:15:15.556714: E tensorflow/core/framework/node_def_util.cc:676] NodeDef mentions attribute use_unbounded_threadpool which is not in the op definition: Op<name=MapDataset; signature=input_dataset:variant, other_arguments: -> handle:variant; attr=f:func; attr=Targuments:list(type),min=0; attr=output_types:list(type),min=1; attr=output_shapes:list(shape),min=1; attr=use_inter_op_parallelism:bool,default=true; attr=preserve_cardinality:bool,default=false; attr=force_synchronous:bool,default=false; attr=metadata:string,default=\"\"> This may be expected if your graph generating binary is newer  than this binary. Unknown attributes will be ignored. NodeDef: {{node ParallelMapDatasetV2/_14}}\n"
     ]
    },
    {
     "name": "stdout",
     "output_type": "stream",
     "text": [
      "--- Fold 4 - root_mean_squared_error: 0.0616 - Time: 548.20 s\n",
      "\n",
      "------ Overall root_mean_squared_error: 0.0621 - Mean root_mean_squared_error: 0.0621 ± 0.0006 - Time: 2713.59 s\n"
     ]
    },
    {
     "name": "stderr",
     "output_type": "stream",
     "text": [
      "2025-05-01 13:15:20.961234: E tensorflow/core/framework/node_def_util.cc:676] NodeDef mentions attribute use_unbounded_threadpool which is not in the op definition: Op<name=MapDataset; signature=input_dataset:variant, other_arguments: -> handle:variant; attr=f:func; attr=Targuments:list(type),min=0; attr=output_types:list(type),min=1; attr=output_shapes:list(shape),min=1; attr=use_inter_op_parallelism:bool,default=true; attr=preserve_cardinality:bool,default=false; attr=force_synchronous:bool,default=false; attr=metadata:string,default=\"\"> This may be expected if your graph generating binary is newer  than this binary. Unknown attributes will be ignored. NodeDef: {{node ParallelMapDatasetV2/_14}}\n",
      "2025-05-01 13:15:26.026781: E tensorflow/core/framework/node_def_util.cc:676] NodeDef mentions attribute use_unbounded_threadpool which is not in the op definition: Op<name=MapDataset; signature=input_dataset:variant, other_arguments: -> handle:variant; attr=f:func; attr=Targuments:list(type),min=0; attr=output_types:list(type),min=1; attr=output_shapes:list(shape),min=1; attr=use_inter_op_parallelism:bool,default=true; attr=preserve_cardinality:bool,default=false; attr=force_synchronous:bool,default=false; attr=metadata:string,default=\"\"> This may be expected if your graph generating binary is newer  than this binary. Unknown attributes will be ignored. NodeDef: {{node ParallelMapDatasetV2/_14}}\n",
      "2025-05-01 13:15:32.034689: E tensorflow/core/framework/node_def_util.cc:676] NodeDef mentions attribute use_unbounded_threadpool which is not in the op definition: Op<name=MapDataset; signature=input_dataset:variant, other_arguments: -> handle:variant; attr=f:func; attr=Targuments:list(type),min=0; attr=output_types:list(type),min=1; attr=output_shapes:list(shape),min=1; attr=use_inter_op_parallelism:bool,default=true; attr=preserve_cardinality:bool,default=false; attr=force_synchronous:bool,default=false; attr=metadata:string,default=\"\"> This may be expected if your graph generating binary is newer  than this binary. Unknown attributes will be ignored. NodeDef: {{node ParallelMapDatasetV2/_14}}\n",
      "2025-05-01 13:15:37.978653: E tensorflow/core/framework/node_def_util.cc:676] NodeDef mentions attribute use_unbounded_threadpool which is not in the op definition: Op<name=MapDataset; signature=input_dataset:variant, other_arguments: -> handle:variant; attr=f:func; attr=Targuments:list(type),min=0; attr=output_types:list(type),min=1; attr=output_shapes:list(shape),min=1; attr=use_inter_op_parallelism:bool,default=true; attr=preserve_cardinality:bool,default=false; attr=force_synchronous:bool,default=false; attr=metadata:string,default=\"\"> This may be expected if your graph generating binary is newer  than this binary. Unknown attributes will be ignored. NodeDef: {{node ParallelMapDatasetV2/_14}}\n",
      "2025-05-01 13:15:43.738902: E tensorflow/core/framework/node_def_util.cc:676] NodeDef mentions attribute use_unbounded_threadpool which is not in the op definition: Op<name=MapDataset; signature=input_dataset:variant, other_arguments: -> handle:variant; attr=f:func; attr=Targuments:list(type),min=0; attr=output_types:list(type),min=1; attr=output_shapes:list(shape),min=1; attr=use_inter_op_parallelism:bool,default=true; attr=preserve_cardinality:bool,default=false; attr=force_synchronous:bool,default=false; attr=metadata:string,default=\"\"> This may be expected if your graph generating binary is newer  than this binary. Unknown attributes will be ignored. NodeDef: {{node ParallelMapDatasetV2/_14}}\n"
     ]
    }
   ],
   "source": [
    "nn_trainer = Trainer(\n",
    "    nn_bag,\n",
    "    cv=KFold(n_splits=CFG.n_folds, random_state=CFG.seed, shuffle=True),\n",
    "    metric=root_mean_squared_error,\n",
    "    task=\"regression\"\n",
    ")\n",
    "\n",
    "nn_trainer.fit(X, y)\n",
    "\n",
    "scores[\"KerasANN\"] = nn_trainer.fold_scores\n",
    "oof_preds[\"KerasANN\"] = nn_trainer.oof_preds\n",
    "test_preds[\"KerasANN\"] = nn_trainer.predict(X_test)"
   ]
  },
  {
   "cell_type": "markdown",
   "id": "48be7841",
   "metadata": {
    "papermill": {
     "duration": 0.016666,
     "end_time": "2025-05-01T13:15:44.654914",
     "exception": false,
     "start_time": "2025-05-01T13:15:44.638248",
     "status": "completed"
    },
    "tags": []
   },
   "source": [
    "# Ensembling with Ridge"
   ]
  },
  {
   "cell_type": "code",
   "execution_count": 22,
   "id": "6a12bcba",
   "metadata": {
    "_kg_hide-input": true,
    "execution": {
     "iopub.execute_input": "2025-05-01T13:15:44.689989Z",
     "iopub.status.busy": "2025-05-01T13:15:44.689666Z",
     "iopub.status.idle": "2025-05-01T13:15:44.697234Z",
     "shell.execute_reply": "2025-05-01T13:15:44.696188Z"
    },
    "papermill": {
     "duration": 0.02685,
     "end_time": "2025-05-01T13:15:44.698601",
     "exception": false,
     "start_time": "2025-05-01T13:15:44.671751",
     "status": "completed"
    },
    "tags": []
   },
   "outputs": [],
   "source": [
    "def plot_weights(weights, title):\n",
    "    sorted_indices = np.argsort(weights[0])[::-1]\n",
    "    sorted_coeffs = np.array(weights[0])[sorted_indices]\n",
    "    sorted_model_names = np.array(list(oof_preds.keys()))[sorted_indices]\n",
    "\n",
    "    plt.figure(figsize=(10, weights.shape[1] * 0.5))\n",
    "    ax = sns.barplot(x=sorted_coeffs, y=sorted_model_names, palette=\"RdYlGn_r\")\n",
    "\n",
    "    for i, (value, name) in enumerate(zip(sorted_coeffs, sorted_model_names)):\n",
    "        if value >= 0:\n",
    "            ax.text(value, i, f\"{value:.3f}\", va=\"center\", ha=\"left\", color=\"black\")\n",
    "        else:\n",
    "            ax.text(value, i, f\"{value:.3f}\", va=\"center\", ha=\"right\", color=\"black\")\n",
    "\n",
    "    xlim = ax.get_xlim()\n",
    "    ax.set_xlim(xlim[0] - 0.1 * abs(xlim[0]), xlim[1] + 0.1 * abs(xlim[1]))\n",
    "\n",
    "    plt.title(title)\n",
    "    plt.xlabel(\"\")\n",
    "    plt.ylabel(\"\")\n",
    "    plt.tight_layout()\n",
    "    plt.show()"
   ]
  },
  {
   "cell_type": "code",
   "execution_count": 23,
   "id": "824a0a94",
   "metadata": {
    "execution": {
     "iopub.execute_input": "2025-05-01T13:15:44.733577Z",
     "iopub.status.busy": "2025-05-01T13:15:44.733296Z",
     "iopub.status.idle": "2025-05-01T13:15:44.750142Z",
     "shell.execute_reply": "2025-05-01T13:15:44.749418Z"
    },
    "papermill": {
     "duration": 0.035955,
     "end_time": "2025-05-01T13:15:44.751600",
     "exception": false,
     "start_time": "2025-05-01T13:15:44.715645",
     "status": "completed"
    },
    "tags": []
   },
   "outputs": [],
   "source": [
    "X = pd.DataFrame(oof_preds)\n",
    "X_test = pd.DataFrame(test_preds)"
   ]
  },
  {
   "cell_type": "code",
   "execution_count": 24,
   "id": "b5606b46",
   "metadata": {
    "_kg_hide-output": true,
    "execution": {
     "iopub.execute_input": "2025-05-01T13:15:44.787337Z",
     "iopub.status.busy": "2025-05-01T13:15:44.786672Z",
     "iopub.status.idle": "2025-05-01T13:32:25.195330Z",
     "shell.execute_reply": "2025-05-01T13:32:25.194447Z"
    },
    "papermill": {
     "duration": 1000.427897,
     "end_time": "2025-05-01T13:32:25.197043",
     "exception": false,
     "start_time": "2025-05-01T13:15:44.769146",
     "status": "completed"
    },
    "scrolled": true,
    "tags": []
   },
   "outputs": [
    {
     "name": "stderr",
     "output_type": "stream",
     "text": [
      "[I 2025-05-01 13:15:44,791] A new study created in memory with name: no-name-bcbcb060-cb71-4932-b77c-18a92ed22c53\n",
      "[I 2025-05-01 13:15:59,288] Trial 2 finished with value: 0.05918298842075524 and parameters: {'alpha': 7.443693911128796, 'tol': 0.00021862824622211925}. Best is trial 2 with value: 0.05918298842075524.\n",
      "[I 2025-05-01 13:16:00,059] Trial 3 finished with value: 0.05918173210339185 and parameters: {'alpha': 0.5163325181237877, 'tol': 0.0026669512718341917}. Best is trial 3 with value: 0.05918173210339185.\n",
      "[I 2025-05-01 13:16:00,092] Trial 1 finished with value: 0.05918198339831491 and parameters: {'alpha': 5.040524602846354, 'tol': 0.0011045408663317485}. Best is trial 3 with value: 0.05918173210339185.\n",
      "[I 2025-05-01 13:16:00,099] Trial 0 finished with value: 0.059183999621653154 and parameters: {'alpha': 9.185900981325869, 'tol': 0.0006574968618824316}. Best is trial 3 with value: 0.05918173210339185.\n",
      "[I 2025-05-01 13:16:14,525] Trial 6 finished with value: 0.05918203635816353 and parameters: {'alpha': 5.206679109596201, 'tol': 0.0020468414306850204}. Best is trial 3 with value: 0.05918173210339185.\n",
      "[I 2025-05-01 13:16:14,527] Trial 7 finished with value: 0.059181583559436826 and parameters: {'alpha': 1.3398725430627223, 'tol': 0.00838853943692356}. Best is trial 7 with value: 0.059181583559436826.\n",
      "[I 2025-05-01 13:16:14,532] Trial 4 finished with value: 0.05918177681808871 and parameters: {'alpha': 0.3407535005700202, 'tol': 0.0070172745842643726}. Best is trial 7 with value: 0.059181583559436826.\n",
      "[I 2025-05-01 13:16:14,537] Trial 5 finished with value: 0.059182121237003685 and parameters: {'alpha': 5.457434179492174, 'tol': 0.005550371016698203}. Best is trial 7 with value: 0.059181583559436826.\n",
      "[I 2025-05-01 13:16:29,016] Trial 11 finished with value: 0.05918336479149991 and parameters: {'alpha': 8.13632423762431, 'tol': 0.0017895466622659668}. Best is trial 7 with value: 0.059181583559436826.\n",
      "[I 2025-05-01 13:16:29,042] Trial 10 finished with value: 0.059181754866071766 and parameters: {'alpha': 4.189295033206531, 'tol': 0.00764260548382647}. Best is trial 7 with value: 0.059181583559436826.\n",
      "[I 2025-05-01 13:16:29,859] Trial 8 finished with value: 0.05918273224710842 and parameters: {'alpha': 6.928840971157898, 'tol': 0.003722279196734514}. Best is trial 7 with value: 0.059181583559436826.\n",
      "[I 2025-05-01 13:16:29,861] Trial 9 finished with value: 0.059181531524824346 and parameters: {'alpha': 2.065486780499773, 'tol': 0.002101002694022191}. Best is trial 9 with value: 0.059181531524824346.\n",
      "[I 2025-05-01 13:16:44,036] Trial 12 finished with value: 0.059182074539944236 and parameters: {'alpha': 5.321643617308979, 'tol': 0.0015672582619134508}. Best is trial 9 with value: 0.059181531524824346.\n",
      "[I 2025-05-01 13:16:46,405] Trial 13 finished with value: 0.05918345705711177 and parameters: {'alpha': 8.296964752793803, 'tol': 0.009262665633389651}. Best is trial 9 with value: 0.059181531524824346.\n",
      "[I 2025-05-01 13:16:46,408] Trial 14 finished with value: 0.05918380551081525 and parameters: {'alpha': 8.877685321261565, 'tol': 0.009038902912679208}. Best is trial 9 with value: 0.059181531524824346.\n",
      "[I 2025-05-01 13:16:46,414] Trial 15 finished with value: 0.059181618176062704 and parameters: {'alpha': 1.0904108168005933, 'tol': 0.009857702759808028}. Best is trial 9 with value: 0.059181531524824346.\n",
      "[I 2025-05-01 13:17:00,584] Trial 16 finished with value: 0.059181532393037896 and parameters: {'alpha': 2.031616046436564, 'tol': 0.009007106466994881}. Best is trial 9 with value: 0.059181531524824346.\n",
      "[I 2025-05-01 13:17:01,482] Trial 19 finished with value: 0.05918155926023224 and parameters: {'alpha': 1.5709197935872354, 'tol': 0.0005627225580066408}. Best is trial 9 with value: 0.059181531524824346.\n",
      "[I 2025-05-01 13:17:03,158] Trial 18 finished with value: 0.0591815374165569 and parameters: {'alpha': 1.8950193864449634, 'tol': 0.009255759377380324}. Best is trial 9 with value: 0.059181531524824346.\n",
      "[I 2025-05-01 13:17:03,174] Trial 17 finished with value: 0.05918156322344081 and parameters: {'alpha': 2.9850793577740653, 'tol': 0.009266964102003549}. Best is trial 9 with value: 0.059181531524824346.\n",
      "[I 2025-05-01 13:17:16,553] Trial 20 finished with value: 0.05918154092431211 and parameters: {'alpha': 1.8253757632796863, 'tol': 0.005080892851864337}. Best is trial 9 with value: 0.059181531524824346.\n",
      "[I 2025-05-01 13:17:18,193] Trial 21 finished with value: 0.05918156180715152 and parameters: {'alpha': 2.9692873614825133, 'tol': 0.0044631886931531545}. Best is trial 9 with value: 0.059181531524824346.\n",
      "[I 2025-05-01 13:17:19,069] Trial 23 finished with value: 0.05918154187001568 and parameters: {'alpha': 2.693265349731236, 'tol': 0.0025721330355278384}. Best is trial 9 with value: 0.059181531524824346.\n",
      "[I 2025-05-01 13:17:20,703] Trial 22 finished with value: 0.059181790958288676 and parameters: {'alpha': 4.344143550308786, 'tol': 0.00914893068364649}. Best is trial 9 with value: 0.059181531524824346.\n",
      "[I 2025-05-01 13:17:33,189] Trial 24 finished with value: 0.05918170436417289 and parameters: {'alpha': 3.9515285449395554, 'tol': 0.009849179274888355}. Best is trial 9 with value: 0.059181531524824346.\n",
      "[I 2025-05-01 13:17:34,854] Trial 25 finished with value: 0.05918162079365343 and parameters: {'alpha': 3.4695083495835943, 'tol': 0.009581843328016797}. Best is trial 9 with value: 0.059181531524824346.\n",
      "[I 2025-05-01 13:17:35,757] Trial 26 finished with value: 0.05918155410568204 and parameters: {'alpha': 2.876772345738979, 'tol': 0.008421337329312691}. Best is trial 9 with value: 0.059181531524824346.\n",
      "[I 2025-05-01 13:17:37,441] Trial 27 finished with value: 0.05918153550866163 and parameters: {'alpha': 2.5588628435643965, 'tol': 0.007484708896702344}. Best is trial 9 with value: 0.059181531524824346.\n",
      "[I 2025-05-01 13:17:48,258] Trial 28 finished with value: 0.05918153227445103 and parameters: {'alpha': 2.035919418796618, 'tol': 0.006848979557104153}. Best is trial 9 with value: 0.059181531524824346.\n",
      "[I 2025-05-01 13:17:49,939] Trial 29 finished with value: 0.05918153951961588 and parameters: {'alpha': 1.8517624338189267, 'tol': 0.007318346270354828}. Best is trial 9 with value: 0.059181531524824346.\n",
      "[I 2025-05-01 13:17:51,619] Trial 30 finished with value: 0.059181789811943886 and parameters: {'alpha': 0.29296140217140443, 'tol': 0.009769543132926332}. Best is trial 9 with value: 0.059181531524824346.\n",
      "[I 2025-05-01 13:17:52,549] Trial 31 finished with value: 0.05918156314744427 and parameters: {'alpha': 2.9842402630692675, 'tol': 0.0061459377219845075}. Best is trial 9 with value: 0.059181531524824346.\n",
      "[I 2025-05-01 13:18:04,973] Trial 32 finished with value: 0.05918185163877539 and parameters: {'alpha': 0.08135186957178897, 'tol': 0.005349392767297028}. Best is trial 9 with value: 0.059181531524824346.\n",
      "[I 2025-05-01 13:18:06,623] Trial 33 finished with value: 0.05918185922576179 and parameters: {'alpha': 0.056942120469752666, 'tol': 0.004787792555881283}. Best is trial 9 with value: 0.059181531524824346.\n",
      "[I 2025-05-01 13:18:07,519] Trial 34 finished with value: 0.05918158203436186 and parameters: {'alpha': 3.170369739368029, 'tol': 0.006389468659338463}. Best is trial 9 with value: 0.059181531524824346.\n",
      "[I 2025-05-01 13:18:09,933] Trial 35 finished with value: 0.059181529535397244 and parameters: {'alpha': 2.201149914321461, 'tol': 0.006324628973326609}. Best is trial 35 with value: 0.059181529535397244.\n",
      "[I 2025-05-01 13:18:21,264] Trial 36 finished with value: 0.05918154420675338 and parameters: {'alpha': 2.733545850391736, 'tol': 0.006815377054500353}. Best is trial 35 with value: 0.059181529535397244.\n",
      "[I 2025-05-01 13:18:22,938] Trial 37 finished with value: 0.05918169660899418 and parameters: {'alpha': 3.912281984429258, 'tol': 0.006912451924716461}. Best is trial 35 with value: 0.059181529535397244.\n",
      "[I 2025-05-01 13:18:23,806] Trial 38 finished with value: 0.05918153032781228 and parameters: {'alpha': 2.368663683828409, 'tol': 0.001637694448838286}. Best is trial 35 with value: 0.059181529535397244.\n",
      "[I 2025-05-01 13:18:25,431] Trial 39 finished with value: 0.059181533578047354 and parameters: {'alpha': 1.9926114085174647, 'tol': 0.0025126717883803096}. Best is trial 35 with value: 0.059181529535397244.\n",
      "[I 2025-05-01 13:18:37,077] Trial 40 finished with value: 0.059181547804076105 and parameters: {'alpha': 2.7898658616048735, 'tol': 0.0015454204026726943}. Best is trial 35 with value: 0.059181529535397244.\n",
      "[I 2025-05-01 13:18:38,748] Trial 41 finished with value: 0.05918173466018938 and parameters: {'alpha': 4.09751399451938, 'tol': 0.004330933017372188}. Best is trial 35 with value: 0.059181529535397244.\n",
      "[I 2025-05-01 13:18:39,633] Trial 42 finished with value: 0.059181533723078425 and parameters: {'alpha': 2.509256078230135, 'tol': 0.0019683719638615396}. Best is trial 35 with value: 0.059181529535397244.\n",
      "[I 2025-05-01 13:18:42,108] Trial 43 finished with value: 0.05918161273073625 and parameters: {'alpha': 3.413295749663395, 'tol': 0.0003085665200136215}. Best is trial 35 with value: 0.059181529535397244.\n",
      "[I 2025-05-01 13:18:53,589] Trial 44 finished with value: 0.05918170887029927 and parameters: {'alpha': 0.6157411946000628, 'tol': 0.0023099694805157225}. Best is trial 35 with value: 0.059181529535397244.\n",
      "[I 2025-05-01 13:18:54,470] Trial 45 finished with value: 0.05918153606126332 and parameters: {'alpha': 1.926025157134689, 'tol': 0.0015039553256323906}. Best is trial 35 with value: 0.059181529535397244.\n",
      "[I 2025-05-01 13:18:56,108] Trial 46 finished with value: 0.05918327438938346 and parameters: {'alpha': 7.975724774144242, 'tol': 0.005864727773200989}. Best is trial 35 with value: 0.059181529535397244.\n",
      "[I 2025-05-01 13:18:58,551] Trial 47 finished with value: 0.059181815456177025 and parameters: {'alpha': 0.20224079378056437, 'tol': 0.002016681311796502}. Best is trial 35 with value: 0.059181529535397244.\n",
      "[I 2025-05-01 13:19:08,549] Trial 48 finished with value: 0.059181577845822536 and parameters: {'alpha': 1.3883735328929876, 'tol': 0.007801307573458022}. Best is trial 35 with value: 0.059181529535397244.\n",
      "[I 2025-05-01 13:19:09,442] Trial 49 finished with value: 0.05918155499313199 and parameters: {'alpha': 1.6205994012977034, 'tol': 0.006692400294511826}. Best is trial 35 with value: 0.059181529535397244.\n",
      "[I 2025-05-01 13:19:11,887] Trial 50 finished with value: 0.05918154432475323 and parameters: {'alpha': 1.767584370678364, 'tol': 0.0066706636996971035}. Best is trial 35 with value: 0.059181529535397244.\n",
      "[I 2025-05-01 13:19:12,779] Trial 51 finished with value: 0.059181687558043775 and parameters: {'alpha': 0.7130984816578034, 'tol': 0.006457889260958926}. Best is trial 35 with value: 0.059181529535397244.\n",
      "[I 2025-05-01 13:19:25,125] Trial 52 finished with value: 0.05918153573375212 and parameters: {'alpha': 2.5645732995884396, 'tol': 0.003871023520581966}. Best is trial 35 with value: 0.059181529535397244.\n",
      "[I 2025-05-01 13:19:26,800] Trial 53 finished with value: 0.05918166290871986 and parameters: {'alpha': 3.730731947360423, 'tol': 0.0027373413443698125}. Best is trial 35 with value: 0.059181529535397244.\n",
      "[I 2025-05-01 13:19:27,725] Trial 54 finished with value: 0.059181532218044695 and parameters: {'alpha': 2.4587115927978864, 'tol': 0.0028963909078863616}. Best is trial 35 with value: 0.059181529535397244.\n",
      "[I 2025-05-01 13:19:29,416] Trial 55 finished with value: 0.05918157023585531 and parameters: {'alpha': 3.058910218281693, 'tol': 0.003478612226439822}. Best is trial 35 with value: 0.059181529535397244.\n",
      "[I 2025-05-01 13:19:40,853] Trial 56 finished with value: 0.05918153542872438 and parameters: {'alpha': 2.556809886004512, 'tol': 0.002606873581449834}. Best is trial 35 with value: 0.059181529535397244.\n",
      "[I 2025-05-01 13:19:41,718] Trial 57 finished with value: 0.05918154460069422 and parameters: {'alpha': 2.7400194796370116, 'tol': 0.0029410812679559134}. Best is trial 35 with value: 0.059181529535397244.\n",
      "[I 2025-05-01 13:19:44,195] Trial 58 finished with value: 0.05918168953037273 and parameters: {'alpha': 3.8757015206948964, 'tol': 0.0026138910215579695}. Best is trial 35 with value: 0.059181529535397244.\n",
      "[I 2025-05-01 13:19:45,861] Trial 59 finished with value: 0.05918154960702073 and parameters: {'alpha': 1.6898078210582899, 'tol': 0.002679959282599159}. Best is trial 35 with value: 0.059181529535397244.\n",
      "[I 2025-05-01 13:19:56,501] Trial 60 finished with value: 0.059181535193238544 and parameters: {'alpha': 1.9475917778997918, 'tol': 0.0001591240166685763}. Best is trial 35 with value: 0.059181529535397244.\n",
      "[I 2025-05-01 13:19:58,125] Trial 61 finished with value: 0.05918154503405735 and parameters: {'alpha': 1.7564049015408534, 'tol': 0.0008745982141762487}. Best is trial 35 with value: 0.059181529535397244.\n",
      "[I 2025-05-01 13:19:59,012] Trial 62 finished with value: 0.05918153668930151 and parameters: {'alpha': 1.9112955319317644, 'tol': 0.0006125304448732884}. Best is trial 35 with value: 0.059181529535397244.\n",
      "[I 2025-05-01 13:20:01,426] Trial 63 finished with value: 0.059184126231246595 and parameters: {'alpha': 9.381868329889002, 'tol': 0.004261460919898828}. Best is trial 35 with value: 0.059181529535397244.\n",
      "[I 2025-05-01 13:20:12,847] Trial 64 finished with value: 0.05918161724737635 and parameters: {'alpha': 1.0963613979222593, 'tol': 0.0028534272316803333}. Best is trial 35 with value: 0.059181529535397244.\n",
      "[I 2025-05-01 13:20:14,456] Trial 65 finished with value: 0.05918431364686701 and parameters: {'alpha': 9.665329806790592, 'tol': 0.004143572482180839}. Best is trial 35 with value: 0.059181529535397244.\n",
      "[I 2025-05-01 13:20:15,340] Trial 66 finished with value: 0.05918158227928028 and parameters: {'alpha': 1.350501108322089, 'tol': 0.003868679116419332}. Best is trial 35 with value: 0.059181529535397244.\n",
      "[I 2025-05-01 13:20:16,974] Trial 67 finished with value: 0.059181647046969925 and parameters: {'alpha': 0.9193956324811232, 'tol': 0.003075539706238922}. Best is trial 35 with value: 0.059181529535397244.\n",
      "[I 2025-05-01 13:20:28,251] Trial 68 finished with value: 0.05918156127584948 and parameters: {'alpha': 1.5487197822232623, 'tol': 0.0037894445843010176}. Best is trial 35 with value: 0.059181529535397244.\n",
      "[I 2025-05-01 13:20:29,871] Trial 69 finished with value: 0.05918154524345327 and parameters: {'alpha': 1.753154082035251, 'tol': 0.004923483045361503}. Best is trial 35 with value: 0.059181529535397244.\n",
      "[I 2025-05-01 13:20:32,291] Trial 70 finished with value: 0.05918358064188586 and parameters: {'alpha': 8.50736969195853, 'tol': 1.4956167875891137e-05}. Best is trial 35 with value: 0.059181529535397244.\n",
      "[I 2025-05-01 13:20:33,915] Trial 71 finished with value: 0.05918153143821401 and parameters: {'alpha': 2.42707735077613, 'tol': 0.008883312445390012}. Best is trial 35 with value: 0.059181529535397244.\n",
      "[I 2025-05-01 13:20:44,375] Trial 72 finished with value: 0.05918153668190849 and parameters: {'alpha': 1.911465102287897, 'tol': 0.009530413380225807}. Best is trial 35 with value: 0.059181529535397244.\n",
      "[I 2025-05-01 13:20:46,754] Trial 73 finished with value: 0.05918156145867958 and parameters: {'alpha': 1.5467420857492766, 'tol': 0.008515730802903177}. Best is trial 35 with value: 0.059181529535397244.\n",
      "[I 2025-05-01 13:20:48,396] Trial 74 finished with value: 0.05918153233598036 and parameters: {'alpha': 2.0336756708127304, 'tol': 0.002248307113529}. Best is trial 35 with value: 0.059181529535397244.\n",
      "[I 2025-05-01 13:20:49,242] Trial 75 finished with value: 0.059181537687305524 and parameters: {'alpha': 1.8891519462296422, 'tol': 0.009337913483935022}. Best is trial 35 with value: 0.059181529535397244.\n",
      "[I 2025-05-01 13:21:00,478] Trial 76 finished with value: 0.05918152940412294 and parameters: {'alpha': 2.257746671141554, 'tol': 0.008678597385677795}. Best is trial 76 with value: 0.05918152940412294.\n",
      "[I 2025-05-01 13:21:02,142] Trial 77 finished with value: 0.05918153584787848 and parameters: {'alpha': 2.5674302919182503, 'tol': 0.008386474905269609}. Best is trial 76 with value: 0.05918152940412294.\n",
      "[I 2025-05-01 13:21:04,536] Trial 78 finished with value: 0.05918156179821848 and parameters: {'alpha': 2.969186695215586, 'tol': 0.009677042138298796}. Best is trial 76 with value: 0.05918152940412294.\n",
      "[I 2025-05-01 13:21:06,181] Trial 79 finished with value: 0.05918158126754574 and parameters: {'alpha': 3.1635206048385824, 'tol': 0.008354131140637143}. Best is trial 76 with value: 0.05918152940412294.\n",
      "[I 2025-05-01 13:21:16,653] Trial 80 finished with value: 0.059181554457268776 and parameters: {'alpha': 2.8812800976456274, 'tol': 0.008212537289647432}. Best is trial 76 with value: 0.05918152940412294.\n",
      "[I 2025-05-01 13:21:18,248] Trial 81 finished with value: 0.059181707102586543 and parameters: {'alpha': 3.9651899395283183, 'tol': 0.007910159694338064}. Best is trial 76 with value: 0.05918152940412294.\n",
      "[I 2025-05-01 13:21:19,112] Trial 82 finished with value: 0.05918219771494627 and parameters: {'alpha': 5.669876977506, 'tol': 0.007573057802751122}. Best is trial 76 with value: 0.05918152940412294.\n",
      "[I 2025-05-01 13:21:20,726] Trial 83 finished with value: 0.05918183895001982 and parameters: {'alpha': 4.535374741238553, 'tol': 0.00722144415736916}. Best is trial 76 with value: 0.05918152940412294.\n",
      "[I 2025-05-01 13:21:32,779] Trial 84 finished with value: 0.05918175146354628 and parameters: {'alpha': 0.4380185441633677, 'tol': 0.008715612043319223}. Best is trial 76 with value: 0.05918152940412294.\n",
      "[I 2025-05-01 13:21:34,395] Trial 85 finished with value: 0.05918165392175401 and parameters: {'alpha': 0.8820224601056288, 'tol': 0.008127794375422501}. Best is trial 76 with value: 0.05918152940412294.\n",
      "[I 2025-05-01 13:21:36,008] Trial 86 finished with value: 0.05918166411563099 and parameters: {'alpha': 0.8285407333420336, 'tol': 0.00778712041484498}. Best is trial 76 with value: 0.05918152940412294.\n",
      "[I 2025-05-01 13:21:37,627] Trial 87 finished with value: 0.05918177506293643 and parameters: {'alpha': 4.277262088026777, 'tol': 0.0012386352451716361}. Best is trial 76 with value: 0.05918152940412294.\n",
      "[I 2025-05-01 13:21:48,154] Trial 88 finished with value: 0.05918153038222821 and parameters: {'alpha': 2.1235823520491954, 'tol': 0.0070765934640855295}. Best is trial 76 with value: 0.05918152940412294.\n",
      "[I 2025-05-01 13:21:49,799] Trial 89 finished with value: 0.05918172040817596 and parameters: {'alpha': 4.030200875100031, 'tol': 0.0017998890551759665}. Best is trial 76 with value: 0.05918152940412294.\n",
      "[I 2025-05-01 13:21:50,664] Trial 90 finished with value: 0.05918182807285668 and parameters: {'alpha': 4.493311726842581, 'tol': 0.0011313157565574826}. Best is trial 76 with value: 0.05918152940412294.\n",
      "[I 2025-05-01 13:21:52,334] Trial 91 finished with value: 0.059181619114626806 and parameters: {'alpha': 3.458005321591494, 'tol': 0.006326378116050143}. Best is trial 76 with value: 0.05918152940412294.\n",
      "[I 2025-05-01 13:22:04,572] Trial 92 finished with value: 0.05918153172521635 and parameters: {'alpha': 2.43932178521451, 'tol': 0.005277370350265211}. Best is trial 76 with value: 0.05918152940412294.\n",
      "[I 2025-05-01 13:22:06,234] Trial 93 finished with value: 0.059181554845150044 and parameters: {'alpha': 2.8862174393688216, 'tol': 0.006222859525492375}. Best is trial 76 with value: 0.05918152940412294.\n",
      "[I 2025-05-01 13:22:07,089] Trial 94 finished with value: 0.059181536534758494 and parameters: {'alpha': 1.9148585912954434, 'tol': 0.006418452442230565}. Best is trial 76 with value: 0.05918152940412294.\n",
      "[I 2025-05-01 13:22:08,755] Trial 95 finished with value: 0.05918154290274151 and parameters: {'alpha': 2.7114889095561865, 'tol': 0.006732771591129536}. Best is trial 76 with value: 0.05918152940412294.\n",
      "[I 2025-05-01 13:22:20,988] Trial 96 finished with value: 0.05918158496041626 and parameters: {'alpha': 3.196070996048784, 'tol': 0.006621526821798226}. Best is trial 76 with value: 0.05918152940412294.\n",
      "[I 2025-05-01 13:22:22,654] Trial 97 finished with value: 0.05918160221642872 and parameters: {'alpha': 3.3359001718779786, 'tol': 0.005309379438293888}. Best is trial 76 with value: 0.05918152940412294.\n",
      "[I 2025-05-01 13:22:23,539] Trial 98 finished with value: 0.05918154158250228 and parameters: {'alpha': 1.8135746966973176, 'tol': 0.005403276170688396}. Best is trial 76 with value: 0.05918152940412294.\n",
      "[I 2025-05-01 13:22:25,165] Trial 99 finished with value: 0.05918158651769341 and parameters: {'alpha': 3.209482291441201, 'tol': 0.0046423120763497425}. Best is trial 76 with value: 0.05918152940412294.\n",
      "[I 2025-05-01 13:22:37,420] Trial 100 finished with value: 0.05918155186230566 and parameters: {'alpha': 2.8472374888528855, 'tol': 0.005020269872547268}. Best is trial 76 with value: 0.05918152940412294.\n",
      "[I 2025-05-01 13:22:39,060] Trial 101 finished with value: 0.05918164788314462 and parameters: {'alpha': 0.9147900423748911, 'tol': 0.006196220095449282}. Best is trial 76 with value: 0.05918152940412294.\n",
      "[I 2025-05-01 13:22:39,957] Trial 102 finished with value: 0.05918153359336511 and parameters: {'alpha': 1.9921466622368094, 'tol': 0.0019646974316847306}. Best is trial 76 with value: 0.05918152940412294.\n",
      "[I 2025-05-01 13:22:41,591] Trial 103 finished with value: 0.05918153483867742 and parameters: {'alpha': 1.9568682823592307, 'tol': 0.0019957003450196084}. Best is trial 76 with value: 0.05918152940412294.\n",
      "[I 2025-05-01 13:22:52,917] Trial 104 finished with value: 0.0591815296598594 and parameters: {'alpha': 2.1835349705889775, 'tol': 0.0018354727846364893}. Best is trial 76 with value: 0.05918152940412294.\n",
      "[I 2025-05-01 13:22:54,550] Trial 105 finished with value: 0.05918154621783716 and parameters: {'alpha': 2.7657674037748663, 'tol': 0.007955653035428714}. Best is trial 76 with value: 0.05918152940412294.\n",
      "[I 2025-05-01 13:22:57,802] Trial 106 finished with value: 0.059181549053751996 and parameters: {'alpha': 2.8081408902804923, 'tol': 0.007845400774322893}. Best is trial 76 with value: 0.05918152940412294.\n",
      "[I 2025-05-01 13:22:59,438] Trial 107 finished with value: 0.0591815298130466 and parameters: {'alpha': 2.3284569352201783, 'tol': 0.007839818448641914}. Best is trial 76 with value: 0.05918152940412294.\n",
      "[I 2025-05-01 13:23:08,320] Trial 108 finished with value: 0.05918157099577044 and parameters: {'alpha': 3.0665264034466997, 'tol': 0.002715417913691331}. Best is trial 76 with value: 0.05918152940412294.\n",
      "[I 2025-05-01 13:23:09,951] Trial 109 finished with value: 0.05918153540944079 and parameters: {'alpha': 2.5563126392278632, 'tol': 0.0015028241927478795}. Best is trial 76 with value: 0.05918152940412294.\n",
      "[I 2025-05-01 13:23:14,108] Trial 110 finished with value: 0.05918451500061196 and parameters: {'alpha': 9.961887237230012, 'tol': 0.007790591493938567}. Best is trial 76 with value: 0.05918152940412294.\n",
      "[I 2025-05-01 13:23:15,807] Trial 111 finished with value: 0.059181529734253766 and parameters: {'alpha': 2.175024269091956, 'tol': 0.00784115594997548}. Best is trial 76 with value: 0.05918152940412294.\n",
      "[I 2025-05-01 13:23:24,830] Trial 112 finished with value: 0.05918154627916156 and parameters: {'alpha': 1.7373870009560206, 'tol': 0.006702201236169049}. Best is trial 76 with value: 0.05918152940412294.\n",
      "[I 2025-05-01 13:23:25,710] Trial 113 finished with value: 0.05918256274297404 and parameters: {'alpha': 6.5622318662177435, 'tol': 0.002938376135038787}. Best is trial 76 with value: 0.05918152940412294.\n",
      "[I 2025-05-01 13:23:29,808] Trial 114 finished with value: 0.059181612095321266 and parameters: {'alpha': 1.1299833556290149, 'tol': 0.0013174577825665725}. Best is trial 76 with value: 0.05918152940412294.\n",
      "[I 2025-05-01 13:23:30,681] Trial 115 finished with value: 0.05918153506962559 and parameters: {'alpha': 1.9507924928054219, 'tol': 0.007055570207152109}. Best is trial 76 with value: 0.05918152940412294.\n",
      "[I 2025-05-01 13:23:41,193] Trial 116 finished with value: 0.05918157239359543 and parameters: {'alpha': 1.4374848597368652, 'tol': 0.007765304973588754}. Best is trial 76 with value: 0.05918152940412294.\n",
      "[I 2025-05-01 13:23:42,893] Trial 117 finished with value: 0.059181561393140195 and parameters: {'alpha': 1.5474503685596475, 'tol': 0.007278247225108812}. Best is trial 76 with value: 0.05918152940412294.\n",
      "[I 2025-05-01 13:23:45,412] Trial 118 finished with value: 0.05918156508184153 and parameters: {'alpha': 1.5086792515778429, 'tol': 0.007207599703800936}. Best is trial 76 with value: 0.05918152940412294.\n",
      "[I 2025-05-01 13:23:47,844] Trial 119 finished with value: 0.05918152957644544 and parameters: {'alpha': 2.3006330568097213, 'tol': 0.008057324971091245}. Best is trial 76 with value: 0.05918152940412294.\n",
      "[I 2025-05-01 13:23:57,628] Trial 120 finished with value: 0.05918153287347561 and parameters: {'alpha': 2.48205073570786, 'tol': 0.007879298362918893}. Best is trial 76 with value: 0.05918152940412294.\n",
      "[I 2025-05-01 13:23:59,254] Trial 121 finished with value: 0.059181531182111384 and parameters: {'alpha': 2.415405710961636, 'tol': 0.008904779568910845}. Best is trial 76 with value: 0.05918152940412294.\n",
      "[I 2025-05-01 13:24:01,738] Trial 122 finished with value: 0.0591815301824829 and parameters: {'alpha': 2.3587881613563826, 'tol': 0.008629762028158556}. Best is trial 76 with value: 0.05918152940412294.\n",
      "[I 2025-05-01 13:24:03,383] Trial 123 finished with value: 0.059181563352157684 and parameters: {'alpha': 2.9864984571555344, 'tol': 0.00967220489559966}. Best is trial 76 with value: 0.05918152940412294.\n",
      "[I 2025-05-01 13:24:13,926] Trial 124 finished with value: 0.05918153646768882 and parameters: {'alpha': 2.5825277205739505, 'tol': 0.0086953113097407}. Best is trial 76 with value: 0.05918152940412294.\n",
      "[I 2025-05-01 13:24:15,600] Trial 125 finished with value: 0.05918154493055344 and parameters: {'alpha': 2.745376859904732, 'tol': 0.009195082273868675}. Best is trial 76 with value: 0.05918152940412294.\n",
      "[I 2025-05-01 13:24:18,070] Trial 126 finished with value: 0.059181537511155236 and parameters: {'alpha': 2.60653558970976, 'tol': 0.009424304797895702}. Best is trial 76 with value: 0.05918152940412294.\n",
      "[I 2025-05-01 13:24:19,670] Trial 127 finished with value: 0.05918152941870983 and parameters: {'alpha': 2.2294110689558493, 'tol': 0.009267914662526673}. Best is trial 76 with value: 0.05918152940412294.\n",
      "[I 2025-05-01 13:24:29,351] Trial 128 finished with value: 0.05918153994782393 and parameters: {'alpha': 2.6572432297006334, 'tol': 0.008547723431926045}. Best is trial 76 with value: 0.05918152940412294.\n",
      "[I 2025-05-01 13:24:31,727] Trial 129 finished with value: 0.05918154705441884 and parameters: {'alpha': 1.725904499516044, 'tol': 0.009870343340276418}. Best is trial 76 with value: 0.05918152940412294.\n",
      "[I 2025-05-01 13:24:33,433] Trial 130 finished with value: 0.0591815895064073 and parameters: {'alpha': 1.2921169364917353, 'tol': 0.00954066845047774}. Best is trial 76 with value: 0.05918152940412294.\n",
      "[I 2025-05-01 13:24:35,853] Trial 131 finished with value: 0.05918165438899786 and parameters: {'alpha': 0.8795220297892652, 'tol': 0.009516573509397552}. Best is trial 76 with value: 0.05918152940412294.\n",
      "[I 2025-05-01 13:24:45,672] Trial 132 finished with value: 0.05918158419682665 and parameters: {'alpha': 1.3346288494521943, 'tol': 0.008887423493285623}. Best is trial 76 with value: 0.05918152940412294.\n",
      "[I 2025-05-01 13:24:47,312] Trial 133 finished with value: 0.05918200771803739 and parameters: {'alpha': 5.117857013319405, 'tol': 0.009833358378057737}. Best is trial 76 with value: 0.05918152940412294.\n",
      "[I 2025-05-01 13:24:49,771] Trial 134 finished with value: 0.05918158117540069 and parameters: {'alpha': 3.162694277902014, 'tol': 0.007963225469586924}. Best is trial 76 with value: 0.05918152940412294.\n",
      "[I 2025-05-01 13:24:51,466] Trial 135 finished with value: 0.05918152956561669 and parameters: {'alpha': 2.2990016596389595, 'tol': 0.008224092618067516}. Best is trial 76 with value: 0.05918152940412294.\n",
      "[I 2025-05-01 13:25:01,170] Trial 136 finished with value: 0.05918154665781497 and parameters: {'alpha': 2.7725595876630327, 'tol': 0.008289113117476921}. Best is trial 76 with value: 0.05918152940412294.\n",
      "[I 2025-05-01 13:25:02,858] Trial 137 finished with value: 0.05918158611307847 and parameters: {'alpha': 3.206014939240151, 'tol': 0.00809172258659327}. Best is trial 76 with value: 0.05918152940412294.\n",
      "[I 2025-05-01 13:25:06,189] Trial 138 finished with value: 0.05918161912437098 and parameters: {'alpha': 3.4580723757178076, 'tol': 0.008201962963772994}. Best is trial 76 with value: 0.05918152940412294.\n",
      "[I 2025-05-01 13:25:07,849] Trial 139 finished with value: 0.059181565558640875 and parameters: {'alpha': 3.010429230070025, 'tol': 0.007906881411248092}. Best is trial 76 with value: 0.05918152940412294.\n",
      "[I 2025-05-01 13:25:17,498] Trial 140 finished with value: 0.05918153418720631 and parameters: {'alpha': 1.9747463786441406, 'tol': 0.008436187150815325}. Best is trial 76 with value: 0.05918152940412294.\n",
      "[I 2025-05-01 13:25:19,126] Trial 141 finished with value: 0.059181530920435405 and parameters: {'alpha': 2.4025828443889417, 'tol': 0.0079351007690449}. Best is trial 76 with value: 0.05918152940412294.\n",
      "[I 2025-05-01 13:25:21,634] Trial 142 finished with value: 0.05918154980579319 and parameters: {'alpha': 1.6870971469423792, 'tol': 0.008195754406729872}. Best is trial 76 with value: 0.05918152940412294.\n",
      "[I 2025-05-01 13:25:24,063] Trial 143 finished with value: 0.059181529412873204 and parameters: {'alpha': 2.263106749174829, 'tol': 0.008355664234765142}. Best is trial 76 with value: 0.05918152940412294.\n",
      "[I 2025-05-01 13:25:33,030] Trial 144 finished with value: 0.059181529579219835 and parameters: {'alpha': 2.1942781719413373, 'tol': 0.00823491341564762}. Best is trial 76 with value: 0.05918152940412294.\n",
      "[I 2025-05-01 13:25:34,667] Trial 145 finished with value: 0.059181529453837846 and parameters: {'alpha': 2.2773364134472267, 'tol': 0.0083697689350749}. Best is trial 76 with value: 0.05918152940412294.\n",
      "[I 2025-05-01 13:25:38,687] Trial 146 finished with value: 0.05918153226982037 and parameters: {'alpha': 2.0360892405913082, 'tol': 0.007752718007040885}. Best is trial 76 with value: 0.05918152940412294.\n",
      "[I 2025-05-01 13:25:40,307] Trial 147 finished with value: 0.05918154702347515 and parameters: {'alpha': 1.7263578407749205, 'tol': 0.008088306324451983}. Best is trial 76 with value: 0.05918152940412294.\n",
      "[I 2025-05-01 13:25:50,076] Trial 148 finished with value: 0.05918153315717312 and parameters: {'alpha': 2.005734654537356, 'tol': 0.008465403146657832}. Best is trial 76 with value: 0.05918152940412294.\n",
      "[I 2025-05-01 13:25:50,969] Trial 149 finished with value: 0.059181581664986785 and parameters: {'alpha': 1.3556483780260429, 'tol': 0.008149901802689227}. Best is trial 76 with value: 0.05918152940412294.\n",
      "[I 2025-05-01 13:25:55,032] Trial 150 finished with value: 0.05918154723306502 and parameters: {'alpha': 1.7232951127308265, 'tol': 0.007374896050479497}. Best is trial 76 with value: 0.05918152940412294.\n",
      "[I 2025-05-01 13:25:55,959] Trial 151 finished with value: 0.059181560683259436 and parameters: {'alpha': 1.5551701030013265, 'tol': 0.00760884506757928}. Best is trial 76 with value: 0.05918152940412294.\n",
      "[I 2025-05-01 13:26:06,454] Trial 152 finished with value: 0.05918153044829817 and parameters: {'alpha': 2.119497456560582, 'tol': 0.00713600529744679}. Best is trial 76 with value: 0.05918152940412294.\n",
      "[I 2025-05-01 13:26:08,118] Trial 153 finished with value: 0.0591815354798135 and parameters: {'alpha': 2.558123498991529, 'tol': 0.007238955284958661}. Best is trial 76 with value: 0.05918152940412294.\n",
      "[I 2025-05-01 13:26:10,600] Trial 154 finished with value: 0.05918164031168881 and parameters: {'alpha': 3.596459479266171, 'tol': 0.008669858165859632}. Best is trial 76 with value: 0.05918152940412294.\n",
      "[I 2025-05-01 13:26:12,234] Trial 155 finished with value: 0.059181668662736914 and parameters: {'alpha': 3.7631515376662152, 'tol': 0.009261558909642451}. Best is trial 76 with value: 0.05918152940412294.\n",
      "[I 2025-05-01 13:26:22,821] Trial 156 finished with value: 0.059181531008679816 and parameters: {'alpha': 2.4070214609609195, 'tol': 0.007544408677182495}. Best is trial 76 with value: 0.05918152940412294.\n",
      "[I 2025-05-01 13:26:24,472] Trial 157 finished with value: 0.05918182890225997 and parameters: {'alpha': 4.496543809102099, 'tol': 0.008453207138880961}. Best is trial 76 with value: 0.05918152940412294.\n",
      "[I 2025-05-01 13:26:27,020] Trial 158 finished with value: 0.059181564325389506 and parameters: {'alpha': 2.9971444917681196, 'tol': 0.007291454065813107}. Best is trial 76 with value: 0.05918152940412294.\n",
      "[I 2025-05-01 13:26:28,631] Trial 159 finished with value: 0.05918155398568892 and parameters: {'alpha': 2.875226709415912, 'tol': 0.007452740216764875}. Best is trial 76 with value: 0.05918152940412294.\n",
      "[I 2025-05-01 13:26:39,108] Trial 160 finished with value: 0.059181649131393226 and parameters: {'alpha': 3.650290922186985, 'tol': 0.006827038825416259}. Best is trial 76 with value: 0.05918152940412294.\n",
      "[I 2025-05-01 13:26:40,738] Trial 161 finished with value: 0.05918159560923669 and parameters: {'alpha': 3.2844799258512936, 'tol': 0.007170265224658861}. Best is trial 76 with value: 0.05918152940412294.\n",
      "[I 2025-05-01 13:26:43,265] Trial 162 finished with value: 0.05918152989420706 and parameters: {'alpha': 2.3360124287714314, 'tol': 0.007294820207470458}. Best is trial 76 with value: 0.05918152940412294.\n",
      "[I 2025-05-01 13:26:44,896] Trial 163 finished with value: 0.05918169424732966 and parameters: {'alpha': 0.6818346907314423, 'tol': 0.0070970168876144145}. Best is trial 76 with value: 0.05918152940412294.\n",
      "[I 2025-05-01 13:26:55,479] Trial 164 finished with value: 0.059181727678265385 and parameters: {'alpha': 0.5347827074089901, 'tol': 0.007736218499742088}. Best is trial 76 with value: 0.05918152940412294.\n",
      "[I 2025-05-01 13:26:57,121] Trial 165 finished with value: 0.059181847400964126 and parameters: {'alpha': 0.09512076797251989, 'tol': 0.007436017251658487}. Best is trial 76 with value: 0.05918152940412294.\n",
      "[I 2025-05-01 13:27:00,471] Trial 166 finished with value: 0.05918172227513913 and parameters: {'alpha': 0.5576085603639065, 'tol': 0.007017890346614947}. Best is trial 76 with value: 0.05918152940412294.\n",
      "[I 2025-05-01 13:27:02,148] Trial 167 finished with value: 0.05918153185964358 and parameters: {'alpha': 2.444797971638096, 'tol': 0.006757283388236477}. Best is trial 76 with value: 0.05918152940412294.\n",
      "[I 2025-05-01 13:27:12,139] Trial 168 finished with value: 0.059181533911725016 and parameters: {'alpha': 1.982674282251248, 'tol': 0.006657468363624471}. Best is trial 76 with value: 0.05918152940412294.\n",
      "[I 2025-05-01 13:27:13,784] Trial 169 finished with value: 0.05918153278570122 and parameters: {'alpha': 2.0179476643995335, 'tol': 0.006910279779978824}. Best is trial 76 with value: 0.05918152940412294.\n",
      "[I 2025-05-01 13:27:16,310] Trial 170 finished with value: 0.0591815309206704 and parameters: {'alpha': 2.402594849398044, 'tol': 0.007290755780293655}. Best is trial 76 with value: 0.05918152940412294.\n",
      "[I 2025-05-01 13:27:17,945] Trial 171 finished with value: 0.05918153056136046 and parameters: {'alpha': 2.112795835891693, 'tol': 0.007945466906461156}. Best is trial 76 with value: 0.05918152940412294.\n",
      "[I 2025-05-01 13:27:28,720] Trial 172 finished with value: 0.05918154408419917 and parameters: {'alpha': 1.7714368656371509, 'tol': 0.008645799675632823}. Best is trial 76 with value: 0.05918152940412294.\n",
      "[I 2025-05-01 13:27:29,600] Trial 173 finished with value: 0.059181531696575085 and parameters: {'alpha': 2.0583000690524584, 'tol': 0.008282670768698487}. Best is trial 76 with value: 0.05918152940412294.\n",
      "[I 2025-05-01 13:27:33,782] Trial 174 finished with value: 0.05918152948329961 and parameters: {'alpha': 2.2843072455839715, 'tol': 0.008588387410239338}. Best is trial 76 with value: 0.05918152940412294.\n",
      "[I 2025-05-01 13:27:34,658] Trial 175 finished with value: 0.05918155463700741 and parameters: {'alpha': 1.624930806466938, 'tol': 0.00888241613492474}. Best is trial 76 with value: 0.05918152940412294.\n",
      "[I 2025-05-01 13:27:46,167] Trial 177 finished with value: 0.05918153345372168 and parameters: {'alpha': 2.5009435355998693, 'tol': 0.00911000300950746}. Best is trial 76 with value: 0.05918152940412294.\n",
      "[I 2025-05-01 13:27:46,184] Trial 176 finished with value: 0.059181538786816694 and parameters: {'alpha': 1.8662671512227866, 'tol': 0.008708551495606827}. Best is trial 76 with value: 0.05918152940412294.\n",
      "[I 2025-05-01 13:27:50,356] Trial 178 finished with value: 0.059181529616958405 and parameters: {'alpha': 2.3063369469540893, 'tol': 0.009201946043041625}. Best is trial 76 with value: 0.05918152940412294.\n",
      "[I 2025-05-01 13:27:51,277] Trial 179 finished with value: 0.059181550864965696 and parameters: {'alpha': 1.672874745045928, 'tol': 0.009595604162013046}. Best is trial 76 with value: 0.05918152940412294.\n",
      "[I 2025-05-01 13:28:01,819] Trial 181 finished with value: 0.05918153460541328 and parameters: {'alpha': 2.5348264467408113, 'tol': 0.009854950742140501}. Best is trial 76 with value: 0.05918152940412294.\n",
      "[I 2025-05-01 13:28:01,822] Trial 180 finished with value: 0.059181535581552244 and parameters: {'alpha': 2.560723267776339, 'tol': 0.008924513024602778}. Best is trial 76 with value: 0.05918152940412294.\n",
      "[I 2025-05-01 13:28:06,017] Trial 182 finished with value: 0.059181569349131706 and parameters: {'alpha': 3.0499353977302657, 'tol': 0.009606121366063751}. Best is trial 76 with value: 0.05918152940412294.\n",
      "[I 2025-05-01 13:28:06,911] Trial 183 finished with value: 0.059181533242143536 and parameters: {'alpha': 2.4942202178154584, 'tol': 0.00965408591206085}. Best is trial 76 with value: 0.05918152940412294.\n",
      "[I 2025-05-01 13:28:17,354] Trial 185 finished with value: 0.05918152941220024 and parameters: {'alpha': 2.2324714317942966, 'tol': 0.00823613950519528}. Best is trial 76 with value: 0.05918152940412294.\n",
      "[I 2025-05-01 13:28:17,375] Trial 184 finished with value: 0.0591815333302013 and parameters: {'alpha': 2.497040178105179, 'tol': 0.008228098155377339}. Best is trial 76 with value: 0.05918152940412294.\n",
      "[I 2025-05-01 13:28:21,434] Trial 186 finished with value: 0.05918246972497686 and parameters: {'alpha': 6.350055573046788, 'tol': 0.00018104772204403236}. Best is trial 76 with value: 0.05918152940412294.\n",
      "[I 2025-05-01 13:28:22,323] Trial 187 finished with value: 0.05918153102452928 and parameters: {'alpha': 2.4078057276374145, 'tol': 0.007727327894557653}. Best is trial 76 with value: 0.05918152940412294.\n",
      "[I 2025-05-01 13:28:33,541] Trial 189 finished with value: 0.05918155963525662 and parameters: {'alpha': 2.944400646052589, 'tol': 0.008023250707712213}. Best is trial 76 with value: 0.05918152940412294.\n",
      "[I 2025-05-01 13:28:33,549] Trial 188 finished with value: 0.059181635080013985 and parameters: {'alpha': 3.5635581925314868, 'tol': 0.007790858181252599}. Best is trial 76 with value: 0.05918152940412294.\n",
      "[I 2025-05-01 13:28:37,684] Trial 190 finished with value: 0.05918164222728792 and parameters: {'alpha': 3.608320302185889, 'tol': 0.007727235211532441}. Best is trial 76 with value: 0.05918152940412294.\n",
      "[I 2025-05-01 13:28:38,533] Trial 191 finished with value: 0.059181692959853385 and parameters: {'alpha': 3.893517617249426, 'tol': 0.008200784044872182}. Best is trial 76 with value: 0.05918152940412294.\n",
      "[I 2025-05-01 13:28:49,005] Trial 193 finished with value: 0.05918159574878396 and parameters: {'alpha': 3.2855908975766805, 'tol': 0.00040253675829065466}. Best is trial 76 with value: 0.05918152940412294.\n",
      "[I 2025-05-01 13:28:49,838] Trial 192 finished with value: 0.05918159889570007 and parameters: {'alpha': 1.2214414079369045, 'tol': 0.009036591262306517}. Best is trial 76 with value: 0.05918152940412294.\n",
      "[I 2025-05-01 13:28:53,879] Trial 194 finished with value: 0.059181569492099705 and parameters: {'alpha': 1.4649305622438082, 'tol': 0.008249828395176656}. Best is trial 76 with value: 0.05918152940412294.\n",
      "[I 2025-05-01 13:28:54,722] Trial 195 finished with value: 0.05918159166282241 and parameters: {'alpha': 1.275407086568497, 'tol': 0.008722608750549494}. Best is trial 76 with value: 0.05918152940412294.\n",
      "[I 2025-05-01 13:29:05,103] Trial 196 finished with value: 0.059181583497569724 and parameters: {'alpha': 1.3403832011499843, 'tol': 0.00823053055538938}. Best is trial 76 with value: 0.05918152940412294.\n",
      "[I 2025-05-01 13:29:05,986] Trial 197 finished with value: 0.0591815657968368 and parameters: {'alpha': 1.5014056009042087, 'tol': 0.007714354514767649}. Best is trial 76 with value: 0.05918152940412294.\n",
      "[I 2025-05-01 13:29:10,788] Trial 198 finished with value: 0.059181541574007054 and parameters: {'alpha': 1.8137249208782995, 'tol': 0.007777878423235469}. Best is trial 76 with value: 0.05918152940412294.\n",
      "[I 2025-05-01 13:29:10,805] Trial 199 finished with value: 0.059181536437204335 and parameters: {'alpha': 1.9171278653037627, 'tol': 0.007275103474888831}. Best is trial 76 with value: 0.05918152940412294.\n",
      "[I 2025-05-01 13:29:21,276] Trial 200 finished with value: 0.05918153056967537 and parameters: {'alpha': 2.3835260018442495, 'tol': 0.005890446048924492}. Best is trial 76 with value: 0.05918152940412294.\n",
      "[I 2025-05-01 13:29:22,115] Trial 201 finished with value: 0.05918153628161925 and parameters: {'alpha': 1.9207801919050307, 'tol': 0.0061296179111641255}. Best is trial 76 with value: 0.05918152940412294.\n",
      "[I 2025-05-01 13:29:26,914] Trial 202 finished with value: 0.059181570788456435 and parameters: {'alpha': 1.4525462350136822, 'tol': 0.005658300246453916}. Best is trial 76 with value: 0.05918152940412294.\n",
      "[I 2025-05-01 13:29:26,917] Trial 203 finished with value: 0.059182909240942 and parameters: {'alpha': 7.2889286076515045, 'tol': 0.007550006939162354}. Best is trial 76 with value: 0.05918152940412294.\n",
      "[I 2025-05-01 13:29:37,251] Trial 205 finished with value: 0.059181531968374355 and parameters: {'alpha': 2.4491195379680994, 'tol': 0.00593659821895483}. Best is trial 76 with value: 0.05918152940412294.\n",
      "[I 2025-05-01 13:29:38,117] Trial 204 finished with value: 0.05918154011652126 and parameters: {'alpha': 2.660527740718514, 'tol': 0.005797745555919991}. Best is trial 76 with value: 0.05918152940412294.\n",
      "[I 2025-05-01 13:29:42,951] Trial 206 finished with value: 0.059181542104327085 and parameters: {'alpha': 2.6974633050565973, 'tol': 0.006144686346455549}. Best is trial 76 with value: 0.05918152940412294.\n",
      "[I 2025-05-01 13:29:42,968] Trial 207 finished with value: 0.05918154983706287 and parameters: {'alpha': 2.8193061559485435, 'tol': 0.0065806980439860096}. Best is trial 76 with value: 0.05918152940412294.\n",
      "[I 2025-05-01 13:29:53,942] Trial 208 finished with value: 0.05918155893693328 and parameters: {'alpha': 2.936214591534015, 'tol': 0.00642137811742229}. Best is trial 76 with value: 0.05918152940412294.\n",
      "[I 2025-05-01 13:29:53,948] Trial 209 finished with value: 0.05918154426017755 and parameters: {'alpha': 2.7344286936566244, 'tol': 0.008186179062032672}. Best is trial 76 with value: 0.05918152940412294.\n",
      "[I 2025-05-01 13:29:58,001] Trial 210 finished with value: 0.05918153982500346 and parameters: {'alpha': 2.654835603724777, 'tol': 0.008683786684048234}. Best is trial 76 with value: 0.05918152940412294.\n",
      "[I 2025-05-01 13:29:58,805] Trial 211 finished with value: 0.05918152942080335 and parameters: {'alpha': 2.22853094173308, 'tol': 0.008419673637060652}. Best is trial 76 with value: 0.05918152940412294.\n",
      "[I 2025-05-01 13:30:09,874] Trial 212 finished with value: 0.05918193368271933 and parameters: {'alpha': 4.876330094153044, 'tol': 0.004949190671322334}. Best is trial 76 with value: 0.05918152940412294.\n",
      "[I 2025-05-01 13:30:09,880] Trial 213 finished with value: 0.059181529693715804 and parameters: {'alpha': 2.3158520670310914, 'tol': 0.00847950099143886}. Best is trial 76 with value: 0.05918152940412294.\n",
      "[I 2025-05-01 13:30:13,930] Trial 214 finished with value: 0.059181538892246845 and parameters: {'alpha': 2.636074362268436, 'tol': 0.007995931199540146}. Best is trial 76 with value: 0.05918152940412294.\n",
      "[I 2025-05-01 13:30:14,843] Trial 215 finished with value: 0.0591815413633618 and parameters: {'alpha': 2.6840531303050668, 'tol': 0.008590473280667456}. Best is trial 76 with value: 0.05918152940412294.\n",
      "[I 2025-05-01 13:30:25,407] Trial 216 finished with value: 0.05918153976922462 and parameters: {'alpha': 2.6537375690577596, 'tol': 0.008457176247321885}. Best is trial 76 with value: 0.05918152940412294.\n",
      "[I 2025-05-01 13:30:27,757] Trial 217 finished with value: 0.05918153020925083 and parameters: {'alpha': 2.360671566111345, 'tol': 0.008654317287399278}. Best is trial 76 with value: 0.05918152940412294.\n",
      "[I 2025-05-01 13:30:28,671] Trial 218 finished with value: 0.05918152962590649 and parameters: {'alpha': 2.1878219096144926, 'tol': 0.008829666964485734}. Best is trial 76 with value: 0.05918152940412294.\n",
      "[I 2025-05-01 13:30:30,231] Trial 219 finished with value: 0.05918155457904541 and parameters: {'alpha': 2.882834201411442, 'tol': 0.008927876155116681}. Best is trial 76 with value: 0.05918152940412294.\n",
      "[I 2025-05-01 13:30:41,789] Trial 220 finished with value: 0.05918153245376354 and parameters: {'alpha': 2.0294456097251103, 'tol': 0.009105072790225087}. Best is trial 76 with value: 0.05918152940412294.\n",
      "[I 2025-05-01 13:30:41,811] Trial 221 finished with value: 0.059181532612921604 and parameters: {'alpha': 2.023857976843862, 'tol': 0.009355009033060626}. Best is trial 76 with value: 0.05918152940412294.\n",
      "[I 2025-05-01 13:30:43,577] Trial 223 finished with value: 0.059181529608109226 and parameters: {'alpha': 2.190197148159109, 'tol': 0.009461339003868864}. Best is trial 76 with value: 0.05918152940412294.\n",
      "[I 2025-05-01 13:30:43,593] Trial 222 finished with value: 0.059181699635589315 and parameters: {'alpha': 0.6571342041852319, 'tol': 0.009984828824130536}. Best is trial 76 with value: 0.05918152940412294.\n",
      "[I 2025-05-01 13:30:56,623] Trial 225 finished with value: 0.059181537691892175 and parameters: {'alpha': 1.8890533998651045, 'tol': 0.008487614126972456}. Best is trial 76 with value: 0.05918152940412294.\n",
      "[I 2025-05-01 13:30:57,396] Trial 224 finished with value: 0.05918153539706687 and parameters: {'alpha': 1.9423884181202484, 'tol': 0.00934413199220516}. Best is trial 76 with value: 0.05918152940412294.\n",
      "[I 2025-05-01 13:30:59,151] Trial 227 finished with value: 0.05918163174770126 and parameters: {'alpha': 3.542194438494062, 'tol': 0.009931371876353406}. Best is trial 76 with value: 0.05918152940412294.\n",
      "[I 2025-05-01 13:30:59,157] Trial 226 finished with value: 0.05918157206080949 and parameters: {'alpha': 3.0770876995646774, 'tol': 0.009276891003855361}. Best is trial 76 with value: 0.05918152940412294.\n",
      "[I 2025-05-01 13:31:12,156] Trial 228 finished with value: 0.05918157030594532 and parameters: {'alpha': 3.0596155587222738, 'tol': 0.009976087802831938}. Best is trial 76 with value: 0.05918152940412294.\n",
      "[I 2025-05-01 13:31:12,163] Trial 229 finished with value: 0.059181545139491934 and parameters: {'alpha': 2.7487414197065285, 'tol': 0.008969966080486445}. Best is trial 76 with value: 0.05918152940412294.\n",
      "[I 2025-05-01 13:31:13,253] Trial 230 finished with value: 0.05918152989737088 and parameters: {'alpha': 2.33629399619049, 'tol': 0.00999038939928443}. Best is trial 76 with value: 0.05918152940412294.\n",
      "[I 2025-05-01 13:31:14,765] Trial 231 finished with value: 0.0591815412415719 and parameters: {'alpha': 1.8196459263614204, 'tol': 0.009635178514150683}. Best is trial 76 with value: 0.05918152940412294.\n",
      "[I 2025-05-01 13:31:26,108] Trial 232 finished with value: 0.05918154314817506 and parameters: {'alpha': 1.7867412660388733, 'tol': 0.008911175797207507}. Best is trial 76 with value: 0.05918152940412294.\n",
      "[I 2025-05-01 13:31:27,700] Trial 233 finished with value: 0.05918154567622685 and parameters: {'alpha': 1.746503877517816, 'tol': 0.00997172210927078}. Best is trial 76 with value: 0.05918152940412294.\n",
      "[I 2025-05-01 13:31:29,439] Trial 235 finished with value: 0.05918156482034719 and parameters: {'alpha': 1.511358060206939, 'tol': 0.008580882180988028}. Best is trial 76 with value: 0.05918152940412294.\n",
      "[I 2025-05-01 13:31:30,962] Trial 234 finished with value: 0.05918153075392629 and parameters: {'alpha': 2.393844100185819, 'tol': 0.009542794898985076}. Best is trial 76 with value: 0.05918152940412294.\n",
      "[I 2025-05-01 13:31:40,628] Trial 236 finished with value: 0.05918155801958221 and parameters: {'alpha': 1.5849671654454245, 'tol': 0.00980163400842224}. Best is trial 76 with value: 0.05918152940412294.\n",
      "[I 2025-05-01 13:31:43,023] Trial 237 finished with value: 0.05918157549541573 and parameters: {'alpha': 1.40917705825298, 'tol': 0.008584098567513186}. Best is trial 76 with value: 0.05918152940412294.\n",
      "[I 2025-05-01 13:31:45,562] Trial 239 finished with value: 0.05918173638649681 and parameters: {'alpha': 4.105516273515185, 'tol': 0.009073293339409445}. Best is trial 76 with value: 0.05918152940412294.\n",
      "[I 2025-05-01 13:31:45,590] Trial 238 finished with value: 0.05918154982016139 and parameters: {'alpha': 2.8190674790414434, 'tol': 0.0016578518656859996}. Best is trial 76 with value: 0.05918152940412294.\n",
      "[I 2025-05-01 13:31:56,747] Trial 240 finished with value: 0.059181720759531486 and parameters: {'alpha': 4.031888192908056, 'tol': 0.008622485720152555}. Best is trial 76 with value: 0.05918152940412294.\n",
      "[I 2025-05-01 13:31:57,654] Trial 241 finished with value: 0.05918156370570727 and parameters: {'alpha': 2.9903828812466227, 'tol': 0.00807285915669497}. Best is trial 76 with value: 0.05918152940412294.\n",
      "[I 2025-05-01 13:32:01,647] Trial 242 finished with value: 0.05918160877236321 and parameters: {'alpha': 3.3847426466228763, 'tol': 0.008618006997257573}. Best is trial 76 with value: 0.05918152940412294.\n",
      "[I 2025-05-01 13:32:02,446] Trial 243 finished with value: 0.05918161960444937 and parameters: {'alpha': 3.4613716929721585, 'tol': 0.008562472205343308}. Best is trial 76 with value: 0.05918152940412294.\n",
      "[I 2025-05-01 13:32:12,145] Trial 244 finished with value: 0.059181541276574885 and parameters: {'alpha': 1.8190185464494768, 'tol': 0.007583015239261076}. Best is trial 76 with value: 0.05918152940412294.\n",
      "[I 2025-05-01 13:32:13,843] Trial 245 finished with value: 0.05918153106165709 and parameters: {'alpha': 2.409628216628368, 'tol': 0.00812372098308368}. Best is trial 76 with value: 0.05918152940412294.\n",
      "[I 2025-05-01 13:32:17,191] Trial 247 finished with value: 0.059181535610792084 and parameters: {'alpha': 2.561466526264203, 'tol': 0.008195909284581793}. Best is trial 76 with value: 0.05918152940412294.\n",
      "[I 2025-05-01 13:32:19,472] Trial 246 finished with value: 0.05918152947502461 and parameters: {'alpha': 2.2127761990261936, 'tol': 0.0074878790674029125}. Best is trial 76 with value: 0.05918152940412294.\n",
      "[I 2025-05-01 13:32:23,544] Trial 248 finished with value: 0.059181529506709706 and parameters: {'alpha': 2.2062639290553543, 'tol': 0.007626524086741177}. Best is trial 76 with value: 0.05918152940412294.\n",
      "[I 2025-05-01 13:32:25,191] Trial 249 finished with value: 0.05918156748177089 and parameters: {'alpha': 1.4845492666154652, 'tol': 0.007497679339818853}. Best is trial 76 with value: 0.05918152940412294.\n"
     ]
    }
   ],
   "source": [
    "def objective(trial):    \n",
    "    params = {\n",
    "        \"random_state\": CFG.seed,\n",
    "        \"alpha\": trial.suggest_float(\"alpha\", 0, 10),\n",
    "        \"tol\": trial.suggest_float(\"tol\", 1e-6, 1e-2)\n",
    "    }\n",
    "    \n",
    "    trainer = Trainer(\n",
    "        Ridge(**params),\n",
    "        cv=KFold(n_splits=CFG.n_folds, random_state=CFG.seed, shuffle=True),\n",
    "        metric=CFG.metric,\n",
    "        task=\"regression\",\n",
    "        verbose=False\n",
    "    )\n",
    "    trainer.fit(X, y)\n",
    "    \n",
    "    return trainer.overall_score\n",
    "\n",
    "if CFG.run_optuna:\n",
    "    sampler = optuna.samplers.TPESampler(seed=CFG.seed, multivariate=True)\n",
    "    study = optuna.create_study(direction=\"minimize\", sampler=sampler)\n",
    "    study.optimize(objective, n_trials=CFG.n_optuna_trials, n_jobs=-1, catch=(ValueError,))\n",
    "    best_params = study.best_params\n",
    "\n",
    "    ridge_params = {\n",
    "        \"random_state\": CFG.seed,\n",
    "        \"alpha\": best_params[\"alpha\"],\n",
    "        \"tol\": best_params[\"tol\"]\n",
    "    }\n",
    "else:\n",
    "    ridge_params = {\n",
    "        \"random_state\": CFG.seed\n",
    "    }"
   ]
  },
  {
   "cell_type": "code",
   "execution_count": 25,
   "id": "00776354",
   "metadata": {
    "execution": {
     "iopub.execute_input": "2025-05-01T13:32:25.257048Z",
     "iopub.status.busy": "2025-05-01T13:32:25.256697Z",
     "iopub.status.idle": "2025-05-01T13:32:25.261771Z",
     "shell.execute_reply": "2025-05-01T13:32:25.260880Z"
    },
    "papermill": {
     "duration": 0.036707,
     "end_time": "2025-05-01T13:32:25.263184",
     "exception": false,
     "start_time": "2025-05-01T13:32:25.226477",
     "status": "completed"
    },
    "tags": []
   },
   "outputs": [
    {
     "name": "stdout",
     "output_type": "stream",
     "text": [
      "{\n",
      "  \"random_state\": 42,\n",
      "  \"alpha\": 2.257746671141554,\n",
      "  \"tol\": 0.008678597385677795\n",
      "}\n"
     ]
    }
   ],
   "source": [
    "print(json.dumps(ridge_params, indent=2))"
   ]
  },
  {
   "cell_type": "code",
   "execution_count": 26,
   "id": "d8425d67",
   "metadata": {
    "execution": {
     "iopub.execute_input": "2025-05-01T13:32:25.322944Z",
     "iopub.status.busy": "2025-05-01T13:32:25.322604Z",
     "iopub.status.idle": "2025-05-01T13:32:29.775105Z",
     "shell.execute_reply": "2025-05-01T13:32:29.774123Z"
    },
    "papermill": {
     "duration": 4.4844,
     "end_time": "2025-05-01T13:32:29.776507",
     "exception": false,
     "start_time": "2025-05-01T13:32:25.292107",
     "status": "completed"
    },
    "tags": []
   },
   "outputs": [
    {
     "name": "stdout",
     "output_type": "stream",
     "text": [
      "Training Ridge\n",
      "\n",
      "--- Fold 0 - root_mean_squared_error: 0.0590 - Time: 0.10 s\n",
      "--- Fold 1 - root_mean_squared_error: 0.0597 - Time: 0.11 s\n",
      "--- Fold 2 - root_mean_squared_error: 0.0590 - Time: 0.11 s\n",
      "--- Fold 3 - root_mean_squared_error: 0.0593 - Time: 0.10 s\n",
      "--- Fold 4 - root_mean_squared_error: 0.0588 - Time: 0.10 s\n",
      "\n",
      "------ Overall root_mean_squared_error: 0.0592 - Mean root_mean_squared_error: 0.0592 ± 0.0003 - Time: 4.43 s\n"
     ]
    }
   ],
   "source": [
    "ridge_trainer = Trainer(\n",
    "    Ridge(**ridge_params),\n",
    "    cv=KFold(n_splits=CFG.n_folds, random_state=CFG.seed, shuffle=True),\n",
    "    metric=CFG.metric,\n",
    "    task=\"regression\"\n",
    ")\n",
    "\n",
    "ridge_trainer.fit(X, y)\n",
    "\n",
    "scores[\"Ridge (ensemble)\"] = ridge_trainer.fold_scores\n",
    "ridge_test_preds = np.expm1(ridge_trainer.predict(X_test))"
   ]
  },
  {
   "cell_type": "code",
   "execution_count": 27,
   "id": "f4e598ba",
   "metadata": {
    "execution": {
     "iopub.execute_input": "2025-05-01T13:32:29.836259Z",
     "iopub.status.busy": "2025-05-01T13:32:29.835500Z",
     "iopub.status.idle": "2025-05-01T13:32:30.127250Z",
     "shell.execute_reply": "2025-05-01T13:32:30.126245Z"
    },
    "papermill": {
     "duration": 0.322982,
     "end_time": "2025-05-01T13:32:30.128714",
     "exception": false,
     "start_time": "2025-05-01T13:32:29.805732",
     "status": "completed"
    },
    "tags": []
   },
   "outputs": [
    {
     "data": {
      "image/png": "[encoded data removed]",
      "text/plain": [
       "<Figure size 1000x350 with 1 Axes>"
      ]
     },
     "metadata": {},
     "output_type": "display_data"
    }
   ],
   "source": [
    "ridge_coeffs = np.zeros((1, X.shape[1]))\n",
    "for m in ridge_trainer.estimators:\n",
    "    ridge_coeffs += m.coef_\n",
    "ridge_coeffs = ridge_coeffs / len(ridge_trainer.estimators)\n",
    "\n",
    "plot_weights(ridge_coeffs, \"Ridge Coefficients\")"
   ]
  },
  {
   "cell_type": "markdown",
   "id": "7c20e32b",
   "metadata": {
    "papermill": {
     "duration": 0.030259,
     "end_time": "2025-05-01T13:32:30.190806",
     "exception": false,
     "start_time": "2025-05-01T13:32:30.160547",
     "status": "completed"
    },
    "tags": []
   },
   "source": [
    "# Submission"
   ]
  },
  {
   "cell_type": "code",
   "execution_count": 28,
   "id": "2b1d0c07",
   "metadata": {
    "execution": {
     "iopub.execute_input": "2025-05-01T13:32:30.252178Z",
     "iopub.status.busy": "2025-05-01T13:32:30.251221Z",
     "iopub.status.idle": "2025-05-01T13:32:30.933722Z",
     "shell.execute_reply": "2025-05-01T13:32:30.932737Z"
    },
    "papermill": {
     "duration": 0.714545,
     "end_time": "2025-05-01T13:32:30.935138",
     "exception": false,
     "start_time": "2025-05-01T13:32:30.220593",
     "status": "completed"
    },
    "tags": []
   },
   "outputs": [
    {
     "data": {
      "text/html": [
       "<div>\n",
       "<style scoped>\n",
       "    .dataframe tbody tr th:only-of-type {\n",
       "        vertical-align: middle;\n",
       "    }\n",
       "\n",
       "    .dataframe tbody tr th {\n",
       "        vertical-align: top;\n",
       "    }\n",
       "\n",
       "    .dataframe thead th {\n",
       "        text-align: right;\n",
       "    }\n",
       "</style>\n",
       "<table border=\"1\" class=\"dataframe\">\n",
       "  <thead>\n",
       "    <tr style=\"text-align: right;\">\n",
       "      <th></th>\n",
       "      <th>id</th>\n",
       "      <th>Calories</th>\n",
       "    </tr>\n",
       "  </thead>\n",
       "  <tbody>\n",
       "    <tr>\n",
       "      <th>0</th>\n",
       "      <td>750000</td>\n",
       "      <td>27.267525</td>\n",
       "    </tr>\n",
       "    <tr>\n",
       "      <th>1</th>\n",
       "      <td>750001</td>\n",
       "      <td>107.921522</td>\n",
       "    </tr>\n",
       "    <tr>\n",
       "      <th>2</th>\n",
       "      <td>750002</td>\n",
       "      <td>87.269868</td>\n",
       "    </tr>\n",
       "    <tr>\n",
       "      <th>3</th>\n",
       "      <td>750003</td>\n",
       "      <td>125.645349</td>\n",
       "    </tr>\n",
       "    <tr>\n",
       "      <th>4</th>\n",
       "      <td>750004</td>\n",
       "      <td>76.154871</td>\n",
       "    </tr>\n",
       "  </tbody>\n",
       "</table>\n",
       "</div>"
      ],
      "text/plain": [
       "       id    Calories\n",
       "0  750000   27.267525\n",
       "1  750001  107.921522\n",
       "2  750002   87.269868\n",
       "3  750003  125.645349\n",
       "4  750004   76.154871"
      ]
     },
     "execution_count": 28,
     "metadata": {},
     "output_type": "execute_result"
    }
   ],
   "source": [
    "sub = pd.read_csv(CFG.sample_sub_path)\n",
    "sub[CFG.target] = ridge_test_preds\n",
    "sub.to_csv(f\"sub_ridge_{np.mean(scores['Ridge (ensemble)']):.6f}.csv\", index=False)\n",
    "sub.head()"
   ]
  },
  {
   "cell_type": "markdown",
   "id": "5a1f1ee9",
   "metadata": {
    "papermill": {
     "duration": 0.02961,
     "end_time": "2025-05-01T13:32:30.994830",
     "exception": false,
     "start_time": "2025-05-01T13:32:30.965220",
     "status": "completed"
    },
    "tags": []
   },
   "source": [
    "# Results"
   ]
  },
  {
   "cell_type": "code",
   "execution_count": 29,
   "id": "02a889c0",
   "metadata": {
    "execution": {
     "iopub.execute_input": "2025-05-01T13:32:31.056052Z",
     "iopub.status.busy": "2025-05-01T13:32:31.055280Z",
     "iopub.status.idle": "2025-05-01T13:32:31.601920Z",
     "shell.execute_reply": "2025-05-01T13:32:31.601023Z"
    },
    "papermill": {
     "duration": 0.578869,
     "end_time": "2025-05-01T13:32:31.603374",
     "exception": false,
     "start_time": "2025-05-01T13:32:31.024505",
     "status": "completed"
    },
    "tags": []
   },
   "outputs": [
    {
     "data": {
      "image/png": "[encoded data removed]",
      "text/plain": [
       "<Figure size 1500x240 with 2 Axes>"
      ]
     },
     "metadata": {},
     "output_type": "display_data"
    }
   ],
   "source": [
    "scores = pd.DataFrame(scores)\n",
    "mean_scores = scores.mean().sort_values(ascending=True)\n",
    "order = scores.mean().sort_values(ascending=True).index.tolist()\n",
    "\n",
    "min_score = mean_scores.min()\n",
    "max_score = mean_scores.max()\n",
    "padding = (max_score - min_score) * 0.5\n",
    "lower_limit = min_score - padding\n",
    "upper_limit = max_score + padding\n",
    "\n",
    "fig, axs = plt.subplots(1, 2, figsize=(15, scores.shape[1] * 0.3))\n",
    "\n",
    "boxplot = sns.boxplot(data=scores, order=order, ax=axs[0], orient=\"h\", color=\"grey\")\n",
    "axs[0].set_title(f\"Fold {CFG.metric.__name__}\")\n",
    "axs[0].set_xlabel(\"\")\n",
    "axs[0].set_ylabel(\"\")\n",
    "\n",
    "barplot = sns.barplot(x=mean_scores.values, y=mean_scores.index, ax=axs[1], color=\"grey\")\n",
    "axs[1].set_title(f\"Average {CFG.metric.__name__}\")\n",
    "axs[1].set_xlabel(\"\")\n",
    "axs[1].set_xlim(left=lower_limit, right=upper_limit)\n",
    "axs[1].set_ylabel(\"\")\n",
    "\n",
    "for i, (score, model) in enumerate(zip(mean_scores.values, mean_scores.index)):\n",
    "    color = \"cyan\" if \"ensemble\" in model.lower() else \"grey\"\n",
    "    barplot.patches[i].set_facecolor(color)\n",
    "    boxplot.patches[i].set_facecolor(color)\n",
    "    barplot.text(score, i, round(score, 6), va=\"center\")\n",
    "\n",
    "plt.tight_layout()\n",
    "plt.show()"
   ]
  },
  {
   "cell_type": "code",
   "execution_count": 30,
   "id": "e2b3b608",
   "metadata": {
    "execution": {
     "iopub.execute_input": "2025-05-01T13:32:31.683941Z",
     "iopub.status.busy": "2025-05-01T13:32:31.683520Z",
     "iopub.status.idle": "2025-05-01T13:32:31.689132Z",
     "shell.execute_reply": "2025-05-01T13:32:31.688349Z"
    },
    "papermill": {
     "duration": 0.052365,
     "end_time": "2025-05-01T13:32:31.690422",
     "exception": false,
     "start_time": "2025-05-01T13:32:31.638057",
     "status": "completed"
    },
    "tags": []
   },
   "outputs": [],
   "source": [
    "shutil.rmtree(\"catboost_info\", ignore_errors=True)"
   ]
  }
 ],
 "metadata": {
  "kaggle": {
   "accelerator": "none",
   "dataSources": [
    {
     "databundleVersionId": 11893428,
     "sourceId": 91716,
     "sourceType": "competition"
    }
   ],
   "dockerImageVersionId": 31012,
   "isGpuEnabled": false,
   "isInternetEnabled": true,
   "language": "python",
   "sourceType": "notebook"
  },
  "kernelspec": {
   "display_name": "Python 3",
   "language": "python",
   "name": "python3"
  },
  "language_info": {
   "codemirror_mode": {
    "name": "ipython",
    "version": 3
   },
   "file_extension": ".py",
   "mimetype": "text/x-python",
   "name": "python",
   "nbconvert_exporter": "python",
   "pygments_lexer": "ipython3",
   "version": "3.11.11"
  },
  "papermill": {
   "default_parameters": {},
   "duration": 8220.933097,
   "end_time": "2025-05-01T13:32:34.913577",
   "environment_variables": {},
   "exception": null,
   "input_path": "__notebook__.ipynb",
   "output_path": "__notebook__.ipynb",
   "parameters": {},
   "start_time": "2025-05-01T11:15:33.980480",
   "version": "2.6.0"
  }
 },
 "nbformat": 4,
 "nbformat_minor": 5
}
