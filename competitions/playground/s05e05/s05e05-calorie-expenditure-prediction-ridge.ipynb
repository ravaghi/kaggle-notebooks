{
 "cells": [
  {
   "cell_type": "code",
   "execution_count": 1,
   "id": "a3145b5d",
   "metadata": {
    "_kg_hide-output": true,
    "execution": {
     "iopub.execute_input": "2025-05-12T19:14:02.800650Z",
     "iopub.status.busy": "2025-05-12T19:14:02.799939Z",
     "iopub.status.idle": "2025-05-12T19:14:15.434678Z",
     "shell.execute_reply": "2025-05-12T19:14:15.433366Z"
    },
    "papermill": {
     "duration": 12.648323,
     "end_time": "2025-05-12T19:14:15.436704",
     "exception": false,
     "start_time": "2025-05-12T19:14:02.788381",
     "status": "completed"
    },
    "scrolled": true,
    "tags": []
   },
   "outputs": [
    {
     "name": "stdout",
     "output_type": "stream",
     "text": [
      "Requirement already satisfied: ydf in /usr/local/lib/python3.11/dist-packages (0.9.0)\r\n",
      "Collecting koolbox\r\n",
      "  Downloading koolbox-0.1.3-py3-none-any.whl.metadata (3.4 kB)\r\n",
      "Collecting scikit-learn==1.5.2\r\n",
      "  Downloading scikit_learn-1.5.2-cp311-cp311-manylinux_2_17_x86_64.manylinux2014_x86_64.whl.metadata (13 kB)\r\n",
      "Requirement already satisfied: numpy>=1.19.5 in /usr/local/lib/python3.11/dist-packages (from scikit-learn==1.5.2) (1.26.4)\r\n",
      "Requirement already satisfied: scipy>=1.6.0 in /usr/local/lib/python3.11/dist-packages (from scikit-learn==1.5.2) (1.15.2)\r\n",
      "Requirement already satisfied: joblib>=1.2.0 in /usr/local/lib/python3.11/dist-packages (from scikit-learn==1.5.2) (1.4.2)\r\n",
      "Requirement already satisfied: threadpoolctl>=3.1.0 in /usr/local/lib/python3.11/dist-packages (from scikit-learn==1.5.2) (3.6.0)\r\n",
      "Requirement already satisfied: absl_py in /usr/local/lib/python3.11/dist-packages (from ydf) (1.4.0)\r\n",
      "Requirement already satisfied: protobuf>=3.14 in /usr/local/lib/python3.11/dist-packages (from ydf) (3.20.3)\r\n",
      "Requirement already satisfied: optuna>=4.2.1 in /usr/local/lib/python3.11/dist-packages (from koolbox) (4.2.1)\r\n",
      "Requirement already satisfied: pandas>=2.2.3 in /usr/local/lib/python3.11/dist-packages (from koolbox) (2.2.3)\r\n",
      "Requirement already satisfied: mkl_fft in /usr/local/lib/python3.11/dist-packages (from numpy>=1.19.5->scikit-learn==1.5.2) (1.3.8)\r\n",
      "Requirement already satisfied: mkl_random in /usr/local/lib/python3.11/dist-packages (from numpy>=1.19.5->scikit-learn==1.5.2) (1.2.4)\r\n",
      "Requirement already satisfied: mkl_umath in /usr/local/lib/python3.11/dist-packages (from numpy>=1.19.5->scikit-learn==1.5.2) (0.1.1)\r\n",
      "Requirement already satisfied: mkl in /usr/local/lib/python3.11/dist-packages (from numpy>=1.19.5->scikit-learn==1.5.2) (2025.1.0)\r\n",
      "Requirement already satisfied: tbb4py in /usr/local/lib/python3.11/dist-packages (from numpy>=1.19.5->scikit-learn==1.5.2) (2022.1.0)\r\n",
      "Requirement already satisfied: mkl-service in /usr/local/lib/python3.11/dist-packages (from numpy>=1.19.5->scikit-learn==1.5.2) (2.4.1)\r\n",
      "Requirement already satisfied: alembic>=1.5.0 in /usr/local/lib/python3.11/dist-packages (from optuna>=4.2.1->koolbox) (1.15.2)\r\n",
      "Requirement already satisfied: colorlog in /usr/local/lib/python3.11/dist-packages (from optuna>=4.2.1->koolbox) (6.9.0)\r\n",
      "Requirement already satisfied: packaging>=20.0 in /usr/local/lib/python3.11/dist-packages (from optuna>=4.2.1->koolbox) (24.2)\r\n",
      "Requirement already satisfied: sqlalchemy>=1.4.2 in /usr/local/lib/python3.11/dist-packages (from optuna>=4.2.1->koolbox) (2.0.38)\r\n",
      "Requirement already satisfied: tqdm in /usr/local/lib/python3.11/dist-packages (from optuna>=4.2.1->koolbox) (4.67.1)\r\n",
      "Requirement already satisfied: PyYAML in /usr/local/lib/python3.11/dist-packages (from optuna>=4.2.1->koolbox) (6.0.2)\r\n",
      "Requirement already satisfied: python-dateutil>=2.8.2 in /usr/local/lib/python3.11/dist-packages (from pandas>=2.2.3->koolbox) (2.9.0.post0)\r\n",
      "Requirement already satisfied: pytz>=2020.1 in /usr/local/lib/python3.11/dist-packages (from pandas>=2.2.3->koolbox) (2025.2)\r\n",
      "Requirement already satisfied: tzdata>=2022.7 in /usr/local/lib/python3.11/dist-packages (from pandas>=2.2.3->koolbox) (2025.2)\r\n",
      "Requirement already satisfied: Mako in /usr/local/lib/python3.11/dist-packages (from alembic>=1.5.0->optuna>=4.2.1->koolbox) (1.3.9)\r\n",
      "Requirement already satisfied: typing-extensions>=4.12 in /usr/local/lib/python3.11/dist-packages (from alembic>=1.5.0->optuna>=4.2.1->koolbox) (4.13.1)\r\n",
      "Requirement already satisfied: six>=1.5 in /usr/local/lib/python3.11/dist-packages (from python-dateutil>=2.8.2->pandas>=2.2.3->koolbox) (1.17.0)\r\n",
      "Requirement already satisfied: greenlet!=0.4.17 in /usr/local/lib/python3.11/dist-packages (from sqlalchemy>=1.4.2->optuna>=4.2.1->koolbox) (3.1.1)\r\n",
      "Requirement already satisfied: intel-openmp<2026,>=2024 in /usr/local/lib/python3.11/dist-packages (from mkl->numpy>=1.19.5->scikit-learn==1.5.2) (2024.2.0)\r\n",
      "Requirement already satisfied: tbb==2022.* in /usr/local/lib/python3.11/dist-packages (from mkl->numpy>=1.19.5->scikit-learn==1.5.2) (2022.1.0)\r\n",
      "Requirement already satisfied: tcmlib==1.* in /usr/local/lib/python3.11/dist-packages (from tbb==2022.*->mkl->numpy>=1.19.5->scikit-learn==1.5.2) (1.2.0)\r\n",
      "Requirement already satisfied: intel-cmplr-lib-rt in /usr/local/lib/python3.11/dist-packages (from mkl_umath->numpy>=1.19.5->scikit-learn==1.5.2) (2024.2.0)\r\n",
      "Requirement already satisfied: intel-cmplr-lib-ur==2024.2.0 in /usr/local/lib/python3.11/dist-packages (from intel-openmp<2026,>=2024->mkl->numpy>=1.19.5->scikit-learn==1.5.2) (2024.2.0)\r\n",
      "Requirement already satisfied: MarkupSafe>=0.9.2 in /usr/local/lib/python3.11/dist-packages (from Mako->alembic>=1.5.0->optuna>=4.2.1->koolbox) (3.0.2)\r\n",
      "Downloading scikit_learn-1.5.2-cp311-cp311-manylinux_2_17_x86_64.manylinux2014_x86_64.whl (13.3 MB)\r\n",
      "\u001b[2K   \u001b[90m━━━━━━━━━━━━━━━━━━━━━━━━━━━━━━━━━━━━━━━━\u001b[0m \u001b[32m13.3/13.3 MB\u001b[0m \u001b[31m88.1 MB/s\u001b[0m eta \u001b[36m0:00:00\u001b[0m\r\n",
      "\u001b[?25hDownloading koolbox-0.1.3-py3-none-any.whl (18 kB)\r\n",
      "Installing collected packages: scikit-learn, koolbox\r\n",
      "  Attempting uninstall: scikit-learn\r\n",
      "    Found existing installation: scikit-learn 1.2.2\r\n",
      "    Uninstalling scikit-learn-1.2.2:\r\n",
      "      Successfully uninstalled scikit-learn-1.2.2\r\n",
      "\u001b[31mERROR: pip's dependency resolver does not currently take into account all the packages that are installed. This behaviour is the source of the following dependency conflicts.\r\n",
      "bigframes 1.36.0 requires rich<14,>=12.4.4, but you have rich 14.0.0 which is incompatible.\u001b[0m\u001b[31m\r\n",
      "\u001b[0mSuccessfully installed koolbox-0.1.3 scikit-learn-1.5.2\r\n",
      "Collecting scikeras\r\n",
      "  Downloading scikeras-0.13.0-py3-none-any.whl.metadata (3.1 kB)\r\n",
      "Downloading scikeras-0.13.0-py3-none-any.whl (26 kB)\r\n",
      "Installing collected packages: scikeras\r\n",
      "Successfully installed scikeras-0.13.0\r\n"
     ]
    }
   ],
   "source": [
    "!pip install ydf koolbox scikit-learn==1.5.2 && pip install --no-deps scikeras"
   ]
  },
  {
   "cell_type": "markdown",
   "id": "81bf60c1",
   "metadata": {
    "papermill": {
     "duration": 0.008904,
     "end_time": "2025-05-12T19:14:15.453860",
     "exception": false,
     "start_time": "2025-05-12T19:14:15.444956",
     "status": "completed"
    },
    "tags": []
   },
   "source": [
    "# Imports and configs"
   ]
  },
  {
   "cell_type": "code",
   "execution_count": 2,
   "id": "1f92e256",
   "metadata": {
    "_kg_hide-output": true,
    "execution": {
     "iopub.execute_input": "2025-05-12T19:14:15.470450Z",
     "iopub.status.busy": "2025-05-12T19:14:15.470078Z",
     "iopub.status.idle": "2025-05-12T19:14:43.767310Z",
     "shell.execute_reply": "2025-05-12T19:14:43.766336Z"
    },
    "papermill": {
     "duration": 28.307992,
     "end_time": "2025-05-12T19:14:43.769118",
     "exception": false,
     "start_time": "2025-05-12T19:14:15.461126",
     "status": "completed"
    },
    "tags": []
   },
   "outputs": [
    {
     "name": "stderr",
     "output_type": "stream",
     "text": [
      "2025-05-12 19:14:21.530992: E external/local_xla/xla/stream_executor/cuda/cuda_fft.cc:477] Unable to register cuFFT factory: Attempting to register factory for plugin cuFFT when one has already been registered\n",
      "WARNING: All log messages before absl::InitializeLog() is called are written to STDERR\n",
      "E0000 00:00:1747077261.787298      13 cuda_dnn.cc:8310] Unable to register cuDNN factory: Attempting to register factory for plugin cuDNN when one has already been registered\n",
      "E0000 00:00:1747077261.859875      13 cuda_blas.cc:1418] Unable to register cuBLAS factory: Attempting to register factory for plugin cuBLAS when one has already been registered\n"
     ]
    }
   ],
   "source": [
    "from sklearn.ensemble import HistGradientBoostingRegressor, BaggingRegressor\n",
    "from sklearn.preprocessing import StandardScaler, OneHotEncoder\n",
    "from sklearn.feature_selection import mutual_info_regression\n",
    "from sklearn.base import BaseEstimator, RegressorMixin\n",
    "from sklearn.metrics import root_mean_squared_error\n",
    "from sklearn.compose import ColumnTransformer\n",
    "from sklearn.pipeline import make_pipeline\n",
    "from sklearn.model_selection import KFold\n",
    "from sklearn.linear_model import Ridge\n",
    "from scikeras.wrappers import KerasRegressor\n",
    "from lightgbm import LGBMRegressor, early_stopping, log_evaluation\n",
    "from ydf import GradientBoostedTreesLearner\n",
    "from catboost import CatBoostRegressor\n",
    "from xgboost import XGBRegressor\n",
    "from koolbox import Trainer\n",
    "import matplotlib.pyplot as plt\n",
    "import contextlib, io\n",
    "import seaborn as sns\n",
    "import pandas as pd\n",
    "import numpy as np\n",
    "import warnings\n",
    "import joblib\n",
    "import shutil\n",
    "import optuna\n",
    "import keras\n",
    "import json\n",
    "import glob\n",
    "import ydf\n",
    "\n",
    "ydf.verbose(2)\n",
    "warnings.filterwarnings(\"ignore\")"
   ]
  },
  {
   "cell_type": "code",
   "execution_count": 3,
   "id": "e7a9789a",
   "metadata": {
    "execution": {
     "iopub.execute_input": "2025-05-12T19:14:43.785903Z",
     "iopub.status.busy": "2025-05-12T19:14:43.785227Z",
     "iopub.status.idle": "2025-05-12T19:14:43.790928Z",
     "shell.execute_reply": "2025-05-12T19:14:43.790064Z"
    },
    "papermill": {
     "duration": 0.015751,
     "end_time": "2025-05-12T19:14:43.792453",
     "exception": false,
     "start_time": "2025-05-12T19:14:43.776702",
     "status": "completed"
    },
    "tags": []
   },
   "outputs": [],
   "source": [
    "class CFG:\n",
    "    train_path = \"/kaggle/input/playground-series-s5e5/train.csv\"\n",
    "    test_path = \"/kaggle/input/playground-series-s5e5/test.csv\"\n",
    "    sample_sub_path = \"/kaggle/input/playground-series-s5e5/sample_submission.csv\"\n",
    "    \n",
    "    original_path = \"/kaggle/input/calories-burnt-prediction/calories.csv\"\n",
    "\n",
    "    metric = root_mean_squared_error\n",
    "    target = \"Calories\"\n",
    "    n_folds = 5\n",
    "    seed = 42\n",
    "\n",
    "    cv = KFold(n_splits=n_folds, random_state=seed, shuffle=True)\n",
    "\n",
    "    run_optuna = True\n",
    "    n_optuna_trials = 250"
   ]
  },
  {
   "cell_type": "markdown",
   "id": "784e4237",
   "metadata": {
    "papermill": {
     "duration": 0.007165,
     "end_time": "2025-05-12T19:14:43.807260",
     "exception": false,
     "start_time": "2025-05-12T19:14:43.800095",
     "status": "completed"
    },
    "tags": []
   },
   "source": [
    "# Data loading and preprocessing"
   ]
  },
  {
   "cell_type": "code",
   "execution_count": 4,
   "id": "42de37d1",
   "metadata": {
    "execution": {
     "iopub.execute_input": "2025-05-12T19:14:43.823599Z",
     "iopub.status.busy": "2025-05-12T19:14:43.823214Z",
     "iopub.status.idle": "2025-05-12T19:14:45.992866Z",
     "shell.execute_reply": "2025-05-12T19:14:45.992000Z"
    },
    "papermill": {
     "duration": 2.180498,
     "end_time": "2025-05-12T19:14:45.995080",
     "exception": false,
     "start_time": "2025-05-12T19:14:43.814582",
     "status": "completed"
    },
    "tags": []
   },
   "outputs": [],
   "source": [
    "train = pd.read_csv(CFG.train_path, index_col=\"id\")\n",
    "test = pd.read_csv(CFG.test_path, index_col=\"id\")\n",
    "\n",
    "train = train.drop_duplicates(subset=train.columns, keep='first').reset_index(drop=True)\n",
    "train = train.groupby(by=test.columns.tolist())['Calories'].min().reset_index()\n",
    "\n",
    "train[\"Sex\"] = train[\"Sex\"].map({\"male\": 0, \"female\": 1})\n",
    "test[\"Sex\"] = test[\"Sex\"].map({\"male\": 0, \"female\": 1})\n",
    "\n",
    "X = train.drop(CFG.target, axis=1)\n",
    "y = np.log1p(train[CFG.target])\n",
    "X_test = test"
   ]
  },
  {
   "cell_type": "code",
   "execution_count": 5,
   "id": "cb4c9445",
   "metadata": {
    "execution": {
     "iopub.execute_input": "2025-05-12T19:14:46.013465Z",
     "iopub.status.busy": "2025-05-12T19:14:46.012290Z",
     "iopub.status.idle": "2025-05-12T19:14:46.065043Z",
     "shell.execute_reply": "2025-05-12T19:14:46.063927Z"
    },
    "papermill": {
     "duration": 0.063403,
     "end_time": "2025-05-12T19:14:46.066754",
     "exception": false,
     "start_time": "2025-05-12T19:14:46.003351",
     "status": "completed"
    },
    "tags": []
   },
   "outputs": [],
   "source": [
    "original = pd.read_csv(CFG.original_path, index_col=\"User_ID\")\n",
    "original[\"Gender\"] = original[\"Gender\"].map({\"male\": 0, \"female\": 1})\n",
    "original = original.rename(columns={\"Gender\": \"Sex\"})\n",
    "\n",
    "original = original.drop_duplicates(subset=original.columns, keep='first').reset_index(drop=True)\n",
    "original = original.groupby(by=test.columns.tolist())['Calories'].min().reset_index()\n",
    "\n",
    "X_original = original.drop(CFG.target, axis=1)\n",
    "y_original = np.log1p(original[CFG.target])"
   ]
  },
  {
   "cell_type": "code",
   "execution_count": 6,
   "id": "cdff6be4",
   "metadata": {
    "execution": {
     "iopub.execute_input": "2025-05-12T19:14:46.083361Z",
     "iopub.status.busy": "2025-05-12T19:14:46.082642Z",
     "iopub.status.idle": "2025-05-12T19:16:03.375180Z",
     "shell.execute_reply": "2025-05-12T19:16:03.374114Z"
    },
    "papermill": {
     "duration": 77.309642,
     "end_time": "2025-05-12T19:16:03.383929",
     "exception": false,
     "start_time": "2025-05-12T19:14:46.074287",
     "status": "completed"
    },
    "tags": []
   },
   "outputs": [
    {
     "data": {
      "text/html": [
       "<style type=\"text/css\">\n",
       "#T_8aee4_row0_col0 {\n",
       "  width: 10em;\n",
       "  background: linear-gradient(90deg, #006837 100.0%, transparent 100.0%);\n",
       "}\n",
       "#T_8aee4_row1_col0 {\n",
       "  width: 10em;\n",
       "  background: linear-gradient(90deg, #afdd70 68.2%, transparent 68.2%);\n",
       "}\n",
       "#T_8aee4_row2_col0 {\n",
       "  width: 10em;\n",
       "  background: linear-gradient(90deg, #daf08d 59.6%, transparent 59.6%);\n",
       "}\n",
       "#T_8aee4_row3_col0 {\n",
       "  width: 10em;\n",
       "  background: linear-gradient(90deg, #c01a27 5.8%, transparent 5.8%);\n",
       "}\n",
       "#T_8aee4_row4_col0 {\n",
       "  width: 10em;\n",
       "  background: linear-gradient(90deg, #b50f26 3.3%, transparent 3.3%);\n",
       "}\n",
       "#T_8aee4_row5_col0 {\n",
       "  width: 10em;\n",
       "  background: linear-gradient(90deg, #b50f26 3.2%, transparent 3.2%);\n",
       "}\n",
       "#T_8aee4_row6_col0 {\n",
       "  width: 10em;\n",
       "  background: linear-gradient(90deg, #a90426 1.0%, transparent 1.0%);\n",
       "}\n",
       "</style>\n",
       "<table id=\"T_8aee4\">\n",
       "  <thead>\n",
       "    <tr>\n",
       "      <th class=\"blank level0\" >&nbsp;</th>\n",
       "      <th id=\"T_8aee4_level0_col0\" class=\"col_heading level0 col0\" >Mutual Information</th>\n",
       "    </tr>\n",
       "  </thead>\n",
       "  <tbody>\n",
       "    <tr>\n",
       "      <th id=\"T_8aee4_level0_row0\" class=\"row_heading level0 row0\" >Duration</th>\n",
       "      <td id=\"T_8aee4_row0_col0\" class=\"data row0 col0\" >1.638776</td>\n",
       "    </tr>\n",
       "    <tr>\n",
       "      <th id=\"T_8aee4_level0_row1\" class=\"row_heading level0 row1\" >Body_Temp</th>\n",
       "      <td id=\"T_8aee4_row1_col0\" class=\"data row1 col0\" >1.117558</td>\n",
       "    </tr>\n",
       "    <tr>\n",
       "      <th id=\"T_8aee4_level0_row2\" class=\"row_heading level0 row2\" >Heart_Rate</th>\n",
       "      <td id=\"T_8aee4_row2_col0\" class=\"data row2 col0\" >0.975924</td>\n",
       "    </tr>\n",
       "    <tr>\n",
       "      <th id=\"T_8aee4_level0_row3\" class=\"row_heading level0 row3\" >Age</th>\n",
       "      <td id=\"T_8aee4_row3_col0\" class=\"data row3 col0\" >0.094534</td>\n",
       "    </tr>\n",
       "    <tr>\n",
       "      <th id=\"T_8aee4_level0_row4\" class=\"row_heading level0 row4\" >Height</th>\n",
       "      <td id=\"T_8aee4_row4_col0\" class=\"data row4 col0\" >0.053616</td>\n",
       "    </tr>\n",
       "    <tr>\n",
       "      <th id=\"T_8aee4_level0_row5\" class=\"row_heading level0 row5\" >Weight</th>\n",
       "      <td id=\"T_8aee4_row5_col0\" class=\"data row5 col0\" >0.053206</td>\n",
       "    </tr>\n",
       "    <tr>\n",
       "      <th id=\"T_8aee4_level0_row6\" class=\"row_heading level0 row6\" >Sex</th>\n",
       "      <td id=\"T_8aee4_row6_col0\" class=\"data row6 col0\" >0.015762</td>\n",
       "    </tr>\n",
       "  </tbody>\n",
       "</table>\n"
      ],
      "text/plain": [
       "<pandas.io.formats.style.Styler at 0x7f523a542450>"
      ]
     },
     "execution_count": 6,
     "metadata": {},
     "output_type": "execute_result"
    }
   ],
   "source": [
    "mutual_info = mutual_info_regression(X, y, random_state=CFG.seed)\n",
    "\n",
    "mutual_info = pd.Series(mutual_info)\n",
    "mutual_info.index = X.columns\n",
    "mutual_info = pd.DataFrame(mutual_info.sort_values(ascending=False), columns=['Mutual Information'])\n",
    "mutual_info.style.bar(subset=['Mutual Information'], cmap='RdYlGn')"
   ]
  },
  {
   "cell_type": "code",
   "execution_count": 7,
   "id": "20033065",
   "metadata": {
    "execution": {
     "iopub.execute_input": "2025-05-12T19:16:03.402572Z",
     "iopub.status.busy": "2025-05-12T19:16:03.402184Z",
     "iopub.status.idle": "2025-05-12T19:16:04.123107Z",
     "shell.execute_reply": "2025-05-12T19:16:04.121806Z"
    },
    "papermill": {
     "duration": 0.732629,
     "end_time": "2025-05-12T19:16:04.125080",
     "exception": false,
     "start_time": "2025-05-12T19:16:03.392451",
     "status": "completed"
    },
    "tags": []
   },
   "outputs": [
    {
     "data": {
      "text/html": [
       "<style type=\"text/css\">\n",
       "#T_23faf_row0_col0 {\n",
       "  width: 10em;\n",
       "  background: linear-gradient(90deg, #006837 100.0%, transparent 100.0%);\n",
       "}\n",
       "#T_23faf_row1_col0 {\n",
       "  width: 10em;\n",
       "  background: linear-gradient(90deg, #bfe47a 65.0%, transparent 65.0%);\n",
       "}\n",
       "#T_23faf_row2_col0 {\n",
       "  width: 10em;\n",
       "  background: linear-gradient(90deg, #e2f397 57.7%, transparent 57.7%);\n",
       "}\n",
       "#T_23faf_row3_col0 {\n",
       "  width: 10em;\n",
       "  background: linear-gradient(90deg, #b10b26 2.4%, transparent 2.4%);\n",
       "}\n",
       "#T_23faf_row4_col0 {\n",
       "  width: 10em;\n",
       "  background: linear-gradient(90deg, #ab0626 1.5%, transparent 1.5%);\n",
       "}\n",
       "#T_23faf_row5_col0 {\n",
       "  width: 10em;\n",
       "  background: linear-gradient(90deg, #ab0626 1.3%, transparent 1.3%);\n",
       "}\n",
       "#T_23faf_row6_col0 {\n",
       "  width: 10em;\n",
       "  background: linear-gradient(90deg, #a70226 0.5%, transparent 0.5%);\n",
       "}\n",
       "</style>\n",
       "<table id=\"T_23faf\">\n",
       "  <thead>\n",
       "    <tr>\n",
       "      <th class=\"blank level0\" >&nbsp;</th>\n",
       "      <th id=\"T_23faf_level0_col0\" class=\"col_heading level0 col0\" >Mutual Information</th>\n",
       "    </tr>\n",
       "  </thead>\n",
       "  <tbody>\n",
       "    <tr>\n",
       "      <th id=\"T_23faf_level0_row0\" class=\"row_heading level0 row0\" >Duration</th>\n",
       "      <td id=\"T_23faf_row0_col0\" class=\"data row0 col0\" >1.506871</td>\n",
       "    </tr>\n",
       "    <tr>\n",
       "      <th id=\"T_23faf_level0_row1\" class=\"row_heading level0 row1\" >Body_Temp</th>\n",
       "      <td id=\"T_23faf_row1_col0\" class=\"data row1 col0\" >0.979288</td>\n",
       "    </tr>\n",
       "    <tr>\n",
       "      <th id=\"T_23faf_level0_row2\" class=\"row_heading level0 row2\" >Heart_Rate</th>\n",
       "      <td id=\"T_23faf_row2_col0\" class=\"data row2 col0\" >0.869781</td>\n",
       "    </tr>\n",
       "    <tr>\n",
       "      <th id=\"T_23faf_level0_row3\" class=\"row_heading level0 row3\" >Age</th>\n",
       "      <td id=\"T_23faf_row3_col0\" class=\"data row3 col0\" >0.036461</td>\n",
       "    </tr>\n",
       "    <tr>\n",
       "      <th id=\"T_23faf_level0_row4\" class=\"row_heading level0 row4\" >Weight</th>\n",
       "      <td id=\"T_23faf_row4_col0\" class=\"data row4 col0\" >0.022123</td>\n",
       "    </tr>\n",
       "    <tr>\n",
       "      <th id=\"T_23faf_level0_row5\" class=\"row_heading level0 row5\" >Sex</th>\n",
       "      <td id=\"T_23faf_row5_col0\" class=\"data row5 col0\" >0.018845</td>\n",
       "    </tr>\n",
       "    <tr>\n",
       "      <th id=\"T_23faf_level0_row6\" class=\"row_heading level0 row6\" >Height</th>\n",
       "      <td id=\"T_23faf_row6_col0\" class=\"data row6 col0\" >0.008272</td>\n",
       "    </tr>\n",
       "  </tbody>\n",
       "</table>\n"
      ],
      "text/plain": [
       "<pandas.io.formats.style.Styler at 0x7f523c9602d0>"
      ]
     },
     "execution_count": 7,
     "metadata": {},
     "output_type": "execute_result"
    }
   ],
   "source": [
    "mutual_info = mutual_info_regression(X_original, y_original, random_state=CFG.seed)\n",
    "\n",
    "mutual_info = pd.Series(mutual_info)\n",
    "mutual_info.index = X_original.columns\n",
    "mutual_info = pd.DataFrame(mutual_info.sort_values(ascending=False), columns=['Mutual Information'])\n",
    "mutual_info.style.bar(subset=['Mutual Information'], cmap='RdYlGn')"
   ]
  },
  {
   "cell_type": "code",
   "execution_count": 8,
   "id": "f62df724",
   "metadata": {
    "execution": {
     "iopub.execute_input": "2025-05-12T19:16:04.143998Z",
     "iopub.status.busy": "2025-05-12T19:16:04.143560Z",
     "iopub.status.idle": "2025-05-12T19:16:05.445566Z",
     "shell.execute_reply": "2025-05-12T19:16:05.444500Z"
    },
    "papermill": {
     "duration": 1.31422,
     "end_time": "2025-05-12T19:16:05.447467",
     "exception": false,
     "start_time": "2025-05-12T19:16:04.133247",
     "status": "completed"
    },
    "tags": []
   },
   "outputs": [
    {
     "data": {
      "image/png": "[encoded data removed]",
      "text/plain": [
       "<Figure size 1600x600 with 4 Axes>"
      ]
     },
     "metadata": {},
     "output_type": "display_data"
    }
   ],
   "source": [
    "sns.set_style(\"white\")\n",
    "fig, axes = plt.subplots(1, 2, figsize=(16, 6))\n",
    "\n",
    "corr_train = train.corr()\n",
    "mask_train = np.triu(np.ones_like(corr_train, dtype=bool), k=1)\n",
    "sns.heatmap(\n",
    "    data=corr_train,\n",
    "    annot=True,\n",
    "    fmt='.2f',\n",
    "    mask=mask_train,\n",
    "    square=True,\n",
    "    cmap='coolwarm',\n",
    "    cbar_kws={'shrink': .7, 'format': '%.2f'},   \n",
    "    annot_kws={'size': 8},\n",
    "    center=0,\n",
    "    ax=axes[0]\n",
    ")\n",
    "axes[0].set_title('Train')\n",
    "axes[0].tick_params(axis='both', which='major', labelsize=8)\n",
    "\n",
    "corr_orig = original.corr()\n",
    "mask_orig = np.triu(np.ones_like(corr_orig, dtype=bool), k=1)\n",
    "sns.heatmap(\n",
    "    data=corr_orig,\n",
    "    annot=True,\n",
    "    fmt='.2f',\n",
    "    mask=mask_orig,\n",
    "    square=True,\n",
    "    cmap='coolwarm',\n",
    "    cbar_kws={'shrink': .7, 'format': '%.2f'},   \n",
    "    annot_kws={'size': 8},\n",
    "    center=0,\n",
    "    ax=axes[1]\n",
    ")\n",
    "axes[1].set_title('Original')\n",
    "axes[1].tick_params(axis='both', which='major', labelsize=8)\n",
    "\n",
    "plt.tight_layout()\n",
    "plt.show()"
   ]
  },
  {
   "cell_type": "markdown",
   "id": "e6cd471a",
   "metadata": {
    "papermill": {
     "duration": 0.009057,
     "end_time": "2025-05-12T19:16:05.466316",
     "exception": false,
     "start_time": "2025-05-12T19:16:05.457259",
     "status": "completed"
    },
    "tags": []
   },
   "source": [
    "# Training base models"
   ]
  },
  {
   "cell_type": "code",
   "execution_count": 9,
   "id": "e459cda4",
   "metadata": {
    "_kg_hide-input": true,
    "_kg_hide-output": true,
    "execution": {
     "iopub.execute_input": "2025-05-12T19:16:05.486477Z",
     "iopub.status.busy": "2025-05-12T19:16:05.486117Z",
     "iopub.status.idle": "2025-05-12T19:16:05.496244Z",
     "shell.execute_reply": "2025-05-12T19:16:05.494900Z"
    },
    "papermill": {
     "duration": 0.022434,
     "end_time": "2025-05-12T19:16:05.497975",
     "exception": false,
     "start_time": "2025-05-12T19:16:05.475541",
     "status": "completed"
    },
    "tags": []
   },
   "outputs": [],
   "source": [
    "histgb_params = {\n",
    "    \"l2_regularization\": 10.412017522533768,\n",
    "    \"learning_rate\": 0.011702680619474444,\n",
    "    \"max_depth\": 59,\n",
    "    \"max_features\": 0.30616140080552673,\n",
    "    \"max_iter\": 4454,\n",
    "    \"max_leaf_nodes\": 385,\n",
    "    \"min_samples_leaf\": 50,\n",
    "    \"random_state\": 42\n",
    "}\n",
    "\n",
    "lgbm_params = {\n",
    "    \"boosting_type\": \"gbdt\",\n",
    "    \"colsample_bytree\": 0.8213924491907012,\n",
    "    \"learning_rate\": 0.059976685297931195,\n",
    "    \"min_child_samples\": 10,\n",
    "    \"min_child_weight\": 0.5425237767880097,\n",
    "    \"n_estimators\": 50000,\n",
    "    \"n_jobs\": -1,\n",
    "    \"num_leaves\": 89,\n",
    "    \"random_state\": 42,\n",
    "    \"reg_alpha\": 2.0325709613371545,\n",
    "    \"reg_lambda\": 87.27971117911044,\n",
    "    \"subsample\": 0.6452823633939004,\n",
    "    \"verbose\": -1\n",
    "}\n",
    "\n",
    "lgbm_goss_params = {\n",
    "    \"boosting_type\": \"goss\",\n",
    "    \"colsample_bytree\": 0.9068724002629094,\n",
    "    \"learning_rate\": 0.06459027654473874,\n",
    "    \"min_child_samples\": 39,\n",
    "    \"min_child_weight\": 0.5337673729810578,\n",
    "    \"n_estimators\": 50000,\n",
    "    \"n_jobs\": -1,\n",
    "    \"num_leaves\": 13,\n",
    "    \"random_state\": 42,\n",
    "    \"reg_alpha\": 1.603969498256519,\n",
    "    \"reg_lambda\": 10.806488455621444,\n",
    "    \"subsample\": 0.5966412222358356,\n",
    "    \"verbose\": -1\n",
    "}\n",
    "\n",
    "xgb_params = {\n",
    "    \"colsample_bylevel\": 0.8606487417581108,\n",
    "    \"colsample_bynode\": 0.9410596660335436,\n",
    "    \"colsample_bytree\": 0.9407540036296737,\n",
    "    \"early_stopping_rounds\": 100,\n",
    "    \"eval_metric\": \"rmse\",\n",
    "    \"gamma\": 0.023260595738991977,\n",
    "    \"learning_rate\": 0.03669372905801298,\n",
    "    \"max_depth\": 11,\n",
    "    \"max_leaves\": 51,\n",
    "    \"min_child_weight\": 96,\n",
    "    \"n_estimators\": 50000,\n",
    "    \"n_jobs\": -1,\n",
    "    \"random_state\": 42,\n",
    "    \"reg_alpha\": 2.953205886504917,\n",
    "    \"reg_lambda\": 67.64147033446291,\n",
    "    \"subsample\": 0.6973241930754311,\n",
    "    \"verbosity\": 0\n",
    "}\n",
    "\n",
    "cb_params = {\n",
    "    \"border_count\": 88,\n",
    "    \"colsample_bylevel\": 0.7903437608890396,\n",
    "    \"depth\": 8,\n",
    "    \"eval_metric\": \"RMSE\",\n",
    "    \"iterations\": 50000,\n",
    "    \"l2_leaf_reg\": 6.065104074215131,\n",
    "    \"learning_rate\": 0.030946464122148992,\n",
    "    \"min_child_samples\": 138,\n",
    "    \"random_state\": 42,\n",
    "    \"random_strength\": 0.035251008593976785,\n",
    "    \"verbose\": False\n",
    "}\n",
    "\n",
    "ydf_params = {\n",
    "    \"num_trees\": 1000,\n",
    "    \"max_depth\": 8\n",
    "}"
   ]
  },
  {
   "cell_type": "code",
   "execution_count": 10,
   "id": "9bc39c19",
   "metadata": {
    "execution": {
     "iopub.execute_input": "2025-05-12T19:16:05.518610Z",
     "iopub.status.busy": "2025-05-12T19:16:05.518264Z",
     "iopub.status.idle": "2025-05-12T19:16:05.523058Z",
     "shell.execute_reply": "2025-05-12T19:16:05.522113Z"
    },
    "papermill": {
     "duration": 0.017224,
     "end_time": "2025-05-12T19:16:05.524768",
     "exception": false,
     "start_time": "2025-05-12T19:16:05.507544",
     "status": "completed"
    },
    "tags": []
   },
   "outputs": [],
   "source": [
    "scores = {}\n",
    "oof_preds = {}\n",
    "test_preds = {}"
   ]
  },
  {
   "cell_type": "markdown",
   "id": "508e728f",
   "metadata": {
    "papermill": {
     "duration": 0.010097,
     "end_time": "2025-05-12T19:16:05.544865",
     "exception": false,
     "start_time": "2025-05-12T19:16:05.534768",
     "status": "completed"
    },
    "tags": []
   },
   "source": [
    "## HistGradientBoosting"
   ]
  },
  {
   "cell_type": "code",
   "execution_count": 11,
   "id": "e5fc0267",
   "metadata": {
    "execution": {
     "iopub.execute_input": "2025-05-12T19:16:05.564684Z",
     "iopub.status.busy": "2025-05-12T19:16:05.564344Z",
     "iopub.status.idle": "2025-05-12T19:24:30.456281Z",
     "shell.execute_reply": "2025-05-12T19:24:30.455198Z"
    },
    "papermill": {
     "duration": 504.904422,
     "end_time": "2025-05-12T19:24:30.458630",
     "exception": false,
     "start_time": "2025-05-12T19:16:05.554208",
     "status": "completed"
    },
    "tags": []
   },
   "outputs": [
    {
     "name": "stdout",
     "output_type": "stream",
     "text": [
      "Training HistGradientBoostingRegressor\n",
      "\n",
      "--- Fold 0 - root_mean_squared_error: 0.0597 - Time: 89.32 s\n",
      "--- Fold 1 - root_mean_squared_error: 0.0607 - Time: 81.66 s\n",
      "--- Fold 2 - root_mean_squared_error: 0.0600 - Time: 88.61 s\n",
      "--- Fold 3 - root_mean_squared_error: 0.0588 - Time: 81.68 s\n",
      "--- Fold 4 - root_mean_squared_error: 0.0606 - Time: 77.26 s\n",
      "\n",
      "------ Overall root_mean_squared_error: 0.0600 - Mean root_mean_squared_error: 0.0600 ± 0.0007 - Time: 420.31 s\n"
     ]
    }
   ],
   "source": [
    "histgb_trainer = Trainer(\n",
    "    HistGradientBoostingRegressor(**histgb_params),\n",
    "    cv=CFG.cv,\n",
    "    metric=CFG.metric,\n",
    "    task=\"regression\"\n",
    ")\n",
    "\n",
    "histgb_trainer.fit(X, y, extra_X=X_original, extra_y=y_original)\n",
    "\n",
    "scores[\"HistGB\"] = histgb_trainer.fold_scores\n",
    "oof_preds[\"HistGB\"] = histgb_trainer.oof_preds\n",
    "test_preds[\"HistGB\"] = histgb_trainer.predict(X_test)"
   ]
  },
  {
   "cell_type": "markdown",
   "id": "101607d4",
   "metadata": {
    "papermill": {
     "duration": 0.009384,
     "end_time": "2025-05-12T19:24:30.478278",
     "exception": false,
     "start_time": "2025-05-12T19:24:30.468894",
     "status": "completed"
    },
    "tags": []
   },
   "source": [
    "## LightGBM (gbdt)"
   ]
  },
  {
   "cell_type": "code",
   "execution_count": 12,
   "id": "5df9ef20",
   "metadata": {
    "execution": {
     "iopub.execute_input": "2025-05-12T19:24:30.498615Z",
     "iopub.status.busy": "2025-05-12T19:24:30.498259Z",
     "iopub.status.idle": "2025-05-12T19:28:47.107513Z",
     "shell.execute_reply": "2025-05-12T19:28:47.106605Z"
    },
    "papermill": {
     "duration": 256.622082,
     "end_time": "2025-05-12T19:28:47.109777",
     "exception": false,
     "start_time": "2025-05-12T19:24:30.487695",
     "status": "completed"
    },
    "tags": []
   },
   "outputs": [
    {
     "name": "stdout",
     "output_type": "stream",
     "text": [
      "Training LGBMRegressor\n",
      "\n",
      "Training until validation scores don't improve for 100 rounds\n",
      "[1000]\tvalid_0's rmse: 0.0598905\tvalid_0's l2: 0.00358687\n",
      "Early stopping, best iteration is:\n",
      "[1358]\tvalid_0's rmse: 0.0598093\tvalid_0's l2: 0.00357715\n",
      "--- Fold 0 - root_mean_squared_error: 0.0598 - Time: 41.00 s\n",
      "\n",
      "Training until validation scores don't improve for 100 rounds\n",
      "[1000]\tvalid_0's rmse: 0.060384\tvalid_0's l2: 0.00364623\n",
      "Early stopping, best iteration is:\n",
      "[1323]\tvalid_0's rmse: 0.060328\tvalid_0's l2: 0.00363947\n",
      "--- Fold 1 - root_mean_squared_error: 0.0603 - Time: 39.73 s\n",
      "\n",
      "Training until validation scores don't improve for 100 rounds\n",
      "[1000]\tvalid_0's rmse: 0.0599937\tvalid_0's l2: 0.00359925\n",
      "Early stopping, best iteration is:\n",
      "[1356]\tvalid_0's rmse: 0.0599704\tvalid_0's l2: 0.00359645\n",
      "--- Fold 2 - root_mean_squared_error: 0.0600 - Time: 40.30 s\n",
      "\n",
      "Training until validation scores don't improve for 100 rounds\n",
      "[1000]\tvalid_0's rmse: 0.05922\tvalid_0's l2: 0.003507\n",
      "Early stopping, best iteration is:\n",
      "[1538]\tvalid_0's rmse: 0.0591527\tvalid_0's l2: 0.00349905\n",
      "--- Fold 3 - root_mean_squared_error: 0.0592 - Time: 42.83 s\n",
      "\n",
      "Training until validation scores don't improve for 100 rounds\n",
      "Early stopping, best iteration is:\n",
      "[831]\tvalid_0's rmse: 0.0607142\tvalid_0's l2: 0.00368622\n",
      "--- Fold 4 - root_mean_squared_error: 0.0607 - Time: 24.83 s\n",
      "\n",
      "\n",
      "------ Overall root_mean_squared_error: 0.0600 - Mean root_mean_squared_error: 0.0600 ± 0.0005 - Time: 190.47 s\n"
     ]
    }
   ],
   "source": [
    "lgbm_trainer = Trainer(\n",
    "    LGBMRegressor(**lgbm_params),\n",
    "    cv=CFG.cv,\n",
    "    metric=CFG.metric,\n",
    "    use_early_stopping=True,\n",
    "    task=\"regression\"\n",
    ")\n",
    "\n",
    "fit_args = {\n",
    "    \"eval_metric\": \"rmse\",\n",
    "    \"callbacks\": [\n",
    "        log_evaluation(period=1000), \n",
    "        early_stopping(stopping_rounds=100)\n",
    "    ]\n",
    "}\n",
    "\n",
    "lgbm_trainer.fit(X, y, fit_args=fit_args, extra_X=X_original, extra_y=y_original)\n",
    "\n",
    "scores[\"LightGBM (gbdt)\"] = lgbm_trainer.fold_scores\n",
    "oof_preds[\"LightGBM (gbdt)\"] = lgbm_trainer.oof_preds\n",
    "test_preds[\"LightGBM (gbdt)\"] = lgbm_trainer.predict(X_test)"
   ]
  },
  {
   "cell_type": "markdown",
   "id": "4fb8f774",
   "metadata": {
    "papermill": {
     "duration": 0.010353,
     "end_time": "2025-05-12T19:28:47.131191",
     "exception": false,
     "start_time": "2025-05-12T19:28:47.120838",
     "status": "completed"
    },
    "tags": []
   },
   "source": [
    "## LightGBM (goss)"
   ]
  },
  {
   "cell_type": "code",
   "execution_count": 13,
   "id": "dd5ee924",
   "metadata": {
    "execution": {
     "iopub.execute_input": "2025-05-12T19:28:47.154285Z",
     "iopub.status.busy": "2025-05-12T19:28:47.153899Z",
     "iopub.status.idle": "2025-05-12T19:39:05.471491Z",
     "shell.execute_reply": "2025-05-12T19:39:05.470571Z"
    },
    "papermill": {
     "duration": 618.331734,
     "end_time": "2025-05-12T19:39:05.473318",
     "exception": false,
     "start_time": "2025-05-12T19:28:47.141584",
     "status": "completed"
    },
    "tags": []
   },
   "outputs": [
    {
     "name": "stdout",
     "output_type": "stream",
     "text": [
      "Training LGBMRegressor\n",
      "\n",
      "Training until validation scores don't improve for 100 rounds\n",
      "[1000]\tvalid_0's rmse: 0.0601451\tvalid_0's l2: 0.00361743\n",
      "[2000]\tvalid_0's rmse: 0.0597935\tvalid_0's l2: 0.00357526\n",
      "[3000]\tvalid_0's rmse: 0.0596718\tvalid_0's l2: 0.00356073\n",
      "Early stopping, best iteration is:\n",
      "[3696]\tvalid_0's rmse: 0.0596379\tvalid_0's l2: 0.00355668\n",
      "--- Fold 0 - root_mean_squared_error: 0.0596 - Time: 105.85 s\n",
      "\n",
      "Training until validation scores don't improve for 100 rounds\n",
      "[1000]\tvalid_0's rmse: 0.0608205\tvalid_0's l2: 0.00369914\n",
      "[2000]\tvalid_0's rmse: 0.0604416\tvalid_0's l2: 0.00365319\n",
      "[3000]\tvalid_0's rmse: 0.0603428\tvalid_0's l2: 0.00364125\n",
      "[4000]\tvalid_0's rmse: 0.0603032\tvalid_0's l2: 0.00363648\n",
      "Early stopping, best iteration is:\n",
      "[4184]\tvalid_0's rmse: 0.0602916\tvalid_0's l2: 0.00363508\n",
      "--- Fold 1 - root_mean_squared_error: 0.0603 - Time: 116.99 s\n",
      "\n",
      "Training until validation scores don't improve for 100 rounds\n",
      "[1000]\tvalid_0's rmse: 0.0605033\tvalid_0's l2: 0.00366064\n",
      "[2000]\tvalid_0's rmse: 0.060279\tvalid_0's l2: 0.00363356\n",
      "Early stopping, best iteration is:\n",
      "[2724]\tvalid_0's rmse: 0.0601992\tvalid_0's l2: 0.00362395\n",
      "--- Fold 2 - root_mean_squared_error: 0.0602 - Time: 77.13 s\n",
      "\n",
      "Training until validation scores don't improve for 100 rounds\n",
      "[1000]\tvalid_0's rmse: 0.0595141\tvalid_0's l2: 0.00354193\n",
      "[2000]\tvalid_0's rmse: 0.0591383\tvalid_0's l2: 0.00349734\n",
      "[3000]\tvalid_0's rmse: 0.0589996\tvalid_0's l2: 0.00348095\n",
      "Early stopping, best iteration is:\n",
      "[3237]\tvalid_0's rmse: 0.058973\tvalid_0's l2: 0.00347781\n",
      "--- Fold 3 - root_mean_squared_error: 0.0590 - Time: 90.67 s\n",
      "\n",
      "Training until validation scores don't improve for 100 rounds\n",
      "[1000]\tvalid_0's rmse: 0.0609543\tvalid_0's l2: 0.00371543\n",
      "[2000]\tvalid_0's rmse: 0.0606306\tvalid_0's l2: 0.00367608\n",
      "[3000]\tvalid_0's rmse: 0.0605464\tvalid_0's l2: 0.00366587\n",
      "[4000]\tvalid_0's rmse: 0.0604994\tvalid_0's l2: 0.00366018\n",
      "Early stopping, best iteration is:\n",
      "[4225]\tvalid_0's rmse: 0.0604958\tvalid_0's l2: 0.00365974\n",
      "--- Fold 4 - root_mean_squared_error: 0.0605 - Time: 117.22 s\n",
      "\n",
      "\n",
      "------ Overall root_mean_squared_error: 0.0599 - Mean root_mean_squared_error: 0.0599 ± 0.0006 - Time: 509.69 s\n"
     ]
    }
   ],
   "source": [
    "lgbm_goss_trainer = Trainer(\n",
    "    LGBMRegressor(**lgbm_goss_params),\n",
    "    cv=CFG.cv,\n",
    "    metric=CFG.metric,\n",
    "    use_early_stopping=True,\n",
    "    task=\"regression\"\n",
    ")\n",
    "\n",
    "fit_args = {\n",
    "    \"eval_metric\": \"rmse\",\n",
    "    \"callbacks\": [\n",
    "        log_evaluation(period=1000), \n",
    "        early_stopping(stopping_rounds=100)\n",
    "    ]\n",
    "}\n",
    "\n",
    "lgbm_goss_trainer.fit(X, y, fit_args=fit_args, extra_X=X_original, extra_y=y_original)\n",
    "\n",
    "scores[\"LightGBM (goss)\"] = lgbm_goss_trainer.fold_scores\n",
    "oof_preds[\"LightGBM (goss)\"] = lgbm_goss_trainer.oof_preds\n",
    "test_preds[\"LightGBM (goss)\"] = lgbm_goss_trainer.predict(X_test)"
   ]
  },
  {
   "cell_type": "markdown",
   "id": "f9d86813",
   "metadata": {
    "papermill": {
     "duration": 0.011886,
     "end_time": "2025-05-12T19:39:05.498098",
     "exception": false,
     "start_time": "2025-05-12T19:39:05.486212",
     "status": "completed"
    },
    "tags": []
   },
   "source": [
    "## XGBoost"
   ]
  },
  {
   "cell_type": "code",
   "execution_count": 14,
   "id": "5fddb809",
   "metadata": {
    "execution": {
     "iopub.execute_input": "2025-05-12T19:39:05.523486Z",
     "iopub.status.busy": "2025-05-12T19:39:05.523111Z",
     "iopub.status.idle": "2025-05-12T19:45:57.832834Z",
     "shell.execute_reply": "2025-05-12T19:45:57.831798Z"
    },
    "papermill": {
     "duration": 412.324823,
     "end_time": "2025-05-12T19:45:57.834698",
     "exception": false,
     "start_time": "2025-05-12T19:39:05.509875",
     "status": "completed"
    },
    "tags": []
   },
   "outputs": [
    {
     "name": "stdout",
     "output_type": "stream",
     "text": [
      "Training XGBRegressor\n",
      "\n",
      "[0]\tvalidation_0-rmse:0.93123\n",
      "[1000]\tvalidation_0-rmse:0.06078\n",
      "[2000]\tvalidation_0-rmse:0.06071\n",
      "[3000]\tvalidation_0-rmse:0.06066\n",
      "[3938]\tvalidation_0-rmse:0.06064\n",
      "--- Fold 0 - root_mean_squared_error: 0.0606 - Time: 100.15 s\n",
      "\n",
      "[0]\tvalidation_0-rmse:0.93046\n",
      "[1000]\tvalidation_0-rmse:0.06171\n",
      "[2000]\tvalidation_0-rmse:0.06160\n",
      "[2804]\tvalidation_0-rmse:0.06155\n",
      "--- Fold 1 - root_mean_squared_error: 0.0616 - Time: 73.41 s\n",
      "\n",
      "[0]\tvalidation_0-rmse:0.92772\n",
      "[1000]\tvalidation_0-rmse:0.06072\n",
      "[2000]\tvalidation_0-rmse:0.06065\n",
      "[2925]\tvalidation_0-rmse:0.06063\n",
      "--- Fold 2 - root_mean_squared_error: 0.0606 - Time: 77.06 s\n",
      "\n",
      "[0]\tvalidation_0-rmse:0.92907\n",
      "[1000]\tvalidation_0-rmse:0.05960\n",
      "[2000]\tvalidation_0-rmse:0.05955\n",
      "[3000]\tvalidation_0-rmse:0.05953\n",
      "[3010]\tvalidation_0-rmse:0.05953\n",
      "--- Fold 3 - root_mean_squared_error: 0.0595 - Time: 81.05 s\n",
      "\n",
      "[0]\tvalidation_0-rmse:0.92904\n",
      "[1000]\tvalidation_0-rmse:0.06135\n",
      "[2000]\tvalidation_0-rmse:0.06129\n",
      "[2360]\tvalidation_0-rmse:0.06128\n",
      "--- Fold 4 - root_mean_squared_error: 0.0613 - Time: 63.95 s\n",
      "\n",
      "\n",
      "------ Overall root_mean_squared_error: 0.0607 - Mean root_mean_squared_error: 0.0607 ± 0.0007 - Time: 397.42 s\n"
     ]
    }
   ],
   "source": [
    "xgb_trainer = Trainer(\n",
    "    XGBRegressor(**xgb_params),\n",
    "    cv=CFG.cv,\n",
    "    metric=CFG.metric,\n",
    "    use_early_stopping=True,\n",
    "    task=\"regression\"\n",
    ")\n",
    "\n",
    "fit_args = {\n",
    "    \"verbose\": 1000\n",
    "}\n",
    "\n",
    "xgb_trainer.fit(X, y, fit_args=fit_args, extra_X=X_original, extra_y=y_original)\n",
    "\n",
    "scores[\"XGBoost\"] = xgb_trainer.fold_scores\n",
    "oof_preds[\"XGBoost\"] = xgb_trainer.oof_preds\n",
    "test_preds[\"XGBoost\"] = xgb_trainer.predict(X_test)"
   ]
  },
  {
   "cell_type": "markdown",
   "id": "5b96fedc",
   "metadata": {
    "papermill": {
     "duration": 0.013409,
     "end_time": "2025-05-12T19:45:57.861910",
     "exception": false,
     "start_time": "2025-05-12T19:45:57.848501",
     "status": "completed"
    },
    "tags": []
   },
   "source": [
    "## CatBoost"
   ]
  },
  {
   "cell_type": "code",
   "execution_count": 15,
   "id": "b62767ea",
   "metadata": {
    "execution": {
     "iopub.execute_input": "2025-05-12T19:45:57.890491Z",
     "iopub.status.busy": "2025-05-12T19:45:57.890142Z",
     "iopub.status.idle": "2025-05-12T19:56:40.705099Z",
     "shell.execute_reply": "2025-05-12T19:56:40.704001Z"
    },
    "papermill": {
     "duration": 642.83125,
     "end_time": "2025-05-12T19:56:40.706931",
     "exception": false,
     "start_time": "2025-05-12T19:45:57.875681",
     "status": "completed"
    },
    "tags": []
   },
   "outputs": [
    {
     "name": "stdout",
     "output_type": "stream",
     "text": [
      "Training CatBoostRegressor\n",
      "\n",
      "0:\tlearn: 0.9345508\ttest: 0.9368764\tbest: 0.9368764 (0)\ttotal: 125ms\tremaining: 1h 44m 7s\n",
      "1000:\tlearn: 0.0573208\ttest: 0.0591581\tbest: 0.0591581 (1000)\ttotal: 54.2s\tremaining: 44m 12s\n",
      "Stopped by overfitting detector  (100 iterations wait)\n",
      "\n",
      "bestTest = 0.05902910702\n",
      "bestIteration = 1873\n",
      "\n",
      "Shrink model to first 1874 iterations.\n",
      "--- Fold 0 - root_mean_squared_error: 0.0590 - Time: 106.68 s\n",
      "\n",
      "0:\tlearn: 0.9347434\ttest: 0.9360404\tbest: 0.9360404 (0)\ttotal: 67.6ms\tremaining: 56m 21s\n",
      "1000:\tlearn: 0.0572382\ttest: 0.0601504\tbest: 0.0601504 (1000)\ttotal: 53.9s\tremaining: 43m 59s\n",
      "2000:\tlearn: 0.0561386\ttest: 0.0599487\tbest: 0.0599480 (1995)\ttotal: 1m 47s\tremaining: 42m 59s\n",
      "Stopped by overfitting detector  (100 iterations wait)\n",
      "\n",
      "bestTest = 0.05990199703\n",
      "bestIteration = 2882\n",
      "\n",
      "Shrink model to first 2883 iterations.\n",
      "--- Fold 1 - root_mean_squared_error: 0.0599 - Time: 161.59 s\n",
      "\n",
      "0:\tlearn: 0.9354125\ttest: 0.9332895\tbest: 0.9332895 (0)\ttotal: 67.6ms\tremaining: 56m 21s\n",
      "1000:\tlearn: 0.0572637\ttest: 0.0598542\tbest: 0.0598541 (999)\ttotal: 53.7s\tremaining: 43m 47s\n",
      "Stopped by overfitting detector  (100 iterations wait)\n",
      "\n",
      "bestTest = 0.05975218232\n",
      "bestIteration = 1479\n",
      "\n",
      "Shrink model to first 1480 iterations.\n",
      "--- Fold 2 - root_mean_squared_error: 0.0598 - Time: 84.90 s\n",
      "\n",
      "0:\tlearn: 0.9350833\ttest: 0.9346433\tbest: 0.9346433 (0)\ttotal: 68.5ms\tremaining: 57m 5s\n",
      "1000:\tlearn: 0.0574498\ttest: 0.0589259\tbest: 0.0589258 (999)\ttotal: 54.1s\tremaining: 44m 6s\n",
      "2000:\tlearn: 0.0563505\ttest: 0.0586961\tbest: 0.0586961 (2000)\ttotal: 1m 47s\tremaining: 43m\n",
      "3000:\tlearn: 0.0555866\ttest: 0.0586184\tbest: 0.0586168 (2992)\ttotal: 2m 39s\tremaining: 41m 38s\n",
      "Stopped by overfitting detector  (100 iterations wait)\n",
      "\n",
      "bestTest = 0.05859500494\n",
      "bestIteration = 3338\n",
      "\n",
      "Shrink model to first 3339 iterations.\n",
      "--- Fold 3 - root_mean_squared_error: 0.0586 - Time: 183.65 s\n",
      "\n",
      "0:\tlearn: 0.9350872\ttest: 0.9346212\tbest: 0.9346212 (0)\ttotal: 67.2ms\tremaining: 56m\n",
      "1000:\tlearn: 0.0571182\ttest: 0.0604896\tbest: 0.0604895 (999)\ttotal: 54s\tremaining: 44m 4s\n",
      "Stopped by overfitting detector  (100 iterations wait)\n",
      "\n",
      "bestTest = 0.06036472327\n",
      "bestIteration = 1806\n",
      "\n",
      "Shrink model to first 1807 iterations.\n",
      "--- Fold 4 - root_mean_squared_error: 0.0604 - Time: 102.38 s\n",
      "\n",
      "\n",
      "------ Overall root_mean_squared_error: 0.0595 - Mean root_mean_squared_error: 0.0595 ± 0.0006 - Time: 641.04 s\n"
     ]
    }
   ],
   "source": [
    "cb_trainer = Trainer(\n",
    "    CatBoostRegressor(**cb_params),\n",
    "    cv=CFG.cv,\n",
    "    metric=CFG.metric,\n",
    "    use_early_stopping=True,\n",
    "    task=\"regression\"\n",
    ")\n",
    "\n",
    "fit_args = {\n",
    "    \"verbose\": 1000,\n",
    "    \"early_stopping_rounds\": 100,\n",
    "    \"use_best_model\": True\n",
    "}\n",
    "\n",
    "cb_trainer.fit(X, y, fit_args=fit_args, extra_X=X_original, extra_y=y_original)\n",
    "\n",
    "scores[\"CatBoost\"] = cb_trainer.fold_scores\n",
    "oof_preds[\"CatBoost\"] = cb_trainer.oof_preds\n",
    "test_preds[\"CatBoost\"] = cb_trainer.predict(X_test)"
   ]
  },
  {
   "cell_type": "markdown",
   "id": "ab830c64",
   "metadata": {
    "papermill": {
     "duration": 0.014939,
     "end_time": "2025-05-12T19:56:40.737416",
     "exception": false,
     "start_time": "2025-05-12T19:56:40.722477",
     "status": "completed"
    },
    "tags": []
   },
   "source": [
    "## AutoGluon"
   ]
  },
  {
   "cell_type": "code",
   "execution_count": 16,
   "id": "5e08426c",
   "metadata": {
    "execution": {
     "iopub.execute_input": "2025-05-12T19:56:40.770105Z",
     "iopub.status.busy": "2025-05-12T19:56:40.768921Z",
     "iopub.status.idle": "2025-05-12T19:56:41.060503Z",
     "shell.execute_reply": "2025-05-12T19:56:41.059650Z"
    },
    "papermill": {
     "duration": 0.310009,
     "end_time": "2025-05-12T19:56:41.062636",
     "exception": false,
     "start_time": "2025-05-12T19:56:40.752627",
     "status": "completed"
    },
    "tags": []
   },
   "outputs": [],
   "source": [
    "oof_preds_files = glob.glob(f'/kaggle/input/s05e05-calorie-expenditure-prediction-automl/*_oof_preds_*.pkl')\n",
    "test_preds_files = glob.glob(f'/kaggle/input/s05e05-calorie-expenditure-prediction-automl/*_test_preds_*.pkl')\n",
    "\n",
    "ag_oof_preds = np.log1p(joblib.load(oof_preds_files[0]))\n",
    "ag_test_preds = np.log1p(joblib.load(test_preds_files[0]))\n",
    "\n",
    "ag_scores = []\n",
    "split = KFold(n_splits=CFG.n_folds, random_state=CFG.seed, shuffle=True).split(X, y)\n",
    "for _, val_idx in split:\n",
    "    y_val = y[val_idx]\n",
    "    y_preds = ag_oof_preds[val_idx]   \n",
    "    score = root_mean_squared_error(y_preds, y_val)\n",
    "    ag_scores.append(score)\n",
    "    \n",
    "oof_preds[\"AutoGluon\"], test_preds[\"AutoGluon\"], scores[\"AutoGluon\"] = ag_oof_preds, ag_test_preds, ag_scores"
   ]
  },
  {
   "cell_type": "markdown",
   "id": "c4ec15ed",
   "metadata": {
    "papermill": {
     "duration": 0.015667,
     "end_time": "2025-05-12T19:56:41.094584",
     "exception": false,
     "start_time": "2025-05-12T19:56:41.078917",
     "status": "completed"
    },
    "tags": []
   },
   "source": [
    "## Yggdrasil"
   ]
  },
  {
   "cell_type": "code",
   "execution_count": 17,
   "id": "2e4c30a0",
   "metadata": {
    "execution": {
     "iopub.execute_input": "2025-05-12T19:56:41.126769Z",
     "iopub.status.busy": "2025-05-12T19:56:41.126422Z",
     "iopub.status.idle": "2025-05-12T19:56:41.135060Z",
     "shell.execute_reply": "2025-05-12T19:56:41.133787Z"
    },
    "papermill": {
     "duration": 0.026945,
     "end_time": "2025-05-12T19:56:41.136816",
     "exception": false,
     "start_time": "2025-05-12T19:56:41.109871",
     "status": "completed"
    },
    "tags": []
   },
   "outputs": [],
   "source": [
    "def YDFRegressor(learner_class):\n",
    "\n",
    "    class YDFXRegressor(BaseEstimator, RegressorMixin):\n",
    "\n",
    "        def __init__(self, params={}):\n",
    "            self.params = params\n",
    "\n",
    "        def fit(self, X, y):\n",
    "            assert isinstance(X, pd.DataFrame)\n",
    "            assert isinstance(y, pd.Series)\n",
    "            target = y.name\n",
    "            params = self.params.copy()\n",
    "            params['label'] = target\n",
    "            params['task'] = ydf.Task.REGRESSION\n",
    "            X = pd.concat([X, y], axis=1)\n",
    "            with contextlib.redirect_stderr(io.StringIO()), contextlib.redirect_stdout(io.StringIO()):\n",
    "                self.model = learner_class(**params).train(X)\n",
    "            return self\n",
    "\n",
    "        def predict(self, X):\n",
    "            assert isinstance(X, pd.DataFrame)\n",
    "            with contextlib.redirect_stderr(io.StringIO()), contextlib.redirect_stdout(io.StringIO()):\n",
    "                return self.model.predict(X)\n",
    "\n",
    "    return YDFXRegressor"
   ]
  },
  {
   "cell_type": "code",
   "execution_count": 18,
   "id": "ab86f83c",
   "metadata": {
    "execution": {
     "iopub.execute_input": "2025-05-12T19:56:41.168845Z",
     "iopub.status.busy": "2025-05-12T19:56:41.168515Z",
     "iopub.status.idle": "2025-05-12T20:04:31.359677Z",
     "shell.execute_reply": "2025-05-12T20:04:31.358394Z"
    },
    "papermill": {
     "duration": 470.209361,
     "end_time": "2025-05-12T20:04:31.361649",
     "exception": false,
     "start_time": "2025-05-12T19:56:41.152288",
     "status": "completed"
    },
    "tags": []
   },
   "outputs": [
    {
     "name": "stdout",
     "output_type": "stream",
     "text": [
      "Training YDFXRegressor\n",
      "\n",
      "--- Fold 0 - root_mean_squared_error: 0.0607 - Time: 87.03 s\n",
      "--- Fold 1 - root_mean_squared_error: 0.0613 - Time: 76.55 s\n",
      "--- Fold 2 - root_mean_squared_error: 0.0606 - Time: 109.08 s\n",
      "--- Fold 3 - root_mean_squared_error: 0.0594 - Time: 100.65 s\n",
      "--- Fold 4 - root_mean_squared_error: 0.0614 - Time: 88.16 s\n",
      "\n",
      "------ Overall root_mean_squared_error: 0.0607 - Mean root_mean_squared_error: 0.0607 ± 0.0007 - Time: 463.28 s\n"
     ]
    }
   ],
   "source": [
    "ydf_trainer = Trainer(\n",
    "    YDFRegressor(GradientBoostedTreesLearner)(ydf_params),\n",
    "    cv=CFG.cv,\n",
    "    metric=CFG.metric,\n",
    "    task=\"regression\"\n",
    ")\n",
    "\n",
    "ydf_trainer.fit(X, y, extra_X=X_original, extra_y=y_original)\n",
    "\n",
    "scores[\"Yggdrasil\"] = ydf_trainer.fold_scores\n",
    "oof_preds[\"Yggdrasil\"] = ydf_trainer.oof_preds\n",
    "test_preds[\"Yggdrasil\"] = ydf_trainer.predict(X_test)"
   ]
  },
  {
   "cell_type": "markdown",
   "id": "7a63b9aa",
   "metadata": {
    "papermill": {
     "duration": 0.014957,
     "end_time": "2025-05-12T20:04:31.392181",
     "exception": false,
     "start_time": "2025-05-12T20:04:31.377224",
     "status": "completed"
    },
    "tags": []
   },
   "source": [
    "## Neural networks"
   ]
  },
  {
   "cell_type": "code",
   "execution_count": 19,
   "id": "d05ec10e",
   "metadata": {
    "execution": {
     "iopub.execute_input": "2025-05-12T20:04:31.425470Z",
     "iopub.status.busy": "2025-05-12T20:04:31.425065Z",
     "iopub.status.idle": "2025-05-12T20:04:32.913161Z",
     "shell.execute_reply": "2025-05-12T20:04:32.912281Z"
    },
    "papermill": {
     "duration": 1.505968,
     "end_time": "2025-05-12T20:04:32.914822",
     "exception": false,
     "start_time": "2025-05-12T20:04:31.408854",
     "status": "completed"
    },
    "tags": []
   },
   "outputs": [],
   "source": [
    "train = pd.read_csv(CFG.train_path, index_col=\"id\")\n",
    "test = pd.read_csv(CFG.test_path, index_col=\"id\")\n",
    "\n",
    "train = train.drop_duplicates(subset=train.columns, keep='first').reset_index(drop=True)\n",
    "train = train.groupby(by=test.columns.tolist())['Calories'].min().reset_index()\n",
    "\n",
    "original = pd.read_csv(CFG.original_path, index_col=\"User_ID\")\n",
    "original = original.rename(columns={\"Gender\": \"Sex\"})\n",
    "\n",
    "original = original.drop_duplicates(subset=original.columns, keep='first').reset_index(drop=True)\n",
    "original = original.groupby(by=test.columns.tolist())['Calories'].min().reset_index()\n",
    "\n",
    "X = train.drop(CFG.target, axis=1)\n",
    "y = np.log1p(train[CFG.target])\n",
    "X_test = test\n",
    "\n",
    "X_original = original.drop(CFG.target, axis=1)\n",
    "y_original = np.log1p(original[CFG.target])"
   ]
  },
  {
   "cell_type": "code",
   "execution_count": 20,
   "id": "5ec74b01",
   "metadata": {
    "execution": {
     "iopub.execute_input": "2025-05-12T20:04:32.946992Z",
     "iopub.status.busy": "2025-05-12T20:04:32.946680Z",
     "iopub.status.idle": "2025-05-12T20:04:33.429917Z",
     "shell.execute_reply": "2025-05-12T20:04:33.428778Z"
    },
    "papermill": {
     "duration": 0.502053,
     "end_time": "2025-05-12T20:04:33.431998",
     "exception": false,
     "start_time": "2025-05-12T20:04:32.929945",
     "status": "completed"
    },
    "tags": []
   },
   "outputs": [],
   "source": [
    "pipeline = make_pipeline(\n",
    "    ColumnTransformer(\n",
    "        [\n",
    "            ('one-hot-encode', OneHotEncoder(drop='first', sparse_output=False, dtype=np.float32, handle_unknown='ignore'), ['Sex']),\n",
    "            \n",
    "        ],\n",
    "        remainder=StandardScaler()\n",
    "    )\n",
    ").set_output(transform='pandas')\n",
    "\n",
    "X = pipeline.fit_transform(X, y)\n",
    "X_test = pipeline.transform(X_test)\n",
    "X_original = pipeline.transform(X_original)"
   ]
  },
  {
   "cell_type": "code",
   "execution_count": 21,
   "id": "3a2d1423",
   "metadata": {
    "execution": {
     "iopub.execute_input": "2025-05-12T20:04:33.465653Z",
     "iopub.status.busy": "2025-05-12T20:04:33.464551Z",
     "iopub.status.idle": "2025-05-12T20:04:33.471751Z",
     "shell.execute_reply": "2025-05-12T20:04:33.470597Z"
    },
    "papermill": {
     "duration": 0.025606,
     "end_time": "2025-05-12T20:04:33.473589",
     "exception": false,
     "start_time": "2025-05-12T20:04:33.447983",
     "status": "completed"
    },
    "tags": []
   },
   "outputs": [],
   "source": [
    "def get_model(meta):\n",
    "    model = keras.models.Sequential()\n",
    "    model.add(keras.layers.Input(meta[\"X_shape_\"][1:]))\n",
    "    model.add(keras.layers.Dense(256, kernel_initializer='lecun_normal', activation='selu'))\n",
    "    model.add(keras.layers.Dense(128, kernel_initializer='lecun_normal', activation='selu'))\n",
    "    model.add(keras.layers.Dense(64, kernel_initializer='lecun_normal', activation='selu'))\n",
    "    model.add(keras.layers.Dense(1))\n",
    "    return model"
   ]
  },
  {
   "cell_type": "code",
   "execution_count": 22,
   "id": "ce7a226e",
   "metadata": {
    "execution": {
     "iopub.execute_input": "2025-05-12T20:04:33.505553Z",
     "iopub.status.busy": "2025-05-12T20:04:33.505217Z",
     "iopub.status.idle": "2025-05-12T20:04:33.563428Z",
     "shell.execute_reply": "2025-05-12T20:04:33.562422Z"
    },
    "papermill": {
     "duration": 0.076515,
     "end_time": "2025-05-12T20:04:33.565335",
     "exception": false,
     "start_time": "2025-05-12T20:04:33.488820",
     "status": "completed"
    },
    "tags": []
   },
   "outputs": [
    {
     "name": "stderr",
     "output_type": "stream",
     "text": [
      "2025-05-12 20:04:33.511307: E external/local_xla/xla/stream_executor/cuda/cuda_driver.cc:152] failed call to cuInit: INTERNAL: CUDA error: Failed call to cuInit: UNKNOWN ERROR (303)\n"
     ]
    }
   ],
   "source": [
    "nn_model = KerasRegressor(\n",
    "    get_model,\n",
    "    loss=\"mean_squared_error\",\n",
    "    random_state=CFG.seed,\n",
    "    metrics=[keras.metrics.RootMeanSquaredError(name='rmse')],\n",
    "    optimizer=keras.optimizers.AdamW(learning_rate=0.001),\n",
    "    validation_batch_size=65536,\n",
    "    validation_split=0.1,\n",
    "    batch_size=1024,\n",
    "    epochs=100, \n",
    "    verbose=0,\n",
    "    callbacks=[\n",
    "        keras.callbacks.EarlyStopping(monitor='val_rmse', patience=7, restore_best_weights=True),\n",
    "        keras.callbacks.ReduceLROnPlateau(monitor='val_rmse', patience=3, factor=0.3)\n",
    "    ]\n",
    ")"
   ]
  },
  {
   "cell_type": "code",
   "execution_count": 23,
   "id": "acec7770",
   "metadata": {
    "execution": {
     "iopub.execute_input": "2025-05-12T20:04:33.597361Z",
     "iopub.status.busy": "2025-05-12T20:04:33.596905Z",
     "iopub.status.idle": "2025-05-12T20:04:33.601290Z",
     "shell.execute_reply": "2025-05-12T20:04:33.600374Z"
    },
    "papermill": {
     "duration": 0.021962,
     "end_time": "2025-05-12T20:04:33.602697",
     "exception": false,
     "start_time": "2025-05-12T20:04:33.580735",
     "status": "completed"
    },
    "tags": []
   },
   "outputs": [],
   "source": [
    "nn_bag = BaggingRegressor(\n",
    "    nn_model,\n",
    "    n_estimators=3,\n",
    "    random_state=CFG.seed,\n",
    ")"
   ]
  },
  {
   "cell_type": "code",
   "execution_count": 24,
   "id": "05fb54d3",
   "metadata": {
    "_kg_hide-output": true,
    "execution": {
     "iopub.execute_input": "2025-05-12T20:04:33.634693Z",
     "iopub.status.busy": "2025-05-12T20:04:33.634377Z",
     "iopub.status.idle": "2025-05-12T20:37:31.350326Z",
     "shell.execute_reply": "2025-05-12T20:37:31.349174Z"
    },
    "papermill": {
     "duration": 1977.734073,
     "end_time": "2025-05-12T20:37:31.352208",
     "exception": false,
     "start_time": "2025-05-12T20:04:33.618135",
     "status": "completed"
    },
    "tags": []
   },
   "outputs": [
    {
     "name": "stdout",
     "output_type": "stream",
     "text": [
      "Training BaggingRegressor\n",
      "\n"
     ]
    },
    {
     "name": "stderr",
     "output_type": "stream",
     "text": [
      "2025-05-12 20:04:34.105368: E tensorflow/core/framework/node_def_util.cc:676] NodeDef mentions attribute use_unbounded_threadpool which is not in the op definition: Op<name=MapDataset; signature=input_dataset:variant, other_arguments: -> handle:variant; attr=f:func; attr=Targuments:list(type),min=0; attr=output_types:list(type),min=1; attr=output_shapes:list(shape),min=1; attr=use_inter_op_parallelism:bool,default=true; attr=preserve_cardinality:bool,default=false; attr=force_synchronous:bool,default=false; attr=metadata:string,default=\"\"> This may be expected if your graph generating binary is newer  than this binary. Unknown attributes will be ignored. NodeDef: {{node ParallelMapDatasetV2/_16}}\n",
      "2025-05-12 20:07:49.261746: E tensorflow/core/framework/node_def_util.cc:676] NodeDef mentions attribute use_unbounded_threadpool which is not in the op definition: Op<name=MapDataset; signature=input_dataset:variant, other_arguments: -> handle:variant; attr=f:func; attr=Targuments:list(type),min=0; attr=output_types:list(type),min=1; attr=output_shapes:list(shape),min=1; attr=use_inter_op_parallelism:bool,default=true; attr=preserve_cardinality:bool,default=false; attr=force_synchronous:bool,default=false; attr=metadata:string,default=\"\"> This may be expected if your graph generating binary is newer  than this binary. Unknown attributes will be ignored. NodeDef: {{node ParallelMapDatasetV2/_16}}\n",
      "2025-05-12 20:10:03.405074: E tensorflow/core/framework/node_def_util.cc:676] NodeDef mentions attribute use_unbounded_threadpool which is not in the op definition: Op<name=MapDataset; signature=input_dataset:variant, other_arguments: -> handle:variant; attr=f:func; attr=Targuments:list(type),min=0; attr=output_types:list(type),min=1; attr=output_shapes:list(shape),min=1; attr=use_inter_op_parallelism:bool,default=true; attr=preserve_cardinality:bool,default=false; attr=force_synchronous:bool,default=false; attr=metadata:string,default=\"\"> This may be expected if your graph generating binary is newer  than this binary. Unknown attributes will be ignored. NodeDef: {{node ParallelMapDatasetV2/_16}}\n",
      "2025-05-12 20:12:02.085604: E tensorflow/core/framework/node_def_util.cc:676] NodeDef mentions attribute use_unbounded_threadpool which is not in the op definition: Op<name=MapDataset; signature=input_dataset:variant, other_arguments: -> handle:variant; attr=f:func; attr=Targuments:list(type),min=0; attr=output_types:list(type),min=1; attr=output_shapes:list(shape),min=1; attr=use_inter_op_parallelism:bool,default=true; attr=preserve_cardinality:bool,default=false; attr=force_synchronous:bool,default=false; attr=metadata:string,default=\"\"> This may be expected if your graph generating binary is newer  than this binary. Unknown attributes will be ignored. NodeDef: {{node ParallelMapDatasetV2/_14}}\n"
     ]
    },
    {
     "name": "stdout",
     "output_type": "stream",
     "text": [
      "--- Fold 0 - root_mean_squared_error: 0.0609 - Time: 450.94 s\n"
     ]
    },
    {
     "name": "stderr",
     "output_type": "stream",
     "text": [
      "2025-05-12 20:12:09.798611: E tensorflow/core/framework/node_def_util.cc:676] NodeDef mentions attribute use_unbounded_threadpool which is not in the op definition: Op<name=MapDataset; signature=input_dataset:variant, other_arguments: -> handle:variant; attr=f:func; attr=Targuments:list(type),min=0; attr=output_types:list(type),min=1; attr=output_shapes:list(shape),min=1; attr=use_inter_op_parallelism:bool,default=true; attr=preserve_cardinality:bool,default=false; attr=force_synchronous:bool,default=false; attr=metadata:string,default=\"\"> This may be expected if your graph generating binary is newer  than this binary. Unknown attributes will be ignored. NodeDef: {{node ParallelMapDatasetV2/_16}}\n",
      "2025-05-12 20:14:16.012329: E tensorflow/core/framework/node_def_util.cc:676] NodeDef mentions attribute use_unbounded_threadpool which is not in the op definition: Op<name=MapDataset; signature=input_dataset:variant, other_arguments: -> handle:variant; attr=f:func; attr=Targuments:list(type),min=0; attr=output_types:list(type),min=1; attr=output_shapes:list(shape),min=1; attr=use_inter_op_parallelism:bool,default=true; attr=preserve_cardinality:bool,default=false; attr=force_synchronous:bool,default=false; attr=metadata:string,default=\"\"> This may be expected if your graph generating binary is newer  than this binary. Unknown attributes will be ignored. NodeDef: {{node ParallelMapDatasetV2/_16}}\n",
      "2025-05-12 20:16:02.608955: E tensorflow/core/framework/node_def_util.cc:676] NodeDef mentions attribute use_unbounded_threadpool which is not in the op definition: Op<name=MapDataset; signature=input_dataset:variant, other_arguments: -> handle:variant; attr=f:func; attr=Targuments:list(type),min=0; attr=output_types:list(type),min=1; attr=output_shapes:list(shape),min=1; attr=use_inter_op_parallelism:bool,default=true; attr=preserve_cardinality:bool,default=false; attr=force_synchronous:bool,default=false; attr=metadata:string,default=\"\"> This may be expected if your graph generating binary is newer  than this binary. Unknown attributes will be ignored. NodeDef: {{node ParallelMapDatasetV2/_16}}\n",
      "2025-05-12 20:19:28.011066: E tensorflow/core/framework/node_def_util.cc:676] NodeDef mentions attribute use_unbounded_threadpool which is not in the op definition: Op<name=MapDataset; signature=input_dataset:variant, other_arguments: -> handle:variant; attr=f:func; attr=Targuments:list(type),min=0; attr=output_types:list(type),min=1; attr=output_shapes:list(shape),min=1; attr=use_inter_op_parallelism:bool,default=true; attr=preserve_cardinality:bool,default=false; attr=force_synchronous:bool,default=false; attr=metadata:string,default=\"\"> This may be expected if your graph generating binary is newer  than this binary. Unknown attributes will be ignored. NodeDef: {{node ParallelMapDatasetV2/_14}}\n"
     ]
    },
    {
     "name": "stdout",
     "output_type": "stream",
     "text": [
      "--- Fold 1 - root_mean_squared_error: 0.0617 - Time: 445.41 s\n"
     ]
    },
    {
     "name": "stderr",
     "output_type": "stream",
     "text": [
      "2025-05-12 20:19:35.926808: E tensorflow/core/framework/node_def_util.cc:676] NodeDef mentions attribute use_unbounded_threadpool which is not in the op definition: Op<name=MapDataset; signature=input_dataset:variant, other_arguments: -> handle:variant; attr=f:func; attr=Targuments:list(type),min=0; attr=output_types:list(type),min=1; attr=output_shapes:list(shape),min=1; attr=use_inter_op_parallelism:bool,default=true; attr=preserve_cardinality:bool,default=false; attr=force_synchronous:bool,default=false; attr=metadata:string,default=\"\"> This may be expected if your graph generating binary is newer  than this binary. Unknown attributes will be ignored. NodeDef: {{node ParallelMapDatasetV2/_16}}\n",
      "2025-05-12 20:22:13.528240: E tensorflow/core/framework/node_def_util.cc:676] NodeDef mentions attribute use_unbounded_threadpool which is not in the op definition: Op<name=MapDataset; signature=input_dataset:variant, other_arguments: -> handle:variant; attr=f:func; attr=Targuments:list(type),min=0; attr=output_types:list(type),min=1; attr=output_shapes:list(shape),min=1; attr=use_inter_op_parallelism:bool,default=true; attr=preserve_cardinality:bool,default=false; attr=force_synchronous:bool,default=false; attr=metadata:string,default=\"\"> This may be expected if your graph generating binary is newer  than this binary. Unknown attributes will be ignored. NodeDef: {{node ParallelMapDatasetV2/_16}}\n",
      "2025-05-12 20:25:01.875398: E tensorflow/core/framework/node_def_util.cc:676] NodeDef mentions attribute use_unbounded_threadpool which is not in the op definition: Op<name=MapDataset; signature=input_dataset:variant, other_arguments: -> handle:variant; attr=f:func; attr=Targuments:list(type),min=0; attr=output_types:list(type),min=1; attr=output_shapes:list(shape),min=1; attr=use_inter_op_parallelism:bool,default=true; attr=preserve_cardinality:bool,default=false; attr=force_synchronous:bool,default=false; attr=metadata:string,default=\"\"> This may be expected if your graph generating binary is newer  than this binary. Unknown attributes will be ignored. NodeDef: {{node ParallelMapDatasetV2/_16}}\n",
      "2025-05-12 20:26:37.690874: E tensorflow/core/framework/node_def_util.cc:676] NodeDef mentions attribute use_unbounded_threadpool which is not in the op definition: Op<name=MapDataset; signature=input_dataset:variant, other_arguments: -> handle:variant; attr=f:func; attr=Targuments:list(type),min=0; attr=output_types:list(type),min=1; attr=output_shapes:list(shape),min=1; attr=use_inter_op_parallelism:bool,default=true; attr=preserve_cardinality:bool,default=false; attr=force_synchronous:bool,default=false; attr=metadata:string,default=\"\"> This may be expected if your graph generating binary is newer  than this binary. Unknown attributes will be ignored. NodeDef: {{node ParallelMapDatasetV2/_14}}\n"
     ]
    },
    {
     "name": "stdout",
     "output_type": "stream",
     "text": [
      "--- Fold 2 - root_mean_squared_error: 0.0614 - Time: 429.39 s\n"
     ]
    },
    {
     "name": "stderr",
     "output_type": "stream",
     "text": [
      "2025-05-12 20:26:45.783426: E tensorflow/core/framework/node_def_util.cc:676] NodeDef mentions attribute use_unbounded_threadpool which is not in the op definition: Op<name=MapDataset; signature=input_dataset:variant, other_arguments: -> handle:variant; attr=f:func; attr=Targuments:list(type),min=0; attr=output_types:list(type),min=1; attr=output_shapes:list(shape),min=1; attr=use_inter_op_parallelism:bool,default=true; attr=preserve_cardinality:bool,default=false; attr=force_synchronous:bool,default=false; attr=metadata:string,default=\"\"> This may be expected if your graph generating binary is newer  than this binary. Unknown attributes will be ignored. NodeDef: {{node ParallelMapDatasetV2/_16}}\n",
      "2025-05-12 20:28:56.685513: E tensorflow/core/framework/node_def_util.cc:676] NodeDef mentions attribute use_unbounded_threadpool which is not in the op definition: Op<name=MapDataset; signature=input_dataset:variant, other_arguments: -> handle:variant; attr=f:func; attr=Targuments:list(type),min=0; attr=output_types:list(type),min=1; attr=output_shapes:list(shape),min=1; attr=use_inter_op_parallelism:bool,default=true; attr=preserve_cardinality:bool,default=false; attr=force_synchronous:bool,default=false; attr=metadata:string,default=\"\"> This may be expected if your graph generating binary is newer  than this binary. Unknown attributes will be ignored. NodeDef: {{node ParallelMapDatasetV2/_16}}\n",
      "2025-05-12 20:30:38.605517: E tensorflow/core/framework/node_def_util.cc:676] NodeDef mentions attribute use_unbounded_threadpool which is not in the op definition: Op<name=MapDataset; signature=input_dataset:variant, other_arguments: -> handle:variant; attr=f:func; attr=Targuments:list(type),min=0; attr=output_types:list(type),min=1; attr=output_shapes:list(shape),min=1; attr=use_inter_op_parallelism:bool,default=true; attr=preserve_cardinality:bool,default=false; attr=force_synchronous:bool,default=false; attr=metadata:string,default=\"\"> This may be expected if your graph generating binary is newer  than this binary. Unknown attributes will be ignored. NodeDef: {{node ParallelMapDatasetV2/_16}}\n",
      "2025-05-12 20:32:25.874906: E tensorflow/core/framework/node_def_util.cc:676] NodeDef mentions attribute use_unbounded_threadpool which is not in the op definition: Op<name=MapDataset; signature=input_dataset:variant, other_arguments: -> handle:variant; attr=f:func; attr=Targuments:list(type),min=0; attr=output_types:list(type),min=1; attr=output_shapes:list(shape),min=1; attr=use_inter_op_parallelism:bool,default=true; attr=preserve_cardinality:bool,default=false; attr=force_synchronous:bool,default=false; attr=metadata:string,default=\"\"> This may be expected if your graph generating binary is newer  than this binary. Unknown attributes will be ignored. NodeDef: {{node ParallelMapDatasetV2/_14}}\n"
     ]
    },
    {
     "name": "stdout",
     "output_type": "stream",
     "text": [
      "--- Fold 3 - root_mean_squared_error: 0.0600 - Time: 347.42 s\n"
     ]
    },
    {
     "name": "stderr",
     "output_type": "stream",
     "text": [
      "2025-05-12 20:32:33.974563: E tensorflow/core/framework/node_def_util.cc:676] NodeDef mentions attribute use_unbounded_threadpool which is not in the op definition: Op<name=MapDataset; signature=input_dataset:variant, other_arguments: -> handle:variant; attr=f:func; attr=Targuments:list(type),min=0; attr=output_types:list(type),min=1; attr=output_shapes:list(shape),min=1; attr=use_inter_op_parallelism:bool,default=true; attr=preserve_cardinality:bool,default=false; attr=force_synchronous:bool,default=false; attr=metadata:string,default=\"\"> This may be expected if your graph generating binary is newer  than this binary. Unknown attributes will be ignored. NodeDef: {{node ParallelMapDatasetV2/_16}}\n",
      "2025-05-12 20:33:28.698426: E tensorflow/core/framework/node_def_util.cc:676] NodeDef mentions attribute use_unbounded_threadpool which is not in the op definition: Op<name=MapDataset; signature=input_dataset:variant, other_arguments: -> handle:variant; attr=f:func; attr=Targuments:list(type),min=0; attr=output_types:list(type),min=1; attr=output_shapes:list(shape),min=1; attr=use_inter_op_parallelism:bool,default=true; attr=preserve_cardinality:bool,default=false; attr=force_synchronous:bool,default=false; attr=metadata:string,default=\"\"> This may be expected if your graph generating binary is newer  than this binary. Unknown attributes will be ignored. NodeDef: {{node ParallelMapDatasetV2/_16}}\n",
      "2025-05-12 20:35:00.296681: E tensorflow/core/framework/node_def_util.cc:676] NodeDef mentions attribute use_unbounded_threadpool which is not in the op definition: Op<name=MapDataset; signature=input_dataset:variant, other_arguments: -> handle:variant; attr=f:func; attr=Targuments:list(type),min=0; attr=output_types:list(type),min=1; attr=output_shapes:list(shape),min=1; attr=use_inter_op_parallelism:bool,default=true; attr=preserve_cardinality:bool,default=false; attr=force_synchronous:bool,default=false; attr=metadata:string,default=\"\"> This may be expected if your graph generating binary is newer  than this binary. Unknown attributes will be ignored. NodeDef: {{node ParallelMapDatasetV2/_16}}\n",
      "2025-05-12 20:37:10.695479: E tensorflow/core/framework/node_def_util.cc:676] NodeDef mentions attribute use_unbounded_threadpool which is not in the op definition: Op<name=MapDataset; signature=input_dataset:variant, other_arguments: -> handle:variant; attr=f:func; attr=Targuments:list(type),min=0; attr=output_types:list(type),min=1; attr=output_shapes:list(shape),min=1; attr=use_inter_op_parallelism:bool,default=true; attr=preserve_cardinality:bool,default=false; attr=force_synchronous:bool,default=false; attr=metadata:string,default=\"\"> This may be expected if your graph generating binary is newer  than this binary. Unknown attributes will be ignored. NodeDef: {{node ParallelMapDatasetV2/_14}}\n"
     ]
    },
    {
     "name": "stdout",
     "output_type": "stream",
     "text": [
      "--- Fold 4 - root_mean_squared_error: 0.0632 - Time: 284.27 s\n",
      "\n",
      "------ Overall root_mean_squared_error: 0.0615 - Mean root_mean_squared_error: 0.0614 ± 0.0010 - Time: 1960.13 s\n"
     ]
    },
    {
     "name": "stderr",
     "output_type": "stream",
     "text": [
      "2025-05-12 20:37:16.194784: E tensorflow/core/framework/node_def_util.cc:676] NodeDef mentions attribute use_unbounded_threadpool which is not in the op definition: Op<name=MapDataset; signature=input_dataset:variant, other_arguments: -> handle:variant; attr=f:func; attr=Targuments:list(type),min=0; attr=output_types:list(type),min=1; attr=output_shapes:list(shape),min=1; attr=use_inter_op_parallelism:bool,default=true; attr=preserve_cardinality:bool,default=false; attr=force_synchronous:bool,default=false; attr=metadata:string,default=\"\"> This may be expected if your graph generating binary is newer  than this binary. Unknown attributes will be ignored. NodeDef: {{node ParallelMapDatasetV2/_14}}\n",
      "2025-05-12 20:37:21.900763: E tensorflow/core/framework/node_def_util.cc:676] NodeDef mentions attribute use_unbounded_threadpool which is not in the op definition: Op<name=MapDataset; signature=input_dataset:variant, other_arguments: -> handle:variant; attr=f:func; attr=Targuments:list(type),min=0; attr=output_types:list(type),min=1; attr=output_shapes:list(shape),min=1; attr=use_inter_op_parallelism:bool,default=true; attr=preserve_cardinality:bool,default=false; attr=force_synchronous:bool,default=false; attr=metadata:string,default=\"\"> This may be expected if your graph generating binary is newer  than this binary. Unknown attributes will be ignored. NodeDef: {{node ParallelMapDatasetV2/_14}}\n",
      "2025-05-12 20:37:27.952220: E tensorflow/core/framework/node_def_util.cc:676] NodeDef mentions attribute use_unbounded_threadpool which is not in the op definition: Op<name=MapDataset; signature=input_dataset:variant, other_arguments: -> handle:variant; attr=f:func; attr=Targuments:list(type),min=0; attr=output_types:list(type),min=1; attr=output_shapes:list(shape),min=1; attr=use_inter_op_parallelism:bool,default=true; attr=preserve_cardinality:bool,default=false; attr=force_synchronous:bool,default=false; attr=metadata:string,default=\"\"> This may be expected if your graph generating binary is newer  than this binary. Unknown attributes will be ignored. NodeDef: {{node ParallelMapDatasetV2/_14}}\n"
     ]
    }
   ],
   "source": [
    "nn_trainer = Trainer(\n",
    "    nn_bag,\n",
    "    cv=CFG.cv,\n",
    "    metric=root_mean_squared_error,\n",
    "    task=\"regression\"\n",
    ")\n",
    "\n",
    "nn_trainer.fit(X, y, extra_X=X_original, extra_y=y_original)\n",
    "\n",
    "scores[\"KerasANN\"] = nn_trainer.fold_scores\n",
    "oof_preds[\"KerasANN\"] = nn_trainer.oof_preds\n",
    "test_preds[\"KerasANN\"] = nn_trainer.predict(X_test)"
   ]
  },
  {
   "cell_type": "markdown",
   "id": "65c189ea",
   "metadata": {
    "papermill": {
     "duration": 0.016498,
     "end_time": "2025-05-12T20:37:31.385656",
     "exception": false,
     "start_time": "2025-05-12T20:37:31.369158",
     "status": "completed"
    },
    "tags": []
   },
   "source": [
    "# Ensembling with Ridge"
   ]
  },
  {
   "cell_type": "code",
   "execution_count": 25,
   "id": "77b65f7d",
   "metadata": {
    "_kg_hide-input": true,
    "execution": {
     "iopub.execute_input": "2025-05-12T20:37:31.421554Z",
     "iopub.status.busy": "2025-05-12T20:37:31.421213Z",
     "iopub.status.idle": "2025-05-12T20:37:31.429542Z",
     "shell.execute_reply": "2025-05-12T20:37:31.428528Z"
    },
    "papermill": {
     "duration": 0.02857,
     "end_time": "2025-05-12T20:37:31.431253",
     "exception": false,
     "start_time": "2025-05-12T20:37:31.402683",
     "status": "completed"
    },
    "tags": []
   },
   "outputs": [],
   "source": [
    "def plot_weights(weights, title):\n",
    "    sorted_indices = np.argsort(weights[0])[::-1]\n",
    "    sorted_coeffs = np.array(weights[0])[sorted_indices]\n",
    "    sorted_model_names = np.array(list(oof_preds.keys()))[sorted_indices]\n",
    "\n",
    "    plt.figure(figsize=(10, weights.shape[1] * 0.5))\n",
    "    ax = sns.barplot(x=sorted_coeffs, y=sorted_model_names, palette=\"RdYlGn_r\")\n",
    "\n",
    "    for i, (value, name) in enumerate(zip(sorted_coeffs, sorted_model_names)):\n",
    "        if value >= 0:\n",
    "            ax.text(value, i, f\"{value:.3f}\", va=\"center\", ha=\"left\", color=\"black\")\n",
    "        else:\n",
    "            ax.text(value, i, f\"{value:.3f}\", va=\"center\", ha=\"right\", color=\"black\")\n",
    "\n",
    "    xlim = ax.get_xlim()\n",
    "    ax.set_xlim(xlim[0] - 0.1 * abs(xlim[0]), xlim[1] + 0.1 * abs(xlim[1]))\n",
    "\n",
    "    plt.title(title)\n",
    "    plt.xlabel(\"\")\n",
    "    plt.ylabel(\"\")\n",
    "    plt.tight_layout()\n",
    "    plt.show()"
   ]
  },
  {
   "cell_type": "code",
   "execution_count": 26,
   "id": "2799782b",
   "metadata": {
    "execution": {
     "iopub.execute_input": "2025-05-12T20:37:31.467076Z",
     "iopub.status.busy": "2025-05-12T20:37:31.466705Z",
     "iopub.status.idle": "2025-05-12T20:37:31.524759Z",
     "shell.execute_reply": "2025-05-12T20:37:31.523735Z"
    },
    "papermill": {
     "duration": 0.077933,
     "end_time": "2025-05-12T20:37:31.526539",
     "exception": false,
     "start_time": "2025-05-12T20:37:31.448606",
     "status": "completed"
    },
    "tags": []
   },
   "outputs": [],
   "source": [
    "X = pd.DataFrame(oof_preds)\n",
    "X_test = pd.DataFrame(test_preds)"
   ]
  },
  {
   "cell_type": "code",
   "execution_count": 27,
   "id": "c3088184",
   "metadata": {
    "execution": {
     "iopub.execute_input": "2025-05-12T20:37:31.562401Z",
     "iopub.status.busy": "2025-05-12T20:37:31.561886Z",
     "iopub.status.idle": "2025-05-12T20:37:31.623060Z",
     "shell.execute_reply": "2025-05-12T20:37:31.622124Z"
    },
    "papermill": {
     "duration": 0.080978,
     "end_time": "2025-05-12T20:37:31.624730",
     "exception": false,
     "start_time": "2025-05-12T20:37:31.543752",
     "status": "completed"
    },
    "tags": []
   },
   "outputs": [
    {
     "data": {
      "text/plain": [
       "['test_preds.pkl']"
      ]
     },
     "execution_count": 27,
     "metadata": {},
     "output_type": "execute_result"
    }
   ],
   "source": [
    "joblib.dump(X, \"oof_preds.pkl\")\n",
    "joblib.dump(X_test, \"test_preds.pkl\")"
   ]
  },
  {
   "cell_type": "code",
   "execution_count": 28,
   "id": "550aa8c3",
   "metadata": {
    "_kg_hide-output": true,
    "execution": {
     "iopub.execute_input": "2025-05-12T20:37:31.660767Z",
     "iopub.status.busy": "2025-05-12T20:37:31.660476Z",
     "iopub.status.idle": "2025-05-12T20:51:42.896374Z",
     "shell.execute_reply": "2025-05-12T20:51:42.895316Z"
    },
    "papermill": {
     "duration": 851.256365,
     "end_time": "2025-05-12T20:51:42.898318",
     "exception": false,
     "start_time": "2025-05-12T20:37:31.641953",
     "status": "completed"
    },
    "scrolled": true,
    "tags": []
   },
   "outputs": [
    {
     "name": "stderr",
     "output_type": "stream",
     "text": [
      "[I 2025-05-12 20:37:31,665] A new study created in memory with name: no-name-960f4b78-3a47-4a4b-9ca3-7ca1147f50e2\n",
      "[I 2025-05-12 20:37:42,629] Trial 0 finished with value: 0.05924266885486895 and parameters: {'alpha': 8.311990217875223, 'tol': 0.009577897778945242}. Best is trial 0 with value: 0.05924266885486895.\n",
      "[I 2025-05-12 20:37:44,557] Trial 1 finished with value: 0.059237539526281476 and parameters: {'alpha': 3.8453937493525894, 'tol': 0.00676948694569464}. Best is trial 1 with value: 0.059237539526281476.\n",
      "[I 2025-05-12 20:37:44,564] Trial 3 finished with value: 0.05924445178435998 and parameters: {'alpha': 9.704859042573535, 'tol': 0.0024176454743933718}. Best is trial 1 with value: 0.059237539526281476.\n",
      "[I 2025-05-12 20:37:44,567] Trial 2 finished with value: 0.05924362627858251 and parameters: {'alpha': 9.06354545323625, 'tol': 0.00904889769341354}. Best is trial 1 with value: 0.059237539526281476.\n",
      "[I 2025-05-12 20:37:57,192] Trial 7 finished with value: 0.05924070710901866 and parameters: {'alpha': 6.728404590747421, 'tol': 0.0035823201182674748}. Best is trial 1 with value: 0.059237539526281476.\n",
      "[I 2025-05-12 20:37:57,817] Trial 5 finished with value: 0.059242724135600076 and parameters: {'alpha': 8.355668503966761, 'tol': 0.005886047088713458}. Best is trial 1 with value: 0.059237539526281476.\n",
      "[I 2025-05-12 20:37:57,831] Trial 6 finished with value: 0.05923578403814898 and parameters: {'alpha': 1.1012400868361538, 'tol': 0.0025316861560613665}. Best is trial 6 with value: 0.05923578403814898.\n",
      "[I 2025-05-12 20:37:57,833] Trial 4 finished with value: 0.059238294242074406 and parameters: {'alpha': 4.603199976212178, 'tol': 0.007631115379513736}. Best is trial 6 with value: 0.05923578403814898.\n",
      "[I 2025-05-12 20:38:08,611] Trial 8 finished with value: 0.05923656129806459 and parameters: {'alpha': 2.6850310375664033, 'tol': 0.0034281517977673426}. Best is trial 6 with value: 0.05923578403814898.\n",
      "[I 2025-05-12 20:38:09,952] Trial 9 finished with value: 0.05924262517770523 and parameters: {'alpha': 8.277452110188785, 'tol': 0.00469402363675222}. Best is trial 6 with value: 0.05923578403814898.\n",
      "[I 2025-05-12 20:38:10,586] Trial 11 finished with value: 0.05923618801139553 and parameters: {'alpha': 2.1126645895477445, 'tol': 0.004098515872873083}. Best is trial 6 with value: 0.05923578403814898.\n",
      "[I 2025-05-12 20:38:10,621] Trial 10 finished with value: 0.05923902224111255 and parameters: {'alpha': 5.278821965435222, 'tol': 0.0038759873716367357}. Best is trial 6 with value: 0.05923578403814898.\n",
      "[I 2025-05-12 20:38:23,100] Trial 12 finished with value: 0.05924110245294886 and parameters: {'alpha': 7.0540278744082645, 'tol': 0.0029880131689983603}. Best is trial 6 with value: 0.05923578403814898.\n",
      "[I 2025-05-12 20:38:23,129] Trial 14 finished with value: 0.05923583346227747 and parameters: {'alpha': 0.15124816708334565, 'tol': 0.0003524240039568154}. Best is trial 6 with value: 0.05923578403814898.\n",
      "[I 2025-05-12 20:38:24,479] Trial 13 finished with value: 0.059235744220447965 and parameters: {'alpha': 0.7615972460560023, 'tol': 0.0006162300319156192}. Best is trial 13 with value: 0.059235744220447965.\n",
      "[I 2025-05-12 20:38:24,493] Trial 15 finished with value: 0.05923588953029976 and parameters: {'alpha': 0.0083747785552033, 'tol': 0.0005557974501499089}. Best is trial 13 with value: 0.059235744220447965.\n",
      "[I 2025-05-12 20:38:36,343] Trial 16 finished with value: 0.05923581115555162 and parameters: {'alpha': 0.22164526755866165, 'tol': 0.003334889246327288}. Best is trial 13 with value: 0.059235744220447965.\n",
      "[I 2025-05-12 20:38:37,694] Trial 19 finished with value: 0.059237534833841234 and parameters: {'alpha': 3.8404230347889765, 'tol': 2.5326781162329478e-05}. Best is trial 13 with value: 0.059235744220447965.\n",
      "[I 2025-05-12 20:38:37,699] Trial 17 finished with value: 0.05923586988149654 and parameters: {'alpha': 0.054317823836773416, 'tol': 0.0006901157298330146}. Best is trial 13 with value: 0.059235744220447965.\n",
      "[I 2025-05-12 20:38:37,712] Trial 18 finished with value: 0.059238238956855684 and parameters: {'alpha': 4.55002725912622, 'tol': 0.00025029638397420465}. Best is trial 13 with value: 0.059235744220447965.\n",
      "[I 2025-05-12 20:38:49,602] Trial 20 finished with value: 0.05923752990378342 and parameters: {'alpha': 3.8351963829342726, 'tol': 0.0003232471780828029}. Best is trial 13 with value: 0.059235744220447965.\n",
      "[I 2025-05-12 20:38:50,969] Trial 23 finished with value: 0.059235806301820584 and parameters: {'alpha': 0.23855550804447212, 'tol': 0.007242040473900237}. Best is trial 13 with value: 0.059235744220447965.\n",
      "[I 2025-05-12 20:38:51,002] Trial 21 finished with value: 0.05923574460997634 and parameters: {'alpha': 0.6336055060987383, 'tol': 0.006389179235708889}. Best is trial 13 with value: 0.059235744220447965.\n",
      "[I 2025-05-12 20:38:51,705] Trial 22 finished with value: 0.05923574392929884 and parameters: {'alpha': 0.6545964385276122, 'tol': 0.009240180668026142}. Best is trial 22 with value: 0.05923574392929884.\n",
      "[I 2025-05-12 20:39:04,275] Trial 24 finished with value: 0.05923583050283012 and parameters: {'alpha': 0.1599988037955576, 'tol': 0.006346146190550557}. Best is trial 22 with value: 0.05923574392929884.\n",
      "[I 2025-05-12 20:39:04,305] Trial 25 finished with value: 0.05923574329569733 and parameters: {'alpha': 0.6983780915374045, 'tol': 0.007065669199343023}. Best is trial 25 with value: 0.05923574329569733.\n",
      "[I 2025-05-12 20:39:05,027] Trial 26 finished with value: 0.0592357462723143 and parameters: {'alpha': 0.5990199814501148, 'tol': 0.006389737375631225}. Best is trial 25 with value: 0.05923574329569733.\n",
      "[I 2025-05-12 20:39:05,818] Trial 27 finished with value: 0.05923577898383753 and parameters: {'alpha': 0.35034483657003546, 'tol': 0.009157713995893203}. Best is trial 25 with value: 0.05923574329569733.\n",
      "[I 2025-05-12 20:39:17,472] Trial 28 finished with value: 0.059236125025383946 and parameters: {'alpha': 1.9994376778113265, 'tol': 0.009832564288244909}. Best is trial 25 with value: 0.05923574329569733.\n",
      "[I 2025-05-12 20:39:18,162] Trial 29 finished with value: 0.05923575214410721 and parameters: {'alpha': 0.5249254095424423, 'tol': 0.00996017792517185}. Best is trial 25 with value: 0.05923574329569733.\n",
      "[I 2025-05-12 20:39:18,935] Trial 30 finished with value: 0.059236285901968756 and parameters: {'alpha': 2.2765798834351862, 'tol': 0.008647235408640938}. Best is trial 25 with value: 0.05923574329569733.\n",
      "[I 2025-05-12 20:39:19,667] Trial 31 finished with value: 0.059236490176523625 and parameters: {'alpha': 2.585309865997909, 'tol': 0.008616759258698465}. Best is trial 25 with value: 0.05923574329569733.\n",
      "[I 2025-05-12 20:39:30,834] Trial 33 finished with value: 0.05923670514905039 and parameters: {'alpha': 2.877547312623409, 'tol': 0.008105613661137144}. Best is trial 25 with value: 0.05923574329569733.\n",
      "[I 2025-05-12 20:39:31,505] Trial 32 finished with value: 0.059238934963638655 and parameters: {'alpha': 5.199911478389678, 'tol': 0.009683204437340128}. Best is trial 25 with value: 0.05923574329569733.\n",
      "[I 2025-05-12 20:39:32,949] Trial 35 finished with value: 0.05923652927243635 and parameters: {'alpha': 2.6405409176608208, 'tol': 0.007033064485268401}. Best is trial 25 with value: 0.05923574329569733.\n",
      "[I 2025-05-12 20:39:32,966] Trial 34 finished with value: 0.05923600306876031 and parameters: {'alpha': 1.7553159104845535, 'tol': 0.007320009917874078}. Best is trial 25 with value: 0.05923574329569733.\n",
      "[I 2025-05-12 20:39:44,891] Trial 36 finished with value: 0.059236252435700854 and parameters: {'alpha': 2.221972657481252, 'tol': 0.005892267188725054}. Best is trial 25 with value: 0.05923574329569733.\n",
      "[I 2025-05-12 20:39:45,583] Trial 37 finished with value: 0.059236709266759426 and parameters: {'alpha': 2.8828995412638663, 'tol': 0.005728349081715816}. Best is trial 25 with value: 0.05923574329569733.\n",
      "[I 2025-05-12 20:39:46,980] Trial 39 finished with value: 0.05923578953360982 and parameters: {'alpha': 1.1280680575854862, 'tol': 0.004931773268002286}. Best is trial 25 with value: 0.05923574329569733.\n",
      "[I 2025-05-12 20:39:46,983] Trial 38 finished with value: 0.059236061076406166 and parameters: {'alpha': 1.8763190654238875, 'tol': 0.0062539251743726175}. Best is trial 25 with value: 0.05923574329569733.\n",
      "[I 2025-05-12 20:39:59,464] Trial 41 finished with value: 0.05923576515893481 and parameters: {'alpha': 0.4253316600227872, 'tol': 0.008056126203135195}. Best is trial 25 with value: 0.05923574329569733.\n",
      "[I 2025-05-12 20:39:59,493] Trial 40 finished with value: 0.059242943530658086 and parameters: {'alpha': 8.528641845829014, 'tol': 0.00018791852667371985}. Best is trial 25 with value: 0.05923574329569733.\n",
      "[I 2025-05-12 20:40:00,178] Trial 42 finished with value: 0.059235863205826994 and parameters: {'alpha': 0.07081367648518766, 'tol': 0.008180783134843534}. Best is trial 25 with value: 0.05923574329569733.\n",
      "[I 2025-05-12 20:40:00,978] Trial 43 finished with value: 0.059235795511767546 and parameters: {'alpha': 0.2788374138427634, 'tol': 0.006974733673220887}. Best is trial 25 with value: 0.05923574329569733.\n",
      "[I 2025-05-12 20:40:12,123] Trial 45 finished with value: 0.05923582819013269 and parameters: {'alpha': 0.16694969504148904, 'tol': 0.005876951670128902}. Best is trial 25 with value: 0.05923574329569733.\n",
      "[I 2025-05-12 20:40:12,908] Trial 44 finished with value: 0.05923584759654198 and parameters: {'alpha': 0.11146460615726961, 'tol': 0.005483897669589331}. Best is trial 25 with value: 0.05923574329569733.\n",
      "[I 2025-05-12 20:40:13,565] Trial 46 finished with value: 0.059235750931602195 and parameters: {'alpha': 0.8725519065909645, 'tol': 0.006195542948801404}. Best is trial 25 with value: 0.05923574329569733.\n",
      "[I 2025-05-12 20:40:14,320] Trial 47 finished with value: 0.05923580310441317 and parameters: {'alpha': 0.2500794312681632, 'tol': 0.004926139369016038}. Best is trial 25 with value: 0.05923574329569733.\n",
      "[I 2025-05-12 20:40:26,020] Trial 48 finished with value: 0.059236221128291335 and parameters: {'alpha': 2.169588792066575, 'tol': 0.002217180164305173}. Best is trial 25 with value: 0.05923574329569733.\n",
      "[I 2025-05-12 20:40:26,814] Trial 51 finished with value: 0.059242122842380444 and parameters: {'alpha': 7.878301123600235, 'tol': 0.009630313423197931}. Best is trial 25 with value: 0.05923574329569733.\n",
      "[I 2025-05-12 20:40:27,501] Trial 49 finished with value: 0.05923619886150433 and parameters: {'alpha': 2.131496083858172, 'tol': 0.0020230052563901023}. Best is trial 25 with value: 0.05923574329569733.\n",
      "[I 2025-05-12 20:40:27,503] Trial 50 finished with value: 0.05923616883425717 and parameters: {'alpha': 2.0789220795807712, 'tol': 0.0008944355280615741}. Best is trial 25 with value: 0.05923574329569733.\n",
      "[I 2025-05-12 20:40:39,336] Trial 52 finished with value: 0.05923642002099856 and parameters: {'alpha': 2.4834095786386294, 'tol': 0.00013782522184384305}. Best is trial 25 with value: 0.05923574329569733.\n",
      "[I 2025-05-12 20:40:40,102] Trial 53 finished with value: 0.05923612059898596 and parameters: {'alpha': 1.9912045636572755, 'tol': 0.0006556140480874641}. Best is trial 25 with value: 0.05923574329569733.\n",
      "[I 2025-05-12 20:40:40,840] Trial 55 finished with value: 0.059236013614944814 and parameters: {'alpha': 1.7781043170759419, 'tol': 0.006491175396984121}. Best is trial 25 with value: 0.05923574329569733.\n",
      "[I 2025-05-12 20:40:41,546] Trial 54 finished with value: 0.059235831870719693 and parameters: {'alpha': 1.2984926306852462, 'tol': 0.00662767113987155}. Best is trial 25 with value: 0.05923574329569733.\n",
      "[I 2025-05-12 20:40:53,308] Trial 56 finished with value: 0.05923584929558354 and parameters: {'alpha': 1.3571239490168248, 'tol': 0.0068948811835508935}. Best is trial 25 with value: 0.05923574329569733.\n",
      "[I 2025-05-12 20:40:54,793] Trial 57 finished with value: 0.059235923051712575 and parameters: {'alpha': 1.567292542617615, 'tol': 0.007505359708568721}. Best is trial 25 with value: 0.05923574329569733.\n",
      "[I 2025-05-12 20:40:54,816] Trial 58 finished with value: 0.05923574608139257 and parameters: {'alpha': 0.8049163180740792, 'tol': 0.006711387878149823}. Best is trial 25 with value: 0.05923574329569733.\n",
      "[I 2025-05-12 20:40:55,569] Trial 59 finished with value: 0.059239718867482326 and parameters: {'alpha': 5.8930272506879255, 'tol': 0.006912443864760658}. Best is trial 25 with value: 0.05923574329569733.\n",
      "[I 2025-05-12 20:41:07,414] Trial 60 finished with value: 0.05923579576689482 and parameters: {'alpha': 0.27783618363310586, 'tol': 0.006992327283858136}. Best is trial 25 with value: 0.05923574329569733.\n",
      "[I 2025-05-12 20:41:08,292] Trial 62 finished with value: 0.05924097648737197 and parameters: {'alpha': 6.950717664096833, 'tol': 0.006555382979817578}. Best is trial 25 with value: 0.05923574329569733.\n",
      "[I 2025-05-12 20:41:08,952] Trial 61 finished with value: 0.0592358564139417 and parameters: {'alpha': 0.08812243965085764, 'tol': 0.006656566165325922}. Best is trial 25 with value: 0.05923574329569733.\n",
      "[I 2025-05-12 20:41:09,627] Trial 63 finished with value: 0.05923584312518181 and parameters: {'alpha': 0.12371409908241338, 'tol': 0.007358910612722777}. Best is trial 25 with value: 0.05923574329569733.\n",
      "[I 2025-05-12 20:41:21,420] Trial 64 finished with value: 0.05923582249875548 and parameters: {'alpha': 0.18450411771736064, 'tol': 0.006055914677790542}. Best is trial 25 with value: 0.05923574329569733.\n",
      "[I 2025-05-12 20:41:22,168] Trial 67 finished with value: 0.05923604695037604 and parameters: {'alpha': 1.8477739842319387, 'tol': 0.004987863872277877}. Best is trial 25 with value: 0.05923574329569733.\n",
      "[I 2025-05-12 20:41:22,881] Trial 66 finished with value: 0.059235850057316845 and parameters: {'alpha': 1.3595829565385613, 'tol': 0.005849804525598997}. Best is trial 25 with value: 0.05923574329569733.\n",
      "[I 2025-05-12 20:41:23,597] Trial 65 finished with value: 0.05923586715088919 and parameters: {'alpha': 0.06100607675741532, 'tol': 0.0074156396546791025}. Best is trial 25 with value: 0.05923574329569733.\n",
      "[I 2025-05-12 20:41:35,943] Trial 68 finished with value: 0.059235852731928024 and parameters: {'alpha': 1.368154837916415, 'tol': 0.005190072324795496}. Best is trial 25 with value: 0.05923574329569733.\n",
      "[I 2025-05-12 20:41:35,959] Trial 69 finished with value: 0.059235761182671154 and parameters: {'alpha': 0.45132635274345634, 'tol': 0.00933490587617123}. Best is trial 25 with value: 0.05923574329569733.\n",
      "[I 2025-05-12 20:41:37,428] Trial 71 finished with value: 0.05923575549938181 and parameters: {'alpha': 0.9180658296928066, 'tol': 0.009660377814927712}. Best is trial 25 with value: 0.05923574329569733.\n",
      "[I 2025-05-12 20:41:37,445] Trial 70 finished with value: 0.05923582251245896 and parameters: {'alpha': 0.18446104637461513, 'tol': 0.0018765671902374126}. Best is trial 25 with value: 0.05923574329569733.\n",
      "[I 2025-05-12 20:41:48,153] Trial 73 finished with value: 0.05923621935609947 and parameters: {'alpha': 2.166583373585672, 'tol': 0.008632920063682449}. Best is trial 25 with value: 0.05923574329569733.\n",
      "[I 2025-05-12 20:41:48,844] Trial 72 finished with value: 0.05923574728082244 and parameters: {'alpha': 0.8250674045156008, 'tol': 0.009847646660051983}. Best is trial 25 with value: 0.05923574329569733.\n",
      "[I 2025-05-12 20:41:50,319] Trial 75 finished with value: 0.059235774695089026 and parameters: {'alpha': 1.0513503823513255, 'tol': 0.009984433272448795}. Best is trial 25 with value: 0.05923574329569733.\n",
      "[I 2025-05-12 20:41:50,326] Trial 74 finished with value: 0.059235794343258596 and parameters: {'alpha': 0.2834567644531144, 'tol': 0.009983709135874009}. Best is trial 25 with value: 0.05923574329569733.\n",
      "[I 2025-05-12 20:42:02,099] Trial 76 finished with value: 0.059235808383729875 and parameters: {'alpha': 0.23121959764144012, 'tol': 0.008841838032473735}. Best is trial 25 with value: 0.05923574329569733.\n",
      "[I 2025-05-12 20:42:02,899] Trial 77 finished with value: 0.05923626070036716 and parameters: {'alpha': 2.235586401688418, 'tol': 0.009487263912970329}. Best is trial 25 with value: 0.05923574329569733.\n",
      "[I 2025-05-12 20:42:03,645] Trial 79 finished with value: 0.05924450212520243 and parameters: {'alpha': 9.743813721625106, 'tol': 0.005544894018196608}. Best is trial 25 with value: 0.05923574329569733.\n",
      "[I 2025-05-12 20:42:05,031] Trial 78 finished with value: 0.05923675930783641 and parameters: {'alpha': 2.9473124792943364, 'tol': 0.00960115764582065}. Best is trial 25 with value: 0.05923574329569733.\n",
      "[I 2025-05-12 20:42:14,778] Trial 80 finished with value: 0.059236052572476265 and parameters: {'alpha': 1.8592000189221358, 'tol': 0.007809595116114603}. Best is trial 25 with value: 0.05923574329569733.\n",
      "[I 2025-05-12 20:42:16,219] Trial 81 finished with value: 0.059244829314227206 and parameters: {'alpha': 9.996639822544571, 'tol': 0.0037235236460413023}. Best is trial 25 with value: 0.05923574329569733.\n",
      "[I 2025-05-12 20:42:16,927] Trial 82 finished with value: 0.059235934662682455 and parameters: {'alpha': 1.5965527790118759, 'tol': 0.0075556367481328345}. Best is trial 25 with value: 0.05923574329569733.\n",
      "[I 2025-05-12 20:42:18,269] Trial 83 finished with value: 0.05923592001649577 and parameters: {'alpha': 1.5595083714127265, 'tol': 0.007321565969168449}. Best is trial 25 with value: 0.05923574329569733.\n",
      "[I 2025-05-12 20:42:27,891] Trial 84 finished with value: 0.05923579568254187 and parameters: {'alpha': 0.2781669339811792, 'tol': 0.009701626692038666}. Best is trial 25 with value: 0.05923574329569733.\n",
      "[I 2025-05-12 20:42:29,965] Trial 85 finished with value: 0.05923585201848814 and parameters: {'alpha': 0.09962911031602534, 'tol': 0.009420291053351603}. Best is trial 25 with value: 0.05923574329569733.\n",
      "[I 2025-05-12 20:42:31,307] Trial 86 finished with value: 0.05923576477311838 and parameters: {'alpha': 0.9898151070444328, 'tol': 0.009906648255050323}. Best is trial 25 with value: 0.05923574329569733.\n",
      "[I 2025-05-12 20:42:32,008] Trial 87 finished with value: 0.05923574485788383 and parameters: {'alpha': 0.6274144151718773, 'tol': 0.009762922622126705}. Best is trial 25 with value: 0.05923574329569733.\n",
      "[I 2025-05-12 20:42:42,223] Trial 88 finished with value: 0.05923575259009077 and parameters: {'alpha': 0.8903050356489083, 'tol': 0.009505046980837489}. Best is trial 25 with value: 0.05923574329569733.\n",
      "[I 2025-05-12 20:42:43,700] Trial 89 finished with value: 0.059244774642560706 and parameters: {'alpha': 9.954434978907537, 'tol': 0.008634564553167138}. Best is trial 25 with value: 0.05923574329569733.\n",
      "[I 2025-05-12 20:42:44,500] Trial 90 finished with value: 0.05923576564002159 and parameters: {'alpha': 0.42235965293082534, 'tol': 0.0004466266363996277}. Best is trial 25 with value: 0.05923574329569733.\n",
      "[I 2025-05-12 20:42:45,933] Trial 91 finished with value: 0.059235890997619986 and parameters: {'alpha': 1.4818677843887351, 'tol': 0.006083298515116643}. Best is trial 25 with value: 0.05923574329569733.\n",
      "[I 2025-05-12 20:42:56,249] Trial 92 finished with value: 0.05923815008525181 and parameters: {'alpha': 4.463889493177995, 'tol': 0.005040971629098149}. Best is trial 25 with value: 0.05923574329569733.\n",
      "[I 2025-05-12 20:42:57,679] Trial 93 finished with value: 0.05923578165052599 and parameters: {'alpha': 0.337770123913555, 'tol': 0.00016996980907047816}. Best is trial 25 with value: 0.05923574329569733.\n",
      "[I 2025-05-12 20:42:58,454] Trial 94 finished with value: 0.05923635399091716 and parameters: {'alpha': 2.383775894917391, 'tol': 0.00958302073961964}. Best is trial 25 with value: 0.05923574329569733.\n",
      "[I 2025-05-12 20:42:59,904] Trial 95 finished with value: 0.05923577952088966 and parameters: {'alpha': 0.34777354636859287, 'tol': 0.00999349993047491}. Best is trial 25 with value: 0.05923574329569733.\n",
      "[I 2025-05-12 20:43:09,680] Trial 96 finished with value: 0.05923603162631136 and parameters: {'alpha': 1.8161704051065384, 'tol': 0.009988670697490811}. Best is trial 25 with value: 0.05923574329569733.\n",
      "[I 2025-05-12 20:43:11,156] Trial 97 finished with value: 0.05923629284510179 and parameters: {'alpha': 2.287741606503938, 'tol': 0.009959899821364599}. Best is trial 25 with value: 0.05923574329569733.\n",
      "[I 2025-05-12 20:43:11,970] Trial 98 finished with value: 0.059235782321952125 and parameters: {'alpha': 1.092517327131862, 'tol': 0.00844515942859008}. Best is trial 25 with value: 0.05923574329569733.\n",
      "[I 2025-05-12 20:43:13,430] Trial 99 finished with value: 0.05923580769043775 and parameters: {'alpha': 1.207486296593052, 'tol': 0.007942415854561126}. Best is trial 25 with value: 0.05923574329569733.\n",
      "[I 2025-05-12 20:43:23,257] Trial 100 finished with value: 0.05923582800876893 and parameters: {'alpha': 0.16749910160080478, 'tol': 0.008233792902031974}. Best is trial 25 with value: 0.05923574329569733.\n",
      "[I 2025-05-12 20:43:25,339] Trial 101 finished with value: 0.05923574387178312 and parameters: {'alpha': 0.6568125141914326, 'tol': 0.00803769594411914}. Best is trial 25 with value: 0.05923574329569733.\n",
      "[I 2025-05-12 20:43:26,132] Trial 102 finished with value: 0.05923578416622704 and parameters: {'alpha': 0.3263238400969016, 'tol': 0.004963811904204116}. Best is trial 25 with value: 0.05923574329569733.\n",
      "[I 2025-05-12 20:43:28,197] Trial 103 finished with value: 0.05923579117832985 and parameters: {'alpha': 1.135802176206738, 'tol': 0.0058318150424224915}. Best is trial 25 with value: 0.05923574329569733.\n",
      "[I 2025-05-12 20:43:37,869] Trial 104 finished with value: 0.059235802679652755 and parameters: {'alpha': 0.2516348937775773, 'tol': 0.005784686764319584}. Best is trial 25 with value: 0.05923574329569733.\n",
      "[I 2025-05-12 20:43:39,322] Trial 105 finished with value: 0.05923580093476583 and parameters: {'alpha': 1.179333992689824, 'tol': 0.006708038769988173}. Best is trial 25 with value: 0.05923574329569733.\n",
      "[I 2025-05-12 20:43:40,730] Trial 106 finished with value: 0.05923577481416678 and parameters: {'alpha': 1.0520274205046762, 'tol': 0.006647510561247724}. Best is trial 25 with value: 0.05923574329569733.\n",
      "[I 2025-05-12 20:43:42,152] Trial 107 finished with value: 0.059235853928344 and parameters: {'alpha': 0.09459870201179443, 'tol': 0.007016264525195345}. Best is trial 25 with value: 0.05923574329569733.\n",
      "[I 2025-05-12 20:43:51,234] Trial 108 finished with value: 0.05923579987971864 and parameters: {'alpha': 0.26204034930060005, 'tol': 0.007568467978981758}. Best is trial 25 with value: 0.05923574329569733.\n",
      "[I 2025-05-12 20:43:52,057] Trial 109 finished with value: 0.05923583323402346 and parameters: {'alpha': 0.15191748577503728, 'tol': 0.00831429888044634}. Best is trial 25 with value: 0.05923574329569733.\n",
      "[I 2025-05-12 20:43:53,430] Trial 110 finished with value: 0.05923585876227133 and parameters: {'alpha': 0.08207501031112341, 'tol': 0.007497910068458566}. Best is trial 25 with value: 0.05923574329569733.\n",
      "[I 2025-05-12 20:43:54,907] Trial 111 finished with value: 0.059235806483705564 and parameters: {'alpha': 1.2025619469208078, 'tol': 0.008286646286214365}. Best is trial 25 with value: 0.05923574329569733.\n",
      "[I 2025-05-12 20:44:05,087] Trial 112 finished with value: 0.05923579254454978 and parameters: {'alpha': 0.2906787374054417, 'tol': 0.008473949212687569}. Best is trial 25 with value: 0.05923574329569733.\n",
      "[I 2025-05-12 20:44:07,218] Trial 113 finished with value: 0.05923655488436119 and parameters: {'alpha': 2.676173116118256, 'tol': 0.006655701160462131}. Best is trial 25 with value: 0.05923574329569733.\n",
      "[I 2025-05-12 20:44:07,238] Trial 114 finished with value: 0.05923578125360635 and parameters: {'alpha': 0.3396119105972852, 'tol': 0.009815989136609653}. Best is trial 25 with value: 0.05923574329569733.\n",
      "[I 2025-05-12 20:44:08,749] Trial 115 finished with value: 0.05923577635659184 and parameters: {'alpha': 0.3632274910589853, 'tol': 0.009597137137397063}. Best is trial 25 with value: 0.05923574329569733.\n",
      "[I 2025-05-12 20:44:18,926] Trial 116 finished with value: 0.05923578513996443 and parameters: {'alpha': 1.106749200279986, 'tol': 0.009747728237642785}. Best is trial 25 with value: 0.05923574329569733.\n",
      "[I 2025-05-12 20:44:20,524] Trial 118 finished with value: 0.05923838184550082 and parameters: {'alpha': 4.686842180303074, 'tol': 0.002276865574835426}. Best is trial 25 with value: 0.05923574329569733.\n",
      "[I 2025-05-12 20:44:21,804] Trial 117 finished with value: 0.059235871825999625 and parameters: {'alpha': 1.4267996310817748, 'tol': 0.009742938277356004}. Best is trial 25 with value: 0.05923574329569733.\n",
      "[I 2025-05-12 20:44:23,367] Trial 119 finished with value: 0.05923603927721334 and parameters: {'alpha': 1.832035241580122, 'tol': 0.009799580600406392}. Best is trial 25 with value: 0.05923574329569733.\n",
      "[I 2025-05-12 20:44:30,349] Trial 120 finished with value: 0.05923593625615551 and parameters: {'alpha': 1.6005071557210169, 'tol': 0.008371859061024245}. Best is trial 25 with value: 0.05923574329569733.\n",
      "[I 2025-05-12 20:44:35,095] Trial 122 finished with value: 0.05923599001675747 and parameters: {'alpha': 1.7265600604171456, 'tol': 0.007979567368821602}. Best is trial 25 with value: 0.05923574329569733.\n",
      "[I 2025-05-12 20:44:35,100] Trial 121 finished with value: 0.05923581594246275 and parameters: {'alpha': 1.2400777768445796, 'tol': 0.008505030419548067}. Best is trial 25 with value: 0.05923574329569733.\n",
      "[I 2025-05-12 20:44:36,649] Trial 123 finished with value: 0.05923588798680351 and parameters: {'alpha': 1.473440179360209, 'tol': 0.008729741858049922}. Best is trial 25 with value: 0.05923574329569733.\n",
      "[I 2025-05-12 20:44:44,861] Trial 124 finished with value: 0.05923574625187208 and parameters: {'alpha': 0.8080102462146855, 'tol': 0.009957220019772903}. Best is trial 25 with value: 0.05923574329569733.\n",
      "[I 2025-05-12 20:44:48,283] Trial 126 finished with value: 0.059235761954168784 and parameters: {'alpha': 0.44606415898549867, 'tol': 0.009865563720525631}. Best is trial 25 with value: 0.05923574329569733.\n",
      "[I 2025-05-12 20:44:48,927] Trial 125 finished with value: 0.059235877393285355 and parameters: {'alpha': 0.03631832063149443, 'tol': 0.009891060560718395}. Best is trial 25 with value: 0.05923574329569733.\n",
      "[I 2025-05-12 20:44:49,796] Trial 127 finished with value: 0.05923578981131136 and parameters: {'alpha': 0.3019266043905781, 'tol': 0.009431810402294693}. Best is trial 25 with value: 0.05923574329569733.\n",
      "[I 2025-05-12 20:44:57,545] Trial 128 finished with value: 0.059235872591317434 and parameters: {'alpha': 0.04775848724722376, 'tol': 0.009695062276817495}. Best is trial 25 with value: 0.05923574329569733.\n",
      "[I 2025-05-12 20:45:01,618] Trial 130 finished with value: 0.05923582441861285 and parameters: {'alpha': 1.271821412431167, 'tol': 0.006753093325829062}. Best is trial 25 with value: 0.05923574329569733.\n",
      "[I 2025-05-12 20:45:01,625] Trial 129 finished with value: 0.05923588876025818 and parameters: {'alpha': 1.475612543831834, 'tol': 0.009812544678456709}. Best is trial 25 with value: 0.05923574329569733.\n",
      "[I 2025-05-12 20:45:03,183] Trial 131 finished with value: 0.059235758488165896 and parameters: {'alpha': 0.9434080411971566, 'tol': 0.0020411217858436826}. Best is trial 25 with value: 0.05923574329569733.\n",
      "[I 2025-05-12 20:45:10,777] Trial 132 finished with value: 0.059235942716065526 and parameters: {'alpha': 1.6163943476983147, 'tol': 0.006294667188549}. Best is trial 25 with value: 0.05923574329569733.\n",
      "[I 2025-05-12 20:45:15,475] Trial 134 finished with value: 0.05923603980416503 and parameters: {'alpha': 1.8331215321406544, 'tol': 0.009858904576428833}. Best is trial 25 with value: 0.05923574329569733.\n",
      "[I 2025-05-12 20:45:15,491] Trial 133 finished with value: 0.059236609972078816 and parameters: {'alpha': 2.7514472662578147, 'tol': 0.005455031585545663}. Best is trial 25 with value: 0.05923574329569733.\n",
      "[I 2025-05-12 20:45:16,971] Trial 135 finished with value: 0.05923579004424957 and parameters: {'alpha': 1.130482890328483, 'tol': 0.009908121053775735}. Best is trial 25 with value: 0.05923574329569733.\n",
      "[I 2025-05-12 20:45:26,001] Trial 136 finished with value: 0.059235967293861234 and parameters: {'alpha': 1.6748943909527214, 'tol': 0.00922500577302165}. Best is trial 25 with value: 0.05923574329569733.\n",
      "[I 2025-05-12 20:45:28,160] Trial 138 finished with value: 0.059235847428836155 and parameters: {'alpha': 1.3510637099544662, 'tol': 0.009916380566915005}. Best is trial 25 with value: 0.05923574329569733.\n",
      "[I 2025-05-12 20:45:28,177] Trial 137 finished with value: 0.059235921748948775 and parameters: {'alpha': 1.5639585670141927, 'tol': 0.008925256546362385}. Best is trial 25 with value: 0.05923574329569733.\n",
      "[I 2025-05-12 20:45:29,092] Trial 139 finished with value: 0.05923814680058462 and parameters: {'alpha': 4.460689686379768, 'tol': 0.008375239009460002}. Best is trial 25 with value: 0.05923574329569733.\n",
      "[I 2025-05-12 20:45:38,620] Trial 140 finished with value: 0.05924011339699258 and parameters: {'alpha': 6.230751881616876, 'tol': 0.0009711795340474399}. Best is trial 25 with value: 0.05923574329569733.\n",
      "[I 2025-05-12 20:45:40,138] Trial 142 finished with value: 0.059235842855273065 and parameters: {'alpha': 0.12446300306874436, 'tol': 0.0081550974783273}. Best is trial 25 with value: 0.05923574329569733.\n",
      "[I 2025-05-12 20:45:40,144] Trial 141 finished with value: 0.0592371336110663 and parameters: {'alpha': 3.3988492132882673, 'tol': 0.007650807011483563}. Best is trial 25 with value: 0.05923574329569733.\n",
      "[I 2025-05-12 20:45:42,992] Trial 143 finished with value: 0.059235776153456016 and parameters: {'alpha': 0.3642456393923859, 'tol': 0.005543237109580583}. Best is trial 25 with value: 0.05923574329569733.\n",
      "[I 2025-05-12 20:45:50,543] Trial 144 finished with value: 0.05923612499611912 and parameters: {'alpha': 1.9993833736359579, 'tol': 0.0011452336185509354}. Best is trial 25 with value: 0.05923574329569733.\n",
      "[I 2025-05-12 20:45:54,028] Trial 145 finished with value: 0.059235856285765956 and parameters: {'alpha': 1.379399436494173, 'tol': 0.0024049068130453767}. Best is trial 25 with value: 0.05923574329569733.\n",
      "[I 2025-05-12 20:45:55,327] Trial 146 finished with value: 0.05923610246682122 and parameters: {'alpha': 1.9570564521304201, 'tol': 0.0025829039359416307}. Best is trial 25 with value: 0.05923574329569733.\n",
      "[I 2025-05-12 20:45:56,934] Trial 147 finished with value: 0.05923579273667993 and parameters: {'alpha': 1.1430161571938011, 'tol': 0.0013328950288421077}. Best is trial 25 with value: 0.05923574329569733.\n",
      "[I 2025-05-12 20:46:04,439] Trial 148 finished with value: 0.05923597178548616 and parameters: {'alpha': 1.6852795107993608, 'tol': 0.0007972218332479737}. Best is trial 25 with value: 0.05923574329569733.\n",
      "[I 2025-05-12 20:46:08,604] Trial 149 finished with value: 0.05923582963468313 and parameters: {'alpha': 1.2906014760361453, 'tol': 0.0031405751293307107}. Best is trial 25 with value: 0.05923574329569733.\n",
      "[I 2025-05-12 20:46:08,605] Trial 150 finished with value: 0.059235852955946515 and parameters: {'alpha': 1.3688684722226712, 'tol': 0.0020736749099646494}. Best is trial 25 with value: 0.05923574329569733.\n",
      "[I 2025-05-12 20:46:10,125] Trial 151 finished with value: 0.059235772600071124 and parameters: {'alpha': 0.3826211558683509, 'tol': 0.0020065998034247824}. Best is trial 25 with value: 0.05923574329569733.\n",
      "[I 2025-05-12 20:46:18,249] Trial 152 finished with value: 0.059235854580496405 and parameters: {'alpha': 0.09289187057660708, 'tol': 0.0037048357963738498}. Best is trial 25 with value: 0.05923574329569733.\n",
      "[I 2025-05-12 20:46:21,691] Trial 154 finished with value: 0.05923582554079252 and parameters: {'alpha': 0.1750395073916572, 'tol': 0.008847789604900954}. Best is trial 25 with value: 0.05923574329569733.\n",
      "[I 2025-05-12 20:46:22,358] Trial 153 finished with value: 0.059235767056320214 and parameters: {'alpha': 0.41379885411530426, 'tol': 0.008637430397748955}. Best is trial 25 with value: 0.05923574329569733.\n",
      "[I 2025-05-12 20:46:23,183] Trial 155 finished with value: 0.0592358328380577 and parameters: {'alpha': 0.15308078220756532, 'tol': 0.008560520275904532}. Best is trial 25 with value: 0.05923574329569733.\n",
      "[I 2025-05-12 20:46:32,250] Trial 156 finished with value: 0.059235829507035626 and parameters: {'alpha': 1.2901481948087832, 'tol': 0.008511893595376076}. Best is trial 25 with value: 0.05923574329569733.\n",
      "[I 2025-05-12 20:46:36,434] Trial 158 finished with value: 0.05923588656658286 and parameters: {'alpha': 0.01507618986570558, 'tol': 0.009576066462594143}. Best is trial 25 with value: 0.05923574329569733.\n",
      "[I 2025-05-12 20:46:37,105] Trial 157 finished with value: 0.05923584015239357 and parameters: {'alpha': 0.132024344191082, 'tol': 0.009882417126711946}. Best is trial 25 with value: 0.05923574329569733.\n",
      "[I 2025-05-12 20:46:38,482] Trial 159 finished with value: 0.05923588750145675 and parameters: {'alpha': 1.472074374583872, 'tol': 0.008167539221175364}. Best is trial 25 with value: 0.05923574329569733.\n",
      "[I 2025-05-12 20:46:46,710] Trial 160 finished with value: 0.059235783913425086 and parameters: {'alpha': 1.100612065816645, 'tol': 0.009674399020314322}. Best is trial 25 with value: 0.05923574329569733.\n",
      "[I 2025-05-12 20:46:50,170] Trial 161 finished with value: 0.059235783684120115 and parameters: {'alpha': 1.0994550799385292, 'tol': 0.006916163097741351}. Best is trial 25 with value: 0.05923574329569733.\n",
      "[I 2025-05-12 20:46:50,801] Trial 162 finished with value: 0.05923579527196569 and parameters: {'alpha': 0.279780877186395, 'tol': 0.006110488666283625}. Best is trial 25 with value: 0.05923574329569733.\n",
      "[I 2025-05-12 20:46:52,219] Trial 163 finished with value: 0.05923599658722145 and parameters: {'alpha': 1.741114954414015, 'tol': 0.006590902372784449}. Best is trial 25 with value: 0.05923574329569733.\n",
      "[I 2025-05-12 20:47:00,604] Trial 164 finished with value: 0.0592357739155446 and parameters: {'alpha': 1.0468877097804143, 'tol': 0.009925335181963583}. Best is trial 25 with value: 0.05923574329569733.\n",
      "[I 2025-05-12 20:47:04,673] Trial 165 finished with value: 0.059235754899349666 and parameters: {'alpha': 0.4995042621798048, 'tol': 0.009573558651562425}. Best is trial 25 with value: 0.05923574329569733.\n",
      "[I 2025-05-12 20:47:05,419] Trial 166 finished with value: 0.05923574384144633 and parameters: {'alpha': 0.6580259406149723, 'tol': 0.009781228242450118}. Best is trial 25 with value: 0.05923574329569733.\n",
      "[I 2025-05-12 20:47:06,828] Trial 167 finished with value: 0.05923588499347933 and parameters: {'alpha': 1.4649838769477759, 'tol': 0.009344689257566431}. Best is trial 25 with value: 0.05923574329569733.\n",
      "[I 2025-05-12 20:47:14,400] Trial 168 finished with value: 0.05923576457602669 and parameters: {'alpha': 0.42897870694607154, 'tol': 0.009896239645374692}. Best is trial 25 with value: 0.05923574329569733.\n",
      "[I 2025-05-12 20:47:18,542] Trial 169 finished with value: 0.05923583422265255 and parameters: {'alpha': 1.3066952053954204, 'tol': 0.008328515005344435}. Best is trial 25 with value: 0.05923574329569733.\n",
      "[I 2025-05-12 20:47:19,272] Trial 170 finished with value: 0.059235796923670744 and parameters: {'alpha': 1.1618889108372696, 'tol': 0.009955006389058104}. Best is trial 25 with value: 0.05923574329569733.\n",
      "[I 2025-05-12 20:47:20,704] Trial 171 finished with value: 0.05923584460528438 and parameters: {'alpha': 0.1196267835533587, 'tol': 0.00977827972257421}. Best is trial 25 with value: 0.05923574329569733.\n",
      "[I 2025-05-12 20:47:28,275] Trial 172 finished with value: 0.05923613068086413 and parameters: {'alpha': 2.0099002347256167, 'tol': 0.008771235254754092}. Best is trial 25 with value: 0.05923574329569733.\n",
      "[I 2025-05-12 20:47:32,378] Trial 173 finished with value: 0.0592359659560366 and parameters: {'alpha': 1.6717838997851469, 'tol': 0.009739228587972023}. Best is trial 25 with value: 0.05923574329569733.\n",
      "[I 2025-05-12 20:47:33,803] Trial 174 finished with value: 0.05923579854576468 and parameters: {'alpha': 1.1690145575418074, 'tol': 0.009964384115541534}. Best is trial 25 with value: 0.05923574329569733.\n",
      "[I 2025-05-12 20:47:34,502] Trial 175 finished with value: 0.059235961873455006 and parameters: {'alpha': 1.6622415553042873, 'tol': 0.008338864048633491}. Best is trial 25 with value: 0.05923574329569733.\n",
      "[I 2025-05-12 20:47:41,310] Trial 176 finished with value: 0.05923585124277007 and parameters: {'alpha': 0.10168607288429005, 'tol': 0.00815970126685441}. Best is trial 25 with value: 0.05923574329569733.\n",
      "[I 2025-05-12 20:47:46,078] Trial 177 finished with value: 0.05923576180639128 and parameters: {'alpha': 0.447063240371313, 'tol': 0.007928236769913381}. Best is trial 25 with value: 0.05923574329569733.\n",
      "[I 2025-05-12 20:47:46,822] Trial 178 finished with value: 0.059235798779074096 and parameters: {'alpha': 0.2662058099719737, 'tol': 0.008357869463083244}. Best is trial 25 with value: 0.05923574329569733.\n",
      "[I 2025-05-12 20:47:48,131] Trial 179 finished with value: 0.059235864556558 and parameters: {'alpha': 0.06743602271156224, 'tol': 0.00695340119763959}. Best is trial 25 with value: 0.05923574329569733.\n",
      "[I 2025-05-12 20:47:55,641] Trial 180 finished with value: 0.05923577972879296 and parameters: {'alpha': 0.34678354571851866, 'tol': 0.006916821152476313}. Best is trial 25 with value: 0.05923574329569733.\n",
      "[I 2025-05-12 20:48:00,428] Trial 182 finished with value: 0.05923579189362741 and parameters: {'alpha': 1.13912689835004, 'tol': 0.00017087806644238893}. Best is trial 25 with value: 0.05923574329569733.\n",
      "[I 2025-05-12 20:48:00,429] Trial 181 finished with value: 0.05923575191026135 and parameters: {'alpha': 0.8832310797237396, 'tol': 0.006725734748392994}. Best is trial 25 with value: 0.05923574329569733.\n",
      "[I 2025-05-12 20:48:01,879] Trial 183 finished with value: 0.05923676572398925 and parameters: {'alpha': 2.9554896871667506, 'tol': 0.009702945310848077}. Best is trial 25 with value: 0.05923574329569733.\n",
      "[I 2025-05-12 20:48:08,812] Trial 184 finished with value: 0.05924189179397315 and parameters: {'alpha': 7.693395130874874, 'tol': 0.003485041441147373}. Best is trial 25 with value: 0.05923574329569733.\n",
      "[I 2025-05-12 20:48:13,581] Trial 186 finished with value: 0.059235770117123256 and parameters: {'alpha': 1.024324880166177, 'tol': 0.0063974878039243736}. Best is trial 25 with value: 0.05923574329569733.\n",
      "[I 2025-05-12 20:48:14,980] Trial 185 finished with value: 0.059236126965713766 and parameters: {'alpha': 2.003034361050606, 'tol': 0.0072085708563088815}. Best is trial 25 with value: 0.05923574329569733.\n",
      "[I 2025-05-12 20:48:15,639] Trial 187 finished with value: 0.059235760255668596 and parameters: {'alpha': 0.9572663953053991, 'tol': 0.005213769818652366}. Best is trial 25 with value: 0.05923574329569733.\n",
      "[I 2025-05-12 20:48:22,509] Trial 188 finished with value: 0.059235756137842634 and parameters: {'alpha': 0.9237115408608284, 'tol': 0.00600362062852083}. Best is trial 25 with value: 0.05923574329569733.\n",
      "[I 2025-05-12 20:48:27,319] Trial 189 finished with value: 0.05923616367515993 and parameters: {'alpha': 2.069740389795713, 'tol': 0.0061031843428739005}. Best is trial 25 with value: 0.05923574329569733.\n",
      "[I 2025-05-12 20:48:29,341] Trial 191 finished with value: 0.059236031349329483 and parameters: {'alpha': 1.8155927533741312, 'tol': 0.005148818383643475}. Best is trial 25 with value: 0.05923574329569733.\n",
      "[I 2025-05-12 20:48:29,352] Trial 190 finished with value: 0.0592360808051075 and parameters: {'alpha': 1.9153144276954133, 'tol': 0.005079454204984848}. Best is trial 25 with value: 0.05923574329569733.\n",
      "[I 2025-05-12 20:48:35,644] Trial 192 finished with value: 0.05923576427201619 and parameters: {'alpha': 0.4309014393932685, 'tol': 0.005737218270577679}. Best is trial 25 with value: 0.05923574329569733.\n",
      "[I 2025-05-12 20:48:40,521] Trial 193 finished with value: 0.05923580060150675 and parameters: {'alpha': 1.1779065741693189, 'tol': 0.005726585424202678}. Best is trial 25 with value: 0.05923574329569733.\n",
      "[I 2025-05-12 20:48:41,897] Trial 195 finished with value: 0.05923574897218353 and parameters: {'alpha': 0.5599415637125102, 'tol': 0.005087567643557165}. Best is trial 25 with value: 0.05923574329569733.\n",
      "[I 2025-05-12 20:48:42,542] Trial 194 finished with value: 0.05923580076637799 and parameters: {'alpha': 1.1786132340403714, 'tol': 0.005057624849782622}. Best is trial 25 with value: 0.05923574329569733.\n",
      "[I 2025-05-12 20:48:49,389] Trial 196 finished with value: 0.059235764361321 and parameters: {'alpha': 0.9869936255568501, 'tol': 0.004543933514152344}. Best is trial 25 with value: 0.05923574329569733.\n",
      "[I 2025-05-12 20:48:54,323] Trial 197 finished with value: 0.05923586251479019 and parameters: {'alpha': 0.07254976440660732, 'tol': 0.004530393968247329}. Best is trial 25 with value: 0.05923574329569733.\n",
      "[I 2025-05-12 20:48:55,658] Trial 198 finished with value: 0.05923574381145137 and parameters: {'alpha': 0.6592592163715063, 'tol': 0.00412366135918537}. Best is trial 25 with value: 0.05923574329569733.\n",
      "[I 2025-05-12 20:48:56,422] Trial 199 finished with value: 0.05923579680652906 and parameters: {'alpha': 0.2737827769705508, 'tol': 0.004372302424789887}. Best is trial 25 with value: 0.05923574329569733.\n",
      "[I 2025-05-12 20:49:03,200] Trial 200 finished with value: 0.05923589123494969 and parameters: {'alpha': 0.004554331857161031, 'tol': 0.005671839699346898}. Best is trial 25 with value: 0.05923574329569733.\n",
      "[I 2025-05-12 20:49:08,057] Trial 201 finished with value: 0.05923578323590962 and parameters: {'alpha': 0.3305121619269217, 'tol': 0.006269439577554666}. Best is trial 25 with value: 0.05923574329569733.\n",
      "[I 2025-05-12 20:49:09,364] Trial 202 finished with value: 0.059235743290287905 and parameters: {'alpha': 0.7035117219847472, 'tol': 0.006423788090132493}. Best is trial 202 with value: 0.059235743290287905.\n",
      "[I 2025-05-12 20:49:10,146] Trial 203 finished with value: 0.05923580912115833 and parameters: {'alpha': 0.2286513852931033, 'tol': 0.0056912210240647005}. Best is trial 202 with value: 0.059235743290287905.\n",
      "[I 2025-05-12 20:49:16,893] Trial 204 finished with value: 0.05923630538349352 and parameters: {'alpha': 2.30775958288417, 'tol': 0.0036555049799532795}. Best is trial 202 with value: 0.059235743290287905.\n",
      "[I 2025-05-12 20:49:22,328] Trial 205 finished with value: 0.05923611294985301 and parameters: {'alpha': 1.9768831743620052, 'tol': 0.0033854662641387675}. Best is trial 202 with value: 0.059235743290287905.\n",
      "[I 2025-05-12 20:49:22,339] Trial 206 finished with value: 0.059236034655551766 and parameters: {'alpha': 1.8224727527902838, 'tol': 0.006427580117931342}. Best is trial 202 with value: 0.059235743290287905.\n",
      "[I 2025-05-12 20:49:23,870] Trial 207 finished with value: 0.059235827200712625 and parameters: {'alpha': 1.2819047764035822, 'tol': 0.007014610305909207}. Best is trial 202 with value: 0.059235743290287905.\n",
      "[I 2025-05-12 20:49:30,670] Trial 208 finished with value: 0.0592360417091586 and parameters: {'alpha': 1.8370418569758686, 'tol': 0.006154733220719061}. Best is trial 202 with value: 0.059235743290287905.\n",
      "[I 2025-05-12 20:49:34,941] Trial 209 finished with value: 0.059235919692438216 and parameters: {'alpha': 1.5586738359556003, 'tol': 0.007187092665451351}. Best is trial 202 with value: 0.059235743290287905.\n",
      "[I 2025-05-12 20:49:36,196] Trial 210 finished with value: 0.05923574815126886 and parameters: {'alpha': 0.8378638093050691, 'tol': 0.006418662047294414}. Best is trial 202 with value: 0.059235743290287905.\n",
      "[I 2025-05-12 20:49:37,085] Trial 211 finished with value: 0.059235750191202176 and parameters: {'alpha': 0.8640215365605735, 'tol': 0.0064629953092440766}. Best is trial 202 with value: 0.059235743290287905.\n",
      "[I 2025-05-12 20:49:43,898] Trial 212 finished with value: 0.059235744617778335 and parameters: {'alpha': 0.6334021049131228, 'tol': 0.0066504289359289445}. Best is trial 202 with value: 0.059235743290287905.\n",
      "[I 2025-05-12 20:49:47,418] Trial 214 finished with value: 0.059235827702704094 and parameters: {'alpha': 0.16842771007805435, 'tol': 0.0064761849836647515}. Best is trial 202 with value: 0.059235743290287905.\n",
      "[I 2025-05-12 20:49:48,706] Trial 213 finished with value: 0.05923575006773657 and parameters: {'alpha': 0.8625563555158164, 'tol': 0.006893660909111416}. Best is trial 202 with value: 0.059235743290287905.\n",
      "[I 2025-05-12 20:49:50,836] Trial 215 finished with value: 0.059235788409329866 and parameters: {'alpha': 0.30783233019416695, 'tol': 0.007056338388764263}. Best is trial 202 with value: 0.059235743290287905.\n",
      "[I 2025-05-12 20:49:57,559] Trial 216 finished with value: 0.059235877391108104 and parameters: {'alpha': 0.036323456941500964, 'tol': 0.0066060301367298}. Best is trial 202 with value: 0.059235743290287905.\n",
      "[I 2025-05-12 20:50:01,217] Trial 218 finished with value: 0.05923574772485803 and parameters: {'alpha': 0.5764432925142013, 'tol': 0.006676949294497076}. Best is trial 202 with value: 0.059235743290287905.\n",
      "[I 2025-05-12 20:50:01,219] Trial 217 finished with value: 0.05923577019081183 and parameters: {'alpha': 1.0247765496603392, 'tol': 0.006611133279956411}. Best is trial 202 with value: 0.059235743290287905.\n",
      "[I 2025-05-12 20:50:05,320] Trial 219 finished with value: 0.059235855808309014 and parameters: {'alpha': 1.3778981094293514, 'tol': 0.0069974659671158375}. Best is trial 202 with value: 0.059235743290287905.\n",
      "[I 2025-05-12 20:50:09,013] Trial 220 finished with value: 0.05923597398721563 and parameters: {'alpha': 1.6903380385993358, 'tol': 0.007068602503149765}. Best is trial 202 with value: 0.059235743290287905.\n",
      "[I 2025-05-12 20:50:14,606] Trial 222 finished with value: 0.05923598917137718 and parameters: {'alpha': 1.7246754144465912, 'tol': 0.006258271535961857}. Best is trial 202 with value: 0.059235743290287905.\n",
      "[I 2025-05-12 20:50:15,865] Trial 221 finished with value: 0.05923583469892288 and parameters: {'alpha': 1.3083444027619069, 'tol': 0.006812275509198871}. Best is trial 202 with value: 0.059235743290287905.\n",
      "[I 2025-05-12 20:50:18,021] Trial 223 finished with value: 0.059235831161330625 and parameters: {'alpha': 1.2959991043157582, 'tol': 0.006305254228798066}. Best is trial 202 with value: 0.059235743290287905.\n",
      "[I 2025-05-12 20:50:22,172] Trial 224 finished with value: 0.0592357559486849 and parameters: {'alpha': 0.9220533183106643, 'tol': 0.006808783242630949}. Best is trial 202 with value: 0.059235743290287905.\n",
      "[I 2025-05-12 20:50:28,361] Trial 225 finished with value: 0.059235846326114464 and parameters: {'alpha': 1.347460674511755, 'tol': 0.005371386962289366}. Best is trial 202 with value: 0.059235743290287905.\n",
      "[I 2025-05-12 20:50:29,636] Trial 226 finished with value: 0.059235760742839275 and parameters: {'alpha': 0.45437916165121645, 'tol': 0.0064818700501623585}. Best is trial 202 with value: 0.059235743290287905.\n",
      "[I 2025-05-12 20:50:31,135] Trial 227 finished with value: 0.0592357620530029 and parameters: {'alpha': 0.9706627249740889, 'tol': 0.007319646135023889}. Best is trial 202 with value: 0.059235743290287905.\n",
      "[I 2025-05-12 20:50:35,912] Trial 228 finished with value: 0.059235799923619964 and parameters: {'alpha': 0.26187510287874993, 'tol': 0.006003070479684689}. Best is trial 202 with value: 0.059235743290287905.\n",
      "[I 2025-05-12 20:50:42,659] Trial 229 finished with value: 0.05923579569897346 and parameters: {'alpha': 0.27810248285481715, 'tol': 0.006977165358259894}. Best is trial 202 with value: 0.059235743290287905.\n",
      "[I 2025-05-12 20:50:43,425] Trial 230 finished with value: 0.05923584553944537 and parameters: {'alpha': 0.11706381782374975, 'tol': 0.007414678086503508}. Best is trial 202 with value: 0.059235743290287905.\n",
      "[I 2025-05-12 20:50:45,568] Trial 231 finished with value: 0.05923578550069613 and parameters: {'alpha': 0.32040305236227234, 'tol': 0.006606407294607685}. Best is trial 202 with value: 0.059235743290287905.\n",
      "[I 2025-05-12 20:50:50,382] Trial 232 finished with value: 0.05923585783794037 and parameters: {'alpha': 0.08444723980463231, 'tol': 0.006897745591142547}. Best is trial 202 with value: 0.059235743290287905.\n",
      "[I 2025-05-12 20:50:54,700] Trial 233 finished with value: 0.05923578926649825 and parameters: {'alpha': 1.126799896346153, 'tol': 0.00737821457061154}. Best is trial 202 with value: 0.059235743290287905.\n",
      "[I 2025-05-12 20:50:55,957] Trial 234 finished with value: 0.059235863466411666 and parameters: {'alpha': 1.4016434309712438, 'tol': 0.008012157662710523}. Best is trial 202 with value: 0.059235743290287905.\n",
      "[I 2025-05-12 20:50:57,486] Trial 235 finished with value: 0.05923583346526013 and parameters: {'alpha': 0.15123942724446804, 'tol': 0.00977037041414554}. Best is trial 202 with value: 0.059235743290287905.\n",
      "[I 2025-05-12 20:51:01,659] Trial 236 finished with value: 0.059235961143639985 and parameters: {'alpha': 1.6605276571887124, 'tol': 0.008728927192429528}. Best is trial 202 with value: 0.059235743290287905.\n",
      "[I 2025-05-12 20:51:08,996] Trial 237 finished with value: 0.059235797844928585 and parameters: {'alpha': 1.1659480089615193, 'tol': 0.008692718709045881}. Best is trial 202 with value: 0.059235743290287905.\n",
      "[I 2025-05-12 20:51:08,997] Trial 238 finished with value: 0.05923579991294986 and parameters: {'alpha': 1.1749450496276377, 'tol': 0.008628408067158254}. Best is trial 202 with value: 0.059235743290287905.\n",
      "[I 2025-05-12 20:51:10,526] Trial 239 finished with value: 0.05923607116820488 and parameters: {'alpha': 1.8963883936601018, 'tol': 0.0085355418746294}. Best is trial 202 with value: 0.059235743290287905.\n",
      "[I 2025-05-12 20:51:15,437] Trial 240 finished with value: 0.059235765371028405 and parameters: {'alpha': 0.9938660587790235, 'tol': 0.004329858828095506}. Best is trial 202 with value: 0.059235743290287905.\n",
      "[I 2025-05-12 20:51:22,804] Trial 241 finished with value: 0.05923686527635163 and parameters: {'alpha': 3.0801677964964647, 'tol': 0.007038940931514441}. Best is trial 202 with value: 0.059235743290287905.\n",
      "[I 2025-05-12 20:51:22,807] Trial 242 finished with value: 0.05923722257546665 and parameters: {'alpha': 3.4998990171379036, 'tol': 0.006761980326291845}. Best is trial 202 with value: 0.059235743290287905.\n",
      "[I 2025-05-12 20:51:24,335] Trial 243 finished with value: 0.059235892770609415 and parameters: {'alpha': 1.486794894896055, 'tol': 0.005269900866484874}. Best is trial 202 with value: 0.059235743290287905.\n",
      "[I 2025-05-12 20:51:29,138] Trial 244 finished with value: 0.05923574752286698 and parameters: {'alpha': 0.828752604261745, 'tol': 0.009992721546839974}. Best is trial 202 with value: 0.059235743290287905.\n",
      "[I 2025-05-12 20:51:35,882] Trial 246 finished with value: 0.05923583764909344 and parameters: {'alpha': 1.318473977798051, 'tol': 0.009956948688852859}. Best is trial 202 with value: 0.059235743290287905.\n",
      "[I 2025-05-12 20:51:36,585] Trial 245 finished with value: 0.0592358291988243 and parameters: {'alpha': 0.16390559114104397, 'tol': 0.009248524392281507}. Best is trial 202 with value: 0.059235743290287905.\n",
      "[I 2025-05-12 20:51:37,933] Trial 247 finished with value: 0.059235780232572206 and parameters: {'alpha': 0.344396919461446, 'tol': 0.009641965383064144}. Best is trial 202 with value: 0.059235743290287905.\n",
      "[I 2025-05-12 20:51:40,697] Trial 248 finished with value: 0.0592357542011611 and parameters: {'alpha': 0.9061264694734918, 'tol': 0.009861271391412938}. Best is trial 202 with value: 0.059235743290287905.\n",
      "[I 2025-05-12 20:51:42,892] Trial 249 finished with value: 0.059235753629991436 and parameters: {'alpha': 0.5107793185770112, 'tol': 0.009348056044685053}. Best is trial 202 with value: 0.059235743290287905.\n"
     ]
    }
   ],
   "source": [
    "def objective(trial):    \n",
    "    params = {\n",
    "        \"random_state\": CFG.seed,\n",
    "        \"alpha\": trial.suggest_float(\"alpha\", 0, 10),\n",
    "        \"tol\": trial.suggest_float(\"tol\", 1e-6, 1e-2)\n",
    "    }\n",
    "    \n",
    "    trainer = Trainer(\n",
    "        Ridge(**params),\n",
    "        cv=CFG.cv,\n",
    "        metric=CFG.metric,\n",
    "        task=\"regression\",\n",
    "        verbose=False\n",
    "    )\n",
    "    trainer.fit(X, y)\n",
    "    \n",
    "    return trainer.overall_score\n",
    "\n",
    "if CFG.run_optuna:\n",
    "    sampler = optuna.samplers.TPESampler(seed=CFG.seed, multivariate=True)\n",
    "    study = optuna.create_study(direction=\"minimize\", sampler=sampler)\n",
    "    study.optimize(objective, n_trials=CFG.n_optuna_trials, n_jobs=-1, catch=(ValueError,))\n",
    "    best_params = study.best_params\n",
    "\n",
    "    ridge_params = {\n",
    "        \"random_state\": CFG.seed,\n",
    "        \"alpha\": best_params[\"alpha\"],\n",
    "        \"tol\": best_params[\"tol\"]\n",
    "    }\n",
    "else:\n",
    "    ridge_params = {\n",
    "        \"random_state\": CFG.seed\n",
    "    }"
   ]
  },
  {
   "cell_type": "code",
   "execution_count": 29,
   "id": "62f58d54",
   "metadata": {
    "execution": {
     "iopub.execute_input": "2025-05-12T20:51:42.958395Z",
     "iopub.status.busy": "2025-05-12T20:51:42.957892Z",
     "iopub.status.idle": "2025-05-12T20:51:42.963878Z",
     "shell.execute_reply": "2025-05-12T20:51:42.962505Z"
    },
    "papermill": {
     "duration": 0.038639,
     "end_time": "2025-05-12T20:51:42.966227",
     "exception": false,
     "start_time": "2025-05-12T20:51:42.927588",
     "status": "completed"
    },
    "tags": []
   },
   "outputs": [
    {
     "name": "stdout",
     "output_type": "stream",
     "text": [
      "{\n",
      "  \"random_state\": 42,\n",
      "  \"alpha\": 0.7035117219847472,\n",
      "  \"tol\": 0.006423788090132493\n",
      "}\n"
     ]
    }
   ],
   "source": [
    "print(json.dumps(ridge_params, indent=2))"
   ]
  },
  {
   "cell_type": "code",
   "execution_count": 30,
   "id": "792263ba",
   "metadata": {
    "execution": {
     "iopub.execute_input": "2025-05-12T20:51:43.048438Z",
     "iopub.status.busy": "2025-05-12T20:51:43.048097Z",
     "iopub.status.idle": "2025-05-12T20:51:46.926870Z",
     "shell.execute_reply": "2025-05-12T20:51:46.925850Z"
    },
    "papermill": {
     "duration": 3.922914,
     "end_time": "2025-05-12T20:51:46.928618",
     "exception": false,
     "start_time": "2025-05-12T20:51:43.005704",
     "status": "completed"
    },
    "tags": []
   },
   "outputs": [
    {
     "name": "stdout",
     "output_type": "stream",
     "text": [
      "Training Ridge\n",
      "\n",
      "--- Fold 0 - root_mean_squared_error: 0.0588 - Time: 0.13 s\n",
      "--- Fold 1 - root_mean_squared_error: 0.0596 - Time: 0.13 s\n",
      "--- Fold 2 - root_mean_squared_error: 0.0594 - Time: 0.13 s\n",
      "--- Fold 3 - root_mean_squared_error: 0.0583 - Time: 0.13 s\n",
      "--- Fold 4 - root_mean_squared_error: 0.0600 - Time: 0.14 s\n",
      "\n",
      "------ Overall root_mean_squared_error: 0.0592 - Mean root_mean_squared_error: 0.0592 ± 0.0006 - Time: 3.82 s\n"
     ]
    }
   ],
   "source": [
    "ridge_trainer = Trainer(\n",
    "    Ridge(**ridge_params),\n",
    "    cv=CFG.cv,\n",
    "    metric=CFG.metric,\n",
    "    task=\"regression\"\n",
    ")\n",
    "\n",
    "ridge_trainer.fit(X, y)\n",
    "\n",
    "scores[\"Ridge (ensemble)\"] = ridge_trainer.fold_scores\n",
    "ridge_test_preds = np.expm1(ridge_trainer.predict(X_test))"
   ]
  },
  {
   "cell_type": "code",
   "execution_count": 31,
   "id": "d8f6e361",
   "metadata": {
    "execution": {
     "iopub.execute_input": "2025-05-12T20:51:46.992556Z",
     "iopub.status.busy": "2025-05-12T20:51:46.992122Z",
     "iopub.status.idle": "2025-05-12T20:51:47.303675Z",
     "shell.execute_reply": "2025-05-12T20:51:47.302488Z"
    },
    "papermill": {
     "duration": 0.345244,
     "end_time": "2025-05-12T20:51:47.305443",
     "exception": false,
     "start_time": "2025-05-12T20:51:46.960199",
     "status": "completed"
    },
    "tags": []
   },
   "outputs": [
    {
     "data": {
      "image/png": "[encoded data removed]",
      "text/plain": [
       "<Figure size 1000x400 with 1 Axes>"
      ]
     },
     "metadata": {},
     "output_type": "display_data"
    }
   ],
   "source": [
    "ridge_coeffs = np.zeros((1, X.shape[1]))\n",
    "for m in ridge_trainer.estimators:\n",
    "    ridge_coeffs += m.coef_\n",
    "ridge_coeffs = ridge_coeffs / len(ridge_trainer.estimators)\n",
    "\n",
    "plot_weights(ridge_coeffs, \"Ridge Coefficients\")"
   ]
  },
  {
   "cell_type": "markdown",
   "id": "ebe09729",
   "metadata": {
    "papermill": {
     "duration": 0.031361,
     "end_time": "2025-05-12T20:51:47.368123",
     "exception": false,
     "start_time": "2025-05-12T20:51:47.336762",
     "status": "completed"
    },
    "tags": []
   },
   "source": [
    "# Submission"
   ]
  },
  {
   "cell_type": "code",
   "execution_count": 32,
   "id": "df9990e7",
   "metadata": {
    "execution": {
     "iopub.execute_input": "2025-05-12T20:51:47.430460Z",
     "iopub.status.busy": "2025-05-12T20:51:47.430145Z",
     "iopub.status.idle": "2025-05-12T20:51:48.121392Z",
     "shell.execute_reply": "2025-05-12T20:51:48.120459Z"
    },
    "papermill": {
     "duration": 0.724588,
     "end_time": "2025-05-12T20:51:48.123256",
     "exception": false,
     "start_time": "2025-05-12T20:51:47.398668",
     "status": "completed"
    },
    "tags": []
   },
   "outputs": [
    {
     "data": {
      "text/html": [
       "<div>\n",
       "<style scoped>\n",
       "    .dataframe tbody tr th:only-of-type {\n",
       "        vertical-align: middle;\n",
       "    }\n",
       "\n",
       "    .dataframe tbody tr th {\n",
       "        vertical-align: top;\n",
       "    }\n",
       "\n",
       "    .dataframe thead th {\n",
       "        text-align: right;\n",
       "    }\n",
       "</style>\n",
       "<table border=\"1\" class=\"dataframe\">\n",
       "  <thead>\n",
       "    <tr style=\"text-align: right;\">\n",
       "      <th></th>\n",
       "      <th>id</th>\n",
       "      <th>Calories</th>\n",
       "    </tr>\n",
       "  </thead>\n",
       "  <tbody>\n",
       "    <tr>\n",
       "      <th>0</th>\n",
       "      <td>750000</td>\n",
       "      <td>27.240289</td>\n",
       "    </tr>\n",
       "    <tr>\n",
       "      <th>1</th>\n",
       "      <td>750001</td>\n",
       "      <td>107.717765</td>\n",
       "    </tr>\n",
       "    <tr>\n",
       "      <th>2</th>\n",
       "      <td>750002</td>\n",
       "      <td>87.119592</td>\n",
       "    </tr>\n",
       "    <tr>\n",
       "      <th>3</th>\n",
       "      <td>750003</td>\n",
       "      <td>125.683626</td>\n",
       "    </tr>\n",
       "    <tr>\n",
       "      <th>4</th>\n",
       "      <td>750004</td>\n",
       "      <td>75.956334</td>\n",
       "    </tr>\n",
       "  </tbody>\n",
       "</table>\n",
       "</div>"
      ],
      "text/plain": [
       "       id    Calories\n",
       "0  750000   27.240289\n",
       "1  750001  107.717765\n",
       "2  750002   87.119592\n",
       "3  750003  125.683626\n",
       "4  750004   75.956334"
      ]
     },
     "execution_count": 32,
     "metadata": {},
     "output_type": "execute_result"
    }
   ],
   "source": [
    "sub = pd.read_csv(CFG.sample_sub_path)\n",
    "sub[CFG.target] = ridge_test_preds\n",
    "sub.to_csv(f\"sub_ridge_{np.mean(scores['Ridge (ensemble)']):.6f}.csv\", index=False)\n",
    "sub.head()"
   ]
  },
  {
   "cell_type": "markdown",
   "id": "03845f59",
   "metadata": {
    "papermill": {
     "duration": 0.029711,
     "end_time": "2025-05-12T20:51:48.184090",
     "exception": false,
     "start_time": "2025-05-12T20:51:48.154379",
     "status": "completed"
    },
    "tags": []
   },
   "source": [
    "# Results"
   ]
  },
  {
   "cell_type": "code",
   "execution_count": 33,
   "id": "f9164c1b",
   "metadata": {
    "execution": {
     "iopub.execute_input": "2025-05-12T20:51:48.246482Z",
     "iopub.status.busy": "2025-05-12T20:51:48.246167Z",
     "iopub.status.idle": "2025-05-12T20:51:48.881705Z",
     "shell.execute_reply": "2025-05-12T20:51:48.880697Z"
    },
    "papermill": {
     "duration": 0.668421,
     "end_time": "2025-05-12T20:51:48.883391",
     "exception": false,
     "start_time": "2025-05-12T20:51:48.214970",
     "status": "completed"
    },
    "tags": []
   },
   "outputs": [
    {
     "data": {
      "image/png": "[encoded data removed]",
      "text/plain": [
       "<Figure size 1500x270 with 2 Axes>"
      ]
     },
     "metadata": {},
     "output_type": "display_data"
    }
   ],
   "source": [
    "scores = pd.DataFrame(scores)\n",
    "mean_scores = scores.mean().sort_values(ascending=True)\n",
    "order = scores.mean().sort_values(ascending=True).index.tolist()\n",
    "\n",
    "min_score = mean_scores.min()\n",
    "max_score = mean_scores.max()\n",
    "padding = (max_score - min_score) * 0.5\n",
    "lower_limit = min_score - padding\n",
    "upper_limit = max_score + padding\n",
    "\n",
    "fig, axs = plt.subplots(1, 2, figsize=(15, scores.shape[1] * 0.3))\n",
    "\n",
    "boxplot = sns.boxplot(data=scores, order=order, ax=axs[0], orient=\"h\", color=\"grey\")\n",
    "axs[0].set_title(f\"Fold {CFG.metric.__name__}\")\n",
    "axs[0].set_xlabel(\"\")\n",
    "axs[0].set_ylabel(\"\")\n",
    "\n",
    "barplot = sns.barplot(x=mean_scores.values, y=mean_scores.index, ax=axs[1], color=\"grey\")\n",
    "axs[1].set_title(f\"Average {CFG.metric.__name__}\")\n",
    "axs[1].set_xlabel(\"\")\n",
    "axs[1].set_xlim(left=lower_limit, right=upper_limit)\n",
    "axs[1].set_ylabel(\"\")\n",
    "\n",
    "for i, (score, model) in enumerate(zip(mean_scores.values, mean_scores.index)):\n",
    "    color = \"cyan\" if \"ensemble\" in model.lower() else \"grey\"\n",
    "    barplot.patches[i].set_facecolor(color)\n",
    "    boxplot.patches[i].set_facecolor(color)\n",
    "    barplot.text(score, i, round(score, 6), va=\"center\")\n",
    "\n",
    "plt.tight_layout()\n",
    "plt.show()"
   ]
  },
  {
   "cell_type": "code",
   "execution_count": 34,
   "id": "00f198d4",
   "metadata": {
    "execution": {
     "iopub.execute_input": "2025-05-12T20:51:48.949585Z",
     "iopub.status.busy": "2025-05-12T20:51:48.949266Z",
     "iopub.status.idle": "2025-05-12T20:51:48.955686Z",
     "shell.execute_reply": "2025-05-12T20:51:48.954734Z"
    },
    "papermill": {
     "duration": 0.041798,
     "end_time": "2025-05-12T20:51:48.957517",
     "exception": false,
     "start_time": "2025-05-12T20:51:48.915719",
     "status": "completed"
    },
    "tags": []
   },
   "outputs": [],
   "source": [
    "shutil.rmtree(\"catboost_info\", ignore_errors=True)"
   ]
  }
 ],
 "metadata": {
  "kaggle": {
   "accelerator": "none",
   "dataSources": [
    {
     "databundleVersionId": 11893428,
     "sourceId": 91716,
     "sourceType": "competition"
    },
    {
     "datasetId": 6512323,
     "sourceId": 10522392,
     "sourceType": "datasetVersion"
    },
    {
     "sourceId": 237456322,
     "sourceType": "kernelVersion"
    }
   ],
   "dockerImageVersionId": 31012,
   "isGpuEnabled": false,
   "isInternetEnabled": true,
   "language": "python",
   "sourceType": "notebook"
  },
  "kernelspec": {
   "display_name": "Python 3",
   "language": "python",
   "name": "python3"
  },
  "language_info": {
   "codemirror_mode": {
    "name": "ipython",
    "version": 3
   },
   "file_extension": ".py",
   "mimetype": "text/x-python",
   "name": "python",
   "nbconvert_exporter": "python",
   "pygments_lexer": "ipython3",
   "version": "3.11.11"
  },
  "papermill": {
   "default_parameters": {},
   "duration": 5876.295098,
   "end_time": "2025-05-12T20:51:52.672078",
   "environment_variables": {},
   "exception": null,
   "input_path": "__notebook__.ipynb",
   "output_path": "__notebook__.ipynb",
   "parameters": {},
   "start_time": "2025-05-12T19:13:56.376980",
   "version": "2.6.0"
  }
 },
 "nbformat": 4,
 "nbformat_minor": 5
}
