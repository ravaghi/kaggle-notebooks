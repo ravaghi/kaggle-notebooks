{
 "cells": [
  {
   "cell_type": "code",
   "execution_count": 1,
   "id": "2142a69d",
   "metadata": {
    "_kg_hide-output": true,
    "execution": {
     "iopub.execute_input": "2025-05-14T19:32:00.152858Z",
     "iopub.status.busy": "2025-05-14T19:32:00.152541Z",
     "iopub.status.idle": "2025-05-14T19:32:13.205476Z",
     "shell.execute_reply": "2025-05-14T19:32:13.204380Z"
    },
    "papermill": {
     "duration": 13.064701,
     "end_time": "2025-05-14T19:32:13.207380",
     "exception": false,
     "start_time": "2025-05-14T19:32:00.142679",
     "status": "completed"
    },
    "scrolled": true,
    "tags": []
   },
   "outputs": [
    {
     "name": "stdout",
     "output_type": "stream",
     "text": [
      "Requirement already satisfied: ydf in /usr/local/lib/python3.11/dist-packages (0.9.0)\r\n",
      "Collecting koolbox\r\n",
      "  Downloading koolbox-0.1.3-py3-none-any.whl.metadata (3.4 kB)\r\n",
      "Collecting scikit-learn==1.5.2\r\n",
      "  Downloading scikit_learn-1.5.2-cp311-cp311-manylinux_2_17_x86_64.manylinux2014_x86_64.whl.metadata (13 kB)\r\n",
      "Requirement already satisfied: numpy>=1.19.5 in /usr/local/lib/python3.11/dist-packages (from scikit-learn==1.5.2) (1.26.4)\r\n",
      "Requirement already satisfied: scipy>=1.6.0 in /usr/local/lib/python3.11/dist-packages (from scikit-learn==1.5.2) (1.15.2)\r\n",
      "Requirement already satisfied: joblib>=1.2.0 in /usr/local/lib/python3.11/dist-packages (from scikit-learn==1.5.2) (1.4.2)\r\n",
      "Requirement already satisfied: threadpoolctl>=3.1.0 in /usr/local/lib/python3.11/dist-packages (from scikit-learn==1.5.2) (3.6.0)\r\n",
      "Requirement already satisfied: absl_py in /usr/local/lib/python3.11/dist-packages (from ydf) (1.4.0)\r\n",
      "Requirement already satisfied: protobuf>=3.14 in /usr/local/lib/python3.11/dist-packages (from ydf) (3.20.3)\r\n",
      "Requirement already satisfied: optuna>=4.2.1 in /usr/local/lib/python3.11/dist-packages (from koolbox) (4.2.1)\r\n",
      "Requirement already satisfied: pandas>=2.2.3 in /usr/local/lib/python3.11/dist-packages (from koolbox) (2.2.3)\r\n",
      "Requirement already satisfied: mkl_fft in /usr/local/lib/python3.11/dist-packages (from numpy>=1.19.5->scikit-learn==1.5.2) (1.3.8)\r\n",
      "Requirement already satisfied: mkl_random in /usr/local/lib/python3.11/dist-packages (from numpy>=1.19.5->scikit-learn==1.5.2) (1.2.4)\r\n",
      "Requirement already satisfied: mkl_umath in /usr/local/lib/python3.11/dist-packages (from numpy>=1.19.5->scikit-learn==1.5.2) (0.1.1)\r\n",
      "Requirement already satisfied: mkl in /usr/local/lib/python3.11/dist-packages (from numpy>=1.19.5->scikit-learn==1.5.2) (2025.1.0)\r\n",
      "Requirement already satisfied: tbb4py in /usr/local/lib/python3.11/dist-packages (from numpy>=1.19.5->scikit-learn==1.5.2) (2022.1.0)\r\n",
      "Requirement already satisfied: mkl-service in /usr/local/lib/python3.11/dist-packages (from numpy>=1.19.5->scikit-learn==1.5.2) (2.4.1)\r\n",
      "Requirement already satisfied: alembic>=1.5.0 in /usr/local/lib/python3.11/dist-packages (from optuna>=4.2.1->koolbox) (1.15.2)\r\n",
      "Requirement already satisfied: colorlog in /usr/local/lib/python3.11/dist-packages (from optuna>=4.2.1->koolbox) (6.9.0)\r\n",
      "Requirement already satisfied: packaging>=20.0 in /usr/local/lib/python3.11/dist-packages (from optuna>=4.2.1->koolbox) (24.2)\r\n",
      "Requirement already satisfied: sqlalchemy>=1.4.2 in /usr/local/lib/python3.11/dist-packages (from optuna>=4.2.1->koolbox) (2.0.38)\r\n",
      "Requirement already satisfied: tqdm in /usr/local/lib/python3.11/dist-packages (from optuna>=4.2.1->koolbox) (4.67.1)\r\n",
      "Requirement already satisfied: PyYAML in /usr/local/lib/python3.11/dist-packages (from optuna>=4.2.1->koolbox) (6.0.2)\r\n",
      "Requirement already satisfied: python-dateutil>=2.8.2 in /usr/local/lib/python3.11/dist-packages (from pandas>=2.2.3->koolbox) (2.9.0.post0)\r\n",
      "Requirement already satisfied: pytz>=2020.1 in /usr/local/lib/python3.11/dist-packages (from pandas>=2.2.3->koolbox) (2025.2)\r\n",
      "Requirement already satisfied: tzdata>=2022.7 in /usr/local/lib/python3.11/dist-packages (from pandas>=2.2.3->koolbox) (2025.2)\r\n",
      "Requirement already satisfied: Mako in /usr/local/lib/python3.11/dist-packages (from alembic>=1.5.0->optuna>=4.2.1->koolbox) (1.3.9)\r\n",
      "Requirement already satisfied: typing-extensions>=4.12 in /usr/local/lib/python3.11/dist-packages (from alembic>=1.5.0->optuna>=4.2.1->koolbox) (4.13.1)\r\n",
      "Requirement already satisfied: six>=1.5 in /usr/local/lib/python3.11/dist-packages (from python-dateutil>=2.8.2->pandas>=2.2.3->koolbox) (1.17.0)\r\n",
      "Requirement already satisfied: greenlet!=0.4.17 in /usr/local/lib/python3.11/dist-packages (from sqlalchemy>=1.4.2->optuna>=4.2.1->koolbox) (3.1.1)\r\n",
      "Requirement already satisfied: intel-openmp<2026,>=2024 in /usr/local/lib/python3.11/dist-packages (from mkl->numpy>=1.19.5->scikit-learn==1.5.2) (2024.2.0)\r\n",
      "Requirement already satisfied: tbb==2022.* in /usr/local/lib/python3.11/dist-packages (from mkl->numpy>=1.19.5->scikit-learn==1.5.2) (2022.1.0)\r\n",
      "Requirement already satisfied: tcmlib==1.* in /usr/local/lib/python3.11/dist-packages (from tbb==2022.*->mkl->numpy>=1.19.5->scikit-learn==1.5.2) (1.2.0)\r\n",
      "Requirement already satisfied: intel-cmplr-lib-rt in /usr/local/lib/python3.11/dist-packages (from mkl_umath->numpy>=1.19.5->scikit-learn==1.5.2) (2024.2.0)\r\n",
      "Requirement already satisfied: intel-cmplr-lib-ur==2024.2.0 in /usr/local/lib/python3.11/dist-packages (from intel-openmp<2026,>=2024->mkl->numpy>=1.19.5->scikit-learn==1.5.2) (2024.2.0)\r\n",
      "Requirement already satisfied: MarkupSafe>=0.9.2 in /usr/local/lib/python3.11/dist-packages (from Mako->alembic>=1.5.0->optuna>=4.2.1->koolbox) (3.0.2)\r\n",
      "Downloading scikit_learn-1.5.2-cp311-cp311-manylinux_2_17_x86_64.manylinux2014_x86_64.whl (13.3 MB)\r\n",
      "\u001b[2K   \u001b[90m━━━━━━━━━━━━━━━━━━━━━━━━━━━━━━━━━━━━━━━━\u001b[0m \u001b[32m13.3/13.3 MB\u001b[0m \u001b[31m74.3 MB/s\u001b[0m eta \u001b[36m0:00:00\u001b[0m\r\n",
      "\u001b[?25hDownloading koolbox-0.1.3-py3-none-any.whl (18 kB)\r\n",
      "Installing collected packages: scikit-learn, koolbox\r\n",
      "  Attempting uninstall: scikit-learn\r\n",
      "    Found existing installation: scikit-learn 1.2.2\r\n",
      "    Uninstalling scikit-learn-1.2.2:\r\n",
      "      Successfully uninstalled scikit-learn-1.2.2\r\n",
      "\u001b[31mERROR: pip's dependency resolver does not currently take into account all the packages that are installed. This behaviour is the source of the following dependency conflicts.\r\n",
      "bigframes 1.36.0 requires rich<14,>=12.4.4, but you have rich 14.0.0 which is incompatible.\u001b[0m\u001b[31m\r\n",
      "\u001b[0mSuccessfully installed koolbox-0.1.3 scikit-learn-1.5.2\r\n",
      "Collecting scikeras\r\n",
      "  Downloading scikeras-0.13.0-py3-none-any.whl.metadata (3.1 kB)\r\n",
      "Downloading scikeras-0.13.0-py3-none-any.whl (26 kB)\r\n",
      "Installing collected packages: scikeras\r\n",
      "Successfully installed scikeras-0.13.0\r\n"
     ]
    }
   ],
   "source": [
    "!pip install ydf koolbox scikit-learn==1.5.2 && pip install --no-deps scikeras"
   ]
  },
  {
   "cell_type": "markdown",
   "id": "d5ed0caf",
   "metadata": {
    "papermill": {
     "duration": 0.008421,
     "end_time": "2025-05-14T19:32:13.223787",
     "exception": false,
     "start_time": "2025-05-14T19:32:13.215366",
     "status": "completed"
    },
    "tags": []
   },
   "source": [
    "# Imports and configs"
   ]
  },
  {
   "cell_type": "code",
   "execution_count": 2,
   "id": "2cc14a5a",
   "metadata": {
    "_kg_hide-output": true,
    "execution": {
     "iopub.execute_input": "2025-05-14T19:32:13.240669Z",
     "iopub.status.busy": "2025-05-14T19:32:13.240317Z",
     "iopub.status.idle": "2025-05-14T19:32:44.379845Z",
     "shell.execute_reply": "2025-05-14T19:32:44.378571Z"
    },
    "papermill": {
     "duration": 31.150702,
     "end_time": "2025-05-14T19:32:44.382072",
     "exception": false,
     "start_time": "2025-05-14T19:32:13.231370",
     "status": "completed"
    },
    "tags": []
   },
   "outputs": [
    {
     "name": "stderr",
     "output_type": "stream",
     "text": [
      "2025-05-14 19:32:20.273120: E external/local_xla/xla/stream_executor/cuda/cuda_fft.cc:477] Unable to register cuFFT factory: Attempting to register factory for plugin cuFFT when one has already been registered\n",
      "WARNING: All log messages before absl::InitializeLog() is called are written to STDERR\n",
      "E0000 00:00:1747251140.577470      13 cuda_dnn.cc:8310] Unable to register cuDNN factory: Attempting to register factory for plugin cuDNN when one has already been registered\n",
      "E0000 00:00:1747251140.673194      13 cuda_blas.cc:1418] Unable to register cuBLAS factory: Attempting to register factory for plugin cuBLAS when one has already been registered\n"
     ]
    }
   ],
   "source": [
    "from sklearn.ensemble import HistGradientBoostingRegressor, BaggingRegressor\n",
    "from sklearn.preprocessing import StandardScaler, OneHotEncoder\n",
    "from sklearn.feature_selection import mutual_info_regression\n",
    "from sklearn.base import BaseEstimator, RegressorMixin\n",
    "from sklearn.metrics import root_mean_squared_error\n",
    "from sklearn.compose import ColumnTransformer\n",
    "from sklearn.pipeline import make_pipeline\n",
    "from sklearn.model_selection import KFold\n",
    "from sklearn.linear_model import Ridge\n",
    "from scikeras.wrappers import KerasRegressor\n",
    "from lightgbm import LGBMRegressor, early_stopping, log_evaluation\n",
    "from ydf import GradientBoostedTreesLearner\n",
    "from catboost import CatBoostRegressor\n",
    "from xgboost import XGBRegressor\n",
    "from koolbox import Trainer\n",
    "import matplotlib.pyplot as plt\n",
    "import contextlib, io\n",
    "import seaborn as sns\n",
    "import pandas as pd\n",
    "import numpy as np\n",
    "import warnings\n",
    "import joblib\n",
    "import shutil\n",
    "import optuna\n",
    "import keras\n",
    "import json\n",
    "import glob\n",
    "import ydf\n",
    "\n",
    "ydf.verbose(2)\n",
    "warnings.filterwarnings(\"ignore\")"
   ]
  },
  {
   "cell_type": "code",
   "execution_count": 3,
   "id": "d553cb7c",
   "metadata": {
    "execution": {
     "iopub.execute_input": "2025-05-14T19:32:44.400206Z",
     "iopub.status.busy": "2025-05-14T19:32:44.399256Z",
     "iopub.status.idle": "2025-05-14T19:32:44.407406Z",
     "shell.execute_reply": "2025-05-14T19:32:44.406164Z"
    },
    "papermill": {
     "duration": 0.019583,
     "end_time": "2025-05-14T19:32:44.410148",
     "exception": false,
     "start_time": "2025-05-14T19:32:44.390565",
     "status": "completed"
    },
    "tags": []
   },
   "outputs": [],
   "source": [
    "class CFG:\n",
    "    train_path = \"/kaggle/input/playground-series-s5e5/train.csv\"\n",
    "    test_path = \"/kaggle/input/playground-series-s5e5/test.csv\"\n",
    "    sample_sub_path = \"/kaggle/input/playground-series-s5e5/sample_submission.csv\"\n",
    "    \n",
    "    original_path = \"/kaggle/input/calories-burnt-prediction/calories.csv\"\n",
    "\n",
    "    metric = root_mean_squared_error\n",
    "    target = \"Calories\"\n",
    "    n_folds = 5\n",
    "    seed = 42\n",
    "\n",
    "    cv = KFold(n_splits=n_folds, random_state=seed, shuffle=True)\n",
    "\n",
    "    run_optuna = True\n",
    "    n_optuna_trials = 250"
   ]
  },
  {
   "cell_type": "markdown",
   "id": "10bb09d4",
   "metadata": {
    "papermill": {
     "duration": 0.010449,
     "end_time": "2025-05-14T19:32:44.430781",
     "exception": false,
     "start_time": "2025-05-14T19:32:44.420332",
     "status": "completed"
    },
    "tags": []
   },
   "source": [
    "# Data loading and preprocessing"
   ]
  },
  {
   "cell_type": "code",
   "execution_count": 4,
   "id": "c0584f9d",
   "metadata": {
    "execution": {
     "iopub.execute_input": "2025-05-14T19:32:44.448474Z",
     "iopub.status.busy": "2025-05-14T19:32:44.448096Z",
     "iopub.status.idle": "2025-05-14T19:32:46.032857Z",
     "shell.execute_reply": "2025-05-14T19:32:46.031840Z"
    },
    "papermill": {
     "duration": 1.595822,
     "end_time": "2025-05-14T19:32:46.035146",
     "exception": false,
     "start_time": "2025-05-14T19:32:44.439324",
     "status": "completed"
    },
    "tags": []
   },
   "outputs": [],
   "source": [
    "train = pd.read_csv(CFG.train_path, index_col=\"id\")\n",
    "test = pd.read_csv(CFG.test_path, index_col=\"id\")\n",
    "\n",
    "train[\"Sex\"] = train[\"Sex\"].map({\"male\": 0, \"female\": 1})\n",
    "test[\"Sex\"] = test[\"Sex\"].map({\"male\": 0, \"female\": 1})\n",
    "\n",
    "X = train.drop(CFG.target, axis=1)\n",
    "y = np.log1p(train[CFG.target])\n",
    "X_test = test"
   ]
  },
  {
   "cell_type": "code",
   "execution_count": 5,
   "id": "1e64aac3",
   "metadata": {
    "execution": {
     "iopub.execute_input": "2025-05-14T19:32:46.055432Z",
     "iopub.status.busy": "2025-05-14T19:32:46.055062Z",
     "iopub.status.idle": "2025-05-14T19:32:46.094844Z",
     "shell.execute_reply": "2025-05-14T19:32:46.093890Z"
    },
    "papermill": {
     "duration": 0.051162,
     "end_time": "2025-05-14T19:32:46.096689",
     "exception": false,
     "start_time": "2025-05-14T19:32:46.045527",
     "status": "completed"
    },
    "tags": []
   },
   "outputs": [],
   "source": [
    "original = pd.read_csv(CFG.original_path, index_col=\"User_ID\")\n",
    "original[\"Gender\"] = original[\"Gender\"].map({\"male\": 0, \"female\": 1})\n",
    "original = original.rename(columns={\"Gender\": \"Sex\"})\n",
    "\n",
    "X_original = original.drop(CFG.target, axis=1)\n",
    "y_original = np.log1p(original[CFG.target])"
   ]
  },
  {
   "cell_type": "code",
   "execution_count": 6,
   "id": "86c6777e",
   "metadata": {
    "execution": {
     "iopub.execute_input": "2025-05-14T19:32:46.114927Z",
     "iopub.status.busy": "2025-05-14T19:32:46.114594Z",
     "iopub.status.idle": "2025-05-14T19:34:23.915829Z",
     "shell.execute_reply": "2025-05-14T19:34:23.914887Z"
    },
    "papermill": {
     "duration": 97.820557,
     "end_time": "2025-05-14T19:34:23.925866",
     "exception": false,
     "start_time": "2025-05-14T19:32:46.105309",
     "status": "completed"
    },
    "tags": []
   },
   "outputs": [
    {
     "data": {
      "text/html": [
       "<style type=\"text/css\">\n",
       "#T_a6cb8_row0_col0 {\n",
       "  width: 10em;\n",
       "  background: linear-gradient(90deg, #006837 100.0%, transparent 100.0%);\n",
       "}\n",
       "#T_a6cb8_row1_col0 {\n",
       "  width: 10em;\n",
       "  background: linear-gradient(90deg, #afdd70 68.3%, transparent 68.3%);\n",
       "}\n",
       "#T_a6cb8_row2_col0 {\n",
       "  width: 10em;\n",
       "  background: linear-gradient(90deg, #daf08d 59.6%, transparent 59.6%);\n",
       "}\n",
       "#T_a6cb8_row3_col0 {\n",
       "  width: 10em;\n",
       "  background: linear-gradient(90deg, #c21c27 6.0%, transparent 6.0%);\n",
       "}\n",
       "#T_a6cb8_row4_col0, #T_a6cb8_row5_col0 {\n",
       "  width: 10em;\n",
       "  background: linear-gradient(90deg, #b50f26 3.4%, transparent 3.4%);\n",
       "}\n",
       "#T_a6cb8_row6_col0 {\n",
       "  width: 10em;\n",
       "  background: linear-gradient(90deg, #a90426 1.0%, transparent 1.0%);\n",
       "}\n",
       "</style>\n",
       "<table id=\"T_a6cb8\">\n",
       "  <thead>\n",
       "    <tr>\n",
       "      <th class=\"blank level0\" >&nbsp;</th>\n",
       "      <th id=\"T_a6cb8_level0_col0\" class=\"col_heading level0 col0\" >Mutual Information</th>\n",
       "    </tr>\n",
       "  </thead>\n",
       "  <tbody>\n",
       "    <tr>\n",
       "      <th id=\"T_a6cb8_level0_row0\" class=\"row_heading level0 row0\" >Duration</th>\n",
       "      <td id=\"T_a6cb8_row0_col0\" class=\"data row0 col0\" >1.640567</td>\n",
       "    </tr>\n",
       "    <tr>\n",
       "      <th id=\"T_a6cb8_level0_row1\" class=\"row_heading level0 row1\" >Body_Temp</th>\n",
       "      <td id=\"T_a6cb8_row1_col0\" class=\"data row1 col0\" >1.120766</td>\n",
       "    </tr>\n",
       "    <tr>\n",
       "      <th id=\"T_a6cb8_level0_row2\" class=\"row_heading level0 row2\" >Heart_Rate</th>\n",
       "      <td id=\"T_a6cb8_row2_col0\" class=\"data row2 col0\" >0.976966</td>\n",
       "    </tr>\n",
       "    <tr>\n",
       "      <th id=\"T_a6cb8_level0_row3\" class=\"row_heading level0 row3\" >Age</th>\n",
       "      <td id=\"T_a6cb8_row3_col0\" class=\"data row3 col0\" >0.098387</td>\n",
       "    </tr>\n",
       "    <tr>\n",
       "      <th id=\"T_a6cb8_level0_row4\" class=\"row_heading level0 row4\" >Height</th>\n",
       "      <td id=\"T_a6cb8_row4_col0\" class=\"data row4 col0\" >0.056501</td>\n",
       "    </tr>\n",
       "    <tr>\n",
       "      <th id=\"T_a6cb8_level0_row5\" class=\"row_heading level0 row5\" >Weight</th>\n",
       "      <td id=\"T_a6cb8_row5_col0\" class=\"data row5 col0\" >0.055709</td>\n",
       "    </tr>\n",
       "    <tr>\n",
       "      <th id=\"T_a6cb8_level0_row6\" class=\"row_heading level0 row6\" >Sex</th>\n",
       "      <td id=\"T_a6cb8_row6_col0\" class=\"data row6 col0\" >0.017174</td>\n",
       "    </tr>\n",
       "  </tbody>\n",
       "</table>\n"
      ],
      "text/plain": [
       "<pandas.io.formats.style.Styler at 0x7ee985cf7490>"
      ]
     },
     "execution_count": 6,
     "metadata": {},
     "output_type": "execute_result"
    }
   ],
   "source": [
    "mutual_info = mutual_info_regression(X, y, random_state=CFG.seed)\n",
    "\n",
    "mutual_info = pd.Series(mutual_info)\n",
    "mutual_info.index = X.columns\n",
    "mutual_info = pd.DataFrame(mutual_info.sort_values(ascending=False), columns=['Mutual Information'])\n",
    "mutual_info.style.bar(subset=['Mutual Information'], cmap='RdYlGn')"
   ]
  },
  {
   "cell_type": "code",
   "execution_count": 7,
   "id": "561f0d70",
   "metadata": {
    "execution": {
     "iopub.execute_input": "2025-05-14T19:34:23.944581Z",
     "iopub.status.busy": "2025-05-14T19:34:23.944218Z",
     "iopub.status.idle": "2025-05-14T19:34:24.677216Z",
     "shell.execute_reply": "2025-05-14T19:34:24.676427Z"
    },
    "papermill": {
     "duration": 0.74441,
     "end_time": "2025-05-14T19:34:24.678854",
     "exception": false,
     "start_time": "2025-05-14T19:34:23.934444",
     "status": "completed"
    },
    "tags": []
   },
   "outputs": [
    {
     "data": {
      "text/html": [
       "<style type=\"text/css\">\n",
       "#T_ac067_row0_col0 {\n",
       "  width: 10em;\n",
       "  background: linear-gradient(90deg, #006837 100.0%, transparent 100.0%);\n",
       "}\n",
       "#T_ac067_row1_col0 {\n",
       "  width: 10em;\n",
       "  background: linear-gradient(90deg, #bbe278 66.0%, transparent 66.0%);\n",
       "}\n",
       "#T_ac067_row2_col0 {\n",
       "  width: 10em;\n",
       "  background: linear-gradient(90deg, #e0f295 57.9%, transparent 57.9%);\n",
       "}\n",
       "#T_ac067_row3_col0 {\n",
       "  width: 10em;\n",
       "  background: linear-gradient(90deg, #b10b26 2.4%, transparent 2.4%);\n",
       "}\n",
       "#T_ac067_row4_col0 {\n",
       "  width: 10em;\n",
       "  background: linear-gradient(90deg, #ab0626 1.4%, transparent 1.4%);\n",
       "}\n",
       "#T_ac067_row5_col0 {\n",
       "  width: 10em;\n",
       "  background: linear-gradient(90deg, #a90426 1.1%, transparent 1.1%);\n",
       "}\n",
       "#T_ac067_row6_col0 {\n",
       "  width: 10em;\n",
       "  background: linear-gradient(90deg, #a50026 0.3%, transparent 0.3%);\n",
       "}\n",
       "</style>\n",
       "<table id=\"T_ac067\">\n",
       "  <thead>\n",
       "    <tr>\n",
       "      <th class=\"blank level0\" >&nbsp;</th>\n",
       "      <th id=\"T_ac067_level0_col0\" class=\"col_heading level0 col0\" >Mutual Information</th>\n",
       "    </tr>\n",
       "  </thead>\n",
       "  <tbody>\n",
       "    <tr>\n",
       "      <th id=\"T_ac067_level0_row0\" class=\"row_heading level0 row0\" >Duration</th>\n",
       "      <td id=\"T_ac067_row0_col0\" class=\"data row0 col0\" >1.494968</td>\n",
       "    </tr>\n",
       "    <tr>\n",
       "      <th id=\"T_ac067_level0_row1\" class=\"row_heading level0 row1\" >Body_Temp</th>\n",
       "      <td id=\"T_ac067_row1_col0\" class=\"data row1 col0\" >0.986528</td>\n",
       "    </tr>\n",
       "    <tr>\n",
       "      <th id=\"T_ac067_level0_row2\" class=\"row_heading level0 row2\" >Heart_Rate</th>\n",
       "      <td id=\"T_ac067_row2_col0\" class=\"data row2 col0\" >0.866243</td>\n",
       "    </tr>\n",
       "    <tr>\n",
       "      <th id=\"T_ac067_level0_row3\" class=\"row_heading level0 row3\" >Age</th>\n",
       "      <td id=\"T_ac067_row3_col0\" class=\"data row3 col0\" >0.035208</td>\n",
       "    </tr>\n",
       "    <tr>\n",
       "      <th id=\"T_ac067_level0_row4\" class=\"row_heading level0 row4\" >Weight</th>\n",
       "      <td id=\"T_ac067_row4_col0\" class=\"data row4 col0\" >0.020520</td>\n",
       "    </tr>\n",
       "    <tr>\n",
       "      <th id=\"T_ac067_level0_row5\" class=\"row_heading level0 row5\" >Sex</th>\n",
       "      <td id=\"T_ac067_row5_col0\" class=\"data row5 col0\" >0.016184</td>\n",
       "    </tr>\n",
       "    <tr>\n",
       "      <th id=\"T_ac067_level0_row6\" class=\"row_heading level0 row6\" >Height</th>\n",
       "      <td id=\"T_ac067_row6_col0\" class=\"data row6 col0\" >0.005213</td>\n",
       "    </tr>\n",
       "  </tbody>\n",
       "</table>\n"
      ],
      "text/plain": [
       "<pandas.io.formats.style.Styler at 0x7ee8fb5f6710>"
      ]
     },
     "execution_count": 7,
     "metadata": {},
     "output_type": "execute_result"
    }
   ],
   "source": [
    "mutual_info = mutual_info_regression(X_original, y_original, random_state=CFG.seed)\n",
    "\n",
    "mutual_info = pd.Series(mutual_info)\n",
    "mutual_info.index = X_original.columns\n",
    "mutual_info = pd.DataFrame(mutual_info.sort_values(ascending=False), columns=['Mutual Information'])\n",
    "mutual_info.style.bar(subset=['Mutual Information'], cmap='RdYlGn')"
   ]
  },
  {
   "cell_type": "code",
   "execution_count": 8,
   "id": "2985c15a",
   "metadata": {
    "execution": {
     "iopub.execute_input": "2025-05-14T19:34:24.696454Z",
     "iopub.status.busy": "2025-05-14T19:34:24.696088Z",
     "iopub.status.idle": "2025-05-14T19:34:25.951648Z",
     "shell.execute_reply": "2025-05-14T19:34:25.950571Z"
    },
    "papermill": {
     "duration": 1.266351,
     "end_time": "2025-05-14T19:34:25.953569",
     "exception": false,
     "start_time": "2025-05-14T19:34:24.687218",
     "status": "completed"
    },
    "tags": []
   },
   "outputs": [
    {
     "data": {
      "image/png": "[encoded data removed]",
      "text/plain": [
       "<Figure size 1600x600 with 4 Axes>"
      ]
     },
     "metadata": {},
     "output_type": "display_data"
    }
   ],
   "source": [
    "sns.set_style(\"white\")\n",
    "fig, axes = plt.subplots(1, 2, figsize=(16, 6))\n",
    "\n",
    "corr_train = train.corr()\n",
    "mask_train = np.triu(np.ones_like(corr_train, dtype=bool), k=1)\n",
    "sns.heatmap(\n",
    "    data=corr_train,\n",
    "    annot=True,\n",
    "    fmt='.2f',\n",
    "    mask=mask_train,\n",
    "    square=True,\n",
    "    cmap='coolwarm',\n",
    "    cbar_kws={'shrink': .7, 'format': '%.2f'},   \n",
    "    annot_kws={'size': 8},\n",
    "    center=0,\n",
    "    ax=axes[0]\n",
    ")\n",
    "axes[0].set_title('Train')\n",
    "axes[0].tick_params(axis='both', which='major', labelsize=8)\n",
    "\n",
    "corr_orig = original.corr()\n",
    "mask_orig = np.triu(np.ones_like(corr_orig, dtype=bool), k=1)\n",
    "sns.heatmap(\n",
    "    data=corr_orig,\n",
    "    annot=True,\n",
    "    fmt='.2f',\n",
    "    mask=mask_orig,\n",
    "    square=True,\n",
    "    cmap='coolwarm',\n",
    "    cbar_kws={'shrink': .7, 'format': '%.2f'},   \n",
    "    annot_kws={'size': 8},\n",
    "    center=0,\n",
    "    ax=axes[1]\n",
    ")\n",
    "axes[1].set_title('Original')\n",
    "axes[1].tick_params(axis='both', which='major', labelsize=8)\n",
    "\n",
    "plt.tight_layout()\n",
    "plt.show()"
   ]
  },
  {
   "cell_type": "markdown",
   "id": "24dd8798",
   "metadata": {
    "papermill": {
     "duration": 0.008688,
     "end_time": "2025-05-14T19:34:25.971676",
     "exception": false,
     "start_time": "2025-05-14T19:34:25.962988",
     "status": "completed"
    },
    "tags": []
   },
   "source": [
    "# Training base models"
   ]
  },
  {
   "cell_type": "code",
   "execution_count": 9,
   "id": "18d30da4",
   "metadata": {
    "_kg_hide-input": true,
    "_kg_hide-output": true,
    "execution": {
     "iopub.execute_input": "2025-05-14T19:34:25.992188Z",
     "iopub.status.busy": "2025-05-14T19:34:25.991811Z",
     "iopub.status.idle": "2025-05-14T19:34:26.002742Z",
     "shell.execute_reply": "2025-05-14T19:34:26.001309Z"
    },
    "papermill": {
     "duration": 0.023618,
     "end_time": "2025-05-14T19:34:26.004601",
     "exception": false,
     "start_time": "2025-05-14T19:34:25.980983",
     "status": "completed"
    },
    "tags": []
   },
   "outputs": [],
   "source": [
    "histgb_params = {\n",
    "    \"l2_regularization\": 10.412017522533768,\n",
    "    \"learning_rate\": 0.011702680619474444,\n",
    "    \"max_depth\": 59,\n",
    "    \"max_features\": 0.30616140080552673,\n",
    "    \"max_iter\": 4454,\n",
    "    \"max_leaf_nodes\": 385,\n",
    "    \"min_samples_leaf\": 50,\n",
    "    \"random_state\": 42\n",
    "}\n",
    "\n",
    "lgbm_params = {\n",
    "    \"boosting_type\": \"gbdt\",\n",
    "    \"colsample_bytree\": 0.8213924491907012,\n",
    "    \"learning_rate\": 0.059976685297931195,\n",
    "    \"min_child_samples\": 10,\n",
    "    \"min_child_weight\": 0.5425237767880097,\n",
    "    \"n_estimators\": 50000,\n",
    "    \"n_jobs\": -1,\n",
    "    \"num_leaves\": 89,\n",
    "    \"random_state\": 42,\n",
    "    \"reg_alpha\": 2.0325709613371545,\n",
    "    \"reg_lambda\": 87.27971117911044,\n",
    "    \"subsample\": 0.6452823633939004,\n",
    "    \"verbose\": -1\n",
    "}\n",
    "\n",
    "lgbm_goss_params = {\n",
    "    \"boosting_type\": \"goss\",\n",
    "    \"colsample_bytree\": 0.9068724002629094,\n",
    "    \"learning_rate\": 0.06459027654473874,\n",
    "    \"min_child_samples\": 39,\n",
    "    \"min_child_weight\": 0.5337673729810578,\n",
    "    \"n_estimators\": 50000,\n",
    "    \"n_jobs\": -1,\n",
    "    \"num_leaves\": 13,\n",
    "    \"random_state\": 42,\n",
    "    \"reg_alpha\": 1.603969498256519,\n",
    "    \"reg_lambda\": 10.806488455621444,\n",
    "    \"subsample\": 0.5966412222358356,\n",
    "    \"verbose\": -1\n",
    "}\n",
    "\n",
    "xgb_params = {\n",
    "    \"colsample_bylevel\": 0.8606487417581108,\n",
    "    \"colsample_bynode\": 0.9410596660335436,\n",
    "    \"colsample_bytree\": 0.9407540036296737,\n",
    "    \"early_stopping_rounds\": 100,\n",
    "    \"eval_metric\": \"rmse\",\n",
    "    \"gamma\": 0.023260595738991977,\n",
    "    \"learning_rate\": 0.03669372905801298,\n",
    "    \"max_depth\": 11,\n",
    "    \"max_leaves\": 51,\n",
    "    \"min_child_weight\": 96,\n",
    "    \"n_estimators\": 50000,\n",
    "    \"n_jobs\": -1,\n",
    "    \"random_state\": 42,\n",
    "    \"reg_alpha\": 2.953205886504917,\n",
    "    \"reg_lambda\": 67.64147033446291,\n",
    "    \"subsample\": 0.6973241930754311,\n",
    "    \"verbosity\": 0\n",
    "}\n",
    "\n",
    "cb_params = {\n",
    "    \"border_count\": 88,\n",
    "    \"colsample_bylevel\": 0.7903437608890396,\n",
    "    \"depth\": 8,\n",
    "    \"eval_metric\": \"RMSE\",\n",
    "    \"iterations\": 50000,\n",
    "    \"l2_leaf_reg\": 6.065104074215131,\n",
    "    \"learning_rate\": 0.030946464122148992,\n",
    "    \"min_child_samples\": 138,\n",
    "    \"random_state\": 42,\n",
    "    \"random_strength\": 0.035251008593976785,\n",
    "    \"verbose\": False\n",
    "}\n",
    "\n",
    "ydf_params = {\n",
    "    \"num_trees\": 1000,\n",
    "    \"max_depth\": 8\n",
    "}"
   ]
  },
  {
   "cell_type": "code",
   "execution_count": 10,
   "id": "c00f7d95",
   "metadata": {
    "execution": {
     "iopub.execute_input": "2025-05-14T19:34:26.025769Z",
     "iopub.status.busy": "2025-05-14T19:34:26.025362Z",
     "iopub.status.idle": "2025-05-14T19:34:26.030331Z",
     "shell.execute_reply": "2025-05-14T19:34:26.029115Z"
    },
    "papermill": {
     "duration": 0.017647,
     "end_time": "2025-05-14T19:34:26.032113",
     "exception": false,
     "start_time": "2025-05-14T19:34:26.014466",
     "status": "completed"
    },
    "tags": []
   },
   "outputs": [],
   "source": [
    "scores = {}\n",
    "oof_preds = {}\n",
    "test_preds = {}"
   ]
  },
  {
   "cell_type": "markdown",
   "id": "0a8569ec",
   "metadata": {
    "papermill": {
     "duration": 0.009419,
     "end_time": "2025-05-14T19:34:26.051978",
     "exception": false,
     "start_time": "2025-05-14T19:34:26.042559",
     "status": "completed"
    },
    "tags": []
   },
   "source": [
    "## HistGradientBoosting"
   ]
  },
  {
   "cell_type": "code",
   "execution_count": 11,
   "id": "df51d30e",
   "metadata": {
    "execution": {
     "iopub.execute_input": "2025-05-14T19:34:26.072480Z",
     "iopub.status.busy": "2025-05-14T19:34:26.071803Z",
     "iopub.status.idle": "2025-05-14T19:43:19.518600Z",
     "shell.execute_reply": "2025-05-14T19:43:19.517357Z"
    },
    "papermill": {
     "duration": 533.459326,
     "end_time": "2025-05-14T19:43:19.520785",
     "exception": false,
     "start_time": "2025-05-14T19:34:26.061459",
     "status": "completed"
    },
    "tags": []
   },
   "outputs": [
    {
     "name": "stdout",
     "output_type": "stream",
     "text": [
      "Training HistGradientBoostingRegressor\n",
      "\n",
      "--- Fold 0 - root_mean_squared_error: 0.0594 - Time: 95.24 s\n",
      "--- Fold 1 - root_mean_squared_error: 0.0605 - Time: 84.74 s\n",
      "--- Fold 2 - root_mean_squared_error: 0.0597 - Time: 97.64 s\n",
      "--- Fold 3 - root_mean_squared_error: 0.0601 - Time: 83.15 s\n",
      "--- Fold 4 - root_mean_squared_error: 0.0593 - Time: 84.74 s\n",
      "\n",
      "------ Overall root_mean_squared_error: 0.0598 - Mean root_mean_squared_error: 0.0598 ± 0.0004 - Time: 447.44 s\n"
     ]
    }
   ],
   "source": [
    "histgb_trainer = Trainer(\n",
    "    HistGradientBoostingRegressor(**histgb_params),\n",
    "    cv=CFG.cv,\n",
    "    metric=CFG.metric,\n",
    "    task=\"regression\"\n",
    ")\n",
    "\n",
    "histgb_trainer.fit(X, y, extra_X=X_original, extra_y=y_original)\n",
    "\n",
    "scores[\"HistGB\"] = histgb_trainer.fold_scores\n",
    "oof_preds[\"HistGB\"] = histgb_trainer.oof_preds\n",
    "test_preds[\"HistGB\"] = histgb_trainer.predict(X_test)"
   ]
  },
  {
   "cell_type": "markdown",
   "id": "3b5bd427",
   "metadata": {
    "papermill": {
     "duration": 0.010047,
     "end_time": "2025-05-14T19:43:19.541207",
     "exception": false,
     "start_time": "2025-05-14T19:43:19.531160",
     "status": "completed"
    },
    "tags": []
   },
   "source": [
    "## LightGBM (gbdt)"
   ]
  },
  {
   "cell_type": "code",
   "execution_count": 12,
   "id": "cdbaad73",
   "metadata": {
    "execution": {
     "iopub.execute_input": "2025-05-14T19:43:19.564023Z",
     "iopub.status.busy": "2025-05-14T19:43:19.563707Z",
     "iopub.status.idle": "2025-05-14T19:48:11.021503Z",
     "shell.execute_reply": "2025-05-14T19:48:11.020691Z"
    },
    "papermill": {
     "duration": 291.47032,
     "end_time": "2025-05-14T19:48:11.023208",
     "exception": false,
     "start_time": "2025-05-14T19:43:19.552888",
     "status": "completed"
    },
    "tags": []
   },
   "outputs": [
    {
     "name": "stdout",
     "output_type": "stream",
     "text": [
      "Training LGBMRegressor\n",
      "\n",
      "Training until validation scores don't improve for 100 rounds\n",
      "Early stopping, best iteration is:\n",
      "[791]\tvalid_0's rmse: 0.0596226\tvalid_0's l2: 0.00355485\n",
      "--- Fold 0 - root_mean_squared_error: 0.0596 - Time: 28.11 s\n",
      "\n",
      "Training until validation scores don't improve for 100 rounds\n",
      "[1000]\tvalid_0's rmse: 0.0603528\tvalid_0's l2: 0.00364246\n",
      "Early stopping, best iteration is:\n",
      "[1369]\tvalid_0's rmse: 0.0603066\tvalid_0's l2: 0.00363688\n",
      "--- Fold 1 - root_mean_squared_error: 0.0603 - Time: 45.15 s\n",
      "\n",
      "Training until validation scores don't improve for 100 rounds\n",
      "[1000]\tvalid_0's rmse: 0.0596239\tvalid_0's l2: 0.00355501\n",
      "Early stopping, best iteration is:\n",
      "[1406]\tvalid_0's rmse: 0.0595985\tvalid_0's l2: 0.00355198\n",
      "--- Fold 2 - root_mean_squared_error: 0.0596 - Time: 44.52 s\n",
      "\n",
      "Training until validation scores don't improve for 100 rounds\n",
      "[1000]\tvalid_0's rmse: 0.0601725\tvalid_0's l2: 0.00362073\n",
      "[2000]\tvalid_0's rmse: 0.060028\tvalid_0's l2: 0.00360336\n",
      "Early stopping, best iteration is:\n",
      "[1918]\tvalid_0's rmse: 0.0600226\tvalid_0's l2: 0.00360271\n",
      "--- Fold 3 - root_mean_squared_error: 0.0600 - Time: 56.03 s\n",
      "\n",
      "Training until validation scores don't improve for 100 rounds\n",
      "[1000]\tvalid_0's rmse: 0.0594362\tvalid_0's l2: 0.00353266\n",
      "Early stopping, best iteration is:\n",
      "[1376]\tvalid_0's rmse: 0.0593934\tvalid_0's l2: 0.00352758\n",
      "--- Fold 4 - root_mean_squared_error: 0.0594 - Time: 44.63 s\n",
      "\n",
      "\n",
      "------ Overall root_mean_squared_error: 0.0598 - Mean root_mean_squared_error: 0.0598 ± 0.0003 - Time: 220.36 s\n"
     ]
    }
   ],
   "source": [
    "lgbm_trainer = Trainer(\n",
    "    LGBMRegressor(**lgbm_params),\n",
    "    cv=CFG.cv,\n",
    "    metric=CFG.metric,\n",
    "    use_early_stopping=True,\n",
    "    task=\"regression\"\n",
    ")\n",
    "\n",
    "fit_args = {\n",
    "    \"eval_metric\": \"rmse\",\n",
    "    \"callbacks\": [\n",
    "        log_evaluation(period=1000), \n",
    "        early_stopping(stopping_rounds=100)\n",
    "    ]\n",
    "}\n",
    "\n",
    "lgbm_trainer.fit(X, y, fit_args=fit_args, extra_X=X_original, extra_y=y_original)\n",
    "\n",
    "scores[\"LightGBM (gbdt)\"] = lgbm_trainer.fold_scores\n",
    "oof_preds[\"LightGBM (gbdt)\"] = lgbm_trainer.oof_preds\n",
    "test_preds[\"LightGBM (gbdt)\"] = lgbm_trainer.predict(X_test)"
   ]
  },
  {
   "cell_type": "markdown",
   "id": "a7eec2a5",
   "metadata": {
    "papermill": {
     "duration": 0.010454,
     "end_time": "2025-05-14T19:48:11.050708",
     "exception": false,
     "start_time": "2025-05-14T19:48:11.040254",
     "status": "completed"
    },
    "tags": []
   },
   "source": [
    "## LightGBM (goss)"
   ]
  },
  {
   "cell_type": "code",
   "execution_count": 13,
   "id": "835d14ad",
   "metadata": {
    "execution": {
     "iopub.execute_input": "2025-05-14T19:48:11.073698Z",
     "iopub.status.busy": "2025-05-14T19:48:11.073389Z",
     "iopub.status.idle": "2025-05-14T19:59:30.546104Z",
     "shell.execute_reply": "2025-05-14T19:59:30.545285Z"
    },
    "papermill": {
     "duration": 679.486659,
     "end_time": "2025-05-14T19:59:30.548337",
     "exception": false,
     "start_time": "2025-05-14T19:48:11.061678",
     "status": "completed"
    },
    "tags": []
   },
   "outputs": [
    {
     "name": "stdout",
     "output_type": "stream",
     "text": [
      "Training LGBMRegressor\n",
      "\n",
      "Training until validation scores don't improve for 100 rounds\n",
      "[1000]\tvalid_0's rmse: 0.0600588\tvalid_0's l2: 0.00360706\n",
      "[2000]\tvalid_0's rmse: 0.0597145\tvalid_0's l2: 0.00356582\n",
      "[3000]\tvalid_0's rmse: 0.0596177\tvalid_0's l2: 0.00355427\n",
      "Early stopping, best iteration is:\n",
      "[3424]\tvalid_0's rmse: 0.0595945\tvalid_0's l2: 0.0035515\n",
      "--- Fold 0 - root_mean_squared_error: 0.0596 - Time: 99.94 s\n",
      "\n",
      "Training until validation scores don't improve for 100 rounds\n",
      "[1000]\tvalid_0's rmse: 0.0607929\tvalid_0's l2: 0.00369577\n",
      "[2000]\tvalid_0's rmse: 0.0604315\tvalid_0's l2: 0.00365197\n",
      "[3000]\tvalid_0's rmse: 0.0603068\tvalid_0's l2: 0.00363691\n",
      "Early stopping, best iteration is:\n",
      "[3299]\tvalid_0's rmse: 0.0602872\tvalid_0's l2: 0.00363454\n",
      "--- Fold 1 - root_mean_squared_error: 0.0603 - Time: 97.95 s\n",
      "\n",
      "Training until validation scores don't improve for 100 rounds\n",
      "[1000]\tvalid_0's rmse: 0.0600734\tvalid_0's l2: 0.00360881\n",
      "[2000]\tvalid_0's rmse: 0.0597328\tvalid_0's l2: 0.00356801\n",
      "[3000]\tvalid_0's rmse: 0.0596015\tvalid_0's l2: 0.00355234\n",
      "[4000]\tvalid_0's rmse: 0.0595402\tvalid_0's l2: 0.00354503\n",
      "Early stopping, best iteration is:\n",
      "[4508]\tvalid_0's rmse: 0.0595248\tvalid_0's l2: 0.00354321\n",
      "--- Fold 2 - root_mean_squared_error: 0.0595 - Time: 130.54 s\n",
      "\n",
      "Training until validation scores don't improve for 100 rounds\n",
      "[1000]\tvalid_0's rmse: 0.0606943\tvalid_0's l2: 0.0036838\n",
      "[2000]\tvalid_0's rmse: 0.0602788\tvalid_0's l2: 0.00363353\n",
      "[3000]\tvalid_0's rmse: 0.0601248\tvalid_0's l2: 0.00361499\n",
      "[4000]\tvalid_0's rmse: 0.060043\tvalid_0's l2: 0.00360516\n",
      "Early stopping, best iteration is:\n",
      "[4559]\tvalid_0's rmse: 0.0600092\tvalid_0's l2: 0.00360111\n",
      "--- Fold 3 - root_mean_squared_error: 0.0600 - Time: 134.50 s\n",
      "\n",
      "Training until validation scores don't improve for 100 rounds\n",
      "[1000]\tvalid_0's rmse: 0.0597776\tvalid_0's l2: 0.00357336\n",
      "[2000]\tvalid_0's rmse: 0.0594386\tvalid_0's l2: 0.00353295\n",
      "[3000]\tvalid_0's rmse: 0.0593427\tvalid_0's l2: 0.00352156\n",
      "Early stopping, best iteration is:\n",
      "[3301]\tvalid_0's rmse: 0.0593269\tvalid_0's l2: 0.00351968\n",
      "--- Fold 4 - root_mean_squared_error: 0.0593 - Time: 96.72 s\n",
      "\n",
      "\n",
      "------ Overall root_mean_squared_error: 0.0597 - Mean root_mean_squared_error: 0.0597 ± 0.0003 - Time: 561.50 s\n"
     ]
    }
   ],
   "source": [
    "lgbm_goss_trainer = Trainer(\n",
    "    LGBMRegressor(**lgbm_goss_params),\n",
    "    cv=CFG.cv,\n",
    "    metric=CFG.metric,\n",
    "    use_early_stopping=True,\n",
    "    task=\"regression\"\n",
    ")\n",
    "\n",
    "fit_args = {\n",
    "    \"eval_metric\": \"rmse\",\n",
    "    \"callbacks\": [\n",
    "        log_evaluation(period=1000), \n",
    "        early_stopping(stopping_rounds=100)\n",
    "    ]\n",
    "}\n",
    "\n",
    "lgbm_goss_trainer.fit(X, y, fit_args=fit_args, extra_X=X_original, extra_y=y_original)\n",
    "\n",
    "scores[\"LightGBM (goss)\"] = lgbm_goss_trainer.fold_scores\n",
    "oof_preds[\"LightGBM (goss)\"] = lgbm_goss_trainer.oof_preds\n",
    "test_preds[\"LightGBM (goss)\"] = lgbm_goss_trainer.predict(X_test)"
   ]
  },
  {
   "cell_type": "markdown",
   "id": "15b6fe76",
   "metadata": {
    "papermill": {
     "duration": 0.01221,
     "end_time": "2025-05-14T19:59:30.576466",
     "exception": false,
     "start_time": "2025-05-14T19:59:30.564256",
     "status": "completed"
    },
    "tags": []
   },
   "source": [
    "## XGBoost"
   ]
  },
  {
   "cell_type": "code",
   "execution_count": 14,
   "id": "9277fa2e",
   "metadata": {
    "execution": {
     "iopub.execute_input": "2025-05-14T19:59:30.602737Z",
     "iopub.status.busy": "2025-05-14T19:59:30.602429Z",
     "iopub.status.idle": "2025-05-14T20:05:51.392358Z",
     "shell.execute_reply": "2025-05-14T20:05:51.391586Z"
    },
    "papermill": {
     "duration": 380.805088,
     "end_time": "2025-05-14T20:05:51.394025",
     "exception": false,
     "start_time": "2025-05-14T19:59:30.588937",
     "status": "completed"
    },
    "tags": []
   },
   "outputs": [
    {
     "name": "stdout",
     "output_type": "stream",
     "text": [
      "Training XGBRegressor\n",
      "\n",
      "[0]\tvalidation_0-rmse:0.92856\n",
      "[1000]\tvalidation_0-rmse:0.06015\n",
      "[2000]\tvalidation_0-rmse:0.06009\n",
      "[3000]\tvalidation_0-rmse:0.06007\n",
      "[3122]\tvalidation_0-rmse:0.06006\n",
      "--- Fold 0 - root_mean_squared_error: 0.0601 - Time: 85.56 s\n",
      "\n",
      "[0]\tvalidation_0-rmse:0.93096\n",
      "[1000]\tvalidation_0-rmse:0.06137\n",
      "[2000]\tvalidation_0-rmse:0.06128\n",
      "[3000]\tvalidation_0-rmse:0.06123\n",
      "[3071]\tvalidation_0-rmse:0.06123\n",
      "--- Fold 1 - root_mean_squared_error: 0.0612 - Time: 82.33 s\n",
      "\n",
      "[0]\tvalidation_0-rmse:0.92964\n",
      "[1000]\tvalidation_0-rmse:0.06065\n",
      "[2000]\tvalidation_0-rmse:0.06056\n",
      "[3000]\tvalidation_0-rmse:0.06053\n",
      "[3092]\tvalidation_0-rmse:0.06053\n",
      "--- Fold 2 - root_mean_squared_error: 0.0605 - Time: 83.73 s\n",
      "\n",
      "[0]\tvalidation_0-rmse:0.92813\n",
      "[1000]\tvalidation_0-rmse:0.06097\n",
      "[1243]\tvalidation_0-rmse:0.06096\n",
      "--- Fold 3 - root_mean_squared_error: 0.0610 - Time: 40.08 s\n",
      "\n",
      "[0]\tvalidation_0-rmse:0.92887\n",
      "[1000]\tvalidation_0-rmse:0.06014\n",
      "[2000]\tvalidation_0-rmse:0.06007\n",
      "[2596]\tvalidation_0-rmse:0.06005\n",
      "--- Fold 4 - root_mean_squared_error: 0.0601 - Time: 72.33 s\n",
      "\n",
      "\n",
      "------ Overall root_mean_squared_error: 0.0606 - Mean root_mean_squared_error: 0.0606 ± 0.0005 - Time: 365.89 s\n"
     ]
    }
   ],
   "source": [
    "xgb_trainer = Trainer(\n",
    "    XGBRegressor(**xgb_params),\n",
    "    cv=CFG.cv,\n",
    "    metric=CFG.metric,\n",
    "    use_early_stopping=True,\n",
    "    task=\"regression\"\n",
    ")\n",
    "\n",
    "fit_args = {\n",
    "    \"verbose\": 1000\n",
    "}\n",
    "\n",
    "xgb_trainer.fit(X, y, fit_args=fit_args, extra_X=X_original, extra_y=y_original)\n",
    "\n",
    "scores[\"XGBoost\"] = xgb_trainer.fold_scores\n",
    "oof_preds[\"XGBoost\"] = xgb_trainer.oof_preds\n",
    "test_preds[\"XGBoost\"] = xgb_trainer.predict(X_test)"
   ]
  },
  {
   "cell_type": "markdown",
   "id": "d8578d48",
   "metadata": {
    "papermill": {
     "duration": 0.015595,
     "end_time": "2025-05-14T20:05:51.427895",
     "exception": false,
     "start_time": "2025-05-14T20:05:51.412300",
     "status": "completed"
    },
    "tags": []
   },
   "source": [
    "## CatBoost"
   ]
  },
  {
   "cell_type": "code",
   "execution_count": 15,
   "id": "7665a6b8",
   "metadata": {
    "execution": {
     "iopub.execute_input": "2025-05-14T20:05:51.456884Z",
     "iopub.status.busy": "2025-05-14T20:05:51.456415Z",
     "iopub.status.idle": "2025-05-14T20:19:00.750550Z",
     "shell.execute_reply": "2025-05-14T20:19:00.749440Z"
    },
    "papermill": {
     "duration": 789.310774,
     "end_time": "2025-05-14T20:19:00.752358",
     "exception": false,
     "start_time": "2025-05-14T20:05:51.441584",
     "status": "completed"
    },
    "tags": []
   },
   "outputs": [
    {
     "name": "stdout",
     "output_type": "stream",
     "text": [
      "Training CatBoostRegressor\n",
      "\n",
      "0:\tlearn: 0.9348709\ttest: 0.9341488\tbest: 0.9341488 (0)\ttotal: 134ms\tremaining: 1h 51m 28s\n",
      "1000:\tlearn: 0.0571087\ttest: 0.0593244\tbest: 0.0593244 (1000)\ttotal: 55.1s\tremaining: 44m 55s\n",
      "2000:\tlearn: 0.0560120\ttest: 0.0591679\tbest: 0.0591679 (2000)\ttotal: 1m 49s\tremaining: 43m 50s\n",
      "Stopped by overfitting detector  (100 iterations wait)\n",
      "\n",
      "bestTest = 0.05911377754\n",
      "bestIteration = 2824\n",
      "\n",
      "Shrink model to first 2825 iterations.\n",
      "--- Fold 0 - root_mean_squared_error: 0.0591 - Time: 161.51 s\n",
      "\n",
      "0:\tlearn: 0.9342850\ttest: 0.9365766\tbest: 0.9365766 (0)\ttotal: 69.6ms\tremaining: 58m 1s\n",
      "1000:\tlearn: 0.0571036\ttest: 0.0598252\tbest: 0.0598252 (1000)\ttotal: 55.3s\tremaining: 45m 8s\n",
      "Stopped by overfitting detector  (100 iterations wait)\n",
      "\n",
      "bestTest = 0.05966835269\n",
      "bestIteration = 1741\n",
      "\n",
      "Shrink model to first 1742 iterations.\n",
      "--- Fold 1 - root_mean_squared_error: 0.0597 - Time: 102.70 s\n",
      "\n",
      "0:\tlearn: 0.9346164\ttest: 0.9352198\tbest: 0.9352198 (0)\ttotal: 71.9ms\tremaining: 59m 55s\n",
      "1000:\tlearn: 0.0570640\ttest: 0.0593004\tbest: 0.0593004 (1000)\ttotal: 55.6s\tremaining: 45m 19s\n",
      "2000:\tlearn: 0.0559380\ttest: 0.0590550\tbest: 0.0590543 (1996)\ttotal: 1m 49s\tremaining: 43m 56s\n",
      "3000:\tlearn: 0.0551639\ttest: 0.0589824\tbest: 0.0589822 (2994)\ttotal: 2m 44s\tremaining: 42m 58s\n",
      "Stopped by overfitting detector  (100 iterations wait)\n",
      "\n",
      "bestTest = 0.05895750885\n",
      "bestIteration = 3703\n",
      "\n",
      "Shrink model to first 3704 iterations.\n",
      "--- Fold 2 - root_mean_squared_error: 0.0590 - Time: 209.40 s\n",
      "\n",
      "0:\tlearn: 0.9349691\ttest: 0.9337102\tbest: 0.9337102 (0)\ttotal: 66ms\tremaining: 55m 1s\n",
      "1000:\tlearn: 0.0570599\ttest: 0.0597373\tbest: 0.0597373 (1000)\ttotal: 56.4s\tremaining: 45m 58s\n",
      "2000:\tlearn: 0.0560408\ttest: 0.0595997\tbest: 0.0595980 (1976)\ttotal: 2m 1s\tremaining: 48m 24s\n",
      "3000:\tlearn: 0.0552776\ttest: 0.0595437\tbest: 0.0595417 (2940)\ttotal: 3m 3s\tremaining: 47m 47s\n",
      "Stopped by overfitting detector  (100 iterations wait)\n",
      "\n",
      "bestTest = 0.0595416905\n",
      "bestIteration = 2940\n",
      "\n",
      "Shrink model to first 2941 iterations.\n",
      "--- Fold 3 - root_mean_squared_error: 0.0595 - Time: 186.66 s\n",
      "\n",
      "0:\tlearn: 0.9347914\ttest: 0.9344284\tbest: 0.9344284 (0)\ttotal: 75.4ms\tremaining: 1h 2m 48s\n",
      "1000:\tlearn: 0.0572454\ttest: 0.0590697\tbest: 0.0590697 (1000)\ttotal: 57.8s\tremaining: 47m 7s\n",
      "2000:\tlearn: 0.0561135\ttest: 0.0589142\tbest: 0.0589119 (1987)\ttotal: 1m 53s\tremaining: 45m 29s\n",
      "Stopped by overfitting detector  (100 iterations wait)\n",
      "\n",
      "bestTest = 0.05891120084\n",
      "bestIteration = 2077\n",
      "\n",
      "Shrink model to first 2078 iterations.\n",
      "--- Fold 4 - root_mean_squared_error: 0.0589 - Time: 125.06 s\n",
      "\n",
      "\n",
      "------ Overall root_mean_squared_error: 0.0592 - Mean root_mean_squared_error: 0.0592 ± 0.0003 - Time: 787.18 s\n"
     ]
    }
   ],
   "source": [
    "cb_trainer = Trainer(\n",
    "    CatBoostRegressor(**cb_params),\n",
    "    cv=CFG.cv,\n",
    "    metric=CFG.metric,\n",
    "    use_early_stopping=True,\n",
    "    task=\"regression\"\n",
    ")\n",
    "\n",
    "fit_args = {\n",
    "    \"verbose\": 1000,\n",
    "    \"early_stopping_rounds\": 100,\n",
    "    \"use_best_model\": True\n",
    "}\n",
    "\n",
    "cb_trainer.fit(X, y, fit_args=fit_args, extra_X=X_original, extra_y=y_original)\n",
    "\n",
    "scores[\"CatBoost\"] = cb_trainer.fold_scores\n",
    "oof_preds[\"CatBoost\"] = cb_trainer.oof_preds\n",
    "test_preds[\"CatBoost\"] = cb_trainer.predict(X_test)"
   ]
  },
  {
   "cell_type": "markdown",
   "id": "53eb39b3",
   "metadata": {
    "papermill": {
     "duration": 0.015584,
     "end_time": "2025-05-14T20:19:00.783363",
     "exception": false,
     "start_time": "2025-05-14T20:19:00.767779",
     "status": "completed"
    },
    "tags": []
   },
   "source": [
    "## AutoGluon"
   ]
  },
  {
   "cell_type": "code",
   "execution_count": 16,
   "id": "d5975df9",
   "metadata": {
    "execution": {
     "iopub.execute_input": "2025-05-14T20:19:00.818169Z",
     "iopub.status.busy": "2025-05-14T20:19:00.817825Z",
     "iopub.status.idle": "2025-05-14T20:19:01.056809Z",
     "shell.execute_reply": "2025-05-14T20:19:01.055362Z"
    },
    "papermill": {
     "duration": 0.259481,
     "end_time": "2025-05-14T20:19:01.058723",
     "exception": false,
     "start_time": "2025-05-14T20:19:00.799242",
     "status": "completed"
    },
    "tags": []
   },
   "outputs": [],
   "source": [
    "oof_preds_files = glob.glob(f'/kaggle/input/s05e05-calorie-expenditure-prediction-automl/*_oof_preds_*.pkl')\n",
    "test_preds_files = glob.glob(f'/kaggle/input/s05e05-calorie-expenditure-prediction-automl/*_test_preds_*.pkl')\n",
    "\n",
    "ag_oof_preds = np.log1p(joblib.load(oof_preds_files[0]))\n",
    "ag_test_preds = np.log1p(joblib.load(test_preds_files[0]))\n",
    "\n",
    "ag_scores = []\n",
    "split = KFold(n_splits=CFG.n_folds, random_state=CFG.seed, shuffle=True).split(X, y)\n",
    "for _, val_idx in split:\n",
    "    y_val = y[val_idx]\n",
    "    y_preds = ag_oof_preds[val_idx]   \n",
    "    score = root_mean_squared_error(y_preds, y_val)\n",
    "    ag_scores.append(score)\n",
    "    \n",
    "oof_preds[\"AutoGluon\"], test_preds[\"AutoGluon\"], scores[\"AutoGluon\"] = ag_oof_preds, ag_test_preds, ag_scores"
   ]
  },
  {
   "cell_type": "markdown",
   "id": "74012e88",
   "metadata": {
    "papermill": {
     "duration": 0.015394,
     "end_time": "2025-05-14T20:19:01.089701",
     "exception": false,
     "start_time": "2025-05-14T20:19:01.074307",
     "status": "completed"
    },
    "tags": []
   },
   "source": [
    "## Yggdrasil"
   ]
  },
  {
   "cell_type": "code",
   "execution_count": 17,
   "id": "49d0394a",
   "metadata": {
    "execution": {
     "iopub.execute_input": "2025-05-14T20:19:01.124507Z",
     "iopub.status.busy": "2025-05-14T20:19:01.124155Z",
     "iopub.status.idle": "2025-05-14T20:19:01.132484Z",
     "shell.execute_reply": "2025-05-14T20:19:01.131447Z"
    },
    "papermill": {
     "duration": 0.028018,
     "end_time": "2025-05-14T20:19:01.134245",
     "exception": false,
     "start_time": "2025-05-14T20:19:01.106227",
     "status": "completed"
    },
    "tags": []
   },
   "outputs": [],
   "source": [
    "def YDFRegressor(learner_class):\n",
    "\n",
    "    class YDFXRegressor(BaseEstimator, RegressorMixin):\n",
    "\n",
    "        def __init__(self, params={}):\n",
    "            self.params = params\n",
    "\n",
    "        def fit(self, X, y):\n",
    "            assert isinstance(X, pd.DataFrame)\n",
    "            assert isinstance(y, pd.Series)\n",
    "            target = y.name\n",
    "            params = self.params.copy()\n",
    "            params['label'] = target\n",
    "            params['task'] = ydf.Task.REGRESSION\n",
    "            X = pd.concat([X, y], axis=1)\n",
    "            with contextlib.redirect_stderr(io.StringIO()), contextlib.redirect_stdout(io.StringIO()):\n",
    "                self.model = learner_class(**params).train(X)\n",
    "            return self\n",
    "\n",
    "        def predict(self, X):\n",
    "            assert isinstance(X, pd.DataFrame)\n",
    "            with contextlib.redirect_stderr(io.StringIO()), contextlib.redirect_stdout(io.StringIO()):\n",
    "                return self.model.predict(X)\n",
    "\n",
    "    return YDFXRegressor"
   ]
  },
  {
   "cell_type": "code",
   "execution_count": 18,
   "id": "aa04933d",
   "metadata": {
    "execution": {
     "iopub.execute_input": "2025-05-14T20:19:01.170508Z",
     "iopub.status.busy": "2025-05-14T20:19:01.169320Z",
     "iopub.status.idle": "2025-05-14T20:28:35.182390Z",
     "shell.execute_reply": "2025-05-14T20:28:35.181106Z"
    },
    "papermill": {
     "duration": 574.033326,
     "end_time": "2025-05-14T20:28:35.184209",
     "exception": false,
     "start_time": "2025-05-14T20:19:01.150883",
     "status": "completed"
    },
    "tags": []
   },
   "outputs": [
    {
     "name": "stdout",
     "output_type": "stream",
     "text": [
      "Training YDFXRegressor\n",
      "\n",
      "--- Fold 0 - root_mean_squared_error: 0.0604 - Time: 128.96 s\n",
      "--- Fold 1 - root_mean_squared_error: 0.0608 - Time: 117.12 s\n",
      "--- Fold 2 - root_mean_squared_error: 0.0603 - Time: 80.20 s\n",
      "--- Fold 3 - root_mean_squared_error: 0.0612 - Time: 100.74 s\n",
      "--- Fold 4 - root_mean_squared_error: 0.0602 - Time: 138.06 s\n",
      "\n",
      "------ Overall root_mean_squared_error: 0.0606 - Mean root_mean_squared_error: 0.0606 ± 0.0004 - Time: 566.98 s\n"
     ]
    }
   ],
   "source": [
    "ydf_trainer = Trainer(\n",
    "    YDFRegressor(GradientBoostedTreesLearner)(ydf_params),\n",
    "    cv=CFG.cv,\n",
    "    metric=CFG.metric,\n",
    "    task=\"regression\"\n",
    ")\n",
    "\n",
    "ydf_trainer.fit(X, y, extra_X=X_original, extra_y=y_original)\n",
    "\n",
    "scores[\"Yggdrasil\"] = ydf_trainer.fold_scores\n",
    "oof_preds[\"Yggdrasil\"] = ydf_trainer.oof_preds\n",
    "test_preds[\"Yggdrasil\"] = ydf_trainer.predict(X_test)"
   ]
  },
  {
   "cell_type": "markdown",
   "id": "a9b876b1",
   "metadata": {
    "papermill": {
     "duration": 0.015951,
     "end_time": "2025-05-14T20:28:35.217896",
     "exception": false,
     "start_time": "2025-05-14T20:28:35.201945",
     "status": "completed"
    },
    "tags": []
   },
   "source": [
    "## Neural networks"
   ]
  },
  {
   "cell_type": "code",
   "execution_count": 19,
   "id": "3579cc2b",
   "metadata": {
    "execution": {
     "iopub.execute_input": "2025-05-14T20:28:35.250070Z",
     "iopub.status.busy": "2025-05-14T20:28:35.249694Z",
     "iopub.status.idle": "2025-05-14T20:28:36.014640Z",
     "shell.execute_reply": "2025-05-14T20:28:36.013870Z"
    },
    "papermill": {
     "duration": 0.783304,
     "end_time": "2025-05-14T20:28:36.016474",
     "exception": false,
     "start_time": "2025-05-14T20:28:35.233170",
     "status": "completed"
    },
    "tags": []
   },
   "outputs": [],
   "source": [
    "train = pd.read_csv(CFG.train_path, index_col=\"id\")\n",
    "test = pd.read_csv(CFG.test_path, index_col=\"id\")\n",
    "\n",
    "original = pd.read_csv(CFG.original_path, index_col=\"User_ID\")\n",
    "original = original.rename(columns={\"Gender\": \"Sex\"})\n",
    "\n",
    "X = train.drop(CFG.target, axis=1)\n",
    "y = np.log1p(train[CFG.target])\n",
    "X_test = test\n",
    "\n",
    "X_original = original.drop(CFG.target, axis=1)\n",
    "y_original = np.log1p(original[CFG.target])"
   ]
  },
  {
   "cell_type": "code",
   "execution_count": 20,
   "id": "3da5a5f2",
   "metadata": {
    "execution": {
     "iopub.execute_input": "2025-05-14T20:28:36.049775Z",
     "iopub.status.busy": "2025-05-14T20:28:36.049426Z",
     "iopub.status.idle": "2025-05-14T20:28:36.579877Z",
     "shell.execute_reply": "2025-05-14T20:28:36.578812Z"
    },
    "papermill": {
     "duration": 0.549263,
     "end_time": "2025-05-14T20:28:36.581721",
     "exception": false,
     "start_time": "2025-05-14T20:28:36.032458",
     "status": "completed"
    },
    "tags": []
   },
   "outputs": [],
   "source": [
    "pipeline = make_pipeline(\n",
    "    ColumnTransformer(\n",
    "        [\n",
    "            ('one-hot-encode', OneHotEncoder(drop='first', sparse_output=False, dtype=np.float32, handle_unknown='ignore'), ['Sex']),\n",
    "            \n",
    "        ],\n",
    "        remainder=StandardScaler()\n",
    "    )\n",
    ").set_output(transform='pandas')\n",
    "\n",
    "X = pipeline.fit_transform(X, y)\n",
    "X_test = pipeline.transform(X_test)\n",
    "X_original = pipeline.transform(X_original)"
   ]
  },
  {
   "cell_type": "code",
   "execution_count": 21,
   "id": "b71ef710",
   "metadata": {
    "execution": {
     "iopub.execute_input": "2025-05-14T20:28:36.615351Z",
     "iopub.status.busy": "2025-05-14T20:28:36.615021Z",
     "iopub.status.idle": "2025-05-14T20:28:36.621127Z",
     "shell.execute_reply": "2025-05-14T20:28:36.620221Z"
    },
    "papermill": {
     "duration": 0.02443,
     "end_time": "2025-05-14T20:28:36.622880",
     "exception": false,
     "start_time": "2025-05-14T20:28:36.598450",
     "status": "completed"
    },
    "tags": []
   },
   "outputs": [],
   "source": [
    "def get_model(meta):\n",
    "    model = keras.models.Sequential()\n",
    "    model.add(keras.layers.Input(meta[\"X_shape_\"][1:]))\n",
    "    model.add(keras.layers.Dense(256, kernel_initializer='lecun_normal', activation='selu'))\n",
    "    model.add(keras.layers.Dense(128, kernel_initializer='lecun_normal', activation='selu'))\n",
    "    model.add(keras.layers.Dense(64, kernel_initializer='lecun_normal', activation='selu'))\n",
    "    model.add(keras.layers.Dense(1))\n",
    "    return model"
   ]
  },
  {
   "cell_type": "code",
   "execution_count": 22,
   "id": "b780a4b0",
   "metadata": {
    "execution": {
     "iopub.execute_input": "2025-05-14T20:28:36.655538Z",
     "iopub.status.busy": "2025-05-14T20:28:36.655175Z",
     "iopub.status.idle": "2025-05-14T20:28:36.743055Z",
     "shell.execute_reply": "2025-05-14T20:28:36.742107Z"
    },
    "papermill": {
     "duration": 0.106258,
     "end_time": "2025-05-14T20:28:36.744672",
     "exception": false,
     "start_time": "2025-05-14T20:28:36.638414",
     "status": "completed"
    },
    "tags": []
   },
   "outputs": [
    {
     "name": "stderr",
     "output_type": "stream",
     "text": [
      "2025-05-14 20:28:36.662130: E external/local_xla/xla/stream_executor/cuda/cuda_driver.cc:152] failed call to cuInit: INTERNAL: CUDA error: Failed call to cuInit: UNKNOWN ERROR (303)\n"
     ]
    }
   ],
   "source": [
    "nn_model = KerasRegressor(\n",
    "    get_model,\n",
    "    loss=\"mean_squared_error\",\n",
    "    random_state=CFG.seed,\n",
    "    metrics=[keras.metrics.RootMeanSquaredError(name='rmse')],\n",
    "    optimizer=keras.optimizers.AdamW(learning_rate=0.001),\n",
    "    validation_batch_size=65536,\n",
    "    validation_split=0.1,\n",
    "    batch_size=1024,\n",
    "    epochs=100, \n",
    "    verbose=0,\n",
    "    callbacks=[\n",
    "        keras.callbacks.EarlyStopping(monitor='val_rmse', patience=7, restore_best_weights=True),\n",
    "        keras.callbacks.ReduceLROnPlateau(monitor='val_rmse', patience=3, factor=0.3)\n",
    "    ]\n",
    ")"
   ]
  },
  {
   "cell_type": "code",
   "execution_count": 23,
   "id": "a50c7894",
   "metadata": {
    "execution": {
     "iopub.execute_input": "2025-05-14T20:28:36.777030Z",
     "iopub.status.busy": "2025-05-14T20:28:36.776694Z",
     "iopub.status.idle": "2025-05-14T20:28:36.781921Z",
     "shell.execute_reply": "2025-05-14T20:28:36.780928Z"
    },
    "papermill": {
     "duration": 0.023339,
     "end_time": "2025-05-14T20:28:36.783560",
     "exception": false,
     "start_time": "2025-05-14T20:28:36.760221",
     "status": "completed"
    },
    "tags": []
   },
   "outputs": [],
   "source": [
    "nn_bag = BaggingRegressor(\n",
    "    nn_model,\n",
    "    n_estimators=3,\n",
    "    random_state=CFG.seed,\n",
    ")"
   ]
  },
  {
   "cell_type": "code",
   "execution_count": 24,
   "id": "251b6fce",
   "metadata": {
    "_kg_hide-output": true,
    "execution": {
     "iopub.execute_input": "2025-05-14T20:28:36.816673Z",
     "iopub.status.busy": "2025-05-14T20:28:36.816360Z",
     "iopub.status.idle": "2025-05-14T21:21:34.128789Z",
     "shell.execute_reply": "2025-05-14T21:21:34.127716Z"
    },
    "papermill": {
     "duration": 3177.331146,
     "end_time": "2025-05-14T21:21:34.130813",
     "exception": false,
     "start_time": "2025-05-14T20:28:36.799667",
     "status": "completed"
    },
    "tags": []
   },
   "outputs": [
    {
     "name": "stdout",
     "output_type": "stream",
     "text": [
      "Training BaggingRegressor\n",
      "\n"
     ]
    },
    {
     "name": "stderr",
     "output_type": "stream",
     "text": [
      "2025-05-14 20:28:37.344835: E tensorflow/core/framework/node_def_util.cc:676] NodeDef mentions attribute use_unbounded_threadpool which is not in the op definition: Op<name=MapDataset; signature=input_dataset:variant, other_arguments: -> handle:variant; attr=f:func; attr=Targuments:list(type),min=0; attr=output_types:list(type),min=1; attr=output_shapes:list(shape),min=1; attr=use_inter_op_parallelism:bool,default=true; attr=preserve_cardinality:bool,default=false; attr=force_synchronous:bool,default=false; attr=metadata:string,default=\"\"> This may be expected if your graph generating binary is newer  than this binary. Unknown attributes will be ignored. NodeDef: {{node ParallelMapDatasetV2/_16}}\n",
      "2025-05-14 20:28:42.406228: E tensorflow/core/framework/node_def_util.cc:676] NodeDef mentions attribute use_unbounded_threadpool which is not in the op definition: Op<name=MapDataset; signature=input_dataset:variant, other_arguments: -> handle:variant; attr=f:func; attr=Targuments:list(type),min=0; attr=output_types:list(type),min=1; attr=output_shapes:list(shape),min=1; attr=use_inter_op_parallelism:bool,default=true; attr=preserve_cardinality:bool,default=false; attr=force_synchronous:bool,default=false; attr=metadata:string,default=\"\"> This may be expected if your graph generating binary is newer  than this binary. Unknown attributes will be ignored. NodeDef: {{node ParallelMapDatasetV2/_16}}\n",
      "2025-05-14 20:31:20.001862: E tensorflow/core/framework/node_def_util.cc:676] NodeDef mentions attribute use_unbounded_threadpool which is not in the op definition: Op<name=MapDataset; signature=input_dataset:variant, other_arguments: -> handle:variant; attr=f:func; attr=Targuments:list(type),min=0; attr=output_types:list(type),min=1; attr=output_shapes:list(shape),min=1; attr=use_inter_op_parallelism:bool,default=true; attr=preserve_cardinality:bool,default=false; attr=force_synchronous:bool,default=false; attr=metadata:string,default=\"\"> This may be expected if your graph generating binary is newer  than this binary. Unknown attributes will be ignored. NodeDef: {{node ParallelMapDatasetV2/_16}}\n",
      "2025-05-14 20:36:14.141195: E tensorflow/core/framework/node_def_util.cc:676] NodeDef mentions attribute use_unbounded_threadpool which is not in the op definition: Op<name=MapDataset; signature=input_dataset:variant, other_arguments: -> handle:variant; attr=f:func; attr=Targuments:list(type),min=0; attr=output_types:list(type),min=1; attr=output_shapes:list(shape),min=1; attr=use_inter_op_parallelism:bool,default=true; attr=preserve_cardinality:bool,default=false; attr=force_synchronous:bool,default=false; attr=metadata:string,default=\"\"> This may be expected if your graph generating binary is newer  than this binary. Unknown attributes will be ignored. NodeDef: {{node ParallelMapDatasetV2/_16}}\n",
      "2025-05-14 20:36:19.547610: E tensorflow/core/framework/node_def_util.cc:676] NodeDef mentions attribute use_unbounded_threadpool which is not in the op definition: Op<name=MapDataset; signature=input_dataset:variant, other_arguments: -> handle:variant; attr=f:func; attr=Targuments:list(type),min=0; attr=output_types:list(type),min=1; attr=output_shapes:list(shape),min=1; attr=use_inter_op_parallelism:bool,default=true; attr=preserve_cardinality:bool,default=false; attr=force_synchronous:bool,default=false; attr=metadata:string,default=\"\"> This may be expected if your graph generating binary is newer  than this binary. Unknown attributes will be ignored. NodeDef: {{node ParallelMapDatasetV2/_16}}\n",
      "2025-05-14 20:39:10.215792: E tensorflow/core/framework/node_def_util.cc:676] NodeDef mentions attribute use_unbounded_threadpool which is not in the op definition: Op<name=MapDataset; signature=input_dataset:variant, other_arguments: -> handle:variant; attr=f:func; attr=Targuments:list(type),min=0; attr=output_types:list(type),min=1; attr=output_shapes:list(shape),min=1; attr=use_inter_op_parallelism:bool,default=true; attr=preserve_cardinality:bool,default=false; attr=force_synchronous:bool,default=false; attr=metadata:string,default=\"\"> This may be expected if your graph generating binary is newer  than this binary. Unknown attributes will be ignored. NodeDef: {{node ParallelMapDatasetV2/_14}}\n"
     ]
    },
    {
     "name": "stdout",
     "output_type": "stream",
     "text": [
      "--- Fold 0 - root_mean_squared_error: 0.0611 - Time: 636.13 s\n"
     ]
    },
    {
     "name": "stderr",
     "output_type": "stream",
     "text": [
      "2025-05-14 20:39:18.666507: E tensorflow/core/framework/node_def_util.cc:676] NodeDef mentions attribute use_unbounded_threadpool which is not in the op definition: Op<name=MapDataset; signature=input_dataset:variant, other_arguments: -> handle:variant; attr=f:func; attr=Targuments:list(type),min=0; attr=output_types:list(type),min=1; attr=output_shapes:list(shape),min=1; attr=use_inter_op_parallelism:bool,default=true; attr=preserve_cardinality:bool,default=false; attr=force_synchronous:bool,default=false; attr=metadata:string,default=\"\"> This may be expected if your graph generating binary is newer  than this binary. Unknown attributes will be ignored. NodeDef: {{node ParallelMapDatasetV2/_16}}\n",
      "2025-05-14 20:42:22.066812: E tensorflow/core/framework/node_def_util.cc:676] NodeDef mentions attribute use_unbounded_threadpool which is not in the op definition: Op<name=MapDataset; signature=input_dataset:variant, other_arguments: -> handle:variant; attr=f:func; attr=Targuments:list(type),min=0; attr=output_types:list(type),min=1; attr=output_shapes:list(shape),min=1; attr=use_inter_op_parallelism:bool,default=true; attr=preserve_cardinality:bool,default=false; attr=force_synchronous:bool,default=false; attr=metadata:string,default=\"\"> This may be expected if your graph generating binary is newer  than this binary. Unknown attributes will be ignored. NodeDef: {{node ParallelMapDatasetV2/_16}}\n",
      "2025-05-14 20:46:11.004397: E tensorflow/core/framework/node_def_util.cc:676] NodeDef mentions attribute use_unbounded_threadpool which is not in the op definition: Op<name=MapDataset; signature=input_dataset:variant, other_arguments: -> handle:variant; attr=f:func; attr=Targuments:list(type),min=0; attr=output_types:list(type),min=1; attr=output_shapes:list(shape),min=1; attr=use_inter_op_parallelism:bool,default=true; attr=preserve_cardinality:bool,default=false; attr=force_synchronous:bool,default=false; attr=metadata:string,default=\"\"> This may be expected if your graph generating binary is newer  than this binary. Unknown attributes will be ignored. NodeDef: {{node ParallelMapDatasetV2/_16}}\n",
      "2025-05-14 20:50:23.788881: E tensorflow/core/framework/node_def_util.cc:676] NodeDef mentions attribute use_unbounded_threadpool which is not in the op definition: Op<name=MapDataset; signature=input_dataset:variant, other_arguments: -> handle:variant; attr=f:func; attr=Targuments:list(type),min=0; attr=output_types:list(type),min=1; attr=output_shapes:list(shape),min=1; attr=use_inter_op_parallelism:bool,default=true; attr=preserve_cardinality:bool,default=false; attr=force_synchronous:bool,default=false; attr=metadata:string,default=\"\"> This may be expected if your graph generating binary is newer  than this binary. Unknown attributes will be ignored. NodeDef: {{node ParallelMapDatasetV2/_14}}\n"
     ]
    },
    {
     "name": "stdout",
     "output_type": "stream",
     "text": [
      "--- Fold 1 - root_mean_squared_error: 0.0619 - Time: 672.90 s\n"
     ]
    },
    {
     "name": "stderr",
     "output_type": "stream",
     "text": [
      "2025-05-14 20:50:32.035491: E tensorflow/core/framework/node_def_util.cc:676] NodeDef mentions attribute use_unbounded_threadpool which is not in the op definition: Op<name=MapDataset; signature=input_dataset:variant, other_arguments: -> handle:variant; attr=f:func; attr=Targuments:list(type),min=0; attr=output_types:list(type),min=1; attr=output_shapes:list(shape),min=1; attr=use_inter_op_parallelism:bool,default=true; attr=preserve_cardinality:bool,default=false; attr=force_synchronous:bool,default=false; attr=metadata:string,default=\"\"> This may be expected if your graph generating binary is newer  than this binary. Unknown attributes will be ignored. NodeDef: {{node ParallelMapDatasetV2/_16}}\n",
      "2025-05-14 20:54:18.245751: E tensorflow/core/framework/node_def_util.cc:676] NodeDef mentions attribute use_unbounded_threadpool which is not in the op definition: Op<name=MapDataset; signature=input_dataset:variant, other_arguments: -> handle:variant; attr=f:func; attr=Targuments:list(type),min=0; attr=output_types:list(type),min=1; attr=output_shapes:list(shape),min=1; attr=use_inter_op_parallelism:bool,default=true; attr=preserve_cardinality:bool,default=false; attr=force_synchronous:bool,default=false; attr=metadata:string,default=\"\"> This may be expected if your graph generating binary is newer  than this binary. Unknown attributes will be ignored. NodeDef: {{node ParallelMapDatasetV2/_16}}\n",
      "2025-05-14 20:56:42.388086: E tensorflow/core/framework/node_def_util.cc:676] NodeDef mentions attribute use_unbounded_threadpool which is not in the op definition: Op<name=MapDataset; signature=input_dataset:variant, other_arguments: -> handle:variant; attr=f:func; attr=Targuments:list(type),min=0; attr=output_types:list(type),min=1; attr=output_shapes:list(shape),min=1; attr=use_inter_op_parallelism:bool,default=true; attr=preserve_cardinality:bool,default=false; attr=force_synchronous:bool,default=false; attr=metadata:string,default=\"\"> This may be expected if your graph generating binary is newer  than this binary. Unknown attributes will be ignored. NodeDef: {{node ParallelMapDatasetV2/_16}}\n",
      "2025-05-14 21:00:19.269579: E tensorflow/core/framework/node_def_util.cc:676] NodeDef mentions attribute use_unbounded_threadpool which is not in the op definition: Op<name=MapDataset; signature=input_dataset:variant, other_arguments: -> handle:variant; attr=f:func; attr=Targuments:list(type),min=0; attr=output_types:list(type),min=1; attr=output_shapes:list(shape),min=1; attr=use_inter_op_parallelism:bool,default=true; attr=preserve_cardinality:bool,default=false; attr=force_synchronous:bool,default=false; attr=metadata:string,default=\"\"> This may be expected if your graph generating binary is newer  than this binary. Unknown attributes will be ignored. NodeDef: {{node ParallelMapDatasetV2/_14}}\n"
     ]
    },
    {
     "name": "stdout",
     "output_type": "stream",
     "text": [
      "--- Fold 2 - root_mean_squared_error: 0.0615 - Time: 595.18 s\n"
     ]
    },
    {
     "name": "stderr",
     "output_type": "stream",
     "text": [
      "2025-05-14 21:00:27.766665: E tensorflow/core/framework/node_def_util.cc:676] NodeDef mentions attribute use_unbounded_threadpool which is not in the op definition: Op<name=MapDataset; signature=input_dataset:variant, other_arguments: -> handle:variant; attr=f:func; attr=Targuments:list(type),min=0; attr=output_types:list(type),min=1; attr=output_shapes:list(shape),min=1; attr=use_inter_op_parallelism:bool,default=true; attr=preserve_cardinality:bool,default=false; attr=force_synchronous:bool,default=false; attr=metadata:string,default=\"\"> This may be expected if your graph generating binary is newer  than this binary. Unknown attributes will be ignored. NodeDef: {{node ParallelMapDatasetV2/_16}}\n",
      "2025-05-14 21:05:17.062788: E tensorflow/core/framework/node_def_util.cc:676] NodeDef mentions attribute use_unbounded_threadpool which is not in the op definition: Op<name=MapDataset; signature=input_dataset:variant, other_arguments: -> handle:variant; attr=f:func; attr=Targuments:list(type),min=0; attr=output_types:list(type),min=1; attr=output_shapes:list(shape),min=1; attr=use_inter_op_parallelism:bool,default=true; attr=preserve_cardinality:bool,default=false; attr=force_synchronous:bool,default=false; attr=metadata:string,default=\"\"> This may be expected if your graph generating binary is newer  than this binary. Unknown attributes will be ignored. NodeDef: {{node ParallelMapDatasetV2/_16}}\n",
      "2025-05-14 21:08:36.394313: E tensorflow/core/framework/node_def_util.cc:676] NodeDef mentions attribute use_unbounded_threadpool which is not in the op definition: Op<name=MapDataset; signature=input_dataset:variant, other_arguments: -> handle:variant; attr=f:func; attr=Targuments:list(type),min=0; attr=output_types:list(type),min=1; attr=output_shapes:list(shape),min=1; attr=use_inter_op_parallelism:bool,default=true; attr=preserve_cardinality:bool,default=false; attr=force_synchronous:bool,default=false; attr=metadata:string,default=\"\"> This may be expected if your graph generating binary is newer  than this binary. Unknown attributes will be ignored. NodeDef: {{node ParallelMapDatasetV2/_16}}\n",
      "2025-05-14 21:11:54.624856: E tensorflow/core/framework/node_def_util.cc:676] NodeDef mentions attribute use_unbounded_threadpool which is not in the op definition: Op<name=MapDataset; signature=input_dataset:variant, other_arguments: -> handle:variant; attr=f:func; attr=Targuments:list(type),min=0; attr=output_types:list(type),min=1; attr=output_shapes:list(shape),min=1; attr=use_inter_op_parallelism:bool,default=true; attr=preserve_cardinality:bool,default=false; attr=force_synchronous:bool,default=false; attr=metadata:string,default=\"\"> This may be expected if your graph generating binary is newer  than this binary. Unknown attributes will be ignored. NodeDef: {{node ParallelMapDatasetV2/_14}}\n"
     ]
    },
    {
     "name": "stdout",
     "output_type": "stream",
     "text": [
      "--- Fold 3 - root_mean_squared_error: 0.0622 - Time: 694.80 s\n"
     ]
    },
    {
     "name": "stderr",
     "output_type": "stream",
     "text": [
      "2025-05-14 21:12:03.469800: E tensorflow/core/framework/node_def_util.cc:676] NodeDef mentions attribute use_unbounded_threadpool which is not in the op definition: Op<name=MapDataset; signature=input_dataset:variant, other_arguments: -> handle:variant; attr=f:func; attr=Targuments:list(type),min=0; attr=output_types:list(type),min=1; attr=output_shapes:list(shape),min=1; attr=use_inter_op_parallelism:bool,default=true; attr=preserve_cardinality:bool,default=false; attr=force_synchronous:bool,default=false; attr=metadata:string,default=\"\"> This may be expected if your graph generating binary is newer  than this binary. Unknown attributes will be ignored. NodeDef: {{node ParallelMapDatasetV2/_16}}\n",
      "2025-05-14 21:15:30.741523: E tensorflow/core/framework/node_def_util.cc:676] NodeDef mentions attribute use_unbounded_threadpool which is not in the op definition: Op<name=MapDataset; signature=input_dataset:variant, other_arguments: -> handle:variant; attr=f:func; attr=Targuments:list(type),min=0; attr=output_types:list(type),min=1; attr=output_shapes:list(shape),min=1; attr=use_inter_op_parallelism:bool,default=true; attr=preserve_cardinality:bool,default=false; attr=force_synchronous:bool,default=false; attr=metadata:string,default=\"\"> This may be expected if your graph generating binary is newer  than this binary. Unknown attributes will be ignored. NodeDef: {{node ParallelMapDatasetV2/_16}}\n",
      "2025-05-14 21:15:35.801913: E tensorflow/core/framework/node_def_util.cc:676] NodeDef mentions attribute use_unbounded_threadpool which is not in the op definition: Op<name=MapDataset; signature=input_dataset:variant, other_arguments: -> handle:variant; attr=f:func; attr=Targuments:list(type),min=0; attr=output_types:list(type),min=1; attr=output_shapes:list(shape),min=1; attr=use_inter_op_parallelism:bool,default=true; attr=preserve_cardinality:bool,default=false; attr=force_synchronous:bool,default=false; attr=metadata:string,default=\"\"> This may be expected if your graph generating binary is newer  than this binary. Unknown attributes will be ignored. NodeDef: {{node ParallelMapDatasetV2/_16}}\n",
      "2025-05-14 21:18:21.748960: E tensorflow/core/framework/node_def_util.cc:676] NodeDef mentions attribute use_unbounded_threadpool which is not in the op definition: Op<name=MapDataset; signature=input_dataset:variant, other_arguments: -> handle:variant; attr=f:func; attr=Targuments:list(type),min=0; attr=output_types:list(type),min=1; attr=output_shapes:list(shape),min=1; attr=use_inter_op_parallelism:bool,default=true; attr=preserve_cardinality:bool,default=false; attr=force_synchronous:bool,default=false; attr=metadata:string,default=\"\"> This may be expected if your graph generating binary is newer  than this binary. Unknown attributes will be ignored. NodeDef: {{node ParallelMapDatasetV2/_16}}\n",
      "2025-05-14 21:21:10.920120: E tensorflow/core/framework/node_def_util.cc:676] NodeDef mentions attribute use_unbounded_threadpool which is not in the op definition: Op<name=MapDataset; signature=input_dataset:variant, other_arguments: -> handle:variant; attr=f:func; attr=Targuments:list(type),min=0; attr=output_types:list(type),min=1; attr=output_shapes:list(shape),min=1; attr=use_inter_op_parallelism:bool,default=true; attr=preserve_cardinality:bool,default=false; attr=force_synchronous:bool,default=false; attr=metadata:string,default=\"\"> This may be expected if your graph generating binary is newer  than this binary. Unknown attributes will be ignored. NodeDef: {{node ParallelMapDatasetV2/_14}}\n"
     ]
    },
    {
     "name": "stdout",
     "output_type": "stream",
     "text": [
      "--- Fold 4 - root_mean_squared_error: 0.0611 - Time: 555.73 s\n",
      "\n",
      "------ Overall root_mean_squared_error: 0.0616 - Mean root_mean_squared_error: 0.0616 ± 0.0004 - Time: 3157.56 s\n"
     ]
    },
    {
     "name": "stderr",
     "output_type": "stream",
     "text": [
      "2025-05-14 21:21:17.058876: E tensorflow/core/framework/node_def_util.cc:676] NodeDef mentions attribute use_unbounded_threadpool which is not in the op definition: Op<name=MapDataset; signature=input_dataset:variant, other_arguments: -> handle:variant; attr=f:func; attr=Targuments:list(type),min=0; attr=output_types:list(type),min=1; attr=output_shapes:list(shape),min=1; attr=use_inter_op_parallelism:bool,default=true; attr=preserve_cardinality:bool,default=false; attr=force_synchronous:bool,default=false; attr=metadata:string,default=\"\"> This may be expected if your graph generating binary is newer  than this binary. Unknown attributes will be ignored. NodeDef: {{node ParallelMapDatasetV2/_14}}\n",
      "2025-05-14 21:21:22.383963: E tensorflow/core/framework/node_def_util.cc:676] NodeDef mentions attribute use_unbounded_threadpool which is not in the op definition: Op<name=MapDataset; signature=input_dataset:variant, other_arguments: -> handle:variant; attr=f:func; attr=Targuments:list(type),min=0; attr=output_types:list(type),min=1; attr=output_shapes:list(shape),min=1; attr=use_inter_op_parallelism:bool,default=true; attr=preserve_cardinality:bool,default=false; attr=force_synchronous:bool,default=false; attr=metadata:string,default=\"\"> This may be expected if your graph generating binary is newer  than this binary. Unknown attributes will be ignored. NodeDef: {{node ParallelMapDatasetV2/_14}}\n",
      "2025-05-14 21:21:27.715815: E tensorflow/core/framework/node_def_util.cc:676] NodeDef mentions attribute use_unbounded_threadpool which is not in the op definition: Op<name=MapDataset; signature=input_dataset:variant, other_arguments: -> handle:variant; attr=f:func; attr=Targuments:list(type),min=0; attr=output_types:list(type),min=1; attr=output_shapes:list(shape),min=1; attr=use_inter_op_parallelism:bool,default=true; attr=preserve_cardinality:bool,default=false; attr=force_synchronous:bool,default=false; attr=metadata:string,default=\"\"> This may be expected if your graph generating binary is newer  than this binary. Unknown attributes will be ignored. NodeDef: {{node ParallelMapDatasetV2/_14}}\n",
      "2025-05-14 21:21:33.038583: E tensorflow/core/framework/node_def_util.cc:676] NodeDef mentions attribute use_unbounded_threadpool which is not in the op definition: Op<name=MapDataset; signature=input_dataset:variant, other_arguments: -> handle:variant; attr=f:func; attr=Targuments:list(type),min=0; attr=output_types:list(type),min=1; attr=output_shapes:list(shape),min=1; attr=use_inter_op_parallelism:bool,default=true; attr=preserve_cardinality:bool,default=false; attr=force_synchronous:bool,default=false; attr=metadata:string,default=\"\"> This may be expected if your graph generating binary is newer  than this binary. Unknown attributes will be ignored. NodeDef: {{node ParallelMapDatasetV2/_14}}\n"
     ]
    }
   ],
   "source": [
    "nn_trainer = Trainer(\n",
    "    nn_bag,\n",
    "    cv=CFG.cv,\n",
    "    metric=root_mean_squared_error,\n",
    "    task=\"regression\"\n",
    ")\n",
    "\n",
    "nn_trainer.fit(X, y, extra_X=X_original, extra_y=y_original)\n",
    "\n",
    "scores[\"KerasANN\"] = nn_trainer.fold_scores\n",
    "oof_preds[\"KerasANN\"] = nn_trainer.oof_preds\n",
    "test_preds[\"KerasANN\"] = nn_trainer.predict(X_test)"
   ]
  },
  {
   "cell_type": "markdown",
   "id": "50499dd8",
   "metadata": {
    "papermill": {
     "duration": 0.018193,
     "end_time": "2025-05-14T21:21:34.172009",
     "exception": false,
     "start_time": "2025-05-14T21:21:34.153816",
     "status": "completed"
    },
    "tags": []
   },
   "source": [
    "# Ensembling with Ridge"
   ]
  },
  {
   "cell_type": "code",
   "execution_count": 25,
   "id": "b07419c4",
   "metadata": {
    "_kg_hide-input": true,
    "execution": {
     "iopub.execute_input": "2025-05-14T21:21:34.208180Z",
     "iopub.status.busy": "2025-05-14T21:21:34.207827Z",
     "iopub.status.idle": "2025-05-14T21:21:34.215934Z",
     "shell.execute_reply": "2025-05-14T21:21:34.214947Z"
    },
    "papermill": {
     "duration": 0.028388,
     "end_time": "2025-05-14T21:21:34.217532",
     "exception": false,
     "start_time": "2025-05-14T21:21:34.189144",
     "status": "completed"
    },
    "tags": []
   },
   "outputs": [],
   "source": [
    "def plot_weights(weights, title):\n",
    "    sorted_indices = np.argsort(weights[0])[::-1]\n",
    "    sorted_coeffs = np.array(weights[0])[sorted_indices]\n",
    "    sorted_model_names = np.array(list(oof_preds.keys()))[sorted_indices]\n",
    "\n",
    "    plt.figure(figsize=(10, weights.shape[1] * 0.5))\n",
    "    ax = sns.barplot(x=sorted_coeffs, y=sorted_model_names, palette=\"RdYlGn_r\")\n",
    "\n",
    "    for i, (value, name) in enumerate(zip(sorted_coeffs, sorted_model_names)):\n",
    "        if value >= 0:\n",
    "            ax.text(value, i, f\"{value:.3f}\", va=\"center\", ha=\"left\", color=\"black\")\n",
    "        else:\n",
    "            ax.text(value, i, f\"{value:.3f}\", va=\"center\", ha=\"right\", color=\"black\")\n",
    "\n",
    "    xlim = ax.get_xlim()\n",
    "    ax.set_xlim(xlim[0] - 0.1 * abs(xlim[0]), xlim[1] + 0.1 * abs(xlim[1]))\n",
    "\n",
    "    plt.title(title)\n",
    "    plt.xlabel(\"\")\n",
    "    plt.ylabel(\"\")\n",
    "    plt.tight_layout()\n",
    "    plt.show()"
   ]
  },
  {
   "cell_type": "code",
   "execution_count": 26,
   "id": "3bc22b67",
   "metadata": {
    "execution": {
     "iopub.execute_input": "2025-05-14T21:21:34.253834Z",
     "iopub.status.busy": "2025-05-14T21:21:34.253514Z",
     "iopub.status.idle": "2025-05-14T21:21:34.297165Z",
     "shell.execute_reply": "2025-05-14T21:21:34.296365Z"
    },
    "papermill": {
     "duration": 0.063703,
     "end_time": "2025-05-14T21:21:34.298749",
     "exception": false,
     "start_time": "2025-05-14T21:21:34.235046",
     "status": "completed"
    },
    "tags": []
   },
   "outputs": [],
   "source": [
    "X = pd.DataFrame(oof_preds)\n",
    "X_test = pd.DataFrame(test_preds)"
   ]
  },
  {
   "cell_type": "code",
   "execution_count": 27,
   "id": "d592a6ca",
   "metadata": {
    "execution": {
     "iopub.execute_input": "2025-05-14T21:21:34.335351Z",
     "iopub.status.busy": "2025-05-14T21:21:34.335003Z",
     "iopub.status.idle": "2025-05-14T21:21:34.412720Z",
     "shell.execute_reply": "2025-05-14T21:21:34.411548Z"
    },
    "papermill": {
     "duration": 0.097478,
     "end_time": "2025-05-14T21:21:34.414447",
     "exception": false,
     "start_time": "2025-05-14T21:21:34.316969",
     "status": "completed"
    },
    "tags": []
   },
   "outputs": [
    {
     "data": {
      "text/plain": [
       "['test_preds.pkl']"
      ]
     },
     "execution_count": 27,
     "metadata": {},
     "output_type": "execute_result"
    }
   ],
   "source": [
    "joblib.dump(X, \"oof_preds.pkl\")\n",
    "joblib.dump(X_test, \"test_preds.pkl\")"
   ]
  },
  {
   "cell_type": "code",
   "execution_count": 28,
   "id": "749c6b0c",
   "metadata": {
    "_kg_hide-output": true,
    "execution": {
     "iopub.execute_input": "2025-05-14T21:21:34.450749Z",
     "iopub.status.busy": "2025-05-14T21:21:34.450437Z",
     "iopub.status.idle": "2025-05-14T21:36:18.905064Z",
     "shell.execute_reply": "2025-05-14T21:36:18.904056Z"
    },
    "papermill": {
     "duration": 884.4752,
     "end_time": "2025-05-14T21:36:18.907260",
     "exception": false,
     "start_time": "2025-05-14T21:21:34.432060",
     "status": "completed"
    },
    "scrolled": true,
    "tags": []
   },
   "outputs": [
    {
     "name": "stderr",
     "output_type": "stream",
     "text": [
      "[I 2025-05-14 21:21:34,455] A new study created in memory with name: no-name-f00510a0-1c6a-4bd7-80b7-1214ae9e4c8b\n",
      "[I 2025-05-14 21:21:47,133] Trial 2 finished with value: 0.05901632281630986 and parameters: {'alpha': 0.7261194609031363, 'tol': 0.002586566564354936}. Best is trial 2 with value: 0.05901632281630986.\n",
      "[I 2025-05-14 21:21:47,135] Trial 3 finished with value: 0.05901969427252455 and parameters: {'alpha': 9.18842806242234, 'tol': 0.004007644059288806}. Best is trial 2 with value: 0.05901632281630986.\n",
      "[I 2025-05-14 21:21:47,143] Trial 0 finished with value: 0.05901872037655968 and parameters: {'alpha': 7.96662671367224, 'tol': 0.004656007190702848}. Best is trial 2 with value: 0.05901632281630986.\n",
      "[I 2025-05-14 21:21:47,144] Trial 1 finished with value: 0.059017322099096214 and parameters: {'alpha': 5.926158299895103, 'tol': 0.0034824683193178016}. Best is trial 2 with value: 0.05901632281630986.\n",
      "[I 2025-05-14 21:22:00,444] Trial 4 finished with value: 0.05901960279854305 and parameters: {'alpha': 9.077920108509318, 'tol': 0.007320385923277699}. Best is trial 2 with value: 0.05901632281630986.\n",
      "[I 2025-05-14 21:22:00,445] Trial 5 finished with value: 0.059018592116564156 and parameters: {'alpha': 7.796821076068426, 'tol': 0.0023964221869991267}. Best is trial 2 with value: 0.05901632281630986.\n",
      "[I 2025-05-14 21:22:01,105] Trial 6 finished with value: 0.05901867238834057 and parameters: {'alpha': 7.903385183191068, 'tol': 0.0012899420155251652}. Best is trial 2 with value: 0.05901632281630986.\n",
      "[I 2025-05-14 21:22:01,115] Trial 7 finished with value: 0.05901603128055507 and parameters: {'alpha': 1.89094630458019, 'tol': 0.0012736678938171798}. Best is trial 7 with value: 0.05901603128055507.\n",
      "[I 2025-05-14 21:22:13,245] Trial 8 finished with value: 0.05901649519182679 and parameters: {'alpha': 4.297737414850534, 'tol': 0.005358577733708508}. Best is trial 7 with value: 0.05901603128055507.\n",
      "[I 2025-05-14 21:22:15,209] Trial 10 finished with value: 0.059016029312097866 and parameters: {'alpha': 2.4110120006188316, 'tol': 0.002360616696725751}. Best is trial 10 with value: 0.059016029312097866.\n",
      "[I 2025-05-14 21:22:15,212] Trial 11 finished with value: 0.05901626182462146 and parameters: {'alpha': 3.642380183474235, 'tol': 0.005069252057143347}. Best is trial 10 with value: 0.059016029312097866.\n",
      "[I 2025-05-14 21:22:15,264] Trial 9 finished with value: 0.059019471716412204 and parameters: {'alpha': 8.918211950574435, 'tol': 0.0074105051630118865}. Best is trial 10 with value: 0.059016029312097866.\n",
      "[I 2025-05-14 21:22:28,071] Trial 13 finished with value: 0.0590162734412701 and parameters: {'alpha': 3.6801907186793015, 'tol': 0.0019162300361934307}. Best is trial 10 with value: 0.059016029312097866.\n",
      "[I 2025-05-14 21:22:28,738] Trial 14 finished with value: 0.059016145678263875 and parameters: {'alpha': 3.205883797689651, 'tol': 0.000522085685448398}. Best is trial 10 with value: 0.059016029312097866.\n",
      "[I 2025-05-14 21:22:28,739] Trial 15 finished with value: 0.05901654034565998 and parameters: {'alpha': 4.407048938732663, 'tol': 0.0001672276284550927}. Best is trial 10 with value: 0.059016029312097866.\n",
      "[I 2025-05-14 21:22:28,774] Trial 12 finished with value: 0.0590171413439687 and parameters: {'alpha': 5.615954955497048, 'tol': 0.004717707948944032}. Best is trial 10 with value: 0.059016029312097866.\n",
      "[I 2025-05-14 21:22:39,532] Trial 16 finished with value: 0.05901626798540153 and parameters: {'alpha': 0.8541124575891255, 'tol': 5.8039238974147075e-05}. Best is trial 10 with value: 0.059016029312097866.\n",
      "[I 2025-05-14 21:22:40,322] Trial 17 finished with value: 0.059016491183493405 and parameters: {'alpha': 0.40213164803599977, 'tol': 0.005166301328750337}. Best is trial 10 with value: 0.059016029312097866.\n",
      "[I 2025-05-14 21:22:40,337] Trial 18 finished with value: 0.05901625920919432 and parameters: {'alpha': 0.8760688313171592, 'tol': 0.004973784643907131}. Best is trial 10 with value: 0.059016029312097866.\n",
      "[I 2025-05-14 21:22:41,070] Trial 19 finished with value: 0.05901697534085143 and parameters: {'alpha': 5.314460678228003, 'tol': 0.009742179990845312}. Best is trial 10 with value: 0.059016029312097866.\n",
      "[I 2025-05-14 21:22:53,706] Trial 20 finished with value: 0.05901608535764127 and parameters: {'alpha': 1.4749789762782832, 'tol': 0.008444144494031244}. Best is trial 10 with value: 0.059016029312097866.\n",
      "[I 2025-05-14 21:22:55,229] Trial 21 finished with value: 0.059016713047797514 and parameters: {'alpha': 0.06864031324160802, 'tol': 0.009729268989257554}. Best is trial 10 with value: 0.059016029312097866.\n",
      "[I 2025-05-14 21:22:55,249] Trial 22 finished with value: 0.05901608466433875 and parameters: {'alpha': 1.4786084639000086, 'tol': 0.009188945291067795}. Best is trial 10 with value: 0.059016029312097866.\n",
      "[I 2025-05-14 21:22:55,966] Trial 23 finished with value: 0.0590160222885855 and parameters: {'alpha': 2.0981777916953512, 'tol': 0.0027238591938265923}. Best is trial 23 with value: 0.0590160222885855.\n",
      "[I 2025-05-14 21:23:07,952] Trial 24 finished with value: 0.059016070425712344 and parameters: {'alpha': 1.558495234400656, 'tol': 0.009113180042152332}. Best is trial 23 with value: 0.0590160222885855.\n",
      "[I 2025-05-14 21:23:08,839] Trial 25 finished with value: 0.0590161417415324 and parameters: {'alpha': 3.1883865778551588, 'tol': 0.007794435147813423}. Best is trial 23 with value: 0.0590160222885855.\n",
      "[I 2025-05-14 21:23:09,568] Trial 27 finished with value: 0.059016042306158235 and parameters: {'alpha': 2.575478632927891, 'tol': 0.002750768616607856}. Best is trial 23 with value: 0.0590160222885855.\n",
      "[I 2025-05-14 21:23:10,266] Trial 26 finished with value: 0.05901608821050098 and parameters: {'alpha': 2.9167979621768643, 'tol': 0.007756545210520215}. Best is trial 23 with value: 0.0590160222885855.\n",
      "[I 2025-05-14 21:23:22,630] Trial 28 finished with value: 0.05901605490658882 and parameters: {'alpha': 1.6614161132167258, 'tol': 0.0019966643362762985}. Best is trial 23 with value: 0.0590160222885855.\n",
      "[I 2025-05-14 21:23:23,547] Trial 29 finished with value: 0.05901604302287419 and parameters: {'alpha': 1.7592184924089695, 'tol': 0.002312900729906009}. Best is trial 23 with value: 0.0590160222885855.\n",
      "[I 2025-05-14 21:23:24,959] Trial 31 finished with value: 0.05901603452672556 and parameters: {'alpha': 2.486722399781789, 'tol': 0.0025299839957562222}. Best is trial 23 with value: 0.0590160222885855.\n",
      "[I 2025-05-14 21:23:24,962] Trial 30 finished with value: 0.059016069014499226 and parameters: {'alpha': 1.5670571206660526, 'tol': 0.0023758016569201653}. Best is trial 23 with value: 0.0590160222885855.\n",
      "[I 2025-05-14 21:23:35,999] Trial 32 finished with value: 0.059016145692294644 and parameters: {'alpha': 3.2059457057349645, 'tol': 0.0031783161187655526}. Best is trial 23 with value: 0.0590160222885855.\n",
      "[I 2025-05-14 21:23:38,295] Trial 33 finished with value: 0.059016342616840974 and parameters: {'alpha': 3.891350638151179, 'tol': 0.003072262256917732}. Best is trial 23 with value: 0.0590160222885855.\n",
      "[I 2025-05-14 21:23:39,692] Trial 34 finished with value: 0.05901624065249223 and parameters: {'alpha': 3.5713534681989585, 'tol': 0.0025544438853244444}. Best is trial 23 with value: 0.0590160222885855.\n",
      "[I 2025-05-14 21:23:39,692] Trial 35 finished with value: 0.05901628413123608 and parameters: {'alpha': 3.714321530188684, 'tol': 0.0033937961535008034}. Best is trial 23 with value: 0.0590160222885855.\n",
      "[I 2025-05-14 21:23:49,456] Trial 36 finished with value: 0.059016357728269686 and parameters: {'alpha': 3.9347845901303153, 'tol': 0.0025352204203707373}. Best is trial 23 with value: 0.0590160222885855.\n",
      "[I 2025-05-14 21:23:50,411] Trial 38 finished with value: 0.05901676254184384 and parameters: {'alpha': 0.003638991479058884, 'tol': 0.0030085569362556146}. Best is trial 23 with value: 0.0590160222885855.\n",
      "[I 2025-05-14 21:23:51,717] Trial 37 finished with value: 0.059016027893717536 and parameters: {'alpha': 1.9440189572331705, 'tol': 0.0036626168521464576}. Best is trial 23 with value: 0.0590160222885855.\n",
      "[I 2025-05-14 21:23:52,447] Trial 39 finished with value: 0.05901623236797245 and parameters: {'alpha': 0.9462379899712725, 'tol': 0.0027401975796531855}. Best is trial 23 with value: 0.0590160222885855.\n",
      "[I 2025-05-14 21:24:02,263] Trial 40 finished with value: 0.05901619259979525 and parameters: {'alpha': 1.0602067617758504, 'tol': 0.0028408485545152636}. Best is trial 23 with value: 0.0590160222885855.\n",
      "[I 2025-05-14 21:24:03,854] Trial 43 finished with value: 0.05901605434243105 and parameters: {'alpha': 1.6655946177134595, 'tol': 0.0006707156756862513}. Best is trial 23 with value: 0.0590160222885855.\n",
      "[I 2025-05-14 21:24:03,869] Trial 41 finished with value: 0.05901616981629909 and parameters: {'alpha': 1.132318471352369, 'tol': 0.0013874898763063122}. Best is trial 23 with value: 0.0590160222885855.\n",
      "[I 2025-05-14 21:24:05,284] Trial 42 finished with value: 0.059016022510823746 and parameters: {'alpha': 2.085787248251805, 'tol': 0.004466731391027451}. Best is trial 23 with value: 0.0590160222885855.\n",
      "[I 2025-05-14 21:24:16,207] Trial 44 finished with value: 0.059016057009407444 and parameters: {'alpha': 2.706675050398548, 'tol': 0.0008962321932923847}. Best is trial 23 with value: 0.0590160222885855.\n",
      "[I 2025-05-14 21:24:18,465] Trial 45 finished with value: 0.059016022968948055 and parameters: {'alpha': 2.261277278845145, 'tol': 0.0035610382883296005}. Best is trial 23 with value: 0.0590160222885855.\n",
      "[I 2025-05-14 21:24:19,752] Trial 46 finished with value: 0.059016022139322194 and parameters: {'alpha': 2.217693591975402, 'tol': 0.004024076701187328}. Best is trial 46 with value: 0.059016022139322194.\n",
      "[I 2025-05-14 21:24:19,771] Trial 47 finished with value: 0.05901602325537488 and parameters: {'alpha': 2.0542205119236545, 'tol': 0.004651398143427019}. Best is trial 46 with value: 0.059016022139322194.\n",
      "[I 2025-05-14 21:24:29,293] Trial 48 finished with value: 0.059016103806412604 and parameters: {'alpha': 1.3852361888048699, 'tol': 0.004515535849984254}. Best is trial 46 with value: 0.059016022139322194.\n",
      "[I 2025-05-14 21:24:33,561] Trial 50 finished with value: 0.059016024877802165 and parameters: {'alpha': 2.0063481930591953, 'tol': 0.004902826069695499}. Best is trial 46 with value: 0.059016022139322194.\n",
      "[I 2025-05-14 21:24:34,220] Trial 51 finished with value: 0.05901604367305299 and parameters: {'alpha': 2.5892634694337557, 'tol': 0.005286507285414749}. Best is trial 46 with value: 0.059016022139322194.\n",
      "[I 2025-05-14 21:24:34,237] Trial 49 finished with value: 0.059016022684154686 and parameters: {'alpha': 2.077374819687667, 'tol': 0.005003331410688729}. Best is trial 46 with value: 0.059016022139322194.\n",
      "[I 2025-05-14 21:24:43,279] Trial 52 finished with value: 0.05901619329203993 and parameters: {'alpha': 3.4005438505748016, 'tol': 0.004800456552650646}. Best is trial 46 with value: 0.059016022139322194.\n",
      "[I 2025-05-14 21:24:48,169] Trial 53 finished with value: 0.059016116953082724 and parameters: {'alpha': 3.071578031108521, 'tol': 0.005712829417692009}. Best is trial 46 with value: 0.059016022139322194.\n",
      "[I 2025-05-14 21:24:48,174] Trial 55 finished with value: 0.059016283422348444 and parameters: {'alpha': 3.712077060422731, 'tol': 0.005803701343390748}. Best is trial 46 with value: 0.059016022139322194.\n",
      "[I 2025-05-14 21:24:48,178] Trial 54 finished with value: 0.05901609382818233 and parameters: {'alpha': 2.9491781072788097, 'tol': 0.005337094151097673}. Best is trial 46 with value: 0.059016022139322194.\n",
      "[I 2025-05-14 21:24:57,598] Trial 56 finished with value: 0.05901602753743389 and parameters: {'alpha': 1.9504014320890657, 'tol': 0.006091670424982994}. Best is trial 46 with value: 0.059016022139322194.\n",
      "[I 2025-05-14 21:25:01,183] Trial 59 finished with value: 0.05901610552746526 and parameters: {'alpha': 1.3774464818039596, 'tol': 0.005282857027790521}. Best is trial 46 with value: 0.059016022139322194.\n",
      "[I 2025-05-14 21:25:01,185] Trial 58 finished with value: 0.05901605213788128 and parameters: {'alpha': 1.6822985336446226, 'tol': 0.004902716672462252}. Best is trial 46 with value: 0.059016022139322194.\n",
      "[I 2025-05-14 21:25:01,844] Trial 57 finished with value: 0.059016103028273495 and parameters: {'alpha': 1.388787123646698, 'tol': 0.006086886554370992}. Best is trial 46 with value: 0.059016022139322194.\n",
      "[I 2025-05-14 21:25:11,344] Trial 60 finished with value: 0.059016062230026534 and parameters: {'alpha': 1.6102469160013775, 'tol': 0.004342855655974604}. Best is trial 46 with value: 0.059016022139322194.\n",
      "[I 2025-05-14 21:25:12,982] Trial 61 finished with value: 0.059020362792832085 and parameters: {'alpha': 9.975392240253402, 'tol': 0.005255732573144172}. Best is trial 46 with value: 0.059016022139322194.\n",
      "[I 2025-05-14 21:25:14,284] Trial 62 finished with value: 0.0590161572168028 and parameters: {'alpha': 1.1748670137655055, 'tol': 0.004226946972581384}. Best is trial 46 with value: 0.059016022139322194.\n",
      "[I 2025-05-14 21:25:14,916] Trial 63 finished with value: 0.059016032862261474 and parameters: {'alpha': 2.464544528125909, 'tol': 0.0040374158087111475}. Best is trial 46 with value: 0.059016022139322194.\n",
      "[I 2025-05-14 21:25:24,529] Trial 64 finished with value: 0.05901602189415129 and parameters: {'alpha': 2.130387994105953, 'tol': 0.004139018783229863}. Best is trial 64 with value: 0.05901602189415129.\n",
      "[I 2025-05-14 21:25:29,414] Trial 67 finished with value: 0.059018076886690786 and parameters: {'alpha': 7.08614782580731, 'tol': 0.006422859598476776}. Best is trial 64 with value: 0.05901602189415129.\n",
      "[I 2025-05-14 21:25:29,415] Trial 65 finished with value: 0.05901602182498385 and parameters: {'alpha': 2.1404375578180206, 'tol': 0.004371548249465476}. Best is trial 65 with value: 0.05901602182498385.\n",
      "[I 2025-05-14 21:25:29,416] Trial 66 finished with value: 0.05901618327613162 and parameters: {'alpha': 3.361841863157882, 'tol': 0.004291897163351513}. Best is trial 65 with value: 0.05901602182498385.\n",
      "[I 2025-05-14 21:25:39,564] Trial 68 finished with value: 0.0590160224634184 and parameters: {'alpha': 2.237761335878329, 'tol': 0.0040716728225150415}. Best is trial 65 with value: 0.05901602182498385.\n",
      "[I 2025-05-14 21:25:42,501] Trial 69 finished with value: 0.059016022129176 and parameters: {'alpha': 2.216946735644854, 'tol': 0.004136931614174406}. Best is trial 65 with value: 0.05901602182498385.\n",
      "[I 2025-05-14 21:25:42,506] Trial 71 finished with value: 0.0590196226292833 and parameters: {'alpha': 9.101941481725156, 'tol': 0.0005866643789896051}. Best is trial 65 with value: 0.05901602182498385.\n",
      "[I 2025-05-14 21:25:43,168] Trial 70 finished with value: 0.059016032078385884 and parameters: {'alpha': 2.4535410348556845, 'tol': 0.003839572289989031}. Best is trial 65 with value: 0.05901602182498385.\n",
      "[I 2025-05-14 21:25:52,771] Trial 72 finished with value: 0.05901602723807207 and parameters: {'alpha': 2.373802111068534, 'tol': 0.004249275302438395}. Best is trial 65 with value: 0.05901602182498385.\n",
      "[I 2025-05-14 21:25:55,648] Trial 73 finished with value: 0.05901603228597589 and parameters: {'alpha': 2.456493472991759, 'tol': 0.00396595827706217}. Best is trial 65 with value: 0.05901602182498385.\n",
      "[I 2025-05-14 21:25:56,296] Trial 74 finished with value: 0.059016030892566254 and parameters: {'alpha': 1.896469906531489, 'tol': 0.004169807118912695}. Best is trial 65 with value: 0.05901602182498385.\n",
      "[I 2025-05-14 21:25:56,317] Trial 75 finished with value: 0.059016077769813456 and parameters: {'alpha': 2.8530225376594087, 'tol': 0.003747238571360644}. Best is trial 65 with value: 0.05901602182498385.\n",
      "[I 2025-05-14 21:26:06,641] Trial 76 finished with value: 0.059016690751606815 and parameters: {'alpha': 0.09886836197043491, 'tol': 0.004758233902288039}. Best is trial 65 with value: 0.05901602182498385.\n",
      "[I 2025-05-14 21:26:09,569] Trial 79 finished with value: 0.059019562834260735 and parameters: {'alpha': 9.02940032765436, 'tol': 0.009885816309582088}. Best is trial 65 with value: 0.05901602182498385.\n",
      "[I 2025-05-14 21:26:09,583] Trial 77 finished with value: 0.05901634625812157 and parameters: {'alpha': 0.6755251785410741, 'tol': 0.004039509953871384}. Best is trial 65 with value: 0.05901602182498385.\n",
      "[I 2025-05-14 21:26:09,590] Trial 78 finished with value: 0.05901696273668131 and parameters: {'alpha': 5.2908006282922635, 'tol': 0.004281693736107374}. Best is trial 65 with value: 0.05901602182498385.\n",
      "[I 2025-05-14 21:26:19,136] Trial 80 finished with value: 0.05901605363560886 and parameters: {'alpha': 1.6708837701680435, 'tol': 0.003572781010957588}. Best is trial 65 with value: 0.05901602182498385.\n",
      "[I 2025-05-14 21:26:24,090] Trial 81 finished with value: 0.05901745672184079 and parameters: {'alpha': 6.147241684893375, 'tol': 0.003278940300802346}. Best is trial 65 with value: 0.05901602182498385.\n",
      "[I 2025-05-14 21:26:24,092] Trial 82 finished with value: 0.059016966450996626 and parameters: {'alpha': 5.297785306641778, 'tol': 0.003696671638826455}. Best is trial 65 with value: 0.05901602182498385.\n",
      "[I 2025-05-14 21:26:24,102] Trial 83 finished with value: 0.05901602949184437 and parameters: {'alpha': 1.9174875461070375, 'tol': 0.0031831180507034037}. Best is trial 65 with value: 0.05901602182498385.\n",
      "[I 2025-05-14 21:26:33,465] Trial 84 finished with value: 0.05901602506019433 and parameters: {'alpha': 2.3261617730825925, 'tol': 0.002648475823127468}. Best is trial 65 with value: 0.05901602182498385.\n",
      "[I 2025-05-14 21:26:37,093] Trial 86 finished with value: 0.05901605658442783 and parameters: {'alpha': 2.703301622358034, 'tol': 0.0035806651492140485}. Best is trial 65 with value: 0.05901602182498385.\n",
      "[I 2025-05-14 21:26:37,752] Trial 87 finished with value: 0.05901612882051151 and parameters: {'alpha': 3.1290391734167784, 'tol': 0.003112792639813923}. Best is trial 65 with value: 0.05901602182498385.\n",
      "[I 2025-05-14 21:26:37,815] Trial 85 finished with value: 0.05901602177741877 and parameters: {'alpha': 2.151827788654607, 'tol': 0.003189203869787955}. Best is trial 85 with value: 0.05901602177741877.\n",
      "[I 2025-05-14 21:26:46,440] Trial 88 finished with value: 0.05901604745895168 and parameters: {'alpha': 2.6254252887308747, 'tol': 0.003507366304311285}. Best is trial 85 with value: 0.05901602177741877.\n",
      "[I 2025-05-14 21:26:50,085] Trial 90 finished with value: 0.05901606203135216 and parameters: {'alpha': 2.7451683968541265, 'tol': 0.005511692517481423}. Best is trial 85 with value: 0.05901602177741877.\n",
      "[I 2025-05-14 21:26:50,795] Trial 89 finished with value: 0.05901622009681012 and parameters: {'alpha': 3.499452512554433, 'tol': 0.004516538514262314}. Best is trial 85 with value: 0.05901602177741877.\n",
      "[I 2025-05-14 21:26:51,529] Trial 91 finished with value: 0.05901611649090802 and parameters: {'alpha': 3.0692757252618845, 'tol': 0.0041955438014658055}. Best is trial 85 with value: 0.05901602177741877.\n",
      "[I 2025-05-14 21:27:00,759] Trial 92 finished with value: 0.05901602258800739 and parameters: {'alpha': 2.244181730986285, 'tol': 0.006383212230549347}. Best is trial 85 with value: 0.05901602177741877.\n",
      "[I 2025-05-14 21:27:04,305] Trial 93 finished with value: 0.05901751228251324 and parameters: {'alpha': 6.236344246634775, 'tol': 0.0009483173181782595}. Best is trial 85 with value: 0.05901602177741877.\n",
      "[I 2025-05-14 21:27:05,086] Trial 94 finished with value: 0.05901602193760647 and parameters: {'alpha': 2.2001692410805753, 'tol': 0.002536621503199506}. Best is trial 85 with value: 0.05901602177741877.\n",
      "[I 2025-05-14 21:27:05,087] Trial 95 finished with value: 0.0590160499537352 and parameters: {'alpha': 1.6994871823808597, 'tol': 0.003068708720028291}. Best is trial 85 with value: 0.05901602177741877.\n",
      "[I 2025-05-14 21:27:14,332] Trial 96 finished with value: 0.05901602599825311 and parameters: {'alpha': 1.9806131926999098, 'tol': 0.006867711043652157}. Best is trial 85 with value: 0.05901602177741877.\n",
      "[I 2025-05-14 21:27:18,012] Trial 97 finished with value: 0.059016025945594325 and parameters: {'alpha': 1.9817387030243334, 'tol': 0.005876375310410671}. Best is trial 85 with value: 0.05901602177741877.\n",
      "[I 2025-05-14 21:27:18,876] Trial 99 finished with value: 0.05901651311365692 and parameters: {'alpha': 4.341612641330219, 'tol': 0.007042089805184058}. Best is trial 85 with value: 0.05901602177741877.\n",
      "[I 2025-05-14 21:27:20,183] Trial 98 finished with value: 0.05901609774995053 and parameters: {'alpha': 1.4133740387943083, 'tol': 0.00691186206729316}. Best is trial 85 with value: 0.05901602177741877.\n",
      "[I 2025-05-14 21:27:28,833] Trial 100 finished with value: 0.059016150747680546 and parameters: {'alpha': 3.228048752203006, 'tol': 0.0019229871554950946}. Best is trial 85 with value: 0.05901602177741877.\n",
      "[I 2025-05-14 21:27:32,500] Trial 101 finished with value: 0.05901638641640462 and parameters: {'alpha': 4.015027620946593, 'tol': 0.007257600608601767}. Best is trial 85 with value: 0.05901602177741877.\n",
      "[I 2025-05-14 21:27:33,335] Trial 102 finished with value: 0.05901602321650808 and parameters: {'alpha': 2.0556349291683933, 'tol': 0.002252852645815231}. Best is trial 85 with value: 0.05901602177741877.\n",
      "[I 2025-05-14 21:27:34,006] Trial 103 finished with value: 0.05901608872703831 and parameters: {'alpha': 2.919827080838318, 'tol': 0.0019624468124092194}. Best is trial 85 with value: 0.05901602177741877.\n",
      "[I 2025-05-14 21:27:41,311] Trial 104 finished with value: 0.059016311807556794 and parameters: {'alpha': 0.750667600048758, 'tol': 0.003003877475514173}. Best is trial 85 with value: 0.05901602177741877.\n",
      "[I 2025-05-14 21:27:44,949] Trial 105 finished with value: 0.059016103126615295 and parameters: {'alpha': 1.388337338740036, 'tol': 0.0034645454246059965}. Best is trial 85 with value: 0.05901602177741877.\n",
      "[I 2025-05-14 21:27:46,439] Trial 107 finished with value: 0.05901604228704987 and parameters: {'alpha': 1.7661240474463078, 'tol': 0.005170537667793223}. Best is trial 85 with value: 0.05901602177741877.\n",
      "[I 2025-05-14 21:27:46,465] Trial 106 finished with value: 0.059016175499305726 and parameters: {'alpha': 1.113784182440659, 'tol': 0.002789113947960502}. Best is trial 85 with value: 0.05901602177741877.\n",
      "[I 2025-05-14 21:27:55,157] Trial 108 finished with value: 0.05901602603415803 and parameters: {'alpha': 1.9798498521566368, 'tol': 0.005366192789266254}. Best is trial 85 with value: 0.05901602177741877.\n",
      "[I 2025-05-14 21:27:59,401] Trial 109 finished with value: 0.059016021764555206 and parameters: {'alpha': 2.1586665460799748, 'tol': 0.005334402046147555}. Best is trial 109 with value: 0.059016021764555206.\n",
      "[I 2025-05-14 21:28:00,895] Trial 111 finished with value: 0.059016587600075526 and parameters: {'alpha': 0.24746757981534317, 'tol': 0.007150151397826795}. Best is trial 109 with value: 0.059016021764555206.\n",
      "[I 2025-05-14 21:28:01,622] Trial 110 finished with value: 0.05901603365074895 and parameters: {'alpha': 1.8594638373202472, 'tol': 0.004942753789575604}. Best is trial 109 with value: 0.059016021764555206.\n",
      "[I 2025-05-14 21:28:09,711] Trial 112 finished with value: 0.05901626451345955 and parameters: {'alpha': 3.651201440039884, 'tol': 0.004729173335433244}. Best is trial 109 with value: 0.059016021764555206.\n",
      "[I 2025-05-14 21:28:14,127] Trial 113 finished with value: 0.059016138186708506 and parameters: {'alpha': 3.1723616647397996, 'tol': 0.004778009846242222}. Best is trial 109 with value: 0.059016021764555206.\n",
      "[I 2025-05-14 21:28:15,004] Trial 114 finished with value: 0.05901625284578773 and parameters: {'alpha': 3.61260690556945, 'tol': 0.0056915899321788995}. Best is trial 109 with value: 0.059016021764555206.\n",
      "[I 2025-05-14 21:28:16,380] Trial 115 finished with value: 0.05901603267728073 and parameters: {'alpha': 2.4619828473727168, 'tol': 0.006668897576942734}. Best is trial 109 with value: 0.059016021764555206.\n",
      "[I 2025-05-14 21:28:23,797] Trial 116 finished with value: 0.05901602940413517 and parameters: {'alpha': 1.9188662261371943, 'tol': 0.005013430937622144}. Best is trial 109 with value: 0.059016021764555206.\n",
      "[I 2025-05-14 21:28:28,136] Trial 117 finished with value: 0.059016065927669524 and parameters: {'alpha': 1.5862704712850855, 'tol': 0.005614848784403268}. Best is trial 109 with value: 0.059016021764555206.\n",
      "[I 2025-05-14 21:28:30,363] Trial 118 finished with value: 0.059016105876102405 and parameters: {'alpha': 1.3758790729778885, 'tol': 0.004745590430928403}. Best is trial 109 with value: 0.059016021764555206.\n",
      "[I 2025-05-14 21:28:31,837] Trial 119 finished with value: 0.059016041903547985 and parameters: {'alpha': 1.7697742032589656, 'tol': 0.004444918902921058}. Best is trial 109 with value: 0.059016021764555206.\n",
      "[I 2025-05-14 21:28:38,380] Trial 120 finished with value: 0.059016108942205055 and parameters: {'alpha': 1.362243165620891, 'tol': 0.0046052822456483875}. Best is trial 109 with value: 0.059016021764555206.\n",
      "[I 2025-05-14 21:28:42,825] Trial 121 finished with value: 0.05901603646716615 and parameters: {'alpha': 1.8260146117992524, 'tol': 0.004125419103489766}. Best is trial 109 with value: 0.059016021764555206.\n",
      "[I 2025-05-14 21:28:45,075] Trial 122 finished with value: 0.05901603766896958 and parameters: {'alpha': 1.8127587234128337, 'tol': 0.0037106650002968443}. Best is trial 109 with value: 0.059016021764555206.\n",
      "[I 2025-05-14 21:28:46,524] Trial 123 finished with value: 0.05901602494570471 and parameters: {'alpha': 2.0046661837326116, 'tol': 0.003377499634310454}. Best is trial 109 with value: 0.059016021764555206.\n",
      "[I 2025-05-14 21:28:51,616] Trial 124 finished with value: 0.05901608471463773 and parameters: {'alpha': 2.896002047088395, 'tol': 0.0029964237831105727}. Best is trial 109 with value: 0.059016021764555206.\n",
      "[I 2025-05-14 21:28:56,120] Trial 125 finished with value: 0.059016116716588664 and parameters: {'alpha': 3.0704005889189494, 'tol': 0.0032603668166860823}. Best is trial 109 with value: 0.059016021764555206.\n",
      "[I 2025-05-14 21:28:59,869] Trial 126 finished with value: 0.05901611750296598 and parameters: {'alpha': 3.0743105898976193, 'tol': 0.0031128826991895925}. Best is trial 109 with value: 0.059016021764555206.\n",
      "[I 2025-05-14 21:29:01,396] Trial 127 finished with value: 0.05901625132253766 and parameters: {'alpha': 3.6075062029319698, 'tol': 0.003184116066113992}. Best is trial 109 with value: 0.059016021764555206.\n",
      "[I 2025-05-14 21:29:08,066] Trial 128 finished with value: 0.059016119158127656 and parameters: {'alpha': 3.0824925310658062, 'tol': 0.003197368874620374}. Best is trial 109 with value: 0.059016021764555206.\n",
      "[I 2025-05-14 21:29:09,711] Trial 129 finished with value: 0.05901602176388749 and parameters: {'alpha': 2.1660904596468313, 'tol': 0.002398551053091575}. Best is trial 129 with value: 0.05901602176388749.\n",
      "[I 2025-05-14 21:29:14,772] Trial 130 finished with value: 0.059016090540826086 and parameters: {'alpha': 2.930378534454828, 'tol': 0.004399306962425173}. Best is trial 129 with value: 0.05901602176388749.\n",
      "[I 2025-05-14 21:29:16,326] Trial 131 finished with value: 0.059016056116610226 and parameters: {'alpha': 1.6525782195263252, 'tol': 0.001390968189311501}. Best is trial 129 with value: 0.05901602176388749.\n",
      "[I 2025-05-14 21:29:20,886] Trial 132 finished with value: 0.05901612798065511 and parameters: {'alpha': 3.1250716468671382, 'tol': 0.005188376824244924}. Best is trial 129 with value: 0.05901602176388749.\n",
      "[I 2025-05-14 21:29:23,916] Trial 133 finished with value: 0.05901633474235506 and parameters: {'alpha': 0.7001048242637509, 'tol': 0.001401072942637425}. Best is trial 129 with value: 0.05901602176388749.\n",
      "[I 2025-05-14 21:29:28,529] Trial 134 finished with value: 0.05901603374293152 and parameters: {'alpha': 1.8583079720765665, 'tol': 0.0017507904326101269}. Best is trial 129 with value: 0.05901602176388749.\n",
      "[I 2025-05-14 21:29:30,145] Trial 135 finished with value: 0.059016063344286905 and parameters: {'alpha': 2.7548509352593467, 'tol': 0.0015069227008752749}. Best is trial 129 with value: 0.05901602176388749.\n",
      "[I 2025-05-14 21:29:35,483] Trial 136 finished with value: 0.05901607657926949 and parameters: {'alpha': 1.5226209754370814, 'tol': 0.0015565315407320302}. Best is trial 129 with value: 0.05901602176388749.\n",
      "[I 2025-05-14 21:29:37,745] Trial 137 finished with value: 0.05901604554564926 and parameters: {'alpha': 2.607494897795987, 'tol': 0.0017696502181252362}. Best is trial 129 with value: 0.05901602176388749.\n",
      "[I 2025-05-14 21:29:42,183] Trial 138 finished with value: 0.05901602417525922 and parameters: {'alpha': 2.0249801548231043, 'tol': 0.002754483569596691}. Best is trial 129 with value: 0.05901602176388749.\n",
      "[I 2025-05-14 21:29:44,440] Trial 139 finished with value: 0.0590160287221498 and parameters: {'alpha': 1.9298748926530822, 'tol': 0.003299684055030864}. Best is trial 129 with value: 0.05901602176388749.\n",
      "[I 2025-05-14 21:29:50,159] Trial 140 finished with value: 0.0590160346857542 and parameters: {'alpha': 1.8467397233383311, 'tol': 0.0036191652839161308}. Best is trial 129 with value: 0.05901602176388749.\n",
      "[I 2025-05-14 21:29:51,593] Trial 141 finished with value: 0.05901746784134076 and parameters: {'alpha': 6.165168907798888, 'tol': 0.008355451763433457}. Best is trial 129 with value: 0.05901602176388749.\n",
      "[I 2025-05-14 21:29:56,669] Trial 142 finished with value: 0.05901623844670003 and parameters: {'alpha': 0.9299217976523397, 'tol': 0.0041524575173081555}. Best is trial 129 with value: 0.05901602176388749.\n",
      "[I 2025-05-14 21:29:59,092] Trial 143 finished with value: 0.059017684719705664 and parameters: {'alpha': 6.505864471206455, 'tol': 0.008377685117562664}. Best is trial 129 with value: 0.05901602176388749.\n",
      "[I 2025-05-14 21:30:04,493] Trial 144 finished with value: 0.05901616185709354 and parameters: {'alpha': 1.1589518641652525, 'tol': 0.0028476895270992237}. Best is trial 129 with value: 0.05901602176388749.\n",
      "[I 2025-05-14 21:30:06,690] Trial 145 finished with value: 0.05901608446451012 and parameters: {'alpha': 1.4796585548326848, 'tol': 0.00242389197305117}. Best is trial 129 with value: 0.05901602176388749.\n",
      "[I 2025-05-14 21:30:11,898] Trial 146 finished with value: 0.05901606955002768 and parameters: {'alpha': 1.5637922799200057, 'tol': 0.0021848564119534776}. Best is trial 129 with value: 0.05901602176388749.\n",
      "[I 2025-05-14 21:30:14,359] Trial 147 finished with value: 0.05901603560417056 and parameters: {'alpha': 1.8358825024403251, 'tol': 0.0025667076837727156}. Best is trial 129 with value: 0.05901602176388749.\n",
      "[I 2025-05-14 21:30:19,443] Trial 148 finished with value: 0.05901603984404237 and parameters: {'alpha': 2.54948517661011, 'tol': 0.004297112068537423}. Best is trial 129 with value: 0.05901602176388749.\n",
      "[I 2025-05-14 21:30:21,688] Trial 149 finished with value: 0.059016034188252305 and parameters: {'alpha': 2.482331693021128, 'tol': 0.004681685134811537}. Best is trial 129 with value: 0.05901602176388749.\n",
      "[I 2025-05-14 21:30:26,858] Trial 150 finished with value: 0.059016068186108724 and parameters: {'alpha': 2.7893678106109827, 'tol': 0.0047049617269563655}. Best is trial 129 with value: 0.05901602176388749.\n",
      "[I 2025-05-14 21:30:29,272] Trial 151 finished with value: 0.05901644965245853 and parameters: {'alpha': 4.183062842780112, 'tol': 0.0015722933125626444}. Best is trial 129 with value: 0.05901602176388749.\n",
      "[I 2025-05-14 21:30:34,529] Trial 152 finished with value: 0.05901602232293799 and parameters: {'alpha': 2.229797430192926, 'tol': 0.006860131049011684}. Best is trial 129 with value: 0.05901602176388749.\n",
      "[I 2025-05-14 21:30:36,806] Trial 153 finished with value: 0.059016031613007246 and parameters: {'alpha': 2.4468153668074946, 'tol': 0.0066862615917662755}. Best is trial 129 with value: 0.05901602176388749.\n",
      "[I 2025-05-14 21:30:42,142] Trial 154 finished with value: 0.059016490714928184 and parameters: {'alpha': 0.40292795851173646, 'tol': 0.005890857240113449}. Best is trial 129 with value: 0.05901602176388749.\n",
      "[I 2025-05-14 21:30:44,540] Trial 155 finished with value: 0.05901603164505202 and parameters: {'alpha': 1.8858615344648253, 'tol': 0.006129363891111622}. Best is trial 129 with value: 0.05901602176388749.\n",
      "[I 2025-05-14 21:30:50,095] Trial 156 finished with value: 0.059016227115304555 and parameters: {'alpha': 3.5243551695540694, 'tol': 0.008287140941269987}. Best is trial 129 with value: 0.05901602176388749.\n",
      "[I 2025-05-14 21:30:53,095] Trial 157 finished with value: 0.059016082069094575 and parameters: {'alpha': 1.492388327494354, 'tol': 0.005987670848881095}. Best is trial 129 with value: 0.05901602176388749.\n",
      "[I 2025-05-14 21:30:56,758] Trial 158 finished with value: 0.059016057268165605 and parameters: {'alpha': 2.7087195902546752, 'tol': 0.006626008150458783}. Best is trial 129 with value: 0.05901602176388749.\n",
      "[I 2025-05-14 21:31:00,414] Trial 159 finished with value: 0.05901604869407763 and parameters: {'alpha': 2.636662389865315, 'tol': 0.008001817359303014}. Best is trial 129 with value: 0.05901602176388749.\n",
      "[I 2025-05-14 21:31:04,818] Trial 160 finished with value: 0.05901605526045781 and parameters: {'alpha': 1.6588141894881572, 'tol': 0.006706069298586672}. Best is trial 129 with value: 0.05901602176388749.\n",
      "[I 2025-05-14 21:31:07,043] Trial 161 finished with value: 0.059016034461074736 and parameters: {'alpha': 2.485875221480154, 'tol': 0.006424357826814026}. Best is trial 129 with value: 0.05901602176388749.\n",
      "[I 2025-05-14 21:31:12,029] Trial 162 finished with value: 0.05901607362380293 and parameters: {'alpha': 1.5395678490004654, 'tol': 0.007746128275092008}. Best is trial 129 with value: 0.05901602176388749.\n",
      "[I 2025-05-14 21:31:14,299] Trial 163 finished with value: 0.059016067395257436 and parameters: {'alpha': 2.7838501517317265, 'tol': 0.003273045654439586}. Best is trial 129 with value: 0.05901602176388749.\n",
      "[I 2025-05-14 21:31:19,448] Trial 164 finished with value: 0.05901602535327391 and parameters: {'alpha': 2.3333278607960555, 'tol': 0.004717885804566703}. Best is trial 129 with value: 0.05901602176388749.\n",
      "[I 2025-05-14 21:31:21,760] Trial 165 finished with value: 0.05901602350853016 and parameters: {'alpha': 2.2813973345598377, 'tol': 0.004525251727045368}. Best is trial 129 with value: 0.05901602176388749.\n",
      "[I 2025-05-14 21:31:26,725] Trial 166 finished with value: 0.059016036594800016 and parameters: {'alpha': 2.512406820580281, 'tol': 0.004240404527790629}. Best is trial 129 with value: 0.05901602176388749.\n",
      "[I 2025-05-14 21:31:28,962] Trial 167 finished with value: 0.05901603285880634 and parameters: {'alpha': 1.8695903216545442, 'tol': 0.005153910984587361}. Best is trial 129 with value: 0.05901602176388749.\n",
      "[I 2025-05-14 21:31:33,920] Trial 168 finished with value: 0.059016068005189874 and parameters: {'alpha': 1.5732641425334237, 'tol': 0.004304516647117909}. Best is trial 129 with value: 0.05901602176388749.\n",
      "[I 2025-05-14 21:31:36,113] Trial 169 finished with value: 0.059016212289293504 and parameters: {'alpha': 1.0021070650436736, 'tol': 0.004162941516648534}. Best is trial 129 with value: 0.05901602176388749.\n",
      "[I 2025-05-14 21:31:41,029] Trial 170 finished with value: 0.0590166231329183 and parameters: {'alpha': 0.19453419712269904, 'tol': 0.004305374468196172}. Best is trial 129 with value: 0.05901602176388749.\n",
      "[I 2025-05-14 21:31:43,247] Trial 171 finished with value: 0.059016360293300305 and parameters: {'alpha': 0.6462442949665108, 'tol': 0.004077806981946023}. Best is trial 129 with value: 0.05901602176388749.\n",
      "[I 2025-05-14 21:31:47,515] Trial 172 finished with value: 0.05901654028938087 and parameters: {'alpha': 0.3211853557809574, 'tol': 0.003973903920993595}. Best is trial 129 with value: 0.05901602176388749.\n",
      "[I 2025-05-14 21:31:50,410] Trial 173 finished with value: 0.059016044785775365 and parameters: {'alpha': 2.60018290276939, 'tol': 0.0027813031952339607}. Best is trial 129 with value: 0.05901602176388749.\n",
      "[I 2025-05-14 21:31:55,380] Trial 174 finished with value: 0.059016310403914085 and parameters: {'alpha': 3.795742906698365, 'tol': 0.004590348537993322}. Best is trial 129 with value: 0.05901602176388749.\n",
      "[I 2025-05-14 21:31:57,638] Trial 175 finished with value: 0.05901951593784781 and parameters: {'alpha': 8.972273330927708, 'tol': 0.0023664934613910732}. Best is trial 129 with value: 0.05901602176388749.\n",
      "[I 2025-05-14 21:32:02,109] Trial 176 finished with value: 0.059016109108295016 and parameters: {'alpha': 3.031773348356152, 'tol': 0.004342130610746351}. Best is trial 129 with value: 0.05901602176388749.\n",
      "[I 2025-05-14 21:32:05,815] Trial 177 finished with value: 0.059016496638358756 and parameters: {'alpha': 4.301303695407622, 'tol': 0.004524235767070605}. Best is trial 129 with value: 0.05901602176388749.\n",
      "[I 2025-05-14 21:32:10,183] Trial 178 finished with value: 0.05901602760339025 and parameters: {'alpha': 2.3808020872165505, 'tol': 0.004423188861775805}. Best is trial 129 with value: 0.05901602176388749.\n",
      "[I 2025-05-14 21:32:12,393] Trial 179 finished with value: 0.05901603748927609 and parameters: {'alpha': 2.5229751381616428, 'tol': 0.003996987810595422}. Best is trial 129 with value: 0.05901602176388749.\n",
      "[I 2025-05-14 21:32:16,711] Trial 180 finished with value: 0.059016036995886104 and parameters: {'alpha': 2.5171827179177435, 'tol': 0.003474342597720988}. Best is trial 129 with value: 0.05901602176388749.\n",
      "[I 2025-05-14 21:32:21,148] Trial 181 finished with value: 0.05901606913232252 and parameters: {'alpha': 2.795911575164202, 'tol': 0.0036101117495394622}. Best is trial 129 with value: 0.05901602176388749.\n",
      "[I 2025-05-14 21:32:24,761] Trial 182 finished with value: 0.05901602464794102 and parameters: {'alpha': 2.3155278838143225, 'tol': 0.0033070782458380073}. Best is trial 129 with value: 0.05901602176388749.\n",
      "[I 2025-05-14 21:32:26,318] Trial 183 finished with value: 0.059016088879138166 and parameters: {'alpha': 2.9207169681815324, 'tol': 0.0025896200025757074}. Best is trial 129 with value: 0.05901602176388749.\n",
      "[I 2025-05-14 21:32:31,291] Trial 184 finished with value: 0.059016021929969735 and parameters: {'alpha': 2.199342594332618, 'tol': 0.00324086623219257}. Best is trial 129 with value: 0.05901602176388749.\n",
      "[I 2025-05-14 21:32:36,565] Trial 185 finished with value: 0.059016052197112034 and parameters: {'alpha': 2.6672591456954065, 'tol': 0.0019227333993111708}. Best is trial 129 with value: 0.05901602176388749.\n",
      "[I 2025-05-14 21:32:38,199] Trial 186 finished with value: 0.059016080703935034 and parameters: {'alpha': 2.8714684185848105, 'tol': 0.00585432477606453}. Best is trial 129 with value: 0.05901602176388749.\n",
      "[I 2025-05-14 21:32:41,840] Trial 187 finished with value: 0.05901602825186123 and parameters: {'alpha': 1.9377913963013975, 'tol': 0.0025846827908442695}. Best is trial 129 with value: 0.05901602176388749.\n",
      "[I 2025-05-14 21:32:45,502] Trial 188 finished with value: 0.05901604099243246 and parameters: {'alpha': 1.7785937040216324, 'tol': 0.0035518613982959855}. Best is trial 129 with value: 0.05901602176388749.\n",
      "[I 2025-05-14 21:32:51,904] Trial 189 finished with value: 0.05901602951513984 and parameters: {'alpha': 1.9171227252546217, 'tol': 0.002892379417886496}. Best is trial 129 with value: 0.05901602176388749.\n",
      "[I 2025-05-14 21:32:53,348] Trial 190 finished with value: 0.05901602376463857 and parameters: {'alpha': 2.2898538751479363, 'tol': 0.0053808434421198}. Best is trial 129 with value: 0.05901602176388749.\n",
      "[I 2025-05-14 21:32:55,535] Trial 191 finished with value: 0.059016142493256644 and parameters: {'alpha': 1.227457671507336, 'tol': 0.0050752379336730545}. Best is trial 129 with value: 0.05901602176388749.\n",
      "[I 2025-05-14 21:32:59,810] Trial 192 finished with value: 0.05901602305222165 and parameters: {'alpha': 2.264637815917247, 'tol': 0.004657036575832742}. Best is trial 129 with value: 0.05901602176388749.\n",
      "[I 2025-05-14 21:33:06,155] Trial 193 finished with value: 0.05901603878676521 and parameters: {'alpha': 1.8008873649954413, 'tol': 0.00505107847251762}. Best is trial 129 with value: 0.05901602176388749.\n",
      "[I 2025-05-14 21:33:07,565] Trial 194 finished with value: 0.0590160222992111 and parameters: {'alpha': 2.2283580124204256, 'tol': 0.005612138422435522}. Best is trial 129 with value: 0.05901602176388749.\n",
      "[I 2025-05-14 21:33:09,921] Trial 195 finished with value: 0.0590161651569435 and parameters: {'alpha': 3.288990818775135, 'tol': 0.005806291536575862}. Best is trial 129 with value: 0.05901602176388749.\n",
      "[I 2025-05-14 21:33:14,248] Trial 196 finished with value: 0.05901603122900442 and parameters: {'alpha': 1.8916734479244048, 'tol': 0.0048340422908214045}. Best is trial 129 with value: 0.05901602176388749.\n",
      "[I 2025-05-14 21:33:20,613] Trial 197 finished with value: 0.05901605573247709 and parameters: {'alpha': 2.696479551668308, 'tol': 0.004943199215012006}. Best is trial 129 with value: 0.05901602176388749.\n",
      "[I 2025-05-14 21:33:21,364] Trial 198 finished with value: 0.05901605138033847 and parameters: {'alpha': 2.660282071828383, 'tol': 0.005695013113119033}. Best is trial 129 with value: 0.05901602176388749.\n",
      "[I 2025-05-14 21:33:24,319] Trial 199 finished with value: 0.05901602323533589 and parameters: {'alpha': 2.2716685611756215, 'tol': 0.005516039569388982}. Best is trial 129 with value: 0.05901602176388749.\n",
      "[I 2025-05-14 21:33:28,741] Trial 200 finished with value: 0.05901619221183662 and parameters: {'alpha': 3.3964192225884466, 'tol': 0.0058604971966060015}. Best is trial 129 with value: 0.05901602176388749.\n",
      "[I 2025-05-14 21:33:34,772] Trial 201 finished with value: 0.05901602335578222 and parameters: {'alpha': 2.276059101608408, 'tol': 0.006068382144798535}. Best is trial 129 with value: 0.05901602176388749.\n",
      "[I 2025-05-14 21:33:36,888] Trial 202 finished with value: 0.0590161160390066 and parameters: {'alpha': 1.3316466541784817, 'tol': 0.003058464105850742}. Best is trial 129 with value: 0.05901602176388749.\n",
      "[I 2025-05-14 21:33:39,120] Trial 203 finished with value: 0.059016059627021486 and parameters: {'alpha': 1.6278275069602368, 'tol': 0.006383292173996663}. Best is trial 129 with value: 0.05901602176388749.\n",
      "[I 2025-05-14 21:33:44,312] Trial 204 finished with value: 0.059016060221734515 and parameters: {'alpha': 1.6237559916886992, 'tol': 0.006172960016683118}. Best is trial 129 with value: 0.05901602176388749.\n",
      "[I 2025-05-14 21:33:49,383] Trial 205 finished with value: 0.05901603924312878 and parameters: {'alpha': 1.7961570666680247, 'tol': 0.00606272424371481}. Best is trial 129 with value: 0.05901602176388749.\n",
      "[I 2025-05-14 21:33:51,479] Trial 206 finished with value: 0.05901603577679662 and parameters: {'alpha': 1.833883723658566, 'tol': 0.005632401166447927}. Best is trial 129 with value: 0.05901602176388749.\n",
      "[I 2025-05-14 21:33:53,679] Trial 207 finished with value: 0.05901604189365129 and parameters: {'alpha': 1.7698688713881054, 'tol': 0.005186109464863635}. Best is trial 129 with value: 0.05901602176388749.\n",
      "[I 2025-05-14 21:33:58,820] Trial 208 finished with value: 0.05901842101215734 and parameters: {'alpha': 7.566216034355085, 'tol': 0.004777789699655147}. Best is trial 129 with value: 0.05901602176388749.\n",
      "[I 2025-05-14 21:34:03,889] Trial 209 finished with value: 0.059016021903776604 and parameters: {'alpha': 2.196353777336733, 'tol': 0.004054081371520842}. Best is trial 129 with value: 0.05901602176388749.\n",
      "[I 2025-05-14 21:34:06,001] Trial 210 finished with value: 0.059016026616621614 and parameters: {'alpha': 2.3613459666997736, 'tol': 0.0039023284920993388}. Best is trial 129 with value: 0.05901602176388749.\n",
      "[I 2025-05-14 21:34:08,205] Trial 211 finished with value: 0.05901605783013379 and parameters: {'alpha': 2.713135691753052, 'tol': 0.004056332873498291}. Best is trial 129 with value: 0.05901602176388749.\n",
      "[I 2025-05-14 21:34:13,295] Trial 212 finished with value: 0.05901604524379162 and parameters: {'alpha': 2.6046038293865514, 'tol': 0.0035275941407558126}. Best is trial 129 with value: 0.05901602176388749.\n",
      "[I 2025-05-14 21:34:19,018] Trial 213 finished with value: 0.05901665841576888 and parameters: {'alpha': 4.676012874582648, 'tol': 0.002744247361355044}. Best is trial 129 with value: 0.05901602176388749.\n",
      "[I 2025-05-14 21:34:20,509] Trial 214 finished with value: 0.05901602178290555 and parameters: {'alpha': 2.1499823555855064, 'tol': 0.0037888023672207408}. Best is trial 129 with value: 0.05901602176388749.\n",
      "[I 2025-05-14 21:34:22,108] Trial 215 finished with value: 0.05901602285875999 and parameters: {'alpha': 2.0696749426966994, 'tol': 0.0031009248822599965}. Best is trial 129 with value: 0.05901602176388749.\n",
      "[I 2025-05-14 21:34:27,109] Trial 216 finished with value: 0.05901604809416842 and parameters: {'alpha': 1.7146794080574372, 'tol': 0.0038638833478531528}. Best is trial 129 with value: 0.05901602176388749.\n",
      "[I 2025-05-14 21:34:32,243] Trial 217 finished with value: 0.05901606292172266 and parameters: {'alpha': 1.6056763573194615, 'tol': 0.003543099821890013}. Best is trial 129 with value: 0.05901602176388749.\n",
      "[I 2025-05-14 21:34:33,691] Trial 218 finished with value: 0.059016033640817984 and parameters: {'alpha': 1.8595886359403082, 'tol': 0.0029630898406176856}. Best is trial 129 with value: 0.05901602176388749.\n",
      "[I 2025-05-14 21:34:36,609] Trial 219 finished with value: 0.059016082173247573 and parameters: {'alpha': 2.880544117264414, 'tol': 0.0020902841127079658}. Best is trial 129 with value: 0.05901602176388749.\n",
      "[I 2025-05-14 21:34:40,903] Trial 220 finished with value: 0.05901602747047704 and parameters: {'alpha': 2.3782808083724607, 'tol': 0.0022296777224903534}. Best is trial 129 with value: 0.05901602176388749.\n",
      "[I 2025-05-14 21:34:46,011] Trial 221 finished with value: 0.05901670401448468 and parameters: {'alpha': 0.08081335806264267, 'tol': 0.002483448274180632}. Best is trial 129 with value: 0.05901602176388749.\n",
      "[I 2025-05-14 21:34:48,139] Trial 222 finished with value: 0.059016155605925026 and parameters: {'alpha': 3.2489237864204448, 'tol': 0.001601613823221804}. Best is trial 129 with value: 0.05901602176388749.\n",
      "[I 2025-05-14 21:34:50,362] Trial 223 finished with value: 0.05901631052820343 and parameters: {'alpha': 0.7535550529498487, 'tol': 0.0016925739449432458}. Best is trial 129 with value: 0.05901602176388749.\n",
      "[I 2025-05-14 21:34:54,645] Trial 224 finished with value: 0.05901656254196821 and parameters: {'alpha': 0.28602567178906413, 'tol': 0.002201522642382154}. Best is trial 129 with value: 0.05901602176388749.\n",
      "[I 2025-05-14 21:35:00,390] Trial 225 finished with value: 0.05901602816395371 and parameters: {'alpha': 2.3911389546458257, 'tol': 0.003860611575588999}. Best is trial 129 with value: 0.05901602176388749.\n",
      "[I 2025-05-14 21:35:01,865] Trial 226 finished with value: 0.05901605098546504 and parameters: {'alpha': 1.6912839415655754, 'tol': 0.003399992627837481}. Best is trial 129 with value: 0.05901602176388749.\n",
      "[I 2025-05-14 21:35:04,072] Trial 227 finished with value: 0.059016173205455116 and parameters: {'alpha': 3.3218317936712616, 'tol': 0.003295123980492693}. Best is trial 129 with value: 0.05901602176388749.\n",
      "[I 2025-05-14 21:35:09,025] Trial 228 finished with value: 0.05901610500802905 and parameters: {'alpha': 3.0103136079220794, 'tol': 0.0034894204690018834}. Best is trial 129 with value: 0.05901602176388749.\n",
      "[I 2025-05-14 21:35:14,056] Trial 229 finished with value: 0.059016165712789226 and parameters: {'alpha': 3.2912850580589033, 'tol': 0.0042004267297040074}. Best is trial 129 with value: 0.05901602176388749.\n",
      "[I 2025-05-14 21:35:16,357] Trial 230 finished with value: 0.05901615054099333 and parameters: {'alpha': 3.2271528488128856, 'tol': 0.003642436660821452}. Best is trial 129 with value: 0.05901602176388749.\n",
      "[I 2025-05-14 21:35:18,640] Trial 231 finished with value: 0.059016313632435646 and parameters: {'alpha': 3.805524200372009, 'tol': 0.004234729750675126}. Best is trial 129 with value: 0.05901602176388749.\n",
      "[I 2025-05-14 21:35:23,601] Trial 232 finished with value: 0.05901628282913336 and parameters: {'alpha': 3.7101968090957476, 'tol': 0.004363247819801354}. Best is trial 129 with value: 0.05901602176388749.\n",
      "[I 2025-05-14 21:35:28,111] Trial 233 finished with value: 0.05901602240598169 and parameters: {'alpha': 2.091361226253703, 'tol': 0.000497102143772269}. Best is trial 129 with value: 0.05901602176388749.\n",
      "[I 2025-05-14 21:35:29,703] Trial 234 finished with value: 0.05901602250262728 and parameters: {'alpha': 2.0862082511401137, 'tol': 0.004368015281466358}. Best is trial 129 with value: 0.05901602176388749.\n",
      "[I 2025-05-14 21:35:34,110] Trial 235 finished with value: 0.05901615551290156 and parameters: {'alpha': 1.18078644757554, 'tol': 0.004134433959338693}. Best is trial 129 with value: 0.05901602176388749.\n",
      "[I 2025-05-14 21:35:37,742] Trial 236 finished with value: 0.05901606282793917 and parameters: {'alpha': 1.606293666121069, 'tol': 0.003764616488481902}. Best is trial 129 with value: 0.05901602176388749.\n",
      "[I 2025-05-14 21:35:43,700] Trial 237 finished with value: 0.059016222398180676 and parameters: {'alpha': 0.9735849527908487, 'tol': 0.00047666937590654763}. Best is trial 129 with value: 0.05901602176388749.\n",
      "[I 2025-05-14 21:35:45,324] Trial 238 finished with value: 0.059016192181112946 and parameters: {'alpha': 3.396301739824475, 'tol': 0.000222598766522399}. Best is trial 129 with value: 0.05901602176388749.\n",
      "[I 2025-05-14 21:35:47,664] Trial 239 finished with value: 0.05901602257402082 and parameters: {'alpha': 2.243486085163753, 'tol': 0.0018054265275777742}. Best is trial 129 with value: 0.05901602176388749.\n",
      "[I 2025-05-14 21:35:49,877] Trial 240 finished with value: 0.059016084035968364 and parameters: {'alpha': 1.4819165659866402, 'tol': 0.0013220844300349086}. Best is trial 129 with value: 0.05901602176388749.\n",
      "[I 2025-05-14 21:35:56,310] Trial 241 finished with value: 0.05901604613635617 and parameters: {'alpha': 1.7312933221392877, 'tol': 0.0010351265576931715}. Best is trial 129 with value: 0.05901602176388749.\n",
      "[I 2025-05-14 21:35:59,218] Trial 242 finished with value: 0.05901602652611971 and parameters: {'alpha': 1.9697026350281606, 'tol': 0.000496654058542285}. Best is trial 129 with value: 0.05901602176388749.\n",
      "[I 2025-05-14 21:36:02,171] Trial 243 finished with value: 0.059016023217407114 and parameters: {'alpha': 2.271000042214331, 'tol': 0.0024036653584651154}. Best is trial 129 with value: 0.05901602176388749.\n",
      "[I 2025-05-14 21:36:02,997] Trial 244 finished with value: 0.05901602203002377 and parameters: {'alpha': 2.209023555640922, 'tol': 0.002069437515211228}. Best is trial 129 with value: 0.05901602176388749.\n",
      "[I 2025-05-14 21:36:10,824] Trial 245 finished with value: 0.0590161778455147 and parameters: {'alpha': 3.340409694305282, 'tol': 0.0004227555849620043}. Best is trial 129 with value: 0.05901602176388749.\n",
      "[I 2025-05-14 21:36:13,008] Trial 246 finished with value: 0.05901605916972622 and parameters: {'alpha': 2.7235328283370217, 'tol': 0.0009630777659118401}. Best is trial 129 with value: 0.05901602176388749.\n",
      "[I 2025-05-14 21:36:15,116] Trial 247 finished with value: 0.05901606443255207 and parameters: {'alpha': 2.7627676318814833, 'tol': 0.0005154084529075563}. Best is trial 129 with value: 0.05901602176388749.\n",
      "[I 2025-05-14 21:36:16,492] Trial 248 finished with value: 0.05901605396263198 and parameters: {'alpha': 2.682042331908798, 'tol': 0.0016732669877657206}. Best is trial 129 with value: 0.05901602176388749.\n",
      "[I 2025-05-14 21:36:18,895] Trial 249 finished with value: 0.05901602278144778 and parameters: {'alpha': 2.07300170406851, 'tol': 0.001797803118816269}. Best is trial 129 with value: 0.05901602176388749.\n"
     ]
    }
   ],
   "source": [
    "def objective(trial):    \n",
    "    params = {\n",
    "        \"random_state\": CFG.seed,\n",
    "        \"alpha\": trial.suggest_float(\"alpha\", 0, 10),\n",
    "        \"tol\": trial.suggest_float(\"tol\", 1e-6, 1e-2)\n",
    "    }\n",
    "    \n",
    "    trainer = Trainer(\n",
    "        Ridge(**params),\n",
    "        cv=CFG.cv,\n",
    "        metric=CFG.metric,\n",
    "        task=\"regression\",\n",
    "        verbose=False\n",
    "    )\n",
    "    trainer.fit(X, y)\n",
    "    \n",
    "    return trainer.overall_score\n",
    "\n",
    "if CFG.run_optuna:\n",
    "    sampler = optuna.samplers.TPESampler(seed=CFG.seed, multivariate=True)\n",
    "    study = optuna.create_study(direction=\"minimize\", sampler=sampler)\n",
    "    study.optimize(objective, n_trials=CFG.n_optuna_trials, n_jobs=-1, catch=(ValueError,))\n",
    "    best_params = study.best_params\n",
    "\n",
    "    ridge_params = {\n",
    "        \"random_state\": CFG.seed,\n",
    "        \"alpha\": best_params[\"alpha\"],\n",
    "        \"tol\": best_params[\"tol\"]\n",
    "    }\n",
    "else:\n",
    "    ridge_params = {\n",
    "        \"random_state\": CFG.seed\n",
    "    }"
   ]
  },
  {
   "cell_type": "code",
   "execution_count": 29,
   "id": "f477d5cd",
   "metadata": {
    "execution": {
     "iopub.execute_input": "2025-05-14T21:36:18.969384Z",
     "iopub.status.busy": "2025-05-14T21:36:18.968947Z",
     "iopub.status.idle": "2025-05-14T21:36:18.974849Z",
     "shell.execute_reply": "2025-05-14T21:36:18.973868Z"
    },
    "papermill": {
     "duration": 0.038511,
     "end_time": "2025-05-14T21:36:18.976437",
     "exception": false,
     "start_time": "2025-05-14T21:36:18.937926",
     "status": "completed"
    },
    "tags": []
   },
   "outputs": [
    {
     "name": "stdout",
     "output_type": "stream",
     "text": [
      "{\n",
      "  \"random_state\": 42,\n",
      "  \"alpha\": 2.1660904596468313,\n",
      "  \"tol\": 0.002398551053091575\n",
      "}\n"
     ]
    }
   ],
   "source": [
    "print(json.dumps(ridge_params, indent=2))"
   ]
  },
  {
   "cell_type": "code",
   "execution_count": 30,
   "id": "67c03527",
   "metadata": {
    "execution": {
     "iopub.execute_input": "2025-05-14T21:36:19.041493Z",
     "iopub.status.busy": "2025-05-14T21:36:19.041051Z",
     "iopub.status.idle": "2025-05-14T21:36:23.044103Z",
     "shell.execute_reply": "2025-05-14T21:36:23.042868Z"
    },
    "papermill": {
     "duration": 4.03782,
     "end_time": "2025-05-14T21:36:23.045738",
     "exception": false,
     "start_time": "2025-05-14T21:36:19.007918",
     "status": "completed"
    },
    "tags": []
   },
   "outputs": [
    {
     "name": "stdout",
     "output_type": "stream",
     "text": [
      "Training Ridge\n",
      "\n",
      "--- Fold 0 - root_mean_squared_error: 0.0589 - Time: 0.14 s\n",
      "--- Fold 1 - root_mean_squared_error: 0.0595 - Time: 0.13 s\n",
      "--- Fold 2 - root_mean_squared_error: 0.0588 - Time: 0.13 s\n",
      "--- Fold 3 - root_mean_squared_error: 0.0593 - Time: 0.13 s\n",
      "--- Fold 4 - root_mean_squared_error: 0.0586 - Time: 0.13 s\n",
      "\n",
      "------ Overall root_mean_squared_error: 0.0590 - Mean root_mean_squared_error: 0.0590 ± 0.0003 - Time: 3.95 s\n"
     ]
    }
   ],
   "source": [
    "ridge_trainer = Trainer(\n",
    "    Ridge(**ridge_params),\n",
    "    cv=CFG.cv,\n",
    "    metric=CFG.metric,\n",
    "    task=\"regression\"\n",
    ")\n",
    "\n",
    "ridge_trainer.fit(X, y)\n",
    "\n",
    "scores[\"Ridge (ensemble)\"] = ridge_trainer.fold_scores\n",
    "ridge_test_preds = np.expm1(ridge_trainer.predict(X_test))"
   ]
  },
  {
   "cell_type": "code",
   "execution_count": 31,
   "id": "6cc075ab",
   "metadata": {
    "execution": {
     "iopub.execute_input": "2025-05-14T21:36:23.111020Z",
     "iopub.status.busy": "2025-05-14T21:36:23.110586Z",
     "iopub.status.idle": "2025-05-14T21:36:23.429369Z",
     "shell.execute_reply": "2025-05-14T21:36:23.428302Z"
    },
    "papermill": {
     "duration": 0.353245,
     "end_time": "2025-05-14T21:36:23.431082",
     "exception": false,
     "start_time": "2025-05-14T21:36:23.077837",
     "status": "completed"
    },
    "tags": []
   },
   "outputs": [
    {
     "data": {
      "image/png": "[encoded data removed]",
      "text/plain": [
       "<Figure size 1000x400 with 1 Axes>"
      ]
     },
     "metadata": {},
     "output_type": "display_data"
    }
   ],
   "source": [
    "ridge_coeffs = np.zeros((1, X.shape[1]))\n",
    "for m in ridge_trainer.estimators:\n",
    "    ridge_coeffs += m.coef_\n",
    "ridge_coeffs = ridge_coeffs / len(ridge_trainer.estimators)\n",
    "\n",
    "plot_weights(ridge_coeffs, \"Ridge Coefficients\")"
   ]
  },
  {
   "cell_type": "markdown",
   "id": "f967d76b",
   "metadata": {
    "papermill": {
     "duration": 0.031957,
     "end_time": "2025-05-14T21:36:23.495004",
     "exception": false,
     "start_time": "2025-05-14T21:36:23.463047",
     "status": "completed"
    },
    "tags": []
   },
   "source": [
    "# Submission"
   ]
  },
  {
   "cell_type": "code",
   "execution_count": 32,
   "id": "705e9ed8",
   "metadata": {
    "execution": {
     "iopub.execute_input": "2025-05-14T21:36:23.558912Z",
     "iopub.status.busy": "2025-05-14T21:36:23.558616Z",
     "iopub.status.idle": "2025-05-14T21:36:24.281215Z",
     "shell.execute_reply": "2025-05-14T21:36:24.280316Z"
    },
    "papermill": {
     "duration": 0.756525,
     "end_time": "2025-05-14T21:36:24.282726",
     "exception": false,
     "start_time": "2025-05-14T21:36:23.526201",
     "status": "completed"
    },
    "tags": []
   },
   "outputs": [
    {
     "data": {
      "text/html": [
       "<div>\n",
       "<style scoped>\n",
       "    .dataframe tbody tr th:only-of-type {\n",
       "        vertical-align: middle;\n",
       "    }\n",
       "\n",
       "    .dataframe tbody tr th {\n",
       "        vertical-align: top;\n",
       "    }\n",
       "\n",
       "    .dataframe thead th {\n",
       "        text-align: right;\n",
       "    }\n",
       "</style>\n",
       "<table border=\"1\" class=\"dataframe\">\n",
       "  <thead>\n",
       "    <tr style=\"text-align: right;\">\n",
       "      <th></th>\n",
       "      <th>id</th>\n",
       "      <th>Calories</th>\n",
       "    </tr>\n",
       "  </thead>\n",
       "  <tbody>\n",
       "    <tr>\n",
       "      <th>0</th>\n",
       "      <td>750000</td>\n",
       "      <td>27.192551</td>\n",
       "    </tr>\n",
       "    <tr>\n",
       "      <th>1</th>\n",
       "      <td>750001</td>\n",
       "      <td>107.735554</td>\n",
       "    </tr>\n",
       "    <tr>\n",
       "      <th>2</th>\n",
       "      <td>750002</td>\n",
       "      <td>87.161453</td>\n",
       "    </tr>\n",
       "    <tr>\n",
       "      <th>3</th>\n",
       "      <td>750003</td>\n",
       "      <td>125.843977</td>\n",
       "    </tr>\n",
       "    <tr>\n",
       "      <th>4</th>\n",
       "      <td>750004</td>\n",
       "      <td>76.019649</td>\n",
       "    </tr>\n",
       "  </tbody>\n",
       "</table>\n",
       "</div>"
      ],
      "text/plain": [
       "       id    Calories\n",
       "0  750000   27.192551\n",
       "1  750001  107.735554\n",
       "2  750002   87.161453\n",
       "3  750003  125.843977\n",
       "4  750004   76.019649"
      ]
     },
     "execution_count": 32,
     "metadata": {},
     "output_type": "execute_result"
    }
   ],
   "source": [
    "sub = pd.read_csv(CFG.sample_sub_path)\n",
    "sub[CFG.target] = ridge_test_preds\n",
    "sub.to_csv(f\"sub_ridge_{np.mean(scores['Ridge (ensemble)']):.6f}.csv\", index=False)\n",
    "sub.head()"
   ]
  },
  {
   "cell_type": "markdown",
   "id": "5f701b70",
   "metadata": {
    "papermill": {
     "duration": 0.031771,
     "end_time": "2025-05-14T21:36:24.346352",
     "exception": false,
     "start_time": "2025-05-14T21:36:24.314581",
     "status": "completed"
    },
    "tags": []
   },
   "source": [
    "# Results"
   ]
  },
  {
   "cell_type": "code",
   "execution_count": 33,
   "id": "c528830f",
   "metadata": {
    "execution": {
     "iopub.execute_input": "2025-05-14T21:36:24.412797Z",
     "iopub.status.busy": "2025-05-14T21:36:24.412446Z",
     "iopub.status.idle": "2025-05-14T21:36:25.038830Z",
     "shell.execute_reply": "2025-05-14T21:36:25.037621Z"
    },
    "papermill": {
     "duration": 0.662387,
     "end_time": "2025-05-14T21:36:25.040397",
     "exception": false,
     "start_time": "2025-05-14T21:36:24.378010",
     "status": "completed"
    },
    "tags": []
   },
   "outputs": [
    {
     "data": {
      "image/png": "[encoded data removed]",
      "text/plain": [
       "<Figure size 1500x270 with 2 Axes>"
      ]
     },
     "metadata": {},
     "output_type": "display_data"
    }
   ],
   "source": [
    "scores = pd.DataFrame(scores)\n",
    "mean_scores = scores.mean().sort_values(ascending=True)\n",
    "order = scores.mean().sort_values(ascending=True).index.tolist()\n",
    "\n",
    "min_score = mean_scores.min()\n",
    "max_score = mean_scores.max()\n",
    "padding = (max_score - min_score) * 0.5\n",
    "lower_limit = min_score - padding\n",
    "upper_limit = max_score + padding\n",
    "\n",
    "fig, axs = plt.subplots(1, 2, figsize=(15, scores.shape[1] * 0.3))\n",
    "\n",
    "boxplot = sns.boxplot(data=scores, order=order, ax=axs[0], orient=\"h\", color=\"grey\")\n",
    "axs[0].set_title(f\"Fold {CFG.metric.__name__}\")\n",
    "axs[0].set_xlabel(\"\")\n",
    "axs[0].set_ylabel(\"\")\n",
    "\n",
    "barplot = sns.barplot(x=mean_scores.values, y=mean_scores.index, ax=axs[1], color=\"grey\")\n",
    "axs[1].set_title(f\"Average {CFG.metric.__name__}\")\n",
    "axs[1].set_xlabel(\"\")\n",
    "axs[1].set_xlim(left=lower_limit, right=upper_limit)\n",
    "axs[1].set_ylabel(\"\")\n",
    "\n",
    "for i, (score, model) in enumerate(zip(mean_scores.values, mean_scores.index)):\n",
    "    color = \"cyan\" if \"ensemble\" in model.lower() else \"grey\"\n",
    "    barplot.patches[i].set_facecolor(color)\n",
    "    boxplot.patches[i].set_facecolor(color)\n",
    "    barplot.text(score, i, round(score, 6), va=\"center\")\n",
    "\n",
    "plt.tight_layout()\n",
    "plt.show()"
   ]
  },
  {
   "cell_type": "code",
   "execution_count": 34,
   "id": "46cd5b5d",
   "metadata": {
    "execution": {
     "iopub.execute_input": "2025-05-14T21:36:25.111239Z",
     "iopub.status.busy": "2025-05-14T21:36:25.110928Z",
     "iopub.status.idle": "2025-05-14T21:36:25.118025Z",
     "shell.execute_reply": "2025-05-14T21:36:25.117010Z"
    },
    "papermill": {
     "duration": 0.046141,
     "end_time": "2025-05-14T21:36:25.119887",
     "exception": false,
     "start_time": "2025-05-14T21:36:25.073746",
     "status": "completed"
    },
    "tags": []
   },
   "outputs": [],
   "source": [
    "shutil.rmtree(\"catboost_info\", ignore_errors=True)"
   ]
  }
 ],
 "metadata": {
  "kaggle": {
   "accelerator": "none",
   "dataSources": [
    {
     "databundleVersionId": 11893428,
     "sourceId": 91716,
     "sourceType": "competition"
    },
    {
     "datasetId": 6512323,
     "sourceId": 10522392,
     "sourceType": "datasetVersion"
    },
    {
     "sourceId": 237456322,
     "sourceType": "kernelVersion"
    }
   ],
   "dockerImageVersionId": 31012,
   "isGpuEnabled": false,
   "isInternetEnabled": true,
   "language": "python",
   "sourceType": "notebook"
  },
  "kernelspec": {
   "display_name": "Python 3",
   "language": "python",
   "name": "python3"
  },
  "language_info": {
   "codemirror_mode": {
    "name": "ipython",
    "version": 3
   },
   "file_extension": ".py",
   "mimetype": "text/x-python",
   "name": "python",
   "nbconvert_exporter": "python",
   "pygments_lexer": "ipython3",
   "version": "3.11.11"
  },
  "papermill": {
   "default_parameters": {},
   "duration": 7474.499651,
   "end_time": "2025-05-14T21:36:28.234352",
   "environment_variables": {},
   "exception": null,
   "input_path": "__notebook__.ipynb",
   "output_path": "__notebook__.ipynb",
   "parameters": {},
   "start_time": "2025-05-14T19:31:53.734701",
   "version": "2.6.0"
  }
 },
 "nbformat": 4,
 "nbformat_minor": 5
}
