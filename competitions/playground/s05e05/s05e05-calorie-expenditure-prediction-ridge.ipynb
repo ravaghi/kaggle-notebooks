{
 "cells": [
  {
   "cell_type": "code",
   "execution_count": 1,
   "id": "238945bf",
   "metadata": {
    "_kg_hide-output": true,
    "execution": {
     "iopub.execute_input": "2025-05-07T10:34:48.680618Z",
     "iopub.status.busy": "2025-05-07T10:34:48.680147Z",
     "iopub.status.idle": "2025-05-07T10:34:59.241898Z",
     "shell.execute_reply": "2025-05-07T10:34:59.240750Z"
    },
    "papermill": {
     "duration": 10.571592,
     "end_time": "2025-05-07T10:34:59.243839",
     "exception": false,
     "start_time": "2025-05-07T10:34:48.672247",
     "status": "completed"
    },
    "scrolled": true,
    "tags": []
   },
   "outputs": [
    {
     "name": "stdout",
     "output_type": "stream",
     "text": [
      "Collecting koolbox\r\n",
      "  Downloading koolbox-0.1.2-py3-none-any.whl.metadata (2.4 kB)\r\n",
      "Collecting scikit-learn==1.5.2\r\n",
      "  Downloading scikit_learn-1.5.2-cp311-cp311-manylinux_2_17_x86_64.manylinux2014_x86_64.whl.metadata (13 kB)\r\n",
      "Requirement already satisfied: numpy>=1.19.5 in /usr/local/lib/python3.11/dist-packages (from scikit-learn==1.5.2) (1.26.4)\r\n",
      "Requirement already satisfied: scipy>=1.6.0 in /usr/local/lib/python3.11/dist-packages (from scikit-learn==1.5.2) (1.15.2)\r\n",
      "Requirement already satisfied: joblib>=1.2.0 in /usr/local/lib/python3.11/dist-packages (from scikit-learn==1.5.2) (1.4.2)\r\n",
      "Requirement already satisfied: threadpoolctl>=3.1.0 in /usr/local/lib/python3.11/dist-packages (from scikit-learn==1.5.2) (3.6.0)\r\n",
      "Requirement already satisfied: pandas>=1.0.0 in /usr/local/lib/python3.11/dist-packages (from koolbox) (2.2.3)\r\n",
      "Requirement already satisfied: mkl_fft in /usr/local/lib/python3.11/dist-packages (from numpy>=1.19.5->scikit-learn==1.5.2) (1.3.8)\r\n",
      "Requirement already satisfied: mkl_random in /usr/local/lib/python3.11/dist-packages (from numpy>=1.19.5->scikit-learn==1.5.2) (1.2.4)\r\n",
      "Requirement already satisfied: mkl_umath in /usr/local/lib/python3.11/dist-packages (from numpy>=1.19.5->scikit-learn==1.5.2) (0.1.1)\r\n",
      "Requirement already satisfied: mkl in /usr/local/lib/python3.11/dist-packages (from numpy>=1.19.5->scikit-learn==1.5.2) (2025.1.0)\r\n",
      "Requirement already satisfied: tbb4py in /usr/local/lib/python3.11/dist-packages (from numpy>=1.19.5->scikit-learn==1.5.2) (2022.1.0)\r\n",
      "Requirement already satisfied: mkl-service in /usr/local/lib/python3.11/dist-packages (from numpy>=1.19.5->scikit-learn==1.5.2) (2.4.1)\r\n",
      "Requirement already satisfied: python-dateutil>=2.8.2 in /usr/local/lib/python3.11/dist-packages (from pandas>=1.0.0->koolbox) (2.9.0.post0)\r\n",
      "Requirement already satisfied: pytz>=2020.1 in /usr/local/lib/python3.11/dist-packages (from pandas>=1.0.0->koolbox) (2025.2)\r\n",
      "Requirement already satisfied: tzdata>=2022.7 in /usr/local/lib/python3.11/dist-packages (from pandas>=1.0.0->koolbox) (2025.2)\r\n",
      "Requirement already satisfied: six>=1.5 in /usr/local/lib/python3.11/dist-packages (from python-dateutil>=2.8.2->pandas>=1.0.0->koolbox) (1.17.0)\r\n",
      "Requirement already satisfied: intel-openmp<2026,>=2024 in /usr/local/lib/python3.11/dist-packages (from mkl->numpy>=1.19.5->scikit-learn==1.5.2) (2024.2.0)\r\n",
      "Requirement already satisfied: tbb==2022.* in /usr/local/lib/python3.11/dist-packages (from mkl->numpy>=1.19.5->scikit-learn==1.5.2) (2022.1.0)\r\n",
      "Requirement already satisfied: tcmlib==1.* in /usr/local/lib/python3.11/dist-packages (from tbb==2022.*->mkl->numpy>=1.19.5->scikit-learn==1.5.2) (1.2.0)\r\n",
      "Requirement already satisfied: intel-cmplr-lib-rt in /usr/local/lib/python3.11/dist-packages (from mkl_umath->numpy>=1.19.5->scikit-learn==1.5.2) (2024.2.0)\r\n",
      "Requirement already satisfied: intel-cmplr-lib-ur==2024.2.0 in /usr/local/lib/python3.11/dist-packages (from intel-openmp<2026,>=2024->mkl->numpy>=1.19.5->scikit-learn==1.5.2) (2024.2.0)\r\n",
      "Downloading scikit_learn-1.5.2-cp311-cp311-manylinux_2_17_x86_64.manylinux2014_x86_64.whl (13.3 MB)\r\n",
      "\u001b[2K   \u001b[90m━━━━━━━━━━━━━━━━━━━━━━━━━━━━━━━━━━━━━━━━\u001b[0m \u001b[32m13.3/13.3 MB\u001b[0m \u001b[31m49.3 MB/s\u001b[0m eta \u001b[36m0:00:00\u001b[0m\r\n",
      "\u001b[?25hDownloading koolbox-0.1.2-py3-none-any.whl (11 kB)\r\n",
      "Installing collected packages: scikit-learn, koolbox\r\n",
      "  Attempting uninstall: scikit-learn\r\n",
      "    Found existing installation: scikit-learn 1.2.2\r\n",
      "    Uninstalling scikit-learn-1.2.2:\r\n",
      "      Successfully uninstalled scikit-learn-1.2.2\r\n",
      "\u001b[31mERROR: pip's dependency resolver does not currently take into account all the packages that are installed. This behaviour is the source of the following dependency conflicts.\r\n",
      "bigframes 1.36.0 requires rich<14,>=12.4.4, but you have rich 14.0.0 which is incompatible.\u001b[0m\u001b[31m\r\n",
      "\u001b[0mSuccessfully installed koolbox-0.1.2 scikit-learn-1.5.2\r\n"
     ]
    }
   ],
   "source": [
    "!pip install koolbox scikit-learn==1.5.2"
   ]
  },
  {
   "cell_type": "markdown",
   "id": "4f3c89e8",
   "metadata": {
    "papermill": {
     "duration": 0.005889,
     "end_time": "2025-05-07T10:34:59.256746",
     "exception": false,
     "start_time": "2025-05-07T10:34:59.250857",
     "status": "completed"
    },
    "tags": []
   },
   "source": [
    "# Imports and configs"
   ]
  },
  {
   "cell_type": "code",
   "execution_count": 2,
   "id": "b9a11611",
   "metadata": {
    "_kg_hide-output": true,
    "execution": {
     "iopub.execute_input": "2025-05-07T10:34:59.271962Z",
     "iopub.status.busy": "2025-05-07T10:34:59.271626Z",
     "iopub.status.idle": "2025-05-07T10:35:10.297447Z",
     "shell.execute_reply": "2025-05-07T10:35:10.295941Z"
    },
    "papermill": {
     "duration": 11.035189,
     "end_time": "2025-05-07T10:35:10.299388",
     "exception": false,
     "start_time": "2025-05-07T10:34:59.264199",
     "status": "completed"
    },
    "tags": []
   },
   "outputs": [],
   "source": [
    "from sklearn.ensemble import HistGradientBoostingRegressor\n",
    "from sklearn.feature_selection import mutual_info_regression\n",
    "from sklearn.metrics import root_mean_squared_error\n",
    "from sklearn.model_selection import KFold\n",
    "from sklearn.linear_model import Ridge\n",
    "from lightgbm import LGBMRegressor, early_stopping, log_evaluation\n",
    "from catboost import CatBoostRegressor\n",
    "from xgboost import XGBRegressor\n",
    "from koolbox import Trainer\n",
    "import matplotlib.pyplot as plt\n",
    "import seaborn as sns\n",
    "import pandas as pd\n",
    "import numpy as np\n",
    "import warnings\n",
    "import joblib\n",
    "import shutil\n",
    "import optuna\n",
    "import json\n",
    "import glob\n",
    "\n",
    "warnings.filterwarnings(\"ignore\")"
   ]
  },
  {
   "cell_type": "code",
   "execution_count": 3,
   "id": "94ce7f59",
   "metadata": {
    "execution": {
     "iopub.execute_input": "2025-05-07T10:35:10.314946Z",
     "iopub.status.busy": "2025-05-07T10:35:10.314318Z",
     "iopub.status.idle": "2025-05-07T10:35:10.320989Z",
     "shell.execute_reply": "2025-05-07T10:35:10.320079Z"
    },
    "papermill": {
     "duration": 0.016455,
     "end_time": "2025-05-07T10:35:10.322723",
     "exception": false,
     "start_time": "2025-05-07T10:35:10.306268",
     "status": "completed"
    },
    "tags": []
   },
   "outputs": [],
   "source": [
    "class CFG:\n",
    "    train_path = \"/kaggle/input/playground-series-s5e5/train.csv\"\n",
    "    test_path = \"/kaggle/input/playground-series-s5e5/test.csv\"\n",
    "    sample_sub_path = \"/kaggle/input/playground-series-s5e5/sample_submission.csv\"\n",
    "    \n",
    "    original_path = \"/kaggle/input/calories-burnt-prediction/calories.csv\"\n",
    "\n",
    "    metric = root_mean_squared_error\n",
    "    target = \"Calories\"\n",
    "    n_folds = 5\n",
    "    seed = 42\n",
    "\n",
    "    cv = KFold(n_splits=n_folds, random_state=seed, shuffle=True)\n",
    "\n",
    "    run_optuna = True\n",
    "    n_optuna_trials = 250"
   ]
  },
  {
   "cell_type": "markdown",
   "id": "433468af",
   "metadata": {
    "papermill": {
     "duration": 0.005975,
     "end_time": "2025-05-07T10:35:10.335093",
     "exception": false,
     "start_time": "2025-05-07T10:35:10.329118",
     "status": "completed"
    },
    "tags": []
   },
   "source": [
    "# Data loading and preprocessing"
   ]
  },
  {
   "cell_type": "code",
   "execution_count": 4,
   "id": "12e087b7",
   "metadata": {
    "execution": {
     "iopub.execute_input": "2025-05-07T10:35:10.349587Z",
     "iopub.status.busy": "2025-05-07T10:35:10.349178Z",
     "iopub.status.idle": "2025-05-07T10:35:11.690098Z",
     "shell.execute_reply": "2025-05-07T10:35:11.688842Z"
    },
    "papermill": {
     "duration": 1.350765,
     "end_time": "2025-05-07T10:35:11.692066",
     "exception": false,
     "start_time": "2025-05-07T10:35:10.341301",
     "status": "completed"
    },
    "tags": []
   },
   "outputs": [],
   "source": [
    "train = pd.read_csv(CFG.train_path, index_col=\"id\")\n",
    "test = pd.read_csv(CFG.test_path, index_col=\"id\")\n",
    "\n",
    "train[\"Sex\"] = train[\"Sex\"].map({\"male\": 0, \"female\": 1})\n",
    "test[\"Sex\"] = test[\"Sex\"].map({\"male\": 0, \"female\": 1})\n",
    "\n",
    "X = train.drop(CFG.target, axis=1)\n",
    "y = np.log1p(train[CFG.target])\n",
    "X_test = test"
   ]
  },
  {
   "cell_type": "code",
   "execution_count": 5,
   "id": "f43fe618",
   "metadata": {
    "execution": {
     "iopub.execute_input": "2025-05-07T10:35:11.708520Z",
     "iopub.status.busy": "2025-05-07T10:35:11.708148Z",
     "iopub.status.idle": "2025-05-07T10:35:11.746376Z",
     "shell.execute_reply": "2025-05-07T10:35:11.745156Z"
    },
    "papermill": {
     "duration": 0.047969,
     "end_time": "2025-05-07T10:35:11.748319",
     "exception": false,
     "start_time": "2025-05-07T10:35:11.700350",
     "status": "completed"
    },
    "tags": []
   },
   "outputs": [],
   "source": [
    "original = pd.read_csv(CFG.original_path, index_col=\"User_ID\")\n",
    "original[\"Gender\"] = original[\"Gender\"].map({\"male\": 0, \"female\": 1})\n",
    "original = original.rename(columns={\"Gender\": \"Sex\"})\n",
    "\n",
    "X_original = original.drop(CFG.target, axis=1)\n",
    "y_original = np.log1p(original[CFG.target])"
   ]
  },
  {
   "cell_type": "code",
   "execution_count": 6,
   "id": "fadbff50",
   "metadata": {
    "execution": {
     "iopub.execute_input": "2025-05-07T10:35:11.765084Z",
     "iopub.status.busy": "2025-05-07T10:35:11.764707Z",
     "iopub.status.idle": "2025-05-07T10:35:11.771834Z",
     "shell.execute_reply": "2025-05-07T10:35:11.770348Z"
    },
    "papermill": {
     "duration": 0.017149,
     "end_time": "2025-05-07T10:35:11.773846",
     "exception": false,
     "start_time": "2025-05-07T10:35:11.756697",
     "status": "completed"
    },
    "tags": []
   },
   "outputs": [],
   "source": [
    "def clean_duplicates(df):\n",
    "    feature_cols = ['Sex', 'Age', 'Height', 'Weight', 'Duration', 'Heart_Rate', 'Body_Temp']\n",
    "    target_col = 'Calories'\n",
    "    \n",
    "    df['feature_key'] = df[feature_cols].apply(lambda row: '_'.join(map(str, row)), axis=1)\n",
    "    target_means = df.groupby('feature_key')[target_col].transform('mean')\n",
    "    duplicate_mask = df.duplicated(subset=feature_cols, keep=False)    \n",
    "    \n",
    "    df.loc[duplicate_mask, target_col] = target_means[duplicate_mask]\n",
    "    df = df.drop(columns=['feature_key'])\n",
    "\n",
    "    return df"
   ]
  },
  {
   "cell_type": "code",
   "execution_count": 7,
   "id": "a750d991",
   "metadata": {
    "execution": {
     "iopub.execute_input": "2025-05-07T10:35:11.790227Z",
     "iopub.status.busy": "2025-05-07T10:35:11.789727Z",
     "iopub.status.idle": "2025-05-07T10:35:19.569824Z",
     "shell.execute_reply": "2025-05-07T10:35:19.568584Z"
    },
    "papermill": {
     "duration": 7.791273,
     "end_time": "2025-05-07T10:35:19.571660",
     "exception": false,
     "start_time": "2025-05-07T10:35:11.780387",
     "status": "completed"
    },
    "tags": []
   },
   "outputs": [],
   "source": [
    "train = clean_duplicates(train)\n",
    "train = train.drop_duplicates()"
   ]
  },
  {
   "cell_type": "code",
   "execution_count": 8,
   "id": "2b66823c",
   "metadata": {
    "execution": {
     "iopub.execute_input": "2025-05-07T10:35:19.587456Z",
     "iopub.status.busy": "2025-05-07T10:35:19.586598Z",
     "iopub.status.idle": "2025-05-07T10:36:52.314650Z",
     "shell.execute_reply": "2025-05-07T10:36:52.313526Z"
    },
    "papermill": {
     "duration": 92.743586,
     "end_time": "2025-05-07T10:36:52.322636",
     "exception": false,
     "start_time": "2025-05-07T10:35:19.579050",
     "status": "completed"
    },
    "tags": []
   },
   "outputs": [
    {
     "data": {
      "text/html": [
       "<style type=\"text/css\">\n",
       "#T_50554_row0_col0 {\n",
       "  width: 10em;\n",
       "  background: linear-gradient(90deg, #006837 100.0%, transparent 100.0%);\n",
       "}\n",
       "#T_50554_row1_col0 {\n",
       "  width: 10em;\n",
       "  background: linear-gradient(90deg, #afdd70 68.3%, transparent 68.3%);\n",
       "}\n",
       "#T_50554_row2_col0 {\n",
       "  width: 10em;\n",
       "  background: linear-gradient(90deg, #daf08d 59.6%, transparent 59.6%);\n",
       "}\n",
       "#T_50554_row3_col0 {\n",
       "  width: 10em;\n",
       "  background: linear-gradient(90deg, #c21c27 6.0%, transparent 6.0%);\n",
       "}\n",
       "#T_50554_row4_col0, #T_50554_row5_col0 {\n",
       "  width: 10em;\n",
       "  background: linear-gradient(90deg, #b50f26 3.4%, transparent 3.4%);\n",
       "}\n",
       "#T_50554_row6_col0 {\n",
       "  width: 10em;\n",
       "  background: linear-gradient(90deg, #a90426 1.0%, transparent 1.0%);\n",
       "}\n",
       "</style>\n",
       "<table id=\"T_50554\">\n",
       "  <thead>\n",
       "    <tr>\n",
       "      <th class=\"blank level0\" >&nbsp;</th>\n",
       "      <th id=\"T_50554_level0_col0\" class=\"col_heading level0 col0\" >Mutual Information</th>\n",
       "    </tr>\n",
       "  </thead>\n",
       "  <tbody>\n",
       "    <tr>\n",
       "      <th id=\"T_50554_level0_row0\" class=\"row_heading level0 row0\" >Duration</th>\n",
       "      <td id=\"T_50554_row0_col0\" class=\"data row0 col0\" >1.640567</td>\n",
       "    </tr>\n",
       "    <tr>\n",
       "      <th id=\"T_50554_level0_row1\" class=\"row_heading level0 row1\" >Body_Temp</th>\n",
       "      <td id=\"T_50554_row1_col0\" class=\"data row1 col0\" >1.120766</td>\n",
       "    </tr>\n",
       "    <tr>\n",
       "      <th id=\"T_50554_level0_row2\" class=\"row_heading level0 row2\" >Heart_Rate</th>\n",
       "      <td id=\"T_50554_row2_col0\" class=\"data row2 col0\" >0.976966</td>\n",
       "    </tr>\n",
       "    <tr>\n",
       "      <th id=\"T_50554_level0_row3\" class=\"row_heading level0 row3\" >Age</th>\n",
       "      <td id=\"T_50554_row3_col0\" class=\"data row3 col0\" >0.098387</td>\n",
       "    </tr>\n",
       "    <tr>\n",
       "      <th id=\"T_50554_level0_row4\" class=\"row_heading level0 row4\" >Height</th>\n",
       "      <td id=\"T_50554_row4_col0\" class=\"data row4 col0\" >0.056501</td>\n",
       "    </tr>\n",
       "    <tr>\n",
       "      <th id=\"T_50554_level0_row5\" class=\"row_heading level0 row5\" >Weight</th>\n",
       "      <td id=\"T_50554_row5_col0\" class=\"data row5 col0\" >0.055709</td>\n",
       "    </tr>\n",
       "    <tr>\n",
       "      <th id=\"T_50554_level0_row6\" class=\"row_heading level0 row6\" >Sex</th>\n",
       "      <td id=\"T_50554_row6_col0\" class=\"data row6 col0\" >0.017174</td>\n",
       "    </tr>\n",
       "  </tbody>\n",
       "</table>\n"
      ],
      "text/plain": [
       "<pandas.io.formats.style.Styler at 0x7a5f77de9c10>"
      ]
     },
     "execution_count": 8,
     "metadata": {},
     "output_type": "execute_result"
    }
   ],
   "source": [
    "mutual_info = mutual_info_regression(X, y, random_state=CFG.seed)\n",
    "\n",
    "mutual_info = pd.Series(mutual_info)\n",
    "mutual_info.index = X.columns\n",
    "mutual_info = pd.DataFrame(mutual_info.sort_values(ascending=False), columns=['Mutual Information'])\n",
    "mutual_info.style.bar(subset=['Mutual Information'], cmap='RdYlGn')"
   ]
  },
  {
   "cell_type": "code",
   "execution_count": 9,
   "id": "eaa9d0f8",
   "metadata": {
    "execution": {
     "iopub.execute_input": "2025-05-07T10:36:52.336969Z",
     "iopub.status.busy": "2025-05-07T10:36:52.336640Z",
     "iopub.status.idle": "2025-05-07T10:36:53.120155Z",
     "shell.execute_reply": "2025-05-07T10:36:53.119175Z"
    },
    "papermill": {
     "duration": 0.792861,
     "end_time": "2025-05-07T10:36:53.122035",
     "exception": false,
     "start_time": "2025-05-07T10:36:52.329174",
     "status": "completed"
    },
    "tags": []
   },
   "outputs": [
    {
     "data": {
      "text/html": [
       "<style type=\"text/css\">\n",
       "#T_f5e58_row0_col0 {\n",
       "  width: 10em;\n",
       "  background: linear-gradient(90deg, #006837 100.0%, transparent 100.0%);\n",
       "}\n",
       "#T_f5e58_row1_col0 {\n",
       "  width: 10em;\n",
       "  background: linear-gradient(90deg, #bbe278 66.0%, transparent 66.0%);\n",
       "}\n",
       "#T_f5e58_row2_col0 {\n",
       "  width: 10em;\n",
       "  background: linear-gradient(90deg, #e0f295 57.9%, transparent 57.9%);\n",
       "}\n",
       "#T_f5e58_row3_col0 {\n",
       "  width: 10em;\n",
       "  background: linear-gradient(90deg, #b10b26 2.4%, transparent 2.4%);\n",
       "}\n",
       "#T_f5e58_row4_col0 {\n",
       "  width: 10em;\n",
       "  background: linear-gradient(90deg, #ab0626 1.4%, transparent 1.4%);\n",
       "}\n",
       "#T_f5e58_row5_col0 {\n",
       "  width: 10em;\n",
       "  background: linear-gradient(90deg, #a90426 1.1%, transparent 1.1%);\n",
       "}\n",
       "#T_f5e58_row6_col0 {\n",
       "  width: 10em;\n",
       "  background: linear-gradient(90deg, #a50026 0.3%, transparent 0.3%);\n",
       "}\n",
       "</style>\n",
       "<table id=\"T_f5e58\">\n",
       "  <thead>\n",
       "    <tr>\n",
       "      <th class=\"blank level0\" >&nbsp;</th>\n",
       "      <th id=\"T_f5e58_level0_col0\" class=\"col_heading level0 col0\" >Mutual Information</th>\n",
       "    </tr>\n",
       "  </thead>\n",
       "  <tbody>\n",
       "    <tr>\n",
       "      <th id=\"T_f5e58_level0_row0\" class=\"row_heading level0 row0\" >Duration</th>\n",
       "      <td id=\"T_f5e58_row0_col0\" class=\"data row0 col0\" >1.494968</td>\n",
       "    </tr>\n",
       "    <tr>\n",
       "      <th id=\"T_f5e58_level0_row1\" class=\"row_heading level0 row1\" >Body_Temp</th>\n",
       "      <td id=\"T_f5e58_row1_col0\" class=\"data row1 col0\" >0.986528</td>\n",
       "    </tr>\n",
       "    <tr>\n",
       "      <th id=\"T_f5e58_level0_row2\" class=\"row_heading level0 row2\" >Heart_Rate</th>\n",
       "      <td id=\"T_f5e58_row2_col0\" class=\"data row2 col0\" >0.866243</td>\n",
       "    </tr>\n",
       "    <tr>\n",
       "      <th id=\"T_f5e58_level0_row3\" class=\"row_heading level0 row3\" >Age</th>\n",
       "      <td id=\"T_f5e58_row3_col0\" class=\"data row3 col0\" >0.035208</td>\n",
       "    </tr>\n",
       "    <tr>\n",
       "      <th id=\"T_f5e58_level0_row4\" class=\"row_heading level0 row4\" >Weight</th>\n",
       "      <td id=\"T_f5e58_row4_col0\" class=\"data row4 col0\" >0.020520</td>\n",
       "    </tr>\n",
       "    <tr>\n",
       "      <th id=\"T_f5e58_level0_row5\" class=\"row_heading level0 row5\" >Sex</th>\n",
       "      <td id=\"T_f5e58_row5_col0\" class=\"data row5 col0\" >0.016184</td>\n",
       "    </tr>\n",
       "    <tr>\n",
       "      <th id=\"T_f5e58_level0_row6\" class=\"row_heading level0 row6\" >Height</th>\n",
       "      <td id=\"T_f5e58_row6_col0\" class=\"data row6 col0\" >0.005213</td>\n",
       "    </tr>\n",
       "  </tbody>\n",
       "</table>\n"
      ],
      "text/plain": [
       "<pandas.io.formats.style.Styler at 0x7a5fa8f01d10>"
      ]
     },
     "execution_count": 9,
     "metadata": {},
     "output_type": "execute_result"
    }
   ],
   "source": [
    "mutual_info = mutual_info_regression(X_original, y_original, random_state=CFG.seed)\n",
    "\n",
    "mutual_info = pd.Series(mutual_info)\n",
    "mutual_info.index = X_original.columns\n",
    "mutual_info = pd.DataFrame(mutual_info.sort_values(ascending=False), columns=['Mutual Information'])\n",
    "mutual_info.style.bar(subset=['Mutual Information'], cmap='RdYlGn')"
   ]
  },
  {
   "cell_type": "code",
   "execution_count": 10,
   "id": "a6f612b3",
   "metadata": {
    "execution": {
     "iopub.execute_input": "2025-05-07T10:36:53.137378Z",
     "iopub.status.busy": "2025-05-07T10:36:53.137081Z",
     "iopub.status.idle": "2025-05-07T10:36:54.389140Z",
     "shell.execute_reply": "2025-05-07T10:36:54.388088Z"
    },
    "papermill": {
     "duration": 1.261691,
     "end_time": "2025-05-07T10:36:54.390940",
     "exception": false,
     "start_time": "2025-05-07T10:36:53.129249",
     "status": "completed"
    },
    "tags": []
   },
   "outputs": [
    {
     "data": {
      "image/png": "[encoded data removed]",
      "text/plain": [
       "<Figure size 1600x600 with 4 Axes>"
      ]
     },
     "metadata": {},
     "output_type": "display_data"
    }
   ],
   "source": [
    "sns.set_style(\"white\")\n",
    "fig, axes = plt.subplots(1, 2, figsize=(16, 6))\n",
    "\n",
    "corr_train = train.corr()\n",
    "mask_train = np.triu(np.ones_like(corr_train, dtype=bool), k=1)\n",
    "sns.heatmap(\n",
    "    data=corr_train,\n",
    "    annot=True,\n",
    "    fmt='.2f',\n",
    "    mask=mask_train,\n",
    "    square=True,\n",
    "    cmap='coolwarm',\n",
    "    cbar_kws={'shrink': .7, 'format': '%.2f'},   \n",
    "    annot_kws={'size': 8},\n",
    "    center=0,\n",
    "    ax=axes[0]\n",
    ")\n",
    "axes[0].set_title('Train')\n",
    "axes[0].tick_params(axis='both', which='major', labelsize=8)\n",
    "\n",
    "corr_orig = original.corr()\n",
    "mask_orig = np.triu(np.ones_like(corr_orig, dtype=bool), k=1)\n",
    "sns.heatmap(\n",
    "    data=corr_orig,\n",
    "    annot=True,\n",
    "    fmt='.2f',\n",
    "    mask=mask_orig,\n",
    "    square=True,\n",
    "    cmap='coolwarm',\n",
    "    cbar_kws={'shrink': .7, 'format': '%.2f'},   \n",
    "    annot_kws={'size': 8},\n",
    "    center=0,\n",
    "    ax=axes[1]\n",
    ")\n",
    "axes[1].set_title('Original')\n",
    "axes[1].tick_params(axis='both', which='major', labelsize=8)\n",
    "\n",
    "plt.tight_layout()\n",
    "plt.show()"
   ]
  },
  {
   "cell_type": "markdown",
   "id": "c2fc8337",
   "metadata": {
    "papermill": {
     "duration": 0.007678,
     "end_time": "2025-05-07T10:36:54.406914",
     "exception": false,
     "start_time": "2025-05-07T10:36:54.399236",
     "status": "completed"
    },
    "tags": []
   },
   "source": [
    "# Training base models"
   ]
  },
  {
   "cell_type": "code",
   "execution_count": 11,
   "id": "d80609e5",
   "metadata": {
    "_kg_hide-input": true,
    "_kg_hide-output": true,
    "execution": {
     "iopub.execute_input": "2025-05-07T10:36:54.425149Z",
     "iopub.status.busy": "2025-05-07T10:36:54.424789Z",
     "iopub.status.idle": "2025-05-07T10:36:54.436415Z",
     "shell.execute_reply": "2025-05-07T10:36:54.435115Z"
    },
    "papermill": {
     "duration": 0.022717,
     "end_time": "2025-05-07T10:36:54.438340",
     "exception": false,
     "start_time": "2025-05-07T10:36:54.415623",
     "status": "completed"
    },
    "tags": []
   },
   "outputs": [],
   "source": [
    "histgb_params = {\n",
    "    \"l2_regularization\": 10.412017522533768,\n",
    "    \"learning_rate\": 0.011702680619474444,\n",
    "    \"max_depth\": 59,\n",
    "    \"max_features\": 0.30616140080552673,\n",
    "    \"max_iter\": 4454,\n",
    "    \"max_leaf_nodes\": 385,\n",
    "    \"min_samples_leaf\": 50,\n",
    "    \"random_state\": 42\n",
    "}\n",
    "\n",
    "lgbm_params = {\n",
    "    \"boosting_type\": \"gbdt\",\n",
    "    \"colsample_bytree\": 0.8213924491907012,\n",
    "    \"learning_rate\": 0.059976685297931195,\n",
    "    \"min_child_samples\": 10,\n",
    "    \"min_child_weight\": 0.5425237767880097,\n",
    "    \"n_estimators\": 50000,\n",
    "    \"n_jobs\": -1,\n",
    "    \"num_leaves\": 89,\n",
    "    \"random_state\": 42,\n",
    "    \"reg_alpha\": 2.0325709613371545,\n",
    "    \"reg_lambda\": 87.27971117911044,\n",
    "    \"subsample\": 0.6452823633939004,\n",
    "    \"verbose\": -1\n",
    "}\n",
    "\n",
    "lgbm_goss_params = {\n",
    "    \"boosting_type\": \"goss\",\n",
    "    \"colsample_bytree\": 0.9068724002629094,\n",
    "    \"learning_rate\": 0.06459027654473874,\n",
    "    \"min_child_samples\": 39,\n",
    "    \"min_child_weight\": 0.5337673729810578,\n",
    "    \"n_estimators\": 50000,\n",
    "    \"n_jobs\": -1,\n",
    "    \"num_leaves\": 13,\n",
    "    \"random_state\": 42,\n",
    "    \"reg_alpha\": 1.603969498256519,\n",
    "    \"reg_lambda\": 10.806488455621444,\n",
    "    \"subsample\": 0.5966412222358356,\n",
    "    \"verbose\": -1\n",
    "}\n",
    "\n",
    "xgb_params = {\n",
    "    \"colsample_bylevel\": 0.8606487417581108,\n",
    "    \"colsample_bynode\": 0.9410596660335436,\n",
    "    \"colsample_bytree\": 0.9407540036296737,\n",
    "    \"early_stopping_rounds\": 100,\n",
    "    \"eval_metric\": \"rmse\",\n",
    "    \"gamma\": 0.023260595738991977,\n",
    "    \"learning_rate\": 0.03669372905801298,\n",
    "    \"max_depth\": 11,\n",
    "    \"max_leaves\": 51,\n",
    "    \"min_child_weight\": 96,\n",
    "    \"n_estimators\": 50000,\n",
    "    \"n_jobs\": -1,\n",
    "    \"random_state\": 42,\n",
    "    \"reg_alpha\": 2.953205886504917,\n",
    "    \"reg_lambda\": 67.64147033446291,\n",
    "    \"subsample\": 0.6973241930754311,\n",
    "    \"verbosity\": 0\n",
    "}\n",
    "\n",
    "cb_params = {\n",
    "    \"border_count\": 88,\n",
    "    \"colsample_bylevel\": 0.7903437608890396,\n",
    "    \"depth\": 8,\n",
    "    \"eval_metric\": \"RMSE\",\n",
    "    \"iterations\": 50000,\n",
    "    \"l2_leaf_reg\": 6.065104074215131,\n",
    "    \"learning_rate\": 0.030946464122148992,\n",
    "    \"min_child_samples\": 138,\n",
    "    \"random_state\": 42,\n",
    "    \"random_strength\": 0.035251008593976785,\n",
    "    \"verbose\": False\n",
    "}"
   ]
  },
  {
   "cell_type": "code",
   "execution_count": 12,
   "id": "ed5faab7",
   "metadata": {
    "execution": {
     "iopub.execute_input": "2025-05-07T10:36:54.455619Z",
     "iopub.status.busy": "2025-05-07T10:36:54.455236Z",
     "iopub.status.idle": "2025-05-07T10:36:54.460057Z",
     "shell.execute_reply": "2025-05-07T10:36:54.459029Z"
    },
    "papermill": {
     "duration": 0.0154,
     "end_time": "2025-05-07T10:36:54.461772",
     "exception": false,
     "start_time": "2025-05-07T10:36:54.446372",
     "status": "completed"
    },
    "tags": []
   },
   "outputs": [],
   "source": [
    "scores = {}\n",
    "oof_preds = {}\n",
    "test_preds = {}"
   ]
  },
  {
   "cell_type": "markdown",
   "id": "209f3204",
   "metadata": {
    "papermill": {
     "duration": 0.007544,
     "end_time": "2025-05-07T10:36:54.477336",
     "exception": false,
     "start_time": "2025-05-07T10:36:54.469792",
     "status": "completed"
    },
    "tags": []
   },
   "source": [
    "## HistGradientBoosting"
   ]
  },
  {
   "cell_type": "code",
   "execution_count": 13,
   "id": "db7a7b30",
   "metadata": {
    "execution": {
     "iopub.execute_input": "2025-05-07T10:36:54.494732Z",
     "iopub.status.busy": "2025-05-07T10:36:54.494364Z",
     "iopub.status.idle": "2025-05-07T10:45:30.892292Z",
     "shell.execute_reply": "2025-05-07T10:45:30.891313Z"
    },
    "papermill": {
     "duration": 516.408873,
     "end_time": "2025-05-07T10:45:30.894198",
     "exception": false,
     "start_time": "2025-05-07T10:36:54.485325",
     "status": "completed"
    },
    "tags": []
   },
   "outputs": [
    {
     "name": "stdout",
     "output_type": "stream",
     "text": [
      "Training HistGradientBoostingRegressor\n",
      "\n",
      "--- Fold 0 - root_mean_squared_error: 0.0594 - Time: 90.05 s\n",
      "--- Fold 1 - root_mean_squared_error: 0.0605 - Time: 81.89 s\n",
      "--- Fold 2 - root_mean_squared_error: 0.0597 - Time: 87.29 s\n",
      "--- Fold 3 - root_mean_squared_error: 0.0601 - Time: 78.49 s\n",
      "--- Fold 4 - root_mean_squared_error: 0.0593 - Time: 93.07 s\n",
      "\n",
      "------ Overall root_mean_squared_error: 0.0598 - Mean root_mean_squared_error: 0.0598 ± 0.0004 - Time: 431.65 s\n"
     ]
    }
   ],
   "source": [
    "histgb_trainer = Trainer(\n",
    "    HistGradientBoostingRegressor(**histgb_params),\n",
    "    cv=CFG.cv,\n",
    "    metric=CFG.metric,\n",
    "    task=\"regression\"\n",
    ")\n",
    "\n",
    "histgb_trainer.fit(X, y, extra_X=X_original, extra_y=y_original)\n",
    "\n",
    "scores[\"HistGB\"] = histgb_trainer.fold_scores\n",
    "oof_preds[\"HistGB\"] = histgb_trainer.oof_preds\n",
    "test_preds[\"HistGB\"] = histgb_trainer.predict(X_test)"
   ]
  },
  {
   "cell_type": "markdown",
   "id": "f33dbfe9",
   "metadata": {
    "papermill": {
     "duration": 0.008096,
     "end_time": "2025-05-07T10:45:30.911233",
     "exception": false,
     "start_time": "2025-05-07T10:45:30.903137",
     "status": "completed"
    },
    "tags": []
   },
   "source": [
    "## LightGBM (gbdt)"
   ]
  },
  {
   "cell_type": "code",
   "execution_count": 14,
   "id": "b29e44d4",
   "metadata": {
    "execution": {
     "iopub.execute_input": "2025-05-07T10:45:30.929392Z",
     "iopub.status.busy": "2025-05-07T10:45:30.928994Z",
     "iopub.status.idle": "2025-05-07T10:50:13.339105Z",
     "shell.execute_reply": "2025-05-07T10:50:13.338173Z"
    },
    "papermill": {
     "duration": 282.422073,
     "end_time": "2025-05-07T10:50:13.341651",
     "exception": false,
     "start_time": "2025-05-07T10:45:30.919578",
     "status": "completed"
    },
    "tags": []
   },
   "outputs": [
    {
     "name": "stdout",
     "output_type": "stream",
     "text": [
      "Training LGBMRegressor\n",
      "\n",
      "Training until validation scores don't improve for 100 rounds\n",
      "Early stopping, best iteration is:\n",
      "[791]\tvalid_0's rmse: 0.0596226\tvalid_0's l2: 0.00355485\n",
      "--- Fold 0 - root_mean_squared_error: 0.0596 - Time: 28.70 s\n",
      "\n",
      "Training until validation scores don't improve for 100 rounds\n",
      "[1000]\tvalid_0's rmse: 0.0603528\tvalid_0's l2: 0.00364246\n",
      "Early stopping, best iteration is:\n",
      "[1369]\tvalid_0's rmse: 0.0603066\tvalid_0's l2: 0.00363688\n",
      "--- Fold 1 - root_mean_squared_error: 0.0603 - Time: 43.34 s\n",
      "\n",
      "Training until validation scores don't improve for 100 rounds\n",
      "[1000]\tvalid_0's rmse: 0.0596239\tvalid_0's l2: 0.00355501\n",
      "Early stopping, best iteration is:\n",
      "[1406]\tvalid_0's rmse: 0.0595985\tvalid_0's l2: 0.00355198\n",
      "--- Fold 2 - root_mean_squared_error: 0.0596 - Time: 43.49 s\n",
      "\n",
      "Training until validation scores don't improve for 100 rounds\n",
      "[1000]\tvalid_0's rmse: 0.0601725\tvalid_0's l2: 0.00362073\n",
      "[2000]\tvalid_0's rmse: 0.060028\tvalid_0's l2: 0.00360336\n",
      "Early stopping, best iteration is:\n",
      "[1918]\tvalid_0's rmse: 0.0600226\tvalid_0's l2: 0.00360271\n",
      "--- Fold 3 - root_mean_squared_error: 0.0600 - Time: 55.34 s\n",
      "\n",
      "Training until validation scores don't improve for 100 rounds\n",
      "[1000]\tvalid_0's rmse: 0.0594362\tvalid_0's l2: 0.00353266\n",
      "Early stopping, best iteration is:\n",
      "[1376]\tvalid_0's rmse: 0.0593934\tvalid_0's l2: 0.00352758\n",
      "--- Fold 4 - root_mean_squared_error: 0.0594 - Time: 42.16 s\n",
      "\n",
      "\n",
      "------ Overall root_mean_squared_error: 0.0598 - Mean root_mean_squared_error: 0.0598 ± 0.0003 - Time: 213.89 s\n"
     ]
    }
   ],
   "source": [
    "lgbm_trainer = Trainer(\n",
    "    LGBMRegressor(**lgbm_params),\n",
    "    cv=CFG.cv,\n",
    "    metric=CFG.metric,\n",
    "    use_early_stopping=True,\n",
    "    task=\"regression\"\n",
    ")\n",
    "\n",
    "fit_args = {\n",
    "    \"eval_metric\": \"rmse\",\n",
    "    \"callbacks\": [\n",
    "        log_evaluation(period=1000), \n",
    "        early_stopping(stopping_rounds=100)\n",
    "    ]\n",
    "}\n",
    "\n",
    "lgbm_trainer.fit(X, y, fit_args=fit_args, extra_X=X_original, extra_y=y_original)\n",
    "\n",
    "scores[\"LightGBM (gbdt)\"] = lgbm_trainer.fold_scores\n",
    "oof_preds[\"LightGBM (gbdt)\"] = lgbm_trainer.oof_preds\n",
    "test_preds[\"LightGBM (gbdt)\"] = lgbm_trainer.predict(X_test)"
   ]
  },
  {
   "cell_type": "markdown",
   "id": "b73ce678",
   "metadata": {
    "papermill": {
     "duration": 0.009817,
     "end_time": "2025-05-07T10:50:13.361538",
     "exception": false,
     "start_time": "2025-05-07T10:50:13.351721",
     "status": "completed"
    },
    "tags": []
   },
   "source": [
    "## LightGBM (goss)"
   ]
  },
  {
   "cell_type": "code",
   "execution_count": 15,
   "id": "0d51ad6e",
   "metadata": {
    "execution": {
     "iopub.execute_input": "2025-05-07T10:50:13.381531Z",
     "iopub.status.busy": "2025-05-07T10:50:13.381107Z",
     "iopub.status.idle": "2025-05-07T11:01:34.192548Z",
     "shell.execute_reply": "2025-05-07T11:01:34.191494Z"
    },
    "papermill": {
     "duration": 680.824012,
     "end_time": "2025-05-07T11:01:34.194807",
     "exception": false,
     "start_time": "2025-05-07T10:50:13.370795",
     "status": "completed"
    },
    "tags": []
   },
   "outputs": [
    {
     "name": "stdout",
     "output_type": "stream",
     "text": [
      "Training LGBMRegressor\n",
      "\n",
      "Training until validation scores don't improve for 100 rounds\n",
      "[1000]\tvalid_0's rmse: 0.0600588\tvalid_0's l2: 0.00360706\n",
      "[2000]\tvalid_0's rmse: 0.0597145\tvalid_0's l2: 0.00356582\n",
      "[3000]\tvalid_0's rmse: 0.0596177\tvalid_0's l2: 0.00355427\n",
      "Early stopping, best iteration is:\n",
      "[3424]\tvalid_0's rmse: 0.0595945\tvalid_0's l2: 0.0035515\n",
      "--- Fold 0 - root_mean_squared_error: 0.0596 - Time: 101.19 s\n",
      "\n",
      "Training until validation scores don't improve for 100 rounds\n",
      "[1000]\tvalid_0's rmse: 0.0607929\tvalid_0's l2: 0.00369577\n",
      "[2000]\tvalid_0's rmse: 0.0604315\tvalid_0's l2: 0.00365197\n",
      "[3000]\tvalid_0's rmse: 0.0603068\tvalid_0's l2: 0.00363691\n",
      "Early stopping, best iteration is:\n",
      "[3299]\tvalid_0's rmse: 0.0602872\tvalid_0's l2: 0.00363454\n",
      "--- Fold 1 - root_mean_squared_error: 0.0603 - Time: 97.59 s\n",
      "\n",
      "Training until validation scores don't improve for 100 rounds\n",
      "[1000]\tvalid_0's rmse: 0.0600734\tvalid_0's l2: 0.00360881\n",
      "[2000]\tvalid_0's rmse: 0.0597328\tvalid_0's l2: 0.00356801\n",
      "[3000]\tvalid_0's rmse: 0.0596015\tvalid_0's l2: 0.00355234\n",
      "[4000]\tvalid_0's rmse: 0.0595402\tvalid_0's l2: 0.00354503\n",
      "Early stopping, best iteration is:\n",
      "[4508]\tvalid_0's rmse: 0.0595248\tvalid_0's l2: 0.00354321\n",
      "--- Fold 2 - root_mean_squared_error: 0.0595 - Time: 129.85 s\n",
      "\n",
      "Training until validation scores don't improve for 100 rounds\n",
      "[1000]\tvalid_0's rmse: 0.0606943\tvalid_0's l2: 0.0036838\n",
      "[2000]\tvalid_0's rmse: 0.0602788\tvalid_0's l2: 0.00363353\n",
      "[3000]\tvalid_0's rmse: 0.0601248\tvalid_0's l2: 0.00361499\n",
      "[4000]\tvalid_0's rmse: 0.060043\tvalid_0's l2: 0.00360516\n",
      "Early stopping, best iteration is:\n",
      "[4559]\tvalid_0's rmse: 0.0600092\tvalid_0's l2: 0.00360111\n",
      "--- Fold 3 - root_mean_squared_error: 0.0600 - Time: 134.68 s\n",
      "\n",
      "Training until validation scores don't improve for 100 rounds\n",
      "[1000]\tvalid_0's rmse: 0.0597776\tvalid_0's l2: 0.00357336\n",
      "[2000]\tvalid_0's rmse: 0.0594386\tvalid_0's l2: 0.00353295\n",
      "[3000]\tvalid_0's rmse: 0.0593427\tvalid_0's l2: 0.00352156\n",
      "Early stopping, best iteration is:\n",
      "[3301]\tvalid_0's rmse: 0.0593269\tvalid_0's l2: 0.00351968\n",
      "--- Fold 4 - root_mean_squared_error: 0.0593 - Time: 96.82 s\n",
      "\n",
      "\n",
      "------ Overall root_mean_squared_error: 0.0597 - Mean root_mean_squared_error: 0.0597 ± 0.0003 - Time: 560.99 s\n"
     ]
    }
   ],
   "source": [
    "lgbm_goss_trainer = Trainer(\n",
    "    LGBMRegressor(**lgbm_goss_params),\n",
    "    cv=CFG.cv,\n",
    "    metric=CFG.metric,\n",
    "    use_early_stopping=True,\n",
    "    task=\"regression\"\n",
    ")\n",
    "\n",
    "fit_args = {\n",
    "    \"eval_metric\": \"rmse\",\n",
    "    \"callbacks\": [\n",
    "        log_evaluation(period=1000), \n",
    "        early_stopping(stopping_rounds=100)\n",
    "    ]\n",
    "}\n",
    "\n",
    "lgbm_goss_trainer.fit(X, y, fit_args=fit_args, extra_X=X_original, extra_y=y_original)\n",
    "\n",
    "scores[\"LightGBM (goss)\"] = lgbm_goss_trainer.fold_scores\n",
    "oof_preds[\"LightGBM (goss)\"] = lgbm_goss_trainer.oof_preds\n",
    "test_preds[\"LightGBM (goss)\"] = lgbm_goss_trainer.predict(X_test)"
   ]
  },
  {
   "cell_type": "markdown",
   "id": "09e314a0",
   "metadata": {
    "papermill": {
     "duration": 0.010851,
     "end_time": "2025-05-07T11:01:34.217391",
     "exception": false,
     "start_time": "2025-05-07T11:01:34.206540",
     "status": "completed"
    },
    "tags": []
   },
   "source": [
    "## XGBoost"
   ]
  },
  {
   "cell_type": "code",
   "execution_count": 16,
   "id": "18560125",
   "metadata": {
    "execution": {
     "iopub.execute_input": "2025-05-07T11:01:34.241333Z",
     "iopub.status.busy": "2025-05-07T11:01:34.241015Z",
     "iopub.status.idle": "2025-05-07T11:08:01.414599Z",
     "shell.execute_reply": "2025-05-07T11:08:01.413813Z"
    },
    "papermill": {
     "duration": 387.187715,
     "end_time": "2025-05-07T11:08:01.416217",
     "exception": false,
     "start_time": "2025-05-07T11:01:34.228502",
     "status": "completed"
    },
    "tags": []
   },
   "outputs": [
    {
     "name": "stdout",
     "output_type": "stream",
     "text": [
      "Training XGBRegressor\n",
      "\n",
      "[0]\tvalidation_0-rmse:0.92856\n",
      "[1000]\tvalidation_0-rmse:0.06015\n",
      "[2000]\tvalidation_0-rmse:0.06009\n",
      "[3000]\tvalidation_0-rmse:0.06007\n",
      "[3123]\tvalidation_0-rmse:0.06006\n",
      "--- Fold 0 - root_mean_squared_error: 0.0601 - Time: 86.01 s\n",
      "\n",
      "[0]\tvalidation_0-rmse:0.93096\n",
      "[1000]\tvalidation_0-rmse:0.06137\n",
      "[2000]\tvalidation_0-rmse:0.06128\n",
      "[3000]\tvalidation_0-rmse:0.06123\n",
      "[3071]\tvalidation_0-rmse:0.06123\n",
      "--- Fold 1 - root_mean_squared_error: 0.0612 - Time: 85.84 s\n",
      "\n",
      "[0]\tvalidation_0-rmse:0.92964\n",
      "[1000]\tvalidation_0-rmse:0.06065\n",
      "[2000]\tvalidation_0-rmse:0.06056\n",
      "[3000]\tvalidation_0-rmse:0.06053\n",
      "[3092]\tvalidation_0-rmse:0.06053\n",
      "--- Fold 2 - root_mean_squared_error: 0.0605 - Time: 85.22 s\n",
      "\n",
      "[0]\tvalidation_0-rmse:0.92813\n",
      "[1000]\tvalidation_0-rmse:0.06097\n",
      "[1244]\tvalidation_0-rmse:0.06096\n",
      "--- Fold 3 - root_mean_squared_error: 0.0610 - Time: 40.16 s\n",
      "\n",
      "[0]\tvalidation_0-rmse:0.92887\n",
      "[1000]\tvalidation_0-rmse:0.06014\n",
      "[2000]\tvalidation_0-rmse:0.06007\n",
      "[2596]\tvalidation_0-rmse:0.06005\n",
      "--- Fold 4 - root_mean_squared_error: 0.0601 - Time: 75.02 s\n",
      "\n",
      "\n",
      "------ Overall root_mean_squared_error: 0.0606 - Mean root_mean_squared_error: 0.0606 ± 0.0005 - Time: 373.16 s\n"
     ]
    }
   ],
   "source": [
    "xgb_trainer = Trainer(\n",
    "    XGBRegressor(**xgb_params),\n",
    "    cv=CFG.cv,\n",
    "    metric=CFG.metric,\n",
    "    use_early_stopping=True,\n",
    "    task=\"regression\"\n",
    ")\n",
    "\n",
    "fit_args = {\n",
    "    \"verbose\": 1000\n",
    "}\n",
    "\n",
    "xgb_trainer.fit(X, y, fit_args=fit_args, extra_X=X_original, extra_y=y_original)\n",
    "\n",
    "scores[\"XGBoost\"] = xgb_trainer.fold_scores\n",
    "oof_preds[\"XGBoost\"] = xgb_trainer.oof_preds\n",
    "test_preds[\"XGBoost\"] = xgb_trainer.predict(X_test)"
   ]
  },
  {
   "cell_type": "markdown",
   "id": "a6cd2b37",
   "metadata": {
    "papermill": {
     "duration": 0.011929,
     "end_time": "2025-05-07T11:08:01.440719",
     "exception": false,
     "start_time": "2025-05-07T11:08:01.428790",
     "status": "completed"
    },
    "tags": []
   },
   "source": [
    "## CatBoost"
   ]
  },
  {
   "cell_type": "code",
   "execution_count": 17,
   "id": "4f2ff210",
   "metadata": {
    "execution": {
     "iopub.execute_input": "2025-05-07T11:08:01.466424Z",
     "iopub.status.busy": "2025-05-07T11:08:01.466133Z",
     "iopub.status.idle": "2025-05-07T11:20:58.940515Z",
     "shell.execute_reply": "2025-05-07T11:20:58.939512Z"
    },
    "papermill": {
     "duration": 777.489227,
     "end_time": "2025-05-07T11:20:58.942278",
     "exception": false,
     "start_time": "2025-05-07T11:08:01.453051",
     "status": "completed"
    },
    "tags": []
   },
   "outputs": [
    {
     "name": "stdout",
     "output_type": "stream",
     "text": [
      "Training CatBoostRegressor\n",
      "\n",
      "0:\tlearn: 0.9348709\ttest: 0.9341488\tbest: 0.9341488 (0)\ttotal: 134ms\tremaining: 1h 51m 22s\n",
      "1000:\tlearn: 0.0571087\ttest: 0.0593244\tbest: 0.0593244 (1000)\ttotal: 55.6s\tremaining: 45m 19s\n",
      "2000:\tlearn: 0.0560120\ttest: 0.0591679\tbest: 0.0591679 (2000)\ttotal: 1m 49s\tremaining: 43m 45s\n",
      "Stopped by overfitting detector  (100 iterations wait)\n",
      "\n",
      "bestTest = 0.05911377754\n",
      "bestIteration = 2824\n",
      "\n",
      "Shrink model to first 2825 iterations.\n",
      "--- Fold 0 - root_mean_squared_error: 0.0591 - Time: 161.16 s\n",
      "\n",
      "0:\tlearn: 0.9342850\ttest: 0.9365766\tbest: 0.9365766 (0)\ttotal: 69.8ms\tremaining: 58m 10s\n",
      "1000:\tlearn: 0.0571036\ttest: 0.0598252\tbest: 0.0598252 (1000)\ttotal: 57s\tremaining: 46m 30s\n",
      "Stopped by overfitting detector  (100 iterations wait)\n",
      "\n",
      "bestTest = 0.05966835269\n",
      "bestIteration = 1741\n",
      "\n",
      "Shrink model to first 1742 iterations.\n",
      "--- Fold 1 - root_mean_squared_error: 0.0597 - Time: 104.13 s\n",
      "\n",
      "0:\tlearn: 0.9346164\ttest: 0.9352198\tbest: 0.9352198 (0)\ttotal: 72ms\tremaining: 1h 2s\n",
      "1000:\tlearn: 0.0570640\ttest: 0.0593004\tbest: 0.0593004 (1000)\ttotal: 55.9s\tremaining: 45m 38s\n",
      "2000:\tlearn: 0.0559380\ttest: 0.0590550\tbest: 0.0590543 (1996)\ttotal: 1m 51s\tremaining: 44m 26s\n",
      "3000:\tlearn: 0.0551639\ttest: 0.0589824\tbest: 0.0589822 (2994)\ttotal: 2m 46s\tremaining: 43m 29s\n",
      "Stopped by overfitting detector  (100 iterations wait)\n",
      "\n",
      "bestTest = 0.05895750885\n",
      "bestIteration = 3703\n",
      "\n",
      "Shrink model to first 3704 iterations.\n",
      "--- Fold 2 - root_mean_squared_error: 0.0590 - Time: 212.30 s\n",
      "\n",
      "0:\tlearn: 0.9349691\ttest: 0.9337102\tbest: 0.9337102 (0)\ttotal: 77.1ms\tremaining: 1h 4m 16s\n",
      "1000:\tlearn: 0.0570599\ttest: 0.0597373\tbest: 0.0597373 (1000)\ttotal: 56.2s\tremaining: 45m 53s\n",
      "2000:\tlearn: 0.0560408\ttest: 0.0595997\tbest: 0.0595980 (1976)\ttotal: 1m 51s\tremaining: 44m 46s\n",
      "3000:\tlearn: 0.0552776\ttest: 0.0595437\tbest: 0.0595417 (2940)\ttotal: 2m 48s\tremaining: 44m 1s\n",
      "Stopped by overfitting detector  (100 iterations wait)\n",
      "\n",
      "bestTest = 0.0595416905\n",
      "bestIteration = 2940\n",
      "\n",
      "Shrink model to first 2941 iterations.\n",
      "--- Fold 3 - root_mean_squared_error: 0.0595 - Time: 172.20 s\n",
      "\n",
      "0:\tlearn: 0.9347914\ttest: 0.9344284\tbest: 0.9344284 (0)\ttotal: 80.1ms\tremaining: 1h 6m 44s\n",
      "1000:\tlearn: 0.0572454\ttest: 0.0590697\tbest: 0.0590697 (1000)\ttotal: 57.7s\tremaining: 47m 2s\n",
      "2000:\tlearn: 0.0561135\ttest: 0.0589142\tbest: 0.0589119 (1987)\ttotal: 1m 53s\tremaining: 45m 24s\n",
      "Stopped by overfitting detector  (100 iterations wait)\n",
      "\n",
      "bestTest = 0.05891120084\n",
      "bestIteration = 2077\n",
      "\n",
      "Shrink model to first 2078 iterations.\n",
      "--- Fold 4 - root_mean_squared_error: 0.0589 - Time: 124.64 s\n",
      "\n",
      "\n",
      "------ Overall root_mean_squared_error: 0.0592 - Mean root_mean_squared_error: 0.0592 ± 0.0003 - Time: 775.32 s\n"
     ]
    }
   ],
   "source": [
    "cb_trainer = Trainer(\n",
    "    CatBoostRegressor(**cb_params),\n",
    "    cv=CFG.cv,\n",
    "    metric=CFG.metric,\n",
    "    use_early_stopping=True,\n",
    "    task=\"regression\"\n",
    ")\n",
    "\n",
    "fit_args = {\n",
    "    \"verbose\": 1000,\n",
    "    \"early_stopping_rounds\": 100,\n",
    "    \"use_best_model\": True\n",
    "}\n",
    "\n",
    "cb_trainer.fit(X, y, fit_args=fit_args, extra_X=X_original, extra_y=y_original)\n",
    "\n",
    "scores[\"CatBoost\"] = cb_trainer.fold_scores\n",
    "oof_preds[\"CatBoost\"] = cb_trainer.oof_preds\n",
    "test_preds[\"CatBoost\"] = cb_trainer.predict(X_test)"
   ]
  },
  {
   "cell_type": "markdown",
   "id": "b447e7b4",
   "metadata": {
    "papermill": {
     "duration": 0.015083,
     "end_time": "2025-05-07T11:20:58.973138",
     "exception": false,
     "start_time": "2025-05-07T11:20:58.958055",
     "status": "completed"
    },
    "tags": []
   },
   "source": [
    "## AutoGluon"
   ]
  },
  {
   "cell_type": "code",
   "execution_count": 18,
   "id": "b3b30680",
   "metadata": {
    "execution": {
     "iopub.execute_input": "2025-05-07T11:20:59.005911Z",
     "iopub.status.busy": "2025-05-07T11:20:59.005596Z",
     "iopub.status.idle": "2025-05-07T11:20:59.316146Z",
     "shell.execute_reply": "2025-05-07T11:20:59.315257Z"
    },
    "papermill": {
     "duration": 0.33012,
     "end_time": "2025-05-07T11:20:59.318448",
     "exception": false,
     "start_time": "2025-05-07T11:20:58.988328",
     "status": "completed"
    },
    "tags": []
   },
   "outputs": [],
   "source": [
    "oof_preds_files = glob.glob(f'/kaggle/input/s05e05-calorie-expenditure-prediction-automl/*_oof_preds_*.pkl')\n",
    "test_preds_files = glob.glob(f'/kaggle/input/s05e05-calorie-expenditure-prediction-automl/*_test_preds_*.pkl')\n",
    "\n",
    "ag_oof_preds = np.log1p(joblib.load(oof_preds_files[0]))\n",
    "ag_test_preds = np.log1p(joblib.load(test_preds_files[0]))\n",
    "\n",
    "ag_scores = []\n",
    "split = KFold(n_splits=CFG.n_folds, random_state=CFG.seed, shuffle=True).split(X, y)\n",
    "for _, val_idx in split:\n",
    "    y_val = y[val_idx]\n",
    "    y_preds = ag_oof_preds[val_idx]   \n",
    "    score = root_mean_squared_error(y_preds, y_val)\n",
    "    ag_scores.append(score)\n",
    "    \n",
    "oof_preds[\"AutoGluon\"], test_preds[\"AutoGluon\"], scores[\"AutoGluon\"] = ag_oof_preds, ag_test_preds, ag_scores"
   ]
  },
  {
   "cell_type": "markdown",
   "id": "0bfa7b8c",
   "metadata": {
    "papermill": {
     "duration": 0.013167,
     "end_time": "2025-05-07T11:20:59.346206",
     "exception": false,
     "start_time": "2025-05-07T11:20:59.333039",
     "status": "completed"
    },
    "tags": []
   },
   "source": [
    "# Ensembling with Ridge"
   ]
  },
  {
   "cell_type": "code",
   "execution_count": 19,
   "id": "677ea297",
   "metadata": {
    "_kg_hide-input": true,
    "execution": {
     "iopub.execute_input": "2025-05-07T11:20:59.376504Z",
     "iopub.status.busy": "2025-05-07T11:20:59.375256Z",
     "iopub.status.idle": "2025-05-07T11:20:59.384209Z",
     "shell.execute_reply": "2025-05-07T11:20:59.383237Z"
    },
    "papermill": {
     "duration": 0.025583,
     "end_time": "2025-05-07T11:20:59.385947",
     "exception": false,
     "start_time": "2025-05-07T11:20:59.360364",
     "status": "completed"
    },
    "tags": []
   },
   "outputs": [],
   "source": [
    "def plot_weights(weights, title):\n",
    "    sorted_indices = np.argsort(weights[0])[::-1]\n",
    "    sorted_coeffs = np.array(weights[0])[sorted_indices]\n",
    "    sorted_model_names = np.array(list(oof_preds.keys()))[sorted_indices]\n",
    "\n",
    "    plt.figure(figsize=(10, weights.shape[1] * 0.5))\n",
    "    ax = sns.barplot(x=sorted_coeffs, y=sorted_model_names, palette=\"RdYlGn_r\")\n",
    "\n",
    "    for i, (value, name) in enumerate(zip(sorted_coeffs, sorted_model_names)):\n",
    "        if value >= 0:\n",
    "            ax.text(value, i, f\"{value:.3f}\", va=\"center\", ha=\"left\", color=\"black\")\n",
    "        else:\n",
    "            ax.text(value, i, f\"{value:.3f}\", va=\"center\", ha=\"right\", color=\"black\")\n",
    "\n",
    "    xlim = ax.get_xlim()\n",
    "    ax.set_xlim(xlim[0] - 0.1 * abs(xlim[0]), xlim[1] + 0.1 * abs(xlim[1]))\n",
    "\n",
    "    plt.title(title)\n",
    "    plt.xlabel(\"\")\n",
    "    plt.ylabel(\"\")\n",
    "    plt.tight_layout()\n",
    "    plt.show()"
   ]
  },
  {
   "cell_type": "code",
   "execution_count": 20,
   "id": "6f49495e",
   "metadata": {
    "execution": {
     "iopub.execute_input": "2025-05-07T11:20:59.416250Z",
     "iopub.status.busy": "2025-05-07T11:20:59.415737Z",
     "iopub.status.idle": "2025-05-07T11:20:59.438308Z",
     "shell.execute_reply": "2025-05-07T11:20:59.437005Z"
    },
    "papermill": {
     "duration": 0.039042,
     "end_time": "2025-05-07T11:20:59.439982",
     "exception": false,
     "start_time": "2025-05-07T11:20:59.400940",
     "status": "completed"
    },
    "tags": []
   },
   "outputs": [],
   "source": [
    "X = pd.DataFrame(oof_preds)\n",
    "X_test = pd.DataFrame(test_preds)"
   ]
  },
  {
   "cell_type": "code",
   "execution_count": 21,
   "id": "1265e68a",
   "metadata": {
    "execution": {
     "iopub.execute_input": "2025-05-07T11:20:59.469168Z",
     "iopub.status.busy": "2025-05-07T11:20:59.468761Z",
     "iopub.status.idle": "2025-05-07T11:20:59.530376Z",
     "shell.execute_reply": "2025-05-07T11:20:59.529043Z"
    },
    "papermill": {
     "duration": 0.078249,
     "end_time": "2025-05-07T11:20:59.532202",
     "exception": false,
     "start_time": "2025-05-07T11:20:59.453953",
     "status": "completed"
    },
    "tags": []
   },
   "outputs": [
    {
     "data": {
      "text/plain": [
       "['test_preds.pkl']"
      ]
     },
     "execution_count": 21,
     "metadata": {},
     "output_type": "execute_result"
    }
   ],
   "source": [
    "joblib.dump(X, \"oof_preds.pkl\")\n",
    "joblib.dump(X_test, \"test_preds.pkl\")"
   ]
  },
  {
   "cell_type": "code",
   "execution_count": 22,
   "id": "3362e4ba",
   "metadata": {
    "_kg_hide-output": true,
    "execution": {
     "iopub.execute_input": "2025-05-07T11:20:59.562127Z",
     "iopub.status.busy": "2025-05-07T11:20:59.561796Z",
     "iopub.status.idle": "2025-05-07T11:25:31.511864Z",
     "shell.execute_reply": "2025-05-07T11:25:31.510824Z"
    },
    "papermill": {
     "duration": 271.967196,
     "end_time": "2025-05-07T11:25:31.513707",
     "exception": false,
     "start_time": "2025-05-07T11:20:59.546511",
     "status": "completed"
    },
    "scrolled": true,
    "tags": []
   },
   "outputs": [
    {
     "name": "stderr",
     "output_type": "stream",
     "text": [
      "[I 2025-05-07 11:20:59,566] A new study created in memory with name: no-name-800f19ad-0f7e-4c84-9529-dc22bc1c33ff\n",
      "[I 2025-05-07 11:21:03,891] Trial 0 finished with value: 0.05898626077406597 and parameters: {'alpha': 3.695035419573236, 'tol': 0.006121346632920387}. Best is trial 0 with value: 0.05898626077406597.\n",
      "[I 2025-05-07 11:21:04,054] Trial 3 finished with value: 0.058988453570405455 and parameters: {'alpha': 7.060791561794284, 'tol': 0.0015389258427765697}. Best is trial 0 with value: 0.05898626077406597.\n",
      "[I 2025-05-07 11:21:04,056] Trial 2 finished with value: 0.058986186285084674 and parameters: {'alpha': 3.5155686122681393, 'tol': 0.0013556193371131303}. Best is trial 2 with value: 0.058986186285084674.\n",
      "[I 2025-05-07 11:21:04,066] Trial 1 finished with value: 0.058986608106945594 and parameters: {'alpha': 4.404305778365327, 'tol': 0.001770140628054333}. Best is trial 2 with value: 0.058986186285084674.\n",
      "[I 2025-05-07 11:21:08,419] Trial 6 finished with value: 0.05898856469125067 and parameters: {'alpha': 7.196634650857878, 'tol': 0.0014962735748393773}. Best is trial 2 with value: 0.058986186285084674.\n",
      "[I 2025-05-07 11:21:08,427] Trial 4 finished with value: 0.05898628753045987 and parameters: {'alpha': 3.7563170043040017, 'tol': 0.00964198704700516}. Best is trial 2 with value: 0.058986186285084674.\n",
      "[I 2025-05-07 11:21:08,428] Trial 5 finished with value: 0.05898704317368042 and parameters: {'alpha': 5.137769015054992, 'tol': 0.0021491532422514706}. Best is trial 2 with value: 0.058986186285084674.\n",
      "[I 2025-05-07 11:21:08,429] Trial 7 finished with value: 0.058988989928672034 and parameters: {'alpha': 7.703418517412111, 'tol': 0.007318175703129482}. Best is trial 2 with value: 0.058986186285084674.\n",
      "[I 2025-05-07 11:21:12,793] Trial 9 finished with value: 0.058987790412154614 and parameters: {'alpha': 6.212082391098863, 'tol': 0.0030003234854568826}. Best is trial 2 with value: 0.058986186285084674.\n",
      "[I 2025-05-07 11:21:12,796] Trial 10 finished with value: 0.0589863412963084 and parameters: {'alpha': 3.875224362304767, 'tol': 0.007408041271095041}. Best is trial 2 with value: 0.058986186285084674.\n",
      "[I 2025-05-07 11:21:12,798] Trial 11 finished with value: 0.058986430671613674 and parameters: {'alpha': 0.16907861175271877, 'tol': 0.00867683432714729}. Best is trial 2 with value: 0.058986186285084674.\n",
      "[I 2025-05-07 11:21:12,821] Trial 8 finished with value: 0.05898730691067975 and parameters: {'alpha': 5.536652701468956, 'tol': 0.003674962938684653}. Best is trial 2 with value: 0.058986186285084674.\n",
      "[I 2025-05-07 11:21:17,024] Trial 14 finished with value: 0.058985867212250055 and parameters: {'alpha': 1.45581849475073, 'tol': 0.004847620621705039}. Best is trial 14 with value: 0.058985867212250055.\n",
      "[I 2025-05-07 11:21:17,183] Trial 15 finished with value: 0.05898617237928666 and parameters: {'alpha': 0.5599836965117966, 'tol': 0.002820846390445075}. Best is trial 14 with value: 0.058985867212250055.\n",
      "[I 2025-05-07 11:21:17,188] Trial 13 finished with value: 0.058986073094786394 and parameters: {'alpha': 0.758213773099524, 'tol': 0.0001950797418884113}. Best is trial 14 with value: 0.058985867212250055.\n",
      "[I 2025-05-07 11:21:17,202] Trial 12 finished with value: 0.05898613670366395 and parameters: {'alpha': 0.6267438327760084, 'tol': 0.00026128252804373097}. Best is trial 14 with value: 0.058985867212250055.\n",
      "[I 2025-05-07 11:21:21,266] Trial 19 finished with value: 0.05898618025611464 and parameters: {'alpha': 0.5458068913543688, 'tol': 0.005240904970011179}. Best is trial 14 with value: 0.058985867212250055.\n",
      "[I 2025-05-07 11:21:21,589] Trial 16 finished with value: 0.05898654944193834 and parameters: {'alpha': 0.024461946658528966, 'tol': 2.3502799575314927e-05}. Best is trial 14 with value: 0.058985867212250055.\n",
      "[I 2025-05-07 11:21:21,605] Trial 17 finished with value: 0.05898631182068387 and parameters: {'alpha': 0.3327835443792333, 'tol': 0.0056224638938451015}. Best is trial 14 with value: 0.058985867212250055.\n",
      "[I 2025-05-07 11:21:21,607] Trial 18 finished with value: 0.05898599652500156 and parameters: {'alpha': 0.9466945721014453, 'tol': 0.005859030285001133}. Best is trial 14 with value: 0.058985867212250055.\n",
      "[I 2025-05-07 11:21:25,457] Trial 20 finished with value: 0.058985835254803456 and parameters: {'alpha': 1.832802486648205, 'tol': 0.0038648555809684152}. Best is trial 20 with value: 0.058985835254803456.\n",
      "[I 2025-05-07 11:21:25,987] Trial 22 finished with value: 0.05898583649985335 and parameters: {'alpha': 2.004543726284026, 'tol': 0.006746844376156469}. Best is trial 20 with value: 0.058985835254803456.\n",
      "[I 2025-05-07 11:21:25,992] Trial 21 finished with value: 0.05899061860376222 and parameters: {'alpha': 9.509691642669141, 'tol': 0.004968692659111582}. Best is trial 20 with value: 0.058985835254803456.\n",
      "[I 2025-05-07 11:21:25,999] Trial 23 finished with value: 0.05899103265346507 and parameters: {'alpha': 9.945346657481299, 'tol': 0.003208583728889979}. Best is trial 20 with value: 0.058985835254803456.\n",
      "[I 2025-05-07 11:21:29,798] Trial 24 finished with value: 0.05898588433307295 and parameters: {'alpha': 2.4717953681264904, 'tol': 0.005236753277385009}. Best is trial 20 with value: 0.058985835254803456.\n",
      "[I 2025-05-07 11:21:30,096] Trial 27 finished with value: 0.05898589830576408 and parameters: {'alpha': 2.5506409611916476, 'tol': 0.0037270080315860575}. Best is trial 20 with value: 0.058985835254803456.\n",
      "[I 2025-05-07 11:21:30,471] Trial 26 finished with value: 0.058985911683892264 and parameters: {'alpha': 2.618893341060155, 'tol': 0.0033336053135684853}. Best is trial 20 with value: 0.058985835254803456.\n",
      "[I 2025-05-07 11:21:30,492] Trial 25 finished with value: 0.058985865909263926 and parameters: {'alpha': 2.349570929058954, 'tol': 0.00457639840663507}. Best is trial 20 with value: 0.058985835254803456.\n",
      "[I 2025-05-07 11:21:34,057] Trial 28 finished with value: 0.05898589429702418 and parameters: {'alpha': 2.5289237657945813, 'tol': 0.004234733555747349}. Best is trial 20 with value: 0.058985835254803456.\n",
      "[I 2025-05-07 11:21:34,590] Trial 29 finished with value: 0.05898589809967099 and parameters: {'alpha': 2.54954018676979, 'tol': 0.0036691570669849455}. Best is trial 20 with value: 0.058985835254803456.\n",
      "[I 2025-05-07 11:21:34,755] Trial 30 finished with value: 0.05898585226325796 and parameters: {'alpha': 2.2342330541842395, 'tol': 0.007387955020207403}. Best is trial 20 with value: 0.058985835254803456.\n",
      "[I 2025-05-07 11:21:34,786] Trial 31 finished with value: 0.058986662579683116 and parameters: {'alpha': 4.503131985048129, 'tol': 0.00596921265659661}. Best is trial 20 with value: 0.058985835254803456.\n",
      "[I 2025-05-07 11:21:38,016] Trial 32 finished with value: 0.058986675892330954 and parameters: {'alpha': 4.526913713897091, 'tol': 0.006182017221818733}. Best is trial 20 with value: 0.058985835254803456.\n",
      "[I 2025-05-07 11:21:38,715] Trial 33 finished with value: 0.05898617854788539 and parameters: {'alpha': 3.4960676080205078, 'tol': 0.006900155216526658}. Best is trial 20 with value: 0.058985835254803456.\n",
      "[I 2025-05-07 11:21:39,197] Trial 34 finished with value: 0.058985867208087836 and parameters: {'alpha': 2.3591506375983067, 'tol': 0.007479892518659635}. Best is trial 20 with value: 0.058985835254803456.\n",
      "[I 2025-05-07 11:21:39,247] Trial 35 finished with value: 0.05898590971656985 and parameters: {'alpha': 2.6092201993461948, 'tol': 0.00825971002938685}. Best is trial 20 with value: 0.058985835254803456.\n",
      "[I 2025-05-07 11:21:42,192] Trial 36 finished with value: 0.05898583618531304 and parameters: {'alpha': 1.797172063508013, 'tol': 0.00710506566361038}. Best is trial 20 with value: 0.058985835254803456.\n",
      "[I 2025-05-07 11:21:43,549] Trial 37 finished with value: 0.058985835555202384 and parameters: {'alpha': 1.8194254547888176, 'tol': 0.007471907557870684}. Best is trial 20 with value: 0.058985835254803456.\n",
      "[I 2025-05-07 11:21:43,552] Trial 39 finished with value: 0.05898585697124935 and parameters: {'alpha': 2.277709848785864, 'tol': 0.0065782791403973745}. Best is trial 20 with value: 0.058985835254803456.\n",
      "[I 2025-05-07 11:21:43,553] Trial 38 finished with value: 0.05898584357655408 and parameters: {'alpha': 1.6620969485859347, 'tol': 0.008840173851929622}. Best is trial 20 with value: 0.058985835254803456.\n",
      "[I 2025-05-07 11:21:46,486] Trial 40 finished with value: 0.058985845960516835 and parameters: {'alpha': 1.6333184704531034, 'tol': 0.007216028691614093}. Best is trial 20 with value: 0.058985835254803456.\n",
      "[I 2025-05-07 11:21:47,722] Trial 43 finished with value: 0.05898653340619263 and parameters: {'alpha': 0.04306923582804001, 'tol': 0.0067719630896964636}. Best is trial 20 with value: 0.058985835254803456.\n",
      "[I 2025-05-07 11:21:47,887] Trial 42 finished with value: 0.05898597299111282 and parameters: {'alpha': 1.0144839005885267, 'tol': 0.00752972478070244}. Best is trial 20 with value: 0.058985835254803456.\n",
      "[I 2025-05-07 11:21:47,906] Trial 41 finished with value: 0.05898595840966181 and parameters: {'alpha': 1.0597552664982857, 'tol': 0.008266894036201107}. Best is trial 20 with value: 0.058985835254803456.\n",
      "[I 2025-05-07 11:21:50,698] Trial 44 finished with value: 0.05898592086305202 and parameters: {'alpha': 1.1919932557547663, 'tol': 0.009706782861561226}. Best is trial 20 with value: 0.058985835254803456.\n",
      "[I 2025-05-07 11:21:52,148] Trial 47 finished with value: 0.05898583650142476 and parameters: {'alpha': 2.0045896413135376, 'tol': 0.00940654899017847}. Best is trial 20 with value: 0.058985835254803456.\n",
      "[I 2025-05-07 11:21:52,152] Trial 46 finished with value: 0.058989071721549914 and parameters: {'alpha': 7.798784169065806, 'tol': 0.009870540165638566}. Best is trial 20 with value: 0.058985835254803456.\n",
      "[I 2025-05-07 11:21:52,174] Trial 45 finished with value: 0.058985836566646174 and parameters: {'alpha': 1.7859091389853334, 'tol': 0.009977861020181396}. Best is trial 20 with value: 0.058985835254803456.\n",
      "[I 2025-05-07 11:21:54,936] Trial 48 finished with value: 0.0589870453089917 and parameters: {'alpha': 5.141110425782089, 'tol': 0.009290998957535008}. Best is trial 20 with value: 0.058985835254803456.\n",
      "[I 2025-05-07 11:21:56,477] Trial 49 finished with value: 0.05898654119947393 and parameters: {'alpha': 4.279276962987244, 'tol': 0.008983246961623162}. Best is trial 20 with value: 0.058985835254803456.\n",
      "[I 2025-05-07 11:21:56,495] Trial 50 finished with value: 0.058985958955002006 and parameters: {'alpha': 2.824702915291279, 'tol': 0.009735317910540508}. Best is trial 20 with value: 0.058985835254803456.\n",
      "[I 2025-05-07 11:21:56,501] Trial 51 finished with value: 0.058986787931260144 and parameters: {'alpha': 4.721884221472993, 'tol': 0.008997002595980772}. Best is trial 20 with value: 0.058985835254803456.\n",
      "[I 2025-05-07 11:21:58,893] Trial 52 finished with value: 0.058985991061398846 and parameters: {'alpha': 2.9445040024107296, 'tol': 0.008851930406381065}. Best is trial 20 with value: 0.058985835254803456.\n",
      "[I 2025-05-07 11:22:00,565] Trial 54 finished with value: 0.05898603665050879 and parameters: {'alpha': 0.8428244463006987, 'tol': 0.009963899520534742}. Best is trial 20 with value: 0.058985835254803456.\n",
      "[I 2025-05-07 11:22:01,185] Trial 53 finished with value: 0.05898588387375496 and parameters: {'alpha': 2.4690385900402356, 'tol': 0.008202769198640662}. Best is trial 20 with value: 0.058985835254803456.\n",
      "[I 2025-05-07 11:22:01,199] Trial 55 finished with value: 0.0589858356416834 and parameters: {'alpha': 1.97571023638324, 'tol': 0.009696364644030352}. Best is trial 20 with value: 0.058985835254803456.\n",
      "[I 2025-05-07 11:22:03,552] Trial 56 finished with value: 0.058986000619881185 and parameters: {'alpha': 0.9354746020812423, 'tol': 0.009578866589540479}. Best is trial 20 with value: 0.058985835254803456.\n",
      "[I 2025-05-07 11:22:04,820] Trial 57 finished with value: 0.05898584192596944 and parameters: {'alpha': 2.111925123497877, 'tol': 0.009476400288799005}. Best is trial 20 with value: 0.058985835254803456.\n",
      "[I 2025-05-07 11:22:05,153] Trial 59 finished with value: 0.058990231885827527 and parameters: {'alpha': 9.095624843378591, 'tol': 0.0007178135311832253}. Best is trial 20 with value: 0.058985835254803456.\n",
      "[I 2025-05-07 11:22:05,491] Trial 58 finished with value: 0.05898587996385696 and parameters: {'alpha': 2.445066218321706, 'tol': 0.009957918245164812}. Best is trial 20 with value: 0.058985835254803456.\n",
      "[I 2025-05-07 11:22:07,867] Trial 60 finished with value: 0.05898590955153023 and parameters: {'alpha': 2.6084034513275207, 'tol': 0.00626151779654752}. Best is trial 20 with value: 0.058985835254803456.\n",
      "[I 2025-05-07 11:22:09,130] Trial 61 finished with value: 0.05898607740998121 and parameters: {'alpha': 3.22149644372741, 'tol': 0.0007787421792394434}. Best is trial 20 with value: 0.058985835254803456.\n",
      "[I 2025-05-07 11:22:09,408] Trial 62 finished with value: 0.05898584585530675 and parameters: {'alpha': 1.6345186161130396, 'tol': 0.006678947647088845}. Best is trial 20 with value: 0.058985835254803456.\n",
      "[I 2025-05-07 11:22:10,038] Trial 63 finished with value: 0.05898604757061322 and parameters: {'alpha': 3.1315321482253626, 'tol': 5.9518675846411545e-05}. Best is trial 20 with value: 0.058985835254803456.\n",
      "[I 2025-05-07 11:22:12,149] Trial 64 finished with value: 0.05898591064382551 and parameters: {'alpha': 2.6137937566736773, 'tol': 0.009961748829172376}. Best is trial 20 with value: 0.058985835254803456.\n",
      "[I 2025-05-07 11:22:13,241] Trial 65 finished with value: 0.05898584419020343 and parameters: {'alpha': 1.65434569784576, 'tol': 0.009700673518451903}. Best is trial 20 with value: 0.058985835254803456.\n",
      "[I 2025-05-07 11:22:13,679] Trial 66 finished with value: 0.05898588672244883 and parameters: {'alpha': 2.4859481792313964, 'tol': 0.008796322630775616}. Best is trial 20 with value: 0.058985835254803456.\n",
      "[I 2025-05-07 11:22:14,312] Trial 67 finished with value: 0.0589858982043278 and parameters: {'alpha': 2.550099383715794, 'tol': 0.009627615152317635}. Best is trial 20 with value: 0.058985835254803456.\n",
      "[I 2025-05-07 11:22:16,388] Trial 68 finished with value: 0.05898603439903115 and parameters: {'alpha': 0.8483263336480809, 'tol': 0.008376064995668328}. Best is trial 20 with value: 0.058985835254803456.\n",
      "[I 2025-05-07 11:22:17,680] Trial 69 finished with value: 0.05898604259996869 and parameters: {'alpha': 0.8284509948764653, 'tol': 0.0040180572310070045}. Best is trial 20 with value: 0.058985835254803456.\n",
      "[I 2025-05-07 11:22:18,134] Trial 70 finished with value: 0.05898611735683882 and parameters: {'alpha': 0.6648804543656188, 'tol': 0.004078980376579744}. Best is trial 20 with value: 0.058985835254803456.\n",
      "[I 2025-05-07 11:22:18,585] Trial 71 finished with value: 0.05898586317461826 and parameters: {'alpha': 1.4832568746296722, 'tol': 0.0024232149748863573}. Best is trial 20 with value: 0.058985835254803456.\n",
      "[I 2025-05-07 11:22:20,470] Trial 72 finished with value: 0.058986512923325 and parameters: {'alpha': 0.06722781477309248, 'tol': 0.0038185510006707416}. Best is trial 20 with value: 0.058985835254803456.\n",
      "[I 2025-05-07 11:22:21,932] Trial 73 finished with value: 0.05898583469726852 and parameters: {'alpha': 1.8738192246821925, 'tol': 0.007260748551639892}. Best is trial 73 with value: 0.05898583469726852.\n",
      "[I 2025-05-07 11:22:22,387] Trial 74 finished with value: 0.05898594675119671 and parameters: {'alpha': 2.775585706334025, 'tol': 0.007894491243905967}. Best is trial 73 with value: 0.05898583469726852.\n",
      "[I 2025-05-07 11:22:22,834] Trial 75 finished with value: 0.05898584362472984 and parameters: {'alpha': 2.136116810159635, 'tol': 0.007904205915925118}. Best is trial 73 with value: 0.05898583469726852.\n",
      "[I 2025-05-07 11:22:24,990] Trial 76 finished with value: 0.058985844458948486 and parameters: {'alpha': 2.147179278546404, 'tol': 0.0077188997906509765}. Best is trial 73 with value: 0.05898583469726852.\n",
      "[I 2025-05-07 11:22:26,265] Trial 77 finished with value: 0.05898589251406948 and parameters: {'alpha': 2.519047695523086, 'tol': 0.006344444081187824}. Best is trial 73 with value: 0.05898583469726852.\n",
      "[I 2025-05-07 11:22:26,730] Trial 78 finished with value: 0.05898583474517345 and parameters: {'alpha': 1.9232687493808842, 'tol': 0.007336596151025383}. Best is trial 73 with value: 0.05898583469726852.\n",
      "[I 2025-05-07 11:22:27,186] Trial 79 finished with value: 0.058985872683538484 and parameters: {'alpha': 2.3976807501508204, 'tol': 0.006561507350882105}. Best is trial 73 with value: 0.05898583469726852.\n",
      "[I 2025-05-07 11:22:29,325] Trial 80 finished with value: 0.058985882211945465 and parameters: {'alpha': 2.458962729776904, 'tol': 0.005889258568504125}. Best is trial 73 with value: 0.05898583469726852.\n",
      "[I 2025-05-07 11:22:30,624] Trial 81 finished with value: 0.058985861235378634 and parameters: {'alpha': 1.4971610875684545, 'tol': 0.006068855923449853}. Best is trial 73 with value: 0.05898583469726852.\n",
      "[I 2025-05-07 11:22:30,954] Trial 82 finished with value: 0.05898594048399262 and parameters: {'alpha': 1.1196520021073115, 'tol': 0.006331665518166571}. Best is trial 73 with value: 0.05898583469726852.\n",
      "[I 2025-05-07 11:22:31,627] Trial 83 finished with value: 0.05898585177704148 and parameters: {'alpha': 1.574169576053266, 'tol': 0.007229421213197083}. Best is trial 73 with value: 0.05898583469726852.\n",
      "[I 2025-05-07 11:22:33,653] Trial 84 finished with value: 0.05898609345658534 and parameters: {'alpha': 0.7141395540436062, 'tol': 0.007623483327711457}. Best is trial 73 with value: 0.05898583469726852.\n",
      "[I 2025-05-07 11:22:34,913] Trial 85 finished with value: 0.05898653760967245 and parameters: {'alpha': 0.038166139063883886, 'tol': 0.007529835413752379}. Best is trial 73 with value: 0.05898583469726852.\n",
      "[I 2025-05-07 11:22:35,385] Trial 86 finished with value: 0.05898656380171539 and parameters: {'alpha': 0.008019318333186476, 'tol': 0.008565285126164288}. Best is trial 73 with value: 0.05898583469726852.\n",
      "[I 2025-05-07 11:22:36,053] Trial 87 finished with value: 0.05898639120664902 and parameters: {'alpha': 0.22103322189396302, 'tol': 0.007710684653442237}. Best is trial 73 with value: 0.05898583469726852.\n",
      "[I 2025-05-07 11:22:37,964] Trial 88 finished with value: 0.0589880484961279 and parameters: {'alpha': 6.551065454828505, 'tol': 0.004685507226256366}. Best is trial 73 with value: 0.05898583469726852.\n",
      "[I 2025-05-07 11:22:39,176] Trial 89 finished with value: 0.058986024220496217 and parameters: {'alpha': 3.057258219216883, 'tol': 0.007554776673393309}. Best is trial 73 with value: 0.05898583469726852.\n",
      "[I 2025-05-07 11:22:39,903] Trial 90 finished with value: 0.05898678155081294 and parameters: {'alpha': 4.711012882196846, 'tol': 0.0038967502037006597}. Best is trial 73 with value: 0.05898583469726852.\n",
      "[I 2025-05-07 11:22:40,314] Trial 91 finished with value: 0.05898583465777089 and parameters: {'alpha': 1.9104304246288237, 'tol': 0.00748786498404036}. Best is trial 91 with value: 0.05898583465777089.\n",
      "[I 2025-05-07 11:22:42,478] Trial 92 finished with value: 0.05898603304599563 and parameters: {'alpha': 3.0857746733086833, 'tol': 0.007029165371081389}. Best is trial 91 with value: 0.05898583465777089.\n",
      "[I 2025-05-07 11:22:43,347] Trial 93 finished with value: 0.058986485127112895 and parameters: {'alpha': 4.1709968722566435, 'tol': 0.00395400735571048}. Best is trial 91 with value: 0.05898583465777089.\n",
      "[I 2025-05-07 11:22:44,034] Trial 94 finished with value: 0.05898596121827402 and parameters: {'alpha': 2.8335698063526, 'tol': 0.00975590913247258}. Best is trial 91 with value: 0.05898583465777089.\n",
      "[I 2025-05-07 11:22:44,647] Trial 95 finished with value: 0.05898589816215938 and parameters: {'alpha': 2.549874120801325, 'tol': 0.007600246859947344}. Best is trial 91 with value: 0.05898583465777089.\n",
      "[I 2025-05-07 11:22:46,946] Trial 96 finished with value: 0.058985834817656214 and parameters: {'alpha': 1.8605744158292967, 'tol': 0.007724569203585652}. Best is trial 91 with value: 0.05898583465777089.\n",
      "[I 2025-05-07 11:22:47,477] Trial 97 finished with value: 0.05898583465461162 and parameters: {'alpha': 1.9097525960835937, 'tol': 0.007275805693296804}. Best is trial 97 with value: 0.05898583465461162.\n",
      "[I 2025-05-07 11:22:48,532] Trial 98 finished with value: 0.05898585982479678 and parameters: {'alpha': 1.5076117871421186, 'tol': 0.007747109909166178}. Best is trial 97 with value: 0.05898583465461162.\n",
      "[I 2025-05-07 11:22:48,924] Trial 99 finished with value: 0.05898583668795663 and parameters: {'alpha': 2.0099120015888245, 'tol': 0.00745559683185485}. Best is trial 97 with value: 0.05898583465461162.\n",
      "[I 2025-05-07 11:22:51,462] Trial 100 finished with value: 0.05898584770661726 and parameters: {'alpha': 1.614181724094363, 'tol': 0.006910808730901262}. Best is trial 97 with value: 0.05898583465461162.\n",
      "[I 2025-05-07 11:22:51,816] Trial 101 finished with value: 0.058985858409956 and parameters: {'alpha': 1.5184063861981199, 'tol': 0.0068279070996499335}. Best is trial 97 with value: 0.05898583465461162.\n",
      "[I 2025-05-07 11:22:52,887] Trial 102 finished with value: 0.058985847051833316 and parameters: {'alpha': 2.178930367984568, 'tol': 0.006945160898728557}. Best is trial 97 with value: 0.05898583465461162.\n",
      "[I 2025-05-07 11:22:53,142] Trial 103 finished with value: 0.058985840660100944 and parameters: {'alpha': 1.7033575435047283, 'tol': 0.0058414982228317085}. Best is trial 97 with value: 0.05898583465461162.\n",
      "[I 2025-05-07 11:22:55,821] Trial 104 finished with value: 0.05898621532125718 and parameters: {'alpha': 3.5872212825254013, 'tol': 0.007062059090653706}. Best is trial 97 with value: 0.05898583465461162.\n",
      "[I 2025-05-07 11:22:56,101] Trial 105 finished with value: 0.0589861318813326 and parameters: {'alpha': 3.374328394748285, 'tol': 0.0066914068585437565}. Best is trial 97 with value: 0.05898583465461162.\n",
      "[I 2025-05-07 11:22:57,553] Trial 106 finished with value: 0.058986248996791314 and parameters: {'alpha': 3.6675691861355366, 'tol': 0.007984955584262345}. Best is trial 97 with value: 0.05898583465461162.\n",
      "[I 2025-05-07 11:22:57,559] Trial 107 finished with value: 0.05898646258918396 and parameters: {'alpha': 4.126473842091903, 'tol': 0.007638135545607746}. Best is trial 97 with value: 0.05898583465461162.\n",
      "[I 2025-05-07 11:22:59,765] Trial 108 finished with value: 0.058985857449357734 and parameters: {'alpha': 2.2818678654954345, 'tol': 0.00831333383482177}. Best is trial 97 with value: 0.05898583465461162.\n",
      "[I 2025-05-07 11:23:00,388] Trial 109 finished with value: 0.05898587846911474 and parameters: {'alpha': 1.3876590940394555, 'tol': 0.007754543408572647}. Best is trial 97 with value: 0.05898583465461162.\n",
      "[I 2025-05-07 11:23:01,965] Trial 111 finished with value: 0.058985834978476884 and parameters: {'alpha': 1.9428212505489482, 'tol': 0.008236024508255887}. Best is trial 97 with value: 0.05898583465461162.\n",
      "[I 2025-05-07 11:23:01,966] Trial 110 finished with value: 0.05898586984478714 and parameters: {'alpha': 1.4388842201013117, 'tol': 0.008109765534934876}. Best is trial 97 with value: 0.05898583465461162.\n",
      "[I 2025-05-07 11:23:04,221] Trial 112 finished with value: 0.05898583908448436 and parameters: {'alpha': 2.064195254683245, 'tol': 0.007801592286250272}. Best is trial 97 with value: 0.05898583465461162.\n",
      "[I 2025-05-07 11:23:04,758] Trial 113 finished with value: 0.05898607499464677 and parameters: {'alpha': 3.2143980418944746, 'tol': 0.005071360556380024}. Best is trial 97 with value: 0.05898583465461162.\n",
      "[I 2025-05-07 11:23:06,310] Trial 114 finished with value: 0.05898587740567581 and parameters: {'alpha': 2.4288538175576893, 'tol': 0.007838107283252606}. Best is trial 97 with value: 0.05898583465461162.\n",
      "[I 2025-05-07 11:23:06,915] Trial 115 finished with value: 0.058985864505634145 and parameters: {'alpha': 1.4739986273513126, 'tol': 0.00828144918130801}. Best is trial 97 with value: 0.05898583465461162.\n",
      "[I 2025-05-07 11:23:08,638] Trial 116 finished with value: 0.05898586020000043 and parameters: {'alpha': 1.5048027039541445, 'tol': 0.008194779939579497}. Best is trial 97 with value: 0.05898583465461162.\n",
      "[I 2025-05-07 11:23:08,906] Trial 117 finished with value: 0.058985840027485525 and parameters: {'alpha': 2.0813530718553266, 'tol': 0.00800504918000586}. Best is trial 97 with value: 0.05898583465461162.\n",
      "[I 2025-05-07 11:23:10,753] Trial 118 finished with value: 0.05898586287024532 and parameters: {'alpha': 1.4854056782537188, 'tol': 0.008553776207598627}. Best is trial 97 with value: 0.05898583465461162.\n",
      "[I 2025-05-07 11:23:11,203] Trial 119 finished with value: 0.05898584383262999 and parameters: {'alpha': 1.6588301509197576, 'tol': 0.00848307209778126}. Best is trial 97 with value: 0.05898583465461162.\n",
      "[I 2025-05-07 11:23:12,924] Trial 120 finished with value: 0.058986114965273506 and parameters: {'alpha': 0.6696985320621256, 'tol': 0.006145926803526597}. Best is trial 97 with value: 0.05898583465461162.\n",
      "[I 2025-05-07 11:23:13,397] Trial 121 finished with value: 0.058985863989218276 and parameters: {'alpha': 2.3350568370098364, 'tol': 0.0054615774329269005}. Best is trial 97 with value: 0.05898583465461162.\n",
      "[I 2025-05-07 11:23:14,916] Trial 122 finished with value: 0.058986163479613316 and parameters: {'alpha': 0.5762364673687719, 'tol': 0.005969588098889896}. Best is trial 97 with value: 0.05898583465461162.\n",
      "[I 2025-05-07 11:23:15,567] Trial 123 finished with value: 0.05898607494249297 and parameters: {'alpha': 0.754127395913226, 'tol': 0.00599445198135028}. Best is trial 97 with value: 0.05898583465461162.\n",
      "[I 2025-05-07 11:23:17,075] Trial 124 finished with value: 0.0589858560312115 and parameters: {'alpha': 1.5373407899675573, 'tol': 0.009835311236558767}. Best is trial 97 with value: 0.05898583465461162.\n",
      "[I 2025-05-07 11:23:17,988] Trial 125 finished with value: 0.05898597577934461 and parameters: {'alpha': 2.8890018969388107, 'tol': 0.009828853896993768}. Best is trial 97 with value: 0.05898583465461162.\n",
      "[I 2025-05-07 11:23:19,273] Trial 126 finished with value: 0.058986122286317576 and parameters: {'alpha': 3.348328502371939, 'tol': 0.009718334837964903}. Best is trial 97 with value: 0.05898583465461162.\n",
      "[I 2025-05-07 11:23:19,956] Trial 127 finished with value: 0.05898599573735257 and parameters: {'alpha': 0.9488708796487686, 'tol': 0.009876173334020983}. Best is trial 97 with value: 0.05898583465461162.\n",
      "[I 2025-05-07 11:23:21,394] Trial 128 finished with value: 0.05898627901490543 and parameters: {'alpha': 0.3822409630051029, 'tol': 0.009785724038809684}. Best is trial 97 with value: 0.05898583465461162.\n",
      "[I 2025-05-07 11:23:22,318] Trial 129 finished with value: 0.05898583466480214 and parameters: {'alpha': 1.9118386217851797, 'tol': 0.00988537736322119}. Best is trial 97 with value: 0.05898583465461162.\n",
      "[I 2025-05-07 11:23:23,577] Trial 130 finished with value: 0.05898784558095105 and parameters: {'alpha': 6.28562009768386, 'tol': 0.00020575416629113}. Best is trial 97 with value: 0.05898583465461162.\n",
      "[I 2025-05-07 11:23:24,456] Trial 131 finished with value: 0.05898588345143054 and parameters: {'alpha': 2.4664932223137805, 'tol': 0.008434247763244824}. Best is trial 97 with value: 0.05898583465461162.\n",
      "[I 2025-05-07 11:23:25,728] Trial 132 finished with value: 0.05898838160462326 and parameters: {'alpha': 6.9719646929616, 'tol': 0.0009026006439371509}. Best is trial 97 with value: 0.05898583465461162.\n",
      "[I 2025-05-07 11:23:26,613] Trial 133 finished with value: 0.0589858482915752 and parameters: {'alpha': 2.1929693837841824, 'tol': 0.007460779715704245}. Best is trial 97 with value: 0.05898583465461162.\n",
      "[I 2025-05-07 11:23:27,864] Trial 134 finished with value: 0.05898583500982143 and parameters: {'alpha': 1.8463743393145098, 'tol': 0.009781589267450291}. Best is trial 97 with value: 0.05898583465461162.\n",
      "[I 2025-05-07 11:23:28,523] Trial 135 finished with value: 0.05898583993927775 and parameters: {'alpha': 2.0798138074703063, 'tol': 0.0098375296034793}. Best is trial 97 with value: 0.05898583465461162.\n",
      "[I 2025-05-07 11:23:29,800] Trial 136 finished with value: 0.058985836591232 and parameters: {'alpha': 2.007183172852012, 'tol': 0.00937642022457594}. Best is trial 97 with value: 0.05898583465461162.\n",
      "[I 2025-05-07 11:23:30,658] Trial 137 finished with value: 0.05898583522970961 and parameters: {'alpha': 1.9573485237746608, 'tol': 0.009720427998599073}. Best is trial 97 with value: 0.05898583465461162.\n",
      "[I 2025-05-07 11:23:32,104] Trial 138 finished with value: 0.058985839397930076 and parameters: {'alpha': 2.070079764091471, 'tol': 0.00864077463251877}. Best is trial 97 with value: 0.05898583465461162.\n",
      "[I 2025-05-07 11:23:32,803] Trial 139 finished with value: 0.058985838352510665 and parameters: {'alpha': 2.0496078120019754, 'tol': 0.0026175064132096804}. Best is trial 97 with value: 0.05898583465461162.\n",
      "[I 2025-05-07 11:23:34,216] Trial 140 finished with value: 0.05898587334671694 and parameters: {'alpha': 2.402164419690254, 'tol': 0.004041610636378859}. Best is trial 97 with value: 0.05898583465461162.\n",
      "[I 2025-05-07 11:23:35,102] Trial 141 finished with value: 0.058985845789144356 and parameters: {'alpha': 2.163916144100514, 'tol': 0.00692439343967483}. Best is trial 97 with value: 0.05898583465461162.\n",
      "[I 2025-05-07 11:23:36,283] Trial 142 finished with value: 0.05898802033274812 and parameters: {'alpha': 6.514668974108859, 'tol': 0.007325840467850826}. Best is trial 97 with value: 0.05898583465461162.\n",
      "[I 2025-05-07 11:23:37,745] Trial 143 finished with value: 0.05898584274084896 and parameters: {'alpha': 2.1238370798055146, 'tol': 0.006680881798951699}. Best is trial 97 with value: 0.05898583465461162.\n",
      "[I 2025-05-07 11:23:38,432] Trial 144 finished with value: 0.058985960237910084 and parameters: {'alpha': 2.82973780109406, 'tol': 0.009866397732591247}. Best is trial 97 with value: 0.05898583465461162.\n",
      "[I 2025-05-07 11:23:39,102] Trial 145 finished with value: 0.058985849133792644 and parameters: {'alpha': 2.2021582827999073, 'tol': 0.00923366040715151}. Best is trial 97 with value: 0.05898583465461162.\n",
      "[I 2025-05-07 11:23:40,486] Trial 146 finished with value: 0.05898611007473896 and parameters: {'alpha': 3.314702842091979, 'tol': 0.00997589016727879}. Best is trial 97 with value: 0.05898583465461162.\n",
      "[I 2025-05-07 11:23:42,024] Trial 147 finished with value: 0.05899038692564866 and parameters: {'alpha': 9.262530862580348, 'tol': 0.007691845040272246}. Best is trial 97 with value: 0.05898583465461162.\n",
      "[I 2025-05-07 11:23:42,723] Trial 148 finished with value: 0.0589858630953423 and parameters: {'alpha': 1.4838153856685514, 'tol': 0.009673143682130203}. Best is trial 97 with value: 0.05898583465461162.\n",
      "[I 2025-05-07 11:23:43,457] Trial 149 finished with value: 0.058985834638107734 and parameters: {'alpha': 1.8854708656027896, 'tol': 0.00979309658430755}. Best is trial 149 with value: 0.058985834638107734.\n",
      "[I 2025-05-07 11:23:44,844] Trial 150 finished with value: 0.058985943834570495 and parameters: {'alpha': 1.1080552019879524, 'tol': 0.008890037594416283}. Best is trial 149 with value: 0.058985834638107734.\n",
      "[I 2025-05-07 11:23:46,384] Trial 151 finished with value: 0.058985912946421214 and parameters: {'alpha': 1.2237095152645563, 'tol': 0.009063286521212324}. Best is trial 149 with value: 0.058985834638107734.\n",
      "[I 2025-05-07 11:23:47,103] Trial 152 finished with value: 0.05898600186166345 and parameters: {'alpha': 0.9321028195261993, 'tol': 0.007787619311820966}. Best is trial 149 with value: 0.058985834638107734.\n",
      "[I 2025-05-07 11:23:47,829] Trial 153 finished with value: 0.05898597813634408 and parameters: {'alpha': 0.9991451758824372, 'tol': 0.00986174215771231}. Best is trial 149 with value: 0.058985834638107734.\n",
      "[I 2025-05-07 11:23:49,212] Trial 154 finished with value: 0.05898585582461759 and parameters: {'alpha': 1.5390359632709045, 'tol': 0.009551594942523091}. Best is trial 149 with value: 0.058985834638107734.\n",
      "[I 2025-05-07 11:23:50,932] Trial 155 finished with value: 0.058985927780376236 and parameters: {'alpha': 1.1655530143355346, 'tol': 0.009854644004458447}. Best is trial 149 with value: 0.058985834638107734.\n",
      "[I 2025-05-07 11:23:51,471] Trial 156 finished with value: 0.05898583572230896 and parameters: {'alpha': 1.8129278937879616, 'tol': 0.009791187721129574}. Best is trial 149 with value: 0.058985834638107734.\n",
      "[I 2025-05-07 11:23:52,178] Trial 157 finished with value: 0.058985988777435536 and parameters: {'alpha': 2.9363669452825167, 'tol': 0.008376977371978211}. Best is trial 149 with value: 0.058985834638107734.\n",
      "[I 2025-05-07 11:23:53,238] Trial 158 finished with value: 0.058986267710328055 and parameters: {'alpha': 3.7110677188938577, 'tol': 0.008634055454527289}. Best is trial 149 with value: 0.058985834638107734.\n",
      "[I 2025-05-07 11:23:55,272] Trial 159 finished with value: 0.058986275089268694 and parameters: {'alpha': 3.7280095721464184, 'tol': 0.00809148841492693}. Best is trial 149 with value: 0.058985834638107734.\n",
      "[I 2025-05-07 11:23:55,952] Trial 160 finished with value: 0.0589861189875442 and parameters: {'alpha': 3.3393055193324814, 'tol': 0.008996775438542702}. Best is trial 149 with value: 0.058985834638107734.\n",
      "[I 2025-05-07 11:23:56,401] Trial 161 finished with value: 0.05898600300258037 and parameters: {'alpha': 2.9862194435123226, 'tol': 0.008309554186208733}. Best is trial 149 with value: 0.058985834638107734.\n",
      "[I 2025-05-07 11:23:57,671] Trial 162 finished with value: 0.058985847384152204 and parameters: {'alpha': 1.61761172147571, 'tol': 0.007068617949739284}. Best is trial 149 with value: 0.058985834638107734.\n",
      "[I 2025-05-07 11:23:59,214] Trial 163 finished with value: 0.05898583895646178 and parameters: {'alpha': 1.732417633389732, 'tol': 0.006785132804101431}. Best is trial 149 with value: 0.058985834638107734.\n",
      "[I 2025-05-07 11:24:00,425] Trial 164 finished with value: 0.05898583684883676 and parameters: {'alpha': 2.014314793139797, 'tol': 0.008912963331505926}. Best is trial 149 with value: 0.058985834638107734.\n",
      "[I 2025-05-07 11:24:00,636] Trial 165 finished with value: 0.05898584073180879 and parameters: {'alpha': 2.0932279914148486, 'tol': 0.008892046912933589}. Best is trial 149 with value: 0.058985834638107734.\n",
      "[I 2025-05-07 11:24:02,021] Trial 166 finished with value: 0.05898583901705044 and parameters: {'alpha': 1.7312929900496705, 'tol': 0.008567928360550942}. Best is trial 149 with value: 0.058985834638107734.\n",
      "[I 2025-05-07 11:24:03,546] Trial 167 finished with value: 0.05898593796026652 and parameters: {'alpha': 1.1285204432203755, 'tol': 0.009944123700656338}. Best is trial 149 with value: 0.058985834638107734.\n",
      "[I 2025-05-07 11:24:04,953] Trial 168 finished with value: 0.05898584200868455 and parameters: {'alpha': 1.68324039004639, 'tol': 0.00974813159570383}. Best is trial 149 with value: 0.058985834638107734.\n",
      "[I 2025-05-07 11:24:04,954] Trial 169 finished with value: 0.05898584648370395 and parameters: {'alpha': 1.6274339401027313, 'tol': 0.009844014550942613}. Best is trial 149 with value: 0.058985834638107734.\n",
      "[I 2025-05-07 11:24:06,396] Trial 170 finished with value: 0.0589859560179923 and parameters: {'alpha': 1.0674573459021983, 'tol': 0.00754967504503158}. Best is trial 149 with value: 0.058985834638107734.\n",
      "[I 2025-05-07 11:24:08,566] Trial 171 finished with value: 0.0589859207411839 and parameters: {'alpha': 2.6620350070711765, 'tol': 0.0099061798246571}. Best is trial 149 with value: 0.058985834638107734.\n",
      "[I 2025-05-07 11:24:08,891] Trial 173 finished with value: 0.05898596232334139 and parameters: {'alpha': 2.8378733530267857, 'tol': 0.006578466634573704}. Best is trial 149 with value: 0.058985834638107734.\n",
      "[I 2025-05-07 11:24:09,513] Trial 172 finished with value: 0.058985893189078986 and parameters: {'alpha': 2.5228030736319593, 'tol': 0.009939697235953601}. Best is trial 149 with value: 0.058985834638107734.\n",
      "[I 2025-05-07 11:24:10,804] Trial 174 finished with value: 0.05898619412883693 and parameters: {'alpha': 3.5351577464007633, 'tol': 0.009966170681332471}. Best is trial 149 with value: 0.058985834638107734.\n",
      "[I 2025-05-07 11:24:12,951] Trial 175 finished with value: 0.05898583987181548 and parameters: {'alpha': 1.7161985752078341, 'tol': 0.00994264210553517}. Best is trial 149 with value: 0.058985834638107734.\n",
      "[I 2025-05-07 11:24:13,404] Trial 176 finished with value: 0.05898587257343492 and parameters: {'alpha': 2.3969327987535913, 'tol': 0.009820431229173702}. Best is trial 149 with value: 0.058985834638107734.\n",
      "[I 2025-05-07 11:24:13,859] Trial 177 finished with value: 0.05898583478707279 and parameters: {'alpha': 1.9276612928799906, 'tol': 0.008556208083679892}. Best is trial 149 with value: 0.058985834638107734.\n",
      "[I 2025-05-07 11:24:15,142] Trial 178 finished with value: 0.058985870866061704 and parameters: {'alpha': 1.432495171045238, 'tol': 0.009883432495071592}. Best is trial 149 with value: 0.058985834638107734.\n",
      "[I 2025-05-07 11:24:17,195] Trial 179 finished with value: 0.05898584367005823 and parameters: {'alpha': 2.1367303814167586, 'tol': 0.008191485552899625}. Best is trial 149 with value: 0.058985834638107734.\n",
      "[I 2025-05-07 11:24:17,480] Trial 180 finished with value: 0.05898583465244778 and parameters: {'alpha': 1.8817066682050363, 'tol': 0.007489432595589071}. Best is trial 149 with value: 0.058985834638107734.\n",
      "[I 2025-05-07 11:24:17,942] Trial 181 finished with value: 0.05898583516759781 and parameters: {'alpha': 1.9540898332976562, 'tol': 0.0073819109266426595}. Best is trial 149 with value: 0.058985834638107734.\n",
      "[I 2025-05-07 11:24:19,826] Trial 182 finished with value: 0.058985876287600304 and parameters: {'alpha': 1.4000709413298926, 'tol': 0.007288119680062018}. Best is trial 149 with value: 0.058985834638107734.\n",
      "[I 2025-05-07 11:24:21,217] Trial 183 finished with value: 0.058985943115065796 and parameters: {'alpha': 1.110528866733362, 'tol': 0.007347552903972326}. Best is trial 149 with value: 0.058985834638107734.\n",
      "[I 2025-05-07 11:24:21,827] Trial 184 finished with value: 0.058985834641780296 and parameters: {'alpha': 1.9065840137724233, 'tol': 0.0071961193548987085}. Best is trial 149 with value: 0.058985834638107734.\n",
      "[I 2025-05-07 11:24:22,174] Trial 185 finished with value: 0.05898586950536373 and parameters: {'alpha': 2.3756623917876816, 'tol': 0.0071200533837581115}. Best is trial 149 with value: 0.058985834638107734.\n",
      "[I 2025-05-07 11:24:24,030] Trial 186 finished with value: 0.05898587161837223 and parameters: {'alpha': 2.390401487530904, 'tol': 0.006479445369594141}. Best is trial 149 with value: 0.058985834638107734.\n",
      "[I 2025-05-07 11:24:25,569] Trial 187 finished with value: 0.05899106609027631 and parameters: {'alpha': 9.980216292309944, 'tol': 0.009802166686068368}. Best is trial 149 with value: 0.058985834638107734.\n",
      "[I 2025-05-07 11:24:26,046] Trial 188 finished with value: 0.0589858612918022 and parameters: {'alpha': 2.3138817644873217, 'tol': 0.007189749140419816}. Best is trial 149 with value: 0.058985834638107734.\n",
      "[I 2025-05-07 11:24:26,942] Trial 189 finished with value: 0.058985865586099515 and parameters: {'alpha': 2.347158247817422, 'tol': 0.007355045759554969}. Best is trial 149 with value: 0.058985834638107734.\n",
      "[I 2025-05-07 11:24:28,612] Trial 190 finished with value: 0.05898587282455323 and parameters: {'alpha': 2.3986371952310668, 'tol': 0.00761147413323375}. Best is trial 149 with value: 0.058985834638107734.\n",
      "[I 2025-05-07 11:24:29,862] Trial 191 finished with value: 0.0589858651762392 and parameters: {'alpha': 2.344081081938401, 'tol': 0.007391904490876984}. Best is trial 149 with value: 0.058985834638107734.\n",
      "[I 2025-05-07 11:24:30,152] Trial 192 finished with value: 0.05898622776041975 and parameters: {'alpha': 0.46408850814675606, 'tol': 0.007917831043143652}. Best is trial 149 with value: 0.058985834638107734.\n",
      "[I 2025-05-07 11:24:31,584] Trial 193 finished with value: 0.05898602683403177 and parameters: {'alpha': 0.8670742323165299, 'tol': 0.007786096906458302}. Best is trial 149 with value: 0.058985834638107734.\n",
      "[I 2025-05-07 11:24:32,883] Trial 194 finished with value: 0.05898588182826085 and parameters: {'alpha': 1.3691719761404513, 'tol': 0.005084486431225556}. Best is trial 149 with value: 0.058985834638107734.\n",
      "[I 2025-05-07 11:24:34,147] Trial 195 finished with value: 0.0589858652603664 and parameters: {'alpha': 1.4688449770414538, 'tol': 0.004661602867595187}. Best is trial 149 with value: 0.058985834638107734.\n",
      "[I 2025-05-07 11:24:34,447] Trial 196 finished with value: 0.058985912830428235 and parameters: {'alpha': 1.2241868371065543, 'tol': 0.006849323427481353}. Best is trial 149 with value: 0.058985834638107734.\n",
      "[I 2025-05-07 11:24:35,894] Trial 197 finished with value: 0.05898585405327058 and parameters: {'alpha': 2.2513511284131202, 'tol': 0.005923657488590173}. Best is trial 149 with value: 0.058985834638107734.\n",
      "[I 2025-05-07 11:24:37,167] Trial 198 finished with value: 0.05898583530746278 and parameters: {'alpha': 1.9612028212311752, 'tol': 0.005631614061457686}. Best is trial 149 with value: 0.058985834638107734.\n",
      "[I 2025-05-07 11:24:38,281] Trial 199 finished with value: 0.05898583721648619 and parameters: {'alpha': 2.0238216221114094, 'tol': 0.007107476682740581}. Best is trial 149 with value: 0.058985834638107734.\n",
      "[I 2025-05-07 11:24:38,871] Trial 200 finished with value: 0.05898592594360704 and parameters: {'alpha': 2.6858778232623384, 'tol': 0.007653548843070931}. Best is trial 149 with value: 0.058985834638107734.\n",
      "[I 2025-05-07 11:24:40,247] Trial 201 finished with value: 0.05898584251879739 and parameters: {'alpha': 2.1206512067779952, 'tol': 0.008197401529006599}. Best is trial 149 with value: 0.058985834638107734.\n",
      "[I 2025-05-07 11:24:41,595] Trial 202 finished with value: 0.05898605045086651 and parameters: {'alpha': 3.1404433497670254, 'tol': 0.005902077758772573}. Best is trial 149 with value: 0.058985834638107734.\n",
      "[I 2025-05-07 11:24:42,694] Trial 203 finished with value: 0.05898955393638102 and parameters: {'alpha': 8.349365861045397, 'tol': 0.005752271189815379}. Best is trial 149 with value: 0.058985834638107734.\n",
      "[I 2025-05-07 11:24:43,174] Trial 204 finished with value: 0.058985976456696565 and parameters: {'alpha': 2.891516816101576, 'tol': 0.0052127471042807665}. Best is trial 149 with value: 0.058985834638107734.\n",
      "[I 2025-05-07 11:24:44,677] Trial 205 finished with value: 0.058985895647963485 and parameters: {'alpha': 2.5363159281490284, 'tol': 0.005157313554068397}. Best is trial 149 with value: 0.058985834638107734.\n",
      "[I 2025-05-07 11:24:46,243] Trial 206 finished with value: 0.05898587542138818 and parameters: {'alpha': 1.4050947079903788, 'tol': 0.005814215192814146}. Best is trial 149 with value: 0.058985834638107734.\n",
      "[I 2025-05-07 11:24:46,942] Trial 207 finished with value: 0.05898604608046506 and parameters: {'alpha': 0.8201503176276919, 'tol': 0.006508156092375364}. Best is trial 149 with value: 0.058985834638107734.\n",
      "[I 2025-05-07 11:24:47,567] Trial 208 finished with value: 0.058985870918496344 and parameters: {'alpha': 1.4321697259680033, 'tol': 0.006685047386148723}. Best is trial 149 with value: 0.058985834638107734.\n",
      "[I 2025-05-07 11:24:49,260] Trial 209 finished with value: 0.05898588957899285 and parameters: {'alpha': 1.3290283797622933, 'tol': 0.006742897841055751}. Best is trial 149 with value: 0.058985834638107734.\n",
      "[I 2025-05-07 11:24:50,548] Trial 210 finished with value: 0.05898592274488514 and parameters: {'alpha': 1.1846893881167517, 'tol': 0.006942284404422708}. Best is trial 149 with value: 0.058985834638107734.\n",
      "[I 2025-05-07 11:24:51,274] Trial 211 finished with value: 0.058985840341913495 and parameters: {'alpha': 1.7084310770578848, 'tol': 0.007849895476638835}. Best is trial 149 with value: 0.058985834638107734.\n",
      "[I 2025-05-07 11:24:51,905] Trial 212 finished with value: 0.058985919744597014 and parameters: {'alpha': 1.1963753618543942, 'tol': 0.008166811715912953}. Best is trial 149 with value: 0.058985834638107734.\n",
      "[I 2025-05-07 11:24:53,444] Trial 213 finished with value: 0.058985843278053264 and parameters: {'alpha': 2.131373568596229, 'tol': 0.008317350887768546}. Best is trial 149 with value: 0.058985834638107734.\n",
      "[I 2025-05-07 11:24:54,875] Trial 214 finished with value: 0.05898587444586619 and parameters: {'alpha': 2.409516726541759, 'tol': 0.008619905408457827}. Best is trial 149 with value: 0.058985834638107734.\n",
      "[I 2025-05-07 11:24:55,740] Trial 215 finished with value: 0.05898587430940516 and parameters: {'alpha': 1.4116274424161226, 'tol': 0.008445908065662628}. Best is trial 149 with value: 0.058985834638107734.\n",
      "[I 2025-05-07 11:24:56,171] Trial 216 finished with value: 0.05898588200962014 and parameters: {'alpha': 2.457724828717295, 'tol': 0.008185935381934309}. Best is trial 149 with value: 0.058985834638107734.\n",
      "[I 2025-05-07 11:24:57,686] Trial 217 finished with value: 0.05898589847052858 and parameters: {'alpha': 2.551519806633221, 'tol': 0.009018018573971184}. Best is trial 149 with value: 0.058985834638107734.\n",
      "[I 2025-05-07 11:24:58,937] Trial 218 finished with value: 0.0589864399174342 and parameters: {'alpha': 4.081059828120454, 'tol': 0.007262518235734229}. Best is trial 149 with value: 0.058985834638107734.\n",
      "[I 2025-05-07 11:25:00,004] Trial 219 finished with value: 0.05898643971373531 and parameters: {'alpha': 0.15747392885074074, 'tol': 0.008860546405880874}. Best is trial 149 with value: 0.058985834638107734.\n",
      "[I 2025-05-07 11:25:00,446] Trial 220 finished with value: 0.058986432614501295 and parameters: {'alpha': 0.16657603398899834, 'tol': 0.0090397549785807}. Best is trial 149 with value: 0.058985834638107734.\n",
      "[I 2025-05-07 11:25:02,163] Trial 221 finished with value: 0.05898605055480242 and parameters: {'alpha': 3.1407639500963835, 'tol': 0.006399929935373753}. Best is trial 149 with value: 0.058985834638107734.\n",
      "[I 2025-05-07 11:25:03,434] Trial 222 finished with value: 0.058985912693300224 and parameters: {'alpha': 1.2247516299332157, 'tol': 0.008784230884915938}. Best is trial 149 with value: 0.058985834638107734.\n",
      "[I 2025-05-07 11:25:04,128] Trial 223 finished with value: 0.05898586921721784 and parameters: {'alpha': 2.3736201406252584, 'tol': 0.0030901384686725943}. Best is trial 149 with value: 0.058985834638107734.\n",
      "[I 2025-05-07 11:25:04,741] Trial 224 finished with value: 0.05898583491977697 and parameters: {'alpha': 1.9387366609850347, 'tol': 0.009957302891353674}. Best is trial 149 with value: 0.058985834638107734.\n",
      "[I 2025-05-07 11:25:06,456] Trial 225 finished with value: 0.058985836381418 and parameters: {'alpha': 2.0010264974494567, 'tol': 0.009987708779438697}. Best is trial 149 with value: 0.058985834638107734.\n",
      "[I 2025-05-07 11:25:07,960] Trial 226 finished with value: 0.05898583520302013 and parameters: {'alpha': 1.8354126380716527, 'tol': 0.009658335230798253}. Best is trial 149 with value: 0.058985834638107734.\n",
      "[I 2025-05-07 11:25:08,414] Trial 227 finished with value: 0.0589858868799815 and parameters: {'alpha': 2.4868705233179917, 'tol': 0.009836926540925326}. Best is trial 149 with value: 0.058985834638107734.\n",
      "[I 2025-05-07 11:25:08,745] Trial 228 finished with value: 0.058985892058309085 and parameters: {'alpha': 2.51650057927154, 'tol': 0.009826328250330647}. Best is trial 149 with value: 0.058985834638107734.\n",
      "[I 2025-05-07 11:25:10,502] Trial 229 finished with value: 0.058985871106247555 and parameters: {'alpha': 1.4310064369340325, 'tol': 0.009813707936721287}. Best is trial 149 with value: 0.058985834638107734.\n",
      "[I 2025-05-07 11:25:12,503] Trial 230 finished with value: 0.05898583988303809 and parameters: {'alpha': 2.07882586226719, 'tol': 0.009782071053710633}. Best is trial 149 with value: 0.058985834638107734.\n",
      "[I 2025-05-07 11:25:12,893] Trial 231 finished with value: 0.05898586246667672 and parameters: {'alpha': 2.323224238388213, 'tol': 0.00977197352725741}. Best is trial 149 with value: 0.058985834638107734.\n",
      "[I 2025-05-07 11:25:13,284] Trial 232 finished with value: 0.05898583518364855 and parameters: {'alpha': 1.954948848533514, 'tol': 0.00965949885003154}. Best is trial 149 with value: 0.058985834638107734.\n",
      "[I 2025-05-07 11:25:15,431] Trial 233 finished with value: 0.058985910139147654 and parameters: {'alpha': 1.2353712210340397, 'tol': 0.00985672504120596}. Best is trial 149 with value: 0.058985834638107734.\n",
      "[I 2025-05-07 11:25:17,364] Trial 235 finished with value: 0.058986089826857636 and parameters: {'alpha': 0.7218465813585226, 'tol': 0.009971175079911514}. Best is trial 149 with value: 0.058985834638107734.\n",
      "[I 2025-05-07 11:25:17,369] Trial 234 finished with value: 0.05898585330420299 and parameters: {'alpha': 1.560453321081741, 'tol': 0.009234978707748184}. Best is trial 149 with value: 0.058985834638107734.\n",
      "[I 2025-05-07 11:25:17,688] Trial 236 finished with value: 0.05898586878938324 and parameters: {'alpha': 1.4455903510723747, 'tol': 0.00981839119295808}. Best is trial 149 with value: 0.058985834638107734.\n",
      "[I 2025-05-07 11:25:19,738] Trial 237 finished with value: 0.05898587139638782 and parameters: {'alpha': 1.4292149591556376, 'tol': 0.009949817748092267}. Best is trial 149 with value: 0.058985834638107734.\n",
      "[I 2025-05-07 11:25:21,650] Trial 238 finished with value: 0.058985841958415365 and parameters: {'alpha': 2.1124114452300295, 'tol': 0.009914960812883317}. Best is trial 149 with value: 0.058985834638107734.\n",
      "[I 2025-05-07 11:25:22,131] Trial 239 finished with value: 0.05898602303141346 and parameters: {'alpha': 3.0533722743990035, 'tol': 0.008574141392253034}. Best is trial 149 with value: 0.058985834638107734.\n",
      "[I 2025-05-07 11:25:22,151] Trial 240 finished with value: 0.05898605723031207 and parameters: {'alpha': 3.161217743463572, 'tol': 0.008241542689591735}. Best is trial 149 with value: 0.058985834638107734.\n",
      "[I 2025-05-07 11:25:24,314] Trial 241 finished with value: 0.058985947333132824 and parameters: {'alpha': 2.7779808892867504, 'tol': 0.008624323613531281}. Best is trial 149 with value: 0.058985834638107734.\n",
      "[I 2025-05-07 11:25:25,885] Trial 242 finished with value: 0.058985984307737674 and parameters: {'alpha': 2.9202867666401944, 'tol': 0.008411697996704956}. Best is trial 149 with value: 0.058985834638107734.\n",
      "[I 2025-05-07 11:25:26,515] Trial 244 finished with value: 0.058985834655406265 and parameters: {'alpha': 1.9099260775439975, 'tol': 0.00812016340075217}. Best is trial 149 with value: 0.058985834638107734.\n",
      "[I 2025-05-07 11:25:26,538] Trial 243 finished with value: 0.058985966540287905 and parameters: {'alpha': 2.8541446363241985, 'tol': 0.008737656308431463}. Best is trial 149 with value: 0.058985834638107734.\n",
      "[I 2025-05-07 11:25:28,520] Trial 245 finished with value: 0.058985834768849846 and parameters: {'alpha': 1.8652331921348966, 'tol': 0.007859407468933663}. Best is trial 149 with value: 0.058985834638107734.\n",
      "[I 2025-05-07 11:25:30,385] Trial 246 finished with value: 0.058985864882359317 and parameters: {'alpha': 1.4714177323384319, 'tol': 0.008267357256359794}. Best is trial 149 with value: 0.058985834638107734.\n",
      "[I 2025-05-07 11:25:30,617] Trial 248 finished with value: 0.05898595482751484 and parameters: {'alpha': 2.8083439742954868, 'tol': 0.009999800143771331}. Best is trial 149 with value: 0.058985834638107734.\n",
      "[I 2025-05-07 11:25:30,779] Trial 247 finished with value: 0.05898584465736876 and parameters: {'alpha': 1.648614795811548, 'tol': 0.008573581375505337}. Best is trial 149 with value: 0.058985834638107734.\n",
      "[I 2025-05-07 11:25:31,507] Trial 249 finished with value: 0.05898587305819192 and parameters: {'alpha': 2.4002182186268626, 'tol': 0.007223609484013355}. Best is trial 149 with value: 0.058985834638107734.\n"
     ]
    }
   ],
   "source": [
    "def objective(trial):    \n",
    "    params = {\n",
    "        \"random_state\": CFG.seed,\n",
    "        \"alpha\": trial.suggest_float(\"alpha\", 0, 10),\n",
    "        \"tol\": trial.suggest_float(\"tol\", 1e-6, 1e-2)\n",
    "    }\n",
    "    \n",
    "    trainer = Trainer(\n",
    "        Ridge(**params),\n",
    "        cv=CFG.cv,\n",
    "        metric=CFG.metric,\n",
    "        task=\"regression\",\n",
    "        verbose=False\n",
    "    )\n",
    "    trainer.fit(X, y)\n",
    "    \n",
    "    return np.mean(trainer.fold_scores)\n",
    "\n",
    "if CFG.run_optuna:\n",
    "    sampler = optuna.samplers.TPESampler(seed=CFG.seed, multivariate=True)\n",
    "    study = optuna.create_study(direction=\"minimize\", sampler=sampler)\n",
    "    study.optimize(objective, n_trials=CFG.n_optuna_trials, n_jobs=-1, catch=(ValueError,))\n",
    "    best_params = study.best_params\n",
    "\n",
    "    ridge_params = {\n",
    "        \"random_state\": CFG.seed,\n",
    "        \"alpha\": best_params[\"alpha\"],\n",
    "        \"tol\": best_params[\"tol\"]\n",
    "    }\n",
    "else:\n",
    "    ridge_params = {\n",
    "        \"random_state\": CFG.seed\n",
    "    }"
   ]
  },
  {
   "cell_type": "code",
   "execution_count": 23,
   "id": "525c26c4",
   "metadata": {
    "execution": {
     "iopub.execute_input": "2025-05-07T11:25:31.569310Z",
     "iopub.status.busy": "2025-05-07T11:25:31.568969Z",
     "iopub.status.idle": "2025-05-07T11:25:31.574758Z",
     "shell.execute_reply": "2025-05-07T11:25:31.573751Z"
    },
    "papermill": {
     "duration": 0.035391,
     "end_time": "2025-05-07T11:25:31.576646",
     "exception": false,
     "start_time": "2025-05-07T11:25:31.541255",
     "status": "completed"
    },
    "tags": []
   },
   "outputs": [
    {
     "name": "stdout",
     "output_type": "stream",
     "text": [
      "{\n",
      "  \"random_state\": 42,\n",
      "  \"alpha\": 1.8854708656027896,\n",
      "  \"tol\": 0.00979309658430755\n",
      "}\n"
     ]
    }
   ],
   "source": [
    "print(json.dumps(ridge_params, indent=2))"
   ]
  },
  {
   "cell_type": "code",
   "execution_count": 24,
   "id": "68f89cec",
   "metadata": {
    "execution": {
     "iopub.execute_input": "2025-05-07T11:25:31.630556Z",
     "iopub.status.busy": "2025-05-07T11:25:31.630106Z",
     "iopub.status.idle": "2025-05-07T11:25:33.162672Z",
     "shell.execute_reply": "2025-05-07T11:25:33.161359Z"
    },
    "papermill": {
     "duration": 1.561848,
     "end_time": "2025-05-07T11:25:33.164700",
     "exception": false,
     "start_time": "2025-05-07T11:25:31.602852",
     "status": "completed"
    },
    "tags": []
   },
   "outputs": [
    {
     "name": "stdout",
     "output_type": "stream",
     "text": [
      "Training Ridge\n",
      "\n",
      "--- Fold 0 - root_mean_squared_error: 0.0589 - Time: 0.15 s\n",
      "--- Fold 1 - root_mean_squared_error: 0.0595 - Time: 0.12 s\n",
      "--- Fold 2 - root_mean_squared_error: 0.0589 - Time: 0.11 s\n",
      "--- Fold 3 - root_mean_squared_error: 0.0592 - Time: 0.11 s\n",
      "--- Fold 4 - root_mean_squared_error: 0.0585 - Time: 0.11 s\n",
      "\n",
      "------ Overall root_mean_squared_error: 0.0590 - Mean root_mean_squared_error: 0.0590 ± 0.0003 - Time: 1.49 s\n"
     ]
    }
   ],
   "source": [
    "ridge_trainer = Trainer(\n",
    "    Ridge(**ridge_params),\n",
    "    cv=CFG.cv,\n",
    "    metric=CFG.metric,\n",
    "    task=\"regression\"\n",
    ")\n",
    "\n",
    "ridge_trainer.fit(X, y)\n",
    "\n",
    "scores[\"Ridge (ensemble)\"] = ridge_trainer.fold_scores\n",
    "ridge_test_preds = np.expm1(ridge_trainer.predict(X_test))"
   ]
  },
  {
   "cell_type": "code",
   "execution_count": 25,
   "id": "3fcf231b",
   "metadata": {
    "execution": {
     "iopub.execute_input": "2025-05-07T11:25:33.218872Z",
     "iopub.status.busy": "2025-05-07T11:25:33.218565Z",
     "iopub.status.idle": "2025-05-07T11:25:33.513671Z",
     "shell.execute_reply": "2025-05-07T11:25:33.512350Z"
    },
    "papermill": {
     "duration": 0.324197,
     "end_time": "2025-05-07T11:25:33.515359",
     "exception": false,
     "start_time": "2025-05-07T11:25:33.191162",
     "status": "completed"
    },
    "tags": []
   },
   "outputs": [
    {
     "data": {
      "image/png": "[encoded data removed]",
      "text/plain": [
       "<Figure size 1000x300 with 1 Axes>"
      ]
     },
     "metadata": {},
     "output_type": "display_data"
    }
   ],
   "source": [
    "ridge_coeffs = np.zeros((1, X.shape[1]))\n",
    "for m in ridge_trainer.estimators:\n",
    "    ridge_coeffs += m.coef_\n",
    "ridge_coeffs = ridge_coeffs / len(ridge_trainer.estimators)\n",
    "\n",
    "plot_weights(ridge_coeffs, \"Ridge Coefficients\")"
   ]
  },
  {
   "cell_type": "markdown",
   "id": "13d9ec59",
   "metadata": {
    "papermill": {
     "duration": 0.026875,
     "end_time": "2025-05-07T11:25:33.569637",
     "exception": false,
     "start_time": "2025-05-07T11:25:33.542762",
     "status": "completed"
    },
    "tags": []
   },
   "source": [
    "# Submission"
   ]
  },
  {
   "cell_type": "code",
   "execution_count": 26,
   "id": "690d4f07",
   "metadata": {
    "execution": {
     "iopub.execute_input": "2025-05-07T11:25:33.626441Z",
     "iopub.status.busy": "2025-05-07T11:25:33.626089Z",
     "iopub.status.idle": "2025-05-07T11:25:36.629139Z",
     "shell.execute_reply": "2025-05-07T11:25:36.628110Z"
    },
    "papermill": {
     "duration": 3.034602,
     "end_time": "2025-05-07T11:25:36.631170",
     "exception": false,
     "start_time": "2025-05-07T11:25:33.596568",
     "status": "completed"
    },
    "tags": []
   },
   "outputs": [
    {
     "data": {
      "text/html": [
       "<div>\n",
       "<style scoped>\n",
       "    .dataframe tbody tr th:only-of-type {\n",
       "        vertical-align: middle;\n",
       "    }\n",
       "\n",
       "    .dataframe tbody tr th {\n",
       "        vertical-align: top;\n",
       "    }\n",
       "\n",
       "    .dataframe thead th {\n",
       "        text-align: right;\n",
       "    }\n",
       "</style>\n",
       "<table border=\"1\" class=\"dataframe\">\n",
       "  <thead>\n",
       "    <tr style=\"text-align: right;\">\n",
       "      <th></th>\n",
       "      <th>id</th>\n",
       "      <th>Calories</th>\n",
       "    </tr>\n",
       "  </thead>\n",
       "  <tbody>\n",
       "    <tr>\n",
       "      <th>0</th>\n",
       "      <td>750000</td>\n",
       "      <td>27.209927</td>\n",
       "    </tr>\n",
       "    <tr>\n",
       "      <th>1</th>\n",
       "      <td>750001</td>\n",
       "      <td>107.740885</td>\n",
       "    </tr>\n",
       "    <tr>\n",
       "      <th>2</th>\n",
       "      <td>750002</td>\n",
       "      <td>87.144654</td>\n",
       "    </tr>\n",
       "    <tr>\n",
       "      <th>3</th>\n",
       "      <td>750003</td>\n",
       "      <td>125.802589</td>\n",
       "    </tr>\n",
       "    <tr>\n",
       "      <th>4</th>\n",
       "      <td>750004</td>\n",
       "      <td>76.020602</td>\n",
       "    </tr>\n",
       "  </tbody>\n",
       "</table>\n",
       "</div>"
      ],
      "text/plain": [
       "       id    Calories\n",
       "0  750000   27.209927\n",
       "1  750001  107.740885\n",
       "2  750002   87.144654\n",
       "3  750003  125.802589\n",
       "4  750004   76.020602"
      ]
     },
     "execution_count": 26,
     "metadata": {},
     "output_type": "execute_result"
    }
   ],
   "source": [
    "sub = pd.read_csv(CFG.test_path)\n",
    "sub[CFG.target] = ridge_test_preds\n",
    "\n",
    "sub = clean_duplicates(sub)\n",
    "sub = sub[[\"id\", \"Calories\"]]\n",
    "\n",
    "sub.to_csv(f\"sub_ridge_{np.mean(scores['Ridge (ensemble)']):.6f}.csv\", index=False)\n",
    "sub.head()"
   ]
  },
  {
   "cell_type": "markdown",
   "id": "9f3163ba",
   "metadata": {
    "papermill": {
     "duration": 0.027535,
     "end_time": "2025-05-07T11:25:36.688261",
     "exception": false,
     "start_time": "2025-05-07T11:25:36.660726",
     "status": "completed"
    },
    "tags": []
   },
   "source": [
    "# Results"
   ]
  },
  {
   "cell_type": "code",
   "execution_count": 27,
   "id": "6781de5e",
   "metadata": {
    "execution": {
     "iopub.execute_input": "2025-05-07T11:25:36.745547Z",
     "iopub.status.busy": "2025-05-07T11:25:36.745198Z",
     "iopub.status.idle": "2025-05-07T11:25:37.283915Z",
     "shell.execute_reply": "2025-05-07T11:25:37.282752Z"
    },
    "papermill": {
     "duration": 0.569964,
     "end_time": "2025-05-07T11:25:37.285612",
     "exception": false,
     "start_time": "2025-05-07T11:25:36.715648",
     "status": "completed"
    },
    "tags": []
   },
   "outputs": [
    {
     "data": {
      "image/png": "[encoded data removed]",
      "text/plain": [
       "<Figure size 1500x210 with 2 Axes>"
      ]
     },
     "metadata": {},
     "output_type": "display_data"
    }
   ],
   "source": [
    "scores = pd.DataFrame(scores)\n",
    "mean_scores = scores.mean().sort_values(ascending=True)\n",
    "order = scores.mean().sort_values(ascending=True).index.tolist()\n",
    "\n",
    "min_score = mean_scores.min()\n",
    "max_score = mean_scores.max()\n",
    "padding = (max_score - min_score) * 0.5\n",
    "lower_limit = min_score - padding\n",
    "upper_limit = max_score + padding\n",
    "\n",
    "fig, axs = plt.subplots(1, 2, figsize=(15, scores.shape[1] * 0.3))\n",
    "\n",
    "boxplot = sns.boxplot(data=scores, order=order, ax=axs[0], orient=\"h\", color=\"grey\")\n",
    "axs[0].set_title(f\"Fold {CFG.metric.__name__}\")\n",
    "axs[0].set_xlabel(\"\")\n",
    "axs[0].set_ylabel(\"\")\n",
    "\n",
    "barplot = sns.barplot(x=mean_scores.values, y=mean_scores.index, ax=axs[1], color=\"grey\")\n",
    "axs[1].set_title(f\"Average {CFG.metric.__name__}\")\n",
    "axs[1].set_xlabel(\"\")\n",
    "axs[1].set_xlim(left=lower_limit, right=upper_limit)\n",
    "axs[1].set_ylabel(\"\")\n",
    "\n",
    "for i, (score, model) in enumerate(zip(mean_scores.values, mean_scores.index)):\n",
    "    color = \"cyan\" if \"ensemble\" in model.lower() else \"grey\"\n",
    "    barplot.patches[i].set_facecolor(color)\n",
    "    boxplot.patches[i].set_facecolor(color)\n",
    "    barplot.text(score, i, round(score, 6), va=\"center\")\n",
    "\n",
    "plt.tight_layout()\n",
    "plt.show()"
   ]
  },
  {
   "cell_type": "code",
   "execution_count": 28,
   "id": "0e2b5fa0",
   "metadata": {
    "execution": {
     "iopub.execute_input": "2025-05-07T11:25:37.346472Z",
     "iopub.status.busy": "2025-05-07T11:25:37.345542Z",
     "iopub.status.idle": "2025-05-07T11:25:37.353001Z",
     "shell.execute_reply": "2025-05-07T11:25:37.351979Z"
    },
    "papermill": {
     "duration": 0.038406,
     "end_time": "2025-05-07T11:25:37.354577",
     "exception": false,
     "start_time": "2025-05-07T11:25:37.316171",
     "status": "completed"
    },
    "tags": []
   },
   "outputs": [],
   "source": [
    "shutil.rmtree(\"catboost_info\", ignore_errors=True)"
   ]
  }
 ],
 "metadata": {
  "kaggle": {
   "accelerator": "none",
   "dataSources": [
    {
     "databundleVersionId": 11893428,
     "sourceId": 91716,
     "sourceType": "competition"
    },
    {
     "datasetId": 6512323,
     "sourceId": 10522392,
     "sourceType": "datasetVersion"
    },
    {
     "sourceId": 237456322,
     "sourceType": "kernelVersion"
    }
   ],
   "dockerImageVersionId": 31012,
   "isGpuEnabled": false,
   "isInternetEnabled": true,
   "language": "python",
   "sourceType": "notebook"
  },
  "kernelspec": {
   "display_name": "Python 3",
   "language": "python",
   "name": "python3"
  },
  "language_info": {
   "codemirror_mode": {
    "name": "ipython",
    "version": 3
   },
   "file_extension": ".py",
   "mimetype": "text/x-python",
   "name": "python",
   "nbconvert_exporter": "python",
   "pygments_lexer": "ipython3",
   "version": "3.11.11"
  },
  "papermill": {
   "default_parameters": {},
   "duration": 3055.314697,
   "end_time": "2025-05-07T11:25:38.611364",
   "environment_variables": {},
   "exception": null,
   "input_path": "__notebook__.ipynb",
   "output_path": "__notebook__.ipynb",
   "parameters": {},
   "start_time": "2025-05-07T10:34:43.296667",
   "version": "2.6.0"
  }
 },
 "nbformat": 4,
 "nbformat_minor": 5
}
