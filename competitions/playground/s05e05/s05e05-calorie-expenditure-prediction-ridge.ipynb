{
 "cells": [
  {
   "cell_type": "code",
   "execution_count": 1,
   "id": "d9b3feab",
   "metadata": {
    "_kg_hide-output": true,
    "execution": {
     "iopub.execute_input": "2025-05-04T20:37:15.167826Z",
     "iopub.status.busy": "2025-05-04T20:37:15.167541Z",
     "iopub.status.idle": "2025-05-04T20:37:23.312855Z",
     "shell.execute_reply": "2025-05-04T20:37:23.311757Z"
    },
    "papermill": {
     "duration": 8.153593,
     "end_time": "2025-05-04T20:37:23.314660",
     "exception": false,
     "start_time": "2025-05-04T20:37:15.161067",
     "status": "completed"
    },
    "scrolled": true,
    "tags": []
   },
   "outputs": [
    {
     "name": "stdout",
     "output_type": "stream",
     "text": [
      "Collecting koolbox\r\n",
      "  Downloading koolbox-0.1.2-py3-none-any.whl.metadata (2.4 kB)\r\n",
      "Collecting scikit-learn==1.5.2\r\n",
      "  Downloading scikit_learn-1.5.2-cp311-cp311-manylinux_2_17_x86_64.manylinux2014_x86_64.whl.metadata (13 kB)\r\n",
      "Requirement already satisfied: numpy>=1.19.5 in /usr/local/lib/python3.11/dist-packages (from scikit-learn==1.5.2) (1.26.4)\r\n",
      "Requirement already satisfied: scipy>=1.6.0 in /usr/local/lib/python3.11/dist-packages (from scikit-learn==1.5.2) (1.15.2)\r\n",
      "Requirement already satisfied: joblib>=1.2.0 in /usr/local/lib/python3.11/dist-packages (from scikit-learn==1.5.2) (1.4.2)\r\n",
      "Requirement already satisfied: threadpoolctl>=3.1.0 in /usr/local/lib/python3.11/dist-packages (from scikit-learn==1.5.2) (3.6.0)\r\n",
      "Requirement already satisfied: pandas>=1.0.0 in /usr/local/lib/python3.11/dist-packages (from koolbox) (2.2.3)\r\n",
      "Requirement already satisfied: mkl_fft in /usr/local/lib/python3.11/dist-packages (from numpy>=1.19.5->scikit-learn==1.5.2) (1.3.8)\r\n",
      "Requirement already satisfied: mkl_random in /usr/local/lib/python3.11/dist-packages (from numpy>=1.19.5->scikit-learn==1.5.2) (1.2.4)\r\n",
      "Requirement already satisfied: mkl_umath in /usr/local/lib/python3.11/dist-packages (from numpy>=1.19.5->scikit-learn==1.5.2) (0.1.1)\r\n",
      "Requirement already satisfied: mkl in /usr/local/lib/python3.11/dist-packages (from numpy>=1.19.5->scikit-learn==1.5.2) (2025.1.0)\r\n",
      "Requirement already satisfied: tbb4py in /usr/local/lib/python3.11/dist-packages (from numpy>=1.19.5->scikit-learn==1.5.2) (2022.1.0)\r\n",
      "Requirement already satisfied: mkl-service in /usr/local/lib/python3.11/dist-packages (from numpy>=1.19.5->scikit-learn==1.5.2) (2.4.1)\r\n",
      "Requirement already satisfied: python-dateutil>=2.8.2 in /usr/local/lib/python3.11/dist-packages (from pandas>=1.0.0->koolbox) (2.9.0.post0)\r\n",
      "Requirement already satisfied: pytz>=2020.1 in /usr/local/lib/python3.11/dist-packages (from pandas>=1.0.0->koolbox) (2025.2)\r\n",
      "Requirement already satisfied: tzdata>=2022.7 in /usr/local/lib/python3.11/dist-packages (from pandas>=1.0.0->koolbox) (2025.2)\r\n",
      "Requirement already satisfied: six>=1.5 in /usr/local/lib/python3.11/dist-packages (from python-dateutil>=2.8.2->pandas>=1.0.0->koolbox) (1.17.0)\r\n",
      "Requirement already satisfied: intel-openmp<2026,>=2024 in /usr/local/lib/python3.11/dist-packages (from mkl->numpy>=1.19.5->scikit-learn==1.5.2) (2024.2.0)\r\n",
      "Requirement already satisfied: tbb==2022.* in /usr/local/lib/python3.11/dist-packages (from mkl->numpy>=1.19.5->scikit-learn==1.5.2) (2022.1.0)\r\n",
      "Requirement already satisfied: tcmlib==1.* in /usr/local/lib/python3.11/dist-packages (from tbb==2022.*->mkl->numpy>=1.19.5->scikit-learn==1.5.2) (1.2.0)\r\n",
      "Requirement already satisfied: intel-cmplr-lib-rt in /usr/local/lib/python3.11/dist-packages (from mkl_umath->numpy>=1.19.5->scikit-learn==1.5.2) (2024.2.0)\r\n",
      "Requirement already satisfied: intel-cmplr-lib-ur==2024.2.0 in /usr/local/lib/python3.11/dist-packages (from intel-openmp<2026,>=2024->mkl->numpy>=1.19.5->scikit-learn==1.5.2) (2024.2.0)\r\n",
      "Downloading scikit_learn-1.5.2-cp311-cp311-manylinux_2_17_x86_64.manylinux2014_x86_64.whl (13.3 MB)\r\n",
      "\u001b[2K   \u001b[90m━━━━━━━━━━━━━━━━━━━━━━━━━━━━━━━━━━━━━━━━\u001b[0m \u001b[32m13.3/13.3 MB\u001b[0m \u001b[31m83.5 MB/s\u001b[0m eta \u001b[36m0:00:00\u001b[0m\r\n",
      "\u001b[?25hDownloading koolbox-0.1.2-py3-none-any.whl (11 kB)\r\n",
      "Installing collected packages: scikit-learn, koolbox\r\n",
      "  Attempting uninstall: scikit-learn\r\n",
      "    Found existing installation: scikit-learn 1.2.2\r\n",
      "    Uninstalling scikit-learn-1.2.2:\r\n",
      "      Successfully uninstalled scikit-learn-1.2.2\r\n",
      "\u001b[31mERROR: pip's dependency resolver does not currently take into account all the packages that are installed. This behaviour is the source of the following dependency conflicts.\r\n",
      "bigframes 1.36.0 requires rich<14,>=12.4.4, but you have rich 14.0.0 which is incompatible.\u001b[0m\u001b[31m\r\n",
      "\u001b[0mSuccessfully installed koolbox-0.1.2 scikit-learn-1.5.2\r\n"
     ]
    }
   ],
   "source": [
    "!pip install koolbox scikit-learn==1.5.2"
   ]
  },
  {
   "cell_type": "markdown",
   "id": "ee8b5cb5",
   "metadata": {
    "papermill": {
     "duration": 0.005203,
     "end_time": "2025-05-04T20:37:23.326253",
     "exception": false,
     "start_time": "2025-05-04T20:37:23.321050",
     "status": "completed"
    },
    "tags": []
   },
   "source": [
    "# Imports and configs"
   ]
  },
  {
   "cell_type": "code",
   "execution_count": 2,
   "id": "114c0af3",
   "metadata": {
    "_kg_hide-output": true,
    "execution": {
     "iopub.execute_input": "2025-05-04T20:37:23.338043Z",
     "iopub.status.busy": "2025-05-04T20:37:23.337724Z",
     "iopub.status.idle": "2025-05-04T20:37:31.507771Z",
     "shell.execute_reply": "2025-05-04T20:37:31.507133Z"
    },
    "papermill": {
     "duration": 8.177684,
     "end_time": "2025-05-04T20:37:31.509231",
     "exception": false,
     "start_time": "2025-05-04T20:37:23.331547",
     "status": "completed"
    },
    "tags": []
   },
   "outputs": [],
   "source": [
    "from sklearn.ensemble import HistGradientBoostingRegressor\n",
    "from sklearn.feature_selection import mutual_info_regression\n",
    "from sklearn.metrics import root_mean_squared_error\n",
    "from sklearn.model_selection import KFold\n",
    "from sklearn.linear_model import Ridge\n",
    "from lightgbm import LGBMRegressor, early_stopping, log_evaluation\n",
    "from catboost import CatBoostRegressor\n",
    "from xgboost import XGBRegressor\n",
    "from koolbox import Trainer\n",
    "import matplotlib.pyplot as plt\n",
    "import seaborn as sns\n",
    "import pandas as pd\n",
    "import numpy as np\n",
    "import warnings\n",
    "import joblib\n",
    "import shutil\n",
    "import optuna\n",
    "import json\n",
    "import glob\n",
    "\n",
    "warnings.filterwarnings(\"ignore\")"
   ]
  },
  {
   "cell_type": "code",
   "execution_count": 3,
   "id": "e539d2c1",
   "metadata": {
    "execution": {
     "iopub.execute_input": "2025-05-04T20:37:31.521319Z",
     "iopub.status.busy": "2025-05-04T20:37:31.520831Z",
     "iopub.status.idle": "2025-05-04T20:37:31.525617Z",
     "shell.execute_reply": "2025-05-04T20:37:31.524869Z"
    },
    "papermill": {
     "duration": 0.011966,
     "end_time": "2025-05-04T20:37:31.526786",
     "exception": false,
     "start_time": "2025-05-04T20:37:31.514820",
     "status": "completed"
    },
    "tags": []
   },
   "outputs": [],
   "source": [
    "class CFG:\n",
    "    train_path = \"/kaggle/input/playground-series-s5e5/train.csv\"\n",
    "    test_path = \"/kaggle/input/playground-series-s5e5/test.csv\"\n",
    "    sample_sub_path = \"/kaggle/input/playground-series-s5e5/sample_submission.csv\"\n",
    "    \n",
    "    original_path = \"/kaggle/input/calories-burnt-prediction/calories.csv\"\n",
    "\n",
    "    metric = root_mean_squared_error\n",
    "    target = \"Calories\"\n",
    "    n_folds = 5\n",
    "    seed = 42\n",
    "\n",
    "    cv = KFold(n_splits=n_folds, random_state=seed, shuffle=True)\n",
    "\n",
    "    run_optuna = True\n",
    "    n_optuna_trials = 250"
   ]
  },
  {
   "cell_type": "markdown",
   "id": "44f071db",
   "metadata": {
    "papermill": {
     "duration": 0.004968,
     "end_time": "2025-05-04T20:37:31.536855",
     "exception": false,
     "start_time": "2025-05-04T20:37:31.531887",
     "status": "completed"
    },
    "tags": []
   },
   "source": [
    "# Data loading and preprocessing"
   ]
  },
  {
   "cell_type": "code",
   "execution_count": 4,
   "id": "559998af",
   "metadata": {
    "execution": {
     "iopub.execute_input": "2025-05-04T20:37:31.548522Z",
     "iopub.status.busy": "2025-05-04T20:37:31.548249Z",
     "iopub.status.idle": "2025-05-04T20:37:32.775289Z",
     "shell.execute_reply": "2025-05-04T20:37:32.774382Z"
    },
    "papermill": {
     "duration": 1.234599,
     "end_time": "2025-05-04T20:37:32.776892",
     "exception": false,
     "start_time": "2025-05-04T20:37:31.542293",
     "status": "completed"
    },
    "tags": []
   },
   "outputs": [],
   "source": [
    "train = pd.read_csv(CFG.train_path, index_col=\"id\")\n",
    "test = pd.read_csv(CFG.test_path, index_col=\"id\")\n",
    "\n",
    "train[\"Sex\"] = train[\"Sex\"].map({\"male\": 0, \"female\": 1})\n",
    "test[\"Sex\"] = test[\"Sex\"].map({\"male\": 0, \"female\": 1})\n",
    "\n",
    "X = train.drop(CFG.target, axis=1)\n",
    "y = np.log1p(train[CFG.target])\n",
    "X_test = test"
   ]
  },
  {
   "cell_type": "code",
   "execution_count": 5,
   "id": "31b0a693",
   "metadata": {
    "execution": {
     "iopub.execute_input": "2025-05-04T20:37:32.791342Z",
     "iopub.status.busy": "2025-05-04T20:37:32.790804Z",
     "iopub.status.idle": "2025-05-04T20:37:32.830650Z",
     "shell.execute_reply": "2025-05-04T20:37:32.829810Z"
    },
    "papermill": {
     "duration": 0.04814,
     "end_time": "2025-05-04T20:37:32.832128",
     "exception": false,
     "start_time": "2025-05-04T20:37:32.783988",
     "status": "completed"
    },
    "tags": []
   },
   "outputs": [],
   "source": [
    "original = pd.read_csv(CFG.original_path, index_col=\"User_ID\")\n",
    "original[\"Gender\"] = original[\"Gender\"].map({\"male\": 0, \"female\": 1})\n",
    "original = original.rename(columns={\"Gender\": \"Sex\"})\n",
    "\n",
    "X_original = original.drop(CFG.target, axis=1)\n",
    "y_original = np.log1p(original[CFG.target])"
   ]
  },
  {
   "cell_type": "code",
   "execution_count": 6,
   "id": "cd75d47b",
   "metadata": {
    "execution": {
     "iopub.execute_input": "2025-05-04T20:37:32.844136Z",
     "iopub.status.busy": "2025-05-04T20:37:32.843913Z",
     "iopub.status.idle": "2025-05-04T20:38:28.767744Z",
     "shell.execute_reply": "2025-05-04T20:38:28.766946Z"
    },
    "papermill": {
     "duration": 55.936603,
     "end_time": "2025-05-04T20:38:28.774270",
     "exception": false,
     "start_time": "2025-05-04T20:37:32.837667",
     "status": "completed"
    },
    "tags": []
   },
   "outputs": [
    {
     "data": {
      "text/html": [
       "<style type=\"text/css\">\n",
       "#T_e5341_row0_col0 {\n",
       "  width: 10em;\n",
       "  background: linear-gradient(90deg, #006837 100.0%, transparent 100.0%);\n",
       "}\n",
       "#T_e5341_row1_col0 {\n",
       "  width: 10em;\n",
       "  background: linear-gradient(90deg, #afdd70 68.3%, transparent 68.3%);\n",
       "}\n",
       "#T_e5341_row2_col0 {\n",
       "  width: 10em;\n",
       "  background: linear-gradient(90deg, #daf08d 59.6%, transparent 59.6%);\n",
       "}\n",
       "#T_e5341_row3_col0 {\n",
       "  width: 10em;\n",
       "  background: linear-gradient(90deg, #c21c27 6.0%, transparent 6.0%);\n",
       "}\n",
       "#T_e5341_row4_col0, #T_e5341_row5_col0 {\n",
       "  width: 10em;\n",
       "  background: linear-gradient(90deg, #b50f26 3.4%, transparent 3.4%);\n",
       "}\n",
       "#T_e5341_row6_col0 {\n",
       "  width: 10em;\n",
       "  background: linear-gradient(90deg, #a90426 1.0%, transparent 1.0%);\n",
       "}\n",
       "</style>\n",
       "<table id=\"T_e5341\">\n",
       "  <thead>\n",
       "    <tr>\n",
       "      <th class=\"blank level0\" >&nbsp;</th>\n",
       "      <th id=\"T_e5341_level0_col0\" class=\"col_heading level0 col0\" >Mutual Information</th>\n",
       "    </tr>\n",
       "  </thead>\n",
       "  <tbody>\n",
       "    <tr>\n",
       "      <th id=\"T_e5341_level0_row0\" class=\"row_heading level0 row0\" >Duration</th>\n",
       "      <td id=\"T_e5341_row0_col0\" class=\"data row0 col0\" >1.640567</td>\n",
       "    </tr>\n",
       "    <tr>\n",
       "      <th id=\"T_e5341_level0_row1\" class=\"row_heading level0 row1\" >Body_Temp</th>\n",
       "      <td id=\"T_e5341_row1_col0\" class=\"data row1 col0\" >1.120766</td>\n",
       "    </tr>\n",
       "    <tr>\n",
       "      <th id=\"T_e5341_level0_row2\" class=\"row_heading level0 row2\" >Heart_Rate</th>\n",
       "      <td id=\"T_e5341_row2_col0\" class=\"data row2 col0\" >0.976966</td>\n",
       "    </tr>\n",
       "    <tr>\n",
       "      <th id=\"T_e5341_level0_row3\" class=\"row_heading level0 row3\" >Age</th>\n",
       "      <td id=\"T_e5341_row3_col0\" class=\"data row3 col0\" >0.098387</td>\n",
       "    </tr>\n",
       "    <tr>\n",
       "      <th id=\"T_e5341_level0_row4\" class=\"row_heading level0 row4\" >Height</th>\n",
       "      <td id=\"T_e5341_row4_col0\" class=\"data row4 col0\" >0.056501</td>\n",
       "    </tr>\n",
       "    <tr>\n",
       "      <th id=\"T_e5341_level0_row5\" class=\"row_heading level0 row5\" >Weight</th>\n",
       "      <td id=\"T_e5341_row5_col0\" class=\"data row5 col0\" >0.055709</td>\n",
       "    </tr>\n",
       "    <tr>\n",
       "      <th id=\"T_e5341_level0_row6\" class=\"row_heading level0 row6\" >Sex</th>\n",
       "      <td id=\"T_e5341_row6_col0\" class=\"data row6 col0\" >0.017174</td>\n",
       "    </tr>\n",
       "  </tbody>\n",
       "</table>\n"
      ],
      "text/plain": [
       "<pandas.io.formats.style.Styler at 0x787b93346110>"
      ]
     },
     "execution_count": 6,
     "metadata": {},
     "output_type": "execute_result"
    }
   ],
   "source": [
    "mutual_info = mutual_info_regression(X, y, random_state=CFG.seed)\n",
    "\n",
    "mutual_info = pd.Series(mutual_info)\n",
    "mutual_info.index = X.columns\n",
    "mutual_info = pd.DataFrame(mutual_info.sort_values(ascending=False), columns=['Mutual Information'])\n",
    "mutual_info.style.bar(subset=['Mutual Information'], cmap='RdYlGn')"
   ]
  },
  {
   "cell_type": "code",
   "execution_count": 7,
   "id": "9de24585",
   "metadata": {
    "execution": {
     "iopub.execute_input": "2025-05-04T20:38:28.785469Z",
     "iopub.status.busy": "2025-05-04T20:38:28.785223Z",
     "iopub.status.idle": "2025-05-04T20:38:29.434275Z",
     "shell.execute_reply": "2025-05-04T20:38:29.433628Z"
    },
    "papermill": {
     "duration": 0.655993,
     "end_time": "2025-05-04T20:38:29.435510",
     "exception": false,
     "start_time": "2025-05-04T20:38:28.779517",
     "status": "completed"
    },
    "tags": []
   },
   "outputs": [
    {
     "data": {
      "text/html": [
       "<style type=\"text/css\">\n",
       "#T_454f1_row0_col0 {\n",
       "  width: 10em;\n",
       "  background: linear-gradient(90deg, #006837 100.0%, transparent 100.0%);\n",
       "}\n",
       "#T_454f1_row1_col0 {\n",
       "  width: 10em;\n",
       "  background: linear-gradient(90deg, #bbe278 66.0%, transparent 66.0%);\n",
       "}\n",
       "#T_454f1_row2_col0 {\n",
       "  width: 10em;\n",
       "  background: linear-gradient(90deg, #e0f295 57.9%, transparent 57.9%);\n",
       "}\n",
       "#T_454f1_row3_col0 {\n",
       "  width: 10em;\n",
       "  background: linear-gradient(90deg, #b10b26 2.4%, transparent 2.4%);\n",
       "}\n",
       "#T_454f1_row4_col0 {\n",
       "  width: 10em;\n",
       "  background: linear-gradient(90deg, #ab0626 1.4%, transparent 1.4%);\n",
       "}\n",
       "#T_454f1_row5_col0 {\n",
       "  width: 10em;\n",
       "  background: linear-gradient(90deg, #a90426 1.1%, transparent 1.1%);\n",
       "}\n",
       "#T_454f1_row6_col0 {\n",
       "  width: 10em;\n",
       "  background: linear-gradient(90deg, #a50026 0.3%, transparent 0.3%);\n",
       "}\n",
       "</style>\n",
       "<table id=\"T_454f1\">\n",
       "  <thead>\n",
       "    <tr>\n",
       "      <th class=\"blank level0\" >&nbsp;</th>\n",
       "      <th id=\"T_454f1_level0_col0\" class=\"col_heading level0 col0\" >Mutual Information</th>\n",
       "    </tr>\n",
       "  </thead>\n",
       "  <tbody>\n",
       "    <tr>\n",
       "      <th id=\"T_454f1_level0_row0\" class=\"row_heading level0 row0\" >Duration</th>\n",
       "      <td id=\"T_454f1_row0_col0\" class=\"data row0 col0\" >1.494968</td>\n",
       "    </tr>\n",
       "    <tr>\n",
       "      <th id=\"T_454f1_level0_row1\" class=\"row_heading level0 row1\" >Body_Temp</th>\n",
       "      <td id=\"T_454f1_row1_col0\" class=\"data row1 col0\" >0.986528</td>\n",
       "    </tr>\n",
       "    <tr>\n",
       "      <th id=\"T_454f1_level0_row2\" class=\"row_heading level0 row2\" >Heart_Rate</th>\n",
       "      <td id=\"T_454f1_row2_col0\" class=\"data row2 col0\" >0.866243</td>\n",
       "    </tr>\n",
       "    <tr>\n",
       "      <th id=\"T_454f1_level0_row3\" class=\"row_heading level0 row3\" >Age</th>\n",
       "      <td id=\"T_454f1_row3_col0\" class=\"data row3 col0\" >0.035208</td>\n",
       "    </tr>\n",
       "    <tr>\n",
       "      <th id=\"T_454f1_level0_row4\" class=\"row_heading level0 row4\" >Weight</th>\n",
       "      <td id=\"T_454f1_row4_col0\" class=\"data row4 col0\" >0.020520</td>\n",
       "    </tr>\n",
       "    <tr>\n",
       "      <th id=\"T_454f1_level0_row5\" class=\"row_heading level0 row5\" >Sex</th>\n",
       "      <td id=\"T_454f1_row5_col0\" class=\"data row5 col0\" >0.016184</td>\n",
       "    </tr>\n",
       "    <tr>\n",
       "      <th id=\"T_454f1_level0_row6\" class=\"row_heading level0 row6\" >Height</th>\n",
       "      <td id=\"T_454f1_row6_col0\" class=\"data row6 col0\" >0.005213</td>\n",
       "    </tr>\n",
       "  </tbody>\n",
       "</table>\n"
      ],
      "text/plain": [
       "<pandas.io.formats.style.Styler at 0x787bd4520690>"
      ]
     },
     "execution_count": 7,
     "metadata": {},
     "output_type": "execute_result"
    }
   ],
   "source": [
    "mutual_info = mutual_info_regression(X_original, y_original, random_state=CFG.seed)\n",
    "\n",
    "mutual_info = pd.Series(mutual_info)\n",
    "mutual_info.index = X_original.columns\n",
    "mutual_info = pd.DataFrame(mutual_info.sort_values(ascending=False), columns=['Mutual Information'])\n",
    "mutual_info.style.bar(subset=['Mutual Information'], cmap='RdYlGn')"
   ]
  },
  {
   "cell_type": "code",
   "execution_count": 8,
   "id": "997c331e",
   "metadata": {
    "execution": {
     "iopub.execute_input": "2025-05-04T20:38:29.447904Z",
     "iopub.status.busy": "2025-05-04T20:38:29.447669Z",
     "iopub.status.idle": "2025-05-04T20:38:30.525810Z",
     "shell.execute_reply": "2025-05-04T20:38:30.524813Z"
    },
    "papermill": {
     "duration": 1.086657,
     "end_time": "2025-05-04T20:38:30.528410",
     "exception": false,
     "start_time": "2025-05-04T20:38:29.441753",
     "status": "completed"
    },
    "tags": []
   },
   "outputs": [
    {
     "data": {
      "image/png": "[encoded data removed]",
      "text/plain": [
       "<Figure size 1600x600 with 4 Axes>"
      ]
     },
     "metadata": {},
     "output_type": "display_data"
    }
   ],
   "source": [
    "sns.set_style(\"white\")\n",
    "fig, axes = plt.subplots(1, 2, figsize=(16, 6))\n",
    "\n",
    "corr_train = train.corr()\n",
    "mask_train = np.triu(np.ones_like(corr_train, dtype=bool), k=1)\n",
    "sns.heatmap(\n",
    "    data=corr_train,\n",
    "    annot=True,\n",
    "    fmt='.2f',\n",
    "    mask=mask_train,\n",
    "    square=True,\n",
    "    cmap='coolwarm',\n",
    "    cbar_kws={'shrink': .7, 'format': '%.2f'},   \n",
    "    annot_kws={'size': 8},\n",
    "    center=0,\n",
    "    ax=axes[0]\n",
    ")\n",
    "axes[0].set_title('Train')\n",
    "axes[0].tick_params(axis='both', which='major', labelsize=8)\n",
    "\n",
    "corr_orig = original.corr()\n",
    "mask_orig = np.triu(np.ones_like(corr_orig, dtype=bool), k=1)\n",
    "sns.heatmap(\n",
    "    data=corr_orig,\n",
    "    annot=True,\n",
    "    fmt='.2f',\n",
    "    mask=mask_orig,\n",
    "    square=True,\n",
    "    cmap='coolwarm',\n",
    "    cbar_kws={'shrink': .7, 'format': '%.2f'},   \n",
    "    annot_kws={'size': 8},\n",
    "    center=0,\n",
    "    ax=axes[1]\n",
    ")\n",
    "axes[1].set_title('Original')\n",
    "axes[1].tick_params(axis='both', which='major', labelsize=8)\n",
    "\n",
    "plt.tight_layout()\n",
    "plt.show()"
   ]
  },
  {
   "cell_type": "markdown",
   "id": "ec85d620",
   "metadata": {
    "papermill": {
     "duration": 0.01054,
     "end_time": "2025-05-04T20:38:30.550930",
     "exception": false,
     "start_time": "2025-05-04T20:38:30.540390",
     "status": "completed"
    },
    "tags": []
   },
   "source": [
    "# Training base models"
   ]
  },
  {
   "cell_type": "code",
   "execution_count": 9,
   "id": "02e5b305",
   "metadata": {
    "_kg_hide-input": true,
    "_kg_hide-output": true,
    "execution": {
     "iopub.execute_input": "2025-05-04T20:38:30.572152Z",
     "iopub.status.busy": "2025-05-04T20:38:30.571490Z",
     "iopub.status.idle": "2025-05-04T20:38:30.582050Z",
     "shell.execute_reply": "2025-05-04T20:38:30.581296Z"
    },
    "papermill": {
     "duration": 0.021877,
     "end_time": "2025-05-04T20:38:30.583225",
     "exception": false,
     "start_time": "2025-05-04T20:38:30.561348",
     "status": "completed"
    },
    "tags": []
   },
   "outputs": [],
   "source": [
    "histgb_params = {\n",
    "    \"l2_regularization\": 10.412017522533768,\n",
    "    \"learning_rate\": 0.011702680619474444,\n",
    "    \"max_depth\": 59,\n",
    "    \"max_features\": 0.30616140080552673,\n",
    "    \"max_iter\": 4454,\n",
    "    \"max_leaf_nodes\": 385,\n",
    "    \"min_samples_leaf\": 50,\n",
    "    \"random_state\": 42\n",
    "}\n",
    "\n",
    "lgbm_params = {\n",
    "    \"boosting_type\": \"gbdt\",\n",
    "    \"colsample_bytree\": 0.8213924491907012,\n",
    "    \"learning_rate\": 0.059976685297931195,\n",
    "    \"min_child_samples\": 10,\n",
    "    \"min_child_weight\": 0.5425237767880097,\n",
    "    \"n_estimators\": 50000,\n",
    "    \"n_jobs\": -1,\n",
    "    \"num_leaves\": 89,\n",
    "    \"random_state\": 42,\n",
    "    \"reg_alpha\": 2.0325709613371545,\n",
    "    \"reg_lambda\": 87.27971117911044,\n",
    "    \"subsample\": 0.6452823633939004,\n",
    "    \"verbose\": -1\n",
    "}\n",
    "\n",
    "lgbm_goss_params = {\n",
    "    \"boosting_type\": \"goss\",\n",
    "    \"colsample_bytree\": 0.9068724002629094,\n",
    "    \"learning_rate\": 0.06459027654473874,\n",
    "    \"min_child_samples\": 39,\n",
    "    \"min_child_weight\": 0.5337673729810578,\n",
    "    \"n_estimators\": 50000,\n",
    "    \"n_jobs\": -1,\n",
    "    \"num_leaves\": 13,\n",
    "    \"random_state\": 42,\n",
    "    \"reg_alpha\": 1.603969498256519,\n",
    "    \"reg_lambda\": 10.806488455621444,\n",
    "    \"subsample\": 0.5966412222358356,\n",
    "    \"verbose\": -1\n",
    "}\n",
    "\n",
    "xgb_params = {\n",
    "    \"colsample_bylevel\": 0.8606487417581108,\n",
    "    \"colsample_bynode\": 0.9410596660335436,\n",
    "    \"colsample_bytree\": 0.9407540036296737,\n",
    "    \"early_stopping_rounds\": 100,\n",
    "    \"eval_metric\": \"rmse\",\n",
    "    \"gamma\": 0.023260595738991977,\n",
    "    \"learning_rate\": 0.03669372905801298,\n",
    "    \"max_depth\": 11,\n",
    "    \"max_leaves\": 51,\n",
    "    \"min_child_weight\": 96,\n",
    "    \"n_estimators\": 50000,\n",
    "    \"n_jobs\": -1,\n",
    "    \"random_state\": 42,\n",
    "    \"reg_alpha\": 2.953205886504917,\n",
    "    \"reg_lambda\": 67.64147033446291,\n",
    "    \"subsample\": 0.6973241930754311,\n",
    "    \"verbosity\": 0\n",
    "}\n",
    "\n",
    "cb_params = {\n",
    "    \"border_count\": 88,\n",
    "    \"colsample_bylevel\": 0.7903437608890396,\n",
    "    \"depth\": 8,\n",
    "    \"eval_metric\": \"RMSE\",\n",
    "    \"iterations\": 50000,\n",
    "    \"l2_leaf_reg\": 6.065104074215131,\n",
    "    \"learning_rate\": 0.030946464122148992,\n",
    "    \"min_child_samples\": 138,\n",
    "    \"random_state\": 42,\n",
    "    \"random_strength\": 0.035251008593976785,\n",
    "    \"verbose\": False\n",
    "}"
   ]
  },
  {
   "cell_type": "code",
   "execution_count": 10,
   "id": "d9eae916",
   "metadata": {
    "execution": {
     "iopub.execute_input": "2025-05-04T20:38:30.605270Z",
     "iopub.status.busy": "2025-05-04T20:38:30.604741Z",
     "iopub.status.idle": "2025-05-04T20:38:30.608940Z",
     "shell.execute_reply": "2025-05-04T20:38:30.608173Z"
    },
    "papermill": {
     "duration": 0.02022,
     "end_time": "2025-05-04T20:38:30.610395",
     "exception": false,
     "start_time": "2025-05-04T20:38:30.590175",
     "status": "completed"
    },
    "tags": []
   },
   "outputs": [],
   "source": [
    "scores = {}\n",
    "oof_preds = {}\n",
    "test_preds = {}"
   ]
  },
  {
   "cell_type": "markdown",
   "id": "1325fb6e",
   "metadata": {
    "papermill": {
     "duration": 0.008171,
     "end_time": "2025-05-04T20:38:30.625264",
     "exception": false,
     "start_time": "2025-05-04T20:38:30.617093",
     "status": "completed"
    },
    "tags": []
   },
   "source": [
    "## HistGradientBoosting"
   ]
  },
  {
   "cell_type": "code",
   "execution_count": 11,
   "id": "ba2d51d8",
   "metadata": {
    "execution": {
     "iopub.execute_input": "2025-05-04T20:38:30.643360Z",
     "iopub.status.busy": "2025-05-04T20:38:30.642700Z",
     "iopub.status.idle": "2025-05-04T20:45:39.917393Z",
     "shell.execute_reply": "2025-05-04T20:45:39.916682Z"
    },
    "papermill": {
     "duration": 429.285006,
     "end_time": "2025-05-04T20:45:39.919153",
     "exception": false,
     "start_time": "2025-05-04T20:38:30.634147",
     "status": "completed"
    },
    "tags": []
   },
   "outputs": [
    {
     "name": "stdout",
     "output_type": "stream",
     "text": [
      "Training HistGradientBoostingRegressor\n",
      "\n",
      "--- Fold 0 - root_mean_squared_error: 0.0594 - Time: 74.61 s\n",
      "--- Fold 1 - root_mean_squared_error: 0.0605 - Time: 71.33 s\n",
      "--- Fold 2 - root_mean_squared_error: 0.0597 - Time: 73.69 s\n",
      "--- Fold 3 - root_mean_squared_error: 0.0601 - Time: 64.90 s\n",
      "--- Fold 4 - root_mean_squared_error: 0.0593 - Time: 69.42 s\n",
      "\n",
      "------ Overall root_mean_squared_error: 0.0598 - Mean root_mean_squared_error: 0.0598 ± 0.0004 - Time: 354.73 s\n"
     ]
    }
   ],
   "source": [
    "histgb_trainer = Trainer(\n",
    "    HistGradientBoostingRegressor(**histgb_params),\n",
    "    cv=CFG.cv,\n",
    "    metric=CFG.metric,\n",
    "    task=\"regression\"\n",
    ")\n",
    "\n",
    "histgb_trainer.fit(X, y, extra_X=X_original, extra_y=y_original)\n",
    "\n",
    "scores[\"HistGB\"] = histgb_trainer.fold_scores\n",
    "oof_preds[\"HistGB\"] = histgb_trainer.oof_preds\n",
    "test_preds[\"HistGB\"] = histgb_trainer.predict(X_test)"
   ]
  },
  {
   "cell_type": "markdown",
   "id": "5b4be845",
   "metadata": {
    "papermill": {
     "duration": 0.007129,
     "end_time": "2025-05-04T20:45:39.936013",
     "exception": false,
     "start_time": "2025-05-04T20:45:39.928884",
     "status": "completed"
    },
    "tags": []
   },
   "source": [
    "## LightGBM (gbdt)"
   ]
  },
  {
   "cell_type": "code",
   "execution_count": 12,
   "id": "2eed7010",
   "metadata": {
    "execution": {
     "iopub.execute_input": "2025-05-04T20:45:39.950838Z",
     "iopub.status.busy": "2025-05-04T20:45:39.950529Z",
     "iopub.status.idle": "2025-05-04T20:49:52.793473Z",
     "shell.execute_reply": "2025-05-04T20:49:52.792830Z"
    },
    "papermill": {
     "duration": 252.851944,
     "end_time": "2025-05-04T20:49:52.795093",
     "exception": false,
     "start_time": "2025-05-04T20:45:39.943149",
     "status": "completed"
    },
    "tags": []
   },
   "outputs": [
    {
     "name": "stdout",
     "output_type": "stream",
     "text": [
      "Training LGBMRegressor\n",
      "\n",
      "Training until validation scores don't improve for 100 rounds\n",
      "Early stopping, best iteration is:\n",
      "[791]\tvalid_0's rmse: 0.0596226\tvalid_0's l2: 0.00355485\n",
      "--- Fold 0 - root_mean_squared_error: 0.0596 - Time: 24.46 s\n",
      "\n",
      "Training until validation scores don't improve for 100 rounds\n",
      "[1000]\tvalid_0's rmse: 0.0603528\tvalid_0's l2: 0.00364246\n",
      "Early stopping, best iteration is:\n",
      "[1369]\tvalid_0's rmse: 0.0603066\tvalid_0's l2: 0.00363688\n",
      "--- Fold 1 - root_mean_squared_error: 0.0603 - Time: 37.66 s\n",
      "\n",
      "Training until validation scores don't improve for 100 rounds\n",
      "[1000]\tvalid_0's rmse: 0.0596239\tvalid_0's l2: 0.00355501\n",
      "Early stopping, best iteration is:\n",
      "[1406]\tvalid_0's rmse: 0.0595985\tvalid_0's l2: 0.00355198\n",
      "--- Fold 2 - root_mean_squared_error: 0.0596 - Time: 38.04 s\n",
      "\n",
      "Training until validation scores don't improve for 100 rounds\n",
      "[1000]\tvalid_0's rmse: 0.0601725\tvalid_0's l2: 0.00362073\n",
      "[2000]\tvalid_0's rmse: 0.060028\tvalid_0's l2: 0.00360336\n",
      "Early stopping, best iteration is:\n",
      "[1918]\tvalid_0's rmse: 0.0600226\tvalid_0's l2: 0.00360271\n",
      "--- Fold 3 - root_mean_squared_error: 0.0600 - Time: 49.45 s\n",
      "\n",
      "Training until validation scores don't improve for 100 rounds\n",
      "[1000]\tvalid_0's rmse: 0.0594362\tvalid_0's l2: 0.00353266\n",
      "Early stopping, best iteration is:\n",
      "[1376]\tvalid_0's rmse: 0.0593934\tvalid_0's l2: 0.00352758\n",
      "--- Fold 4 - root_mean_squared_error: 0.0594 - Time: 37.78 s\n",
      "\n",
      "\n",
      "------ Overall root_mean_squared_error: 0.0598 - Mean root_mean_squared_error: 0.0598 ± 0.0003 - Time: 188.21 s\n"
     ]
    }
   ],
   "source": [
    "lgbm_trainer = Trainer(\n",
    "    LGBMRegressor(**lgbm_params),\n",
    "    cv=CFG.cv,\n",
    "    metric=CFG.metric,\n",
    "    use_early_stopping=True,\n",
    "    task=\"regression\"\n",
    ")\n",
    "\n",
    "fit_args = {\n",
    "    \"eval_metric\": \"rmse\",\n",
    "    \"callbacks\": [\n",
    "        log_evaluation(period=1000), \n",
    "        early_stopping(stopping_rounds=100)\n",
    "    ]\n",
    "}\n",
    "\n",
    "lgbm_trainer.fit(X, y, fit_args=fit_args, extra_X=X_original, extra_y=y_original)\n",
    "\n",
    "scores[\"LightGBM (gbdt)\"] = lgbm_trainer.fold_scores\n",
    "oof_preds[\"LightGBM (gbdt)\"] = lgbm_trainer.oof_preds\n",
    "test_preds[\"LightGBM (gbdt)\"] = lgbm_trainer.predict(X_test)"
   ]
  },
  {
   "cell_type": "markdown",
   "id": "142ca1c8",
   "metadata": {
    "papermill": {
     "duration": 0.007695,
     "end_time": "2025-05-04T20:49:52.813281",
     "exception": false,
     "start_time": "2025-05-04T20:49:52.805586",
     "status": "completed"
    },
    "tags": []
   },
   "source": [
    "## LightGBM (goss)"
   ]
  },
  {
   "cell_type": "code",
   "execution_count": 13,
   "id": "1ad9b7a2",
   "metadata": {
    "execution": {
     "iopub.execute_input": "2025-05-04T20:49:52.829107Z",
     "iopub.status.busy": "2025-05-04T20:49:52.828832Z",
     "iopub.status.idle": "2025-05-04T20:59:59.754804Z",
     "shell.execute_reply": "2025-05-04T20:59:59.754107Z"
    },
    "papermill": {
     "duration": 606.935701,
     "end_time": "2025-05-04T20:59:59.756525",
     "exception": false,
     "start_time": "2025-05-04T20:49:52.820824",
     "status": "completed"
    },
    "tags": []
   },
   "outputs": [
    {
     "name": "stdout",
     "output_type": "stream",
     "text": [
      "Training LGBMRegressor\n",
      "\n",
      "Training until validation scores don't improve for 100 rounds\n",
      "[1000]\tvalid_0's rmse: 0.0600588\tvalid_0's l2: 0.00360706\n",
      "[2000]\tvalid_0's rmse: 0.0597145\tvalid_0's l2: 0.00356582\n",
      "[3000]\tvalid_0's rmse: 0.0596177\tvalid_0's l2: 0.00355427\n",
      "Early stopping, best iteration is:\n",
      "[3424]\tvalid_0's rmse: 0.0595945\tvalid_0's l2: 0.0035515\n",
      "--- Fold 0 - root_mean_squared_error: 0.0596 - Time: 92.69 s\n",
      "\n",
      "Training until validation scores don't improve for 100 rounds\n",
      "[1000]\tvalid_0's rmse: 0.0607929\tvalid_0's l2: 0.00369577\n",
      "[2000]\tvalid_0's rmse: 0.0604315\tvalid_0's l2: 0.00365197\n",
      "[3000]\tvalid_0's rmse: 0.0603068\tvalid_0's l2: 0.00363691\n",
      "Early stopping, best iteration is:\n",
      "[3299]\tvalid_0's rmse: 0.0602872\tvalid_0's l2: 0.00363454\n",
      "--- Fold 1 - root_mean_squared_error: 0.0603 - Time: 87.09 s\n",
      "\n",
      "Training until validation scores don't improve for 100 rounds\n",
      "[1000]\tvalid_0's rmse: 0.0600734\tvalid_0's l2: 0.00360881\n",
      "[2000]\tvalid_0's rmse: 0.0597328\tvalid_0's l2: 0.00356801\n",
      "[3000]\tvalid_0's rmse: 0.0596015\tvalid_0's l2: 0.00355234\n",
      "[4000]\tvalid_0's rmse: 0.0595402\tvalid_0's l2: 0.00354503\n",
      "Early stopping, best iteration is:\n",
      "[4508]\tvalid_0's rmse: 0.0595248\tvalid_0's l2: 0.00354321\n",
      "--- Fold 2 - root_mean_squared_error: 0.0595 - Time: 119.67 s\n",
      "\n",
      "Training until validation scores don't improve for 100 rounds\n",
      "[1000]\tvalid_0's rmse: 0.0606943\tvalid_0's l2: 0.0036838\n",
      "[2000]\tvalid_0's rmse: 0.0602788\tvalid_0's l2: 0.00363353\n",
      "[3000]\tvalid_0's rmse: 0.0601248\tvalid_0's l2: 0.00361499\n",
      "[4000]\tvalid_0's rmse: 0.060043\tvalid_0's l2: 0.00360516\n",
      "Early stopping, best iteration is:\n",
      "[4559]\tvalid_0's rmse: 0.0600092\tvalid_0's l2: 0.00360111\n",
      "--- Fold 3 - root_mean_squared_error: 0.0600 - Time: 119.97 s\n",
      "\n",
      "Training until validation scores don't improve for 100 rounds\n",
      "[1000]\tvalid_0's rmse: 0.0597776\tvalid_0's l2: 0.00357336\n",
      "[2000]\tvalid_0's rmse: 0.0594386\tvalid_0's l2: 0.00353295\n",
      "[3000]\tvalid_0's rmse: 0.0593427\tvalid_0's l2: 0.00352156\n",
      "Early stopping, best iteration is:\n",
      "[3301]\tvalid_0's rmse: 0.0593269\tvalid_0's l2: 0.00351968\n",
      "--- Fold 4 - root_mean_squared_error: 0.0593 - Time: 83.64 s\n",
      "\n",
      "\n",
      "------ Overall root_mean_squared_error: 0.0597 - Mean root_mean_squared_error: 0.0597 ± 0.0003 - Time: 503.83 s\n"
     ]
    }
   ],
   "source": [
    "lgbm_goss_trainer = Trainer(\n",
    "    LGBMRegressor(**lgbm_goss_params),\n",
    "    cv=CFG.cv,\n",
    "    metric=CFG.metric,\n",
    "    use_early_stopping=True,\n",
    "    task=\"regression\"\n",
    ")\n",
    "\n",
    "fit_args = {\n",
    "    \"eval_metric\": \"rmse\",\n",
    "    \"callbacks\": [\n",
    "        log_evaluation(period=1000), \n",
    "        early_stopping(stopping_rounds=100)\n",
    "    ]\n",
    "}\n",
    "\n",
    "lgbm_goss_trainer.fit(X, y, fit_args=fit_args, extra_X=X_original, extra_y=y_original)\n",
    "\n",
    "scores[\"LightGBM (goss)\"] = lgbm_goss_trainer.fold_scores\n",
    "oof_preds[\"LightGBM (goss)\"] = lgbm_goss_trainer.oof_preds\n",
    "test_preds[\"LightGBM (goss)\"] = lgbm_goss_trainer.predict(X_test)"
   ]
  },
  {
   "cell_type": "markdown",
   "id": "2fbace59",
   "metadata": {
    "papermill": {
     "duration": 0.01,
     "end_time": "2025-05-04T20:59:59.779607",
     "exception": false,
     "start_time": "2025-05-04T20:59:59.769607",
     "status": "completed"
    },
    "tags": []
   },
   "source": [
    "## XGBoost"
   ]
  },
  {
   "cell_type": "code",
   "execution_count": 14,
   "id": "d30440f7",
   "metadata": {
    "execution": {
     "iopub.execute_input": "2025-05-04T20:59:59.799698Z",
     "iopub.status.busy": "2025-05-04T20:59:59.799360Z",
     "iopub.status.idle": "2025-05-04T21:05:43.138283Z",
     "shell.execute_reply": "2025-05-04T21:05:43.137570Z"
    },
    "papermill": {
     "duration": 343.350666,
     "end_time": "2025-05-04T21:05:43.139776",
     "exception": false,
     "start_time": "2025-05-04T20:59:59.789110",
     "status": "completed"
    },
    "tags": []
   },
   "outputs": [
    {
     "name": "stdout",
     "output_type": "stream",
     "text": [
      "Training XGBRegressor\n",
      "\n",
      "[0]\tvalidation_0-rmse:0.92856\n",
      "[1000]\tvalidation_0-rmse:0.06015\n",
      "[2000]\tvalidation_0-rmse:0.06009\n",
      "[3000]\tvalidation_0-rmse:0.06007\n",
      "[3122]\tvalidation_0-rmse:0.06006\n",
      "--- Fold 0 - root_mean_squared_error: 0.0601 - Time: 71.52 s\n",
      "\n",
      "[0]\tvalidation_0-rmse:0.93096\n",
      "[1000]\tvalidation_0-rmse:0.06137\n",
      "[2000]\tvalidation_0-rmse:0.06128\n",
      "[3000]\tvalidation_0-rmse:0.06123\n",
      "[3071]\tvalidation_0-rmse:0.06123\n",
      "--- Fold 1 - root_mean_squared_error: 0.0612 - Time: 77.12 s\n",
      "\n",
      "[0]\tvalidation_0-rmse:0.92964\n",
      "[1000]\tvalidation_0-rmse:0.06065\n",
      "[2000]\tvalidation_0-rmse:0.06056\n",
      "[3000]\tvalidation_0-rmse:0.06053\n",
      "[3092]\tvalidation_0-rmse:0.06053\n",
      "--- Fold 2 - root_mean_squared_error: 0.0605 - Time: 78.56 s\n",
      "\n",
      "[0]\tvalidation_0-rmse:0.92813\n",
      "[1000]\tvalidation_0-rmse:0.06097\n",
      "[1243]\tvalidation_0-rmse:0.06096\n",
      "--- Fold 3 - root_mean_squared_error: 0.0610 - Time: 36.78 s\n",
      "\n",
      "[0]\tvalidation_0-rmse:0.92887\n",
      "[1000]\tvalidation_0-rmse:0.06014\n",
      "[2000]\tvalidation_0-rmse:0.06007\n",
      "[2596]\tvalidation_0-rmse:0.06005\n",
      "--- Fold 4 - root_mean_squared_error: 0.0601 - Time: 65.80 s\n",
      "\n",
      "\n",
      "------ Overall root_mean_squared_error: 0.0606 - Mean root_mean_squared_error: 0.0606 ± 0.0005 - Time: 330.60 s\n"
     ]
    }
   ],
   "source": [
    "xgb_trainer = Trainer(\n",
    "    XGBRegressor(**xgb_params),\n",
    "    cv=CFG.cv,\n",
    "    metric=CFG.metric,\n",
    "    use_early_stopping=True,\n",
    "    task=\"regression\"\n",
    ")\n",
    "\n",
    "fit_args = {\n",
    "    \"verbose\": 1000\n",
    "}\n",
    "\n",
    "xgb_trainer.fit(X, y, fit_args=fit_args, extra_X=X_original, extra_y=y_original)\n",
    "\n",
    "scores[\"XGBoost\"] = xgb_trainer.fold_scores\n",
    "oof_preds[\"XGBoost\"] = xgb_trainer.oof_preds\n",
    "test_preds[\"XGBoost\"] = xgb_trainer.predict(X_test)"
   ]
  },
  {
   "cell_type": "markdown",
   "id": "16113dd8",
   "metadata": {
    "papermill": {
     "duration": 0.010818,
     "end_time": "2025-05-04T21:05:43.166722",
     "exception": false,
     "start_time": "2025-05-04T21:05:43.155904",
     "status": "completed"
    },
    "tags": []
   },
   "source": [
    "## CatBoost"
   ]
  },
  {
   "cell_type": "code",
   "execution_count": 15,
   "id": "b6980d53",
   "metadata": {
    "execution": {
     "iopub.execute_input": "2025-05-04T21:05:43.189252Z",
     "iopub.status.busy": "2025-05-04T21:05:43.189001Z",
     "iopub.status.idle": "2025-05-04T21:17:16.507062Z",
     "shell.execute_reply": "2025-05-04T21:17:16.506197Z"
    },
    "papermill": {
     "duration": 693.331479,
     "end_time": "2025-05-04T21:17:16.508936",
     "exception": false,
     "start_time": "2025-05-04T21:05:43.177457",
     "status": "completed"
    },
    "tags": []
   },
   "outputs": [
    {
     "name": "stdout",
     "output_type": "stream",
     "text": [
      "Training CatBoostRegressor\n",
      "\n",
      "0:\tlearn: 0.9348709\ttest: 0.9341488\tbest: 0.9341488 (0)\ttotal: 121ms\tremaining: 1h 40m 58s\n",
      "1000:\tlearn: 0.0571087\ttest: 0.0593244\tbest: 0.0593244 (1000)\ttotal: 50s\tremaining: 40m 47s\n",
      "2000:\tlearn: 0.0560120\ttest: 0.0591679\tbest: 0.0591679 (2000)\ttotal: 1m 38s\tremaining: 39m 20s\n",
      "Stopped by overfitting detector  (100 iterations wait)\n",
      "\n",
      "bestTest = 0.05911377754\n",
      "bestIteration = 2824\n",
      "\n",
      "Shrink model to first 2825 iterations.\n",
      "--- Fold 0 - root_mean_squared_error: 0.0591 - Time: 144.74 s\n",
      "\n",
      "0:\tlearn: 0.9342850\ttest: 0.9365766\tbest: 0.9365766 (0)\ttotal: 72.3ms\tremaining: 1h 15s\n",
      "1000:\tlearn: 0.0571036\ttest: 0.0598252\tbest: 0.0598252 (1000)\ttotal: 50s\tremaining: 40m 46s\n",
      "Stopped by overfitting detector  (100 iterations wait)\n",
      "\n",
      "bestTest = 0.05966835269\n",
      "bestIteration = 1741\n",
      "\n",
      "Shrink model to first 1742 iterations.\n",
      "--- Fold 1 - root_mean_squared_error: 0.0597 - Time: 92.74 s\n",
      "\n",
      "0:\tlearn: 0.9346164\ttest: 0.9352198\tbest: 0.9352198 (0)\ttotal: 62ms\tremaining: 51m 42s\n",
      "1000:\tlearn: 0.0570640\ttest: 0.0593004\tbest: 0.0593004 (1000)\ttotal: 49.9s\tremaining: 40m 42s\n",
      "2000:\tlearn: 0.0559380\ttest: 0.0590550\tbest: 0.0590543 (1996)\ttotal: 1m 39s\tremaining: 39m 39s\n",
      "3000:\tlearn: 0.0551639\ttest: 0.0589824\tbest: 0.0589822 (2994)\ttotal: 2m 27s\tremaining: 38m 37s\n",
      "Stopped by overfitting detector  (100 iterations wait)\n",
      "\n",
      "bestTest = 0.05895750885\n",
      "bestIteration = 3703\n",
      "\n",
      "Shrink model to first 3704 iterations.\n",
      "--- Fold 2 - root_mean_squared_error: 0.0590 - Time: 188.82 s\n",
      "\n",
      "0:\tlearn: 0.9349691\ttest: 0.9337102\tbest: 0.9337102 (0)\ttotal: 92.3ms\tremaining: 1h 16m 54s\n",
      "1000:\tlearn: 0.0570599\ttest: 0.0597373\tbest: 0.0597373 (1000)\ttotal: 50.4s\tremaining: 41m 6s\n",
      "2000:\tlearn: 0.0560408\ttest: 0.0595997\tbest: 0.0595980 (1976)\ttotal: 1m 40s\tremaining: 40m 22s\n",
      "3000:\tlearn: 0.0552776\ttest: 0.0595437\tbest: 0.0595417 (2940)\ttotal: 2m 30s\tremaining: 39m 21s\n",
      "Stopped by overfitting detector  (100 iterations wait)\n",
      "\n",
      "bestTest = 0.0595416905\n",
      "bestIteration = 2940\n",
      "\n",
      "Shrink model to first 2941 iterations.\n",
      "--- Fold 3 - root_mean_squared_error: 0.0595 - Time: 153.95 s\n",
      "\n",
      "0:\tlearn: 0.9347914\ttest: 0.9344284\tbest: 0.9344284 (0)\ttotal: 69.5ms\tremaining: 57m 55s\n",
      "1000:\tlearn: 0.0572454\ttest: 0.0590697\tbest: 0.0590697 (1000)\ttotal: 50.9s\tremaining: 41m 29s\n",
      "2000:\tlearn: 0.0561135\ttest: 0.0589142\tbest: 0.0589119 (1987)\ttotal: 1m 40s\tremaining: 40m 2s\n",
      "Stopped by overfitting detector  (100 iterations wait)\n",
      "\n",
      "bestTest = 0.05891120084\n",
      "bestIteration = 2077\n",
      "\n",
      "Shrink model to first 2078 iterations.\n",
      "--- Fold 4 - root_mean_squared_error: 0.0589 - Time: 110.27 s\n",
      "\n",
      "\n",
      "------ Overall root_mean_squared_error: 0.0592 - Mean root_mean_squared_error: 0.0592 ± 0.0003 - Time: 691.37 s\n"
     ]
    }
   ],
   "source": [
    "cb_trainer = Trainer(\n",
    "    CatBoostRegressor(**cb_params),\n",
    "    cv=CFG.cv,\n",
    "    metric=CFG.metric,\n",
    "    use_early_stopping=True,\n",
    "    task=\"regression\"\n",
    ")\n",
    "\n",
    "fit_args = {\n",
    "    \"verbose\": 1000,\n",
    "    \"early_stopping_rounds\": 100,\n",
    "    \"use_best_model\": True\n",
    "}\n",
    "\n",
    "cb_trainer.fit(X, y, fit_args=fit_args, extra_X=X_original, extra_y=y_original)\n",
    "\n",
    "scores[\"CatBoost\"] = cb_trainer.fold_scores\n",
    "oof_preds[\"CatBoost\"] = cb_trainer.oof_preds\n",
    "test_preds[\"CatBoost\"] = cb_trainer.predict(X_test)"
   ]
  },
  {
   "cell_type": "markdown",
   "id": "f6efe838",
   "metadata": {
    "papermill": {
     "duration": 0.012219,
     "end_time": "2025-05-04T21:17:16.534231",
     "exception": false,
     "start_time": "2025-05-04T21:17:16.522012",
     "status": "completed"
    },
    "tags": []
   },
   "source": [
    "## AutoGluon"
   ]
  },
  {
   "cell_type": "code",
   "execution_count": 16,
   "id": "f2c410d1",
   "metadata": {
    "execution": {
     "iopub.execute_input": "2025-05-04T21:17:16.560457Z",
     "iopub.status.busy": "2025-05-04T21:17:16.560154Z",
     "iopub.status.idle": "2025-05-04T21:17:16.786794Z",
     "shell.execute_reply": "2025-05-04T21:17:16.786119Z"
    },
    "papermill": {
     "duration": 0.241651,
     "end_time": "2025-05-04T21:17:16.788308",
     "exception": false,
     "start_time": "2025-05-04T21:17:16.546657",
     "status": "completed"
    },
    "tags": []
   },
   "outputs": [],
   "source": [
    "oof_preds_files = glob.glob(f'/kaggle/input/s05e05-calorie-expenditure-prediction-automl/*_oof_preds_*.pkl')\n",
    "test_preds_files = glob.glob(f'/kaggle/input/s05e05-calorie-expenditure-prediction-automl/*_test_preds_*.pkl')\n",
    "\n",
    "ag_oof_preds = np.log1p(joblib.load(oof_preds_files[0]))\n",
    "ag_test_preds = np.log1p(joblib.load(test_preds_files[0]))\n",
    "\n",
    "ag_scores = []\n",
    "split = KFold(n_splits=CFG.n_folds, random_state=CFG.seed, shuffle=True).split(X, y)\n",
    "for _, val_idx in split:\n",
    "    y_val = y[val_idx]\n",
    "    y_preds = ag_oof_preds[val_idx]   \n",
    "    score = root_mean_squared_error(y_preds, y_val)\n",
    "    ag_scores.append(score)\n",
    "    \n",
    "oof_preds[\"AutoGluon\"], test_preds[\"AutoGluon\"], scores[\"AutoGluon\"] = ag_oof_preds, ag_test_preds, ag_scores"
   ]
  },
  {
   "cell_type": "markdown",
   "id": "432a71c6",
   "metadata": {
    "papermill": {
     "duration": 0.012401,
     "end_time": "2025-05-04T21:17:16.813759",
     "exception": false,
     "start_time": "2025-05-04T21:17:16.801358",
     "status": "completed"
    },
    "tags": []
   },
   "source": [
    "# Ensembling with Ridge"
   ]
  },
  {
   "cell_type": "code",
   "execution_count": 17,
   "id": "550d4200",
   "metadata": {
    "_kg_hide-input": true,
    "execution": {
     "iopub.execute_input": "2025-05-04T21:17:16.840478Z",
     "iopub.status.busy": "2025-05-04T21:17:16.840132Z",
     "iopub.status.idle": "2025-05-04T21:17:16.847379Z",
     "shell.execute_reply": "2025-05-04T21:17:16.846726Z"
    },
    "papermill": {
     "duration": 0.02236,
     "end_time": "2025-05-04T21:17:16.848657",
     "exception": false,
     "start_time": "2025-05-04T21:17:16.826297",
     "status": "completed"
    },
    "tags": []
   },
   "outputs": [],
   "source": [
    "def plot_weights(weights, title):\n",
    "    sorted_indices = np.argsort(weights[0])[::-1]\n",
    "    sorted_coeffs = np.array(weights[0])[sorted_indices]\n",
    "    sorted_model_names = np.array(list(oof_preds.keys()))[sorted_indices]\n",
    "\n",
    "    plt.figure(figsize=(10, weights.shape[1] * 0.5))\n",
    "    ax = sns.barplot(x=sorted_coeffs, y=sorted_model_names, palette=\"RdYlGn_r\")\n",
    "\n",
    "    for i, (value, name) in enumerate(zip(sorted_coeffs, sorted_model_names)):\n",
    "        if value >= 0:\n",
    "            ax.text(value, i, f\"{value:.3f}\", va=\"center\", ha=\"left\", color=\"black\")\n",
    "        else:\n",
    "            ax.text(value, i, f\"{value:.3f}\", va=\"center\", ha=\"right\", color=\"black\")\n",
    "\n",
    "    xlim = ax.get_xlim()\n",
    "    ax.set_xlim(xlim[0] - 0.1 * abs(xlim[0]), xlim[1] + 0.1 * abs(xlim[1]))\n",
    "\n",
    "    plt.title(title)\n",
    "    plt.xlabel(\"\")\n",
    "    plt.ylabel(\"\")\n",
    "    plt.tight_layout()\n",
    "    plt.show()"
   ]
  },
  {
   "cell_type": "code",
   "execution_count": 18,
   "id": "56029914",
   "metadata": {
    "execution": {
     "iopub.execute_input": "2025-05-04T21:17:16.874994Z",
     "iopub.status.busy": "2025-05-04T21:17:16.874705Z",
     "iopub.status.idle": "2025-05-04T21:17:16.892833Z",
     "shell.execute_reply": "2025-05-04T21:17:16.892030Z"
    },
    "papermill": {
     "duration": 0.032892,
     "end_time": "2025-05-04T21:17:16.894288",
     "exception": false,
     "start_time": "2025-05-04T21:17:16.861396",
     "status": "completed"
    },
    "tags": []
   },
   "outputs": [],
   "source": [
    "X = pd.DataFrame(oof_preds)\n",
    "X_test = pd.DataFrame(test_preds)"
   ]
  },
  {
   "cell_type": "code",
   "execution_count": 19,
   "id": "f10852f5",
   "metadata": {
    "execution": {
     "iopub.execute_input": "2025-05-04T21:17:16.921288Z",
     "iopub.status.busy": "2025-05-04T21:17:16.920999Z",
     "iopub.status.idle": "2025-05-04T21:17:16.979289Z",
     "shell.execute_reply": "2025-05-04T21:17:16.978392Z"
    },
    "papermill": {
     "duration": 0.073442,
     "end_time": "2025-05-04T21:17:16.980705",
     "exception": false,
     "start_time": "2025-05-04T21:17:16.907263",
     "status": "completed"
    },
    "tags": []
   },
   "outputs": [
    {
     "data": {
      "text/plain": [
       "['test_preds.pkl']"
      ]
     },
     "execution_count": 19,
     "metadata": {},
     "output_type": "execute_result"
    }
   ],
   "source": [
    "joblib.dump(X, \"oof_preds.pkl\")\n",
    "joblib.dump(X_test, \"test_preds.pkl\")"
   ]
  },
  {
   "cell_type": "code",
   "execution_count": 20,
   "id": "13f8c290",
   "metadata": {
    "_kg_hide-output": true,
    "execution": {
     "iopub.execute_input": "2025-05-04T21:17:17.007950Z",
     "iopub.status.busy": "2025-05-04T21:17:17.007669Z",
     "iopub.status.idle": "2025-05-04T21:21:32.301392Z",
     "shell.execute_reply": "2025-05-04T21:21:32.300511Z"
    },
    "papermill": {
     "duration": 255.309157,
     "end_time": "2025-05-04T21:21:32.302951",
     "exception": false,
     "start_time": "2025-05-04T21:17:16.993794",
     "status": "completed"
    },
    "scrolled": true,
    "tags": []
   },
   "outputs": [
    {
     "name": "stderr",
     "output_type": "stream",
     "text": [
      "[I 2025-05-04 21:17:17,012] A new study created in memory with name: no-name-fd861408-bf00-4988-abac-7ac496bf5129\n",
      "[I 2025-05-04 21:17:20,976] Trial 2 finished with value: 0.05898702166925062 and parameters: {'alpha': 3.251886193246454, 'tol': 0.006071232569131528}. Best is trial 2 with value: 0.05898702166925062.\n",
      "[I 2025-05-04 21:17:20,984] Trial 0 finished with value: 0.05898888434341537 and parameters: {'alpha': 6.415899043350888, 'tol': 0.008862101224573123}. Best is trial 2 with value: 0.05898702166925062.\n",
      "[I 2025-05-04 21:17:21,315] Trial 1 finished with value: 0.05898917081240923 and parameters: {'alpha': 6.7826958212121236, 'tol': 0.0023423396289169664}. Best is trial 2 with value: 0.05898702166925062.\n",
      "[I 2025-05-04 21:17:21,320] Trial 3 finished with value: 0.0589869414735883 and parameters: {'alpha': 3.0036321182352177, 'tol': 0.004292203411468358}. Best is trial 3 with value: 0.0589869414735883.\n",
      "[I 2025-05-04 21:17:25,431] Trial 7 finished with value: 0.05898880064966242 and parameters: {'alpha': 6.30603021325534, 'tol': 0.0033359291081942253}. Best is trial 3 with value: 0.0589869414735883.\n",
      "[I 2025-05-04 21:17:25,433] Trial 5 finished with value: 0.05899063826179313 and parameters: {'alpha': 8.505982213737521, 'tol': 0.0061483532088442575}. Best is trial 3 with value: 0.0589869414735883.\n",
      "[I 2025-05-04 21:17:25,435] Trial 4 finished with value: 0.05898686952539953 and parameters: {'alpha': 1.1250099201862696, 'tol': 0.005746109329136938}. Best is trial 4 with value: 0.05898686952539953.\n",
      "[I 2025-05-04 21:17:25,440] Trial 6 finished with value: 0.05898694529552253 and parameters: {'alpha': 3.016464052796788, 'tol': 0.005847645546616946}. Best is trial 4 with value: 0.05898686952539953.\n",
      "[I 2025-05-04 21:17:29,627] Trial 8 finished with value: 0.05899074903720359 and parameters: {'alpha': 8.628597740619742, 'tol': 0.002654186042650794}. Best is trial 4 with value: 0.05898686952539953.\n",
      "[I 2025-05-04 21:17:29,627] Trial 9 finished with value: 0.05898714329745463 and parameters: {'alpha': 0.4881259898311652, 'tol': 0.0007063631056451845}. Best is trial 4 with value: 0.05898686952539953.\n",
      "[I 2025-05-04 21:17:29,630] Trial 11 finished with value: 0.05898985600890433 and parameters: {'alpha': 7.613891149314966, 'tol': 0.00786994046165111}. Best is trial 4 with value: 0.05898686952539953.\n",
      "[I 2025-05-04 21:17:29,643] Trial 10 finished with value: 0.0589867738591965 and parameters: {'alpha': 2.1120089090132987, 'tol': 0.006401479269878094}. Best is trial 10 with value: 0.0589867738591965.\n",
      "[I 2025-05-04 21:17:33,812] Trial 14 finished with value: 0.05898685858581191 and parameters: {'alpha': 1.1648540283246012, 'tol': 0.009125136023454713}. Best is trial 10 with value: 0.0589867738591965.\n",
      "[I 2025-05-04 21:17:33,818] Trial 13 finished with value: 0.05898713556454668 and parameters: {'alpha': 0.5013252291545767, 'tol': 0.004451234856507839}. Best is trial 10 with value: 0.0589867738591965.\n",
      "[I 2025-05-04 21:17:33,819] Trial 15 finished with value: 0.05898725041786586 and parameters: {'alpha': 0.31977907976383757, 'tol': 0.008021089947050064}. Best is trial 10 with value: 0.0589867738591965.\n",
      "[I 2025-05-04 21:17:33,830] Trial 12 finished with value: 0.05898682878850466 and parameters: {'alpha': 1.2886413146163171, 'tol': 0.008930289102511924}. Best is trial 10 with value: 0.0589867738591965.\n",
      "[I 2025-05-04 21:17:37,872] Trial 18 finished with value: 0.058987319538060336 and parameters: {'alpha': 3.9670583471615783, 'tol': 0.008468197532140294}. Best is trial 10 with value: 0.0589867738591965.\n",
      "[I 2025-05-04 21:17:37,878] Trial 17 finished with value: 0.05898692850696886 and parameters: {'alpha': 2.9591524538542453, 'tol': 0.00987308228820755}. Best is trial 10 with value: 0.0589867738591965.\n",
      "[I 2025-05-04 21:17:37,880] Trial 16 finished with value: 0.058986774052358984 and parameters: {'alpha': 1.6727638529908673, 'tol': 0.009969369029078856}. Best is trial 10 with value: 0.0589867738591965.\n",
      "[I 2025-05-04 21:17:37,933] Trial 19 finished with value: 0.05898718689203596 and parameters: {'alpha': 3.6753846246364024, 'tol': 0.009223548723594453}. Best is trial 10 with value: 0.0589867738591965.\n",
      "[I 2025-05-04 21:17:41,530] Trial 20 finished with value: 0.05898692598999854 and parameters: {'alpha': 2.9503392825818664, 'tol': 0.009805847535559423}. Best is trial 10 with value: 0.0589867738591965.\n",
      "[I 2025-05-04 21:17:41,728] Trial 22 finished with value: 0.05898698617431501 and parameters: {'alpha': 3.146921155322504, 'tol': 0.00044397719222941806}. Best is trial 10 with value: 0.0589867738591965.\n",
      "[I 2025-05-04 21:17:42,108] Trial 23 finished with value: 0.058987248747524694 and parameters: {'alpha': 3.8153780329852856, 'tol': 0.0011807312890027757}. Best is trial 10 with value: 0.0589867738591965.\n",
      "[I 2025-05-04 21:17:42,113] Trial 21 finished with value: 0.05898701686500777 and parameters: {'alpha': 3.2380626106721127, 'tol': 0.0010727786240282968}. Best is trial 10 with value: 0.0589867738591965.\n",
      "[I 2025-05-04 21:17:45,741] Trial 25 finished with value: 0.05898743461090995 and parameters: {'alpha': 0.07662230572007833, 'tol': 0.009298757756272705}. Best is trial 10 with value: 0.0589867738591965.\n",
      "[I 2025-05-04 21:17:45,741] Trial 24 finished with value: 0.058987052891271013 and parameters: {'alpha': 0.6539120178263447, 'tol': 0.009469336962669161}. Best is trial 10 with value: 0.0589867738591965.\n",
      "[I 2025-05-04 21:17:46,161] Trial 27 finished with value: 0.058986941822767945 and parameters: {'alpha': 0.906376590755094, 'tol': 0.009311957469276145}. Best is trial 10 with value: 0.0589867738591965.\n",
      "[I 2025-05-04 21:17:46,174] Trial 26 finished with value: 0.058987299533212495 and parameters: {'alpha': 0.2500868192054142, 'tol': 0.009566983588998103}. Best is trial 10 with value: 0.0589867738591965.\n",
      "[I 2025-05-04 21:17:49,789] Trial 29 finished with value: 0.058986826883252685 and parameters: {'alpha': 2.528946246881163, 'tol': 0.007595239832352977}. Best is trial 10 with value: 0.0589867738591965.\n",
      "[I 2025-05-04 21:17:49,793] Trial 28 finished with value: 0.05898681376543931 and parameters: {'alpha': 1.363441338064905, 'tol': 0.007422191566499923}. Best is trial 10 with value: 0.0589867738591965.\n",
      "[I 2025-05-04 21:17:50,084] Trial 31 finished with value: 0.05898677668994442 and parameters: {'alpha': 2.1503397206721826, 'tol': 0.007081443548765448}. Best is trial 10 with value: 0.0589867738591965.\n",
      "[I 2025-05-04 21:17:50,256] Trial 30 finished with value: 0.058986801509511376 and parameters: {'alpha': 1.4344782723363863, 'tol': 0.007008110572518296}. Best is trial 10 with value: 0.0589867738591965.\n",
      "[I 2025-05-04 21:17:53,878] Trial 33 finished with value: 0.0589881082496248 and parameters: {'alpha': 5.33369435367325, 'tol': 0.006861171852812112}. Best is trial 10 with value: 0.0589867738591965.\n",
      "[I 2025-05-04 21:17:53,892] Trial 32 finished with value: 0.05898798253372266 and parameters: {'alpha': 5.140931765975671, 'tol': 0.0058397866483193075}. Best is trial 10 with value: 0.0589867738591965.\n",
      "[I 2025-05-04 21:17:54,330] Trial 34 finished with value: 0.058986798966520454 and parameters: {'alpha': 1.4507892141151801, 'tol': 0.006216993808057038}. Best is trial 10 with value: 0.0589867738591965.\n",
      "[I 2025-05-04 21:17:54,334] Trial 35 finished with value: 0.05898819131244353 and parameters: {'alpha': 5.457718217561546, 'tol': 0.006340359032464871}. Best is trial 10 with value: 0.0589867738591965.\n",
      "[I 2025-05-04 21:17:57,915] Trial 37 finished with value: 0.05898676623849413 and parameters: {'alpha': 1.8812281903692636, 'tol': 0.005912862343721793}. Best is trial 37 with value: 0.05898676623849413.\n",
      "[I 2025-05-04 21:17:57,916] Trial 36 finished with value: 0.05898687916475249 and parameters: {'alpha': 2.7732349839233716, 'tol': 0.0063464901184580305}. Best is trial 37 with value: 0.05898676623849413.\n",
      "[I 2025-05-04 21:17:58,360] Trial 38 finished with value: 0.05898680653259175 and parameters: {'alpha': 2.407515194620093, 'tol': 0.005578208013962674}. Best is trial 37 with value: 0.05898676623849413.\n",
      "[I 2025-05-04 21:17:58,373] Trial 39 finished with value: 0.058986778162256615 and parameters: {'alpha': 2.1682718051670617, 'tol': 0.005334114799288775}. Best is trial 37 with value: 0.05898676623849413.\n",
      "[I 2025-05-04 21:18:01,952] Trial 41 finished with value: 0.058986802641043695 and parameters: {'alpha': 2.3812212924522074, 'tol': 0.004542165005861197}. Best is trial 37 with value: 0.05898676623849413.\n",
      "[I 2025-05-04 21:18:01,967] Trial 40 finished with value: 0.05898686048879327 and parameters: {'alpha': 2.6935074229979716, 'tol': 0.004671430499407608}. Best is trial 37 with value: 0.05898676623849413.\n",
      "[I 2025-05-04 21:18:02,393] Trial 43 finished with value: 0.05898690036064593 and parameters: {'alpha': 2.85681150984953, 'tol': 0.007283589501803947}. Best is trial 37 with value: 0.05898676623849413.\n",
      "[I 2025-05-04 21:18:02,413] Trial 42 finished with value: 0.058986812519117825 and parameters: {'alpha': 2.4457344147650755, 'tol': 0.004943522979881756}. Best is trial 37 with value: 0.05898676623849413.\n",
      "[I 2025-05-04 21:18:05,997] Trial 44 finished with value: 0.058986806948448704 and parameters: {'alpha': 2.4102528381893915, 'tol': 0.00491571316660972}. Best is trial 37 with value: 0.05898676623849413.\n",
      "[I 2025-05-04 21:18:06,002] Trial 45 finished with value: 0.0589873315630754 and parameters: {'alpha': 0.20671640576885086, 'tol': 0.005746515566731257}. Best is trial 37 with value: 0.05898676623849413.\n",
      "[I 2025-05-04 21:18:06,441] Trial 46 finished with value: 0.058986865494391964 and parameters: {'alpha': 2.715529578857473, 'tol': 0.005626402876023141}. Best is trial 37 with value: 0.05898676623849413.\n",
      "[I 2025-05-04 21:18:06,441] Trial 47 finished with value: 0.05898728623357037 and parameters: {'alpha': 0.26856070423402834, 'tol': 0.005546231302119611}. Best is trial 37 with value: 0.05898676623849413.\n",
      "[I 2025-05-04 21:18:09,862] Trial 49 finished with value: 0.058986825771395385 and parameters: {'alpha': 2.5228586428862343, 'tol': 0.006521615210911649}. Best is trial 37 with value: 0.05898676623849413.\n",
      "[I 2025-05-04 21:18:10,031] Trial 48 finished with value: 0.05898684841106283 and parameters: {'alpha': 1.2042929997718013, 'tol': 0.006659079736387157}. Best is trial 37 with value: 0.05898676623849413.\n",
      "[I 2025-05-04 21:18:10,453] Trial 51 finished with value: 0.05898695162661896 and parameters: {'alpha': 3.0374593050739955, 'tol': 0.006807634154478927}. Best is trial 37 with value: 0.05898676623849413.\n",
      "[I 2025-05-04 21:18:10,455] Trial 50 finished with value: 0.0589914039895162 and parameters: {'alpha': 9.33863155852653, 'tol': 0.001130372584472226}. Best is trial 37 with value: 0.05898676623849413.\n",
      "[I 2025-05-04 21:18:14,189] Trial 52 finished with value: 0.058990687307735774 and parameters: {'alpha': 8.560369903942938, 'tol': 0.004809600669738082}. Best is trial 37 with value: 0.05898676623849413.\n",
      "[I 2025-05-04 21:18:14,211] Trial 53 finished with value: 0.058991076556928174 and parameters: {'alpha': 8.9866603045684, 'tol': 0.009723518512661903}. Best is trial 37 with value: 0.05898676623849413.\n",
      "[I 2025-05-04 21:18:14,500] Trial 55 finished with value: 0.058991755313172696 and parameters: {'alpha': 9.710452350303793, 'tol': 0.007466039738117779}. Best is trial 37 with value: 0.05898676623849413.\n",
      "[I 2025-05-04 21:18:14,667] Trial 54 finished with value: 0.05899173753862283 and parameters: {'alpha': 9.691773924421591, 'tol': 0.009303995577498713}. Best is trial 37 with value: 0.05898676623849413.\n",
      "[I 2025-05-04 21:18:18,171] Trial 57 finished with value: 0.05898683992449441 and parameters: {'alpha': 1.2392668850411233, 'tol': 0.005706400858584168}. Best is trial 37 with value: 0.05898676623849413.\n",
      "[I 2025-05-04 21:18:18,175] Trial 56 finished with value: 0.05898743681190773 and parameters: {'alpha': 0.07398358443478825, 'tol': 0.002826197272191676}. Best is trial 37 with value: 0.05898676623849413.\n",
      "[I 2025-05-04 21:18:18,605] Trial 58 finished with value: 0.05898681887927361 and parameters: {'alpha': 1.3367225872708528, 'tol': 0.006052691389047225}. Best is trial 37 with value: 0.05898676623849413.\n",
      "[I 2025-05-04 21:18:18,616] Trial 59 finished with value: 0.058986795343192566 and parameters: {'alpha': 2.3280384436125376, 'tol': 0.006708851208725624}. Best is trial 37 with value: 0.05898676623849413.\n",
      "[I 2025-05-04 21:18:22,213] Trial 60 finished with value: 0.05898765408098157 and parameters: {'alpha': 4.60087588490583, 'tol': 0.0038536778694843628}. Best is trial 37 with value: 0.05898676623849413.\n",
      "[I 2025-05-04 21:18:22,216] Trial 61 finished with value: 0.05898679469279965 and parameters: {'alpha': 2.323006385969456, 'tol': 0.007853954374927934}. Best is trial 37 with value: 0.05898676623849413.\n",
      "[I 2025-05-04 21:18:22,669] Trial 62 finished with value: 0.058986837271137724 and parameters: {'alpha': 2.5835037960511364, 'tol': 0.008604199667438427}. Best is trial 37 with value: 0.05898676623849413.\n",
      "[I 2025-05-04 21:18:22,670] Trial 63 finished with value: 0.058986846747089317 and parameters: {'alpha': 2.630138324903144, 'tol': 0.009655241690458297}. Best is trial 37 with value: 0.05898676623849413.\n",
      "[I 2025-05-04 21:18:26,013] Trial 65 finished with value: 0.05898687683836103 and parameters: {'alpha': 2.7636475050315314, 'tol': 0.008844943243300148}. Best is trial 37 with value: 0.05898676623849413.\n",
      "[I 2025-05-04 21:18:26,188] Trial 64 finished with value: 0.05898687733187621 and parameters: {'alpha': 2.765688912518174, 'tol': 0.008280422478179611}. Best is trial 37 with value: 0.05898676623849413.\n",
      "[I 2025-05-04 21:18:26,608] Trial 66 finished with value: 0.058987107596160236 and parameters: {'alpha': 3.482953725105059, 'tol': 0.007566708692225684}. Best is trial 37 with value: 0.05898676623849413.\n",
      "[I 2025-05-04 21:18:26,612] Trial 67 finished with value: 0.058986872471380195 and parameters: {'alpha': 2.7454011096812923, 'tol': 0.007501430644213368}. Best is trial 37 with value: 0.05898676623849413.\n",
      "[I 2025-05-04 21:18:30,222] Trial 69 finished with value: 0.058986989371881175 and parameters: {'alpha': 3.1566616868820874, 'tol': 0.0071876702539067205}. Best is trial 37 with value: 0.05898676623849413.\n",
      "[I 2025-05-04 21:18:30,238] Trial 68 finished with value: 0.05898710853396911 and parameters: {'alpha': 3.4853311231056194, 'tol': 0.0074390798478811936}. Best is trial 37 with value: 0.05898676623849413.\n",
      "[I 2025-05-04 21:18:30,671] Trial 70 finished with value: 0.058986819471022196 and parameters: {'alpha': 1.333721870513427, 'tol': 0.007755907400900678}. Best is trial 37 with value: 0.05898676623849413.\n",
      "[I 2025-05-04 21:18:30,689] Trial 71 finished with value: 0.05898683301201026 and parameters: {'alpha': 1.2693979172972458, 'tol': 0.007528951222049683}. Best is trial 37 with value: 0.05898676623849413.\n",
      "[I 2025-05-04 21:18:34,253] Trial 73 finished with value: 0.05898692373536921 and parameters: {'alpha': 0.9554629075748715, 'tol': 0.00787106917221523}. Best is trial 37 with value: 0.05898676623849413.\n",
      "[I 2025-05-04 21:18:34,255] Trial 72 finished with value: 0.05898699399175313 and parameters: {'alpha': 0.779013837598542, 'tol': 0.006975671442280115}. Best is trial 37 with value: 0.05898676623849413.\n",
      "[I 2025-05-04 21:18:34,704] Trial 75 finished with value: 0.058986878571231034 and parameters: {'alpha': 1.0937770520134944, 'tol': 0.006532683669850156}. Best is trial 37 with value: 0.05898676623849413.\n",
      "[I 2025-05-04 21:18:34,721] Trial 74 finished with value: 0.05898676879432079 and parameters: {'alpha': 2.0185096103374307, 'tol': 0.005952922256590461}. Best is trial 37 with value: 0.05898676623849413.\n",
      "[I 2025-05-04 21:18:38,304] Trial 77 finished with value: 0.058986849722801125 and parameters: {'alpha': 2.6442560142118587, 'tol': 0.006048334646618346}. Best is trial 37 with value: 0.05898676623849413.\n",
      "[I 2025-05-04 21:18:38,316] Trial 76 finished with value: 0.058988435490906224 and parameters: {'alpha': 5.809290033878997, 'tol': 0.009646419678939477}. Best is trial 37 with value: 0.05898676623849413.\n",
      "[I 2025-05-04 21:18:38,778] Trial 79 finished with value: 0.05898686745445124 and parameters: {'alpha': 2.7240149811387946, 'tol': 0.00614172355477234}. Best is trial 37 with value: 0.05898676623849413.\n",
      "[I 2025-05-04 21:18:38,795] Trial 78 finished with value: 0.058986803214970907 and parameters: {'alpha': 2.385179629277226, 'tol': 0.00608536734871799}. Best is trial 37 with value: 0.05898676623849413.\n",
      "[I 2025-05-04 21:18:42,362] Trial 81 finished with value: 0.05898676674242766 and parameters: {'alpha': 1.9480054994974572, 'tol': 0.003658049286693636}. Best is trial 37 with value: 0.05898676623849413.\n",
      "[I 2025-05-04 21:18:42,363] Trial 80 finished with value: 0.058986766228409725 and parameters: {'alpha': 1.8964781224355542, 'tol': 0.003291475521928099}. Best is trial 80 with value: 0.058986766228409725.\n",
      "[I 2025-05-04 21:18:42,794] Trial 82 finished with value: 0.05898686919448196 and parameters: {'alpha': 2.7314856243067256, 'tol': 0.004138092706334135}. Best is trial 80 with value: 0.058986766228409725.\n",
      "[I 2025-05-04 21:18:42,795] Trial 83 finished with value: 0.05898744300995882 and parameters: {'alpha': 4.214525634610543, 'tol': 0.0048046085524900365}. Best is trial 80 with value: 0.058986766228409725.\n",
      "[I 2025-05-04 21:18:46,375] Trial 84 finished with value: 0.05898676689064665 and parameters: {'alpha': 1.8266385772264597, 'tol': 0.003098029043489853}. Best is trial 80 with value: 0.058986766228409725.\n",
      "[I 2025-05-04 21:18:46,550] Trial 85 finished with value: 0.05898692612232435 and parameters: {'alpha': 0.9488104099705078, 'tol': 0.0024644506767080993}. Best is trial 80 with value: 0.058986766228409725.\n",
      "[I 2025-05-04 21:18:46,971] Trial 87 finished with value: 0.05898677220206764 and parameters: {'alpha': 2.086260981021959, 'tol': 0.002044598422295133}. Best is trial 80 with value: 0.058986766228409725.\n",
      "[I 2025-05-04 21:18:46,974] Trial 86 finished with value: 0.058986821565304104 and parameters: {'alpha': 2.4993370770996832, 'tol': 0.0031173440785192295}. Best is trial 80 with value: 0.058986766228409725.\n",
      "[I 2025-05-04 21:18:50,609] Trial 89 finished with value: 0.058986793900053174 and parameters: {'alpha': 2.3167984662163077, 'tol': 0.0023235493467371783}. Best is trial 80 with value: 0.058986766228409725.\n",
      "[I 2025-05-04 21:18:50,623] Trial 88 finished with value: 0.05898686870697007 and parameters: {'alpha': 1.1279084828731145, 'tol': 0.002035313279226403}. Best is trial 80 with value: 0.058986766228409725.\n",
      "[I 2025-05-04 21:18:51,061] Trial 91 finished with value: 0.05898676978769596 and parameters: {'alpha': 2.041352065225447, 'tol': 0.002300246680274674}. Best is trial 80 with value: 0.058986766228409725.\n",
      "[I 2025-05-04 21:18:51,075] Trial 90 finished with value: 0.05898682264402278 and parameters: {'alpha': 1.3179275996378963, 'tol': 0.001751715146114247}. Best is trial 80 with value: 0.058986766228409725.\n",
      "[I 2025-05-04 21:18:54,662] Trial 92 finished with value: 0.058986791711656376 and parameters: {'alpha': 1.5013849025584554, 'tol': 0.0014754069627757873}. Best is trial 80 with value: 0.058986766228409725.\n",
      "[I 2025-05-04 21:18:54,677] Trial 93 finished with value: 0.058986777641123256 and parameters: {'alpha': 1.6281768432956545, 'tol': 0.0033197178337434187}. Best is trial 80 with value: 0.058986766228409725.\n",
      "[I 2025-05-04 21:18:54,948] Trial 95 finished with value: 0.05898695207468054 and parameters: {'alpha': 3.038933193731347, 'tol': 0.0022534472875835377}. Best is trial 80 with value: 0.058986766228409725.\n",
      "[I 2025-05-04 21:18:55,117] Trial 94 finished with value: 0.05898684818090324 and parameters: {'alpha': 2.636970078228814, 'tol': 0.002642353702769829}. Best is trial 80 with value: 0.058986766228409725.\n",
      "[I 2025-05-04 21:18:58,795] Trial 96 finished with value: 0.058987221760356465 and parameters: {'alpha': 3.7552462292883266, 'tol': 0.002302011263597196}. Best is trial 80 with value: 0.058986766228409725.\n",
      "[I 2025-05-04 21:18:58,815] Trial 97 finished with value: 0.058987242922481246 and parameters: {'alpha': 3.8025153428697642, 'tol': 0.002589793352381485}. Best is trial 80 with value: 0.058986766228409725.\n",
      "[I 2025-05-04 21:18:59,244] Trial 99 finished with value: 0.0589882717161746 and parameters: {'alpha': 5.575507166882577, 'tol': 0.0012541667622638793}. Best is trial 80 with value: 0.058986766228409725.\n",
      "[I 2025-05-04 21:18:59,259] Trial 98 finished with value: 0.05898683479611527 and parameters: {'alpha': 2.570859127915125, 'tol': 0.0019938101104200086}. Best is trial 80 with value: 0.058986766228409725.\n",
      "[I 2025-05-04 21:19:02,920] Trial 101 finished with value: 0.058986847115701076 and parameters: {'alpha': 1.2095004123661703, 'tol': 0.0036656637391371035}. Best is trial 80 with value: 0.058986766228409725.\n",
      "[I 2025-05-04 21:19:02,934] Trial 100 finished with value: 0.05898680355353286 and parameters: {'alpha': 1.4218125024803454, 'tol': 0.0036555648897020738}. Best is trial 80 with value: 0.058986766228409725.\n",
      "[I 2025-05-04 21:19:03,356] Trial 103 finished with value: 0.05898716359686241 and parameters: {'alpha': 0.45422090057616127, 'tol': 0.0038788250394617106}. Best is trial 80 with value: 0.058986766228409725.\n",
      "[I 2025-05-04 21:19:03,360] Trial 102 finished with value: 0.05898707446844696 and parameters: {'alpha': 0.6118452910773164, 'tol': 0.003835078030402076}. Best is trial 80 with value: 0.058986766228409725.\n",
      "[I 2025-05-04 21:19:06,990] Trial 104 finished with value: 0.05898677951936162 and parameters: {'alpha': 1.6077404142716014, 'tol': 0.0039603816389613515}. Best is trial 80 with value: 0.058986766228409725.\n",
      "[I 2025-05-04 21:19:06,990] Trial 105 finished with value: 0.05898685560597259 and parameters: {'alpha': 1.1761484670091806, 'tol': 0.003641140878737837}. Best is trial 80 with value: 0.058986766228409725.\n",
      "[I 2025-05-04 21:19:07,430] Trial 106 finished with value: 0.05898676957059533 and parameters: {'alpha': 2.0366586264252815, 'tol': 0.004010472696490229}. Best is trial 80 with value: 0.058986766228409725.\n",
      "[I 2025-05-04 21:19:07,448] Trial 107 finished with value: 0.05898676715673685 and parameters: {'alpha': 1.8149476820245887, 'tol': 0.0034907361384232697}. Best is trial 80 with value: 0.058986766228409725.\n",
      "[I 2025-05-04 21:19:11,051] Trial 108 finished with value: 0.058986769268103055 and parameters: {'alpha': 2.0298619547240344, 'tol': 0.0002039560028282983}. Best is trial 80 with value: 0.058986766228409725.\n",
      "[I 2025-05-04 21:19:11,054] Trial 109 finished with value: 0.05898681064649695 and parameters: {'alpha': 2.434042656435734, 'tol': 0.003694204178976229}. Best is trial 80 with value: 0.058986766228409725.\n",
      "[I 2025-05-04 21:19:11,339] Trial 110 finished with value: 0.058986807277054354 and parameters: {'alpha': 2.412406806466098, 'tol': 0.004230916379357597}. Best is trial 80 with value: 0.058986766228409725.\n",
      "[I 2025-05-04 21:19:11,546] Trial 111 finished with value: 0.05898696939402989 and parameters: {'alpha': 3.09476649313671, 'tol': 0.003522156281055979}. Best is trial 80 with value: 0.058986766228409725.\n",
      "[I 2025-05-04 21:19:15,143] Trial 112 finished with value: 0.05898700728341946 and parameters: {'alpha': 0.7492928357222317, 'tol': 0.00030518928726153285}. Best is trial 80 with value: 0.058986766228409725.\n",
      "[I 2025-05-04 21:19:15,144] Trial 113 finished with value: 0.05898676772951057 and parameters: {'alpha': 1.9884021413700141, 'tol': 0.00035760077853862334}. Best is trial 80 with value: 0.058986766228409725.\n",
      "[I 2025-05-04 21:19:15,598] Trial 115 finished with value: 0.05898677862321207 and parameters: {'alpha': 2.173662943656618, 'tol': 0.000976567537602304}. Best is trial 80 with value: 0.058986766228409725.\n",
      "[I 2025-05-04 21:19:15,599] Trial 114 finished with value: 0.05898676644370103 and parameters: {'alpha': 1.9280623442268692, 'tol': 0.0021603506261189983}. Best is trial 80 with value: 0.058986766228409725.\n",
      "[I 2025-05-04 21:19:19,449] Trial 116 finished with value: 0.05898679511993075 and parameters: {'alpha': 2.3263171547774433, 'tol': 0.00010009618570852032}. Best is trial 80 with value: 0.058986766228409725.\n",
      "[I 2025-05-04 21:19:19,461] Trial 117 finished with value: 0.05898676981546055 and parameters: {'alpha': 1.742526301046053, 'tol': 0.0006021548401393465}. Best is trial 80 with value: 0.058986766228409725.\n",
      "[I 2025-05-04 21:19:19,907] Trial 119 finished with value: 0.058987201051843643 and parameters: {'alpha': 3.7081270081695594, 'tol': 3.608399765849251e-05}. Best is trial 80 with value: 0.058986766228409725.\n",
      "[I 2025-05-04 21:19:19,920] Trial 118 finished with value: 0.05898677925404008 and parameters: {'alpha': 2.180886152495665, 'tol': 6.417311329886177e-06}. Best is trial 80 with value: 0.058986766228409725.\n",
      "[I 2025-05-04 21:19:23,542] Trial 120 finished with value: 0.058986910008220914 and parameters: {'alpha': 2.8928784792737803, 'tol': 0.0007579853321206405}. Best is trial 80 with value: 0.058986766228409725.\n",
      "[I 2025-05-04 21:19:23,544] Trial 121 finished with value: 0.05898684680747045 and parameters: {'alpha': 2.630427143364908, 'tol': 0.0002515420479804664}. Best is trial 80 with value: 0.058986766228409725.\n",
      "[I 2025-05-04 21:19:23,993] Trial 123 finished with value: 0.058986782288495423 and parameters: {'alpha': 1.5801679271415385, 'tol': 0.00012177559832982096}. Best is trial 80 with value: 0.058986766228409725.\n",
      "[I 2025-05-04 21:19:23,995] Trial 122 finished with value: 0.05898717401726849 and parameters: {'alpha': 0.4372142206450609, 'tol': 4.221249147389459e-06}. Best is trial 80 with value: 0.058986766228409725.\n",
      "[I 2025-05-04 21:19:27,426] Trial 125 finished with value: 0.058987199883129504 and parameters: {'alpha': 0.39608699865092944, 'tol': 0.0018292016195899478}. Best is trial 80 with value: 0.058986766228409725.\n",
      "[I 2025-05-04 21:19:27,629] Trial 124 finished with value: 0.058986857287435836 and parameters: {'alpha': 1.1697504752850003, 'tol': 0.0005796342019455405}. Best is trial 80 with value: 0.058986766228409725.\n",
      "[I 2025-05-04 21:19:28,020] Trial 126 finished with value: 0.05898676698309771 and parameters: {'alpha': 1.9600353061793314, 'tol': 0.00214244665776611}. Best is trial 80 with value: 0.058986766228409725.\n",
      "[I 2025-05-04 21:19:28,034] Trial 127 finished with value: 0.058986768446340904 and parameters: {'alpha': 1.7739622450809605, 'tol': 0.0014912200284597664}. Best is trial 80 with value: 0.058986766228409725.\n",
      "[I 2025-05-04 21:19:31,663] Trial 128 finished with value: 0.05898677585254435 and parameters: {'alpha': 1.6493223177430056, 'tol': 0.0021267771321673338}. Best is trial 80 with value: 0.058986766228409725.\n",
      "[I 2025-05-04 21:19:31,669] Trial 129 finished with value: 0.05898677660414862 and parameters: {'alpha': 2.1492581852516772, 'tol': 0.0023295651608855154}. Best is trial 80 with value: 0.058986766228409725.\n",
      "[I 2025-05-04 21:19:32,109] Trial 131 finished with value: 0.0589868073441554 and parameters: {'alpha': 2.412845644201743, 'tol': 0.0029029536138036947}. Best is trial 80 with value: 0.058986766228409725.\n",
      "[I 2025-05-04 21:19:32,125] Trial 130 finished with value: 0.05898680368284404 and parameters: {'alpha': 2.388385128578854, 'tol': 0.003183047954653548}. Best is trial 80 with value: 0.058986766228409725.\n",
      "[I 2025-05-04 21:19:35,730] Trial 132 finished with value: 0.058986792886810885 and parameters: {'alpha': 2.3087393848767674, 'tol': 0.003137062834908177}. Best is trial 80 with value: 0.058986766228409725.\n",
      "[I 2025-05-04 21:19:35,733] Trial 133 finished with value: 0.0589867671305306 and parameters: {'alpha': 1.8160170242039717, 'tol': 0.0025035398787716222}. Best is trial 80 with value: 0.058986766228409725.\n",
      "[I 2025-05-04 21:19:36,186] Trial 135 finished with value: 0.058986770057370345 and parameters: {'alpha': 1.737655838429339, 'tol': 0.0011634180039825164}. Best is trial 80 with value: 0.058986766228409725.\n",
      "[I 2025-05-04 21:19:36,191] Trial 134 finished with value: 0.05898676825423989 and parameters: {'alpha': 1.779095490087005, 'tol': 0.0016659740978287455}. Best is trial 80 with value: 0.058986766228409725.\n",
      "[I 2025-05-04 21:19:39,873] Trial 136 finished with value: 0.05898684110089223 and parameters: {'alpha': 1.234293248189701, 'tol': 0.0028528924637623307}. Best is trial 80 with value: 0.058986766228409725.\n",
      "[I 2025-05-04 21:19:39,874] Trial 137 finished with value: 0.058986787440717746 and parameters: {'alpha': 1.5347868694356464, 'tol': 0.002086310529074923}. Best is trial 80 with value: 0.058986766228409725.\n",
      "[I 2025-05-04 21:19:40,166] Trial 139 finished with value: 0.05898677147447507 and parameters: {'alpha': 1.7118328157719545, 'tol': 0.002581585006422694}. Best is trial 80 with value: 0.058986766228409725.\n",
      "[I 2025-05-04 21:19:40,346] Trial 138 finished with value: 0.05898676940921114 and parameters: {'alpha': 2.0330719286928747, 'tol': 0.0027501926838987114}. Best is trial 80 with value: 0.058986766228409725.\n",
      "[I 2025-05-04 21:19:43,956] Trial 140 finished with value: 0.05898676891546844 and parameters: {'alpha': 2.02150418411978, 'tol': 0.003820121687599185}. Best is trial 80 with value: 0.058986766228409725.\n",
      "[I 2025-05-04 21:19:43,958] Trial 141 finished with value: 0.058986795440221 and parameters: {'alpha': 1.4745538418088657, 'tol': 0.004707858284617669}. Best is trial 80 with value: 0.058986766228409725.\n",
      "[I 2025-05-04 21:19:44,380] Trial 142 finished with value: 0.058986774941925446 and parameters: {'alpha': 1.660868914353643, 'tol': 0.004805709902526769}. Best is trial 80 with value: 0.058986766228409725.\n",
      "[I 2025-05-04 21:19:44,380] Trial 143 finished with value: 0.05898679553144241 and parameters: {'alpha': 2.329484942712199, 'tol': 0.001729521093592217}. Best is trial 80 with value: 0.058986766228409725.\n",
      "[I 2025-05-04 21:19:47,981] Trial 144 finished with value: 0.05898676983905287 and parameters: {'alpha': 2.042441628940495, 'tol': 0.0017192932108711487}. Best is trial 80 with value: 0.058986766228409725.\n",
      "[I 2025-05-04 21:19:47,983] Trial 145 finished with value: 0.05898685378768208 and parameters: {'alpha': 2.6631742242153034, 'tol': 0.0014227860768264691}. Best is trial 80 with value: 0.058986766228409725.\n",
      "[I 2025-05-04 21:19:48,451] Trial 147 finished with value: 0.05898705470468081 and parameters: {'alpha': 3.3441051454729473, 'tol': 0.00202249937931076}. Best is trial 80 with value: 0.058986766228409725.\n",
      "[I 2025-05-04 21:19:48,452] Trial 146 finished with value: 0.05898685167876792 and parameters: {'alpha': 2.653410538620501, 'tol': 0.0023941170153617694}. Best is trial 80 with value: 0.058986766228409725.\n",
      "[I 2025-05-04 21:19:52,200] Trial 149 finished with value: 0.05898718809342649 and parameters: {'alpha': 3.67817983166371, 'tol': 0.0033374899488178016}. Best is trial 80 with value: 0.058986766228409725.\n",
      "[I 2025-05-04 21:19:52,202] Trial 148 finished with value: 0.05898743176547974 and parameters: {'alpha': 0.0800416226641325, 'tol': 0.0018733856551290246}. Best is trial 80 with value: 0.058986766228409725.\n",
      "[I 2025-05-04 21:19:52,653] Trial 150 finished with value: 0.05898688655953218 and parameters: {'alpha': 1.067326063603641, 'tol': 0.003020343114194768}. Best is trial 80 with value: 0.058986766228409725.\n",
      "[I 2025-05-04 21:19:52,654] Trial 151 finished with value: 0.05898682144333971 and parameters: {'alpha': 1.3238469798327386, 'tol': 0.00253062292181038}. Best is trial 80 with value: 0.058986766228409725.\n",
      "[I 2025-05-04 21:19:56,306] Trial 152 finished with value: 0.058986912031157815 and parameters: {'alpha': 0.9889269079857578, 'tol': 0.0030495180017900228}. Best is trial 80 with value: 0.058986766228409725.\n",
      "[I 2025-05-04 21:19:56,326] Trial 153 finished with value: 0.05898678732771697 and parameters: {'alpha': 2.2616478065634045, 'tol': 0.003318589622104541}. Best is trial 80 with value: 0.058986766228409725.\n",
      "[I 2025-05-04 21:19:56,745] Trial 155 finished with value: 0.05898676820350474 and parameters: {'alpha': 1.7804918559419636, 'tol': 0.0038605281591511413}. Best is trial 80 with value: 0.058986766228409725.\n",
      "[I 2025-05-04 21:19:56,747] Trial 154 finished with value: 0.05898687151552166 and parameters: {'alpha': 2.7413623360458597, 'tol': 0.004109085460807466}. Best is trial 80 with value: 0.058986766228409725.\n",
      "[I 2025-05-04 21:20:00,313] Trial 156 finished with value: 0.05898682375102288 and parameters: {'alpha': 2.511660058848407, 'tol': 0.00429451519704159}. Best is trial 80 with value: 0.058986766228409725.\n",
      "[I 2025-05-04 21:20:00,321] Trial 157 finished with value: 0.05898677815868463 and parameters: {'alpha': 2.168229640500685, 'tol': 0.004453331559331046}. Best is trial 80 with value: 0.058986766228409725.\n",
      "[I 2025-05-04 21:20:00,763] Trial 158 finished with value: 0.05898679728902362 and parameters: {'alpha': 1.461917001782813, 'tol': 0.004636332369032843}. Best is trial 80 with value: 0.058986766228409725.\n",
      "[I 2025-05-04 21:20:00,778] Trial 159 finished with value: 0.05898701074146918 and parameters: {'alpha': 0.7417149897014865, 'tol': 0.004732184774589025}. Best is trial 80 with value: 0.058986766228409725.\n",
      "[I 2025-05-04 21:20:04,387] Trial 161 finished with value: 0.05898700121285778 and parameters: {'alpha': 0.7627476361464944, 'tol': 0.004621428665855472}. Best is trial 80 with value: 0.058986766228409725.\n",
      "[I 2025-05-04 21:20:04,402] Trial 160 finished with value: 0.05898678692780753 and parameters: {'alpha': 1.5390264004777603, 'tol': 0.004408702560617442}. Best is trial 80 with value: 0.058986766228409725.\n",
      "[I 2025-05-04 21:20:04,820] Trial 162 finished with value: 0.05898680605675599 and parameters: {'alpha': 1.406790843399615, 'tol': 0.0021886625181055143}. Best is trial 80 with value: 0.058986766228409725.\n",
      "[I 2025-05-04 21:20:04,837] Trial 163 finished with value: 0.058986768290419274 and parameters: {'alpha': 2.0052349225801445, 'tol': 0.0018040670503654721}. Best is trial 80 with value: 0.058986766228409725.\n",
      "[I 2025-05-04 21:20:08,393] Trial 165 finished with value: 0.05898677574744361 and parameters: {'alpha': 2.1382109679300267, 'tol': 0.0035329928945460505}. Best is trial 80 with value: 0.058986766228409725.\n",
      "[I 2025-05-04 21:20:08,396] Trial 164 finished with value: 0.05898677231698859 and parameters: {'alpha': 2.088151108991287, 'tol': 0.0035590295963470672}. Best is trial 80 with value: 0.058986766228409725.\n",
      "[I 2025-05-04 21:20:08,863] Trial 167 finished with value: 0.058986863283121194 and parameters: {'alpha': 2.705864825523944, 'tol': 0.0014596794956439328}. Best is trial 80 with value: 0.058986766228409725.\n",
      "[I 2025-05-04 21:20:08,864] Trial 166 finished with value: 0.05898698240416112 and parameters: {'alpha': 3.135357518198549, 'tol': 0.00394714195902717}. Best is trial 80 with value: 0.058986766228409725.\n",
      "[I 2025-05-04 21:20:12,258] Trial 168 finished with value: 0.05898688539285524 and parameters: {'alpha': 2.7984731979362656, 'tol': 0.0014200497792063328}. Best is trial 80 with value: 0.058986766228409725.\n",
      "[I 2025-05-04 21:20:12,475] Trial 169 finished with value: 0.058986766493683396 and parameters: {'alpha': 1.9320720180171171, 'tol': 0.0013015346765083437}. Best is trial 80 with value: 0.058986766228409725.\n",
      "[I 2025-05-04 21:20:12,877] Trial 171 finished with value: 0.0589917468488307 and parameters: {'alpha': 9.70155927272246, 'tol': 0.003556672031254383}. Best is trial 80 with value: 0.058986766228409725.\n",
      "[I 2025-05-04 21:20:12,879] Trial 170 finished with value: 0.058986811323580426 and parameters: {'alpha': 1.3767400034975341, 'tol': 0.001619659253427187}. Best is trial 80 with value: 0.058986766228409725.\n",
      "[I 2025-05-04 21:20:16,286] Trial 173 finished with value: 0.058986857398563734 and parameters: {'alpha': 1.169329906627656, 'tol': 0.0012645562792442612}. Best is trial 80 with value: 0.058986766228409725.\n",
      "[I 2025-05-04 21:20:16,457] Trial 172 finished with value: 0.05898679558305588 and parameters: {'alpha': 1.4735628274946468, 'tol': 0.0014747222457028425}. Best is trial 80 with value: 0.058986766228409725.\n",
      "[I 2025-05-04 21:20:16,883] Trial 174 finished with value: 0.05898676633607523 and parameters: {'alpha': 1.8644450822972576, 'tol': 0.0012977188937475116}. Best is trial 80 with value: 0.058986766228409725.\n",
      "[I 2025-05-04 21:20:16,889] Trial 175 finished with value: 0.058986829877006416 and parameters: {'alpha': 2.5450851777249555, 'tol': 0.0008073261762381827}. Best is trial 80 with value: 0.058986766228409725.\n",
      "[I 2025-05-04 21:20:20,383] Trial 177 finished with value: 0.058986899384750206 and parameters: {'alpha': 2.853099693509562, 'tol': 0.0017455459033057221}. Best is trial 80 with value: 0.058986766228409725.\n",
      "[I 2025-05-04 21:20:20,560] Trial 176 finished with value: 0.05898676680343163 and parameters: {'alpha': 1.9512794476737678, 'tol': 0.0013223520877070813}. Best is trial 80 with value: 0.058986766228409725.\n",
      "[I 2025-05-04 21:20:21,031] Trial 179 finished with value: 0.05898676631111597 and parameters: {'alpha': 1.8675568348113853, 'tol': 0.0016039251667114404}. Best is trial 80 with value: 0.058986766228409725.\n",
      "[I 2025-05-04 21:20:21,049] Trial 178 finished with value: 0.05898678435170735 and parameters: {'alpha': 2.233974459999152, 'tol': 0.0007303085075692755}. Best is trial 80 with value: 0.058986766228409725.\n",
      "[I 2025-05-04 21:20:24,453] Trial 181 finished with value: 0.05898678128453957 and parameters: {'alpha': 1.5898566289878442, 'tol': 0.0019056668867081402}. Best is trial 80 with value: 0.058986766228409725.\n",
      "[I 2025-05-04 21:20:24,869] Trial 180 finished with value: 0.05898677907137085 and parameters: {'alpha': 2.178812253437032, 'tol': 0.0006033988917036046}. Best is trial 80 with value: 0.058986766228409725.\n",
      "[I 2025-05-04 21:20:24,870] Trial 182 finished with value: 0.05898689369612229 and parameters: {'alpha': 1.0445025815916642, 'tol': 0.0017970424994208927}. Best is trial 80 with value: 0.058986766228409725.\n",
      "[I 2025-05-04 21:20:25,174] Trial 183 finished with value: 0.05898712647312746 and parameters: {'alpha': 0.5170534183127, 'tol': 0.001693068693973385}. Best is trial 80 with value: 0.058986766228409725.\n",
      "[I 2025-05-04 21:20:28,492] Trial 184 finished with value: 0.05898681176719812 and parameters: {'alpha': 1.3742960516263492, 'tol': 0.0019032492062769062}. Best is trial 80 with value: 0.058986766228409725.\n",
      "[I 2025-05-04 21:20:28,941] Trial 185 finished with value: 0.0589868461757081 and parameters: {'alpha': 2.627400320202298, 'tol': 0.0021956276650506503}. Best is trial 80 with value: 0.058986766228409725.\n",
      "[I 2025-05-04 21:20:28,957] Trial 186 finished with value: 0.05898681192517621 and parameters: {'alpha': 2.4420505335408302, 'tol': 0.0023547554274287105}. Best is trial 80 with value: 0.058986766228409725.\n",
      "[I 2025-05-04 21:20:29,377] Trial 187 finished with value: 0.05898680206997394 and parameters: {'alpha': 2.377253331804592, 'tol': 0.0022271911192823586}. Best is trial 80 with value: 0.058986766228409725.\n",
      "[I 2025-05-04 21:20:32,570] Trial 188 finished with value: 0.05898683548123263 and parameters: {'alpha': 2.574380110113829, 'tol': 0.0020611261316725946}. Best is trial 80 with value: 0.058986766228409725.\n",
      "[I 2025-05-04 21:20:32,844] Trial 190 finished with value: 0.05898678045761594 and parameters: {'alpha': 2.1942136441717626, 'tol': 0.0017264226211404}. Best is trial 80 with value: 0.058986766228409725.\n",
      "[I 2025-05-04 21:20:33,054] Trial 189 finished with value: 0.05898690896336462 and parameters: {'alpha': 2.889025490007506, 'tol': 0.0023026242520196253}. Best is trial 80 with value: 0.058986766228409725.\n",
      "[I 2025-05-04 21:20:33,300] Trial 191 finished with value: 0.05898696394173202 and parameters: {'alpha': 0.8500686100022209, 'tol': 0.002753029552113661}. Best is trial 80 with value: 0.058986766228409725.\n",
      "[I 2025-05-04 21:20:36,702] Trial 192 finished with value: 0.058987393758091464 and parameters: {'alpha': 4.118099820107547, 'tol': 0.0011916918513795605}. Best is trial 80 with value: 0.058986766228409725.\n",
      "[I 2025-05-04 21:20:37,132] Trial 193 finished with value: 0.058987041606482604 and parameters: {'alpha': 0.676646099782475, 'tol': 0.0032353979929351274}. Best is trial 80 with value: 0.058986766228409725.\n",
      "[I 2025-05-04 21:20:37,133] Trial 194 finished with value: 0.05898687187399222 and parameters: {'alpha': 2.7428789116643406, 'tol': 6.594031069302617e-05}. Best is trial 80 with value: 0.058986766228409725.\n",
      "[I 2025-05-04 21:20:37,422] Trial 195 finished with value: 0.05898683605849152 and parameters: {'alpha': 1.255920841688281, 'tol': 0.00112002935680575}. Best is trial 80 with value: 0.058986766228409725.\n",
      "[I 2025-05-04 21:20:40,797] Trial 196 finished with value: 0.05898676624566158 and parameters: {'alpha': 1.902692565027525, 'tol': 0.0009446108186726074}. Best is trial 80 with value: 0.058986766228409725.\n",
      "[I 2025-05-04 21:20:41,217] Trial 197 finished with value: 0.05898679561258834 and parameters: {'alpha': 1.47335824181079, 'tol': 0.000978964632024306}. Best is trial 80 with value: 0.058986766228409725.\n",
      "[I 2025-05-04 21:20:41,222] Trial 198 finished with value: 0.05898694733760102 and parameters: {'alpha': 0.8919799111626683, 'tol': 0.0005625617018126488}. Best is trial 80 with value: 0.058986766228409725.\n",
      "[I 2025-05-04 21:20:41,668] Trial 199 finished with value: 0.05898940235244366 and parameters: {'alpha': 7.0700569047863056, 'tol': 0.0073740545602222814}. Best is trial 80 with value: 0.058986766228409725.\n",
      "[I 2025-05-04 21:20:44,871] Trial 200 finished with value: 0.05898690320811121 and parameters: {'alpha': 1.015154588357384, 'tol': 0.0005920148169418685}. Best is trial 80 with value: 0.058986766228409725.\n",
      "[I 2025-05-04 21:20:45,285] Trial 201 finished with value: 0.05898676818922525 and parameters: {'alpha': 1.7808881265966012, 'tol': 0.0031947705810736935}. Best is trial 80 with value: 0.058986766228409725.\n",
      "[I 2025-05-04 21:20:45,303] Trial 202 finished with value: 0.058986768203803164 and parameters: {'alpha': 1.780483609210077, 'tol': 0.0032204582919105737}. Best is trial 80 with value: 0.058986766228409725.\n",
      "[I 2025-05-04 21:20:45,582] Trial 203 finished with value: 0.05898865002311773 and parameters: {'alpha': 6.104778082366449, 'tol': 0.0040177706620103375}. Best is trial 80 with value: 0.058986766228409725.\n",
      "[I 2025-05-04 21:20:48,981] Trial 204 finished with value: 0.05898678725102176 and parameters: {'alpha': 2.2609590516870597, 'tol': 0.0007007475710670767}. Best is trial 80 with value: 0.058986766228409725.\n",
      "[I 2025-05-04 21:20:49,394] Trial 205 finished with value: 0.05898676819408227 and parameters: {'alpha': 2.0025212874556377, 'tol': 0.003179444018374433}. Best is trial 80 with value: 0.058986766228409725.\n",
      "[I 2025-05-04 21:20:49,397] Trial 206 finished with value: 0.058986846499636966 and parameters: {'alpha': 1.2119928771646995, 'tol': 0.003422245432399386}. Best is trial 80 with value: 0.058986766228409725.\n",
      "[I 2025-05-04 21:20:49,848] Trial 207 finished with value: 0.058986809855637624 and parameters: {'alpha': 1.3849194574292567, 'tol': 0.0034041355529332673}. Best is trial 80 with value: 0.058986766228409725.\n",
      "[I 2025-05-04 21:20:53,113] Trial 208 finished with value: 0.05898682349491132 and parameters: {'alpha': 2.510227512087145, 'tol': 0.0034382580543905056}. Best is trial 80 with value: 0.058986766228409725.\n",
      "[I 2025-05-04 21:20:53,550] Trial 209 finished with value: 0.05898677168712591 and parameters: {'alpha': 2.077564845540733, 'tol': 0.0028236911163574668}. Best is trial 80 with value: 0.058986766228409725.\n",
      "[I 2025-05-04 21:20:53,569] Trial 210 finished with value: 0.05898676673243803 and parameters: {'alpha': 1.94745149919227, 'tol': 0.0031117195263114777}. Best is trial 80 with value: 0.058986766228409725.\n",
      "[I 2025-05-04 21:20:53,811] Trial 211 finished with value: 0.05898678699708759 and parameters: {'alpha': 2.2586700038513783, 'tol': 0.002552887122057002}. Best is trial 80 with value: 0.058986766228409725.\n",
      "[I 2025-05-04 21:20:57,127] Trial 212 finished with value: 0.05898678713176669 and parameters: {'alpha': 1.5373340678708698, 'tol': 0.0027550260850455416}. Best is trial 80 with value: 0.058986766228409725.\n",
      "[I 2025-05-04 21:20:57,545] Trial 214 finished with value: 0.05898678713629579 and parameters: {'alpha': 1.5372965830528011, 'tol': 0.003108146369454748}. Best is trial 80 with value: 0.058986766228409725.\n",
      "[I 2025-05-04 21:20:57,550] Trial 213 finished with value: 0.05898677002981654 and parameters: {'alpha': 1.7382025367634992, 'tol': 0.002721314008596197}. Best is trial 80 with value: 0.058986766228409725.\n",
      "[I 2025-05-04 21:20:57,835] Trial 215 finished with value: 0.05898676959332419 and parameters: {'alpha': 2.037156871519639, 'tol': 0.003161655862900041}. Best is trial 80 with value: 0.058986766228409725.\n",
      "[I 2025-05-04 21:21:01,183] Trial 216 finished with value: 0.05898676622346897 and parameters: {'alpha': 1.8912865010023905, 'tol': 0.0029820687995857588}. Best is trial 216 with value: 0.05898676622346897.\n",
      "[I 2025-05-04 21:21:01,599] Trial 218 finished with value: 0.05898948618904465 and parameters: {'alpha': 7.1723507075007324, 'tol': 0.001223317292239492}. Best is trial 216 with value: 0.05898676622346897.\n",
      "[I 2025-05-04 21:21:01,613] Trial 217 finished with value: 0.058987271832674354 and parameters: {'alpha': 3.865755975285124, 'tol': 0.0024140175751938345}. Best is trial 216 with value: 0.05898676622346897.\n",
      "[I 2025-05-04 21:21:01,899] Trial 219 finished with value: 0.058986766320065935 and parameters: {'alpha': 1.9154992581213939, 'tol': 0.001990159808682787}. Best is trial 216 with value: 0.05898676622346897.\n",
      "[I 2025-05-04 21:21:05,218] Trial 220 finished with value: 0.058986957725824386 and parameters: {'alpha': 3.057391099191708, 'tol': 0.0032214011425824355}. Best is trial 216 with value: 0.05898676622346897.\n",
      "[I 2025-05-04 21:21:05,645] Trial 222 finished with value: 0.05898678609772681 and parameters: {'alpha': 2.2504530619634933, 'tol': 0.003923657484383737}. Best is trial 216 with value: 0.05898676622346897.\n",
      "[I 2025-05-04 21:21:05,664] Trial 221 finished with value: 0.05898720567147875 and parameters: {'alpha': 3.718715458967708, 'tol': 0.0032474654271761843}. Best is trial 216 with value: 0.05898676622346897.\n",
      "[I 2025-05-04 21:21:05,917] Trial 223 finished with value: 0.05898694537978822 and parameters: {'alpha': 3.0167456084658806, 'tol': 0.003400563949222051}. Best is trial 216 with value: 0.05898676622346897.\n",
      "[I 2025-05-04 21:21:09,135] Trial 224 finished with value: 0.058986772341322415 and parameters: {'alpha': 1.6977791942056486, 'tol': 0.0032438824175945965}. Best is trial 216 with value: 0.05898676622346897.\n",
      "[I 2025-05-04 21:21:09,700] Trial 226 finished with value: 0.05898684660090385 and parameters: {'alpha': 1.2115824631558203, 'tol': 0.002657261213516105}. Best is trial 216 with value: 0.05898676622346897.\n",
      "[I 2025-05-04 21:21:09,704] Trial 225 finished with value: 0.058986780958857635 and parameters: {'alpha': 1.593071162223343, 'tol': 0.0025050273751941613}. Best is trial 216 with value: 0.05898676622346897.\n",
      "[I 2025-05-04 21:21:10,005] Trial 227 finished with value: 0.05898699800114911 and parameters: {'alpha': 0.7699465409879958, 'tol': 0.0026347628004323017}. Best is trial 216 with value: 0.05898676622346897.\n",
      "[I 2025-05-04 21:21:13,323] Trial 228 finished with value: 0.058986769710223375 and parameters: {'alpha': 1.7446971084346183, 'tol': 0.0019474460957039383}. Best is trial 216 with value: 0.05898676622346897.\n",
      "[I 2025-05-04 21:21:13,739] Trial 229 finished with value: 0.05898687893958633 and parameters: {'alpha': 2.772310948967802, 'tol': 0.0017666928187176176}. Best is trial 216 with value: 0.05898676622346897.\n",
      "[I 2025-05-04 21:21:13,754] Trial 230 finished with value: 0.05898684438826933 and parameters: {'alpha': 2.618776601972642, 'tol': 0.0017422603041423622}. Best is trial 216 with value: 0.05898676622346897.\n",
      "[I 2025-05-04 21:21:14,201] Trial 231 finished with value: 0.058986773476999814 and parameters: {'alpha': 2.106333950439096, 'tol': 0.0019588091714822314}. Best is trial 216 with value: 0.05898676622346897.\n",
      "[I 2025-05-04 21:21:17,338] Trial 232 finished with value: 0.058986854152061924 and parameters: {'alpha': 2.6648502725727345, 'tol': 0.0017604104760192097}. Best is trial 216 with value: 0.05898676622346897.\n",
      "[I 2025-05-04 21:21:17,772] Trial 233 finished with value: 0.05898742831974677 and parameters: {'alpha': 0.08419446878838555, 'tol': 0.003463059284249007}. Best is trial 216 with value: 0.05898676622346897.\n",
      "[I 2025-05-04 21:21:17,773] Trial 234 finished with value: 0.058986766432243626 and parameters: {'alpha': 1.927081143587296, 'tol': 0.0010110484081739587}. Best is trial 216 with value: 0.05898676622346897.\n",
      "[I 2025-05-04 21:21:18,217] Trial 235 finished with value: 0.05898682484356243 and parameters: {'alpha': 1.3072562059985575, 'tol': 0.0013972210163773144}. Best is trial 216 with value: 0.05898676622346897.\n",
      "[I 2025-05-04 21:21:21,401] Trial 236 finished with value: 0.05898678549073313 and parameters: {'alpha': 1.5512050890240645, 'tol': 0.0014320267548763976}. Best is trial 216 with value: 0.05898676622346897.\n",
      "[I 2025-05-04 21:21:21,823] Trial 238 finished with value: 0.0589867935545341 and parameters: {'alpha': 1.487883377529644, 'tol': 0.00038124371704755596}. Best is trial 216 with value: 0.05898676622346897.\n",
      "[I 2025-05-04 21:21:21,827] Trial 237 finished with value: 0.05898679564944527 and parameters: {'alpha': 1.4731030659671345, 'tol': 0.0010956574509456856}. Best is trial 216 with value: 0.05898676622346897.\n",
      "[I 2025-05-04 21:21:22,104] Trial 239 finished with value: 0.05898677298748102 and parameters: {'alpha': 1.6879561126651608, 'tol': 0.0016145871986458157}. Best is trial 216 with value: 0.05898676622346897.\n",
      "[I 2025-05-04 21:21:25,568] Trial 240 finished with value: 0.058986797683072606 and parameters: {'alpha': 2.34571497947015, 'tol': 0.0010904911973559541}. Best is trial 216 with value: 0.05898676622346897.\n",
      "[I 2025-05-04 21:21:25,814] Trial 241 finished with value: 0.05899197359651151 and parameters: {'alpha': 9.93875754777948, 'tol': 0.0057780574230123175}. Best is trial 216 with value: 0.05898676622346897.\n",
      "[I 2025-05-04 21:21:26,025] Trial 242 finished with value: 0.05898678919758667 and parameters: {'alpha': 1.5206565754939234, 'tol': 0.003937472103674011}. Best is trial 216 with value: 0.05898676622346897.\n",
      "[I 2025-05-04 21:21:26,274] Trial 243 finished with value: 0.05898676622384886 and parameters: {'alpha': 1.889327445833034, 'tol': 0.003972261966878114}. Best is trial 216 with value: 0.05898676622346897.\n",
      "[I 2025-05-04 21:21:29,578] Trial 244 finished with value: 0.05898678290624308 and parameters: {'alpha': 1.5743618372606372, 'tol': 0.0030870738206040535}. Best is trial 216 with value: 0.05898676622346897.\n",
      "[I 2025-05-04 21:21:29,987] Trial 245 finished with value: 0.058986767588158524 and parameters: {'alpha': 1.983688906429209, 'tol': 0.003323817806252802}. Best is trial 216 with value: 0.05898676622346897.\n",
      "[I 2025-05-04 21:21:29,996] Trial 246 finished with value: 0.0589871671041347 and parameters: {'alpha': 3.6288678392299323, 'tol': 0.0009423302596345505}. Best is trial 216 with value: 0.05898676622346897.\n",
      "[I 2025-05-04 21:21:30,243] Trial 247 finished with value: 0.05898704936137476 and parameters: {'alpha': 3.3295050198933214, 'tol': 0.004445332601797269}. Best is trial 216 with value: 0.05898676622346897.\n",
      "[I 2025-05-04 21:21:32,086] Trial 248 finished with value: 0.058986878077795186 and parameters: {'alpha': 2.768766634274232, 'tol': 0.003933526693514766}. Best is trial 216 with value: 0.05898676622346897.\n",
      "[I 2025-05-04 21:21:32,297] Trial 249 finished with value: 0.058986771238826355 and parameters: {'alpha': 1.715854872519243, 'tol': 0.00441937823843961}. Best is trial 216 with value: 0.05898676622346897.\n"
     ]
    }
   ],
   "source": [
    "def objective(trial):    \n",
    "    params = {\n",
    "        \"random_state\": CFG.seed,\n",
    "        \"alpha\": trial.suggest_float(\"alpha\", 0, 10),\n",
    "        \"tol\": trial.suggest_float(\"tol\", 1e-6, 1e-2)\n",
    "    }\n",
    "    \n",
    "    trainer = Trainer(\n",
    "        Ridge(**params),\n",
    "        cv=CFG.cv,\n",
    "        metric=CFG.metric,\n",
    "        task=\"regression\",\n",
    "        verbose=False\n",
    "    )\n",
    "    trainer.fit(X, y)\n",
    "    \n",
    "    return trainer.overall_score\n",
    "\n",
    "if CFG.run_optuna:\n",
    "    sampler = optuna.samplers.TPESampler(seed=CFG.seed, multivariate=True)\n",
    "    study = optuna.create_study(direction=\"minimize\", sampler=sampler)\n",
    "    study.optimize(objective, n_trials=CFG.n_optuna_trials, n_jobs=-1, catch=(ValueError,))\n",
    "    best_params = study.best_params\n",
    "\n",
    "    ridge_params = {\n",
    "        \"random_state\": CFG.seed,\n",
    "        \"alpha\": best_params[\"alpha\"],\n",
    "        \"tol\": best_params[\"tol\"]\n",
    "    }\n",
    "else:\n",
    "    ridge_params = {\n",
    "        \"random_state\": CFG.seed\n",
    "    }"
   ]
  },
  {
   "cell_type": "code",
   "execution_count": 21,
   "id": "7be68f6f",
   "metadata": {
    "execution": {
     "iopub.execute_input": "2025-05-04T21:21:32.353938Z",
     "iopub.status.busy": "2025-05-04T21:21:32.353663Z",
     "iopub.status.idle": "2025-05-04T21:21:32.358592Z",
     "shell.execute_reply": "2025-05-04T21:21:32.357583Z"
    },
    "papermill": {
     "duration": 0.031745,
     "end_time": "2025-05-04T21:21:32.360037",
     "exception": false,
     "start_time": "2025-05-04T21:21:32.328292",
     "status": "completed"
    },
    "tags": []
   },
   "outputs": [
    {
     "name": "stdout",
     "output_type": "stream",
     "text": [
      "{\n",
      "  \"random_state\": 42,\n",
      "  \"alpha\": 1.8912865010023905,\n",
      "  \"tol\": 0.0029820687995857588\n",
      "}\n"
     ]
    }
   ],
   "source": [
    "print(json.dumps(ridge_params, indent=2))"
   ]
  },
  {
   "cell_type": "code",
   "execution_count": 22,
   "id": "84a64fba",
   "metadata": {
    "execution": {
     "iopub.execute_input": "2025-05-04T21:21:32.410804Z",
     "iopub.status.busy": "2025-05-04T21:21:32.410499Z",
     "iopub.status.idle": "2025-05-04T21:21:33.843882Z",
     "shell.execute_reply": "2025-05-04T21:21:33.842889Z"
    },
    "papermill": {
     "duration": 1.460187,
     "end_time": "2025-05-04T21:21:33.845274",
     "exception": false,
     "start_time": "2025-05-04T21:21:32.385087",
     "status": "completed"
    },
    "tags": []
   },
   "outputs": [
    {
     "name": "stdout",
     "output_type": "stream",
     "text": [
      "Training Ridge\n",
      "\n",
      "--- Fold 0 - root_mean_squared_error: 0.0589 - Time: 0.14 s\n",
      "--- Fold 1 - root_mean_squared_error: 0.0595 - Time: 0.11 s\n",
      "--- Fold 2 - root_mean_squared_error: 0.0589 - Time: 0.11 s\n",
      "--- Fold 3 - root_mean_squared_error: 0.0592 - Time: 0.11 s\n",
      "--- Fold 4 - root_mean_squared_error: 0.0585 - Time: 0.11 s\n",
      "\n",
      "------ Overall root_mean_squared_error: 0.0590 - Mean root_mean_squared_error: 0.0590 ± 0.0003 - Time: 1.40 s\n"
     ]
    }
   ],
   "source": [
    "ridge_trainer = Trainer(\n",
    "    Ridge(**ridge_params),\n",
    "    cv=CFG.cv,\n",
    "    metric=CFG.metric,\n",
    "    task=\"regression\"\n",
    ")\n",
    "\n",
    "ridge_trainer.fit(X, y)\n",
    "\n",
    "scores[\"Ridge (ensemble)\"] = ridge_trainer.fold_scores\n",
    "ridge_test_preds = np.expm1(ridge_trainer.predict(X_test))"
   ]
  },
  {
   "cell_type": "code",
   "execution_count": 23,
   "id": "1f750966",
   "metadata": {
    "execution": {
     "iopub.execute_input": "2025-05-04T21:21:33.895260Z",
     "iopub.status.busy": "2025-05-04T21:21:33.894969Z",
     "iopub.status.idle": "2025-05-04T21:21:34.156859Z",
     "shell.execute_reply": "2025-05-04T21:21:34.155935Z"
    },
    "papermill": {
     "duration": 0.288395,
     "end_time": "2025-05-04T21:21:34.158486",
     "exception": false,
     "start_time": "2025-05-04T21:21:33.870091",
     "status": "completed"
    },
    "tags": []
   },
   "outputs": [
    {
     "data": {
      "image/png": "[encoded data removed]",
      "text/plain": [
       "<Figure size 1000x300 with 1 Axes>"
      ]
     },
     "metadata": {},
     "output_type": "display_data"
    }
   ],
   "source": [
    "ridge_coeffs = np.zeros((1, X.shape[1]))\n",
    "for m in ridge_trainer.estimators:\n",
    "    ridge_coeffs += m.coef_\n",
    "ridge_coeffs = ridge_coeffs / len(ridge_trainer.estimators)\n",
    "\n",
    "plot_weights(ridge_coeffs, \"Ridge Coefficients\")"
   ]
  },
  {
   "cell_type": "markdown",
   "id": "a11a6b12",
   "metadata": {
    "papermill": {
     "duration": 0.024504,
     "end_time": "2025-05-04T21:21:34.209549",
     "exception": false,
     "start_time": "2025-05-04T21:21:34.185045",
     "status": "completed"
    },
    "tags": []
   },
   "source": [
    "# Submission"
   ]
  },
  {
   "cell_type": "code",
   "execution_count": 24,
   "id": "6c55ee7a",
   "metadata": {
    "execution": {
     "iopub.execute_input": "2025-05-04T21:21:34.260663Z",
     "iopub.status.busy": "2025-05-04T21:21:34.260189Z",
     "iopub.status.idle": "2025-05-04T21:21:34.915735Z",
     "shell.execute_reply": "2025-05-04T21:21:34.914929Z"
    },
    "papermill": {
     "duration": 0.682644,
     "end_time": "2025-05-04T21:21:34.917055",
     "exception": false,
     "start_time": "2025-05-04T21:21:34.234411",
     "status": "completed"
    },
    "tags": []
   },
   "outputs": [
    {
     "data": {
      "text/html": [
       "<div>\n",
       "<style scoped>\n",
       "    .dataframe tbody tr th:only-of-type {\n",
       "        vertical-align: middle;\n",
       "    }\n",
       "\n",
       "    .dataframe tbody tr th {\n",
       "        vertical-align: top;\n",
       "    }\n",
       "\n",
       "    .dataframe thead th {\n",
       "        text-align: right;\n",
       "    }\n",
       "</style>\n",
       "<table border=\"1\" class=\"dataframe\">\n",
       "  <thead>\n",
       "    <tr style=\"text-align: right;\">\n",
       "      <th></th>\n",
       "      <th>id</th>\n",
       "      <th>Calories</th>\n",
       "    </tr>\n",
       "  </thead>\n",
       "  <tbody>\n",
       "    <tr>\n",
       "      <th>0</th>\n",
       "      <td>750000</td>\n",
       "      <td>27.209919</td>\n",
       "    </tr>\n",
       "    <tr>\n",
       "      <th>1</th>\n",
       "      <td>750001</td>\n",
       "      <td>107.740871</td>\n",
       "    </tr>\n",
       "    <tr>\n",
       "      <th>2</th>\n",
       "      <td>750002</td>\n",
       "      <td>87.144622</td>\n",
       "    </tr>\n",
       "    <tr>\n",
       "      <th>3</th>\n",
       "      <td>750003</td>\n",
       "      <td>125.802554</td>\n",
       "    </tr>\n",
       "    <tr>\n",
       "      <th>4</th>\n",
       "      <td>750004</td>\n",
       "      <td>76.020595</td>\n",
       "    </tr>\n",
       "  </tbody>\n",
       "</table>\n",
       "</div>"
      ],
      "text/plain": [
       "       id    Calories\n",
       "0  750000   27.209919\n",
       "1  750001  107.740871\n",
       "2  750002   87.144622\n",
       "3  750003  125.802554\n",
       "4  750004   76.020595"
      ]
     },
     "execution_count": 24,
     "metadata": {},
     "output_type": "execute_result"
    }
   ],
   "source": [
    "sub = pd.read_csv(CFG.sample_sub_path)\n",
    "sub[CFG.target] = ridge_test_preds\n",
    "sub.to_csv(f\"sub_ridge_{np.mean(scores['Ridge (ensemble)']):.6f}.csv\", index=False)\n",
    "sub.head()"
   ]
  },
  {
   "cell_type": "markdown",
   "id": "2cf60e9c",
   "metadata": {
    "papermill": {
     "duration": 0.024623,
     "end_time": "2025-05-04T21:21:34.967116",
     "exception": false,
     "start_time": "2025-05-04T21:21:34.942493",
     "status": "completed"
    },
    "tags": []
   },
   "source": [
    "# Results"
   ]
  },
  {
   "cell_type": "code",
   "execution_count": 25,
   "id": "362613ca",
   "metadata": {
    "execution": {
     "iopub.execute_input": "2025-05-04T21:21:35.019271Z",
     "iopub.status.busy": "2025-05-04T21:21:35.018712Z",
     "iopub.status.idle": "2025-05-04T21:21:35.507050Z",
     "shell.execute_reply": "2025-05-04T21:21:35.506293Z"
    },
    "papermill": {
     "duration": 0.516761,
     "end_time": "2025-05-04T21:21:35.509005",
     "exception": false,
     "start_time": "2025-05-04T21:21:34.992244",
     "status": "completed"
    },
    "tags": []
   },
   "outputs": [
    {
     "data": {
      "image/png": "[encoded data removed]",
      "text/plain": [
       "<Figure size 1500x210 with 2 Axes>"
      ]
     },
     "metadata": {},
     "output_type": "display_data"
    }
   ],
   "source": [
    "scores = pd.DataFrame(scores)\n",
    "mean_scores = scores.mean().sort_values(ascending=True)\n",
    "order = scores.mean().sort_values(ascending=True).index.tolist()\n",
    "\n",
    "min_score = mean_scores.min()\n",
    "max_score = mean_scores.max()\n",
    "padding = (max_score - min_score) * 0.5\n",
    "lower_limit = min_score - padding\n",
    "upper_limit = max_score + padding\n",
    "\n",
    "fig, axs = plt.subplots(1, 2, figsize=(15, scores.shape[1] * 0.3))\n",
    "\n",
    "boxplot = sns.boxplot(data=scores, order=order, ax=axs[0], orient=\"h\", color=\"grey\")\n",
    "axs[0].set_title(f\"Fold {CFG.metric.__name__}\")\n",
    "axs[0].set_xlabel(\"\")\n",
    "axs[0].set_ylabel(\"\")\n",
    "\n",
    "barplot = sns.barplot(x=mean_scores.values, y=mean_scores.index, ax=axs[1], color=\"grey\")\n",
    "axs[1].set_title(f\"Average {CFG.metric.__name__}\")\n",
    "axs[1].set_xlabel(\"\")\n",
    "axs[1].set_xlim(left=lower_limit, right=upper_limit)\n",
    "axs[1].set_ylabel(\"\")\n",
    "\n",
    "for i, (score, model) in enumerate(zip(mean_scores.values, mean_scores.index)):\n",
    "    color = \"cyan\" if \"ensemble\" in model.lower() else \"grey\"\n",
    "    barplot.patches[i].set_facecolor(color)\n",
    "    boxplot.patches[i].set_facecolor(color)\n",
    "    barplot.text(score, i, round(score, 6), va=\"center\")\n",
    "\n",
    "plt.tight_layout()\n",
    "plt.show()"
   ]
  },
  {
   "cell_type": "code",
   "execution_count": 26,
   "id": "4c652dff",
   "metadata": {
    "execution": {
     "iopub.execute_input": "2025-05-04T21:21:35.564231Z",
     "iopub.status.busy": "2025-05-04T21:21:35.563932Z",
     "iopub.status.idle": "2025-05-04T21:21:35.568990Z",
     "shell.execute_reply": "2025-05-04T21:21:35.568463Z"
    },
    "papermill": {
     "duration": 0.033716,
     "end_time": "2025-05-04T21:21:35.570236",
     "exception": false,
     "start_time": "2025-05-04T21:21:35.536520",
     "status": "completed"
    },
    "tags": []
   },
   "outputs": [],
   "source": [
    "shutil.rmtree(\"catboost_info\", ignore_errors=True)"
   ]
  }
 ],
 "metadata": {
  "kaggle": {
   "accelerator": "none",
   "dataSources": [
    {
     "databundleVersionId": 11893428,
     "sourceId": 91716,
     "sourceType": "competition"
    },
    {
     "datasetId": 6512323,
     "sourceId": 10522392,
     "sourceType": "datasetVersion"
    },
    {
     "sourceId": 237456322,
     "sourceType": "kernelVersion"
    }
   ],
   "dockerImageVersionId": 31012,
   "isGpuEnabled": false,
   "isInternetEnabled": true,
   "language": "python",
   "sourceType": "notebook"
  },
  "kernelspec": {
   "display_name": "Python 3",
   "language": "python",
   "name": "python3"
  },
  "language_info": {
   "codemirror_mode": {
    "name": "ipython",
    "version": 3
   },
   "file_extension": ".py",
   "mimetype": "text/x-python",
   "name": "python",
   "nbconvert_exporter": "python",
   "pygments_lexer": "ipython3",
   "version": "3.11.11"
  },
  "papermill": {
   "default_parameters": {},
   "duration": 2665.912024,
   "end_time": "2025-05-04T21:21:36.820937",
   "environment_variables": {},
   "exception": null,
   "input_path": "__notebook__.ipynb",
   "output_path": "__notebook__.ipynb",
   "parameters": {},
   "start_time": "2025-05-04T20:37:10.908913",
   "version": "2.6.0"
  }
 },
 "nbformat": 4,
 "nbformat_minor": 5
}
