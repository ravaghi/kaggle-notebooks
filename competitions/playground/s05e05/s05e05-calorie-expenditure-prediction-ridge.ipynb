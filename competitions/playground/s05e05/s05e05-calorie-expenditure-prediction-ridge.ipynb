{
 "cells": [
  {
   "cell_type": "code",
   "execution_count": 1,
   "id": "de84f800",
   "metadata": {
    "_kg_hide-output": true,
    "execution": {
     "iopub.execute_input": "2025-05-02T14:49:49.405728Z",
     "iopub.status.busy": "2025-05-02T14:49:49.405300Z",
     "iopub.status.idle": "2025-05-02T14:50:01.327056Z",
     "shell.execute_reply": "2025-05-02T14:50:01.325764Z"
    },
    "papermill": {
     "duration": 11.931549,
     "end_time": "2025-05-02T14:50:01.328900",
     "exception": false,
     "start_time": "2025-05-02T14:49:49.397351",
     "status": "completed"
    },
    "scrolled": true,
    "tags": []
   },
   "outputs": [
    {
     "name": "stdout",
     "output_type": "stream",
     "text": [
      "Requirement already satisfied: ydf in /usr/local/lib/python3.11/dist-packages (0.9.0)\r\n",
      "Collecting koolbox\r\n",
      "  Downloading koolbox-0.1.2-py3-none-any.whl.metadata (2.4 kB)\r\n",
      "Collecting scikit-learn==1.5.2\r\n",
      "  Downloading scikit_learn-1.5.2-cp311-cp311-manylinux_2_17_x86_64.manylinux2014_x86_64.whl.metadata (13 kB)\r\n",
      "Requirement already satisfied: numpy>=1.19.5 in /usr/local/lib/python3.11/dist-packages (from scikit-learn==1.5.2) (1.26.4)\r\n",
      "Requirement already satisfied: scipy>=1.6.0 in /usr/local/lib/python3.11/dist-packages (from scikit-learn==1.5.2) (1.15.2)\r\n",
      "Requirement already satisfied: joblib>=1.2.0 in /usr/local/lib/python3.11/dist-packages (from scikit-learn==1.5.2) (1.4.2)\r\n",
      "Requirement already satisfied: threadpoolctl>=3.1.0 in /usr/local/lib/python3.11/dist-packages (from scikit-learn==1.5.2) (3.6.0)\r\n",
      "Requirement already satisfied: absl_py in /usr/local/lib/python3.11/dist-packages (from ydf) (1.4.0)\r\n",
      "Requirement already satisfied: protobuf>=3.14 in /usr/local/lib/python3.11/dist-packages (from ydf) (3.20.3)\r\n",
      "Requirement already satisfied: pandas>=1.0.0 in /usr/local/lib/python3.11/dist-packages (from koolbox) (2.2.3)\r\n",
      "Requirement already satisfied: mkl_fft in /usr/local/lib/python3.11/dist-packages (from numpy>=1.19.5->scikit-learn==1.5.2) (1.3.8)\r\n",
      "Requirement already satisfied: mkl_random in /usr/local/lib/python3.11/dist-packages (from numpy>=1.19.5->scikit-learn==1.5.2) (1.2.4)\r\n",
      "Requirement already satisfied: mkl_umath in /usr/local/lib/python3.11/dist-packages (from numpy>=1.19.5->scikit-learn==1.5.2) (0.1.1)\r\n",
      "Requirement already satisfied: mkl in /usr/local/lib/python3.11/dist-packages (from numpy>=1.19.5->scikit-learn==1.5.2) (2025.1.0)\r\n",
      "Requirement already satisfied: tbb4py in /usr/local/lib/python3.11/dist-packages (from numpy>=1.19.5->scikit-learn==1.5.2) (2022.1.0)\r\n",
      "Requirement already satisfied: mkl-service in /usr/local/lib/python3.11/dist-packages (from numpy>=1.19.5->scikit-learn==1.5.2) (2.4.1)\r\n",
      "Requirement already satisfied: python-dateutil>=2.8.2 in /usr/local/lib/python3.11/dist-packages (from pandas>=1.0.0->koolbox) (2.9.0.post0)\r\n",
      "Requirement already satisfied: pytz>=2020.1 in /usr/local/lib/python3.11/dist-packages (from pandas>=1.0.0->koolbox) (2025.2)\r\n",
      "Requirement already satisfied: tzdata>=2022.7 in /usr/local/lib/python3.11/dist-packages (from pandas>=1.0.0->koolbox) (2025.2)\r\n",
      "Requirement already satisfied: six>=1.5 in /usr/local/lib/python3.11/dist-packages (from python-dateutil>=2.8.2->pandas>=1.0.0->koolbox) (1.17.0)\r\n",
      "Requirement already satisfied: intel-openmp<2026,>=2024 in /usr/local/lib/python3.11/dist-packages (from mkl->numpy>=1.19.5->scikit-learn==1.5.2) (2024.2.0)\r\n",
      "Requirement already satisfied: tbb==2022.* in /usr/local/lib/python3.11/dist-packages (from mkl->numpy>=1.19.5->scikit-learn==1.5.2) (2022.1.0)\r\n",
      "Requirement already satisfied: tcmlib==1.* in /usr/local/lib/python3.11/dist-packages (from tbb==2022.*->mkl->numpy>=1.19.5->scikit-learn==1.5.2) (1.2.0)\r\n",
      "Requirement already satisfied: intel-cmplr-lib-rt in /usr/local/lib/python3.11/dist-packages (from mkl_umath->numpy>=1.19.5->scikit-learn==1.5.2) (2024.2.0)\r\n",
      "Requirement already satisfied: intel-cmplr-lib-ur==2024.2.0 in /usr/local/lib/python3.11/dist-packages (from intel-openmp<2026,>=2024->mkl->numpy>=1.19.5->scikit-learn==1.5.2) (2024.2.0)\r\n",
      "Downloading scikit_learn-1.5.2-cp311-cp311-manylinux_2_17_x86_64.manylinux2014_x86_64.whl (13.3 MB)\r\n",
      "\u001b[2K   \u001b[90m━━━━━━━━━━━━━━━━━━━━━━━━━━━━━━━━━━━━━━━━\u001b[0m \u001b[32m13.3/13.3 MB\u001b[0m \u001b[31m69.0 MB/s\u001b[0m eta \u001b[36m0:00:00\u001b[0m\r\n",
      "\u001b[?25hDownloading koolbox-0.1.2-py3-none-any.whl (11 kB)\r\n",
      "Installing collected packages: scikit-learn, koolbox\r\n",
      "  Attempting uninstall: scikit-learn\r\n",
      "    Found existing installation: scikit-learn 1.2.2\r\n",
      "    Uninstalling scikit-learn-1.2.2:\r\n",
      "      Successfully uninstalled scikit-learn-1.2.2\r\n",
      "\u001b[31mERROR: pip's dependency resolver does not currently take into account all the packages that are installed. This behaviour is the source of the following dependency conflicts.\r\n",
      "bigframes 1.36.0 requires rich<14,>=12.4.4, but you have rich 14.0.0 which is incompatible.\u001b[0m\u001b[31m\r\n",
      "\u001b[0mSuccessfully installed koolbox-0.1.2 scikit-learn-1.5.2\r\n",
      "Collecting scikeras\r\n",
      "  Downloading scikeras-0.13.0-py3-none-any.whl.metadata (3.1 kB)\r\n",
      "Downloading scikeras-0.13.0-py3-none-any.whl (26 kB)\r\n",
      "Installing collected packages: scikeras\r\n",
      "Successfully installed scikeras-0.13.0\r\n"
     ]
    }
   ],
   "source": [
    "!pip install ydf koolbox scikit-learn==1.5.2 && pip install --no-deps scikeras"
   ]
  },
  {
   "cell_type": "markdown",
   "id": "442416a6",
   "metadata": {
    "papermill": {
     "duration": 0.00789,
     "end_time": "2025-05-02T14:50:01.344591",
     "exception": false,
     "start_time": "2025-05-02T14:50:01.336701",
     "status": "completed"
    },
    "tags": []
   },
   "source": [
    "# Imports and configs"
   ]
  },
  {
   "cell_type": "code",
   "execution_count": 2,
   "id": "cec9741c",
   "metadata": {
    "_kg_hide-output": true,
    "execution": {
     "iopub.execute_input": "2025-05-02T14:50:01.360302Z",
     "iopub.status.busy": "2025-05-02T14:50:01.359946Z",
     "iopub.status.idle": "2025-05-02T14:50:27.264685Z",
     "shell.execute_reply": "2025-05-02T14:50:27.263761Z"
    },
    "papermill": {
     "duration": 25.915287,
     "end_time": "2025-05-02T14:50:27.266802",
     "exception": false,
     "start_time": "2025-05-02T14:50:01.351515",
     "status": "completed"
    },
    "tags": []
   },
   "outputs": [
    {
     "name": "stderr",
     "output_type": "stream",
     "text": [
      "2025-05-02 14:50:06.849343: E external/local_xla/xla/stream_executor/cuda/cuda_fft.cc:477] Unable to register cuFFT factory: Attempting to register factory for plugin cuFFT when one has already been registered\n",
      "WARNING: All log messages before absl::InitializeLog() is called are written to STDERR\n",
      "E0000 00:00:1746197407.078145      13 cuda_dnn.cc:8310] Unable to register cuDNN factory: Attempting to register factory for plugin cuDNN when one has already been registered\n",
      "E0000 00:00:1746197407.147254      13 cuda_blas.cc:1418] Unable to register cuBLAS factory: Attempting to register factory for plugin cuBLAS when one has already been registered\n"
     ]
    }
   ],
   "source": [
    "from sklearn.preprocessing import StandardScaler, OneHotEncoder\n",
    "from sklearn.feature_selection import mutual_info_regression\n",
    "from sklearn.ensemble import HistGradientBoostingRegressor\n",
    "from sklearn.base import BaseEstimator, RegressorMixin\n",
    "from sklearn.metrics import root_mean_squared_error\n",
    "from sklearn.compose import ColumnTransformer\n",
    "from sklearn.pipeline import make_pipeline\n",
    "from sklearn.model_selection import KFold\n",
    "from sklearn.linear_model import Ridge\n",
    "from scikeras.wrappers import KerasRegressor\n",
    "from lightgbm import LGBMRegressor, early_stopping, log_evaluation\n",
    "from ydf import GradientBoostedTreesLearner\n",
    "from catboost import CatBoostRegressor\n",
    "from xgboost import XGBRegressor\n",
    "from koolbox import Trainer\n",
    "import matplotlib.pyplot as plt\n",
    "import contextlib, io\n",
    "import seaborn as sns\n",
    "import pandas as pd\n",
    "import numpy as np\n",
    "import warnings\n",
    "import shutil\n",
    "import optuna\n",
    "import keras\n",
    "import json\n",
    "import glob\n",
    "import ydf\n",
    "\n",
    "ydf.verbose(2)\n",
    "warnings.filterwarnings(\"ignore\")"
   ]
  },
  {
   "cell_type": "code",
   "execution_count": 3,
   "id": "4c24c573",
   "metadata": {
    "execution": {
     "iopub.execute_input": "2025-05-02T14:50:27.283760Z",
     "iopub.status.busy": "2025-05-02T14:50:27.283069Z",
     "iopub.status.idle": "2025-05-02T14:50:27.288902Z",
     "shell.execute_reply": "2025-05-02T14:50:27.287929Z"
    },
    "papermill": {
     "duration": 0.015909,
     "end_time": "2025-05-02T14:50:27.290508",
     "exception": false,
     "start_time": "2025-05-02T14:50:27.274599",
     "status": "completed"
    },
    "tags": []
   },
   "outputs": [],
   "source": [
    "class CFG:\n",
    "    train_path = \"/kaggle/input/playground-series-s5e5/train.csv\"\n",
    "    test_path = \"/kaggle/input/playground-series-s5e5/test.csv\"\n",
    "    sample_sub_path = \"/kaggle/input/playground-series-s5e5/sample_submission.csv\"\n",
    "    \n",
    "    original_path = \"/kaggle/input/calories-burnt-prediction/calories.csv\"\n",
    "\n",
    "    metric = root_mean_squared_error\n",
    "    target = \"Calories\"\n",
    "    n_folds = 5\n",
    "    seed = 42\n",
    "\n",
    "    cv = KFold(n_splits=n_folds, random_state=seed, shuffle=True)\n",
    "\n",
    "    run_optuna = True\n",
    "    n_optuna_trials = 250"
   ]
  },
  {
   "cell_type": "markdown",
   "id": "49482021",
   "metadata": {
    "papermill": {
     "duration": 0.006703,
     "end_time": "2025-05-02T14:50:27.304428",
     "exception": false,
     "start_time": "2025-05-02T14:50:27.297725",
     "status": "completed"
    },
    "tags": []
   },
   "source": [
    "# Data loading and preprocessing"
   ]
  },
  {
   "cell_type": "code",
   "execution_count": 4,
   "id": "755a093f",
   "metadata": {
    "execution": {
     "iopub.execute_input": "2025-05-02T14:50:27.321417Z",
     "iopub.status.busy": "2025-05-02T14:50:27.321093Z",
     "iopub.status.idle": "2025-05-02T14:50:28.712302Z",
     "shell.execute_reply": "2025-05-02T14:50:28.711356Z"
    },
    "papermill": {
     "duration": 1.402712,
     "end_time": "2025-05-02T14:50:28.714258",
     "exception": false,
     "start_time": "2025-05-02T14:50:27.311546",
     "status": "completed"
    },
    "tags": []
   },
   "outputs": [],
   "source": [
    "train = pd.read_csv(CFG.train_path, index_col=\"id\")\n",
    "test = pd.read_csv(CFG.test_path, index_col=\"id\")\n",
    "\n",
    "train[\"Sex\"] = train[\"Sex\"].map({\"male\": 0, \"female\": 1})\n",
    "test[\"Sex\"] = test[\"Sex\"].map({\"male\": 0, \"female\": 1})\n",
    "\n",
    "X = train.drop(CFG.target, axis=1)\n",
    "y = np.log1p(train[CFG.target])\n",
    "X_test = test"
   ]
  },
  {
   "cell_type": "code",
   "execution_count": 5,
   "id": "b991c57e",
   "metadata": {
    "execution": {
     "iopub.execute_input": "2025-05-02T14:50:28.731889Z",
     "iopub.status.busy": "2025-05-02T14:50:28.731566Z",
     "iopub.status.idle": "2025-05-02T14:50:28.766622Z",
     "shell.execute_reply": "2025-05-02T14:50:28.765685Z"
    },
    "papermill": {
     "duration": 0.04576,
     "end_time": "2025-05-02T14:50:28.768309",
     "exception": false,
     "start_time": "2025-05-02T14:50:28.722549",
     "status": "completed"
    },
    "tags": []
   },
   "outputs": [],
   "source": [
    "original = pd.read_csv(CFG.original_path, index_col=\"User_ID\")\n",
    "original[\"Gender\"] = original[\"Gender\"].map({\"male\": 0, \"female\": 1})\n",
    "original = original.rename(columns={\"Gender\": \"Sex\"})\n",
    "\n",
    "X_original = original.drop(CFG.target, axis=1)\n",
    "y_original = np.log1p(original[CFG.target])"
   ]
  },
  {
   "cell_type": "code",
   "execution_count": 6,
   "id": "46bdd6be",
   "metadata": {
    "execution": {
     "iopub.execute_input": "2025-05-02T14:50:28.783871Z",
     "iopub.status.busy": "2025-05-02T14:50:28.783537Z",
     "iopub.status.idle": "2025-05-02T14:51:56.563543Z",
     "shell.execute_reply": "2025-05-02T14:51:56.562679Z"
    },
    "papermill": {
     "duration": 87.795856,
     "end_time": "2025-05-02T14:51:56.571438",
     "exception": false,
     "start_time": "2025-05-02T14:50:28.775582",
     "status": "completed"
    },
    "tags": []
   },
   "outputs": [
    {
     "data": {
      "text/html": [
       "<style type=\"text/css\">\n",
       "#T_4f5f8_row0_col0 {\n",
       "  width: 10em;\n",
       "  background: linear-gradient(90deg, #006837 100.0%, transparent 100.0%);\n",
       "}\n",
       "#T_4f5f8_row1_col0 {\n",
       "  width: 10em;\n",
       "  background: linear-gradient(90deg, #afdd70 68.3%, transparent 68.3%);\n",
       "}\n",
       "#T_4f5f8_row2_col0 {\n",
       "  width: 10em;\n",
       "  background: linear-gradient(90deg, #daf08d 59.6%, transparent 59.6%);\n",
       "}\n",
       "#T_4f5f8_row3_col0 {\n",
       "  width: 10em;\n",
       "  background: linear-gradient(90deg, #c21c27 6.0%, transparent 6.0%);\n",
       "}\n",
       "#T_4f5f8_row4_col0, #T_4f5f8_row5_col0 {\n",
       "  width: 10em;\n",
       "  background: linear-gradient(90deg, #b50f26 3.4%, transparent 3.4%);\n",
       "}\n",
       "#T_4f5f8_row6_col0 {\n",
       "  width: 10em;\n",
       "  background: linear-gradient(90deg, #a90426 1.0%, transparent 1.0%);\n",
       "}\n",
       "</style>\n",
       "<table id=\"T_4f5f8\">\n",
       "  <thead>\n",
       "    <tr>\n",
       "      <th class=\"blank level0\" >&nbsp;</th>\n",
       "      <th id=\"T_4f5f8_level0_col0\" class=\"col_heading level0 col0\" >Mutual Information</th>\n",
       "    </tr>\n",
       "  </thead>\n",
       "  <tbody>\n",
       "    <tr>\n",
       "      <th id=\"T_4f5f8_level0_row0\" class=\"row_heading level0 row0\" >Duration</th>\n",
       "      <td id=\"T_4f5f8_row0_col0\" class=\"data row0 col0\" >1.640567</td>\n",
       "    </tr>\n",
       "    <tr>\n",
       "      <th id=\"T_4f5f8_level0_row1\" class=\"row_heading level0 row1\" >Body_Temp</th>\n",
       "      <td id=\"T_4f5f8_row1_col0\" class=\"data row1 col0\" >1.120766</td>\n",
       "    </tr>\n",
       "    <tr>\n",
       "      <th id=\"T_4f5f8_level0_row2\" class=\"row_heading level0 row2\" >Heart_Rate</th>\n",
       "      <td id=\"T_4f5f8_row2_col0\" class=\"data row2 col0\" >0.976966</td>\n",
       "    </tr>\n",
       "    <tr>\n",
       "      <th id=\"T_4f5f8_level0_row3\" class=\"row_heading level0 row3\" >Age</th>\n",
       "      <td id=\"T_4f5f8_row3_col0\" class=\"data row3 col0\" >0.098387</td>\n",
       "    </tr>\n",
       "    <tr>\n",
       "      <th id=\"T_4f5f8_level0_row4\" class=\"row_heading level0 row4\" >Height</th>\n",
       "      <td id=\"T_4f5f8_row4_col0\" class=\"data row4 col0\" >0.056501</td>\n",
       "    </tr>\n",
       "    <tr>\n",
       "      <th id=\"T_4f5f8_level0_row5\" class=\"row_heading level0 row5\" >Weight</th>\n",
       "      <td id=\"T_4f5f8_row5_col0\" class=\"data row5 col0\" >0.055709</td>\n",
       "    </tr>\n",
       "    <tr>\n",
       "      <th id=\"T_4f5f8_level0_row6\" class=\"row_heading level0 row6\" >Sex</th>\n",
       "      <td id=\"T_4f5f8_row6_col0\" class=\"data row6 col0\" >0.017174</td>\n",
       "    </tr>\n",
       "  </tbody>\n",
       "</table>\n"
      ],
      "text/plain": [
       "<pandas.io.formats.style.Styler at 0x7d8330707790>"
      ]
     },
     "execution_count": 6,
     "metadata": {},
     "output_type": "execute_result"
    }
   ],
   "source": [
    "mutual_info = mutual_info_regression(X, y, random_state=CFG.seed)\n",
    "\n",
    "mutual_info = pd.Series(mutual_info)\n",
    "mutual_info.index = X.columns\n",
    "mutual_info = pd.DataFrame(mutual_info.sort_values(ascending=False), columns=['Mutual Information'])\n",
    "mutual_info.style.bar(subset=['Mutual Information'], cmap='RdYlGn')"
   ]
  },
  {
   "cell_type": "code",
   "execution_count": 7,
   "id": "3febaba5",
   "metadata": {
    "execution": {
     "iopub.execute_input": "2025-05-02T14:51:56.587168Z",
     "iopub.status.busy": "2025-05-02T14:51:56.586828Z",
     "iopub.status.idle": "2025-05-02T14:51:57.302299Z",
     "shell.execute_reply": "2025-05-02T14:51:57.301337Z"
    },
    "papermill": {
     "duration": 0.725194,
     "end_time": "2025-05-02T14:51:57.303816",
     "exception": false,
     "start_time": "2025-05-02T14:51:56.578622",
     "status": "completed"
    },
    "tags": []
   },
   "outputs": [
    {
     "data": {
      "text/html": [
       "<style type=\"text/css\">\n",
       "#T_3cb8c_row0_col0 {\n",
       "  width: 10em;\n",
       "  background: linear-gradient(90deg, #006837 100.0%, transparent 100.0%);\n",
       "}\n",
       "#T_3cb8c_row1_col0 {\n",
       "  width: 10em;\n",
       "  background: linear-gradient(90deg, #bbe278 66.0%, transparent 66.0%);\n",
       "}\n",
       "#T_3cb8c_row2_col0 {\n",
       "  width: 10em;\n",
       "  background: linear-gradient(90deg, #e0f295 57.9%, transparent 57.9%);\n",
       "}\n",
       "#T_3cb8c_row3_col0 {\n",
       "  width: 10em;\n",
       "  background: linear-gradient(90deg, #b10b26 2.4%, transparent 2.4%);\n",
       "}\n",
       "#T_3cb8c_row4_col0 {\n",
       "  width: 10em;\n",
       "  background: linear-gradient(90deg, #ab0626 1.4%, transparent 1.4%);\n",
       "}\n",
       "#T_3cb8c_row5_col0 {\n",
       "  width: 10em;\n",
       "  background: linear-gradient(90deg, #a90426 1.1%, transparent 1.1%);\n",
       "}\n",
       "#T_3cb8c_row6_col0 {\n",
       "  width: 10em;\n",
       "  background: linear-gradient(90deg, #a50026 0.3%, transparent 0.3%);\n",
       "}\n",
       "</style>\n",
       "<table id=\"T_3cb8c\">\n",
       "  <thead>\n",
       "    <tr>\n",
       "      <th class=\"blank level0\" >&nbsp;</th>\n",
       "      <th id=\"T_3cb8c_level0_col0\" class=\"col_heading level0 col0\" >Mutual Information</th>\n",
       "    </tr>\n",
       "  </thead>\n",
       "  <tbody>\n",
       "    <tr>\n",
       "      <th id=\"T_3cb8c_level0_row0\" class=\"row_heading level0 row0\" >Duration</th>\n",
       "      <td id=\"T_3cb8c_row0_col0\" class=\"data row0 col0\" >1.494968</td>\n",
       "    </tr>\n",
       "    <tr>\n",
       "      <th id=\"T_3cb8c_level0_row1\" class=\"row_heading level0 row1\" >Body_Temp</th>\n",
       "      <td id=\"T_3cb8c_row1_col0\" class=\"data row1 col0\" >0.986528</td>\n",
       "    </tr>\n",
       "    <tr>\n",
       "      <th id=\"T_3cb8c_level0_row2\" class=\"row_heading level0 row2\" >Heart_Rate</th>\n",
       "      <td id=\"T_3cb8c_row2_col0\" class=\"data row2 col0\" >0.866243</td>\n",
       "    </tr>\n",
       "    <tr>\n",
       "      <th id=\"T_3cb8c_level0_row3\" class=\"row_heading level0 row3\" >Age</th>\n",
       "      <td id=\"T_3cb8c_row3_col0\" class=\"data row3 col0\" >0.035208</td>\n",
       "    </tr>\n",
       "    <tr>\n",
       "      <th id=\"T_3cb8c_level0_row4\" class=\"row_heading level0 row4\" >Weight</th>\n",
       "      <td id=\"T_3cb8c_row4_col0\" class=\"data row4 col0\" >0.020520</td>\n",
       "    </tr>\n",
       "    <tr>\n",
       "      <th id=\"T_3cb8c_level0_row5\" class=\"row_heading level0 row5\" >Sex</th>\n",
       "      <td id=\"T_3cb8c_row5_col0\" class=\"data row5 col0\" >0.016184</td>\n",
       "    </tr>\n",
       "    <tr>\n",
       "      <th id=\"T_3cb8c_level0_row6\" class=\"row_heading level0 row6\" >Height</th>\n",
       "      <td id=\"T_3cb8c_row6_col0\" class=\"data row6 col0\" >0.005213</td>\n",
       "    </tr>\n",
       "  </tbody>\n",
       "</table>\n"
      ],
      "text/plain": [
       "<pandas.io.formats.style.Styler at 0x7d833088e650>"
      ]
     },
     "execution_count": 7,
     "metadata": {},
     "output_type": "execute_result"
    }
   ],
   "source": [
    "mutual_info = mutual_info_regression(X_original, y_original, random_state=CFG.seed)\n",
    "\n",
    "mutual_info = pd.Series(mutual_info)\n",
    "mutual_info.index = X_original.columns\n",
    "mutual_info = pd.DataFrame(mutual_info.sort_values(ascending=False), columns=['Mutual Information'])\n",
    "mutual_info.style.bar(subset=['Mutual Information'], cmap='RdYlGn')"
   ]
  },
  {
   "cell_type": "code",
   "execution_count": 8,
   "id": "324c77b4",
   "metadata": {
    "execution": {
     "iopub.execute_input": "2025-05-02T14:51:57.319711Z",
     "iopub.status.busy": "2025-05-02T14:51:57.319344Z",
     "iopub.status.idle": "2025-05-02T14:51:58.513353Z",
     "shell.execute_reply": "2025-05-02T14:51:58.512262Z"
    },
    "papermill": {
     "duration": 1.204491,
     "end_time": "2025-05-02T14:51:58.515639",
     "exception": false,
     "start_time": "2025-05-02T14:51:57.311148",
     "status": "completed"
    },
    "tags": []
   },
   "outputs": [
    {
     "data": {
      "image/png": "[encoded data removed]",
      "text/plain": [
       "<Figure size 1600x600 with 4 Axes>"
      ]
     },
     "metadata": {},
     "output_type": "display_data"
    }
   ],
   "source": [
    "sns.set_style(\"white\")\n",
    "fig, axes = plt.subplots(1, 2, figsize=(16, 6))\n",
    "\n",
    "corr_train = train.corr()\n",
    "mask_train = np.triu(np.ones_like(corr_train, dtype=bool), k=1)\n",
    "sns.heatmap(\n",
    "    data=corr_train,\n",
    "    annot=True,\n",
    "    fmt='.2f',\n",
    "    mask=mask_train,\n",
    "    square=True,\n",
    "    cmap='coolwarm',\n",
    "    cbar_kws={'shrink': .7, 'format': '%.2f'},   \n",
    "    annot_kws={'size': 8},\n",
    "    center=0,\n",
    "    ax=axes[0]\n",
    ")\n",
    "axes[0].set_title('Train')\n",
    "axes[0].tick_params(axis='both', which='major', labelsize=8)\n",
    "\n",
    "corr_orig = original.corr()\n",
    "mask_orig = np.triu(np.ones_like(corr_orig, dtype=bool), k=1)\n",
    "sns.heatmap(\n",
    "    data=corr_orig,\n",
    "    annot=True,\n",
    "    fmt='.2f',\n",
    "    mask=mask_orig,\n",
    "    square=True,\n",
    "    cmap='coolwarm',\n",
    "    cbar_kws={'shrink': .7, 'format': '%.2f'},   \n",
    "    annot_kws={'size': 8},\n",
    "    center=0,\n",
    "    ax=axes[1]\n",
    ")\n",
    "axes[1].set_title('Original')\n",
    "axes[1].tick_params(axis='both', which='major', labelsize=8)\n",
    "\n",
    "plt.tight_layout()\n",
    "plt.show()"
   ]
  },
  {
   "cell_type": "markdown",
   "id": "dd73638e",
   "metadata": {
    "papermill": {
     "duration": 0.008269,
     "end_time": "2025-05-02T14:51:58.532895",
     "exception": false,
     "start_time": "2025-05-02T14:51:58.524626",
     "status": "completed"
    },
    "tags": []
   },
   "source": [
    "# Training base models"
   ]
  },
  {
   "cell_type": "code",
   "execution_count": 9,
   "id": "a8d40152",
   "metadata": {
    "_kg_hide-input": true,
    "_kg_hide-output": true,
    "execution": {
     "iopub.execute_input": "2025-05-02T14:51:58.551627Z",
     "iopub.status.busy": "2025-05-02T14:51:58.550870Z",
     "iopub.status.idle": "2025-05-02T14:51:58.559909Z",
     "shell.execute_reply": "2025-05-02T14:51:58.559005Z"
    },
    "papermill": {
     "duration": 0.020225,
     "end_time": "2025-05-02T14:51:58.561430",
     "exception": false,
     "start_time": "2025-05-02T14:51:58.541205",
     "status": "completed"
    },
    "tags": []
   },
   "outputs": [],
   "source": [
    "histgb_params = {\n",
    "    \"l2_regularization\": 10.412017522533768,\n",
    "    \"learning_rate\": 0.011702680619474444,\n",
    "    \"max_depth\": 59,\n",
    "    \"max_features\": 0.30616140080552673,\n",
    "    \"max_iter\": 4454,\n",
    "    \"max_leaf_nodes\": 385,\n",
    "    \"min_samples_leaf\": 50,\n",
    "    \"random_state\": 42\n",
    "}\n",
    "\n",
    "lgbm_params = {\n",
    "    \"boosting_type\": \"gbdt\",\n",
    "    \"colsample_bytree\": 0.8213924491907012,\n",
    "    \"learning_rate\": 0.059976685297931195,\n",
    "    \"min_child_samples\": 10,\n",
    "    \"min_child_weight\": 0.5425237767880097,\n",
    "    \"n_estimators\": 50000,\n",
    "    \"n_jobs\": -1,\n",
    "    \"num_leaves\": 89,\n",
    "    \"random_state\": 42,\n",
    "    \"reg_alpha\": 2.0325709613371545,\n",
    "    \"reg_lambda\": 87.27971117911044,\n",
    "    \"subsample\": 0.6452823633939004,\n",
    "    \"verbose\": -1\n",
    "}\n",
    "\n",
    "lgbm_goss_params = {\n",
    "    \"boosting_type\": \"goss\",\n",
    "    \"colsample_bytree\": 0.9068724002629094,\n",
    "    \"learning_rate\": 0.06459027654473874,\n",
    "    \"min_child_samples\": 39,\n",
    "    \"min_child_weight\": 0.5337673729810578,\n",
    "    \"n_estimators\": 50000,\n",
    "    \"n_jobs\": -1,\n",
    "    \"num_leaves\": 13,\n",
    "    \"random_state\": 42,\n",
    "    \"reg_alpha\": 1.603969498256519,\n",
    "    \"reg_lambda\": 10.806488455621444,\n",
    "    \"subsample\": 0.5966412222358356,\n",
    "    \"verbose\": -1\n",
    "}\n",
    "\n",
    "xgb_params = {\n",
    "    \"colsample_bylevel\": 0.8606487417581108,\n",
    "    \"colsample_bynode\": 0.9410596660335436,\n",
    "    \"colsample_bytree\": 0.9407540036296737,\n",
    "    \"early_stopping_rounds\": 100,\n",
    "    \"eval_metric\": \"rmse\",\n",
    "    \"gamma\": 0.023260595738991977,\n",
    "    \"learning_rate\": 0.03669372905801298,\n",
    "    \"max_depth\": 11,\n",
    "    \"max_leaves\": 51,\n",
    "    \"min_child_weight\": 96,\n",
    "    \"n_estimators\": 50000,\n",
    "    \"n_jobs\": -1,\n",
    "    \"random_state\": 42,\n",
    "    \"reg_alpha\": 2.953205886504917,\n",
    "    \"reg_lambda\": 67.64147033446291,\n",
    "    \"subsample\": 0.6973241930754311,\n",
    "    \"verbosity\": 0\n",
    "}\n",
    "\n",
    "cb_params = {\n",
    "    \"border_count\": 88,\n",
    "    \"colsample_bylevel\": 0.7903437608890396,\n",
    "    \"depth\": 8,\n",
    "    \"eval_metric\": \"RMSE\",\n",
    "    \"iterations\": 50000,\n",
    "    \"l2_leaf_reg\": 6.065104074215131,\n",
    "    \"learning_rate\": 0.030946464122148992,\n",
    "    \"min_child_samples\": 138,\n",
    "    \"random_state\": 42,\n",
    "    \"random_strength\": 0.035251008593976785,\n",
    "    \"verbose\": False\n",
    "}\n",
    "\n",
    "ydf_params = {\n",
    "    \"num_trees\": 800,\n",
    "    \"max_depth\": 7\n",
    "}"
   ]
  },
  {
   "cell_type": "code",
   "execution_count": 10,
   "id": "09f49721",
   "metadata": {
    "execution": {
     "iopub.execute_input": "2025-05-02T14:51:58.581930Z",
     "iopub.status.busy": "2025-05-02T14:51:58.581106Z",
     "iopub.status.idle": "2025-05-02T14:51:58.585715Z",
     "shell.execute_reply": "2025-05-02T14:51:58.584840Z"
    },
    "papermill": {
     "duration": 0.01578,
     "end_time": "2025-05-02T14:51:58.587203",
     "exception": false,
     "start_time": "2025-05-02T14:51:58.571423",
     "status": "completed"
    },
    "tags": []
   },
   "outputs": [],
   "source": [
    "scores = {}\n",
    "oof_preds = {}\n",
    "test_preds = {}"
   ]
  },
  {
   "cell_type": "markdown",
   "id": "81f9446a",
   "metadata": {
    "papermill": {
     "duration": 0.008629,
     "end_time": "2025-05-02T14:51:58.604643",
     "exception": false,
     "start_time": "2025-05-02T14:51:58.596014",
     "status": "completed"
    },
    "tags": []
   },
   "source": [
    "## HistGradientBoosting"
   ]
  },
  {
   "cell_type": "code",
   "execution_count": 11,
   "id": "9363d71f",
   "metadata": {
    "execution": {
     "iopub.execute_input": "2025-05-02T14:51:58.623534Z",
     "iopub.status.busy": "2025-05-02T14:51:58.623198Z",
     "iopub.status.idle": "2025-05-02T15:00:02.628923Z",
     "shell.execute_reply": "2025-05-02T15:00:02.627744Z"
    },
    "papermill": {
     "duration": 484.017614,
     "end_time": "2025-05-02T15:00:02.630823",
     "exception": false,
     "start_time": "2025-05-02T14:51:58.613209",
     "status": "completed"
    },
    "tags": []
   },
   "outputs": [
    {
     "name": "stdout",
     "output_type": "stream",
     "text": [
      "Training HistGradientBoostingRegressor\n",
      "\n",
      "--- Fold 0 - root_mean_squared_error: 0.0594 - Time: 85.24 s\n",
      "--- Fold 1 - root_mean_squared_error: 0.0605 - Time: 78.24 s\n",
      "--- Fold 2 - root_mean_squared_error: 0.0597 - Time: 82.61 s\n",
      "--- Fold 3 - root_mean_squared_error: 0.0601 - Time: 75.22 s\n",
      "--- Fold 4 - root_mean_squared_error: 0.0593 - Time: 79.56 s\n",
      "\n",
      "------ Overall root_mean_squared_error: 0.0598 - Mean root_mean_squared_error: 0.0598 ± 0.0004 - Time: 402.57 s\n"
     ]
    }
   ],
   "source": [
    "histgb_trainer = Trainer(\n",
    "    HistGradientBoostingRegressor(**histgb_params),\n",
    "    cv=CFG.cv,\n",
    "    metric=CFG.metric,\n",
    "    task=\"regression\"\n",
    ")\n",
    "\n",
    "histgb_trainer.fit(X, y, extra_X=X_original, extra_y=y_original)\n",
    "\n",
    "scores[\"HistGB\"] = histgb_trainer.fold_scores\n",
    "oof_preds[\"HistGB\"] = histgb_trainer.oof_preds\n",
    "test_preds[\"HistGB\"] = histgb_trainer.predict(X_test)"
   ]
  },
  {
   "cell_type": "markdown",
   "id": "f14a1d78",
   "metadata": {
    "papermill": {
     "duration": 0.00874,
     "end_time": "2025-05-02T15:00:02.715907",
     "exception": false,
     "start_time": "2025-05-02T15:00:02.707167",
     "status": "completed"
    },
    "tags": []
   },
   "source": [
    "## LightGBM (gbdt)"
   ]
  },
  {
   "cell_type": "code",
   "execution_count": 12,
   "id": "6f596df6",
   "metadata": {
    "execution": {
     "iopub.execute_input": "2025-05-02T15:00:02.735638Z",
     "iopub.status.busy": "2025-05-02T15:00:02.734816Z",
     "iopub.status.idle": "2025-05-02T15:04:43.968576Z",
     "shell.execute_reply": "2025-05-02T15:04:43.967648Z"
    },
    "papermill": {
     "duration": 281.24597,
     "end_time": "2025-05-02T15:04:43.970747",
     "exception": false,
     "start_time": "2025-05-02T15:00:02.724777",
     "status": "completed"
    },
    "tags": []
   },
   "outputs": [
    {
     "name": "stdout",
     "output_type": "stream",
     "text": [
      "Training LGBMRegressor\n",
      "\n",
      "Training until validation scores don't improve for 100 rounds\n",
      "Early stopping, best iteration is:\n",
      "[791]\tvalid_0's rmse: 0.0596226\tvalid_0's l2: 0.00355485\n",
      "--- Fold 0 - root_mean_squared_error: 0.0596 - Time: 28.20 s\n",
      "\n",
      "Training until validation scores don't improve for 100 rounds\n",
      "[1000]\tvalid_0's rmse: 0.0603528\tvalid_0's l2: 0.00364246\n",
      "Early stopping, best iteration is:\n",
      "[1369]\tvalid_0's rmse: 0.0603066\tvalid_0's l2: 0.00363688\n",
      "--- Fold 1 - root_mean_squared_error: 0.0603 - Time: 42.32 s\n",
      "\n",
      "Training until validation scores don't improve for 100 rounds\n",
      "[1000]\tvalid_0's rmse: 0.0596239\tvalid_0's l2: 0.00355501\n",
      "Early stopping, best iteration is:\n",
      "[1406]\tvalid_0's rmse: 0.0595985\tvalid_0's l2: 0.00355198\n",
      "--- Fold 2 - root_mean_squared_error: 0.0596 - Time: 44.42 s\n",
      "\n",
      "Training until validation scores don't improve for 100 rounds\n",
      "[1000]\tvalid_0's rmse: 0.0601725\tvalid_0's l2: 0.00362073\n",
      "[2000]\tvalid_0's rmse: 0.060028\tvalid_0's l2: 0.00360336\n",
      "Early stopping, best iteration is:\n",
      "[1918]\tvalid_0's rmse: 0.0600226\tvalid_0's l2: 0.00360271\n",
      "--- Fold 3 - root_mean_squared_error: 0.0600 - Time: 53.78 s\n",
      "\n",
      "Training until validation scores don't improve for 100 rounds\n",
      "[1000]\tvalid_0's rmse: 0.0594362\tvalid_0's l2: 0.00353266\n",
      "Early stopping, best iteration is:\n",
      "[1376]\tvalid_0's rmse: 0.0593934\tvalid_0's l2: 0.00352758\n",
      "--- Fold 4 - root_mean_squared_error: 0.0594 - Time: 43.09 s\n",
      "\n",
      "\n",
      "------ Overall root_mean_squared_error: 0.0598 - Mean root_mean_squared_error: 0.0598 ± 0.0003 - Time: 213.55 s\n"
     ]
    }
   ],
   "source": [
    "lgbm_trainer = Trainer(\n",
    "    LGBMRegressor(**lgbm_params),\n",
    "    cv=CFG.cv,\n",
    "    metric=CFG.metric,\n",
    "    use_early_stopping=True,\n",
    "    task=\"regression\"\n",
    ")\n",
    "\n",
    "fit_args = {\n",
    "    \"eval_metric\": \"rmse\",\n",
    "    \"callbacks\": [\n",
    "        log_evaluation(period=1000), \n",
    "        early_stopping(stopping_rounds=100)\n",
    "    ]\n",
    "}\n",
    "\n",
    "lgbm_trainer.fit(X, y, fit_args=fit_args, extra_X=X_original, extra_y=y_original)\n",
    "\n",
    "scores[\"LightGBM (gbdt)\"] = lgbm_trainer.fold_scores\n",
    "oof_preds[\"LightGBM (gbdt)\"] = lgbm_trainer.oof_preds\n",
    "test_preds[\"LightGBM (gbdt)\"] = lgbm_trainer.predict(X_test)"
   ]
  },
  {
   "cell_type": "markdown",
   "id": "aeb36791",
   "metadata": {
    "papermill": {
     "duration": 0.010953,
     "end_time": "2025-05-02T15:04:43.992570",
     "exception": false,
     "start_time": "2025-05-02T15:04:43.981617",
     "status": "completed"
    },
    "tags": []
   },
   "source": [
    "## LightGBM (goss)"
   ]
  },
  {
   "cell_type": "code",
   "execution_count": 13,
   "id": "df2f020b",
   "metadata": {
    "execution": {
     "iopub.execute_input": "2025-05-02T15:04:44.017238Z",
     "iopub.status.busy": "2025-05-02T15:04:44.016910Z",
     "iopub.status.idle": "2025-05-02T15:15:43.644044Z",
     "shell.execute_reply": "2025-05-02T15:15:43.643252Z"
    },
    "papermill": {
     "duration": 659.641586,
     "end_time": "2025-05-02T15:15:43.645892",
     "exception": false,
     "start_time": "2025-05-02T15:04:44.004306",
     "status": "completed"
    },
    "tags": []
   },
   "outputs": [
    {
     "name": "stdout",
     "output_type": "stream",
     "text": [
      "Training LGBMRegressor\n",
      "\n",
      "Training until validation scores don't improve for 100 rounds\n",
      "[1000]\tvalid_0's rmse: 0.0600588\tvalid_0's l2: 0.00360706\n",
      "[2000]\tvalid_0's rmse: 0.0597145\tvalid_0's l2: 0.00356582\n",
      "[3000]\tvalid_0's rmse: 0.0596177\tvalid_0's l2: 0.00355427\n",
      "Early stopping, best iteration is:\n",
      "[3424]\tvalid_0's rmse: 0.0595945\tvalid_0's l2: 0.0035515\n",
      "--- Fold 0 - root_mean_squared_error: 0.0596 - Time: 98.61 s\n",
      "\n",
      "Training until validation scores don't improve for 100 rounds\n",
      "[1000]\tvalid_0's rmse: 0.0607929\tvalid_0's l2: 0.00369577\n",
      "[2000]\tvalid_0's rmse: 0.0604315\tvalid_0's l2: 0.00365197\n",
      "[3000]\tvalid_0's rmse: 0.0603068\tvalid_0's l2: 0.00363691\n",
      "Early stopping, best iteration is:\n",
      "[3299]\tvalid_0's rmse: 0.0602872\tvalid_0's l2: 0.00363454\n",
      "--- Fold 1 - root_mean_squared_error: 0.0603 - Time: 95.52 s\n",
      "\n",
      "Training until validation scores don't improve for 100 rounds\n",
      "[1000]\tvalid_0's rmse: 0.0600734\tvalid_0's l2: 0.00360881\n",
      "[2000]\tvalid_0's rmse: 0.0597328\tvalid_0's l2: 0.00356801\n",
      "[3000]\tvalid_0's rmse: 0.0596015\tvalid_0's l2: 0.00355234\n",
      "[4000]\tvalid_0's rmse: 0.0595402\tvalid_0's l2: 0.00354503\n",
      "Early stopping, best iteration is:\n",
      "[4508]\tvalid_0's rmse: 0.0595248\tvalid_0's l2: 0.00354321\n",
      "--- Fold 2 - root_mean_squared_error: 0.0595 - Time: 126.32 s\n",
      "\n",
      "Training until validation scores don't improve for 100 rounds\n",
      "[1000]\tvalid_0's rmse: 0.0606943\tvalid_0's l2: 0.0036838\n",
      "[2000]\tvalid_0's rmse: 0.0602788\tvalid_0's l2: 0.00363353\n",
      "[3000]\tvalid_0's rmse: 0.0601248\tvalid_0's l2: 0.00361499\n",
      "[4000]\tvalid_0's rmse: 0.060043\tvalid_0's l2: 0.00360516\n",
      "Early stopping, best iteration is:\n",
      "[4559]\tvalid_0's rmse: 0.0600092\tvalid_0's l2: 0.00360111\n",
      "--- Fold 3 - root_mean_squared_error: 0.0600 - Time: 133.91 s\n",
      "\n",
      "Training until validation scores don't improve for 100 rounds\n",
      "[1000]\tvalid_0's rmse: 0.0597776\tvalid_0's l2: 0.00357336\n",
      "[2000]\tvalid_0's rmse: 0.0594386\tvalid_0's l2: 0.00353295\n",
      "[3000]\tvalid_0's rmse: 0.0593427\tvalid_0's l2: 0.00352156\n",
      "Early stopping, best iteration is:\n",
      "[3301]\tvalid_0's rmse: 0.0593269\tvalid_0's l2: 0.00351968\n",
      "--- Fold 4 - root_mean_squared_error: 0.0593 - Time: 94.12 s\n",
      "\n",
      "\n",
      "------ Overall root_mean_squared_error: 0.0597 - Mean root_mean_squared_error: 0.0597 ± 0.0003 - Time: 550.20 s\n"
     ]
    }
   ],
   "source": [
    "lgbm_goss_trainer = Trainer(\n",
    "    LGBMRegressor(**lgbm_goss_params),\n",
    "    cv=CFG.cv,\n",
    "    metric=CFG.metric,\n",
    "    use_early_stopping=True,\n",
    "    task=\"regression\"\n",
    ")\n",
    "\n",
    "fit_args = {\n",
    "    \"eval_metric\": \"rmse\",\n",
    "    \"callbacks\": [\n",
    "        log_evaluation(period=1000), \n",
    "        early_stopping(stopping_rounds=100)\n",
    "    ]\n",
    "}\n",
    "\n",
    "lgbm_goss_trainer.fit(X, y, fit_args=fit_args, extra_X=X_original, extra_y=y_original)\n",
    "\n",
    "scores[\"LightGBM (goss)\"] = lgbm_goss_trainer.fold_scores\n",
    "oof_preds[\"LightGBM (goss)\"] = lgbm_goss_trainer.oof_preds\n",
    "test_preds[\"LightGBM (goss)\"] = lgbm_goss_trainer.predict(X_test)"
   ]
  },
  {
   "cell_type": "markdown",
   "id": "d4646f17",
   "metadata": {
    "papermill": {
     "duration": 0.011762,
     "end_time": "2025-05-02T15:15:43.670040",
     "exception": false,
     "start_time": "2025-05-02T15:15:43.658278",
     "status": "completed"
    },
    "tags": []
   },
   "source": [
    "## XGBoost"
   ]
  },
  {
   "cell_type": "code",
   "execution_count": 14,
   "id": "dc98b4d4",
   "metadata": {
    "execution": {
     "iopub.execute_input": "2025-05-02T15:15:43.696392Z",
     "iopub.status.busy": "2025-05-02T15:15:43.695434Z",
     "iopub.status.idle": "2025-05-02T15:22:05.011162Z",
     "shell.execute_reply": "2025-05-02T15:22:05.010409Z"
    },
    "papermill": {
     "duration": 381.330914,
     "end_time": "2025-05-02T15:22:05.013044",
     "exception": false,
     "start_time": "2025-05-02T15:15:43.682130",
     "status": "completed"
    },
    "tags": []
   },
   "outputs": [
    {
     "name": "stdout",
     "output_type": "stream",
     "text": [
      "Training XGBRegressor\n",
      "\n",
      "[0]\tvalidation_0-rmse:0.92856\n",
      "[1000]\tvalidation_0-rmse:0.06015\n",
      "[2000]\tvalidation_0-rmse:0.06009\n",
      "[3000]\tvalidation_0-rmse:0.06007\n",
      "[3123]\tvalidation_0-rmse:0.06006\n",
      "--- Fold 0 - root_mean_squared_error: 0.0601 - Time: 84.35 s\n",
      "\n",
      "[0]\tvalidation_0-rmse:0.93096\n",
      "[1000]\tvalidation_0-rmse:0.06137\n",
      "[2000]\tvalidation_0-rmse:0.06128\n",
      "[3000]\tvalidation_0-rmse:0.06123\n",
      "[3071]\tvalidation_0-rmse:0.06123\n",
      "--- Fold 1 - root_mean_squared_error: 0.0612 - Time: 81.67 s\n",
      "\n",
      "[0]\tvalidation_0-rmse:0.92964\n",
      "[1000]\tvalidation_0-rmse:0.06065\n",
      "[2000]\tvalidation_0-rmse:0.06056\n",
      "[3000]\tvalidation_0-rmse:0.06053\n",
      "[3092]\tvalidation_0-rmse:0.06053\n",
      "--- Fold 2 - root_mean_squared_error: 0.0605 - Time: 84.43 s\n",
      "\n",
      "[0]\tvalidation_0-rmse:0.92813\n",
      "[1000]\tvalidation_0-rmse:0.06097\n",
      "[1243]\tvalidation_0-rmse:0.06096\n",
      "--- Fold 3 - root_mean_squared_error: 0.0610 - Time: 40.90 s\n",
      "\n",
      "[0]\tvalidation_0-rmse:0.92887\n",
      "[1000]\tvalidation_0-rmse:0.06014\n",
      "[2000]\tvalidation_0-rmse:0.06007\n",
      "[2595]\tvalidation_0-rmse:0.06005\n",
      "--- Fold 4 - root_mean_squared_error: 0.0601 - Time: 73.73 s\n",
      "\n",
      "\n",
      "------ Overall root_mean_squared_error: 0.0606 - Mean root_mean_squared_error: 0.0606 ± 0.0005 - Time: 366.80 s\n"
     ]
    }
   ],
   "source": [
    "xgb_trainer = Trainer(\n",
    "    XGBRegressor(**xgb_params),\n",
    "    cv=CFG.cv,\n",
    "    metric=CFG.metric,\n",
    "    use_early_stopping=True,\n",
    "    task=\"regression\"\n",
    ")\n",
    "\n",
    "fit_args = {\n",
    "    \"verbose\": 1000\n",
    "}\n",
    "\n",
    "xgb_trainer.fit(X, y, fit_args=fit_args, extra_X=X_original, extra_y=y_original)\n",
    "\n",
    "scores[\"XGBoost\"] = xgb_trainer.fold_scores\n",
    "oof_preds[\"XGBoost\"] = xgb_trainer.oof_preds\n",
    "test_preds[\"XGBoost\"] = xgb_trainer.predict(X_test)"
   ]
  },
  {
   "cell_type": "markdown",
   "id": "ab28aab7",
   "metadata": {
    "papermill": {
     "duration": 0.012897,
     "end_time": "2025-05-02T15:22:05.040028",
     "exception": false,
     "start_time": "2025-05-02T15:22:05.027131",
     "status": "completed"
    },
    "tags": []
   },
   "source": [
    "## CatBoost"
   ]
  },
  {
   "cell_type": "code",
   "execution_count": 15,
   "id": "a632cb34",
   "metadata": {
    "execution": {
     "iopub.execute_input": "2025-05-02T15:22:05.067471Z",
     "iopub.status.busy": "2025-05-02T15:22:05.067146Z",
     "iopub.status.idle": "2025-05-02T15:34:39.024537Z",
     "shell.execute_reply": "2025-05-02T15:34:39.023506Z"
    },
    "papermill": {
     "duration": 753.973163,
     "end_time": "2025-05-02T15:34:39.026317",
     "exception": false,
     "start_time": "2025-05-02T15:22:05.053154",
     "status": "completed"
    },
    "tags": []
   },
   "outputs": [
    {
     "name": "stdout",
     "output_type": "stream",
     "text": [
      "Training CatBoostRegressor\n",
      "\n",
      "0:\tlearn: 0.9348709\ttest: 0.9341488\tbest: 0.9341488 (0)\ttotal: 129ms\tremaining: 1h 47m 31s\n",
      "1000:\tlearn: 0.0571087\ttest: 0.0593244\tbest: 0.0593244 (1000)\ttotal: 55.1s\tremaining: 44m 56s\n",
      "2000:\tlearn: 0.0560120\ttest: 0.0591679\tbest: 0.0591679 (2000)\ttotal: 1m 49s\tremaining: 43m 36s\n",
      "Stopped by overfitting detector  (100 iterations wait)\n",
      "\n",
      "bestTest = 0.05911377754\n",
      "bestIteration = 2824\n",
      "\n",
      "Shrink model to first 2825 iterations.\n",
      "--- Fold 0 - root_mean_squared_error: 0.0591 - Time: 160.74 s\n",
      "\n",
      "0:\tlearn: 0.9342850\ttest: 0.9365766\tbest: 0.9365766 (0)\ttotal: 69.8ms\tremaining: 58m 11s\n",
      "1000:\tlearn: 0.0571036\ttest: 0.0598252\tbest: 0.0598252 (1000)\ttotal: 55.2s\tremaining: 45m 4s\n",
      "Stopped by overfitting detector  (100 iterations wait)\n",
      "\n",
      "bestTest = 0.05966835269\n",
      "bestIteration = 1741\n",
      "\n",
      "Shrink model to first 1742 iterations.\n",
      "--- Fold 1 - root_mean_squared_error: 0.0597 - Time: 103.16 s\n",
      "\n",
      "0:\tlearn: 0.9346164\ttest: 0.9352198\tbest: 0.9352198 (0)\ttotal: 74.2ms\tremaining: 1h 1m 52s\n",
      "1000:\tlearn: 0.0570640\ttest: 0.0593004\tbest: 0.0593004 (1000)\ttotal: 56.3s\tremaining: 45m 56s\n",
      "2000:\tlearn: 0.0559380\ttest: 0.0590550\tbest: 0.0590543 (1996)\ttotal: 1m 50s\tremaining: 44m 5s\n",
      "3000:\tlearn: 0.0551639\ttest: 0.0589824\tbest: 0.0589822 (2994)\ttotal: 2m 44s\tremaining: 42m 49s\n",
      "Stopped by overfitting detector  (100 iterations wait)\n",
      "\n",
      "bestTest = 0.05895750885\n",
      "bestIteration = 3703\n",
      "\n",
      "Shrink model to first 3704 iterations.\n",
      "--- Fold 2 - root_mean_squared_error: 0.0590 - Time: 207.87 s\n",
      "\n",
      "0:\tlearn: 0.9349691\ttest: 0.9337102\tbest: 0.9337102 (0)\ttotal: 66.3ms\tremaining: 55m 16s\n",
      "1000:\tlearn: 0.0570599\ttest: 0.0597373\tbest: 0.0597373 (1000)\ttotal: 54.2s\tremaining: 44m 12s\n",
      "2000:\tlearn: 0.0560408\ttest: 0.0595997\tbest: 0.0595980 (1976)\ttotal: 1m 47s\tremaining: 42m 54s\n",
      "3000:\tlearn: 0.0552776\ttest: 0.0595437\tbest: 0.0595417 (2940)\ttotal: 2m 39s\tremaining: 41m 35s\n",
      "Stopped by overfitting detector  (100 iterations wait)\n",
      "\n",
      "bestTest = 0.0595416905\n",
      "bestIteration = 2940\n",
      "\n",
      "Shrink model to first 2941 iterations.\n",
      "--- Fold 3 - root_mean_squared_error: 0.0595 - Time: 162.57 s\n",
      "\n",
      "0:\tlearn: 0.9347914\ttest: 0.9344284\tbest: 0.9344284 (0)\ttotal: 75.9ms\tremaining: 1h 3m 13s\n",
      "1000:\tlearn: 0.0572454\ttest: 0.0590697\tbest: 0.0590697 (1000)\ttotal: 53.5s\tremaining: 43m 38s\n",
      "2000:\tlearn: 0.0561135\ttest: 0.0589142\tbest: 0.0589119 (1987)\ttotal: 1m 45s\tremaining: 42m 21s\n",
      "Stopped by overfitting detector  (100 iterations wait)\n",
      "\n",
      "bestTest = 0.05891120084\n",
      "bestIteration = 2077\n",
      "\n",
      "Shrink model to first 2078 iterations.\n",
      "--- Fold 4 - root_mean_squared_error: 0.0589 - Time: 115.88 s\n",
      "\n",
      "\n",
      "------ Overall root_mean_squared_error: 0.0592 - Mean root_mean_squared_error: 0.0592 ± 0.0003 - Time: 751.97 s\n"
     ]
    }
   ],
   "source": [
    "cb_trainer = Trainer(\n",
    "    CatBoostRegressor(**cb_params),\n",
    "    cv=CFG.cv,\n",
    "    metric=CFG.metric,\n",
    "    use_early_stopping=True,\n",
    "    task=\"regression\"\n",
    ")\n",
    "\n",
    "fit_args = {\n",
    "    \"verbose\": 1000,\n",
    "    \"early_stopping_rounds\": 100,\n",
    "    \"use_best_model\": True\n",
    "}\n",
    "\n",
    "cb_trainer.fit(X, y, fit_args=fit_args, extra_X=X_original, extra_y=y_original)\n",
    "\n",
    "scores[\"CatBoost\"] = cb_trainer.fold_scores\n",
    "oof_preds[\"CatBoost\"] = cb_trainer.oof_preds\n",
    "test_preds[\"CatBoost\"] = cb_trainer.predict(X_test)"
   ]
  },
  {
   "cell_type": "markdown",
   "id": "192186cb",
   "metadata": {
    "papermill": {
     "duration": 0.013969,
     "end_time": "2025-05-02T15:34:39.054831",
     "exception": false,
     "start_time": "2025-05-02T15:34:39.040862",
     "status": "completed"
    },
    "tags": []
   },
   "source": [
    "## Yggdrasil"
   ]
  },
  {
   "cell_type": "code",
   "execution_count": 16,
   "id": "be3268a1",
   "metadata": {
    "execution": {
     "iopub.execute_input": "2025-05-02T15:34:39.085606Z",
     "iopub.status.busy": "2025-05-02T15:34:39.085259Z",
     "iopub.status.idle": "2025-05-02T15:34:39.093631Z",
     "shell.execute_reply": "2025-05-02T15:34:39.092501Z"
    },
    "papermill": {
     "duration": 0.026176,
     "end_time": "2025-05-02T15:34:39.095191",
     "exception": false,
     "start_time": "2025-05-02T15:34:39.069015",
     "status": "completed"
    },
    "tags": []
   },
   "outputs": [],
   "source": [
    "def YDFRegressor(learner_class):\n",
    "\n",
    "    class YDFXRegressor(BaseEstimator, RegressorMixin):\n",
    "\n",
    "        def __init__(self, params={}):\n",
    "            self.params = params\n",
    "\n",
    "        def fit(self, X, y):\n",
    "            assert isinstance(X, pd.DataFrame)\n",
    "            assert isinstance(y, pd.Series)\n",
    "            target = y.name\n",
    "            params = self.params.copy()\n",
    "            params['label'] = target\n",
    "            params['task'] = ydf.Task.REGRESSION\n",
    "            X = pd.concat([X, y], axis=1)\n",
    "            with contextlib.redirect_stderr(io.StringIO()), contextlib.redirect_stdout(io.StringIO()):\n",
    "                self.model = learner_class(**params).train(X)\n",
    "            return self\n",
    "\n",
    "        def predict(self, X):\n",
    "            assert isinstance(X, pd.DataFrame)\n",
    "            with contextlib.redirect_stderr(io.StringIO()), contextlib.redirect_stdout(io.StringIO()):\n",
    "                return self.model.predict(X)\n",
    "\n",
    "    return YDFXRegressor"
   ]
  },
  {
   "cell_type": "code",
   "execution_count": 17,
   "id": "8442f3da",
   "metadata": {
    "execution": {
     "iopub.execute_input": "2025-05-02T15:34:39.126929Z",
     "iopub.status.busy": "2025-05-02T15:34:39.126600Z",
     "iopub.status.idle": "2025-05-02T15:44:31.875396Z",
     "shell.execute_reply": "2025-05-02T15:44:31.874329Z"
    },
    "papermill": {
     "duration": 592.767056,
     "end_time": "2025-05-02T15:44:31.877401",
     "exception": false,
     "start_time": "2025-05-02T15:34:39.110345",
     "status": "completed"
    },
    "tags": []
   },
   "outputs": [
    {
     "name": "stdout",
     "output_type": "stream",
     "text": [
      "Training YDFXRegressor\n",
      "\n",
      "--- Fold 0 - root_mean_squared_error: 0.0605 - Time: 109.01 s\n",
      "--- Fold 1 - root_mean_squared_error: 0.0608 - Time: 146.14 s\n",
      "--- Fold 2 - root_mean_squared_error: 0.0604 - Time: 93.68 s\n",
      "--- Fold 3 - root_mean_squared_error: 0.0611 - Time: 99.13 s\n",
      "--- Fold 4 - root_mean_squared_error: 0.0601 - Time: 139.58 s\n",
      "\n",
      "------ Overall root_mean_squared_error: 0.0606 - Mean root_mean_squared_error: 0.0606 ± 0.0004 - Time: 589.25 s\n"
     ]
    }
   ],
   "source": [
    "ydf_trainer = Trainer(\n",
    "    YDFRegressor(GradientBoostedTreesLearner)(ydf_params),\n",
    "    cv=CFG.cv,\n",
    "    metric=CFG.metric,\n",
    "    task=\"regression\"\n",
    ")\n",
    "\n",
    "ydf_trainer.fit(X, y, extra_X=X_original, extra_y=y_original)\n",
    "\n",
    "scores[\"Yggdrasil\"] = ydf_trainer.fold_scores\n",
    "oof_preds[\"Yggdrasil\"] = ydf_trainer.oof_preds\n",
    "test_preds[\"Yggdrasil\"] = ydf_trainer.predict(X_test)"
   ]
  },
  {
   "cell_type": "markdown",
   "id": "64377f03",
   "metadata": {
    "papermill": {
     "duration": 0.0141,
     "end_time": "2025-05-02T15:44:31.906997",
     "exception": false,
     "start_time": "2025-05-02T15:44:31.892897",
     "status": "completed"
    },
    "tags": []
   },
   "source": [
    "## Neural networks"
   ]
  },
  {
   "cell_type": "code",
   "execution_count": 18,
   "id": "1c15919a",
   "metadata": {
    "execution": {
     "iopub.execute_input": "2025-05-02T15:44:31.937808Z",
     "iopub.status.busy": "2025-05-02T15:44:31.937417Z",
     "iopub.status.idle": "2025-05-02T15:44:32.650650Z",
     "shell.execute_reply": "2025-05-02T15:44:32.649230Z"
    },
    "papermill": {
     "duration": 0.730464,
     "end_time": "2025-05-02T15:44:32.652422",
     "exception": false,
     "start_time": "2025-05-02T15:44:31.921958",
     "status": "completed"
    },
    "tags": []
   },
   "outputs": [],
   "source": [
    "train = pd.read_csv(CFG.train_path, index_col=\"id\")\n",
    "test = pd.read_csv(CFG.test_path, index_col=\"id\")\n",
    "original = pd.read_csv(CFG.original_path, index_col=\"User_ID\")\n",
    "original = original.rename(columns={\"Gender\": \"Sex\"})\n",
    "\n",
    "X = train.drop(CFG.target, axis=1)\n",
    "y = np.log1p(train[CFG.target])\n",
    "X_test = test\n",
    "\n",
    "X_original = original.drop(CFG.target, axis=1)\n",
    "y_original = np.log1p(original[CFG.target])"
   ]
  },
  {
   "cell_type": "code",
   "execution_count": 19,
   "id": "3d1b995a",
   "metadata": {
    "execution": {
     "iopub.execute_input": "2025-05-02T15:44:32.684779Z",
     "iopub.status.busy": "2025-05-02T15:44:32.684387Z",
     "iopub.status.idle": "2025-05-02T15:44:33.215895Z",
     "shell.execute_reply": "2025-05-02T15:44:33.214758Z"
    },
    "papermill": {
     "duration": 0.549245,
     "end_time": "2025-05-02T15:44:33.217589",
     "exception": false,
     "start_time": "2025-05-02T15:44:32.668344",
     "status": "completed"
    },
    "tags": []
   },
   "outputs": [],
   "source": [
    "pipeline = make_pipeline(\n",
    "    ColumnTransformer(\n",
    "        [\n",
    "            ('one-hot-encode', OneHotEncoder(drop='first', sparse_output=False, dtype=np.float32, handle_unknown='ignore'), ['Sex']),\n",
    "            \n",
    "        ],\n",
    "        remainder=StandardScaler()\n",
    "    )\n",
    ").set_output(transform='pandas')\n",
    "\n",
    "X = pipeline.fit_transform(X, y)\n",
    "X_test = pipeline.transform(X_test)\n",
    "X_original = pipeline.transform(X_original)"
   ]
  },
  {
   "cell_type": "code",
   "execution_count": 20,
   "id": "165e07a6",
   "metadata": {
    "execution": {
     "iopub.execute_input": "2025-05-02T15:44:33.250018Z",
     "iopub.status.busy": "2025-05-02T15:44:33.249704Z",
     "iopub.status.idle": "2025-05-02T15:44:33.255701Z",
     "shell.execute_reply": "2025-05-02T15:44:33.254631Z"
    },
    "papermill": {
     "duration": 0.0245,
     "end_time": "2025-05-02T15:44:33.257116",
     "exception": false,
     "start_time": "2025-05-02T15:44:33.232616",
     "status": "completed"
    },
    "tags": []
   },
   "outputs": [],
   "source": [
    "def get_model(meta):\n",
    "    model = keras.models.Sequential()\n",
    "    model.add(keras.layers.Input(meta[\"X_shape_\"][1:]))\n",
    "    model.add(keras.layers.Dense(256, kernel_initializer='lecun_normal', activation='selu'))\n",
    "    model.add(keras.layers.Dense(128, kernel_initializer='lecun_normal', activation='selu'))\n",
    "    model.add(keras.layers.Dense(64, kernel_initializer='lecun_normal', activation='selu'))\n",
    "    model.add(keras.layers.Dense(1))\n",
    "    return model"
   ]
  },
  {
   "cell_type": "code",
   "execution_count": 21,
   "id": "21234585",
   "metadata": {
    "execution": {
     "iopub.execute_input": "2025-05-02T15:44:33.290758Z",
     "iopub.status.busy": "2025-05-02T15:44:33.290391Z",
     "iopub.status.idle": "2025-05-02T15:44:33.360580Z",
     "shell.execute_reply": "2025-05-02T15:44:33.359531Z"
    },
    "papermill": {
     "duration": 0.089431,
     "end_time": "2025-05-02T15:44:33.362496",
     "exception": false,
     "start_time": "2025-05-02T15:44:33.273065",
     "status": "completed"
    },
    "tags": []
   },
   "outputs": [
    {
     "name": "stderr",
     "output_type": "stream",
     "text": [
      "2025-05-02 15:44:33.297811: E external/local_xla/xla/stream_executor/cuda/cuda_driver.cc:152] failed call to cuInit: INTERNAL: CUDA error: Failed call to cuInit: UNKNOWN ERROR (303)\n"
     ]
    }
   ],
   "source": [
    "nn_model = KerasRegressor(\n",
    "    get_model,\n",
    "    loss=\"mean_squared_error\",\n",
    "    random_state=CFG.seed,\n",
    "    metrics=[keras.metrics.RootMeanSquaredError(name='rmse')],\n",
    "    optimizer=keras.optimizers.AdamW(learning_rate=0.001),\n",
    "    validation_batch_size=65536,\n",
    "    validation_split=0.1,\n",
    "    batch_size=1024,\n",
    "    epochs=100, \n",
    "    verbose=0,\n",
    "    callbacks=[\n",
    "        keras.callbacks.EarlyStopping(monitor='val_rmse', patience=7, restore_best_weights=True),\n",
    "        keras.callbacks.ReduceLROnPlateau(monitor='val_rmse', patience=3, factor=0.3)\n",
    "    ]\n",
    ")"
   ]
  },
  {
   "cell_type": "code",
   "execution_count": 22,
   "id": "8cd5f197",
   "metadata": {
    "_kg_hide-output": true,
    "execution": {
     "iopub.execute_input": "2025-05-02T15:44:33.404989Z",
     "iopub.status.busy": "2025-05-02T15:44:33.404639Z",
     "iopub.status.idle": "2025-05-02T16:03:26.614176Z",
     "shell.execute_reply": "2025-05-02T16:03:26.613241Z"
    },
    "papermill": {
     "duration": 1133.233951,
     "end_time": "2025-05-02T16:03:26.615905",
     "exception": false,
     "start_time": "2025-05-02T15:44:33.381954",
     "status": "completed"
    },
    "tags": []
   },
   "outputs": [
    {
     "name": "stdout",
     "output_type": "stream",
     "text": [
      "Training KerasRegressor\n",
      "\n"
     ]
    },
    {
     "name": "stderr",
     "output_type": "stream",
     "text": [
      "2025-05-02 15:44:33.852930: E tensorflow/core/framework/node_def_util.cc:676] NodeDef mentions attribute use_unbounded_threadpool which is not in the op definition: Op<name=MapDataset; signature=input_dataset:variant, other_arguments: -> handle:variant; attr=f:func; attr=Targuments:list(type),min=0; attr=output_types:list(type),min=1; attr=output_shapes:list(shape),min=1; attr=use_inter_op_parallelism:bool,default=true; attr=preserve_cardinality:bool,default=false; attr=force_synchronous:bool,default=false; attr=metadata:string,default=\"\"> This may be expected if your graph generating binary is newer  than this binary. Unknown attributes will be ignored. NodeDef: {{node ParallelMapDatasetV2/_15}}\n",
      "2025-05-02 15:44:40.226666: E tensorflow/core/framework/node_def_util.cc:676] NodeDef mentions attribute use_unbounded_threadpool which is not in the op definition: Op<name=MapDataset; signature=input_dataset:variant, other_arguments: -> handle:variant; attr=f:func; attr=Targuments:list(type),min=0; attr=output_types:list(type),min=1; attr=output_shapes:list(shape),min=1; attr=use_inter_op_parallelism:bool,default=true; attr=preserve_cardinality:bool,default=false; attr=force_synchronous:bool,default=false; attr=metadata:string,default=\"\"> This may be expected if your graph generating binary is newer  than this binary. Unknown attributes will be ignored. NodeDef: {{node ParallelMapDatasetV2/_15}}\n",
      "2025-05-02 15:50:49.961314: E tensorflow/core/framework/node_def_util.cc:676] NodeDef mentions attribute use_unbounded_threadpool which is not in the op definition: Op<name=MapDataset; signature=input_dataset:variant, other_arguments: -> handle:variant; attr=f:func; attr=Targuments:list(type),min=0; attr=output_types:list(type),min=1; attr=output_shapes:list(shape),min=1; attr=use_inter_op_parallelism:bool,default=true; attr=preserve_cardinality:bool,default=false; attr=force_synchronous:bool,default=false; attr=metadata:string,default=\"\"> This may be expected if your graph generating binary is newer  than this binary. Unknown attributes will be ignored. NodeDef: {{node ParallelMapDatasetV2/_14}}\n"
     ]
    },
    {
     "name": "stdout",
     "output_type": "stream",
     "text": [
      "--- Fold 0 - root_mean_squared_error: 0.0613 - Time: 377.22 s\n"
     ]
    },
    {
     "name": "stderr",
     "output_type": "stream",
     "text": [
      "2025-05-02 15:50:56.847150: E tensorflow/core/framework/node_def_util.cc:676] NodeDef mentions attribute use_unbounded_threadpool which is not in the op definition: Op<name=MapDataset; signature=input_dataset:variant, other_arguments: -> handle:variant; attr=f:func; attr=Targuments:list(type),min=0; attr=output_types:list(type),min=1; attr=output_shapes:list(shape),min=1; attr=use_inter_op_parallelism:bool,default=true; attr=preserve_cardinality:bool,default=false; attr=force_synchronous:bool,default=false; attr=metadata:string,default=\"\"> This may be expected if your graph generating binary is newer  than this binary. Unknown attributes will be ignored. NodeDef: {{node ParallelMapDatasetV2/_15}}\n",
      "2025-05-02 15:53:31.543294: E tensorflow/core/framework/node_def_util.cc:676] NodeDef mentions attribute use_unbounded_threadpool which is not in the op definition: Op<name=MapDataset; signature=input_dataset:variant, other_arguments: -> handle:variant; attr=f:func; attr=Targuments:list(type),min=0; attr=output_types:list(type),min=1; attr=output_shapes:list(shape),min=1; attr=use_inter_op_parallelism:bool,default=true; attr=preserve_cardinality:bool,default=false; attr=force_synchronous:bool,default=false; attr=metadata:string,default=\"\"> This may be expected if your graph generating binary is newer  than this binary. Unknown attributes will be ignored. NodeDef: {{node ParallelMapDatasetV2/_14}}\n"
     ]
    },
    {
     "name": "stdout",
     "output_type": "stream",
     "text": [
      "--- Fold 1 - root_mean_squared_error: 0.0624 - Time: 161.23 s\n"
     ]
    },
    {
     "name": "stderr",
     "output_type": "stream",
     "text": [
      "2025-05-02 15:53:38.523656: E tensorflow/core/framework/node_def_util.cc:676] NodeDef mentions attribute use_unbounded_threadpool which is not in the op definition: Op<name=MapDataset; signature=input_dataset:variant, other_arguments: -> handle:variant; attr=f:func; attr=Targuments:list(type),min=0; attr=output_types:list(type),min=1; attr=output_shapes:list(shape),min=1; attr=use_inter_op_parallelism:bool,default=true; attr=preserve_cardinality:bool,default=false; attr=force_synchronous:bool,default=false; attr=metadata:string,default=\"\"> This may be expected if your graph generating binary is newer  than this binary. Unknown attributes will be ignored. NodeDef: {{node ParallelMapDatasetV2/_15}}\n",
      "2025-05-02 15:56:33.639083: E tensorflow/core/framework/node_def_util.cc:676] NodeDef mentions attribute use_unbounded_threadpool which is not in the op definition: Op<name=MapDataset; signature=input_dataset:variant, other_arguments: -> handle:variant; attr=f:func; attr=Targuments:list(type),min=0; attr=output_types:list(type),min=1; attr=output_shapes:list(shape),min=1; attr=use_inter_op_parallelism:bool,default=true; attr=preserve_cardinality:bool,default=false; attr=force_synchronous:bool,default=false; attr=metadata:string,default=\"\"> This may be expected if your graph generating binary is newer  than this binary. Unknown attributes will be ignored. NodeDef: {{node ParallelMapDatasetV2/_14}}\n"
     ]
    },
    {
     "name": "stdout",
     "output_type": "stream",
     "text": [
      "--- Fold 2 - root_mean_squared_error: 0.0605 - Time: 181.73 s\n"
     ]
    },
    {
     "name": "stderr",
     "output_type": "stream",
     "text": [
      "2025-05-02 15:56:40.588820: E tensorflow/core/framework/node_def_util.cc:676] NodeDef mentions attribute use_unbounded_threadpool which is not in the op definition: Op<name=MapDataset; signature=input_dataset:variant, other_arguments: -> handle:variant; attr=f:func; attr=Targuments:list(type),min=0; attr=output_types:list(type),min=1; attr=output_shapes:list(shape),min=1; attr=use_inter_op_parallelism:bool,default=true; attr=preserve_cardinality:bool,default=false; attr=force_synchronous:bool,default=false; attr=metadata:string,default=\"\"> This may be expected if your graph generating binary is newer  than this binary. Unknown attributes will be ignored. NodeDef: {{node ParallelMapDatasetV2/_15}}\n",
      "2025-05-02 16:00:27.459588: E tensorflow/core/framework/node_def_util.cc:676] NodeDef mentions attribute use_unbounded_threadpool which is not in the op definition: Op<name=MapDataset; signature=input_dataset:variant, other_arguments: -> handle:variant; attr=f:func; attr=Targuments:list(type),min=0; attr=output_types:list(type),min=1; attr=output_shapes:list(shape),min=1; attr=use_inter_op_parallelism:bool,default=true; attr=preserve_cardinality:bool,default=false; attr=force_synchronous:bool,default=false; attr=metadata:string,default=\"\"> This may be expected if your graph generating binary is newer  than this binary. Unknown attributes will be ignored. NodeDef: {{node ParallelMapDatasetV2/_14}}\n"
     ]
    },
    {
     "name": "stdout",
     "output_type": "stream",
     "text": [
      "--- Fold 3 - root_mean_squared_error: 0.0612 - Time: 233.45 s\n"
     ]
    },
    {
     "name": "stderr",
     "output_type": "stream",
     "text": [
      "2025-05-02 16:00:34.626010: E tensorflow/core/framework/node_def_util.cc:676] NodeDef mentions attribute use_unbounded_threadpool which is not in the op definition: Op<name=MapDataset; signature=input_dataset:variant, other_arguments: -> handle:variant; attr=f:func; attr=Targuments:list(type),min=0; attr=output_types:list(type),min=1; attr=output_shapes:list(shape),min=1; attr=use_inter_op_parallelism:bool,default=true; attr=preserve_cardinality:bool,default=false; attr=force_synchronous:bool,default=false; attr=metadata:string,default=\"\"> This may be expected if your graph generating binary is newer  than this binary. Unknown attributes will be ignored. NodeDef: {{node ParallelMapDatasetV2/_15}}\n",
      "2025-05-02 16:03:18.952818: E tensorflow/core/framework/node_def_util.cc:676] NodeDef mentions attribute use_unbounded_threadpool which is not in the op definition: Op<name=MapDataset; signature=input_dataset:variant, other_arguments: -> handle:variant; attr=f:func; attr=Targuments:list(type),min=0; attr=output_types:list(type),min=1; attr=output_shapes:list(shape),min=1; attr=use_inter_op_parallelism:bool,default=true; attr=preserve_cardinality:bool,default=false; attr=force_synchronous:bool,default=false; attr=metadata:string,default=\"\"> This may be expected if your graph generating binary is newer  than this binary. Unknown attributes will be ignored. NodeDef: {{node ParallelMapDatasetV2/_14}}\n"
     ]
    },
    {
     "name": "stdout",
     "output_type": "stream",
     "text": [
      "--- Fold 4 - root_mean_squared_error: 0.0603 - Time: 171.13 s\n",
      "\n",
      "------ Overall root_mean_squared_error: 0.0612 - Mean root_mean_squared_error: 0.0611 ± 0.0008 - Time: 1126.74 s\n"
     ]
    },
    {
     "name": "stderr",
     "output_type": "stream",
     "text": [
      "2025-05-02 16:03:24.084483: E tensorflow/core/framework/node_def_util.cc:676] NodeDef mentions attribute use_unbounded_threadpool which is not in the op definition: Op<name=MapDataset; signature=input_dataset:variant, other_arguments: -> handle:variant; attr=f:func; attr=Targuments:list(type),min=0; attr=output_types:list(type),min=1; attr=output_shapes:list(shape),min=1; attr=use_inter_op_parallelism:bool,default=true; attr=preserve_cardinality:bool,default=false; attr=force_synchronous:bool,default=false; attr=metadata:string,default=\"\"> This may be expected if your graph generating binary is newer  than this binary. Unknown attributes will be ignored. NodeDef: {{node ParallelMapDatasetV2/_14}}\n"
     ]
    }
   ],
   "source": [
    "nn_trainer = Trainer(\n",
    "    nn_model,\n",
    "    cv=CFG.cv,\n",
    "    metric=root_mean_squared_error,\n",
    "    task=\"regression\"\n",
    ")\n",
    "\n",
    "nn_trainer.fit(X, y, extra_X=X_original, extra_y=y_original)\n",
    "\n",
    "scores[\"KerasANN\"] = nn_trainer.fold_scores\n",
    "oof_preds[\"KerasANN\"] = nn_trainer.oof_preds\n",
    "test_preds[\"KerasANN\"] = nn_trainer.predict(X_test)"
   ]
  },
  {
   "cell_type": "markdown",
   "id": "8717c2d5",
   "metadata": {
    "papermill": {
     "duration": 0.01539,
     "end_time": "2025-05-02T16:03:26.647873",
     "exception": false,
     "start_time": "2025-05-02T16:03:26.632483",
     "status": "completed"
    },
    "tags": []
   },
   "source": [
    "# Ensembling with Ridge"
   ]
  },
  {
   "cell_type": "code",
   "execution_count": 23,
   "id": "e352e3fa",
   "metadata": {
    "_kg_hide-input": true,
    "execution": {
     "iopub.execute_input": "2025-05-02T16:03:26.680646Z",
     "iopub.status.busy": "2025-05-02T16:03:26.680286Z",
     "iopub.status.idle": "2025-05-02T16:03:26.688365Z",
     "shell.execute_reply": "2025-05-02T16:03:26.687478Z"
    },
    "papermill": {
     "duration": 0.02633,
     "end_time": "2025-05-02T16:03:26.689962",
     "exception": false,
     "start_time": "2025-05-02T16:03:26.663632",
     "status": "completed"
    },
    "tags": []
   },
   "outputs": [],
   "source": [
    "def plot_weights(weights, title):\n",
    "    sorted_indices = np.argsort(weights[0])[::-1]\n",
    "    sorted_coeffs = np.array(weights[0])[sorted_indices]\n",
    "    sorted_model_names = np.array(list(oof_preds.keys()))[sorted_indices]\n",
    "\n",
    "    plt.figure(figsize=(10, weights.shape[1] * 0.5))\n",
    "    ax = sns.barplot(x=sorted_coeffs, y=sorted_model_names, palette=\"RdYlGn_r\")\n",
    "\n",
    "    for i, (value, name) in enumerate(zip(sorted_coeffs, sorted_model_names)):\n",
    "        if value >= 0:\n",
    "            ax.text(value, i, f\"{value:.3f}\", va=\"center\", ha=\"left\", color=\"black\")\n",
    "        else:\n",
    "            ax.text(value, i, f\"{value:.3f}\", va=\"center\", ha=\"right\", color=\"black\")\n",
    "\n",
    "    xlim = ax.get_xlim()\n",
    "    ax.set_xlim(xlim[0] - 0.1 * abs(xlim[0]), xlim[1] + 0.1 * abs(xlim[1]))\n",
    "\n",
    "    plt.title(title)\n",
    "    plt.xlabel(\"\")\n",
    "    plt.ylabel(\"\")\n",
    "    plt.tight_layout()\n",
    "    plt.show()"
   ]
  },
  {
   "cell_type": "code",
   "execution_count": 24,
   "id": "1f3a0f82",
   "metadata": {
    "execution": {
     "iopub.execute_input": "2025-05-02T16:03:26.723825Z",
     "iopub.status.busy": "2025-05-02T16:03:26.723437Z",
     "iopub.status.idle": "2025-05-02T16:03:26.746795Z",
     "shell.execute_reply": "2025-05-02T16:03:26.745706Z"
    },
    "papermill": {
     "duration": 0.041874,
     "end_time": "2025-05-02T16:03:26.748554",
     "exception": false,
     "start_time": "2025-05-02T16:03:26.706680",
     "status": "completed"
    },
    "tags": []
   },
   "outputs": [],
   "source": [
    "X = pd.DataFrame(oof_preds)\n",
    "X_test = pd.DataFrame(test_preds)"
   ]
  },
  {
   "cell_type": "code",
   "execution_count": 25,
   "id": "69673119",
   "metadata": {
    "_kg_hide-output": true,
    "execution": {
     "iopub.execute_input": "2025-05-02T16:03:26.782964Z",
     "iopub.status.busy": "2025-05-02T16:03:26.782639Z",
     "iopub.status.idle": "2025-05-02T16:13:05.951610Z",
     "shell.execute_reply": "2025-05-02T16:13:05.950817Z"
    },
    "papermill": {
     "duration": 579.18801,
     "end_time": "2025-05-02T16:13:05.953315",
     "exception": false,
     "start_time": "2025-05-02T16:03:26.765305",
     "status": "completed"
    },
    "scrolled": true,
    "tags": []
   },
   "outputs": [
    {
     "name": "stderr",
     "output_type": "stream",
     "text": [
      "[I 2025-05-02 16:03:26,787] A new study created in memory with name: no-name-63dd0085-2388-4b7f-8d06-3f9d4386936a\n",
      "[I 2025-05-02 16:03:34,941] Trial 2 finished with value: 0.059093423612525245 and parameters: {'alpha': 5.730647896324875, 'tol': 0.003623232527907527}. Best is trial 2 with value: 0.059093423612525245.\n",
      "[I 2025-05-02 16:03:35,471] Trial 3 finished with value: 0.05909555574521624 and parameters: {'alpha': 8.371540019061579, 'tol': 0.005538134252117096}. Best is trial 2 with value: 0.059093423612525245.\n",
      "[I 2025-05-02 16:03:36,376] Trial 1 finished with value: 0.05909175718568017 and parameters: {'alpha': 1.6277319409625823, 'tol': 0.008493404485181365}. Best is trial 1 with value: 0.05909175718568017.\n",
      "[I 2025-05-02 16:03:36,378] Trial 0 finished with value: 0.059093724345014476 and parameters: {'alpha': 6.155951415325795, 'tol': 0.00891575625925021}. Best is trial 1 with value: 0.05909175718568017.\n",
      "[I 2025-05-02 16:03:44,727] Trial 4 finished with value: 0.05909193631418047 and parameters: {'alpha': 0.11281771094406201, 'tol': 0.0006605758772485145}. Best is trial 1 with value: 0.05909175718568017.\n",
      "[I 2025-05-02 16:03:45,694] Trial 5 finished with value: 0.05909419857271064 and parameters: {'alpha': 6.780894809934324, 'tol': 0.009964657072832788}. Best is trial 1 with value: 0.05909175718568017.\n",
      "[I 2025-05-02 16:03:45,717] Trial 6 finished with value: 0.059091805121257904 and parameters: {'alpha': 0.6722117437064901, 'tol': 0.0024578970603920643}. Best is trial 1 with value: 0.05909175718568017.\n",
      "[I 2025-05-02 16:03:46,214] Trial 7 finished with value: 0.05909218441293795 and parameters: {'alpha': 3.466091362064482, 'tol': 0.005005699406660457}. Best is trial 1 with value: 0.05909175718568017.\n",
      "[I 2025-05-02 16:03:54,201] Trial 8 finished with value: 0.0590943825804821 and parameters: {'alpha': 7.011462258532396, 'tol': 0.0005274990051561921}. Best is trial 1 with value: 0.05909175718568017.\n",
      "[I 2025-05-02 16:03:54,719] Trial 9 finished with value: 0.05909638295125067 and parameters: {'alpha': 9.250037652419772, 'tol': 0.0031623148413435194}. Best is trial 1 with value: 0.05909175718568017.\n",
      "[I 2025-05-02 16:03:55,223] Trial 11 finished with value: 0.059094563404190024 and parameters: {'alpha': 7.232635859382006, 'tol': 0.0038460233439867025}. Best is trial 1 with value: 0.05909175718568017.\n",
      "[I 2025-05-02 16:03:55,729] Trial 10 finished with value: 0.05909176372088387 and parameters: {'alpha': 1.0141789181688587, 'tol': 0.0022175437038043752}. Best is trial 1 with value: 0.05909175718568017.\n",
      "[I 2025-05-02 16:04:03,416] Trial 12 finished with value: 0.05909183779712292 and parameters: {'alpha': 0.4955184995272788, 'tol': 0.0075740614343093975}. Best is trial 1 with value: 0.05909175718568017.\n",
      "[I 2025-05-02 16:04:04,452] Trial 13 finished with value: 0.05909189800948109 and parameters: {'alpha': 0.24456403496172574, 'tol': 0.009351496838828003}. Best is trial 1 with value: 0.05909175718568017.\n",
      "[I 2025-05-02 16:04:05,015] Trial 14 finished with value: 0.05909176341231899 and parameters: {'alpha': 1.0180493209268302, 'tol': 0.009257029976784872}. Best is trial 1 with value: 0.05909175718568017.\n",
      "[I 2025-05-02 16:04:05,987] Trial 15 finished with value: 0.05909183981476057 and parameters: {'alpha': 0.4858449158035332, 'tol': 0.007919976061063162}. Best is trial 1 with value: 0.05909175718568017.\n",
      "[I 2025-05-02 16:04:12,604] Trial 16 finished with value: 0.05909178036347681 and parameters: {'alpha': 1.9006171590092171, 'tol': 0.009069595480243811}. Best is trial 1 with value: 0.05909175718568017.\n",
      "[I 2025-05-02 16:04:13,602] Trial 17 finished with value: 0.059092199992672005 and parameters: {'alpha': 3.5056087054232887, 'tol': 0.006837160331488276}. Best is trial 1 with value: 0.05909175718568017.\n",
      "[I 2025-05-02 16:04:14,171] Trial 18 finished with value: 0.05909181250054789 and parameters: {'alpha': 2.1362109546379155, 'tol': 0.0062560110134279754}. Best is trial 1 with value: 0.05909175718568017.\n",
      "[I 2025-05-02 16:04:15,591] Trial 19 finished with value: 0.059092158141444535 and parameters: {'alpha': 3.3980069655390803, 'tol': 0.009598998503566845}. Best is trial 1 with value: 0.05909175718568017.\n",
      "[I 2025-05-02 16:04:22,636] Trial 20 finished with value: 0.05909239847333259 and parameters: {'alpha': 3.965120342067036, 'tol': 0.006875448298939728}. Best is trial 1 with value: 0.05909175718568017.\n",
      "[I 2025-05-02 16:04:23,624] Trial 21 finished with value: 0.05909246634509191 and parameters: {'alpha': 4.107758838129039, 'tol': 0.008802367523853438}. Best is trial 1 with value: 0.05909175718568017.\n",
      "[I 2025-05-02 16:04:24,642] Trial 22 finished with value: 0.05909205599940055 and parameters: {'alpha': 3.1124579895319098, 'tol': 0.009231197943258104}. Best is trial 1 with value: 0.05909175718568017.\n",
      "[I 2025-05-02 16:04:25,697] Trial 23 finished with value: 0.05909186650841939 and parameters: {'alpha': 0.36727218348638124, 'tol': 0.005609516595964371}. Best is trial 1 with value: 0.05909175718568017.\n",
      "[I 2025-05-02 16:04:32,262] Trial 24 finished with value: 0.059091750662121634 and parameters: {'alpha': 1.45769703048202, 'tol': 0.0032720976322356387}. Best is trial 24 with value: 0.059091750662121634.\n",
      "[I 2025-05-02 16:04:33,706] Trial 25 finished with value: 0.059092103716397566 and parameters: {'alpha': 3.2504434717108763, 'tol': 0.0019378090569800552}. Best is trial 24 with value: 0.059091750662121634.\n",
      "[I 2025-05-02 16:04:34,774] Trial 26 finished with value: 0.05909237194380997 and parameters: {'alpha': 3.907643291950639, 'tol': 0.0019338999122040172}. Best is trial 24 with value: 0.059091750662121634.\n",
      "[I 2025-05-02 16:04:35,382] Trial 27 finished with value: 0.05909186908480328 and parameters: {'alpha': 2.4367383262692464, 'tol': 0.002135106599463109}. Best is trial 24 with value: 0.059091750662121634.\n",
      "[I 2025-05-02 16:04:42,100] Trial 28 finished with value: 0.059092414601534415 and parameters: {'alpha': 3.9995706385314795, 'tol': 0.0005874646943856386}. Best is trial 24 with value: 0.059091750662121634.\n",
      "[I 2025-05-02 16:04:43,152] Trial 29 finished with value: 0.059091751387330936 and parameters: {'alpha': 1.4886813088413349, 'tol': 0.009581742891177886}. Best is trial 24 with value: 0.059091750662121634.\n",
      "[I 2025-05-02 16:04:44,703] Trial 30 finished with value: 0.05909181878462468 and parameters: {'alpha': 2.1746892066051546, 'tol': 0.004133974834551366}. Best is trial 24 with value: 0.059091750662121634.\n",
      "[I 2025-05-02 16:04:45,615] Trial 31 finished with value: 0.059091749744634395 and parameters: {'alpha': 1.3685206238022585, 'tol': 0.009880364764926482}. Best is trial 31 with value: 0.059091749744634395.\n",
      "[I 2025-05-02 16:04:51,427] Trial 32 finished with value: 0.059091750725085296 and parameters: {'alpha': 1.4607870562220568, 'tol': 0.004611998557221526}. Best is trial 31 with value: 0.059091749744634395.\n",
      "[I 2025-05-02 16:04:52,118] Trial 33 finished with value: 0.059091828049194745 and parameters: {'alpha': 2.2284875098568007, 'tol': 0.009747683271235784}. Best is trial 31 with value: 0.059091749744634395.\n",
      "[I 2025-05-02 16:04:55,091] Trial 34 finished with value: 0.05909181037511998 and parameters: {'alpha': 0.6406901373681184, 'tol': 0.009970092091338584}. Best is trial 31 with value: 0.059091749744634395.\n",
      "[I 2025-05-02 16:04:55,094] Trial 35 finished with value: 0.05909176423399204 and parameters: {'alpha': 1.732158644024161, 'tol': 0.009449387988950198}. Best is trial 31 with value: 0.059091749744634395.\n",
      "[I 2025-05-02 16:05:00,120] Trial 36 finished with value: 0.0590964869209289 and parameters: {'alpha': 9.35700614377144, 'tol': 0.008631360031343833}. Best is trial 31 with value: 0.059091749744634395.\n",
      "[I 2025-05-02 16:05:01,680] Trial 37 finished with value: 0.059091931236507605 and parameters: {'alpha': 0.12939198204666247, 'tol': 0.004071648306390796}. Best is trial 31 with value: 0.059091749744634395.\n",
      "[I 2025-05-02 16:05:04,797] Trial 39 finished with value: 0.05909179851625388 and parameters: {'alpha': 0.7141340407899692, 'tol': 0.0043909827710157424}. Best is trial 31 with value: 0.059091749744634395.\n",
      "[I 2025-05-02 16:05:05,330] Trial 38 finished with value: 0.05909176939276614 and parameters: {'alpha': 0.9495661351863686, 'tol': 0.003981099046969856}. Best is trial 31 with value: 0.059091749744634395.\n",
      "[I 2025-05-02 16:05:10,623] Trial 40 finished with value: 0.059091761956707164 and parameters: {'alpha': 1.701899584174034, 'tol': 0.003985061231542204}. Best is trial 31 with value: 0.059091749744634395.\n",
      "[I 2025-05-02 16:05:12,204] Trial 41 finished with value: 0.059091791875674246 and parameters: {'alpha': 1.9946900019831877, 'tol': 0.0035787145144454582}. Best is trial 31 with value: 0.059091749744634395.\n",
      "[I 2025-05-02 16:05:15,185] Trial 42 finished with value: 0.05909187705189824 and parameters: {'alpha': 2.4729783862250017, 'tol': 0.00387985108754396}. Best is trial 31 with value: 0.059091749744634395.\n",
      "[I 2025-05-02 16:05:15,765] Trial 43 finished with value: 0.0590941679398675 and parameters: {'alpha': 6.741927036772941, 'tol': 0.006987955364588971}. Best is trial 31 with value: 0.059091749744634395.\n",
      "[I 2025-05-02 16:05:20,659] Trial 44 finished with value: 0.059091785555738664 and parameters: {'alpha': 1.9448516745318263, 'tol': 0.007730779685049144}. Best is trial 31 with value: 0.059091749744634395.\n",
      "[I 2025-05-02 16:05:21,663] Trial 45 finished with value: 0.059091769425302365 and parameters: {'alpha': 1.7934121837502564, 'tol': 0.008282357185147204}. Best is trial 31 with value: 0.059091749744634395.\n",
      "[I 2025-05-02 16:05:25,136] Trial 46 finished with value: 0.059091869884623324 and parameters: {'alpha': 2.4404267988533435, 'tol': 0.007947587104126554}. Best is trial 31 with value: 0.059091749744634395.\n",
      "[I 2025-05-02 16:05:26,156] Trial 47 finished with value: 0.059091752097647 and parameters: {'alpha': 1.5128591561352271, 'tol': 0.0077007514435184655}. Best is trial 31 with value: 0.059091749744634395.\n",
      "[I 2025-05-02 16:05:31,115] Trial 48 finished with value: 0.059091808067714656 and parameters: {'alpha': 2.1079472816562914, 'tol': 0.008084903372297298}. Best is trial 31 with value: 0.059091749744634395.\n",
      "[I 2025-05-02 16:05:32,119] Trial 49 finished with value: 0.0590919744640911 and parameters: {'alpha': 2.8517008456613304, 'tol': 0.009966881234063535}. Best is trial 31 with value: 0.059091749744634395.\n",
      "[I 2025-05-02 16:05:34,598] Trial 50 finished with value: 0.05909675605140425 and parameters: {'alpha': 9.630829950150261, 'tol': 0.0010012143718424807}. Best is trial 31 with value: 0.059091749744634395.\n",
      "[I 2025-05-02 16:05:36,077] Trial 51 finished with value: 0.05909180797479536 and parameters: {'alpha': 0.6549074338482213, 'tol': 0.006963693495016831}. Best is trial 31 with value: 0.059091749744634395.\n",
      "[I 2025-05-02 16:05:40,022] Trial 52 finished with value: 0.059091807799542394 and parameters: {'alpha': 2.10620494809408, 'tol': 0.005671024961850318}. Best is trial 31 with value: 0.059091749744634395.\n",
      "[I 2025-05-02 16:05:40,669] Trial 53 finished with value: 0.059091794568145735 and parameters: {'alpha': 0.7406125251497719, 'tol': 0.009865552235138091}. Best is trial 31 with value: 0.059091749744634395.\n",
      "[I 2025-05-02 16:05:42,662] Trial 54 finished with value: 0.05909196869488594 and parameters: {'alpha': 0.012390953065191557, 'tol': 0.00943626591410147}. Best is trial 31 with value: 0.059091749744634395.\n",
      "[I 2025-05-02 16:05:45,451] Trial 55 finished with value: 0.05909187471443819 and parameters: {'alpha': 0.3337692905083669, 'tol': 0.009735632625783272}. Best is trial 31 with value: 0.059091749744634395.\n",
      "[I 2025-05-02 16:05:49,706] Trial 56 finished with value: 0.059091896287781234 and parameters: {'alpha': 0.2508901443469487, 'tol': 0.009337881782097322}. Best is trial 31 with value: 0.059091749744634395.\n",
      "[I 2025-05-02 16:05:50,255] Trial 57 finished with value: 0.0590917621045777 and parameters: {'alpha': 1.0349693434443956, 'tol': 0.008088507759364429}. Best is trial 31 with value: 0.059091749744634395.\n",
      "[I 2025-05-02 16:05:52,601] Trial 58 finished with value: 0.0590917702875604 and parameters: {'alpha': 0.9402950845162132, 'tol': 0.007615723406954494}. Best is trial 31 with value: 0.059091749744634395.\n",
      "[I 2025-05-02 16:05:55,422] Trial 59 finished with value: 0.05909174976523477 and parameters: {'alpha': 1.3801501317632079, 'tol': 0.007532745614561263}. Best is trial 31 with value: 0.059091749744634395.\n",
      "[I 2025-05-02 16:05:59,253] Trial 60 finished with value: 0.0590919184101938 and parameters: {'alpha': 0.1723973970284587, 'tol': 0.0015778875668738981}. Best is trial 31 with value: 0.059091749744634395.\n",
      "[I 2025-05-02 16:06:00,218] Trial 61 finished with value: 0.05909313134205841 and parameters: {'alpha': 5.288268704847461, 'tol': 0.004660647598500511}. Best is trial 31 with value: 0.059091749744634395.\n",
      "[I 2025-05-02 16:06:01,705] Trial 62 finished with value: 0.0590918466713274 and parameters: {'alpha': 2.3281541865910382, 'tol': 0.00646406640346469}. Best is trial 31 with value: 0.059091749744634395.\n",
      "[I 2025-05-02 16:06:05,042] Trial 63 finished with value: 0.05909184991098494 and parameters: {'alpha': 2.344532131540875, 'tol': 0.005868459723683083}. Best is trial 31 with value: 0.059091749744634395.\n",
      "[I 2025-05-02 16:06:08,408] Trial 64 finished with value: 0.05909688006639397 and parameters: {'alpha': 9.755602088745956, 'tol': 0.0058855468725409615}. Best is trial 31 with value: 0.059091749744634395.\n",
      "[I 2025-05-02 16:06:09,795] Trial 65 finished with value: 0.05909175421401651 and parameters: {'alpha': 1.1663141177770504, 'tol': 0.005973286406759927}. Best is trial 31 with value: 0.059091749744634395.\n",
      "[I 2025-05-02 16:06:11,287] Trial 66 finished with value: 0.0590918932241522 and parameters: {'alpha': 2.5434107829631794, 'tol': 0.007948812627971025}. Best is trial 31 with value: 0.059091749744634395.\n",
      "[I 2025-05-02 16:06:14,230] Trial 67 finished with value: 0.0590918615612848 and parameters: {'alpha': 2.4014561611123506, 'tol': 0.007848787885349097}. Best is trial 31 with value: 0.059091749744634395.\n",
      "[I 2025-05-02 16:06:18,897] Trial 68 finished with value: 0.059091845215492114 and parameters: {'alpha': 2.3207100212840404, 'tol': 0.008310064227666402}. Best is trial 31 with value: 0.059091749744634395.\n",
      "[I 2025-05-02 16:06:19,331] Trial 69 finished with value: 0.05909192794022003 and parameters: {'alpha': 0.14028472675743164, 'tol': 0.006121016218617766}. Best is trial 31 with value: 0.059091749744634395.\n",
      "[I 2025-05-02 16:06:20,451] Trial 70 finished with value: 0.059091791661554184 and parameters: {'alpha': 0.7608870992618048, 'tol': 0.006183541548580801}. Best is trial 31 with value: 0.059091749744634395.\n",
      "[I 2025-05-02 16:06:23,776] Trial 71 finished with value: 0.05909195903757152 and parameters: {'alpha': 0.041454432713115885, 'tol': 0.006609203788442351}. Best is trial 31 with value: 0.059091749744634395.\n",
      "[I 2025-05-02 16:06:28,042] Trial 72 finished with value: 0.05909175339637457 and parameters: {'alpha': 1.185431446455767, 'tol': 0.006356562260806452}. Best is trial 31 with value: 0.059091749744634395.\n",
      "[I 2025-05-02 16:06:28,045] Trial 73 finished with value: 0.05909179400400963 and parameters: {'alpha': 0.7444931510998933, 'tol': 0.005778769890761379}. Best is trial 31 with value: 0.059091749744634395.\n",
      "[I 2025-05-02 16:06:29,151] Trial 74 finished with value: 0.05909175110574405 and parameters: {'alpha': 1.2556493343445767, 'tol': 0.006150145325816133}. Best is trial 31 with value: 0.059091749744634395.\n",
      "[I 2025-05-02 16:06:32,976] Trial 75 finished with value: 0.05909182435557909 and parameters: {'alpha': 2.2074235035642418, 'tol': 0.005972933021844418}. Best is trial 31 with value: 0.059091749744634395.\n",
      "[I 2025-05-02 16:06:35,960] Trial 76 finished with value: 0.05909176943656299 and parameters: {'alpha': 1.7935358117557687, 'tol': 0.005966891731062295}. Best is trial 31 with value: 0.059091749744634395.\n",
      "[I 2025-05-02 16:06:35,964] Trial 77 finished with value: 0.05909175021237097 and parameters: {'alpha': 1.3013328449506356, 'tol': 0.006026963981328969}. Best is trial 31 with value: 0.059091749744634395.\n",
      "[I 2025-05-02 16:06:37,043] Trial 78 finished with value: 0.05909182710190845 and parameters: {'alpha': 2.223131252718292, 'tol': 0.005238590202322077}. Best is trial 31 with value: 0.059091749744634395.\n",
      "[I 2025-05-02 16:06:40,292] Trial 79 finished with value: 0.059091836347103535 and parameters: {'alpha': 2.2741499954880817, 'tol': 0.004497327448360469}. Best is trial 31 with value: 0.059091749744634395.\n",
      "[I 2025-05-02 16:06:44,627] Trial 80 finished with value: 0.05909215534455799 and parameters: {'alpha': 3.39064578097961, 'tol': 0.004611267930832108}. Best is trial 31 with value: 0.059091749744634395.\n",
      "[I 2025-05-02 16:06:44,631] Trial 81 finished with value: 0.059092094953155504 and parameters: {'alpha': 3.2257603820768335, 'tol': 0.0035236760550921616}. Best is trial 31 with value: 0.059091749744634395.\n",
      "[I 2025-05-02 16:06:46,226] Trial 82 finished with value: 0.059091751031667805 and parameters: {'alpha': 1.4745893829477312, 'tol': 0.003301472458519161}. Best is trial 31 with value: 0.059091749744634395.\n",
      "[I 2025-05-02 16:06:48,977] Trial 83 finished with value: 0.05909177378532769 and parameters: {'alpha': 1.8389510516361747, 'tol': 0.0033836520683539735}. Best is trial 31 with value: 0.059091749744634395.\n",
      "[I 2025-05-02 16:06:53,163] Trial 84 finished with value: 0.05909175695363154 and parameters: {'alpha': 1.6235941453192413, 'tol': 0.007305432365735171}. Best is trial 31 with value: 0.059091749744634395.\n",
      "[I 2025-05-02 16:06:54,166] Trial 85 finished with value: 0.05909177850344349 and parameters: {'alpha': 1.8838952110130105, 'tol': 0.007371829686412075}. Best is trial 31 with value: 0.059091749744634395.\n",
      "[I 2025-05-02 16:06:55,648] Trial 86 finished with value: 0.05909175258446029 and parameters: {'alpha': 1.2067029357058672, 'tol': 0.0035389555547523897}. Best is trial 31 with value: 0.059091749744634395.\n",
      "[I 2025-05-02 16:06:58,363] Trial 87 finished with value: 0.05909181078929286 and parameters: {'alpha': 0.6382667845361857, 'tol': 0.0042334408764000235}. Best is trial 31 with value: 0.059091749744634395.\n",
      "[I 2025-05-02 16:07:02,613] Trial 88 finished with value: 0.05909197170633653 and parameters: {'alpha': 0.003469735721877143, 'tol': 0.003044295553166347}. Best is trial 31 with value: 0.059091749744634395.\n",
      "[I 2025-05-02 16:07:03,597] Trial 89 finished with value: 0.05909174976630163 and parameters: {'alpha': 1.3804950810289813, 'tol': 0.0029729869255950363}. Best is trial 31 with value: 0.059091749744634395.\n",
      "[I 2025-05-02 16:07:05,069] Trial 90 finished with value: 0.059091750239184726 and parameters: {'alpha': 1.4333769347381722, 'tol': 0.0025798765514286164}. Best is trial 31 with value: 0.059091749744634395.\n",
      "[I 2025-05-02 16:07:07,880] Trial 91 finished with value: 0.059091818791843075 and parameters: {'alpha': 2.1747324216261537, 'tol': 0.0016303651742647749}. Best is trial 31 with value: 0.059091749744634395.\n",
      "[I 2025-05-02 16:07:12,066] Trial 92 finished with value: 0.0590918080982901 and parameters: {'alpha': 2.1081456892507835, 'tol': 0.002403804137154719}. Best is trial 31 with value: 0.059091749744634395.\n",
      "[I 2025-05-02 16:07:13,038] Trial 93 finished with value: 0.05909176001814815 and parameters: {'alpha': 1.0639772177688274, 'tol': 0.0016619336065388486}. Best is trial 31 with value: 0.059091749744634395.\n",
      "[I 2025-05-02 16:07:14,930] Trial 94 finished with value: 0.059091781618164016 and parameters: {'alpha': 1.9116198843672474, 'tol': 0.0010885383225133602}. Best is trial 31 with value: 0.059091749744634395.\n",
      "[I 2025-05-02 16:07:17,838] Trial 95 finished with value: 0.05909175024960777 and parameters: {'alpha': 1.4340805482036942, 'tol': 0.0020710319814145712}. Best is trial 31 with value: 0.059091749744634395.\n",
      "[I 2025-05-02 16:07:21,112] Trial 96 finished with value: 0.059091809992081294 and parameters: {'alpha': 2.1203390685901558, 'tol': 0.002078173579061272}. Best is trial 31 with value: 0.059091749744634395.\n",
      "[I 2025-05-02 16:07:22,083] Trial 97 finished with value: 0.05909178611993315 and parameters: {'alpha': 1.9494653100989794, 'tol': 0.0025275272679198962}. Best is trial 31 with value: 0.059091749744634395.\n",
      "[I 2025-05-02 16:07:24,010] Trial 98 finished with value: 0.05909178253395893 and parameters: {'alpha': 1.919518747984857, 'tol': 0.003417328694534789}. Best is trial 31 with value: 0.059091749744634395.\n",
      "[I 2025-05-02 16:07:26,811] Trial 99 finished with value: 0.05909185579608458 and parameters: {'alpha': 0.41293837802885114, 'tol': 0.002725572687043823}. Best is trial 31 with value: 0.059091749744634395.\n",
      "[I 2025-05-02 16:07:30,061] Trial 100 finished with value: 0.05909187528294137 and parameters: {'alpha': 2.465026044320435, 'tol': 0.00304025958838705}. Best is trial 31 with value: 0.059091749744634395.\n",
      "[I 2025-05-02 16:07:31,014] Trial 101 finished with value: 0.059091750166002203 and parameters: {'alpha': 1.3046281487379718, 'tol': 0.0019854530498099278}. Best is trial 31 with value: 0.059091749744634395.\n",
      "[I 2025-05-02 16:07:33,313] Trial 102 finished with value: 0.059091760629882736 and parameters: {'alpha': 1.682979320347552, 'tol': 0.0032001511165343412}. Best is trial 31 with value: 0.059091749744634395.\n",
      "[I 2025-05-02 16:07:36,129] Trial 103 finished with value: 0.05909178066791828 and parameters: {'alpha': 1.9033066841971586, 'tol': 0.0024269159414859074}. Best is trial 31 with value: 0.059091749744634395.\n",
      "[I 2025-05-02 16:07:39,364] Trial 104 finished with value: 0.05909174977892631 and parameters: {'alpha': 1.3840765598004297, 'tol': 0.002793284405145963}. Best is trial 31 with value: 0.059091749744634395.\n",
      "[I 2025-05-02 16:07:40,334] Trial 105 finished with value: 0.0590917504169014 and parameters: {'alpha': 1.288452340281383, 'tol': 0.0020773825807789874}. Best is trial 31 with value: 0.059091749744634395.\n",
      "[I 2025-05-02 16:07:42,232] Trial 106 finished with value: 0.05909176571418356 and parameters: {'alpha': 0.9901627207541019, 'tol': 0.0013629072890956983}. Best is trial 31 with value: 0.059091749744634395.\n",
      "[I 2025-05-02 16:07:44,990] Trial 107 finished with value: 0.05909187283500833 and parameters: {'alpha': 0.34133723517942016, 'tol': 0.0021555207204525645}. Best is trial 31 with value: 0.059091749744634395.\n",
      "[I 2025-05-02 16:07:48,344] Trial 108 finished with value: 0.05909176627191666 and parameters: {'alpha': 0.9837209614603131, 'tol': 0.0005589364590502023}. Best is trial 31 with value: 0.059091749744634395.\n",
      "[I 2025-05-02 16:07:49,294] Trial 109 finished with value: 0.05909191954405199 and parameters: {'alpha': 0.1685267641858399, 'tol': 0.0007397540780768111}. Best is trial 31 with value: 0.059091749744634395.\n",
      "[I 2025-05-02 16:07:51,608] Trial 110 finished with value: 0.05909189581862852 and parameters: {'alpha': 0.25262081399528014, 'tol': 0.0010134911203743134}. Best is trial 31 with value: 0.059091749744634395.\n",
      "[I 2025-05-02 16:07:53,928] Trial 111 finished with value: 0.05909175843204784 and parameters: {'alpha': 1.6489438303944834, 'tol': 0.0013545783167398739}. Best is trial 31 with value: 0.059091749744634395.\n",
      "[I 2025-05-02 16:07:58,045] Trial 112 finished with value: 0.059091759523221966 and parameters: {'alpha': 1.0712880278260322, 'tol': 0.0022371556076470375}. Best is trial 31 with value: 0.059091749744634395.\n",
      "[I 2025-05-02 16:07:58,988] Trial 113 finished with value: 0.05909175061854836 and parameters: {'alpha': 1.2775752011698644, 'tol': 0.0021935563998896697}. Best is trial 31 with value: 0.059091749744634395.\n",
      "[I 2025-05-02 16:08:00,424] Trial 114 finished with value: 0.05909175102373985 and parameters: {'alpha': 1.474254532818643, 'tol': 0.0029851831497758508}. Best is trial 31 with value: 0.059091749744634395.\n",
      "[I 2025-05-02 16:08:03,209] Trial 115 finished with value: 0.0590917718920012 and parameters: {'alpha': 0.9241750749480353, 'tol': 0.0034737580810214486}. Best is trial 31 with value: 0.059091749744634395.\n",
      "[I 2025-05-02 16:08:06,903] Trial 116 finished with value: 0.059091756999458914 and parameters: {'alpha': 1.6244164562451742, 'tol': 0.0033274395962861686}. Best is trial 31 with value: 0.059091749744634395.\n",
      "[I 2025-05-02 16:08:08,234] Trial 117 finished with value: 0.05909175878433399 and parameters: {'alpha': 1.0825618872234124, 'tol': 0.0027951237566789383}. Best is trial 31 with value: 0.059091749744634395.\n",
      "[I 2025-05-02 16:08:09,663] Trial 118 finished with value: 0.059092068134092096 and parameters: {'alpha': 3.1484153080028645, 'tol': 0.0012112088105281664}. Best is trial 31 with value: 0.059091749744634395.\n",
      "[I 2025-05-02 16:08:12,392] Trial 119 finished with value: 0.059091804330100695 and parameters: {'alpha': 2.083305592691438, 'tol': 0.002033646383691379}. Best is trial 31 with value: 0.059091749744634395.\n",
      "[I 2025-05-02 16:08:16,106] Trial 120 finished with value: 0.05909214117664791 and parameters: {'alpha': 3.353005181330607, 'tol': 0.0011253212152151147}. Best is trial 31 with value: 0.059091749744634395.\n",
      "[I 2025-05-02 16:08:17,057] Trial 121 finished with value: 0.05909197904117533 and parameters: {'alpha': 2.8673816356686093, 'tol': 0.0018557462794296397}. Best is trial 31 with value: 0.059091749744634395.\n",
      "[I 2025-05-02 16:08:18,475] Trial 122 finished with value: 0.059092184864451135 and parameters: {'alpha': 3.467245322344188, 'tol': 0.0019280937262592286}. Best is trial 31 with value: 0.059091749744634395.\n",
      "[I 2025-05-02 16:08:21,719] Trial 123 finished with value: 0.05909243644071651 and parameters: {'alpha': 4.0456556343614904, 'tol': 0.003053839325939196}. Best is trial 31 with value: 0.059091749744634395.\n",
      "[I 2025-05-02 16:08:25,000] Trial 124 finished with value: 0.05909175522890048 and parameters: {'alpha': 1.1449040158878803, 'tol': 0.0024019521436691726}. Best is trial 31 with value: 0.059091749744634395.\n",
      "[I 2025-05-02 16:08:25,931] Trial 125 finished with value: 0.059091823402509715 and parameters: {'alpha': 0.5681952367194881, 'tol': 0.003012601807992742}. Best is trial 31 with value: 0.059091749744634395.\n",
      "[I 2025-05-02 16:08:27,781] Trial 126 finished with value: 0.05909175286868473 and parameters: {'alpha': 1.198944193888214, 'tol': 0.0024891391130480336}. Best is trial 31 with value: 0.059091749744634395.\n",
      "[I 2025-05-02 16:08:30,562] Trial 127 finished with value: 0.059091795264497635 and parameters: {'alpha': 0.7358571019435813, 'tol': 0.002491137099482147}. Best is trial 31 with value: 0.059091749744634395.\n",
      "[I 2025-05-02 16:08:33,826] Trial 128 finished with value: 0.05909175007786007 and parameters: {'alpha': 1.3114381937802264, 'tol': 0.0023781237600946754}. Best is trial 31 with value: 0.059091749744634395.\n",
      "[I 2025-05-02 16:08:35,212] Trial 129 finished with value: 0.05909521186036933 and parameters: {'alpha': 7.989273509488058, 'tol': 0.003104344609562988}. Best is trial 31 with value: 0.059091749744634395.\n",
      "[I 2025-05-02 16:08:36,258] Trial 130 finished with value: 0.05909176273776502 and parameters: {'alpha': 1.0266686109537466, 'tol': 0.004515996290403885}. Best is trial 31 with value: 0.059091749744634395.\n",
      "[I 2025-05-02 16:08:39,060] Trial 131 finished with value: 0.059091759618981714 and parameters: {'alpha': 1.667790269630545, 'tol': 0.0046051385744436835}. Best is trial 31 with value: 0.059091749744634395.\n",
      "[I 2025-05-02 16:08:42,305] Trial 132 finished with value: 0.059093899754235374 and parameters: {'alpha': 6.3928570228580055, 'tol': 0.0019014044787372896}. Best is trial 31 with value: 0.059091749744634395.\n",
      "[I 2025-05-02 16:08:43,681] Trial 133 finished with value: 0.059093604511732185 and parameters: {'alpha': 5.9896140478043005, 'tol': 0.00018941121146975187}. Best is trial 31 with value: 0.059091749744634395.\n",
      "[I 2025-05-02 16:08:45,153] Trial 134 finished with value: 0.05909180851960925 and parameters: {'alpha': 2.110874606157858, 'tol': 0.003319696545014397}. Best is trial 31 with value: 0.059091749744634395.\n",
      "[I 2025-05-02 16:08:48,339] Trial 135 finished with value: 0.05909178032695661 and parameters: {'alpha': 1.9002936584061692, 'tol': 0.0022699305758576175}. Best is trial 31 with value: 0.059091749744634395.\n",
      "[I 2025-05-02 16:08:51,541] Trial 136 finished with value: 0.05909176545853714 and parameters: {'alpha': 1.7474658664517815, 'tol': 0.0017126515738480953}. Best is trial 31 with value: 0.059091749744634395.\n",
      "[I 2025-05-02 16:08:52,613] Trial 137 finished with value: 0.05909182051407071 and parameters: {'alpha': 2.1849818552051583, 'tol': 0.0032332050826976064}. Best is trial 31 with value: 0.059091749744634395.\n",
      "[I 2025-05-02 16:08:54,942] Trial 138 finished with value: 0.059091757986024444 and parameters: {'alpha': 1.6415366219357046, 'tol': 0.0021938498058227717}. Best is trial 31 with value: 0.059091749744634395.\n",
      "[I 2025-05-02 16:08:57,678] Trial 139 finished with value: 0.059091750013978074 and parameters: {'alpha': 1.3169607128836143, 'tol': 0.0020436223742138315}. Best is trial 31 with value: 0.059091749744634395.\n",
      "[I 2025-05-02 16:09:00,890] Trial 140 finished with value: 0.05909197119441115 and parameters: {'alpha': 0.004981661133474313, 'tol': 0.0027215105223772846}. Best is trial 31 with value: 0.059091749744634395.\n",
      "[I 2025-05-02 16:09:01,882] Trial 141 finished with value: 0.05909183627854045 and parameters: {'alpha': 2.2737814398313616, 'tol': 0.009839074207547923}. Best is trial 31 with value: 0.059091749744634395.\n",
      "[I 2025-05-02 16:09:03,780] Trial 142 finished with value: 0.05909181950329814 and parameters: {'alpha': 0.589137678352778, 'tol': 0.003174956965416442}. Best is trial 31 with value: 0.059091749744634395.\n",
      "[I 2025-05-02 16:09:06,915] Trial 143 finished with value: 0.059091777607930725 and parameters: {'alpha': 1.8756572903793358, 'tol': 0.0005803402653386585}. Best is trial 31 with value: 0.059091749744634395.\n",
      "[I 2025-05-02 16:09:10,165] Trial 144 finished with value: 0.05909188064350322 and parameters: {'alpha': 2.4889665821184517, 'tol': 0.00036151565652218836}. Best is trial 31 with value: 0.059091749744634395.\n",
      "[I 2025-05-02 16:09:11,065] Trial 145 finished with value: 0.05909176442294025 and parameters: {'alpha': 1.7345607773958251, 'tol': 0.0011866431212394432}. Best is trial 31 with value: 0.059091749744634395.\n",
      "[I 2025-05-02 16:09:13,362] Trial 146 finished with value: 0.059091758397260385 and parameters: {'alpha': 1.6483729298503584, 'tol': 0.0021622896315081257}. Best is trial 31 with value: 0.059091749744634395.\n",
      "[I 2025-05-02 16:09:15,699] Trial 147 finished with value: 0.05909177121260925 and parameters: {'alpha': 1.8126212201027816, 'tol': 0.0034633045075625375}. Best is trial 31 with value: 0.059091749744634395.\n",
      "[I 2025-05-02 16:09:19,787] Trial 148 finished with value: 0.059091768668893915 and parameters: {'alpha': 1.7850271325468365, 'tol': 0.00182208916849955}. Best is trial 31 with value: 0.059091749744634395.\n",
      "[I 2025-05-02 16:09:20,703] Trial 149 finished with value: 0.05909179543324254 and parameters: {'alpha': 2.021158968346467, 'tol': 0.0030452275588464498}. Best is trial 31 with value: 0.059091749744634395.\n",
      "[I 2025-05-02 16:09:22,144] Trial 150 finished with value: 0.059091751787583136 and parameters: {'alpha': 1.5028268771067734, 'tol': 0.004286911631392719}. Best is trial 31 with value: 0.059091749744634395.\n",
      "[I 2025-05-02 16:09:25,433] Trial 151 finished with value: 0.05909176700103191 and parameters: {'alpha': 0.9754649680706364, 'tol': 0.002429428388300423}. Best is trial 31 with value: 0.059091749744634395.\n",
      "[I 2025-05-02 16:09:28,652] Trial 152 finished with value: 0.05909184143684223 and parameters: {'alpha': 0.47815001704671556, 'tol': 0.004478912869586575}. Best is trial 31 with value: 0.059091749744634395.\n",
      "[I 2025-05-02 16:09:30,037] Trial 153 finished with value: 0.05909193458736638 and parameters: {'alpha': 0.11842687335243673, 'tol': 0.004451585106790348}. Best is trial 31 with value: 0.059091749744634395.\n",
      "[I 2025-05-02 16:09:31,472] Trial 154 finished with value: 0.059091968973877855 and parameters: {'alpha': 0.011561692241291333, 'tol': 0.003972284016513181}. Best is trial 31 with value: 0.059091749744634395.\n",
      "[I 2025-05-02 16:09:34,287] Trial 155 finished with value: 0.05909179023882817 and parameters: {'alpha': 0.771076345613935, 'tol': 0.0043849086218706}. Best is trial 31 with value: 0.059091749744634395.\n",
      "[I 2025-05-02 16:09:37,531] Trial 156 finished with value: 0.059091871007842835 and parameters: {'alpha': 2.4455872364245117, 'tol': 0.003121957545251918}. Best is trial 31 with value: 0.059091749744634395.\n",
      "[I 2025-05-02 16:09:38,895] Trial 157 finished with value: 0.05909181676088689 and parameters: {'alpha': 2.162487512608953, 'tol': 0.0037039942802532914}. Best is trial 31 with value: 0.059091749744634395.\n",
      "[I 2025-05-02 16:09:40,344] Trial 158 finished with value: 0.05909198390063407 and parameters: {'alpha': 2.8838736174193382, 'tol': 0.003511094480640852}. Best is trial 31 with value: 0.059091749744634395.\n",
      "[I 2025-05-02 16:09:43,077] Trial 159 finished with value: 0.05909194831086557 and parameters: {'alpha': 2.759130975826565, 'tol': 0.0038103943299500342}. Best is trial 31 with value: 0.059091749744634395.\n",
      "[I 2025-05-02 16:09:47,186] Trial 160 finished with value: 0.05909175248086351 and parameters: {'alpha': 1.2096277680783536, 'tol': 0.0024717852042897845}. Best is trial 31 with value: 0.059091749744634395.\n",
      "[I 2025-05-02 16:09:48,110] Trial 161 finished with value: 0.05909196962151974 and parameters: {'alpha': 0.00963886340179565, 'tol': 0.0015275070757720904}. Best is trial 31 with value: 0.059091749744634395.\n",
      "[I 2025-05-02 16:09:49,546] Trial 162 finished with value: 0.05909185725145737 and parameters: {'alpha': 0.4065956893093958, 'tol': 0.002272199542219022}. Best is trial 31 with value: 0.059091749744634395.\n",
      "[I 2025-05-02 16:09:52,271] Trial 163 finished with value: 0.059091769490895014 and parameters: {'alpha': 0.9485390047423731, 'tol': 0.0017665837517272533}. Best is trial 31 with value: 0.059091749744634395.\n",
      "[I 2025-05-02 16:09:56,542] Trial 164 finished with value: 0.059091920383665286 and parameters: {'alpha': 2.6538236778293474, 'tol': 0.00579578911857088}. Best is trial 31 with value: 0.059091749744634395.\n",
      "[I 2025-05-02 16:09:57,508] Trial 165 finished with value: 0.05909177052016599 and parameters: {'alpha': 1.805275349860501, 'tol': 0.006518310347367915}. Best is trial 31 with value: 0.059091749744634395.\n",
      "[I 2025-05-02 16:09:58,014] Trial 166 finished with value: 0.059092173406107805 and parameters: {'alpha': 3.4377945949315682, 'tol': 0.005962388813601371}. Best is trial 31 with value: 0.059091749744634395.\n",
      "[I 2025-05-02 16:10:00,765] Trial 167 finished with value: 0.05909176322311111 and parameters: {'alpha': 1.7190379147232404, 'tol': 0.005593540288230927}. Best is trial 31 with value: 0.059091749744634395.\n",
      "[I 2025-05-02 16:10:05,834] Trial 168 finished with value: 0.05909175986999601 and parameters: {'alpha': 1.0661465042114988, 'tol': 0.006020421601364447}. Best is trial 31 with value: 0.059091749744634395.\n",
      "[I 2025-05-02 16:10:06,775] Trial 169 finished with value: 0.0590917531200429 and parameters: {'alpha': 1.5419692234336426, 'tol': 0.0027403551137978625}. Best is trial 31 with value: 0.059091749744634395.\n",
      "[I 2025-05-02 16:10:07,257] Trial 170 finished with value: 0.05909176722328917 and parameters: {'alpha': 0.9729838807131865, 'tol': 0.007168777051603966}. Best is trial 31 with value: 0.059091749744634395.\n",
      "[I 2025-05-02 16:10:09,974] Trial 171 finished with value: 0.059091767383237695 and parameters: {'alpha': 1.770390387276653, 'tol': 0.002799143244347869}. Best is trial 31 with value: 0.059091749744634395.\n",
      "[I 2025-05-02 16:10:14,987] Trial 172 finished with value: 0.0590917521529197 and parameters: {'alpha': 1.5145770908616847, 'tol': 0.0032269792821876253}. Best is trial 31 with value: 0.059091749744634395.\n",
      "[I 2025-05-02 16:10:15,923] Trial 173 finished with value: 0.0590917515217379 and parameters: {'alpha': 1.239926001842811, 'tol': 0.008481053126439628}. Best is trial 31 with value: 0.059091749744634395.\n",
      "[I 2025-05-02 16:10:16,463] Trial 174 finished with value: 0.05909179345433966 and parameters: {'alpha': 0.7482989669865797, 'tol': 0.009967645389351706}. Best is trial 31 with value: 0.059091749744634395.\n",
      "[I 2025-05-02 16:10:19,212] Trial 175 finished with value: 0.05909175148195408 and parameters: {'alpha': 1.2413433028112362, 'tol': 0.008227957675625166}. Best is trial 31 with value: 0.059091749744634395.\n",
      "[I 2025-05-02 16:10:24,212] Trial 176 finished with value: 0.05909175044905062 and parameters: {'alpha': 1.286617916702079, 'tol': 0.00923023577072351}. Best is trial 31 with value: 0.059091749744634395.\n",
      "[I 2025-05-02 16:10:24,720] Trial 177 finished with value: 0.059091766994279364 and parameters: {'alpha': 0.9755406064281923, 'tol': 0.008789366480911684}. Best is trial 31 with value: 0.059091749744634395.\n",
      "[I 2025-05-02 16:10:25,689] Trial 178 finished with value: 0.059091962078951246 and parameters: {'alpha': 2.8085187150110817, 'tol': 0.009496933731350384}. Best is trial 31 with value: 0.059091749744634395.\n",
      "[I 2025-05-02 16:10:28,557] Trial 179 finished with value: 0.0590917653992195 and parameters: {'alpha': 0.9938513514032106, 'tol': 0.00944570073180269}. Best is trial 31 with value: 0.059091749744634395.\n",
      "[I 2025-05-02 16:10:33,115] Trial 180 finished with value: 0.05909175410000412 and parameters: {'alpha': 1.5659753085756236, 'tol': 0.009098120090769261}. Best is trial 31 with value: 0.059091749744634395.\n",
      "[I 2025-05-02 16:10:33,690] Trial 181 finished with value: 0.059091765897930644 and parameters: {'alpha': 1.7528152151825873, 'tol': 0.00952653255992804}. Best is trial 31 with value: 0.059091749744634395.\n",
      "[I 2025-05-02 16:10:35,039] Trial 182 finished with value: 0.05909297744421344 and parameters: {'alpha': 5.040611247333276, 'tol': 0.009327196639129976}. Best is trial 31 with value: 0.059091749744634395.\n",
      "[I 2025-05-02 16:10:38,729] Trial 183 finished with value: 0.059091799693206604 and parameters: {'alpha': 2.0515796660292445, 'tol': 0.0021693454669489964}. Best is trial 31 with value: 0.059091749744634395.\n",
      "[I 2025-05-02 16:10:41,988] Trial 184 finished with value: 0.059091821675474124 and parameters: {'alpha': 2.1918266024730104, 'tol': 0.008585206733248028}. Best is trial 31 with value: 0.059091749744634395.\n",
      "[I 2025-05-02 16:10:42,922] Trial 185 finished with value: 0.05909179679849782 and parameters: {'alpha': 2.031051568235981, 'tol': 0.0018035500651664138}. Best is trial 31 with value: 0.059091749744634395.\n",
      "[I 2025-05-02 16:10:43,462] Trial 186 finished with value: 0.059091826176275904 and parameters: {'alpha': 2.2178671818713487, 'tol': 0.00943456085666227}. Best is trial 31 with value: 0.059091749744634395.\n",
      "[I 2025-05-02 16:10:48,081] Trial 187 finished with value: 0.05909174993296357 and parameters: {'alpha': 1.3250181254508115, 'tol': 0.0032521648026668567}. Best is trial 31 with value: 0.059091749744634395.\n",
      "[I 2025-05-02 16:10:50,830] Trial 188 finished with value: 0.059091750906755086 and parameters: {'alpha': 1.4691877099206803, 'tol': 0.0029081527981957}. Best is trial 31 with value: 0.059091749744634395.\n",
      "[I 2025-05-02 16:10:51,385] Trial 189 finished with value: 0.05909174998172152 and parameters: {'alpha': 1.4127478488167784, 'tol': 0.009924182981054155}. Best is trial 31 with value: 0.059091749744634395.\n",
      "[I 2025-05-02 16:10:52,326] Trial 190 finished with value: 0.05909175094140742 and parameters: {'alpha': 1.262521880426698, 'tol': 0.0023272958821609125}. Best is trial 31 with value: 0.059091749744634395.\n",
      "[I 2025-05-02 16:10:57,429] Trial 191 finished with value: 0.059091754517929286 and parameters: {'alpha': 1.1596657434664621, 'tol': 0.003558154407999445}. Best is trial 31 with value: 0.059091749744634395.\n",
      "[I 2025-05-02 16:11:00,277] Trial 193 finished with value: 0.05909178586347827 and parameters: {'alpha': 0.8036276796776571, 'tol': 0.0021961971030971888}. Best is trial 31 with value: 0.059091749744634395.\n",
      "[I 2025-05-02 16:11:00,296] Trial 192 finished with value: 0.059091749885435384 and parameters: {'alpha': 1.3305843431853004, 'tol': 0.003097052257699269}. Best is trial 31 with value: 0.059091749744634395.\n",
      "[I 2025-05-02 16:11:01,391] Trial 194 finished with value: 0.05909176092152987 and parameters: {'alpha': 1.0510806837069766, 'tol': 0.002082040168414373}. Best is trial 31 with value: 0.059091749744634395.\n",
      "[I 2025-05-02 16:11:06,373] Trial 195 finished with value: 0.059091750506130136 and parameters: {'alpha': 1.2834616507312517, 'tol': 0.002018568035262651}. Best is trial 31 with value: 0.059091749744634395.\n",
      "[I 2025-05-02 16:11:08,790] Trial 197 finished with value: 0.059091752943434606 and parameters: {'alpha': 1.537290561335299, 'tol': 0.0018351204182200096}. Best is trial 31 with value: 0.059091749744634395.\n",
      "[I 2025-05-02 16:11:09,691] Trial 196 finished with value: 0.059091751266178535 and parameters: {'alpha': 1.4840687832511141, 'tol': 0.0015362173078867951}. Best is trial 31 with value: 0.059091749744634395.\n",
      "[I 2025-05-02 16:11:11,142] Trial 198 finished with value: 0.05909175046398316 and parameters: {'alpha': 1.28578016768382, 'tol': 0.0019974634757511447}. Best is trial 31 with value: 0.059091749744634395.\n",
      "[I 2025-05-02 16:11:15,219] Trial 199 finished with value: 0.05909174978999051 and parameters: {'alpha': 1.3867052292901236, 'tol': 0.009944999504078452}. Best is trial 31 with value: 0.059091749744634395.\n",
      "[I 2025-05-02 16:11:18,002] Trial 200 finished with value: 0.05909191905167036 and parameters: {'alpha': 2.6486085468280955, 'tol': 0.0025139383106479256}. Best is trial 31 with value: 0.059091749744634395.\n",
      "[I 2025-05-02 16:11:18,417] Trial 201 finished with value: 0.05909191547734509 and parameters: {'alpha': 0.18247411445893658, 'tol': 0.0028164033980895395}. Best is trial 31 with value: 0.059091749744634395.\n",
      "[I 2025-05-02 16:11:21,166] Trial 202 finished with value: 0.05909175039533273 and parameters: {'alpha': 1.289707837974316, 'tol': 0.0004379995547742904}. Best is trial 31 with value: 0.059091749744634395.\n",
      "[I 2025-05-02 16:11:24,434] Trial 203 finished with value: 0.059091813461188615 and parameters: {'alpha': 0.6228349909367326, 'tol': 0.009830290617963184}. Best is trial 31 with value: 0.059091749744634395.\n",
      "[I 2025-05-02 16:11:27,661] Trial 204 finished with value: 0.05909177387038783 and parameters: {'alpha': 1.839797518376742, 'tol': 0.00972785778287437}. Best is trial 31 with value: 0.059091749744634395.\n",
      "[I 2025-05-02 16:11:27,668] Trial 205 finished with value: 0.05909179249120969 and parameters: {'alpha': 1.9993446770483414, 'tol': 0.009694773744336515}. Best is trial 31 with value: 0.059091749744634395.\n",
      "[I 2025-05-02 16:11:30,035] Trial 206 finished with value: 0.05909179927689305 and parameters: {'alpha': 2.048663257191292, 'tol': 0.00017582356658585947}. Best is trial 31 with value: 0.059091749744634395.\n",
      "[I 2025-05-02 16:11:33,833] Trial 207 finished with value: 0.0590917874041408 and parameters: {'alpha': 1.9598394385207305, 'tol': 0.0005522097891964796}. Best is trial 31 with value: 0.059091749744634395.\n",
      "[I 2025-05-02 16:11:36,581] Trial 208 finished with value: 0.05909190706043666 and parameters: {'alpha': 0.21193301972065015, 'tol': 0.0007742651228720679}. Best is trial 31 with value: 0.059091749744634395.\n",
      "[I 2025-05-02 16:11:36,585] Trial 209 finished with value: 0.05909182482347883 and parameters: {'alpha': 0.5607077947071049, 'tol': 0.001153187537150109}. Best is trial 31 with value: 0.059091749744634395.\n",
      "[I 2025-05-02 16:11:38,933] Trial 210 finished with value: 0.059091763816500775 and parameters: {'alpha': 1.0129884324449896, 'tol': 0.00025067466103690945}. Best is trial 31 with value: 0.059091749744634395.\n",
      "[I 2025-05-02 16:11:42,619] Trial 211 finished with value: 0.05909175239889208 and parameters: {'alpha': 1.2119818787779173, 'tol': 0.0007195129952004841}. Best is trial 31 with value: 0.059091749744634395.\n",
      "[I 2025-05-02 16:11:45,386] Trial 213 finished with value: 0.05909176742422633 and parameters: {'alpha': 1.7708649170418136, 'tol': 0.0015842113232721999}. Best is trial 31 with value: 0.059091749744634395.\n",
      "[I 2025-05-02 16:11:45,405] Trial 212 finished with value: 0.0590917990036127 and parameters: {'alpha': 2.046742427006799, 'tol': 0.0016757428580221221}. Best is trial 31 with value: 0.059091749744634395.\n",
      "[I 2025-05-02 16:11:48,146] Trial 214 finished with value: 0.05909187183420467 and parameters: {'alpha': 0.34539215116211386, 'tol': 0.009903356226540785}. Best is trial 31 with value: 0.059091749744634395.\n",
      "[I 2025-05-02 16:11:51,397] Trial 215 finished with value: 0.059091829835268374 and parameters: {'alpha': 0.5348744606231564, 'tol': 0.008328321254793256}. Best is trial 31 with value: 0.059091749744634395.\n",
      "[I 2025-05-02 16:11:54,595] Trial 216 finished with value: 0.05909176016099555 and parameters: {'alpha': 1.061900622055432, 'tol': 0.009957961838132037}. Best is trial 31 with value: 0.059091749744634395.\n",
      "[I 2025-05-02 16:11:54,613] Trial 217 finished with value: 0.059091757488075956 and parameters: {'alpha': 1.633029898839253, 'tol': 0.009908780747574283}. Best is trial 31 with value: 0.059091749744634395.\n",
      "[I 2025-05-02 16:11:56,956] Trial 218 finished with value: 0.05909184886887739 and parameters: {'alpha': 0.44377605012057997, 'tol': 0.0027624539774502763}. Best is trial 31 with value: 0.059091749744634395.\n",
      "[I 2025-05-02 16:12:00,208] Trial 219 finished with value: 0.05909175408699988 and parameters: {'alpha': 1.5656753813904645, 'tol': 0.0035309658159364413}. Best is trial 31 with value: 0.059091749744634395.\n",
      "[I 2025-05-02 16:12:03,028] Trial 221 finished with value: 0.05909177342236541 and parameters: {'alpha': 0.9093482006667208, 'tol': 0.0025385730222473317}. Best is trial 31 with value: 0.059091749744634395.\n",
      "[I 2025-05-02 16:12:03,606] Trial 220 finished with value: 0.05909177969304978 and parameters: {'alpha': 0.8532125942233248, 'tol': 0.003021362989376787}. Best is trial 31 with value: 0.059091749744634395.\n",
      "[I 2025-05-02 16:12:05,893] Trial 222 finished with value: 0.059091755560577254 and parameters: {'alpha': 1.5972351069982942, 'tol': 0.0032665742089393627}. Best is trial 31 with value: 0.059091749744634395.\n",
      "[I 2025-05-02 16:12:09,079] Trial 223 finished with value: 0.059091868318727786 and parameters: {'alpha': 2.4331945599707465, 'tol': 0.002014681575712782}. Best is trial 31 with value: 0.059091749744634395.\n",
      "[I 2025-05-02 16:12:12,282] Trial 224 finished with value: 0.059091984161037184 and parameters: {'alpha': 2.8847529245419476, 'tol': 0.0019811243852648434}. Best is trial 31 with value: 0.059091749744634395.\n",
      "[I 2025-05-02 16:12:13,243] Trial 225 finished with value: 0.05909200165140614 and parameters: {'alpha': 2.942825473713415, 'tol': 0.0020711580621298803}. Best is trial 31 with value: 0.059091749744634395.\n",
      "[I 2025-05-02 16:12:14,708] Trial 226 finished with value: 0.05909183767755781 and parameters: {'alpha': 2.2812745640083296, 'tol': 0.0020970250097717526}. Best is trial 31 with value: 0.059091749744634395.\n",
      "[I 2025-05-02 16:12:17,863] Trial 227 finished with value: 0.059091778835388346 and parameters: {'alpha': 1.8869170959235224, 'tol': 0.004141644982796971}. Best is trial 31 with value: 0.059091749744634395.\n",
      "[I 2025-05-02 16:12:21,094] Trial 228 finished with value: 0.05909175095009385 and parameters: {'alpha': 1.4710931081990746, 'tol': 0.004541546708588288}. Best is trial 31 with value: 0.059091749744634395.\n",
      "[I 2025-05-02 16:12:22,464] Trial 229 finished with value: 0.05909183346339592 and parameters: {'alpha': 2.2585271321808396, 'tol': 0.004173677145935798}. Best is trial 31 with value: 0.059091749744634395.\n",
      "[I 2025-05-02 16:12:23,897] Trial 230 finished with value: 0.05909180597912733 and parameters: {'alpha': 2.0942741134217817, 'tol': 0.0042989412164057186}. Best is trial 31 with value: 0.059091749744634395.\n",
      "[I 2025-05-02 16:12:27,084] Trial 231 finished with value: 0.059091755127927276 and parameters: {'alpha': 1.1469388866808283, 'tol': 0.0027115875774326513}. Best is trial 31 with value: 0.059091749744634395.\n",
      "[I 2025-05-02 16:12:30,294] Trial 232 finished with value: 0.05909512474161458 and parameters: {'alpha': 7.890531172950791, 'tol': 0.005316316018071725}. Best is trial 31 with value: 0.059091749744634395.\n",
      "[I 2025-05-02 16:12:31,718] Trial 233 finished with value: 0.05909178714989762 and parameters: {'alpha': 0.7938553462869822, 'tol': 0.002245605013095211}. Best is trial 31 with value: 0.059091749744634395.\n",
      "[I 2025-05-02 16:12:33,067] Trial 234 finished with value: 0.059091751703137095 and parameters: {'alpha': 1.233657501116599, 'tol': 0.0017286565903796164}. Best is trial 31 with value: 0.059091749744634395.\n",
      "[I 2025-05-02 16:12:36,865] Trial 235 finished with value: 0.05909180781877797 and parameters: {'alpha': 0.6558419966821505, 'tol': 0.001981422960376662}. Best is trial 31 with value: 0.059091749744634395.\n",
      "[I 2025-05-02 16:12:39,638] Trial 236 finished with value: 0.059091758185762115 and parameters: {'alpha': 1.0920428872106187, 'tol': 0.0019066702746120753}. Best is trial 31 with value: 0.059091749744634395.\n",
      "[I 2025-05-02 16:12:41,016] Trial 237 finished with value: 0.05909175952007665 and parameters: {'alpha': 1.071335083798839, 'tol': 0.002018627252561085}. Best is trial 31 with value: 0.059091749744634395.\n",
      "[I 2025-05-02 16:12:41,953] Trial 238 finished with value: 0.05909175041289592 and parameters: {'alpha': 1.4442830955194392, 'tol': 0.0026003463279168004}. Best is trial 31 with value: 0.059091749744634395.\n",
      "[I 2025-05-02 16:12:46,528] Trial 239 finished with value: 0.05909177951754241 and parameters: {'alpha': 1.8930750473629843, 'tol': 0.0025788040967586264}. Best is trial 31 with value: 0.059091749744634395.\n",
      "[I 2025-05-02 16:12:48,888] Trial 240 finished with value: 0.05909175826989386 and parameters: {'alpha': 1.646273046375649, 'tol': 0.0032695345511773804}. Best is trial 31 with value: 0.059091749744634395.\n",
      "[I 2025-05-02 16:12:49,804] Trial 241 finished with value: 0.05909174980849072 and parameters: {'alpha': 1.3421891311305845, 'tol': 0.003524907617321646}. Best is trial 31 with value: 0.059091749744634395.\n",
      "[I 2025-05-02 16:12:50,764] Trial 242 finished with value: 0.059091788841897454 and parameters: {'alpha': 1.9712530889663724, 'tol': 0.0027154627296716114}. Best is trial 31 with value: 0.059091749744634395.\n",
      "[I 2025-05-02 16:12:55,738] Trial 243 finished with value: 0.05909175039047483 and parameters: {'alpha': 1.442962183386697, 'tol': 0.00344623006820601}. Best is trial 31 with value: 0.059091749744634395.\n",
      "[I 2025-05-02 16:12:58,497] Trial 244 finished with value: 0.05909175000961992 and parameters: {'alpha': 1.3173602702561966, 'tol': 0.002885347122677876}. Best is trial 31 with value: 0.059091749744634395.\n",
      "[I 2025-05-02 16:12:59,010] Trial 245 finished with value: 0.05909175137697272 and parameters: {'alpha': 1.2451636573572165, 'tol': 0.0033832586077770207}. Best is trial 31 with value: 0.059091749744634395.\n",
      "[I 2025-05-02 16:12:59,966] Trial 246 finished with value: 0.05909180111704365 and parameters: {'alpha': 0.6972948060644162, 'tol': 0.0037567243892171025}. Best is trial 31 with value: 0.059091749744634395.\n",
      "[I 2025-05-02 16:13:04,546] Trial 247 finished with value: 0.059091790210105945 and parameters: {'alpha': 1.9819277924344836, 'tol': 0.0039711888713070435}. Best is trial 31 with value: 0.059091749744634395.\n",
      "[I 2025-05-02 16:13:05,484] Trial 248 finished with value: 0.05909174985059446 and parameters: {'alpha': 1.3352950486563007, 'tol': 0.0031623980458331475}. Best is trial 31 with value: 0.059091749744634395.\n",
      "[I 2025-05-02 16:13:05,947] Trial 249 finished with value: 0.059091822857995524 and parameters: {'alpha': 0.5710844038302388, 'tol': 0.00346464813353906}. Best is trial 31 with value: 0.059091749744634395.\n"
     ]
    }
   ],
   "source": [
    "def objective(trial):    \n",
    "    params = {\n",
    "        \"random_state\": CFG.seed,\n",
    "        \"alpha\": trial.suggest_float(\"alpha\", 0, 10),\n",
    "        \"tol\": trial.suggest_float(\"tol\", 1e-6, 1e-2)\n",
    "    }\n",
    "    \n",
    "    trainer = Trainer(\n",
    "        Ridge(**params),\n",
    "        cv=CFG.cv,\n",
    "        metric=CFG.metric,\n",
    "        task=\"regression\",\n",
    "        verbose=False\n",
    "    )\n",
    "    trainer.fit(X, y)\n",
    "    \n",
    "    return trainer.overall_score\n",
    "\n",
    "if CFG.run_optuna:\n",
    "    sampler = optuna.samplers.TPESampler(seed=CFG.seed, multivariate=True)\n",
    "    study = optuna.create_study(direction=\"minimize\", sampler=sampler)\n",
    "    study.optimize(objective, n_trials=CFG.n_optuna_trials, n_jobs=-1, catch=(ValueError,))\n",
    "    best_params = study.best_params\n",
    "\n",
    "    ridge_params = {\n",
    "        \"random_state\": CFG.seed,\n",
    "        \"alpha\": best_params[\"alpha\"],\n",
    "        \"tol\": best_params[\"tol\"]\n",
    "    }\n",
    "else:\n",
    "    ridge_params = {\n",
    "        \"random_state\": CFG.seed\n",
    "    }"
   ]
  },
  {
   "cell_type": "code",
   "execution_count": 26,
   "id": "c8777310",
   "metadata": {
    "execution": {
     "iopub.execute_input": "2025-05-02T16:13:06.010739Z",
     "iopub.status.busy": "2025-05-02T16:13:06.009914Z",
     "iopub.status.idle": "2025-05-02T16:13:06.015002Z",
     "shell.execute_reply": "2025-05-02T16:13:06.013982Z"
    },
    "papermill": {
     "duration": 0.035215,
     "end_time": "2025-05-02T16:13:06.016434",
     "exception": false,
     "start_time": "2025-05-02T16:13:05.981219",
     "status": "completed"
    },
    "tags": []
   },
   "outputs": [
    {
     "name": "stdout",
     "output_type": "stream",
     "text": [
      "{\n",
      "  \"random_state\": 42,\n",
      "  \"alpha\": 1.3685206238022585,\n",
      "  \"tol\": 0.009880364764926482\n",
      "}\n"
     ]
    }
   ],
   "source": [
    "print(json.dumps(ridge_params, indent=2))"
   ]
  },
  {
   "cell_type": "code",
   "execution_count": 27,
   "id": "59e6e2db",
   "metadata": {
    "execution": {
     "iopub.execute_input": "2025-05-02T16:13:06.074107Z",
     "iopub.status.busy": "2025-05-02T16:13:06.073778Z",
     "iopub.status.idle": "2025-05-02T16:13:08.773235Z",
     "shell.execute_reply": "2025-05-02T16:13:08.772145Z"
    },
    "papermill": {
     "duration": 2.730198,
     "end_time": "2025-05-02T16:13:08.774861",
     "exception": false,
     "start_time": "2025-05-02T16:13:06.044663",
     "status": "completed"
    },
    "tags": []
   },
   "outputs": [
    {
     "name": "stdout",
     "output_type": "stream",
     "text": [
      "Training Ridge\n",
      "\n",
      "--- Fold 0 - root_mean_squared_error: 0.0589 - Time: 0.11 s\n",
      "--- Fold 1 - root_mean_squared_error: 0.0596 - Time: 0.12 s\n",
      "--- Fold 2 - root_mean_squared_error: 0.0589 - Time: 0.12 s\n",
      "--- Fold 3 - root_mean_squared_error: 0.0594 - Time: 0.11 s\n",
      "--- Fold 4 - root_mean_squared_error: 0.0587 - Time: 0.11 s\n",
      "\n",
      "------ Overall root_mean_squared_error: 0.0591 - Mean root_mean_squared_error: 0.0591 ± 0.0003 - Time: 2.67 s\n"
     ]
    }
   ],
   "source": [
    "ridge_trainer = Trainer(\n",
    "    Ridge(**ridge_params),\n",
    "    cv=CFG.cv,\n",
    "    metric=CFG.metric,\n",
    "    task=\"regression\"\n",
    ")\n",
    "\n",
    "ridge_trainer.fit(X, y)\n",
    "\n",
    "scores[\"Ridge (ensemble)\"] = ridge_trainer.fold_scores\n",
    "ridge_test_preds = np.expm1(ridge_trainer.predict(X_test))"
   ]
  },
  {
   "cell_type": "code",
   "execution_count": 28,
   "id": "ead71674",
   "metadata": {
    "execution": {
     "iopub.execute_input": "2025-05-02T16:13:08.833670Z",
     "iopub.status.busy": "2025-05-02T16:13:08.833336Z",
     "iopub.status.idle": "2025-05-02T16:13:09.133219Z",
     "shell.execute_reply": "2025-05-02T16:13:09.132294Z"
    },
    "papermill": {
     "duration": 0.330881,
     "end_time": "2025-05-02T16:13:09.134843",
     "exception": false,
     "start_time": "2025-05-02T16:13:08.803962",
     "status": "completed"
    },
    "tags": []
   },
   "outputs": [
    {
     "data": {
      "image/png": "[encoded data removed]",
      "text/plain": [
       "<Figure size 1000x350 with 1 Axes>"
      ]
     },
     "metadata": {},
     "output_type": "display_data"
    }
   ],
   "source": [
    "ridge_coeffs = np.zeros((1, X.shape[1]))\n",
    "for m in ridge_trainer.estimators:\n",
    "    ridge_coeffs += m.coef_\n",
    "ridge_coeffs = ridge_coeffs / len(ridge_trainer.estimators)\n",
    "\n",
    "plot_weights(ridge_coeffs, \"Ridge Coefficients\")"
   ]
  },
  {
   "cell_type": "markdown",
   "id": "04b4fe77",
   "metadata": {
    "papermill": {
     "duration": 0.029374,
     "end_time": "2025-05-02T16:13:09.194710",
     "exception": false,
     "start_time": "2025-05-02T16:13:09.165336",
     "status": "completed"
    },
    "tags": []
   },
   "source": [
    "# Submission"
   ]
  },
  {
   "cell_type": "code",
   "execution_count": 29,
   "id": "c82e4c3b",
   "metadata": {
    "execution": {
     "iopub.execute_input": "2025-05-02T16:13:09.253766Z",
     "iopub.status.busy": "2025-05-02T16:13:09.253375Z",
     "iopub.status.idle": "2025-05-02T16:13:09.924350Z",
     "shell.execute_reply": "2025-05-02T16:13:09.923282Z"
    },
    "papermill": {
     "duration": 0.702565,
     "end_time": "2025-05-02T16:13:09.926000",
     "exception": false,
     "start_time": "2025-05-02T16:13:09.223435",
     "status": "completed"
    },
    "tags": []
   },
   "outputs": [
    {
     "data": {
      "text/html": [
       "<div>\n",
       "<style scoped>\n",
       "    .dataframe tbody tr th:only-of-type {\n",
       "        vertical-align: middle;\n",
       "    }\n",
       "\n",
       "    .dataframe tbody tr th {\n",
       "        vertical-align: top;\n",
       "    }\n",
       "\n",
       "    .dataframe thead th {\n",
       "        text-align: right;\n",
       "    }\n",
       "</style>\n",
       "<table border=\"1\" class=\"dataframe\">\n",
       "  <thead>\n",
       "    <tr style=\"text-align: right;\">\n",
       "      <th></th>\n",
       "      <th>id</th>\n",
       "      <th>Calories</th>\n",
       "    </tr>\n",
       "  </thead>\n",
       "  <tbody>\n",
       "    <tr>\n",
       "      <th>0</th>\n",
       "      <td>750000</td>\n",
       "      <td>27.191904</td>\n",
       "    </tr>\n",
       "    <tr>\n",
       "      <th>1</th>\n",
       "      <td>750001</td>\n",
       "      <td>107.674587</td>\n",
       "    </tr>\n",
       "    <tr>\n",
       "      <th>2</th>\n",
       "      <td>750002</td>\n",
       "      <td>87.063340</td>\n",
       "    </tr>\n",
       "    <tr>\n",
       "      <th>3</th>\n",
       "      <td>750003</td>\n",
       "      <td>125.636308</td>\n",
       "    </tr>\n",
       "    <tr>\n",
       "      <th>4</th>\n",
       "      <td>750004</td>\n",
       "      <td>76.007659</td>\n",
       "    </tr>\n",
       "  </tbody>\n",
       "</table>\n",
       "</div>"
      ],
      "text/plain": [
       "       id    Calories\n",
       "0  750000   27.191904\n",
       "1  750001  107.674587\n",
       "2  750002   87.063340\n",
       "3  750003  125.636308\n",
       "4  750004   76.007659"
      ]
     },
     "execution_count": 29,
     "metadata": {},
     "output_type": "execute_result"
    }
   ],
   "source": [
    "sub = pd.read_csv(CFG.sample_sub_path)\n",
    "sub[CFG.target] = ridge_test_preds\n",
    "sub.to_csv(f\"sub_ridge_{np.mean(scores['Ridge (ensemble)']):.6f}.csv\", index=False)\n",
    "sub.head()"
   ]
  },
  {
   "cell_type": "markdown",
   "id": "0fdb3ff2",
   "metadata": {
    "papermill": {
     "duration": 0.028665,
     "end_time": "2025-05-02T16:13:09.984275",
     "exception": false,
     "start_time": "2025-05-02T16:13:09.955610",
     "status": "completed"
    },
    "tags": []
   },
   "source": [
    "# Results"
   ]
  },
  {
   "cell_type": "code",
   "execution_count": 30,
   "id": "fddc0f64",
   "metadata": {
    "execution": {
     "iopub.execute_input": "2025-05-02T16:13:10.044088Z",
     "iopub.status.busy": "2025-05-02T16:13:10.043753Z",
     "iopub.status.idle": "2025-05-02T16:13:10.657210Z",
     "shell.execute_reply": "2025-05-02T16:13:10.656264Z"
    },
    "papermill": {
     "duration": 0.645689,
     "end_time": "2025-05-02T16:13:10.658830",
     "exception": false,
     "start_time": "2025-05-02T16:13:10.013141",
     "status": "completed"
    },
    "tags": []
   },
   "outputs": [
    {
     "data": {
      "image/png": "[encoded data removed]",
      "text/plain": [
       "<Figure size 1500x240 with 2 Axes>"
      ]
     },
     "metadata": {},
     "output_type": "display_data"
    }
   ],
   "source": [
    "scores = pd.DataFrame(scores)\n",
    "mean_scores = scores.mean().sort_values(ascending=True)\n",
    "order = scores.mean().sort_values(ascending=True).index.tolist()\n",
    "\n",
    "min_score = mean_scores.min()\n",
    "max_score = mean_scores.max()\n",
    "padding = (max_score - min_score) * 0.5\n",
    "lower_limit = min_score - padding\n",
    "upper_limit = max_score + padding\n",
    "\n",
    "fig, axs = plt.subplots(1, 2, figsize=(15, scores.shape[1] * 0.3))\n",
    "\n",
    "boxplot = sns.boxplot(data=scores, order=order, ax=axs[0], orient=\"h\", color=\"grey\")\n",
    "axs[0].set_title(f\"Fold {CFG.metric.__name__}\")\n",
    "axs[0].set_xlabel(\"\")\n",
    "axs[0].set_ylabel(\"\")\n",
    "\n",
    "barplot = sns.barplot(x=mean_scores.values, y=mean_scores.index, ax=axs[1], color=\"grey\")\n",
    "axs[1].set_title(f\"Average {CFG.metric.__name__}\")\n",
    "axs[1].set_xlabel(\"\")\n",
    "axs[1].set_xlim(left=lower_limit, right=upper_limit)\n",
    "axs[1].set_ylabel(\"\")\n",
    "\n",
    "for i, (score, model) in enumerate(zip(mean_scores.values, mean_scores.index)):\n",
    "    color = \"cyan\" if \"ensemble\" in model.lower() else \"grey\"\n",
    "    barplot.patches[i].set_facecolor(color)\n",
    "    boxplot.patches[i].set_facecolor(color)\n",
    "    barplot.text(score, i, round(score, 6), va=\"center\")\n",
    "\n",
    "plt.tight_layout()\n",
    "plt.show()"
   ]
  },
  {
   "cell_type": "code",
   "execution_count": 31,
   "id": "29b42eb8",
   "metadata": {
    "execution": {
     "iopub.execute_input": "2025-05-02T16:13:10.722765Z",
     "iopub.status.busy": "2025-05-02T16:13:10.722426Z",
     "iopub.status.idle": "2025-05-02T16:13:10.728875Z",
     "shell.execute_reply": "2025-05-02T16:13:10.727955Z"
    },
    "papermill": {
     "duration": 0.03913,
     "end_time": "2025-05-02T16:13:10.730417",
     "exception": false,
     "start_time": "2025-05-02T16:13:10.691287",
     "status": "completed"
    },
    "tags": []
   },
   "outputs": [],
   "source": [
    "shutil.rmtree(\"catboost_info\", ignore_errors=True)"
   ]
  }
 ],
 "metadata": {
  "kaggle": {
   "accelerator": "none",
   "dataSources": [
    {
     "databundleVersionId": 11893428,
     "sourceId": 91716,
     "sourceType": "competition"
    },
    {
     "datasetId": 6512323,
     "sourceId": 10522392,
     "sourceType": "datasetVersion"
    }
   ],
   "dockerImageVersionId": 31012,
   "isGpuEnabled": false,
   "isInternetEnabled": true,
   "language": "python",
   "sourceType": "notebook"
  },
  "kernelspec": {
   "display_name": ".venv",
   "language": "python",
   "name": "python3"
  },
  "language_info": {
   "codemirror_mode": {
    "name": "ipython",
    "version": 3
   },
   "file_extension": ".py",
   "mimetype": "text/x-python",
   "name": "python",
   "nbconvert_exporter": "python",
   "pygments_lexer": "ipython3",
   "version": "3.11.11"
  },
  "papermill": {
   "default_parameters": {},
   "duration": 5009.474814,
   "end_time": "2025-05-02T16:13:14.178776",
   "environment_variables": {},
   "exception": null,
   "input_path": "__notebook__.ipynb",
   "output_path": "__notebook__.ipynb",
   "parameters": {},
   "start_time": "2025-05-02T14:49:44.703962",
   "version": "2.6.0"
  }
 },
 "nbformat": 4,
 "nbformat_minor": 5
}
