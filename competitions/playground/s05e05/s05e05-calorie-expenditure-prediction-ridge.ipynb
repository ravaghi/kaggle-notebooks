{
 "cells": [
  {
   "cell_type": "code",
   "execution_count": 1,
   "id": "cfc7855c",
   "metadata": {
    "_kg_hide-output": true,
    "execution": {
     "iopub.execute_input": "2025-05-01T05:39:13.177914Z",
     "iopub.status.busy": "2025-05-01T05:39:13.177399Z",
     "iopub.status.idle": "2025-05-01T05:39:24.367677Z",
     "shell.execute_reply": "2025-05-01T05:39:24.366496Z"
    },
    "papermill": {
     "duration": 11.200296,
     "end_time": "2025-05-01T05:39:24.369530",
     "exception": false,
     "start_time": "2025-05-01T05:39:13.169234",
     "status": "completed"
    },
    "scrolled": true,
    "tags": []
   },
   "outputs": [
    {
     "name": "stdout",
     "output_type": "stream",
     "text": [
      "Requirement already satisfied: ydf in /usr/local/lib/python3.11/dist-packages (0.9.0)\r\n",
      "Collecting koolbox\r\n",
      "  Downloading koolbox-0.1.1-py3-none-any.whl.metadata (2.4 kB)\r\n",
      "Collecting scikit-learn==1.5.2\r\n",
      "  Downloading scikit_learn-1.5.2-cp311-cp311-manylinux_2_17_x86_64.manylinux2014_x86_64.whl.metadata (13 kB)\r\n",
      "Requirement already satisfied: numpy>=1.19.5 in /usr/local/lib/python3.11/dist-packages (from scikit-learn==1.5.2) (1.26.4)\r\n",
      "Requirement already satisfied: scipy>=1.6.0 in /usr/local/lib/python3.11/dist-packages (from scikit-learn==1.5.2) (1.15.2)\r\n",
      "Requirement already satisfied: joblib>=1.2.0 in /usr/local/lib/python3.11/dist-packages (from scikit-learn==1.5.2) (1.4.2)\r\n",
      "Requirement already satisfied: threadpoolctl>=3.1.0 in /usr/local/lib/python3.11/dist-packages (from scikit-learn==1.5.2) (3.6.0)\r\n",
      "Requirement already satisfied: absl_py in /usr/local/lib/python3.11/dist-packages (from ydf) (1.4.0)\r\n",
      "Requirement already satisfied: protobuf>=3.14 in /usr/local/lib/python3.11/dist-packages (from ydf) (3.20.3)\r\n",
      "Requirement already satisfied: pandas>=1.0.0 in /usr/local/lib/python3.11/dist-packages (from koolbox) (2.2.3)\r\n",
      "Requirement already satisfied: mkl_fft in /usr/local/lib/python3.11/dist-packages (from numpy>=1.19.5->scikit-learn==1.5.2) (1.3.8)\r\n",
      "Requirement already satisfied: mkl_random in /usr/local/lib/python3.11/dist-packages (from numpy>=1.19.5->scikit-learn==1.5.2) (1.2.4)\r\n",
      "Requirement already satisfied: mkl_umath in /usr/local/lib/python3.11/dist-packages (from numpy>=1.19.5->scikit-learn==1.5.2) (0.1.1)\r\n",
      "Requirement already satisfied: mkl in /usr/local/lib/python3.11/dist-packages (from numpy>=1.19.5->scikit-learn==1.5.2) (2025.1.0)\r\n",
      "Requirement already satisfied: tbb4py in /usr/local/lib/python3.11/dist-packages (from numpy>=1.19.5->scikit-learn==1.5.2) (2022.1.0)\r\n",
      "Requirement already satisfied: mkl-service in /usr/local/lib/python3.11/dist-packages (from numpy>=1.19.5->scikit-learn==1.5.2) (2.4.1)\r\n",
      "Requirement already satisfied: python-dateutil>=2.8.2 in /usr/local/lib/python3.11/dist-packages (from pandas>=1.0.0->koolbox) (2.9.0.post0)\r\n",
      "Requirement already satisfied: pytz>=2020.1 in /usr/local/lib/python3.11/dist-packages (from pandas>=1.0.0->koolbox) (2025.2)\r\n",
      "Requirement already satisfied: tzdata>=2022.7 in /usr/local/lib/python3.11/dist-packages (from pandas>=1.0.0->koolbox) (2025.2)\r\n",
      "Requirement already satisfied: six>=1.5 in /usr/local/lib/python3.11/dist-packages (from python-dateutil>=2.8.2->pandas>=1.0.0->koolbox) (1.17.0)\r\n",
      "Requirement already satisfied: intel-openmp<2026,>=2024 in /usr/local/lib/python3.11/dist-packages (from mkl->numpy>=1.19.5->scikit-learn==1.5.2) (2024.2.0)\r\n",
      "Requirement already satisfied: tbb==2022.* in /usr/local/lib/python3.11/dist-packages (from mkl->numpy>=1.19.5->scikit-learn==1.5.2) (2022.1.0)\r\n",
      "Requirement already satisfied: tcmlib==1.* in /usr/local/lib/python3.11/dist-packages (from tbb==2022.*->mkl->numpy>=1.19.5->scikit-learn==1.5.2) (1.2.0)\r\n",
      "Requirement already satisfied: intel-cmplr-lib-rt in /usr/local/lib/python3.11/dist-packages (from mkl_umath->numpy>=1.19.5->scikit-learn==1.5.2) (2024.2.0)\r\n",
      "Requirement already satisfied: intel-cmplr-lib-ur==2024.2.0 in /usr/local/lib/python3.11/dist-packages (from intel-openmp<2026,>=2024->mkl->numpy>=1.19.5->scikit-learn==1.5.2) (2024.2.0)\r\n",
      "Downloading scikit_learn-1.5.2-cp311-cp311-manylinux_2_17_x86_64.manylinux2014_x86_64.whl (13.3 MB)\r\n",
      "\u001b[2K   \u001b[90m━━━━━━━━━━━━━━━━━━━━━━━━━━━━━━━━━━━━━━━━\u001b[0m \u001b[32m13.3/13.3 MB\u001b[0m \u001b[31m41.9 MB/s\u001b[0m eta \u001b[36m0:00:00\u001b[0m\r\n",
      "\u001b[?25hDownloading koolbox-0.1.1-py3-none-any.whl (10 kB)\r\n",
      "Installing collected packages: scikit-learn, koolbox\r\n",
      "  Attempting uninstall: scikit-learn\r\n",
      "    Found existing installation: scikit-learn 1.2.2\r\n",
      "    Uninstalling scikit-learn-1.2.2:\r\n",
      "      Successfully uninstalled scikit-learn-1.2.2\r\n",
      "\u001b[31mERROR: pip's dependency resolver does not currently take into account all the packages that are installed. This behaviour is the source of the following dependency conflicts.\r\n",
      "bigframes 1.36.0 requires rich<14,>=12.4.4, but you have rich 14.0.0 which is incompatible.\u001b[0m\u001b[31m\r\n",
      "\u001b[0mSuccessfully installed koolbox-0.1.1 scikit-learn-1.5.2\r\n"
     ]
    }
   ],
   "source": [
    "!pip install ydf koolbox scikit-learn==1.5.2"
   ]
  },
  {
   "cell_type": "markdown",
   "id": "03b19bf5",
   "metadata": {
    "papermill": {
     "duration": 0.005124,
     "end_time": "2025-05-01T05:39:24.380817",
     "exception": false,
     "start_time": "2025-05-01T05:39:24.375693",
     "status": "completed"
    },
    "tags": []
   },
   "source": [
    "# Imports and configs"
   ]
  },
  {
   "cell_type": "code",
   "execution_count": 2,
   "id": "6f446b2f",
   "metadata": {
    "_kg_hide-output": true,
    "execution": {
     "iopub.execute_input": "2025-05-01T05:39:24.394637Z",
     "iopub.status.busy": "2025-05-01T05:39:24.394274Z",
     "iopub.status.idle": "2025-05-01T05:39:35.458463Z",
     "shell.execute_reply": "2025-05-01T05:39:35.457412Z"
    },
    "papermill": {
     "duration": 11.073015,
     "end_time": "2025-05-01T05:39:35.460217",
     "exception": false,
     "start_time": "2025-05-01T05:39:24.387202",
     "status": "completed"
    },
    "tags": []
   },
   "outputs": [],
   "source": [
    "from sklearn.ensemble import HistGradientBoostingRegressor\n",
    "from sklearn.base import BaseEstimator, RegressorMixin\n",
    "from sklearn.metrics import root_mean_squared_log_error\n",
    "from sklearn.linear_model import Ridge\n",
    "from sklearn.model_selection import KFold\n",
    "from lightgbm import LGBMRegressor, early_stopping, log_evaluation\n",
    "from ydf import GradientBoostedTreesLearner\n",
    "from xgboost import XGBRegressor\n",
    "from koolbox import Trainer\n",
    "import matplotlib.pyplot as plt\n",
    "import contextlib, io\n",
    "import seaborn as sns\n",
    "import pandas as pd\n",
    "import numpy as np\n",
    "import warnings\n",
    "import optuna\n",
    "import json\n",
    "import ydf\n",
    "\n",
    "ydf.verbose(2)\n",
    "warnings.filterwarnings(\"ignore\")"
   ]
  },
  {
   "cell_type": "code",
   "execution_count": 3,
   "id": "8f8ded76",
   "metadata": {
    "execution": {
     "iopub.execute_input": "2025-05-01T05:39:35.476352Z",
     "iopub.status.busy": "2025-05-01T05:39:35.474705Z",
     "iopub.status.idle": "2025-05-01T05:39:35.480706Z",
     "shell.execute_reply": "2025-05-01T05:39:35.479914Z"
    },
    "papermill": {
     "duration": 0.016273,
     "end_time": "2025-05-01T05:39:35.482365",
     "exception": false,
     "start_time": "2025-05-01T05:39:35.466092",
     "status": "completed"
    },
    "tags": []
   },
   "outputs": [],
   "source": [
    "class CFG:\n",
    "    train_path = \"/kaggle/input/playground-series-s5e5/train.csv\"\n",
    "    test_path = \"/kaggle/input/playground-series-s5e5/test.csv\"\n",
    "    sample_sub_path = \"/kaggle/input/playground-series-s5e5/sample_submission.csv\"\n",
    "\n",
    "    metric = root_mean_squared_log_error\n",
    "    target = \"Calories\"\n",
    "    n_folds = 5\n",
    "    seed = 42\n",
    "\n",
    "    run_optuna = True\n",
    "    n_optuna_trials = 250"
   ]
  },
  {
   "cell_type": "markdown",
   "id": "0b90bf42",
   "metadata": {
    "papermill": {
     "duration": 0.005798,
     "end_time": "2025-05-01T05:39:35.494116",
     "exception": false,
     "start_time": "2025-05-01T05:39:35.488318",
     "status": "completed"
    },
    "tags": []
   },
   "source": [
    "# Data loading and preprocessing"
   ]
  },
  {
   "cell_type": "code",
   "execution_count": 4,
   "id": "f84a277a",
   "metadata": {
    "execution": {
     "iopub.execute_input": "2025-05-01T05:39:35.507102Z",
     "iopub.status.busy": "2025-05-01T05:39:35.506770Z",
     "iopub.status.idle": "2025-05-01T05:39:36.823111Z",
     "shell.execute_reply": "2025-05-01T05:39:36.821901Z"
    },
    "papermill": {
     "duration": 1.325139,
     "end_time": "2025-05-01T05:39:36.824922",
     "exception": false,
     "start_time": "2025-05-01T05:39:35.499783",
     "status": "completed"
    },
    "tags": []
   },
   "outputs": [],
   "source": [
    "train = pd.read_csv(CFG.train_path, index_col=\"id\")\n",
    "test = pd.read_csv(CFG.test_path, index_col=\"id\")\n",
    "\n",
    "train[\"Sex\"] = train[\"Sex\"].map({\"male\": 0, \"female\": 1})\n",
    "test[\"Sex\"] = test[\"Sex\"].map({\"male\": 0, \"female\": 1})\n",
    "\n",
    "X = train.drop(CFG.target, axis=1)\n",
    "y = train[CFG.target]\n",
    "X_test = test"
   ]
  },
  {
   "cell_type": "markdown",
   "id": "c8e8eb9a",
   "metadata": {
    "papermill": {
     "duration": 0.005942,
     "end_time": "2025-05-01T05:39:36.836549",
     "exception": false,
     "start_time": "2025-05-01T05:39:36.830607",
     "status": "completed"
    },
    "tags": []
   },
   "source": [
    "# Training base models"
   ]
  },
  {
   "cell_type": "code",
   "execution_count": 5,
   "id": "e4a47d3b",
   "metadata": {
    "_kg_hide-input": true,
    "_kg_hide-output": true,
    "execution": {
     "iopub.execute_input": "2025-05-01T05:39:36.849723Z",
     "iopub.status.busy": "2025-05-01T05:39:36.849386Z",
     "iopub.status.idle": "2025-05-01T05:39:36.859793Z",
     "shell.execute_reply": "2025-05-01T05:39:36.858359Z"
    },
    "papermill": {
     "duration": 0.018967,
     "end_time": "2025-05-01T05:39:36.861489",
     "exception": false,
     "start_time": "2025-05-01T05:39:36.842522",
     "status": "completed"
    },
    "tags": []
   },
   "outputs": [],
   "source": [
    "histgb_params = {\n",
    "    \"l2_regularization\": 83.89023753261954,\n",
    "    \"learning_rate\": 0.014076263018504506,\n",
    "    \"max_depth\": 167,\n",
    "    \"max_features\": 0.35671906170746404,\n",
    "    \"max_iter\": 2175,\n",
    "    \"max_leaf_nodes\": 441,\n",
    "    \"min_samples_leaf\": 41,\n",
    "    \"random_state\": 42\n",
    "}\n",
    "\n",
    "lgbm_params = {\n",
    "    \"boosting_type\": \"gbdt\",\n",
    "    \"colsample_bytree\": 0.5099047573235393,\n",
    "    \"learning_rate\": 0.04655222942419148,\n",
    "    \"min_child_samples\": 39,\n",
    "    \"min_child_weight\": 0.5763597850247795,\n",
    "    \"n_estimators\": 10000,\n",
    "    \"n_jobs\": -1,\n",
    "    \"num_leaves\": 94,\n",
    "    \"random_state\": 42,\n",
    "    \"reg_alpha\": 13.37124947203867,\n",
    "    \"reg_lambda\": 3.4607082189282656,\n",
    "    \"subsample\": 0.8594971769419172,\n",
    "    \"verbose\": -1\n",
    "}\n",
    "\n",
    "lgbm_goss_params = {\n",
    "    \"boosting_type\": \"goss\",\n",
    "    \"colsample_bytree\": 0.44242724444333914,\n",
    "    \"learning_rate\": 0.02648790357768195,\n",
    "    \"min_child_samples\": 31,\n",
    "    \"min_child_weight\": 0.565923097348698,\n",
    "    \"n_estimators\": 10000,\n",
    "    \"n_jobs\": -1,\n",
    "    \"num_leaves\": 91,\n",
    "    \"random_state\": 42,\n",
    "    \"reg_alpha\": 14.802741846604295,\n",
    "    \"reg_lambda\": 3.285199583781151,\n",
    "    \"subsample\": 0.4765616561570595,\n",
    "    \"verbose\": -1\n",
    "}\n",
    "\n",
    "xgb_params = {\n",
    "    \"colsample_bylevel\": 0.562776356802306,\n",
    "    \"colsample_bynode\": 0.9612908685331664,\n",
    "    \"colsample_bytree\": 0.6576899092549643,\n",
    "    \"early_stopping_rounds\": 100,\n",
    "    \"eval_metric\": \"rmse\",\n",
    "    \"gamma\": 6.906307575453604,\n",
    "    \"learning_rate\": 0.035818175355750034,\n",
    "    \"max_depth\": 79,\n",
    "    \"max_leaves\": 94,\n",
    "    \"min_child_weight\": 54,\n",
    "    \"n_estimators\": 10000,\n",
    "    \"n_jobs\": -1,\n",
    "    \"random_state\": 42,\n",
    "    \"reg_alpha\": 40.48896149819585,\n",
    "    \"reg_lambda\": 50.48291846164928,\n",
    "    \"subsample\": 0.987369044259711,\n",
    "    \"verbosity\": 0\n",
    "}\n",
    "\n",
    "ydf_params = {\n",
    "    \"num_trees\": 1000,\n",
    "    \"max_depth\": 8\n",
    "}"
   ]
  },
  {
   "cell_type": "code",
   "execution_count": 6,
   "id": "1bd7dea8",
   "metadata": {
    "execution": {
     "iopub.execute_input": "2025-05-01T05:39:36.875785Z",
     "iopub.status.busy": "2025-05-01T05:39:36.875423Z",
     "iopub.status.idle": "2025-05-01T05:39:36.880608Z",
     "shell.execute_reply": "2025-05-01T05:39:36.879701Z"
    },
    "papermill": {
     "duration": 0.014923,
     "end_time": "2025-05-01T05:39:36.882198",
     "exception": false,
     "start_time": "2025-05-01T05:39:36.867275",
     "status": "completed"
    },
    "tags": []
   },
   "outputs": [],
   "source": [
    "scores = {}\n",
    "oof_preds = {}\n",
    "test_preds = {}"
   ]
  },
  {
   "cell_type": "markdown",
   "id": "0c01ad58",
   "metadata": {
    "papermill": {
     "duration": 0.005676,
     "end_time": "2025-05-01T05:39:36.893598",
     "exception": false,
     "start_time": "2025-05-01T05:39:36.887922",
     "status": "completed"
    },
    "tags": []
   },
   "source": [
    "## HistGradientBoosting"
   ]
  },
  {
   "cell_type": "code",
   "execution_count": 7,
   "id": "30edc97c",
   "metadata": {
    "execution": {
     "iopub.execute_input": "2025-05-01T05:39:36.907200Z",
     "iopub.status.busy": "2025-05-01T05:39:36.906430Z",
     "iopub.status.idle": "2025-05-01T05:52:05.408054Z",
     "shell.execute_reply": "2025-05-01T05:52:05.407224Z"
    },
    "papermill": {
     "duration": 748.510047,
     "end_time": "2025-05-01T05:52:05.409862",
     "exception": false,
     "start_time": "2025-05-01T05:39:36.899815",
     "status": "completed"
    },
    "tags": []
   },
   "outputs": [
    {
     "name": "stdout",
     "output_type": "stream",
     "text": [
      "Training HistGradientBoostingRegressor\n",
      "\n",
      "--- Fold 0 - root_mean_squared_log_error: 0.0610 - Time: 125.10 s\n",
      "--- Fold 1 - root_mean_squared_log_error: 0.0616 - Time: 107.74 s\n",
      "--- Fold 2 - root_mean_squared_log_error: 0.0608 - Time: 140.76 s\n",
      "--- Fold 3 - root_mean_squared_log_error: 0.0621 - Time: 112.21 s\n",
      "--- Fold 4 - root_mean_squared_log_error: 0.0608 - Time: 128.05 s\n",
      "\n",
      "------ Overall root_mean_squared_log_error: 0.0612 - Mean root_mean_squared_log_error: 0.0612 ± 0.0005 - Time: 614.80 s\n"
     ]
    }
   ],
   "source": [
    "histgb_trainer = Trainer(\n",
    "    HistGradientBoostingRegressor(**histgb_params),\n",
    "    cv=KFold(n_splits=CFG.n_folds, random_state=CFG.seed, shuffle=True),\n",
    "    metric=CFG.metric,\n",
    "    task=\"regression\"\n",
    ")\n",
    "\n",
    "histgb_trainer.fit(X, y)\n",
    "\n",
    "scores[\"HistGB\"] = histgb_trainer.fold_scores\n",
    "oof_preds[\"HistGB\"] = histgb_trainer.oof_preds\n",
    "test_preds[\"HistGB\"] = histgb_trainer.predict(X_test)"
   ]
  },
  {
   "cell_type": "markdown",
   "id": "4cde98da",
   "metadata": {
    "papermill": {
     "duration": 0.005689,
     "end_time": "2025-05-01T05:52:05.421841",
     "exception": false,
     "start_time": "2025-05-01T05:52:05.416152",
     "status": "completed"
    },
    "tags": []
   },
   "source": [
    "## LightGBM (gbdt)"
   ]
  },
  {
   "cell_type": "code",
   "execution_count": 8,
   "id": "9e5d2376",
   "metadata": {
    "execution": {
     "iopub.execute_input": "2025-05-01T05:52:05.434697Z",
     "iopub.status.busy": "2025-05-01T05:52:05.434332Z",
     "iopub.status.idle": "2025-05-01T05:56:20.042193Z",
     "shell.execute_reply": "2025-05-01T05:56:20.039735Z"
    },
    "papermill": {
     "duration": 254.616696,
     "end_time": "2025-05-01T05:56:20.044297",
     "exception": false,
     "start_time": "2025-05-01T05:52:05.427601",
     "status": "completed"
    },
    "tags": []
   },
   "outputs": [
    {
     "name": "stdout",
     "output_type": "stream",
     "text": [
      "Training LGBMRegressor\n",
      "\n",
      "Training until validation scores don't improve for 100 rounds\n",
      "[500]\tvalid_0's rmse: 3.58626\tvalid_0's l2: 12.8612\n",
      "[1000]\tvalid_0's rmse: 3.57258\tvalid_0's l2: 12.7633\n",
      "Early stopping, best iteration is:\n",
      "[1164]\tvalid_0's rmse: 3.57037\tvalid_0's l2: 12.7476\n",
      "--- Fold 0 - root_mean_squared_log_error: 0.0618 - Time: 35.39 s\n",
      "\n",
      "Training until validation scores don't improve for 100 rounds\n",
      "[500]\tvalid_0's rmse: 3.64538\tvalid_0's l2: 13.2888\n",
      "[1000]\tvalid_0's rmse: 3.62694\tvalid_0's l2: 13.1547\n",
      "[1500]\tvalid_0's rmse: 3.62361\tvalid_0's l2: 13.1306\n",
      "Early stopping, best iteration is:\n",
      "[1425]\tvalid_0's rmse: 3.62325\tvalid_0's l2: 13.1279\n",
      "--- Fold 1 - root_mean_squared_log_error: 0.0622 - Time: 40.55 s\n",
      "\n",
      "Training until validation scores don't improve for 100 rounds\n",
      "[500]\tvalid_0's rmse: 3.58853\tvalid_0's l2: 12.8776\n",
      "[1000]\tvalid_0's rmse: 3.57473\tvalid_0's l2: 12.7787\n",
      "Early stopping, best iteration is:\n",
      "[1128]\tvalid_0's rmse: 3.5741\tvalid_0's l2: 12.7742\n",
      "--- Fold 2 - root_mean_squared_log_error: 0.0615 - Time: 34.75 s\n",
      "\n",
      "Training until validation scores don't improve for 100 rounds\n",
      "[500]\tvalid_0's rmse: 3.54524\tvalid_0's l2: 12.5687\n",
      "[1000]\tvalid_0's rmse: 3.52687\tvalid_0's l2: 12.4388\n",
      "Early stopping, best iteration is:\n",
      "[1271]\tvalid_0's rmse: 3.52411\tvalid_0's l2: 12.4193\n",
      "--- Fold 3 - root_mean_squared_log_error: 0.0627 - Time: 37.70 s\n",
      "\n",
      "Training until validation scores don't improve for 100 rounds\n",
      "[500]\tvalid_0's rmse: 3.58199\tvalid_0's l2: 12.8307\n",
      "[1000]\tvalid_0's rmse: 3.57508\tvalid_0's l2: 12.7812\n",
      "Early stopping, best iteration is:\n",
      "[1125]\tvalid_0's rmse: 3.57457\tvalid_0's l2: 12.7775\n",
      "--- Fold 4 - root_mean_squared_log_error: 0.0620 - Time: 34.00 s\n",
      "\n",
      "\n",
      "------ Overall root_mean_squared_log_error: 0.0620 - Mean root_mean_squared_log_error: 0.0620 ± 0.0004 - Time: 183.31 s\n"
     ]
    }
   ],
   "source": [
    "lgbm_trainer = Trainer(\n",
    "    LGBMRegressor(**lgbm_params),\n",
    "    cv=KFold(n_splits=CFG.n_folds, random_state=CFG.seed, shuffle=True),\n",
    "    metric=CFG.metric,\n",
    "    use_early_stopping=True,\n",
    "    task=\"regression\"\n",
    ")\n",
    "\n",
    "fit_args = {\n",
    "    \"eval_metric\": \"rmse\",\n",
    "    \"callbacks\": [\n",
    "        log_evaluation(period=500), \n",
    "        early_stopping(stopping_rounds=100)\n",
    "    ]\n",
    "}\n",
    "\n",
    "lgbm_trainer.fit(X, y, fit_args)\n",
    "\n",
    "scores[\"LightGBM (gbdt)\"] = lgbm_trainer.fold_scores\n",
    "oof_preds[\"LightGBM (gbdt)\"] = lgbm_trainer.oof_preds\n",
    "test_preds[\"LightGBM (gbdt)\"] = lgbm_trainer.predict(X_test)"
   ]
  },
  {
   "cell_type": "markdown",
   "id": "7b1dae3b",
   "metadata": {
    "papermill": {
     "duration": 0.00917,
     "end_time": "2025-05-01T05:56:20.061957",
     "exception": false,
     "start_time": "2025-05-01T05:56:20.052787",
     "status": "completed"
    },
    "tags": []
   },
   "source": [
    "## LightGBM (goss)"
   ]
  },
  {
   "cell_type": "code",
   "execution_count": 9,
   "id": "670a5b51",
   "metadata": {
    "execution": {
     "iopub.execute_input": "2025-05-01T05:56:20.083218Z",
     "iopub.status.busy": "2025-05-01T05:56:20.082814Z",
     "iopub.status.idle": "2025-05-01T06:15:06.571956Z",
     "shell.execute_reply": "2025-05-01T06:15:06.571169Z"
    },
    "papermill": {
     "duration": 1126.504015,
     "end_time": "2025-05-01T06:15:06.574135",
     "exception": false,
     "start_time": "2025-05-01T05:56:20.070120",
     "status": "completed"
    },
    "tags": []
   },
   "outputs": [
    {
     "name": "stdout",
     "output_type": "stream",
     "text": [
      "Training LGBMRegressor\n",
      "\n",
      "Training until validation scores don't improve for 100 rounds\n",
      "[500]\tvalid_0's rmse: 3.88379\tvalid_0's l2: 15.0838\n",
      "[1000]\tvalid_0's rmse: 3.65662\tvalid_0's l2: 13.3709\n",
      "[1500]\tvalid_0's rmse: 3.6177\tvalid_0's l2: 13.0878\n",
      "[2000]\tvalid_0's rmse: 3.60195\tvalid_0's l2: 12.9741\n",
      "[2500]\tvalid_0's rmse: 3.59361\tvalid_0's l2: 12.914\n",
      "[3000]\tvalid_0's rmse: 3.58981\tvalid_0's l2: 12.8867\n",
      "[3500]\tvalid_0's rmse: 3.58735\tvalid_0's l2: 12.8691\n",
      "Early stopping, best iteration is:\n",
      "[3546]\tvalid_0's rmse: 3.58712\tvalid_0's l2: 12.8675\n",
      "--- Fold 0 - root_mean_squared_log_error: 0.0653 - Time: 188.28 s\n",
      "\n",
      "Training until validation scores don't improve for 100 rounds\n",
      "[500]\tvalid_0's rmse: 3.96722\tvalid_0's l2: 15.7388\n",
      "[1000]\tvalid_0's rmse: 3.71884\tvalid_0's l2: 13.8298\n",
      "[1500]\tvalid_0's rmse: 3.6756\tvalid_0's l2: 13.5101\n",
      "[2000]\tvalid_0's rmse: 3.65979\tvalid_0's l2: 13.3941\n",
      "[2500]\tvalid_0's rmse: 3.65127\tvalid_0's l2: 13.3317\n",
      "[3000]\tvalid_0's rmse: 3.64734\tvalid_0's l2: 13.3031\n",
      "Early stopping, best iteration is:\n",
      "[2922]\tvalid_0's rmse: 3.6472\tvalid_0's l2: 13.3021\n",
      "--- Fold 1 - root_mean_squared_log_error: 0.0663 - Time: 152.08 s\n",
      "\n",
      "Training until validation scores don't improve for 100 rounds\n",
      "[500]\tvalid_0's rmse: 3.91048\tvalid_0's l2: 15.2919\n",
      "[1000]\tvalid_0's rmse: 3.66289\tvalid_0's l2: 13.4168\n",
      "[1500]\tvalid_0's rmse: 3.62167\tvalid_0's l2: 13.1165\n",
      "[2000]\tvalid_0's rmse: 3.6064\tvalid_0's l2: 13.0061\n",
      "[2500]\tvalid_0's rmse: 3.59821\tvalid_0's l2: 12.9471\n",
      "[3000]\tvalid_0's rmse: 3.59482\tvalid_0's l2: 12.9227\n",
      "Early stopping, best iteration is:\n",
      "[2953]\tvalid_0's rmse: 3.59474\tvalid_0's l2: 12.9222\n",
      "--- Fold 2 - root_mean_squared_log_error: 0.0661 - Time: 152.30 s\n",
      "\n",
      "Training until validation scores don't improve for 100 rounds\n",
      "[500]\tvalid_0's rmse: 3.86311\tvalid_0's l2: 14.9236\n",
      "[1000]\tvalid_0's rmse: 3.62224\tvalid_0's l2: 13.1206\n",
      "[1500]\tvalid_0's rmse: 3.58362\tvalid_0's l2: 12.8423\n",
      "[2000]\tvalid_0's rmse: 3.56793\tvalid_0's l2: 12.7301\n",
      "[2500]\tvalid_0's rmse: 3.55797\tvalid_0's l2: 12.6592\n",
      "[3000]\tvalid_0's rmse: 3.55302\tvalid_0's l2: 12.6239\n",
      "[3500]\tvalid_0's rmse: 3.55029\tvalid_0's l2: 12.6045\n",
      "[4000]\tvalid_0's rmse: 3.54761\tvalid_0's l2: 12.5855\n",
      "Early stopping, best iteration is:\n",
      "[4116]\tvalid_0's rmse: 3.54713\tvalid_0's l2: 12.5821\n",
      "--- Fold 3 - root_mean_squared_log_error: 0.0654 - Time: 228.59 s\n",
      "\n",
      "Training until validation scores don't improve for 100 rounds\n",
      "[500]\tvalid_0's rmse: 3.89193\tvalid_0's l2: 15.1471\n",
      "[1000]\tvalid_0's rmse: 3.65774\tvalid_0's l2: 13.379\n",
      "[1500]\tvalid_0's rmse: 3.6225\tvalid_0's l2: 13.1225\n",
      "[2000]\tvalid_0's rmse: 3.61091\tvalid_0's l2: 13.0386\n",
      "[2500]\tvalid_0's rmse: 3.60508\tvalid_0's l2: 12.9966\n",
      "Early stopping, best iteration is:\n",
      "[2792]\tvalid_0's rmse: 3.60231\tvalid_0's l2: 12.9766\n",
      "--- Fold 4 - root_mean_squared_log_error: 0.0667 - Time: 141.42 s\n",
      "\n",
      "\n",
      "------ Overall root_mean_squared_log_error: 0.0660 - Mean root_mean_squared_log_error: 0.0660 ± 0.0005 - Time: 863.61 s\n"
     ]
    }
   ],
   "source": [
    "lgbm_goss_trainer = Trainer(\n",
    "    LGBMRegressor(**lgbm_goss_params),\n",
    "    cv=KFold(n_splits=CFG.n_folds, random_state=CFG.seed, shuffle=True),\n",
    "    metric=CFG.metric,\n",
    "    use_early_stopping=True,\n",
    "    task=\"regression\"\n",
    ")\n",
    "\n",
    "fit_args = {\n",
    "    \"eval_metric\": \"rmse\",\n",
    "    \"callbacks\": [\n",
    "        log_evaluation(period=500), \n",
    "        early_stopping(stopping_rounds=100)\n",
    "    ]\n",
    "}\n",
    "\n",
    "lgbm_goss_trainer.fit(X, y, fit_args)\n",
    "\n",
    "scores[\"LightGBM (goss)\"] = lgbm_goss_trainer.fold_scores\n",
    "oof_preds[\"LightGBM (goss)\"] = lgbm_goss_trainer.oof_preds\n",
    "test_preds[\"LightGBM (goss)\"] = lgbm_goss_trainer.predict(X_test)"
   ]
  },
  {
   "cell_type": "markdown",
   "id": "bb731911",
   "metadata": {
    "papermill": {
     "duration": 0.009192,
     "end_time": "2025-05-01T06:15:06.594787",
     "exception": false,
     "start_time": "2025-05-01T06:15:06.585595",
     "status": "completed"
    },
    "tags": []
   },
   "source": [
    "## XGBoost"
   ]
  },
  {
   "cell_type": "code",
   "execution_count": 10,
   "id": "79da473b",
   "metadata": {
    "execution": {
     "iopub.execute_input": "2025-05-01T06:15:06.615995Z",
     "iopub.status.busy": "2025-05-01T06:15:06.615635Z",
     "iopub.status.idle": "2025-05-01T06:29:11.138448Z",
     "shell.execute_reply": "2025-05-01T06:29:11.137633Z"
    },
    "papermill": {
     "duration": 844.53538,
     "end_time": "2025-05-01T06:29:11.140369",
     "exception": false,
     "start_time": "2025-05-01T06:15:06.604989",
     "status": "completed"
    },
    "tags": []
   },
   "outputs": [
    {
     "name": "stdout",
     "output_type": "stream",
     "text": [
      "Training XGBRegressor\n",
      "\n",
      "[0]\tvalidation_0-rmse:60.21653\n",
      "[500]\tvalidation_0-rmse:4.01644\n",
      "[1000]\tvalidation_0-rmse:3.71865\n",
      "[1500]\tvalidation_0-rmse:3.65990\n",
      "[2000]\tvalidation_0-rmse:3.64129\n",
      "[2500]\tvalidation_0-rmse:3.63325\n",
      "[3000]\tvalidation_0-rmse:3.62950\n",
      "[3500]\tvalidation_0-rmse:3.62516\n",
      "[4000]\tvalidation_0-rmse:3.62282\n",
      "[4500]\tvalidation_0-rmse:3.62130\n",
      "[4534]\tvalidation_0-rmse:3.62128\n",
      "--- Fold 0 - root_mean_squared_log_error: 0.0645 - Time: 147.76 s\n",
      "\n",
      "[0]\tvalidation_0-rmse:60.39554\n",
      "[500]\tvalidation_0-rmse:4.04390\n",
      "[1000]\tvalidation_0-rmse:3.78810\n",
      "[1500]\tvalidation_0-rmse:3.73211\n",
      "[2000]\tvalidation_0-rmse:3.71423\n",
      "[2500]\tvalidation_0-rmse:3.70553\n",
      "[3000]\tvalidation_0-rmse:3.70084\n",
      "[3500]\tvalidation_0-rmse:3.69861\n",
      "[4000]\tvalidation_0-rmse:3.69664\n",
      "[4500]\tvalidation_0-rmse:3.69549\n",
      "[5000]\tvalidation_0-rmse:3.69510\n",
      "[5500]\tvalidation_0-rmse:3.69449\n",
      "[5912]\tvalidation_0-rmse:3.69439\n",
      "--- Fold 1 - root_mean_squared_log_error: 0.0661 - Time: 174.09 s\n",
      "\n",
      "[0]\tvalidation_0-rmse:60.48680\n",
      "[500]\tvalidation_0-rmse:4.11820\n",
      "[1000]\tvalidation_0-rmse:3.77334\n",
      "[1500]\tvalidation_0-rmse:3.69621\n",
      "[2000]\tvalidation_0-rmse:3.67278\n",
      "[2500]\tvalidation_0-rmse:3.66137\n",
      "[3000]\tvalidation_0-rmse:3.65452\n",
      "[3500]\tvalidation_0-rmse:3.65019\n",
      "[4000]\tvalidation_0-rmse:3.64810\n",
      "[4411]\tvalidation_0-rmse:3.64746\n",
      "--- Fold 2 - root_mean_squared_log_error: 0.0663 - Time: 140.26 s\n",
      "\n",
      "[0]\tvalidation_0-rmse:60.42102\n",
      "[500]\tvalidation_0-rmse:4.02891\n",
      "[1000]\tvalidation_0-rmse:3.71576\n",
      "[1500]\tvalidation_0-rmse:3.64820\n",
      "[2000]\tvalidation_0-rmse:3.62725\n",
      "[2500]\tvalidation_0-rmse:3.62043\n",
      "[3000]\tvalidation_0-rmse:3.61464\n",
      "[3500]\tvalidation_0-rmse:3.61066\n",
      "[4000]\tvalidation_0-rmse:3.60893\n",
      "[4500]\tvalidation_0-rmse:3.60835\n",
      "[5000]\tvalidation_0-rmse:3.60776\n",
      "[5500]\tvalidation_0-rmse:3.60708\n",
      "[6000]\tvalidation_0-rmse:3.60615\n",
      "[6412]\tvalidation_0-rmse:3.60561\n",
      "--- Fold 3 - root_mean_squared_log_error: 0.0665 - Time: 184.77 s\n",
      "\n",
      "[0]\tvalidation_0-rmse:60.26765\n",
      "[500]\tvalidation_0-rmse:4.09357\n",
      "[1000]\tvalidation_0-rmse:3.76176\n",
      "[1500]\tvalidation_0-rmse:3.69337\n",
      "[2000]\tvalidation_0-rmse:3.67093\n",
      "[2500]\tvalidation_0-rmse:3.65796\n",
      "[3000]\tvalidation_0-rmse:3.65313\n",
      "[3500]\tvalidation_0-rmse:3.64929\n",
      "[4000]\tvalidation_0-rmse:3.64662\n",
      "[4500]\tvalidation_0-rmse:3.64555\n",
      "[4874]\tvalidation_0-rmse:3.64511\n",
      "--- Fold 4 - root_mean_squared_log_error: 0.0666 - Time: 150.70 s\n",
      "\n",
      "\n",
      "------ Overall root_mean_squared_log_error: 0.0660 - Mean root_mean_squared_log_error: 0.0660 ± 0.0008 - Time: 798.51 s\n"
     ]
    }
   ],
   "source": [
    "xgb_trainer = Trainer(\n",
    "    XGBRegressor(**xgb_params),\n",
    "    cv=KFold(n_splits=CFG.n_folds, random_state=CFG.seed, shuffle=True),\n",
    "    metric=CFG.metric,\n",
    "    use_early_stopping=True,\n",
    "    task=\"regression\"\n",
    ")\n",
    "\n",
    "fit_args = {\n",
    "    \"verbose\": 500\n",
    "}\n",
    "\n",
    "xgb_trainer.fit(X, y, fit_args)\n",
    "\n",
    "scores[\"XGBoost\"] = xgb_trainer.fold_scores\n",
    "oof_preds[\"XGBoost\"] = xgb_trainer.oof_preds\n",
    "test_preds[\"XGBoost\"] = xgb_trainer.predict(X_test)"
   ]
  },
  {
   "cell_type": "markdown",
   "id": "cabf329f",
   "metadata": {
    "papermill": {
     "duration": 0.012459,
     "end_time": "2025-05-01T06:29:11.167359",
     "exception": false,
     "start_time": "2025-05-01T06:29:11.154900",
     "status": "completed"
    },
    "tags": []
   },
   "source": [
    "## Yggdrasil"
   ]
  },
  {
   "cell_type": "code",
   "execution_count": 11,
   "id": "d465d7eb",
   "metadata": {
    "execution": {
     "iopub.execute_input": "2025-05-01T06:29:11.195736Z",
     "iopub.status.busy": "2025-05-01T06:29:11.195351Z",
     "iopub.status.idle": "2025-05-01T06:29:11.204231Z",
     "shell.execute_reply": "2025-05-01T06:29:11.202985Z"
    },
    "papermill": {
     "duration": 0.025563,
     "end_time": "2025-05-01T06:29:11.206093",
     "exception": false,
     "start_time": "2025-05-01T06:29:11.180530",
     "status": "completed"
    },
    "tags": []
   },
   "outputs": [],
   "source": [
    "def YDFRegressor(learner_class):\n",
    "\n",
    "    class YDFXRegressor(BaseEstimator, RegressorMixin):\n",
    "\n",
    "        def __init__(self, params={}):\n",
    "            self.params = params\n",
    "\n",
    "        def fit(self, X, y):\n",
    "            assert isinstance(X, pd.DataFrame)\n",
    "            assert isinstance(y, pd.Series)\n",
    "            target = y.name\n",
    "            params = self.params.copy()\n",
    "            params['label'] = target\n",
    "            params['task'] = ydf.Task.REGRESSION\n",
    "            X = pd.concat([X, y], axis=1)\n",
    "            with contextlib.redirect_stderr(io.StringIO()), contextlib.redirect_stdout(io.StringIO()):\n",
    "                self.model = learner_class(**params).train(X)\n",
    "            return self\n",
    "\n",
    "        def predict(self, X):\n",
    "            assert isinstance(X, pd.DataFrame)\n",
    "            with contextlib.redirect_stderr(io.StringIO()), contextlib.redirect_stdout(io.StringIO()):\n",
    "                return self.model.predict(X)\n",
    "\n",
    "    return YDFXRegressor"
   ]
  },
  {
   "cell_type": "code",
   "execution_count": 12,
   "id": "cf818ff6",
   "metadata": {
    "execution": {
     "iopub.execute_input": "2025-05-01T06:29:11.235175Z",
     "iopub.status.busy": "2025-05-01T06:29:11.233831Z",
     "iopub.status.idle": "2025-05-01T06:40:36.548643Z",
     "shell.execute_reply": "2025-05-01T06:40:36.547639Z"
    },
    "papermill": {
     "duration": 685.331481,
     "end_time": "2025-05-01T06:40:36.550428",
     "exception": false,
     "start_time": "2025-05-01T06:29:11.218947",
     "status": "completed"
    },
    "tags": []
   },
   "outputs": [
    {
     "name": "stdout",
     "output_type": "stream",
     "text": [
      "Training YDFXRegressor\n",
      "\n",
      "--- Fold 0 - root_mean_squared_log_error: 0.0621 - Time: 113.65 s\n",
      "--- Fold 1 - root_mean_squared_log_error: 0.0619 - Time: 162.44 s\n",
      "--- Fold 2 - root_mean_squared_log_error: 0.0621 - Time: 86.33 s\n",
      "--- Fold 3 - root_mean_squared_log_error: 0.0637 - Time: 206.78 s\n",
      "--- Fold 4 - root_mean_squared_log_error: 0.0626 - Time: 107.62 s\n",
      "\n",
      "------ Overall root_mean_squared_log_error: 0.0625 - Mean root_mean_squared_log_error: 0.0625 ± 0.0006 - Time: 677.81 s\n"
     ]
    }
   ],
   "source": [
    "ydf_trainer = Trainer(\n",
    "    YDFRegressor(GradientBoostedTreesLearner)(ydf_params),\n",
    "    cv=KFold(n_splits=CFG.n_folds, random_state=CFG.seed, shuffle=True),\n",
    "    metric=CFG.metric,\n",
    "    task=\"regression\"\n",
    ")\n",
    "\n",
    "ydf_trainer.fit(X, y)\n",
    "\n",
    "scores[\"Yggdrasil\"] = ydf_trainer.fold_scores\n",
    "oof_preds[\"Yggdrasil\"] = ydf_trainer.oof_preds\n",
    "test_preds[\"Yggdrasil\"] = ydf_trainer.predict(X_test)"
   ]
  },
  {
   "cell_type": "markdown",
   "id": "81e8f859",
   "metadata": {
    "papermill": {
     "duration": 0.013408,
     "end_time": "2025-05-01T06:40:36.577305",
     "exception": false,
     "start_time": "2025-05-01T06:40:36.563897",
     "status": "completed"
    },
    "tags": []
   },
   "source": [
    "# Ensembling with Ridge"
   ]
  },
  {
   "cell_type": "code",
   "execution_count": 13,
   "id": "ed189fd8",
   "metadata": {
    "_kg_hide-input": true,
    "execution": {
     "iopub.execute_input": "2025-05-01T06:40:36.606449Z",
     "iopub.status.busy": "2025-05-01T06:40:36.606128Z",
     "iopub.status.idle": "2025-05-01T06:40:36.615503Z",
     "shell.execute_reply": "2025-05-01T06:40:36.614117Z"
    },
    "papermill": {
     "duration": 0.02639,
     "end_time": "2025-05-01T06:40:36.617180",
     "exception": false,
     "start_time": "2025-05-01T06:40:36.590790",
     "status": "completed"
    },
    "tags": []
   },
   "outputs": [],
   "source": [
    "def plot_weights(weights, title):\n",
    "    sorted_indices = np.argsort(weights[0])[::-1]\n",
    "    sorted_coeffs = np.array(weights[0])[sorted_indices]\n",
    "    sorted_model_names = np.array(list(oof_preds.keys()))[sorted_indices]\n",
    "\n",
    "    plt.figure(figsize=(10, weights.shape[1] * 0.5))\n",
    "    ax = sns.barplot(x=sorted_coeffs, y=sorted_model_names, palette=\"RdYlGn_r\")\n",
    "\n",
    "    for i, (value, name) in enumerate(zip(sorted_coeffs, sorted_model_names)):\n",
    "        if value >= 0:\n",
    "            ax.text(value, i, f\"{value:.3f}\", va=\"center\", ha=\"left\", color=\"black\")\n",
    "        else:\n",
    "            ax.text(value, i, f\"{value:.3f}\", va=\"center\", ha=\"right\", color=\"black\")\n",
    "\n",
    "    xlim = ax.get_xlim()\n",
    "    ax.set_xlim(xlim[0] - 0.1 * abs(xlim[0]), xlim[1] + 0.1 * abs(xlim[1]))\n",
    "\n",
    "    plt.title(title)\n",
    "    plt.xlabel(\"\")\n",
    "    plt.ylabel(\"\")\n",
    "    plt.tight_layout()\n",
    "    plt.show()"
   ]
  },
  {
   "cell_type": "code",
   "execution_count": 14,
   "id": "bdf27fb0",
   "metadata": {
    "execution": {
     "iopub.execute_input": "2025-05-01T06:40:36.645279Z",
     "iopub.status.busy": "2025-05-01T06:40:36.644962Z",
     "iopub.status.idle": "2025-05-01T06:40:36.662840Z",
     "shell.execute_reply": "2025-05-01T06:40:36.661418Z"
    },
    "papermill": {
     "duration": 0.034188,
     "end_time": "2025-05-01T06:40:36.664468",
     "exception": false,
     "start_time": "2025-05-01T06:40:36.630280",
     "status": "completed"
    },
    "tags": []
   },
   "outputs": [],
   "source": [
    "X = pd.DataFrame(oof_preds)\n",
    "X_test = pd.DataFrame(test_preds)"
   ]
  },
  {
   "cell_type": "code",
   "execution_count": 15,
   "id": "b43dc3ca",
   "metadata": {
    "_kg_hide-output": true,
    "execution": {
     "iopub.execute_input": "2025-05-01T06:40:36.694583Z",
     "iopub.status.busy": "2025-05-01T06:40:36.694246Z",
     "iopub.status.idle": "2025-05-01T06:45:19.187204Z",
     "shell.execute_reply": "2025-05-01T06:45:19.186155Z"
    },
    "papermill": {
     "duration": 282.50988,
     "end_time": "2025-05-01T06:45:19.188718",
     "exception": false,
     "start_time": "2025-05-01T06:40:36.678838",
     "status": "completed"
    },
    "scrolled": true,
    "tags": []
   },
   "outputs": [
    {
     "name": "stderr",
     "output_type": "stream",
     "text": [
      "[I 2025-05-01 06:40:36,699] A new study created in memory with name: no-name-871d6575-6a3b-400f-a6c0-4c7d6235db0b\n",
      "[I 2025-05-01 06:40:41,307] Trial 3 finished with value: 0.060828270912063775 and parameters: {'alpha': 0.6833335551220318, 'tol': 0.002383907014867397}. Best is trial 3 with value: 0.060828270912063775.\n",
      "[I 2025-05-01 06:40:41,391] Trial 2 finished with value: 0.060828270769930824 and parameters: {'alpha': 0.5683552034140139, 'tol': 0.006716433891988368}. Best is trial 2 with value: 0.060828270769930824.\n",
      "[I 2025-05-01 06:40:41,854] Trial 0 finished with value: 0.0608282706144256 and parameters: {'alpha': 0.44255919984518544, 'tol': 0.001257458363092353}. Best is trial 0 with value: 0.0608282706144256.\n",
      "[I 2025-05-01 06:40:41,901] Trial 1 finished with value: 0.06082827051833635 and parameters: {'alpha': 0.36482705482250344, 'tol': 0.0066218503580291535}. Best is trial 1 with value: 0.06082827051833635.\n",
      "[I 2025-05-01 06:40:45,893] Trial 4 finished with value: 0.060828270741012214 and parameters: {'alpha': 0.5449607648808584, 'tol': 0.009589047237021885}. Best is trial 1 with value: 0.06082827051833635.\n",
      "[I 2025-05-01 06:40:46,209] Trial 5 finished with value: 0.06082827123515103 and parameters: {'alpha': 0.9446951811044125, 'tol': 0.008319415289492855}. Best is trial 1 with value: 0.06082827051833635.\n",
      "[I 2025-05-01 06:40:46,647] Trial 6 finished with value: 0.06082827128058252 and parameters: {'alpha': 0.9814462286472969, 'tol': 0.005938465460051377}. Best is trial 1 with value: 0.06082827051833635.\n",
      "[I 2025-05-01 06:40:46,705] Trial 7 finished with value: 0.060828271001576895 and parameters: {'alpha': 0.7557444531089914, 'tol': 0.009685428689096614}. Best is trial 1 with value: 0.06082827051833635.\n",
      "[I 2025-05-01 06:40:50,313] Trial 8 finished with value: 0.06082827023445874 and parameters: {'alpha': 0.13518483068106324, 'tol': 0.005896465149652091}. Best is trial 8 with value: 0.06082827023445874.\n",
      "[I 2025-05-01 06:40:50,575] Trial 9 finished with value: 0.060828270399544394 and parameters: {'alpha': 0.26873050168492274, 'tol': 0.00671612139632067}. Best is trial 8 with value: 0.06082827023445874.\n",
      "[I 2025-05-01 06:40:50,883] Trial 11 finished with value: 0.0608282705674139 and parameters: {'alpha': 0.4045283047987398, 'tol': 0.005804981413964801}. Best is trial 8 with value: 0.06082827023445874.\n",
      "[I 2025-05-01 06:40:51,280] Trial 10 finished with value: 0.06082827043702024 and parameters: {'alpha': 0.29904627973452846, 'tol': 0.004213681784660236}. Best is trial 8 with value: 0.06082827023445874.\n",
      "[I 2025-05-01 06:40:54,384] Trial 12 finished with value: 0.060828270588813155 and parameters: {'alpha': 0.4218394325667201, 'tol': 0.007250814492211179}. Best is trial 8 with value: 0.06082827023445874.\n",
      "[I 2025-05-01 06:40:54,991] Trial 13 finished with value: 0.06082827014925954 and parameters: {'alpha': 0.06626317390459477, 'tol': 0.003976707385256429}. Best is trial 13 with value: 0.06082827014925954.\n",
      "[I 2025-05-01 06:40:55,654] Trial 14 finished with value: 0.06082827010690089 and parameters: {'alpha': 0.0319968479029612, 'tol': 0.007082409471390824}. Best is trial 14 with value: 0.06082827010690089.\n",
      "[I 2025-05-01 06:40:55,672] Trial 15 finished with value: 0.06082827008697339 and parameters: {'alpha': 0.015876476538330353, 'tol': 0.008471879001241477}. Best is trial 15 with value: 0.06082827008697339.\n",
      "[I 2025-05-01 06:40:58,720] Trial 16 finished with value: 0.06082827011091401 and parameters: {'alpha': 0.03524244447452274, 'tol': 0.006338516369817757}. Best is trial 15 with value: 0.06082827008697339.\n",
      "[I 2025-05-01 06:40:59,407] Trial 17 finished with value: 0.06082827015143401 and parameters: {'alpha': 0.06802174322959373, 'tol': 0.0014851343926053986}. Best is trial 15 with value: 0.06082827008697339.\n",
      "[I 2025-05-01 06:41:00,066] Trial 18 finished with value: 0.060828270165158 and parameters: {'alpha': 0.07912401229550758, 'tol': 0.0029957462199301996}. Best is trial 15 with value: 0.06082827008697339.\n",
      "[I 2025-05-01 06:41:00,067] Trial 19 finished with value: 0.060828270108131334 and parameters: {'alpha': 0.03299185215251346, 'tol': 0.009399893744119318}. Best is trial 15 with value: 0.06082827008697339.\n",
      "[I 2025-05-01 06:41:03,187] Trial 20 finished with value: 0.060828270208475275 and parameters: {'alpha': 0.11416506551468769, 'tol': 0.008429880194928996}. Best is trial 15 with value: 0.06082827008697339.\n",
      "[I 2025-05-01 06:41:04,082] Trial 21 finished with value: 0.06082827026559258 and parameters: {'alpha': 0.16037038748289012, 'tol': 0.009427221697646065}. Best is trial 15 with value: 0.06082827008697339.\n",
      "[I 2025-05-01 06:41:04,374] Trial 22 finished with value: 0.06082827037598344 and parameters: {'alpha': 0.2496710471154222, 'tol': 0.009332476512991138}. Best is trial 15 with value: 0.06082827008697339.\n",
      "[I 2025-05-01 06:41:04,832] Trial 23 finished with value: 0.06082827030072915 and parameters: {'alpha': 0.18879431913706846, 'tol': 0.00846087907922294}. Best is trial 15 with value: 0.06082827008697339.\n",
      "[I 2025-05-01 06:41:07,730] Trial 24 finished with value: 0.06082827014504643 and parameters: {'alpha': 0.06285478653795429, 'tol': 0.00945203273701608}. Best is trial 15 with value: 0.06082827008697339.\n",
      "[I 2025-05-01 06:41:08,460] Trial 25 finished with value: 0.06082827007155517 and parameters: {'alpha': 0.0034038351433329644, 'tol': 0.009080190066710698}. Best is trial 25 with value: 0.06082827007155517.\n",
      "[I 2025-05-01 06:41:08,913] Trial 26 finished with value: 0.060828270090726014 and parameters: {'alpha': 0.018912276085827635, 'tol': 0.00934609769492772}. Best is trial 25 with value: 0.06082827007155517.\n",
      "[I 2025-05-01 06:41:09,209] Trial 27 finished with value: 0.060828270107081854 and parameters: {'alpha': 0.03214320384245185, 'tol': 0.009669746498657731}. Best is trial 25 with value: 0.06082827007155517.\n",
      "[I 2025-05-01 06:41:12,506] Trial 28 finished with value: 0.06082827122072499 and parameters: {'alpha': 0.9330253498273943, 'tol': 0.00015641172288146082}. Best is trial 25 with value: 0.06082827007155517.\n",
      "[I 2025-05-01 06:41:13,457] Trial 29 finished with value: 0.06082827012286723 and parameters: {'alpha': 0.04491251280347884, 'tol': 0.007633643214816266}. Best is trial 25 with value: 0.06082827007155517.\n",
      "[I 2025-05-01 06:41:13,830] Trial 30 finished with value: 0.06082827009413723 and parameters: {'alpha': 0.021671415658487233, 'tol': 0.009620160481101345}. Best is trial 25 with value: 0.06082827007155517.\n",
      "[I 2025-05-01 06:41:14,318] Trial 31 finished with value: 0.06082827128444708 and parameters: {'alpha': 0.9845731712630086, 'tol': 0.0015805558593382138}. Best is trial 25 with value: 0.06082827007155517.\n",
      "[I 2025-05-01 06:41:17,564] Trial 32 finished with value: 0.06082827007724143 and parameters: {'alpha': 0.008003409140516431, 'tol': 0.007425639547402498}. Best is trial 25 with value: 0.06082827007155517.\n",
      "[I 2025-05-01 06:41:18,485] Trial 33 finished with value: 0.06082827008329735 and parameters: {'alpha': 0.012902728655295263, 'tol': 0.00884992074684548}. Best is trial 25 with value: 0.06082827007155517.\n",
      "[I 2025-05-01 06:41:18,984] Trial 35 finished with value: 0.06082827007009588 and parameters: {'alpha': 0.0022225362100424017, 'tol': 0.009837291839927572}. Best is trial 35 with value: 0.06082827007009588.\n",
      "[I 2025-05-01 06:41:18,986] Trial 34 finished with value: 0.060828270095602946 and parameters: {'alpha': 0.022856934136245934, 'tol': 0.009747514323005618}. Best is trial 35 with value: 0.06082827007009588.\n",
      "[I 2025-05-01 06:41:22,071] Trial 36 finished with value: 0.060828270074278094 and parameters: {'alpha': 0.005606594512803279, 'tol': 0.008051245468625354}. Best is trial 35 with value: 0.06082827007009588.\n",
      "[I 2025-05-01 06:41:22,813] Trial 37 finished with value: 0.06082827009519854 and parameters: {'alpha': 0.02253037532122926, 'tol': 0.007696540026442544}. Best is trial 35 with value: 0.06082827007009588.\n",
      "[I 2025-05-01 06:41:23,463] Trial 39 finished with value: 0.06082827009003809 and parameters: {'alpha': 0.018356099900110296, 'tol': 0.007128306857452555}. Best is trial 35 with value: 0.06082827007009588.\n",
      "[I 2025-05-01 06:41:23,469] Trial 38 finished with value: 0.06082827016821068 and parameters: {'alpha': 0.08159322850500866, 'tol': 0.007420032448032533}. Best is trial 35 with value: 0.06082827007009588.\n",
      "[I 2025-05-01 06:41:26,614] Trial 40 finished with value: 0.060828270130498636 and parameters: {'alpha': 0.05108665385225053, 'tol': 0.0063746154014827135}. Best is trial 35 with value: 0.06082827007009588.\n",
      "[I 2025-05-01 06:41:27,291] Trial 41 finished with value: 0.06082827011045246 and parameters: {'alpha': 0.034869839511834116, 'tol': 0.006504286486500843}. Best is trial 35 with value: 0.06082827007009588.\n",
      "[I 2025-05-01 06:41:27,891] Trial 43 finished with value: 0.06082827009070545 and parameters: {'alpha': 0.018895652412882394, 'tol': 0.0056928059278403545}. Best is trial 35 with value: 0.06082827007009588.\n",
      "[I 2025-05-01 06:41:27,896] Trial 42 finished with value: 0.0608282700783709 and parameters: {'alpha': 0.008917233291393075, 'tol': 0.006782972328573096}. Best is trial 35 with value: 0.06082827007009588.\n",
      "[I 2025-05-01 06:41:30,910] Trial 44 finished with value: 0.06082827013651276 and parameters: {'alpha': 0.05595116188813876, 'tol': 0.008042905957834794}. Best is trial 35 with value: 0.06082827007009588.\n",
      "[I 2025-05-01 06:41:31,596] Trial 45 finished with value: 0.06082827008930051 and parameters: {'alpha': 0.017758296932089485, 'tol': 0.007721117945154063}. Best is trial 35 with value: 0.06082827007009588.\n",
      "[I 2025-05-01 06:41:32,214] Trial 47 finished with value: 0.06082827080372045 and parameters: {'alpha': 0.5956888860455282, 'tol': 0.00040911677247042026}. Best is trial 35 with value: 0.06082827007009588.\n",
      "[I 2025-05-01 06:41:32,217] Trial 46 finished with value: 0.060828270073097095 and parameters: {'alpha': 0.004650950279798146, 'tol': 0.006991787199352444}. Best is trial 35 with value: 0.06082827007009588.\n",
      "[I 2025-05-01 06:41:35,271] Trial 48 finished with value: 0.060828270104418006 and parameters: {'alpha': 0.029988322695691697, 'tol': 0.007871880728988381}. Best is trial 35 with value: 0.06082827007009588.\n",
      "[I 2025-05-01 06:41:35,972] Trial 49 finished with value: 0.06082827078101111 and parameters: {'alpha': 0.5773181138010934, 'tol': 0.003166099460337856}. Best is trial 35 with value: 0.06082827007009588.\n",
      "[I 2025-05-01 06:41:36,719] Trial 51 finished with value: 0.060828270068232826 and parameters: {'alpha': 0.0007159919851461136, 'tol': 0.007924051590739197}. Best is trial 51 with value: 0.060828270068232826.\n",
      "[I 2025-05-01 06:41:36,720] Trial 50 finished with value: 0.060828270403175684 and parameters: {'alpha': 0.2716681019943699, 'tol': 0.007089004310574441}. Best is trial 51 with value: 0.060828270068232826.\n",
      "[I 2025-05-01 06:41:39,860] Trial 52 finished with value: 0.06082827107774526 and parameters: {'alpha': 0.8173613605078364, 'tol': 0.0048273523210422}. Best is trial 51 with value: 0.060828270068232826.\n",
      "[I 2025-05-01 06:41:40,621] Trial 53 finished with value: 0.06082827046206559 and parameters: {'alpha': 0.31930636330895684, 'tol': 0.009604453791396366}. Best is trial 51 with value: 0.060828270068232826.\n",
      "[I 2025-05-01 06:41:41,188] Trial 55 finished with value: 0.06082827031029701 and parameters: {'alpha': 0.19653397292607905, 'tol': 0.007639812297322092}. Best is trial 51 with value: 0.060828270068232826.\n",
      "[I 2025-05-01 06:41:41,669] Trial 54 finished with value: 0.06082827007045487 and parameters: {'alpha': 0.0025141190146014984, 'tol': 0.007701094449430186}. Best is trial 51 with value: 0.060828270068232826.\n",
      "[I 2025-05-01 06:41:44,673] Trial 56 finished with value: 0.06082827036112347 and parameters: {'alpha': 0.23764986253477272, 'tol': 0.007375062453005602}. Best is trial 51 with value: 0.060828270068232826.\n",
      "[I 2025-05-01 06:41:45,429] Trial 57 finished with value: 0.06082827007232524 and parameters: {'alpha': 0.004026448540268128, 'tol': 0.009838962428795107}. Best is trial 51 with value: 0.060828270068232826.\n",
      "[I 2025-05-01 06:41:46,133] Trial 58 finished with value: 0.06082827006889885 and parameters: {'alpha': 0.001255145573802686, 'tol': 0.008514017152882043}. Best is trial 51 with value: 0.060828270068232826.\n",
      "[I 2025-05-01 06:41:46,147] Trial 59 finished with value: 0.060828270083500974 and parameters: {'alpha': 0.013067507490243093, 'tol': 0.008288352961452522}. Best is trial 51 with value: 0.060828270068232826.\n",
      "[I 2025-05-01 06:41:49,094] Trial 60 finished with value: 0.0608282700753891 and parameters: {'alpha': 0.0065060349949090275, 'tol': 0.008976971499452646}. Best is trial 51 with value: 0.060828270068232826.\n",
      "[I 2025-05-01 06:41:49,779] Trial 61 finished with value: 0.06082827034260288 and parameters: {'alpha': 0.2226675567601407, 'tol': 0.009970934519250824}. Best is trial 51 with value: 0.060828270068232826.\n",
      "[I 2025-05-01 06:41:50,394] Trial 63 finished with value: 0.06082827010535286 and parameters: {'alpha': 0.03074438493300542, 'tol': 0.009890150641425038}. Best is trial 51 with value: 0.060828270068232826.\n",
      "[I 2025-05-01 06:41:50,424] Trial 62 finished with value: 0.06082827014917194 and parameters: {'alpha': 0.0661922671016707, 'tol': 0.009970157340573823}. Best is trial 51 with value: 0.060828270068232826.\n",
      "[I 2025-05-01 06:41:53,419] Trial 64 finished with value: 0.060828270163090434 and parameters: {'alpha': 0.07745182100926276, 'tol': 0.00998850424948147}. Best is trial 51 with value: 0.060828270068232826.\n",
      "[I 2025-05-01 06:41:54,061] Trial 65 finished with value: 0.06082827012812232 and parameters: {'alpha': 0.04916335342642959, 'tol': 0.009877446598271816}. Best is trial 51 with value: 0.060828270068232826.\n",
      "[I 2025-05-01 06:41:54,711] Trial 66 finished with value: 0.06082827007486027 and parameters: {'alpha': 0.006078458497849279, 'tol': 0.009846737458387777}. Best is trial 51 with value: 0.060828270068232826.\n",
      "[I 2025-05-01 06:41:54,714] Trial 67 finished with value: 0.060828270521970304 and parameters: {'alpha': 0.3677675169359273, 'tol': 0.002174046276172}. Best is trial 51 with value: 0.060828270068232826.\n",
      "[I 2025-05-01 06:41:57,643] Trial 68 finished with value: 0.06082827009123076 and parameters: {'alpha': 0.019320645746681464, 'tol': 0.008589516432461135}. Best is trial 51 with value: 0.060828270068232826.\n",
      "[I 2025-05-01 06:41:58,291] Trial 69 finished with value: 0.06082827007035209 and parameters: {'alpha': 0.002431133908671215, 'tol': 0.00823173662277103}. Best is trial 51 with value: 0.060828270068232826.\n",
      "[I 2025-05-01 06:41:58,986] Trial 70 finished with value: 0.060828270083071075 and parameters: {'alpha': 0.012719656695509686, 'tol': 0.007957775423429705}. Best is trial 51 with value: 0.060828270068232826.\n",
      "[I 2025-05-01 06:41:58,988] Trial 71 finished with value: 0.06082827033831352 and parameters: {'alpha': 0.21919778943517726, 'tol': 0.008154282360912934}. Best is trial 51 with value: 0.060828270068232826.\n",
      "[I 2025-05-01 06:42:01,999] Trial 72 finished with value: 0.06082827033525234 and parameters: {'alpha': 0.21672185442476008, 'tol': 0.008361667895204315}. Best is trial 51 with value: 0.060828270068232826.\n",
      "[I 2025-05-01 06:42:02,690] Trial 73 finished with value: 0.060828270116180125 and parameters: {'alpha': 0.03950302601790451, 'tol': 0.008166243149537305}. Best is trial 51 with value: 0.060828270068232826.\n",
      "[I 2025-05-01 06:42:03,375] Trial 74 finished with value: 0.06082827008315906 and parameters: {'alpha': 0.012791076547605012, 'tol': 0.007898529684340013}. Best is trial 51 with value: 0.060828270068232826.\n",
      "[I 2025-05-01 06:42:03,390] Trial 75 finished with value: 0.06082827006886803 and parameters: {'alpha': 0.0012295436457513344, 'tol': 0.007937106413004038}. Best is trial 51 with value: 0.060828270068232826.\n",
      "[I 2025-05-01 06:42:06,311] Trial 76 finished with value: 0.060828270087147064 and parameters: {'alpha': 0.016017243115938547, 'tol': 0.00799208623790945}. Best is trial 51 with value: 0.060828270068232826.\n",
      "[I 2025-05-01 06:42:07,022] Trial 77 finished with value: 0.06082827034509846 and parameters: {'alpha': 0.22468654448010017, 'tol': 0.005381375227623963}. Best is trial 51 with value: 0.060828270068232826.\n",
      "[I 2025-05-01 06:42:07,950] Trial 78 finished with value: 0.060828270086397636 and parameters: {'alpha': 0.015410577732581079, 'tol': 0.006987295627433542}. Best is trial 51 with value: 0.060828270068232826.\n",
      "[I 2025-05-01 06:42:08,141] Trial 79 finished with value: 0.06082827007379918 and parameters: {'alpha': 0.005220168739497896, 'tol': 0.009265050032658184}. Best is trial 51 with value: 0.060828270068232826.\n",
      "[I 2025-05-01 06:42:10,901] Trial 80 finished with value: 0.06082827091853064 and parameters: {'alpha': 0.6885645455359866, 'tol': 0.007615199146293822}. Best is trial 51 with value: 0.060828270068232826.\n",
      "[I 2025-05-01 06:42:11,679] Trial 81 finished with value: 0.06082827009384207 and parameters: {'alpha': 0.021433099882455658, 'tol': 0.00999912046043324}. Best is trial 51 with value: 0.060828270068232826.\n",
      "[I 2025-05-01 06:42:12,206] Trial 82 finished with value: 0.06082827009725457 and parameters: {'alpha': 0.02419296539968121, 'tol': 0.00882435972614617}. Best is trial 51 with value: 0.060828270068232826.\n",
      "[I 2025-05-01 06:42:12,531] Trial 83 finished with value: 0.06082827032065851 and parameters: {'alpha': 0.2049164178570624, 'tol': 0.00856299105239954}. Best is trial 51 with value: 0.060828270068232826.\n",
      "[I 2025-05-01 06:42:15,602] Trial 84 finished with value: 0.060828270074740384 and parameters: {'alpha': 0.005981147529679267, 'tol': 0.007978449410652632}. Best is trial 51 with value: 0.060828270068232826.\n",
      "[I 2025-05-01 06:42:16,371] Trial 85 finished with value: 0.0608282702505169 and parameters: {'alpha': 0.1481749184559119, 'tol': 0.008143939356729918}. Best is trial 51 with value: 0.060828270068232826.\n",
      "[I 2025-05-01 06:42:16,877] Trial 86 finished with value: 0.06082827007756583 and parameters: {'alpha': 0.008265947128099313, 'tol': 0.007617878391273053}. Best is trial 51 with value: 0.060828270068232826.\n",
      "[I 2025-05-01 06:42:17,214] Trial 87 finished with value: 0.06082827011784274 and parameters: {'alpha': 0.040848132500845, 'tol': 0.006534829651231891}. Best is trial 51 with value: 0.060828270068232826.\n",
      "[I 2025-05-01 06:42:20,500] Trial 88 finished with value: 0.06082827009890144 and parameters: {'alpha': 0.025525230356126215, 'tol': 0.0057636291786932}. Best is trial 51 with value: 0.060828270068232826.\n",
      "[I 2025-05-01 06:42:21,207] Trial 89 finished with value: 0.06082827008216568 and parameters: {'alpha': 0.011987159214483647, 'tol': 0.00666579966661038}. Best is trial 51 with value: 0.060828270068232826.\n",
      "[I 2025-05-01 06:42:21,274] Trial 90 finished with value: 0.060828270236914936 and parameters: {'alpha': 0.13717117992456662, 'tol': 0.006230596122622046}. Best is trial 51 with value: 0.060828270068232826.\n",
      "[I 2025-05-01 06:42:21,709] Trial 91 finished with value: 0.06082827124577236 and parameters: {'alpha': 0.9532872234040964, 'tol': 0.00928028123523768}. Best is trial 51 with value: 0.060828270068232826.\n",
      "[I 2025-05-01 06:42:25,323] Trial 92 finished with value: 0.06082827009170342 and parameters: {'alpha': 0.01970226032537393, 'tol': 0.008456536806839804}. Best is trial 51 with value: 0.060828270068232826.\n",
      "[I 2025-05-01 06:42:25,804] Trial 94 finished with value: 0.06082827130038561 and parameters: {'alpha': 0.9974670843304134, 'tol': 0.008738200759739422}. Best is trial 51 with value: 0.060828270068232826.\n",
      "[I 2025-05-01 06:42:25,805] Trial 93 finished with value: 0.06082827007053976 and parameters: {'alpha': 0.0025818903839477624, 'tol': 0.008626287317169976}. Best is trial 51 with value: 0.060828270068232826.\n",
      "[I 2025-05-01 06:42:26,330] Trial 95 finished with value: 0.06082827009553171 and parameters: {'alpha': 0.022800133924685773, 'tol': 0.009291908566478676}. Best is trial 51 with value: 0.060828270068232826.\n",
      "[I 2025-05-01 06:42:29,547] Trial 96 finished with value: 0.060828270094858757 and parameters: {'alpha': 0.022255057067710103, 'tol': 0.008525287728614083}. Best is trial 51 with value: 0.060828270068232826.\n",
      "[I 2025-05-01 06:42:30,235] Trial 98 finished with value: 0.06082827027126698 and parameters: {'alpha': 0.16496070798232584, 'tol': 0.008360210380074035}. Best is trial 51 with value: 0.060828270068232826.\n",
      "[I 2025-05-01 06:42:30,240] Trial 97 finished with value: 0.06082827026941526 and parameters: {'alpha': 0.16346318644284294, 'tol': 0.008354482716636566}. Best is trial 51 with value: 0.060828270068232826.\n",
      "[I 2025-05-01 06:42:30,694] Trial 99 finished with value: 0.0608282700773183 and parameters: {'alpha': 0.008065981823591844, 'tol': 0.008894703019602709}. Best is trial 51 with value: 0.060828270068232826.\n",
      "[I 2025-05-01 06:42:33,654] Trial 100 finished with value: 0.06082827006771277 and parameters: {'alpha': 0.00029571559946968114, 'tol': 0.008824738711671446}. Best is trial 100 with value: 0.06082827006771277.\n",
      "[I 2025-05-01 06:42:34,282] Trial 102 finished with value: 0.060828270071544815 and parameters: {'alpha': 0.003395691254834442, 'tol': 0.00888394474000579}. Best is trial 100 with value: 0.06082827006771277.\n",
      "[I 2025-05-01 06:42:34,780] Trial 101 finished with value: 0.060828270084560196 and parameters: {'alpha': 0.013923959202788706, 'tol': 0.009143352536860529}. Best is trial 100 with value: 0.06082827006771277.\n",
      "[I 2025-05-01 06:42:35,204] Trial 103 finished with value: 0.060828270075409044 and parameters: {'alpha': 0.00652181777000105, 'tol': 0.008872883063765562}. Best is trial 100 with value: 0.06082827006771277.\n",
      "[I 2025-05-01 06:42:38,008] Trial 104 finished with value: 0.06082827019831596 and parameters: {'alpha': 0.10594694702332819, 'tol': 9.575465566924977e-05}. Best is trial 100 with value: 0.06082827006771277.\n",
      "[I 2025-05-01 06:42:38,500] Trial 105 finished with value: 0.06082827007327918 and parameters: {'alpha': 0.004798906796104037, 'tol': 0.008791242657968053}. Best is trial 100 with value: 0.06082827006771277.\n",
      "[I 2025-05-01 06:42:39,190] Trial 106 finished with value: 0.060828270083077375 and parameters: {'alpha': 0.012724285473069231, 'tol': 0.009814514394203182}. Best is trial 100 with value: 0.06082827006771277.\n",
      "[I 2025-05-01 06:42:39,631] Trial 107 finished with value: 0.06082827028988336 and parameters: {'alpha': 0.18001968335167234, 'tol': 0.009866952028462791}. Best is trial 100 with value: 0.06082827006771277.\n",
      "[I 2025-05-01 06:42:42,556] Trial 108 finished with value: 0.06082827026359939 and parameters: {'alpha': 0.15875804550956685, 'tol': 0.009865663082705606}. Best is trial 100 with value: 0.06082827006771277.\n",
      "[I 2025-05-01 06:42:43,288] Trial 109 finished with value: 0.06082827030367062 and parameters: {'alpha': 0.19117332250859642, 'tol': 0.009818781934010024}. Best is trial 100 with value: 0.06082827006771277.\n",
      "[I 2025-05-01 06:42:43,779] Trial 110 finished with value: 0.060828270283482734 and parameters: {'alpha': 0.17484299149297028, 'tol': 0.008937320628384452}. Best is trial 100 with value: 0.06082827006771277.\n",
      "[I 2025-05-01 06:42:44,061] Trial 111 finished with value: 0.06082827026753056 and parameters: {'alpha': 0.16193865547636682, 'tol': 0.008017002744307443}. Best is trial 100 with value: 0.06082827006771277.\n",
      "[I 2025-05-01 06:42:46,972] Trial 112 finished with value: 0.060828270251307735 and parameters: {'alpha': 0.14881445261012038, 'tol': 0.008162381721167428}. Best is trial 100 with value: 0.06082827006771277.\n",
      "[I 2025-05-01 06:42:47,488] Trial 113 finished with value: 0.06082827006987665 and parameters: {'alpha': 0.002046158841930803, 'tol': 0.00856705172521372}. Best is trial 100 with value: 0.06082827006771277.\n",
      "[I 2025-05-01 06:42:48,080] Trial 114 finished with value: 0.06082827006881945 and parameters: {'alpha': 0.0011910776805151536, 'tol': 0.007852923237881386}. Best is trial 100 with value: 0.06082827006771277.\n",
      "[I 2025-05-01 06:42:48,567] Trial 115 finished with value: 0.060828270109336204 and parameters: {'alpha': 0.033966320978907664, 'tol': 0.00783218278402645}. Best is trial 100 with value: 0.06082827006771277.\n",
      "[I 2025-05-01 06:42:51,638] Trial 116 finished with value: 0.060828270099137424 and parameters: {'alpha': 0.025715830531212517, 'tol': 0.00776978106236214}. Best is trial 100 with value: 0.06082827006771277.\n",
      "[I 2025-05-01 06:42:51,934] Trial 117 finished with value: 0.06082827007055291 and parameters: {'alpha': 0.0025923803780939537, 'tol': 0.0077140584421416265}. Best is trial 100 with value: 0.06082827006771277.\n",
      "[I 2025-05-01 06:42:52,577] Trial 118 finished with value: 0.06082827009077524 and parameters: {'alpha': 0.018951749423563383, 'tol': 0.007360690485468091}. Best is trial 100 with value: 0.06082827006771277.\n",
      "[I 2025-05-01 06:42:53,129] Trial 119 finished with value: 0.06082827007282268 and parameters: {'alpha': 0.004429846787786984, 'tol': 0.00751779671722561}. Best is trial 100 with value: 0.06082827006771277.\n",
      "[I 2025-05-01 06:42:56,270] Trial 120 finished with value: 0.06082827079116132 and parameters: {'alpha': 0.5855294459637176, 'tol': 0.005128196003488958}. Best is trial 100 with value: 0.06082827006771277.\n",
      "[I 2025-05-01 06:42:56,363] Trial 121 finished with value: 0.0608282701180097 and parameters: {'alpha': 0.0409829123308421, 'tol': 0.007288446934356952}. Best is trial 100 with value: 0.06082827006771277.\n",
      "[I 2025-05-01 06:42:56,864] Trial 122 finished with value: 0.06082827010651622 and parameters: {'alpha': 0.031686067007995755, 'tol': 0.007265155141065292}. Best is trial 100 with value: 0.06082827006771277.\n",
      "[I 2025-05-01 06:42:57,510] Trial 123 finished with value: 0.06082827006872423 and parameters: {'alpha': 0.0011139464602571481, 'tol': 0.007315293080739083}. Best is trial 100 with value: 0.06082827006771277.\n",
      "[I 2025-05-01 06:43:00,635] Trial 124 finished with value: 0.06082827026193649 and parameters: {'alpha': 0.15741245262379844, 'tol': 0.007185033754502362}. Best is trial 100 with value: 0.06082827006771277.\n",
      "[I 2025-05-01 06:43:00,639] Trial 125 finished with value: 0.0608282700885708 and parameters: {'alpha': 0.017168352706236206, 'tol': 0.008183297043163952}. Best is trial 100 with value: 0.06082827006771277.\n",
      "[I 2025-05-01 06:43:01,214] Trial 126 finished with value: 0.060828270086812956 and parameters: {'alpha': 0.015746378563950496, 'tol': 0.008515317674979806}. Best is trial 100 with value: 0.06082827006771277.\n",
      "[I 2025-05-01 06:43:01,890] Trial 127 finished with value: 0.060828270292946504 and parameters: {'alpha': 0.18249916546637318, 'tol': 0.0065467834372044675}. Best is trial 100 with value: 0.06082827006771277.\n",
      "[I 2025-05-01 06:43:04,899] Trial 129 finished with value: 0.060828271278092566 and parameters: {'alpha': 0.979432723099834, 'tol': 0.00385898590765425}. Best is trial 100 with value: 0.06082827006771277.\n",
      "[I 2025-05-01 06:43:05,155] Trial 128 finished with value: 0.06082827006775763 and parameters: {'alpha': 0.0003318408259819997, 'tol': 0.007890409137223045}. Best is trial 100 with value: 0.06082827006771277.\n",
      "[I 2025-05-01 06:43:05,584] Trial 130 finished with value: 0.060828270294498964 and parameters: {'alpha': 0.18375479801962688, 'tol': 0.006867435069329225}. Best is trial 100 with value: 0.06082827006771277.\n",
      "[I 2025-05-01 06:43:06,245] Trial 131 finished with value: 0.06082827007296618 and parameters: {'alpha': 0.0045455860374639945, 'tol': 0.007721206800505531}. Best is trial 100 with value: 0.06082827006771277.\n",
      "[I 2025-05-01 06:43:09,226] Trial 132 finished with value: 0.06082827007053538 and parameters: {'alpha': 0.0025794384932341196, 'tol': 0.00795427247576365}. Best is trial 100 with value: 0.06082827006771277.\n",
      "[I 2025-05-01 06:43:09,663] Trial 133 finished with value: 0.06082827007203019 and parameters: {'alpha': 0.00378849546352201, 'tol': 0.007347570081449497}. Best is trial 100 with value: 0.06082827006771277.\n",
      "[I 2025-05-01 06:43:09,909] Trial 134 finished with value: 0.06082827007045986 and parameters: {'alpha': 0.0025173057990061573, 'tol': 0.007781423403269719}. Best is trial 100 with value: 0.06082827006771277.\n",
      "[I 2025-05-01 06:43:10,427] Trial 135 finished with value: 0.06082827008338566 and parameters: {'alpha': 0.012974390495246613, 'tol': 0.007268389686664016}. Best is trial 100 with value: 0.06082827006771277.\n",
      "[I 2025-05-01 06:43:13,746] Trial 136 finished with value: 0.06082827010706944 and parameters: {'alpha': 0.0321329878732119, 'tol': 0.007571121600708833}. Best is trial 100 with value: 0.06082827006771277.\n",
      "[I 2025-05-01 06:43:14,511] Trial 138 finished with value: 0.0608282700715606 and parameters: {'alpha': 0.003408036225735088, 'tol': 0.007152361880839126}. Best is trial 100 with value: 0.06082827006771277.\n",
      "[I 2025-05-01 06:43:14,532] Trial 137 finished with value: 0.06082827008444179 and parameters: {'alpha': 0.013828877416787977, 'tol': 0.0054567728144725765}. Best is trial 100 with value: 0.06082827006771277.\n",
      "[I 2025-05-01 06:43:15,024] Trial 139 finished with value: 0.060828270094456974 and parameters: {'alpha': 0.02193058939480527, 'tol': 0.0066289443530114615}. Best is trial 100 with value: 0.06082827006771277.\n",
      "[I 2025-05-01 06:43:18,619] Trial 140 finished with value: 0.06082827008997781 and parameters: {'alpha': 0.01830701111126709, 'tol': 0.004992810219811253}. Best is trial 100 with value: 0.06082827006771277.\n",
      "[I 2025-05-01 06:43:19,138] Trial 141 finished with value: 0.060828270073023334 and parameters: {'alpha': 0.0045912874975688744, 'tol': 0.00833792370356053}. Best is trial 100 with value: 0.06082827006771277.\n",
      "[I 2025-05-01 06:43:19,155] Trial 142 finished with value: 0.06082827007052418 and parameters: {'alpha': 0.002570264461761668, 'tol': 0.0069221347182751415}. Best is trial 100 with value: 0.06082827006771277.\n",
      "[I 2025-05-01 06:43:19,498] Trial 143 finished with value: 0.060828270070836646 and parameters: {'alpha': 0.0028222793833411206, 'tol': 0.008135244433491059}. Best is trial 100 with value: 0.06082827006771277.\n",
      "[I 2025-05-01 06:43:23,229] Trial 144 finished with value: 0.060828270088115616 and parameters: {'alpha': 0.01680022911261416, 'tol': 0.008121312155550005}. Best is trial 100 with value: 0.06082827006771277.\n",
      "[I 2025-05-01 06:43:23,909] Trial 145 finished with value: 0.0608282700762003 and parameters: {'alpha': 0.007162055004486399, 'tol': 0.008128892229819351}. Best is trial 100 with value: 0.06082827006771277.\n",
      "[I 2025-05-01 06:43:23,913] Trial 146 finished with value: 0.06082827025750591 and parameters: {'alpha': 0.15382912594216927, 'tol': 0.00782890795027557}. Best is trial 100 with value: 0.06082827006771277.\n",
      "[I 2025-05-01 06:43:23,946] Trial 147 finished with value: 0.06082827025232017 and parameters: {'alpha': 0.14963356130919164, 'tol': 0.007822162840762453}. Best is trial 100 with value: 0.06082827006771277.\n",
      "[I 2025-05-01 06:43:27,758] Trial 148 finished with value: 0.06082827100701517 and parameters: {'alpha': 0.7601447814303947, 'tol': 0.002129041793660662}. Best is trial 100 with value: 0.06082827006771277.\n",
      "[I 2025-05-01 06:43:28,509] Trial 150 finished with value: 0.060828270263350415 and parameters: {'alpha': 0.15855638104786166, 'tol': 0.006778468812212339}. Best is trial 100 with value: 0.06082827006771277.\n",
      "[I 2025-05-01 06:43:28,509] Trial 151 finished with value: 0.06082827027177181 and parameters: {'alpha': 0.16536872838512975, 'tol': 0.00746231999427267}. Best is trial 100 with value: 0.06082827006771277.\n",
      "[I 2025-05-01 06:43:28,516] Trial 149 finished with value: 0.06082827027988714 and parameters: {'alpha': 0.17193329013179778, 'tol': 0.008231181001684872}. Best is trial 100 with value: 0.06082827006771277.\n",
      "[I 2025-05-01 06:43:32,136] Trial 152 finished with value: 0.060828270091100055 and parameters: {'alpha': 0.01921441462173813, 'tol': 0.005999119702783282}. Best is trial 100 with value: 0.06082827006771277.\n",
      "[I 2025-05-01 06:43:32,854] Trial 155 finished with value: 0.06082827007849879 and parameters: {'alpha': 0.009020620898663676, 'tol': 0.007479593362558857}. Best is trial 100 with value: 0.06082827006771277.\n",
      "[I 2025-05-01 06:43:32,857] Trial 153 finished with value: 0.06082827008201692 and parameters: {'alpha': 0.011867127903593637, 'tol': 0.007021135414016382}. Best is trial 100 with value: 0.06082827006771277.\n",
      "[I 2025-05-01 06:43:32,874] Trial 154 finished with value: 0.060828270069233796 and parameters: {'alpha': 0.0015258793900932936, 'tol': 0.006724608632980522}. Best is trial 100 with value: 0.06082827006771277.\n",
      "[I 2025-05-01 06:43:36,563] Trial 156 finished with value: 0.060828270082627506 and parameters: {'alpha': 0.012361097358188708, 'tol': 0.006831728119086517}. Best is trial 100 with value: 0.06082827006771277.\n",
      "[I 2025-05-01 06:43:37,495] Trial 159 finished with value: 0.06082827007437311 and parameters: {'alpha': 0.005683649063259293, 'tol': 0.00642779499801589}. Best is trial 100 with value: 0.06082827006771277.\n",
      "[I 2025-05-01 06:43:37,513] Trial 158 finished with value: 0.06082827008301221 and parameters: {'alpha': 0.012671738181599647, 'tol': 0.007712385484224525}. Best is trial 100 with value: 0.06082827006771277.\n",
      "[I 2025-05-01 06:43:37,531] Trial 157 finished with value: 0.06082827006826848 and parameters: {'alpha': 0.000745471744087237, 'tol': 0.007880201887255607}. Best is trial 100 with value: 0.06082827006771277.\n",
      "[I 2025-05-01 06:43:40,519] Trial 160 finished with value: 0.060828270084088476 and parameters: {'alpha': 0.013541614524309077, 'tol': 0.008317533092477281}. Best is trial 100 with value: 0.06082827006771277.\n",
      "[I 2025-05-01 06:43:42,178] Trial 162 finished with value: 0.06082827022221207 and parameters: {'alpha': 0.1252776686369868, 'tol': 0.008764355674126152}. Best is trial 100 with value: 0.06082827006771277.\n",
      "[I 2025-05-01 06:43:42,207] Trial 163 finished with value: 0.06082827006809648 and parameters: {'alpha': 0.0006048789077120885, 'tol': 0.009026197917144837}. Best is trial 100 with value: 0.06082827006771277.\n",
      "[I 2025-05-01 06:43:42,262] Trial 161 finished with value: 0.060828270195686936 and parameters: {'alpha': 0.1038200751958231, 'tol': 0.00876551402830575}. Best is trial 100 with value: 0.06082827006771277.\n",
      "[I 2025-05-01 06:43:45,207] Trial 164 finished with value: 0.060828270096502796 and parameters: {'alpha': 0.023584829349285998, 'tol': 0.00875293190122567}. Best is trial 100 with value: 0.06082827006771277.\n",
      "[I 2025-05-01 06:43:46,905] Trial 167 finished with value: 0.06082827007618045 and parameters: {'alpha': 0.007146009919658587, 'tol': 0.008311928749309213}. Best is trial 100 with value: 0.06082827006771277.\n",
      "[I 2025-05-01 06:43:46,910] Trial 165 finished with value: 0.06082827007539652 and parameters: {'alpha': 0.006511915156910051, 'tol': 0.009292601833444134}. Best is trial 100 with value: 0.06082827006771277.\n",
      "[I 2025-05-01 06:43:46,916] Trial 166 finished with value: 0.060828270072444804 and parameters: {'alpha': 0.004123217627199419, 'tol': 0.00806446117633606}. Best is trial 100 with value: 0.06082827006771277.\n",
      "[I 2025-05-01 06:43:49,799] Trial 168 finished with value: 0.06082827007936103 and parameters: {'alpha': 0.009718764943008107, 'tol': 0.009423865079459439}. Best is trial 100 with value: 0.06082827006771277.\n",
      "[I 2025-05-01 06:43:50,951] Trial 170 finished with value: 0.06082827026625793 and parameters: {'alpha': 0.16090873422388322, 'tol': 0.006242269465437943}. Best is trial 100 with value: 0.06082827006771277.\n",
      "[I 2025-05-01 06:43:51,584] Trial 171 finished with value: 0.06082827021990303 and parameters: {'alpha': 0.12340984102211358, 'tol': 0.006602143956346819}. Best is trial 100 with value: 0.06082827006771277.\n",
      "[I 2025-05-01 06:43:51,589] Trial 169 finished with value: 0.06082827007090447 and parameters: {'alpha': 0.0028774293976582175, 'tol': 0.007243142645370407}. Best is trial 100 with value: 0.06082827006771277.\n",
      "[I 2025-05-01 06:43:53,984] Trial 172 finished with value: 0.06082827067804183 and parameters: {'alpha': 0.4940207990470831, 'tol': 0.008036151634194959}. Best is trial 100 with value: 0.06082827006771277.\n",
      "[I 2025-05-01 06:43:55,411] Trial 173 finished with value: 0.06082827024753786 and parameters: {'alpha': 0.1457643903848218, 'tol': 0.007194559464322168}. Best is trial 100 with value: 0.06082827006771277.\n",
      "[I 2025-05-01 06:43:55,906] Trial 174 finished with value: 0.06082827008065774 and parameters: {'alpha': 0.010767056108334592, 'tol': 0.009050055555941688}. Best is trial 100 with value: 0.06082827006771277.\n",
      "[I 2025-05-01 06:43:56,358] Trial 175 finished with value: 0.06082827021732466 and parameters: {'alpha': 0.12132373569567055, 'tol': 0.008398131568588305}. Best is trial 100 with value: 0.06082827006771277.\n",
      "[I 2025-05-01 06:43:58,056] Trial 176 finished with value: 0.060828270086974404 and parameters: {'alpha': 0.015876692116024493, 'tol': 0.009492922262732906}. Best is trial 100 with value: 0.06082827006771277.\n",
      "[I 2025-05-01 06:43:59,508] Trial 177 finished with value: 0.060828270069538885 and parameters: {'alpha': 0.0017728495841070474, 'tol': 0.009685591961841922}. Best is trial 100 with value: 0.06082827006771277.\n",
      "[I 2025-05-01 06:44:00,203] Trial 178 finished with value: 0.06082827007286373 and parameters: {'alpha': 0.004462635621677752, 'tol': 0.007816076973765329}. Best is trial 100 with value: 0.06082827006771277.\n",
      "[I 2025-05-01 06:44:00,637] Trial 179 finished with value: 0.06082827007208337 and parameters: {'alpha': 0.003831171587666014, 'tol': 0.008329252400386107}. Best is trial 100 with value: 0.06082827006771277.\n",
      "[I 2025-05-01 06:44:02,492] Trial 180 finished with value: 0.06082827022378489 and parameters: {'alpha': 0.12655011979254494, 'tol': 0.008292307316395624}. Best is trial 100 with value: 0.06082827006771277.\n",
      "[I 2025-05-01 06:44:03,746] Trial 181 finished with value: 0.06082827026464227 and parameters: {'alpha': 0.15960193029093686, 'tol': 0.008712771686379578}. Best is trial 100 with value: 0.06082827006771277.\n",
      "[I 2025-05-01 06:44:04,411] Trial 182 finished with value: 0.060828270111835926 and parameters: {'alpha': 0.035988587614040134, 'tol': 0.009736088235430422}. Best is trial 100 with value: 0.06082827006771277.\n",
      "[I 2025-05-01 06:44:04,836] Trial 183 finished with value: 0.0608282700777624 and parameters: {'alpha': 0.008424717123707126, 'tol': 0.006224965147922022}. Best is trial 100 with value: 0.06082827006771277.\n",
      "[I 2025-05-01 06:44:06,752] Trial 184 finished with value: 0.0608282701063682 and parameters: {'alpha': 0.03156579421093582, 'tol': 0.00981553923709281}. Best is trial 100 with value: 0.06082827006771277.\n",
      "[I 2025-05-01 06:44:08,018] Trial 185 finished with value: 0.06082827015604744 and parameters: {'alpha': 0.07175418623957737, 'tol': 0.00971219818787482}. Best is trial 100 with value: 0.06082827006771277.\n",
      "[I 2025-05-01 06:44:08,915] Trial 186 finished with value: 0.060828270077743656 and parameters: {'alpha': 0.008409912885928657, 'tol': 0.007222186773553335}. Best is trial 100 with value: 0.06082827006771277.\n",
      "[I 2025-05-01 06:44:09,183] Trial 187 finished with value: 0.060828270075872645 and parameters: {'alpha': 0.006896292588496402, 'tol': 0.009213107200328894}. Best is trial 100 with value: 0.06082827006771277.\n",
      "[I 2025-05-01 06:44:11,183] Trial 188 finished with value: 0.06082827007718373 and parameters: {'alpha': 0.007956307056017058, 'tol': 0.007953301040099486}. Best is trial 100 with value: 0.06082827006771277.\n",
      "[I 2025-05-01 06:44:12,557] Trial 189 finished with value: 0.060828270073727105 and parameters: {'alpha': 0.00516062006949344, 'tol': 0.007694359914753562}. Best is trial 100 with value: 0.06082827006771277.\n",
      "[I 2025-05-01 06:44:13,350] Trial 190 finished with value: 0.06082827006799046 and parameters: {'alpha': 0.0005203554491689877, 'tol': 0.00854364285465421}. Best is trial 100 with value: 0.06082827006771277.\n",
      "[I 2025-05-01 06:44:13,846] Trial 191 finished with value: 0.06082827007272137 and parameters: {'alpha': 0.00434663742170255, 'tol': 0.008271425648997454}. Best is trial 100 with value: 0.06082827006771277.\n",
      "[I 2025-05-01 06:44:15,811] Trial 192 finished with value: 0.060828270078423105 and parameters: {'alpha': 0.008959885577181826, 'tol': 0.008172300693502341}. Best is trial 100 with value: 0.06082827006771277.\n",
      "[I 2025-05-01 06:44:17,207] Trial 193 finished with value: 0.060828270220635326 and parameters: {'alpha': 0.12400226475582415, 'tol': 0.008325723884356203}. Best is trial 100 with value: 0.06082827006771277.\n",
      "[I 2025-05-01 06:44:17,840] Trial 194 finished with value: 0.0608282702224977 and parameters: {'alpha': 0.125509007059365, 'tol': 0.00828640488936145}. Best is trial 100 with value: 0.06082827006771277.\n",
      "[I 2025-05-01 06:44:18,310] Trial 195 finished with value: 0.060828270251341576 and parameters: {'alpha': 0.14884179353166613, 'tol': 0.007942385642478355}. Best is trial 100 with value: 0.06082827006771277.\n",
      "[I 2025-05-01 06:44:20,283] Trial 196 finished with value: 0.06082827006764527 and parameters: {'alpha': 0.00024106534337479642, 'tol': 0.009887229920774652}. Best is trial 196 with value: 0.06082827006764527.\n",
      "[I 2025-05-01 06:44:21,791] Trial 197 finished with value: 0.06082827007041712 and parameters: {'alpha': 0.0024825233050873785, 'tol': 0.008391268741746333}. Best is trial 196 with value: 0.06082827006764527.\n",
      "[I 2025-05-01 06:44:22,248] Trial 198 finished with value: 0.06082827077946375 and parameters: {'alpha': 0.5760670186806391, 'tol': 0.009964071763875638}. Best is trial 196 with value: 0.06082827006764527.\n",
      "[I 2025-05-01 06:44:22,553] Trial 199 finished with value: 0.06082827009344455 and parameters: {'alpha': 0.02111169831300711, 'tol': 0.009803148782774183}. Best is trial 196 with value: 0.06082827006764527.\n",
      "[I 2025-05-01 06:44:24,495] Trial 200 finished with value: 0.06082827007156046 and parameters: {'alpha': 0.0034083635331142448, 'tol': 0.009455802761157511}. Best is trial 196 with value: 0.06082827006764527.\n",
      "[I 2025-05-01 06:44:26,186] Trial 201 finished with value: 0.06082827006915722 and parameters: {'alpha': 0.0014640250934960643, 'tol': 0.009312526113085811}. Best is trial 196 with value: 0.06082827006764527.\n",
      "[I 2025-05-01 06:44:26,805] Trial 202 finished with value: 0.06082827006909503 and parameters: {'alpha': 0.0014133559022109358, 'tol': 0.009493358703236598}. Best is trial 196 with value: 0.06082827006764527.\n",
      "[I 2025-05-01 06:44:27,145] Trial 203 finished with value: 0.060828270118170755 and parameters: {'alpha': 0.04111322229316848, 'tol': 0.009839044579731972}. Best is trial 196 with value: 0.06082827006764527.\n",
      "[I 2025-05-01 06:44:29,364] Trial 204 finished with value: 0.060828270096248825 and parameters: {'alpha': 0.023380229017944273, 'tol': 0.009770353367031512}. Best is trial 196 with value: 0.06082827006764527.\n",
      "[I 2025-05-01 06:44:30,507] Trial 205 finished with value: 0.06082827028746545 and parameters: {'alpha': 0.17806458010124432, 'tol': 0.009792472955206221}. Best is trial 196 with value: 0.06082827006764527.\n",
      "[I 2025-05-01 06:44:31,102] Trial 206 finished with value: 0.060828270073761605 and parameters: {'alpha': 0.005188986559421975, 'tol': 0.009971136036871392}. Best is trial 196 with value: 0.06082827006764527.\n",
      "[I 2025-05-01 06:44:31,827] Trial 207 finished with value: 0.06082827027678085 and parameters: {'alpha': 0.16942074557700365, 'tol': 0.009896003667542735}. Best is trial 196 with value: 0.06082827006764527.\n",
      "[I 2025-05-01 06:44:33,299] Trial 208 finished with value: 0.06082827057928727 and parameters: {'alpha': 0.41413411693528834, 'tol': 2.0337864277897993e-05}. Best is trial 196 with value: 0.06082827006764527.\n",
      "[I 2025-05-01 06:44:34,793] Trial 209 finished with value: 0.06082827020949306 and parameters: {'alpha': 0.11498850893250434, 'tol': 0.009739077454926599}. Best is trial 196 with value: 0.06082827006764527.\n",
      "[I 2025-05-01 06:44:35,445] Trial 210 finished with value: 0.0608282700759562 and parameters: {'alpha': 0.006963852436329295, 'tol': 0.009916303649505024}. Best is trial 196 with value: 0.06082827006764527.\n",
      "[I 2025-05-01 06:44:36,361] Trial 211 finished with value: 0.06082827007718217 and parameters: {'alpha': 0.007955551920930686, 'tol': 0.009718720446872395}. Best is trial 196 with value: 0.06082827006764527.\n",
      "[I 2025-05-01 06:44:37,638] Trial 212 finished with value: 0.06082827009034416 and parameters: {'alpha': 0.0186031323587401, 'tol': 0.009902359293591933}. Best is trial 196 with value: 0.06082827006764527.\n",
      "[I 2025-05-01 06:44:39,174] Trial 213 finished with value: 0.06082827008198057 and parameters: {'alpha': 0.011837584898480046, 'tol': 0.00856677875756019}. Best is trial 196 with value: 0.06082827006764527.\n",
      "[I 2025-05-01 06:44:39,621] Trial 214 finished with value: 0.06082827008884032 and parameters: {'alpha': 0.017387506532168567, 'tol': 0.00922298067933366}. Best is trial 196 with value: 0.06082827006764527.\n",
      "[I 2025-05-01 06:44:40,778] Trial 215 finished with value: 0.060828270072829205 and parameters: {'alpha': 0.004433722214933438, 'tol': 0.008726503760429553}. Best is trial 196 with value: 0.06082827006764527.\n",
      "[I 2025-05-01 06:44:42,145] Trial 216 finished with value: 0.06082827007135026 and parameters: {'alpha': 0.003237679427646475, 'tol': 0.007325093462846866}. Best is trial 196 with value: 0.06082827006764527.\n",
      "[I 2025-05-01 06:44:43,767] Trial 217 finished with value: 0.060828270068595515 and parameters: {'alpha': 0.0010095473551790283, 'tol': 0.0064571295956156296}. Best is trial 196 with value: 0.06082827006764527.\n",
      "[I 2025-05-01 06:44:44,249] Trial 218 finished with value: 0.06082827104845032 and parameters: {'alpha': 0.7936641918057512, 'tol': 0.006248288687022729}. Best is trial 196 with value: 0.06082827006764527.\n",
      "[I 2025-05-01 06:44:45,517] Trial 219 finished with value: 0.06082827008960294 and parameters: {'alpha': 0.01800402599032303, 'tol': 0.007076454973998504}. Best is trial 196 with value: 0.06082827006764527.\n",
      "[I 2025-05-01 06:44:46,661] Trial 220 finished with value: 0.06082827008650894 and parameters: {'alpha': 0.015500876972202704, 'tol': 0.007887597558090546}. Best is trial 196 with value: 0.06082827006764527.\n",
      "[I 2025-05-01 06:44:47,954] Trial 221 finished with value: 0.06082827023290904 and parameters: {'alpha': 0.13393143941736263, 'tol': 0.007939638022526637}. Best is trial 196 with value: 0.06082827006764527.\n",
      "[I 2025-05-01 06:44:48,642] Trial 222 finished with value: 0.06082827025987814 and parameters: {'alpha': 0.15574747786770562, 'tol': 0.008493222314325848}. Best is trial 196 with value: 0.06082827006764527.\n",
      "[I 2025-05-01 06:44:49,924] Trial 223 finished with value: 0.06082827025567422 and parameters: {'alpha': 0.15234644835267672, 'tol': 0.008543369621789944}. Best is trial 196 with value: 0.06082827006764527.\n",
      "[I 2025-05-01 06:44:51,032] Trial 224 finished with value: 0.06082827021463135 and parameters: {'alpha': 0.11914511894710221, 'tol': 0.005067749991512169}. Best is trial 196 with value: 0.06082827006764527.\n",
      "[I 2025-05-01 06:44:52,586] Trial 225 finished with value: 0.0608282700682445 and parameters: {'alpha': 0.0007261927988531005, 'tol': 0.005985758980116235}. Best is trial 196 with value: 0.06082827006764527.\n",
      "[I 2025-05-01 06:44:53,053] Trial 226 finished with value: 0.060828270210063984 and parameters: {'alpha': 0.11545052957016681, 'tol': 0.004598237986674212}. Best is trial 196 with value: 0.06082827006764527.\n",
      "[I 2025-05-01 06:44:54,391] Trial 227 finished with value: 0.06082827028830971 and parameters: {'alpha': 0.17874788681637485, 'tol': 0.005254316840565461}. Best is trial 196 with value: 0.06082827006764527.\n",
      "[I 2025-05-01 06:44:55,499] Trial 228 finished with value: 0.0608282700802669 and parameters: {'alpha': 0.010451219485290745, 'tol': 0.006608143467029472}. Best is trial 196 with value: 0.06082827006764527.\n",
      "[I 2025-05-01 06:44:57,079] Trial 229 finished with value: 0.06082827012099694 and parameters: {'alpha': 0.043399663891851646, 'tol': 0.0044503975771154934}. Best is trial 196 with value: 0.06082827006764527.\n",
      "[I 2025-05-01 06:44:57,576] Trial 230 finished with value: 0.06082827013152222 and parameters: {'alpha': 0.05191381502575466, 'tol': 0.006437617972790026}. Best is trial 196 with value: 0.06082827006764527.\n",
      "[I 2025-05-01 06:44:58,569] Trial 231 finished with value: 0.06082827007420813 and parameters: {'alpha': 0.005550391509914631, 'tol': 0.005035686454418252}. Best is trial 196 with value: 0.06082827006764527.\n",
      "[I 2025-05-01 06:45:00,002] Trial 232 finished with value: 0.0608282701567084 and parameters: {'alpha': 0.07228834932654228, 'tol': 0.005792953619283506}. Best is trial 196 with value: 0.06082827006764527.\n",
      "[I 2025-05-01 06:45:01,595] Trial 233 finished with value: 0.060828270073727105 and parameters: {'alpha': 0.005160981804366715, 'tol': 0.006821478682638801}. Best is trial 196 with value: 0.06082827006764527.\n",
      "[I 2025-05-01 06:45:02,347] Trial 234 finished with value: 0.06082827012123938 and parameters: {'alpha': 0.04359641348309397, 'tol': 0.006381089740055484}. Best is trial 196 with value: 0.06082827006764527.\n",
      "[I 2025-05-01 06:45:03,152] Trial 235 finished with value: 0.06082827011383536 and parameters: {'alpha': 0.03760656825170854, 'tol': 0.005932345976945896}. Best is trial 196 with value: 0.06082827006764527.\n",
      "[I 2025-05-01 06:45:04,703] Trial 236 finished with value: 0.06082827008064559 and parameters: {'alpha': 0.010757244232199781, 'tol': 0.006370039507819714}. Best is trial 196 with value: 0.06082827006764527.\n",
      "[I 2025-05-01 06:45:06,307] Trial 237 finished with value: 0.06082827007099037 and parameters: {'alpha': 0.0029475532363927113, 'tol': 0.007800944472634243}. Best is trial 196 with value: 0.06082827006764527.\n",
      "[I 2025-05-01 06:45:07,093] Trial 238 finished with value: 0.06082827006972743 and parameters: {'alpha': 0.0019250612976835554, 'tol': 0.006895431338107385}. Best is trial 196 with value: 0.06082827006764527.\n",
      "[I 2025-05-01 06:45:07,816] Trial 239 finished with value: 0.060828270080575224 and parameters: {'alpha': 0.010701260538980982, 'tol': 0.008835624547810233}. Best is trial 196 with value: 0.06082827006764527.\n",
      "[I 2025-05-01 06:45:09,430] Trial 240 finished with value: 0.06082827008356703 and parameters: {'alpha': 0.013120826212763916, 'tol': 0.00807719068600416}. Best is trial 196 with value: 0.06082827006764527.\n",
      "[I 2025-05-01 06:45:11,601] Trial 241 finished with value: 0.060828270075491984 and parameters: {'alpha': 0.006589004639045797, 'tol': 0.008483101329454876}. Best is trial 196 with value: 0.06082827006764527.\n",
      "[I 2025-05-01 06:45:11,942] Trial 242 finished with value: 0.060828270093697116 and parameters: {'alpha': 0.021315376399432408, 'tol': 0.008419921048903893}. Best is trial 196 with value: 0.06082827006764527.\n",
      "[I 2025-05-01 06:45:12,715] Trial 243 finished with value: 0.06082827006801281 and parameters: {'alpha': 0.0005384035473636825, 'tol': 0.008289882006590029}. Best is trial 196 with value: 0.06082827006764527.\n",
      "[I 2025-05-01 06:45:14,571] Trial 244 finished with value: 0.06082827024629859 and parameters: {'alpha': 0.14476248840765182, 'tol': 0.007366801697820833}. Best is trial 196 with value: 0.06082827006764527.\n",
      "[I 2025-05-01 06:45:16,262] Trial 245 finished with value: 0.06082827024387433 and parameters: {'alpha': 0.1428017012037056, 'tol': 0.007185294834543541}. Best is trial 196 with value: 0.06082827006764527.\n",
      "[I 2025-05-01 06:45:16,995] Trial 246 finished with value: 0.06082827027367399 and parameters: {'alpha': 0.16690768805651746, 'tol': 0.00717184046546775}. Best is trial 196 with value: 0.06082827006764527.\n",
      "[I 2025-05-01 06:45:17,683] Trial 247 finished with value: 0.06082827024571382 and parameters: {'alpha': 0.14428981861756632, 'tol': 0.007032580598866366}. Best is trial 196 with value: 0.06082827006764527.\n",
      "[I 2025-05-01 06:45:18,669] Trial 248 finished with value: 0.06082827007569768 and parameters: {'alpha': 0.006755146228243126, 'tol': 0.007605341951177701}. Best is trial 196 with value: 0.06082827006764527.\n",
      "[I 2025-05-01 06:45:19,182] Trial 249 finished with value: 0.06082827008450243 and parameters: {'alpha': 0.013877972843987217, 'tol': 0.00823212694889141}. Best is trial 196 with value: 0.06082827006764527.\n"
     ]
    }
   ],
   "source": [
    "def objective(trial):    \n",
    "    params = {\n",
    "        \"random_state\": CFG.seed,\n",
    "        \"alpha\": trial.suggest_float(\"alpha\", 0, 1),\n",
    "        \"tol\": trial.suggest_float(\"tol\", 1e-6, 1e-2)\n",
    "    }\n",
    "    \n",
    "    trainer = Trainer(\n",
    "        Ridge(**params),\n",
    "        cv=KFold(n_splits=CFG.n_folds, random_state=CFG.seed, shuffle=True),\n",
    "        metric=CFG.metric,\n",
    "        task=\"regression\",\n",
    "        verbose=False\n",
    "    )\n",
    "    trainer.fit(X, y)\n",
    "    \n",
    "    return trainer.overall_score\n",
    "\n",
    "if CFG.run_optuna:\n",
    "    sampler = optuna.samplers.TPESampler(seed=CFG.seed, multivariate=True)\n",
    "    study = optuna.create_study(direction=\"minimize\", sampler=sampler)\n",
    "    study.optimize(objective, n_trials=CFG.n_optuna_trials, n_jobs=-1, catch=(ValueError,))\n",
    "    best_params = study.best_params\n",
    "\n",
    "    ridge_params = {\n",
    "        \"random_state\": CFG.seed,\n",
    "        \"alpha\": best_params[\"alpha\"],\n",
    "        \"tol\": best_params[\"tol\"]\n",
    "    }\n",
    "else:\n",
    "    ridge_params = {\n",
    "        \"random_state\": CFG.seed\n",
    "    }"
   ]
  },
  {
   "cell_type": "code",
   "execution_count": 16,
   "id": "1a7bfd36",
   "metadata": {
    "execution": {
     "iopub.execute_input": "2025-05-01T06:45:19.244249Z",
     "iopub.status.busy": "2025-05-01T06:45:19.243882Z",
     "iopub.status.idle": "2025-05-01T06:45:19.251053Z",
     "shell.execute_reply": "2025-05-01T06:45:19.249288Z"
    },
    "papermill": {
     "duration": 0.038114,
     "end_time": "2025-05-01T06:45:19.252933",
     "exception": false,
     "start_time": "2025-05-01T06:45:19.214819",
     "status": "completed"
    },
    "tags": []
   },
   "outputs": [
    {
     "name": "stdout",
     "output_type": "stream",
     "text": [
      "{\n",
      "  \"random_state\": 42,\n",
      "  \"alpha\": 0.00024106534337479642,\n",
      "  \"tol\": 0.009887229920774652\n",
      "}\n"
     ]
    }
   ],
   "source": [
    "print(json.dumps(ridge_params, indent=2))"
   ]
  },
  {
   "cell_type": "code",
   "execution_count": 17,
   "id": "8170c141",
   "metadata": {
    "execution": {
     "iopub.execute_input": "2025-05-01T06:45:19.306027Z",
     "iopub.status.busy": "2025-05-01T06:45:19.305688Z",
     "iopub.status.idle": "2025-05-01T06:45:20.801912Z",
     "shell.execute_reply": "2025-05-01T06:45:20.800847Z"
    },
    "papermill": {
     "duration": 1.52539,
     "end_time": "2025-05-01T06:45:20.803981",
     "exception": false,
     "start_time": "2025-05-01T06:45:19.278591",
     "status": "completed"
    },
    "tags": []
   },
   "outputs": [
    {
     "name": "stdout",
     "output_type": "stream",
     "text": [
      "Training Ridge\n",
      "\n",
      "--- Fold 0 - root_mean_squared_log_error: 0.0605 - Time: 0.12 s\n",
      "--- Fold 1 - root_mean_squared_log_error: 0.0610 - Time: 0.10 s\n",
      "--- Fold 2 - root_mean_squared_log_error: 0.0604 - Time: 0.11 s\n",
      "--- Fold 3 - root_mean_squared_log_error: 0.0616 - Time: 0.11 s\n",
      "--- Fold 4 - root_mean_squared_log_error: 0.0606 - Time: 0.10 s\n",
      "\n",
      "------ Overall root_mean_squared_log_error: 0.0608 - Mean root_mean_squared_log_error: 0.0608 ± 0.0004 - Time: 1.47 s\n"
     ]
    }
   ],
   "source": [
    "ridge_trainer = Trainer(\n",
    "    Ridge(**ridge_params),\n",
    "    cv=KFold(n_splits=CFG.n_folds, random_state=CFG.seed, shuffle=True),\n",
    "    metric=CFG.metric,\n",
    "    task=\"regression\"\n",
    ")\n",
    "\n",
    "ridge_trainer.fit(X, y)\n",
    "\n",
    "scores[\"Ridge (ensemble)\"] = ridge_trainer.fold_scores\n",
    "ridge_test_preds = ridge_trainer.predict(X_test)"
   ]
  },
  {
   "cell_type": "code",
   "execution_count": 18,
   "id": "18c785aa",
   "metadata": {
    "execution": {
     "iopub.execute_input": "2025-05-01T06:45:20.857048Z",
     "iopub.status.busy": "2025-05-01T06:45:20.856660Z",
     "iopub.status.idle": "2025-05-01T06:45:21.207466Z",
     "shell.execute_reply": "2025-05-01T06:45:21.206235Z"
    },
    "papermill": {
     "duration": 0.380137,
     "end_time": "2025-05-01T06:45:21.209438",
     "exception": false,
     "start_time": "2025-05-01T06:45:20.829301",
     "status": "completed"
    },
    "tags": []
   },
   "outputs": [
    {
     "data": {
      "image/png": "[encoded data removed]",
      "text/plain": [
       "<Figure size 1000x250 with 1 Axes>"
      ]
     },
     "metadata": {},
     "output_type": "display_data"
    }
   ],
   "source": [
    "ridge_coeffs = np.zeros((1, X.shape[1]))\n",
    "for m in ridge_trainer.estimators:\n",
    "    ridge_coeffs += m.coef_\n",
    "ridge_coeffs = ridge_coeffs / len(ridge_trainer.estimators)\n",
    "\n",
    "plot_weights(ridge_coeffs, \"Ridge Coefficients\")"
   ]
  },
  {
   "cell_type": "markdown",
   "id": "4da4b710",
   "metadata": {
    "papermill": {
     "duration": 0.025991,
     "end_time": "2025-05-01T06:45:21.263056",
     "exception": false,
     "start_time": "2025-05-01T06:45:21.237065",
     "status": "completed"
    },
    "tags": []
   },
   "source": [
    "# Submission"
   ]
  },
  {
   "cell_type": "code",
   "execution_count": 19,
   "id": "5a9d5332",
   "metadata": {
    "execution": {
     "iopub.execute_input": "2025-05-01T06:45:21.321244Z",
     "iopub.status.busy": "2025-05-01T06:45:21.320817Z",
     "iopub.status.idle": "2025-05-01T06:45:22.010574Z",
     "shell.execute_reply": "2025-05-01T06:45:22.009229Z"
    },
    "papermill": {
     "duration": 0.722244,
     "end_time": "2025-05-01T06:45:22.012739",
     "exception": false,
     "start_time": "2025-05-01T06:45:21.290495",
     "status": "completed"
    },
    "tags": []
   },
   "outputs": [
    {
     "data": {
      "text/html": [
       "<div>\n",
       "<style scoped>\n",
       "    .dataframe tbody tr th:only-of-type {\n",
       "        vertical-align: middle;\n",
       "    }\n",
       "\n",
       "    .dataframe tbody tr th {\n",
       "        vertical-align: top;\n",
       "    }\n",
       "\n",
       "    .dataframe thead th {\n",
       "        text-align: right;\n",
       "    }\n",
       "</style>\n",
       "<table border=\"1\" class=\"dataframe\">\n",
       "  <thead>\n",
       "    <tr style=\"text-align: right;\">\n",
       "      <th></th>\n",
       "      <th>id</th>\n",
       "      <th>Calories</th>\n",
       "    </tr>\n",
       "  </thead>\n",
       "  <tbody>\n",
       "    <tr>\n",
       "      <th>0</th>\n",
       "      <td>750000</td>\n",
       "      <td>27.062124</td>\n",
       "    </tr>\n",
       "    <tr>\n",
       "      <th>1</th>\n",
       "      <td>750001</td>\n",
       "      <td>108.138684</td>\n",
       "    </tr>\n",
       "    <tr>\n",
       "      <th>2</th>\n",
       "      <td>750002</td>\n",
       "      <td>87.352407</td>\n",
       "    </tr>\n",
       "    <tr>\n",
       "      <th>3</th>\n",
       "      <td>750003</td>\n",
       "      <td>125.973259</td>\n",
       "    </tr>\n",
       "    <tr>\n",
       "      <th>4</th>\n",
       "      <td>750004</td>\n",
       "      <td>76.032809</td>\n",
       "    </tr>\n",
       "  </tbody>\n",
       "</table>\n",
       "</div>"
      ],
      "text/plain": [
       "       id    Calories\n",
       "0  750000   27.062124\n",
       "1  750001  108.138684\n",
       "2  750002   87.352407\n",
       "3  750003  125.973259\n",
       "4  750004   76.032809"
      ]
     },
     "execution_count": 19,
     "metadata": {},
     "output_type": "execute_result"
    }
   ],
   "source": [
    "sub = pd.read_csv(CFG.sample_sub_path)\n",
    "sub[CFG.target] = ridge_test_preds\n",
    "sub.to_csv(f\"sub_ridge_{np.mean(scores['Ridge (ensemble)']):.6f}.csv\", index=False)\n",
    "sub.head()"
   ]
  },
  {
   "cell_type": "markdown",
   "id": "a66028e1",
   "metadata": {
    "papermill": {
     "duration": 0.033066,
     "end_time": "2025-05-01T06:45:22.073261",
     "exception": false,
     "start_time": "2025-05-01T06:45:22.040195",
     "status": "completed"
    },
    "tags": []
   },
   "source": [
    "# Results"
   ]
  },
  {
   "cell_type": "code",
   "execution_count": 20,
   "id": "24cd7e6c",
   "metadata": {
    "execution": {
     "iopub.execute_input": "2025-05-01T06:45:22.137643Z",
     "iopub.status.busy": "2025-05-01T06:45:22.136627Z",
     "iopub.status.idle": "2025-05-01T06:45:22.518198Z",
     "shell.execute_reply": "2025-05-01T06:45:22.517198Z"
    },
    "papermill": {
     "duration": 0.413155,
     "end_time": "2025-05-01T06:45:22.520412",
     "exception": false,
     "start_time": "2025-05-01T06:45:22.107257",
     "status": "completed"
    },
    "tags": []
   },
   "outputs": [
    {
     "data": {
      "image/png": "[encoded data removed]",
      "text/plain": [
       "<Figure size 1500x180 with 2 Axes>"
      ]
     },
     "metadata": {},
     "output_type": "display_data"
    }
   ],
   "source": [
    "scores = pd.DataFrame(scores)\n",
    "mean_scores = scores.mean().sort_values(ascending=True)\n",
    "order = scores.mean().sort_values(ascending=True).index.tolist()\n",
    "\n",
    "min_score = mean_scores.min()\n",
    "max_score = mean_scores.max()\n",
    "padding = (max_score - min_score) * 0.5\n",
    "lower_limit = min_score - padding\n",
    "upper_limit = max_score + padding\n",
    "\n",
    "fig, axs = plt.subplots(1, 2, figsize=(15, scores.shape[1] * 0.3))\n",
    "\n",
    "boxplot = sns.boxplot(data=scores, order=order, ax=axs[0], orient=\"h\", color=\"grey\")\n",
    "axs[0].set_title(f\"Fold {CFG.metric.__name__}\")\n",
    "axs[0].set_xlabel(\"\")\n",
    "axs[0].set_ylabel(\"\")\n",
    "\n",
    "barplot = sns.barplot(x=mean_scores.values, y=mean_scores.index, ax=axs[1], color=\"grey\")\n",
    "axs[1].set_title(f\"Average {CFG.metric.__name__}\")\n",
    "axs[1].set_xlabel(\"\")\n",
    "axs[1].set_xlim(left=lower_limit, right=upper_limit)\n",
    "axs[1].set_ylabel(\"\")\n",
    "\n",
    "for i, (score, model) in enumerate(zip(mean_scores.values, mean_scores.index)):\n",
    "    color = \"cyan\" if \"ensemble\" in model.lower() else \"grey\"\n",
    "    barplot.patches[i].set_facecolor(color)\n",
    "    boxplot.patches[i].set_facecolor(color)\n",
    "    barplot.text(score, i, round(score, 6), va=\"center\")\n",
    "\n",
    "plt.tight_layout()\n",
    "plt.show()"
   ]
  }
 ],
 "metadata": {
  "kaggle": {
   "accelerator": "none",
   "dataSources": [
    {
     "databundleVersionId": 11893428,
     "sourceId": 91716,
     "sourceType": "competition"
    }
   ],
   "dockerImageVersionId": 31012,
   "isGpuEnabled": false,
   "isInternetEnabled": true,
   "language": "python",
   "sourceType": "notebook"
  },
  "kernelspec": {
   "display_name": "Python 3",
   "language": "python",
   "name": "python3"
  },
  "language_info": {
   "codemirror_mode": {
    "name": "ipython",
    "version": 3
   },
   "file_extension": ".py",
   "mimetype": "text/x-python",
   "name": "python",
   "nbconvert_exporter": "python",
   "pygments_lexer": "ipython3",
   "version": "3.11.11"
  },
  "papermill": {
   "default_parameters": {},
   "duration": 3977.580397,
   "end_time": "2025-05-01T06:45:25.322559",
   "environment_variables": {},
   "exception": null,
   "input_path": "__notebook__.ipynb",
   "output_path": "__notebook__.ipynb",
   "parameters": {},
   "start_time": "2025-05-01T05:39:07.742162",
   "version": "2.6.0"
  }
 },
 "nbformat": 4,
 "nbformat_minor": 5
}
