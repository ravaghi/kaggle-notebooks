{
 "cells": [
  {
   "cell_type": "code",
   "execution_count": 1,
   "id": "910ec697",
   "metadata": {
    "_kg_hide-output": true,
    "execution": {
     "iopub.execute_input": "2025-05-17T02:08:33.453888Z",
     "iopub.status.busy": "2025-05-17T02:08:33.453415Z",
     "iopub.status.idle": "2025-05-17T02:08:45.707980Z",
     "shell.execute_reply": "2025-05-17T02:08:45.706967Z"
    },
    "papermill": {
     "duration": 12.264784,
     "end_time": "2025-05-17T02:08:45.709745",
     "exception": false,
     "start_time": "2025-05-17T02:08:33.444961",
     "status": "completed"
    },
    "scrolled": true,
    "tags": []
   },
   "outputs": [
    {
     "name": "stdout",
     "output_type": "stream",
     "text": [
      "Requirement already satisfied: ydf in /usr/local/lib/python3.11/dist-packages (0.9.0)\r\n",
      "Collecting koolbox\r\n",
      "  Downloading koolbox-0.1.3-py3-none-any.whl.metadata (3.4 kB)\r\n",
      "Collecting scikit-learn==1.5.2\r\n",
      "  Downloading scikit_learn-1.5.2-cp311-cp311-manylinux_2_17_x86_64.manylinux2014_x86_64.whl.metadata (13 kB)\r\n",
      "Requirement already satisfied: numpy>=1.19.5 in /usr/local/lib/python3.11/dist-packages (from scikit-learn==1.5.2) (1.26.4)\r\n",
      "Requirement already satisfied: scipy>=1.6.0 in /usr/local/lib/python3.11/dist-packages (from scikit-learn==1.5.2) (1.15.2)\r\n",
      "Requirement already satisfied: joblib>=1.2.0 in /usr/local/lib/python3.11/dist-packages (from scikit-learn==1.5.2) (1.4.2)\r\n",
      "Requirement already satisfied: threadpoolctl>=3.1.0 in /usr/local/lib/python3.11/dist-packages (from scikit-learn==1.5.2) (3.6.0)\r\n",
      "Requirement already satisfied: absl_py in /usr/local/lib/python3.11/dist-packages (from ydf) (1.4.0)\r\n",
      "Requirement already satisfied: protobuf>=3.14 in /usr/local/lib/python3.11/dist-packages (from ydf) (3.20.3)\r\n",
      "Requirement already satisfied: optuna>=4.2.1 in /usr/local/lib/python3.11/dist-packages (from koolbox) (4.2.1)\r\n",
      "Requirement already satisfied: pandas>=2.2.3 in /usr/local/lib/python3.11/dist-packages (from koolbox) (2.2.3)\r\n",
      "Requirement already satisfied: mkl_fft in /usr/local/lib/python3.11/dist-packages (from numpy>=1.19.5->scikit-learn==1.5.2) (1.3.8)\r\n",
      "Requirement already satisfied: mkl_random in /usr/local/lib/python3.11/dist-packages (from numpy>=1.19.5->scikit-learn==1.5.2) (1.2.4)\r\n",
      "Requirement already satisfied: mkl_umath in /usr/local/lib/python3.11/dist-packages (from numpy>=1.19.5->scikit-learn==1.5.2) (0.1.1)\r\n",
      "Requirement already satisfied: mkl in /usr/local/lib/python3.11/dist-packages (from numpy>=1.19.5->scikit-learn==1.5.2) (2025.1.0)\r\n",
      "Requirement already satisfied: tbb4py in /usr/local/lib/python3.11/dist-packages (from numpy>=1.19.5->scikit-learn==1.5.2) (2022.1.0)\r\n",
      "Requirement already satisfied: mkl-service in /usr/local/lib/python3.11/dist-packages (from numpy>=1.19.5->scikit-learn==1.5.2) (2.4.1)\r\n",
      "Requirement already satisfied: alembic>=1.5.0 in /usr/local/lib/python3.11/dist-packages (from optuna>=4.2.1->koolbox) (1.15.2)\r\n",
      "Requirement already satisfied: colorlog in /usr/local/lib/python3.11/dist-packages (from optuna>=4.2.1->koolbox) (6.9.0)\r\n",
      "Requirement already satisfied: packaging>=20.0 in /usr/local/lib/python3.11/dist-packages (from optuna>=4.2.1->koolbox) (24.2)\r\n",
      "Requirement already satisfied: sqlalchemy>=1.4.2 in /usr/local/lib/python3.11/dist-packages (from optuna>=4.2.1->koolbox) (2.0.38)\r\n",
      "Requirement already satisfied: tqdm in /usr/local/lib/python3.11/dist-packages (from optuna>=4.2.1->koolbox) (4.67.1)\r\n",
      "Requirement already satisfied: PyYAML in /usr/local/lib/python3.11/dist-packages (from optuna>=4.2.1->koolbox) (6.0.2)\r\n",
      "Requirement already satisfied: python-dateutil>=2.8.2 in /usr/local/lib/python3.11/dist-packages (from pandas>=2.2.3->koolbox) (2.9.0.post0)\r\n",
      "Requirement already satisfied: pytz>=2020.1 in /usr/local/lib/python3.11/dist-packages (from pandas>=2.2.3->koolbox) (2025.2)\r\n",
      "Requirement already satisfied: tzdata>=2022.7 in /usr/local/lib/python3.11/dist-packages (from pandas>=2.2.3->koolbox) (2025.2)\r\n",
      "Requirement already satisfied: Mako in /usr/local/lib/python3.11/dist-packages (from alembic>=1.5.0->optuna>=4.2.1->koolbox) (1.3.9)\r\n",
      "Requirement already satisfied: typing-extensions>=4.12 in /usr/local/lib/python3.11/dist-packages (from alembic>=1.5.0->optuna>=4.2.1->koolbox) (4.13.1)\r\n",
      "Requirement already satisfied: six>=1.5 in /usr/local/lib/python3.11/dist-packages (from python-dateutil>=2.8.2->pandas>=2.2.3->koolbox) (1.17.0)\r\n",
      "Requirement already satisfied: greenlet!=0.4.17 in /usr/local/lib/python3.11/dist-packages (from sqlalchemy>=1.4.2->optuna>=4.2.1->koolbox) (3.1.1)\r\n",
      "Requirement already satisfied: intel-openmp<2026,>=2024 in /usr/local/lib/python3.11/dist-packages (from mkl->numpy>=1.19.5->scikit-learn==1.5.2) (2024.2.0)\r\n",
      "Requirement already satisfied: tbb==2022.* in /usr/local/lib/python3.11/dist-packages (from mkl->numpy>=1.19.5->scikit-learn==1.5.2) (2022.1.0)\r\n",
      "Requirement already satisfied: tcmlib==1.* in /usr/local/lib/python3.11/dist-packages (from tbb==2022.*->mkl->numpy>=1.19.5->scikit-learn==1.5.2) (1.2.0)\r\n",
      "Requirement already satisfied: intel-cmplr-lib-rt in /usr/local/lib/python3.11/dist-packages (from mkl_umath->numpy>=1.19.5->scikit-learn==1.5.2) (2024.2.0)\r\n",
      "Requirement already satisfied: intel-cmplr-lib-ur==2024.2.0 in /usr/local/lib/python3.11/dist-packages (from intel-openmp<2026,>=2024->mkl->numpy>=1.19.5->scikit-learn==1.5.2) (2024.2.0)\r\n",
      "Requirement already satisfied: MarkupSafe>=0.9.2 in /usr/local/lib/python3.11/dist-packages (from Mako->alembic>=1.5.0->optuna>=4.2.1->koolbox) (3.0.2)\r\n",
      "Downloading scikit_learn-1.5.2-cp311-cp311-manylinux_2_17_x86_64.manylinux2014_x86_64.whl (13.3 MB)\r\n",
      "\u001b[2K   \u001b[90m━━━━━━━━━━━━━━━━━━━━━━━━━━━━━━━━━━━━━━━━\u001b[0m \u001b[32m13.3/13.3 MB\u001b[0m \u001b[31m79.2 MB/s\u001b[0m eta \u001b[36m0:00:00\u001b[0m\r\n",
      "\u001b[?25hDownloading koolbox-0.1.3-py3-none-any.whl (18 kB)\r\n",
      "Installing collected packages: scikit-learn, koolbox\r\n",
      "  Attempting uninstall: scikit-learn\r\n",
      "    Found existing installation: scikit-learn 1.2.2\r\n",
      "    Uninstalling scikit-learn-1.2.2:\r\n",
      "      Successfully uninstalled scikit-learn-1.2.2\r\n",
      "\u001b[31mERROR: pip's dependency resolver does not currently take into account all the packages that are installed. This behaviour is the source of the following dependency conflicts.\r\n",
      "bigframes 1.36.0 requires rich<14,>=12.4.4, but you have rich 14.0.0 which is incompatible.\u001b[0m\u001b[31m\r\n",
      "\u001b[0mSuccessfully installed koolbox-0.1.3 scikit-learn-1.5.2\r\n",
      "Collecting scikeras\r\n",
      "  Downloading scikeras-0.13.0-py3-none-any.whl.metadata (3.1 kB)\r\n",
      "Downloading scikeras-0.13.0-py3-none-any.whl (26 kB)\r\n",
      "Installing collected packages: scikeras\r\n",
      "Successfully installed scikeras-0.13.0\r\n"
     ]
    }
   ],
   "source": [
    "!pip install ydf koolbox scikit-learn==1.5.2 && pip install --no-deps scikeras"
   ]
  },
  {
   "cell_type": "markdown",
   "id": "17f45b29",
   "metadata": {
    "papermill": {
     "duration": 0.008413,
     "end_time": "2025-05-17T02:08:45.726065",
     "exception": false,
     "start_time": "2025-05-17T02:08:45.717652",
     "status": "completed"
    },
    "tags": []
   },
   "source": [
    "# Imports and configs"
   ]
  },
  {
   "cell_type": "code",
   "execution_count": 2,
   "id": "4dd1ccba",
   "metadata": {
    "_kg_hide-output": true,
    "execution": {
     "iopub.execute_input": "2025-05-17T02:08:45.743048Z",
     "iopub.status.busy": "2025-05-17T02:08:45.742663Z",
     "iopub.status.idle": "2025-05-17T02:09:14.544179Z",
     "shell.execute_reply": "2025-05-17T02:09:14.542927Z"
    },
    "papermill": {
     "duration": 28.812415,
     "end_time": "2025-05-17T02:09:14.546047",
     "exception": false,
     "start_time": "2025-05-17T02:08:45.733632",
     "status": "completed"
    },
    "tags": []
   },
   "outputs": [
    {
     "name": "stderr",
     "output_type": "stream",
     "text": [
      "2025-05-17 02:08:52.144304: E external/local_xla/xla/stream_executor/cuda/cuda_fft.cc:477] Unable to register cuFFT factory: Attempting to register factory for plugin cuFFT when one has already been registered\n",
      "WARNING: All log messages before absl::InitializeLog() is called are written to STDERR\n",
      "E0000 00:00:1747447732.434957      13 cuda_dnn.cc:8310] Unable to register cuDNN factory: Attempting to register factory for plugin cuDNN when one has already been registered\n",
      "E0000 00:00:1747447732.515122      13 cuda_blas.cc:1418] Unable to register cuBLAS factory: Attempting to register factory for plugin cuBLAS when one has already been registered\n"
     ]
    }
   ],
   "source": [
    "from sklearn.ensemble import HistGradientBoostingRegressor, BaggingRegressor\n",
    "from sklearn.preprocessing import StandardScaler, OneHotEncoder\n",
    "from sklearn.feature_selection import mutual_info_regression\n",
    "from sklearn.base import BaseEstimator, RegressorMixin\n",
    "from sklearn.metrics import root_mean_squared_error\n",
    "from sklearn.compose import ColumnTransformer\n",
    "from sklearn.pipeline import make_pipeline\n",
    "from sklearn.model_selection import KFold\n",
    "from sklearn.linear_model import Ridge\n",
    "from scikeras.wrappers import KerasRegressor\n",
    "from lightgbm import LGBMRegressor, early_stopping, log_evaluation\n",
    "from ydf import GradientBoostedTreesLearner\n",
    "from catboost import CatBoostRegressor\n",
    "from xgboost import XGBRegressor\n",
    "from koolbox import Trainer\n",
    "import matplotlib.pyplot as plt\n",
    "import contextlib, io\n",
    "import seaborn as sns\n",
    "import pandas as pd\n",
    "import numpy as np\n",
    "import warnings\n",
    "import joblib\n",
    "import shutil\n",
    "import optuna\n",
    "import keras\n",
    "import json\n",
    "import glob\n",
    "import ydf\n",
    "\n",
    "ydf.verbose(2)\n",
    "warnings.filterwarnings(\"ignore\")"
   ]
  },
  {
   "cell_type": "code",
   "execution_count": 3,
   "id": "227fe014",
   "metadata": {
    "execution": {
     "iopub.execute_input": "2025-05-17T02:09:14.562597Z",
     "iopub.status.busy": "2025-05-17T02:09:14.561884Z",
     "iopub.status.idle": "2025-05-17T02:09:14.567818Z",
     "shell.execute_reply": "2025-05-17T02:09:14.566851Z"
    },
    "papermill": {
     "duration": 0.015739,
     "end_time": "2025-05-17T02:09:14.569381",
     "exception": false,
     "start_time": "2025-05-17T02:09:14.553642",
     "status": "completed"
    },
    "tags": []
   },
   "outputs": [],
   "source": [
    "class CFG:\n",
    "    train_path = \"/kaggle/input/playground-series-s5e5/train.csv\"\n",
    "    test_path = \"/kaggle/input/playground-series-s5e5/test.csv\"\n",
    "    sample_sub_path = \"/kaggle/input/playground-series-s5e5/sample_submission.csv\"\n",
    "    \n",
    "    original_path = \"/kaggle/input/calories-burnt-prediction/calories.csv\"\n",
    "\n",
    "    metric = root_mean_squared_error\n",
    "    target = \"Calories\"\n",
    "    n_folds = 5\n",
    "    seed = 42\n",
    "\n",
    "    cv = KFold(n_splits=n_folds, random_state=seed, shuffle=True)\n",
    "\n",
    "    run_optuna = True\n",
    "    n_optuna_trials = 250"
   ]
  },
  {
   "cell_type": "markdown",
   "id": "b61a258e",
   "metadata": {
    "papermill": {
     "duration": 0.007279,
     "end_time": "2025-05-17T02:09:14.584559",
     "exception": false,
     "start_time": "2025-05-17T02:09:14.577280",
     "status": "completed"
    },
    "tags": []
   },
   "source": [
    "# Data loading and preprocessing"
   ]
  },
  {
   "cell_type": "code",
   "execution_count": 4,
   "id": "947c036c",
   "metadata": {
    "execution": {
     "iopub.execute_input": "2025-05-17T02:09:14.601561Z",
     "iopub.status.busy": "2025-05-17T02:09:14.600699Z",
     "iopub.status.idle": "2025-05-17T02:09:15.977045Z",
     "shell.execute_reply": "2025-05-17T02:09:15.976129Z"
    },
    "papermill": {
     "duration": 1.386753,
     "end_time": "2025-05-17T02:09:15.978844",
     "exception": false,
     "start_time": "2025-05-17T02:09:14.592091",
     "status": "completed"
    },
    "tags": []
   },
   "outputs": [],
   "source": [
    "train = pd.read_csv(CFG.train_path, index_col=\"id\")\n",
    "test = pd.read_csv(CFG.test_path, index_col=\"id\")\n",
    "\n",
    "train[\"Sex\"] = train[\"Sex\"].map({\"male\": 0, \"female\": 1})\n",
    "test[\"Sex\"] = test[\"Sex\"].map({\"male\": 0, \"female\": 1})\n",
    "\n",
    "X = train.drop(CFG.target, axis=1)\n",
    "y = np.log1p(train[CFG.target])\n",
    "X_test = test"
   ]
  },
  {
   "cell_type": "code",
   "execution_count": 5,
   "id": "5e5c071e",
   "metadata": {
    "execution": {
     "iopub.execute_input": "2025-05-17T02:09:15.996044Z",
     "iopub.status.busy": "2025-05-17T02:09:15.995741Z",
     "iopub.status.idle": "2025-05-17T02:09:16.030699Z",
     "shell.execute_reply": "2025-05-17T02:09:16.029722Z"
    },
    "papermill": {
     "duration": 0.045246,
     "end_time": "2025-05-17T02:09:16.032419",
     "exception": false,
     "start_time": "2025-05-17T02:09:15.987173",
     "status": "completed"
    },
    "tags": []
   },
   "outputs": [],
   "source": [
    "original = pd.read_csv(CFG.original_path, index_col=\"User_ID\")\n",
    "original[\"Gender\"] = original[\"Gender\"].map({\"male\": 0, \"female\": 1})\n",
    "original = original.rename(columns={\"Gender\": \"Sex\"})\n",
    "\n",
    "X_original = original.drop(CFG.target, axis=1)\n",
    "y_original = np.log1p(original[CFG.target])"
   ]
  },
  {
   "cell_type": "code",
   "execution_count": 6,
   "id": "6148d9a9",
   "metadata": {
    "execution": {
     "iopub.execute_input": "2025-05-17T02:09:16.049473Z",
     "iopub.status.busy": "2025-05-17T02:09:16.048599Z",
     "iopub.status.idle": "2025-05-17T02:10:47.800657Z",
     "shell.execute_reply": "2025-05-17T02:10:47.799706Z"
    },
    "papermill": {
     "duration": 91.769002,
     "end_time": "2025-05-17T02:10:47.809088",
     "exception": false,
     "start_time": "2025-05-17T02:09:16.040086",
     "status": "completed"
    },
    "tags": []
   },
   "outputs": [
    {
     "data": {
      "text/html": [
       "<style type=\"text/css\">\n",
       "#T_a726a_row0_col0 {\n",
       "  width: 10em;\n",
       "  background: linear-gradient(90deg, #006837 100.0%, transparent 100.0%);\n",
       "}\n",
       "#T_a726a_row1_col0 {\n",
       "  width: 10em;\n",
       "  background: linear-gradient(90deg, #afdd70 68.3%, transparent 68.3%);\n",
       "}\n",
       "#T_a726a_row2_col0 {\n",
       "  width: 10em;\n",
       "  background: linear-gradient(90deg, #daf08d 59.6%, transparent 59.6%);\n",
       "}\n",
       "#T_a726a_row3_col0 {\n",
       "  width: 10em;\n",
       "  background: linear-gradient(90deg, #c21c27 6.0%, transparent 6.0%);\n",
       "}\n",
       "#T_a726a_row4_col0, #T_a726a_row5_col0 {\n",
       "  width: 10em;\n",
       "  background: linear-gradient(90deg, #b50f26 3.4%, transparent 3.4%);\n",
       "}\n",
       "#T_a726a_row6_col0 {\n",
       "  width: 10em;\n",
       "  background: linear-gradient(90deg, #a90426 1.0%, transparent 1.0%);\n",
       "}\n",
       "</style>\n",
       "<table id=\"T_a726a\">\n",
       "  <thead>\n",
       "    <tr>\n",
       "      <th class=\"blank level0\" >&nbsp;</th>\n",
       "      <th id=\"T_a726a_level0_col0\" class=\"col_heading level0 col0\" >Mutual Information</th>\n",
       "    </tr>\n",
       "  </thead>\n",
       "  <tbody>\n",
       "    <tr>\n",
       "      <th id=\"T_a726a_level0_row0\" class=\"row_heading level0 row0\" >Duration</th>\n",
       "      <td id=\"T_a726a_row0_col0\" class=\"data row0 col0\" >1.640567</td>\n",
       "    </tr>\n",
       "    <tr>\n",
       "      <th id=\"T_a726a_level0_row1\" class=\"row_heading level0 row1\" >Body_Temp</th>\n",
       "      <td id=\"T_a726a_row1_col0\" class=\"data row1 col0\" >1.120766</td>\n",
       "    </tr>\n",
       "    <tr>\n",
       "      <th id=\"T_a726a_level0_row2\" class=\"row_heading level0 row2\" >Heart_Rate</th>\n",
       "      <td id=\"T_a726a_row2_col0\" class=\"data row2 col0\" >0.976966</td>\n",
       "    </tr>\n",
       "    <tr>\n",
       "      <th id=\"T_a726a_level0_row3\" class=\"row_heading level0 row3\" >Age</th>\n",
       "      <td id=\"T_a726a_row3_col0\" class=\"data row3 col0\" >0.098387</td>\n",
       "    </tr>\n",
       "    <tr>\n",
       "      <th id=\"T_a726a_level0_row4\" class=\"row_heading level0 row4\" >Height</th>\n",
       "      <td id=\"T_a726a_row4_col0\" class=\"data row4 col0\" >0.056501</td>\n",
       "    </tr>\n",
       "    <tr>\n",
       "      <th id=\"T_a726a_level0_row5\" class=\"row_heading level0 row5\" >Weight</th>\n",
       "      <td id=\"T_a726a_row5_col0\" class=\"data row5 col0\" >0.055709</td>\n",
       "    </tr>\n",
       "    <tr>\n",
       "      <th id=\"T_a726a_level0_row6\" class=\"row_heading level0 row6\" >Sex</th>\n",
       "      <td id=\"T_a726a_row6_col0\" class=\"data row6 col0\" >0.017174</td>\n",
       "    </tr>\n",
       "  </tbody>\n",
       "</table>\n"
      ],
      "text/plain": [
       "<pandas.io.formats.style.Styler at 0x7ba2f63981d0>"
      ]
     },
     "execution_count": 6,
     "metadata": {},
     "output_type": "execute_result"
    }
   ],
   "source": [
    "mutual_info = mutual_info_regression(X, y, random_state=CFG.seed)\n",
    "\n",
    "mutual_info = pd.Series(mutual_info)\n",
    "mutual_info.index = X.columns\n",
    "mutual_info = pd.DataFrame(mutual_info.sort_values(ascending=False), columns=['Mutual Information'])\n",
    "mutual_info.style.bar(subset=['Mutual Information'], cmap='RdYlGn')"
   ]
  },
  {
   "cell_type": "code",
   "execution_count": 7,
   "id": "3ae0e748",
   "metadata": {
    "execution": {
     "iopub.execute_input": "2025-05-17T02:10:47.826654Z",
     "iopub.status.busy": "2025-05-17T02:10:47.825955Z",
     "iopub.status.idle": "2025-05-17T02:10:48.547018Z",
     "shell.execute_reply": "2025-05-17T02:10:48.546128Z"
    },
    "papermill": {
     "duration": 0.731681,
     "end_time": "2025-05-17T02:10:48.548696",
     "exception": false,
     "start_time": "2025-05-17T02:10:47.817015",
     "status": "completed"
    },
    "tags": []
   },
   "outputs": [
    {
     "data": {
      "text/html": [
       "<style type=\"text/css\">\n",
       "#T_ab445_row0_col0 {\n",
       "  width: 10em;\n",
       "  background: linear-gradient(90deg, #006837 100.0%, transparent 100.0%);\n",
       "}\n",
       "#T_ab445_row1_col0 {\n",
       "  width: 10em;\n",
       "  background: linear-gradient(90deg, #bbe278 66.0%, transparent 66.0%);\n",
       "}\n",
       "#T_ab445_row2_col0 {\n",
       "  width: 10em;\n",
       "  background: linear-gradient(90deg, #e0f295 57.9%, transparent 57.9%);\n",
       "}\n",
       "#T_ab445_row3_col0 {\n",
       "  width: 10em;\n",
       "  background: linear-gradient(90deg, #b10b26 2.4%, transparent 2.4%);\n",
       "}\n",
       "#T_ab445_row4_col0 {\n",
       "  width: 10em;\n",
       "  background: linear-gradient(90deg, #ab0626 1.4%, transparent 1.4%);\n",
       "}\n",
       "#T_ab445_row5_col0 {\n",
       "  width: 10em;\n",
       "  background: linear-gradient(90deg, #a90426 1.1%, transparent 1.1%);\n",
       "}\n",
       "#T_ab445_row6_col0 {\n",
       "  width: 10em;\n",
       "  background: linear-gradient(90deg, #a50026 0.3%, transparent 0.3%);\n",
       "}\n",
       "</style>\n",
       "<table id=\"T_ab445\">\n",
       "  <thead>\n",
       "    <tr>\n",
       "      <th class=\"blank level0\" >&nbsp;</th>\n",
       "      <th id=\"T_ab445_level0_col0\" class=\"col_heading level0 col0\" >Mutual Information</th>\n",
       "    </tr>\n",
       "  </thead>\n",
       "  <tbody>\n",
       "    <tr>\n",
       "      <th id=\"T_ab445_level0_row0\" class=\"row_heading level0 row0\" >Duration</th>\n",
       "      <td id=\"T_ab445_row0_col0\" class=\"data row0 col0\" >1.494968</td>\n",
       "    </tr>\n",
       "    <tr>\n",
       "      <th id=\"T_ab445_level0_row1\" class=\"row_heading level0 row1\" >Body_Temp</th>\n",
       "      <td id=\"T_ab445_row1_col0\" class=\"data row1 col0\" >0.986528</td>\n",
       "    </tr>\n",
       "    <tr>\n",
       "      <th id=\"T_ab445_level0_row2\" class=\"row_heading level0 row2\" >Heart_Rate</th>\n",
       "      <td id=\"T_ab445_row2_col0\" class=\"data row2 col0\" >0.866243</td>\n",
       "    </tr>\n",
       "    <tr>\n",
       "      <th id=\"T_ab445_level0_row3\" class=\"row_heading level0 row3\" >Age</th>\n",
       "      <td id=\"T_ab445_row3_col0\" class=\"data row3 col0\" >0.035208</td>\n",
       "    </tr>\n",
       "    <tr>\n",
       "      <th id=\"T_ab445_level0_row4\" class=\"row_heading level0 row4\" >Weight</th>\n",
       "      <td id=\"T_ab445_row4_col0\" class=\"data row4 col0\" >0.020520</td>\n",
       "    </tr>\n",
       "    <tr>\n",
       "      <th id=\"T_ab445_level0_row5\" class=\"row_heading level0 row5\" >Sex</th>\n",
       "      <td id=\"T_ab445_row5_col0\" class=\"data row5 col0\" >0.016184</td>\n",
       "    </tr>\n",
       "    <tr>\n",
       "      <th id=\"T_ab445_level0_row6\" class=\"row_heading level0 row6\" >Height</th>\n",
       "      <td id=\"T_ab445_row6_col0\" class=\"data row6 col0\" >0.005213</td>\n",
       "    </tr>\n",
       "  </tbody>\n",
       "</table>\n"
      ],
      "text/plain": [
       "<pandas.io.formats.style.Styler at 0x7ba39019bcd0>"
      ]
     },
     "execution_count": 7,
     "metadata": {},
     "output_type": "execute_result"
    }
   ],
   "source": [
    "mutual_info = mutual_info_regression(X_original, y_original, random_state=CFG.seed)\n",
    "\n",
    "mutual_info = pd.Series(mutual_info)\n",
    "mutual_info.index = X_original.columns\n",
    "mutual_info = pd.DataFrame(mutual_info.sort_values(ascending=False), columns=['Mutual Information'])\n",
    "mutual_info.style.bar(subset=['Mutual Information'], cmap='RdYlGn')"
   ]
  },
  {
   "cell_type": "code",
   "execution_count": 8,
   "id": "809fdc10",
   "metadata": {
    "execution": {
     "iopub.execute_input": "2025-05-17T02:10:48.566529Z",
     "iopub.status.busy": "2025-05-17T02:10:48.566191Z",
     "iopub.status.idle": "2025-05-17T02:10:49.809253Z",
     "shell.execute_reply": "2025-05-17T02:10:49.808313Z"
    },
    "papermill": {
     "duration": 1.254145,
     "end_time": "2025-05-17T02:10:49.810956",
     "exception": false,
     "start_time": "2025-05-17T02:10:48.556811",
     "status": "completed"
    },
    "tags": []
   },
   "outputs": [
    {
     "data": {
      "image/png": "[encoded data removed]",
      "text/plain": [
       "<Figure size 1600x600 with 4 Axes>"
      ]
     },
     "metadata": {},
     "output_type": "display_data"
    }
   ],
   "source": [
    "sns.set_style(\"white\")\n",
    "fig, axes = plt.subplots(1, 2, figsize=(16, 6))\n",
    "\n",
    "corr_train = train.corr()\n",
    "mask_train = np.triu(np.ones_like(corr_train, dtype=bool), k=1)\n",
    "sns.heatmap(\n",
    "    data=corr_train,\n",
    "    annot=True,\n",
    "    fmt='.2f',\n",
    "    mask=mask_train,\n",
    "    square=True,\n",
    "    cmap='coolwarm',\n",
    "    cbar_kws={'shrink': .7, 'format': '%.2f'},   \n",
    "    annot_kws={'size': 8},\n",
    "    center=0,\n",
    "    ax=axes[0]\n",
    ")\n",
    "axes[0].set_title('Train')\n",
    "axes[0].tick_params(axis='both', which='major', labelsize=8)\n",
    "\n",
    "corr_orig = original.corr()\n",
    "mask_orig = np.triu(np.ones_like(corr_orig, dtype=bool), k=1)\n",
    "sns.heatmap(\n",
    "    data=corr_orig,\n",
    "    annot=True,\n",
    "    fmt='.2f',\n",
    "    mask=mask_orig,\n",
    "    square=True,\n",
    "    cmap='coolwarm',\n",
    "    cbar_kws={'shrink': .7, 'format': '%.2f'},   \n",
    "    annot_kws={'size': 8},\n",
    "    center=0,\n",
    "    ax=axes[1]\n",
    ")\n",
    "axes[1].set_title('Original')\n",
    "axes[1].tick_params(axis='both', which='major', labelsize=8)\n",
    "\n",
    "plt.tight_layout()\n",
    "plt.show()"
   ]
  },
  {
   "cell_type": "markdown",
   "id": "e4a07529",
   "metadata": {
    "papermill": {
     "duration": 0.009483,
     "end_time": "2025-05-17T02:10:49.830101",
     "exception": false,
     "start_time": "2025-05-17T02:10:49.820618",
     "status": "completed"
    },
    "tags": []
   },
   "source": [
    "# Training base models"
   ]
  },
  {
   "cell_type": "code",
   "execution_count": 9,
   "id": "8871f68d",
   "metadata": {
    "_kg_hide-input": true,
    "_kg_hide-output": true,
    "execution": {
     "iopub.execute_input": "2025-05-17T02:10:49.849635Z",
     "iopub.status.busy": "2025-05-17T02:10:49.849308Z",
     "iopub.status.idle": "2025-05-17T02:10:49.859005Z",
     "shell.execute_reply": "2025-05-17T02:10:49.858101Z"
    },
    "papermill": {
     "duration": 0.021498,
     "end_time": "2025-05-17T02:10:49.860679",
     "exception": false,
     "start_time": "2025-05-17T02:10:49.839181",
     "status": "completed"
    },
    "tags": []
   },
   "outputs": [],
   "source": [
    "histgb_params = {\n",
    "    \"l2_regularization\": 10.412017522533768,\n",
    "    \"learning_rate\": 0.011702680619474444,\n",
    "    \"max_depth\": 59,\n",
    "    \"max_features\": 0.30616140080552673,\n",
    "    \"max_iter\": 4454,\n",
    "    \"max_leaf_nodes\": 385,\n",
    "    \"min_samples_leaf\": 50,\n",
    "    \"random_state\": 42\n",
    "}\n",
    "\n",
    "lgbm_params = {\n",
    "    \"boosting_type\": \"gbdt\",\n",
    "    \"colsample_bytree\": 0.8213924491907012,\n",
    "    \"learning_rate\": 0.059976685297931195,\n",
    "    \"min_child_samples\": 10,\n",
    "    \"min_child_weight\": 0.5425237767880097,\n",
    "    \"n_estimators\": 50000,\n",
    "    \"n_jobs\": -1,\n",
    "    \"num_leaves\": 89,\n",
    "    \"random_state\": 42,\n",
    "    \"reg_alpha\": 2.0325709613371545,\n",
    "    \"reg_lambda\": 87.27971117911044,\n",
    "    \"subsample\": 0.6452823633939004,\n",
    "    \"verbose\": -1\n",
    "}\n",
    "\n",
    "lgbm_goss_params = {\n",
    "    \"boosting_type\": \"goss\",\n",
    "    \"colsample_bytree\": 0.9068724002629094,\n",
    "    \"learning_rate\": 0.06459027654473874,\n",
    "    \"min_child_samples\": 39,\n",
    "    \"min_child_weight\": 0.5337673729810578,\n",
    "    \"n_estimators\": 50000,\n",
    "    \"n_jobs\": -1,\n",
    "    \"num_leaves\": 13,\n",
    "    \"random_state\": 42,\n",
    "    \"reg_alpha\": 1.603969498256519,\n",
    "    \"reg_lambda\": 10.806488455621444,\n",
    "    \"subsample\": 0.5966412222358356,\n",
    "    \"verbose\": -1\n",
    "}\n",
    "\n",
    "xgb_params = {\n",
    "    \"colsample_bylevel\": 0.8606487417581108,\n",
    "    \"colsample_bynode\": 0.9410596660335436,\n",
    "    \"colsample_bytree\": 0.9407540036296737,\n",
    "    \"early_stopping_rounds\": 100,\n",
    "    \"eval_metric\": \"rmse\",\n",
    "    \"gamma\": 0.023260595738991977,\n",
    "    \"learning_rate\": 0.03669372905801298,\n",
    "    \"max_depth\": 11,\n",
    "    \"max_leaves\": 51,\n",
    "    \"min_child_weight\": 96,\n",
    "    \"n_estimators\": 50000,\n",
    "    \"n_jobs\": -1,\n",
    "    \"random_state\": 42,\n",
    "    \"reg_alpha\": 2.953205886504917,\n",
    "    \"reg_lambda\": 67.64147033446291,\n",
    "    \"subsample\": 0.6973241930754311,\n",
    "    \"verbosity\": 0\n",
    "}\n",
    "\n",
    "cb_params = {\n",
    "    \"border_count\": 88,\n",
    "    \"colsample_bylevel\": 0.7903437608890396,\n",
    "    \"depth\": 8,\n",
    "    \"eval_metric\": \"RMSE\",\n",
    "    \"iterations\": 50000,\n",
    "    \"l2_leaf_reg\": 6.065104074215131,\n",
    "    \"learning_rate\": 0.030946464122148992,\n",
    "    \"min_child_samples\": 138,\n",
    "    \"random_state\": 42,\n",
    "    \"random_strength\": 0.035251008593976785,\n",
    "    \"verbose\": False\n",
    "}\n",
    "\n",
    "ydf_params = {\n",
    "    \"num_trees\": 1000,\n",
    "    \"max_depth\": 8\n",
    "}"
   ]
  },
  {
   "cell_type": "code",
   "execution_count": 10,
   "id": "d8a89d2f",
   "metadata": {
    "execution": {
     "iopub.execute_input": "2025-05-17T02:10:49.881285Z",
     "iopub.status.busy": "2025-05-17T02:10:49.880761Z",
     "iopub.status.idle": "2025-05-17T02:10:49.885489Z",
     "shell.execute_reply": "2025-05-17T02:10:49.884307Z"
    },
    "papermill": {
     "duration": 0.016994,
     "end_time": "2025-05-17T02:10:49.887168",
     "exception": false,
     "start_time": "2025-05-17T02:10:49.870174",
     "status": "completed"
    },
    "tags": []
   },
   "outputs": [],
   "source": [
    "scores = {}\n",
    "oof_preds = {}\n",
    "test_preds = {}"
   ]
  },
  {
   "cell_type": "markdown",
   "id": "dbfe6d89",
   "metadata": {
    "papermill": {
     "duration": 0.008915,
     "end_time": "2025-05-17T02:10:49.905455",
     "exception": false,
     "start_time": "2025-05-17T02:10:49.896540",
     "status": "completed"
    },
    "tags": []
   },
   "source": [
    "## HistGradientBoosting"
   ]
  },
  {
   "cell_type": "code",
   "execution_count": 11,
   "id": "4272eef0",
   "metadata": {
    "execution": {
     "iopub.execute_input": "2025-05-17T02:10:49.925139Z",
     "iopub.status.busy": "2025-05-17T02:10:49.924820Z",
     "iopub.status.idle": "2025-05-17T02:19:10.779758Z",
     "shell.execute_reply": "2025-05-17T02:19:10.778613Z"
    },
    "papermill": {
     "duration": 500.86713,
     "end_time": "2025-05-17T02:19:10.781643",
     "exception": false,
     "start_time": "2025-05-17T02:10:49.914513",
     "status": "completed"
    },
    "tags": []
   },
   "outputs": [
    {
     "name": "stdout",
     "output_type": "stream",
     "text": [
      "Training HistGradientBoostingRegressor\n",
      "\n",
      "--- Fold 0 - root_mean_squared_error: 0.0594 - Time: 90.22 s\n",
      "--- Fold 1 - root_mean_squared_error: 0.0605 - Time: 80.47 s\n",
      "--- Fold 2 - root_mean_squared_error: 0.0597 - Time: 85.07 s\n",
      "--- Fold 3 - root_mean_squared_error: 0.0601 - Time: 77.64 s\n",
      "--- Fold 4 - root_mean_squared_error: 0.0593 - Time: 81.89 s\n",
      "\n",
      "------ Overall root_mean_squared_error: 0.0598 - Mean root_mean_squared_error: 0.0598 ± 0.0004 - Time: 417.01 s\n"
     ]
    }
   ],
   "source": [
    "histgb_trainer = Trainer(\n",
    "    HistGradientBoostingRegressor(**histgb_params),\n",
    "    cv=CFG.cv,\n",
    "    metric=CFG.metric,\n",
    "    task=\"regression\"\n",
    ")\n",
    "\n",
    "histgb_trainer.fit(X, y, extra_X=X_original, extra_y=y_original)\n",
    "\n",
    "scores[\"HistGB\"] = histgb_trainer.fold_scores\n",
    "oof_preds[\"HistGB\"] = histgb_trainer.oof_preds\n",
    "test_preds[\"HistGB\"] = histgb_trainer.predict(X_test)"
   ]
  },
  {
   "cell_type": "markdown",
   "id": "216a3676",
   "metadata": {
    "papermill": {
     "duration": 0.009758,
     "end_time": "2025-05-17T02:19:10.801468",
     "exception": false,
     "start_time": "2025-05-17T02:19:10.791710",
     "status": "completed"
    },
    "tags": []
   },
   "source": [
    "## LightGBM (gbdt)"
   ]
  },
  {
   "cell_type": "code",
   "execution_count": 12,
   "id": "4d04ff98",
   "metadata": {
    "execution": {
     "iopub.execute_input": "2025-05-17T02:19:10.823120Z",
     "iopub.status.busy": "2025-05-17T02:19:10.822738Z",
     "iopub.status.idle": "2025-05-17T02:23:58.403497Z",
     "shell.execute_reply": "2025-05-17T02:23:58.402781Z"
    },
    "papermill": {
     "duration": 287.594315,
     "end_time": "2025-05-17T02:23:58.405567",
     "exception": false,
     "start_time": "2025-05-17T02:19:10.811252",
     "status": "completed"
    },
    "tags": []
   },
   "outputs": [
    {
     "name": "stdout",
     "output_type": "stream",
     "text": [
      "Training LGBMRegressor\n",
      "\n",
      "Training until validation scores don't improve for 100 rounds\n",
      "Early stopping, best iteration is:\n",
      "[791]\tvalid_0's rmse: 0.0596226\tvalid_0's l2: 0.00355485\n",
      "--- Fold 0 - root_mean_squared_error: 0.0596 - Time: 27.88 s\n",
      "\n",
      "Training until validation scores don't improve for 100 rounds\n",
      "[1000]\tvalid_0's rmse: 0.0603528\tvalid_0's l2: 0.00364246\n",
      "Early stopping, best iteration is:\n",
      "[1369]\tvalid_0's rmse: 0.0603066\tvalid_0's l2: 0.00363688\n",
      "--- Fold 1 - root_mean_squared_error: 0.0603 - Time: 43.15 s\n",
      "\n",
      "Training until validation scores don't improve for 100 rounds\n",
      "[1000]\tvalid_0's rmse: 0.0596239\tvalid_0's l2: 0.00355501\n",
      "Early stopping, best iteration is:\n",
      "[1406]\tvalid_0's rmse: 0.0595985\tvalid_0's l2: 0.00355198\n",
      "--- Fold 2 - root_mean_squared_error: 0.0596 - Time: 43.53 s\n",
      "\n",
      "Training until validation scores don't improve for 100 rounds\n",
      "[1000]\tvalid_0's rmse: 0.0601725\tvalid_0's l2: 0.00362073\n",
      "[2000]\tvalid_0's rmse: 0.060028\tvalid_0's l2: 0.00360336\n",
      "Early stopping, best iteration is:\n",
      "[1918]\tvalid_0's rmse: 0.0600226\tvalid_0's l2: 0.00360271\n",
      "--- Fold 3 - root_mean_squared_error: 0.0600 - Time: 56.50 s\n",
      "\n",
      "Training until validation scores don't improve for 100 rounds\n",
      "[1000]\tvalid_0's rmse: 0.0594362\tvalid_0's l2: 0.00353266\n",
      "Early stopping, best iteration is:\n",
      "[1376]\tvalid_0's rmse: 0.0593934\tvalid_0's l2: 0.00352758\n",
      "--- Fold 4 - root_mean_squared_error: 0.0594 - Time: 42.92 s\n",
      "\n",
      "\n",
      "------ Overall root_mean_squared_error: 0.0598 - Mean root_mean_squared_error: 0.0598 ± 0.0003 - Time: 215.74 s\n"
     ]
    }
   ],
   "source": [
    "lgbm_trainer = Trainer(\n",
    "    LGBMRegressor(**lgbm_params),\n",
    "    cv=CFG.cv,\n",
    "    metric=CFG.metric,\n",
    "    use_early_stopping=True,\n",
    "    task=\"regression\"\n",
    ")\n",
    "\n",
    "fit_args = {\n",
    "    \"eval_metric\": \"rmse\",\n",
    "    \"callbacks\": [\n",
    "        log_evaluation(period=1000), \n",
    "        early_stopping(stopping_rounds=100)\n",
    "    ]\n",
    "}\n",
    "\n",
    "lgbm_trainer.fit(X, y, fit_args=fit_args, extra_X=X_original, extra_y=y_original)\n",
    "\n",
    "scores[\"LightGBM (gbdt)\"] = lgbm_trainer.fold_scores\n",
    "oof_preds[\"LightGBM (gbdt)\"] = lgbm_trainer.oof_preds\n",
    "test_preds[\"LightGBM (gbdt)\"] = lgbm_trainer.predict(X_test)"
   ]
  },
  {
   "cell_type": "markdown",
   "id": "6ff3e02f",
   "metadata": {
    "papermill": {
     "duration": 0.011079,
     "end_time": "2025-05-17T02:23:58.427757",
     "exception": false,
     "start_time": "2025-05-17T02:23:58.416678",
     "status": "completed"
    },
    "tags": []
   },
   "source": [
    "## LightGBM (goss)"
   ]
  },
  {
   "cell_type": "code",
   "execution_count": 13,
   "id": "09faf6be",
   "metadata": {
    "execution": {
     "iopub.execute_input": "2025-05-17T02:23:58.450790Z",
     "iopub.status.busy": "2025-05-17T02:23:58.450483Z",
     "iopub.status.idle": "2025-05-17T02:35:20.062338Z",
     "shell.execute_reply": "2025-05-17T02:35:20.061220Z"
    },
    "papermill": {
     "duration": 681.626342,
     "end_time": "2025-05-17T02:35:20.064823",
     "exception": false,
     "start_time": "2025-05-17T02:23:58.438481",
     "status": "completed"
    },
    "tags": []
   },
   "outputs": [
    {
     "name": "stdout",
     "output_type": "stream",
     "text": [
      "Training LGBMRegressor\n",
      "\n",
      "Training until validation scores don't improve for 100 rounds\n",
      "[1000]\tvalid_0's rmse: 0.0600588\tvalid_0's l2: 0.00360706\n",
      "[2000]\tvalid_0's rmse: 0.0597145\tvalid_0's l2: 0.00356582\n",
      "[3000]\tvalid_0's rmse: 0.0596177\tvalid_0's l2: 0.00355427\n",
      "Early stopping, best iteration is:\n",
      "[3424]\tvalid_0's rmse: 0.0595945\tvalid_0's l2: 0.0035515\n",
      "--- Fold 0 - root_mean_squared_error: 0.0596 - Time: 102.76 s\n",
      "\n",
      "Training until validation scores don't improve for 100 rounds\n",
      "[1000]\tvalid_0's rmse: 0.0607929\tvalid_0's l2: 0.00369577\n",
      "[2000]\tvalid_0's rmse: 0.0604315\tvalid_0's l2: 0.00365197\n",
      "[3000]\tvalid_0's rmse: 0.0603068\tvalid_0's l2: 0.00363691\n",
      "Early stopping, best iteration is:\n",
      "[3299]\tvalid_0's rmse: 0.0602872\tvalid_0's l2: 0.00363454\n",
      "--- Fold 1 - root_mean_squared_error: 0.0603 - Time: 97.23 s\n",
      "\n",
      "Training until validation scores don't improve for 100 rounds\n",
      "[1000]\tvalid_0's rmse: 0.0600734\tvalid_0's l2: 0.00360881\n",
      "[2000]\tvalid_0's rmse: 0.0597328\tvalid_0's l2: 0.00356801\n",
      "[3000]\tvalid_0's rmse: 0.0596015\tvalid_0's l2: 0.00355234\n",
      "[4000]\tvalid_0's rmse: 0.0595402\tvalid_0's l2: 0.00354503\n",
      "Early stopping, best iteration is:\n",
      "[4508]\tvalid_0's rmse: 0.0595248\tvalid_0's l2: 0.00354321\n",
      "--- Fold 2 - root_mean_squared_error: 0.0595 - Time: 132.75 s\n",
      "\n",
      "Training until validation scores don't improve for 100 rounds\n",
      "[1000]\tvalid_0's rmse: 0.0606943\tvalid_0's l2: 0.0036838\n",
      "[2000]\tvalid_0's rmse: 0.0602788\tvalid_0's l2: 0.00363353\n",
      "[3000]\tvalid_0's rmse: 0.0601248\tvalid_0's l2: 0.00361499\n",
      "[4000]\tvalid_0's rmse: 0.060043\tvalid_0's l2: 0.00360516\n",
      "Early stopping, best iteration is:\n",
      "[4559]\tvalid_0's rmse: 0.0600092\tvalid_0's l2: 0.00360111\n",
      "--- Fold 3 - root_mean_squared_error: 0.0600 - Time: 133.81 s\n",
      "\n",
      "Training until validation scores don't improve for 100 rounds\n",
      "[1000]\tvalid_0's rmse: 0.0597776\tvalid_0's l2: 0.00357336\n",
      "[2000]\tvalid_0's rmse: 0.0594386\tvalid_0's l2: 0.00353295\n",
      "[3000]\tvalid_0's rmse: 0.0593427\tvalid_0's l2: 0.00352156\n",
      "Early stopping, best iteration is:\n",
      "[3301]\tvalid_0's rmse: 0.0593269\tvalid_0's l2: 0.00351968\n",
      "--- Fold 4 - root_mean_squared_error: 0.0593 - Time: 98.12 s\n",
      "\n",
      "\n",
      "------ Overall root_mean_squared_error: 0.0597 - Mean root_mean_squared_error: 0.0597 ± 0.0003 - Time: 566.43 s\n"
     ]
    }
   ],
   "source": [
    "lgbm_goss_trainer = Trainer(\n",
    "    LGBMRegressor(**lgbm_goss_params),\n",
    "    cv=CFG.cv,\n",
    "    metric=CFG.metric,\n",
    "    use_early_stopping=True,\n",
    "    task=\"regression\"\n",
    ")\n",
    "\n",
    "fit_args = {\n",
    "    \"eval_metric\": \"rmse\",\n",
    "    \"callbacks\": [\n",
    "        log_evaluation(period=1000), \n",
    "        early_stopping(stopping_rounds=100)\n",
    "    ]\n",
    "}\n",
    "\n",
    "lgbm_goss_trainer.fit(X, y, fit_args=fit_args, extra_X=X_original, extra_y=y_original)\n",
    "\n",
    "scores[\"LightGBM (goss)\"] = lgbm_goss_trainer.fold_scores\n",
    "oof_preds[\"LightGBM (goss)\"] = lgbm_goss_trainer.oof_preds\n",
    "test_preds[\"LightGBM (goss)\"] = lgbm_goss_trainer.predict(X_test)"
   ]
  },
  {
   "cell_type": "markdown",
   "id": "a0be7216",
   "metadata": {
    "papermill": {
     "duration": 0.011912,
     "end_time": "2025-05-17T02:35:20.089399",
     "exception": false,
     "start_time": "2025-05-17T02:35:20.077487",
     "status": "completed"
    },
    "tags": []
   },
   "source": [
    "## XGBoost"
   ]
  },
  {
   "cell_type": "code",
   "execution_count": 14,
   "id": "4694cc1c",
   "metadata": {
    "execution": {
     "iopub.execute_input": "2025-05-17T02:35:20.116075Z",
     "iopub.status.busy": "2025-05-17T02:35:20.115665Z",
     "iopub.status.idle": "2025-05-17T02:41:39.036426Z",
     "shell.execute_reply": "2025-05-17T02:41:39.035693Z"
    },
    "papermill": {
     "duration": 378.936602,
     "end_time": "2025-05-17T02:41:39.038344",
     "exception": false,
     "start_time": "2025-05-17T02:35:20.101742",
     "status": "completed"
    },
    "tags": []
   },
   "outputs": [
    {
     "name": "stdout",
     "output_type": "stream",
     "text": [
      "Training XGBRegressor\n",
      "\n",
      "[0]\tvalidation_0-rmse:0.92856\n",
      "[1000]\tvalidation_0-rmse:0.06015\n",
      "[2000]\tvalidation_0-rmse:0.06009\n",
      "[3000]\tvalidation_0-rmse:0.06007\n",
      "[3122]\tvalidation_0-rmse:0.06006\n",
      "--- Fold 0 - root_mean_squared_error: 0.0601 - Time: 82.67 s\n",
      "\n",
      "[0]\tvalidation_0-rmse:0.93096\n",
      "[1000]\tvalidation_0-rmse:0.06137\n",
      "[2000]\tvalidation_0-rmse:0.06128\n",
      "[3000]\tvalidation_0-rmse:0.06123\n",
      "[3071]\tvalidation_0-rmse:0.06123\n",
      "--- Fold 1 - root_mean_squared_error: 0.0612 - Time: 85.00 s\n",
      "\n",
      "[0]\tvalidation_0-rmse:0.92964\n",
      "[1000]\tvalidation_0-rmse:0.06065\n",
      "[2000]\tvalidation_0-rmse:0.06056\n",
      "[3000]\tvalidation_0-rmse:0.06053\n",
      "[3091]\tvalidation_0-rmse:0.06053\n",
      "--- Fold 2 - root_mean_squared_error: 0.0605 - Time: 82.89 s\n",
      "\n",
      "[0]\tvalidation_0-rmse:0.92813\n",
      "[1000]\tvalidation_0-rmse:0.06097\n",
      "[1244]\tvalidation_0-rmse:0.06096\n",
      "--- Fold 3 - root_mean_squared_error: 0.0610 - Time: 39.65 s\n",
      "\n",
      "[0]\tvalidation_0-rmse:0.92887\n",
      "[1000]\tvalidation_0-rmse:0.06014\n",
      "[2000]\tvalidation_0-rmse:0.06007\n",
      "[2595]\tvalidation_0-rmse:0.06005\n",
      "--- Fold 4 - root_mean_squared_error: 0.0601 - Time: 72.46 s\n",
      "\n",
      "\n",
      "------ Overall root_mean_squared_error: 0.0606 - Mean root_mean_squared_error: 0.0606 ± 0.0005 - Time: 364.42 s\n"
     ]
    }
   ],
   "source": [
    "xgb_trainer = Trainer(\n",
    "    XGBRegressor(**xgb_params),\n",
    "    cv=CFG.cv,\n",
    "    metric=CFG.metric,\n",
    "    use_early_stopping=True,\n",
    "    task=\"regression\"\n",
    ")\n",
    "\n",
    "fit_args = {\n",
    "    \"verbose\": 1000\n",
    "}\n",
    "\n",
    "xgb_trainer.fit(X, y, fit_args=fit_args, extra_X=X_original, extra_y=y_original)\n",
    "\n",
    "scores[\"XGBoost\"] = xgb_trainer.fold_scores\n",
    "oof_preds[\"XGBoost\"] = xgb_trainer.oof_preds\n",
    "test_preds[\"XGBoost\"] = xgb_trainer.predict(X_test)"
   ]
  },
  {
   "cell_type": "markdown",
   "id": "ef522292",
   "metadata": {
    "papermill": {
     "duration": 0.013406,
     "end_time": "2025-05-17T02:41:39.065662",
     "exception": false,
     "start_time": "2025-05-17T02:41:39.052256",
     "status": "completed"
    },
    "tags": []
   },
   "source": [
    "## CatBoost"
   ]
  },
  {
   "cell_type": "code",
   "execution_count": 15,
   "id": "c8b9795e",
   "metadata": {
    "execution": {
     "iopub.execute_input": "2025-05-17T02:41:39.094553Z",
     "iopub.status.busy": "2025-05-17T02:41:39.094235Z",
     "iopub.status.idle": "2025-05-17T02:54:03.742896Z",
     "shell.execute_reply": "2025-05-17T02:54:03.741816Z"
    },
    "papermill": {
     "duration": 744.665677,
     "end_time": "2025-05-17T02:54:03.744901",
     "exception": false,
     "start_time": "2025-05-17T02:41:39.079224",
     "status": "completed"
    },
    "tags": []
   },
   "outputs": [
    {
     "name": "stdout",
     "output_type": "stream",
     "text": [
      "Training CatBoostRegressor\n",
      "\n",
      "0:\tlearn: 0.9348709\ttest: 0.9341488\tbest: 0.9341488 (0)\ttotal: 129ms\tremaining: 1h 47m 34s\n",
      "1000:\tlearn: 0.0571087\ttest: 0.0593244\tbest: 0.0593244 (1000)\ttotal: 54s\tremaining: 44m 4s\n",
      "2000:\tlearn: 0.0560120\ttest: 0.0591679\tbest: 0.0591679 (2000)\ttotal: 1m 47s\tremaining: 42m 52s\n",
      "Stopped by overfitting detector  (100 iterations wait)\n",
      "\n",
      "bestTest = 0.05911377754\n",
      "bestIteration = 2824\n",
      "\n",
      "Shrink model to first 2825 iterations.\n",
      "--- Fold 0 - root_mean_squared_error: 0.0591 - Time: 156.98 s\n",
      "\n",
      "0:\tlearn: 0.9342850\ttest: 0.9365766\tbest: 0.9365766 (0)\ttotal: 91.5ms\tremaining: 1h 16m 14s\n",
      "1000:\tlearn: 0.0571036\ttest: 0.0598252\tbest: 0.0598252 (1000)\ttotal: 54.1s\tremaining: 44m 7s\n",
      "Stopped by overfitting detector  (100 iterations wait)\n",
      "\n",
      "bestTest = 0.05966835269\n",
      "bestIteration = 1741\n",
      "\n",
      "Shrink model to first 1742 iterations.\n",
      "--- Fold 1 - root_mean_squared_error: 0.0597 - Time: 100.30 s\n",
      "\n",
      "0:\tlearn: 0.9346164\ttest: 0.9352198\tbest: 0.9352198 (0)\ttotal: 66.9ms\tremaining: 55m 47s\n",
      "1000:\tlearn: 0.0570640\ttest: 0.0593004\tbest: 0.0593004 (1000)\ttotal: 53.6s\tremaining: 43m 45s\n",
      "2000:\tlearn: 0.0559380\ttest: 0.0590550\tbest: 0.0590543 (1996)\ttotal: 1m 46s\tremaining: 42m 44s\n",
      "3000:\tlearn: 0.0551639\ttest: 0.0589824\tbest: 0.0589822 (2994)\ttotal: 2m 39s\tremaining: 41m 40s\n",
      "Stopped by overfitting detector  (100 iterations wait)\n",
      "\n",
      "bestTest = 0.05895750885\n",
      "bestIteration = 3703\n",
      "\n",
      "Shrink model to first 3704 iterations.\n",
      "--- Fold 2 - root_mean_squared_error: 0.0590 - Time: 203.09 s\n",
      "\n",
      "0:\tlearn: 0.9349691\ttest: 0.9337102\tbest: 0.9337102 (0)\ttotal: 65.2ms\tremaining: 54m 19s\n",
      "1000:\tlearn: 0.0570599\ttest: 0.0597373\tbest: 0.0597373 (1000)\ttotal: 53.7s\tremaining: 43m 50s\n",
      "2000:\tlearn: 0.0560408\ttest: 0.0595997\tbest: 0.0595980 (1976)\ttotal: 1m 46s\tremaining: 42m 33s\n",
      "3000:\tlearn: 0.0552776\ttest: 0.0595437\tbest: 0.0595417 (2940)\ttotal: 2m 39s\tremaining: 41m 39s\n",
      "Stopped by overfitting detector  (100 iterations wait)\n",
      "\n",
      "bestTest = 0.0595416905\n",
      "bestIteration = 2940\n",
      "\n",
      "Shrink model to first 2941 iterations.\n",
      "--- Fold 3 - root_mean_squared_error: 0.0595 - Time: 162.97 s\n",
      "\n",
      "0:\tlearn: 0.9347914\ttest: 0.9344284\tbest: 0.9344284 (0)\ttotal: 72.7ms\tremaining: 1h 34s\n",
      "1000:\tlearn: 0.0572454\ttest: 0.0590697\tbest: 0.0590697 (1000)\ttotal: 54.2s\tremaining: 44m 10s\n",
      "2000:\tlearn: 0.0561135\ttest: 0.0589142\tbest: 0.0589119 (1987)\ttotal: 1m 46s\tremaining: 42m 41s\n",
      "Stopped by overfitting detector  (100 iterations wait)\n",
      "\n",
      "bestTest = 0.05891120084\n",
      "bestIteration = 2077\n",
      "\n",
      "Shrink model to first 2078 iterations.\n",
      "--- Fold 4 - root_mean_squared_error: 0.0589 - Time: 116.84 s\n",
      "\n",
      "\n",
      "------ Overall root_mean_squared_error: 0.0592 - Mean root_mean_squared_error: 0.0592 ± 0.0003 - Time: 741.92 s\n"
     ]
    }
   ],
   "source": [
    "cb_trainer = Trainer(\n",
    "    CatBoostRegressor(**cb_params),\n",
    "    cv=CFG.cv,\n",
    "    metric=CFG.metric,\n",
    "    use_early_stopping=True,\n",
    "    task=\"regression\"\n",
    ")\n",
    "\n",
    "fit_args = {\n",
    "    \"verbose\": 1000,\n",
    "    \"early_stopping_rounds\": 100,\n",
    "    \"use_best_model\": True\n",
    "}\n",
    "\n",
    "cb_trainer.fit(X, y, fit_args=fit_args, extra_X=X_original, extra_y=y_original)\n",
    "\n",
    "scores[\"CatBoost\"] = cb_trainer.fold_scores\n",
    "oof_preds[\"CatBoost\"] = cb_trainer.oof_preds\n",
    "test_preds[\"CatBoost\"] = cb_trainer.predict(X_test)"
   ]
  },
  {
   "cell_type": "markdown",
   "id": "26573412",
   "metadata": {
    "papermill": {
     "duration": 0.01447,
     "end_time": "2025-05-17T02:54:03.775497",
     "exception": false,
     "start_time": "2025-05-17T02:54:03.761027",
     "status": "completed"
    },
    "tags": []
   },
   "source": [
    "## AutoGluon"
   ]
  },
  {
   "cell_type": "code",
   "execution_count": 16,
   "id": "14f3cb2e",
   "metadata": {
    "execution": {
     "iopub.execute_input": "2025-05-17T02:54:03.806471Z",
     "iopub.status.busy": "2025-05-17T02:54:03.806122Z",
     "iopub.status.idle": "2025-05-17T02:54:04.055096Z",
     "shell.execute_reply": "2025-05-17T02:54:04.054101Z"
    },
    "papermill": {
     "duration": 0.266736,
     "end_time": "2025-05-17T02:54:04.057002",
     "exception": false,
     "start_time": "2025-05-17T02:54:03.790266",
     "status": "completed"
    },
    "tags": []
   },
   "outputs": [],
   "source": [
    "oof_preds_files = glob.glob(f'/kaggle/input/s05e05-calorie-expenditure-prediction-automl/*_oof_preds_*.pkl')\n",
    "test_preds_files = glob.glob(f'/kaggle/input/s05e05-calorie-expenditure-prediction-automl/*_test_preds_*.pkl')\n",
    "\n",
    "ag_oof_preds = np.log1p(joblib.load(oof_preds_files[0]))\n",
    "ag_test_preds = np.log1p(joblib.load(test_preds_files[0]))\n",
    "\n",
    "ag_scores = []\n",
    "split = KFold(n_splits=CFG.n_folds, random_state=CFG.seed, shuffle=True).split(X, y)\n",
    "for _, val_idx in split:\n",
    "    y_val = y[val_idx]\n",
    "    y_preds = ag_oof_preds[val_idx]   \n",
    "    score = root_mean_squared_error(y_preds, y_val)\n",
    "    ag_scores.append(score)\n",
    "    \n",
    "oof_preds[\"AutoGluon\"], test_preds[\"AutoGluon\"], scores[\"AutoGluon\"] = ag_oof_preds, ag_test_preds, ag_scores"
   ]
  },
  {
   "cell_type": "markdown",
   "id": "729903f1",
   "metadata": {
    "papermill": {
     "duration": 0.016025,
     "end_time": "2025-05-17T02:54:04.088250",
     "exception": false,
     "start_time": "2025-05-17T02:54:04.072225",
     "status": "completed"
    },
    "tags": []
   },
   "source": [
    "## Yggdrasil"
   ]
  },
  {
   "cell_type": "code",
   "execution_count": 17,
   "id": "b386f6e6",
   "metadata": {
    "execution": {
     "iopub.execute_input": "2025-05-17T02:54:04.121085Z",
     "iopub.status.busy": "2025-05-17T02:54:04.120656Z",
     "iopub.status.idle": "2025-05-17T02:54:04.128432Z",
     "shell.execute_reply": "2025-05-17T02:54:04.127390Z"
    },
    "papermill": {
     "duration": 0.025306,
     "end_time": "2025-05-17T02:54:04.129988",
     "exception": false,
     "start_time": "2025-05-17T02:54:04.104682",
     "status": "completed"
    },
    "tags": []
   },
   "outputs": [],
   "source": [
    "def YDFRegressor(learner_class):\n",
    "\n",
    "    class YDFXRegressor(BaseEstimator, RegressorMixin):\n",
    "\n",
    "        def __init__(self, params={}):\n",
    "            self.params = params\n",
    "\n",
    "        def fit(self, X, y):\n",
    "            assert isinstance(X, pd.DataFrame)\n",
    "            assert isinstance(y, pd.Series)\n",
    "            target = y.name\n",
    "            params = self.params.copy()\n",
    "            params['label'] = target\n",
    "            params['task'] = ydf.Task.REGRESSION\n",
    "            X = pd.concat([X, y], axis=1)\n",
    "            with contextlib.redirect_stderr(io.StringIO()), contextlib.redirect_stdout(io.StringIO()):\n",
    "                self.model = learner_class(**params).train(X)\n",
    "            return self\n",
    "\n",
    "        def predict(self, X):\n",
    "            assert isinstance(X, pd.DataFrame)\n",
    "            with contextlib.redirect_stderr(io.StringIO()), contextlib.redirect_stdout(io.StringIO()):\n",
    "                return self.model.predict(X)\n",
    "\n",
    "    return YDFXRegressor"
   ]
  },
  {
   "cell_type": "code",
   "execution_count": 18,
   "id": "314e5df6",
   "metadata": {
    "execution": {
     "iopub.execute_input": "2025-05-17T02:54:04.160928Z",
     "iopub.status.busy": "2025-05-17T02:54:04.160620Z",
     "iopub.status.idle": "2025-05-17T03:03:21.649623Z",
     "shell.execute_reply": "2025-05-17T03:03:21.648761Z"
    },
    "papermill": {
     "duration": 557.506505,
     "end_time": "2025-05-17T03:03:21.651409",
     "exception": false,
     "start_time": "2025-05-17T02:54:04.144904",
     "status": "completed"
    },
    "tags": []
   },
   "outputs": [
    {
     "name": "stdout",
     "output_type": "stream",
     "text": [
      "Training YDFXRegressor\n",
      "\n",
      "--- Fold 0 - root_mean_squared_error: 0.0604 - Time: 122.56 s\n",
      "--- Fold 1 - root_mean_squared_error: 0.0608 - Time: 114.05 s\n",
      "--- Fold 2 - root_mean_squared_error: 0.0603 - Time: 77.55 s\n",
      "--- Fold 3 - root_mean_squared_error: 0.0612 - Time: 99.58 s\n",
      "--- Fold 4 - root_mean_squared_error: 0.0602 - Time: 135.60 s\n",
      "\n",
      "------ Overall root_mean_squared_error: 0.0606 - Mean root_mean_squared_error: 0.0606 ± 0.0004 - Time: 551.07 s\n"
     ]
    }
   ],
   "source": [
    "ydf_trainer = Trainer(\n",
    "    YDFRegressor(GradientBoostedTreesLearner)(ydf_params),\n",
    "    cv=CFG.cv,\n",
    "    metric=CFG.metric,\n",
    "    task=\"regression\"\n",
    ")\n",
    "\n",
    "ydf_trainer.fit(X, y, extra_X=X_original, extra_y=y_original)\n",
    "\n",
    "scores[\"Yggdrasil\"] = ydf_trainer.fold_scores\n",
    "oof_preds[\"Yggdrasil\"] = ydf_trainer.oof_preds\n",
    "test_preds[\"Yggdrasil\"] = ydf_trainer.predict(X_test)"
   ]
  },
  {
   "cell_type": "markdown",
   "id": "9ef53a29",
   "metadata": {
    "papermill": {
     "duration": 0.014925,
     "end_time": "2025-05-17T03:03:21.681770",
     "exception": false,
     "start_time": "2025-05-17T03:03:21.666845",
     "status": "completed"
    },
    "tags": []
   },
   "source": [
    "## Neural networks"
   ]
  },
  {
   "cell_type": "code",
   "execution_count": 19,
   "id": "b530511e",
   "metadata": {
    "execution": {
     "iopub.execute_input": "2025-05-17T03:03:21.713699Z",
     "iopub.status.busy": "2025-05-17T03:03:21.713387Z",
     "iopub.status.idle": "2025-05-17T03:03:22.479596Z",
     "shell.execute_reply": "2025-05-17T03:03:22.478590Z"
    },
    "papermill": {
     "duration": 0.784355,
     "end_time": "2025-05-17T03:03:22.481349",
     "exception": false,
     "start_time": "2025-05-17T03:03:21.696994",
     "status": "completed"
    },
    "tags": []
   },
   "outputs": [],
   "source": [
    "train = pd.read_csv(CFG.train_path, index_col=\"id\")\n",
    "test = pd.read_csv(CFG.test_path, index_col=\"id\")\n",
    "\n",
    "original = pd.read_csv(CFG.original_path, index_col=\"User_ID\")\n",
    "original = original.rename(columns={\"Gender\": \"Sex\"})\n",
    "\n",
    "X = train.drop(CFG.target, axis=1)\n",
    "y = np.log1p(train[CFG.target])\n",
    "X_test = test\n",
    "\n",
    "X_original = original.drop(CFG.target, axis=1)\n",
    "y_original = np.log1p(original[CFG.target])"
   ]
  },
  {
   "cell_type": "code",
   "execution_count": 20,
   "id": "11ccaee0",
   "metadata": {
    "execution": {
     "iopub.execute_input": "2025-05-17T03:03:22.513434Z",
     "iopub.status.busy": "2025-05-17T03:03:22.513081Z",
     "iopub.status.idle": "2025-05-17T03:03:23.032250Z",
     "shell.execute_reply": "2025-05-17T03:03:23.031199Z"
    },
    "papermill": {
     "duration": 0.536907,
     "end_time": "2025-05-17T03:03:23.033960",
     "exception": false,
     "start_time": "2025-05-17T03:03:22.497053",
     "status": "completed"
    },
    "tags": []
   },
   "outputs": [],
   "source": [
    "pipeline = make_pipeline(\n",
    "    ColumnTransformer(\n",
    "        [\n",
    "            ('one-hot-encode', OneHotEncoder(drop='first', sparse_output=False, dtype=np.float32, handle_unknown='ignore'), ['Sex']),\n",
    "            \n",
    "        ],\n",
    "        remainder=StandardScaler()\n",
    "    )\n",
    ").set_output(transform='pandas')\n",
    "\n",
    "X = pipeline.fit_transform(X, y)\n",
    "X_test = pipeline.transform(X_test)\n",
    "X_original = pipeline.transform(X_original)"
   ]
  },
  {
   "cell_type": "code",
   "execution_count": 21,
   "id": "021fa7c8",
   "metadata": {
    "execution": {
     "iopub.execute_input": "2025-05-17T03:03:23.067157Z",
     "iopub.status.busy": "2025-05-17T03:03:23.066790Z",
     "iopub.status.idle": "2025-05-17T03:03:23.072941Z",
     "shell.execute_reply": "2025-05-17T03:03:23.071951Z"
    },
    "papermill": {
     "duration": 0.025084,
     "end_time": "2025-05-17T03:03:23.074628",
     "exception": false,
     "start_time": "2025-05-17T03:03:23.049544",
     "status": "completed"
    },
    "tags": []
   },
   "outputs": [],
   "source": [
    "def get_model(meta):\n",
    "    model = keras.models.Sequential()\n",
    "    model.add(keras.layers.Input(meta[\"X_shape_\"][1:]))\n",
    "    model.add(keras.layers.Dense(256, kernel_initializer='lecun_normal', activation='selu'))\n",
    "    model.add(keras.layers.Dense(128, kernel_initializer='lecun_normal', activation='selu'))\n",
    "    model.add(keras.layers.Dense(64, kernel_initializer='lecun_normal', activation='selu'))\n",
    "    model.add(keras.layers.Dense(1))\n",
    "    return model"
   ]
  },
  {
   "cell_type": "code",
   "execution_count": 22,
   "id": "a1db5259",
   "metadata": {
    "execution": {
     "iopub.execute_input": "2025-05-17T03:03:23.107495Z",
     "iopub.status.busy": "2025-05-17T03:03:23.107089Z",
     "iopub.status.idle": "2025-05-17T03:03:23.202165Z",
     "shell.execute_reply": "2025-05-17T03:03:23.201215Z"
    },
    "papermill": {
     "duration": 0.113344,
     "end_time": "2025-05-17T03:03:23.203741",
     "exception": false,
     "start_time": "2025-05-17T03:03:23.090397",
     "status": "completed"
    },
    "tags": []
   },
   "outputs": [
    {
     "name": "stderr",
     "output_type": "stream",
     "text": [
      "2025-05-17 03:03:23.114555: E external/local_xla/xla/stream_executor/cuda/cuda_driver.cc:152] failed call to cuInit: INTERNAL: CUDA error: Failed call to cuInit: UNKNOWN ERROR (303)\n"
     ]
    }
   ],
   "source": [
    "nn_model = KerasRegressor(\n",
    "    get_model,\n",
    "    loss=\"mean_squared_error\",\n",
    "    random_state=CFG.seed,\n",
    "    metrics=[keras.metrics.RootMeanSquaredError(name='rmse')],\n",
    "    optimizer=keras.optimizers.AdamW(learning_rate=0.001),\n",
    "    validation_batch_size=65536,\n",
    "    validation_split=0.1,\n",
    "    batch_size=1024,\n",
    "    epochs=100, \n",
    "    verbose=0,\n",
    "    callbacks=[\n",
    "        keras.callbacks.EarlyStopping(monitor='val_rmse', patience=7, restore_best_weights=True),\n",
    "        keras.callbacks.ReduceLROnPlateau(monitor='val_rmse', patience=3, factor=0.3)\n",
    "    ]\n",
    ")"
   ]
  },
  {
   "cell_type": "code",
   "execution_count": 23,
   "id": "038ebfe5",
   "metadata": {
    "execution": {
     "iopub.execute_input": "2025-05-17T03:03:23.236661Z",
     "iopub.status.busy": "2025-05-17T03:03:23.235862Z",
     "iopub.status.idle": "2025-05-17T03:03:23.240438Z",
     "shell.execute_reply": "2025-05-17T03:03:23.239474Z"
    },
    "papermill": {
     "duration": 0.022588,
     "end_time": "2025-05-17T03:03:23.241863",
     "exception": false,
     "start_time": "2025-05-17T03:03:23.219275",
     "status": "completed"
    },
    "tags": []
   },
   "outputs": [],
   "source": [
    "nn_bag = BaggingRegressor(\n",
    "    nn_model,\n",
    "    n_estimators=3,\n",
    "    random_state=CFG.seed,\n",
    ")"
   ]
  },
  {
   "cell_type": "code",
   "execution_count": 24,
   "id": "6c4135bf",
   "metadata": {
    "_kg_hide-output": true,
    "execution": {
     "iopub.execute_input": "2025-05-17T03:03:23.274367Z",
     "iopub.status.busy": "2025-05-17T03:03:23.274049Z",
     "iopub.status.idle": "2025-05-17T03:46:56.626563Z",
     "shell.execute_reply": "2025-05-17T03:46:56.625511Z"
    },
    "papermill": {
     "duration": 2613.371029,
     "end_time": "2025-05-17T03:46:56.628534",
     "exception": false,
     "start_time": "2025-05-17T03:03:23.257505",
     "status": "completed"
    },
    "tags": []
   },
   "outputs": [
    {
     "name": "stdout",
     "output_type": "stream",
     "text": [
      "Training BaggingRegressor\n",
      "\n"
     ]
    },
    {
     "name": "stderr",
     "output_type": "stream",
     "text": [
      "2025-05-17 03:03:23.768473: E tensorflow/core/framework/node_def_util.cc:676] NodeDef mentions attribute use_unbounded_threadpool which is not in the op definition: Op<name=MapDataset; signature=input_dataset:variant, other_arguments: -> handle:variant; attr=f:func; attr=Targuments:list(type),min=0; attr=output_types:list(type),min=1; attr=output_shapes:list(shape),min=1; attr=use_inter_op_parallelism:bool,default=true; attr=preserve_cardinality:bool,default=false; attr=force_synchronous:bool,default=false; attr=metadata:string,default=\"\"> This may be expected if your graph generating binary is newer  than this binary. Unknown attributes will be ignored. NodeDef: {{node ParallelMapDatasetV2/_16}}\n",
      "2025-05-17 03:05:34.274275: E tensorflow/core/framework/node_def_util.cc:676] NodeDef mentions attribute use_unbounded_threadpool which is not in the op definition: Op<name=MapDataset; signature=input_dataset:variant, other_arguments: -> handle:variant; attr=f:func; attr=Targuments:list(type),min=0; attr=output_types:list(type),min=1; attr=output_shapes:list(shape),min=1; attr=use_inter_op_parallelism:bool,default=true; attr=preserve_cardinality:bool,default=false; attr=force_synchronous:bool,default=false; attr=metadata:string,default=\"\"> This may be expected if your graph generating binary is newer  than this binary. Unknown attributes will be ignored. NodeDef: {{node ParallelMapDatasetV2/_16}}\n",
      "2025-05-17 03:09:28.166258: E tensorflow/core/framework/node_def_util.cc:676] NodeDef mentions attribute use_unbounded_threadpool which is not in the op definition: Op<name=MapDataset; signature=input_dataset:variant, other_arguments: -> handle:variant; attr=f:func; attr=Targuments:list(type),min=0; attr=output_types:list(type),min=1; attr=output_shapes:list(shape),min=1; attr=use_inter_op_parallelism:bool,default=true; attr=preserve_cardinality:bool,default=false; attr=force_synchronous:bool,default=false; attr=metadata:string,default=\"\"> This may be expected if your graph generating binary is newer  than this binary. Unknown attributes will be ignored. NodeDef: {{node ParallelMapDatasetV2/_16}}\n",
      "2025-05-17 03:11:54.960095: E tensorflow/core/framework/node_def_util.cc:676] NodeDef mentions attribute use_unbounded_threadpool which is not in the op definition: Op<name=MapDataset; signature=input_dataset:variant, other_arguments: -> handle:variant; attr=f:func; attr=Targuments:list(type),min=0; attr=output_types:list(type),min=1; attr=output_shapes:list(shape),min=1; attr=use_inter_op_parallelism:bool,default=true; attr=preserve_cardinality:bool,default=false; attr=force_synchronous:bool,default=false; attr=metadata:string,default=\"\"> This may be expected if your graph generating binary is newer  than this binary. Unknown attributes will be ignored. NodeDef: {{node ParallelMapDatasetV2/_14}}\n"
     ]
    },
    {
     "name": "stdout",
     "output_type": "stream",
     "text": [
      "--- Fold 0 - root_mean_squared_error: 0.0611 - Time: 513.91 s\n"
     ]
    },
    {
     "name": "stderr",
     "output_type": "stream",
     "text": [
      "2025-05-17 03:12:02.301628: E tensorflow/core/framework/node_def_util.cc:676] NodeDef mentions attribute use_unbounded_threadpool which is not in the op definition: Op<name=MapDataset; signature=input_dataset:variant, other_arguments: -> handle:variant; attr=f:func; attr=Targuments:list(type),min=0; attr=output_types:list(type),min=1; attr=output_shapes:list(shape),min=1; attr=use_inter_op_parallelism:bool,default=true; attr=preserve_cardinality:bool,default=false; attr=force_synchronous:bool,default=false; attr=metadata:string,default=\"\"> This may be expected if your graph generating binary is newer  than this binary. Unknown attributes will be ignored. NodeDef: {{node ParallelMapDatasetV2/_16}}\n",
      "2025-05-17 03:14:29.210759: E tensorflow/core/framework/node_def_util.cc:676] NodeDef mentions attribute use_unbounded_threadpool which is not in the op definition: Op<name=MapDataset; signature=input_dataset:variant, other_arguments: -> handle:variant; attr=f:func; attr=Targuments:list(type),min=0; attr=output_types:list(type),min=1; attr=output_shapes:list(shape),min=1; attr=use_inter_op_parallelism:bool,default=true; attr=preserve_cardinality:bool,default=false; attr=force_synchronous:bool,default=false; attr=metadata:string,default=\"\"> This may be expected if your graph generating binary is newer  than this binary. Unknown attributes will be ignored. NodeDef: {{node ParallelMapDatasetV2/_16}}\n",
      "2025-05-17 03:17:34.692035: E tensorflow/core/framework/node_def_util.cc:676] NodeDef mentions attribute use_unbounded_threadpool which is not in the op definition: Op<name=MapDataset; signature=input_dataset:variant, other_arguments: -> handle:variant; attr=f:func; attr=Targuments:list(type),min=0; attr=output_types:list(type),min=1; attr=output_shapes:list(shape),min=1; attr=use_inter_op_parallelism:bool,default=true; attr=preserve_cardinality:bool,default=false; attr=force_synchronous:bool,default=false; attr=metadata:string,default=\"\"> This may be expected if your graph generating binary is newer  than this binary. Unknown attributes will be ignored. NodeDef: {{node ParallelMapDatasetV2/_16}}\n",
      "2025-05-17 03:21:05.551747: E tensorflow/core/framework/node_def_util.cc:676] NodeDef mentions attribute use_unbounded_threadpool which is not in the op definition: Op<name=MapDataset; signature=input_dataset:variant, other_arguments: -> handle:variant; attr=f:func; attr=Targuments:list(type),min=0; attr=output_types:list(type),min=1; attr=output_shapes:list(shape),min=1; attr=use_inter_op_parallelism:bool,default=true; attr=preserve_cardinality:bool,default=false; attr=force_synchronous:bool,default=false; attr=metadata:string,default=\"\"> This may be expected if your graph generating binary is newer  than this binary. Unknown attributes will be ignored. NodeDef: {{node ParallelMapDatasetV2/_14}}\n"
     ]
    },
    {
     "name": "stdout",
     "output_type": "stream",
     "text": [
      "--- Fold 1 - root_mean_squared_error: 0.0619 - Time: 550.18 s\n"
     ]
    },
    {
     "name": "stderr",
     "output_type": "stream",
     "text": [
      "2025-05-17 03:21:13.075380: E tensorflow/core/framework/node_def_util.cc:676] NodeDef mentions attribute use_unbounded_threadpool which is not in the op definition: Op<name=MapDataset; signature=input_dataset:variant, other_arguments: -> handle:variant; attr=f:func; attr=Targuments:list(type),min=0; attr=output_types:list(type),min=1; attr=output_shapes:list(shape),min=1; attr=use_inter_op_parallelism:bool,default=true; attr=preserve_cardinality:bool,default=false; attr=force_synchronous:bool,default=false; attr=metadata:string,default=\"\"> This may be expected if your graph generating binary is newer  than this binary. Unknown attributes will be ignored. NodeDef: {{node ParallelMapDatasetV2/_16}}\n",
      "2025-05-17 03:24:25.801894: E tensorflow/core/framework/node_def_util.cc:676] NodeDef mentions attribute use_unbounded_threadpool which is not in the op definition: Op<name=MapDataset; signature=input_dataset:variant, other_arguments: -> handle:variant; attr=f:func; attr=Targuments:list(type),min=0; attr=output_types:list(type),min=1; attr=output_shapes:list(shape),min=1; attr=use_inter_op_parallelism:bool,default=true; attr=preserve_cardinality:bool,default=false; attr=force_synchronous:bool,default=false; attr=metadata:string,default=\"\"> This may be expected if your graph generating binary is newer  than this binary. Unknown attributes will be ignored. NodeDef: {{node ParallelMapDatasetV2/_16}}\n",
      "2025-05-17 03:26:27.466896: E tensorflow/core/framework/node_def_util.cc:676] NodeDef mentions attribute use_unbounded_threadpool which is not in the op definition: Op<name=MapDataset; signature=input_dataset:variant, other_arguments: -> handle:variant; attr=f:func; attr=Targuments:list(type),min=0; attr=output_types:list(type),min=1; attr=output_shapes:list(shape),min=1; attr=use_inter_op_parallelism:bool,default=true; attr=preserve_cardinality:bool,default=false; attr=force_synchronous:bool,default=false; attr=metadata:string,default=\"\"> This may be expected if your graph generating binary is newer  than this binary. Unknown attributes will be ignored. NodeDef: {{node ParallelMapDatasetV2/_16}}\n",
      "2025-05-17 03:29:14.981732: E tensorflow/core/framework/node_def_util.cc:676] NodeDef mentions attribute use_unbounded_threadpool which is not in the op definition: Op<name=MapDataset; signature=input_dataset:variant, other_arguments: -> handle:variant; attr=f:func; attr=Targuments:list(type),min=0; attr=output_types:list(type),min=1; attr=output_shapes:list(shape),min=1; attr=use_inter_op_parallelism:bool,default=true; attr=preserve_cardinality:bool,default=false; attr=force_synchronous:bool,default=false; attr=metadata:string,default=\"\"> This may be expected if your graph generating binary is newer  than this binary. Unknown attributes will be ignored. NodeDef: {{node ParallelMapDatasetV2/_14}}\n"
     ]
    },
    {
     "name": "stdout",
     "output_type": "stream",
     "text": [
      "--- Fold 2 - root_mean_squared_error: 0.0615 - Time: 489.00 s\n"
     ]
    },
    {
     "name": "stderr",
     "output_type": "stream",
     "text": [
      "2025-05-17 03:29:22.588974: E tensorflow/core/framework/node_def_util.cc:676] NodeDef mentions attribute use_unbounded_threadpool which is not in the op definition: Op<name=MapDataset; signature=input_dataset:variant, other_arguments: -> handle:variant; attr=f:func; attr=Targuments:list(type),min=0; attr=output_types:list(type),min=1; attr=output_shapes:list(shape),min=1; attr=use_inter_op_parallelism:bool,default=true; attr=preserve_cardinality:bool,default=false; attr=force_synchronous:bool,default=false; attr=metadata:string,default=\"\"> This may be expected if your graph generating binary is newer  than this binary. Unknown attributes will be ignored. NodeDef: {{node ParallelMapDatasetV2/_16}}\n",
      "2025-05-17 03:33:31.008870: E tensorflow/core/framework/node_def_util.cc:676] NodeDef mentions attribute use_unbounded_threadpool which is not in the op definition: Op<name=MapDataset; signature=input_dataset:variant, other_arguments: -> handle:variant; attr=f:func; attr=Targuments:list(type),min=0; attr=output_types:list(type),min=1; attr=output_shapes:list(shape),min=1; attr=use_inter_op_parallelism:bool,default=true; attr=preserve_cardinality:bool,default=false; attr=force_synchronous:bool,default=false; attr=metadata:string,default=\"\"> This may be expected if your graph generating binary is newer  than this binary. Unknown attributes will be ignored. NodeDef: {{node ParallelMapDatasetV2/_16}}\n",
      "2025-05-17 03:36:14.028749: E tensorflow/core/framework/node_def_util.cc:676] NodeDef mentions attribute use_unbounded_threadpool which is not in the op definition: Op<name=MapDataset; signature=input_dataset:variant, other_arguments: -> handle:variant; attr=f:func; attr=Targuments:list(type),min=0; attr=output_types:list(type),min=1; attr=output_shapes:list(shape),min=1; attr=use_inter_op_parallelism:bool,default=true; attr=preserve_cardinality:bool,default=false; attr=force_synchronous:bool,default=false; attr=metadata:string,default=\"\"> This may be expected if your graph generating binary is newer  than this binary. Unknown attributes will be ignored. NodeDef: {{node ParallelMapDatasetV2/_16}}\n",
      "2025-05-17 03:39:10.266033: E tensorflow/core/framework/node_def_util.cc:676] NodeDef mentions attribute use_unbounded_threadpool which is not in the op definition: Op<name=MapDataset; signature=input_dataset:variant, other_arguments: -> handle:variant; attr=f:func; attr=Targuments:list(type),min=0; attr=output_types:list(type),min=1; attr=output_shapes:list(shape),min=1; attr=use_inter_op_parallelism:bool,default=true; attr=preserve_cardinality:bool,default=false; attr=force_synchronous:bool,default=false; attr=metadata:string,default=\"\"> This may be expected if your graph generating binary is newer  than this binary. Unknown attributes will be ignored. NodeDef: {{node ParallelMapDatasetV2/_14}}\n"
     ]
    },
    {
     "name": "stdout",
     "output_type": "stream",
     "text": [
      "--- Fold 3 - root_mean_squared_error: 0.0622 - Time: 595.09 s\n"
     ]
    },
    {
     "name": "stderr",
     "output_type": "stream",
     "text": [
      "2025-05-17 03:39:18.237395: E tensorflow/core/framework/node_def_util.cc:676] NodeDef mentions attribute use_unbounded_threadpool which is not in the op definition: Op<name=MapDataset; signature=input_dataset:variant, other_arguments: -> handle:variant; attr=f:func; attr=Targuments:list(type),min=0; attr=output_types:list(type),min=1; attr=output_shapes:list(shape),min=1; attr=use_inter_op_parallelism:bool,default=true; attr=preserve_cardinality:bool,default=false; attr=force_synchronous:bool,default=false; attr=metadata:string,default=\"\"> This may be expected if your graph generating binary is newer  than this binary. Unknown attributes will be ignored. NodeDef: {{node ParallelMapDatasetV2/_16}}\n",
      "2025-05-17 03:42:02.269134: E tensorflow/core/framework/node_def_util.cc:676] NodeDef mentions attribute use_unbounded_threadpool which is not in the op definition: Op<name=MapDataset; signature=input_dataset:variant, other_arguments: -> handle:variant; attr=f:func; attr=Targuments:list(type),min=0; attr=output_types:list(type),min=1; attr=output_shapes:list(shape),min=1; attr=use_inter_op_parallelism:bool,default=true; attr=preserve_cardinality:bool,default=false; attr=force_synchronous:bool,default=false; attr=metadata:string,default=\"\"> This may be expected if your graph generating binary is newer  than this binary. Unknown attributes will be ignored. NodeDef: {{node ParallelMapDatasetV2/_16}}\n",
      "2025-05-17 03:44:17.345424: E tensorflow/core/framework/node_def_util.cc:676] NodeDef mentions attribute use_unbounded_threadpool which is not in the op definition: Op<name=MapDataset; signature=input_dataset:variant, other_arguments: -> handle:variant; attr=f:func; attr=Targuments:list(type),min=0; attr=output_types:list(type),min=1; attr=output_shapes:list(shape),min=1; attr=use_inter_op_parallelism:bool,default=true; attr=preserve_cardinality:bool,default=false; attr=force_synchronous:bool,default=false; attr=metadata:string,default=\"\"> This may be expected if your graph generating binary is newer  than this binary. Unknown attributes will be ignored. NodeDef: {{node ParallelMapDatasetV2/_16}}\n",
      "2025-05-17 03:46:36.374843: E tensorflow/core/framework/node_def_util.cc:676] NodeDef mentions attribute use_unbounded_threadpool which is not in the op definition: Op<name=MapDataset; signature=input_dataset:variant, other_arguments: -> handle:variant; attr=f:func; attr=Targuments:list(type),min=0; attr=output_types:list(type),min=1; attr=output_shapes:list(shape),min=1; attr=use_inter_op_parallelism:bool,default=true; attr=preserve_cardinality:bool,default=false; attr=force_synchronous:bool,default=false; attr=metadata:string,default=\"\"> This may be expected if your graph generating binary is newer  than this binary. Unknown attributes will be ignored. NodeDef: {{node ParallelMapDatasetV2/_14}}\n"
     ]
    },
    {
     "name": "stdout",
     "output_type": "stream",
     "text": [
      "--- Fold 4 - root_mean_squared_error: 0.0611 - Time: 445.30 s\n",
      "\n",
      "------ Overall root_mean_squared_error: 0.0616 - Mean root_mean_squared_error: 0.0616 ± 0.0004 - Time: 2596.11 s\n"
     ]
    },
    {
     "name": "stderr",
     "output_type": "stream",
     "text": [
      "2025-05-17 03:46:41.817767: E tensorflow/core/framework/node_def_util.cc:676] NodeDef mentions attribute use_unbounded_threadpool which is not in the op definition: Op<name=MapDataset; signature=input_dataset:variant, other_arguments: -> handle:variant; attr=f:func; attr=Targuments:list(type),min=0; attr=output_types:list(type),min=1; attr=output_shapes:list(shape),min=1; attr=use_inter_op_parallelism:bool,default=true; attr=preserve_cardinality:bool,default=false; attr=force_synchronous:bool,default=false; attr=metadata:string,default=\"\"> This may be expected if your graph generating binary is newer  than this binary. Unknown attributes will be ignored. NodeDef: {{node ParallelMapDatasetV2/_14}}\n",
      "2025-05-17 03:46:47.719812: E tensorflow/core/framework/node_def_util.cc:676] NodeDef mentions attribute use_unbounded_threadpool which is not in the op definition: Op<name=MapDataset; signature=input_dataset:variant, other_arguments: -> handle:variant; attr=f:func; attr=Targuments:list(type),min=0; attr=output_types:list(type),min=1; attr=output_shapes:list(shape),min=1; attr=use_inter_op_parallelism:bool,default=true; attr=preserve_cardinality:bool,default=false; attr=force_synchronous:bool,default=false; attr=metadata:string,default=\"\"> This may be expected if your graph generating binary is newer  than this binary. Unknown attributes will be ignored. NodeDef: {{node ParallelMapDatasetV2/_14}}\n",
      "2025-05-17 03:46:53.398191: E tensorflow/core/framework/node_def_util.cc:676] NodeDef mentions attribute use_unbounded_threadpool which is not in the op definition: Op<name=MapDataset; signature=input_dataset:variant, other_arguments: -> handle:variant; attr=f:func; attr=Targuments:list(type),min=0; attr=output_types:list(type),min=1; attr=output_shapes:list(shape),min=1; attr=use_inter_op_parallelism:bool,default=true; attr=preserve_cardinality:bool,default=false; attr=force_synchronous:bool,default=false; attr=metadata:string,default=\"\"> This may be expected if your graph generating binary is newer  than this binary. Unknown attributes will be ignored. NodeDef: {{node ParallelMapDatasetV2/_14}}\n"
     ]
    }
   ],
   "source": [
    "nn_trainer = Trainer(\n",
    "    nn_bag,\n",
    "    cv=CFG.cv,\n",
    "    metric=root_mean_squared_error,\n",
    "    task=\"regression\"\n",
    ")\n",
    "\n",
    "nn_trainer.fit(X, y, extra_X=X_original, extra_y=y_original)\n",
    "\n",
    "scores[\"KerasANN\"] = nn_trainer.fold_scores\n",
    "oof_preds[\"KerasANN\"] = nn_trainer.oof_preds\n",
    "test_preds[\"KerasANN\"] = nn_trainer.predict(X_test)"
   ]
  },
  {
   "cell_type": "markdown",
   "id": "8e6d99b0",
   "metadata": {
    "papermill": {
     "duration": 0.017539,
     "end_time": "2025-05-17T03:46:56.664729",
     "exception": false,
     "start_time": "2025-05-17T03:46:56.647190",
     "status": "completed"
    },
    "tags": []
   },
   "source": [
    "# Ensembling with Ridge"
   ]
  },
  {
   "cell_type": "code",
   "execution_count": 25,
   "id": "657256ee",
   "metadata": {
    "_kg_hide-input": true,
    "execution": {
     "iopub.execute_input": "2025-05-17T03:46:56.702702Z",
     "iopub.status.busy": "2025-05-17T03:46:56.702364Z",
     "iopub.status.idle": "2025-05-17T03:46:56.711079Z",
     "shell.execute_reply": "2025-05-17T03:46:56.710084Z"
    },
    "papermill": {
     "duration": 0.029658,
     "end_time": "2025-05-17T03:46:56.712792",
     "exception": false,
     "start_time": "2025-05-17T03:46:56.683134",
     "status": "completed"
    },
    "tags": []
   },
   "outputs": [],
   "source": [
    "def plot_weights(weights, title):\n",
    "    sorted_indices = np.argsort(weights[0])[::-1]\n",
    "    sorted_coeffs = np.array(weights[0])[sorted_indices]\n",
    "    sorted_model_names = np.array(list(oof_preds.keys()))[sorted_indices]\n",
    "\n",
    "    plt.figure(figsize=(10, weights.shape[1] * 0.5))\n",
    "    ax = sns.barplot(x=sorted_coeffs, y=sorted_model_names, palette=\"RdYlGn_r\")\n",
    "\n",
    "    for i, (value, name) in enumerate(zip(sorted_coeffs, sorted_model_names)):\n",
    "        if value >= 0:\n",
    "            ax.text(value, i, f\"{value:.3f}\", va=\"center\", ha=\"left\", color=\"black\")\n",
    "        else:\n",
    "            ax.text(value, i, f\"{value:.3f}\", va=\"center\", ha=\"right\", color=\"black\")\n",
    "\n",
    "    xlim = ax.get_xlim()\n",
    "    ax.set_xlim(xlim[0] - 0.1 * abs(xlim[0]), xlim[1] + 0.1 * abs(xlim[1]))\n",
    "\n",
    "    plt.title(title)\n",
    "    plt.xlabel(\"\")\n",
    "    plt.ylabel(\"\")\n",
    "    plt.tight_layout()\n",
    "    plt.show()"
   ]
  },
  {
   "cell_type": "code",
   "execution_count": 26,
   "id": "c907f463",
   "metadata": {
    "execution": {
     "iopub.execute_input": "2025-05-17T03:46:56.748696Z",
     "iopub.status.busy": "2025-05-17T03:46:56.748397Z",
     "iopub.status.idle": "2025-05-17T03:46:56.800985Z",
     "shell.execute_reply": "2025-05-17T03:46:56.799930Z"
    },
    "papermill": {
     "duration": 0.0727,
     "end_time": "2025-05-17T03:46:56.802965",
     "exception": false,
     "start_time": "2025-05-17T03:46:56.730265",
     "status": "completed"
    },
    "tags": []
   },
   "outputs": [],
   "source": [
    "X = pd.DataFrame(oof_preds)\n",
    "X_test = pd.DataFrame(test_preds)"
   ]
  },
  {
   "cell_type": "code",
   "execution_count": 27,
   "id": "3325de57",
   "metadata": {
    "execution": {
     "iopub.execute_input": "2025-05-17T03:46:56.839606Z",
     "iopub.status.busy": "2025-05-17T03:46:56.839295Z",
     "iopub.status.idle": "2025-05-17T03:46:56.901191Z",
     "shell.execute_reply": "2025-05-17T03:46:56.900061Z"
    },
    "papermill": {
     "duration": 0.082372,
     "end_time": "2025-05-17T03:46:56.902892",
     "exception": false,
     "start_time": "2025-05-17T03:46:56.820520",
     "status": "completed"
    },
    "tags": []
   },
   "outputs": [
    {
     "data": {
      "text/plain": [
       "['test_preds.pkl']"
      ]
     },
     "execution_count": 27,
     "metadata": {},
     "output_type": "execute_result"
    }
   ],
   "source": [
    "joblib.dump(X, \"oof_preds.pkl\")\n",
    "joblib.dump(X_test, \"test_preds.pkl\")"
   ]
  },
  {
   "cell_type": "code",
   "execution_count": 28,
   "id": "1484bef5",
   "metadata": {
    "_kg_hide-output": true,
    "execution": {
     "iopub.execute_input": "2025-05-17T03:46:56.940511Z",
     "iopub.status.busy": "2025-05-17T03:46:56.940172Z",
     "iopub.status.idle": "2025-05-17T04:00:43.381230Z",
     "shell.execute_reply": "2025-05-17T04:00:43.380259Z"
    },
    "papermill": {
     "duration": 826.462118,
     "end_time": "2025-05-17T04:00:43.383769",
     "exception": false,
     "start_time": "2025-05-17T03:46:56.921651",
     "status": "completed"
    },
    "scrolled": true,
    "tags": []
   },
   "outputs": [
    {
     "name": "stderr",
     "output_type": "stream",
     "text": [
      "[I 2025-05-17 03:46:56,945] A new study created in memory with name: no-name-455262b3-7abf-4627-a0c5-80b4080e2ddc\n",
      "[I 2025-05-17 03:47:08,961] Trial 2 finished with value: 0.05899291380111526 and parameters: {'alpha': 6.715091753653594, 'tol': 0.0001470278026090718}. Best is trial 2 with value: 0.05899291380111526.\n",
      "[I 2025-05-17 03:47:09,584] Trial 0 finished with value: 0.058995798227728796 and parameters: {'alpha': 9.524994856049412, 'tol': 0.0029158351902563236}. Best is trial 2 with value: 0.05899291380111526.\n",
      "[I 2025-05-17 03:47:09,590] Trial 1 finished with value: 0.05899173865118676 and parameters: {'alpha': 5.350110824372414, 'tol': 0.0049803530578618445}. Best is trial 1 with value: 0.05899173865118676.\n",
      "[I 2025-05-17 03:47:09,596] Trial 3 finished with value: 0.058990712962338904 and parameters: {'alpha': 3.80506453497358, 'tol': 0.004692058504813857}. Best is trial 3 with value: 0.058990712962338904.\n",
      "[I 2025-05-17 03:47:20,925] Trial 4 finished with value: 0.058990409426152725 and parameters: {'alpha': 3.124647881862299, 'tol': 0.006369306340320037}. Best is trial 4 with value: 0.058990409426152725.\n",
      "[I 2025-05-17 03:47:21,662] Trial 7 finished with value: 0.05899629955258347 and parameters: {'alpha': 9.976251706104103, 'tol': 0.005342559786804622}. Best is trial 4 with value: 0.058990409426152725.\n",
      "[I 2025-05-17 03:47:22,893] Trial 5 finished with value: 0.05899158340281644 and parameters: {'alpha': 5.148297716048864, 'tol': 0.008120511662998736}. Best is trial 4 with value: 0.058990409426152725.\n",
      "[I 2025-05-17 03:47:22,901] Trial 6 finished with value: 0.05899254504248028 and parameters: {'alpha': 6.310315179986395, 'tol': 0.007781835442826127}. Best is trial 4 with value: 0.058990409426152725.\n",
      "[I 2025-05-17 03:47:34,538] Trial 8 finished with value: 0.05899019972050124 and parameters: {'alpha': 2.1497016994522, 'tol': 0.0014167609400893425}. Best is trial 8 with value: 0.05899019972050124.\n",
      "[I 2025-05-17 03:47:35,372] Trial 9 finished with value: 0.05899240729111336 and parameters: {'alpha': 6.1544922602814705, 'tol': 0.0042156870548102805}. Best is trial 8 with value: 0.05899019972050124.\n",
      "[I 2025-05-17 03:47:36,657] Trial 10 finished with value: 0.05899035369568382 and parameters: {'alpha': 1.1823395714912333, 'tol': 0.004524604397780836}. Best is trial 8 with value: 0.05899019972050124.\n",
      "[I 2025-05-17 03:47:36,672] Trial 11 finished with value: 0.058990196518915856 and parameters: {'alpha': 2.00865231727106, 'tol': 0.0045790237952156535}. Best is trial 11 with value: 0.058990196518915856.\n",
      "[I 2025-05-17 03:47:47,807] Trial 12 finished with value: 0.058993124726044247 and parameters: {'alpha': 6.93967996357069, 'tol': 0.00597877018444326}. Best is trial 11 with value: 0.058990196518915856.\n",
      "[I 2025-05-17 03:47:49,191] Trial 13 finished with value: 0.05899029312504956 and parameters: {'alpha': 2.748645734588041, 'tol': 5.4229121378860344e-05}. Best is trial 11 with value: 0.058990196518915856.\n",
      "[I 2025-05-17 03:47:49,990] Trial 14 finished with value: 0.05899057979333529 and parameters: {'alpha': 0.7509763379450787, 'tol': 0.0013034101029871458}. Best is trial 11 with value: 0.058990196518915856.\n",
      "[I 2025-05-17 03:47:51,267] Trial 15 finished with value: 0.05899022217552079 and parameters: {'alpha': 2.3883472344512504, 'tol': 0.00035386899958085257}. Best is trial 11 with value: 0.058990196518915856.\n",
      "[I 2025-05-17 03:48:02,176] Trial 16 finished with value: 0.058990206514447946 and parameters: {'alpha': 1.8004958230719224, 'tol': 0.0002606578955113418}. Best is trial 11 with value: 0.058990196518915856.\n",
      "[I 2025-05-17 03:48:02,902] Trial 17 finished with value: 0.05899058122757101 and parameters: {'alpha': 0.7488042862389492, 'tol': 0.0021185441672243025}. Best is trial 11 with value: 0.058990196518915856.\n",
      "[I 2025-05-17 03:48:04,349] Trial 18 finished with value: 0.05899039835596129 and parameters: {'alpha': 3.0936997095702763, 'tol': 0.002259475754908461}. Best is trial 11 with value: 0.058990196518915856.\n",
      "[I 2025-05-17 03:48:04,369] Trial 19 finished with value: 0.05899052733954621 and parameters: {'alpha': 0.8339393970134934, 'tol': 0.006737331117497782}. Best is trial 11 with value: 0.058990196518915856.\n",
      "[I 2025-05-17 03:48:14,089] Trial 20 finished with value: 0.05899104481716361 and parameters: {'alpha': 0.20761568629914184, 'tol': 0.00860749374429045}. Best is trial 11 with value: 0.058990196518915856.\n",
      "[I 2025-05-17 03:48:15,413] Trial 21 finished with value: 0.058990235920912314 and parameters: {'alpha': 1.5893664311847608, 'tol': 0.008904096321382848}. Best is trial 11 with value: 0.058990196518915856.\n",
      "[I 2025-05-17 03:48:18,242] Trial 22 finished with value: 0.0589905429702715 and parameters: {'alpha': 0.8084601538855596, 'tol': 0.009752062938391894}. Best is trial 11 with value: 0.058990196518915856.\n",
      "[I 2025-05-17 03:48:18,257] Trial 23 finished with value: 0.058990299481884056 and parameters: {'alpha': 1.3350573526777865, 'tol': 0.009681098481796102}. Best is trial 11 with value: 0.058990196518915856.\n",
      "[I 2025-05-17 03:48:27,377] Trial 24 finished with value: 0.05899020299968489 and parameters: {'alpha': 2.204089320919575, 'tol': 0.003591519360885251}. Best is trial 11 with value: 0.058990196518915856.\n",
      "[I 2025-05-17 03:48:29,417] Trial 25 finished with value: 0.05899027984540182 and parameters: {'alpha': 2.694684587692179, 'tol': 0.0034619102587958497}. Best is trial 11 with value: 0.058990196518915856.\n",
      "[I 2025-05-17 03:48:30,833] Trial 26 finished with value: 0.05899041313769869 and parameters: {'alpha': 3.1348664216155853, 'tol': 0.002904031668337053}. Best is trial 11 with value: 0.058990196518915856.\n",
      "[I 2025-05-17 03:48:31,637] Trial 27 finished with value: 0.05899089316739375 and parameters: {'alpha': 4.128455622019599, 'tol': 0.002065731831587204}. Best is trial 11 with value: 0.058990196518915856.\n",
      "[I 2025-05-17 03:48:41,206] Trial 28 finished with value: 0.058990213722759394 and parameters: {'alpha': 2.320733920634918, 'tol': 0.004201911609753179}. Best is trial 11 with value: 0.058990196518915856.\n",
      "[I 2025-05-17 03:48:41,993] Trial 29 finished with value: 0.05899560859720355 and parameters: {'alpha': 9.35235087368611, 'tol': 0.00848615315756373}. Best is trial 11 with value: 0.058990196518915856.\n",
      "[I 2025-05-17 03:48:43,412] Trial 30 finished with value: 0.058990694787378346 and parameters: {'alpha': 0.5900333608841635, 'tol': 0.004246060024180077}. Best is trial 11 with value: 0.058990196518915856.\n",
      "[I 2025-05-17 03:48:45,460] Trial 31 finished with value: 0.05899475221978317 and parameters: {'alpha': 8.556671356741177, 'tol': 0.009276034304642737}. Best is trial 11 with value: 0.058990196518915856.\n",
      "[I 2025-05-17 03:48:55,051] Trial 32 finished with value: 0.05899108455319105 and parameters: {'alpha': 0.17095569098029495, 'tol': 0.0035685590897424685}. Best is trial 11 with value: 0.058990196518915856.\n",
      "[I 2025-05-17 03:48:56,446] Trial 33 finished with value: 0.0589904243715713 and parameters: {'alpha': 1.0224752035071836, 'tol': 0.003964991368796877}. Best is trial 11 with value: 0.058990196518915856.\n",
      "[I 2025-05-17 03:48:57,221] Trial 34 finished with value: 0.05899044715690378 and parameters: {'alpha': 0.9771011420824394, 'tol': 0.0012741244071081367}. Best is trial 11 with value: 0.058990196518915856.\n",
      "[I 2025-05-17 03:48:58,614] Trial 35 finished with value: 0.058990649538705954 and parameters: {'alpha': 0.6504206764750684, 'tol': 0.0006735155976427877}. Best is trial 11 with value: 0.058990196518915856.\n",
      "[I 2025-05-17 03:49:06,965] Trial 36 finished with value: 0.05899028266358195 and parameters: {'alpha': 1.3911826634360942, 'tol': 9.263974344685382e-05}. Best is trial 11 with value: 0.058990196518915856.\n",
      "[I 2025-05-17 03:49:08,326] Trial 37 finished with value: 0.058991151334508954 and parameters: {'alpha': 0.11161330414493675, 'tol': 0.00016055902387857274}. Best is trial 11 with value: 0.058990196518915856.\n",
      "[I 2025-05-17 03:49:09,142] Trial 38 finished with value: 0.05899514177675784 and parameters: {'alpha': 8.922131857059124, 'tol': 0.0006714494430279062}. Best is trial 11 with value: 0.058990196518915856.\n",
      "[I 2025-05-17 03:49:11,147] Trial 39 finished with value: 0.05899152838541683 and parameters: {'alpha': 5.074983574157131, 'tol': 0.0008938380410820465}. Best is trial 11 with value: 0.058990196518915856.\n",
      "[I 2025-05-17 03:49:19,972] Trial 40 finished with value: 0.058990395184027176 and parameters: {'alpha': 3.0846966325691665, 'tol': 0.006138496542175336}. Best is trial 11 with value: 0.058990196518915856.\n",
      "[I 2025-05-17 03:49:21,388] Trial 41 finished with value: 0.05899032194078485 and parameters: {'alpha': 2.8551938111029482, 'tol': 0.0016560516205861573}. Best is trial 11 with value: 0.058990196518915856.\n",
      "[I 2025-05-17 03:49:23,515] Trial 42 finished with value: 0.058990364012357466 and parameters: {'alpha': 2.9926035900004484, 'tol': 0.00519816627724788}. Best is trial 11 with value: 0.058990196518915856.\n",
      "[I 2025-05-17 03:49:24,869] Trial 43 finished with value: 0.058990964263425726 and parameters: {'alpha': 4.246875912641684, 'tol': 0.004654301465613531}. Best is trial 11 with value: 0.058990196518915856.\n",
      "[I 2025-05-17 03:49:33,173] Trial 44 finished with value: 0.05899019794628291 and parameters: {'alpha': 2.107378849875917, 'tol': 0.003658170984464454}. Best is trial 11 with value: 0.058990196518915856.\n",
      "[I 2025-05-17 03:49:34,563] Trial 45 finished with value: 0.05899031930752848 and parameters: {'alpha': 2.845952592355014, 'tol': 0.004982870913479455}. Best is trial 11 with value: 0.058990196518915856.\n",
      "[I 2025-05-17 03:49:35,351] Trial 46 finished with value: 0.05899022378842062 and parameters: {'alpha': 2.399959120278544, 'tol': 0.004726395308975795}. Best is trial 11 with value: 0.058990196518915856.\n",
      "[I 2025-05-17 03:49:36,732] Trial 47 finished with value: 0.058990224622951386 and parameters: {'alpha': 2.405838824745841, 'tol': 0.004709224313731517}. Best is trial 11 with value: 0.058990196518915856.\n",
      "[I 2025-05-17 03:49:46,882] Trial 48 finished with value: 0.05899019756481988 and parameters: {'alpha': 2.0952432989558853, 'tol': 0.003350382151506295}. Best is trial 11 with value: 0.058990196518915856.\n",
      "[I 2025-05-17 03:49:48,247] Trial 49 finished with value: 0.058990204143175295 and parameters: {'alpha': 2.2196685804813328, 'tol': 0.0030369266611158224}. Best is trial 11 with value: 0.058990196518915856.\n",
      "[I 2025-05-17 03:49:49,023] Trial 50 finished with value: 0.058990202150835024 and parameters: {'alpha': 1.8547927350244455, 'tol': 0.0020525930088791337}. Best is trial 11 with value: 0.058990196518915856.\n",
      "[I 2025-05-17 03:49:50,411] Trial 51 finished with value: 0.058990205641542205 and parameters: {'alpha': 1.8101966591513943, 'tol': 0.002662716098558616}. Best is trial 11 with value: 0.058990196518915856.\n",
      "[I 2025-05-17 03:50:00,642] Trial 52 finished with value: 0.05899019648645989 and parameters: {'alpha': 2.020613042858284, 'tol': 0.0030980133671029827}. Best is trial 52 with value: 0.05899019648645989.\n",
      "[I 2025-05-17 03:50:02,066] Trial 53 finished with value: 0.05899022763997176 and parameters: {'alpha': 1.6362044964357099, 'tol': 0.00354741840242194}. Best is trial 52 with value: 0.05899019648645989.\n",
      "[I 2025-05-17 03:50:02,872] Trial 54 finished with value: 0.05899027422675617 and parameters: {'alpha': 2.670673647557851, 'tol': 0.002214155461583433}. Best is trial 52 with value: 0.05899019648645989.\n",
      "[I 2025-05-17 03:50:04,914] Trial 55 finished with value: 0.05899025994159856 and parameters: {'alpha': 2.6057318230694646, 'tol': 0.002842838049211852}. Best is trial 52 with value: 0.05899019648645989.\n",
      "[I 2025-05-17 03:50:13,361] Trial 56 finished with value: 0.058990228149683924 and parameters: {'alpha': 1.6331446661663667, 'tol': 0.0029637772655210937}. Best is trial 52 with value: 0.05899019648645989.\n",
      "[I 2025-05-17 03:50:14,753] Trial 57 finished with value: 0.05899040742921303 and parameters: {'alpha': 3.1191179235002324, 'tol': 0.0029549425599234265}. Best is trial 52 with value: 0.05899019648645989.\n",
      "[I 2025-05-17 03:50:15,537] Trial 58 finished with value: 0.058990275198355265 and parameters: {'alpha': 2.674881435528027, 'tol': 0.0022370379579138996}. Best is trial 52 with value: 0.05899019648645989.\n",
      "[I 2025-05-17 03:50:16,926] Trial 59 finished with value: 0.05899398272553183 and parameters: {'alpha': 7.81344639468167, 'tol': 0.0031476091486541285}. Best is trial 52 with value: 0.05899019648645989.\n",
      "[I 2025-05-17 03:50:26,544] Trial 60 finished with value: 0.05899025833553603 and parameters: {'alpha': 1.4841324401045406, 'tol': 0.0024172493274456867}. Best is trial 52 with value: 0.05899019648645989.\n",
      "[I 2025-05-17 03:50:27,944] Trial 61 finished with value: 0.05899024064925332 and parameters: {'alpha': 2.505968203908275, 'tol': 0.0019265061020931487}. Best is trial 52 with value: 0.05899019648645989.\n",
      "[I 2025-05-17 03:50:28,710] Trial 62 finished with value: 0.05899025758003558 and parameters: {'alpha': 1.4873098328396521, 'tol': 0.0021626850191393257}. Best is trial 52 with value: 0.05899019648645989.\n",
      "[I 2025-05-17 03:50:30,055] Trial 63 finished with value: 0.05899032048751141 and parameters: {'alpha': 1.271588743454788, 'tol': 0.002632131254948841}. Best is trial 52 with value: 0.05899019648645989.\n",
      "[I 2025-05-17 03:50:39,032] Trial 64 finished with value: 0.0589912412884284 and parameters: {'alpha': 0.03572115286271682, 'tol': 0.005909084151246667}. Best is trial 52 with value: 0.05899019648645989.\n",
      "[I 2025-05-17 03:50:40,444] Trial 65 finished with value: 0.058990203735286156 and parameters: {'alpha': 2.2142507409915417, 'tol': 0.004066932953147013}. Best is trial 52 with value: 0.05899019648645989.\n",
      "[I 2025-05-17 03:50:41,857] Trial 66 finished with value: 0.058990250982871945 and parameters: {'alpha': 1.5159978254765738, 'tol': 0.004570961080595654}. Best is trial 52 with value: 0.05899019648645989.\n",
      "[I 2025-05-17 03:50:43,229] Trial 67 finished with value: 0.05899042513130639 and parameters: {'alpha': 1.020921723237196, 'tol': 0.004755767324859979}. Best is trial 52 with value: 0.05899019648645989.\n",
      "[I 2025-05-17 03:50:52,679] Trial 68 finished with value: 0.05899112165802748 and parameters: {'alpha': 4.495283382328644, 'tol': 0.0036982720426606127}. Best is trial 52 with value: 0.05899019648645989.\n",
      "[I 2025-05-17 03:50:54,045] Trial 69 finished with value: 0.05899023075301785 and parameters: {'alpha': 1.6179059457207632, 'tol': 0.004358109513207541}. Best is trial 52 with value: 0.05899019648645989.\n",
      "[I 2025-05-17 03:50:54,801] Trial 70 finished with value: 0.058991494945154446 and parameters: {'alpha': 5.029919733905466, 'tol': 0.009948693787411205}. Best is trial 52 with value: 0.05899019648645989.\n",
      "[I 2025-05-17 03:50:56,210] Trial 71 finished with value: 0.058990668700169654 and parameters: {'alpha': 3.7191025106335007, 'tol': 0.0031197620199552942}. Best is trial 52 with value: 0.05899019648645989.\n",
      "[I 2025-05-17 03:51:05,747] Trial 72 finished with value: 0.05899020456752447 and parameters: {'alpha': 2.225157700118799, 'tol': 0.0035789722581352074}. Best is trial 52 with value: 0.05899019648645989.\n",
      "[I 2025-05-17 03:51:07,129] Trial 73 finished with value: 0.0589903763296092 and parameters: {'alpha': 3.0298254904701163, 'tol': 0.0034063326667859903}. Best is trial 52 with value: 0.05899019648645989.\n",
      "[I 2025-05-17 03:51:07,903] Trial 74 finished with value: 0.05899029929718836 and parameters: {'alpha': 2.7725660870229243, 'tol': 0.00430377411561613}. Best is trial 52 with value: 0.05899019648645989.\n",
      "[I 2025-05-17 03:51:09,286] Trial 75 finished with value: 0.05899025227216641 and parameters: {'alpha': 2.568049194481503, 'tol': 0.003857261971801691}. Best is trial 52 with value: 0.05899019648645989.\n",
      "[I 2025-05-17 03:51:16,973] Trial 76 finished with value: 0.05899023577841917 and parameters: {'alpha': 2.4776857840821305, 'tol': 0.003968662692663794}. Best is trial 52 with value: 0.05899019648645989.\n",
      "[I 2025-05-17 03:51:17,750] Trial 77 finished with value: 0.058990355366876635 and parameters: {'alpha': 2.9657505396523574, 'tol': 0.0043730108392668774}. Best is trial 52 with value: 0.05899019648645989.\n",
      "[I 2025-05-17 03:51:19,734] Trial 78 finished with value: 0.05899040643448153 and parameters: {'alpha': 1.0600412500014484, 'tol': 0.003421207265928941}. Best is trial 52 with value: 0.05899019648645989.\n",
      "[I 2025-05-17 03:51:21,110] Trial 79 finished with value: 0.05899027379990606 and parameters: {'alpha': 1.4231748614842181, 'tol': 0.0031363502163719646}. Best is trial 52 with value: 0.05899019648645989.\n",
      "[I 2025-05-17 03:51:30,705] Trial 80 finished with value: 0.05899044882814183 and parameters: {'alpha': 0.9738673685351323, 'tol': 0.002649352665109188}. Best is trial 52 with value: 0.05899019648645989.\n",
      "[I 2025-05-17 03:51:31,499] Trial 81 finished with value: 0.05899113760277527 and parameters: {'alpha': 0.12359494070180177, 'tol': 0.003059326888140288}. Best is trial 52 with value: 0.05899019648645989.\n",
      "[I 2025-05-17 03:51:32,820] Trial 82 finished with value: 0.058990786701678524 and parameters: {'alpha': 3.9420183505235165, 'tol': 0.0006564864490531831}. Best is trial 52 with value: 0.05899019648645989.\n",
      "[I 2025-05-17 03:51:34,276] Trial 83 finished with value: 0.058990231366049854 and parameters: {'alpha': 2.4505989873588563, 'tol': 0.006640463937084586}. Best is trial 52 with value: 0.05899019648645989.\n",
      "[I 2025-05-17 03:51:44,316] Trial 84 finished with value: 0.05899032143876085 and parameters: {'alpha': 2.8534387813161874, 'tol': 0.0003128588344994993}. Best is trial 52 with value: 0.05899019648645989.\n",
      "[I 2025-05-17 03:51:45,765] Trial 85 finished with value: 0.058990520792449784 and parameters: {'alpha': 3.4044146235119896, 'tol': 0.001289512277069567}. Best is trial 52 with value: 0.05899019648645989.\n",
      "[I 2025-05-17 03:51:45,780] Trial 86 finished with value: 0.05899019827921082 and parameters: {'alpha': 2.116733590803679, 'tol': 0.0015056496461903057}. Best is trial 52 with value: 0.05899019648645989.\n",
      "[I 2025-05-17 03:51:47,320] Trial 87 finished with value: 0.05899026772051139 and parameters: {'alpha': 2.641847091403648, 'tol': 0.0024688100036058397}. Best is trial 52 with value: 0.05899019648645989.\n",
      "[I 2025-05-17 03:51:57,376] Trial 88 finished with value: 0.05899478802527551 and parameters: {'alpha': 8.590532894956416, 'tol': 0.005777310410642808}. Best is trial 52 with value: 0.05899019648645989.\n",
      "[I 2025-05-17 03:51:59,430] Trial 90 finished with value: 0.058990461712442224 and parameters: {'alpha': 0.9493377895706834, 'tol': 0.0012104167525481889}. Best is trial 52 with value: 0.05899019648645989.\n",
      "[I 2025-05-17 03:51:59,431] Trial 89 finished with value: 0.05899020138091923 and parameters: {'alpha': 1.8664134109399813, 'tol': 0.0018821025105673942}. Best is trial 52 with value: 0.05899019648645989.\n",
      "[I 2025-05-17 03:52:01,005] Trial 91 finished with value: 0.0589901977588101 and parameters: {'alpha': 2.101640997213529, 'tol': 0.0017061425454223827}. Best is trial 52 with value: 0.05899019648645989.\n",
      "[I 2025-05-17 03:52:11,185] Trial 92 finished with value: 0.05899020453675971 and parameters: {'alpha': 2.224764535925145, 'tol': 0.0011535486780702739}. Best is trial 52 with value: 0.05899019648645989.\n",
      "[I 2025-05-17 03:52:12,623] Trial 93 finished with value: 0.05899020621530332 and parameters: {'alpha': 1.8037695475813567, 'tol': 0.0009256062100985783}. Best is trial 52 with value: 0.05899019648645989.\n",
      "[I 2025-05-17 03:52:13,380] Trial 94 finished with value: 0.05899023075747314 and parameters: {'alpha': 2.4467386418094654, 'tol': 0.0017724360035316546}. Best is trial 52 with value: 0.05899019648645989.\n",
      "[I 2025-05-17 03:52:14,702] Trial 95 finished with value: 0.05899021689764687 and parameters: {'alpha': 2.3476757556672214, 'tol': 0.0015264710788257794}. Best is trial 52 with value: 0.05899019648645989.\n",
      "[I 2025-05-17 03:52:24,836] Trial 96 finished with value: 0.058990199138585706 and parameters: {'alpha': 2.1374999061677435, 'tol': 0.0012140403619992648}. Best is trial 52 with value: 0.05899019648645989.\n",
      "[I 2025-05-17 03:52:26,218] Trial 97 finished with value: 0.05899035826561109 and parameters: {'alpha': 1.1709091986834055, 'tol': 0.0016581791278345536}. Best is trial 52 with value: 0.05899019648645989.\n",
      "[I 2025-05-17 03:52:26,931] Trial 98 finished with value: 0.05899027132184072 and parameters: {'alpha': 1.4324697029543376, 'tol': 0.0013461438586652528}. Best is trial 52 with value: 0.05899019648645989.\n",
      "[I 2025-05-17 03:52:28,352] Trial 99 finished with value: 0.05899020657202662 and parameters: {'alpha': 1.799871496980816, 'tol': 0.00167100903459368}. Best is trial 52 with value: 0.05899019648645989.\n",
      "[I 2025-05-17 03:52:37,414] Trial 100 finished with value: 0.05899019922308398 and parameters: {'alpha': 1.905221620877105, 'tol': 0.0013077079979477066}. Best is trial 52 with value: 0.05899019648645989.\n",
      "[I 2025-05-17 03:52:38,777] Trial 101 finished with value: 0.058990206556291364 and parameters: {'alpha': 2.24918988556466, 'tol': 0.00013839082726084832}. Best is trial 52 with value: 0.05899019648645989.\n",
      "[I 2025-05-17 03:52:39,554] Trial 102 finished with value: 0.05899026110938213 and parameters: {'alpha': 2.6112794196693794, 'tol': 0.0008034309503691763}. Best is trial 52 with value: 0.05899019648645989.\n",
      "[I 2025-05-17 03:52:40,915] Trial 103 finished with value: 0.058990629345112525 and parameters: {'alpha': 3.6398989525150034, 'tol': 0.001880330092490244}. Best is trial 52 with value: 0.05899019648645989.\n",
      "[I 2025-05-17 03:52:50,995] Trial 104 finished with value: 0.058990232758677055 and parameters: {'alpha': 2.459314558049689, 'tol': 0.001325285192384303}. Best is trial 52 with value: 0.05899019648645989.\n",
      "[I 2025-05-17 03:52:52,391] Trial 105 finished with value: 0.05899058873508811 and parameters: {'alpha': 3.5550258810861033, 'tol': 0.0016699663892651617}. Best is trial 52 with value: 0.05899019648645989.\n",
      "[I 2025-05-17 03:52:53,120] Trial 106 finished with value: 0.058990371124630396 and parameters: {'alpha': 3.014238075288405, 'tol': 0.0014315399189692225}. Best is trial 52 with value: 0.05899019648645989.\n",
      "[I 2025-05-17 03:52:54,505] Trial 107 finished with value: 0.05899025866182851 and parameters: {'alpha': 1.482766578348022, 'tol': 0.0017417500527411329}. Best is trial 52 with value: 0.05899019648645989.\n",
      "[I 2025-05-17 03:53:02,811] Trial 108 finished with value: 0.058990200093410466 and parameters: {'alpha': 1.8881657216740253, 'tol': 0.0016705097410204652}. Best is trial 52 with value: 0.05899019648645989.\n",
      "[I 2025-05-17 03:53:04,246] Trial 109 finished with value: 0.05899025561477051 and parameters: {'alpha': 1.4956749183087608, 'tol': 0.0016693696175050336}. Best is trial 52 with value: 0.05899019648645989.\n",
      "[I 2025-05-17 03:53:05,072] Trial 110 finished with value: 0.058990423321690626 and parameters: {'alpha': 1.0246268103247933, 'tol': 0.001467891231036791}. Best is trial 52 with value: 0.05899019648645989.\n",
      "[I 2025-05-17 03:53:06,389] Trial 111 finished with value: 0.05899022652301647 and parameters: {'alpha': 1.6430028665009158, 'tol': 0.0018661682825721567}. Best is trial 52 with value: 0.05899019648645989.\n",
      "[I 2025-05-17 03:53:16,606] Trial 112 finished with value: 0.0589910047782292 and parameters: {'alpha': 0.24566477766180195, 'tol': 0.0014404607873097555}. Best is trial 52 with value: 0.05899019648645989.\n",
      "[I 2025-05-17 03:53:17,963] Trial 113 finished with value: 0.05899624166982162 and parameters: {'alpha': 9.924506007294937, 'tol': 0.0037641942271447754}. Best is trial 52 with value: 0.05899019648645989.\n",
      "[I 2025-05-17 03:53:18,694] Trial 114 finished with value: 0.05899021415027242 and parameters: {'alpha': 2.3244932340414266, 'tol': 0.0026829847520857836}. Best is trial 52 with value: 0.05899019648645989.\n",
      "[I 2025-05-17 03:53:20,104] Trial 115 finished with value: 0.05899032863973942 and parameters: {'alpha': 2.8783179380259942, 'tol': 0.002788601944086925}. Best is trial 52 with value: 0.05899019648645989.\n",
      "[I 2025-05-17 03:53:29,577] Trial 116 finished with value: 0.05899024429625206 and parameters: {'alpha': 2.5261939415696877, 'tol': 0.0022361389859601117}. Best is trial 52 with value: 0.05899019648645989.\n",
      "[I 2025-05-17 03:53:30,338] Trial 117 finished with value: 0.058990229884545886 and parameters: {'alpha': 2.441144291384095, 'tol': 0.0023155902472183063}. Best is trial 52 with value: 0.05899019648645989.\n",
      "[I 2025-05-17 03:53:31,744] Trial 118 finished with value: 0.05899019788033708 and parameters: {'alpha': 1.9383117814396478, 'tol': 0.0016261170374520582}. Best is trial 52 with value: 0.05899019648645989.\n",
      "[I 2025-05-17 03:53:33,144] Trial 119 finished with value: 0.05899019976949646 and parameters: {'alpha': 2.150677666334958, 'tol': 0.002441622021356549}. Best is trial 52 with value: 0.05899019648645989.\n",
      "[I 2025-05-17 03:53:42,705] Trial 120 finished with value: 0.058990213795695065 and parameters: {'alpha': 1.732455957210203, 'tol': 0.001069200696195507}. Best is trial 52 with value: 0.05899019648645989.\n",
      "[I 2025-05-17 03:53:43,437] Trial 121 finished with value: 0.05899021951252975 and parameters: {'alpha': 1.689084367341228, 'tol': 0.002878454040542585}. Best is trial 52 with value: 0.05899019648645989.\n",
      "[I 2025-05-17 03:53:44,841] Trial 122 finished with value: 0.05899019951074912 and parameters: {'alpha': 2.145438826524106, 'tol': 0.001584602144185175}. Best is trial 52 with value: 0.05899019648645989.\n",
      "[I 2025-05-17 03:53:46,836] Trial 123 finished with value: 0.058990207729773605 and parameters: {'alpha': 1.7876865931675032, 'tol': 0.0004876985165702234}. Best is trial 52 with value: 0.05899019648645989.\n",
      "[I 2025-05-17 03:53:56,269] Trial 124 finished with value: 0.05899021602411011 and parameters: {'alpha': 2.3404769888073442, 'tol': 5.615056300788514e-05}. Best is trial 52 with value: 0.05899019648645989.\n",
      "[I 2025-05-17 03:53:57,640] Trial 125 finished with value: 0.0589901971892715 and parameters: {'alpha': 1.9623117458839379, 'tol': 0.0007562367514758416}. Best is trial 52 with value: 0.05899019648645989.\n",
      "[I 2025-05-17 03:53:58,423] Trial 126 finished with value: 0.05899181538204904 and parameters: {'alpha': 5.447362926591142, 'tol': 0.0067468540513965225}. Best is trial 52 with value: 0.05899019648645989.\n",
      "[I 2025-05-17 03:54:00,431] Trial 127 finished with value: 0.058990411391520614 and parameters: {'alpha': 3.130068439801527, 'tol': 0.0015815160777954964}. Best is trial 52 with value: 0.05899019648645989.\n",
      "[I 2025-05-17 03:54:09,389] Trial 128 finished with value: 0.058990748192845666 and parameters: {'alpha': 3.871399764295427, 'tol': 0.0022844163724235773}. Best is trial 52 with value: 0.05899019648645989.\n",
      "[I 2025-05-17 03:54:11,387] Trial 129 finished with value: 0.05899063612048534 and parameters: {'alpha': 3.6537366018816613, 'tol': 0.001445542504717087}. Best is trial 52 with value: 0.05899019648645989.\n",
      "[I 2025-05-17 03:54:12,209] Trial 130 finished with value: 0.058991779160694854 and parameters: {'alpha': 5.401646327916894, 'tol': 0.002354478195275264}. Best is trial 52 with value: 0.05899019648645989.\n",
      "[I 2025-05-17 03:54:13,616] Trial 131 finished with value: 0.05899025869914743 and parameters: {'alpha': 2.599777217184119, 'tol': 0.00027006770101246355}. Best is trial 52 with value: 0.05899019648645989.\n",
      "[I 2025-05-17 03:54:23,129] Trial 132 finished with value: 0.05899027423016198 and parameters: {'alpha': 2.670688442968851, 'tol': 4.630527826711005e-05}. Best is trial 52 with value: 0.05899019648645989.\n",
      "[I 2025-05-17 03:54:24,534] Trial 133 finished with value: 0.05899032765155438 and parameters: {'alpha': 1.251311237800783, 'tol': 0.003683816041670695}. Best is trial 52 with value: 0.05899019648645989.\n",
      "[I 2025-05-17 03:54:25,912] Trial 134 finished with value: 0.05899034298828634 and parameters: {'alpha': 1.2098658197482925, 'tol': 0.0002964453572683737}. Best is trial 52 with value: 0.05899019648645989.\n",
      "[I 2025-05-17 03:54:26,695] Trial 135 finished with value: 0.05899042490897775 and parameters: {'alpha': 1.0213760300610146, 'tol': 0.00034855992270668625}. Best is trial 52 with value: 0.05899019648645989.\n",
      "[I 2025-05-17 03:54:36,183] Trial 136 finished with value: 0.058990335311379725 and parameters: {'alpha': 1.2302950436384443, 'tol': 0.002887368623466984}. Best is trial 52 with value: 0.05899019648645989.\n",
      "[I 2025-05-17 03:54:37,570] Trial 137 finished with value: 0.05899021993634239 and parameters: {'alpha': 1.6861056681629498, 'tol': 0.0019737878298995352}. Best is trial 52 with value: 0.05899019648645989.\n",
      "[I 2025-05-17 03:54:38,338] Trial 138 finished with value: 0.0589902122178377 and parameters: {'alpha': 1.7457019306929036, 'tol': 0.002662963775121649}. Best is trial 52 with value: 0.05899019648645989.\n",
      "[I 2025-05-17 03:54:40,386] Trial 139 finished with value: 0.05899019944505495 and parameters: {'alpha': 1.9006370103871741, 'tol': 0.0024358314671279317}. Best is trial 52 with value: 0.05899019648645989.\n",
      "[I 2025-05-17 03:54:49,847] Trial 140 finished with value: 0.05899020501965965 and parameters: {'alpha': 2.230853820803329, 'tol': 0.0020273105808895023}. Best is trial 52 with value: 0.05899019648645989.\n",
      "[I 2025-05-17 03:54:50,587] Trial 141 finished with value: 0.05899027050796411 and parameters: {'alpha': 2.6543398875808784, 'tol': 0.0024700844861063258}. Best is trial 52 with value: 0.05899019648645989.\n",
      "[I 2025-05-17 03:54:51,989] Trial 142 finished with value: 0.058990276912348476 and parameters: {'alpha': 2.6822465278559577, 'tol': 0.0027798807275110004}. Best is trial 52 with value: 0.05899019648645989.\n",
      "[I 2025-05-17 03:54:53,977] Trial 143 finished with value: 0.058990292111201124 and parameters: {'alpha': 2.744650703431714, 'tol': 0.0032370593562611755}. Best is trial 52 with value: 0.05899019648645989.\n",
      "[I 2025-05-17 03:55:02,842] Trial 144 finished with value: 0.0589902136653363 and parameters: {'alpha': 1.7335259401945473, 'tol': 0.005636996438419821}. Best is trial 52 with value: 0.05899019648645989.\n",
      "[I 2025-05-17 03:55:03,626] Trial 145 finished with value: 0.05899026011841191 and parameters: {'alpha': 1.4767156625825972, 'tol': 0.005201254947736329}. Best is trial 52 with value: 0.05899019648645989.\n",
      "[I 2025-05-17 03:55:04,412] Trial 146 finished with value: 0.058990197401953985 and parameters: {'alpha': 2.0894157778456983, 'tol': 0.004870736370973294}. Best is trial 52 with value: 0.05899019648645989.\n",
      "[I 2025-05-17 03:55:06,437] Trial 147 finished with value: 0.05899023166190484 and parameters: {'alpha': 1.6127299923612883, 'tol': 0.005223302683522755}. Best is trial 52 with value: 0.05899019648645989.\n",
      "[I 2025-05-17 03:55:15,964] Trial 148 finished with value: 0.05899128316564723 and parameters: {'alpha': 0.001818255726768303, 'tol': 0.0020645877741876655}. Best is trial 52 with value: 0.05899019648645989.\n",
      "[I 2025-05-17 03:55:17,309] Trial 149 finished with value: 0.05899046201816292 and parameters: {'alpha': 0.9487641225821143, 'tol': 0.001859709777800516}. Best is trial 52 with value: 0.05899019648645989.\n",
      "[I 2025-05-17 03:55:18,090] Trial 150 finished with value: 0.05899020774380104 and parameters: {'alpha': 2.262443756373486, 'tol': 0.004969874448024361}. Best is trial 52 with value: 0.05899019648645989.\n",
      "[I 2025-05-17 03:55:20,082] Trial 151 finished with value: 0.0589901964863823 and parameters: {'alpha': 2.0219214481299184, 'tol': 0.003824339902373062}. Best is trial 151 with value: 0.0589901964863823.\n",
      "[I 2025-05-17 03:55:28,926] Trial 152 finished with value: 0.05899056560571646 and parameters: {'alpha': 3.505069168711354, 'tol': 0.004879634023447172}. Best is trial 151 with value: 0.0589901964863823.\n",
      "[I 2025-05-17 03:55:30,291] Trial 153 finished with value: 0.058990222916388654 and parameters: {'alpha': 1.6659104062701269, 'tol': 0.004125802313536821}. Best is trial 151 with value: 0.0589901964863823.\n",
      "[I 2025-05-17 03:55:31,729] Trial 154 finished with value: 0.05899078747957396 and parameters: {'alpha': 3.94342588046659, 'tol': 0.00462759610596942}. Best is trial 151 with value: 0.0589901964863823.\n",
      "[I 2025-05-17 03:55:32,494] Trial 155 finished with value: 0.0589909984165981 and parameters: {'alpha': 4.302279125720796, 'tol': 0.004546626112405012}. Best is trial 151 with value: 0.0589901964863823.\n",
      "[I 2025-05-17 03:55:39,665] Trial 156 finished with value: 0.05899048797142593 and parameters: {'alpha': 0.9013803826027076, 'tol': 0.004443711193767229}. Best is trial 151 with value: 0.0589901964863823.\n",
      "[I 2025-05-17 03:55:41,674] Trial 157 finished with value: 0.05899023103749009 and parameters: {'alpha': 2.4485188519181214, 'tol': 0.0038733554565591934}. Best is trial 151 with value: 0.0589901964863823.\n",
      "[I 2025-05-17 03:55:43,182] Trial 158 finished with value: 0.05899020076830391 and parameters: {'alpha': 2.1692074073039906, 'tol': 0.004106037898487998}. Best is trial 151 with value: 0.0589901964863823.\n",
      "[I 2025-05-17 03:55:43,943] Trial 159 finished with value: 0.05899078703519589 and parameters: {'alpha': 0.47642348641525056, 'tol': 0.004125769685243809}. Best is trial 151 with value: 0.0589901964863823.\n",
      "[I 2025-05-17 03:55:53,452] Trial 160 finished with value: 0.05899020888971192 and parameters: {'alpha': 2.2746041873330456, 'tol': 0.003490959809937446}. Best is trial 151 with value: 0.0589901964863823.\n",
      "[I 2025-05-17 03:55:55,467] Trial 161 finished with value: 0.05899020075231575 and parameters: {'alpha': 2.168928658331537, 'tol': 0.0037515274077348287}. Best is trial 151 with value: 0.0589901964863823.\n",
      "[I 2025-05-17 03:55:56,944] Trial 162 finished with value: 0.058990216425117856 and parameters: {'alpha': 2.343800447952795, 'tol': 0.0032626988366070355}. Best is trial 151 with value: 0.0589901964863823.\n",
      "[I 2025-05-17 03:55:56,945] Trial 163 finished with value: 0.05899019735463337 and parameters: {'alpha': 1.9557542865879662, 'tol': 0.0031649010592388516}. Best is trial 151 with value: 0.0589901964863823.\n",
      "[I 2025-05-17 03:56:05,816] Trial 164 finished with value: 0.05899023130109598 and parameters: {'alpha': 1.6147762107261663, 'tol': 0.0018789764604159606}. Best is trial 151 with value: 0.0589901964863823.\n",
      "[I 2025-05-17 03:56:07,332] Trial 165 finished with value: 0.05899020564311062 and parameters: {'alpha': 2.238472458991082, 'tol': 0.00126104808755182}. Best is trial 151 with value: 0.0589901964863823.\n",
      "[I 2025-05-17 03:56:10,119] Trial 166 finished with value: 0.058990232427008564 and parameters: {'alpha': 1.6084272052740993, 'tol': 0.0025686197863938978}. Best is trial 151 with value: 0.0589901964863823.\n",
      "[I 2025-05-17 03:56:10,748] Trial 167 finished with value: 0.05899024983809917 and parameters: {'alpha': 2.5555911700111555, 'tol': 0.0016156843813304267}. Best is trial 151 with value: 0.0589901964863823.\n",
      "[I 2025-05-17 03:56:18,413] Trial 168 finished with value: 0.05899039576768094 and parameters: {'alpha': 3.0863579371609515, 'tol': 0.0019619226161466585}. Best is trial 151 with value: 0.0589901964863823.\n",
      "[I 2025-05-17 03:56:21,191] Trial 169 finished with value: 0.058990287697334026 and parameters: {'alpha': 1.3738041166510793, 'tol': 0.0033386738351508845}. Best is trial 151 with value: 0.0589901964863823.\n",
      "[I 2025-05-17 03:56:22,711] Trial 170 finished with value: 0.05899035320984993 and parameters: {'alpha': 2.9589505555081272, 'tol': 0.0020834312100186402}. Best is trial 151 with value: 0.0589901964863823.\n",
      "[I 2025-05-17 03:56:22,719] Trial 171 finished with value: 0.058990314438527675 and parameters: {'alpha': 1.2892178021803389, 'tol': 0.00314411919408286}. Best is trial 151 with value: 0.0589901964863823.\n",
      "[I 2025-05-17 03:56:32,184] Trial 172 finished with value: 0.058990393849081564 and parameters: {'alpha': 1.087494858276565, 'tol': 0.003101064650333229}. Best is trial 151 with value: 0.0589901964863823.\n",
      "[I 2025-05-17 03:56:33,108] Trial 173 finished with value: 0.05899060890638474 and parameters: {'alpha': 3.597610903622516, 'tol': 0.003009872373757502}. Best is trial 151 with value: 0.0589901964863823.\n",
      "[I 2025-05-17 03:56:35,854] Trial 174 finished with value: 0.05899023069893536 and parameters: {'alpha': 2.4463656113879617, 'tol': 0.0014881528624284435}. Best is trial 151 with value: 0.0589901964863823.\n",
      "[I 2025-05-17 03:56:37,085] Trial 175 finished with value: 0.058990215427124744 and parameters: {'alpha': 2.3354680144826405, 'tol': 0.0014814340881511999}. Best is trial 151 with value: 0.0589901964863823.\n",
      "[I 2025-05-17 03:56:44,056] Trial 176 finished with value: 0.05899021736994422 and parameters: {'alpha': 2.3515063850751643, 'tol': 0.0011296345907954525}. Best is trial 151 with value: 0.0589901964863823.\n",
      "[I 2025-05-17 03:56:46,821] Trial 177 finished with value: 0.058990211811138095 and parameters: {'alpha': 2.3033461517275513, 'tol': 0.0015692988812347928}. Best is trial 151 with value: 0.0589901964863823.\n",
      "[I 2025-05-17 03:56:48,320] Trial 179 finished with value: 0.05899309571150875 and parameters: {'alpha': 6.90905323762121, 'tol': 0.009114103018797247}. Best is trial 151 with value: 0.0589901964863823.\n",
      "[I 2025-05-17 03:56:50,197] Trial 178 finished with value: 0.05899024185243471 and parameters: {'alpha': 1.55894943681967, 'tol': 0.0015108149621561253}. Best is trial 151 with value: 0.0589901964863823.\n",
      "[I 2025-05-17 03:56:56,456] Trial 180 finished with value: 0.05899032950768222 and parameters: {'alpha': 1.246157698531702, 'tol': 0.0010919199421876085}. Best is trial 151 with value: 0.0589901964863823.\n",
      "[I 2025-05-17 03:56:59,813] Trial 181 finished with value: 0.0589902443565383 and parameters: {'alpha': 1.546744486717048, 'tol': 0.0017916487582834012}. Best is trial 151 with value: 0.0589901964863823.\n",
      "[I 2025-05-17 03:57:01,993] Trial 183 finished with value: 0.05899031433497482 and parameters: {'alpha': 1.2895238665192634, 'tol': 0.001690150657392677}. Best is trial 151 with value: 0.0589901964863823.\n",
      "[I 2025-05-17 03:57:03,228] Trial 182 finished with value: 0.05899041415771338 and parameters: {'alpha': 1.0436519690885955, 'tol': 0.0015700768440963717}. Best is trial 151 with value: 0.0589901964863823.\n",
      "[I 2025-05-17 03:57:10,185] Trial 184 finished with value: 0.0589902426583364 and parameters: {'alpha': 2.5172033120116395, 'tol': 0.004168594554468944}. Best is trial 151 with value: 0.0589901964863823.\n",
      "[I 2025-05-17 03:57:11,729] Trial 185 finished with value: 0.0589902028062277 and parameters: {'alpha': 2.2013250393440837, 'tol': 0.004132871828822911}. Best is trial 151 with value: 0.0589901964863823.\n",
      "[I 2025-05-17 03:57:15,683] Trial 187 finished with value: 0.05899021494435356 and parameters: {'alpha': 2.3313616150183627, 'tol': 0.004232944649591771}. Best is trial 151 with value: 0.0589901964863823.\n",
      "[I 2025-05-17 03:57:15,685] Trial 186 finished with value: 0.058990270689832786 and parameters: {'alpha': 2.6551473764374536, 'tol': 0.003660922636400038}. Best is trial 151 with value: 0.0589901964863823.\n",
      "[I 2025-05-17 03:57:22,638] Trial 188 finished with value: 0.0589902654029982 and parameters: {'alpha': 2.6312874265340973, 'tol': 0.0036220816406866015}. Best is trial 151 with value: 0.0589901964863823.\n",
      "[I 2025-05-17 03:57:26,575] Trial 189 finished with value: 0.058990447522149395 and parameters: {'alpha': 3.226165795632177, 'tol': 0.0037180261476246687}. Best is trial 151 with value: 0.0589901964863823.\n",
      "[I 2025-05-17 03:57:28,062] Trial 190 finished with value: 0.058990198446398384 and parameters: {'alpha': 1.9229699222478698, 'tol': 0.003121013533709421}. Best is trial 151 with value: 0.0589901964863823.\n",
      "[I 2025-05-17 03:57:29,361] Trial 191 finished with value: 0.05899019656313893 and parameters: {'alpha': 2.041050070843659, 'tol': 0.0034984299757505133}. Best is trial 151 with value: 0.0589901964863823.\n",
      "[I 2025-05-17 03:57:35,521] Trial 192 finished with value: 0.05899020588837456 and parameters: {'alpha': 1.807407056886084, 'tol': 0.0068775111094163555}. Best is trial 151 with value: 0.0589901964863823.\n",
      "[I 2025-05-17 03:57:38,313] Trial 193 finished with value: 0.05899024339544422 and parameters: {'alpha': 2.521267565832845, 'tol': 0.005693922873652132}. Best is trial 151 with value: 0.0589901964863823.\n",
      "[I 2025-05-17 03:57:42,340] Trial 194 finished with value: 0.05899023078894992 and parameters: {'alpha': 1.6176999549307205, 'tol': 0.003514750054658135}. Best is trial 151 with value: 0.0589901964863823.\n",
      "[I 2025-05-17 03:57:43,006] Trial 195 finished with value: 0.058990288775879744 and parameters: {'alpha': 1.3701487469331268, 'tol': 0.0027268839941859612}. Best is trial 151 with value: 0.0589901964863823.\n",
      "[I 2025-05-17 03:57:49,186] Trial 196 finished with value: 0.058990539862646574 and parameters: {'alpha': 0.8134716555145332, 'tol': 0.003327353265167034}. Best is trial 151 with value: 0.0589901964863823.\n",
      "[I 2025-05-17 03:57:52,648] Trial 197 finished with value: 0.05899020733230357 and parameters: {'alpha': 1.7917936995844834, 'tol': 0.0027789620707548346}. Best is trial 151 with value: 0.0589901964863823.\n",
      "[I 2025-05-17 03:57:55,383] Trial 198 finished with value: 0.05899019950593739 and parameters: {'alpha': 1.899410316359297, 'tol': 0.002589246939829446}. Best is trial 151 with value: 0.0589901964863823.\n",
      "[I 2025-05-17 03:57:56,665] Trial 199 finished with value: 0.05899067773609035 and parameters: {'alpha': 3.7369055998212186, 'tol': 0.0005502478049703764}. Best is trial 151 with value: 0.0589901964863823.\n",
      "[I 2025-05-17 03:58:02,842] Trial 200 finished with value: 0.05899038103573397 and parameters: {'alpha': 3.043748927956879, 'tol': 0.0024033480538679904}. Best is trial 151 with value: 0.0589901964863823.\n",
      "[I 2025-05-17 03:58:07,597] Trial 201 finished with value: 0.05899037743417095 and parameters: {'alpha': 3.0331076703700948, 'tol': 0.0019722874253150116}. Best is trial 151 with value: 0.0589901964863823.\n",
      "[I 2025-05-17 03:58:09,760] Trial 203 finished with value: 0.05899023933817824 and parameters: {'alpha': 2.4985064866574467, 'tol': 0.0027879224660732616}. Best is trial 151 with value: 0.0589901964863823.\n",
      "[I 2025-05-17 03:58:09,762] Trial 202 finished with value: 0.058990317719925904 and parameters: {'alpha': 2.8403378760082676, 'tol': 0.0029432259054975045}. Best is trial 151 with value: 0.0589901964863823.\n",
      "[I 2025-05-17 03:58:16,534] Trial 204 finished with value: 0.058990198443165595 and parameters: {'alpha': 1.9230506351466612, 'tol': 0.002426004503282778}. Best is trial 151 with value: 0.0589901964863823.\n",
      "[I 2025-05-17 03:58:20,010] Trial 205 finished with value: 0.05899021573284264 and parameters: {'alpha': 2.33804245047983, 'tol': 0.002858774706979452}. Best is trial 151 with value: 0.0589901964863823.\n",
      "[I 2025-05-17 03:58:22,887] Trial 206 finished with value: 0.05899021236136385 and parameters: {'alpha': 1.7444693769003639, 'tol': 0.0028035749484152835}. Best is trial 151 with value: 0.0589901964863823.\n",
      "[I 2025-05-17 03:58:24,829] Trial 207 finished with value: 0.058990219944045984 and parameters: {'alpha': 1.6860517816075722, 'tol': 0.0031618832981509643}. Best is trial 151 with value: 0.0589901964863823.\n",
      "[I 2025-05-17 03:58:29,646] Trial 208 finished with value: 0.05899029052703797 and parameters: {'alpha': 1.364262863440954, 'tol': 0.003634424787217548}. Best is trial 151 with value: 0.0589901964863823.\n",
      "[I 2025-05-17 03:58:33,793] Trial 209 finished with value: 0.05899020585538101 and parameters: {'alpha': 1.8077777426962351, 'tol': 0.0028308041873900624}. Best is trial 151 with value: 0.0589901964863823.\n",
      "[I 2025-05-17 03:58:37,196] Trial 210 finished with value: 0.05899031171419 and parameters: {'alpha': 1.2973196238695746, 'tol': 0.003491286474459697}. Best is trial 151 with value: 0.0589901964863823.\n",
      "[I 2025-05-17 03:58:38,550] Trial 211 finished with value: 0.05899027731473465 and parameters: {'alpha': 1.410262827544325, 'tol': 0.004905074316189063}. Best is trial 151 with value: 0.0589901964863823.\n",
      "[I 2025-05-17 03:58:44,176] Trial 212 finished with value: 0.05899039767145183 and parameters: {'alpha': 1.0790549963591434, 'tol': 0.004573279110551292}. Best is trial 151 with value: 0.0589901964863823.\n",
      "[I 2025-05-17 03:58:48,308] Trial 213 finished with value: 0.058990264269990864 and parameters: {'alpha': 1.4598657418009684, 'tol': 0.00044471806402564045}. Best is trial 151 with value: 0.0589901964863823.\n",
      "[I 2025-05-17 03:58:50,454] Trial 214 finished with value: 0.05899020455549748 and parameters: {'alpha': 1.8229557388699875, 'tol': 0.0010598800638117682}. Best is trial 151 with value: 0.0589901964863823.\n",
      "[I 2025-05-17 03:58:52,507] Trial 215 finished with value: 0.05899019665554095 and parameters: {'alpha': 2.0505760576034433, 'tol': 0.00021286317962340684}. Best is trial 151 with value: 0.0589901964863823.\n",
      "[I 2025-05-17 03:58:57,347] Trial 216 finished with value: 0.058990241127138514 and parameters: {'alpha': 2.5086620261499855, 'tol': 0.0017807774214375384}. Best is trial 151 with value: 0.0589901964863823.\n",
      "[I 2025-05-17 03:59:01,567] Trial 217 finished with value: 0.058990212787571085 and parameters: {'alpha': 2.312350531379093, 'tol': 0.0015719488093208934}. Best is trial 151 with value: 0.0589901964863823.\n",
      "[I 2025-05-17 03:59:04,983] Trial 218 finished with value: 0.05899020290548696 and parameters: {'alpha': 2.202748430154751, 'tol': 0.002036348981126283}. Best is trial 151 with value: 0.0589901964863823.\n",
      "[I 2025-05-17 03:59:06,302] Trial 219 finished with value: 0.05899044716825841 and parameters: {'alpha': 3.225254644602289, 'tol': 8.851057520655953e-05}. Best is trial 151 with value: 0.0589901964863823.\n",
      "[I 2025-05-17 03:59:10,458] Trial 220 finished with value: 0.05899019793892422 and parameters: {'alpha': 1.9365927466496617, 'tol': 0.0004918403210004295}. Best is trial 151 with value: 0.0589901964863823.\n",
      "[I 2025-05-17 03:59:15,290] Trial 221 finished with value: 0.05899019941887562 and parameters: {'alpha': 1.9011684264360158, 'tol': 0.00029248442362731907}. Best is trial 151 with value: 0.0589901964863823.\n",
      "[I 2025-05-17 03:59:18,795] Trial 222 finished with value: 0.058990249035596486 and parameters: {'alpha': 1.524816284576695, 'tol': 2.9753311514466876e-05}. Best is trial 151 with value: 0.0589901964863823.\n",
      "[I 2025-05-17 03:59:19,422] Trial 223 finished with value: 0.058990207398085005 and parameters: {'alpha': 1.7911086811034582, 'tol': 9.262078641606906e-05}. Best is trial 151 with value: 0.0589901964863823.\n",
      "[I 2025-05-17 03:59:24,974] Trial 224 finished with value: 0.058990391450300564 and parameters: {'alpha': 1.0928384911039792, 'tol': 0.0005537948330282261}. Best is trial 151 with value: 0.0589901964863823.\n",
      "[I 2025-05-17 03:59:27,119] Trial 225 finished with value: 0.058990818329198995 and parameters: {'alpha': 0.4403516455429122, 'tol': 8.932777570097063e-05}. Best is trial 151 with value: 0.0589901964863823.\n",
      "[I 2025-05-17 03:59:31,285] Trial 226 finished with value: 0.05899023454618612 and parameters: {'alpha': 1.5967554260449754, 'tol': 0.00020155658244699654}. Best is trial 151 with value: 0.0589901964863823.\n",
      "[I 2025-05-17 03:59:32,599] Trial 227 finished with value: 0.05899029709076709 and parameters: {'alpha': 2.7640920962909714, 'tol': 0.0006762736660782493}. Best is trial 151 with value: 0.0589901964863823.\n",
      "[I 2025-05-17 03:59:38,651] Trial 228 finished with value: 0.05899032101291638 and parameters: {'alpha': 2.8519475746164593, 'tol': 0.00038832548545384544}. Best is trial 151 with value: 0.0589901964863823.\n",
      "[I 2025-05-17 03:59:40,783] Trial 229 finished with value: 0.05899019746632421 and parameters: {'alpha': 1.9516771538852655, 'tol': 0.0003694151389267786}. Best is trial 151 with value: 0.0589901964863823.\n",
      "[I 2025-05-17 03:59:45,066] Trial 230 finished with value: 0.05899023396469238 and parameters: {'alpha': 2.4667351582122996, 'tol': 0.0006103578968953756}. Best is trial 151 with value: 0.0589901964863823.\n",
      "[I 2025-05-17 03:59:46,923] Trial 231 finished with value: 0.058990200798951065 and parameters: {'alpha': 2.169740290469221, 'tol': 0.00028424076894652825}. Best is trial 151 with value: 0.0589901964863823.\n",
      "[I 2025-05-17 03:59:51,801] Trial 232 finished with value: 0.05899032329711941 and parameters: {'alpha': 2.8599197039790036, 'tol': 0.0008223218216024548}. Best is trial 151 with value: 0.0589901964863823.\n",
      "[I 2025-05-17 03:59:53,284] Trial 233 finished with value: 0.058990207208515104 and parameters: {'alpha': 1.7930885871042828, 'tol': 0.00072145286174118}. Best is trial 151 with value: 0.0589901964863823.\n",
      "[I 2025-05-17 03:59:58,774] Trial 234 finished with value: 0.058990302291302775 and parameters: {'alpha': 2.7839342200050483, 'tol': 0.0001237546845794591}. Best is trial 151 with value: 0.0589901964863823.\n",
      "[I 2025-05-17 04:00:00,678] Trial 235 finished with value: 0.058990198261612316 and parameters: {'alpha': 1.9276968589861163, 'tol': 0.0003566345313269349}. Best is trial 151 with value: 0.0589901964863823.\n",
      "[I 2025-05-17 04:00:04,483] Trial 236 finished with value: 0.05899039647686937 and parameters: {'alpha': 1.0816828773445086, 'tol': 0.0013442770533879708}. Best is trial 151 with value: 0.0589901964863823.\n",
      "[I 2025-05-17 04:00:07,976] Trial 237 finished with value: 0.058990199050756274 and parameters: {'alpha': 2.135547658147246, 'tol': 0.00011991882878642425}. Best is trial 151 with value: 0.0589901964863823.\n",
      "[I 2025-05-17 04:00:12,307] Trial 239 finished with value: 0.05899080641614058 and parameters: {'alpha': 0.45395012994979433, 'tol': 0.0012361549763165896}. Best is trial 151 with value: 0.0589901964863823.\n",
      "[I 2025-05-17 04:00:12,310] Trial 238 finished with value: 0.05899041564899392 and parameters: {'alpha': 1.0405254474081451, 'tol': 0.00127532415908057}. Best is trial 151 with value: 0.0589901964863823.\n",
      "[I 2025-05-17 04:00:16,661] Trial 240 finished with value: 0.05899020769860394 and parameters: {'alpha': 2.261952103616437, 'tol': 0.00020678208678656966}. Best is trial 151 with value: 0.0589901964863823.\n",
      "[I 2025-05-17 04:00:20,114] Trial 241 finished with value: 0.05899027481221411 and parameters: {'alpha': 1.4194241341484735, 'tol': 8.114703394834912e-05}. Best is trial 151 with value: 0.0589901964863823.\n",
      "[I 2025-05-17 04:00:25,715] Trial 242 finished with value: 0.05899040038686794 and parameters: {'alpha': 1.0731140688672602, 'tol': 0.0003021531395363066}. Best is trial 151 with value: 0.0589901964863823.\n",
      "[I 2025-05-17 04:00:25,720] Trial 243 finished with value: 0.058990202565634337 and parameters: {'alpha': 2.197828868682083, 'tol': 0.000125643328188885}. Best is trial 151 with value: 0.0589901964863823.\n",
      "[I 2025-05-17 04:00:29,442] Trial 244 finished with value: 0.0589901965041879 and parameters: {'alpha': 2.030876181044481, 'tol': 0.0006197309039976515}. Best is trial 151 with value: 0.0589901964863823.\n",
      "[I 2025-05-17 04:00:32,918] Trial 245 finished with value: 0.058990367288311515 and parameters: {'alpha': 3.0026179283013805, 'tol': 0.0007427551929390644}. Best is trial 151 with value: 0.0589901964863823.\n",
      "[I 2025-05-17 04:00:39,819] Trial 246 finished with value: 0.058990218303304906 and parameters: {'alpha': 2.358956324849248, 'tol': 0.0011184772714827147}. Best is trial 151 with value: 0.0589901964863823.\n",
      "[I 2025-05-17 04:00:39,825] Trial 247 finished with value: 0.05899027998153162 and parameters: {'alpha': 2.695256944689386, 'tol': 0.0010774148636546249}. Best is trial 151 with value: 0.0589901964863823.\n",
      "[I 2025-05-17 04:00:42,597] Trial 248 finished with value: 0.05899059309461799 and parameters: {'alpha': 3.564304400128927, 'tol': 0.00041136795132791005}. Best is trial 151 with value: 0.0589901964863823.\n",
      "[I 2025-05-17 04:00:43,373] Trial 249 finished with value: 0.05899059773469061 and parameters: {'alpha': 3.574134047592474, 'tol': 2.8416537665058004e-05}. Best is trial 151 with value: 0.0589901964863823.\n"
     ]
    }
   ],
   "source": [
    "def objective(trial):    \n",
    "    params = {\n",
    "        \"random_state\": CFG.seed,\n",
    "        \"alpha\": trial.suggest_float(\"alpha\", 0, 10),\n",
    "        \"tol\": trial.suggest_float(\"tol\", 1e-6, 1e-2)\n",
    "    }\n",
    "    \n",
    "    trainer = Trainer(\n",
    "        Ridge(**params),\n",
    "        cv=CFG.cv,\n",
    "        metric=CFG.metric,\n",
    "        task=\"regression\",\n",
    "        verbose=False\n",
    "    )\n",
    "    trainer.fit(X, y)\n",
    "    \n",
    "    return trainer.overall_score\n",
    "\n",
    "if CFG.run_optuna:\n",
    "    sampler = optuna.samplers.TPESampler(seed=CFG.seed, multivariate=True)\n",
    "    study = optuna.create_study(direction=\"minimize\", sampler=sampler)\n",
    "    study.optimize(objective, n_trials=CFG.n_optuna_trials, n_jobs=-1, catch=(ValueError,))\n",
    "    best_params = study.best_params\n",
    "\n",
    "    ridge_params = {\n",
    "        \"random_state\": CFG.seed,\n",
    "        \"alpha\": best_params[\"alpha\"],\n",
    "        \"tol\": best_params[\"tol\"]\n",
    "    }\n",
    "else:\n",
    "    ridge_params = {\n",
    "        \"random_state\": CFG.seed\n",
    "    }"
   ]
  },
  {
   "cell_type": "code",
   "execution_count": 29,
   "id": "01ba0cc2",
   "metadata": {
    "execution": {
     "iopub.execute_input": "2025-05-17T04:00:43.446628Z",
     "iopub.status.busy": "2025-05-17T04:00:43.446292Z",
     "iopub.status.idle": "2025-05-17T04:00:43.451896Z",
     "shell.execute_reply": "2025-05-17T04:00:43.450675Z"
    },
    "papermill": {
     "duration": 0.038529,
     "end_time": "2025-05-17T04:00:43.453368",
     "exception": false,
     "start_time": "2025-05-17T04:00:43.414839",
     "status": "completed"
    },
    "tags": []
   },
   "outputs": [
    {
     "name": "stdout",
     "output_type": "stream",
     "text": [
      "{\n",
      "  \"random_state\": 42,\n",
      "  \"alpha\": 2.0219214481299184,\n",
      "  \"tol\": 0.003824339902373062\n",
      "}\n"
     ]
    }
   ],
   "source": [
    "print(json.dumps(ridge_params, indent=2))"
   ]
  },
  {
   "cell_type": "code",
   "execution_count": 30,
   "id": "c037dffd",
   "metadata": {
    "execution": {
     "iopub.execute_input": "2025-05-17T04:00:43.514229Z",
     "iopub.status.busy": "2025-05-17T04:00:43.513869Z",
     "iopub.status.idle": "2025-05-17T04:00:47.398324Z",
     "shell.execute_reply": "2025-05-17T04:00:47.397305Z"
    },
    "papermill": {
     "duration": 3.916432,
     "end_time": "2025-05-17T04:00:47.399835",
     "exception": false,
     "start_time": "2025-05-17T04:00:43.483403",
     "status": "completed"
    },
    "tags": []
   },
   "outputs": [
    {
     "name": "stdout",
     "output_type": "stream",
     "text": [
      "Training Ridge\n",
      "\n",
      "--- Fold 0 - root_mean_squared_error: 0.0588 - Time: 0.13 s\n",
      "--- Fold 1 - root_mean_squared_error: 0.0595 - Time: 0.13 s\n",
      "--- Fold 2 - root_mean_squared_error: 0.0589 - Time: 0.13 s\n",
      "--- Fold 3 - root_mean_squared_error: 0.0592 - Time: 0.13 s\n",
      "--- Fold 4 - root_mean_squared_error: 0.0585 - Time: 0.14 s\n",
      "\n",
      "------ Overall root_mean_squared_error: 0.0590 - Mean root_mean_squared_error: 0.0590 ± 0.0003 - Time: 3.83 s\n"
     ]
    }
   ],
   "source": [
    "ridge_trainer = Trainer(\n",
    "    Ridge(**ridge_params),\n",
    "    cv=CFG.cv,\n",
    "    metric=CFG.metric,\n",
    "    task=\"regression\"\n",
    ")\n",
    "\n",
    "ridge_trainer.fit(X, y)\n",
    "\n",
    "scores[\"Ridge (ensemble)\"] = ridge_trainer.fold_scores\n",
    "ridge_test_preds = np.expm1(ridge_trainer.predict(X_test))"
   ]
  },
  {
   "cell_type": "code",
   "execution_count": 31,
   "id": "70733e60",
   "metadata": {
    "execution": {
     "iopub.execute_input": "2025-05-17T04:00:47.461335Z",
     "iopub.status.busy": "2025-05-17T04:00:47.460537Z",
     "iopub.status.idle": "2025-05-17T04:00:47.782416Z",
     "shell.execute_reply": "2025-05-17T04:00:47.781522Z"
    },
    "papermill": {
     "duration": 0.354207,
     "end_time": "2025-05-17T04:00:47.783967",
     "exception": false,
     "start_time": "2025-05-17T04:00:47.429760",
     "status": "completed"
    },
    "tags": []
   },
   "outputs": [
    {
     "data": {
      "image/png": "[encoded data removed]",
      "text/plain": [
       "<Figure size 1000x400 with 1 Axes>"
      ]
     },
     "metadata": {},
     "output_type": "display_data"
    }
   ],
   "source": [
    "ridge_coeffs = np.zeros((1, X.shape[1]))\n",
    "for m in ridge_trainer.estimators:\n",
    "    ridge_coeffs += m.coef_\n",
    "ridge_coeffs = ridge_coeffs / len(ridge_trainer.estimators)\n",
    "\n",
    "plot_weights(ridge_coeffs, \"Ridge Coefficients\")"
   ]
  },
  {
   "cell_type": "markdown",
   "id": "722c3287",
   "metadata": {
    "papermill": {
     "duration": 0.030741,
     "end_time": "2025-05-17T04:00:47.846726",
     "exception": false,
     "start_time": "2025-05-17T04:00:47.815985",
     "status": "completed"
    },
    "tags": []
   },
   "source": [
    "# Submission"
   ]
  },
  {
   "cell_type": "code",
   "execution_count": 32,
   "id": "305ec292",
   "metadata": {
    "execution": {
     "iopub.execute_input": "2025-05-17T04:00:47.908817Z",
     "iopub.status.busy": "2025-05-17T04:00:47.908517Z",
     "iopub.status.idle": "2025-05-17T04:00:48.600060Z",
     "shell.execute_reply": "2025-05-17T04:00:48.598700Z"
    },
    "papermill": {
     "duration": 0.725064,
     "end_time": "2025-05-17T04:00:48.601965",
     "exception": false,
     "start_time": "2025-05-17T04:00:47.876901",
     "status": "completed"
    },
    "tags": []
   },
   "outputs": [
    {
     "data": {
      "text/html": [
       "<div>\n",
       "<style scoped>\n",
       "    .dataframe tbody tr th:only-of-type {\n",
       "        vertical-align: middle;\n",
       "    }\n",
       "\n",
       "    .dataframe tbody tr th {\n",
       "        vertical-align: top;\n",
       "    }\n",
       "\n",
       "    .dataframe thead th {\n",
       "        text-align: right;\n",
       "    }\n",
       "</style>\n",
       "<table border=\"1\" class=\"dataframe\">\n",
       "  <thead>\n",
       "    <tr style=\"text-align: right;\">\n",
       "      <th></th>\n",
       "      <th>id</th>\n",
       "      <th>Calories</th>\n",
       "    </tr>\n",
       "  </thead>\n",
       "  <tbody>\n",
       "    <tr>\n",
       "      <th>0</th>\n",
       "      <td>750000</td>\n",
       "      <td>27.226734</td>\n",
       "    </tr>\n",
       "    <tr>\n",
       "      <th>1</th>\n",
       "      <td>750001</td>\n",
       "      <td>107.682816</td>\n",
       "    </tr>\n",
       "    <tr>\n",
       "      <th>2</th>\n",
       "      <td>750002</td>\n",
       "      <td>87.157550</td>\n",
       "    </tr>\n",
       "    <tr>\n",
       "      <th>3</th>\n",
       "      <td>750003</td>\n",
       "      <td>125.780160</td>\n",
       "    </tr>\n",
       "    <tr>\n",
       "      <th>4</th>\n",
       "      <td>750004</td>\n",
       "      <td>76.006610</td>\n",
       "    </tr>\n",
       "  </tbody>\n",
       "</table>\n",
       "</div>"
      ],
      "text/plain": [
       "       id    Calories\n",
       "0  750000   27.226734\n",
       "1  750001  107.682816\n",
       "2  750002   87.157550\n",
       "3  750003  125.780160\n",
       "4  750004   76.006610"
      ]
     },
     "execution_count": 32,
     "metadata": {},
     "output_type": "execute_result"
    }
   ],
   "source": [
    "sub = pd.read_csv(CFG.sample_sub_path)\n",
    "sub[CFG.target] = ridge_test_preds\n",
    "sub.to_csv(f\"sub_ridge_{np.mean(scores['Ridge (ensemble)']):.6f}.csv\", index=False)\n",
    "sub.head()"
   ]
  },
  {
   "cell_type": "markdown",
   "id": "0bb40398",
   "metadata": {
    "papermill": {
     "duration": 0.031744,
     "end_time": "2025-05-17T04:00:48.667269",
     "exception": false,
     "start_time": "2025-05-17T04:00:48.635525",
     "status": "completed"
    },
    "tags": []
   },
   "source": [
    "# Results"
   ]
  },
  {
   "cell_type": "code",
   "execution_count": 33,
   "id": "494d2756",
   "metadata": {
    "execution": {
     "iopub.execute_input": "2025-05-17T04:00:48.731870Z",
     "iopub.status.busy": "2025-05-17T04:00:48.731532Z",
     "iopub.status.idle": "2025-05-17T04:00:49.354191Z",
     "shell.execute_reply": "2025-05-17T04:00:49.353006Z"
    },
    "papermill": {
     "duration": 0.657358,
     "end_time": "2025-05-17T04:00:49.355877",
     "exception": false,
     "start_time": "2025-05-17T04:00:48.698519",
     "status": "completed"
    },
    "tags": []
   },
   "outputs": [
    {
     "data": {
      "image/png": "[encoded data removed]",
      "text/plain": [
       "<Figure size 1500x270 with 2 Axes>"
      ]
     },
     "metadata": {},
     "output_type": "display_data"
    }
   ],
   "source": [
    "scores = pd.DataFrame(scores)\n",
    "mean_scores = scores.mean().sort_values(ascending=True)\n",
    "order = scores.mean().sort_values(ascending=True).index.tolist()\n",
    "\n",
    "min_score = mean_scores.min()\n",
    "max_score = mean_scores.max()\n",
    "padding = (max_score - min_score) * 0.5\n",
    "lower_limit = min_score - padding\n",
    "upper_limit = max_score + padding\n",
    "\n",
    "fig, axs = plt.subplots(1, 2, figsize=(15, scores.shape[1] * 0.3))\n",
    "\n",
    "boxplot = sns.boxplot(data=scores, order=order, ax=axs[0], orient=\"h\", color=\"grey\")\n",
    "axs[0].set_title(f\"Fold {CFG.metric.__name__}\")\n",
    "axs[0].set_xlabel(\"\")\n",
    "axs[0].set_ylabel(\"\")\n",
    "\n",
    "barplot = sns.barplot(x=mean_scores.values, y=mean_scores.index, ax=axs[1], color=\"grey\")\n",
    "axs[1].set_title(f\"Average {CFG.metric.__name__}\")\n",
    "axs[1].set_xlabel(\"\")\n",
    "axs[1].set_xlim(left=lower_limit, right=upper_limit)\n",
    "axs[1].set_ylabel(\"\")\n",
    "\n",
    "for i, (score, model) in enumerate(zip(mean_scores.values, mean_scores.index)):\n",
    "    color = \"cyan\" if \"ensemble\" in model.lower() else \"grey\"\n",
    "    barplot.patches[i].set_facecolor(color)\n",
    "    boxplot.patches[i].set_facecolor(color)\n",
    "    barplot.text(score, i, round(score, 6), va=\"center\")\n",
    "\n",
    "plt.tight_layout()\n",
    "plt.show()"
   ]
  },
  {
   "cell_type": "code",
   "execution_count": 34,
   "id": "463ab0dd",
   "metadata": {
    "execution": {
     "iopub.execute_input": "2025-05-17T04:00:49.423088Z",
     "iopub.status.busy": "2025-05-17T04:00:49.422747Z",
     "iopub.status.idle": "2025-05-17T04:00:49.429067Z",
     "shell.execute_reply": "2025-05-17T04:00:49.427999Z"
    },
    "papermill": {
     "duration": 0.041718,
     "end_time": "2025-05-17T04:00:49.431395",
     "exception": false,
     "start_time": "2025-05-17T04:00:49.389677",
     "status": "completed"
    },
    "tags": []
   },
   "outputs": [],
   "source": [
    "shutil.rmtree(\"catboost_info\", ignore_errors=True)"
   ]
  }
 ],
 "metadata": {
  "kaggle": {
   "accelerator": "none",
   "dataSources": [
    {
     "databundleVersionId": 11893428,
     "sourceId": 91716,
     "sourceType": "competition"
    },
    {
     "datasetId": 6512323,
     "sourceId": 10522392,
     "sourceType": "datasetVersion"
    },
    {
     "sourceId": 237456322,
     "sourceType": "kernelVersion"
    }
   ],
   "dockerImageVersionId": 31012,
   "isGpuEnabled": false,
   "isInternetEnabled": true,
   "language": "python",
   "sourceType": "notebook"
  },
  "kernelspec": {
   "display_name": "Python 3",
   "language": "python",
   "name": "python3"
  },
  "language_info": {
   "codemirror_mode": {
    "name": "ipython",
    "version": 3
   },
   "file_extension": ".py",
   "mimetype": "text/x-python",
   "name": "python",
   "nbconvert_exporter": "python",
   "pygments_lexer": "ipython3",
   "version": "3.11.11"
  },
  "papermill": {
   "default_parameters": {},
   "duration": 6745.645333,
   "end_time": "2025-05-17T04:00:53.123596",
   "environment_variables": {},
   "exception": null,
   "input_path": "__notebook__.ipynb",
   "output_path": "__notebook__.ipynb",
   "parameters": {},
   "start_time": "2025-05-17T02:08:27.478263",
   "version": "2.6.0"
  }
 },
 "nbformat": 4,
 "nbformat_minor": 5
}
